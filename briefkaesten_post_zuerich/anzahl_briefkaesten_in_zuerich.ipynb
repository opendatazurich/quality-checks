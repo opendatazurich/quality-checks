{
 "cells": [
  {
   "cell_type": "markdown",
   "id": "70027e4e",
   "metadata": {},
   "source": [
    "# Test Anzahl Briefkästen in der Stadt Zürich \n",
    "Datum: 21.07.2021\n",
    "\n",
    "Im Rahmen der Zahl der Woche suchen wir für den «Welttag des Briefschreibens» die aktuelle Anzahl der Briefkästen in der Stadt Zürich.\n",
    "Dazu wollen wir den [Open-Data-Katalog der Post](https://swisspost.opendatasoft.com/pages/home/) verwenden.\n",
    "\n",
    "Interessant für unsere Fragestellung scheint der Datensatz «[Zugangspunkte Post](https://swisspost.opendatasoft.com/explore/dataset/zugangspunkte-post/information/)» zu sein. Dieser Datensatz enthält Informationen zu **postalischen Dienstleistungen** und den **Zugangspunkten** der Post. \n",
    "\n",
    "\n",
    "\n",
    "\n",
    "<!---  \n",
    "Dieses Notebook verwendet als Vorlage die Webseite «[Kitas in Berlin - Jupyter Notebook](https://juanitorduz.github.io/kitas_berlin/)» \n",
    "---!>\n",
    "\n",
    "Mit Colab kann **dieses Jupyter-Notebook interaktiv im Browser** gestartet werden:\n",
    "[![Open In Colab](https://colab.research.google.com/assets/colab-badge.svg)](https://colab.research.google.com/github/DonGoginho/myPy_RIS_API/blob/main/RIS_API_AL_Geschaefte.ipynb)\n"
   ]
  },
  {
   "cell_type": "markdown",
   "id": "aa61dce6",
   "metadata": {},
   "source": [
    "**Inhaltsverzeichnis:**\n",
    "\n",
    "1. [Daten importieren](#LiesDatenein)\n",
    "2. [Daten prüfen](#)\n",
    "3. [Daten analysieren](#Explorative_Analyse)\n",
    "\n"
   ]
  },
  {
   "cell_type": "code",
   "execution_count": 1,
   "id": "187d0f2e",
   "metadata": {},
   "outputs": [
    {
     "name": "stdout",
     "output_type": "stream",
     "text": [
      "Requirement already satisfied: geopandas in c:\\users\\sszsim\\appdata\\local\\continuum\\anaconda3\\lib\\site-packages (0.8.1)\n",
      "Requirement already satisfied: fiona in c:\\users\\sszsim\\appdata\\local\\continuum\\anaconda3\\lib\\site-packages (1.8.13.post1)\n",
      "Requirement already satisfied: requests in c:\\users\\sszsim\\appdata\\local\\continuum\\anaconda3\\lib\\site-packages (2.25.1)\n",
      "Requirement already satisfied: folium in c:\\users\\sszsim\\appdata\\local\\continuum\\anaconda3\\lib\\site-packages (0.9.1)\n",
      "Requirement already satisfied: mplleaflet in c:\\users\\sszsim\\appdata\\local\\continuum\\anaconda3\\lib\\site-packages (0.0.5)\n",
      "Requirement already satisfied: contextily in c:\\users\\sszsim\\appdata\\local\\continuum\\anaconda3\\lib\\site-packages (1.1.0)\n",
      "Requirement already satisfied: geopy in c:\\users\\sszsim\\appdata\\local\\continuum\\anaconda3\\lib\\site-packages (from contextily) (2.2.0)\n",
      "Requirement already satisfied: pillow in c:\\users\\sszsim\\appdata\\local\\continuum\\anaconda3\\lib\\site-packages (from contextily) (8.2.0)\n",
      "Requirement already satisfied: rasterio in c:\\users\\sszsim\\appdata\\local\\continuum\\anaconda3\\lib\\site-packages (from contextily) (1.1.0)\n",
      "Requirement already satisfied: mercantile in c:\\users\\sszsim\\appdata\\local\\continuum\\anaconda3\\lib\\site-packages (from contextily) (1.2.1)\n",
      "Requirement already satisfied: joblib in c:\\users\\sszsim\\appdata\\local\\continuum\\anaconda3\\lib\\site-packages (from contextily) (1.0.1)\n",
      "Requirement already satisfied: matplotlib in c:\\users\\sszsim\\appdata\\local\\continuum\\anaconda3\\lib\\site-packages (from contextily) (3.3.4)\n",
      "Requirement already satisfied: attrs>=17 in c:\\users\\sszsim\\appdata\\local\\continuum\\anaconda3\\lib\\site-packages (from fiona) (20.3.0)\n",
      "Requirement already satisfied: click<8,>=4.0 in c:\\users\\sszsim\\appdata\\local\\continuum\\anaconda3\\lib\\site-packages (from fiona) (7.1.2)\n",
      "Requirement already satisfied: cligj>=0.5 in c:\\users\\sszsim\\appdata\\local\\continuum\\anaconda3\\lib\\site-packages (from fiona) (0.7.1)\n",
      "Requirement already satisfied: click-plugins>=1.0 in c:\\users\\sszsim\\appdata\\local\\continuum\\anaconda3\\lib\\site-packages (from fiona) (1.1.1)\n",
      "Requirement already satisfied: six>=1.7 in c:\\users\\sszsim\\appdata\\local\\continuum\\anaconda3\\lib\\site-packages (from fiona) (1.15.0)\n",
      "Requirement already satisfied: munch in c:\\users\\sszsim\\appdata\\local\\continuum\\anaconda3\\lib\\site-packages (from fiona) (2.5.0)\n",
      "Requirement already satisfied: branca>=0.3.0 in c:\\users\\sszsim\\appdata\\local\\continuum\\anaconda3\\lib\\site-packages (from folium) (0.3.1)\n",
      "Requirement already satisfied: jinja2>=2.9 in c:\\users\\sszsim\\appdata\\local\\continuum\\anaconda3\\lib\\site-packages (from folium) (2.11.3)\n",
      "Requirement already satisfied: numpy in c:\\users\\sszsim\\appdata\\local\\continuum\\anaconda3\\lib\\site-packages (from folium) (1.19.2)\n",
      "Requirement already satisfied: MarkupSafe>=0.23 in c:\\users\\sszsim\\appdata\\local\\continuum\\anaconda3\\lib\\site-packages (from jinja2>=2.9->folium) (1.1.1)\n",
      "Requirement already satisfied: pandas>=0.23.0 in c:\\users\\sszsim\\appdata\\local\\continuum\\anaconda3\\lib\\site-packages (from geopandas) (1.2.3)\n",
      "Requirement already satisfied: pyproj>=2.2.0 in c:\\users\\sszsim\\appdata\\local\\continuum\\anaconda3\\lib\\site-packages (from geopandas) (2.6.1.post1)\n",
      "Requirement already satisfied: shapely in c:\\users\\sszsim\\appdata\\local\\continuum\\anaconda3\\lib\\site-packages (from geopandas) (1.7.1)\n",
      "Requirement already satisfied: python-dateutil>=2.7.3 in c:\\users\\sszsim\\appdata\\local\\continuum\\anaconda3\\lib\\site-packages (from pandas>=0.23.0->geopandas) (2.8.1)\n",
      "Requirement already satisfied: pytz>=2017.3 in c:\\users\\sszsim\\appdata\\local\\continuum\\anaconda3\\lib\\site-packages (from pandas>=0.23.0->geopandas) (2021.1)\n",
      "Requirement already satisfied: certifi>=2017.4.17 in c:\\users\\sszsim\\appdata\\local\\continuum\\anaconda3\\lib\\site-packages (from requests) (2021.5.30)\n",
      "Requirement already satisfied: idna<3,>=2.5 in c:\\users\\sszsim\\appdata\\local\\continuum\\anaconda3\\lib\\site-packages (from requests) (2.10)\n",
      "Requirement already satisfied: urllib3<1.27,>=1.21.1 in c:\\users\\sszsim\\appdata\\local\\continuum\\anaconda3\\lib\\site-packages (from requests) (1.26.4)\n",
      "Requirement already satisfied: chardet<5,>=3.0.2 in c:\\users\\sszsim\\appdata\\local\\continuum\\anaconda3\\lib\\site-packages (from requests) (4.0.0)\n",
      "Requirement already satisfied: geographiclib<2,>=1.49 in c:\\users\\sszsim\\appdata\\local\\continuum\\anaconda3\\lib\\site-packages (from geopy->contextily) (1.52)\n",
      "Requirement already satisfied: cycler>=0.10 in c:\\users\\sszsim\\appdata\\local\\continuum\\anaconda3\\lib\\site-packages (from matplotlib->contextily) (0.10.0)\n",
      "Requirement already satisfied: kiwisolver>=1.0.1 in c:\\users\\sszsim\\appdata\\local\\continuum\\anaconda3\\lib\\site-packages (from matplotlib->contextily) (1.3.1)\n",
      "Requirement already satisfied: pyparsing!=2.0.4,!=2.1.2,!=2.1.6,>=2.0.3 in c:\\users\\sszsim\\appdata\\local\\continuum\\anaconda3\\lib\\site-packages (from matplotlib->contextily) (2.4.7)\n",
      "Requirement already satisfied: affine in c:\\users\\sszsim\\appdata\\local\\continuum\\anaconda3\\lib\\site-packages (from rasterio->contextily) (2.3.0)\n",
      "Requirement already satisfied: snuggs>=1.4.1 in c:\\users\\sszsim\\appdata\\local\\continuum\\anaconda3\\lib\\site-packages (from rasterio->contextily) (1.4.7)\n",
      "Note: you may need to restart the kernel to use updated packages.\n"
     ]
    }
   ],
   "source": [
    "%pip install geopandas fiona requests folium mplleaflet contextily"
   ]
  },
  {
   "cell_type": "markdown",
   "id": "12185eac",
   "metadata": {},
   "source": [
    "## Importiere notwendige Packages:"
   ]
  },
  {
   "cell_type": "code",
   "execution_count": 2,
   "id": "97cc704f",
   "metadata": {},
   "outputs": [],
   "source": [
    "import numpy as np\n",
    "import pandas as pd\n",
    "import geopandas as gpd\n",
    "import fiona; \n",
    "import mplleaflet\n",
    "import matplotlib.pyplot as plt\n",
    "import matplotlib.ticker as mtick\n",
    "import seaborn as sns\n",
    "sns.set_style(\n",
    "    style='darkgrid', \n",
    "    rc={'axes.facecolor': '.9', 'grid.color': '.8'}\n",
    ")\n",
    "sns.set_palette(palette='deep')\n",
    "sns_c = sns.color_palette(palette='deep')\n",
    "%matplotlib inline\n",
    "from pandas.plotting import register_matplotlib_converters\n",
    "register_matplotlib_converters()\n",
    "\n",
    "plt.rcParams['figure.figsize'] = [10, 6]\n",
    "plt.rcParams['figure.dpi'] = 100\n",
    "\n",
    "pd.options.display.float_format = '{:.0f}'.format\n",
    "#pd.set_option('display.width', 100)\n",
    "#pd.set_option('display.max_columns', 15)"
   ]
  },
  {
   "cell_type": "markdown",
   "id": "6b532b08",
   "metadata": {},
   "source": [
    "## Lies Daten ein\n"
   ]
  },
  {
   "cell_type": "markdown",
   "id": "25fe46bd",
   "metadata": {},
   "source": [
    "Die Daten der Zugangspunkte der Post können entweder als [csv oder json-Datei heruntergeladen](https://swisspost.opendatasoft.com/explore/dataset/zugangspunkte-post/export/) oder per [API-request](https://swisspost.opendatasoft.com/explore/dataset/zugangspunkte-post/api/) abgefragt werden.\n",
    "\n",
    "Wir schauen uns hier mal beide Möglichkeiten an."
   ]
  },
  {
   "cell_type": "markdown",
   "id": "74c0d9d7",
   "metadata": {},
   "source": [
    "### Importiere den aktuellsten Bestand der Zugangspunkte direkt als CSV oder als JSON vom Datenkatalog\n",
    "\n",
    "Lade entsprechend den Datensatz via [Export](https://swisspost.opendatasoft.com/explore/dataset/zugangspunkte-post/export/) vom Datenkatalog herunter.\n",
    "\n",
    "Hier ist jedoch der Nachteil, dass ein gesamtschweizierischer Datensatz mit allen Themen herunter geladen werden muss. Uns interessieren ja eigentlich nur die Briefkästen der Stadt Zürich...\n",
    "\n",
    "\n",
    "\n"
   ]
  },
  {
   "cell_type": "code",
   "execution_count": 21,
   "id": "8893c59b",
   "metadata": {},
   "outputs": [
    {
     "data": {
      "text/html": [
       "<div>\n",
       "<style scoped>\n",
       "    .dataframe tbody tr th:only-of-type {\n",
       "        vertical-align: middle;\n",
       "    }\n",
       "\n",
       "    .dataframe tbody tr th {\n",
       "        vertical-align: top;\n",
       "    }\n",
       "\n",
       "    .dataframe thead th {\n",
       "        text-align: right;\n",
       "    }\n",
       "</style>\n",
       "<table border=\"1\" class=\"dataframe\">\n",
       "  <thead>\n",
       "    <tr style=\"text-align: right;\">\n",
       "      <th></th>\n",
       "      <th>Id</th>\n",
       "      <th>POITypeId</th>\n",
       "      <th>POIName_de</th>\n",
       "      <th>address_city</th>\n",
       "      <th>address_kantoncode</th>\n",
       "      <th>address_zip</th>\n",
       "      <th>address_countrycode</th>\n",
       "      <th>address_street</th>\n",
       "      <th>address_technicalplz6</th>\n",
       "      <th>address_gemeindeid</th>\n",
       "      <th>...</th>\n",
       "      <th>OfferPackage</th>\n",
       "      <th>OpeningHoursEvent</th>\n",
       "      <th>AccessInformation</th>\n",
       "      <th>service_servicetypeid</th>\n",
       "      <th>poityp_de</th>\n",
       "      <th>Verarbeitung_de</th>\n",
       "      <th>groupename_de</th>\n",
       "      <th>service_de</th>\n",
       "      <th>url_de</th>\n",
       "      <th>urlmobil_de</th>\n",
       "    </tr>\n",
       "  </thead>\n",
       "  <tbody>\n",
       "    <tr>\n",
       "      <th>0</th>\n",
       "      <td>001PST_001114475</td>\n",
       "      <td>001PST</td>\n",
       "      <td>Post Filiale 1084 Carrouge VD</td>\n",
       "      <td>Carrouge VD</td>\n",
       "      <td>VD</td>\n",
       "      <td>1084</td>\n",
       "      <td>CH</td>\n",
       "      <td>Route du Village 33</td>\n",
       "      <td>108400</td>\n",
       "      <td>5806</td>\n",
       "      <td>...</td>\n",
       "      <td>[{\"@OfferPackageId\": \"001BRPA\"}, {\"@OfferPacka...</td>\n",
       "      <td>NaN</td>\n",
       "      <td>NaN</td>\n",
       "      <td>001800008</td>\n",
       "      <td>Filiale</td>\n",
       "      <td>kleinere Mengen Briefe und Pakete/Sperrgut</td>\n",
       "      <td>Zahlungsverkehr</td>\n",
       "      <td>Bargeldbezug</td>\n",
       "      <td>NaN</td>\n",
       "      <td>NaN</td>\n",
       "    </tr>\n",
       "    <tr>\n",
       "      <th>1</th>\n",
       "      <td>001PST_001114478</td>\n",
       "      <td>001PST</td>\n",
       "      <td>Post Filiale 1033 Cheseaux-sur-Lausanne</td>\n",
       "      <td>Cheseaux-sur-Lausanne</td>\n",
       "      <td>VD</td>\n",
       "      <td>1033</td>\n",
       "      <td>CH</td>\n",
       "      <td>Route d'Yverdon 5</td>\n",
       "      <td>103300</td>\n",
       "      <td>5582</td>\n",
       "      <td>...</td>\n",
       "      <td>[{\"@OfferPackageId\": \"001BRPA\"}, {\"@OfferPacka...</td>\n",
       "      <td>NaN</td>\n",
       "      <td>NaN</td>\n",
       "      <td>001134032</td>\n",
       "      <td>Filiale</td>\n",
       "      <td>kleinere Mengen Briefe und Pakete/Sperrgut</td>\n",
       "      <td>Briefe und Pakete</td>\n",
       "      <td>PickPost</td>\n",
       "      <td>http://www.post.ch/pickpost</td>\n",
       "      <td>http://www.post.ch/pickpost</td>\n",
       "    </tr>\n",
       "  </tbody>\n",
       "</table>\n",
       "<p>2 rows × 23 columns</p>\n",
       "</div>"
      ],
      "text/plain": [
       "                 Id POITypeId                               POIName_de  \\\n",
       "0  001PST_001114475    001PST            Post Filiale 1084 Carrouge VD   \n",
       "1  001PST_001114478    001PST  Post Filiale 1033 Cheseaux-sur-Lausanne   \n",
       "\n",
       "            address_city address_kantoncode  address_zip address_countrycode  \\\n",
       "0            Carrouge VD                 VD         1084                  CH   \n",
       "1  Cheseaux-sur-Lausanne                 VD         1033                  CH   \n",
       "\n",
       "        address_street  address_technicalplz6  address_gemeindeid  ...  \\\n",
       "0  Route du Village 33                 108400                5806  ...   \n",
       "1    Route d'Yverdon 5                 103300                5582  ...   \n",
       "\n",
       "                                        OfferPackage OpeningHoursEvent  \\\n",
       "0  [{\"@OfferPackageId\": \"001BRPA\"}, {\"@OfferPacka...               NaN   \n",
       "1  [{\"@OfferPackageId\": \"001BRPA\"}, {\"@OfferPacka...               NaN   \n",
       "\n",
       "  AccessInformation service_servicetypeid poityp_de  \\\n",
       "0               NaN             001800008   Filiale   \n",
       "1               NaN             001134032   Filiale   \n",
       "\n",
       "                              Verarbeitung_de      groupename_de  \\\n",
       "0  kleinere Mengen Briefe und Pakete/Sperrgut    Zahlungsverkehr   \n",
       "1  kleinere Mengen Briefe und Pakete/Sperrgut  Briefe und Pakete   \n",
       "\n",
       "     service_de                       url_de                  urlmobil_de  \n",
       "0  Bargeldbezug                          NaN                          NaN  \n",
       "1      PickPost  http://www.post.ch/pickpost  http://www.post.ch/pickpost  \n",
       "\n",
       "[2 rows x 23 columns]"
      ]
     },
     "execution_count": 21,
     "metadata": {},
     "output_type": "execute_result"
    }
   ],
   "source": [
    "#Direkter csv-Import\n",
    "\n",
    "csv_url = \"https://swisspost.opendatasoft.com/explore/dataset/zugangspunkte-post/download/?format=csv&timezone=Europe/Berlin&lang=de&use_labels_for_header=true&csv_separator=%3B\"\n",
    "\n",
    "df_zugangspunkte_post  = pd.read_csv(\n",
    "    csv_url, \n",
    "    sep=';',\n",
    "    usecols=[\"Id\", \"loc\", \"x\",'POITypeId','POIName_de','address_city', 'address_kantoncode', 'address_zip','address_countrycode',\n",
    "             'address_street', 'address_technicalplz6','address_gemeindeid', 'geopoint','pickuptime_description_de', 'AdditionalDescription', 'OfferPackage', 'OpeningHoursEvent', 'AccessInformation', 'service_servicetypeid',\n",
    "       'poityp_de', 'Verarbeitung_de', 'groupename_de','service_de', 'url_de', 'urlmobil_de']\n",
    "   #names=['stationid','year','month','avgtemp','latitude','longitude','elevation','station','countryid','country'],\n",
    "   #skiprows=1,\n",
    "   # parse_dates=[0],\n",
    "    parse_dates=True,\n",
    "    #date_parser=lambda x: pd.to_datetime(x, format=\"%Y\"), \n",
    "    #index_col=\"date_time\",\n",
    "    low_memory=False    \n",
    "    )\n",
    "\n",
    "df_zugangspunkte_post.head(2)\n"
   ]
  },
  {
   "cell_type": "code",
   "execution_count": 43,
   "id": "c8fbee7c",
   "metadata": {},
   "outputs": [
    {
     "name": "stdout",
     "output_type": "stream",
     "text": [
      "<class 'pandas.core.frame.DataFrame'>\n",
      "RangeIndex: 89853 entries, 0 to 89852\n",
      "Data columns (total 23 columns):\n",
      " #   Column                     Non-Null Count  Dtype  \n",
      "---  ------                     --------------  -----  \n",
      " 0   Id                         89853 non-null  object \n",
      " 1   POITypeId                  89853 non-null  object \n",
      " 2   POIName_de                 89853 non-null  object \n",
      " 3   address_city               89853 non-null  object \n",
      " 4   address_kantoncode         89853 non-null  object \n",
      " 5   address_zip                89853 non-null  int64  \n",
      " 6   address_countrycode        89853 non-null  object \n",
      " 7   address_street             75401 non-null  object \n",
      " 8   address_technicalplz6      71785 non-null  float64\n",
      " 9   address_gemeindeid         89853 non-null  int64  \n",
      " 10  geopoint                   89842 non-null  object \n",
      " 11  pickuptime_description_de  32272 non-null  object \n",
      " 12  AdditionalDescription      16233 non-null  object \n",
      " 13  OfferPackage               71512 non-null  object \n",
      " 14  OpeningHoursEvent          9903 non-null   object \n",
      " 15  AccessInformation          16098 non-null  object \n",
      " 16  service_servicetypeid      75054 non-null  object \n",
      " 17  poityp_de                  89853 non-null  object \n",
      " 18  Verarbeitung_de            32924 non-null  object \n",
      " 19  groupename_de              75054 non-null  object \n",
      " 20  service_de                 75054 non-null  object \n",
      " 21  url_de                     17337 non-null  object \n",
      " 22  urlmobil_de                17337 non-null  object \n",
      "dtypes: float64(1), int64(2), object(20)\n",
      "memory usage: 15.8+ MB\n"
     ]
    }
   ],
   "source": [
    "df_zugangspunkte_post.info()\n",
    "#df_zugangspunkte_post.columns\n"
   ]
  },
  {
   "cell_type": "markdown",
   "id": "02b8d476",
   "metadata": {},
   "source": [
    "Speichere das csv auf Grund seiner Grösse lokal ab"
   ]
  },
  {
   "cell_type": "code",
   "execution_count": 23,
   "id": "ee9ce3e8",
   "metadata": {},
   "outputs": [
    {
     "name": "stdout",
     "output_type": "stream",
     "text": [
      "done\n"
     ]
    }
   ],
   "source": [
    "df_zugangspunkte_post.to_csv(\"//szh.loc/ssz/users/sszsim/Dokumente/myPy/anfragen/briefkaesten_post_zuerich/download/zugangspunkte_post.csv\")\n",
    "print('done')"
   ]
  },
  {
   "cell_type": "markdown",
   "id": "0e7f24a3",
   "metadata": {},
   "source": [
    "### Auswahl der Briefkästen in Zürich aus allen Zugangspunkten \n",
    "\n",
    "Query nur jene, dem `poityp_de == \"Briefeinwurf\"` in der Stadt Zürich (`address_gemeindeid == 261`) vorkommen.\n",
    "\n"
   ]
  },
  {
   "cell_type": "code",
   "execution_count": 35,
   "id": "8784b347",
   "metadata": {},
   "outputs": [
    {
     "data": {
      "text/plain": [
       "Index(['Id', 'POITypeId', 'POIName_de', 'address_city', 'address_kantoncode',\n",
       "       'address_zip', 'address_countrycode', 'address_street',\n",
       "       'address_technicalplz6', 'address_gemeindeid', 'geopoint',\n",
       "       'pickuptime_description_de', 'AdditionalDescription', 'OfferPackage',\n",
       "       'OpeningHoursEvent', 'AccessInformation', 'service_servicetypeid',\n",
       "       'poityp_de', 'Verarbeitung_de', 'groupename_de', 'service_de', 'url_de',\n",
       "       'urlmobil_de'],\n",
       "      dtype='object')"
      ]
     },
     "execution_count": 35,
     "metadata": {},
     "output_type": "execute_result"
    }
   ],
   "source": [
    "df_briefkaesten_zuerich_all = df_zugangspunkte_post.query('poityp_de ==\"Briefeinwurf\" & address_gemeindeid == 261')\n",
    "df_briefkaesten_zuerich_all.columns\n",
    "#df_briefkaesten_zuerich.head(2)"
   ]
  },
  {
   "cell_type": "markdown",
   "id": "dbce44b8",
   "metadata": {},
   "source": [
    "Verwende nur die relevanten Attribute"
   ]
  },
  {
   "cell_type": "markdown",
   "id": "e0f82d87",
   "metadata": {},
   "source": [
    "Speichere die Datei als csv ab"
   ]
  },
  {
   "cell_type": "code",
   "execution_count": 73,
   "id": "fa7029d0",
   "metadata": {},
   "outputs": [],
   "source": [
    "#geometry=\"POINT(\"+df_briefkaesten_zuerich_all['geopoint']+\")\"\n"
   ]
  },
  {
   "cell_type": "code",
   "execution_count": 75,
   "id": "e087cfe1",
   "metadata": {},
   "outputs": [
    {
     "data": {
      "text/html": [
       "<div>\n",
       "<style scoped>\n",
       "    .dataframe tbody tr th:only-of-type {\n",
       "        vertical-align: middle;\n",
       "    }\n",
       "\n",
       "    .dataframe tbody tr th {\n",
       "        vertical-align: top;\n",
       "    }\n",
       "\n",
       "    .dataframe thead th {\n",
       "        text-align: right;\n",
       "    }\n",
       "</style>\n",
       "<table border=\"1\" class=\"dataframe\">\n",
       "  <thead>\n",
       "    <tr style=\"text-align: right;\">\n",
       "      <th></th>\n",
       "      <th>Id</th>\n",
       "      <th>POITypeId</th>\n",
       "      <th>POIName_de</th>\n",
       "      <th>address_city</th>\n",
       "      <th>address_kantoncode</th>\n",
       "      <th>address_zip</th>\n",
       "      <th>address_countrycode</th>\n",
       "      <th>address_street</th>\n",
       "      <th>address_gemeindeid</th>\n",
       "      <th>geopoint</th>\n",
       "      <th>poityp_de</th>\n",
       "    </tr>\n",
       "  </thead>\n",
       "  <tbody>\n",
       "    <tr>\n",
       "      <th>17829</th>\n",
       "      <td>003BE_00325052</td>\n",
       "      <td>003BE</td>\n",
       "      <td>Briefeinwurf Zürich, BE Bushaltestelle Glaubte...</td>\n",
       "      <td>Zürich</td>\n",
       "      <td>ZH</td>\n",
       "      <td>8046</td>\n",
       "      <td>CH</td>\n",
       "      <td>Wehntalerstrasse 374</td>\n",
       "      <td>261</td>\n",
       "      <td>47.41407433,8.52014398</td>\n",
       "      <td>Briefeinwurf</td>\n",
       "    </tr>\n",
       "    <tr>\n",
       "      <th>18493</th>\n",
       "      <td>003BE_00324763</td>\n",
       "      <td>003BE</td>\n",
       "      <td>Briefeinwurf Zürich, Bleicherweg</td>\n",
       "      <td>Zürich</td>\n",
       "      <td>ZH</td>\n",
       "      <td>8002</td>\n",
       "      <td>CH</td>\n",
       "      <td>Bleicherweg 19</td>\n",
       "      <td>261</td>\n",
       "      <td>47.36781255,8.53569237</td>\n",
       "      <td>Briefeinwurf</td>\n",
       "    </tr>\n",
       "  </tbody>\n",
       "</table>\n",
       "</div>"
      ],
      "text/plain": [
       "                   Id POITypeId  \\\n",
       "17829  003BE_00325052     003BE   \n",
       "18493  003BE_00324763     003BE   \n",
       "\n",
       "                                              POIName_de address_city  \\\n",
       "17829  Briefeinwurf Zürich, BE Bushaltestelle Glaubte...       Zürich   \n",
       "18493                   Briefeinwurf Zürich, Bleicherweg       Zürich   \n",
       "\n",
       "      address_kantoncode  address_zip address_countrycode  \\\n",
       "17829                 ZH         8046                  CH   \n",
       "18493                 ZH         8002                  CH   \n",
       "\n",
       "             address_street  address_gemeindeid                geopoint  \\\n",
       "17829  Wehntalerstrasse 374                 261  47.41407433,8.52014398   \n",
       "18493        Bleicherweg 19                 261  47.36781255,8.53569237   \n",
       "\n",
       "          poityp_de  \n",
       "17829  Briefeinwurf  \n",
       "18493  Briefeinwurf  "
      ]
     },
     "execution_count": 75,
     "metadata": {},
     "output_type": "execute_result"
    }
   ],
   "source": [
    "df_briefkaesten_zuerich = df_briefkaesten_zuerich_all[['Id', 'POITypeId', 'POIName_de', 'address_city', 'address_kantoncode',\n",
    "       'address_zip', 'address_countrycode', 'address_street', 'address_gemeindeid', 'geopoint','poityp_de']]\n",
    "df_briefkaesten_zuerich.head(2)"
   ]
  },
  {
   "cell_type": "code",
   "execution_count": 103,
   "id": "79ccc678",
   "metadata": {},
   "outputs": [],
   "source": [
    "df_briefkaesten_zuerich.to_csv(\"//szh.loc/ssz/users/sszsim/Dokumente/myPy/anfragen/briefkaesten_post_zuerich/output/df_briefkaesten_zuerich.csv\")"
   ]
  },
  {
   "cell_type": "code",
   "execution_count": 105,
   "id": "4639b3af",
   "metadata": {},
   "outputs": [
    {
     "name": "stdout",
     "output_type": "stream",
     "text": [
      "<class 'pandas.core.frame.DataFrame'>\n",
      "Int64Index: 475 entries, 17829 to 86448\n",
      "Data columns (total 11 columns):\n",
      " #   Column               Non-Null Count  Dtype \n",
      "---  ------               --------------  ----- \n",
      " 0   Id                   475 non-null    object\n",
      " 1   POITypeId            475 non-null    object\n",
      " 2   POIName_de           475 non-null    object\n",
      " 3   address_city         475 non-null    object\n",
      " 4   address_kantoncode   475 non-null    object\n",
      " 5   address_zip          475 non-null    int64 \n",
      " 6   address_countrycode  475 non-null    object\n",
      " 7   address_street       475 non-null    object\n",
      " 8   address_gemeindeid   475 non-null    int64 \n",
      " 9   geopoint             475 non-null    object\n",
      " 10  poityp_de            475 non-null    object\n",
      "dtypes: int64(2), object(9)\n",
      "memory usage: 44.5+ KB\n"
     ]
    }
   ],
   "source": [
    "df_briefkaesten_zuerich.info()"
   ]
  },
  {
   "cell_type": "markdown",
   "id": "00308dea",
   "metadata": {},
   "source": [
    "### Importiere die Briefkästen der Stadt Zürich in GeoPandas\n",
    "\n",
    "\n",
    "\n"
   ]
  },
  {
   "cell_type": "markdown",
   "id": "f7098064",
   "metadata": {},
   "source": [
    "Unschön im csv ist, dass das Koordinatenpaar `geopoint` nicht in einem WKT-Format (also POINT(X,Y) ) vorhanden ist und Geopandas das csv daher nicht direkt einlesen kann... Man könnte nun ein neues Attribut erstellen mit der korrekten Schreibweise, z.B. die Variabel `geometry=\"POINT(\"+df_briefkaesten_zuerich['geopoint']+\")\" `\n",
    "Aber das ist etwas umständlich... wir welchseln hier dann wohl besser von Anfang an auf GeoJSON."
   ]
  },
  {
   "cell_type": "code",
   "execution_count": 94,
   "id": "6fa004db",
   "metadata": {},
   "outputs": [],
   "source": [
    "#gdf_briefkaesten_zuerich = gpd.GeoDataFrame(df_briefkaesten_zuerich, geometry=\"POINT(\"+df_briefkaesten_zuerich['geopoint']+\")\")\n",
    "#gdf_briefkaesten_zuerich"
   ]
  },
  {
   "cell_type": "markdown",
   "id": "996227d6",
   "metadata": {},
   "source": [
    "Den Datendownlaod gibt es aber auch als Geodatensätze... als GeoJSON und als Shapefile. Daher lesen wir hier nun mal GeoJSON ein und machen anschliessend nochmals die Selektion."
   ]
  },
  {
   "cell_type": "code",
   "execution_count": 98,
   "id": "a00fc87b",
   "metadata": {},
   "outputs": [
    {
     "name": "stdout",
     "output_type": "stream",
     "text": [
      "done\n"
     ]
    }
   ],
   "source": [
    "url_geojson = \"https://swisspost.opendatasoft.com/explore/dataset/zugangspunkte-post/download/?format=geojson&timezone=Europe/Berlin&lang=de\"\n",
    "\n",
    "gdf_briefkaesten_geojson = gpd.read_file(url_geojson,\n",
    "                                         ignore_fields=['pickuptime_description_en','receipttype_de','groupename_de ', 'receipttype_fr', 'poityp_fr', 'description_fr', 'service_en','pickuptime_description_it', 'poityp_it', 'additionaldescription',\n",
    "       'address_technicalplz6', 'pickuptime_time', 'contact_email_addresse_en', 'groupename_fr',\n",
    "       'contact_fax', 'service_fr', 'contact_email_addresse_it', 'receipttype_en', 'description_en',\n",
    "       'description_it', 'poitypeid', 'offerpackage', 'service_servicetypeid', 'contact_email_addresse_fr',\n",
    "       'groupename_en', 'groupename_it', 'contact_phone', 'receipttype_it', 'pickuptime_description_de', 'pickuptime_description_fr',\n",
    "       'contact_email_addresse_de', 'service_it', 'url_fr', 'url_it', 'url_de',\n",
    "       'urlmobil_fr', 'urlmobil_de', 'forbusinesscustomer', 'urlmobil_it',\n",
    "       'forprivatecustomer', 'urlmobil_en', 'url_en', 'accessinformation',\n",
    "       'openinghoursevent'],\n",
    "                                        )\n",
    "print('done')\n",
    "\n"
   ]
  },
  {
   "cell_type": "code",
   "execution_count": 99,
   "id": "90a5018c",
   "metadata": {},
   "outputs": [
    {
     "data": {
      "text/html": [
       "<div>\n",
       "<style scoped>\n",
       "    .dataframe tbody tr th:only-of-type {\n",
       "        vertical-align: middle;\n",
       "    }\n",
       "\n",
       "    .dataframe tbody tr th {\n",
       "        vertical-align: top;\n",
       "    }\n",
       "\n",
       "    .dataframe thead th {\n",
       "        text-align: right;\n",
       "    }\n",
       "</style>\n",
       "<table border=\"1\" class=\"dataframe\">\n",
       "  <thead>\n",
       "    <tr style=\"text-align: right;\">\n",
       "      <th></th>\n",
       "      <th>description_de</th>\n",
       "      <th>address_street</th>\n",
       "      <th>id</th>\n",
       "      <th>poityp_en</th>\n",
       "      <th>address_kantoncode</th>\n",
       "      <th>groupename_de</th>\n",
       "      <th>address_zip</th>\n",
       "      <th>address_gemeindeid</th>\n",
       "      <th>address_countrycode</th>\n",
       "      <th>service_de</th>\n",
       "      <th>address_city</th>\n",
       "      <th>poityp_de</th>\n",
       "      <th>geometry</th>\n",
       "    </tr>\n",
       "  </thead>\n",
       "  <tbody>\n",
       "    <tr>\n",
       "      <th>0</th>\n",
       "      <td>Post Filiale 1084 Carrouge VD</td>\n",
       "      <td>Route du Village 33</td>\n",
       "      <td>001PST_001114475</td>\n",
       "      <td>Branch</td>\n",
       "      <td>VD</td>\n",
       "      <td>Zahlungsverkehr</td>\n",
       "      <td>1084</td>\n",
       "      <td>5806</td>\n",
       "      <td>CH</td>\n",
       "      <td>Bargeldbezug</td>\n",
       "      <td>Carrouge VD</td>\n",
       "      <td>Filiale</td>\n",
       "      <td>POINT (6.77612 46.60509)</td>\n",
       "    </tr>\n",
       "    <tr>\n",
       "      <th>1</th>\n",
       "      <td>Post Filiale 1033 Cheseaux-sur-Lausanne</td>\n",
       "      <td>Route d'Yverdon 5</td>\n",
       "      <td>001PST_001114478</td>\n",
       "      <td>Branch</td>\n",
       "      <td>VD</td>\n",
       "      <td>Briefe und Pakete</td>\n",
       "      <td>1033</td>\n",
       "      <td>5582</td>\n",
       "      <td>CH</td>\n",
       "      <td>PickPost</td>\n",
       "      <td>Cheseaux-sur-Lausanne</td>\n",
       "      <td>Filiale</td>\n",
       "      <td>POINT (6.60541 46.58641)</td>\n",
       "    </tr>\n",
       "  </tbody>\n",
       "</table>\n",
       "</div>"
      ],
      "text/plain": [
       "                            description_de       address_street  \\\n",
       "0            Post Filiale 1084 Carrouge VD  Route du Village 33   \n",
       "1  Post Filiale 1033 Cheseaux-sur-Lausanne    Route d'Yverdon 5   \n",
       "\n",
       "                 id poityp_en address_kantoncode      groupename_de  \\\n",
       "0  001PST_001114475    Branch                 VD    Zahlungsverkehr   \n",
       "1  001PST_001114478    Branch                 VD  Briefe und Pakete   \n",
       "\n",
       "  address_zip address_gemeindeid address_countrycode    service_de  \\\n",
       "0        1084               5806                  CH  Bargeldbezug   \n",
       "1        1033               5582                  CH      PickPost   \n",
       "\n",
       "            address_city poityp_de                  geometry  \n",
       "0            Carrouge VD   Filiale  POINT (6.77612 46.60509)  \n",
       "1  Cheseaux-sur-Lausanne   Filiale  POINT (6.60541 46.58641)  "
      ]
     },
     "execution_count": 99,
     "metadata": {},
     "output_type": "execute_result"
    }
   ],
   "source": [
    "gdf_briefkaesten_geojson.head(2)\n"
   ]
  },
  {
   "cell_type": "code",
   "execution_count": 100,
   "id": "dd75eb45",
   "metadata": {},
   "outputs": [
    {
     "name": "stdout",
     "output_type": "stream",
     "text": [
      "<class 'geopandas.geodataframe.GeoDataFrame'>\n",
      "Int64Index: 475 entries, 17829 to 86448\n",
      "Data columns (total 13 columns):\n",
      " #   Column               Non-Null Count  Dtype   \n",
      "---  ------               --------------  -----   \n",
      " 0   description_de       475 non-null    object  \n",
      " 1   address_street       475 non-null    object  \n",
      " 2   id                   475 non-null    object  \n",
      " 3   poityp_en            475 non-null    object  \n",
      " 4   address_kantoncode   475 non-null    object  \n",
      " 5   groupename_de        0 non-null      object  \n",
      " 6   address_zip          475 non-null    object  \n",
      " 7   address_gemeindeid   475 non-null    object  \n",
      " 8   address_countrycode  475 non-null    object  \n",
      " 9   service_de           0 non-null      object  \n",
      " 10  address_city         475 non-null    object  \n",
      " 11  poityp_de            475 non-null    object  \n",
      " 12  geometry             475 non-null    geometry\n",
      "dtypes: geometry(1), object(12)\n",
      "memory usage: 52.0+ KB\n"
     ]
    }
   ],
   "source": [
    "gdf_briefkaesten_geojson_zuerich = gdf_briefkaesten_geojson.query('poityp_de ==\"Briefeinwurf\" & address_gemeindeid == \"261\"')\n",
    "#gdf_briefkaesten_geojson_zuerich.head(2)\n",
    "gdf_briefkaesten_geojson_zuerich.info()"
   ]
  },
  {
   "cell_type": "markdown",
   "id": "a1c6df65",
   "metadata": {},
   "source": [
    "Speichere den Datensatz der Briefkästen der Stadt Zürich als GeoJSON ab"
   ]
  },
  {
   "cell_type": "code",
   "execution_count": 101,
   "id": "c89af52b",
   "metadata": {},
   "outputs": [],
   "source": [
    "gdf_briefkaesten_geojson_zuerich.to_file(\"//szh.loc/ssz/users/sszsim/Dokumente/myPy/anfragen/briefkaesten_post_zuerich/output/gdf_briefkaesten_geojson_zuerich.geojson\", driver='GeoJSON')"
   ]
  },
  {
   "cell_type": "code",
   "execution_count": 102,
   "id": "c71853b6",
   "metadata": {},
   "outputs": [
    {
     "data": {
      "text/plain": [
       "<AxesSubplot:>"
      ]
     },
     "execution_count": 102,
     "metadata": {},
     "output_type": "execute_result"
    },
    {
     "data": {
      "image/png": "[encoded data removed]",
      "text/plain": [
       "<Figure size 1000x600 with 1 Axes>"
      ]
     },
     "metadata": {
      "needs_background": "light"
     },
     "output_type": "display_data"
    }
   ],
   "source": [
    "gdf_briefkaesten_geojson_zuerich.plot()"
   ]
  },
  {
   "cell_type": "code",
   "execution_count": null,
   "id": "128e9b72",
   "metadata": {},
   "outputs": [],
   "source": []
  },
  {
   "cell_type": "code",
   "execution_count": 46,
   "id": "ecde20dc",
   "metadata": {},
   "outputs": [],
   "source": [
    "# Read abt. Geopandas https://geopandas.org/docs/user_guide/io.html"
   ]
  },
  {
   "cell_type": "markdown",
   "id": "e0d82c55",
   "metadata": {},
   "source": [
    "## Explorative_Analyse\n",
    "One of the main objectives of this notebook is to do an exploratory data analysis to understand which questions this data set can answer. In addition, also determine its limitations. \n",
    "\n",
    "To begin, let us get the number of unique values per feature.\n"
   ]
  },
  {
   "cell_type": "code",
   "execution_count": 120,
   "id": "d14a1dbf",
   "metadata": {},
   "outputs": [
    {
     "data": {
      "text/html": [
       "<div>\n",
       "<style scoped>\n",
       "    .dataframe tbody tr th:only-of-type {\n",
       "        vertical-align: middle;\n",
       "    }\n",
       "\n",
       "    .dataframe tbody tr th {\n",
       "        vertical-align: top;\n",
       "    }\n",
       "\n",
       "    .dataframe thead th {\n",
       "        text-align: right;\n",
       "    }\n",
       "</style>\n",
       "<table border=\"1\" class=\"dataframe\">\n",
       "  <thead>\n",
       "    <tr style=\"text-align: right;\">\n",
       "      <th></th>\n",
       "      <th>Id</th>\n",
       "      <th>POITypeId</th>\n",
       "      <th>POIName_de</th>\n",
       "      <th>address_city</th>\n",
       "      <th>address_kantoncode</th>\n",
       "      <th>address_zip</th>\n",
       "      <th>address_countrycode</th>\n",
       "      <th>address_street</th>\n",
       "      <th>address_gemeindeid</th>\n",
       "      <th>geopoint</th>\n",
       "      <th>poityp_de</th>\n",
       "    </tr>\n",
       "  </thead>\n",
       "  <tbody>\n",
       "    <tr>\n",
       "      <th>17829</th>\n",
       "      <td>003BE_00325052</td>\n",
       "      <td>003BE</td>\n",
       "      <td>Briefeinwurf Zürich, BE Bushaltestelle Glaubte...</td>\n",
       "      <td>Zürich</td>\n",
       "      <td>ZH</td>\n",
       "      <td>8046</td>\n",
       "      <td>CH</td>\n",
       "      <td>Wehntalerstrasse 374</td>\n",
       "      <td>261</td>\n",
       "      <td>47.41407433,8.52014398</td>\n",
       "      <td>Briefeinwurf</td>\n",
       "    </tr>\n",
       "    <tr>\n",
       "      <th>18493</th>\n",
       "      <td>003BE_00324763</td>\n",
       "      <td>003BE</td>\n",
       "      <td>Briefeinwurf Zürich, Bleicherweg</td>\n",
       "      <td>Zürich</td>\n",
       "      <td>ZH</td>\n",
       "      <td>8002</td>\n",
       "      <td>CH</td>\n",
       "      <td>Bleicherweg 19</td>\n",
       "      <td>261</td>\n",
       "      <td>47.36781255,8.53569237</td>\n",
       "      <td>Briefeinwurf</td>\n",
       "    </tr>\n",
       "  </tbody>\n",
       "</table>\n",
       "</div>"
      ],
      "text/plain": [
       "                   Id POITypeId  \\\n",
       "17829  003BE_00325052     003BE   \n",
       "18493  003BE_00324763     003BE   \n",
       "\n",
       "                                              POIName_de address_city  \\\n",
       "17829  Briefeinwurf Zürich, BE Bushaltestelle Glaubte...       Zürich   \n",
       "18493                   Briefeinwurf Zürich, Bleicherweg       Zürich   \n",
       "\n",
       "      address_kantoncode  address_zip address_countrycode  \\\n",
       "17829                 ZH         8046                  CH   \n",
       "18493                 ZH         8002                  CH   \n",
       "\n",
       "             address_street  address_gemeindeid                geopoint  \\\n",
       "17829  Wehntalerstrasse 374                 261  47.41407433,8.52014398   \n",
       "18493        Bleicherweg 19                 261  47.36781255,8.53569237   \n",
       "\n",
       "          poityp_de  \n",
       "17829  Briefeinwurf  \n",
       "18493  Briefeinwurf  "
      ]
     },
     "execution_count": 120,
     "metadata": {},
     "output_type": "execute_result"
    }
   ],
   "source": [
    "df_briefkaesten_zuerich.head(2)"
   ]
  },
  {
   "cell_type": "code",
   "execution_count": 106,
   "id": "6e20421f",
   "metadata": {},
   "outputs": [
    {
     "data": {
      "text/plain": [
       "Id                     475\n",
       "POITypeId                1\n",
       "POIName_de             427\n",
       "address_city             1\n",
       "address_kantoncode       1\n",
       "address_zip             24\n",
       "address_countrycode      1\n",
       "address_street         451\n",
       "address_gemeindeid       1\n",
       "geopoint               468\n",
       "poityp_de                1\n",
       "dtype: int64"
      ]
     },
     "execution_count": 106,
     "metadata": {},
     "output_type": "execute_result"
    }
   ],
   "source": [
    "df_briefkaesten_zuerich.apply(lambda x: x.unique().size, axis=0)\n"
   ]
  },
  {
   "cell_type": "markdown",
   "id": "6ec909b4",
   "metadata": {},
   "source": [
    "In welcher PLZ gibt es am meisten Briefkästen?"
   ]
  },
  {
   "cell_type": "code",
   "execution_count": 119,
   "id": "79994bc3",
   "metadata": {},
   "outputs": [
    {
     "data": {
      "text/html": [
       "<div>\n",
       "<style scoped>\n",
       "    .dataframe tbody tr th:only-of-type {\n",
       "        vertical-align: middle;\n",
       "    }\n",
       "\n",
       "    .dataframe tbody tr th {\n",
       "        vertical-align: top;\n",
       "    }\n",
       "\n",
       "    .dataframe thead th {\n",
       "        text-align: right;\n",
       "    }\n",
       "</style>\n",
       "<table border=\"1\" class=\"dataframe\">\n",
       "  <thead>\n",
       "    <tr style=\"text-align: right;\">\n",
       "      <th></th>\n",
       "      <th>anz_briefkaesten</th>\n",
       "    </tr>\n",
       "    <tr>\n",
       "      <th>address_zip</th>\n",
       "      <th></th>\n",
       "    </tr>\n",
       "  </thead>\n",
       "  <tbody>\n",
       "    <tr>\n",
       "      <th>8001</th>\n",
       "      <td>41</td>\n",
       "    </tr>\n",
       "    <tr>\n",
       "      <th>8006</th>\n",
       "      <td>30</td>\n",
       "    </tr>\n",
       "    <tr>\n",
       "      <th>8032</th>\n",
       "      <td>29</td>\n",
       "    </tr>\n",
       "    <tr>\n",
       "      <th>8008</th>\n",
       "      <td>29</td>\n",
       "    </tr>\n",
       "    <tr>\n",
       "      <th>8050</th>\n",
       "      <td>29</td>\n",
       "    </tr>\n",
       "    <tr>\n",
       "      <th>8004</th>\n",
       "      <td>27</td>\n",
       "    </tr>\n",
       "    <tr>\n",
       "      <th>8048</th>\n",
       "      <td>26</td>\n",
       "    </tr>\n",
       "    <tr>\n",
       "      <th>8049</th>\n",
       "      <td>24</td>\n",
       "    </tr>\n",
       "    <tr>\n",
       "      <th>8057</th>\n",
       "      <td>22</td>\n",
       "    </tr>\n",
       "    <tr>\n",
       "      <th>8037</th>\n",
       "      <td>21</td>\n",
       "    </tr>\n",
       "    <tr>\n",
       "      <th>8002</th>\n",
       "      <td>21</td>\n",
       "    </tr>\n",
       "    <tr>\n",
       "      <th>8038</th>\n",
       "      <td>20</td>\n",
       "    </tr>\n",
       "    <tr>\n",
       "      <th>8005</th>\n",
       "      <td>19</td>\n",
       "    </tr>\n",
       "    <tr>\n",
       "      <th>8051</th>\n",
       "      <td>18</td>\n",
       "    </tr>\n",
       "    <tr>\n",
       "      <th>8046</th>\n",
       "      <td>18</td>\n",
       "    </tr>\n",
       "    <tr>\n",
       "      <th>8044</th>\n",
       "      <td>17</td>\n",
       "    </tr>\n",
       "    <tr>\n",
       "      <th>8047</th>\n",
       "      <td>15</td>\n",
       "    </tr>\n",
       "    <tr>\n",
       "      <th>8055</th>\n",
       "      <td>14</td>\n",
       "    </tr>\n",
       "    <tr>\n",
       "      <th>8045</th>\n",
       "      <td>13</td>\n",
       "    </tr>\n",
       "    <tr>\n",
       "      <th>8052</th>\n",
       "      <td>11</td>\n",
       "    </tr>\n",
       "    <tr>\n",
       "      <th>8003</th>\n",
       "      <td>11</td>\n",
       "    </tr>\n",
       "    <tr>\n",
       "      <th>8053</th>\n",
       "      <td>9</td>\n",
       "    </tr>\n",
       "    <tr>\n",
       "      <th>8041</th>\n",
       "      <td>8</td>\n",
       "    </tr>\n",
       "    <tr>\n",
       "      <th>8064</th>\n",
       "      <td>3</td>\n",
       "    </tr>\n",
       "  </tbody>\n",
       "</table>\n",
       "</div>"
      ],
      "text/plain": [
       "             anz_briefkaesten\n",
       "address_zip                  \n",
       "8001                       41\n",
       "8006                       30\n",
       "8032                       29\n",
       "8008                       29\n",
       "8050                       29\n",
       "8004                       27\n",
       "8048                       26\n",
       "8049                       24\n",
       "8057                       22\n",
       "8037                       21\n",
       "8002                       21\n",
       "8038                       20\n",
       "8005                       19\n",
       "8051                       18\n",
       "8046                       18\n",
       "8044                       17\n",
       "8047                       15\n",
       "8055                       14\n",
       "8045                       13\n",
       "8052                       11\n",
       "8003                       11\n",
       "8053                        9\n",
       "8041                        8\n",
       "8064                        3"
      ]
     },
     "execution_count": 119,
     "metadata": {},
     "output_type": "execute_result"
    }
   ],
   "source": [
    " #   .query('kategorie == \"Parkbaum\"') \\\n",
    "#    .agg(anz_baeume=('objid', 'count'), anz_kinder_va_sk=('objid', 'sum')) \\\n",
    "df_briefkaesten_zuerich \\\n",
    "    .groupby(['address_zip' ]) \\\n",
    "    .agg(anz_briefkaesten=('Id', 'count')) \\\n",
    "    .sort_values('anz_briefkaesten', ascending=False) \\\n",
    "    .head(500)\n"
   ]
  },
  {
   "cell_type": "code",
   "execution_count": 114,
   "id": "61a8dbfc",
   "metadata": {},
   "outputs": [
    {
     "data": {
      "text/html": [
       "<div>\n",
       "<style scoped>\n",
       "    .dataframe tbody tr th:only-of-type {\n",
       "        vertical-align: middle;\n",
       "    }\n",
       "\n",
       "    .dataframe tbody tr th {\n",
       "        vertical-align: top;\n",
       "    }\n",
       "\n",
       "    .dataframe thead th {\n",
       "        text-align: right;\n",
       "    }\n",
       "</style>\n",
       "<table border=\"1\" class=\"dataframe\">\n",
       "  <thead>\n",
       "    <tr style=\"text-align: right;\">\n",
       "      <th></th>\n",
       "      <th></th>\n",
       "      <th>anz_briefkaesten</th>\n",
       "    </tr>\n",
       "    <tr>\n",
       "      <th>address_zip</th>\n",
       "      <th>POIName_de</th>\n",
       "      <th></th>\n",
       "    </tr>\n",
       "  </thead>\n",
       "  <tbody>\n",
       "    <tr>\n",
       "      <th rowspan=\"5\" valign=\"top\">8001</th>\n",
       "      <th>Briefeinwurf Zürich, BE Standseilbahn Bergstation</th>\n",
       "      <td>1</td>\n",
       "    </tr>\n",
       "    <tr>\n",
       "      <th>Briefeinwurf Zürich, Löwenstrasse</th>\n",
       "      <td>1</td>\n",
       "    </tr>\n",
       "    <tr>\n",
       "      <th>Briefeinwurf Zürich, Mühlegasse</th>\n",
       "      <td>1</td>\n",
       "    </tr>\n",
       "    <tr>\n",
       "      <th>Briefeinwurf Zürich, Paradeplatz</th>\n",
       "      <td>2</td>\n",
       "    </tr>\n",
       "    <tr>\n",
       "      <th>Briefeinwurf Zürich, Passage Löwenstrasse</th>\n",
       "      <td>1</td>\n",
       "    </tr>\n",
       "    <tr>\n",
       "      <th>...</th>\n",
       "      <th>...</th>\n",
       "      <td>...</td>\n",
       "    </tr>\n",
       "    <tr>\n",
       "      <th rowspan=\"2\" valign=\"top\">8057</th>\n",
       "      <th>Briefeinwurf Zürich, Birchstrasse</th>\n",
       "      <td>1</td>\n",
       "    </tr>\n",
       "    <tr>\n",
       "      <th>Briefeinwurf Zürich, Milchbuckstrasse</th>\n",
       "      <td>1</td>\n",
       "    </tr>\n",
       "    <tr>\n",
       "      <th rowspan=\"3\" valign=\"top\">8064</th>\n",
       "      <th>Briefeinwurf Zürich, Tramendhaltestelle Werdhölzli</th>\n",
       "      <td>1</td>\n",
       "    </tr>\n",
       "    <tr>\n",
       "      <th>Briefeinwurf Zürich, Altersheim</th>\n",
       "      <td>1</td>\n",
       "    </tr>\n",
       "    <tr>\n",
       "      <th>Briefeinwurf Zürich, Tramhaltestelle Tüffenwies</th>\n",
       "      <td>1</td>\n",
       "    </tr>\n",
       "  </tbody>\n",
       "</table>\n",
       "<p>432 rows × 1 columns</p>\n",
       "</div>"
      ],
      "text/plain": [
       "                                                                anz_briefkaesten\n",
       "address_zip POIName_de                                                          \n",
       "8001        Briefeinwurf Zürich, BE Standseilbahn Bergstation                  1\n",
       "            Briefeinwurf Zürich, Löwenstrasse                                  1\n",
       "            Briefeinwurf Zürich, Mühlegasse                                    1\n",
       "            Briefeinwurf Zürich, Paradeplatz                                   2\n",
       "            Briefeinwurf Zürich, Passage Löwenstrasse                          1\n",
       "...                                                                          ...\n",
       "8057        Briefeinwurf Zürich, Birchstrasse                                  1\n",
       "            Briefeinwurf Zürich, Milchbuckstrasse                              1\n",
       "8064        Briefeinwurf Zürich, Tramendhaltestelle Werdhölzli                 1\n",
       "            Briefeinwurf Zürich, Altersheim                                    1\n",
       "            Briefeinwurf Zürich, Tramhaltestelle Tüffenwies                    1\n",
       "\n",
       "[432 rows x 1 columns]"
      ]
     },
     "execution_count": 114,
     "metadata": {},
     "output_type": "execute_result"
    }
   ],
   "source": [
    "df_briefkaesten_zuerich \\\n",
    "    .groupby(['address_zip','POIName_de' ]) \\\n",
    "    .agg(anz_briefkaesten=('Id', 'count')) \\\n",
    "    .sort_values('address_zip', ascending=True) \\\n",
    "    .head(500)\n"
   ]
  },
  {
   "cell_type": "code",
   "execution_count": null,
   "id": "5564e645",
   "metadata": {},
   "outputs": [],
   "source": []
  },
  {
   "cell_type": "markdown",
   "id": "fb502365",
   "metadata": {},
   "source": [
    "Welche Baumart ist bei den Parkbäumen die Häufigste?"
   ]
  },
  {
   "cell_type": "code",
   "execution_count": 16,
   "id": "ca216001",
   "metadata": {},
   "outputs": [
    {
     "data": {
      "text/html": [
       "<div>\n",
       "<style scoped>\n",
       "    .dataframe tbody tr th:only-of-type {\n",
       "        vertical-align: middle;\n",
       "    }\n",
       "\n",
       "    .dataframe tbody tr th {\n",
       "        vertical-align: top;\n",
       "    }\n",
       "\n",
       "    .dataframe thead th {\n",
       "        text-align: right;\n",
       "    }\n",
       "</style>\n",
       "<table border=\"1\" class=\"dataframe\">\n",
       "  <thead>\n",
       "    <tr style=\"text-align: right;\">\n",
       "      <th></th>\n",
       "      <th></th>\n",
       "      <th></th>\n",
       "      <th></th>\n",
       "      <th></th>\n",
       "      <th></th>\n",
       "      <th>anz_baeume</th>\n",
       "    </tr>\n",
       "    <tr>\n",
       "      <th>kategorie</th>\n",
       "      <th>status</th>\n",
       "      <th>baumgattunglat</th>\n",
       "      <th>baumartlat</th>\n",
       "      <th>baumnamelat</th>\n",
       "      <th>baumnamedeu</th>\n",
       "      <th></th>\n",
       "    </tr>\n",
       "  </thead>\n",
       "  <tbody>\n",
       "    <tr>\n",
       "      <th rowspan=\"10\" valign=\"top\">Parkbaum</th>\n",
       "      <th rowspan=\"3\" valign=\"top\">Grünanlage</th>\n",
       "      <th>Carpinus</th>\n",
       "      <th>betulus</th>\n",
       "      <th>Carpinus betulus</th>\n",
       "      <th>Gemeine Hain- oder Weissbuche</th>\n",
       "      <td>3130</td>\n",
       "    </tr>\n",
       "    <tr>\n",
       "      <th>Taxus</th>\n",
       "      <th>baccata</th>\n",
       "      <th>Taxus baccata</th>\n",
       "      <th>Eibe, Gewöhnliche Eibe</th>\n",
       "      <td>2107</td>\n",
       "    </tr>\n",
       "    <tr>\n",
       "      <th>Pinus</th>\n",
       "      <th>sylvestris</th>\n",
       "      <th>Pinus sylvestris</th>\n",
       "      <th>Gewöhnlicher Kiefer, Wald-Kiefer, Föhre</th>\n",
       "      <td>1807</td>\n",
       "    </tr>\n",
       "    <tr>\n",
       "      <th>Obst</th>\n",
       "      <th>Malus</th>\n",
       "      <th>domestica</th>\n",
       "      <th>Malus domestica cv.</th>\n",
       "      <th>Apfel-Obstgehölz, Sorte unbekannt</th>\n",
       "      <td>1661</td>\n",
       "    </tr>\n",
       "    <tr>\n",
       "      <th rowspan=\"6\" valign=\"top\">Grünanlage</th>\n",
       "      <th>Acer</th>\n",
       "      <th>campestre</th>\n",
       "      <th>Acer campestre</th>\n",
       "      <th>Feld-Ahorn, Hecken-Ahorn</th>\n",
       "      <td>1639</td>\n",
       "    </tr>\n",
       "    <tr>\n",
       "      <th>Betula</th>\n",
       "      <th>pendula</th>\n",
       "      <th>Betula pendula</th>\n",
       "      <th>Sand-Birke, Weiss-Birke</th>\n",
       "      <td>1600</td>\n",
       "    </tr>\n",
       "    <tr>\n",
       "      <th>Fraxinus</th>\n",
       "      <th>excelsior</th>\n",
       "      <th>Fraxinus excelsior</th>\n",
       "      <th>Gemeine Esche</th>\n",
       "      <td>1581</td>\n",
       "    </tr>\n",
       "    <tr>\n",
       "      <th>Acer</th>\n",
       "      <th>platanoides</th>\n",
       "      <th>Acer platanoides</th>\n",
       "      <th>Spitz-Ahorn</th>\n",
       "      <td>1514</td>\n",
       "    </tr>\n",
       "    <tr>\n",
       "      <th>Picea</th>\n",
       "      <th>abies</th>\n",
       "      <th>Picea abies</th>\n",
       "      <th>Rottanne, Fichte</th>\n",
       "      <td>1394</td>\n",
       "    </tr>\n",
       "    <tr>\n",
       "      <th>Acer</th>\n",
       "      <th>pseudoplatanus</th>\n",
       "      <th>Acer pseudoplatanus</th>\n",
       "      <th>Berg-Ahorn, Wald-Ahorn</th>\n",
       "      <td>1263</td>\n",
       "    </tr>\n",
       "  </tbody>\n",
       "</table>\n",
       "</div>"
      ],
      "text/plain": [
       "                                                                                                                anz_baeume\n",
       "kategorie status     baumgattunglat baumartlat     baumnamelat         baumnamedeu                                        \n",
       "Parkbaum  Grünanlage Carpinus       betulus        Carpinus betulus    Gemeine Hain- oder Weissbuche                  3130\n",
       "                     Taxus          baccata        Taxus baccata       Eibe, Gewöhnliche Eibe                         2107\n",
       "                     Pinus          sylvestris     Pinus sylvestris    Gewöhnlicher Kiefer, Wald-Kiefer, Föhre        1807\n",
       "          Obst       Malus          domestica      Malus domestica cv. Apfel-Obstgehölz, Sorte unbekannt              1661\n",
       "          Grünanlage Acer           campestre      Acer campestre      Feld-Ahorn, Hecken-Ahorn                       1639\n",
       "                     Betula         pendula        Betula pendula      Sand-Birke, Weiss-Birke                        1600\n",
       "                     Fraxinus       excelsior      Fraxinus excelsior  Gemeine Esche                                  1581\n",
       "                     Acer           platanoides    Acer platanoides    Spitz-Ahorn                                    1514\n",
       "                     Picea          abies          Picea abies         Rottanne, Fichte                               1394\n",
       "                     Acer           pseudoplatanus Acer pseudoplatanus Berg-Ahorn, Wald-Ahorn                         1263"
      ]
     },
     "execution_count": 16,
     "metadata": {},
     "output_type": "execute_result"
    }
   ],
   "source": [
    "\n",
    "df_baumkataster_20210718 \\\n",
    "    .groupby(['kategorie','status','baumgattunglat','baumartlat','baumnamelat','baumnamedeu' ]) \\\n",
    "    .agg(anz_baeume=('baumnummer', 'count')) \\\n",
    "    .query('kategorie == \"Parkbaum\"') \\\n",
    "    .sort_values('anz_baeume', ascending=False) \\\n",
    "    .head(10)\n",
    "\n",
    "\n"
   ]
  },
  {
   "cell_type": "code",
   "execution_count": null,
   "id": "5b300622",
   "metadata": {},
   "outputs": [],
   "source": []
  },
  {
   "cell_type": "code",
   "execution_count": null,
   "id": "f98ccd37",
   "metadata": {},
   "outputs": [],
   "source": []
  }
 ],
 "metadata": {
  "kernelspec": {
   "display_name": "Python 3",
   "language": "python",
   "name": "python3"
  },
  "language_info": {
   "codemirror_mode": {
    "name": "ipython",
    "version": 3
   },
   "file_extension": ".py",
   "mimetype": "text/x-python",
   "name": "python",
   "nbconvert_exporter": "python",
   "pygments_lexer": "ipython3",
   "version": "3.7.10"
  }
 },
 "nbformat": 4,
 "nbformat_minor": 5
}
