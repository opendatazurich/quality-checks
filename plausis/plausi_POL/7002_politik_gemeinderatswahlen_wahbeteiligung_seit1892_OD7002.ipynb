{
 "cells": [
  {
   "cell_type": "markdown",
   "metadata": {},
   "source": [
    "# Testing\n",
    "### Gemeinderatswahlen Wahlbeteiligung, seit 1892\n",
    "Gemeinderatswahlen Wahlbeteiligung, seit 1892\n",
    "\n",
    "Datum: 08.02.2022"
   ]
  },
  {
   "cell_type": "markdown",
   "metadata": {},
   "source": [
    "### Importiere die notwendigen Packages"
   ]
  },
  {
   "cell_type": "code",
   "execution_count": 165,
   "metadata": {},
   "outputs": [],
   "source": [
    "#%pip install geopandas altair fiona requests folium mplleaflet contextily seaborn datetime plotly leafmap"
   ]
  },
  {
   "cell_type": "code",
   "execution_count": 166,
   "metadata": {},
   "outputs": [],
   "source": [
    "import pandas as pd\n",
    "import pivottablejs\n",
    "from pivottablejs import pivot_ui\n",
    "import numpy as np\n",
    "import altair as alt\n",
    "import matplotlib.pyplot as plt\n",
    "import datetime\n",
    "import geopandas as gpd\n",
    "import folium \n",
    "import plotly.express as px\n",
    "import seaborn as sns\n",
    "import leafmap"
   ]
  },
  {
   "cell_type": "markdown",
   "metadata": {},
   "source": [
    "Definiere Settings. Hier das Zahlenformat von Float-Werten (z.B. *'{:,.2f}'.format* mit Komma als Tausenderzeichen), "
   ]
  },
  {
   "cell_type": "code",
   "execution_count": 167,
   "metadata": {},
   "outputs": [],
   "source": [
    "#pd.options.display.float_format = lambda x : '{:,.1f}'.format(x) if (np.isnan(x) | np.isinf(x)) else '{:,.0f}'.format(x) if int(x) == x else '{:,.1f}'.format(x)\n",
    "pd.options.display.float_format = '{:.1f}'.format\n",
    "pd.set_option('display.width', 100)\n",
    "pd.set_option('display.max_columns', 15)"
   ]
  },
  {
   "cell_type": "markdown",
   "metadata": {},
   "source": [
    "### Zeitvariabeln\n",
    "Bestimme den aktuellst geladenen Monat. Hier ist es der Stand vor 2 Monaten. \n",
    "Bestimme noch weitere evt. sinnvolle Zeitvariabeln.\n",
    "\n",
    "Zum Unterschied zwischen import datetime und from datedtime import datetime, siehe https://stackoverflow.com/questions/15707532/import-datetime-v-s-from-datetime-import-datetime\n",
    "\n",
    "Zuerst die Zeitvariabeln als Strings"
   ]
  },
  {
   "cell_type": "code",
   "execution_count": 168,
   "metadata": {},
   "outputs": [],
   "source": [
    "#today_date = datetime.date.today()\n",
    "#date_time = datetime.datetime.strptime(date_time_string, '%Y-%m-%d %H:%M')\n",
    "now = datetime.date.today()\n",
    "date_today = now.strftime(\"%Y-%m-%d\")\n",
    "year_today = now.strftime(\"%Y\")\n",
    "month_today = now.strftime(\"%m\")\n",
    "day_today = now.strftime(\"%d\")\n"
   ]
  },
  {
   "cell_type": "markdown",
   "metadata": {},
   "source": [
    "Und hier noch die Zeitvariabeln als Integers:\n",
    "- `aktuellesJahr`\n",
    "- `aktuellerMonat`: Der gerade jetzt aktuelle Monat\n",
    "- `selectedMonat`: Der aktuellste Monat in den Daten. In der Regel zwei Monate her."
   ]
  },
  {
   "cell_type": "code",
   "execution_count": 169,
   "metadata": {},
   "outputs": [
    {
     "name": "stdout",
     "output_type": "stream",
     "text": [
      "2022 2 datenstand:  0 time.struct_time(tm_year=2022, tm_mon=2, tm_mday=14, tm_hour=0, tm_min=0, tm_sec=0, tm_wday=0, tm_yday=45, tm_isdst=-1)\n"
     ]
    }
   ],
   "source": [
    "#now = datetime.now() \n",
    "int_times = now.timetuple()\n",
    "\n",
    "aktuellesJahr = int_times[0]\n",
    "aktuellerMonat = int_times[1]\n",
    "selectedMonat = int_times[1]-2\n",
    "\n",
    "print(aktuellesJahr, \n",
    "      aktuellerMonat,\n",
    "    'datenstand: ', selectedMonat,\n",
    "     int_times)\n"
   ]
  },
  {
   "cell_type": "markdown",
   "metadata": {},
   "source": [
    "Berechne die Variable Epoche um später das SAS-Datum in ein Unix-Datum umzuwandeln. Bei SAS beginnt die Epoche am 1.1.1960. Bei Unix am 1.1.1970.\n",
    "Diese Variable wird beim CSV-Import benötigt."
   ]
  },
  {
   "cell_type": "code",
   "execution_count": 170,
   "metadata": {},
   "outputs": [],
   "source": [
    "epoch = datetime.datetime(1960, 1, 1)"
   ]
  },
  {
   "cell_type": "markdown",
   "metadata": {},
   "source": [
    "### Setze einige Pfadvariabeln"
   ]
  },
  {
   "cell_type": "markdown",
   "metadata": {},
   "source": [
    "- Der Packagename ist eigentlich der **Verzeichnisname** unter dem die Daten und Metadaten auf der Dropzone abgelegt werden.\n",
    "- Definiert wird er bei SASA-Prozessen auf dem **Produkte-Sharepoint ([Link](https://kollaboration.intranet.stzh.ch/orga/ssz-produkte/Lists/SASA_Outputs/PersonalViews.aspx?PageView=Personal&ShowWebPart={6087A3E7-8AC8-40BA-8278-DECFACE124FF}))**.\n",
    "- Der Packagename wird auf CKAN teil der URL, daher ist die exakte Schreibweise wichtig.\n",
    "\n",
    "Beachte: im Packagename müssen alle Buchstaben **klein** geschrieben werden. Dies weil CKAN aus grossen kleine Buchstaben macht."
   ]
  },
  {
   "cell_type": "markdown",
   "metadata": {},
   "source": [
    "**BITTE HIER ANPASSEN**"
   ]
  },
  {
   "cell_type": "code",
   "execution_count": 175,
   "metadata": {},
   "outputs": [],
   "source": [
    "package_name = \"politik_gemeinderatswahlen_wahbeteiligung_seit1892_od7002\""
   ]
  },
  {
   "cell_type": "code",
   "execution_count": 176,
   "metadata": {
    "tags": []
   },
   "outputs": [],
   "source": [
    "dataset_name = \"POL700OD7002.csv\""
   ]
  },
  {
   "cell_type": "markdown",
   "metadata": {},
   "source": [
    "**Statische Pfade in DWH-Dropzones**"
   ]
  },
  {
   "cell_type": "code",
   "execution_count": 177,
   "metadata": {},
   "outputs": [],
   "source": [
    "## gibt's hier nicht. direkter upload\n",
    "dropzone_path_integ = r\"\\\\szh\\ssz\\applikationen\\OGD_Dropzone\\INT_DWH\""
   ]
  },
  {
   "cell_type": "code",
   "execution_count": 178,
   "metadata": {
    "tags": []
   },
   "outputs": [],
   "source": [
    "## gibt's hier nicht. direkter upload\n",
    "dropzone_path_prod = r\"\\\\szh\\ssz\\applikationen\\OGD_Dropzone\\DWH\""
   ]
  },
  {
   "cell_type": "markdown",
   "metadata": {},
   "source": [
    "**Statische Pfade CKAN-URLs**"
   ]
  },
  {
   "cell_type": "code",
   "execution_count": 179,
   "metadata": {
    "tags": []
   },
   "outputs": [],
   "source": [
    "## gibt's hier nicht. direkter upload. die url wird aber ab dhw-dropzone auch geharvested\n",
    "ckan_integ_url =\"https://data.integ.stadt-zuerich.ch/dataset/int_dwh_\"\n"
   ]
  },
  {
   "cell_type": "code",
   "execution_count": 180,
   "metadata": {},
   "outputs": [],
   "source": [
    "ckan_prod_url =\"https://data.stadt-zuerich.ch/dataset/\""
   ]
  },
  {
   "cell_type": "markdown",
   "metadata": {},
   "source": [
    "### Checke die Metadaten auf der CKAN INTEG- oder PROD-Webseite\n",
    "\n",
    "Offenbar lassen sich aktuell im Markdownteil keine Variabeln ausführen, daher gehen wir wie unten gezeigt vor. Siehe dazu: https://data-dive.com/jupyterlab-markdown-cells-include-variables\n",
    "Instead of setting the cell to Markdown, create Markdown from withnin a code cell! We can just use python variable replacement syntax to make the text dynamic"
   ]
  },
  {
   "cell_type": "code",
   "execution_count": 181,
   "metadata": {},
   "outputs": [],
   "source": [
    "from IPython.display import Markdown as md"
   ]
  },
  {
   "cell_type": "code",
   "execution_count": 182,
   "metadata": {},
   "outputs": [
    {
     "data": {
      "text/markdown": [
       " **1. Dataset auf INTEG-Datakatalog:** Link https://data.integ.stadt-zuerich.ch/dataset/int_dwh_politik_gemeinderatswahlen_wahbeteiligung_seit1892_od7002 "
      ],
      "text/plain": [
       "<IPython.core.display.Markdown object>"
      ]
     },
     "execution_count": 182,
     "metadata": {},
     "output_type": "execute_result"
    }
   ],
   "source": [
    "md(\" **1. Dataset auf INTEG-Datakatalog:** Link {} \".format(ckan_integ_url+package_name))"
   ]
  },
  {
   "cell_type": "code",
   "execution_count": 183,
   "metadata": {},
   "outputs": [
    {
     "data": {
      "text/markdown": [
       " **2. Dataset auf PROD-Datakatalog:** Link https://data.stadt-zuerich.ch/dataset/politik_gemeinderatswahlen_wahbeteiligung_seit1892_od7002 "
      ],
      "text/plain": [
       "<IPython.core.display.Markdown object>"
      ]
     },
     "execution_count": 183,
     "metadata": {},
     "output_type": "execute_result"
    }
   ],
   "source": [
    "md(\" **2. Dataset auf PROD-Datakatalog:** Link {} \".format(ckan_prod_url+package_name))"
   ]
  },
  {
   "cell_type": "markdown",
   "metadata": {
    "tags": []
   },
   "source": [
    "### Importiere einen Datensatz \n",
    "\n",
    "Definiere zuerst folgende Werte:\n",
    "1) Kommt der Datensatz von PROD oder INTEG?\n",
    "2) Beziehst Du den Datensatz direkt ab der DROPZONE oder aus dem INTERNET?"
   ]
  },
  {
   "cell_type": "code",
   "execution_count": 184,
   "metadata": {},
   "outputs": [
    {
     "name": "stdout",
     "output_type": "stream",
     "text": [
      "integ - dropzone\n"
     ]
    }
   ],
   "source": [
    "#Die Datasets sind nur zum Testen auf INT-DWH-Dropzone. Wenn der Test vorbei ist, sind sie auf PROD. \n",
    "# Über den Status kann man einfach switchen\n",
    "\n",
    "status = \"integ\"; #prod vs something else\n",
    "data_source = \"dropzone\"; #dropzone vs something else\n",
    "print(status+\" - \"+ data_source)"
   ]
  },
  {
   "cell_type": "code",
   "execution_count": 185,
   "metadata": {
    "tags": []
   },
   "outputs": [
    {
     "name": "stdout",
     "output_type": "stream",
     "text": [
      "fp lautet:\\\\szh\\ssz\\applikationen\\OGD_Dropzone\\INT_DWH\\politik_gemeinderatswahlen_wahbeteiligung_seit1892_od7002\\POL700OD7002.csv\n"
     ]
    }
   ],
   "source": [
    "# Filepath\n",
    "if status == \"prod\":\n",
    "    if data_source == \"dropzone\":\n",
    "            fp = dropzone_path_prod+\"\\\\\"+ package_name +\"\\\\\"+dataset_name\n",
    "            print(\"fp lautet:\"+fp)\n",
    "    else:\n",
    "        #fp = r\"https://data.stadt-zuerich.ch/dataset/bau_neubau_whg_bausm_rinh_geb_projstatus_quartier_seit2009_od5011/download/BAU501OD5011.csv\"\n",
    "        fp = ckan_prod_url+package_name+'/download/'+dataset_name\n",
    "        print(\"fp lautet:\"+fp)\n",
    "else:\n",
    "    if data_source == \"dropzone\":\n",
    "        fp = dropzone_path_integ+\"\\\\\"+ package_name +\"\\\\\"+dataset_name\n",
    "        print(\"fp lautet:\"+fp)\n",
    "    else:\n",
    "        #fp = r\"https://data.stadt-zuerich.ch/dataset/bau_neubau_whg_bausm_rinh_geb_projstatus_quartier_seit2009_od5011/download/BAU501OD5011.csv\"\n",
    "        fp = ckan_integ_url+package_name+'/download/'+dataset_name\n",
    "        print(\"fp lautet:\"+fp)\n"
   ]
  },
  {
   "cell_type": "markdown",
   "metadata": {},
   "source": [
    "Beachte, wie das SAS Datum (ohne Format) in ein UNIX Datum umgerechnet und als Datumsformat dargestellt wird! Siehe dazu `https://stackoverflow.com/questions/26923564/convert-sas-numeric-to-python-datetime`"
   ]
  },
  {
   "cell_type": "code",
   "execution_count": 186,
   "metadata": {},
   "outputs": [
    {
     "name": "stdout",
     "output_type": "stream",
     "text": [
      "done\n"
     ]
    },
    {
     "data": {
      "text/plain": [
       "Jahr               datetime64[ns]\n",
       "Wahlbeteiligung           float64\n",
       "dtype: object"
      ]
     },
     "execution_count": 186,
     "metadata": {},
     "output_type": "execute_result"
    }
   ],
   "source": [
    "# Read the data\n",
    "imp_data2betested = pd.read_csv(\n",
    "    fp\n",
    "    , sep=','\n",
    "    ,parse_dates=['Jahr'] #'Abstimmungs_Datum',\n",
    "    # KONVERTIERE DAS SAS DATUM IN EIN UNIXDATUM UND FORMATIERE ES\n",
    "    #, date_parser=lambda s: epoch + datetime.timedelta(days=int(s))\n",
    "    ,low_memory=False    \n",
    "    )\n",
    "\n",
    "print('done')\n",
    "imp_data2betested.dtypes"
   ]
  },
  {
   "cell_type": "markdown",
   "metadata": {
    "tags": []
   },
   "source": [
    "Berechne weitere Attribute"
   ]
  },
  {
   "cell_type": "code",
   "execution_count": 188,
   "metadata": {},
   "outputs": [
    {
     "data": {
      "text/plain": [
       "Jahr               datetime64[ns]\n",
       "Wahlbeteiligung           float64\n",
       "Jahr_str                   object\n",
       "dtype: object"
      ]
     },
     "execution_count": 188,
     "metadata": {},
     "output_type": "execute_result"
    }
   ],
   "source": [
    "data2betested = (\n",
    "    imp_data2betested\n",
    "    .copy()\n",
    "    .assign(\n",
    "        #Aktualisierungs_Datum_str= lambda x: x.Aktualisierungs_Datum.astype(str),\n",
    "        Jahr_str = lambda x: x.Jahr.astype(str),\n",
    "    )\n",
    "    .sort_values('Jahr', ascending=False)\n",
    "    )\n",
    "data2betested.dtypes\n",
    "\n",
    "\n"
   ]
  },
  {
   "cell_type": "markdown",
   "metadata": {},
   "source": [
    "In der Folge ein paar erste Tests:"
   ]
  },
  {
   "cell_type": "markdown",
   "metadata": {},
   "source": [
    " - 1) Zeige eine kurze Vorschau der importierten Daten\n",
    " - 2) Weise die Datentypen aus\n",
    " - 3) Zeige die Shape (Umfang) des Datensatzes an"
   ]
  },
  {
   "cell_type": "code",
   "execution_count": 189,
   "metadata": {},
   "outputs": [
    {
     "data": {
      "text/html": [
       "<div>\n",
       "<style scoped>\n",
       "    .dataframe tbody tr th:only-of-type {\n",
       "        vertical-align: middle;\n",
       "    }\n",
       "\n",
       "    .dataframe tbody tr th {\n",
       "        vertical-align: top;\n",
       "    }\n",
       "\n",
       "    .dataframe thead th {\n",
       "        text-align: right;\n",
       "    }\n",
       "</style>\n",
       "<table border=\"1\" class=\"dataframe\">\n",
       "  <thead>\n",
       "    <tr style=\"text-align: right;\">\n",
       "      <th></th>\n",
       "      <th>Jahr</th>\n",
       "      <th>Wahlbeteiligung</th>\n",
       "      <th>Jahr_str</th>\n",
       "    </tr>\n",
       "  </thead>\n",
       "  <tbody>\n",
       "    <tr>\n",
       "      <th>36</th>\n",
       "      <td>2022-01-01</td>\n",
       "      <td>42.8</td>\n",
       "      <td>2022-01-01</td>\n",
       "    </tr>\n",
       "    <tr>\n",
       "      <th>35</th>\n",
       "      <td>2018-01-01</td>\n",
       "      <td>43.9</td>\n",
       "      <td>2018-01-01</td>\n",
       "    </tr>\n",
       "  </tbody>\n",
       "</table>\n",
       "</div>"
      ],
      "text/plain": [
       "         Jahr  Wahlbeteiligung    Jahr_str\n",
       "36 2022-01-01             42.8  2022-01-01\n",
       "35 2018-01-01             43.9  2018-01-01"
      ]
     },
     "execution_count": 189,
     "metadata": {},
     "output_type": "execute_result"
    }
   ],
   "source": [
    "data2betested.head(2)"
   ]
  },
  {
   "cell_type": "code",
   "execution_count": 190,
   "metadata": {},
   "outputs": [
    {
     "data": {
      "text/plain": [
       "(37, 3)"
      ]
     },
     "execution_count": 190,
     "metadata": {},
     "output_type": "execute_result"
    }
   ],
   "source": [
    "data2betested.shape"
   ]
  },
  {
   "cell_type": "markdown",
   "metadata": {},
   "source": [
    "Beschreibe einzelne Attribute"
   ]
  },
  {
   "cell_type": "code",
   "execution_count": 191,
   "metadata": {},
   "outputs": [
    {
     "data": {
      "text/html": [
       "<div>\n",
       "<style scoped>\n",
       "    .dataframe tbody tr th:only-of-type {\n",
       "        vertical-align: middle;\n",
       "    }\n",
       "\n",
       "    .dataframe tbody tr th {\n",
       "        vertical-align: top;\n",
       "    }\n",
       "\n",
       "    .dataframe thead th {\n",
       "        text-align: right;\n",
       "    }\n",
       "</style>\n",
       "<table border=\"1\" class=\"dataframe\">\n",
       "  <thead>\n",
       "    <tr style=\"text-align: right;\">\n",
       "      <th></th>\n",
       "      <th>Wahlbeteiligung</th>\n",
       "    </tr>\n",
       "  </thead>\n",
       "  <tbody>\n",
       "    <tr>\n",
       "      <th>count</th>\n",
       "      <td>37.0</td>\n",
       "    </tr>\n",
       "    <tr>\n",
       "      <th>mean</th>\n",
       "      <td>63.9</td>\n",
       "    </tr>\n",
       "    <tr>\n",
       "      <th>std</th>\n",
       "      <td>16.6</td>\n",
       "    </tr>\n",
       "    <tr>\n",
       "      <th>min</th>\n",
       "      <td>33.7</td>\n",
       "    </tr>\n",
       "    <tr>\n",
       "      <th>25%</th>\n",
       "      <td>48.5</td>\n",
       "    </tr>\n",
       "    <tr>\n",
       "      <th>50%</th>\n",
       "      <td>66.8</td>\n",
       "    </tr>\n",
       "    <tr>\n",
       "      <th>75%</th>\n",
       "      <td>77.8</td>\n",
       "    </tr>\n",
       "    <tr>\n",
       "      <th>max</th>\n",
       "      <td>90.8</td>\n",
       "    </tr>\n",
       "  </tbody>\n",
       "</table>\n",
       "</div>"
      ],
      "text/plain": [
       "       Wahlbeteiligung\n",
       "count             37.0\n",
       "mean              63.9\n",
       "std               16.6\n",
       "min               33.7\n",
       "25%               48.5\n",
       "50%               66.8\n",
       "75%               77.8\n",
       "max               90.8"
      ]
     },
     "execution_count": 191,
     "metadata": {},
     "output_type": "execute_result"
    }
   ],
   "source": [
    "data2betested.describe()"
   ]
  },
  {
   "cell_type": "markdown",
   "metadata": {},
   "source": [
    "Wie viele Nullwerte gibt es im Datensatz?"
   ]
  },
  {
   "cell_type": "code",
   "execution_count": 192,
   "metadata": {
    "scrolled": true
   },
   "outputs": [
    {
     "data": {
      "text/plain": [
       "Jahr               0\n",
       "Wahlbeteiligung    0\n",
       "Jahr_str           0\n",
       "dtype: int64"
      ]
     },
     "execution_count": 192,
     "metadata": {},
     "output_type": "execute_result"
    }
   ],
   "source": [
    "data2betested.isnull().sum()"
   ]
  },
  {
   "cell_type": "markdown",
   "metadata": {
    "colab_type": "text",
    "id": "1dTPVmmsgOVx"
   },
   "source": [
    "### Verwende das Datum als Index\n",
    "\n",
    "While we did already parse the `datetime` column into the respective datetime type, it currently is just a regular column. \n",
    "**To enable quick and convenient queries and aggregations, we need to turn it into the index of the DataFrame**"
   ]
  },
  {
   "cell_type": "code",
   "execution_count": 193,
   "metadata": {},
   "outputs": [],
   "source": [
    "data2betested = data2betested.set_index(\"Jahr\")"
   ]
  },
  {
   "cell_type": "code",
   "execution_count": null,
   "metadata": {
    "tags": []
   },
   "outputs": [],
   "source": []
  },
  {
   "cell_type": "markdown",
   "metadata": {},
   "source": [
    "### Einfache Visualisierungen zur Plausi"
   ]
  },
  {
   "cell_type": "markdown",
   "metadata": {},
   "source": [
    "Exploriere die Daten mit Pivottable.JS"
   ]
  },
  {
   "cell_type": "code",
   "execution_count": 194,
   "metadata": {},
   "outputs": [
    {
     "data": {
      "text/html": [
       "\n",
       "        <iframe\n",
       "            width=\"100%\"\n",
       "            height=\"500\"\n",
       "            src=\"pivottablejs.html\"\n",
       "            frameborder=\"0\"\n",
       "            allowfullscreen\n",
       "        ></iframe>\n",
       "        "
      ],
      "text/plain": [
       "<IPython.lib.display.IFrame at 0x2bb6b8986d0>"
      ]
     },
     "execution_count": 194,
     "metadata": {},
     "output_type": "execute_result"
    }
   ],
   "source": [
    "from pivottablejs import pivot_ui\n",
    "\n",
    "pivot_ui(data2betested)"
   ]
  },
  {
   "cell_type": "markdown",
   "metadata": {},
   "source": [
    "### Zeitpunkte und Zeiträume abfragen\n",
    "\n",
    "A particular powerful feature of the Pandas DataFrame is its indexing capability that also works using time-based entities, such as dates and times. We have already created the index above, so let's put it to use."
   ]
  },
  {
   "cell_type": "code",
   "execution_count": 195,
   "metadata": {},
   "outputs": [],
   "source": [
    "#data2betested.dtypes"
   ]
  },
  {
   "cell_type": "markdown",
   "metadata": {},
   "source": [
    "### Visualisierungen"
   ]
  },
  {
   "cell_type": "code",
   "execution_count": 196,
   "metadata": {},
   "outputs": [
    {
     "data": {
      "text/plain": [
       "Index(['Wahlbeteiligung', 'Jahr_str'], dtype='object')"
      ]
     },
     "execution_count": 196,
     "metadata": {},
     "output_type": "execute_result"
    }
   ],
   "source": [
    "data2betested.columns"
   ]
  },
  {
   "cell_type": "code",
   "execution_count": 228,
   "metadata": {},
   "outputs": [
    {
     "data": {
      "text/html": [
       "\n",
       "<div id=\"altair-viz-ca4818f20b3c48fda93e241f8c29d40e\"></div>\n",
       "<script type=\"text/javascript\">\n",
       "  (function(spec, embedOpt){\n",
       "    let outputDiv = document.currentScript.previousElementSibling;\n",
       "    if (outputDiv.id !== \"altair-viz-ca4818f20b3c48fda93e241f8c29d40e\") {\n",
       "      outputDiv = document.getElementById(\"altair-viz-ca4818f20b3c48fda93e241f8c29d40e\");\n",
       "    }\n",
       "    const paths = {\n",
       "      \"vega\": \"https://cdn.jsdelivr.net/npm//vega@5?noext\",\n",
       "      \"vega-lib\": \"https://cdn.jsdelivr.net/npm//vega-lib?noext\",\n",
       "      \"vega-lite\": \"https://cdn.jsdelivr.net/npm//vega-lite@4.8.1?noext\",\n",
       "      \"vega-embed\": \"https://cdn.jsdelivr.net/npm//vega-embed@6?noext\",\n",
       "    };\n",
       "\n",
       "    function loadScript(lib) {\n",
       "      return new Promise(function(resolve, reject) {\n",
       "        var s = document.createElement('script');\n",
       "        s.src = paths[lib];\n",
       "        s.async = true;\n",
       "        s.onload = () => resolve(paths[lib]);\n",
       "        s.onerror = () => reject(`Error loading script: ${paths[lib]}`);\n",
       "        document.getElementsByTagName(\"head\")[0].appendChild(s);\n",
       "      });\n",
       "    }\n",
       "\n",
       "    function showError(err) {\n",
       "      outputDiv.innerHTML = `<div class=\"error\" style=\"color:red;\">${err}</div>`;\n",
       "      throw err;\n",
       "    }\n",
       "\n",
       "    function displayChart(vegaEmbed) {\n",
       "      vegaEmbed(outputDiv, spec, embedOpt)\n",
       "        .catch(err => showError(`Javascript Error: ${err.message}<br>This usually means there's a typo in your chart specification. See the javascript console for the full traceback.`));\n",
       "    }\n",
       "\n",
       "    if(typeof define === \"function\" && define.amd) {\n",
       "      requirejs.config({paths});\n",
       "      require([\"vega-embed\"], displayChart, err => showError(`Error loading script: ${err.message}`));\n",
       "    } else if (typeof vegaEmbed === \"function\") {\n",
       "      displayChart(vegaEmbed);\n",
       "    } else {\n",
       "      loadScript(\"vega\")\n",
       "        .then(() => loadScript(\"vega-lite\"))\n",
       "        .then(() => loadScript(\"vega-embed\"))\n",
       "        .catch(showError)\n",
       "        .then(() => displayChart(vegaEmbed));\n",
       "    }\n",
       "  })({\"config\": {\"view\": {\"continuousWidth\": 400, \"continuousHeight\": 300}}, \"layer\": [{\"mark\": \"line\", \"encoding\": {\"size\": {\"condition\": {\"value\": 0.5, \"selection\": {\"not\": \"selector024\"}}, \"value\": 4}, \"tooltip\": [{\"type\": \"temporal\", \"field\": \"Jahr\"}, {\"type\": \"quantitative\", \"field\": \"Wahlbeteiligung\"}], \"x\": {\"type\": \"temporal\", \"axis\": {\"title\": \"Jahr\"}, \"field\": \"Jahr\"}, \"y\": {\"type\": \"quantitative\", \"axis\": {\"title\": \"Wahlbeteiligung\"}, \"field\": \"Wahlbeteiligung\"}}, \"selection\": {\"selector025\": {\"type\": \"interval\", \"bind\": \"scales\", \"encodings\": [\"x\", \"y\"]}}, \"title\": \"Gemeinderatswahlen Wahlbeteiligung, seit 1892\"}, {\"mark\": \"circle\", \"encoding\": {\"opacity\": {\"value\": 0.75}, \"tooltip\": [{\"type\": \"temporal\", \"field\": \"Jahr\"}, {\"type\": \"quantitative\", \"field\": \"Wahlbeteiligung\"}], \"x\": {\"type\": \"temporal\", \"axis\": {\"title\": \"Jahr\"}, \"field\": \"Jahr\"}, \"y\": {\"type\": \"quantitative\", \"axis\": {\"title\": \"Wahlbeteiligung\"}, \"field\": \"Wahlbeteiligung\"}}, \"height\": 350, \"selection\": {\"selector024\": {\"type\": \"single\", \"on\": \"mouseover\", \"fields\": [\"Wahlbeteiligung\"], \"nearest\": true}}, \"title\": \"Gemeinderatswahlen Wahlbeteiligung, seit 1892\", \"width\": 750}], \"data\": {\"name\": \"data-893383e9985ab6cce1d803041d511833\"}, \"$schema\": \"https://vega.github.io/schema/vega-lite/v4.8.1.json\", \"datasets\": {\"data-893383e9985ab6cce1d803041d511833\": [{\"Jahr\": \"2022-01-01T00:00:00\", \"Wahlbeteiligung\": 42.8, \"Jahr_str\": \"2022-01-01\"}, {\"Jahr\": \"2018-01-01T00:00:00\", \"Wahlbeteiligung\": 43.9, \"Jahr_str\": \"2018-01-01\"}, {\"Jahr\": \"2014-01-01T00:00:00\", \"Wahlbeteiligung\": 42.6, \"Jahr_str\": \"2014-01-01\"}, {\"Jahr\": \"2010-01-01T00:00:00\", \"Wahlbeteiligung\": 39.1, \"Jahr_str\": \"2010-01-01\"}, {\"Jahr\": \"2006-01-01T00:00:00\", \"Wahlbeteiligung\": 33.7, \"Jahr_str\": \"2006-01-01\"}, {\"Jahr\": \"2002-01-01T00:00:00\", \"Wahlbeteiligung\": 48.0, \"Jahr_str\": \"2002-01-01\"}, {\"Jahr\": \"1998-01-01T00:00:00\", \"Wahlbeteiligung\": 46.0, \"Jahr_str\": \"1998-01-01\"}, {\"Jahr\": \"1994-01-01T00:00:00\", \"Wahlbeteiligung\": 49.2, \"Jahr_str\": \"1994-01-01\"}, {\"Jahr\": \"1990-01-01T00:00:00\", \"Wahlbeteiligung\": 49.0, \"Jahr_str\": \"1990-01-01\"}, {\"Jahr\": \"1986-01-01T00:00:00\", \"Wahlbeteiligung\": 43.0, \"Jahr_str\": \"1986-01-01\"}, {\"Jahr\": \"1982-01-01T00:00:00\", \"Wahlbeteiligung\": 48.0, \"Jahr_str\": \"1982-01-01\"}, {\"Jahr\": \"1978-01-01T00:00:00\", \"Wahlbeteiligung\": 51.8, \"Jahr_str\": \"1978-01-01\"}, {\"Jahr\": \"1974-01-01T00:00:00\", \"Wahlbeteiligung\": 49.0, \"Jahr_str\": \"1974-01-01\"}, {\"Jahr\": \"1970-01-01T00:00:00\", \"Wahlbeteiligung\": 56.9, \"Jahr_str\": \"1970-01-01\"}, {\"Jahr\": \"1966-01-01T00:00:00\", \"Wahlbeteiligung\": 70.3, \"Jahr_str\": \"1966-01-01\"}, {\"Jahr\": \"1962-01-01T00:00:00\", \"Wahlbeteiligung\": 66.8, \"Jahr_str\": \"1962-01-01\"}, {\"Jahr\": \"1958-01-01T00:00:00\", \"Wahlbeteiligung\": 69.8, \"Jahr_str\": \"1958-01-01\"}, {\"Jahr\": \"1954-01-01T00:00:00\", \"Wahlbeteiligung\": 70.9, \"Jahr_str\": \"1954-01-01\"}, {\"Jahr\": \"1950-01-01T00:00:00\", \"Wahlbeteiligung\": 76.2, \"Jahr_str\": \"1950-01-01\"}, {\"Jahr\": \"1946-01-01T00:00:00\", \"Wahlbeteiligung\": 77.8, \"Jahr_str\": \"1946-01-01\"}, {\"Jahr\": \"1942-01-01T00:00:00\", \"Wahlbeteiligung\": 68.3, \"Jahr_str\": \"1942-01-01\"}, {\"Jahr\": \"1938-01-01T00:00:00\", \"Wahlbeteiligung\": 80.6, \"Jahr_str\": \"1938-01-01\"}, {\"Jahr\": \"1933-01-01T00:00:00\", \"Wahlbeteiligung\": 85.0, \"Jahr_str\": \"1933-01-01\"}, {\"Jahr\": \"1931-01-01T00:00:00\", \"Wahlbeteiligung\": 75.7, \"Jahr_str\": \"1931-01-01\"}, {\"Jahr\": \"1928-01-01T00:00:00\", \"Wahlbeteiligung\": 90.6, \"Jahr_str\": \"1928-01-01\"}, {\"Jahr\": \"1925-01-01T00:00:00\", \"Wahlbeteiligung\": 84.1, \"Jahr_str\": \"1925-01-01\"}, {\"Jahr\": \"1922-01-01T00:00:00\", \"Wahlbeteiligung\": 85.6, \"Jahr_str\": \"1922-01-01\"}, {\"Jahr\": \"1919-01-01T00:00:00\", \"Wahlbeteiligung\": 90.8, \"Jahr_str\": \"1919-01-01\"}, {\"Jahr\": \"1916-01-01T00:00:00\", \"Wahlbeteiligung\": 82.2, \"Jahr_str\": \"1916-01-01\"}, {\"Jahr\": \"1913-01-01T00:00:00\", \"Wahlbeteiligung\": 82.4, \"Jahr_str\": \"1913-01-01\"}, {\"Jahr\": \"1910-01-01T00:00:00\", \"Wahlbeteiligung\": 65.4, \"Jahr_str\": \"1910-01-01\"}, {\"Jahr\": \"1907-01-01T00:00:00\", \"Wahlbeteiligung\": 79.9, \"Jahr_str\": \"1907-01-01\"}, {\"Jahr\": \"1904-01-01T00:00:00\", \"Wahlbeteiligung\": 48.5, \"Jahr_str\": \"1904-01-01\"}, {\"Jahr\": \"1901-01-01T00:00:00\", \"Wahlbeteiligung\": 69.0, \"Jahr_str\": \"1901-01-01\"}, {\"Jahr\": \"1898-01-01T00:00:00\", \"Wahlbeteiligung\": 65.5, \"Jahr_str\": \"1898-01-01\"}, {\"Jahr\": \"1895-01-01T00:00:00\", \"Wahlbeteiligung\": 61.0, \"Jahr_str\": \"1895-01-01\"}, {\"Jahr\": \"1892-01-01T00:00:00\", \"Wahlbeteiligung\": 74.6, \"Jahr_str\": \"1892-01-01\"}]}}, {\"mode\": \"vega-lite\"});\n",
       "</script>"
      ],
      "text/plain": [
       "alt.LayerChart(...)"
      ]
     },
     "execution_count": 228,
     "metadata": {},
     "output_type": "execute_result"
    }
   ],
   "source": [
    "myTitle = \"Gemeinderatswahlen Wahlbeteiligung, seit 1892\"\n",
    "\n",
    "highlight = alt.selection(type='single', on='mouseover',\n",
    "                          fields=['Wahlbeteiligung'], nearest=True)\n",
    "#x='date:StichtagDatJahr',\n",
    "base = alt.Chart(data2betested.reset_index(), title=myTitle).encode(\n",
    "    x=alt.X('Jahr', axis=alt.Axis(title='Jahr'))# , axis=alt.Axis(format='%', title='percentage')\n",
    "    , y=alt.X('Wahlbeteiligung', axis=alt.Axis(title='Wahlbeteiligung'))\n",
    "   #, color=alt.Color('Jahr', legend=alt.Legend(title=\"Altersgruppen\", orient=\"right\"))  \n",
    "    ,tooltip=['Jahr', 'Wahlbeteiligung']    \n",
    ")\n",
    "points = base.mark_circle().encode(\n",
    "    opacity=alt.value(0.75)\n",
    ").add_selection(\n",
    "    highlight\n",
    ").properties(\n",
    "    width=750 , height=350\n",
    ")\n",
    "lines = base.mark_line().encode(\n",
    "    size=alt.condition(~highlight, alt.value(0.5), alt.value(4))\n",
    ").interactive()\n",
    "\n",
    "lines + points"
   ]
  },
  {
   "cell_type": "markdown",
   "metadata": {
    "tags": []
   },
   "source": [
    "#### Barcharts mit Seaborn"
   ]
  },
  {
   "cell_type": "code",
   "execution_count": 197,
   "metadata": {},
   "outputs": [],
   "source": [
    "#help(sns.catplot)     "
   ]
  },
  {
   "cell_type": "code",
   "execution_count": 198,
   "metadata": {},
   "outputs": [],
   "source": [
    "#Stile for the following sns graphs\n",
    "sns.set_theme(style=\"darkgrid\", color_codes=True) #style must be one of white, dark, whitegrid, darkgrid, ticks\n",
    "\n",
    "\n",
    "# Plotting pretty figures and avoid blurry images\n",
    "%config InlineBackend.figure_format = 'retina'\n",
    "# Larger scale for plots in notebooks\n",
    "sns.set_context('notebook')"
   ]
  },
  {
   "cell_type": "code",
   "execution_count": 201,
   "metadata": {},
   "outputs": [
    {
     "data": {
      "text/html": [
       "<div>\n",
       "<style scoped>\n",
       "    .dataframe tbody tr th:only-of-type {\n",
       "        vertical-align: middle;\n",
       "    }\n",
       "\n",
       "    .dataframe tbody tr th {\n",
       "        vertical-align: top;\n",
       "    }\n",
       "\n",
       "    .dataframe thead th {\n",
       "        text-align: right;\n",
       "    }\n",
       "</style>\n",
       "<table border=\"1\" class=\"dataframe\">\n",
       "  <thead>\n",
       "    <tr style=\"text-align: right;\">\n",
       "      <th></th>\n",
       "      <th>Wahlbeteiligung</th>\n",
       "      <th>Jahr_str</th>\n",
       "    </tr>\n",
       "    <tr>\n",
       "      <th>Jahr</th>\n",
       "      <th></th>\n",
       "      <th></th>\n",
       "    </tr>\n",
       "  </thead>\n",
       "  <tbody>\n",
       "    <tr>\n",
       "      <th>2022-01-01</th>\n",
       "      <td>42.8</td>\n",
       "      <td>2022-01-01</td>\n",
       "    </tr>\n",
       "    <tr>\n",
       "      <th>2018-01-01</th>\n",
       "      <td>43.9</td>\n",
       "      <td>2018-01-01</td>\n",
       "    </tr>\n",
       "    <tr>\n",
       "      <th>2014-01-01</th>\n",
       "      <td>42.6</td>\n",
       "      <td>2014-01-01</td>\n",
       "    </tr>\n",
       "    <tr>\n",
       "      <th>2010-01-01</th>\n",
       "      <td>39.1</td>\n",
       "      <td>2010-01-01</td>\n",
       "    </tr>\n",
       "    <tr>\n",
       "      <th>2006-01-01</th>\n",
       "      <td>33.7</td>\n",
       "      <td>2006-01-01</td>\n",
       "    </tr>\n",
       "  </tbody>\n",
       "</table>\n",
       "</div>"
      ],
      "text/plain": [
       "            Wahlbeteiligung    Jahr_str\n",
       "Jahr                                   \n",
       "2022-01-01             42.8  2022-01-01\n",
       "2018-01-01             43.9  2018-01-01\n",
       "2014-01-01             42.6  2014-01-01\n",
       "2010-01-01             39.1  2010-01-01\n",
       "2006-01-01             33.7  2006-01-01"
      ]
     },
     "execution_count": 201,
     "metadata": {},
     "output_type": "execute_result"
    }
   ],
   "source": [
    "data2betested.head()"
   ]
  },
  {
   "cell_type": "code",
   "execution_count": 208,
   "metadata": {},
   "outputs": [
    {
     "data": {
      "text/plain": [
       "Text(0.5, 0.98, 'Stimmenanteil nach Partei und Wahlresultat 2022')"
      ]
     },
     "execution_count": 208,
     "metadata": {},
     "output_type": "execute_result"
    },
    {
     "data": {
      "image/png": "[encoded data removed]",
      "text/plain": [
       "<Figure size 864x432 with 1 Axes>"
      ]
     },
     "metadata": {
      "image/png": {
       "height": 424,
       "width": 855
      }
     },
     "output_type": "display_data"
    }
   ],
   "source": [
    "myTitle=\"Stimmenanteil nach Partei und Wahlresultat 2022\"\n",
    "\n",
    "#sns.color_palette(\"flare\", as_cmap=True)\n",
    "myHist = sns.catplot(x=\"Jahr\"\n",
    "            , y=\"Wahlbeteiligung\"\n",
    "            #, hue=\"\"\n",
    "            , kind=\"bar\" #boxen, violin, --> wenn die aggregation nicht genau den werten in der grafik entspricht\n",
    "            , palette=\"tab20\" #'tab10', 'tab10_r', 'tab20', 'tab20_r', 'tab20b', 'tab20b_r', 'tab20c', 'tab20c_r',\n",
    "            , height=6\n",
    "            , aspect=2\n",
    "            , edgecolor= None\n",
    "            , order=None, legend_out=True\n",
    "            ,data=data2betested.reset_index()\n",
    "           )\n",
    "myHist.set_xticklabels(rotation=0)\n",
    "myHist.set_xlabels('Partei', fontsize=11) # not set_label\n",
    "myHist.set_ylabels('Stimmenanteil (%)', fontsize=11)\n",
    "\n",
    "myHist.fig.subplots_adjust(top=0.9) # adjust the Figure in rp\n",
    "myHist.fig.suptitle(myTitle)"
   ]
  },
  {
   "cell_type": "code",
   "execution_count": 209,
   "metadata": {},
   "outputs": [
    {
     "data": {
      "text/plain": [
       "Index(['Wahlbeteiligung', 'Jahr_str'], dtype='object')"
      ]
     },
     "execution_count": 209,
     "metadata": {},
     "output_type": "execute_result"
    }
   ],
   "source": [
    "#graph_data = data2betested.loc[\"1882\":\"2022\"].reset_index().sort_values('WahlkreisSort', ascending = True)\n",
    "graph_data = data2betested.loc[\"1913\":\"2022\"]\n",
    "data2betested.columns"
   ]
  },
  {
   "cell_type": "code",
   "execution_count": null,
   "metadata": {},
   "outputs": [],
   "source": [
    "myTitle=\"Stimmenanteil nach Jahr, Wahkreis und Partei, 1913-2022\"\n",
    "#myPalette ={'(?)':'lightgrey','EVP':'gold', 'SP':'#FF3030', 'PdA':'#EE3B3B', 'GPS':'#A2CD5A','GLP':'#CAFF70','CVP/Die Mitte':'orange','FDP':'#104E8B','AL':'deeppink','BGB/SVP':'forestgreen', 'LDU':'#8B864E','Demokraten':'#lightblue' }\n",
    "#myPalette = \"Accent\"\n",
    "\n",
    "g = sns.FacetGrid(graph_data, col=2, hue=2, col_wrap=3, height=4, aspect=1, palette=myPalette)\n",
    "#g.map(sns.scatterplot, \"Jahr\", \"Stimmenanteil\", alpha=.99)\n",
    "g.map(sns.lineplot, \"Jahr\",\"Wahlbeteiligung\", alpha=.99)\n",
    "\n",
    "g.add_legend(title=\"Partei:\")\n",
    "g.fig.subplots_adjust(top=0.91) # adjust the Figure in rp\n",
    "g.fig.suptitle(myTitle)\n",
    "\n"
   ]
  },
  {
   "cell_type": "code",
   "execution_count": null,
   "metadata": {},
   "outputs": [],
   "source": []
  },
  {
   "cell_type": "markdown",
   "metadata": {},
   "source": [
    "**Sharepoint als gecheckt markieren!**"
   ]
  },
  {
   "cell_type": "markdown",
   "metadata": {},
   "source": [
    "Record auf Sharepoint: **[Link](https://kollaboration.intranet.stzh.ch/orga/ssz-produkte/Lists/SASA_Outputs/DispForm.aspx?ID=284&ContentTypeId=0x0100988EAF029F1EFE4CA675F53C32A5D53D01006DBC563E6FBE9E4EB6FDC780799752E1)**"
   ]
  },
  {
   "cell_type": "markdown",
   "metadata": {
    "jp-MarkdownHeadingCollapsed": true,
    "tags": []
   },
   "source": [
    "## ---------------------- hier Plausi beendet\n",
    "\n",
    "Liniendiagramm \n",
    "[Link zur Doku](https://altair-viz.github.io/gallery/multiline_highlight.html)"
   ]
  },
  {
   "cell_type": "markdown",
   "metadata": {},
   "source": [
    "### Daten in interaktiver Treemap zeigen\n",
    "Dazu gibt es eine sehr nützliche Webseite https://plotly.com/python/treemaps/\n",
    "Zu Farbskalen, siehe: https://plotly.com/python/builtin-colorscales/"
   ]
  },
  {
   "cell_type": "markdown",
   "metadata": {},
   "source": [
    "#### Anzahl Wohnungen in BAUPROJEKTEN nach Projektstatus, Kreis und Quartier 2021"
   ]
  },
  {
   "cell_type": "code",
   "execution_count": 138,
   "metadata": {},
   "outputs": [
    {
     "data": {
      "text/plain": [
       "Partei            object\n",
       "ParteiNr           int64\n",
       "Wahlkreis         object\n",
       "WahlkreisSort     object\n",
       "Stimmenanteil    float64\n",
       "Jahr_str          object\n",
       "dtype: object"
      ]
     },
     "execution_count": 138,
     "metadata": {},
     "output_type": "execute_result"
    }
   ],
   "source": [
    "data2betested.dtypes"
   ]
  },
  {
   "cell_type": "code",
   "execution_count": 139,
   "metadata": {
    "tags": []
   },
   "outputs": [
    {
     "ename": "KeyError",
     "evalue": "'QuarLang'",
     "output_type": "error",
     "traceback": [
      "\u001b[1;31m---------------------------------------------------------------------------\u001b[0m",
      "\u001b[1;31mKeyError\u001b[0m                                  Traceback (most recent call last)",
      "\u001b[1;32m~\\AppData\\Local\\Temp/ipykernel_16272/1632765301.py\u001b[0m in \u001b[0;36m<module>\u001b[1;34m\u001b[0m\n\u001b[1;32m----> 1\u001b[1;33m \u001b[0mmyTreemapAgg\u001b[0m \u001b[1;33m=\u001b[0m \u001b[0mdata2betested\u001b[0m\u001b[1;33m.\u001b[0m\u001b[0mloc\u001b[0m\u001b[1;33m[\u001b[0m\u001b[1;34m\"2021\"\u001b[0m\u001b[1;33m]\u001b[0m\u001b[0;31m \u001b[0m\u001b[0;31m \u001b[0m\u001b[0;31m\\\u001b[0m\u001b[1;33m\u001b[0m\u001b[1;33m\u001b[0m\u001b[0m\n\u001b[0m\u001b[0;32m      2\u001b[0m     \u001b[1;33m.\u001b[0m\u001b[0mgroupby\u001b[0m\u001b[1;33m(\u001b[0m\u001b[1;33m[\u001b[0m\u001b[1;34m'Jahr'\u001b[0m\u001b[1;33m,\u001b[0m \u001b[1;34m'QuarLang'\u001b[0m\u001b[1;33m,\u001b[0m \u001b[1;34m'KreisLang'\u001b[0m\u001b[1;33m,\u001b[0m \u001b[1;34m'ProjStatus'\u001b[0m\u001b[1;33m]\u001b[0m\u001b[1;33m)\u001b[0m\u001b[0;31m \u001b[0m\u001b[0;31m\\\u001b[0m\u001b[1;33m\u001b[0m\u001b[1;33m\u001b[0m\u001b[0m\n\u001b[0;32m      3\u001b[0m     \u001b[1;33m.\u001b[0m\u001b[0magg\u001b[0m\u001b[1;33m(\u001b[0m\u001b[0msum_ProjAnzGbd\u001b[0m\u001b[1;33m=\u001b[0m\u001b[1;33m(\u001b[0m\u001b[1;34m'ProjAnzGbd'\u001b[0m\u001b[1;33m,\u001b[0m \u001b[1;34m'sum'\u001b[0m\u001b[1;33m)\u001b[0m\u001b[1;33m,\u001b[0m\u001b[0msum_ProjAnzWhg\u001b[0m\u001b[1;33m=\u001b[0m\u001b[1;33m(\u001b[0m\u001b[1;34m'ProjAnzWhg'\u001b[0m\u001b[1;33m,\u001b[0m \u001b[1;34m'sum'\u001b[0m\u001b[1;33m)\u001b[0m\u001b[1;33m)\u001b[0m\u001b[0;31m\\\u001b[0m\u001b[1;33m\u001b[0m\u001b[1;33m\u001b[0m\u001b[0m\n\u001b[0;32m      4\u001b[0m     \u001b[1;33m.\u001b[0m\u001b[0msort_values\u001b[0m\u001b[1;33m(\u001b[0m\u001b[1;34m'sum_ProjAnzWhg'\u001b[0m\u001b[1;33m,\u001b[0m \u001b[0mascending\u001b[0m\u001b[1;33m=\u001b[0m\u001b[1;32mFalse\u001b[0m\u001b[1;33m)\u001b[0m\u001b[1;33m\u001b[0m\u001b[1;33m\u001b[0m\u001b[0m\n\u001b[0;32m      5\u001b[0m \u001b[1;33m\u001b[0m\u001b[0m\n",
      "\u001b[1;32mC:\\ProgramData\\Anaconda3\\envs\\gis_env\\lib\\site-packages\\pandas\\core\\frame.py\u001b[0m in \u001b[0;36mgroupby\u001b[1;34m(self, by, axis, level, as_index, sort, group_keys, squeeze, observed, dropna)\u001b[0m\n\u001b[0;32m   7624\u001b[0m         \u001b[1;31m# error: Argument \"squeeze\" to \"DataFrameGroupBy\" has incompatible type\u001b[0m\u001b[1;33m\u001b[0m\u001b[1;33m\u001b[0m\u001b[0m\n\u001b[0;32m   7625\u001b[0m         \u001b[1;31m# \"Union[bool, NoDefault]\"; expected \"bool\"\u001b[0m\u001b[1;33m\u001b[0m\u001b[1;33m\u001b[0m\u001b[0m\n\u001b[1;32m-> 7626\u001b[1;33m         return DataFrameGroupBy(\n\u001b[0m\u001b[0;32m   7627\u001b[0m             \u001b[0mobj\u001b[0m\u001b[1;33m=\u001b[0m\u001b[0mself\u001b[0m\u001b[1;33m,\u001b[0m\u001b[1;33m\u001b[0m\u001b[1;33m\u001b[0m\u001b[0m\n\u001b[0;32m   7628\u001b[0m             \u001b[0mkeys\u001b[0m\u001b[1;33m=\u001b[0m\u001b[0mby\u001b[0m\u001b[1;33m,\u001b[0m\u001b[1;33m\u001b[0m\u001b[1;33m\u001b[0m\u001b[0m\n",
      "\u001b[1;32mC:\\ProgramData\\Anaconda3\\envs\\gis_env\\lib\\site-packages\\pandas\\core\\groupby\\groupby.py\u001b[0m in \u001b[0;36m__init__\u001b[1;34m(self, obj, keys, axis, level, grouper, exclusions, selection, as_index, sort, group_keys, squeeze, observed, mutated, dropna)\u001b[0m\n\u001b[0;32m    886\u001b[0m             \u001b[1;32mfrom\u001b[0m \u001b[0mpandas\u001b[0m\u001b[1;33m.\u001b[0m\u001b[0mcore\u001b[0m\u001b[1;33m.\u001b[0m\u001b[0mgroupby\u001b[0m\u001b[1;33m.\u001b[0m\u001b[0mgrouper\u001b[0m \u001b[1;32mimport\u001b[0m \u001b[0mget_grouper\u001b[0m\u001b[1;33m\u001b[0m\u001b[1;33m\u001b[0m\u001b[0m\n\u001b[0;32m    887\u001b[0m \u001b[1;33m\u001b[0m\u001b[0m\n\u001b[1;32m--> 888\u001b[1;33m             grouper, exclusions, obj = get_grouper(\n\u001b[0m\u001b[0;32m    889\u001b[0m                 \u001b[0mobj\u001b[0m\u001b[1;33m,\u001b[0m\u001b[1;33m\u001b[0m\u001b[1;33m\u001b[0m\u001b[0m\n\u001b[0;32m    890\u001b[0m                 \u001b[0mkeys\u001b[0m\u001b[1;33m,\u001b[0m\u001b[1;33m\u001b[0m\u001b[1;33m\u001b[0m\u001b[0m\n",
      "\u001b[1;32mC:\\ProgramData\\Anaconda3\\envs\\gis_env\\lib\\site-packages\\pandas\\core\\groupby\\grouper.py\u001b[0m in \u001b[0;36mget_grouper\u001b[1;34m(obj, key, axis, level, sort, observed, mutated, validate, dropna)\u001b[0m\n\u001b[0;32m    858\u001b[0m                 \u001b[0min_axis\u001b[0m\u001b[1;33m,\u001b[0m \u001b[0mlevel\u001b[0m\u001b[1;33m,\u001b[0m \u001b[0mgpr\u001b[0m \u001b[1;33m=\u001b[0m \u001b[1;32mFalse\u001b[0m\u001b[1;33m,\u001b[0m \u001b[0mgpr\u001b[0m\u001b[1;33m,\u001b[0m \u001b[1;32mNone\u001b[0m\u001b[1;33m\u001b[0m\u001b[1;33m\u001b[0m\u001b[0m\n\u001b[0;32m    859\u001b[0m             \u001b[1;32melse\u001b[0m\u001b[1;33m:\u001b[0m\u001b[1;33m\u001b[0m\u001b[1;33m\u001b[0m\u001b[0m\n\u001b[1;32m--> 860\u001b[1;33m                 \u001b[1;32mraise\u001b[0m \u001b[0mKeyError\u001b[0m\u001b[1;33m(\u001b[0m\u001b[0mgpr\u001b[0m\u001b[1;33m)\u001b[0m\u001b[1;33m\u001b[0m\u001b[1;33m\u001b[0m\u001b[0m\n\u001b[0m\u001b[0;32m    861\u001b[0m         \u001b[1;32melif\u001b[0m \u001b[0misinstance\u001b[0m\u001b[1;33m(\u001b[0m\u001b[0mgpr\u001b[0m\u001b[1;33m,\u001b[0m \u001b[0mGrouper\u001b[0m\u001b[1;33m)\u001b[0m \u001b[1;32mand\u001b[0m \u001b[0mgpr\u001b[0m\u001b[1;33m.\u001b[0m\u001b[0mkey\u001b[0m \u001b[1;32mis\u001b[0m \u001b[1;32mnot\u001b[0m \u001b[1;32mNone\u001b[0m\u001b[1;33m:\u001b[0m\u001b[1;33m\u001b[0m\u001b[1;33m\u001b[0m\u001b[0m\n\u001b[0;32m    862\u001b[0m             \u001b[1;31m# Add key to exclusions\u001b[0m\u001b[1;33m\u001b[0m\u001b[1;33m\u001b[0m\u001b[0m\n",
      "\u001b[1;31mKeyError\u001b[0m: 'QuarLang'"
     ]
    }
   ],
   "source": [
    "myTreemapAgg = data2betested.loc[\"2021\"]  \\\n",
    "    .groupby(['Jahr', 'QuarLang', 'KreisLang', 'ProjStatus']) \\\n",
    "    .agg(sum_ProjAnzGbd=('ProjAnzGbd', 'sum'),sum_ProjAnzWhg=('ProjAnzWhg', 'sum'))\\\n",
    "    .sort_values('sum_ProjAnzWhg', ascending=False) \n",
    "\n",
    "myTreemapAgg.reset_index().head(3)"
   ]
  },
  {
   "cell_type": "code",
   "execution_count": 140,
   "metadata": {},
   "outputs": [
    {
     "ename": "NameError",
     "evalue": "name 'myTreemapAgg' is not defined",
     "output_type": "error",
     "traceback": [
      "\u001b[1;31m---------------------------------------------------------------------------\u001b[0m",
      "\u001b[1;31mNameError\u001b[0m                                 Traceback (most recent call last)",
      "\u001b[1;32m~\\AppData\\Local\\Temp/ipykernel_16272/237358042.py\u001b[0m in \u001b[0;36m<module>\u001b[1;34m\u001b[0m\n\u001b[1;32m----> 1\u001b[1;33m fig = px.treemap(myTreemapAgg.query('sum_ProjAnzWhg >0').reset_index(), path=[px.Constant(\"Anzahl Wohnungen nach Projektstatus, Kreis und Quartier\"),'ProjStatus', 'KreisLang', 'QuarLang']\n\u001b[0m\u001b[0;32m      2\u001b[0m                  \u001b[1;33m,\u001b[0m \u001b[0mvalues\u001b[0m\u001b[1;33m=\u001b[0m\u001b[1;34m'sum_ProjAnzWhg'\u001b[0m\u001b[1;33m\u001b[0m\u001b[1;33m\u001b[0m\u001b[0m\n\u001b[0;32m      3\u001b[0m                  \u001b[1;33m,\u001b[0m \u001b[0mcolor\u001b[0m\u001b[1;33m=\u001b[0m\u001b[1;34m'sum_ProjAnzWhg'\u001b[0m\u001b[1;33m\u001b[0m\u001b[1;33m\u001b[0m\u001b[0m\n\u001b[0;32m      4\u001b[0m                  \u001b[1;31m## bei discrete scales (bei Klassen und Strings):\u001b[0m\u001b[1;33m\u001b[0m\u001b[1;33m\u001b[0m\u001b[0m\n\u001b[0;32m      5\u001b[0m                  \u001b[1;31m#, color_discrete_map={'(?)':'lightgrey','EVP':'gold', 'SP':'#FF3030', 'PdA':'#EE3B3B', 'Grüne':'#A2CD5A','GLP':'#CAFF70','Die Mitte':'orange','FDP':'#104E8B','AL':'deeppink','SVP':'forestgreen', 'FL ZÜRI':'#8B864E','Volt':'#lightblue' }\u001b[0m\u001b[1;33m\u001b[0m\u001b[1;33m\u001b[0m\u001b[0m\n",
      "\u001b[1;31mNameError\u001b[0m: name 'myTreemapAgg' is not defined"
     ]
    }
   ],
   "source": [
    "fig = px.treemap(myTreemapAgg.query('sum_ProjAnzWhg >0').reset_index(), path=[px.Constant(\"Anzahl Wohnungen nach Projektstatus, Kreis und Quartier\"),'ProjStatus', 'KreisLang', 'QuarLang']\n",
    "                 , values='sum_ProjAnzWhg'\n",
    "                 , color='sum_ProjAnzWhg'\n",
    "                 ## bei discrete scales (bei Klassen und Strings):                 \n",
    "                 #, color_discrete_map={'(?)':'lightgrey','EVP':'gold', 'SP':'#FF3030', 'PdA':'#EE3B3B', 'Grüne':'#A2CD5A','GLP':'#CAFF70','Die Mitte':'orange','FDP':'#104E8B','AL':'deeppink','SVP':'forestgreen', 'FL ZÜRI':'#8B864E','Volt':'#lightblue' }                \n",
    "                 ## bei continuous scales (bei Zahlenwerten):\n",
    "                , color_continuous_scale='cividis'\n",
    "                #, color_continuous_midpoint=np.average(df['AnzBestWir'], weights=df['AnzBestWir'])  \n",
    "                 ,height=400\n",
    "                 ,width=1100                 \n",
    "                )\n",
    "fig.update_traces(root_color=\"grey\")\n",
    "fig.update_layout(margin = dict(t=50, l=25, r=250, b=25))\n",
    "fig.show()"
   ]
  },
  {
   "cell_type": "markdown",
   "metadata": {},
   "source": [
    "#### Anzahl Wohnungen nach Projektstatus, Kreis und Quartier"
   ]
  },
  {
   "cell_type": "code",
   "execution_count": 33,
   "metadata": {},
   "outputs": [
    {
     "data": {
      "text/plain": [
       "QuarSort           int64\n",
       "QuarLang          object\n",
       "KreisSort          int64\n",
       "KreisLang         object\n",
       "ProjStatus        object\n",
       "ProjAnzGbd         int64\n",
       "ProjKosten         int64\n",
       "ProjRauminhalt     int64\n",
       "ProjAnzWhg         int64\n",
       "Whg_1_3_Zi         int64\n",
       "Whg_4plus_Zi       int64\n",
       "dtype: object"
      ]
     },
     "execution_count": 33,
     "metadata": {},
     "output_type": "execute_result"
    }
   ],
   "source": [
    "data2betested.dtypes"
   ]
  },
  {
   "cell_type": "code",
   "execution_count": 34,
   "metadata": {
    "tags": []
   },
   "outputs": [
    {
     "data": {
      "text/html": [
       "<div>\n",
       "<style scoped>\n",
       "    .dataframe tbody tr th:only-of-type {\n",
       "        vertical-align: middle;\n",
       "    }\n",
       "\n",
       "    .dataframe tbody tr th {\n",
       "        vertical-align: top;\n",
       "    }\n",
       "\n",
       "    .dataframe thead th {\n",
       "        text-align: right;\n",
       "    }\n",
       "</style>\n",
       "<table border=\"1\" class=\"dataframe\">\n",
       "  <thead>\n",
       "    <tr style=\"text-align: right;\">\n",
       "      <th></th>\n",
       "      <th>Jahr</th>\n",
       "      <th>QuarLang</th>\n",
       "      <th>KreisLang</th>\n",
       "      <th>ProjStatus</th>\n",
       "      <th>sum_ProjKosten</th>\n",
       "      <th>sum_Whg_1_3_Zi</th>\n",
       "      <th>sum_Whg_4plus_Zi</th>\n",
       "    </tr>\n",
       "  </thead>\n",
       "  <tbody>\n",
       "    <tr>\n",
       "      <th>0</th>\n",
       "      <td>2021-01-01</td>\n",
       "      <td>Seebach</td>\n",
       "      <td>Kreis 11</td>\n",
       "      <td>Im Bau</td>\n",
       "      <td>867143</td>\n",
       "      <td>1098</td>\n",
       "      <td>561</td>\n",
       "    </tr>\n",
       "    <tr>\n",
       "      <th>1</th>\n",
       "      <td>2021-01-01</td>\n",
       "      <td>Wollishofen</td>\n",
       "      <td>Kreis 2</td>\n",
       "      <td>Im Bau</td>\n",
       "      <td>320688</td>\n",
       "      <td>611</td>\n",
       "      <td>185</td>\n",
       "    </tr>\n",
       "    <tr>\n",
       "      <th>2</th>\n",
       "      <td>2021-01-01</td>\n",
       "      <td>Altstetten</td>\n",
       "      <td>Kreis 9</td>\n",
       "      <td>Im Bau</td>\n",
       "      <td>593275</td>\n",
       "      <td>601</td>\n",
       "      <td>181</td>\n",
       "    </tr>\n",
       "  </tbody>\n",
       "</table>\n",
       "</div>"
      ],
      "text/plain": [
       "        Jahr     QuarLang KreisLang ProjStatus  sum_ProjKosten  sum_Whg_1_3_Zi  sum_Whg_4plus_Zi\n",
       "0 2021-01-01      Seebach  Kreis 11     Im Bau          867143            1098               561\n",
       "1 2021-01-01  Wollishofen   Kreis 2     Im Bau          320688             611               185\n",
       "2 2021-01-01   Altstetten   Kreis 9     Im Bau          593275             601               181"
      ]
     },
     "execution_count": 34,
     "metadata": {},
     "output_type": "execute_result"
    }
   ],
   "source": [
    "myTreemapAgg = data2betested.loc[\"2021\"]  \\\n",
    "    .groupby(['Jahr', 'QuarLang', 'KreisLang', 'ProjStatus']) \\\n",
    "    .agg(sum_ProjKosten=('ProjKosten', 'sum'), sum_Whg_1_3_Zi=('Whg_1_3_Zi', 'sum'),sum_Whg_4plus_Zi=('Whg_4plus_Zi', 'sum'))\\\n",
    "    .sort_values('sum_Whg_1_3_Zi', ascending=False) \n",
    "\n",
    "myTreemapAgg.reset_index().head(3)"
   ]
  },
  {
   "cell_type": "code",
   "execution_count": 35,
   "metadata": {},
   "outputs": [
    {
     "data": {
      "application/vnd.plotly.v1+json": {
       "config": {
        "plotlyServerURL": "https://plot.ly"
       },
       "data": [
        {
         "branchvalues": "total",
         "customdata": [
          [
           "Im Bau"
          ],
          [
           "Im Bau"
          ],
          [
           "Fertigerstellt"
          ],
          [
           "Bewilligt"
          ],
          [
           "Bewilligt"
          ],
          [
           "Im Bau"
          ],
          [
           "Fertigerstellt"
          ],
          [
           "Im Bau"
          ],
          [
           "Bewilligt"
          ],
          [
           "Im Bau"
          ],
          [
           "Fertigerstellt"
          ],
          [
           "Im Bau"
          ],
          [
           "Fertigerstellt"
          ],
          [
           "Im Bau"
          ],
          [
           "Im Bau"
          ],
          [
           "Im Bau"
          ],
          [
           "Im Bau"
          ],
          [
           "Bewilligt"
          ],
          [
           "Bewilligt"
          ],
          [
           "Fertigerstellt"
          ],
          [
           "Bewilligt"
          ],
          [
           "Fertigerstellt"
          ],
          [
           "Bewilligt"
          ],
          [
           "Bewilligt"
          ],
          [
           "Im Bau"
          ],
          [
           "Fertigerstellt"
          ],
          [
           "Bewilligt"
          ],
          [
           "Fertigerstellt"
          ],
          [
           "Bewilligt"
          ],
          [
           "Fertigerstellt"
          ],
          [
           "Im Bau"
          ],
          [
           "Bewilligt"
          ],
          [
           "Bewilligt"
          ],
          [
           "Fertigerstellt"
          ],
          [
           "Im Bau"
          ],
          [
           "Fertigerstellt"
          ],
          [
           "Im Bau"
          ],
          [
           "Fertigerstellt"
          ],
          [
           "Im Bau"
          ],
          [
           "Im Bau"
          ],
          [
           "Im Bau"
          ],
          [
           "Im Bau"
          ],
          [
           "Fertigerstellt"
          ],
          [
           "Bewilligt"
          ],
          [
           "Im Bau"
          ],
          [
           "Bewilligt"
          ],
          [
           "Bewilligt"
          ],
          [
           "Fertigerstellt"
          ],
          [
           "Fertigerstellt"
          ],
          [
           "Im Bau"
          ],
          [
           "Bewilligt"
          ],
          [
           "Fertigerstellt"
          ],
          [
           "Bewilligt"
          ],
          [
           "Fertigerstellt"
          ],
          [
           "Im Bau"
          ],
          [
           "Fertigerstellt"
          ],
          [
           "Fertigerstellt"
          ],
          [
           "Im Bau"
          ],
          [
           "Bewilligt"
          ],
          [
           "Im Bau"
          ],
          [
           "Bewilligt"
          ],
          [
           "Im Bau"
          ],
          [
           "Fertigerstellt"
          ],
          [
           "Fertigerstellt"
          ],
          [
           "Bewilligt"
          ],
          [
           "Fertigerstellt"
          ],
          [
           "Im Bau"
          ],
          [
           "Im Bau"
          ],
          [
           "Im Bau"
          ],
          [
           "Fertigerstellt"
          ],
          [
           "Bewilligt"
          ],
          [
           "Im Bau"
          ],
          [
           "Bewilligt"
          ],
          [
           "Fertigerstellt"
          ],
          [
           "Im Bau"
          ],
          [
           "Fertigerstellt"
          ],
          [
           "Im Bau"
          ],
          [
           "Bewilligt"
          ],
          [
           "Fertigerstellt"
          ],
          [
           "Im Bau"
          ],
          [
           "Bewilligt"
          ],
          [
           "Im Bau"
          ],
          [
           "Bewilligt"
          ],
          [
           "Fertigerstellt"
          ],
          [
           "Im Bau"
          ],
          [
           "Bewilligt"
          ],
          [
           "Fertigerstellt"
          ],
          [
           "Im Bau"
          ],
          [
           "Bewilligt"
          ],
          [
           "Fertigerstellt"
          ],
          [
           "Im Bau"
          ],
          [
           "Bewilligt"
          ],
          [
           "Fertigerstellt"
          ],
          [
           "Im Bau"
          ],
          [
           "Bewilligt"
          ],
          [
           "Fertigerstellt"
          ],
          [
           "Im Bau"
          ],
          [
           "Bewilligt"
          ],
          [
           "Fertigerstellt"
          ],
          [
           "Im Bau"
          ],
          [
           "Bewilligt"
          ],
          [
           "Fertigerstellt"
          ],
          [
           "Im Bau"
          ],
          [
           "(?)"
          ]
         ],
         "domain": {
          "x": [
           0,
           1
          ],
          "y": [
           0,
           1
          ]
         },
         "hovertemplate": "labels=%{label}<br>sum_ProjKosten=%{value}<br>parent=%{parent}<br>id=%{id}<br>ProjStatus=%{customdata[0]}<extra></extra>",
         "ids": [
          "Anzahl Wohnungen nach Projektstatus, Kreis und Quartier/Im Bau/Kreis 2/Wollishofen",
          "Anzahl Wohnungen nach Projektstatus, Kreis und Quartier/Im Bau/Kreis 6/Oberstrass",
          "Anzahl Wohnungen nach Projektstatus, Kreis und Quartier/Fertigerstellt/Kreis 6/Oberstrass",
          "Anzahl Wohnungen nach Projektstatus, Kreis und Quartier/Bewilligt/Kreis 6/Oberstrass",
          "Anzahl Wohnungen nach Projektstatus, Kreis und Quartier/Bewilligt/Kreis 11/Seebach",
          "Anzahl Wohnungen nach Projektstatus, Kreis und Quartier/Im Bau/Kreis 11/Seebach",
          "Anzahl Wohnungen nach Projektstatus, Kreis und Quartier/Fertigerstellt/Kreis 8/Seefeld",
          "Anzahl Wohnungen nach Projektstatus, Kreis und Quartier/Im Bau/Kreis 3/Sihlfeld",
          "Anzahl Wohnungen nach Projektstatus, Kreis und Quartier/Bewilligt/Kreis 7/Hottingen",
          "Anzahl Wohnungen nach Projektstatus, Kreis und Quartier/Im Bau/Kreis 12/Hirzenbach",
          "Anzahl Wohnungen nach Projektstatus, Kreis und Quartier/Fertigerstellt/Kreis 7/Hirslanden",
          "Anzahl Wohnungen nach Projektstatus, Kreis und Quartier/Im Bau/Kreis 3/Friesenberg",
          "Anzahl Wohnungen nach Projektstatus, Kreis und Quartier/Fertigerstellt/Kreis 7/Fluntern",
          "Anzahl Wohnungen nach Projektstatus, Kreis und Quartier/Im Bau/Kreis 8/Weinegg",
          "Anzahl Wohnungen nach Projektstatus, Kreis und Quartier/Im Bau/Kreis 4/Hard",
          "Anzahl Wohnungen nach Projektstatus, Kreis und Quartier/Im Bau/Kreis 3/Alt-Wiedikon",
          "Anzahl Wohnungen nach Projektstatus, Kreis und Quartier/Im Bau/Kreis 9/Albisrieden",
          "Anzahl Wohnungen nach Projektstatus, Kreis und Quartier/Bewilligt/Kreis 4/Werd",
          "Anzahl Wohnungen nach Projektstatus, Kreis und Quartier/Bewilligt/Kreis 10/Wipkingen",
          "Anzahl Wohnungen nach Projektstatus, Kreis und Quartier/Fertigerstellt/Kreis 12/Schwamendingen-Mitte",
          "Anzahl Wohnungen nach Projektstatus, Kreis und Quartier/Bewilligt/Kreis 5/Gewerbeschule",
          "Anzahl Wohnungen nach Projektstatus, Kreis und Quartier/Fertigerstellt/Kreis 11/Oerlikon",
          "Anzahl Wohnungen nach Projektstatus, Kreis und Quartier/Bewilligt/Kreis 11/Oerlikon",
          "Anzahl Wohnungen nach Projektstatus, Kreis und Quartier/Bewilligt/Kreis 2/Wollishofen",
          "Anzahl Wohnungen nach Projektstatus, Kreis und Quartier/Im Bau/Kreis 7/Witikon",
          "Anzahl Wohnungen nach Projektstatus, Kreis und Quartier/Fertigerstellt/Kreis 7/Witikon",
          "Anzahl Wohnungen nach Projektstatus, Kreis und Quartier/Bewilligt/Kreis 7/Witikon",
          "Anzahl Wohnungen nach Projektstatus, Kreis und Quartier/Fertigerstellt/Kreis 11/Seebach",
          "Anzahl Wohnungen nach Projektstatus, Kreis und Quartier/Bewilligt/Kreis 2/Leimbach",
          "Anzahl Wohnungen nach Projektstatus, Kreis und Quartier/Fertigerstellt/Kreis 2/Wollishofen",
          "Anzahl Wohnungen nach Projektstatus, Kreis und Quartier/Im Bau/Kreis 10/Höngg",
          "Anzahl Wohnungen nach Projektstatus, Kreis und Quartier/Bewilligt/Kreis 2/Enge",
          "Anzahl Wohnungen nach Projektstatus, Kreis und Quartier/Bewilligt/Kreis 3/Alt-Wiedikon",
          "Anzahl Wohnungen nach Projektstatus, Kreis und Quartier/Fertigerstellt/Kreis 4/Werd",
          "Anzahl Wohnungen nach Projektstatus, Kreis und Quartier/Im Bau/Kreis 10/Wipkingen",
          "Anzahl Wohnungen nach Projektstatus, Kreis und Quartier/Fertigerstellt/Kreis 1/Hochschulen",
          "Anzahl Wohnungen nach Projektstatus, Kreis und Quartier/Im Bau/Kreis 7/Fluntern",
          "Anzahl Wohnungen nach Projektstatus, Kreis und Quartier/Fertigerstellt/Kreis 6/Unterstrass",
          "Anzahl Wohnungen nach Projektstatus, Kreis und Quartier/Im Bau/Kreis 4/Werd",
          "Anzahl Wohnungen nach Projektstatus, Kreis und Quartier/Im Bau/Kreis 6/Unterstrass",
          "Anzahl Wohnungen nach Projektstatus, Kreis und Quartier/Im Bau/Kreis 7/Hottingen",
          "Anzahl Wohnungen nach Projektstatus, Kreis und Quartier/Im Bau/Kreis 2/Enge",
          "Anzahl Wohnungen nach Projektstatus, Kreis und Quartier/Fertigerstellt/Kreis 8/Weinegg",
          "Anzahl Wohnungen nach Projektstatus, Kreis und Quartier/Bewilligt/Kreis 6/Unterstrass",
          "Anzahl Wohnungen nach Projektstatus, Kreis und Quartier/Im Bau/Kreis 12/Schwamendingen-Mitte",
          "Anzahl Wohnungen nach Projektstatus, Kreis und Quartier/Bewilligt/Kreis 8/Weinegg",
          "Anzahl Wohnungen nach Projektstatus, Kreis und Quartier/Bewilligt/Kreis 11/Affoltern",
          "Anzahl Wohnungen nach Projektstatus, Kreis und Quartier/Fertigerstellt/Kreis 1/Lindenhof",
          "Anzahl Wohnungen nach Projektstatus, Kreis und Quartier/Fertigerstellt/Kreis 11/Affoltern",
          "Anzahl Wohnungen nach Projektstatus, Kreis und Quartier/Im Bau/Kreis 11/Affoltern",
          "Anzahl Wohnungen nach Projektstatus, Kreis und Quartier/Bewilligt/Kreis 9/Albisrieden",
          "Anzahl Wohnungen nach Projektstatus, Kreis und Quartier/Fertigerstellt/Kreis 9/Albisrieden",
          "Anzahl Wohnungen nach Projektstatus, Kreis und Quartier/Bewilligt/Kreis 9/Altstetten",
          "Anzahl Wohnungen nach Projektstatus, Kreis und Quartier/Fertigerstellt/Kreis 9/Altstetten",
          "Anzahl Wohnungen nach Projektstatus, Kreis und Quartier/Im Bau/Kreis 9/Altstetten",
          "Anzahl Wohnungen nach Projektstatus, Kreis und Quartier/Fertigerstellt/Kreis 2/Enge",
          "Anzahl Wohnungen nach Projektstatus, Kreis und Quartier/Fertigerstellt/Kreis 5/Escher Wyss",
          "Anzahl Wohnungen nach Projektstatus, Kreis und Quartier/Im Bau/Kreis 5/Escher Wyss",
          "Anzahl Wohnungen nach Projektstatus, Kreis und Quartier/Bewilligt/Kreis 7/Fluntern",
          "Anzahl Wohnungen nach Projektstatus, Kreis und Quartier/Im Bau/Kreis 5/Gewerbeschule",
          "Anzahl Wohnungen nach Projektstatus, Kreis und Quartier/Bewilligt/Kreis 7/Hirslanden",
          "Anzahl Wohnungen nach Projektstatus, Kreis und Quartier/Im Bau/Kreis 7/Hirslanden",
          "Anzahl Wohnungen nach Projektstatus, Kreis und Quartier/Fertigerstellt/Kreis 12/Hirzenbach",
          "Anzahl Wohnungen nach Projektstatus, Kreis und Quartier/Fertigerstellt/Kreis 7/Hottingen",
          "Anzahl Wohnungen nach Projektstatus, Kreis und Quartier/Bewilligt/Kreis 10/Höngg",
          "Anzahl Wohnungen nach Projektstatus, Kreis und Quartier/Fertigerstellt/Kreis 2/Leimbach",
          "Anzahl Wohnungen nach Projektstatus, Kreis und Quartier/Im Bau/Kreis 2/Leimbach",
          "Anzahl Wohnungen nach Projektstatus, Kreis und Quartier/Im Bau/Kreis 11/Oerlikon",
          "Anzahl Wohnungen nach Projektstatus, Kreis und Quartier/Im Bau/Kreis 4/Langstrasse",
          "Anzahl Wohnungen nach Projektstatus, Kreis und Quartier/Fertigerstellt/Kreis 1",
          "Anzahl Wohnungen nach Projektstatus, Kreis und Quartier/Bewilligt/Kreis 10",
          "Anzahl Wohnungen nach Projektstatus, Kreis und Quartier/Im Bau/Kreis 10",
          "Anzahl Wohnungen nach Projektstatus, Kreis und Quartier/Bewilligt/Kreis 11",
          "Anzahl Wohnungen nach Projektstatus, Kreis und Quartier/Fertigerstellt/Kreis 11",
          "Anzahl Wohnungen nach Projektstatus, Kreis und Quartier/Im Bau/Kreis 11",
          "Anzahl Wohnungen nach Projektstatus, Kreis und Quartier/Fertigerstellt/Kreis 12",
          "Anzahl Wohnungen nach Projektstatus, Kreis und Quartier/Im Bau/Kreis 12",
          "Anzahl Wohnungen nach Projektstatus, Kreis und Quartier/Bewilligt/Kreis 2",
          "Anzahl Wohnungen nach Projektstatus, Kreis und Quartier/Fertigerstellt/Kreis 2",
          "Anzahl Wohnungen nach Projektstatus, Kreis und Quartier/Im Bau/Kreis 2",
          "Anzahl Wohnungen nach Projektstatus, Kreis und Quartier/Bewilligt/Kreis 3",
          "Anzahl Wohnungen nach Projektstatus, Kreis und Quartier/Im Bau/Kreis 3",
          "Anzahl Wohnungen nach Projektstatus, Kreis und Quartier/Bewilligt/Kreis 4",
          "Anzahl Wohnungen nach Projektstatus, Kreis und Quartier/Fertigerstellt/Kreis 4",
          "Anzahl Wohnungen nach Projektstatus, Kreis und Quartier/Im Bau/Kreis 4",
          "Anzahl Wohnungen nach Projektstatus, Kreis und Quartier/Bewilligt/Kreis 5",
          "Anzahl Wohnungen nach Projektstatus, Kreis und Quartier/Fertigerstellt/Kreis 5",
          "Anzahl Wohnungen nach Projektstatus, Kreis und Quartier/Im Bau/Kreis 5",
          "Anzahl Wohnungen nach Projektstatus, Kreis und Quartier/Bewilligt/Kreis 6",
          "Anzahl Wohnungen nach Projektstatus, Kreis und Quartier/Fertigerstellt/Kreis 6",
          "Anzahl Wohnungen nach Projektstatus, Kreis und Quartier/Im Bau/Kreis 6",
          "Anzahl Wohnungen nach Projektstatus, Kreis und Quartier/Bewilligt/Kreis 7",
          "Anzahl Wohnungen nach Projektstatus, Kreis und Quartier/Fertigerstellt/Kreis 7",
          "Anzahl Wohnungen nach Projektstatus, Kreis und Quartier/Im Bau/Kreis 7",
          "Anzahl Wohnungen nach Projektstatus, Kreis und Quartier/Bewilligt/Kreis 8",
          "Anzahl Wohnungen nach Projektstatus, Kreis und Quartier/Fertigerstellt/Kreis 8",
          "Anzahl Wohnungen nach Projektstatus, Kreis und Quartier/Im Bau/Kreis 8",
          "Anzahl Wohnungen nach Projektstatus, Kreis und Quartier/Bewilligt/Kreis 9",
          "Anzahl Wohnungen nach Projektstatus, Kreis und Quartier/Fertigerstellt/Kreis 9",
          "Anzahl Wohnungen nach Projektstatus, Kreis und Quartier/Im Bau/Kreis 9",
          "Anzahl Wohnungen nach Projektstatus, Kreis und Quartier/Bewilligt",
          "Anzahl Wohnungen nach Projektstatus, Kreis und Quartier/Fertigerstellt",
          "Anzahl Wohnungen nach Projektstatus, Kreis und Quartier/Im Bau",
          "Anzahl Wohnungen nach Projektstatus, Kreis und Quartier"
         ],
         "labels": [
          "Wollishofen",
          "Oberstrass",
          "Oberstrass",
          "Oberstrass",
          "Seebach",
          "Seebach",
          "Seefeld",
          "Sihlfeld",
          "Hottingen",
          "Hirzenbach",
          "Hirslanden",
          "Friesenberg",
          "Fluntern",
          "Weinegg",
          "Hard",
          "Alt-Wiedikon",
          "Albisrieden",
          "Werd",
          "Wipkingen",
          "Schwamendingen-Mitte",
          "Gewerbeschule",
          "Oerlikon",
          "Oerlikon",
          "Wollishofen",
          "Witikon",
          "Witikon",
          "Witikon",
          "Seebach",
          "Leimbach",
          "Wollishofen",
          "Höngg",
          "Enge",
          "Alt-Wiedikon",
          "Werd",
          "Wipkingen",
          "Hochschulen",
          "Fluntern",
          "Unterstrass",
          "Werd",
          "Unterstrass",
          "Hottingen",
          "Enge",
          "Weinegg",
          "Unterstrass",
          "Schwamendingen-Mitte",
          "Weinegg",
          "Affoltern",
          "Lindenhof",
          "Affoltern",
          "Affoltern",
          "Albisrieden",
          "Albisrieden",
          "Altstetten",
          "Altstetten",
          "Altstetten",
          "Enge",
          "Escher Wyss",
          "Escher Wyss",
          "Fluntern",
          "Gewerbeschule",
          "Hirslanden",
          "Hirslanden",
          "Hirzenbach",
          "Hottingen",
          "Höngg",
          "Leimbach",
          "Leimbach",
          "Oerlikon",
          "Langstrasse",
          "Kreis 1",
          "Kreis 10",
          "Kreis 10",
          "Kreis 11",
          "Kreis 11",
          "Kreis 11",
          "Kreis 12",
          "Kreis 12",
          "Kreis 2",
          "Kreis 2",
          "Kreis 2",
          "Kreis 3",
          "Kreis 3",
          "Kreis 4",
          "Kreis 4",
          "Kreis 4",
          "Kreis 5",
          "Kreis 5",
          "Kreis 5",
          "Kreis 6",
          "Kreis 6",
          "Kreis 6",
          "Kreis 7",
          "Kreis 7",
          "Kreis 7",
          "Kreis 8",
          "Kreis 8",
          "Kreis 8",
          "Kreis 9",
          "Kreis 9",
          "Kreis 9",
          "Bewilligt",
          "Fertigerstellt",
          "Im Bau",
          "Anzahl Wohnungen nach Projektstatus, Kreis und Quartier"
         ],
         "marker": {
          "colors": [
           "#636efa",
           "#636efa",
           "#EF553B",
           "#00cc96",
           "#00cc96",
           "#636efa",
           "#EF553B",
           "#636efa",
           "#00cc96",
           "#636efa",
           "#EF553B",
           "#636efa",
           "#EF553B",
           "#636efa",
           "#636efa",
           "#636efa",
           "#636efa",
           "#00cc96",
           "#00cc96",
           "#EF553B",
           "#00cc96",
           "#EF553B",
           "#00cc96",
           "#00cc96",
           "#636efa",
           "#EF553B",
           "#00cc96",
           "#EF553B",
           "#00cc96",
           "#EF553B",
           "#636efa",
           "#00cc96",
           "#00cc96",
           "#EF553B",
           "#636efa",
           "#EF553B",
           "#636efa",
           "#EF553B",
           "#636efa",
           "#636efa",
           "#636efa",
           "#636efa",
           "#EF553B",
           "#00cc96",
           "#636efa",
           "#00cc96",
           "#00cc96",
           "#EF553B",
           "#EF553B",
           "#636efa",
           "#00cc96",
           "#EF553B",
           "#00cc96",
           "#EF553B",
           "#636efa",
           "#EF553B",
           "#EF553B",
           "#636efa",
           "#00cc96",
           "#636efa",
           "#00cc96",
           "#636efa",
           "#EF553B",
           "#EF553B",
           "#00cc96",
           "#EF553B",
           "#636efa",
           "#636efa",
           "#636efa",
           "#EF553B",
           "#00cc96",
           "#636efa",
           "#00cc96",
           "#EF553B",
           "#636efa",
           "#EF553B",
           "#636efa",
           "#00cc96",
           "#EF553B",
           "#636efa",
           "#00cc96",
           "#636efa",
           "#00cc96",
           "#EF553B",
           "#636efa",
           "#00cc96",
           "#EF553B",
           "#636efa",
           "#00cc96",
           "#EF553B",
           "#636efa",
           "#00cc96",
           "#EF553B",
           "#636efa",
           "#00cc96",
           "#EF553B",
           "#636efa",
           "#00cc96",
           "#EF553B",
           "#636efa",
           "#00cc96",
           "#EF553B",
           "#636efa",
           "#ab63fa"
          ]
         },
         "name": "",
         "parents": [
          "Anzahl Wohnungen nach Projektstatus, Kreis und Quartier/Im Bau/Kreis 2",
          "Anzahl Wohnungen nach Projektstatus, Kreis und Quartier/Im Bau/Kreis 6",
          "Anzahl Wohnungen nach Projektstatus, Kreis und Quartier/Fertigerstellt/Kreis 6",
          "Anzahl Wohnungen nach Projektstatus, Kreis und Quartier/Bewilligt/Kreis 6",
          "Anzahl Wohnungen nach Projektstatus, Kreis und Quartier/Bewilligt/Kreis 11",
          "Anzahl Wohnungen nach Projektstatus, Kreis und Quartier/Im Bau/Kreis 11",
          "Anzahl Wohnungen nach Projektstatus, Kreis und Quartier/Fertigerstellt/Kreis 8",
          "Anzahl Wohnungen nach Projektstatus, Kreis und Quartier/Im Bau/Kreis 3",
          "Anzahl Wohnungen nach Projektstatus, Kreis und Quartier/Bewilligt/Kreis 7",
          "Anzahl Wohnungen nach Projektstatus, Kreis und Quartier/Im Bau/Kreis 12",
          "Anzahl Wohnungen nach Projektstatus, Kreis und Quartier/Fertigerstellt/Kreis 7",
          "Anzahl Wohnungen nach Projektstatus, Kreis und Quartier/Im Bau/Kreis 3",
          "Anzahl Wohnungen nach Projektstatus, Kreis und Quartier/Fertigerstellt/Kreis 7",
          "Anzahl Wohnungen nach Projektstatus, Kreis und Quartier/Im Bau/Kreis 8",
          "Anzahl Wohnungen nach Projektstatus, Kreis und Quartier/Im Bau/Kreis 4",
          "Anzahl Wohnungen nach Projektstatus, Kreis und Quartier/Im Bau/Kreis 3",
          "Anzahl Wohnungen nach Projektstatus, Kreis und Quartier/Im Bau/Kreis 9",
          "Anzahl Wohnungen nach Projektstatus, Kreis und Quartier/Bewilligt/Kreis 4",
          "Anzahl Wohnungen nach Projektstatus, Kreis und Quartier/Bewilligt/Kreis 10",
          "Anzahl Wohnungen nach Projektstatus, Kreis und Quartier/Fertigerstellt/Kreis 12",
          "Anzahl Wohnungen nach Projektstatus, Kreis und Quartier/Bewilligt/Kreis 5",
          "Anzahl Wohnungen nach Projektstatus, Kreis und Quartier/Fertigerstellt/Kreis 11",
          "Anzahl Wohnungen nach Projektstatus, Kreis und Quartier/Bewilligt/Kreis 11",
          "Anzahl Wohnungen nach Projektstatus, Kreis und Quartier/Bewilligt/Kreis 2",
          "Anzahl Wohnungen nach Projektstatus, Kreis und Quartier/Im Bau/Kreis 7",
          "Anzahl Wohnungen nach Projektstatus, Kreis und Quartier/Fertigerstellt/Kreis 7",
          "Anzahl Wohnungen nach Projektstatus, Kreis und Quartier/Bewilligt/Kreis 7",
          "Anzahl Wohnungen nach Projektstatus, Kreis und Quartier/Fertigerstellt/Kreis 11",
          "Anzahl Wohnungen nach Projektstatus, Kreis und Quartier/Bewilligt/Kreis 2",
          "Anzahl Wohnungen nach Projektstatus, Kreis und Quartier/Fertigerstellt/Kreis 2",
          "Anzahl Wohnungen nach Projektstatus, Kreis und Quartier/Im Bau/Kreis 10",
          "Anzahl Wohnungen nach Projektstatus, Kreis und Quartier/Bewilligt/Kreis 2",
          "Anzahl Wohnungen nach Projektstatus, Kreis und Quartier/Bewilligt/Kreis 3",
          "Anzahl Wohnungen nach Projektstatus, Kreis und Quartier/Fertigerstellt/Kreis 4",
          "Anzahl Wohnungen nach Projektstatus, Kreis und Quartier/Im Bau/Kreis 10",
          "Anzahl Wohnungen nach Projektstatus, Kreis und Quartier/Fertigerstellt/Kreis 1",
          "Anzahl Wohnungen nach Projektstatus, Kreis und Quartier/Im Bau/Kreis 7",
          "Anzahl Wohnungen nach Projektstatus, Kreis und Quartier/Fertigerstellt/Kreis 6",
          "Anzahl Wohnungen nach Projektstatus, Kreis und Quartier/Im Bau/Kreis 4",
          "Anzahl Wohnungen nach Projektstatus, Kreis und Quartier/Im Bau/Kreis 6",
          "Anzahl Wohnungen nach Projektstatus, Kreis und Quartier/Im Bau/Kreis 7",
          "Anzahl Wohnungen nach Projektstatus, Kreis und Quartier/Im Bau/Kreis 2",
          "Anzahl Wohnungen nach Projektstatus, Kreis und Quartier/Fertigerstellt/Kreis 8",
          "Anzahl Wohnungen nach Projektstatus, Kreis und Quartier/Bewilligt/Kreis 6",
          "Anzahl Wohnungen nach Projektstatus, Kreis und Quartier/Im Bau/Kreis 12",
          "Anzahl Wohnungen nach Projektstatus, Kreis und Quartier/Bewilligt/Kreis 8",
          "Anzahl Wohnungen nach Projektstatus, Kreis und Quartier/Bewilligt/Kreis 11",
          "Anzahl Wohnungen nach Projektstatus, Kreis und Quartier/Fertigerstellt/Kreis 1",
          "Anzahl Wohnungen nach Projektstatus, Kreis und Quartier/Fertigerstellt/Kreis 11",
          "Anzahl Wohnungen nach Projektstatus, Kreis und Quartier/Im Bau/Kreis 11",
          "Anzahl Wohnungen nach Projektstatus, Kreis und Quartier/Bewilligt/Kreis 9",
          "Anzahl Wohnungen nach Projektstatus, Kreis und Quartier/Fertigerstellt/Kreis 9",
          "Anzahl Wohnungen nach Projektstatus, Kreis und Quartier/Bewilligt/Kreis 9",
          "Anzahl Wohnungen nach Projektstatus, Kreis und Quartier/Fertigerstellt/Kreis 9",
          "Anzahl Wohnungen nach Projektstatus, Kreis und Quartier/Im Bau/Kreis 9",
          "Anzahl Wohnungen nach Projektstatus, Kreis und Quartier/Fertigerstellt/Kreis 2",
          "Anzahl Wohnungen nach Projektstatus, Kreis und Quartier/Fertigerstellt/Kreis 5",
          "Anzahl Wohnungen nach Projektstatus, Kreis und Quartier/Im Bau/Kreis 5",
          "Anzahl Wohnungen nach Projektstatus, Kreis und Quartier/Bewilligt/Kreis 7",
          "Anzahl Wohnungen nach Projektstatus, Kreis und Quartier/Im Bau/Kreis 5",
          "Anzahl Wohnungen nach Projektstatus, Kreis und Quartier/Bewilligt/Kreis 7",
          "Anzahl Wohnungen nach Projektstatus, Kreis und Quartier/Im Bau/Kreis 7",
          "Anzahl Wohnungen nach Projektstatus, Kreis und Quartier/Fertigerstellt/Kreis 12",
          "Anzahl Wohnungen nach Projektstatus, Kreis und Quartier/Fertigerstellt/Kreis 7",
          "Anzahl Wohnungen nach Projektstatus, Kreis und Quartier/Bewilligt/Kreis 10",
          "Anzahl Wohnungen nach Projektstatus, Kreis und Quartier/Fertigerstellt/Kreis 2",
          "Anzahl Wohnungen nach Projektstatus, Kreis und Quartier/Im Bau/Kreis 2",
          "Anzahl Wohnungen nach Projektstatus, Kreis und Quartier/Im Bau/Kreis 11",
          "Anzahl Wohnungen nach Projektstatus, Kreis und Quartier/Im Bau/Kreis 4",
          "Anzahl Wohnungen nach Projektstatus, Kreis und Quartier/Fertigerstellt",
          "Anzahl Wohnungen nach Projektstatus, Kreis und Quartier/Bewilligt",
          "Anzahl Wohnungen nach Projektstatus, Kreis und Quartier/Im Bau",
          "Anzahl Wohnungen nach Projektstatus, Kreis und Quartier/Bewilligt",
          "Anzahl Wohnungen nach Projektstatus, Kreis und Quartier/Fertigerstellt",
          "Anzahl Wohnungen nach Projektstatus, Kreis und Quartier/Im Bau",
          "Anzahl Wohnungen nach Projektstatus, Kreis und Quartier/Fertigerstellt",
          "Anzahl Wohnungen nach Projektstatus, Kreis und Quartier/Im Bau",
          "Anzahl Wohnungen nach Projektstatus, Kreis und Quartier/Bewilligt",
          "Anzahl Wohnungen nach Projektstatus, Kreis und Quartier/Fertigerstellt",
          "Anzahl Wohnungen nach Projektstatus, Kreis und Quartier/Im Bau",
          "Anzahl Wohnungen nach Projektstatus, Kreis und Quartier/Bewilligt",
          "Anzahl Wohnungen nach Projektstatus, Kreis und Quartier/Im Bau",
          "Anzahl Wohnungen nach Projektstatus, Kreis und Quartier/Bewilligt",
          "Anzahl Wohnungen nach Projektstatus, Kreis und Quartier/Fertigerstellt",
          "Anzahl Wohnungen nach Projektstatus, Kreis und Quartier/Im Bau",
          "Anzahl Wohnungen nach Projektstatus, Kreis und Quartier/Bewilligt",
          "Anzahl Wohnungen nach Projektstatus, Kreis und Quartier/Fertigerstellt",
          "Anzahl Wohnungen nach Projektstatus, Kreis und Quartier/Im Bau",
          "Anzahl Wohnungen nach Projektstatus, Kreis und Quartier/Bewilligt",
          "Anzahl Wohnungen nach Projektstatus, Kreis und Quartier/Fertigerstellt",
          "Anzahl Wohnungen nach Projektstatus, Kreis und Quartier/Im Bau",
          "Anzahl Wohnungen nach Projektstatus, Kreis und Quartier/Bewilligt",
          "Anzahl Wohnungen nach Projektstatus, Kreis und Quartier/Fertigerstellt",
          "Anzahl Wohnungen nach Projektstatus, Kreis und Quartier/Im Bau",
          "Anzahl Wohnungen nach Projektstatus, Kreis und Quartier/Bewilligt",
          "Anzahl Wohnungen nach Projektstatus, Kreis und Quartier/Fertigerstellt",
          "Anzahl Wohnungen nach Projektstatus, Kreis und Quartier/Im Bau",
          "Anzahl Wohnungen nach Projektstatus, Kreis und Quartier/Bewilligt",
          "Anzahl Wohnungen nach Projektstatus, Kreis und Quartier/Fertigerstellt",
          "Anzahl Wohnungen nach Projektstatus, Kreis und Quartier/Im Bau",
          "Anzahl Wohnungen nach Projektstatus, Kreis und Quartier",
          "Anzahl Wohnungen nach Projektstatus, Kreis und Quartier",
          "Anzahl Wohnungen nach Projektstatus, Kreis und Quartier",
          ""
         ],
         "root": {
          "color": "grey"
         },
         "type": "treemap",
         "values": [
          320688,
          49900,
          216309,
          53700,
          18894,
          867143,
          95867,
          46200,
          131500,
          73696,
          34867,
          18260,
          26196,
          623100,
          734633,
          56140,
          347165,
          31524,
          19075,
          10100,
          38000,
          25820,
          131880,
          70846,
          93442,
          13626,
          33442,
          103780,
          3400,
          349456,
          103017,
          48895,
          134306,
          36000,
          33325,
          180000,
          63335,
          91245,
          13000,
          116700,
          38004,
          239800,
          2800,
          88254,
          120100,
          18000,
          6500,
          11630,
          10718,
          289760,
          71095,
          38700,
          165000,
          159670,
          593275,
          49480,
          190700,
          245415,
          22550,
          26450,
          22280,
          57200,
          11000,
          12016,
          18410,
          56200,
          10194,
          136891,
          47900,
          191630,
          37485,
          136342,
          157274,
          140318,
          1293794,
          21100,
          193796,
          123141,
          455136,
          570682,
          134306,
          120600,
          31524,
          36000,
          795533,
          38000,
          190700,
          271865,
          141954,
          307554,
          166600,
          209772,
          86705,
          251981,
          18000,
          98667,
          623100,
          236095,
          198370,
          940440,
          1127551,
          1726180,
          5364733,
          8218464
         ]
        }
       ],
       "layout": {
        "height": 400,
        "legend": {
         "tracegroupgap": 0
        },
        "margin": {
         "b": 25,
         "l": 25,
         "r": 250,
         "t": 50
        },
        "template": {
         "data": {
          "bar": [
           {
            "error_x": {
             "color": "#2a3f5f"
            },
            "error_y": {
             "color": "#2a3f5f"
            },
            "marker": {
             "line": {
              "color": "#E5ECF6",
              "width": 0.5
             },
             "pattern": {
              "fillmode": "overlay",
              "size": 10,
              "solidity": 0.2
             }
            },
            "type": "bar"
           }
          ],
          "barpolar": [
           {
            "marker": {
             "line": {
              "color": "#E5ECF6",
              "width": 0.5
             },
             "pattern": {
              "fillmode": "overlay",
              "size": 10,
              "solidity": 0.2
             }
            },
            "type": "barpolar"
           }
          ],
          "carpet": [
           {
            "aaxis": {
             "endlinecolor": "#2a3f5f",
             "gridcolor": "white",
             "linecolor": "white",
             "minorgridcolor": "white",
             "startlinecolor": "#2a3f5f"
            },
            "baxis": {
             "endlinecolor": "#2a3f5f",
             "gridcolor": "white",
             "linecolor": "white",
             "minorgridcolor": "white",
             "startlinecolor": "#2a3f5f"
            },
            "type": "carpet"
           }
          ],
          "choropleth": [
           {
            "colorbar": {
             "outlinewidth": 0,
             "ticks": ""
            },
            "type": "choropleth"
           }
          ],
          "contour": [
           {
            "colorbar": {
             "outlinewidth": 0,
             "ticks": ""
            },
            "colorscale": [
             [
              0,
              "#0d0887"
             ],
             [
              0.1111111111111111,
              "#46039f"
             ],
             [
              0.2222222222222222,
              "#7201a8"
             ],
             [
              0.3333333333333333,
              "#9c179e"
             ],
             [
              0.4444444444444444,
              "#bd3786"
             ],
             [
              0.5555555555555556,
              "#d8576b"
             ],
             [
              0.6666666666666666,
              "#ed7953"
             ],
             [
              0.7777777777777778,
              "#fb9f3a"
             ],
             [
              0.8888888888888888,
              "#fdca26"
             ],
             [
              1,
              "#f0f921"
             ]
            ],
            "type": "contour"
           }
          ],
          "contourcarpet": [
           {
            "colorbar": {
             "outlinewidth": 0,
             "ticks": ""
            },
            "type": "contourcarpet"
           }
          ],
          "heatmap": [
           {
            "colorbar": {
             "outlinewidth": 0,
             "ticks": ""
            },
            "colorscale": [
             [
              0,
              "#0d0887"
             ],
             [
              0.1111111111111111,
              "#46039f"
             ],
             [
              0.2222222222222222,
              "#7201a8"
             ],
             [
              0.3333333333333333,
              "#9c179e"
             ],
             [
              0.4444444444444444,
              "#bd3786"
             ],
             [
              0.5555555555555556,
              "#d8576b"
             ],
             [
              0.6666666666666666,
              "#ed7953"
             ],
             [
              0.7777777777777778,
              "#fb9f3a"
             ],
             [
              0.8888888888888888,
              "#fdca26"
             ],
             [
              1,
              "#f0f921"
             ]
            ],
            "type": "heatmap"
           }
          ],
          "heatmapgl": [
           {
            "colorbar": {
             "outlinewidth": 0,
             "ticks": ""
            },
            "colorscale": [
             [
              0,
              "#0d0887"
             ],
             [
              0.1111111111111111,
              "#46039f"
             ],
             [
              0.2222222222222222,
              "#7201a8"
             ],
             [
              0.3333333333333333,
              "#9c179e"
             ],
             [
              0.4444444444444444,
              "#bd3786"
             ],
             [
              0.5555555555555556,
              "#d8576b"
             ],
             [
              0.6666666666666666,
              "#ed7953"
             ],
             [
              0.7777777777777778,
              "#fb9f3a"
             ],
             [
              0.8888888888888888,
              "#fdca26"
             ],
             [
              1,
              "#f0f921"
             ]
            ],
            "type": "heatmapgl"
           }
          ],
          "histogram": [
           {
            "marker": {
             "pattern": {
              "fillmode": "overlay",
              "size": 10,
              "solidity": 0.2
             }
            },
            "type": "histogram"
           }
          ],
          "histogram2d": [
           {
            "colorbar": {
             "outlinewidth": 0,
             "ticks": ""
            },
            "colorscale": [
             [
              0,
              "#0d0887"
             ],
             [
              0.1111111111111111,
              "#46039f"
             ],
             [
              0.2222222222222222,
              "#7201a8"
             ],
             [
              0.3333333333333333,
              "#9c179e"
             ],
             [
              0.4444444444444444,
              "#bd3786"
             ],
             [
              0.5555555555555556,
              "#d8576b"
             ],
             [
              0.6666666666666666,
              "#ed7953"
             ],
             [
              0.7777777777777778,
              "#fb9f3a"
             ],
             [
              0.8888888888888888,
              "#fdca26"
             ],
             [
              1,
              "#f0f921"
             ]
            ],
            "type": "histogram2d"
           }
          ],
          "histogram2dcontour": [
           {
            "colorbar": {
             "outlinewidth": 0,
             "ticks": ""
            },
            "colorscale": [
             [
              0,
              "#0d0887"
             ],
             [
              0.1111111111111111,
              "#46039f"
             ],
             [
              0.2222222222222222,
              "#7201a8"
             ],
             [
              0.3333333333333333,
              "#9c179e"
             ],
             [
              0.4444444444444444,
              "#bd3786"
             ],
             [
              0.5555555555555556,
              "#d8576b"
             ],
             [
              0.6666666666666666,
              "#ed7953"
             ],
             [
              0.7777777777777778,
              "#fb9f3a"
             ],
             [
              0.8888888888888888,
              "#fdca26"
             ],
             [
              1,
              "#f0f921"
             ]
            ],
            "type": "histogram2dcontour"
           }
          ],
          "mesh3d": [
           {
            "colorbar": {
             "outlinewidth": 0,
             "ticks": ""
            },
            "type": "mesh3d"
           }
          ],
          "parcoords": [
           {
            "line": {
             "colorbar": {
              "outlinewidth": 0,
              "ticks": ""
             }
            },
            "type": "parcoords"
           }
          ],
          "pie": [
           {
            "automargin": true,
            "type": "pie"
           }
          ],
          "scatter": [
           {
            "marker": {
             "colorbar": {
              "outlinewidth": 0,
              "ticks": ""
             }
            },
            "type": "scatter"
           }
          ],
          "scatter3d": [
           {
            "line": {
             "colorbar": {
              "outlinewidth": 0,
              "ticks": ""
             }
            },
            "marker": {
             "colorbar": {
              "outlinewidth": 0,
              "ticks": ""
             }
            },
            "type": "scatter3d"
           }
          ],
          "scattercarpet": [
           {
            "marker": {
             "colorbar": {
              "outlinewidth": 0,
              "ticks": ""
             }
            },
            "type": "scattercarpet"
           }
          ],
          "scattergeo": [
           {
            "marker": {
             "colorbar": {
              "outlinewidth": 0,
              "ticks": ""
             }
            },
            "type": "scattergeo"
           }
          ],
          "scattergl": [
           {
            "marker": {
             "colorbar": {
              "outlinewidth": 0,
              "ticks": ""
             }
            },
            "type": "scattergl"
           }
          ],
          "scattermapbox": [
           {
            "marker": {
             "colorbar": {
              "outlinewidth": 0,
              "ticks": ""
             }
            },
            "type": "scattermapbox"
           }
          ],
          "scatterpolar": [
           {
            "marker": {
             "colorbar": {
              "outlinewidth": 0,
              "ticks": ""
             }
            },
            "type": "scatterpolar"
           }
          ],
          "scatterpolargl": [
           {
            "marker": {
             "colorbar": {
              "outlinewidth": 0,
              "ticks": ""
             }
            },
            "type": "scatterpolargl"
           }
          ],
          "scatterternary": [
           {
            "marker": {
             "colorbar": {
              "outlinewidth": 0,
              "ticks": ""
             }
            },
            "type": "scatterternary"
           }
          ],
          "surface": [
           {
            "colorbar": {
             "outlinewidth": 0,
             "ticks": ""
            },
            "colorscale": [
             [
              0,
              "#0d0887"
             ],
             [
              0.1111111111111111,
              "#46039f"
             ],
             [
              0.2222222222222222,
              "#7201a8"
             ],
             [
              0.3333333333333333,
              "#9c179e"
             ],
             [
              0.4444444444444444,
              "#bd3786"
             ],
             [
              0.5555555555555556,
              "#d8576b"
             ],
             [
              0.6666666666666666,
              "#ed7953"
             ],
             [
              0.7777777777777778,
              "#fb9f3a"
             ],
             [
              0.8888888888888888,
              "#fdca26"
             ],
             [
              1,
              "#f0f921"
             ]
            ],
            "type": "surface"
           }
          ],
          "table": [
           {
            "cells": {
             "fill": {
              "color": "#EBF0F8"
             },
             "line": {
              "color": "white"
             }
            },
            "header": {
             "fill": {
              "color": "#C8D4E3"
             },
             "line": {
              "color": "white"
             }
            },
            "type": "table"
           }
          ]
         },
         "layout": {
          "annotationdefaults": {
           "arrowcolor": "#2a3f5f",
           "arrowhead": 0,
           "arrowwidth": 1
          },
          "autotypenumbers": "strict",
          "coloraxis": {
           "colorbar": {
            "outlinewidth": 0,
            "ticks": ""
           }
          },
          "colorscale": {
           "diverging": [
            [
             0,
             "#8e0152"
            ],
            [
             0.1,
             "#c51b7d"
            ],
            [
             0.2,
             "#de77ae"
            ],
            [
             0.3,
             "#f1b6da"
            ],
            [
             0.4,
             "#fde0ef"
            ],
            [
             0.5,
             "#f7f7f7"
            ],
            [
             0.6,
             "#e6f5d0"
            ],
            [
             0.7,
             "#b8e186"
            ],
            [
             0.8,
             "#7fbc41"
            ],
            [
             0.9,
             "#4d9221"
            ],
            [
             1,
             "#276419"
            ]
           ],
           "sequential": [
            [
             0,
             "#0d0887"
            ],
            [
             0.1111111111111111,
             "#46039f"
            ],
            [
             0.2222222222222222,
             "#7201a8"
            ],
            [
             0.3333333333333333,
             "#9c179e"
            ],
            [
             0.4444444444444444,
             "#bd3786"
            ],
            [
             0.5555555555555556,
             "#d8576b"
            ],
            [
             0.6666666666666666,
             "#ed7953"
            ],
            [
             0.7777777777777778,
             "#fb9f3a"
            ],
            [
             0.8888888888888888,
             "#fdca26"
            ],
            [
             1,
             "#f0f921"
            ]
           ],
           "sequentialminus": [
            [
             0,
             "#0d0887"
            ],
            [
             0.1111111111111111,
             "#46039f"
            ],
            [
             0.2222222222222222,
             "#7201a8"
            ],
            [
             0.3333333333333333,
             "#9c179e"
            ],
            [
             0.4444444444444444,
             "#bd3786"
            ],
            [
             0.5555555555555556,
             "#d8576b"
            ],
            [
             0.6666666666666666,
             "#ed7953"
            ],
            [
             0.7777777777777778,
             "#fb9f3a"
            ],
            [
             0.8888888888888888,
             "#fdca26"
            ],
            [
             1,
             "#f0f921"
            ]
           ]
          },
          "colorway": [
           "#636efa",
           "#EF553B",
           "#00cc96",
           "#ab63fa",
           "#FFA15A",
           "#19d3f3",
           "#FF6692",
           "#B6E880",
           "#FF97FF",
           "#FECB52"
          ],
          "font": {
           "color": "#2a3f5f"
          },
          "geo": {
           "bgcolor": "white",
           "lakecolor": "white",
           "landcolor": "#E5ECF6",
           "showlakes": true,
           "showland": true,
           "subunitcolor": "white"
          },
          "hoverlabel": {
           "align": "left"
          },
          "hovermode": "closest",
          "mapbox": {
           "style": "light"
          },
          "paper_bgcolor": "white",
          "plot_bgcolor": "#E5ECF6",
          "polar": {
           "angularaxis": {
            "gridcolor": "white",
            "linecolor": "white",
            "ticks": ""
           },
           "bgcolor": "#E5ECF6",
           "radialaxis": {
            "gridcolor": "white",
            "linecolor": "white",
            "ticks": ""
           }
          },
          "scene": {
           "xaxis": {
            "backgroundcolor": "#E5ECF6",
            "gridcolor": "white",
            "gridwidth": 2,
            "linecolor": "white",
            "showbackground": true,
            "ticks": "",
            "zerolinecolor": "white"
           },
           "yaxis": {
            "backgroundcolor": "#E5ECF6",
            "gridcolor": "white",
            "gridwidth": 2,
            "linecolor": "white",
            "showbackground": true,
            "ticks": "",
            "zerolinecolor": "white"
           },
           "zaxis": {
            "backgroundcolor": "#E5ECF6",
            "gridcolor": "white",
            "gridwidth": 2,
            "linecolor": "white",
            "showbackground": true,
            "ticks": "",
            "zerolinecolor": "white"
           }
          },
          "shapedefaults": {
           "line": {
            "color": "#2a3f5f"
           }
          },
          "ternary": {
           "aaxis": {
            "gridcolor": "white",
            "linecolor": "white",
            "ticks": ""
           },
           "baxis": {
            "gridcolor": "white",
            "linecolor": "white",
            "ticks": ""
           },
           "bgcolor": "#E5ECF6",
           "caxis": {
            "gridcolor": "white",
            "linecolor": "white",
            "ticks": ""
           }
          },
          "title": {
           "x": 0.05
          },
          "xaxis": {
           "automargin": true,
           "gridcolor": "white",
           "linecolor": "white",
           "ticks": "",
           "title": {
            "standoff": 15
           },
           "zerolinecolor": "white",
           "zerolinewidth": 2
          },
          "yaxis": {
           "automargin": true,
           "gridcolor": "white",
           "linecolor": "white",
           "ticks": "",
           "title": {
            "standoff": 15
           },
           "zerolinecolor": "white",
           "zerolinewidth": 2
          }
         }
        },
        "width": 1100
       }
      },
      "image/png": "[encoded data removed]",
      "text/html": [
       "<div>                            <div id=\"35a99e63-37b6-4dc2-8b2b-da3c61e2aacb\" class=\"plotly-graph-div\" style=\"height:400px; width:1100px;\"></div>            <script type=\"text/javascript\">                require([\"plotly\"], function(Plotly) {                    window.PLOTLYENV=window.PLOTLYENV || {};                                    if (document.getElementById(\"35a99e63-37b6-4dc2-8b2b-da3c61e2aacb\")) {                    Plotly.newPlot(                        \"35a99e63-37b6-4dc2-8b2b-da3c61e2aacb\",                        [{\"branchvalues\":\"total\",\"customdata\":[[\"Im Bau\"],[\"Im Bau\"],[\"Fertigerstellt\"],[\"Bewilligt\"],[\"Bewilligt\"],[\"Im Bau\"],[\"Fertigerstellt\"],[\"Im Bau\"],[\"Bewilligt\"],[\"Im Bau\"],[\"Fertigerstellt\"],[\"Im Bau\"],[\"Fertigerstellt\"],[\"Im Bau\"],[\"Im Bau\"],[\"Im Bau\"],[\"Im Bau\"],[\"Bewilligt\"],[\"Bewilligt\"],[\"Fertigerstellt\"],[\"Bewilligt\"],[\"Fertigerstellt\"],[\"Bewilligt\"],[\"Bewilligt\"],[\"Im Bau\"],[\"Fertigerstellt\"],[\"Bewilligt\"],[\"Fertigerstellt\"],[\"Bewilligt\"],[\"Fertigerstellt\"],[\"Im Bau\"],[\"Bewilligt\"],[\"Bewilligt\"],[\"Fertigerstellt\"],[\"Im Bau\"],[\"Fertigerstellt\"],[\"Im Bau\"],[\"Fertigerstellt\"],[\"Im Bau\"],[\"Im Bau\"],[\"Im Bau\"],[\"Im Bau\"],[\"Fertigerstellt\"],[\"Bewilligt\"],[\"Im Bau\"],[\"Bewilligt\"],[\"Bewilligt\"],[\"Fertigerstellt\"],[\"Fertigerstellt\"],[\"Im Bau\"],[\"Bewilligt\"],[\"Fertigerstellt\"],[\"Bewilligt\"],[\"Fertigerstellt\"],[\"Im Bau\"],[\"Fertigerstellt\"],[\"Fertigerstellt\"],[\"Im Bau\"],[\"Bewilligt\"],[\"Im Bau\"],[\"Bewilligt\"],[\"Im Bau\"],[\"Fertigerstellt\"],[\"Fertigerstellt\"],[\"Bewilligt\"],[\"Fertigerstellt\"],[\"Im Bau\"],[\"Im Bau\"],[\"Im Bau\"],[\"Fertigerstellt\"],[\"Bewilligt\"],[\"Im Bau\"],[\"Bewilligt\"],[\"Fertigerstellt\"],[\"Im Bau\"],[\"Fertigerstellt\"],[\"Im Bau\"],[\"Bewilligt\"],[\"Fertigerstellt\"],[\"Im Bau\"],[\"Bewilligt\"],[\"Im Bau\"],[\"Bewilligt\"],[\"Fertigerstellt\"],[\"Im Bau\"],[\"Bewilligt\"],[\"Fertigerstellt\"],[\"Im Bau\"],[\"Bewilligt\"],[\"Fertigerstellt\"],[\"Im Bau\"],[\"Bewilligt\"],[\"Fertigerstellt\"],[\"Im Bau\"],[\"Bewilligt\"],[\"Fertigerstellt\"],[\"Im Bau\"],[\"Bewilligt\"],[\"Fertigerstellt\"],[\"Im Bau\"],[\"Bewilligt\"],[\"Fertigerstellt\"],[\"Im Bau\"],[\"(?)\"]],\"domain\":{\"x\":[0.0,1.0],\"y\":[0.0,1.0]},\"hovertemplate\":\"labels=%{label}<br>sum_ProjKosten=%{value}<br>parent=%{parent}<br>id=%{id}<br>ProjStatus=%{customdata[0]}<extra></extra>\",\"ids\":[\"Anzahl Wohnungen nach Projektstatus, Kreis und Quartier/Im Bau/Kreis 2/Wollishofen\",\"Anzahl Wohnungen nach Projektstatus, Kreis und Quartier/Im Bau/Kreis 6/Oberstrass\",\"Anzahl Wohnungen nach Projektstatus, Kreis und Quartier/Fertigerstellt/Kreis 6/Oberstrass\",\"Anzahl Wohnungen nach Projektstatus, Kreis und Quartier/Bewilligt/Kreis 6/Oberstrass\",\"Anzahl Wohnungen nach Projektstatus, Kreis und Quartier/Bewilligt/Kreis 11/Seebach\",\"Anzahl Wohnungen nach Projektstatus, Kreis und Quartier/Im Bau/Kreis 11/Seebach\",\"Anzahl Wohnungen nach Projektstatus, Kreis und Quartier/Fertigerstellt/Kreis 8/Seefeld\",\"Anzahl Wohnungen nach Projektstatus, Kreis und Quartier/Im Bau/Kreis 3/Sihlfeld\",\"Anzahl Wohnungen nach Projektstatus, Kreis und Quartier/Bewilligt/Kreis 7/Hottingen\",\"Anzahl Wohnungen nach Projektstatus, Kreis und Quartier/Im Bau/Kreis 12/Hirzenbach\",\"Anzahl Wohnungen nach Projektstatus, Kreis und Quartier/Fertigerstellt/Kreis 7/Hirslanden\",\"Anzahl Wohnungen nach Projektstatus, Kreis und Quartier/Im Bau/Kreis 3/Friesenberg\",\"Anzahl Wohnungen nach Projektstatus, Kreis und Quartier/Fertigerstellt/Kreis 7/Fluntern\",\"Anzahl Wohnungen nach Projektstatus, Kreis und Quartier/Im Bau/Kreis 8/Weinegg\",\"Anzahl Wohnungen nach Projektstatus, Kreis und Quartier/Im Bau/Kreis 4/Hard\",\"Anzahl Wohnungen nach Projektstatus, Kreis und Quartier/Im Bau/Kreis 3/Alt-Wiedikon\",\"Anzahl Wohnungen nach Projektstatus, Kreis und Quartier/Im Bau/Kreis 9/Albisrieden\",\"Anzahl Wohnungen nach Projektstatus, Kreis und Quartier/Bewilligt/Kreis 4/Werd\",\"Anzahl Wohnungen nach Projektstatus, Kreis und Quartier/Bewilligt/Kreis 10/Wipkingen\",\"Anzahl Wohnungen nach Projektstatus, Kreis und Quartier/Fertigerstellt/Kreis 12/Schwamendingen-Mitte\",\"Anzahl Wohnungen nach Projektstatus, Kreis und Quartier/Bewilligt/Kreis 5/Gewerbeschule\",\"Anzahl Wohnungen nach Projektstatus, Kreis und Quartier/Fertigerstellt/Kreis 11/Oerlikon\",\"Anzahl Wohnungen nach Projektstatus, Kreis und Quartier/Bewilligt/Kreis 11/Oerlikon\",\"Anzahl Wohnungen nach Projektstatus, Kreis und Quartier/Bewilligt/Kreis 2/Wollishofen\",\"Anzahl Wohnungen nach Projektstatus, Kreis und Quartier/Im Bau/Kreis 7/Witikon\",\"Anzahl Wohnungen nach Projektstatus, Kreis und Quartier/Fertigerstellt/Kreis 7/Witikon\",\"Anzahl Wohnungen nach Projektstatus, Kreis und Quartier/Bewilligt/Kreis 7/Witikon\",\"Anzahl Wohnungen nach Projektstatus, Kreis und Quartier/Fertigerstellt/Kreis 11/Seebach\",\"Anzahl Wohnungen nach Projektstatus, Kreis und Quartier/Bewilligt/Kreis 2/Leimbach\",\"Anzahl Wohnungen nach Projektstatus, Kreis und Quartier/Fertigerstellt/Kreis 2/Wollishofen\",\"Anzahl Wohnungen nach Projektstatus, Kreis und Quartier/Im Bau/Kreis 10/H\\u00f6ngg\",\"Anzahl Wohnungen nach Projektstatus, Kreis und Quartier/Bewilligt/Kreis 2/Enge\",\"Anzahl Wohnungen nach Projektstatus, Kreis und Quartier/Bewilligt/Kreis 3/Alt-Wiedikon\",\"Anzahl Wohnungen nach Projektstatus, Kreis und Quartier/Fertigerstellt/Kreis 4/Werd\",\"Anzahl Wohnungen nach Projektstatus, Kreis und Quartier/Im Bau/Kreis 10/Wipkingen\",\"Anzahl Wohnungen nach Projektstatus, Kreis und Quartier/Fertigerstellt/Kreis 1/Hochschulen\",\"Anzahl Wohnungen nach Projektstatus, Kreis und Quartier/Im Bau/Kreis 7/Fluntern\",\"Anzahl Wohnungen nach Projektstatus, Kreis und Quartier/Fertigerstellt/Kreis 6/Unterstrass\",\"Anzahl Wohnungen nach Projektstatus, Kreis und Quartier/Im Bau/Kreis 4/Werd\",\"Anzahl Wohnungen nach Projektstatus, Kreis und Quartier/Im Bau/Kreis 6/Unterstrass\",\"Anzahl Wohnungen nach Projektstatus, Kreis und Quartier/Im Bau/Kreis 7/Hottingen\",\"Anzahl Wohnungen nach Projektstatus, Kreis und Quartier/Im Bau/Kreis 2/Enge\",\"Anzahl Wohnungen nach Projektstatus, Kreis und Quartier/Fertigerstellt/Kreis 8/Weinegg\",\"Anzahl Wohnungen nach Projektstatus, Kreis und Quartier/Bewilligt/Kreis 6/Unterstrass\",\"Anzahl Wohnungen nach Projektstatus, Kreis und Quartier/Im Bau/Kreis 12/Schwamendingen-Mitte\",\"Anzahl Wohnungen nach Projektstatus, Kreis und Quartier/Bewilligt/Kreis 8/Weinegg\",\"Anzahl Wohnungen nach Projektstatus, Kreis und Quartier/Bewilligt/Kreis 11/Affoltern\",\"Anzahl Wohnungen nach Projektstatus, Kreis und Quartier/Fertigerstellt/Kreis 1/Lindenhof\",\"Anzahl Wohnungen nach Projektstatus, Kreis und Quartier/Fertigerstellt/Kreis 11/Affoltern\",\"Anzahl Wohnungen nach Projektstatus, Kreis und Quartier/Im Bau/Kreis 11/Affoltern\",\"Anzahl Wohnungen nach Projektstatus, Kreis und Quartier/Bewilligt/Kreis 9/Albisrieden\",\"Anzahl Wohnungen nach Projektstatus, Kreis und Quartier/Fertigerstellt/Kreis 9/Albisrieden\",\"Anzahl Wohnungen nach Projektstatus, Kreis und Quartier/Bewilligt/Kreis 9/Altstetten\",\"Anzahl Wohnungen nach Projektstatus, Kreis und Quartier/Fertigerstellt/Kreis 9/Altstetten\",\"Anzahl Wohnungen nach Projektstatus, Kreis und Quartier/Im Bau/Kreis 9/Altstetten\",\"Anzahl Wohnungen nach Projektstatus, Kreis und Quartier/Fertigerstellt/Kreis 2/Enge\",\"Anzahl Wohnungen nach Projektstatus, Kreis und Quartier/Fertigerstellt/Kreis 5/Escher Wyss\",\"Anzahl Wohnungen nach Projektstatus, Kreis und Quartier/Im Bau/Kreis 5/Escher Wyss\",\"Anzahl Wohnungen nach Projektstatus, Kreis und Quartier/Bewilligt/Kreis 7/Fluntern\",\"Anzahl Wohnungen nach Projektstatus, Kreis und Quartier/Im Bau/Kreis 5/Gewerbeschule\",\"Anzahl Wohnungen nach Projektstatus, Kreis und Quartier/Bewilligt/Kreis 7/Hirslanden\",\"Anzahl Wohnungen nach Projektstatus, Kreis und Quartier/Im Bau/Kreis 7/Hirslanden\",\"Anzahl Wohnungen nach Projektstatus, Kreis und Quartier/Fertigerstellt/Kreis 12/Hirzenbach\",\"Anzahl Wohnungen nach Projektstatus, Kreis und Quartier/Fertigerstellt/Kreis 7/Hottingen\",\"Anzahl Wohnungen nach Projektstatus, Kreis und Quartier/Bewilligt/Kreis 10/H\\u00f6ngg\",\"Anzahl Wohnungen nach Projektstatus, Kreis und Quartier/Fertigerstellt/Kreis 2/Leimbach\",\"Anzahl Wohnungen nach Projektstatus, Kreis und Quartier/Im Bau/Kreis 2/Leimbach\",\"Anzahl Wohnungen nach Projektstatus, Kreis und Quartier/Im Bau/Kreis 11/Oerlikon\",\"Anzahl Wohnungen nach Projektstatus, Kreis und Quartier/Im Bau/Kreis 4/Langstrasse\",\"Anzahl Wohnungen nach Projektstatus, Kreis und Quartier/Fertigerstellt/Kreis 1\",\"Anzahl Wohnungen nach Projektstatus, Kreis und Quartier/Bewilligt/Kreis 10\",\"Anzahl Wohnungen nach Projektstatus, Kreis und Quartier/Im Bau/Kreis 10\",\"Anzahl Wohnungen nach Projektstatus, Kreis und Quartier/Bewilligt/Kreis 11\",\"Anzahl Wohnungen nach Projektstatus, Kreis und Quartier/Fertigerstellt/Kreis 11\",\"Anzahl Wohnungen nach Projektstatus, Kreis und Quartier/Im Bau/Kreis 11\",\"Anzahl Wohnungen nach Projektstatus, Kreis und Quartier/Fertigerstellt/Kreis 12\",\"Anzahl Wohnungen nach Projektstatus, Kreis und Quartier/Im Bau/Kreis 12\",\"Anzahl Wohnungen nach Projektstatus, Kreis und Quartier/Bewilligt/Kreis 2\",\"Anzahl Wohnungen nach Projektstatus, Kreis und Quartier/Fertigerstellt/Kreis 2\",\"Anzahl Wohnungen nach Projektstatus, Kreis und Quartier/Im Bau/Kreis 2\",\"Anzahl Wohnungen nach Projektstatus, Kreis und Quartier/Bewilligt/Kreis 3\",\"Anzahl Wohnungen nach Projektstatus, Kreis und Quartier/Im Bau/Kreis 3\",\"Anzahl Wohnungen nach Projektstatus, Kreis und Quartier/Bewilligt/Kreis 4\",\"Anzahl Wohnungen nach Projektstatus, Kreis und Quartier/Fertigerstellt/Kreis 4\",\"Anzahl Wohnungen nach Projektstatus, Kreis und Quartier/Im Bau/Kreis 4\",\"Anzahl Wohnungen nach Projektstatus, Kreis und Quartier/Bewilligt/Kreis 5\",\"Anzahl Wohnungen nach Projektstatus, Kreis und Quartier/Fertigerstellt/Kreis 5\",\"Anzahl Wohnungen nach Projektstatus, Kreis und Quartier/Im Bau/Kreis 5\",\"Anzahl Wohnungen nach Projektstatus, Kreis und Quartier/Bewilligt/Kreis 6\",\"Anzahl Wohnungen nach Projektstatus, Kreis und Quartier/Fertigerstellt/Kreis 6\",\"Anzahl Wohnungen nach Projektstatus, Kreis und Quartier/Im Bau/Kreis 6\",\"Anzahl Wohnungen nach Projektstatus, Kreis und Quartier/Bewilligt/Kreis 7\",\"Anzahl Wohnungen nach Projektstatus, Kreis und Quartier/Fertigerstellt/Kreis 7\",\"Anzahl Wohnungen nach Projektstatus, Kreis und Quartier/Im Bau/Kreis 7\",\"Anzahl Wohnungen nach Projektstatus, Kreis und Quartier/Bewilligt/Kreis 8\",\"Anzahl Wohnungen nach Projektstatus, Kreis und Quartier/Fertigerstellt/Kreis 8\",\"Anzahl Wohnungen nach Projektstatus, Kreis und Quartier/Im Bau/Kreis 8\",\"Anzahl Wohnungen nach Projektstatus, Kreis und Quartier/Bewilligt/Kreis 9\",\"Anzahl Wohnungen nach Projektstatus, Kreis und Quartier/Fertigerstellt/Kreis 9\",\"Anzahl Wohnungen nach Projektstatus, Kreis und Quartier/Im Bau/Kreis 9\",\"Anzahl Wohnungen nach Projektstatus, Kreis und Quartier/Bewilligt\",\"Anzahl Wohnungen nach Projektstatus, Kreis und Quartier/Fertigerstellt\",\"Anzahl Wohnungen nach Projektstatus, Kreis und Quartier/Im Bau\",\"Anzahl Wohnungen nach Projektstatus, Kreis und Quartier\"],\"labels\":[\"Wollishofen\",\"Oberstrass\",\"Oberstrass\",\"Oberstrass\",\"Seebach\",\"Seebach\",\"Seefeld\",\"Sihlfeld\",\"Hottingen\",\"Hirzenbach\",\"Hirslanden\",\"Friesenberg\",\"Fluntern\",\"Weinegg\",\"Hard\",\"Alt-Wiedikon\",\"Albisrieden\",\"Werd\",\"Wipkingen\",\"Schwamendingen-Mitte\",\"Gewerbeschule\",\"Oerlikon\",\"Oerlikon\",\"Wollishofen\",\"Witikon\",\"Witikon\",\"Witikon\",\"Seebach\",\"Leimbach\",\"Wollishofen\",\"H\\u00f6ngg\",\"Enge\",\"Alt-Wiedikon\",\"Werd\",\"Wipkingen\",\"Hochschulen\",\"Fluntern\",\"Unterstrass\",\"Werd\",\"Unterstrass\",\"Hottingen\",\"Enge\",\"Weinegg\",\"Unterstrass\",\"Schwamendingen-Mitte\",\"Weinegg\",\"Affoltern\",\"Lindenhof\",\"Affoltern\",\"Affoltern\",\"Albisrieden\",\"Albisrieden\",\"Altstetten\",\"Altstetten\",\"Altstetten\",\"Enge\",\"Escher Wyss\",\"Escher Wyss\",\"Fluntern\",\"Gewerbeschule\",\"Hirslanden\",\"Hirslanden\",\"Hirzenbach\",\"Hottingen\",\"H\\u00f6ngg\",\"Leimbach\",\"Leimbach\",\"Oerlikon\",\"Langstrasse\",\"Kreis 1\",\"Kreis 10\",\"Kreis 10\",\"Kreis 11\",\"Kreis 11\",\"Kreis 11\",\"Kreis 12\",\"Kreis 12\",\"Kreis 2\",\"Kreis 2\",\"Kreis 2\",\"Kreis 3\",\"Kreis 3\",\"Kreis 4\",\"Kreis 4\",\"Kreis 4\",\"Kreis 5\",\"Kreis 5\",\"Kreis 5\",\"Kreis 6\",\"Kreis 6\",\"Kreis 6\",\"Kreis 7\",\"Kreis 7\",\"Kreis 7\",\"Kreis 8\",\"Kreis 8\",\"Kreis 8\",\"Kreis 9\",\"Kreis 9\",\"Kreis 9\",\"Bewilligt\",\"Fertigerstellt\",\"Im Bau\",\"Anzahl Wohnungen nach Projektstatus, Kreis und Quartier\"],\"marker\":{\"colors\":[\"#636efa\",\"#636efa\",\"#EF553B\",\"#00cc96\",\"#00cc96\",\"#636efa\",\"#EF553B\",\"#636efa\",\"#00cc96\",\"#636efa\",\"#EF553B\",\"#636efa\",\"#EF553B\",\"#636efa\",\"#636efa\",\"#636efa\",\"#636efa\",\"#00cc96\",\"#00cc96\",\"#EF553B\",\"#00cc96\",\"#EF553B\",\"#00cc96\",\"#00cc96\",\"#636efa\",\"#EF553B\",\"#00cc96\",\"#EF553B\",\"#00cc96\",\"#EF553B\",\"#636efa\",\"#00cc96\",\"#00cc96\",\"#EF553B\",\"#636efa\",\"#EF553B\",\"#636efa\",\"#EF553B\",\"#636efa\",\"#636efa\",\"#636efa\",\"#636efa\",\"#EF553B\",\"#00cc96\",\"#636efa\",\"#00cc96\",\"#00cc96\",\"#EF553B\",\"#EF553B\",\"#636efa\",\"#00cc96\",\"#EF553B\",\"#00cc96\",\"#EF553B\",\"#636efa\",\"#EF553B\",\"#EF553B\",\"#636efa\",\"#00cc96\",\"#636efa\",\"#00cc96\",\"#636efa\",\"#EF553B\",\"#EF553B\",\"#00cc96\",\"#EF553B\",\"#636efa\",\"#636efa\",\"#636efa\",\"#EF553B\",\"#00cc96\",\"#636efa\",\"#00cc96\",\"#EF553B\",\"#636efa\",\"#EF553B\",\"#636efa\",\"#00cc96\",\"#EF553B\",\"#636efa\",\"#00cc96\",\"#636efa\",\"#00cc96\",\"#EF553B\",\"#636efa\",\"#00cc96\",\"#EF553B\",\"#636efa\",\"#00cc96\",\"#EF553B\",\"#636efa\",\"#00cc96\",\"#EF553B\",\"#636efa\",\"#00cc96\",\"#EF553B\",\"#636efa\",\"#00cc96\",\"#EF553B\",\"#636efa\",\"#00cc96\",\"#EF553B\",\"#636efa\",\"#ab63fa\"]},\"name\":\"\",\"parents\":[\"Anzahl Wohnungen nach Projektstatus, Kreis und Quartier/Im Bau/Kreis 2\",\"Anzahl Wohnungen nach Projektstatus, Kreis und Quartier/Im Bau/Kreis 6\",\"Anzahl Wohnungen nach Projektstatus, Kreis und Quartier/Fertigerstellt/Kreis 6\",\"Anzahl Wohnungen nach Projektstatus, Kreis und Quartier/Bewilligt/Kreis 6\",\"Anzahl Wohnungen nach Projektstatus, Kreis und Quartier/Bewilligt/Kreis 11\",\"Anzahl Wohnungen nach Projektstatus, Kreis und Quartier/Im Bau/Kreis 11\",\"Anzahl Wohnungen nach Projektstatus, Kreis und Quartier/Fertigerstellt/Kreis 8\",\"Anzahl Wohnungen nach Projektstatus, Kreis und Quartier/Im Bau/Kreis 3\",\"Anzahl Wohnungen nach Projektstatus, Kreis und Quartier/Bewilligt/Kreis 7\",\"Anzahl Wohnungen nach Projektstatus, Kreis und Quartier/Im Bau/Kreis 12\",\"Anzahl Wohnungen nach Projektstatus, Kreis und Quartier/Fertigerstellt/Kreis 7\",\"Anzahl Wohnungen nach Projektstatus, Kreis und Quartier/Im Bau/Kreis 3\",\"Anzahl Wohnungen nach Projektstatus, Kreis und Quartier/Fertigerstellt/Kreis 7\",\"Anzahl Wohnungen nach Projektstatus, Kreis und Quartier/Im Bau/Kreis 8\",\"Anzahl Wohnungen nach Projektstatus, Kreis und Quartier/Im Bau/Kreis 4\",\"Anzahl Wohnungen nach Projektstatus, Kreis und Quartier/Im Bau/Kreis 3\",\"Anzahl Wohnungen nach Projektstatus, Kreis und Quartier/Im Bau/Kreis 9\",\"Anzahl Wohnungen nach Projektstatus, Kreis und Quartier/Bewilligt/Kreis 4\",\"Anzahl Wohnungen nach Projektstatus, Kreis und Quartier/Bewilligt/Kreis 10\",\"Anzahl Wohnungen nach Projektstatus, Kreis und Quartier/Fertigerstellt/Kreis 12\",\"Anzahl Wohnungen nach Projektstatus, Kreis und Quartier/Bewilligt/Kreis 5\",\"Anzahl Wohnungen nach Projektstatus, Kreis und Quartier/Fertigerstellt/Kreis 11\",\"Anzahl Wohnungen nach Projektstatus, Kreis und Quartier/Bewilligt/Kreis 11\",\"Anzahl Wohnungen nach Projektstatus, Kreis und Quartier/Bewilligt/Kreis 2\",\"Anzahl Wohnungen nach Projektstatus, Kreis und Quartier/Im Bau/Kreis 7\",\"Anzahl Wohnungen nach Projektstatus, Kreis und Quartier/Fertigerstellt/Kreis 7\",\"Anzahl Wohnungen nach Projektstatus, Kreis und Quartier/Bewilligt/Kreis 7\",\"Anzahl Wohnungen nach Projektstatus, Kreis und Quartier/Fertigerstellt/Kreis 11\",\"Anzahl Wohnungen nach Projektstatus, Kreis und Quartier/Bewilligt/Kreis 2\",\"Anzahl Wohnungen nach Projektstatus, Kreis und Quartier/Fertigerstellt/Kreis 2\",\"Anzahl Wohnungen nach Projektstatus, Kreis und Quartier/Im Bau/Kreis 10\",\"Anzahl Wohnungen nach Projektstatus, Kreis und Quartier/Bewilligt/Kreis 2\",\"Anzahl Wohnungen nach Projektstatus, Kreis und Quartier/Bewilligt/Kreis 3\",\"Anzahl Wohnungen nach Projektstatus, Kreis und Quartier/Fertigerstellt/Kreis 4\",\"Anzahl Wohnungen nach Projektstatus, Kreis und Quartier/Im Bau/Kreis 10\",\"Anzahl Wohnungen nach Projektstatus, Kreis und Quartier/Fertigerstellt/Kreis 1\",\"Anzahl Wohnungen nach Projektstatus, Kreis und Quartier/Im Bau/Kreis 7\",\"Anzahl Wohnungen nach Projektstatus, Kreis und Quartier/Fertigerstellt/Kreis 6\",\"Anzahl Wohnungen nach Projektstatus, Kreis und Quartier/Im Bau/Kreis 4\",\"Anzahl Wohnungen nach Projektstatus, Kreis und Quartier/Im Bau/Kreis 6\",\"Anzahl Wohnungen nach Projektstatus, Kreis und Quartier/Im Bau/Kreis 7\",\"Anzahl Wohnungen nach Projektstatus, Kreis und Quartier/Im Bau/Kreis 2\",\"Anzahl Wohnungen nach Projektstatus, Kreis und Quartier/Fertigerstellt/Kreis 8\",\"Anzahl Wohnungen nach Projektstatus, Kreis und Quartier/Bewilligt/Kreis 6\",\"Anzahl Wohnungen nach Projektstatus, Kreis und Quartier/Im Bau/Kreis 12\",\"Anzahl Wohnungen nach Projektstatus, Kreis und Quartier/Bewilligt/Kreis 8\",\"Anzahl Wohnungen nach Projektstatus, Kreis und Quartier/Bewilligt/Kreis 11\",\"Anzahl Wohnungen nach Projektstatus, Kreis und Quartier/Fertigerstellt/Kreis 1\",\"Anzahl Wohnungen nach Projektstatus, Kreis und Quartier/Fertigerstellt/Kreis 11\",\"Anzahl Wohnungen nach Projektstatus, Kreis und Quartier/Im Bau/Kreis 11\",\"Anzahl Wohnungen nach Projektstatus, Kreis und Quartier/Bewilligt/Kreis 9\",\"Anzahl Wohnungen nach Projektstatus, Kreis und Quartier/Fertigerstellt/Kreis 9\",\"Anzahl Wohnungen nach Projektstatus, Kreis und Quartier/Bewilligt/Kreis 9\",\"Anzahl Wohnungen nach Projektstatus, Kreis und Quartier/Fertigerstellt/Kreis 9\",\"Anzahl Wohnungen nach Projektstatus, Kreis und Quartier/Im Bau/Kreis 9\",\"Anzahl Wohnungen nach Projektstatus, Kreis und Quartier/Fertigerstellt/Kreis 2\",\"Anzahl Wohnungen nach Projektstatus, Kreis und Quartier/Fertigerstellt/Kreis 5\",\"Anzahl Wohnungen nach Projektstatus, Kreis und Quartier/Im Bau/Kreis 5\",\"Anzahl Wohnungen nach Projektstatus, Kreis und Quartier/Bewilligt/Kreis 7\",\"Anzahl Wohnungen nach Projektstatus, Kreis und Quartier/Im Bau/Kreis 5\",\"Anzahl Wohnungen nach Projektstatus, Kreis und Quartier/Bewilligt/Kreis 7\",\"Anzahl Wohnungen nach Projektstatus, Kreis und Quartier/Im Bau/Kreis 7\",\"Anzahl Wohnungen nach Projektstatus, Kreis und Quartier/Fertigerstellt/Kreis 12\",\"Anzahl Wohnungen nach Projektstatus, Kreis und Quartier/Fertigerstellt/Kreis 7\",\"Anzahl Wohnungen nach Projektstatus, Kreis und Quartier/Bewilligt/Kreis 10\",\"Anzahl Wohnungen nach Projektstatus, Kreis und Quartier/Fertigerstellt/Kreis 2\",\"Anzahl Wohnungen nach Projektstatus, Kreis und Quartier/Im Bau/Kreis 2\",\"Anzahl Wohnungen nach Projektstatus, Kreis und Quartier/Im Bau/Kreis 11\",\"Anzahl Wohnungen nach Projektstatus, Kreis und Quartier/Im Bau/Kreis 4\",\"Anzahl Wohnungen nach Projektstatus, Kreis und Quartier/Fertigerstellt\",\"Anzahl Wohnungen nach Projektstatus, Kreis und Quartier/Bewilligt\",\"Anzahl Wohnungen nach Projektstatus, Kreis und Quartier/Im Bau\",\"Anzahl Wohnungen nach Projektstatus, Kreis und Quartier/Bewilligt\",\"Anzahl Wohnungen nach Projektstatus, Kreis und Quartier/Fertigerstellt\",\"Anzahl Wohnungen nach Projektstatus, Kreis und Quartier/Im Bau\",\"Anzahl Wohnungen nach Projektstatus, Kreis und Quartier/Fertigerstellt\",\"Anzahl Wohnungen nach Projektstatus, Kreis und Quartier/Im Bau\",\"Anzahl Wohnungen nach Projektstatus, Kreis und Quartier/Bewilligt\",\"Anzahl Wohnungen nach Projektstatus, Kreis und Quartier/Fertigerstellt\",\"Anzahl Wohnungen nach Projektstatus, Kreis und Quartier/Im Bau\",\"Anzahl Wohnungen nach Projektstatus, Kreis und Quartier/Bewilligt\",\"Anzahl Wohnungen nach Projektstatus, Kreis und Quartier/Im Bau\",\"Anzahl Wohnungen nach Projektstatus, Kreis und Quartier/Bewilligt\",\"Anzahl Wohnungen nach Projektstatus, Kreis und Quartier/Fertigerstellt\",\"Anzahl Wohnungen nach Projektstatus, Kreis und Quartier/Im Bau\",\"Anzahl Wohnungen nach Projektstatus, Kreis und Quartier/Bewilligt\",\"Anzahl Wohnungen nach Projektstatus, Kreis und Quartier/Fertigerstellt\",\"Anzahl Wohnungen nach Projektstatus, Kreis und Quartier/Im Bau\",\"Anzahl Wohnungen nach Projektstatus, Kreis und Quartier/Bewilligt\",\"Anzahl Wohnungen nach Projektstatus, Kreis und Quartier/Fertigerstellt\",\"Anzahl Wohnungen nach Projektstatus, Kreis und Quartier/Im Bau\",\"Anzahl Wohnungen nach Projektstatus, Kreis und Quartier/Bewilligt\",\"Anzahl Wohnungen nach Projektstatus, Kreis und Quartier/Fertigerstellt\",\"Anzahl Wohnungen nach Projektstatus, Kreis und Quartier/Im Bau\",\"Anzahl Wohnungen nach Projektstatus, Kreis und Quartier/Bewilligt\",\"Anzahl Wohnungen nach Projektstatus, Kreis und Quartier/Fertigerstellt\",\"Anzahl Wohnungen nach Projektstatus, Kreis und Quartier/Im Bau\",\"Anzahl Wohnungen nach Projektstatus, Kreis und Quartier/Bewilligt\",\"Anzahl Wohnungen nach Projektstatus, Kreis und Quartier/Fertigerstellt\",\"Anzahl Wohnungen nach Projektstatus, Kreis und Quartier/Im Bau\",\"Anzahl Wohnungen nach Projektstatus, Kreis und Quartier\",\"Anzahl Wohnungen nach Projektstatus, Kreis und Quartier\",\"Anzahl Wohnungen nach Projektstatus, Kreis und Quartier\",\"\"],\"root\":{\"color\":\"grey\"},\"type\":\"treemap\",\"values\":[320688,49900,216309,53700,18894,867143,95867,46200,131500,73696,34867,18260,26196,623100,734633,56140,347165,31524,19075,10100,38000,25820,131880,70846,93442,13626,33442,103780,3400,349456,103017,48895,134306,36000,33325,180000,63335,91245,13000,116700,38004,239800,2800,88254,120100,18000,6500,11630,10718,289760,71095,38700,165000,159670,593275,49480,190700,245415,22550,26450,22280,57200,11000,12016,18410,56200,10194,136891,47900,191630,37485,136342,157274,140318,1293794,21100,193796,123141,455136,570682,134306,120600,31524,36000,795533,38000,190700,271865,141954,307554,166600,209772,86705,251981,18000,98667,623100,236095,198370,940440,1127551,1726180,5364733,8218464]}],                        {\"height\":400,\"legend\":{\"tracegroupgap\":0},\"margin\":{\"b\":25,\"l\":25,\"r\":250,\"t\":50},\"template\":{\"data\":{\"bar\":[{\"error_x\":{\"color\":\"#2a3f5f\"},\"error_y\":{\"color\":\"#2a3f5f\"},\"marker\":{\"line\":{\"color\":\"#E5ECF6\",\"width\":0.5},\"pattern\":{\"fillmode\":\"overlay\",\"size\":10,\"solidity\":0.2}},\"type\":\"bar\"}],\"barpolar\":[{\"marker\":{\"line\":{\"color\":\"#E5ECF6\",\"width\":0.5},\"pattern\":{\"fillmode\":\"overlay\",\"size\":10,\"solidity\":0.2}},\"type\":\"barpolar\"}],\"carpet\":[{\"aaxis\":{\"endlinecolor\":\"#2a3f5f\",\"gridcolor\":\"white\",\"linecolor\":\"white\",\"minorgridcolor\":\"white\",\"startlinecolor\":\"#2a3f5f\"},\"baxis\":{\"endlinecolor\":\"#2a3f5f\",\"gridcolor\":\"white\",\"linecolor\":\"white\",\"minorgridcolor\":\"white\",\"startlinecolor\":\"#2a3f5f\"},\"type\":\"carpet\"}],\"choropleth\":[{\"colorbar\":{\"outlinewidth\":0,\"ticks\":\"\"},\"type\":\"choropleth\"}],\"contour\":[{\"colorbar\":{\"outlinewidth\":0,\"ticks\":\"\"},\"colorscale\":[[0.0,\"#0d0887\"],[0.1111111111111111,\"#46039f\"],[0.2222222222222222,\"#7201a8\"],[0.3333333333333333,\"#9c179e\"],[0.4444444444444444,\"#bd3786\"],[0.5555555555555556,\"#d8576b\"],[0.6666666666666666,\"#ed7953\"],[0.7777777777777778,\"#fb9f3a\"],[0.8888888888888888,\"#fdca26\"],[1.0,\"#f0f921\"]],\"type\":\"contour\"}],\"contourcarpet\":[{\"colorbar\":{\"outlinewidth\":0,\"ticks\":\"\"},\"type\":\"contourcarpet\"}],\"heatmap\":[{\"colorbar\":{\"outlinewidth\":0,\"ticks\":\"\"},\"colorscale\":[[0.0,\"#0d0887\"],[0.1111111111111111,\"#46039f\"],[0.2222222222222222,\"#7201a8\"],[0.3333333333333333,\"#9c179e\"],[0.4444444444444444,\"#bd3786\"],[0.5555555555555556,\"#d8576b\"],[0.6666666666666666,\"#ed7953\"],[0.7777777777777778,\"#fb9f3a\"],[0.8888888888888888,\"#fdca26\"],[1.0,\"#f0f921\"]],\"type\":\"heatmap\"}],\"heatmapgl\":[{\"colorbar\":{\"outlinewidth\":0,\"ticks\":\"\"},\"colorscale\":[[0.0,\"#0d0887\"],[0.1111111111111111,\"#46039f\"],[0.2222222222222222,\"#7201a8\"],[0.3333333333333333,\"#9c179e\"],[0.4444444444444444,\"#bd3786\"],[0.5555555555555556,\"#d8576b\"],[0.6666666666666666,\"#ed7953\"],[0.7777777777777778,\"#fb9f3a\"],[0.8888888888888888,\"#fdca26\"],[1.0,\"#f0f921\"]],\"type\":\"heatmapgl\"}],\"histogram\":[{\"marker\":{\"pattern\":{\"fillmode\":\"overlay\",\"size\":10,\"solidity\":0.2}},\"type\":\"histogram\"}],\"histogram2d\":[{\"colorbar\":{\"outlinewidth\":0,\"ticks\":\"\"},\"colorscale\":[[0.0,\"#0d0887\"],[0.1111111111111111,\"#46039f\"],[0.2222222222222222,\"#7201a8\"],[0.3333333333333333,\"#9c179e\"],[0.4444444444444444,\"#bd3786\"],[0.5555555555555556,\"#d8576b\"],[0.6666666666666666,\"#ed7953\"],[0.7777777777777778,\"#fb9f3a\"],[0.8888888888888888,\"#fdca26\"],[1.0,\"#f0f921\"]],\"type\":\"histogram2d\"}],\"histogram2dcontour\":[{\"colorbar\":{\"outlinewidth\":0,\"ticks\":\"\"},\"colorscale\":[[0.0,\"#0d0887\"],[0.1111111111111111,\"#46039f\"],[0.2222222222222222,\"#7201a8\"],[0.3333333333333333,\"#9c179e\"],[0.4444444444444444,\"#bd3786\"],[0.5555555555555556,\"#d8576b\"],[0.6666666666666666,\"#ed7953\"],[0.7777777777777778,\"#fb9f3a\"],[0.8888888888888888,\"#fdca26\"],[1.0,\"#f0f921\"]],\"type\":\"histogram2dcontour\"}],\"mesh3d\":[{\"colorbar\":{\"outlinewidth\":0,\"ticks\":\"\"},\"type\":\"mesh3d\"}],\"parcoords\":[{\"line\":{\"colorbar\":{\"outlinewidth\":0,\"ticks\":\"\"}},\"type\":\"parcoords\"}],\"pie\":[{\"automargin\":true,\"type\":\"pie\"}],\"scatter\":[{\"marker\":{\"colorbar\":{\"outlinewidth\":0,\"ticks\":\"\"}},\"type\":\"scatter\"}],\"scatter3d\":[{\"line\":{\"colorbar\":{\"outlinewidth\":0,\"ticks\":\"\"}},\"marker\":{\"colorbar\":{\"outlinewidth\":0,\"ticks\":\"\"}},\"type\":\"scatter3d\"}],\"scattercarpet\":[{\"marker\":{\"colorbar\":{\"outlinewidth\":0,\"ticks\":\"\"}},\"type\":\"scattercarpet\"}],\"scattergeo\":[{\"marker\":{\"colorbar\":{\"outlinewidth\":0,\"ticks\":\"\"}},\"type\":\"scattergeo\"}],\"scattergl\":[{\"marker\":{\"colorbar\":{\"outlinewidth\":0,\"ticks\":\"\"}},\"type\":\"scattergl\"}],\"scattermapbox\":[{\"marker\":{\"colorbar\":{\"outlinewidth\":0,\"ticks\":\"\"}},\"type\":\"scattermapbox\"}],\"scatterpolar\":[{\"marker\":{\"colorbar\":{\"outlinewidth\":0,\"ticks\":\"\"}},\"type\":\"scatterpolar\"}],\"scatterpolargl\":[{\"marker\":{\"colorbar\":{\"outlinewidth\":0,\"ticks\":\"\"}},\"type\":\"scatterpolargl\"}],\"scatterternary\":[{\"marker\":{\"colorbar\":{\"outlinewidth\":0,\"ticks\":\"\"}},\"type\":\"scatterternary\"}],\"surface\":[{\"colorbar\":{\"outlinewidth\":0,\"ticks\":\"\"},\"colorscale\":[[0.0,\"#0d0887\"],[0.1111111111111111,\"#46039f\"],[0.2222222222222222,\"#7201a8\"],[0.3333333333333333,\"#9c179e\"],[0.4444444444444444,\"#bd3786\"],[0.5555555555555556,\"#d8576b\"],[0.6666666666666666,\"#ed7953\"],[0.7777777777777778,\"#fb9f3a\"],[0.8888888888888888,\"#fdca26\"],[1.0,\"#f0f921\"]],\"type\":\"surface\"}],\"table\":[{\"cells\":{\"fill\":{\"color\":\"#EBF0F8\"},\"line\":{\"color\":\"white\"}},\"header\":{\"fill\":{\"color\":\"#C8D4E3\"},\"line\":{\"color\":\"white\"}},\"type\":\"table\"}]},\"layout\":{\"annotationdefaults\":{\"arrowcolor\":\"#2a3f5f\",\"arrowhead\":0,\"arrowwidth\":1},\"autotypenumbers\":\"strict\",\"coloraxis\":{\"colorbar\":{\"outlinewidth\":0,\"ticks\":\"\"}},\"colorscale\":{\"diverging\":[[0,\"#8e0152\"],[0.1,\"#c51b7d\"],[0.2,\"#de77ae\"],[0.3,\"#f1b6da\"],[0.4,\"#fde0ef\"],[0.5,\"#f7f7f7\"],[0.6,\"#e6f5d0\"],[0.7,\"#b8e186\"],[0.8,\"#7fbc41\"],[0.9,\"#4d9221\"],[1,\"#276419\"]],\"sequential\":[[0.0,\"#0d0887\"],[0.1111111111111111,\"#46039f\"],[0.2222222222222222,\"#7201a8\"],[0.3333333333333333,\"#9c179e\"],[0.4444444444444444,\"#bd3786\"],[0.5555555555555556,\"#d8576b\"],[0.6666666666666666,\"#ed7953\"],[0.7777777777777778,\"#fb9f3a\"],[0.8888888888888888,\"#fdca26\"],[1.0,\"#f0f921\"]],\"sequentialminus\":[[0.0,\"#0d0887\"],[0.1111111111111111,\"#46039f\"],[0.2222222222222222,\"#7201a8\"],[0.3333333333333333,\"#9c179e\"],[0.4444444444444444,\"#bd3786\"],[0.5555555555555556,\"#d8576b\"],[0.6666666666666666,\"#ed7953\"],[0.7777777777777778,\"#fb9f3a\"],[0.8888888888888888,\"#fdca26\"],[1.0,\"#f0f921\"]]},\"colorway\":[\"#636efa\",\"#EF553B\",\"#00cc96\",\"#ab63fa\",\"#FFA15A\",\"#19d3f3\",\"#FF6692\",\"#B6E880\",\"#FF97FF\",\"#FECB52\"],\"font\":{\"color\":\"#2a3f5f\"},\"geo\":{\"bgcolor\":\"white\",\"lakecolor\":\"white\",\"landcolor\":\"#E5ECF6\",\"showlakes\":true,\"showland\":true,\"subunitcolor\":\"white\"},\"hoverlabel\":{\"align\":\"left\"},\"hovermode\":\"closest\",\"mapbox\":{\"style\":\"light\"},\"paper_bgcolor\":\"white\",\"plot_bgcolor\":\"#E5ECF6\",\"polar\":{\"angularaxis\":{\"gridcolor\":\"white\",\"linecolor\":\"white\",\"ticks\":\"\"},\"bgcolor\":\"#E5ECF6\",\"radialaxis\":{\"gridcolor\":\"white\",\"linecolor\":\"white\",\"ticks\":\"\"}},\"scene\":{\"xaxis\":{\"backgroundcolor\":\"#E5ECF6\",\"gridcolor\":\"white\",\"gridwidth\":2,\"linecolor\":\"white\",\"showbackground\":true,\"ticks\":\"\",\"zerolinecolor\":\"white\"},\"yaxis\":{\"backgroundcolor\":\"#E5ECF6\",\"gridcolor\":\"white\",\"gridwidth\":2,\"linecolor\":\"white\",\"showbackground\":true,\"ticks\":\"\",\"zerolinecolor\":\"white\"},\"zaxis\":{\"backgroundcolor\":\"#E5ECF6\",\"gridcolor\":\"white\",\"gridwidth\":2,\"linecolor\":\"white\",\"showbackground\":true,\"ticks\":\"\",\"zerolinecolor\":\"white\"}},\"shapedefaults\":{\"line\":{\"color\":\"#2a3f5f\"}},\"ternary\":{\"aaxis\":{\"gridcolor\":\"white\",\"linecolor\":\"white\",\"ticks\":\"\"},\"baxis\":{\"gridcolor\":\"white\",\"linecolor\":\"white\",\"ticks\":\"\"},\"bgcolor\":\"#E5ECF6\",\"caxis\":{\"gridcolor\":\"white\",\"linecolor\":\"white\",\"ticks\":\"\"}},\"title\":{\"x\":0.05},\"xaxis\":{\"automargin\":true,\"gridcolor\":\"white\",\"linecolor\":\"white\",\"ticks\":\"\",\"title\":{\"standoff\":15},\"zerolinecolor\":\"white\",\"zerolinewidth\":2},\"yaxis\":{\"automargin\":true,\"gridcolor\":\"white\",\"linecolor\":\"white\",\"ticks\":\"\",\"title\":{\"standoff\":15},\"zerolinecolor\":\"white\",\"zerolinewidth\":2}}},\"width\":1100},                        {\"responsive\": true}                    ).then(function(){\n",
       "                            \n",
       "var gd = document.getElementById('35a99e63-37b6-4dc2-8b2b-da3c61e2aacb');\n",
       "var x = new MutationObserver(function (mutations, observer) {{\n",
       "        var display = window.getComputedStyle(gd).display;\n",
       "        if (!display || display === 'none') {{\n",
       "            console.log([gd, 'removed!']);\n",
       "            Plotly.purge(gd);\n",
       "            observer.disconnect();\n",
       "        }}\n",
       "}});\n",
       "\n",
       "// Listen for the removal of the full notebook cells\n",
       "var notebookContainer = gd.closest('#notebook-container');\n",
       "if (notebookContainer) {{\n",
       "    x.observe(notebookContainer, {childList: true});\n",
       "}}\n",
       "\n",
       "// Listen for the clearing of the current output cell\n",
       "var outputEl = gd.closest('.output');\n",
       "if (outputEl) {{\n",
       "    x.observe(outputEl, {childList: true});\n",
       "}}\n",
       "\n",
       "                        })                };                });            </script>        </div>"
      ]
     },
     "metadata": {},
     "output_type": "display_data"
    }
   ],
   "source": [
    "fig = px.treemap(myTreemapAgg.query('sum_ProjKosten >0').reset_index(), path=[px.Constant(\"Anzahl Wohnungen nach Projektstatus, Kreis und Quartier\"),'ProjStatus', 'KreisLang', 'QuarLang']\n",
    "                 , values='sum_ProjKosten'\n",
    "                 , color='ProjStatus'\n",
    "                 ## bei discrete scales (bei Klassen und Strings):                 \n",
    "                 #, color_discrete_map={'(?)':'lightgrey','EVP':'gold', 'SP':'#FF3030', 'PdA':'#EE3B3B', 'Grüne':'#A2CD5A','GLP':'#CAFF70','Die Mitte':'orange','FDP':'#104E8B','AL':'deeppink','SVP':'forestgreen', 'FL ZÜRI':'#8B864E','Volt':'#lightblue' }                \n",
    "                 ## bei continuous scales (bei Zahlenwerten):\n",
    "                , color_continuous_scale='cividis'\n",
    "                #, color_continuous_midpoint=np.average(df['AnzBestWir'], weights=df['AnzBestWir'])  \n",
    "                 ,height=400\n",
    "                 ,width=1100                 \n",
    "                )\n",
    "fig.update_traces(root_color=\"grey\")\n",
    "fig.update_layout(margin = dict(t=50, l=25, r=250, b=25))\n",
    "fig.show()"
   ]
  },
  {
   "cell_type": "code",
   "execution_count": 36,
   "metadata": {},
   "outputs": [],
   "source": [
    "#data2betested.dtypes"
   ]
  },
  {
   "cell_type": "markdown",
   "metadata": {
    "tags": []
   },
   "source": [
    "### Test: Choroplethenkarte\n",
    "Importiere die Geodaten als GeoJSON"
   ]
  },
  {
   "cell_type": "markdown",
   "metadata": {},
   "source": [
    "#### Stadtkreise"
   ]
  },
  {
   "cell_type": "code",
   "execution_count": 48,
   "metadata": {},
   "outputs": [
    {
     "data": {
      "text/html": [
       "<div>\n",
       "<style scoped>\n",
       "    .dataframe tbody tr th:only-of-type {\n",
       "        vertical-align: middle;\n",
       "    }\n",
       "\n",
       "    .dataframe tbody tr th {\n",
       "        vertical-align: top;\n",
       "    }\n",
       "\n",
       "    .dataframe thead th {\n",
       "        text-align: right;\n",
       "    }\n",
       "</style>\n",
       "<table border=\"1\" class=\"dataframe\">\n",
       "  <thead>\n",
       "    <tr style=\"text-align: right;\">\n",
       "      <th></th>\n",
       "      <th>id</th>\n",
       "      <th>kname</th>\n",
       "      <th>knr</th>\n",
       "      <th>objid</th>\n",
       "      <th>geometry</th>\n",
       "    </tr>\n",
       "  </thead>\n",
       "  <tbody>\n",
       "    <tr>\n",
       "      <th>0</th>\n",
       "      <td>adm_stadtkreise_v.6</td>\n",
       "      <td>Kreis 7</td>\n",
       "      <td>7</td>\n",
       "      <td>6</td>\n",
       "      <td>POLYGON ((8.54885 47.36602, 8.54901 47.36601, ...</td>\n",
       "    </tr>\n",
       "  </tbody>\n",
       "</table>\n",
       "</div>"
      ],
      "text/plain": [
       "                    id    kname  knr objid                                           geometry\n",
       "0  adm_stadtkreise_v.6  Kreis 7    7     6  POLYGON ((8.54885 47.36602, 8.54901 47.36601, ..."
      ]
     },
     "execution_count": 48,
     "metadata": {},
     "output_type": "execute_result"
    }
   ],
   "source": [
    "# Read abt. Geopandas https://geopandas.org/docs/user_guide/io.html\n",
    "geojson_url_kreise = \"https://www.ogd.stadt-zuerich.ch/wfs/geoportal/Stadtkreise?service=WFS&version=1.1.0&request=GetFeature&outputFormat=GeoJSON&typename=adm_stadtkreise_v\"\n",
    "adm_stadtkreise_v = gpd.read_file(geojson_url_kreise)\n",
    "\n",
    "adm_stadtkreise_v.head(1)\n"
   ]
  },
  {
   "cell_type": "code",
   "execution_count": null,
   "metadata": {},
   "outputs": [],
   "source": []
  },
  {
   "cell_type": "code",
   "execution_count": null,
   "metadata": {},
   "outputs": [],
   "source": []
  },
  {
   "cell_type": "markdown",
   "metadata": {},
   "source": [
    "#### Statistische Zonen"
   ]
  },
  {
   "cell_type": "code",
   "execution_count": 49,
   "metadata": {},
   "outputs": [
    {
     "data": {
      "text/html": [
       "<div>\n",
       "<style scoped>\n",
       "    .dataframe tbody tr th:only-of-type {\n",
       "        vertical-align: middle;\n",
       "    }\n",
       "\n",
       "    .dataframe tbody tr th {\n",
       "        vertical-align: top;\n",
       "    }\n",
       "\n",
       "    .dataframe thead th {\n",
       "        text-align: right;\n",
       "    }\n",
       "</style>\n",
       "<table border=\"1\" class=\"dataframe\">\n",
       "  <thead>\n",
       "    <tr style=\"text-align: right;\">\n",
       "      <th></th>\n",
       "      <th>id</th>\n",
       "      <th>kname</th>\n",
       "      <th>knr</th>\n",
       "      <th>objectid</th>\n",
       "      <th>objid</th>\n",
       "      <th>qname</th>\n",
       "      <th>qnr</th>\n",
       "      <th>stzname</th>\n",
       "      <th>stznr</th>\n",
       "      <th>geometry</th>\n",
       "    </tr>\n",
       "  </thead>\n",
       "  <tbody>\n",
       "    <tr>\n",
       "      <th>0</th>\n",
       "      <td>adm_statzonen_map.1</td>\n",
       "      <td>Kreis 7</td>\n",
       "      <td>7</td>\n",
       "      <td>1</td>\n",
       "      <td>154</td>\n",
       "      <td>Hirslanden</td>\n",
       "      <td>73</td>\n",
       "      <td>Hegibach</td>\n",
       "      <td>7303</td>\n",
       "      <td>POLYGON ((8.55670 47.36406, 8.55682 47.36410, ...</td>\n",
       "    </tr>\n",
       "    <tr>\n",
       "      <th>1</th>\n",
       "      <td>adm_statzonen_map.2</td>\n",
       "      <td>Kreis 7</td>\n",
       "      <td>7</td>\n",
       "      <td>2</td>\n",
       "      <td>89</td>\n",
       "      <td>Hirslanden</td>\n",
       "      <td>73</td>\n",
       "      <td>Klus</td>\n",
       "      <td>7302</td>\n",
       "      <td>POLYGON ((8.57281 47.35806, 8.57278 47.35807, ...</td>\n",
       "    </tr>\n",
       "  </tbody>\n",
       "</table>\n",
       "</div>"
      ],
      "text/plain": [
       "                    id    kname  knr  objectid objid       qname  qnr   stzname  stznr  \\\n",
       "0  adm_statzonen_map.1  Kreis 7    7         1   154  Hirslanden   73  Hegibach   7303   \n",
       "1  adm_statzonen_map.2  Kreis 7    7         2    89  Hirslanden   73      Klus   7302   \n",
       "\n",
       "                                            geometry  \n",
       "0  POLYGON ((8.55670 47.36406, 8.55682 47.36410, ...  \n",
       "1  POLYGON ((8.57281 47.35806, 8.57278 47.35807, ...  "
      ]
     },
     "execution_count": 49,
     "metadata": {},
     "output_type": "execute_result"
    }
   ],
   "source": [
    "# Read abt. Geopandas https://geopandas.org/docs/user_guide/io.html\n",
    "geojson_url_statzonen = \"https://www.ogd.stadt-zuerich.ch/wfs/geoportal/Statistische_Zonen?service=WFS&version=1.1.0&request=GetFeature&outputFormat=GeoJSON&typename=adm_statzonen_map\"\n",
    "adm_statzonen_map = gpd.read_file(geojson_url_statzonen)\n",
    "\n",
    "adm_statzonen_map.head(2)\n"
   ]
  },
  {
   "cell_type": "markdown",
   "metadata": {},
   "source": [
    "#### Statistische Quartiere"
   ]
  },
  {
   "cell_type": "code",
   "execution_count": 50,
   "metadata": {},
   "outputs": [
    {
     "data": {
      "text/html": [
       "<div>\n",
       "<style scoped>\n",
       "    .dataframe tbody tr th:only-of-type {\n",
       "        vertical-align: middle;\n",
       "    }\n",
       "\n",
       "    .dataframe tbody tr th {\n",
       "        vertical-align: top;\n",
       "    }\n",
       "\n",
       "    .dataframe thead th {\n",
       "        text-align: right;\n",
       "    }\n",
       "</style>\n",
       "<table border=\"1\" class=\"dataframe\">\n",
       "  <thead>\n",
       "    <tr style=\"text-align: right;\">\n",
       "      <th></th>\n",
       "      <th>id</th>\n",
       "      <th>kname</th>\n",
       "      <th>knr</th>\n",
       "      <th>objectid</th>\n",
       "      <th>objid</th>\n",
       "      <th>qname</th>\n",
       "      <th>qnr</th>\n",
       "      <th>geometry</th>\n",
       "    </tr>\n",
       "  </thead>\n",
       "  <tbody>\n",
       "    <tr>\n",
       "      <th>0</th>\n",
       "      <td>adm_statistische_quartiere_map.1</td>\n",
       "      <td>Kreis 7</td>\n",
       "      <td>7</td>\n",
       "      <td>1</td>\n",
       "      <td>34</td>\n",
       "      <td>Hirslanden</td>\n",
       "      <td>73</td>\n",
       "      <td>POLYGON ((8.55670 47.36406, 8.55682 47.36410, ...</td>\n",
       "    </tr>\n",
       "    <tr>\n",
       "      <th>1</th>\n",
       "      <td>adm_statistische_quartiere_map.2</td>\n",
       "      <td>Kreis 8</td>\n",
       "      <td>8</td>\n",
       "      <td>2</td>\n",
       "      <td>33</td>\n",
       "      <td>Weinegg</td>\n",
       "      <td>83</td>\n",
       "      <td>POLYGON ((8.55670 47.36405, 8.55672 47.36403, ...</td>\n",
       "    </tr>\n",
       "  </tbody>\n",
       "</table>\n",
       "</div>"
      ],
      "text/plain": [
       "                                 id    kname  knr  objectid objid       qname  qnr  \\\n",
       "0  adm_statistische_quartiere_map.1  Kreis 7    7         1    34  Hirslanden   73   \n",
       "1  adm_statistische_quartiere_map.2  Kreis 8    8         2    33     Weinegg   83   \n",
       "\n",
       "                                            geometry  \n",
       "0  POLYGON ((8.55670 47.36406, 8.55682 47.36410, ...  \n",
       "1  POLYGON ((8.55670 47.36405, 8.55672 47.36403, ...  "
      ]
     },
     "execution_count": 50,
     "metadata": {},
     "output_type": "execute_result"
    }
   ],
   "source": [
    "geojson_url_quartiere = \"https://www.ogd.stadt-zuerich.ch/wfs/geoportal/Statistische_Quartiere?service=WFS&version=1.1.0&request=GetFeature&outputFormat=GeoJSON&typename=adm_statistische_quartiere_map\"\n",
    "df_adm_statistische_quartiere_map = gpd.read_file(geojson_url_quartiere)\n",
    "\n",
    "df_adm_statistische_quartiere_map.head(2)\n"
   ]
  },
  {
   "cell_type": "markdown",
   "metadata": {},
   "source": [
    "### Teste LeafMap\n",
    "\n",
    "Mehr Infos: https://leafmap.org/leafmap/"
   ]
  },
  {
   "cell_type": "code",
   "execution_count": 67,
   "metadata": {},
   "outputs": [
    {
     "data": {
      "application/vnd.jupyter.widget-view+json": {
       "model_id": "f88af80a15804a4bb4dfea18b4008812",
       "version_major": 2,
       "version_minor": 0
      },
      "text/plain": [
       "Map(center=[20, 0], controls=(ZoomControl(options=['position', 'zoom_in_text', 'zoom_in_title', 'zoom_out_text…"
      ]
     },
     "metadata": {},
     "output_type": "display_data"
    }
   ],
   "source": [
    "m = leafmap.Map()\n",
    "\n",
    "\n",
    "#m.add_geojson(geojson_url_kreise, layer_name=\"adm_stadtkreise_v\", fill_colors=['red', 'yellow', 'green', 'orange'], info_mode=True)\n",
    "m.add_gdf(df_adm_statistische_quartiere_map, layer_name='adm_statistische_quartiere_map', style={}, hover_style={}, style_callback=None, fill_colors=['black'], info_mode='on_hover', zoom_to_layer=True)\n",
    "m.add_gdf(adm_stadtkreise_v, layer_name='adm_stadtkreise_v', style={}, hover_style={}, style_callback=None, fill_colors=['none'], info_mode='on_hover', zoom_to_layer=False)\n",
    "\n",
    "m.add_legend(title='Legende', legend_dict=None, labels=None, colors=None, position='bottomright', builtin_legend=None, layer_name='adm_statistische_quartiere_map')\n",
    "m"
   ]
  },
  {
   "cell_type": "markdown",
   "metadata": {},
   "source": [
    "### Joins\n",
    "Joine die importierten statistischen Daten des aktuellen Jahres zum Geodatensatz:\n",
    "\n",
    "*Siehe dazu Doku zu [Geopandas](https://geopandas.org/docs/user_guide/mergingdata.html)*"
   ]
  },
  {
   "cell_type": "code",
   "execution_count": 127,
   "metadata": {},
   "outputs": [
    {
     "data": {
      "text/plain": [
       "StatZoneCd             int64\n",
       "StatZone              object\n",
       "QuarCd                 int64\n",
       "QuarLang              object\n",
       "KreisCd                int64\n",
       "KreisLang             object\n",
       "EigentumsartSort       int64\n",
       "Eigentumsart          object\n",
       "Whg_abgebrochen        int64\n",
       "Whg_fertigerstellt     int64\n",
       "dtype: object"
      ]
     },
     "execution_count": 127,
     "metadata": {},
     "output_type": "execute_result"
    }
   ],
   "source": [
    "data2betested.dtypes"
   ]
  },
  {
   "cell_type": "code",
   "execution_count": 137,
   "metadata": {},
   "outputs": [
    {
     "data": {
      "text/html": [
       "<div>\n",
       "<style scoped>\n",
       "    .dataframe tbody tr th:only-of-type {\n",
       "        vertical-align: middle;\n",
       "    }\n",
       "\n",
       "    .dataframe tbody tr th {\n",
       "        vertical-align: top;\n",
       "    }\n",
       "\n",
       "    .dataframe thead th {\n",
       "        text-align: right;\n",
       "    }\n",
       "</style>\n",
       "<table border=\"1\" class=\"dataframe\">\n",
       "  <thead>\n",
       "    <tr style=\"text-align: right;\">\n",
       "      <th></th>\n",
       "      <th>QuarLang</th>\n",
       "      <th>QuarCd</th>\n",
       "      <th>sum_Whg_abgebrochen</th>\n",
       "      <th>sum_Whg_fertigerstellt</th>\n",
       "    </tr>\n",
       "  </thead>\n",
       "  <tbody>\n",
       "    <tr>\n",
       "      <th>0</th>\n",
       "      <td>Albisrieden</td>\n",
       "      <td>91</td>\n",
       "      <td>282</td>\n",
       "      <td>89</td>\n",
       "    </tr>\n",
       "  </tbody>\n",
       "</table>\n",
       "</div>"
      ],
      "text/plain": [
       "      QuarLang  QuarCd  sum_Whg_abgebrochen  sum_Whg_fertigerstellt\n",
       "0  Albisrieden      91                  282                      89"
      ]
     },
     "execution_count": 137,
     "metadata": {},
     "output_type": "execute_result"
    }
   ],
   "source": [
    "myAgg = data2betested.loc[\"2021\"]  \\\n",
    "    .groupby(['QuarLang', 'QuarCd']) \\\n",
    "    .agg(sum_Whg_abgebrochen=('Whg_abgebrochen', 'sum'),sum_Whg_fertigerstellt=('Whg_fertigerstellt', 'sum')) \\\n",
    "    .sort_values('sum_Whg_abgebrochen', ascending=False) \n",
    "\n",
    "myAgg.reset_index().head(1)\n"
   ]
  },
  {
   "cell_type": "code",
   "execution_count": 138,
   "metadata": {},
   "outputs": [
    {
     "data": {
      "text/html": [
       "<div>\n",
       "<style scoped>\n",
       "    .dataframe tbody tr th:only-of-type {\n",
       "        vertical-align: middle;\n",
       "    }\n",
       "\n",
       "    .dataframe tbody tr th {\n",
       "        vertical-align: top;\n",
       "    }\n",
       "\n",
       "    .dataframe thead th {\n",
       "        text-align: right;\n",
       "    }\n",
       "</style>\n",
       "<table border=\"1\" class=\"dataframe\">\n",
       "  <thead>\n",
       "    <tr style=\"text-align: right;\">\n",
       "      <th></th>\n",
       "      <th>geometry</th>\n",
       "      <th>QuarCd</th>\n",
       "      <th>qname</th>\n",
       "      <th>knr</th>\n",
       "    </tr>\n",
       "  </thead>\n",
       "  <tbody>\n",
       "    <tr>\n",
       "      <th>0</th>\n",
       "      <td>POLYGON ((8.55670 47.36406, 8.55682 47.36410, ...</td>\n",
       "      <td>73</td>\n",
       "      <td>Hirslanden</td>\n",
       "      <td>7</td>\n",
       "    </tr>\n",
       "  </tbody>\n",
       "</table>\n",
       "</div>"
      ],
      "text/plain": [
       "                                            geometry  QuarCd       qname  knr\n",
       "0  POLYGON ((8.55670 47.36406, 8.55682 47.36410, ...      73  Hirslanden    7"
      ]
     },
     "execution_count": 138,
     "metadata": {},
     "output_type": "execute_result"
    }
   ],
   "source": [
    "# Rename attribute stznr to StatZoneSort, so the IDs have the same name\n",
    "gdf_adm_statistische_quartiere_map = df_adm_statistische_quartiere_map[['geometry', 'qnr', 'qname', 'knr']].rename(columns={'qnr': 'QuarCd'})\n",
    "gdf_adm_statistische_quartiere_map.head(1)"
   ]
  },
  {
   "cell_type": "code",
   "execution_count": 139,
   "metadata": {},
   "outputs": [
    {
     "data": {
      "text/html": [
       "<div>\n",
       "<style scoped>\n",
       "    .dataframe tbody tr th:only-of-type {\n",
       "        vertical-align: middle;\n",
       "    }\n",
       "\n",
       "    .dataframe tbody tr th {\n",
       "        vertical-align: top;\n",
       "    }\n",
       "\n",
       "    .dataframe thead th {\n",
       "        text-align: right;\n",
       "    }\n",
       "</style>\n",
       "<table border=\"1\" class=\"dataframe\">\n",
       "  <thead>\n",
       "    <tr style=\"text-align: right;\">\n",
       "      <th></th>\n",
       "      <th>geometry</th>\n",
       "      <th>QuarCd</th>\n",
       "      <th>qname</th>\n",
       "      <th>knr</th>\n",
       "      <th>sum_Whg_abgebrochen</th>\n",
       "      <th>sum_Whg_fertigerstellt</th>\n",
       "    </tr>\n",
       "  </thead>\n",
       "  <tbody>\n",
       "    <tr>\n",
       "      <th>0</th>\n",
       "      <td>POLYGON ((8.55670 47.36406, 8.55682 47.36410, ...</td>\n",
       "      <td>73</td>\n",
       "      <td>Hirslanden</td>\n",
       "      <td>7</td>\n",
       "      <td>48</td>\n",
       "      <td>2</td>\n",
       "    </tr>\n",
       "    <tr>\n",
       "      <th>1</th>\n",
       "      <td>POLYGON ((8.55670 47.36405, 8.55672 47.36403, ...</td>\n",
       "      <td>83</td>\n",
       "      <td>Weinegg</td>\n",
       "      <td>8</td>\n",
       "      <td>2</td>\n",
       "      <td>0</td>\n",
       "    </tr>\n",
       "  </tbody>\n",
       "</table>\n",
       "</div>"
      ],
      "text/plain": [
       "                                            geometry  QuarCd       qname  knr  \\\n",
       "0  POLYGON ((8.55670 47.36406, 8.55682 47.36410, ...      73  Hirslanden    7   \n",
       "1  POLYGON ((8.55670 47.36405, 8.55672 47.36403, ...      83     Weinegg    8   \n",
       "\n",
       "   sum_Whg_abgebrochen  sum_Whg_fertigerstellt  \n",
       "0                   48                       2  \n",
       "1                    2                       0  "
      ]
     },
     "execution_count": 139,
     "metadata": {},
     "output_type": "execute_result"
    }
   ],
   "source": [
    "# Merge with `merge` method on shared variable (stznr und StatZoneSort):\n",
    "gdf_adm_statistische_quartiere_map_joined = gdf_adm_statistische_quartiere_map.merge(myAgg, on='QuarCd')\n",
    "gdf_adm_statistische_quartiere_map_joined.head(2)\n"
   ]
  },
  {
   "cell_type": "code",
   "execution_count": 142,
   "metadata": {},
   "outputs": [
    {
     "data": {
      "text/plain": [
       "<AxesSubplot:>"
      ]
     },
     "execution_count": 142,
     "metadata": {},
     "output_type": "execute_result"
    },
    {
     "data": {
      "image/png": "[encoded data removed]",
      "text/plain": [
       "<Figure size 432x288 with 1 Axes>"
      ]
     },
     "metadata": {
      "needs_background": "light"
     },
     "output_type": "display_data"
    },
    {
     "data": {
      "image/png": "[encoded data removed]",
      "text/plain": [
       "<Figure size 432x288 with 1 Axes>"
      ]
     },
     "metadata": {
      "needs_background": "light"
     },
     "output_type": "display_data"
    }
   ],
   "source": [
    "# Plot by StatQuartiere\n",
    "# Weitere Schemes: scheme='quantiles', scheme='fisherjenks', scheme='natural_breaks',\n",
    "\n",
    "gdf_adm_statistische_quartiere_map_joined.plot(column='sum_Whg_fertigerstellt', cmap='viridis', scheme='natural_breaks', legend=True )\n",
    "gdf_adm_statistische_quartiere_map_joined.plot(column='sum_Whg_abgebrochen', cmap='viridis', scheme='natural_breaks', legend=True )\n",
    "\n",
    "#gdf_adm_statistische_quartiere_map_joined.plot(column='sum_Whg_abgebrochen', cmap='plasma', scheme='fisherjenks', legend=True )\n",
    "#gdf_adm_statistische_quartiere_map_joined.plot(column='sum_Whg_fertigerstellt', cmap='cool', scheme='quantiles', legend=True )\n",
    "#scheme werte: https://matplotlib.org/2.0.2/users/colormaps.html\n",
    "\n",
    "#\n",
    "#Neuere Gallerie: https://matplotlib.org/stable/gallery/index.html"
   ]
  },
  {
   "cell_type": "code",
   "execution_count": 157,
   "metadata": {},
   "outputs": [
    {
     "data": {
      "text/plain": [
       "<AxesSubplot:>"
      ]
     },
     "execution_count": 157,
     "metadata": {},
     "output_type": "execute_result"
    },
    {
     "data": {
      "image/png": "[encoded data removed]",
      "text/plain": [
       "<Figure size 432x288 with 2 Axes>"
      ]
     },
     "metadata": {
      "needs_background": "light"
     },
     "output_type": "display_data"
    }
   ],
   "source": [
    "fig, ax = plt.subplots(1, 1)\n",
    "\n",
    "gdf_adm_statistische_quartiere_map_joined.plot(column='sum_Whg_abgebrochen', ax=ax, legend=True, legend_kwds={'label': \"Anzahl abgebrochene Wohnungen 2021\",'orientation': \"horizontal\"})\n",
    "gdf_adm_statistische_quartiere_map_joined.plot(column='sum_Whg_fertigerstellt', ax=ax, legend=False, legend_kwds={'label': \"Anzahl fertigerstellte Wohnungen 2021\",'orientation': \"horizontal\"})\n",
    "\n",
    "#gdf_adm_statistische_quartiere_map_joined.plot(column='sum_Whg_abgebrochen', cmap='viridis', scheme='natural_breaks', legend=True , ax=ax, legend_kwds={'label': \"Anzahl Personen\",'orientation': \"horizontal\"})"
   ]
  },
  {
   "cell_type": "markdown",
   "metadata": {},
   "source": [
    "Noch zu prüfen, folgendes schöne Beispiel: https://docs.bokeh.org/en/latest/docs/user_guide/interaction/legends.html\n",
    "\n",
    "Konkrete Beispiele von Bookeh in Jupyter NB: https://docs.bokeh.org/en/latest/docs/user_guide/jupyter.html"
   ]
  },
  {
   "cell_type": "markdown",
   "metadata": {},
   "source": [
    "Noch zu prüfen, folgendes schöne Beispiel: https://docs.bokeh.org/en/latest/docs/user_guide/interaction/legends.html\n",
    "\n",
    "Konkrete Beispiele von Bookeh in Jupyter NB: https://docs.bokeh.org/en/latest/docs/user_guide/jupyter.html"
   ]
  },
  {
   "cell_type": "markdown",
   "metadata": {},
   "source": [
    "**Sharepoint als gecheckt markieren!**"
   ]
  },
  {
   "cell_type": "markdown",
   "metadata": {},
   "source": [
    "Record auf Sharepoint: **[Link](https://kollaboration.intranet.stzh.ch/orga/ssz-produkte/Lists/SASA_Outputs/DispForm.aspx?ID=284&ContentTypeId=0x0100988EAF029F1EFE4CA675F53C32A5D53D01006DBC563E6FBE9E4EB6FDC780799752E1)**"
   ]
  },
  {
   "cell_type": "code",
   "execution_count": null,
   "metadata": {},
   "outputs": [],
   "source": []
  },
  {
   "cell_type": "raw",
   "metadata": {},
   "source": []
  },
  {
   "cell_type": "code",
   "execution_count": null,
   "metadata": {},
   "outputs": [],
   "source": []
  }
 ],
 "metadata": {
  "kernelspec": {
   "display_name": "Python 3 (ipykernel)",
   "language": "python",
   "name": "python3"
  },
  "language_info": {
   "codemirror_mode": {
    "name": "ipython",
    "version": 3
   },
   "file_extension": ".py",
   "mimetype": "text/x-python",
   "name": "python",
   "nbconvert_exporter": "python",
   "pygments_lexer": "ipython3",
   "version": "3.9.7"
  },
  "toc-autonumbering": true
 },
 "nbformat": 4,
 "nbformat_minor": 4
}
