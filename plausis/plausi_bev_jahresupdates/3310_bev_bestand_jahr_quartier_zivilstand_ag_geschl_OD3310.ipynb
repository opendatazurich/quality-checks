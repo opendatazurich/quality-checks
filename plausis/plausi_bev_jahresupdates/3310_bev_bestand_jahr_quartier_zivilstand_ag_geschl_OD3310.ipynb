{
 "cells": [
  {
   "cell_type": "markdown",
   "metadata": {
    "tags": []
   },
   "source": [
    "# Testing\n",
    "### Bevölkerung nach Zivilstand, Geschlecht, Alter und Stadtquartier, seit 1993\n",
    "\n",
    "Zivilstand der Bevölkerung nach Geschlecht, Alter und Stadtquartier, seit 1993.\n",
    "Datum: 15.03.2022\n"
   ]
  },
  {
   "cell_type": "markdown",
   "metadata": {},
   "source": [
    "### Importiere die notwendigen Packages"
   ]
  },
  {
   "cell_type": "code",
   "execution_count": 1,
   "metadata": {},
   "outputs": [],
   "source": [
    "#%pip install geopandas altair fiona requests folium mplleaflet contextily seaborn datetime plotly leafmap"
   ]
  },
  {
   "cell_type": "code",
   "execution_count": 27,
   "metadata": {},
   "outputs": [],
   "source": [
    "import pandas as pd\n",
    "import pivottablejs\n",
    "from pivottablejs import pivot_ui\n",
    "import numpy as np\n",
    "import altair as alt\n",
    "import matplotlib.pyplot as plt\n",
    "\n",
    "import datetime\n",
    "import geopandas as gpd\n",
    "import folium \n",
    "import plotly.express as px\n",
    "import seaborn as sns\n",
    "import leafmap\n",
    "\n",
    "import requests\n",
    "import io\n"
   ]
  },
  {
   "cell_type": "code",
   "execution_count": 28,
   "metadata": {},
   "outputs": [],
   "source": [
    "SSL_VERIFY = False\n",
    "# evtl. SSL_VERIFY auf False setzen wenn die Verbindung zu https://www.gemeinderat-zuerich.ch nicht klappt (z.B. wegen Proxy)\n",
    "# Um die SSL Verifikation auszustellen, bitte die nächste Zeile einkommentieren (\"#\" entfernen)\n",
    "# SSL_VERIFY = False"
   ]
  },
  {
   "cell_type": "code",
   "execution_count": 29,
   "metadata": {},
   "outputs": [],
   "source": [
    "if not SSL_VERIFY:\n",
    "    import urllib3\n",
    "    urllib3.disable_warnings()"
   ]
  },
  {
   "cell_type": "markdown",
   "metadata": {},
   "source": [
    "Definiere Settings. Hier das Zahlenformat von Float-Werten (z.B. *'{:,.2f}'.format* mit Komma als Tausenderzeichen), "
   ]
  },
  {
   "cell_type": "code",
   "execution_count": 30,
   "metadata": {},
   "outputs": [],
   "source": [
    "#pd.options.display.float_format = lambda x : '{:,.1f}'.format(x) if (np.isnan(x) | np.isinf(x)) else '{:,.0f}'.format(x) if int(x) == x else '{:,.1f}'.format(x)\n",
    "pd.options.display.float_format = '{:.0f}'.format\n",
    "pd.set_option('display.width', 100)\n",
    "pd.set_option('display.max_columns', 15)"
   ]
  },
  {
   "cell_type": "markdown",
   "metadata": {},
   "source": [
    "### Zeitvariabeln\n",
    "Bestimme den aktuellst geladenen Monat. Hier ist es der Stand vor 2 Monaten. \n",
    "Bestimme noch weitere evt. sinnvolle Zeitvariabeln.\n",
    "\n",
    "Zum Unterschied zwischen import datetime und from datedtime import datetime, siehe https://stackoverflow.com/questions/15707532/import-datetime-v-s-from-datetime-import-datetime\n",
    "\n",
    "Zuerst die Zeitvariabeln als Strings"
   ]
  },
  {
   "cell_type": "code",
   "execution_count": 31,
   "metadata": {},
   "outputs": [],
   "source": [
    "#today_date = datetime.date.today()\n",
    "#date_time = datetime.datetime.strptime(date_time_string, '%Y-%m-%d %H:%M')\n",
    "now = datetime.date.today()\n",
    "date_today = now.strftime(\"%Y-%m-%d\")\n",
    "year_today = now.strftime(\"%Y\")\n",
    "month_today = now.strftime(\"%m\")\n",
    "day_today = now.strftime(\"%d\")\n"
   ]
  },
  {
   "cell_type": "markdown",
   "metadata": {},
   "source": [
    "Und hier noch die Zeitvariabeln als Integers:\n",
    "- `aktuellesJahr`\n",
    "- `aktuellerMonat`: Der gerade jetzt aktuelle Monat\n",
    "- `selectedMonat`: Der aktuellste Monat in den Daten. In der Regel zwei Monate her."
   ]
  },
  {
   "cell_type": "code",
   "execution_count": 32,
   "metadata": {},
   "outputs": [
    {
     "name": "stdout",
     "output_type": "stream",
     "text": [
      "2022 3 datenstand:  1 time.struct_time(tm_year=2022, tm_mon=3, tm_mday=16, tm_hour=0, tm_min=0, tm_sec=0, tm_wday=2, tm_yday=75, tm_isdst=-1)\n"
     ]
    }
   ],
   "source": [
    "#now = datetime.now() \n",
    "int_times = now.timetuple()\n",
    "\n",
    "aktuellesJahr = int_times[0]\n",
    "aktuellerMonat = int_times[1]\n",
    "selectedMonat = int_times[1]-2\n",
    "\n",
    "print(aktuellesJahr, \n",
    "      aktuellerMonat,\n",
    "    'datenstand: ', selectedMonat,\n",
    "     int_times)\n"
   ]
  },
  {
   "cell_type": "markdown",
   "metadata": {},
   "source": [
    "Berechne die Variable Epoche um später das SAS-Datum in ein Unix-Datum umzuwandeln. Bei SAS beginnt die Epoche am 1.1.1960. Bei Unix am 1.1.1970.\n",
    "Diese Variable wird beim CSV-Import benötigt."
   ]
  },
  {
   "cell_type": "code",
   "execution_count": 33,
   "metadata": {},
   "outputs": [],
   "source": [
    "epoch = datetime.datetime(1960, 1, 1)"
   ]
  },
  {
   "cell_type": "markdown",
   "metadata": {},
   "source": [
    "### Setze einige Pfadvariabeln"
   ]
  },
  {
   "cell_type": "markdown",
   "metadata": {
    "tags": []
   },
   "source": [
    "- Der Packagename ist eigentlich der **Verzeichnisname** unter dem die Daten und Metadaten auf der Dropzone abgelegt werden.\n",
    "- Definiert wird er bei SASA-Prozessen auf dem **Produkte-Sharepoint ([Link](https://kollaboration.intranet.stzh.ch/orga/ssz-produkte/Lists/SASA_Outputs/PersonalViews.aspx?PageView=Personal&ShowWebPart={6087A3E7-8AC8-40BA-8278-DECFACE124FF}))**.\n",
    "- Der Packagename wird auf CKAN teil der URL, daher ist die exakte Schreibweise wichtig.\n",
    "\n",
    "Beachte: im Packagename müssen alle Buchstaben **klein** geschrieben werden. Dies weil CKAN aus grossen kleine Buchstaben macht."
   ]
  },
  {
   "cell_type": "markdown",
   "metadata": {},
   "source": [
    "**BITTE HIER ANPASSEN**"
   ]
  },
  {
   "cell_type": "code",
   "execution_count": 34,
   "metadata": {},
   "outputs": [],
   "source": [
    "package_name = \"bev_bestand_jahr_quartier_zivilstand_ag_geschl_od3310\""
   ]
  },
  {
   "cell_type": "code",
   "execution_count": 35,
   "metadata": {
    "tags": []
   },
   "outputs": [],
   "source": [
    "dataset_name = \"BEV331OD3310.csv\""
   ]
  },
  {
   "cell_type": "markdown",
   "metadata": {},
   "source": [
    "**Statische Pfade in DWH-Dropzones**"
   ]
  },
  {
   "cell_type": "code",
   "execution_count": 36,
   "metadata": {},
   "outputs": [],
   "source": [
    "dropzone_path_integ = r\"\\\\szh\\ssz\\applikationen\\OGD_Dropzone\\INT_DWH\""
   ]
  },
  {
   "cell_type": "code",
   "execution_count": 37,
   "metadata": {
    "tags": []
   },
   "outputs": [],
   "source": [
    "dropzone_path_prod = r\"\\\\szh\\ssz\\applikationen\\OGD_Dropzone\\DWH\""
   ]
  },
  {
   "cell_type": "markdown",
   "metadata": {},
   "source": [
    "**Statische Pfade CKAN-URLs**"
   ]
  },
  {
   "cell_type": "code",
   "execution_count": 38,
   "metadata": {
    "tags": []
   },
   "outputs": [],
   "source": [
    "ckan_integ_url =\"https://data.integ.stadt-zuerich.ch/dataset/int_dwh_\""
   ]
  },
  {
   "cell_type": "code",
   "execution_count": 39,
   "metadata": {},
   "outputs": [],
   "source": [
    "ckan_prod_url =\"https://data.stadt-zuerich.ch/dataset/\""
   ]
  },
  {
   "cell_type": "markdown",
   "metadata": {},
   "source": [
    "### Checke die Metadaten auf der CKAN INTEG- oder PROD-Webseite\n",
    "\n",
    "Offenbar lassen sich aktuell im Markdownteil keine Variabeln ausführen, daher gehen wir wie unten gezeigt vor. Siehe dazu: https://data-dive.com/jupyterlab-markdown-cells-include-variables\n",
    "Instead of setting the cell to Markdown, create Markdown from withnin a code cell! We can just use python variable replacement syntax to make the text dynamic"
   ]
  },
  {
   "cell_type": "code",
   "execution_count": 40,
   "metadata": {},
   "outputs": [],
   "source": [
    "from IPython.display import Markdown as md"
   ]
  },
  {
   "cell_type": "code",
   "execution_count": 41,
   "metadata": {},
   "outputs": [
    {
     "data": {
      "text/markdown": [
       " **1. Dataset auf INTEG-Datakatalog:** Link https://data.integ.stadt-zuerich.ch/dataset/int_dwh_bev_bestand_jahr_quartier_zivilstand_ag_geschl_od3310 "
      ],
      "text/plain": [
       "<IPython.core.display.Markdown object>"
      ]
     },
     "execution_count": 41,
     "metadata": {},
     "output_type": "execute_result"
    }
   ],
   "source": [
    "md(\" **1. Dataset auf INTEG-Datakatalog:** Link {} \".format(ckan_integ_url+package_name))"
   ]
  },
  {
   "cell_type": "code",
   "execution_count": 42,
   "metadata": {
    "tags": []
   },
   "outputs": [
    {
     "data": {
      "text/markdown": [
       " **2. Dataset auf PROD-Datakatalog:** Link https://data.stadt-zuerich.ch/dataset/bev_bestand_jahr_quartier_zivilstand_ag_geschl_od3310 "
      ],
      "text/plain": [
       "<IPython.core.display.Markdown object>"
      ]
     },
     "execution_count": 42,
     "metadata": {},
     "output_type": "execute_result"
    }
   ],
   "source": [
    "md(\" **2. Dataset auf PROD-Datakatalog:** Link {} \".format(ckan_prod_url+package_name))"
   ]
  },
  {
   "cell_type": "markdown",
   "metadata": {
    "tags": []
   },
   "source": [
    "### Importiere einen Datensatz \n",
    "\n",
    "Definiere zuerst folgende Werte:\n",
    "1) Kommt der Datensatz von PROD oder INTEG?\n",
    "2) Beziehst Du den Datensatz direkt ab der DROPZONE oder aus dem INTERNET?"
   ]
  },
  {
   "cell_type": "code",
   "execution_count": 43,
   "metadata": {},
   "outputs": [
    {
     "name": "stdout",
     "output_type": "stream",
     "text": [
      "integ - web\n"
     ]
    }
   ],
   "source": [
    "#Die Datasets sind nur zum Testen auf INT-DWH-Dropzone. Wenn der Test vorbei ist, sind sie auf PROD. \n",
    "# Über den Status kann man einfach switchen\n",
    "\n",
    "status = \"integ\"; #prod vs something else\n",
    "data_source = \"web\"; #dropzone vs something else\n",
    "print(status+\" - \"+ data_source)"
   ]
  },
  {
   "cell_type": "code",
   "execution_count": 44,
   "metadata": {
    "tags": []
   },
   "outputs": [
    {
     "name": "stdout",
     "output_type": "stream",
     "text": [
      "fp lautet:https://data.integ.stadt-zuerich.ch/dataset/int_dwh_bev_bestand_jahr_quartier_zivilstand_ag_geschl_od3310/download/BEV331OD3310.csv\n"
     ]
    }
   ],
   "source": [
    "# Filepath\n",
    "if status == \"prod\":\n",
    "    if data_source == \"dropzone\":\n",
    "            fp = dropzone_path_prod+\"\\\\\"+ package_name +\"\\\\\"+dataset_name\n",
    "            print(\"fp lautet:\"+fp)\n",
    "    else:\n",
    "        #fp = r\"https://data.stadt-zuerich.ch/dataset/bau_neubau_whg_bausm_rinh_geb_projstatus_quartier_seit2009_od5011/download/BAU501OD5011.csv\"\n",
    "        fp = ckan_prod_url+package_name+'/download/'+dataset_name\n",
    "        print(\"fp lautet:\"+fp)\n",
    "else:\n",
    "    if data_source == \"dropzone\":\n",
    "        fp = dropzone_path_integ+\"\\\\\"+ package_name +\"\\\\\"+dataset_name\n",
    "        print(\"fp lautet:\"+fp)\n",
    "    else:\n",
    "        #fp = r\"https://data.stadt-zuerich.ch/dataset/bau_neubau_whg_bausm_rinh_geb_projstatus_quartier_seit2009_od5011/download/BAU501OD5011.csv\"\n",
    "        fp = ckan_integ_url+package_name+'/download/'+dataset_name\n",
    "        print(\"fp lautet:\"+fp)\n"
   ]
  },
  {
   "cell_type": "markdown",
   "metadata": {},
   "source": [
    "Beachte, wie das SAS Datum (ohne Format) in ein UNIX Datum umgerechnet und als Datumsformat dargestellt wird! Siehe dazu `https://stackoverflow.com/questions/26923564/convert-sas-numeric-to-python-datetime`"
   ]
  },
  {
   "cell_type": "code",
   "execution_count": 45,
   "metadata": {},
   "outputs": [
    {
     "name": "stdout",
     "output_type": "stream",
     "text": [
      "web\n"
     ]
    },
    {
     "data": {
      "text/plain": [
       "StichtagDatJahr    datetime64[ns]\n",
       "Ziv2Sort                    int64\n",
       "Ziv2Lang                   object\n",
       "SexCd                       int64\n",
       "SexLang                    object\n",
       "QuarSort                    int64\n",
       "QuarLang                   object\n",
       "AlterVSort                  int64\n",
       "AlterV05Sort                int64\n",
       "AlterV05Kurz               object\n",
       "AlterV10Sort                int64\n",
       "AlterV10Kurz               object\n",
       "AlterV20Sort                int64\n",
       "AlterV20Kurz               object\n",
       "AnzBestWir                  int64\n",
       "dtype: object"
      ]
     },
     "execution_count": 45,
     "metadata": {},
     "output_type": "execute_result"
    }
   ],
   "source": [
    "# Read the data\n",
    "if data_source == \"dropzone\":\n",
    "    data2betested = pd.read_csv(\n",
    "        fp\n",
    "        , sep=','\n",
    "        ,parse_dates=['StichtagDatJahr']\n",
    "        ,low_memory=False\n",
    "    )\n",
    "    print(\"dropzone\")\n",
    "else:\n",
    "    r = requests.get(fp, verify=False)  \n",
    "    r.encoding = 'utf-8'\n",
    "    data2betested = pd.read_csv(\n",
    "        io.StringIO(r.text)\n",
    "        ,parse_dates=['StichtagDatJahr']\n",
    "        # KONVERTIERE DAS SAS DATUM IN EIN UNIXDATUM UND FORMATIERE ES\n",
    "        #, date_parser=lambda s: epoch + datetime.timedelta(days=int(s))\n",
    "        ,low_memory=False)\n",
    "    print(\"web\")\n",
    "\n",
    "data2betested.dtypes"
   ]
  },
  {
   "cell_type": "markdown",
   "metadata": {},
   "source": [
    "Berechne weitere Attribute falls notwendig"
   ]
  },
  {
   "cell_type": "code",
   "execution_count": 46,
   "metadata": {},
   "outputs": [
    {
     "data": {
      "text/plain": [
       "StichtagDatJahr        datetime64[ns]\n",
       "Ziv2Sort                        int64\n",
       "Ziv2Lang                       object\n",
       "SexCd                           int64\n",
       "SexLang                        object\n",
       "QuarSort                        int64\n",
       "QuarLang                       object\n",
       "AlterVSort                      int64\n",
       "AlterV05Sort                    int64\n",
       "AlterV05Kurz                   object\n",
       "AlterV10Sort                    int64\n",
       "AlterV10Kurz                   object\n",
       "AlterV20Sort                    int64\n",
       "AlterV20Kurz                   object\n",
       "AnzBestWir                      int64\n",
       "StichtagDatJahr_str            object\n",
       "dtype: object"
      ]
     },
     "execution_count": 46,
     "metadata": {},
     "output_type": "execute_result"
    }
   ],
   "source": [
    "data2betested = (\n",
    "    data2betested\n",
    "    .copy()\n",
    "    .assign(\n",
    "        #Aktualisierungs_Datum_str= lambda x: x.Aktualisierungs_Datum.astype(str),\n",
    "        StichtagDatJahr_str = lambda x: x.StichtagDatJahr.astype(str),\n",
    "    )\n",
    "    .sort_values('StichtagDatJahr', ascending=False)\n",
    "    )\n",
    "data2betested.dtypes"
   ]
  },
  {
   "cell_type": "markdown",
   "metadata": {},
   "source": [
    "### Einfache Datentests"
   ]
  },
  {
   "cell_type": "markdown",
   "metadata": {},
   "source": [
    " - 1) Zeige eine kurze Vorschau der importierten Daten\n",
    " - 2) Weise die Datentypen aus\n",
    " - 3) Zeige die Shape (Umfang) des Datensatzes an"
   ]
  },
  {
   "cell_type": "code",
   "execution_count": 47,
   "metadata": {},
   "outputs": [],
   "source": [
    "#data2betested.head(6)"
   ]
  },
  {
   "cell_type": "code",
   "execution_count": 48,
   "metadata": {},
   "outputs": [
    {
     "data": {
      "text/plain": [
       "StichtagDatJahr        datetime64[ns]\n",
       "Ziv2Sort                        int64\n",
       "Ziv2Lang                       object\n",
       "SexCd                           int64\n",
       "SexLang                        object\n",
       "QuarSort                        int64\n",
       "QuarLang                       object\n",
       "AlterVSort                      int64\n",
       "AlterV05Sort                    int64\n",
       "AlterV05Kurz                   object\n",
       "AlterV10Sort                    int64\n",
       "AlterV10Kurz                   object\n",
       "AlterV20Sort                    int64\n",
       "AlterV20Kurz                   object\n",
       "AnzBestWir                      int64\n",
       "StichtagDatJahr_str            object\n",
       "dtype: object"
      ]
     },
     "execution_count": 48,
     "metadata": {},
     "output_type": "execute_result"
    }
   ],
   "source": [
    "data2betested.dtypes"
   ]
  },
  {
   "cell_type": "code",
   "execution_count": 49,
   "metadata": {},
   "outputs": [
    {
     "data": {
      "text/plain": [
       "(542896, 16)"
      ]
     },
     "execution_count": 49,
     "metadata": {},
     "output_type": "execute_result"
    }
   ],
   "source": [
    "data2betested.shape"
   ]
  },
  {
   "cell_type": "markdown",
   "metadata": {},
   "source": [
    "Beschreibe einzelne Attribute"
   ]
  },
  {
   "cell_type": "code",
   "execution_count": 50,
   "metadata": {},
   "outputs": [
    {
     "data": {
      "text/html": [
       "<div>\n",
       "<style scoped>\n",
       "    .dataframe tbody tr th:only-of-type {\n",
       "        vertical-align: middle;\n",
       "    }\n",
       "\n",
       "    .dataframe tbody tr th {\n",
       "        vertical-align: top;\n",
       "    }\n",
       "\n",
       "    .dataframe thead th {\n",
       "        text-align: right;\n",
       "    }\n",
       "</style>\n",
       "<table border=\"1\" class=\"dataframe\">\n",
       "  <thead>\n",
       "    <tr style=\"text-align: right;\">\n",
       "      <th></th>\n",
       "      <th>Ziv2Sort</th>\n",
       "      <th>SexCd</th>\n",
       "      <th>QuarSort</th>\n",
       "      <th>AlterVSort</th>\n",
       "      <th>AlterV05Sort</th>\n",
       "      <th>AlterV10Sort</th>\n",
       "      <th>AlterV20Sort</th>\n",
       "      <th>AnzBestWir</th>\n",
       "    </tr>\n",
       "  </thead>\n",
       "  <tbody>\n",
       "    <tr>\n",
       "      <th>count</th>\n",
       "      <td>542896</td>\n",
       "      <td>542896</td>\n",
       "      <td>542896</td>\n",
       "      <td>542896</td>\n",
       "      <td>542896</td>\n",
       "      <td>542896</td>\n",
       "      <td>542896</td>\n",
       "      <td>542896</td>\n",
       "    </tr>\n",
       "    <tr>\n",
       "      <th>mean</th>\n",
       "      <td>2</td>\n",
       "      <td>2</td>\n",
       "      <td>67</td>\n",
       "      <td>55</td>\n",
       "      <td>12</td>\n",
       "      <td>6</td>\n",
       "      <td>3</td>\n",
       "      <td>21</td>\n",
       "    </tr>\n",
       "    <tr>\n",
       "      <th>std</th>\n",
       "      <td>1</td>\n",
       "      <td>0</td>\n",
       "      <td>35</td>\n",
       "      <td>24</td>\n",
       "      <td>5</td>\n",
       "      <td>2</td>\n",
       "      <td>1</td>\n",
       "      <td>30</td>\n",
       "    </tr>\n",
       "    <tr>\n",
       "      <th>min</th>\n",
       "      <td>1</td>\n",
       "      <td>1</td>\n",
       "      <td>11</td>\n",
       "      <td>0</td>\n",
       "      <td>1</td>\n",
       "      <td>1</td>\n",
       "      <td>1</td>\n",
       "      <td>0</td>\n",
       "    </tr>\n",
       "    <tr>\n",
       "      <th>25%</th>\n",
       "      <td>1</td>\n",
       "      <td>1</td>\n",
       "      <td>34</td>\n",
       "      <td>37</td>\n",
       "      <td>8</td>\n",
       "      <td>4</td>\n",
       "      <td>2</td>\n",
       "      <td>3</td>\n",
       "    </tr>\n",
       "    <tr>\n",
       "      <th>50%</th>\n",
       "      <td>2</td>\n",
       "      <td>2</td>\n",
       "      <td>71</td>\n",
       "      <td>56</td>\n",
       "      <td>12</td>\n",
       "      <td>6</td>\n",
       "      <td>3</td>\n",
       "      <td>9</td>\n",
       "    </tr>\n",
       "    <tr>\n",
       "      <th>75%</th>\n",
       "      <td>3</td>\n",
       "      <td>2</td>\n",
       "      <td>101</td>\n",
       "      <td>75</td>\n",
       "      <td>16</td>\n",
       "      <td>8</td>\n",
       "      <td>4</td>\n",
       "      <td>25</td>\n",
       "    </tr>\n",
       "    <tr>\n",
       "      <th>max</th>\n",
       "      <td>9</td>\n",
       "      <td>2</td>\n",
       "      <td>123</td>\n",
       "      <td>111</td>\n",
       "      <td>21</td>\n",
       "      <td>11</td>\n",
       "      <td>6</td>\n",
       "      <td>363</td>\n",
       "    </tr>\n",
       "  </tbody>\n",
       "</table>\n",
       "</div>"
      ],
      "text/plain": [
       "       Ziv2Sort  SexCd  QuarSort  AlterVSort  AlterV05Sort  AlterV10Sort  AlterV20Sort  AnzBestWir\n",
       "count    542896 542896    542896      542896        542896        542896        542896      542896\n",
       "mean          2      2        67          55            12             6             3          21\n",
       "std           1      0        35          24             5             2             1          30\n",
       "min           1      1        11           0             1             1             1           0\n",
       "25%           1      1        34          37             8             4             2           3\n",
       "50%           2      2        71          56            12             6             3           9\n",
       "75%           3      2       101          75            16             8             4          25\n",
       "max           9      2       123         111            21            11             6         363"
      ]
     },
     "execution_count": 50,
     "metadata": {},
     "output_type": "execute_result"
    }
   ],
   "source": [
    "data2betested.describe()"
   ]
  },
  {
   "cell_type": "markdown",
   "metadata": {},
   "source": [
    "Wie viele Nullwerte gibt es im Datensatz?"
   ]
  },
  {
   "cell_type": "code",
   "execution_count": 51,
   "metadata": {
    "scrolled": true
   },
   "outputs": [
    {
     "data": {
      "text/plain": [
       "StichtagDatJahr        0\n",
       "Ziv2Sort               0\n",
       "Ziv2Lang               0\n",
       "SexCd                  0\n",
       "SexLang                0\n",
       "QuarSort               0\n",
       "QuarLang               0\n",
       "AlterVSort             0\n",
       "AlterV05Sort           0\n",
       "AlterV05Kurz           0\n",
       "AlterV10Sort           0\n",
       "AlterV10Kurz           0\n",
       "AlterV20Sort           0\n",
       "AlterV20Kurz           0\n",
       "AnzBestWir             0\n",
       "StichtagDatJahr_str    0\n",
       "dtype: int64"
      ]
     },
     "execution_count": 51,
     "metadata": {},
     "output_type": "execute_result"
    }
   ],
   "source": [
    "data2betested.isnull().sum()"
   ]
  },
  {
   "cell_type": "markdown",
   "metadata": {},
   "source": [
    "Welches sind die Quartiere ohne Werte bei AnzBestWir?"
   ]
  },
  {
   "cell_type": "code",
   "execution_count": 52,
   "metadata": {},
   "outputs": [
    {
     "data": {
      "text/html": [
       "<div>\n",
       "<style scoped>\n",
       "    .dataframe tbody tr th:only-of-type {\n",
       "        vertical-align: middle;\n",
       "    }\n",
       "\n",
       "    .dataframe tbody tr th {\n",
       "        vertical-align: top;\n",
       "    }\n",
       "\n",
       "    .dataframe thead th {\n",
       "        text-align: right;\n",
       "    }\n",
       "</style>\n",
       "<table border=\"1\" class=\"dataframe\">\n",
       "  <thead>\n",
       "    <tr style=\"text-align: right;\">\n",
       "      <th></th>\n",
       "      <th>StichtagDatJahr</th>\n",
       "      <th>Ziv2Sort</th>\n",
       "      <th>Ziv2Lang</th>\n",
       "      <th>SexCd</th>\n",
       "      <th>SexLang</th>\n",
       "      <th>QuarSort</th>\n",
       "      <th>QuarLang</th>\n",
       "      <th>...</th>\n",
       "      <th>AlterV05Kurz</th>\n",
       "      <th>AlterV10Sort</th>\n",
       "      <th>AlterV10Kurz</th>\n",
       "      <th>AlterV20Sort</th>\n",
       "      <th>AlterV20Kurz</th>\n",
       "      <th>AnzBestWir</th>\n",
       "      <th>StichtagDatJahr_str</th>\n",
       "    </tr>\n",
       "  </thead>\n",
       "  <tbody>\n",
       "  </tbody>\n",
       "</table>\n",
       "<p>0 rows × 16 columns</p>\n",
       "</div>"
      ],
      "text/plain": [
       "Empty DataFrame\n",
       "Columns: [StichtagDatJahr, Ziv2Sort, Ziv2Lang, SexCd, SexLang, QuarSort, QuarLang, AlterVSort, AlterV05Sort, AlterV05Kurz, AlterV10Sort, AlterV10Kurz, AlterV20Sort, AlterV20Kurz, AnzBestWir, StichtagDatJahr_str]\n",
       "Index: []\n",
       "\n",
       "[0 rows x 16 columns]"
      ]
     },
     "execution_count": 52,
     "metadata": {},
     "output_type": "execute_result"
    }
   ],
   "source": [
    "data2betested[np.isnan(data2betested.AnzBestWir)]"
   ]
  },
  {
   "cell_type": "markdown",
   "metadata": {
    "colab_type": "text",
    "id": "1dTPVmmsgOVx"
   },
   "source": [
    "### Verwende das Datum als Index\n",
    "\n",
    "While we did already parse the `datetime` column into the respective datetime type, it currently is just a regular column. \n",
    "**To enable quick and convenient queries and aggregations, we need to turn it into the index of the DataFrame**"
   ]
  },
  {
   "cell_type": "code",
   "execution_count": 53,
   "metadata": {},
   "outputs": [],
   "source": [
    "data2betested = data2betested.set_index(\"StichtagDatJahr\")"
   ]
  },
  {
   "cell_type": "code",
   "execution_count": 59,
   "metadata": {},
   "outputs": [
    {
     "name": "stdout",
     "output_type": "stream",
     "text": [
      "<class 'pandas.core.frame.DataFrame'>\n",
      "DatetimeIndex: 542896 entries, 2021-01-01 to 1993-01-01\n",
      "Data columns (total 15 columns):\n",
      " #   Column               Non-Null Count   Dtype \n",
      "---  ------               --------------   ----- \n",
      " 0   Ziv2Sort             542896 non-null  int64 \n",
      " 1   Ziv2Lang             542896 non-null  object\n",
      " 2   SexCd                542896 non-null  int64 \n",
      " 3   SexLang              542896 non-null  object\n",
      " 4   QuarSort             542896 non-null  int64 \n",
      " 5   QuarLang             542896 non-null  object\n",
      " 6   AlterVSort           542896 non-null  int64 \n",
      " 7   AlterV05Sort         542896 non-null  int64 \n",
      " 8   AlterV05Kurz         542896 non-null  object\n",
      " 9   AlterV10Sort         542896 non-null  int64 \n",
      " 10  AlterV10Kurz         542896 non-null  object\n",
      " 11  AlterV20Sort         542896 non-null  int64 \n",
      " 12  AlterV20Kurz         542896 non-null  object\n",
      " 13  AnzBestWir           542896 non-null  int64 \n",
      " 14  StichtagDatJahr_str  542896 non-null  object\n",
      "dtypes: int64(8), object(7)\n",
      "memory usage: 66.3+ MB\n"
     ]
    },
    {
     "data": {
      "text/plain": [
       "Int64Index([2021, 2020, 2019, 2018, 2017, 2016, 2015, 2014, 2013, 2012, 2011, 2010, 2009, 2008,\n",
       "            2007, 2006, 2005, 2004, 2003, 2002, 2001, 2000, 1999, 1998, 1997, 1996, 1995, 1994,\n",
       "            1993],\n",
       "           dtype='int64', name='StichtagDatJahr')"
      ]
     },
     "execution_count": 59,
     "metadata": {},
     "output_type": "execute_result"
    }
   ],
   "source": [
    "data2betested.info()\n",
    "data2betested.index.year.unique()"
   ]
  },
  {
   "cell_type": "markdown",
   "metadata": {},
   "source": [
    "### Einfache Visualisierungen zur Plausi"
   ]
  },
  {
   "cell_type": "markdown",
   "metadata": {},
   "source": [
    "Exploriere die Daten mit Pivottable.JS"
   ]
  },
  {
   "cell_type": "code",
   "execution_count": 57,
   "metadata": {},
   "outputs": [
    {
     "data": {
      "text/html": [
       "\n",
       "        <iframe\n",
       "            width=\"100%\"\n",
       "            height=\"500\"\n",
       "            src=\"pivottablejs.html\"\n",
       "            frameborder=\"0\"\n",
       "            allowfullscreen\n",
       "            \n",
       "        ></iframe>\n",
       "        "
      ],
      "text/plain": [
       "<IPython.lib.display.IFrame at 0x23745cbc7c8>"
      ]
     },
     "execution_count": 57,
     "metadata": {},
     "output_type": "execute_result"
    }
   ],
   "source": [
    "from pivottablejs import pivot_ui\n",
    "\n",
    "pivot_ui(data2betested)"
   ]
  },
  {
   "cell_type": "markdown",
   "metadata": {},
   "source": [
    "### Zeitpunkte und Zeiträume abfragen\n",
    "\n",
    "A particular powerful feature of the Pandas DataFrame is its indexing capability that also works using time-based entities, such as dates and times. We have already created the index above, so let's put it to use."
   ]
  },
  {
   "cell_type": "code",
   "execution_count": 60,
   "metadata": {},
   "outputs": [
    {
     "data": {
      "text/html": [
       "<div>\n",
       "<style scoped>\n",
       "    .dataframe tbody tr th:only-of-type {\n",
       "        vertical-align: middle;\n",
       "    }\n",
       "\n",
       "    .dataframe tbody tr th {\n",
       "        vertical-align: top;\n",
       "    }\n",
       "\n",
       "    .dataframe thead th {\n",
       "        text-align: right;\n",
       "    }\n",
       "</style>\n",
       "<table border=\"1\" class=\"dataframe\">\n",
       "  <thead>\n",
       "    <tr style=\"text-align: right;\">\n",
       "      <th></th>\n",
       "      <th>Ziv2Sort</th>\n",
       "      <th>Ziv2Lang</th>\n",
       "      <th>SexCd</th>\n",
       "      <th>SexLang</th>\n",
       "      <th>QuarSort</th>\n",
       "      <th>QuarLang</th>\n",
       "      <th>AlterVSort</th>\n",
       "      <th>AlterV05Sort</th>\n",
       "      <th>AlterV05Kurz</th>\n",
       "      <th>AlterV10Sort</th>\n",
       "      <th>AlterV10Kurz</th>\n",
       "      <th>AlterV20Sort</th>\n",
       "      <th>AlterV20Kurz</th>\n",
       "      <th>AnzBestWir</th>\n",
       "      <th>StichtagDatJahr_str</th>\n",
       "    </tr>\n",
       "    <tr>\n",
       "      <th>StichtagDatJahr</th>\n",
       "      <th></th>\n",
       "      <th></th>\n",
       "      <th></th>\n",
       "      <th></th>\n",
       "      <th></th>\n",
       "      <th></th>\n",
       "      <th></th>\n",
       "      <th></th>\n",
       "      <th></th>\n",
       "      <th></th>\n",
       "      <th></th>\n",
       "      <th></th>\n",
       "      <th></th>\n",
       "      <th></th>\n",
       "      <th></th>\n",
       "    </tr>\n",
       "  </thead>\n",
       "  <tbody>\n",
       "    <tr>\n",
       "      <th>2009-01-01</th>\n",
       "      <td>2</td>\n",
       "      <td>Verheiratet</td>\n",
       "      <td>1</td>\n",
       "      <td>männlich</td>\n",
       "      <td>21</td>\n",
       "      <td>Wollishofen</td>\n",
       "      <td>35</td>\n",
       "      <td>8</td>\n",
       "      <td>35-39</td>\n",
       "      <td>4</td>\n",
       "      <td>30-39</td>\n",
       "      <td>2</td>\n",
       "      <td>20-39</td>\n",
       "      <td>53</td>\n",
       "      <td>2009-01-01</td>\n",
       "    </tr>\n",
       "    <tr>\n",
       "      <th>2009-01-01</th>\n",
       "      <td>2</td>\n",
       "      <td>Verheiratet</td>\n",
       "      <td>1</td>\n",
       "      <td>männlich</td>\n",
       "      <td>21</td>\n",
       "      <td>Wollishofen</td>\n",
       "      <td>28</td>\n",
       "      <td>6</td>\n",
       "      <td>25-29</td>\n",
       "      <td>3</td>\n",
       "      <td>20-29</td>\n",
       "      <td>2</td>\n",
       "      <td>20-39</td>\n",
       "      <td>18</td>\n",
       "      <td>2009-01-01</td>\n",
       "    </tr>\n",
       "  </tbody>\n",
       "</table>\n",
       "</div>"
      ],
      "text/plain": [
       "                 Ziv2Sort     Ziv2Lang  SexCd   SexLang  QuarSort     QuarLang  AlterVSort  \\\n",
       "StichtagDatJahr                                                                              \n",
       "2009-01-01              2  Verheiratet      1  männlich        21  Wollishofen          35   \n",
       "2009-01-01              2  Verheiratet      1  männlich        21  Wollishofen          28   \n",
       "\n",
       "                 AlterV05Sort AlterV05Kurz  AlterV10Sort AlterV10Kurz  AlterV20Sort AlterV20Kurz  \\\n",
       "StichtagDatJahr                                                                                    \n",
       "2009-01-01                  8        35-39             4        30-39             2        20-39   \n",
       "2009-01-01                  6        25-29             3        20-29             2        20-39   \n",
       "\n",
       "                 AnzBestWir StichtagDatJahr_str  \n",
       "StichtagDatJahr                                  \n",
       "2009-01-01               53          2009-01-01  \n",
       "2009-01-01               18          2009-01-01  "
      ]
     },
     "execution_count": 60,
     "metadata": {},
     "output_type": "execute_result"
    }
   ],
   "source": [
    "data2betested.loc[\"2009\"].head(2)\n",
    "#data2betested.loc[\"2021-10-31\":\"2021-11-30\"].head(2)"
   ]
  },
  {
   "cell_type": "markdown",
   "metadata": {},
   "source": [
    "### Visualisierungen nach Zeitausschnitten"
   ]
  },
  {
   "cell_type": "code",
   "execution_count": 62,
   "metadata": {},
   "outputs": [
    {
     "data": {
      "text/plain": [
       "Index(['Ziv2Sort', 'Ziv2Lang', 'SexCd', 'SexLang', 'QuarSort', 'QuarLang', 'AlterVSort',\n",
       "       'AlterV05Sort', 'AlterV05Kurz', 'AlterV10Sort', 'AlterV10Kurz', 'AlterV20Sort',\n",
       "       'AlterV20Kurz', 'AnzBestWir', 'StichtagDatJahr_str'],\n",
       "      dtype='object')"
      ]
     },
     "execution_count": 62,
     "metadata": {},
     "output_type": "execute_result"
    }
   ],
   "source": [
    "data2betested.columns"
   ]
  },
  {
   "cell_type": "markdown",
   "metadata": {
    "tags": []
   },
   "source": [
    "#### Entwicklung Wohnbevölkerung nach Altersgruppe"
   ]
  },
  {
   "cell_type": "code",
   "execution_count": 65,
   "metadata": {
    "tags": []
   },
   "outputs": [
    {
     "data": {
      "text/html": [
       "<div>\n",
       "<style scoped>\n",
       "    .dataframe tbody tr th:only-of-type {\n",
       "        vertical-align: middle;\n",
       "    }\n",
       "\n",
       "    .dataframe tbody tr th {\n",
       "        vertical-align: top;\n",
       "    }\n",
       "\n",
       "    .dataframe thead th {\n",
       "        text-align: right;\n",
       "    }\n",
       "</style>\n",
       "<table border=\"1\" class=\"dataframe\">\n",
       "  <thead>\n",
       "    <tr style=\"text-align: right;\">\n",
       "      <th></th>\n",
       "      <th>StichtagDatJahr</th>\n",
       "      <th>AlterV05Sort</th>\n",
       "      <th>AlterV05Kurz</th>\n",
       "      <th>sum_WBev</th>\n",
       "    </tr>\n",
       "  </thead>\n",
       "  <tbody>\n",
       "    <tr>\n",
       "      <th>0</th>\n",
       "      <td>1993-01-01</td>\n",
       "      <td>1</td>\n",
       "      <td>0-4</td>\n",
       "      <td>15637</td>\n",
       "    </tr>\n",
       "    <tr>\n",
       "      <th>1</th>\n",
       "      <td>1993-01-01</td>\n",
       "      <td>21</td>\n",
       "      <td>100 u. älter</td>\n",
       "      <td>30</td>\n",
       "    </tr>\n",
       "    <tr>\n",
       "      <th>2</th>\n",
       "      <td>1993-01-01</td>\n",
       "      <td>20</td>\n",
       "      <td>95-99</td>\n",
       "      <td>381</td>\n",
       "    </tr>\n",
       "  </tbody>\n",
       "</table>\n",
       "</div>"
      ],
      "text/plain": [
       "  StichtagDatJahr  AlterV05Sort  AlterV05Kurz  sum_WBev\n",
       "0      1993-01-01             1           0-4     15637\n",
       "1      1993-01-01            21  100 u. älter        30\n",
       "2      1993-01-01            20         95-99       381"
      ]
     },
     "execution_count": 65,
     "metadata": {},
     "output_type": "execute_result"
    }
   ],
   "source": [
    "#myAgg = data2betested.loc[\"2008-11-30\":\"2021-10-31\"]\n",
    "myAgg = data2betested.loc[\"1993\":\"2021\"]\\\n",
    "    .groupby(['StichtagDatJahr', 'AlterV05Sort','AlterV05Kurz']) \\\n",
    "    .agg(sum_WBev=('AnzBestWir', 'sum')) \\\n",
    "    .sort_values('StichtagDatJahr', ascending=True) \n",
    "\n",
    "myAgg.reset_index().head(3)"
   ]
  },
  {
   "cell_type": "code",
   "execution_count": 67,
   "metadata": {},
   "outputs": [
    {
     "data": {
      "text/html": [
       "\n",
       "<div id=\"altair-viz-e62e047c39264d1d8e7c52b1e0c57425\"></div>\n",
       "<script type=\"text/javascript\">\n",
       "  (function(spec, embedOpt){\n",
       "    let outputDiv = document.currentScript.previousElementSibling;\n",
       "    if (outputDiv.id !== \"altair-viz-e62e047c39264d1d8e7c52b1e0c57425\") {\n",
       "      outputDiv = document.getElementById(\"altair-viz-e62e047c39264d1d8e7c52b1e0c57425\");\n",
       "    }\n",
       "    const paths = {\n",
       "      \"vega\": \"https://cdn.jsdelivr.net/npm//vega@5?noext\",\n",
       "      \"vega-lib\": \"https://cdn.jsdelivr.net/npm//vega-lib?noext\",\n",
       "      \"vega-lite\": \"https://cdn.jsdelivr.net/npm//vega-lite@4.8.1?noext\",\n",
       "      \"vega-embed\": \"https://cdn.jsdelivr.net/npm//vega-embed@6?noext\",\n",
       "    };\n",
       "\n",
       "    function loadScript(lib) {\n",
       "      return new Promise(function(resolve, reject) {\n",
       "        var s = document.createElement('script');\n",
       "        s.src = paths[lib];\n",
       "        s.async = true;\n",
       "        s.onload = () => resolve(paths[lib]);\n",
       "        s.onerror = () => reject(`Error loading script: ${paths[lib]}`);\n",
       "        document.getElementsByTagName(\"head\")[0].appendChild(s);\n",
       "      });\n",
       "    }\n",
       "\n",
       "    function showError(err) {\n",
       "      outputDiv.innerHTML = `<div class=\"error\" style=\"color:red;\">${err}</div>`;\n",
       "      throw err;\n",
       "    }\n",
       "\n",
       "    function displayChart(vegaEmbed) {\n",
       "      vegaEmbed(outputDiv, spec, embedOpt)\n",
       "        .catch(err => showError(`Javascript Error: ${err.message}<br>This usually means there's a typo in your chart specification. See the javascript console for the full traceback.`));\n",
       "    }\n",
       "\n",
       "    if(typeof define === \"function\" && define.amd) {\n",
       "      requirejs.config({paths});\n",
       "      require([\"vega-embed\"], displayChart, err => showError(`Error loading script: ${err.message}`));\n",
       "    } else if (typeof vegaEmbed === \"function\") {\n",
       "      displayChart(vegaEmbed);\n",
       "    } else {\n",
       "      loadScript(\"vega\")\n",
       "        .then(() => loadScript(\"vega-lite\"))\n",
       "        .then(() => loadScript(\"vega-embed\"))\n",
       "        .catch(showError)\n",
       "        .then(() => displayChart(vegaEmbed));\n",
       "    }\n",
       "  })({\"config\": {\"view\": {\"continuousWidth\": 400, \"continuousHeight\": 300}}, \"layer\": [{\"mark\": \"line\", \"encoding\": {\"color\": {\"type\": \"nominal\", \"field\": \"AlterV05Kurz\", \"legend\": {\"orient\": \"right\", \"title\": \"Altersgruppen\"}}, \"size\": {\"condition\": {\"value\": 0.5, \"selection\": {\"not\": \"selector003\"}}, \"value\": 4}, \"tooltip\": [{\"type\": \"temporal\", \"field\": \"StichtagDatJahr\"}, {\"type\": \"nominal\", \"field\": \"AlterV05Kurz\"}, {\"type\": \"quantitative\", \"field\": \"sum_WBev\"}], \"x\": {\"type\": \"temporal\", \"axis\": {\"title\": \"Jahr\"}, \"field\": \"StichtagDatJahr\"}, \"y\": {\"type\": \"quantitative\", \"axis\": {\"title\": \"Anz. Personen\"}, \"field\": \"sum_WBev\"}}, \"selection\": {\"selector004\": {\"type\": \"interval\", \"bind\": \"scales\", \"encodings\": [\"x\", \"y\"]}}, \"title\": \"Wohnbev\\u00f6lkerung nach Altersgruppe\"}, {\"mark\": \"circle\", \"encoding\": {\"color\": {\"type\": \"nominal\", \"field\": \"AlterV05Kurz\", \"legend\": {\"orient\": \"right\", \"title\": \"Altersgruppen\"}}, \"opacity\": {\"value\": 0.75}, \"tooltip\": [{\"type\": \"temporal\", \"field\": \"StichtagDatJahr\"}, {\"type\": \"nominal\", \"field\": \"AlterV05Kurz\"}, {\"type\": \"quantitative\", \"field\": \"sum_WBev\"}], \"x\": {\"type\": \"temporal\", \"axis\": {\"title\": \"Jahr\"}, \"field\": \"StichtagDatJahr\"}, \"y\": {\"type\": \"quantitative\", \"axis\": {\"title\": \"Anz. Personen\"}, \"field\": \"sum_WBev\"}}, \"height\": 350, \"selection\": {\"selector003\": {\"type\": \"single\", \"on\": \"mouseover\", \"fields\": [\"AlterV05Kurz\"], \"nearest\": true}}, \"title\": \"Wohnbev\\u00f6lkerung nach Altersgruppe\", \"width\": 750}], \"data\": {\"name\": \"data-8a007bd51a716a6fa75f7da8972d2614\"}, \"$schema\": \"https://vega.github.io/schema/vega-lite/v4.8.1.json\", \"datasets\": {\"data-8a007bd51a716a6fa75f7da8972d2614\": [{\"StichtagDatJahr\": \"1993-01-01T00:00:00\", \"AlterV05Sort\": 1, \"AlterV05Kurz\": \"0-4\", \"sum_WBev\": 15637}, {\"StichtagDatJahr\": \"1993-01-01T00:00:00\", \"AlterV05Sort\": 20, \"AlterV05Kurz\": \"95-99\", \"sum_WBev\": 381}, {\"StichtagDatJahr\": \"1993-01-01T00:00:00\", \"AlterV05Sort\": 19, \"AlterV05Kurz\": \"90-94\", \"sum_WBev\": 2111}, {\"StichtagDatJahr\": \"1993-01-01T00:00:00\", \"AlterV05Sort\": 18, \"AlterV05Kurz\": \"85-89\", \"sum_WBev\": 6845}, {\"StichtagDatJahr\": \"1993-01-01T00:00:00\", \"AlterV05Sort\": 17, \"AlterV05Kurz\": \"80-84\", \"sum_WBev\": 11667}, {\"StichtagDatJahr\": \"1993-01-01T00:00:00\", \"AlterV05Sort\": 15, \"AlterV05Kurz\": \"70-74\", \"sum_WBev\": 16659}, {\"StichtagDatJahr\": \"1993-01-01T00:00:00\", \"AlterV05Sort\": 14, \"AlterV05Kurz\": \"65-69\", \"sum_WBev\": 18674}, {\"StichtagDatJahr\": \"1993-01-01T00:00:00\", \"AlterV05Sort\": 13, \"AlterV05Kurz\": \"60-64\", \"sum_WBev\": 19522}, {\"StichtagDatJahr\": \"1993-01-01T00:00:00\", \"AlterV05Sort\": 12, \"AlterV05Kurz\": \"55-59\", \"sum_WBev\": 19883}, {\"StichtagDatJahr\": \"1993-01-01T00:00:00\", \"AlterV05Sort\": 16, \"AlterV05Kurz\": \"75-79\", \"sum_WBev\": 12754}, {\"StichtagDatJahr\": \"1993-01-01T00:00:00\", \"AlterV05Sort\": 10, \"AlterV05Kurz\": \"45-49\", \"sum_WBev\": 24299}, {\"StichtagDatJahr\": \"1993-01-01T00:00:00\", \"AlterV05Sort\": 11, \"AlterV05Kurz\": \"50-54\", \"sum_WBev\": 21642}, {\"StichtagDatJahr\": \"1993-01-01T00:00:00\", \"AlterV05Sort\": 3, \"AlterV05Kurz\": \"10-14\", \"sum_WBev\": 13026}, {\"StichtagDatJahr\": \"1993-01-01T00:00:00\", \"AlterV05Sort\": 4, \"AlterV05Kurz\": \"15-19\", \"sum_WBev\": 14242}, {\"StichtagDatJahr\": \"1993-01-01T00:00:00\", \"AlterV05Sort\": 5, \"AlterV05Kurz\": \"20-24\", \"sum_WBev\": 27050}, {\"StichtagDatJahr\": \"1993-01-01T00:00:00\", \"AlterV05Sort\": 2, \"AlterV05Kurz\": \"5-9\", \"sum_WBev\": 13683}, {\"StichtagDatJahr\": \"1993-01-01T00:00:00\", \"AlterV05Sort\": 7, \"AlterV05Kurz\": \"30-34\", \"sum_WBev\": 33381}, {\"StichtagDatJahr\": \"1993-01-01T00:00:00\", \"AlterV05Sort\": 8, \"AlterV05Kurz\": \"35-39\", \"sum_WBev\": 27768}, {\"StichtagDatJahr\": \"1993-01-01T00:00:00\", \"AlterV05Sort\": 9, \"AlterV05Kurz\": \"40-44\", \"sum_WBev\": 24933}, {\"StichtagDatJahr\": \"1993-01-01T00:00:00\", \"AlterV05Sort\": 6, \"AlterV05Kurz\": \"25-29\", \"sum_WBev\": 36711}, {\"StichtagDatJahr\": \"1994-01-01T00:00:00\", \"AlterV05Sort\": 12, \"AlterV05Kurz\": \"55-59\", \"sum_WBev\": 19633}, {\"StichtagDatJahr\": \"1994-01-01T00:00:00\", \"AlterV05Sort\": 20, \"AlterV05Kurz\": \"95-99\", \"sum_WBev\": 413}, {\"StichtagDatJahr\": \"1994-01-01T00:00:00\", \"AlterV05Sort\": 19, \"AlterV05Kurz\": \"90-94\", \"sum_WBev\": 2263}, {\"StichtagDatJahr\": \"1994-01-01T00:00:00\", \"AlterV05Sort\": 18, \"AlterV05Kurz\": \"85-89\", \"sum_WBev\": 7040}, {\"StichtagDatJahr\": \"1994-01-01T00:00:00\", \"AlterV05Sort\": 17, \"AlterV05Kurz\": \"80-84\", \"sum_WBev\": 11488}, {\"StichtagDatJahr\": \"1994-01-01T00:00:00\", \"AlterV05Sort\": 15, \"AlterV05Kurz\": \"70-74\", \"sum_WBev\": 16964}, {\"StichtagDatJahr\": \"1994-01-01T00:00:00\", \"AlterV05Sort\": 14, \"AlterV05Kurz\": \"65-69\", \"sum_WBev\": 18421}, {\"StichtagDatJahr\": \"1994-01-01T00:00:00\", \"AlterV05Sort\": 13, \"AlterV05Kurz\": \"60-64\", \"sum_WBev\": 19034}, {\"StichtagDatJahr\": \"1994-01-01T00:00:00\", \"AlterV05Sort\": 11, \"AlterV05Kurz\": \"50-54\", \"sum_WBev\": 21978}, {\"StichtagDatJahr\": \"1994-01-01T00:00:00\", \"AlterV05Sort\": 16, \"AlterV05Kurz\": \"75-79\", \"sum_WBev\": 12312}, {\"StichtagDatJahr\": \"1994-01-01T00:00:00\", \"AlterV05Sort\": 9, \"AlterV05Kurz\": \"40-44\", \"sum_WBev\": 25154}, {\"StichtagDatJahr\": \"1994-01-01T00:00:00\", \"AlterV05Sort\": 2, \"AlterV05Kurz\": \"5-9\", \"sum_WBev\": 13912}, {\"StichtagDatJahr\": \"1994-01-01T00:00:00\", \"AlterV05Sort\": 3, \"AlterV05Kurz\": \"10-14\", \"sum_WBev\": 13226}, {\"StichtagDatJahr\": \"1994-01-01T00:00:00\", \"AlterV05Sort\": 4, \"AlterV05Kurz\": \"15-19\", \"sum_WBev\": 14189}, {\"StichtagDatJahr\": \"1994-01-01T00:00:00\", \"AlterV05Sort\": 5, \"AlterV05Kurz\": \"20-24\", \"sum_WBev\": 26511}, {\"StichtagDatJahr\": \"1994-01-01T00:00:00\", \"AlterV05Sort\": 1, \"AlterV05Kurz\": \"0-4\", \"sum_WBev\": 15887}, {\"StichtagDatJahr\": \"1994-01-01T00:00:00\", \"AlterV05Sort\": 6, \"AlterV05Kurz\": \"25-29\", \"sum_WBev\": 36060}, {\"StichtagDatJahr\": \"1994-01-01T00:00:00\", \"AlterV05Sort\": 7, \"AlterV05Kurz\": \"30-34\", \"sum_WBev\": 34229}, {\"StichtagDatJahr\": \"1994-01-01T00:00:00\", \"AlterV05Sort\": 8, \"AlterV05Kurz\": \"35-39\", \"sum_WBev\": 28220}, {\"StichtagDatJahr\": \"1994-01-01T00:00:00\", \"AlterV05Sort\": 10, \"AlterV05Kurz\": \"45-49\", \"sum_WBev\": 23877}, {\"StichtagDatJahr\": \"1995-01-01T00:00:00\", \"AlterV05Sort\": 12, \"AlterV05Kurz\": \"55-59\", \"sum_WBev\": 19219}, {\"StichtagDatJahr\": \"1995-01-01T00:00:00\", \"AlterV05Sort\": 20, \"AlterV05Kurz\": \"95-99\", \"sum_WBev\": 437}, {\"StichtagDatJahr\": \"1995-01-01T00:00:00\", \"AlterV05Sort\": 19, \"AlterV05Kurz\": \"90-94\", \"sum_WBev\": 2416}, {\"StichtagDatJahr\": \"1995-01-01T00:00:00\", \"AlterV05Sort\": 18, \"AlterV05Kurz\": \"85-89\", \"sum_WBev\": 7249}, {\"StichtagDatJahr\": \"1995-01-01T00:00:00\", \"AlterV05Sort\": 17, \"AlterV05Kurz\": \"80-84\", \"sum_WBev\": 10895}, {\"StichtagDatJahr\": \"1995-01-01T00:00:00\", \"AlterV05Sort\": 16, \"AlterV05Kurz\": \"75-79\", \"sum_WBev\": 12738}, {\"StichtagDatJahr\": \"1995-01-01T00:00:00\", \"AlterV05Sort\": 15, \"AlterV05Kurz\": \"70-74\", \"sum_WBev\": 16907}, {\"StichtagDatJahr\": \"1995-01-01T00:00:00\", \"AlterV05Sort\": 14, \"AlterV05Kurz\": \"65-69\", \"sum_WBev\": 18086}, {\"StichtagDatJahr\": \"1995-01-01T00:00:00\", \"AlterV05Sort\": 13, \"AlterV05Kurz\": \"60-64\", \"sum_WBev\": 18511}, {\"StichtagDatJahr\": \"1995-01-01T00:00:00\", \"AlterV05Sort\": 11, \"AlterV05Kurz\": \"50-54\", \"sum_WBev\": 22393}, {\"StichtagDatJahr\": \"1995-01-01T00:00:00\", \"AlterV05Sort\": 9, \"AlterV05Kurz\": \"40-44\", \"sum_WBev\": 25056}, {\"StichtagDatJahr\": \"1995-01-01T00:00:00\", \"AlterV05Sort\": 8, \"AlterV05Kurz\": \"35-39\", \"sum_WBev\": 28656}, {\"StichtagDatJahr\": \"1995-01-01T00:00:00\", \"AlterV05Sort\": 7, \"AlterV05Kurz\": \"30-34\", \"sum_WBev\": 34660}, {\"StichtagDatJahr\": \"1995-01-01T00:00:00\", \"AlterV05Sort\": 6, \"AlterV05Kurz\": \"25-29\", \"sum_WBev\": 35715}, {\"StichtagDatJahr\": \"1995-01-01T00:00:00\", \"AlterV05Sort\": 5, \"AlterV05Kurz\": \"20-24\", \"sum_WBev\": 26191}, {\"StichtagDatJahr\": \"1995-01-01T00:00:00\", \"AlterV05Sort\": 4, \"AlterV05Kurz\": \"15-19\", \"sum_WBev\": 14426}, {\"StichtagDatJahr\": \"1995-01-01T00:00:00\", \"AlterV05Sort\": 3, \"AlterV05Kurz\": \"10-14\", \"sum_WBev\": 13379}, {\"StichtagDatJahr\": \"1995-01-01T00:00:00\", \"AlterV05Sort\": 2, \"AlterV05Kurz\": \"5-9\", \"sum_WBev\": 14142}, {\"StichtagDatJahr\": \"1995-01-01T00:00:00\", \"AlterV05Sort\": 1, \"AlterV05Kurz\": \"0-4\", \"sum_WBev\": 15975}, {\"StichtagDatJahr\": \"1995-01-01T00:00:00\", \"AlterV05Sort\": 10, \"AlterV05Kurz\": \"45-49\", \"sum_WBev\": 23736}, {\"StichtagDatJahr\": \"1996-01-01T00:00:00\", \"AlterV05Sort\": 13, \"AlterV05Kurz\": \"60-64\", \"sum_WBev\": 18038}, {\"StichtagDatJahr\": \"1996-01-01T00:00:00\", \"AlterV05Sort\": 14, \"AlterV05Kurz\": \"65-69\", \"sum_WBev\": 17638}, {\"StichtagDatJahr\": \"1996-01-01T00:00:00\", \"AlterV05Sort\": 15, \"AlterV05Kurz\": \"70-74\", \"sum_WBev\": 16752}, {\"StichtagDatJahr\": \"1996-01-01T00:00:00\", \"AlterV05Sort\": 17, \"AlterV05Kurz\": \"80-84\", \"sum_WBev\": 10453}, {\"StichtagDatJahr\": \"1996-01-01T00:00:00\", \"AlterV05Sort\": 12, \"AlterV05Kurz\": \"55-59\", \"sum_WBev\": 19106}, {\"StichtagDatJahr\": \"1996-01-01T00:00:00\", \"AlterV05Sort\": 19, \"AlterV05Kurz\": \"90-94\", \"sum_WBev\": 2526}, {\"StichtagDatJahr\": \"1996-01-01T00:00:00\", \"AlterV05Sort\": 20, \"AlterV05Kurz\": \"95-99\", \"sum_WBev\": 491}, {\"StichtagDatJahr\": \"1996-01-01T00:00:00\", \"AlterV05Sort\": 18, \"AlterV05Kurz\": \"85-89\", \"sum_WBev\": 7247}, {\"StichtagDatJahr\": \"1996-01-01T00:00:00\", \"AlterV05Sort\": 11, \"AlterV05Kurz\": \"50-54\", \"sum_WBev\": 22456}, {\"StichtagDatJahr\": \"1996-01-01T00:00:00\", \"AlterV05Sort\": 16, \"AlterV05Kurz\": \"75-79\", \"sum_WBev\": 13123}, {\"StichtagDatJahr\": \"1996-01-01T00:00:00\", \"AlterV05Sort\": 9, \"AlterV05Kurz\": \"40-44\", \"sum_WBev\": 25444}, {\"StichtagDatJahr\": \"1996-01-01T00:00:00\", \"AlterV05Sort\": 1, \"AlterV05Kurz\": \"0-4\", \"sum_WBev\": 15631}, {\"StichtagDatJahr\": \"1996-01-01T00:00:00\", \"AlterV05Sort\": 2, \"AlterV05Kurz\": \"5-9\", \"sum_WBev\": 14317}, {\"StichtagDatJahr\": \"1996-01-01T00:00:00\", \"AlterV05Sort\": 3, \"AlterV05Kurz\": \"10-14\", \"sum_WBev\": 13368}, {\"StichtagDatJahr\": \"1996-01-01T00:00:00\", \"AlterV05Sort\": 4, \"AlterV05Kurz\": \"15-19\", \"sum_WBev\": 14504}, {\"StichtagDatJahr\": \"1996-01-01T00:00:00\", \"AlterV05Sort\": 10, \"AlterV05Kurz\": \"45-49\", \"sum_WBev\": 23372}, {\"StichtagDatJahr\": \"1996-01-01T00:00:00\", \"AlterV05Sort\": 6, \"AlterV05Kurz\": \"25-29\", \"sum_WBev\": 35377}, {\"StichtagDatJahr\": \"1996-01-01T00:00:00\", \"AlterV05Sort\": 7, \"AlterV05Kurz\": \"30-34\", \"sum_WBev\": 35275}, {\"StichtagDatJahr\": \"1996-01-01T00:00:00\", \"AlterV05Sort\": 8, \"AlterV05Kurz\": \"35-39\", \"sum_WBev\": 28778}, {\"StichtagDatJahr\": \"1996-01-01T00:00:00\", \"AlterV05Sort\": 5, \"AlterV05Kurz\": \"20-24\", \"sum_WBev\": 25709}, {\"StichtagDatJahr\": \"1997-01-01T00:00:00\", \"AlterV05Sort\": 14, \"AlterV05Kurz\": \"65-69\", \"sum_WBev\": 17227}, {\"StichtagDatJahr\": \"1997-01-01T00:00:00\", \"AlterV05Sort\": 20, \"AlterV05Kurz\": \"95-99\", \"sum_WBev\": 509}, {\"StichtagDatJahr\": \"1997-01-01T00:00:00\", \"AlterV05Sort\": 19, \"AlterV05Kurz\": \"90-94\", \"sum_WBev\": 2688}, {\"StichtagDatJahr\": \"1997-01-01T00:00:00\", \"AlterV05Sort\": 18, \"AlterV05Kurz\": \"85-89\", \"sum_WBev\": 7194}, {\"StichtagDatJahr\": \"1997-01-01T00:00:00\", \"AlterV05Sort\": 17, \"AlterV05Kurz\": \"80-84\", \"sum_WBev\": 9969}, {\"StichtagDatJahr\": \"1997-01-01T00:00:00\", \"AlterV05Sort\": 16, \"AlterV05Kurz\": \"75-79\", \"sum_WBev\": 13518}, {\"StichtagDatJahr\": \"1997-01-01T00:00:00\", \"AlterV05Sort\": 15, \"AlterV05Kurz\": \"70-74\", \"sum_WBev\": 16453}, {\"StichtagDatJahr\": \"1997-01-01T00:00:00\", \"AlterV05Sort\": 13, \"AlterV05Kurz\": \"60-64\", \"sum_WBev\": 17618}, {\"StichtagDatJahr\": \"1997-01-01T00:00:00\", \"AlterV05Sort\": 12, \"AlterV05Kurz\": \"55-59\", \"sum_WBev\": 19120}, {\"StichtagDatJahr\": \"1997-01-01T00:00:00\", \"AlterV05Sort\": 11, \"AlterV05Kurz\": \"50-54\", \"sum_WBev\": 22235}, {\"StichtagDatJahr\": \"1997-01-01T00:00:00\", \"AlterV05Sort\": 10, \"AlterV05Kurz\": \"45-49\", \"sum_WBev\": 23318}, {\"StichtagDatJahr\": \"1997-01-01T00:00:00\", \"AlterV05Sort\": 2, \"AlterV05Kurz\": \"5-9\", \"sum_WBev\": 14431}, {\"StichtagDatJahr\": \"1997-01-01T00:00:00\", \"AlterV05Sort\": 3, \"AlterV05Kurz\": \"10-14\", \"sum_WBev\": 13277}, {\"StichtagDatJahr\": \"1997-01-01T00:00:00\", \"AlterV05Sort\": 4, \"AlterV05Kurz\": \"15-19\", \"sum_WBev\": 14634}, {\"StichtagDatJahr\": \"1997-01-01T00:00:00\", \"AlterV05Sort\": 5, \"AlterV05Kurz\": \"20-24\", \"sum_WBev\": 25556}, {\"StichtagDatJahr\": \"1997-01-01T00:00:00\", \"AlterV05Sort\": 1, \"AlterV05Kurz\": \"0-4\", \"sum_WBev\": 15544}, {\"StichtagDatJahr\": \"1997-01-01T00:00:00\", \"AlterV05Sort\": 7, \"AlterV05Kurz\": \"30-34\", \"sum_WBev\": 35512}, {\"StichtagDatJahr\": \"1997-01-01T00:00:00\", \"AlterV05Sort\": 8, \"AlterV05Kurz\": \"35-39\", \"sum_WBev\": 29274}, {\"StichtagDatJahr\": \"1997-01-01T00:00:00\", \"AlterV05Sort\": 9, \"AlterV05Kurz\": \"40-44\", \"sum_WBev\": 25311}, {\"StichtagDatJahr\": \"1997-01-01T00:00:00\", \"AlterV05Sort\": 6, \"AlterV05Kurz\": \"25-29\", \"sum_WBev\": 35156}, {\"StichtagDatJahr\": \"1998-01-01T00:00:00\", \"AlterV05Sort\": 12, \"AlterV05Kurz\": \"55-59\", \"sum_WBev\": 19240}, {\"StichtagDatJahr\": \"1998-01-01T00:00:00\", \"AlterV05Sort\": 20, \"AlterV05Kurz\": \"95-99\", \"sum_WBev\": 527}, {\"StichtagDatJahr\": \"1998-01-01T00:00:00\", \"AlterV05Sort\": 19, \"AlterV05Kurz\": \"90-94\", \"sum_WBev\": 2916}, {\"StichtagDatJahr\": \"1998-01-01T00:00:00\", \"AlterV05Sort\": 18, \"AlterV05Kurz\": \"85-89\", \"sum_WBev\": 7073}, {\"StichtagDatJahr\": \"1998-01-01T00:00:00\", \"AlterV05Sort\": 17, \"AlterV05Kurz\": \"80-84\", \"sum_WBev\": 9550}, {\"StichtagDatJahr\": \"1998-01-01T00:00:00\", \"AlterV05Sort\": 16, \"AlterV05Kurz\": \"75-79\", \"sum_WBev\": 13903}, {\"StichtagDatJahr\": \"1998-01-01T00:00:00\", \"AlterV05Sort\": 15, \"AlterV05Kurz\": \"70-74\", \"sum_WBev\": 16209}, {\"StichtagDatJahr\": \"1998-01-01T00:00:00\", \"AlterV05Sort\": 14, \"AlterV05Kurz\": \"65-69\", \"sum_WBev\": 16780}, {\"StichtagDatJahr\": \"1998-01-01T00:00:00\", \"AlterV05Sort\": 13, \"AlterV05Kurz\": \"60-64\", \"sum_WBev\": 17068}, {\"StichtagDatJahr\": \"1998-01-01T00:00:00\", \"AlterV05Sort\": 11, \"AlterV05Kurz\": \"50-54\", \"sum_WBev\": 22091}, {\"StichtagDatJahr\": \"1998-01-01T00:00:00\", \"AlterV05Sort\": 9, \"AlterV05Kurz\": \"40-44\", \"sum_WBev\": 25427}, {\"StichtagDatJahr\": \"1998-01-01T00:00:00\", \"AlterV05Sort\": 1, \"AlterV05Kurz\": \"0-4\", \"sum_WBev\": 15579}, {\"StichtagDatJahr\": \"1998-01-01T00:00:00\", \"AlterV05Sort\": 2, \"AlterV05Kurz\": \"5-9\", \"sum_WBev\": 14342}, {\"StichtagDatJahr\": \"1998-01-01T00:00:00\", \"AlterV05Sort\": 3, \"AlterV05Kurz\": \"10-14\", \"sum_WBev\": 13400}, {\"StichtagDatJahr\": \"1998-01-01T00:00:00\", \"AlterV05Sort\": 4, \"AlterV05Kurz\": \"15-19\", \"sum_WBev\": 14747}, {\"StichtagDatJahr\": \"1998-01-01T00:00:00\", \"AlterV05Sort\": 10, \"AlterV05Kurz\": \"45-49\", \"sum_WBev\": 23127}, {\"StichtagDatJahr\": \"1998-01-01T00:00:00\", \"AlterV05Sort\": 6, \"AlterV05Kurz\": \"25-29\", \"sum_WBev\": 35301}, {\"StichtagDatJahr\": \"1998-01-01T00:00:00\", \"AlterV05Sort\": 7, \"AlterV05Kurz\": \"30-34\", \"sum_WBev\": 35746}, {\"StichtagDatJahr\": \"1998-01-01T00:00:00\", \"AlterV05Sort\": 8, \"AlterV05Kurz\": \"35-39\", \"sum_WBev\": 30040}, {\"StichtagDatJahr\": \"1998-01-01T00:00:00\", \"AlterV05Sort\": 5, \"AlterV05Kurz\": \"20-24\", \"sum_WBev\": 25951}, {\"StichtagDatJahr\": \"1999-01-01T00:00:00\", \"AlterV05Sort\": 12, \"AlterV05Kurz\": \"55-59\", \"sum_WBev\": 19430}, {\"StichtagDatJahr\": \"1999-01-01T00:00:00\", \"AlterV05Sort\": 20, \"AlterV05Kurz\": \"95-99\", \"sum_WBev\": 554}, {\"StichtagDatJahr\": \"1999-01-01T00:00:00\", \"AlterV05Sort\": 19, \"AlterV05Kurz\": \"90-94\", \"sum_WBev\": 3009}, {\"StichtagDatJahr\": \"1999-01-01T00:00:00\", \"AlterV05Sort\": 18, \"AlterV05Kurz\": \"85-89\", \"sum_WBev\": 6965}, {\"StichtagDatJahr\": \"1999-01-01T00:00:00\", \"AlterV05Sort\": 17, \"AlterV05Kurz\": \"80-84\", \"sum_WBev\": 9207}, {\"StichtagDatJahr\": \"1999-01-01T00:00:00\", \"AlterV05Sort\": 16, \"AlterV05Kurz\": \"75-79\", \"sum_WBev\": 14190}, {\"StichtagDatJahr\": \"1999-01-01T00:00:00\", \"AlterV05Sort\": 15, \"AlterV05Kurz\": \"70-74\", \"sum_WBev\": 16095}, {\"StichtagDatJahr\": \"1999-01-01T00:00:00\", \"AlterV05Sort\": 14, \"AlterV05Kurz\": \"65-69\", \"sum_WBev\": 16355}, {\"StichtagDatJahr\": \"1999-01-01T00:00:00\", \"AlterV05Sort\": 13, \"AlterV05Kurz\": \"60-64\", \"sum_WBev\": 16734}, {\"StichtagDatJahr\": \"1999-01-01T00:00:00\", \"AlterV05Sort\": 11, \"AlterV05Kurz\": \"50-54\", \"sum_WBev\": 21924}, {\"StichtagDatJahr\": \"1999-01-01T00:00:00\", \"AlterV05Sort\": 9, \"AlterV05Kurz\": \"40-44\", \"sum_WBev\": 25654}, {\"StichtagDatJahr\": \"1999-01-01T00:00:00\", \"AlterV05Sort\": 8, \"AlterV05Kurz\": \"35-39\", \"sum_WBev\": 30979}, {\"StichtagDatJahr\": \"1999-01-01T00:00:00\", \"AlterV05Sort\": 7, \"AlterV05Kurz\": \"30-34\", \"sum_WBev\": 35906}, {\"StichtagDatJahr\": \"1999-01-01T00:00:00\", \"AlterV05Sort\": 6, \"AlterV05Kurz\": \"25-29\", \"sum_WBev\": 35477}, {\"StichtagDatJahr\": \"1999-01-01T00:00:00\", \"AlterV05Sort\": 5, \"AlterV05Kurz\": \"20-24\", \"sum_WBev\": 26422}, {\"StichtagDatJahr\": \"1999-01-01T00:00:00\", \"AlterV05Sort\": 4, \"AlterV05Kurz\": \"15-19\", \"sum_WBev\": 14856}, {\"StichtagDatJahr\": \"1999-01-01T00:00:00\", \"AlterV05Sort\": 3, \"AlterV05Kurz\": \"10-14\", \"sum_WBev\": 13588}, {\"StichtagDatJahr\": \"1999-01-01T00:00:00\", \"AlterV05Sort\": 2, \"AlterV05Kurz\": \"5-9\", \"sum_WBev\": 14425}, {\"StichtagDatJahr\": \"1999-01-01T00:00:00\", \"AlterV05Sort\": 1, \"AlterV05Kurz\": \"0-4\", \"sum_WBev\": 15646}, {\"StichtagDatJahr\": \"1999-01-01T00:00:00\", \"AlterV05Sort\": 10, \"AlterV05Kurz\": \"45-49\", \"sum_WBev\": 23237}, {\"StichtagDatJahr\": \"2000-01-01T00:00:00\", \"AlterV05Sort\": 14, \"AlterV05Kurz\": \"65-69\", \"sum_WBev\": 15790}, {\"StichtagDatJahr\": \"2000-01-01T00:00:00\", \"AlterV05Sort\": 15, \"AlterV05Kurz\": \"70-74\", \"sum_WBev\": 15839}, {\"StichtagDatJahr\": \"2000-01-01T00:00:00\", \"AlterV05Sort\": 16, \"AlterV05Kurz\": \"75-79\", \"sum_WBev\": 14179}, {\"StichtagDatJahr\": \"2000-01-01T00:00:00\", \"AlterV05Sort\": 17, \"AlterV05Kurz\": \"80-84\", \"sum_WBev\": 9470}, {\"StichtagDatJahr\": \"2000-01-01T00:00:00\", \"AlterV05Sort\": 13, \"AlterV05Kurz\": \"60-64\", \"sum_WBev\": 16409}, {\"StichtagDatJahr\": \"2000-01-01T00:00:00\", \"AlterV05Sort\": 19, \"AlterV05Kurz\": \"90-94\", \"sum_WBev\": 3055}, {\"StichtagDatJahr\": \"2000-01-01T00:00:00\", \"AlterV05Sort\": 20, \"AlterV05Kurz\": \"95-99\", \"sum_WBev\": 616}, {\"StichtagDatJahr\": \"2000-01-01T00:00:00\", \"AlterV05Sort\": 18, \"AlterV05Kurz\": \"85-89\", \"sum_WBev\": 6627}, {\"StichtagDatJahr\": \"2000-01-01T00:00:00\", \"AlterV05Sort\": 12, \"AlterV05Kurz\": \"55-59\", \"sum_WBev\": 19855}, {\"StichtagDatJahr\": \"2000-01-01T00:00:00\", \"AlterV05Sort\": 5, \"AlterV05Kurz\": \"20-24\", \"sum_WBev\": 26514}, {\"StichtagDatJahr\": \"2000-01-01T00:00:00\", \"AlterV05Sort\": 10, \"AlterV05Kurz\": \"45-49\", \"sum_WBev\": 23126}, {\"StichtagDatJahr\": \"2000-01-01T00:00:00\", \"AlterV05Sort\": 2, \"AlterV05Kurz\": \"5-9\", \"sum_WBev\": 14135}, {\"StichtagDatJahr\": \"2000-01-01T00:00:00\", \"AlterV05Sort\": 3, \"AlterV05Kurz\": \"10-14\", \"sum_WBev\": 13551}, {\"StichtagDatJahr\": \"2000-01-01T00:00:00\", \"AlterV05Sort\": 4, \"AlterV05Kurz\": \"15-19\", \"sum_WBev\": 14471}, {\"StichtagDatJahr\": \"2000-01-01T00:00:00\", \"AlterV05Sort\": 11, \"AlterV05Kurz\": \"50-54\", \"sum_WBev\": 21814}, {\"StichtagDatJahr\": \"2000-01-01T00:00:00\", \"AlterV05Sort\": 1, \"AlterV05Kurz\": \"0-4\", \"sum_WBev\": 15554}, {\"StichtagDatJahr\": \"2000-01-01T00:00:00\", \"AlterV05Sort\": 7, \"AlterV05Kurz\": \"30-34\", \"sum_WBev\": 36201}, {\"StichtagDatJahr\": \"2000-01-01T00:00:00\", \"AlterV05Sort\": 8, \"AlterV05Kurz\": \"35-39\", \"sum_WBev\": 31505}, {\"StichtagDatJahr\": \"2000-01-01T00:00:00\", \"AlterV05Sort\": 9, \"AlterV05Kurz\": \"40-44\", \"sum_WBev\": 26074}, {\"StichtagDatJahr\": \"2000-01-01T00:00:00\", \"AlterV05Sort\": 6, \"AlterV05Kurz\": \"25-29\", \"sum_WBev\": 36153}, {\"StichtagDatJahr\": \"2001-01-01T00:00:00\", \"AlterV05Sort\": 12, \"AlterV05Kurz\": \"55-59\", \"sum_WBev\": 20043}, {\"StichtagDatJahr\": \"2001-01-01T00:00:00\", \"AlterV05Sort\": 20, \"AlterV05Kurz\": \"95-99\", \"sum_WBev\": 633}, {\"StichtagDatJahr\": \"2001-01-01T00:00:00\", \"AlterV05Sort\": 19, \"AlterV05Kurz\": \"90-94\", \"sum_WBev\": 3024}, {\"StichtagDatJahr\": \"2001-01-01T00:00:00\", \"AlterV05Sort\": 18, \"AlterV05Kurz\": \"85-89\", \"sum_WBev\": 6362}, {\"StichtagDatJahr\": \"2001-01-01T00:00:00\", \"AlterV05Sort\": 17, \"AlterV05Kurz\": \"80-84\", \"sum_WBev\": 9799}, {\"StichtagDatJahr\": \"2001-01-01T00:00:00\", \"AlterV05Sort\": 16, \"AlterV05Kurz\": \"75-79\", \"sum_WBev\": 14140}, {\"StichtagDatJahr\": \"2001-01-01T00:00:00\", \"AlterV05Sort\": 15, \"AlterV05Kurz\": \"70-74\", \"sum_WBev\": 15463}, {\"StichtagDatJahr\": \"2001-01-01T00:00:00\", \"AlterV05Sort\": 14, \"AlterV05Kurz\": \"65-69\", \"sum_WBev\": 15384}, {\"StichtagDatJahr\": \"2001-01-01T00:00:00\", \"AlterV05Sort\": 13, \"AlterV05Kurz\": \"60-64\", \"sum_WBev\": 16359}, {\"StichtagDatJahr\": \"2001-01-01T00:00:00\", \"AlterV05Sort\": 11, \"AlterV05Kurz\": \"50-54\", \"sum_WBev\": 21532}, {\"StichtagDatJahr\": \"2001-01-01T00:00:00\", \"AlterV05Sort\": 9, \"AlterV05Kurz\": \"40-44\", \"sum_WBev\": 26215}, {\"StichtagDatJahr\": \"2001-01-01T00:00:00\", \"AlterV05Sort\": 1, \"AlterV05Kurz\": \"0-4\", \"sum_WBev\": 15441}, {\"StichtagDatJahr\": \"2001-01-01T00:00:00\", \"AlterV05Sort\": 2, \"AlterV05Kurz\": \"5-9\", \"sum_WBev\": 13983}, {\"StichtagDatJahr\": \"2001-01-01T00:00:00\", \"AlterV05Sort\": 3, \"AlterV05Kurz\": \"10-14\", \"sum_WBev\": 13739}, {\"StichtagDatJahr\": \"2001-01-01T00:00:00\", \"AlterV05Sort\": 4, \"AlterV05Kurz\": \"15-19\", \"sum_WBev\": 14371}, {\"StichtagDatJahr\": \"2001-01-01T00:00:00\", \"AlterV05Sort\": 10, \"AlterV05Kurz\": \"45-49\", \"sum_WBev\": 23492}, {\"StichtagDatJahr\": \"2001-01-01T00:00:00\", \"AlterV05Sort\": 6, \"AlterV05Kurz\": \"25-29\", \"sum_WBev\": 36595}, {\"StichtagDatJahr\": \"2001-01-01T00:00:00\", \"AlterV05Sort\": 7, \"AlterV05Kurz\": \"30-34\", \"sum_WBev\": 36603}, {\"StichtagDatJahr\": \"2001-01-01T00:00:00\", \"AlterV05Sort\": 8, \"AlterV05Kurz\": \"35-39\", \"sum_WBev\": 32500}, {\"StichtagDatJahr\": \"2001-01-01T00:00:00\", \"AlterV05Sort\": 5, \"AlterV05Kurz\": \"20-24\", \"sum_WBev\": 26313}, {\"StichtagDatJahr\": \"2002-01-01T00:00:00\", \"AlterV05Sort\": 12, \"AlterV05Kurz\": \"55-59\", \"sum_WBev\": 20089}, {\"StichtagDatJahr\": \"2002-01-01T00:00:00\", \"AlterV05Sort\": 20, \"AlterV05Kurz\": \"95-99\", \"sum_WBev\": 678}, {\"StichtagDatJahr\": \"2002-01-01T00:00:00\", \"AlterV05Sort\": 19, \"AlterV05Kurz\": \"90-94\", \"sum_WBev\": 3030}, {\"StichtagDatJahr\": \"2002-01-01T00:00:00\", \"AlterV05Sort\": 18, \"AlterV05Kurz\": \"85-89\", \"sum_WBev\": 6085}, {\"StichtagDatJahr\": \"2002-01-01T00:00:00\", \"AlterV05Sort\": 17, \"AlterV05Kurz\": \"80-84\", \"sum_WBev\": 10233}, {\"StichtagDatJahr\": \"2002-01-01T00:00:00\", \"AlterV05Sort\": 16, \"AlterV05Kurz\": \"75-79\", \"sum_WBev\": 13919}, {\"StichtagDatJahr\": \"2002-01-01T00:00:00\", \"AlterV05Sort\": 15, \"AlterV05Kurz\": \"70-74\", \"sum_WBev\": 15162}, {\"StichtagDatJahr\": \"2002-01-01T00:00:00\", \"AlterV05Sort\": 14, \"AlterV05Kurz\": \"65-69\", \"sum_WBev\": 15098}, {\"StichtagDatJahr\": \"2002-01-01T00:00:00\", \"AlterV05Sort\": 13, \"AlterV05Kurz\": \"60-64\", \"sum_WBev\": 16595}, {\"StichtagDatJahr\": \"2002-01-01T00:00:00\", \"AlterV05Sort\": 11, \"AlterV05Kurz\": \"50-54\", \"sum_WBev\": 21612}, {\"StichtagDatJahr\": \"2002-01-01T00:00:00\", \"AlterV05Sort\": 9, \"AlterV05Kurz\": \"40-44\", \"sum_WBev\": 27031}, {\"StichtagDatJahr\": \"2002-01-01T00:00:00\", \"AlterV05Sort\": 8, \"AlterV05Kurz\": \"35-39\", \"sum_WBev\": 33126}, {\"StichtagDatJahr\": \"2002-01-01T00:00:00\", \"AlterV05Sort\": 7, \"AlterV05Kurz\": \"30-34\", \"sum_WBev\": 37003}, {\"StichtagDatJahr\": \"2002-01-01T00:00:00\", \"AlterV05Sort\": 6, \"AlterV05Kurz\": \"25-29\", \"sum_WBev\": 37398}, {\"StichtagDatJahr\": \"2002-01-01T00:00:00\", \"AlterV05Sort\": 5, \"AlterV05Kurz\": \"20-24\", \"sum_WBev\": 26289}, {\"StichtagDatJahr\": \"2002-01-01T00:00:00\", \"AlterV05Sort\": 4, \"AlterV05Kurz\": \"15-19\", \"sum_WBev\": 14403}, {\"StichtagDatJahr\": \"2002-01-01T00:00:00\", \"AlterV05Sort\": 3, \"AlterV05Kurz\": \"10-14\", \"sum_WBev\": 13842}, {\"StichtagDatJahr\": \"2002-01-01T00:00:00\", \"AlterV05Sort\": 2, \"AlterV05Kurz\": \"5-9\", \"sum_WBev\": 13837}, {\"StichtagDatJahr\": \"2002-01-01T00:00:00\", \"AlterV05Sort\": 1, \"AlterV05Kurz\": \"0-4\", \"sum_WBev\": 15609}, {\"StichtagDatJahr\": \"2002-01-01T00:00:00\", \"AlterV05Sort\": 10, \"AlterV05Kurz\": \"45-49\", \"sum_WBev\": 23450}, {\"StichtagDatJahr\": \"2003-01-01T00:00:00\", \"AlterV05Sort\": 13, \"AlterV05Kurz\": \"60-64\", \"sum_WBev\": 16835}, {\"StichtagDatJahr\": \"2003-01-01T00:00:00\", \"AlterV05Sort\": 14, \"AlterV05Kurz\": \"65-69\", \"sum_WBev\": 14761}, {\"StichtagDatJahr\": \"2003-01-01T00:00:00\", \"AlterV05Sort\": 15, \"AlterV05Kurz\": \"70-74\", \"sum_WBev\": 14730}, {\"StichtagDatJahr\": \"2003-01-01T00:00:00\", \"AlterV05Sort\": 16, \"AlterV05Kurz\": \"75-79\", \"sum_WBev\": 13832}, {\"StichtagDatJahr\": \"2003-01-01T00:00:00\", \"AlterV05Sort\": 12, \"AlterV05Kurz\": \"55-59\", \"sum_WBev\": 20105}, {\"StichtagDatJahr\": \"2003-01-01T00:00:00\", \"AlterV05Sort\": 18, \"AlterV05Kurz\": \"85-89\", \"sum_WBev\": 5767}, {\"StichtagDatJahr\": \"2003-01-01T00:00:00\", \"AlterV05Sort\": 19, \"AlterV05Kurz\": \"90-94\", \"sum_WBev\": 3007}, {\"StichtagDatJahr\": \"2003-01-01T00:00:00\", \"AlterV05Sort\": 20, \"AlterV05Kurz\": \"95-99\", \"sum_WBev\": 724}, {\"StichtagDatJahr\": \"2003-01-01T00:00:00\", \"AlterV05Sort\": 17, \"AlterV05Kurz\": \"80-84\", \"sum_WBev\": 10562}, {\"StichtagDatJahr\": \"2003-01-01T00:00:00\", \"AlterV05Sort\": 11, \"AlterV05Kurz\": \"50-54\", \"sum_WBev\": 21588}, {\"StichtagDatJahr\": \"2003-01-01T00:00:00\", \"AlterV05Sort\": 9, \"AlterV05Kurz\": \"40-44\", \"sum_WBev\": 27810}, {\"StichtagDatJahr\": \"2003-01-01T00:00:00\", \"AlterV05Sort\": 1, \"AlterV05Kurz\": \"0-4\", \"sum_WBev\": 15784}, {\"StichtagDatJahr\": \"2003-01-01T00:00:00\", \"AlterV05Sort\": 2, \"AlterV05Kurz\": \"5-9\", \"sum_WBev\": 13786}, {\"StichtagDatJahr\": \"2003-01-01T00:00:00\", \"AlterV05Sort\": 3, \"AlterV05Kurz\": \"10-14\", \"sum_WBev\": 13715}, {\"StichtagDatJahr\": \"2003-01-01T00:00:00\", \"AlterV05Sort\": 4, \"AlterV05Kurz\": \"15-19\", \"sum_WBev\": 14547}, {\"StichtagDatJahr\": \"2003-01-01T00:00:00\", \"AlterV05Sort\": 10, \"AlterV05Kurz\": \"45-49\", \"sum_WBev\": 23750}, {\"StichtagDatJahr\": \"2003-01-01T00:00:00\", \"AlterV05Sort\": 6, \"AlterV05Kurz\": \"25-29\", \"sum_WBev\": 36913}, {\"StichtagDatJahr\": \"2003-01-01T00:00:00\", \"AlterV05Sort\": 7, \"AlterV05Kurz\": \"30-34\", \"sum_WBev\": 36907}, {\"StichtagDatJahr\": \"2003-01-01T00:00:00\", \"AlterV05Sort\": 8, \"AlterV05Kurz\": \"35-39\", \"sum_WBev\": 33606}, {\"StichtagDatJahr\": \"2003-01-01T00:00:00\", \"AlterV05Sort\": 5, \"AlterV05Kurz\": \"20-24\", \"sum_WBev\": 25735}, {\"StichtagDatJahr\": \"2004-01-01T00:00:00\", \"AlterV05Sort\": 20, \"AlterV05Kurz\": \"95-99\", \"sum_WBev\": 738}, {\"StichtagDatJahr\": \"2004-01-01T00:00:00\", \"AlterV05Sort\": 19, \"AlterV05Kurz\": \"90-94\", \"sum_WBev\": 2986}, {\"StichtagDatJahr\": \"2004-01-01T00:00:00\", \"AlterV05Sort\": 18, \"AlterV05Kurz\": \"85-89\", \"sum_WBev\": 5643}, {\"StichtagDatJahr\": \"2004-01-01T00:00:00\", \"AlterV05Sort\": 17, \"AlterV05Kurz\": \"80-84\", \"sum_WBev\": 10826}, {\"StichtagDatJahr\": \"2004-01-01T00:00:00\", \"AlterV05Sort\": 16, \"AlterV05Kurz\": \"75-79\", \"sum_WBev\": 13723}, {\"StichtagDatJahr\": \"2004-01-01T00:00:00\", \"AlterV05Sort\": 15, \"AlterV05Kurz\": \"70-74\", \"sum_WBev\": 14399}, {\"StichtagDatJahr\": \"2004-01-01T00:00:00\", \"AlterV05Sort\": 13, \"AlterV05Kurz\": \"60-64\", \"sum_WBev\": 17170}, {\"StichtagDatJahr\": \"2004-01-01T00:00:00\", \"AlterV05Sort\": 12, \"AlterV05Kurz\": \"55-59\", \"sum_WBev\": 19944}, {\"StichtagDatJahr\": \"2004-01-01T00:00:00\", \"AlterV05Sort\": 14, \"AlterV05Kurz\": \"65-69\", \"sum_WBev\": 14488}, {\"StichtagDatJahr\": \"2004-01-01T00:00:00\", \"AlterV05Sort\": 11, \"AlterV05Kurz\": \"50-54\", \"sum_WBev\": 21599}, {\"StichtagDatJahr\": \"2004-01-01T00:00:00\", \"AlterV05Sort\": 9, \"AlterV05Kurz\": \"40-44\", \"sum_WBev\": 28776}, {\"StichtagDatJahr\": \"2004-01-01T00:00:00\", \"AlterV05Sort\": 8, \"AlterV05Kurz\": \"35-39\", \"sum_WBev\": 33558}, {\"StichtagDatJahr\": \"2004-01-01T00:00:00\", \"AlterV05Sort\": 7, \"AlterV05Kurz\": \"30-34\", \"sum_WBev\": 37115}, {\"StichtagDatJahr\": \"2004-01-01T00:00:00\", \"AlterV05Sort\": 6, \"AlterV05Kurz\": \"25-29\", \"sum_WBev\": 36771}, {\"StichtagDatJahr\": \"2004-01-01T00:00:00\", \"AlterV05Sort\": 5, \"AlterV05Kurz\": \"20-24\", \"sum_WBev\": 25343}, {\"StichtagDatJahr\": \"2004-01-01T00:00:00\", \"AlterV05Sort\": 4, \"AlterV05Kurz\": \"15-19\", \"sum_WBev\": 14448}, {\"StichtagDatJahr\": \"2004-01-01T00:00:00\", \"AlterV05Sort\": 3, \"AlterV05Kurz\": \"10-14\", \"sum_WBev\": 13578}, {\"StichtagDatJahr\": \"2004-01-01T00:00:00\", \"AlterV05Sort\": 2, \"AlterV05Kurz\": \"5-9\", \"sum_WBev\": 13811}, {\"StichtagDatJahr\": \"2004-01-01T00:00:00\", \"AlterV05Sort\": 1, \"AlterV05Kurz\": \"0-4\", \"sum_WBev\": 16029}, {\"StichtagDatJahr\": \"2004-01-01T00:00:00\", \"AlterV05Sort\": 10, \"AlterV05Kurz\": \"45-49\", \"sum_WBev\": 23961}, {\"StichtagDatJahr\": \"2005-01-01T00:00:00\", \"AlterV05Sort\": 13, \"AlterV05Kurz\": \"60-64\", \"sum_WBev\": 17603}, {\"StichtagDatJahr\": \"2005-01-01T00:00:00\", \"AlterV05Sort\": 14, \"AlterV05Kurz\": \"65-69\", \"sum_WBev\": 14261}, {\"StichtagDatJahr\": \"2005-01-01T00:00:00\", \"AlterV05Sort\": 15, \"AlterV05Kurz\": \"70-74\", \"sum_WBev\": 13966}, {\"StichtagDatJahr\": \"2005-01-01T00:00:00\", \"AlterV05Sort\": 16, \"AlterV05Kurz\": \"75-79\", \"sum_WBev\": 13530}, {\"StichtagDatJahr\": \"2005-01-01T00:00:00\", \"AlterV05Sort\": 12, \"AlterV05Kurz\": \"55-59\", \"sum_WBev\": 19794}, {\"StichtagDatJahr\": \"2005-01-01T00:00:00\", \"AlterV05Sort\": 18, \"AlterV05Kurz\": \"85-89\", \"sum_WBev\": 5942}, {\"StichtagDatJahr\": \"2005-01-01T00:00:00\", \"AlterV05Sort\": 19, \"AlterV05Kurz\": \"90-94\", \"sum_WBev\": 2902}, {\"StichtagDatJahr\": \"2005-01-01T00:00:00\", \"AlterV05Sort\": 20, \"AlterV05Kurz\": \"95-99\", \"sum_WBev\": 741}, {\"StichtagDatJahr\": \"2005-01-01T00:00:00\", \"AlterV05Sort\": 17, \"AlterV05Kurz\": \"80-84\", \"sum_WBev\": 10918}, {\"StichtagDatJahr\": \"2005-01-01T00:00:00\", \"AlterV05Sort\": 11, \"AlterV05Kurz\": \"50-54\", \"sum_WBev\": 21492}, {\"StichtagDatJahr\": \"2005-01-01T00:00:00\", \"AlterV05Sort\": 9, \"AlterV05Kurz\": \"40-44\", \"sum_WBev\": 29441}, {\"StichtagDatJahr\": \"2005-01-01T00:00:00\", \"AlterV05Sort\": 1, \"AlterV05Kurz\": \"0-4\", \"sum_WBev\": 16292}, {\"StichtagDatJahr\": \"2005-01-01T00:00:00\", \"AlterV05Sort\": 2, \"AlterV05Kurz\": \"5-9\", \"sum_WBev\": 13870}, {\"StichtagDatJahr\": \"2005-01-01T00:00:00\", \"AlterV05Sort\": 3, \"AlterV05Kurz\": \"10-14\", \"sum_WBev\": 13460}, {\"StichtagDatJahr\": \"2005-01-01T00:00:00\", \"AlterV05Sort\": 4, \"AlterV05Kurz\": \"15-19\", \"sum_WBev\": 14418}, {\"StichtagDatJahr\": \"2005-01-01T00:00:00\", \"AlterV05Sort\": 10, \"AlterV05Kurz\": \"45-49\", \"sum_WBev\": 24446}, {\"StichtagDatJahr\": \"2005-01-01T00:00:00\", \"AlterV05Sort\": 6, \"AlterV05Kurz\": \"25-29\", \"sum_WBev\": 37569}, {\"StichtagDatJahr\": \"2005-01-01T00:00:00\", \"AlterV05Sort\": 7, \"AlterV05Kurz\": \"30-34\", \"sum_WBev\": 37628}, {\"StichtagDatJahr\": \"2005-01-01T00:00:00\", \"AlterV05Sort\": 8, \"AlterV05Kurz\": \"35-39\", \"sum_WBev\": 33688}, {\"StichtagDatJahr\": \"2005-01-01T00:00:00\", \"AlterV05Sort\": 5, \"AlterV05Kurz\": \"20-24\", \"sum_WBev\": 24773}, {\"StichtagDatJahr\": \"2006-01-01T00:00:00\", \"AlterV05Sort\": 12, \"AlterV05Kurz\": \"55-59\", \"sum_WBev\": 19598}, {\"StichtagDatJahr\": \"2006-01-01T00:00:00\", \"AlterV05Sort\": 20, \"AlterV05Kurz\": \"95-99\", \"sum_WBev\": 779}, {\"StichtagDatJahr\": \"2006-01-01T00:00:00\", \"AlterV05Sort\": 19, \"AlterV05Kurz\": \"90-94\", \"sum_WBev\": 2836}, {\"StichtagDatJahr\": \"2006-01-01T00:00:00\", \"AlterV05Sort\": 18, \"AlterV05Kurz\": \"85-89\", \"sum_WBev\": 6244}, {\"StichtagDatJahr\": \"2006-01-01T00:00:00\", \"AlterV05Sort\": 17, \"AlterV05Kurz\": \"80-84\", \"sum_WBev\": 11021}, {\"StichtagDatJahr\": \"2006-01-01T00:00:00\", \"AlterV05Sort\": 16, \"AlterV05Kurz\": \"75-79\", \"sum_WBev\": 13258}, {\"StichtagDatJahr\": \"2006-01-01T00:00:00\", \"AlterV05Sort\": 15, \"AlterV05Kurz\": \"70-74\", \"sum_WBev\": 13656}, {\"StichtagDatJahr\": \"2006-01-01T00:00:00\", \"AlterV05Sort\": 14, \"AlterV05Kurz\": \"65-69\", \"sum_WBev\": 14274}, {\"StichtagDatJahr\": \"2006-01-01T00:00:00\", \"AlterV05Sort\": 13, \"AlterV05Kurz\": \"60-64\", \"sum_WBev\": 17779}, {\"StichtagDatJahr\": \"2006-01-01T00:00:00\", \"AlterV05Sort\": 11, \"AlterV05Kurz\": \"50-54\", \"sum_WBev\": 21861}, {\"StichtagDatJahr\": \"2006-01-01T00:00:00\", \"AlterV05Sort\": 9, \"AlterV05Kurz\": \"40-44\", \"sum_WBev\": 30267}, {\"StichtagDatJahr\": \"2006-01-01T00:00:00\", \"AlterV05Sort\": 8, \"AlterV05Kurz\": \"35-39\", \"sum_WBev\": 33909}, {\"StichtagDatJahr\": \"2006-01-01T00:00:00\", \"AlterV05Sort\": 7, \"AlterV05Kurz\": \"30-34\", \"sum_WBev\": 38403}, {\"StichtagDatJahr\": \"2006-01-01T00:00:00\", \"AlterV05Sort\": 6, \"AlterV05Kurz\": \"25-29\", \"sum_WBev\": 38456}, {\"StichtagDatJahr\": \"2006-01-01T00:00:00\", \"AlterV05Sort\": 5, \"AlterV05Kurz\": \"20-24\", \"sum_WBev\": 24792}, {\"StichtagDatJahr\": \"2006-01-01T00:00:00\", \"AlterV05Sort\": 4, \"AlterV05Kurz\": \"15-19\", \"sum_WBev\": 14458}, {\"StichtagDatJahr\": \"2006-01-01T00:00:00\", \"AlterV05Sort\": 3, \"AlterV05Kurz\": \"10-14\", \"sum_WBev\": 13349}, {\"StichtagDatJahr\": \"2006-01-01T00:00:00\", \"AlterV05Sort\": 2, \"AlterV05Kurz\": \"5-9\", \"sum_WBev\": 13722}, {\"StichtagDatJahr\": \"2006-01-01T00:00:00\", \"AlterV05Sort\": 1, \"AlterV05Kurz\": \"0-4\", \"sum_WBev\": 16719}, {\"StichtagDatJahr\": \"2006-01-01T00:00:00\", \"AlterV05Sort\": 10, \"AlterV05Kurz\": \"45-49\", \"sum_WBev\": 24607}, {\"StichtagDatJahr\": \"2007-01-01T00:00:00\", \"AlterV05Sort\": 14, \"AlterV05Kurz\": \"65-69\", \"sum_WBev\": 14482}, {\"StichtagDatJahr\": \"2007-01-01T00:00:00\", \"AlterV05Sort\": 15, \"AlterV05Kurz\": \"70-74\", \"sum_WBev\": 13425}, {\"StichtagDatJahr\": \"2007-01-01T00:00:00\", \"AlterV05Sort\": 16, \"AlterV05Kurz\": \"75-79\", \"sum_WBev\": 12994}, {\"StichtagDatJahr\": \"2007-01-01T00:00:00\", \"AlterV05Sort\": 17, \"AlterV05Kurz\": \"80-84\", \"sum_WBev\": 10923}, {\"StichtagDatJahr\": \"2007-01-01T00:00:00\", \"AlterV05Sort\": 13, \"AlterV05Kurz\": \"60-64\", \"sum_WBev\": 17846}, {\"StichtagDatJahr\": \"2007-01-01T00:00:00\", \"AlterV05Sort\": 19, \"AlterV05Kurz\": \"90-94\", \"sum_WBev\": 2753}, {\"StichtagDatJahr\": \"2007-01-01T00:00:00\", \"AlterV05Sort\": 20, \"AlterV05Kurz\": \"95-99\", \"sum_WBev\": 753}, {\"StichtagDatJahr\": \"2007-01-01T00:00:00\", \"AlterV05Sort\": 18, \"AlterV05Kurz\": \"85-89\", \"sum_WBev\": 6544}, {\"StichtagDatJahr\": \"2007-01-01T00:00:00\", \"AlterV05Sort\": 12, \"AlterV05Kurz\": \"55-59\", \"sum_WBev\": 19602}, {\"StichtagDatJahr\": \"2007-01-01T00:00:00\", \"AlterV05Sort\": 11, \"AlterV05Kurz\": \"50-54\", \"sum_WBev\": 21766}, {\"StichtagDatJahr\": \"2007-01-01T00:00:00\", \"AlterV05Sort\": 10, \"AlterV05Kurz\": \"45-49\", \"sum_WBev\": 25393}, {\"StichtagDatJahr\": \"2007-01-01T00:00:00\", \"AlterV05Sort\": 2, \"AlterV05Kurz\": \"5-9\", \"sum_WBev\": 13880}, {\"StichtagDatJahr\": \"2007-01-01T00:00:00\", \"AlterV05Sort\": 3, \"AlterV05Kurz\": \"10-14\", \"sum_WBev\": 13235}, {\"StichtagDatJahr\": \"2007-01-01T00:00:00\", \"AlterV05Sort\": 4, \"AlterV05Kurz\": \"15-19\", \"sum_WBev\": 14602}, {\"StichtagDatJahr\": \"2007-01-01T00:00:00\", \"AlterV05Sort\": 5, \"AlterV05Kurz\": \"20-24\", \"sum_WBev\": 25386}, {\"StichtagDatJahr\": \"2007-01-01T00:00:00\", \"AlterV05Sort\": 1, \"AlterV05Kurz\": \"0-4\", \"sum_WBev\": 17538}, {\"StichtagDatJahr\": \"2007-01-01T00:00:00\", \"AlterV05Sort\": 7, \"AlterV05Kurz\": \"30-34\", \"sum_WBev\": 40180}, {\"StichtagDatJahr\": \"2007-01-01T00:00:00\", \"AlterV05Sort\": 8, \"AlterV05Kurz\": \"35-39\", \"sum_WBev\": 34232}, {\"StichtagDatJahr\": \"2007-01-01T00:00:00\", \"AlterV05Sort\": 9, \"AlterV05Kurz\": \"40-44\", \"sum_WBev\": 30972}, {\"StichtagDatJahr\": \"2007-01-01T00:00:00\", \"AlterV05Sort\": 6, \"AlterV05Kurz\": \"25-29\", \"sum_WBev\": 40218}, {\"StichtagDatJahr\": \"2008-01-01T00:00:00\", \"AlterV05Sort\": 12, \"AlterV05Kurz\": \"55-59\", \"sum_WBev\": 19613}, {\"StichtagDatJahr\": \"2008-01-01T00:00:00\", \"AlterV05Sort\": 20, \"AlterV05Kurz\": \"95-99\", \"sum_WBev\": 802}, {\"StichtagDatJahr\": \"2008-01-01T00:00:00\", \"AlterV05Sort\": 19, \"AlterV05Kurz\": \"90-94\", \"sum_WBev\": 2637}, {\"StichtagDatJahr\": \"2008-01-01T00:00:00\", \"AlterV05Sort\": 18, \"AlterV05Kurz\": \"85-89\", \"sum_WBev\": 6793}, {\"StichtagDatJahr\": \"2008-01-01T00:00:00\", \"AlterV05Sort\": 17, \"AlterV05Kurz\": \"80-84\", \"sum_WBev\": 10918}, {\"StichtagDatJahr\": \"2008-01-01T00:00:00\", \"AlterV05Sort\": 16, \"AlterV05Kurz\": \"75-79\", \"sum_WBev\": 12675}, {\"StichtagDatJahr\": \"2008-01-01T00:00:00\", \"AlterV05Sort\": 15, \"AlterV05Kurz\": \"70-74\", \"sum_WBev\": 13143}, {\"StichtagDatJahr\": \"2008-01-01T00:00:00\", \"AlterV05Sort\": 14, \"AlterV05Kurz\": \"65-69\", \"sum_WBev\": 14732}, {\"StichtagDatJahr\": \"2008-01-01T00:00:00\", \"AlterV05Sort\": 13, \"AlterV05Kurz\": \"60-64\", \"sum_WBev\": 17808}, {\"StichtagDatJahr\": \"2008-01-01T00:00:00\", \"AlterV05Sort\": 11, \"AlterV05Kurz\": \"50-54\", \"sum_WBev\": 22051}, {\"StichtagDatJahr\": \"2008-01-01T00:00:00\", \"AlterV05Sort\": 9, \"AlterV05Kurz\": \"40-44\", \"sum_WBev\": 31209}, {\"StichtagDatJahr\": \"2008-01-01T00:00:00\", \"AlterV05Sort\": 1, \"AlterV05Kurz\": \"0-4\", \"sum_WBev\": 18038}, {\"StichtagDatJahr\": \"2008-01-01T00:00:00\", \"AlterV05Sort\": 2, \"AlterV05Kurz\": \"5-9\", \"sum_WBev\": 14036}, {\"StichtagDatJahr\": \"2008-01-01T00:00:00\", \"AlterV05Sort\": 3, \"AlterV05Kurz\": \"10-14\", \"sum_WBev\": 13247}, {\"StichtagDatJahr\": \"2008-01-01T00:00:00\", \"AlterV05Sort\": 4, \"AlterV05Kurz\": \"15-19\", \"sum_WBev\": 14290}, {\"StichtagDatJahr\": \"2008-01-01T00:00:00\", \"AlterV05Sort\": 10, \"AlterV05Kurz\": \"45-49\", \"sum_WBev\": 26287}, {\"StichtagDatJahr\": \"2008-01-01T00:00:00\", \"AlterV05Sort\": 6, \"AlterV05Kurz\": \"25-29\", \"sum_WBev\": 40984}, {\"StichtagDatJahr\": \"2008-01-01T00:00:00\", \"AlterV05Sort\": 7, \"AlterV05Kurz\": \"30-34\", \"sum_WBev\": 41142}, {\"StichtagDatJahr\": \"2008-01-01T00:00:00\", \"AlterV05Sort\": 8, \"AlterV05Kurz\": \"35-39\", \"sum_WBev\": 34619}, {\"StichtagDatJahr\": \"2008-01-01T00:00:00\", \"AlterV05Sort\": 5, \"AlterV05Kurz\": \"20-24\", \"sum_WBev\": 25377}, {\"StichtagDatJahr\": \"2009-01-01T00:00:00\", \"AlterV05Sort\": 12, \"AlterV05Kurz\": \"55-59\", \"sum_WBev\": 19734}, {\"StichtagDatJahr\": \"2009-01-01T00:00:00\", \"AlterV05Sort\": 20, \"AlterV05Kurz\": \"95-99\", \"sum_WBev\": 811}, {\"StichtagDatJahr\": \"2009-01-01T00:00:00\", \"AlterV05Sort\": 19, \"AlterV05Kurz\": \"90-94\", \"sum_WBev\": 2554}, {\"StichtagDatJahr\": \"2009-01-01T00:00:00\", \"AlterV05Sort\": 18, \"AlterV05Kurz\": \"85-89\", \"sum_WBev\": 7030}, {\"StichtagDatJahr\": \"2009-01-01T00:00:00\", \"AlterV05Sort\": 17, \"AlterV05Kurz\": \"80-84\", \"sum_WBev\": 10863}, {\"StichtagDatJahr\": \"2009-01-01T00:00:00\", \"AlterV05Sort\": 16, \"AlterV05Kurz\": \"75-79\", \"sum_WBev\": 12416}, {\"StichtagDatJahr\": \"2009-01-01T00:00:00\", \"AlterV05Sort\": 15, \"AlterV05Kurz\": \"70-74\", \"sum_WBev\": 12880}, {\"StichtagDatJahr\": \"2009-01-01T00:00:00\", \"AlterV05Sort\": 14, \"AlterV05Kurz\": \"65-69\", \"sum_WBev\": 15046}, {\"StichtagDatJahr\": \"2009-01-01T00:00:00\", \"AlterV05Sort\": 13, \"AlterV05Kurz\": \"60-64\", \"sum_WBev\": 17671}, {\"StichtagDatJahr\": \"2009-01-01T00:00:00\", \"AlterV05Sort\": 11, \"AlterV05Kurz\": \"50-54\", \"sum_WBev\": 22333}, {\"StichtagDatJahr\": \"2009-01-01T00:00:00\", \"AlterV05Sort\": 9, \"AlterV05Kurz\": \"40-44\", \"sum_WBev\": 31122}, {\"StichtagDatJahr\": \"2009-01-01T00:00:00\", \"AlterV05Sort\": 8, \"AlterV05Kurz\": \"35-39\", \"sum_WBev\": 34898}, {\"StichtagDatJahr\": \"2009-01-01T00:00:00\", \"AlterV05Sort\": 7, \"AlterV05Kurz\": \"30-34\", \"sum_WBev\": 41979}, {\"StichtagDatJahr\": \"2009-01-01T00:00:00\", \"AlterV05Sort\": 6, \"AlterV05Kurz\": \"25-29\", \"sum_WBev\": 40604}, {\"StichtagDatJahr\": \"2009-01-01T00:00:00\", \"AlterV05Sort\": 5, \"AlterV05Kurz\": \"20-24\", \"sum_WBev\": 25304}, {\"StichtagDatJahr\": \"2009-01-01T00:00:00\", \"AlterV05Sort\": 4, \"AlterV05Kurz\": \"15-19\", \"sum_WBev\": 14194}, {\"StichtagDatJahr\": \"2009-01-01T00:00:00\", \"AlterV05Sort\": 3, \"AlterV05Kurz\": \"10-14\", \"sum_WBev\": 13207}, {\"StichtagDatJahr\": \"2009-01-01T00:00:00\", \"AlterV05Sort\": 2, \"AlterV05Kurz\": \"5-9\", \"sum_WBev\": 14141}, {\"StichtagDatJahr\": \"2009-01-01T00:00:00\", \"AlterV05Sort\": 1, \"AlterV05Kurz\": \"0-4\", \"sum_WBev\": 18874}, {\"StichtagDatJahr\": \"2009-01-01T00:00:00\", \"AlterV05Sort\": 10, \"AlterV05Kurz\": \"45-49\", \"sum_WBev\": 27156}, {\"StichtagDatJahr\": \"2010-01-01T00:00:00\", \"AlterV05Sort\": 13, \"AlterV05Kurz\": \"60-64\", \"sum_WBev\": 17658}, {\"StichtagDatJahr\": \"2010-01-01T00:00:00\", \"AlterV05Sort\": 14, \"AlterV05Kurz\": \"65-69\", \"sum_WBev\": 15345}, {\"StichtagDatJahr\": \"2010-01-01T00:00:00\", \"AlterV05Sort\": 15, \"AlterV05Kurz\": \"70-74\", \"sum_WBev\": 12673}, {\"StichtagDatJahr\": \"2010-01-01T00:00:00\", \"AlterV05Sort\": 16, \"AlterV05Kurz\": \"75-79\", \"sum_WBev\": 12092}, {\"StichtagDatJahr\": \"2010-01-01T00:00:00\", \"AlterV05Sort\": 12, \"AlterV05Kurz\": \"55-59\", \"sum_WBev\": 19699}, {\"StichtagDatJahr\": \"2010-01-01T00:00:00\", \"AlterV05Sort\": 18, \"AlterV05Kurz\": \"85-89\", \"sum_WBev\": 7198}, {\"StichtagDatJahr\": \"2010-01-01T00:00:00\", \"AlterV05Sort\": 19, \"AlterV05Kurz\": \"90-94\", \"sum_WBev\": 2757}, {\"StichtagDatJahr\": \"2010-01-01T00:00:00\", \"AlterV05Sort\": 20, \"AlterV05Kurz\": \"95-99\", \"sum_WBev\": 765}, {\"StichtagDatJahr\": \"2010-01-01T00:00:00\", \"AlterV05Sort\": 17, \"AlterV05Kurz\": \"80-84\", \"sum_WBev\": 10725}, {\"StichtagDatJahr\": \"2010-01-01T00:00:00\", \"AlterV05Sort\": 11, \"AlterV05Kurz\": \"50-54\", \"sum_WBev\": 22860}, {\"StichtagDatJahr\": \"2010-01-01T00:00:00\", \"AlterV05Sort\": 9, \"AlterV05Kurz\": \"40-44\", \"sum_WBev\": 31176}, {\"StichtagDatJahr\": \"2010-01-01T00:00:00\", \"AlterV05Sort\": 1, \"AlterV05Kurz\": \"0-4\", \"sum_WBev\": 19308}, {\"StichtagDatJahr\": \"2010-01-01T00:00:00\", \"AlterV05Sort\": 2, \"AlterV05Kurz\": \"5-9\", \"sum_WBev\": 14433}, {\"StichtagDatJahr\": \"2010-01-01T00:00:00\", \"AlterV05Sort\": 3, \"AlterV05Kurz\": \"10-14\", \"sum_WBev\": 13215}, {\"StichtagDatJahr\": \"2010-01-01T00:00:00\", \"AlterV05Sort\": 4, \"AlterV05Kurz\": \"15-19\", \"sum_WBev\": 14159}, {\"StichtagDatJahr\": \"2010-01-01T00:00:00\", \"AlterV05Sort\": 10, \"AlterV05Kurz\": \"45-49\", \"sum_WBev\": 27571}, {\"StichtagDatJahr\": \"2010-01-01T00:00:00\", \"AlterV05Sort\": 6, \"AlterV05Kurz\": \"25-29\", \"sum_WBev\": 39881}, {\"StichtagDatJahr\": \"2010-01-01T00:00:00\", \"AlterV05Sort\": 7, \"AlterV05Kurz\": \"30-34\", \"sum_WBev\": 43070}, {\"StichtagDatJahr\": \"2010-01-01T00:00:00\", \"AlterV05Sort\": 8, \"AlterV05Kurz\": \"35-39\", \"sum_WBev\": 35313}, {\"StichtagDatJahr\": \"2010-01-01T00:00:00\", \"AlterV05Sort\": 5, \"AlterV05Kurz\": \"20-24\", \"sum_WBev\": 25471}, {\"StichtagDatJahr\": \"2011-01-01T00:00:00\", \"AlterV05Sort\": 20, \"AlterV05Kurz\": \"95-99\", \"sum_WBev\": 744}, {\"StichtagDatJahr\": \"2011-01-01T00:00:00\", \"AlterV05Sort\": 19, \"AlterV05Kurz\": \"90-94\", \"sum_WBev\": 2965}, {\"StichtagDatJahr\": \"2011-01-01T00:00:00\", \"AlterV05Sort\": 18, \"AlterV05Kurz\": \"85-89\", \"sum_WBev\": 7263}, {\"StichtagDatJahr\": \"2011-01-01T00:00:00\", \"AlterV05Sort\": 17, \"AlterV05Kurz\": \"80-84\", \"sum_WBev\": 10503}, {\"StichtagDatJahr\": \"2011-01-01T00:00:00\", \"AlterV05Sort\": 16, \"AlterV05Kurz\": \"75-79\", \"sum_WBev\": 11858}, {\"StichtagDatJahr\": \"2011-01-01T00:00:00\", \"AlterV05Sort\": 15, \"AlterV05Kurz\": \"70-74\", \"sum_WBev\": 12731}, {\"StichtagDatJahr\": \"2011-01-01T00:00:00\", \"AlterV05Sort\": 13, \"AlterV05Kurz\": \"60-64\", \"sum_WBev\": 17502}, {\"StichtagDatJahr\": \"2011-01-01T00:00:00\", \"AlterV05Sort\": 12, \"AlterV05Kurz\": \"55-59\", \"sum_WBev\": 20113}, {\"StichtagDatJahr\": \"2011-01-01T00:00:00\", \"AlterV05Sort\": 14, \"AlterV05Kurz\": \"65-69\", \"sum_WBev\": 15517}, {\"StichtagDatJahr\": \"2011-01-01T00:00:00\", \"AlterV05Sort\": 11, \"AlterV05Kurz\": \"50-54\", \"sum_WBev\": 23117}, {\"StichtagDatJahr\": \"2011-01-01T00:00:00\", \"AlterV05Sort\": 9, \"AlterV05Kurz\": \"40-44\", \"sum_WBev\": 31337}, {\"StichtagDatJahr\": \"2011-01-01T00:00:00\", \"AlterV05Sort\": 8, \"AlterV05Kurz\": \"35-39\", \"sum_WBev\": 35978}, {\"StichtagDatJahr\": \"2011-01-01T00:00:00\", \"AlterV05Sort\": 7, \"AlterV05Kurz\": \"30-34\", \"sum_WBev\": 44032}, {\"StichtagDatJahr\": \"2011-01-01T00:00:00\", \"AlterV05Sort\": 6, \"AlterV05Kurz\": \"25-29\", \"sum_WBev\": 40269}, {\"StichtagDatJahr\": \"2011-01-01T00:00:00\", \"AlterV05Sort\": 5, \"AlterV05Kurz\": \"20-24\", \"sum_WBev\": 25891}, {\"StichtagDatJahr\": \"2011-01-01T00:00:00\", \"AlterV05Sort\": 4, \"AlterV05Kurz\": \"15-19\", \"sum_WBev\": 14035}, {\"StichtagDatJahr\": \"2011-01-01T00:00:00\", \"AlterV05Sort\": 3, \"AlterV05Kurz\": \"10-14\", \"sum_WBev\": 13075}, {\"StichtagDatJahr\": \"2011-01-01T00:00:00\", \"AlterV05Sort\": 2, \"AlterV05Kurz\": \"5-9\", \"sum_WBev\": 14895}, {\"StichtagDatJahr\": \"2011-01-01T00:00:00\", \"AlterV05Sort\": 1, \"AlterV05Kurz\": \"0-4\", \"sum_WBev\": 19892}, {\"StichtagDatJahr\": \"2011-01-01T00:00:00\", \"AlterV05Sort\": 10, \"AlterV05Kurz\": \"45-49\", \"sum_WBev\": 28264}, {\"StichtagDatJahr\": \"2012-01-01T00:00:00\", \"AlterV05Sort\": 13, \"AlterV05Kurz\": \"60-64\", \"sum_WBev\": 17502}, {\"StichtagDatJahr\": \"2012-01-01T00:00:00\", \"AlterV05Sort\": 14, \"AlterV05Kurz\": \"65-69\", \"sum_WBev\": 15540}, {\"StichtagDatJahr\": \"2012-01-01T00:00:00\", \"AlterV05Sort\": 15, \"AlterV05Kurz\": \"70-74\", \"sum_WBev\": 12951}, {\"StichtagDatJahr\": \"2012-01-01T00:00:00\", \"AlterV05Sort\": 16, \"AlterV05Kurz\": \"75-79\", \"sum_WBev\": 11663}, {\"StichtagDatJahr\": \"2012-01-01T00:00:00\", \"AlterV05Sort\": 12, \"AlterV05Kurz\": \"55-59\", \"sum_WBev\": 20074}, {\"StichtagDatJahr\": \"2012-01-01T00:00:00\", \"AlterV05Sort\": 18, \"AlterV05Kurz\": \"85-89\", \"sum_WBev\": 7184}, {\"StichtagDatJahr\": \"2012-01-01T00:00:00\", \"AlterV05Sort\": 19, \"AlterV05Kurz\": \"90-94\", \"sum_WBev\": 3213}, {\"StichtagDatJahr\": \"2012-01-01T00:00:00\", \"AlterV05Sort\": 20, \"AlterV05Kurz\": \"95-99\", \"sum_WBev\": 735}, {\"StichtagDatJahr\": \"2012-01-01T00:00:00\", \"AlterV05Sort\": 17, \"AlterV05Kurz\": \"80-84\", \"sum_WBev\": 10326}, {\"StichtagDatJahr\": \"2012-01-01T00:00:00\", \"AlterV05Sort\": 11, \"AlterV05Kurz\": \"50-54\", \"sum_WBev\": 23741}, {\"StichtagDatJahr\": \"2012-01-01T00:00:00\", \"AlterV05Sort\": 9, \"AlterV05Kurz\": \"40-44\", \"sum_WBev\": 31187}, {\"StichtagDatJahr\": \"2012-01-01T00:00:00\", \"AlterV05Sort\": 1, \"AlterV05Kurz\": \"0-4\", \"sum_WBev\": 20358}, {\"StichtagDatJahr\": \"2012-01-01T00:00:00\", \"AlterV05Sort\": 2, \"AlterV05Kurz\": \"5-9\", \"sum_WBev\": 15363}, {\"StichtagDatJahr\": \"2012-01-01T00:00:00\", \"AlterV05Sort\": 3, \"AlterV05Kurz\": \"10-14\", \"sum_WBev\": 13244}, {\"StichtagDatJahr\": \"2012-01-01T00:00:00\", \"AlterV05Sort\": 4, \"AlterV05Kurz\": \"15-19\", \"sum_WBev\": 13792}, {\"StichtagDatJahr\": \"2012-01-01T00:00:00\", \"AlterV05Sort\": 10, \"AlterV05Kurz\": \"45-49\", \"sum_WBev\": 28791}, {\"StichtagDatJahr\": \"2012-01-01T00:00:00\", \"AlterV05Sort\": 6, \"AlterV05Kurz\": \"25-29\", \"sum_WBev\": 40385}, {\"StichtagDatJahr\": \"2012-01-01T00:00:00\", \"AlterV05Sort\": 7, \"AlterV05Kurz\": \"30-34\", \"sum_WBev\": 44689}, {\"StichtagDatJahr\": \"2012-01-01T00:00:00\", \"AlterV05Sort\": 8, \"AlterV05Kurz\": \"35-39\", \"sum_WBev\": 37052}, {\"StichtagDatJahr\": \"2012-01-01T00:00:00\", \"AlterV05Sort\": 5, \"AlterV05Kurz\": \"20-24\", \"sum_WBev\": 26130}, {\"StichtagDatJahr\": \"2013-01-01T00:00:00\", \"AlterV05Sort\": 12, \"AlterV05Kurz\": \"55-59\", \"sum_WBev\": 20347}, {\"StichtagDatJahr\": \"2013-01-01T00:00:00\", \"AlterV05Sort\": 20, \"AlterV05Kurz\": \"95-99\", \"sum_WBev\": 714}, {\"StichtagDatJahr\": \"2013-01-01T00:00:00\", \"AlterV05Sort\": 19, \"AlterV05Kurz\": \"90-94\", \"sum_WBev\": 3339}, {\"StichtagDatJahr\": \"2013-01-01T00:00:00\", \"AlterV05Sort\": 18, \"AlterV05Kurz\": \"85-89\", \"sum_WBev\": 7140}, {\"StichtagDatJahr\": \"2013-01-01T00:00:00\", \"AlterV05Sort\": 17, \"AlterV05Kurz\": \"80-84\", \"sum_WBev\": 10120}, {\"StichtagDatJahr\": \"2013-01-01T00:00:00\", \"AlterV05Sort\": 16, \"AlterV05Kurz\": \"75-79\", \"sum_WBev\": 11434}, {\"StichtagDatJahr\": \"2013-01-01T00:00:00\", \"AlterV05Sort\": 15, \"AlterV05Kurz\": \"70-74\", \"sum_WBev\": 13166}, {\"StichtagDatJahr\": \"2013-01-01T00:00:00\", \"AlterV05Sort\": 14, \"AlterV05Kurz\": \"65-69\", \"sum_WBev\": 15587}, {\"StichtagDatJahr\": \"2013-01-01T00:00:00\", \"AlterV05Sort\": 13, \"AlterV05Kurz\": \"60-64\", \"sum_WBev\": 17625}, {\"StichtagDatJahr\": \"2013-01-01T00:00:00\", \"AlterV05Sort\": 11, \"AlterV05Kurz\": \"50-54\", \"sum_WBev\": 24487}, {\"StichtagDatJahr\": \"2013-01-01T00:00:00\", \"AlterV05Sort\": 9, \"AlterV05Kurz\": \"40-44\", \"sum_WBev\": 31451}, {\"StichtagDatJahr\": \"2013-01-01T00:00:00\", \"AlterV05Sort\": 8, \"AlterV05Kurz\": \"35-39\", \"sum_WBev\": 37833}, {\"StichtagDatJahr\": \"2013-01-01T00:00:00\", \"AlterV05Sort\": 7, \"AlterV05Kurz\": \"30-34\", \"sum_WBev\": 45057}, {\"StichtagDatJahr\": \"2013-01-01T00:00:00\", \"AlterV05Sort\": 6, \"AlterV05Kurz\": \"25-29\", \"sum_WBev\": 41224}, {\"StichtagDatJahr\": \"2013-01-01T00:00:00\", \"AlterV05Sort\": 5, \"AlterV05Kurz\": \"20-24\", \"sum_WBev\": 25838}, {\"StichtagDatJahr\": \"2013-01-01T00:00:00\", \"AlterV05Sort\": 4, \"AlterV05Kurz\": \"15-19\", \"sum_WBev\": 13809}, {\"StichtagDatJahr\": \"2013-01-01T00:00:00\", \"AlterV05Sort\": 3, \"AlterV05Kurz\": \"10-14\", \"sum_WBev\": 13416}, {\"StichtagDatJahr\": \"2013-01-01T00:00:00\", \"AlterV05Sort\": 2, \"AlterV05Kurz\": \"5-9\", \"sum_WBev\": 15886}, {\"StichtagDatJahr\": \"2013-01-01T00:00:00\", \"AlterV05Sort\": 1, \"AlterV05Kurz\": \"0-4\", \"sum_WBev\": 20828}, {\"StichtagDatJahr\": \"2013-01-01T00:00:00\", \"AlterV05Sort\": 10, \"AlterV05Kurz\": \"45-49\", \"sum_WBev\": 29173}, {\"StichtagDatJahr\": \"2014-01-01T00:00:00\", \"AlterV05Sort\": 13, \"AlterV05Kurz\": \"60-64\", \"sum_WBev\": 17742}, {\"StichtagDatJahr\": \"2014-01-01T00:00:00\", \"AlterV05Sort\": 14, \"AlterV05Kurz\": \"65-69\", \"sum_WBev\": 15495}, {\"StichtagDatJahr\": \"2014-01-01T00:00:00\", \"AlterV05Sort\": 15, \"AlterV05Kurz\": \"70-74\", \"sum_WBev\": 13468}, {\"StichtagDatJahr\": \"2014-01-01T00:00:00\", \"AlterV05Sort\": 17, \"AlterV05Kurz\": \"80-84\", \"sum_WBev\": 9946}, {\"StichtagDatJahr\": \"2014-01-01T00:00:00\", \"AlterV05Sort\": 12, \"AlterV05Kurz\": \"55-59\", \"sum_WBev\": 20722}, {\"StichtagDatJahr\": \"2014-01-01T00:00:00\", \"AlterV05Sort\": 19, \"AlterV05Kurz\": \"90-94\", \"sum_WBev\": 3369}, {\"StichtagDatJahr\": \"2014-01-01T00:00:00\", \"AlterV05Sort\": 20, \"AlterV05Kurz\": \"95-99\", \"sum_WBev\": 717}, {\"StichtagDatJahr\": \"2014-01-01T00:00:00\", \"AlterV05Sort\": 18, \"AlterV05Kurz\": \"85-89\", \"sum_WBev\": 7149}, {\"StichtagDatJahr\": \"2014-01-01T00:00:00\", \"AlterV05Sort\": 11, \"AlterV05Kurz\": \"50-54\", \"sum_WBev\": 25466}, {\"StichtagDatJahr\": \"2014-01-01T00:00:00\", \"AlterV05Sort\": 16, \"AlterV05Kurz\": \"75-79\", \"sum_WBev\": 11237}, {\"StichtagDatJahr\": \"2014-01-01T00:00:00\", \"AlterV05Sort\": 9, \"AlterV05Kurz\": \"40-44\", \"sum_WBev\": 31743}, {\"StichtagDatJahr\": \"2014-01-01T00:00:00\", \"AlterV05Sort\": 2, \"AlterV05Kurz\": \"5-9\", \"sum_WBev\": 16585}, {\"StichtagDatJahr\": \"2014-01-01T00:00:00\", \"AlterV05Sort\": 3, \"AlterV05Kurz\": \"10-14\", \"sum_WBev\": 13601}, {\"StichtagDatJahr\": \"2014-01-01T00:00:00\", \"AlterV05Sort\": 4, \"AlterV05Kurz\": \"15-19\", \"sum_WBev\": 13908}, {\"StichtagDatJahr\": \"2014-01-01T00:00:00\", \"AlterV05Sort\": 5, \"AlterV05Kurz\": \"20-24\", \"sum_WBev\": 26179}, {\"StichtagDatJahr\": \"2014-01-01T00:00:00\", \"AlterV05Sort\": 1, \"AlterV05Kurz\": \"0-4\", \"sum_WBev\": 21451}, {\"StichtagDatJahr\": \"2014-01-01T00:00:00\", \"AlterV05Sort\": 6, \"AlterV05Kurz\": \"25-29\", \"sum_WBev\": 42133}, {\"StichtagDatJahr\": \"2014-01-01T00:00:00\", \"AlterV05Sort\": 7, \"AlterV05Kurz\": \"30-34\", \"sum_WBev\": 45753}, {\"StichtagDatJahr\": \"2014-01-01T00:00:00\", \"AlterV05Sort\": 8, \"AlterV05Kurz\": \"35-39\", \"sum_WBev\": 38789}, {\"StichtagDatJahr\": \"2014-01-01T00:00:00\", \"AlterV05Sort\": 10, \"AlterV05Kurz\": \"45-49\", \"sum_WBev\": 29226}, {\"StichtagDatJahr\": \"2015-01-01T00:00:00\", \"AlterV05Sort\": 13, \"AlterV05Kurz\": \"60-64\", \"sum_WBev\": 17832}, {\"StichtagDatJahr\": \"2015-01-01T00:00:00\", \"AlterV05Sort\": 20, \"AlterV05Kurz\": \"95-99\", \"sum_WBev\": 755}, {\"StichtagDatJahr\": \"2015-01-01T00:00:00\", \"AlterV05Sort\": 19, \"AlterV05Kurz\": \"90-94\", \"sum_WBev\": 3324}, {\"StichtagDatJahr\": \"2015-01-01T00:00:00\", \"AlterV05Sort\": 18, \"AlterV05Kurz\": \"85-89\", \"sum_WBev\": 7199}, {\"StichtagDatJahr\": \"2015-01-01T00:00:00\", \"AlterV05Sort\": 17, \"AlterV05Kurz\": \"80-84\", \"sum_WBev\": 9682}, {\"StichtagDatJahr\": \"2015-01-01T00:00:00\", \"AlterV05Sort\": 16, \"AlterV05Kurz\": \"75-79\", \"sum_WBev\": 11029}, {\"StichtagDatJahr\": \"2015-01-01T00:00:00\", \"AlterV05Sort\": 15, \"AlterV05Kurz\": \"70-74\", \"sum_WBev\": 13868}, {\"StichtagDatJahr\": \"2015-01-01T00:00:00\", \"AlterV05Sort\": 14, \"AlterV05Kurz\": \"65-69\", \"sum_WBev\": 15506}, {\"StichtagDatJahr\": \"2015-01-01T00:00:00\", \"AlterV05Sort\": 12, \"AlterV05Kurz\": \"55-59\", \"sum_WBev\": 21388}, {\"StichtagDatJahr\": \"2015-01-01T00:00:00\", \"AlterV05Sort\": 11, \"AlterV05Kurz\": \"50-54\", \"sum_WBev\": 26116}, {\"StichtagDatJahr\": \"2015-01-01T00:00:00\", \"AlterV05Sort\": 10, \"AlterV05Kurz\": \"45-49\", \"sum_WBev\": 29462}, {\"StichtagDatJahr\": \"2015-01-01T00:00:00\", \"AlterV05Sort\": 2, \"AlterV05Kurz\": \"5-9\", \"sum_WBev\": 17166}, {\"StichtagDatJahr\": \"2015-01-01T00:00:00\", \"AlterV05Sort\": 3, \"AlterV05Kurz\": \"10-14\", \"sum_WBev\": 13913}, {\"StichtagDatJahr\": \"2015-01-01T00:00:00\", \"AlterV05Sort\": 4, \"AlterV05Kurz\": \"15-19\", \"sum_WBev\": 14007}, {\"StichtagDatJahr\": \"2015-01-01T00:00:00\", \"AlterV05Sort\": 5, \"AlterV05Kurz\": \"20-24\", \"sum_WBev\": 25953}, {\"StichtagDatJahr\": \"2015-01-01T00:00:00\", \"AlterV05Sort\": 1, \"AlterV05Kurz\": \"0-4\", \"sum_WBev\": 21939}, {\"StichtagDatJahr\": \"2015-01-01T00:00:00\", \"AlterV05Sort\": 7, \"AlterV05Kurz\": \"30-34\", \"sum_WBev\": 46057}, {\"StichtagDatJahr\": \"2015-01-01T00:00:00\", \"AlterV05Sort\": 8, \"AlterV05Kurz\": \"35-39\", \"sum_WBev\": 40055}, {\"StichtagDatJahr\": \"2015-01-01T00:00:00\", \"AlterV05Sort\": 9, \"AlterV05Kurz\": \"40-44\", \"sum_WBev\": 32036}, {\"StichtagDatJahr\": \"2015-01-01T00:00:00\", \"AlterV05Sort\": 6, \"AlterV05Kurz\": \"25-29\", \"sum_WBev\": 43011}, {\"StichtagDatJahr\": \"2016-01-01T00:00:00\", \"AlterV05Sort\": 13, \"AlterV05Kurz\": \"60-64\", \"sum_WBev\": 18167}, {\"StichtagDatJahr\": \"2016-01-01T00:00:00\", \"AlterV05Sort\": 20, \"AlterV05Kurz\": \"95-99\", \"sum_WBev\": 852}, {\"StichtagDatJahr\": \"2016-01-01T00:00:00\", \"AlterV05Sort\": 19, \"AlterV05Kurz\": \"90-94\", \"sum_WBev\": 3425}, {\"StichtagDatJahr\": \"2016-01-01T00:00:00\", \"AlterV05Sort\": 18, \"AlterV05Kurz\": \"85-89\", \"sum_WBev\": 7124}, {\"StichtagDatJahr\": \"2016-01-01T00:00:00\", \"AlterV05Sort\": 17, \"AlterV05Kurz\": \"80-84\", \"sum_WBev\": 9565}, {\"StichtagDatJahr\": \"2016-01-01T00:00:00\", \"AlterV05Sort\": 16, \"AlterV05Kurz\": \"75-79\", \"sum_WBev\": 11079}, {\"StichtagDatJahr\": \"2016-01-01T00:00:00\", \"AlterV05Sort\": 15, \"AlterV05Kurz\": \"70-74\", \"sum_WBev\": 13990}, {\"StichtagDatJahr\": \"2016-01-01T00:00:00\", \"AlterV05Sort\": 14, \"AlterV05Kurz\": \"65-69\", \"sum_WBev\": 15381}, {\"StichtagDatJahr\": \"2016-01-01T00:00:00\", \"AlterV05Sort\": 12, \"AlterV05Kurz\": \"55-59\", \"sum_WBev\": 21712}, {\"StichtagDatJahr\": \"2016-01-01T00:00:00\", \"AlterV05Sort\": 11, \"AlterV05Kurz\": \"50-54\", \"sum_WBev\": 26786}, {\"StichtagDatJahr\": \"2016-01-01T00:00:00\", \"AlterV05Sort\": 10, \"AlterV05Kurz\": \"45-49\", \"sum_WBev\": 29500}, {\"StichtagDatJahr\": \"2016-01-01T00:00:00\", \"AlterV05Sort\": 2, \"AlterV05Kurz\": \"5-9\", \"sum_WBev\": 17772}, {\"StichtagDatJahr\": \"2016-01-01T00:00:00\", \"AlterV05Sort\": 3, \"AlterV05Kurz\": \"10-14\", \"sum_WBev\": 14437}, {\"StichtagDatJahr\": \"2016-01-01T00:00:00\", \"AlterV05Sort\": 4, \"AlterV05Kurz\": \"15-19\", \"sum_WBev\": 14139}, {\"StichtagDatJahr\": \"2016-01-01T00:00:00\", \"AlterV05Sort\": 5, \"AlterV05Kurz\": \"20-24\", \"sum_WBev\": 25776}, {\"StichtagDatJahr\": \"2016-01-01T00:00:00\", \"AlterV05Sort\": 1, \"AlterV05Kurz\": \"0-4\", \"sum_WBev\": 22327}, {\"StichtagDatJahr\": \"2016-01-01T00:00:00\", \"AlterV05Sort\": 7, \"AlterV05Kurz\": \"30-34\", \"sum_WBev\": 46186}, {\"StichtagDatJahr\": \"2016-01-01T00:00:00\", \"AlterV05Sort\": 8, \"AlterV05Kurz\": \"35-39\", \"sum_WBev\": 40881}, {\"StichtagDatJahr\": \"2016-01-01T00:00:00\", \"AlterV05Sort\": 9, \"AlterV05Kurz\": \"40-44\", \"sum_WBev\": 32740}, {\"StichtagDatJahr\": \"2016-01-01T00:00:00\", \"AlterV05Sort\": 6, \"AlterV05Kurz\": \"25-29\", \"sum_WBev\": 43745}, {\"StichtagDatJahr\": \"2017-01-01T00:00:00\", \"AlterV05Sort\": 13, \"AlterV05Kurz\": \"60-64\", \"sum_WBev\": 18159}, {\"StichtagDatJahr\": \"2017-01-01T00:00:00\", \"AlterV05Sort\": 20, \"AlterV05Kurz\": \"95-99\", \"sum_WBev\": 899}, {\"StichtagDatJahr\": \"2017-01-01T00:00:00\", \"AlterV05Sort\": 19, \"AlterV05Kurz\": \"90-94\", \"sum_WBev\": 3418}, {\"StichtagDatJahr\": \"2017-01-01T00:00:00\", \"AlterV05Sort\": 18, \"AlterV05Kurz\": \"85-89\", \"sum_WBev\": 6930}, {\"StichtagDatJahr\": \"2017-01-01T00:00:00\", \"AlterV05Sort\": 17, \"AlterV05Kurz\": \"80-84\", \"sum_WBev\": 9459}, {\"StichtagDatJahr\": \"2017-01-01T00:00:00\", \"AlterV05Sort\": 16, \"AlterV05Kurz\": \"75-79\", \"sum_WBev\": 11283}, {\"StichtagDatJahr\": \"2017-01-01T00:00:00\", \"AlterV05Sort\": 15, \"AlterV05Kurz\": \"70-74\", \"sum_WBev\": 14065}, {\"StichtagDatJahr\": \"2017-01-01T00:00:00\", \"AlterV05Sort\": 14, \"AlterV05Kurz\": \"65-69\", \"sum_WBev\": 15448}, {\"StichtagDatJahr\": \"2017-01-01T00:00:00\", \"AlterV05Sort\": 12, \"AlterV05Kurz\": \"55-59\", \"sum_WBev\": 22332}, {\"StichtagDatJahr\": \"2017-01-01T00:00:00\", \"AlterV05Sort\": 11, \"AlterV05Kurz\": \"50-54\", \"sum_WBev\": 27398}, {\"StichtagDatJahr\": \"2017-01-01T00:00:00\", \"AlterV05Sort\": 10, \"AlterV05Kurz\": \"45-49\", \"sum_WBev\": 29551}, {\"StichtagDatJahr\": \"2017-01-01T00:00:00\", \"AlterV05Sort\": 2, \"AlterV05Kurz\": \"5-9\", \"sum_WBev\": 18379}, {\"StichtagDatJahr\": \"2017-01-01T00:00:00\", \"AlterV05Sort\": 3, \"AlterV05Kurz\": \"10-14\", \"sum_WBev\": 14988}, {\"StichtagDatJahr\": \"2017-01-01T00:00:00\", \"AlterV05Sort\": 4, \"AlterV05Kurz\": \"15-19\", \"sum_WBev\": 14437}, {\"StichtagDatJahr\": \"2017-01-01T00:00:00\", \"AlterV05Sort\": 5, \"AlterV05Kurz\": \"20-24\", \"sum_WBev\": 26041}, {\"StichtagDatJahr\": \"2017-01-01T00:00:00\", \"AlterV05Sort\": 1, \"AlterV05Kurz\": \"0-4\", \"sum_WBev\": 23102}, {\"StichtagDatJahr\": \"2017-01-01T00:00:00\", \"AlterV05Sort\": 7, \"AlterV05Kurz\": \"30-34\", \"sum_WBev\": 47383}, {\"StichtagDatJahr\": \"2017-01-01T00:00:00\", \"AlterV05Sort\": 8, \"AlterV05Kurz\": \"35-39\", \"sum_WBev\": 41932}, {\"StichtagDatJahr\": \"2017-01-01T00:00:00\", \"AlterV05Sort\": 9, \"AlterV05Kurz\": \"40-44\", \"sum_WBev\": 33733}, {\"StichtagDatJahr\": \"2017-01-01T00:00:00\", \"AlterV05Sort\": 6, \"AlterV05Kurz\": \"25-29\", \"sum_WBev\": 44268}, {\"StichtagDatJahr\": \"2018-01-01T00:00:00\", \"AlterV05Sort\": 13, \"AlterV05Kurz\": \"60-64\", \"sum_WBev\": 18399}, {\"StichtagDatJahr\": \"2018-01-01T00:00:00\", \"AlterV05Sort\": 20, \"AlterV05Kurz\": \"95-99\", \"sum_WBev\": 929}, {\"StichtagDatJahr\": \"2018-01-01T00:00:00\", \"AlterV05Sort\": 19, \"AlterV05Kurz\": \"90-94\", \"sum_WBev\": 3387}, {\"StichtagDatJahr\": \"2018-01-01T00:00:00\", \"AlterV05Sort\": 18, \"AlterV05Kurz\": \"85-89\", \"sum_WBev\": 6857}, {\"StichtagDatJahr\": \"2018-01-01T00:00:00\", \"AlterV05Sort\": 17, \"AlterV05Kurz\": \"80-84\", \"sum_WBev\": 9232}, {\"StichtagDatJahr\": \"2018-01-01T00:00:00\", \"AlterV05Sort\": 16, \"AlterV05Kurz\": \"75-79\", \"sum_WBev\": 11498}, {\"StichtagDatJahr\": \"2018-01-01T00:00:00\", \"AlterV05Sort\": 15, \"AlterV05Kurz\": \"70-74\", \"sum_WBev\": 13997}, {\"StichtagDatJahr\": \"2018-01-01T00:00:00\", \"AlterV05Sort\": 14, \"AlterV05Kurz\": \"65-69\", \"sum_WBev\": 15472}, {\"StichtagDatJahr\": \"2018-01-01T00:00:00\", \"AlterV05Sort\": 12, \"AlterV05Kurz\": \"55-59\", \"sum_WBev\": 23026}, {\"StichtagDatJahr\": \"2018-01-01T00:00:00\", \"AlterV05Sort\": 6, \"AlterV05Kurz\": \"25-29\", \"sum_WBev\": 44264}, {\"StichtagDatJahr\": \"2018-01-01T00:00:00\", \"AlterV05Sort\": 10, \"AlterV05Kurz\": \"45-49\", \"sum_WBev\": 29505}, {\"StichtagDatJahr\": \"2018-01-01T00:00:00\", \"AlterV05Sort\": 1, \"AlterV05Kurz\": \"0-4\", \"sum_WBev\": 23369}, {\"StichtagDatJahr\": \"2018-01-01T00:00:00\", \"AlterV05Sort\": 2, \"AlterV05Kurz\": \"5-9\", \"sum_WBev\": 19011}, {\"StichtagDatJahr\": \"2018-01-01T00:00:00\", \"AlterV05Sort\": 3, \"AlterV05Kurz\": \"10-14\", \"sum_WBev\": 15579}, {\"StichtagDatJahr\": \"2018-01-01T00:00:00\", \"AlterV05Sort\": 4, \"AlterV05Kurz\": \"15-19\", \"sum_WBev\": 14620}, {\"StichtagDatJahr\": \"2018-01-01T00:00:00\", \"AlterV05Sort\": 11, \"AlterV05Kurz\": \"50-54\", \"sum_WBev\": 27744}, {\"StichtagDatJahr\": \"2018-01-01T00:00:00\", \"AlterV05Sort\": 7, \"AlterV05Kurz\": \"30-34\", \"sum_WBev\": 48548}, {\"StichtagDatJahr\": \"2018-01-01T00:00:00\", \"AlterV05Sort\": 8, \"AlterV05Kurz\": \"35-39\", \"sum_WBev\": 42349}, {\"StichtagDatJahr\": \"2018-01-01T00:00:00\", \"AlterV05Sort\": 9, \"AlterV05Kurz\": \"40-44\", \"sum_WBev\": 34564}, {\"StichtagDatJahr\": \"2018-01-01T00:00:00\", \"AlterV05Sort\": 5, \"AlterV05Kurz\": \"20-24\", \"sum_WBev\": 26294}, {\"StichtagDatJahr\": \"2019-01-01T00:00:00\", \"AlterV05Sort\": 13, \"AlterV05Kurz\": \"60-64\", \"sum_WBev\": 18673}, {\"StichtagDatJahr\": \"2019-01-01T00:00:00\", \"AlterV05Sort\": 20, \"AlterV05Kurz\": \"95-99\", \"sum_WBev\": 970}, {\"StichtagDatJahr\": \"2019-01-01T00:00:00\", \"AlterV05Sort\": 19, \"AlterV05Kurz\": \"90-94\", \"sum_WBev\": 3459}, {\"StichtagDatJahr\": \"2019-01-01T00:00:00\", \"AlterV05Sort\": 18, \"AlterV05Kurz\": \"85-89\", \"sum_WBev\": 6744}, {\"StichtagDatJahr\": \"2019-01-01T00:00:00\", \"AlterV05Sort\": 17, \"AlterV05Kurz\": \"80-84\", \"sum_WBev\": 9111}, {\"StichtagDatJahr\": \"2019-01-01T00:00:00\", \"AlterV05Sort\": 16, \"AlterV05Kurz\": \"75-79\", \"sum_WBev\": 11794}, {\"StichtagDatJahr\": \"2019-01-01T00:00:00\", \"AlterV05Sort\": 15, \"AlterV05Kurz\": \"70-74\", \"sum_WBev\": 13873}, {\"StichtagDatJahr\": \"2019-01-01T00:00:00\", \"AlterV05Sort\": 14, \"AlterV05Kurz\": \"65-69\", \"sum_WBev\": 15570}, {\"StichtagDatJahr\": \"2019-01-01T00:00:00\", \"AlterV05Sort\": 12, \"AlterV05Kurz\": \"55-59\", \"sum_WBev\": 23751}, {\"StichtagDatJahr\": \"2019-01-01T00:00:00\", \"AlterV05Sort\": 11, \"AlterV05Kurz\": \"50-54\", \"sum_WBev\": 27796}, {\"StichtagDatJahr\": \"2019-01-01T00:00:00\", \"AlterV05Sort\": 10, \"AlterV05Kurz\": \"45-49\", \"sum_WBev\": 29665}, {\"StichtagDatJahr\": \"2019-01-01T00:00:00\", \"AlterV05Sort\": 2, \"AlterV05Kurz\": \"5-9\", \"sum_WBev\": 19514}, {\"StichtagDatJahr\": \"2019-01-01T00:00:00\", \"AlterV05Sort\": 3, \"AlterV05Kurz\": \"10-14\", \"sum_WBev\": 16295}, {\"StichtagDatJahr\": \"2019-01-01T00:00:00\", \"AlterV05Sort\": 4, \"AlterV05Kurz\": \"15-19\", \"sum_WBev\": 14840}, {\"StichtagDatJahr\": \"2019-01-01T00:00:00\", \"AlterV05Sort\": 5, \"AlterV05Kurz\": \"20-24\", \"sum_WBev\": 26901}, {\"StichtagDatJahr\": \"2019-01-01T00:00:00\", \"AlterV05Sort\": 1, \"AlterV05Kurz\": \"0-4\", \"sum_WBev\": 23221}, {\"StichtagDatJahr\": \"2019-01-01T00:00:00\", \"AlterV05Sort\": 7, \"AlterV05Kurz\": \"30-34\", \"sum_WBev\": 49445}, {\"StichtagDatJahr\": \"2019-01-01T00:00:00\", \"AlterV05Sort\": 8, \"AlterV05Kurz\": \"35-39\", \"sum_WBev\": 42811}, {\"StichtagDatJahr\": \"2019-01-01T00:00:00\", \"AlterV05Sort\": 9, \"AlterV05Kurz\": \"40-44\", \"sum_WBev\": 35317}, {\"StichtagDatJahr\": \"2019-01-01T00:00:00\", \"AlterV05Sort\": 6, \"AlterV05Kurz\": \"25-29\", \"sum_WBev\": 44156}, {\"StichtagDatJahr\": \"2020-01-01T00:00:00\", \"AlterV05Sort\": 13, \"AlterV05Kurz\": \"60-64\", \"sum_WBev\": 19063}, {\"StichtagDatJahr\": \"2020-01-01T00:00:00\", \"AlterV05Sort\": 20, \"AlterV05Kurz\": \"95-99\", \"sum_WBev\": 935}, {\"StichtagDatJahr\": \"2020-01-01T00:00:00\", \"AlterV05Sort\": 19, \"AlterV05Kurz\": \"90-94\", \"sum_WBev\": 3443}, {\"StichtagDatJahr\": \"2020-01-01T00:00:00\", \"AlterV05Sort\": 18, \"AlterV05Kurz\": \"85-89\", \"sum_WBev\": 6581}, {\"StichtagDatJahr\": \"2020-01-01T00:00:00\", \"AlterV05Sort\": 17, \"AlterV05Kurz\": \"80-84\", \"sum_WBev\": 8895}, {\"StichtagDatJahr\": \"2020-01-01T00:00:00\", \"AlterV05Sort\": 16, \"AlterV05Kurz\": \"75-79\", \"sum_WBev\": 12129}, {\"StichtagDatJahr\": \"2020-01-01T00:00:00\", \"AlterV05Sort\": 15, \"AlterV05Kurz\": \"70-74\", \"sum_WBev\": 13795}, {\"StichtagDatJahr\": \"2020-01-01T00:00:00\", \"AlterV05Sort\": 14, \"AlterV05Kurz\": \"65-69\", \"sum_WBev\": 15494}, {\"StichtagDatJahr\": \"2020-01-01T00:00:00\", \"AlterV05Sort\": 12, \"AlterV05Kurz\": \"55-59\", \"sum_WBev\": 24242}, {\"StichtagDatJahr\": \"2020-01-01T00:00:00\", \"AlterV05Sort\": 6, \"AlterV05Kurz\": \"25-29\", \"sum_WBev\": 43280}, {\"StichtagDatJahr\": \"2020-01-01T00:00:00\", \"AlterV05Sort\": 10, \"AlterV05Kurz\": \"45-49\", \"sum_WBev\": 29987}, {\"StichtagDatJahr\": \"2020-01-01T00:00:00\", \"AlterV05Sort\": 9, \"AlterV05Kurz\": \"40-44\", \"sum_WBev\": 36139}, {\"StichtagDatJahr\": \"2020-01-01T00:00:00\", \"AlterV05Sort\": 8, \"AlterV05Kurz\": \"35-39\", \"sum_WBev\": 42528}, {\"StichtagDatJahr\": \"2020-01-01T00:00:00\", \"AlterV05Sort\": 7, \"AlterV05Kurz\": \"30-34\", \"sum_WBev\": 49375}, {\"StichtagDatJahr\": \"2020-01-01T00:00:00\", \"AlterV05Sort\": 5, \"AlterV05Kurz\": \"20-24\", \"sum_WBev\": 26428}, {\"StichtagDatJahr\": \"2020-01-01T00:00:00\", \"AlterV05Sort\": 4, \"AlterV05Kurz\": \"15-19\", \"sum_WBev\": 14990}, {\"StichtagDatJahr\": \"2020-01-01T00:00:00\", \"AlterV05Sort\": 3, \"AlterV05Kurz\": \"10-14\", \"sum_WBev\": 16714}, {\"StichtagDatJahr\": \"2020-01-01T00:00:00\", \"AlterV05Sort\": 2, \"AlterV05Kurz\": \"5-9\", \"sum_WBev\": 19971}, {\"StichtagDatJahr\": \"2020-01-01T00:00:00\", \"AlterV05Sort\": 1, \"AlterV05Kurz\": \"0-4\", \"sum_WBev\": 22895}, {\"StichtagDatJahr\": \"2020-01-01T00:00:00\", \"AlterV05Sort\": 11, \"AlterV05Kurz\": \"50-54\", \"sum_WBev\": 27736}, {\"StichtagDatJahr\": \"2021-01-01T00:00:00\", \"AlterV05Sort\": 13, \"AlterV05Kurz\": \"60-64\", \"sum_WBev\": 19294}, {\"StichtagDatJahr\": \"2021-01-01T00:00:00\", \"AlterV05Sort\": 14, \"AlterV05Kurz\": \"65-69\", \"sum_WBev\": 15635}, {\"StichtagDatJahr\": \"2021-01-01T00:00:00\", \"AlterV05Sort\": 15, \"AlterV05Kurz\": \"70-74\", \"sum_WBev\": 13631}, {\"StichtagDatJahr\": \"2021-01-01T00:00:00\", \"AlterV05Sort\": 19, \"AlterV05Kurz\": \"90-94\", \"sum_WBev\": 3432}, {\"StichtagDatJahr\": \"2021-01-01T00:00:00\", \"AlterV05Sort\": 17, \"AlterV05Kurz\": \"80-84\", \"sum_WBev\": 8974}, {\"StichtagDatJahr\": \"2021-01-01T00:00:00\", \"AlterV05Sort\": 18, \"AlterV05Kurz\": \"85-89\", \"sum_WBev\": 6545}, {\"StichtagDatJahr\": \"2021-01-01T00:00:00\", \"AlterV05Sort\": 12, \"AlterV05Kurz\": \"55-59\", \"sum_WBev\": 24749}, {\"StichtagDatJahr\": \"2021-01-01T00:00:00\", \"AlterV05Sort\": 16, \"AlterV05Kurz\": \"75-79\", \"sum_WBev\": 12165}, {\"StichtagDatJahr\": \"2021-01-01T00:00:00\", \"AlterV05Sort\": 11, \"AlterV05Kurz\": \"50-54\", \"sum_WBev\": 27390}, {\"StichtagDatJahr\": \"2021-01-01T00:00:00\", \"AlterV05Sort\": 6, \"AlterV05Kurz\": \"25-29\", \"sum_WBev\": 42925}, {\"StichtagDatJahr\": \"2021-01-01T00:00:00\", \"AlterV05Sort\": 9, \"AlterV05Kurz\": \"40-44\", \"sum_WBev\": 36383}, {\"StichtagDatJahr\": \"2021-01-01T00:00:00\", \"AlterV05Sort\": 8, \"AlterV05Kurz\": \"35-39\", \"sum_WBev\": 42276}, {\"StichtagDatJahr\": \"2021-01-01T00:00:00\", \"AlterV05Sort\": 7, \"AlterV05Kurz\": \"30-34\", \"sum_WBev\": 48975}, {\"StichtagDatJahr\": \"2021-01-01T00:00:00\", \"AlterV05Sort\": 5, \"AlterV05Kurz\": \"20-24\", \"sum_WBev\": 27135}, {\"StichtagDatJahr\": \"2021-01-01T00:00:00\", \"AlterV05Sort\": 4, \"AlterV05Kurz\": \"15-19\", \"sum_WBev\": 15459}, {\"StichtagDatJahr\": \"2021-01-01T00:00:00\", \"AlterV05Sort\": 3, \"AlterV05Kurz\": \"10-14\", \"sum_WBev\": 17264}, {\"StichtagDatJahr\": \"2021-01-01T00:00:00\", \"AlterV05Sort\": 2, \"AlterV05Kurz\": \"5-9\", \"sum_WBev\": 20177}, {\"StichtagDatJahr\": \"2021-01-01T00:00:00\", \"AlterV05Sort\": 1, \"AlterV05Kurz\": \"0-4\", \"sum_WBev\": 22537}, {\"StichtagDatJahr\": \"2021-01-01T00:00:00\", \"AlterV05Sort\": 20, \"AlterV05Kurz\": \"95-99\", \"sum_WBev\": 960}, {\"StichtagDatJahr\": \"2021-01-01T00:00:00\", \"AlterV05Sort\": 10, \"AlterV05Kurz\": \"45-49\", \"sum_WBev\": 30317}]}}, {\"mode\": \"vega-lite\"});\n",
       "</script>"
      ],
      "text/plain": [
       "alt.LayerChart(...)"
      ]
     },
     "execution_count": 67,
     "metadata": {},
     "output_type": "execute_result"
    }
   ],
   "source": [
    "myTitle=\"Wohnbevölkerung nach Altersgruppe\"\n",
    "\n",
    "highlight = alt.selection(type='single', on='mouseover',\n",
    "                          fields=['AlterV05Kurz'], nearest=True)\n",
    "#x='date:StichtagDatJahr',\n",
    "base = alt.Chart(myAgg.reset_index().query('sum_WBev>300'), title=myTitle).encode(\n",
    "    x=alt.X('StichtagDatJahr', axis=alt.Axis(title='Jahr'))# , axis=alt.Axis(format='%', title='percentage')\n",
    "    , y=alt.X('sum_WBev', axis=alt.Axis(title='Anz. Personen'))\n",
    "    , color=alt.Color('AlterV05Kurz', legend=alt.Legend(title=\"Altersgruppen\", orient=\"right\"))  \n",
    "    ,tooltip=['StichtagDatJahr', 'AlterV05Kurz','sum_WBev']    \n",
    ")\n",
    "points = base.mark_circle().encode(\n",
    "    opacity=alt.value(0.75)\n",
    ").add_selection(\n",
    "    highlight\n",
    ").properties(\n",
    "    width=750 , height=350\n",
    ")\n",
    "lines = base.mark_line().encode(\n",
    "    size=alt.condition(~highlight, alt.value(0.5), alt.value(4))\n",
    ").interactive()\n",
    "\n",
    "lines + points"
   ]
  },
  {
   "cell_type": "markdown",
   "metadata": {
    "tags": []
   },
   "source": [
    "#### Entwicklung nach Zivilstand"
   ]
  },
  {
   "cell_type": "code",
   "execution_count": 68,
   "metadata": {},
   "outputs": [
    {
     "data": {
      "text/html": [
       "<div>\n",
       "<style scoped>\n",
       "    .dataframe tbody tr th:only-of-type {\n",
       "        vertical-align: middle;\n",
       "    }\n",
       "\n",
       "    .dataframe tbody tr th {\n",
       "        vertical-align: top;\n",
       "    }\n",
       "\n",
       "    .dataframe thead th {\n",
       "        text-align: right;\n",
       "    }\n",
       "</style>\n",
       "<table border=\"1\" class=\"dataframe\">\n",
       "  <thead>\n",
       "    <tr style=\"text-align: right;\">\n",
       "      <th></th>\n",
       "      <th>StichtagDatJahr</th>\n",
       "      <th>Ziv2Sort</th>\n",
       "      <th>Ziv2Lang</th>\n",
       "      <th>sum_WBev</th>\n",
       "    </tr>\n",
       "  </thead>\n",
       "  <tbody>\n",
       "    <tr>\n",
       "      <th>0</th>\n",
       "      <td>1993-01-01</td>\n",
       "      <td>1</td>\n",
       "      <td>Ledig</td>\n",
       "      <td>155209</td>\n",
       "    </tr>\n",
       "    <tr>\n",
       "      <th>1</th>\n",
       "      <td>1993-01-01</td>\n",
       "      <td>2</td>\n",
       "      <td>Verheiratet</td>\n",
       "      <td>151993</td>\n",
       "    </tr>\n",
       "    <tr>\n",
       "      <th>2</th>\n",
       "      <td>1993-01-01</td>\n",
       "      <td>3</td>\n",
       "      <td>Geschieden</td>\n",
       "      <td>26975</td>\n",
       "    </tr>\n",
       "  </tbody>\n",
       "</table>\n",
       "</div>"
      ],
      "text/plain": [
       "  StichtagDatJahr  Ziv2Sort     Ziv2Lang  sum_WBev\n",
       "0      1993-01-01         1        Ledig    155209\n",
       "1      1993-01-01         2  Verheiratet    151993\n",
       "2      1993-01-01         3   Geschieden     26975"
      ]
     },
     "execution_count": 68,
     "metadata": {},
     "output_type": "execute_result"
    }
   ],
   "source": [
    "#myAgg = data2betested.loc[\"2008-11-30\":\"2021-10-31\"]\n",
    "myAgg = data2betested.loc[\"1993\":\"2020\"]\\\n",
    "    .groupby(['StichtagDatJahr', 'Ziv2Sort', 'Ziv2Lang']) \\\n",
    "    .agg(sum_WBev=('AnzBestWir', 'sum')) \\\n",
    "    .sort_values('StichtagDatJahr', ascending=True) \n",
    "\n",
    "myAgg.reset_index().head(3)"
   ]
  },
  {
   "cell_type": "code",
   "execution_count": 71,
   "metadata": {},
   "outputs": [
    {
     "data": {
      "text/html": [
       "\n",
       "<div id=\"altair-viz-afa1919420b543ceaca034a29c0d868a\"></div>\n",
       "<script type=\"text/javascript\">\n",
       "  (function(spec, embedOpt){\n",
       "    let outputDiv = document.currentScript.previousElementSibling;\n",
       "    if (outputDiv.id !== \"altair-viz-afa1919420b543ceaca034a29c0d868a\") {\n",
       "      outputDiv = document.getElementById(\"altair-viz-afa1919420b543ceaca034a29c0d868a\");\n",
       "    }\n",
       "    const paths = {\n",
       "      \"vega\": \"https://cdn.jsdelivr.net/npm//vega@5?noext\",\n",
       "      \"vega-lib\": \"https://cdn.jsdelivr.net/npm//vega-lib?noext\",\n",
       "      \"vega-lite\": \"https://cdn.jsdelivr.net/npm//vega-lite@4.8.1?noext\",\n",
       "      \"vega-embed\": \"https://cdn.jsdelivr.net/npm//vega-embed@6?noext\",\n",
       "    };\n",
       "\n",
       "    function loadScript(lib) {\n",
       "      return new Promise(function(resolve, reject) {\n",
       "        var s = document.createElement('script');\n",
       "        s.src = paths[lib];\n",
       "        s.async = true;\n",
       "        s.onload = () => resolve(paths[lib]);\n",
       "        s.onerror = () => reject(`Error loading script: ${paths[lib]}`);\n",
       "        document.getElementsByTagName(\"head\")[0].appendChild(s);\n",
       "      });\n",
       "    }\n",
       "\n",
       "    function showError(err) {\n",
       "      outputDiv.innerHTML = `<div class=\"error\" style=\"color:red;\">${err}</div>`;\n",
       "      throw err;\n",
       "    }\n",
       "\n",
       "    function displayChart(vegaEmbed) {\n",
       "      vegaEmbed(outputDiv, spec, embedOpt)\n",
       "        .catch(err => showError(`Javascript Error: ${err.message}<br>This usually means there's a typo in your chart specification. See the javascript console for the full traceback.`));\n",
       "    }\n",
       "\n",
       "    if(typeof define === \"function\" && define.amd) {\n",
       "      requirejs.config({paths});\n",
       "      require([\"vega-embed\"], displayChart, err => showError(`Error loading script: ${err.message}`));\n",
       "    } else if (typeof vegaEmbed === \"function\") {\n",
       "      displayChart(vegaEmbed);\n",
       "    } else {\n",
       "      loadScript(\"vega\")\n",
       "        .then(() => loadScript(\"vega-lite\"))\n",
       "        .then(() => loadScript(\"vega-embed\"))\n",
       "        .catch(showError)\n",
       "        .then(() => displayChart(vegaEmbed));\n",
       "    }\n",
       "  })({\"config\": {\"view\": {\"continuousWidth\": 400, \"continuousHeight\": 300}}, \"layer\": [{\"mark\": \"line\", \"encoding\": {\"color\": {\"type\": \"nominal\", \"field\": \"Ziv2Lang\", \"legend\": {\"orient\": \"right\", \"title\": \"Herkunft\"}}, \"size\": {\"condition\": {\"value\": 0.5, \"selection\": {\"not\": \"selector009\"}}, \"value\": 4}, \"tooltip\": [{\"type\": \"temporal\", \"field\": \"StichtagDatJahr\"}, {\"type\": \"nominal\", \"field\": \"Ziv2Lang\"}, {\"type\": \"quantitative\", \"field\": \"sum_WBev\"}], \"x\": {\"type\": \"temporal\", \"axis\": {\"title\": \"Jahr\"}, \"field\": \"StichtagDatJahr\"}, \"y\": {\"type\": \"quantitative\", \"axis\": {\"title\": \"Anz. Personen\"}, \"field\": \"sum_WBev\"}}, \"selection\": {\"selector010\": {\"type\": \"interval\", \"bind\": \"scales\", \"encodings\": [\"x\", \"y\"]}}, \"title\": \"Wohnbev\\u00f6lkerung nach Zivilstand\"}, {\"mark\": \"circle\", \"encoding\": {\"color\": {\"type\": \"nominal\", \"field\": \"Ziv2Lang\", \"legend\": {\"orient\": \"right\", \"title\": \"Herkunft\"}}, \"opacity\": {\"value\": 0.75}, \"tooltip\": [{\"type\": \"temporal\", \"field\": \"StichtagDatJahr\"}, {\"type\": \"nominal\", \"field\": \"Ziv2Lang\"}, {\"type\": \"quantitative\", \"field\": \"sum_WBev\"}], \"x\": {\"type\": \"temporal\", \"axis\": {\"title\": \"Jahr\"}, \"field\": \"StichtagDatJahr\"}, \"y\": {\"type\": \"quantitative\", \"axis\": {\"title\": \"Anz. Personen\"}, \"field\": \"sum_WBev\"}}, \"height\": 350, \"selection\": {\"selector009\": {\"type\": \"single\", \"on\": \"mouseover\", \"fields\": [\"Ziv2Lang\"], \"nearest\": true}}, \"title\": \"Wohnbev\\u00f6lkerung nach Zivilstand\", \"width\": 750}], \"data\": {\"name\": \"data-1f1a3c6b3880896954c7b321287b4438\"}, \"$schema\": \"https://vega.github.io/schema/vega-lite/v4.8.1.json\", \"datasets\": {\"data-1f1a3c6b3880896954c7b321287b4438\": [{\"StichtagDatJahr\": \"1993-01-01T00:00:00\", \"Ziv2Sort\": 1, \"Ziv2Lang\": \"Ledig\", \"sum_WBev\": 155209}, {\"StichtagDatJahr\": \"1993-01-01T00:00:00\", \"Ziv2Sort\": 2, \"Ziv2Lang\": \"Verheiratet\", \"sum_WBev\": 151993}, {\"StichtagDatJahr\": \"1993-01-01T00:00:00\", \"Ziv2Sort\": 3, \"Ziv2Lang\": \"Geschieden\", \"sum_WBev\": 26975}, {\"StichtagDatJahr\": \"1993-01-01T00:00:00\", \"Ziv2Sort\": 4, \"Ziv2Lang\": \"Verwitwet\", \"sum_WBev\": 26721}, {\"StichtagDatJahr\": \"1994-01-01T00:00:00\", \"Ziv2Sort\": 1, \"Ziv2Lang\": \"Ledig\", \"sum_WBev\": 156227}, {\"StichtagDatJahr\": \"1994-01-01T00:00:00\", \"Ziv2Sort\": 2, \"Ziv2Lang\": \"Verheiratet\", \"sum_WBev\": 151282}, {\"StichtagDatJahr\": \"1994-01-01T00:00:00\", \"Ziv2Sort\": 3, \"Ziv2Lang\": \"Geschieden\", \"sum_WBev\": 27240}, {\"StichtagDatJahr\": \"1994-01-01T00:00:00\", \"Ziv2Sort\": 4, \"Ziv2Lang\": \"Verwitwet\", \"sum_WBev\": 26075}, {\"StichtagDatJahr\": \"1995-01-01T00:00:00\", \"Ziv2Sort\": 4, \"Ziv2Lang\": \"Verwitwet\", \"sum_WBev\": 25693}, {\"StichtagDatJahr\": \"1995-01-01T00:00:00\", \"Ziv2Sort\": 2, \"Ziv2Lang\": \"Verheiratet\", \"sum_WBev\": 149533}, {\"StichtagDatJahr\": \"1995-01-01T00:00:00\", \"Ziv2Sort\": 1, \"Ziv2Lang\": \"Ledig\", \"sum_WBev\": 157937}, {\"StichtagDatJahr\": \"1995-01-01T00:00:00\", \"Ziv2Sort\": 3, \"Ziv2Lang\": \"Geschieden\", \"sum_WBev\": 27651}, {\"StichtagDatJahr\": \"1996-01-01T00:00:00\", \"Ziv2Sort\": 1, \"Ziv2Lang\": \"Ledig\", \"sum_WBev\": 159187}, {\"StichtagDatJahr\": \"1996-01-01T00:00:00\", \"Ziv2Sort\": 2, \"Ziv2Lang\": \"Verheiratet\", \"sum_WBev\": 147132}, {\"StichtagDatJahr\": \"1996-01-01T00:00:00\", \"Ziv2Sort\": 3, \"Ziv2Lang\": \"Geschieden\", \"sum_WBev\": 28071}, {\"StichtagDatJahr\": \"1996-01-01T00:00:00\", \"Ziv2Sort\": 4, \"Ziv2Lang\": \"Verwitwet\", \"sum_WBev\": 25248}, {\"StichtagDatJahr\": \"1997-01-01T00:00:00\", \"Ziv2Sort\": 4, \"Ziv2Lang\": \"Verwitwet\", \"sum_WBev\": 24717}, {\"StichtagDatJahr\": \"1997-01-01T00:00:00\", \"Ziv2Sort\": 2, \"Ziv2Lang\": \"Verheiratet\", \"sum_WBev\": 144684}, {\"StichtagDatJahr\": \"1997-01-01T00:00:00\", \"Ziv2Sort\": 1, \"Ziv2Lang\": \"Ledig\", \"sum_WBev\": 160865}, {\"StichtagDatJahr\": \"1997-01-01T00:00:00\", \"Ziv2Sort\": 3, \"Ziv2Lang\": \"Geschieden\", \"sum_WBev\": 28313}, {\"StichtagDatJahr\": \"1998-01-01T00:00:00\", \"Ziv2Sort\": 1, \"Ziv2Lang\": \"Ledig\", \"sum_WBev\": 163629}, {\"StichtagDatJahr\": \"1998-01-01T00:00:00\", \"Ziv2Sort\": 2, \"Ziv2Lang\": \"Verheiratet\", \"sum_WBev\": 142355}, {\"StichtagDatJahr\": \"1998-01-01T00:00:00\", \"Ziv2Sort\": 3, \"Ziv2Lang\": \"Geschieden\", \"sum_WBev\": 28745}, {\"StichtagDatJahr\": \"1998-01-01T00:00:00\", \"Ziv2Sort\": 4, \"Ziv2Lang\": \"Verwitwet\", \"sum_WBev\": 24332}, {\"StichtagDatJahr\": \"1999-01-01T00:00:00\", \"Ziv2Sort\": 3, \"Ziv2Lang\": \"Geschieden\", \"sum_WBev\": 29066}, {\"StichtagDatJahr\": \"1999-01-01T00:00:00\", \"Ziv2Sort\": 4, \"Ziv2Lang\": \"Verwitwet\", \"sum_WBev\": 23815}, {\"StichtagDatJahr\": \"1999-01-01T00:00:00\", \"Ziv2Sort\": 2, \"Ziv2Lang\": \"Verheiratet\", \"sum_WBev\": 141226}, {\"StichtagDatJahr\": \"1999-01-01T00:00:00\", \"Ziv2Sort\": 1, \"Ziv2Lang\": \"Ledig\", \"sum_WBev\": 166593}, {\"StichtagDatJahr\": \"2000-01-01T00:00:00\", \"Ziv2Sort\": 1, \"Ziv2Lang\": \"Ledig\", \"sum_WBev\": 168649}, {\"StichtagDatJahr\": \"2000-01-01T00:00:00\", \"Ziv2Sort\": 2, \"Ziv2Lang\": \"Verheiratet\", \"sum_WBev\": 140183}, {\"StichtagDatJahr\": \"2000-01-01T00:00:00\", \"Ziv2Sort\": 3, \"Ziv2Lang\": \"Geschieden\", \"sum_WBev\": 28790}, {\"StichtagDatJahr\": \"2000-01-01T00:00:00\", \"Ziv2Sort\": 4, \"Ziv2Lang\": \"Verwitwet\", \"sum_WBev\": 23353}, {\"StichtagDatJahr\": \"2001-01-01T00:00:00\", \"Ziv2Sort\": 4, \"Ziv2Lang\": \"Verwitwet\", \"sum_WBev\": 22824}, {\"StichtagDatJahr\": \"2001-01-01T00:00:00\", \"Ziv2Sort\": 3, \"Ziv2Lang\": \"Geschieden\", \"sum_WBev\": 28725}, {\"StichtagDatJahr\": \"2001-01-01T00:00:00\", \"Ziv2Sort\": 2, \"Ziv2Lang\": \"Verheiratet\", \"sum_WBev\": 139514}, {\"StichtagDatJahr\": \"2001-01-01T00:00:00\", \"Ziv2Sort\": 1, \"Ziv2Lang\": \"Ledig\", \"sum_WBev\": 170966}, {\"StichtagDatJahr\": \"2002-01-01T00:00:00\", \"Ziv2Sort\": 1, \"Ziv2Lang\": \"Ledig\", \"sum_WBev\": 173677}, {\"StichtagDatJahr\": \"2002-01-01T00:00:00\", \"Ziv2Sort\": 2, \"Ziv2Lang\": \"Verheiratet\", \"sum_WBev\": 139743}, {\"StichtagDatJahr\": \"2002-01-01T00:00:00\", \"Ziv2Sort\": 3, \"Ziv2Lang\": \"Geschieden\", \"sum_WBev\": 28807}, {\"StichtagDatJahr\": \"2002-01-01T00:00:00\", \"Ziv2Sort\": 4, \"Ziv2Lang\": \"Verwitwet\", \"sum_WBev\": 22309}, {\"StichtagDatJahr\": \"2003-01-01T00:00:00\", \"Ziv2Sort\": 4, \"Ziv2Lang\": \"Verwitwet\", \"sum_WBev\": 21847}, {\"StichtagDatJahr\": \"2003-01-01T00:00:00\", \"Ziv2Sort\": 2, \"Ziv2Lang\": \"Verheiratet\", \"sum_WBev\": 138969}, {\"StichtagDatJahr\": \"2003-01-01T00:00:00\", \"Ziv2Sort\": 1, \"Ziv2Lang\": \"Ledig\", \"sum_WBev\": 174487}, {\"StichtagDatJahr\": \"2003-01-01T00:00:00\", \"Ziv2Sort\": 3, \"Ziv2Lang\": \"Geschieden\", \"sum_WBev\": 29207}, {\"StichtagDatJahr\": \"2004-01-01T00:00:00\", \"Ziv2Sort\": 1, \"Ziv2Lang\": \"Ledig\", \"sum_WBev\": 175948}, {\"StichtagDatJahr\": \"2004-01-01T00:00:00\", \"Ziv2Sort\": 2, \"Ziv2Lang\": \"Verheiratet\", \"sum_WBev\": 138189}, {\"StichtagDatJahr\": \"2004-01-01T00:00:00\", \"Ziv2Sort\": 3, \"Ziv2Lang\": \"Geschieden\", \"sum_WBev\": 29591}, {\"StichtagDatJahr\": \"2004-01-01T00:00:00\", \"Ziv2Sort\": 4, \"Ziv2Lang\": \"Verwitwet\", \"sum_WBev\": 21232}, {\"StichtagDatJahr\": \"2005-01-01T00:00:00\", \"Ziv2Sort\": 3, \"Ziv2Lang\": \"Geschieden\", \"sum_WBev\": 30258}, {\"StichtagDatJahr\": \"2005-01-01T00:00:00\", \"Ziv2Sort\": 4, \"Ziv2Lang\": \"Verwitwet\", \"sum_WBev\": 20767}, {\"StichtagDatJahr\": \"2005-01-01T00:00:00\", \"Ziv2Sort\": 1, \"Ziv2Lang\": \"Ledig\", \"sum_WBev\": 178692}, {\"StichtagDatJahr\": \"2005-01-01T00:00:00\", \"Ziv2Sort\": 2, \"Ziv2Lang\": \"Verheiratet\", \"sum_WBev\": 137092}, {\"StichtagDatJahr\": \"2006-01-01T00:00:00\", \"Ziv2Sort\": 1, \"Ziv2Lang\": \"Ledig\", \"sum_WBev\": 182901}, {\"StichtagDatJahr\": \"2006-01-01T00:00:00\", \"Ziv2Sort\": 2, \"Ziv2Lang\": \"Verheiratet\", \"sum_WBev\": 135830}, {\"StichtagDatJahr\": \"2006-01-01T00:00:00\", \"Ziv2Sort\": 3, \"Ziv2Lang\": \"Geschieden\", \"sum_WBev\": 31000}, {\"StichtagDatJahr\": \"2006-01-01T00:00:00\", \"Ziv2Sort\": 4, \"Ziv2Lang\": \"Verwitwet\", \"sum_WBev\": 20329}, {\"StichtagDatJahr\": \"2007-01-01T00:00:00\", \"Ziv2Sort\": 4, \"Ziv2Lang\": \"Verwitwet\", \"sum_WBev\": 19847}, {\"StichtagDatJahr\": \"2007-01-01T00:00:00\", \"Ziv2Sort\": 5, \"Ziv2Lang\": \"In eingetragener Partnerschaft\", \"sum_WBev\": 741}, {\"StichtagDatJahr\": \"2007-01-01T00:00:00\", \"Ziv2Sort\": 2, \"Ziv2Lang\": \"Verheiratet\", \"sum_WBev\": 135801}, {\"StichtagDatJahr\": \"2007-01-01T00:00:00\", \"Ziv2Sort\": 1, \"Ziv2Lang\": \"Ledig\", \"sum_WBev\": 188808}, {\"StichtagDatJahr\": \"2007-01-01T00:00:00\", \"Ziv2Sort\": 3, \"Ziv2Lang\": \"Geschieden\", \"sum_WBev\": 31609}, {\"StichtagDatJahr\": \"2008-01-01T00:00:00\", \"Ziv2Sort\": 1, \"Ziv2Lang\": \"Ledig\", \"sum_WBev\": 193034}, {\"StichtagDatJahr\": \"2008-01-01T00:00:00\", \"Ziv2Sort\": 2, \"Ziv2Lang\": \"Verheiratet\", \"sum_WBev\": 134906}, {\"StichtagDatJahr\": \"2008-01-01T00:00:00\", \"Ziv2Sort\": 3, \"Ziv2Lang\": \"Geschieden\", \"sum_WBev\": 32137}, {\"StichtagDatJahr\": \"2008-01-01T00:00:00\", \"Ziv2Sort\": 4, \"Ziv2Lang\": \"Verwitwet\", \"sum_WBev\": 19394}, {\"StichtagDatJahr\": \"2008-01-01T00:00:00\", \"Ziv2Sort\": 5, \"Ziv2Lang\": \"In eingetragener Partnerschaft\", \"sum_WBev\": 1015}, {\"StichtagDatJahr\": \"2009-01-01T00:00:00\", \"Ziv2Sort\": 5, \"Ziv2Lang\": \"In eingetragener Partnerschaft\", \"sum_WBev\": 1278}, {\"StichtagDatJahr\": \"2009-01-01T00:00:00\", \"Ziv2Sort\": 2, \"Ziv2Lang\": \"Verheiratet\", \"sum_WBev\": 133709}, {\"StichtagDatJahr\": \"2009-01-01T00:00:00\", \"Ziv2Sort\": 3, \"Ziv2Lang\": \"Geschieden\", \"sum_WBev\": 32812}, {\"StichtagDatJahr\": \"2009-01-01T00:00:00\", \"Ziv2Sort\": 1, \"Ziv2Lang\": \"Ledig\", \"sum_WBev\": 196129}, {\"StichtagDatJahr\": \"2009-01-01T00:00:00\", \"Ziv2Sort\": 4, \"Ziv2Lang\": \"Verwitwet\", \"sum_WBev\": 18948}, {\"StichtagDatJahr\": \"2010-01-01T00:00:00\", \"Ziv2Sort\": 1, \"Ziv2Lang\": \"Ledig\", \"sum_WBev\": 199148}, {\"StichtagDatJahr\": \"2010-01-01T00:00:00\", \"Ziv2Sort\": 5, \"Ziv2Lang\": \"In eingetragener Partnerschaft\", \"sum_WBev\": 1439}, {\"StichtagDatJahr\": \"2010-01-01T00:00:00\", \"Ziv2Sort\": 3, \"Ziv2Lang\": \"Geschieden\", \"sum_WBev\": 33594}, {\"StichtagDatJahr\": \"2010-01-01T00:00:00\", \"Ziv2Sort\": 2, \"Ziv2Lang\": \"Verheiratet\", \"sum_WBev\": 132637}, {\"StichtagDatJahr\": \"2010-01-01T00:00:00\", \"Ziv2Sort\": 4, \"Ziv2Lang\": \"Verwitwet\", \"sum_WBev\": 18587}, {\"StichtagDatJahr\": \"2011-01-01T00:00:00\", \"Ziv2Sort\": 1, \"Ziv2Lang\": \"Ledig\", \"sum_WBev\": 203636}, {\"StichtagDatJahr\": \"2011-01-01T00:00:00\", \"Ziv2Sort\": 3, \"Ziv2Lang\": \"Geschieden\", \"sum_WBev\": 34028}, {\"StichtagDatJahr\": \"2011-01-01T00:00:00\", \"Ziv2Sort\": 4, \"Ziv2Lang\": \"Verwitwet\", \"sum_WBev\": 18181}, {\"StichtagDatJahr\": \"2011-01-01T00:00:00\", \"Ziv2Sort\": 5, \"Ziv2Lang\": \"In eingetragener Partnerschaft\", \"sum_WBev\": 1572}, {\"StichtagDatJahr\": \"2011-01-01T00:00:00\", \"Ziv2Sort\": 2, \"Ziv2Lang\": \"Verheiratet\", \"sum_WBev\": 132553}, {\"StichtagDatJahr\": \"2012-01-01T00:00:00\", \"Ziv2Sort\": 5, \"Ziv2Lang\": \"In eingetragener Partnerschaft\", \"sum_WBev\": 1688}, {\"StichtagDatJahr\": \"2012-01-01T00:00:00\", \"Ziv2Sort\": 6, \"Ziv2Lang\": \"In aufgel\\u00f6ster Partnerschaft\", \"sum_WBev\": 105}, {\"StichtagDatJahr\": \"2012-01-01T00:00:00\", \"Ziv2Sort\": 4, \"Ziv2Lang\": \"Verwitwet\", \"sum_WBev\": 17766}, {\"StichtagDatJahr\": \"2012-01-01T00:00:00\", \"Ziv2Sort\": 2, \"Ziv2Lang\": \"Verheiratet\", \"sum_WBev\": 132337}, {\"StichtagDatJahr\": \"2012-01-01T00:00:00\", \"Ziv2Sort\": 1, \"Ziv2Lang\": \"Ledig\", \"sum_WBev\": 207716}, {\"StichtagDatJahr\": \"2012-01-01T00:00:00\", \"Ziv2Sort\": 3, \"Ziv2Lang\": \"Geschieden\", \"sum_WBev\": 34380}, {\"StichtagDatJahr\": \"2013-01-01T00:00:00\", \"Ziv2Sort\": 6, \"Ziv2Lang\": \"In aufgel\\u00f6ster Partnerschaft\", \"sum_WBev\": 143}, {\"StichtagDatJahr\": \"2013-01-01T00:00:00\", \"Ziv2Sort\": 5, \"Ziv2Lang\": \"In eingetragener Partnerschaft\", \"sum_WBev\": 1801}, {\"StichtagDatJahr\": \"2013-01-01T00:00:00\", \"Ziv2Sort\": 4, \"Ziv2Lang\": \"Verwitwet\", \"sum_WBev\": 17359}, {\"StichtagDatJahr\": \"2013-01-01T00:00:00\", \"Ziv2Sort\": 2, \"Ziv2Lang\": \"Verheiratet\", \"sum_WBev\": 132479}, {\"StichtagDatJahr\": \"2013-01-01T00:00:00\", \"Ziv2Sort\": 1, \"Ziv2Lang\": \"Ledig\", \"sum_WBev\": 212242}, {\"StichtagDatJahr\": \"2013-01-01T00:00:00\", \"Ziv2Sort\": 3, \"Ziv2Lang\": \"Geschieden\", \"sum_WBev\": 34537}, {\"StichtagDatJahr\": \"2014-01-01T00:00:00\", \"Ziv2Sort\": 1, \"Ziv2Lang\": \"Ledig\", \"sum_WBev\": 217842}, {\"StichtagDatJahr\": \"2014-01-01T00:00:00\", \"Ziv2Sort\": 2, \"Ziv2Lang\": \"Verheiratet\", \"sum_WBev\": 133155}, {\"StichtagDatJahr\": \"2014-01-01T00:00:00\", \"Ziv2Sort\": 3, \"Ziv2Lang\": \"Geschieden\", \"sum_WBev\": 34693}, {\"StichtagDatJahr\": \"2014-01-01T00:00:00\", \"Ziv2Sort\": 4, \"Ziv2Lang\": \"Verwitwet\", \"sum_WBev\": 16994}, {\"StichtagDatJahr\": \"2014-01-01T00:00:00\", \"Ziv2Sort\": 5, \"Ziv2Lang\": \"In eingetragener Partnerschaft\", \"sum_WBev\": 1894}, {\"StichtagDatJahr\": \"2014-01-01T00:00:00\", \"Ziv2Sort\": 6, \"Ziv2Lang\": \"In aufgel\\u00f6ster Partnerschaft\", \"sum_WBev\": 190}, {\"StichtagDatJahr\": \"2015-01-01T00:00:00\", \"Ziv2Sort\": 6, \"Ziv2Lang\": \"In aufgel\\u00f6ster Partnerschaft\", \"sum_WBev\": 248}, {\"StichtagDatJahr\": \"2015-01-01T00:00:00\", \"Ziv2Sort\": 5, \"Ziv2Lang\": \"In eingetragener Partnerschaft\", \"sum_WBev\": 2015}, {\"StichtagDatJahr\": \"2015-01-01T00:00:00\", \"Ziv2Sort\": 2, \"Ziv2Lang\": \"Verheiratet\", \"sum_WBev\": 133490}, {\"StichtagDatJahr\": \"2015-01-01T00:00:00\", \"Ziv2Sort\": 3, \"Ziv2Lang\": \"Geschieden\", \"sum_WBev\": 35050}, {\"StichtagDatJahr\": \"2015-01-01T00:00:00\", \"Ziv2Sort\": 1, \"Ziv2Lang\": \"Ledig\", \"sum_WBev\": 222934}, {\"StichtagDatJahr\": \"2015-01-01T00:00:00\", \"Ziv2Sort\": 4, \"Ziv2Lang\": \"Verwitwet\", \"sum_WBev\": 16648}, {\"StichtagDatJahr\": \"2016-01-01T00:00:00\", \"Ziv2Sort\": 6, \"Ziv2Lang\": \"In aufgel\\u00f6ster Partnerschaft\", \"sum_WBev\": 286}, {\"StichtagDatJahr\": \"2016-01-01T00:00:00\", \"Ziv2Sort\": 5, \"Ziv2Lang\": \"In eingetragener Partnerschaft\", \"sum_WBev\": 2188}, {\"StichtagDatJahr\": \"2016-01-01T00:00:00\", \"Ziv2Sort\": 4, \"Ziv2Lang\": \"Verwitwet\", \"sum_WBev\": 16283}, {\"StichtagDatJahr\": \"2016-01-01T00:00:00\", \"Ziv2Sort\": 2, \"Ziv2Lang\": \"Verheiratet\", \"sum_WBev\": 133838}, {\"StichtagDatJahr\": \"2016-01-01T00:00:00\", \"Ziv2Sort\": 1, \"Ziv2Lang\": \"Ledig\", \"sum_WBev\": 227908}, {\"StichtagDatJahr\": \"2016-01-01T00:00:00\", \"Ziv2Sort\": 3, \"Ziv2Lang\": \"Geschieden\", \"sum_WBev\": 35149}, {\"StichtagDatJahr\": \"2017-01-01T00:00:00\", \"Ziv2Sort\": 1, \"Ziv2Lang\": \"Ledig\", \"sum_WBev\": 234507}, {\"StichtagDatJahr\": \"2017-01-01T00:00:00\", \"Ziv2Sort\": 2, \"Ziv2Lang\": \"Verheiratet\", \"sum_WBev\": 134803}, {\"StichtagDatJahr\": \"2017-01-01T00:00:00\", \"Ziv2Sort\": 3, \"Ziv2Lang\": \"Geschieden\", \"sum_WBev\": 35382}, {\"StichtagDatJahr\": \"2017-01-01T00:00:00\", \"Ziv2Sort\": 4, \"Ziv2Lang\": \"Verwitwet\", \"sum_WBev\": 15902}, {\"StichtagDatJahr\": \"2017-01-01T00:00:00\", \"Ziv2Sort\": 5, \"Ziv2Lang\": \"In eingetragener Partnerschaft\", \"sum_WBev\": 2344}, {\"StichtagDatJahr\": \"2017-01-01T00:00:00\", \"Ziv2Sort\": 6, \"Ziv2Lang\": \"In aufgel\\u00f6ster Partnerschaft\", \"sum_WBev\": 337}, {\"StichtagDatJahr\": \"2018-01-01T00:00:00\", \"Ziv2Sort\": 6, \"Ziv2Lang\": \"In aufgel\\u00f6ster Partnerschaft\", \"sum_WBev\": 383}, {\"StichtagDatJahr\": \"2018-01-01T00:00:00\", \"Ziv2Sort\": 5, \"Ziv2Lang\": \"In eingetragener Partnerschaft\", \"sum_WBev\": 2439}, {\"StichtagDatJahr\": \"2018-01-01T00:00:00\", \"Ziv2Sort\": 2, \"Ziv2Lang\": \"Verheiratet\", \"sum_WBev\": 135147}, {\"StichtagDatJahr\": \"2018-01-01T00:00:00\", \"Ziv2Sort\": 3, \"Ziv2Lang\": \"Geschieden\", \"sum_WBev\": 35527}, {\"StichtagDatJahr\": \"2018-01-01T00:00:00\", \"Ziv2Sort\": 1, \"Ziv2Lang\": \"Ledig\", \"sum_WBev\": 239746}, {\"StichtagDatJahr\": \"2018-01-01T00:00:00\", \"Ziv2Sort\": 4, \"Ziv2Lang\": \"Verwitwet\", \"sum_WBev\": 15455}, {\"StichtagDatJahr\": \"2019-01-01T00:00:00\", \"Ziv2Sort\": 5, \"Ziv2Lang\": \"In eingetragener Partnerschaft\", \"sum_WBev\": 2523}, {\"StichtagDatJahr\": \"2019-01-01T00:00:00\", \"Ziv2Sort\": 4, \"Ziv2Lang\": \"Verwitwet\", \"sum_WBev\": 15066}, {\"StichtagDatJahr\": \"2019-01-01T00:00:00\", \"Ziv2Sort\": 6, \"Ziv2Lang\": \"In aufgel\\u00f6ster Partnerschaft\", \"sum_WBev\": 430}, {\"StichtagDatJahr\": \"2019-01-01T00:00:00\", \"Ziv2Sort\": 2, \"Ziv2Lang\": \"Verheiratet\", \"sum_WBev\": 135084}, {\"StichtagDatJahr\": \"2019-01-01T00:00:00\", \"Ziv2Sort\": 1, \"Ziv2Lang\": \"Ledig\", \"sum_WBev\": 245063}, {\"StichtagDatJahr\": \"2019-01-01T00:00:00\", \"Ziv2Sort\": 3, \"Ziv2Lang\": \"Geschieden\", \"sum_WBev\": 35801}, {\"StichtagDatJahr\": \"2020-01-01T00:00:00\", \"Ziv2Sort\": 6, \"Ziv2Lang\": \"In aufgel\\u00f6ster Partnerschaft\", \"sum_WBev\": 453}, {\"StichtagDatJahr\": \"2020-01-01T00:00:00\", \"Ziv2Sort\": 1, \"Ziv2Lang\": \"Ledig\", \"sum_WBev\": 248067}, {\"StichtagDatJahr\": \"2020-01-01T00:00:00\", \"Ziv2Sort\": 2, \"Ziv2Lang\": \"Verheiratet\", \"sum_WBev\": 133292}, {\"StichtagDatJahr\": \"2020-01-01T00:00:00\", \"Ziv2Sort\": 3, \"Ziv2Lang\": \"Geschieden\", \"sum_WBev\": 35654}, {\"StichtagDatJahr\": \"2020-01-01T00:00:00\", \"Ziv2Sort\": 4, \"Ziv2Lang\": \"Verwitwet\", \"sum_WBev\": 14640}, {\"StichtagDatJahr\": \"2020-01-01T00:00:00\", \"Ziv2Sort\": 5, \"Ziv2Lang\": \"In eingetragener Partnerschaft\", \"sum_WBev\": 2583}]}}, {\"mode\": \"vega-lite\"});\n",
       "</script>"
      ],
      "text/plain": [
       "alt.LayerChart(...)"
      ]
     },
     "execution_count": 71,
     "metadata": {},
     "output_type": "execute_result"
    }
   ],
   "source": [
    "myTitle=\"Wohnbevölkerung nach Zivilstand\"\n",
    "\n",
    "highlight = alt.selection(type='single', on='mouseover',\n",
    "                          fields=['Ziv2Lang'], nearest=True)\n",
    "#x='date:StichtagDatJahr',\n",
    "base = alt.Chart(myAgg.reset_index().query('sum_WBev>100'), title=myTitle).encode(\n",
    "    x=alt.X('StichtagDatJahr', axis=alt.Axis(title='Jahr'))# , axis=alt.Axis(format='%', title='percentage')\n",
    "    , y=alt.X('sum_WBev', axis=alt.Axis(title='Anz. Personen'))\n",
    "    , color=alt.Color('Ziv2Lang', legend=alt.Legend(title=\"Herkunft\", orient=\"right\"))  \n",
    "    ,tooltip=['StichtagDatJahr', 'Ziv2Lang','sum_WBev']    \n",
    ")\n",
    "points = base.mark_circle().encode(\n",
    "    opacity=alt.value(0.75)\n",
    ").add_selection(\n",
    "    highlight\n",
    ").properties(\n",
    "    width=750 , height=350\n",
    ")\n",
    "lines = base.mark_line().encode(\n",
    "    size=alt.condition(~highlight, alt.value(0.5), alt.value(4))\n",
    ").interactive()\n",
    "\n",
    "lines + points"
   ]
  },
  {
   "cell_type": "markdown",
   "metadata": {
    "tags": []
   },
   "source": [
    "#### Barcharts mit Seaborn"
   ]
  },
  {
   "cell_type": "code",
   "execution_count": 52,
   "metadata": {},
   "outputs": [],
   "source": [
    "#help(sns.catplot)     "
   ]
  },
  {
   "cell_type": "code",
   "execution_count": 76,
   "metadata": {},
   "outputs": [],
   "source": [
    "#Stile for the following sns graphs\n",
    "sns.set_theme(style=\"whitegrid\")"
   ]
  },
  {
   "cell_type": "code",
   "execution_count": 77,
   "metadata": {},
   "outputs": [
    {
     "data": {
      "text/plain": [
       "Index(['Ziv2Sort', 'Ziv2Lang', 'SexCd', 'SexLang', 'QuarSort', 'QuarLang', 'AlterVSort',\n",
       "       'AlterV05Sort', 'AlterV05Kurz', 'AlterV10Sort', 'AlterV10Kurz', 'AlterV20Sort',\n",
       "       'AlterV20Kurz', 'AnzBestWir', 'StichtagDatJahr_str'],\n",
       "      dtype='object')"
      ]
     },
     "execution_count": 77,
     "metadata": {},
     "output_type": "execute_result"
    }
   ],
   "source": [
    "#data2betested.columns"
   ]
  },
  {
   "cell_type": "code",
   "execution_count": 74,
   "metadata": {},
   "outputs": [
    {
     "data": {
      "text/html": [
       "<div>\n",
       "<style scoped>\n",
       "    .dataframe tbody tr th:only-of-type {\n",
       "        vertical-align: middle;\n",
       "    }\n",
       "\n",
       "    .dataframe tbody tr th {\n",
       "        vertical-align: top;\n",
       "    }\n",
       "\n",
       "    .dataframe thead th {\n",
       "        text-align: right;\n",
       "    }\n",
       "</style>\n",
       "<table border=\"1\" class=\"dataframe\">\n",
       "  <thead>\n",
       "    <tr style=\"text-align: right;\">\n",
       "      <th></th>\n",
       "      <th>StichtagDatJahr</th>\n",
       "      <th>Ziv2Sort</th>\n",
       "      <th>Ziv2Lang</th>\n",
       "      <th>SexCd</th>\n",
       "      <th>SexLang</th>\n",
       "      <th>sum_WBev</th>\n",
       "    </tr>\n",
       "  </thead>\n",
       "  <tbody>\n",
       "    <tr>\n",
       "      <th>0</th>\n",
       "      <td>2020-01-01</td>\n",
       "      <td>1</td>\n",
       "      <td>Ledig</td>\n",
       "      <td>1</td>\n",
       "      <td>männlich</td>\n",
       "      <td>130670</td>\n",
       "    </tr>\n",
       "    <tr>\n",
       "      <th>1</th>\n",
       "      <td>2020-01-01</td>\n",
       "      <td>1</td>\n",
       "      <td>Ledig</td>\n",
       "      <td>2</td>\n",
       "      <td>weiblich</td>\n",
       "      <td>117397</td>\n",
       "    </tr>\n",
       "    <tr>\n",
       "      <th>2</th>\n",
       "      <td>2020-01-01</td>\n",
       "      <td>2</td>\n",
       "      <td>Verheiratet</td>\n",
       "      <td>1</td>\n",
       "      <td>männlich</td>\n",
       "      <td>67978</td>\n",
       "    </tr>\n",
       "  </tbody>\n",
       "</table>\n",
       "</div>"
      ],
      "text/plain": [
       "  StichtagDatJahr  Ziv2Sort     Ziv2Lang  SexCd   SexLang  sum_WBev\n",
       "0      2020-01-01         1        Ledig      1  männlich    130670\n",
       "1      2020-01-01         1        Ledig      2  weiblich    117397\n",
       "2      2020-01-01         2  Verheiratet      1  männlich     67978"
      ]
     },
     "execution_count": 74,
     "metadata": {},
     "output_type": "execute_result"
    }
   ],
   "source": [
    "#myAgg = data2betested.loc[\"2008-11-30\":\"2021-10-31\"]\n",
    "myAggBar = data2betested.loc[\"2020\"]\\\n",
    "    .groupby(['StichtagDatJahr', 'Ziv2Sort', 'Ziv2Lang', 'SexCd', 'SexLang']) \\\n",
    "    .agg(sum_WBev=('AnzBestWir', 'sum')) \\\n",
    "    .sort_values('StichtagDatJahr', ascending=True) \n",
    "\n",
    "myAggBar.reset_index().head(3)"
   ]
  },
  {
   "cell_type": "code",
   "execution_count": 75,
   "metadata": {},
   "outputs": [
    {
     "data": {
      "text/plain": [
       "<seaborn.axisgrid.FacetGrid at 0x2374614aa88>"
      ]
     },
     "execution_count": 75,
     "metadata": {},
     "output_type": "execute_result"
    },
    {
     "data": {
      "image/png": "[encoded data removed]",
      "text/plain": [
       "<Figure size 803.85x360 with 1 Axes>"
      ]
     },
     "metadata": {},
     "output_type": "display_data"
    }
   ],
   "source": [
    "#sns.color_palette(\"flare\", as_cmap=True)\n",
    "myHist = sns.catplot(x=\"Ziv2Lang\"\n",
    "            , y=\"sum_WBev\"\n",
    "            , hue=\"SexLang\"\n",
    "            , kind=\"bar\" #boxen, violin, --> wenn die aggregation nicht genau den werten in der grafik entspricht\n",
    "            , palette=\"pastel\" #, color=\"green\"\n",
    "            , height=5\n",
    "            , aspect=2\n",
    "            , order=None, legend_out=True\n",
    "            ,data=myAggBar.reset_index()\n",
    "           )\n",
    "myHist.set_xlabels('Altersgruppe', fontsize=11) # not set_label\n",
    "myHist.set_ylabels('Anz. Pers.', fontsize=11)\n"
   ]
  },
  {
   "cell_type": "code",
   "execution_count": 79,
   "metadata": {},
   "outputs": [
    {
     "data": {
      "text/plain": [
       "Index(['Ziv2Sort', 'Ziv2Lang', 'SexCd', 'SexLang', 'QuarSort', 'QuarLang', 'AlterVSort',\n",
       "       'AlterV05Sort', 'AlterV05Kurz', 'AlterV10Sort', 'AlterV10Kurz', 'AlterV20Sort',\n",
       "       'AlterV20Kurz', 'AnzBestWir', 'StichtagDatJahr_str'],\n",
       "      dtype='object')"
      ]
     },
     "execution_count": 79,
     "metadata": {},
     "output_type": "execute_result"
    }
   ],
   "source": [
    "data2betested.columns"
   ]
  },
  {
   "cell_type": "code",
   "execution_count": 87,
   "metadata": {},
   "outputs": [
    {
     "data": {
      "text/html": [
       "<div>\n",
       "<style scoped>\n",
       "    .dataframe tbody tr th:only-of-type {\n",
       "        vertical-align: middle;\n",
       "    }\n",
       "\n",
       "    .dataframe tbody tr th {\n",
       "        vertical-align: top;\n",
       "    }\n",
       "\n",
       "    .dataframe thead th {\n",
       "        text-align: right;\n",
       "    }\n",
       "</style>\n",
       "<table border=\"1\" class=\"dataframe\">\n",
       "  <thead>\n",
       "    <tr style=\"text-align: right;\">\n",
       "      <th></th>\n",
       "      <th></th>\n",
       "      <th></th>\n",
       "      <th></th>\n",
       "      <th></th>\n",
       "      <th></th>\n",
       "      <th></th>\n",
       "      <th>sum_WBev</th>\n",
       "    </tr>\n",
       "    <tr>\n",
       "      <th>StichtagDatJahr</th>\n",
       "      <th>Ziv2Sort</th>\n",
       "      <th>Ziv2Lang</th>\n",
       "      <th>SexCd</th>\n",
       "      <th>SexLang</th>\n",
       "      <th>AlterV10Sort</th>\n",
       "      <th>AlterV10Kurz</th>\n",
       "      <th></th>\n",
       "    </tr>\n",
       "  </thead>\n",
       "  <tbody>\n",
       "    <tr>\n",
       "      <th>1998-01-01</th>\n",
       "      <th>2</th>\n",
       "      <th>Verheiratet</th>\n",
       "      <th>1</th>\n",
       "      <th>männlich</th>\n",
       "      <th>11</th>\n",
       "      <th>100 u. älter</th>\n",
       "      <td>0</td>\n",
       "    </tr>\n",
       "    <tr>\n",
       "      <th>1997-01-01</th>\n",
       "      <th>1</th>\n",
       "      <th>Ledig</th>\n",
       "      <th>1</th>\n",
       "      <th>männlich</th>\n",
       "      <th>11</th>\n",
       "      <th>100 u. älter</th>\n",
       "      <td>0</td>\n",
       "    </tr>\n",
       "    <tr>\n",
       "      <th>2012-01-01</th>\n",
       "      <th>5</th>\n",
       "      <th>In eingetragener Partnerschaft</th>\n",
       "      <th>2</th>\n",
       "      <th>weiblich</th>\n",
       "      <th>2</th>\n",
       "      <th>10-19</th>\n",
       "      <td>0</td>\n",
       "    </tr>\n",
       "    <tr>\n",
       "      <th>1996-01-01</th>\n",
       "      <th>1</th>\n",
       "      <th>Ledig</th>\n",
       "      <th>1</th>\n",
       "      <th>männlich</th>\n",
       "      <th>11</th>\n",
       "      <th>100 u. älter</th>\n",
       "      <td>0</td>\n",
       "    </tr>\n",
       "    <tr>\n",
       "      <th>2009-01-01</th>\n",
       "      <th>5</th>\n",
       "      <th>In eingetragener Partnerschaft</th>\n",
       "      <th>1</th>\n",
       "      <th>männlich</th>\n",
       "      <th>2</th>\n",
       "      <th>10-19</th>\n",
       "      <td>1</td>\n",
       "    </tr>\n",
       "    <tr>\n",
       "      <th>...</th>\n",
       "      <th>...</th>\n",
       "      <th>...</th>\n",
       "      <th>...</th>\n",
       "      <th>...</th>\n",
       "      <th>...</th>\n",
       "      <th>...</th>\n",
       "      <td>...</td>\n",
       "    </tr>\n",
       "    <tr>\n",
       "      <th>2017-01-01</th>\n",
       "      <th>1</th>\n",
       "      <th>Ledig</th>\n",
       "      <th>1</th>\n",
       "      <th>männlich</th>\n",
       "      <th>3</th>\n",
       "      <th>20-29</th>\n",
       "      <td>33014</td>\n",
       "    </tr>\n",
       "    <tr>\n",
       "      <th>2018-01-01</th>\n",
       "      <th>1</th>\n",
       "      <th>Ledig</th>\n",
       "      <th>1</th>\n",
       "      <th>männlich</th>\n",
       "      <th>3</th>\n",
       "      <th>20-29</th>\n",
       "      <td>33219</td>\n",
       "    </tr>\n",
       "    <tr>\n",
       "      <th>2020-01-01</th>\n",
       "      <th>1</th>\n",
       "      <th>Ledig</th>\n",
       "      <th>1</th>\n",
       "      <th>männlich</th>\n",
       "      <th>3</th>\n",
       "      <th>20-29</th>\n",
       "      <td>33431</td>\n",
       "    </tr>\n",
       "    <tr>\n",
       "      <th>2019-01-01</th>\n",
       "      <th>1</th>\n",
       "      <th>Ledig</th>\n",
       "      <th>1</th>\n",
       "      <th>männlich</th>\n",
       "      <th>3</th>\n",
       "      <th>20-29</th>\n",
       "      <td>33787</td>\n",
       "    </tr>\n",
       "    <tr>\n",
       "      <th>2021-01-01</th>\n",
       "      <th>1</th>\n",
       "      <th>Ledig</th>\n",
       "      <th>1</th>\n",
       "      <th>männlich</th>\n",
       "      <th>3</th>\n",
       "      <th>20-29</th>\n",
       "      <td>33952</td>\n",
       "    </tr>\n",
       "  </tbody>\n",
       "</table>\n",
       "<p>2796 rows × 1 columns</p>\n",
       "</div>"
      ],
      "text/plain": [
       "                                                                                                  sum_WBev\n",
       "StichtagDatJahr Ziv2Sort Ziv2Lang                       SexCd SexLang  AlterV10Sort AlterV10Kurz          \n",
       "1998-01-01      2        Verheiratet                    1     männlich 11           100 u. älter         0\n",
       "1997-01-01      1        Ledig                          1     männlich 11           100 u. älter         0\n",
       "2012-01-01      5        In eingetragener Partnerschaft 2     weiblich 2            10-19                0\n",
       "1996-01-01      1        Ledig                          1     männlich 11           100 u. älter         0\n",
       "2009-01-01      5        In eingetragener Partnerschaft 1     männlich 2            10-19                1\n",
       "...                                                                                                    ...\n",
       "2017-01-01      1        Ledig                          1     männlich 3            20-29            33014\n",
       "2018-01-01      1        Ledig                          1     männlich 3            20-29            33219\n",
       "2020-01-01      1        Ledig                          1     männlich 3            20-29            33431\n",
       "2019-01-01      1        Ledig                          1     männlich 3            20-29            33787\n",
       "2021-01-01      1        Ledig                          1     männlich 3            20-29            33952\n",
       "\n",
       "[2796 rows x 1 columns]"
      ]
     },
     "execution_count": 87,
     "metadata": {},
     "output_type": "execute_result"
    }
   ],
   "source": [
    "myAggBar = data2betested\\\n",
    "    .groupby(['StichtagDatJahr', 'Ziv2Sort', 'Ziv2Lang', 'SexCd', 'SexLang', 'AlterV10Sort', 'AlterV10Kurz']) \\\n",
    "    .agg(sum_WBev=('AnzBestWir', 'sum')) \\\n",
    "    .sort_values('sum_WBev', ascending=True) \n",
    "myAggBar"
   ]
  },
  {
   "cell_type": "code",
   "execution_count": 90,
   "metadata": {},
   "outputs": [
    {
     "data": {
      "text/plain": [
       "<seaborn.axisgrid.FacetGrid at 0x23749cf0348>"
      ]
     },
     "execution_count": 90,
     "metadata": {},
     "output_type": "execute_result"
    },
    {
     "data": {
      "image/png": "[encoded data removed]",
      "text/plain": [
       "<Figure size 1052.73x648 with 11 Axes>"
      ]
     },
     "metadata": {},
     "output_type": "display_data"
    }
   ],
   "source": [
    "g2 = sns.FacetGrid(myAggBar.reset_index().sort_values('AlterV10Sort', ascending=True), col=\"AlterV10Kurz\", hue=\"Ziv2Lang\", col_wrap=4, height=3,)\n",
    "g2.map(sns.lineplot, \"StichtagDatJahr\",\"sum_WBev\",alpha=.8)\n",
    "\n",
    "g2.add_legend()\n"
   ]
  },
  {
   "cell_type": "code",
   "execution_count": null,
   "metadata": {},
   "outputs": [],
   "source": []
  },
  {
   "cell_type": "markdown",
   "metadata": {},
   "source": [
    "### Daten in interaktiver Treemap zeigen\n",
    "Dazu gibt es eine sehr nützliche Webseite https://plotly.com/python/treemaps/\n",
    "Zu Farbskalen, siehe: https://plotly.com/python/builtin-colorscales/"
   ]
  },
  {
   "cell_type": "markdown",
   "metadata": {},
   "source": [
    "#### Aktueller Bestand der WBev nach Quartier, Herkunft und Geschlecht"
   ]
  },
  {
   "cell_type": "code",
   "execution_count": 92,
   "metadata": {},
   "outputs": [
    {
     "data": {
      "text/plain": [
       "Index(['Ziv2Sort', 'Ziv2Lang', 'SexCd', 'SexLang', 'QuarSort', 'QuarLang', 'AlterVSort',\n",
       "       'AlterV05Sort', 'AlterV05Kurz', 'AlterV10Sort', 'AlterV10Kurz', 'AlterV20Sort',\n",
       "       'AlterV20Kurz', 'AnzBestWir', 'StichtagDatJahr_str'],\n",
       "      dtype='object')"
      ]
     },
     "execution_count": 92,
     "metadata": {},
     "output_type": "execute_result"
    }
   ],
   "source": [
    "data2betested.columns"
   ]
  },
  {
   "cell_type": "code",
   "execution_count": 110,
   "metadata": {},
   "outputs": [
    {
     "data": {
      "application/vnd.plotly.v1+json": {
       "config": {
        "plotlyServerURL": "https://plot.ly"
       },
       "data": [
        {
         "branchvalues": "total",
         "customdata": [
          [
           "Unbekannt"
          ],
          [
           "Verwitwet"
          ],
          [
           "Verwitwet"
          ],
          [
           "Verheiratet"
          ],
          [
           "Verwitwet"
          ],
          [
           "Geschieden"
          ],
          [
           "Geschieden"
          ],
          [
           "Geschieden"
          ],
          [
           "In aufgelöster Partnerschaft"
          ],
          [
           "In aufgelöster Partnerschaft"
          ],
          [
           "Geschieden"
          ],
          [
           "Unbekannt"
          ],
          [
           "Geschieden"
          ],
          [
           "Ledig"
          ],
          [
           "Ledig"
          ],
          [
           "Verwitwet"
          ],
          [
           "Geschieden"
          ],
          [
           "Geschieden"
          ],
          [
           "Verheiratet"
          ],
          [
           "Geschieden"
          ],
          [
           "Verheiratet"
          ],
          [
           "Geschieden"
          ],
          [
           "Geschieden"
          ],
          [
           "In aufgelöster Partnerschaft"
          ],
          [
           "Geschieden"
          ],
          [
           "Verheiratet"
          ],
          [
           "Unbekannt"
          ],
          [
           "Verwitwet"
          ],
          [
           "Verheiratet"
          ],
          [
           "Verheiratet"
          ],
          [
           "Verheiratet"
          ],
          [
           "Ledig"
          ],
          [
           "Ledig"
          ],
          [
           "In aufgelöster Partnerschaft"
          ],
          [
           "Ledig"
          ],
          [
           "In eingetragener Partnerschaft"
          ],
          [
           "Ledig"
          ],
          [
           "In eingetragener Partnerschaft"
          ],
          [
           "In eingetragener Partnerschaft"
          ],
          [
           "In aufgelöster Partnerschaft"
          ],
          [
           "Verwitwet"
          ],
          [
           "Verwitwet"
          ],
          [
           "Geschieden"
          ],
          [
           "Verwitwet"
          ],
          [
           "Verwitwet"
          ],
          [
           "Ledig"
          ],
          [
           "Ledig"
          ],
          [
           "Geschieden"
          ],
          [
           "In eingetragener Partnerschaft"
          ],
          [
           "Unbekannt"
          ],
          [
           "Geschieden"
          ],
          [
           "In eingetragener Partnerschaft"
          ],
          [
           "Geschieden"
          ],
          [
           "In eingetragener Partnerschaft"
          ],
          [
           "Verheiratet"
          ],
          [
           "Verheiratet"
          ],
          [
           "Ledig"
          ],
          [
           "Ledig"
          ],
          [
           "In eingetragener Partnerschaft"
          ],
          [
           "In eingetragener Partnerschaft"
          ],
          [
           "Verwitwet"
          ],
          [
           "Unbekannt"
          ],
          [
           "Unbekannt"
          ],
          [
           "Ledig"
          ],
          [
           "Ledig"
          ],
          [
           "In eingetragener Partnerschaft"
          ],
          [
           "In eingetragener Partnerschaft"
          ],
          [
           "In eingetragener Partnerschaft"
          ],
          [
           "In eingetragener Partnerschaft"
          ],
          [
           "Verwitwet"
          ],
          [
           "Verheiratet"
          ],
          [
           "In eingetragener Partnerschaft"
          ],
          [
           "Verwitwet"
          ],
          [
           "Verheiratet"
          ],
          [
           "In aufgelöster Partnerschaft"
          ],
          [
           "Ledig"
          ],
          [
           "Verwitwet"
          ],
          [
           "Geschieden"
          ],
          [
           "Ledig"
          ],
          [
           "Ledig"
          ],
          [
           "Verheiratet"
          ],
          [
           "Unbekannt"
          ],
          [
           "Ledig"
          ],
          [
           "Unbekannt"
          ],
          [
           "In aufgelöster Partnerschaft"
          ],
          [
           "Unbekannt"
          ],
          [
           "In aufgelöster Partnerschaft"
          ],
          [
           "Verheiratet"
          ],
          [
           "Unbekannt"
          ],
          [
           "In aufgelöster Partnerschaft"
          ],
          [
           "In eingetragener Partnerschaft"
          ],
          [
           "Ledig"
          ],
          [
           "Verwitwet"
          ],
          [
           "In aufgelöster Partnerschaft"
          ],
          [
           "Ledig"
          ],
          [
           "In aufgelöster Partnerschaft"
          ],
          [
           "In aufgelöster Partnerschaft"
          ],
          [
           "Ledig"
          ],
          [
           "Verheiratet"
          ],
          [
           "Geschieden"
          ],
          [
           "In eingetragener Partnerschaft"
          ],
          [
           "Geschieden"
          ],
          [
           "Verwitwet"
          ],
          [
           "Verwitwet"
          ],
          [
           "Verheiratet"
          ],
          [
           "Verheiratet"
          ],
          [
           "Geschieden"
          ],
          [
           "In aufgelöster Partnerschaft"
          ],
          [
           "In aufgelöster Partnerschaft"
          ],
          [
           "Verwitwet"
          ],
          [
           "Verheiratet"
          ],
          [
           "Ledig"
          ],
          [
           "Verheiratet"
          ],
          [
           "In eingetragener Partnerschaft"
          ],
          [
           "Verheiratet"
          ],
          [
           "Unbekannt"
          ],
          [
           "Verheiratet"
          ],
          [
           "Verwitwet"
          ],
          [
           "Verwitwet"
          ],
          [
           "Verheiratet"
          ],
          [
           "In aufgelöster Partnerschaft"
          ],
          [
           "In aufgelöster Partnerschaft"
          ],
          [
           "Unbekannt"
          ],
          [
           "Verheiratet"
          ],
          [
           "Verwitwet"
          ],
          [
           "Geschieden"
          ],
          [
           "Geschieden"
          ],
          [
           "Ledig"
          ],
          [
           "Ledig"
          ],
          [
           "In eingetragener Partnerschaft"
          ],
          [
           "Ledig"
          ],
          [
           "Verheiratet"
          ],
          [
           "Verheiratet"
          ],
          [
           "Unbekannt"
          ],
          [
           "Geschieden"
          ],
          [
           "In eingetragener Partnerschaft"
          ],
          [
           "Ledig"
          ],
          [
           "Ledig"
          ],
          [
           "Unbekannt"
          ],
          [
           "Verheiratet"
          ],
          [
           "Verheiratet"
          ],
          [
           "Geschieden"
          ],
          [
           "Geschieden"
          ],
          [
           "Ledig"
          ],
          [
           "Ledig"
          ],
          [
           "Verheiratet"
          ],
          [
           "Verheiratet"
          ],
          [
           "Verwitwet"
          ],
          [
           "Verwitwet"
          ],
          [
           "Geschieden"
          ],
          [
           "Geschieden"
          ],
          [
           "In aufgelöster Partnerschaft"
          ],
          [
           "In aufgelöster Partnerschaft"
          ],
          [
           "In eingetragener Partnerschaft"
          ],
          [
           "In eingetragener Partnerschaft"
          ],
          [
           "Ledig"
          ],
          [
           "Ledig"
          ],
          [
           "Unbekannt"
          ],
          [
           "Unbekannt"
          ],
          [
           "Verheiratet"
          ],
          [
           "Verheiratet"
          ],
          [
           "Verwitwet"
          ],
          [
           "Verwitwet"
          ],
          [
           "Geschieden"
          ],
          [
           "Geschieden"
          ],
          [
           "In aufgelöster Partnerschaft"
          ],
          [
           "In aufgelöster Partnerschaft"
          ],
          [
           "In eingetragener Partnerschaft"
          ],
          [
           "In eingetragener Partnerschaft"
          ],
          [
           "Ledig"
          ],
          [
           "Ledig"
          ],
          [
           "Unbekannt"
          ],
          [
           "Unbekannt"
          ],
          [
           "Verheiratet"
          ],
          [
           "Verheiratet"
          ],
          [
           "Verwitwet"
          ],
          [
           "Verwitwet"
          ],
          [
           "Geschieden"
          ],
          [
           "Geschieden"
          ],
          [
           "In aufgelöster Partnerschaft"
          ],
          [
           "In aufgelöster Partnerschaft"
          ],
          [
           "In eingetragener Partnerschaft"
          ],
          [
           "In eingetragener Partnerschaft"
          ],
          [
           "Ledig"
          ],
          [
           "Ledig"
          ],
          [
           "Unbekannt"
          ],
          [
           "Unbekannt"
          ],
          [
           "Verheiratet"
          ],
          [
           "Verheiratet"
          ],
          [
           "Verwitwet"
          ],
          [
           "Verwitwet"
          ],
          [
           "Geschieden"
          ],
          [
           "Geschieden"
          ],
          [
           "In aufgelöster Partnerschaft"
          ],
          [
           "In aufgelöster Partnerschaft"
          ],
          [
           "In eingetragener Partnerschaft"
          ],
          [
           "In eingetragener Partnerschaft"
          ],
          [
           "Ledig"
          ],
          [
           "Ledig"
          ],
          [
           "Verheiratet"
          ],
          [
           "Verheiratet"
          ],
          [
           "Verwitwet"
          ],
          [
           "Verwitwet"
          ],
          [
           "Geschieden"
          ],
          [
           "Geschieden"
          ],
          [
           "In aufgelöster Partnerschaft"
          ],
          [
           "In aufgelöster Partnerschaft"
          ],
          [
           "In eingetragener Partnerschaft"
          ],
          [
           "In eingetragener Partnerschaft"
          ],
          [
           "Ledig"
          ],
          [
           "Ledig"
          ],
          [
           "Unbekannt"
          ],
          [
           "Unbekannt"
          ],
          [
           "Verheiratet"
          ],
          [
           "Verheiratet"
          ],
          [
           "Verwitwet"
          ],
          [
           "Verwitwet"
          ],
          [
           "(?)"
          ],
          [
           "(?)"
          ],
          [
           "(?)"
          ]
         ],
         "domain": {
          "x": [
           0,
           1
          ],
          "y": [
           0,
           1
          ]
         },
         "hovertemplate": "labels=%{label}<br>sum_WBev=%{value}<br>parent=%{parent}<br>id=%{id}<br>Ziv2Lang=%{customdata[0]}<extra></extra>",
         "ids": [
          "Wohnbevölkerung nach /2021-01-01/Unbekannt/20-39/weiblich",
          "Wohnbevölkerung nach /2020-01-01/Verwitwet/40-59/weiblich",
          "Wohnbevölkerung nach /2020-01-01/Verwitwet/20-39/männlich",
          "Wohnbevölkerung nach /2020-01-01/Verheiratet/40-59/weiblich",
          "Wohnbevölkerung nach /2021-01-01/Verwitwet/40-59/weiblich",
          "Wohnbevölkerung nach /2020-01-01/Geschieden/60-79/weiblich",
          "Wohnbevölkerung nach /2021-01-01/Geschieden/60-79/weiblich",
          "Wohnbevölkerung nach /2020-01-01/Geschieden/20-39/weiblich",
          "Wohnbevölkerung nach /2021-01-01/In aufgelöster Partnerschaft/40-59/weiblich",
          "Wohnbevölkerung nach /2020-01-01/In aufgelöster Partnerschaft/40-59/weiblich",
          "Wohnbevölkerung nach /2021-01-01/Geschieden/20-39/weiblich",
          "Wohnbevölkerung nach /2020-01-01/Unbekannt/20-39/weiblich",
          "Wohnbevölkerung nach /2020-01-01/Geschieden/40-59/männlich",
          "Wohnbevölkerung nach /2021-01-01/Ledig/20-39/weiblich",
          "Wohnbevölkerung nach /2020-01-01/Ledig/20-39/weiblich",
          "Wohnbevölkerung nach /2020-01-01/Verwitwet/100 u. älter/männlich",
          "Wohnbevölkerung nach /2021-01-01/Geschieden/100 u. älter/weiblich",
          "Wohnbevölkerung nach /2021-01-01/Geschieden/100 u. älter/männlich",
          "Wohnbevölkerung nach /2021-01-01/Verheiratet/0-19/männlich",
          "Wohnbevölkerung nach /2020-01-01/Geschieden/100 u. älter/weiblich",
          "Wohnbevölkerung nach /2021-01-01/Verheiratet/40-59/weiblich",
          "Wohnbevölkerung nach /2020-01-01/Geschieden/60-79/männlich",
          "Wohnbevölkerung nach /2021-01-01/Geschieden/60-79/männlich",
          "Wohnbevölkerung nach /2020-01-01/In aufgelöster Partnerschaft/60-79/männlich",
          "Wohnbevölkerung nach /2021-01-01/Geschieden/80-99/männlich",
          "Wohnbevölkerung nach /2020-01-01/Verheiratet/60-79/männlich",
          "Wohnbevölkerung nach /2020-01-01/Unbekannt/60-79/männlich",
          "Wohnbevölkerung nach /2020-01-01/Verwitwet/40-59/männlich",
          "Wohnbevölkerung nach /2021-01-01/Verheiratet/20-39/männlich",
          "Wohnbevölkerung nach /2020-01-01/Verheiratet/20-39/männlich",
          "Wohnbevölkerung nach /2021-01-01/Verheiratet/100 u. älter/männlich",
          "Wohnbevölkerung nach /2021-01-01/Ledig/80-99/männlich",
          "Wohnbevölkerung nach /2021-01-01/Ledig/60-79/männlich",
          "Wohnbevölkerung nach /2021-01-01/In aufgelöster Partnerschaft/80-99/männlich",
          "Wohnbevölkerung nach /2020-01-01/Ledig/80-99/männlich",
          "Wohnbevölkerung nach /2021-01-01/In eingetragener Partnerschaft/20-39/männlich",
          "Wohnbevölkerung nach /2020-01-01/Ledig/60-79/männlich",
          "Wohnbevölkerung nach /2020-01-01/In eingetragener Partnerschaft/80-99/männlich",
          "Wohnbevölkerung nach /2021-01-01/In eingetragener Partnerschaft/80-99/männlich",
          "Wohnbevölkerung nach /2020-01-01/In aufgelöster Partnerschaft/80-99/männlich",
          "Wohnbevölkerung nach /2021-01-01/Verwitwet/100 u. älter/weiblich",
          "Wohnbevölkerung nach /2020-01-01/Verwitwet/100 u. älter/weiblich",
          "Wohnbevölkerung nach /2020-01-01/Geschieden/80-99/männlich",
          "Wohnbevölkerung nach /2020-01-01/Verwitwet/80-99/männlich",
          "Wohnbevölkerung nach /2021-01-01/Verwitwet/80-99/männlich",
          "Wohnbevölkerung nach /2020-01-01/Ledig/0-19/weiblich",
          "Wohnbevölkerung nach /2021-01-01/Ledig/0-19/weiblich",
          "Wohnbevölkerung nach /2021-01-01/Geschieden/0-19/weiblich",
          "Wohnbevölkerung nach /2020-01-01/In eingetragener Partnerschaft/60-79/männlich",
          "Wohnbevölkerung nach /2020-01-01/Unbekannt/0-19/weiblich",
          "Wohnbevölkerung nach /2020-01-01/Geschieden/100 u. älter/männlich",
          "Wohnbevölkerung nach /2020-01-01/In eingetragener Partnerschaft/20-39/männlich",
          "Wohnbevölkerung nach /2020-01-01/Geschieden/20-39/männlich",
          "Wohnbevölkerung nach /2021-01-01/In eingetragener Partnerschaft/60-79/männlich",
          "Wohnbevölkerung nach /2021-01-01/Verheiratet/80-99/weiblich",
          "Wohnbevölkerung nach /2020-01-01/Verheiratet/80-99/weiblich",
          "Wohnbevölkerung nach /2021-01-01/Ledig/80-99/weiblich",
          "Wohnbevölkerung nach /2020-01-01/Ledig/80-99/weiblich",
          "Wohnbevölkerung nach /2021-01-01/In eingetragener Partnerschaft/80-99/weiblich",
          "Wohnbevölkerung nach /2020-01-01/In eingetragener Partnerschaft/80-99/weiblich",
          "Wohnbevölkerung nach /2020-01-01/Verwitwet/60-79/weiblich",
          "Wohnbevölkerung nach /2021-01-01/Unbekannt/60-79/weiblich",
          "Wohnbevölkerung nach /2020-01-01/Unbekannt/60-79/weiblich",
          "Wohnbevölkerung nach /2021-01-01/Ledig/40-59/weiblich",
          "Wohnbevölkerung nach /2020-01-01/Ledig/40-59/weiblich",
          "Wohnbevölkerung nach /2021-01-01/In eingetragener Partnerschaft/40-59/weiblich",
          "Wohnbevölkerung nach /2020-01-01/In eingetragener Partnerschaft/40-59/weiblich",
          "Wohnbevölkerung nach /2021-01-01/In eingetragener Partnerschaft/20-39/weiblich",
          "Wohnbevölkerung nach /2020-01-01/In eingetragener Partnerschaft/20-39/weiblich",
          "Wohnbevölkerung nach /2021-01-01/Verwitwet/60-79/weiblich",
          "Wohnbevölkerung nach /2021-01-01/Verheiratet/0-19/weiblich",
          "Wohnbevölkerung nach /2020-01-01/In eingetragener Partnerschaft/0-19/männlich",
          "Wohnbevölkerung nach /2020-01-01/Verwitwet/80-99/weiblich",
          "Wohnbevölkerung nach /2020-01-01/Verheiratet/0-19/weiblich",
          "Wohnbevölkerung nach /2021-01-01/In aufgelöster Partnerschaft/40-59/männlich",
          "Wohnbevölkerung nach /2021-01-01/Ledig/40-59/männlich",
          "Wohnbevölkerung nach /2021-01-01/Verwitwet/80-99/weiblich",
          "Wohnbevölkerung nach /2021-01-01/Geschieden/20-39/männlich",
          "Wohnbevölkerung nach /2020-01-01/Ledig/0-19/männlich",
          "Wohnbevölkerung nach /2021-01-01/Ledig/0-19/männlich",
          "Wohnbevölkerung nach /2020-01-01/Verheiratet/0-19/männlich",
          "Wohnbevölkerung nach /2020-01-01/Unbekannt/40-59/männlich",
          "Wohnbevölkerung nach /2021-01-01/Ledig/20-39/männlich",
          "Wohnbevölkerung nach /2020-01-01/Unbekannt/20-39/männlich",
          "Wohnbevölkerung nach /2021-01-01/In aufgelöster Partnerschaft/60-79/männlich",
          "Wohnbevölkerung nach /2021-01-01/Unbekannt/20-39/männlich",
          "Wohnbevölkerung nach /2020-01-01/In aufgelöster Partnerschaft/20-39/männlich",
          "Wohnbevölkerung nach /2020-01-01/Verheiratet/40-59/männlich",
          "Wohnbevölkerung nach /2021-01-01/Unbekannt/40-59/männlich",
          "Wohnbevölkerung nach /2021-01-01/In aufgelöster Partnerschaft/20-39/männlich",
          "Wohnbevölkerung nach /2020-01-01/In eingetragener Partnerschaft/40-59/männlich",
          "Wohnbevölkerung nach /2020-01-01/Ledig/20-39/männlich",
          "Wohnbevölkerung nach /2021-01-01/Verwitwet/20-39/männlich",
          "Wohnbevölkerung nach /2020-01-01/In aufgelöster Partnerschaft/40-59/männlich",
          "Wohnbevölkerung nach /2020-01-01/Ledig/60-79/weiblich",
          "Wohnbevölkerung nach /2020-01-01/In aufgelöster Partnerschaft/60-79/weiblich",
          "Wohnbevölkerung nach /2021-01-01/In aufgelöster Partnerschaft/60-79/weiblich",
          "Wohnbevölkerung nach /2021-01-01/Ledig/60-79/weiblich",
          "Wohnbevölkerung nach /2020-01-01/Verheiratet/60-79/weiblich",
          "Wohnbevölkerung nach /2021-01-01/Geschieden/40-59/männlich",
          "Wohnbevölkerung nach /2020-01-01/In eingetragener Partnerschaft/60-79/weiblich",
          "Wohnbevölkerung nach /2020-01-01/Geschieden/80-99/weiblich",
          "Wohnbevölkerung nach /2021-01-01/Verwitwet/20-39/weiblich",
          "Wohnbevölkerung nach /2020-01-01/Verwitwet/20-39/weiblich",
          "Wohnbevölkerung nach /2021-01-01/Verheiratet/20-39/weiblich",
          "Wohnbevölkerung nach /2020-01-01/Verheiratet/20-39/weiblich",
          "Wohnbevölkerung nach /2021-01-01/Geschieden/80-99/weiblich",
          "Wohnbevölkerung nach /2020-01-01/In aufgelöster Partnerschaft/80-99/weiblich",
          "Wohnbevölkerung nach /2021-01-01/In aufgelöster Partnerschaft/80-99/weiblich",
          "Wohnbevölkerung nach /2021-01-01/Verwitwet/100 u. älter/männlich",
          "Wohnbevölkerung nach /2020-01-01/Verheiratet/100 u. älter/männlich",
          "Wohnbevölkerung nach /2020-01-01/Ledig/100 u. älter/männlich",
          "Wohnbevölkerung nach /2021-01-01/Verheiratet/60-79/weiblich",
          "Wohnbevölkerung nach /2021-01-01/In eingetragener Partnerschaft/60-79/weiblich",
          "Wohnbevölkerung nach /2021-01-01/Verheiratet/100 u. älter/weiblich",
          "Wohnbevölkerung nach /2021-01-01/Unbekannt/40-59/weiblich",
          "Wohnbevölkerung nach /2020-01-01/Verheiratet/80-99/männlich",
          "Wohnbevölkerung nach /2021-01-01/Verwitwet/60-79/männlich",
          "Wohnbevölkerung nach /2020-01-01/Verwitwet/60-79/männlich",
          "Wohnbevölkerung nach /2021-01-01/Verheiratet/60-79/männlich",
          "Wohnbevölkerung nach /2020-01-01/In aufgelöster Partnerschaft/20-39/weiblich",
          "Wohnbevölkerung nach /2021-01-01/In aufgelöster Partnerschaft/20-39/weiblich",
          "Wohnbevölkerung nach /2021-01-01/Unbekannt/60-79/männlich",
          "Wohnbevölkerung nach /2020-01-01/Verheiratet/100 u. älter/weiblich",
          "Wohnbevölkerung nach /2021-01-01/Verwitwet/40-59/männlich",
          "Wohnbevölkerung nach /2020-01-01/Geschieden/40-59/weiblich",
          "Wohnbevölkerung nach /2021-01-01/Geschieden/40-59/weiblich",
          "Wohnbevölkerung nach /2021-01-01/Ledig/100 u. älter/weiblich",
          "Wohnbevölkerung nach /2020-01-01/Ledig/40-59/männlich",
          "Wohnbevölkerung nach /2021-01-01/In eingetragener Partnerschaft/40-59/männlich",
          "Wohnbevölkerung nach /2020-01-01/Ledig/100 u. älter/weiblich",
          "Wohnbevölkerung nach /2021-01-01/Verheiratet/80-99/männlich",
          "Wohnbevölkerung nach /2021-01-01/Verheiratet/40-59/männlich",
          "Wohnbevölkerung nach /2020-01-01/Unbekannt/40-59/weiblich",
          "Wohnbevölkerung nach /2021-01-01/Geschieden/0-19",
          "Wohnbevölkerung nach /2020-01-01/In eingetragener Partnerschaft/0-19",
          "Wohnbevölkerung nach /2020-01-01/Ledig/0-19",
          "Wohnbevölkerung nach /2021-01-01/Ledig/0-19",
          "Wohnbevölkerung nach /2020-01-01/Unbekannt/0-19",
          "Wohnbevölkerung nach /2020-01-01/Verheiratet/0-19",
          "Wohnbevölkerung nach /2021-01-01/Verheiratet/0-19",
          "Wohnbevölkerung nach /2020-01-01/Geschieden/100 u. älter",
          "Wohnbevölkerung nach /2021-01-01/Geschieden/100 u. älter",
          "Wohnbevölkerung nach /2020-01-01/Ledig/100 u. älter",
          "Wohnbevölkerung nach /2021-01-01/Ledig/100 u. älter",
          "Wohnbevölkerung nach /2020-01-01/Verheiratet/100 u. älter",
          "Wohnbevölkerung nach /2021-01-01/Verheiratet/100 u. älter",
          "Wohnbevölkerung nach /2020-01-01/Verwitwet/100 u. älter",
          "Wohnbevölkerung nach /2021-01-01/Verwitwet/100 u. älter",
          "Wohnbevölkerung nach /2020-01-01/Geschieden/20-39",
          "Wohnbevölkerung nach /2021-01-01/Geschieden/20-39",
          "Wohnbevölkerung nach /2020-01-01/In aufgelöster Partnerschaft/20-39",
          "Wohnbevölkerung nach /2021-01-01/In aufgelöster Partnerschaft/20-39",
          "Wohnbevölkerung nach /2020-01-01/In eingetragener Partnerschaft/20-39",
          "Wohnbevölkerung nach /2021-01-01/In eingetragener Partnerschaft/20-39",
          "Wohnbevölkerung nach /2020-01-01/Ledig/20-39",
          "Wohnbevölkerung nach /2021-01-01/Ledig/20-39",
          "Wohnbevölkerung nach /2020-01-01/Unbekannt/20-39",
          "Wohnbevölkerung nach /2021-01-01/Unbekannt/20-39",
          "Wohnbevölkerung nach /2020-01-01/Verheiratet/20-39",
          "Wohnbevölkerung nach /2021-01-01/Verheiratet/20-39",
          "Wohnbevölkerung nach /2020-01-01/Verwitwet/20-39",
          "Wohnbevölkerung nach /2021-01-01/Verwitwet/20-39",
          "Wohnbevölkerung nach /2020-01-01/Geschieden/40-59",
          "Wohnbevölkerung nach /2021-01-01/Geschieden/40-59",
          "Wohnbevölkerung nach /2020-01-01/In aufgelöster Partnerschaft/40-59",
          "Wohnbevölkerung nach /2021-01-01/In aufgelöster Partnerschaft/40-59",
          "Wohnbevölkerung nach /2020-01-01/In eingetragener Partnerschaft/40-59",
          "Wohnbevölkerung nach /2021-01-01/In eingetragener Partnerschaft/40-59",
          "Wohnbevölkerung nach /2020-01-01/Ledig/40-59",
          "Wohnbevölkerung nach /2021-01-01/Ledig/40-59",
          "Wohnbevölkerung nach /2020-01-01/Unbekannt/40-59",
          "Wohnbevölkerung nach /2021-01-01/Unbekannt/40-59",
          "Wohnbevölkerung nach /2020-01-01/Verheiratet/40-59",
          "Wohnbevölkerung nach /2021-01-01/Verheiratet/40-59",
          "Wohnbevölkerung nach /2020-01-01/Verwitwet/40-59",
          "Wohnbevölkerung nach /2021-01-01/Verwitwet/40-59",
          "Wohnbevölkerung nach /2020-01-01/Geschieden/60-79",
          "Wohnbevölkerung nach /2021-01-01/Geschieden/60-79",
          "Wohnbevölkerung nach /2020-01-01/In aufgelöster Partnerschaft/60-79",
          "Wohnbevölkerung nach /2021-01-01/In aufgelöster Partnerschaft/60-79",
          "Wohnbevölkerung nach /2020-01-01/In eingetragener Partnerschaft/60-79",
          "Wohnbevölkerung nach /2021-01-01/In eingetragener Partnerschaft/60-79",
          "Wohnbevölkerung nach /2020-01-01/Ledig/60-79",
          "Wohnbevölkerung nach /2021-01-01/Ledig/60-79",
          "Wohnbevölkerung nach /2020-01-01/Unbekannt/60-79",
          "Wohnbevölkerung nach /2021-01-01/Unbekannt/60-79",
          "Wohnbevölkerung nach /2020-01-01/Verheiratet/60-79",
          "Wohnbevölkerung nach /2021-01-01/Verheiratet/60-79",
          "Wohnbevölkerung nach /2020-01-01/Verwitwet/60-79",
          "Wohnbevölkerung nach /2021-01-01/Verwitwet/60-79",
          "Wohnbevölkerung nach /2020-01-01/Geschieden/80-99",
          "Wohnbevölkerung nach /2021-01-01/Geschieden/80-99",
          "Wohnbevölkerung nach /2020-01-01/In aufgelöster Partnerschaft/80-99",
          "Wohnbevölkerung nach /2021-01-01/In aufgelöster Partnerschaft/80-99",
          "Wohnbevölkerung nach /2020-01-01/In eingetragener Partnerschaft/80-99",
          "Wohnbevölkerung nach /2021-01-01/In eingetragener Partnerschaft/80-99",
          "Wohnbevölkerung nach /2020-01-01/Ledig/80-99",
          "Wohnbevölkerung nach /2021-01-01/Ledig/80-99",
          "Wohnbevölkerung nach /2020-01-01/Verheiratet/80-99",
          "Wohnbevölkerung nach /2021-01-01/Verheiratet/80-99",
          "Wohnbevölkerung nach /2020-01-01/Verwitwet/80-99",
          "Wohnbevölkerung nach /2021-01-01/Verwitwet/80-99",
          "Wohnbevölkerung nach /2020-01-01/Geschieden",
          "Wohnbevölkerung nach /2021-01-01/Geschieden",
          "Wohnbevölkerung nach /2020-01-01/In aufgelöster Partnerschaft",
          "Wohnbevölkerung nach /2021-01-01/In aufgelöster Partnerschaft",
          "Wohnbevölkerung nach /2020-01-01/In eingetragener Partnerschaft",
          "Wohnbevölkerung nach /2021-01-01/In eingetragener Partnerschaft",
          "Wohnbevölkerung nach /2020-01-01/Ledig",
          "Wohnbevölkerung nach /2021-01-01/Ledig",
          "Wohnbevölkerung nach /2020-01-01/Unbekannt",
          "Wohnbevölkerung nach /2021-01-01/Unbekannt",
          "Wohnbevölkerung nach /2020-01-01/Verheiratet",
          "Wohnbevölkerung nach /2021-01-01/Verheiratet",
          "Wohnbevölkerung nach /2020-01-01/Verwitwet",
          "Wohnbevölkerung nach /2021-01-01/Verwitwet",
          "Wohnbevölkerung nach /2020-01-01",
          "Wohnbevölkerung nach /2021-01-01",
          "Wohnbevölkerung nach "
         ],
         "labels": [
          "weiblich",
          "weiblich",
          "männlich",
          "weiblich",
          "weiblich",
          "weiblich",
          "weiblich",
          "weiblich",
          "weiblich",
          "weiblich",
          "weiblich",
          "weiblich",
          "männlich",
          "weiblich",
          "weiblich",
          "männlich",
          "weiblich",
          "männlich",
          "männlich",
          "weiblich",
          "weiblich",
          "männlich",
          "männlich",
          "männlich",
          "männlich",
          "männlich",
          "männlich",
          "männlich",
          "männlich",
          "männlich",
          "männlich",
          "männlich",
          "männlich",
          "männlich",
          "männlich",
          "männlich",
          "männlich",
          "männlich",
          "männlich",
          "männlich",
          "weiblich",
          "weiblich",
          "männlich",
          "männlich",
          "männlich",
          "weiblich",
          "weiblich",
          "weiblich",
          "männlich",
          "weiblich",
          "männlich",
          "männlich",
          "männlich",
          "männlich",
          "weiblich",
          "weiblich",
          "weiblich",
          "weiblich",
          "weiblich",
          "weiblich",
          "weiblich",
          "weiblich",
          "weiblich",
          "weiblich",
          "weiblich",
          "weiblich",
          "weiblich",
          "weiblich",
          "weiblich",
          "weiblich",
          "weiblich",
          "männlich",
          "weiblich",
          "weiblich",
          "männlich",
          "männlich",
          "weiblich",
          "männlich",
          "männlich",
          "männlich",
          "männlich",
          "männlich",
          "männlich",
          "männlich",
          "männlich",
          "männlich",
          "männlich",
          "männlich",
          "männlich",
          "männlich",
          "männlich",
          "männlich",
          "männlich",
          "männlich",
          "weiblich",
          "weiblich",
          "weiblich",
          "weiblich",
          "weiblich",
          "männlich",
          "weiblich",
          "weiblich",
          "weiblich",
          "weiblich",
          "weiblich",
          "weiblich",
          "weiblich",
          "weiblich",
          "weiblich",
          "männlich",
          "männlich",
          "männlich",
          "weiblich",
          "weiblich",
          "weiblich",
          "weiblich",
          "männlich",
          "männlich",
          "männlich",
          "männlich",
          "weiblich",
          "weiblich",
          "männlich",
          "weiblich",
          "männlich",
          "weiblich",
          "weiblich",
          "weiblich",
          "männlich",
          "männlich",
          "weiblich",
          "männlich",
          "männlich",
          "weiblich",
          "0-19",
          "0-19",
          "0-19",
          "0-19",
          "0-19",
          "0-19",
          "0-19",
          "100 u. älter",
          "100 u. älter",
          "100 u. älter",
          "100 u. älter",
          "100 u. älter",
          "100 u. älter",
          "100 u. älter",
          "100 u. älter",
          "20-39",
          "20-39",
          "20-39",
          "20-39",
          "20-39",
          "20-39",
          "20-39",
          "20-39",
          "20-39",
          "20-39",
          "20-39",
          "20-39",
          "20-39",
          "20-39",
          "40-59",
          "40-59",
          "40-59",
          "40-59",
          "40-59",
          "40-59",
          "40-59",
          "40-59",
          "40-59",
          "40-59",
          "40-59",
          "40-59",
          "40-59",
          "40-59",
          "60-79",
          "60-79",
          "60-79",
          "60-79",
          "60-79",
          "60-79",
          "60-79",
          "60-79",
          "60-79",
          "60-79",
          "60-79",
          "60-79",
          "60-79",
          "60-79",
          "80-99",
          "80-99",
          "80-99",
          "80-99",
          "80-99",
          "80-99",
          "80-99",
          "80-99",
          "80-99",
          "80-99",
          "80-99",
          "80-99",
          "Geschieden",
          "Geschieden",
          "In aufgelöster Partnerschaft",
          "In aufgelöster Partnerschaft",
          "In eingetragener Partnerschaft",
          "In eingetragener Partnerschaft",
          "Ledig",
          "Ledig",
          "Unbekannt",
          "Unbekannt",
          "Verheiratet",
          "Verheiratet",
          "Verwitwet",
          "Verwitwet",
          "2020-01-01",
          "2021-01-01",
          "Wohnbevölkerung nach "
         ],
         "marker": {
          "colors": [
           "#ab63fa",
           "#FFA15A",
           "#FFA15A",
           "#19d3f3",
           "#FFA15A",
           "#FF6692",
           "#FF6692",
           "#FF6692",
           "#B6E880",
           "#B6E880",
           "#FF6692",
           "#ab63fa",
           "#FF6692",
           "#FF97FF",
           "#FF97FF",
           "#FFA15A",
           "#FF6692",
           "#FF6692",
           "#19d3f3",
           "#FF6692",
           "#19d3f3",
           "#FF6692",
           "#FF6692",
           "#B6E880",
           "#FF6692",
           "#19d3f3",
           "#ab63fa",
           "#FFA15A",
           "#19d3f3",
           "#19d3f3",
           "#19d3f3",
           "#FF97FF",
           "#FF97FF",
           "#B6E880",
           "#FF97FF",
           "#FECB52",
           "#FF97FF",
           "#FECB52",
           "#FECB52",
           "#B6E880",
           "#FFA15A",
           "#FFA15A",
           "#FF6692",
           "#FFA15A",
           "#FFA15A",
           "#FF97FF",
           "#FF97FF",
           "#FF6692",
           "#FECB52",
           "#ab63fa",
           "#FF6692",
           "#FECB52",
           "#FF6692",
           "#FECB52",
           "#19d3f3",
           "#19d3f3",
           "#FF97FF",
           "#FF97FF",
           "#FECB52",
           "#FECB52",
           "#FFA15A",
           "#ab63fa",
           "#ab63fa",
           "#FF97FF",
           "#FF97FF",
           "#FECB52",
           "#FECB52",
           "#FECB52",
           "#FECB52",
           "#FFA15A",
           "#19d3f3",
           "#FECB52",
           "#FFA15A",
           "#19d3f3",
           "#B6E880",
           "#FF97FF",
           "#FFA15A",
           "#FF6692",
           "#FF97FF",
           "#FF97FF",
           "#19d3f3",
           "#ab63fa",
           "#FF97FF",
           "#ab63fa",
           "#B6E880",
           "#ab63fa",
           "#B6E880",
           "#19d3f3",
           "#ab63fa",
           "#B6E880",
           "#FECB52",
           "#FF97FF",
           "#FFA15A",
           "#B6E880",
           "#FF97FF",
           "#B6E880",
           "#B6E880",
           "#FF97FF",
           "#19d3f3",
           "#FF6692",
           "#FECB52",
           "#FF6692",
           "#FFA15A",
           "#FFA15A",
           "#19d3f3",
           "#19d3f3",
           "#FF6692",
           "#B6E880",
           "#B6E880",
           "#FFA15A",
           "#19d3f3",
           "#FF97FF",
           "#19d3f3",
           "#FECB52",
           "#19d3f3",
           "#ab63fa",
           "#19d3f3",
           "#FFA15A",
           "#FFA15A",
           "#19d3f3",
           "#B6E880",
           "#B6E880",
           "#ab63fa",
           "#19d3f3",
           "#FFA15A",
           "#FF6692",
           "#FF6692",
           "#FF97FF",
           "#FF97FF",
           "#FECB52",
           "#FF97FF",
           "#19d3f3",
           "#19d3f3",
           "#ab63fa",
           "#FF6692",
           "#FECB52",
           "#FF97FF",
           "#FF97FF",
           "#ab63fa",
           "#19d3f3",
           "#19d3f3",
           "#FF6692",
           "#FF6692",
           "#FF97FF",
           "#FF97FF",
           "#19d3f3",
           "#19d3f3",
           "#FFA15A",
           "#FFA15A",
           "#FF6692",
           "#FF6692",
           "#B6E880",
           "#B6E880",
           "#FECB52",
           "#FECB52",
           "#FF97FF",
           "#FF97FF",
           "#ab63fa",
           "#ab63fa",
           "#19d3f3",
           "#19d3f3",
           "#FFA15A",
           "#FFA15A",
           "#FF6692",
           "#FF6692",
           "#B6E880",
           "#B6E880",
           "#FECB52",
           "#FECB52",
           "#FF97FF",
           "#FF97FF",
           "#ab63fa",
           "#ab63fa",
           "#19d3f3",
           "#19d3f3",
           "#FFA15A",
           "#FFA15A",
           "#FF6692",
           "#FF6692",
           "#B6E880",
           "#B6E880",
           "#FECB52",
           "#FECB52",
           "#FF97FF",
           "#FF97FF",
           "#ab63fa",
           "#ab63fa",
           "#19d3f3",
           "#19d3f3",
           "#FFA15A",
           "#FFA15A",
           "#FF6692",
           "#FF6692",
           "#B6E880",
           "#B6E880",
           "#FECB52",
           "#FECB52",
           "#FF97FF",
           "#FF97FF",
           "#19d3f3",
           "#19d3f3",
           "#FFA15A",
           "#FFA15A",
           "#FF6692",
           "#FF6692",
           "#B6E880",
           "#B6E880",
           "#FECB52",
           "#FECB52",
           "#FF97FF",
           "#FF97FF",
           "#ab63fa",
           "#ab63fa",
           "#19d3f3",
           "#19d3f3",
           "#FFA15A",
           "#FFA15A",
           "lightgrey",
           "lightgrey",
           "lightgrey"
          ]
         },
         "name": "",
         "parents": [
          "Wohnbevölkerung nach /2021-01-01/Unbekannt/20-39",
          "Wohnbevölkerung nach /2020-01-01/Verwitwet/40-59",
          "Wohnbevölkerung nach /2020-01-01/Verwitwet/20-39",
          "Wohnbevölkerung nach /2020-01-01/Verheiratet/40-59",
          "Wohnbevölkerung nach /2021-01-01/Verwitwet/40-59",
          "Wohnbevölkerung nach /2020-01-01/Geschieden/60-79",
          "Wohnbevölkerung nach /2021-01-01/Geschieden/60-79",
          "Wohnbevölkerung nach /2020-01-01/Geschieden/20-39",
          "Wohnbevölkerung nach /2021-01-01/In aufgelöster Partnerschaft/40-59",
          "Wohnbevölkerung nach /2020-01-01/In aufgelöster Partnerschaft/40-59",
          "Wohnbevölkerung nach /2021-01-01/Geschieden/20-39",
          "Wohnbevölkerung nach /2020-01-01/Unbekannt/20-39",
          "Wohnbevölkerung nach /2020-01-01/Geschieden/40-59",
          "Wohnbevölkerung nach /2021-01-01/Ledig/20-39",
          "Wohnbevölkerung nach /2020-01-01/Ledig/20-39",
          "Wohnbevölkerung nach /2020-01-01/Verwitwet/100 u. älter",
          "Wohnbevölkerung nach /2021-01-01/Geschieden/100 u. älter",
          "Wohnbevölkerung nach /2021-01-01/Geschieden/100 u. älter",
          "Wohnbevölkerung nach /2021-01-01/Verheiratet/0-19",
          "Wohnbevölkerung nach /2020-01-01/Geschieden/100 u. älter",
          "Wohnbevölkerung nach /2021-01-01/Verheiratet/40-59",
          "Wohnbevölkerung nach /2020-01-01/Geschieden/60-79",
          "Wohnbevölkerung nach /2021-01-01/Geschieden/60-79",
          "Wohnbevölkerung nach /2020-01-01/In aufgelöster Partnerschaft/60-79",
          "Wohnbevölkerung nach /2021-01-01/Geschieden/80-99",
          "Wohnbevölkerung nach /2020-01-01/Verheiratet/60-79",
          "Wohnbevölkerung nach /2020-01-01/Unbekannt/60-79",
          "Wohnbevölkerung nach /2020-01-01/Verwitwet/40-59",
          "Wohnbevölkerung nach /2021-01-01/Verheiratet/20-39",
          "Wohnbevölkerung nach /2020-01-01/Verheiratet/20-39",
          "Wohnbevölkerung nach /2021-01-01/Verheiratet/100 u. älter",
          "Wohnbevölkerung nach /2021-01-01/Ledig/80-99",
          "Wohnbevölkerung nach /2021-01-01/Ledig/60-79",
          "Wohnbevölkerung nach /2021-01-01/In aufgelöster Partnerschaft/80-99",
          "Wohnbevölkerung nach /2020-01-01/Ledig/80-99",
          "Wohnbevölkerung nach /2021-01-01/In eingetragener Partnerschaft/20-39",
          "Wohnbevölkerung nach /2020-01-01/Ledig/60-79",
          "Wohnbevölkerung nach /2020-01-01/In eingetragener Partnerschaft/80-99",
          "Wohnbevölkerung nach /2021-01-01/In eingetragener Partnerschaft/80-99",
          "Wohnbevölkerung nach /2020-01-01/In aufgelöster Partnerschaft/80-99",
          "Wohnbevölkerung nach /2021-01-01/Verwitwet/100 u. älter",
          "Wohnbevölkerung nach /2020-01-01/Verwitwet/100 u. älter",
          "Wohnbevölkerung nach /2020-01-01/Geschieden/80-99",
          "Wohnbevölkerung nach /2020-01-01/Verwitwet/80-99",
          "Wohnbevölkerung nach /2021-01-01/Verwitwet/80-99",
          "Wohnbevölkerung nach /2020-01-01/Ledig/0-19",
          "Wohnbevölkerung nach /2021-01-01/Ledig/0-19",
          "Wohnbevölkerung nach /2021-01-01/Geschieden/0-19",
          "Wohnbevölkerung nach /2020-01-01/In eingetragener Partnerschaft/60-79",
          "Wohnbevölkerung nach /2020-01-01/Unbekannt/0-19",
          "Wohnbevölkerung nach /2020-01-01/Geschieden/100 u. älter",
          "Wohnbevölkerung nach /2020-01-01/In eingetragener Partnerschaft/20-39",
          "Wohnbevölkerung nach /2020-01-01/Geschieden/20-39",
          "Wohnbevölkerung nach /2021-01-01/In eingetragener Partnerschaft/60-79",
          "Wohnbevölkerung nach /2021-01-01/Verheiratet/80-99",
          "Wohnbevölkerung nach /2020-01-01/Verheiratet/80-99",
          "Wohnbevölkerung nach /2021-01-01/Ledig/80-99",
          "Wohnbevölkerung nach /2020-01-01/Ledig/80-99",
          "Wohnbevölkerung nach /2021-01-01/In eingetragener Partnerschaft/80-99",
          "Wohnbevölkerung nach /2020-01-01/In eingetragener Partnerschaft/80-99",
          "Wohnbevölkerung nach /2020-01-01/Verwitwet/60-79",
          "Wohnbevölkerung nach /2021-01-01/Unbekannt/60-79",
          "Wohnbevölkerung nach /2020-01-01/Unbekannt/60-79",
          "Wohnbevölkerung nach /2021-01-01/Ledig/40-59",
          "Wohnbevölkerung nach /2020-01-01/Ledig/40-59",
          "Wohnbevölkerung nach /2021-01-01/In eingetragener Partnerschaft/40-59",
          "Wohnbevölkerung nach /2020-01-01/In eingetragener Partnerschaft/40-59",
          "Wohnbevölkerung nach /2021-01-01/In eingetragener Partnerschaft/20-39",
          "Wohnbevölkerung nach /2020-01-01/In eingetragener Partnerschaft/20-39",
          "Wohnbevölkerung nach /2021-01-01/Verwitwet/60-79",
          "Wohnbevölkerung nach /2021-01-01/Verheiratet/0-19",
          "Wohnbevölkerung nach /2020-01-01/In eingetragener Partnerschaft/0-19",
          "Wohnbevölkerung nach /2020-01-01/Verwitwet/80-99",
          "Wohnbevölkerung nach /2020-01-01/Verheiratet/0-19",
          "Wohnbevölkerung nach /2021-01-01/In aufgelöster Partnerschaft/40-59",
          "Wohnbevölkerung nach /2021-01-01/Ledig/40-59",
          "Wohnbevölkerung nach /2021-01-01/Verwitwet/80-99",
          "Wohnbevölkerung nach /2021-01-01/Geschieden/20-39",
          "Wohnbevölkerung nach /2020-01-01/Ledig/0-19",
          "Wohnbevölkerung nach /2021-01-01/Ledig/0-19",
          "Wohnbevölkerung nach /2020-01-01/Verheiratet/0-19",
          "Wohnbevölkerung nach /2020-01-01/Unbekannt/40-59",
          "Wohnbevölkerung nach /2021-01-01/Ledig/20-39",
          "Wohnbevölkerung nach /2020-01-01/Unbekannt/20-39",
          "Wohnbevölkerung nach /2021-01-01/In aufgelöster Partnerschaft/60-79",
          "Wohnbevölkerung nach /2021-01-01/Unbekannt/20-39",
          "Wohnbevölkerung nach /2020-01-01/In aufgelöster Partnerschaft/20-39",
          "Wohnbevölkerung nach /2020-01-01/Verheiratet/40-59",
          "Wohnbevölkerung nach /2021-01-01/Unbekannt/40-59",
          "Wohnbevölkerung nach /2021-01-01/In aufgelöster Partnerschaft/20-39",
          "Wohnbevölkerung nach /2020-01-01/In eingetragener Partnerschaft/40-59",
          "Wohnbevölkerung nach /2020-01-01/Ledig/20-39",
          "Wohnbevölkerung nach /2021-01-01/Verwitwet/20-39",
          "Wohnbevölkerung nach /2020-01-01/In aufgelöster Partnerschaft/40-59",
          "Wohnbevölkerung nach /2020-01-01/Ledig/60-79",
          "Wohnbevölkerung nach /2020-01-01/In aufgelöster Partnerschaft/60-79",
          "Wohnbevölkerung nach /2021-01-01/In aufgelöster Partnerschaft/60-79",
          "Wohnbevölkerung nach /2021-01-01/Ledig/60-79",
          "Wohnbevölkerung nach /2020-01-01/Verheiratet/60-79",
          "Wohnbevölkerung nach /2021-01-01/Geschieden/40-59",
          "Wohnbevölkerung nach /2020-01-01/In eingetragener Partnerschaft/60-79",
          "Wohnbevölkerung nach /2020-01-01/Geschieden/80-99",
          "Wohnbevölkerung nach /2021-01-01/Verwitwet/20-39",
          "Wohnbevölkerung nach /2020-01-01/Verwitwet/20-39",
          "Wohnbevölkerung nach /2021-01-01/Verheiratet/20-39",
          "Wohnbevölkerung nach /2020-01-01/Verheiratet/20-39",
          "Wohnbevölkerung nach /2021-01-01/Geschieden/80-99",
          "Wohnbevölkerung nach /2020-01-01/In aufgelöster Partnerschaft/80-99",
          "Wohnbevölkerung nach /2021-01-01/In aufgelöster Partnerschaft/80-99",
          "Wohnbevölkerung nach /2021-01-01/Verwitwet/100 u. älter",
          "Wohnbevölkerung nach /2020-01-01/Verheiratet/100 u. älter",
          "Wohnbevölkerung nach /2020-01-01/Ledig/100 u. älter",
          "Wohnbevölkerung nach /2021-01-01/Verheiratet/60-79",
          "Wohnbevölkerung nach /2021-01-01/In eingetragener Partnerschaft/60-79",
          "Wohnbevölkerung nach /2021-01-01/Verheiratet/100 u. älter",
          "Wohnbevölkerung nach /2021-01-01/Unbekannt/40-59",
          "Wohnbevölkerung nach /2020-01-01/Verheiratet/80-99",
          "Wohnbevölkerung nach /2021-01-01/Verwitwet/60-79",
          "Wohnbevölkerung nach /2020-01-01/Verwitwet/60-79",
          "Wohnbevölkerung nach /2021-01-01/Verheiratet/60-79",
          "Wohnbevölkerung nach /2020-01-01/In aufgelöster Partnerschaft/20-39",
          "Wohnbevölkerung nach /2021-01-01/In aufgelöster Partnerschaft/20-39",
          "Wohnbevölkerung nach /2021-01-01/Unbekannt/60-79",
          "Wohnbevölkerung nach /2020-01-01/Verheiratet/100 u. älter",
          "Wohnbevölkerung nach /2021-01-01/Verwitwet/40-59",
          "Wohnbevölkerung nach /2020-01-01/Geschieden/40-59",
          "Wohnbevölkerung nach /2021-01-01/Geschieden/40-59",
          "Wohnbevölkerung nach /2021-01-01/Ledig/100 u. älter",
          "Wohnbevölkerung nach /2020-01-01/Ledig/40-59",
          "Wohnbevölkerung nach /2021-01-01/In eingetragener Partnerschaft/40-59",
          "Wohnbevölkerung nach /2020-01-01/Ledig/100 u. älter",
          "Wohnbevölkerung nach /2021-01-01/Verheiratet/80-99",
          "Wohnbevölkerung nach /2021-01-01/Verheiratet/40-59",
          "Wohnbevölkerung nach /2020-01-01/Unbekannt/40-59",
          "Wohnbevölkerung nach /2021-01-01/Geschieden",
          "Wohnbevölkerung nach /2020-01-01/In eingetragener Partnerschaft",
          "Wohnbevölkerung nach /2020-01-01/Ledig",
          "Wohnbevölkerung nach /2021-01-01/Ledig",
          "Wohnbevölkerung nach /2020-01-01/Unbekannt",
          "Wohnbevölkerung nach /2020-01-01/Verheiratet",
          "Wohnbevölkerung nach /2021-01-01/Verheiratet",
          "Wohnbevölkerung nach /2020-01-01/Geschieden",
          "Wohnbevölkerung nach /2021-01-01/Geschieden",
          "Wohnbevölkerung nach /2020-01-01/Ledig",
          "Wohnbevölkerung nach /2021-01-01/Ledig",
          "Wohnbevölkerung nach /2020-01-01/Verheiratet",
          "Wohnbevölkerung nach /2021-01-01/Verheiratet",
          "Wohnbevölkerung nach /2020-01-01/Verwitwet",
          "Wohnbevölkerung nach /2021-01-01/Verwitwet",
          "Wohnbevölkerung nach /2020-01-01/Geschieden",
          "Wohnbevölkerung nach /2021-01-01/Geschieden",
          "Wohnbevölkerung nach /2020-01-01/In aufgelöster Partnerschaft",
          "Wohnbevölkerung nach /2021-01-01/In aufgelöster Partnerschaft",
          "Wohnbevölkerung nach /2020-01-01/In eingetragener Partnerschaft",
          "Wohnbevölkerung nach /2021-01-01/In eingetragener Partnerschaft",
          "Wohnbevölkerung nach /2020-01-01/Ledig",
          "Wohnbevölkerung nach /2021-01-01/Ledig",
          "Wohnbevölkerung nach /2020-01-01/Unbekannt",
          "Wohnbevölkerung nach /2021-01-01/Unbekannt",
          "Wohnbevölkerung nach /2020-01-01/Verheiratet",
          "Wohnbevölkerung nach /2021-01-01/Verheiratet",
          "Wohnbevölkerung nach /2020-01-01/Verwitwet",
          "Wohnbevölkerung nach /2021-01-01/Verwitwet",
          "Wohnbevölkerung nach /2020-01-01/Geschieden",
          "Wohnbevölkerung nach /2021-01-01/Geschieden",
          "Wohnbevölkerung nach /2020-01-01/In aufgelöster Partnerschaft",
          "Wohnbevölkerung nach /2021-01-01/In aufgelöster Partnerschaft",
          "Wohnbevölkerung nach /2020-01-01/In eingetragener Partnerschaft",
          "Wohnbevölkerung nach /2021-01-01/In eingetragener Partnerschaft",
          "Wohnbevölkerung nach /2020-01-01/Ledig",
          "Wohnbevölkerung nach /2021-01-01/Ledig",
          "Wohnbevölkerung nach /2020-01-01/Unbekannt",
          "Wohnbevölkerung nach /2021-01-01/Unbekannt",
          "Wohnbevölkerung nach /2020-01-01/Verheiratet",
          "Wohnbevölkerung nach /2021-01-01/Verheiratet",
          "Wohnbevölkerung nach /2020-01-01/Verwitwet",
          "Wohnbevölkerung nach /2021-01-01/Verwitwet",
          "Wohnbevölkerung nach /2020-01-01/Geschieden",
          "Wohnbevölkerung nach /2021-01-01/Geschieden",
          "Wohnbevölkerung nach /2020-01-01/In aufgelöster Partnerschaft",
          "Wohnbevölkerung nach /2021-01-01/In aufgelöster Partnerschaft",
          "Wohnbevölkerung nach /2020-01-01/In eingetragener Partnerschaft",
          "Wohnbevölkerung nach /2021-01-01/In eingetragener Partnerschaft",
          "Wohnbevölkerung nach /2020-01-01/Ledig",
          "Wohnbevölkerung nach /2021-01-01/Ledig",
          "Wohnbevölkerung nach /2020-01-01/Unbekannt",
          "Wohnbevölkerung nach /2021-01-01/Unbekannt",
          "Wohnbevölkerung nach /2020-01-01/Verheiratet",
          "Wohnbevölkerung nach /2021-01-01/Verheiratet",
          "Wohnbevölkerung nach /2020-01-01/Verwitwet",
          "Wohnbevölkerung nach /2021-01-01/Verwitwet",
          "Wohnbevölkerung nach /2020-01-01/Geschieden",
          "Wohnbevölkerung nach /2021-01-01/Geschieden",
          "Wohnbevölkerung nach /2020-01-01/In aufgelöster Partnerschaft",
          "Wohnbevölkerung nach /2021-01-01/In aufgelöster Partnerschaft",
          "Wohnbevölkerung nach /2020-01-01/In eingetragener Partnerschaft",
          "Wohnbevölkerung nach /2021-01-01/In eingetragener Partnerschaft",
          "Wohnbevölkerung nach /2020-01-01/Ledig",
          "Wohnbevölkerung nach /2021-01-01/Ledig",
          "Wohnbevölkerung nach /2020-01-01/Verheiratet",
          "Wohnbevölkerung nach /2021-01-01/Verheiratet",
          "Wohnbevölkerung nach /2020-01-01/Verwitwet",
          "Wohnbevölkerung nach /2021-01-01/Verwitwet",
          "Wohnbevölkerung nach /2020-01-01",
          "Wohnbevölkerung nach /2021-01-01",
          "Wohnbevölkerung nach /2020-01-01",
          "Wohnbevölkerung nach /2021-01-01",
          "Wohnbevölkerung nach /2020-01-01",
          "Wohnbevölkerung nach /2021-01-01",
          "Wohnbevölkerung nach /2020-01-01",
          "Wohnbevölkerung nach /2021-01-01",
          "Wohnbevölkerung nach /2020-01-01",
          "Wohnbevölkerung nach /2021-01-01",
          "Wohnbevölkerung nach /2020-01-01",
          "Wohnbevölkerung nach /2021-01-01",
          "Wohnbevölkerung nach /2020-01-01",
          "Wohnbevölkerung nach /2021-01-01",
          "Wohnbevölkerung nach ",
          "Wohnbevölkerung nach ",
          ""
         ],
         "root": {
          "color": "grey"
         },
         "type": "treemap",
         "values": [
          14,
          953,
          16,
          28447,
          932,
          8411,
          8533,
          2110,
          59,
          54,
          2015,
          13,
          6880,
          57004,
          56335,
          13,
          9,
          3,
          1,
          9,
          28513,
          5039,
          5135,
          48,
          697,
          16192,
          1,
          233,
          15363,
          16198,
          9,
          627,
          5520,
          7,
          603,
          591,
          5322,
          29,
          31,
          6,
          56,
          64,
          667,
          1562,
          1559,
          36197,
          36690,
          1,
          352,
          1,
          1,
          573,
          1256,
          370,
          2738,
          2724,
          1765,
          1755,
          4,
          3,
          4169,
          6,
          5,
          17736,
          17128,
          286,
          288,
          142,
          120,
          4083,
          11,
          1,
          6583,
          12,
          231,
          22427,
          6414,
          1155,
          38357,
          38734,
          2,
          3,
          65396,
          20,
          53,
          16,
          106,
          31581,
          5,
          103,
          1126,
          64538,
          12,
          201,
          5969,
          18,
          16,
          6038,
          13888,
          6763,
          91,
          1924,
          66,
          71,
          19415,
          20238,
          2040,
          3,
          5,
          17,
          10,
          1,
          13829,
          104,
          3,
          3,
          3995,
          970,
          976,
          16067,
          17,
          19,
          1,
          5,
          233,
          9357,
          9110,
          12,
          21849,
          1109,
          13,
          4024,
          31432,
          4,
          1,
          1,
          74554,
          75424,
          1,
          14,
          12,
          10,
          12,
          14,
          12,
          15,
          12,
          77,
          73,
          3366,
          3170,
          123,
          122,
          693,
          733,
          120873,
          122400,
          33,
          30,
          36436,
          34778,
          87,
          78,
          16237,
          15873,
          255,
          290,
          1414,
          1395,
          38977,
          40163,
          7,
          8,
          60028,
          59945,
          1186,
          1165,
          13450,
          13668,
          66,
          69,
          443,
          474,
          11291,
          11558,
          6,
          7,
          30080,
          29896,
          5145,
          5053,
          2591,
          2737,
          9,
          12,
          32,
          35,
          2358,
          2392,
          6719,
          6762,
          8145,
          7973,
          35654,
          35461,
          453,
          493,
          2583,
          2637,
          248067,
          251949,
          47,
          45,
          133292,
          131405,
          14640,
          14342,
          434736,
          436332,
          871068
         ]
        }
       ],
       "layout": {
        "height": 600,
        "legend": {
         "tracegroupgap": 0
        },
        "margin": {
         "b": 25,
         "l": 25,
         "r": 250,
         "t": 50
        },
        "template": {
         "data": {
          "bar": [
           {
            "error_x": {
             "color": "#2a3f5f"
            },
            "error_y": {
             "color": "#2a3f5f"
            },
            "marker": {
             "line": {
              "color": "#E5ECF6",
              "width": 0.5
             },
             "pattern": {
              "fillmode": "overlay",
              "size": 10,
              "solidity": 0.2
             }
            },
            "type": "bar"
           }
          ],
          "barpolar": [
           {
            "marker": {
             "line": {
              "color": "#E5ECF6",
              "width": 0.5
             },
             "pattern": {
              "fillmode": "overlay",
              "size": 10,
              "solidity": 0.2
             }
            },
            "type": "barpolar"
           }
          ],
          "carpet": [
           {
            "aaxis": {
             "endlinecolor": "#2a3f5f",
             "gridcolor": "white",
             "linecolor": "white",
             "minorgridcolor": "white",
             "startlinecolor": "#2a3f5f"
            },
            "baxis": {
             "endlinecolor": "#2a3f5f",
             "gridcolor": "white",
             "linecolor": "white",
             "minorgridcolor": "white",
             "startlinecolor": "#2a3f5f"
            },
            "type": "carpet"
           }
          ],
          "choropleth": [
           {
            "colorbar": {
             "outlinewidth": 0,
             "ticks": ""
            },
            "type": "choropleth"
           }
          ],
          "contour": [
           {
            "colorbar": {
             "outlinewidth": 0,
             "ticks": ""
            },
            "colorscale": [
             [
              0,
              "#0d0887"
             ],
             [
              0.1111111111111111,
              "#46039f"
             ],
             [
              0.2222222222222222,
              "#7201a8"
             ],
             [
              0.3333333333333333,
              "#9c179e"
             ],
             [
              0.4444444444444444,
              "#bd3786"
             ],
             [
              0.5555555555555556,
              "#d8576b"
             ],
             [
              0.6666666666666666,
              "#ed7953"
             ],
             [
              0.7777777777777778,
              "#fb9f3a"
             ],
             [
              0.8888888888888888,
              "#fdca26"
             ],
             [
              1,
              "#f0f921"
             ]
            ],
            "type": "contour"
           }
          ],
          "contourcarpet": [
           {
            "colorbar": {
             "outlinewidth": 0,
             "ticks": ""
            },
            "type": "contourcarpet"
           }
          ],
          "heatmap": [
           {
            "colorbar": {
             "outlinewidth": 0,
             "ticks": ""
            },
            "colorscale": [
             [
              0,
              "#0d0887"
             ],
             [
              0.1111111111111111,
              "#46039f"
             ],
             [
              0.2222222222222222,
              "#7201a8"
             ],
             [
              0.3333333333333333,
              "#9c179e"
             ],
             [
              0.4444444444444444,
              "#bd3786"
             ],
             [
              0.5555555555555556,
              "#d8576b"
             ],
             [
              0.6666666666666666,
              "#ed7953"
             ],
             [
              0.7777777777777778,
              "#fb9f3a"
             ],
             [
              0.8888888888888888,
              "#fdca26"
             ],
             [
              1,
              "#f0f921"
             ]
            ],
            "type": "heatmap"
           }
          ],
          "heatmapgl": [
           {
            "colorbar": {
             "outlinewidth": 0,
             "ticks": ""
            },
            "colorscale": [
             [
              0,
              "#0d0887"
             ],
             [
              0.1111111111111111,
              "#46039f"
             ],
             [
              0.2222222222222222,
              "#7201a8"
             ],
             [
              0.3333333333333333,
              "#9c179e"
             ],
             [
              0.4444444444444444,
              "#bd3786"
             ],
             [
              0.5555555555555556,
              "#d8576b"
             ],
             [
              0.6666666666666666,
              "#ed7953"
             ],
             [
              0.7777777777777778,
              "#fb9f3a"
             ],
             [
              0.8888888888888888,
              "#fdca26"
             ],
             [
              1,
              "#f0f921"
             ]
            ],
            "type": "heatmapgl"
           }
          ],
          "histogram": [
           {
            "marker": {
             "pattern": {
              "fillmode": "overlay",
              "size": 10,
              "solidity": 0.2
             }
            },
            "type": "histogram"
           }
          ],
          "histogram2d": [
           {
            "colorbar": {
             "outlinewidth": 0,
             "ticks": ""
            },
            "colorscale": [
             [
              0,
              "#0d0887"
             ],
             [
              0.1111111111111111,
              "#46039f"
             ],
             [
              0.2222222222222222,
              "#7201a8"
             ],
             [
              0.3333333333333333,
              "#9c179e"
             ],
             [
              0.4444444444444444,
              "#bd3786"
             ],
             [
              0.5555555555555556,
              "#d8576b"
             ],
             [
              0.6666666666666666,
              "#ed7953"
             ],
             [
              0.7777777777777778,
              "#fb9f3a"
             ],
             [
              0.8888888888888888,
              "#fdca26"
             ],
             [
              1,
              "#f0f921"
             ]
            ],
            "type": "histogram2d"
           }
          ],
          "histogram2dcontour": [
           {
            "colorbar": {
             "outlinewidth": 0,
             "ticks": ""
            },
            "colorscale": [
             [
              0,
              "#0d0887"
             ],
             [
              0.1111111111111111,
              "#46039f"
             ],
             [
              0.2222222222222222,
              "#7201a8"
             ],
             [
              0.3333333333333333,
              "#9c179e"
             ],
             [
              0.4444444444444444,
              "#bd3786"
             ],
             [
              0.5555555555555556,
              "#d8576b"
             ],
             [
              0.6666666666666666,
              "#ed7953"
             ],
             [
              0.7777777777777778,
              "#fb9f3a"
             ],
             [
              0.8888888888888888,
              "#fdca26"
             ],
             [
              1,
              "#f0f921"
             ]
            ],
            "type": "histogram2dcontour"
           }
          ],
          "mesh3d": [
           {
            "colorbar": {
             "outlinewidth": 0,
             "ticks": ""
            },
            "type": "mesh3d"
           }
          ],
          "parcoords": [
           {
            "line": {
             "colorbar": {
              "outlinewidth": 0,
              "ticks": ""
             }
            },
            "type": "parcoords"
           }
          ],
          "pie": [
           {
            "automargin": true,
            "type": "pie"
           }
          ],
          "scatter": [
           {
            "marker": {
             "colorbar": {
              "outlinewidth": 0,
              "ticks": ""
             }
            },
            "type": "scatter"
           }
          ],
          "scatter3d": [
           {
            "line": {
             "colorbar": {
              "outlinewidth": 0,
              "ticks": ""
             }
            },
            "marker": {
             "colorbar": {
              "outlinewidth": 0,
              "ticks": ""
             }
            },
            "type": "scatter3d"
           }
          ],
          "scattercarpet": [
           {
            "marker": {
             "colorbar": {
              "outlinewidth": 0,
              "ticks": ""
             }
            },
            "type": "scattercarpet"
           }
          ],
          "scattergeo": [
           {
            "marker": {
             "colorbar": {
              "outlinewidth": 0,
              "ticks": ""
             }
            },
            "type": "scattergeo"
           }
          ],
          "scattergl": [
           {
            "marker": {
             "colorbar": {
              "outlinewidth": 0,
              "ticks": ""
             }
            },
            "type": "scattergl"
           }
          ],
          "scattermapbox": [
           {
            "marker": {
             "colorbar": {
              "outlinewidth": 0,
              "ticks": ""
             }
            },
            "type": "scattermapbox"
           }
          ],
          "scatterpolar": [
           {
            "marker": {
             "colorbar": {
              "outlinewidth": 0,
              "ticks": ""
             }
            },
            "type": "scatterpolar"
           }
          ],
          "scatterpolargl": [
           {
            "marker": {
             "colorbar": {
              "outlinewidth": 0,
              "ticks": ""
             }
            },
            "type": "scatterpolargl"
           }
          ],
          "scatterternary": [
           {
            "marker": {
             "colorbar": {
              "outlinewidth": 0,
              "ticks": ""
             }
            },
            "type": "scatterternary"
           }
          ],
          "surface": [
           {
            "colorbar": {
             "outlinewidth": 0,
             "ticks": ""
            },
            "colorscale": [
             [
              0,
              "#0d0887"
             ],
             [
              0.1111111111111111,
              "#46039f"
             ],
             [
              0.2222222222222222,
              "#7201a8"
             ],
             [
              0.3333333333333333,
              "#9c179e"
             ],
             [
              0.4444444444444444,
              "#bd3786"
             ],
             [
              0.5555555555555556,
              "#d8576b"
             ],
             [
              0.6666666666666666,
              "#ed7953"
             ],
             [
              0.7777777777777778,
              "#fb9f3a"
             ],
             [
              0.8888888888888888,
              "#fdca26"
             ],
             [
              1,
              "#f0f921"
             ]
            ],
            "type": "surface"
           }
          ],
          "table": [
           {
            "cells": {
             "fill": {
              "color": "#EBF0F8"
             },
             "line": {
              "color": "white"
             }
            },
            "header": {
             "fill": {
              "color": "#C8D4E3"
             },
             "line": {
              "color": "white"
             }
            },
            "type": "table"
           }
          ]
         },
         "layout": {
          "annotationdefaults": {
           "arrowcolor": "#2a3f5f",
           "arrowhead": 0,
           "arrowwidth": 1
          },
          "autotypenumbers": "strict",
          "coloraxis": {
           "colorbar": {
            "outlinewidth": 0,
            "ticks": ""
           }
          },
          "colorscale": {
           "diverging": [
            [
             0,
             "#8e0152"
            ],
            [
             0.1,
             "#c51b7d"
            ],
            [
             0.2,
             "#de77ae"
            ],
            [
             0.3,
             "#f1b6da"
            ],
            [
             0.4,
             "#fde0ef"
            ],
            [
             0.5,
             "#f7f7f7"
            ],
            [
             0.6,
             "#e6f5d0"
            ],
            [
             0.7,
             "#b8e186"
            ],
            [
             0.8,
             "#7fbc41"
            ],
            [
             0.9,
             "#4d9221"
            ],
            [
             1,
             "#276419"
            ]
           ],
           "sequential": [
            [
             0,
             "#0d0887"
            ],
            [
             0.1111111111111111,
             "#46039f"
            ],
            [
             0.2222222222222222,
             "#7201a8"
            ],
            [
             0.3333333333333333,
             "#9c179e"
            ],
            [
             0.4444444444444444,
             "#bd3786"
            ],
            [
             0.5555555555555556,
             "#d8576b"
            ],
            [
             0.6666666666666666,
             "#ed7953"
            ],
            [
             0.7777777777777778,
             "#fb9f3a"
            ],
            [
             0.8888888888888888,
             "#fdca26"
            ],
            [
             1,
             "#f0f921"
            ]
           ],
           "sequentialminus": [
            [
             0,
             "#0d0887"
            ],
            [
             0.1111111111111111,
             "#46039f"
            ],
            [
             0.2222222222222222,
             "#7201a8"
            ],
            [
             0.3333333333333333,
             "#9c179e"
            ],
            [
             0.4444444444444444,
             "#bd3786"
            ],
            [
             0.5555555555555556,
             "#d8576b"
            ],
            [
             0.6666666666666666,
             "#ed7953"
            ],
            [
             0.7777777777777778,
             "#fb9f3a"
            ],
            [
             0.8888888888888888,
             "#fdca26"
            ],
            [
             1,
             "#f0f921"
            ]
           ]
          },
          "colorway": [
           "#636efa",
           "#EF553B",
           "#00cc96",
           "#ab63fa",
           "#FFA15A",
           "#19d3f3",
           "#FF6692",
           "#B6E880",
           "#FF97FF",
           "#FECB52"
          ],
          "font": {
           "color": "#2a3f5f"
          },
          "geo": {
           "bgcolor": "white",
           "lakecolor": "white",
           "landcolor": "#E5ECF6",
           "showlakes": true,
           "showland": true,
           "subunitcolor": "white"
          },
          "hoverlabel": {
           "align": "left"
          },
          "hovermode": "closest",
          "mapbox": {
           "style": "light"
          },
          "paper_bgcolor": "white",
          "plot_bgcolor": "#E5ECF6",
          "polar": {
           "angularaxis": {
            "gridcolor": "white",
            "linecolor": "white",
            "ticks": ""
           },
           "bgcolor": "#E5ECF6",
           "radialaxis": {
            "gridcolor": "white",
            "linecolor": "white",
            "ticks": ""
           }
          },
          "scene": {
           "xaxis": {
            "backgroundcolor": "#E5ECF6",
            "gridcolor": "white",
            "gridwidth": 2,
            "linecolor": "white",
            "showbackground": true,
            "ticks": "",
            "zerolinecolor": "white"
           },
           "yaxis": {
            "backgroundcolor": "#E5ECF6",
            "gridcolor": "white",
            "gridwidth": 2,
            "linecolor": "white",
            "showbackground": true,
            "ticks": "",
            "zerolinecolor": "white"
           },
           "zaxis": {
            "backgroundcolor": "#E5ECF6",
            "gridcolor": "white",
            "gridwidth": 2,
            "linecolor": "white",
            "showbackground": true,
            "ticks": "",
            "zerolinecolor": "white"
           }
          },
          "shapedefaults": {
           "line": {
            "color": "#2a3f5f"
           }
          },
          "ternary": {
           "aaxis": {
            "gridcolor": "white",
            "linecolor": "white",
            "ticks": ""
           },
           "baxis": {
            "gridcolor": "white",
            "linecolor": "white",
            "ticks": ""
           },
           "bgcolor": "#E5ECF6",
           "caxis": {
            "gridcolor": "white",
            "linecolor": "white",
            "ticks": ""
           }
          },
          "title": {
           "x": 0.05
          },
          "xaxis": {
           "automargin": true,
           "gridcolor": "white",
           "linecolor": "white",
           "ticks": "",
           "title": {
            "standoff": 15
           },
           "zerolinecolor": "white",
           "zerolinewidth": 2
          },
          "yaxis": {
           "automargin": true,
           "gridcolor": "white",
           "linecolor": "white",
           "ticks": "",
           "title": {
            "standoff": 15
           },
           "zerolinecolor": "white",
           "zerolinewidth": 2
          }
         }
        },
        "width": 1100
       }
      },
      "image/png": "[encoded data removed]",
      "text/html": [
       "<div>                            <div id=\"8465ce3f-4fee-4320-af1a-33d6284a2ccc\" class=\"plotly-graph-div\" style=\"height:600px; width:1100px;\"></div>            <script type=\"text/javascript\">                require([\"plotly\"], function(Plotly) {                    window.PLOTLYENV=window.PLOTLYENV || {};                                    if (document.getElementById(\"8465ce3f-4fee-4320-af1a-33d6284a2ccc\")) {                    Plotly.newPlot(                        \"8465ce3f-4fee-4320-af1a-33d6284a2ccc\",                        [{\"branchvalues\":\"total\",\"customdata\":[[\"Unbekannt\"],[\"Verwitwet\"],[\"Verwitwet\"],[\"Verheiratet\"],[\"Verwitwet\"],[\"Geschieden\"],[\"Geschieden\"],[\"Geschieden\"],[\"In aufgel\\u00f6ster Partnerschaft\"],[\"In aufgel\\u00f6ster Partnerschaft\"],[\"Geschieden\"],[\"Unbekannt\"],[\"Geschieden\"],[\"Ledig\"],[\"Ledig\"],[\"Verwitwet\"],[\"Geschieden\"],[\"Geschieden\"],[\"Verheiratet\"],[\"Geschieden\"],[\"Verheiratet\"],[\"Geschieden\"],[\"Geschieden\"],[\"In aufgel\\u00f6ster Partnerschaft\"],[\"Geschieden\"],[\"Verheiratet\"],[\"Unbekannt\"],[\"Verwitwet\"],[\"Verheiratet\"],[\"Verheiratet\"],[\"Verheiratet\"],[\"Ledig\"],[\"Ledig\"],[\"In aufgel\\u00f6ster Partnerschaft\"],[\"Ledig\"],[\"In eingetragener Partnerschaft\"],[\"Ledig\"],[\"In eingetragener Partnerschaft\"],[\"In eingetragener Partnerschaft\"],[\"In aufgel\\u00f6ster Partnerschaft\"],[\"Verwitwet\"],[\"Verwitwet\"],[\"Geschieden\"],[\"Verwitwet\"],[\"Verwitwet\"],[\"Ledig\"],[\"Ledig\"],[\"Geschieden\"],[\"In eingetragener Partnerschaft\"],[\"Unbekannt\"],[\"Geschieden\"],[\"In eingetragener Partnerschaft\"],[\"Geschieden\"],[\"In eingetragener Partnerschaft\"],[\"Verheiratet\"],[\"Verheiratet\"],[\"Ledig\"],[\"Ledig\"],[\"In eingetragener Partnerschaft\"],[\"In eingetragener Partnerschaft\"],[\"Verwitwet\"],[\"Unbekannt\"],[\"Unbekannt\"],[\"Ledig\"],[\"Ledig\"],[\"In eingetragener Partnerschaft\"],[\"In eingetragener Partnerschaft\"],[\"In eingetragener Partnerschaft\"],[\"In eingetragener Partnerschaft\"],[\"Verwitwet\"],[\"Verheiratet\"],[\"In eingetragener Partnerschaft\"],[\"Verwitwet\"],[\"Verheiratet\"],[\"In aufgel\\u00f6ster Partnerschaft\"],[\"Ledig\"],[\"Verwitwet\"],[\"Geschieden\"],[\"Ledig\"],[\"Ledig\"],[\"Verheiratet\"],[\"Unbekannt\"],[\"Ledig\"],[\"Unbekannt\"],[\"In aufgel\\u00f6ster Partnerschaft\"],[\"Unbekannt\"],[\"In aufgel\\u00f6ster Partnerschaft\"],[\"Verheiratet\"],[\"Unbekannt\"],[\"In aufgel\\u00f6ster Partnerschaft\"],[\"In eingetragener Partnerschaft\"],[\"Ledig\"],[\"Verwitwet\"],[\"In aufgel\\u00f6ster Partnerschaft\"],[\"Ledig\"],[\"In aufgel\\u00f6ster Partnerschaft\"],[\"In aufgel\\u00f6ster Partnerschaft\"],[\"Ledig\"],[\"Verheiratet\"],[\"Geschieden\"],[\"In eingetragener Partnerschaft\"],[\"Geschieden\"],[\"Verwitwet\"],[\"Verwitwet\"],[\"Verheiratet\"],[\"Verheiratet\"],[\"Geschieden\"],[\"In aufgel\\u00f6ster Partnerschaft\"],[\"In aufgel\\u00f6ster Partnerschaft\"],[\"Verwitwet\"],[\"Verheiratet\"],[\"Ledig\"],[\"Verheiratet\"],[\"In eingetragener Partnerschaft\"],[\"Verheiratet\"],[\"Unbekannt\"],[\"Verheiratet\"],[\"Verwitwet\"],[\"Verwitwet\"],[\"Verheiratet\"],[\"In aufgel\\u00f6ster Partnerschaft\"],[\"In aufgel\\u00f6ster Partnerschaft\"],[\"Unbekannt\"],[\"Verheiratet\"],[\"Verwitwet\"],[\"Geschieden\"],[\"Geschieden\"],[\"Ledig\"],[\"Ledig\"],[\"In eingetragener Partnerschaft\"],[\"Ledig\"],[\"Verheiratet\"],[\"Verheiratet\"],[\"Unbekannt\"],[\"Geschieden\"],[\"In eingetragener Partnerschaft\"],[\"Ledig\"],[\"Ledig\"],[\"Unbekannt\"],[\"Verheiratet\"],[\"Verheiratet\"],[\"Geschieden\"],[\"Geschieden\"],[\"Ledig\"],[\"Ledig\"],[\"Verheiratet\"],[\"Verheiratet\"],[\"Verwitwet\"],[\"Verwitwet\"],[\"Geschieden\"],[\"Geschieden\"],[\"In aufgel\\u00f6ster Partnerschaft\"],[\"In aufgel\\u00f6ster Partnerschaft\"],[\"In eingetragener Partnerschaft\"],[\"In eingetragener Partnerschaft\"],[\"Ledig\"],[\"Ledig\"],[\"Unbekannt\"],[\"Unbekannt\"],[\"Verheiratet\"],[\"Verheiratet\"],[\"Verwitwet\"],[\"Verwitwet\"],[\"Geschieden\"],[\"Geschieden\"],[\"In aufgel\\u00f6ster Partnerschaft\"],[\"In aufgel\\u00f6ster Partnerschaft\"],[\"In eingetragener Partnerschaft\"],[\"In eingetragener Partnerschaft\"],[\"Ledig\"],[\"Ledig\"],[\"Unbekannt\"],[\"Unbekannt\"],[\"Verheiratet\"],[\"Verheiratet\"],[\"Verwitwet\"],[\"Verwitwet\"],[\"Geschieden\"],[\"Geschieden\"],[\"In aufgel\\u00f6ster Partnerschaft\"],[\"In aufgel\\u00f6ster Partnerschaft\"],[\"In eingetragener Partnerschaft\"],[\"In eingetragener Partnerschaft\"],[\"Ledig\"],[\"Ledig\"],[\"Unbekannt\"],[\"Unbekannt\"],[\"Verheiratet\"],[\"Verheiratet\"],[\"Verwitwet\"],[\"Verwitwet\"],[\"Geschieden\"],[\"Geschieden\"],[\"In aufgel\\u00f6ster Partnerschaft\"],[\"In aufgel\\u00f6ster Partnerschaft\"],[\"In eingetragener Partnerschaft\"],[\"In eingetragener Partnerschaft\"],[\"Ledig\"],[\"Ledig\"],[\"Verheiratet\"],[\"Verheiratet\"],[\"Verwitwet\"],[\"Verwitwet\"],[\"Geschieden\"],[\"Geschieden\"],[\"In aufgel\\u00f6ster Partnerschaft\"],[\"In aufgel\\u00f6ster Partnerschaft\"],[\"In eingetragener Partnerschaft\"],[\"In eingetragener Partnerschaft\"],[\"Ledig\"],[\"Ledig\"],[\"Unbekannt\"],[\"Unbekannt\"],[\"Verheiratet\"],[\"Verheiratet\"],[\"Verwitwet\"],[\"Verwitwet\"],[\"(?)\"],[\"(?)\"],[\"(?)\"]],\"domain\":{\"x\":[0.0,1.0],\"y\":[0.0,1.0]},\"hovertemplate\":\"labels=%{label}<br>sum_WBev=%{value}<br>parent=%{parent}<br>id=%{id}<br>Ziv2Lang=%{customdata[0]}<extra></extra>\",\"ids\":[\"Wohnbev\\u00f6lkerung nach /2021-01-01/Unbekannt/20-39/weiblich\",\"Wohnbev\\u00f6lkerung nach /2020-01-01/Verwitwet/40-59/weiblich\",\"Wohnbev\\u00f6lkerung nach /2020-01-01/Verwitwet/20-39/m\\u00e4nnlich\",\"Wohnbev\\u00f6lkerung nach /2020-01-01/Verheiratet/40-59/weiblich\",\"Wohnbev\\u00f6lkerung nach /2021-01-01/Verwitwet/40-59/weiblich\",\"Wohnbev\\u00f6lkerung nach /2020-01-01/Geschieden/60-79/weiblich\",\"Wohnbev\\u00f6lkerung nach /2021-01-01/Geschieden/60-79/weiblich\",\"Wohnbev\\u00f6lkerung nach /2020-01-01/Geschieden/20-39/weiblich\",\"Wohnbev\\u00f6lkerung nach /2021-01-01/In aufgel\\u00f6ster Partnerschaft/40-59/weiblich\",\"Wohnbev\\u00f6lkerung nach /2020-01-01/In aufgel\\u00f6ster Partnerschaft/40-59/weiblich\",\"Wohnbev\\u00f6lkerung nach /2021-01-01/Geschieden/20-39/weiblich\",\"Wohnbev\\u00f6lkerung nach /2020-01-01/Unbekannt/20-39/weiblich\",\"Wohnbev\\u00f6lkerung nach /2020-01-01/Geschieden/40-59/m\\u00e4nnlich\",\"Wohnbev\\u00f6lkerung nach /2021-01-01/Ledig/20-39/weiblich\",\"Wohnbev\\u00f6lkerung nach /2020-01-01/Ledig/20-39/weiblich\",\"Wohnbev\\u00f6lkerung nach /2020-01-01/Verwitwet/100 u. \\u00e4lter/m\\u00e4nnlich\",\"Wohnbev\\u00f6lkerung nach /2021-01-01/Geschieden/100 u. \\u00e4lter/weiblich\",\"Wohnbev\\u00f6lkerung nach /2021-01-01/Geschieden/100 u. \\u00e4lter/m\\u00e4nnlich\",\"Wohnbev\\u00f6lkerung nach /2021-01-01/Verheiratet/0-19/m\\u00e4nnlich\",\"Wohnbev\\u00f6lkerung nach /2020-01-01/Geschieden/100 u. \\u00e4lter/weiblich\",\"Wohnbev\\u00f6lkerung nach /2021-01-01/Verheiratet/40-59/weiblich\",\"Wohnbev\\u00f6lkerung nach /2020-01-01/Geschieden/60-79/m\\u00e4nnlich\",\"Wohnbev\\u00f6lkerung nach /2021-01-01/Geschieden/60-79/m\\u00e4nnlich\",\"Wohnbev\\u00f6lkerung nach /2020-01-01/In aufgel\\u00f6ster Partnerschaft/60-79/m\\u00e4nnlich\",\"Wohnbev\\u00f6lkerung nach /2021-01-01/Geschieden/80-99/m\\u00e4nnlich\",\"Wohnbev\\u00f6lkerung nach /2020-01-01/Verheiratet/60-79/m\\u00e4nnlich\",\"Wohnbev\\u00f6lkerung nach /2020-01-01/Unbekannt/60-79/m\\u00e4nnlich\",\"Wohnbev\\u00f6lkerung nach /2020-01-01/Verwitwet/40-59/m\\u00e4nnlich\",\"Wohnbev\\u00f6lkerung nach /2021-01-01/Verheiratet/20-39/m\\u00e4nnlich\",\"Wohnbev\\u00f6lkerung nach /2020-01-01/Verheiratet/20-39/m\\u00e4nnlich\",\"Wohnbev\\u00f6lkerung nach /2021-01-01/Verheiratet/100 u. \\u00e4lter/m\\u00e4nnlich\",\"Wohnbev\\u00f6lkerung nach /2021-01-01/Ledig/80-99/m\\u00e4nnlich\",\"Wohnbev\\u00f6lkerung nach /2021-01-01/Ledig/60-79/m\\u00e4nnlich\",\"Wohnbev\\u00f6lkerung nach /2021-01-01/In aufgel\\u00f6ster Partnerschaft/80-99/m\\u00e4nnlich\",\"Wohnbev\\u00f6lkerung nach /2020-01-01/Ledig/80-99/m\\u00e4nnlich\",\"Wohnbev\\u00f6lkerung nach /2021-01-01/In eingetragener Partnerschaft/20-39/m\\u00e4nnlich\",\"Wohnbev\\u00f6lkerung nach /2020-01-01/Ledig/60-79/m\\u00e4nnlich\",\"Wohnbev\\u00f6lkerung nach /2020-01-01/In eingetragener Partnerschaft/80-99/m\\u00e4nnlich\",\"Wohnbev\\u00f6lkerung nach /2021-01-01/In eingetragener Partnerschaft/80-99/m\\u00e4nnlich\",\"Wohnbev\\u00f6lkerung nach /2020-01-01/In aufgel\\u00f6ster Partnerschaft/80-99/m\\u00e4nnlich\",\"Wohnbev\\u00f6lkerung nach /2021-01-01/Verwitwet/100 u. \\u00e4lter/weiblich\",\"Wohnbev\\u00f6lkerung nach /2020-01-01/Verwitwet/100 u. \\u00e4lter/weiblich\",\"Wohnbev\\u00f6lkerung nach /2020-01-01/Geschieden/80-99/m\\u00e4nnlich\",\"Wohnbev\\u00f6lkerung nach /2020-01-01/Verwitwet/80-99/m\\u00e4nnlich\",\"Wohnbev\\u00f6lkerung nach /2021-01-01/Verwitwet/80-99/m\\u00e4nnlich\",\"Wohnbev\\u00f6lkerung nach /2020-01-01/Ledig/0-19/weiblich\",\"Wohnbev\\u00f6lkerung nach /2021-01-01/Ledig/0-19/weiblich\",\"Wohnbev\\u00f6lkerung nach /2021-01-01/Geschieden/0-19/weiblich\",\"Wohnbev\\u00f6lkerung nach /2020-01-01/In eingetragener Partnerschaft/60-79/m\\u00e4nnlich\",\"Wohnbev\\u00f6lkerung nach /2020-01-01/Unbekannt/0-19/weiblich\",\"Wohnbev\\u00f6lkerung nach /2020-01-01/Geschieden/100 u. \\u00e4lter/m\\u00e4nnlich\",\"Wohnbev\\u00f6lkerung nach /2020-01-01/In eingetragener Partnerschaft/20-39/m\\u00e4nnlich\",\"Wohnbev\\u00f6lkerung nach /2020-01-01/Geschieden/20-39/m\\u00e4nnlich\",\"Wohnbev\\u00f6lkerung nach /2021-01-01/In eingetragener Partnerschaft/60-79/m\\u00e4nnlich\",\"Wohnbev\\u00f6lkerung nach /2021-01-01/Verheiratet/80-99/weiblich\",\"Wohnbev\\u00f6lkerung nach /2020-01-01/Verheiratet/80-99/weiblich\",\"Wohnbev\\u00f6lkerung nach /2021-01-01/Ledig/80-99/weiblich\",\"Wohnbev\\u00f6lkerung nach /2020-01-01/Ledig/80-99/weiblich\",\"Wohnbev\\u00f6lkerung nach /2021-01-01/In eingetragener Partnerschaft/80-99/weiblich\",\"Wohnbev\\u00f6lkerung nach /2020-01-01/In eingetragener Partnerschaft/80-99/weiblich\",\"Wohnbev\\u00f6lkerung nach /2020-01-01/Verwitwet/60-79/weiblich\",\"Wohnbev\\u00f6lkerung nach /2021-01-01/Unbekannt/60-79/weiblich\",\"Wohnbev\\u00f6lkerung nach /2020-01-01/Unbekannt/60-79/weiblich\",\"Wohnbev\\u00f6lkerung nach /2021-01-01/Ledig/40-59/weiblich\",\"Wohnbev\\u00f6lkerung nach /2020-01-01/Ledig/40-59/weiblich\",\"Wohnbev\\u00f6lkerung nach /2021-01-01/In eingetragener Partnerschaft/40-59/weiblich\",\"Wohnbev\\u00f6lkerung nach /2020-01-01/In eingetragener Partnerschaft/40-59/weiblich\",\"Wohnbev\\u00f6lkerung nach /2021-01-01/In eingetragener Partnerschaft/20-39/weiblich\",\"Wohnbev\\u00f6lkerung nach /2020-01-01/In eingetragener Partnerschaft/20-39/weiblich\",\"Wohnbev\\u00f6lkerung nach /2021-01-01/Verwitwet/60-79/weiblich\",\"Wohnbev\\u00f6lkerung nach /2021-01-01/Verheiratet/0-19/weiblich\",\"Wohnbev\\u00f6lkerung nach /2020-01-01/In eingetragener Partnerschaft/0-19/m\\u00e4nnlich\",\"Wohnbev\\u00f6lkerung nach /2020-01-01/Verwitwet/80-99/weiblich\",\"Wohnbev\\u00f6lkerung nach /2020-01-01/Verheiratet/0-19/weiblich\",\"Wohnbev\\u00f6lkerung nach /2021-01-01/In aufgel\\u00f6ster Partnerschaft/40-59/m\\u00e4nnlich\",\"Wohnbev\\u00f6lkerung nach /2021-01-01/Ledig/40-59/m\\u00e4nnlich\",\"Wohnbev\\u00f6lkerung nach /2021-01-01/Verwitwet/80-99/weiblich\",\"Wohnbev\\u00f6lkerung nach /2021-01-01/Geschieden/20-39/m\\u00e4nnlich\",\"Wohnbev\\u00f6lkerung nach /2020-01-01/Ledig/0-19/m\\u00e4nnlich\",\"Wohnbev\\u00f6lkerung nach /2021-01-01/Ledig/0-19/m\\u00e4nnlich\",\"Wohnbev\\u00f6lkerung nach /2020-01-01/Verheiratet/0-19/m\\u00e4nnlich\",\"Wohnbev\\u00f6lkerung nach /2020-01-01/Unbekannt/40-59/m\\u00e4nnlich\",\"Wohnbev\\u00f6lkerung nach /2021-01-01/Ledig/20-39/m\\u00e4nnlich\",\"Wohnbev\\u00f6lkerung nach /2020-01-01/Unbekannt/20-39/m\\u00e4nnlich\",\"Wohnbev\\u00f6lkerung nach /2021-01-01/In aufgel\\u00f6ster Partnerschaft/60-79/m\\u00e4nnlich\",\"Wohnbev\\u00f6lkerung nach /2021-01-01/Unbekannt/20-39/m\\u00e4nnlich\",\"Wohnbev\\u00f6lkerung nach /2020-01-01/In aufgel\\u00f6ster Partnerschaft/20-39/m\\u00e4nnlich\",\"Wohnbev\\u00f6lkerung nach /2020-01-01/Verheiratet/40-59/m\\u00e4nnlich\",\"Wohnbev\\u00f6lkerung nach /2021-01-01/Unbekannt/40-59/m\\u00e4nnlich\",\"Wohnbev\\u00f6lkerung nach /2021-01-01/In aufgel\\u00f6ster Partnerschaft/20-39/m\\u00e4nnlich\",\"Wohnbev\\u00f6lkerung nach /2020-01-01/In eingetragener Partnerschaft/40-59/m\\u00e4nnlich\",\"Wohnbev\\u00f6lkerung nach /2020-01-01/Ledig/20-39/m\\u00e4nnlich\",\"Wohnbev\\u00f6lkerung nach /2021-01-01/Verwitwet/20-39/m\\u00e4nnlich\",\"Wohnbev\\u00f6lkerung nach /2020-01-01/In aufgel\\u00f6ster Partnerschaft/40-59/m\\u00e4nnlich\",\"Wohnbev\\u00f6lkerung nach /2020-01-01/Ledig/60-79/weiblich\",\"Wohnbev\\u00f6lkerung nach /2020-01-01/In aufgel\\u00f6ster Partnerschaft/60-79/weiblich\",\"Wohnbev\\u00f6lkerung nach /2021-01-01/In aufgel\\u00f6ster Partnerschaft/60-79/weiblich\",\"Wohnbev\\u00f6lkerung nach /2021-01-01/Ledig/60-79/weiblich\",\"Wohnbev\\u00f6lkerung nach /2020-01-01/Verheiratet/60-79/weiblich\",\"Wohnbev\\u00f6lkerung nach /2021-01-01/Geschieden/40-59/m\\u00e4nnlich\",\"Wohnbev\\u00f6lkerung nach /2020-01-01/In eingetragener Partnerschaft/60-79/weiblich\",\"Wohnbev\\u00f6lkerung nach /2020-01-01/Geschieden/80-99/weiblich\",\"Wohnbev\\u00f6lkerung nach /2021-01-01/Verwitwet/20-39/weiblich\",\"Wohnbev\\u00f6lkerung nach /2020-01-01/Verwitwet/20-39/weiblich\",\"Wohnbev\\u00f6lkerung nach /2021-01-01/Verheiratet/20-39/weiblich\",\"Wohnbev\\u00f6lkerung nach /2020-01-01/Verheiratet/20-39/weiblich\",\"Wohnbev\\u00f6lkerung nach /2021-01-01/Geschieden/80-99/weiblich\",\"Wohnbev\\u00f6lkerung nach /2020-01-01/In aufgel\\u00f6ster Partnerschaft/80-99/weiblich\",\"Wohnbev\\u00f6lkerung nach /2021-01-01/In aufgel\\u00f6ster Partnerschaft/80-99/weiblich\",\"Wohnbev\\u00f6lkerung nach /2021-01-01/Verwitwet/100 u. \\u00e4lter/m\\u00e4nnlich\",\"Wohnbev\\u00f6lkerung nach /2020-01-01/Verheiratet/100 u. \\u00e4lter/m\\u00e4nnlich\",\"Wohnbev\\u00f6lkerung nach /2020-01-01/Ledig/100 u. \\u00e4lter/m\\u00e4nnlich\",\"Wohnbev\\u00f6lkerung nach /2021-01-01/Verheiratet/60-79/weiblich\",\"Wohnbev\\u00f6lkerung nach /2021-01-01/In eingetragener Partnerschaft/60-79/weiblich\",\"Wohnbev\\u00f6lkerung nach /2021-01-01/Verheiratet/100 u. \\u00e4lter/weiblich\",\"Wohnbev\\u00f6lkerung nach /2021-01-01/Unbekannt/40-59/weiblich\",\"Wohnbev\\u00f6lkerung nach /2020-01-01/Verheiratet/80-99/m\\u00e4nnlich\",\"Wohnbev\\u00f6lkerung nach /2021-01-01/Verwitwet/60-79/m\\u00e4nnlich\",\"Wohnbev\\u00f6lkerung nach /2020-01-01/Verwitwet/60-79/m\\u00e4nnlich\",\"Wohnbev\\u00f6lkerung nach /2021-01-01/Verheiratet/60-79/m\\u00e4nnlich\",\"Wohnbev\\u00f6lkerung nach /2020-01-01/In aufgel\\u00f6ster Partnerschaft/20-39/weiblich\",\"Wohnbev\\u00f6lkerung nach /2021-01-01/In aufgel\\u00f6ster Partnerschaft/20-39/weiblich\",\"Wohnbev\\u00f6lkerung nach /2021-01-01/Unbekannt/60-79/m\\u00e4nnlich\",\"Wohnbev\\u00f6lkerung nach /2020-01-01/Verheiratet/100 u. \\u00e4lter/weiblich\",\"Wohnbev\\u00f6lkerung nach /2021-01-01/Verwitwet/40-59/m\\u00e4nnlich\",\"Wohnbev\\u00f6lkerung nach /2020-01-01/Geschieden/40-59/weiblich\",\"Wohnbev\\u00f6lkerung nach /2021-01-01/Geschieden/40-59/weiblich\",\"Wohnbev\\u00f6lkerung nach /2021-01-01/Ledig/100 u. \\u00e4lter/weiblich\",\"Wohnbev\\u00f6lkerung nach /2020-01-01/Ledig/40-59/m\\u00e4nnlich\",\"Wohnbev\\u00f6lkerung nach /2021-01-01/In eingetragener Partnerschaft/40-59/m\\u00e4nnlich\",\"Wohnbev\\u00f6lkerung nach /2020-01-01/Ledig/100 u. \\u00e4lter/weiblich\",\"Wohnbev\\u00f6lkerung nach /2021-01-01/Verheiratet/80-99/m\\u00e4nnlich\",\"Wohnbev\\u00f6lkerung nach /2021-01-01/Verheiratet/40-59/m\\u00e4nnlich\",\"Wohnbev\\u00f6lkerung nach /2020-01-01/Unbekannt/40-59/weiblich\",\"Wohnbev\\u00f6lkerung nach /2021-01-01/Geschieden/0-19\",\"Wohnbev\\u00f6lkerung nach /2020-01-01/In eingetragener Partnerschaft/0-19\",\"Wohnbev\\u00f6lkerung nach /2020-01-01/Ledig/0-19\",\"Wohnbev\\u00f6lkerung nach /2021-01-01/Ledig/0-19\",\"Wohnbev\\u00f6lkerung nach /2020-01-01/Unbekannt/0-19\",\"Wohnbev\\u00f6lkerung nach /2020-01-01/Verheiratet/0-19\",\"Wohnbev\\u00f6lkerung nach /2021-01-01/Verheiratet/0-19\",\"Wohnbev\\u00f6lkerung nach /2020-01-01/Geschieden/100 u. \\u00e4lter\",\"Wohnbev\\u00f6lkerung nach /2021-01-01/Geschieden/100 u. \\u00e4lter\",\"Wohnbev\\u00f6lkerung nach /2020-01-01/Ledig/100 u. \\u00e4lter\",\"Wohnbev\\u00f6lkerung nach /2021-01-01/Ledig/100 u. \\u00e4lter\",\"Wohnbev\\u00f6lkerung nach /2020-01-01/Verheiratet/100 u. \\u00e4lter\",\"Wohnbev\\u00f6lkerung nach /2021-01-01/Verheiratet/100 u. \\u00e4lter\",\"Wohnbev\\u00f6lkerung nach /2020-01-01/Verwitwet/100 u. \\u00e4lter\",\"Wohnbev\\u00f6lkerung nach /2021-01-01/Verwitwet/100 u. \\u00e4lter\",\"Wohnbev\\u00f6lkerung nach /2020-01-01/Geschieden/20-39\",\"Wohnbev\\u00f6lkerung nach /2021-01-01/Geschieden/20-39\",\"Wohnbev\\u00f6lkerung nach /2020-01-01/In aufgel\\u00f6ster Partnerschaft/20-39\",\"Wohnbev\\u00f6lkerung nach /2021-01-01/In aufgel\\u00f6ster Partnerschaft/20-39\",\"Wohnbev\\u00f6lkerung nach /2020-01-01/In eingetragener Partnerschaft/20-39\",\"Wohnbev\\u00f6lkerung nach /2021-01-01/In eingetragener Partnerschaft/20-39\",\"Wohnbev\\u00f6lkerung nach /2020-01-01/Ledig/20-39\",\"Wohnbev\\u00f6lkerung nach /2021-01-01/Ledig/20-39\",\"Wohnbev\\u00f6lkerung nach /2020-01-01/Unbekannt/20-39\",\"Wohnbev\\u00f6lkerung nach /2021-01-01/Unbekannt/20-39\",\"Wohnbev\\u00f6lkerung nach /2020-01-01/Verheiratet/20-39\",\"Wohnbev\\u00f6lkerung nach /2021-01-01/Verheiratet/20-39\",\"Wohnbev\\u00f6lkerung nach /2020-01-01/Verwitwet/20-39\",\"Wohnbev\\u00f6lkerung nach /2021-01-01/Verwitwet/20-39\",\"Wohnbev\\u00f6lkerung nach /2020-01-01/Geschieden/40-59\",\"Wohnbev\\u00f6lkerung nach /2021-01-01/Geschieden/40-59\",\"Wohnbev\\u00f6lkerung nach /2020-01-01/In aufgel\\u00f6ster Partnerschaft/40-59\",\"Wohnbev\\u00f6lkerung nach /2021-01-01/In aufgel\\u00f6ster Partnerschaft/40-59\",\"Wohnbev\\u00f6lkerung nach /2020-01-01/In eingetragener Partnerschaft/40-59\",\"Wohnbev\\u00f6lkerung nach /2021-01-01/In eingetragener Partnerschaft/40-59\",\"Wohnbev\\u00f6lkerung nach /2020-01-01/Ledig/40-59\",\"Wohnbev\\u00f6lkerung nach /2021-01-01/Ledig/40-59\",\"Wohnbev\\u00f6lkerung nach /2020-01-01/Unbekannt/40-59\",\"Wohnbev\\u00f6lkerung nach /2021-01-01/Unbekannt/40-59\",\"Wohnbev\\u00f6lkerung nach /2020-01-01/Verheiratet/40-59\",\"Wohnbev\\u00f6lkerung nach /2021-01-01/Verheiratet/40-59\",\"Wohnbev\\u00f6lkerung nach /2020-01-01/Verwitwet/40-59\",\"Wohnbev\\u00f6lkerung nach /2021-01-01/Verwitwet/40-59\",\"Wohnbev\\u00f6lkerung nach /2020-01-01/Geschieden/60-79\",\"Wohnbev\\u00f6lkerung nach /2021-01-01/Geschieden/60-79\",\"Wohnbev\\u00f6lkerung nach /2020-01-01/In aufgel\\u00f6ster Partnerschaft/60-79\",\"Wohnbev\\u00f6lkerung nach /2021-01-01/In aufgel\\u00f6ster Partnerschaft/60-79\",\"Wohnbev\\u00f6lkerung nach /2020-01-01/In eingetragener Partnerschaft/60-79\",\"Wohnbev\\u00f6lkerung nach /2021-01-01/In eingetragener Partnerschaft/60-79\",\"Wohnbev\\u00f6lkerung nach /2020-01-01/Ledig/60-79\",\"Wohnbev\\u00f6lkerung nach /2021-01-01/Ledig/60-79\",\"Wohnbev\\u00f6lkerung nach /2020-01-01/Unbekannt/60-79\",\"Wohnbev\\u00f6lkerung nach /2021-01-01/Unbekannt/60-79\",\"Wohnbev\\u00f6lkerung nach /2020-01-01/Verheiratet/60-79\",\"Wohnbev\\u00f6lkerung nach /2021-01-01/Verheiratet/60-79\",\"Wohnbev\\u00f6lkerung nach /2020-01-01/Verwitwet/60-79\",\"Wohnbev\\u00f6lkerung nach /2021-01-01/Verwitwet/60-79\",\"Wohnbev\\u00f6lkerung nach /2020-01-01/Geschieden/80-99\",\"Wohnbev\\u00f6lkerung nach /2021-01-01/Geschieden/80-99\",\"Wohnbev\\u00f6lkerung nach /2020-01-01/In aufgel\\u00f6ster Partnerschaft/80-99\",\"Wohnbev\\u00f6lkerung nach /2021-01-01/In aufgel\\u00f6ster Partnerschaft/80-99\",\"Wohnbev\\u00f6lkerung nach /2020-01-01/In eingetragener Partnerschaft/80-99\",\"Wohnbev\\u00f6lkerung nach /2021-01-01/In eingetragener Partnerschaft/80-99\",\"Wohnbev\\u00f6lkerung nach /2020-01-01/Ledig/80-99\",\"Wohnbev\\u00f6lkerung nach /2021-01-01/Ledig/80-99\",\"Wohnbev\\u00f6lkerung nach /2020-01-01/Verheiratet/80-99\",\"Wohnbev\\u00f6lkerung nach /2021-01-01/Verheiratet/80-99\",\"Wohnbev\\u00f6lkerung nach /2020-01-01/Verwitwet/80-99\",\"Wohnbev\\u00f6lkerung nach /2021-01-01/Verwitwet/80-99\",\"Wohnbev\\u00f6lkerung nach /2020-01-01/Geschieden\",\"Wohnbev\\u00f6lkerung nach /2021-01-01/Geschieden\",\"Wohnbev\\u00f6lkerung nach /2020-01-01/In aufgel\\u00f6ster Partnerschaft\",\"Wohnbev\\u00f6lkerung nach /2021-01-01/In aufgel\\u00f6ster Partnerschaft\",\"Wohnbev\\u00f6lkerung nach /2020-01-01/In eingetragener Partnerschaft\",\"Wohnbev\\u00f6lkerung nach /2021-01-01/In eingetragener Partnerschaft\",\"Wohnbev\\u00f6lkerung nach /2020-01-01/Ledig\",\"Wohnbev\\u00f6lkerung nach /2021-01-01/Ledig\",\"Wohnbev\\u00f6lkerung nach /2020-01-01/Unbekannt\",\"Wohnbev\\u00f6lkerung nach /2021-01-01/Unbekannt\",\"Wohnbev\\u00f6lkerung nach /2020-01-01/Verheiratet\",\"Wohnbev\\u00f6lkerung nach /2021-01-01/Verheiratet\",\"Wohnbev\\u00f6lkerung nach /2020-01-01/Verwitwet\",\"Wohnbev\\u00f6lkerung nach /2021-01-01/Verwitwet\",\"Wohnbev\\u00f6lkerung nach /2020-01-01\",\"Wohnbev\\u00f6lkerung nach /2021-01-01\",\"Wohnbev\\u00f6lkerung nach \"],\"labels\":[\"weiblich\",\"weiblich\",\"m\\u00e4nnlich\",\"weiblich\",\"weiblich\",\"weiblich\",\"weiblich\",\"weiblich\",\"weiblich\",\"weiblich\",\"weiblich\",\"weiblich\",\"m\\u00e4nnlich\",\"weiblich\",\"weiblich\",\"m\\u00e4nnlich\",\"weiblich\",\"m\\u00e4nnlich\",\"m\\u00e4nnlich\",\"weiblich\",\"weiblich\",\"m\\u00e4nnlich\",\"m\\u00e4nnlich\",\"m\\u00e4nnlich\",\"m\\u00e4nnlich\",\"m\\u00e4nnlich\",\"m\\u00e4nnlich\",\"m\\u00e4nnlich\",\"m\\u00e4nnlich\",\"m\\u00e4nnlich\",\"m\\u00e4nnlich\",\"m\\u00e4nnlich\",\"m\\u00e4nnlich\",\"m\\u00e4nnlich\",\"m\\u00e4nnlich\",\"m\\u00e4nnlich\",\"m\\u00e4nnlich\",\"m\\u00e4nnlich\",\"m\\u00e4nnlich\",\"m\\u00e4nnlich\",\"weiblich\",\"weiblich\",\"m\\u00e4nnlich\",\"m\\u00e4nnlich\",\"m\\u00e4nnlich\",\"weiblich\",\"weiblich\",\"weiblich\",\"m\\u00e4nnlich\",\"weiblich\",\"m\\u00e4nnlich\",\"m\\u00e4nnlich\",\"m\\u00e4nnlich\",\"m\\u00e4nnlich\",\"weiblich\",\"weiblich\",\"weiblich\",\"weiblich\",\"weiblich\",\"weiblich\",\"weiblich\",\"weiblich\",\"weiblich\",\"weiblich\",\"weiblich\",\"weiblich\",\"weiblich\",\"weiblich\",\"weiblich\",\"weiblich\",\"weiblich\",\"m\\u00e4nnlich\",\"weiblich\",\"weiblich\",\"m\\u00e4nnlich\",\"m\\u00e4nnlich\",\"weiblich\",\"m\\u00e4nnlich\",\"m\\u00e4nnlich\",\"m\\u00e4nnlich\",\"m\\u00e4nnlich\",\"m\\u00e4nnlich\",\"m\\u00e4nnlich\",\"m\\u00e4nnlich\",\"m\\u00e4nnlich\",\"m\\u00e4nnlich\",\"m\\u00e4nnlich\",\"m\\u00e4nnlich\",\"m\\u00e4nnlich\",\"m\\u00e4nnlich\",\"m\\u00e4nnlich\",\"m\\u00e4nnlich\",\"m\\u00e4nnlich\",\"m\\u00e4nnlich\",\"weiblich\",\"weiblich\",\"weiblich\",\"weiblich\",\"weiblich\",\"m\\u00e4nnlich\",\"weiblich\",\"weiblich\",\"weiblich\",\"weiblich\",\"weiblich\",\"weiblich\",\"weiblich\",\"weiblich\",\"weiblich\",\"m\\u00e4nnlich\",\"m\\u00e4nnlich\",\"m\\u00e4nnlich\",\"weiblich\",\"weiblich\",\"weiblich\",\"weiblich\",\"m\\u00e4nnlich\",\"m\\u00e4nnlich\",\"m\\u00e4nnlich\",\"m\\u00e4nnlich\",\"weiblich\",\"weiblich\",\"m\\u00e4nnlich\",\"weiblich\",\"m\\u00e4nnlich\",\"weiblich\",\"weiblich\",\"weiblich\",\"m\\u00e4nnlich\",\"m\\u00e4nnlich\",\"weiblich\",\"m\\u00e4nnlich\",\"m\\u00e4nnlich\",\"weiblich\",\"0-19\",\"0-19\",\"0-19\",\"0-19\",\"0-19\",\"0-19\",\"0-19\",\"100 u. \\u00e4lter\",\"100 u. \\u00e4lter\",\"100 u. \\u00e4lter\",\"100 u. \\u00e4lter\",\"100 u. \\u00e4lter\",\"100 u. \\u00e4lter\",\"100 u. \\u00e4lter\",\"100 u. \\u00e4lter\",\"20-39\",\"20-39\",\"20-39\",\"20-39\",\"20-39\",\"20-39\",\"20-39\",\"20-39\",\"20-39\",\"20-39\",\"20-39\",\"20-39\",\"20-39\",\"20-39\",\"40-59\",\"40-59\",\"40-59\",\"40-59\",\"40-59\",\"40-59\",\"40-59\",\"40-59\",\"40-59\",\"40-59\",\"40-59\",\"40-59\",\"40-59\",\"40-59\",\"60-79\",\"60-79\",\"60-79\",\"60-79\",\"60-79\",\"60-79\",\"60-79\",\"60-79\",\"60-79\",\"60-79\",\"60-79\",\"60-79\",\"60-79\",\"60-79\",\"80-99\",\"80-99\",\"80-99\",\"80-99\",\"80-99\",\"80-99\",\"80-99\",\"80-99\",\"80-99\",\"80-99\",\"80-99\",\"80-99\",\"Geschieden\",\"Geschieden\",\"In aufgel\\u00f6ster Partnerschaft\",\"In aufgel\\u00f6ster Partnerschaft\",\"In eingetragener Partnerschaft\",\"In eingetragener Partnerschaft\",\"Ledig\",\"Ledig\",\"Unbekannt\",\"Unbekannt\",\"Verheiratet\",\"Verheiratet\",\"Verwitwet\",\"Verwitwet\",\"2020-01-01\",\"2021-01-01\",\"Wohnbev\\u00f6lkerung nach \"],\"marker\":{\"colors\":[\"#ab63fa\",\"#FFA15A\",\"#FFA15A\",\"#19d3f3\",\"#FFA15A\",\"#FF6692\",\"#FF6692\",\"#FF6692\",\"#B6E880\",\"#B6E880\",\"#FF6692\",\"#ab63fa\",\"#FF6692\",\"#FF97FF\",\"#FF97FF\",\"#FFA15A\",\"#FF6692\",\"#FF6692\",\"#19d3f3\",\"#FF6692\",\"#19d3f3\",\"#FF6692\",\"#FF6692\",\"#B6E880\",\"#FF6692\",\"#19d3f3\",\"#ab63fa\",\"#FFA15A\",\"#19d3f3\",\"#19d3f3\",\"#19d3f3\",\"#FF97FF\",\"#FF97FF\",\"#B6E880\",\"#FF97FF\",\"#FECB52\",\"#FF97FF\",\"#FECB52\",\"#FECB52\",\"#B6E880\",\"#FFA15A\",\"#FFA15A\",\"#FF6692\",\"#FFA15A\",\"#FFA15A\",\"#FF97FF\",\"#FF97FF\",\"#FF6692\",\"#FECB52\",\"#ab63fa\",\"#FF6692\",\"#FECB52\",\"#FF6692\",\"#FECB52\",\"#19d3f3\",\"#19d3f3\",\"#FF97FF\",\"#FF97FF\",\"#FECB52\",\"#FECB52\",\"#FFA15A\",\"#ab63fa\",\"#ab63fa\",\"#FF97FF\",\"#FF97FF\",\"#FECB52\",\"#FECB52\",\"#FECB52\",\"#FECB52\",\"#FFA15A\",\"#19d3f3\",\"#FECB52\",\"#FFA15A\",\"#19d3f3\",\"#B6E880\",\"#FF97FF\",\"#FFA15A\",\"#FF6692\",\"#FF97FF\",\"#FF97FF\",\"#19d3f3\",\"#ab63fa\",\"#FF97FF\",\"#ab63fa\",\"#B6E880\",\"#ab63fa\",\"#B6E880\",\"#19d3f3\",\"#ab63fa\",\"#B6E880\",\"#FECB52\",\"#FF97FF\",\"#FFA15A\",\"#B6E880\",\"#FF97FF\",\"#B6E880\",\"#B6E880\",\"#FF97FF\",\"#19d3f3\",\"#FF6692\",\"#FECB52\",\"#FF6692\",\"#FFA15A\",\"#FFA15A\",\"#19d3f3\",\"#19d3f3\",\"#FF6692\",\"#B6E880\",\"#B6E880\",\"#FFA15A\",\"#19d3f3\",\"#FF97FF\",\"#19d3f3\",\"#FECB52\",\"#19d3f3\",\"#ab63fa\",\"#19d3f3\",\"#FFA15A\",\"#FFA15A\",\"#19d3f3\",\"#B6E880\",\"#B6E880\",\"#ab63fa\",\"#19d3f3\",\"#FFA15A\",\"#FF6692\",\"#FF6692\",\"#FF97FF\",\"#FF97FF\",\"#FECB52\",\"#FF97FF\",\"#19d3f3\",\"#19d3f3\",\"#ab63fa\",\"#FF6692\",\"#FECB52\",\"#FF97FF\",\"#FF97FF\",\"#ab63fa\",\"#19d3f3\",\"#19d3f3\",\"#FF6692\",\"#FF6692\",\"#FF97FF\",\"#FF97FF\",\"#19d3f3\",\"#19d3f3\",\"#FFA15A\",\"#FFA15A\",\"#FF6692\",\"#FF6692\",\"#B6E880\",\"#B6E880\",\"#FECB52\",\"#FECB52\",\"#FF97FF\",\"#FF97FF\",\"#ab63fa\",\"#ab63fa\",\"#19d3f3\",\"#19d3f3\",\"#FFA15A\",\"#FFA15A\",\"#FF6692\",\"#FF6692\",\"#B6E880\",\"#B6E880\",\"#FECB52\",\"#FECB52\",\"#FF97FF\",\"#FF97FF\",\"#ab63fa\",\"#ab63fa\",\"#19d3f3\",\"#19d3f3\",\"#FFA15A\",\"#FFA15A\",\"#FF6692\",\"#FF6692\",\"#B6E880\",\"#B6E880\",\"#FECB52\",\"#FECB52\",\"#FF97FF\",\"#FF97FF\",\"#ab63fa\",\"#ab63fa\",\"#19d3f3\",\"#19d3f3\",\"#FFA15A\",\"#FFA15A\",\"#FF6692\",\"#FF6692\",\"#B6E880\",\"#B6E880\",\"#FECB52\",\"#FECB52\",\"#FF97FF\",\"#FF97FF\",\"#19d3f3\",\"#19d3f3\",\"#FFA15A\",\"#FFA15A\",\"#FF6692\",\"#FF6692\",\"#B6E880\",\"#B6E880\",\"#FECB52\",\"#FECB52\",\"#FF97FF\",\"#FF97FF\",\"#ab63fa\",\"#ab63fa\",\"#19d3f3\",\"#19d3f3\",\"#FFA15A\",\"#FFA15A\",\"lightgrey\",\"lightgrey\",\"lightgrey\"]},\"name\":\"\",\"parents\":[\"Wohnbev\\u00f6lkerung nach /2021-01-01/Unbekannt/20-39\",\"Wohnbev\\u00f6lkerung nach /2020-01-01/Verwitwet/40-59\",\"Wohnbev\\u00f6lkerung nach /2020-01-01/Verwitwet/20-39\",\"Wohnbev\\u00f6lkerung nach /2020-01-01/Verheiratet/40-59\",\"Wohnbev\\u00f6lkerung nach /2021-01-01/Verwitwet/40-59\",\"Wohnbev\\u00f6lkerung nach /2020-01-01/Geschieden/60-79\",\"Wohnbev\\u00f6lkerung nach /2021-01-01/Geschieden/60-79\",\"Wohnbev\\u00f6lkerung nach /2020-01-01/Geschieden/20-39\",\"Wohnbev\\u00f6lkerung nach /2021-01-01/In aufgel\\u00f6ster Partnerschaft/40-59\",\"Wohnbev\\u00f6lkerung nach /2020-01-01/In aufgel\\u00f6ster Partnerschaft/40-59\",\"Wohnbev\\u00f6lkerung nach /2021-01-01/Geschieden/20-39\",\"Wohnbev\\u00f6lkerung nach /2020-01-01/Unbekannt/20-39\",\"Wohnbev\\u00f6lkerung nach /2020-01-01/Geschieden/40-59\",\"Wohnbev\\u00f6lkerung nach /2021-01-01/Ledig/20-39\",\"Wohnbev\\u00f6lkerung nach /2020-01-01/Ledig/20-39\",\"Wohnbev\\u00f6lkerung nach /2020-01-01/Verwitwet/100 u. \\u00e4lter\",\"Wohnbev\\u00f6lkerung nach /2021-01-01/Geschieden/100 u. \\u00e4lter\",\"Wohnbev\\u00f6lkerung nach /2021-01-01/Geschieden/100 u. \\u00e4lter\",\"Wohnbev\\u00f6lkerung nach /2021-01-01/Verheiratet/0-19\",\"Wohnbev\\u00f6lkerung nach /2020-01-01/Geschieden/100 u. \\u00e4lter\",\"Wohnbev\\u00f6lkerung nach /2021-01-01/Verheiratet/40-59\",\"Wohnbev\\u00f6lkerung nach /2020-01-01/Geschieden/60-79\",\"Wohnbev\\u00f6lkerung nach /2021-01-01/Geschieden/60-79\",\"Wohnbev\\u00f6lkerung nach /2020-01-01/In aufgel\\u00f6ster Partnerschaft/60-79\",\"Wohnbev\\u00f6lkerung nach /2021-01-01/Geschieden/80-99\",\"Wohnbev\\u00f6lkerung nach /2020-01-01/Verheiratet/60-79\",\"Wohnbev\\u00f6lkerung nach /2020-01-01/Unbekannt/60-79\",\"Wohnbev\\u00f6lkerung nach /2020-01-01/Verwitwet/40-59\",\"Wohnbev\\u00f6lkerung nach /2021-01-01/Verheiratet/20-39\",\"Wohnbev\\u00f6lkerung nach /2020-01-01/Verheiratet/20-39\",\"Wohnbev\\u00f6lkerung nach /2021-01-01/Verheiratet/100 u. \\u00e4lter\",\"Wohnbev\\u00f6lkerung nach /2021-01-01/Ledig/80-99\",\"Wohnbev\\u00f6lkerung nach /2021-01-01/Ledig/60-79\",\"Wohnbev\\u00f6lkerung nach /2021-01-01/In aufgel\\u00f6ster Partnerschaft/80-99\",\"Wohnbev\\u00f6lkerung nach /2020-01-01/Ledig/80-99\",\"Wohnbev\\u00f6lkerung nach /2021-01-01/In eingetragener Partnerschaft/20-39\",\"Wohnbev\\u00f6lkerung nach /2020-01-01/Ledig/60-79\",\"Wohnbev\\u00f6lkerung nach /2020-01-01/In eingetragener Partnerschaft/80-99\",\"Wohnbev\\u00f6lkerung nach /2021-01-01/In eingetragener Partnerschaft/80-99\",\"Wohnbev\\u00f6lkerung nach /2020-01-01/In aufgel\\u00f6ster Partnerschaft/80-99\",\"Wohnbev\\u00f6lkerung nach /2021-01-01/Verwitwet/100 u. \\u00e4lter\",\"Wohnbev\\u00f6lkerung nach /2020-01-01/Verwitwet/100 u. \\u00e4lter\",\"Wohnbev\\u00f6lkerung nach /2020-01-01/Geschieden/80-99\",\"Wohnbev\\u00f6lkerung nach /2020-01-01/Verwitwet/80-99\",\"Wohnbev\\u00f6lkerung nach /2021-01-01/Verwitwet/80-99\",\"Wohnbev\\u00f6lkerung nach /2020-01-01/Ledig/0-19\",\"Wohnbev\\u00f6lkerung nach /2021-01-01/Ledig/0-19\",\"Wohnbev\\u00f6lkerung nach /2021-01-01/Geschieden/0-19\",\"Wohnbev\\u00f6lkerung nach /2020-01-01/In eingetragener Partnerschaft/60-79\",\"Wohnbev\\u00f6lkerung nach /2020-01-01/Unbekannt/0-19\",\"Wohnbev\\u00f6lkerung nach /2020-01-01/Geschieden/100 u. \\u00e4lter\",\"Wohnbev\\u00f6lkerung nach /2020-01-01/In eingetragener Partnerschaft/20-39\",\"Wohnbev\\u00f6lkerung nach /2020-01-01/Geschieden/20-39\",\"Wohnbev\\u00f6lkerung nach /2021-01-01/In eingetragener Partnerschaft/60-79\",\"Wohnbev\\u00f6lkerung nach /2021-01-01/Verheiratet/80-99\",\"Wohnbev\\u00f6lkerung nach /2020-01-01/Verheiratet/80-99\",\"Wohnbev\\u00f6lkerung nach /2021-01-01/Ledig/80-99\",\"Wohnbev\\u00f6lkerung nach /2020-01-01/Ledig/80-99\",\"Wohnbev\\u00f6lkerung nach /2021-01-01/In eingetragener Partnerschaft/80-99\",\"Wohnbev\\u00f6lkerung nach /2020-01-01/In eingetragener Partnerschaft/80-99\",\"Wohnbev\\u00f6lkerung nach /2020-01-01/Verwitwet/60-79\",\"Wohnbev\\u00f6lkerung nach /2021-01-01/Unbekannt/60-79\",\"Wohnbev\\u00f6lkerung nach /2020-01-01/Unbekannt/60-79\",\"Wohnbev\\u00f6lkerung nach /2021-01-01/Ledig/40-59\",\"Wohnbev\\u00f6lkerung nach /2020-01-01/Ledig/40-59\",\"Wohnbev\\u00f6lkerung nach /2021-01-01/In eingetragener Partnerschaft/40-59\",\"Wohnbev\\u00f6lkerung nach /2020-01-01/In eingetragener Partnerschaft/40-59\",\"Wohnbev\\u00f6lkerung nach /2021-01-01/In eingetragener Partnerschaft/20-39\",\"Wohnbev\\u00f6lkerung nach /2020-01-01/In eingetragener Partnerschaft/20-39\",\"Wohnbev\\u00f6lkerung nach /2021-01-01/Verwitwet/60-79\",\"Wohnbev\\u00f6lkerung nach /2021-01-01/Verheiratet/0-19\",\"Wohnbev\\u00f6lkerung nach /2020-01-01/In eingetragener Partnerschaft/0-19\",\"Wohnbev\\u00f6lkerung nach /2020-01-01/Verwitwet/80-99\",\"Wohnbev\\u00f6lkerung nach /2020-01-01/Verheiratet/0-19\",\"Wohnbev\\u00f6lkerung nach /2021-01-01/In aufgel\\u00f6ster Partnerschaft/40-59\",\"Wohnbev\\u00f6lkerung nach /2021-01-01/Ledig/40-59\",\"Wohnbev\\u00f6lkerung nach /2021-01-01/Verwitwet/80-99\",\"Wohnbev\\u00f6lkerung nach /2021-01-01/Geschieden/20-39\",\"Wohnbev\\u00f6lkerung nach /2020-01-01/Ledig/0-19\",\"Wohnbev\\u00f6lkerung nach /2021-01-01/Ledig/0-19\",\"Wohnbev\\u00f6lkerung nach /2020-01-01/Verheiratet/0-19\",\"Wohnbev\\u00f6lkerung nach /2020-01-01/Unbekannt/40-59\",\"Wohnbev\\u00f6lkerung nach /2021-01-01/Ledig/20-39\",\"Wohnbev\\u00f6lkerung nach /2020-01-01/Unbekannt/20-39\",\"Wohnbev\\u00f6lkerung nach /2021-01-01/In aufgel\\u00f6ster Partnerschaft/60-79\",\"Wohnbev\\u00f6lkerung nach /2021-01-01/Unbekannt/20-39\",\"Wohnbev\\u00f6lkerung nach /2020-01-01/In aufgel\\u00f6ster Partnerschaft/20-39\",\"Wohnbev\\u00f6lkerung nach /2020-01-01/Verheiratet/40-59\",\"Wohnbev\\u00f6lkerung nach /2021-01-01/Unbekannt/40-59\",\"Wohnbev\\u00f6lkerung nach /2021-01-01/In aufgel\\u00f6ster Partnerschaft/20-39\",\"Wohnbev\\u00f6lkerung nach /2020-01-01/In eingetragener Partnerschaft/40-59\",\"Wohnbev\\u00f6lkerung nach /2020-01-01/Ledig/20-39\",\"Wohnbev\\u00f6lkerung nach /2021-01-01/Verwitwet/20-39\",\"Wohnbev\\u00f6lkerung nach /2020-01-01/In aufgel\\u00f6ster Partnerschaft/40-59\",\"Wohnbev\\u00f6lkerung nach /2020-01-01/Ledig/60-79\",\"Wohnbev\\u00f6lkerung nach /2020-01-01/In aufgel\\u00f6ster Partnerschaft/60-79\",\"Wohnbev\\u00f6lkerung nach /2021-01-01/In aufgel\\u00f6ster Partnerschaft/60-79\",\"Wohnbev\\u00f6lkerung nach /2021-01-01/Ledig/60-79\",\"Wohnbev\\u00f6lkerung nach /2020-01-01/Verheiratet/60-79\",\"Wohnbev\\u00f6lkerung nach /2021-01-01/Geschieden/40-59\",\"Wohnbev\\u00f6lkerung nach /2020-01-01/In eingetragener Partnerschaft/60-79\",\"Wohnbev\\u00f6lkerung nach /2020-01-01/Geschieden/80-99\",\"Wohnbev\\u00f6lkerung nach /2021-01-01/Verwitwet/20-39\",\"Wohnbev\\u00f6lkerung nach /2020-01-01/Verwitwet/20-39\",\"Wohnbev\\u00f6lkerung nach /2021-01-01/Verheiratet/20-39\",\"Wohnbev\\u00f6lkerung nach /2020-01-01/Verheiratet/20-39\",\"Wohnbev\\u00f6lkerung nach /2021-01-01/Geschieden/80-99\",\"Wohnbev\\u00f6lkerung nach /2020-01-01/In aufgel\\u00f6ster Partnerschaft/80-99\",\"Wohnbev\\u00f6lkerung nach /2021-01-01/In aufgel\\u00f6ster Partnerschaft/80-99\",\"Wohnbev\\u00f6lkerung nach /2021-01-01/Verwitwet/100 u. \\u00e4lter\",\"Wohnbev\\u00f6lkerung nach /2020-01-01/Verheiratet/100 u. \\u00e4lter\",\"Wohnbev\\u00f6lkerung nach /2020-01-01/Ledig/100 u. \\u00e4lter\",\"Wohnbev\\u00f6lkerung nach /2021-01-01/Verheiratet/60-79\",\"Wohnbev\\u00f6lkerung nach /2021-01-01/In eingetragener Partnerschaft/60-79\",\"Wohnbev\\u00f6lkerung nach /2021-01-01/Verheiratet/100 u. \\u00e4lter\",\"Wohnbev\\u00f6lkerung nach /2021-01-01/Unbekannt/40-59\",\"Wohnbev\\u00f6lkerung nach /2020-01-01/Verheiratet/80-99\",\"Wohnbev\\u00f6lkerung nach /2021-01-01/Verwitwet/60-79\",\"Wohnbev\\u00f6lkerung nach /2020-01-01/Verwitwet/60-79\",\"Wohnbev\\u00f6lkerung nach /2021-01-01/Verheiratet/60-79\",\"Wohnbev\\u00f6lkerung nach /2020-01-01/In aufgel\\u00f6ster Partnerschaft/20-39\",\"Wohnbev\\u00f6lkerung nach /2021-01-01/In aufgel\\u00f6ster Partnerschaft/20-39\",\"Wohnbev\\u00f6lkerung nach /2021-01-01/Unbekannt/60-79\",\"Wohnbev\\u00f6lkerung nach /2020-01-01/Verheiratet/100 u. \\u00e4lter\",\"Wohnbev\\u00f6lkerung nach /2021-01-01/Verwitwet/40-59\",\"Wohnbev\\u00f6lkerung nach /2020-01-01/Geschieden/40-59\",\"Wohnbev\\u00f6lkerung nach /2021-01-01/Geschieden/40-59\",\"Wohnbev\\u00f6lkerung nach /2021-01-01/Ledig/100 u. \\u00e4lter\",\"Wohnbev\\u00f6lkerung nach /2020-01-01/Ledig/40-59\",\"Wohnbev\\u00f6lkerung nach /2021-01-01/In eingetragener Partnerschaft/40-59\",\"Wohnbev\\u00f6lkerung nach /2020-01-01/Ledig/100 u. \\u00e4lter\",\"Wohnbev\\u00f6lkerung nach /2021-01-01/Verheiratet/80-99\",\"Wohnbev\\u00f6lkerung nach /2021-01-01/Verheiratet/40-59\",\"Wohnbev\\u00f6lkerung nach /2020-01-01/Unbekannt/40-59\",\"Wohnbev\\u00f6lkerung nach /2021-01-01/Geschieden\",\"Wohnbev\\u00f6lkerung nach /2020-01-01/In eingetragener Partnerschaft\",\"Wohnbev\\u00f6lkerung nach /2020-01-01/Ledig\",\"Wohnbev\\u00f6lkerung nach /2021-01-01/Ledig\",\"Wohnbev\\u00f6lkerung nach /2020-01-01/Unbekannt\",\"Wohnbev\\u00f6lkerung nach /2020-01-01/Verheiratet\",\"Wohnbev\\u00f6lkerung nach /2021-01-01/Verheiratet\",\"Wohnbev\\u00f6lkerung nach /2020-01-01/Geschieden\",\"Wohnbev\\u00f6lkerung nach /2021-01-01/Geschieden\",\"Wohnbev\\u00f6lkerung nach /2020-01-01/Ledig\",\"Wohnbev\\u00f6lkerung nach /2021-01-01/Ledig\",\"Wohnbev\\u00f6lkerung nach /2020-01-01/Verheiratet\",\"Wohnbev\\u00f6lkerung nach /2021-01-01/Verheiratet\",\"Wohnbev\\u00f6lkerung nach /2020-01-01/Verwitwet\",\"Wohnbev\\u00f6lkerung nach /2021-01-01/Verwitwet\",\"Wohnbev\\u00f6lkerung nach /2020-01-01/Geschieden\",\"Wohnbev\\u00f6lkerung nach /2021-01-01/Geschieden\",\"Wohnbev\\u00f6lkerung nach /2020-01-01/In aufgel\\u00f6ster Partnerschaft\",\"Wohnbev\\u00f6lkerung nach /2021-01-01/In aufgel\\u00f6ster Partnerschaft\",\"Wohnbev\\u00f6lkerung nach /2020-01-01/In eingetragener Partnerschaft\",\"Wohnbev\\u00f6lkerung nach /2021-01-01/In eingetragener Partnerschaft\",\"Wohnbev\\u00f6lkerung nach /2020-01-01/Ledig\",\"Wohnbev\\u00f6lkerung nach /2021-01-01/Ledig\",\"Wohnbev\\u00f6lkerung nach /2020-01-01/Unbekannt\",\"Wohnbev\\u00f6lkerung nach /2021-01-01/Unbekannt\",\"Wohnbev\\u00f6lkerung nach /2020-01-01/Verheiratet\",\"Wohnbev\\u00f6lkerung nach /2021-01-01/Verheiratet\",\"Wohnbev\\u00f6lkerung nach /2020-01-01/Verwitwet\",\"Wohnbev\\u00f6lkerung nach /2021-01-01/Verwitwet\",\"Wohnbev\\u00f6lkerung nach /2020-01-01/Geschieden\",\"Wohnbev\\u00f6lkerung nach /2021-01-01/Geschieden\",\"Wohnbev\\u00f6lkerung nach /2020-01-01/In aufgel\\u00f6ster Partnerschaft\",\"Wohnbev\\u00f6lkerung nach /2021-01-01/In aufgel\\u00f6ster Partnerschaft\",\"Wohnbev\\u00f6lkerung nach /2020-01-01/In eingetragener Partnerschaft\",\"Wohnbev\\u00f6lkerung nach /2021-01-01/In eingetragener Partnerschaft\",\"Wohnbev\\u00f6lkerung nach /2020-01-01/Ledig\",\"Wohnbev\\u00f6lkerung nach /2021-01-01/Ledig\",\"Wohnbev\\u00f6lkerung nach /2020-01-01/Unbekannt\",\"Wohnbev\\u00f6lkerung nach /2021-01-01/Unbekannt\",\"Wohnbev\\u00f6lkerung nach /2020-01-01/Verheiratet\",\"Wohnbev\\u00f6lkerung nach /2021-01-01/Verheiratet\",\"Wohnbev\\u00f6lkerung nach /2020-01-01/Verwitwet\",\"Wohnbev\\u00f6lkerung nach /2021-01-01/Verwitwet\",\"Wohnbev\\u00f6lkerung nach /2020-01-01/Geschieden\",\"Wohnbev\\u00f6lkerung nach /2021-01-01/Geschieden\",\"Wohnbev\\u00f6lkerung nach /2020-01-01/In aufgel\\u00f6ster Partnerschaft\",\"Wohnbev\\u00f6lkerung nach /2021-01-01/In aufgel\\u00f6ster Partnerschaft\",\"Wohnbev\\u00f6lkerung nach /2020-01-01/In eingetragener Partnerschaft\",\"Wohnbev\\u00f6lkerung nach /2021-01-01/In eingetragener Partnerschaft\",\"Wohnbev\\u00f6lkerung nach /2020-01-01/Ledig\",\"Wohnbev\\u00f6lkerung nach /2021-01-01/Ledig\",\"Wohnbev\\u00f6lkerung nach /2020-01-01/Unbekannt\",\"Wohnbev\\u00f6lkerung nach /2021-01-01/Unbekannt\",\"Wohnbev\\u00f6lkerung nach /2020-01-01/Verheiratet\",\"Wohnbev\\u00f6lkerung nach /2021-01-01/Verheiratet\",\"Wohnbev\\u00f6lkerung nach /2020-01-01/Verwitwet\",\"Wohnbev\\u00f6lkerung nach /2021-01-01/Verwitwet\",\"Wohnbev\\u00f6lkerung nach /2020-01-01/Geschieden\",\"Wohnbev\\u00f6lkerung nach /2021-01-01/Geschieden\",\"Wohnbev\\u00f6lkerung nach /2020-01-01/In aufgel\\u00f6ster Partnerschaft\",\"Wohnbev\\u00f6lkerung nach /2021-01-01/In aufgel\\u00f6ster Partnerschaft\",\"Wohnbev\\u00f6lkerung nach /2020-01-01/In eingetragener Partnerschaft\",\"Wohnbev\\u00f6lkerung nach /2021-01-01/In eingetragener Partnerschaft\",\"Wohnbev\\u00f6lkerung nach /2020-01-01/Ledig\",\"Wohnbev\\u00f6lkerung nach /2021-01-01/Ledig\",\"Wohnbev\\u00f6lkerung nach /2020-01-01/Verheiratet\",\"Wohnbev\\u00f6lkerung nach /2021-01-01/Verheiratet\",\"Wohnbev\\u00f6lkerung nach /2020-01-01/Verwitwet\",\"Wohnbev\\u00f6lkerung nach /2021-01-01/Verwitwet\",\"Wohnbev\\u00f6lkerung nach /2020-01-01\",\"Wohnbev\\u00f6lkerung nach /2021-01-01\",\"Wohnbev\\u00f6lkerung nach /2020-01-01\",\"Wohnbev\\u00f6lkerung nach /2021-01-01\",\"Wohnbev\\u00f6lkerung nach /2020-01-01\",\"Wohnbev\\u00f6lkerung nach /2021-01-01\",\"Wohnbev\\u00f6lkerung nach /2020-01-01\",\"Wohnbev\\u00f6lkerung nach /2021-01-01\",\"Wohnbev\\u00f6lkerung nach /2020-01-01\",\"Wohnbev\\u00f6lkerung nach /2021-01-01\",\"Wohnbev\\u00f6lkerung nach /2020-01-01\",\"Wohnbev\\u00f6lkerung nach /2021-01-01\",\"Wohnbev\\u00f6lkerung nach /2020-01-01\",\"Wohnbev\\u00f6lkerung nach /2021-01-01\",\"Wohnbev\\u00f6lkerung nach \",\"Wohnbev\\u00f6lkerung nach \",\"\"],\"values\":[14,953,16,28447,932,8411,8533,2110,59,54,2015,13,6880,57004,56335,13,9,3,1,9,28513,5039,5135,48,697,16192,1,233,15363,16198,9,627,5520,7,603,591,5322,29,31,6,56,64,667,1562,1559,36197,36690,1,352,1,1,573,1256,370,2738,2724,1765,1755,4,3,4169,6,5,17736,17128,286,288,142,120,4083,11,1,6583,12,231,22427,6414,1155,38357,38734,2,3,65396,20,53,16,106,31581,5,103,1126,64538,12,201,5969,18,16,6038,13888,6763,91,1924,66,71,19415,20238,2040,3,5,17,10,1,13829,104,3,3,3995,970,976,16067,17,19,1,5,233,9357,9110,12,21849,1109,13,4024,31432,4,1,1,74554,75424,1,14,12,10,12,14,12,15,12,77,73,3366,3170,123,122,693,733,120873,122400,33,30,36436,34778,87,78,16237,15873,255,290,1414,1395,38977,40163,7,8,60028,59945,1186,1165,13450,13668,66,69,443,474,11291,11558,6,7,30080,29896,5145,5053,2591,2737,9,12,32,35,2358,2392,6719,6762,8145,7973,35654,35461,453,493,2583,2637,248067,251949,47,45,133292,131405,14640,14342,434736,436332,871068],\"type\":\"treemap\",\"root\":{\"color\":\"grey\"}}],                        {\"template\":{\"data\":{\"bar\":[{\"error_x\":{\"color\":\"#2a3f5f\"},\"error_y\":{\"color\":\"#2a3f5f\"},\"marker\":{\"line\":{\"color\":\"#E5ECF6\",\"width\":0.5},\"pattern\":{\"fillmode\":\"overlay\",\"size\":10,\"solidity\":0.2}},\"type\":\"bar\"}],\"barpolar\":[{\"marker\":{\"line\":{\"color\":\"#E5ECF6\",\"width\":0.5},\"pattern\":{\"fillmode\":\"overlay\",\"size\":10,\"solidity\":0.2}},\"type\":\"barpolar\"}],\"carpet\":[{\"aaxis\":{\"endlinecolor\":\"#2a3f5f\",\"gridcolor\":\"white\",\"linecolor\":\"white\",\"minorgridcolor\":\"white\",\"startlinecolor\":\"#2a3f5f\"},\"baxis\":{\"endlinecolor\":\"#2a3f5f\",\"gridcolor\":\"white\",\"linecolor\":\"white\",\"minorgridcolor\":\"white\",\"startlinecolor\":\"#2a3f5f\"},\"type\":\"carpet\"}],\"choropleth\":[{\"colorbar\":{\"outlinewidth\":0,\"ticks\":\"\"},\"type\":\"choropleth\"}],\"contour\":[{\"colorbar\":{\"outlinewidth\":0,\"ticks\":\"\"},\"colorscale\":[[0.0,\"#0d0887\"],[0.1111111111111111,\"#46039f\"],[0.2222222222222222,\"#7201a8\"],[0.3333333333333333,\"#9c179e\"],[0.4444444444444444,\"#bd3786\"],[0.5555555555555556,\"#d8576b\"],[0.6666666666666666,\"#ed7953\"],[0.7777777777777778,\"#fb9f3a\"],[0.8888888888888888,\"#fdca26\"],[1.0,\"#f0f921\"]],\"type\":\"contour\"}],\"contourcarpet\":[{\"colorbar\":{\"outlinewidth\":0,\"ticks\":\"\"},\"type\":\"contourcarpet\"}],\"heatmap\":[{\"colorbar\":{\"outlinewidth\":0,\"ticks\":\"\"},\"colorscale\":[[0.0,\"#0d0887\"],[0.1111111111111111,\"#46039f\"],[0.2222222222222222,\"#7201a8\"],[0.3333333333333333,\"#9c179e\"],[0.4444444444444444,\"#bd3786\"],[0.5555555555555556,\"#d8576b\"],[0.6666666666666666,\"#ed7953\"],[0.7777777777777778,\"#fb9f3a\"],[0.8888888888888888,\"#fdca26\"],[1.0,\"#f0f921\"]],\"type\":\"heatmap\"}],\"heatmapgl\":[{\"colorbar\":{\"outlinewidth\":0,\"ticks\":\"\"},\"colorscale\":[[0.0,\"#0d0887\"],[0.1111111111111111,\"#46039f\"],[0.2222222222222222,\"#7201a8\"],[0.3333333333333333,\"#9c179e\"],[0.4444444444444444,\"#bd3786\"],[0.5555555555555556,\"#d8576b\"],[0.6666666666666666,\"#ed7953\"],[0.7777777777777778,\"#fb9f3a\"],[0.8888888888888888,\"#fdca26\"],[1.0,\"#f0f921\"]],\"type\":\"heatmapgl\"}],\"histogram\":[{\"marker\":{\"pattern\":{\"fillmode\":\"overlay\",\"size\":10,\"solidity\":0.2}},\"type\":\"histogram\"}],\"histogram2d\":[{\"colorbar\":{\"outlinewidth\":0,\"ticks\":\"\"},\"colorscale\":[[0.0,\"#0d0887\"],[0.1111111111111111,\"#46039f\"],[0.2222222222222222,\"#7201a8\"],[0.3333333333333333,\"#9c179e\"],[0.4444444444444444,\"#bd3786\"],[0.5555555555555556,\"#d8576b\"],[0.6666666666666666,\"#ed7953\"],[0.7777777777777778,\"#fb9f3a\"],[0.8888888888888888,\"#fdca26\"],[1.0,\"#f0f921\"]],\"type\":\"histogram2d\"}],\"histogram2dcontour\":[{\"colorbar\":{\"outlinewidth\":0,\"ticks\":\"\"},\"colorscale\":[[0.0,\"#0d0887\"],[0.1111111111111111,\"#46039f\"],[0.2222222222222222,\"#7201a8\"],[0.3333333333333333,\"#9c179e\"],[0.4444444444444444,\"#bd3786\"],[0.5555555555555556,\"#d8576b\"],[0.6666666666666666,\"#ed7953\"],[0.7777777777777778,\"#fb9f3a\"],[0.8888888888888888,\"#fdca26\"],[1.0,\"#f0f921\"]],\"type\":\"histogram2dcontour\"}],\"mesh3d\":[{\"colorbar\":{\"outlinewidth\":0,\"ticks\":\"\"},\"type\":\"mesh3d\"}],\"parcoords\":[{\"line\":{\"colorbar\":{\"outlinewidth\":0,\"ticks\":\"\"}},\"type\":\"parcoords\"}],\"pie\":[{\"automargin\":true,\"type\":\"pie\"}],\"scatter\":[{\"marker\":{\"colorbar\":{\"outlinewidth\":0,\"ticks\":\"\"}},\"type\":\"scatter\"}],\"scatter3d\":[{\"line\":{\"colorbar\":{\"outlinewidth\":0,\"ticks\":\"\"}},\"marker\":{\"colorbar\":{\"outlinewidth\":0,\"ticks\":\"\"}},\"type\":\"scatter3d\"}],\"scattercarpet\":[{\"marker\":{\"colorbar\":{\"outlinewidth\":0,\"ticks\":\"\"}},\"type\":\"scattercarpet\"}],\"scattergeo\":[{\"marker\":{\"colorbar\":{\"outlinewidth\":0,\"ticks\":\"\"}},\"type\":\"scattergeo\"}],\"scattergl\":[{\"marker\":{\"colorbar\":{\"outlinewidth\":0,\"ticks\":\"\"}},\"type\":\"scattergl\"}],\"scattermapbox\":[{\"marker\":{\"colorbar\":{\"outlinewidth\":0,\"ticks\":\"\"}},\"type\":\"scattermapbox\"}],\"scatterpolar\":[{\"marker\":{\"colorbar\":{\"outlinewidth\":0,\"ticks\":\"\"}},\"type\":\"scatterpolar\"}],\"scatterpolargl\":[{\"marker\":{\"colorbar\":{\"outlinewidth\":0,\"ticks\":\"\"}},\"type\":\"scatterpolargl\"}],\"scatterternary\":[{\"marker\":{\"colorbar\":{\"outlinewidth\":0,\"ticks\":\"\"}},\"type\":\"scatterternary\"}],\"surface\":[{\"colorbar\":{\"outlinewidth\":0,\"ticks\":\"\"},\"colorscale\":[[0.0,\"#0d0887\"],[0.1111111111111111,\"#46039f\"],[0.2222222222222222,\"#7201a8\"],[0.3333333333333333,\"#9c179e\"],[0.4444444444444444,\"#bd3786\"],[0.5555555555555556,\"#d8576b\"],[0.6666666666666666,\"#ed7953\"],[0.7777777777777778,\"#fb9f3a\"],[0.8888888888888888,\"#fdca26\"],[1.0,\"#f0f921\"]],\"type\":\"surface\"}],\"table\":[{\"cells\":{\"fill\":{\"color\":\"#EBF0F8\"},\"line\":{\"color\":\"white\"}},\"header\":{\"fill\":{\"color\":\"#C8D4E3\"},\"line\":{\"color\":\"white\"}},\"type\":\"table\"}]},\"layout\":{\"annotationdefaults\":{\"arrowcolor\":\"#2a3f5f\",\"arrowhead\":0,\"arrowwidth\":1},\"autotypenumbers\":\"strict\",\"coloraxis\":{\"colorbar\":{\"outlinewidth\":0,\"ticks\":\"\"}},\"colorscale\":{\"diverging\":[[0,\"#8e0152\"],[0.1,\"#c51b7d\"],[0.2,\"#de77ae\"],[0.3,\"#f1b6da\"],[0.4,\"#fde0ef\"],[0.5,\"#f7f7f7\"],[0.6,\"#e6f5d0\"],[0.7,\"#b8e186\"],[0.8,\"#7fbc41\"],[0.9,\"#4d9221\"],[1,\"#276419\"]],\"sequential\":[[0.0,\"#0d0887\"],[0.1111111111111111,\"#46039f\"],[0.2222222222222222,\"#7201a8\"],[0.3333333333333333,\"#9c179e\"],[0.4444444444444444,\"#bd3786\"],[0.5555555555555556,\"#d8576b\"],[0.6666666666666666,\"#ed7953\"],[0.7777777777777778,\"#fb9f3a\"],[0.8888888888888888,\"#fdca26\"],[1.0,\"#f0f921\"]],\"sequentialminus\":[[0.0,\"#0d0887\"],[0.1111111111111111,\"#46039f\"],[0.2222222222222222,\"#7201a8\"],[0.3333333333333333,\"#9c179e\"],[0.4444444444444444,\"#bd3786\"],[0.5555555555555556,\"#d8576b\"],[0.6666666666666666,\"#ed7953\"],[0.7777777777777778,\"#fb9f3a\"],[0.8888888888888888,\"#fdca26\"],[1.0,\"#f0f921\"]]},\"colorway\":[\"#636efa\",\"#EF553B\",\"#00cc96\",\"#ab63fa\",\"#FFA15A\",\"#19d3f3\",\"#FF6692\",\"#B6E880\",\"#FF97FF\",\"#FECB52\"],\"font\":{\"color\":\"#2a3f5f\"},\"geo\":{\"bgcolor\":\"white\",\"lakecolor\":\"white\",\"landcolor\":\"#E5ECF6\",\"showlakes\":true,\"showland\":true,\"subunitcolor\":\"white\"},\"hoverlabel\":{\"align\":\"left\"},\"hovermode\":\"closest\",\"mapbox\":{\"style\":\"light\"},\"paper_bgcolor\":\"white\",\"plot_bgcolor\":\"#E5ECF6\",\"polar\":{\"angularaxis\":{\"gridcolor\":\"white\",\"linecolor\":\"white\",\"ticks\":\"\"},\"bgcolor\":\"#E5ECF6\",\"radialaxis\":{\"gridcolor\":\"white\",\"linecolor\":\"white\",\"ticks\":\"\"}},\"scene\":{\"xaxis\":{\"backgroundcolor\":\"#E5ECF6\",\"gridcolor\":\"white\",\"gridwidth\":2,\"linecolor\":\"white\",\"showbackground\":true,\"ticks\":\"\",\"zerolinecolor\":\"white\"},\"yaxis\":{\"backgroundcolor\":\"#E5ECF6\",\"gridcolor\":\"white\",\"gridwidth\":2,\"linecolor\":\"white\",\"showbackground\":true,\"ticks\":\"\",\"zerolinecolor\":\"white\"},\"zaxis\":{\"backgroundcolor\":\"#E5ECF6\",\"gridcolor\":\"white\",\"gridwidth\":2,\"linecolor\":\"white\",\"showbackground\":true,\"ticks\":\"\",\"zerolinecolor\":\"white\"}},\"shapedefaults\":{\"line\":{\"color\":\"#2a3f5f\"}},\"ternary\":{\"aaxis\":{\"gridcolor\":\"white\",\"linecolor\":\"white\",\"ticks\":\"\"},\"baxis\":{\"gridcolor\":\"white\",\"linecolor\":\"white\",\"ticks\":\"\"},\"bgcolor\":\"#E5ECF6\",\"caxis\":{\"gridcolor\":\"white\",\"linecolor\":\"white\",\"ticks\":\"\"}},\"title\":{\"x\":0.05},\"xaxis\":{\"automargin\":true,\"gridcolor\":\"white\",\"linecolor\":\"white\",\"ticks\":\"\",\"title\":{\"standoff\":15},\"zerolinecolor\":\"white\",\"zerolinewidth\":2},\"yaxis\":{\"automargin\":true,\"gridcolor\":\"white\",\"linecolor\":\"white\",\"ticks\":\"\",\"title\":{\"standoff\":15},\"zerolinecolor\":\"white\",\"zerolinewidth\":2}}},\"legend\":{\"tracegroupgap\":0},\"margin\":{\"t\":50,\"l\":25,\"r\":250,\"b\":25},\"height\":600,\"width\":1100},                        {\"responsive\": true}                    ).then(function(){\n",
       "                            \n",
       "var gd = document.getElementById('8465ce3f-4fee-4320-af1a-33d6284a2ccc');\n",
       "var x = new MutationObserver(function (mutations, observer) {{\n",
       "        var display = window.getComputedStyle(gd).display;\n",
       "        if (!display || display === 'none') {{\n",
       "            console.log([gd, 'removed!']);\n",
       "            Plotly.purge(gd);\n",
       "            observer.disconnect();\n",
       "        }}\n",
       "}});\n",
       "\n",
       "// Listen for the removal of the full notebook cells\n",
       "var notebookContainer = gd.closest('#notebook-container');\n",
       "if (notebookContainer) {{\n",
       "    x.observe(notebookContainer, {childList: true});\n",
       "}}\n",
       "\n",
       "// Listen for the clearing of the current output cell\n",
       "var outputEl = gd.closest('.output');\n",
       "if (outputEl) {{\n",
       "    x.observe(outputEl, {childList: true});\n",
       "}}\n",
       "\n",
       "                        })                };                });            </script>        </div>"
      ]
     },
     "metadata": {},
     "output_type": "display_data"
    }
   ],
   "source": [
    "myTreemapAgg = data2betested.loc['2020':'2021']  \\\n",
    "    .groupby(['StichtagDatJahr', 'Ziv2Lang', 'SexLang','AlterV20Sort','AlterV20Kurz']) \\\n",
    "    .agg(sum_WBev=('AnzBestWir', 'sum')) \\\n",
    "    .sort_values('sum_WBev', ascending=True) \n",
    "\n",
    "fig = px.treemap(myTreemapAgg.reset_index(), path=[px.Constant(\"Wohnbevölkerung nach \"), 'StichtagDatJahr', 'Ziv2Lang', 'AlterV20Kurz','SexLang']\n",
    "                 , values='sum_WBev'\n",
    "                 , color='Ziv2Lang'\n",
    "                 ## bei discrete scales (bei Klassen und Strings):                 \n",
    "                 #, color_discrete_map={'(?)':'lightgrey','EVP':'gold', 'Ausländer/in':'#FF3030', 'PdA':'#EE3B3B', 'Grüne':'#A2CD5A','GLP':'#CAFF70','Die Mitte':'orange','FDP':'#104E8B','AL':'deeppink','SVP':'forestgreen', 'FL ZÜRI':'#8B864E','Volt':'#lightblue' }         \n",
    "                 , color_discrete_map={'(?)':'lightgrey','Schweizer/in':'gold', 'SP':'#FF3030' }               \n",
    "                 ## bei continuous scales (bei Zahlenwerten):\n",
    "                , color_continuous_scale='blues'\n",
    "                #, color_continuous_midpoint=np.average(df['AnzBestWir'], weights=df['AnzBestWir'])   \n",
    "                 ,height=600\n",
    "                 ,width=1100\n",
    "                )\n",
    "fig.update_traces(root_color=\"grey\")\n",
    "fig.update_layout(margin = dict(t=50, l=25, r=250, b=25))\n",
    "fig.show()"
   ]
  },
  {
   "cell_type": "code",
   "execution_count": 111,
   "metadata": {},
   "outputs": [],
   "source": [
    "#data2betested.dtypes"
   ]
  },
  {
   "cell_type": "markdown",
   "metadata": {
    "tags": []
   },
   "source": [
    "\n",
    "\n"
   ]
  },
  {
   "cell_type": "markdown",
   "metadata": {},
   "source": [
    "## ---------------------- hier Plausi beendet\n",
    "\n",
    "**Sharepoint als gecheckt markieren!**"
   ]
  },
  {
   "cell_type": "markdown",
   "metadata": {},
   "source": [
    "Record auf Sharepoint: **[Link](https://kollaboration.intranet.stzh.ch/orga/ssz-produkte/Lists/SASA_Outputs/DispForm.aspx?ID=931&ContentTypeId=0x0100988EAF029F1EFE4CA675F53C32A5D53D01006DBC563E6FBE9E4EB6FDC780799752E1)**\n",
    "\n",
    "---------------------------------------------------------------------------"
   ]
  },
  {
   "cell_type": "markdown",
   "metadata": {
    "tags": []
   },
   "source": [
    "### Test: Choroplethenkarte\n",
    "Importiere die Geodaten als GeoJSON"
   ]
  },
  {
   "cell_type": "markdown",
   "metadata": {},
   "source": [
    "#### Stadtkreise"
   ]
  },
  {
   "cell_type": "code",
   "execution_count": 94,
   "metadata": {},
   "outputs": [
    {
     "data": {
      "text/html": [
       "<div>\n",
       "<style scoped>\n",
       "    .dataframe tbody tr th:only-of-type {\n",
       "        vertical-align: middle;\n",
       "    }\n",
       "\n",
       "    .dataframe tbody tr th {\n",
       "        vertical-align: top;\n",
       "    }\n",
       "\n",
       "    .dataframe thead th {\n",
       "        text-align: right;\n",
       "    }\n",
       "</style>\n",
       "<table border=\"1\" class=\"dataframe\">\n",
       "  <thead>\n",
       "    <tr style=\"text-align: right;\">\n",
       "      <th></th>\n",
       "      <th>id</th>\n",
       "      <th>kname</th>\n",
       "      <th>knr</th>\n",
       "      <th>objid</th>\n",
       "      <th>geometry</th>\n",
       "    </tr>\n",
       "  </thead>\n",
       "  <tbody>\n",
       "    <tr>\n",
       "      <th>0</th>\n",
       "      <td>adm_stadtkreise_v.6</td>\n",
       "      <td>Kreis 7</td>\n",
       "      <td>7</td>\n",
       "      <td>6</td>\n",
       "      <td>POLYGON ((8.54885 47.36602, 8.54901 47.36601, ...</td>\n",
       "    </tr>\n",
       "  </tbody>\n",
       "</table>\n",
       "</div>"
      ],
      "text/plain": [
       "                    id    kname  knr objid                                           geometry\n",
       "0  adm_stadtkreise_v.6  Kreis 7    7     6  POLYGON ((8.54885 47.36602, 8.54901 47.36601, ..."
      ]
     },
     "execution_count": 94,
     "metadata": {},
     "output_type": "execute_result"
    }
   ],
   "source": [
    "# Read abt. Geopandas https://geopandas.org/docs/user_guide/io.html\n",
    "geojson_url_kreise = \"https://www.ogd.stadt-zuerich.ch/wfs/geoportal/Stadtkreise?service=WFS&version=1.1.0&request=GetFeature&outputFormat=GeoJSON&typename=adm_stadtkreise_v\"\n",
    "adm_stadtkreise_v = gpd.read_file(geojson_url_kreise)\n",
    "\n",
    "adm_stadtkreise_v.head(1)\n"
   ]
  },
  {
   "cell_type": "markdown",
   "metadata": {},
   "source": [
    "#### Statistische Zonen"
   ]
  },
  {
   "cell_type": "code",
   "execution_count": 95,
   "metadata": {},
   "outputs": [
    {
     "data": {
      "text/html": [
       "<div>\n",
       "<style scoped>\n",
       "    .dataframe tbody tr th:only-of-type {\n",
       "        vertical-align: middle;\n",
       "    }\n",
       "\n",
       "    .dataframe tbody tr th {\n",
       "        vertical-align: top;\n",
       "    }\n",
       "\n",
       "    .dataframe thead th {\n",
       "        text-align: right;\n",
       "    }\n",
       "</style>\n",
       "<table border=\"1\" class=\"dataframe\">\n",
       "  <thead>\n",
       "    <tr style=\"text-align: right;\">\n",
       "      <th></th>\n",
       "      <th>id</th>\n",
       "      <th>kname</th>\n",
       "      <th>knr</th>\n",
       "      <th>objectid</th>\n",
       "      <th>objid</th>\n",
       "      <th>qname</th>\n",
       "      <th>qnr</th>\n",
       "      <th>stzname</th>\n",
       "      <th>stznr</th>\n",
       "      <th>geometry</th>\n",
       "    </tr>\n",
       "  </thead>\n",
       "  <tbody>\n",
       "    <tr>\n",
       "      <th>0</th>\n",
       "      <td>adm_statzonen_map.1</td>\n",
       "      <td>Kreis 7</td>\n",
       "      <td>7</td>\n",
       "      <td>1</td>\n",
       "      <td>154</td>\n",
       "      <td>Hirslanden</td>\n",
       "      <td>73</td>\n",
       "      <td>Hegibach</td>\n",
       "      <td>7303</td>\n",
       "      <td>POLYGON ((8.55670 47.36406, 8.55682 47.36410, ...</td>\n",
       "    </tr>\n",
       "    <tr>\n",
       "      <th>1</th>\n",
       "      <td>adm_statzonen_map.2</td>\n",
       "      <td>Kreis 7</td>\n",
       "      <td>7</td>\n",
       "      <td>2</td>\n",
       "      <td>89</td>\n",
       "      <td>Hirslanden</td>\n",
       "      <td>73</td>\n",
       "      <td>Klus</td>\n",
       "      <td>7302</td>\n",
       "      <td>POLYGON ((8.57281 47.35806, 8.57278 47.35807, ...</td>\n",
       "    </tr>\n",
       "  </tbody>\n",
       "</table>\n",
       "</div>"
      ],
      "text/plain": [
       "                    id    kname  knr  objectid objid       qname  qnr   stzname  stznr  \\\n",
       "0  adm_statzonen_map.1  Kreis 7    7         1   154  Hirslanden   73  Hegibach   7303   \n",
       "1  adm_statzonen_map.2  Kreis 7    7         2    89  Hirslanden   73      Klus   7302   \n",
       "\n",
       "                                            geometry  \n",
       "0  POLYGON ((8.55670 47.36406, 8.55682 47.36410, ...  \n",
       "1  POLYGON ((8.57281 47.35806, 8.57278 47.35807, ...  "
      ]
     },
     "execution_count": 95,
     "metadata": {},
     "output_type": "execute_result"
    }
   ],
   "source": [
    "# Read abt. Geopandas https://geopandas.org/docs/user_guide/io.html\n",
    "geojson_url_statzonen = \"https://www.ogd.stadt-zuerich.ch/wfs/geoportal/Statistische_Zonen?service=WFS&version=1.1.0&request=GetFeature&outputFormat=GeoJSON&typename=adm_statzonen_map\"\n",
    "adm_statzonen_map = gpd.read_file(geojson_url_statzonen)\n",
    "\n",
    "adm_statzonen_map.head(2)\n"
   ]
  },
  {
   "cell_type": "markdown",
   "metadata": {},
   "source": [
    "#### Statistische Quartiere"
   ]
  },
  {
   "cell_type": "code",
   "execution_count": 96,
   "metadata": {},
   "outputs": [
    {
     "data": {
      "text/html": [
       "<div>\n",
       "<style scoped>\n",
       "    .dataframe tbody tr th:only-of-type {\n",
       "        vertical-align: middle;\n",
       "    }\n",
       "\n",
       "    .dataframe tbody tr th {\n",
       "        vertical-align: top;\n",
       "    }\n",
       "\n",
       "    .dataframe thead th {\n",
       "        text-align: right;\n",
       "    }\n",
       "</style>\n",
       "<table border=\"1\" class=\"dataframe\">\n",
       "  <thead>\n",
       "    <tr style=\"text-align: right;\">\n",
       "      <th></th>\n",
       "      <th>id</th>\n",
       "      <th>kname</th>\n",
       "      <th>knr</th>\n",
       "      <th>objectid</th>\n",
       "      <th>objid</th>\n",
       "      <th>qname</th>\n",
       "      <th>qnr</th>\n",
       "      <th>geometry</th>\n",
       "    </tr>\n",
       "  </thead>\n",
       "  <tbody>\n",
       "    <tr>\n",
       "      <th>0</th>\n",
       "      <td>adm_statistische_quartiere_map.1</td>\n",
       "      <td>Kreis 7</td>\n",
       "      <td>7</td>\n",
       "      <td>1</td>\n",
       "      <td>34</td>\n",
       "      <td>Hirslanden</td>\n",
       "      <td>73</td>\n",
       "      <td>POLYGON ((8.55670 47.36406, 8.55682 47.36410, ...</td>\n",
       "    </tr>\n",
       "    <tr>\n",
       "      <th>1</th>\n",
       "      <td>adm_statistische_quartiere_map.2</td>\n",
       "      <td>Kreis 8</td>\n",
       "      <td>8</td>\n",
       "      <td>2</td>\n",
       "      <td>33</td>\n",
       "      <td>Weinegg</td>\n",
       "      <td>83</td>\n",
       "      <td>POLYGON ((8.55670 47.36405, 8.55672 47.36403, ...</td>\n",
       "    </tr>\n",
       "  </tbody>\n",
       "</table>\n",
       "</div>"
      ],
      "text/plain": [
       "                                 id    kname  knr  objectid objid       qname  qnr  \\\n",
       "0  adm_statistische_quartiere_map.1  Kreis 7    7         1    34  Hirslanden   73   \n",
       "1  adm_statistische_quartiere_map.2  Kreis 8    8         2    33     Weinegg   83   \n",
       "\n",
       "                                            geometry  \n",
       "0  POLYGON ((8.55670 47.36406, 8.55682 47.36410, ...  \n",
       "1  POLYGON ((8.55670 47.36405, 8.55672 47.36403, ...  "
      ]
     },
     "execution_count": 96,
     "metadata": {},
     "output_type": "execute_result"
    }
   ],
   "source": [
    "geojson_url_quartiere = \"https://www.ogd.stadt-zuerich.ch/wfs/geoportal/Statistische_Quartiere?service=WFS&version=1.1.0&request=GetFeature&outputFormat=GeoJSON&typename=adm_statistische_quartiere_map\"\n",
    "df_adm_statistische_quartiere_map = gpd.read_file(geojson_url_quartiere)\n",
    "\n",
    "df_adm_statistische_quartiere_map.head(2)\n"
   ]
  },
  {
   "cell_type": "markdown",
   "metadata": {},
   "source": [
    "### Teste LeafMap\n",
    "\n",
    "Mehr Infos: https://leafmap.org/leafmap/"
   ]
  },
  {
   "cell_type": "code",
   "execution_count": 98,
   "metadata": {},
   "outputs": [
    {
     "data": {
      "application/vnd.jupyter.widget-view+json": {
       "model_id": "5c32d7c8a6254d02b67cee68e91d66ac",
       "version_major": 2,
       "version_minor": 0
      },
      "text/plain": [
       "Map(center=[20, 0], controls=(ZoomControl(options=['position', 'zoom_in_text', 'zoom_in_title', 'zoom_out_text…"
      ]
     },
     "metadata": {},
     "output_type": "display_data"
    }
   ],
   "source": [
    "m = leafmap.Map()\n",
    "\n",
    "#m.add_geojson(geojson_url_kreise, layer_name=\"adm_stadtkreise_v\", fill_colors=['red', 'yellow', 'green', 'orange'], info_mode=True)\n",
    "m.add_gdf(df_adm_statistische_quartiere_map, layer_name='adm_statistische_quartiere_map', style={}, hover_style={}, style_callback=None, fill_colors=['black'], info_mode='on_hover', zoom_to_layer=True)\n",
    "m.add_gdf(adm_stadtkreise_v, layer_name='adm_stadtkreise_v', style={}, hover_style={}, style_callback=None, fill_colors=['none'], info_mode='on_hover', zoom_to_layer=False)\n",
    "\n",
    "m.add_legend(title='Legende', legend_dict=None, labels=None, colors=None, position='bottomright', builtin_legend=None, layer_name='adm_statistische_quartiere_map')\n",
    "m"
   ]
  },
  {
   "cell_type": "markdown",
   "metadata": {},
   "source": [
    "### Joins\n",
    "Joine die importierten statistischen Daten des aktuellen Jahres zum Geodatensatz:\n",
    "\n",
    "*Siehe dazu Doku zu [Geopandas](https://geopandas.org/docs/user_guide/mergingdata.html)*"
   ]
  },
  {
   "cell_type": "code",
   "execution_count": 109,
   "metadata": {},
   "outputs": [
    {
     "data": {
      "text/html": [
       "<div>\n",
       "<style scoped>\n",
       "    .dataframe tbody tr th:only-of-type {\n",
       "        vertical-align: middle;\n",
       "    }\n",
       "\n",
       "    .dataframe tbody tr th {\n",
       "        vertical-align: top;\n",
       "    }\n",
       "\n",
       "    .dataframe thead th {\n",
       "        text-align: right;\n",
       "    }\n",
       "</style>\n",
       "<table border=\"1\" class=\"dataframe\">\n",
       "  <thead>\n",
       "    <tr style=\"text-align: right;\">\n",
       "      <th></th>\n",
       "      <th>QuarSort</th>\n",
       "      <th>QuarCd</th>\n",
       "      <th>QuarLang</th>\n",
       "      <th>AlterVSort</th>\n",
       "      <th>AlterVCd</th>\n",
       "      <th>AlterVKurz</th>\n",
       "      <th>AlterV05Sort</th>\n",
       "      <th>AlterV05Kurz</th>\n",
       "      <th>HerkunftLang</th>\n",
       "      <th>HerkunftCd</th>\n",
       "      <th>HerkunftSort</th>\n",
       "      <th>SexCd</th>\n",
       "      <th>SexKurz</th>\n",
       "      <th>AnzBestWir</th>\n",
       "    </tr>\n",
       "    <tr>\n",
       "      <th>StichtagDatJahr</th>\n",
       "      <th></th>\n",
       "      <th></th>\n",
       "      <th></th>\n",
       "      <th></th>\n",
       "      <th></th>\n",
       "      <th></th>\n",
       "      <th></th>\n",
       "      <th></th>\n",
       "      <th></th>\n",
       "      <th></th>\n",
       "      <th></th>\n",
       "      <th></th>\n",
       "      <th></th>\n",
       "      <th></th>\n",
       "    </tr>\n",
       "  </thead>\n",
       "  <tbody>\n",
       "    <tr>\n",
       "      <th>1993-01-01</th>\n",
       "      <td>11</td>\n",
       "      <td>11</td>\n",
       "      <td>Rathaus</td>\n",
       "      <td>0</td>\n",
       "      <td>0</td>\n",
       "      <td>0</td>\n",
       "      <td>1</td>\n",
       "      <td>0-4</td>\n",
       "      <td>Schweizer/in</td>\n",
       "      <td>1</td>\n",
       "      <td>1</td>\n",
       "      <td>1</td>\n",
       "      <td>M</td>\n",
       "      <td>11</td>\n",
       "    </tr>\n",
       "    <tr>\n",
       "      <th>1993-01-01</th>\n",
       "      <td>11</td>\n",
       "      <td>11</td>\n",
       "      <td>Rathaus</td>\n",
       "      <td>0</td>\n",
       "      <td>0</td>\n",
       "      <td>0</td>\n",
       "      <td>1</td>\n",
       "      <td>0-4</td>\n",
       "      <td>Schweizer/in</td>\n",
       "      <td>1</td>\n",
       "      <td>1</td>\n",
       "      <td>2</td>\n",
       "      <td>W</td>\n",
       "      <td>8</td>\n",
       "    </tr>\n",
       "    <tr>\n",
       "      <th>1993-01-01</th>\n",
       "      <td>11</td>\n",
       "      <td>11</td>\n",
       "      <td>Rathaus</td>\n",
       "      <td>0</td>\n",
       "      <td>0</td>\n",
       "      <td>0</td>\n",
       "      <td>1</td>\n",
       "      <td>0-4</td>\n",
       "      <td>Ausländer/in</td>\n",
       "      <td>2</td>\n",
       "      <td>2</td>\n",
       "      <td>1</td>\n",
       "      <td>M</td>\n",
       "      <td>1</td>\n",
       "    </tr>\n",
       "    <tr>\n",
       "      <th>1993-01-01</th>\n",
       "      <td>11</td>\n",
       "      <td>11</td>\n",
       "      <td>Rathaus</td>\n",
       "      <td>0</td>\n",
       "      <td>0</td>\n",
       "      <td>0</td>\n",
       "      <td>1</td>\n",
       "      <td>0-4</td>\n",
       "      <td>Ausländer/in</td>\n",
       "      <td>2</td>\n",
       "      <td>2</td>\n",
       "      <td>2</td>\n",
       "      <td>W</td>\n",
       "      <td>6</td>\n",
       "    </tr>\n",
       "    <tr>\n",
       "      <th>1993-01-01</th>\n",
       "      <td>11</td>\n",
       "      <td>11</td>\n",
       "      <td>Rathaus</td>\n",
       "      <td>1</td>\n",
       "      <td>1</td>\n",
       "      <td>1</td>\n",
       "      <td>1</td>\n",
       "      <td>0-4</td>\n",
       "      <td>Schweizer/in</td>\n",
       "      <td>1</td>\n",
       "      <td>1</td>\n",
       "      <td>1</td>\n",
       "      <td>M</td>\n",
       "      <td>11</td>\n",
       "    </tr>\n",
       "  </tbody>\n",
       "</table>\n",
       "</div>"
      ],
      "text/plain": [
       "                 QuarSort  QuarCd QuarLang  AlterVSort  AlterVCd  AlterVKurz  AlterV05Sort  \\\n",
       "StichtagDatJahr                                                                              \n",
       "1993-01-01             11      11  Rathaus           0         0           0             1   \n",
       "1993-01-01             11      11  Rathaus           0         0           0             1   \n",
       "1993-01-01             11      11  Rathaus           0         0           0             1   \n",
       "1993-01-01             11      11  Rathaus           0         0           0             1   \n",
       "1993-01-01             11      11  Rathaus           1         1           1             1   \n",
       "\n",
       "                AlterV05Kurz  HerkunftLang  HerkunftCd  HerkunftSort  SexCd SexKurz  AnzBestWir  \n",
       "StichtagDatJahr                                                                                  \n",
       "1993-01-01               0-4  Schweizer/in           1             1      1       M          11  \n",
       "1993-01-01               0-4  Schweizer/in           1             1      2       W           8  \n",
       "1993-01-01               0-4  Ausländer/in           2             2      1       M           1  \n",
       "1993-01-01               0-4  Ausländer/in           2             2      2       W           6  \n",
       "1993-01-01               0-4  Schweizer/in           1             1      1       M          11  "
      ]
     },
     "execution_count": 109,
     "metadata": {},
     "output_type": "execute_result"
    }
   ],
   "source": [
    "#data2betested.dtypes\n",
    "data2betested.head()"
   ]
  },
  {
   "cell_type": "code",
   "execution_count": 123,
   "metadata": {},
   "outputs": [],
   "source": [
    "myAgg = data2betested.loc[\"2020\"]  \\\n",
    "    .copy() \\\n",
    "    .groupby(['QuarLang', 'QuarCd']) \\\n",
    "    .agg(sum_AnzBestWir=('AnzBestWir', 'sum')) \\\n",
    "    .assign() \\\n",
    "    .sort_values('QuarCd', ascending=False) \n",
    "\n",
    "#myAgg.reset_index()\n"
   ]
  },
  {
   "cell_type": "code",
   "execution_count": 124,
   "metadata": {},
   "outputs": [
    {
     "data": {
      "text/html": [
       "<div>\n",
       "<style scoped>\n",
       "    .dataframe tbody tr th:only-of-type {\n",
       "        vertical-align: middle;\n",
       "    }\n",
       "\n",
       "    .dataframe tbody tr th {\n",
       "        vertical-align: top;\n",
       "    }\n",
       "\n",
       "    .dataframe thead th {\n",
       "        text-align: right;\n",
       "    }\n",
       "</style>\n",
       "<table border=\"1\" class=\"dataframe\">\n",
       "  <thead>\n",
       "    <tr style=\"text-align: right;\">\n",
       "      <th></th>\n",
       "      <th>geometry</th>\n",
       "      <th>QuarCd</th>\n",
       "      <th>qname</th>\n",
       "      <th>knr</th>\n",
       "    </tr>\n",
       "  </thead>\n",
       "  <tbody>\n",
       "    <tr>\n",
       "      <th>0</th>\n",
       "      <td>POLYGON ((8.55670 47.36406, 8.55682 47.36410, ...</td>\n",
       "      <td>73</td>\n",
       "      <td>Hirslanden</td>\n",
       "      <td>7</td>\n",
       "    </tr>\n",
       "  </tbody>\n",
       "</table>\n",
       "</div>"
      ],
      "text/plain": [
       "                                            geometry  QuarCd       qname  knr\n",
       "0  POLYGON ((8.55670 47.36406, 8.55682 47.36410, ...      73  Hirslanden    7"
      ]
     },
     "execution_count": 124,
     "metadata": {},
     "output_type": "execute_result"
    }
   ],
   "source": [
    "# Rename attribute stznr to StatZoneSort, so the IDs have the same name\n",
    "gdf_adm_statistische_quartiere_map = df_adm_statistische_quartiere_map[['geometry', 'qnr', 'qname', 'knr']].rename(columns={'qnr': 'QuarCd'})\n",
    "gdf_adm_statistische_quartiere_map.head(1)"
   ]
  },
  {
   "cell_type": "markdown",
   "metadata": {},
   "source": [
    "#### Leftjoin \n",
    "Matche die statistischen Daten mit den Geodaten"
   ]
  },
  {
   "cell_type": "code",
   "execution_count": 131,
   "metadata": {},
   "outputs": [
    {
     "data": {
      "text/html": [
       "<div>\n",
       "<style scoped>\n",
       "    .dataframe tbody tr th:only-of-type {\n",
       "        vertical-align: middle;\n",
       "    }\n",
       "\n",
       "    .dataframe tbody tr th {\n",
       "        vertical-align: top;\n",
       "    }\n",
       "\n",
       "    .dataframe thead th {\n",
       "        text-align: right;\n",
       "    }\n",
       "</style>\n",
       "<table border=\"1\" class=\"dataframe\">\n",
       "  <thead>\n",
       "    <tr style=\"text-align: right;\">\n",
       "      <th></th>\n",
       "      <th>geometry</th>\n",
       "      <th>QuarCd</th>\n",
       "      <th>qname</th>\n",
       "      <th>knr</th>\n",
       "      <th>sum_AnzBestWir</th>\n",
       "    </tr>\n",
       "  </thead>\n",
       "  <tbody>\n",
       "    <tr>\n",
       "      <th>0</th>\n",
       "      <td>POLYGON ((8.55670 47.36406, 8.55682 47.36410, ...</td>\n",
       "      <td>73</td>\n",
       "      <td>Hirslanden</td>\n",
       "      <td>7</td>\n",
       "      <td>7396</td>\n",
       "    </tr>\n",
       "    <tr>\n",
       "      <th>1</th>\n",
       "      <td>POLYGON ((8.55670 47.36405, 8.55672 47.36403, ...</td>\n",
       "      <td>83</td>\n",
       "      <td>Weinegg</td>\n",
       "      <td>8</td>\n",
       "      <td>5562</td>\n",
       "    </tr>\n",
       "  </tbody>\n",
       "</table>\n",
       "</div>"
      ],
      "text/plain": [
       "                                            geometry  QuarCd       qname  knr  sum_AnzBestWir\n",
       "0  POLYGON ((8.55670 47.36406, 8.55682 47.36410, ...      73  Hirslanden    7            7396\n",
       "1  POLYGON ((8.55670 47.36405, 8.55672 47.36403, ...      83     Weinegg    8            5562"
      ]
     },
     "execution_count": 131,
     "metadata": {},
     "output_type": "execute_result"
    }
   ],
   "source": [
    "# Merge with `merge` method on shared variable (stznr und StatZoneSort):\n",
    "gdf_adm_statistische_quartiere_map_joined = gdf_adm_statistische_quartiere_map.merge(myAgg, on='QuarCd', how=\"left\") #'right', 'inner', 'left'\n",
    "gdf_adm_statistische_quartiere_map_joined.head(2)\n"
   ]
  },
  {
   "cell_type": "code",
   "execution_count": 133,
   "metadata": {},
   "outputs": [
    {
     "data": {
      "text/plain": [
       "geometry          0\n",
       "QuarCd            0\n",
       "qname             0\n",
       "knr               0\n",
       "sum_AnzBestWir    0\n",
       "dtype: int64"
      ]
     },
     "execution_count": 133,
     "metadata": {},
     "output_type": "execute_result"
    }
   ],
   "source": [
    "#does all match?\n",
    "gdf_adm_statistische_quartiere_map_joined.isnull().sum()"
   ]
  },
  {
   "cell_type": "code",
   "execution_count": 137,
   "metadata": {},
   "outputs": [
    {
     "data": {
      "text/plain": [
       "<AxesSubplot:>"
      ]
     },
     "execution_count": 137,
     "metadata": {},
     "output_type": "execute_result"
    },
    {
     "data": {
      "image/png": "[encoded data removed]",
      "text/plain": [
       "<Figure size 432x288 with 1 Axes>"
      ]
     },
     "metadata": {
      "needs_background": "light"
     },
     "output_type": "display_data"
    },
    {
     "data": {
      "image/png": "[encoded data removed]",
      "text/plain": [
       "<Figure size 432x288 with 1 Axes>"
      ]
     },
     "metadata": {
      "needs_background": "light"
     },
     "output_type": "display_data"
    }
   ],
   "source": [
    "# Plot by StatQuartiere\n",
    "# Weitere Schemes: scheme='quantiles', scheme='fisherjenks', scheme='natural_breaks',\n",
    "\n",
    "gdf_adm_statistische_quartiere_map_joined.plot(column='sum_AnzBestWir', cmap='viridis', scheme='natural_breaks', legend=True )\n",
    "gdf_adm_statistische_quartiere_map_joined.plot(column='sum_AnzBestWir', cmap='viridis', scheme='fisherjenks', legend=True )\n",
    "\n",
    "#scheme werte: https://matplotlib.org/2.0.2/users/colormaps.html\n",
    "\n",
    "#\n",
    "#Neuere Gallerie: https://matplotlib.org/stable/gallery/index.html"
   ]
  },
  {
   "cell_type": "code",
   "execution_count": 141,
   "metadata": {},
   "outputs": [
    {
     "data": {
      "text/plain": [
       "<AxesSubplot:>"
      ]
     },
     "execution_count": 141,
     "metadata": {},
     "output_type": "execute_result"
    },
    {
     "data": {
      "image/png": "[encoded data removed]",
      "text/plain": [
       "<Figure size 432x288 with 2 Axes>"
      ]
     },
     "metadata": {
      "needs_background": "light"
     },
     "output_type": "display_data"
    }
   ],
   "source": [
    "fig, ax = plt.subplots(1, 1)\n",
    "\n",
    "gdf_adm_statistische_quartiere_map_joined.plot(column='sum_AnzBestWir', ax=ax, legend=True, legend_kwds={'label': \"Anzahl WBev 2020\",'orientation': \"horizontal\"})\n",
    "#gdf_adm_statistische_quartiere_map_joined.plot(column='sum_AnzBestWir', ax=ax, legend=False, legend_kwds={'label': \"Anzahl WBev 2020\",'orientation': \"horizontal\"})\n",
    "\n",
    "#gdf_adm_statistische_quartiere_map_joined.plot(column='sum_Whg_abgebrochen', cmap='viridis', scheme='natural_breaks', legend=True , ax=ax, legend_kwds={'label': \"Anzahl Personen\",'orientation': \"horizontal\"})"
   ]
  },
  {
   "cell_type": "markdown",
   "metadata": {},
   "source": [
    "Noch zu prüfen, folgendes schöne Beispiel: https://docs.bokeh.org/en/latest/docs/user_guide/interaction/legends.html\n",
    "\n",
    "Konkrete Beispiele von Bookeh in Jupyter NB: https://docs.bokeh.org/en/latest/docs/user_guide/jupyter.html"
   ]
  },
  {
   "cell_type": "markdown",
   "metadata": {},
   "source": [
    "Noch zu prüfen, folgendes schöne Beispiel: https://docs.bokeh.org/en/latest/docs/user_guide/interaction/legends.html\n",
    "\n",
    "Konkrete Beispiele von Bookeh in Jupyter NB: https://docs.bokeh.org/en/latest/docs/user_guide/jupyter.html"
   ]
  },
  {
   "cell_type": "markdown",
   "metadata": {},
   "source": [
    "**Sharepoint als gecheckt markieren!**"
   ]
  },
  {
   "cell_type": "markdown",
   "metadata": {},
   "source": [
    "Record auf Sharepoint: **[Link](https://kollaboration.intranet.stzh.ch/orga/ssz-produkte/Lists/SASA_Outputs/DispForm.aspx?ID=115&ContentTypeId=0x0100988EAF029F1EFE4CA675F53C32A5D53D01006DBC563E6FBE9E4EB6FDC780799752E1)**"
   ]
  },
  {
   "cell_type": "code",
   "execution_count": null,
   "metadata": {},
   "outputs": [],
   "source": []
  },
  {
   "cell_type": "raw",
   "metadata": {},
   "source": []
  },
  {
   "cell_type": "code",
   "execution_count": null,
   "metadata": {},
   "outputs": [],
   "source": []
  }
 ],
 "metadata": {
  "kernelspec": {
   "display_name": "Python 3 (ipykernel)",
   "language": "python",
   "name": "python3"
  },
  "language_info": {
   "codemirror_mode": {
    "name": "ipython",
    "version": 3
   },
   "file_extension": ".py",
   "mimetype": "text/x-python",
   "name": "python",
   "nbconvert_exporter": "python",
   "pygments_lexer": "ipython3",
   "version": "3.7.11"
  }
 },
 "nbformat": 4,
 "nbformat_minor": 4
}
