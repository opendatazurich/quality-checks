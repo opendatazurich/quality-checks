{
 "cells": [
  {
   "cell_type": "markdown",
   "metadata": {},
   "source": [
    "# Testing\n",
    "### Bevölkerung nach Bildungsstand, Jahr und Aufenthaltsart seit 2010\n",
    "Diese Daten beschreiben die ständige Wohnbevölkerung der Stadt Zürich und basieren auf der Strukturerhebung des Bundesamts für Statistik.\n",
    "\n",
    "Es sind bloss 15-jährige und ältere Personen enthalten. Weitere Informationen finden Sie unter Bemerkung.\n",
    "\n",
    "Datum: 15.03.2022\n"
   ]
  },
  {
   "cell_type": "markdown",
   "metadata": {},
   "source": [
    "### Importiere die notwendigen Packages"
   ]
  },
  {
   "cell_type": "code",
   "execution_count": 192,
   "metadata": {},
   "outputs": [],
   "source": [
    "#%pip install geopandas altair fiona requests folium mplleaflet contextily seaborn datetime plotly leafmap"
   ]
  },
  {
   "cell_type": "code",
   "execution_count": 193,
   "metadata": {},
   "outputs": [],
   "source": [
    "import pandas as pd\n",
    "import pivottablejs\n",
    "from pivottablejs import pivot_ui\n",
    "import numpy as np\n",
    "import altair as alt\n",
    "import matplotlib.pyplot as plt\n",
    "\n",
    "import datetime\n",
    "import geopandas as gpd\n",
    "import folium \n",
    "import plotly.express as px\n",
    "import seaborn as sns\n",
    "import leafmap\n",
    "\n",
    "import requests\n",
    "import io\n"
   ]
  },
  {
   "cell_type": "code",
   "execution_count": 194,
   "metadata": {},
   "outputs": [],
   "source": [
    "SSL_VERIFY = False\n",
    "# evtl. SSL_VERIFY auf False setzen wenn die Verbindung zu https://www.gemeinderat-zuerich.ch nicht klappt (z.B. wegen Proxy)\n",
    "# Um die SSL Verifikation auszustellen, bitte die nächste Zeile einkommentieren (\"#\" entfernen)\n",
    "# SSL_VERIFY = False"
   ]
  },
  {
   "cell_type": "code",
   "execution_count": 195,
   "metadata": {},
   "outputs": [],
   "source": [
    "if not SSL_VERIFY:\n",
    "    import urllib3\n",
    "    urllib3.disable_warnings()"
   ]
  },
  {
   "cell_type": "markdown",
   "metadata": {},
   "source": [
    "Definiere Settings. Hier das Zahlenformat von Float-Werten (z.B. *'{:,.2f}'.format* mit Komma als Tausenderzeichen), "
   ]
  },
  {
   "cell_type": "code",
   "execution_count": 196,
   "metadata": {},
   "outputs": [],
   "source": [
    "#pd.options.display.float_format = lambda x : '{:,.1f}'.format(x) if (np.isnan(x) | np.isinf(x)) else '{:,.0f}'.format(x) if int(x) == x else '{:,.1f}'.format(x)\n",
    "pd.options.display.float_format = '{:.0f}'.format\n",
    "pd.set_option('display.width', 100)\n",
    "pd.set_option('display.max_columns', 15)"
   ]
  },
  {
   "cell_type": "markdown",
   "metadata": {},
   "source": [
    "### Zeitvariabeln\n",
    "Bestimme den aktuellst geladenen Monat. Hier ist es der Stand vor 2 Monaten. \n",
    "Bestimme noch weitere evt. sinnvolle Zeitvariabeln.\n",
    "\n",
    "Zum Unterschied zwischen import datetime und from datedtime import datetime, siehe https://stackoverflow.com/questions/15707532/import-datetime-v-s-from-datetime-import-datetime\n",
    "\n",
    "Zuerst die Zeitvariabeln als Strings"
   ]
  },
  {
   "cell_type": "code",
   "execution_count": 197,
   "metadata": {},
   "outputs": [],
   "source": [
    "#today_date = datetime.date.today()\n",
    "#date_time = datetime.datetime.strptime(date_time_string, '%Y-%m-%d %H:%M')\n",
    "now = datetime.date.today()\n",
    "date_today = now.strftime(\"%Y-%m-%d\")\n",
    "year_today = now.strftime(\"%Y\")\n",
    "month_today = now.strftime(\"%m\")\n",
    "day_today = now.strftime(\"%d\")\n"
   ]
  },
  {
   "cell_type": "markdown",
   "metadata": {},
   "source": [
    "Und hier noch die Zeitvariabeln als Integers:\n",
    "- `aktuellesJahr`\n",
    "- `aktuellerMonat`: Der gerade jetzt aktuelle Monat\n",
    "- `selectedMonat`: Der aktuellste Monat in den Daten. In der Regel zwei Monate her."
   ]
  },
  {
   "cell_type": "code",
   "execution_count": 198,
   "metadata": {},
   "outputs": [
    {
     "name": "stdout",
     "output_type": "stream",
     "text": [
      "2022 3 datenstand:  1 time.struct_time(tm_year=2022, tm_mon=3, tm_mday=15, tm_hour=0, tm_min=0, tm_sec=0, tm_wday=1, tm_yday=74, tm_isdst=-1)\n"
     ]
    }
   ],
   "source": [
    "#now = datetime.now() \n",
    "int_times = now.timetuple()\n",
    "\n",
    "aktuellesJahr = int_times[0]\n",
    "aktuellerMonat = int_times[1]\n",
    "selectedMonat = int_times[1]-2\n",
    "\n",
    "print(aktuellesJahr, \n",
    "      aktuellerMonat,\n",
    "    'datenstand: ', selectedMonat,\n",
    "     int_times)\n"
   ]
  },
  {
   "cell_type": "markdown",
   "metadata": {},
   "source": [
    "Berechne die Variable Epoche um später das SAS-Datum in ein Unix-Datum umzuwandeln. Bei SAS beginnt die Epoche am 1.1.1960. Bei Unix am 1.1.1970.\n",
    "Diese Variable wird beim CSV-Import benötigt."
   ]
  },
  {
   "cell_type": "code",
   "execution_count": 199,
   "metadata": {},
   "outputs": [],
   "source": [
    "epoch = datetime.datetime(1960, 1, 1)"
   ]
  },
  {
   "cell_type": "markdown",
   "metadata": {},
   "source": [
    "### Setze einige Pfadvariabeln"
   ]
  },
  {
   "cell_type": "markdown",
   "metadata": {
    "tags": []
   },
   "source": [
    "- Der Packagename ist eigentlich der **Verzeichnisname** unter dem die Daten und Metadaten auf der Dropzone abgelegt werden.\n",
    "- Definiert wird er bei SASA-Prozessen auf dem **Produkte-Sharepoint ([Link](https://kollaboration.intranet.stzh.ch/orga/ssz-produkte/Lists/SASA_Outputs/PersonalViews.aspx?PageView=Personal&ShowWebPart={6087A3E7-8AC8-40BA-8278-DECFACE124FF}))**.\n",
    "- Der Packagename wird auf CKAN teil der URL, daher ist die exakte Schreibweise wichtig.\n",
    "\n",
    "Beachte: im Packagename müssen alle Buchstaben **klein** geschrieben werden. Dies weil CKAN aus grossen kleine Buchstaben macht."
   ]
  },
  {
   "cell_type": "markdown",
   "metadata": {},
   "source": [
    "**BITTE HIER ANPASSEN**"
   ]
  },
  {
   "cell_type": "code",
   "execution_count": 200,
   "metadata": {},
   "outputs": [],
   "source": [
    "package_name = \"bfs_bev_bildungsstand_jahr_aufenthaltsart_od1007\""
   ]
  },
  {
   "cell_type": "code",
   "execution_count": 201,
   "metadata": {
    "tags": []
   },
   "outputs": [],
   "source": [
    "dataset_name = \"BIL100OD1007.csv\""
   ]
  },
  {
   "cell_type": "markdown",
   "metadata": {},
   "source": [
    "**Statische Pfade in DWH-Dropzones**"
   ]
  },
  {
   "cell_type": "code",
   "execution_count": 202,
   "metadata": {},
   "outputs": [],
   "source": [
    "dropzone_path_integ = r\"\\\\szh\\ssz\\applikationen\\OGD_Dropzone\\INT_DWH\""
   ]
  },
  {
   "cell_type": "code",
   "execution_count": 203,
   "metadata": {
    "tags": []
   },
   "outputs": [],
   "source": [
    "dropzone_path_prod = r\"\\\\szh\\ssz\\applikationen\\OGD_Dropzone\\DWH\""
   ]
  },
  {
   "cell_type": "markdown",
   "metadata": {},
   "source": [
    "**Statische Pfade CKAN-URLs**"
   ]
  },
  {
   "cell_type": "code",
   "execution_count": 204,
   "metadata": {
    "tags": []
   },
   "outputs": [],
   "source": [
    "ckan_integ_url =\"https://data.integ.stadt-zuerich.ch/dataset/int_dwh_\""
   ]
  },
  {
   "cell_type": "code",
   "execution_count": 205,
   "metadata": {},
   "outputs": [],
   "source": [
    "ckan_prod_url =\"https://data.stadt-zuerich.ch/dataset/\""
   ]
  },
  {
   "cell_type": "markdown",
   "metadata": {},
   "source": [
    "### Checke die Metadaten auf der CKAN INTEG- oder PROD-Webseite\n",
    "\n",
    "Offenbar lassen sich aktuell im Markdownteil keine Variabeln ausführen, daher gehen wir wie unten gezeigt vor. Siehe dazu: https://data-dive.com/jupyterlab-markdown-cells-include-variables\n",
    "Instead of setting the cell to Markdown, create Markdown from withnin a code cell! We can just use python variable replacement syntax to make the text dynamic"
   ]
  },
  {
   "cell_type": "code",
   "execution_count": 206,
   "metadata": {},
   "outputs": [],
   "source": [
    "from IPython.display import Markdown as md"
   ]
  },
  {
   "cell_type": "code",
   "execution_count": 207,
   "metadata": {},
   "outputs": [
    {
     "data": {
      "text/markdown": [
       " **1. Dataset auf INTEG-Datakatalog:** Link https://data.integ.stadt-zuerich.ch/dataset/int_dwh_bfs_bev_bildungsstand_jahr_aufenthaltsart_od1007 "
      ],
      "text/plain": [
       "<IPython.core.display.Markdown object>"
      ]
     },
     "execution_count": 207,
     "metadata": {},
     "output_type": "execute_result"
    }
   ],
   "source": [
    "md(\" **1. Dataset auf INTEG-Datakatalog:** Link {} \".format(ckan_integ_url+package_name))"
   ]
  },
  {
   "cell_type": "code",
   "execution_count": 208,
   "metadata": {
    "tags": []
   },
   "outputs": [
    {
     "data": {
      "text/markdown": [
       " **2. Dataset auf PROD-Datakatalog:** Link https://data.stadt-zuerich.ch/dataset/bfs_bev_bildungsstand_jahr_aufenthaltsart_od1007 "
      ],
      "text/plain": [
       "<IPython.core.display.Markdown object>"
      ]
     },
     "execution_count": 208,
     "metadata": {},
     "output_type": "execute_result"
    }
   ],
   "source": [
    "md(\" **2. Dataset auf PROD-Datakatalog:** Link {} \".format(ckan_prod_url+package_name))"
   ]
  },
  {
   "cell_type": "markdown",
   "metadata": {
    "tags": []
   },
   "source": [
    "### Importiere einen Datensatz \n",
    "\n",
    "Definiere zuerst folgende Werte:\n",
    "1) Kommt der Datensatz von PROD oder INTEG?\n",
    "2) Beziehst Du den Datensatz direkt ab der DROPZONE oder aus dem INTERNET?"
   ]
  },
  {
   "cell_type": "code",
   "execution_count": 209,
   "metadata": {},
   "outputs": [
    {
     "name": "stdout",
     "output_type": "stream",
     "text": [
      "integ - web\n"
     ]
    }
   ],
   "source": [
    "#Die Datasets sind nur zum Testen auf INT-DWH-Dropzone. Wenn der Test vorbei ist, sind sie auf PROD. \n",
    "# Über den Status kann man einfach switchen\n",
    "\n",
    "status = \"integ\"; #prod vs something else\n",
    "data_source = \"web\"; #dropzone vs something else\n",
    "print(status+\" - \"+ data_source)"
   ]
  },
  {
   "cell_type": "code",
   "execution_count": 210,
   "metadata": {
    "tags": []
   },
   "outputs": [
    {
     "name": "stdout",
     "output_type": "stream",
     "text": [
      "fp lautet:https://data.integ.stadt-zuerich.ch/dataset/int_dwh_bfs_bev_bildungsstand_jahr_aufenthaltsart_od1007/download/BIL100OD1007.csv\n"
     ]
    }
   ],
   "source": [
    "# Filepath\n",
    "if status == \"prod\":\n",
    "    if data_source == \"dropzone\":\n",
    "            fp = dropzone_path_prod+\"\\\\\"+ package_name +\"\\\\\"+dataset_name\n",
    "            print(\"fp lautet:\"+fp)\n",
    "    else:\n",
    "        #fp = r\"https://data.stadt-zuerich.ch/dataset/bau_neubau_whg_bausm_rinh_geb_projstatus_quartier_seit2009_od5011/download/BAU501OD5011.csv\"\n",
    "        fp = ckan_prod_url+package_name+'/download/'+dataset_name\n",
    "        print(\"fp lautet:\"+fp)\n",
    "else:\n",
    "    if data_source == \"dropzone\":\n",
    "        fp = dropzone_path_integ+\"\\\\\"+ package_name +\"\\\\\"+dataset_name\n",
    "        print(\"fp lautet:\"+fp)\n",
    "    else:\n",
    "        #fp = r\"https://data.stadt-zuerich.ch/dataset/bau_neubau_whg_bausm_rinh_geb_projstatus_quartier_seit2009_od5011/download/BAU501OD5011.csv\"\n",
    "        fp = ckan_integ_url+package_name+'/download/'+dataset_name\n",
    "        print(\"fp lautet:\"+fp)\n"
   ]
  },
  {
   "cell_type": "markdown",
   "metadata": {},
   "source": [
    "Beachte, wie das SAS Datum (ohne Format) in ein UNIX Datum umgerechnet und als Datumsformat dargestellt wird! Siehe dazu `https://stackoverflow.com/questions/26923564/convert-sas-numeric-to-python-datetime`"
   ]
  },
  {
   "cell_type": "code",
   "execution_count": 211,
   "metadata": {},
   "outputs": [
    {
     "name": "stdout",
     "output_type": "stream",
     "text": [
      "web\n"
     ]
    },
    {
     "data": {
      "text/plain": [
       "Jahr             datetime64[ns]\n",
       "AufartLang               object\n",
       "Bildungsstand            object\n",
       "AntBev                  float64\n",
       "untAntBevKI             float64\n",
       "obAntBevKI              float64\n",
       "dtype: object"
      ]
     },
     "execution_count": 211,
     "metadata": {},
     "output_type": "execute_result"
    }
   ],
   "source": [
    "# Read the data\n",
    "if data_source == \"dropzone\":\n",
    "    data2betested = pd.read_csv(\n",
    "        fp\n",
    "        , sep=','\n",
    "        ,parse_dates=['Jahr']\n",
    "        ,low_memory=False\n",
    "    )\n",
    "    print(\"dropzone\")\n",
    "else:\n",
    "    r = requests.get(fp, verify=False)  \n",
    "    r.encoding = 'utf-8'\n",
    "    data2betested = pd.read_csv(\n",
    "        io.StringIO(r.text)\n",
    "        ,parse_dates=['Jahr']\n",
    "        # KONVERTIERE DAS SAS DATUM IN EIN UNIXDATUM UND FORMATIERE ES\n",
    "        #, date_parser=lambda s: epoch + datetime.timedelta(days=int(s))\n",
    "        ,low_memory=False)\n",
    "    print(\"web\")\n",
    "\n",
    "data2betested.dtypes"
   ]
  },
  {
   "cell_type": "markdown",
   "metadata": {},
   "source": [
    "Berechne weitere Attribute falls notwendig"
   ]
  },
  {
   "cell_type": "code",
   "execution_count": 212,
   "metadata": {},
   "outputs": [
    {
     "data": {
      "text/plain": [
       "Jahr             datetime64[ns]\n",
       "AufartLang               object\n",
       "Bildungsstand            object\n",
       "AntBev                  float64\n",
       "untAntBevKI             float64\n",
       "obAntBevKI              float64\n",
       "Jahr_str                 object\n",
       "dtype: object"
      ]
     },
     "execution_count": 212,
     "metadata": {},
     "output_type": "execute_result"
    }
   ],
   "source": [
    "data2betested = (\n",
    "    data2betested\n",
    "    .copy()\n",
    "    .assign(\n",
    "        #Aktualisierungs_Datum_str= lambda x: x.Aktualisierungs_Datum.astype(str),\n",
    "        Jahr_str = lambda x: x.Jahr.astype(str),\n",
    "    )\n",
    "    .sort_values('Jahr', ascending=False)\n",
    "    )\n",
    "data2betested.dtypes"
   ]
  },
  {
   "cell_type": "markdown",
   "metadata": {},
   "source": [
    "### Einfache Datentests"
   ]
  },
  {
   "cell_type": "markdown",
   "metadata": {},
   "source": [
    " - 1) Zeige eine kurze Vorschau der importierten Daten\n",
    " - 2) Weise die Datentypen aus\n",
    " - 3) Zeige die Shape (Umfang) des Datensatzes an"
   ]
  },
  {
   "cell_type": "code",
   "execution_count": 213,
   "metadata": {},
   "outputs": [],
   "source": [
    "#data2betested.head(6)"
   ]
  },
  {
   "cell_type": "code",
   "execution_count": 214,
   "metadata": {},
   "outputs": [
    {
     "data": {
      "text/plain": [
       "Jahr             datetime64[ns]\n",
       "AufartLang               object\n",
       "Bildungsstand            object\n",
       "AntBev                  float64\n",
       "untAntBevKI             float64\n",
       "obAntBevKI              float64\n",
       "Jahr_str                 object\n",
       "dtype: object"
      ]
     },
     "execution_count": 214,
     "metadata": {},
     "output_type": "execute_result"
    }
   ],
   "source": [
    "data2betested.dtypes"
   ]
  },
  {
   "cell_type": "code",
   "execution_count": 215,
   "metadata": {},
   "outputs": [
    {
     "data": {
      "text/plain": [
       "(165, 7)"
      ]
     },
     "execution_count": 215,
     "metadata": {},
     "output_type": "execute_result"
    }
   ],
   "source": [
    "data2betested.shape"
   ]
  },
  {
   "cell_type": "markdown",
   "metadata": {},
   "source": [
    "Beschreibe einzelne Attribute"
   ]
  },
  {
   "cell_type": "code",
   "execution_count": 216,
   "metadata": {},
   "outputs": [
    {
     "data": {
      "text/html": [
       "<div>\n",
       "<style scoped>\n",
       "    .dataframe tbody tr th:only-of-type {\n",
       "        vertical-align: middle;\n",
       "    }\n",
       "\n",
       "    .dataframe tbody tr th {\n",
       "        vertical-align: top;\n",
       "    }\n",
       "\n",
       "    .dataframe thead th {\n",
       "        text-align: right;\n",
       "    }\n",
       "</style>\n",
       "<table border=\"1\" class=\"dataframe\">\n",
       "  <thead>\n",
       "    <tr style=\"text-align: right;\">\n",
       "      <th></th>\n",
       "      <th>AntBev</th>\n",
       "      <th>untAntBevKI</th>\n",
       "      <th>obAntBevKI</th>\n",
       "    </tr>\n",
       "  </thead>\n",
       "  <tbody>\n",
       "    <tr>\n",
       "      <th>count</th>\n",
       "      <td>165</td>\n",
       "      <td>165</td>\n",
       "      <td>165</td>\n",
       "    </tr>\n",
       "    <tr>\n",
       "      <th>mean</th>\n",
       "      <td>33</td>\n",
       "      <td>30</td>\n",
       "      <td>37</td>\n",
       "    </tr>\n",
       "    <tr>\n",
       "      <th>std</th>\n",
       "      <td>16</td>\n",
       "      <td>16</td>\n",
       "      <td>17</td>\n",
       "    </tr>\n",
       "    <tr>\n",
       "      <th>min</th>\n",
       "      <td>7</td>\n",
       "      <td>0</td>\n",
       "      <td>13</td>\n",
       "    </tr>\n",
       "    <tr>\n",
       "      <th>25%</th>\n",
       "      <td>18</td>\n",
       "      <td>16</td>\n",
       "      <td>20</td>\n",
       "    </tr>\n",
       "    <tr>\n",
       "      <th>50%</th>\n",
       "      <td>33</td>\n",
       "      <td>29</td>\n",
       "      <td>36</td>\n",
       "    </tr>\n",
       "    <tr>\n",
       "      <th>75%</th>\n",
       "      <td>44</td>\n",
       "      <td>42</td>\n",
       "      <td>46</td>\n",
       "    </tr>\n",
       "    <tr>\n",
       "      <th>max</th>\n",
       "      <td>74</td>\n",
       "      <td>70</td>\n",
       "      <td>83</td>\n",
       "    </tr>\n",
       "  </tbody>\n",
       "</table>\n",
       "</div>"
      ],
      "text/plain": [
       "       AntBev  untAntBevKI  obAntBevKI\n",
       "count     165          165         165\n",
       "mean       33           30          37\n",
       "std        16           16          17\n",
       "min         7            0          13\n",
       "25%        18           16          20\n",
       "50%        33           29          36\n",
       "75%        44           42          46\n",
       "max        74           70          83"
      ]
     },
     "execution_count": 216,
     "metadata": {},
     "output_type": "execute_result"
    }
   ],
   "source": [
    "data2betested.describe()"
   ]
  },
  {
   "cell_type": "markdown",
   "metadata": {},
   "source": [
    "Wie viele Nullwerte gibt es im Datensatz?"
   ]
  },
  {
   "cell_type": "code",
   "execution_count": 217,
   "metadata": {
    "scrolled": true
   },
   "outputs": [
    {
     "data": {
      "text/plain": [
       "Jahr             0\n",
       "AufartLang       0\n",
       "Bildungsstand    0\n",
       "AntBev           0\n",
       "untAntBevKI      0\n",
       "obAntBevKI       0\n",
       "Jahr_str         0\n",
       "dtype: int64"
      ]
     },
     "execution_count": 217,
     "metadata": {},
     "output_type": "execute_result"
    }
   ],
   "source": [
    "data2betested.isnull().sum()"
   ]
  },
  {
   "cell_type": "markdown",
   "metadata": {},
   "source": [
    "Welches sind die Quartiere ohne Werte bei AnzBestWir?"
   ]
  },
  {
   "cell_type": "code",
   "execution_count": 218,
   "metadata": {},
   "outputs": [
    {
     "data": {
      "text/html": [
       "<div>\n",
       "<style scoped>\n",
       "    .dataframe tbody tr th:only-of-type {\n",
       "        vertical-align: middle;\n",
       "    }\n",
       "\n",
       "    .dataframe tbody tr th {\n",
       "        vertical-align: top;\n",
       "    }\n",
       "\n",
       "    .dataframe thead th {\n",
       "        text-align: right;\n",
       "    }\n",
       "</style>\n",
       "<table border=\"1\" class=\"dataframe\">\n",
       "  <thead>\n",
       "    <tr style=\"text-align: right;\">\n",
       "      <th></th>\n",
       "      <th>Jahr</th>\n",
       "      <th>AufartLang</th>\n",
       "      <th>Bildungsstand</th>\n",
       "      <th>AntBev</th>\n",
       "      <th>untAntBevKI</th>\n",
       "      <th>obAntBevKI</th>\n",
       "      <th>Jahr_str</th>\n",
       "    </tr>\n",
       "  </thead>\n",
       "  <tbody>\n",
       "  </tbody>\n",
       "</table>\n",
       "</div>"
      ],
      "text/plain": [
       "Empty DataFrame\n",
       "Columns: [Jahr, AufartLang, Bildungsstand, AntBev, untAntBevKI, obAntBevKI, Jahr_str]\n",
       "Index: []"
      ]
     },
     "execution_count": 218,
     "metadata": {},
     "output_type": "execute_result"
    }
   ],
   "source": [
    "data2betested[np.isnan(data2betested.AntBev)]"
   ]
  },
  {
   "cell_type": "markdown",
   "metadata": {
    "colab_type": "text",
    "id": "1dTPVmmsgOVx"
   },
   "source": [
    "### Verwende das Datum als Index\n",
    "\n",
    "While we did already parse the `datetime` column into the respective datetime type, it currently is just a regular column. \n",
    "**To enable quick and convenient queries and aggregations, we need to turn it into the index of the DataFrame**"
   ]
  },
  {
   "cell_type": "code",
   "execution_count": 219,
   "metadata": {},
   "outputs": [],
   "source": [
    "data2betested = data2betested.set_index(\"Jahr\")"
   ]
  },
  {
   "cell_type": "code",
   "execution_count": 220,
   "metadata": {},
   "outputs": [
    {
     "name": "stdout",
     "output_type": "stream",
     "text": [
      "<class 'pandas.core.frame.DataFrame'>\n",
      "DatetimeIndex: 165 entries, 2020-01-01 to 2010-01-01\n",
      "Data columns (total 6 columns):\n",
      " #   Column         Non-Null Count  Dtype  \n",
      "---  ------         --------------  -----  \n",
      " 0   AufartLang     165 non-null    object \n",
      " 1   Bildungsstand  165 non-null    object \n",
      " 2   AntBev         165 non-null    float64\n",
      " 3   untAntBevKI    165 non-null    float64\n",
      " 4   obAntBevKI     165 non-null    float64\n",
      " 5   Jahr_str       165 non-null    object \n",
      "dtypes: float64(3), object(3)\n",
      "memory usage: 9.0+ KB\n"
     ]
    },
    {
     "data": {
      "text/plain": [
       "Int64Index([2020, 2019, 2018, 2017, 2016, 2015, 2014, 2013, 2012, 2011, 2010], dtype='int64', name='Jahr')"
      ]
     },
     "execution_count": 220,
     "metadata": {},
     "output_type": "execute_result"
    }
   ],
   "source": [
    "data2betested.info()\n",
    "data2betested.index.year.unique()"
   ]
  },
  {
   "cell_type": "markdown",
   "metadata": {
    "tags": []
   },
   "source": [
    "### Einfache Visualisierungen zur Plausi"
   ]
  },
  {
   "cell_type": "markdown",
   "metadata": {},
   "source": [
    "Exploriere die Daten mit Pivottable.JS"
   ]
  },
  {
   "cell_type": "code",
   "execution_count": 221,
   "metadata": {},
   "outputs": [
    {
     "data": {
      "text/html": [
       "\n",
       "        <iframe\n",
       "            width=\"100%\"\n",
       "            height=\"500\"\n",
       "            src=\"pivottablejs.html\"\n",
       "            frameborder=\"0\"\n",
       "            allowfullscreen\n",
       "            \n",
       "        ></iframe>\n",
       "        "
      ],
      "text/plain": [
       "<IPython.lib.display.IFrame at 0x2a122c7ce88>"
      ]
     },
     "execution_count": 221,
     "metadata": {},
     "output_type": "execute_result"
    }
   ],
   "source": [
    "from pivottablejs import pivot_ui\n",
    "\n",
    "pivot_ui(data2betested)"
   ]
  },
  {
   "cell_type": "markdown",
   "metadata": {},
   "source": [
    "### Zeitpunkte und Zeiträume abfragen\n",
    "\n",
    "A particular powerful feature of the Pandas DataFrame is its indexing capability that also works using time-based entities, such as dates and times. We have already created the index above, so let's put it to use."
   ]
  },
  {
   "cell_type": "code",
   "execution_count": 222,
   "metadata": {},
   "outputs": [
    {
     "data": {
      "text/html": [
       "<div>\n",
       "<style scoped>\n",
       "    .dataframe tbody tr th:only-of-type {\n",
       "        vertical-align: middle;\n",
       "    }\n",
       "\n",
       "    .dataframe tbody tr th {\n",
       "        vertical-align: top;\n",
       "    }\n",
       "\n",
       "    .dataframe thead th {\n",
       "        text-align: right;\n",
       "    }\n",
       "</style>\n",
       "<table border=\"1\" class=\"dataframe\">\n",
       "  <thead>\n",
       "    <tr style=\"text-align: right;\">\n",
       "      <th></th>\n",
       "      <th>AufartLang</th>\n",
       "      <th>Bildungsstand</th>\n",
       "      <th>AntBev</th>\n",
       "      <th>untAntBevKI</th>\n",
       "      <th>obAntBevKI</th>\n",
       "      <th>Jahr_str</th>\n",
       "    </tr>\n",
       "    <tr>\n",
       "      <th>Jahr</th>\n",
       "      <th></th>\n",
       "      <th></th>\n",
       "      <th></th>\n",
       "      <th></th>\n",
       "      <th></th>\n",
       "      <th></th>\n",
       "    </tr>\n",
       "  </thead>\n",
       "  <tbody>\n",
       "    <tr>\n",
       "      <th>2020-01-01</th>\n",
       "      <td>Andere</td>\n",
       "      <td>Tertiärstufe</td>\n",
       "      <td>33</td>\n",
       "      <td>22</td>\n",
       "      <td>44</td>\n",
       "      <td>2020-01-01</td>\n",
       "    </tr>\n",
       "    <tr>\n",
       "      <th>2020-01-01</th>\n",
       "      <td>Niedergelassene (C)</td>\n",
       "      <td>Sekundarstufe II</td>\n",
       "      <td>21</td>\n",
       "      <td>19</td>\n",
       "      <td>23</td>\n",
       "      <td>2020-01-01</td>\n",
       "    </tr>\n",
       "  </tbody>\n",
       "</table>\n",
       "</div>"
      ],
      "text/plain": [
       "                     AufartLang     Bildungsstand  AntBev  untAntBevKI  obAntBevKI    Jahr_str\n",
       "Jahr                                                                                          \n",
       "2020-01-01               Andere      Tertiärstufe      33           22          44  2020-01-01\n",
       "2020-01-01  Niedergelassene (C)  Sekundarstufe II      21           19          23  2020-01-01"
      ]
     },
     "execution_count": 222,
     "metadata": {},
     "output_type": "execute_result"
    }
   ],
   "source": [
    "data2betested.loc[\"2020\"].head(2)\n",
    "#data2betested.loc[\"2021-10-31\":\"2021-11-30\"].head(2)"
   ]
  },
  {
   "cell_type": "markdown",
   "metadata": {},
   "source": [
    "### Visualisierungen nach Zeitausschnitten"
   ]
  },
  {
   "cell_type": "markdown",
   "metadata": {
    "tags": []
   },
   "source": [
    "#### Entwicklung Bildungsstand"
   ]
  },
  {
   "cell_type": "code",
   "execution_count": 223,
   "metadata": {},
   "outputs": [
    {
     "data": {
      "text/plain": [
       "Index(['AufartLang', 'Bildungsstand', 'AntBev', 'untAntBevKI', 'obAntBevKI', 'Jahr_str'], dtype='object')"
      ]
     },
     "execution_count": 223,
     "metadata": {},
     "output_type": "execute_result"
    }
   ],
   "source": [
    "data2betested.columns"
   ]
  },
  {
   "cell_type": "code",
   "execution_count": 224,
   "metadata": {
    "tags": []
   },
   "outputs": [
    {
     "data": {
      "text/html": [
       "<div>\n",
       "<style scoped>\n",
       "    .dataframe tbody tr th:only-of-type {\n",
       "        vertical-align: middle;\n",
       "    }\n",
       "\n",
       "    .dataframe tbody tr th {\n",
       "        vertical-align: top;\n",
       "    }\n",
       "\n",
       "    .dataframe thead th {\n",
       "        text-align: right;\n",
       "    }\n",
       "</style>\n",
       "<table border=\"1\" class=\"dataframe\">\n",
       "  <thead>\n",
       "    <tr style=\"text-align: right;\">\n",
       "      <th></th>\n",
       "      <th>Jahr</th>\n",
       "      <th>Jahr_str</th>\n",
       "      <th>Bildungsstand</th>\n",
       "      <th>mean_AntBev</th>\n",
       "      <th>median_AntBev</th>\n",
       "    </tr>\n",
       "  </thead>\n",
       "  <tbody>\n",
       "    <tr>\n",
       "      <th>0</th>\n",
       "      <td>2010-01-01</td>\n",
       "      <td>2010-01-01</td>\n",
       "      <td>Obligatorische Schule</td>\n",
       "      <td>21</td>\n",
       "      <td>18</td>\n",
       "    </tr>\n",
       "    <tr>\n",
       "      <th>1</th>\n",
       "      <td>2010-01-01</td>\n",
       "      <td>2010-01-01</td>\n",
       "      <td>Sekundarstufe II</td>\n",
       "      <td>31</td>\n",
       "      <td>30</td>\n",
       "    </tr>\n",
       "    <tr>\n",
       "      <th>2</th>\n",
       "      <td>2010-01-01</td>\n",
       "      <td>2010-01-01</td>\n",
       "      <td>Tertiärstufe</td>\n",
       "      <td>48</td>\n",
       "      <td>39</td>\n",
       "    </tr>\n",
       "  </tbody>\n",
       "</table>\n",
       "</div>"
      ],
      "text/plain": [
       "        Jahr    Jahr_str          Bildungsstand  mean_AntBev  median_AntBev\n",
       "0 2010-01-01  2010-01-01  Obligatorische Schule           21             18\n",
       "1 2010-01-01  2010-01-01       Sekundarstufe II           31             30\n",
       "2 2010-01-01  2010-01-01           Tertiärstufe           48             39"
      ]
     },
     "execution_count": 224,
     "metadata": {},
     "output_type": "execute_result"
    }
   ],
   "source": [
    "#myAgg = data2betested.loc[\"2008-11-30\":\"2021-10-31\"]\n",
    "myAgg = data2betested.loc[\"2008\":\"2021\"]\\\n",
    "    .groupby(['Jahr', 'Jahr_str', 'Bildungsstand']) \\\n",
    "    .agg(mean_AntBev=('AntBev', 'mean')\n",
    "        ,median_AntBev=('AntBev', 'median')\n",
    "        ) \\\n",
    "    .sort_values('Jahr', ascending=True) \n",
    "\n",
    "myAgg.reset_index().head(3)"
   ]
  },
  {
   "cell_type": "code",
   "execution_count": 225,
   "metadata": {},
   "outputs": [
    {
     "data": {
      "text/html": [
       "\n",
       "<div id=\"altair-viz-30d18d78ec4842e8bf3768a91567aa03\"></div>\n",
       "<script type=\"text/javascript\">\n",
       "  (function(spec, embedOpt){\n",
       "    let outputDiv = document.currentScript.previousElementSibling;\n",
       "    if (outputDiv.id !== \"altair-viz-30d18d78ec4842e8bf3768a91567aa03\") {\n",
       "      outputDiv = document.getElementById(\"altair-viz-30d18d78ec4842e8bf3768a91567aa03\");\n",
       "    }\n",
       "    const paths = {\n",
       "      \"vega\": \"https://cdn.jsdelivr.net/npm//vega@5?noext\",\n",
       "      \"vega-lib\": \"https://cdn.jsdelivr.net/npm//vega-lib?noext\",\n",
       "      \"vega-lite\": \"https://cdn.jsdelivr.net/npm//vega-lite@4.8.1?noext\",\n",
       "      \"vega-embed\": \"https://cdn.jsdelivr.net/npm//vega-embed@6?noext\",\n",
       "    };\n",
       "\n",
       "    function loadScript(lib) {\n",
       "      return new Promise(function(resolve, reject) {\n",
       "        var s = document.createElement('script');\n",
       "        s.src = paths[lib];\n",
       "        s.async = true;\n",
       "        s.onload = () => resolve(paths[lib]);\n",
       "        s.onerror = () => reject(`Error loading script: ${paths[lib]}`);\n",
       "        document.getElementsByTagName(\"head\")[0].appendChild(s);\n",
       "      });\n",
       "    }\n",
       "\n",
       "    function showError(err) {\n",
       "      outputDiv.innerHTML = `<div class=\"error\" style=\"color:red;\">${err}</div>`;\n",
       "      throw err;\n",
       "    }\n",
       "\n",
       "    function displayChart(vegaEmbed) {\n",
       "      vegaEmbed(outputDiv, spec, embedOpt)\n",
       "        .catch(err => showError(`Javascript Error: ${err.message}<br>This usually means there's a typo in your chart specification. See the javascript console for the full traceback.`));\n",
       "    }\n",
       "\n",
       "    if(typeof define === \"function\" && define.amd) {\n",
       "      requirejs.config({paths});\n",
       "      require([\"vega-embed\"], displayChart, err => showError(`Error loading script: ${err.message}`));\n",
       "    } else if (typeof vegaEmbed === \"function\") {\n",
       "      displayChart(vegaEmbed);\n",
       "    } else {\n",
       "      loadScript(\"vega\")\n",
       "        .then(() => loadScript(\"vega-lite\"))\n",
       "        .then(() => loadScript(\"vega-embed\"))\n",
       "        .catch(showError)\n",
       "        .then(() => displayChart(vegaEmbed));\n",
       "    }\n",
       "  })({\"config\": {\"view\": {\"continuousWidth\": 400, \"continuousHeight\": 300}}, \"layer\": [{\"mark\": \"line\", \"encoding\": {\"color\": {\"type\": \"nominal\", \"field\": \"Bildungsstand\", \"legend\": {\"orient\": \"right\", \"title\": \"Altersgruppen\"}}, \"size\": {\"condition\": {\"value\": 0.5, \"selection\": {\"not\": \"selector014\"}}, \"value\": 4}, \"tooltip\": [{\"type\": \"nominal\", \"field\": \"Jahr_str\"}, {\"type\": \"nominal\", \"field\": \"Bildungsstand\"}, {\"type\": \"quantitative\", \"field\": \"mean_AntBev\"}], \"x\": {\"type\": \"temporal\", \"axis\": {\"title\": \"Jahr\"}, \"field\": \"Jahr\"}, \"y\": {\"type\": \"quantitative\", \"axis\": {\"title\": \"Ant. Personen\"}, \"field\": \"mean_AntBev\"}}, \"selection\": {\"selector015\": {\"type\": \"interval\", \"bind\": \"scales\", \"encodings\": [\"x\", \"y\"]}}, \"title\": \"Bildungsstand\"}, {\"mark\": \"circle\", \"encoding\": {\"color\": {\"type\": \"nominal\", \"field\": \"Bildungsstand\", \"legend\": {\"orient\": \"right\", \"title\": \"Altersgruppen\"}}, \"opacity\": {\"value\": 0.75}, \"tooltip\": [{\"type\": \"nominal\", \"field\": \"Jahr_str\"}, {\"type\": \"nominal\", \"field\": \"Bildungsstand\"}, {\"type\": \"quantitative\", \"field\": \"mean_AntBev\"}], \"x\": {\"type\": \"temporal\", \"axis\": {\"title\": \"Jahr\"}, \"field\": \"Jahr\"}, \"y\": {\"type\": \"quantitative\", \"axis\": {\"title\": \"Ant. Personen\"}, \"field\": \"mean_AntBev\"}}, \"height\": 350, \"selection\": {\"selector014\": {\"type\": \"single\", \"on\": \"mouseover\", \"fields\": [\"Bildungsstand\"], \"nearest\": true}}, \"title\": \"Bildungsstand\", \"width\": 750}], \"data\": {\"name\": \"data-aaa10e3166ab7d993d3883ba6fc8f763\"}, \"$schema\": \"https://vega.github.io/schema/vega-lite/v4.8.1.json\", \"datasets\": {\"data-aaa10e3166ab7d993d3883ba6fc8f763\": [{\"Jahr\": \"2010-01-01T00:00:00\", \"Jahr_str\": \"2010-01-01\", \"Bildungsstand\": \"Obligatorische Schule\", \"mean_AntBev\": 20.919999999999998, \"median_AntBev\": 17.6}, {\"Jahr\": \"2010-01-01T00:00:00\", \"Jahr_str\": \"2010-01-01\", \"Bildungsstand\": \"Sekundarstufe II\", \"mean_AntBev\": 30.8, \"median_AntBev\": 30.4}, {\"Jahr\": \"2010-01-01T00:00:00\", \"Jahr_str\": \"2010-01-01\", \"Bildungsstand\": \"Terti\\u00e4rstufe\", \"mean_AntBev\": 48.28, \"median_AntBev\": 39.3}, {\"Jahr\": \"2011-01-01T00:00:00\", \"Jahr_str\": \"2011-01-01\", \"Bildungsstand\": \"Obligatorische Schule\", \"mean_AntBev\": 26.82, \"median_AntBev\": 20.4}, {\"Jahr\": \"2011-01-01T00:00:00\", \"Jahr_str\": \"2011-01-01\", \"Bildungsstand\": \"Sekundarstufe II\", \"mean_AntBev\": 28.159999999999997, \"median_AntBev\": 31.2}, {\"Jahr\": \"2011-01-01T00:00:00\", \"Jahr_str\": \"2011-01-01\", \"Bildungsstand\": \"Terti\\u00e4rstufe\", \"mean_AntBev\": 45.019999999999996, \"median_AntBev\": 41.2}, {\"Jahr\": \"2012-01-01T00:00:00\", \"Jahr_str\": \"2012-01-01\", \"Bildungsstand\": \"Obligatorische Schule\", \"mean_AntBev\": 25.48, \"median_AntBev\": 19.8}, {\"Jahr\": \"2012-01-01T00:00:00\", \"Jahr_str\": \"2012-01-01\", \"Bildungsstand\": \"Sekundarstufe II\", \"mean_AntBev\": 26.839999999999996, \"median_AntBev\": 28.8}, {\"Jahr\": \"2012-01-01T00:00:00\", \"Jahr_str\": \"2012-01-01\", \"Bildungsstand\": \"Terti\\u00e4rstufe\", \"mean_AntBev\": 47.660000000000004, \"median_AntBev\": 43.0}, {\"Jahr\": \"2013-01-01T00:00:00\", \"Jahr_str\": \"2013-01-01\", \"Bildungsstand\": \"Obligatorische Schule\", \"mean_AntBev\": 23.080000000000002, \"median_AntBev\": 19.4}, {\"Jahr\": \"2013-01-01T00:00:00\", \"Jahr_str\": \"2013-01-01\", \"Bildungsstand\": \"Sekundarstufe II\", \"mean_AntBev\": 29.160000000000004, \"median_AntBev\": 28.4}, {\"Jahr\": \"2013-01-01T00:00:00\", \"Jahr_str\": \"2013-01-01\", \"Bildungsstand\": \"Terti\\u00e4rstufe\", \"mean_AntBev\": 47.760000000000005, \"median_AntBev\": 43.4}, {\"Jahr\": \"2014-01-01T00:00:00\", \"Jahr_str\": \"2014-01-01\", \"Bildungsstand\": \"Obligatorische Schule\", \"mean_AntBev\": 22.22, \"median_AntBev\": 19.5}, {\"Jahr\": \"2014-01-01T00:00:00\", \"Jahr_str\": \"2014-01-01\", \"Bildungsstand\": \"Sekundarstufe II\", \"mean_AntBev\": 26.860000000000003, \"median_AntBev\": 29.6}, {\"Jahr\": \"2014-01-01T00:00:00\", \"Jahr_str\": \"2014-01-01\", \"Bildungsstand\": \"Terti\\u00e4rstufe\", \"mean_AntBev\": 50.92, \"median_AntBev\": 45.3}, {\"Jahr\": \"2015-01-01T00:00:00\", \"Jahr_str\": \"2015-01-01\", \"Bildungsstand\": \"Terti\\u00e4rstufe\", \"mean_AntBev\": 51.379999999999995, \"median_AntBev\": 47.1}, {\"Jahr\": \"2015-01-01T00:00:00\", \"Jahr_str\": \"2015-01-01\", \"Bildungsstand\": \"Sekundarstufe II\", \"mean_AntBev\": 25.14, \"median_AntBev\": 24.6}, {\"Jahr\": \"2015-01-01T00:00:00\", \"Jahr_str\": \"2015-01-01\", \"Bildungsstand\": \"Obligatorische Schule\", \"mean_AntBev\": 23.46, \"median_AntBev\": 18.7}, {\"Jahr\": \"2016-01-01T00:00:00\", \"Jahr_str\": \"2016-01-01\", \"Bildungsstand\": \"Obligatorische Schule\", \"mean_AntBev\": 23.48, \"median_AntBev\": 18.1}, {\"Jahr\": \"2016-01-01T00:00:00\", \"Jahr_str\": \"2016-01-01\", \"Bildungsstand\": \"Sekundarstufe II\", \"mean_AntBev\": 24.62, \"median_AntBev\": 25.1}, {\"Jahr\": \"2016-01-01T00:00:00\", \"Jahr_str\": \"2016-01-01\", \"Bildungsstand\": \"Terti\\u00e4rstufe\", \"mean_AntBev\": 51.9, \"median_AntBev\": 48.8}, {\"Jahr\": \"2017-01-01T00:00:00\", \"Jahr_str\": \"2017-01-01\", \"Bildungsstand\": \"Obligatorische Schule\", \"mean_AntBev\": 24.78, \"median_AntBev\": 17.6}, {\"Jahr\": \"2017-01-01T00:00:00\", \"Jahr_str\": \"2017-01-01\", \"Bildungsstand\": \"Sekundarstufe II\", \"mean_AntBev\": 26.0, \"median_AntBev\": 23.3}, {\"Jahr\": \"2017-01-01T00:00:00\", \"Jahr_str\": \"2017-01-01\", \"Bildungsstand\": \"Terti\\u00e4rstufe\", \"mean_AntBev\": 49.239999999999995, \"median_AntBev\": 48.2}, {\"Jahr\": \"2018-01-01T00:00:00\", \"Jahr_str\": \"2018-01-01\", \"Bildungsstand\": \"Obligatorische Schule\", \"mean_AntBev\": 22.860000000000003, \"median_AntBev\": 16.3}, {\"Jahr\": \"2018-01-01T00:00:00\", \"Jahr_str\": \"2018-01-01\", \"Bildungsstand\": \"Sekundarstufe II\", \"mean_AntBev\": 28.26, \"median_AntBev\": 26.6}, {\"Jahr\": \"2018-01-01T00:00:00\", \"Jahr_str\": \"2018-01-01\", \"Bildungsstand\": \"Terti\\u00e4rstufe\", \"mean_AntBev\": 48.88, \"median_AntBev\": 47.4}, {\"Jahr\": \"2019-01-01T00:00:00\", \"Jahr_str\": \"2019-01-01\", \"Bildungsstand\": \"Obligatorische Schule\", \"mean_AntBev\": 22.04, \"median_AntBev\": 15.1}, {\"Jahr\": \"2019-01-01T00:00:00\", \"Jahr_str\": \"2019-01-01\", \"Bildungsstand\": \"Sekundarstufe II\", \"mean_AntBev\": 25.16, \"median_AntBev\": 24.5}, {\"Jahr\": \"2019-01-01T00:00:00\", \"Jahr_str\": \"2019-01-01\", \"Bildungsstand\": \"Terti\\u00e4rstufe\", \"mean_AntBev\": 52.760000000000005, \"median_AntBev\": 51.7}, {\"Jahr\": \"2020-01-01T00:00:00\", \"Jahr_str\": \"2020-01-01\", \"Bildungsstand\": \"Obligatorische Schule\", \"mean_AntBev\": 23.619999999999997, \"median_AntBev\": 15.5}, {\"Jahr\": \"2020-01-01T00:00:00\", \"Jahr_str\": \"2020-01-01\", \"Bildungsstand\": \"Sekundarstufe II\", \"mean_AntBev\": 22.82, \"median_AntBev\": 21.1}, {\"Jahr\": \"2020-01-01T00:00:00\", \"Jahr_str\": \"2020-01-01\", \"Bildungsstand\": \"Terti\\u00e4rstufe\", \"mean_AntBev\": 53.58, \"median_AntBev\": 54.1}]}}, {\"mode\": \"vega-lite\"});\n",
       "</script>"
      ],
      "text/plain": [
       "alt.LayerChart(...)"
      ]
     },
     "execution_count": 225,
     "metadata": {},
     "output_type": "execute_result"
    }
   ],
   "source": [
    "myTitle=\"Bildungsstand\"\n",
    "\n",
    "highlight = alt.selection(type='single', on='mouseover',\n",
    "                          fields=['Bildungsstand'], nearest=True)\n",
    "#x='date:StichtagDatJahr',\n",
    "base = alt.Chart(myAgg.reset_index().query('mean_AntBev>0'), title=myTitle).encode(\n",
    "    x=alt.X('Jahr', axis=alt.Axis(title='Jahr'))# , axis=alt.Axis(format='%', title='percentage')\n",
    "    , y=alt.X('mean_AntBev', axis=alt.Axis(title='Ant. Personen'))\n",
    "    , color=alt.Color('Bildungsstand', legend=alt.Legend(title=\"Altersgruppen\", orient=\"right\"))  \n",
    "    ,tooltip=['Jahr_str', 'Bildungsstand','mean_AntBev']    \n",
    ")\n",
    "points = base.mark_circle().encode(\n",
    "    opacity=alt.value(0.75)\n",
    ").add_selection(\n",
    "    highlight\n",
    ").properties(\n",
    "    width=750 , height=350\n",
    ")\n",
    "lines = base.mark_line().encode(\n",
    "    size=alt.condition(~highlight, alt.value(0.5), alt.value(4))\n",
    ").interactive()\n",
    "\n",
    "lines + points"
   ]
  },
  {
   "cell_type": "markdown",
   "metadata": {
    "tags": []
   },
   "source": [
    "#### Barcharts mit Seaborn"
   ]
  },
  {
   "cell_type": "code",
   "execution_count": 228,
   "metadata": {},
   "outputs": [
    {
     "data": {
      "text/plain": [
       "Index(['AufartLang', 'Bildungsstand', 'AntBev', 'untAntBevKI', 'obAntBevKI', 'Jahr_str'], dtype='object')"
      ]
     },
     "execution_count": 228,
     "metadata": {},
     "output_type": "execute_result"
    }
   ],
   "source": [
    "data2betested.columns"
   ]
  },
  {
   "cell_type": "code",
   "execution_count": 229,
   "metadata": {},
   "outputs": [
    {
     "data": {
      "text/html": [
       "<div>\n",
       "<style scoped>\n",
       "    .dataframe tbody tr th:only-of-type {\n",
       "        vertical-align: middle;\n",
       "    }\n",
       "\n",
       "    .dataframe tbody tr th {\n",
       "        vertical-align: top;\n",
       "    }\n",
       "\n",
       "    .dataframe thead th {\n",
       "        text-align: right;\n",
       "    }\n",
       "</style>\n",
       "<table border=\"1\" class=\"dataframe\">\n",
       "  <thead>\n",
       "    <tr style=\"text-align: right;\">\n",
       "      <th></th>\n",
       "      <th>Jahr</th>\n",
       "      <th>Jahr_str</th>\n",
       "      <th>AufartLang</th>\n",
       "      <th>Bildungsstand</th>\n",
       "      <th>mean_AntBev</th>\n",
       "      <th>median_AntBev</th>\n",
       "    </tr>\n",
       "  </thead>\n",
       "  <tbody>\n",
       "    <tr>\n",
       "      <th>0</th>\n",
       "      <td>2020-01-01</td>\n",
       "      <td>2020-01-01</td>\n",
       "      <td>Andere</td>\n",
       "      <td>Obligatorische Schule</td>\n",
       "      <td>50</td>\n",
       "      <td>50</td>\n",
       "    </tr>\n",
       "    <tr>\n",
       "      <th>1</th>\n",
       "      <td>2020-01-01</td>\n",
       "      <td>2020-01-01</td>\n",
       "      <td>Andere</td>\n",
       "      <td>Sekundarstufe II</td>\n",
       "      <td>18</td>\n",
       "      <td>18</td>\n",
       "    </tr>\n",
       "    <tr>\n",
       "      <th>2</th>\n",
       "      <td>2020-01-01</td>\n",
       "      <td>2020-01-01</td>\n",
       "      <td>Andere</td>\n",
       "      <td>Tertiärstufe</td>\n",
       "      <td>33</td>\n",
       "      <td>33</td>\n",
       "    </tr>\n",
       "  </tbody>\n",
       "</table>\n",
       "</div>"
      ],
      "text/plain": [
       "        Jahr    Jahr_str AufartLang          Bildungsstand  mean_AntBev  median_AntBev\n",
       "0 2020-01-01  2020-01-01     Andere  Obligatorische Schule           50             50\n",
       "1 2020-01-01  2020-01-01     Andere       Sekundarstufe II           18             18\n",
       "2 2020-01-01  2020-01-01     Andere           Tertiärstufe           33             33"
      ]
     },
     "execution_count": 229,
     "metadata": {},
     "output_type": "execute_result"
    }
   ],
   "source": [
    "myAggBar = data2betested.loc[\"2020\"]\\\n",
    "    .groupby(['Jahr', 'Jahr_str', 'AufartLang', 'Bildungsstand']) \\\n",
    "    .agg(mean_AntBev=('AntBev', 'mean')\n",
    "        ,median_AntBev=('AntBev', 'median')\n",
    "        ) \\\n",
    "    .sort_values('Jahr', ascending=True) \n",
    "\n",
    "myAggBar.reset_index().head(3)"
   ]
  },
  {
   "cell_type": "code",
   "execution_count": 230,
   "metadata": {},
   "outputs": [],
   "source": [
    "#help(sns.catplot)     "
   ]
  },
  {
   "cell_type": "code",
   "execution_count": 231,
   "metadata": {},
   "outputs": [],
   "source": [
    "#Stile for the following sns graphs\n",
    "sns.set_theme(style=\"whitegrid\")"
   ]
  },
  {
   "cell_type": "code",
   "execution_count": 232,
   "metadata": {},
   "outputs": [
    {
     "data": {
      "text/plain": [
       "<seaborn.axisgrid.FacetGrid at 0x2a11dfa8dc8>"
      ]
     },
     "execution_count": 232,
     "metadata": {},
     "output_type": "execute_result"
    },
    {
     "data": {
      "image/png": "[encoded data removed]",
      "text/plain": [
       "<Figure size 902.475x360 with 1 Axes>"
      ]
     },
     "metadata": {},
     "output_type": "display_data"
    }
   ],
   "source": [
    "#sns.color_palette(\"flare\", as_cmap=True)\n",
    "myHist = sns.catplot(x=\"Bildungsstand\"\n",
    "            , y=\"mean_AntBev\"\n",
    "            , hue=\"AufartLang\"\n",
    "            , kind=\"bar\" #boxen, violin, --> wenn die aggregation nicht genau den werten in der grafik entspricht\n",
    "            , palette=\"pastel\" #, color=\"green\"\n",
    "            , height=5\n",
    "            , aspect=2\n",
    "            , order=None, legend_out=True\n",
    "            ,data=myAggBar.reset_index()\n",
    "           )\n",
    "myHist.set_xlabels('Altersgruppe', fontsize=11) # not set_label\n",
    "myHist.set_ylabels('Ant. Pers.', fontsize=11)\n"
   ]
  },
  {
   "cell_type": "code",
   "execution_count": 233,
   "metadata": {},
   "outputs": [],
   "source": [
    "#data2betested.dtypes"
   ]
  },
  {
   "cell_type": "code",
   "execution_count": 234,
   "metadata": {},
   "outputs": [
    {
     "data": {
      "text/html": [
       "<div>\n",
       "<style scoped>\n",
       "    .dataframe tbody tr th:only-of-type {\n",
       "        vertical-align: middle;\n",
       "    }\n",
       "\n",
       "    .dataframe tbody tr th {\n",
       "        vertical-align: top;\n",
       "    }\n",
       "\n",
       "    .dataframe thead th {\n",
       "        text-align: right;\n",
       "    }\n",
       "</style>\n",
       "<table border=\"1\" class=\"dataframe\">\n",
       "  <thead>\n",
       "    <tr style=\"text-align: right;\">\n",
       "      <th></th>\n",
       "      <th>Jahr</th>\n",
       "      <th>Jahr_str</th>\n",
       "      <th>AufartLang</th>\n",
       "      <th>Bildungsstand</th>\n",
       "      <th>mean_AntBev</th>\n",
       "      <th>median_AntBev</th>\n",
       "    </tr>\n",
       "  </thead>\n",
       "  <tbody>\n",
       "    <tr>\n",
       "      <th>0</th>\n",
       "      <td>2010-01-01</td>\n",
       "      <td>2010-01-01</td>\n",
       "      <td>Andere</td>\n",
       "      <td>Obligatorische Schule</td>\n",
       "      <td>8</td>\n",
       "      <td>8</td>\n",
       "    </tr>\n",
       "    <tr>\n",
       "      <th>1</th>\n",
       "      <td>2010-01-01</td>\n",
       "      <td>2010-01-01</td>\n",
       "      <td>Total</td>\n",
       "      <td>Tertiärstufe</td>\n",
       "      <td>39</td>\n",
       "      <td>39</td>\n",
       "    </tr>\n",
       "    <tr>\n",
       "      <th>2</th>\n",
       "      <td>2010-01-01</td>\n",
       "      <td>2010-01-01</td>\n",
       "      <td>Total</td>\n",
       "      <td>Sekundarstufe II</td>\n",
       "      <td>40</td>\n",
       "      <td>40</td>\n",
       "    </tr>\n",
       "  </tbody>\n",
       "</table>\n",
       "</div>"
      ],
      "text/plain": [
       "        Jahr    Jahr_str AufartLang          Bildungsstand  mean_AntBev  median_AntBev\n",
       "0 2010-01-01  2010-01-01     Andere  Obligatorische Schule            8              8\n",
       "1 2010-01-01  2010-01-01      Total           Tertiärstufe           39             39\n",
       "2 2010-01-01  2010-01-01      Total       Sekundarstufe II           40             40"
      ]
     },
     "execution_count": 234,
     "metadata": {},
     "output_type": "execute_result"
    }
   ],
   "source": [
    "myAggBar = data2betested\\\n",
    "    .groupby(['Jahr', 'Jahr_str', 'AufartLang', 'Bildungsstand']) \\\n",
    "    .agg(mean_AntBev=('AntBev', 'mean')\n",
    "        ,median_AntBev=('AntBev', 'median')\n",
    "        ) \\\n",
    "    .sort_values('Jahr', ascending=True) \n",
    "\n",
    "myAggBar.reset_index().head(3)"
   ]
  },
  {
   "cell_type": "code",
   "execution_count": 235,
   "metadata": {},
   "outputs": [
    {
     "data": {
      "text/plain": [
       "<seaborn.axisgrid.FacetGrid at 0x2a122da0c88>"
      ]
     },
     "execution_count": 235,
     "metadata": {},
     "output_type": "execute_result"
    },
    {
     "data": {
      "image/png": "[encoded data removed]",
      "text/plain": [
       "<Figure size 794.975x432 with 5 Axes>"
      ]
     },
     "metadata": {},
     "output_type": "display_data"
    }
   ],
   "source": [
    "g2 = sns.FacetGrid(myAggBar.reset_index(), col=\"AufartLang\", hue=\"Bildungsstand\", col_wrap=3, height=3,)\n",
    "g2.map(sns.lineplot, \"Jahr_str\",\"mean_AntBev\",alpha=.8)\n",
    "\n",
    "g2.add_legend()\n"
   ]
  },
  {
   "cell_type": "markdown",
   "metadata": {},
   "source": [
    "### Daten in interaktiver Treemap zeigen\n",
    "Dazu gibt es eine sehr nützliche Webseite https://plotly.com/python/treemaps/\n",
    "Zu Farbskalen, siehe: https://plotly.com/python/builtin-colorscales/"
   ]
  },
  {
   "cell_type": "markdown",
   "metadata": {},
   "source": [
    "#### Aktueller Bestand "
   ]
  },
  {
   "cell_type": "code",
   "execution_count": 236,
   "metadata": {},
   "outputs": [
    {
     "data": {
      "text/plain": [
       "Index(['AufartLang', 'Bildungsstand', 'AntBev', 'untAntBevKI', 'obAntBevKI', 'Jahr_str'], dtype='object')"
      ]
     },
     "execution_count": 236,
     "metadata": {},
     "output_type": "execute_result"
    }
   ],
   "source": [
    "data2betested.columns"
   ]
  },
  {
   "cell_type": "code",
   "execution_count": 237,
   "metadata": {
    "tags": []
   },
   "outputs": [
    {
     "data": {
      "text/html": [
       "<div>\n",
       "<style scoped>\n",
       "    .dataframe tbody tr th:only-of-type {\n",
       "        vertical-align: middle;\n",
       "    }\n",
       "\n",
       "    .dataframe tbody tr th {\n",
       "        vertical-align: top;\n",
       "    }\n",
       "\n",
       "    .dataframe thead th {\n",
       "        text-align: right;\n",
       "    }\n",
       "</style>\n",
       "<table border=\"1\" class=\"dataframe\">\n",
       "  <thead>\n",
       "    <tr style=\"text-align: right;\">\n",
       "      <th></th>\n",
       "      <th>Jahr</th>\n",
       "      <th>Jahr_str</th>\n",
       "      <th>AufartLang</th>\n",
       "      <th>Bildungsstand</th>\n",
       "      <th>mean_AntBev</th>\n",
       "      <th>median_AntBev</th>\n",
       "    </tr>\n",
       "  </thead>\n",
       "  <tbody>\n",
       "    <tr>\n",
       "      <th>0</th>\n",
       "      <td>2020-01-01</td>\n",
       "      <td>2020-01-01</td>\n",
       "      <td>Andere</td>\n",
       "      <td>Obligatorische Schule</td>\n",
       "      <td>50</td>\n",
       "      <td>50</td>\n",
       "    </tr>\n",
       "    <tr>\n",
       "      <th>1</th>\n",
       "      <td>2020-01-01</td>\n",
       "      <td>2020-01-01</td>\n",
       "      <td>Andere</td>\n",
       "      <td>Sekundarstufe II</td>\n",
       "      <td>18</td>\n",
       "      <td>18</td>\n",
       "    </tr>\n",
       "    <tr>\n",
       "      <th>2</th>\n",
       "      <td>2020-01-01</td>\n",
       "      <td>2020-01-01</td>\n",
       "      <td>Andere</td>\n",
       "      <td>Tertiärstufe</td>\n",
       "      <td>33</td>\n",
       "      <td>33</td>\n",
       "    </tr>\n",
       "  </tbody>\n",
       "</table>\n",
       "</div>"
      ],
      "text/plain": [
       "        Jahr    Jahr_str AufartLang          Bildungsstand  mean_AntBev  median_AntBev\n",
       "0 2020-01-01  2020-01-01     Andere  Obligatorische Schule           50             50\n",
       "1 2020-01-01  2020-01-01     Andere       Sekundarstufe II           18             18\n",
       "2 2020-01-01  2020-01-01     Andere           Tertiärstufe           33             33"
      ]
     },
     "execution_count": 237,
     "metadata": {},
     "output_type": "execute_result"
    }
   ],
   "source": [
    "myTreemapAgg = data2betested.loc[\"2020\"]  \\\n",
    "    .groupby(['Jahr', 'Jahr_str', 'AufartLang', 'Bildungsstand']) \\\n",
    "    .agg(mean_AntBev=('AntBev', 'mean')\n",
    "        ,median_AntBev=('AntBev', 'median')\n",
    "        ) \\\n",
    "    .sort_values('Jahr', ascending=True) \n",
    "\n",
    "myTreemapAgg.reset_index().head(3)"
   ]
  },
  {
   "cell_type": "code",
   "execution_count": 238,
   "metadata": {},
   "outputs": [
    {
     "data": {
      "application/vnd.plotly.v1+json": {
       "config": {
        "plotlyServerURL": "https://plot.ly"
       },
       "data": [
        {
         "branchvalues": "total",
         "customdata": [
          [
           49.5
          ],
          [
           13.4
          ],
          [
           27.1
          ],
          [
           12.6
          ],
          [
           15.5
          ],
          [
           17.9
          ],
          [
           13.7
          ],
          [
           21.1
          ],
          [
           33.3
          ],
          [
           28.1
          ],
          [
           32.6
          ],
          [
           72.9
          ],
          [
           51.8
          ],
          [
           54.099999999999994
          ],
          [
           56.5
          ],
          [
           38.3342
          ],
          [
           56.81660000000001
          ],
          [
           38.6286
          ],
          [
           41.9446
          ],
          [
           42.178921078921086
          ],
          [
           43.58030393921216
          ],
          [
           43.58030393921216
          ]
         ],
         "domain": {
          "x": [
           0,
           1
          ],
          "y": [
           0,
           1
          ]
         },
         "hovertemplate": "labels=%{label}<br>mean_AntBev_sum=%{value}<br>parent=%{parent}<br>id=%{id}<br>mean_AntBev=%{color}<extra></extra>",
         "ids": [
          "Bildungsstand nach Aufenthaltsart/2020-01-01/Andere/Obligatorische Schule",
          "Bildungsstand nach Aufenthaltsart/2020-01-01/Jahresaufenthalter/-innen (B)/Obligatorische Schule",
          "Bildungsstand nach Aufenthaltsart/2020-01-01/Niedergelassene (C)/Obligatorische Schule",
          "Bildungsstand nach Aufenthaltsart/2020-01-01/Schweizer/-innen/Obligatorische Schule",
          "Bildungsstand nach Aufenthaltsart/2020-01-01/Total/Obligatorische Schule",
          "Bildungsstand nach Aufenthaltsart/2020-01-01/Andere/Sekundarstufe II",
          "Bildungsstand nach Aufenthaltsart/2020-01-01/Jahresaufenthalter/-innen (B)/Sekundarstufe II",
          "Bildungsstand nach Aufenthaltsart/2020-01-01/Niedergelassene (C)/Sekundarstufe II",
          "Bildungsstand nach Aufenthaltsart/2020-01-01/Schweizer/-innen/Sekundarstufe II",
          "Bildungsstand nach Aufenthaltsart/2020-01-01/Total/Sekundarstufe II",
          "Bildungsstand nach Aufenthaltsart/2020-01-01/Andere/Tertiärstufe",
          "Bildungsstand nach Aufenthaltsart/2020-01-01/Jahresaufenthalter/-innen (B)/Tertiärstufe",
          "Bildungsstand nach Aufenthaltsart/2020-01-01/Niedergelassene (C)/Tertiärstufe",
          "Bildungsstand nach Aufenthaltsart/2020-01-01/Schweizer/-innen/Tertiärstufe",
          "Bildungsstand nach Aufenthaltsart/2020-01-01/Total/Tertiärstufe",
          "Bildungsstand nach Aufenthaltsart/2020-01-01/Andere",
          "Bildungsstand nach Aufenthaltsart/2020-01-01/Jahresaufenthalter/-innen (B)",
          "Bildungsstand nach Aufenthaltsart/2020-01-01/Niedergelassene (C)",
          "Bildungsstand nach Aufenthaltsart/2020-01-01/Schweizer/-innen",
          "Bildungsstand nach Aufenthaltsart/2020-01-01/Total",
          "Bildungsstand nach Aufenthaltsart/2020-01-01",
          "Bildungsstand nach Aufenthaltsart"
         ],
         "labels": [
          "Obligatorische Schule",
          "Obligatorische Schule",
          "Obligatorische Schule",
          "Obligatorische Schule",
          "Obligatorische Schule",
          "Sekundarstufe II",
          "Sekundarstufe II",
          "Sekundarstufe II",
          "Sekundarstufe II",
          "Sekundarstufe II",
          "Tertiärstufe",
          "Tertiärstufe",
          "Tertiärstufe",
          "Tertiärstufe",
          "Tertiärstufe",
          "Andere",
          "Jahresaufenthalter/-innen (B)",
          "Niedergelassene (C)",
          "Schweizer/-innen",
          "Total",
          "2020-01-01",
          "Bildungsstand nach Aufenthaltsart"
         ],
         "marker": {
          "coloraxis": "coloraxis",
          "colors": [
           49.5,
           13.4,
           27.1,
           12.6,
           15.5,
           17.9,
           13.7,
           21.1,
           33.3,
           28.1,
           32.6,
           72.9,
           51.8,
           54.099999999999994,
           56.5,
           38.3342,
           56.81660000000001,
           38.6286,
           41.9446,
           42.178921078921086,
           43.58030393921216,
           43.58030393921216
          ]
         },
         "name": "",
         "parents": [
          "Bildungsstand nach Aufenthaltsart/2020-01-01/Andere",
          "Bildungsstand nach Aufenthaltsart/2020-01-01/Jahresaufenthalter/-innen (B)",
          "Bildungsstand nach Aufenthaltsart/2020-01-01/Niedergelassene (C)",
          "Bildungsstand nach Aufenthaltsart/2020-01-01/Schweizer/-innen",
          "Bildungsstand nach Aufenthaltsart/2020-01-01/Total",
          "Bildungsstand nach Aufenthaltsart/2020-01-01/Andere",
          "Bildungsstand nach Aufenthaltsart/2020-01-01/Jahresaufenthalter/-innen (B)",
          "Bildungsstand nach Aufenthaltsart/2020-01-01/Niedergelassene (C)",
          "Bildungsstand nach Aufenthaltsart/2020-01-01/Schweizer/-innen",
          "Bildungsstand nach Aufenthaltsart/2020-01-01/Total",
          "Bildungsstand nach Aufenthaltsart/2020-01-01/Andere",
          "Bildungsstand nach Aufenthaltsart/2020-01-01/Jahresaufenthalter/-innen (B)",
          "Bildungsstand nach Aufenthaltsart/2020-01-01/Niedergelassene (C)",
          "Bildungsstand nach Aufenthaltsart/2020-01-01/Schweizer/-innen",
          "Bildungsstand nach Aufenthaltsart/2020-01-01/Total",
          "Bildungsstand nach Aufenthaltsart/2020-01-01",
          "Bildungsstand nach Aufenthaltsart/2020-01-01",
          "Bildungsstand nach Aufenthaltsart/2020-01-01",
          "Bildungsstand nach Aufenthaltsart/2020-01-01",
          "Bildungsstand nach Aufenthaltsart/2020-01-01",
          "Bildungsstand nach Aufenthaltsart",
          ""
         ],
         "root": {
          "color": "grey"
         },
         "type": "treemap",
         "values": [
          49.5,
          13.4,
          27.1,
          12.6,
          15.5,
          17.9,
          13.7,
          21.1,
          33.3,
          28.1,
          32.6,
          72.9,
          51.8,
          54.1,
          56.5,
          100,
          100,
          100,
          100,
          100.1,
          500.1,
          500.1
         ]
        }
       ],
       "layout": {
        "coloraxis": {
         "colorbar": {
          "title": {
           "text": "mean_AntBev"
          }
         },
         "colorscale": [
          [
           0,
           "rgb(247,251,255)"
          ],
          [
           0.125,
           "rgb(222,235,247)"
          ],
          [
           0.25,
           "rgb(198,219,239)"
          ],
          [
           0.375,
           "rgb(158,202,225)"
          ],
          [
           0.5,
           "rgb(107,174,214)"
          ],
          [
           0.625,
           "rgb(66,146,198)"
          ],
          [
           0.75,
           "rgb(33,113,181)"
          ],
          [
           0.875,
           "rgb(8,81,156)"
          ],
          [
           1,
           "rgb(8,48,107)"
          ]
         ]
        },
        "height": 400,
        "legend": {
         "tracegroupgap": 0
        },
        "margin": {
         "b": 25,
         "l": 25,
         "r": 250,
         "t": 50
        },
        "template": {
         "data": {
          "bar": [
           {
            "error_x": {
             "color": "#2a3f5f"
            },
            "error_y": {
             "color": "#2a3f5f"
            },
            "marker": {
             "line": {
              "color": "#E5ECF6",
              "width": 0.5
             },
             "pattern": {
              "fillmode": "overlay",
              "size": 10,
              "solidity": 0.2
             }
            },
            "type": "bar"
           }
          ],
          "barpolar": [
           {
            "marker": {
             "line": {
              "color": "#E5ECF6",
              "width": 0.5
             },
             "pattern": {
              "fillmode": "overlay",
              "size": 10,
              "solidity": 0.2
             }
            },
            "type": "barpolar"
           }
          ],
          "carpet": [
           {
            "aaxis": {
             "endlinecolor": "#2a3f5f",
             "gridcolor": "white",
             "linecolor": "white",
             "minorgridcolor": "white",
             "startlinecolor": "#2a3f5f"
            },
            "baxis": {
             "endlinecolor": "#2a3f5f",
             "gridcolor": "white",
             "linecolor": "white",
             "minorgridcolor": "white",
             "startlinecolor": "#2a3f5f"
            },
            "type": "carpet"
           }
          ],
          "choropleth": [
           {
            "colorbar": {
             "outlinewidth": 0,
             "ticks": ""
            },
            "type": "choropleth"
           }
          ],
          "contour": [
           {
            "colorbar": {
             "outlinewidth": 0,
             "ticks": ""
            },
            "colorscale": [
             [
              0,
              "#0d0887"
             ],
             [
              0.1111111111111111,
              "#46039f"
             ],
             [
              0.2222222222222222,
              "#7201a8"
             ],
             [
              0.3333333333333333,
              "#9c179e"
             ],
             [
              0.4444444444444444,
              "#bd3786"
             ],
             [
              0.5555555555555556,
              "#d8576b"
             ],
             [
              0.6666666666666666,
              "#ed7953"
             ],
             [
              0.7777777777777778,
              "#fb9f3a"
             ],
             [
              0.8888888888888888,
              "#fdca26"
             ],
             [
              1,
              "#f0f921"
             ]
            ],
            "type": "contour"
           }
          ],
          "contourcarpet": [
           {
            "colorbar": {
             "outlinewidth": 0,
             "ticks": ""
            },
            "type": "contourcarpet"
           }
          ],
          "heatmap": [
           {
            "colorbar": {
             "outlinewidth": 0,
             "ticks": ""
            },
            "colorscale": [
             [
              0,
              "#0d0887"
             ],
             [
              0.1111111111111111,
              "#46039f"
             ],
             [
              0.2222222222222222,
              "#7201a8"
             ],
             [
              0.3333333333333333,
              "#9c179e"
             ],
             [
              0.4444444444444444,
              "#bd3786"
             ],
             [
              0.5555555555555556,
              "#d8576b"
             ],
             [
              0.6666666666666666,
              "#ed7953"
             ],
             [
              0.7777777777777778,
              "#fb9f3a"
             ],
             [
              0.8888888888888888,
              "#fdca26"
             ],
             [
              1,
              "#f0f921"
             ]
            ],
            "type": "heatmap"
           }
          ],
          "heatmapgl": [
           {
            "colorbar": {
             "outlinewidth": 0,
             "ticks": ""
            },
            "colorscale": [
             [
              0,
              "#0d0887"
             ],
             [
              0.1111111111111111,
              "#46039f"
             ],
             [
              0.2222222222222222,
              "#7201a8"
             ],
             [
              0.3333333333333333,
              "#9c179e"
             ],
             [
              0.4444444444444444,
              "#bd3786"
             ],
             [
              0.5555555555555556,
              "#d8576b"
             ],
             [
              0.6666666666666666,
              "#ed7953"
             ],
             [
              0.7777777777777778,
              "#fb9f3a"
             ],
             [
              0.8888888888888888,
              "#fdca26"
             ],
             [
              1,
              "#f0f921"
             ]
            ],
            "type": "heatmapgl"
           }
          ],
          "histogram": [
           {
            "marker": {
             "pattern": {
              "fillmode": "overlay",
              "size": 10,
              "solidity": 0.2
             }
            },
            "type": "histogram"
           }
          ],
          "histogram2d": [
           {
            "colorbar": {
             "outlinewidth": 0,
             "ticks": ""
            },
            "colorscale": [
             [
              0,
              "#0d0887"
             ],
             [
              0.1111111111111111,
              "#46039f"
             ],
             [
              0.2222222222222222,
              "#7201a8"
             ],
             [
              0.3333333333333333,
              "#9c179e"
             ],
             [
              0.4444444444444444,
              "#bd3786"
             ],
             [
              0.5555555555555556,
              "#d8576b"
             ],
             [
              0.6666666666666666,
              "#ed7953"
             ],
             [
              0.7777777777777778,
              "#fb9f3a"
             ],
             [
              0.8888888888888888,
              "#fdca26"
             ],
             [
              1,
              "#f0f921"
             ]
            ],
            "type": "histogram2d"
           }
          ],
          "histogram2dcontour": [
           {
            "colorbar": {
             "outlinewidth": 0,
             "ticks": ""
            },
            "colorscale": [
             [
              0,
              "#0d0887"
             ],
             [
              0.1111111111111111,
              "#46039f"
             ],
             [
              0.2222222222222222,
              "#7201a8"
             ],
             [
              0.3333333333333333,
              "#9c179e"
             ],
             [
              0.4444444444444444,
              "#bd3786"
             ],
             [
              0.5555555555555556,
              "#d8576b"
             ],
             [
              0.6666666666666666,
              "#ed7953"
             ],
             [
              0.7777777777777778,
              "#fb9f3a"
             ],
             [
              0.8888888888888888,
              "#fdca26"
             ],
             [
              1,
              "#f0f921"
             ]
            ],
            "type": "histogram2dcontour"
           }
          ],
          "mesh3d": [
           {
            "colorbar": {
             "outlinewidth": 0,
             "ticks": ""
            },
            "type": "mesh3d"
           }
          ],
          "parcoords": [
           {
            "line": {
             "colorbar": {
              "outlinewidth": 0,
              "ticks": ""
             }
            },
            "type": "parcoords"
           }
          ],
          "pie": [
           {
            "automargin": true,
            "type": "pie"
           }
          ],
          "scatter": [
           {
            "marker": {
             "colorbar": {
              "outlinewidth": 0,
              "ticks": ""
             }
            },
            "type": "scatter"
           }
          ],
          "scatter3d": [
           {
            "line": {
             "colorbar": {
              "outlinewidth": 0,
              "ticks": ""
             }
            },
            "marker": {
             "colorbar": {
              "outlinewidth": 0,
              "ticks": ""
             }
            },
            "type": "scatter3d"
           }
          ],
          "scattercarpet": [
           {
            "marker": {
             "colorbar": {
              "outlinewidth": 0,
              "ticks": ""
             }
            },
            "type": "scattercarpet"
           }
          ],
          "scattergeo": [
           {
            "marker": {
             "colorbar": {
              "outlinewidth": 0,
              "ticks": ""
             }
            },
            "type": "scattergeo"
           }
          ],
          "scattergl": [
           {
            "marker": {
             "colorbar": {
              "outlinewidth": 0,
              "ticks": ""
             }
            },
            "type": "scattergl"
           }
          ],
          "scattermapbox": [
           {
            "marker": {
             "colorbar": {
              "outlinewidth": 0,
              "ticks": ""
             }
            },
            "type": "scattermapbox"
           }
          ],
          "scatterpolar": [
           {
            "marker": {
             "colorbar": {
              "outlinewidth": 0,
              "ticks": ""
             }
            },
            "type": "scatterpolar"
           }
          ],
          "scatterpolargl": [
           {
            "marker": {
             "colorbar": {
              "outlinewidth": 0,
              "ticks": ""
             }
            },
            "type": "scatterpolargl"
           }
          ],
          "scatterternary": [
           {
            "marker": {
             "colorbar": {
              "outlinewidth": 0,
              "ticks": ""
             }
            },
            "type": "scatterternary"
           }
          ],
          "surface": [
           {
            "colorbar": {
             "outlinewidth": 0,
             "ticks": ""
            },
            "colorscale": [
             [
              0,
              "#0d0887"
             ],
             [
              0.1111111111111111,
              "#46039f"
             ],
             [
              0.2222222222222222,
              "#7201a8"
             ],
             [
              0.3333333333333333,
              "#9c179e"
             ],
             [
              0.4444444444444444,
              "#bd3786"
             ],
             [
              0.5555555555555556,
              "#d8576b"
             ],
             [
              0.6666666666666666,
              "#ed7953"
             ],
             [
              0.7777777777777778,
              "#fb9f3a"
             ],
             [
              0.8888888888888888,
              "#fdca26"
             ],
             [
              1,
              "#f0f921"
             ]
            ],
            "type": "surface"
           }
          ],
          "table": [
           {
            "cells": {
             "fill": {
              "color": "#EBF0F8"
             },
             "line": {
              "color": "white"
             }
            },
            "header": {
             "fill": {
              "color": "#C8D4E3"
             },
             "line": {
              "color": "white"
             }
            },
            "type": "table"
           }
          ]
         },
         "layout": {
          "annotationdefaults": {
           "arrowcolor": "#2a3f5f",
           "arrowhead": 0,
           "arrowwidth": 1
          },
          "autotypenumbers": "strict",
          "coloraxis": {
           "colorbar": {
            "outlinewidth": 0,
            "ticks": ""
           }
          },
          "colorscale": {
           "diverging": [
            [
             0,
             "#8e0152"
            ],
            [
             0.1,
             "#c51b7d"
            ],
            [
             0.2,
             "#de77ae"
            ],
            [
             0.3,
             "#f1b6da"
            ],
            [
             0.4,
             "#fde0ef"
            ],
            [
             0.5,
             "#f7f7f7"
            ],
            [
             0.6,
             "#e6f5d0"
            ],
            [
             0.7,
             "#b8e186"
            ],
            [
             0.8,
             "#7fbc41"
            ],
            [
             0.9,
             "#4d9221"
            ],
            [
             1,
             "#276419"
            ]
           ],
           "sequential": [
            [
             0,
             "#0d0887"
            ],
            [
             0.1111111111111111,
             "#46039f"
            ],
            [
             0.2222222222222222,
             "#7201a8"
            ],
            [
             0.3333333333333333,
             "#9c179e"
            ],
            [
             0.4444444444444444,
             "#bd3786"
            ],
            [
             0.5555555555555556,
             "#d8576b"
            ],
            [
             0.6666666666666666,
             "#ed7953"
            ],
            [
             0.7777777777777778,
             "#fb9f3a"
            ],
            [
             0.8888888888888888,
             "#fdca26"
            ],
            [
             1,
             "#f0f921"
            ]
           ],
           "sequentialminus": [
            [
             0,
             "#0d0887"
            ],
            [
             0.1111111111111111,
             "#46039f"
            ],
            [
             0.2222222222222222,
             "#7201a8"
            ],
            [
             0.3333333333333333,
             "#9c179e"
            ],
            [
             0.4444444444444444,
             "#bd3786"
            ],
            [
             0.5555555555555556,
             "#d8576b"
            ],
            [
             0.6666666666666666,
             "#ed7953"
            ],
            [
             0.7777777777777778,
             "#fb9f3a"
            ],
            [
             0.8888888888888888,
             "#fdca26"
            ],
            [
             1,
             "#f0f921"
            ]
           ]
          },
          "colorway": [
           "#636efa",
           "#EF553B",
           "#00cc96",
           "#ab63fa",
           "#FFA15A",
           "#19d3f3",
           "#FF6692",
           "#B6E880",
           "#FF97FF",
           "#FECB52"
          ],
          "font": {
           "color": "#2a3f5f"
          },
          "geo": {
           "bgcolor": "white",
           "lakecolor": "white",
           "landcolor": "#E5ECF6",
           "showlakes": true,
           "showland": true,
           "subunitcolor": "white"
          },
          "hoverlabel": {
           "align": "left"
          },
          "hovermode": "closest",
          "mapbox": {
           "style": "light"
          },
          "paper_bgcolor": "white",
          "plot_bgcolor": "#E5ECF6",
          "polar": {
           "angularaxis": {
            "gridcolor": "white",
            "linecolor": "white",
            "ticks": ""
           },
           "bgcolor": "#E5ECF6",
           "radialaxis": {
            "gridcolor": "white",
            "linecolor": "white",
            "ticks": ""
           }
          },
          "scene": {
           "xaxis": {
            "backgroundcolor": "#E5ECF6",
            "gridcolor": "white",
            "gridwidth": 2,
            "linecolor": "white",
            "showbackground": true,
            "ticks": "",
            "zerolinecolor": "white"
           },
           "yaxis": {
            "backgroundcolor": "#E5ECF6",
            "gridcolor": "white",
            "gridwidth": 2,
            "linecolor": "white",
            "showbackground": true,
            "ticks": "",
            "zerolinecolor": "white"
           },
           "zaxis": {
            "backgroundcolor": "#E5ECF6",
            "gridcolor": "white",
            "gridwidth": 2,
            "linecolor": "white",
            "showbackground": true,
            "ticks": "",
            "zerolinecolor": "white"
           }
          },
          "shapedefaults": {
           "line": {
            "color": "#2a3f5f"
           }
          },
          "ternary": {
           "aaxis": {
            "gridcolor": "white",
            "linecolor": "white",
            "ticks": ""
           },
           "baxis": {
            "gridcolor": "white",
            "linecolor": "white",
            "ticks": ""
           },
           "bgcolor": "#E5ECF6",
           "caxis": {
            "gridcolor": "white",
            "linecolor": "white",
            "ticks": ""
           }
          },
          "title": {
           "x": 0.05
          },
          "xaxis": {
           "automargin": true,
           "gridcolor": "white",
           "linecolor": "white",
           "ticks": "",
           "title": {
            "standoff": 15
           },
           "zerolinecolor": "white",
           "zerolinewidth": 2
          },
          "yaxis": {
           "automargin": true,
           "gridcolor": "white",
           "linecolor": "white",
           "ticks": "",
           "title": {
            "standoff": 15
           },
           "zerolinecolor": "white",
           "zerolinewidth": 2
          }
         }
        },
        "width": 1100
       }
      },
      "image/png": "[encoded data removed]",
      "text/html": [
       "<div>                            <div id=\"b9f9f3d1-7fc9-409d-b695-3c5b55fa0477\" class=\"plotly-graph-div\" style=\"height:400px; width:1100px;\"></div>            <script type=\"text/javascript\">                require([\"plotly\"], function(Plotly) {                    window.PLOTLYENV=window.PLOTLYENV || {};                                    if (document.getElementById(\"b9f9f3d1-7fc9-409d-b695-3c5b55fa0477\")) {                    Plotly.newPlot(                        \"b9f9f3d1-7fc9-409d-b695-3c5b55fa0477\",                        [{\"branchvalues\":\"total\",\"customdata\":[[49.5],[13.4],[27.1],[12.6],[15.5],[17.9],[13.7],[21.1],[33.3],[28.1],[32.6],[72.9],[51.8],[54.099999999999994],[56.5],[38.3342],[56.81660000000001],[38.6286],[41.9446],[42.178921078921086],[43.58030393921216],[43.58030393921216]],\"domain\":{\"x\":[0.0,1.0],\"y\":[0.0,1.0]},\"hovertemplate\":\"labels=%{label}<br>mean_AntBev_sum=%{value}<br>parent=%{parent}<br>id=%{id}<br>mean_AntBev=%{color}<extra></extra>\",\"ids\":[\"Bildungsstand nach Aufenthaltsart/2020-01-01/Andere/Obligatorische Schule\",\"Bildungsstand nach Aufenthaltsart/2020-01-01/Jahresaufenthalter/-innen (B)/Obligatorische Schule\",\"Bildungsstand nach Aufenthaltsart/2020-01-01/Niedergelassene (C)/Obligatorische Schule\",\"Bildungsstand nach Aufenthaltsart/2020-01-01/Schweizer/-innen/Obligatorische Schule\",\"Bildungsstand nach Aufenthaltsart/2020-01-01/Total/Obligatorische Schule\",\"Bildungsstand nach Aufenthaltsart/2020-01-01/Andere/Sekundarstufe II\",\"Bildungsstand nach Aufenthaltsart/2020-01-01/Jahresaufenthalter/-innen (B)/Sekundarstufe II\",\"Bildungsstand nach Aufenthaltsart/2020-01-01/Niedergelassene (C)/Sekundarstufe II\",\"Bildungsstand nach Aufenthaltsart/2020-01-01/Schweizer/-innen/Sekundarstufe II\",\"Bildungsstand nach Aufenthaltsart/2020-01-01/Total/Sekundarstufe II\",\"Bildungsstand nach Aufenthaltsart/2020-01-01/Andere/Terti\\u00e4rstufe\",\"Bildungsstand nach Aufenthaltsart/2020-01-01/Jahresaufenthalter/-innen (B)/Terti\\u00e4rstufe\",\"Bildungsstand nach Aufenthaltsart/2020-01-01/Niedergelassene (C)/Terti\\u00e4rstufe\",\"Bildungsstand nach Aufenthaltsart/2020-01-01/Schweizer/-innen/Terti\\u00e4rstufe\",\"Bildungsstand nach Aufenthaltsart/2020-01-01/Total/Terti\\u00e4rstufe\",\"Bildungsstand nach Aufenthaltsart/2020-01-01/Andere\",\"Bildungsstand nach Aufenthaltsart/2020-01-01/Jahresaufenthalter/-innen (B)\",\"Bildungsstand nach Aufenthaltsart/2020-01-01/Niedergelassene (C)\",\"Bildungsstand nach Aufenthaltsart/2020-01-01/Schweizer/-innen\",\"Bildungsstand nach Aufenthaltsart/2020-01-01/Total\",\"Bildungsstand nach Aufenthaltsart/2020-01-01\",\"Bildungsstand nach Aufenthaltsart\"],\"labels\":[\"Obligatorische Schule\",\"Obligatorische Schule\",\"Obligatorische Schule\",\"Obligatorische Schule\",\"Obligatorische Schule\",\"Sekundarstufe II\",\"Sekundarstufe II\",\"Sekundarstufe II\",\"Sekundarstufe II\",\"Sekundarstufe II\",\"Terti\\u00e4rstufe\",\"Terti\\u00e4rstufe\",\"Terti\\u00e4rstufe\",\"Terti\\u00e4rstufe\",\"Terti\\u00e4rstufe\",\"Andere\",\"Jahresaufenthalter/-innen (B)\",\"Niedergelassene (C)\",\"Schweizer/-innen\",\"Total\",\"2020-01-01\",\"Bildungsstand nach Aufenthaltsart\"],\"marker\":{\"coloraxis\":\"coloraxis\",\"colors\":[49.5,13.4,27.1,12.6,15.5,17.9,13.7,21.1,33.3,28.1,32.6,72.9,51.8,54.099999999999994,56.5,38.3342,56.81660000000001,38.6286,41.9446,42.178921078921086,43.58030393921216,43.58030393921216]},\"name\":\"\",\"parents\":[\"Bildungsstand nach Aufenthaltsart/2020-01-01/Andere\",\"Bildungsstand nach Aufenthaltsart/2020-01-01/Jahresaufenthalter/-innen (B)\",\"Bildungsstand nach Aufenthaltsart/2020-01-01/Niedergelassene (C)\",\"Bildungsstand nach Aufenthaltsart/2020-01-01/Schweizer/-innen\",\"Bildungsstand nach Aufenthaltsart/2020-01-01/Total\",\"Bildungsstand nach Aufenthaltsart/2020-01-01/Andere\",\"Bildungsstand nach Aufenthaltsart/2020-01-01/Jahresaufenthalter/-innen (B)\",\"Bildungsstand nach Aufenthaltsart/2020-01-01/Niedergelassene (C)\",\"Bildungsstand nach Aufenthaltsart/2020-01-01/Schweizer/-innen\",\"Bildungsstand nach Aufenthaltsart/2020-01-01/Total\",\"Bildungsstand nach Aufenthaltsart/2020-01-01/Andere\",\"Bildungsstand nach Aufenthaltsart/2020-01-01/Jahresaufenthalter/-innen (B)\",\"Bildungsstand nach Aufenthaltsart/2020-01-01/Niedergelassene (C)\",\"Bildungsstand nach Aufenthaltsart/2020-01-01/Schweizer/-innen\",\"Bildungsstand nach Aufenthaltsart/2020-01-01/Total\",\"Bildungsstand nach Aufenthaltsart/2020-01-01\",\"Bildungsstand nach Aufenthaltsart/2020-01-01\",\"Bildungsstand nach Aufenthaltsart/2020-01-01\",\"Bildungsstand nach Aufenthaltsart/2020-01-01\",\"Bildungsstand nach Aufenthaltsart/2020-01-01\",\"Bildungsstand nach Aufenthaltsart\",\"\"],\"values\":[49.5,13.4,27.1,12.6,15.5,17.9,13.7,21.1,33.3,28.1,32.6,72.9,51.8,54.1,56.5,100.0,100.0,100.0,100.0,100.1,500.1,500.1],\"type\":\"treemap\",\"root\":{\"color\":\"grey\"}}],                        {\"template\":{\"data\":{\"bar\":[{\"error_x\":{\"color\":\"#2a3f5f\"},\"error_y\":{\"color\":\"#2a3f5f\"},\"marker\":{\"line\":{\"color\":\"#E5ECF6\",\"width\":0.5},\"pattern\":{\"fillmode\":\"overlay\",\"size\":10,\"solidity\":0.2}},\"type\":\"bar\"}],\"barpolar\":[{\"marker\":{\"line\":{\"color\":\"#E5ECF6\",\"width\":0.5},\"pattern\":{\"fillmode\":\"overlay\",\"size\":10,\"solidity\":0.2}},\"type\":\"barpolar\"}],\"carpet\":[{\"aaxis\":{\"endlinecolor\":\"#2a3f5f\",\"gridcolor\":\"white\",\"linecolor\":\"white\",\"minorgridcolor\":\"white\",\"startlinecolor\":\"#2a3f5f\"},\"baxis\":{\"endlinecolor\":\"#2a3f5f\",\"gridcolor\":\"white\",\"linecolor\":\"white\",\"minorgridcolor\":\"white\",\"startlinecolor\":\"#2a3f5f\"},\"type\":\"carpet\"}],\"choropleth\":[{\"colorbar\":{\"outlinewidth\":0,\"ticks\":\"\"},\"type\":\"choropleth\"}],\"contour\":[{\"colorbar\":{\"outlinewidth\":0,\"ticks\":\"\"},\"colorscale\":[[0.0,\"#0d0887\"],[0.1111111111111111,\"#46039f\"],[0.2222222222222222,\"#7201a8\"],[0.3333333333333333,\"#9c179e\"],[0.4444444444444444,\"#bd3786\"],[0.5555555555555556,\"#d8576b\"],[0.6666666666666666,\"#ed7953\"],[0.7777777777777778,\"#fb9f3a\"],[0.8888888888888888,\"#fdca26\"],[1.0,\"#f0f921\"]],\"type\":\"contour\"}],\"contourcarpet\":[{\"colorbar\":{\"outlinewidth\":0,\"ticks\":\"\"},\"type\":\"contourcarpet\"}],\"heatmap\":[{\"colorbar\":{\"outlinewidth\":0,\"ticks\":\"\"},\"colorscale\":[[0.0,\"#0d0887\"],[0.1111111111111111,\"#46039f\"],[0.2222222222222222,\"#7201a8\"],[0.3333333333333333,\"#9c179e\"],[0.4444444444444444,\"#bd3786\"],[0.5555555555555556,\"#d8576b\"],[0.6666666666666666,\"#ed7953\"],[0.7777777777777778,\"#fb9f3a\"],[0.8888888888888888,\"#fdca26\"],[1.0,\"#f0f921\"]],\"type\":\"heatmap\"}],\"heatmapgl\":[{\"colorbar\":{\"outlinewidth\":0,\"ticks\":\"\"},\"colorscale\":[[0.0,\"#0d0887\"],[0.1111111111111111,\"#46039f\"],[0.2222222222222222,\"#7201a8\"],[0.3333333333333333,\"#9c179e\"],[0.4444444444444444,\"#bd3786\"],[0.5555555555555556,\"#d8576b\"],[0.6666666666666666,\"#ed7953\"],[0.7777777777777778,\"#fb9f3a\"],[0.8888888888888888,\"#fdca26\"],[1.0,\"#f0f921\"]],\"type\":\"heatmapgl\"}],\"histogram\":[{\"marker\":{\"pattern\":{\"fillmode\":\"overlay\",\"size\":10,\"solidity\":0.2}},\"type\":\"histogram\"}],\"histogram2d\":[{\"colorbar\":{\"outlinewidth\":0,\"ticks\":\"\"},\"colorscale\":[[0.0,\"#0d0887\"],[0.1111111111111111,\"#46039f\"],[0.2222222222222222,\"#7201a8\"],[0.3333333333333333,\"#9c179e\"],[0.4444444444444444,\"#bd3786\"],[0.5555555555555556,\"#d8576b\"],[0.6666666666666666,\"#ed7953\"],[0.7777777777777778,\"#fb9f3a\"],[0.8888888888888888,\"#fdca26\"],[1.0,\"#f0f921\"]],\"type\":\"histogram2d\"}],\"histogram2dcontour\":[{\"colorbar\":{\"outlinewidth\":0,\"ticks\":\"\"},\"colorscale\":[[0.0,\"#0d0887\"],[0.1111111111111111,\"#46039f\"],[0.2222222222222222,\"#7201a8\"],[0.3333333333333333,\"#9c179e\"],[0.4444444444444444,\"#bd3786\"],[0.5555555555555556,\"#d8576b\"],[0.6666666666666666,\"#ed7953\"],[0.7777777777777778,\"#fb9f3a\"],[0.8888888888888888,\"#fdca26\"],[1.0,\"#f0f921\"]],\"type\":\"histogram2dcontour\"}],\"mesh3d\":[{\"colorbar\":{\"outlinewidth\":0,\"ticks\":\"\"},\"type\":\"mesh3d\"}],\"parcoords\":[{\"line\":{\"colorbar\":{\"outlinewidth\":0,\"ticks\":\"\"}},\"type\":\"parcoords\"}],\"pie\":[{\"automargin\":true,\"type\":\"pie\"}],\"scatter\":[{\"marker\":{\"colorbar\":{\"outlinewidth\":0,\"ticks\":\"\"}},\"type\":\"scatter\"}],\"scatter3d\":[{\"line\":{\"colorbar\":{\"outlinewidth\":0,\"ticks\":\"\"}},\"marker\":{\"colorbar\":{\"outlinewidth\":0,\"ticks\":\"\"}},\"type\":\"scatter3d\"}],\"scattercarpet\":[{\"marker\":{\"colorbar\":{\"outlinewidth\":0,\"ticks\":\"\"}},\"type\":\"scattercarpet\"}],\"scattergeo\":[{\"marker\":{\"colorbar\":{\"outlinewidth\":0,\"ticks\":\"\"}},\"type\":\"scattergeo\"}],\"scattergl\":[{\"marker\":{\"colorbar\":{\"outlinewidth\":0,\"ticks\":\"\"}},\"type\":\"scattergl\"}],\"scattermapbox\":[{\"marker\":{\"colorbar\":{\"outlinewidth\":0,\"ticks\":\"\"}},\"type\":\"scattermapbox\"}],\"scatterpolar\":[{\"marker\":{\"colorbar\":{\"outlinewidth\":0,\"ticks\":\"\"}},\"type\":\"scatterpolar\"}],\"scatterpolargl\":[{\"marker\":{\"colorbar\":{\"outlinewidth\":0,\"ticks\":\"\"}},\"type\":\"scatterpolargl\"}],\"scatterternary\":[{\"marker\":{\"colorbar\":{\"outlinewidth\":0,\"ticks\":\"\"}},\"type\":\"scatterternary\"}],\"surface\":[{\"colorbar\":{\"outlinewidth\":0,\"ticks\":\"\"},\"colorscale\":[[0.0,\"#0d0887\"],[0.1111111111111111,\"#46039f\"],[0.2222222222222222,\"#7201a8\"],[0.3333333333333333,\"#9c179e\"],[0.4444444444444444,\"#bd3786\"],[0.5555555555555556,\"#d8576b\"],[0.6666666666666666,\"#ed7953\"],[0.7777777777777778,\"#fb9f3a\"],[0.8888888888888888,\"#fdca26\"],[1.0,\"#f0f921\"]],\"type\":\"surface\"}],\"table\":[{\"cells\":{\"fill\":{\"color\":\"#EBF0F8\"},\"line\":{\"color\":\"white\"}},\"header\":{\"fill\":{\"color\":\"#C8D4E3\"},\"line\":{\"color\":\"white\"}},\"type\":\"table\"}]},\"layout\":{\"annotationdefaults\":{\"arrowcolor\":\"#2a3f5f\",\"arrowhead\":0,\"arrowwidth\":1},\"autotypenumbers\":\"strict\",\"coloraxis\":{\"colorbar\":{\"outlinewidth\":0,\"ticks\":\"\"}},\"colorscale\":{\"diverging\":[[0,\"#8e0152\"],[0.1,\"#c51b7d\"],[0.2,\"#de77ae\"],[0.3,\"#f1b6da\"],[0.4,\"#fde0ef\"],[0.5,\"#f7f7f7\"],[0.6,\"#e6f5d0\"],[0.7,\"#b8e186\"],[0.8,\"#7fbc41\"],[0.9,\"#4d9221\"],[1,\"#276419\"]],\"sequential\":[[0.0,\"#0d0887\"],[0.1111111111111111,\"#46039f\"],[0.2222222222222222,\"#7201a8\"],[0.3333333333333333,\"#9c179e\"],[0.4444444444444444,\"#bd3786\"],[0.5555555555555556,\"#d8576b\"],[0.6666666666666666,\"#ed7953\"],[0.7777777777777778,\"#fb9f3a\"],[0.8888888888888888,\"#fdca26\"],[1.0,\"#f0f921\"]],\"sequentialminus\":[[0.0,\"#0d0887\"],[0.1111111111111111,\"#46039f\"],[0.2222222222222222,\"#7201a8\"],[0.3333333333333333,\"#9c179e\"],[0.4444444444444444,\"#bd3786\"],[0.5555555555555556,\"#d8576b\"],[0.6666666666666666,\"#ed7953\"],[0.7777777777777778,\"#fb9f3a\"],[0.8888888888888888,\"#fdca26\"],[1.0,\"#f0f921\"]]},\"colorway\":[\"#636efa\",\"#EF553B\",\"#00cc96\",\"#ab63fa\",\"#FFA15A\",\"#19d3f3\",\"#FF6692\",\"#B6E880\",\"#FF97FF\",\"#FECB52\"],\"font\":{\"color\":\"#2a3f5f\"},\"geo\":{\"bgcolor\":\"white\",\"lakecolor\":\"white\",\"landcolor\":\"#E5ECF6\",\"showlakes\":true,\"showland\":true,\"subunitcolor\":\"white\"},\"hoverlabel\":{\"align\":\"left\"},\"hovermode\":\"closest\",\"mapbox\":{\"style\":\"light\"},\"paper_bgcolor\":\"white\",\"plot_bgcolor\":\"#E5ECF6\",\"polar\":{\"angularaxis\":{\"gridcolor\":\"white\",\"linecolor\":\"white\",\"ticks\":\"\"},\"bgcolor\":\"#E5ECF6\",\"radialaxis\":{\"gridcolor\":\"white\",\"linecolor\":\"white\",\"ticks\":\"\"}},\"scene\":{\"xaxis\":{\"backgroundcolor\":\"#E5ECF6\",\"gridcolor\":\"white\",\"gridwidth\":2,\"linecolor\":\"white\",\"showbackground\":true,\"ticks\":\"\",\"zerolinecolor\":\"white\"},\"yaxis\":{\"backgroundcolor\":\"#E5ECF6\",\"gridcolor\":\"white\",\"gridwidth\":2,\"linecolor\":\"white\",\"showbackground\":true,\"ticks\":\"\",\"zerolinecolor\":\"white\"},\"zaxis\":{\"backgroundcolor\":\"#E5ECF6\",\"gridcolor\":\"white\",\"gridwidth\":2,\"linecolor\":\"white\",\"showbackground\":true,\"ticks\":\"\",\"zerolinecolor\":\"white\"}},\"shapedefaults\":{\"line\":{\"color\":\"#2a3f5f\"}},\"ternary\":{\"aaxis\":{\"gridcolor\":\"white\",\"linecolor\":\"white\",\"ticks\":\"\"},\"baxis\":{\"gridcolor\":\"white\",\"linecolor\":\"white\",\"ticks\":\"\"},\"bgcolor\":\"#E5ECF6\",\"caxis\":{\"gridcolor\":\"white\",\"linecolor\":\"white\",\"ticks\":\"\"}},\"title\":{\"x\":0.05},\"xaxis\":{\"automargin\":true,\"gridcolor\":\"white\",\"linecolor\":\"white\",\"ticks\":\"\",\"title\":{\"standoff\":15},\"zerolinecolor\":\"white\",\"zerolinewidth\":2},\"yaxis\":{\"automargin\":true,\"gridcolor\":\"white\",\"linecolor\":\"white\",\"ticks\":\"\",\"title\":{\"standoff\":15},\"zerolinecolor\":\"white\",\"zerolinewidth\":2}}},\"coloraxis\":{\"colorbar\":{\"title\":{\"text\":\"mean_AntBev\"}},\"colorscale\":[[0.0,\"rgb(247,251,255)\"],[0.125,\"rgb(222,235,247)\"],[0.25,\"rgb(198,219,239)\"],[0.375,\"rgb(158,202,225)\"],[0.5,\"rgb(107,174,214)\"],[0.625,\"rgb(66,146,198)\"],[0.75,\"rgb(33,113,181)\"],[0.875,\"rgb(8,81,156)\"],[1.0,\"rgb(8,48,107)\"]]},\"legend\":{\"tracegroupgap\":0},\"margin\":{\"t\":50,\"l\":25,\"r\":250,\"b\":25},\"height\":400,\"width\":1100},                        {\"responsive\": true}                    ).then(function(){\n",
       "                            \n",
       "var gd = document.getElementById('b9f9f3d1-7fc9-409d-b695-3c5b55fa0477');\n",
       "var x = new MutationObserver(function (mutations, observer) {{\n",
       "        var display = window.getComputedStyle(gd).display;\n",
       "        if (!display || display === 'none') {{\n",
       "            console.log([gd, 'removed!']);\n",
       "            Plotly.purge(gd);\n",
       "            observer.disconnect();\n",
       "        }}\n",
       "}});\n",
       "\n",
       "// Listen for the removal of the full notebook cells\n",
       "var notebookContainer = gd.closest('#notebook-container');\n",
       "if (notebookContainer) {{\n",
       "    x.observe(notebookContainer, {childList: true});\n",
       "}}\n",
       "\n",
       "// Listen for the clearing of the current output cell\n",
       "var outputEl = gd.closest('.output');\n",
       "if (outputEl) {{\n",
       "    x.observe(outputEl, {childList: true});\n",
       "}}\n",
       "\n",
       "                        })                };                });            </script>        </div>"
      ]
     },
     "metadata": {},
     "output_type": "display_data"
    }
   ],
   "source": [
    "myTitle=\"Bildungsstand nach Aufenthaltsart\"\n",
    "\n",
    "fig = px.treemap(myTreemapAgg.reset_index(), path=[px.Constant(myTitle), 'Jahr','AufartLang', 'Bildungsstand',]\n",
    "                 , values='mean_AntBev'\n",
    "                 , color='mean_AntBev'\n",
    "                 ## bei discrete scales (bei Klassen und Strings):                 \n",
    "                 #, color_discrete_map={'(?)':'lightgrey','EVP':'gold', 'SP':'#FF3030', 'PdA':'#EE3B3B', 'Grüne':'#A2CD5A','GLP':'#CAFF70','Die Mitte':'orange','FDP':'#104E8B','AL':'deeppink','SVP':'forestgreen', 'FL ZÜRI':'#8B864E','Volt':'#lightblue' }                \n",
    "                 ## bei continuous scales (bei Zahlenwerten):\n",
    "                , color_continuous_scale='Blues'\n",
    "                #, color_continuous_midpoint=np.average(df['AnzBestWir'], weights=df['AnzBestWir'])  \n",
    "                 ,height=400\n",
    "                 ,width=1100                 \n",
    "                )\n",
    "fig.update_traces(root_color=\"grey\")\n",
    "fig.update_layout(margin = dict(t=50, l=25, r=250, b=25))\n",
    "fig.show()"
   ]
  },
  {
   "cell_type": "markdown",
   "metadata": {},
   "source": [
    "#### Aktueller Bestand der WBev nach Quartier und Herkunft"
   ]
  },
  {
   "cell_type": "code",
   "execution_count": 239,
   "metadata": {},
   "outputs": [],
   "source": [
    "#data2betested.dtypes"
   ]
  },
  {
   "cell_type": "code",
   "execution_count": 240,
   "metadata": {},
   "outputs": [
    {
     "data": {
      "application/vnd.plotly.v1+json": {
       "config": {
        "plotlyServerURL": "https://plot.ly"
       },
       "data": [
        {
         "branchvalues": "total",
         "customdata": [
          [
           "Obligatorische Schule"
          ],
          [
           "Obligatorische Schule"
          ],
          [
           "Sekundarstufe II"
          ],
          [
           "Sekundarstufe II"
          ],
          [
           "Tertiärstufe"
          ],
          [
           "Obligatorische Schule"
          ],
          [
           "Obligatorische Schule"
          ],
          [
           "Sekundarstufe II"
          ],
          [
           "Tertiärstufe"
          ],
          [
           "Tertiärstufe"
          ],
          [
           "Obligatorische Schule"
          ],
          [
           "Sekundarstufe II"
          ],
          [
           "Sekundarstufe II"
          ],
          [
           "Tertiärstufe"
          ],
          [
           "Tertiärstufe"
          ],
          [
           "Obligatorische Schule"
          ],
          [
           "Obligatorische Schule"
          ],
          [
           "Obligatorische Schule"
          ],
          [
           "Obligatorische Schule"
          ],
          [
           "Obligatorische Schule"
          ],
          [
           "Sekundarstufe II"
          ],
          [
           "Sekundarstufe II"
          ],
          [
           "Sekundarstufe II"
          ],
          [
           "Sekundarstufe II"
          ],
          [
           "Sekundarstufe II"
          ],
          [
           "Tertiärstufe"
          ],
          [
           "Tertiärstufe"
          ],
          [
           "Tertiärstufe"
          ],
          [
           "Tertiärstufe"
          ],
          [
           "Tertiärstufe"
          ],
          [
           "(?)"
          ],
          [
           "(?)"
          ],
          [
           "(?)"
          ],
          [
           "(?)"
          ],
          [
           "(?)"
          ],
          [
           "(?)"
          ]
         ],
         "domain": {
          "x": [
           0,
           1
          ],
          "y": [
           0,
           1
          ]
         },
         "hovertemplate": "labels=%{label}<br>mean_AntBev=%{value}<br>parent=%{parent}<br>id=%{id}<br>Bildungsstand=%{customdata[0]}<extra></extra>",
         "ids": [
          "Bildungsstand nach Aufenthaltsart/Andere/Obligatorische Schule/2020-01-01",
          "Bildungsstand nach Aufenthaltsart/Schweizer/-innen/Obligatorische Schule/2020-01-01",
          "Bildungsstand nach Aufenthaltsart/Jahresaufenthalter/-innen (B)/Sekundarstufe II/2020-01-01",
          "Bildungsstand nach Aufenthaltsart/Total/Sekundarstufe II/2020-01-01",
          "Bildungsstand nach Aufenthaltsart/Niedergelassene (C)/Tertiärstufe/2020-01-01",
          "Bildungsstand nach Aufenthaltsart/Jahresaufenthalter/-innen (B)/Obligatorische Schule/2020-01-01",
          "Bildungsstand nach Aufenthaltsart/Total/Obligatorische Schule/2020-01-01",
          "Bildungsstand nach Aufenthaltsart/Niedergelassene (C)/Sekundarstufe II/2020-01-01",
          "Bildungsstand nach Aufenthaltsart/Andere/Tertiärstufe/2020-01-01",
          "Bildungsstand nach Aufenthaltsart/Schweizer/-innen/Tertiärstufe/2020-01-01",
          "Bildungsstand nach Aufenthaltsart/Niedergelassene (C)/Obligatorische Schule/2020-01-01",
          "Bildungsstand nach Aufenthaltsart/Andere/Sekundarstufe II/2020-01-01",
          "Bildungsstand nach Aufenthaltsart/Schweizer/-innen/Sekundarstufe II/2020-01-01",
          "Bildungsstand nach Aufenthaltsart/Jahresaufenthalter/-innen (B)/Tertiärstufe/2020-01-01",
          "Bildungsstand nach Aufenthaltsart/Total/Tertiärstufe/2020-01-01",
          "Bildungsstand nach Aufenthaltsart/Andere/Obligatorische Schule",
          "Bildungsstand nach Aufenthaltsart/Jahresaufenthalter/-innen (B)/Obligatorische Schule",
          "Bildungsstand nach Aufenthaltsart/Niedergelassene (C)/Obligatorische Schule",
          "Bildungsstand nach Aufenthaltsart/Schweizer/-innen/Obligatorische Schule",
          "Bildungsstand nach Aufenthaltsart/Total/Obligatorische Schule",
          "Bildungsstand nach Aufenthaltsart/Andere/Sekundarstufe II",
          "Bildungsstand nach Aufenthaltsart/Jahresaufenthalter/-innen (B)/Sekundarstufe II",
          "Bildungsstand nach Aufenthaltsart/Niedergelassene (C)/Sekundarstufe II",
          "Bildungsstand nach Aufenthaltsart/Schweizer/-innen/Sekundarstufe II",
          "Bildungsstand nach Aufenthaltsart/Total/Sekundarstufe II",
          "Bildungsstand nach Aufenthaltsart/Andere/Tertiärstufe",
          "Bildungsstand nach Aufenthaltsart/Jahresaufenthalter/-innen (B)/Tertiärstufe",
          "Bildungsstand nach Aufenthaltsart/Niedergelassene (C)/Tertiärstufe",
          "Bildungsstand nach Aufenthaltsart/Schweizer/-innen/Tertiärstufe",
          "Bildungsstand nach Aufenthaltsart/Total/Tertiärstufe",
          "Bildungsstand nach Aufenthaltsart/Andere",
          "Bildungsstand nach Aufenthaltsart/Jahresaufenthalter/-innen (B)",
          "Bildungsstand nach Aufenthaltsart/Niedergelassene (C)",
          "Bildungsstand nach Aufenthaltsart/Schweizer/-innen",
          "Bildungsstand nach Aufenthaltsart/Total",
          "Bildungsstand nach Aufenthaltsart"
         ],
         "labels": [
          "2020-01-01",
          "2020-01-01",
          "2020-01-01",
          "2020-01-01",
          "2020-01-01",
          "2020-01-01",
          "2020-01-01",
          "2020-01-01",
          "2020-01-01",
          "2020-01-01",
          "2020-01-01",
          "2020-01-01",
          "2020-01-01",
          "2020-01-01",
          "2020-01-01",
          "Obligatorische Schule",
          "Obligatorische Schule",
          "Obligatorische Schule",
          "Obligatorische Schule",
          "Obligatorische Schule",
          "Sekundarstufe II",
          "Sekundarstufe II",
          "Sekundarstufe II",
          "Sekundarstufe II",
          "Sekundarstufe II",
          "Tertiärstufe",
          "Tertiärstufe",
          "Tertiärstufe",
          "Tertiärstufe",
          "Tertiärstufe",
          "Andere",
          "Jahresaufenthalter/-innen (B)",
          "Niedergelassene (C)",
          "Schweizer/-innen",
          "Total",
          "Bildungsstand nach Aufenthaltsart"
         ],
         "marker": {
          "colors": [
           "#ab63fa",
           "#ab63fa",
           "#FFA15A",
           "#FFA15A",
           "#19d3f3",
           "#ab63fa",
           "#ab63fa",
           "#FFA15A",
           "#19d3f3",
           "#19d3f3",
           "#ab63fa",
           "#FFA15A",
           "#FFA15A",
           "#19d3f3",
           "#19d3f3",
           "#ab63fa",
           "#ab63fa",
           "#ab63fa",
           "#ab63fa",
           "#ab63fa",
           "#FFA15A",
           "#FFA15A",
           "#FFA15A",
           "#FFA15A",
           "#FFA15A",
           "#19d3f3",
           "#19d3f3",
           "#19d3f3",
           "#19d3f3",
           "#19d3f3",
           "lightgrey",
           "lightgrey",
           "lightgrey",
           "lightgrey",
           "lightgrey",
           "lightgrey"
          ]
         },
         "name": "",
         "parents": [
          "Bildungsstand nach Aufenthaltsart/Andere/Obligatorische Schule",
          "Bildungsstand nach Aufenthaltsart/Schweizer/-innen/Obligatorische Schule",
          "Bildungsstand nach Aufenthaltsart/Jahresaufenthalter/-innen (B)/Sekundarstufe II",
          "Bildungsstand nach Aufenthaltsart/Total/Sekundarstufe II",
          "Bildungsstand nach Aufenthaltsart/Niedergelassene (C)/Tertiärstufe",
          "Bildungsstand nach Aufenthaltsart/Jahresaufenthalter/-innen (B)/Obligatorische Schule",
          "Bildungsstand nach Aufenthaltsart/Total/Obligatorische Schule",
          "Bildungsstand nach Aufenthaltsart/Niedergelassene (C)/Sekundarstufe II",
          "Bildungsstand nach Aufenthaltsart/Andere/Tertiärstufe",
          "Bildungsstand nach Aufenthaltsart/Schweizer/-innen/Tertiärstufe",
          "Bildungsstand nach Aufenthaltsart/Niedergelassene (C)/Obligatorische Schule",
          "Bildungsstand nach Aufenthaltsart/Andere/Sekundarstufe II",
          "Bildungsstand nach Aufenthaltsart/Schweizer/-innen/Sekundarstufe II",
          "Bildungsstand nach Aufenthaltsart/Jahresaufenthalter/-innen (B)/Tertiärstufe",
          "Bildungsstand nach Aufenthaltsart/Total/Tertiärstufe",
          "Bildungsstand nach Aufenthaltsart/Andere",
          "Bildungsstand nach Aufenthaltsart/Jahresaufenthalter/-innen (B)",
          "Bildungsstand nach Aufenthaltsart/Niedergelassene (C)",
          "Bildungsstand nach Aufenthaltsart/Schweizer/-innen",
          "Bildungsstand nach Aufenthaltsart/Total",
          "Bildungsstand nach Aufenthaltsart/Andere",
          "Bildungsstand nach Aufenthaltsart/Jahresaufenthalter/-innen (B)",
          "Bildungsstand nach Aufenthaltsart/Niedergelassene (C)",
          "Bildungsstand nach Aufenthaltsart/Schweizer/-innen",
          "Bildungsstand nach Aufenthaltsart/Total",
          "Bildungsstand nach Aufenthaltsart/Andere",
          "Bildungsstand nach Aufenthaltsart/Jahresaufenthalter/-innen (B)",
          "Bildungsstand nach Aufenthaltsart/Niedergelassene (C)",
          "Bildungsstand nach Aufenthaltsart/Schweizer/-innen",
          "Bildungsstand nach Aufenthaltsart/Total",
          "Bildungsstand nach Aufenthaltsart",
          "Bildungsstand nach Aufenthaltsart",
          "Bildungsstand nach Aufenthaltsart",
          "Bildungsstand nach Aufenthaltsart",
          "Bildungsstand nach Aufenthaltsart",
          ""
         ],
         "root": {
          "color": "grey"
         },
         "type": "treemap",
         "values": [
          49.5,
          12.6,
          13.7,
          28.1,
          51.8,
          13.4,
          15.5,
          21.1,
          32.6,
          54.1,
          27.1,
          17.9,
          33.3,
          72.9,
          56.5,
          49.5,
          13.4,
          27.1,
          12.6,
          15.5,
          17.9,
          13.7,
          21.1,
          33.3,
          28.1,
          32.6,
          72.9,
          51.8,
          54.1,
          56.5,
          100,
          100,
          100,
          100,
          100.1,
          500.1
         ]
        }
       ],
       "layout": {
        "height": 400,
        "legend": {
         "tracegroupgap": 0
        },
        "margin": {
         "b": 25,
         "l": 25,
         "r": 250,
         "t": 50
        },
        "template": {
         "data": {
          "bar": [
           {
            "error_x": {
             "color": "#2a3f5f"
            },
            "error_y": {
             "color": "#2a3f5f"
            },
            "marker": {
             "line": {
              "color": "#E5ECF6",
              "width": 0.5
             },
             "pattern": {
              "fillmode": "overlay",
              "size": 10,
              "solidity": 0.2
             }
            },
            "type": "bar"
           }
          ],
          "barpolar": [
           {
            "marker": {
             "line": {
              "color": "#E5ECF6",
              "width": 0.5
             },
             "pattern": {
              "fillmode": "overlay",
              "size": 10,
              "solidity": 0.2
             }
            },
            "type": "barpolar"
           }
          ],
          "carpet": [
           {
            "aaxis": {
             "endlinecolor": "#2a3f5f",
             "gridcolor": "white",
             "linecolor": "white",
             "minorgridcolor": "white",
             "startlinecolor": "#2a3f5f"
            },
            "baxis": {
             "endlinecolor": "#2a3f5f",
             "gridcolor": "white",
             "linecolor": "white",
             "minorgridcolor": "white",
             "startlinecolor": "#2a3f5f"
            },
            "type": "carpet"
           }
          ],
          "choropleth": [
           {
            "colorbar": {
             "outlinewidth": 0,
             "ticks": ""
            },
            "type": "choropleth"
           }
          ],
          "contour": [
           {
            "colorbar": {
             "outlinewidth": 0,
             "ticks": ""
            },
            "colorscale": [
             [
              0,
              "#0d0887"
             ],
             [
              0.1111111111111111,
              "#46039f"
             ],
             [
              0.2222222222222222,
              "#7201a8"
             ],
             [
              0.3333333333333333,
              "#9c179e"
             ],
             [
              0.4444444444444444,
              "#bd3786"
             ],
             [
              0.5555555555555556,
              "#d8576b"
             ],
             [
              0.6666666666666666,
              "#ed7953"
             ],
             [
              0.7777777777777778,
              "#fb9f3a"
             ],
             [
              0.8888888888888888,
              "#fdca26"
             ],
             [
              1,
              "#f0f921"
             ]
            ],
            "type": "contour"
           }
          ],
          "contourcarpet": [
           {
            "colorbar": {
             "outlinewidth": 0,
             "ticks": ""
            },
            "type": "contourcarpet"
           }
          ],
          "heatmap": [
           {
            "colorbar": {
             "outlinewidth": 0,
             "ticks": ""
            },
            "colorscale": [
             [
              0,
              "#0d0887"
             ],
             [
              0.1111111111111111,
              "#46039f"
             ],
             [
              0.2222222222222222,
              "#7201a8"
             ],
             [
              0.3333333333333333,
              "#9c179e"
             ],
             [
              0.4444444444444444,
              "#bd3786"
             ],
             [
              0.5555555555555556,
              "#d8576b"
             ],
             [
              0.6666666666666666,
              "#ed7953"
             ],
             [
              0.7777777777777778,
              "#fb9f3a"
             ],
             [
              0.8888888888888888,
              "#fdca26"
             ],
             [
              1,
              "#f0f921"
             ]
            ],
            "type": "heatmap"
           }
          ],
          "heatmapgl": [
           {
            "colorbar": {
             "outlinewidth": 0,
             "ticks": ""
            },
            "colorscale": [
             [
              0,
              "#0d0887"
             ],
             [
              0.1111111111111111,
              "#46039f"
             ],
             [
              0.2222222222222222,
              "#7201a8"
             ],
             [
              0.3333333333333333,
              "#9c179e"
             ],
             [
              0.4444444444444444,
              "#bd3786"
             ],
             [
              0.5555555555555556,
              "#d8576b"
             ],
             [
              0.6666666666666666,
              "#ed7953"
             ],
             [
              0.7777777777777778,
              "#fb9f3a"
             ],
             [
              0.8888888888888888,
              "#fdca26"
             ],
             [
              1,
              "#f0f921"
             ]
            ],
            "type": "heatmapgl"
           }
          ],
          "histogram": [
           {
            "marker": {
             "pattern": {
              "fillmode": "overlay",
              "size": 10,
              "solidity": 0.2
             }
            },
            "type": "histogram"
           }
          ],
          "histogram2d": [
           {
            "colorbar": {
             "outlinewidth": 0,
             "ticks": ""
            },
            "colorscale": [
             [
              0,
              "#0d0887"
             ],
             [
              0.1111111111111111,
              "#46039f"
             ],
             [
              0.2222222222222222,
              "#7201a8"
             ],
             [
              0.3333333333333333,
              "#9c179e"
             ],
             [
              0.4444444444444444,
              "#bd3786"
             ],
             [
              0.5555555555555556,
              "#d8576b"
             ],
             [
              0.6666666666666666,
              "#ed7953"
             ],
             [
              0.7777777777777778,
              "#fb9f3a"
             ],
             [
              0.8888888888888888,
              "#fdca26"
             ],
             [
              1,
              "#f0f921"
             ]
            ],
            "type": "histogram2d"
           }
          ],
          "histogram2dcontour": [
           {
            "colorbar": {
             "outlinewidth": 0,
             "ticks": ""
            },
            "colorscale": [
             [
              0,
              "#0d0887"
             ],
             [
              0.1111111111111111,
              "#46039f"
             ],
             [
              0.2222222222222222,
              "#7201a8"
             ],
             [
              0.3333333333333333,
              "#9c179e"
             ],
             [
              0.4444444444444444,
              "#bd3786"
             ],
             [
              0.5555555555555556,
              "#d8576b"
             ],
             [
              0.6666666666666666,
              "#ed7953"
             ],
             [
              0.7777777777777778,
              "#fb9f3a"
             ],
             [
              0.8888888888888888,
              "#fdca26"
             ],
             [
              1,
              "#f0f921"
             ]
            ],
            "type": "histogram2dcontour"
           }
          ],
          "mesh3d": [
           {
            "colorbar": {
             "outlinewidth": 0,
             "ticks": ""
            },
            "type": "mesh3d"
           }
          ],
          "parcoords": [
           {
            "line": {
             "colorbar": {
              "outlinewidth": 0,
              "ticks": ""
             }
            },
            "type": "parcoords"
           }
          ],
          "pie": [
           {
            "automargin": true,
            "type": "pie"
           }
          ],
          "scatter": [
           {
            "marker": {
             "colorbar": {
              "outlinewidth": 0,
              "ticks": ""
             }
            },
            "type": "scatter"
           }
          ],
          "scatter3d": [
           {
            "line": {
             "colorbar": {
              "outlinewidth": 0,
              "ticks": ""
             }
            },
            "marker": {
             "colorbar": {
              "outlinewidth": 0,
              "ticks": ""
             }
            },
            "type": "scatter3d"
           }
          ],
          "scattercarpet": [
           {
            "marker": {
             "colorbar": {
              "outlinewidth": 0,
              "ticks": ""
             }
            },
            "type": "scattercarpet"
           }
          ],
          "scattergeo": [
           {
            "marker": {
             "colorbar": {
              "outlinewidth": 0,
              "ticks": ""
             }
            },
            "type": "scattergeo"
           }
          ],
          "scattergl": [
           {
            "marker": {
             "colorbar": {
              "outlinewidth": 0,
              "ticks": ""
             }
            },
            "type": "scattergl"
           }
          ],
          "scattermapbox": [
           {
            "marker": {
             "colorbar": {
              "outlinewidth": 0,
              "ticks": ""
             }
            },
            "type": "scattermapbox"
           }
          ],
          "scatterpolar": [
           {
            "marker": {
             "colorbar": {
              "outlinewidth": 0,
              "ticks": ""
             }
            },
            "type": "scatterpolar"
           }
          ],
          "scatterpolargl": [
           {
            "marker": {
             "colorbar": {
              "outlinewidth": 0,
              "ticks": ""
             }
            },
            "type": "scatterpolargl"
           }
          ],
          "scatterternary": [
           {
            "marker": {
             "colorbar": {
              "outlinewidth": 0,
              "ticks": ""
             }
            },
            "type": "scatterternary"
           }
          ],
          "surface": [
           {
            "colorbar": {
             "outlinewidth": 0,
             "ticks": ""
            },
            "colorscale": [
             [
              0,
              "#0d0887"
             ],
             [
              0.1111111111111111,
              "#46039f"
             ],
             [
              0.2222222222222222,
              "#7201a8"
             ],
             [
              0.3333333333333333,
              "#9c179e"
             ],
             [
              0.4444444444444444,
              "#bd3786"
             ],
             [
              0.5555555555555556,
              "#d8576b"
             ],
             [
              0.6666666666666666,
              "#ed7953"
             ],
             [
              0.7777777777777778,
              "#fb9f3a"
             ],
             [
              0.8888888888888888,
              "#fdca26"
             ],
             [
              1,
              "#f0f921"
             ]
            ],
            "type": "surface"
           }
          ],
          "table": [
           {
            "cells": {
             "fill": {
              "color": "#EBF0F8"
             },
             "line": {
              "color": "white"
             }
            },
            "header": {
             "fill": {
              "color": "#C8D4E3"
             },
             "line": {
              "color": "white"
             }
            },
            "type": "table"
           }
          ]
         },
         "layout": {
          "annotationdefaults": {
           "arrowcolor": "#2a3f5f",
           "arrowhead": 0,
           "arrowwidth": 1
          },
          "autotypenumbers": "strict",
          "coloraxis": {
           "colorbar": {
            "outlinewidth": 0,
            "ticks": ""
           }
          },
          "colorscale": {
           "diverging": [
            [
             0,
             "#8e0152"
            ],
            [
             0.1,
             "#c51b7d"
            ],
            [
             0.2,
             "#de77ae"
            ],
            [
             0.3,
             "#f1b6da"
            ],
            [
             0.4,
             "#fde0ef"
            ],
            [
             0.5,
             "#f7f7f7"
            ],
            [
             0.6,
             "#e6f5d0"
            ],
            [
             0.7,
             "#b8e186"
            ],
            [
             0.8,
             "#7fbc41"
            ],
            [
             0.9,
             "#4d9221"
            ],
            [
             1,
             "#276419"
            ]
           ],
           "sequential": [
            [
             0,
             "#0d0887"
            ],
            [
             0.1111111111111111,
             "#46039f"
            ],
            [
             0.2222222222222222,
             "#7201a8"
            ],
            [
             0.3333333333333333,
             "#9c179e"
            ],
            [
             0.4444444444444444,
             "#bd3786"
            ],
            [
             0.5555555555555556,
             "#d8576b"
            ],
            [
             0.6666666666666666,
             "#ed7953"
            ],
            [
             0.7777777777777778,
             "#fb9f3a"
            ],
            [
             0.8888888888888888,
             "#fdca26"
            ],
            [
             1,
             "#f0f921"
            ]
           ],
           "sequentialminus": [
            [
             0,
             "#0d0887"
            ],
            [
             0.1111111111111111,
             "#46039f"
            ],
            [
             0.2222222222222222,
             "#7201a8"
            ],
            [
             0.3333333333333333,
             "#9c179e"
            ],
            [
             0.4444444444444444,
             "#bd3786"
            ],
            [
             0.5555555555555556,
             "#d8576b"
            ],
            [
             0.6666666666666666,
             "#ed7953"
            ],
            [
             0.7777777777777778,
             "#fb9f3a"
            ],
            [
             0.8888888888888888,
             "#fdca26"
            ],
            [
             1,
             "#f0f921"
            ]
           ]
          },
          "colorway": [
           "#636efa",
           "#EF553B",
           "#00cc96",
           "#ab63fa",
           "#FFA15A",
           "#19d3f3",
           "#FF6692",
           "#B6E880",
           "#FF97FF",
           "#FECB52"
          ],
          "font": {
           "color": "#2a3f5f"
          },
          "geo": {
           "bgcolor": "white",
           "lakecolor": "white",
           "landcolor": "#E5ECF6",
           "showlakes": true,
           "showland": true,
           "subunitcolor": "white"
          },
          "hoverlabel": {
           "align": "left"
          },
          "hovermode": "closest",
          "mapbox": {
           "style": "light"
          },
          "paper_bgcolor": "white",
          "plot_bgcolor": "#E5ECF6",
          "polar": {
           "angularaxis": {
            "gridcolor": "white",
            "linecolor": "white",
            "ticks": ""
           },
           "bgcolor": "#E5ECF6",
           "radialaxis": {
            "gridcolor": "white",
            "linecolor": "white",
            "ticks": ""
           }
          },
          "scene": {
           "xaxis": {
            "backgroundcolor": "#E5ECF6",
            "gridcolor": "white",
            "gridwidth": 2,
            "linecolor": "white",
            "showbackground": true,
            "ticks": "",
            "zerolinecolor": "white"
           },
           "yaxis": {
            "backgroundcolor": "#E5ECF6",
            "gridcolor": "white",
            "gridwidth": 2,
            "linecolor": "white",
            "showbackground": true,
            "ticks": "",
            "zerolinecolor": "white"
           },
           "zaxis": {
            "backgroundcolor": "#E5ECF6",
            "gridcolor": "white",
            "gridwidth": 2,
            "linecolor": "white",
            "showbackground": true,
            "ticks": "",
            "zerolinecolor": "white"
           }
          },
          "shapedefaults": {
           "line": {
            "color": "#2a3f5f"
           }
          },
          "ternary": {
           "aaxis": {
            "gridcolor": "white",
            "linecolor": "white",
            "ticks": ""
           },
           "baxis": {
            "gridcolor": "white",
            "linecolor": "white",
            "ticks": ""
           },
           "bgcolor": "#E5ECF6",
           "caxis": {
            "gridcolor": "white",
            "linecolor": "white",
            "ticks": ""
           }
          },
          "title": {
           "x": 0.05
          },
          "xaxis": {
           "automargin": true,
           "gridcolor": "white",
           "linecolor": "white",
           "ticks": "",
           "title": {
            "standoff": 15
           },
           "zerolinecolor": "white",
           "zerolinewidth": 2
          },
          "yaxis": {
           "automargin": true,
           "gridcolor": "white",
           "linecolor": "white",
           "ticks": "",
           "title": {
            "standoff": 15
           },
           "zerolinecolor": "white",
           "zerolinewidth": 2
          }
         }
        },
        "width": 1100
       }
      },
      "image/png": "[encoded data removed]",
      "text/html": [
       "<div>                            <div id=\"09fd56af-945d-44ef-9dec-6de6e2908c99\" class=\"plotly-graph-div\" style=\"height:400px; width:1100px;\"></div>            <script type=\"text/javascript\">                require([\"plotly\"], function(Plotly) {                    window.PLOTLYENV=window.PLOTLYENV || {};                                    if (document.getElementById(\"09fd56af-945d-44ef-9dec-6de6e2908c99\")) {                    Plotly.newPlot(                        \"09fd56af-945d-44ef-9dec-6de6e2908c99\",                        [{\"branchvalues\":\"total\",\"customdata\":[[\"Obligatorische Schule\"],[\"Obligatorische Schule\"],[\"Sekundarstufe II\"],[\"Sekundarstufe II\"],[\"Terti\\u00e4rstufe\"],[\"Obligatorische Schule\"],[\"Obligatorische Schule\"],[\"Sekundarstufe II\"],[\"Terti\\u00e4rstufe\"],[\"Terti\\u00e4rstufe\"],[\"Obligatorische Schule\"],[\"Sekundarstufe II\"],[\"Sekundarstufe II\"],[\"Terti\\u00e4rstufe\"],[\"Terti\\u00e4rstufe\"],[\"Obligatorische Schule\"],[\"Obligatorische Schule\"],[\"Obligatorische Schule\"],[\"Obligatorische Schule\"],[\"Obligatorische Schule\"],[\"Sekundarstufe II\"],[\"Sekundarstufe II\"],[\"Sekundarstufe II\"],[\"Sekundarstufe II\"],[\"Sekundarstufe II\"],[\"Terti\\u00e4rstufe\"],[\"Terti\\u00e4rstufe\"],[\"Terti\\u00e4rstufe\"],[\"Terti\\u00e4rstufe\"],[\"Terti\\u00e4rstufe\"],[\"(?)\"],[\"(?)\"],[\"(?)\"],[\"(?)\"],[\"(?)\"],[\"(?)\"]],\"domain\":{\"x\":[0.0,1.0],\"y\":[0.0,1.0]},\"hovertemplate\":\"labels=%{label}<br>mean_AntBev=%{value}<br>parent=%{parent}<br>id=%{id}<br>Bildungsstand=%{customdata[0]}<extra></extra>\",\"ids\":[\"Bildungsstand nach Aufenthaltsart/Andere/Obligatorische Schule/2020-01-01\",\"Bildungsstand nach Aufenthaltsart/Schweizer/-innen/Obligatorische Schule/2020-01-01\",\"Bildungsstand nach Aufenthaltsart/Jahresaufenthalter/-innen (B)/Sekundarstufe II/2020-01-01\",\"Bildungsstand nach Aufenthaltsart/Total/Sekundarstufe II/2020-01-01\",\"Bildungsstand nach Aufenthaltsart/Niedergelassene (C)/Terti\\u00e4rstufe/2020-01-01\",\"Bildungsstand nach Aufenthaltsart/Jahresaufenthalter/-innen (B)/Obligatorische Schule/2020-01-01\",\"Bildungsstand nach Aufenthaltsart/Total/Obligatorische Schule/2020-01-01\",\"Bildungsstand nach Aufenthaltsart/Niedergelassene (C)/Sekundarstufe II/2020-01-01\",\"Bildungsstand nach Aufenthaltsart/Andere/Terti\\u00e4rstufe/2020-01-01\",\"Bildungsstand nach Aufenthaltsart/Schweizer/-innen/Terti\\u00e4rstufe/2020-01-01\",\"Bildungsstand nach Aufenthaltsart/Niedergelassene (C)/Obligatorische Schule/2020-01-01\",\"Bildungsstand nach Aufenthaltsart/Andere/Sekundarstufe II/2020-01-01\",\"Bildungsstand nach Aufenthaltsart/Schweizer/-innen/Sekundarstufe II/2020-01-01\",\"Bildungsstand nach Aufenthaltsart/Jahresaufenthalter/-innen (B)/Terti\\u00e4rstufe/2020-01-01\",\"Bildungsstand nach Aufenthaltsart/Total/Terti\\u00e4rstufe/2020-01-01\",\"Bildungsstand nach Aufenthaltsart/Andere/Obligatorische Schule\",\"Bildungsstand nach Aufenthaltsart/Jahresaufenthalter/-innen (B)/Obligatorische Schule\",\"Bildungsstand nach Aufenthaltsart/Niedergelassene (C)/Obligatorische Schule\",\"Bildungsstand nach Aufenthaltsart/Schweizer/-innen/Obligatorische Schule\",\"Bildungsstand nach Aufenthaltsart/Total/Obligatorische Schule\",\"Bildungsstand nach Aufenthaltsart/Andere/Sekundarstufe II\",\"Bildungsstand nach Aufenthaltsart/Jahresaufenthalter/-innen (B)/Sekundarstufe II\",\"Bildungsstand nach Aufenthaltsart/Niedergelassene (C)/Sekundarstufe II\",\"Bildungsstand nach Aufenthaltsart/Schweizer/-innen/Sekundarstufe II\",\"Bildungsstand nach Aufenthaltsart/Total/Sekundarstufe II\",\"Bildungsstand nach Aufenthaltsart/Andere/Terti\\u00e4rstufe\",\"Bildungsstand nach Aufenthaltsart/Jahresaufenthalter/-innen (B)/Terti\\u00e4rstufe\",\"Bildungsstand nach Aufenthaltsart/Niedergelassene (C)/Terti\\u00e4rstufe\",\"Bildungsstand nach Aufenthaltsart/Schweizer/-innen/Terti\\u00e4rstufe\",\"Bildungsstand nach Aufenthaltsart/Total/Terti\\u00e4rstufe\",\"Bildungsstand nach Aufenthaltsart/Andere\",\"Bildungsstand nach Aufenthaltsart/Jahresaufenthalter/-innen (B)\",\"Bildungsstand nach Aufenthaltsart/Niedergelassene (C)\",\"Bildungsstand nach Aufenthaltsart/Schweizer/-innen\",\"Bildungsstand nach Aufenthaltsart/Total\",\"Bildungsstand nach Aufenthaltsart\"],\"labels\":[\"2020-01-01\",\"2020-01-01\",\"2020-01-01\",\"2020-01-01\",\"2020-01-01\",\"2020-01-01\",\"2020-01-01\",\"2020-01-01\",\"2020-01-01\",\"2020-01-01\",\"2020-01-01\",\"2020-01-01\",\"2020-01-01\",\"2020-01-01\",\"2020-01-01\",\"Obligatorische Schule\",\"Obligatorische Schule\",\"Obligatorische Schule\",\"Obligatorische Schule\",\"Obligatorische Schule\",\"Sekundarstufe II\",\"Sekundarstufe II\",\"Sekundarstufe II\",\"Sekundarstufe II\",\"Sekundarstufe II\",\"Terti\\u00e4rstufe\",\"Terti\\u00e4rstufe\",\"Terti\\u00e4rstufe\",\"Terti\\u00e4rstufe\",\"Terti\\u00e4rstufe\",\"Andere\",\"Jahresaufenthalter/-innen (B)\",\"Niedergelassene (C)\",\"Schweizer/-innen\",\"Total\",\"Bildungsstand nach Aufenthaltsart\"],\"marker\":{\"colors\":[\"#ab63fa\",\"#ab63fa\",\"#FFA15A\",\"#FFA15A\",\"#19d3f3\",\"#ab63fa\",\"#ab63fa\",\"#FFA15A\",\"#19d3f3\",\"#19d3f3\",\"#ab63fa\",\"#FFA15A\",\"#FFA15A\",\"#19d3f3\",\"#19d3f3\",\"#ab63fa\",\"#ab63fa\",\"#ab63fa\",\"#ab63fa\",\"#ab63fa\",\"#FFA15A\",\"#FFA15A\",\"#FFA15A\",\"#FFA15A\",\"#FFA15A\",\"#19d3f3\",\"#19d3f3\",\"#19d3f3\",\"#19d3f3\",\"#19d3f3\",\"lightgrey\",\"lightgrey\",\"lightgrey\",\"lightgrey\",\"lightgrey\",\"lightgrey\"]},\"name\":\"\",\"parents\":[\"Bildungsstand nach Aufenthaltsart/Andere/Obligatorische Schule\",\"Bildungsstand nach Aufenthaltsart/Schweizer/-innen/Obligatorische Schule\",\"Bildungsstand nach Aufenthaltsart/Jahresaufenthalter/-innen (B)/Sekundarstufe II\",\"Bildungsstand nach Aufenthaltsart/Total/Sekundarstufe II\",\"Bildungsstand nach Aufenthaltsart/Niedergelassene (C)/Terti\\u00e4rstufe\",\"Bildungsstand nach Aufenthaltsart/Jahresaufenthalter/-innen (B)/Obligatorische Schule\",\"Bildungsstand nach Aufenthaltsart/Total/Obligatorische Schule\",\"Bildungsstand nach Aufenthaltsart/Niedergelassene (C)/Sekundarstufe II\",\"Bildungsstand nach Aufenthaltsart/Andere/Terti\\u00e4rstufe\",\"Bildungsstand nach Aufenthaltsart/Schweizer/-innen/Terti\\u00e4rstufe\",\"Bildungsstand nach Aufenthaltsart/Niedergelassene (C)/Obligatorische Schule\",\"Bildungsstand nach Aufenthaltsart/Andere/Sekundarstufe II\",\"Bildungsstand nach Aufenthaltsart/Schweizer/-innen/Sekundarstufe II\",\"Bildungsstand nach Aufenthaltsart/Jahresaufenthalter/-innen (B)/Terti\\u00e4rstufe\",\"Bildungsstand nach Aufenthaltsart/Total/Terti\\u00e4rstufe\",\"Bildungsstand nach Aufenthaltsart/Andere\",\"Bildungsstand nach Aufenthaltsart/Jahresaufenthalter/-innen (B)\",\"Bildungsstand nach Aufenthaltsart/Niedergelassene (C)\",\"Bildungsstand nach Aufenthaltsart/Schweizer/-innen\",\"Bildungsstand nach Aufenthaltsart/Total\",\"Bildungsstand nach Aufenthaltsart/Andere\",\"Bildungsstand nach Aufenthaltsart/Jahresaufenthalter/-innen (B)\",\"Bildungsstand nach Aufenthaltsart/Niedergelassene (C)\",\"Bildungsstand nach Aufenthaltsart/Schweizer/-innen\",\"Bildungsstand nach Aufenthaltsart/Total\",\"Bildungsstand nach Aufenthaltsart/Andere\",\"Bildungsstand nach Aufenthaltsart/Jahresaufenthalter/-innen (B)\",\"Bildungsstand nach Aufenthaltsart/Niedergelassene (C)\",\"Bildungsstand nach Aufenthaltsart/Schweizer/-innen\",\"Bildungsstand nach Aufenthaltsart/Total\",\"Bildungsstand nach Aufenthaltsart\",\"Bildungsstand nach Aufenthaltsart\",\"Bildungsstand nach Aufenthaltsart\",\"Bildungsstand nach Aufenthaltsart\",\"Bildungsstand nach Aufenthaltsart\",\"\"],\"values\":[49.5,12.6,13.7,28.1,51.8,13.4,15.5,21.1,32.6,54.1,27.1,17.9,33.3,72.9,56.5,49.5,13.4,27.1,12.6,15.5,17.9,13.7,21.1,33.3,28.1,32.6,72.9,51.8,54.1,56.5,100.0,100.0,100.0,100.0,100.1,500.1],\"type\":\"treemap\",\"root\":{\"color\":\"grey\"}}],                        {\"template\":{\"data\":{\"bar\":[{\"error_x\":{\"color\":\"#2a3f5f\"},\"error_y\":{\"color\":\"#2a3f5f\"},\"marker\":{\"line\":{\"color\":\"#E5ECF6\",\"width\":0.5},\"pattern\":{\"fillmode\":\"overlay\",\"size\":10,\"solidity\":0.2}},\"type\":\"bar\"}],\"barpolar\":[{\"marker\":{\"line\":{\"color\":\"#E5ECF6\",\"width\":0.5},\"pattern\":{\"fillmode\":\"overlay\",\"size\":10,\"solidity\":0.2}},\"type\":\"barpolar\"}],\"carpet\":[{\"aaxis\":{\"endlinecolor\":\"#2a3f5f\",\"gridcolor\":\"white\",\"linecolor\":\"white\",\"minorgridcolor\":\"white\",\"startlinecolor\":\"#2a3f5f\"},\"baxis\":{\"endlinecolor\":\"#2a3f5f\",\"gridcolor\":\"white\",\"linecolor\":\"white\",\"minorgridcolor\":\"white\",\"startlinecolor\":\"#2a3f5f\"},\"type\":\"carpet\"}],\"choropleth\":[{\"colorbar\":{\"outlinewidth\":0,\"ticks\":\"\"},\"type\":\"choropleth\"}],\"contour\":[{\"colorbar\":{\"outlinewidth\":0,\"ticks\":\"\"},\"colorscale\":[[0.0,\"#0d0887\"],[0.1111111111111111,\"#46039f\"],[0.2222222222222222,\"#7201a8\"],[0.3333333333333333,\"#9c179e\"],[0.4444444444444444,\"#bd3786\"],[0.5555555555555556,\"#d8576b\"],[0.6666666666666666,\"#ed7953\"],[0.7777777777777778,\"#fb9f3a\"],[0.8888888888888888,\"#fdca26\"],[1.0,\"#f0f921\"]],\"type\":\"contour\"}],\"contourcarpet\":[{\"colorbar\":{\"outlinewidth\":0,\"ticks\":\"\"},\"type\":\"contourcarpet\"}],\"heatmap\":[{\"colorbar\":{\"outlinewidth\":0,\"ticks\":\"\"},\"colorscale\":[[0.0,\"#0d0887\"],[0.1111111111111111,\"#46039f\"],[0.2222222222222222,\"#7201a8\"],[0.3333333333333333,\"#9c179e\"],[0.4444444444444444,\"#bd3786\"],[0.5555555555555556,\"#d8576b\"],[0.6666666666666666,\"#ed7953\"],[0.7777777777777778,\"#fb9f3a\"],[0.8888888888888888,\"#fdca26\"],[1.0,\"#f0f921\"]],\"type\":\"heatmap\"}],\"heatmapgl\":[{\"colorbar\":{\"outlinewidth\":0,\"ticks\":\"\"},\"colorscale\":[[0.0,\"#0d0887\"],[0.1111111111111111,\"#46039f\"],[0.2222222222222222,\"#7201a8\"],[0.3333333333333333,\"#9c179e\"],[0.4444444444444444,\"#bd3786\"],[0.5555555555555556,\"#d8576b\"],[0.6666666666666666,\"#ed7953\"],[0.7777777777777778,\"#fb9f3a\"],[0.8888888888888888,\"#fdca26\"],[1.0,\"#f0f921\"]],\"type\":\"heatmapgl\"}],\"histogram\":[{\"marker\":{\"pattern\":{\"fillmode\":\"overlay\",\"size\":10,\"solidity\":0.2}},\"type\":\"histogram\"}],\"histogram2d\":[{\"colorbar\":{\"outlinewidth\":0,\"ticks\":\"\"},\"colorscale\":[[0.0,\"#0d0887\"],[0.1111111111111111,\"#46039f\"],[0.2222222222222222,\"#7201a8\"],[0.3333333333333333,\"#9c179e\"],[0.4444444444444444,\"#bd3786\"],[0.5555555555555556,\"#d8576b\"],[0.6666666666666666,\"#ed7953\"],[0.7777777777777778,\"#fb9f3a\"],[0.8888888888888888,\"#fdca26\"],[1.0,\"#f0f921\"]],\"type\":\"histogram2d\"}],\"histogram2dcontour\":[{\"colorbar\":{\"outlinewidth\":0,\"ticks\":\"\"},\"colorscale\":[[0.0,\"#0d0887\"],[0.1111111111111111,\"#46039f\"],[0.2222222222222222,\"#7201a8\"],[0.3333333333333333,\"#9c179e\"],[0.4444444444444444,\"#bd3786\"],[0.5555555555555556,\"#d8576b\"],[0.6666666666666666,\"#ed7953\"],[0.7777777777777778,\"#fb9f3a\"],[0.8888888888888888,\"#fdca26\"],[1.0,\"#f0f921\"]],\"type\":\"histogram2dcontour\"}],\"mesh3d\":[{\"colorbar\":{\"outlinewidth\":0,\"ticks\":\"\"},\"type\":\"mesh3d\"}],\"parcoords\":[{\"line\":{\"colorbar\":{\"outlinewidth\":0,\"ticks\":\"\"}},\"type\":\"parcoords\"}],\"pie\":[{\"automargin\":true,\"type\":\"pie\"}],\"scatter\":[{\"marker\":{\"colorbar\":{\"outlinewidth\":0,\"ticks\":\"\"}},\"type\":\"scatter\"}],\"scatter3d\":[{\"line\":{\"colorbar\":{\"outlinewidth\":0,\"ticks\":\"\"}},\"marker\":{\"colorbar\":{\"outlinewidth\":0,\"ticks\":\"\"}},\"type\":\"scatter3d\"}],\"scattercarpet\":[{\"marker\":{\"colorbar\":{\"outlinewidth\":0,\"ticks\":\"\"}},\"type\":\"scattercarpet\"}],\"scattergeo\":[{\"marker\":{\"colorbar\":{\"outlinewidth\":0,\"ticks\":\"\"}},\"type\":\"scattergeo\"}],\"scattergl\":[{\"marker\":{\"colorbar\":{\"outlinewidth\":0,\"ticks\":\"\"}},\"type\":\"scattergl\"}],\"scattermapbox\":[{\"marker\":{\"colorbar\":{\"outlinewidth\":0,\"ticks\":\"\"}},\"type\":\"scattermapbox\"}],\"scatterpolar\":[{\"marker\":{\"colorbar\":{\"outlinewidth\":0,\"ticks\":\"\"}},\"type\":\"scatterpolar\"}],\"scatterpolargl\":[{\"marker\":{\"colorbar\":{\"outlinewidth\":0,\"ticks\":\"\"}},\"type\":\"scatterpolargl\"}],\"scatterternary\":[{\"marker\":{\"colorbar\":{\"outlinewidth\":0,\"ticks\":\"\"}},\"type\":\"scatterternary\"}],\"surface\":[{\"colorbar\":{\"outlinewidth\":0,\"ticks\":\"\"},\"colorscale\":[[0.0,\"#0d0887\"],[0.1111111111111111,\"#46039f\"],[0.2222222222222222,\"#7201a8\"],[0.3333333333333333,\"#9c179e\"],[0.4444444444444444,\"#bd3786\"],[0.5555555555555556,\"#d8576b\"],[0.6666666666666666,\"#ed7953\"],[0.7777777777777778,\"#fb9f3a\"],[0.8888888888888888,\"#fdca26\"],[1.0,\"#f0f921\"]],\"type\":\"surface\"}],\"table\":[{\"cells\":{\"fill\":{\"color\":\"#EBF0F8\"},\"line\":{\"color\":\"white\"}},\"header\":{\"fill\":{\"color\":\"#C8D4E3\"},\"line\":{\"color\":\"white\"}},\"type\":\"table\"}]},\"layout\":{\"annotationdefaults\":{\"arrowcolor\":\"#2a3f5f\",\"arrowhead\":0,\"arrowwidth\":1},\"autotypenumbers\":\"strict\",\"coloraxis\":{\"colorbar\":{\"outlinewidth\":0,\"ticks\":\"\"}},\"colorscale\":{\"diverging\":[[0,\"#8e0152\"],[0.1,\"#c51b7d\"],[0.2,\"#de77ae\"],[0.3,\"#f1b6da\"],[0.4,\"#fde0ef\"],[0.5,\"#f7f7f7\"],[0.6,\"#e6f5d0\"],[0.7,\"#b8e186\"],[0.8,\"#7fbc41\"],[0.9,\"#4d9221\"],[1,\"#276419\"]],\"sequential\":[[0.0,\"#0d0887\"],[0.1111111111111111,\"#46039f\"],[0.2222222222222222,\"#7201a8\"],[0.3333333333333333,\"#9c179e\"],[0.4444444444444444,\"#bd3786\"],[0.5555555555555556,\"#d8576b\"],[0.6666666666666666,\"#ed7953\"],[0.7777777777777778,\"#fb9f3a\"],[0.8888888888888888,\"#fdca26\"],[1.0,\"#f0f921\"]],\"sequentialminus\":[[0.0,\"#0d0887\"],[0.1111111111111111,\"#46039f\"],[0.2222222222222222,\"#7201a8\"],[0.3333333333333333,\"#9c179e\"],[0.4444444444444444,\"#bd3786\"],[0.5555555555555556,\"#d8576b\"],[0.6666666666666666,\"#ed7953\"],[0.7777777777777778,\"#fb9f3a\"],[0.8888888888888888,\"#fdca26\"],[1.0,\"#f0f921\"]]},\"colorway\":[\"#636efa\",\"#EF553B\",\"#00cc96\",\"#ab63fa\",\"#FFA15A\",\"#19d3f3\",\"#FF6692\",\"#B6E880\",\"#FF97FF\",\"#FECB52\"],\"font\":{\"color\":\"#2a3f5f\"},\"geo\":{\"bgcolor\":\"white\",\"lakecolor\":\"white\",\"landcolor\":\"#E5ECF6\",\"showlakes\":true,\"showland\":true,\"subunitcolor\":\"white\"},\"hoverlabel\":{\"align\":\"left\"},\"hovermode\":\"closest\",\"mapbox\":{\"style\":\"light\"},\"paper_bgcolor\":\"white\",\"plot_bgcolor\":\"#E5ECF6\",\"polar\":{\"angularaxis\":{\"gridcolor\":\"white\",\"linecolor\":\"white\",\"ticks\":\"\"},\"bgcolor\":\"#E5ECF6\",\"radialaxis\":{\"gridcolor\":\"white\",\"linecolor\":\"white\",\"ticks\":\"\"}},\"scene\":{\"xaxis\":{\"backgroundcolor\":\"#E5ECF6\",\"gridcolor\":\"white\",\"gridwidth\":2,\"linecolor\":\"white\",\"showbackground\":true,\"ticks\":\"\",\"zerolinecolor\":\"white\"},\"yaxis\":{\"backgroundcolor\":\"#E5ECF6\",\"gridcolor\":\"white\",\"gridwidth\":2,\"linecolor\":\"white\",\"showbackground\":true,\"ticks\":\"\",\"zerolinecolor\":\"white\"},\"zaxis\":{\"backgroundcolor\":\"#E5ECF6\",\"gridcolor\":\"white\",\"gridwidth\":2,\"linecolor\":\"white\",\"showbackground\":true,\"ticks\":\"\",\"zerolinecolor\":\"white\"}},\"shapedefaults\":{\"line\":{\"color\":\"#2a3f5f\"}},\"ternary\":{\"aaxis\":{\"gridcolor\":\"white\",\"linecolor\":\"white\",\"ticks\":\"\"},\"baxis\":{\"gridcolor\":\"white\",\"linecolor\":\"white\",\"ticks\":\"\"},\"bgcolor\":\"#E5ECF6\",\"caxis\":{\"gridcolor\":\"white\",\"linecolor\":\"white\",\"ticks\":\"\"}},\"title\":{\"x\":0.05},\"xaxis\":{\"automargin\":true,\"gridcolor\":\"white\",\"linecolor\":\"white\",\"ticks\":\"\",\"title\":{\"standoff\":15},\"zerolinecolor\":\"white\",\"zerolinewidth\":2},\"yaxis\":{\"automargin\":true,\"gridcolor\":\"white\",\"linecolor\":\"white\",\"ticks\":\"\",\"title\":{\"standoff\":15},\"zerolinecolor\":\"white\",\"zerolinewidth\":2}}},\"legend\":{\"tracegroupgap\":0},\"margin\":{\"t\":50,\"l\":25,\"r\":250,\"b\":25},\"height\":400,\"width\":1100},                        {\"responsive\": true}                    ).then(function(){\n",
       "                            \n",
       "var gd = document.getElementById('09fd56af-945d-44ef-9dec-6de6e2908c99');\n",
       "var x = new MutationObserver(function (mutations, observer) {{\n",
       "        var display = window.getComputedStyle(gd).display;\n",
       "        if (!display || display === 'none') {{\n",
       "            console.log([gd, 'removed!']);\n",
       "            Plotly.purge(gd);\n",
       "            observer.disconnect();\n",
       "        }}\n",
       "}});\n",
       "\n",
       "// Listen for the removal of the full notebook cells\n",
       "var notebookContainer = gd.closest('#notebook-container');\n",
       "if (notebookContainer) {{\n",
       "    x.observe(notebookContainer, {childList: true});\n",
       "}}\n",
       "\n",
       "// Listen for the clearing of the current output cell\n",
       "var outputEl = gd.closest('.output');\n",
       "if (outputEl) {{\n",
       "    x.observe(outputEl, {childList: true});\n",
       "}}\n",
       "\n",
       "                        })                };                });            </script>        </div>"
      ]
     },
     "metadata": {},
     "output_type": "display_data"
    }
   ],
   "source": [
    "myTitle=\"Bildungsstand nach Aufenthaltsart\"\n",
    "\n",
    "fig = px.treemap(myTreemapAgg.reset_index(), path=[px.Constant(myTitle),'AufartLang', 'Bildungsstand', 'Jahr']\n",
    "                 , values='mean_AntBev'\n",
    "                 , color='Bildungsstand'\n",
    "                 ## bei discrete scales (bei Klassen und Strings):                 \n",
    "                 #, color_discrete_map={'(?)':'lightgrey','EVP':'gold', 'Ausländer/in':'#FF3030', 'PdA':'#EE3B3B', 'Grüne':'#A2CD5A','GLP':'#CAFF70','Die Mitte':'orange','FDP':'#104E8B','AL':'deeppink','SVP':'forestgreen', 'FL ZÜRI':'#8B864E','Volt':'#lightblue' }         \n",
    "                 , color_discrete_map={'(?)':'lightgrey','Schweizer/in':'gold', 'SP':'#FF3030' }                   ## bei continuous scales (bei Zahlenwerten):\n",
    "                , color_continuous_scale='Blues'\n",
    "                #, color_continuous_midpoint=np.average(df['AnzBestWir'], weights=df['AnzBestWir'])  \n",
    "                 ,height=400\n",
    "                 ,width=1100                 \n",
    "                )\n",
    "fig.update_traces(root_color=\"grey\")\n",
    "fig.update_layout(margin = dict(t=50, l=25, r=250, b=25))\n",
    "fig.show()"
   ]
  },
  {
   "cell_type": "markdown",
   "metadata": {
    "tags": []
   },
   "source": [
    "\n",
    "\n"
   ]
  },
  {
   "cell_type": "markdown",
   "metadata": {},
   "source": [
    "## ---------------------- hier Plausi beendet\n",
    "\n",
    "**Sharepoint als gecheckt markieren!**"
   ]
  },
  {
   "cell_type": "markdown",
   "metadata": {},
   "source": [
    "Record auf Sharepoint: **[Link](https://kollaboration.intranet.stzh.ch/orga/ssz-produkte/Lists/SASA_Outputs/DispForm.aspx?ID=922&ContentTypeId=0x0100988EAF029F1EFE4CA675F53C32A5D53D01006DBC563E6FBE9E4EB6FDC780799752E1)**\n",
    "\n",
    "---------------------------------------------------------------------------"
   ]
  },
  {
   "cell_type": "code",
   "execution_count": null,
   "metadata": {},
   "outputs": [],
   "source": []
  }
 ],
 "metadata": {
  "kernelspec": {
   "display_name": "Python 3 (ipykernel)",
   "language": "python",
   "name": "python3"
  },
  "language_info": {
   "codemirror_mode": {
    "name": "ipython",
    "version": 3
   },
   "file_extension": ".py",
   "mimetype": "text/x-python",
   "name": "python",
   "nbconvert_exporter": "python",
   "pygments_lexer": "ipython3",
   "version": "3.7.11"
  }
 },
 "nbformat": 4,
 "nbformat_minor": 4
}
