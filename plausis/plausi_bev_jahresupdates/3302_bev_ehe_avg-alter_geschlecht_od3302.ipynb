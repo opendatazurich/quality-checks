{
 "cells": [
  {
   "cell_type": "markdown",
   "metadata": {},
   "source": [
    "# Testing\n",
    "### Durchschnittliches Alter bei der Erstheirat, nach Geschlecht, seit 1993\n",
    "Datum: 02.11.2021"
   ]
  },
  {
   "cell_type": "code",
   "execution_count": 1,
   "metadata": {},
   "outputs": [],
   "source": [
    "#%pip install geopandas altair fiona requests folium mplleaflet contextily seaborn datetime plotly leafmap"
   ]
  },
  {
   "cell_type": "code",
   "execution_count": 39,
   "metadata": {},
   "outputs": [],
   "source": [
    "import pandas as pd\n",
    "import pivottablejs\n",
    "from pivottablejs import pivot_ui\n",
    "import numpy as np\n",
    "import altair as alt\n",
    "import matplotlib.pyplot as plt\n",
    "\n",
    "import datetime\n",
    "import geopandas as gpd\n",
    "import folium \n",
    "import plotly.express as px\n",
    "import seaborn as sns\n",
    "import leafmap\n",
    "\n",
    "import requests\n",
    "import io\n"
   ]
  },
  {
   "cell_type": "code",
   "execution_count": 40,
   "metadata": {},
   "outputs": [],
   "source": [
    "SSL_VERIFY = False\n",
    "# evtl. SSL_VERIFY auf False setzen wenn die Verbindung zu https://www.gemeinderat-zuerich.ch nicht klappt (z.B. wegen Proxy)\n",
    "# Um die SSL Verifikation auszustellen, bitte die nächste Zeile einkommentieren (\"#\" entfernen)\n",
    "# SSL_VERIFY = False"
   ]
  },
  {
   "cell_type": "code",
   "execution_count": 41,
   "metadata": {},
   "outputs": [],
   "source": [
    "if not SSL_VERIFY:\n",
    "    import urllib3\n",
    "    urllib3.disable_warnings()"
   ]
  },
  {
   "cell_type": "markdown",
   "metadata": {},
   "source": [
    "Definiere Settings. Hier das Zahlenformat von Float-Werten (z.B. *'{:,.2f}'.format* mit Komma als Tausenderzeichen), "
   ]
  },
  {
   "cell_type": "code",
   "execution_count": 42,
   "metadata": {},
   "outputs": [],
   "source": [
    "#pd.options.display.float_format = lambda x : '{:,.1f}'.format(x) if (np.isnan(x) | np.isinf(x)) else '{:,.0f}'.format(x) if int(x) == x else '{:,.1f}'.format(x)\n",
    "pd.options.display.float_format = '{:.0f}'.format\n",
    "pd.set_option('display.width', 100)\n",
    "pd.set_option('display.max_columns', 15)"
   ]
  },
  {
   "cell_type": "markdown",
   "metadata": {},
   "source": [
    "### Zeitvariabeln\n",
    "Bestimme den aktuellst geladenen Monat. Hier ist es der Stand vor 2 Monaten. \n",
    "Bestimme noch weitere evt. sinnvolle Zeitvariabeln.\n",
    "\n",
    "Zum Unterschied zwischen import datetime und from datedtime import datetime, siehe https://stackoverflow.com/questions/15707532/import-datetime-v-s-from-datetime-import-datetime\n",
    "\n",
    "Zuerst die Zeitvariabeln als Strings"
   ]
  },
  {
   "cell_type": "code",
   "execution_count": 43,
   "metadata": {},
   "outputs": [],
   "source": [
    "#today_date = datetime.date.today()\n",
    "#date_time = datetime.datetime.strptime(date_time_string, '%Y-%m-%d %H:%M')\n",
    "now = datetime.date.today()\n",
    "date_today = now.strftime(\"%Y-%m-%d\")\n",
    "year_today = now.strftime(\"%Y\")\n",
    "month_today = now.strftime(\"%m\")\n",
    "day_today = now.strftime(\"%d\")\n"
   ]
  },
  {
   "cell_type": "markdown",
   "metadata": {},
   "source": [
    "Und hier noch die Zeitvariabeln als Integers:\n",
    "- `aktuellesJahr`\n",
    "- `aktuellerMonat`: Der gerade jetzt aktuelle Monat\n",
    "- `selectedMonat`: Der aktuellste Monat in den Daten. In der Regel zwei Monate her."
   ]
  },
  {
   "cell_type": "code",
   "execution_count": 44,
   "metadata": {},
   "outputs": [
    {
     "name": "stdout",
     "output_type": "stream",
     "text": [
      "2022 11 datenstand:  9 time.struct_time(tm_year=2022, tm_mon=11, tm_mday=3, tm_hour=0, tm_min=0, tm_sec=0, tm_wday=3, tm_yday=307, tm_isdst=-1)\n"
     ]
    }
   ],
   "source": [
    "#now = datetime.now() \n",
    "int_times = now.timetuple()\n",
    "\n",
    "aktuellesJahr = int_times[0]\n",
    "aktuellerMonat = int_times[1]\n",
    "selectedMonat = int_times[1]-2\n",
    "\n",
    "print(aktuellesJahr, \n",
    "      aktuellerMonat,\n",
    "    'datenstand: ', selectedMonat,\n",
    "     int_times)\n"
   ]
  },
  {
   "cell_type": "markdown",
   "metadata": {},
   "source": [
    "Berechne die Variable Epoche um später das SAS-Datum in ein Unix-Datum umzuwandeln. Bei SAS beginnt die Epoche am 1.1.1960. Bei Unix am 1.1.1970.\n",
    "Diese Variable wird beim CSV-Import benötigt."
   ]
  },
  {
   "cell_type": "code",
   "execution_count": 45,
   "metadata": {},
   "outputs": [],
   "source": [
    "epoch = datetime.datetime(1960, 1, 1)"
   ]
  },
  {
   "cell_type": "markdown",
   "metadata": {},
   "source": [
    "### Setze einige Pfadvariabeln"
   ]
  },
  {
   "cell_type": "markdown",
   "metadata": {
    "tags": []
   },
   "source": [
    "- Der Packagename ist eigentlich der **Verzeichnisname** unter dem die Daten und Metadaten auf der Dropzone abgelegt werden.\n",
    "- Definiert wird er bei SASA-Prozessen auf dem **Produkte-Sharepoint ([Link](https://kollaboration.intranet.stzh.ch/orga/ssz-produkte/Lists/SASA_Outputs/PersonalViews.aspx?PageView=Personal&ShowWebPart={6087A3E7-8AC8-40BA-8278-DECFACE124FF}))**.\n",
    "- Der Packagename wird auf CKAN teil der URL, daher ist die exakte Schreibweise wichtig.\n",
    "\n",
    "Beachte: im Packagename müssen alle Buchstaben **klein** geschrieben werden. Dies weil CKAN aus grossen kleine Buchstaben macht."
   ]
  },
  {
   "cell_type": "markdown",
   "metadata": {},
   "source": [
    "**BITTE HIER ANPASSEN**"
   ]
  },
  {
   "cell_type": "code",
   "execution_count": 46,
   "metadata": {},
   "outputs": [],
   "source": [
    "package_name = \"bev_ehe_avg-alter_geschlecht_od3302\""
   ]
  },
  {
   "cell_type": "code",
   "execution_count": 47,
   "metadata": {
    "tags": []
   },
   "outputs": [],
   "source": [
    "dataset_name = \"BEV330OD3302.csv\""
   ]
  },
  {
   "cell_type": "markdown",
   "metadata": {},
   "source": [
    "**Statische Pfade in DWH-Dropzones**"
   ]
  },
  {
   "cell_type": "code",
   "execution_count": 48,
   "metadata": {},
   "outputs": [],
   "source": [
    "dropzone_path_integ = r\"\\\\szh\\ssz\\applikationen\\OGD_Dropzone\\INT_DWH\""
   ]
  },
  {
   "cell_type": "code",
   "execution_count": 49,
   "metadata": {
    "tags": []
   },
   "outputs": [],
   "source": [
    "dropzone_path_prod = r\"\\\\szh\\ssz\\applikationen\\OGD_Dropzone\\DWH\""
   ]
  },
  {
   "cell_type": "markdown",
   "metadata": {},
   "source": [
    "**Statische Pfade CKAN-URLs**"
   ]
  },
  {
   "cell_type": "code",
   "execution_count": 50,
   "metadata": {
    "tags": []
   },
   "outputs": [],
   "source": [
    "ckan_integ_url =\"https://data.integ.stadt-zuerich.ch/dataset/int_dwh_\""
   ]
  },
  {
   "cell_type": "code",
   "execution_count": 51,
   "metadata": {},
   "outputs": [],
   "source": [
    "ckan_prod_url =\"https://data.stadt-zuerich.ch/dataset/\""
   ]
  },
  {
   "cell_type": "markdown",
   "metadata": {},
   "source": [
    "### Checke die Metadaten auf der CKAN INTEG- oder PROD-Webseite\n",
    "\n",
    "Offenbar lassen sich aktuell im Markdownteil keine Variabeln ausführen, daher gehen wir wie unten gezeigt vor. Siehe dazu: https://data-dive.com/jupyterlab-markdown-cells-include-variables\n",
    "Instead of setting the cell to Markdown, create Markdown from withnin a code cell! We can just use python variable replacement syntax to make the text dynamic"
   ]
  },
  {
   "cell_type": "code",
   "execution_count": 52,
   "metadata": {},
   "outputs": [],
   "source": [
    "from IPython.display import Markdown as md"
   ]
  },
  {
   "cell_type": "code",
   "execution_count": 53,
   "metadata": {},
   "outputs": [
    {
     "data": {
      "text/markdown": [
       " **1. Dataset auf INTEG-Datakatalog:** Link https://data.integ.stadt-zuerich.ch/dataset/int_dwh_bev_ehe_avg-alter_geschlecht_od3302 "
      ],
      "text/plain": [
       "<IPython.core.display.Markdown object>"
      ]
     },
     "execution_count": 53,
     "metadata": {},
     "output_type": "execute_result"
    }
   ],
   "source": [
    "md(\" **1. Dataset auf INTEG-Datakatalog:** Link {} \".format(ckan_integ_url+package_name))"
   ]
  },
  {
   "cell_type": "code",
   "execution_count": 54,
   "metadata": {
    "tags": []
   },
   "outputs": [
    {
     "data": {
      "text/markdown": [
       " **2. Dataset auf PROD-Datakatalog:** Link https://data.stadt-zuerich.ch/dataset/bev_ehe_avg-alter_geschlecht_od3302 "
      ],
      "text/plain": [
       "<IPython.core.display.Markdown object>"
      ]
     },
     "execution_count": 54,
     "metadata": {},
     "output_type": "execute_result"
    }
   ],
   "source": [
    "md(\" **2. Dataset auf PROD-Datakatalog:** Link {} \".format(ckan_prod_url+package_name))"
   ]
  },
  {
   "cell_type": "markdown",
   "metadata": {
    "tags": []
   },
   "source": [
    "### Importiere einen Datensatz \n",
    "\n",
    "Definiere zuerst folgende Werte:\n",
    "1) Kommt der Datensatz von PROD oder INTEG?\n",
    "2) Beziehst Du den Datensatz direkt ab der DROPZONE oder aus dem INTERNET?"
   ]
  },
  {
   "cell_type": "code",
   "execution_count": 55,
   "metadata": {},
   "outputs": [
    {
     "name": "stdout",
     "output_type": "stream",
     "text": [
      "integ - dropzone\n"
     ]
    }
   ],
   "source": [
    "#Die Datasets sind nur zum Testen auf INT-DWH-Dropzone. Wenn der Test vorbei ist, sind sie auf PROD. \n",
    "# Über den Status kann man einfach switchen\n",
    "\n",
    "status = \"integ\"; #prod vs something else\n",
    "data_source = \"dropzone\"; #dropzone vs something else\n",
    "print(status+\" - \"+ data_source)"
   ]
  },
  {
   "cell_type": "code",
   "execution_count": 56,
   "metadata": {
    "tags": []
   },
   "outputs": [
    {
     "name": "stdout",
     "output_type": "stream",
     "text": [
      "fp lautet:\\\\szh\\ssz\\applikationen\\OGD_Dropzone\\INT_DWH\\bev_ehe_avg-alter_geschlecht_od3302\\BEV330OD3302.csv\n"
     ]
    }
   ],
   "source": [
    "# Filepath\n",
    "if status == \"prod\":\n",
    "    if data_source == \"dropzone\":\n",
    "            fp = dropzone_path_prod+\"\\\\\"+ package_name +\"\\\\\"+dataset_name\n",
    "            print(\"fp lautet:\"+fp)\n",
    "    else:\n",
    "        #fp = r\"https://data.stadt-zuerich.ch/dataset/bau_neubau_whg_bausm_rinh_geb_projstatus_quartier_seit2009_od5011/download/BAU501OD5011.csv\"\n",
    "        fp = ckan_prod_url+package_name+'/download/'+dataset_name\n",
    "        print(\"fp lautet:\"+fp)\n",
    "else:\n",
    "    if data_source == \"dropzone\":\n",
    "        fp = dropzone_path_integ+\"\\\\\"+ package_name +\"\\\\\"+dataset_name\n",
    "        print(\"fp lautet:\"+fp)\n",
    "    else:\n",
    "        #fp = r\"https://data.stadt-zuerich.ch/dataset/bau_neubau_whg_bausm_rinh_geb_projstatus_quartier_seit2009_od5011/download/BAU501OD5011.csv\"\n",
    "        fp = ckan_integ_url+package_name+'/download/'+dataset_name\n",
    "        print(\"fp lautet:\"+fp)\n"
   ]
  },
  {
   "cell_type": "markdown",
   "metadata": {},
   "source": [
    "Beachte, wie das SAS Datum (ohne Format) in ein UNIX Datum umgerechnet und als Datumsformat dargestellt wird! Siehe dazu `https://stackoverflow.com/questions/26923564/convert-sas-numeric-to-python-datetime`"
   ]
  },
  {
   "cell_type": "code",
   "execution_count": 57,
   "metadata": {},
   "outputs": [
    {
     "name": "stdout",
     "output_type": "stream",
     "text": [
      "dropzone\n"
     ]
    },
    {
     "data": {
      "text/plain": [
       "StichtagDatJahr    datetime64[ns]\n",
       "SexLang                    object\n",
       "SexCd                       int64\n",
       "DurchAlter                float64\n",
       "dtype: object"
      ]
     },
     "execution_count": 57,
     "metadata": {},
     "output_type": "execute_result"
    }
   ],
   "source": [
    "# Read the data\n",
    "if data_source == \"dropzone\":\n",
    "    data2betested = pd.read_csv(\n",
    "        fp\n",
    "        , sep=','\n",
    "        ,parse_dates=['StichtagDatJahr']\n",
    "        ,low_memory=False\n",
    "    )\n",
    "    print(\"dropzone\")\n",
    "else:\n",
    "    r = requests.get(fp, verify=False)  \n",
    "    r.encoding = 'utf-8'\n",
    "    data2betested = pd.read_csv(\n",
    "        io.StringIO(r.text)\n",
    "        ,parse_dates=['StichtagDatJahr']\n",
    "        # KONVERTIERE DAS SAS DATUM IN EIN UNIXDATUM UND FORMATIERE ES\n",
    "        #, date_parser=lambda s: epoch + datetime.timedelta(days=int(s))\n",
    "        ,low_memory=False)\n",
    "    print(\"web\")\n",
    "\n",
    "data2betested.dtypes"
   ]
  },
  {
   "cell_type": "markdown",
   "metadata": {},
   "source": [
    "Berechne weitere Attribute falls notwendig"
   ]
  },
  {
   "cell_type": "code",
   "execution_count": 58,
   "metadata": {},
   "outputs": [
    {
     "data": {
      "text/plain": [
       "StichtagDatJahr        datetime64[ns]\n",
       "SexLang                        object\n",
       "SexCd                           int64\n",
       "DurchAlter                    float64\n",
       "StichtagDatJahr_str            object\n",
       "dtype: object"
      ]
     },
     "execution_count": 58,
     "metadata": {},
     "output_type": "execute_result"
    }
   ],
   "source": [
    "data2betested = (\n",
    "    data2betested\n",
    "    .copy()\n",
    "    .assign(\n",
    "        #Aktualisierungs_Datum_str= lambda x: x.Aktualisierungs_Datum.astype(str),\n",
    "        StichtagDatJahr_str = lambda x: x.StichtagDatJahr.astype(str),\n",
    "    )\n",
    "    .sort_values('StichtagDatJahr', ascending=False)\n",
    "    )\n",
    "data2betested.dtypes"
   ]
  },
  {
   "cell_type": "markdown",
   "metadata": {},
   "source": [
    "### Einfache Datentests"
   ]
  },
  {
   "cell_type": "markdown",
   "metadata": {},
   "source": [
    " - 1) Zeige eine kurze Vorschau der importierten Daten\n",
    " - 2) Weise die Datentypen aus\n",
    " - 3) Zeige die Shape (Umfang) des Datensatzes an"
   ]
  },
  {
   "cell_type": "code",
   "execution_count": 59,
   "metadata": {},
   "outputs": [],
   "source": [
    "#data2betested.head(6)"
   ]
  },
  {
   "cell_type": "code",
   "execution_count": 60,
   "metadata": {},
   "outputs": [
    {
     "data": {
      "text/plain": [
       "StichtagDatJahr        datetime64[ns]\n",
       "SexLang                        object\n",
       "SexCd                           int64\n",
       "DurchAlter                    float64\n",
       "StichtagDatJahr_str            object\n",
       "dtype: object"
      ]
     },
     "execution_count": 60,
     "metadata": {},
     "output_type": "execute_result"
    }
   ],
   "source": [
    "data2betested.dtypes"
   ]
  },
  {
   "cell_type": "code",
   "execution_count": 61,
   "metadata": {},
   "outputs": [
    {
     "data": {
      "text/plain": [
       "(58, 5)"
      ]
     },
     "execution_count": 61,
     "metadata": {},
     "output_type": "execute_result"
    }
   ],
   "source": [
    "data2betested.shape"
   ]
  },
  {
   "cell_type": "markdown",
   "metadata": {},
   "source": [
    "Beschreibe einzelne Attribute"
   ]
  },
  {
   "cell_type": "code",
   "execution_count": 62,
   "metadata": {},
   "outputs": [
    {
     "data": {
      "text/html": [
       "<div>\n",
       "<style scoped>\n",
       "    .dataframe tbody tr th:only-of-type {\n",
       "        vertical-align: middle;\n",
       "    }\n",
       "\n",
       "    .dataframe tbody tr th {\n",
       "        vertical-align: top;\n",
       "    }\n",
       "\n",
       "    .dataframe thead th {\n",
       "        text-align: right;\n",
       "    }\n",
       "</style>\n",
       "<table border=\"1\" class=\"dataframe\">\n",
       "  <thead>\n",
       "    <tr style=\"text-align: right;\">\n",
       "      <th></th>\n",
       "      <th>SexCd</th>\n",
       "      <th>DurchAlter</th>\n",
       "    </tr>\n",
       "  </thead>\n",
       "  <tbody>\n",
       "    <tr>\n",
       "      <th>count</th>\n",
       "      <td>58</td>\n",
       "      <td>58</td>\n",
       "    </tr>\n",
       "    <tr>\n",
       "      <th>mean</th>\n",
       "      <td>2</td>\n",
       "      <td>31</td>\n",
       "    </tr>\n",
       "    <tr>\n",
       "      <th>std</th>\n",
       "      <td>1</td>\n",
       "      <td>2</td>\n",
       "    </tr>\n",
       "    <tr>\n",
       "      <th>min</th>\n",
       "      <td>1</td>\n",
       "      <td>27</td>\n",
       "    </tr>\n",
       "    <tr>\n",
       "      <th>25%</th>\n",
       "      <td>1</td>\n",
       "      <td>30</td>\n",
       "    </tr>\n",
       "    <tr>\n",
       "      <th>50%</th>\n",
       "      <td>2</td>\n",
       "      <td>31</td>\n",
       "    </tr>\n",
       "    <tr>\n",
       "      <th>75%</th>\n",
       "      <td>2</td>\n",
       "      <td>32</td>\n",
       "    </tr>\n",
       "    <tr>\n",
       "      <th>max</th>\n",
       "      <td>2</td>\n",
       "      <td>34</td>\n",
       "    </tr>\n",
       "  </tbody>\n",
       "</table>\n",
       "</div>"
      ],
      "text/plain": [
       "       SexCd  DurchAlter\n",
       "count     58          58\n",
       "mean       2          31\n",
       "std        1           2\n",
       "min        1          27\n",
       "25%        1          30\n",
       "50%        2          31\n",
       "75%        2          32\n",
       "max        2          34"
      ]
     },
     "execution_count": 62,
     "metadata": {},
     "output_type": "execute_result"
    }
   ],
   "source": [
    "data2betested.describe()"
   ]
  },
  {
   "cell_type": "markdown",
   "metadata": {},
   "source": [
    "Wie viele Nullwerte gibt es im Datensatz?"
   ]
  },
  {
   "cell_type": "code",
   "execution_count": 63,
   "metadata": {
    "scrolled": true
   },
   "outputs": [
    {
     "data": {
      "text/plain": [
       "StichtagDatJahr        0\n",
       "SexLang                0\n",
       "SexCd                  0\n",
       "DurchAlter             0\n",
       "StichtagDatJahr_str    0\n",
       "dtype: int64"
      ]
     },
     "execution_count": 63,
     "metadata": {},
     "output_type": "execute_result"
    }
   ],
   "source": [
    "data2betested.isnull().sum()"
   ]
  },
  {
   "cell_type": "markdown",
   "metadata": {},
   "source": [
    "Welches sind die Quartiere ohne Werte bei AnzBestWir?"
   ]
  },
  {
   "cell_type": "code",
   "execution_count": 64,
   "metadata": {},
   "outputs": [
    {
     "data": {
      "text/html": [
       "<div>\n",
       "<style scoped>\n",
       "    .dataframe tbody tr th:only-of-type {\n",
       "        vertical-align: middle;\n",
       "    }\n",
       "\n",
       "    .dataframe tbody tr th {\n",
       "        vertical-align: top;\n",
       "    }\n",
       "\n",
       "    .dataframe thead th {\n",
       "        text-align: right;\n",
       "    }\n",
       "</style>\n",
       "<table border=\"1\" class=\"dataframe\">\n",
       "  <thead>\n",
       "    <tr style=\"text-align: right;\">\n",
       "      <th></th>\n",
       "      <th>StichtagDatJahr</th>\n",
       "      <th>SexLang</th>\n",
       "      <th>SexCd</th>\n",
       "      <th>DurchAlter</th>\n",
       "      <th>StichtagDatJahr_str</th>\n",
       "    </tr>\n",
       "  </thead>\n",
       "  <tbody>\n",
       "  </tbody>\n",
       "</table>\n",
       "</div>"
      ],
      "text/plain": [
       "Empty DataFrame\n",
       "Columns: [StichtagDatJahr, SexLang, SexCd, DurchAlter, StichtagDatJahr_str]\n",
       "Index: []"
      ]
     },
     "execution_count": 64,
     "metadata": {},
     "output_type": "execute_result"
    }
   ],
   "source": [
    "data2betested[np.isnan(data2betested.DurchAlter)]"
   ]
  },
  {
   "cell_type": "markdown",
   "metadata": {
    "colab_type": "text",
    "id": "1dTPVmmsgOVx"
   },
   "source": [
    "### Verwende das Datum als Index\n",
    "\n",
    "While we did already parse the `datetime` column into the respective datetime type, it currently is just a regular column. \n",
    "**To enable quick and convenient queries and aggregations, we need to turn it into the index of the DataFrame**"
   ]
  },
  {
   "cell_type": "code",
   "execution_count": 65,
   "metadata": {},
   "outputs": [],
   "source": [
    "data2betested = data2betested.set_index(\"StichtagDatJahr\")"
   ]
  },
  {
   "cell_type": "code",
   "execution_count": 66,
   "metadata": {},
   "outputs": [
    {
     "name": "stdout",
     "output_type": "stream",
     "text": [
      "<class 'pandas.core.frame.DataFrame'>\n",
      "DatetimeIndex: 58 entries, 2021-01-01 to 1993-01-01\n",
      "Data columns (total 4 columns):\n",
      " #   Column               Non-Null Count  Dtype  \n",
      "---  ------               --------------  -----  \n",
      " 0   SexLang              58 non-null     object \n",
      " 1   SexCd                58 non-null     int64  \n",
      " 2   DurchAlter           58 non-null     float64\n",
      " 3   StichtagDatJahr_str  58 non-null     object \n",
      "dtypes: float64(1), int64(1), object(2)\n",
      "memory usage: 2.3+ KB\n"
     ]
    },
    {
     "data": {
      "text/plain": [
       "Int64Index([1], dtype='int64', name='StichtagDatJahr')"
      ]
     },
     "execution_count": 66,
     "metadata": {},
     "output_type": "execute_result"
    }
   ],
   "source": [
    "data2betested.info()\n",
    "data2betested.index.day.unique()"
   ]
  },
  {
   "cell_type": "markdown",
   "metadata": {},
   "source": [
    "### Einfache Visualisierungen zur Plausi"
   ]
  },
  {
   "cell_type": "markdown",
   "metadata": {},
   "source": [
    "Exploriere die Daten mit Pivottable.JS"
   ]
  },
  {
   "cell_type": "code",
   "execution_count": 71,
   "metadata": {},
   "outputs": [
    {
     "data": {
      "text/html": [
       "\n",
       "        <iframe\n",
       "            width=\"100%\"\n",
       "            height=\"500\"\n",
       "            src=\"pivottablejs.html\"\n",
       "            frameborder=\"0\"\n",
       "            allowfullscreen\n",
       "            \n",
       "        ></iframe>\n",
       "        "
      ],
      "text/plain": [
       "<IPython.lib.display.IFrame at 0x198da242148>"
      ]
     },
     "execution_count": 71,
     "metadata": {},
     "output_type": "execute_result"
    }
   ],
   "source": [
    "from pivottablejs import pivot_ui\n",
    "\n",
    "pivot_ui(data2betested)"
   ]
  },
  {
   "cell_type": "markdown",
   "metadata": {},
   "source": [
    "### Zeitpunkte und Zeiträume abfragen\n",
    "\n",
    "A particular powerful feature of the Pandas DataFrame is its indexing capability that also works using time-based entities, such as dates and times. We have already created the index above, so let's put it to use."
   ]
  },
  {
   "cell_type": "code",
   "execution_count": 72,
   "metadata": {},
   "outputs": [
    {
     "data": {
      "text/html": [
       "<div>\n",
       "<style scoped>\n",
       "    .dataframe tbody tr th:only-of-type {\n",
       "        vertical-align: middle;\n",
       "    }\n",
       "\n",
       "    .dataframe tbody tr th {\n",
       "        vertical-align: top;\n",
       "    }\n",
       "\n",
       "    .dataframe thead th {\n",
       "        text-align: right;\n",
       "    }\n",
       "</style>\n",
       "<table border=\"1\" class=\"dataframe\">\n",
       "  <thead>\n",
       "    <tr style=\"text-align: right;\">\n",
       "      <th></th>\n",
       "      <th>SexLang</th>\n",
       "      <th>SexCd</th>\n",
       "      <th>DurchAlter</th>\n",
       "      <th>StichtagDatJahr_str</th>\n",
       "    </tr>\n",
       "    <tr>\n",
       "      <th>StichtagDatJahr</th>\n",
       "      <th></th>\n",
       "      <th></th>\n",
       "      <th></th>\n",
       "      <th></th>\n",
       "    </tr>\n",
       "  </thead>\n",
       "  <tbody>\n",
       "    <tr>\n",
       "      <th>2021-01-01</th>\n",
       "      <td>männlich</td>\n",
       "      <td>1</td>\n",
       "      <td>34</td>\n",
       "      <td>2021-01-01</td>\n",
       "    </tr>\n",
       "    <tr>\n",
       "      <th>2021-01-01</th>\n",
       "      <td>weiblich</td>\n",
       "      <td>2</td>\n",
       "      <td>32</td>\n",
       "      <td>2021-01-01</td>\n",
       "    </tr>\n",
       "  </tbody>\n",
       "</table>\n",
       "</div>"
      ],
      "text/plain": [
       "                  SexLang  SexCd  DurchAlter StichtagDatJahr_str\n",
       "StichtagDatJahr                                                 \n",
       "2021-01-01       männlich      1          34          2021-01-01\n",
       "2021-01-01       weiblich      2          32          2021-01-01"
      ]
     },
     "execution_count": 72,
     "metadata": {},
     "output_type": "execute_result"
    }
   ],
   "source": [
    "data2betested.loc[\"2021\"].head(2)\n",
    "#data2betested.loc[\"2021-10-31\":\"2021-11-30\"].head(2)"
   ]
  },
  {
   "cell_type": "markdown",
   "metadata": {},
   "source": [
    "### Visualisierungen nach Zeitausschnitten"
   ]
  },
  {
   "cell_type": "markdown",
   "metadata": {
    "tags": []
   },
   "source": [
    "#### Entwicklung des Durchschnitssalters bei Erstheirat nach Geschlecht"
   ]
  },
  {
   "cell_type": "code",
   "execution_count": 82,
   "metadata": {},
   "outputs": [
    {
     "data": {
      "text/html": [
       "\n",
       "<div id=\"altair-viz-983ad08545904a87a50ac1bb27c255bc\"></div>\n",
       "<script type=\"text/javascript\">\n",
       "  (function(spec, embedOpt){\n",
       "    let outputDiv = document.currentScript.previousElementSibling;\n",
       "    if (outputDiv.id !== \"altair-viz-983ad08545904a87a50ac1bb27c255bc\") {\n",
       "      outputDiv = document.getElementById(\"altair-viz-983ad08545904a87a50ac1bb27c255bc\");\n",
       "    }\n",
       "    const paths = {\n",
       "      \"vega\": \"https://cdn.jsdelivr.net/npm//vega@5?noext\",\n",
       "      \"vega-lib\": \"https://cdn.jsdelivr.net/npm//vega-lib?noext\",\n",
       "      \"vega-lite\": \"https://cdn.jsdelivr.net/npm//vega-lite@4.8.1?noext\",\n",
       "      \"vega-embed\": \"https://cdn.jsdelivr.net/npm//vega-embed@6?noext\",\n",
       "    };\n",
       "\n",
       "    function loadScript(lib) {\n",
       "      return new Promise(function(resolve, reject) {\n",
       "        var s = document.createElement('script');\n",
       "        s.src = paths[lib];\n",
       "        s.async = true;\n",
       "        s.onload = () => resolve(paths[lib]);\n",
       "        s.onerror = () => reject(`Error loading script: ${paths[lib]}`);\n",
       "        document.getElementsByTagName(\"head\")[0].appendChild(s);\n",
       "      });\n",
       "    }\n",
       "\n",
       "    function showError(err) {\n",
       "      outputDiv.innerHTML = `<div class=\"error\" style=\"color:red;\">${err}</div>`;\n",
       "      throw err;\n",
       "    }\n",
       "\n",
       "    function displayChart(vegaEmbed) {\n",
       "      vegaEmbed(outputDiv, spec, embedOpt)\n",
       "        .catch(err => showError(`Javascript Error: ${err.message}<br>This usually means there's a typo in your chart specification. See the javascript console for the full traceback.`));\n",
       "    }\n",
       "\n",
       "    if(typeof define === \"function\" && define.amd) {\n",
       "      requirejs.config({paths});\n",
       "      require([\"vega-embed\"], displayChart, err => showError(`Error loading script: ${err.message}`));\n",
       "    } else if (typeof vegaEmbed === \"function\") {\n",
       "      displayChart(vegaEmbed);\n",
       "    } else {\n",
       "      loadScript(\"vega\")\n",
       "        .then(() => loadScript(\"vega-lite\"))\n",
       "        .then(() => loadScript(\"vega-embed\"))\n",
       "        .catch(showError)\n",
       "        .then(() => displayChart(vegaEmbed));\n",
       "    }\n",
       "  })({\"config\": {\"view\": {\"continuousWidth\": 400, \"continuousHeight\": 300}}, \"layer\": [{\"mark\": \"circle\", \"encoding\": {\"color\": {\"type\": \"nominal\", \"field\": \"SexLang\", \"legend\": {\"orient\": \"right\", \"title\": \"Geschlecht\"}}, \"opacity\": {\"value\": 2}, \"tooltip\": [{\"type\": \"temporal\", \"field\": \"StichtagDatJahr\"}, {\"type\": \"quantitative\", \"field\": \"DurchAlter\"}, {\"type\": \"nominal\", \"field\": \"SexLang\"}], \"x\": {\"type\": \"temporal\", \"axis\": {\"title\": \"Jahr\"}, \"field\": \"StichtagDatJahr\"}, \"y\": {\"type\": \"quantitative\", \"axis\": {\"title\": \"Durchschnittsalter\"}, \"field\": \"DurchAlter\"}}, \"height\": 300, \"selection\": {\"selector026\": {\"type\": \"single\", \"on\": \"mouseover\", \"fields\": [\"SexLang\"], \"nearest\": true}}, \"title\": \"Wohnbev\\u00f6lkerung nach Durchschnittsalter bei Erstheirat nach Geschlecht\", \"width\": 700}, {\"mark\": \"line\", \"encoding\": {\"color\": {\"type\": \"nominal\", \"field\": \"SexLang\", \"legend\": {\"orient\": \"right\", \"title\": \"Geschlecht\"}}, \"size\": {\"condition\": {\"value\": 1.5, \"selection\": {\"not\": \"selector026\"}}, \"value\": 4}, \"tooltip\": [{\"type\": \"temporal\", \"field\": \"StichtagDatJahr\"}, {\"type\": \"quantitative\", \"field\": \"DurchAlter\"}, {\"type\": \"nominal\", \"field\": \"SexLang\"}], \"x\": {\"type\": \"temporal\", \"axis\": {\"title\": \"Jahr\"}, \"field\": \"StichtagDatJahr\"}, \"y\": {\"type\": \"quantitative\", \"axis\": {\"title\": \"Durchschnittsalter\"}, \"field\": \"DurchAlter\"}}, \"selection\": {\"selector027\": {\"type\": \"interval\", \"bind\": \"scales\", \"encodings\": [\"x\", \"y\"]}}, \"title\": \"Wohnbev\\u00f6lkerung nach Durchschnittsalter bei Erstheirat nach Geschlecht\"}], \"data\": {\"name\": \"data-67ff1737359fa461dc349694a7d8a000\"}, \"$schema\": \"https://vega.github.io/schema/vega-lite/v4.8.1.json\", \"datasets\": {\"data-67ff1737359fa461dc349694a7d8a000\": [{\"StichtagDatJahr\": \"2021-01-01T00:00:00\", \"SexLang\": \"m\\u00e4nnlich\", \"SexCd\": 1, \"DurchAlter\": 34.2, \"StichtagDatJahr_str\": \"2021-01-01\"}, {\"StichtagDatJahr\": \"2021-01-01T00:00:00\", \"SexLang\": \"weiblich\", \"SexCd\": 2, \"DurchAlter\": 32.2, \"StichtagDatJahr_str\": \"2021-01-01\"}, {\"StichtagDatJahr\": \"2020-01-01T00:00:00\", \"SexLang\": \"m\\u00e4nnlich\", \"SexCd\": 1, \"DurchAlter\": 34.5, \"StichtagDatJahr_str\": \"2020-01-01\"}, {\"StichtagDatJahr\": \"2020-01-01T00:00:00\", \"SexLang\": \"weiblich\", \"SexCd\": 2, \"DurchAlter\": 32.2, \"StichtagDatJahr_str\": \"2020-01-01\"}, {\"StichtagDatJahr\": \"2019-01-01T00:00:00\", \"SexLang\": \"m\\u00e4nnlich\", \"SexCd\": 1, \"DurchAlter\": 34.1, \"StichtagDatJahr_str\": \"2019-01-01\"}, {\"StichtagDatJahr\": \"2019-01-01T00:00:00\", \"SexLang\": \"weiblich\", \"SexCd\": 2, \"DurchAlter\": 31.9, \"StichtagDatJahr_str\": \"2019-01-01\"}, {\"StichtagDatJahr\": \"2018-01-01T00:00:00\", \"SexLang\": \"m\\u00e4nnlich\", \"SexCd\": 1, \"DurchAlter\": 33.7, \"StichtagDatJahr_str\": \"2018-01-01\"}, {\"StichtagDatJahr\": \"2018-01-01T00:00:00\", \"SexLang\": \"weiblich\", \"SexCd\": 2, \"DurchAlter\": 31.5, \"StichtagDatJahr_str\": \"2018-01-01\"}, {\"StichtagDatJahr\": \"2017-01-01T00:00:00\", \"SexLang\": \"m\\u00e4nnlich\", \"SexCd\": 1, \"DurchAlter\": 34.1, \"StichtagDatJahr_str\": \"2017-01-01\"}, {\"StichtagDatJahr\": \"2017-01-01T00:00:00\", \"SexLang\": \"weiblich\", \"SexCd\": 2, \"DurchAlter\": 31.8, \"StichtagDatJahr_str\": \"2017-01-01\"}, {\"StichtagDatJahr\": \"2016-01-01T00:00:00\", \"SexLang\": \"m\\u00e4nnlich\", \"SexCd\": 1, \"DurchAlter\": 33.6, \"StichtagDatJahr_str\": \"2016-01-01\"}, {\"StichtagDatJahr\": \"2016-01-01T00:00:00\", \"SexLang\": \"weiblich\", \"SexCd\": 2, \"DurchAlter\": 31.4, \"StichtagDatJahr_str\": \"2016-01-01\"}, {\"StichtagDatJahr\": \"2015-01-01T00:00:00\", \"SexLang\": \"m\\u00e4nnlich\", \"SexCd\": 1, \"DurchAlter\": 33.7, \"StichtagDatJahr_str\": \"2015-01-01\"}, {\"StichtagDatJahr\": \"2015-01-01T00:00:00\", \"SexLang\": \"weiblich\", \"SexCd\": 2, \"DurchAlter\": 31.4, \"StichtagDatJahr_str\": \"2015-01-01\"}, {\"StichtagDatJahr\": \"2014-01-01T00:00:00\", \"SexLang\": \"m\\u00e4nnlich\", \"SexCd\": 1, \"DurchAlter\": 33.6, \"StichtagDatJahr_str\": \"2014-01-01\"}, {\"StichtagDatJahr\": \"2014-01-01T00:00:00\", \"SexLang\": \"weiblich\", \"SexCd\": 2, \"DurchAlter\": 31.3, \"StichtagDatJahr_str\": \"2014-01-01\"}, {\"StichtagDatJahr\": \"2013-01-01T00:00:00\", \"SexLang\": \"m\\u00e4nnlich\", \"SexCd\": 1, \"DurchAlter\": 33.7, \"StichtagDatJahr_str\": \"2013-01-01\"}, {\"StichtagDatJahr\": \"2013-01-01T00:00:00\", \"SexLang\": \"weiblich\", \"SexCd\": 2, \"DurchAlter\": 31.3, \"StichtagDatJahr_str\": \"2013-01-01\"}, {\"StichtagDatJahr\": \"2012-01-01T00:00:00\", \"SexLang\": \"m\\u00e4nnlich\", \"SexCd\": 1, \"DurchAlter\": 33.3, \"StichtagDatJahr_str\": \"2012-01-01\"}, {\"StichtagDatJahr\": \"2012-01-01T00:00:00\", \"SexLang\": \"weiblich\", \"SexCd\": 2, \"DurchAlter\": 31.0, \"StichtagDatJahr_str\": \"2012-01-01\"}, {\"StichtagDatJahr\": \"2011-01-01T00:00:00\", \"SexLang\": \"m\\u00e4nnlich\", \"SexCd\": 1, \"DurchAlter\": 33.1, \"StichtagDatJahr_str\": \"2011-01-01\"}, {\"StichtagDatJahr\": \"2011-01-01T00:00:00\", \"SexLang\": \"weiblich\", \"SexCd\": 2, \"DurchAlter\": 30.7, \"StichtagDatJahr_str\": \"2011-01-01\"}, {\"StichtagDatJahr\": \"2010-01-01T00:00:00\", \"SexLang\": \"m\\u00e4nnlich\", \"SexCd\": 1, \"DurchAlter\": 32.9, \"StichtagDatJahr_str\": \"2010-01-01\"}, {\"StichtagDatJahr\": \"2010-01-01T00:00:00\", \"SexLang\": \"weiblich\", \"SexCd\": 2, \"DurchAlter\": 30.6, \"StichtagDatJahr_str\": \"2010-01-01\"}, {\"StichtagDatJahr\": \"2009-01-01T00:00:00\", \"SexLang\": \"m\\u00e4nnlich\", \"SexCd\": 1, \"DurchAlter\": 32.9, \"StichtagDatJahr_str\": \"2009-01-01\"}, {\"StichtagDatJahr\": \"2009-01-01T00:00:00\", \"SexLang\": \"weiblich\", \"SexCd\": 2, \"DurchAlter\": 30.6, \"StichtagDatJahr_str\": \"2009-01-01\"}, {\"StichtagDatJahr\": \"2008-01-01T00:00:00\", \"SexLang\": \"weiblich\", \"SexCd\": 2, \"DurchAlter\": 30.2, \"StichtagDatJahr_str\": \"2008-01-01\"}, {\"StichtagDatJahr\": \"2008-01-01T00:00:00\", \"SexLang\": \"m\\u00e4nnlich\", \"SexCd\": 1, \"DurchAlter\": 32.6, \"StichtagDatJahr_str\": \"2008-01-01\"}, {\"StichtagDatJahr\": \"2007-01-01T00:00:00\", \"SexLang\": \"m\\u00e4nnlich\", \"SexCd\": 1, \"DurchAlter\": 32.3, \"StichtagDatJahr_str\": \"2007-01-01\"}, {\"StichtagDatJahr\": \"2007-01-01T00:00:00\", \"SexLang\": \"weiblich\", \"SexCd\": 2, \"DurchAlter\": 29.8, \"StichtagDatJahr_str\": \"2007-01-01\"}, {\"StichtagDatJahr\": \"2006-01-01T00:00:00\", \"SexLang\": \"m\\u00e4nnlich\", \"SexCd\": 1, \"DurchAlter\": 32.2, \"StichtagDatJahr_str\": \"2006-01-01\"}, {\"StichtagDatJahr\": \"2006-01-01T00:00:00\", \"SexLang\": \"weiblich\", \"SexCd\": 2, \"DurchAlter\": 29.8, \"StichtagDatJahr_str\": \"2006-01-01\"}, {\"StichtagDatJahr\": \"2005-01-01T00:00:00\", \"SexLang\": \"m\\u00e4nnlich\", \"SexCd\": 1, \"DurchAlter\": 32.0, \"StichtagDatJahr_str\": \"2005-01-01\"}, {\"StichtagDatJahr\": \"2005-01-01T00:00:00\", \"SexLang\": \"weiblich\", \"SexCd\": 2, \"DurchAlter\": 29.6, \"StichtagDatJahr_str\": \"2005-01-01\"}, {\"StichtagDatJahr\": \"2004-01-01T00:00:00\", \"SexLang\": \"m\\u00e4nnlich\", \"SexCd\": 1, \"DurchAlter\": 31.6, \"StichtagDatJahr_str\": \"2004-01-01\"}, {\"StichtagDatJahr\": \"2004-01-01T00:00:00\", \"SexLang\": \"weiblich\", \"SexCd\": 2, \"DurchAlter\": 29.4, \"StichtagDatJahr_str\": \"2004-01-01\"}, {\"StichtagDatJahr\": \"2003-01-01T00:00:00\", \"SexLang\": \"m\\u00e4nnlich\", \"SexCd\": 1, \"DurchAlter\": 31.2, \"StichtagDatJahr_str\": \"2003-01-01\"}, {\"StichtagDatJahr\": \"2003-01-01T00:00:00\", \"SexLang\": \"weiblich\", \"SexCd\": 2, \"DurchAlter\": 28.7, \"StichtagDatJahr_str\": \"2003-01-01\"}, {\"StichtagDatJahr\": \"2002-01-01T00:00:00\", \"SexLang\": \"m\\u00e4nnlich\", \"SexCd\": 1, \"DurchAlter\": 31.1, \"StichtagDatJahr_str\": \"2002-01-01\"}, {\"StichtagDatJahr\": \"2002-01-01T00:00:00\", \"SexLang\": \"weiblich\", \"SexCd\": 2, \"DurchAlter\": 28.6, \"StichtagDatJahr_str\": \"2002-01-01\"}, {\"StichtagDatJahr\": \"2001-01-01T00:00:00\", \"SexLang\": \"weiblich\", \"SexCd\": 2, \"DurchAlter\": 28.4, \"StichtagDatJahr_str\": \"2001-01-01\"}, {\"StichtagDatJahr\": \"2001-01-01T00:00:00\", \"SexLang\": \"m\\u00e4nnlich\", \"SexCd\": 1, \"DurchAlter\": 31.0, \"StichtagDatJahr_str\": \"2001-01-01\"}, {\"StichtagDatJahr\": \"2000-01-01T00:00:00\", \"SexLang\": \"weiblich\", \"SexCd\": 2, \"DurchAlter\": 28.3, \"StichtagDatJahr_str\": \"2000-01-01\"}, {\"StichtagDatJahr\": \"2000-01-01T00:00:00\", \"SexLang\": \"m\\u00e4nnlich\", \"SexCd\": 1, \"DurchAlter\": 30.7, \"StichtagDatJahr_str\": \"2000-01-01\"}, {\"StichtagDatJahr\": \"1999-01-01T00:00:00\", \"SexLang\": \"m\\u00e4nnlich\", \"SexCd\": 1, \"DurchAlter\": 30.9, \"StichtagDatJahr_str\": \"1999-01-01\"}, {\"StichtagDatJahr\": \"1999-01-01T00:00:00\", \"SexLang\": \"weiblich\", \"SexCd\": 2, \"DurchAlter\": 28.3, \"StichtagDatJahr_str\": \"1999-01-01\"}, {\"StichtagDatJahr\": \"1998-01-01T00:00:00\", \"SexLang\": \"m\\u00e4nnlich\", \"SexCd\": 1, \"DurchAlter\": 30.5, \"StichtagDatJahr_str\": \"1998-01-01\"}, {\"StichtagDatJahr\": \"1998-01-01T00:00:00\", \"SexLang\": \"weiblich\", \"SexCd\": 2, \"DurchAlter\": 28.0, \"StichtagDatJahr_str\": \"1998-01-01\"}, {\"StichtagDatJahr\": \"1997-01-01T00:00:00\", \"SexLang\": \"m\\u00e4nnlich\", \"SexCd\": 1, \"DurchAlter\": 30.3, \"StichtagDatJahr_str\": \"1997-01-01\"}, {\"StichtagDatJahr\": \"1997-01-01T00:00:00\", \"SexLang\": \"weiblich\", \"SexCd\": 2, \"DurchAlter\": 27.9, \"StichtagDatJahr_str\": \"1997-01-01\"}, {\"StichtagDatJahr\": \"1996-01-01T00:00:00\", \"SexLang\": \"m\\u00e4nnlich\", \"SexCd\": 1, \"DurchAlter\": 30.0, \"StichtagDatJahr_str\": \"1996-01-01\"}, {\"StichtagDatJahr\": \"1996-01-01T00:00:00\", \"SexLang\": \"weiblich\", \"SexCd\": 2, \"DurchAlter\": 27.4, \"StichtagDatJahr_str\": \"1996-01-01\"}, {\"StichtagDatJahr\": \"1995-01-01T00:00:00\", \"SexLang\": \"m\\u00e4nnlich\", \"SexCd\": 1, \"DurchAlter\": 30.0, \"StichtagDatJahr_str\": \"1995-01-01\"}, {\"StichtagDatJahr\": \"1995-01-01T00:00:00\", \"SexLang\": \"weiblich\", \"SexCd\": 2, \"DurchAlter\": 27.6, \"StichtagDatJahr_str\": \"1995-01-01\"}, {\"StichtagDatJahr\": \"1994-01-01T00:00:00\", \"SexLang\": \"weiblich\", \"SexCd\": 2, \"DurchAlter\": 27.4, \"StichtagDatJahr_str\": \"1994-01-01\"}, {\"StichtagDatJahr\": \"1994-01-01T00:00:00\", \"SexLang\": \"m\\u00e4nnlich\", \"SexCd\": 1, \"DurchAlter\": 29.9, \"StichtagDatJahr_str\": \"1994-01-01\"}, {\"StichtagDatJahr\": \"1993-01-01T00:00:00\", \"SexLang\": \"m\\u00e4nnlich\", \"SexCd\": 1, \"DurchAlter\": 29.8, \"StichtagDatJahr_str\": \"1993-01-01\"}, {\"StichtagDatJahr\": \"1993-01-01T00:00:00\", \"SexLang\": \"weiblich\", \"SexCd\": 2, \"DurchAlter\": 27.5, \"StichtagDatJahr_str\": \"1993-01-01\"}]}}, {\"mode\": \"vega-lite\"});\n",
       "</script>"
      ],
      "text/plain": [
       "alt.LayerChart(...)"
      ]
     },
     "execution_count": 82,
     "metadata": {},
     "output_type": "execute_result"
    }
   ],
   "source": [
    "myTitle=\"Wohnbevölkerung nach Durchschnittsalter bei Erstheirat nach Geschlecht\"\n",
    "\n",
    "highlight = alt.selection(type='single', on='mouseover',\n",
    "                          fields=['SexLang'], nearest=True)\n",
    "\n",
    "base = alt.Chart(data2betested.reset_index().query('DurchAlter>3'), title=myTitle).encode(\n",
    "    x=alt.X('StichtagDatJahr:T', axis=alt.Axis(title='Jahr'))# , axis=alt.Axis(format='%', title='percentage')\n",
    "    , y=alt.X('DurchAlter', axis=alt.Axis(title='Durchschnittsalter'))\n",
    "    , color=alt.Color('SexLang:N', legend=alt.Legend(title=\"Geschlecht\", orient=\"right\"))  #legend=alt.Legend(title=\"Stadtkreis\", orient=\"right\"), scale=alt.Scale(scheme='goldgreen'))      \n",
    "    ,tooltip=['StichtagDatJahr', 'DurchAlter','SexLang']    \n",
    ")\n",
    " \n",
    "points = base.mark_circle().encode(\n",
    "    opacity=alt.value(2)\n",
    ").add_selection(\n",
    "    highlight\n",
    ").properties(\n",
    "    width=700 , height=300\n",
    ")\n",
    "lines = base.mark_line().encode(\n",
    "    size=alt.condition(~highlight, alt.value(1.5), alt.value(4))\n",
    ").interactive()\n",
    "\n",
    "points + lines"
   ]
  },
  {
   "cell_type": "markdown",
   "metadata": {},
   "source": [
    "**Sharepoint als gecheckt markieren!**"
   ]
  },
  {
   "cell_type": "markdown",
   "metadata": {},
   "source": [
    "Record auf Sharepoint: **[Link](https://kollaboration.intranet.stzh.ch/orga/ssz-produkte/Lists/SASA_Outputs/DispForm.aspx?ID=199&ContentTypeId=0x0100988EAF029F1EFE4CA675F53C32A5D53D01006DBC563E6FBE9E4EB6FDC780799752E1)**"
   ]
  },
  {
   "cell_type": "raw",
   "metadata": {},
   "source": []
  },
  {
   "cell_type": "code",
   "execution_count": null,
   "metadata": {},
   "outputs": [],
   "source": []
  }
 ],
 "metadata": {
  "kernelspec": {
   "display_name": "Python 3 (ipykernel)",
   "language": "python",
   "name": "python3"
  },
  "language_info": {
   "codemirror_mode": {
    "name": "ipython",
    "version": 3
   },
   "file_extension": ".py",
   "mimetype": "text/x-python",
   "name": "python",
   "nbconvert_exporter": "python",
   "pygments_lexer": "ipython3",
   "version": "3.7.11"
  }
 },
 "nbformat": 4,
 "nbformat_minor": 4
}
