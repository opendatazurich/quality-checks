{
 "cells": [
  {
   "cell_type": "markdown",
   "metadata": {},
   "source": [
    "# Testing\n",
    "### Eintragung und Auflösung von Partnerschaften nach Geschlecht, seit 2014\n",
    "Datum: 02.11.2021"
   ]
  },
  {
   "cell_type": "markdown",
   "metadata": {},
   "source": [
    "**Importiere die notwendigen Packages**"
   ]
  },
  {
   "cell_type": "code",
   "execution_count": 1,
   "metadata": {},
   "outputs": [],
   "source": [
    "#pip install geopandas fiona requests folium mplleaflet contextily"
   ]
  },
  {
   "cell_type": "code",
   "execution_count": 18,
   "metadata": {},
   "outputs": [],
   "source": [
    "import pandas as pd\n",
    "import pivottablejs\n",
    "from pivottablejs import pivot_ui\n",
    "import numpy as np\n",
    "import altair as alt\n",
    "import matplotlib.pyplot as plt\n",
    "from datetime import datetime\n",
    "import geopandas as gpd\n",
    "import folium \n",
    "\n"
   ]
  },
  {
   "cell_type": "markdown",
   "metadata": {},
   "source": [
    "Definiere Settings. Hier das Zahlenformat von Float-Werten (z.B. *'{:,.2f}'.format* mit Komma als Tausenderzeichen), "
   ]
  },
  {
   "cell_type": "code",
   "execution_count": 19,
   "metadata": {},
   "outputs": [],
   "source": [
    "pd.options.display.float_format = '{:.0f}'.format\n",
    "pd.set_option('display.width', 100)\n",
    "pd.set_option('display.max_columns', 15)"
   ]
  },
  {
   "cell_type": "markdown",
   "metadata": {},
   "source": [
    "Importiere einen Datensatz von der **DWH_INT** Dropzone.\n",
    "\n",
    "- Beachte dabei die Notation des Pfades...\n",
    "- Definiere mal aktuell noch keine weiteren Parameter beim Import"
   ]
  },
  {
   "cell_type": "markdown",
   "metadata": {},
   "source": [
    "**Dataset auf INTEG Datenkatalog**: https://data.integ.stadt-zuerich.ch/dataset/int_dwh_bev_partnerschaft_geschlecht_seit2014_od3320\n",
    "\n",
    "(int_dwh)"
   ]
  },
  {
   "cell_type": "code",
   "execution_count": 20,
   "metadata": {},
   "outputs": [],
   "source": [
    "# Filepath\n",
    "fp = r\"\\\\szh\\ssz\\applikationen\\OGD_Dropzone\\INT_DWH\\bev_partnerschaft_geschlecht_seit2014_od3320\\BEV332OD3320.csv\"\n",
    "\n",
    "\n",
    "# Read the data\n",
    "data2betested = pd.read_csv(\n",
    "    fp, \n",
    "    sep=',',\n",
    "   #usecols=[0,1,2,3,4,6],\n",
    "   #names=['stationid','year','month','avgtemp','latitude','longitude','elevation','station','countryid','country'],\n",
    "   #skiprows=1,\n",
    "   # parse_dates=[0],\n",
    "    parse_dates=True,\n",
    "    #date_parser=lambda x: pd.to_datetime(x, format=\"%Y\"), \n",
    "    #index_col=\"date_time\",\n",
    "    low_memory=False    \n",
    "    )\n"
   ]
  },
  {
   "cell_type": "markdown",
   "metadata": {},
   "source": [
    "In der Folge ein paar erste Tests:"
   ]
  },
  {
   "cell_type": "code",
   "execution_count": 21,
   "metadata": {},
   "outputs": [
    {
     "data": {
      "text/plain": [
       "pandas.core.frame.DataFrame"
      ]
     },
     "execution_count": 21,
     "metadata": {},
     "output_type": "execute_result"
    }
   ],
   "source": [
    "type(data2betested)"
   ]
  },
  {
   "cell_type": "markdown",
   "metadata": {},
   "source": [
    " - 1) Zeige eine kurze Vorschau der importierten Daten\n",
    " - 2) Weise die Datentypen aus\n",
    " - 3) Zeige die Shape (Umfang) des Datensatzes an"
   ]
  },
  {
   "cell_type": "code",
   "execution_count": 22,
   "metadata": {},
   "outputs": [
    {
     "data": {
      "text/html": [
       "<div>\n",
       "<style scoped>\n",
       "    .dataframe tbody tr th:only-of-type {\n",
       "        vertical-align: middle;\n",
       "    }\n",
       "\n",
       "    .dataframe tbody tr th {\n",
       "        vertical-align: top;\n",
       "    }\n",
       "\n",
       "    .dataframe thead th {\n",
       "        text-align: right;\n",
       "    }\n",
       "</style>\n",
       "<table border=\"1\" class=\"dataframe\">\n",
       "  <thead>\n",
       "    <tr style=\"text-align: right;\">\n",
       "      <th></th>\n",
       "      <th>EreignisDatJahr</th>\n",
       "      <th>SexLang</th>\n",
       "      <th>SexCd</th>\n",
       "      <th>Partnerschaft</th>\n",
       "      <th>PartnerschaftSort</th>\n",
       "      <th>Anzahl</th>\n",
       "    </tr>\n",
       "  </thead>\n",
       "  <tbody>\n",
       "    <tr>\n",
       "      <th>0</th>\n",
       "      <td>2014</td>\n",
       "      <td>weiblich</td>\n",
       "      <td>2</td>\n",
       "      <td>Eingetragene Partnerschaft</td>\n",
       "      <td>1</td>\n",
       "      <td>30</td>\n",
       "    </tr>\n",
       "    <tr>\n",
       "      <th>1</th>\n",
       "      <td>2014</td>\n",
       "      <td>männlich</td>\n",
       "      <td>1</td>\n",
       "      <td>Eingetragene Partnerschaft</td>\n",
       "      <td>1</td>\n",
       "      <td>85</td>\n",
       "    </tr>\n",
       "    <tr>\n",
       "      <th>2</th>\n",
       "      <td>2014</td>\n",
       "      <td>weiblich</td>\n",
       "      <td>2</td>\n",
       "      <td>Aufgelöste Partnerschaft</td>\n",
       "      <td>2</td>\n",
       "      <td>6</td>\n",
       "    </tr>\n",
       "  </tbody>\n",
       "</table>\n",
       "</div>"
      ],
      "text/plain": [
       "   EreignisDatJahr   SexLang  SexCd               Partnerschaft  PartnerschaftSort  Anzahl\n",
       "0             2014  weiblich      2  Eingetragene Partnerschaft                  1      30\n",
       "1             2014  männlich      1  Eingetragene Partnerschaft                  1      85\n",
       "2             2014  weiblich      2    Aufgelöste Partnerschaft                  2       6"
      ]
     },
     "execution_count": 22,
     "metadata": {},
     "output_type": "execute_result"
    }
   ],
   "source": [
    "data2betested.head(3)"
   ]
  },
  {
   "cell_type": "code",
   "execution_count": 23,
   "metadata": {},
   "outputs": [
    {
     "data": {
      "text/plain": [
       "EreignisDatJahr       int64\n",
       "SexLang              object\n",
       "SexCd                 int64\n",
       "Partnerschaft        object\n",
       "PartnerschaftSort     int64\n",
       "Anzahl                int64\n",
       "dtype: object"
      ]
     },
     "execution_count": 23,
     "metadata": {},
     "output_type": "execute_result"
    }
   ],
   "source": [
    "data2betested.dtypes"
   ]
  },
  {
   "cell_type": "code",
   "execution_count": 24,
   "metadata": {},
   "outputs": [
    {
     "data": {
      "text/plain": [
       "(28, 6)"
      ]
     },
     "execution_count": 24,
     "metadata": {},
     "output_type": "execute_result"
    }
   ],
   "source": [
    "data2betested.shape"
   ]
  },
  {
   "cell_type": "markdown",
   "metadata": {},
   "source": [
    "Beschreibe einzelne Attribute"
   ]
  },
  {
   "cell_type": "code",
   "execution_count": 25,
   "metadata": {},
   "outputs": [
    {
     "data": {
      "text/html": [
       "<div>\n",
       "<style scoped>\n",
       "    .dataframe tbody tr th:only-of-type {\n",
       "        vertical-align: middle;\n",
       "    }\n",
       "\n",
       "    .dataframe tbody tr th {\n",
       "        vertical-align: top;\n",
       "    }\n",
       "\n",
       "    .dataframe thead th {\n",
       "        text-align: right;\n",
       "    }\n",
       "</style>\n",
       "<table border=\"1\" class=\"dataframe\">\n",
       "  <thead>\n",
       "    <tr style=\"text-align: right;\">\n",
       "      <th></th>\n",
       "      <th>EreignisDatJahr</th>\n",
       "      <th>SexCd</th>\n",
       "      <th>PartnerschaftSort</th>\n",
       "      <th>Anzahl</th>\n",
       "    </tr>\n",
       "  </thead>\n",
       "  <tbody>\n",
       "    <tr>\n",
       "      <th>count</th>\n",
       "      <td>28</td>\n",
       "      <td>28</td>\n",
       "      <td>28</td>\n",
       "      <td>28</td>\n",
       "    </tr>\n",
       "    <tr>\n",
       "      <th>mean</th>\n",
       "      <td>2017</td>\n",
       "      <td>2</td>\n",
       "      <td>2</td>\n",
       "      <td>40</td>\n",
       "    </tr>\n",
       "    <tr>\n",
       "      <th>std</th>\n",
       "      <td>2</td>\n",
       "      <td>1</td>\n",
       "      <td>1</td>\n",
       "      <td>35</td>\n",
       "    </tr>\n",
       "    <tr>\n",
       "      <th>min</th>\n",
       "      <td>2014</td>\n",
       "      <td>1</td>\n",
       "      <td>1</td>\n",
       "      <td>6</td>\n",
       "    </tr>\n",
       "    <tr>\n",
       "      <th>25%</th>\n",
       "      <td>2015</td>\n",
       "      <td>1</td>\n",
       "      <td>1</td>\n",
       "      <td>16</td>\n",
       "    </tr>\n",
       "    <tr>\n",
       "      <th>50%</th>\n",
       "      <td>2017</td>\n",
       "      <td>2</td>\n",
       "      <td>2</td>\n",
       "      <td>29</td>\n",
       "    </tr>\n",
       "    <tr>\n",
       "      <th>75%</th>\n",
       "      <td>2019</td>\n",
       "      <td>2</td>\n",
       "      <td>2</td>\n",
       "      <td>46</td>\n",
       "    </tr>\n",
       "    <tr>\n",
       "      <th>max</th>\n",
       "      <td>2020</td>\n",
       "      <td>2</td>\n",
       "      <td>2</td>\n",
       "      <td>122</td>\n",
       "    </tr>\n",
       "  </tbody>\n",
       "</table>\n",
       "</div>"
      ],
      "text/plain": [
       "       EreignisDatJahr  SexCd  PartnerschaftSort  Anzahl\n",
       "count               28     28                 28      28\n",
       "mean              2017      2                  2      40\n",
       "std                  2      1                  1      35\n",
       "min               2014      1                  1       6\n",
       "25%               2015      1                  1      16\n",
       "50%               2017      2                  2      29\n",
       "75%               2019      2                  2      46\n",
       "max               2020      2                  2     122"
      ]
     },
     "execution_count": 25,
     "metadata": {},
     "output_type": "execute_result"
    }
   ],
   "source": [
    "data2betested.describe()"
   ]
  },
  {
   "cell_type": "markdown",
   "metadata": {},
   "source": [
    "Wie viele Nullwerte gibt es im Datensatz?"
   ]
  },
  {
   "cell_type": "code",
   "execution_count": 26,
   "metadata": {
    "scrolled": true
   },
   "outputs": [
    {
     "data": {
      "text/plain": [
       "EreignisDatJahr      0\n",
       "SexLang              0\n",
       "SexCd                0\n",
       "Partnerschaft        0\n",
       "PartnerschaftSort    0\n",
       "Anzahl               0\n",
       "dtype: int64"
      ]
     },
     "execution_count": 26,
     "metadata": {},
     "output_type": "execute_result"
    }
   ],
   "source": [
    "data2betested.isnull().sum()"
   ]
  },
  {
   "cell_type": "markdown",
   "metadata": {},
   "source": [
    "Wandle die Spalte Jahr von Int zu **Datetime** um. Dies wird in den meisten Grafiken so benötigt."
   ]
  },
  {
   "cell_type": "code",
   "execution_count": 28,
   "metadata": {
    "scrolled": true
   },
   "outputs": [
    {
     "data": {
      "text/html": [
       "<div>\n",
       "<style scoped>\n",
       "    .dataframe tbody tr th:only-of-type {\n",
       "        vertical-align: middle;\n",
       "    }\n",
       "\n",
       "    .dataframe tbody tr th {\n",
       "        vertical-align: top;\n",
       "    }\n",
       "\n",
       "    .dataframe thead th {\n",
       "        text-align: right;\n",
       "    }\n",
       "</style>\n",
       "<table border=\"1\" class=\"dataframe\">\n",
       "  <thead>\n",
       "    <tr style=\"text-align: right;\">\n",
       "      <th></th>\n",
       "      <th>EreignisDatJahr</th>\n",
       "      <th>SexLang</th>\n",
       "      <th>SexCd</th>\n",
       "      <th>Partnerschaft</th>\n",
       "      <th>PartnerschaftSort</th>\n",
       "      <th>Anzahl</th>\n",
       "      <th>StichtagDatJahr</th>\n",
       "    </tr>\n",
       "  </thead>\n",
       "  <tbody>\n",
       "    <tr>\n",
       "      <th>0</th>\n",
       "      <td>2014</td>\n",
       "      <td>weiblich</td>\n",
       "      <td>2</td>\n",
       "      <td>Eingetragene Partnerschaft</td>\n",
       "      <td>1</td>\n",
       "      <td>30</td>\n",
       "      <td>2014-01-01</td>\n",
       "    </tr>\n",
       "    <tr>\n",
       "      <th>1</th>\n",
       "      <td>2014</td>\n",
       "      <td>männlich</td>\n",
       "      <td>1</td>\n",
       "      <td>Eingetragene Partnerschaft</td>\n",
       "      <td>1</td>\n",
       "      <td>85</td>\n",
       "      <td>2014-01-01</td>\n",
       "    </tr>\n",
       "    <tr>\n",
       "      <th>2</th>\n",
       "      <td>2014</td>\n",
       "      <td>weiblich</td>\n",
       "      <td>2</td>\n",
       "      <td>Aufgelöste Partnerschaft</td>\n",
       "      <td>2</td>\n",
       "      <td>6</td>\n",
       "      <td>2014-01-01</td>\n",
       "    </tr>\n",
       "    <tr>\n",
       "      <th>3</th>\n",
       "      <td>2014</td>\n",
       "      <td>männlich</td>\n",
       "      <td>1</td>\n",
       "      <td>Aufgelöste Partnerschaft</td>\n",
       "      <td>2</td>\n",
       "      <td>23</td>\n",
       "      <td>2014-01-01</td>\n",
       "    </tr>\n",
       "    <tr>\n",
       "      <th>4</th>\n",
       "      <td>2015</td>\n",
       "      <td>weiblich</td>\n",
       "      <td>2</td>\n",
       "      <td>Eingetragene Partnerschaft</td>\n",
       "      <td>1</td>\n",
       "      <td>26</td>\n",
       "      <td>2015-01-01</td>\n",
       "    </tr>\n",
       "    <tr>\n",
       "      <th>5</th>\n",
       "      <td>2015</td>\n",
       "      <td>männlich</td>\n",
       "      <td>1</td>\n",
       "      <td>Eingetragene Partnerschaft</td>\n",
       "      <td>1</td>\n",
       "      <td>100</td>\n",
       "      <td>2015-01-01</td>\n",
       "    </tr>\n",
       "    <tr>\n",
       "      <th>6</th>\n",
       "      <td>2015</td>\n",
       "      <td>weiblich</td>\n",
       "      <td>2</td>\n",
       "      <td>Aufgelöste Partnerschaft</td>\n",
       "      <td>2</td>\n",
       "      <td>9</td>\n",
       "      <td>2015-01-01</td>\n",
       "    </tr>\n",
       "    <tr>\n",
       "      <th>7</th>\n",
       "      <td>2015</td>\n",
       "      <td>männlich</td>\n",
       "      <td>1</td>\n",
       "      <td>Aufgelöste Partnerschaft</td>\n",
       "      <td>2</td>\n",
       "      <td>31</td>\n",
       "      <td>2015-01-01</td>\n",
       "    </tr>\n",
       "    <tr>\n",
       "      <th>8</th>\n",
       "      <td>2016</td>\n",
       "      <td>weiblich</td>\n",
       "      <td>2</td>\n",
       "      <td>Eingetragene Partnerschaft</td>\n",
       "      <td>1</td>\n",
       "      <td>26</td>\n",
       "      <td>2016-01-01</td>\n",
       "    </tr>\n",
       "    <tr>\n",
       "      <th>9</th>\n",
       "      <td>2016</td>\n",
       "      <td>männlich</td>\n",
       "      <td>1</td>\n",
       "      <td>Eingetragene Partnerschaft</td>\n",
       "      <td>1</td>\n",
       "      <td>122</td>\n",
       "      <td>2016-01-01</td>\n",
       "    </tr>\n",
       "    <tr>\n",
       "      <th>10</th>\n",
       "      <td>2016</td>\n",
       "      <td>weiblich</td>\n",
       "      <td>2</td>\n",
       "      <td>Aufgelöste Partnerschaft</td>\n",
       "      <td>2</td>\n",
       "      <td>6</td>\n",
       "      <td>2016-01-01</td>\n",
       "    </tr>\n",
       "    <tr>\n",
       "      <th>11</th>\n",
       "      <td>2016</td>\n",
       "      <td>männlich</td>\n",
       "      <td>1</td>\n",
       "      <td>Aufgelöste Partnerschaft</td>\n",
       "      <td>2</td>\n",
       "      <td>32</td>\n",
       "      <td>2016-01-01</td>\n",
       "    </tr>\n",
       "    <tr>\n",
       "      <th>12</th>\n",
       "      <td>2017</td>\n",
       "      <td>weiblich</td>\n",
       "      <td>2</td>\n",
       "      <td>Eingetragene Partnerschaft</td>\n",
       "      <td>1</td>\n",
       "      <td>33</td>\n",
       "      <td>2017-01-01</td>\n",
       "    </tr>\n",
       "    <tr>\n",
       "      <th>13</th>\n",
       "      <td>2017</td>\n",
       "      <td>männlich</td>\n",
       "      <td>1</td>\n",
       "      <td>Eingetragene Partnerschaft</td>\n",
       "      <td>1</td>\n",
       "      <td>112</td>\n",
       "      <td>2017-01-01</td>\n",
       "    </tr>\n",
       "    <tr>\n",
       "      <th>14</th>\n",
       "      <td>2017</td>\n",
       "      <td>weiblich</td>\n",
       "      <td>2</td>\n",
       "      <td>Aufgelöste Partnerschaft</td>\n",
       "      <td>2</td>\n",
       "      <td>7</td>\n",
       "      <td>2017-01-01</td>\n",
       "    </tr>\n",
       "    <tr>\n",
       "      <th>15</th>\n",
       "      <td>2017</td>\n",
       "      <td>männlich</td>\n",
       "      <td>1</td>\n",
       "      <td>Aufgelöste Partnerschaft</td>\n",
       "      <td>2</td>\n",
       "      <td>34</td>\n",
       "      <td>2017-01-01</td>\n",
       "    </tr>\n",
       "    <tr>\n",
       "      <th>16</th>\n",
       "      <td>2018</td>\n",
       "      <td>weiblich</td>\n",
       "      <td>2</td>\n",
       "      <td>Eingetragene Partnerschaft</td>\n",
       "      <td>1</td>\n",
       "      <td>24</td>\n",
       "      <td>2018-01-01</td>\n",
       "    </tr>\n",
       "    <tr>\n",
       "      <th>17</th>\n",
       "      <td>2018</td>\n",
       "      <td>männlich</td>\n",
       "      <td>1</td>\n",
       "      <td>Eingetragene Partnerschaft</td>\n",
       "      <td>1</td>\n",
       "      <td>84</td>\n",
       "      <td>2018-01-01</td>\n",
       "    </tr>\n",
       "    <tr>\n",
       "      <th>18</th>\n",
       "      <td>2018</td>\n",
       "      <td>weiblich</td>\n",
       "      <td>2</td>\n",
       "      <td>Aufgelöste Partnerschaft</td>\n",
       "      <td>2</td>\n",
       "      <td>8</td>\n",
       "      <td>2018-01-01</td>\n",
       "    </tr>\n",
       "    <tr>\n",
       "      <th>19</th>\n",
       "      <td>2018</td>\n",
       "      <td>männlich</td>\n",
       "      <td>1</td>\n",
       "      <td>Aufgelöste Partnerschaft</td>\n",
       "      <td>2</td>\n",
       "      <td>34</td>\n",
       "      <td>2018-01-01</td>\n",
       "    </tr>\n",
       "    <tr>\n",
       "      <th>20</th>\n",
       "      <td>2019</td>\n",
       "      <td>weiblich</td>\n",
       "      <td>2</td>\n",
       "      <td>Eingetragene Partnerschaft</td>\n",
       "      <td>1</td>\n",
       "      <td>17</td>\n",
       "      <td>2019-01-01</td>\n",
       "    </tr>\n",
       "    <tr>\n",
       "      <th>21</th>\n",
       "      <td>2019</td>\n",
       "      <td>männlich</td>\n",
       "      <td>1</td>\n",
       "      <td>Eingetragene Partnerschaft</td>\n",
       "      <td>1</td>\n",
       "      <td>94</td>\n",
       "      <td>2019-01-01</td>\n",
       "    </tr>\n",
       "    <tr>\n",
       "      <th>22</th>\n",
       "      <td>2019</td>\n",
       "      <td>weiblich</td>\n",
       "      <td>2</td>\n",
       "      <td>Aufgelöste Partnerschaft</td>\n",
       "      <td>2</td>\n",
       "      <td>8</td>\n",
       "      <td>2019-01-01</td>\n",
       "    </tr>\n",
       "    <tr>\n",
       "      <th>23</th>\n",
       "      <td>2019</td>\n",
       "      <td>männlich</td>\n",
       "      <td>1</td>\n",
       "      <td>Aufgelöste Partnerschaft</td>\n",
       "      <td>2</td>\n",
       "      <td>33</td>\n",
       "      <td>2019-01-01</td>\n",
       "    </tr>\n",
       "    <tr>\n",
       "      <th>24</th>\n",
       "      <td>2020</td>\n",
       "      <td>weiblich</td>\n",
       "      <td>2</td>\n",
       "      <td>Eingetragene Partnerschaft</td>\n",
       "      <td>1</td>\n",
       "      <td>27</td>\n",
       "      <td>2020-01-01</td>\n",
       "    </tr>\n",
       "    <tr>\n",
       "      <th>25</th>\n",
       "      <td>2020</td>\n",
       "      <td>männlich</td>\n",
       "      <td>1</td>\n",
       "      <td>Eingetragene Partnerschaft</td>\n",
       "      <td>1</td>\n",
       "      <td>83</td>\n",
       "      <td>2020-01-01</td>\n",
       "    </tr>\n",
       "    <tr>\n",
       "      <th>26</th>\n",
       "      <td>2020</td>\n",
       "      <td>weiblich</td>\n",
       "      <td>2</td>\n",
       "      <td>Aufgelöste Partnerschaft</td>\n",
       "      <td>2</td>\n",
       "      <td>12</td>\n",
       "      <td>2020-01-01</td>\n",
       "    </tr>\n",
       "    <tr>\n",
       "      <th>27</th>\n",
       "      <td>2020</td>\n",
       "      <td>männlich</td>\n",
       "      <td>1</td>\n",
       "      <td>Aufgelöste Partnerschaft</td>\n",
       "      <td>2</td>\n",
       "      <td>28</td>\n",
       "      <td>2020-01-01</td>\n",
       "    </tr>\n",
       "  </tbody>\n",
       "</table>\n",
       "</div>"
      ],
      "text/plain": [
       "    EreignisDatJahr   SexLang  SexCd               Partnerschaft  PartnerschaftSort  Anzahl  \\\n",
       "0              2014  weiblich      2  Eingetragene Partnerschaft                  1      30   \n",
       "1              2014  männlich      1  Eingetragene Partnerschaft                  1      85   \n",
       "2              2014  weiblich      2    Aufgelöste Partnerschaft                  2       6   \n",
       "3              2014  männlich      1    Aufgelöste Partnerschaft                  2      23   \n",
       "4              2015  weiblich      2  Eingetragene Partnerschaft                  1      26   \n",
       "5              2015  männlich      1  Eingetragene Partnerschaft                  1     100   \n",
       "6              2015  weiblich      2    Aufgelöste Partnerschaft                  2       9   \n",
       "7              2015  männlich      1    Aufgelöste Partnerschaft                  2      31   \n",
       "8              2016  weiblich      2  Eingetragene Partnerschaft                  1      26   \n",
       "9              2016  männlich      1  Eingetragene Partnerschaft                  1     122   \n",
       "10             2016  weiblich      2    Aufgelöste Partnerschaft                  2       6   \n",
       "11             2016  männlich      1    Aufgelöste Partnerschaft                  2      32   \n",
       "12             2017  weiblich      2  Eingetragene Partnerschaft                  1      33   \n",
       "13             2017  männlich      1  Eingetragene Partnerschaft                  1     112   \n",
       "14             2017  weiblich      2    Aufgelöste Partnerschaft                  2       7   \n",
       "15             2017  männlich      1    Aufgelöste Partnerschaft                  2      34   \n",
       "16             2018  weiblich      2  Eingetragene Partnerschaft                  1      24   \n",
       "17             2018  männlich      1  Eingetragene Partnerschaft                  1      84   \n",
       "18             2018  weiblich      2    Aufgelöste Partnerschaft                  2       8   \n",
       "19             2018  männlich      1    Aufgelöste Partnerschaft                  2      34   \n",
       "20             2019  weiblich      2  Eingetragene Partnerschaft                  1      17   \n",
       "21             2019  männlich      1  Eingetragene Partnerschaft                  1      94   \n",
       "22             2019  weiblich      2    Aufgelöste Partnerschaft                  2       8   \n",
       "23             2019  männlich      1    Aufgelöste Partnerschaft                  2      33   \n",
       "24             2020  weiblich      2  Eingetragene Partnerschaft                  1      27   \n",
       "25             2020  männlich      1  Eingetragene Partnerschaft                  1      83   \n",
       "26             2020  weiblich      2    Aufgelöste Partnerschaft                  2      12   \n",
       "27             2020  männlich      1    Aufgelöste Partnerschaft                  2      28   \n",
       "\n",
       "   StichtagDatJahr  \n",
       "0       2014-01-01  \n",
       "1       2014-01-01  \n",
       "2       2014-01-01  \n",
       "3       2014-01-01  \n",
       "4       2015-01-01  \n",
       "5       2015-01-01  \n",
       "6       2015-01-01  \n",
       "7       2015-01-01  \n",
       "8       2016-01-01  \n",
       "9       2016-01-01  \n",
       "10      2016-01-01  \n",
       "11      2016-01-01  \n",
       "12      2017-01-01  \n",
       "13      2017-01-01  \n",
       "14      2017-01-01  \n",
       "15      2017-01-01  \n",
       "16      2018-01-01  \n",
       "17      2018-01-01  \n",
       "18      2018-01-01  \n",
       "19      2018-01-01  \n",
       "20      2019-01-01  \n",
       "21      2019-01-01  \n",
       "22      2019-01-01  \n",
       "23      2019-01-01  \n",
       "24      2020-01-01  \n",
       "25      2020-01-01  \n",
       "26      2020-01-01  \n",
       "27      2020-01-01  "
      ]
     },
     "execution_count": 28,
     "metadata": {},
     "output_type": "execute_result"
    }
   ],
   "source": [
    "\n",
    "data2betested['StichtagDatJahr'] = data2betested['EreignisDatJahr']\n",
    "\n",
    "data2betested['StichtagDatJahr']=pd.to_datetime(data2betested['StichtagDatJahr'], format='%Y')\n",
    "\n",
    "#TO DO --> setze das Datum auf den 31.12. der Jahres.\n",
    "#test=data2betested[['StichtagDatJahr']].date().replace(month=12, day=31)\n",
    "\n",
    "data2betested"
   ]
  },
  {
   "cell_type": "markdown",
   "metadata": {},
   "source": [
    "Bereite die Daten für die Grafik unten vor"
   ]
  },
  {
   "cell_type": "code",
   "execution_count": 29,
   "metadata": {},
   "outputs": [
    {
     "data": {
      "text/plain": [
       "7"
      ]
     },
     "execution_count": 29,
     "metadata": {},
     "output_type": "execute_result"
    }
   ],
   "source": [
    "Jahre = data2betested.groupby(\"StichtagDatJahr\")\n",
    "len(Jahre)"
   ]
  },
  {
   "cell_type": "code",
   "execution_count": 30,
   "metadata": {},
   "outputs": [
    {
     "name": "stdout",
     "output_type": "stream",
     "text": [
      "2014-01-01 00:00:00 4\n",
      "2015-01-01 00:00:00 4\n",
      "2016-01-01 00:00:00 4\n",
      "2017-01-01 00:00:00 4\n",
      "2018-01-01 00:00:00 4\n",
      "2019-01-01 00:00:00 4\n",
      "2020-01-01 00:00:00 4\n"
     ]
    }
   ],
   "source": [
    "for key, group in Jahre:\n",
    "    print(key, len(group))"
   ]
  },
  {
   "cell_type": "code",
   "execution_count": 31,
   "metadata": {},
   "outputs": [
    {
     "data": {
      "text/html": [
       "<div>\n",
       "<style scoped>\n",
       "    .dataframe tbody tr th:only-of-type {\n",
       "        vertical-align: middle;\n",
       "    }\n",
       "\n",
       "    .dataframe tbody tr th {\n",
       "        vertical-align: top;\n",
       "    }\n",
       "\n",
       "    .dataframe thead th {\n",
       "        text-align: right;\n",
       "    }\n",
       "</style>\n",
       "<table border=\"1\" class=\"dataframe\">\n",
       "  <thead>\n",
       "    <tr style=\"text-align: right;\">\n",
       "      <th></th>\n",
       "      <th>EreignisDatJahr</th>\n",
       "      <th>SexLang</th>\n",
       "      <th>SexCd</th>\n",
       "      <th>Partnerschaft</th>\n",
       "      <th>PartnerschaftSort</th>\n",
       "      <th>Anzahl</th>\n",
       "      <th>StichtagDatJahr</th>\n",
       "    </tr>\n",
       "  </thead>\n",
       "  <tbody>\n",
       "    <tr>\n",
       "      <th>24</th>\n",
       "      <td>2020</td>\n",
       "      <td>weiblich</td>\n",
       "      <td>2</td>\n",
       "      <td>Eingetragene Partnerschaft</td>\n",
       "      <td>1</td>\n",
       "      <td>27</td>\n",
       "      <td>2020-01-01</td>\n",
       "    </tr>\n",
       "    <tr>\n",
       "      <th>25</th>\n",
       "      <td>2020</td>\n",
       "      <td>männlich</td>\n",
       "      <td>1</td>\n",
       "      <td>Eingetragene Partnerschaft</td>\n",
       "      <td>1</td>\n",
       "      <td>83</td>\n",
       "      <td>2020-01-01</td>\n",
       "    </tr>\n",
       "    <tr>\n",
       "      <th>26</th>\n",
       "      <td>2020</td>\n",
       "      <td>weiblich</td>\n",
       "      <td>2</td>\n",
       "      <td>Aufgelöste Partnerschaft</td>\n",
       "      <td>2</td>\n",
       "      <td>12</td>\n",
       "      <td>2020-01-01</td>\n",
       "    </tr>\n",
       "    <tr>\n",
       "      <th>27</th>\n",
       "      <td>2020</td>\n",
       "      <td>männlich</td>\n",
       "      <td>1</td>\n",
       "      <td>Aufgelöste Partnerschaft</td>\n",
       "      <td>2</td>\n",
       "      <td>28</td>\n",
       "      <td>2020-01-01</td>\n",
       "    </tr>\n",
       "  </tbody>\n",
       "</table>\n",
       "</div>"
      ],
      "text/plain": [
       "    EreignisDatJahr   SexLang  SexCd               Partnerschaft  PartnerschaftSort  Anzahl  \\\n",
       "24             2020  weiblich      2  Eingetragene Partnerschaft                  1      27   \n",
       "25             2020  männlich      1  Eingetragene Partnerschaft                  1      83   \n",
       "26             2020  weiblich      2    Aufgelöste Partnerschaft                  2      12   \n",
       "27             2020  männlich      1    Aufgelöste Partnerschaft                  2      28   \n",
       "\n",
       "   StichtagDatJahr  \n",
       "24      2020-01-01  \n",
       "25      2020-01-01  \n",
       "26      2020-01-01  \n",
       "27      2020-01-01  "
      ]
     },
     "execution_count": 31,
     "metadata": {},
     "output_type": "execute_result"
    }
   ],
   "source": [
    "myJahr = \"2020-01-01\"\n",
    "aktuellesJahr=Jahre.get_group(myJahr)   \n",
    "aktuellesJahr"
   ]
  },
  {
   "cell_type": "markdown",
   "metadata": {},
   "source": [
    "**Selektionen und Aggregationen**\n",
    "\n",
    "Check this [Doku](https://www.shanelynn.ie/summarising-aggregation-and-grouping-data-in-python-pandas/)"
   ]
  },
  {
   "cell_type": "code",
   "execution_count": 32,
   "metadata": {},
   "outputs": [],
   "source": [
    "#test = data2betested.groupby(['StichtagDatJahr', 'AlterV20Kurz'])[['AnzBestWir']].agg()\n",
    "\n",
    "# produces Pandas Series\n",
    "    #data2betested.groupby(['StichtagDatJahr', 'KonOGDSort'])['AnzBestWir'].sum()\n",
    "# Produces Pandas DataFrame\n",
    "    #data2betested.groupby(['StichtagDatJahr', 'KonOGDSort'])[['AnzBestWir']].sum()\n",
    "    "
   ]
  },
  {
   "cell_type": "markdown",
   "metadata": {},
   "source": [
    "**Einfache Visualisierungen zur Plausi**"
   ]
  },
  {
   "cell_type": "markdown",
   "metadata": {},
   "source": [
    "Exploriere die Daten mit Pivottable.JS"
   ]
  },
  {
   "cell_type": "code",
   "execution_count": 33,
   "metadata": {},
   "outputs": [
    {
     "data": {
      "text/html": [
       "\n",
       "        <iframe\n",
       "            width=\"100%\"\n",
       "            height=\"500\"\n",
       "            src=\"pivottablejs.html\"\n",
       "            frameborder=\"0\"\n",
       "            allowfullscreen\n",
       "        ></iframe>\n",
       "        "
      ],
      "text/plain": [
       "<IPython.lib.display.IFrame at 0x2edbc419fa0>"
      ]
     },
     "execution_count": 33,
     "metadata": {},
     "output_type": "execute_result"
    }
   ],
   "source": [
    "from pivottablejs import pivot_ui\n",
    "\n",
    "pivot_ui(data2betested)"
   ]
  },
  {
   "cell_type": "markdown",
   "metadata": {},
   "source": [
    "Liniendiagramm \n",
    "[Link zur Doku](https://altair-viz.github.io/gallery/multiline_highlight.html)"
   ]
  },
  {
   "cell_type": "code",
   "execution_count": 34,
   "metadata": {},
   "outputs": [
    {
     "data": {
      "text/html": [
       "<div>\n",
       "<style scoped>\n",
       "    .dataframe tbody tr th:only-of-type {\n",
       "        vertical-align: middle;\n",
       "    }\n",
       "\n",
       "    .dataframe tbody tr th {\n",
       "        vertical-align: top;\n",
       "    }\n",
       "\n",
       "    .dataframe thead th {\n",
       "        text-align: right;\n",
       "    }\n",
       "</style>\n",
       "<table border=\"1\" class=\"dataframe\">\n",
       "  <thead>\n",
       "    <tr style=\"text-align: right;\">\n",
       "      <th></th>\n",
       "      <th>EreignisDatJahr</th>\n",
       "      <th>SexLang</th>\n",
       "      <th>SexCd</th>\n",
       "      <th>Partnerschaft</th>\n",
       "      <th>PartnerschaftSort</th>\n",
       "      <th>Anzahl</th>\n",
       "      <th>StichtagDatJahr</th>\n",
       "    </tr>\n",
       "  </thead>\n",
       "  <tbody>\n",
       "    <tr>\n",
       "      <th>0</th>\n",
       "      <td>2014</td>\n",
       "      <td>weiblich</td>\n",
       "      <td>2</td>\n",
       "      <td>Eingetragene Partnerschaft</td>\n",
       "      <td>1</td>\n",
       "      <td>30</td>\n",
       "      <td>2014-01-01</td>\n",
       "    </tr>\n",
       "    <tr>\n",
       "      <th>1</th>\n",
       "      <td>2014</td>\n",
       "      <td>männlich</td>\n",
       "      <td>1</td>\n",
       "      <td>Eingetragene Partnerschaft</td>\n",
       "      <td>1</td>\n",
       "      <td>85</td>\n",
       "      <td>2014-01-01</td>\n",
       "    </tr>\n",
       "  </tbody>\n",
       "</table>\n",
       "</div>"
      ],
      "text/plain": [
       "   EreignisDatJahr   SexLang  SexCd               Partnerschaft  PartnerschaftSort  Anzahl  \\\n",
       "0             2014  weiblich      2  Eingetragene Partnerschaft                  1      30   \n",
       "1             2014  männlich      1  Eingetragene Partnerschaft                  1      85   \n",
       "\n",
       "  StichtagDatJahr  \n",
       "0      2014-01-01  \n",
       "1      2014-01-01  "
      ]
     },
     "execution_count": 34,
     "metadata": {},
     "output_type": "execute_result"
    }
   ],
   "source": [
    "data2betested.head(2)"
   ]
  },
  {
   "cell_type": "code",
   "execution_count": 65,
   "metadata": {},
   "outputs": [
    {
     "data": {
      "text/html": [
       "\n",
       "<div id=\"altair-viz-b9b1e4ec3dc34e2da54a5fd4daf41fb0\"></div>\n",
       "<script type=\"text/javascript\">\n",
       "  (function(spec, embedOpt){\n",
       "    let outputDiv = document.currentScript.previousElementSibling;\n",
       "    if (outputDiv.id !== \"altair-viz-b9b1e4ec3dc34e2da54a5fd4daf41fb0\") {\n",
       "      outputDiv = document.getElementById(\"altair-viz-b9b1e4ec3dc34e2da54a5fd4daf41fb0\");\n",
       "    }\n",
       "    const paths = {\n",
       "      \"vega\": \"https://cdn.jsdelivr.net/npm//vega@5?noext\",\n",
       "      \"vega-lib\": \"https://cdn.jsdelivr.net/npm//vega-lib?noext\",\n",
       "      \"vega-lite\": \"https://cdn.jsdelivr.net/npm//vega-lite@4.8.1?noext\",\n",
       "      \"vega-embed\": \"https://cdn.jsdelivr.net/npm//vega-embed@6?noext\",\n",
       "    };\n",
       "\n",
       "    function loadScript(lib) {\n",
       "      return new Promise(function(resolve, reject) {\n",
       "        var s = document.createElement('script');\n",
       "        s.src = paths[lib];\n",
       "        s.async = true;\n",
       "        s.onload = () => resolve(paths[lib]);\n",
       "        s.onerror = () => reject(`Error loading script: ${paths[lib]}`);\n",
       "        document.getElementsByTagName(\"head\")[0].appendChild(s);\n",
       "      });\n",
       "    }\n",
       "\n",
       "    function showError(err) {\n",
       "      outputDiv.innerHTML = `<div class=\"error\" style=\"color:red;\">${err}</div>`;\n",
       "      throw err;\n",
       "    }\n",
       "\n",
       "    function displayChart(vegaEmbed) {\n",
       "      vegaEmbed(outputDiv, spec, embedOpt)\n",
       "        .catch(err => showError(`Javascript Error: ${err.message}<br>This usually means there's a typo in your chart specification. See the javascript console for the full traceback.`));\n",
       "    }\n",
       "\n",
       "    if(typeof define === \"function\" && define.amd) {\n",
       "      requirejs.config({paths});\n",
       "      require([\"vega-embed\"], displayChart, err => showError(`Error loading script: ${err.message}`));\n",
       "    } else if (typeof vegaEmbed === \"function\") {\n",
       "      displayChart(vegaEmbed);\n",
       "    } else {\n",
       "      loadScript(\"vega\")\n",
       "        .then(() => loadScript(\"vega-lite\"))\n",
       "        .then(() => loadScript(\"vega-embed\"))\n",
       "        .catch(showError)\n",
       "        .then(() => displayChart(vegaEmbed));\n",
       "    }\n",
       "  })({\"config\": {\"view\": {\"continuousWidth\": 400, \"continuousHeight\": 300}}, \"layer\": [{\"mark\": \"circle\", \"encoding\": {\"color\": {\"type\": \"nominal\", \"field\": \"Partnerschaft\"}, \"opacity\": {\"value\": 2}, \"x\": {\"type\": \"temporal\", \"field\": \"StichtagDatJahr\"}, \"y\": {\"type\": \"quantitative\", \"field\": \"Anzahl\"}}, \"height\": 300, \"selection\": {\"selector042\": {\"type\": \"single\", \"on\": \"mouseover\", \"fields\": [\"Partnerschaft\", \"SexLang\"], \"nearest\": true}}, \"width\": 700}, {\"mark\": \"line\", \"encoding\": {\"color\": {\"type\": \"nominal\", \"field\": \"Partnerschaft\"}, \"size\": {\"condition\": {\"value\": 1.5, \"selection\": {\"not\": \"selector042\"}}, \"value\": 4}, \"x\": {\"type\": \"temporal\", \"field\": \"StichtagDatJahr\"}, \"y\": {\"type\": \"quantitative\", \"field\": \"Anzahl\"}}, \"selection\": {\"selector043\": {\"type\": \"interval\", \"bind\": \"scales\", \"encodings\": [\"x\", \"y\"]}}}, {\"data\": {\"name\": \"data-6cab63223657cf036e117a9e3d0f50f1\"}, \"mark\": \"line\", \"encoding\": {\"color\": {\"type\": \"nominal\", \"field\": \"Partnerschaft\"}, \"size\": {\"condition\": {\"value\": 1.5, \"selection\": {\"not\": \"selector042\"}}, \"value\": 4}, \"x\": {\"type\": \"temporal\", \"field\": \"StichtagDatJahr\"}, \"y\": {\"type\": \"quantitative\", \"field\": \"Anzahl\"}}}], \"data\": {\"name\": \"data-248fcec26836c2a3c94dd25c15025a5c\"}, \"$schema\": \"https://vega.github.io/schema/vega-lite/v4.8.1.json\", \"datasets\": {\"data-248fcec26836c2a3c94dd25c15025a5c\": [{\"EreignisDatJahr\": 2014, \"SexLang\": \"m\\u00e4nnlich\", \"SexCd\": 1, \"Partnerschaft\": \"Eingetragene Partnerschaft\", \"PartnerschaftSort\": 1, \"Anzahl\": 85, \"StichtagDatJahr\": \"2014-01-01T00:00:00\"}, {\"EreignisDatJahr\": 2015, \"SexLang\": \"m\\u00e4nnlich\", \"SexCd\": 1, \"Partnerschaft\": \"Eingetragene Partnerschaft\", \"PartnerschaftSort\": 1, \"Anzahl\": 100, \"StichtagDatJahr\": \"2015-01-01T00:00:00\"}, {\"EreignisDatJahr\": 2016, \"SexLang\": \"m\\u00e4nnlich\", \"SexCd\": 1, \"Partnerschaft\": \"Eingetragene Partnerschaft\", \"PartnerschaftSort\": 1, \"Anzahl\": 122, \"StichtagDatJahr\": \"2016-01-01T00:00:00\"}, {\"EreignisDatJahr\": 2017, \"SexLang\": \"m\\u00e4nnlich\", \"SexCd\": 1, \"Partnerschaft\": \"Eingetragene Partnerschaft\", \"PartnerschaftSort\": 1, \"Anzahl\": 112, \"StichtagDatJahr\": \"2017-01-01T00:00:00\"}, {\"EreignisDatJahr\": 2018, \"SexLang\": \"m\\u00e4nnlich\", \"SexCd\": 1, \"Partnerschaft\": \"Eingetragene Partnerschaft\", \"PartnerschaftSort\": 1, \"Anzahl\": 84, \"StichtagDatJahr\": \"2018-01-01T00:00:00\"}, {\"EreignisDatJahr\": 2019, \"SexLang\": \"m\\u00e4nnlich\", \"SexCd\": 1, \"Partnerschaft\": \"Eingetragene Partnerschaft\", \"PartnerschaftSort\": 1, \"Anzahl\": 94, \"StichtagDatJahr\": \"2019-01-01T00:00:00\"}, {\"EreignisDatJahr\": 2020, \"SexLang\": \"m\\u00e4nnlich\", \"SexCd\": 1, \"Partnerschaft\": \"Eingetragene Partnerschaft\", \"PartnerschaftSort\": 1, \"Anzahl\": 83, \"StichtagDatJahr\": \"2020-01-01T00:00:00\"}], \"data-6cab63223657cf036e117a9e3d0f50f1\": [{\"EreignisDatJahr\": 2014, \"SexLang\": \"weiblich\", \"SexCd\": 2, \"Partnerschaft\": \"Eingetragene Partnerschaft\", \"PartnerschaftSort\": 1, \"Anzahl\": 30, \"StichtagDatJahr\": \"2014-01-01T00:00:00\"}, {\"EreignisDatJahr\": 2015, \"SexLang\": \"weiblich\", \"SexCd\": 2, \"Partnerschaft\": \"Eingetragene Partnerschaft\", \"PartnerschaftSort\": 1, \"Anzahl\": 26, \"StichtagDatJahr\": \"2015-01-01T00:00:00\"}, {\"EreignisDatJahr\": 2016, \"SexLang\": \"weiblich\", \"SexCd\": 2, \"Partnerschaft\": \"Eingetragene Partnerschaft\", \"PartnerschaftSort\": 1, \"Anzahl\": 26, \"StichtagDatJahr\": \"2016-01-01T00:00:00\"}, {\"EreignisDatJahr\": 2017, \"SexLang\": \"weiblich\", \"SexCd\": 2, \"Partnerschaft\": \"Eingetragene Partnerschaft\", \"PartnerschaftSort\": 1, \"Anzahl\": 33, \"StichtagDatJahr\": \"2017-01-01T00:00:00\"}, {\"EreignisDatJahr\": 2018, \"SexLang\": \"weiblich\", \"SexCd\": 2, \"Partnerschaft\": \"Eingetragene Partnerschaft\", \"PartnerschaftSort\": 1, \"Anzahl\": 24, \"StichtagDatJahr\": \"2018-01-01T00:00:00\"}, {\"EreignisDatJahr\": 2019, \"SexLang\": \"weiblich\", \"SexCd\": 2, \"Partnerschaft\": \"Eingetragene Partnerschaft\", \"PartnerschaftSort\": 1, \"Anzahl\": 17, \"StichtagDatJahr\": \"2019-01-01T00:00:00\"}, {\"EreignisDatJahr\": 2020, \"SexLang\": \"weiblich\", \"SexCd\": 2, \"Partnerschaft\": \"Eingetragene Partnerschaft\", \"PartnerschaftSort\": 1, \"Anzahl\": 27, \"StichtagDatJahr\": \"2020-01-01T00:00:00\"}]}}, {\"mode\": \"vega-lite\"});\n",
       "</script>"
      ],
      "text/plain": [
       "alt.LayerChart(...)"
      ]
     },
     "execution_count": 65,
     "metadata": {},
     "output_type": "execute_result"
    }
   ],
   "source": [
    "# df_statzonen = df_statzonen[(df_statzonen.knr>0) & (df_statzonen.qname!=\"Hirslanden\")]\n",
    "mySelection = data2betested[(data2betested.PartnerschaftSort == 1) & (data2betested.SexLang == \"männlich\")]\n",
    "mySelection2 = data2betested[(data2betested.PartnerschaftSort == 2) & (data2betested.SexLang == \"männlich\")]\n",
    "mySelection3 = data2betested[(data2betested.PartnerschaftSort == 1) & (data2betested.SexLang == \"weiblich\")]\n",
    "mySelection4 = data2betested[(data2betested.PartnerschaftSort == 2) & (data2betested.SexLang == \"weiblich\")]\n",
    "\n",
    "highlight = alt.selection(type='single', on='mouseover',\n",
    "                          fields=['Partnerschaft', 'SexLang'], nearest=True)\n",
    "#x='date:StichtagDatJahr',\n",
    "base = alt.Chart(mySelection).encode(\n",
    "    x='StichtagDatJahr',\n",
    "    y='Anzahl',\n",
    "    color='Partnerschaft'\n",
    ")\n",
    "\n",
    "second = alt.Chart(mySelection2).encode(\n",
    "    x='StichtagDatJahr',\n",
    "    y='Anzahl',\n",
    "    color='Partnerschaft'\n",
    ")\n",
    "\n",
    "third = alt.Chart(mySelection3).encode(\n",
    "    x='StichtagDatJahr',\n",
    "    y='Anzahl',\n",
    "    color='Partnerschaft'\n",
    ")\n",
    "\n",
    "fourth = alt.Chart(mySelection4).encode(\n",
    "    x='StichtagDatJahr',\n",
    "    y='Anzahl',\n",
    "    color='Partnerschaft'\n",
    ")\n",
    "\n",
    "\n",
    "points = base.mark_circle().encode(\n",
    "    opacity=alt.value(2)\n",
    ").add_selection(\n",
    "    highlight\n",
    ").properties(\n",
    "    width=700 , height=300\n",
    ")\n",
    "\n",
    "lines4 = fourth.mark_line().encode(\n",
    "    size=alt.condition(~highlight, alt.value(1.5), alt.value(4))\n",
    ")\n",
    "\n",
    "lines3 = third.mark_line().encode(\n",
    "    size=alt.condition(~highlight, alt.value(1.5), alt.value(4))\n",
    ")\n",
    "\n",
    "lines2 = second.mark_line().encode(\n",
    "    size=alt.condition(~highlight, alt.value(1.5), alt.value(4))\n",
    ")\n",
    "\n",
    "lines = base.mark_line().encode(\n",
    "    size=alt.condition(~highlight, alt.value(1.5), alt.value(4))\n",
    ").interactive()\n",
    "\n",
    "\n",
    "\n",
    "points + lines + lines3 "
   ]
  },
  {
   "cell_type": "code",
   "execution_count": 56,
   "metadata": {},
   "outputs": [
    {
     "data": {
      "text/html": [
       "\n",
       "<div id=\"altair-viz-c05beeed5621431bbec1d6ed0823bb0e\"></div>\n",
       "<script type=\"text/javascript\">\n",
       "  (function(spec, embedOpt){\n",
       "    let outputDiv = document.currentScript.previousElementSibling;\n",
       "    if (outputDiv.id !== \"altair-viz-c05beeed5621431bbec1d6ed0823bb0e\") {\n",
       "      outputDiv = document.getElementById(\"altair-viz-c05beeed5621431bbec1d6ed0823bb0e\");\n",
       "    }\n",
       "    const paths = {\n",
       "      \"vega\": \"https://cdn.jsdelivr.net/npm//vega@5?noext\",\n",
       "      \"vega-lib\": \"https://cdn.jsdelivr.net/npm//vega-lib?noext\",\n",
       "      \"vega-lite\": \"https://cdn.jsdelivr.net/npm//vega-lite@4.8.1?noext\",\n",
       "      \"vega-embed\": \"https://cdn.jsdelivr.net/npm//vega-embed@6?noext\",\n",
       "    };\n",
       "\n",
       "    function loadScript(lib) {\n",
       "      return new Promise(function(resolve, reject) {\n",
       "        var s = document.createElement('script');\n",
       "        s.src = paths[lib];\n",
       "        s.async = true;\n",
       "        s.onload = () => resolve(paths[lib]);\n",
       "        s.onerror = () => reject(`Error loading script: ${paths[lib]}`);\n",
       "        document.getElementsByTagName(\"head\")[0].appendChild(s);\n",
       "      });\n",
       "    }\n",
       "\n",
       "    function showError(err) {\n",
       "      outputDiv.innerHTML = `<div class=\"error\" style=\"color:red;\">${err}</div>`;\n",
       "      throw err;\n",
       "    }\n",
       "\n",
       "    function displayChart(vegaEmbed) {\n",
       "      vegaEmbed(outputDiv, spec, embedOpt)\n",
       "        .catch(err => showError(`Javascript Error: ${err.message}<br>This usually means there's a typo in your chart specification. See the javascript console for the full traceback.`));\n",
       "    }\n",
       "\n",
       "    if(typeof define === \"function\" && define.amd) {\n",
       "      requirejs.config({paths});\n",
       "      require([\"vega-embed\"], displayChart, err => showError(`Error loading script: ${err.message}`));\n",
       "    } else if (typeof vegaEmbed === \"function\") {\n",
       "      displayChart(vegaEmbed);\n",
       "    } else {\n",
       "      loadScript(\"vega\")\n",
       "        .then(() => loadScript(\"vega-lite\"))\n",
       "        .then(() => loadScript(\"vega-embed\"))\n",
       "        .catch(showError)\n",
       "        .then(() => displayChart(vegaEmbed));\n",
       "    }\n",
       "  })({\"config\": {\"view\": {\"continuousWidth\": 400, \"continuousHeight\": 300}}, \"data\": {\"name\": \"data-451dcccef8304424a177c9def35ca1a2\"}, \"mark\": {\"type\": \"circle\", \"size\": 60}, \"encoding\": {\"color\": {\"type\": \"nominal\", \"field\": \"Partnerschaft\", \"scale\": {\"scheme\": \"dark2\"}}, \"tooltip\": [{\"type\": \"temporal\", \"field\": \"StichtagDatJahr\"}, {\"type\": \"nominal\", \"field\": \"Partnerschaft\"}, {\"type\": \"quantitative\", \"field\": \"Anzahl\"}], \"x\": {\"type\": \"temporal\", \"field\": \"StichtagDatJahr\"}, \"y\": {\"type\": \"quantitative\", \"field\": \"Anzahl\"}}, \"selection\": {\"selector022\": {\"type\": \"interval\", \"bind\": \"scales\", \"encodings\": [\"x\", \"y\"]}}, \"$schema\": \"https://vega.github.io/schema/vega-lite/v4.8.1.json\", \"datasets\": {\"data-451dcccef8304424a177c9def35ca1a2\": [{\"EreignisDatJahr\": 2014, \"SexLang\": \"weiblich\", \"SexCd\": 2, \"Partnerschaft\": \"Eingetragene Partnerschaft\", \"PartnerschaftSort\": 1, \"Anzahl\": 30, \"StichtagDatJahr\": \"2014-01-01T00:00:00\"}, {\"EreignisDatJahr\": 2014, \"SexLang\": \"m\\u00e4nnlich\", \"SexCd\": 1, \"Partnerschaft\": \"Eingetragene Partnerschaft\", \"PartnerschaftSort\": 1, \"Anzahl\": 85, \"StichtagDatJahr\": \"2014-01-01T00:00:00\"}, {\"EreignisDatJahr\": 2014, \"SexLang\": \"weiblich\", \"SexCd\": 2, \"Partnerschaft\": \"Aufgel\\u00f6ste Partnerschaft\", \"PartnerschaftSort\": 2, \"Anzahl\": 6, \"StichtagDatJahr\": \"2014-01-01T00:00:00\"}, {\"EreignisDatJahr\": 2014, \"SexLang\": \"m\\u00e4nnlich\", \"SexCd\": 1, \"Partnerschaft\": \"Aufgel\\u00f6ste Partnerschaft\", \"PartnerschaftSort\": 2, \"Anzahl\": 23, \"StichtagDatJahr\": \"2014-01-01T00:00:00\"}, {\"EreignisDatJahr\": 2015, \"SexLang\": \"weiblich\", \"SexCd\": 2, \"Partnerschaft\": \"Eingetragene Partnerschaft\", \"PartnerschaftSort\": 1, \"Anzahl\": 26, \"StichtagDatJahr\": \"2015-01-01T00:00:00\"}, {\"EreignisDatJahr\": 2015, \"SexLang\": \"m\\u00e4nnlich\", \"SexCd\": 1, \"Partnerschaft\": \"Eingetragene Partnerschaft\", \"PartnerschaftSort\": 1, \"Anzahl\": 100, \"StichtagDatJahr\": \"2015-01-01T00:00:00\"}, {\"EreignisDatJahr\": 2015, \"SexLang\": \"weiblich\", \"SexCd\": 2, \"Partnerschaft\": \"Aufgel\\u00f6ste Partnerschaft\", \"PartnerschaftSort\": 2, \"Anzahl\": 9, \"StichtagDatJahr\": \"2015-01-01T00:00:00\"}, {\"EreignisDatJahr\": 2015, \"SexLang\": \"m\\u00e4nnlich\", \"SexCd\": 1, \"Partnerschaft\": \"Aufgel\\u00f6ste Partnerschaft\", \"PartnerschaftSort\": 2, \"Anzahl\": 31, \"StichtagDatJahr\": \"2015-01-01T00:00:00\"}, {\"EreignisDatJahr\": 2016, \"SexLang\": \"weiblich\", \"SexCd\": 2, \"Partnerschaft\": \"Eingetragene Partnerschaft\", \"PartnerschaftSort\": 1, \"Anzahl\": 26, \"StichtagDatJahr\": \"2016-01-01T00:00:00\"}, {\"EreignisDatJahr\": 2016, \"SexLang\": \"m\\u00e4nnlich\", \"SexCd\": 1, \"Partnerschaft\": \"Eingetragene Partnerschaft\", \"PartnerschaftSort\": 1, \"Anzahl\": 122, \"StichtagDatJahr\": \"2016-01-01T00:00:00\"}, {\"EreignisDatJahr\": 2016, \"SexLang\": \"weiblich\", \"SexCd\": 2, \"Partnerschaft\": \"Aufgel\\u00f6ste Partnerschaft\", \"PartnerschaftSort\": 2, \"Anzahl\": 6, \"StichtagDatJahr\": \"2016-01-01T00:00:00\"}, {\"EreignisDatJahr\": 2016, \"SexLang\": \"m\\u00e4nnlich\", \"SexCd\": 1, \"Partnerschaft\": \"Aufgel\\u00f6ste Partnerschaft\", \"PartnerschaftSort\": 2, \"Anzahl\": 32, \"StichtagDatJahr\": \"2016-01-01T00:00:00\"}, {\"EreignisDatJahr\": 2017, \"SexLang\": \"weiblich\", \"SexCd\": 2, \"Partnerschaft\": \"Eingetragene Partnerschaft\", \"PartnerschaftSort\": 1, \"Anzahl\": 33, \"StichtagDatJahr\": \"2017-01-01T00:00:00\"}, {\"EreignisDatJahr\": 2017, \"SexLang\": \"m\\u00e4nnlich\", \"SexCd\": 1, \"Partnerschaft\": \"Eingetragene Partnerschaft\", \"PartnerschaftSort\": 1, \"Anzahl\": 112, \"StichtagDatJahr\": \"2017-01-01T00:00:00\"}, {\"EreignisDatJahr\": 2017, \"SexLang\": \"weiblich\", \"SexCd\": 2, \"Partnerschaft\": \"Aufgel\\u00f6ste Partnerschaft\", \"PartnerschaftSort\": 2, \"Anzahl\": 7, \"StichtagDatJahr\": \"2017-01-01T00:00:00\"}, {\"EreignisDatJahr\": 2017, \"SexLang\": \"m\\u00e4nnlich\", \"SexCd\": 1, \"Partnerschaft\": \"Aufgel\\u00f6ste Partnerschaft\", \"PartnerschaftSort\": 2, \"Anzahl\": 34, \"StichtagDatJahr\": \"2017-01-01T00:00:00\"}, {\"EreignisDatJahr\": 2018, \"SexLang\": \"weiblich\", \"SexCd\": 2, \"Partnerschaft\": \"Eingetragene Partnerschaft\", \"PartnerschaftSort\": 1, \"Anzahl\": 24, \"StichtagDatJahr\": \"2018-01-01T00:00:00\"}, {\"EreignisDatJahr\": 2018, \"SexLang\": \"m\\u00e4nnlich\", \"SexCd\": 1, \"Partnerschaft\": \"Eingetragene Partnerschaft\", \"PartnerschaftSort\": 1, \"Anzahl\": 84, \"StichtagDatJahr\": \"2018-01-01T00:00:00\"}, {\"EreignisDatJahr\": 2018, \"SexLang\": \"weiblich\", \"SexCd\": 2, \"Partnerschaft\": \"Aufgel\\u00f6ste Partnerschaft\", \"PartnerschaftSort\": 2, \"Anzahl\": 8, \"StichtagDatJahr\": \"2018-01-01T00:00:00\"}, {\"EreignisDatJahr\": 2018, \"SexLang\": \"m\\u00e4nnlich\", \"SexCd\": 1, \"Partnerschaft\": \"Aufgel\\u00f6ste Partnerschaft\", \"PartnerschaftSort\": 2, \"Anzahl\": 34, \"StichtagDatJahr\": \"2018-01-01T00:00:00\"}, {\"EreignisDatJahr\": 2019, \"SexLang\": \"weiblich\", \"SexCd\": 2, \"Partnerschaft\": \"Eingetragene Partnerschaft\", \"PartnerschaftSort\": 1, \"Anzahl\": 17, \"StichtagDatJahr\": \"2019-01-01T00:00:00\"}, {\"EreignisDatJahr\": 2019, \"SexLang\": \"m\\u00e4nnlich\", \"SexCd\": 1, \"Partnerschaft\": \"Eingetragene Partnerschaft\", \"PartnerschaftSort\": 1, \"Anzahl\": 94, \"StichtagDatJahr\": \"2019-01-01T00:00:00\"}, {\"EreignisDatJahr\": 2019, \"SexLang\": \"weiblich\", \"SexCd\": 2, \"Partnerschaft\": \"Aufgel\\u00f6ste Partnerschaft\", \"PartnerschaftSort\": 2, \"Anzahl\": 8, \"StichtagDatJahr\": \"2019-01-01T00:00:00\"}, {\"EreignisDatJahr\": 2019, \"SexLang\": \"m\\u00e4nnlich\", \"SexCd\": 1, \"Partnerschaft\": \"Aufgel\\u00f6ste Partnerschaft\", \"PartnerschaftSort\": 2, \"Anzahl\": 33, \"StichtagDatJahr\": \"2019-01-01T00:00:00\"}, {\"EreignisDatJahr\": 2020, \"SexLang\": \"weiblich\", \"SexCd\": 2, \"Partnerschaft\": \"Eingetragene Partnerschaft\", \"PartnerschaftSort\": 1, \"Anzahl\": 27, \"StichtagDatJahr\": \"2020-01-01T00:00:00\"}, {\"EreignisDatJahr\": 2020, \"SexLang\": \"m\\u00e4nnlich\", \"SexCd\": 1, \"Partnerschaft\": \"Eingetragene Partnerschaft\", \"PartnerschaftSort\": 1, \"Anzahl\": 83, \"StichtagDatJahr\": \"2020-01-01T00:00:00\"}, {\"EreignisDatJahr\": 2020, \"SexLang\": \"weiblich\", \"SexCd\": 2, \"Partnerschaft\": \"Aufgel\\u00f6ste Partnerschaft\", \"PartnerschaftSort\": 2, \"Anzahl\": 12, \"StichtagDatJahr\": \"2020-01-01T00:00:00\"}, {\"EreignisDatJahr\": 2020, \"SexLang\": \"m\\u00e4nnlich\", \"SexCd\": 1, \"Partnerschaft\": \"Aufgel\\u00f6ste Partnerschaft\", \"PartnerschaftSort\": 2, \"Anzahl\": 28, \"StichtagDatJahr\": \"2020-01-01T00:00:00\"}]}}, {\"mode\": \"vega-lite\"});\n",
       "</script>"
      ],
      "text/plain": [
       "alt.Chart(...)"
      ]
     },
     "execution_count": 56,
     "metadata": {},
     "output_type": "execute_result"
    }
   ],
   "source": [
    "alt.Chart(data2betested).mark_circle(size=60).encode(\n",
    "    x='StichtagDatJahr',\n",
    "    y='Anzahl',\n",
    "    #color='AnzNat',\n",
    "    #color=alt.Color('AnzNat', scale=alt.Scale(scheme='greens')),\n",
    "    color=alt.Color('Partnerschaft', scale=alt.Scale(scheme='dark2')),\n",
    "    tooltip=['StichtagDatJahr','Partnerschaft','Anzahl']\n",
    ").interactive() # this makes the axes interactive: now you can zoom & pan\n",
    "\n",
    "\n"
   ]
  },
  {
   "cell_type": "markdown",
   "metadata": {},
   "source": [
    "**Sharepoint als gecheckt markieren!**"
   ]
  },
  {
   "cell_type": "markdown",
   "metadata": {},
   "source": [
    "Record auf Sharepoint: **[Link](http://kollaboration.intranet.stzh.ch/orga/ssz-produkte/Lists/SASA_Outputs/EditForm.aspx?ID=52&Source=%2Forga%2Fssz%2Dprodukte%2FLists%2FSASA%5FOutputs)**"
   ]
  },
  {
   "cell_type": "raw",
   "metadata": {},
   "source": []
  },
  {
   "cell_type": "code",
   "execution_count": null,
   "metadata": {},
   "outputs": [],
   "source": []
  }
 ],
 "metadata": {
  "kernelspec": {
   "display_name": "Python 3 (ipykernel)",
   "language": "python",
   "name": "python3"
  },
  "language_info": {
   "codemirror_mode": {
    "name": "ipython",
    "version": 3
   },
   "file_extension": ".py",
   "mimetype": "text/x-python",
   "name": "python",
   "nbconvert_exporter": "python",
   "pygments_lexer": "ipython3",
   "version": "3.9.7"
  }
 },
 "nbformat": 4,
 "nbformat_minor": 4
}
