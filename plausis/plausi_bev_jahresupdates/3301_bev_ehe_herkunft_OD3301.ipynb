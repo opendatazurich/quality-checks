{
 "cells": [
  {
   "cell_type": "markdown",
   "metadata": {},
   "source": [
    "# Testing\n",
    "### Eheschliessung nach Herkunft der Eheschliessenden, seit 1993\n",
    "Datum: 02.11.2021"
   ]
  },
  {
   "cell_type": "markdown",
   "metadata": {},
   "source": [
    "**Importiere die notwendigen Packages**"
   ]
  },
  {
   "cell_type": "code",
   "execution_count": 36,
   "metadata": {},
   "outputs": [],
   "source": [
    "import pandas as pd\n",
    "import pivottablejs\n",
    "from pivottablejs import pivot_ui\n",
    "import numpy as np\n",
    "import altair as alt\n",
    "import matplotlib.pyplot as plt\n",
    "\n",
    "import datetime\n",
    "import geopandas as gpd\n",
    "import folium \n",
    "import plotly.express as px\n",
    "import seaborn as sns\n",
    "import leafmap\n",
    "\n",
    "import requests\n",
    "import io\n"
   ]
  },
  {
   "cell_type": "code",
   "execution_count": 37,
   "metadata": {},
   "outputs": [],
   "source": [
    "SSL_VERIFY = False\n",
    "# evtl. SSL_VERIFY auf False setzen wenn die Verbindung zu https://www.gemeinderat-zuerich.ch nicht klappt (z.B. wegen Proxy)\n",
    "# Um die SSL Verifikation auszustellen, bitte die nächste Zeile einkommentieren (\"#\" entfernen)\n",
    "# SSL_VERIFY = False"
   ]
  },
  {
   "cell_type": "code",
   "execution_count": 38,
   "metadata": {},
   "outputs": [],
   "source": [
    "if not SSL_VERIFY:\n",
    "    import urllib3\n",
    "    urllib3.disable_warnings()"
   ]
  },
  {
   "cell_type": "markdown",
   "metadata": {},
   "source": [
    "Definiere Settings. Hier das Zahlenformat von Float-Werten (z.B. *'{:,.2f}'.format* mit Komma als Tausenderzeichen), "
   ]
  },
  {
   "cell_type": "code",
   "execution_count": 39,
   "metadata": {},
   "outputs": [],
   "source": [
    "#pd.options.display.float_format = lambda x : '{:,.1f}'.format(x) if (np.isnan(x) | np.isinf(x)) else '{:,.0f}'.format(x) if int(x) == x else '{:,.1f}'.format(x)\n",
    "pd.options.display.float_format = '{:.0f}'.format\n",
    "pd.set_option('display.width', 100)\n",
    "pd.set_option('display.max_columns', 15)"
   ]
  },
  {
   "cell_type": "markdown",
   "metadata": {},
   "source": [
    "### Zeitvariabeln\n",
    "Bestimme den aktuellst geladenen Monat. Hier ist es der Stand vor 2 Monaten. \n",
    "Bestimme noch weitere evt. sinnvolle Zeitvariabeln.\n",
    "\n",
    "Zum Unterschied zwischen import datetime und from datedtime import datetime, siehe https://stackoverflow.com/questions/15707532/import-datetime-v-s-from-datetime-import-datetime\n",
    "\n",
    "Zuerst die Zeitvariabeln als Strings"
   ]
  },
  {
   "cell_type": "code",
   "execution_count": 40,
   "metadata": {},
   "outputs": [],
   "source": [
    "#today_date = datetime.date.today()\n",
    "#date_time = datetime.datetime.strptime(date_time_string, '%Y-%m-%d %H:%M')\n",
    "now = datetime.date.today()\n",
    "date_today = now.strftime(\"%Y-%m-%d\")\n",
    "year_today = now.strftime(\"%Y\")\n",
    "month_today = now.strftime(\"%m\")\n",
    "day_today = now.strftime(\"%d\")\n"
   ]
  },
  {
   "cell_type": "markdown",
   "metadata": {},
   "source": [
    "Und hier noch die Zeitvariabeln als Integers:\n",
    "- `aktuellesJahr`\n",
    "- `aktuellerMonat`: Der gerade jetzt aktuelle Monat\n",
    "- `selectedMonat`: Der aktuellste Monat in den Daten. In der Regel zwei Monate her."
   ]
  },
  {
   "cell_type": "code",
   "execution_count": 41,
   "metadata": {},
   "outputs": [
    {
     "name": "stdout",
     "output_type": "stream",
     "text": [
      "2022 11 datenstand:  9 time.struct_time(tm_year=2022, tm_mon=11, tm_mday=3, tm_hour=0, tm_min=0, tm_sec=0, tm_wday=3, tm_yday=307, tm_isdst=-1)\n"
     ]
    }
   ],
   "source": [
    "#now = datetime.now() \n",
    "int_times = now.timetuple()\n",
    "\n",
    "aktuellesJahr = int_times[0]\n",
    "aktuellerMonat = int_times[1]\n",
    "selectedMonat = int_times[1]-2\n",
    "\n",
    "print(aktuellesJahr, \n",
    "      aktuellerMonat,\n",
    "    'datenstand: ', selectedMonat,\n",
    "     int_times)\n"
   ]
  },
  {
   "cell_type": "markdown",
   "metadata": {},
   "source": [
    "Berechne die Variable Epoche um später das SAS-Datum in ein Unix-Datum umzuwandeln. Bei SAS beginnt die Epoche am 1.1.1960. Bei Unix am 1.1.1970.\n",
    "Diese Variable wird beim CSV-Import benötigt."
   ]
  },
  {
   "cell_type": "code",
   "execution_count": 42,
   "metadata": {},
   "outputs": [],
   "source": [
    "epoch = datetime.datetime(1960, 1, 1)"
   ]
  },
  {
   "cell_type": "markdown",
   "metadata": {},
   "source": [
    "### Setze einige Pfadvariabeln"
   ]
  },
  {
   "cell_type": "markdown",
   "metadata": {
    "tags": []
   },
   "source": [
    "- Der Packagename ist eigentlich der **Verzeichnisname** unter dem die Daten und Metadaten auf der Dropzone abgelegt werden.\n",
    "- Definiert wird er bei SASA-Prozessen auf dem **Produkte-Sharepoint ([Link](https://kollaboration.intranet.stzh.ch/orga/ssz-produkte/Lists/SASA_Outputs/PersonalViews.aspx?PageView=Personal&ShowWebPart={6087A3E7-8AC8-40BA-8278-DECFACE124FF}))**.\n",
    "- Der Packagename wird auf CKAN teil der URL, daher ist die exakte Schreibweise wichtig.\n",
    "\n",
    "Beachte: im Packagename müssen alle Buchstaben **klein** geschrieben werden. Dies weil CKAN aus grossen kleine Buchstaben macht."
   ]
  },
  {
   "cell_type": "markdown",
   "metadata": {},
   "source": [
    "**BITTE HIER ANPASSEN**"
   ]
  },
  {
   "cell_type": "code",
   "execution_count": 43,
   "metadata": {},
   "outputs": [],
   "source": [
    "package_name = \"bev_ehe_herkunft_od3301\""
   ]
  },
  {
   "cell_type": "code",
   "execution_count": 44,
   "metadata": {
    "tags": []
   },
   "outputs": [],
   "source": [
    "dataset_name = \"BEV330OD3301.csv\""
   ]
  },
  {
   "cell_type": "markdown",
   "metadata": {},
   "source": [
    "**Statische Pfade in DWH-Dropzones**"
   ]
  },
  {
   "cell_type": "code",
   "execution_count": 45,
   "metadata": {},
   "outputs": [],
   "source": [
    "dropzone_path_integ = r\"\\\\szh\\ssz\\applikationen\\OGD_Dropzone\\INT_DWH\""
   ]
  },
  {
   "cell_type": "code",
   "execution_count": 46,
   "metadata": {
    "tags": []
   },
   "outputs": [],
   "source": [
    "dropzone_path_prod = r\"\\\\szh\\ssz\\applikationen\\OGD_Dropzone\\DWH\""
   ]
  },
  {
   "cell_type": "markdown",
   "metadata": {},
   "source": [
    "**Statische Pfade CKAN-URLs**"
   ]
  },
  {
   "cell_type": "code",
   "execution_count": 47,
   "metadata": {
    "tags": []
   },
   "outputs": [],
   "source": [
    "ckan_integ_url =\"https://data.integ.stadt-zuerich.ch/dataset/int_dwh_\""
   ]
  },
  {
   "cell_type": "code",
   "execution_count": 48,
   "metadata": {},
   "outputs": [],
   "source": [
    "ckan_prod_url =\"https://data.stadt-zuerich.ch/dataset/\""
   ]
  },
  {
   "cell_type": "markdown",
   "metadata": {},
   "source": [
    "### Checke die Metadaten auf der CKAN INTEG- oder PROD-Webseite\n",
    "\n",
    "Offenbar lassen sich aktuell im Markdownteil keine Variabeln ausführen, daher gehen wir wie unten gezeigt vor. Siehe dazu: https://data-dive.com/jupyterlab-markdown-cells-include-variables\n",
    "Instead of setting the cell to Markdown, create Markdown from withnin a code cell! We can just use python variable replacement syntax to make the text dynamic"
   ]
  },
  {
   "cell_type": "code",
   "execution_count": 49,
   "metadata": {},
   "outputs": [],
   "source": [
    "from IPython.display import Markdown as md"
   ]
  },
  {
   "cell_type": "code",
   "execution_count": 50,
   "metadata": {},
   "outputs": [
    {
     "data": {
      "text/markdown": [
       " **1. Dataset auf INTEG-Datakatalog:** Link https://data.integ.stadt-zuerich.ch/dataset/int_dwh_bev_ehe_herkunft_od3301 "
      ],
      "text/plain": [
       "<IPython.core.display.Markdown object>"
      ]
     },
     "execution_count": 50,
     "metadata": {},
     "output_type": "execute_result"
    }
   ],
   "source": [
    "md(\" **1. Dataset auf INTEG-Datakatalog:** Link {} \".format(ckan_integ_url+package_name))"
   ]
  },
  {
   "cell_type": "code",
   "execution_count": 51,
   "metadata": {
    "tags": []
   },
   "outputs": [
    {
     "data": {
      "text/markdown": [
       " **2. Dataset auf PROD-Datakatalog:** Link https://data.stadt-zuerich.ch/dataset/bev_ehe_herkunft_od3301 "
      ],
      "text/plain": [
       "<IPython.core.display.Markdown object>"
      ]
     },
     "execution_count": 51,
     "metadata": {},
     "output_type": "execute_result"
    }
   ],
   "source": [
    "md(\" **2. Dataset auf PROD-Datakatalog:** Link {} \".format(ckan_prod_url+package_name))"
   ]
  },
  {
   "cell_type": "markdown",
   "metadata": {
    "tags": []
   },
   "source": [
    "### Importiere einen Datensatz \n",
    "\n",
    "Definiere zuerst folgende Werte:\n",
    "1) Kommt der Datensatz von PROD oder INTEG?\n",
    "2) Beziehst Du den Datensatz direkt ab der DROPZONE oder aus dem INTERNET?"
   ]
  },
  {
   "cell_type": "code",
   "execution_count": 52,
   "metadata": {},
   "outputs": [
    {
     "name": "stdout",
     "output_type": "stream",
     "text": [
      "integ - dropzone\n"
     ]
    }
   ],
   "source": [
    "#Die Datasets sind nur zum Testen auf INT-DWH-Dropzone. Wenn der Test vorbei ist, sind sie auf PROD. \n",
    "# Über den Status kann man einfach switchen\n",
    "\n",
    "status = \"integ\"; #prod vs something else\n",
    "data_source = \"dropzone\"; #dropzone vs something else\n",
    "print(status+\" - \"+ data_source)"
   ]
  },
  {
   "cell_type": "code",
   "execution_count": 53,
   "metadata": {
    "tags": []
   },
   "outputs": [
    {
     "name": "stdout",
     "output_type": "stream",
     "text": [
      "fp lautet:\\\\szh\\ssz\\applikationen\\OGD_Dropzone\\INT_DWH\\bev_ehe_herkunft_od3301\\BEV330OD3301.csv\n"
     ]
    }
   ],
   "source": [
    "# Filepath\n",
    "if status == \"prod\":\n",
    "    if data_source == \"dropzone\":\n",
    "            fp = dropzone_path_prod+\"\\\\\"+ package_name +\"\\\\\"+dataset_name\n",
    "            print(\"fp lautet:\"+fp)\n",
    "    else:\n",
    "        #fp = r\"https://data.stadt-zuerich.ch/dataset/bau_neubau_whg_bausm_rinh_geb_projstatus_quartier_seit2009_od5011/download/BAU501OD5011.csv\"\n",
    "        fp = ckan_prod_url+package_name+'/download/'+dataset_name\n",
    "        print(\"fp lautet:\"+fp)\n",
    "else:\n",
    "    if data_source == \"dropzone\":\n",
    "        fp = dropzone_path_integ+\"\\\\\"+ package_name +\"\\\\\"+dataset_name\n",
    "        print(\"fp lautet:\"+fp)\n",
    "    else:\n",
    "        #fp = r\"https://data.stadt-zuerich.ch/dataset/bau_neubau_whg_bausm_rinh_geb_projstatus_quartier_seit2009_od5011/download/BAU501OD5011.csv\"\n",
    "        fp = ckan_integ_url+package_name+'/download/'+dataset_name\n",
    "        print(\"fp lautet:\"+fp)\n"
   ]
  },
  {
   "cell_type": "markdown",
   "metadata": {},
   "source": [
    "Beachte, wie das SAS Datum (ohne Format) in ein UNIX Datum umgerechnet und als Datumsformat dargestellt wird! Siehe dazu `https://stackoverflow.com/questions/26923564/convert-sas-numeric-to-python-datetime`"
   ]
  },
  {
   "cell_type": "code",
   "execution_count": 76,
   "metadata": {},
   "outputs": [
    {
     "name": "stdout",
     "output_type": "stream",
     "text": [
      "dropzone\n"
     ]
    },
    {
     "data": {
      "text/plain": [
       "StichtagDatJahr    datetime64[ns]\n",
       "HerkunftEp1Lang            object\n",
       "HerkunftEp1Sort             int64\n",
       "HerkunftEp1Cd               int64\n",
       "HerkunftEp2Lang            object\n",
       "HerkunftEp2Sort             int64\n",
       "HerkunftEp2Cd               int64\n",
       "SexEp1Cd                    int64\n",
       "SexEp1Lang                 object\n",
       "SexEp1Kurz                 object\n",
       "SexEp2Cd                    int64\n",
       "SexEp2Lang                 object\n",
       "SexEp2Kurz                 object\n",
       "AnzSchl                     int64\n",
       "dtype: object"
      ]
     },
     "execution_count": 76,
     "metadata": {},
     "output_type": "execute_result"
    }
   ],
   "source": [
    "# Read the data\n",
    "if data_source == \"dropzone\":\n",
    "    data2betested = pd.read_csv(\n",
    "        fp\n",
    "        , sep=','\n",
    "        ,parse_dates=['StichtagDatJahr']\n",
    "        ,low_memory=False\n",
    "    )\n",
    "    print(\"dropzone\")\n",
    "else:\n",
    "    r = requests.get(fp, verify=False)  \n",
    "    r.encoding = 'utf-8'\n",
    "    data2betested = pd.read_csv(\n",
    "        io.StringIO(r.text)\n",
    "        ,parse_dates=['StichtagDatJahr']\n",
    "        # KONVERTIERE DAS SAS DATUM IN EIN UNIXDATUM UND FORMATIERE ES\n",
    "        #, date_parser=lambda s: epoch + datetime.timedelta(days=int(s))\n",
    "        ,low_memory=False)\n",
    "    print(\"web\")\n",
    "\n",
    "data2betested.dtypes"
   ]
  },
  {
   "cell_type": "markdown",
   "metadata": {},
   "source": [
    "Berechne weitere Attribute falls notwendig"
   ]
  },
  {
   "cell_type": "code",
   "execution_count": 77,
   "metadata": {},
   "outputs": [
    {
     "data": {
      "text/plain": [
       "StichtagDatJahr        datetime64[ns]\n",
       "HerkunftEp1Lang                object\n",
       "HerkunftEp1Sort                 int64\n",
       "HerkunftEp1Cd                   int64\n",
       "HerkunftEp2Lang                object\n",
       "HerkunftEp2Sort                 int64\n",
       "HerkunftEp2Cd                   int64\n",
       "SexEp1Cd                        int64\n",
       "SexEp1Lang                     object\n",
       "SexEp1Kurz                     object\n",
       "SexEp2Cd                        int64\n",
       "SexEp2Lang                     object\n",
       "SexEp2Kurz                     object\n",
       "AnzSchl                         int64\n",
       "StichtagDatJahr_str            object\n",
       "dtype: object"
      ]
     },
     "execution_count": 77,
     "metadata": {},
     "output_type": "execute_result"
    }
   ],
   "source": [
    "data2betested = (\n",
    "    data2betested\n",
    "    .copy()\n",
    "    .assign(\n",
    "        #Aktualisierungs_Datum_str= lambda x: x.Aktualisierungs_Datum.astype(str),\n",
    "        StichtagDatJahr_str = lambda x: x.StichtagDatJahr.astype(str),\n",
    "    )\n",
    "    .sort_values('StichtagDatJahr', ascending=False)\n",
    "    )\n",
    "data2betested.dtypes"
   ]
  },
  {
   "cell_type": "markdown",
   "metadata": {},
   "source": [
    "### Einfache Datentests"
   ]
  },
  {
   "cell_type": "markdown",
   "metadata": {},
   "source": [
    " - 1) Zeige eine kurze Vorschau der importierten Daten\n",
    " - 2) Weise die Datentypen aus\n",
    " - 3) Zeige die Shape (Umfang) des Datensatzes an"
   ]
  },
  {
   "cell_type": "code",
   "execution_count": 78,
   "metadata": {},
   "outputs": [],
   "source": [
    "#data2betested.head(6)"
   ]
  },
  {
   "cell_type": "code",
   "execution_count": 79,
   "metadata": {},
   "outputs": [
    {
     "data": {
      "text/plain": [
       "StichtagDatJahr        datetime64[ns]\n",
       "HerkunftEp1Lang                object\n",
       "HerkunftEp1Sort                 int64\n",
       "HerkunftEp1Cd                   int64\n",
       "HerkunftEp2Lang                object\n",
       "HerkunftEp2Sort                 int64\n",
       "HerkunftEp2Cd                   int64\n",
       "SexEp1Cd                        int64\n",
       "SexEp1Lang                     object\n",
       "SexEp1Kurz                     object\n",
       "SexEp2Cd                        int64\n",
       "SexEp2Lang                     object\n",
       "SexEp2Kurz                     object\n",
       "AnzSchl                         int64\n",
       "StichtagDatJahr_str            object\n",
       "dtype: object"
      ]
     },
     "execution_count": 79,
     "metadata": {},
     "output_type": "execute_result"
    }
   ],
   "source": [
    "data2betested.dtypes"
   ]
  },
  {
   "cell_type": "code",
   "execution_count": 80,
   "metadata": {},
   "outputs": [
    {
     "data": {
      "text/plain": [
       "(116, 15)"
      ]
     },
     "execution_count": 80,
     "metadata": {},
     "output_type": "execute_result"
    }
   ],
   "source": [
    "data2betested.shape"
   ]
  },
  {
   "cell_type": "markdown",
   "metadata": {},
   "source": [
    "Beschreibe einzelne Attribute"
   ]
  },
  {
   "cell_type": "code",
   "execution_count": 81,
   "metadata": {},
   "outputs": [
    {
     "data": {
      "text/html": [
       "<div>\n",
       "<style scoped>\n",
       "    .dataframe tbody tr th:only-of-type {\n",
       "        vertical-align: middle;\n",
       "    }\n",
       "\n",
       "    .dataframe tbody tr th {\n",
       "        vertical-align: top;\n",
       "    }\n",
       "\n",
       "    .dataframe thead th {\n",
       "        text-align: right;\n",
       "    }\n",
       "</style>\n",
       "<table border=\"1\" class=\"dataframe\">\n",
       "  <thead>\n",
       "    <tr style=\"text-align: right;\">\n",
       "      <th></th>\n",
       "      <th>HerkunftEp1Sort</th>\n",
       "      <th>HerkunftEp1Cd</th>\n",
       "      <th>HerkunftEp2Sort</th>\n",
       "      <th>HerkunftEp2Cd</th>\n",
       "      <th>SexEp1Cd</th>\n",
       "      <th>SexEp2Cd</th>\n",
       "      <th>AnzSchl</th>\n",
       "    </tr>\n",
       "  </thead>\n",
       "  <tbody>\n",
       "    <tr>\n",
       "      <th>count</th>\n",
       "      <td>116</td>\n",
       "      <td>116</td>\n",
       "      <td>116</td>\n",
       "      <td>116</td>\n",
       "      <td>116</td>\n",
       "      <td>116</td>\n",
       "      <td>116</td>\n",
       "    </tr>\n",
       "    <tr>\n",
       "      <th>mean</th>\n",
       "      <td>2</td>\n",
       "      <td>2</td>\n",
       "      <td>2</td>\n",
       "      <td>2</td>\n",
       "      <td>2</td>\n",
       "      <td>1</td>\n",
       "      <td>845</td>\n",
       "    </tr>\n",
       "    <tr>\n",
       "      <th>std</th>\n",
       "      <td>1</td>\n",
       "      <td>1</td>\n",
       "      <td>1</td>\n",
       "      <td>1</td>\n",
       "      <td>0</td>\n",
       "      <td>0</td>\n",
       "      <td>226</td>\n",
       "    </tr>\n",
       "    <tr>\n",
       "      <th>min</th>\n",
       "      <td>1</td>\n",
       "      <td>1</td>\n",
       "      <td>1</td>\n",
       "      <td>1</td>\n",
       "      <td>2</td>\n",
       "      <td>1</td>\n",
       "      <td>426</td>\n",
       "    </tr>\n",
       "    <tr>\n",
       "      <th>25%</th>\n",
       "      <td>1</td>\n",
       "      <td>1</td>\n",
       "      <td>1</td>\n",
       "      <td>1</td>\n",
       "      <td>2</td>\n",
       "      <td>1</td>\n",
       "      <td>650</td>\n",
       "    </tr>\n",
       "    <tr>\n",
       "      <th>50%</th>\n",
       "      <td>2</td>\n",
       "      <td>2</td>\n",
       "      <td>2</td>\n",
       "      <td>2</td>\n",
       "      <td>2</td>\n",
       "      <td>1</td>\n",
       "      <td>851</td>\n",
       "    </tr>\n",
       "    <tr>\n",
       "      <th>75%</th>\n",
       "      <td>2</td>\n",
       "      <td>2</td>\n",
       "      <td>2</td>\n",
       "      <td>2</td>\n",
       "      <td>2</td>\n",
       "      <td>1</td>\n",
       "      <td>1033</td>\n",
       "    </tr>\n",
       "    <tr>\n",
       "      <th>max</th>\n",
       "      <td>2</td>\n",
       "      <td>2</td>\n",
       "      <td>2</td>\n",
       "      <td>2</td>\n",
       "      <td>2</td>\n",
       "      <td>1</td>\n",
       "      <td>1363</td>\n",
       "    </tr>\n",
       "  </tbody>\n",
       "</table>\n",
       "</div>"
      ],
      "text/plain": [
       "       HerkunftEp1Sort  HerkunftEp1Cd  HerkunftEp2Sort  HerkunftEp2Cd  SexEp1Cd  SexEp2Cd  AnzSchl\n",
       "count              116            116              116            116       116       116      116\n",
       "mean                 2              2                2              2         2         1      845\n",
       "std                  1              1                1              1         0         0      226\n",
       "min                  1              1                1              1         2         1      426\n",
       "25%                  1              1                1              1         2         1      650\n",
       "50%                  2              2                2              2         2         1      851\n",
       "75%                  2              2                2              2         2         1     1033\n",
       "max                  2              2                2              2         2         1     1363"
      ]
     },
     "execution_count": 81,
     "metadata": {},
     "output_type": "execute_result"
    }
   ],
   "source": [
    "data2betested.describe()"
   ]
  },
  {
   "cell_type": "markdown",
   "metadata": {},
   "source": [
    "Wie viele Nullwerte gibt es im Datensatz?"
   ]
  },
  {
   "cell_type": "code",
   "execution_count": 82,
   "metadata": {
    "scrolled": true
   },
   "outputs": [
    {
     "data": {
      "text/plain": [
       "StichtagDatJahr        0\n",
       "HerkunftEp1Lang        0\n",
       "HerkunftEp1Sort        0\n",
       "HerkunftEp1Cd          0\n",
       "HerkunftEp2Lang        0\n",
       "HerkunftEp2Sort        0\n",
       "HerkunftEp2Cd          0\n",
       "SexEp1Cd               0\n",
       "SexEp1Lang             0\n",
       "SexEp1Kurz             0\n",
       "SexEp2Cd               0\n",
       "SexEp2Lang             0\n",
       "SexEp2Kurz             0\n",
       "AnzSchl                0\n",
       "StichtagDatJahr_str    0\n",
       "dtype: int64"
      ]
     },
     "execution_count": 82,
     "metadata": {},
     "output_type": "execute_result"
    }
   ],
   "source": [
    "data2betested.isnull().sum()"
   ]
  },
  {
   "cell_type": "markdown",
   "metadata": {},
   "source": [
    "Welches sind die Quartiere ohne Werte bei AnzBestWir?"
   ]
  },
  {
   "cell_type": "code",
   "execution_count": 83,
   "metadata": {},
   "outputs": [
    {
     "data": {
      "text/html": [
       "<div>\n",
       "<style scoped>\n",
       "    .dataframe tbody tr th:only-of-type {\n",
       "        vertical-align: middle;\n",
       "    }\n",
       "\n",
       "    .dataframe tbody tr th {\n",
       "        vertical-align: top;\n",
       "    }\n",
       "\n",
       "    .dataframe thead th {\n",
       "        text-align: right;\n",
       "    }\n",
       "</style>\n",
       "<table border=\"1\" class=\"dataframe\">\n",
       "  <thead>\n",
       "    <tr style=\"text-align: right;\">\n",
       "      <th></th>\n",
       "      <th>StichtagDatJahr</th>\n",
       "      <th>HerkunftEp1Lang</th>\n",
       "      <th>HerkunftEp1Sort</th>\n",
       "      <th>HerkunftEp1Cd</th>\n",
       "      <th>HerkunftEp2Lang</th>\n",
       "      <th>HerkunftEp2Sort</th>\n",
       "      <th>HerkunftEp2Cd</th>\n",
       "      <th>SexEp1Cd</th>\n",
       "      <th>SexEp1Lang</th>\n",
       "      <th>SexEp1Kurz</th>\n",
       "      <th>SexEp2Cd</th>\n",
       "      <th>SexEp2Lang</th>\n",
       "      <th>SexEp2Kurz</th>\n",
       "      <th>AnzSchl</th>\n",
       "      <th>StichtagDatJahr_str</th>\n",
       "    </tr>\n",
       "  </thead>\n",
       "  <tbody>\n",
       "  </tbody>\n",
       "</table>\n",
       "</div>"
      ],
      "text/plain": [
       "Empty DataFrame\n",
       "Columns: [StichtagDatJahr, HerkunftEp1Lang, HerkunftEp1Sort, HerkunftEp1Cd, HerkunftEp2Lang, HerkunftEp2Sort, HerkunftEp2Cd, SexEp1Cd, SexEp1Lang, SexEp1Kurz, SexEp2Cd, SexEp2Lang, SexEp2Kurz, AnzSchl, StichtagDatJahr_str]\n",
       "Index: []"
      ]
     },
     "execution_count": 83,
     "metadata": {},
     "output_type": "execute_result"
    }
   ],
   "source": [
    "data2betested[np.isnan(data2betested.AnzSchl)]"
   ]
  },
  {
   "cell_type": "markdown",
   "metadata": {},
   "source": [
    "### Setze den Zeitindex"
   ]
  },
  {
   "cell_type": "code",
   "execution_count": 88,
   "metadata": {},
   "outputs": [
    {
     "data": {
      "text/html": [
       "<div>\n",
       "<style scoped>\n",
       "    .dataframe tbody tr th:only-of-type {\n",
       "        vertical-align: middle;\n",
       "    }\n",
       "\n",
       "    .dataframe tbody tr th {\n",
       "        vertical-align: top;\n",
       "    }\n",
       "\n",
       "    .dataframe thead th {\n",
       "        text-align: right;\n",
       "    }\n",
       "</style>\n",
       "<table border=\"1\" class=\"dataframe\">\n",
       "  <thead>\n",
       "    <tr style=\"text-align: right;\">\n",
       "      <th></th>\n",
       "      <th>HerkunftEp1Lang</th>\n",
       "      <th>HerkunftEp1Sort</th>\n",
       "      <th>HerkunftEp1Cd</th>\n",
       "      <th>HerkunftEp2Lang</th>\n",
       "      <th>HerkunftEp2Sort</th>\n",
       "      <th>HerkunftEp2Cd</th>\n",
       "      <th>SexEp1Cd</th>\n",
       "      <th>SexEp1Lang</th>\n",
       "      <th>SexEp1Kurz</th>\n",
       "      <th>SexEp2Cd</th>\n",
       "      <th>SexEp2Lang</th>\n",
       "      <th>SexEp2Kurz</th>\n",
       "      <th>AnzSchl</th>\n",
       "      <th>StichtagDatJahr_str</th>\n",
       "    </tr>\n",
       "    <tr>\n",
       "      <th>StichtagDatJahr</th>\n",
       "      <th></th>\n",
       "      <th></th>\n",
       "      <th></th>\n",
       "      <th></th>\n",
       "      <th></th>\n",
       "      <th></th>\n",
       "      <th></th>\n",
       "      <th></th>\n",
       "      <th></th>\n",
       "      <th></th>\n",
       "      <th></th>\n",
       "      <th></th>\n",
       "      <th></th>\n",
       "      <th></th>\n",
       "    </tr>\n",
       "  </thead>\n",
       "  <tbody>\n",
       "    <tr>\n",
       "      <th>2021-01-01</th>\n",
       "      <td>Schweizer/in</td>\n",
       "      <td>1</td>\n",
       "      <td>1</td>\n",
       "      <td>Schweizer/in</td>\n",
       "      <td>1</td>\n",
       "      <td>1</td>\n",
       "      <td>2</td>\n",
       "      <td>weiblich</td>\n",
       "      <td>W</td>\n",
       "      <td>1</td>\n",
       "      <td>männlich</td>\n",
       "      <td>M</td>\n",
       "      <td>926</td>\n",
       "      <td>2021-01-01</td>\n",
       "    </tr>\n",
       "    <tr>\n",
       "      <th>2021-01-01</th>\n",
       "      <td>Schweizer/in</td>\n",
       "      <td>1</td>\n",
       "      <td>1</td>\n",
       "      <td>Ausländer/in</td>\n",
       "      <td>2</td>\n",
       "      <td>2</td>\n",
       "      <td>2</td>\n",
       "      <td>weiblich</td>\n",
       "      <td>W</td>\n",
       "      <td>1</td>\n",
       "      <td>männlich</td>\n",
       "      <td>M</td>\n",
       "      <td>426</td>\n",
       "      <td>2021-01-01</td>\n",
       "    </tr>\n",
       "    <tr>\n",
       "      <th>2021-01-01</th>\n",
       "      <td>Ausländer/in</td>\n",
       "      <td>2</td>\n",
       "      <td>2</td>\n",
       "      <td>Schweizer/in</td>\n",
       "      <td>1</td>\n",
       "      <td>1</td>\n",
       "      <td>2</td>\n",
       "      <td>weiblich</td>\n",
       "      <td>W</td>\n",
       "      <td>1</td>\n",
       "      <td>männlich</td>\n",
       "      <td>M</td>\n",
       "      <td>543</td>\n",
       "      <td>2021-01-01</td>\n",
       "    </tr>\n",
       "    <tr>\n",
       "      <th>2021-01-01</th>\n",
       "      <td>Ausländer/in</td>\n",
       "      <td>2</td>\n",
       "      <td>2</td>\n",
       "      <td>Ausländer/in</td>\n",
       "      <td>2</td>\n",
       "      <td>2</td>\n",
       "      <td>2</td>\n",
       "      <td>weiblich</td>\n",
       "      <td>W</td>\n",
       "      <td>1</td>\n",
       "      <td>männlich</td>\n",
       "      <td>M</td>\n",
       "      <td>941</td>\n",
       "      <td>2021-01-01</td>\n",
       "    </tr>\n",
       "    <tr>\n",
       "      <th>2020-01-01</th>\n",
       "      <td>Schweizer/in</td>\n",
       "      <td>1</td>\n",
       "      <td>1</td>\n",
       "      <td>Schweizer/in</td>\n",
       "      <td>1</td>\n",
       "      <td>1</td>\n",
       "      <td>2</td>\n",
       "      <td>weiblich</td>\n",
       "      <td>W</td>\n",
       "      <td>1</td>\n",
       "      <td>männlich</td>\n",
       "      <td>M</td>\n",
       "      <td>923</td>\n",
       "      <td>2020-01-01</td>\n",
       "    </tr>\n",
       "    <tr>\n",
       "      <th>...</th>\n",
       "      <td>...</td>\n",
       "      <td>...</td>\n",
       "      <td>...</td>\n",
       "      <td>...</td>\n",
       "      <td>...</td>\n",
       "      <td>...</td>\n",
       "      <td>...</td>\n",
       "      <td>...</td>\n",
       "      <td>...</td>\n",
       "      <td>...</td>\n",
       "      <td>...</td>\n",
       "      <td>...</td>\n",
       "      <td>...</td>\n",
       "      <td>...</td>\n",
       "    </tr>\n",
       "    <tr>\n",
       "      <th>1994-01-01</th>\n",
       "      <td>Ausländer/in</td>\n",
       "      <td>2</td>\n",
       "      <td>2</td>\n",
       "      <td>Ausländer/in</td>\n",
       "      <td>2</td>\n",
       "      <td>2</td>\n",
       "      <td>2</td>\n",
       "      <td>weiblich</td>\n",
       "      <td>W</td>\n",
       "      <td>1</td>\n",
       "      <td>männlich</td>\n",
       "      <td>M</td>\n",
       "      <td>1048</td>\n",
       "      <td>1994-01-01</td>\n",
       "    </tr>\n",
       "    <tr>\n",
       "      <th>1993-01-01</th>\n",
       "      <td>Schweizer/in</td>\n",
       "      <td>1</td>\n",
       "      <td>1</td>\n",
       "      <td>Ausländer/in</td>\n",
       "      <td>2</td>\n",
       "      <td>2</td>\n",
       "      <td>2</td>\n",
       "      <td>weiblich</td>\n",
       "      <td>W</td>\n",
       "      <td>1</td>\n",
       "      <td>männlich</td>\n",
       "      <td>M</td>\n",
       "      <td>767</td>\n",
       "      <td>1993-01-01</td>\n",
       "    </tr>\n",
       "    <tr>\n",
       "      <th>1993-01-01</th>\n",
       "      <td>Ausländer/in</td>\n",
       "      <td>2</td>\n",
       "      <td>2</td>\n",
       "      <td>Schweizer/in</td>\n",
       "      <td>1</td>\n",
       "      <td>1</td>\n",
       "      <td>2</td>\n",
       "      <td>weiblich</td>\n",
       "      <td>W</td>\n",
       "      <td>1</td>\n",
       "      <td>männlich</td>\n",
       "      <td>M</td>\n",
       "      <td>615</td>\n",
       "      <td>1993-01-01</td>\n",
       "    </tr>\n",
       "    <tr>\n",
       "      <th>1993-01-01</th>\n",
       "      <td>Schweizer/in</td>\n",
       "      <td>1</td>\n",
       "      <td>1</td>\n",
       "      <td>Schweizer/in</td>\n",
       "      <td>1</td>\n",
       "      <td>1</td>\n",
       "      <td>2</td>\n",
       "      <td>weiblich</td>\n",
       "      <td>W</td>\n",
       "      <td>1</td>\n",
       "      <td>männlich</td>\n",
       "      <td>M</td>\n",
       "      <td>1143</td>\n",
       "      <td>1993-01-01</td>\n",
       "    </tr>\n",
       "    <tr>\n",
       "      <th>1993-01-01</th>\n",
       "      <td>Ausländer/in</td>\n",
       "      <td>2</td>\n",
       "      <td>2</td>\n",
       "      <td>Ausländer/in</td>\n",
       "      <td>2</td>\n",
       "      <td>2</td>\n",
       "      <td>2</td>\n",
       "      <td>weiblich</td>\n",
       "      <td>W</td>\n",
       "      <td>1</td>\n",
       "      <td>männlich</td>\n",
       "      <td>M</td>\n",
       "      <td>1046</td>\n",
       "      <td>1993-01-01</td>\n",
       "    </tr>\n",
       "  </tbody>\n",
       "</table>\n",
       "<p>116 rows × 14 columns</p>\n",
       "</div>"
      ],
      "text/plain": [
       "                HerkunftEp1Lang  HerkunftEp1Sort  HerkunftEp1Cd HerkunftEp2Lang  HerkunftEp2Sort  \\\n",
       "StichtagDatJahr                                                                                    \n",
       "2021-01-01         Schweizer/in                1              1    Schweizer/in                1   \n",
       "2021-01-01         Schweizer/in                1              1    Ausländer/in                2   \n",
       "2021-01-01         Ausländer/in                2              2    Schweizer/in                1   \n",
       "2021-01-01         Ausländer/in                2              2    Ausländer/in                2   \n",
       "2020-01-01         Schweizer/in                1              1    Schweizer/in                1   \n",
       "...                         ...              ...            ...             ...              ...   \n",
       "1994-01-01         Ausländer/in                2              2    Ausländer/in                2   \n",
       "1993-01-01         Schweizer/in                1              1    Ausländer/in                2   \n",
       "1993-01-01         Ausländer/in                2              2    Schweizer/in                1   \n",
       "1993-01-01         Schweizer/in                1              1    Schweizer/in                1   \n",
       "1993-01-01         Ausländer/in                2              2    Ausländer/in                2   \n",
       "\n",
       "                 HerkunftEp2Cd  SexEp1Cd SexEp1Lang SexEp1Kurz  SexEp2Cd SexEp2Lang SexEp2Kurz  \\\n",
       "StichtagDatJahr                                                                                  \n",
       "2021-01-01                   1         2   weiblich          W         1   männlich          M   \n",
       "2021-01-01                   2         2   weiblich          W         1   männlich          M   \n",
       "2021-01-01                   1         2   weiblich          W         1   männlich          M   \n",
       "2021-01-01                   2         2   weiblich          W         1   männlich          M   \n",
       "2020-01-01                   1         2   weiblich          W         1   männlich          M   \n",
       "...                        ...       ...        ...        ...       ...        ...        ...   \n",
       "1994-01-01                   2         2   weiblich          W         1   männlich          M   \n",
       "1993-01-01                   2         2   weiblich          W         1   männlich          M   \n",
       "1993-01-01                   1         2   weiblich          W         1   männlich          M   \n",
       "1993-01-01                   1         2   weiblich          W         1   männlich          M   \n",
       "1993-01-01                   2         2   weiblich          W         1   männlich          M   \n",
       "\n",
       "                 AnzSchl StichtagDatJahr_str  \n",
       "StichtagDatJahr                               \n",
       "2021-01-01           926          2021-01-01  \n",
       "2021-01-01           426          2021-01-01  \n",
       "2021-01-01           543          2021-01-01  \n",
       "2021-01-01           941          2021-01-01  \n",
       "2020-01-01           923          2020-01-01  \n",
       "...                  ...                 ...  \n",
       "1994-01-01          1048          1994-01-01  \n",
       "1993-01-01           767          1993-01-01  \n",
       "1993-01-01           615          1993-01-01  \n",
       "1993-01-01          1143          1993-01-01  \n",
       "1993-01-01          1046          1993-01-01  \n",
       "\n",
       "[116 rows x 14 columns]"
      ]
     },
     "execution_count": 88,
     "metadata": {},
     "output_type": "execute_result"
    }
   ],
   "source": [
    "data2betested.set_index('StichtagDatJahr')"
   ]
  },
  {
   "cell_type": "markdown",
   "metadata": {},
   "source": [
    "### Einfache Visualisierungen zur Plausi"
   ]
  },
  {
   "cell_type": "markdown",
   "metadata": {},
   "source": [
    "Exploriere die Daten mit Pivottable.JS"
   ]
  },
  {
   "cell_type": "code",
   "execution_count": 89,
   "metadata": {},
   "outputs": [
    {
     "data": {
      "text/html": [
       "\n",
       "        <iframe\n",
       "            width=\"100%\"\n",
       "            height=\"500\"\n",
       "            src=\"pivottablejs.html\"\n",
       "            frameborder=\"0\"\n",
       "            allowfullscreen\n",
       "            \n",
       "        ></iframe>\n",
       "        "
      ],
      "text/plain": [
       "<IPython.lib.display.IFrame at 0x1ec7a311ec8>"
      ]
     },
     "execution_count": 89,
     "metadata": {},
     "output_type": "execute_result"
    }
   ],
   "source": [
    "from pivottablejs import pivot_ui\n",
    "\n",
    "pivot_ui(data2betested)"
   ]
  },
  {
   "cell_type": "markdown",
   "metadata": {},
   "source": [
    "**Comment:**\n",
    "\n",
    "Seit 2022 kommt die Kombination der Möglichkeiten bei Ehepartnern nicht mehr vor. Dies muss selber gemacht werden und **fehlt hier noch**:"
   ]
  },
  {
   "cell_type": "code",
   "execution_count": 93,
   "metadata": {},
   "outputs": [
    {
     "data": {
      "text/html": [
       "\n",
       "<div id=\"altair-viz-74b3352b5dd2477b9e1ffb21992ceb80\"></div>\n",
       "<script type=\"text/javascript\">\n",
       "  (function(spec, embedOpt){\n",
       "    let outputDiv = document.currentScript.previousElementSibling;\n",
       "    if (outputDiv.id !== \"altair-viz-74b3352b5dd2477b9e1ffb21992ceb80\") {\n",
       "      outputDiv = document.getElementById(\"altair-viz-74b3352b5dd2477b9e1ffb21992ceb80\");\n",
       "    }\n",
       "    const paths = {\n",
       "      \"vega\": \"https://cdn.jsdelivr.net/npm//vega@5?noext\",\n",
       "      \"vega-lib\": \"https://cdn.jsdelivr.net/npm//vega-lib?noext\",\n",
       "      \"vega-lite\": \"https://cdn.jsdelivr.net/npm//vega-lite@4.8.1?noext\",\n",
       "      \"vega-embed\": \"https://cdn.jsdelivr.net/npm//vega-embed@6?noext\",\n",
       "    };\n",
       "\n",
       "    function loadScript(lib) {\n",
       "      return new Promise(function(resolve, reject) {\n",
       "        var s = document.createElement('script');\n",
       "        s.src = paths[lib];\n",
       "        s.async = true;\n",
       "        s.onload = () => resolve(paths[lib]);\n",
       "        s.onerror = () => reject(`Error loading script: ${paths[lib]}`);\n",
       "        document.getElementsByTagName(\"head\")[0].appendChild(s);\n",
       "      });\n",
       "    }\n",
       "\n",
       "    function showError(err) {\n",
       "      outputDiv.innerHTML = `<div class=\"error\" style=\"color:red;\">${err}</div>`;\n",
       "      throw err;\n",
       "    }\n",
       "\n",
       "    function displayChart(vegaEmbed) {\n",
       "      vegaEmbed(outputDiv, spec, embedOpt)\n",
       "        .catch(err => showError(`Javascript Error: ${err.message}<br>This usually means there's a typo in your chart specification. See the javascript console for the full traceback.`));\n",
       "    }\n",
       "\n",
       "    if(typeof define === \"function\" && define.amd) {\n",
       "      requirejs.config({paths});\n",
       "      require([\"vega-embed\"], displayChart, err => showError(`Error loading script: ${err.message}`));\n",
       "    } else if (typeof vegaEmbed === \"function\") {\n",
       "      displayChart(vegaEmbed);\n",
       "    } else {\n",
       "      loadScript(\"vega\")\n",
       "        .then(() => loadScript(\"vega-lite\"))\n",
       "        .then(() => loadScript(\"vega-embed\"))\n",
       "        .catch(showError)\n",
       "        .then(() => displayChart(vegaEmbed));\n",
       "    }\n",
       "  })({\"config\": {\"view\": {\"continuousWidth\": 400, \"continuousHeight\": 300}}, \"layer\": [{\"mark\": \"circle\", \"encoding\": {\"color\": {\"type\": \"nominal\", \"field\": \"HerkunftEp1Lang\"}, \"opacity\": {\"value\": 2}, \"x\": {\"type\": \"temporal\", \"field\": \"StichtagDatJahr\"}, \"y\": {\"type\": \"quantitative\", \"field\": \"AnzSchl\"}}, \"height\": 300, \"selection\": {\"selector016\": {\"type\": \"single\", \"on\": \"mouseover\", \"fields\": [\"HerkunftKomb\"], \"nearest\": true}}, \"width\": 700}, {\"mark\": \"line\", \"encoding\": {\"color\": {\"type\": \"nominal\", \"field\": \"HerkunftEp1Lang\"}, \"size\": {\"condition\": {\"value\": 1.5, \"selection\": {\"not\": \"selector016\"}}, \"value\": 4}, \"x\": {\"type\": \"temporal\", \"field\": \"StichtagDatJahr\"}, \"y\": {\"type\": \"quantitative\", \"field\": \"AnzSchl\"}}, \"selection\": {\"selector017\": {\"type\": \"interval\", \"bind\": \"scales\", \"encodings\": [\"x\", \"y\"]}}}], \"data\": {\"name\": \"data-d9def3d8bd0533d897142099c3f94c89\"}, \"$schema\": \"https://vega.github.io/schema/vega-lite/v4.8.1.json\", \"datasets\": {\"data-d9def3d8bd0533d897142099c3f94c89\": [{\"StichtagDatJahr\": \"2021-01-01T00:00:00\", \"HerkunftEp1Lang\": \"Schweizer/in\", \"HerkunftEp1Sort\": 1, \"HerkunftEp1Cd\": 1, \"HerkunftEp2Lang\": \"Schweizer/in\", \"HerkunftEp2Sort\": 1, \"HerkunftEp2Cd\": 1, \"SexEp1Cd\": 2, \"SexEp1Lang\": \"weiblich\", \"SexEp1Kurz\": \"W\", \"SexEp2Cd\": 1, \"SexEp2Lang\": \"m\\u00e4nnlich\", \"SexEp2Kurz\": \"M\", \"AnzSchl\": 926, \"StichtagDatJahr_str\": \"2021-01-01\"}, {\"StichtagDatJahr\": \"2021-01-01T00:00:00\", \"HerkunftEp1Lang\": \"Schweizer/in\", \"HerkunftEp1Sort\": 1, \"HerkunftEp1Cd\": 1, \"HerkunftEp2Lang\": \"Ausl\\u00e4nder/in\", \"HerkunftEp2Sort\": 2, \"HerkunftEp2Cd\": 2, \"SexEp1Cd\": 2, \"SexEp1Lang\": \"weiblich\", \"SexEp1Kurz\": \"W\", \"SexEp2Cd\": 1, \"SexEp2Lang\": \"m\\u00e4nnlich\", \"SexEp2Kurz\": \"M\", \"AnzSchl\": 426, \"StichtagDatJahr_str\": \"2021-01-01\"}, {\"StichtagDatJahr\": \"2021-01-01T00:00:00\", \"HerkunftEp1Lang\": \"Ausl\\u00e4nder/in\", \"HerkunftEp1Sort\": 2, \"HerkunftEp1Cd\": 2, \"HerkunftEp2Lang\": \"Schweizer/in\", \"HerkunftEp2Sort\": 1, \"HerkunftEp2Cd\": 1, \"SexEp1Cd\": 2, \"SexEp1Lang\": \"weiblich\", \"SexEp1Kurz\": \"W\", \"SexEp2Cd\": 1, \"SexEp2Lang\": \"m\\u00e4nnlich\", \"SexEp2Kurz\": \"M\", \"AnzSchl\": 543, \"StichtagDatJahr_str\": \"2021-01-01\"}, {\"StichtagDatJahr\": \"2021-01-01T00:00:00\", \"HerkunftEp1Lang\": \"Ausl\\u00e4nder/in\", \"HerkunftEp1Sort\": 2, \"HerkunftEp1Cd\": 2, \"HerkunftEp2Lang\": \"Ausl\\u00e4nder/in\", \"HerkunftEp2Sort\": 2, \"HerkunftEp2Cd\": 2, \"SexEp1Cd\": 2, \"SexEp1Lang\": \"weiblich\", \"SexEp1Kurz\": \"W\", \"SexEp2Cd\": 1, \"SexEp2Lang\": \"m\\u00e4nnlich\", \"SexEp2Kurz\": \"M\", \"AnzSchl\": 941, \"StichtagDatJahr_str\": \"2021-01-01\"}, {\"StichtagDatJahr\": \"2020-01-01T00:00:00\", \"HerkunftEp1Lang\": \"Schweizer/in\", \"HerkunftEp1Sort\": 1, \"HerkunftEp1Cd\": 1, \"HerkunftEp2Lang\": \"Schweizer/in\", \"HerkunftEp2Sort\": 1, \"HerkunftEp2Cd\": 1, \"SexEp1Cd\": 2, \"SexEp1Lang\": \"weiblich\", \"SexEp1Kurz\": \"W\", \"SexEp2Cd\": 1, \"SexEp2Lang\": \"m\\u00e4nnlich\", \"SexEp2Kurz\": \"M\", \"AnzSchl\": 923, \"StichtagDatJahr_str\": \"2020-01-01\"}, {\"StichtagDatJahr\": \"2020-01-01T00:00:00\", \"HerkunftEp1Lang\": \"Schweizer/in\", \"HerkunftEp1Sort\": 1, \"HerkunftEp1Cd\": 1, \"HerkunftEp2Lang\": \"Ausl\\u00e4nder/in\", \"HerkunftEp2Sort\": 2, \"HerkunftEp2Cd\": 2, \"SexEp1Cd\": 2, \"SexEp1Lang\": \"weiblich\", \"SexEp1Kurz\": \"W\", \"SexEp2Cd\": 1, \"SexEp2Lang\": \"m\\u00e4nnlich\", \"SexEp2Kurz\": \"M\", \"AnzSchl\": 427, \"StichtagDatJahr_str\": \"2020-01-01\"}, {\"StichtagDatJahr\": \"2020-01-01T00:00:00\", \"HerkunftEp1Lang\": \"Ausl\\u00e4nder/in\", \"HerkunftEp1Sort\": 2, \"HerkunftEp1Cd\": 2, \"HerkunftEp2Lang\": \"Schweizer/in\", \"HerkunftEp2Sort\": 1, \"HerkunftEp2Cd\": 1, \"SexEp1Cd\": 2, \"SexEp1Lang\": \"weiblich\", \"SexEp1Kurz\": \"W\", \"SexEp2Cd\": 1, \"SexEp2Lang\": \"m\\u00e4nnlich\", \"SexEp2Kurz\": \"M\", \"AnzSchl\": 505, \"StichtagDatJahr_str\": \"2020-01-01\"}, {\"StichtagDatJahr\": \"2020-01-01T00:00:00\", \"HerkunftEp1Lang\": \"Ausl\\u00e4nder/in\", \"HerkunftEp1Sort\": 2, \"HerkunftEp1Cd\": 2, \"HerkunftEp2Lang\": \"Ausl\\u00e4nder/in\", \"HerkunftEp2Sort\": 2, \"HerkunftEp2Cd\": 2, \"SexEp1Cd\": 2, \"SexEp1Lang\": \"weiblich\", \"SexEp1Kurz\": \"W\", \"SexEp2Cd\": 1, \"SexEp2Lang\": \"m\\u00e4nnlich\", \"SexEp2Kurz\": \"M\", \"AnzSchl\": 896, \"StichtagDatJahr_str\": \"2020-01-01\"}, {\"StichtagDatJahr\": \"2019-01-01T00:00:00\", \"HerkunftEp1Lang\": \"Schweizer/in\", \"HerkunftEp1Sort\": 1, \"HerkunftEp1Cd\": 1, \"HerkunftEp2Lang\": \"Schweizer/in\", \"HerkunftEp2Sort\": 1, \"HerkunftEp2Cd\": 1, \"SexEp1Cd\": 2, \"SexEp1Lang\": \"weiblich\", \"SexEp1Kurz\": \"W\", \"SexEp2Cd\": 1, \"SexEp2Lang\": \"m\\u00e4nnlich\", \"SexEp2Kurz\": \"M\", \"AnzSchl\": 972, \"StichtagDatJahr_str\": \"2019-01-01\"}, {\"StichtagDatJahr\": \"2019-01-01T00:00:00\", \"HerkunftEp1Lang\": \"Schweizer/in\", \"HerkunftEp1Sort\": 1, \"HerkunftEp1Cd\": 1, \"HerkunftEp2Lang\": \"Ausl\\u00e4nder/in\", \"HerkunftEp2Sort\": 2, \"HerkunftEp2Cd\": 2, \"SexEp1Cd\": 2, \"SexEp1Lang\": \"weiblich\", \"SexEp1Kurz\": \"W\", \"SexEp2Cd\": 1, \"SexEp2Lang\": \"m\\u00e4nnlich\", \"SexEp2Kurz\": \"M\", \"AnzSchl\": 487, \"StichtagDatJahr_str\": \"2019-01-01\"}, {\"StichtagDatJahr\": \"2019-01-01T00:00:00\", \"HerkunftEp1Lang\": \"Ausl\\u00e4nder/in\", \"HerkunftEp1Sort\": 2, \"HerkunftEp1Cd\": 2, \"HerkunftEp2Lang\": \"Schweizer/in\", \"HerkunftEp2Sort\": 1, \"HerkunftEp2Cd\": 1, \"SexEp1Cd\": 2, \"SexEp1Lang\": \"weiblich\", \"SexEp1Kurz\": \"W\", \"SexEp2Cd\": 1, \"SexEp2Lang\": \"m\\u00e4nnlich\", \"SexEp2Kurz\": \"M\", \"AnzSchl\": 630, \"StichtagDatJahr_str\": \"2019-01-01\"}, {\"StichtagDatJahr\": \"2019-01-01T00:00:00\", \"HerkunftEp1Lang\": \"Ausl\\u00e4nder/in\", \"HerkunftEp1Sort\": 2, \"HerkunftEp1Cd\": 2, \"HerkunftEp2Lang\": \"Ausl\\u00e4nder/in\", \"HerkunftEp2Sort\": 2, \"HerkunftEp2Cd\": 2, \"SexEp1Cd\": 2, \"SexEp1Lang\": \"weiblich\", \"SexEp1Kurz\": \"W\", \"SexEp2Cd\": 1, \"SexEp2Lang\": \"m\\u00e4nnlich\", \"SexEp2Kurz\": \"M\", \"AnzSchl\": 1200, \"StichtagDatJahr_str\": \"2019-01-01\"}, {\"StichtagDatJahr\": \"2018-01-01T00:00:00\", \"HerkunftEp1Lang\": \"Ausl\\u00e4nder/in\", \"HerkunftEp1Sort\": 2, \"HerkunftEp1Cd\": 2, \"HerkunftEp2Lang\": \"Schweizer/in\", \"HerkunftEp2Sort\": 1, \"HerkunftEp2Cd\": 1, \"SexEp1Cd\": 2, \"SexEp1Lang\": \"weiblich\", \"SexEp1Kurz\": \"W\", \"SexEp2Cd\": 1, \"SexEp2Lang\": \"m\\u00e4nnlich\", \"SexEp2Kurz\": \"M\", \"AnzSchl\": 624, \"StichtagDatJahr_str\": \"2018-01-01\"}, {\"StichtagDatJahr\": \"2018-01-01T00:00:00\", \"HerkunftEp1Lang\": \"Ausl\\u00e4nder/in\", \"HerkunftEp1Sort\": 2, \"HerkunftEp1Cd\": 2, \"HerkunftEp2Lang\": \"Ausl\\u00e4nder/in\", \"HerkunftEp2Sort\": 2, \"HerkunftEp2Cd\": 2, \"SexEp1Cd\": 2, \"SexEp1Lang\": \"weiblich\", \"SexEp1Kurz\": \"W\", \"SexEp2Cd\": 1, \"SexEp2Lang\": \"m\\u00e4nnlich\", \"SexEp2Kurz\": \"M\", \"AnzSchl\": 1260, \"StichtagDatJahr_str\": \"2018-01-01\"}, {\"StichtagDatJahr\": \"2018-01-01T00:00:00\", \"HerkunftEp1Lang\": \"Schweizer/in\", \"HerkunftEp1Sort\": 1, \"HerkunftEp1Cd\": 1, \"HerkunftEp2Lang\": \"Schweizer/in\", \"HerkunftEp2Sort\": 1, \"HerkunftEp2Cd\": 1, \"SexEp1Cd\": 2, \"SexEp1Lang\": \"weiblich\", \"SexEp1Kurz\": \"W\", \"SexEp2Cd\": 1, \"SexEp2Lang\": \"m\\u00e4nnlich\", \"SexEp2Kurz\": \"M\", \"AnzSchl\": 982, \"StichtagDatJahr_str\": \"2018-01-01\"}, {\"StichtagDatJahr\": \"2018-01-01T00:00:00\", \"HerkunftEp1Lang\": \"Schweizer/in\", \"HerkunftEp1Sort\": 1, \"HerkunftEp1Cd\": 1, \"HerkunftEp2Lang\": \"Ausl\\u00e4nder/in\", \"HerkunftEp2Sort\": 2, \"HerkunftEp2Cd\": 2, \"SexEp1Cd\": 2, \"SexEp1Lang\": \"weiblich\", \"SexEp1Kurz\": \"W\", \"SexEp2Cd\": 1, \"SexEp2Lang\": \"m\\u00e4nnlich\", \"SexEp2Kurz\": \"M\", \"AnzSchl\": 533, \"StichtagDatJahr_str\": \"2018-01-01\"}, {\"StichtagDatJahr\": \"2017-01-01T00:00:00\", \"HerkunftEp1Lang\": \"Schweizer/in\", \"HerkunftEp1Sort\": 1, \"HerkunftEp1Cd\": 1, \"HerkunftEp2Lang\": \"Schweizer/in\", \"HerkunftEp2Sort\": 1, \"HerkunftEp2Cd\": 1, \"SexEp1Cd\": 2, \"SexEp1Lang\": \"weiblich\", \"SexEp1Kurz\": \"W\", \"SexEp2Cd\": 1, \"SexEp2Lang\": \"m\\u00e4nnlich\", \"SexEp2Kurz\": \"M\", \"AnzSchl\": 953, \"StichtagDatJahr_str\": \"2017-01-01\"}, {\"StichtagDatJahr\": \"2017-01-01T00:00:00\", \"HerkunftEp1Lang\": \"Schweizer/in\", \"HerkunftEp1Sort\": 1, \"HerkunftEp1Cd\": 1, \"HerkunftEp2Lang\": \"Ausl\\u00e4nder/in\", \"HerkunftEp2Sort\": 2, \"HerkunftEp2Cd\": 2, \"SexEp1Cd\": 2, \"SexEp1Lang\": \"weiblich\", \"SexEp1Kurz\": \"W\", \"SexEp2Cd\": 1, \"SexEp2Lang\": \"m\\u00e4nnlich\", \"SexEp2Kurz\": \"M\", \"AnzSchl\": 517, \"StichtagDatJahr_str\": \"2017-01-01\"}, {\"StichtagDatJahr\": \"2017-01-01T00:00:00\", \"HerkunftEp1Lang\": \"Ausl\\u00e4nder/in\", \"HerkunftEp1Sort\": 2, \"HerkunftEp1Cd\": 2, \"HerkunftEp2Lang\": \"Schweizer/in\", \"HerkunftEp2Sort\": 1, \"HerkunftEp2Cd\": 1, \"SexEp1Cd\": 2, \"SexEp1Lang\": \"weiblich\", \"SexEp1Kurz\": \"W\", \"SexEp2Cd\": 1, \"SexEp2Lang\": \"m\\u00e4nnlich\", \"SexEp2Kurz\": \"M\", \"AnzSchl\": 681, \"StichtagDatJahr_str\": \"2017-01-01\"}, {\"StichtagDatJahr\": \"2017-01-01T00:00:00\", \"HerkunftEp1Lang\": \"Ausl\\u00e4nder/in\", \"HerkunftEp1Sort\": 2, \"HerkunftEp1Cd\": 2, \"HerkunftEp2Lang\": \"Ausl\\u00e4nder/in\", \"HerkunftEp2Sort\": 2, \"HerkunftEp2Cd\": 2, \"SexEp1Cd\": 2, \"SexEp1Lang\": \"weiblich\", \"SexEp1Kurz\": \"W\", \"SexEp2Cd\": 1, \"SexEp2Lang\": \"m\\u00e4nnlich\", \"SexEp2Kurz\": \"M\", \"AnzSchl\": 1253, \"StichtagDatJahr_str\": \"2017-01-01\"}, {\"StichtagDatJahr\": \"2016-01-01T00:00:00\", \"HerkunftEp1Lang\": \"Schweizer/in\", \"HerkunftEp1Sort\": 1, \"HerkunftEp1Cd\": 1, \"HerkunftEp2Lang\": \"Schweizer/in\", \"HerkunftEp2Sort\": 1, \"HerkunftEp2Cd\": 1, \"SexEp1Cd\": 2, \"SexEp1Lang\": \"weiblich\", \"SexEp1Kurz\": \"W\", \"SexEp2Cd\": 1, \"SexEp2Lang\": \"m\\u00e4nnlich\", \"SexEp2Kurz\": \"M\", \"AnzSchl\": 1050, \"StichtagDatJahr_str\": \"2016-01-01\"}, {\"StichtagDatJahr\": \"2016-01-01T00:00:00\", \"HerkunftEp1Lang\": \"Schweizer/in\", \"HerkunftEp1Sort\": 1, \"HerkunftEp1Cd\": 1, \"HerkunftEp2Lang\": \"Ausl\\u00e4nder/in\", \"HerkunftEp2Sort\": 2, \"HerkunftEp2Cd\": 2, \"SexEp1Cd\": 2, \"SexEp1Lang\": \"weiblich\", \"SexEp1Kurz\": \"W\", \"SexEp2Cd\": 1, \"SexEp2Lang\": \"m\\u00e4nnlich\", \"SexEp2Kurz\": \"M\", \"AnzSchl\": 541, \"StichtagDatJahr_str\": \"2016-01-01\"}, {\"StichtagDatJahr\": \"2016-01-01T00:00:00\", \"HerkunftEp1Lang\": \"Ausl\\u00e4nder/in\", \"HerkunftEp1Sort\": 2, \"HerkunftEp1Cd\": 2, \"HerkunftEp2Lang\": \"Schweizer/in\", \"HerkunftEp2Sort\": 1, \"HerkunftEp2Cd\": 1, \"SexEp1Cd\": 2, \"SexEp1Lang\": \"weiblich\", \"SexEp1Kurz\": \"W\", \"SexEp2Cd\": 1, \"SexEp2Lang\": \"m\\u00e4nnlich\", \"SexEp2Kurz\": \"M\", \"AnzSchl\": 645, \"StichtagDatJahr_str\": \"2016-01-01\"}, {\"StichtagDatJahr\": \"2016-01-01T00:00:00\", \"HerkunftEp1Lang\": \"Ausl\\u00e4nder/in\", \"HerkunftEp1Sort\": 2, \"HerkunftEp1Cd\": 2, \"HerkunftEp2Lang\": \"Ausl\\u00e4nder/in\", \"HerkunftEp2Sort\": 2, \"HerkunftEp2Cd\": 2, \"SexEp1Cd\": 2, \"SexEp1Lang\": \"weiblich\", \"SexEp1Kurz\": \"W\", \"SexEp2Cd\": 1, \"SexEp2Lang\": \"m\\u00e4nnlich\", \"SexEp2Kurz\": \"M\", \"AnzSchl\": 1170, \"StichtagDatJahr_str\": \"2016-01-01\"}, {\"StichtagDatJahr\": \"2015-01-01T00:00:00\", \"HerkunftEp1Lang\": \"Schweizer/in\", \"HerkunftEp1Sort\": 1, \"HerkunftEp1Cd\": 1, \"HerkunftEp2Lang\": \"Ausl\\u00e4nder/in\", \"HerkunftEp2Sort\": 2, \"HerkunftEp2Cd\": 2, \"SexEp1Cd\": 2, \"SexEp1Lang\": \"weiblich\", \"SexEp1Kurz\": \"W\", \"SexEp2Cd\": 1, \"SexEp2Lang\": \"m\\u00e4nnlich\", \"SexEp2Kurz\": \"M\", \"AnzSchl\": 551, \"StichtagDatJahr_str\": \"2015-01-01\"}, {\"StichtagDatJahr\": \"2015-01-01T00:00:00\", \"HerkunftEp1Lang\": \"Ausl\\u00e4nder/in\", \"HerkunftEp1Sort\": 2, \"HerkunftEp1Cd\": 2, \"HerkunftEp2Lang\": \"Schweizer/in\", \"HerkunftEp2Sort\": 1, \"HerkunftEp2Cd\": 1, \"SexEp1Cd\": 2, \"SexEp1Lang\": \"weiblich\", \"SexEp1Kurz\": \"W\", \"SexEp2Cd\": 1, \"SexEp2Lang\": \"m\\u00e4nnlich\", \"SexEp2Kurz\": \"M\", \"AnzSchl\": 639, \"StichtagDatJahr_str\": \"2015-01-01\"}, {\"StichtagDatJahr\": \"2015-01-01T00:00:00\", \"HerkunftEp1Lang\": \"Ausl\\u00e4nder/in\", \"HerkunftEp1Sort\": 2, \"HerkunftEp1Cd\": 2, \"HerkunftEp2Lang\": \"Ausl\\u00e4nder/in\", \"HerkunftEp2Sort\": 2, \"HerkunftEp2Cd\": 2, \"SexEp1Cd\": 2, \"SexEp1Lang\": \"weiblich\", \"SexEp1Kurz\": \"W\", \"SexEp2Cd\": 1, \"SexEp2Lang\": \"m\\u00e4nnlich\", \"SexEp2Kurz\": \"M\", \"AnzSchl\": 1279, \"StichtagDatJahr_str\": \"2015-01-01\"}, {\"StichtagDatJahr\": \"2015-01-01T00:00:00\", \"HerkunftEp1Lang\": \"Schweizer/in\", \"HerkunftEp1Sort\": 1, \"HerkunftEp1Cd\": 1, \"HerkunftEp2Lang\": \"Schweizer/in\", \"HerkunftEp2Sort\": 1, \"HerkunftEp2Cd\": 1, \"SexEp1Cd\": 2, \"SexEp1Lang\": \"weiblich\", \"SexEp1Kurz\": \"W\", \"SexEp2Cd\": 1, \"SexEp2Lang\": \"m\\u00e4nnlich\", \"SexEp2Kurz\": \"M\", \"AnzSchl\": 1060, \"StichtagDatJahr_str\": \"2015-01-01\"}, {\"StichtagDatJahr\": \"2014-01-01T00:00:00\", \"HerkunftEp1Lang\": \"Schweizer/in\", \"HerkunftEp1Sort\": 1, \"HerkunftEp1Cd\": 1, \"HerkunftEp2Lang\": \"Schweizer/in\", \"HerkunftEp2Sort\": 1, \"HerkunftEp2Cd\": 1, \"SexEp1Cd\": 2, \"SexEp1Lang\": \"weiblich\", \"SexEp1Kurz\": \"W\", \"SexEp2Cd\": 1, \"SexEp2Lang\": \"m\\u00e4nnlich\", \"SexEp2Kurz\": \"M\", \"AnzSchl\": 1084, \"StichtagDatJahr_str\": \"2014-01-01\"}, {\"StichtagDatJahr\": \"2014-01-01T00:00:00\", \"HerkunftEp1Lang\": \"Schweizer/in\", \"HerkunftEp1Sort\": 1, \"HerkunftEp1Cd\": 1, \"HerkunftEp2Lang\": \"Ausl\\u00e4nder/in\", \"HerkunftEp2Sort\": 2, \"HerkunftEp2Cd\": 2, \"SexEp1Cd\": 2, \"SexEp1Lang\": \"weiblich\", \"SexEp1Kurz\": \"W\", \"SexEp2Cd\": 1, \"SexEp2Lang\": \"m\\u00e4nnlich\", \"SexEp2Kurz\": \"M\", \"AnzSchl\": 501, \"StichtagDatJahr_str\": \"2014-01-01\"}, {\"StichtagDatJahr\": \"2014-01-01T00:00:00\", \"HerkunftEp1Lang\": \"Ausl\\u00e4nder/in\", \"HerkunftEp1Sort\": 2, \"HerkunftEp1Cd\": 2, \"HerkunftEp2Lang\": \"Schweizer/in\", \"HerkunftEp2Sort\": 1, \"HerkunftEp2Cd\": 1, \"SexEp1Cd\": 2, \"SexEp1Lang\": \"weiblich\", \"SexEp1Kurz\": \"W\", \"SexEp2Cd\": 1, \"SexEp2Lang\": \"m\\u00e4nnlich\", \"SexEp2Kurz\": \"M\", \"AnzSchl\": 702, \"StichtagDatJahr_str\": \"2014-01-01\"}, {\"StichtagDatJahr\": \"2014-01-01T00:00:00\", \"HerkunftEp1Lang\": \"Ausl\\u00e4nder/in\", \"HerkunftEp1Sort\": 2, \"HerkunftEp1Cd\": 2, \"HerkunftEp2Lang\": \"Ausl\\u00e4nder/in\", \"HerkunftEp2Sort\": 2, \"HerkunftEp2Cd\": 2, \"SexEp1Cd\": 2, \"SexEp1Lang\": \"weiblich\", \"SexEp1Kurz\": \"W\", \"SexEp2Cd\": 1, \"SexEp2Lang\": \"m\\u00e4nnlich\", \"SexEp2Kurz\": \"M\", \"AnzSchl\": 1310, \"StichtagDatJahr_str\": \"2014-01-01\"}, {\"StichtagDatJahr\": \"2013-01-01T00:00:00\", \"HerkunftEp1Lang\": \"Schweizer/in\", \"HerkunftEp1Sort\": 1, \"HerkunftEp1Cd\": 1, \"HerkunftEp2Lang\": \"Schweizer/in\", \"HerkunftEp2Sort\": 1, \"HerkunftEp2Cd\": 1, \"SexEp1Cd\": 2, \"SexEp1Lang\": \"weiblich\", \"SexEp1Kurz\": \"W\", \"SexEp2Cd\": 1, \"SexEp2Lang\": \"m\\u00e4nnlich\", \"SexEp2Kurz\": \"M\", \"AnzSchl\": 1034, \"StichtagDatJahr_str\": \"2013-01-01\"}, {\"StichtagDatJahr\": \"2013-01-01T00:00:00\", \"HerkunftEp1Lang\": \"Schweizer/in\", \"HerkunftEp1Sort\": 1, \"HerkunftEp1Cd\": 1, \"HerkunftEp2Lang\": \"Ausl\\u00e4nder/in\", \"HerkunftEp2Sort\": 2, \"HerkunftEp2Cd\": 2, \"SexEp1Cd\": 2, \"SexEp1Lang\": \"weiblich\", \"SexEp1Kurz\": \"W\", \"SexEp2Cd\": 1, \"SexEp2Lang\": \"m\\u00e4nnlich\", \"SexEp2Kurz\": \"M\", \"AnzSchl\": 542, \"StichtagDatJahr_str\": \"2013-01-01\"}, {\"StichtagDatJahr\": \"2013-01-01T00:00:00\", \"HerkunftEp1Lang\": \"Ausl\\u00e4nder/in\", \"HerkunftEp1Sort\": 2, \"HerkunftEp1Cd\": 2, \"HerkunftEp2Lang\": \"Schweizer/in\", \"HerkunftEp2Sort\": 1, \"HerkunftEp2Cd\": 1, \"SexEp1Cd\": 2, \"SexEp1Lang\": \"weiblich\", \"SexEp1Kurz\": \"W\", \"SexEp2Cd\": 1, \"SexEp2Lang\": \"m\\u00e4nnlich\", \"SexEp2Kurz\": \"M\", \"AnzSchl\": 636, \"StichtagDatJahr_str\": \"2013-01-01\"}, {\"StichtagDatJahr\": \"2013-01-01T00:00:00\", \"HerkunftEp1Lang\": \"Ausl\\u00e4nder/in\", \"HerkunftEp1Sort\": 2, \"HerkunftEp1Cd\": 2, \"HerkunftEp2Lang\": \"Ausl\\u00e4nder/in\", \"HerkunftEp2Sort\": 2, \"HerkunftEp2Cd\": 2, \"SexEp1Cd\": 2, \"SexEp1Lang\": \"weiblich\", \"SexEp1Kurz\": \"W\", \"SexEp2Cd\": 1, \"SexEp2Lang\": \"m\\u00e4nnlich\", \"SexEp2Kurz\": \"M\", \"AnzSchl\": 1363, \"StichtagDatJahr_str\": \"2013-01-01\"}, {\"StichtagDatJahr\": \"2012-01-01T00:00:00\", \"HerkunftEp1Lang\": \"Schweizer/in\", \"HerkunftEp1Sort\": 1, \"HerkunftEp1Cd\": 1, \"HerkunftEp2Lang\": \"Schweizer/in\", \"HerkunftEp2Sort\": 1, \"HerkunftEp2Cd\": 1, \"SexEp1Cd\": 2, \"SexEp1Lang\": \"weiblich\", \"SexEp1Kurz\": \"W\", \"SexEp2Cd\": 1, \"SexEp2Lang\": \"m\\u00e4nnlich\", \"SexEp2Kurz\": \"M\", \"AnzSchl\": 1000, \"StichtagDatJahr_str\": \"2012-01-01\"}, {\"StichtagDatJahr\": \"2012-01-01T00:00:00\", \"HerkunftEp1Lang\": \"Schweizer/in\", \"HerkunftEp1Sort\": 1, \"HerkunftEp1Cd\": 1, \"HerkunftEp2Lang\": \"Ausl\\u00e4nder/in\", \"HerkunftEp2Sort\": 2, \"HerkunftEp2Cd\": 2, \"SexEp1Cd\": 2, \"SexEp1Lang\": \"weiblich\", \"SexEp1Kurz\": \"W\", \"SexEp2Cd\": 1, \"SexEp2Lang\": \"m\\u00e4nnlich\", \"SexEp2Kurz\": \"M\", \"AnzSchl\": 559, \"StichtagDatJahr_str\": \"2012-01-01\"}, {\"StichtagDatJahr\": \"2012-01-01T00:00:00\", \"HerkunftEp1Lang\": \"Ausl\\u00e4nder/in\", \"HerkunftEp1Sort\": 2, \"HerkunftEp1Cd\": 2, \"HerkunftEp2Lang\": \"Schweizer/in\", \"HerkunftEp2Sort\": 1, \"HerkunftEp2Cd\": 1, \"SexEp1Cd\": 2, \"SexEp1Lang\": \"weiblich\", \"SexEp1Kurz\": \"W\", \"SexEp2Cd\": 1, \"SexEp2Lang\": \"m\\u00e4nnlich\", \"SexEp2Kurz\": \"M\", \"AnzSchl\": 627, \"StichtagDatJahr_str\": \"2012-01-01\"}, {\"StichtagDatJahr\": \"2012-01-01T00:00:00\", \"HerkunftEp1Lang\": \"Ausl\\u00e4nder/in\", \"HerkunftEp1Sort\": 2, \"HerkunftEp1Cd\": 2, \"HerkunftEp2Lang\": \"Ausl\\u00e4nder/in\", \"HerkunftEp2Sort\": 2, \"HerkunftEp2Cd\": 2, \"SexEp1Cd\": 2, \"SexEp1Lang\": \"weiblich\", \"SexEp1Kurz\": \"W\", \"SexEp2Cd\": 1, \"SexEp2Lang\": \"m\\u00e4nnlich\", \"SexEp2Kurz\": \"M\", \"AnzSchl\": 1142, \"StichtagDatJahr_str\": \"2012-01-01\"}, {\"StichtagDatJahr\": \"2011-01-01T00:00:00\", \"HerkunftEp1Lang\": \"Ausl\\u00e4nder/in\", \"HerkunftEp1Sort\": 2, \"HerkunftEp1Cd\": 2, \"HerkunftEp2Lang\": \"Schweizer/in\", \"HerkunftEp2Sort\": 1, \"HerkunftEp2Cd\": 1, \"SexEp1Cd\": 2, \"SexEp1Lang\": \"weiblich\", \"SexEp1Kurz\": \"W\", \"SexEp2Cd\": 1, \"SexEp2Lang\": \"m\\u00e4nnlich\", \"SexEp2Kurz\": \"M\", \"AnzSchl\": 652, \"StichtagDatJahr_str\": \"2011-01-01\"}, {\"StichtagDatJahr\": \"2011-01-01T00:00:00\", \"HerkunftEp1Lang\": \"Ausl\\u00e4nder/in\", \"HerkunftEp1Sort\": 2, \"HerkunftEp1Cd\": 2, \"HerkunftEp2Lang\": \"Ausl\\u00e4nder/in\", \"HerkunftEp2Sort\": 2, \"HerkunftEp2Cd\": 2, \"SexEp1Cd\": 2, \"SexEp1Lang\": \"weiblich\", \"SexEp1Kurz\": \"W\", \"SexEp2Cd\": 1, \"SexEp2Lang\": \"m\\u00e4nnlich\", \"SexEp2Kurz\": \"M\", \"AnzSchl\": 1144, \"StichtagDatJahr_str\": \"2011-01-01\"}, {\"StichtagDatJahr\": \"2011-01-01T00:00:00\", \"HerkunftEp1Lang\": \"Schweizer/in\", \"HerkunftEp1Sort\": 1, \"HerkunftEp1Cd\": 1, \"HerkunftEp2Lang\": \"Ausl\\u00e4nder/in\", \"HerkunftEp2Sort\": 2, \"HerkunftEp2Cd\": 2, \"SexEp1Cd\": 2, \"SexEp1Lang\": \"weiblich\", \"SexEp1Kurz\": \"W\", \"SexEp2Cd\": 1, \"SexEp2Lang\": \"m\\u00e4nnlich\", \"SexEp2Kurz\": \"M\", \"AnzSchl\": 588, \"StichtagDatJahr_str\": \"2011-01-01\"}, {\"StichtagDatJahr\": \"2011-01-01T00:00:00\", \"HerkunftEp1Lang\": \"Schweizer/in\", \"HerkunftEp1Sort\": 1, \"HerkunftEp1Cd\": 1, \"HerkunftEp2Lang\": \"Schweizer/in\", \"HerkunftEp2Sort\": 1, \"HerkunftEp2Cd\": 1, \"SexEp1Cd\": 2, \"SexEp1Lang\": \"weiblich\", \"SexEp1Kurz\": \"W\", \"SexEp2Cd\": 1, \"SexEp2Lang\": \"m\\u00e4nnlich\", \"SexEp2Kurz\": \"M\", \"AnzSchl\": 1021, \"StichtagDatJahr_str\": \"2011-01-01\"}, {\"StichtagDatJahr\": \"2010-01-01T00:00:00\", \"HerkunftEp1Lang\": \"Schweizer/in\", \"HerkunftEp1Sort\": 1, \"HerkunftEp1Cd\": 1, \"HerkunftEp2Lang\": \"Schweizer/in\", \"HerkunftEp2Sort\": 1, \"HerkunftEp2Cd\": 1, \"SexEp1Cd\": 2, \"SexEp1Lang\": \"weiblich\", \"SexEp1Kurz\": \"W\", \"SexEp2Cd\": 1, \"SexEp2Lang\": \"m\\u00e4nnlich\", \"SexEp2Kurz\": \"M\", \"AnzSchl\": 1045, \"StichtagDatJahr_str\": \"2010-01-01\"}, {\"StichtagDatJahr\": \"2010-01-01T00:00:00\", \"HerkunftEp1Lang\": \"Schweizer/in\", \"HerkunftEp1Sort\": 1, \"HerkunftEp1Cd\": 1, \"HerkunftEp2Lang\": \"Ausl\\u00e4nder/in\", \"HerkunftEp2Sort\": 2, \"HerkunftEp2Cd\": 2, \"SexEp1Cd\": 2, \"SexEp1Lang\": \"weiblich\", \"SexEp1Kurz\": \"W\", \"SexEp2Cd\": 1, \"SexEp2Lang\": \"m\\u00e4nnlich\", \"SexEp2Kurz\": \"M\", \"AnzSchl\": 630, \"StichtagDatJahr_str\": \"2010-01-01\"}, {\"StichtagDatJahr\": \"2010-01-01T00:00:00\", \"HerkunftEp1Lang\": \"Ausl\\u00e4nder/in\", \"HerkunftEp1Sort\": 2, \"HerkunftEp1Cd\": 2, \"HerkunftEp2Lang\": \"Schweizer/in\", \"HerkunftEp2Sort\": 1, \"HerkunftEp2Cd\": 1, \"SexEp1Cd\": 2, \"SexEp1Lang\": \"weiblich\", \"SexEp1Kurz\": \"W\", \"SexEp2Cd\": 1, \"SexEp2Lang\": \"m\\u00e4nnlich\", \"SexEp2Kurz\": \"M\", \"AnzSchl\": 694, \"StichtagDatJahr_str\": \"2010-01-01\"}, {\"StichtagDatJahr\": \"2010-01-01T00:00:00\", \"HerkunftEp1Lang\": \"Ausl\\u00e4nder/in\", \"HerkunftEp1Sort\": 2, \"HerkunftEp1Cd\": 2, \"HerkunftEp2Lang\": \"Ausl\\u00e4nder/in\", \"HerkunftEp2Sort\": 2, \"HerkunftEp2Cd\": 2, \"SexEp1Cd\": 2, \"SexEp1Lang\": \"weiblich\", \"SexEp1Kurz\": \"W\", \"SexEp2Cd\": 1, \"SexEp2Lang\": \"m\\u00e4nnlich\", \"SexEp2Kurz\": \"M\", \"AnzSchl\": 1174, \"StichtagDatJahr_str\": \"2010-01-01\"}, {\"StichtagDatJahr\": \"2009-01-01T00:00:00\", \"HerkunftEp1Lang\": \"Schweizer/in\", \"HerkunftEp1Sort\": 1, \"HerkunftEp1Cd\": 1, \"HerkunftEp2Lang\": \"Schweizer/in\", \"HerkunftEp2Sort\": 1, \"HerkunftEp2Cd\": 1, \"SexEp1Cd\": 2, \"SexEp1Lang\": \"weiblich\", \"SexEp1Kurz\": \"W\", \"SexEp2Cd\": 1, \"SexEp2Lang\": \"m\\u00e4nnlich\", \"SexEp2Kurz\": \"M\", \"AnzSchl\": 1069, \"StichtagDatJahr_str\": \"2009-01-01\"}, {\"StichtagDatJahr\": \"2009-01-01T00:00:00\", \"HerkunftEp1Lang\": \"Schweizer/in\", \"HerkunftEp1Sort\": 1, \"HerkunftEp1Cd\": 1, \"HerkunftEp2Lang\": \"Ausl\\u00e4nder/in\", \"HerkunftEp2Sort\": 2, \"HerkunftEp2Cd\": 2, \"SexEp1Cd\": 2, \"SexEp1Lang\": \"weiblich\", \"SexEp1Kurz\": \"W\", \"SexEp2Cd\": 1, \"SexEp2Lang\": \"m\\u00e4nnlich\", \"SexEp2Kurz\": \"M\", \"AnzSchl\": 628, \"StichtagDatJahr_str\": \"2009-01-01\"}, {\"StichtagDatJahr\": \"2009-01-01T00:00:00\", \"HerkunftEp1Lang\": \"Ausl\\u00e4nder/in\", \"HerkunftEp1Sort\": 2, \"HerkunftEp1Cd\": 2, \"HerkunftEp2Lang\": \"Schweizer/in\", \"HerkunftEp2Sort\": 1, \"HerkunftEp2Cd\": 1, \"SexEp1Cd\": 2, \"SexEp1Lang\": \"weiblich\", \"SexEp1Kurz\": \"W\", \"SexEp2Cd\": 1, \"SexEp2Lang\": \"m\\u00e4nnlich\", \"SexEp2Kurz\": \"M\", \"AnzSchl\": 620, \"StichtagDatJahr_str\": \"2009-01-01\"}, {\"StichtagDatJahr\": \"2009-01-01T00:00:00\", \"HerkunftEp1Lang\": \"Ausl\\u00e4nder/in\", \"HerkunftEp1Sort\": 2, \"HerkunftEp1Cd\": 2, \"HerkunftEp2Lang\": \"Ausl\\u00e4nder/in\", \"HerkunftEp2Sort\": 2, \"HerkunftEp2Cd\": 2, \"SexEp1Cd\": 2, \"SexEp1Lang\": \"weiblich\", \"SexEp1Kurz\": \"W\", \"SexEp2Cd\": 1, \"SexEp2Lang\": \"m\\u00e4nnlich\", \"SexEp2Kurz\": \"M\", \"AnzSchl\": 1068, \"StichtagDatJahr_str\": \"2009-01-01\"}, {\"StichtagDatJahr\": \"2008-01-01T00:00:00\", \"HerkunftEp1Lang\": \"Schweizer/in\", \"HerkunftEp1Sort\": 1, \"HerkunftEp1Cd\": 1, \"HerkunftEp2Lang\": \"Schweizer/in\", \"HerkunftEp2Sort\": 1, \"HerkunftEp2Cd\": 1, \"SexEp1Cd\": 2, \"SexEp1Lang\": \"weiblich\", \"SexEp1Kurz\": \"W\", \"SexEp2Cd\": 1, \"SexEp2Lang\": \"m\\u00e4nnlich\", \"SexEp2Kurz\": \"M\", \"AnzSchl\": 1017, \"StichtagDatJahr_str\": \"2008-01-01\"}, {\"StichtagDatJahr\": \"2008-01-01T00:00:00\", \"HerkunftEp1Lang\": \"Schweizer/in\", \"HerkunftEp1Sort\": 1, \"HerkunftEp1Cd\": 1, \"HerkunftEp2Lang\": \"Ausl\\u00e4nder/in\", \"HerkunftEp2Sort\": 2, \"HerkunftEp2Cd\": 2, \"SexEp1Cd\": 2, \"SexEp1Lang\": \"weiblich\", \"SexEp1Kurz\": \"W\", \"SexEp2Cd\": 1, \"SexEp2Lang\": \"m\\u00e4nnlich\", \"SexEp2Kurz\": \"M\", \"AnzSchl\": 595, \"StichtagDatJahr_str\": \"2008-01-01\"}, {\"StichtagDatJahr\": \"2008-01-01T00:00:00\", \"HerkunftEp1Lang\": \"Ausl\\u00e4nder/in\", \"HerkunftEp1Sort\": 2, \"HerkunftEp1Cd\": 2, \"HerkunftEp2Lang\": \"Schweizer/in\", \"HerkunftEp2Sort\": 1, \"HerkunftEp2Cd\": 1, \"SexEp1Cd\": 2, \"SexEp1Lang\": \"weiblich\", \"SexEp1Kurz\": \"W\", \"SexEp2Cd\": 1, \"SexEp2Lang\": \"m\\u00e4nnlich\", \"SexEp2Kurz\": \"M\", \"AnzSchl\": 663, \"StichtagDatJahr_str\": \"2008-01-01\"}, {\"StichtagDatJahr\": \"2008-01-01T00:00:00\", \"HerkunftEp1Lang\": \"Ausl\\u00e4nder/in\", \"HerkunftEp1Sort\": 2, \"HerkunftEp1Cd\": 2, \"HerkunftEp2Lang\": \"Ausl\\u00e4nder/in\", \"HerkunftEp2Sort\": 2, \"HerkunftEp2Cd\": 2, \"SexEp1Cd\": 2, \"SexEp1Lang\": \"weiblich\", \"SexEp1Kurz\": \"W\", \"SexEp2Cd\": 1, \"SexEp2Lang\": \"m\\u00e4nnlich\", \"SexEp2Kurz\": \"M\", \"AnzSchl\": 1044, \"StichtagDatJahr_str\": \"2008-01-01\"}, {\"StichtagDatJahr\": \"2007-01-01T00:00:00\", \"HerkunftEp1Lang\": \"Schweizer/in\", \"HerkunftEp1Sort\": 1, \"HerkunftEp1Cd\": 1, \"HerkunftEp2Lang\": \"Schweizer/in\", \"HerkunftEp2Sort\": 1, \"HerkunftEp2Cd\": 1, \"SexEp1Cd\": 2, \"SexEp1Lang\": \"weiblich\", \"SexEp1Kurz\": \"W\", \"SexEp2Cd\": 1, \"SexEp2Lang\": \"m\\u00e4nnlich\", \"SexEp2Kurz\": \"M\", \"AnzSchl\": 965, \"StichtagDatJahr_str\": \"2007-01-01\"}, {\"StichtagDatJahr\": \"2007-01-01T00:00:00\", \"HerkunftEp1Lang\": \"Schweizer/in\", \"HerkunftEp1Sort\": 1, \"HerkunftEp1Cd\": 1, \"HerkunftEp2Lang\": \"Ausl\\u00e4nder/in\", \"HerkunftEp2Sort\": 2, \"HerkunftEp2Cd\": 2, \"SexEp1Cd\": 2, \"SexEp1Lang\": \"weiblich\", \"SexEp1Kurz\": \"W\", \"SexEp2Cd\": 1, \"SexEp2Lang\": \"m\\u00e4nnlich\", \"SexEp2Kurz\": \"M\", \"AnzSchl\": 677, \"StichtagDatJahr_str\": \"2007-01-01\"}, {\"StichtagDatJahr\": \"2007-01-01T00:00:00\", \"HerkunftEp1Lang\": \"Ausl\\u00e4nder/in\", \"HerkunftEp1Sort\": 2, \"HerkunftEp1Cd\": 2, \"HerkunftEp2Lang\": \"Ausl\\u00e4nder/in\", \"HerkunftEp2Sort\": 2, \"HerkunftEp2Cd\": 2, \"SexEp1Cd\": 2, \"SexEp1Lang\": \"weiblich\", \"SexEp1Kurz\": \"W\", \"SexEp2Cd\": 1, \"SexEp2Lang\": \"m\\u00e4nnlich\", \"SexEp2Kurz\": \"M\", \"AnzSchl\": 1067, \"StichtagDatJahr_str\": \"2007-01-01\"}, {\"StichtagDatJahr\": \"2007-01-01T00:00:00\", \"HerkunftEp1Lang\": \"Ausl\\u00e4nder/in\", \"HerkunftEp1Sort\": 2, \"HerkunftEp1Cd\": 2, \"HerkunftEp2Lang\": \"Schweizer/in\", \"HerkunftEp2Sort\": 1, \"HerkunftEp2Cd\": 1, \"SexEp1Cd\": 2, \"SexEp1Lang\": \"weiblich\", \"SexEp1Kurz\": \"W\", \"SexEp2Cd\": 1, \"SexEp2Lang\": \"m\\u00e4nnlich\", \"SexEp2Kurz\": \"M\", \"AnzSchl\": 671, \"StichtagDatJahr_str\": \"2007-01-01\"}, {\"StichtagDatJahr\": \"2006-01-01T00:00:00\", \"HerkunftEp1Lang\": \"Schweizer/in\", \"HerkunftEp1Sort\": 1, \"HerkunftEp1Cd\": 1, \"HerkunftEp2Lang\": \"Schweizer/in\", \"HerkunftEp2Sort\": 1, \"HerkunftEp2Cd\": 1, \"SexEp1Cd\": 2, \"SexEp1Lang\": \"weiblich\", \"SexEp1Kurz\": \"W\", \"SexEp2Cd\": 1, \"SexEp2Lang\": \"m\\u00e4nnlich\", \"SexEp2Kurz\": \"M\", \"AnzSchl\": 901, \"StichtagDatJahr_str\": \"2006-01-01\"}, {\"StichtagDatJahr\": \"2006-01-01T00:00:00\", \"HerkunftEp1Lang\": \"Schweizer/in\", \"HerkunftEp1Sort\": 1, \"HerkunftEp1Cd\": 1, \"HerkunftEp2Lang\": \"Ausl\\u00e4nder/in\", \"HerkunftEp2Sort\": 2, \"HerkunftEp2Cd\": 2, \"SexEp1Cd\": 2, \"SexEp1Lang\": \"weiblich\", \"SexEp1Kurz\": \"W\", \"SexEp2Cd\": 1, \"SexEp2Lang\": \"m\\u00e4nnlich\", \"SexEp2Kurz\": \"M\", \"AnzSchl\": 669, \"StichtagDatJahr_str\": \"2006-01-01\"}, {\"StichtagDatJahr\": \"2006-01-01T00:00:00\", \"HerkunftEp1Lang\": \"Ausl\\u00e4nder/in\", \"HerkunftEp1Sort\": 2, \"HerkunftEp1Cd\": 2, \"HerkunftEp2Lang\": \"Schweizer/in\", \"HerkunftEp2Sort\": 1, \"HerkunftEp2Cd\": 1, \"SexEp1Cd\": 2, \"SexEp1Lang\": \"weiblich\", \"SexEp1Kurz\": \"W\", \"SexEp2Cd\": 1, \"SexEp2Lang\": \"m\\u00e4nnlich\", \"SexEp2Kurz\": \"M\", \"AnzSchl\": 631, \"StichtagDatJahr_str\": \"2006-01-01\"}, {\"StichtagDatJahr\": \"2006-01-01T00:00:00\", \"HerkunftEp1Lang\": \"Ausl\\u00e4nder/in\", \"HerkunftEp1Sort\": 2, \"HerkunftEp1Cd\": 2, \"HerkunftEp2Lang\": \"Ausl\\u00e4nder/in\", \"HerkunftEp2Sort\": 2, \"HerkunftEp2Cd\": 2, \"SexEp1Cd\": 2, \"SexEp1Lang\": \"weiblich\", \"SexEp1Kurz\": \"W\", \"SexEp2Cd\": 1, \"SexEp2Lang\": \"m\\u00e4nnlich\", \"SexEp2Kurz\": \"M\", \"AnzSchl\": 1033, \"StichtagDatJahr_str\": \"2006-01-01\"}, {\"StichtagDatJahr\": \"2005-01-01T00:00:00\", \"HerkunftEp1Lang\": \"Schweizer/in\", \"HerkunftEp1Sort\": 1, \"HerkunftEp1Cd\": 1, \"HerkunftEp2Lang\": \"Schweizer/in\", \"HerkunftEp2Sort\": 1, \"HerkunftEp2Cd\": 1, \"SexEp1Cd\": 2, \"SexEp1Lang\": \"weiblich\", \"SexEp1Kurz\": \"W\", \"SexEp2Cd\": 1, \"SexEp2Lang\": \"m\\u00e4nnlich\", \"SexEp2Kurz\": \"M\", \"AnzSchl\": 989, \"StichtagDatJahr_str\": \"2005-01-01\"}, {\"StichtagDatJahr\": \"2005-01-01T00:00:00\", \"HerkunftEp1Lang\": \"Schweizer/in\", \"HerkunftEp1Sort\": 1, \"HerkunftEp1Cd\": 1, \"HerkunftEp2Lang\": \"Ausl\\u00e4nder/in\", \"HerkunftEp2Sort\": 2, \"HerkunftEp2Cd\": 2, \"SexEp1Cd\": 2, \"SexEp1Lang\": \"weiblich\", \"SexEp1Kurz\": \"W\", \"SexEp2Cd\": 1, \"SexEp2Lang\": \"m\\u00e4nnlich\", \"SexEp2Kurz\": \"M\", \"AnzSchl\": 676, \"StichtagDatJahr_str\": \"2005-01-01\"}, {\"StichtagDatJahr\": \"2005-01-01T00:00:00\", \"HerkunftEp1Lang\": \"Ausl\\u00e4nder/in\", \"HerkunftEp1Sort\": 2, \"HerkunftEp1Cd\": 2, \"HerkunftEp2Lang\": \"Schweizer/in\", \"HerkunftEp2Sort\": 1, \"HerkunftEp2Cd\": 1, \"SexEp1Cd\": 2, \"SexEp1Lang\": \"weiblich\", \"SexEp1Kurz\": \"W\", \"SexEp2Cd\": 1, \"SexEp2Lang\": \"m\\u00e4nnlich\", \"SexEp2Kurz\": \"M\", \"AnzSchl\": 726, \"StichtagDatJahr_str\": \"2005-01-01\"}, {\"StichtagDatJahr\": \"2005-01-01T00:00:00\", \"HerkunftEp1Lang\": \"Ausl\\u00e4nder/in\", \"HerkunftEp1Sort\": 2, \"HerkunftEp1Cd\": 2, \"HerkunftEp2Lang\": \"Ausl\\u00e4nder/in\", \"HerkunftEp2Sort\": 2, \"HerkunftEp2Cd\": 2, \"SexEp1Cd\": 2, \"SexEp1Lang\": \"weiblich\", \"SexEp1Kurz\": \"W\", \"SexEp2Cd\": 1, \"SexEp2Lang\": \"m\\u00e4nnlich\", \"SexEp2Kurz\": \"M\", \"AnzSchl\": 999, \"StichtagDatJahr_str\": \"2005-01-01\"}, {\"StichtagDatJahr\": \"2004-01-01T00:00:00\", \"HerkunftEp1Lang\": \"Ausl\\u00e4nder/in\", \"HerkunftEp1Sort\": 2, \"HerkunftEp1Cd\": 2, \"HerkunftEp2Lang\": \"Ausl\\u00e4nder/in\", \"HerkunftEp2Sort\": 2, \"HerkunftEp2Cd\": 2, \"SexEp1Cd\": 2, \"SexEp1Lang\": \"weiblich\", \"SexEp1Kurz\": \"W\", \"SexEp2Cd\": 1, \"SexEp2Lang\": \"m\\u00e4nnlich\", \"SexEp2Kurz\": \"M\", \"AnzSchl\": 990, \"StichtagDatJahr_str\": \"2004-01-01\"}, {\"StichtagDatJahr\": \"2004-01-01T00:00:00\", \"HerkunftEp1Lang\": \"Schweizer/in\", \"HerkunftEp1Sort\": 1, \"HerkunftEp1Cd\": 1, \"HerkunftEp2Lang\": \"Ausl\\u00e4nder/in\", \"HerkunftEp2Sort\": 2, \"HerkunftEp2Cd\": 2, \"SexEp1Cd\": 2, \"SexEp1Lang\": \"weiblich\", \"SexEp1Kurz\": \"W\", \"SexEp2Cd\": 1, \"SexEp2Lang\": \"m\\u00e4nnlich\", \"SexEp2Kurz\": \"M\", \"AnzSchl\": 762, \"StichtagDatJahr_str\": \"2004-01-01\"}, {\"StichtagDatJahr\": \"2004-01-01T00:00:00\", \"HerkunftEp1Lang\": \"Ausl\\u00e4nder/in\", \"HerkunftEp1Sort\": 2, \"HerkunftEp1Cd\": 2, \"HerkunftEp2Lang\": \"Schweizer/in\", \"HerkunftEp2Sort\": 1, \"HerkunftEp2Cd\": 1, \"SexEp1Cd\": 2, \"SexEp1Lang\": \"weiblich\", \"SexEp1Kurz\": \"W\", \"SexEp2Cd\": 1, \"SexEp2Lang\": \"m\\u00e4nnlich\", \"SexEp2Kurz\": \"M\", \"AnzSchl\": 710, \"StichtagDatJahr_str\": \"2004-01-01\"}, {\"StichtagDatJahr\": \"2004-01-01T00:00:00\", \"HerkunftEp1Lang\": \"Schweizer/in\", \"HerkunftEp1Sort\": 1, \"HerkunftEp1Cd\": 1, \"HerkunftEp2Lang\": \"Schweizer/in\", \"HerkunftEp2Sort\": 1, \"HerkunftEp2Cd\": 1, \"SexEp1Cd\": 2, \"SexEp1Lang\": \"weiblich\", \"SexEp1Kurz\": \"W\", \"SexEp2Cd\": 1, \"SexEp2Lang\": \"m\\u00e4nnlich\", \"SexEp2Kurz\": \"M\", \"AnzSchl\": 905, \"StichtagDatJahr_str\": \"2004-01-01\"}, {\"StichtagDatJahr\": \"2003-01-01T00:00:00\", \"HerkunftEp1Lang\": \"Schweizer/in\", \"HerkunftEp1Sort\": 1, \"HerkunftEp1Cd\": 1, \"HerkunftEp2Lang\": \"Schweizer/in\", \"HerkunftEp2Sort\": 1, \"HerkunftEp2Cd\": 1, \"SexEp1Cd\": 2, \"SexEp1Lang\": \"weiblich\", \"SexEp1Kurz\": \"W\", \"SexEp2Cd\": 1, \"SexEp2Lang\": \"m\\u00e4nnlich\", \"SexEp2Kurz\": \"M\", \"AnzSchl\": 994, \"StichtagDatJahr_str\": \"2003-01-01\"}, {\"StichtagDatJahr\": \"2003-01-01T00:00:00\", \"HerkunftEp1Lang\": \"Schweizer/in\", \"HerkunftEp1Sort\": 1, \"HerkunftEp1Cd\": 1, \"HerkunftEp2Lang\": \"Ausl\\u00e4nder/in\", \"HerkunftEp2Sort\": 2, \"HerkunftEp2Cd\": 2, \"SexEp1Cd\": 2, \"SexEp1Lang\": \"weiblich\", \"SexEp1Kurz\": \"W\", \"SexEp2Cd\": 1, \"SexEp2Lang\": \"m\\u00e4nnlich\", \"SexEp2Kurz\": \"M\", \"AnzSchl\": 748, \"StichtagDatJahr_str\": \"2003-01-01\"}, {\"StichtagDatJahr\": \"2003-01-01T00:00:00\", \"HerkunftEp1Lang\": \"Ausl\\u00e4nder/in\", \"HerkunftEp1Sort\": 2, \"HerkunftEp1Cd\": 2, \"HerkunftEp2Lang\": \"Schweizer/in\", \"HerkunftEp2Sort\": 1, \"HerkunftEp2Cd\": 1, \"SexEp1Cd\": 2, \"SexEp1Lang\": \"weiblich\", \"SexEp1Kurz\": \"W\", \"SexEp2Cd\": 1, \"SexEp2Lang\": \"m\\u00e4nnlich\", \"SexEp2Kurz\": \"M\", \"AnzSchl\": 757, \"StichtagDatJahr_str\": \"2003-01-01\"}, {\"StichtagDatJahr\": \"2003-01-01T00:00:00\", \"HerkunftEp1Lang\": \"Ausl\\u00e4nder/in\", \"HerkunftEp1Sort\": 2, \"HerkunftEp1Cd\": 2, \"HerkunftEp2Lang\": \"Ausl\\u00e4nder/in\", \"HerkunftEp2Sort\": 2, \"HerkunftEp2Cd\": 2, \"SexEp1Cd\": 2, \"SexEp1Lang\": \"weiblich\", \"SexEp1Kurz\": \"W\", \"SexEp2Cd\": 1, \"SexEp2Lang\": \"m\\u00e4nnlich\", \"SexEp2Kurz\": \"M\", \"AnzSchl\": 1184, \"StichtagDatJahr_str\": \"2003-01-01\"}, {\"StichtagDatJahr\": \"2002-01-01T00:00:00\", \"HerkunftEp1Lang\": \"Schweizer/in\", \"HerkunftEp1Sort\": 1, \"HerkunftEp1Cd\": 1, \"HerkunftEp2Lang\": \"Schweizer/in\", \"HerkunftEp2Sort\": 1, \"HerkunftEp2Cd\": 1, \"SexEp1Cd\": 2, \"SexEp1Lang\": \"weiblich\", \"SexEp1Kurz\": \"W\", \"SexEp2Cd\": 1, \"SexEp2Lang\": \"m\\u00e4nnlich\", \"SexEp2Kurz\": \"M\", \"AnzSchl\": 939, \"StichtagDatJahr_str\": \"2002-01-01\"}, {\"StichtagDatJahr\": \"2002-01-01T00:00:00\", \"HerkunftEp1Lang\": \"Schweizer/in\", \"HerkunftEp1Sort\": 1, \"HerkunftEp1Cd\": 1, \"HerkunftEp2Lang\": \"Ausl\\u00e4nder/in\", \"HerkunftEp2Sort\": 2, \"HerkunftEp2Cd\": 2, \"SexEp1Cd\": 2, \"SexEp1Lang\": \"weiblich\", \"SexEp1Kurz\": \"W\", \"SexEp2Cd\": 1, \"SexEp2Lang\": \"m\\u00e4nnlich\", \"SexEp2Kurz\": \"M\", \"AnzSchl\": 744, \"StichtagDatJahr_str\": \"2002-01-01\"}, {\"StichtagDatJahr\": \"2002-01-01T00:00:00\", \"HerkunftEp1Lang\": \"Ausl\\u00e4nder/in\", \"HerkunftEp1Sort\": 2, \"HerkunftEp1Cd\": 2, \"HerkunftEp2Lang\": \"Schweizer/in\", \"HerkunftEp2Sort\": 1, \"HerkunftEp2Cd\": 1, \"SexEp1Cd\": 2, \"SexEp1Lang\": \"weiblich\", \"SexEp1Kurz\": \"W\", \"SexEp2Cd\": 1, \"SexEp2Lang\": \"m\\u00e4nnlich\", \"SexEp2Kurz\": \"M\", \"AnzSchl\": 776, \"StichtagDatJahr_str\": \"2002-01-01\"}, {\"StichtagDatJahr\": \"2002-01-01T00:00:00\", \"HerkunftEp1Lang\": \"Ausl\\u00e4nder/in\", \"HerkunftEp1Sort\": 2, \"HerkunftEp1Cd\": 2, \"HerkunftEp2Lang\": \"Ausl\\u00e4nder/in\", \"HerkunftEp2Sort\": 2, \"HerkunftEp2Cd\": 2, \"SexEp1Cd\": 2, \"SexEp1Lang\": \"weiblich\", \"SexEp1Kurz\": \"W\", \"SexEp2Cd\": 1, \"SexEp2Lang\": \"m\\u00e4nnlich\", \"SexEp2Kurz\": \"M\", \"AnzSchl\": 1115, \"StichtagDatJahr_str\": \"2002-01-01\"}, {\"StichtagDatJahr\": \"2001-01-01T00:00:00\", \"HerkunftEp1Lang\": \"Ausl\\u00e4nder/in\", \"HerkunftEp1Sort\": 2, \"HerkunftEp1Cd\": 2, \"HerkunftEp2Lang\": \"Ausl\\u00e4nder/in\", \"HerkunftEp2Sort\": 2, \"HerkunftEp2Cd\": 2, \"SexEp1Cd\": 2, \"SexEp1Lang\": \"weiblich\", \"SexEp1Kurz\": \"W\", \"SexEp2Cd\": 1, \"SexEp2Lang\": \"m\\u00e4nnlich\", \"SexEp2Kurz\": \"M\", \"AnzSchl\": 1175, \"StichtagDatJahr_str\": \"2001-01-01\"}, {\"StichtagDatJahr\": \"2001-01-01T00:00:00\", \"HerkunftEp1Lang\": \"Schweizer/in\", \"HerkunftEp1Sort\": 1, \"HerkunftEp1Cd\": 1, \"HerkunftEp2Lang\": \"Schweizer/in\", \"HerkunftEp2Sort\": 1, \"HerkunftEp2Cd\": 1, \"SexEp1Cd\": 2, \"SexEp1Lang\": \"weiblich\", \"SexEp1Kurz\": \"W\", \"SexEp2Cd\": 1, \"SexEp2Lang\": \"m\\u00e4nnlich\", \"SexEp2Kurz\": \"M\", \"AnzSchl\": 922, \"StichtagDatJahr_str\": \"2001-01-01\"}, {\"StichtagDatJahr\": \"2001-01-01T00:00:00\", \"HerkunftEp1Lang\": \"Schweizer/in\", \"HerkunftEp1Sort\": 1, \"HerkunftEp1Cd\": 1, \"HerkunftEp2Lang\": \"Ausl\\u00e4nder/in\", \"HerkunftEp2Sort\": 2, \"HerkunftEp2Cd\": 2, \"SexEp1Cd\": 2, \"SexEp1Lang\": \"weiblich\", \"SexEp1Kurz\": \"W\", \"SexEp2Cd\": 1, \"SexEp2Lang\": \"m\\u00e4nnlich\", \"SexEp2Kurz\": \"M\", \"AnzSchl\": 711, \"StichtagDatJahr_str\": \"2001-01-01\"}, {\"StichtagDatJahr\": \"2001-01-01T00:00:00\", \"HerkunftEp1Lang\": \"Ausl\\u00e4nder/in\", \"HerkunftEp1Sort\": 2, \"HerkunftEp1Cd\": 2, \"HerkunftEp2Lang\": \"Schweizer/in\", \"HerkunftEp2Sort\": 1, \"HerkunftEp2Cd\": 1, \"SexEp1Cd\": 2, \"SexEp1Lang\": \"weiblich\", \"SexEp1Kurz\": \"W\", \"SexEp2Cd\": 1, \"SexEp2Lang\": \"m\\u00e4nnlich\", \"SexEp2Kurz\": \"M\", \"AnzSchl\": 806, \"StichtagDatJahr_str\": \"2001-01-01\"}, {\"StichtagDatJahr\": \"2000-01-01T00:00:00\", \"HerkunftEp1Lang\": \"Ausl\\u00e4nder/in\", \"HerkunftEp1Sort\": 2, \"HerkunftEp1Cd\": 2, \"HerkunftEp2Lang\": \"Schweizer/in\", \"HerkunftEp2Sort\": 1, \"HerkunftEp2Cd\": 1, \"SexEp1Cd\": 2, \"SexEp1Lang\": \"weiblich\", \"SexEp1Kurz\": \"W\", \"SexEp2Cd\": 1, \"SexEp2Lang\": \"m\\u00e4nnlich\", \"SexEp2Kurz\": \"M\", \"AnzSchl\": 733, \"StichtagDatJahr_str\": \"2000-01-01\"}, {\"StichtagDatJahr\": \"2000-01-01T00:00:00\", \"HerkunftEp1Lang\": \"Ausl\\u00e4nder/in\", \"HerkunftEp1Sort\": 2, \"HerkunftEp1Cd\": 2, \"HerkunftEp2Lang\": \"Ausl\\u00e4nder/in\", \"HerkunftEp2Sort\": 2, \"HerkunftEp2Cd\": 2, \"SexEp1Cd\": 2, \"SexEp1Lang\": \"weiblich\", \"SexEp1Kurz\": \"W\", \"SexEp2Cd\": 1, \"SexEp2Lang\": \"m\\u00e4nnlich\", \"SexEp2Kurz\": \"M\", \"AnzSchl\": 1064, \"StichtagDatJahr_str\": \"2000-01-01\"}, {\"StichtagDatJahr\": \"2000-01-01T00:00:00\", \"HerkunftEp1Lang\": \"Schweizer/in\", \"HerkunftEp1Sort\": 1, \"HerkunftEp1Cd\": 1, \"HerkunftEp2Lang\": \"Schweizer/in\", \"HerkunftEp2Sort\": 1, \"HerkunftEp2Cd\": 1, \"SexEp1Cd\": 2, \"SexEp1Lang\": \"weiblich\", \"SexEp1Kurz\": \"W\", \"SexEp2Cd\": 1, \"SexEp2Lang\": \"m\\u00e4nnlich\", \"SexEp2Kurz\": \"M\", \"AnzSchl\": 948, \"StichtagDatJahr_str\": \"2000-01-01\"}, {\"StichtagDatJahr\": \"2000-01-01T00:00:00\", \"HerkunftEp1Lang\": \"Schweizer/in\", \"HerkunftEp1Sort\": 1, \"HerkunftEp1Cd\": 1, \"HerkunftEp2Lang\": \"Ausl\\u00e4nder/in\", \"HerkunftEp2Sort\": 2, \"HerkunftEp2Cd\": 2, \"SexEp1Cd\": 2, \"SexEp1Lang\": \"weiblich\", \"SexEp1Kurz\": \"W\", \"SexEp2Cd\": 1, \"SexEp2Lang\": \"m\\u00e4nnlich\", \"SexEp2Kurz\": \"M\", \"AnzSchl\": 718, \"StichtagDatJahr_str\": \"2000-01-01\"}, {\"StichtagDatJahr\": \"1999-01-01T00:00:00\", \"HerkunftEp1Lang\": \"Schweizer/in\", \"HerkunftEp1Sort\": 1, \"HerkunftEp1Cd\": 1, \"HerkunftEp2Lang\": \"Schweizer/in\", \"HerkunftEp2Sort\": 1, \"HerkunftEp2Cd\": 1, \"SexEp1Cd\": 2, \"SexEp1Lang\": \"weiblich\", \"SexEp1Kurz\": \"W\", \"SexEp2Cd\": 1, \"SexEp2Lang\": \"m\\u00e4nnlich\", \"SexEp2Kurz\": \"M\", \"AnzSchl\": 993, \"StichtagDatJahr_str\": \"1999-01-01\"}, {\"StichtagDatJahr\": \"1999-01-01T00:00:00\", \"HerkunftEp1Lang\": \"Schweizer/in\", \"HerkunftEp1Sort\": 1, \"HerkunftEp1Cd\": 1, \"HerkunftEp2Lang\": \"Ausl\\u00e4nder/in\", \"HerkunftEp2Sort\": 2, \"HerkunftEp2Cd\": 2, \"SexEp1Cd\": 2, \"SexEp1Lang\": \"weiblich\", \"SexEp1Kurz\": \"W\", \"SexEp2Cd\": 1, \"SexEp2Lang\": \"m\\u00e4nnlich\", \"SexEp2Kurz\": \"M\", \"AnzSchl\": 669, \"StichtagDatJahr_str\": \"1999-01-01\"}, {\"StichtagDatJahr\": \"1999-01-01T00:00:00\", \"HerkunftEp1Lang\": \"Ausl\\u00e4nder/in\", \"HerkunftEp1Sort\": 2, \"HerkunftEp1Cd\": 2, \"HerkunftEp2Lang\": \"Schweizer/in\", \"HerkunftEp2Sort\": 1, \"HerkunftEp2Cd\": 1, \"SexEp1Cd\": 2, \"SexEp1Lang\": \"weiblich\", \"SexEp1Kurz\": \"W\", \"SexEp2Cd\": 1, \"SexEp2Lang\": \"m\\u00e4nnlich\", \"SexEp2Kurz\": \"M\", \"AnzSchl\": 716, \"StichtagDatJahr_str\": \"1999-01-01\"}, {\"StichtagDatJahr\": \"1999-01-01T00:00:00\", \"HerkunftEp1Lang\": \"Ausl\\u00e4nder/in\", \"HerkunftEp1Sort\": 2, \"HerkunftEp1Cd\": 2, \"HerkunftEp2Lang\": \"Ausl\\u00e4nder/in\", \"HerkunftEp2Sort\": 2, \"HerkunftEp2Cd\": 2, \"SexEp1Cd\": 2, \"SexEp1Lang\": \"weiblich\", \"SexEp1Kurz\": \"W\", \"SexEp2Cd\": 1, \"SexEp2Lang\": \"m\\u00e4nnlich\", \"SexEp2Kurz\": \"M\", \"AnzSchl\": 1018, \"StichtagDatJahr_str\": \"1999-01-01\"}, {\"StichtagDatJahr\": \"1998-01-01T00:00:00\", \"HerkunftEp1Lang\": \"Schweizer/in\", \"HerkunftEp1Sort\": 1, \"HerkunftEp1Cd\": 1, \"HerkunftEp2Lang\": \"Schweizer/in\", \"HerkunftEp2Sort\": 1, \"HerkunftEp2Cd\": 1, \"SexEp1Cd\": 2, \"SexEp1Lang\": \"weiblich\", \"SexEp1Kurz\": \"W\", \"SexEp2Cd\": 1, \"SexEp2Lang\": \"m\\u00e4nnlich\", \"SexEp2Kurz\": \"M\", \"AnzSchl\": 964, \"StichtagDatJahr_str\": \"1998-01-01\"}, {\"StichtagDatJahr\": \"1998-01-01T00:00:00\", \"HerkunftEp1Lang\": \"Schweizer/in\", \"HerkunftEp1Sort\": 1, \"HerkunftEp1Cd\": 1, \"HerkunftEp2Lang\": \"Ausl\\u00e4nder/in\", \"HerkunftEp2Sort\": 2, \"HerkunftEp2Cd\": 2, \"SexEp1Cd\": 2, \"SexEp1Lang\": \"weiblich\", \"SexEp1Kurz\": \"W\", \"SexEp2Cd\": 1, \"SexEp2Lang\": \"m\\u00e4nnlich\", \"SexEp2Kurz\": \"M\", \"AnzSchl\": 650, \"StichtagDatJahr_str\": \"1998-01-01\"}, {\"StichtagDatJahr\": \"1998-01-01T00:00:00\", \"HerkunftEp1Lang\": \"Ausl\\u00e4nder/in\", \"HerkunftEp1Sort\": 2, \"HerkunftEp1Cd\": 2, \"HerkunftEp2Lang\": \"Schweizer/in\", \"HerkunftEp2Sort\": 1, \"HerkunftEp2Cd\": 1, \"SexEp1Cd\": 2, \"SexEp1Lang\": \"weiblich\", \"SexEp1Kurz\": \"W\", \"SexEp2Cd\": 1, \"SexEp2Lang\": \"m\\u00e4nnlich\", \"SexEp2Kurz\": \"M\", \"AnzSchl\": 680, \"StichtagDatJahr_str\": \"1998-01-01\"}, {\"StichtagDatJahr\": \"1998-01-01T00:00:00\", \"HerkunftEp1Lang\": \"Ausl\\u00e4nder/in\", \"HerkunftEp1Sort\": 2, \"HerkunftEp1Cd\": 2, \"HerkunftEp2Lang\": \"Ausl\\u00e4nder/in\", \"HerkunftEp2Sort\": 2, \"HerkunftEp2Cd\": 2, \"SexEp1Cd\": 2, \"SexEp1Lang\": \"weiblich\", \"SexEp1Kurz\": \"W\", \"SexEp2Cd\": 1, \"SexEp2Lang\": \"m\\u00e4nnlich\", \"SexEp2Kurz\": \"M\", \"AnzSchl\": 1054, \"StichtagDatJahr_str\": \"1998-01-01\"}, {\"StichtagDatJahr\": \"1997-01-01T00:00:00\", \"HerkunftEp1Lang\": \"Schweizer/in\", \"HerkunftEp1Sort\": 1, \"HerkunftEp1Cd\": 1, \"HerkunftEp2Lang\": \"Ausl\\u00e4nder/in\", \"HerkunftEp2Sort\": 2, \"HerkunftEp2Cd\": 2, \"SexEp1Cd\": 2, \"SexEp1Lang\": \"weiblich\", \"SexEp1Kurz\": \"W\", \"SexEp2Cd\": 1, \"SexEp2Lang\": \"m\\u00e4nnlich\", \"SexEp2Kurz\": \"M\", \"AnzSchl\": 660, \"StichtagDatJahr_str\": \"1997-01-01\"}, {\"StichtagDatJahr\": \"1997-01-01T00:00:00\", \"HerkunftEp1Lang\": \"Ausl\\u00e4nder/in\", \"HerkunftEp1Sort\": 2, \"HerkunftEp1Cd\": 2, \"HerkunftEp2Lang\": \"Schweizer/in\", \"HerkunftEp2Sort\": 1, \"HerkunftEp2Cd\": 1, \"SexEp1Cd\": 2, \"SexEp1Lang\": \"weiblich\", \"SexEp1Kurz\": \"W\", \"SexEp2Cd\": 1, \"SexEp2Lang\": \"m\\u00e4nnlich\", \"SexEp2Kurz\": \"M\", \"AnzSchl\": 649, \"StichtagDatJahr_str\": \"1997-01-01\"}, {\"StichtagDatJahr\": \"1997-01-01T00:00:00\", \"HerkunftEp1Lang\": \"Ausl\\u00e4nder/in\", \"HerkunftEp1Sort\": 2, \"HerkunftEp1Cd\": 2, \"HerkunftEp2Lang\": \"Ausl\\u00e4nder/in\", \"HerkunftEp2Sort\": 2, \"HerkunftEp2Cd\": 2, \"SexEp1Cd\": 2, \"SexEp1Lang\": \"weiblich\", \"SexEp1Kurz\": \"W\", \"SexEp2Cd\": 1, \"SexEp2Lang\": \"m\\u00e4nnlich\", \"SexEp2Kurz\": \"M\", \"AnzSchl\": 992, \"StichtagDatJahr_str\": \"1997-01-01\"}, {\"StichtagDatJahr\": \"1997-01-01T00:00:00\", \"HerkunftEp1Lang\": \"Schweizer/in\", \"HerkunftEp1Sort\": 1, \"HerkunftEp1Cd\": 1, \"HerkunftEp2Lang\": \"Schweizer/in\", \"HerkunftEp2Sort\": 1, \"HerkunftEp2Cd\": 1, \"SexEp1Cd\": 2, \"SexEp1Lang\": \"weiblich\", \"SexEp1Kurz\": \"W\", \"SexEp2Cd\": 1, \"SexEp2Lang\": \"m\\u00e4nnlich\", \"SexEp2Kurz\": \"M\", \"AnzSchl\": 958, \"StichtagDatJahr_str\": \"1997-01-01\"}, {\"StichtagDatJahr\": \"1996-01-01T00:00:00\", \"HerkunftEp1Lang\": \"Schweizer/in\", \"HerkunftEp1Sort\": 1, \"HerkunftEp1Cd\": 1, \"HerkunftEp2Lang\": \"Schweizer/in\", \"HerkunftEp2Sort\": 1, \"HerkunftEp2Cd\": 1, \"SexEp1Cd\": 2, \"SexEp1Lang\": \"weiblich\", \"SexEp1Kurz\": \"W\", \"SexEp2Cd\": 1, \"SexEp2Lang\": \"m\\u00e4nnlich\", \"SexEp2Kurz\": \"M\", \"AnzSchl\": 1003, \"StichtagDatJahr_str\": \"1996-01-01\"}, {\"StichtagDatJahr\": \"1996-01-01T00:00:00\", \"HerkunftEp1Lang\": \"Schweizer/in\", \"HerkunftEp1Sort\": 1, \"HerkunftEp1Cd\": 1, \"HerkunftEp2Lang\": \"Ausl\\u00e4nder/in\", \"HerkunftEp2Sort\": 2, \"HerkunftEp2Cd\": 2, \"SexEp1Cd\": 2, \"SexEp1Lang\": \"weiblich\", \"SexEp1Kurz\": \"W\", \"SexEp2Cd\": 1, \"SexEp2Lang\": \"m\\u00e4nnlich\", \"SexEp2Kurz\": \"M\", \"AnzSchl\": 653, \"StichtagDatJahr_str\": \"1996-01-01\"}, {\"StichtagDatJahr\": \"1996-01-01T00:00:00\", \"HerkunftEp1Lang\": \"Ausl\\u00e4nder/in\", \"HerkunftEp1Sort\": 2, \"HerkunftEp1Cd\": 2, \"HerkunftEp2Lang\": \"Schweizer/in\", \"HerkunftEp2Sort\": 1, \"HerkunftEp2Cd\": 1, \"SexEp1Cd\": 2, \"SexEp1Lang\": \"weiblich\", \"SexEp1Kurz\": \"W\", \"SexEp2Cd\": 1, \"SexEp2Lang\": \"m\\u00e4nnlich\", \"SexEp2Kurz\": \"M\", \"AnzSchl\": 609, \"StichtagDatJahr_str\": \"1996-01-01\"}, {\"StichtagDatJahr\": \"1996-01-01T00:00:00\", \"HerkunftEp1Lang\": \"Ausl\\u00e4nder/in\", \"HerkunftEp1Sort\": 2, \"HerkunftEp1Cd\": 2, \"HerkunftEp2Lang\": \"Ausl\\u00e4nder/in\", \"HerkunftEp2Sort\": 2, \"HerkunftEp2Cd\": 2, \"SexEp1Cd\": 2, \"SexEp1Lang\": \"weiblich\", \"SexEp1Kurz\": \"W\", \"SexEp2Cd\": 1, \"SexEp2Lang\": \"m\\u00e4nnlich\", \"SexEp2Kurz\": \"M\", \"AnzSchl\": 957, \"StichtagDatJahr_str\": \"1996-01-01\"}, {\"StichtagDatJahr\": \"1995-01-01T00:00:00\", \"HerkunftEp1Lang\": \"Schweizer/in\", \"HerkunftEp1Sort\": 1, \"HerkunftEp1Cd\": 1, \"HerkunftEp2Lang\": \"Schweizer/in\", \"HerkunftEp2Sort\": 1, \"HerkunftEp2Cd\": 1, \"SexEp1Cd\": 2, \"SexEp1Lang\": \"weiblich\", \"SexEp1Kurz\": \"W\", \"SexEp2Cd\": 1, \"SexEp2Lang\": \"m\\u00e4nnlich\", \"SexEp2Kurz\": \"M\", \"AnzSchl\": 1036, \"StichtagDatJahr_str\": \"1995-01-01\"}, {\"StichtagDatJahr\": \"1995-01-01T00:00:00\", \"HerkunftEp1Lang\": \"Schweizer/in\", \"HerkunftEp1Sort\": 1, \"HerkunftEp1Cd\": 1, \"HerkunftEp2Lang\": \"Ausl\\u00e4nder/in\", \"HerkunftEp2Sort\": 2, \"HerkunftEp2Cd\": 2, \"SexEp1Cd\": 2, \"SexEp1Lang\": \"weiblich\", \"SexEp1Kurz\": \"W\", \"SexEp2Cd\": 1, \"SexEp2Lang\": \"m\\u00e4nnlich\", \"SexEp2Kurz\": \"M\", \"AnzSchl\": 627, \"StichtagDatJahr_str\": \"1995-01-01\"}, {\"StichtagDatJahr\": \"1995-01-01T00:00:00\", \"HerkunftEp1Lang\": \"Ausl\\u00e4nder/in\", \"HerkunftEp1Sort\": 2, \"HerkunftEp1Cd\": 2, \"HerkunftEp2Lang\": \"Schweizer/in\", \"HerkunftEp2Sort\": 1, \"HerkunftEp2Cd\": 1, \"SexEp1Cd\": 2, \"SexEp1Lang\": \"weiblich\", \"SexEp1Kurz\": \"W\", \"SexEp2Cd\": 1, \"SexEp2Lang\": \"m\\u00e4nnlich\", \"SexEp2Kurz\": \"M\", \"AnzSchl\": 616, \"StichtagDatJahr_str\": \"1995-01-01\"}, {\"StichtagDatJahr\": \"1995-01-01T00:00:00\", \"HerkunftEp1Lang\": \"Ausl\\u00e4nder/in\", \"HerkunftEp1Sort\": 2, \"HerkunftEp1Cd\": 2, \"HerkunftEp2Lang\": \"Ausl\\u00e4nder/in\", \"HerkunftEp2Sort\": 2, \"HerkunftEp2Cd\": 2, \"SexEp1Cd\": 2, \"SexEp1Lang\": \"weiblich\", \"SexEp1Kurz\": \"W\", \"SexEp2Cd\": 1, \"SexEp2Lang\": \"m\\u00e4nnlich\", \"SexEp2Kurz\": \"M\", \"AnzSchl\": 901, \"StichtagDatJahr_str\": \"1995-01-01\"}, {\"StichtagDatJahr\": \"1994-01-01T00:00:00\", \"HerkunftEp1Lang\": \"Schweizer/in\", \"HerkunftEp1Sort\": 1, \"HerkunftEp1Cd\": 1, \"HerkunftEp2Lang\": \"Schweizer/in\", \"HerkunftEp2Sort\": 1, \"HerkunftEp2Cd\": 1, \"SexEp1Cd\": 2, \"SexEp1Lang\": \"weiblich\", \"SexEp1Kurz\": \"W\", \"SexEp2Cd\": 1, \"SexEp2Lang\": \"m\\u00e4nnlich\", \"SexEp2Kurz\": \"M\", \"AnzSchl\": 1121, \"StichtagDatJahr_str\": \"1994-01-01\"}, {\"StichtagDatJahr\": \"1994-01-01T00:00:00\", \"HerkunftEp1Lang\": \"Schweizer/in\", \"HerkunftEp1Sort\": 1, \"HerkunftEp1Cd\": 1, \"HerkunftEp2Lang\": \"Ausl\\u00e4nder/in\", \"HerkunftEp2Sort\": 2, \"HerkunftEp2Cd\": 2, \"SexEp1Cd\": 2, \"SexEp1Lang\": \"weiblich\", \"SexEp1Kurz\": \"W\", \"SexEp2Cd\": 1, \"SexEp2Lang\": \"m\\u00e4nnlich\", \"SexEp2Kurz\": \"M\", \"AnzSchl\": 720, \"StichtagDatJahr_str\": \"1994-01-01\"}, {\"StichtagDatJahr\": \"1994-01-01T00:00:00\", \"HerkunftEp1Lang\": \"Ausl\\u00e4nder/in\", \"HerkunftEp1Sort\": 2, \"HerkunftEp1Cd\": 2, \"HerkunftEp2Lang\": \"Schweizer/in\", \"HerkunftEp2Sort\": 1, \"HerkunftEp2Cd\": 1, \"SexEp1Cd\": 2, \"SexEp1Lang\": \"weiblich\", \"SexEp1Kurz\": \"W\", \"SexEp2Cd\": 1, \"SexEp2Lang\": \"m\\u00e4nnlich\", \"SexEp2Kurz\": \"M\", \"AnzSchl\": 652, \"StichtagDatJahr_str\": \"1994-01-01\"}, {\"StichtagDatJahr\": \"1994-01-01T00:00:00\", \"HerkunftEp1Lang\": \"Ausl\\u00e4nder/in\", \"HerkunftEp1Sort\": 2, \"HerkunftEp1Cd\": 2, \"HerkunftEp2Lang\": \"Ausl\\u00e4nder/in\", \"HerkunftEp2Sort\": 2, \"HerkunftEp2Cd\": 2, \"SexEp1Cd\": 2, \"SexEp1Lang\": \"weiblich\", \"SexEp1Kurz\": \"W\", \"SexEp2Cd\": 1, \"SexEp2Lang\": \"m\\u00e4nnlich\", \"SexEp2Kurz\": \"M\", \"AnzSchl\": 1048, \"StichtagDatJahr_str\": \"1994-01-01\"}, {\"StichtagDatJahr\": \"1993-01-01T00:00:00\", \"HerkunftEp1Lang\": \"Schweizer/in\", \"HerkunftEp1Sort\": 1, \"HerkunftEp1Cd\": 1, \"HerkunftEp2Lang\": \"Ausl\\u00e4nder/in\", \"HerkunftEp2Sort\": 2, \"HerkunftEp2Cd\": 2, \"SexEp1Cd\": 2, \"SexEp1Lang\": \"weiblich\", \"SexEp1Kurz\": \"W\", \"SexEp2Cd\": 1, \"SexEp2Lang\": \"m\\u00e4nnlich\", \"SexEp2Kurz\": \"M\", \"AnzSchl\": 767, \"StichtagDatJahr_str\": \"1993-01-01\"}, {\"StichtagDatJahr\": \"1993-01-01T00:00:00\", \"HerkunftEp1Lang\": \"Ausl\\u00e4nder/in\", \"HerkunftEp1Sort\": 2, \"HerkunftEp1Cd\": 2, \"HerkunftEp2Lang\": \"Schweizer/in\", \"HerkunftEp2Sort\": 1, \"HerkunftEp2Cd\": 1, \"SexEp1Cd\": 2, \"SexEp1Lang\": \"weiblich\", \"SexEp1Kurz\": \"W\", \"SexEp2Cd\": 1, \"SexEp2Lang\": \"m\\u00e4nnlich\", \"SexEp2Kurz\": \"M\", \"AnzSchl\": 615, \"StichtagDatJahr_str\": \"1993-01-01\"}, {\"StichtagDatJahr\": \"1993-01-01T00:00:00\", \"HerkunftEp1Lang\": \"Schweizer/in\", \"HerkunftEp1Sort\": 1, \"HerkunftEp1Cd\": 1, \"HerkunftEp2Lang\": \"Schweizer/in\", \"HerkunftEp2Sort\": 1, \"HerkunftEp2Cd\": 1, \"SexEp1Cd\": 2, \"SexEp1Lang\": \"weiblich\", \"SexEp1Kurz\": \"W\", \"SexEp2Cd\": 1, \"SexEp2Lang\": \"m\\u00e4nnlich\", \"SexEp2Kurz\": \"M\", \"AnzSchl\": 1143, \"StichtagDatJahr_str\": \"1993-01-01\"}, {\"StichtagDatJahr\": \"1993-01-01T00:00:00\", \"HerkunftEp1Lang\": \"Ausl\\u00e4nder/in\", \"HerkunftEp1Sort\": 2, \"HerkunftEp1Cd\": 2, \"HerkunftEp2Lang\": \"Ausl\\u00e4nder/in\", \"HerkunftEp2Sort\": 2, \"HerkunftEp2Cd\": 2, \"SexEp1Cd\": 2, \"SexEp1Lang\": \"weiblich\", \"SexEp1Kurz\": \"W\", \"SexEp2Cd\": 1, \"SexEp2Lang\": \"m\\u00e4nnlich\", \"SexEp2Kurz\": \"M\", \"AnzSchl\": 1046, \"StichtagDatJahr_str\": \"1993-01-01\"}]}}, {\"mode\": \"vega-lite\"});\n",
       "</script>"
      ],
      "text/plain": [
       "alt.LayerChart(...)"
      ]
     },
     "execution_count": 93,
     "metadata": {},
     "output_type": "execute_result"
    }
   ],
   "source": [
    "# df_statzonen = df_statzonen[(df_statzonen.knr>0) & (df_statzonen.qname!=\"Hirslanden\")]\n",
    "#mySelection[[mySelection.NationFHistLang =='Schweiz']]\n",
    "\n",
    "\n",
    "highlight = alt.selection(type='single', on='mouseover',\n",
    "                          fields=['HerkunftKomb'], nearest=True)\n",
    "#x='date:StichtagDatJahr',\n",
    "base = alt.Chart(data2betested).encode(\n",
    "    x='StichtagDatJahr',\n",
    "    y='AnzSchl',\n",
    "    color='HerkunftEp1Lang'\n",
    ")\n",
    "\n",
    "points = base.mark_circle().encode(\n",
    "    opacity=alt.value(2)\n",
    ").add_selection(\n",
    "    highlight\n",
    ").properties(\n",
    "    width=700 , height=300\n",
    ")\n",
    "lines = base.mark_line().encode(\n",
    "    size=alt.condition(~highlight, alt.value(1.5), alt.value(4))\n",
    ").interactive()\n",
    "\n",
    "points + lines"
   ]
  },
  {
   "cell_type": "code",
   "execution_count": 96,
   "metadata": {},
   "outputs": [
    {
     "data": {
      "text/html": [
       "\n",
       "<div id=\"altair-viz-9f4639ac082340b18a56dd777388417d\"></div>\n",
       "<script type=\"text/javascript\">\n",
       "  (function(spec, embedOpt){\n",
       "    let outputDiv = document.currentScript.previousElementSibling;\n",
       "    if (outputDiv.id !== \"altair-viz-9f4639ac082340b18a56dd777388417d\") {\n",
       "      outputDiv = document.getElementById(\"altair-viz-9f4639ac082340b18a56dd777388417d\");\n",
       "    }\n",
       "    const paths = {\n",
       "      \"vega\": \"https://cdn.jsdelivr.net/npm//vega@5?noext\",\n",
       "      \"vega-lib\": \"https://cdn.jsdelivr.net/npm//vega-lib?noext\",\n",
       "      \"vega-lite\": \"https://cdn.jsdelivr.net/npm//vega-lite@4.8.1?noext\",\n",
       "      \"vega-embed\": \"https://cdn.jsdelivr.net/npm//vega-embed@6?noext\",\n",
       "    };\n",
       "\n",
       "    function loadScript(lib) {\n",
       "      return new Promise(function(resolve, reject) {\n",
       "        var s = document.createElement('script');\n",
       "        s.src = paths[lib];\n",
       "        s.async = true;\n",
       "        s.onload = () => resolve(paths[lib]);\n",
       "        s.onerror = () => reject(`Error loading script: ${paths[lib]}`);\n",
       "        document.getElementsByTagName(\"head\")[0].appendChild(s);\n",
       "      });\n",
       "    }\n",
       "\n",
       "    function showError(err) {\n",
       "      outputDiv.innerHTML = `<div class=\"error\" style=\"color:red;\">${err}</div>`;\n",
       "      throw err;\n",
       "    }\n",
       "\n",
       "    function displayChart(vegaEmbed) {\n",
       "      vegaEmbed(outputDiv, spec, embedOpt)\n",
       "        .catch(err => showError(`Javascript Error: ${err.message}<br>This usually means there's a typo in your chart specification. See the javascript console for the full traceback.`));\n",
       "    }\n",
       "\n",
       "    if(typeof define === \"function\" && define.amd) {\n",
       "      requirejs.config({paths});\n",
       "      require([\"vega-embed\"], displayChart, err => showError(`Error loading script: ${err.message}`));\n",
       "    } else if (typeof vegaEmbed === \"function\") {\n",
       "      displayChart(vegaEmbed);\n",
       "    } else {\n",
       "      loadScript(\"vega\")\n",
       "        .then(() => loadScript(\"vega-lite\"))\n",
       "        .then(() => loadScript(\"vega-embed\"))\n",
       "        .catch(showError)\n",
       "        .then(() => displayChart(vegaEmbed));\n",
       "    }\n",
       "  })({\"config\": {\"view\": {\"continuousWidth\": 400, \"continuousHeight\": 300}}, \"data\": {\"name\": \"data-d9def3d8bd0533d897142099c3f94c89\"}, \"mark\": {\"type\": \"circle\", \"size\": 60}, \"encoding\": {\"color\": {\"type\": \"nominal\", \"field\": \"HerkunftEp1Lang\", \"scale\": {\"scheme\": \"dark2\"}}, \"tooltip\": [{\"type\": \"quantitative\", \"field\": \"AnzSchl\"}, {\"type\": \"temporal\", \"field\": \"StichtagDatJahr\"}, {\"type\": \"nominal\", \"field\": \"HerkunftEp1Lang\"}, {\"type\": \"quantitative\", \"field\": \"HerkunftEp1Sort\"}], \"x\": {\"type\": \"temporal\", \"field\": \"StichtagDatJahr\"}, \"y\": {\"type\": \"quantitative\", \"field\": \"AnzSchl\"}}, \"selection\": {\"selector020\": {\"type\": \"interval\", \"bind\": \"scales\", \"encodings\": [\"x\", \"y\"]}}, \"$schema\": \"https://vega.github.io/schema/vega-lite/v4.8.1.json\", \"datasets\": {\"data-d9def3d8bd0533d897142099c3f94c89\": [{\"StichtagDatJahr\": \"2021-01-01T00:00:00\", \"HerkunftEp1Lang\": \"Schweizer/in\", \"HerkunftEp1Sort\": 1, \"HerkunftEp1Cd\": 1, \"HerkunftEp2Lang\": \"Schweizer/in\", \"HerkunftEp2Sort\": 1, \"HerkunftEp2Cd\": 1, \"SexEp1Cd\": 2, \"SexEp1Lang\": \"weiblich\", \"SexEp1Kurz\": \"W\", \"SexEp2Cd\": 1, \"SexEp2Lang\": \"m\\u00e4nnlich\", \"SexEp2Kurz\": \"M\", \"AnzSchl\": 926, \"StichtagDatJahr_str\": \"2021-01-01\"}, {\"StichtagDatJahr\": \"2021-01-01T00:00:00\", \"HerkunftEp1Lang\": \"Schweizer/in\", \"HerkunftEp1Sort\": 1, \"HerkunftEp1Cd\": 1, \"HerkunftEp2Lang\": \"Ausl\\u00e4nder/in\", \"HerkunftEp2Sort\": 2, \"HerkunftEp2Cd\": 2, \"SexEp1Cd\": 2, \"SexEp1Lang\": \"weiblich\", \"SexEp1Kurz\": \"W\", \"SexEp2Cd\": 1, \"SexEp2Lang\": \"m\\u00e4nnlich\", \"SexEp2Kurz\": \"M\", \"AnzSchl\": 426, \"StichtagDatJahr_str\": \"2021-01-01\"}, {\"StichtagDatJahr\": \"2021-01-01T00:00:00\", \"HerkunftEp1Lang\": \"Ausl\\u00e4nder/in\", \"HerkunftEp1Sort\": 2, \"HerkunftEp1Cd\": 2, \"HerkunftEp2Lang\": \"Schweizer/in\", \"HerkunftEp2Sort\": 1, \"HerkunftEp2Cd\": 1, \"SexEp1Cd\": 2, \"SexEp1Lang\": \"weiblich\", \"SexEp1Kurz\": \"W\", \"SexEp2Cd\": 1, \"SexEp2Lang\": \"m\\u00e4nnlich\", \"SexEp2Kurz\": \"M\", \"AnzSchl\": 543, \"StichtagDatJahr_str\": \"2021-01-01\"}, {\"StichtagDatJahr\": \"2021-01-01T00:00:00\", \"HerkunftEp1Lang\": \"Ausl\\u00e4nder/in\", \"HerkunftEp1Sort\": 2, \"HerkunftEp1Cd\": 2, \"HerkunftEp2Lang\": \"Ausl\\u00e4nder/in\", \"HerkunftEp2Sort\": 2, \"HerkunftEp2Cd\": 2, \"SexEp1Cd\": 2, \"SexEp1Lang\": \"weiblich\", \"SexEp1Kurz\": \"W\", \"SexEp2Cd\": 1, \"SexEp2Lang\": \"m\\u00e4nnlich\", \"SexEp2Kurz\": \"M\", \"AnzSchl\": 941, \"StichtagDatJahr_str\": \"2021-01-01\"}, {\"StichtagDatJahr\": \"2020-01-01T00:00:00\", \"HerkunftEp1Lang\": \"Schweizer/in\", \"HerkunftEp1Sort\": 1, \"HerkunftEp1Cd\": 1, \"HerkunftEp2Lang\": \"Schweizer/in\", \"HerkunftEp2Sort\": 1, \"HerkunftEp2Cd\": 1, \"SexEp1Cd\": 2, \"SexEp1Lang\": \"weiblich\", \"SexEp1Kurz\": \"W\", \"SexEp2Cd\": 1, \"SexEp2Lang\": \"m\\u00e4nnlich\", \"SexEp2Kurz\": \"M\", \"AnzSchl\": 923, \"StichtagDatJahr_str\": \"2020-01-01\"}, {\"StichtagDatJahr\": \"2020-01-01T00:00:00\", \"HerkunftEp1Lang\": \"Schweizer/in\", \"HerkunftEp1Sort\": 1, \"HerkunftEp1Cd\": 1, \"HerkunftEp2Lang\": \"Ausl\\u00e4nder/in\", \"HerkunftEp2Sort\": 2, \"HerkunftEp2Cd\": 2, \"SexEp1Cd\": 2, \"SexEp1Lang\": \"weiblich\", \"SexEp1Kurz\": \"W\", \"SexEp2Cd\": 1, \"SexEp2Lang\": \"m\\u00e4nnlich\", \"SexEp2Kurz\": \"M\", \"AnzSchl\": 427, \"StichtagDatJahr_str\": \"2020-01-01\"}, {\"StichtagDatJahr\": \"2020-01-01T00:00:00\", \"HerkunftEp1Lang\": \"Ausl\\u00e4nder/in\", \"HerkunftEp1Sort\": 2, \"HerkunftEp1Cd\": 2, \"HerkunftEp2Lang\": \"Schweizer/in\", \"HerkunftEp2Sort\": 1, \"HerkunftEp2Cd\": 1, \"SexEp1Cd\": 2, \"SexEp1Lang\": \"weiblich\", \"SexEp1Kurz\": \"W\", \"SexEp2Cd\": 1, \"SexEp2Lang\": \"m\\u00e4nnlich\", \"SexEp2Kurz\": \"M\", \"AnzSchl\": 505, \"StichtagDatJahr_str\": \"2020-01-01\"}, {\"StichtagDatJahr\": \"2020-01-01T00:00:00\", \"HerkunftEp1Lang\": \"Ausl\\u00e4nder/in\", \"HerkunftEp1Sort\": 2, \"HerkunftEp1Cd\": 2, \"HerkunftEp2Lang\": \"Ausl\\u00e4nder/in\", \"HerkunftEp2Sort\": 2, \"HerkunftEp2Cd\": 2, \"SexEp1Cd\": 2, \"SexEp1Lang\": \"weiblich\", \"SexEp1Kurz\": \"W\", \"SexEp2Cd\": 1, \"SexEp2Lang\": \"m\\u00e4nnlich\", \"SexEp2Kurz\": \"M\", \"AnzSchl\": 896, \"StichtagDatJahr_str\": \"2020-01-01\"}, {\"StichtagDatJahr\": \"2019-01-01T00:00:00\", \"HerkunftEp1Lang\": \"Schweizer/in\", \"HerkunftEp1Sort\": 1, \"HerkunftEp1Cd\": 1, \"HerkunftEp2Lang\": \"Schweizer/in\", \"HerkunftEp2Sort\": 1, \"HerkunftEp2Cd\": 1, \"SexEp1Cd\": 2, \"SexEp1Lang\": \"weiblich\", \"SexEp1Kurz\": \"W\", \"SexEp2Cd\": 1, \"SexEp2Lang\": \"m\\u00e4nnlich\", \"SexEp2Kurz\": \"M\", \"AnzSchl\": 972, \"StichtagDatJahr_str\": \"2019-01-01\"}, {\"StichtagDatJahr\": \"2019-01-01T00:00:00\", \"HerkunftEp1Lang\": \"Schweizer/in\", \"HerkunftEp1Sort\": 1, \"HerkunftEp1Cd\": 1, \"HerkunftEp2Lang\": \"Ausl\\u00e4nder/in\", \"HerkunftEp2Sort\": 2, \"HerkunftEp2Cd\": 2, \"SexEp1Cd\": 2, \"SexEp1Lang\": \"weiblich\", \"SexEp1Kurz\": \"W\", \"SexEp2Cd\": 1, \"SexEp2Lang\": \"m\\u00e4nnlich\", \"SexEp2Kurz\": \"M\", \"AnzSchl\": 487, \"StichtagDatJahr_str\": \"2019-01-01\"}, {\"StichtagDatJahr\": \"2019-01-01T00:00:00\", \"HerkunftEp1Lang\": \"Ausl\\u00e4nder/in\", \"HerkunftEp1Sort\": 2, \"HerkunftEp1Cd\": 2, \"HerkunftEp2Lang\": \"Schweizer/in\", \"HerkunftEp2Sort\": 1, \"HerkunftEp2Cd\": 1, \"SexEp1Cd\": 2, \"SexEp1Lang\": \"weiblich\", \"SexEp1Kurz\": \"W\", \"SexEp2Cd\": 1, \"SexEp2Lang\": \"m\\u00e4nnlich\", \"SexEp2Kurz\": \"M\", \"AnzSchl\": 630, \"StichtagDatJahr_str\": \"2019-01-01\"}, {\"StichtagDatJahr\": \"2019-01-01T00:00:00\", \"HerkunftEp1Lang\": \"Ausl\\u00e4nder/in\", \"HerkunftEp1Sort\": 2, \"HerkunftEp1Cd\": 2, \"HerkunftEp2Lang\": \"Ausl\\u00e4nder/in\", \"HerkunftEp2Sort\": 2, \"HerkunftEp2Cd\": 2, \"SexEp1Cd\": 2, \"SexEp1Lang\": \"weiblich\", \"SexEp1Kurz\": \"W\", \"SexEp2Cd\": 1, \"SexEp2Lang\": \"m\\u00e4nnlich\", \"SexEp2Kurz\": \"M\", \"AnzSchl\": 1200, \"StichtagDatJahr_str\": \"2019-01-01\"}, {\"StichtagDatJahr\": \"2018-01-01T00:00:00\", \"HerkunftEp1Lang\": \"Ausl\\u00e4nder/in\", \"HerkunftEp1Sort\": 2, \"HerkunftEp1Cd\": 2, \"HerkunftEp2Lang\": \"Schweizer/in\", \"HerkunftEp2Sort\": 1, \"HerkunftEp2Cd\": 1, \"SexEp1Cd\": 2, \"SexEp1Lang\": \"weiblich\", \"SexEp1Kurz\": \"W\", \"SexEp2Cd\": 1, \"SexEp2Lang\": \"m\\u00e4nnlich\", \"SexEp2Kurz\": \"M\", \"AnzSchl\": 624, \"StichtagDatJahr_str\": \"2018-01-01\"}, {\"StichtagDatJahr\": \"2018-01-01T00:00:00\", \"HerkunftEp1Lang\": \"Ausl\\u00e4nder/in\", \"HerkunftEp1Sort\": 2, \"HerkunftEp1Cd\": 2, \"HerkunftEp2Lang\": \"Ausl\\u00e4nder/in\", \"HerkunftEp2Sort\": 2, \"HerkunftEp2Cd\": 2, \"SexEp1Cd\": 2, \"SexEp1Lang\": \"weiblich\", \"SexEp1Kurz\": \"W\", \"SexEp2Cd\": 1, \"SexEp2Lang\": \"m\\u00e4nnlich\", \"SexEp2Kurz\": \"M\", \"AnzSchl\": 1260, \"StichtagDatJahr_str\": \"2018-01-01\"}, {\"StichtagDatJahr\": \"2018-01-01T00:00:00\", \"HerkunftEp1Lang\": \"Schweizer/in\", \"HerkunftEp1Sort\": 1, \"HerkunftEp1Cd\": 1, \"HerkunftEp2Lang\": \"Schweizer/in\", \"HerkunftEp2Sort\": 1, \"HerkunftEp2Cd\": 1, \"SexEp1Cd\": 2, \"SexEp1Lang\": \"weiblich\", \"SexEp1Kurz\": \"W\", \"SexEp2Cd\": 1, \"SexEp2Lang\": \"m\\u00e4nnlich\", \"SexEp2Kurz\": \"M\", \"AnzSchl\": 982, \"StichtagDatJahr_str\": \"2018-01-01\"}, {\"StichtagDatJahr\": \"2018-01-01T00:00:00\", \"HerkunftEp1Lang\": \"Schweizer/in\", \"HerkunftEp1Sort\": 1, \"HerkunftEp1Cd\": 1, \"HerkunftEp2Lang\": \"Ausl\\u00e4nder/in\", \"HerkunftEp2Sort\": 2, \"HerkunftEp2Cd\": 2, \"SexEp1Cd\": 2, \"SexEp1Lang\": \"weiblich\", \"SexEp1Kurz\": \"W\", \"SexEp2Cd\": 1, \"SexEp2Lang\": \"m\\u00e4nnlich\", \"SexEp2Kurz\": \"M\", \"AnzSchl\": 533, \"StichtagDatJahr_str\": \"2018-01-01\"}, {\"StichtagDatJahr\": \"2017-01-01T00:00:00\", \"HerkunftEp1Lang\": \"Schweizer/in\", \"HerkunftEp1Sort\": 1, \"HerkunftEp1Cd\": 1, \"HerkunftEp2Lang\": \"Schweizer/in\", \"HerkunftEp2Sort\": 1, \"HerkunftEp2Cd\": 1, \"SexEp1Cd\": 2, \"SexEp1Lang\": \"weiblich\", \"SexEp1Kurz\": \"W\", \"SexEp2Cd\": 1, \"SexEp2Lang\": \"m\\u00e4nnlich\", \"SexEp2Kurz\": \"M\", \"AnzSchl\": 953, \"StichtagDatJahr_str\": \"2017-01-01\"}, {\"StichtagDatJahr\": \"2017-01-01T00:00:00\", \"HerkunftEp1Lang\": \"Schweizer/in\", \"HerkunftEp1Sort\": 1, \"HerkunftEp1Cd\": 1, \"HerkunftEp2Lang\": \"Ausl\\u00e4nder/in\", \"HerkunftEp2Sort\": 2, \"HerkunftEp2Cd\": 2, \"SexEp1Cd\": 2, \"SexEp1Lang\": \"weiblich\", \"SexEp1Kurz\": \"W\", \"SexEp2Cd\": 1, \"SexEp2Lang\": \"m\\u00e4nnlich\", \"SexEp2Kurz\": \"M\", \"AnzSchl\": 517, \"StichtagDatJahr_str\": \"2017-01-01\"}, {\"StichtagDatJahr\": \"2017-01-01T00:00:00\", \"HerkunftEp1Lang\": \"Ausl\\u00e4nder/in\", \"HerkunftEp1Sort\": 2, \"HerkunftEp1Cd\": 2, \"HerkunftEp2Lang\": \"Schweizer/in\", \"HerkunftEp2Sort\": 1, \"HerkunftEp2Cd\": 1, \"SexEp1Cd\": 2, \"SexEp1Lang\": \"weiblich\", \"SexEp1Kurz\": \"W\", \"SexEp2Cd\": 1, \"SexEp2Lang\": \"m\\u00e4nnlich\", \"SexEp2Kurz\": \"M\", \"AnzSchl\": 681, \"StichtagDatJahr_str\": \"2017-01-01\"}, {\"StichtagDatJahr\": \"2017-01-01T00:00:00\", \"HerkunftEp1Lang\": \"Ausl\\u00e4nder/in\", \"HerkunftEp1Sort\": 2, \"HerkunftEp1Cd\": 2, \"HerkunftEp2Lang\": \"Ausl\\u00e4nder/in\", \"HerkunftEp2Sort\": 2, \"HerkunftEp2Cd\": 2, \"SexEp1Cd\": 2, \"SexEp1Lang\": \"weiblich\", \"SexEp1Kurz\": \"W\", \"SexEp2Cd\": 1, \"SexEp2Lang\": \"m\\u00e4nnlich\", \"SexEp2Kurz\": \"M\", \"AnzSchl\": 1253, \"StichtagDatJahr_str\": \"2017-01-01\"}, {\"StichtagDatJahr\": \"2016-01-01T00:00:00\", \"HerkunftEp1Lang\": \"Schweizer/in\", \"HerkunftEp1Sort\": 1, \"HerkunftEp1Cd\": 1, \"HerkunftEp2Lang\": \"Schweizer/in\", \"HerkunftEp2Sort\": 1, \"HerkunftEp2Cd\": 1, \"SexEp1Cd\": 2, \"SexEp1Lang\": \"weiblich\", \"SexEp1Kurz\": \"W\", \"SexEp2Cd\": 1, \"SexEp2Lang\": \"m\\u00e4nnlich\", \"SexEp2Kurz\": \"M\", \"AnzSchl\": 1050, \"StichtagDatJahr_str\": \"2016-01-01\"}, {\"StichtagDatJahr\": \"2016-01-01T00:00:00\", \"HerkunftEp1Lang\": \"Schweizer/in\", \"HerkunftEp1Sort\": 1, \"HerkunftEp1Cd\": 1, \"HerkunftEp2Lang\": \"Ausl\\u00e4nder/in\", \"HerkunftEp2Sort\": 2, \"HerkunftEp2Cd\": 2, \"SexEp1Cd\": 2, \"SexEp1Lang\": \"weiblich\", \"SexEp1Kurz\": \"W\", \"SexEp2Cd\": 1, \"SexEp2Lang\": \"m\\u00e4nnlich\", \"SexEp2Kurz\": \"M\", \"AnzSchl\": 541, \"StichtagDatJahr_str\": \"2016-01-01\"}, {\"StichtagDatJahr\": \"2016-01-01T00:00:00\", \"HerkunftEp1Lang\": \"Ausl\\u00e4nder/in\", \"HerkunftEp1Sort\": 2, \"HerkunftEp1Cd\": 2, \"HerkunftEp2Lang\": \"Schweizer/in\", \"HerkunftEp2Sort\": 1, \"HerkunftEp2Cd\": 1, \"SexEp1Cd\": 2, \"SexEp1Lang\": \"weiblich\", \"SexEp1Kurz\": \"W\", \"SexEp2Cd\": 1, \"SexEp2Lang\": \"m\\u00e4nnlich\", \"SexEp2Kurz\": \"M\", \"AnzSchl\": 645, \"StichtagDatJahr_str\": \"2016-01-01\"}, {\"StichtagDatJahr\": \"2016-01-01T00:00:00\", \"HerkunftEp1Lang\": \"Ausl\\u00e4nder/in\", \"HerkunftEp1Sort\": 2, \"HerkunftEp1Cd\": 2, \"HerkunftEp2Lang\": \"Ausl\\u00e4nder/in\", \"HerkunftEp2Sort\": 2, \"HerkunftEp2Cd\": 2, \"SexEp1Cd\": 2, \"SexEp1Lang\": \"weiblich\", \"SexEp1Kurz\": \"W\", \"SexEp2Cd\": 1, \"SexEp2Lang\": \"m\\u00e4nnlich\", \"SexEp2Kurz\": \"M\", \"AnzSchl\": 1170, \"StichtagDatJahr_str\": \"2016-01-01\"}, {\"StichtagDatJahr\": \"2015-01-01T00:00:00\", \"HerkunftEp1Lang\": \"Schweizer/in\", \"HerkunftEp1Sort\": 1, \"HerkunftEp1Cd\": 1, \"HerkunftEp2Lang\": \"Ausl\\u00e4nder/in\", \"HerkunftEp2Sort\": 2, \"HerkunftEp2Cd\": 2, \"SexEp1Cd\": 2, \"SexEp1Lang\": \"weiblich\", \"SexEp1Kurz\": \"W\", \"SexEp2Cd\": 1, \"SexEp2Lang\": \"m\\u00e4nnlich\", \"SexEp2Kurz\": \"M\", \"AnzSchl\": 551, \"StichtagDatJahr_str\": \"2015-01-01\"}, {\"StichtagDatJahr\": \"2015-01-01T00:00:00\", \"HerkunftEp1Lang\": \"Ausl\\u00e4nder/in\", \"HerkunftEp1Sort\": 2, \"HerkunftEp1Cd\": 2, \"HerkunftEp2Lang\": \"Schweizer/in\", \"HerkunftEp2Sort\": 1, \"HerkunftEp2Cd\": 1, \"SexEp1Cd\": 2, \"SexEp1Lang\": \"weiblich\", \"SexEp1Kurz\": \"W\", \"SexEp2Cd\": 1, \"SexEp2Lang\": \"m\\u00e4nnlich\", \"SexEp2Kurz\": \"M\", \"AnzSchl\": 639, \"StichtagDatJahr_str\": \"2015-01-01\"}, {\"StichtagDatJahr\": \"2015-01-01T00:00:00\", \"HerkunftEp1Lang\": \"Ausl\\u00e4nder/in\", \"HerkunftEp1Sort\": 2, \"HerkunftEp1Cd\": 2, \"HerkunftEp2Lang\": \"Ausl\\u00e4nder/in\", \"HerkunftEp2Sort\": 2, \"HerkunftEp2Cd\": 2, \"SexEp1Cd\": 2, \"SexEp1Lang\": \"weiblich\", \"SexEp1Kurz\": \"W\", \"SexEp2Cd\": 1, \"SexEp2Lang\": \"m\\u00e4nnlich\", \"SexEp2Kurz\": \"M\", \"AnzSchl\": 1279, \"StichtagDatJahr_str\": \"2015-01-01\"}, {\"StichtagDatJahr\": \"2015-01-01T00:00:00\", \"HerkunftEp1Lang\": \"Schweizer/in\", \"HerkunftEp1Sort\": 1, \"HerkunftEp1Cd\": 1, \"HerkunftEp2Lang\": \"Schweizer/in\", \"HerkunftEp2Sort\": 1, \"HerkunftEp2Cd\": 1, \"SexEp1Cd\": 2, \"SexEp1Lang\": \"weiblich\", \"SexEp1Kurz\": \"W\", \"SexEp2Cd\": 1, \"SexEp2Lang\": \"m\\u00e4nnlich\", \"SexEp2Kurz\": \"M\", \"AnzSchl\": 1060, \"StichtagDatJahr_str\": \"2015-01-01\"}, {\"StichtagDatJahr\": \"2014-01-01T00:00:00\", \"HerkunftEp1Lang\": \"Schweizer/in\", \"HerkunftEp1Sort\": 1, \"HerkunftEp1Cd\": 1, \"HerkunftEp2Lang\": \"Schweizer/in\", \"HerkunftEp2Sort\": 1, \"HerkunftEp2Cd\": 1, \"SexEp1Cd\": 2, \"SexEp1Lang\": \"weiblich\", \"SexEp1Kurz\": \"W\", \"SexEp2Cd\": 1, \"SexEp2Lang\": \"m\\u00e4nnlich\", \"SexEp2Kurz\": \"M\", \"AnzSchl\": 1084, \"StichtagDatJahr_str\": \"2014-01-01\"}, {\"StichtagDatJahr\": \"2014-01-01T00:00:00\", \"HerkunftEp1Lang\": \"Schweizer/in\", \"HerkunftEp1Sort\": 1, \"HerkunftEp1Cd\": 1, \"HerkunftEp2Lang\": \"Ausl\\u00e4nder/in\", \"HerkunftEp2Sort\": 2, \"HerkunftEp2Cd\": 2, \"SexEp1Cd\": 2, \"SexEp1Lang\": \"weiblich\", \"SexEp1Kurz\": \"W\", \"SexEp2Cd\": 1, \"SexEp2Lang\": \"m\\u00e4nnlich\", \"SexEp2Kurz\": \"M\", \"AnzSchl\": 501, \"StichtagDatJahr_str\": \"2014-01-01\"}, {\"StichtagDatJahr\": \"2014-01-01T00:00:00\", \"HerkunftEp1Lang\": \"Ausl\\u00e4nder/in\", \"HerkunftEp1Sort\": 2, \"HerkunftEp1Cd\": 2, \"HerkunftEp2Lang\": \"Schweizer/in\", \"HerkunftEp2Sort\": 1, \"HerkunftEp2Cd\": 1, \"SexEp1Cd\": 2, \"SexEp1Lang\": \"weiblich\", \"SexEp1Kurz\": \"W\", \"SexEp2Cd\": 1, \"SexEp2Lang\": \"m\\u00e4nnlich\", \"SexEp2Kurz\": \"M\", \"AnzSchl\": 702, \"StichtagDatJahr_str\": \"2014-01-01\"}, {\"StichtagDatJahr\": \"2014-01-01T00:00:00\", \"HerkunftEp1Lang\": \"Ausl\\u00e4nder/in\", \"HerkunftEp1Sort\": 2, \"HerkunftEp1Cd\": 2, \"HerkunftEp2Lang\": \"Ausl\\u00e4nder/in\", \"HerkunftEp2Sort\": 2, \"HerkunftEp2Cd\": 2, \"SexEp1Cd\": 2, \"SexEp1Lang\": \"weiblich\", \"SexEp1Kurz\": \"W\", \"SexEp2Cd\": 1, \"SexEp2Lang\": \"m\\u00e4nnlich\", \"SexEp2Kurz\": \"M\", \"AnzSchl\": 1310, \"StichtagDatJahr_str\": \"2014-01-01\"}, {\"StichtagDatJahr\": \"2013-01-01T00:00:00\", \"HerkunftEp1Lang\": \"Schweizer/in\", \"HerkunftEp1Sort\": 1, \"HerkunftEp1Cd\": 1, \"HerkunftEp2Lang\": \"Schweizer/in\", \"HerkunftEp2Sort\": 1, \"HerkunftEp2Cd\": 1, \"SexEp1Cd\": 2, \"SexEp1Lang\": \"weiblich\", \"SexEp1Kurz\": \"W\", \"SexEp2Cd\": 1, \"SexEp2Lang\": \"m\\u00e4nnlich\", \"SexEp2Kurz\": \"M\", \"AnzSchl\": 1034, \"StichtagDatJahr_str\": \"2013-01-01\"}, {\"StichtagDatJahr\": \"2013-01-01T00:00:00\", \"HerkunftEp1Lang\": \"Schweizer/in\", \"HerkunftEp1Sort\": 1, \"HerkunftEp1Cd\": 1, \"HerkunftEp2Lang\": \"Ausl\\u00e4nder/in\", \"HerkunftEp2Sort\": 2, \"HerkunftEp2Cd\": 2, \"SexEp1Cd\": 2, \"SexEp1Lang\": \"weiblich\", \"SexEp1Kurz\": \"W\", \"SexEp2Cd\": 1, \"SexEp2Lang\": \"m\\u00e4nnlich\", \"SexEp2Kurz\": \"M\", \"AnzSchl\": 542, \"StichtagDatJahr_str\": \"2013-01-01\"}, {\"StichtagDatJahr\": \"2013-01-01T00:00:00\", \"HerkunftEp1Lang\": \"Ausl\\u00e4nder/in\", \"HerkunftEp1Sort\": 2, \"HerkunftEp1Cd\": 2, \"HerkunftEp2Lang\": \"Schweizer/in\", \"HerkunftEp2Sort\": 1, \"HerkunftEp2Cd\": 1, \"SexEp1Cd\": 2, \"SexEp1Lang\": \"weiblich\", \"SexEp1Kurz\": \"W\", \"SexEp2Cd\": 1, \"SexEp2Lang\": \"m\\u00e4nnlich\", \"SexEp2Kurz\": \"M\", \"AnzSchl\": 636, \"StichtagDatJahr_str\": \"2013-01-01\"}, {\"StichtagDatJahr\": \"2013-01-01T00:00:00\", \"HerkunftEp1Lang\": \"Ausl\\u00e4nder/in\", \"HerkunftEp1Sort\": 2, \"HerkunftEp1Cd\": 2, \"HerkunftEp2Lang\": \"Ausl\\u00e4nder/in\", \"HerkunftEp2Sort\": 2, \"HerkunftEp2Cd\": 2, \"SexEp1Cd\": 2, \"SexEp1Lang\": \"weiblich\", \"SexEp1Kurz\": \"W\", \"SexEp2Cd\": 1, \"SexEp2Lang\": \"m\\u00e4nnlich\", \"SexEp2Kurz\": \"M\", \"AnzSchl\": 1363, \"StichtagDatJahr_str\": \"2013-01-01\"}, {\"StichtagDatJahr\": \"2012-01-01T00:00:00\", \"HerkunftEp1Lang\": \"Schweizer/in\", \"HerkunftEp1Sort\": 1, \"HerkunftEp1Cd\": 1, \"HerkunftEp2Lang\": \"Schweizer/in\", \"HerkunftEp2Sort\": 1, \"HerkunftEp2Cd\": 1, \"SexEp1Cd\": 2, \"SexEp1Lang\": \"weiblich\", \"SexEp1Kurz\": \"W\", \"SexEp2Cd\": 1, \"SexEp2Lang\": \"m\\u00e4nnlich\", \"SexEp2Kurz\": \"M\", \"AnzSchl\": 1000, \"StichtagDatJahr_str\": \"2012-01-01\"}, {\"StichtagDatJahr\": \"2012-01-01T00:00:00\", \"HerkunftEp1Lang\": \"Schweizer/in\", \"HerkunftEp1Sort\": 1, \"HerkunftEp1Cd\": 1, \"HerkunftEp2Lang\": \"Ausl\\u00e4nder/in\", \"HerkunftEp2Sort\": 2, \"HerkunftEp2Cd\": 2, \"SexEp1Cd\": 2, \"SexEp1Lang\": \"weiblich\", \"SexEp1Kurz\": \"W\", \"SexEp2Cd\": 1, \"SexEp2Lang\": \"m\\u00e4nnlich\", \"SexEp2Kurz\": \"M\", \"AnzSchl\": 559, \"StichtagDatJahr_str\": \"2012-01-01\"}, {\"StichtagDatJahr\": \"2012-01-01T00:00:00\", \"HerkunftEp1Lang\": \"Ausl\\u00e4nder/in\", \"HerkunftEp1Sort\": 2, \"HerkunftEp1Cd\": 2, \"HerkunftEp2Lang\": \"Schweizer/in\", \"HerkunftEp2Sort\": 1, \"HerkunftEp2Cd\": 1, \"SexEp1Cd\": 2, \"SexEp1Lang\": \"weiblich\", \"SexEp1Kurz\": \"W\", \"SexEp2Cd\": 1, \"SexEp2Lang\": \"m\\u00e4nnlich\", \"SexEp2Kurz\": \"M\", \"AnzSchl\": 627, \"StichtagDatJahr_str\": \"2012-01-01\"}, {\"StichtagDatJahr\": \"2012-01-01T00:00:00\", \"HerkunftEp1Lang\": \"Ausl\\u00e4nder/in\", \"HerkunftEp1Sort\": 2, \"HerkunftEp1Cd\": 2, \"HerkunftEp2Lang\": \"Ausl\\u00e4nder/in\", \"HerkunftEp2Sort\": 2, \"HerkunftEp2Cd\": 2, \"SexEp1Cd\": 2, \"SexEp1Lang\": \"weiblich\", \"SexEp1Kurz\": \"W\", \"SexEp2Cd\": 1, \"SexEp2Lang\": \"m\\u00e4nnlich\", \"SexEp2Kurz\": \"M\", \"AnzSchl\": 1142, \"StichtagDatJahr_str\": \"2012-01-01\"}, {\"StichtagDatJahr\": \"2011-01-01T00:00:00\", \"HerkunftEp1Lang\": \"Ausl\\u00e4nder/in\", \"HerkunftEp1Sort\": 2, \"HerkunftEp1Cd\": 2, \"HerkunftEp2Lang\": \"Schweizer/in\", \"HerkunftEp2Sort\": 1, \"HerkunftEp2Cd\": 1, \"SexEp1Cd\": 2, \"SexEp1Lang\": \"weiblich\", \"SexEp1Kurz\": \"W\", \"SexEp2Cd\": 1, \"SexEp2Lang\": \"m\\u00e4nnlich\", \"SexEp2Kurz\": \"M\", \"AnzSchl\": 652, \"StichtagDatJahr_str\": \"2011-01-01\"}, {\"StichtagDatJahr\": \"2011-01-01T00:00:00\", \"HerkunftEp1Lang\": \"Ausl\\u00e4nder/in\", \"HerkunftEp1Sort\": 2, \"HerkunftEp1Cd\": 2, \"HerkunftEp2Lang\": \"Ausl\\u00e4nder/in\", \"HerkunftEp2Sort\": 2, \"HerkunftEp2Cd\": 2, \"SexEp1Cd\": 2, \"SexEp1Lang\": \"weiblich\", \"SexEp1Kurz\": \"W\", \"SexEp2Cd\": 1, \"SexEp2Lang\": \"m\\u00e4nnlich\", \"SexEp2Kurz\": \"M\", \"AnzSchl\": 1144, \"StichtagDatJahr_str\": \"2011-01-01\"}, {\"StichtagDatJahr\": \"2011-01-01T00:00:00\", \"HerkunftEp1Lang\": \"Schweizer/in\", \"HerkunftEp1Sort\": 1, \"HerkunftEp1Cd\": 1, \"HerkunftEp2Lang\": \"Ausl\\u00e4nder/in\", \"HerkunftEp2Sort\": 2, \"HerkunftEp2Cd\": 2, \"SexEp1Cd\": 2, \"SexEp1Lang\": \"weiblich\", \"SexEp1Kurz\": \"W\", \"SexEp2Cd\": 1, \"SexEp2Lang\": \"m\\u00e4nnlich\", \"SexEp2Kurz\": \"M\", \"AnzSchl\": 588, \"StichtagDatJahr_str\": \"2011-01-01\"}, {\"StichtagDatJahr\": \"2011-01-01T00:00:00\", \"HerkunftEp1Lang\": \"Schweizer/in\", \"HerkunftEp1Sort\": 1, \"HerkunftEp1Cd\": 1, \"HerkunftEp2Lang\": \"Schweizer/in\", \"HerkunftEp2Sort\": 1, \"HerkunftEp2Cd\": 1, \"SexEp1Cd\": 2, \"SexEp1Lang\": \"weiblich\", \"SexEp1Kurz\": \"W\", \"SexEp2Cd\": 1, \"SexEp2Lang\": \"m\\u00e4nnlich\", \"SexEp2Kurz\": \"M\", \"AnzSchl\": 1021, \"StichtagDatJahr_str\": \"2011-01-01\"}, {\"StichtagDatJahr\": \"2010-01-01T00:00:00\", \"HerkunftEp1Lang\": \"Schweizer/in\", \"HerkunftEp1Sort\": 1, \"HerkunftEp1Cd\": 1, \"HerkunftEp2Lang\": \"Schweizer/in\", \"HerkunftEp2Sort\": 1, \"HerkunftEp2Cd\": 1, \"SexEp1Cd\": 2, \"SexEp1Lang\": \"weiblich\", \"SexEp1Kurz\": \"W\", \"SexEp2Cd\": 1, \"SexEp2Lang\": \"m\\u00e4nnlich\", \"SexEp2Kurz\": \"M\", \"AnzSchl\": 1045, \"StichtagDatJahr_str\": \"2010-01-01\"}, {\"StichtagDatJahr\": \"2010-01-01T00:00:00\", \"HerkunftEp1Lang\": \"Schweizer/in\", \"HerkunftEp1Sort\": 1, \"HerkunftEp1Cd\": 1, \"HerkunftEp2Lang\": \"Ausl\\u00e4nder/in\", \"HerkunftEp2Sort\": 2, \"HerkunftEp2Cd\": 2, \"SexEp1Cd\": 2, \"SexEp1Lang\": \"weiblich\", \"SexEp1Kurz\": \"W\", \"SexEp2Cd\": 1, \"SexEp2Lang\": \"m\\u00e4nnlich\", \"SexEp2Kurz\": \"M\", \"AnzSchl\": 630, \"StichtagDatJahr_str\": \"2010-01-01\"}, {\"StichtagDatJahr\": \"2010-01-01T00:00:00\", \"HerkunftEp1Lang\": \"Ausl\\u00e4nder/in\", \"HerkunftEp1Sort\": 2, \"HerkunftEp1Cd\": 2, \"HerkunftEp2Lang\": \"Schweizer/in\", \"HerkunftEp2Sort\": 1, \"HerkunftEp2Cd\": 1, \"SexEp1Cd\": 2, \"SexEp1Lang\": \"weiblich\", \"SexEp1Kurz\": \"W\", \"SexEp2Cd\": 1, \"SexEp2Lang\": \"m\\u00e4nnlich\", \"SexEp2Kurz\": \"M\", \"AnzSchl\": 694, \"StichtagDatJahr_str\": \"2010-01-01\"}, {\"StichtagDatJahr\": \"2010-01-01T00:00:00\", \"HerkunftEp1Lang\": \"Ausl\\u00e4nder/in\", \"HerkunftEp1Sort\": 2, \"HerkunftEp1Cd\": 2, \"HerkunftEp2Lang\": \"Ausl\\u00e4nder/in\", \"HerkunftEp2Sort\": 2, \"HerkunftEp2Cd\": 2, \"SexEp1Cd\": 2, \"SexEp1Lang\": \"weiblich\", \"SexEp1Kurz\": \"W\", \"SexEp2Cd\": 1, \"SexEp2Lang\": \"m\\u00e4nnlich\", \"SexEp2Kurz\": \"M\", \"AnzSchl\": 1174, \"StichtagDatJahr_str\": \"2010-01-01\"}, {\"StichtagDatJahr\": \"2009-01-01T00:00:00\", \"HerkunftEp1Lang\": \"Schweizer/in\", \"HerkunftEp1Sort\": 1, \"HerkunftEp1Cd\": 1, \"HerkunftEp2Lang\": \"Schweizer/in\", \"HerkunftEp2Sort\": 1, \"HerkunftEp2Cd\": 1, \"SexEp1Cd\": 2, \"SexEp1Lang\": \"weiblich\", \"SexEp1Kurz\": \"W\", \"SexEp2Cd\": 1, \"SexEp2Lang\": \"m\\u00e4nnlich\", \"SexEp2Kurz\": \"M\", \"AnzSchl\": 1069, \"StichtagDatJahr_str\": \"2009-01-01\"}, {\"StichtagDatJahr\": \"2009-01-01T00:00:00\", \"HerkunftEp1Lang\": \"Schweizer/in\", \"HerkunftEp1Sort\": 1, \"HerkunftEp1Cd\": 1, \"HerkunftEp2Lang\": \"Ausl\\u00e4nder/in\", \"HerkunftEp2Sort\": 2, \"HerkunftEp2Cd\": 2, \"SexEp1Cd\": 2, \"SexEp1Lang\": \"weiblich\", \"SexEp1Kurz\": \"W\", \"SexEp2Cd\": 1, \"SexEp2Lang\": \"m\\u00e4nnlich\", \"SexEp2Kurz\": \"M\", \"AnzSchl\": 628, \"StichtagDatJahr_str\": \"2009-01-01\"}, {\"StichtagDatJahr\": \"2009-01-01T00:00:00\", \"HerkunftEp1Lang\": \"Ausl\\u00e4nder/in\", \"HerkunftEp1Sort\": 2, \"HerkunftEp1Cd\": 2, \"HerkunftEp2Lang\": \"Schweizer/in\", \"HerkunftEp2Sort\": 1, \"HerkunftEp2Cd\": 1, \"SexEp1Cd\": 2, \"SexEp1Lang\": \"weiblich\", \"SexEp1Kurz\": \"W\", \"SexEp2Cd\": 1, \"SexEp2Lang\": \"m\\u00e4nnlich\", \"SexEp2Kurz\": \"M\", \"AnzSchl\": 620, \"StichtagDatJahr_str\": \"2009-01-01\"}, {\"StichtagDatJahr\": \"2009-01-01T00:00:00\", \"HerkunftEp1Lang\": \"Ausl\\u00e4nder/in\", \"HerkunftEp1Sort\": 2, \"HerkunftEp1Cd\": 2, \"HerkunftEp2Lang\": \"Ausl\\u00e4nder/in\", \"HerkunftEp2Sort\": 2, \"HerkunftEp2Cd\": 2, \"SexEp1Cd\": 2, \"SexEp1Lang\": \"weiblich\", \"SexEp1Kurz\": \"W\", \"SexEp2Cd\": 1, \"SexEp2Lang\": \"m\\u00e4nnlich\", \"SexEp2Kurz\": \"M\", \"AnzSchl\": 1068, \"StichtagDatJahr_str\": \"2009-01-01\"}, {\"StichtagDatJahr\": \"2008-01-01T00:00:00\", \"HerkunftEp1Lang\": \"Schweizer/in\", \"HerkunftEp1Sort\": 1, \"HerkunftEp1Cd\": 1, \"HerkunftEp2Lang\": \"Schweizer/in\", \"HerkunftEp2Sort\": 1, \"HerkunftEp2Cd\": 1, \"SexEp1Cd\": 2, \"SexEp1Lang\": \"weiblich\", \"SexEp1Kurz\": \"W\", \"SexEp2Cd\": 1, \"SexEp2Lang\": \"m\\u00e4nnlich\", \"SexEp2Kurz\": \"M\", \"AnzSchl\": 1017, \"StichtagDatJahr_str\": \"2008-01-01\"}, {\"StichtagDatJahr\": \"2008-01-01T00:00:00\", \"HerkunftEp1Lang\": \"Schweizer/in\", \"HerkunftEp1Sort\": 1, \"HerkunftEp1Cd\": 1, \"HerkunftEp2Lang\": \"Ausl\\u00e4nder/in\", \"HerkunftEp2Sort\": 2, \"HerkunftEp2Cd\": 2, \"SexEp1Cd\": 2, \"SexEp1Lang\": \"weiblich\", \"SexEp1Kurz\": \"W\", \"SexEp2Cd\": 1, \"SexEp2Lang\": \"m\\u00e4nnlich\", \"SexEp2Kurz\": \"M\", \"AnzSchl\": 595, \"StichtagDatJahr_str\": \"2008-01-01\"}, {\"StichtagDatJahr\": \"2008-01-01T00:00:00\", \"HerkunftEp1Lang\": \"Ausl\\u00e4nder/in\", \"HerkunftEp1Sort\": 2, \"HerkunftEp1Cd\": 2, \"HerkunftEp2Lang\": \"Schweizer/in\", \"HerkunftEp2Sort\": 1, \"HerkunftEp2Cd\": 1, \"SexEp1Cd\": 2, \"SexEp1Lang\": \"weiblich\", \"SexEp1Kurz\": \"W\", \"SexEp2Cd\": 1, \"SexEp2Lang\": \"m\\u00e4nnlich\", \"SexEp2Kurz\": \"M\", \"AnzSchl\": 663, \"StichtagDatJahr_str\": \"2008-01-01\"}, {\"StichtagDatJahr\": \"2008-01-01T00:00:00\", \"HerkunftEp1Lang\": \"Ausl\\u00e4nder/in\", \"HerkunftEp1Sort\": 2, \"HerkunftEp1Cd\": 2, \"HerkunftEp2Lang\": \"Ausl\\u00e4nder/in\", \"HerkunftEp2Sort\": 2, \"HerkunftEp2Cd\": 2, \"SexEp1Cd\": 2, \"SexEp1Lang\": \"weiblich\", \"SexEp1Kurz\": \"W\", \"SexEp2Cd\": 1, \"SexEp2Lang\": \"m\\u00e4nnlich\", \"SexEp2Kurz\": \"M\", \"AnzSchl\": 1044, \"StichtagDatJahr_str\": \"2008-01-01\"}, {\"StichtagDatJahr\": \"2007-01-01T00:00:00\", \"HerkunftEp1Lang\": \"Schweizer/in\", \"HerkunftEp1Sort\": 1, \"HerkunftEp1Cd\": 1, \"HerkunftEp2Lang\": \"Schweizer/in\", \"HerkunftEp2Sort\": 1, \"HerkunftEp2Cd\": 1, \"SexEp1Cd\": 2, \"SexEp1Lang\": \"weiblich\", \"SexEp1Kurz\": \"W\", \"SexEp2Cd\": 1, \"SexEp2Lang\": \"m\\u00e4nnlich\", \"SexEp2Kurz\": \"M\", \"AnzSchl\": 965, \"StichtagDatJahr_str\": \"2007-01-01\"}, {\"StichtagDatJahr\": \"2007-01-01T00:00:00\", \"HerkunftEp1Lang\": \"Schweizer/in\", \"HerkunftEp1Sort\": 1, \"HerkunftEp1Cd\": 1, \"HerkunftEp2Lang\": \"Ausl\\u00e4nder/in\", \"HerkunftEp2Sort\": 2, \"HerkunftEp2Cd\": 2, \"SexEp1Cd\": 2, \"SexEp1Lang\": \"weiblich\", \"SexEp1Kurz\": \"W\", \"SexEp2Cd\": 1, \"SexEp2Lang\": \"m\\u00e4nnlich\", \"SexEp2Kurz\": \"M\", \"AnzSchl\": 677, \"StichtagDatJahr_str\": \"2007-01-01\"}, {\"StichtagDatJahr\": \"2007-01-01T00:00:00\", \"HerkunftEp1Lang\": \"Ausl\\u00e4nder/in\", \"HerkunftEp1Sort\": 2, \"HerkunftEp1Cd\": 2, \"HerkunftEp2Lang\": \"Ausl\\u00e4nder/in\", \"HerkunftEp2Sort\": 2, \"HerkunftEp2Cd\": 2, \"SexEp1Cd\": 2, \"SexEp1Lang\": \"weiblich\", \"SexEp1Kurz\": \"W\", \"SexEp2Cd\": 1, \"SexEp2Lang\": \"m\\u00e4nnlich\", \"SexEp2Kurz\": \"M\", \"AnzSchl\": 1067, \"StichtagDatJahr_str\": \"2007-01-01\"}, {\"StichtagDatJahr\": \"2007-01-01T00:00:00\", \"HerkunftEp1Lang\": \"Ausl\\u00e4nder/in\", \"HerkunftEp1Sort\": 2, \"HerkunftEp1Cd\": 2, \"HerkunftEp2Lang\": \"Schweizer/in\", \"HerkunftEp2Sort\": 1, \"HerkunftEp2Cd\": 1, \"SexEp1Cd\": 2, \"SexEp1Lang\": \"weiblich\", \"SexEp1Kurz\": \"W\", \"SexEp2Cd\": 1, \"SexEp2Lang\": \"m\\u00e4nnlich\", \"SexEp2Kurz\": \"M\", \"AnzSchl\": 671, \"StichtagDatJahr_str\": \"2007-01-01\"}, {\"StichtagDatJahr\": \"2006-01-01T00:00:00\", \"HerkunftEp1Lang\": \"Schweizer/in\", \"HerkunftEp1Sort\": 1, \"HerkunftEp1Cd\": 1, \"HerkunftEp2Lang\": \"Schweizer/in\", \"HerkunftEp2Sort\": 1, \"HerkunftEp2Cd\": 1, \"SexEp1Cd\": 2, \"SexEp1Lang\": \"weiblich\", \"SexEp1Kurz\": \"W\", \"SexEp2Cd\": 1, \"SexEp2Lang\": \"m\\u00e4nnlich\", \"SexEp2Kurz\": \"M\", \"AnzSchl\": 901, \"StichtagDatJahr_str\": \"2006-01-01\"}, {\"StichtagDatJahr\": \"2006-01-01T00:00:00\", \"HerkunftEp1Lang\": \"Schweizer/in\", \"HerkunftEp1Sort\": 1, \"HerkunftEp1Cd\": 1, \"HerkunftEp2Lang\": \"Ausl\\u00e4nder/in\", \"HerkunftEp2Sort\": 2, \"HerkunftEp2Cd\": 2, \"SexEp1Cd\": 2, \"SexEp1Lang\": \"weiblich\", \"SexEp1Kurz\": \"W\", \"SexEp2Cd\": 1, \"SexEp2Lang\": \"m\\u00e4nnlich\", \"SexEp2Kurz\": \"M\", \"AnzSchl\": 669, \"StichtagDatJahr_str\": \"2006-01-01\"}, {\"StichtagDatJahr\": \"2006-01-01T00:00:00\", \"HerkunftEp1Lang\": \"Ausl\\u00e4nder/in\", \"HerkunftEp1Sort\": 2, \"HerkunftEp1Cd\": 2, \"HerkunftEp2Lang\": \"Schweizer/in\", \"HerkunftEp2Sort\": 1, \"HerkunftEp2Cd\": 1, \"SexEp1Cd\": 2, \"SexEp1Lang\": \"weiblich\", \"SexEp1Kurz\": \"W\", \"SexEp2Cd\": 1, \"SexEp2Lang\": \"m\\u00e4nnlich\", \"SexEp2Kurz\": \"M\", \"AnzSchl\": 631, \"StichtagDatJahr_str\": \"2006-01-01\"}, {\"StichtagDatJahr\": \"2006-01-01T00:00:00\", \"HerkunftEp1Lang\": \"Ausl\\u00e4nder/in\", \"HerkunftEp1Sort\": 2, \"HerkunftEp1Cd\": 2, \"HerkunftEp2Lang\": \"Ausl\\u00e4nder/in\", \"HerkunftEp2Sort\": 2, \"HerkunftEp2Cd\": 2, \"SexEp1Cd\": 2, \"SexEp1Lang\": \"weiblich\", \"SexEp1Kurz\": \"W\", \"SexEp2Cd\": 1, \"SexEp2Lang\": \"m\\u00e4nnlich\", \"SexEp2Kurz\": \"M\", \"AnzSchl\": 1033, \"StichtagDatJahr_str\": \"2006-01-01\"}, {\"StichtagDatJahr\": \"2005-01-01T00:00:00\", \"HerkunftEp1Lang\": \"Schweizer/in\", \"HerkunftEp1Sort\": 1, \"HerkunftEp1Cd\": 1, \"HerkunftEp2Lang\": \"Schweizer/in\", \"HerkunftEp2Sort\": 1, \"HerkunftEp2Cd\": 1, \"SexEp1Cd\": 2, \"SexEp1Lang\": \"weiblich\", \"SexEp1Kurz\": \"W\", \"SexEp2Cd\": 1, \"SexEp2Lang\": \"m\\u00e4nnlich\", \"SexEp2Kurz\": \"M\", \"AnzSchl\": 989, \"StichtagDatJahr_str\": \"2005-01-01\"}, {\"StichtagDatJahr\": \"2005-01-01T00:00:00\", \"HerkunftEp1Lang\": \"Schweizer/in\", \"HerkunftEp1Sort\": 1, \"HerkunftEp1Cd\": 1, \"HerkunftEp2Lang\": \"Ausl\\u00e4nder/in\", \"HerkunftEp2Sort\": 2, \"HerkunftEp2Cd\": 2, \"SexEp1Cd\": 2, \"SexEp1Lang\": \"weiblich\", \"SexEp1Kurz\": \"W\", \"SexEp2Cd\": 1, \"SexEp2Lang\": \"m\\u00e4nnlich\", \"SexEp2Kurz\": \"M\", \"AnzSchl\": 676, \"StichtagDatJahr_str\": \"2005-01-01\"}, {\"StichtagDatJahr\": \"2005-01-01T00:00:00\", \"HerkunftEp1Lang\": \"Ausl\\u00e4nder/in\", \"HerkunftEp1Sort\": 2, \"HerkunftEp1Cd\": 2, \"HerkunftEp2Lang\": \"Schweizer/in\", \"HerkunftEp2Sort\": 1, \"HerkunftEp2Cd\": 1, \"SexEp1Cd\": 2, \"SexEp1Lang\": \"weiblich\", \"SexEp1Kurz\": \"W\", \"SexEp2Cd\": 1, \"SexEp2Lang\": \"m\\u00e4nnlich\", \"SexEp2Kurz\": \"M\", \"AnzSchl\": 726, \"StichtagDatJahr_str\": \"2005-01-01\"}, {\"StichtagDatJahr\": \"2005-01-01T00:00:00\", \"HerkunftEp1Lang\": \"Ausl\\u00e4nder/in\", \"HerkunftEp1Sort\": 2, \"HerkunftEp1Cd\": 2, \"HerkunftEp2Lang\": \"Ausl\\u00e4nder/in\", \"HerkunftEp2Sort\": 2, \"HerkunftEp2Cd\": 2, \"SexEp1Cd\": 2, \"SexEp1Lang\": \"weiblich\", \"SexEp1Kurz\": \"W\", \"SexEp2Cd\": 1, \"SexEp2Lang\": \"m\\u00e4nnlich\", \"SexEp2Kurz\": \"M\", \"AnzSchl\": 999, \"StichtagDatJahr_str\": \"2005-01-01\"}, {\"StichtagDatJahr\": \"2004-01-01T00:00:00\", \"HerkunftEp1Lang\": \"Ausl\\u00e4nder/in\", \"HerkunftEp1Sort\": 2, \"HerkunftEp1Cd\": 2, \"HerkunftEp2Lang\": \"Ausl\\u00e4nder/in\", \"HerkunftEp2Sort\": 2, \"HerkunftEp2Cd\": 2, \"SexEp1Cd\": 2, \"SexEp1Lang\": \"weiblich\", \"SexEp1Kurz\": \"W\", \"SexEp2Cd\": 1, \"SexEp2Lang\": \"m\\u00e4nnlich\", \"SexEp2Kurz\": \"M\", \"AnzSchl\": 990, \"StichtagDatJahr_str\": \"2004-01-01\"}, {\"StichtagDatJahr\": \"2004-01-01T00:00:00\", \"HerkunftEp1Lang\": \"Schweizer/in\", \"HerkunftEp1Sort\": 1, \"HerkunftEp1Cd\": 1, \"HerkunftEp2Lang\": \"Ausl\\u00e4nder/in\", \"HerkunftEp2Sort\": 2, \"HerkunftEp2Cd\": 2, \"SexEp1Cd\": 2, \"SexEp1Lang\": \"weiblich\", \"SexEp1Kurz\": \"W\", \"SexEp2Cd\": 1, \"SexEp2Lang\": \"m\\u00e4nnlich\", \"SexEp2Kurz\": \"M\", \"AnzSchl\": 762, \"StichtagDatJahr_str\": \"2004-01-01\"}, {\"StichtagDatJahr\": \"2004-01-01T00:00:00\", \"HerkunftEp1Lang\": \"Ausl\\u00e4nder/in\", \"HerkunftEp1Sort\": 2, \"HerkunftEp1Cd\": 2, \"HerkunftEp2Lang\": \"Schweizer/in\", \"HerkunftEp2Sort\": 1, \"HerkunftEp2Cd\": 1, \"SexEp1Cd\": 2, \"SexEp1Lang\": \"weiblich\", \"SexEp1Kurz\": \"W\", \"SexEp2Cd\": 1, \"SexEp2Lang\": \"m\\u00e4nnlich\", \"SexEp2Kurz\": \"M\", \"AnzSchl\": 710, \"StichtagDatJahr_str\": \"2004-01-01\"}, {\"StichtagDatJahr\": \"2004-01-01T00:00:00\", \"HerkunftEp1Lang\": \"Schweizer/in\", \"HerkunftEp1Sort\": 1, \"HerkunftEp1Cd\": 1, \"HerkunftEp2Lang\": \"Schweizer/in\", \"HerkunftEp2Sort\": 1, \"HerkunftEp2Cd\": 1, \"SexEp1Cd\": 2, \"SexEp1Lang\": \"weiblich\", \"SexEp1Kurz\": \"W\", \"SexEp2Cd\": 1, \"SexEp2Lang\": \"m\\u00e4nnlich\", \"SexEp2Kurz\": \"M\", \"AnzSchl\": 905, \"StichtagDatJahr_str\": \"2004-01-01\"}, {\"StichtagDatJahr\": \"2003-01-01T00:00:00\", \"HerkunftEp1Lang\": \"Schweizer/in\", \"HerkunftEp1Sort\": 1, \"HerkunftEp1Cd\": 1, \"HerkunftEp2Lang\": \"Schweizer/in\", \"HerkunftEp2Sort\": 1, \"HerkunftEp2Cd\": 1, \"SexEp1Cd\": 2, \"SexEp1Lang\": \"weiblich\", \"SexEp1Kurz\": \"W\", \"SexEp2Cd\": 1, \"SexEp2Lang\": \"m\\u00e4nnlich\", \"SexEp2Kurz\": \"M\", \"AnzSchl\": 994, \"StichtagDatJahr_str\": \"2003-01-01\"}, {\"StichtagDatJahr\": \"2003-01-01T00:00:00\", \"HerkunftEp1Lang\": \"Schweizer/in\", \"HerkunftEp1Sort\": 1, \"HerkunftEp1Cd\": 1, \"HerkunftEp2Lang\": \"Ausl\\u00e4nder/in\", \"HerkunftEp2Sort\": 2, \"HerkunftEp2Cd\": 2, \"SexEp1Cd\": 2, \"SexEp1Lang\": \"weiblich\", \"SexEp1Kurz\": \"W\", \"SexEp2Cd\": 1, \"SexEp2Lang\": \"m\\u00e4nnlich\", \"SexEp2Kurz\": \"M\", \"AnzSchl\": 748, \"StichtagDatJahr_str\": \"2003-01-01\"}, {\"StichtagDatJahr\": \"2003-01-01T00:00:00\", \"HerkunftEp1Lang\": \"Ausl\\u00e4nder/in\", \"HerkunftEp1Sort\": 2, \"HerkunftEp1Cd\": 2, \"HerkunftEp2Lang\": \"Schweizer/in\", \"HerkunftEp2Sort\": 1, \"HerkunftEp2Cd\": 1, \"SexEp1Cd\": 2, \"SexEp1Lang\": \"weiblich\", \"SexEp1Kurz\": \"W\", \"SexEp2Cd\": 1, \"SexEp2Lang\": \"m\\u00e4nnlich\", \"SexEp2Kurz\": \"M\", \"AnzSchl\": 757, \"StichtagDatJahr_str\": \"2003-01-01\"}, {\"StichtagDatJahr\": \"2003-01-01T00:00:00\", \"HerkunftEp1Lang\": \"Ausl\\u00e4nder/in\", \"HerkunftEp1Sort\": 2, \"HerkunftEp1Cd\": 2, \"HerkunftEp2Lang\": \"Ausl\\u00e4nder/in\", \"HerkunftEp2Sort\": 2, \"HerkunftEp2Cd\": 2, \"SexEp1Cd\": 2, \"SexEp1Lang\": \"weiblich\", \"SexEp1Kurz\": \"W\", \"SexEp2Cd\": 1, \"SexEp2Lang\": \"m\\u00e4nnlich\", \"SexEp2Kurz\": \"M\", \"AnzSchl\": 1184, \"StichtagDatJahr_str\": \"2003-01-01\"}, {\"StichtagDatJahr\": \"2002-01-01T00:00:00\", \"HerkunftEp1Lang\": \"Schweizer/in\", \"HerkunftEp1Sort\": 1, \"HerkunftEp1Cd\": 1, \"HerkunftEp2Lang\": \"Schweizer/in\", \"HerkunftEp2Sort\": 1, \"HerkunftEp2Cd\": 1, \"SexEp1Cd\": 2, \"SexEp1Lang\": \"weiblich\", \"SexEp1Kurz\": \"W\", \"SexEp2Cd\": 1, \"SexEp2Lang\": \"m\\u00e4nnlich\", \"SexEp2Kurz\": \"M\", \"AnzSchl\": 939, \"StichtagDatJahr_str\": \"2002-01-01\"}, {\"StichtagDatJahr\": \"2002-01-01T00:00:00\", \"HerkunftEp1Lang\": \"Schweizer/in\", \"HerkunftEp1Sort\": 1, \"HerkunftEp1Cd\": 1, \"HerkunftEp2Lang\": \"Ausl\\u00e4nder/in\", \"HerkunftEp2Sort\": 2, \"HerkunftEp2Cd\": 2, \"SexEp1Cd\": 2, \"SexEp1Lang\": \"weiblich\", \"SexEp1Kurz\": \"W\", \"SexEp2Cd\": 1, \"SexEp2Lang\": \"m\\u00e4nnlich\", \"SexEp2Kurz\": \"M\", \"AnzSchl\": 744, \"StichtagDatJahr_str\": \"2002-01-01\"}, {\"StichtagDatJahr\": \"2002-01-01T00:00:00\", \"HerkunftEp1Lang\": \"Ausl\\u00e4nder/in\", \"HerkunftEp1Sort\": 2, \"HerkunftEp1Cd\": 2, \"HerkunftEp2Lang\": \"Schweizer/in\", \"HerkunftEp2Sort\": 1, \"HerkunftEp2Cd\": 1, \"SexEp1Cd\": 2, \"SexEp1Lang\": \"weiblich\", \"SexEp1Kurz\": \"W\", \"SexEp2Cd\": 1, \"SexEp2Lang\": \"m\\u00e4nnlich\", \"SexEp2Kurz\": \"M\", \"AnzSchl\": 776, \"StichtagDatJahr_str\": \"2002-01-01\"}, {\"StichtagDatJahr\": \"2002-01-01T00:00:00\", \"HerkunftEp1Lang\": \"Ausl\\u00e4nder/in\", \"HerkunftEp1Sort\": 2, \"HerkunftEp1Cd\": 2, \"HerkunftEp2Lang\": \"Ausl\\u00e4nder/in\", \"HerkunftEp2Sort\": 2, \"HerkunftEp2Cd\": 2, \"SexEp1Cd\": 2, \"SexEp1Lang\": \"weiblich\", \"SexEp1Kurz\": \"W\", \"SexEp2Cd\": 1, \"SexEp2Lang\": \"m\\u00e4nnlich\", \"SexEp2Kurz\": \"M\", \"AnzSchl\": 1115, \"StichtagDatJahr_str\": \"2002-01-01\"}, {\"StichtagDatJahr\": \"2001-01-01T00:00:00\", \"HerkunftEp1Lang\": \"Ausl\\u00e4nder/in\", \"HerkunftEp1Sort\": 2, \"HerkunftEp1Cd\": 2, \"HerkunftEp2Lang\": \"Ausl\\u00e4nder/in\", \"HerkunftEp2Sort\": 2, \"HerkunftEp2Cd\": 2, \"SexEp1Cd\": 2, \"SexEp1Lang\": \"weiblich\", \"SexEp1Kurz\": \"W\", \"SexEp2Cd\": 1, \"SexEp2Lang\": \"m\\u00e4nnlich\", \"SexEp2Kurz\": \"M\", \"AnzSchl\": 1175, \"StichtagDatJahr_str\": \"2001-01-01\"}, {\"StichtagDatJahr\": \"2001-01-01T00:00:00\", \"HerkunftEp1Lang\": \"Schweizer/in\", \"HerkunftEp1Sort\": 1, \"HerkunftEp1Cd\": 1, \"HerkunftEp2Lang\": \"Schweizer/in\", \"HerkunftEp2Sort\": 1, \"HerkunftEp2Cd\": 1, \"SexEp1Cd\": 2, \"SexEp1Lang\": \"weiblich\", \"SexEp1Kurz\": \"W\", \"SexEp2Cd\": 1, \"SexEp2Lang\": \"m\\u00e4nnlich\", \"SexEp2Kurz\": \"M\", \"AnzSchl\": 922, \"StichtagDatJahr_str\": \"2001-01-01\"}, {\"StichtagDatJahr\": \"2001-01-01T00:00:00\", \"HerkunftEp1Lang\": \"Schweizer/in\", \"HerkunftEp1Sort\": 1, \"HerkunftEp1Cd\": 1, \"HerkunftEp2Lang\": \"Ausl\\u00e4nder/in\", \"HerkunftEp2Sort\": 2, \"HerkunftEp2Cd\": 2, \"SexEp1Cd\": 2, \"SexEp1Lang\": \"weiblich\", \"SexEp1Kurz\": \"W\", \"SexEp2Cd\": 1, \"SexEp2Lang\": \"m\\u00e4nnlich\", \"SexEp2Kurz\": \"M\", \"AnzSchl\": 711, \"StichtagDatJahr_str\": \"2001-01-01\"}, {\"StichtagDatJahr\": \"2001-01-01T00:00:00\", \"HerkunftEp1Lang\": \"Ausl\\u00e4nder/in\", \"HerkunftEp1Sort\": 2, \"HerkunftEp1Cd\": 2, \"HerkunftEp2Lang\": \"Schweizer/in\", \"HerkunftEp2Sort\": 1, \"HerkunftEp2Cd\": 1, \"SexEp1Cd\": 2, \"SexEp1Lang\": \"weiblich\", \"SexEp1Kurz\": \"W\", \"SexEp2Cd\": 1, \"SexEp2Lang\": \"m\\u00e4nnlich\", \"SexEp2Kurz\": \"M\", \"AnzSchl\": 806, \"StichtagDatJahr_str\": \"2001-01-01\"}, {\"StichtagDatJahr\": \"2000-01-01T00:00:00\", \"HerkunftEp1Lang\": \"Ausl\\u00e4nder/in\", \"HerkunftEp1Sort\": 2, \"HerkunftEp1Cd\": 2, \"HerkunftEp2Lang\": \"Schweizer/in\", \"HerkunftEp2Sort\": 1, \"HerkunftEp2Cd\": 1, \"SexEp1Cd\": 2, \"SexEp1Lang\": \"weiblich\", \"SexEp1Kurz\": \"W\", \"SexEp2Cd\": 1, \"SexEp2Lang\": \"m\\u00e4nnlich\", \"SexEp2Kurz\": \"M\", \"AnzSchl\": 733, \"StichtagDatJahr_str\": \"2000-01-01\"}, {\"StichtagDatJahr\": \"2000-01-01T00:00:00\", \"HerkunftEp1Lang\": \"Ausl\\u00e4nder/in\", \"HerkunftEp1Sort\": 2, \"HerkunftEp1Cd\": 2, \"HerkunftEp2Lang\": \"Ausl\\u00e4nder/in\", \"HerkunftEp2Sort\": 2, \"HerkunftEp2Cd\": 2, \"SexEp1Cd\": 2, \"SexEp1Lang\": \"weiblich\", \"SexEp1Kurz\": \"W\", \"SexEp2Cd\": 1, \"SexEp2Lang\": \"m\\u00e4nnlich\", \"SexEp2Kurz\": \"M\", \"AnzSchl\": 1064, \"StichtagDatJahr_str\": \"2000-01-01\"}, {\"StichtagDatJahr\": \"2000-01-01T00:00:00\", \"HerkunftEp1Lang\": \"Schweizer/in\", \"HerkunftEp1Sort\": 1, \"HerkunftEp1Cd\": 1, \"HerkunftEp2Lang\": \"Schweizer/in\", \"HerkunftEp2Sort\": 1, \"HerkunftEp2Cd\": 1, \"SexEp1Cd\": 2, \"SexEp1Lang\": \"weiblich\", \"SexEp1Kurz\": \"W\", \"SexEp2Cd\": 1, \"SexEp2Lang\": \"m\\u00e4nnlich\", \"SexEp2Kurz\": \"M\", \"AnzSchl\": 948, \"StichtagDatJahr_str\": \"2000-01-01\"}, {\"StichtagDatJahr\": \"2000-01-01T00:00:00\", \"HerkunftEp1Lang\": \"Schweizer/in\", \"HerkunftEp1Sort\": 1, \"HerkunftEp1Cd\": 1, \"HerkunftEp2Lang\": \"Ausl\\u00e4nder/in\", \"HerkunftEp2Sort\": 2, \"HerkunftEp2Cd\": 2, \"SexEp1Cd\": 2, \"SexEp1Lang\": \"weiblich\", \"SexEp1Kurz\": \"W\", \"SexEp2Cd\": 1, \"SexEp2Lang\": \"m\\u00e4nnlich\", \"SexEp2Kurz\": \"M\", \"AnzSchl\": 718, \"StichtagDatJahr_str\": \"2000-01-01\"}, {\"StichtagDatJahr\": \"1999-01-01T00:00:00\", \"HerkunftEp1Lang\": \"Schweizer/in\", \"HerkunftEp1Sort\": 1, \"HerkunftEp1Cd\": 1, \"HerkunftEp2Lang\": \"Schweizer/in\", \"HerkunftEp2Sort\": 1, \"HerkunftEp2Cd\": 1, \"SexEp1Cd\": 2, \"SexEp1Lang\": \"weiblich\", \"SexEp1Kurz\": \"W\", \"SexEp2Cd\": 1, \"SexEp2Lang\": \"m\\u00e4nnlich\", \"SexEp2Kurz\": \"M\", \"AnzSchl\": 993, \"StichtagDatJahr_str\": \"1999-01-01\"}, {\"StichtagDatJahr\": \"1999-01-01T00:00:00\", \"HerkunftEp1Lang\": \"Schweizer/in\", \"HerkunftEp1Sort\": 1, \"HerkunftEp1Cd\": 1, \"HerkunftEp2Lang\": \"Ausl\\u00e4nder/in\", \"HerkunftEp2Sort\": 2, \"HerkunftEp2Cd\": 2, \"SexEp1Cd\": 2, \"SexEp1Lang\": \"weiblich\", \"SexEp1Kurz\": \"W\", \"SexEp2Cd\": 1, \"SexEp2Lang\": \"m\\u00e4nnlich\", \"SexEp2Kurz\": \"M\", \"AnzSchl\": 669, \"StichtagDatJahr_str\": \"1999-01-01\"}, {\"StichtagDatJahr\": \"1999-01-01T00:00:00\", \"HerkunftEp1Lang\": \"Ausl\\u00e4nder/in\", \"HerkunftEp1Sort\": 2, \"HerkunftEp1Cd\": 2, \"HerkunftEp2Lang\": \"Schweizer/in\", \"HerkunftEp2Sort\": 1, \"HerkunftEp2Cd\": 1, \"SexEp1Cd\": 2, \"SexEp1Lang\": \"weiblich\", \"SexEp1Kurz\": \"W\", \"SexEp2Cd\": 1, \"SexEp2Lang\": \"m\\u00e4nnlich\", \"SexEp2Kurz\": \"M\", \"AnzSchl\": 716, \"StichtagDatJahr_str\": \"1999-01-01\"}, {\"StichtagDatJahr\": \"1999-01-01T00:00:00\", \"HerkunftEp1Lang\": \"Ausl\\u00e4nder/in\", \"HerkunftEp1Sort\": 2, \"HerkunftEp1Cd\": 2, \"HerkunftEp2Lang\": \"Ausl\\u00e4nder/in\", \"HerkunftEp2Sort\": 2, \"HerkunftEp2Cd\": 2, \"SexEp1Cd\": 2, \"SexEp1Lang\": \"weiblich\", \"SexEp1Kurz\": \"W\", \"SexEp2Cd\": 1, \"SexEp2Lang\": \"m\\u00e4nnlich\", \"SexEp2Kurz\": \"M\", \"AnzSchl\": 1018, \"StichtagDatJahr_str\": \"1999-01-01\"}, {\"StichtagDatJahr\": \"1998-01-01T00:00:00\", \"HerkunftEp1Lang\": \"Schweizer/in\", \"HerkunftEp1Sort\": 1, \"HerkunftEp1Cd\": 1, \"HerkunftEp2Lang\": \"Schweizer/in\", \"HerkunftEp2Sort\": 1, \"HerkunftEp2Cd\": 1, \"SexEp1Cd\": 2, \"SexEp1Lang\": \"weiblich\", \"SexEp1Kurz\": \"W\", \"SexEp2Cd\": 1, \"SexEp2Lang\": \"m\\u00e4nnlich\", \"SexEp2Kurz\": \"M\", \"AnzSchl\": 964, \"StichtagDatJahr_str\": \"1998-01-01\"}, {\"StichtagDatJahr\": \"1998-01-01T00:00:00\", \"HerkunftEp1Lang\": \"Schweizer/in\", \"HerkunftEp1Sort\": 1, \"HerkunftEp1Cd\": 1, \"HerkunftEp2Lang\": \"Ausl\\u00e4nder/in\", \"HerkunftEp2Sort\": 2, \"HerkunftEp2Cd\": 2, \"SexEp1Cd\": 2, \"SexEp1Lang\": \"weiblich\", \"SexEp1Kurz\": \"W\", \"SexEp2Cd\": 1, \"SexEp2Lang\": \"m\\u00e4nnlich\", \"SexEp2Kurz\": \"M\", \"AnzSchl\": 650, \"StichtagDatJahr_str\": \"1998-01-01\"}, {\"StichtagDatJahr\": \"1998-01-01T00:00:00\", \"HerkunftEp1Lang\": \"Ausl\\u00e4nder/in\", \"HerkunftEp1Sort\": 2, \"HerkunftEp1Cd\": 2, \"HerkunftEp2Lang\": \"Schweizer/in\", \"HerkunftEp2Sort\": 1, \"HerkunftEp2Cd\": 1, \"SexEp1Cd\": 2, \"SexEp1Lang\": \"weiblich\", \"SexEp1Kurz\": \"W\", \"SexEp2Cd\": 1, \"SexEp2Lang\": \"m\\u00e4nnlich\", \"SexEp2Kurz\": \"M\", \"AnzSchl\": 680, \"StichtagDatJahr_str\": \"1998-01-01\"}, {\"StichtagDatJahr\": \"1998-01-01T00:00:00\", \"HerkunftEp1Lang\": \"Ausl\\u00e4nder/in\", \"HerkunftEp1Sort\": 2, \"HerkunftEp1Cd\": 2, \"HerkunftEp2Lang\": \"Ausl\\u00e4nder/in\", \"HerkunftEp2Sort\": 2, \"HerkunftEp2Cd\": 2, \"SexEp1Cd\": 2, \"SexEp1Lang\": \"weiblich\", \"SexEp1Kurz\": \"W\", \"SexEp2Cd\": 1, \"SexEp2Lang\": \"m\\u00e4nnlich\", \"SexEp2Kurz\": \"M\", \"AnzSchl\": 1054, \"StichtagDatJahr_str\": \"1998-01-01\"}, {\"StichtagDatJahr\": \"1997-01-01T00:00:00\", \"HerkunftEp1Lang\": \"Schweizer/in\", \"HerkunftEp1Sort\": 1, \"HerkunftEp1Cd\": 1, \"HerkunftEp2Lang\": \"Ausl\\u00e4nder/in\", \"HerkunftEp2Sort\": 2, \"HerkunftEp2Cd\": 2, \"SexEp1Cd\": 2, \"SexEp1Lang\": \"weiblich\", \"SexEp1Kurz\": \"W\", \"SexEp2Cd\": 1, \"SexEp2Lang\": \"m\\u00e4nnlich\", \"SexEp2Kurz\": \"M\", \"AnzSchl\": 660, \"StichtagDatJahr_str\": \"1997-01-01\"}, {\"StichtagDatJahr\": \"1997-01-01T00:00:00\", \"HerkunftEp1Lang\": \"Ausl\\u00e4nder/in\", \"HerkunftEp1Sort\": 2, \"HerkunftEp1Cd\": 2, \"HerkunftEp2Lang\": \"Schweizer/in\", \"HerkunftEp2Sort\": 1, \"HerkunftEp2Cd\": 1, \"SexEp1Cd\": 2, \"SexEp1Lang\": \"weiblich\", \"SexEp1Kurz\": \"W\", \"SexEp2Cd\": 1, \"SexEp2Lang\": \"m\\u00e4nnlich\", \"SexEp2Kurz\": \"M\", \"AnzSchl\": 649, \"StichtagDatJahr_str\": \"1997-01-01\"}, {\"StichtagDatJahr\": \"1997-01-01T00:00:00\", \"HerkunftEp1Lang\": \"Ausl\\u00e4nder/in\", \"HerkunftEp1Sort\": 2, \"HerkunftEp1Cd\": 2, \"HerkunftEp2Lang\": \"Ausl\\u00e4nder/in\", \"HerkunftEp2Sort\": 2, \"HerkunftEp2Cd\": 2, \"SexEp1Cd\": 2, \"SexEp1Lang\": \"weiblich\", \"SexEp1Kurz\": \"W\", \"SexEp2Cd\": 1, \"SexEp2Lang\": \"m\\u00e4nnlich\", \"SexEp2Kurz\": \"M\", \"AnzSchl\": 992, \"StichtagDatJahr_str\": \"1997-01-01\"}, {\"StichtagDatJahr\": \"1997-01-01T00:00:00\", \"HerkunftEp1Lang\": \"Schweizer/in\", \"HerkunftEp1Sort\": 1, \"HerkunftEp1Cd\": 1, \"HerkunftEp2Lang\": \"Schweizer/in\", \"HerkunftEp2Sort\": 1, \"HerkunftEp2Cd\": 1, \"SexEp1Cd\": 2, \"SexEp1Lang\": \"weiblich\", \"SexEp1Kurz\": \"W\", \"SexEp2Cd\": 1, \"SexEp2Lang\": \"m\\u00e4nnlich\", \"SexEp2Kurz\": \"M\", \"AnzSchl\": 958, \"StichtagDatJahr_str\": \"1997-01-01\"}, {\"StichtagDatJahr\": \"1996-01-01T00:00:00\", \"HerkunftEp1Lang\": \"Schweizer/in\", \"HerkunftEp1Sort\": 1, \"HerkunftEp1Cd\": 1, \"HerkunftEp2Lang\": \"Schweizer/in\", \"HerkunftEp2Sort\": 1, \"HerkunftEp2Cd\": 1, \"SexEp1Cd\": 2, \"SexEp1Lang\": \"weiblich\", \"SexEp1Kurz\": \"W\", \"SexEp2Cd\": 1, \"SexEp2Lang\": \"m\\u00e4nnlich\", \"SexEp2Kurz\": \"M\", \"AnzSchl\": 1003, \"StichtagDatJahr_str\": \"1996-01-01\"}, {\"StichtagDatJahr\": \"1996-01-01T00:00:00\", \"HerkunftEp1Lang\": \"Schweizer/in\", \"HerkunftEp1Sort\": 1, \"HerkunftEp1Cd\": 1, \"HerkunftEp2Lang\": \"Ausl\\u00e4nder/in\", \"HerkunftEp2Sort\": 2, \"HerkunftEp2Cd\": 2, \"SexEp1Cd\": 2, \"SexEp1Lang\": \"weiblich\", \"SexEp1Kurz\": \"W\", \"SexEp2Cd\": 1, \"SexEp2Lang\": \"m\\u00e4nnlich\", \"SexEp2Kurz\": \"M\", \"AnzSchl\": 653, \"StichtagDatJahr_str\": \"1996-01-01\"}, {\"StichtagDatJahr\": \"1996-01-01T00:00:00\", \"HerkunftEp1Lang\": \"Ausl\\u00e4nder/in\", \"HerkunftEp1Sort\": 2, \"HerkunftEp1Cd\": 2, \"HerkunftEp2Lang\": \"Schweizer/in\", \"HerkunftEp2Sort\": 1, \"HerkunftEp2Cd\": 1, \"SexEp1Cd\": 2, \"SexEp1Lang\": \"weiblich\", \"SexEp1Kurz\": \"W\", \"SexEp2Cd\": 1, \"SexEp2Lang\": \"m\\u00e4nnlich\", \"SexEp2Kurz\": \"M\", \"AnzSchl\": 609, \"StichtagDatJahr_str\": \"1996-01-01\"}, {\"StichtagDatJahr\": \"1996-01-01T00:00:00\", \"HerkunftEp1Lang\": \"Ausl\\u00e4nder/in\", \"HerkunftEp1Sort\": 2, \"HerkunftEp1Cd\": 2, \"HerkunftEp2Lang\": \"Ausl\\u00e4nder/in\", \"HerkunftEp2Sort\": 2, \"HerkunftEp2Cd\": 2, \"SexEp1Cd\": 2, \"SexEp1Lang\": \"weiblich\", \"SexEp1Kurz\": \"W\", \"SexEp2Cd\": 1, \"SexEp2Lang\": \"m\\u00e4nnlich\", \"SexEp2Kurz\": \"M\", \"AnzSchl\": 957, \"StichtagDatJahr_str\": \"1996-01-01\"}, {\"StichtagDatJahr\": \"1995-01-01T00:00:00\", \"HerkunftEp1Lang\": \"Schweizer/in\", \"HerkunftEp1Sort\": 1, \"HerkunftEp1Cd\": 1, \"HerkunftEp2Lang\": \"Schweizer/in\", \"HerkunftEp2Sort\": 1, \"HerkunftEp2Cd\": 1, \"SexEp1Cd\": 2, \"SexEp1Lang\": \"weiblich\", \"SexEp1Kurz\": \"W\", \"SexEp2Cd\": 1, \"SexEp2Lang\": \"m\\u00e4nnlich\", \"SexEp2Kurz\": \"M\", \"AnzSchl\": 1036, \"StichtagDatJahr_str\": \"1995-01-01\"}, {\"StichtagDatJahr\": \"1995-01-01T00:00:00\", \"HerkunftEp1Lang\": \"Schweizer/in\", \"HerkunftEp1Sort\": 1, \"HerkunftEp1Cd\": 1, \"HerkunftEp2Lang\": \"Ausl\\u00e4nder/in\", \"HerkunftEp2Sort\": 2, \"HerkunftEp2Cd\": 2, \"SexEp1Cd\": 2, \"SexEp1Lang\": \"weiblich\", \"SexEp1Kurz\": \"W\", \"SexEp2Cd\": 1, \"SexEp2Lang\": \"m\\u00e4nnlich\", \"SexEp2Kurz\": \"M\", \"AnzSchl\": 627, \"StichtagDatJahr_str\": \"1995-01-01\"}, {\"StichtagDatJahr\": \"1995-01-01T00:00:00\", \"HerkunftEp1Lang\": \"Ausl\\u00e4nder/in\", \"HerkunftEp1Sort\": 2, \"HerkunftEp1Cd\": 2, \"HerkunftEp2Lang\": \"Schweizer/in\", \"HerkunftEp2Sort\": 1, \"HerkunftEp2Cd\": 1, \"SexEp1Cd\": 2, \"SexEp1Lang\": \"weiblich\", \"SexEp1Kurz\": \"W\", \"SexEp2Cd\": 1, \"SexEp2Lang\": \"m\\u00e4nnlich\", \"SexEp2Kurz\": \"M\", \"AnzSchl\": 616, \"StichtagDatJahr_str\": \"1995-01-01\"}, {\"StichtagDatJahr\": \"1995-01-01T00:00:00\", \"HerkunftEp1Lang\": \"Ausl\\u00e4nder/in\", \"HerkunftEp1Sort\": 2, \"HerkunftEp1Cd\": 2, \"HerkunftEp2Lang\": \"Ausl\\u00e4nder/in\", \"HerkunftEp2Sort\": 2, \"HerkunftEp2Cd\": 2, \"SexEp1Cd\": 2, \"SexEp1Lang\": \"weiblich\", \"SexEp1Kurz\": \"W\", \"SexEp2Cd\": 1, \"SexEp2Lang\": \"m\\u00e4nnlich\", \"SexEp2Kurz\": \"M\", \"AnzSchl\": 901, \"StichtagDatJahr_str\": \"1995-01-01\"}, {\"StichtagDatJahr\": \"1994-01-01T00:00:00\", \"HerkunftEp1Lang\": \"Schweizer/in\", \"HerkunftEp1Sort\": 1, \"HerkunftEp1Cd\": 1, \"HerkunftEp2Lang\": \"Schweizer/in\", \"HerkunftEp2Sort\": 1, \"HerkunftEp2Cd\": 1, \"SexEp1Cd\": 2, \"SexEp1Lang\": \"weiblich\", \"SexEp1Kurz\": \"W\", \"SexEp2Cd\": 1, \"SexEp2Lang\": \"m\\u00e4nnlich\", \"SexEp2Kurz\": \"M\", \"AnzSchl\": 1121, \"StichtagDatJahr_str\": \"1994-01-01\"}, {\"StichtagDatJahr\": \"1994-01-01T00:00:00\", \"HerkunftEp1Lang\": \"Schweizer/in\", \"HerkunftEp1Sort\": 1, \"HerkunftEp1Cd\": 1, \"HerkunftEp2Lang\": \"Ausl\\u00e4nder/in\", \"HerkunftEp2Sort\": 2, \"HerkunftEp2Cd\": 2, \"SexEp1Cd\": 2, \"SexEp1Lang\": \"weiblich\", \"SexEp1Kurz\": \"W\", \"SexEp2Cd\": 1, \"SexEp2Lang\": \"m\\u00e4nnlich\", \"SexEp2Kurz\": \"M\", \"AnzSchl\": 720, \"StichtagDatJahr_str\": \"1994-01-01\"}, {\"StichtagDatJahr\": \"1994-01-01T00:00:00\", \"HerkunftEp1Lang\": \"Ausl\\u00e4nder/in\", \"HerkunftEp1Sort\": 2, \"HerkunftEp1Cd\": 2, \"HerkunftEp2Lang\": \"Schweizer/in\", \"HerkunftEp2Sort\": 1, \"HerkunftEp2Cd\": 1, \"SexEp1Cd\": 2, \"SexEp1Lang\": \"weiblich\", \"SexEp1Kurz\": \"W\", \"SexEp2Cd\": 1, \"SexEp2Lang\": \"m\\u00e4nnlich\", \"SexEp2Kurz\": \"M\", \"AnzSchl\": 652, \"StichtagDatJahr_str\": \"1994-01-01\"}, {\"StichtagDatJahr\": \"1994-01-01T00:00:00\", \"HerkunftEp1Lang\": \"Ausl\\u00e4nder/in\", \"HerkunftEp1Sort\": 2, \"HerkunftEp1Cd\": 2, \"HerkunftEp2Lang\": \"Ausl\\u00e4nder/in\", \"HerkunftEp2Sort\": 2, \"HerkunftEp2Cd\": 2, \"SexEp1Cd\": 2, \"SexEp1Lang\": \"weiblich\", \"SexEp1Kurz\": \"W\", \"SexEp2Cd\": 1, \"SexEp2Lang\": \"m\\u00e4nnlich\", \"SexEp2Kurz\": \"M\", \"AnzSchl\": 1048, \"StichtagDatJahr_str\": \"1994-01-01\"}, {\"StichtagDatJahr\": \"1993-01-01T00:00:00\", \"HerkunftEp1Lang\": \"Schweizer/in\", \"HerkunftEp1Sort\": 1, \"HerkunftEp1Cd\": 1, \"HerkunftEp2Lang\": \"Ausl\\u00e4nder/in\", \"HerkunftEp2Sort\": 2, \"HerkunftEp2Cd\": 2, \"SexEp1Cd\": 2, \"SexEp1Lang\": \"weiblich\", \"SexEp1Kurz\": \"W\", \"SexEp2Cd\": 1, \"SexEp2Lang\": \"m\\u00e4nnlich\", \"SexEp2Kurz\": \"M\", \"AnzSchl\": 767, \"StichtagDatJahr_str\": \"1993-01-01\"}, {\"StichtagDatJahr\": \"1993-01-01T00:00:00\", \"HerkunftEp1Lang\": \"Ausl\\u00e4nder/in\", \"HerkunftEp1Sort\": 2, \"HerkunftEp1Cd\": 2, \"HerkunftEp2Lang\": \"Schweizer/in\", \"HerkunftEp2Sort\": 1, \"HerkunftEp2Cd\": 1, \"SexEp1Cd\": 2, \"SexEp1Lang\": \"weiblich\", \"SexEp1Kurz\": \"W\", \"SexEp2Cd\": 1, \"SexEp2Lang\": \"m\\u00e4nnlich\", \"SexEp2Kurz\": \"M\", \"AnzSchl\": 615, \"StichtagDatJahr_str\": \"1993-01-01\"}, {\"StichtagDatJahr\": \"1993-01-01T00:00:00\", \"HerkunftEp1Lang\": \"Schweizer/in\", \"HerkunftEp1Sort\": 1, \"HerkunftEp1Cd\": 1, \"HerkunftEp2Lang\": \"Schweizer/in\", \"HerkunftEp2Sort\": 1, \"HerkunftEp2Cd\": 1, \"SexEp1Cd\": 2, \"SexEp1Lang\": \"weiblich\", \"SexEp1Kurz\": \"W\", \"SexEp2Cd\": 1, \"SexEp2Lang\": \"m\\u00e4nnlich\", \"SexEp2Kurz\": \"M\", \"AnzSchl\": 1143, \"StichtagDatJahr_str\": \"1993-01-01\"}, {\"StichtagDatJahr\": \"1993-01-01T00:00:00\", \"HerkunftEp1Lang\": \"Ausl\\u00e4nder/in\", \"HerkunftEp1Sort\": 2, \"HerkunftEp1Cd\": 2, \"HerkunftEp2Lang\": \"Ausl\\u00e4nder/in\", \"HerkunftEp2Sort\": 2, \"HerkunftEp2Cd\": 2, \"SexEp1Cd\": 2, \"SexEp1Lang\": \"weiblich\", \"SexEp1Kurz\": \"W\", \"SexEp2Cd\": 1, \"SexEp2Lang\": \"m\\u00e4nnlich\", \"SexEp2Kurz\": \"M\", \"AnzSchl\": 1046, \"StichtagDatJahr_str\": \"1993-01-01\"}]}}, {\"mode\": \"vega-lite\"});\n",
       "</script>"
      ],
      "text/plain": [
       "alt.Chart(...)"
      ]
     },
     "execution_count": 96,
     "metadata": {},
     "output_type": "execute_result"
    }
   ],
   "source": [
    "alt.Chart(data2betested).mark_circle(size=60).encode(\n",
    "    x='StichtagDatJahr',\n",
    "    y='AnzSchl',\n",
    "    #color='AnzNat',\n",
    "    #color=alt.Color('AnzNat', scale=alt.Scale(scheme='greens')),\n",
    "    color=alt.Color('HerkunftEp1Lang', scale=alt.Scale(scheme='dark2')),\n",
    "    tooltip=['AnzSchl','StichtagDatJahr','HerkunftEp1Lang','HerkunftEp1Sort']\n",
    ").interactive() # this makes the axes interactive: now you can zoom & pan\n",
    "\n",
    "\n"
   ]
  },
  {
   "cell_type": "markdown",
   "metadata": {},
   "source": [
    "**Sharepoint als gecheckt markieren!**"
   ]
  },
  {
   "cell_type": "markdown",
   "metadata": {},
   "source": [
    "Record auf Sharepoint: **[Link](https://kollaboration.intranet.stzh.ch/orga/ssz-produkte/Lists/SASA_Outputs/DispForm.aspx?ID=198&ContentTypeId=0x0100988EAF029F1EFE4CA675F53C32A5D53D01006DBC563E6FBE9E4EB6FDC780799752E1)**"
   ]
  },
  {
   "cell_type": "raw",
   "metadata": {},
   "source": []
  },
  {
   "cell_type": "code",
   "execution_count": null,
   "metadata": {},
   "outputs": [],
   "source": []
  }
 ],
 "metadata": {
  "kernelspec": {
   "display_name": "Python 3",
   "language": "python",
   "name": "python3"
  },
  "language_info": {
   "codemirror_mode": {
    "name": "ipython",
    "version": 3
   },
   "file_extension": ".py",
   "mimetype": "text/x-python",
   "name": "python",
   "nbconvert_exporter": "python",
   "pygments_lexer": "ipython3",
   "version": "3.8.8"
  }
 },
 "nbformat": 4,
 "nbformat_minor": 4
}
