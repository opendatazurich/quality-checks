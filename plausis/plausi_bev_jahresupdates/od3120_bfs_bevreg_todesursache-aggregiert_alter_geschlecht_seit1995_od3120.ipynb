{
 "cells": [
  {
   "cell_type": "markdown",
   "metadata": {},
   "source": [
    "# Testing\n",
    "### Todesfälle nach aggregierter Todesursache, Altersklasse und Geschlecht, seit 1995\n",
    "Datum: 23.11.2021"
   ]
  },
  {
   "cell_type": "markdown",
   "metadata": {},
   "source": [
    "**Importiere die notwendigen Packages**"
   ]
  },
  {
   "cell_type": "code",
   "execution_count": 1,
   "metadata": {},
   "outputs": [],
   "source": [
    "#pip install geopandas altair fiona requests folium mplleaflet contextily seaborn datetime plotly"
   ]
  },
  {
   "cell_type": "code",
   "execution_count": 2,
   "metadata": {},
   "outputs": [],
   "source": [
    "import pandas as pd\n",
    "import pivottablejs\n",
    "from pivottablejs import pivot_ui\n",
    "import numpy as np\n",
    "import altair as alt\n",
    "import matplotlib.pyplot as plt\n",
    "from datetime import datetime\n",
    "import geopandas as gpd\n",
    "import folium \n",
    "import requests"
   ]
  },
  {
   "cell_type": "code",
   "execution_count": 3,
   "metadata": {},
   "outputs": [],
   "source": [
    "import plotly.express as px\n"
   ]
  },
  {
   "cell_type": "markdown",
   "metadata": {},
   "source": [
    "Definiere Settings. Hier das Zahlenformat von Float-Werten (z.B. *'{:,.2f}'.format* mit Komma als Tausenderzeichen), "
   ]
  },
  {
   "cell_type": "code",
   "execution_count": 4,
   "metadata": {},
   "outputs": [],
   "source": [
    "pd.options.display.float_format = '{:.0f}'.format\n",
    "pd.set_option('display.width', 100)\n",
    "pd.set_option('display.max_columns', 15)"
   ]
  },
  {
   "cell_type": "markdown",
   "metadata": {},
   "source": [
    "Importiere einen Datensatz von der **DWH_INT** Dropzone.\n",
    "\n",
    "- Beachte dabei die Notation des Pfades...\n",
    "- Definiere mal aktuell noch keine weiteren Parameter beim Import"
   ]
  },
  {
   "cell_type": "markdown",
   "metadata": {},
   "source": [
    "**Dataset auf INTEG Datenkatalog**: https://data.integ.stadt-zuerich.ch/dataset/int_dwh_bfs_bevreg_todesursache-aggregiert_alter_geschlecht_seit1995_od3120\n",
    "\n",
    "**Dataset auf PROD Datenkatalog**: https://data.stadt-zuerich.ch/dataset/bfs_bevreg_todesursache-aggregiert_alter_geschlecht_seit1995_od3120"
   ]
  },
  {
   "cell_type": "code",
   "execution_count": 5,
   "metadata": {},
   "outputs": [
    {
     "name": "stdout",
     "output_type": "stream",
     "text": [
      "prod\n"
     ]
    }
   ],
   "source": [
    "#Die Datasets sind nur zum Testen auf INT-DWH-Dropzone. Wenn der Test vorbei ist, sind sie auf PROD. \n",
    "# Über den Status kann man einfach switchen\n",
    "\n",
    "status = \"prod\";\n",
    "print(status)"
   ]
  },
  {
   "cell_type": "code",
   "execution_count": 6,
   "metadata": {
    "tags": []
   },
   "outputs": [
    {
     "name": "stdout",
     "output_type": "stream",
     "text": [
      "//szh.loc/ssz/applikationen/OGD_Dropzone/DWH/bfs_bevreg_todesursache-aggregiert_alter_geschlecht_seit1995_od3120/BEV312OD3120.csv\n"
     ]
    }
   ],
   "source": [
    "# Filepath\n",
    "if status == \"prod\":\n",
    "    fp = r\"//szh.loc/ssz/applikationen/OGD_Dropzone/DWH/bfs_bevreg_todesursache-aggregiert_alter_geschlecht_seit1995_od3120/BEV312OD3120.csv\"\n",
    "else:\n",
    "    fp = r\"https://data.integ.stadt-zuerich.ch/dataset/int_dwh_bfs_bevreg_todesursache-aggregiert_alter_geschlecht_seit1995_od3120/download/BEV312OD3120.csv\"\n",
    "#download from INT-Datacatalog:\n",
    "# https://data.integ.stadt-zuerich.ch/dataset/int_dwh_bfs_bevreg_todesursache-aggregiert_alter_geschlecht_seit1995_od3120/download/BEV312OD3120.csv\n",
    "print(fp)"
   ]
  },
  {
   "cell_type": "code",
   "execution_count": 7,
   "metadata": {},
   "outputs": [],
   "source": [
    "# Read the data\n",
    "data2betested = pd.read_csv(\n",
    "    fp, \n",
    "    sep=',',\n",
    "   #usecols=[0,1,2,3,4,6],\n",
    "   #names=['stationid','year','month','avgtemp','latitude','longitude','elevation','station','countryid','country'],\n",
    "   #skiprows=1,\n",
    "   # parse_dates=[0],\n",
    "    parse_dates=True,\n",
    "    #date_parser=lambda x: pd.to_datetime(x, format=\"%Y\"), \n",
    "    #index_col=\"date_time\",\n",
    "    low_memory=False    \n",
    "    )"
   ]
  },
  {
   "cell_type": "markdown",
   "metadata": {},
   "source": [
    "In der Folge ein paar erste Tests:"
   ]
  },
  {
   "cell_type": "code",
   "execution_count": 8,
   "metadata": {},
   "outputs": [
    {
     "data": {
      "text/plain": [
       "pandas.core.frame.DataFrame"
      ]
     },
     "execution_count": 8,
     "metadata": {},
     "output_type": "execute_result"
    }
   ],
   "source": [
    "type(data2betested)"
   ]
  },
  {
   "cell_type": "markdown",
   "metadata": {},
   "source": [
    " - 1) Zeige eine kurze Vorschau der importierten Daten\n",
    " - 2) Weise die Datentypen aus\n",
    " - 3) Zeige die Shape (Umfang) des Datensatzes an"
   ]
  },
  {
   "cell_type": "code",
   "execution_count": 9,
   "metadata": {},
   "outputs": [
    {
     "data": {
      "text/html": [
       "<div>\n",
       "<style scoped>\n",
       "    .dataframe tbody tr th:only-of-type {\n",
       "        vertical-align: middle;\n",
       "    }\n",
       "\n",
       "    .dataframe tbody tr th {\n",
       "        vertical-align: top;\n",
       "    }\n",
       "\n",
       "    .dataframe thead th {\n",
       "        text-align: right;\n",
       "    }\n",
       "</style>\n",
       "<table border=\"1\" class=\"dataframe\">\n",
       "  <thead>\n",
       "    <tr style=\"text-align: right;\">\n",
       "      <th></th>\n",
       "      <th>StichtagDatJahr</th>\n",
       "      <th>TodesursacheSpezSort</th>\n",
       "      <th>TodesursacheSpezLang</th>\n",
       "      <th>AlterVSort_Num</th>\n",
       "      <th>AlterVSort_Nam</th>\n",
       "      <th>AnzSterWir</th>\n",
       "      <th>Geschlecht</th>\n",
       "    </tr>\n",
       "  </thead>\n",
       "  <tbody>\n",
       "    <tr>\n",
       "      <th>0</th>\n",
       "      <td>1995</td>\n",
       "      <td>1200</td>\n",
       "      <td>Alle übrigen Todesursachen</td>\n",
       "      <td>1</td>\n",
       "      <td>0 – 14</td>\n",
       "      <td>12</td>\n",
       "      <td>Frauen</td>\n",
       "    </tr>\n",
       "    <tr>\n",
       "      <th>1</th>\n",
       "      <td>1995</td>\n",
       "      <td>1200</td>\n",
       "      <td>Alle übrigen Todesursachen</td>\n",
       "      <td>2</td>\n",
       "      <td>15 – 44</td>\n",
       "      <td>44</td>\n",
       "      <td>Frauen</td>\n",
       "    </tr>\n",
       "    <tr>\n",
       "      <th>2</th>\n",
       "      <td>1995</td>\n",
       "      <td>1200</td>\n",
       "      <td>Alle übrigen Todesursachen</td>\n",
       "      <td>3</td>\n",
       "      <td>45 – 64</td>\n",
       "      <td>38</td>\n",
       "      <td>Frauen</td>\n",
       "    </tr>\n",
       "  </tbody>\n",
       "</table>\n",
       "</div>"
      ],
      "text/plain": [
       "   StichtagDatJahr  TodesursacheSpezSort        TodesursacheSpezLang  AlterVSort_Num  \\\n",
       "0             1995                  1200  Alle übrigen Todesursachen               1   \n",
       "1             1995                  1200  Alle übrigen Todesursachen               2   \n",
       "2             1995                  1200  Alle übrigen Todesursachen               3   \n",
       "\n",
       "  AlterVSort_Nam  AnzSterWir Geschlecht  \n",
       "0         0 – 14          12     Frauen  \n",
       "1        15 – 44          44     Frauen  \n",
       "2        45 – 64          38     Frauen  "
      ]
     },
     "execution_count": 9,
     "metadata": {},
     "output_type": "execute_result"
    }
   ],
   "source": [
    "data2betested.head(3)"
   ]
  },
  {
   "cell_type": "code",
   "execution_count": 10,
   "metadata": {},
   "outputs": [
    {
     "data": {
      "text/plain": [
       "StichtagDatJahr          int64\n",
       "TodesursacheSpezSort     int64\n",
       "TodesursacheSpezLang    object\n",
       "AlterVSort_Num           int64\n",
       "AlterVSort_Nam          object\n",
       "AnzSterWir               int64\n",
       "Geschlecht              object\n",
       "dtype: object"
      ]
     },
     "execution_count": 10,
     "metadata": {},
     "output_type": "execute_result"
    }
   ],
   "source": [
    "data2betested.dtypes"
   ]
  },
  {
   "cell_type": "code",
   "execution_count": 11,
   "metadata": {},
   "outputs": [
    {
     "data": {
      "text/plain": [
       "(1211, 7)"
      ]
     },
     "execution_count": 11,
     "metadata": {},
     "output_type": "execute_result"
    }
   ],
   "source": [
    "data2betested.shape"
   ]
  },
  {
   "cell_type": "markdown",
   "metadata": {},
   "source": [
    "Beschreibe einzelne Attribute"
   ]
  },
  {
   "cell_type": "code",
   "execution_count": 12,
   "metadata": {},
   "outputs": [
    {
     "data": {
      "text/html": [
       "<div>\n",
       "<style scoped>\n",
       "    .dataframe tbody tr th:only-of-type {\n",
       "        vertical-align: middle;\n",
       "    }\n",
       "\n",
       "    .dataframe tbody tr th {\n",
       "        vertical-align: top;\n",
       "    }\n",
       "\n",
       "    .dataframe thead th {\n",
       "        text-align: right;\n",
       "    }\n",
       "</style>\n",
       "<table border=\"1\" class=\"dataframe\">\n",
       "  <thead>\n",
       "    <tr style=\"text-align: right;\">\n",
       "      <th></th>\n",
       "      <th>StichtagDatJahr</th>\n",
       "      <th>TodesursacheSpezSort</th>\n",
       "      <th>AlterVSort_Num</th>\n",
       "      <th>AnzSterWir</th>\n",
       "    </tr>\n",
       "  </thead>\n",
       "  <tbody>\n",
       "    <tr>\n",
       "      <th>count</th>\n",
       "      <td>1211</td>\n",
       "      <td>1211</td>\n",
       "      <td>1211</td>\n",
       "      <td>1211</td>\n",
       "    </tr>\n",
       "    <tr>\n",
       "      <th>mean</th>\n",
       "      <td>2007</td>\n",
       "      <td>703</td>\n",
       "      <td>3</td>\n",
       "      <td>74</td>\n",
       "    </tr>\n",
       "    <tr>\n",
       "      <th>std</th>\n",
       "      <td>7</td>\n",
       "      <td>381</td>\n",
       "      <td>1</td>\n",
       "      <td>97</td>\n",
       "    </tr>\n",
       "    <tr>\n",
       "      <th>min</th>\n",
       "      <td>1995</td>\n",
       "      <td>200</td>\n",
       "      <td>1</td>\n",
       "      <td>1</td>\n",
       "    </tr>\n",
       "    <tr>\n",
       "      <th>25%</th>\n",
       "      <td>2001</td>\n",
       "      <td>400</td>\n",
       "      <td>2</td>\n",
       "      <td>11</td>\n",
       "    </tr>\n",
       "    <tr>\n",
       "      <th>50%</th>\n",
       "      <td>2007</td>\n",
       "      <td>600</td>\n",
       "      <td>3</td>\n",
       "      <td>38</td>\n",
       "    </tr>\n",
       "    <tr>\n",
       "      <th>75%</th>\n",
       "      <td>2013</td>\n",
       "      <td>1100</td>\n",
       "      <td>4</td>\n",
       "      <td>89</td>\n",
       "    </tr>\n",
       "    <tr>\n",
       "      <th>max</th>\n",
       "      <td>2019</td>\n",
       "      <td>1200</td>\n",
       "      <td>5</td>\n",
       "      <td>626</td>\n",
       "    </tr>\n",
       "  </tbody>\n",
       "</table>\n",
       "</div>"
      ],
      "text/plain": [
       "       StichtagDatJahr  TodesursacheSpezSort  AlterVSort_Num  AnzSterWir\n",
       "count             1211                  1211            1211        1211\n",
       "mean              2007                   703               3          74\n",
       "std                  7                   381               1          97\n",
       "min               1995                   200               1           1\n",
       "25%               2001                   400               2          11\n",
       "50%               2007                   600               3          38\n",
       "75%               2013                  1100               4          89\n",
       "max               2019                  1200               5         626"
      ]
     },
     "execution_count": 12,
     "metadata": {},
     "output_type": "execute_result"
    }
   ],
   "source": [
    "data2betested.describe()"
   ]
  },
  {
   "cell_type": "markdown",
   "metadata": {},
   "source": [
    "Wie viele Nullwerte gibt es im Datensatz?"
   ]
  },
  {
   "cell_type": "code",
   "execution_count": 13,
   "metadata": {
    "scrolled": true
   },
   "outputs": [
    {
     "data": {
      "text/plain": [
       "StichtagDatJahr         0\n",
       "TodesursacheSpezSort    0\n",
       "TodesursacheSpezLang    0\n",
       "AlterVSort_Num          0\n",
       "AlterVSort_Nam          0\n",
       "AnzSterWir              0\n",
       "Geschlecht              0\n",
       "dtype: int64"
      ]
     },
     "execution_count": 13,
     "metadata": {},
     "output_type": "execute_result"
    }
   ],
   "source": [
    "data2betested.isnull().sum()"
   ]
  },
  {
   "cell_type": "markdown",
   "metadata": {},
   "source": [
    "Wandle die Spalte Jahr von Int zu **Datetime** um. Dies wird in den meisten Grafiken so benötigt."
   ]
  },
  {
   "cell_type": "code",
   "execution_count": 14,
   "metadata": {
    "scrolled": true
   },
   "outputs": [
    {
     "data": {
      "text/html": [
       "<div>\n",
       "<style scoped>\n",
       "    .dataframe tbody tr th:only-of-type {\n",
       "        vertical-align: middle;\n",
       "    }\n",
       "\n",
       "    .dataframe tbody tr th {\n",
       "        vertical-align: top;\n",
       "    }\n",
       "\n",
       "    .dataframe thead th {\n",
       "        text-align: right;\n",
       "    }\n",
       "</style>\n",
       "<table border=\"1\" class=\"dataframe\">\n",
       "  <thead>\n",
       "    <tr style=\"text-align: right;\">\n",
       "      <th></th>\n",
       "      <th>StichtagDatJahr</th>\n",
       "      <th>TodesursacheSpezSort</th>\n",
       "      <th>TodesursacheSpezLang</th>\n",
       "      <th>AlterVSort_Num</th>\n",
       "      <th>AlterVSort_Nam</th>\n",
       "      <th>AnzSterWir</th>\n",
       "      <th>Geschlecht</th>\n",
       "    </tr>\n",
       "  </thead>\n",
       "  <tbody>\n",
       "    <tr>\n",
       "      <th>0</th>\n",
       "      <td>1995-01-01</td>\n",
       "      <td>1200</td>\n",
       "      <td>Alle übrigen Todesursachen</td>\n",
       "      <td>1</td>\n",
       "      <td>0 – 14</td>\n",
       "      <td>12</td>\n",
       "      <td>Frauen</td>\n",
       "    </tr>\n",
       "    <tr>\n",
       "      <th>1</th>\n",
       "      <td>1995-01-01</td>\n",
       "      <td>1200</td>\n",
       "      <td>Alle übrigen Todesursachen</td>\n",
       "      <td>2</td>\n",
       "      <td>15 – 44</td>\n",
       "      <td>44</td>\n",
       "      <td>Frauen</td>\n",
       "    </tr>\n",
       "    <tr>\n",
       "      <th>2</th>\n",
       "      <td>1995-01-01</td>\n",
       "      <td>1200</td>\n",
       "      <td>Alle übrigen Todesursachen</td>\n",
       "      <td>3</td>\n",
       "      <td>45 – 64</td>\n",
       "      <td>38</td>\n",
       "      <td>Frauen</td>\n",
       "    </tr>\n",
       "    <tr>\n",
       "      <th>3</th>\n",
       "      <td>1995-01-01</td>\n",
       "      <td>1200</td>\n",
       "      <td>Alle übrigen Todesursachen</td>\n",
       "      <td>4</td>\n",
       "      <td>65 – 84</td>\n",
       "      <td>174</td>\n",
       "      <td>Frauen</td>\n",
       "    </tr>\n",
       "    <tr>\n",
       "      <th>4</th>\n",
       "      <td>1995-01-01</td>\n",
       "      <td>1200</td>\n",
       "      <td>Alle übrigen Todesursachen</td>\n",
       "      <td>5</td>\n",
       "      <td>85 und älter</td>\n",
       "      <td>149</td>\n",
       "      <td>Frauen</td>\n",
       "    </tr>\n",
       "    <tr>\n",
       "      <th>...</th>\n",
       "      <td>...</td>\n",
       "      <td>...</td>\n",
       "      <td>...</td>\n",
       "      <td>...</td>\n",
       "      <td>...</td>\n",
       "      <td>...</td>\n",
       "      <td>...</td>\n",
       "    </tr>\n",
       "    <tr>\n",
       "      <th>1206</th>\n",
       "      <td>2019-01-01</td>\n",
       "      <td>500</td>\n",
       "      <td>Kreislaufsystem</td>\n",
       "      <td>5</td>\n",
       "      <td>85 und älter</td>\n",
       "      <td>188</td>\n",
       "      <td>Männer</td>\n",
       "    </tr>\n",
       "    <tr>\n",
       "      <th>1207</th>\n",
       "      <td>2019-01-01</td>\n",
       "      <td>1100</td>\n",
       "      <td>Unfälle und Gewalteinwirkungen</td>\n",
       "      <td>2</td>\n",
       "      <td>15 – 44</td>\n",
       "      <td>31</td>\n",
       "      <td>Männer</td>\n",
       "    </tr>\n",
       "    <tr>\n",
       "      <th>1208</th>\n",
       "      <td>2019-01-01</td>\n",
       "      <td>1100</td>\n",
       "      <td>Unfälle und Gewalteinwirkungen</td>\n",
       "      <td>3</td>\n",
       "      <td>45 – 64</td>\n",
       "      <td>33</td>\n",
       "      <td>Männer</td>\n",
       "    </tr>\n",
       "    <tr>\n",
       "      <th>1209</th>\n",
       "      <td>2019-01-01</td>\n",
       "      <td>1100</td>\n",
       "      <td>Unfälle und Gewalteinwirkungen</td>\n",
       "      <td>4</td>\n",
       "      <td>65 – 84</td>\n",
       "      <td>25</td>\n",
       "      <td>Männer</td>\n",
       "    </tr>\n",
       "    <tr>\n",
       "      <th>1210</th>\n",
       "      <td>2019-01-01</td>\n",
       "      <td>1100</td>\n",
       "      <td>Unfälle und Gewalteinwirkungen</td>\n",
       "      <td>5</td>\n",
       "      <td>85 und älter</td>\n",
       "      <td>37</td>\n",
       "      <td>Männer</td>\n",
       "    </tr>\n",
       "  </tbody>\n",
       "</table>\n",
       "<p>1211 rows × 7 columns</p>\n",
       "</div>"
      ],
      "text/plain": [
       "     StichtagDatJahr  TodesursacheSpezSort            TodesursacheSpezLang  AlterVSort_Num  \\\n",
       "0         1995-01-01                  1200      Alle übrigen Todesursachen               1   \n",
       "1         1995-01-01                  1200      Alle übrigen Todesursachen               2   \n",
       "2         1995-01-01                  1200      Alle übrigen Todesursachen               3   \n",
       "3         1995-01-01                  1200      Alle übrigen Todesursachen               4   \n",
       "4         1995-01-01                  1200      Alle übrigen Todesursachen               5   \n",
       "...              ...                   ...                             ...             ...   \n",
       "1206      2019-01-01                   500                 Kreislaufsystem               5   \n",
       "1207      2019-01-01                  1100  Unfälle und Gewalteinwirkungen               2   \n",
       "1208      2019-01-01                  1100  Unfälle und Gewalteinwirkungen               3   \n",
       "1209      2019-01-01                  1100  Unfälle und Gewalteinwirkungen               4   \n",
       "1210      2019-01-01                  1100  Unfälle und Gewalteinwirkungen               5   \n",
       "\n",
       "     AlterVSort_Nam  AnzSterWir Geschlecht  \n",
       "0            0 – 14          12     Frauen  \n",
       "1           15 – 44          44     Frauen  \n",
       "2           45 – 64          38     Frauen  \n",
       "3           65 – 84         174     Frauen  \n",
       "4      85 und älter         149     Frauen  \n",
       "...             ...         ...        ...  \n",
       "1206   85 und älter         188     Männer  \n",
       "1207        15 – 44          31     Männer  \n",
       "1208        45 – 64          33     Männer  \n",
       "1209        65 – 84          25     Männer  \n",
       "1210   85 und älter          37     Männer  \n",
       "\n",
       "[1211 rows x 7 columns]"
      ]
     },
     "execution_count": 14,
     "metadata": {},
     "output_type": "execute_result"
    }
   ],
   "source": [
    "data2betested['StichtagDatJahr']=pd.to_datetime(data2betested['StichtagDatJahr'], format='%Y')\n",
    "\n",
    "#TO DO --> setze das Datum auf den 31.12. der Jahres.\n",
    "#test=data2betested[['StichtagDatJahr']].date().replace(month=12, day=31)\n",
    "\n",
    "data2betested"
   ]
  },
  {
   "cell_type": "markdown",
   "metadata": {},
   "source": [
    "Bereite die Daten für die Grafik unten vor"
   ]
  },
  {
   "cell_type": "code",
   "execution_count": 15,
   "metadata": {},
   "outputs": [
    {
     "data": {
      "text/plain": [
       "25"
      ]
     },
     "execution_count": 15,
     "metadata": {},
     "output_type": "execute_result"
    }
   ],
   "source": [
    "Jahre = data2betested.groupby(\"StichtagDatJahr\")\n",
    "len(Jahre)"
   ]
  },
  {
   "cell_type": "code",
   "execution_count": 16,
   "metadata": {},
   "outputs": [
    {
     "name": "stdout",
     "output_type": "stream",
     "text": [
      "1995-01-01 00:00:00 51\n",
      "1996-01-01 00:00:00 51\n",
      "1997-01-01 00:00:00 49\n",
      "1998-01-01 00:00:00 47\n",
      "1999-01-01 00:00:00 50\n",
      "2000-01-01 00:00:00 52\n",
      "2001-01-01 00:00:00 48\n",
      "2002-01-01 00:00:00 49\n",
      "2003-01-01 00:00:00 48\n",
      "2004-01-01 00:00:00 51\n",
      "2005-01-01 00:00:00 50\n",
      "2006-01-01 00:00:00 47\n",
      "2007-01-01 00:00:00 48\n",
      "2008-01-01 00:00:00 49\n",
      "2009-01-01 00:00:00 49\n",
      "2010-01-01 00:00:00 48\n",
      "2011-01-01 00:00:00 48\n",
      "2012-01-01 00:00:00 50\n",
      "2013-01-01 00:00:00 49\n",
      "2014-01-01 00:00:00 46\n",
      "2015-01-01 00:00:00 45\n",
      "2016-01-01 00:00:00 44\n",
      "2017-01-01 00:00:00 47\n",
      "2018-01-01 00:00:00 49\n",
      "2019-01-01 00:00:00 46\n"
     ]
    }
   ],
   "source": [
    "for key, group in Jahre:\n",
    "    print(key, len(group))\n"
   ]
  },
  {
   "cell_type": "code",
   "execution_count": 17,
   "metadata": {},
   "outputs": [],
   "source": [
    "#Hier nicht notwendig, da es keine Zeitangabe braucht.\n",
    "#myJahr = \"2020-01-01\"\n",
    "#aktuellesJahr=Jahre.get_group(myJahr)   \n",
    "#aktuellesJahr"
   ]
  },
  {
   "cell_type": "markdown",
   "metadata": {},
   "source": [
    "**Selektionen und Aggregationen**\n",
    "\n",
    "Check this [Doku](https://www.shanelynn.ie/summarising-aggregation-and-grouping-data-in-python-pandas/)"
   ]
  },
  {
   "cell_type": "markdown",
   "metadata": {},
   "source": [
    "Welche aggregierten Todesursachen gibt es überhaupt?"
   ]
  },
  {
   "cell_type": "code",
   "execution_count": 18,
   "metadata": {},
   "outputs": [
    {
     "data": {
      "text/plain": [
       "TodesursacheSpezSort  TodesursacheSpezLang          \n",
       "200                   Krebskrankheiten                  20493\n",
       "400                   Demenz                             7903\n",
       "500                   Kreislaufsystem                   31881\n",
       "600                   Atmungsorgane                      4731\n",
       "1100                  Unfälle und Gewalteinwirkungen     5481\n",
       "1200                  Alle übrigen Todesursachen        19229\n",
       "Name: AnzSterWir, dtype: int64"
      ]
     },
     "execution_count": 18,
     "metadata": {},
     "output_type": "execute_result"
    }
   ],
   "source": [
    "todesursachen= data2betested.groupby(['TodesursacheSpezSort','TodesursacheSpezLang'])['AnzSterWir'].sum()\n",
    "todesursachen\n",
    "# produces Pandas Series\n",
    "    #data2betested.groupby(['StichtagDatJahr', 'KonOGDSort'])['AnzBestWir'].sum()\n",
    "# Produces Pandas DataFrame\n",
    "    #data2betested.groupby(['StichtagDatJahr', 'KonOGDSort'])[['AnzBestWir']].sum()\n",
    "    "
   ]
  },
  {
   "cell_type": "code",
   "execution_count": 19,
   "metadata": {},
   "outputs": [],
   "source": [
    "#data2betested.dtypes"
   ]
  },
  {
   "cell_type": "code",
   "execution_count": 20,
   "metadata": {},
   "outputs": [
    {
     "data": {
      "text/html": [
       "<div>\n",
       "<style scoped>\n",
       "    .dataframe tbody tr th:only-of-type {\n",
       "        vertical-align: middle;\n",
       "    }\n",
       "\n",
       "    .dataframe tbody tr th {\n",
       "        vertical-align: top;\n",
       "    }\n",
       "\n",
       "    .dataframe thead th {\n",
       "        text-align: right;\n",
       "    }\n",
       "</style>\n",
       "<table border=\"1\" class=\"dataframe\">\n",
       "  <thead>\n",
       "    <tr style=\"text-align: right;\">\n",
       "      <th></th>\n",
       "      <th>StichtagDatJahr</th>\n",
       "      <th>TodesursacheSpezSort</th>\n",
       "      <th>TodesursacheSpezLang</th>\n",
       "      <th>AlterVSort_Num</th>\n",
       "      <th>AlterVSort_Nam</th>\n",
       "      <th>AnzSterWir</th>\n",
       "      <th>Geschlecht</th>\n",
       "    </tr>\n",
       "  </thead>\n",
       "  <tbody>\n",
       "    <tr>\n",
       "      <th>0</th>\n",
       "      <td>1995-01-01</td>\n",
       "      <td>1200</td>\n",
       "      <td>Alle übrigen Todesursachen</td>\n",
       "      <td>1</td>\n",
       "      <td>0 – 14</td>\n",
       "      <td>12</td>\n",
       "      <td>Frauen</td>\n",
       "    </tr>\n",
       "    <tr>\n",
       "      <th>1</th>\n",
       "      <td>1995-01-01</td>\n",
       "      <td>1200</td>\n",
       "      <td>Alle übrigen Todesursachen</td>\n",
       "      <td>2</td>\n",
       "      <td>15 – 44</td>\n",
       "      <td>44</td>\n",
       "      <td>Frauen</td>\n",
       "    </tr>\n",
       "    <tr>\n",
       "      <th>2</th>\n",
       "      <td>1995-01-01</td>\n",
       "      <td>1200</td>\n",
       "      <td>Alle übrigen Todesursachen</td>\n",
       "      <td>3</td>\n",
       "      <td>45 – 64</td>\n",
       "      <td>38</td>\n",
       "      <td>Frauen</td>\n",
       "    </tr>\n",
       "    <tr>\n",
       "      <th>3</th>\n",
       "      <td>1995-01-01</td>\n",
       "      <td>1200</td>\n",
       "      <td>Alle übrigen Todesursachen</td>\n",
       "      <td>4</td>\n",
       "      <td>65 – 84</td>\n",
       "      <td>174</td>\n",
       "      <td>Frauen</td>\n",
       "    </tr>\n",
       "    <tr>\n",
       "      <th>4</th>\n",
       "      <td>1995-01-01</td>\n",
       "      <td>1200</td>\n",
       "      <td>Alle übrigen Todesursachen</td>\n",
       "      <td>5</td>\n",
       "      <td>85 und älter</td>\n",
       "      <td>149</td>\n",
       "      <td>Frauen</td>\n",
       "    </tr>\n",
       "    <tr>\n",
       "      <th>...</th>\n",
       "      <td>...</td>\n",
       "      <td>...</td>\n",
       "      <td>...</td>\n",
       "      <td>...</td>\n",
       "      <td>...</td>\n",
       "      <td>...</td>\n",
       "      <td>...</td>\n",
       "    </tr>\n",
       "    <tr>\n",
       "      <th>1206</th>\n",
       "      <td>2019-01-01</td>\n",
       "      <td>500</td>\n",
       "      <td>Kreislaufsystem</td>\n",
       "      <td>5</td>\n",
       "      <td>85 und älter</td>\n",
       "      <td>188</td>\n",
       "      <td>Männer</td>\n",
       "    </tr>\n",
       "    <tr>\n",
       "      <th>1207</th>\n",
       "      <td>2019-01-01</td>\n",
       "      <td>1100</td>\n",
       "      <td>Unfälle und Gewalteinwirkungen</td>\n",
       "      <td>2</td>\n",
       "      <td>15 – 44</td>\n",
       "      <td>31</td>\n",
       "      <td>Männer</td>\n",
       "    </tr>\n",
       "    <tr>\n",
       "      <th>1208</th>\n",
       "      <td>2019-01-01</td>\n",
       "      <td>1100</td>\n",
       "      <td>Unfälle und Gewalteinwirkungen</td>\n",
       "      <td>3</td>\n",
       "      <td>45 – 64</td>\n",
       "      <td>33</td>\n",
       "      <td>Männer</td>\n",
       "    </tr>\n",
       "    <tr>\n",
       "      <th>1209</th>\n",
       "      <td>2019-01-01</td>\n",
       "      <td>1100</td>\n",
       "      <td>Unfälle und Gewalteinwirkungen</td>\n",
       "      <td>4</td>\n",
       "      <td>65 – 84</td>\n",
       "      <td>25</td>\n",
       "      <td>Männer</td>\n",
       "    </tr>\n",
       "    <tr>\n",
       "      <th>1210</th>\n",
       "      <td>2019-01-01</td>\n",
       "      <td>1100</td>\n",
       "      <td>Unfälle und Gewalteinwirkungen</td>\n",
       "      <td>5</td>\n",
       "      <td>85 und älter</td>\n",
       "      <td>37</td>\n",
       "      <td>Männer</td>\n",
       "    </tr>\n",
       "  </tbody>\n",
       "</table>\n",
       "<p>97 rows × 7 columns</p>\n",
       "</div>"
      ],
      "text/plain": [
       "     StichtagDatJahr  TodesursacheSpezSort            TodesursacheSpezLang  AlterVSort_Num  \\\n",
       "0         1995-01-01                  1200      Alle übrigen Todesursachen               1   \n",
       "1         1995-01-01                  1200      Alle übrigen Todesursachen               2   \n",
       "2         1995-01-01                  1200      Alle übrigen Todesursachen               3   \n",
       "3         1995-01-01                  1200      Alle übrigen Todesursachen               4   \n",
       "4         1995-01-01                  1200      Alle übrigen Todesursachen               5   \n",
       "...              ...                   ...                             ...             ...   \n",
       "1206      2019-01-01                   500                 Kreislaufsystem               5   \n",
       "1207      2019-01-01                  1100  Unfälle und Gewalteinwirkungen               2   \n",
       "1208      2019-01-01                  1100  Unfälle und Gewalteinwirkungen               3   \n",
       "1209      2019-01-01                  1100  Unfälle und Gewalteinwirkungen               4   \n",
       "1210      2019-01-01                  1100  Unfälle und Gewalteinwirkungen               5   \n",
       "\n",
       "     AlterVSort_Nam  AnzSterWir Geschlecht  \n",
       "0            0 – 14          12     Frauen  \n",
       "1           15 – 44          44     Frauen  \n",
       "2           45 – 64          38     Frauen  \n",
       "3           65 – 84         174     Frauen  \n",
       "4      85 und älter         149     Frauen  \n",
       "...             ...         ...        ...  \n",
       "1206   85 und älter         188     Männer  \n",
       "1207        15 – 44          31     Männer  \n",
       "1208        45 – 64          33     Männer  \n",
       "1209        65 – 84          25     Männer  \n",
       "1210   85 und älter          37     Männer  \n",
       "\n",
       "[97 rows x 7 columns]"
      ]
     },
     "execution_count": 20,
     "metadata": {},
     "output_type": "execute_result"
    }
   ],
   "source": [
    "mySelYears = data2betested[(data2betested.StichtagDatJahr == \"2019\") | (data2betested.StichtagDatJahr == \"1995\")]\n",
    "mySelYears"
   ]
  },
  {
   "cell_type": "markdown",
   "metadata": {},
   "source": [
    "### Daten in interaktiver Treemap zeigen\n",
    "Dazu gibt es eine sehr nützliche Webseite https://plotly.com/python/treemaps/\n",
    "Zu Farbskalen, siehe: https://plotly.com/python/builtin-colorscales/"
   ]
  },
  {
   "cell_type": "code",
   "execution_count": 58,
   "metadata": {},
   "outputs": [
    {
     "data": {
      "application/vnd.plotly.v1+json": {
       "config": {
        "plotlyServerURL": "https://plot.ly"
       },
       "data": [
        {
         "branchvalues": "total",
         "customdata": [
          [
           "Alle übrigen Todesursachen",
           1
          ],
          [
           "Alle übrigen Todesursachen",
           2
          ],
          [
           "Krebskrankheiten",
           2
          ],
          [
           "Alle übrigen Todesursachen",
           5
          ],
          [
           "Alle übrigen Todesursachen",
           12
          ],
          [
           "Atmungsorgane",
           2
          ],
          [
           "Krebskrankheiten",
           10
          ],
          [
           "Krebskrankheiten",
           4
          ],
          [
           "Kreislaufsystem",
           2
          ],
          [
           "Kreislaufsystem",
           4
          ],
          [
           "Unfälle und Gewalteinwirkungen",
           11
          ],
          [
           "Unfälle und Gewalteinwirkungen",
           31
          ],
          [
           "Alle übrigen Todesursachen",
           24
          ],
          [
           "Alle übrigen Todesursachen",
           59
          ],
          [
           "Atmungsorgane",
           4
          ],
          [
           "Atmungsorgane",
           9
          ],
          [
           "Krebskrankheiten",
           82
          ],
          [
           "Krebskrankheiten",
           71
          ],
          [
           "Kreislaufsystem",
           11
          ],
          [
           "Kreislaufsystem",
           29
          ],
          [
           "Unfälle und Gewalteinwirkungen",
           11
          ],
          [
           "Unfälle und Gewalteinwirkungen",
           33
          ],
          [
           "Alle übrigen Todesursachen",
           122
          ],
          [
           "Alle übrigen Todesursachen",
           168
          ],
          [
           "Atmungsorgane",
           46
          ],
          [
           "Atmungsorgane",
           40
          ],
          [
           "Demenz",
           57
          ],
          [
           "Demenz",
           30
          ],
          [
           "Krebskrankheiten",
           165
          ],
          [
           "Krebskrankheiten",
           186
          ],
          [
           "Kreislaufsystem",
           138
          ],
          [
           "Kreislaufsystem",
           150
          ],
          [
           "Unfälle und Gewalteinwirkungen",
           23
          ],
          [
           "Unfälle und Gewalteinwirkungen",
           25
          ],
          [
           "Alle übrigen Todesursachen",
           196
          ],
          [
           "Alle übrigen Todesursachen",
           109
          ],
          [
           "Atmungsorgane",
           60
          ],
          [
           "Atmungsorgane",
           43
          ],
          [
           "Demenz",
           235
          ],
          [
           "Demenz",
           74
          ],
          [
           "Krebskrankheiten",
           93
          ],
          [
           "Krebskrankheiten",
           82
          ],
          [
           "Kreislaufsystem",
           404
          ],
          [
           "Kreislaufsystem",
           188
          ],
          [
           "Unfälle und Gewalteinwirkungen",
           54
          ],
          [
           "Unfälle und Gewalteinwirkungen",
           37
          ],
          [
           "Alle übrigen Todesursachen",
           154.89080459770116
          ],
          [
           "Alle übrigen Todesursachen",
           124.95428571428572
          ],
          [
           "Atmungsorgane",
           51.214285714285715
          ],
          [
           "Atmungsorgane",
           38.369565217391305
          ],
          [
           "Demenz",
           200.25342465753425
          ],
          [
           "Demenz",
           61.30769230769231
          ],
          [
           "Krebskrankheiten",
           121.99428571428571
          ],
          [
           "Krebskrankheiten",
           134.4376811594203
          ],
          [
           "Kreislaufsystem",
           328.6216216216216
          ],
          [
           "Kreislaufsystem",
           158.22371967654988
          ],
          [
           "Unfälle und Gewalteinwirkungen",
           37.24242424242424
          ],
          [
           "Unfälle und Gewalteinwirkungen",
           32.095238095238095
          ],
          [
           "(?)",
           197.54100227790434
          ],
          [
           "(?)",
           117.26657060518733
          ],
          [
           "(?)",
           197.54100227790434
          ],
          [
           "(?)",
           117.26657060518733
          ],
          [
           "(?)",
           162.10178117048346
          ]
         ],
         "domain": {
          "x": [
           0,
           1
          ],
          "y": [
           0,
           1
          ]
         },
         "hovertemplate": "labels=%{label}<br>AnzSterWir_sum=%{value}<br>parent=%{parent}<br>id=%{id}<br>TodesursacheSpezLang=%{customdata[0]}<br>AnzSterWir=%{color}<extra></extra>",
         "ids": [
          "Todesursachen nach Geschlecht/Frauen/2019-01-01/Alle übrigen Todesursachen/0 – 14",
          "Todesursachen nach Geschlecht/Männer/2019-01-01/Alle übrigen Todesursachen/0 – 14",
          "Todesursachen nach Geschlecht/Männer/2019-01-01/Krebskrankheiten/0 – 14",
          "Todesursachen nach Geschlecht/Frauen/2019-01-01/Alle übrigen Todesursachen/15 – 44",
          "Todesursachen nach Geschlecht/Männer/2019-01-01/Alle übrigen Todesursachen/15 – 44",
          "Todesursachen nach Geschlecht/Frauen/2019-01-01/Atmungsorgane/15 – 44",
          "Todesursachen nach Geschlecht/Frauen/2019-01-01/Krebskrankheiten/15 – 44",
          "Todesursachen nach Geschlecht/Männer/2019-01-01/Krebskrankheiten/15 – 44",
          "Todesursachen nach Geschlecht/Frauen/2019-01-01/Kreislaufsystem/15 – 44",
          "Todesursachen nach Geschlecht/Männer/2019-01-01/Kreislaufsystem/15 – 44",
          "Todesursachen nach Geschlecht/Frauen/2019-01-01/Unfälle und Gewalteinwirkungen/15 – 44",
          "Todesursachen nach Geschlecht/Männer/2019-01-01/Unfälle und Gewalteinwirkungen/15 – 44",
          "Todesursachen nach Geschlecht/Frauen/2019-01-01/Alle übrigen Todesursachen/45 – 64",
          "Todesursachen nach Geschlecht/Männer/2019-01-01/Alle übrigen Todesursachen/45 – 64",
          "Todesursachen nach Geschlecht/Frauen/2019-01-01/Atmungsorgane/45 – 64",
          "Todesursachen nach Geschlecht/Männer/2019-01-01/Atmungsorgane/45 – 64",
          "Todesursachen nach Geschlecht/Frauen/2019-01-01/Krebskrankheiten/45 – 64",
          "Todesursachen nach Geschlecht/Männer/2019-01-01/Krebskrankheiten/45 – 64",
          "Todesursachen nach Geschlecht/Frauen/2019-01-01/Kreislaufsystem/45 – 64",
          "Todesursachen nach Geschlecht/Männer/2019-01-01/Kreislaufsystem/45 – 64",
          "Todesursachen nach Geschlecht/Frauen/2019-01-01/Unfälle und Gewalteinwirkungen/45 – 64",
          "Todesursachen nach Geschlecht/Männer/2019-01-01/Unfälle und Gewalteinwirkungen/45 – 64",
          "Todesursachen nach Geschlecht/Frauen/2019-01-01/Alle übrigen Todesursachen/65 – 84",
          "Todesursachen nach Geschlecht/Männer/2019-01-01/Alle übrigen Todesursachen/65 – 84",
          "Todesursachen nach Geschlecht/Frauen/2019-01-01/Atmungsorgane/65 – 84",
          "Todesursachen nach Geschlecht/Männer/2019-01-01/Atmungsorgane/65 – 84",
          "Todesursachen nach Geschlecht/Frauen/2019-01-01/Demenz/65 – 84",
          "Todesursachen nach Geschlecht/Männer/2019-01-01/Demenz/65 – 84",
          "Todesursachen nach Geschlecht/Frauen/2019-01-01/Krebskrankheiten/65 – 84",
          "Todesursachen nach Geschlecht/Männer/2019-01-01/Krebskrankheiten/65 – 84",
          "Todesursachen nach Geschlecht/Frauen/2019-01-01/Kreislaufsystem/65 – 84",
          "Todesursachen nach Geschlecht/Männer/2019-01-01/Kreislaufsystem/65 – 84",
          "Todesursachen nach Geschlecht/Frauen/2019-01-01/Unfälle und Gewalteinwirkungen/65 – 84",
          "Todesursachen nach Geschlecht/Männer/2019-01-01/Unfälle und Gewalteinwirkungen/65 – 84",
          "Todesursachen nach Geschlecht/Frauen/2019-01-01/Alle übrigen Todesursachen/85 und älter",
          "Todesursachen nach Geschlecht/Männer/2019-01-01/Alle übrigen Todesursachen/85 und älter",
          "Todesursachen nach Geschlecht/Frauen/2019-01-01/Atmungsorgane/85 und älter",
          "Todesursachen nach Geschlecht/Männer/2019-01-01/Atmungsorgane/85 und älter",
          "Todesursachen nach Geschlecht/Frauen/2019-01-01/Demenz/85 und älter",
          "Todesursachen nach Geschlecht/Männer/2019-01-01/Demenz/85 und älter",
          "Todesursachen nach Geschlecht/Frauen/2019-01-01/Krebskrankheiten/85 und älter",
          "Todesursachen nach Geschlecht/Männer/2019-01-01/Krebskrankheiten/85 und älter",
          "Todesursachen nach Geschlecht/Frauen/2019-01-01/Kreislaufsystem/85 und älter",
          "Todesursachen nach Geschlecht/Männer/2019-01-01/Kreislaufsystem/85 und älter",
          "Todesursachen nach Geschlecht/Frauen/2019-01-01/Unfälle und Gewalteinwirkungen/85 und älter",
          "Todesursachen nach Geschlecht/Männer/2019-01-01/Unfälle und Gewalteinwirkungen/85 und älter",
          "Todesursachen nach Geschlecht/Frauen/2019-01-01/Alle übrigen Todesursachen",
          "Todesursachen nach Geschlecht/Männer/2019-01-01/Alle übrigen Todesursachen",
          "Todesursachen nach Geschlecht/Frauen/2019-01-01/Atmungsorgane",
          "Todesursachen nach Geschlecht/Männer/2019-01-01/Atmungsorgane",
          "Todesursachen nach Geschlecht/Frauen/2019-01-01/Demenz",
          "Todesursachen nach Geschlecht/Männer/2019-01-01/Demenz",
          "Todesursachen nach Geschlecht/Frauen/2019-01-01/Krebskrankheiten",
          "Todesursachen nach Geschlecht/Männer/2019-01-01/Krebskrankheiten",
          "Todesursachen nach Geschlecht/Frauen/2019-01-01/Kreislaufsystem",
          "Todesursachen nach Geschlecht/Männer/2019-01-01/Kreislaufsystem",
          "Todesursachen nach Geschlecht/Frauen/2019-01-01/Unfälle und Gewalteinwirkungen",
          "Todesursachen nach Geschlecht/Männer/2019-01-01/Unfälle und Gewalteinwirkungen",
          "Todesursachen nach Geschlecht/Frauen/2019-01-01",
          "Todesursachen nach Geschlecht/Männer/2019-01-01",
          "Todesursachen nach Geschlecht/Frauen",
          "Todesursachen nach Geschlecht/Männer",
          "Todesursachen nach Geschlecht"
         ],
         "labels": [
          "0 – 14",
          "0 – 14",
          "0 – 14",
          "15 – 44",
          "15 – 44",
          "15 – 44",
          "15 – 44",
          "15 – 44",
          "15 – 44",
          "15 – 44",
          "15 – 44",
          "15 – 44",
          "45 – 64",
          "45 – 64",
          "45 – 64",
          "45 – 64",
          "45 – 64",
          "45 – 64",
          "45 – 64",
          "45 – 64",
          "45 – 64",
          "45 – 64",
          "65 – 84",
          "65 – 84",
          "65 – 84",
          "65 – 84",
          "65 – 84",
          "65 – 84",
          "65 – 84",
          "65 – 84",
          "65 – 84",
          "65 – 84",
          "65 – 84",
          "65 – 84",
          "85 und älter",
          "85 und älter",
          "85 und älter",
          "85 und älter",
          "85 und älter",
          "85 und älter",
          "85 und älter",
          "85 und älter",
          "85 und älter",
          "85 und älter",
          "85 und älter",
          "85 und älter",
          "Alle übrigen Todesursachen",
          "Alle übrigen Todesursachen",
          "Atmungsorgane",
          "Atmungsorgane",
          "Demenz",
          "Demenz",
          "Krebskrankheiten",
          "Krebskrankheiten",
          "Kreislaufsystem",
          "Kreislaufsystem",
          "Unfälle und Gewalteinwirkungen",
          "Unfälle und Gewalteinwirkungen",
          "2019-01-01",
          "2019-01-01",
          "Frauen",
          "Männer",
          "Todesursachen nach Geschlecht"
         ],
         "marker": {
          "coloraxis": "coloraxis",
          "colors": [
           1,
           2,
           2,
           5,
           12,
           2,
           10,
           4,
           2,
           4,
           11,
           31,
           24,
           59,
           4,
           9,
           82,
           71,
           11,
           29,
           11,
           33,
           122,
           168,
           46,
           40,
           57,
           30,
           165,
           186,
           138,
           150,
           23,
           25,
           196,
           109,
           60,
           43,
           235,
           74,
           93,
           82,
           404,
           188,
           54,
           37,
           154.89080459770116,
           124.95428571428572,
           51.214285714285715,
           38.369565217391305,
           200.25342465753425,
           61.30769230769231,
           121.99428571428571,
           134.4376811594203,
           328.6216216216216,
           158.22371967654988,
           37.24242424242424,
           32.095238095238095,
           197.54100227790434,
           117.26657060518733,
           197.54100227790434,
           117.26657060518733,
           162.10178117048346
          ]
         },
         "name": "",
         "parents": [
          "Todesursachen nach Geschlecht/Frauen/2019-01-01/Alle übrigen Todesursachen",
          "Todesursachen nach Geschlecht/Männer/2019-01-01/Alle übrigen Todesursachen",
          "Todesursachen nach Geschlecht/Männer/2019-01-01/Krebskrankheiten",
          "Todesursachen nach Geschlecht/Frauen/2019-01-01/Alle übrigen Todesursachen",
          "Todesursachen nach Geschlecht/Männer/2019-01-01/Alle übrigen Todesursachen",
          "Todesursachen nach Geschlecht/Frauen/2019-01-01/Atmungsorgane",
          "Todesursachen nach Geschlecht/Frauen/2019-01-01/Krebskrankheiten",
          "Todesursachen nach Geschlecht/Männer/2019-01-01/Krebskrankheiten",
          "Todesursachen nach Geschlecht/Frauen/2019-01-01/Kreislaufsystem",
          "Todesursachen nach Geschlecht/Männer/2019-01-01/Kreislaufsystem",
          "Todesursachen nach Geschlecht/Frauen/2019-01-01/Unfälle und Gewalteinwirkungen",
          "Todesursachen nach Geschlecht/Männer/2019-01-01/Unfälle und Gewalteinwirkungen",
          "Todesursachen nach Geschlecht/Frauen/2019-01-01/Alle übrigen Todesursachen",
          "Todesursachen nach Geschlecht/Männer/2019-01-01/Alle übrigen Todesursachen",
          "Todesursachen nach Geschlecht/Frauen/2019-01-01/Atmungsorgane",
          "Todesursachen nach Geschlecht/Männer/2019-01-01/Atmungsorgane",
          "Todesursachen nach Geschlecht/Frauen/2019-01-01/Krebskrankheiten",
          "Todesursachen nach Geschlecht/Männer/2019-01-01/Krebskrankheiten",
          "Todesursachen nach Geschlecht/Frauen/2019-01-01/Kreislaufsystem",
          "Todesursachen nach Geschlecht/Männer/2019-01-01/Kreislaufsystem",
          "Todesursachen nach Geschlecht/Frauen/2019-01-01/Unfälle und Gewalteinwirkungen",
          "Todesursachen nach Geschlecht/Männer/2019-01-01/Unfälle und Gewalteinwirkungen",
          "Todesursachen nach Geschlecht/Frauen/2019-01-01/Alle übrigen Todesursachen",
          "Todesursachen nach Geschlecht/Männer/2019-01-01/Alle übrigen Todesursachen",
          "Todesursachen nach Geschlecht/Frauen/2019-01-01/Atmungsorgane",
          "Todesursachen nach Geschlecht/Männer/2019-01-01/Atmungsorgane",
          "Todesursachen nach Geschlecht/Frauen/2019-01-01/Demenz",
          "Todesursachen nach Geschlecht/Männer/2019-01-01/Demenz",
          "Todesursachen nach Geschlecht/Frauen/2019-01-01/Krebskrankheiten",
          "Todesursachen nach Geschlecht/Männer/2019-01-01/Krebskrankheiten",
          "Todesursachen nach Geschlecht/Frauen/2019-01-01/Kreislaufsystem",
          "Todesursachen nach Geschlecht/Männer/2019-01-01/Kreislaufsystem",
          "Todesursachen nach Geschlecht/Frauen/2019-01-01/Unfälle und Gewalteinwirkungen",
          "Todesursachen nach Geschlecht/Männer/2019-01-01/Unfälle und Gewalteinwirkungen",
          "Todesursachen nach Geschlecht/Frauen/2019-01-01/Alle übrigen Todesursachen",
          "Todesursachen nach Geschlecht/Männer/2019-01-01/Alle übrigen Todesursachen",
          "Todesursachen nach Geschlecht/Frauen/2019-01-01/Atmungsorgane",
          "Todesursachen nach Geschlecht/Männer/2019-01-01/Atmungsorgane",
          "Todesursachen nach Geschlecht/Frauen/2019-01-01/Demenz",
          "Todesursachen nach Geschlecht/Männer/2019-01-01/Demenz",
          "Todesursachen nach Geschlecht/Frauen/2019-01-01/Krebskrankheiten",
          "Todesursachen nach Geschlecht/Männer/2019-01-01/Krebskrankheiten",
          "Todesursachen nach Geschlecht/Frauen/2019-01-01/Kreislaufsystem",
          "Todesursachen nach Geschlecht/Männer/2019-01-01/Kreislaufsystem",
          "Todesursachen nach Geschlecht/Frauen/2019-01-01/Unfälle und Gewalteinwirkungen",
          "Todesursachen nach Geschlecht/Männer/2019-01-01/Unfälle und Gewalteinwirkungen",
          "Todesursachen nach Geschlecht/Frauen/2019-01-01",
          "Todesursachen nach Geschlecht/Männer/2019-01-01",
          "Todesursachen nach Geschlecht/Frauen/2019-01-01",
          "Todesursachen nach Geschlecht/Männer/2019-01-01",
          "Todesursachen nach Geschlecht/Frauen/2019-01-01",
          "Todesursachen nach Geschlecht/Männer/2019-01-01",
          "Todesursachen nach Geschlecht/Frauen/2019-01-01",
          "Todesursachen nach Geschlecht/Männer/2019-01-01",
          "Todesursachen nach Geschlecht/Frauen/2019-01-01",
          "Todesursachen nach Geschlecht/Männer/2019-01-01",
          "Todesursachen nach Geschlecht/Frauen/2019-01-01",
          "Todesursachen nach Geschlecht/Männer/2019-01-01",
          "Todesursachen nach Geschlecht/Frauen",
          "Todesursachen nach Geschlecht/Männer",
          "Todesursachen nach Geschlecht",
          "Todesursachen nach Geschlecht",
          ""
         ],
         "root": {
          "color": "lightgrey"
         },
         "type": "treemap",
         "values": [
          1,
          2,
          2,
          5,
          12,
          2,
          10,
          4,
          2,
          4,
          11,
          31,
          24,
          59,
          4,
          9,
          82,
          71,
          11,
          29,
          11,
          33,
          122,
          168,
          46,
          40,
          57,
          30,
          165,
          186,
          138,
          150,
          23,
          25,
          196,
          109,
          60,
          43,
          235,
          74,
          93,
          82,
          404,
          188,
          54,
          37,
          348,
          350,
          112,
          92,
          292,
          104,
          350,
          345,
          555,
          371,
          99,
          126,
          1756,
          1388,
          1756,
          1388,
          3144
         ]
        }
       ],
       "layout": {
        "autosize": true,
        "coloraxis": {
         "colorbar": {
          "title": {
           "text": "AnzSterWir"
          }
         },
         "colorscale": [
          [
           0,
           "rgb(255,255,255)"
          ],
          [
           0.125,
           "rgb(240,240,240)"
          ],
          [
           0.25,
           "rgb(217,217,217)"
          ],
          [
           0.375,
           "rgb(189,189,189)"
          ],
          [
           0.5,
           "rgb(150,150,150)"
          ],
          [
           0.625,
           "rgb(115,115,115)"
          ],
          [
           0.75,
           "rgb(82,82,82)"
          ],
          [
           0.875,
           "rgb(37,37,37)"
          ],
          [
           1,
           "rgb(0, 0, 0)"
          ]
         ]
        },
        "legend": {
         "tracegroupgap": 0
        },
        "margin": {
         "b": 25,
         "l": 25,
         "r": 250,
         "t": 50
        },
        "template": {
         "data": {
          "bar": [
           {
            "error_x": {
             "color": "#2a3f5f"
            },
            "error_y": {
             "color": "#2a3f5f"
            },
            "marker": {
             "line": {
              "color": "#E5ECF6",
              "width": 0.5
             },
             "pattern": {
              "fillmode": "overlay",
              "size": 10,
              "solidity": 0.2
             }
            },
            "type": "bar"
           }
          ],
          "barpolar": [
           {
            "marker": {
             "line": {
              "color": "#E5ECF6",
              "width": 0.5
             },
             "pattern": {
              "fillmode": "overlay",
              "size": 10,
              "solidity": 0.2
             }
            },
            "type": "barpolar"
           }
          ],
          "carpet": [
           {
            "aaxis": {
             "endlinecolor": "#2a3f5f",
             "gridcolor": "white",
             "linecolor": "white",
             "minorgridcolor": "white",
             "startlinecolor": "#2a3f5f"
            },
            "baxis": {
             "endlinecolor": "#2a3f5f",
             "gridcolor": "white",
             "linecolor": "white",
             "minorgridcolor": "white",
             "startlinecolor": "#2a3f5f"
            },
            "type": "carpet"
           }
          ],
          "choropleth": [
           {
            "colorbar": {
             "outlinewidth": 0,
             "ticks": ""
            },
            "type": "choropleth"
           }
          ],
          "contour": [
           {
            "colorbar": {
             "outlinewidth": 0,
             "ticks": ""
            },
            "colorscale": [
             [
              0,
              "#0d0887"
             ],
             [
              0.1111111111111111,
              "#46039f"
             ],
             [
              0.2222222222222222,
              "#7201a8"
             ],
             [
              0.3333333333333333,
              "#9c179e"
             ],
             [
              0.4444444444444444,
              "#bd3786"
             ],
             [
              0.5555555555555556,
              "#d8576b"
             ],
             [
              0.6666666666666666,
              "#ed7953"
             ],
             [
              0.7777777777777778,
              "#fb9f3a"
             ],
             [
              0.8888888888888888,
              "#fdca26"
             ],
             [
              1,
              "#f0f921"
             ]
            ],
            "type": "contour"
           }
          ],
          "contourcarpet": [
           {
            "colorbar": {
             "outlinewidth": 0,
             "ticks": ""
            },
            "type": "contourcarpet"
           }
          ],
          "heatmap": [
           {
            "colorbar": {
             "outlinewidth": 0,
             "ticks": ""
            },
            "colorscale": [
             [
              0,
              "#0d0887"
             ],
             [
              0.1111111111111111,
              "#46039f"
             ],
             [
              0.2222222222222222,
              "#7201a8"
             ],
             [
              0.3333333333333333,
              "#9c179e"
             ],
             [
              0.4444444444444444,
              "#bd3786"
             ],
             [
              0.5555555555555556,
              "#d8576b"
             ],
             [
              0.6666666666666666,
              "#ed7953"
             ],
             [
              0.7777777777777778,
              "#fb9f3a"
             ],
             [
              0.8888888888888888,
              "#fdca26"
             ],
             [
              1,
              "#f0f921"
             ]
            ],
            "type": "heatmap"
           }
          ],
          "heatmapgl": [
           {
            "colorbar": {
             "outlinewidth": 0,
             "ticks": ""
            },
            "colorscale": [
             [
              0,
              "#0d0887"
             ],
             [
              0.1111111111111111,
              "#46039f"
             ],
             [
              0.2222222222222222,
              "#7201a8"
             ],
             [
              0.3333333333333333,
              "#9c179e"
             ],
             [
              0.4444444444444444,
              "#bd3786"
             ],
             [
              0.5555555555555556,
              "#d8576b"
             ],
             [
              0.6666666666666666,
              "#ed7953"
             ],
             [
              0.7777777777777778,
              "#fb9f3a"
             ],
             [
              0.8888888888888888,
              "#fdca26"
             ],
             [
              1,
              "#f0f921"
             ]
            ],
            "type": "heatmapgl"
           }
          ],
          "histogram": [
           {
            "marker": {
             "pattern": {
              "fillmode": "overlay",
              "size": 10,
              "solidity": 0.2
             }
            },
            "type": "histogram"
           }
          ],
          "histogram2d": [
           {
            "colorbar": {
             "outlinewidth": 0,
             "ticks": ""
            },
            "colorscale": [
             [
              0,
              "#0d0887"
             ],
             [
              0.1111111111111111,
              "#46039f"
             ],
             [
              0.2222222222222222,
              "#7201a8"
             ],
             [
              0.3333333333333333,
              "#9c179e"
             ],
             [
              0.4444444444444444,
              "#bd3786"
             ],
             [
              0.5555555555555556,
              "#d8576b"
             ],
             [
              0.6666666666666666,
              "#ed7953"
             ],
             [
              0.7777777777777778,
              "#fb9f3a"
             ],
             [
              0.8888888888888888,
              "#fdca26"
             ],
             [
              1,
              "#f0f921"
             ]
            ],
            "type": "histogram2d"
           }
          ],
          "histogram2dcontour": [
           {
            "colorbar": {
             "outlinewidth": 0,
             "ticks": ""
            },
            "colorscale": [
             [
              0,
              "#0d0887"
             ],
             [
              0.1111111111111111,
              "#46039f"
             ],
             [
              0.2222222222222222,
              "#7201a8"
             ],
             [
              0.3333333333333333,
              "#9c179e"
             ],
             [
              0.4444444444444444,
              "#bd3786"
             ],
             [
              0.5555555555555556,
              "#d8576b"
             ],
             [
              0.6666666666666666,
              "#ed7953"
             ],
             [
              0.7777777777777778,
              "#fb9f3a"
             ],
             [
              0.8888888888888888,
              "#fdca26"
             ],
             [
              1,
              "#f0f921"
             ]
            ],
            "type": "histogram2dcontour"
           }
          ],
          "mesh3d": [
           {
            "colorbar": {
             "outlinewidth": 0,
             "ticks": ""
            },
            "type": "mesh3d"
           }
          ],
          "parcoords": [
           {
            "line": {
             "colorbar": {
              "outlinewidth": 0,
              "ticks": ""
             }
            },
            "type": "parcoords"
           }
          ],
          "pie": [
           {
            "automargin": true,
            "type": "pie"
           }
          ],
          "scatter": [
           {
            "marker": {
             "colorbar": {
              "outlinewidth": 0,
              "ticks": ""
             }
            },
            "type": "scatter"
           }
          ],
          "scatter3d": [
           {
            "line": {
             "colorbar": {
              "outlinewidth": 0,
              "ticks": ""
             }
            },
            "marker": {
             "colorbar": {
              "outlinewidth": 0,
              "ticks": ""
             }
            },
            "type": "scatter3d"
           }
          ],
          "scattercarpet": [
           {
            "marker": {
             "colorbar": {
              "outlinewidth": 0,
              "ticks": ""
             }
            },
            "type": "scattercarpet"
           }
          ],
          "scattergeo": [
           {
            "marker": {
             "colorbar": {
              "outlinewidth": 0,
              "ticks": ""
             }
            },
            "type": "scattergeo"
           }
          ],
          "scattergl": [
           {
            "marker": {
             "colorbar": {
              "outlinewidth": 0,
              "ticks": ""
             }
            },
            "type": "scattergl"
           }
          ],
          "scattermapbox": [
           {
            "marker": {
             "colorbar": {
              "outlinewidth": 0,
              "ticks": ""
             }
            },
            "type": "scattermapbox"
           }
          ],
          "scatterpolar": [
           {
            "marker": {
             "colorbar": {
              "outlinewidth": 0,
              "ticks": ""
             }
            },
            "type": "scatterpolar"
           }
          ],
          "scatterpolargl": [
           {
            "marker": {
             "colorbar": {
              "outlinewidth": 0,
              "ticks": ""
             }
            },
            "type": "scatterpolargl"
           }
          ],
          "scatterternary": [
           {
            "marker": {
             "colorbar": {
              "outlinewidth": 0,
              "ticks": ""
             }
            },
            "type": "scatterternary"
           }
          ],
          "surface": [
           {
            "colorbar": {
             "outlinewidth": 0,
             "ticks": ""
            },
            "colorscale": [
             [
              0,
              "#0d0887"
             ],
             [
              0.1111111111111111,
              "#46039f"
             ],
             [
              0.2222222222222222,
              "#7201a8"
             ],
             [
              0.3333333333333333,
              "#9c179e"
             ],
             [
              0.4444444444444444,
              "#bd3786"
             ],
             [
              0.5555555555555556,
              "#d8576b"
             ],
             [
              0.6666666666666666,
              "#ed7953"
             ],
             [
              0.7777777777777778,
              "#fb9f3a"
             ],
             [
              0.8888888888888888,
              "#fdca26"
             ],
             [
              1,
              "#f0f921"
             ]
            ],
            "type": "surface"
           }
          ],
          "table": [
           {
            "cells": {
             "fill": {
              "color": "#EBF0F8"
             },
             "line": {
              "color": "white"
             }
            },
            "header": {
             "fill": {
              "color": "#C8D4E3"
             },
             "line": {
              "color": "white"
             }
            },
            "type": "table"
           }
          ]
         },
         "layout": {
          "annotationdefaults": {
           "arrowcolor": "#2a3f5f",
           "arrowhead": 0,
           "arrowwidth": 1
          },
          "autotypenumbers": "strict",
          "coloraxis": {
           "colorbar": {
            "outlinewidth": 0,
            "ticks": ""
           }
          },
          "colorscale": {
           "diverging": [
            [
             0,
             "#8e0152"
            ],
            [
             0.1,
             "#c51b7d"
            ],
            [
             0.2,
             "#de77ae"
            ],
            [
             0.3,
             "#f1b6da"
            ],
            [
             0.4,
             "#fde0ef"
            ],
            [
             0.5,
             "#f7f7f7"
            ],
            [
             0.6,
             "#e6f5d0"
            ],
            [
             0.7,
             "#b8e186"
            ],
            [
             0.8,
             "#7fbc41"
            ],
            [
             0.9,
             "#4d9221"
            ],
            [
             1,
             "#276419"
            ]
           ],
           "sequential": [
            [
             0,
             "#0d0887"
            ],
            [
             0.1111111111111111,
             "#46039f"
            ],
            [
             0.2222222222222222,
             "#7201a8"
            ],
            [
             0.3333333333333333,
             "#9c179e"
            ],
            [
             0.4444444444444444,
             "#bd3786"
            ],
            [
             0.5555555555555556,
             "#d8576b"
            ],
            [
             0.6666666666666666,
             "#ed7953"
            ],
            [
             0.7777777777777778,
             "#fb9f3a"
            ],
            [
             0.8888888888888888,
             "#fdca26"
            ],
            [
             1,
             "#f0f921"
            ]
           ],
           "sequentialminus": [
            [
             0,
             "#0d0887"
            ],
            [
             0.1111111111111111,
             "#46039f"
            ],
            [
             0.2222222222222222,
             "#7201a8"
            ],
            [
             0.3333333333333333,
             "#9c179e"
            ],
            [
             0.4444444444444444,
             "#bd3786"
            ],
            [
             0.5555555555555556,
             "#d8576b"
            ],
            [
             0.6666666666666666,
             "#ed7953"
            ],
            [
             0.7777777777777778,
             "#fb9f3a"
            ],
            [
             0.8888888888888888,
             "#fdca26"
            ],
            [
             1,
             "#f0f921"
            ]
           ]
          },
          "colorway": [
           "#636efa",
           "#EF553B",
           "#00cc96",
           "#ab63fa",
           "#FFA15A",
           "#19d3f3",
           "#FF6692",
           "#B6E880",
           "#FF97FF",
           "#FECB52"
          ],
          "font": {
           "color": "#2a3f5f"
          },
          "geo": {
           "bgcolor": "white",
           "lakecolor": "white",
           "landcolor": "#E5ECF6",
           "showlakes": true,
           "showland": true,
           "subunitcolor": "white"
          },
          "hoverlabel": {
           "align": "left"
          },
          "hovermode": "closest",
          "mapbox": {
           "style": "light"
          },
          "paper_bgcolor": "white",
          "plot_bgcolor": "#E5ECF6",
          "polar": {
           "angularaxis": {
            "gridcolor": "white",
            "linecolor": "white",
            "ticks": ""
           },
           "bgcolor": "#E5ECF6",
           "radialaxis": {
            "gridcolor": "white",
            "linecolor": "white",
            "ticks": ""
           }
          },
          "scene": {
           "xaxis": {
            "backgroundcolor": "#E5ECF6",
            "gridcolor": "white",
            "gridwidth": 2,
            "linecolor": "white",
            "showbackground": true,
            "ticks": "",
            "zerolinecolor": "white"
           },
           "yaxis": {
            "backgroundcolor": "#E5ECF6",
            "gridcolor": "white",
            "gridwidth": 2,
            "linecolor": "white",
            "showbackground": true,
            "ticks": "",
            "zerolinecolor": "white"
           },
           "zaxis": {
            "backgroundcolor": "#E5ECF6",
            "gridcolor": "white",
            "gridwidth": 2,
            "linecolor": "white",
            "showbackground": true,
            "ticks": "",
            "zerolinecolor": "white"
           }
          },
          "shapedefaults": {
           "line": {
            "color": "#2a3f5f"
           }
          },
          "ternary": {
           "aaxis": {
            "gridcolor": "white",
            "linecolor": "white",
            "ticks": ""
           },
           "baxis": {
            "gridcolor": "white",
            "linecolor": "white",
            "ticks": ""
           },
           "bgcolor": "#E5ECF6",
           "caxis": {
            "gridcolor": "white",
            "linecolor": "white",
            "ticks": ""
           }
          },
          "title": {
           "x": 0.05
          },
          "xaxis": {
           "automargin": true,
           "gridcolor": "white",
           "linecolor": "white",
           "ticks": "",
           "title": {
            "standoff": 15
           },
           "zerolinecolor": "white",
           "zerolinewidth": 2
          },
          "yaxis": {
           "automargin": true,
           "gridcolor": "white",
           "linecolor": "white",
           "ticks": "",
           "title": {
            "standoff": 15
           },
           "zerolinecolor": "white",
           "zerolinewidth": 2
          }
         }
        }
       }
      },
      "image/png": "[encoded data removed]",
      "text/html": [
       "<div>                            <div id=\"e1084243-7b73-4ae6-9b1a-743773fd37e9\" class=\"plotly-graph-div\" style=\"height:525px; width:100%;\"></div>            <script type=\"text/javascript\">                require([\"plotly\"], function(Plotly) {                    window.PLOTLYENV=window.PLOTLYENV || {};                                    if (document.getElementById(\"e1084243-7b73-4ae6-9b1a-743773fd37e9\")) {                    Plotly.newPlot(                        \"e1084243-7b73-4ae6-9b1a-743773fd37e9\",                        [{\"branchvalues\":\"total\",\"customdata\":[[\"Alle \\u00fcbrigen Todesursachen\",1.0],[\"Alle \\u00fcbrigen Todesursachen\",2.0],[\"Krebskrankheiten\",2.0],[\"Alle \\u00fcbrigen Todesursachen\",5.0],[\"Alle \\u00fcbrigen Todesursachen\",12.0],[\"Atmungsorgane\",2.0],[\"Krebskrankheiten\",10.0],[\"Krebskrankheiten\",4.0],[\"Kreislaufsystem\",2.0],[\"Kreislaufsystem\",4.0],[\"Unf\\u00e4lle und Gewalteinwirkungen\",11.0],[\"Unf\\u00e4lle und Gewalteinwirkungen\",31.0],[\"Alle \\u00fcbrigen Todesursachen\",24.0],[\"Alle \\u00fcbrigen Todesursachen\",59.0],[\"Atmungsorgane\",4.0],[\"Atmungsorgane\",9.0],[\"Krebskrankheiten\",82.0],[\"Krebskrankheiten\",71.0],[\"Kreislaufsystem\",11.0],[\"Kreislaufsystem\",29.0],[\"Unf\\u00e4lle und Gewalteinwirkungen\",11.0],[\"Unf\\u00e4lle und Gewalteinwirkungen\",33.0],[\"Alle \\u00fcbrigen Todesursachen\",122.0],[\"Alle \\u00fcbrigen Todesursachen\",168.0],[\"Atmungsorgane\",46.0],[\"Atmungsorgane\",40.0],[\"Demenz\",57.0],[\"Demenz\",30.0],[\"Krebskrankheiten\",165.0],[\"Krebskrankheiten\",186.0],[\"Kreislaufsystem\",138.0],[\"Kreislaufsystem\",150.0],[\"Unf\\u00e4lle und Gewalteinwirkungen\",23.0],[\"Unf\\u00e4lle und Gewalteinwirkungen\",25.0],[\"Alle \\u00fcbrigen Todesursachen\",196.0],[\"Alle \\u00fcbrigen Todesursachen\",109.0],[\"Atmungsorgane\",60.0],[\"Atmungsorgane\",43.0],[\"Demenz\",235.0],[\"Demenz\",74.0],[\"Krebskrankheiten\",93.0],[\"Krebskrankheiten\",82.0],[\"Kreislaufsystem\",404.0],[\"Kreislaufsystem\",188.0],[\"Unf\\u00e4lle und Gewalteinwirkungen\",54.0],[\"Unf\\u00e4lle und Gewalteinwirkungen\",37.0],[\"Alle \\u00fcbrigen Todesursachen\",154.89080459770116],[\"Alle \\u00fcbrigen Todesursachen\",124.95428571428572],[\"Atmungsorgane\",51.214285714285715],[\"Atmungsorgane\",38.369565217391305],[\"Demenz\",200.25342465753425],[\"Demenz\",61.30769230769231],[\"Krebskrankheiten\",121.99428571428571],[\"Krebskrankheiten\",134.4376811594203],[\"Kreislaufsystem\",328.6216216216216],[\"Kreislaufsystem\",158.22371967654988],[\"Unf\\u00e4lle und Gewalteinwirkungen\",37.24242424242424],[\"Unf\\u00e4lle und Gewalteinwirkungen\",32.095238095238095],[\"(?)\",197.54100227790434],[\"(?)\",117.26657060518733],[\"(?)\",197.54100227790434],[\"(?)\",117.26657060518733],[\"(?)\",162.10178117048346]],\"domain\":{\"x\":[0.0,1.0],\"y\":[0.0,1.0]},\"hovertemplate\":\"labels=%{label}<br>AnzSterWir_sum=%{value}<br>parent=%{parent}<br>id=%{id}<br>TodesursacheSpezLang=%{customdata[0]}<br>AnzSterWir=%{color}<extra></extra>\",\"ids\":[\"Todesursachen nach Geschlecht/Frauen/2019-01-01/Alle \\u00fcbrigen Todesursachen/0 \\u2013 14\",\"Todesursachen nach Geschlecht/M\\u00e4nner/2019-01-01/Alle \\u00fcbrigen Todesursachen/0 \\u2013 14\",\"Todesursachen nach Geschlecht/M\\u00e4nner/2019-01-01/Krebskrankheiten/0 \\u2013 14\",\"Todesursachen nach Geschlecht/Frauen/2019-01-01/Alle \\u00fcbrigen Todesursachen/15 \\u2013 44\",\"Todesursachen nach Geschlecht/M\\u00e4nner/2019-01-01/Alle \\u00fcbrigen Todesursachen/15 \\u2013 44\",\"Todesursachen nach Geschlecht/Frauen/2019-01-01/Atmungsorgane/15 \\u2013 44\",\"Todesursachen nach Geschlecht/Frauen/2019-01-01/Krebskrankheiten/15 \\u2013 44\",\"Todesursachen nach Geschlecht/M\\u00e4nner/2019-01-01/Krebskrankheiten/15 \\u2013 44\",\"Todesursachen nach Geschlecht/Frauen/2019-01-01/Kreislaufsystem/15 \\u2013 44\",\"Todesursachen nach Geschlecht/M\\u00e4nner/2019-01-01/Kreislaufsystem/15 \\u2013 44\",\"Todesursachen nach Geschlecht/Frauen/2019-01-01/Unf\\u00e4lle und Gewalteinwirkungen/15 \\u2013 44\",\"Todesursachen nach Geschlecht/M\\u00e4nner/2019-01-01/Unf\\u00e4lle und Gewalteinwirkungen/15 \\u2013 44\",\"Todesursachen nach Geschlecht/Frauen/2019-01-01/Alle \\u00fcbrigen Todesursachen/45 \\u2013 64\",\"Todesursachen nach Geschlecht/M\\u00e4nner/2019-01-01/Alle \\u00fcbrigen Todesursachen/45 \\u2013 64\",\"Todesursachen nach Geschlecht/Frauen/2019-01-01/Atmungsorgane/45 \\u2013 64\",\"Todesursachen nach Geschlecht/M\\u00e4nner/2019-01-01/Atmungsorgane/45 \\u2013 64\",\"Todesursachen nach Geschlecht/Frauen/2019-01-01/Krebskrankheiten/45 \\u2013 64\",\"Todesursachen nach Geschlecht/M\\u00e4nner/2019-01-01/Krebskrankheiten/45 \\u2013 64\",\"Todesursachen nach Geschlecht/Frauen/2019-01-01/Kreislaufsystem/45 \\u2013 64\",\"Todesursachen nach Geschlecht/M\\u00e4nner/2019-01-01/Kreislaufsystem/45 \\u2013 64\",\"Todesursachen nach Geschlecht/Frauen/2019-01-01/Unf\\u00e4lle und Gewalteinwirkungen/45 \\u2013 64\",\"Todesursachen nach Geschlecht/M\\u00e4nner/2019-01-01/Unf\\u00e4lle und Gewalteinwirkungen/45 \\u2013 64\",\"Todesursachen nach Geschlecht/Frauen/2019-01-01/Alle \\u00fcbrigen Todesursachen/65 \\u2013 84\",\"Todesursachen nach Geschlecht/M\\u00e4nner/2019-01-01/Alle \\u00fcbrigen Todesursachen/65 \\u2013 84\",\"Todesursachen nach Geschlecht/Frauen/2019-01-01/Atmungsorgane/65 \\u2013 84\",\"Todesursachen nach Geschlecht/M\\u00e4nner/2019-01-01/Atmungsorgane/65 \\u2013 84\",\"Todesursachen nach Geschlecht/Frauen/2019-01-01/Demenz/65 \\u2013 84\",\"Todesursachen nach Geschlecht/M\\u00e4nner/2019-01-01/Demenz/65 \\u2013 84\",\"Todesursachen nach Geschlecht/Frauen/2019-01-01/Krebskrankheiten/65 \\u2013 84\",\"Todesursachen nach Geschlecht/M\\u00e4nner/2019-01-01/Krebskrankheiten/65 \\u2013 84\",\"Todesursachen nach Geschlecht/Frauen/2019-01-01/Kreislaufsystem/65 \\u2013 84\",\"Todesursachen nach Geschlecht/M\\u00e4nner/2019-01-01/Kreislaufsystem/65 \\u2013 84\",\"Todesursachen nach Geschlecht/Frauen/2019-01-01/Unf\\u00e4lle und Gewalteinwirkungen/65 \\u2013 84\",\"Todesursachen nach Geschlecht/M\\u00e4nner/2019-01-01/Unf\\u00e4lle und Gewalteinwirkungen/65 \\u2013 84\",\"Todesursachen nach Geschlecht/Frauen/2019-01-01/Alle \\u00fcbrigen Todesursachen/85 und \\u00e4lter\",\"Todesursachen nach Geschlecht/M\\u00e4nner/2019-01-01/Alle \\u00fcbrigen Todesursachen/85 und \\u00e4lter\",\"Todesursachen nach Geschlecht/Frauen/2019-01-01/Atmungsorgane/85 und \\u00e4lter\",\"Todesursachen nach Geschlecht/M\\u00e4nner/2019-01-01/Atmungsorgane/85 und \\u00e4lter\",\"Todesursachen nach Geschlecht/Frauen/2019-01-01/Demenz/85 und \\u00e4lter\",\"Todesursachen nach Geschlecht/M\\u00e4nner/2019-01-01/Demenz/85 und \\u00e4lter\",\"Todesursachen nach Geschlecht/Frauen/2019-01-01/Krebskrankheiten/85 und \\u00e4lter\",\"Todesursachen nach Geschlecht/M\\u00e4nner/2019-01-01/Krebskrankheiten/85 und \\u00e4lter\",\"Todesursachen nach Geschlecht/Frauen/2019-01-01/Kreislaufsystem/85 und \\u00e4lter\",\"Todesursachen nach Geschlecht/M\\u00e4nner/2019-01-01/Kreislaufsystem/85 und \\u00e4lter\",\"Todesursachen nach Geschlecht/Frauen/2019-01-01/Unf\\u00e4lle und Gewalteinwirkungen/85 und \\u00e4lter\",\"Todesursachen nach Geschlecht/M\\u00e4nner/2019-01-01/Unf\\u00e4lle und Gewalteinwirkungen/85 und \\u00e4lter\",\"Todesursachen nach Geschlecht/Frauen/2019-01-01/Alle \\u00fcbrigen Todesursachen\",\"Todesursachen nach Geschlecht/M\\u00e4nner/2019-01-01/Alle \\u00fcbrigen Todesursachen\",\"Todesursachen nach Geschlecht/Frauen/2019-01-01/Atmungsorgane\",\"Todesursachen nach Geschlecht/M\\u00e4nner/2019-01-01/Atmungsorgane\",\"Todesursachen nach Geschlecht/Frauen/2019-01-01/Demenz\",\"Todesursachen nach Geschlecht/M\\u00e4nner/2019-01-01/Demenz\",\"Todesursachen nach Geschlecht/Frauen/2019-01-01/Krebskrankheiten\",\"Todesursachen nach Geschlecht/M\\u00e4nner/2019-01-01/Krebskrankheiten\",\"Todesursachen nach Geschlecht/Frauen/2019-01-01/Kreislaufsystem\",\"Todesursachen nach Geschlecht/M\\u00e4nner/2019-01-01/Kreislaufsystem\",\"Todesursachen nach Geschlecht/Frauen/2019-01-01/Unf\\u00e4lle und Gewalteinwirkungen\",\"Todesursachen nach Geschlecht/M\\u00e4nner/2019-01-01/Unf\\u00e4lle und Gewalteinwirkungen\",\"Todesursachen nach Geschlecht/Frauen/2019-01-01\",\"Todesursachen nach Geschlecht/M\\u00e4nner/2019-01-01\",\"Todesursachen nach Geschlecht/Frauen\",\"Todesursachen nach Geschlecht/M\\u00e4nner\",\"Todesursachen nach Geschlecht\"],\"labels\":[\"0 \\u2013 14\",\"0 \\u2013 14\",\"0 \\u2013 14\",\"15 \\u2013 44\",\"15 \\u2013 44\",\"15 \\u2013 44\",\"15 \\u2013 44\",\"15 \\u2013 44\",\"15 \\u2013 44\",\"15 \\u2013 44\",\"15 \\u2013 44\",\"15 \\u2013 44\",\"45 \\u2013 64\",\"45 \\u2013 64\",\"45 \\u2013 64\",\"45 \\u2013 64\",\"45 \\u2013 64\",\"45 \\u2013 64\",\"45 \\u2013 64\",\"45 \\u2013 64\",\"45 \\u2013 64\",\"45 \\u2013 64\",\"65 \\u2013 84\",\"65 \\u2013 84\",\"65 \\u2013 84\",\"65 \\u2013 84\",\"65 \\u2013 84\",\"65 \\u2013 84\",\"65 \\u2013 84\",\"65 \\u2013 84\",\"65 \\u2013 84\",\"65 \\u2013 84\",\"65 \\u2013 84\",\"65 \\u2013 84\",\"85 und \\u00e4lter\",\"85 und \\u00e4lter\",\"85 und \\u00e4lter\",\"85 und \\u00e4lter\",\"85 und \\u00e4lter\",\"85 und \\u00e4lter\",\"85 und \\u00e4lter\",\"85 und \\u00e4lter\",\"85 und \\u00e4lter\",\"85 und \\u00e4lter\",\"85 und \\u00e4lter\",\"85 und \\u00e4lter\",\"Alle \\u00fcbrigen Todesursachen\",\"Alle \\u00fcbrigen Todesursachen\",\"Atmungsorgane\",\"Atmungsorgane\",\"Demenz\",\"Demenz\",\"Krebskrankheiten\",\"Krebskrankheiten\",\"Kreislaufsystem\",\"Kreislaufsystem\",\"Unf\\u00e4lle und Gewalteinwirkungen\",\"Unf\\u00e4lle und Gewalteinwirkungen\",\"2019-01-01\",\"2019-01-01\",\"Frauen\",\"M\\u00e4nner\",\"Todesursachen nach Geschlecht\"],\"marker\":{\"coloraxis\":\"coloraxis\",\"colors\":[1.0,2.0,2.0,5.0,12.0,2.0,10.0,4.0,2.0,4.0,11.0,31.0,24.0,59.0,4.0,9.0,82.0,71.0,11.0,29.0,11.0,33.0,122.0,168.0,46.0,40.0,57.0,30.0,165.0,186.0,138.0,150.0,23.0,25.0,196.0,109.0,60.0,43.0,235.0,74.0,93.0,82.0,404.0,188.0,54.0,37.0,154.89080459770116,124.95428571428572,51.214285714285715,38.369565217391305,200.25342465753425,61.30769230769231,121.99428571428571,134.4376811594203,328.6216216216216,158.22371967654988,37.24242424242424,32.095238095238095,197.54100227790434,117.26657060518733,197.54100227790434,117.26657060518733,162.10178117048346]},\"name\":\"\",\"parents\":[\"Todesursachen nach Geschlecht/Frauen/2019-01-01/Alle \\u00fcbrigen Todesursachen\",\"Todesursachen nach Geschlecht/M\\u00e4nner/2019-01-01/Alle \\u00fcbrigen Todesursachen\",\"Todesursachen nach Geschlecht/M\\u00e4nner/2019-01-01/Krebskrankheiten\",\"Todesursachen nach Geschlecht/Frauen/2019-01-01/Alle \\u00fcbrigen Todesursachen\",\"Todesursachen nach Geschlecht/M\\u00e4nner/2019-01-01/Alle \\u00fcbrigen Todesursachen\",\"Todesursachen nach Geschlecht/Frauen/2019-01-01/Atmungsorgane\",\"Todesursachen nach Geschlecht/Frauen/2019-01-01/Krebskrankheiten\",\"Todesursachen nach Geschlecht/M\\u00e4nner/2019-01-01/Krebskrankheiten\",\"Todesursachen nach Geschlecht/Frauen/2019-01-01/Kreislaufsystem\",\"Todesursachen nach Geschlecht/M\\u00e4nner/2019-01-01/Kreislaufsystem\",\"Todesursachen nach Geschlecht/Frauen/2019-01-01/Unf\\u00e4lle und Gewalteinwirkungen\",\"Todesursachen nach Geschlecht/M\\u00e4nner/2019-01-01/Unf\\u00e4lle und Gewalteinwirkungen\",\"Todesursachen nach Geschlecht/Frauen/2019-01-01/Alle \\u00fcbrigen Todesursachen\",\"Todesursachen nach Geschlecht/M\\u00e4nner/2019-01-01/Alle \\u00fcbrigen Todesursachen\",\"Todesursachen nach Geschlecht/Frauen/2019-01-01/Atmungsorgane\",\"Todesursachen nach Geschlecht/M\\u00e4nner/2019-01-01/Atmungsorgane\",\"Todesursachen nach Geschlecht/Frauen/2019-01-01/Krebskrankheiten\",\"Todesursachen nach Geschlecht/M\\u00e4nner/2019-01-01/Krebskrankheiten\",\"Todesursachen nach Geschlecht/Frauen/2019-01-01/Kreislaufsystem\",\"Todesursachen nach Geschlecht/M\\u00e4nner/2019-01-01/Kreislaufsystem\",\"Todesursachen nach Geschlecht/Frauen/2019-01-01/Unf\\u00e4lle und Gewalteinwirkungen\",\"Todesursachen nach Geschlecht/M\\u00e4nner/2019-01-01/Unf\\u00e4lle und Gewalteinwirkungen\",\"Todesursachen nach Geschlecht/Frauen/2019-01-01/Alle \\u00fcbrigen Todesursachen\",\"Todesursachen nach Geschlecht/M\\u00e4nner/2019-01-01/Alle \\u00fcbrigen Todesursachen\",\"Todesursachen nach Geschlecht/Frauen/2019-01-01/Atmungsorgane\",\"Todesursachen nach Geschlecht/M\\u00e4nner/2019-01-01/Atmungsorgane\",\"Todesursachen nach Geschlecht/Frauen/2019-01-01/Demenz\",\"Todesursachen nach Geschlecht/M\\u00e4nner/2019-01-01/Demenz\",\"Todesursachen nach Geschlecht/Frauen/2019-01-01/Krebskrankheiten\",\"Todesursachen nach Geschlecht/M\\u00e4nner/2019-01-01/Krebskrankheiten\",\"Todesursachen nach Geschlecht/Frauen/2019-01-01/Kreislaufsystem\",\"Todesursachen nach Geschlecht/M\\u00e4nner/2019-01-01/Kreislaufsystem\",\"Todesursachen nach Geschlecht/Frauen/2019-01-01/Unf\\u00e4lle und Gewalteinwirkungen\",\"Todesursachen nach Geschlecht/M\\u00e4nner/2019-01-01/Unf\\u00e4lle und Gewalteinwirkungen\",\"Todesursachen nach Geschlecht/Frauen/2019-01-01/Alle \\u00fcbrigen Todesursachen\",\"Todesursachen nach Geschlecht/M\\u00e4nner/2019-01-01/Alle \\u00fcbrigen Todesursachen\",\"Todesursachen nach Geschlecht/Frauen/2019-01-01/Atmungsorgane\",\"Todesursachen nach Geschlecht/M\\u00e4nner/2019-01-01/Atmungsorgane\",\"Todesursachen nach Geschlecht/Frauen/2019-01-01/Demenz\",\"Todesursachen nach Geschlecht/M\\u00e4nner/2019-01-01/Demenz\",\"Todesursachen nach Geschlecht/Frauen/2019-01-01/Krebskrankheiten\",\"Todesursachen nach Geschlecht/M\\u00e4nner/2019-01-01/Krebskrankheiten\",\"Todesursachen nach Geschlecht/Frauen/2019-01-01/Kreislaufsystem\",\"Todesursachen nach Geschlecht/M\\u00e4nner/2019-01-01/Kreislaufsystem\",\"Todesursachen nach Geschlecht/Frauen/2019-01-01/Unf\\u00e4lle und Gewalteinwirkungen\",\"Todesursachen nach Geschlecht/M\\u00e4nner/2019-01-01/Unf\\u00e4lle und Gewalteinwirkungen\",\"Todesursachen nach Geschlecht/Frauen/2019-01-01\",\"Todesursachen nach Geschlecht/M\\u00e4nner/2019-01-01\",\"Todesursachen nach Geschlecht/Frauen/2019-01-01\",\"Todesursachen nach Geschlecht/M\\u00e4nner/2019-01-01\",\"Todesursachen nach Geschlecht/Frauen/2019-01-01\",\"Todesursachen nach Geschlecht/M\\u00e4nner/2019-01-01\",\"Todesursachen nach Geschlecht/Frauen/2019-01-01\",\"Todesursachen nach Geschlecht/M\\u00e4nner/2019-01-01\",\"Todesursachen nach Geschlecht/Frauen/2019-01-01\",\"Todesursachen nach Geschlecht/M\\u00e4nner/2019-01-01\",\"Todesursachen nach Geschlecht/Frauen/2019-01-01\",\"Todesursachen nach Geschlecht/M\\u00e4nner/2019-01-01\",\"Todesursachen nach Geschlecht/Frauen\",\"Todesursachen nach Geschlecht/M\\u00e4nner\",\"Todesursachen nach Geschlecht\",\"Todesursachen nach Geschlecht\",\"\"],\"root\":{\"color\":\"lightgrey\"},\"type\":\"treemap\",\"values\":[1,2,2,5,12,2,10,4,2,4,11,31,24,59,4,9,82,71,11,29,11,33,122,168,46,40,57,30,165,186,138,150,23,25,196,109,60,43,235,74,93,82,404,188,54,37,348,350,112,92,292,104,350,345,555,371,99,126,1756,1388,1756,1388,3144]}],                        {\"coloraxis\":{\"colorbar\":{\"title\":{\"text\":\"AnzSterWir\"}},\"colorscale\":[[0.0,\"rgb(255,255,255)\"],[0.125,\"rgb(240,240,240)\"],[0.25,\"rgb(217,217,217)\"],[0.375,\"rgb(189,189,189)\"],[0.5,\"rgb(150,150,150)\"],[0.625,\"rgb(115,115,115)\"],[0.75,\"rgb(82,82,82)\"],[0.875,\"rgb(37,37,37)\"],[1.0,\"rgb(0,0,0)\"]]},\"legend\":{\"tracegroupgap\":0},\"margin\":{\"b\":25,\"l\":25,\"r\":250,\"t\":50},\"template\":{\"data\":{\"bar\":[{\"error_x\":{\"color\":\"#2a3f5f\"},\"error_y\":{\"color\":\"#2a3f5f\"},\"marker\":{\"line\":{\"color\":\"#E5ECF6\",\"width\":0.5},\"pattern\":{\"fillmode\":\"overlay\",\"size\":10,\"solidity\":0.2}},\"type\":\"bar\"}],\"barpolar\":[{\"marker\":{\"line\":{\"color\":\"#E5ECF6\",\"width\":0.5},\"pattern\":{\"fillmode\":\"overlay\",\"size\":10,\"solidity\":0.2}},\"type\":\"barpolar\"}],\"carpet\":[{\"aaxis\":{\"endlinecolor\":\"#2a3f5f\",\"gridcolor\":\"white\",\"linecolor\":\"white\",\"minorgridcolor\":\"white\",\"startlinecolor\":\"#2a3f5f\"},\"baxis\":{\"endlinecolor\":\"#2a3f5f\",\"gridcolor\":\"white\",\"linecolor\":\"white\",\"minorgridcolor\":\"white\",\"startlinecolor\":\"#2a3f5f\"},\"type\":\"carpet\"}],\"choropleth\":[{\"colorbar\":{\"outlinewidth\":0,\"ticks\":\"\"},\"type\":\"choropleth\"}],\"contour\":[{\"colorbar\":{\"outlinewidth\":0,\"ticks\":\"\"},\"colorscale\":[[0.0,\"#0d0887\"],[0.1111111111111111,\"#46039f\"],[0.2222222222222222,\"#7201a8\"],[0.3333333333333333,\"#9c179e\"],[0.4444444444444444,\"#bd3786\"],[0.5555555555555556,\"#d8576b\"],[0.6666666666666666,\"#ed7953\"],[0.7777777777777778,\"#fb9f3a\"],[0.8888888888888888,\"#fdca26\"],[1.0,\"#f0f921\"]],\"type\":\"contour\"}],\"contourcarpet\":[{\"colorbar\":{\"outlinewidth\":0,\"ticks\":\"\"},\"type\":\"contourcarpet\"}],\"heatmap\":[{\"colorbar\":{\"outlinewidth\":0,\"ticks\":\"\"},\"colorscale\":[[0.0,\"#0d0887\"],[0.1111111111111111,\"#46039f\"],[0.2222222222222222,\"#7201a8\"],[0.3333333333333333,\"#9c179e\"],[0.4444444444444444,\"#bd3786\"],[0.5555555555555556,\"#d8576b\"],[0.6666666666666666,\"#ed7953\"],[0.7777777777777778,\"#fb9f3a\"],[0.8888888888888888,\"#fdca26\"],[1.0,\"#f0f921\"]],\"type\":\"heatmap\"}],\"heatmapgl\":[{\"colorbar\":{\"outlinewidth\":0,\"ticks\":\"\"},\"colorscale\":[[0.0,\"#0d0887\"],[0.1111111111111111,\"#46039f\"],[0.2222222222222222,\"#7201a8\"],[0.3333333333333333,\"#9c179e\"],[0.4444444444444444,\"#bd3786\"],[0.5555555555555556,\"#d8576b\"],[0.6666666666666666,\"#ed7953\"],[0.7777777777777778,\"#fb9f3a\"],[0.8888888888888888,\"#fdca26\"],[1.0,\"#f0f921\"]],\"type\":\"heatmapgl\"}],\"histogram\":[{\"marker\":{\"pattern\":{\"fillmode\":\"overlay\",\"size\":10,\"solidity\":0.2}},\"type\":\"histogram\"}],\"histogram2d\":[{\"colorbar\":{\"outlinewidth\":0,\"ticks\":\"\"},\"colorscale\":[[0.0,\"#0d0887\"],[0.1111111111111111,\"#46039f\"],[0.2222222222222222,\"#7201a8\"],[0.3333333333333333,\"#9c179e\"],[0.4444444444444444,\"#bd3786\"],[0.5555555555555556,\"#d8576b\"],[0.6666666666666666,\"#ed7953\"],[0.7777777777777778,\"#fb9f3a\"],[0.8888888888888888,\"#fdca26\"],[1.0,\"#f0f921\"]],\"type\":\"histogram2d\"}],\"histogram2dcontour\":[{\"colorbar\":{\"outlinewidth\":0,\"ticks\":\"\"},\"colorscale\":[[0.0,\"#0d0887\"],[0.1111111111111111,\"#46039f\"],[0.2222222222222222,\"#7201a8\"],[0.3333333333333333,\"#9c179e\"],[0.4444444444444444,\"#bd3786\"],[0.5555555555555556,\"#d8576b\"],[0.6666666666666666,\"#ed7953\"],[0.7777777777777778,\"#fb9f3a\"],[0.8888888888888888,\"#fdca26\"],[1.0,\"#f0f921\"]],\"type\":\"histogram2dcontour\"}],\"mesh3d\":[{\"colorbar\":{\"outlinewidth\":0,\"ticks\":\"\"},\"type\":\"mesh3d\"}],\"parcoords\":[{\"line\":{\"colorbar\":{\"outlinewidth\":0,\"ticks\":\"\"}},\"type\":\"parcoords\"}],\"pie\":[{\"automargin\":true,\"type\":\"pie\"}],\"scatter\":[{\"marker\":{\"colorbar\":{\"outlinewidth\":0,\"ticks\":\"\"}},\"type\":\"scatter\"}],\"scatter3d\":[{\"line\":{\"colorbar\":{\"outlinewidth\":0,\"ticks\":\"\"}},\"marker\":{\"colorbar\":{\"outlinewidth\":0,\"ticks\":\"\"}},\"type\":\"scatter3d\"}],\"scattercarpet\":[{\"marker\":{\"colorbar\":{\"outlinewidth\":0,\"ticks\":\"\"}},\"type\":\"scattercarpet\"}],\"scattergeo\":[{\"marker\":{\"colorbar\":{\"outlinewidth\":0,\"ticks\":\"\"}},\"type\":\"scattergeo\"}],\"scattergl\":[{\"marker\":{\"colorbar\":{\"outlinewidth\":0,\"ticks\":\"\"}},\"type\":\"scattergl\"}],\"scattermapbox\":[{\"marker\":{\"colorbar\":{\"outlinewidth\":0,\"ticks\":\"\"}},\"type\":\"scattermapbox\"}],\"scatterpolar\":[{\"marker\":{\"colorbar\":{\"outlinewidth\":0,\"ticks\":\"\"}},\"type\":\"scatterpolar\"}],\"scatterpolargl\":[{\"marker\":{\"colorbar\":{\"outlinewidth\":0,\"ticks\":\"\"}},\"type\":\"scatterpolargl\"}],\"scatterternary\":[{\"marker\":{\"colorbar\":{\"outlinewidth\":0,\"ticks\":\"\"}},\"type\":\"scatterternary\"}],\"surface\":[{\"colorbar\":{\"outlinewidth\":0,\"ticks\":\"\"},\"colorscale\":[[0.0,\"#0d0887\"],[0.1111111111111111,\"#46039f\"],[0.2222222222222222,\"#7201a8\"],[0.3333333333333333,\"#9c179e\"],[0.4444444444444444,\"#bd3786\"],[0.5555555555555556,\"#d8576b\"],[0.6666666666666666,\"#ed7953\"],[0.7777777777777778,\"#fb9f3a\"],[0.8888888888888888,\"#fdca26\"],[1.0,\"#f0f921\"]],\"type\":\"surface\"}],\"table\":[{\"cells\":{\"fill\":{\"color\":\"#EBF0F8\"},\"line\":{\"color\":\"white\"}},\"header\":{\"fill\":{\"color\":\"#C8D4E3\"},\"line\":{\"color\":\"white\"}},\"type\":\"table\"}]},\"layout\":{\"annotationdefaults\":{\"arrowcolor\":\"#2a3f5f\",\"arrowhead\":0,\"arrowwidth\":1},\"autotypenumbers\":\"strict\",\"coloraxis\":{\"colorbar\":{\"outlinewidth\":0,\"ticks\":\"\"}},\"colorscale\":{\"diverging\":[[0,\"#8e0152\"],[0.1,\"#c51b7d\"],[0.2,\"#de77ae\"],[0.3,\"#f1b6da\"],[0.4,\"#fde0ef\"],[0.5,\"#f7f7f7\"],[0.6,\"#e6f5d0\"],[0.7,\"#b8e186\"],[0.8,\"#7fbc41\"],[0.9,\"#4d9221\"],[1,\"#276419\"]],\"sequential\":[[0.0,\"#0d0887\"],[0.1111111111111111,\"#46039f\"],[0.2222222222222222,\"#7201a8\"],[0.3333333333333333,\"#9c179e\"],[0.4444444444444444,\"#bd3786\"],[0.5555555555555556,\"#d8576b\"],[0.6666666666666666,\"#ed7953\"],[0.7777777777777778,\"#fb9f3a\"],[0.8888888888888888,\"#fdca26\"],[1.0,\"#f0f921\"]],\"sequentialminus\":[[0.0,\"#0d0887\"],[0.1111111111111111,\"#46039f\"],[0.2222222222222222,\"#7201a8\"],[0.3333333333333333,\"#9c179e\"],[0.4444444444444444,\"#bd3786\"],[0.5555555555555556,\"#d8576b\"],[0.6666666666666666,\"#ed7953\"],[0.7777777777777778,\"#fb9f3a\"],[0.8888888888888888,\"#fdca26\"],[1.0,\"#f0f921\"]]},\"colorway\":[\"#636efa\",\"#EF553B\",\"#00cc96\",\"#ab63fa\",\"#FFA15A\",\"#19d3f3\",\"#FF6692\",\"#B6E880\",\"#FF97FF\",\"#FECB52\"],\"font\":{\"color\":\"#2a3f5f\"},\"geo\":{\"bgcolor\":\"white\",\"lakecolor\":\"white\",\"landcolor\":\"#E5ECF6\",\"showlakes\":true,\"showland\":true,\"subunitcolor\":\"white\"},\"hoverlabel\":{\"align\":\"left\"},\"hovermode\":\"closest\",\"mapbox\":{\"style\":\"light\"},\"paper_bgcolor\":\"white\",\"plot_bgcolor\":\"#E5ECF6\",\"polar\":{\"angularaxis\":{\"gridcolor\":\"white\",\"linecolor\":\"white\",\"ticks\":\"\"},\"bgcolor\":\"#E5ECF6\",\"radialaxis\":{\"gridcolor\":\"white\",\"linecolor\":\"white\",\"ticks\":\"\"}},\"scene\":{\"xaxis\":{\"backgroundcolor\":\"#E5ECF6\",\"gridcolor\":\"white\",\"gridwidth\":2,\"linecolor\":\"white\",\"showbackground\":true,\"ticks\":\"\",\"zerolinecolor\":\"white\"},\"yaxis\":{\"backgroundcolor\":\"#E5ECF6\",\"gridcolor\":\"white\",\"gridwidth\":2,\"linecolor\":\"white\",\"showbackground\":true,\"ticks\":\"\",\"zerolinecolor\":\"white\"},\"zaxis\":{\"backgroundcolor\":\"#E5ECF6\",\"gridcolor\":\"white\",\"gridwidth\":2,\"linecolor\":\"white\",\"showbackground\":true,\"ticks\":\"\",\"zerolinecolor\":\"white\"}},\"shapedefaults\":{\"line\":{\"color\":\"#2a3f5f\"}},\"ternary\":{\"aaxis\":{\"gridcolor\":\"white\",\"linecolor\":\"white\",\"ticks\":\"\"},\"baxis\":{\"gridcolor\":\"white\",\"linecolor\":\"white\",\"ticks\":\"\"},\"bgcolor\":\"#E5ECF6\",\"caxis\":{\"gridcolor\":\"white\",\"linecolor\":\"white\",\"ticks\":\"\"}},\"title\":{\"x\":0.05},\"xaxis\":{\"automargin\":true,\"gridcolor\":\"white\",\"linecolor\":\"white\",\"ticks\":\"\",\"title\":{\"standoff\":15},\"zerolinecolor\":\"white\",\"zerolinewidth\":2},\"yaxis\":{\"automargin\":true,\"gridcolor\":\"white\",\"linecolor\":\"white\",\"ticks\":\"\",\"title\":{\"standoff\":15},\"zerolinecolor\":\"white\",\"zerolinewidth\":2}}}},                        {\"responsive\": true}                    ).then(function(){\n",
       "                            \n",
       "var gd = document.getElementById('e1084243-7b73-4ae6-9b1a-743773fd37e9');\n",
       "var x = new MutationObserver(function (mutations, observer) {{\n",
       "        var display = window.getComputedStyle(gd).display;\n",
       "        if (!display || display === 'none') {{\n",
       "            console.log([gd, 'removed!']);\n",
       "            Plotly.purge(gd);\n",
       "            observer.disconnect();\n",
       "        }}\n",
       "}});\n",
       "\n",
       "// Listen for the removal of the full notebook cells\n",
       "var notebookContainer = gd.closest('#notebook-container');\n",
       "if (notebookContainer) {{\n",
       "    x.observe(notebookContainer, {childList: true});\n",
       "}}\n",
       "\n",
       "// Listen for the clearing of the current output cell\n",
       "var outputEl = gd.closest('.output');\n",
       "if (outputEl) {{\n",
       "    x.observe(outputEl, {childList: true});\n",
       "}}\n",
       "\n",
       "                        })                };                });            </script>        </div>"
      ]
     },
     "metadata": {},
     "output_type": "display_data"
    }
   ],
   "source": [
    "df = mySelYears\n",
    "fig = px.treemap(df, path=[px.Constant(\"Todesursachen nach Geschlecht\"), 'Geschlecht','StichtagDatJahr','TodesursacheSpezLang', 'AlterVSort_Nam'], values='AnzSterWir',\n",
    "                color='AnzSterWir', hover_data=['TodesursacheSpezLang'],\n",
    "                color_continuous_scale='greys')\n",
    "                #color_continuous_midpoint=np.average(df['AnzBestWir'], weights=df['AnzBestWir']))\n",
    "fig.update_traces(root_color=\"lightgrey\")\n",
    "fig.update_layout(margin = dict(t=50, l=25, r=250, b=25))\n",
    "fig.show()\n"
   ]
  },
  {
   "cell_type": "code",
   "execution_count": 59,
   "metadata": {},
   "outputs": [],
   "source": [
    "fig.write_html(\"C:/Users/sszsim/Downloads/todesfaelle_nach_geschlecht_ursache_alter.html\")"
   ]
  },
  {
   "cell_type": "code",
   "execution_count": 60,
   "metadata": {},
   "outputs": [
    {
     "data": {
      "application/vnd.plotly.v1+json": {
       "config": {
        "plotlyServerURL": "https://plot.ly"
       },
       "data": [
        {
         "branchvalues": "total",
         "customdata": [
          [
           "Alle übrigen Todesursachen",
           11.644549763033176
          ],
          [
           "Atmungsorgane",
           1
          ],
          [
           "Krebskrankheiten",
           1.3076923076923077
          ],
          [
           "Kreislaufsystem",
           1
          ],
          [
           "Unfälle und Gewalteinwirkungen",
           1.75
          ],
          [
           "Alle übrigen Todesursachen",
           13.368421052631579
          ],
          [
           "Atmungsorgane",
           1
          ],
          [
           "Krebskrankheiten",
           1.5217391304347827
          ],
          [
           "Kreislaufsystem",
           1.5
          ],
          [
           "Unfälle und Gewalteinwirkungen",
           2.090909090909091
          ],
          [
           "Alle übrigen Todesursachen",
           24.41724941724942
          ],
          [
           "Atmungsorgane",
           1.4705882352941178
          ],
          [
           "Krebskrankheiten",
           12.177358490566037
          ],
          [
           "Kreislaufsystem",
           4.911111111111111
          ],
          [
           "Unfälle und Gewalteinwirkungen",
           13.1875
          ],
          [
           "Alle übrigen Todesursachen",
           51.41379310344828
          ],
          [
           "Atmungsorgane",
           1.8
          ],
          [
           "Krebskrankheiten",
           10.669421487603305
          ],
          [
           "Kreislaufsystem",
           8.220338983050848
          ],
          [
           "Unfälle und Gewalteinwirkungen",
           36.31497005988024
          ],
          [
           "Alle übrigen Todesursachen",
           44.411078717201164
          ],
          [
           "Atmungsorgane",
           5.431034482758621
          ],
          [
           "Demenz",
           1.5714285714285714
          ],
          [
           "Krebskrankheiten",
           75.02285092491839
          ],
          [
           "Kreislaufsystem",
           20.45413870246085
          ],
          [
           "Unfälle und Gewalteinwirkungen",
           12.98019801980198
          ],
          [
           "Alle übrigen Todesursachen",
           78.78963730569949
          ],
          [
           "Atmungsorgane",
           8.732673267326733
          ],
          [
           "Demenz",
           1
          ],
          [
           "Krebskrankheiten",
           86.75071090047393
          ],
          [
           "Kreislaufsystem",
           57.43166542195669
          ],
          [
           "Unfälle und Gewalteinwirkungen",
           26.708978328173373
          ],
          [
           "Alle übrigen Todesursachen",
           158.27507089456046
          ],
          [
           "Atmungsorgane",
           43.259587020648965
          ],
          [
           "Demenz",
           52.90639625585023
          ],
          [
           "Krebskrankheiten",
           219.61549842796376
          ],
          [
           "Kreislaufsystem",
           264.6747556454331
          ],
          [
           "Unfälle und Gewalteinwirkungen",
           33.29139072847682
          ],
          [
           "Alle übrigen Todesursachen",
           153.8318863456985
          ],
          [
           "Atmungsorgane",
           48.95242141036533
          ],
          [
           "Demenz",
           32.38501291989664
          ],
          [
           "Krebskrankheiten",
           247.38520953163516
          ],
          [
           "Kreislaufsystem",
           272.48234155781324
          ],
          [
           "Unfälle und Gewalteinwirkungen",
           34.11678832116788
          ],
          [
           "Alle übrigen Todesursachen",
           188.21612833297203
          ],
          [
           "Atmungsorgane",
           54.43802925327175
          ],
          [
           "Demenz",
           189.91939095387372
          ],
          [
           "Krebskrankheiten",
           98.42385472554685
          ],
          [
           "Kreislaufsystem",
           506.29849424269264
          ],
          [
           "Unfälle und Gewalteinwirkungen",
           48.74702886247878
          ],
          [
           "Alle übrigen Todesursachen",
           90.35727440147329
          ],
          [
           "Atmungsorgane",
           35.8036739380023
          ],
          [
           "Demenz",
           59.06470588235294
          ],
          [
           "Krebskrankheiten",
           85.10158121705798
          ],
          [
           "Kreislaufsystem",
           212.21656534954408
          ],
          [
           "Unfälle und Gewalteinwirkungen",
           26.334415584415584
          ],
          [
           "Alle übrigen Todesursachen",
           151.64068497195157
          ],
          [
           "Atmungsorgane",
           47.031797798613944
          ],
          [
           "Demenz",
           158.9774383894481
          ],
          [
           "Krebskrankheiten",
           157.558616529258
          ],
          [
           "Kreislaufsystem",
           416.4666525513445
          ],
          [
           "Unfälle und Gewalteinwirkungen",
           35.55826771653543
          ],
          [
           "Alle übrigen Todesursachen",
           108.38244375827084
          ],
          [
           "Atmungsorgane",
           39.777875329236174
          ],
          [
           "Demenz",
           49.229799159271366
          ],
          [
           "Krebskrankheiten",
           177.16952687968143
          ],
          [
           "Kreislaufsystem",
           222.1217183770883
          ],
          [
           "Unfälle und Gewalteinwirkungen",
           31.244134648078884
          ],
          [
           "Alle übrigen Todesursachen",
           131.24099017109575
          ],
          [
           "Atmungsorgane",
           43.538998097653774
          ],
          [
           "Demenz",
           129.24572946982158
          ],
          [
           "Krebskrankheiten",
           167.65163714439078
          ],
          [
           "Kreislaufsystem",
           337.28637746620245
          ],
          [
           "Unfälle und Gewalteinwirkungen",
           33.24338624338624
          ],
          [
           "(?)",
           201.9880514500992
          ]
         ],
         "domain": {
          "x": [
           0,
           1
          ],
          "y": [
           0,
           1
          ]
         },
         "hovertemplate": "labels=%{label}<br>AnzSterWir_sum=%{value}<br>parent=%{parent}<br>id=%{id}<br>TodesursacheSpezLang=%{customdata[0]}<br>AnzSterWir=%{color}<extra></extra>",
         "ids": [
          "Todesursachen/Alle übrigen Todesursachen/Frauen/0 – 14",
          "Todesursachen/Atmungsorgane/Frauen/0 – 14",
          "Todesursachen/Krebskrankheiten/Frauen/0 – 14",
          "Todesursachen/Kreislaufsystem/Frauen/0 – 14",
          "Todesursachen/Unfälle und Gewalteinwirkungen/Frauen/0 – 14",
          "Todesursachen/Alle übrigen Todesursachen/Männer/0 – 14",
          "Todesursachen/Atmungsorgane/Männer/0 – 14",
          "Todesursachen/Krebskrankheiten/Männer/0 – 14",
          "Todesursachen/Kreislaufsystem/Männer/0 – 14",
          "Todesursachen/Unfälle und Gewalteinwirkungen/Männer/0 – 14",
          "Todesursachen/Alle übrigen Todesursachen/Frauen/15 – 44",
          "Todesursachen/Atmungsorgane/Frauen/15 – 44",
          "Todesursachen/Krebskrankheiten/Frauen/15 – 44",
          "Todesursachen/Kreislaufsystem/Frauen/15 – 44",
          "Todesursachen/Unfälle und Gewalteinwirkungen/Frauen/15 – 44",
          "Todesursachen/Alle übrigen Todesursachen/Männer/15 – 44",
          "Todesursachen/Atmungsorgane/Männer/15 – 44",
          "Todesursachen/Krebskrankheiten/Männer/15 – 44",
          "Todesursachen/Kreislaufsystem/Männer/15 – 44",
          "Todesursachen/Unfälle und Gewalteinwirkungen/Männer/15 – 44",
          "Todesursachen/Alle übrigen Todesursachen/Frauen/45 – 64",
          "Todesursachen/Atmungsorgane/Frauen/45 – 64",
          "Todesursachen/Demenz/Frauen/45 – 64",
          "Todesursachen/Krebskrankheiten/Frauen/45 – 64",
          "Todesursachen/Kreislaufsystem/Frauen/45 – 64",
          "Todesursachen/Unfälle und Gewalteinwirkungen/Frauen/45 – 64",
          "Todesursachen/Alle übrigen Todesursachen/Männer/45 – 64",
          "Todesursachen/Atmungsorgane/Männer/45 – 64",
          "Todesursachen/Demenz/Männer/45 – 64",
          "Todesursachen/Krebskrankheiten/Männer/45 – 64",
          "Todesursachen/Kreislaufsystem/Männer/45 – 64",
          "Todesursachen/Unfälle und Gewalteinwirkungen/Männer/45 – 64",
          "Todesursachen/Alle übrigen Todesursachen/Frauen/65 – 84",
          "Todesursachen/Atmungsorgane/Frauen/65 – 84",
          "Todesursachen/Demenz/Frauen/65 – 84",
          "Todesursachen/Krebskrankheiten/Frauen/65 – 84",
          "Todesursachen/Kreislaufsystem/Frauen/65 – 84",
          "Todesursachen/Unfälle und Gewalteinwirkungen/Frauen/65 – 84",
          "Todesursachen/Alle übrigen Todesursachen/Männer/65 – 84",
          "Todesursachen/Atmungsorgane/Männer/65 – 84",
          "Todesursachen/Demenz/Männer/65 – 84",
          "Todesursachen/Krebskrankheiten/Männer/65 – 84",
          "Todesursachen/Kreislaufsystem/Männer/65 – 84",
          "Todesursachen/Unfälle und Gewalteinwirkungen/Männer/65 – 84",
          "Todesursachen/Alle übrigen Todesursachen/Frauen/85 und älter",
          "Todesursachen/Atmungsorgane/Frauen/85 und älter",
          "Todesursachen/Demenz/Frauen/85 und älter",
          "Todesursachen/Krebskrankheiten/Frauen/85 und älter",
          "Todesursachen/Kreislaufsystem/Frauen/85 und älter",
          "Todesursachen/Unfälle und Gewalteinwirkungen/Frauen/85 und älter",
          "Todesursachen/Alle übrigen Todesursachen/Männer/85 und älter",
          "Todesursachen/Atmungsorgane/Männer/85 und älter",
          "Todesursachen/Demenz/Männer/85 und älter",
          "Todesursachen/Krebskrankheiten/Männer/85 und älter",
          "Todesursachen/Kreislaufsystem/Männer/85 und älter",
          "Todesursachen/Unfälle und Gewalteinwirkungen/Männer/85 und älter",
          "Todesursachen/Alle übrigen Todesursachen/Frauen",
          "Todesursachen/Atmungsorgane/Frauen",
          "Todesursachen/Demenz/Frauen",
          "Todesursachen/Krebskrankheiten/Frauen",
          "Todesursachen/Kreislaufsystem/Frauen",
          "Todesursachen/Unfälle und Gewalteinwirkungen/Frauen",
          "Todesursachen/Alle übrigen Todesursachen/Männer",
          "Todesursachen/Atmungsorgane/Männer",
          "Todesursachen/Demenz/Männer",
          "Todesursachen/Krebskrankheiten/Männer",
          "Todesursachen/Kreislaufsystem/Männer",
          "Todesursachen/Unfälle und Gewalteinwirkungen/Männer",
          "Todesursachen/Alle übrigen Todesursachen",
          "Todesursachen/Atmungsorgane",
          "Todesursachen/Demenz",
          "Todesursachen/Krebskrankheiten",
          "Todesursachen/Kreislaufsystem",
          "Todesursachen/Unfälle und Gewalteinwirkungen",
          "Todesursachen"
         ],
         "labels": [
          "0 – 14",
          "0 – 14",
          "0 – 14",
          "0 – 14",
          "0 – 14",
          "0 – 14",
          "0 – 14",
          "0 – 14",
          "0 – 14",
          "0 – 14",
          "15 – 44",
          "15 – 44",
          "15 – 44",
          "15 – 44",
          "15 – 44",
          "15 – 44",
          "15 – 44",
          "15 – 44",
          "15 – 44",
          "15 – 44",
          "45 – 64",
          "45 – 64",
          "45 – 64",
          "45 – 64",
          "45 – 64",
          "45 – 64",
          "45 – 64",
          "45 – 64",
          "45 – 64",
          "45 – 64",
          "45 – 64",
          "45 – 64",
          "65 – 84",
          "65 – 84",
          "65 – 84",
          "65 – 84",
          "65 – 84",
          "65 – 84",
          "65 – 84",
          "65 – 84",
          "65 – 84",
          "65 – 84",
          "65 – 84",
          "65 – 84",
          "85 und älter",
          "85 und älter",
          "85 und älter",
          "85 und älter",
          "85 und älter",
          "85 und älter",
          "85 und älter",
          "85 und älter",
          "85 und älter",
          "85 und älter",
          "85 und älter",
          "85 und älter",
          "Frauen",
          "Frauen",
          "Frauen",
          "Frauen",
          "Frauen",
          "Frauen",
          "Männer",
          "Männer",
          "Männer",
          "Männer",
          "Männer",
          "Männer",
          "Alle übrigen Todesursachen",
          "Atmungsorgane",
          "Demenz",
          "Krebskrankheiten",
          "Kreislaufsystem",
          "Unfälle und Gewalteinwirkungen",
          "Todesursachen"
         ],
         "marker": {
          "coloraxis": "coloraxis",
          "colors": [
           11.644549763033176,
           1,
           1.3076923076923077,
           1,
           1.75,
           13.368421052631579,
           1,
           1.5217391304347827,
           1.5,
           2.090909090909091,
           24.41724941724942,
           1.4705882352941178,
           12.177358490566037,
           4.911111111111111,
           13.1875,
           51.41379310344828,
           1.8,
           10.669421487603305,
           8.220338983050848,
           36.31497005988024,
           44.411078717201164,
           5.431034482758621,
           1.5714285714285714,
           75.02285092491839,
           20.45413870246085,
           12.98019801980198,
           78.78963730569949,
           8.732673267326733,
           1,
           86.75071090047393,
           57.43166542195669,
           26.708978328173373,
           158.27507089456046,
           43.259587020648965,
           52.90639625585023,
           219.61549842796376,
           264.6747556454331,
           33.29139072847682,
           153.8318863456985,
           48.95242141036533,
           32.38501291989664,
           247.38520953163516,
           272.48234155781324,
           34.11678832116788,
           188.21612833297203,
           54.43802925327175,
           189.91939095387372,
           98.42385472554685,
           506.29849424269264,
           48.74702886247878,
           90.35727440147329,
           35.8036739380023,
           59.06470588235294,
           85.10158121705798,
           212.21656534954408,
           26.334415584415584,
           151.64068497195157,
           47.031797798613944,
           158.9774383894481,
           157.558616529258,
           416.4666525513445,
           35.55826771653543,
           108.38244375827084,
           39.777875329236174,
           49.229799159271366,
           177.16952687968143,
           222.1217183770883,
           31.244134648078884,
           131.24099017109575,
           43.538998097653774,
           129.24572946982158,
           167.65163714439078,
           337.28637746620245,
           33.24338624338624,
           201.9880514500992
          ]
         },
         "name": "",
         "parents": [
          "Todesursachen/Alle übrigen Todesursachen/Frauen",
          "Todesursachen/Atmungsorgane/Frauen",
          "Todesursachen/Krebskrankheiten/Frauen",
          "Todesursachen/Kreislaufsystem/Frauen",
          "Todesursachen/Unfälle und Gewalteinwirkungen/Frauen",
          "Todesursachen/Alle übrigen Todesursachen/Männer",
          "Todesursachen/Atmungsorgane/Männer",
          "Todesursachen/Krebskrankheiten/Männer",
          "Todesursachen/Kreislaufsystem/Männer",
          "Todesursachen/Unfälle und Gewalteinwirkungen/Männer",
          "Todesursachen/Alle übrigen Todesursachen/Frauen",
          "Todesursachen/Atmungsorgane/Frauen",
          "Todesursachen/Krebskrankheiten/Frauen",
          "Todesursachen/Kreislaufsystem/Frauen",
          "Todesursachen/Unfälle und Gewalteinwirkungen/Frauen",
          "Todesursachen/Alle übrigen Todesursachen/Männer",
          "Todesursachen/Atmungsorgane/Männer",
          "Todesursachen/Krebskrankheiten/Männer",
          "Todesursachen/Kreislaufsystem/Männer",
          "Todesursachen/Unfälle und Gewalteinwirkungen/Männer",
          "Todesursachen/Alle übrigen Todesursachen/Frauen",
          "Todesursachen/Atmungsorgane/Frauen",
          "Todesursachen/Demenz/Frauen",
          "Todesursachen/Krebskrankheiten/Frauen",
          "Todesursachen/Kreislaufsystem/Frauen",
          "Todesursachen/Unfälle und Gewalteinwirkungen/Frauen",
          "Todesursachen/Alle übrigen Todesursachen/Männer",
          "Todesursachen/Atmungsorgane/Männer",
          "Todesursachen/Demenz/Männer",
          "Todesursachen/Krebskrankheiten/Männer",
          "Todesursachen/Kreislaufsystem/Männer",
          "Todesursachen/Unfälle und Gewalteinwirkungen/Männer",
          "Todesursachen/Alle übrigen Todesursachen/Frauen",
          "Todesursachen/Atmungsorgane/Frauen",
          "Todesursachen/Demenz/Frauen",
          "Todesursachen/Krebskrankheiten/Frauen",
          "Todesursachen/Kreislaufsystem/Frauen",
          "Todesursachen/Unfälle und Gewalteinwirkungen/Frauen",
          "Todesursachen/Alle übrigen Todesursachen/Männer",
          "Todesursachen/Atmungsorgane/Männer",
          "Todesursachen/Demenz/Männer",
          "Todesursachen/Krebskrankheiten/Männer",
          "Todesursachen/Kreislaufsystem/Männer",
          "Todesursachen/Unfälle und Gewalteinwirkungen/Männer",
          "Todesursachen/Alle übrigen Todesursachen/Frauen",
          "Todesursachen/Atmungsorgane/Frauen",
          "Todesursachen/Demenz/Frauen",
          "Todesursachen/Krebskrankheiten/Frauen",
          "Todesursachen/Kreislaufsystem/Frauen",
          "Todesursachen/Unfälle und Gewalteinwirkungen/Frauen",
          "Todesursachen/Alle übrigen Todesursachen/Männer",
          "Todesursachen/Atmungsorgane/Männer",
          "Todesursachen/Demenz/Männer",
          "Todesursachen/Krebskrankheiten/Männer",
          "Todesursachen/Kreislaufsystem/Männer",
          "Todesursachen/Unfälle und Gewalteinwirkungen/Männer",
          "Todesursachen/Alle übrigen Todesursachen",
          "Todesursachen/Atmungsorgane",
          "Todesursachen/Demenz",
          "Todesursachen/Krebskrankheiten",
          "Todesursachen/Kreislaufsystem",
          "Todesursachen/Unfälle und Gewalteinwirkungen",
          "Todesursachen/Alle übrigen Todesursachen",
          "Todesursachen/Atmungsorgane",
          "Todesursachen/Demenz",
          "Todesursachen/Krebskrankheiten",
          "Todesursachen/Kreislaufsystem",
          "Todesursachen/Unfälle und Gewalteinwirkungen",
          "Todesursachen",
          "Todesursachen",
          "Todesursachen",
          "Todesursachen",
          "Todesursachen",
          "Todesursachen",
          ""
         ],
         "root": {
          "color": "lightgrey"
         },
         "type": "treemap",
         "values": [
          211,
          4,
          13,
          2,
          16,
          266,
          3,
          23,
          8,
          22,
          429,
          17,
          265,
          90,
          288,
          899,
          25,
          242,
          177,
          835,
          1029,
          116,
          14,
          1838,
          447,
          303,
          1930,
          202,
          7,
          2110,
          1339,
          646,
          3879,
          1017,
          1282,
          5407,
          5934,
          755,
          3801,
          1177,
          774,
          6085,
          6201,
          822,
          4613,
          1299,
          4466,
          2423,
          12419,
          1178,
          2172,
          871,
          1360,
          2087,
          5264,
          616,
          10161,
          2453,
          5762,
          9946,
          18892,
          2540,
          9068,
          2278,
          2141,
          10547,
          12989,
          2941,
          19229,
          4731,
          7903,
          20493,
          31881,
          5481,
          89718
         ]
        }
       ],
       "layout": {
        "autosize": true,
        "coloraxis": {
         "colorbar": {
          "title": {
           "text": "AnzSterWir"
          }
         },
         "colorscale": [
          [
           0,
           "rgb(247,252,253)"
          ],
          [
           0.125,
           "rgb(224,236,244)"
          ],
          [
           0.25,
           "rgb(191,211,230)"
          ],
          [
           0.375,
           "rgb(158,188,218)"
          ],
          [
           0.5,
           "rgb(140,150,198)"
          ],
          [
           0.625,
           "rgb(140,107,177)"
          ],
          [
           0.75,
           "rgb(136,65,157)"
          ],
          [
           0.875,
           "rgb(129,15,124)"
          ],
          [
           1,
           "rgb(77,0,75)"
          ]
         ]
        },
        "legend": {
         "tracegroupgap": 0
        },
        "margin": {
         "b": 25,
         "l": 25,
         "r": 250,
         "t": 50
        },
        "template": {
         "data": {
          "bar": [
           {
            "error_x": {
             "color": "#2a3f5f"
            },
            "error_y": {
             "color": "#2a3f5f"
            },
            "marker": {
             "line": {
              "color": "#E5ECF6",
              "width": 0.5
             },
             "pattern": {
              "fillmode": "overlay",
              "size": 10,
              "solidity": 0.2
             }
            },
            "type": "bar"
           }
          ],
          "barpolar": [
           {
            "marker": {
             "line": {
              "color": "#E5ECF6",
              "width": 0.5
             },
             "pattern": {
              "fillmode": "overlay",
              "size": 10,
              "solidity": 0.2
             }
            },
            "type": "barpolar"
           }
          ],
          "carpet": [
           {
            "aaxis": {
             "endlinecolor": "#2a3f5f",
             "gridcolor": "white",
             "linecolor": "white",
             "minorgridcolor": "white",
             "startlinecolor": "#2a3f5f"
            },
            "baxis": {
             "endlinecolor": "#2a3f5f",
             "gridcolor": "white",
             "linecolor": "white",
             "minorgridcolor": "white",
             "startlinecolor": "#2a3f5f"
            },
            "type": "carpet"
           }
          ],
          "choropleth": [
           {
            "colorbar": {
             "outlinewidth": 0,
             "ticks": ""
            },
            "type": "choropleth"
           }
          ],
          "contour": [
           {
            "colorbar": {
             "outlinewidth": 0,
             "ticks": ""
            },
            "colorscale": [
             [
              0,
              "#0d0887"
             ],
             [
              0.1111111111111111,
              "#46039f"
             ],
             [
              0.2222222222222222,
              "#7201a8"
             ],
             [
              0.3333333333333333,
              "#9c179e"
             ],
             [
              0.4444444444444444,
              "#bd3786"
             ],
             [
              0.5555555555555556,
              "#d8576b"
             ],
             [
              0.6666666666666666,
              "#ed7953"
             ],
             [
              0.7777777777777778,
              "#fb9f3a"
             ],
             [
              0.8888888888888888,
              "#fdca26"
             ],
             [
              1,
              "#f0f921"
             ]
            ],
            "type": "contour"
           }
          ],
          "contourcarpet": [
           {
            "colorbar": {
             "outlinewidth": 0,
             "ticks": ""
            },
            "type": "contourcarpet"
           }
          ],
          "heatmap": [
           {
            "colorbar": {
             "outlinewidth": 0,
             "ticks": ""
            },
            "colorscale": [
             [
              0,
              "#0d0887"
             ],
             [
              0.1111111111111111,
              "#46039f"
             ],
             [
              0.2222222222222222,
              "#7201a8"
             ],
             [
              0.3333333333333333,
              "#9c179e"
             ],
             [
              0.4444444444444444,
              "#bd3786"
             ],
             [
              0.5555555555555556,
              "#d8576b"
             ],
             [
              0.6666666666666666,
              "#ed7953"
             ],
             [
              0.7777777777777778,
              "#fb9f3a"
             ],
             [
              0.8888888888888888,
              "#fdca26"
             ],
             [
              1,
              "#f0f921"
             ]
            ],
            "type": "heatmap"
           }
          ],
          "heatmapgl": [
           {
            "colorbar": {
             "outlinewidth": 0,
             "ticks": ""
            },
            "colorscale": [
             [
              0,
              "#0d0887"
             ],
             [
              0.1111111111111111,
              "#46039f"
             ],
             [
              0.2222222222222222,
              "#7201a8"
             ],
             [
              0.3333333333333333,
              "#9c179e"
             ],
             [
              0.4444444444444444,
              "#bd3786"
             ],
             [
              0.5555555555555556,
              "#d8576b"
             ],
             [
              0.6666666666666666,
              "#ed7953"
             ],
             [
              0.7777777777777778,
              "#fb9f3a"
             ],
             [
              0.8888888888888888,
              "#fdca26"
             ],
             [
              1,
              "#f0f921"
             ]
            ],
            "type": "heatmapgl"
           }
          ],
          "histogram": [
           {
            "marker": {
             "pattern": {
              "fillmode": "overlay",
              "size": 10,
              "solidity": 0.2
             }
            },
            "type": "histogram"
           }
          ],
          "histogram2d": [
           {
            "colorbar": {
             "outlinewidth": 0,
             "ticks": ""
            },
            "colorscale": [
             [
              0,
              "#0d0887"
             ],
             [
              0.1111111111111111,
              "#46039f"
             ],
             [
              0.2222222222222222,
              "#7201a8"
             ],
             [
              0.3333333333333333,
              "#9c179e"
             ],
             [
              0.4444444444444444,
              "#bd3786"
             ],
             [
              0.5555555555555556,
              "#d8576b"
             ],
             [
              0.6666666666666666,
              "#ed7953"
             ],
             [
              0.7777777777777778,
              "#fb9f3a"
             ],
             [
              0.8888888888888888,
              "#fdca26"
             ],
             [
              1,
              "#f0f921"
             ]
            ],
            "type": "histogram2d"
           }
          ],
          "histogram2dcontour": [
           {
            "colorbar": {
             "outlinewidth": 0,
             "ticks": ""
            },
            "colorscale": [
             [
              0,
              "#0d0887"
             ],
             [
              0.1111111111111111,
              "#46039f"
             ],
             [
              0.2222222222222222,
              "#7201a8"
             ],
             [
              0.3333333333333333,
              "#9c179e"
             ],
             [
              0.4444444444444444,
              "#bd3786"
             ],
             [
              0.5555555555555556,
              "#d8576b"
             ],
             [
              0.6666666666666666,
              "#ed7953"
             ],
             [
              0.7777777777777778,
              "#fb9f3a"
             ],
             [
              0.8888888888888888,
              "#fdca26"
             ],
             [
              1,
              "#f0f921"
             ]
            ],
            "type": "histogram2dcontour"
           }
          ],
          "mesh3d": [
           {
            "colorbar": {
             "outlinewidth": 0,
             "ticks": ""
            },
            "type": "mesh3d"
           }
          ],
          "parcoords": [
           {
            "line": {
             "colorbar": {
              "outlinewidth": 0,
              "ticks": ""
             }
            },
            "type": "parcoords"
           }
          ],
          "pie": [
           {
            "automargin": true,
            "type": "pie"
           }
          ],
          "scatter": [
           {
            "marker": {
             "colorbar": {
              "outlinewidth": 0,
              "ticks": ""
             }
            },
            "type": "scatter"
           }
          ],
          "scatter3d": [
           {
            "line": {
             "colorbar": {
              "outlinewidth": 0,
              "ticks": ""
             }
            },
            "marker": {
             "colorbar": {
              "outlinewidth": 0,
              "ticks": ""
             }
            },
            "type": "scatter3d"
           }
          ],
          "scattercarpet": [
           {
            "marker": {
             "colorbar": {
              "outlinewidth": 0,
              "ticks": ""
             }
            },
            "type": "scattercarpet"
           }
          ],
          "scattergeo": [
           {
            "marker": {
             "colorbar": {
              "outlinewidth": 0,
              "ticks": ""
             }
            },
            "type": "scattergeo"
           }
          ],
          "scattergl": [
           {
            "marker": {
             "colorbar": {
              "outlinewidth": 0,
              "ticks": ""
             }
            },
            "type": "scattergl"
           }
          ],
          "scattermapbox": [
           {
            "marker": {
             "colorbar": {
              "outlinewidth": 0,
              "ticks": ""
             }
            },
            "type": "scattermapbox"
           }
          ],
          "scatterpolar": [
           {
            "marker": {
             "colorbar": {
              "outlinewidth": 0,
              "ticks": ""
             }
            },
            "type": "scatterpolar"
           }
          ],
          "scatterpolargl": [
           {
            "marker": {
             "colorbar": {
              "outlinewidth": 0,
              "ticks": ""
             }
            },
            "type": "scatterpolargl"
           }
          ],
          "scatterternary": [
           {
            "marker": {
             "colorbar": {
              "outlinewidth": 0,
              "ticks": ""
             }
            },
            "type": "scatterternary"
           }
          ],
          "surface": [
           {
            "colorbar": {
             "outlinewidth": 0,
             "ticks": ""
            },
            "colorscale": [
             [
              0,
              "#0d0887"
             ],
             [
              0.1111111111111111,
              "#46039f"
             ],
             [
              0.2222222222222222,
              "#7201a8"
             ],
             [
              0.3333333333333333,
              "#9c179e"
             ],
             [
              0.4444444444444444,
              "#bd3786"
             ],
             [
              0.5555555555555556,
              "#d8576b"
             ],
             [
              0.6666666666666666,
              "#ed7953"
             ],
             [
              0.7777777777777778,
              "#fb9f3a"
             ],
             [
              0.8888888888888888,
              "#fdca26"
             ],
             [
              1,
              "#f0f921"
             ]
            ],
            "type": "surface"
           }
          ],
          "table": [
           {
            "cells": {
             "fill": {
              "color": "#EBF0F8"
             },
             "line": {
              "color": "white"
             }
            },
            "header": {
             "fill": {
              "color": "#C8D4E3"
             },
             "line": {
              "color": "white"
             }
            },
            "type": "table"
           }
          ]
         },
         "layout": {
          "annotationdefaults": {
           "arrowcolor": "#2a3f5f",
           "arrowhead": 0,
           "arrowwidth": 1
          },
          "autotypenumbers": "strict",
          "coloraxis": {
           "colorbar": {
            "outlinewidth": 0,
            "ticks": ""
           }
          },
          "colorscale": {
           "diverging": [
            [
             0,
             "#8e0152"
            ],
            [
             0.1,
             "#c51b7d"
            ],
            [
             0.2,
             "#de77ae"
            ],
            [
             0.3,
             "#f1b6da"
            ],
            [
             0.4,
             "#fde0ef"
            ],
            [
             0.5,
             "#f7f7f7"
            ],
            [
             0.6,
             "#e6f5d0"
            ],
            [
             0.7,
             "#b8e186"
            ],
            [
             0.8,
             "#7fbc41"
            ],
            [
             0.9,
             "#4d9221"
            ],
            [
             1,
             "#276419"
            ]
           ],
           "sequential": [
            [
             0,
             "#0d0887"
            ],
            [
             0.1111111111111111,
             "#46039f"
            ],
            [
             0.2222222222222222,
             "#7201a8"
            ],
            [
             0.3333333333333333,
             "#9c179e"
            ],
            [
             0.4444444444444444,
             "#bd3786"
            ],
            [
             0.5555555555555556,
             "#d8576b"
            ],
            [
             0.6666666666666666,
             "#ed7953"
            ],
            [
             0.7777777777777778,
             "#fb9f3a"
            ],
            [
             0.8888888888888888,
             "#fdca26"
            ],
            [
             1,
             "#f0f921"
            ]
           ],
           "sequentialminus": [
            [
             0,
             "#0d0887"
            ],
            [
             0.1111111111111111,
             "#46039f"
            ],
            [
             0.2222222222222222,
             "#7201a8"
            ],
            [
             0.3333333333333333,
             "#9c179e"
            ],
            [
             0.4444444444444444,
             "#bd3786"
            ],
            [
             0.5555555555555556,
             "#d8576b"
            ],
            [
             0.6666666666666666,
             "#ed7953"
            ],
            [
             0.7777777777777778,
             "#fb9f3a"
            ],
            [
             0.8888888888888888,
             "#fdca26"
            ],
            [
             1,
             "#f0f921"
            ]
           ]
          },
          "colorway": [
           "#636efa",
           "#EF553B",
           "#00cc96",
           "#ab63fa",
           "#FFA15A",
           "#19d3f3",
           "#FF6692",
           "#B6E880",
           "#FF97FF",
           "#FECB52"
          ],
          "font": {
           "color": "#2a3f5f"
          },
          "geo": {
           "bgcolor": "white",
           "lakecolor": "white",
           "landcolor": "#E5ECF6",
           "showlakes": true,
           "showland": true,
           "subunitcolor": "white"
          },
          "hoverlabel": {
           "align": "left"
          },
          "hovermode": "closest",
          "mapbox": {
           "style": "light"
          },
          "paper_bgcolor": "white",
          "plot_bgcolor": "#E5ECF6",
          "polar": {
           "angularaxis": {
            "gridcolor": "white",
            "linecolor": "white",
            "ticks": ""
           },
           "bgcolor": "#E5ECF6",
           "radialaxis": {
            "gridcolor": "white",
            "linecolor": "white",
            "ticks": ""
           }
          },
          "scene": {
           "xaxis": {
            "backgroundcolor": "#E5ECF6",
            "gridcolor": "white",
            "gridwidth": 2,
            "linecolor": "white",
            "showbackground": true,
            "ticks": "",
            "zerolinecolor": "white"
           },
           "yaxis": {
            "backgroundcolor": "#E5ECF6",
            "gridcolor": "white",
            "gridwidth": 2,
            "linecolor": "white",
            "showbackground": true,
            "ticks": "",
            "zerolinecolor": "white"
           },
           "zaxis": {
            "backgroundcolor": "#E5ECF6",
            "gridcolor": "white",
            "gridwidth": 2,
            "linecolor": "white",
            "showbackground": true,
            "ticks": "",
            "zerolinecolor": "white"
           }
          },
          "shapedefaults": {
           "line": {
            "color": "#2a3f5f"
           }
          },
          "ternary": {
           "aaxis": {
            "gridcolor": "white",
            "linecolor": "white",
            "ticks": ""
           },
           "baxis": {
            "gridcolor": "white",
            "linecolor": "white",
            "ticks": ""
           },
           "bgcolor": "#E5ECF6",
           "caxis": {
            "gridcolor": "white",
            "linecolor": "white",
            "ticks": ""
           }
          },
          "title": {
           "x": 0.05
          },
          "xaxis": {
           "automargin": true,
           "gridcolor": "white",
           "linecolor": "white",
           "ticks": "",
           "title": {
            "standoff": 15
           },
           "zerolinecolor": "white",
           "zerolinewidth": 2
          },
          "yaxis": {
           "automargin": true,
           "gridcolor": "white",
           "linecolor": "white",
           "ticks": "",
           "title": {
            "standoff": 15
           },
           "zerolinecolor": "white",
           "zerolinewidth": 2
          }
         }
        }
       }
      },
      "image/png": "[encoded data removed]",
      "text/html": [
       "<div>                            <div id=\"7c2568f1-5326-4090-b05d-732a23169a21\" class=\"plotly-graph-div\" style=\"height:525px; width:100%;\"></div>            <script type=\"text/javascript\">                require([\"plotly\"], function(Plotly) {                    window.PLOTLYENV=window.PLOTLYENV || {};                                    if (document.getElementById(\"7c2568f1-5326-4090-b05d-732a23169a21\")) {                    Plotly.newPlot(                        \"7c2568f1-5326-4090-b05d-732a23169a21\",                        [{\"branchvalues\":\"total\",\"customdata\":[[\"Alle \\u00fcbrigen Todesursachen\",11.644549763033176],[\"Atmungsorgane\",1.0],[\"Krebskrankheiten\",1.3076923076923077],[\"Kreislaufsystem\",1.0],[\"Unf\\u00e4lle und Gewalteinwirkungen\",1.75],[\"Alle \\u00fcbrigen Todesursachen\",13.368421052631579],[\"Atmungsorgane\",1.0],[\"Krebskrankheiten\",1.5217391304347827],[\"Kreislaufsystem\",1.5],[\"Unf\\u00e4lle und Gewalteinwirkungen\",2.090909090909091],[\"Alle \\u00fcbrigen Todesursachen\",24.41724941724942],[\"Atmungsorgane\",1.4705882352941178],[\"Krebskrankheiten\",12.177358490566037],[\"Kreislaufsystem\",4.911111111111111],[\"Unf\\u00e4lle und Gewalteinwirkungen\",13.1875],[\"Alle \\u00fcbrigen Todesursachen\",51.41379310344828],[\"Atmungsorgane\",1.8],[\"Krebskrankheiten\",10.669421487603305],[\"Kreislaufsystem\",8.220338983050848],[\"Unf\\u00e4lle und Gewalteinwirkungen\",36.31497005988024],[\"Alle \\u00fcbrigen Todesursachen\",44.411078717201164],[\"Atmungsorgane\",5.431034482758621],[\"Demenz\",1.5714285714285714],[\"Krebskrankheiten\",75.02285092491839],[\"Kreislaufsystem\",20.45413870246085],[\"Unf\\u00e4lle und Gewalteinwirkungen\",12.98019801980198],[\"Alle \\u00fcbrigen Todesursachen\",78.78963730569949],[\"Atmungsorgane\",8.732673267326733],[\"Demenz\",1.0],[\"Krebskrankheiten\",86.75071090047393],[\"Kreislaufsystem\",57.43166542195669],[\"Unf\\u00e4lle und Gewalteinwirkungen\",26.708978328173373],[\"Alle \\u00fcbrigen Todesursachen\",158.27507089456046],[\"Atmungsorgane\",43.259587020648965],[\"Demenz\",52.90639625585023],[\"Krebskrankheiten\",219.61549842796376],[\"Kreislaufsystem\",264.6747556454331],[\"Unf\\u00e4lle und Gewalteinwirkungen\",33.29139072847682],[\"Alle \\u00fcbrigen Todesursachen\",153.8318863456985],[\"Atmungsorgane\",48.95242141036533],[\"Demenz\",32.38501291989664],[\"Krebskrankheiten\",247.38520953163516],[\"Kreislaufsystem\",272.48234155781324],[\"Unf\\u00e4lle und Gewalteinwirkungen\",34.11678832116788],[\"Alle \\u00fcbrigen Todesursachen\",188.21612833297203],[\"Atmungsorgane\",54.43802925327175],[\"Demenz\",189.91939095387372],[\"Krebskrankheiten\",98.42385472554685],[\"Kreislaufsystem\",506.29849424269264],[\"Unf\\u00e4lle und Gewalteinwirkungen\",48.74702886247878],[\"Alle \\u00fcbrigen Todesursachen\",90.35727440147329],[\"Atmungsorgane\",35.8036739380023],[\"Demenz\",59.06470588235294],[\"Krebskrankheiten\",85.10158121705798],[\"Kreislaufsystem\",212.21656534954408],[\"Unf\\u00e4lle und Gewalteinwirkungen\",26.334415584415584],[\"Alle \\u00fcbrigen Todesursachen\",151.64068497195157],[\"Atmungsorgane\",47.031797798613944],[\"Demenz\",158.9774383894481],[\"Krebskrankheiten\",157.558616529258],[\"Kreislaufsystem\",416.4666525513445],[\"Unf\\u00e4lle und Gewalteinwirkungen\",35.55826771653543],[\"Alle \\u00fcbrigen Todesursachen\",108.38244375827084],[\"Atmungsorgane\",39.777875329236174],[\"Demenz\",49.229799159271366],[\"Krebskrankheiten\",177.16952687968143],[\"Kreislaufsystem\",222.1217183770883],[\"Unf\\u00e4lle und Gewalteinwirkungen\",31.244134648078884],[\"Alle \\u00fcbrigen Todesursachen\",131.24099017109575],[\"Atmungsorgane\",43.538998097653774],[\"Demenz\",129.24572946982158],[\"Krebskrankheiten\",167.65163714439078],[\"Kreislaufsystem\",337.28637746620245],[\"Unf\\u00e4lle und Gewalteinwirkungen\",33.24338624338624],[\"(?)\",201.9880514500992]],\"domain\":{\"x\":[0.0,1.0],\"y\":[0.0,1.0]},\"hovertemplate\":\"labels=%{label}<br>AnzSterWir_sum=%{value}<br>parent=%{parent}<br>id=%{id}<br>TodesursacheSpezLang=%{customdata[0]}<br>AnzSterWir=%{color}<extra></extra>\",\"ids\":[\"Todesursachen/Alle \\u00fcbrigen Todesursachen/Frauen/0 \\u2013 14\",\"Todesursachen/Atmungsorgane/Frauen/0 \\u2013 14\",\"Todesursachen/Krebskrankheiten/Frauen/0 \\u2013 14\",\"Todesursachen/Kreislaufsystem/Frauen/0 \\u2013 14\",\"Todesursachen/Unf\\u00e4lle und Gewalteinwirkungen/Frauen/0 \\u2013 14\",\"Todesursachen/Alle \\u00fcbrigen Todesursachen/M\\u00e4nner/0 \\u2013 14\",\"Todesursachen/Atmungsorgane/M\\u00e4nner/0 \\u2013 14\",\"Todesursachen/Krebskrankheiten/M\\u00e4nner/0 \\u2013 14\",\"Todesursachen/Kreislaufsystem/M\\u00e4nner/0 \\u2013 14\",\"Todesursachen/Unf\\u00e4lle und Gewalteinwirkungen/M\\u00e4nner/0 \\u2013 14\",\"Todesursachen/Alle \\u00fcbrigen Todesursachen/Frauen/15 \\u2013 44\",\"Todesursachen/Atmungsorgane/Frauen/15 \\u2013 44\",\"Todesursachen/Krebskrankheiten/Frauen/15 \\u2013 44\",\"Todesursachen/Kreislaufsystem/Frauen/15 \\u2013 44\",\"Todesursachen/Unf\\u00e4lle und Gewalteinwirkungen/Frauen/15 \\u2013 44\",\"Todesursachen/Alle \\u00fcbrigen Todesursachen/M\\u00e4nner/15 \\u2013 44\",\"Todesursachen/Atmungsorgane/M\\u00e4nner/15 \\u2013 44\",\"Todesursachen/Krebskrankheiten/M\\u00e4nner/15 \\u2013 44\",\"Todesursachen/Kreislaufsystem/M\\u00e4nner/15 \\u2013 44\",\"Todesursachen/Unf\\u00e4lle und Gewalteinwirkungen/M\\u00e4nner/15 \\u2013 44\",\"Todesursachen/Alle \\u00fcbrigen Todesursachen/Frauen/45 \\u2013 64\",\"Todesursachen/Atmungsorgane/Frauen/45 \\u2013 64\",\"Todesursachen/Demenz/Frauen/45 \\u2013 64\",\"Todesursachen/Krebskrankheiten/Frauen/45 \\u2013 64\",\"Todesursachen/Kreislaufsystem/Frauen/45 \\u2013 64\",\"Todesursachen/Unf\\u00e4lle und Gewalteinwirkungen/Frauen/45 \\u2013 64\",\"Todesursachen/Alle \\u00fcbrigen Todesursachen/M\\u00e4nner/45 \\u2013 64\",\"Todesursachen/Atmungsorgane/M\\u00e4nner/45 \\u2013 64\",\"Todesursachen/Demenz/M\\u00e4nner/45 \\u2013 64\",\"Todesursachen/Krebskrankheiten/M\\u00e4nner/45 \\u2013 64\",\"Todesursachen/Kreislaufsystem/M\\u00e4nner/45 \\u2013 64\",\"Todesursachen/Unf\\u00e4lle und Gewalteinwirkungen/M\\u00e4nner/45 \\u2013 64\",\"Todesursachen/Alle \\u00fcbrigen Todesursachen/Frauen/65 \\u2013 84\",\"Todesursachen/Atmungsorgane/Frauen/65 \\u2013 84\",\"Todesursachen/Demenz/Frauen/65 \\u2013 84\",\"Todesursachen/Krebskrankheiten/Frauen/65 \\u2013 84\",\"Todesursachen/Kreislaufsystem/Frauen/65 \\u2013 84\",\"Todesursachen/Unf\\u00e4lle und Gewalteinwirkungen/Frauen/65 \\u2013 84\",\"Todesursachen/Alle \\u00fcbrigen Todesursachen/M\\u00e4nner/65 \\u2013 84\",\"Todesursachen/Atmungsorgane/M\\u00e4nner/65 \\u2013 84\",\"Todesursachen/Demenz/M\\u00e4nner/65 \\u2013 84\",\"Todesursachen/Krebskrankheiten/M\\u00e4nner/65 \\u2013 84\",\"Todesursachen/Kreislaufsystem/M\\u00e4nner/65 \\u2013 84\",\"Todesursachen/Unf\\u00e4lle und Gewalteinwirkungen/M\\u00e4nner/65 \\u2013 84\",\"Todesursachen/Alle \\u00fcbrigen Todesursachen/Frauen/85 und \\u00e4lter\",\"Todesursachen/Atmungsorgane/Frauen/85 und \\u00e4lter\",\"Todesursachen/Demenz/Frauen/85 und \\u00e4lter\",\"Todesursachen/Krebskrankheiten/Frauen/85 und \\u00e4lter\",\"Todesursachen/Kreislaufsystem/Frauen/85 und \\u00e4lter\",\"Todesursachen/Unf\\u00e4lle und Gewalteinwirkungen/Frauen/85 und \\u00e4lter\",\"Todesursachen/Alle \\u00fcbrigen Todesursachen/M\\u00e4nner/85 und \\u00e4lter\",\"Todesursachen/Atmungsorgane/M\\u00e4nner/85 und \\u00e4lter\",\"Todesursachen/Demenz/M\\u00e4nner/85 und \\u00e4lter\",\"Todesursachen/Krebskrankheiten/M\\u00e4nner/85 und \\u00e4lter\",\"Todesursachen/Kreislaufsystem/M\\u00e4nner/85 und \\u00e4lter\",\"Todesursachen/Unf\\u00e4lle und Gewalteinwirkungen/M\\u00e4nner/85 und \\u00e4lter\",\"Todesursachen/Alle \\u00fcbrigen Todesursachen/Frauen\",\"Todesursachen/Atmungsorgane/Frauen\",\"Todesursachen/Demenz/Frauen\",\"Todesursachen/Krebskrankheiten/Frauen\",\"Todesursachen/Kreislaufsystem/Frauen\",\"Todesursachen/Unf\\u00e4lle und Gewalteinwirkungen/Frauen\",\"Todesursachen/Alle \\u00fcbrigen Todesursachen/M\\u00e4nner\",\"Todesursachen/Atmungsorgane/M\\u00e4nner\",\"Todesursachen/Demenz/M\\u00e4nner\",\"Todesursachen/Krebskrankheiten/M\\u00e4nner\",\"Todesursachen/Kreislaufsystem/M\\u00e4nner\",\"Todesursachen/Unf\\u00e4lle und Gewalteinwirkungen/M\\u00e4nner\",\"Todesursachen/Alle \\u00fcbrigen Todesursachen\",\"Todesursachen/Atmungsorgane\",\"Todesursachen/Demenz\",\"Todesursachen/Krebskrankheiten\",\"Todesursachen/Kreislaufsystem\",\"Todesursachen/Unf\\u00e4lle und Gewalteinwirkungen\",\"Todesursachen\"],\"labels\":[\"0 \\u2013 14\",\"0 \\u2013 14\",\"0 \\u2013 14\",\"0 \\u2013 14\",\"0 \\u2013 14\",\"0 \\u2013 14\",\"0 \\u2013 14\",\"0 \\u2013 14\",\"0 \\u2013 14\",\"0 \\u2013 14\",\"15 \\u2013 44\",\"15 \\u2013 44\",\"15 \\u2013 44\",\"15 \\u2013 44\",\"15 \\u2013 44\",\"15 \\u2013 44\",\"15 \\u2013 44\",\"15 \\u2013 44\",\"15 \\u2013 44\",\"15 \\u2013 44\",\"45 \\u2013 64\",\"45 \\u2013 64\",\"45 \\u2013 64\",\"45 \\u2013 64\",\"45 \\u2013 64\",\"45 \\u2013 64\",\"45 \\u2013 64\",\"45 \\u2013 64\",\"45 \\u2013 64\",\"45 \\u2013 64\",\"45 \\u2013 64\",\"45 \\u2013 64\",\"65 \\u2013 84\",\"65 \\u2013 84\",\"65 \\u2013 84\",\"65 \\u2013 84\",\"65 \\u2013 84\",\"65 \\u2013 84\",\"65 \\u2013 84\",\"65 \\u2013 84\",\"65 \\u2013 84\",\"65 \\u2013 84\",\"65 \\u2013 84\",\"65 \\u2013 84\",\"85 und \\u00e4lter\",\"85 und \\u00e4lter\",\"85 und \\u00e4lter\",\"85 und \\u00e4lter\",\"85 und \\u00e4lter\",\"85 und \\u00e4lter\",\"85 und \\u00e4lter\",\"85 und \\u00e4lter\",\"85 und \\u00e4lter\",\"85 und \\u00e4lter\",\"85 und \\u00e4lter\",\"85 und \\u00e4lter\",\"Frauen\",\"Frauen\",\"Frauen\",\"Frauen\",\"Frauen\",\"Frauen\",\"M\\u00e4nner\",\"M\\u00e4nner\",\"M\\u00e4nner\",\"M\\u00e4nner\",\"M\\u00e4nner\",\"M\\u00e4nner\",\"Alle \\u00fcbrigen Todesursachen\",\"Atmungsorgane\",\"Demenz\",\"Krebskrankheiten\",\"Kreislaufsystem\",\"Unf\\u00e4lle und Gewalteinwirkungen\",\"Todesursachen\"],\"marker\":{\"coloraxis\":\"coloraxis\",\"colors\":[11.644549763033176,1.0,1.3076923076923077,1.0,1.75,13.368421052631579,1.0,1.5217391304347827,1.5,2.090909090909091,24.41724941724942,1.4705882352941178,12.177358490566037,4.911111111111111,13.1875,51.41379310344828,1.8,10.669421487603305,8.220338983050848,36.31497005988024,44.411078717201164,5.431034482758621,1.5714285714285714,75.02285092491839,20.45413870246085,12.98019801980198,78.78963730569949,8.732673267326733,1.0,86.75071090047393,57.43166542195669,26.708978328173373,158.27507089456046,43.259587020648965,52.90639625585023,219.61549842796376,264.6747556454331,33.29139072847682,153.8318863456985,48.95242141036533,32.38501291989664,247.38520953163516,272.48234155781324,34.11678832116788,188.21612833297203,54.43802925327175,189.91939095387372,98.42385472554685,506.29849424269264,48.74702886247878,90.35727440147329,35.8036739380023,59.06470588235294,85.10158121705798,212.21656534954408,26.334415584415584,151.64068497195157,47.031797798613944,158.9774383894481,157.558616529258,416.4666525513445,35.55826771653543,108.38244375827084,39.777875329236174,49.229799159271366,177.16952687968143,222.1217183770883,31.244134648078884,131.24099017109575,43.538998097653774,129.24572946982158,167.65163714439078,337.28637746620245,33.24338624338624,201.9880514500992]},\"name\":\"\",\"parents\":[\"Todesursachen/Alle \\u00fcbrigen Todesursachen/Frauen\",\"Todesursachen/Atmungsorgane/Frauen\",\"Todesursachen/Krebskrankheiten/Frauen\",\"Todesursachen/Kreislaufsystem/Frauen\",\"Todesursachen/Unf\\u00e4lle und Gewalteinwirkungen/Frauen\",\"Todesursachen/Alle \\u00fcbrigen Todesursachen/M\\u00e4nner\",\"Todesursachen/Atmungsorgane/M\\u00e4nner\",\"Todesursachen/Krebskrankheiten/M\\u00e4nner\",\"Todesursachen/Kreislaufsystem/M\\u00e4nner\",\"Todesursachen/Unf\\u00e4lle und Gewalteinwirkungen/M\\u00e4nner\",\"Todesursachen/Alle \\u00fcbrigen Todesursachen/Frauen\",\"Todesursachen/Atmungsorgane/Frauen\",\"Todesursachen/Krebskrankheiten/Frauen\",\"Todesursachen/Kreislaufsystem/Frauen\",\"Todesursachen/Unf\\u00e4lle und Gewalteinwirkungen/Frauen\",\"Todesursachen/Alle \\u00fcbrigen Todesursachen/M\\u00e4nner\",\"Todesursachen/Atmungsorgane/M\\u00e4nner\",\"Todesursachen/Krebskrankheiten/M\\u00e4nner\",\"Todesursachen/Kreislaufsystem/M\\u00e4nner\",\"Todesursachen/Unf\\u00e4lle und Gewalteinwirkungen/M\\u00e4nner\",\"Todesursachen/Alle \\u00fcbrigen Todesursachen/Frauen\",\"Todesursachen/Atmungsorgane/Frauen\",\"Todesursachen/Demenz/Frauen\",\"Todesursachen/Krebskrankheiten/Frauen\",\"Todesursachen/Kreislaufsystem/Frauen\",\"Todesursachen/Unf\\u00e4lle und Gewalteinwirkungen/Frauen\",\"Todesursachen/Alle \\u00fcbrigen Todesursachen/M\\u00e4nner\",\"Todesursachen/Atmungsorgane/M\\u00e4nner\",\"Todesursachen/Demenz/M\\u00e4nner\",\"Todesursachen/Krebskrankheiten/M\\u00e4nner\",\"Todesursachen/Kreislaufsystem/M\\u00e4nner\",\"Todesursachen/Unf\\u00e4lle und Gewalteinwirkungen/M\\u00e4nner\",\"Todesursachen/Alle \\u00fcbrigen Todesursachen/Frauen\",\"Todesursachen/Atmungsorgane/Frauen\",\"Todesursachen/Demenz/Frauen\",\"Todesursachen/Krebskrankheiten/Frauen\",\"Todesursachen/Kreislaufsystem/Frauen\",\"Todesursachen/Unf\\u00e4lle und Gewalteinwirkungen/Frauen\",\"Todesursachen/Alle \\u00fcbrigen Todesursachen/M\\u00e4nner\",\"Todesursachen/Atmungsorgane/M\\u00e4nner\",\"Todesursachen/Demenz/M\\u00e4nner\",\"Todesursachen/Krebskrankheiten/M\\u00e4nner\",\"Todesursachen/Kreislaufsystem/M\\u00e4nner\",\"Todesursachen/Unf\\u00e4lle und Gewalteinwirkungen/M\\u00e4nner\",\"Todesursachen/Alle \\u00fcbrigen Todesursachen/Frauen\",\"Todesursachen/Atmungsorgane/Frauen\",\"Todesursachen/Demenz/Frauen\",\"Todesursachen/Krebskrankheiten/Frauen\",\"Todesursachen/Kreislaufsystem/Frauen\",\"Todesursachen/Unf\\u00e4lle und Gewalteinwirkungen/Frauen\",\"Todesursachen/Alle \\u00fcbrigen Todesursachen/M\\u00e4nner\",\"Todesursachen/Atmungsorgane/M\\u00e4nner\",\"Todesursachen/Demenz/M\\u00e4nner\",\"Todesursachen/Krebskrankheiten/M\\u00e4nner\",\"Todesursachen/Kreislaufsystem/M\\u00e4nner\",\"Todesursachen/Unf\\u00e4lle und Gewalteinwirkungen/M\\u00e4nner\",\"Todesursachen/Alle \\u00fcbrigen Todesursachen\",\"Todesursachen/Atmungsorgane\",\"Todesursachen/Demenz\",\"Todesursachen/Krebskrankheiten\",\"Todesursachen/Kreislaufsystem\",\"Todesursachen/Unf\\u00e4lle und Gewalteinwirkungen\",\"Todesursachen/Alle \\u00fcbrigen Todesursachen\",\"Todesursachen/Atmungsorgane\",\"Todesursachen/Demenz\",\"Todesursachen/Krebskrankheiten\",\"Todesursachen/Kreislaufsystem\",\"Todesursachen/Unf\\u00e4lle und Gewalteinwirkungen\",\"Todesursachen\",\"Todesursachen\",\"Todesursachen\",\"Todesursachen\",\"Todesursachen\",\"Todesursachen\",\"\"],\"root\":{\"color\":\"lightgrey\"},\"type\":\"treemap\",\"values\":[211,4,13,2,16,266,3,23,8,22,429,17,265,90,288,899,25,242,177,835,1029,116,14,1838,447,303,1930,202,7,2110,1339,646,3879,1017,1282,5407,5934,755,3801,1177,774,6085,6201,822,4613,1299,4466,2423,12419,1178,2172,871,1360,2087,5264,616,10161,2453,5762,9946,18892,2540,9068,2278,2141,10547,12989,2941,19229,4731,7903,20493,31881,5481,89718]}],                        {\"coloraxis\":{\"colorbar\":{\"title\":{\"text\":\"AnzSterWir\"}},\"colorscale\":[[0.0,\"rgb(247,252,253)\"],[0.125,\"rgb(224,236,244)\"],[0.25,\"rgb(191,211,230)\"],[0.375,\"rgb(158,188,218)\"],[0.5,\"rgb(140,150,198)\"],[0.625,\"rgb(140,107,177)\"],[0.75,\"rgb(136,65,157)\"],[0.875,\"rgb(129,15,124)\"],[1.0,\"rgb(77,0,75)\"]]},\"legend\":{\"tracegroupgap\":0},\"margin\":{\"b\":25,\"l\":25,\"r\":250,\"t\":50},\"template\":{\"data\":{\"bar\":[{\"error_x\":{\"color\":\"#2a3f5f\"},\"error_y\":{\"color\":\"#2a3f5f\"},\"marker\":{\"line\":{\"color\":\"#E5ECF6\",\"width\":0.5},\"pattern\":{\"fillmode\":\"overlay\",\"size\":10,\"solidity\":0.2}},\"type\":\"bar\"}],\"barpolar\":[{\"marker\":{\"line\":{\"color\":\"#E5ECF6\",\"width\":0.5},\"pattern\":{\"fillmode\":\"overlay\",\"size\":10,\"solidity\":0.2}},\"type\":\"barpolar\"}],\"carpet\":[{\"aaxis\":{\"endlinecolor\":\"#2a3f5f\",\"gridcolor\":\"white\",\"linecolor\":\"white\",\"minorgridcolor\":\"white\",\"startlinecolor\":\"#2a3f5f\"},\"baxis\":{\"endlinecolor\":\"#2a3f5f\",\"gridcolor\":\"white\",\"linecolor\":\"white\",\"minorgridcolor\":\"white\",\"startlinecolor\":\"#2a3f5f\"},\"type\":\"carpet\"}],\"choropleth\":[{\"colorbar\":{\"outlinewidth\":0,\"ticks\":\"\"},\"type\":\"choropleth\"}],\"contour\":[{\"colorbar\":{\"outlinewidth\":0,\"ticks\":\"\"},\"colorscale\":[[0.0,\"#0d0887\"],[0.1111111111111111,\"#46039f\"],[0.2222222222222222,\"#7201a8\"],[0.3333333333333333,\"#9c179e\"],[0.4444444444444444,\"#bd3786\"],[0.5555555555555556,\"#d8576b\"],[0.6666666666666666,\"#ed7953\"],[0.7777777777777778,\"#fb9f3a\"],[0.8888888888888888,\"#fdca26\"],[1.0,\"#f0f921\"]],\"type\":\"contour\"}],\"contourcarpet\":[{\"colorbar\":{\"outlinewidth\":0,\"ticks\":\"\"},\"type\":\"contourcarpet\"}],\"heatmap\":[{\"colorbar\":{\"outlinewidth\":0,\"ticks\":\"\"},\"colorscale\":[[0.0,\"#0d0887\"],[0.1111111111111111,\"#46039f\"],[0.2222222222222222,\"#7201a8\"],[0.3333333333333333,\"#9c179e\"],[0.4444444444444444,\"#bd3786\"],[0.5555555555555556,\"#d8576b\"],[0.6666666666666666,\"#ed7953\"],[0.7777777777777778,\"#fb9f3a\"],[0.8888888888888888,\"#fdca26\"],[1.0,\"#f0f921\"]],\"type\":\"heatmap\"}],\"heatmapgl\":[{\"colorbar\":{\"outlinewidth\":0,\"ticks\":\"\"},\"colorscale\":[[0.0,\"#0d0887\"],[0.1111111111111111,\"#46039f\"],[0.2222222222222222,\"#7201a8\"],[0.3333333333333333,\"#9c179e\"],[0.4444444444444444,\"#bd3786\"],[0.5555555555555556,\"#d8576b\"],[0.6666666666666666,\"#ed7953\"],[0.7777777777777778,\"#fb9f3a\"],[0.8888888888888888,\"#fdca26\"],[1.0,\"#f0f921\"]],\"type\":\"heatmapgl\"}],\"histogram\":[{\"marker\":{\"pattern\":{\"fillmode\":\"overlay\",\"size\":10,\"solidity\":0.2}},\"type\":\"histogram\"}],\"histogram2d\":[{\"colorbar\":{\"outlinewidth\":0,\"ticks\":\"\"},\"colorscale\":[[0.0,\"#0d0887\"],[0.1111111111111111,\"#46039f\"],[0.2222222222222222,\"#7201a8\"],[0.3333333333333333,\"#9c179e\"],[0.4444444444444444,\"#bd3786\"],[0.5555555555555556,\"#d8576b\"],[0.6666666666666666,\"#ed7953\"],[0.7777777777777778,\"#fb9f3a\"],[0.8888888888888888,\"#fdca26\"],[1.0,\"#f0f921\"]],\"type\":\"histogram2d\"}],\"histogram2dcontour\":[{\"colorbar\":{\"outlinewidth\":0,\"ticks\":\"\"},\"colorscale\":[[0.0,\"#0d0887\"],[0.1111111111111111,\"#46039f\"],[0.2222222222222222,\"#7201a8\"],[0.3333333333333333,\"#9c179e\"],[0.4444444444444444,\"#bd3786\"],[0.5555555555555556,\"#d8576b\"],[0.6666666666666666,\"#ed7953\"],[0.7777777777777778,\"#fb9f3a\"],[0.8888888888888888,\"#fdca26\"],[1.0,\"#f0f921\"]],\"type\":\"histogram2dcontour\"}],\"mesh3d\":[{\"colorbar\":{\"outlinewidth\":0,\"ticks\":\"\"},\"type\":\"mesh3d\"}],\"parcoords\":[{\"line\":{\"colorbar\":{\"outlinewidth\":0,\"ticks\":\"\"}},\"type\":\"parcoords\"}],\"pie\":[{\"automargin\":true,\"type\":\"pie\"}],\"scatter\":[{\"marker\":{\"colorbar\":{\"outlinewidth\":0,\"ticks\":\"\"}},\"type\":\"scatter\"}],\"scatter3d\":[{\"line\":{\"colorbar\":{\"outlinewidth\":0,\"ticks\":\"\"}},\"marker\":{\"colorbar\":{\"outlinewidth\":0,\"ticks\":\"\"}},\"type\":\"scatter3d\"}],\"scattercarpet\":[{\"marker\":{\"colorbar\":{\"outlinewidth\":0,\"ticks\":\"\"}},\"type\":\"scattercarpet\"}],\"scattergeo\":[{\"marker\":{\"colorbar\":{\"outlinewidth\":0,\"ticks\":\"\"}},\"type\":\"scattergeo\"}],\"scattergl\":[{\"marker\":{\"colorbar\":{\"outlinewidth\":0,\"ticks\":\"\"}},\"type\":\"scattergl\"}],\"scattermapbox\":[{\"marker\":{\"colorbar\":{\"outlinewidth\":0,\"ticks\":\"\"}},\"type\":\"scattermapbox\"}],\"scatterpolar\":[{\"marker\":{\"colorbar\":{\"outlinewidth\":0,\"ticks\":\"\"}},\"type\":\"scatterpolar\"}],\"scatterpolargl\":[{\"marker\":{\"colorbar\":{\"outlinewidth\":0,\"ticks\":\"\"}},\"type\":\"scatterpolargl\"}],\"scatterternary\":[{\"marker\":{\"colorbar\":{\"outlinewidth\":0,\"ticks\":\"\"}},\"type\":\"scatterternary\"}],\"surface\":[{\"colorbar\":{\"outlinewidth\":0,\"ticks\":\"\"},\"colorscale\":[[0.0,\"#0d0887\"],[0.1111111111111111,\"#46039f\"],[0.2222222222222222,\"#7201a8\"],[0.3333333333333333,\"#9c179e\"],[0.4444444444444444,\"#bd3786\"],[0.5555555555555556,\"#d8576b\"],[0.6666666666666666,\"#ed7953\"],[0.7777777777777778,\"#fb9f3a\"],[0.8888888888888888,\"#fdca26\"],[1.0,\"#f0f921\"]],\"type\":\"surface\"}],\"table\":[{\"cells\":{\"fill\":{\"color\":\"#EBF0F8\"},\"line\":{\"color\":\"white\"}},\"header\":{\"fill\":{\"color\":\"#C8D4E3\"},\"line\":{\"color\":\"white\"}},\"type\":\"table\"}]},\"layout\":{\"annotationdefaults\":{\"arrowcolor\":\"#2a3f5f\",\"arrowhead\":0,\"arrowwidth\":1},\"autotypenumbers\":\"strict\",\"coloraxis\":{\"colorbar\":{\"outlinewidth\":0,\"ticks\":\"\"}},\"colorscale\":{\"diverging\":[[0,\"#8e0152\"],[0.1,\"#c51b7d\"],[0.2,\"#de77ae\"],[0.3,\"#f1b6da\"],[0.4,\"#fde0ef\"],[0.5,\"#f7f7f7\"],[0.6,\"#e6f5d0\"],[0.7,\"#b8e186\"],[0.8,\"#7fbc41\"],[0.9,\"#4d9221\"],[1,\"#276419\"]],\"sequential\":[[0.0,\"#0d0887\"],[0.1111111111111111,\"#46039f\"],[0.2222222222222222,\"#7201a8\"],[0.3333333333333333,\"#9c179e\"],[0.4444444444444444,\"#bd3786\"],[0.5555555555555556,\"#d8576b\"],[0.6666666666666666,\"#ed7953\"],[0.7777777777777778,\"#fb9f3a\"],[0.8888888888888888,\"#fdca26\"],[1.0,\"#f0f921\"]],\"sequentialminus\":[[0.0,\"#0d0887\"],[0.1111111111111111,\"#46039f\"],[0.2222222222222222,\"#7201a8\"],[0.3333333333333333,\"#9c179e\"],[0.4444444444444444,\"#bd3786\"],[0.5555555555555556,\"#d8576b\"],[0.6666666666666666,\"#ed7953\"],[0.7777777777777778,\"#fb9f3a\"],[0.8888888888888888,\"#fdca26\"],[1.0,\"#f0f921\"]]},\"colorway\":[\"#636efa\",\"#EF553B\",\"#00cc96\",\"#ab63fa\",\"#FFA15A\",\"#19d3f3\",\"#FF6692\",\"#B6E880\",\"#FF97FF\",\"#FECB52\"],\"font\":{\"color\":\"#2a3f5f\"},\"geo\":{\"bgcolor\":\"white\",\"lakecolor\":\"white\",\"landcolor\":\"#E5ECF6\",\"showlakes\":true,\"showland\":true,\"subunitcolor\":\"white\"},\"hoverlabel\":{\"align\":\"left\"},\"hovermode\":\"closest\",\"mapbox\":{\"style\":\"light\"},\"paper_bgcolor\":\"white\",\"plot_bgcolor\":\"#E5ECF6\",\"polar\":{\"angularaxis\":{\"gridcolor\":\"white\",\"linecolor\":\"white\",\"ticks\":\"\"},\"bgcolor\":\"#E5ECF6\",\"radialaxis\":{\"gridcolor\":\"white\",\"linecolor\":\"white\",\"ticks\":\"\"}},\"scene\":{\"xaxis\":{\"backgroundcolor\":\"#E5ECF6\",\"gridcolor\":\"white\",\"gridwidth\":2,\"linecolor\":\"white\",\"showbackground\":true,\"ticks\":\"\",\"zerolinecolor\":\"white\"},\"yaxis\":{\"backgroundcolor\":\"#E5ECF6\",\"gridcolor\":\"white\",\"gridwidth\":2,\"linecolor\":\"white\",\"showbackground\":true,\"ticks\":\"\",\"zerolinecolor\":\"white\"},\"zaxis\":{\"backgroundcolor\":\"#E5ECF6\",\"gridcolor\":\"white\",\"gridwidth\":2,\"linecolor\":\"white\",\"showbackground\":true,\"ticks\":\"\",\"zerolinecolor\":\"white\"}},\"shapedefaults\":{\"line\":{\"color\":\"#2a3f5f\"}},\"ternary\":{\"aaxis\":{\"gridcolor\":\"white\",\"linecolor\":\"white\",\"ticks\":\"\"},\"baxis\":{\"gridcolor\":\"white\",\"linecolor\":\"white\",\"ticks\":\"\"},\"bgcolor\":\"#E5ECF6\",\"caxis\":{\"gridcolor\":\"white\",\"linecolor\":\"white\",\"ticks\":\"\"}},\"title\":{\"x\":0.05},\"xaxis\":{\"automargin\":true,\"gridcolor\":\"white\",\"linecolor\":\"white\",\"ticks\":\"\",\"title\":{\"standoff\":15},\"zerolinecolor\":\"white\",\"zerolinewidth\":2},\"yaxis\":{\"automargin\":true,\"gridcolor\":\"white\",\"linecolor\":\"white\",\"ticks\":\"\",\"title\":{\"standoff\":15},\"zerolinecolor\":\"white\",\"zerolinewidth\":2}}}},                        {\"responsive\": true}                    ).then(function(){\n",
       "                            \n",
       "var gd = document.getElementById('7c2568f1-5326-4090-b05d-732a23169a21');\n",
       "var x = new MutationObserver(function (mutations, observer) {{\n",
       "        var display = window.getComputedStyle(gd).display;\n",
       "        if (!display || display === 'none') {{\n",
       "            console.log([gd, 'removed!']);\n",
       "            Plotly.purge(gd);\n",
       "            observer.disconnect();\n",
       "        }}\n",
       "}});\n",
       "\n",
       "// Listen for the removal of the full notebook cells\n",
       "var notebookContainer = gd.closest('#notebook-container');\n",
       "if (notebookContainer) {{\n",
       "    x.observe(notebookContainer, {childList: true});\n",
       "}}\n",
       "\n",
       "// Listen for the clearing of the current output cell\n",
       "var outputEl = gd.closest('.output');\n",
       "if (outputEl) {{\n",
       "    x.observe(outputEl, {childList: true});\n",
       "}}\n",
       "\n",
       "                        })                };                });            </script>        </div>"
      ]
     },
     "metadata": {},
     "output_type": "display_data"
    }
   ],
   "source": [
    "df = data2betested\n",
    "fig = px.treemap(df, path=[px.Constant(\"Todesursachen\"), 'TodesursacheSpezLang', 'Geschlecht', 'AlterVSort_Nam'], values='AnzSterWir',\n",
    "                color='AnzSterWir', hover_data=['TodesursacheSpezLang'],\n",
    "                color_continuous_scale='BuPu')\n",
    "                #color_continuous_midpoint=np.average(df['AnzBestWir'], weights=df['AnzBestWir']))\n",
    "fig.update_traces(root_color=\"lightgrey\")\n",
    "fig.update_layout(margin = dict(t=50, l=25, r=250, b=25))\n",
    "fig.show()\n",
    "\n"
   ]
  },
  {
   "cell_type": "code",
   "execution_count": 61,
   "metadata": {},
   "outputs": [],
   "source": [
    "fig.write_html(\"C:/Users/sszsim/Downloads/todesursachen_geschlecht_alter.html\")"
   ]
  },
  {
   "cell_type": "code",
   "execution_count": null,
   "metadata": {},
   "outputs": [],
   "source": [
    "\n",
    "\n",
    "\n",
    "\n",
    "\n",
    "\n",
    "\n",
    "\n",
    "\n",
    "\n"
   ]
  },
  {
   "cell_type": "code",
   "execution_count": 62,
   "metadata": {},
   "outputs": [
    {
     "data": {
      "application/vnd.plotly.v1+json": {
       "config": {
        "plotlyServerURL": "https://plot.ly"
       },
       "data": [
        {
         "branchvalues": "total",
         "customdata": [
          [
           "Alle übrigen Todesursachen",
           134.29496402877697
          ],
          [
           "Alle übrigen Todesursachen",
           113.42494226327945
          ],
          [
           "Atmungsorgane",
           52.45614035087719
          ],
          [
           "Atmungsorgane",
           41.714285714285715
          ],
          [
           "Demenz",
           99.72258064516129
          ],
          [
           "Demenz",
           29.96551724137931
          ],
          [
           "Krebskrankheiten",
           210.83493282149712
          ],
          [
           "Krebskrankheiten",
           202.86335403726707
          ],
          [
           "Kreislaufsystem",
           447.31115879828326
          ],
          [
           "Kreislaufsystem",
           315.0942857142857
          ],
          [
           "Unfälle und Gewalteinwirkungen",
           32.36206896551724
          ],
          [
           "Unfälle und Gewalteinwirkungen",
           38.95744680851064
          ],
          [
           "Alle übrigen Todesursachen",
           141.88584474885846
          ],
          [
           "Alle übrigen Todesursachen",
           101.59895833333333
          ],
          [
           "Atmungsorgane",
           29.613333333333333
          ],
          [
           "Atmungsorgane",
           41.74418604651163
          ],
          [
           "Demenz",
           84.5104895104895
          ],
          [
           "Demenz",
           30.833333333333332
          ],
          [
           "Krebskrankheiten",
           175.59375
          ],
          [
           "Krebskrankheiten",
           227.25818882466282
          ],
          [
           "Kreislaufsystem",
           483.0995024875622
          ],
          [
           "Kreislaufsystem",
           293.6302521008403
          ],
          [
           "Unfälle und Gewalteinwirkungen",
           29.784313725490197
          ],
          [
           "Unfälle und Gewalteinwirkungen",
           34.587786259541986
          ],
          [
           "Alle übrigen Todesursachen",
           130.28571428571428
          ],
          [
           "Alle übrigen Todesursachen",
           98.41361256544502
          ],
          [
           "Atmungsorgane",
           65.3
          ],
          [
           "Atmungsorgane",
           50.64485981308411
          ],
          [
           "Demenz",
           83.93055555555556
          ],
          [
           "Demenz",
           31.50793650793651
          ],
          [
           "Krebskrankheiten",
           173.30669546436286
          ],
          [
           "Krebskrankheiten",
           200.8995983935743
          ],
          [
           "Kreislaufsystem",
           469.6694825765575
          ],
          [
           "Kreislaufsystem",
           290.5206847360913
          ],
          [
           "Unfälle und Gewalteinwirkungen",
           32.05154639175258
          ],
          [
           "Unfälle und Gewalteinwirkungen",
           39.74285714285714
          ],
          [
           "Alle übrigen Todesursachen",
           113.93409742120343
          ],
          [
           "Alle übrigen Todesursachen",
           91.9364161849711
          ],
          [
           "Atmungsorgane",
           68.95890410958904
          ],
          [
           "Atmungsorgane",
           53.11666666666667
          ],
          [
           "Demenz",
           97.90123456790124
          ],
          [
           "Demenz",
           32.07936507936508
          ],
          [
           "Krebskrankheiten",
           172.05882352941177
          ],
          [
           "Krebskrankheiten",
           220.68525896414343
          ],
          [
           "Kreislaufsystem",
           471.18106139438083
          ],
          [
           "Kreislaufsystem",
           281.54491899852724
          ],
          [
           "Unfälle und Gewalteinwirkungen",
           32.54
          ],
          [
           "Unfälle und Gewalteinwirkungen",
           35.52100840336134
          ],
          [
           "Alle übrigen Todesursachen",
           130.17708333333334
          ],
          [
           "Alle übrigen Todesursachen",
           101.24858757062147
          ],
          [
           "Atmungsorgane",
           57.03305785123967
          ],
          [
           "Atmungsorgane",
           47.1551724137931
          ],
          [
           "Demenz",
           119.38674033149171
          ],
          [
           "Demenz",
           35.6764705882353
          ],
          [
           "Krebskrankheiten",
           174.35469107551486
          ],
          [
           "Krebskrankheiten",
           196.19747899159663
          ],
          [
           "Kreislaufsystem",
           508.18633540372673
          ],
          [
           "Kreislaufsystem",
           260.346875
          ],
          [
           "Unfälle und Gewalteinwirkungen",
           27.67391304347826
          ],
          [
           "Unfälle und Gewalteinwirkungen",
           31.194690265486727
          ],
          [
           "Alle übrigen Todesursachen",
           147.91162790697675
          ],
          [
           "Alle übrigen Todesursachen",
           105.89583333333333
          ],
          [
           "Atmungsorgane",
           38.68421052631579
          ],
          [
           "Atmungsorgane",
           49.336283185840706
          ],
          [
           "Demenz",
           121.08938547486034
          ],
          [
           "Demenz",
           39.74666666666667
          ],
          [
           "Krebskrankheiten",
           160.33663366336634
          ],
          [
           "Krebskrankheiten",
           185.10138248847926
          ],
          [
           "Kreislaufsystem",
           505.6424242424242
          ],
          [
           "Kreislaufsystem",
           267.527950310559
          ],
          [
           "Unfälle und Gewalteinwirkungen",
           40.40157480314961
          ],
          [
           "Unfälle und Gewalteinwirkungen",
           35.22857142857143
          ],
          [
           "Alle übrigen Todesursachen",
           180.46376811594203
          ],
          [
           "Alle übrigen Todesursachen",
           128.0696629213483
          ],
          [
           "Atmungsorgane",
           33.795180722891565
          ],
          [
           "Atmungsorgane",
           31.674698795180724
          ],
          [
           "Demenz",
           129.50704225352112
          ],
          [
           "Demenz",
           31.491803278688526
          ],
          [
           "Krebskrankheiten",
           162.06467661691542
          ],
          [
           "Krebskrankheiten",
           185.72210065645515
          ],
          [
           "Kreislaufsystem",
           448.85530921820305
          ],
          [
           "Kreislaufsystem",
           227.52575488454707
          ],
          [
           "Unfälle und Gewalteinwirkungen",
           31.018691588785046
          ],
          [
           "Unfälle und Gewalteinwirkungen",
           30.9
          ],
          [
           "Alle übrigen Todesursachen",
           152.63348416289594
          ],
          [
           "Alle übrigen Todesursachen",
           100.91666666666667
          ],
          [
           "Atmungsorgane",
           43.71111111111111
          ],
          [
           "Atmungsorgane",
           41.870588235294115
          ],
          [
           "Demenz",
           120.30653266331659
          ],
          [
           "Demenz",
           45.09411764705882
          ],
          [
           "Krebskrankheiten",
           158.045
          ],
          [
           "Krebskrankheiten",
           170.65413533834587
          ],
          [
           "Kreislaufsystem",
           437.88659793814435
          ],
          [
           "Kreislaufsystem",
           219.21014492753622
          ],
          [
           "Unfälle und Gewalteinwirkungen",
           37.95
          ],
          [
           "Unfälle und Gewalteinwirkungen",
           31.611570247933884
          ],
          [
           "Alle übrigen Todesursachen",
           160.7962577962578
          ],
          [
           "Alle übrigen Todesursachen",
           120.93154034229829
          ],
          [
           "Atmungsorgane",
           42.73626373626374
          ],
          [
           "Atmungsorgane",
           40.714285714285715
          ],
          [
           "Demenz",
           125.06217616580311
          ],
          [
           "Demenz",
           26.962264150943398
          ],
          [
           "Krebskrankheiten",
           140.41666666666666
          ],
          [
           "Krebskrankheiten",
           196.21973094170403
          ],
          [
           "Kreislaufsystem",
           453.6128266033254
          ],
          [
           "Kreislaufsystem",
           242.76271186440678
          ],
          [
           "Unfälle und Gewalteinwirkungen",
           38.8448275862069
          ],
          [
           "Unfälle und Gewalteinwirkungen",
           28.27433628318584
          ],
          [
           "Alle übrigen Todesursachen",
           148.58186397984886
          ],
          [
           "Alle übrigen Todesursachen",
           105.14673913043478
          ],
          [
           "Atmungsorgane",
           42.134020618556704
          ],
          [
           "Atmungsorgane",
           37.344086021505376
          ],
          [
           "Demenz",
           127.77227722772277
          ],
          [
           "Demenz",
           34.93939393939394
          ],
          [
           "Krebskrankheiten",
           173.12254901960785
          ],
          [
           "Krebskrankheiten",
           165.0765306122449
          ],
          [
           "Kreislaufsystem",
           418.5110565110565
          ],
          [
           "Kreislaufsystem",
           210.73180076628353
          ],
          [
           "Unfälle und Gewalteinwirkungen",
           32.69072164948454
          ],
          [
           "Unfälle und Gewalteinwirkungen",
           30.571428571428573
          ],
          [
           "Alle übrigen Todesursachen",
           145.76923076923077
          ],
          [
           "Alle übrigen Todesursachen",
           100.74142480211081
          ],
          [
           "Atmungsorgane",
           40.01123595505618
          ],
          [
           "Atmungsorgane",
           35.07142857142857
          ],
          [
           "Demenz",
           131.19213973799125
          ],
          [
           "Demenz",
           42.2289156626506
          ],
          [
           "Krebskrankheiten",
           162.70408163265307
          ],
          [
           "Krebskrankheiten",
           188.36674259681092
          ],
          [
           "Kreislaufsystem",
           410.5972789115646
          ],
          [
           "Kreislaufsystem",
           200.8188976377953
          ],
          [
           "Unfälle und Gewalteinwirkungen",
           31.127659574468087
          ],
          [
           "Unfälle und Gewalteinwirkungen",
           30.00854700854701
          ],
          [
           "Alle übrigen Todesursachen",
           138.55154639175257
          ],
          [
           "Alle übrigen Todesursachen",
           117.62626262626263
          ],
          [
           "Atmungsorgane",
           41.37362637362637
          ],
          [
           "Atmungsorgane",
           35.04938271604938
          ],
          [
           "Demenz",
           148.81165919282512
          ],
          [
           "Demenz",
           42.5609756097561
          ],
          [
           "Krebskrankheiten",
           156.56883116883117
          ],
          [
           "Krebskrankheiten",
           164.66240409207163
          ],
          [
           "Kreislaufsystem",
           389.91977077363896
          ],
          [
           "Kreislaufsystem",
           196.05263157894737
          ],
          [
           "Unfälle und Gewalteinwirkungen",
           46.916666666666664
          ],
          [
           "Unfälle und Gewalteinwirkungen",
           27.38888888888889
          ],
          [
           "Alle übrigen Todesursachen",
           140.1077694235589
          ],
          [
           "Alle übrigen Todesursachen",
           99.25
          ],
          [
           "Atmungsorgane",
           42.06818181818182
          ],
          [
           "Atmungsorgane",
           39.32258064516129
          ],
          [
           "Demenz",
           138.37556561085972
          ],
          [
           "Demenz",
           48.265306122448976
          ],
          [
           "Krebskrankheiten",
           157.28205128205127
          ],
          [
           "Krebskrankheiten",
           159.36021505376345
          ],
          [
           "Kreislaufsystem",
           426.02046035805625
          ],
          [
           "Kreislaufsystem",
           195.0734693877551
          ],
          [
           "Unfälle und Gewalteinwirkungen",
           37
          ],
          [
           "Unfälle und Gewalteinwirkungen",
           28.276190476190475
          ],
          [
           "Alle übrigen Todesursachen",
           125.65142857142857
          ],
          [
           "Alle übrigen Todesursachen",
           94.7680250783699
          ],
          [
           "Atmungsorgane",
           46.29545454545455
          ],
          [
           "Atmungsorgane",
           38.67816091954023
          ],
          [
           "Demenz",
           161.80672268907563
          ],
          [
           "Demenz",
           53.857142857142854
          ],
          [
           "Krebskrankheiten",
           149.11702127659575
          ],
          [
           "Krebskrankheiten",
           154.8117048346056
          ],
          [
           "Kreislaufsystem",
           400.503355704698
          ],
          [
           "Kreislaufsystem",
           205.7421875
          ],
          [
           "Unfälle und Gewalteinwirkungen",
           35.067796610169495
          ],
          [
           "Unfälle und Gewalteinwirkungen",
           33.97709923664122
          ],
          [
           "Alle übrigen Todesursachen",
           151.91052631578947
          ],
          [
           "Alle übrigen Todesursachen",
           101.50898203592814
          ],
          [
           "Atmungsorgane",
           53.2962962962963
          ],
          [
           "Atmungsorgane",
           32.86666666666667
          ],
          [
           "Demenz",
           181.4516129032258
          ],
          [
           "Demenz",
           41.30952380952381
          ],
          [
           "Krebskrankheiten",
           160.85677749360613
          ],
          [
           "Krebskrankheiten",
           153.53866666666667
          ],
          [
           "Kreislaufsystem",
           389.6330532212885
          ],
          [
           "Kreislaufsystem",
           185.07627118644066
          ],
          [
           "Unfälle und Gewalteinwirkungen",
           30.348837209302324
          ],
          [
           "Unfälle und Gewalteinwirkungen",
           32.109243697478995
          ],
          [
           "Alle übrigen Todesursachen",
           144.84803921568627
          ],
          [
           "Alle übrigen Todesursachen",
           112.48571428571428
          ],
          [
           "Atmungsorgane",
           37.62921348314607
          ],
          [
           "Atmungsorgane",
           38.8494623655914
          ],
          [
           "Demenz",
           167.63468634686348
          ],
          [
           "Demenz",
           57.98989898989899
          ],
          [
           "Krebskrankheiten",
           128.0581395348837
          ],
          [
           "Krebskrankheiten",
           168.8034398034398
          ],
          [
           "Kreislaufsystem",
           348.17808219178085
          ],
          [
           "Kreislaufsystem",
           192.49478079331942
          ],
          [
           "Unfälle und Gewalteinwirkungen",
           31.4
          ],
          [
           "Unfälle und Gewalteinwirkungen",
           28.796296296296298
          ],
          [
           "Alle übrigen Todesursachen",
           173.0686498855835
          ],
          [
           "Alle übrigen Todesursachen",
           121.36411609498681
          ],
          [
           "Atmungsorgane",
           39.617283950617285
          ],
          [
           "Atmungsorgane",
           39.12765957446808
          ],
          [
           "Demenz",
           161.14901960784314
          ],
          [
           "Demenz",
           54.020833333333336
          ],
          [
           "Krebskrankheiten",
           139.89005235602093
          ],
          [
           "Krebskrankheiten",
           155.92950391644908
          ],
          [
           "Kreislaufsystem",
           338.93011647254576
          ],
          [
           "Kreislaufsystem",
           161.48730964467006
          ],
          [
           "Unfälle und Gewalteinwirkungen",
           30.456521739130434
          ],
          [
           "Unfälle und Gewalteinwirkungen",
           24.520833333333332
          ],
          [
           "Alle übrigen Todesursachen",
           144.6950904392765
          ],
          [
           "Alle übrigen Todesursachen",
           98.73040752351098
          ],
          [
           "Atmungsorgane",
           37.53488372093023
          ],
          [
           "Atmungsorgane",
           32.24050632911393
          ],
          [
           "Demenz",
           190.95604395604394
          ],
          [
           "Demenz",
           54.663366336633665
          ],
          [
           "Krebskrankheiten",
           144.0918918918919
          ],
          [
           "Krebskrankheiten",
           159.8972431077694
          ],
          [
           "Kreislaufsystem",
           386.863173216885
          ],
          [
           "Kreislaufsystem",
           166.8568129330254
          ],
          [
           "Unfälle und Gewalteinwirkungen",
           24.076923076923077
          ],
          [
           "Unfälle und Gewalteinwirkungen",
           28.74576271186441
          ],
          [
           "Alle übrigen Todesursachen",
           163.8
          ],
          [
           "Alle übrigen Todesursachen",
           115.49849849849849
          ],
          [
           "Atmungsorgane",
           41.795698924731184
          ],
          [
           "Atmungsorgane",
           34.25581395348837
          ],
          [
           "Demenz",
           231.70987654320987
          ],
          [
           "Demenz",
           75
          ],
          [
           "Krebskrankheiten",
           153.07901234567902
          ],
          [
           "Krebskrankheiten",
           153.3549160671463
          ],
          [
           "Kreislaufsystem",
           367.83024691358025
          ],
          [
           "Kreislaufsystem",
           179.30697674418604
          ],
          [
           "Unfälle und Gewalteinwirkungen",
           46.30275229357798
          ],
          [
           "Unfälle und Gewalteinwirkungen",
           23.442105263157895
          ],
          [
           "Alle übrigen Todesursachen",
           177.91211401425178
          ],
          [
           "Alle übrigen Todesursachen",
           115.2406876790831
          ],
          [
           "Atmungsorgane",
           41.166666666666664
          ],
          [
           "Atmungsorgane",
           30.83783783783784
          ],
          [
           "Demenz",
           182.65441176470588
          ],
          [
           "Demenz",
           64.21311475409836
          ],
          [
           "Krebskrankheiten",
           150.63387978142077
          ],
          [
           "Krebskrankheiten",
           164.64077669902912
          ],
          [
           "Kreislaufsystem",
           374.015923566879
          ],
          [
           "Kreislaufsystem",
           157.73891625615764
          ],
          [
           "Unfälle und Gewalteinwirkungen",
           41.270833333333336
          ],
          [
           "Unfälle und Gewalteinwirkungen",
           26.28846153846154
          ],
          [
           "Alle übrigen Todesursachen",
           166.00254452926208
          ],
          [
           "Alle übrigen Todesursachen",
           112.45352112676056
          ],
          [
           "Atmungsorgane",
           53.45217391304348
          ],
          [
           "Atmungsorgane",
           40.48936170212766
          ],
          [
           "Demenz",
           196.85365853658536
          ],
          [
           "Demenz",
           59.113207547169814
          ],
          [
           "Krebskrankheiten",
           150.66326530612244
          ],
          [
           "Krebskrankheiten",
           165.2907268170426
          ],
          [
           "Kreislaufsystem",
           365.7164179104478
          ],
          [
           "Kreislaufsystem",
           189.34285714285716
          ],
          [
           "Unfälle und Gewalteinwirkungen",
           33.41379310344828
          ],
          [
           "Unfälle und Gewalteinwirkungen",
           28.42105263157895
          ],
          [
           "Alle übrigen Todesursachen",
           144.3314121037464
          ],
          [
           "Alle übrigen Todesursachen",
           104.37910447761195
          ],
          [
           "Atmungsorgane",
           35.717948717948715
          ],
          [
           "Atmungsorgane",
           29.7027027027027
          ],
          [
           "Demenz",
           178.9185185185185
          ],
          [
           "Demenz",
           56.34020618556701
          ],
          [
           "Krebskrankheiten",
           151.2406015037594
          ],
          [
           "Krebskrankheiten",
           152.32994923857868
          ],
          [
           "Kreislaufsystem",
           326.26545454545453
          ],
          [
           "Kreislaufsystem",
           176.48717948717947
          ],
          [
           "Unfälle und Gewalteinwirkungen",
           32.01176470588236
          ],
          [
           "Unfälle und Gewalteinwirkungen",
           31.916666666666668
          ],
          [
           "Alle übrigen Todesursachen",
           156.76338028169013
          ],
          [
           "Alle übrigen Todesursachen",
           105.59130434782608
          ],
          [
           "Atmungsorgane",
           48.89473684210526
          ],
          [
           "Atmungsorgane",
           38.18279569892473
          ],
          [
           "Demenz",
           185.0514705882353
          ],
          [
           "Demenz",
           53.333333333333336
          ],
          [
           "Krebskrankheiten",
           136.73888888888888
          ],
          [
           "Krebskrankheiten",
           164.34643734643734
          ],
          [
           "Kreislaufsystem",
           332.54816112084063
          ],
          [
           "Kreislaufsystem",
           190.68253968253967
          ],
          [
           "Unfälle und Gewalteinwirkungen",
           42.381443298969074
          ],
          [
           "Unfälle und Gewalteinwirkungen",
           32.9375
          ],
          [
           "Alle übrigen Todesursachen",
           193.44700460829492
          ],
          [
           "Alle übrigen Todesursachen",
           106.19277108433735
          ],
          [
           "Atmungsorgane",
           49.71153846153846
          ],
          [
           "Atmungsorgane",
           38.03448275862069
          ],
          [
           "Demenz",
           195.84912280701755
          ],
          [
           "Demenz",
           57.32727272727273
          ],
          [
           "Krebskrankheiten",
           135.4715909090909
          ],
          [
           "Krebskrankheiten",
           183.6078431372549
          ],
          [
           "Kreislaufsystem",
           300.3220338983051
          ],
          [
           "Kreislaufsystem",
           158.2287917737789
          ],
          [
           "Unfälle und Gewalteinwirkungen",
           44.28712871287129
          ],
          [
           "Unfälle und Gewalteinwirkungen",
           25.568627450980394
          ],
          [
           "Alle übrigen Todesursachen",
           154.89080459770116
          ],
          [
           "Alle übrigen Todesursachen",
           124.95428571428572
          ],
          [
           "Atmungsorgane",
           51.214285714285715
          ],
          [
           "Atmungsorgane",
           38.369565217391305
          ],
          [
           "Demenz",
           200.25342465753425
          ],
          [
           "Demenz",
           61.30769230769231
          ],
          [
           "Krebskrankheiten",
           121.99428571428571
          ],
          [
           "Krebskrankheiten",
           134.4376811594203
          ],
          [
           "Kreislaufsystem",
           328.6216216216216
          ],
          [
           "Kreislaufsystem",
           158.22371967654988
          ],
          [
           "Unfälle und Gewalteinwirkungen",
           37.24242424242424
          ],
          [
           "Unfälle und Gewalteinwirkungen",
           32.095238095238095
          ],
          [
           "Alle übrigen Todesursachen",
           151.64068497195157
          ],
          [
           "Alle übrigen Todesursachen",
           108.38244375827084
          ],
          [
           "Atmungsorgane",
           47.031797798613944
          ],
          [
           "Atmungsorgane",
           39.777875329236174
          ],
          [
           "Demenz",
           158.9774383894481
          ],
          [
           "Demenz",
           49.229799159271366
          ],
          [
           "Krebskrankheiten",
           157.558616529258
          ],
          [
           "Krebskrankheiten",
           177.16952687968143
          ],
          [
           "Kreislaufsystem",
           416.4666525513445
          ],
          [
           "Kreislaufsystem",
           222.1217183770883
          ],
          [
           "Unfälle und Gewalteinwirkungen",
           35.55826771653543
          ],
          [
           "Unfälle und Gewalteinwirkungen",
           31.244134648078884
          ],
          [
           "(?)",
           243.1463198938779
          ],
          [
           "(?)",
           150.74722250025022
          ],
          [
           "(?)",
           201.9880514500992
          ]
         ],
         "domain": {
          "x": [
           0,
           1
          ],
          "y": [
           0,
           1
          ]
         },
         "hovertemplate": "labels=%{label}<br>AnzSterWir_sum=%{value}<br>parent=%{parent}<br>id=%{id}<br>TodesursacheSpezLang=%{customdata[0]}<br>AnzSterWir=%{color}<extra></extra>",
         "ids": [
          "Todesursachen nach Geschlecht/Frauen/Alle übrigen Todesursachen/1995-01-01",
          "Todesursachen nach Geschlecht/Männer/Alle übrigen Todesursachen/1995-01-01",
          "Todesursachen nach Geschlecht/Frauen/Atmungsorgane/1995-01-01",
          "Todesursachen nach Geschlecht/Männer/Atmungsorgane/1995-01-01",
          "Todesursachen nach Geschlecht/Frauen/Demenz/1995-01-01",
          "Todesursachen nach Geschlecht/Männer/Demenz/1995-01-01",
          "Todesursachen nach Geschlecht/Frauen/Krebskrankheiten/1995-01-01",
          "Todesursachen nach Geschlecht/Männer/Krebskrankheiten/1995-01-01",
          "Todesursachen nach Geschlecht/Frauen/Kreislaufsystem/1995-01-01",
          "Todesursachen nach Geschlecht/Männer/Kreislaufsystem/1995-01-01",
          "Todesursachen nach Geschlecht/Frauen/Unfälle und Gewalteinwirkungen/1995-01-01",
          "Todesursachen nach Geschlecht/Männer/Unfälle und Gewalteinwirkungen/1995-01-01",
          "Todesursachen nach Geschlecht/Frauen/Alle übrigen Todesursachen/1996-01-01",
          "Todesursachen nach Geschlecht/Männer/Alle übrigen Todesursachen/1996-01-01",
          "Todesursachen nach Geschlecht/Frauen/Atmungsorgane/1996-01-01",
          "Todesursachen nach Geschlecht/Männer/Atmungsorgane/1996-01-01",
          "Todesursachen nach Geschlecht/Frauen/Demenz/1996-01-01",
          "Todesursachen nach Geschlecht/Männer/Demenz/1996-01-01",
          "Todesursachen nach Geschlecht/Frauen/Krebskrankheiten/1996-01-01",
          "Todesursachen nach Geschlecht/Männer/Krebskrankheiten/1996-01-01",
          "Todesursachen nach Geschlecht/Frauen/Kreislaufsystem/1996-01-01",
          "Todesursachen nach Geschlecht/Männer/Kreislaufsystem/1996-01-01",
          "Todesursachen nach Geschlecht/Frauen/Unfälle und Gewalteinwirkungen/1996-01-01",
          "Todesursachen nach Geschlecht/Männer/Unfälle und Gewalteinwirkungen/1996-01-01",
          "Todesursachen nach Geschlecht/Frauen/Alle übrigen Todesursachen/1997-01-01",
          "Todesursachen nach Geschlecht/Männer/Alle übrigen Todesursachen/1997-01-01",
          "Todesursachen nach Geschlecht/Frauen/Atmungsorgane/1997-01-01",
          "Todesursachen nach Geschlecht/Männer/Atmungsorgane/1997-01-01",
          "Todesursachen nach Geschlecht/Frauen/Demenz/1997-01-01",
          "Todesursachen nach Geschlecht/Männer/Demenz/1997-01-01",
          "Todesursachen nach Geschlecht/Frauen/Krebskrankheiten/1997-01-01",
          "Todesursachen nach Geschlecht/Männer/Krebskrankheiten/1997-01-01",
          "Todesursachen nach Geschlecht/Frauen/Kreislaufsystem/1997-01-01",
          "Todesursachen nach Geschlecht/Männer/Kreislaufsystem/1997-01-01",
          "Todesursachen nach Geschlecht/Frauen/Unfälle und Gewalteinwirkungen/1997-01-01",
          "Todesursachen nach Geschlecht/Männer/Unfälle und Gewalteinwirkungen/1997-01-01",
          "Todesursachen nach Geschlecht/Frauen/Alle übrigen Todesursachen/1998-01-01",
          "Todesursachen nach Geschlecht/Männer/Alle übrigen Todesursachen/1998-01-01",
          "Todesursachen nach Geschlecht/Frauen/Atmungsorgane/1998-01-01",
          "Todesursachen nach Geschlecht/Männer/Atmungsorgane/1998-01-01",
          "Todesursachen nach Geschlecht/Frauen/Demenz/1998-01-01",
          "Todesursachen nach Geschlecht/Männer/Demenz/1998-01-01",
          "Todesursachen nach Geschlecht/Frauen/Krebskrankheiten/1998-01-01",
          "Todesursachen nach Geschlecht/Männer/Krebskrankheiten/1998-01-01",
          "Todesursachen nach Geschlecht/Frauen/Kreislaufsystem/1998-01-01",
          "Todesursachen nach Geschlecht/Männer/Kreislaufsystem/1998-01-01",
          "Todesursachen nach Geschlecht/Frauen/Unfälle und Gewalteinwirkungen/1998-01-01",
          "Todesursachen nach Geschlecht/Männer/Unfälle und Gewalteinwirkungen/1998-01-01",
          "Todesursachen nach Geschlecht/Frauen/Alle übrigen Todesursachen/1999-01-01",
          "Todesursachen nach Geschlecht/Männer/Alle übrigen Todesursachen/1999-01-01",
          "Todesursachen nach Geschlecht/Frauen/Atmungsorgane/1999-01-01",
          "Todesursachen nach Geschlecht/Männer/Atmungsorgane/1999-01-01",
          "Todesursachen nach Geschlecht/Frauen/Demenz/1999-01-01",
          "Todesursachen nach Geschlecht/Männer/Demenz/1999-01-01",
          "Todesursachen nach Geschlecht/Frauen/Krebskrankheiten/1999-01-01",
          "Todesursachen nach Geschlecht/Männer/Krebskrankheiten/1999-01-01",
          "Todesursachen nach Geschlecht/Frauen/Kreislaufsystem/1999-01-01",
          "Todesursachen nach Geschlecht/Männer/Kreislaufsystem/1999-01-01",
          "Todesursachen nach Geschlecht/Frauen/Unfälle und Gewalteinwirkungen/1999-01-01",
          "Todesursachen nach Geschlecht/Männer/Unfälle und Gewalteinwirkungen/1999-01-01",
          "Todesursachen nach Geschlecht/Frauen/Alle übrigen Todesursachen/2000-01-01",
          "Todesursachen nach Geschlecht/Männer/Alle übrigen Todesursachen/2000-01-01",
          "Todesursachen nach Geschlecht/Frauen/Atmungsorgane/2000-01-01",
          "Todesursachen nach Geschlecht/Männer/Atmungsorgane/2000-01-01",
          "Todesursachen nach Geschlecht/Frauen/Demenz/2000-01-01",
          "Todesursachen nach Geschlecht/Männer/Demenz/2000-01-01",
          "Todesursachen nach Geschlecht/Frauen/Krebskrankheiten/2000-01-01",
          "Todesursachen nach Geschlecht/Männer/Krebskrankheiten/2000-01-01",
          "Todesursachen nach Geschlecht/Frauen/Kreislaufsystem/2000-01-01",
          "Todesursachen nach Geschlecht/Männer/Kreislaufsystem/2000-01-01",
          "Todesursachen nach Geschlecht/Frauen/Unfälle und Gewalteinwirkungen/2000-01-01",
          "Todesursachen nach Geschlecht/Männer/Unfälle und Gewalteinwirkungen/2000-01-01",
          "Todesursachen nach Geschlecht/Frauen/Alle übrigen Todesursachen/2001-01-01",
          "Todesursachen nach Geschlecht/Männer/Alle übrigen Todesursachen/2001-01-01",
          "Todesursachen nach Geschlecht/Frauen/Atmungsorgane/2001-01-01",
          "Todesursachen nach Geschlecht/Männer/Atmungsorgane/2001-01-01",
          "Todesursachen nach Geschlecht/Frauen/Demenz/2001-01-01",
          "Todesursachen nach Geschlecht/Männer/Demenz/2001-01-01",
          "Todesursachen nach Geschlecht/Frauen/Krebskrankheiten/2001-01-01",
          "Todesursachen nach Geschlecht/Männer/Krebskrankheiten/2001-01-01",
          "Todesursachen nach Geschlecht/Frauen/Kreislaufsystem/2001-01-01",
          "Todesursachen nach Geschlecht/Männer/Kreislaufsystem/2001-01-01",
          "Todesursachen nach Geschlecht/Frauen/Unfälle und Gewalteinwirkungen/2001-01-01",
          "Todesursachen nach Geschlecht/Männer/Unfälle und Gewalteinwirkungen/2001-01-01",
          "Todesursachen nach Geschlecht/Frauen/Alle übrigen Todesursachen/2002-01-01",
          "Todesursachen nach Geschlecht/Männer/Alle übrigen Todesursachen/2002-01-01",
          "Todesursachen nach Geschlecht/Frauen/Atmungsorgane/2002-01-01",
          "Todesursachen nach Geschlecht/Männer/Atmungsorgane/2002-01-01",
          "Todesursachen nach Geschlecht/Frauen/Demenz/2002-01-01",
          "Todesursachen nach Geschlecht/Männer/Demenz/2002-01-01",
          "Todesursachen nach Geschlecht/Frauen/Krebskrankheiten/2002-01-01",
          "Todesursachen nach Geschlecht/Männer/Krebskrankheiten/2002-01-01",
          "Todesursachen nach Geschlecht/Frauen/Kreislaufsystem/2002-01-01",
          "Todesursachen nach Geschlecht/Männer/Kreislaufsystem/2002-01-01",
          "Todesursachen nach Geschlecht/Frauen/Unfälle und Gewalteinwirkungen/2002-01-01",
          "Todesursachen nach Geschlecht/Männer/Unfälle und Gewalteinwirkungen/2002-01-01",
          "Todesursachen nach Geschlecht/Frauen/Alle übrigen Todesursachen/2003-01-01",
          "Todesursachen nach Geschlecht/Männer/Alle übrigen Todesursachen/2003-01-01",
          "Todesursachen nach Geschlecht/Frauen/Atmungsorgane/2003-01-01",
          "Todesursachen nach Geschlecht/Männer/Atmungsorgane/2003-01-01",
          "Todesursachen nach Geschlecht/Frauen/Demenz/2003-01-01",
          "Todesursachen nach Geschlecht/Männer/Demenz/2003-01-01",
          "Todesursachen nach Geschlecht/Frauen/Krebskrankheiten/2003-01-01",
          "Todesursachen nach Geschlecht/Männer/Krebskrankheiten/2003-01-01",
          "Todesursachen nach Geschlecht/Frauen/Kreislaufsystem/2003-01-01",
          "Todesursachen nach Geschlecht/Männer/Kreislaufsystem/2003-01-01",
          "Todesursachen nach Geschlecht/Frauen/Unfälle und Gewalteinwirkungen/2003-01-01",
          "Todesursachen nach Geschlecht/Männer/Unfälle und Gewalteinwirkungen/2003-01-01",
          "Todesursachen nach Geschlecht/Frauen/Alle übrigen Todesursachen/2004-01-01",
          "Todesursachen nach Geschlecht/Männer/Alle übrigen Todesursachen/2004-01-01",
          "Todesursachen nach Geschlecht/Frauen/Atmungsorgane/2004-01-01",
          "Todesursachen nach Geschlecht/Männer/Atmungsorgane/2004-01-01",
          "Todesursachen nach Geschlecht/Frauen/Demenz/2004-01-01",
          "Todesursachen nach Geschlecht/Männer/Demenz/2004-01-01",
          "Todesursachen nach Geschlecht/Frauen/Krebskrankheiten/2004-01-01",
          "Todesursachen nach Geschlecht/Männer/Krebskrankheiten/2004-01-01",
          "Todesursachen nach Geschlecht/Frauen/Kreislaufsystem/2004-01-01",
          "Todesursachen nach Geschlecht/Männer/Kreislaufsystem/2004-01-01",
          "Todesursachen nach Geschlecht/Frauen/Unfälle und Gewalteinwirkungen/2004-01-01",
          "Todesursachen nach Geschlecht/Männer/Unfälle und Gewalteinwirkungen/2004-01-01",
          "Todesursachen nach Geschlecht/Frauen/Alle übrigen Todesursachen/2005-01-01",
          "Todesursachen nach Geschlecht/Männer/Alle übrigen Todesursachen/2005-01-01",
          "Todesursachen nach Geschlecht/Frauen/Atmungsorgane/2005-01-01",
          "Todesursachen nach Geschlecht/Männer/Atmungsorgane/2005-01-01",
          "Todesursachen nach Geschlecht/Frauen/Demenz/2005-01-01",
          "Todesursachen nach Geschlecht/Männer/Demenz/2005-01-01",
          "Todesursachen nach Geschlecht/Frauen/Krebskrankheiten/2005-01-01",
          "Todesursachen nach Geschlecht/Männer/Krebskrankheiten/2005-01-01",
          "Todesursachen nach Geschlecht/Frauen/Kreislaufsystem/2005-01-01",
          "Todesursachen nach Geschlecht/Männer/Kreislaufsystem/2005-01-01",
          "Todesursachen nach Geschlecht/Frauen/Unfälle und Gewalteinwirkungen/2005-01-01",
          "Todesursachen nach Geschlecht/Männer/Unfälle und Gewalteinwirkungen/2005-01-01",
          "Todesursachen nach Geschlecht/Frauen/Alle übrigen Todesursachen/2006-01-01",
          "Todesursachen nach Geschlecht/Männer/Alle übrigen Todesursachen/2006-01-01",
          "Todesursachen nach Geschlecht/Frauen/Atmungsorgane/2006-01-01",
          "Todesursachen nach Geschlecht/Männer/Atmungsorgane/2006-01-01",
          "Todesursachen nach Geschlecht/Frauen/Demenz/2006-01-01",
          "Todesursachen nach Geschlecht/Männer/Demenz/2006-01-01",
          "Todesursachen nach Geschlecht/Frauen/Krebskrankheiten/2006-01-01",
          "Todesursachen nach Geschlecht/Männer/Krebskrankheiten/2006-01-01",
          "Todesursachen nach Geschlecht/Frauen/Kreislaufsystem/2006-01-01",
          "Todesursachen nach Geschlecht/Männer/Kreislaufsystem/2006-01-01",
          "Todesursachen nach Geschlecht/Frauen/Unfälle und Gewalteinwirkungen/2006-01-01",
          "Todesursachen nach Geschlecht/Männer/Unfälle und Gewalteinwirkungen/2006-01-01",
          "Todesursachen nach Geschlecht/Frauen/Alle übrigen Todesursachen/2007-01-01",
          "Todesursachen nach Geschlecht/Männer/Alle übrigen Todesursachen/2007-01-01",
          "Todesursachen nach Geschlecht/Frauen/Atmungsorgane/2007-01-01",
          "Todesursachen nach Geschlecht/Männer/Atmungsorgane/2007-01-01",
          "Todesursachen nach Geschlecht/Frauen/Demenz/2007-01-01",
          "Todesursachen nach Geschlecht/Männer/Demenz/2007-01-01",
          "Todesursachen nach Geschlecht/Frauen/Krebskrankheiten/2007-01-01",
          "Todesursachen nach Geschlecht/Männer/Krebskrankheiten/2007-01-01",
          "Todesursachen nach Geschlecht/Frauen/Kreislaufsystem/2007-01-01",
          "Todesursachen nach Geschlecht/Männer/Kreislaufsystem/2007-01-01",
          "Todesursachen nach Geschlecht/Frauen/Unfälle und Gewalteinwirkungen/2007-01-01",
          "Todesursachen nach Geschlecht/Männer/Unfälle und Gewalteinwirkungen/2007-01-01",
          "Todesursachen nach Geschlecht/Frauen/Alle übrigen Todesursachen/2008-01-01",
          "Todesursachen nach Geschlecht/Männer/Alle übrigen Todesursachen/2008-01-01",
          "Todesursachen nach Geschlecht/Frauen/Atmungsorgane/2008-01-01",
          "Todesursachen nach Geschlecht/Männer/Atmungsorgane/2008-01-01",
          "Todesursachen nach Geschlecht/Frauen/Demenz/2008-01-01",
          "Todesursachen nach Geschlecht/Männer/Demenz/2008-01-01",
          "Todesursachen nach Geschlecht/Frauen/Krebskrankheiten/2008-01-01",
          "Todesursachen nach Geschlecht/Männer/Krebskrankheiten/2008-01-01",
          "Todesursachen nach Geschlecht/Frauen/Kreislaufsystem/2008-01-01",
          "Todesursachen nach Geschlecht/Männer/Kreislaufsystem/2008-01-01",
          "Todesursachen nach Geschlecht/Frauen/Unfälle und Gewalteinwirkungen/2008-01-01",
          "Todesursachen nach Geschlecht/Männer/Unfälle und Gewalteinwirkungen/2008-01-01",
          "Todesursachen nach Geschlecht/Frauen/Alle übrigen Todesursachen/2009-01-01",
          "Todesursachen nach Geschlecht/Männer/Alle übrigen Todesursachen/2009-01-01",
          "Todesursachen nach Geschlecht/Frauen/Atmungsorgane/2009-01-01",
          "Todesursachen nach Geschlecht/Männer/Atmungsorgane/2009-01-01",
          "Todesursachen nach Geschlecht/Frauen/Demenz/2009-01-01",
          "Todesursachen nach Geschlecht/Männer/Demenz/2009-01-01",
          "Todesursachen nach Geschlecht/Frauen/Krebskrankheiten/2009-01-01",
          "Todesursachen nach Geschlecht/Männer/Krebskrankheiten/2009-01-01",
          "Todesursachen nach Geschlecht/Frauen/Kreislaufsystem/2009-01-01",
          "Todesursachen nach Geschlecht/Männer/Kreislaufsystem/2009-01-01",
          "Todesursachen nach Geschlecht/Frauen/Unfälle und Gewalteinwirkungen/2009-01-01",
          "Todesursachen nach Geschlecht/Männer/Unfälle und Gewalteinwirkungen/2009-01-01",
          "Todesursachen nach Geschlecht/Frauen/Alle übrigen Todesursachen/2010-01-01",
          "Todesursachen nach Geschlecht/Männer/Alle übrigen Todesursachen/2010-01-01",
          "Todesursachen nach Geschlecht/Frauen/Atmungsorgane/2010-01-01",
          "Todesursachen nach Geschlecht/Männer/Atmungsorgane/2010-01-01",
          "Todesursachen nach Geschlecht/Frauen/Demenz/2010-01-01",
          "Todesursachen nach Geschlecht/Männer/Demenz/2010-01-01",
          "Todesursachen nach Geschlecht/Frauen/Krebskrankheiten/2010-01-01",
          "Todesursachen nach Geschlecht/Männer/Krebskrankheiten/2010-01-01",
          "Todesursachen nach Geschlecht/Frauen/Kreislaufsystem/2010-01-01",
          "Todesursachen nach Geschlecht/Männer/Kreislaufsystem/2010-01-01",
          "Todesursachen nach Geschlecht/Frauen/Unfälle und Gewalteinwirkungen/2010-01-01",
          "Todesursachen nach Geschlecht/Männer/Unfälle und Gewalteinwirkungen/2010-01-01",
          "Todesursachen nach Geschlecht/Frauen/Alle übrigen Todesursachen/2011-01-01",
          "Todesursachen nach Geschlecht/Männer/Alle übrigen Todesursachen/2011-01-01",
          "Todesursachen nach Geschlecht/Frauen/Atmungsorgane/2011-01-01",
          "Todesursachen nach Geschlecht/Männer/Atmungsorgane/2011-01-01",
          "Todesursachen nach Geschlecht/Frauen/Demenz/2011-01-01",
          "Todesursachen nach Geschlecht/Männer/Demenz/2011-01-01",
          "Todesursachen nach Geschlecht/Frauen/Krebskrankheiten/2011-01-01",
          "Todesursachen nach Geschlecht/Männer/Krebskrankheiten/2011-01-01",
          "Todesursachen nach Geschlecht/Frauen/Kreislaufsystem/2011-01-01",
          "Todesursachen nach Geschlecht/Männer/Kreislaufsystem/2011-01-01",
          "Todesursachen nach Geschlecht/Frauen/Unfälle und Gewalteinwirkungen/2011-01-01",
          "Todesursachen nach Geschlecht/Männer/Unfälle und Gewalteinwirkungen/2011-01-01",
          "Todesursachen nach Geschlecht/Frauen/Alle übrigen Todesursachen/2012-01-01",
          "Todesursachen nach Geschlecht/Männer/Alle übrigen Todesursachen/2012-01-01",
          "Todesursachen nach Geschlecht/Frauen/Atmungsorgane/2012-01-01",
          "Todesursachen nach Geschlecht/Männer/Atmungsorgane/2012-01-01",
          "Todesursachen nach Geschlecht/Frauen/Demenz/2012-01-01",
          "Todesursachen nach Geschlecht/Männer/Demenz/2012-01-01",
          "Todesursachen nach Geschlecht/Frauen/Krebskrankheiten/2012-01-01",
          "Todesursachen nach Geschlecht/Männer/Krebskrankheiten/2012-01-01",
          "Todesursachen nach Geschlecht/Frauen/Kreislaufsystem/2012-01-01",
          "Todesursachen nach Geschlecht/Männer/Kreislaufsystem/2012-01-01",
          "Todesursachen nach Geschlecht/Frauen/Unfälle und Gewalteinwirkungen/2012-01-01",
          "Todesursachen nach Geschlecht/Männer/Unfälle und Gewalteinwirkungen/2012-01-01",
          "Todesursachen nach Geschlecht/Frauen/Alle übrigen Todesursachen/2013-01-01",
          "Todesursachen nach Geschlecht/Männer/Alle übrigen Todesursachen/2013-01-01",
          "Todesursachen nach Geschlecht/Frauen/Atmungsorgane/2013-01-01",
          "Todesursachen nach Geschlecht/Männer/Atmungsorgane/2013-01-01",
          "Todesursachen nach Geschlecht/Frauen/Demenz/2013-01-01",
          "Todesursachen nach Geschlecht/Männer/Demenz/2013-01-01",
          "Todesursachen nach Geschlecht/Frauen/Krebskrankheiten/2013-01-01",
          "Todesursachen nach Geschlecht/Männer/Krebskrankheiten/2013-01-01",
          "Todesursachen nach Geschlecht/Frauen/Kreislaufsystem/2013-01-01",
          "Todesursachen nach Geschlecht/Männer/Kreislaufsystem/2013-01-01",
          "Todesursachen nach Geschlecht/Frauen/Unfälle und Gewalteinwirkungen/2013-01-01",
          "Todesursachen nach Geschlecht/Männer/Unfälle und Gewalteinwirkungen/2013-01-01",
          "Todesursachen nach Geschlecht/Frauen/Alle übrigen Todesursachen/2014-01-01",
          "Todesursachen nach Geschlecht/Männer/Alle übrigen Todesursachen/2014-01-01",
          "Todesursachen nach Geschlecht/Frauen/Atmungsorgane/2014-01-01",
          "Todesursachen nach Geschlecht/Männer/Atmungsorgane/2014-01-01",
          "Todesursachen nach Geschlecht/Frauen/Demenz/2014-01-01",
          "Todesursachen nach Geschlecht/Männer/Demenz/2014-01-01",
          "Todesursachen nach Geschlecht/Frauen/Krebskrankheiten/2014-01-01",
          "Todesursachen nach Geschlecht/Männer/Krebskrankheiten/2014-01-01",
          "Todesursachen nach Geschlecht/Frauen/Kreislaufsystem/2014-01-01",
          "Todesursachen nach Geschlecht/Männer/Kreislaufsystem/2014-01-01",
          "Todesursachen nach Geschlecht/Frauen/Unfälle und Gewalteinwirkungen/2014-01-01",
          "Todesursachen nach Geschlecht/Männer/Unfälle und Gewalteinwirkungen/2014-01-01",
          "Todesursachen nach Geschlecht/Frauen/Alle übrigen Todesursachen/2015-01-01",
          "Todesursachen nach Geschlecht/Männer/Alle übrigen Todesursachen/2015-01-01",
          "Todesursachen nach Geschlecht/Frauen/Atmungsorgane/2015-01-01",
          "Todesursachen nach Geschlecht/Männer/Atmungsorgane/2015-01-01",
          "Todesursachen nach Geschlecht/Frauen/Demenz/2015-01-01",
          "Todesursachen nach Geschlecht/Männer/Demenz/2015-01-01",
          "Todesursachen nach Geschlecht/Frauen/Krebskrankheiten/2015-01-01",
          "Todesursachen nach Geschlecht/Männer/Krebskrankheiten/2015-01-01",
          "Todesursachen nach Geschlecht/Frauen/Kreislaufsystem/2015-01-01",
          "Todesursachen nach Geschlecht/Männer/Kreislaufsystem/2015-01-01",
          "Todesursachen nach Geschlecht/Frauen/Unfälle und Gewalteinwirkungen/2015-01-01",
          "Todesursachen nach Geschlecht/Männer/Unfälle und Gewalteinwirkungen/2015-01-01",
          "Todesursachen nach Geschlecht/Frauen/Alle übrigen Todesursachen/2016-01-01",
          "Todesursachen nach Geschlecht/Männer/Alle übrigen Todesursachen/2016-01-01",
          "Todesursachen nach Geschlecht/Frauen/Atmungsorgane/2016-01-01",
          "Todesursachen nach Geschlecht/Männer/Atmungsorgane/2016-01-01",
          "Todesursachen nach Geschlecht/Frauen/Demenz/2016-01-01",
          "Todesursachen nach Geschlecht/Männer/Demenz/2016-01-01",
          "Todesursachen nach Geschlecht/Frauen/Krebskrankheiten/2016-01-01",
          "Todesursachen nach Geschlecht/Männer/Krebskrankheiten/2016-01-01",
          "Todesursachen nach Geschlecht/Frauen/Kreislaufsystem/2016-01-01",
          "Todesursachen nach Geschlecht/Männer/Kreislaufsystem/2016-01-01",
          "Todesursachen nach Geschlecht/Frauen/Unfälle und Gewalteinwirkungen/2016-01-01",
          "Todesursachen nach Geschlecht/Männer/Unfälle und Gewalteinwirkungen/2016-01-01",
          "Todesursachen nach Geschlecht/Frauen/Alle übrigen Todesursachen/2017-01-01",
          "Todesursachen nach Geschlecht/Männer/Alle übrigen Todesursachen/2017-01-01",
          "Todesursachen nach Geschlecht/Frauen/Atmungsorgane/2017-01-01",
          "Todesursachen nach Geschlecht/Männer/Atmungsorgane/2017-01-01",
          "Todesursachen nach Geschlecht/Frauen/Demenz/2017-01-01",
          "Todesursachen nach Geschlecht/Männer/Demenz/2017-01-01",
          "Todesursachen nach Geschlecht/Frauen/Krebskrankheiten/2017-01-01",
          "Todesursachen nach Geschlecht/Männer/Krebskrankheiten/2017-01-01",
          "Todesursachen nach Geschlecht/Frauen/Kreislaufsystem/2017-01-01",
          "Todesursachen nach Geschlecht/Männer/Kreislaufsystem/2017-01-01",
          "Todesursachen nach Geschlecht/Frauen/Unfälle und Gewalteinwirkungen/2017-01-01",
          "Todesursachen nach Geschlecht/Männer/Unfälle und Gewalteinwirkungen/2017-01-01",
          "Todesursachen nach Geschlecht/Frauen/Alle übrigen Todesursachen/2018-01-01",
          "Todesursachen nach Geschlecht/Männer/Alle übrigen Todesursachen/2018-01-01",
          "Todesursachen nach Geschlecht/Frauen/Atmungsorgane/2018-01-01",
          "Todesursachen nach Geschlecht/Männer/Atmungsorgane/2018-01-01",
          "Todesursachen nach Geschlecht/Frauen/Demenz/2018-01-01",
          "Todesursachen nach Geschlecht/Männer/Demenz/2018-01-01",
          "Todesursachen nach Geschlecht/Frauen/Krebskrankheiten/2018-01-01",
          "Todesursachen nach Geschlecht/Männer/Krebskrankheiten/2018-01-01",
          "Todesursachen nach Geschlecht/Frauen/Kreislaufsystem/2018-01-01",
          "Todesursachen nach Geschlecht/Männer/Kreislaufsystem/2018-01-01",
          "Todesursachen nach Geschlecht/Frauen/Unfälle und Gewalteinwirkungen/2018-01-01",
          "Todesursachen nach Geschlecht/Männer/Unfälle und Gewalteinwirkungen/2018-01-01",
          "Todesursachen nach Geschlecht/Frauen/Alle übrigen Todesursachen/2019-01-01",
          "Todesursachen nach Geschlecht/Männer/Alle übrigen Todesursachen/2019-01-01",
          "Todesursachen nach Geschlecht/Frauen/Atmungsorgane/2019-01-01",
          "Todesursachen nach Geschlecht/Männer/Atmungsorgane/2019-01-01",
          "Todesursachen nach Geschlecht/Frauen/Demenz/2019-01-01",
          "Todesursachen nach Geschlecht/Männer/Demenz/2019-01-01",
          "Todesursachen nach Geschlecht/Frauen/Krebskrankheiten/2019-01-01",
          "Todesursachen nach Geschlecht/Männer/Krebskrankheiten/2019-01-01",
          "Todesursachen nach Geschlecht/Frauen/Kreislaufsystem/2019-01-01",
          "Todesursachen nach Geschlecht/Männer/Kreislaufsystem/2019-01-01",
          "Todesursachen nach Geschlecht/Frauen/Unfälle und Gewalteinwirkungen/2019-01-01",
          "Todesursachen nach Geschlecht/Männer/Unfälle und Gewalteinwirkungen/2019-01-01",
          "Todesursachen nach Geschlecht/Frauen/Alle übrigen Todesursachen",
          "Todesursachen nach Geschlecht/Männer/Alle übrigen Todesursachen",
          "Todesursachen nach Geschlecht/Frauen/Atmungsorgane",
          "Todesursachen nach Geschlecht/Männer/Atmungsorgane",
          "Todesursachen nach Geschlecht/Frauen/Demenz",
          "Todesursachen nach Geschlecht/Männer/Demenz",
          "Todesursachen nach Geschlecht/Frauen/Krebskrankheiten",
          "Todesursachen nach Geschlecht/Männer/Krebskrankheiten",
          "Todesursachen nach Geschlecht/Frauen/Kreislaufsystem",
          "Todesursachen nach Geschlecht/Männer/Kreislaufsystem",
          "Todesursachen nach Geschlecht/Frauen/Unfälle und Gewalteinwirkungen",
          "Todesursachen nach Geschlecht/Männer/Unfälle und Gewalteinwirkungen",
          "Todesursachen nach Geschlecht/Frauen",
          "Todesursachen nach Geschlecht/Männer",
          "Todesursachen nach Geschlecht"
         ],
         "labels": [
          "1995-01-01",
          "1995-01-01",
          "1995-01-01",
          "1995-01-01",
          "1995-01-01",
          "1995-01-01",
          "1995-01-01",
          "1995-01-01",
          "1995-01-01",
          "1995-01-01",
          "1995-01-01",
          "1995-01-01",
          "1996-01-01",
          "1996-01-01",
          "1996-01-01",
          "1996-01-01",
          "1996-01-01",
          "1996-01-01",
          "1996-01-01",
          "1996-01-01",
          "1996-01-01",
          "1996-01-01",
          "1996-01-01",
          "1996-01-01",
          "1997-01-01",
          "1997-01-01",
          "1997-01-01",
          "1997-01-01",
          "1997-01-01",
          "1997-01-01",
          "1997-01-01",
          "1997-01-01",
          "1997-01-01",
          "1997-01-01",
          "1997-01-01",
          "1997-01-01",
          "1998-01-01",
          "1998-01-01",
          "1998-01-01",
          "1998-01-01",
          "1998-01-01",
          "1998-01-01",
          "1998-01-01",
          "1998-01-01",
          "1998-01-01",
          "1998-01-01",
          "1998-01-01",
          "1998-01-01",
          "1999-01-01",
          "1999-01-01",
          "1999-01-01",
          "1999-01-01",
          "1999-01-01",
          "1999-01-01",
          "1999-01-01",
          "1999-01-01",
          "1999-01-01",
          "1999-01-01",
          "1999-01-01",
          "1999-01-01",
          "2000-01-01",
          "2000-01-01",
          "2000-01-01",
          "2000-01-01",
          "2000-01-01",
          "2000-01-01",
          "2000-01-01",
          "2000-01-01",
          "2000-01-01",
          "2000-01-01",
          "2000-01-01",
          "2000-01-01",
          "2001-01-01",
          "2001-01-01",
          "2001-01-01",
          "2001-01-01",
          "2001-01-01",
          "2001-01-01",
          "2001-01-01",
          "2001-01-01",
          "2001-01-01",
          "2001-01-01",
          "2001-01-01",
          "2001-01-01",
          "2002-01-01",
          "2002-01-01",
          "2002-01-01",
          "2002-01-01",
          "2002-01-01",
          "2002-01-01",
          "2002-01-01",
          "2002-01-01",
          "2002-01-01",
          "2002-01-01",
          "2002-01-01",
          "2002-01-01",
          "2003-01-01",
          "2003-01-01",
          "2003-01-01",
          "2003-01-01",
          "2003-01-01",
          "2003-01-01",
          "2003-01-01",
          "2003-01-01",
          "2003-01-01",
          "2003-01-01",
          "2003-01-01",
          "2003-01-01",
          "2004-01-01",
          "2004-01-01",
          "2004-01-01",
          "2004-01-01",
          "2004-01-01",
          "2004-01-01",
          "2004-01-01",
          "2004-01-01",
          "2004-01-01",
          "2004-01-01",
          "2004-01-01",
          "2004-01-01",
          "2005-01-01",
          "2005-01-01",
          "2005-01-01",
          "2005-01-01",
          "2005-01-01",
          "2005-01-01",
          "2005-01-01",
          "2005-01-01",
          "2005-01-01",
          "2005-01-01",
          "2005-01-01",
          "2005-01-01",
          "2006-01-01",
          "2006-01-01",
          "2006-01-01",
          "2006-01-01",
          "2006-01-01",
          "2006-01-01",
          "2006-01-01",
          "2006-01-01",
          "2006-01-01",
          "2006-01-01",
          "2006-01-01",
          "2006-01-01",
          "2007-01-01",
          "2007-01-01",
          "2007-01-01",
          "2007-01-01",
          "2007-01-01",
          "2007-01-01",
          "2007-01-01",
          "2007-01-01",
          "2007-01-01",
          "2007-01-01",
          "2007-01-01",
          "2007-01-01",
          "2008-01-01",
          "2008-01-01",
          "2008-01-01",
          "2008-01-01",
          "2008-01-01",
          "2008-01-01",
          "2008-01-01",
          "2008-01-01",
          "2008-01-01",
          "2008-01-01",
          "2008-01-01",
          "2008-01-01",
          "2009-01-01",
          "2009-01-01",
          "2009-01-01",
          "2009-01-01",
          "2009-01-01",
          "2009-01-01",
          "2009-01-01",
          "2009-01-01",
          "2009-01-01",
          "2009-01-01",
          "2009-01-01",
          "2009-01-01",
          "2010-01-01",
          "2010-01-01",
          "2010-01-01",
          "2010-01-01",
          "2010-01-01",
          "2010-01-01",
          "2010-01-01",
          "2010-01-01",
          "2010-01-01",
          "2010-01-01",
          "2010-01-01",
          "2010-01-01",
          "2011-01-01",
          "2011-01-01",
          "2011-01-01",
          "2011-01-01",
          "2011-01-01",
          "2011-01-01",
          "2011-01-01",
          "2011-01-01",
          "2011-01-01",
          "2011-01-01",
          "2011-01-01",
          "2011-01-01",
          "2012-01-01",
          "2012-01-01",
          "2012-01-01",
          "2012-01-01",
          "2012-01-01",
          "2012-01-01",
          "2012-01-01",
          "2012-01-01",
          "2012-01-01",
          "2012-01-01",
          "2012-01-01",
          "2012-01-01",
          "2013-01-01",
          "2013-01-01",
          "2013-01-01",
          "2013-01-01",
          "2013-01-01",
          "2013-01-01",
          "2013-01-01",
          "2013-01-01",
          "2013-01-01",
          "2013-01-01",
          "2013-01-01",
          "2013-01-01",
          "2014-01-01",
          "2014-01-01",
          "2014-01-01",
          "2014-01-01",
          "2014-01-01",
          "2014-01-01",
          "2014-01-01",
          "2014-01-01",
          "2014-01-01",
          "2014-01-01",
          "2014-01-01",
          "2014-01-01",
          "2015-01-01",
          "2015-01-01",
          "2015-01-01",
          "2015-01-01",
          "2015-01-01",
          "2015-01-01",
          "2015-01-01",
          "2015-01-01",
          "2015-01-01",
          "2015-01-01",
          "2015-01-01",
          "2015-01-01",
          "2016-01-01",
          "2016-01-01",
          "2016-01-01",
          "2016-01-01",
          "2016-01-01",
          "2016-01-01",
          "2016-01-01",
          "2016-01-01",
          "2016-01-01",
          "2016-01-01",
          "2016-01-01",
          "2016-01-01",
          "2017-01-01",
          "2017-01-01",
          "2017-01-01",
          "2017-01-01",
          "2017-01-01",
          "2017-01-01",
          "2017-01-01",
          "2017-01-01",
          "2017-01-01",
          "2017-01-01",
          "2017-01-01",
          "2017-01-01",
          "2018-01-01",
          "2018-01-01",
          "2018-01-01",
          "2018-01-01",
          "2018-01-01",
          "2018-01-01",
          "2018-01-01",
          "2018-01-01",
          "2018-01-01",
          "2018-01-01",
          "2018-01-01",
          "2018-01-01",
          "2019-01-01",
          "2019-01-01",
          "2019-01-01",
          "2019-01-01",
          "2019-01-01",
          "2019-01-01",
          "2019-01-01",
          "2019-01-01",
          "2019-01-01",
          "2019-01-01",
          "2019-01-01",
          "2019-01-01",
          "Alle übrigen Todesursachen",
          "Alle übrigen Todesursachen",
          "Atmungsorgane",
          "Atmungsorgane",
          "Demenz",
          "Demenz",
          "Krebskrankheiten",
          "Krebskrankheiten",
          "Kreislaufsystem",
          "Kreislaufsystem",
          "Unfälle und Gewalteinwirkungen",
          "Unfälle und Gewalteinwirkungen",
          "Frauen",
          "Männer",
          "Todesursachen nach Geschlecht"
         ],
         "marker": {
          "coloraxis": "coloraxis",
          "colors": [
           134.29496402877697,
           113.42494226327945,
           52.45614035087719,
           41.714285714285715,
           99.72258064516129,
           29.96551724137931,
           210.83493282149712,
           202.86335403726707,
           447.31115879828326,
           315.0942857142857,
           32.36206896551724,
           38.95744680851064,
           141.88584474885846,
           101.59895833333333,
           29.613333333333333,
           41.74418604651163,
           84.5104895104895,
           30.833333333333332,
           175.59375,
           227.25818882466282,
           483.0995024875622,
           293.6302521008403,
           29.784313725490197,
           34.587786259541986,
           130.28571428571428,
           98.41361256544502,
           65.3,
           50.64485981308411,
           83.93055555555556,
           31.50793650793651,
           173.30669546436286,
           200.8995983935743,
           469.6694825765575,
           290.5206847360913,
           32.05154639175258,
           39.74285714285714,
           113.93409742120343,
           91.9364161849711,
           68.95890410958904,
           53.11666666666667,
           97.90123456790124,
           32.07936507936508,
           172.05882352941177,
           220.68525896414343,
           471.18106139438083,
           281.54491899852724,
           32.54,
           35.52100840336134,
           130.17708333333334,
           101.24858757062147,
           57.03305785123967,
           47.1551724137931,
           119.38674033149171,
           35.6764705882353,
           174.35469107551486,
           196.19747899159663,
           508.18633540372673,
           260.346875,
           27.67391304347826,
           31.194690265486727,
           147.91162790697675,
           105.89583333333333,
           38.68421052631579,
           49.336283185840706,
           121.08938547486034,
           39.74666666666667,
           160.33663366336634,
           185.10138248847926,
           505.6424242424242,
           267.527950310559,
           40.40157480314961,
           35.22857142857143,
           180.46376811594203,
           128.0696629213483,
           33.795180722891565,
           31.674698795180724,
           129.50704225352112,
           31.491803278688526,
           162.06467661691542,
           185.72210065645515,
           448.85530921820305,
           227.52575488454707,
           31.018691588785046,
           30.9,
           152.63348416289594,
           100.91666666666667,
           43.71111111111111,
           41.870588235294115,
           120.30653266331659,
           45.09411764705882,
           158.045,
           170.65413533834587,
           437.88659793814435,
           219.21014492753622,
           37.95,
           31.611570247933884,
           160.7962577962578,
           120.93154034229829,
           42.73626373626374,
           40.714285714285715,
           125.06217616580311,
           26.962264150943398,
           140.41666666666666,
           196.21973094170403,
           453.6128266033254,
           242.76271186440678,
           38.8448275862069,
           28.27433628318584,
           148.58186397984886,
           105.14673913043478,
           42.134020618556704,
           37.344086021505376,
           127.77227722772277,
           34.93939393939394,
           173.12254901960785,
           165.0765306122449,
           418.5110565110565,
           210.73180076628353,
           32.69072164948454,
           30.571428571428573,
           145.76923076923077,
           100.74142480211081,
           40.01123595505618,
           35.07142857142857,
           131.19213973799125,
           42.2289156626506,
           162.70408163265307,
           188.36674259681092,
           410.5972789115646,
           200.8188976377953,
           31.127659574468087,
           30.00854700854701,
           138.55154639175257,
           117.62626262626263,
           41.37362637362637,
           35.04938271604938,
           148.81165919282512,
           42.5609756097561,
           156.56883116883117,
           164.66240409207163,
           389.91977077363896,
           196.05263157894737,
           46.916666666666664,
           27.38888888888889,
           140.1077694235589,
           99.25,
           42.06818181818182,
           39.32258064516129,
           138.37556561085972,
           48.265306122448976,
           157.28205128205127,
           159.36021505376345,
           426.02046035805625,
           195.0734693877551,
           37,
           28.276190476190475,
           125.65142857142857,
           94.7680250783699,
           46.29545454545455,
           38.67816091954023,
           161.80672268907563,
           53.857142857142854,
           149.11702127659575,
           154.8117048346056,
           400.503355704698,
           205.7421875,
           35.067796610169495,
           33.97709923664122,
           151.91052631578947,
           101.50898203592814,
           53.2962962962963,
           32.86666666666667,
           181.4516129032258,
           41.30952380952381,
           160.85677749360613,
           153.53866666666667,
           389.6330532212885,
           185.07627118644066,
           30.348837209302324,
           32.109243697478995,
           144.84803921568627,
           112.48571428571428,
           37.62921348314607,
           38.8494623655914,
           167.63468634686348,
           57.98989898989899,
           128.0581395348837,
           168.8034398034398,
           348.17808219178085,
           192.49478079331942,
           31.4,
           28.796296296296298,
           173.0686498855835,
           121.36411609498681,
           39.617283950617285,
           39.12765957446808,
           161.14901960784314,
           54.020833333333336,
           139.89005235602093,
           155.92950391644908,
           338.93011647254576,
           161.48730964467006,
           30.456521739130434,
           24.520833333333332,
           144.6950904392765,
           98.73040752351098,
           37.53488372093023,
           32.24050632911393,
           190.95604395604394,
           54.663366336633665,
           144.0918918918919,
           159.8972431077694,
           386.863173216885,
           166.8568129330254,
           24.076923076923077,
           28.74576271186441,
           163.8,
           115.49849849849849,
           41.795698924731184,
           34.25581395348837,
           231.70987654320987,
           75,
           153.07901234567902,
           153.3549160671463,
           367.83024691358025,
           179.30697674418604,
           46.30275229357798,
           23.442105263157895,
           177.91211401425178,
           115.2406876790831,
           41.166666666666664,
           30.83783783783784,
           182.65441176470588,
           64.21311475409836,
           150.63387978142077,
           164.64077669902912,
           374.015923566879,
           157.73891625615764,
           41.270833333333336,
           26.28846153846154,
           166.00254452926208,
           112.45352112676056,
           53.45217391304348,
           40.48936170212766,
           196.85365853658536,
           59.113207547169814,
           150.66326530612244,
           165.2907268170426,
           365.7164179104478,
           189.34285714285716,
           33.41379310344828,
           28.42105263157895,
           144.3314121037464,
           104.37910447761195,
           35.717948717948715,
           29.7027027027027,
           178.9185185185185,
           56.34020618556701,
           151.2406015037594,
           152.32994923857868,
           326.26545454545453,
           176.48717948717947,
           32.01176470588236,
           31.916666666666668,
           156.76338028169013,
           105.59130434782608,
           48.89473684210526,
           38.18279569892473,
           185.0514705882353,
           53.333333333333336,
           136.73888888888888,
           164.34643734643734,
           332.54816112084063,
           190.68253968253967,
           42.381443298969074,
           32.9375,
           193.44700460829492,
           106.19277108433735,
           49.71153846153846,
           38.03448275862069,
           195.84912280701755,
           57.32727272727273,
           135.4715909090909,
           183.6078431372549,
           300.3220338983051,
           158.2287917737789,
           44.28712871287129,
           25.568627450980394,
           154.89080459770116,
           124.95428571428572,
           51.214285714285715,
           38.369565217391305,
           200.25342465753425,
           61.30769230769231,
           121.99428571428571,
           134.4376811594203,
           328.6216216216216,
           158.22371967654988,
           37.24242424242424,
           32.095238095238095,
           151.64068497195157,
           108.38244375827084,
           47.031797798613944,
           39.777875329236174,
           158.9774383894481,
           49.229799159271366,
           157.558616529258,
           177.16952687968143,
           416.4666525513445,
           222.1217183770883,
           35.55826771653543,
           31.244134648078884,
           243.1463198938779,
           150.74722250025022,
           201.9880514500992
          ]
         },
         "name": "",
         "parents": [
          "Todesursachen nach Geschlecht/Frauen/Alle übrigen Todesursachen",
          "Todesursachen nach Geschlecht/Männer/Alle übrigen Todesursachen",
          "Todesursachen nach Geschlecht/Frauen/Atmungsorgane",
          "Todesursachen nach Geschlecht/Männer/Atmungsorgane",
          "Todesursachen nach Geschlecht/Frauen/Demenz",
          "Todesursachen nach Geschlecht/Männer/Demenz",
          "Todesursachen nach Geschlecht/Frauen/Krebskrankheiten",
          "Todesursachen nach Geschlecht/Männer/Krebskrankheiten",
          "Todesursachen nach Geschlecht/Frauen/Kreislaufsystem",
          "Todesursachen nach Geschlecht/Männer/Kreislaufsystem",
          "Todesursachen nach Geschlecht/Frauen/Unfälle und Gewalteinwirkungen",
          "Todesursachen nach Geschlecht/Männer/Unfälle und Gewalteinwirkungen",
          "Todesursachen nach Geschlecht/Frauen/Alle übrigen Todesursachen",
          "Todesursachen nach Geschlecht/Männer/Alle übrigen Todesursachen",
          "Todesursachen nach Geschlecht/Frauen/Atmungsorgane",
          "Todesursachen nach Geschlecht/Männer/Atmungsorgane",
          "Todesursachen nach Geschlecht/Frauen/Demenz",
          "Todesursachen nach Geschlecht/Männer/Demenz",
          "Todesursachen nach Geschlecht/Frauen/Krebskrankheiten",
          "Todesursachen nach Geschlecht/Männer/Krebskrankheiten",
          "Todesursachen nach Geschlecht/Frauen/Kreislaufsystem",
          "Todesursachen nach Geschlecht/Männer/Kreislaufsystem",
          "Todesursachen nach Geschlecht/Frauen/Unfälle und Gewalteinwirkungen",
          "Todesursachen nach Geschlecht/Männer/Unfälle und Gewalteinwirkungen",
          "Todesursachen nach Geschlecht/Frauen/Alle übrigen Todesursachen",
          "Todesursachen nach Geschlecht/Männer/Alle übrigen Todesursachen",
          "Todesursachen nach Geschlecht/Frauen/Atmungsorgane",
          "Todesursachen nach Geschlecht/Männer/Atmungsorgane",
          "Todesursachen nach Geschlecht/Frauen/Demenz",
          "Todesursachen nach Geschlecht/Männer/Demenz",
          "Todesursachen nach Geschlecht/Frauen/Krebskrankheiten",
          "Todesursachen nach Geschlecht/Männer/Krebskrankheiten",
          "Todesursachen nach Geschlecht/Frauen/Kreislaufsystem",
          "Todesursachen nach Geschlecht/Männer/Kreislaufsystem",
          "Todesursachen nach Geschlecht/Frauen/Unfälle und Gewalteinwirkungen",
          "Todesursachen nach Geschlecht/Männer/Unfälle und Gewalteinwirkungen",
          "Todesursachen nach Geschlecht/Frauen/Alle übrigen Todesursachen",
          "Todesursachen nach Geschlecht/Männer/Alle übrigen Todesursachen",
          "Todesursachen nach Geschlecht/Frauen/Atmungsorgane",
          "Todesursachen nach Geschlecht/Männer/Atmungsorgane",
          "Todesursachen nach Geschlecht/Frauen/Demenz",
          "Todesursachen nach Geschlecht/Männer/Demenz",
          "Todesursachen nach Geschlecht/Frauen/Krebskrankheiten",
          "Todesursachen nach Geschlecht/Männer/Krebskrankheiten",
          "Todesursachen nach Geschlecht/Frauen/Kreislaufsystem",
          "Todesursachen nach Geschlecht/Männer/Kreislaufsystem",
          "Todesursachen nach Geschlecht/Frauen/Unfälle und Gewalteinwirkungen",
          "Todesursachen nach Geschlecht/Männer/Unfälle und Gewalteinwirkungen",
          "Todesursachen nach Geschlecht/Frauen/Alle übrigen Todesursachen",
          "Todesursachen nach Geschlecht/Männer/Alle übrigen Todesursachen",
          "Todesursachen nach Geschlecht/Frauen/Atmungsorgane",
          "Todesursachen nach Geschlecht/Männer/Atmungsorgane",
          "Todesursachen nach Geschlecht/Frauen/Demenz",
          "Todesursachen nach Geschlecht/Männer/Demenz",
          "Todesursachen nach Geschlecht/Frauen/Krebskrankheiten",
          "Todesursachen nach Geschlecht/Männer/Krebskrankheiten",
          "Todesursachen nach Geschlecht/Frauen/Kreislaufsystem",
          "Todesursachen nach Geschlecht/Männer/Kreislaufsystem",
          "Todesursachen nach Geschlecht/Frauen/Unfälle und Gewalteinwirkungen",
          "Todesursachen nach Geschlecht/Männer/Unfälle und Gewalteinwirkungen",
          "Todesursachen nach Geschlecht/Frauen/Alle übrigen Todesursachen",
          "Todesursachen nach Geschlecht/Männer/Alle übrigen Todesursachen",
          "Todesursachen nach Geschlecht/Frauen/Atmungsorgane",
          "Todesursachen nach Geschlecht/Männer/Atmungsorgane",
          "Todesursachen nach Geschlecht/Frauen/Demenz",
          "Todesursachen nach Geschlecht/Männer/Demenz",
          "Todesursachen nach Geschlecht/Frauen/Krebskrankheiten",
          "Todesursachen nach Geschlecht/Männer/Krebskrankheiten",
          "Todesursachen nach Geschlecht/Frauen/Kreislaufsystem",
          "Todesursachen nach Geschlecht/Männer/Kreislaufsystem",
          "Todesursachen nach Geschlecht/Frauen/Unfälle und Gewalteinwirkungen",
          "Todesursachen nach Geschlecht/Männer/Unfälle und Gewalteinwirkungen",
          "Todesursachen nach Geschlecht/Frauen/Alle übrigen Todesursachen",
          "Todesursachen nach Geschlecht/Männer/Alle übrigen Todesursachen",
          "Todesursachen nach Geschlecht/Frauen/Atmungsorgane",
          "Todesursachen nach Geschlecht/Männer/Atmungsorgane",
          "Todesursachen nach Geschlecht/Frauen/Demenz",
          "Todesursachen nach Geschlecht/Männer/Demenz",
          "Todesursachen nach Geschlecht/Frauen/Krebskrankheiten",
          "Todesursachen nach Geschlecht/Männer/Krebskrankheiten",
          "Todesursachen nach Geschlecht/Frauen/Kreislaufsystem",
          "Todesursachen nach Geschlecht/Männer/Kreislaufsystem",
          "Todesursachen nach Geschlecht/Frauen/Unfälle und Gewalteinwirkungen",
          "Todesursachen nach Geschlecht/Männer/Unfälle und Gewalteinwirkungen",
          "Todesursachen nach Geschlecht/Frauen/Alle übrigen Todesursachen",
          "Todesursachen nach Geschlecht/Männer/Alle übrigen Todesursachen",
          "Todesursachen nach Geschlecht/Frauen/Atmungsorgane",
          "Todesursachen nach Geschlecht/Männer/Atmungsorgane",
          "Todesursachen nach Geschlecht/Frauen/Demenz",
          "Todesursachen nach Geschlecht/Männer/Demenz",
          "Todesursachen nach Geschlecht/Frauen/Krebskrankheiten",
          "Todesursachen nach Geschlecht/Männer/Krebskrankheiten",
          "Todesursachen nach Geschlecht/Frauen/Kreislaufsystem",
          "Todesursachen nach Geschlecht/Männer/Kreislaufsystem",
          "Todesursachen nach Geschlecht/Frauen/Unfälle und Gewalteinwirkungen",
          "Todesursachen nach Geschlecht/Männer/Unfälle und Gewalteinwirkungen",
          "Todesursachen nach Geschlecht/Frauen/Alle übrigen Todesursachen",
          "Todesursachen nach Geschlecht/Männer/Alle übrigen Todesursachen",
          "Todesursachen nach Geschlecht/Frauen/Atmungsorgane",
          "Todesursachen nach Geschlecht/Männer/Atmungsorgane",
          "Todesursachen nach Geschlecht/Frauen/Demenz",
          "Todesursachen nach Geschlecht/Männer/Demenz",
          "Todesursachen nach Geschlecht/Frauen/Krebskrankheiten",
          "Todesursachen nach Geschlecht/Männer/Krebskrankheiten",
          "Todesursachen nach Geschlecht/Frauen/Kreislaufsystem",
          "Todesursachen nach Geschlecht/Männer/Kreislaufsystem",
          "Todesursachen nach Geschlecht/Frauen/Unfälle und Gewalteinwirkungen",
          "Todesursachen nach Geschlecht/Männer/Unfälle und Gewalteinwirkungen",
          "Todesursachen nach Geschlecht/Frauen/Alle übrigen Todesursachen",
          "Todesursachen nach Geschlecht/Männer/Alle übrigen Todesursachen",
          "Todesursachen nach Geschlecht/Frauen/Atmungsorgane",
          "Todesursachen nach Geschlecht/Männer/Atmungsorgane",
          "Todesursachen nach Geschlecht/Frauen/Demenz",
          "Todesursachen nach Geschlecht/Männer/Demenz",
          "Todesursachen nach Geschlecht/Frauen/Krebskrankheiten",
          "Todesursachen nach Geschlecht/Männer/Krebskrankheiten",
          "Todesursachen nach Geschlecht/Frauen/Kreislaufsystem",
          "Todesursachen nach Geschlecht/Männer/Kreislaufsystem",
          "Todesursachen nach Geschlecht/Frauen/Unfälle und Gewalteinwirkungen",
          "Todesursachen nach Geschlecht/Männer/Unfälle und Gewalteinwirkungen",
          "Todesursachen nach Geschlecht/Frauen/Alle übrigen Todesursachen",
          "Todesursachen nach Geschlecht/Männer/Alle übrigen Todesursachen",
          "Todesursachen nach Geschlecht/Frauen/Atmungsorgane",
          "Todesursachen nach Geschlecht/Männer/Atmungsorgane",
          "Todesursachen nach Geschlecht/Frauen/Demenz",
          "Todesursachen nach Geschlecht/Männer/Demenz",
          "Todesursachen nach Geschlecht/Frauen/Krebskrankheiten",
          "Todesursachen nach Geschlecht/Männer/Krebskrankheiten",
          "Todesursachen nach Geschlecht/Frauen/Kreislaufsystem",
          "Todesursachen nach Geschlecht/Männer/Kreislaufsystem",
          "Todesursachen nach Geschlecht/Frauen/Unfälle und Gewalteinwirkungen",
          "Todesursachen nach Geschlecht/Männer/Unfälle und Gewalteinwirkungen",
          "Todesursachen nach Geschlecht/Frauen/Alle übrigen Todesursachen",
          "Todesursachen nach Geschlecht/Männer/Alle übrigen Todesursachen",
          "Todesursachen nach Geschlecht/Frauen/Atmungsorgane",
          "Todesursachen nach Geschlecht/Männer/Atmungsorgane",
          "Todesursachen nach Geschlecht/Frauen/Demenz",
          "Todesursachen nach Geschlecht/Männer/Demenz",
          "Todesursachen nach Geschlecht/Frauen/Krebskrankheiten",
          "Todesursachen nach Geschlecht/Männer/Krebskrankheiten",
          "Todesursachen nach Geschlecht/Frauen/Kreislaufsystem",
          "Todesursachen nach Geschlecht/Männer/Kreislaufsystem",
          "Todesursachen nach Geschlecht/Frauen/Unfälle und Gewalteinwirkungen",
          "Todesursachen nach Geschlecht/Männer/Unfälle und Gewalteinwirkungen",
          "Todesursachen nach Geschlecht/Frauen/Alle übrigen Todesursachen",
          "Todesursachen nach Geschlecht/Männer/Alle übrigen Todesursachen",
          "Todesursachen nach Geschlecht/Frauen/Atmungsorgane",
          "Todesursachen nach Geschlecht/Männer/Atmungsorgane",
          "Todesursachen nach Geschlecht/Frauen/Demenz",
          "Todesursachen nach Geschlecht/Männer/Demenz",
          "Todesursachen nach Geschlecht/Frauen/Krebskrankheiten",
          "Todesursachen nach Geschlecht/Männer/Krebskrankheiten",
          "Todesursachen nach Geschlecht/Frauen/Kreislaufsystem",
          "Todesursachen nach Geschlecht/Männer/Kreislaufsystem",
          "Todesursachen nach Geschlecht/Frauen/Unfälle und Gewalteinwirkungen",
          "Todesursachen nach Geschlecht/Männer/Unfälle und Gewalteinwirkungen",
          "Todesursachen nach Geschlecht/Frauen/Alle übrigen Todesursachen",
          "Todesursachen nach Geschlecht/Männer/Alle übrigen Todesursachen",
          "Todesursachen nach Geschlecht/Frauen/Atmungsorgane",
          "Todesursachen nach Geschlecht/Männer/Atmungsorgane",
          "Todesursachen nach Geschlecht/Frauen/Demenz",
          "Todesursachen nach Geschlecht/Männer/Demenz",
          "Todesursachen nach Geschlecht/Frauen/Krebskrankheiten",
          "Todesursachen nach Geschlecht/Männer/Krebskrankheiten",
          "Todesursachen nach Geschlecht/Frauen/Kreislaufsystem",
          "Todesursachen nach Geschlecht/Männer/Kreislaufsystem",
          "Todesursachen nach Geschlecht/Frauen/Unfälle und Gewalteinwirkungen",
          "Todesursachen nach Geschlecht/Männer/Unfälle und Gewalteinwirkungen",
          "Todesursachen nach Geschlecht/Frauen/Alle übrigen Todesursachen",
          "Todesursachen nach Geschlecht/Männer/Alle übrigen Todesursachen",
          "Todesursachen nach Geschlecht/Frauen/Atmungsorgane",
          "Todesursachen nach Geschlecht/Männer/Atmungsorgane",
          "Todesursachen nach Geschlecht/Frauen/Demenz",
          "Todesursachen nach Geschlecht/Männer/Demenz",
          "Todesursachen nach Geschlecht/Frauen/Krebskrankheiten",
          "Todesursachen nach Geschlecht/Männer/Krebskrankheiten",
          "Todesursachen nach Geschlecht/Frauen/Kreislaufsystem",
          "Todesursachen nach Geschlecht/Männer/Kreislaufsystem",
          "Todesursachen nach Geschlecht/Frauen/Unfälle und Gewalteinwirkungen",
          "Todesursachen nach Geschlecht/Männer/Unfälle und Gewalteinwirkungen",
          "Todesursachen nach Geschlecht/Frauen/Alle übrigen Todesursachen",
          "Todesursachen nach Geschlecht/Männer/Alle übrigen Todesursachen",
          "Todesursachen nach Geschlecht/Frauen/Atmungsorgane",
          "Todesursachen nach Geschlecht/Männer/Atmungsorgane",
          "Todesursachen nach Geschlecht/Frauen/Demenz",
          "Todesursachen nach Geschlecht/Männer/Demenz",
          "Todesursachen nach Geschlecht/Frauen/Krebskrankheiten",
          "Todesursachen nach Geschlecht/Männer/Krebskrankheiten",
          "Todesursachen nach Geschlecht/Frauen/Kreislaufsystem",
          "Todesursachen nach Geschlecht/Männer/Kreislaufsystem",
          "Todesursachen nach Geschlecht/Frauen/Unfälle und Gewalteinwirkungen",
          "Todesursachen nach Geschlecht/Männer/Unfälle und Gewalteinwirkungen",
          "Todesursachen nach Geschlecht/Frauen/Alle übrigen Todesursachen",
          "Todesursachen nach Geschlecht/Männer/Alle übrigen Todesursachen",
          "Todesursachen nach Geschlecht/Frauen/Atmungsorgane",
          "Todesursachen nach Geschlecht/Männer/Atmungsorgane",
          "Todesursachen nach Geschlecht/Frauen/Demenz",
          "Todesursachen nach Geschlecht/Männer/Demenz",
          "Todesursachen nach Geschlecht/Frauen/Krebskrankheiten",
          "Todesursachen nach Geschlecht/Männer/Krebskrankheiten",
          "Todesursachen nach Geschlecht/Frauen/Kreislaufsystem",
          "Todesursachen nach Geschlecht/Männer/Kreislaufsystem",
          "Todesursachen nach Geschlecht/Frauen/Unfälle und Gewalteinwirkungen",
          "Todesursachen nach Geschlecht/Männer/Unfälle und Gewalteinwirkungen",
          "Todesursachen nach Geschlecht/Frauen/Alle übrigen Todesursachen",
          "Todesursachen nach Geschlecht/Männer/Alle übrigen Todesursachen",
          "Todesursachen nach Geschlecht/Frauen/Atmungsorgane",
          "Todesursachen nach Geschlecht/Männer/Atmungsorgane",
          "Todesursachen nach Geschlecht/Frauen/Demenz",
          "Todesursachen nach Geschlecht/Männer/Demenz",
          "Todesursachen nach Geschlecht/Frauen/Krebskrankheiten",
          "Todesursachen nach Geschlecht/Männer/Krebskrankheiten",
          "Todesursachen nach Geschlecht/Frauen/Kreislaufsystem",
          "Todesursachen nach Geschlecht/Männer/Kreislaufsystem",
          "Todesursachen nach Geschlecht/Frauen/Unfälle und Gewalteinwirkungen",
          "Todesursachen nach Geschlecht/Männer/Unfälle und Gewalteinwirkungen",
          "Todesursachen nach Geschlecht/Frauen/Alle übrigen Todesursachen",
          "Todesursachen nach Geschlecht/Männer/Alle übrigen Todesursachen",
          "Todesursachen nach Geschlecht/Frauen/Atmungsorgane",
          "Todesursachen nach Geschlecht/Männer/Atmungsorgane",
          "Todesursachen nach Geschlecht/Frauen/Demenz",
          "Todesursachen nach Geschlecht/Männer/Demenz",
          "Todesursachen nach Geschlecht/Frauen/Krebskrankheiten",
          "Todesursachen nach Geschlecht/Männer/Krebskrankheiten",
          "Todesursachen nach Geschlecht/Frauen/Kreislaufsystem",
          "Todesursachen nach Geschlecht/Männer/Kreislaufsystem",
          "Todesursachen nach Geschlecht/Frauen/Unfälle und Gewalteinwirkungen",
          "Todesursachen nach Geschlecht/Männer/Unfälle und Gewalteinwirkungen",
          "Todesursachen nach Geschlecht/Frauen/Alle übrigen Todesursachen",
          "Todesursachen nach Geschlecht/Männer/Alle übrigen Todesursachen",
          "Todesursachen nach Geschlecht/Frauen/Atmungsorgane",
          "Todesursachen nach Geschlecht/Männer/Atmungsorgane",
          "Todesursachen nach Geschlecht/Frauen/Demenz",
          "Todesursachen nach Geschlecht/Männer/Demenz",
          "Todesursachen nach Geschlecht/Frauen/Krebskrankheiten",
          "Todesursachen nach Geschlecht/Männer/Krebskrankheiten",
          "Todesursachen nach Geschlecht/Frauen/Kreislaufsystem",
          "Todesursachen nach Geschlecht/Männer/Kreislaufsystem",
          "Todesursachen nach Geschlecht/Frauen/Unfälle und Gewalteinwirkungen",
          "Todesursachen nach Geschlecht/Männer/Unfälle und Gewalteinwirkungen",
          "Todesursachen nach Geschlecht/Frauen/Alle übrigen Todesursachen",
          "Todesursachen nach Geschlecht/Männer/Alle übrigen Todesursachen",
          "Todesursachen nach Geschlecht/Frauen/Atmungsorgane",
          "Todesursachen nach Geschlecht/Männer/Atmungsorgane",
          "Todesursachen nach Geschlecht/Frauen/Demenz",
          "Todesursachen nach Geschlecht/Männer/Demenz",
          "Todesursachen nach Geschlecht/Frauen/Krebskrankheiten",
          "Todesursachen nach Geschlecht/Männer/Krebskrankheiten",
          "Todesursachen nach Geschlecht/Frauen/Kreislaufsystem",
          "Todesursachen nach Geschlecht/Männer/Kreislaufsystem",
          "Todesursachen nach Geschlecht/Frauen/Unfälle und Gewalteinwirkungen",
          "Todesursachen nach Geschlecht/Männer/Unfälle und Gewalteinwirkungen",
          "Todesursachen nach Geschlecht/Frauen/Alle übrigen Todesursachen",
          "Todesursachen nach Geschlecht/Männer/Alle übrigen Todesursachen",
          "Todesursachen nach Geschlecht/Frauen/Atmungsorgane",
          "Todesursachen nach Geschlecht/Männer/Atmungsorgane",
          "Todesursachen nach Geschlecht/Frauen/Demenz",
          "Todesursachen nach Geschlecht/Männer/Demenz",
          "Todesursachen nach Geschlecht/Frauen/Krebskrankheiten",
          "Todesursachen nach Geschlecht/Männer/Krebskrankheiten",
          "Todesursachen nach Geschlecht/Frauen/Kreislaufsystem",
          "Todesursachen nach Geschlecht/Männer/Kreislaufsystem",
          "Todesursachen nach Geschlecht/Frauen/Unfälle und Gewalteinwirkungen",
          "Todesursachen nach Geschlecht/Männer/Unfälle und Gewalteinwirkungen",
          "Todesursachen nach Geschlecht/Frauen/Alle übrigen Todesursachen",
          "Todesursachen nach Geschlecht/Männer/Alle übrigen Todesursachen",
          "Todesursachen nach Geschlecht/Frauen/Atmungsorgane",
          "Todesursachen nach Geschlecht/Männer/Atmungsorgane",
          "Todesursachen nach Geschlecht/Frauen/Demenz",
          "Todesursachen nach Geschlecht/Männer/Demenz",
          "Todesursachen nach Geschlecht/Frauen/Krebskrankheiten",
          "Todesursachen nach Geschlecht/Männer/Krebskrankheiten",
          "Todesursachen nach Geschlecht/Frauen/Kreislaufsystem",
          "Todesursachen nach Geschlecht/Männer/Kreislaufsystem",
          "Todesursachen nach Geschlecht/Frauen/Unfälle und Gewalteinwirkungen",
          "Todesursachen nach Geschlecht/Männer/Unfälle und Gewalteinwirkungen",
          "Todesursachen nach Geschlecht/Frauen/Alle übrigen Todesursachen",
          "Todesursachen nach Geschlecht/Männer/Alle übrigen Todesursachen",
          "Todesursachen nach Geschlecht/Frauen/Atmungsorgane",
          "Todesursachen nach Geschlecht/Männer/Atmungsorgane",
          "Todesursachen nach Geschlecht/Frauen/Demenz",
          "Todesursachen nach Geschlecht/Männer/Demenz",
          "Todesursachen nach Geschlecht/Frauen/Krebskrankheiten",
          "Todesursachen nach Geschlecht/Männer/Krebskrankheiten",
          "Todesursachen nach Geschlecht/Frauen/Kreislaufsystem",
          "Todesursachen nach Geschlecht/Männer/Kreislaufsystem",
          "Todesursachen nach Geschlecht/Frauen/Unfälle und Gewalteinwirkungen",
          "Todesursachen nach Geschlecht/Männer/Unfälle und Gewalteinwirkungen",
          "Todesursachen nach Geschlecht/Frauen/Alle übrigen Todesursachen",
          "Todesursachen nach Geschlecht/Männer/Alle übrigen Todesursachen",
          "Todesursachen nach Geschlecht/Frauen/Atmungsorgane",
          "Todesursachen nach Geschlecht/Männer/Atmungsorgane",
          "Todesursachen nach Geschlecht/Frauen/Demenz",
          "Todesursachen nach Geschlecht/Männer/Demenz",
          "Todesursachen nach Geschlecht/Frauen/Krebskrankheiten",
          "Todesursachen nach Geschlecht/Männer/Krebskrankheiten",
          "Todesursachen nach Geschlecht/Frauen/Kreislaufsystem",
          "Todesursachen nach Geschlecht/Männer/Kreislaufsystem",
          "Todesursachen nach Geschlecht/Frauen/Unfälle und Gewalteinwirkungen",
          "Todesursachen nach Geschlecht/Männer/Unfälle und Gewalteinwirkungen",
          "Todesursachen nach Geschlecht/Frauen",
          "Todesursachen nach Geschlecht/Männer",
          "Todesursachen nach Geschlecht/Frauen",
          "Todesursachen nach Geschlecht/Männer",
          "Todesursachen nach Geschlecht/Frauen",
          "Todesursachen nach Geschlecht/Männer",
          "Todesursachen nach Geschlecht/Frauen",
          "Todesursachen nach Geschlecht/Männer",
          "Todesursachen nach Geschlecht/Frauen",
          "Todesursachen nach Geschlecht/Männer",
          "Todesursachen nach Geschlecht/Frauen",
          "Todesursachen nach Geschlecht/Männer",
          "Todesursachen nach Geschlecht",
          "Todesursachen nach Geschlecht",
          ""
         ],
         "root": {
          "color": "lightgrey"
         },
         "type": "treemap",
         "values": [
          417,
          433,
          114,
          98,
          155,
          58,
          521,
          483,
          932,
          700,
          116,
          141,
          438,
          384,
          75,
          86,
          143,
          60,
          448,
          519,
          1005,
          714,
          102,
          131,
          364,
          382,
          140,
          107,
          144,
          63,
          463,
          498,
          947,
          701,
          97,
          140,
          349,
          346,
          146,
          120,
          162,
          63,
          425,
          502,
          961,
          679,
          100,
          119,
          384,
          354,
          121,
          116,
          181,
          68,
          437,
          476,
          966,
          640,
          92,
          113,
          430,
          384,
          76,
          113,
          179,
          75,
          404,
          434,
          990,
          644,
          127,
          140,
          552,
          445,
          83,
          83,
          213,
          61,
          402,
          457,
          857,
          563,
          107,
          120,
          442,
          360,
          90,
          85,
          199,
          85,
          400,
          399,
          873,
          552,
          120,
          121,
          481,
          409,
          91,
          91,
          193,
          53,
          384,
          446,
          842,
          590,
          116,
          113,
          397,
          368,
          97,
          93,
          202,
          66,
          408,
          392,
          814,
          522,
          97,
          112,
          455,
          379,
          89,
          84,
          229,
          83,
          392,
          439,
          735,
          508,
          94,
          117,
          388,
          396,
          91,
          81,
          223,
          82,
          385,
          391,
          698,
          475,
          120,
          108,
          399,
          328,
          88,
          93,
          221,
          98,
          390,
          372,
          782,
          490,
          114,
          105,
          350,
          319,
          88,
          87,
          238,
          91,
          376,
          393,
          745,
          512,
          118,
          131,
          380,
          334,
          108,
          75,
          279,
          84,
          391,
          375,
          714,
          472,
          86,
          119,
          408,
          350,
          89,
          93,
          271,
          99,
          344,
          407,
          657,
          479,
          90,
          108,
          437,
          379,
          81,
          94,
          255,
          96,
          382,
          383,
          601,
          394,
          92,
          96,
          387,
          319,
          86,
          79,
          273,
          101,
          370,
          399,
          687,
          433,
          78,
          118,
          405,
          333,
          93,
          86,
          324,
          120,
          405,
          417,
          648,
          430,
          109,
          95,
          421,
          349,
          84,
          74,
          272,
          122,
          366,
          412,
          628,
          406,
          96,
          104,
          393,
          355,
          115,
          94,
          287,
          106,
          392,
          399,
          603,
          455,
          87,
          114,
          347,
          335,
          78,
          74,
          270,
          97,
          399,
          394,
          550,
          429,
          85,
          120,
          355,
          345,
          114,
          93,
          272,
          96,
          360,
          407,
          571,
          441,
          97,
          128,
          434,
          332,
          104,
          87,
          285,
          110,
          352,
          408,
          531,
          389,
          101,
          102,
          348,
          350,
          112,
          92,
          292,
          104,
          350,
          345,
          555,
          371,
          99,
          126,
          10161,
          9068,
          2453,
          2278,
          5762,
          2141,
          9946,
          10547,
          18892,
          12989,
          2540,
          2941,
          49754,
          39964,
          89718
         ]
        }
       ],
       "layout": {
        "autosize": true,
        "coloraxis": {
         "colorbar": {
          "title": {
           "text": "AnzSterWir"
          }
         },
         "colorscale": [
          [
           0,
           "rgb(247,251,255)"
          ],
          [
           0.125,
           "rgb(222,235,247)"
          ],
          [
           0.25,
           "rgb(198,219,239)"
          ],
          [
           0.375,
           "rgb(158,202,225)"
          ],
          [
           0.5,
           "rgb(107,174,214)"
          ],
          [
           0.625,
           "rgb(66,146,198)"
          ],
          [
           0.75,
           "rgb(33,113,181)"
          ],
          [
           0.875,
           "rgb(8,81,156)"
          ],
          [
           1,
           "rgb(8,48,107)"
          ]
         ]
        },
        "legend": {
         "tracegroupgap": 0
        },
        "margin": {
         "b": 25,
         "l": 25,
         "r": 250,
         "t": 50
        },
        "template": {
         "data": {
          "bar": [
           {
            "error_x": {
             "color": "#2a3f5f"
            },
            "error_y": {
             "color": "#2a3f5f"
            },
            "marker": {
             "line": {
              "color": "#E5ECF6",
              "width": 0.5
             },
             "pattern": {
              "fillmode": "overlay",
              "size": 10,
              "solidity": 0.2
             }
            },
            "type": "bar"
           }
          ],
          "barpolar": [
           {
            "marker": {
             "line": {
              "color": "#E5ECF6",
              "width": 0.5
             },
             "pattern": {
              "fillmode": "overlay",
              "size": 10,
              "solidity": 0.2
             }
            },
            "type": "barpolar"
           }
          ],
          "carpet": [
           {
            "aaxis": {
             "endlinecolor": "#2a3f5f",
             "gridcolor": "white",
             "linecolor": "white",
             "minorgridcolor": "white",
             "startlinecolor": "#2a3f5f"
            },
            "baxis": {
             "endlinecolor": "#2a3f5f",
             "gridcolor": "white",
             "linecolor": "white",
             "minorgridcolor": "white",
             "startlinecolor": "#2a3f5f"
            },
            "type": "carpet"
           }
          ],
          "choropleth": [
           {
            "colorbar": {
             "outlinewidth": 0,
             "ticks": ""
            },
            "type": "choropleth"
           }
          ],
          "contour": [
           {
            "colorbar": {
             "outlinewidth": 0,
             "ticks": ""
            },
            "colorscale": [
             [
              0,
              "#0d0887"
             ],
             [
              0.1111111111111111,
              "#46039f"
             ],
             [
              0.2222222222222222,
              "#7201a8"
             ],
             [
              0.3333333333333333,
              "#9c179e"
             ],
             [
              0.4444444444444444,
              "#bd3786"
             ],
             [
              0.5555555555555556,
              "#d8576b"
             ],
             [
              0.6666666666666666,
              "#ed7953"
             ],
             [
              0.7777777777777778,
              "#fb9f3a"
             ],
             [
              0.8888888888888888,
              "#fdca26"
             ],
             [
              1,
              "#f0f921"
             ]
            ],
            "type": "contour"
           }
          ],
          "contourcarpet": [
           {
            "colorbar": {
             "outlinewidth": 0,
             "ticks": ""
            },
            "type": "contourcarpet"
           }
          ],
          "heatmap": [
           {
            "colorbar": {
             "outlinewidth": 0,
             "ticks": ""
            },
            "colorscale": [
             [
              0,
              "#0d0887"
             ],
             [
              0.1111111111111111,
              "#46039f"
             ],
             [
              0.2222222222222222,
              "#7201a8"
             ],
             [
              0.3333333333333333,
              "#9c179e"
             ],
             [
              0.4444444444444444,
              "#bd3786"
             ],
             [
              0.5555555555555556,
              "#d8576b"
             ],
             [
              0.6666666666666666,
              "#ed7953"
             ],
             [
              0.7777777777777778,
              "#fb9f3a"
             ],
             [
              0.8888888888888888,
              "#fdca26"
             ],
             [
              1,
              "#f0f921"
             ]
            ],
            "type": "heatmap"
           }
          ],
          "heatmapgl": [
           {
            "colorbar": {
             "outlinewidth": 0,
             "ticks": ""
            },
            "colorscale": [
             [
              0,
              "#0d0887"
             ],
             [
              0.1111111111111111,
              "#46039f"
             ],
             [
              0.2222222222222222,
              "#7201a8"
             ],
             [
              0.3333333333333333,
              "#9c179e"
             ],
             [
              0.4444444444444444,
              "#bd3786"
             ],
             [
              0.5555555555555556,
              "#d8576b"
             ],
             [
              0.6666666666666666,
              "#ed7953"
             ],
             [
              0.7777777777777778,
              "#fb9f3a"
             ],
             [
              0.8888888888888888,
              "#fdca26"
             ],
             [
              1,
              "#f0f921"
             ]
            ],
            "type": "heatmapgl"
           }
          ],
          "histogram": [
           {
            "marker": {
             "pattern": {
              "fillmode": "overlay",
              "size": 10,
              "solidity": 0.2
             }
            },
            "type": "histogram"
           }
          ],
          "histogram2d": [
           {
            "colorbar": {
             "outlinewidth": 0,
             "ticks": ""
            },
            "colorscale": [
             [
              0,
              "#0d0887"
             ],
             [
              0.1111111111111111,
              "#46039f"
             ],
             [
              0.2222222222222222,
              "#7201a8"
             ],
             [
              0.3333333333333333,
              "#9c179e"
             ],
             [
              0.4444444444444444,
              "#bd3786"
             ],
             [
              0.5555555555555556,
              "#d8576b"
             ],
             [
              0.6666666666666666,
              "#ed7953"
             ],
             [
              0.7777777777777778,
              "#fb9f3a"
             ],
             [
              0.8888888888888888,
              "#fdca26"
             ],
             [
              1,
              "#f0f921"
             ]
            ],
            "type": "histogram2d"
           }
          ],
          "histogram2dcontour": [
           {
            "colorbar": {
             "outlinewidth": 0,
             "ticks": ""
            },
            "colorscale": [
             [
              0,
              "#0d0887"
             ],
             [
              0.1111111111111111,
              "#46039f"
             ],
             [
              0.2222222222222222,
              "#7201a8"
             ],
             [
              0.3333333333333333,
              "#9c179e"
             ],
             [
              0.4444444444444444,
              "#bd3786"
             ],
             [
              0.5555555555555556,
              "#d8576b"
             ],
             [
              0.6666666666666666,
              "#ed7953"
             ],
             [
              0.7777777777777778,
              "#fb9f3a"
             ],
             [
              0.8888888888888888,
              "#fdca26"
             ],
             [
              1,
              "#f0f921"
             ]
            ],
            "type": "histogram2dcontour"
           }
          ],
          "mesh3d": [
           {
            "colorbar": {
             "outlinewidth": 0,
             "ticks": ""
            },
            "type": "mesh3d"
           }
          ],
          "parcoords": [
           {
            "line": {
             "colorbar": {
              "outlinewidth": 0,
              "ticks": ""
             }
            },
            "type": "parcoords"
           }
          ],
          "pie": [
           {
            "automargin": true,
            "type": "pie"
           }
          ],
          "scatter": [
           {
            "marker": {
             "colorbar": {
              "outlinewidth": 0,
              "ticks": ""
             }
            },
            "type": "scatter"
           }
          ],
          "scatter3d": [
           {
            "line": {
             "colorbar": {
              "outlinewidth": 0,
              "ticks": ""
             }
            },
            "marker": {
             "colorbar": {
              "outlinewidth": 0,
              "ticks": ""
             }
            },
            "type": "scatter3d"
           }
          ],
          "scattercarpet": [
           {
            "marker": {
             "colorbar": {
              "outlinewidth": 0,
              "ticks": ""
             }
            },
            "type": "scattercarpet"
           }
          ],
          "scattergeo": [
           {
            "marker": {
             "colorbar": {
              "outlinewidth": 0,
              "ticks": ""
             }
            },
            "type": "scattergeo"
           }
          ],
          "scattergl": [
           {
            "marker": {
             "colorbar": {
              "outlinewidth": 0,
              "ticks": ""
             }
            },
            "type": "scattergl"
           }
          ],
          "scattermapbox": [
           {
            "marker": {
             "colorbar": {
              "outlinewidth": 0,
              "ticks": ""
             }
            },
            "type": "scattermapbox"
           }
          ],
          "scatterpolar": [
           {
            "marker": {
             "colorbar": {
              "outlinewidth": 0,
              "ticks": ""
             }
            },
            "type": "scatterpolar"
           }
          ],
          "scatterpolargl": [
           {
            "marker": {
             "colorbar": {
              "outlinewidth": 0,
              "ticks": ""
             }
            },
            "type": "scatterpolargl"
           }
          ],
          "scatterternary": [
           {
            "marker": {
             "colorbar": {
              "outlinewidth": 0,
              "ticks": ""
             }
            },
            "type": "scatterternary"
           }
          ],
          "surface": [
           {
            "colorbar": {
             "outlinewidth": 0,
             "ticks": ""
            },
            "colorscale": [
             [
              0,
              "#0d0887"
             ],
             [
              0.1111111111111111,
              "#46039f"
             ],
             [
              0.2222222222222222,
              "#7201a8"
             ],
             [
              0.3333333333333333,
              "#9c179e"
             ],
             [
              0.4444444444444444,
              "#bd3786"
             ],
             [
              0.5555555555555556,
              "#d8576b"
             ],
             [
              0.6666666666666666,
              "#ed7953"
             ],
             [
              0.7777777777777778,
              "#fb9f3a"
             ],
             [
              0.8888888888888888,
              "#fdca26"
             ],
             [
              1,
              "#f0f921"
             ]
            ],
            "type": "surface"
           }
          ],
          "table": [
           {
            "cells": {
             "fill": {
              "color": "#EBF0F8"
             },
             "line": {
              "color": "white"
             }
            },
            "header": {
             "fill": {
              "color": "#C8D4E3"
             },
             "line": {
              "color": "white"
             }
            },
            "type": "table"
           }
          ]
         },
         "layout": {
          "annotationdefaults": {
           "arrowcolor": "#2a3f5f",
           "arrowhead": 0,
           "arrowwidth": 1
          },
          "autotypenumbers": "strict",
          "coloraxis": {
           "colorbar": {
            "outlinewidth": 0,
            "ticks": ""
           }
          },
          "colorscale": {
           "diverging": [
            [
             0,
             "#8e0152"
            ],
            [
             0.1,
             "#c51b7d"
            ],
            [
             0.2,
             "#de77ae"
            ],
            [
             0.3,
             "#f1b6da"
            ],
            [
             0.4,
             "#fde0ef"
            ],
            [
             0.5,
             "#f7f7f7"
            ],
            [
             0.6,
             "#e6f5d0"
            ],
            [
             0.7,
             "#b8e186"
            ],
            [
             0.8,
             "#7fbc41"
            ],
            [
             0.9,
             "#4d9221"
            ],
            [
             1,
             "#276419"
            ]
           ],
           "sequential": [
            [
             0,
             "#0d0887"
            ],
            [
             0.1111111111111111,
             "#46039f"
            ],
            [
             0.2222222222222222,
             "#7201a8"
            ],
            [
             0.3333333333333333,
             "#9c179e"
            ],
            [
             0.4444444444444444,
             "#bd3786"
            ],
            [
             0.5555555555555556,
             "#d8576b"
            ],
            [
             0.6666666666666666,
             "#ed7953"
            ],
            [
             0.7777777777777778,
             "#fb9f3a"
            ],
            [
             0.8888888888888888,
             "#fdca26"
            ],
            [
             1,
             "#f0f921"
            ]
           ],
           "sequentialminus": [
            [
             0,
             "#0d0887"
            ],
            [
             0.1111111111111111,
             "#46039f"
            ],
            [
             0.2222222222222222,
             "#7201a8"
            ],
            [
             0.3333333333333333,
             "#9c179e"
            ],
            [
             0.4444444444444444,
             "#bd3786"
            ],
            [
             0.5555555555555556,
             "#d8576b"
            ],
            [
             0.6666666666666666,
             "#ed7953"
            ],
            [
             0.7777777777777778,
             "#fb9f3a"
            ],
            [
             0.8888888888888888,
             "#fdca26"
            ],
            [
             1,
             "#f0f921"
            ]
           ]
          },
          "colorway": [
           "#636efa",
           "#EF553B",
           "#00cc96",
           "#ab63fa",
           "#FFA15A",
           "#19d3f3",
           "#FF6692",
           "#B6E880",
           "#FF97FF",
           "#FECB52"
          ],
          "font": {
           "color": "#2a3f5f"
          },
          "geo": {
           "bgcolor": "white",
           "lakecolor": "white",
           "landcolor": "#E5ECF6",
           "showlakes": true,
           "showland": true,
           "subunitcolor": "white"
          },
          "hoverlabel": {
           "align": "left"
          },
          "hovermode": "closest",
          "mapbox": {
           "style": "light"
          },
          "paper_bgcolor": "white",
          "plot_bgcolor": "#E5ECF6",
          "polar": {
           "angularaxis": {
            "gridcolor": "white",
            "linecolor": "white",
            "ticks": ""
           },
           "bgcolor": "#E5ECF6",
           "radialaxis": {
            "gridcolor": "white",
            "linecolor": "white",
            "ticks": ""
           }
          },
          "scene": {
           "xaxis": {
            "backgroundcolor": "#E5ECF6",
            "gridcolor": "white",
            "gridwidth": 2,
            "linecolor": "white",
            "showbackground": true,
            "ticks": "",
            "zerolinecolor": "white"
           },
           "yaxis": {
            "backgroundcolor": "#E5ECF6",
            "gridcolor": "white",
            "gridwidth": 2,
            "linecolor": "white",
            "showbackground": true,
            "ticks": "",
            "zerolinecolor": "white"
           },
           "zaxis": {
            "backgroundcolor": "#E5ECF6",
            "gridcolor": "white",
            "gridwidth": 2,
            "linecolor": "white",
            "showbackground": true,
            "ticks": "",
            "zerolinecolor": "white"
           }
          },
          "shapedefaults": {
           "line": {
            "color": "#2a3f5f"
           }
          },
          "ternary": {
           "aaxis": {
            "gridcolor": "white",
            "linecolor": "white",
            "ticks": ""
           },
           "baxis": {
            "gridcolor": "white",
            "linecolor": "white",
            "ticks": ""
           },
           "bgcolor": "#E5ECF6",
           "caxis": {
            "gridcolor": "white",
            "linecolor": "white",
            "ticks": ""
           }
          },
          "title": {
           "x": 0.05
          },
          "xaxis": {
           "automargin": true,
           "gridcolor": "white",
           "linecolor": "white",
           "ticks": "",
           "title": {
            "standoff": 15
           },
           "zerolinecolor": "white",
           "zerolinewidth": 2
          },
          "yaxis": {
           "automargin": true,
           "gridcolor": "white",
           "linecolor": "white",
           "ticks": "",
           "title": {
            "standoff": 15
           },
           "zerolinecolor": "white",
           "zerolinewidth": 2
          }
         }
        }
       }
      },
      "image/png": "[encoded data removed]",
      "text/html": [
       "<div>                            <div id=\"da108365-d6c7-49fb-8cee-e3a573c4f59d\" class=\"plotly-graph-div\" style=\"height:525px; width:100%;\"></div>            <script type=\"text/javascript\">                require([\"plotly\"], function(Plotly) {                    window.PLOTLYENV=window.PLOTLYENV || {};                                    if (document.getElementById(\"da108365-d6c7-49fb-8cee-e3a573c4f59d\")) {                    Plotly.newPlot(                        \"da108365-d6c7-49fb-8cee-e3a573c4f59d\",                        [{\"branchvalues\":\"total\",\"customdata\":[[\"Alle \\u00fcbrigen Todesursachen\",134.29496402877697],[\"Alle \\u00fcbrigen Todesursachen\",113.42494226327945],[\"Atmungsorgane\",52.45614035087719],[\"Atmungsorgane\",41.714285714285715],[\"Demenz\",99.72258064516129],[\"Demenz\",29.96551724137931],[\"Krebskrankheiten\",210.83493282149712],[\"Krebskrankheiten\",202.86335403726707],[\"Kreislaufsystem\",447.31115879828326],[\"Kreislaufsystem\",315.0942857142857],[\"Unf\\u00e4lle und Gewalteinwirkungen\",32.36206896551724],[\"Unf\\u00e4lle und Gewalteinwirkungen\",38.95744680851064],[\"Alle \\u00fcbrigen Todesursachen\",141.88584474885846],[\"Alle \\u00fcbrigen Todesursachen\",101.59895833333333],[\"Atmungsorgane\",29.613333333333333],[\"Atmungsorgane\",41.74418604651163],[\"Demenz\",84.5104895104895],[\"Demenz\",30.833333333333332],[\"Krebskrankheiten\",175.59375],[\"Krebskrankheiten\",227.25818882466282],[\"Kreislaufsystem\",483.0995024875622],[\"Kreislaufsystem\",293.6302521008403],[\"Unf\\u00e4lle und Gewalteinwirkungen\",29.784313725490197],[\"Unf\\u00e4lle und Gewalteinwirkungen\",34.587786259541986],[\"Alle \\u00fcbrigen Todesursachen\",130.28571428571428],[\"Alle \\u00fcbrigen Todesursachen\",98.41361256544502],[\"Atmungsorgane\",65.3],[\"Atmungsorgane\",50.64485981308411],[\"Demenz\",83.93055555555556],[\"Demenz\",31.50793650793651],[\"Krebskrankheiten\",173.30669546436286],[\"Krebskrankheiten\",200.8995983935743],[\"Kreislaufsystem\",469.6694825765575],[\"Kreislaufsystem\",290.5206847360913],[\"Unf\\u00e4lle und Gewalteinwirkungen\",32.05154639175258],[\"Unf\\u00e4lle und Gewalteinwirkungen\",39.74285714285714],[\"Alle \\u00fcbrigen Todesursachen\",113.93409742120343],[\"Alle \\u00fcbrigen Todesursachen\",91.9364161849711],[\"Atmungsorgane\",68.95890410958904],[\"Atmungsorgane\",53.11666666666667],[\"Demenz\",97.90123456790124],[\"Demenz\",32.07936507936508],[\"Krebskrankheiten\",172.05882352941177],[\"Krebskrankheiten\",220.68525896414343],[\"Kreislaufsystem\",471.18106139438083],[\"Kreislaufsystem\",281.54491899852724],[\"Unf\\u00e4lle und Gewalteinwirkungen\",32.54],[\"Unf\\u00e4lle und Gewalteinwirkungen\",35.52100840336134],[\"Alle \\u00fcbrigen Todesursachen\",130.17708333333334],[\"Alle \\u00fcbrigen Todesursachen\",101.24858757062147],[\"Atmungsorgane\",57.03305785123967],[\"Atmungsorgane\",47.1551724137931],[\"Demenz\",119.38674033149171],[\"Demenz\",35.6764705882353],[\"Krebskrankheiten\",174.35469107551486],[\"Krebskrankheiten\",196.19747899159663],[\"Kreislaufsystem\",508.18633540372673],[\"Kreislaufsystem\",260.346875],[\"Unf\\u00e4lle und Gewalteinwirkungen\",27.67391304347826],[\"Unf\\u00e4lle und Gewalteinwirkungen\",31.194690265486727],[\"Alle \\u00fcbrigen Todesursachen\",147.91162790697675],[\"Alle \\u00fcbrigen Todesursachen\",105.89583333333333],[\"Atmungsorgane\",38.68421052631579],[\"Atmungsorgane\",49.336283185840706],[\"Demenz\",121.08938547486034],[\"Demenz\",39.74666666666667],[\"Krebskrankheiten\",160.33663366336634],[\"Krebskrankheiten\",185.10138248847926],[\"Kreislaufsystem\",505.6424242424242],[\"Kreislaufsystem\",267.527950310559],[\"Unf\\u00e4lle und Gewalteinwirkungen\",40.40157480314961],[\"Unf\\u00e4lle und Gewalteinwirkungen\",35.22857142857143],[\"Alle \\u00fcbrigen Todesursachen\",180.46376811594203],[\"Alle \\u00fcbrigen Todesursachen\",128.0696629213483],[\"Atmungsorgane\",33.795180722891565],[\"Atmungsorgane\",31.674698795180724],[\"Demenz\",129.50704225352112],[\"Demenz\",31.491803278688526],[\"Krebskrankheiten\",162.06467661691542],[\"Krebskrankheiten\",185.72210065645515],[\"Kreislaufsystem\",448.85530921820305],[\"Kreislaufsystem\",227.52575488454707],[\"Unf\\u00e4lle und Gewalteinwirkungen\",31.018691588785046],[\"Unf\\u00e4lle und Gewalteinwirkungen\",30.9],[\"Alle \\u00fcbrigen Todesursachen\",152.63348416289594],[\"Alle \\u00fcbrigen Todesursachen\",100.91666666666667],[\"Atmungsorgane\",43.71111111111111],[\"Atmungsorgane\",41.870588235294115],[\"Demenz\",120.30653266331659],[\"Demenz\",45.09411764705882],[\"Krebskrankheiten\",158.045],[\"Krebskrankheiten\",170.65413533834587],[\"Kreislaufsystem\",437.88659793814435],[\"Kreislaufsystem\",219.21014492753622],[\"Unf\\u00e4lle und Gewalteinwirkungen\",37.95],[\"Unf\\u00e4lle und Gewalteinwirkungen\",31.611570247933884],[\"Alle \\u00fcbrigen Todesursachen\",160.7962577962578],[\"Alle \\u00fcbrigen Todesursachen\",120.93154034229829],[\"Atmungsorgane\",42.73626373626374],[\"Atmungsorgane\",40.714285714285715],[\"Demenz\",125.06217616580311],[\"Demenz\",26.962264150943398],[\"Krebskrankheiten\",140.41666666666666],[\"Krebskrankheiten\",196.21973094170403],[\"Kreislaufsystem\",453.6128266033254],[\"Kreislaufsystem\",242.76271186440678],[\"Unf\\u00e4lle und Gewalteinwirkungen\",38.8448275862069],[\"Unf\\u00e4lle und Gewalteinwirkungen\",28.27433628318584],[\"Alle \\u00fcbrigen Todesursachen\",148.58186397984886],[\"Alle \\u00fcbrigen Todesursachen\",105.14673913043478],[\"Atmungsorgane\",42.134020618556704],[\"Atmungsorgane\",37.344086021505376],[\"Demenz\",127.77227722772277],[\"Demenz\",34.93939393939394],[\"Krebskrankheiten\",173.12254901960785],[\"Krebskrankheiten\",165.0765306122449],[\"Kreislaufsystem\",418.5110565110565],[\"Kreislaufsystem\",210.73180076628353],[\"Unf\\u00e4lle und Gewalteinwirkungen\",32.69072164948454],[\"Unf\\u00e4lle und Gewalteinwirkungen\",30.571428571428573],[\"Alle \\u00fcbrigen Todesursachen\",145.76923076923077],[\"Alle \\u00fcbrigen Todesursachen\",100.74142480211081],[\"Atmungsorgane\",40.01123595505618],[\"Atmungsorgane\",35.07142857142857],[\"Demenz\",131.19213973799125],[\"Demenz\",42.2289156626506],[\"Krebskrankheiten\",162.70408163265307],[\"Krebskrankheiten\",188.36674259681092],[\"Kreislaufsystem\",410.5972789115646],[\"Kreislaufsystem\",200.8188976377953],[\"Unf\\u00e4lle und Gewalteinwirkungen\",31.127659574468087],[\"Unf\\u00e4lle und Gewalteinwirkungen\",30.00854700854701],[\"Alle \\u00fcbrigen Todesursachen\",138.55154639175257],[\"Alle \\u00fcbrigen Todesursachen\",117.62626262626263],[\"Atmungsorgane\",41.37362637362637],[\"Atmungsorgane\",35.04938271604938],[\"Demenz\",148.81165919282512],[\"Demenz\",42.5609756097561],[\"Krebskrankheiten\",156.56883116883117],[\"Krebskrankheiten\",164.66240409207163],[\"Kreislaufsystem\",389.91977077363896],[\"Kreislaufsystem\",196.05263157894737],[\"Unf\\u00e4lle und Gewalteinwirkungen\",46.916666666666664],[\"Unf\\u00e4lle und Gewalteinwirkungen\",27.38888888888889],[\"Alle \\u00fcbrigen Todesursachen\",140.1077694235589],[\"Alle \\u00fcbrigen Todesursachen\",99.25],[\"Atmungsorgane\",42.06818181818182],[\"Atmungsorgane\",39.32258064516129],[\"Demenz\",138.37556561085972],[\"Demenz\",48.265306122448976],[\"Krebskrankheiten\",157.28205128205127],[\"Krebskrankheiten\",159.36021505376345],[\"Kreislaufsystem\",426.02046035805625],[\"Kreislaufsystem\",195.0734693877551],[\"Unf\\u00e4lle und Gewalteinwirkungen\",37.0],[\"Unf\\u00e4lle und Gewalteinwirkungen\",28.276190476190475],[\"Alle \\u00fcbrigen Todesursachen\",125.65142857142857],[\"Alle \\u00fcbrigen Todesursachen\",94.7680250783699],[\"Atmungsorgane\",46.29545454545455],[\"Atmungsorgane\",38.67816091954023],[\"Demenz\",161.80672268907563],[\"Demenz\",53.857142857142854],[\"Krebskrankheiten\",149.11702127659575],[\"Krebskrankheiten\",154.8117048346056],[\"Kreislaufsystem\",400.503355704698],[\"Kreislaufsystem\",205.7421875],[\"Unf\\u00e4lle und Gewalteinwirkungen\",35.067796610169495],[\"Unf\\u00e4lle und Gewalteinwirkungen\",33.97709923664122],[\"Alle \\u00fcbrigen Todesursachen\",151.91052631578947],[\"Alle \\u00fcbrigen Todesursachen\",101.50898203592814],[\"Atmungsorgane\",53.2962962962963],[\"Atmungsorgane\",32.86666666666667],[\"Demenz\",181.4516129032258],[\"Demenz\",41.30952380952381],[\"Krebskrankheiten\",160.85677749360613],[\"Krebskrankheiten\",153.53866666666667],[\"Kreislaufsystem\",389.6330532212885],[\"Kreislaufsystem\",185.07627118644066],[\"Unf\\u00e4lle und Gewalteinwirkungen\",30.348837209302324],[\"Unf\\u00e4lle und Gewalteinwirkungen\",32.109243697478995],[\"Alle \\u00fcbrigen Todesursachen\",144.84803921568627],[\"Alle \\u00fcbrigen Todesursachen\",112.48571428571428],[\"Atmungsorgane\",37.62921348314607],[\"Atmungsorgane\",38.8494623655914],[\"Demenz\",167.63468634686348],[\"Demenz\",57.98989898989899],[\"Krebskrankheiten\",128.0581395348837],[\"Krebskrankheiten\",168.8034398034398],[\"Kreislaufsystem\",348.17808219178085],[\"Kreislaufsystem\",192.49478079331942],[\"Unf\\u00e4lle und Gewalteinwirkungen\",31.4],[\"Unf\\u00e4lle und Gewalteinwirkungen\",28.796296296296298],[\"Alle \\u00fcbrigen Todesursachen\",173.0686498855835],[\"Alle \\u00fcbrigen Todesursachen\",121.36411609498681],[\"Atmungsorgane\",39.617283950617285],[\"Atmungsorgane\",39.12765957446808],[\"Demenz\",161.14901960784314],[\"Demenz\",54.020833333333336],[\"Krebskrankheiten\",139.89005235602093],[\"Krebskrankheiten\",155.92950391644908],[\"Kreislaufsystem\",338.93011647254576],[\"Kreislaufsystem\",161.48730964467006],[\"Unf\\u00e4lle und Gewalteinwirkungen\",30.456521739130434],[\"Unf\\u00e4lle und Gewalteinwirkungen\",24.520833333333332],[\"Alle \\u00fcbrigen Todesursachen\",144.6950904392765],[\"Alle \\u00fcbrigen Todesursachen\",98.73040752351098],[\"Atmungsorgane\",37.53488372093023],[\"Atmungsorgane\",32.24050632911393],[\"Demenz\",190.95604395604394],[\"Demenz\",54.663366336633665],[\"Krebskrankheiten\",144.0918918918919],[\"Krebskrankheiten\",159.8972431077694],[\"Kreislaufsystem\",386.863173216885],[\"Kreislaufsystem\",166.8568129330254],[\"Unf\\u00e4lle und Gewalteinwirkungen\",24.076923076923077],[\"Unf\\u00e4lle und Gewalteinwirkungen\",28.74576271186441],[\"Alle \\u00fcbrigen Todesursachen\",163.8],[\"Alle \\u00fcbrigen Todesursachen\",115.49849849849849],[\"Atmungsorgane\",41.795698924731184],[\"Atmungsorgane\",34.25581395348837],[\"Demenz\",231.70987654320987],[\"Demenz\",75.0],[\"Krebskrankheiten\",153.07901234567902],[\"Krebskrankheiten\",153.3549160671463],[\"Kreislaufsystem\",367.83024691358025],[\"Kreislaufsystem\",179.30697674418604],[\"Unf\\u00e4lle und Gewalteinwirkungen\",46.30275229357798],[\"Unf\\u00e4lle und Gewalteinwirkungen\",23.442105263157895],[\"Alle \\u00fcbrigen Todesursachen\",177.91211401425178],[\"Alle \\u00fcbrigen Todesursachen\",115.2406876790831],[\"Atmungsorgane\",41.166666666666664],[\"Atmungsorgane\",30.83783783783784],[\"Demenz\",182.65441176470588],[\"Demenz\",64.21311475409836],[\"Krebskrankheiten\",150.63387978142077],[\"Krebskrankheiten\",164.64077669902912],[\"Kreislaufsystem\",374.015923566879],[\"Kreislaufsystem\",157.73891625615764],[\"Unf\\u00e4lle und Gewalteinwirkungen\",41.270833333333336],[\"Unf\\u00e4lle und Gewalteinwirkungen\",26.28846153846154],[\"Alle \\u00fcbrigen Todesursachen\",166.00254452926208],[\"Alle \\u00fcbrigen Todesursachen\",112.45352112676056],[\"Atmungsorgane\",53.45217391304348],[\"Atmungsorgane\",40.48936170212766],[\"Demenz\",196.85365853658536],[\"Demenz\",59.113207547169814],[\"Krebskrankheiten\",150.66326530612244],[\"Krebskrankheiten\",165.2907268170426],[\"Kreislaufsystem\",365.7164179104478],[\"Kreislaufsystem\",189.34285714285716],[\"Unf\\u00e4lle und Gewalteinwirkungen\",33.41379310344828],[\"Unf\\u00e4lle und Gewalteinwirkungen\",28.42105263157895],[\"Alle \\u00fcbrigen Todesursachen\",144.3314121037464],[\"Alle \\u00fcbrigen Todesursachen\",104.37910447761195],[\"Atmungsorgane\",35.717948717948715],[\"Atmungsorgane\",29.7027027027027],[\"Demenz\",178.9185185185185],[\"Demenz\",56.34020618556701],[\"Krebskrankheiten\",151.2406015037594],[\"Krebskrankheiten\",152.32994923857868],[\"Kreislaufsystem\",326.26545454545453],[\"Kreislaufsystem\",176.48717948717947],[\"Unf\\u00e4lle und Gewalteinwirkungen\",32.01176470588236],[\"Unf\\u00e4lle und Gewalteinwirkungen\",31.916666666666668],[\"Alle \\u00fcbrigen Todesursachen\",156.76338028169013],[\"Alle \\u00fcbrigen Todesursachen\",105.59130434782608],[\"Atmungsorgane\",48.89473684210526],[\"Atmungsorgane\",38.18279569892473],[\"Demenz\",185.0514705882353],[\"Demenz\",53.333333333333336],[\"Krebskrankheiten\",136.73888888888888],[\"Krebskrankheiten\",164.34643734643734],[\"Kreislaufsystem\",332.54816112084063],[\"Kreislaufsystem\",190.68253968253967],[\"Unf\\u00e4lle und Gewalteinwirkungen\",42.381443298969074],[\"Unf\\u00e4lle und Gewalteinwirkungen\",32.9375],[\"Alle \\u00fcbrigen Todesursachen\",193.44700460829492],[\"Alle \\u00fcbrigen Todesursachen\",106.19277108433735],[\"Atmungsorgane\",49.71153846153846],[\"Atmungsorgane\",38.03448275862069],[\"Demenz\",195.84912280701755],[\"Demenz\",57.32727272727273],[\"Krebskrankheiten\",135.4715909090909],[\"Krebskrankheiten\",183.6078431372549],[\"Kreislaufsystem\",300.3220338983051],[\"Kreislaufsystem\",158.2287917737789],[\"Unf\\u00e4lle und Gewalteinwirkungen\",44.28712871287129],[\"Unf\\u00e4lle und Gewalteinwirkungen\",25.568627450980394],[\"Alle \\u00fcbrigen Todesursachen\",154.89080459770116],[\"Alle \\u00fcbrigen Todesursachen\",124.95428571428572],[\"Atmungsorgane\",51.214285714285715],[\"Atmungsorgane\",38.369565217391305],[\"Demenz\",200.25342465753425],[\"Demenz\",61.30769230769231],[\"Krebskrankheiten\",121.99428571428571],[\"Krebskrankheiten\",134.4376811594203],[\"Kreislaufsystem\",328.6216216216216],[\"Kreislaufsystem\",158.22371967654988],[\"Unf\\u00e4lle und Gewalteinwirkungen\",37.24242424242424],[\"Unf\\u00e4lle und Gewalteinwirkungen\",32.095238095238095],[\"Alle \\u00fcbrigen Todesursachen\",151.64068497195157],[\"Alle \\u00fcbrigen Todesursachen\",108.38244375827084],[\"Atmungsorgane\",47.031797798613944],[\"Atmungsorgane\",39.777875329236174],[\"Demenz\",158.9774383894481],[\"Demenz\",49.229799159271366],[\"Krebskrankheiten\",157.558616529258],[\"Krebskrankheiten\",177.16952687968143],[\"Kreislaufsystem\",416.4666525513445],[\"Kreislaufsystem\",222.1217183770883],[\"Unf\\u00e4lle und Gewalteinwirkungen\",35.55826771653543],[\"Unf\\u00e4lle und Gewalteinwirkungen\",31.244134648078884],[\"(?)\",243.1463198938779],[\"(?)\",150.74722250025022],[\"(?)\",201.9880514500992]],\"domain\":{\"x\":[0.0,1.0],\"y\":[0.0,1.0]},\"hovertemplate\":\"labels=%{label}<br>AnzSterWir_sum=%{value}<br>parent=%{parent}<br>id=%{id}<br>TodesursacheSpezLang=%{customdata[0]}<br>AnzSterWir=%{color}<extra></extra>\",\"ids\":[\"Todesursachen nach Geschlecht/Frauen/Alle \\u00fcbrigen Todesursachen/1995-01-01\",\"Todesursachen nach Geschlecht/M\\u00e4nner/Alle \\u00fcbrigen Todesursachen/1995-01-01\",\"Todesursachen nach Geschlecht/Frauen/Atmungsorgane/1995-01-01\",\"Todesursachen nach Geschlecht/M\\u00e4nner/Atmungsorgane/1995-01-01\",\"Todesursachen nach Geschlecht/Frauen/Demenz/1995-01-01\",\"Todesursachen nach Geschlecht/M\\u00e4nner/Demenz/1995-01-01\",\"Todesursachen nach Geschlecht/Frauen/Krebskrankheiten/1995-01-01\",\"Todesursachen nach Geschlecht/M\\u00e4nner/Krebskrankheiten/1995-01-01\",\"Todesursachen nach Geschlecht/Frauen/Kreislaufsystem/1995-01-01\",\"Todesursachen nach Geschlecht/M\\u00e4nner/Kreislaufsystem/1995-01-01\",\"Todesursachen nach Geschlecht/Frauen/Unf\\u00e4lle und Gewalteinwirkungen/1995-01-01\",\"Todesursachen nach Geschlecht/M\\u00e4nner/Unf\\u00e4lle und Gewalteinwirkungen/1995-01-01\",\"Todesursachen nach Geschlecht/Frauen/Alle \\u00fcbrigen Todesursachen/1996-01-01\",\"Todesursachen nach Geschlecht/M\\u00e4nner/Alle \\u00fcbrigen Todesursachen/1996-01-01\",\"Todesursachen nach Geschlecht/Frauen/Atmungsorgane/1996-01-01\",\"Todesursachen nach Geschlecht/M\\u00e4nner/Atmungsorgane/1996-01-01\",\"Todesursachen nach Geschlecht/Frauen/Demenz/1996-01-01\",\"Todesursachen nach Geschlecht/M\\u00e4nner/Demenz/1996-01-01\",\"Todesursachen nach Geschlecht/Frauen/Krebskrankheiten/1996-01-01\",\"Todesursachen nach Geschlecht/M\\u00e4nner/Krebskrankheiten/1996-01-01\",\"Todesursachen nach Geschlecht/Frauen/Kreislaufsystem/1996-01-01\",\"Todesursachen nach Geschlecht/M\\u00e4nner/Kreislaufsystem/1996-01-01\",\"Todesursachen nach Geschlecht/Frauen/Unf\\u00e4lle und Gewalteinwirkungen/1996-01-01\",\"Todesursachen nach Geschlecht/M\\u00e4nner/Unf\\u00e4lle und Gewalteinwirkungen/1996-01-01\",\"Todesursachen nach Geschlecht/Frauen/Alle \\u00fcbrigen Todesursachen/1997-01-01\",\"Todesursachen nach Geschlecht/M\\u00e4nner/Alle \\u00fcbrigen Todesursachen/1997-01-01\",\"Todesursachen nach Geschlecht/Frauen/Atmungsorgane/1997-01-01\",\"Todesursachen nach Geschlecht/M\\u00e4nner/Atmungsorgane/1997-01-01\",\"Todesursachen nach Geschlecht/Frauen/Demenz/1997-01-01\",\"Todesursachen nach Geschlecht/M\\u00e4nner/Demenz/1997-01-01\",\"Todesursachen nach Geschlecht/Frauen/Krebskrankheiten/1997-01-01\",\"Todesursachen nach Geschlecht/M\\u00e4nner/Krebskrankheiten/1997-01-01\",\"Todesursachen nach Geschlecht/Frauen/Kreislaufsystem/1997-01-01\",\"Todesursachen nach Geschlecht/M\\u00e4nner/Kreislaufsystem/1997-01-01\",\"Todesursachen nach Geschlecht/Frauen/Unf\\u00e4lle und Gewalteinwirkungen/1997-01-01\",\"Todesursachen nach Geschlecht/M\\u00e4nner/Unf\\u00e4lle und Gewalteinwirkungen/1997-01-01\",\"Todesursachen nach Geschlecht/Frauen/Alle \\u00fcbrigen Todesursachen/1998-01-01\",\"Todesursachen nach Geschlecht/M\\u00e4nner/Alle \\u00fcbrigen Todesursachen/1998-01-01\",\"Todesursachen nach Geschlecht/Frauen/Atmungsorgane/1998-01-01\",\"Todesursachen nach Geschlecht/M\\u00e4nner/Atmungsorgane/1998-01-01\",\"Todesursachen nach Geschlecht/Frauen/Demenz/1998-01-01\",\"Todesursachen nach Geschlecht/M\\u00e4nner/Demenz/1998-01-01\",\"Todesursachen nach Geschlecht/Frauen/Krebskrankheiten/1998-01-01\",\"Todesursachen nach Geschlecht/M\\u00e4nner/Krebskrankheiten/1998-01-01\",\"Todesursachen nach Geschlecht/Frauen/Kreislaufsystem/1998-01-01\",\"Todesursachen nach Geschlecht/M\\u00e4nner/Kreislaufsystem/1998-01-01\",\"Todesursachen nach Geschlecht/Frauen/Unf\\u00e4lle und Gewalteinwirkungen/1998-01-01\",\"Todesursachen nach Geschlecht/M\\u00e4nner/Unf\\u00e4lle und Gewalteinwirkungen/1998-01-01\",\"Todesursachen nach Geschlecht/Frauen/Alle \\u00fcbrigen Todesursachen/1999-01-01\",\"Todesursachen nach Geschlecht/M\\u00e4nner/Alle \\u00fcbrigen Todesursachen/1999-01-01\",\"Todesursachen nach Geschlecht/Frauen/Atmungsorgane/1999-01-01\",\"Todesursachen nach Geschlecht/M\\u00e4nner/Atmungsorgane/1999-01-01\",\"Todesursachen nach Geschlecht/Frauen/Demenz/1999-01-01\",\"Todesursachen nach Geschlecht/M\\u00e4nner/Demenz/1999-01-01\",\"Todesursachen nach Geschlecht/Frauen/Krebskrankheiten/1999-01-01\",\"Todesursachen nach Geschlecht/M\\u00e4nner/Krebskrankheiten/1999-01-01\",\"Todesursachen nach Geschlecht/Frauen/Kreislaufsystem/1999-01-01\",\"Todesursachen nach Geschlecht/M\\u00e4nner/Kreislaufsystem/1999-01-01\",\"Todesursachen nach Geschlecht/Frauen/Unf\\u00e4lle und Gewalteinwirkungen/1999-01-01\",\"Todesursachen nach Geschlecht/M\\u00e4nner/Unf\\u00e4lle und Gewalteinwirkungen/1999-01-01\",\"Todesursachen nach Geschlecht/Frauen/Alle \\u00fcbrigen Todesursachen/2000-01-01\",\"Todesursachen nach Geschlecht/M\\u00e4nner/Alle \\u00fcbrigen Todesursachen/2000-01-01\",\"Todesursachen nach Geschlecht/Frauen/Atmungsorgane/2000-01-01\",\"Todesursachen nach Geschlecht/M\\u00e4nner/Atmungsorgane/2000-01-01\",\"Todesursachen nach Geschlecht/Frauen/Demenz/2000-01-01\",\"Todesursachen nach Geschlecht/M\\u00e4nner/Demenz/2000-01-01\",\"Todesursachen nach Geschlecht/Frauen/Krebskrankheiten/2000-01-01\",\"Todesursachen nach Geschlecht/M\\u00e4nner/Krebskrankheiten/2000-01-01\",\"Todesursachen nach Geschlecht/Frauen/Kreislaufsystem/2000-01-01\",\"Todesursachen nach Geschlecht/M\\u00e4nner/Kreislaufsystem/2000-01-01\",\"Todesursachen nach Geschlecht/Frauen/Unf\\u00e4lle und Gewalteinwirkungen/2000-01-01\",\"Todesursachen nach Geschlecht/M\\u00e4nner/Unf\\u00e4lle und Gewalteinwirkungen/2000-01-01\",\"Todesursachen nach Geschlecht/Frauen/Alle \\u00fcbrigen Todesursachen/2001-01-01\",\"Todesursachen nach Geschlecht/M\\u00e4nner/Alle \\u00fcbrigen Todesursachen/2001-01-01\",\"Todesursachen nach Geschlecht/Frauen/Atmungsorgane/2001-01-01\",\"Todesursachen nach Geschlecht/M\\u00e4nner/Atmungsorgane/2001-01-01\",\"Todesursachen nach Geschlecht/Frauen/Demenz/2001-01-01\",\"Todesursachen nach Geschlecht/M\\u00e4nner/Demenz/2001-01-01\",\"Todesursachen nach Geschlecht/Frauen/Krebskrankheiten/2001-01-01\",\"Todesursachen nach Geschlecht/M\\u00e4nner/Krebskrankheiten/2001-01-01\",\"Todesursachen nach Geschlecht/Frauen/Kreislaufsystem/2001-01-01\",\"Todesursachen nach Geschlecht/M\\u00e4nner/Kreislaufsystem/2001-01-01\",\"Todesursachen nach Geschlecht/Frauen/Unf\\u00e4lle und Gewalteinwirkungen/2001-01-01\",\"Todesursachen nach Geschlecht/M\\u00e4nner/Unf\\u00e4lle und Gewalteinwirkungen/2001-01-01\",\"Todesursachen nach Geschlecht/Frauen/Alle \\u00fcbrigen Todesursachen/2002-01-01\",\"Todesursachen nach Geschlecht/M\\u00e4nner/Alle \\u00fcbrigen Todesursachen/2002-01-01\",\"Todesursachen nach Geschlecht/Frauen/Atmungsorgane/2002-01-01\",\"Todesursachen nach Geschlecht/M\\u00e4nner/Atmungsorgane/2002-01-01\",\"Todesursachen nach Geschlecht/Frauen/Demenz/2002-01-01\",\"Todesursachen nach Geschlecht/M\\u00e4nner/Demenz/2002-01-01\",\"Todesursachen nach Geschlecht/Frauen/Krebskrankheiten/2002-01-01\",\"Todesursachen nach Geschlecht/M\\u00e4nner/Krebskrankheiten/2002-01-01\",\"Todesursachen nach Geschlecht/Frauen/Kreislaufsystem/2002-01-01\",\"Todesursachen nach Geschlecht/M\\u00e4nner/Kreislaufsystem/2002-01-01\",\"Todesursachen nach Geschlecht/Frauen/Unf\\u00e4lle und Gewalteinwirkungen/2002-01-01\",\"Todesursachen nach Geschlecht/M\\u00e4nner/Unf\\u00e4lle und Gewalteinwirkungen/2002-01-01\",\"Todesursachen nach Geschlecht/Frauen/Alle \\u00fcbrigen Todesursachen/2003-01-01\",\"Todesursachen nach Geschlecht/M\\u00e4nner/Alle \\u00fcbrigen Todesursachen/2003-01-01\",\"Todesursachen nach Geschlecht/Frauen/Atmungsorgane/2003-01-01\",\"Todesursachen nach Geschlecht/M\\u00e4nner/Atmungsorgane/2003-01-01\",\"Todesursachen nach Geschlecht/Frauen/Demenz/2003-01-01\",\"Todesursachen nach Geschlecht/M\\u00e4nner/Demenz/2003-01-01\",\"Todesursachen nach Geschlecht/Frauen/Krebskrankheiten/2003-01-01\",\"Todesursachen nach Geschlecht/M\\u00e4nner/Krebskrankheiten/2003-01-01\",\"Todesursachen nach Geschlecht/Frauen/Kreislaufsystem/2003-01-01\",\"Todesursachen nach Geschlecht/M\\u00e4nner/Kreislaufsystem/2003-01-01\",\"Todesursachen nach Geschlecht/Frauen/Unf\\u00e4lle und Gewalteinwirkungen/2003-01-01\",\"Todesursachen nach Geschlecht/M\\u00e4nner/Unf\\u00e4lle und Gewalteinwirkungen/2003-01-01\",\"Todesursachen nach Geschlecht/Frauen/Alle \\u00fcbrigen Todesursachen/2004-01-01\",\"Todesursachen nach Geschlecht/M\\u00e4nner/Alle \\u00fcbrigen Todesursachen/2004-01-01\",\"Todesursachen nach Geschlecht/Frauen/Atmungsorgane/2004-01-01\",\"Todesursachen nach Geschlecht/M\\u00e4nner/Atmungsorgane/2004-01-01\",\"Todesursachen nach Geschlecht/Frauen/Demenz/2004-01-01\",\"Todesursachen nach Geschlecht/M\\u00e4nner/Demenz/2004-01-01\",\"Todesursachen nach Geschlecht/Frauen/Krebskrankheiten/2004-01-01\",\"Todesursachen nach Geschlecht/M\\u00e4nner/Krebskrankheiten/2004-01-01\",\"Todesursachen nach Geschlecht/Frauen/Kreislaufsystem/2004-01-01\",\"Todesursachen nach Geschlecht/M\\u00e4nner/Kreislaufsystem/2004-01-01\",\"Todesursachen nach Geschlecht/Frauen/Unf\\u00e4lle und Gewalteinwirkungen/2004-01-01\",\"Todesursachen nach Geschlecht/M\\u00e4nner/Unf\\u00e4lle und Gewalteinwirkungen/2004-01-01\",\"Todesursachen nach Geschlecht/Frauen/Alle \\u00fcbrigen Todesursachen/2005-01-01\",\"Todesursachen nach Geschlecht/M\\u00e4nner/Alle \\u00fcbrigen Todesursachen/2005-01-01\",\"Todesursachen nach Geschlecht/Frauen/Atmungsorgane/2005-01-01\",\"Todesursachen nach Geschlecht/M\\u00e4nner/Atmungsorgane/2005-01-01\",\"Todesursachen nach Geschlecht/Frauen/Demenz/2005-01-01\",\"Todesursachen nach Geschlecht/M\\u00e4nner/Demenz/2005-01-01\",\"Todesursachen nach Geschlecht/Frauen/Krebskrankheiten/2005-01-01\",\"Todesursachen nach Geschlecht/M\\u00e4nner/Krebskrankheiten/2005-01-01\",\"Todesursachen nach Geschlecht/Frauen/Kreislaufsystem/2005-01-01\",\"Todesursachen nach Geschlecht/M\\u00e4nner/Kreislaufsystem/2005-01-01\",\"Todesursachen nach Geschlecht/Frauen/Unf\\u00e4lle und Gewalteinwirkungen/2005-01-01\",\"Todesursachen nach Geschlecht/M\\u00e4nner/Unf\\u00e4lle und Gewalteinwirkungen/2005-01-01\",\"Todesursachen nach Geschlecht/Frauen/Alle \\u00fcbrigen Todesursachen/2006-01-01\",\"Todesursachen nach Geschlecht/M\\u00e4nner/Alle \\u00fcbrigen Todesursachen/2006-01-01\",\"Todesursachen nach Geschlecht/Frauen/Atmungsorgane/2006-01-01\",\"Todesursachen nach Geschlecht/M\\u00e4nner/Atmungsorgane/2006-01-01\",\"Todesursachen nach Geschlecht/Frauen/Demenz/2006-01-01\",\"Todesursachen nach Geschlecht/M\\u00e4nner/Demenz/2006-01-01\",\"Todesursachen nach Geschlecht/Frauen/Krebskrankheiten/2006-01-01\",\"Todesursachen nach Geschlecht/M\\u00e4nner/Krebskrankheiten/2006-01-01\",\"Todesursachen nach Geschlecht/Frauen/Kreislaufsystem/2006-01-01\",\"Todesursachen nach Geschlecht/M\\u00e4nner/Kreislaufsystem/2006-01-01\",\"Todesursachen nach Geschlecht/Frauen/Unf\\u00e4lle und Gewalteinwirkungen/2006-01-01\",\"Todesursachen nach Geschlecht/M\\u00e4nner/Unf\\u00e4lle und Gewalteinwirkungen/2006-01-01\",\"Todesursachen nach Geschlecht/Frauen/Alle \\u00fcbrigen Todesursachen/2007-01-01\",\"Todesursachen nach Geschlecht/M\\u00e4nner/Alle \\u00fcbrigen Todesursachen/2007-01-01\",\"Todesursachen nach Geschlecht/Frauen/Atmungsorgane/2007-01-01\",\"Todesursachen nach Geschlecht/M\\u00e4nner/Atmungsorgane/2007-01-01\",\"Todesursachen nach Geschlecht/Frauen/Demenz/2007-01-01\",\"Todesursachen nach Geschlecht/M\\u00e4nner/Demenz/2007-01-01\",\"Todesursachen nach Geschlecht/Frauen/Krebskrankheiten/2007-01-01\",\"Todesursachen nach Geschlecht/M\\u00e4nner/Krebskrankheiten/2007-01-01\",\"Todesursachen nach Geschlecht/Frauen/Kreislaufsystem/2007-01-01\",\"Todesursachen nach Geschlecht/M\\u00e4nner/Kreislaufsystem/2007-01-01\",\"Todesursachen nach Geschlecht/Frauen/Unf\\u00e4lle und Gewalteinwirkungen/2007-01-01\",\"Todesursachen nach Geschlecht/M\\u00e4nner/Unf\\u00e4lle und Gewalteinwirkungen/2007-01-01\",\"Todesursachen nach Geschlecht/Frauen/Alle \\u00fcbrigen Todesursachen/2008-01-01\",\"Todesursachen nach Geschlecht/M\\u00e4nner/Alle \\u00fcbrigen Todesursachen/2008-01-01\",\"Todesursachen nach Geschlecht/Frauen/Atmungsorgane/2008-01-01\",\"Todesursachen nach Geschlecht/M\\u00e4nner/Atmungsorgane/2008-01-01\",\"Todesursachen nach Geschlecht/Frauen/Demenz/2008-01-01\",\"Todesursachen nach Geschlecht/M\\u00e4nner/Demenz/2008-01-01\",\"Todesursachen nach Geschlecht/Frauen/Krebskrankheiten/2008-01-01\",\"Todesursachen nach Geschlecht/M\\u00e4nner/Krebskrankheiten/2008-01-01\",\"Todesursachen nach Geschlecht/Frauen/Kreislaufsystem/2008-01-01\",\"Todesursachen nach Geschlecht/M\\u00e4nner/Kreislaufsystem/2008-01-01\",\"Todesursachen nach Geschlecht/Frauen/Unf\\u00e4lle und Gewalteinwirkungen/2008-01-01\",\"Todesursachen nach Geschlecht/M\\u00e4nner/Unf\\u00e4lle und Gewalteinwirkungen/2008-01-01\",\"Todesursachen nach Geschlecht/Frauen/Alle \\u00fcbrigen Todesursachen/2009-01-01\",\"Todesursachen nach Geschlecht/M\\u00e4nner/Alle \\u00fcbrigen Todesursachen/2009-01-01\",\"Todesursachen nach Geschlecht/Frauen/Atmungsorgane/2009-01-01\",\"Todesursachen nach Geschlecht/M\\u00e4nner/Atmungsorgane/2009-01-01\",\"Todesursachen nach Geschlecht/Frauen/Demenz/2009-01-01\",\"Todesursachen nach Geschlecht/M\\u00e4nner/Demenz/2009-01-01\",\"Todesursachen nach Geschlecht/Frauen/Krebskrankheiten/2009-01-01\",\"Todesursachen nach Geschlecht/M\\u00e4nner/Krebskrankheiten/2009-01-01\",\"Todesursachen nach Geschlecht/Frauen/Kreislaufsystem/2009-01-01\",\"Todesursachen nach Geschlecht/M\\u00e4nner/Kreislaufsystem/2009-01-01\",\"Todesursachen nach Geschlecht/Frauen/Unf\\u00e4lle und Gewalteinwirkungen/2009-01-01\",\"Todesursachen nach Geschlecht/M\\u00e4nner/Unf\\u00e4lle und Gewalteinwirkungen/2009-01-01\",\"Todesursachen nach Geschlecht/Frauen/Alle \\u00fcbrigen Todesursachen/2010-01-01\",\"Todesursachen nach Geschlecht/M\\u00e4nner/Alle \\u00fcbrigen Todesursachen/2010-01-01\",\"Todesursachen nach Geschlecht/Frauen/Atmungsorgane/2010-01-01\",\"Todesursachen nach Geschlecht/M\\u00e4nner/Atmungsorgane/2010-01-01\",\"Todesursachen nach Geschlecht/Frauen/Demenz/2010-01-01\",\"Todesursachen nach Geschlecht/M\\u00e4nner/Demenz/2010-01-01\",\"Todesursachen nach Geschlecht/Frauen/Krebskrankheiten/2010-01-01\",\"Todesursachen nach Geschlecht/M\\u00e4nner/Krebskrankheiten/2010-01-01\",\"Todesursachen nach Geschlecht/Frauen/Kreislaufsystem/2010-01-01\",\"Todesursachen nach Geschlecht/M\\u00e4nner/Kreislaufsystem/2010-01-01\",\"Todesursachen nach Geschlecht/Frauen/Unf\\u00e4lle und Gewalteinwirkungen/2010-01-01\",\"Todesursachen nach Geschlecht/M\\u00e4nner/Unf\\u00e4lle und Gewalteinwirkungen/2010-01-01\",\"Todesursachen nach Geschlecht/Frauen/Alle \\u00fcbrigen Todesursachen/2011-01-01\",\"Todesursachen nach Geschlecht/M\\u00e4nner/Alle \\u00fcbrigen Todesursachen/2011-01-01\",\"Todesursachen nach Geschlecht/Frauen/Atmungsorgane/2011-01-01\",\"Todesursachen nach Geschlecht/M\\u00e4nner/Atmungsorgane/2011-01-01\",\"Todesursachen nach Geschlecht/Frauen/Demenz/2011-01-01\",\"Todesursachen nach Geschlecht/M\\u00e4nner/Demenz/2011-01-01\",\"Todesursachen nach Geschlecht/Frauen/Krebskrankheiten/2011-01-01\",\"Todesursachen nach Geschlecht/M\\u00e4nner/Krebskrankheiten/2011-01-01\",\"Todesursachen nach Geschlecht/Frauen/Kreislaufsystem/2011-01-01\",\"Todesursachen nach Geschlecht/M\\u00e4nner/Kreislaufsystem/2011-01-01\",\"Todesursachen nach Geschlecht/Frauen/Unf\\u00e4lle und Gewalteinwirkungen/2011-01-01\",\"Todesursachen nach Geschlecht/M\\u00e4nner/Unf\\u00e4lle und Gewalteinwirkungen/2011-01-01\",\"Todesursachen nach Geschlecht/Frauen/Alle \\u00fcbrigen Todesursachen/2012-01-01\",\"Todesursachen nach Geschlecht/M\\u00e4nner/Alle \\u00fcbrigen Todesursachen/2012-01-01\",\"Todesursachen nach Geschlecht/Frauen/Atmungsorgane/2012-01-01\",\"Todesursachen nach Geschlecht/M\\u00e4nner/Atmungsorgane/2012-01-01\",\"Todesursachen nach Geschlecht/Frauen/Demenz/2012-01-01\",\"Todesursachen nach Geschlecht/M\\u00e4nner/Demenz/2012-01-01\",\"Todesursachen nach Geschlecht/Frauen/Krebskrankheiten/2012-01-01\",\"Todesursachen nach Geschlecht/M\\u00e4nner/Krebskrankheiten/2012-01-01\",\"Todesursachen nach Geschlecht/Frauen/Kreislaufsystem/2012-01-01\",\"Todesursachen nach Geschlecht/M\\u00e4nner/Kreislaufsystem/2012-01-01\",\"Todesursachen nach Geschlecht/Frauen/Unf\\u00e4lle und Gewalteinwirkungen/2012-01-01\",\"Todesursachen nach Geschlecht/M\\u00e4nner/Unf\\u00e4lle und Gewalteinwirkungen/2012-01-01\",\"Todesursachen nach Geschlecht/Frauen/Alle \\u00fcbrigen Todesursachen/2013-01-01\",\"Todesursachen nach Geschlecht/M\\u00e4nner/Alle \\u00fcbrigen Todesursachen/2013-01-01\",\"Todesursachen nach Geschlecht/Frauen/Atmungsorgane/2013-01-01\",\"Todesursachen nach Geschlecht/M\\u00e4nner/Atmungsorgane/2013-01-01\",\"Todesursachen nach Geschlecht/Frauen/Demenz/2013-01-01\",\"Todesursachen nach Geschlecht/M\\u00e4nner/Demenz/2013-01-01\",\"Todesursachen nach Geschlecht/Frauen/Krebskrankheiten/2013-01-01\",\"Todesursachen nach Geschlecht/M\\u00e4nner/Krebskrankheiten/2013-01-01\",\"Todesursachen nach Geschlecht/Frauen/Kreislaufsystem/2013-01-01\",\"Todesursachen nach Geschlecht/M\\u00e4nner/Kreislaufsystem/2013-01-01\",\"Todesursachen nach Geschlecht/Frauen/Unf\\u00e4lle und Gewalteinwirkungen/2013-01-01\",\"Todesursachen nach Geschlecht/M\\u00e4nner/Unf\\u00e4lle und Gewalteinwirkungen/2013-01-01\",\"Todesursachen nach Geschlecht/Frauen/Alle \\u00fcbrigen Todesursachen/2014-01-01\",\"Todesursachen nach Geschlecht/M\\u00e4nner/Alle \\u00fcbrigen Todesursachen/2014-01-01\",\"Todesursachen nach Geschlecht/Frauen/Atmungsorgane/2014-01-01\",\"Todesursachen nach Geschlecht/M\\u00e4nner/Atmungsorgane/2014-01-01\",\"Todesursachen nach Geschlecht/Frauen/Demenz/2014-01-01\",\"Todesursachen nach Geschlecht/M\\u00e4nner/Demenz/2014-01-01\",\"Todesursachen nach Geschlecht/Frauen/Krebskrankheiten/2014-01-01\",\"Todesursachen nach Geschlecht/M\\u00e4nner/Krebskrankheiten/2014-01-01\",\"Todesursachen nach Geschlecht/Frauen/Kreislaufsystem/2014-01-01\",\"Todesursachen nach Geschlecht/M\\u00e4nner/Kreislaufsystem/2014-01-01\",\"Todesursachen nach Geschlecht/Frauen/Unf\\u00e4lle und Gewalteinwirkungen/2014-01-01\",\"Todesursachen nach Geschlecht/M\\u00e4nner/Unf\\u00e4lle und Gewalteinwirkungen/2014-01-01\",\"Todesursachen nach Geschlecht/Frauen/Alle \\u00fcbrigen Todesursachen/2015-01-01\",\"Todesursachen nach Geschlecht/M\\u00e4nner/Alle \\u00fcbrigen Todesursachen/2015-01-01\",\"Todesursachen nach Geschlecht/Frauen/Atmungsorgane/2015-01-01\",\"Todesursachen nach Geschlecht/M\\u00e4nner/Atmungsorgane/2015-01-01\",\"Todesursachen nach Geschlecht/Frauen/Demenz/2015-01-01\",\"Todesursachen nach Geschlecht/M\\u00e4nner/Demenz/2015-01-01\",\"Todesursachen nach Geschlecht/Frauen/Krebskrankheiten/2015-01-01\",\"Todesursachen nach Geschlecht/M\\u00e4nner/Krebskrankheiten/2015-01-01\",\"Todesursachen nach Geschlecht/Frauen/Kreislaufsystem/2015-01-01\",\"Todesursachen nach Geschlecht/M\\u00e4nner/Kreislaufsystem/2015-01-01\",\"Todesursachen nach Geschlecht/Frauen/Unf\\u00e4lle und Gewalteinwirkungen/2015-01-01\",\"Todesursachen nach Geschlecht/M\\u00e4nner/Unf\\u00e4lle und Gewalteinwirkungen/2015-01-01\",\"Todesursachen nach Geschlecht/Frauen/Alle \\u00fcbrigen Todesursachen/2016-01-01\",\"Todesursachen nach Geschlecht/M\\u00e4nner/Alle \\u00fcbrigen Todesursachen/2016-01-01\",\"Todesursachen nach Geschlecht/Frauen/Atmungsorgane/2016-01-01\",\"Todesursachen nach Geschlecht/M\\u00e4nner/Atmungsorgane/2016-01-01\",\"Todesursachen nach Geschlecht/Frauen/Demenz/2016-01-01\",\"Todesursachen nach Geschlecht/M\\u00e4nner/Demenz/2016-01-01\",\"Todesursachen nach Geschlecht/Frauen/Krebskrankheiten/2016-01-01\",\"Todesursachen nach Geschlecht/M\\u00e4nner/Krebskrankheiten/2016-01-01\",\"Todesursachen nach Geschlecht/Frauen/Kreislaufsystem/2016-01-01\",\"Todesursachen nach Geschlecht/M\\u00e4nner/Kreislaufsystem/2016-01-01\",\"Todesursachen nach Geschlecht/Frauen/Unf\\u00e4lle und Gewalteinwirkungen/2016-01-01\",\"Todesursachen nach Geschlecht/M\\u00e4nner/Unf\\u00e4lle und Gewalteinwirkungen/2016-01-01\",\"Todesursachen nach Geschlecht/Frauen/Alle \\u00fcbrigen Todesursachen/2017-01-01\",\"Todesursachen nach Geschlecht/M\\u00e4nner/Alle \\u00fcbrigen Todesursachen/2017-01-01\",\"Todesursachen nach Geschlecht/Frauen/Atmungsorgane/2017-01-01\",\"Todesursachen nach Geschlecht/M\\u00e4nner/Atmungsorgane/2017-01-01\",\"Todesursachen nach Geschlecht/Frauen/Demenz/2017-01-01\",\"Todesursachen nach Geschlecht/M\\u00e4nner/Demenz/2017-01-01\",\"Todesursachen nach Geschlecht/Frauen/Krebskrankheiten/2017-01-01\",\"Todesursachen nach Geschlecht/M\\u00e4nner/Krebskrankheiten/2017-01-01\",\"Todesursachen nach Geschlecht/Frauen/Kreislaufsystem/2017-01-01\",\"Todesursachen nach Geschlecht/M\\u00e4nner/Kreislaufsystem/2017-01-01\",\"Todesursachen nach Geschlecht/Frauen/Unf\\u00e4lle und Gewalteinwirkungen/2017-01-01\",\"Todesursachen nach Geschlecht/M\\u00e4nner/Unf\\u00e4lle und Gewalteinwirkungen/2017-01-01\",\"Todesursachen nach Geschlecht/Frauen/Alle \\u00fcbrigen Todesursachen/2018-01-01\",\"Todesursachen nach Geschlecht/M\\u00e4nner/Alle \\u00fcbrigen Todesursachen/2018-01-01\",\"Todesursachen nach Geschlecht/Frauen/Atmungsorgane/2018-01-01\",\"Todesursachen nach Geschlecht/M\\u00e4nner/Atmungsorgane/2018-01-01\",\"Todesursachen nach Geschlecht/Frauen/Demenz/2018-01-01\",\"Todesursachen nach Geschlecht/M\\u00e4nner/Demenz/2018-01-01\",\"Todesursachen nach Geschlecht/Frauen/Krebskrankheiten/2018-01-01\",\"Todesursachen nach Geschlecht/M\\u00e4nner/Krebskrankheiten/2018-01-01\",\"Todesursachen nach Geschlecht/Frauen/Kreislaufsystem/2018-01-01\",\"Todesursachen nach Geschlecht/M\\u00e4nner/Kreislaufsystem/2018-01-01\",\"Todesursachen nach Geschlecht/Frauen/Unf\\u00e4lle und Gewalteinwirkungen/2018-01-01\",\"Todesursachen nach Geschlecht/M\\u00e4nner/Unf\\u00e4lle und Gewalteinwirkungen/2018-01-01\",\"Todesursachen nach Geschlecht/Frauen/Alle \\u00fcbrigen Todesursachen/2019-01-01\",\"Todesursachen nach Geschlecht/M\\u00e4nner/Alle \\u00fcbrigen Todesursachen/2019-01-01\",\"Todesursachen nach Geschlecht/Frauen/Atmungsorgane/2019-01-01\",\"Todesursachen nach Geschlecht/M\\u00e4nner/Atmungsorgane/2019-01-01\",\"Todesursachen nach Geschlecht/Frauen/Demenz/2019-01-01\",\"Todesursachen nach Geschlecht/M\\u00e4nner/Demenz/2019-01-01\",\"Todesursachen nach Geschlecht/Frauen/Krebskrankheiten/2019-01-01\",\"Todesursachen nach Geschlecht/M\\u00e4nner/Krebskrankheiten/2019-01-01\",\"Todesursachen nach Geschlecht/Frauen/Kreislaufsystem/2019-01-01\",\"Todesursachen nach Geschlecht/M\\u00e4nner/Kreislaufsystem/2019-01-01\",\"Todesursachen nach Geschlecht/Frauen/Unf\\u00e4lle und Gewalteinwirkungen/2019-01-01\",\"Todesursachen nach Geschlecht/M\\u00e4nner/Unf\\u00e4lle und Gewalteinwirkungen/2019-01-01\",\"Todesursachen nach Geschlecht/Frauen/Alle \\u00fcbrigen Todesursachen\",\"Todesursachen nach Geschlecht/M\\u00e4nner/Alle \\u00fcbrigen Todesursachen\",\"Todesursachen nach Geschlecht/Frauen/Atmungsorgane\",\"Todesursachen nach Geschlecht/M\\u00e4nner/Atmungsorgane\",\"Todesursachen nach Geschlecht/Frauen/Demenz\",\"Todesursachen nach Geschlecht/M\\u00e4nner/Demenz\",\"Todesursachen nach Geschlecht/Frauen/Krebskrankheiten\",\"Todesursachen nach Geschlecht/M\\u00e4nner/Krebskrankheiten\",\"Todesursachen nach Geschlecht/Frauen/Kreislaufsystem\",\"Todesursachen nach Geschlecht/M\\u00e4nner/Kreislaufsystem\",\"Todesursachen nach Geschlecht/Frauen/Unf\\u00e4lle und Gewalteinwirkungen\",\"Todesursachen nach Geschlecht/M\\u00e4nner/Unf\\u00e4lle und Gewalteinwirkungen\",\"Todesursachen nach Geschlecht/Frauen\",\"Todesursachen nach Geschlecht/M\\u00e4nner\",\"Todesursachen nach Geschlecht\"],\"labels\":[\"1995-01-01\",\"1995-01-01\",\"1995-01-01\",\"1995-01-01\",\"1995-01-01\",\"1995-01-01\",\"1995-01-01\",\"1995-01-01\",\"1995-01-01\",\"1995-01-01\",\"1995-01-01\",\"1995-01-01\",\"1996-01-01\",\"1996-01-01\",\"1996-01-01\",\"1996-01-01\",\"1996-01-01\",\"1996-01-01\",\"1996-01-01\",\"1996-01-01\",\"1996-01-01\",\"1996-01-01\",\"1996-01-01\",\"1996-01-01\",\"1997-01-01\",\"1997-01-01\",\"1997-01-01\",\"1997-01-01\",\"1997-01-01\",\"1997-01-01\",\"1997-01-01\",\"1997-01-01\",\"1997-01-01\",\"1997-01-01\",\"1997-01-01\",\"1997-01-01\",\"1998-01-01\",\"1998-01-01\",\"1998-01-01\",\"1998-01-01\",\"1998-01-01\",\"1998-01-01\",\"1998-01-01\",\"1998-01-01\",\"1998-01-01\",\"1998-01-01\",\"1998-01-01\",\"1998-01-01\",\"1999-01-01\",\"1999-01-01\",\"1999-01-01\",\"1999-01-01\",\"1999-01-01\",\"1999-01-01\",\"1999-01-01\",\"1999-01-01\",\"1999-01-01\",\"1999-01-01\",\"1999-01-01\",\"1999-01-01\",\"2000-01-01\",\"2000-01-01\",\"2000-01-01\",\"2000-01-01\",\"2000-01-01\",\"2000-01-01\",\"2000-01-01\",\"2000-01-01\",\"2000-01-01\",\"2000-01-01\",\"2000-01-01\",\"2000-01-01\",\"2001-01-01\",\"2001-01-01\",\"2001-01-01\",\"2001-01-01\",\"2001-01-01\",\"2001-01-01\",\"2001-01-01\",\"2001-01-01\",\"2001-01-01\",\"2001-01-01\",\"2001-01-01\",\"2001-01-01\",\"2002-01-01\",\"2002-01-01\",\"2002-01-01\",\"2002-01-01\",\"2002-01-01\",\"2002-01-01\",\"2002-01-01\",\"2002-01-01\",\"2002-01-01\",\"2002-01-01\",\"2002-01-01\",\"2002-01-01\",\"2003-01-01\",\"2003-01-01\",\"2003-01-01\",\"2003-01-01\",\"2003-01-01\",\"2003-01-01\",\"2003-01-01\",\"2003-01-01\",\"2003-01-01\",\"2003-01-01\",\"2003-01-01\",\"2003-01-01\",\"2004-01-01\",\"2004-01-01\",\"2004-01-01\",\"2004-01-01\",\"2004-01-01\",\"2004-01-01\",\"2004-01-01\",\"2004-01-01\",\"2004-01-01\",\"2004-01-01\",\"2004-01-01\",\"2004-01-01\",\"2005-01-01\",\"2005-01-01\",\"2005-01-01\",\"2005-01-01\",\"2005-01-01\",\"2005-01-01\",\"2005-01-01\",\"2005-01-01\",\"2005-01-01\",\"2005-01-01\",\"2005-01-01\",\"2005-01-01\",\"2006-01-01\",\"2006-01-01\",\"2006-01-01\",\"2006-01-01\",\"2006-01-01\",\"2006-01-01\",\"2006-01-01\",\"2006-01-01\",\"2006-01-01\",\"2006-01-01\",\"2006-01-01\",\"2006-01-01\",\"2007-01-01\",\"2007-01-01\",\"2007-01-01\",\"2007-01-01\",\"2007-01-01\",\"2007-01-01\",\"2007-01-01\",\"2007-01-01\",\"2007-01-01\",\"2007-01-01\",\"2007-01-01\",\"2007-01-01\",\"2008-01-01\",\"2008-01-01\",\"2008-01-01\",\"2008-01-01\",\"2008-01-01\",\"2008-01-01\",\"2008-01-01\",\"2008-01-01\",\"2008-01-01\",\"2008-01-01\",\"2008-01-01\",\"2008-01-01\",\"2009-01-01\",\"2009-01-01\",\"2009-01-01\",\"2009-01-01\",\"2009-01-01\",\"2009-01-01\",\"2009-01-01\",\"2009-01-01\",\"2009-01-01\",\"2009-01-01\",\"2009-01-01\",\"2009-01-01\",\"2010-01-01\",\"2010-01-01\",\"2010-01-01\",\"2010-01-01\",\"2010-01-01\",\"2010-01-01\",\"2010-01-01\",\"2010-01-01\",\"2010-01-01\",\"2010-01-01\",\"2010-01-01\",\"2010-01-01\",\"2011-01-01\",\"2011-01-01\",\"2011-01-01\",\"2011-01-01\",\"2011-01-01\",\"2011-01-01\",\"2011-01-01\",\"2011-01-01\",\"2011-01-01\",\"2011-01-01\",\"2011-01-01\",\"2011-01-01\",\"2012-01-01\",\"2012-01-01\",\"2012-01-01\",\"2012-01-01\",\"2012-01-01\",\"2012-01-01\",\"2012-01-01\",\"2012-01-01\",\"2012-01-01\",\"2012-01-01\",\"2012-01-01\",\"2012-01-01\",\"2013-01-01\",\"2013-01-01\",\"2013-01-01\",\"2013-01-01\",\"2013-01-01\",\"2013-01-01\",\"2013-01-01\",\"2013-01-01\",\"2013-01-01\",\"2013-01-01\",\"2013-01-01\",\"2013-01-01\",\"2014-01-01\",\"2014-01-01\",\"2014-01-01\",\"2014-01-01\",\"2014-01-01\",\"2014-01-01\",\"2014-01-01\",\"2014-01-01\",\"2014-01-01\",\"2014-01-01\",\"2014-01-01\",\"2014-01-01\",\"2015-01-01\",\"2015-01-01\",\"2015-01-01\",\"2015-01-01\",\"2015-01-01\",\"2015-01-01\",\"2015-01-01\",\"2015-01-01\",\"2015-01-01\",\"2015-01-01\",\"2015-01-01\",\"2015-01-01\",\"2016-01-01\",\"2016-01-01\",\"2016-01-01\",\"2016-01-01\",\"2016-01-01\",\"2016-01-01\",\"2016-01-01\",\"2016-01-01\",\"2016-01-01\",\"2016-01-01\",\"2016-01-01\",\"2016-01-01\",\"2017-01-01\",\"2017-01-01\",\"2017-01-01\",\"2017-01-01\",\"2017-01-01\",\"2017-01-01\",\"2017-01-01\",\"2017-01-01\",\"2017-01-01\",\"2017-01-01\",\"2017-01-01\",\"2017-01-01\",\"2018-01-01\",\"2018-01-01\",\"2018-01-01\",\"2018-01-01\",\"2018-01-01\",\"2018-01-01\",\"2018-01-01\",\"2018-01-01\",\"2018-01-01\",\"2018-01-01\",\"2018-01-01\",\"2018-01-01\",\"2019-01-01\",\"2019-01-01\",\"2019-01-01\",\"2019-01-01\",\"2019-01-01\",\"2019-01-01\",\"2019-01-01\",\"2019-01-01\",\"2019-01-01\",\"2019-01-01\",\"2019-01-01\",\"2019-01-01\",\"Alle \\u00fcbrigen Todesursachen\",\"Alle \\u00fcbrigen Todesursachen\",\"Atmungsorgane\",\"Atmungsorgane\",\"Demenz\",\"Demenz\",\"Krebskrankheiten\",\"Krebskrankheiten\",\"Kreislaufsystem\",\"Kreislaufsystem\",\"Unf\\u00e4lle und Gewalteinwirkungen\",\"Unf\\u00e4lle und Gewalteinwirkungen\",\"Frauen\",\"M\\u00e4nner\",\"Todesursachen nach Geschlecht\"],\"marker\":{\"coloraxis\":\"coloraxis\",\"colors\":[134.29496402877697,113.42494226327945,52.45614035087719,41.714285714285715,99.72258064516129,29.96551724137931,210.83493282149712,202.86335403726707,447.31115879828326,315.0942857142857,32.36206896551724,38.95744680851064,141.88584474885846,101.59895833333333,29.613333333333333,41.74418604651163,84.5104895104895,30.833333333333332,175.59375,227.25818882466282,483.0995024875622,293.6302521008403,29.784313725490197,34.587786259541986,130.28571428571428,98.41361256544502,65.3,50.64485981308411,83.93055555555556,31.50793650793651,173.30669546436286,200.8995983935743,469.6694825765575,290.5206847360913,32.05154639175258,39.74285714285714,113.93409742120343,91.9364161849711,68.95890410958904,53.11666666666667,97.90123456790124,32.07936507936508,172.05882352941177,220.68525896414343,471.18106139438083,281.54491899852724,32.54,35.52100840336134,130.17708333333334,101.24858757062147,57.03305785123967,47.1551724137931,119.38674033149171,35.6764705882353,174.35469107551486,196.19747899159663,508.18633540372673,260.346875,27.67391304347826,31.194690265486727,147.91162790697675,105.89583333333333,38.68421052631579,49.336283185840706,121.08938547486034,39.74666666666667,160.33663366336634,185.10138248847926,505.6424242424242,267.527950310559,40.40157480314961,35.22857142857143,180.46376811594203,128.0696629213483,33.795180722891565,31.674698795180724,129.50704225352112,31.491803278688526,162.06467661691542,185.72210065645515,448.85530921820305,227.52575488454707,31.018691588785046,30.9,152.63348416289594,100.91666666666667,43.71111111111111,41.870588235294115,120.30653266331659,45.09411764705882,158.045,170.65413533834587,437.88659793814435,219.21014492753622,37.95,31.611570247933884,160.7962577962578,120.93154034229829,42.73626373626374,40.714285714285715,125.06217616580311,26.962264150943398,140.41666666666666,196.21973094170403,453.6128266033254,242.76271186440678,38.8448275862069,28.27433628318584,148.58186397984886,105.14673913043478,42.134020618556704,37.344086021505376,127.77227722772277,34.93939393939394,173.12254901960785,165.0765306122449,418.5110565110565,210.73180076628353,32.69072164948454,30.571428571428573,145.76923076923077,100.74142480211081,40.01123595505618,35.07142857142857,131.19213973799125,42.2289156626506,162.70408163265307,188.36674259681092,410.5972789115646,200.8188976377953,31.127659574468087,30.00854700854701,138.55154639175257,117.62626262626263,41.37362637362637,35.04938271604938,148.81165919282512,42.5609756097561,156.56883116883117,164.66240409207163,389.91977077363896,196.05263157894737,46.916666666666664,27.38888888888889,140.1077694235589,99.25,42.06818181818182,39.32258064516129,138.37556561085972,48.265306122448976,157.28205128205127,159.36021505376345,426.02046035805625,195.0734693877551,37.0,28.276190476190475,125.65142857142857,94.7680250783699,46.29545454545455,38.67816091954023,161.80672268907563,53.857142857142854,149.11702127659575,154.8117048346056,400.503355704698,205.7421875,35.067796610169495,33.97709923664122,151.91052631578947,101.50898203592814,53.2962962962963,32.86666666666667,181.4516129032258,41.30952380952381,160.85677749360613,153.53866666666667,389.6330532212885,185.07627118644066,30.348837209302324,32.109243697478995,144.84803921568627,112.48571428571428,37.62921348314607,38.8494623655914,167.63468634686348,57.98989898989899,128.0581395348837,168.8034398034398,348.17808219178085,192.49478079331942,31.4,28.796296296296298,173.0686498855835,121.36411609498681,39.617283950617285,39.12765957446808,161.14901960784314,54.020833333333336,139.89005235602093,155.92950391644908,338.93011647254576,161.48730964467006,30.456521739130434,24.520833333333332,144.6950904392765,98.73040752351098,37.53488372093023,32.24050632911393,190.95604395604394,54.663366336633665,144.0918918918919,159.8972431077694,386.863173216885,166.8568129330254,24.076923076923077,28.74576271186441,163.8,115.49849849849849,41.795698924731184,34.25581395348837,231.70987654320987,75.0,153.07901234567902,153.3549160671463,367.83024691358025,179.30697674418604,46.30275229357798,23.442105263157895,177.91211401425178,115.2406876790831,41.166666666666664,30.83783783783784,182.65441176470588,64.21311475409836,150.63387978142077,164.64077669902912,374.015923566879,157.73891625615764,41.270833333333336,26.28846153846154,166.00254452926208,112.45352112676056,53.45217391304348,40.48936170212766,196.85365853658536,59.113207547169814,150.66326530612244,165.2907268170426,365.7164179104478,189.34285714285716,33.41379310344828,28.42105263157895,144.3314121037464,104.37910447761195,35.717948717948715,29.7027027027027,178.9185185185185,56.34020618556701,151.2406015037594,152.32994923857868,326.26545454545453,176.48717948717947,32.01176470588236,31.916666666666668,156.76338028169013,105.59130434782608,48.89473684210526,38.18279569892473,185.0514705882353,53.333333333333336,136.73888888888888,164.34643734643734,332.54816112084063,190.68253968253967,42.381443298969074,32.9375,193.44700460829492,106.19277108433735,49.71153846153846,38.03448275862069,195.84912280701755,57.32727272727273,135.4715909090909,183.6078431372549,300.3220338983051,158.2287917737789,44.28712871287129,25.568627450980394,154.89080459770116,124.95428571428572,51.214285714285715,38.369565217391305,200.25342465753425,61.30769230769231,121.99428571428571,134.4376811594203,328.6216216216216,158.22371967654988,37.24242424242424,32.095238095238095,151.64068497195157,108.38244375827084,47.031797798613944,39.777875329236174,158.9774383894481,49.229799159271366,157.558616529258,177.16952687968143,416.4666525513445,222.1217183770883,35.55826771653543,31.244134648078884,243.1463198938779,150.74722250025022,201.9880514500992]},\"name\":\"\",\"parents\":[\"Todesursachen nach Geschlecht/Frauen/Alle \\u00fcbrigen Todesursachen\",\"Todesursachen nach Geschlecht/M\\u00e4nner/Alle \\u00fcbrigen Todesursachen\",\"Todesursachen nach Geschlecht/Frauen/Atmungsorgane\",\"Todesursachen nach Geschlecht/M\\u00e4nner/Atmungsorgane\",\"Todesursachen nach Geschlecht/Frauen/Demenz\",\"Todesursachen nach Geschlecht/M\\u00e4nner/Demenz\",\"Todesursachen nach Geschlecht/Frauen/Krebskrankheiten\",\"Todesursachen nach Geschlecht/M\\u00e4nner/Krebskrankheiten\",\"Todesursachen nach Geschlecht/Frauen/Kreislaufsystem\",\"Todesursachen nach Geschlecht/M\\u00e4nner/Kreislaufsystem\",\"Todesursachen nach Geschlecht/Frauen/Unf\\u00e4lle und Gewalteinwirkungen\",\"Todesursachen nach Geschlecht/M\\u00e4nner/Unf\\u00e4lle und Gewalteinwirkungen\",\"Todesursachen nach Geschlecht/Frauen/Alle \\u00fcbrigen Todesursachen\",\"Todesursachen nach Geschlecht/M\\u00e4nner/Alle \\u00fcbrigen Todesursachen\",\"Todesursachen nach Geschlecht/Frauen/Atmungsorgane\",\"Todesursachen nach Geschlecht/M\\u00e4nner/Atmungsorgane\",\"Todesursachen nach Geschlecht/Frauen/Demenz\",\"Todesursachen nach Geschlecht/M\\u00e4nner/Demenz\",\"Todesursachen nach Geschlecht/Frauen/Krebskrankheiten\",\"Todesursachen nach Geschlecht/M\\u00e4nner/Krebskrankheiten\",\"Todesursachen nach Geschlecht/Frauen/Kreislaufsystem\",\"Todesursachen nach Geschlecht/M\\u00e4nner/Kreislaufsystem\",\"Todesursachen nach Geschlecht/Frauen/Unf\\u00e4lle und Gewalteinwirkungen\",\"Todesursachen nach Geschlecht/M\\u00e4nner/Unf\\u00e4lle und Gewalteinwirkungen\",\"Todesursachen nach Geschlecht/Frauen/Alle \\u00fcbrigen Todesursachen\",\"Todesursachen nach Geschlecht/M\\u00e4nner/Alle \\u00fcbrigen Todesursachen\",\"Todesursachen nach Geschlecht/Frauen/Atmungsorgane\",\"Todesursachen nach Geschlecht/M\\u00e4nner/Atmungsorgane\",\"Todesursachen nach Geschlecht/Frauen/Demenz\",\"Todesursachen nach Geschlecht/M\\u00e4nner/Demenz\",\"Todesursachen nach Geschlecht/Frauen/Krebskrankheiten\",\"Todesursachen nach Geschlecht/M\\u00e4nner/Krebskrankheiten\",\"Todesursachen nach Geschlecht/Frauen/Kreislaufsystem\",\"Todesursachen nach Geschlecht/M\\u00e4nner/Kreislaufsystem\",\"Todesursachen nach Geschlecht/Frauen/Unf\\u00e4lle und Gewalteinwirkungen\",\"Todesursachen nach Geschlecht/M\\u00e4nner/Unf\\u00e4lle und Gewalteinwirkungen\",\"Todesursachen nach Geschlecht/Frauen/Alle \\u00fcbrigen Todesursachen\",\"Todesursachen nach Geschlecht/M\\u00e4nner/Alle \\u00fcbrigen Todesursachen\",\"Todesursachen nach Geschlecht/Frauen/Atmungsorgane\",\"Todesursachen nach Geschlecht/M\\u00e4nner/Atmungsorgane\",\"Todesursachen nach Geschlecht/Frauen/Demenz\",\"Todesursachen nach Geschlecht/M\\u00e4nner/Demenz\",\"Todesursachen nach Geschlecht/Frauen/Krebskrankheiten\",\"Todesursachen nach Geschlecht/M\\u00e4nner/Krebskrankheiten\",\"Todesursachen nach Geschlecht/Frauen/Kreislaufsystem\",\"Todesursachen nach Geschlecht/M\\u00e4nner/Kreislaufsystem\",\"Todesursachen nach Geschlecht/Frauen/Unf\\u00e4lle und Gewalteinwirkungen\",\"Todesursachen nach Geschlecht/M\\u00e4nner/Unf\\u00e4lle und Gewalteinwirkungen\",\"Todesursachen nach Geschlecht/Frauen/Alle \\u00fcbrigen Todesursachen\",\"Todesursachen nach Geschlecht/M\\u00e4nner/Alle \\u00fcbrigen Todesursachen\",\"Todesursachen nach Geschlecht/Frauen/Atmungsorgane\",\"Todesursachen nach Geschlecht/M\\u00e4nner/Atmungsorgane\",\"Todesursachen nach Geschlecht/Frauen/Demenz\",\"Todesursachen nach Geschlecht/M\\u00e4nner/Demenz\",\"Todesursachen nach Geschlecht/Frauen/Krebskrankheiten\",\"Todesursachen nach Geschlecht/M\\u00e4nner/Krebskrankheiten\",\"Todesursachen nach Geschlecht/Frauen/Kreislaufsystem\",\"Todesursachen nach Geschlecht/M\\u00e4nner/Kreislaufsystem\",\"Todesursachen nach Geschlecht/Frauen/Unf\\u00e4lle und Gewalteinwirkungen\",\"Todesursachen nach Geschlecht/M\\u00e4nner/Unf\\u00e4lle und Gewalteinwirkungen\",\"Todesursachen nach Geschlecht/Frauen/Alle \\u00fcbrigen Todesursachen\",\"Todesursachen nach Geschlecht/M\\u00e4nner/Alle \\u00fcbrigen Todesursachen\",\"Todesursachen nach Geschlecht/Frauen/Atmungsorgane\",\"Todesursachen nach Geschlecht/M\\u00e4nner/Atmungsorgane\",\"Todesursachen nach Geschlecht/Frauen/Demenz\",\"Todesursachen nach Geschlecht/M\\u00e4nner/Demenz\",\"Todesursachen nach Geschlecht/Frauen/Krebskrankheiten\",\"Todesursachen nach Geschlecht/M\\u00e4nner/Krebskrankheiten\",\"Todesursachen nach Geschlecht/Frauen/Kreislaufsystem\",\"Todesursachen nach Geschlecht/M\\u00e4nner/Kreislaufsystem\",\"Todesursachen nach Geschlecht/Frauen/Unf\\u00e4lle und Gewalteinwirkungen\",\"Todesursachen nach Geschlecht/M\\u00e4nner/Unf\\u00e4lle und Gewalteinwirkungen\",\"Todesursachen nach Geschlecht/Frauen/Alle \\u00fcbrigen Todesursachen\",\"Todesursachen nach Geschlecht/M\\u00e4nner/Alle \\u00fcbrigen Todesursachen\",\"Todesursachen nach Geschlecht/Frauen/Atmungsorgane\",\"Todesursachen nach Geschlecht/M\\u00e4nner/Atmungsorgane\",\"Todesursachen nach Geschlecht/Frauen/Demenz\",\"Todesursachen nach Geschlecht/M\\u00e4nner/Demenz\",\"Todesursachen nach Geschlecht/Frauen/Krebskrankheiten\",\"Todesursachen nach Geschlecht/M\\u00e4nner/Krebskrankheiten\",\"Todesursachen nach Geschlecht/Frauen/Kreislaufsystem\",\"Todesursachen nach Geschlecht/M\\u00e4nner/Kreislaufsystem\",\"Todesursachen nach Geschlecht/Frauen/Unf\\u00e4lle und Gewalteinwirkungen\",\"Todesursachen nach Geschlecht/M\\u00e4nner/Unf\\u00e4lle und Gewalteinwirkungen\",\"Todesursachen nach Geschlecht/Frauen/Alle \\u00fcbrigen Todesursachen\",\"Todesursachen nach Geschlecht/M\\u00e4nner/Alle \\u00fcbrigen Todesursachen\",\"Todesursachen nach Geschlecht/Frauen/Atmungsorgane\",\"Todesursachen nach Geschlecht/M\\u00e4nner/Atmungsorgane\",\"Todesursachen nach Geschlecht/Frauen/Demenz\",\"Todesursachen nach Geschlecht/M\\u00e4nner/Demenz\",\"Todesursachen nach Geschlecht/Frauen/Krebskrankheiten\",\"Todesursachen nach Geschlecht/M\\u00e4nner/Krebskrankheiten\",\"Todesursachen nach Geschlecht/Frauen/Kreislaufsystem\",\"Todesursachen nach Geschlecht/M\\u00e4nner/Kreislaufsystem\",\"Todesursachen nach Geschlecht/Frauen/Unf\\u00e4lle und Gewalteinwirkungen\",\"Todesursachen nach Geschlecht/M\\u00e4nner/Unf\\u00e4lle und Gewalteinwirkungen\",\"Todesursachen nach Geschlecht/Frauen/Alle \\u00fcbrigen Todesursachen\",\"Todesursachen nach Geschlecht/M\\u00e4nner/Alle \\u00fcbrigen Todesursachen\",\"Todesursachen nach Geschlecht/Frauen/Atmungsorgane\",\"Todesursachen nach Geschlecht/M\\u00e4nner/Atmungsorgane\",\"Todesursachen nach Geschlecht/Frauen/Demenz\",\"Todesursachen nach Geschlecht/M\\u00e4nner/Demenz\",\"Todesursachen nach Geschlecht/Frauen/Krebskrankheiten\",\"Todesursachen nach Geschlecht/M\\u00e4nner/Krebskrankheiten\",\"Todesursachen nach Geschlecht/Frauen/Kreislaufsystem\",\"Todesursachen nach Geschlecht/M\\u00e4nner/Kreislaufsystem\",\"Todesursachen nach Geschlecht/Frauen/Unf\\u00e4lle und Gewalteinwirkungen\",\"Todesursachen nach Geschlecht/M\\u00e4nner/Unf\\u00e4lle und Gewalteinwirkungen\",\"Todesursachen nach Geschlecht/Frauen/Alle \\u00fcbrigen Todesursachen\",\"Todesursachen nach Geschlecht/M\\u00e4nner/Alle \\u00fcbrigen Todesursachen\",\"Todesursachen nach Geschlecht/Frauen/Atmungsorgane\",\"Todesursachen nach Geschlecht/M\\u00e4nner/Atmungsorgane\",\"Todesursachen nach Geschlecht/Frauen/Demenz\",\"Todesursachen nach Geschlecht/M\\u00e4nner/Demenz\",\"Todesursachen nach Geschlecht/Frauen/Krebskrankheiten\",\"Todesursachen nach Geschlecht/M\\u00e4nner/Krebskrankheiten\",\"Todesursachen nach Geschlecht/Frauen/Kreislaufsystem\",\"Todesursachen nach Geschlecht/M\\u00e4nner/Kreislaufsystem\",\"Todesursachen nach Geschlecht/Frauen/Unf\\u00e4lle und Gewalteinwirkungen\",\"Todesursachen nach Geschlecht/M\\u00e4nner/Unf\\u00e4lle und Gewalteinwirkungen\",\"Todesursachen nach Geschlecht/Frauen/Alle \\u00fcbrigen Todesursachen\",\"Todesursachen nach Geschlecht/M\\u00e4nner/Alle \\u00fcbrigen Todesursachen\",\"Todesursachen nach Geschlecht/Frauen/Atmungsorgane\",\"Todesursachen nach Geschlecht/M\\u00e4nner/Atmungsorgane\",\"Todesursachen nach Geschlecht/Frauen/Demenz\",\"Todesursachen nach Geschlecht/M\\u00e4nner/Demenz\",\"Todesursachen nach Geschlecht/Frauen/Krebskrankheiten\",\"Todesursachen nach Geschlecht/M\\u00e4nner/Krebskrankheiten\",\"Todesursachen nach Geschlecht/Frauen/Kreislaufsystem\",\"Todesursachen nach Geschlecht/M\\u00e4nner/Kreislaufsystem\",\"Todesursachen nach Geschlecht/Frauen/Unf\\u00e4lle und Gewalteinwirkungen\",\"Todesursachen nach Geschlecht/M\\u00e4nner/Unf\\u00e4lle und Gewalteinwirkungen\",\"Todesursachen nach Geschlecht/Frauen/Alle \\u00fcbrigen Todesursachen\",\"Todesursachen nach Geschlecht/M\\u00e4nner/Alle \\u00fcbrigen Todesursachen\",\"Todesursachen nach Geschlecht/Frauen/Atmungsorgane\",\"Todesursachen nach Geschlecht/M\\u00e4nner/Atmungsorgane\",\"Todesursachen nach Geschlecht/Frauen/Demenz\",\"Todesursachen nach Geschlecht/M\\u00e4nner/Demenz\",\"Todesursachen nach Geschlecht/Frauen/Krebskrankheiten\",\"Todesursachen nach Geschlecht/M\\u00e4nner/Krebskrankheiten\",\"Todesursachen nach Geschlecht/Frauen/Kreislaufsystem\",\"Todesursachen nach Geschlecht/M\\u00e4nner/Kreislaufsystem\",\"Todesursachen nach Geschlecht/Frauen/Unf\\u00e4lle und Gewalteinwirkungen\",\"Todesursachen nach Geschlecht/M\\u00e4nner/Unf\\u00e4lle und Gewalteinwirkungen\",\"Todesursachen nach Geschlecht/Frauen/Alle \\u00fcbrigen Todesursachen\",\"Todesursachen nach Geschlecht/M\\u00e4nner/Alle \\u00fcbrigen Todesursachen\",\"Todesursachen nach Geschlecht/Frauen/Atmungsorgane\",\"Todesursachen nach Geschlecht/M\\u00e4nner/Atmungsorgane\",\"Todesursachen nach Geschlecht/Frauen/Demenz\",\"Todesursachen nach Geschlecht/M\\u00e4nner/Demenz\",\"Todesursachen nach Geschlecht/Frauen/Krebskrankheiten\",\"Todesursachen nach Geschlecht/M\\u00e4nner/Krebskrankheiten\",\"Todesursachen nach Geschlecht/Frauen/Kreislaufsystem\",\"Todesursachen nach Geschlecht/M\\u00e4nner/Kreislaufsystem\",\"Todesursachen nach Geschlecht/Frauen/Unf\\u00e4lle und Gewalteinwirkungen\",\"Todesursachen nach Geschlecht/M\\u00e4nner/Unf\\u00e4lle und Gewalteinwirkungen\",\"Todesursachen nach Geschlecht/Frauen/Alle \\u00fcbrigen Todesursachen\",\"Todesursachen nach Geschlecht/M\\u00e4nner/Alle \\u00fcbrigen Todesursachen\",\"Todesursachen nach Geschlecht/Frauen/Atmungsorgane\",\"Todesursachen nach Geschlecht/M\\u00e4nner/Atmungsorgane\",\"Todesursachen nach Geschlecht/Frauen/Demenz\",\"Todesursachen nach Geschlecht/M\\u00e4nner/Demenz\",\"Todesursachen nach Geschlecht/Frauen/Krebskrankheiten\",\"Todesursachen nach Geschlecht/M\\u00e4nner/Krebskrankheiten\",\"Todesursachen nach Geschlecht/Frauen/Kreislaufsystem\",\"Todesursachen nach Geschlecht/M\\u00e4nner/Kreislaufsystem\",\"Todesursachen nach Geschlecht/Frauen/Unf\\u00e4lle und Gewalteinwirkungen\",\"Todesursachen nach Geschlecht/M\\u00e4nner/Unf\\u00e4lle und Gewalteinwirkungen\",\"Todesursachen nach Geschlecht/Frauen/Alle \\u00fcbrigen Todesursachen\",\"Todesursachen nach Geschlecht/M\\u00e4nner/Alle \\u00fcbrigen Todesursachen\",\"Todesursachen nach Geschlecht/Frauen/Atmungsorgane\",\"Todesursachen nach Geschlecht/M\\u00e4nner/Atmungsorgane\",\"Todesursachen nach Geschlecht/Frauen/Demenz\",\"Todesursachen nach Geschlecht/M\\u00e4nner/Demenz\",\"Todesursachen nach Geschlecht/Frauen/Krebskrankheiten\",\"Todesursachen nach Geschlecht/M\\u00e4nner/Krebskrankheiten\",\"Todesursachen nach Geschlecht/Frauen/Kreislaufsystem\",\"Todesursachen nach Geschlecht/M\\u00e4nner/Kreislaufsystem\",\"Todesursachen nach Geschlecht/Frauen/Unf\\u00e4lle und Gewalteinwirkungen\",\"Todesursachen nach Geschlecht/M\\u00e4nner/Unf\\u00e4lle und Gewalteinwirkungen\",\"Todesursachen nach Geschlecht/Frauen/Alle \\u00fcbrigen Todesursachen\",\"Todesursachen nach Geschlecht/M\\u00e4nner/Alle \\u00fcbrigen Todesursachen\",\"Todesursachen nach Geschlecht/Frauen/Atmungsorgane\",\"Todesursachen nach Geschlecht/M\\u00e4nner/Atmungsorgane\",\"Todesursachen nach Geschlecht/Frauen/Demenz\",\"Todesursachen nach Geschlecht/M\\u00e4nner/Demenz\",\"Todesursachen nach Geschlecht/Frauen/Krebskrankheiten\",\"Todesursachen nach Geschlecht/M\\u00e4nner/Krebskrankheiten\",\"Todesursachen nach Geschlecht/Frauen/Kreislaufsystem\",\"Todesursachen nach Geschlecht/M\\u00e4nner/Kreislaufsystem\",\"Todesursachen nach Geschlecht/Frauen/Unf\\u00e4lle und Gewalteinwirkungen\",\"Todesursachen nach Geschlecht/M\\u00e4nner/Unf\\u00e4lle und Gewalteinwirkungen\",\"Todesursachen nach Geschlecht/Frauen/Alle \\u00fcbrigen Todesursachen\",\"Todesursachen nach Geschlecht/M\\u00e4nner/Alle \\u00fcbrigen Todesursachen\",\"Todesursachen nach Geschlecht/Frauen/Atmungsorgane\",\"Todesursachen nach Geschlecht/M\\u00e4nner/Atmungsorgane\",\"Todesursachen nach Geschlecht/Frauen/Demenz\",\"Todesursachen nach Geschlecht/M\\u00e4nner/Demenz\",\"Todesursachen nach Geschlecht/Frauen/Krebskrankheiten\",\"Todesursachen nach Geschlecht/M\\u00e4nner/Krebskrankheiten\",\"Todesursachen nach Geschlecht/Frauen/Kreislaufsystem\",\"Todesursachen nach Geschlecht/M\\u00e4nner/Kreislaufsystem\",\"Todesursachen nach Geschlecht/Frauen/Unf\\u00e4lle und Gewalteinwirkungen\",\"Todesursachen nach Geschlecht/M\\u00e4nner/Unf\\u00e4lle und Gewalteinwirkungen\",\"Todesursachen nach Geschlecht/Frauen/Alle \\u00fcbrigen Todesursachen\",\"Todesursachen nach Geschlecht/M\\u00e4nner/Alle \\u00fcbrigen Todesursachen\",\"Todesursachen nach Geschlecht/Frauen/Atmungsorgane\",\"Todesursachen nach Geschlecht/M\\u00e4nner/Atmungsorgane\",\"Todesursachen nach Geschlecht/Frauen/Demenz\",\"Todesursachen nach Geschlecht/M\\u00e4nner/Demenz\",\"Todesursachen nach Geschlecht/Frauen/Krebskrankheiten\",\"Todesursachen nach Geschlecht/M\\u00e4nner/Krebskrankheiten\",\"Todesursachen nach Geschlecht/Frauen/Kreislaufsystem\",\"Todesursachen nach Geschlecht/M\\u00e4nner/Kreislaufsystem\",\"Todesursachen nach Geschlecht/Frauen/Unf\\u00e4lle und Gewalteinwirkungen\",\"Todesursachen nach Geschlecht/M\\u00e4nner/Unf\\u00e4lle und Gewalteinwirkungen\",\"Todesursachen nach Geschlecht/Frauen/Alle \\u00fcbrigen Todesursachen\",\"Todesursachen nach Geschlecht/M\\u00e4nner/Alle \\u00fcbrigen Todesursachen\",\"Todesursachen nach Geschlecht/Frauen/Atmungsorgane\",\"Todesursachen nach Geschlecht/M\\u00e4nner/Atmungsorgane\",\"Todesursachen nach Geschlecht/Frauen/Demenz\",\"Todesursachen nach Geschlecht/M\\u00e4nner/Demenz\",\"Todesursachen nach Geschlecht/Frauen/Krebskrankheiten\",\"Todesursachen nach Geschlecht/M\\u00e4nner/Krebskrankheiten\",\"Todesursachen nach Geschlecht/Frauen/Kreislaufsystem\",\"Todesursachen nach Geschlecht/M\\u00e4nner/Kreislaufsystem\",\"Todesursachen nach Geschlecht/Frauen/Unf\\u00e4lle und Gewalteinwirkungen\",\"Todesursachen nach Geschlecht/M\\u00e4nner/Unf\\u00e4lle und Gewalteinwirkungen\",\"Todesursachen nach Geschlecht/Frauen/Alle \\u00fcbrigen Todesursachen\",\"Todesursachen nach Geschlecht/M\\u00e4nner/Alle \\u00fcbrigen Todesursachen\",\"Todesursachen nach Geschlecht/Frauen/Atmungsorgane\",\"Todesursachen nach Geschlecht/M\\u00e4nner/Atmungsorgane\",\"Todesursachen nach Geschlecht/Frauen/Demenz\",\"Todesursachen nach Geschlecht/M\\u00e4nner/Demenz\",\"Todesursachen nach Geschlecht/Frauen/Krebskrankheiten\",\"Todesursachen nach Geschlecht/M\\u00e4nner/Krebskrankheiten\",\"Todesursachen nach Geschlecht/Frauen/Kreislaufsystem\",\"Todesursachen nach Geschlecht/M\\u00e4nner/Kreislaufsystem\",\"Todesursachen nach Geschlecht/Frauen/Unf\\u00e4lle und Gewalteinwirkungen\",\"Todesursachen nach Geschlecht/M\\u00e4nner/Unf\\u00e4lle und Gewalteinwirkungen\",\"Todesursachen nach Geschlecht/Frauen/Alle \\u00fcbrigen Todesursachen\",\"Todesursachen nach Geschlecht/M\\u00e4nner/Alle \\u00fcbrigen Todesursachen\",\"Todesursachen nach Geschlecht/Frauen/Atmungsorgane\",\"Todesursachen nach Geschlecht/M\\u00e4nner/Atmungsorgane\",\"Todesursachen nach Geschlecht/Frauen/Demenz\",\"Todesursachen nach Geschlecht/M\\u00e4nner/Demenz\",\"Todesursachen nach Geschlecht/Frauen/Krebskrankheiten\",\"Todesursachen nach Geschlecht/M\\u00e4nner/Krebskrankheiten\",\"Todesursachen nach Geschlecht/Frauen/Kreislaufsystem\",\"Todesursachen nach Geschlecht/M\\u00e4nner/Kreislaufsystem\",\"Todesursachen nach Geschlecht/Frauen/Unf\\u00e4lle und Gewalteinwirkungen\",\"Todesursachen nach Geschlecht/M\\u00e4nner/Unf\\u00e4lle und Gewalteinwirkungen\",\"Todesursachen nach Geschlecht/Frauen/Alle \\u00fcbrigen Todesursachen\",\"Todesursachen nach Geschlecht/M\\u00e4nner/Alle \\u00fcbrigen Todesursachen\",\"Todesursachen nach Geschlecht/Frauen/Atmungsorgane\",\"Todesursachen nach Geschlecht/M\\u00e4nner/Atmungsorgane\",\"Todesursachen nach Geschlecht/Frauen/Demenz\",\"Todesursachen nach Geschlecht/M\\u00e4nner/Demenz\",\"Todesursachen nach Geschlecht/Frauen/Krebskrankheiten\",\"Todesursachen nach Geschlecht/M\\u00e4nner/Krebskrankheiten\",\"Todesursachen nach Geschlecht/Frauen/Kreislaufsystem\",\"Todesursachen nach Geschlecht/M\\u00e4nner/Kreislaufsystem\",\"Todesursachen nach Geschlecht/Frauen/Unf\\u00e4lle und Gewalteinwirkungen\",\"Todesursachen nach Geschlecht/M\\u00e4nner/Unf\\u00e4lle und Gewalteinwirkungen\",\"Todesursachen nach Geschlecht/Frauen/Alle \\u00fcbrigen Todesursachen\",\"Todesursachen nach Geschlecht/M\\u00e4nner/Alle \\u00fcbrigen Todesursachen\",\"Todesursachen nach Geschlecht/Frauen/Atmungsorgane\",\"Todesursachen nach Geschlecht/M\\u00e4nner/Atmungsorgane\",\"Todesursachen nach Geschlecht/Frauen/Demenz\",\"Todesursachen nach Geschlecht/M\\u00e4nner/Demenz\",\"Todesursachen nach Geschlecht/Frauen/Krebskrankheiten\",\"Todesursachen nach Geschlecht/M\\u00e4nner/Krebskrankheiten\",\"Todesursachen nach Geschlecht/Frauen/Kreislaufsystem\",\"Todesursachen nach Geschlecht/M\\u00e4nner/Kreislaufsystem\",\"Todesursachen nach Geschlecht/Frauen/Unf\\u00e4lle und Gewalteinwirkungen\",\"Todesursachen nach Geschlecht/M\\u00e4nner/Unf\\u00e4lle und Gewalteinwirkungen\",\"Todesursachen nach Geschlecht/Frauen/Alle \\u00fcbrigen Todesursachen\",\"Todesursachen nach Geschlecht/M\\u00e4nner/Alle \\u00fcbrigen Todesursachen\",\"Todesursachen nach Geschlecht/Frauen/Atmungsorgane\",\"Todesursachen nach Geschlecht/M\\u00e4nner/Atmungsorgane\",\"Todesursachen nach Geschlecht/Frauen/Demenz\",\"Todesursachen nach Geschlecht/M\\u00e4nner/Demenz\",\"Todesursachen nach Geschlecht/Frauen/Krebskrankheiten\",\"Todesursachen nach Geschlecht/M\\u00e4nner/Krebskrankheiten\",\"Todesursachen nach Geschlecht/Frauen/Kreislaufsystem\",\"Todesursachen nach Geschlecht/M\\u00e4nner/Kreislaufsystem\",\"Todesursachen nach Geschlecht/Frauen/Unf\\u00e4lle und Gewalteinwirkungen\",\"Todesursachen nach Geschlecht/M\\u00e4nner/Unf\\u00e4lle und Gewalteinwirkungen\",\"Todesursachen nach Geschlecht/Frauen/Alle \\u00fcbrigen Todesursachen\",\"Todesursachen nach Geschlecht/M\\u00e4nner/Alle \\u00fcbrigen Todesursachen\",\"Todesursachen nach Geschlecht/Frauen/Atmungsorgane\",\"Todesursachen nach Geschlecht/M\\u00e4nner/Atmungsorgane\",\"Todesursachen nach Geschlecht/Frauen/Demenz\",\"Todesursachen nach Geschlecht/M\\u00e4nner/Demenz\",\"Todesursachen nach Geschlecht/Frauen/Krebskrankheiten\",\"Todesursachen nach Geschlecht/M\\u00e4nner/Krebskrankheiten\",\"Todesursachen nach Geschlecht/Frauen/Kreislaufsystem\",\"Todesursachen nach Geschlecht/M\\u00e4nner/Kreislaufsystem\",\"Todesursachen nach Geschlecht/Frauen/Unf\\u00e4lle und Gewalteinwirkungen\",\"Todesursachen nach Geschlecht/M\\u00e4nner/Unf\\u00e4lle und Gewalteinwirkungen\",\"Todesursachen nach Geschlecht/Frauen\",\"Todesursachen nach Geschlecht/M\\u00e4nner\",\"Todesursachen nach Geschlecht/Frauen\",\"Todesursachen nach Geschlecht/M\\u00e4nner\",\"Todesursachen nach Geschlecht/Frauen\",\"Todesursachen nach Geschlecht/M\\u00e4nner\",\"Todesursachen nach Geschlecht/Frauen\",\"Todesursachen nach Geschlecht/M\\u00e4nner\",\"Todesursachen nach Geschlecht/Frauen\",\"Todesursachen nach Geschlecht/M\\u00e4nner\",\"Todesursachen nach Geschlecht/Frauen\",\"Todesursachen nach Geschlecht/M\\u00e4nner\",\"Todesursachen nach Geschlecht\",\"Todesursachen nach Geschlecht\",\"\"],\"root\":{\"color\":\"lightgrey\"},\"type\":\"treemap\",\"values\":[417,433,114,98,155,58,521,483,932,700,116,141,438,384,75,86,143,60,448,519,1005,714,102,131,364,382,140,107,144,63,463,498,947,701,97,140,349,346,146,120,162,63,425,502,961,679,100,119,384,354,121,116,181,68,437,476,966,640,92,113,430,384,76,113,179,75,404,434,990,644,127,140,552,445,83,83,213,61,402,457,857,563,107,120,442,360,90,85,199,85,400,399,873,552,120,121,481,409,91,91,193,53,384,446,842,590,116,113,397,368,97,93,202,66,408,392,814,522,97,112,455,379,89,84,229,83,392,439,735,508,94,117,388,396,91,81,223,82,385,391,698,475,120,108,399,328,88,93,221,98,390,372,782,490,114,105,350,319,88,87,238,91,376,393,745,512,118,131,380,334,108,75,279,84,391,375,714,472,86,119,408,350,89,93,271,99,344,407,657,479,90,108,437,379,81,94,255,96,382,383,601,394,92,96,387,319,86,79,273,101,370,399,687,433,78,118,405,333,93,86,324,120,405,417,648,430,109,95,421,349,84,74,272,122,366,412,628,406,96,104,393,355,115,94,287,106,392,399,603,455,87,114,347,335,78,74,270,97,399,394,550,429,85,120,355,345,114,93,272,96,360,407,571,441,97,128,434,332,104,87,285,110,352,408,531,389,101,102,348,350,112,92,292,104,350,345,555,371,99,126,10161,9068,2453,2278,5762,2141,9946,10547,18892,12989,2540,2941,49754,39964,89718]}],                        {\"coloraxis\":{\"colorbar\":{\"title\":{\"text\":\"AnzSterWir\"}},\"colorscale\":[[0.0,\"rgb(247,251,255)\"],[0.125,\"rgb(222,235,247)\"],[0.25,\"rgb(198,219,239)\"],[0.375,\"rgb(158,202,225)\"],[0.5,\"rgb(107,174,214)\"],[0.625,\"rgb(66,146,198)\"],[0.75,\"rgb(33,113,181)\"],[0.875,\"rgb(8,81,156)\"],[1.0,\"rgb(8,48,107)\"]]},\"legend\":{\"tracegroupgap\":0},\"margin\":{\"b\":25,\"l\":25,\"r\":250,\"t\":50},\"template\":{\"data\":{\"bar\":[{\"error_x\":{\"color\":\"#2a3f5f\"},\"error_y\":{\"color\":\"#2a3f5f\"},\"marker\":{\"line\":{\"color\":\"#E5ECF6\",\"width\":0.5},\"pattern\":{\"fillmode\":\"overlay\",\"size\":10,\"solidity\":0.2}},\"type\":\"bar\"}],\"barpolar\":[{\"marker\":{\"line\":{\"color\":\"#E5ECF6\",\"width\":0.5},\"pattern\":{\"fillmode\":\"overlay\",\"size\":10,\"solidity\":0.2}},\"type\":\"barpolar\"}],\"carpet\":[{\"aaxis\":{\"endlinecolor\":\"#2a3f5f\",\"gridcolor\":\"white\",\"linecolor\":\"white\",\"minorgridcolor\":\"white\",\"startlinecolor\":\"#2a3f5f\"},\"baxis\":{\"endlinecolor\":\"#2a3f5f\",\"gridcolor\":\"white\",\"linecolor\":\"white\",\"minorgridcolor\":\"white\",\"startlinecolor\":\"#2a3f5f\"},\"type\":\"carpet\"}],\"choropleth\":[{\"colorbar\":{\"outlinewidth\":0,\"ticks\":\"\"},\"type\":\"choropleth\"}],\"contour\":[{\"colorbar\":{\"outlinewidth\":0,\"ticks\":\"\"},\"colorscale\":[[0.0,\"#0d0887\"],[0.1111111111111111,\"#46039f\"],[0.2222222222222222,\"#7201a8\"],[0.3333333333333333,\"#9c179e\"],[0.4444444444444444,\"#bd3786\"],[0.5555555555555556,\"#d8576b\"],[0.6666666666666666,\"#ed7953\"],[0.7777777777777778,\"#fb9f3a\"],[0.8888888888888888,\"#fdca26\"],[1.0,\"#f0f921\"]],\"type\":\"contour\"}],\"contourcarpet\":[{\"colorbar\":{\"outlinewidth\":0,\"ticks\":\"\"},\"type\":\"contourcarpet\"}],\"heatmap\":[{\"colorbar\":{\"outlinewidth\":0,\"ticks\":\"\"},\"colorscale\":[[0.0,\"#0d0887\"],[0.1111111111111111,\"#46039f\"],[0.2222222222222222,\"#7201a8\"],[0.3333333333333333,\"#9c179e\"],[0.4444444444444444,\"#bd3786\"],[0.5555555555555556,\"#d8576b\"],[0.6666666666666666,\"#ed7953\"],[0.7777777777777778,\"#fb9f3a\"],[0.8888888888888888,\"#fdca26\"],[1.0,\"#f0f921\"]],\"type\":\"heatmap\"}],\"heatmapgl\":[{\"colorbar\":{\"outlinewidth\":0,\"ticks\":\"\"},\"colorscale\":[[0.0,\"#0d0887\"],[0.1111111111111111,\"#46039f\"],[0.2222222222222222,\"#7201a8\"],[0.3333333333333333,\"#9c179e\"],[0.4444444444444444,\"#bd3786\"],[0.5555555555555556,\"#d8576b\"],[0.6666666666666666,\"#ed7953\"],[0.7777777777777778,\"#fb9f3a\"],[0.8888888888888888,\"#fdca26\"],[1.0,\"#f0f921\"]],\"type\":\"heatmapgl\"}],\"histogram\":[{\"marker\":{\"pattern\":{\"fillmode\":\"overlay\",\"size\":10,\"solidity\":0.2}},\"type\":\"histogram\"}],\"histogram2d\":[{\"colorbar\":{\"outlinewidth\":0,\"ticks\":\"\"},\"colorscale\":[[0.0,\"#0d0887\"],[0.1111111111111111,\"#46039f\"],[0.2222222222222222,\"#7201a8\"],[0.3333333333333333,\"#9c179e\"],[0.4444444444444444,\"#bd3786\"],[0.5555555555555556,\"#d8576b\"],[0.6666666666666666,\"#ed7953\"],[0.7777777777777778,\"#fb9f3a\"],[0.8888888888888888,\"#fdca26\"],[1.0,\"#f0f921\"]],\"type\":\"histogram2d\"}],\"histogram2dcontour\":[{\"colorbar\":{\"outlinewidth\":0,\"ticks\":\"\"},\"colorscale\":[[0.0,\"#0d0887\"],[0.1111111111111111,\"#46039f\"],[0.2222222222222222,\"#7201a8\"],[0.3333333333333333,\"#9c179e\"],[0.4444444444444444,\"#bd3786\"],[0.5555555555555556,\"#d8576b\"],[0.6666666666666666,\"#ed7953\"],[0.7777777777777778,\"#fb9f3a\"],[0.8888888888888888,\"#fdca26\"],[1.0,\"#f0f921\"]],\"type\":\"histogram2dcontour\"}],\"mesh3d\":[{\"colorbar\":{\"outlinewidth\":0,\"ticks\":\"\"},\"type\":\"mesh3d\"}],\"parcoords\":[{\"line\":{\"colorbar\":{\"outlinewidth\":0,\"ticks\":\"\"}},\"type\":\"parcoords\"}],\"pie\":[{\"automargin\":true,\"type\":\"pie\"}],\"scatter\":[{\"marker\":{\"colorbar\":{\"outlinewidth\":0,\"ticks\":\"\"}},\"type\":\"scatter\"}],\"scatter3d\":[{\"line\":{\"colorbar\":{\"outlinewidth\":0,\"ticks\":\"\"}},\"marker\":{\"colorbar\":{\"outlinewidth\":0,\"ticks\":\"\"}},\"type\":\"scatter3d\"}],\"scattercarpet\":[{\"marker\":{\"colorbar\":{\"outlinewidth\":0,\"ticks\":\"\"}},\"type\":\"scattercarpet\"}],\"scattergeo\":[{\"marker\":{\"colorbar\":{\"outlinewidth\":0,\"ticks\":\"\"}},\"type\":\"scattergeo\"}],\"scattergl\":[{\"marker\":{\"colorbar\":{\"outlinewidth\":0,\"ticks\":\"\"}},\"type\":\"scattergl\"}],\"scattermapbox\":[{\"marker\":{\"colorbar\":{\"outlinewidth\":0,\"ticks\":\"\"}},\"type\":\"scattermapbox\"}],\"scatterpolar\":[{\"marker\":{\"colorbar\":{\"outlinewidth\":0,\"ticks\":\"\"}},\"type\":\"scatterpolar\"}],\"scatterpolargl\":[{\"marker\":{\"colorbar\":{\"outlinewidth\":0,\"ticks\":\"\"}},\"type\":\"scatterpolargl\"}],\"scatterternary\":[{\"marker\":{\"colorbar\":{\"outlinewidth\":0,\"ticks\":\"\"}},\"type\":\"scatterternary\"}],\"surface\":[{\"colorbar\":{\"outlinewidth\":0,\"ticks\":\"\"},\"colorscale\":[[0.0,\"#0d0887\"],[0.1111111111111111,\"#46039f\"],[0.2222222222222222,\"#7201a8\"],[0.3333333333333333,\"#9c179e\"],[0.4444444444444444,\"#bd3786\"],[0.5555555555555556,\"#d8576b\"],[0.6666666666666666,\"#ed7953\"],[0.7777777777777778,\"#fb9f3a\"],[0.8888888888888888,\"#fdca26\"],[1.0,\"#f0f921\"]],\"type\":\"surface\"}],\"table\":[{\"cells\":{\"fill\":{\"color\":\"#EBF0F8\"},\"line\":{\"color\":\"white\"}},\"header\":{\"fill\":{\"color\":\"#C8D4E3\"},\"line\":{\"color\":\"white\"}},\"type\":\"table\"}]},\"layout\":{\"annotationdefaults\":{\"arrowcolor\":\"#2a3f5f\",\"arrowhead\":0,\"arrowwidth\":1},\"autotypenumbers\":\"strict\",\"coloraxis\":{\"colorbar\":{\"outlinewidth\":0,\"ticks\":\"\"}},\"colorscale\":{\"diverging\":[[0,\"#8e0152\"],[0.1,\"#c51b7d\"],[0.2,\"#de77ae\"],[0.3,\"#f1b6da\"],[0.4,\"#fde0ef\"],[0.5,\"#f7f7f7\"],[0.6,\"#e6f5d0\"],[0.7,\"#b8e186\"],[0.8,\"#7fbc41\"],[0.9,\"#4d9221\"],[1,\"#276419\"]],\"sequential\":[[0.0,\"#0d0887\"],[0.1111111111111111,\"#46039f\"],[0.2222222222222222,\"#7201a8\"],[0.3333333333333333,\"#9c179e\"],[0.4444444444444444,\"#bd3786\"],[0.5555555555555556,\"#d8576b\"],[0.6666666666666666,\"#ed7953\"],[0.7777777777777778,\"#fb9f3a\"],[0.8888888888888888,\"#fdca26\"],[1.0,\"#f0f921\"]],\"sequentialminus\":[[0.0,\"#0d0887\"],[0.1111111111111111,\"#46039f\"],[0.2222222222222222,\"#7201a8\"],[0.3333333333333333,\"#9c179e\"],[0.4444444444444444,\"#bd3786\"],[0.5555555555555556,\"#d8576b\"],[0.6666666666666666,\"#ed7953\"],[0.7777777777777778,\"#fb9f3a\"],[0.8888888888888888,\"#fdca26\"],[1.0,\"#f0f921\"]]},\"colorway\":[\"#636efa\",\"#EF553B\",\"#00cc96\",\"#ab63fa\",\"#FFA15A\",\"#19d3f3\",\"#FF6692\",\"#B6E880\",\"#FF97FF\",\"#FECB52\"],\"font\":{\"color\":\"#2a3f5f\"},\"geo\":{\"bgcolor\":\"white\",\"lakecolor\":\"white\",\"landcolor\":\"#E5ECF6\",\"showlakes\":true,\"showland\":true,\"subunitcolor\":\"white\"},\"hoverlabel\":{\"align\":\"left\"},\"hovermode\":\"closest\",\"mapbox\":{\"style\":\"light\"},\"paper_bgcolor\":\"white\",\"plot_bgcolor\":\"#E5ECF6\",\"polar\":{\"angularaxis\":{\"gridcolor\":\"white\",\"linecolor\":\"white\",\"ticks\":\"\"},\"bgcolor\":\"#E5ECF6\",\"radialaxis\":{\"gridcolor\":\"white\",\"linecolor\":\"white\",\"ticks\":\"\"}},\"scene\":{\"xaxis\":{\"backgroundcolor\":\"#E5ECF6\",\"gridcolor\":\"white\",\"gridwidth\":2,\"linecolor\":\"white\",\"showbackground\":true,\"ticks\":\"\",\"zerolinecolor\":\"white\"},\"yaxis\":{\"backgroundcolor\":\"#E5ECF6\",\"gridcolor\":\"white\",\"gridwidth\":2,\"linecolor\":\"white\",\"showbackground\":true,\"ticks\":\"\",\"zerolinecolor\":\"white\"},\"zaxis\":{\"backgroundcolor\":\"#E5ECF6\",\"gridcolor\":\"white\",\"gridwidth\":2,\"linecolor\":\"white\",\"showbackground\":true,\"ticks\":\"\",\"zerolinecolor\":\"white\"}},\"shapedefaults\":{\"line\":{\"color\":\"#2a3f5f\"}},\"ternary\":{\"aaxis\":{\"gridcolor\":\"white\",\"linecolor\":\"white\",\"ticks\":\"\"},\"baxis\":{\"gridcolor\":\"white\",\"linecolor\":\"white\",\"ticks\":\"\"},\"bgcolor\":\"#E5ECF6\",\"caxis\":{\"gridcolor\":\"white\",\"linecolor\":\"white\",\"ticks\":\"\"}},\"title\":{\"x\":0.05},\"xaxis\":{\"automargin\":true,\"gridcolor\":\"white\",\"linecolor\":\"white\",\"ticks\":\"\",\"title\":{\"standoff\":15},\"zerolinecolor\":\"white\",\"zerolinewidth\":2},\"yaxis\":{\"automargin\":true,\"gridcolor\":\"white\",\"linecolor\":\"white\",\"ticks\":\"\",\"title\":{\"standoff\":15},\"zerolinecolor\":\"white\",\"zerolinewidth\":2}}}},                        {\"responsive\": true}                    ).then(function(){\n",
       "                            \n",
       "var gd = document.getElementById('da108365-d6c7-49fb-8cee-e3a573c4f59d');\n",
       "var x = new MutationObserver(function (mutations, observer) {{\n",
       "        var display = window.getComputedStyle(gd).display;\n",
       "        if (!display || display === 'none') {{\n",
       "            console.log([gd, 'removed!']);\n",
       "            Plotly.purge(gd);\n",
       "            observer.disconnect();\n",
       "        }}\n",
       "}});\n",
       "\n",
       "// Listen for the removal of the full notebook cells\n",
       "var notebookContainer = gd.closest('#notebook-container');\n",
       "if (notebookContainer) {{\n",
       "    x.observe(notebookContainer, {childList: true});\n",
       "}}\n",
       "\n",
       "// Listen for the clearing of the current output cell\n",
       "var outputEl = gd.closest('.output');\n",
       "if (outputEl) {{\n",
       "    x.observe(outputEl, {childList: true});\n",
       "}}\n",
       "\n",
       "                        })                };                });            </script>        </div>"
      ]
     },
     "metadata": {},
     "output_type": "display_data"
    }
   ],
   "source": [
    "df = data2betested\n",
    "fig = px.treemap(df, path=[px.Constant(\"Todesursachen nach Geschlecht\"), 'Geschlecht', 'TodesursacheSpezLang', 'StichtagDatJahr'], values='AnzSterWir',\n",
    "                color='AnzSterWir', hover_data=['TodesursacheSpezLang'],\n",
    "                color_continuous_scale='blues')\n",
    "                #color_continuous_midpoint=np.average(df['AnzBestWir'], weights=df['AnzBestWir']))\n",
    "fig.update_traces(root_color=\"lightgrey\")\n",
    "fig.update_layout(margin = dict(t=50, l=25, r=250, b=25))\n",
    "fig.show()"
   ]
  },
  {
   "cell_type": "code",
   "execution_count": 63,
   "metadata": {},
   "outputs": [],
   "source": [
    "fig.write_html(\"C:/Users/sszsim/Downloads/todesursachen_geschlecht.html\")"
   ]
  },
  {
   "cell_type": "markdown",
   "metadata": {},
   "source": [
    "### Einfache Visualisierungen zur Plausi"
   ]
  },
  {
   "cell_type": "markdown",
   "metadata": {},
   "source": [
    "Exploriere die Daten mit Pivottable.JS"
   ]
  },
  {
   "cell_type": "code",
   "execution_count": 24,
   "metadata": {},
   "outputs": [
    {
     "data": {
      "text/html": [
       "\n",
       "        <iframe\n",
       "            width=\"100%\"\n",
       "            height=\"500\"\n",
       "            src=\"pivottablejs.html\"\n",
       "            frameborder=\"0\"\n",
       "            allowfullscreen\n",
       "        ></iframe>\n",
       "        "
      ],
      "text/plain": [
       "<IPython.lib.display.IFrame at 0x1d29818d220>"
      ]
     },
     "execution_count": 24,
     "metadata": {},
     "output_type": "execute_result"
    }
   ],
   "source": [
    "from pivottablejs import pivot_ui\n",
    "\n",
    "pivot_ui(data2betested)"
   ]
  },
  {
   "cell_type": "markdown",
   "metadata": {},
   "source": [
    "Liniendiagramm \n",
    "[Link zur Doku](https://altair-viz.github.io/gallery/multiline_highlight.html)"
   ]
  },
  {
   "cell_type": "code",
   "execution_count": 25,
   "metadata": {},
   "outputs": [],
   "source": [
    "mySelYears = data2betested[(data2betested.StichtagDatJahr == \"2019\")]\n"
   ]
  },
  {
   "cell_type": "code",
   "execution_count": 26,
   "metadata": {},
   "outputs": [
    {
     "data": {
      "text/html": [
       "<div>\n",
       "<style scoped>\n",
       "    .dataframe tbody tr th:only-of-type {\n",
       "        vertical-align: middle;\n",
       "    }\n",
       "\n",
       "    .dataframe tbody tr th {\n",
       "        vertical-align: top;\n",
       "    }\n",
       "\n",
       "    .dataframe thead th {\n",
       "        text-align: right;\n",
       "    }\n",
       "</style>\n",
       "<table border=\"1\" class=\"dataframe\">\n",
       "  <thead>\n",
       "    <tr style=\"text-align: right;\">\n",
       "      <th></th>\n",
       "      <th></th>\n",
       "      <th></th>\n",
       "      <th>AnzSterWir</th>\n",
       "    </tr>\n",
       "    <tr>\n",
       "      <th>TodesursacheSpezSort</th>\n",
       "      <th>TodesursacheSpezLang</th>\n",
       "      <th>AlterVSort_Nam</th>\n",
       "      <th></th>\n",
       "    </tr>\n",
       "  </thead>\n",
       "  <tbody>\n",
       "    <tr>\n",
       "      <th rowspan=\"5\" valign=\"top\">200</th>\n",
       "      <th rowspan=\"5\" valign=\"top\">Krebskrankheiten</th>\n",
       "      <th>0 – 14</th>\n",
       "      <td>2</td>\n",
       "    </tr>\n",
       "    <tr>\n",
       "      <th>15 – 44</th>\n",
       "      <td>14</td>\n",
       "    </tr>\n",
       "    <tr>\n",
       "      <th>45 – 64</th>\n",
       "      <td>153</td>\n",
       "    </tr>\n",
       "    <tr>\n",
       "      <th>65 – 84</th>\n",
       "      <td>351</td>\n",
       "    </tr>\n",
       "    <tr>\n",
       "      <th>85 und älter</th>\n",
       "      <td>175</td>\n",
       "    </tr>\n",
       "    <tr>\n",
       "      <th rowspan=\"2\" valign=\"top\">400</th>\n",
       "      <th rowspan=\"2\" valign=\"top\">Demenz</th>\n",
       "      <th>65 – 84</th>\n",
       "      <td>87</td>\n",
       "    </tr>\n",
       "    <tr>\n",
       "      <th>85 und älter</th>\n",
       "      <td>309</td>\n",
       "    </tr>\n",
       "    <tr>\n",
       "      <th rowspan=\"4\" valign=\"top\">500</th>\n",
       "      <th rowspan=\"4\" valign=\"top\">Kreislaufsystem</th>\n",
       "      <th>15 – 44</th>\n",
       "      <td>6</td>\n",
       "    </tr>\n",
       "    <tr>\n",
       "      <th>45 – 64</th>\n",
       "      <td>40</td>\n",
       "    </tr>\n",
       "    <tr>\n",
       "      <th>65 – 84</th>\n",
       "      <td>288</td>\n",
       "    </tr>\n",
       "    <tr>\n",
       "      <th>85 und älter</th>\n",
       "      <td>592</td>\n",
       "    </tr>\n",
       "    <tr>\n",
       "      <th rowspan=\"4\" valign=\"top\">600</th>\n",
       "      <th rowspan=\"4\" valign=\"top\">Atmungsorgane</th>\n",
       "      <th>15 – 44</th>\n",
       "      <td>2</td>\n",
       "    </tr>\n",
       "    <tr>\n",
       "      <th>45 – 64</th>\n",
       "      <td>13</td>\n",
       "    </tr>\n",
       "    <tr>\n",
       "      <th>65 – 84</th>\n",
       "      <td>86</td>\n",
       "    </tr>\n",
       "    <tr>\n",
       "      <th>85 und älter</th>\n",
       "      <td>103</td>\n",
       "    </tr>\n",
       "    <tr>\n",
       "      <th rowspan=\"4\" valign=\"top\">1100</th>\n",
       "      <th rowspan=\"4\" valign=\"top\">Unfälle und Gewalteinwirkungen</th>\n",
       "      <th>15 – 44</th>\n",
       "      <td>42</td>\n",
       "    </tr>\n",
       "    <tr>\n",
       "      <th>45 – 64</th>\n",
       "      <td>44</td>\n",
       "    </tr>\n",
       "    <tr>\n",
       "      <th>65 – 84</th>\n",
       "      <td>48</td>\n",
       "    </tr>\n",
       "    <tr>\n",
       "      <th>85 und älter</th>\n",
       "      <td>91</td>\n",
       "    </tr>\n",
       "    <tr>\n",
       "      <th rowspan=\"5\" valign=\"top\">1200</th>\n",
       "      <th rowspan=\"5\" valign=\"top\">Alle übrigen Todesursachen</th>\n",
       "      <th>0 – 14</th>\n",
       "      <td>3</td>\n",
       "    </tr>\n",
       "    <tr>\n",
       "      <th>15 – 44</th>\n",
       "      <td>17</td>\n",
       "    </tr>\n",
       "    <tr>\n",
       "      <th>45 – 64</th>\n",
       "      <td>83</td>\n",
       "    </tr>\n",
       "    <tr>\n",
       "      <th>65 – 84</th>\n",
       "      <td>290</td>\n",
       "    </tr>\n",
       "    <tr>\n",
       "      <th>85 und älter</th>\n",
       "      <td>305</td>\n",
       "    </tr>\n",
       "  </tbody>\n",
       "</table>\n",
       "</div>"
      ],
      "text/plain": [
       "                                                                    AnzSterWir\n",
       "TodesursacheSpezSort TodesursacheSpezLang           AlterVSort_Nam            \n",
       "200                  Krebskrankheiten               0 – 14                   2\n",
       "                                                    15 – 44                 14\n",
       "                                                    45 – 64                153\n",
       "                                                    65 – 84                351\n",
       "                                                    85 und älter           175\n",
       "400                  Demenz                         65 – 84                 87\n",
       "                                                    85 und älter           309\n",
       "500                  Kreislaufsystem                15 – 44                  6\n",
       "                                                    45 – 64                 40\n",
       "                                                    65 – 84                288\n",
       "                                                    85 und älter           592\n",
       "600                  Atmungsorgane                  15 – 44                  2\n",
       "                                                    45 – 64                 13\n",
       "                                                    65 – 84                 86\n",
       "                                                    85 und älter           103\n",
       "1100                 Unfälle und Gewalteinwirkungen 15 – 44                 42\n",
       "                                                    45 – 64                 44\n",
       "                                                    65 – 84                 48\n",
       "                                                    85 und älter            91\n",
       "1200                 Alle übrigen Todesursachen     0 – 14                   3\n",
       "                                                    15 – 44                 17\n",
       "                                                    45 – 64                 83\n",
       "                                                    65 – 84                290\n",
       "                                                    85 und älter           305"
      ]
     },
     "execution_count": 26,
     "metadata": {},
     "output_type": "execute_result"
    }
   ],
   "source": [
    "#myGraph= mySelYears[['TodesursacheSpezSort','TodesursacheSpezLang', 'AlterVSort_Nam', 'AnzSterWir']]\n",
    "myGraph= mySelYears.groupby(['TodesursacheSpezSort','TodesursacheSpezLang', 'AlterVSort_Nam'])[['AnzSterWir']].sum()\n",
    "myGraph\n"
   ]
  },
  {
   "cell_type": "code",
   "execution_count": 27,
   "metadata": {},
   "outputs": [
    {
     "data": {
      "text/plain": [
       "AnzSterWir    int64\n",
       "dtype: object"
      ]
     },
     "execution_count": 27,
     "metadata": {},
     "output_type": "execute_result"
    }
   ],
   "source": [
    "myGraph.dtypes"
   ]
  },
  {
   "cell_type": "code",
   "execution_count": 28,
   "metadata": {},
   "outputs": [
    {
     "ename": "ValueError",
     "evalue": "Hierarchical indices not supported",
     "output_type": "error",
     "traceback": [
      "\u001b[1;31m---------------------------------------------------------------------------\u001b[0m",
      "\u001b[1;31mValueError\u001b[0m                                Traceback (most recent call last)",
      "\u001b[1;32mC:\\ProgramData\\Anaconda3\\envs\\gis_env\\lib\\site-packages\\altair\\vegalite\\v4\\api.py\u001b[0m in \u001b[0;36mto_dict\u001b[1;34m(self, *args, **kwargs)\u001b[0m\n\u001b[0;32m    361\u001b[0m         \u001b[0mcopy\u001b[0m \u001b[1;33m=\u001b[0m \u001b[0mself\u001b[0m\u001b[1;33m.\u001b[0m\u001b[0mcopy\u001b[0m\u001b[1;33m(\u001b[0m\u001b[0mdeep\u001b[0m\u001b[1;33m=\u001b[0m\u001b[1;32mFalse\u001b[0m\u001b[1;33m)\u001b[0m\u001b[1;33m\u001b[0m\u001b[1;33m\u001b[0m\u001b[0m\n\u001b[0;32m    362\u001b[0m         \u001b[0moriginal_data\u001b[0m \u001b[1;33m=\u001b[0m \u001b[0mgetattr\u001b[0m\u001b[1;33m(\u001b[0m\u001b[0mcopy\u001b[0m\u001b[1;33m,\u001b[0m \u001b[1;34m\"data\"\u001b[0m\u001b[1;33m,\u001b[0m \u001b[0mUndefined\u001b[0m\u001b[1;33m)\u001b[0m\u001b[1;33m\u001b[0m\u001b[1;33m\u001b[0m\u001b[0m\n\u001b[1;32m--> 363\u001b[1;33m         \u001b[0mcopy\u001b[0m\u001b[1;33m.\u001b[0m\u001b[0mdata\u001b[0m \u001b[1;33m=\u001b[0m \u001b[0m_prepare_data\u001b[0m\u001b[1;33m(\u001b[0m\u001b[0moriginal_data\u001b[0m\u001b[1;33m,\u001b[0m \u001b[0mcontext\u001b[0m\u001b[1;33m)\u001b[0m\u001b[1;33m\u001b[0m\u001b[1;33m\u001b[0m\u001b[0m\n\u001b[0m\u001b[0;32m    364\u001b[0m \u001b[1;33m\u001b[0m\u001b[0m\n\u001b[0;32m    365\u001b[0m         \u001b[1;32mif\u001b[0m \u001b[0moriginal_data\u001b[0m \u001b[1;32mis\u001b[0m \u001b[1;32mnot\u001b[0m \u001b[0mUndefined\u001b[0m\u001b[1;33m:\u001b[0m\u001b[1;33m\u001b[0m\u001b[1;33m\u001b[0m\u001b[0m\n",
      "\u001b[1;32mC:\\ProgramData\\Anaconda3\\envs\\gis_env\\lib\\site-packages\\altair\\vegalite\\v4\\api.py\u001b[0m in \u001b[0;36m_prepare_data\u001b[1;34m(data, context)\u001b[0m\n\u001b[0;32m     82\u001b[0m     \u001b[1;31m# convert dataframes  or objects with __geo_interface__ to dict\u001b[0m\u001b[1;33m\u001b[0m\u001b[1;33m\u001b[0m\u001b[0m\n\u001b[0;32m     83\u001b[0m     \u001b[1;32mif\u001b[0m \u001b[0misinstance\u001b[0m\u001b[1;33m(\u001b[0m\u001b[0mdata\u001b[0m\u001b[1;33m,\u001b[0m \u001b[0mpd\u001b[0m\u001b[1;33m.\u001b[0m\u001b[0mDataFrame\u001b[0m\u001b[1;33m)\u001b[0m \u001b[1;32mor\u001b[0m \u001b[0mhasattr\u001b[0m\u001b[1;33m(\u001b[0m\u001b[0mdata\u001b[0m\u001b[1;33m,\u001b[0m \u001b[1;34m\"__geo_interface__\"\u001b[0m\u001b[1;33m)\u001b[0m\u001b[1;33m:\u001b[0m\u001b[1;33m\u001b[0m\u001b[1;33m\u001b[0m\u001b[0m\n\u001b[1;32m---> 84\u001b[1;33m         \u001b[0mdata\u001b[0m \u001b[1;33m=\u001b[0m \u001b[0m_pipe\u001b[0m\u001b[1;33m(\u001b[0m\u001b[0mdata\u001b[0m\u001b[1;33m,\u001b[0m \u001b[0mdata_transformers\u001b[0m\u001b[1;33m.\u001b[0m\u001b[0mget\u001b[0m\u001b[1;33m(\u001b[0m\u001b[1;33m)\u001b[0m\u001b[1;33m)\u001b[0m\u001b[1;33m\u001b[0m\u001b[1;33m\u001b[0m\u001b[0m\n\u001b[0m\u001b[0;32m     85\u001b[0m \u001b[1;33m\u001b[0m\u001b[0m\n\u001b[0;32m     86\u001b[0m     \u001b[1;31m# convert string input to a URLData\u001b[0m\u001b[1;33m\u001b[0m\u001b[1;33m\u001b[0m\u001b[0m\n",
      "\u001b[1;32mC:\\ProgramData\\Anaconda3\\envs\\gis_env\\lib\\site-packages\\toolz\\functoolz.py\u001b[0m in \u001b[0;36mpipe\u001b[1;34m(data, *funcs)\u001b[0m\n\u001b[0;32m    625\u001b[0m     \"\"\"\n\u001b[0;32m    626\u001b[0m     \u001b[1;32mfor\u001b[0m \u001b[0mfunc\u001b[0m \u001b[1;32min\u001b[0m \u001b[0mfuncs\u001b[0m\u001b[1;33m:\u001b[0m\u001b[1;33m\u001b[0m\u001b[1;33m\u001b[0m\u001b[0m\n\u001b[1;32m--> 627\u001b[1;33m         \u001b[0mdata\u001b[0m \u001b[1;33m=\u001b[0m \u001b[0mfunc\u001b[0m\u001b[1;33m(\u001b[0m\u001b[0mdata\u001b[0m\u001b[1;33m)\u001b[0m\u001b[1;33m\u001b[0m\u001b[1;33m\u001b[0m\u001b[0m\n\u001b[0m\u001b[0;32m    628\u001b[0m     \u001b[1;32mreturn\u001b[0m \u001b[0mdata\u001b[0m\u001b[1;33m\u001b[0m\u001b[1;33m\u001b[0m\u001b[0m\n\u001b[0;32m    629\u001b[0m \u001b[1;33m\u001b[0m\u001b[0m\n",
      "\u001b[1;32mC:\\ProgramData\\Anaconda3\\envs\\gis_env\\lib\\site-packages\\toolz\\functoolz.py\u001b[0m in \u001b[0;36m__call__\u001b[1;34m(self, *args, **kwargs)\u001b[0m\n\u001b[0;32m    301\u001b[0m     \u001b[1;32mdef\u001b[0m \u001b[0m__call__\u001b[0m\u001b[1;33m(\u001b[0m\u001b[0mself\u001b[0m\u001b[1;33m,\u001b[0m \u001b[1;33m*\u001b[0m\u001b[0margs\u001b[0m\u001b[1;33m,\u001b[0m \u001b[1;33m**\u001b[0m\u001b[0mkwargs\u001b[0m\u001b[1;33m)\u001b[0m\u001b[1;33m:\u001b[0m\u001b[1;33m\u001b[0m\u001b[1;33m\u001b[0m\u001b[0m\n\u001b[0;32m    302\u001b[0m         \u001b[1;32mtry\u001b[0m\u001b[1;33m:\u001b[0m\u001b[1;33m\u001b[0m\u001b[1;33m\u001b[0m\u001b[0m\n\u001b[1;32m--> 303\u001b[1;33m             \u001b[1;32mreturn\u001b[0m \u001b[0mself\u001b[0m\u001b[1;33m.\u001b[0m\u001b[0m_partial\u001b[0m\u001b[1;33m(\u001b[0m\u001b[1;33m*\u001b[0m\u001b[0margs\u001b[0m\u001b[1;33m,\u001b[0m \u001b[1;33m**\u001b[0m\u001b[0mkwargs\u001b[0m\u001b[1;33m)\u001b[0m\u001b[1;33m\u001b[0m\u001b[1;33m\u001b[0m\u001b[0m\n\u001b[0m\u001b[0;32m    304\u001b[0m         \u001b[1;32mexcept\u001b[0m \u001b[0mTypeError\u001b[0m \u001b[1;32mas\u001b[0m \u001b[0mexc\u001b[0m\u001b[1;33m:\u001b[0m\u001b[1;33m\u001b[0m\u001b[1;33m\u001b[0m\u001b[0m\n\u001b[0;32m    305\u001b[0m             \u001b[1;32mif\u001b[0m \u001b[0mself\u001b[0m\u001b[1;33m.\u001b[0m\u001b[0m_should_curry\u001b[0m\u001b[1;33m(\u001b[0m\u001b[0margs\u001b[0m\u001b[1;33m,\u001b[0m \u001b[0mkwargs\u001b[0m\u001b[1;33m,\u001b[0m \u001b[0mexc\u001b[0m\u001b[1;33m)\u001b[0m\u001b[1;33m:\u001b[0m\u001b[1;33m\u001b[0m\u001b[1;33m\u001b[0m\u001b[0m\n",
      "\u001b[1;32mC:\\ProgramData\\Anaconda3\\envs\\gis_env\\lib\\site-packages\\altair\\vegalite\\data.py\u001b[0m in \u001b[0;36mdefault_data_transformer\u001b[1;34m(data, max_rows)\u001b[0m\n\u001b[0;32m     17\u001b[0m \u001b[1;33m@\u001b[0m\u001b[0mcurried\u001b[0m\u001b[1;33m.\u001b[0m\u001b[0mcurry\u001b[0m\u001b[1;33m\u001b[0m\u001b[1;33m\u001b[0m\u001b[0m\n\u001b[0;32m     18\u001b[0m \u001b[1;32mdef\u001b[0m \u001b[0mdefault_data_transformer\u001b[0m\u001b[1;33m(\u001b[0m\u001b[0mdata\u001b[0m\u001b[1;33m,\u001b[0m \u001b[0mmax_rows\u001b[0m\u001b[1;33m=\u001b[0m\u001b[1;36m5000\u001b[0m\u001b[1;33m)\u001b[0m\u001b[1;33m:\u001b[0m\u001b[1;33m\u001b[0m\u001b[1;33m\u001b[0m\u001b[0m\n\u001b[1;32m---> 19\u001b[1;33m     \u001b[1;32mreturn\u001b[0m \u001b[0mcurried\u001b[0m\u001b[1;33m.\u001b[0m\u001b[0mpipe\u001b[0m\u001b[1;33m(\u001b[0m\u001b[0mdata\u001b[0m\u001b[1;33m,\u001b[0m \u001b[0mlimit_rows\u001b[0m\u001b[1;33m(\u001b[0m\u001b[0mmax_rows\u001b[0m\u001b[1;33m=\u001b[0m\u001b[0mmax_rows\u001b[0m\u001b[1;33m)\u001b[0m\u001b[1;33m,\u001b[0m \u001b[0mto_values\u001b[0m\u001b[1;33m)\u001b[0m\u001b[1;33m\u001b[0m\u001b[1;33m\u001b[0m\u001b[0m\n\u001b[0m\u001b[0;32m     20\u001b[0m \u001b[1;33m\u001b[0m\u001b[0m\n\u001b[0;32m     21\u001b[0m \u001b[1;33m\u001b[0m\u001b[0m\n",
      "\u001b[1;32mC:\\ProgramData\\Anaconda3\\envs\\gis_env\\lib\\site-packages\\toolz\\functoolz.py\u001b[0m in \u001b[0;36mpipe\u001b[1;34m(data, *funcs)\u001b[0m\n\u001b[0;32m    625\u001b[0m     \"\"\"\n\u001b[0;32m    626\u001b[0m     \u001b[1;32mfor\u001b[0m \u001b[0mfunc\u001b[0m \u001b[1;32min\u001b[0m \u001b[0mfuncs\u001b[0m\u001b[1;33m:\u001b[0m\u001b[1;33m\u001b[0m\u001b[1;33m\u001b[0m\u001b[0m\n\u001b[1;32m--> 627\u001b[1;33m         \u001b[0mdata\u001b[0m \u001b[1;33m=\u001b[0m \u001b[0mfunc\u001b[0m\u001b[1;33m(\u001b[0m\u001b[0mdata\u001b[0m\u001b[1;33m)\u001b[0m\u001b[1;33m\u001b[0m\u001b[1;33m\u001b[0m\u001b[0m\n\u001b[0m\u001b[0;32m    628\u001b[0m     \u001b[1;32mreturn\u001b[0m \u001b[0mdata\u001b[0m\u001b[1;33m\u001b[0m\u001b[1;33m\u001b[0m\u001b[0m\n\u001b[0;32m    629\u001b[0m \u001b[1;33m\u001b[0m\u001b[0m\n",
      "\u001b[1;32mC:\\ProgramData\\Anaconda3\\envs\\gis_env\\lib\\site-packages\\toolz\\functoolz.py\u001b[0m in \u001b[0;36m__call__\u001b[1;34m(self, *args, **kwargs)\u001b[0m\n\u001b[0;32m    301\u001b[0m     \u001b[1;32mdef\u001b[0m \u001b[0m__call__\u001b[0m\u001b[1;33m(\u001b[0m\u001b[0mself\u001b[0m\u001b[1;33m,\u001b[0m \u001b[1;33m*\u001b[0m\u001b[0margs\u001b[0m\u001b[1;33m,\u001b[0m \u001b[1;33m**\u001b[0m\u001b[0mkwargs\u001b[0m\u001b[1;33m)\u001b[0m\u001b[1;33m:\u001b[0m\u001b[1;33m\u001b[0m\u001b[1;33m\u001b[0m\u001b[0m\n\u001b[0;32m    302\u001b[0m         \u001b[1;32mtry\u001b[0m\u001b[1;33m:\u001b[0m\u001b[1;33m\u001b[0m\u001b[1;33m\u001b[0m\u001b[0m\n\u001b[1;32m--> 303\u001b[1;33m             \u001b[1;32mreturn\u001b[0m \u001b[0mself\u001b[0m\u001b[1;33m.\u001b[0m\u001b[0m_partial\u001b[0m\u001b[1;33m(\u001b[0m\u001b[1;33m*\u001b[0m\u001b[0margs\u001b[0m\u001b[1;33m,\u001b[0m \u001b[1;33m**\u001b[0m\u001b[0mkwargs\u001b[0m\u001b[1;33m)\u001b[0m\u001b[1;33m\u001b[0m\u001b[1;33m\u001b[0m\u001b[0m\n\u001b[0m\u001b[0;32m    304\u001b[0m         \u001b[1;32mexcept\u001b[0m \u001b[0mTypeError\u001b[0m \u001b[1;32mas\u001b[0m \u001b[0mexc\u001b[0m\u001b[1;33m:\u001b[0m\u001b[1;33m\u001b[0m\u001b[1;33m\u001b[0m\u001b[0m\n\u001b[0;32m    305\u001b[0m             \u001b[1;32mif\u001b[0m \u001b[0mself\u001b[0m\u001b[1;33m.\u001b[0m\u001b[0m_should_curry\u001b[0m\u001b[1;33m(\u001b[0m\u001b[0margs\u001b[0m\u001b[1;33m,\u001b[0m \u001b[0mkwargs\u001b[0m\u001b[1;33m,\u001b[0m \u001b[0mexc\u001b[0m\u001b[1;33m)\u001b[0m\u001b[1;33m:\u001b[0m\u001b[1;33m\u001b[0m\u001b[1;33m\u001b[0m\u001b[0m\n",
      "\u001b[1;32mC:\\ProgramData\\Anaconda3\\envs\\gis_env\\lib\\site-packages\\altair\\utils\\data.py\u001b[0m in \u001b[0;36mto_values\u001b[1;34m(data)\u001b[0m\n\u001b[0;32m    147\u001b[0m         \u001b[1;32mreturn\u001b[0m \u001b[1;33m{\u001b[0m\u001b[1;34m\"values\"\u001b[0m\u001b[1;33m:\u001b[0m \u001b[0mdata\u001b[0m\u001b[1;33m}\u001b[0m\u001b[1;33m\u001b[0m\u001b[1;33m\u001b[0m\u001b[0m\n\u001b[0;32m    148\u001b[0m     \u001b[1;32melif\u001b[0m \u001b[0misinstance\u001b[0m\u001b[1;33m(\u001b[0m\u001b[0mdata\u001b[0m\u001b[1;33m,\u001b[0m \u001b[0mpd\u001b[0m\u001b[1;33m.\u001b[0m\u001b[0mDataFrame\u001b[0m\u001b[1;33m)\u001b[0m\u001b[1;33m:\u001b[0m\u001b[1;33m\u001b[0m\u001b[1;33m\u001b[0m\u001b[0m\n\u001b[1;32m--> 149\u001b[1;33m         \u001b[0mdata\u001b[0m \u001b[1;33m=\u001b[0m \u001b[0msanitize_dataframe\u001b[0m\u001b[1;33m(\u001b[0m\u001b[0mdata\u001b[0m\u001b[1;33m)\u001b[0m\u001b[1;33m\u001b[0m\u001b[1;33m\u001b[0m\u001b[0m\n\u001b[0m\u001b[0;32m    150\u001b[0m         \u001b[1;32mreturn\u001b[0m \u001b[1;33m{\u001b[0m\u001b[1;34m\"values\"\u001b[0m\u001b[1;33m:\u001b[0m \u001b[0mdata\u001b[0m\u001b[1;33m.\u001b[0m\u001b[0mto_dict\u001b[0m\u001b[1;33m(\u001b[0m\u001b[0morient\u001b[0m\u001b[1;33m=\u001b[0m\u001b[1;34m\"records\"\u001b[0m\u001b[1;33m)\u001b[0m\u001b[1;33m}\u001b[0m\u001b[1;33m\u001b[0m\u001b[1;33m\u001b[0m\u001b[0m\n\u001b[0;32m    151\u001b[0m     \u001b[1;32melif\u001b[0m \u001b[0misinstance\u001b[0m\u001b[1;33m(\u001b[0m\u001b[0mdata\u001b[0m\u001b[1;33m,\u001b[0m \u001b[0mdict\u001b[0m\u001b[1;33m)\u001b[0m\u001b[1;33m:\u001b[0m\u001b[1;33m\u001b[0m\u001b[1;33m\u001b[0m\u001b[0m\n",
      "\u001b[1;32mC:\\ProgramData\\Anaconda3\\envs\\gis_env\\lib\\site-packages\\altair\\utils\\core.py\u001b[0m in \u001b[0;36msanitize_dataframe\u001b[1;34m(df)\u001b[0m\n\u001b[0;32m    271\u001b[0m \u001b[1;33m\u001b[0m\u001b[0m\n\u001b[0;32m    272\u001b[0m     \u001b[1;32mif\u001b[0m \u001b[0misinstance\u001b[0m\u001b[1;33m(\u001b[0m\u001b[0mdf\u001b[0m\u001b[1;33m.\u001b[0m\u001b[0mindex\u001b[0m\u001b[1;33m,\u001b[0m \u001b[0mpd\u001b[0m\u001b[1;33m.\u001b[0m\u001b[0mMultiIndex\u001b[0m\u001b[1;33m)\u001b[0m\u001b[1;33m:\u001b[0m\u001b[1;33m\u001b[0m\u001b[1;33m\u001b[0m\u001b[0m\n\u001b[1;32m--> 273\u001b[1;33m         \u001b[1;32mraise\u001b[0m \u001b[0mValueError\u001b[0m\u001b[1;33m(\u001b[0m\u001b[1;34m\"Hierarchical indices not supported\"\u001b[0m\u001b[1;33m)\u001b[0m\u001b[1;33m\u001b[0m\u001b[1;33m\u001b[0m\u001b[0m\n\u001b[0m\u001b[0;32m    274\u001b[0m     \u001b[1;32mif\u001b[0m \u001b[0misinstance\u001b[0m\u001b[1;33m(\u001b[0m\u001b[0mdf\u001b[0m\u001b[1;33m.\u001b[0m\u001b[0mcolumns\u001b[0m\u001b[1;33m,\u001b[0m \u001b[0mpd\u001b[0m\u001b[1;33m.\u001b[0m\u001b[0mMultiIndex\u001b[0m\u001b[1;33m)\u001b[0m\u001b[1;33m:\u001b[0m\u001b[1;33m\u001b[0m\u001b[1;33m\u001b[0m\u001b[0m\n\u001b[0;32m    275\u001b[0m         \u001b[1;32mraise\u001b[0m \u001b[0mValueError\u001b[0m\u001b[1;33m(\u001b[0m\u001b[1;34m\"Hierarchical indices not supported\"\u001b[0m\u001b[1;33m)\u001b[0m\u001b[1;33m\u001b[0m\u001b[1;33m\u001b[0m\u001b[0m\n",
      "\u001b[1;31mValueError\u001b[0m: Hierarchical indices not supported"
     ]
    },
    {
     "data": {
      "text/plain": [
       "alt.LayerChart(...)"
      ]
     },
     "execution_count": 28,
     "metadata": {},
     "output_type": "execute_result"
    }
   ],
   "source": [
    "# df_statzonen = df_statzonen[(df_statzonen.knr>0) & (df_statzonen.qname!=\"Hirslanden\")]\n",
    "#aktuellesJahr[[aktuellesJahr.KreisSort =7]])\n",
    "\n",
    "highlight = alt.selection(type='single', on='mouseover',\n",
    "                          fields=['AlterVSort_Nam'], nearest=True)\n",
    "#x='date:StichtagDatJahr',\n",
    "base = alt.Chart(myGraph).encode(\n",
    "    x='AlterVSort_Nam',\n",
    "    y='AnzSterWir',\n",
    "    color='TodesursacheSpezLang'\n",
    ")\n",
    "\n",
    "points = base.mark_circle().encode(\n",
    "    opacity=alt.value(0.75)\n",
    ").add_selection(\n",
    "    highlight\n",
    ").properties(\n",
    "    width=700 , height=500\n",
    ")\n",
    "lines = base.mark_line().encode(\n",
    "    size=alt.condition(~highlight, alt.value(1.5), alt.value(4))\n",
    ").interactive()\n",
    "\n",
    "points + lines"
   ]
  },
  {
   "cell_type": "code",
   "execution_count": 29,
   "metadata": {},
   "outputs": [
    {
     "ename": "ValueError",
     "evalue": "Hierarchical indices not supported",
     "output_type": "error",
     "traceback": [
      "\u001b[1;31m---------------------------------------------------------------------------\u001b[0m",
      "\u001b[1;31mValueError\u001b[0m                                Traceback (most recent call last)",
      "\u001b[1;32mC:\\ProgramData\\Anaconda3\\envs\\gis_env\\lib\\site-packages\\altair\\vegalite\\v4\\api.py\u001b[0m in \u001b[0;36mto_dict\u001b[1;34m(self, *args, **kwargs)\u001b[0m\n\u001b[0;32m    361\u001b[0m         \u001b[0mcopy\u001b[0m \u001b[1;33m=\u001b[0m \u001b[0mself\u001b[0m\u001b[1;33m.\u001b[0m\u001b[0mcopy\u001b[0m\u001b[1;33m(\u001b[0m\u001b[0mdeep\u001b[0m\u001b[1;33m=\u001b[0m\u001b[1;32mFalse\u001b[0m\u001b[1;33m)\u001b[0m\u001b[1;33m\u001b[0m\u001b[1;33m\u001b[0m\u001b[0m\n\u001b[0;32m    362\u001b[0m         \u001b[0moriginal_data\u001b[0m \u001b[1;33m=\u001b[0m \u001b[0mgetattr\u001b[0m\u001b[1;33m(\u001b[0m\u001b[0mcopy\u001b[0m\u001b[1;33m,\u001b[0m \u001b[1;34m\"data\"\u001b[0m\u001b[1;33m,\u001b[0m \u001b[0mUndefined\u001b[0m\u001b[1;33m)\u001b[0m\u001b[1;33m\u001b[0m\u001b[1;33m\u001b[0m\u001b[0m\n\u001b[1;32m--> 363\u001b[1;33m         \u001b[0mcopy\u001b[0m\u001b[1;33m.\u001b[0m\u001b[0mdata\u001b[0m \u001b[1;33m=\u001b[0m \u001b[0m_prepare_data\u001b[0m\u001b[1;33m(\u001b[0m\u001b[0moriginal_data\u001b[0m\u001b[1;33m,\u001b[0m \u001b[0mcontext\u001b[0m\u001b[1;33m)\u001b[0m\u001b[1;33m\u001b[0m\u001b[1;33m\u001b[0m\u001b[0m\n\u001b[0m\u001b[0;32m    364\u001b[0m \u001b[1;33m\u001b[0m\u001b[0m\n\u001b[0;32m    365\u001b[0m         \u001b[1;32mif\u001b[0m \u001b[0moriginal_data\u001b[0m \u001b[1;32mis\u001b[0m \u001b[1;32mnot\u001b[0m \u001b[0mUndefined\u001b[0m\u001b[1;33m:\u001b[0m\u001b[1;33m\u001b[0m\u001b[1;33m\u001b[0m\u001b[0m\n",
      "\u001b[1;32mC:\\ProgramData\\Anaconda3\\envs\\gis_env\\lib\\site-packages\\altair\\vegalite\\v4\\api.py\u001b[0m in \u001b[0;36m_prepare_data\u001b[1;34m(data, context)\u001b[0m\n\u001b[0;32m     82\u001b[0m     \u001b[1;31m# convert dataframes  or objects with __geo_interface__ to dict\u001b[0m\u001b[1;33m\u001b[0m\u001b[1;33m\u001b[0m\u001b[0m\n\u001b[0;32m     83\u001b[0m     \u001b[1;32mif\u001b[0m \u001b[0misinstance\u001b[0m\u001b[1;33m(\u001b[0m\u001b[0mdata\u001b[0m\u001b[1;33m,\u001b[0m \u001b[0mpd\u001b[0m\u001b[1;33m.\u001b[0m\u001b[0mDataFrame\u001b[0m\u001b[1;33m)\u001b[0m \u001b[1;32mor\u001b[0m \u001b[0mhasattr\u001b[0m\u001b[1;33m(\u001b[0m\u001b[0mdata\u001b[0m\u001b[1;33m,\u001b[0m \u001b[1;34m\"__geo_interface__\"\u001b[0m\u001b[1;33m)\u001b[0m\u001b[1;33m:\u001b[0m\u001b[1;33m\u001b[0m\u001b[1;33m\u001b[0m\u001b[0m\n\u001b[1;32m---> 84\u001b[1;33m         \u001b[0mdata\u001b[0m \u001b[1;33m=\u001b[0m \u001b[0m_pipe\u001b[0m\u001b[1;33m(\u001b[0m\u001b[0mdata\u001b[0m\u001b[1;33m,\u001b[0m \u001b[0mdata_transformers\u001b[0m\u001b[1;33m.\u001b[0m\u001b[0mget\u001b[0m\u001b[1;33m(\u001b[0m\u001b[1;33m)\u001b[0m\u001b[1;33m)\u001b[0m\u001b[1;33m\u001b[0m\u001b[1;33m\u001b[0m\u001b[0m\n\u001b[0m\u001b[0;32m     85\u001b[0m \u001b[1;33m\u001b[0m\u001b[0m\n\u001b[0;32m     86\u001b[0m     \u001b[1;31m# convert string input to a URLData\u001b[0m\u001b[1;33m\u001b[0m\u001b[1;33m\u001b[0m\u001b[0m\n",
      "\u001b[1;32mC:\\ProgramData\\Anaconda3\\envs\\gis_env\\lib\\site-packages\\toolz\\functoolz.py\u001b[0m in \u001b[0;36mpipe\u001b[1;34m(data, *funcs)\u001b[0m\n\u001b[0;32m    625\u001b[0m     \"\"\"\n\u001b[0;32m    626\u001b[0m     \u001b[1;32mfor\u001b[0m \u001b[0mfunc\u001b[0m \u001b[1;32min\u001b[0m \u001b[0mfuncs\u001b[0m\u001b[1;33m:\u001b[0m\u001b[1;33m\u001b[0m\u001b[1;33m\u001b[0m\u001b[0m\n\u001b[1;32m--> 627\u001b[1;33m         \u001b[0mdata\u001b[0m \u001b[1;33m=\u001b[0m \u001b[0mfunc\u001b[0m\u001b[1;33m(\u001b[0m\u001b[0mdata\u001b[0m\u001b[1;33m)\u001b[0m\u001b[1;33m\u001b[0m\u001b[1;33m\u001b[0m\u001b[0m\n\u001b[0m\u001b[0;32m    628\u001b[0m     \u001b[1;32mreturn\u001b[0m \u001b[0mdata\u001b[0m\u001b[1;33m\u001b[0m\u001b[1;33m\u001b[0m\u001b[0m\n\u001b[0;32m    629\u001b[0m \u001b[1;33m\u001b[0m\u001b[0m\n",
      "\u001b[1;32mC:\\ProgramData\\Anaconda3\\envs\\gis_env\\lib\\site-packages\\toolz\\functoolz.py\u001b[0m in \u001b[0;36m__call__\u001b[1;34m(self, *args, **kwargs)\u001b[0m\n\u001b[0;32m    301\u001b[0m     \u001b[1;32mdef\u001b[0m \u001b[0m__call__\u001b[0m\u001b[1;33m(\u001b[0m\u001b[0mself\u001b[0m\u001b[1;33m,\u001b[0m \u001b[1;33m*\u001b[0m\u001b[0margs\u001b[0m\u001b[1;33m,\u001b[0m \u001b[1;33m**\u001b[0m\u001b[0mkwargs\u001b[0m\u001b[1;33m)\u001b[0m\u001b[1;33m:\u001b[0m\u001b[1;33m\u001b[0m\u001b[1;33m\u001b[0m\u001b[0m\n\u001b[0;32m    302\u001b[0m         \u001b[1;32mtry\u001b[0m\u001b[1;33m:\u001b[0m\u001b[1;33m\u001b[0m\u001b[1;33m\u001b[0m\u001b[0m\n\u001b[1;32m--> 303\u001b[1;33m             \u001b[1;32mreturn\u001b[0m \u001b[0mself\u001b[0m\u001b[1;33m.\u001b[0m\u001b[0m_partial\u001b[0m\u001b[1;33m(\u001b[0m\u001b[1;33m*\u001b[0m\u001b[0margs\u001b[0m\u001b[1;33m,\u001b[0m \u001b[1;33m**\u001b[0m\u001b[0mkwargs\u001b[0m\u001b[1;33m)\u001b[0m\u001b[1;33m\u001b[0m\u001b[1;33m\u001b[0m\u001b[0m\n\u001b[0m\u001b[0;32m    304\u001b[0m         \u001b[1;32mexcept\u001b[0m \u001b[0mTypeError\u001b[0m \u001b[1;32mas\u001b[0m \u001b[0mexc\u001b[0m\u001b[1;33m:\u001b[0m\u001b[1;33m\u001b[0m\u001b[1;33m\u001b[0m\u001b[0m\n\u001b[0;32m    305\u001b[0m             \u001b[1;32mif\u001b[0m \u001b[0mself\u001b[0m\u001b[1;33m.\u001b[0m\u001b[0m_should_curry\u001b[0m\u001b[1;33m(\u001b[0m\u001b[0margs\u001b[0m\u001b[1;33m,\u001b[0m \u001b[0mkwargs\u001b[0m\u001b[1;33m,\u001b[0m \u001b[0mexc\u001b[0m\u001b[1;33m)\u001b[0m\u001b[1;33m:\u001b[0m\u001b[1;33m\u001b[0m\u001b[1;33m\u001b[0m\u001b[0m\n",
      "\u001b[1;32mC:\\ProgramData\\Anaconda3\\envs\\gis_env\\lib\\site-packages\\altair\\vegalite\\data.py\u001b[0m in \u001b[0;36mdefault_data_transformer\u001b[1;34m(data, max_rows)\u001b[0m\n\u001b[0;32m     17\u001b[0m \u001b[1;33m@\u001b[0m\u001b[0mcurried\u001b[0m\u001b[1;33m.\u001b[0m\u001b[0mcurry\u001b[0m\u001b[1;33m\u001b[0m\u001b[1;33m\u001b[0m\u001b[0m\n\u001b[0;32m     18\u001b[0m \u001b[1;32mdef\u001b[0m \u001b[0mdefault_data_transformer\u001b[0m\u001b[1;33m(\u001b[0m\u001b[0mdata\u001b[0m\u001b[1;33m,\u001b[0m \u001b[0mmax_rows\u001b[0m\u001b[1;33m=\u001b[0m\u001b[1;36m5000\u001b[0m\u001b[1;33m)\u001b[0m\u001b[1;33m:\u001b[0m\u001b[1;33m\u001b[0m\u001b[1;33m\u001b[0m\u001b[0m\n\u001b[1;32m---> 19\u001b[1;33m     \u001b[1;32mreturn\u001b[0m \u001b[0mcurried\u001b[0m\u001b[1;33m.\u001b[0m\u001b[0mpipe\u001b[0m\u001b[1;33m(\u001b[0m\u001b[0mdata\u001b[0m\u001b[1;33m,\u001b[0m \u001b[0mlimit_rows\u001b[0m\u001b[1;33m(\u001b[0m\u001b[0mmax_rows\u001b[0m\u001b[1;33m=\u001b[0m\u001b[0mmax_rows\u001b[0m\u001b[1;33m)\u001b[0m\u001b[1;33m,\u001b[0m \u001b[0mto_values\u001b[0m\u001b[1;33m)\u001b[0m\u001b[1;33m\u001b[0m\u001b[1;33m\u001b[0m\u001b[0m\n\u001b[0m\u001b[0;32m     20\u001b[0m \u001b[1;33m\u001b[0m\u001b[0m\n\u001b[0;32m     21\u001b[0m \u001b[1;33m\u001b[0m\u001b[0m\n",
      "\u001b[1;32mC:\\ProgramData\\Anaconda3\\envs\\gis_env\\lib\\site-packages\\toolz\\functoolz.py\u001b[0m in \u001b[0;36mpipe\u001b[1;34m(data, *funcs)\u001b[0m\n\u001b[0;32m    625\u001b[0m     \"\"\"\n\u001b[0;32m    626\u001b[0m     \u001b[1;32mfor\u001b[0m \u001b[0mfunc\u001b[0m \u001b[1;32min\u001b[0m \u001b[0mfuncs\u001b[0m\u001b[1;33m:\u001b[0m\u001b[1;33m\u001b[0m\u001b[1;33m\u001b[0m\u001b[0m\n\u001b[1;32m--> 627\u001b[1;33m         \u001b[0mdata\u001b[0m \u001b[1;33m=\u001b[0m \u001b[0mfunc\u001b[0m\u001b[1;33m(\u001b[0m\u001b[0mdata\u001b[0m\u001b[1;33m)\u001b[0m\u001b[1;33m\u001b[0m\u001b[1;33m\u001b[0m\u001b[0m\n\u001b[0m\u001b[0;32m    628\u001b[0m     \u001b[1;32mreturn\u001b[0m \u001b[0mdata\u001b[0m\u001b[1;33m\u001b[0m\u001b[1;33m\u001b[0m\u001b[0m\n\u001b[0;32m    629\u001b[0m \u001b[1;33m\u001b[0m\u001b[0m\n",
      "\u001b[1;32mC:\\ProgramData\\Anaconda3\\envs\\gis_env\\lib\\site-packages\\toolz\\functoolz.py\u001b[0m in \u001b[0;36m__call__\u001b[1;34m(self, *args, **kwargs)\u001b[0m\n\u001b[0;32m    301\u001b[0m     \u001b[1;32mdef\u001b[0m \u001b[0m__call__\u001b[0m\u001b[1;33m(\u001b[0m\u001b[0mself\u001b[0m\u001b[1;33m,\u001b[0m \u001b[1;33m*\u001b[0m\u001b[0margs\u001b[0m\u001b[1;33m,\u001b[0m \u001b[1;33m**\u001b[0m\u001b[0mkwargs\u001b[0m\u001b[1;33m)\u001b[0m\u001b[1;33m:\u001b[0m\u001b[1;33m\u001b[0m\u001b[1;33m\u001b[0m\u001b[0m\n\u001b[0;32m    302\u001b[0m         \u001b[1;32mtry\u001b[0m\u001b[1;33m:\u001b[0m\u001b[1;33m\u001b[0m\u001b[1;33m\u001b[0m\u001b[0m\n\u001b[1;32m--> 303\u001b[1;33m             \u001b[1;32mreturn\u001b[0m \u001b[0mself\u001b[0m\u001b[1;33m.\u001b[0m\u001b[0m_partial\u001b[0m\u001b[1;33m(\u001b[0m\u001b[1;33m*\u001b[0m\u001b[0margs\u001b[0m\u001b[1;33m,\u001b[0m \u001b[1;33m**\u001b[0m\u001b[0mkwargs\u001b[0m\u001b[1;33m)\u001b[0m\u001b[1;33m\u001b[0m\u001b[1;33m\u001b[0m\u001b[0m\n\u001b[0m\u001b[0;32m    304\u001b[0m         \u001b[1;32mexcept\u001b[0m \u001b[0mTypeError\u001b[0m \u001b[1;32mas\u001b[0m \u001b[0mexc\u001b[0m\u001b[1;33m:\u001b[0m\u001b[1;33m\u001b[0m\u001b[1;33m\u001b[0m\u001b[0m\n\u001b[0;32m    305\u001b[0m             \u001b[1;32mif\u001b[0m \u001b[0mself\u001b[0m\u001b[1;33m.\u001b[0m\u001b[0m_should_curry\u001b[0m\u001b[1;33m(\u001b[0m\u001b[0margs\u001b[0m\u001b[1;33m,\u001b[0m \u001b[0mkwargs\u001b[0m\u001b[1;33m,\u001b[0m \u001b[0mexc\u001b[0m\u001b[1;33m)\u001b[0m\u001b[1;33m:\u001b[0m\u001b[1;33m\u001b[0m\u001b[1;33m\u001b[0m\u001b[0m\n",
      "\u001b[1;32mC:\\ProgramData\\Anaconda3\\envs\\gis_env\\lib\\site-packages\\altair\\utils\\data.py\u001b[0m in \u001b[0;36mto_values\u001b[1;34m(data)\u001b[0m\n\u001b[0;32m    147\u001b[0m         \u001b[1;32mreturn\u001b[0m \u001b[1;33m{\u001b[0m\u001b[1;34m\"values\"\u001b[0m\u001b[1;33m:\u001b[0m \u001b[0mdata\u001b[0m\u001b[1;33m}\u001b[0m\u001b[1;33m\u001b[0m\u001b[1;33m\u001b[0m\u001b[0m\n\u001b[0;32m    148\u001b[0m     \u001b[1;32melif\u001b[0m \u001b[0misinstance\u001b[0m\u001b[1;33m(\u001b[0m\u001b[0mdata\u001b[0m\u001b[1;33m,\u001b[0m \u001b[0mpd\u001b[0m\u001b[1;33m.\u001b[0m\u001b[0mDataFrame\u001b[0m\u001b[1;33m)\u001b[0m\u001b[1;33m:\u001b[0m\u001b[1;33m\u001b[0m\u001b[1;33m\u001b[0m\u001b[0m\n\u001b[1;32m--> 149\u001b[1;33m         \u001b[0mdata\u001b[0m \u001b[1;33m=\u001b[0m \u001b[0msanitize_dataframe\u001b[0m\u001b[1;33m(\u001b[0m\u001b[0mdata\u001b[0m\u001b[1;33m)\u001b[0m\u001b[1;33m\u001b[0m\u001b[1;33m\u001b[0m\u001b[0m\n\u001b[0m\u001b[0;32m    150\u001b[0m         \u001b[1;32mreturn\u001b[0m \u001b[1;33m{\u001b[0m\u001b[1;34m\"values\"\u001b[0m\u001b[1;33m:\u001b[0m \u001b[0mdata\u001b[0m\u001b[1;33m.\u001b[0m\u001b[0mto_dict\u001b[0m\u001b[1;33m(\u001b[0m\u001b[0morient\u001b[0m\u001b[1;33m=\u001b[0m\u001b[1;34m\"records\"\u001b[0m\u001b[1;33m)\u001b[0m\u001b[1;33m}\u001b[0m\u001b[1;33m\u001b[0m\u001b[1;33m\u001b[0m\u001b[0m\n\u001b[0;32m    151\u001b[0m     \u001b[1;32melif\u001b[0m \u001b[0misinstance\u001b[0m\u001b[1;33m(\u001b[0m\u001b[0mdata\u001b[0m\u001b[1;33m,\u001b[0m \u001b[0mdict\u001b[0m\u001b[1;33m)\u001b[0m\u001b[1;33m:\u001b[0m\u001b[1;33m\u001b[0m\u001b[1;33m\u001b[0m\u001b[0m\n",
      "\u001b[1;32mC:\\ProgramData\\Anaconda3\\envs\\gis_env\\lib\\site-packages\\altair\\utils\\core.py\u001b[0m in \u001b[0;36msanitize_dataframe\u001b[1;34m(df)\u001b[0m\n\u001b[0;32m    271\u001b[0m \u001b[1;33m\u001b[0m\u001b[0m\n\u001b[0;32m    272\u001b[0m     \u001b[1;32mif\u001b[0m \u001b[0misinstance\u001b[0m\u001b[1;33m(\u001b[0m\u001b[0mdf\u001b[0m\u001b[1;33m.\u001b[0m\u001b[0mindex\u001b[0m\u001b[1;33m,\u001b[0m \u001b[0mpd\u001b[0m\u001b[1;33m.\u001b[0m\u001b[0mMultiIndex\u001b[0m\u001b[1;33m)\u001b[0m\u001b[1;33m:\u001b[0m\u001b[1;33m\u001b[0m\u001b[1;33m\u001b[0m\u001b[0m\n\u001b[1;32m--> 273\u001b[1;33m         \u001b[1;32mraise\u001b[0m \u001b[0mValueError\u001b[0m\u001b[1;33m(\u001b[0m\u001b[1;34m\"Hierarchical indices not supported\"\u001b[0m\u001b[1;33m)\u001b[0m\u001b[1;33m\u001b[0m\u001b[1;33m\u001b[0m\u001b[0m\n\u001b[0m\u001b[0;32m    274\u001b[0m     \u001b[1;32mif\u001b[0m \u001b[0misinstance\u001b[0m\u001b[1;33m(\u001b[0m\u001b[0mdf\u001b[0m\u001b[1;33m.\u001b[0m\u001b[0mcolumns\u001b[0m\u001b[1;33m,\u001b[0m \u001b[0mpd\u001b[0m\u001b[1;33m.\u001b[0m\u001b[0mMultiIndex\u001b[0m\u001b[1;33m)\u001b[0m\u001b[1;33m:\u001b[0m\u001b[1;33m\u001b[0m\u001b[1;33m\u001b[0m\u001b[0m\n\u001b[0;32m    275\u001b[0m         \u001b[1;32mraise\u001b[0m \u001b[0mValueError\u001b[0m\u001b[1;33m(\u001b[0m\u001b[1;34m\"Hierarchical indices not supported\"\u001b[0m\u001b[1;33m)\u001b[0m\u001b[1;33m\u001b[0m\u001b[1;33m\u001b[0m\u001b[0m\n",
      "\u001b[1;31mValueError\u001b[0m: Hierarchical indices not supported"
     ]
    },
    {
     "data": {
      "text/plain": [
       "alt.Chart(...)"
      ]
     },
     "execution_count": 29,
     "metadata": {},
     "output_type": "execute_result"
    }
   ],
   "source": [
    "alt.Chart(myGraph).mark_circle(size=60).encode(\n",
    "    x='AlterVSort_Nam',\n",
    "    y='AnzSterWir',\n",
    "    color='TodesursacheSpezLang',\n",
    "    tooltip=['AlterVSort_Nam','AnzSterWir']\n",
    ").interactive() # this makes the axes interactive: now you can zoom & pan\n"
   ]
  },
  {
   "cell_type": "code",
   "execution_count": 30,
   "metadata": {},
   "outputs": [
    {
     "data": {
      "image/png": "[encoded data removed]",
      "text/plain": [
       "<Figure size 432x288 with 1 Axes>"
      ]
     },
     "metadata": {},
     "output_type": "display_data"
    }
   ],
   "source": [
    "import seaborn as sns\n",
    "sns.set(style=\"darkgrid\")\n",
    "sns.histplot(data=myGraph, x=\"TodesursacheSpezLang\", y=\"AlterVSort_Nam\") #, y=\"Nachname\")\n",
    "plt.show();"
   ]
  },
  {
   "cell_type": "code",
   "execution_count": null,
   "metadata": {},
   "outputs": [],
   "source": [
    "\n"
   ]
  },
  {
   "cell_type": "code",
   "execution_count": null,
   "metadata": {},
   "outputs": [],
   "source": []
  }
 ],
 "metadata": {
  "kernelspec": {
   "display_name": "Python 3 (ipykernel)",
   "language": "python",
   "name": "python3"
  },
  "language_info": {
   "codemirror_mode": {
    "name": "ipython",
    "version": 3
   },
   "file_extension": ".py",
   "mimetype": "text/x-python",
   "name": "python",
   "nbconvert_exporter": "python",
   "pygments_lexer": "ipython3",
   "version": "3.9.7"
  }
 },
 "nbformat": 4,
 "nbformat_minor": 4
}
