{
 "cells": [
  {
   "cell_type": "markdown",
   "metadata": {},
   "source": [
    "# Testing\n",
    "### Eheschliessung nach Herkunft der Eheschliessenden, seit 1993\n",
    "Datum: 02.11.2021"
   ]
  },
  {
   "cell_type": "markdown",
   "metadata": {},
   "source": [
    "**Importiere die notwendigen Packages**"
   ]
  },
  {
   "cell_type": "code",
   "execution_count": 6,
   "metadata": {},
   "outputs": [],
   "source": [
    "#pip install geopandas fiona requests folium mplleaflet contextily"
   ]
  },
  {
   "cell_type": "code",
   "execution_count": 7,
   "metadata": {},
   "outputs": [],
   "source": [
    "import pandas as pd\n",
    "import pivottablejs\n",
    "from pivottablejs import pivot_ui\n",
    "import numpy as np\n",
    "import altair as alt\n",
    "import matplotlib.pyplot as plt\n",
    "from datetime import datetime\n",
    "import geopandas as gpd\n",
    "import folium \n",
    "\n"
   ]
  },
  {
   "cell_type": "markdown",
   "metadata": {},
   "source": [
    "Definiere Settings. Hier das Zahlenformat von Float-Werten (z.B. *'{:,.2f}'.format* mit Komma als Tausenderzeichen), "
   ]
  },
  {
   "cell_type": "code",
   "execution_count": 8,
   "metadata": {},
   "outputs": [],
   "source": [
    "pd.options.display.float_format = '{:.0f}'.format\n",
    "pd.set_option('display.width', 100)\n",
    "pd.set_option('display.max_columns', 15)"
   ]
  },
  {
   "cell_type": "markdown",
   "metadata": {},
   "source": [
    "Importiere einen Datensatz von der **DWH_INT** Dropzone.\n",
    "\n",
    "- Beachte dabei die Notation des Pfades...\n",
    "- Definiere mal aktuell noch keine weiteren Parameter beim Import"
   ]
  },
  {
   "cell_type": "markdown",
   "metadata": {},
   "source": [
    "**Dataset auf INTEG Datenkatalog**: https://data.integ.stadt-zuerich.ch/dataset/int_dwh_bev_ehe_herkunft_od3301\n",
    "\n",
    "(int_dwh)"
   ]
  },
  {
   "cell_type": "code",
   "execution_count": 10,
   "metadata": {},
   "outputs": [],
   "source": [
    "# Filepath\n",
    "fp = r\"\\\\szh\\ssz\\applikationen\\OGD_Dropzone\\INT_DWH\\bev_ehe_herkunft_OD3301\\BEV330OD3301.csv\"\n",
    "\n",
    "\n",
    "# Read the data\n",
    "data2betested = pd.read_csv(\n",
    "    fp, \n",
    "    sep=',',\n",
    "   #usecols=[0,1,2,3,4,6],\n",
    "   #names=['stationid','year','month','avgtemp','latitude','longitude','elevation','station','countryid','country'],\n",
    "   #skiprows=1,\n",
    "   # parse_dates=[0],\n",
    "    parse_dates=True,\n",
    "    #date_parser=lambda x: pd.to_datetime(x, format=\"%Y\"), \n",
    "    #index_col=\"date_time\",\n",
    "    low_memory=False    \n",
    "    )\n"
   ]
  },
  {
   "cell_type": "markdown",
   "metadata": {},
   "source": [
    "In der Folge ein paar erste Tests:"
   ]
  },
  {
   "cell_type": "code",
   "execution_count": 11,
   "metadata": {},
   "outputs": [
    {
     "data": {
      "text/plain": [
       "pandas.core.frame.DataFrame"
      ]
     },
     "execution_count": 11,
     "metadata": {},
     "output_type": "execute_result"
    }
   ],
   "source": [
    "type(data2betested)"
   ]
  },
  {
   "cell_type": "markdown",
   "metadata": {},
   "source": [
    " - 1) Zeige eine kurze Vorschau der importierten Daten\n",
    " - 2) Weise die Datentypen aus\n",
    " - 3) Zeige die Shape (Umfang) des Datensatzes an"
   ]
  },
  {
   "cell_type": "code",
   "execution_count": 12,
   "metadata": {},
   "outputs": [
    {
     "data": {
      "text/html": [
       "<div>\n",
       "<style scoped>\n",
       "    .dataframe tbody tr th:only-of-type {\n",
       "        vertical-align: middle;\n",
       "    }\n",
       "\n",
       "    .dataframe tbody tr th {\n",
       "        vertical-align: top;\n",
       "    }\n",
       "\n",
       "    .dataframe thead th {\n",
       "        text-align: right;\n",
       "    }\n",
       "</style>\n",
       "<table border=\"1\" class=\"dataframe\">\n",
       "  <thead>\n",
       "    <tr style=\"text-align: right;\">\n",
       "      <th></th>\n",
       "      <th>StichtagDatJahr</th>\n",
       "      <th>HerkunftKomb</th>\n",
       "      <th>HerkunftKombCd</th>\n",
       "      <th>AnzSchl</th>\n",
       "    </tr>\n",
       "  </thead>\n",
       "  <tbody>\n",
       "    <tr>\n",
       "      <th>0</th>\n",
       "      <td>1993</td>\n",
       "      <td>CHmitCH</td>\n",
       "      <td>1</td>\n",
       "      <td>1143</td>\n",
       "    </tr>\n",
       "    <tr>\n",
       "      <th>1</th>\n",
       "      <td>1993</td>\n",
       "      <td>CHmitAus</td>\n",
       "      <td>2</td>\n",
       "      <td>767</td>\n",
       "    </tr>\n",
       "    <tr>\n",
       "      <th>2</th>\n",
       "      <td>1993</td>\n",
       "      <td>AusmitCH</td>\n",
       "      <td>3</td>\n",
       "      <td>615</td>\n",
       "    </tr>\n",
       "  </tbody>\n",
       "</table>\n",
       "</div>"
      ],
      "text/plain": [
       "   StichtagDatJahr HerkunftKomb  HerkunftKombCd  AnzSchl\n",
       "0             1993      CHmitCH               1     1143\n",
       "1             1993     CHmitAus               2      767\n",
       "2             1993     AusmitCH               3      615"
      ]
     },
     "execution_count": 12,
     "metadata": {},
     "output_type": "execute_result"
    }
   ],
   "source": [
    "data2betested.head(3)"
   ]
  },
  {
   "cell_type": "code",
   "execution_count": 13,
   "metadata": {},
   "outputs": [
    {
     "data": {
      "text/plain": [
       "StichtagDatJahr     int64\n",
       "HerkunftKomb       object\n",
       "HerkunftKombCd      int64\n",
       "AnzSchl             int64\n",
       "dtype: object"
      ]
     },
     "execution_count": 13,
     "metadata": {},
     "output_type": "execute_result"
    }
   ],
   "source": [
    "data2betested.dtypes"
   ]
  },
  {
   "cell_type": "code",
   "execution_count": 14,
   "metadata": {},
   "outputs": [
    {
     "data": {
      "text/plain": [
       "(112, 4)"
      ]
     },
     "execution_count": 14,
     "metadata": {},
     "output_type": "execute_result"
    }
   ],
   "source": [
    "data2betested.shape"
   ]
  },
  {
   "cell_type": "markdown",
   "metadata": {},
   "source": [
    "Beschreibe einzelne Attribute"
   ]
  },
  {
   "cell_type": "code",
   "execution_count": 15,
   "metadata": {},
   "outputs": [
    {
     "data": {
      "text/html": [
       "<div>\n",
       "<style scoped>\n",
       "    .dataframe tbody tr th:only-of-type {\n",
       "        vertical-align: middle;\n",
       "    }\n",
       "\n",
       "    .dataframe tbody tr th {\n",
       "        vertical-align: top;\n",
       "    }\n",
       "\n",
       "    .dataframe thead th {\n",
       "        text-align: right;\n",
       "    }\n",
       "</style>\n",
       "<table border=\"1\" class=\"dataframe\">\n",
       "  <thead>\n",
       "    <tr style=\"text-align: right;\">\n",
       "      <th></th>\n",
       "      <th>StichtagDatJahr</th>\n",
       "      <th>HerkunftKombCd</th>\n",
       "      <th>AnzSchl</th>\n",
       "    </tr>\n",
       "  </thead>\n",
       "  <tbody>\n",
       "    <tr>\n",
       "      <th>count</th>\n",
       "      <td>112</td>\n",
       "      <td>112</td>\n",
       "      <td>112</td>\n",
       "    </tr>\n",
       "    <tr>\n",
       "      <th>mean</th>\n",
       "      <td>2006</td>\n",
       "      <td>2</td>\n",
       "      <td>850</td>\n",
       "    </tr>\n",
       "    <tr>\n",
       "      <th>std</th>\n",
       "      <td>8</td>\n",
       "      <td>1</td>\n",
       "      <td>225</td>\n",
       "    </tr>\n",
       "    <tr>\n",
       "      <th>min</th>\n",
       "      <td>1993</td>\n",
       "      <td>1</td>\n",
       "      <td>427</td>\n",
       "    </tr>\n",
       "    <tr>\n",
       "      <th>25%</th>\n",
       "      <td>2000</td>\n",
       "      <td>2</td>\n",
       "      <td>652</td>\n",
       "    </tr>\n",
       "    <tr>\n",
       "      <th>50%</th>\n",
       "      <td>2006</td>\n",
       "      <td>2</td>\n",
       "      <td>851</td>\n",
       "    </tr>\n",
       "    <tr>\n",
       "      <th>75%</th>\n",
       "      <td>2013</td>\n",
       "      <td>3</td>\n",
       "      <td>1034</td>\n",
       "    </tr>\n",
       "    <tr>\n",
       "      <th>max</th>\n",
       "      <td>2020</td>\n",
       "      <td>4</td>\n",
       "      <td>1363</td>\n",
       "    </tr>\n",
       "  </tbody>\n",
       "</table>\n",
       "</div>"
      ],
      "text/plain": [
       "       StichtagDatJahr  HerkunftKombCd  AnzSchl\n",
       "count              112             112      112\n",
       "mean              2006               2      850\n",
       "std                  8               1      225\n",
       "min               1993               1      427\n",
       "25%               2000               2      652\n",
       "50%               2006               2      851\n",
       "75%               2013               3     1034\n",
       "max               2020               4     1363"
      ]
     },
     "execution_count": 15,
     "metadata": {},
     "output_type": "execute_result"
    }
   ],
   "source": [
    "data2betested.describe()"
   ]
  },
  {
   "cell_type": "markdown",
   "metadata": {},
   "source": [
    "Wie viele Nullwerte gibt es im Datensatz?"
   ]
  },
  {
   "cell_type": "code",
   "execution_count": 16,
   "metadata": {
    "scrolled": true
   },
   "outputs": [
    {
     "data": {
      "text/plain": [
       "StichtagDatJahr    0\n",
       "HerkunftKomb       0\n",
       "HerkunftKombCd     0\n",
       "AnzSchl            0\n",
       "dtype: int64"
      ]
     },
     "execution_count": 16,
     "metadata": {},
     "output_type": "execute_result"
    }
   ],
   "source": [
    "data2betested.isnull().sum()"
   ]
  },
  {
   "cell_type": "markdown",
   "metadata": {},
   "source": [
    "Wandle die Spalte Jahr von Int zu **Datetime** um. Dies wird in den meisten Grafiken so benötigt."
   ]
  },
  {
   "cell_type": "code",
   "execution_count": 17,
   "metadata": {
    "scrolled": true
   },
   "outputs": [
    {
     "data": {
      "text/html": [
       "<div>\n",
       "<style scoped>\n",
       "    .dataframe tbody tr th:only-of-type {\n",
       "        vertical-align: middle;\n",
       "    }\n",
       "\n",
       "    .dataframe tbody tr th {\n",
       "        vertical-align: top;\n",
       "    }\n",
       "\n",
       "    .dataframe thead th {\n",
       "        text-align: right;\n",
       "    }\n",
       "</style>\n",
       "<table border=\"1\" class=\"dataframe\">\n",
       "  <thead>\n",
       "    <tr style=\"text-align: right;\">\n",
       "      <th></th>\n",
       "      <th>StichtagDatJahr</th>\n",
       "      <th>HerkunftKomb</th>\n",
       "      <th>HerkunftKombCd</th>\n",
       "      <th>AnzSchl</th>\n",
       "    </tr>\n",
       "  </thead>\n",
       "  <tbody>\n",
       "    <tr>\n",
       "      <th>0</th>\n",
       "      <td>1993-01-01</td>\n",
       "      <td>CHmitCH</td>\n",
       "      <td>1</td>\n",
       "      <td>1143</td>\n",
       "    </tr>\n",
       "    <tr>\n",
       "      <th>1</th>\n",
       "      <td>1993-01-01</td>\n",
       "      <td>CHmitAus</td>\n",
       "      <td>2</td>\n",
       "      <td>767</td>\n",
       "    </tr>\n",
       "    <tr>\n",
       "      <th>2</th>\n",
       "      <td>1993-01-01</td>\n",
       "      <td>AusmitCH</td>\n",
       "      <td>3</td>\n",
       "      <td>615</td>\n",
       "    </tr>\n",
       "    <tr>\n",
       "      <th>3</th>\n",
       "      <td>1993-01-01</td>\n",
       "      <td>AusmitAus</td>\n",
       "      <td>4</td>\n",
       "      <td>1046</td>\n",
       "    </tr>\n",
       "    <tr>\n",
       "      <th>4</th>\n",
       "      <td>1994-01-01</td>\n",
       "      <td>CHmitCH</td>\n",
       "      <td>1</td>\n",
       "      <td>1121</td>\n",
       "    </tr>\n",
       "    <tr>\n",
       "      <th>...</th>\n",
       "      <td>...</td>\n",
       "      <td>...</td>\n",
       "      <td>...</td>\n",
       "      <td>...</td>\n",
       "    </tr>\n",
       "    <tr>\n",
       "      <th>107</th>\n",
       "      <td>2019-01-01</td>\n",
       "      <td>AusmitAus</td>\n",
       "      <td>4</td>\n",
       "      <td>1200</td>\n",
       "    </tr>\n",
       "    <tr>\n",
       "      <th>108</th>\n",
       "      <td>2020-01-01</td>\n",
       "      <td>CHmitCH</td>\n",
       "      <td>1</td>\n",
       "      <td>923</td>\n",
       "    </tr>\n",
       "    <tr>\n",
       "      <th>109</th>\n",
       "      <td>2020-01-01</td>\n",
       "      <td>CHmitAus</td>\n",
       "      <td>2</td>\n",
       "      <td>427</td>\n",
       "    </tr>\n",
       "    <tr>\n",
       "      <th>110</th>\n",
       "      <td>2020-01-01</td>\n",
       "      <td>AusmitCH</td>\n",
       "      <td>3</td>\n",
       "      <td>505</td>\n",
       "    </tr>\n",
       "    <tr>\n",
       "      <th>111</th>\n",
       "      <td>2020-01-01</td>\n",
       "      <td>AusmitAus</td>\n",
       "      <td>4</td>\n",
       "      <td>896</td>\n",
       "    </tr>\n",
       "  </tbody>\n",
       "</table>\n",
       "<p>112 rows × 4 columns</p>\n",
       "</div>"
      ],
      "text/plain": [
       "    StichtagDatJahr HerkunftKomb  HerkunftKombCd  AnzSchl\n",
       "0        1993-01-01      CHmitCH               1     1143\n",
       "1        1993-01-01     CHmitAus               2      767\n",
       "2        1993-01-01     AusmitCH               3      615\n",
       "3        1993-01-01    AusmitAus               4     1046\n",
       "4        1994-01-01      CHmitCH               1     1121\n",
       "..              ...          ...             ...      ...\n",
       "107      2019-01-01    AusmitAus               4     1200\n",
       "108      2020-01-01      CHmitCH               1      923\n",
       "109      2020-01-01     CHmitAus               2      427\n",
       "110      2020-01-01     AusmitCH               3      505\n",
       "111      2020-01-01    AusmitAus               4      896\n",
       "\n",
       "[112 rows x 4 columns]"
      ]
     },
     "execution_count": 17,
     "metadata": {},
     "output_type": "execute_result"
    }
   ],
   "source": [
    "data2betested['StichtagDatJahr']=pd.to_datetime(data2betested['StichtagDatJahr'], format='%Y')\n",
    "\n",
    "#TO DO --> setze das Datum auf den 31.12. der Jahres.\n",
    "#test=data2betested[['StichtagDatJahr']].date().replace(month=12, day=31)\n",
    "\n",
    "data2betested"
   ]
  },
  {
   "cell_type": "markdown",
   "metadata": {},
   "source": [
    "Bereite die Daten für die Grafik unten vor"
   ]
  },
  {
   "cell_type": "code",
   "execution_count": 18,
   "metadata": {},
   "outputs": [
    {
     "data": {
      "text/plain": [
       "28"
      ]
     },
     "execution_count": 18,
     "metadata": {},
     "output_type": "execute_result"
    }
   ],
   "source": [
    "Jahre = data2betested.groupby(\"StichtagDatJahr\")\n",
    "len(Jahre)"
   ]
  },
  {
   "cell_type": "code",
   "execution_count": 19,
   "metadata": {},
   "outputs": [
    {
     "name": "stdout",
     "output_type": "stream",
     "text": [
      "1993-01-01 00:00:00 4\n",
      "1994-01-01 00:00:00 4\n",
      "1995-01-01 00:00:00 4\n",
      "1996-01-01 00:00:00 4\n",
      "1997-01-01 00:00:00 4\n",
      "1998-01-01 00:00:00 4\n",
      "1999-01-01 00:00:00 4\n",
      "2000-01-01 00:00:00 4\n",
      "2001-01-01 00:00:00 4\n",
      "2002-01-01 00:00:00 4\n",
      "2003-01-01 00:00:00 4\n",
      "2004-01-01 00:00:00 4\n",
      "2005-01-01 00:00:00 4\n",
      "2006-01-01 00:00:00 4\n",
      "2007-01-01 00:00:00 4\n",
      "2008-01-01 00:00:00 4\n",
      "2009-01-01 00:00:00 4\n",
      "2010-01-01 00:00:00 4\n",
      "2011-01-01 00:00:00 4\n",
      "2012-01-01 00:00:00 4\n",
      "2013-01-01 00:00:00 4\n",
      "2014-01-01 00:00:00 4\n",
      "2015-01-01 00:00:00 4\n",
      "2016-01-01 00:00:00 4\n",
      "2017-01-01 00:00:00 4\n",
      "2018-01-01 00:00:00 4\n",
      "2019-01-01 00:00:00 4\n",
      "2020-01-01 00:00:00 4\n"
     ]
    }
   ],
   "source": [
    "for key, group in Jahre:\n",
    "    print(key, len(group))"
   ]
  },
  {
   "cell_type": "code",
   "execution_count": 20,
   "metadata": {},
   "outputs": [
    {
     "data": {
      "text/html": [
       "<div>\n",
       "<style scoped>\n",
       "    .dataframe tbody tr th:only-of-type {\n",
       "        vertical-align: middle;\n",
       "    }\n",
       "\n",
       "    .dataframe tbody tr th {\n",
       "        vertical-align: top;\n",
       "    }\n",
       "\n",
       "    .dataframe thead th {\n",
       "        text-align: right;\n",
       "    }\n",
       "</style>\n",
       "<table border=\"1\" class=\"dataframe\">\n",
       "  <thead>\n",
       "    <tr style=\"text-align: right;\">\n",
       "      <th></th>\n",
       "      <th>StichtagDatJahr</th>\n",
       "      <th>HerkunftKomb</th>\n",
       "      <th>HerkunftKombCd</th>\n",
       "      <th>AnzSchl</th>\n",
       "    </tr>\n",
       "  </thead>\n",
       "  <tbody>\n",
       "    <tr>\n",
       "      <th>108</th>\n",
       "      <td>2020-01-01</td>\n",
       "      <td>CHmitCH</td>\n",
       "      <td>1</td>\n",
       "      <td>923</td>\n",
       "    </tr>\n",
       "    <tr>\n",
       "      <th>109</th>\n",
       "      <td>2020-01-01</td>\n",
       "      <td>CHmitAus</td>\n",
       "      <td>2</td>\n",
       "      <td>427</td>\n",
       "    </tr>\n",
       "    <tr>\n",
       "      <th>110</th>\n",
       "      <td>2020-01-01</td>\n",
       "      <td>AusmitCH</td>\n",
       "      <td>3</td>\n",
       "      <td>505</td>\n",
       "    </tr>\n",
       "    <tr>\n",
       "      <th>111</th>\n",
       "      <td>2020-01-01</td>\n",
       "      <td>AusmitAus</td>\n",
       "      <td>4</td>\n",
       "      <td>896</td>\n",
       "    </tr>\n",
       "  </tbody>\n",
       "</table>\n",
       "</div>"
      ],
      "text/plain": [
       "    StichtagDatJahr HerkunftKomb  HerkunftKombCd  AnzSchl\n",
       "108      2020-01-01      CHmitCH               1      923\n",
       "109      2020-01-01     CHmitAus               2      427\n",
       "110      2020-01-01     AusmitCH               3      505\n",
       "111      2020-01-01    AusmitAus               4      896"
      ]
     },
     "execution_count": 20,
     "metadata": {},
     "output_type": "execute_result"
    }
   ],
   "source": [
    "myJahr = \"2020-01-01\"\n",
    "aktuellesJahr=Jahre.get_group(myJahr)   \n",
    "aktuellesJahr"
   ]
  },
  {
   "cell_type": "markdown",
   "metadata": {},
   "source": [
    "**Selektionen und Aggregationen**\n",
    "\n",
    "Check this [Doku](https://www.shanelynn.ie/summarising-aggregation-and-grouping-data-in-python-pandas/)"
   ]
  },
  {
   "cell_type": "code",
   "execution_count": 23,
   "metadata": {},
   "outputs": [],
   "source": [
    "#test = data2betested.groupby(['StichtagDatJahr', 'AlterV20Kurz'])[['AnzBestWir']].agg()\n",
    "\n",
    "# produces Pandas Series\n",
    "    #data2betested.groupby(['StichtagDatJahr', 'KonOGDSort'])['AnzBestWir'].sum()\n",
    "# Produces Pandas DataFrame\n",
    "    #data2betested.groupby(['StichtagDatJahr', 'KonOGDSort'])[['AnzBestWir']].sum()\n",
    "    "
   ]
  },
  {
   "cell_type": "markdown",
   "metadata": {},
   "source": [
    "**Einfache Visualisierungen zur Plausi**"
   ]
  },
  {
   "cell_type": "markdown",
   "metadata": {},
   "source": [
    "Exploriere die Daten mit Pivottable.JS"
   ]
  },
  {
   "cell_type": "code",
   "execution_count": 24,
   "metadata": {},
   "outputs": [
    {
     "data": {
      "text/html": [
       "\n",
       "        <iframe\n",
       "            width=\"100%\"\n",
       "            height=\"500\"\n",
       "            src=\"pivottablejs.html\"\n",
       "            frameborder=\"0\"\n",
       "            allowfullscreen\n",
       "        ></iframe>\n",
       "        "
      ],
      "text/plain": [
       "<IPython.lib.display.IFrame at 0x1946c4e9250>"
      ]
     },
     "execution_count": 24,
     "metadata": {},
     "output_type": "execute_result"
    }
   ],
   "source": [
    "from pivottablejs import pivot_ui\n",
    "\n",
    "pivot_ui(data2betested)"
   ]
  },
  {
   "cell_type": "markdown",
   "metadata": {},
   "source": [
    "Liniendiagramm \n",
    "[Link zur Doku](https://altair-viz.github.io/gallery/multiline_highlight.html)"
   ]
  },
  {
   "cell_type": "code",
   "execution_count": 25,
   "metadata": {},
   "outputs": [
    {
     "data": {
      "text/html": [
       "<div>\n",
       "<style scoped>\n",
       "    .dataframe tbody tr th:only-of-type {\n",
       "        vertical-align: middle;\n",
       "    }\n",
       "\n",
       "    .dataframe tbody tr th {\n",
       "        vertical-align: top;\n",
       "    }\n",
       "\n",
       "    .dataframe thead th {\n",
       "        text-align: right;\n",
       "    }\n",
       "</style>\n",
       "<table border=\"1\" class=\"dataframe\">\n",
       "  <thead>\n",
       "    <tr style=\"text-align: right;\">\n",
       "      <th></th>\n",
       "      <th>StichtagDatJahr</th>\n",
       "      <th>HerkunftKomb</th>\n",
       "      <th>HerkunftKombCd</th>\n",
       "      <th>AnzSchl</th>\n",
       "    </tr>\n",
       "  </thead>\n",
       "  <tbody>\n",
       "    <tr>\n",
       "      <th>0</th>\n",
       "      <td>1993-01-01</td>\n",
       "      <td>CHmitCH</td>\n",
       "      <td>1</td>\n",
       "      <td>1143</td>\n",
       "    </tr>\n",
       "    <tr>\n",
       "      <th>1</th>\n",
       "      <td>1993-01-01</td>\n",
       "      <td>CHmitAus</td>\n",
       "      <td>2</td>\n",
       "      <td>767</td>\n",
       "    </tr>\n",
       "    <tr>\n",
       "      <th>2</th>\n",
       "      <td>1993-01-01</td>\n",
       "      <td>AusmitCH</td>\n",
       "      <td>3</td>\n",
       "      <td>615</td>\n",
       "    </tr>\n",
       "    <tr>\n",
       "      <th>3</th>\n",
       "      <td>1993-01-01</td>\n",
       "      <td>AusmitAus</td>\n",
       "      <td>4</td>\n",
       "      <td>1046</td>\n",
       "    </tr>\n",
       "    <tr>\n",
       "      <th>4</th>\n",
       "      <td>1994-01-01</td>\n",
       "      <td>CHmitCH</td>\n",
       "      <td>1</td>\n",
       "      <td>1121</td>\n",
       "    </tr>\n",
       "    <tr>\n",
       "      <th>...</th>\n",
       "      <td>...</td>\n",
       "      <td>...</td>\n",
       "      <td>...</td>\n",
       "      <td>...</td>\n",
       "    </tr>\n",
       "    <tr>\n",
       "      <th>107</th>\n",
       "      <td>2019-01-01</td>\n",
       "      <td>AusmitAus</td>\n",
       "      <td>4</td>\n",
       "      <td>1200</td>\n",
       "    </tr>\n",
       "    <tr>\n",
       "      <th>108</th>\n",
       "      <td>2020-01-01</td>\n",
       "      <td>CHmitCH</td>\n",
       "      <td>1</td>\n",
       "      <td>923</td>\n",
       "    </tr>\n",
       "    <tr>\n",
       "      <th>109</th>\n",
       "      <td>2020-01-01</td>\n",
       "      <td>CHmitAus</td>\n",
       "      <td>2</td>\n",
       "      <td>427</td>\n",
       "    </tr>\n",
       "    <tr>\n",
       "      <th>110</th>\n",
       "      <td>2020-01-01</td>\n",
       "      <td>AusmitCH</td>\n",
       "      <td>3</td>\n",
       "      <td>505</td>\n",
       "    </tr>\n",
       "    <tr>\n",
       "      <th>111</th>\n",
       "      <td>2020-01-01</td>\n",
       "      <td>AusmitAus</td>\n",
       "      <td>4</td>\n",
       "      <td>896</td>\n",
       "    </tr>\n",
       "  </tbody>\n",
       "</table>\n",
       "<p>112 rows × 4 columns</p>\n",
       "</div>"
      ],
      "text/plain": [
       "    StichtagDatJahr HerkunftKomb  HerkunftKombCd  AnzSchl\n",
       "0        1993-01-01      CHmitCH               1     1143\n",
       "1        1993-01-01     CHmitAus               2      767\n",
       "2        1993-01-01     AusmitCH               3      615\n",
       "3        1993-01-01    AusmitAus               4     1046\n",
       "4        1994-01-01      CHmitCH               1     1121\n",
       "..              ...          ...             ...      ...\n",
       "107      2019-01-01    AusmitAus               4     1200\n",
       "108      2020-01-01      CHmitCH               1      923\n",
       "109      2020-01-01     CHmitAus               2      427\n",
       "110      2020-01-01     AusmitCH               3      505\n",
       "111      2020-01-01    AusmitAus               4      896\n",
       "\n",
       "[112 rows x 4 columns]"
      ]
     },
     "execution_count": 25,
     "metadata": {},
     "output_type": "execute_result"
    }
   ],
   "source": [
    "data2betested"
   ]
  },
  {
   "cell_type": "code",
   "execution_count": 27,
   "metadata": {},
   "outputs": [
    {
     "data": {
      "text/html": [
       "\n",
       "<div id=\"altair-viz-d0a2e7e4c45643c28961d2275ac267de\"></div>\n",
       "<script type=\"text/javascript\">\n",
       "  (function(spec, embedOpt){\n",
       "    let outputDiv = document.currentScript.previousElementSibling;\n",
       "    if (outputDiv.id !== \"altair-viz-d0a2e7e4c45643c28961d2275ac267de\") {\n",
       "      outputDiv = document.getElementById(\"altair-viz-d0a2e7e4c45643c28961d2275ac267de\");\n",
       "    }\n",
       "    const paths = {\n",
       "      \"vega\": \"https://cdn.jsdelivr.net/npm//vega@5?noext\",\n",
       "      \"vega-lib\": \"https://cdn.jsdelivr.net/npm//vega-lib?noext\",\n",
       "      \"vega-lite\": \"https://cdn.jsdelivr.net/npm//vega-lite@4.8.1?noext\",\n",
       "      \"vega-embed\": \"https://cdn.jsdelivr.net/npm//vega-embed@6?noext\",\n",
       "    };\n",
       "\n",
       "    function loadScript(lib) {\n",
       "      return new Promise(function(resolve, reject) {\n",
       "        var s = document.createElement('script');\n",
       "        s.src = paths[lib];\n",
       "        s.async = true;\n",
       "        s.onload = () => resolve(paths[lib]);\n",
       "        s.onerror = () => reject(`Error loading script: ${paths[lib]}`);\n",
       "        document.getElementsByTagName(\"head\")[0].appendChild(s);\n",
       "      });\n",
       "    }\n",
       "\n",
       "    function showError(err) {\n",
       "      outputDiv.innerHTML = `<div class=\"error\" style=\"color:red;\">${err}</div>`;\n",
       "      throw err;\n",
       "    }\n",
       "\n",
       "    function displayChart(vegaEmbed) {\n",
       "      vegaEmbed(outputDiv, spec, embedOpt)\n",
       "        .catch(err => showError(`Javascript Error: ${err.message}<br>This usually means there's a typo in your chart specification. See the javascript console for the full traceback.`));\n",
       "    }\n",
       "\n",
       "    if(typeof define === \"function\" && define.amd) {\n",
       "      requirejs.config({paths});\n",
       "      require([\"vega-embed\"], displayChart, err => showError(`Error loading script: ${err.message}`));\n",
       "    } else if (typeof vegaEmbed === \"function\") {\n",
       "      displayChart(vegaEmbed);\n",
       "    } else {\n",
       "      loadScript(\"vega\")\n",
       "        .then(() => loadScript(\"vega-lite\"))\n",
       "        .then(() => loadScript(\"vega-embed\"))\n",
       "        .catch(showError)\n",
       "        .then(() => displayChart(vegaEmbed));\n",
       "    }\n",
       "  })({\"config\": {\"view\": {\"continuousWidth\": 400, \"continuousHeight\": 300}}, \"layer\": [{\"mark\": \"circle\", \"encoding\": {\"color\": {\"type\": \"nominal\", \"field\": \"HerkunftKomb\"}, \"opacity\": {\"value\": 2}, \"x\": {\"type\": \"temporal\", \"field\": \"StichtagDatJahr\"}, \"y\": {\"type\": \"quantitative\", \"field\": \"AnzSchl\"}}, \"height\": 300, \"selection\": {\"selector003\": {\"type\": \"single\", \"on\": \"mouseover\", \"fields\": [\"HerkunftKomb\"], \"nearest\": true}}, \"width\": 700}, {\"mark\": \"line\", \"encoding\": {\"color\": {\"type\": \"nominal\", \"field\": \"HerkunftKomb\"}, \"size\": {\"condition\": {\"value\": 1.5, \"selection\": {\"not\": \"selector003\"}}, \"value\": 4}, \"x\": {\"type\": \"temporal\", \"field\": \"StichtagDatJahr\"}, \"y\": {\"type\": \"quantitative\", \"field\": \"AnzSchl\"}}, \"selection\": {\"selector004\": {\"type\": \"interval\", \"bind\": \"scales\", \"encodings\": [\"x\", \"y\"]}}}], \"data\": {\"name\": \"data-eedf63f335180413de4351837359abd9\"}, \"$schema\": \"https://vega.github.io/schema/vega-lite/v4.8.1.json\", \"datasets\": {\"data-eedf63f335180413de4351837359abd9\": [{\"StichtagDatJahr\": \"1993-01-01T00:00:00\", \"HerkunftKomb\": \"CHmitCH\", \"HerkunftKombCd\": 1, \"AnzSchl\": 1143}, {\"StichtagDatJahr\": \"1993-01-01T00:00:00\", \"HerkunftKomb\": \"CHmitAus\", \"HerkunftKombCd\": 2, \"AnzSchl\": 767}, {\"StichtagDatJahr\": \"1993-01-01T00:00:00\", \"HerkunftKomb\": \"AusmitCH\", \"HerkunftKombCd\": 3, \"AnzSchl\": 615}, {\"StichtagDatJahr\": \"1993-01-01T00:00:00\", \"HerkunftKomb\": \"AusmitAus\", \"HerkunftKombCd\": 4, \"AnzSchl\": 1046}, {\"StichtagDatJahr\": \"1994-01-01T00:00:00\", \"HerkunftKomb\": \"CHmitCH\", \"HerkunftKombCd\": 1, \"AnzSchl\": 1121}, {\"StichtagDatJahr\": \"1994-01-01T00:00:00\", \"HerkunftKomb\": \"CHmitAus\", \"HerkunftKombCd\": 2, \"AnzSchl\": 720}, {\"StichtagDatJahr\": \"1994-01-01T00:00:00\", \"HerkunftKomb\": \"AusmitCH\", \"HerkunftKombCd\": 3, \"AnzSchl\": 652}, {\"StichtagDatJahr\": \"1994-01-01T00:00:00\", \"HerkunftKomb\": \"AusmitAus\", \"HerkunftKombCd\": 4, \"AnzSchl\": 1048}, {\"StichtagDatJahr\": \"1995-01-01T00:00:00\", \"HerkunftKomb\": \"CHmitCH\", \"HerkunftKombCd\": 1, \"AnzSchl\": 1036}, {\"StichtagDatJahr\": \"1995-01-01T00:00:00\", \"HerkunftKomb\": \"CHmitAus\", \"HerkunftKombCd\": 2, \"AnzSchl\": 627}, {\"StichtagDatJahr\": \"1995-01-01T00:00:00\", \"HerkunftKomb\": \"AusmitCH\", \"HerkunftKombCd\": 3, \"AnzSchl\": 616}, {\"StichtagDatJahr\": \"1995-01-01T00:00:00\", \"HerkunftKomb\": \"AusmitAus\", \"HerkunftKombCd\": 4, \"AnzSchl\": 901}, {\"StichtagDatJahr\": \"1996-01-01T00:00:00\", \"HerkunftKomb\": \"CHmitCH\", \"HerkunftKombCd\": 1, \"AnzSchl\": 1003}, {\"StichtagDatJahr\": \"1996-01-01T00:00:00\", \"HerkunftKomb\": \"CHmitAus\", \"HerkunftKombCd\": 2, \"AnzSchl\": 653}, {\"StichtagDatJahr\": \"1996-01-01T00:00:00\", \"HerkunftKomb\": \"AusmitCH\", \"HerkunftKombCd\": 3, \"AnzSchl\": 609}, {\"StichtagDatJahr\": \"1996-01-01T00:00:00\", \"HerkunftKomb\": \"AusmitAus\", \"HerkunftKombCd\": 4, \"AnzSchl\": 957}, {\"StichtagDatJahr\": \"1997-01-01T00:00:00\", \"HerkunftKomb\": \"CHmitCH\", \"HerkunftKombCd\": 1, \"AnzSchl\": 958}, {\"StichtagDatJahr\": \"1997-01-01T00:00:00\", \"HerkunftKomb\": \"CHmitAus\", \"HerkunftKombCd\": 2, \"AnzSchl\": 660}, {\"StichtagDatJahr\": \"1997-01-01T00:00:00\", \"HerkunftKomb\": \"AusmitCH\", \"HerkunftKombCd\": 3, \"AnzSchl\": 649}, {\"StichtagDatJahr\": \"1997-01-01T00:00:00\", \"HerkunftKomb\": \"AusmitAus\", \"HerkunftKombCd\": 4, \"AnzSchl\": 992}, {\"StichtagDatJahr\": \"1998-01-01T00:00:00\", \"HerkunftKomb\": \"CHmitCH\", \"HerkunftKombCd\": 1, \"AnzSchl\": 964}, {\"StichtagDatJahr\": \"1998-01-01T00:00:00\", \"HerkunftKomb\": \"CHmitAus\", \"HerkunftKombCd\": 2, \"AnzSchl\": 650}, {\"StichtagDatJahr\": \"1998-01-01T00:00:00\", \"HerkunftKomb\": \"AusmitCH\", \"HerkunftKombCd\": 3, \"AnzSchl\": 680}, {\"StichtagDatJahr\": \"1998-01-01T00:00:00\", \"HerkunftKomb\": \"AusmitAus\", \"HerkunftKombCd\": 4, \"AnzSchl\": 1054}, {\"StichtagDatJahr\": \"1999-01-01T00:00:00\", \"HerkunftKomb\": \"CHmitCH\", \"HerkunftKombCd\": 1, \"AnzSchl\": 993}, {\"StichtagDatJahr\": \"1999-01-01T00:00:00\", \"HerkunftKomb\": \"CHmitAus\", \"HerkunftKombCd\": 2, \"AnzSchl\": 669}, {\"StichtagDatJahr\": \"1999-01-01T00:00:00\", \"HerkunftKomb\": \"AusmitCH\", \"HerkunftKombCd\": 3, \"AnzSchl\": 716}, {\"StichtagDatJahr\": \"1999-01-01T00:00:00\", \"HerkunftKomb\": \"AusmitAus\", \"HerkunftKombCd\": 4, \"AnzSchl\": 1018}, {\"StichtagDatJahr\": \"2000-01-01T00:00:00\", \"HerkunftKomb\": \"CHmitCH\", \"HerkunftKombCd\": 1, \"AnzSchl\": 948}, {\"StichtagDatJahr\": \"2000-01-01T00:00:00\", \"HerkunftKomb\": \"CHmitAus\", \"HerkunftKombCd\": 2, \"AnzSchl\": 718}, {\"StichtagDatJahr\": \"2000-01-01T00:00:00\", \"HerkunftKomb\": \"AusmitCH\", \"HerkunftKombCd\": 3, \"AnzSchl\": 733}, {\"StichtagDatJahr\": \"2000-01-01T00:00:00\", \"HerkunftKomb\": \"AusmitAus\", \"HerkunftKombCd\": 4, \"AnzSchl\": 1064}, {\"StichtagDatJahr\": \"2001-01-01T00:00:00\", \"HerkunftKomb\": \"CHmitCH\", \"HerkunftKombCd\": 1, \"AnzSchl\": 922}, {\"StichtagDatJahr\": \"2001-01-01T00:00:00\", \"HerkunftKomb\": \"CHmitAus\", \"HerkunftKombCd\": 2, \"AnzSchl\": 711}, {\"StichtagDatJahr\": \"2001-01-01T00:00:00\", \"HerkunftKomb\": \"AusmitCH\", \"HerkunftKombCd\": 3, \"AnzSchl\": 806}, {\"StichtagDatJahr\": \"2001-01-01T00:00:00\", \"HerkunftKomb\": \"AusmitAus\", \"HerkunftKombCd\": 4, \"AnzSchl\": 1175}, {\"StichtagDatJahr\": \"2002-01-01T00:00:00\", \"HerkunftKomb\": \"CHmitCH\", \"HerkunftKombCd\": 1, \"AnzSchl\": 939}, {\"StichtagDatJahr\": \"2002-01-01T00:00:00\", \"HerkunftKomb\": \"CHmitAus\", \"HerkunftKombCd\": 2, \"AnzSchl\": 744}, {\"StichtagDatJahr\": \"2002-01-01T00:00:00\", \"HerkunftKomb\": \"AusmitCH\", \"HerkunftKombCd\": 3, \"AnzSchl\": 776}, {\"StichtagDatJahr\": \"2002-01-01T00:00:00\", \"HerkunftKomb\": \"AusmitAus\", \"HerkunftKombCd\": 4, \"AnzSchl\": 1115}, {\"StichtagDatJahr\": \"2003-01-01T00:00:00\", \"HerkunftKomb\": \"CHmitCH\", \"HerkunftKombCd\": 1, \"AnzSchl\": 994}, {\"StichtagDatJahr\": \"2003-01-01T00:00:00\", \"HerkunftKomb\": \"CHmitAus\", \"HerkunftKombCd\": 2, \"AnzSchl\": 748}, {\"StichtagDatJahr\": \"2003-01-01T00:00:00\", \"HerkunftKomb\": \"AusmitCH\", \"HerkunftKombCd\": 3, \"AnzSchl\": 757}, {\"StichtagDatJahr\": \"2003-01-01T00:00:00\", \"HerkunftKomb\": \"AusmitAus\", \"HerkunftKombCd\": 4, \"AnzSchl\": 1184}, {\"StichtagDatJahr\": \"2004-01-01T00:00:00\", \"HerkunftKomb\": \"CHmitCH\", \"HerkunftKombCd\": 1, \"AnzSchl\": 905}, {\"StichtagDatJahr\": \"2004-01-01T00:00:00\", \"HerkunftKomb\": \"CHmitAus\", \"HerkunftKombCd\": 2, \"AnzSchl\": 762}, {\"StichtagDatJahr\": \"2004-01-01T00:00:00\", \"HerkunftKomb\": \"AusmitCH\", \"HerkunftKombCd\": 3, \"AnzSchl\": 710}, {\"StichtagDatJahr\": \"2004-01-01T00:00:00\", \"HerkunftKomb\": \"AusmitAus\", \"HerkunftKombCd\": 4, \"AnzSchl\": 990}, {\"StichtagDatJahr\": \"2005-01-01T00:00:00\", \"HerkunftKomb\": \"CHmitCH\", \"HerkunftKombCd\": 1, \"AnzSchl\": 989}, {\"StichtagDatJahr\": \"2005-01-01T00:00:00\", \"HerkunftKomb\": \"CHmitAus\", \"HerkunftKombCd\": 2, \"AnzSchl\": 676}, {\"StichtagDatJahr\": \"2005-01-01T00:00:00\", \"HerkunftKomb\": \"AusmitCH\", \"HerkunftKombCd\": 3, \"AnzSchl\": 726}, {\"StichtagDatJahr\": \"2005-01-01T00:00:00\", \"HerkunftKomb\": \"AusmitAus\", \"HerkunftKombCd\": 4, \"AnzSchl\": 999}, {\"StichtagDatJahr\": \"2006-01-01T00:00:00\", \"HerkunftKomb\": \"CHmitCH\", \"HerkunftKombCd\": 1, \"AnzSchl\": 901}, {\"StichtagDatJahr\": \"2006-01-01T00:00:00\", \"HerkunftKomb\": \"CHmitAus\", \"HerkunftKombCd\": 2, \"AnzSchl\": 669}, {\"StichtagDatJahr\": \"2006-01-01T00:00:00\", \"HerkunftKomb\": \"AusmitCH\", \"HerkunftKombCd\": 3, \"AnzSchl\": 631}, {\"StichtagDatJahr\": \"2006-01-01T00:00:00\", \"HerkunftKomb\": \"AusmitAus\", \"HerkunftKombCd\": 4, \"AnzSchl\": 1033}, {\"StichtagDatJahr\": \"2007-01-01T00:00:00\", \"HerkunftKomb\": \"CHmitCH\", \"HerkunftKombCd\": 1, \"AnzSchl\": 965}, {\"StichtagDatJahr\": \"2007-01-01T00:00:00\", \"HerkunftKomb\": \"CHmitAus\", \"HerkunftKombCd\": 2, \"AnzSchl\": 677}, {\"StichtagDatJahr\": \"2007-01-01T00:00:00\", \"HerkunftKomb\": \"AusmitCH\", \"HerkunftKombCd\": 3, \"AnzSchl\": 671}, {\"StichtagDatJahr\": \"2007-01-01T00:00:00\", \"HerkunftKomb\": \"AusmitAus\", \"HerkunftKombCd\": 4, \"AnzSchl\": 1067}, {\"StichtagDatJahr\": \"2008-01-01T00:00:00\", \"HerkunftKomb\": \"CHmitCH\", \"HerkunftKombCd\": 1, \"AnzSchl\": 1017}, {\"StichtagDatJahr\": \"2008-01-01T00:00:00\", \"HerkunftKomb\": \"CHmitAus\", \"HerkunftKombCd\": 2, \"AnzSchl\": 595}, {\"StichtagDatJahr\": \"2008-01-01T00:00:00\", \"HerkunftKomb\": \"AusmitCH\", \"HerkunftKombCd\": 3, \"AnzSchl\": 663}, {\"StichtagDatJahr\": \"2008-01-01T00:00:00\", \"HerkunftKomb\": \"AusmitAus\", \"HerkunftKombCd\": 4, \"AnzSchl\": 1044}, {\"StichtagDatJahr\": \"2009-01-01T00:00:00\", \"HerkunftKomb\": \"CHmitCH\", \"HerkunftKombCd\": 1, \"AnzSchl\": 1069}, {\"StichtagDatJahr\": \"2009-01-01T00:00:00\", \"HerkunftKomb\": \"CHmitAus\", \"HerkunftKombCd\": 2, \"AnzSchl\": 628}, {\"StichtagDatJahr\": \"2009-01-01T00:00:00\", \"HerkunftKomb\": \"AusmitCH\", \"HerkunftKombCd\": 3, \"AnzSchl\": 620}, {\"StichtagDatJahr\": \"2009-01-01T00:00:00\", \"HerkunftKomb\": \"AusmitAus\", \"HerkunftKombCd\": 4, \"AnzSchl\": 1068}, {\"StichtagDatJahr\": \"2010-01-01T00:00:00\", \"HerkunftKomb\": \"CHmitCH\", \"HerkunftKombCd\": 1, \"AnzSchl\": 1045}, {\"StichtagDatJahr\": \"2010-01-01T00:00:00\", \"HerkunftKomb\": \"CHmitAus\", \"HerkunftKombCd\": 2, \"AnzSchl\": 630}, {\"StichtagDatJahr\": \"2010-01-01T00:00:00\", \"HerkunftKomb\": \"AusmitCH\", \"HerkunftKombCd\": 3, \"AnzSchl\": 694}, {\"StichtagDatJahr\": \"2010-01-01T00:00:00\", \"HerkunftKomb\": \"AusmitAus\", \"HerkunftKombCd\": 4, \"AnzSchl\": 1174}, {\"StichtagDatJahr\": \"2011-01-01T00:00:00\", \"HerkunftKomb\": \"CHmitCH\", \"HerkunftKombCd\": 1, \"AnzSchl\": 1021}, {\"StichtagDatJahr\": \"2011-01-01T00:00:00\", \"HerkunftKomb\": \"CHmitAus\", \"HerkunftKombCd\": 2, \"AnzSchl\": 588}, {\"StichtagDatJahr\": \"2011-01-01T00:00:00\", \"HerkunftKomb\": \"AusmitCH\", \"HerkunftKombCd\": 3, \"AnzSchl\": 652}, {\"StichtagDatJahr\": \"2011-01-01T00:00:00\", \"HerkunftKomb\": \"AusmitAus\", \"HerkunftKombCd\": 4, \"AnzSchl\": 1144}, {\"StichtagDatJahr\": \"2012-01-01T00:00:00\", \"HerkunftKomb\": \"CHmitCH\", \"HerkunftKombCd\": 1, \"AnzSchl\": 1000}, {\"StichtagDatJahr\": \"2012-01-01T00:00:00\", \"HerkunftKomb\": \"CHmitAus\", \"HerkunftKombCd\": 2, \"AnzSchl\": 559}, {\"StichtagDatJahr\": \"2012-01-01T00:00:00\", \"HerkunftKomb\": \"AusmitCH\", \"HerkunftKombCd\": 3, \"AnzSchl\": 627}, {\"StichtagDatJahr\": \"2012-01-01T00:00:00\", \"HerkunftKomb\": \"AusmitAus\", \"HerkunftKombCd\": 4, \"AnzSchl\": 1142}, {\"StichtagDatJahr\": \"2013-01-01T00:00:00\", \"HerkunftKomb\": \"CHmitCH\", \"HerkunftKombCd\": 1, \"AnzSchl\": 1034}, {\"StichtagDatJahr\": \"2013-01-01T00:00:00\", \"HerkunftKomb\": \"CHmitAus\", \"HerkunftKombCd\": 2, \"AnzSchl\": 542}, {\"StichtagDatJahr\": \"2013-01-01T00:00:00\", \"HerkunftKomb\": \"AusmitCH\", \"HerkunftKombCd\": 3, \"AnzSchl\": 636}, {\"StichtagDatJahr\": \"2013-01-01T00:00:00\", \"HerkunftKomb\": \"AusmitAus\", \"HerkunftKombCd\": 4, \"AnzSchl\": 1363}, {\"StichtagDatJahr\": \"2014-01-01T00:00:00\", \"HerkunftKomb\": \"CHmitCH\", \"HerkunftKombCd\": 1, \"AnzSchl\": 1084}, {\"StichtagDatJahr\": \"2014-01-01T00:00:00\", \"HerkunftKomb\": \"CHmitAus\", \"HerkunftKombCd\": 2, \"AnzSchl\": 501}, {\"StichtagDatJahr\": \"2014-01-01T00:00:00\", \"HerkunftKomb\": \"AusmitCH\", \"HerkunftKombCd\": 3, \"AnzSchl\": 702}, {\"StichtagDatJahr\": \"2014-01-01T00:00:00\", \"HerkunftKomb\": \"AusmitAus\", \"HerkunftKombCd\": 4, \"AnzSchl\": 1310}, {\"StichtagDatJahr\": \"2015-01-01T00:00:00\", \"HerkunftKomb\": \"CHmitCH\", \"HerkunftKombCd\": 1, \"AnzSchl\": 1060}, {\"StichtagDatJahr\": \"2015-01-01T00:00:00\", \"HerkunftKomb\": \"CHmitAus\", \"HerkunftKombCd\": 2, \"AnzSchl\": 551}, {\"StichtagDatJahr\": \"2015-01-01T00:00:00\", \"HerkunftKomb\": \"AusmitCH\", \"HerkunftKombCd\": 3, \"AnzSchl\": 639}, {\"StichtagDatJahr\": \"2015-01-01T00:00:00\", \"HerkunftKomb\": \"AusmitAus\", \"HerkunftKombCd\": 4, \"AnzSchl\": 1279}, {\"StichtagDatJahr\": \"2016-01-01T00:00:00\", \"HerkunftKomb\": \"CHmitCH\", \"HerkunftKombCd\": 1, \"AnzSchl\": 1050}, {\"StichtagDatJahr\": \"2016-01-01T00:00:00\", \"HerkunftKomb\": \"CHmitAus\", \"HerkunftKombCd\": 2, \"AnzSchl\": 541}, {\"StichtagDatJahr\": \"2016-01-01T00:00:00\", \"HerkunftKomb\": \"AusmitCH\", \"HerkunftKombCd\": 3, \"AnzSchl\": 645}, {\"StichtagDatJahr\": \"2016-01-01T00:00:00\", \"HerkunftKomb\": \"AusmitAus\", \"HerkunftKombCd\": 4, \"AnzSchl\": 1170}, {\"StichtagDatJahr\": \"2017-01-01T00:00:00\", \"HerkunftKomb\": \"CHmitCH\", \"HerkunftKombCd\": 1, \"AnzSchl\": 953}, {\"StichtagDatJahr\": \"2017-01-01T00:00:00\", \"HerkunftKomb\": \"CHmitAus\", \"HerkunftKombCd\": 2, \"AnzSchl\": 517}, {\"StichtagDatJahr\": \"2017-01-01T00:00:00\", \"HerkunftKomb\": \"AusmitCH\", \"HerkunftKombCd\": 3, \"AnzSchl\": 681}, {\"StichtagDatJahr\": \"2017-01-01T00:00:00\", \"HerkunftKomb\": \"AusmitAus\", \"HerkunftKombCd\": 4, \"AnzSchl\": 1253}, {\"StichtagDatJahr\": \"2018-01-01T00:00:00\", \"HerkunftKomb\": \"CHmitCH\", \"HerkunftKombCd\": 1, \"AnzSchl\": 982}, {\"StichtagDatJahr\": \"2018-01-01T00:00:00\", \"HerkunftKomb\": \"CHmitAus\", \"HerkunftKombCd\": 2, \"AnzSchl\": 533}, {\"StichtagDatJahr\": \"2018-01-01T00:00:00\", \"HerkunftKomb\": \"AusmitCH\", \"HerkunftKombCd\": 3, \"AnzSchl\": 624}, {\"StichtagDatJahr\": \"2018-01-01T00:00:00\", \"HerkunftKomb\": \"AusmitAus\", \"HerkunftKombCd\": 4, \"AnzSchl\": 1260}, {\"StichtagDatJahr\": \"2019-01-01T00:00:00\", \"HerkunftKomb\": \"CHmitCH\", \"HerkunftKombCd\": 1, \"AnzSchl\": 972}, {\"StichtagDatJahr\": \"2019-01-01T00:00:00\", \"HerkunftKomb\": \"CHmitAus\", \"HerkunftKombCd\": 2, \"AnzSchl\": 487}, {\"StichtagDatJahr\": \"2019-01-01T00:00:00\", \"HerkunftKomb\": \"AusmitCH\", \"HerkunftKombCd\": 3, \"AnzSchl\": 630}, {\"StichtagDatJahr\": \"2019-01-01T00:00:00\", \"HerkunftKomb\": \"AusmitAus\", \"HerkunftKombCd\": 4, \"AnzSchl\": 1200}, {\"StichtagDatJahr\": \"2020-01-01T00:00:00\", \"HerkunftKomb\": \"CHmitCH\", \"HerkunftKombCd\": 1, \"AnzSchl\": 923}, {\"StichtagDatJahr\": \"2020-01-01T00:00:00\", \"HerkunftKomb\": \"CHmitAus\", \"HerkunftKombCd\": 2, \"AnzSchl\": 427}, {\"StichtagDatJahr\": \"2020-01-01T00:00:00\", \"HerkunftKomb\": \"AusmitCH\", \"HerkunftKombCd\": 3, \"AnzSchl\": 505}, {\"StichtagDatJahr\": \"2020-01-01T00:00:00\", \"HerkunftKomb\": \"AusmitAus\", \"HerkunftKombCd\": 4, \"AnzSchl\": 896}]}}, {\"mode\": \"vega-lite\"});\n",
       "</script>"
      ],
      "text/plain": [
       "alt.LayerChart(...)"
      ]
     },
     "execution_count": 27,
     "metadata": {},
     "output_type": "execute_result"
    }
   ],
   "source": [
    "# df_statzonen = df_statzonen[(df_statzonen.knr>0) & (df_statzonen.qname!=\"Hirslanden\")]\n",
    "#mySelection[[mySelection.NationFHistLang =='Schweiz']]\n",
    "\n",
    "\n",
    "highlight = alt.selection(type='single', on='mouseover',\n",
    "                          fields=['HerkunftKomb'], nearest=True)\n",
    "#x='date:StichtagDatJahr',\n",
    "base = alt.Chart(data2betested).encode(\n",
    "    x='StichtagDatJahr',\n",
    "    y='AnzSchl',\n",
    "    color='HerkunftKomb'\n",
    ")\n",
    "\n",
    "points = base.mark_circle().encode(\n",
    "    opacity=alt.value(2)\n",
    ").add_selection(\n",
    "    highlight\n",
    ").properties(\n",
    "    width=700 , height=300\n",
    ")\n",
    "lines = base.mark_line().encode(\n",
    "    size=alt.condition(~highlight, alt.value(1.5), alt.value(4))\n",
    ").interactive()\n",
    "\n",
    "points + lines"
   ]
  },
  {
   "cell_type": "code",
   "execution_count": 31,
   "metadata": {},
   "outputs": [
    {
     "data": {
      "text/html": [
       "\n",
       "<div id=\"altair-viz-d9d67f4c22d642a1885db487920396ca\"></div>\n",
       "<script type=\"text/javascript\">\n",
       "  (function(spec, embedOpt){\n",
       "    let outputDiv = document.currentScript.previousElementSibling;\n",
       "    if (outputDiv.id !== \"altair-viz-d9d67f4c22d642a1885db487920396ca\") {\n",
       "      outputDiv = document.getElementById(\"altair-viz-d9d67f4c22d642a1885db487920396ca\");\n",
       "    }\n",
       "    const paths = {\n",
       "      \"vega\": \"https://cdn.jsdelivr.net/npm//vega@5?noext\",\n",
       "      \"vega-lib\": \"https://cdn.jsdelivr.net/npm//vega-lib?noext\",\n",
       "      \"vega-lite\": \"https://cdn.jsdelivr.net/npm//vega-lite@4.8.1?noext\",\n",
       "      \"vega-embed\": \"https://cdn.jsdelivr.net/npm//vega-embed@6?noext\",\n",
       "    };\n",
       "\n",
       "    function loadScript(lib) {\n",
       "      return new Promise(function(resolve, reject) {\n",
       "        var s = document.createElement('script');\n",
       "        s.src = paths[lib];\n",
       "        s.async = true;\n",
       "        s.onload = () => resolve(paths[lib]);\n",
       "        s.onerror = () => reject(`Error loading script: ${paths[lib]}`);\n",
       "        document.getElementsByTagName(\"head\")[0].appendChild(s);\n",
       "      });\n",
       "    }\n",
       "\n",
       "    function showError(err) {\n",
       "      outputDiv.innerHTML = `<div class=\"error\" style=\"color:red;\">${err}</div>`;\n",
       "      throw err;\n",
       "    }\n",
       "\n",
       "    function displayChart(vegaEmbed) {\n",
       "      vegaEmbed(outputDiv, spec, embedOpt)\n",
       "        .catch(err => showError(`Javascript Error: ${err.message}<br>This usually means there's a typo in your chart specification. See the javascript console for the full traceback.`));\n",
       "    }\n",
       "\n",
       "    if(typeof define === \"function\" && define.amd) {\n",
       "      requirejs.config({paths});\n",
       "      require([\"vega-embed\"], displayChart, err => showError(`Error loading script: ${err.message}`));\n",
       "    } else if (typeof vegaEmbed === \"function\") {\n",
       "      displayChart(vegaEmbed);\n",
       "    } else {\n",
       "      loadScript(\"vega\")\n",
       "        .then(() => loadScript(\"vega-lite\"))\n",
       "        .then(() => loadScript(\"vega-embed\"))\n",
       "        .catch(showError)\n",
       "        .then(() => displayChart(vegaEmbed));\n",
       "    }\n",
       "  })({\"config\": {\"view\": {\"continuousWidth\": 400, \"continuousHeight\": 300}}, \"data\": {\"name\": \"data-eedf63f335180413de4351837359abd9\"}, \"mark\": {\"type\": \"circle\", \"size\": 60}, \"encoding\": {\"color\": {\"type\": \"nominal\", \"field\": \"HerkunftKomb\", \"scale\": {\"scheme\": \"dark2\"}}, \"tooltip\": [{\"type\": \"quantitative\", \"field\": \"AnzSchl\"}, {\"type\": \"temporal\", \"field\": \"StichtagDatJahr\"}, {\"type\": \"nominal\", \"field\": \"HerkunftKomb\"}, {\"type\": \"quantitative\", \"field\": \"HerkunftKombCd\"}], \"x\": {\"type\": \"temporal\", \"field\": \"StichtagDatJahr\"}, \"y\": {\"type\": \"quantitative\", \"field\": \"AnzSchl\"}}, \"selection\": {\"selector008\": {\"type\": \"interval\", \"bind\": \"scales\", \"encodings\": [\"x\", \"y\"]}}, \"$schema\": \"https://vega.github.io/schema/vega-lite/v4.8.1.json\", \"datasets\": {\"data-eedf63f335180413de4351837359abd9\": [{\"StichtagDatJahr\": \"1993-01-01T00:00:00\", \"HerkunftKomb\": \"CHmitCH\", \"HerkunftKombCd\": 1, \"AnzSchl\": 1143}, {\"StichtagDatJahr\": \"1993-01-01T00:00:00\", \"HerkunftKomb\": \"CHmitAus\", \"HerkunftKombCd\": 2, \"AnzSchl\": 767}, {\"StichtagDatJahr\": \"1993-01-01T00:00:00\", \"HerkunftKomb\": \"AusmitCH\", \"HerkunftKombCd\": 3, \"AnzSchl\": 615}, {\"StichtagDatJahr\": \"1993-01-01T00:00:00\", \"HerkunftKomb\": \"AusmitAus\", \"HerkunftKombCd\": 4, \"AnzSchl\": 1046}, {\"StichtagDatJahr\": \"1994-01-01T00:00:00\", \"HerkunftKomb\": \"CHmitCH\", \"HerkunftKombCd\": 1, \"AnzSchl\": 1121}, {\"StichtagDatJahr\": \"1994-01-01T00:00:00\", \"HerkunftKomb\": \"CHmitAus\", \"HerkunftKombCd\": 2, \"AnzSchl\": 720}, {\"StichtagDatJahr\": \"1994-01-01T00:00:00\", \"HerkunftKomb\": \"AusmitCH\", \"HerkunftKombCd\": 3, \"AnzSchl\": 652}, {\"StichtagDatJahr\": \"1994-01-01T00:00:00\", \"HerkunftKomb\": \"AusmitAus\", \"HerkunftKombCd\": 4, \"AnzSchl\": 1048}, {\"StichtagDatJahr\": \"1995-01-01T00:00:00\", \"HerkunftKomb\": \"CHmitCH\", \"HerkunftKombCd\": 1, \"AnzSchl\": 1036}, {\"StichtagDatJahr\": \"1995-01-01T00:00:00\", \"HerkunftKomb\": \"CHmitAus\", \"HerkunftKombCd\": 2, \"AnzSchl\": 627}, {\"StichtagDatJahr\": \"1995-01-01T00:00:00\", \"HerkunftKomb\": \"AusmitCH\", \"HerkunftKombCd\": 3, \"AnzSchl\": 616}, {\"StichtagDatJahr\": \"1995-01-01T00:00:00\", \"HerkunftKomb\": \"AusmitAus\", \"HerkunftKombCd\": 4, \"AnzSchl\": 901}, {\"StichtagDatJahr\": \"1996-01-01T00:00:00\", \"HerkunftKomb\": \"CHmitCH\", \"HerkunftKombCd\": 1, \"AnzSchl\": 1003}, {\"StichtagDatJahr\": \"1996-01-01T00:00:00\", \"HerkunftKomb\": \"CHmitAus\", \"HerkunftKombCd\": 2, \"AnzSchl\": 653}, {\"StichtagDatJahr\": \"1996-01-01T00:00:00\", \"HerkunftKomb\": \"AusmitCH\", \"HerkunftKombCd\": 3, \"AnzSchl\": 609}, {\"StichtagDatJahr\": \"1996-01-01T00:00:00\", \"HerkunftKomb\": \"AusmitAus\", \"HerkunftKombCd\": 4, \"AnzSchl\": 957}, {\"StichtagDatJahr\": \"1997-01-01T00:00:00\", \"HerkunftKomb\": \"CHmitCH\", \"HerkunftKombCd\": 1, \"AnzSchl\": 958}, {\"StichtagDatJahr\": \"1997-01-01T00:00:00\", \"HerkunftKomb\": \"CHmitAus\", \"HerkunftKombCd\": 2, \"AnzSchl\": 660}, {\"StichtagDatJahr\": \"1997-01-01T00:00:00\", \"HerkunftKomb\": \"AusmitCH\", \"HerkunftKombCd\": 3, \"AnzSchl\": 649}, {\"StichtagDatJahr\": \"1997-01-01T00:00:00\", \"HerkunftKomb\": \"AusmitAus\", \"HerkunftKombCd\": 4, \"AnzSchl\": 992}, {\"StichtagDatJahr\": \"1998-01-01T00:00:00\", \"HerkunftKomb\": \"CHmitCH\", \"HerkunftKombCd\": 1, \"AnzSchl\": 964}, {\"StichtagDatJahr\": \"1998-01-01T00:00:00\", \"HerkunftKomb\": \"CHmitAus\", \"HerkunftKombCd\": 2, \"AnzSchl\": 650}, {\"StichtagDatJahr\": \"1998-01-01T00:00:00\", \"HerkunftKomb\": \"AusmitCH\", \"HerkunftKombCd\": 3, \"AnzSchl\": 680}, {\"StichtagDatJahr\": \"1998-01-01T00:00:00\", \"HerkunftKomb\": \"AusmitAus\", \"HerkunftKombCd\": 4, \"AnzSchl\": 1054}, {\"StichtagDatJahr\": \"1999-01-01T00:00:00\", \"HerkunftKomb\": \"CHmitCH\", \"HerkunftKombCd\": 1, \"AnzSchl\": 993}, {\"StichtagDatJahr\": \"1999-01-01T00:00:00\", \"HerkunftKomb\": \"CHmitAus\", \"HerkunftKombCd\": 2, \"AnzSchl\": 669}, {\"StichtagDatJahr\": \"1999-01-01T00:00:00\", \"HerkunftKomb\": \"AusmitCH\", \"HerkunftKombCd\": 3, \"AnzSchl\": 716}, {\"StichtagDatJahr\": \"1999-01-01T00:00:00\", \"HerkunftKomb\": \"AusmitAus\", \"HerkunftKombCd\": 4, \"AnzSchl\": 1018}, {\"StichtagDatJahr\": \"2000-01-01T00:00:00\", \"HerkunftKomb\": \"CHmitCH\", \"HerkunftKombCd\": 1, \"AnzSchl\": 948}, {\"StichtagDatJahr\": \"2000-01-01T00:00:00\", \"HerkunftKomb\": \"CHmitAus\", \"HerkunftKombCd\": 2, \"AnzSchl\": 718}, {\"StichtagDatJahr\": \"2000-01-01T00:00:00\", \"HerkunftKomb\": \"AusmitCH\", \"HerkunftKombCd\": 3, \"AnzSchl\": 733}, {\"StichtagDatJahr\": \"2000-01-01T00:00:00\", \"HerkunftKomb\": \"AusmitAus\", \"HerkunftKombCd\": 4, \"AnzSchl\": 1064}, {\"StichtagDatJahr\": \"2001-01-01T00:00:00\", \"HerkunftKomb\": \"CHmitCH\", \"HerkunftKombCd\": 1, \"AnzSchl\": 922}, {\"StichtagDatJahr\": \"2001-01-01T00:00:00\", \"HerkunftKomb\": \"CHmitAus\", \"HerkunftKombCd\": 2, \"AnzSchl\": 711}, {\"StichtagDatJahr\": \"2001-01-01T00:00:00\", \"HerkunftKomb\": \"AusmitCH\", \"HerkunftKombCd\": 3, \"AnzSchl\": 806}, {\"StichtagDatJahr\": \"2001-01-01T00:00:00\", \"HerkunftKomb\": \"AusmitAus\", \"HerkunftKombCd\": 4, \"AnzSchl\": 1175}, {\"StichtagDatJahr\": \"2002-01-01T00:00:00\", \"HerkunftKomb\": \"CHmitCH\", \"HerkunftKombCd\": 1, \"AnzSchl\": 939}, {\"StichtagDatJahr\": \"2002-01-01T00:00:00\", \"HerkunftKomb\": \"CHmitAus\", \"HerkunftKombCd\": 2, \"AnzSchl\": 744}, {\"StichtagDatJahr\": \"2002-01-01T00:00:00\", \"HerkunftKomb\": \"AusmitCH\", \"HerkunftKombCd\": 3, \"AnzSchl\": 776}, {\"StichtagDatJahr\": \"2002-01-01T00:00:00\", \"HerkunftKomb\": \"AusmitAus\", \"HerkunftKombCd\": 4, \"AnzSchl\": 1115}, {\"StichtagDatJahr\": \"2003-01-01T00:00:00\", \"HerkunftKomb\": \"CHmitCH\", \"HerkunftKombCd\": 1, \"AnzSchl\": 994}, {\"StichtagDatJahr\": \"2003-01-01T00:00:00\", \"HerkunftKomb\": \"CHmitAus\", \"HerkunftKombCd\": 2, \"AnzSchl\": 748}, {\"StichtagDatJahr\": \"2003-01-01T00:00:00\", \"HerkunftKomb\": \"AusmitCH\", \"HerkunftKombCd\": 3, \"AnzSchl\": 757}, {\"StichtagDatJahr\": \"2003-01-01T00:00:00\", \"HerkunftKomb\": \"AusmitAus\", \"HerkunftKombCd\": 4, \"AnzSchl\": 1184}, {\"StichtagDatJahr\": \"2004-01-01T00:00:00\", \"HerkunftKomb\": \"CHmitCH\", \"HerkunftKombCd\": 1, \"AnzSchl\": 905}, {\"StichtagDatJahr\": \"2004-01-01T00:00:00\", \"HerkunftKomb\": \"CHmitAus\", \"HerkunftKombCd\": 2, \"AnzSchl\": 762}, {\"StichtagDatJahr\": \"2004-01-01T00:00:00\", \"HerkunftKomb\": \"AusmitCH\", \"HerkunftKombCd\": 3, \"AnzSchl\": 710}, {\"StichtagDatJahr\": \"2004-01-01T00:00:00\", \"HerkunftKomb\": \"AusmitAus\", \"HerkunftKombCd\": 4, \"AnzSchl\": 990}, {\"StichtagDatJahr\": \"2005-01-01T00:00:00\", \"HerkunftKomb\": \"CHmitCH\", \"HerkunftKombCd\": 1, \"AnzSchl\": 989}, {\"StichtagDatJahr\": \"2005-01-01T00:00:00\", \"HerkunftKomb\": \"CHmitAus\", \"HerkunftKombCd\": 2, \"AnzSchl\": 676}, {\"StichtagDatJahr\": \"2005-01-01T00:00:00\", \"HerkunftKomb\": \"AusmitCH\", \"HerkunftKombCd\": 3, \"AnzSchl\": 726}, {\"StichtagDatJahr\": \"2005-01-01T00:00:00\", \"HerkunftKomb\": \"AusmitAus\", \"HerkunftKombCd\": 4, \"AnzSchl\": 999}, {\"StichtagDatJahr\": \"2006-01-01T00:00:00\", \"HerkunftKomb\": \"CHmitCH\", \"HerkunftKombCd\": 1, \"AnzSchl\": 901}, {\"StichtagDatJahr\": \"2006-01-01T00:00:00\", \"HerkunftKomb\": \"CHmitAus\", \"HerkunftKombCd\": 2, \"AnzSchl\": 669}, {\"StichtagDatJahr\": \"2006-01-01T00:00:00\", \"HerkunftKomb\": \"AusmitCH\", \"HerkunftKombCd\": 3, \"AnzSchl\": 631}, {\"StichtagDatJahr\": \"2006-01-01T00:00:00\", \"HerkunftKomb\": \"AusmitAus\", \"HerkunftKombCd\": 4, \"AnzSchl\": 1033}, {\"StichtagDatJahr\": \"2007-01-01T00:00:00\", \"HerkunftKomb\": \"CHmitCH\", \"HerkunftKombCd\": 1, \"AnzSchl\": 965}, {\"StichtagDatJahr\": \"2007-01-01T00:00:00\", \"HerkunftKomb\": \"CHmitAus\", \"HerkunftKombCd\": 2, \"AnzSchl\": 677}, {\"StichtagDatJahr\": \"2007-01-01T00:00:00\", \"HerkunftKomb\": \"AusmitCH\", \"HerkunftKombCd\": 3, \"AnzSchl\": 671}, {\"StichtagDatJahr\": \"2007-01-01T00:00:00\", \"HerkunftKomb\": \"AusmitAus\", \"HerkunftKombCd\": 4, \"AnzSchl\": 1067}, {\"StichtagDatJahr\": \"2008-01-01T00:00:00\", \"HerkunftKomb\": \"CHmitCH\", \"HerkunftKombCd\": 1, \"AnzSchl\": 1017}, {\"StichtagDatJahr\": \"2008-01-01T00:00:00\", \"HerkunftKomb\": \"CHmitAus\", \"HerkunftKombCd\": 2, \"AnzSchl\": 595}, {\"StichtagDatJahr\": \"2008-01-01T00:00:00\", \"HerkunftKomb\": \"AusmitCH\", \"HerkunftKombCd\": 3, \"AnzSchl\": 663}, {\"StichtagDatJahr\": \"2008-01-01T00:00:00\", \"HerkunftKomb\": \"AusmitAus\", \"HerkunftKombCd\": 4, \"AnzSchl\": 1044}, {\"StichtagDatJahr\": \"2009-01-01T00:00:00\", \"HerkunftKomb\": \"CHmitCH\", \"HerkunftKombCd\": 1, \"AnzSchl\": 1069}, {\"StichtagDatJahr\": \"2009-01-01T00:00:00\", \"HerkunftKomb\": \"CHmitAus\", \"HerkunftKombCd\": 2, \"AnzSchl\": 628}, {\"StichtagDatJahr\": \"2009-01-01T00:00:00\", \"HerkunftKomb\": \"AusmitCH\", \"HerkunftKombCd\": 3, \"AnzSchl\": 620}, {\"StichtagDatJahr\": \"2009-01-01T00:00:00\", \"HerkunftKomb\": \"AusmitAus\", \"HerkunftKombCd\": 4, \"AnzSchl\": 1068}, {\"StichtagDatJahr\": \"2010-01-01T00:00:00\", \"HerkunftKomb\": \"CHmitCH\", \"HerkunftKombCd\": 1, \"AnzSchl\": 1045}, {\"StichtagDatJahr\": \"2010-01-01T00:00:00\", \"HerkunftKomb\": \"CHmitAus\", \"HerkunftKombCd\": 2, \"AnzSchl\": 630}, {\"StichtagDatJahr\": \"2010-01-01T00:00:00\", \"HerkunftKomb\": \"AusmitCH\", \"HerkunftKombCd\": 3, \"AnzSchl\": 694}, {\"StichtagDatJahr\": \"2010-01-01T00:00:00\", \"HerkunftKomb\": \"AusmitAus\", \"HerkunftKombCd\": 4, \"AnzSchl\": 1174}, {\"StichtagDatJahr\": \"2011-01-01T00:00:00\", \"HerkunftKomb\": \"CHmitCH\", \"HerkunftKombCd\": 1, \"AnzSchl\": 1021}, {\"StichtagDatJahr\": \"2011-01-01T00:00:00\", \"HerkunftKomb\": \"CHmitAus\", \"HerkunftKombCd\": 2, \"AnzSchl\": 588}, {\"StichtagDatJahr\": \"2011-01-01T00:00:00\", \"HerkunftKomb\": \"AusmitCH\", \"HerkunftKombCd\": 3, \"AnzSchl\": 652}, {\"StichtagDatJahr\": \"2011-01-01T00:00:00\", \"HerkunftKomb\": \"AusmitAus\", \"HerkunftKombCd\": 4, \"AnzSchl\": 1144}, {\"StichtagDatJahr\": \"2012-01-01T00:00:00\", \"HerkunftKomb\": \"CHmitCH\", \"HerkunftKombCd\": 1, \"AnzSchl\": 1000}, {\"StichtagDatJahr\": \"2012-01-01T00:00:00\", \"HerkunftKomb\": \"CHmitAus\", \"HerkunftKombCd\": 2, \"AnzSchl\": 559}, {\"StichtagDatJahr\": \"2012-01-01T00:00:00\", \"HerkunftKomb\": \"AusmitCH\", \"HerkunftKombCd\": 3, \"AnzSchl\": 627}, {\"StichtagDatJahr\": \"2012-01-01T00:00:00\", \"HerkunftKomb\": \"AusmitAus\", \"HerkunftKombCd\": 4, \"AnzSchl\": 1142}, {\"StichtagDatJahr\": \"2013-01-01T00:00:00\", \"HerkunftKomb\": \"CHmitCH\", \"HerkunftKombCd\": 1, \"AnzSchl\": 1034}, {\"StichtagDatJahr\": \"2013-01-01T00:00:00\", \"HerkunftKomb\": \"CHmitAus\", \"HerkunftKombCd\": 2, \"AnzSchl\": 542}, {\"StichtagDatJahr\": \"2013-01-01T00:00:00\", \"HerkunftKomb\": \"AusmitCH\", \"HerkunftKombCd\": 3, \"AnzSchl\": 636}, {\"StichtagDatJahr\": \"2013-01-01T00:00:00\", \"HerkunftKomb\": \"AusmitAus\", \"HerkunftKombCd\": 4, \"AnzSchl\": 1363}, {\"StichtagDatJahr\": \"2014-01-01T00:00:00\", \"HerkunftKomb\": \"CHmitCH\", \"HerkunftKombCd\": 1, \"AnzSchl\": 1084}, {\"StichtagDatJahr\": \"2014-01-01T00:00:00\", \"HerkunftKomb\": \"CHmitAus\", \"HerkunftKombCd\": 2, \"AnzSchl\": 501}, {\"StichtagDatJahr\": \"2014-01-01T00:00:00\", \"HerkunftKomb\": \"AusmitCH\", \"HerkunftKombCd\": 3, \"AnzSchl\": 702}, {\"StichtagDatJahr\": \"2014-01-01T00:00:00\", \"HerkunftKomb\": \"AusmitAus\", \"HerkunftKombCd\": 4, \"AnzSchl\": 1310}, {\"StichtagDatJahr\": \"2015-01-01T00:00:00\", \"HerkunftKomb\": \"CHmitCH\", \"HerkunftKombCd\": 1, \"AnzSchl\": 1060}, {\"StichtagDatJahr\": \"2015-01-01T00:00:00\", \"HerkunftKomb\": \"CHmitAus\", \"HerkunftKombCd\": 2, \"AnzSchl\": 551}, {\"StichtagDatJahr\": \"2015-01-01T00:00:00\", \"HerkunftKomb\": \"AusmitCH\", \"HerkunftKombCd\": 3, \"AnzSchl\": 639}, {\"StichtagDatJahr\": \"2015-01-01T00:00:00\", \"HerkunftKomb\": \"AusmitAus\", \"HerkunftKombCd\": 4, \"AnzSchl\": 1279}, {\"StichtagDatJahr\": \"2016-01-01T00:00:00\", \"HerkunftKomb\": \"CHmitCH\", \"HerkunftKombCd\": 1, \"AnzSchl\": 1050}, {\"StichtagDatJahr\": \"2016-01-01T00:00:00\", \"HerkunftKomb\": \"CHmitAus\", \"HerkunftKombCd\": 2, \"AnzSchl\": 541}, {\"StichtagDatJahr\": \"2016-01-01T00:00:00\", \"HerkunftKomb\": \"AusmitCH\", \"HerkunftKombCd\": 3, \"AnzSchl\": 645}, {\"StichtagDatJahr\": \"2016-01-01T00:00:00\", \"HerkunftKomb\": \"AusmitAus\", \"HerkunftKombCd\": 4, \"AnzSchl\": 1170}, {\"StichtagDatJahr\": \"2017-01-01T00:00:00\", \"HerkunftKomb\": \"CHmitCH\", \"HerkunftKombCd\": 1, \"AnzSchl\": 953}, {\"StichtagDatJahr\": \"2017-01-01T00:00:00\", \"HerkunftKomb\": \"CHmitAus\", \"HerkunftKombCd\": 2, \"AnzSchl\": 517}, {\"StichtagDatJahr\": \"2017-01-01T00:00:00\", \"HerkunftKomb\": \"AusmitCH\", \"HerkunftKombCd\": 3, \"AnzSchl\": 681}, {\"StichtagDatJahr\": \"2017-01-01T00:00:00\", \"HerkunftKomb\": \"AusmitAus\", \"HerkunftKombCd\": 4, \"AnzSchl\": 1253}, {\"StichtagDatJahr\": \"2018-01-01T00:00:00\", \"HerkunftKomb\": \"CHmitCH\", \"HerkunftKombCd\": 1, \"AnzSchl\": 982}, {\"StichtagDatJahr\": \"2018-01-01T00:00:00\", \"HerkunftKomb\": \"CHmitAus\", \"HerkunftKombCd\": 2, \"AnzSchl\": 533}, {\"StichtagDatJahr\": \"2018-01-01T00:00:00\", \"HerkunftKomb\": \"AusmitCH\", \"HerkunftKombCd\": 3, \"AnzSchl\": 624}, {\"StichtagDatJahr\": \"2018-01-01T00:00:00\", \"HerkunftKomb\": \"AusmitAus\", \"HerkunftKombCd\": 4, \"AnzSchl\": 1260}, {\"StichtagDatJahr\": \"2019-01-01T00:00:00\", \"HerkunftKomb\": \"CHmitCH\", \"HerkunftKombCd\": 1, \"AnzSchl\": 972}, {\"StichtagDatJahr\": \"2019-01-01T00:00:00\", \"HerkunftKomb\": \"CHmitAus\", \"HerkunftKombCd\": 2, \"AnzSchl\": 487}, {\"StichtagDatJahr\": \"2019-01-01T00:00:00\", \"HerkunftKomb\": \"AusmitCH\", \"HerkunftKombCd\": 3, \"AnzSchl\": 630}, {\"StichtagDatJahr\": \"2019-01-01T00:00:00\", \"HerkunftKomb\": \"AusmitAus\", \"HerkunftKombCd\": 4, \"AnzSchl\": 1200}, {\"StichtagDatJahr\": \"2020-01-01T00:00:00\", \"HerkunftKomb\": \"CHmitCH\", \"HerkunftKombCd\": 1, \"AnzSchl\": 923}, {\"StichtagDatJahr\": \"2020-01-01T00:00:00\", \"HerkunftKomb\": \"CHmitAus\", \"HerkunftKombCd\": 2, \"AnzSchl\": 427}, {\"StichtagDatJahr\": \"2020-01-01T00:00:00\", \"HerkunftKomb\": \"AusmitCH\", \"HerkunftKombCd\": 3, \"AnzSchl\": 505}, {\"StichtagDatJahr\": \"2020-01-01T00:00:00\", \"HerkunftKomb\": \"AusmitAus\", \"HerkunftKombCd\": 4, \"AnzSchl\": 896}]}}, {\"mode\": \"vega-lite\"});\n",
       "</script>"
      ],
      "text/plain": [
       "alt.Chart(...)"
      ]
     },
     "execution_count": 31,
     "metadata": {},
     "output_type": "execute_result"
    }
   ],
   "source": [
    "alt.Chart(data2betested).mark_circle(size=60).encode(\n",
    "    x='StichtagDatJahr',\n",
    "    y='AnzSchl',\n",
    "    #color='AnzNat',\n",
    "    #color=alt.Color('AnzNat', scale=alt.Scale(scheme='greens')),\n",
    "    color=alt.Color('HerkunftKomb', scale=alt.Scale(scheme='dark2')),\n",
    "    tooltip=['AnzSchl','StichtagDatJahr','HerkunftKomb','HerkunftKombCd']\n",
    ").interactive() # this makes the axes interactive: now you can zoom & pan\n",
    "\n",
    "\n"
   ]
  },
  {
   "cell_type": "markdown",
   "metadata": {},
   "source": [
    "**Sharepoint als gecheckt markieren!**"
   ]
  },
  {
   "cell_type": "markdown",
   "metadata": {},
   "source": [
    "Record auf Sharepoint: **[Link](http://kollaboration.intranet.stzh.ch/orga/ssz-produkte/Lists/SASA_Outputs/EditForm.aspx?ID=52&Source=%2Forga%2Fssz%2Dprodukte%2FLists%2FSASA%5FOutputs)**"
   ]
  },
  {
   "cell_type": "raw",
   "metadata": {},
   "source": []
  },
  {
   "cell_type": "code",
   "execution_count": null,
   "metadata": {},
   "outputs": [],
   "source": []
  }
 ],
 "metadata": {
  "kernelspec": {
   "display_name": "Python 3 (ipykernel)",
   "language": "python",
   "name": "python3"
  },
  "language_info": {
   "codemirror_mode": {
    "name": "ipython",
    "version": 3
   },
   "file_extension": ".py",
   "mimetype": "text/x-python",
   "name": "python",
   "nbconvert_exporter": "python",
   "pygments_lexer": "ipython3",
   "version": "3.9.7"
  }
 },
 "nbformat": 4,
 "nbformat_minor": 4
}
