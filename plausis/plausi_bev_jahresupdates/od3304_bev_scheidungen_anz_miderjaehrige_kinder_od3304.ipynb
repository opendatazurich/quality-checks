{
 "cells": [
  {
   "cell_type": "markdown",
   "metadata": {},
   "source": [
    "# Testing\n",
    "### Ehescheidungen nach Zahl minderjähriger Kinder, seit 1993\n",
    "Datum: 02.11.2021"
   ]
  },
  {
   "cell_type": "markdown",
   "metadata": {},
   "source": [
    "**Importiere die notwendigen Packages**"
   ]
  },
  {
   "cell_type": "code",
   "execution_count": 1,
   "metadata": {},
   "outputs": [],
   "source": [
    "#pip install geopandas fiona requests folium mplleaflet contextily"
   ]
  },
  {
   "cell_type": "code",
   "execution_count": 5,
   "metadata": {},
   "outputs": [],
   "source": [
    "import pandas as pd\n",
    "import pivottablejs\n",
    "from pivottablejs import pivot_ui\n",
    "import numpy as np\n",
    "import altair as alt\n",
    "import matplotlib.pyplot as plt\n",
    "from datetime import datetime\n",
    "import geopandas as gpd\n",
    "import folium \n",
    "\n"
   ]
  },
  {
   "cell_type": "markdown",
   "metadata": {},
   "source": [
    "Definiere Settings. Hier das Zahlenformat von Float-Werten (z.B. *'{:,.2f}'.format* mit Komma als Tausenderzeichen), "
   ]
  },
  {
   "cell_type": "code",
   "execution_count": 6,
   "metadata": {},
   "outputs": [],
   "source": [
    "pd.options.display.float_format = '{:.0f}'.format\n",
    "pd.set_option('display.width', 100)\n",
    "pd.set_option('display.max_columns', 15)"
   ]
  },
  {
   "cell_type": "markdown",
   "metadata": {},
   "source": [
    "Importiere einen Datensatz von der **DWH_INT** Dropzone.\n",
    "\n",
    "- Beachte dabei die Notation des Pfades...\n",
    "- Definiere mal aktuell noch keine weiteren Parameter beim Import"
   ]
  },
  {
   "cell_type": "markdown",
   "metadata": {},
   "source": [
    "**Dataset auf INTEG Datenkatalog**: https://data.integ.stadt-zuerich.ch/dataset/int_dwh_bev_scheidungen_anz_miderjaehrige_kinder_od3304\n",
    "\n",
    "(int_dwh)"
   ]
  },
  {
   "cell_type": "code",
   "execution_count": 13,
   "metadata": {},
   "outputs": [
    {
     "name": "stdout",
     "output_type": "stream",
     "text": [
      "prod\n"
     ]
    }
   ],
   "source": [
    "#Die Datasets sind nur zum Testen auf INT-DWH-Dropzone. Wenn der Test vorbei ist, sind sie auf PROD. \n",
    "# Über den Status kann man einfach switchen\n",
    "\n",
    "status = \"prod\";\n",
    "print(status)"
   ]
  },
  {
   "cell_type": "code",
   "execution_count": 15,
   "metadata": {
    "jupyter": {
     "source_hidden": true
    },
    "tags": []
   },
   "outputs": [],
   "source": [
    "# Filepath\n",
    "if status == \"prod\":\n",
    "    fp = r\"\\\\szh\\ssz\\applikationen\\OGD_Dropzone\\DWH\\bev_scheidungen_anz_miderjaehrige_kinder_od3304\\BEV330OD3304.csv\"\n",
    "else:\n",
    "    fp = r\"\\\\szh\\ssz\\applikationen\\OGD_Dropzone\\INT_DWH\\bev_scheidungen_anz_miderjaehrige_kinder_od3304\\BEV330OD3304.csv\""
   ]
  },
  {
   "cell_type": "code",
   "execution_count": 14,
   "metadata": {},
   "outputs": [],
   "source": [
    "# Read the data\n",
    "data2betested = pd.read_csv(\n",
    "    fp, \n",
    "    sep=',',\n",
    "   #usecols=[0,1,2,3,4,6],\n",
    "   #names=['stationid','year','month','avgtemp','latitude','longitude','elevation','station','countryid','country'],\n",
    "   #skiprows=1,\n",
    "   # parse_dates=[0],\n",
    "    parse_dates=True,\n",
    "    #date_parser=lambda x: pd.to_datetime(x, format=\"%Y\"), \n",
    "    #index_col=\"date_time\",\n",
    "    low_memory=False    \n",
    "    )\n"
   ]
  },
  {
   "cell_type": "markdown",
   "metadata": {},
   "source": [
    "In der Folge ein paar erste Tests:"
   ]
  },
  {
   "cell_type": "code",
   "execution_count": 5,
   "metadata": {},
   "outputs": [
    {
     "data": {
      "text/plain": [
       "pandas.core.frame.DataFrame"
      ]
     },
     "execution_count": 5,
     "metadata": {},
     "output_type": "execute_result"
    }
   ],
   "source": [
    "type(data2betested)"
   ]
  },
  {
   "cell_type": "markdown",
   "metadata": {},
   "source": [
    " - 1) Zeige eine kurze Vorschau der importierten Daten\n",
    " - 2) Weise die Datentypen aus\n",
    " - 3) Zeige die Shape (Umfang) des Datensatzes an"
   ]
  },
  {
   "cell_type": "code",
   "execution_count": 6,
   "metadata": {},
   "outputs": [
    {
     "data": {
      "text/html": [
       "<div>\n",
       "<style scoped>\n",
       "    .dataframe tbody tr th:only-of-type {\n",
       "        vertical-align: middle;\n",
       "    }\n",
       "\n",
       "    .dataframe tbody tr th {\n",
       "        vertical-align: top;\n",
       "    }\n",
       "\n",
       "    .dataframe thead th {\n",
       "        text-align: right;\n",
       "    }\n",
       "</style>\n",
       "<table border=\"1\" class=\"dataframe\">\n",
       "  <thead>\n",
       "    <tr style=\"text-align: right;\">\n",
       "      <th></th>\n",
       "      <th>StichtagDatJahr</th>\n",
       "      <th>AnzKinder</th>\n",
       "      <th>AnzKinderCd</th>\n",
       "      <th>AnzFaelle</th>\n",
       "    </tr>\n",
       "  </thead>\n",
       "  <tbody>\n",
       "    <tr>\n",
       "      <th>0</th>\n",
       "      <td>1993</td>\n",
       "      <td>keine</td>\n",
       "      <td>0</td>\n",
       "      <td>967</td>\n",
       "    </tr>\n",
       "    <tr>\n",
       "      <th>1</th>\n",
       "      <td>1993</td>\n",
       "      <td>1</td>\n",
       "      <td>1</td>\n",
       "      <td>257</td>\n",
       "    </tr>\n",
       "    <tr>\n",
       "      <th>2</th>\n",
       "      <td>1993</td>\n",
       "      <td>2</td>\n",
       "      <td>2</td>\n",
       "      <td>217</td>\n",
       "    </tr>\n",
       "  </tbody>\n",
       "</table>\n",
       "</div>"
      ],
      "text/plain": [
       "   StichtagDatJahr AnzKinder  AnzKinderCd  AnzFaelle\n",
       "0             1993     keine            0        967\n",
       "1             1993         1            1        257\n",
       "2             1993         2            2        217"
      ]
     },
     "execution_count": 6,
     "metadata": {},
     "output_type": "execute_result"
    }
   ],
   "source": [
    "data2betested.head(3)"
   ]
  },
  {
   "cell_type": "code",
   "execution_count": 7,
   "metadata": {},
   "outputs": [
    {
     "data": {
      "text/plain": [
       "StichtagDatJahr     int64\n",
       "AnzKinder          object\n",
       "AnzKinderCd         int64\n",
       "AnzFaelle           int64\n",
       "dtype: object"
      ]
     },
     "execution_count": 7,
     "metadata": {},
     "output_type": "execute_result"
    }
   ],
   "source": [
    "data2betested.dtypes"
   ]
  },
  {
   "cell_type": "code",
   "execution_count": 8,
   "metadata": {},
   "outputs": [
    {
     "data": {
      "text/plain": [
       "(224, 4)"
      ]
     },
     "execution_count": 8,
     "metadata": {},
     "output_type": "execute_result"
    }
   ],
   "source": [
    "data2betested.shape"
   ]
  },
  {
   "cell_type": "markdown",
   "metadata": {},
   "source": [
    "Beschreibe einzelne Attribute"
   ]
  },
  {
   "cell_type": "code",
   "execution_count": 9,
   "metadata": {},
   "outputs": [
    {
     "data": {
      "text/html": [
       "<div>\n",
       "<style scoped>\n",
       "    .dataframe tbody tr th:only-of-type {\n",
       "        vertical-align: middle;\n",
       "    }\n",
       "\n",
       "    .dataframe tbody tr th {\n",
       "        vertical-align: top;\n",
       "    }\n",
       "\n",
       "    .dataframe thead th {\n",
       "        text-align: right;\n",
       "    }\n",
       "</style>\n",
       "<table border=\"1\" class=\"dataframe\">\n",
       "  <thead>\n",
       "    <tr style=\"text-align: right;\">\n",
       "      <th></th>\n",
       "      <th>StichtagDatJahr</th>\n",
       "      <th>AnzKinderCd</th>\n",
       "      <th>AnzFaelle</th>\n",
       "    </tr>\n",
       "  </thead>\n",
       "  <tbody>\n",
       "    <tr>\n",
       "      <th>count</th>\n",
       "      <td>224</td>\n",
       "      <td>224</td>\n",
       "      <td>224</td>\n",
       "    </tr>\n",
       "    <tr>\n",
       "      <th>mean</th>\n",
       "      <td>2006</td>\n",
       "      <td>4</td>\n",
       "      <td>186</td>\n",
       "    </tr>\n",
       "    <tr>\n",
       "      <th>std</th>\n",
       "      <td>8</td>\n",
       "      <td>2</td>\n",
       "      <td>349</td>\n",
       "    </tr>\n",
       "    <tr>\n",
       "      <th>min</th>\n",
       "      <td>1993</td>\n",
       "      <td>0</td>\n",
       "      <td>0</td>\n",
       "    </tr>\n",
       "    <tr>\n",
       "      <th>25%</th>\n",
       "      <td>2000</td>\n",
       "      <td>2</td>\n",
       "      <td>0</td>\n",
       "    </tr>\n",
       "    <tr>\n",
       "      <th>50%</th>\n",
       "      <td>2006</td>\n",
       "      <td>4</td>\n",
       "      <td>10</td>\n",
       "    </tr>\n",
       "    <tr>\n",
       "      <th>75%</th>\n",
       "      <td>2013</td>\n",
       "      <td>5</td>\n",
       "      <td>204</td>\n",
       "    </tr>\n",
       "    <tr>\n",
       "      <th>max</th>\n",
       "      <td>2020</td>\n",
       "      <td>7</td>\n",
       "      <td>1538</td>\n",
       "    </tr>\n",
       "  </tbody>\n",
       "</table>\n",
       "</div>"
      ],
      "text/plain": [
       "       StichtagDatJahr  AnzKinderCd  AnzFaelle\n",
       "count              224          224        224\n",
       "mean              2006            4        186\n",
       "std                  8            2        349\n",
       "min               1993            0          0\n",
       "25%               2000            2          0\n",
       "50%               2006            4         10\n",
       "75%               2013            5        204\n",
       "max               2020            7       1538"
      ]
     },
     "execution_count": 9,
     "metadata": {},
     "output_type": "execute_result"
    }
   ],
   "source": [
    "data2betested.describe()"
   ]
  },
  {
   "cell_type": "markdown",
   "metadata": {},
   "source": [
    "Wie viele Nullwerte gibt es im Datensatz?"
   ]
  },
  {
   "cell_type": "code",
   "execution_count": 10,
   "metadata": {
    "scrolled": true
   },
   "outputs": [
    {
     "data": {
      "text/plain": [
       "StichtagDatJahr    0\n",
       "AnzKinder          0\n",
       "AnzKinderCd        0\n",
       "AnzFaelle          0\n",
       "dtype: int64"
      ]
     },
     "execution_count": 10,
     "metadata": {},
     "output_type": "execute_result"
    }
   ],
   "source": [
    "data2betested.isnull().sum()"
   ]
  },
  {
   "cell_type": "markdown",
   "metadata": {},
   "source": [
    "Wandle die Spalte Jahr von Int zu **Datetime** um. Dies wird in den meisten Grafiken so benötigt."
   ]
  },
  {
   "cell_type": "code",
   "execution_count": 11,
   "metadata": {
    "scrolled": true
   },
   "outputs": [
    {
     "data": {
      "text/html": [
       "<div>\n",
       "<style scoped>\n",
       "    .dataframe tbody tr th:only-of-type {\n",
       "        vertical-align: middle;\n",
       "    }\n",
       "\n",
       "    .dataframe tbody tr th {\n",
       "        vertical-align: top;\n",
       "    }\n",
       "\n",
       "    .dataframe thead th {\n",
       "        text-align: right;\n",
       "    }\n",
       "</style>\n",
       "<table border=\"1\" class=\"dataframe\">\n",
       "  <thead>\n",
       "    <tr style=\"text-align: right;\">\n",
       "      <th></th>\n",
       "      <th>StichtagDatJahr</th>\n",
       "      <th>AnzKinder</th>\n",
       "      <th>AnzKinderCd</th>\n",
       "      <th>AnzFaelle</th>\n",
       "    </tr>\n",
       "  </thead>\n",
       "  <tbody>\n",
       "    <tr>\n",
       "      <th>0</th>\n",
       "      <td>1993-01-01</td>\n",
       "      <td>keine</td>\n",
       "      <td>0</td>\n",
       "      <td>967</td>\n",
       "    </tr>\n",
       "    <tr>\n",
       "      <th>1</th>\n",
       "      <td>1993-01-01</td>\n",
       "      <td>1</td>\n",
       "      <td>1</td>\n",
       "      <td>257</td>\n",
       "    </tr>\n",
       "    <tr>\n",
       "      <th>2</th>\n",
       "      <td>1993-01-01</td>\n",
       "      <td>2</td>\n",
       "      <td>2</td>\n",
       "      <td>217</td>\n",
       "    </tr>\n",
       "    <tr>\n",
       "      <th>3</th>\n",
       "      <td>1993-01-01</td>\n",
       "      <td>3</td>\n",
       "      <td>3</td>\n",
       "      <td>26</td>\n",
       "    </tr>\n",
       "    <tr>\n",
       "      <th>4</th>\n",
       "      <td>1993-01-01</td>\n",
       "      <td>4</td>\n",
       "      <td>4</td>\n",
       "      <td>8</td>\n",
       "    </tr>\n",
       "    <tr>\n",
       "      <th>...</th>\n",
       "      <td>...</td>\n",
       "      <td>...</td>\n",
       "      <td>...</td>\n",
       "      <td>...</td>\n",
       "    </tr>\n",
       "    <tr>\n",
       "      <th>219</th>\n",
       "      <td>2020-01-01</td>\n",
       "      <td>3</td>\n",
       "      <td>3</td>\n",
       "      <td>27</td>\n",
       "    </tr>\n",
       "    <tr>\n",
       "      <th>220</th>\n",
       "      <td>2020-01-01</td>\n",
       "      <td>4</td>\n",
       "      <td>4</td>\n",
       "      <td>2</td>\n",
       "    </tr>\n",
       "    <tr>\n",
       "      <th>221</th>\n",
       "      <td>2020-01-01</td>\n",
       "      <td>5</td>\n",
       "      <td>5</td>\n",
       "      <td>1</td>\n",
       "    </tr>\n",
       "    <tr>\n",
       "      <th>222</th>\n",
       "      <td>2020-01-01</td>\n",
       "      <td>6</td>\n",
       "      <td>6</td>\n",
       "      <td>0</td>\n",
       "    </tr>\n",
       "    <tr>\n",
       "      <th>223</th>\n",
       "      <td>2020-01-01</td>\n",
       "      <td>Unbekannt</td>\n",
       "      <td>7</td>\n",
       "      <td>0</td>\n",
       "    </tr>\n",
       "  </tbody>\n",
       "</table>\n",
       "<p>224 rows × 4 columns</p>\n",
       "</div>"
      ],
      "text/plain": [
       "    StichtagDatJahr  AnzKinder  AnzKinderCd  AnzFaelle\n",
       "0        1993-01-01      keine            0        967\n",
       "1        1993-01-01          1            1        257\n",
       "2        1993-01-01          2            2        217\n",
       "3        1993-01-01          3            3         26\n",
       "4        1993-01-01          4            4          8\n",
       "..              ...        ...          ...        ...\n",
       "219      2020-01-01          3            3         27\n",
       "220      2020-01-01          4            4          2\n",
       "221      2020-01-01          5            5          1\n",
       "222      2020-01-01          6            6          0\n",
       "223      2020-01-01  Unbekannt            7          0\n",
       "\n",
       "[224 rows x 4 columns]"
      ]
     },
     "execution_count": 11,
     "metadata": {},
     "output_type": "execute_result"
    }
   ],
   "source": [
    "data2betested['StichtagDatJahr']=pd.to_datetime(data2betested['StichtagDatJahr'], format='%Y')\n",
    "\n",
    "#TO DO --> setze das Datum auf den 31.12. der Jahres.\n",
    "#test=data2betested[['StichtagDatJahr']].date().replace(month=12, day=31)\n",
    "\n",
    "data2betested"
   ]
  },
  {
   "cell_type": "markdown",
   "metadata": {},
   "source": [
    "Bereite die Daten für die Grafik unten vor"
   ]
  },
  {
   "cell_type": "code",
   "execution_count": 12,
   "metadata": {},
   "outputs": [
    {
     "data": {
      "text/plain": [
       "28"
      ]
     },
     "execution_count": 12,
     "metadata": {},
     "output_type": "execute_result"
    }
   ],
   "source": [
    "Jahre = data2betested.groupby(\"StichtagDatJahr\")\n",
    "len(Jahre)"
   ]
  },
  {
   "cell_type": "code",
   "execution_count": 13,
   "metadata": {},
   "outputs": [
    {
     "name": "stdout",
     "output_type": "stream",
     "text": [
      "1993-01-01 00:00:00 8\n",
      "1994-01-01 00:00:00 8\n",
      "1995-01-01 00:00:00 8\n",
      "1996-01-01 00:00:00 8\n",
      "1997-01-01 00:00:00 8\n",
      "1998-01-01 00:00:00 8\n",
      "1999-01-01 00:00:00 8\n",
      "2000-01-01 00:00:00 8\n",
      "2001-01-01 00:00:00 8\n",
      "2002-01-01 00:00:00 8\n",
      "2003-01-01 00:00:00 8\n",
      "2004-01-01 00:00:00 8\n",
      "2005-01-01 00:00:00 8\n",
      "2006-01-01 00:00:00 8\n",
      "2007-01-01 00:00:00 8\n",
      "2008-01-01 00:00:00 8\n",
      "2009-01-01 00:00:00 8\n",
      "2010-01-01 00:00:00 8\n",
      "2011-01-01 00:00:00 8\n",
      "2012-01-01 00:00:00 8\n",
      "2013-01-01 00:00:00 8\n",
      "2014-01-01 00:00:00 8\n",
      "2015-01-01 00:00:00 8\n",
      "2016-01-01 00:00:00 8\n",
      "2017-01-01 00:00:00 8\n",
      "2018-01-01 00:00:00 8\n",
      "2019-01-01 00:00:00 8\n",
      "2020-01-01 00:00:00 8\n"
     ]
    }
   ],
   "source": [
    "for key, group in Jahre:\n",
    "    print(key, len(group))"
   ]
  },
  {
   "cell_type": "code",
   "execution_count": 14,
   "metadata": {},
   "outputs": [
    {
     "data": {
      "text/html": [
       "<div>\n",
       "<style scoped>\n",
       "    .dataframe tbody tr th:only-of-type {\n",
       "        vertical-align: middle;\n",
       "    }\n",
       "\n",
       "    .dataframe tbody tr th {\n",
       "        vertical-align: top;\n",
       "    }\n",
       "\n",
       "    .dataframe thead th {\n",
       "        text-align: right;\n",
       "    }\n",
       "</style>\n",
       "<table border=\"1\" class=\"dataframe\">\n",
       "  <thead>\n",
       "    <tr style=\"text-align: right;\">\n",
       "      <th></th>\n",
       "      <th>StichtagDatJahr</th>\n",
       "      <th>AnzKinder</th>\n",
       "      <th>AnzKinderCd</th>\n",
       "      <th>AnzFaelle</th>\n",
       "    </tr>\n",
       "  </thead>\n",
       "  <tbody>\n",
       "    <tr>\n",
       "      <th>216</th>\n",
       "      <td>2020-01-01</td>\n",
       "      <td>keine</td>\n",
       "      <td>0</td>\n",
       "      <td>772</td>\n",
       "    </tr>\n",
       "    <tr>\n",
       "      <th>217</th>\n",
       "      <td>2020-01-01</td>\n",
       "      <td>1</td>\n",
       "      <td>1</td>\n",
       "      <td>203</td>\n",
       "    </tr>\n",
       "    <tr>\n",
       "      <th>218</th>\n",
       "      <td>2020-01-01</td>\n",
       "      <td>2</td>\n",
       "      <td>2</td>\n",
       "      <td>153</td>\n",
       "    </tr>\n",
       "    <tr>\n",
       "      <th>219</th>\n",
       "      <td>2020-01-01</td>\n",
       "      <td>3</td>\n",
       "      <td>3</td>\n",
       "      <td>27</td>\n",
       "    </tr>\n",
       "    <tr>\n",
       "      <th>220</th>\n",
       "      <td>2020-01-01</td>\n",
       "      <td>4</td>\n",
       "      <td>4</td>\n",
       "      <td>2</td>\n",
       "    </tr>\n",
       "    <tr>\n",
       "      <th>221</th>\n",
       "      <td>2020-01-01</td>\n",
       "      <td>5</td>\n",
       "      <td>5</td>\n",
       "      <td>1</td>\n",
       "    </tr>\n",
       "    <tr>\n",
       "      <th>222</th>\n",
       "      <td>2020-01-01</td>\n",
       "      <td>6</td>\n",
       "      <td>6</td>\n",
       "      <td>0</td>\n",
       "    </tr>\n",
       "    <tr>\n",
       "      <th>223</th>\n",
       "      <td>2020-01-01</td>\n",
       "      <td>Unbekannt</td>\n",
       "      <td>7</td>\n",
       "      <td>0</td>\n",
       "    </tr>\n",
       "  </tbody>\n",
       "</table>\n",
       "</div>"
      ],
      "text/plain": [
       "    StichtagDatJahr  AnzKinder  AnzKinderCd  AnzFaelle\n",
       "216      2020-01-01      keine            0        772\n",
       "217      2020-01-01          1            1        203\n",
       "218      2020-01-01          2            2        153\n",
       "219      2020-01-01          3            3         27\n",
       "220      2020-01-01          4            4          2\n",
       "221      2020-01-01          5            5          1\n",
       "222      2020-01-01          6            6          0\n",
       "223      2020-01-01  Unbekannt            7          0"
      ]
     },
     "execution_count": 14,
     "metadata": {},
     "output_type": "execute_result"
    }
   ],
   "source": [
    "myJahr = \"2020-01-01\"\n",
    "aktuellesJahr=Jahre.get_group(myJahr)   \n",
    "aktuellesJahr"
   ]
  },
  {
   "cell_type": "markdown",
   "metadata": {},
   "source": [
    "**Selektionen und Aggregationen**\n",
    "\n",
    "Check this [Doku](https://www.shanelynn.ie/summarising-aggregation-and-grouping-data-in-python-pandas/)"
   ]
  },
  {
   "cell_type": "code",
   "execution_count": 15,
   "metadata": {},
   "outputs": [],
   "source": [
    "#test = data2betested.groupby(['StichtagDatJahr', 'AlterV20Kurz'])[['AnzBestWir']].agg()\n",
    "\n",
    "# produces Pandas Series\n",
    "    #data2betested.groupby(['StichtagDatJahr', 'KonOGDSort'])['AnzBestWir'].sum()\n",
    "# Produces Pandas DataFrame\n",
    "    #data2betested.groupby(['StichtagDatJahr', 'KonOGDSort'])[['AnzBestWir']].sum()\n",
    "    "
   ]
  },
  {
   "cell_type": "markdown",
   "metadata": {},
   "source": [
    "**Einfache Visualisierungen zur Plausi**"
   ]
  },
  {
   "cell_type": "markdown",
   "metadata": {},
   "source": [
    "Exploriere die Daten mit Pivottable.JS"
   ]
  },
  {
   "cell_type": "code",
   "execution_count": 16,
   "metadata": {},
   "outputs": [
    {
     "data": {
      "text/html": [
       "\n",
       "        <iframe\n",
       "            width=\"100%\"\n",
       "            height=\"500\"\n",
       "            src=\"pivottablejs.html\"\n",
       "            frameborder=\"0\"\n",
       "            allowfullscreen\n",
       "        ></iframe>\n",
       "        "
      ],
      "text/plain": [
       "<IPython.lib.display.IFrame at 0x1decc50ae50>"
      ]
     },
     "execution_count": 16,
     "metadata": {},
     "output_type": "execute_result"
    }
   ],
   "source": [
    "from pivottablejs import pivot_ui\n",
    "\n",
    "pivot_ui(data2betested)"
   ]
  },
  {
   "cell_type": "markdown",
   "metadata": {},
   "source": [
    "Liniendiagramm \n",
    "[Link zur Doku](https://altair-viz.github.io/gallery/multiline_highlight.html)"
   ]
  },
  {
   "cell_type": "code",
   "execution_count": 19,
   "metadata": {},
   "outputs": [
    {
     "data": {
      "text/html": [
       "<div>\n",
       "<style scoped>\n",
       "    .dataframe tbody tr th:only-of-type {\n",
       "        vertical-align: middle;\n",
       "    }\n",
       "\n",
       "    .dataframe tbody tr th {\n",
       "        vertical-align: top;\n",
       "    }\n",
       "\n",
       "    .dataframe thead th {\n",
       "        text-align: right;\n",
       "    }\n",
       "</style>\n",
       "<table border=\"1\" class=\"dataframe\">\n",
       "  <thead>\n",
       "    <tr style=\"text-align: right;\">\n",
       "      <th></th>\n",
       "      <th>StichtagDatJahr</th>\n",
       "      <th>AnzKinder</th>\n",
       "      <th>AnzKinderCd</th>\n",
       "      <th>AnzFaelle</th>\n",
       "    </tr>\n",
       "  </thead>\n",
       "  <tbody>\n",
       "    <tr>\n",
       "      <th>0</th>\n",
       "      <td>1993-01-01</td>\n",
       "      <td>keine</td>\n",
       "      <td>0</td>\n",
       "      <td>967</td>\n",
       "    </tr>\n",
       "    <tr>\n",
       "      <th>1</th>\n",
       "      <td>1993-01-01</td>\n",
       "      <td>1</td>\n",
       "      <td>1</td>\n",
       "      <td>257</td>\n",
       "    </tr>\n",
       "  </tbody>\n",
       "</table>\n",
       "</div>"
      ],
      "text/plain": [
       "  StichtagDatJahr AnzKinder  AnzKinderCd  AnzFaelle\n",
       "0      1993-01-01     keine            0        967\n",
       "1      1993-01-01         1            1        257"
      ]
     },
     "execution_count": 19,
     "metadata": {},
     "output_type": "execute_result"
    }
   ],
   "source": [
    "data2betested.head(2)"
   ]
  },
  {
   "cell_type": "code",
   "execution_count": 20,
   "metadata": {},
   "outputs": [
    {
     "data": {
      "text/html": [
       "\n",
       "<div id=\"altair-viz-80c77f329e784fc3b6ba7ac12f6e6cd2\"></div>\n",
       "<script type=\"text/javascript\">\n",
       "  (function(spec, embedOpt){\n",
       "    let outputDiv = document.currentScript.previousElementSibling;\n",
       "    if (outputDiv.id !== \"altair-viz-80c77f329e784fc3b6ba7ac12f6e6cd2\") {\n",
       "      outputDiv = document.getElementById(\"altair-viz-80c77f329e784fc3b6ba7ac12f6e6cd2\");\n",
       "    }\n",
       "    const paths = {\n",
       "      \"vega\": \"https://cdn.jsdelivr.net/npm//vega@5?noext\",\n",
       "      \"vega-lib\": \"https://cdn.jsdelivr.net/npm//vega-lib?noext\",\n",
       "      \"vega-lite\": \"https://cdn.jsdelivr.net/npm//vega-lite@4.8.1?noext\",\n",
       "      \"vega-embed\": \"https://cdn.jsdelivr.net/npm//vega-embed@6?noext\",\n",
       "    };\n",
       "\n",
       "    function loadScript(lib) {\n",
       "      return new Promise(function(resolve, reject) {\n",
       "        var s = document.createElement('script');\n",
       "        s.src = paths[lib];\n",
       "        s.async = true;\n",
       "        s.onload = () => resolve(paths[lib]);\n",
       "        s.onerror = () => reject(`Error loading script: ${paths[lib]}`);\n",
       "        document.getElementsByTagName(\"head\")[0].appendChild(s);\n",
       "      });\n",
       "    }\n",
       "\n",
       "    function showError(err) {\n",
       "      outputDiv.innerHTML = `<div class=\"error\" style=\"color:red;\">${err}</div>`;\n",
       "      throw err;\n",
       "    }\n",
       "\n",
       "    function displayChart(vegaEmbed) {\n",
       "      vegaEmbed(outputDiv, spec, embedOpt)\n",
       "        .catch(err => showError(`Javascript Error: ${err.message}<br>This usually means there's a typo in your chart specification. See the javascript console for the full traceback.`));\n",
       "    }\n",
       "\n",
       "    if(typeof define === \"function\" && define.amd) {\n",
       "      requirejs.config({paths});\n",
       "      require([\"vega-embed\"], displayChart, err => showError(`Error loading script: ${err.message}`));\n",
       "    } else if (typeof vegaEmbed === \"function\") {\n",
       "      displayChart(vegaEmbed);\n",
       "    } else {\n",
       "      loadScript(\"vega\")\n",
       "        .then(() => loadScript(\"vega-lite\"))\n",
       "        .then(() => loadScript(\"vega-embed\"))\n",
       "        .catch(showError)\n",
       "        .then(() => displayChart(vegaEmbed));\n",
       "    }\n",
       "  })({\"config\": {\"view\": {\"continuousWidth\": 400, \"continuousHeight\": 300}}, \"layer\": [{\"mark\": \"circle\", \"encoding\": {\"color\": {\"type\": \"nominal\", \"field\": \"AnzKinder\"}, \"opacity\": {\"value\": 2}, \"x\": {\"type\": \"temporal\", \"field\": \"StichtagDatJahr\"}, \"y\": {\"type\": \"quantitative\", \"field\": \"AnzFaelle\"}}, \"height\": 300, \"selection\": {\"selector001\": {\"type\": \"single\", \"on\": \"mouseover\", \"fields\": [\"AnzKinder\"], \"nearest\": true}}, \"width\": 700}, {\"mark\": \"line\", \"encoding\": {\"color\": {\"type\": \"nominal\", \"field\": \"AnzKinder\"}, \"size\": {\"condition\": {\"value\": 1.5, \"selection\": {\"not\": \"selector001\"}}, \"value\": 4}, \"x\": {\"type\": \"temporal\", \"field\": \"StichtagDatJahr\"}, \"y\": {\"type\": \"quantitative\", \"field\": \"AnzFaelle\"}}, \"selection\": {\"selector002\": {\"type\": \"interval\", \"bind\": \"scales\", \"encodings\": [\"x\", \"y\"]}}}], \"data\": {\"name\": \"data-04d156355bcc401034426776de358509\"}, \"$schema\": \"https://vega.github.io/schema/vega-lite/v4.8.1.json\", \"datasets\": {\"data-04d156355bcc401034426776de358509\": [{\"StichtagDatJahr\": \"1993-01-01T00:00:00\", \"AnzKinder\": \"keine\", \"AnzKinderCd\": 0, \"AnzFaelle\": 967}, {\"StichtagDatJahr\": \"1993-01-01T00:00:00\", \"AnzKinder\": \"1\", \"AnzKinderCd\": 1, \"AnzFaelle\": 257}, {\"StichtagDatJahr\": \"1993-01-01T00:00:00\", \"AnzKinder\": \"2\", \"AnzKinderCd\": 2, \"AnzFaelle\": 217}, {\"StichtagDatJahr\": \"1993-01-01T00:00:00\", \"AnzKinder\": \"3\", \"AnzKinderCd\": 3, \"AnzFaelle\": 26}, {\"StichtagDatJahr\": \"1993-01-01T00:00:00\", \"AnzKinder\": \"4\", \"AnzKinderCd\": 4, \"AnzFaelle\": 8}, {\"StichtagDatJahr\": \"1993-01-01T00:00:00\", \"AnzKinder\": \"5\", \"AnzKinderCd\": 5, \"AnzFaelle\": 0}, {\"StichtagDatJahr\": \"1993-01-01T00:00:00\", \"AnzKinder\": \"6\", \"AnzKinderCd\": 6, \"AnzFaelle\": 0}, {\"StichtagDatJahr\": \"1993-01-01T00:00:00\", \"AnzKinder\": \"Unbekannt\", \"AnzKinderCd\": 7, \"AnzFaelle\": 0}, {\"StichtagDatJahr\": \"1994-01-01T00:00:00\", \"AnzKinder\": \"keine\", \"AnzKinderCd\": 0, \"AnzFaelle\": 962}, {\"StichtagDatJahr\": \"1994-01-01T00:00:00\", \"AnzKinder\": \"1\", \"AnzKinderCd\": 1, \"AnzFaelle\": 270}, {\"StichtagDatJahr\": \"1994-01-01T00:00:00\", \"AnzKinder\": \"2\", \"AnzKinderCd\": 2, \"AnzFaelle\": 186}, {\"StichtagDatJahr\": \"1994-01-01T00:00:00\", \"AnzKinder\": \"3\", \"AnzKinderCd\": 3, \"AnzFaelle\": 30}, {\"StichtagDatJahr\": \"1994-01-01T00:00:00\", \"AnzKinder\": \"4\", \"AnzKinderCd\": 4, \"AnzFaelle\": 5}, {\"StichtagDatJahr\": \"1994-01-01T00:00:00\", \"AnzKinder\": \"5\", \"AnzKinderCd\": 5, \"AnzFaelle\": 1}, {\"StichtagDatJahr\": \"1994-01-01T00:00:00\", \"AnzKinder\": \"6\", \"AnzKinderCd\": 6, \"AnzFaelle\": 0}, {\"StichtagDatJahr\": \"1994-01-01T00:00:00\", \"AnzKinder\": \"Unbekannt\", \"AnzKinderCd\": 7, \"AnzFaelle\": 1}, {\"StichtagDatJahr\": \"1995-01-01T00:00:00\", \"AnzKinder\": \"keine\", \"AnzKinderCd\": 0, \"AnzFaelle\": 959}, {\"StichtagDatJahr\": \"1995-01-01T00:00:00\", \"AnzKinder\": \"1\", \"AnzKinderCd\": 1, \"AnzFaelle\": 284}, {\"StichtagDatJahr\": \"1995-01-01T00:00:00\", \"AnzKinder\": \"2\", \"AnzKinderCd\": 2, \"AnzFaelle\": 204}, {\"StichtagDatJahr\": \"1995-01-01T00:00:00\", \"AnzKinder\": \"3\", \"AnzKinderCd\": 3, \"AnzFaelle\": 28}, {\"StichtagDatJahr\": \"1995-01-01T00:00:00\", \"AnzKinder\": \"4\", \"AnzKinderCd\": 4, \"AnzFaelle\": 9}, {\"StichtagDatJahr\": \"1995-01-01T00:00:00\", \"AnzKinder\": \"5\", \"AnzKinderCd\": 5, \"AnzFaelle\": 1}, {\"StichtagDatJahr\": \"1995-01-01T00:00:00\", \"AnzKinder\": \"6\", \"AnzKinderCd\": 6, \"AnzFaelle\": 1}, {\"StichtagDatJahr\": \"1995-01-01T00:00:00\", \"AnzKinder\": \"Unbekannt\", \"AnzKinderCd\": 7, \"AnzFaelle\": 2}, {\"StichtagDatJahr\": \"1996-01-01T00:00:00\", \"AnzKinder\": \"keine\", \"AnzKinderCd\": 0, \"AnzFaelle\": 985}, {\"StichtagDatJahr\": \"1996-01-01T00:00:00\", \"AnzKinder\": \"1\", \"AnzKinderCd\": 1, \"AnzFaelle\": 299}, {\"StichtagDatJahr\": \"1996-01-01T00:00:00\", \"AnzKinder\": \"2\", \"AnzKinderCd\": 2, \"AnzFaelle\": 210}, {\"StichtagDatJahr\": \"1996-01-01T00:00:00\", \"AnzKinder\": \"3\", \"AnzKinderCd\": 3, \"AnzFaelle\": 42}, {\"StichtagDatJahr\": \"1996-01-01T00:00:00\", \"AnzKinder\": \"4\", \"AnzKinderCd\": 4, \"AnzFaelle\": 8}, {\"StichtagDatJahr\": \"1996-01-01T00:00:00\", \"AnzKinder\": \"5\", \"AnzKinderCd\": 5, \"AnzFaelle\": 2}, {\"StichtagDatJahr\": \"1996-01-01T00:00:00\", \"AnzKinder\": \"6\", \"AnzKinderCd\": 6, \"AnzFaelle\": 0}, {\"StichtagDatJahr\": \"1996-01-01T00:00:00\", \"AnzKinder\": \"Unbekannt\", \"AnzKinderCd\": 7, \"AnzFaelle\": 7}, {\"StichtagDatJahr\": \"1997-01-01T00:00:00\", \"AnzKinder\": \"keine\", \"AnzKinderCd\": 0, \"AnzFaelle\": 1057}, {\"StichtagDatJahr\": \"1997-01-01T00:00:00\", \"AnzKinder\": \"1\", \"AnzKinderCd\": 1, \"AnzFaelle\": 279}, {\"StichtagDatJahr\": \"1997-01-01T00:00:00\", \"AnzKinder\": \"2\", \"AnzKinderCd\": 2, \"AnzFaelle\": 172}, {\"StichtagDatJahr\": \"1997-01-01T00:00:00\", \"AnzKinder\": \"3\", \"AnzKinderCd\": 3, \"AnzFaelle\": 37}, {\"StichtagDatJahr\": \"1997-01-01T00:00:00\", \"AnzKinder\": \"4\", \"AnzKinderCd\": 4, \"AnzFaelle\": 6}, {\"StichtagDatJahr\": \"1997-01-01T00:00:00\", \"AnzKinder\": \"5\", \"AnzKinderCd\": 5, \"AnzFaelle\": 0}, {\"StichtagDatJahr\": \"1997-01-01T00:00:00\", \"AnzKinder\": \"6\", \"AnzKinderCd\": 6, \"AnzFaelle\": 0}, {\"StichtagDatJahr\": \"1997-01-01T00:00:00\", \"AnzKinder\": \"Unbekannt\", \"AnzKinderCd\": 7, \"AnzFaelle\": 6}, {\"StichtagDatJahr\": \"1998-01-01T00:00:00\", \"AnzKinder\": \"keine\", \"AnzKinderCd\": 0, \"AnzFaelle\": 1090}, {\"StichtagDatJahr\": \"1998-01-01T00:00:00\", \"AnzKinder\": \"1\", \"AnzKinderCd\": 1, \"AnzFaelle\": 288}, {\"StichtagDatJahr\": \"1998-01-01T00:00:00\", \"AnzKinder\": \"2\", \"AnzKinderCd\": 2, \"AnzFaelle\": 207}, {\"StichtagDatJahr\": \"1998-01-01T00:00:00\", \"AnzKinder\": \"3\", \"AnzKinderCd\": 3, \"AnzFaelle\": 41}, {\"StichtagDatJahr\": \"1998-01-01T00:00:00\", \"AnzKinder\": \"4\", \"AnzKinderCd\": 4, \"AnzFaelle\": 6}, {\"StichtagDatJahr\": \"1998-01-01T00:00:00\", \"AnzKinder\": \"5\", \"AnzKinderCd\": 5, \"AnzFaelle\": 1}, {\"StichtagDatJahr\": \"1998-01-01T00:00:00\", \"AnzKinder\": \"6\", \"AnzKinderCd\": 6, \"AnzFaelle\": 0}, {\"StichtagDatJahr\": \"1998-01-01T00:00:00\", \"AnzKinder\": \"Unbekannt\", \"AnzKinderCd\": 7, \"AnzFaelle\": 4}, {\"StichtagDatJahr\": \"1999-01-01T00:00:00\", \"AnzKinder\": \"keine\", \"AnzKinderCd\": 0, \"AnzFaelle\": 1127}, {\"StichtagDatJahr\": \"1999-01-01T00:00:00\", \"AnzKinder\": \"1\", \"AnzKinderCd\": 1, \"AnzFaelle\": 257}, {\"StichtagDatJahr\": \"1999-01-01T00:00:00\", \"AnzKinder\": \"2\", \"AnzKinderCd\": 2, \"AnzFaelle\": 204}, {\"StichtagDatJahr\": \"1999-01-01T00:00:00\", \"AnzKinder\": \"3\", \"AnzKinderCd\": 3, \"AnzFaelle\": 28}, {\"StichtagDatJahr\": \"1999-01-01T00:00:00\", \"AnzKinder\": \"4\", \"AnzKinderCd\": 4, \"AnzFaelle\": 9}, {\"StichtagDatJahr\": \"1999-01-01T00:00:00\", \"AnzKinder\": \"5\", \"AnzKinderCd\": 5, \"AnzFaelle\": 2}, {\"StichtagDatJahr\": \"1999-01-01T00:00:00\", \"AnzKinder\": \"6\", \"AnzKinderCd\": 6, \"AnzFaelle\": 0}, {\"StichtagDatJahr\": \"1999-01-01T00:00:00\", \"AnzKinder\": \"Unbekannt\", \"AnzKinderCd\": 7, \"AnzFaelle\": 1}, {\"StichtagDatJahr\": \"2000-01-01T00:00:00\", \"AnzKinder\": \"keine\", \"AnzKinderCd\": 0, \"AnzFaelle\": 781}, {\"StichtagDatJahr\": \"2000-01-01T00:00:00\", \"AnzKinder\": \"1\", \"AnzKinderCd\": 1, \"AnzFaelle\": 185}, {\"StichtagDatJahr\": \"2000-01-01T00:00:00\", \"AnzKinder\": \"2\", \"AnzKinderCd\": 2, \"AnzFaelle\": 140}, {\"StichtagDatJahr\": \"2000-01-01T00:00:00\", \"AnzKinder\": \"3\", \"AnzKinderCd\": 3, \"AnzFaelle\": 23}, {\"StichtagDatJahr\": \"2000-01-01T00:00:00\", \"AnzKinder\": \"4\", \"AnzKinderCd\": 4, \"AnzFaelle\": 10}, {\"StichtagDatJahr\": \"2000-01-01T00:00:00\", \"AnzKinder\": \"5\", \"AnzKinderCd\": 5, \"AnzFaelle\": 1}, {\"StichtagDatJahr\": \"2000-01-01T00:00:00\", \"AnzKinder\": \"6\", \"AnzKinderCd\": 6, \"AnzFaelle\": 0}, {\"StichtagDatJahr\": \"2000-01-01T00:00:00\", \"AnzKinder\": \"Unbekannt\", \"AnzKinderCd\": 7, \"AnzFaelle\": 0}, {\"StichtagDatJahr\": \"2001-01-01T00:00:00\", \"AnzKinder\": \"keine\", \"AnzKinderCd\": 0, \"AnzFaelle\": 792}, {\"StichtagDatJahr\": \"2001-01-01T00:00:00\", \"AnzKinder\": \"1\", \"AnzKinderCd\": 1, \"AnzFaelle\": 157}, {\"StichtagDatJahr\": \"2001-01-01T00:00:00\", \"AnzKinder\": \"2\", \"AnzKinderCd\": 2, \"AnzFaelle\": 110}, {\"StichtagDatJahr\": \"2001-01-01T00:00:00\", \"AnzKinder\": \"3\", \"AnzKinderCd\": 3, \"AnzFaelle\": 38}, {\"StichtagDatJahr\": \"2001-01-01T00:00:00\", \"AnzKinder\": \"4\", \"AnzKinderCd\": 4, \"AnzFaelle\": 3}, {\"StichtagDatJahr\": \"2001-01-01T00:00:00\", \"AnzKinder\": \"5\", \"AnzKinderCd\": 5, \"AnzFaelle\": 1}, {\"StichtagDatJahr\": \"2001-01-01T00:00:00\", \"AnzKinder\": \"6\", \"AnzKinderCd\": 6, \"AnzFaelle\": 0}, {\"StichtagDatJahr\": \"2001-01-01T00:00:00\", \"AnzKinder\": \"Unbekannt\", \"AnzKinderCd\": 7, \"AnzFaelle\": 6}, {\"StichtagDatJahr\": \"2002-01-01T00:00:00\", \"AnzKinder\": \"keine\", \"AnzKinderCd\": 0, \"AnzFaelle\": 1205}, {\"StichtagDatJahr\": \"2002-01-01T00:00:00\", \"AnzKinder\": \"1\", \"AnzKinderCd\": 1, \"AnzFaelle\": 265}, {\"StichtagDatJahr\": \"2002-01-01T00:00:00\", \"AnzKinder\": \"2\", \"AnzKinderCd\": 2, \"AnzFaelle\": 171}, {\"StichtagDatJahr\": \"2002-01-01T00:00:00\", \"AnzKinder\": \"3\", \"AnzKinderCd\": 3, \"AnzFaelle\": 29}, {\"StichtagDatJahr\": \"2002-01-01T00:00:00\", \"AnzKinder\": \"4\", \"AnzKinderCd\": 4, \"AnzFaelle\": 0}, {\"StichtagDatJahr\": \"2002-01-01T00:00:00\", \"AnzKinder\": \"5\", \"AnzKinderCd\": 5, \"AnzFaelle\": 0}, {\"StichtagDatJahr\": \"2002-01-01T00:00:00\", \"AnzKinder\": \"6\", \"AnzKinderCd\": 6, \"AnzFaelle\": 0}, {\"StichtagDatJahr\": \"2002-01-01T00:00:00\", \"AnzKinder\": \"Unbekannt\", \"AnzKinderCd\": 7, \"AnzFaelle\": 3}, {\"StichtagDatJahr\": \"2003-01-01T00:00:00\", \"AnzKinder\": \"keine\", \"AnzKinderCd\": 0, \"AnzFaelle\": 1129}, {\"StichtagDatJahr\": \"2003-01-01T00:00:00\", \"AnzKinder\": \"1\", \"AnzKinderCd\": 1, \"AnzFaelle\": 208}, {\"StichtagDatJahr\": \"2003-01-01T00:00:00\", \"AnzKinder\": \"2\", \"AnzKinderCd\": 2, \"AnzFaelle\": 174}, {\"StichtagDatJahr\": \"2003-01-01T00:00:00\", \"AnzKinder\": \"3\", \"AnzKinderCd\": 3, \"AnzFaelle\": 30}, {\"StichtagDatJahr\": \"2003-01-01T00:00:00\", \"AnzKinder\": \"4\", \"AnzKinderCd\": 4, \"AnzFaelle\": 4}, {\"StichtagDatJahr\": \"2003-01-01T00:00:00\", \"AnzKinder\": \"5\", \"AnzKinderCd\": 5, \"AnzFaelle\": 0}, {\"StichtagDatJahr\": \"2003-01-01T00:00:00\", \"AnzKinder\": \"6\", \"AnzKinderCd\": 6, \"AnzFaelle\": 0}, {\"StichtagDatJahr\": \"2003-01-01T00:00:00\", \"AnzKinder\": \"Unbekannt\", \"AnzKinderCd\": 7, \"AnzFaelle\": 0}, {\"StichtagDatJahr\": \"2004-01-01T00:00:00\", \"AnzKinder\": \"keine\", \"AnzKinderCd\": 0, \"AnzFaelle\": 1160}, {\"StichtagDatJahr\": \"2004-01-01T00:00:00\", \"AnzKinder\": \"1\", \"AnzKinderCd\": 1, \"AnzFaelle\": 238}, {\"StichtagDatJahr\": \"2004-01-01T00:00:00\", \"AnzKinder\": \"2\", \"AnzKinderCd\": 2, \"AnzFaelle\": 153}, {\"StichtagDatJahr\": \"2004-01-01T00:00:00\", \"AnzKinder\": \"3\", \"AnzKinderCd\": 3, \"AnzFaelle\": 27}, {\"StichtagDatJahr\": \"2004-01-01T00:00:00\", \"AnzKinder\": \"4\", \"AnzKinderCd\": 4, \"AnzFaelle\": 1}, {\"StichtagDatJahr\": \"2004-01-01T00:00:00\", \"AnzKinder\": \"5\", \"AnzKinderCd\": 5, \"AnzFaelle\": 1}, {\"StichtagDatJahr\": \"2004-01-01T00:00:00\", \"AnzKinder\": \"6\", \"AnzKinderCd\": 6, \"AnzFaelle\": 1}, {\"StichtagDatJahr\": \"2004-01-01T00:00:00\", \"AnzKinder\": \"Unbekannt\", \"AnzKinderCd\": 7, \"AnzFaelle\": 0}, {\"StichtagDatJahr\": \"2005-01-01T00:00:00\", \"AnzKinder\": \"keine\", \"AnzKinderCd\": 0, \"AnzFaelle\": 1319}, {\"StichtagDatJahr\": \"2005-01-01T00:00:00\", \"AnzKinder\": \"1\", \"AnzKinderCd\": 1, \"AnzFaelle\": 303}, {\"StichtagDatJahr\": \"2005-01-01T00:00:00\", \"AnzKinder\": \"2\", \"AnzKinderCd\": 2, \"AnzFaelle\": 205}, {\"StichtagDatJahr\": \"2005-01-01T00:00:00\", \"AnzKinder\": \"3\", \"AnzKinderCd\": 3, \"AnzFaelle\": 24}, {\"StichtagDatJahr\": \"2005-01-01T00:00:00\", \"AnzKinder\": \"4\", \"AnzKinderCd\": 4, \"AnzFaelle\": 4}, {\"StichtagDatJahr\": \"2005-01-01T00:00:00\", \"AnzKinder\": \"5\", \"AnzKinderCd\": 5, \"AnzFaelle\": 0}, {\"StichtagDatJahr\": \"2005-01-01T00:00:00\", \"AnzKinder\": \"6\", \"AnzKinderCd\": 6, \"AnzFaelle\": 1}, {\"StichtagDatJahr\": \"2005-01-01T00:00:00\", \"AnzKinder\": \"Unbekannt\", \"AnzKinderCd\": 7, \"AnzFaelle\": 0}, {\"StichtagDatJahr\": \"2006-01-01T00:00:00\", \"AnzKinder\": \"keine\", \"AnzKinderCd\": 0, \"AnzFaelle\": 1354}, {\"StichtagDatJahr\": \"2006-01-01T00:00:00\", \"AnzKinder\": \"1\", \"AnzKinderCd\": 1, \"AnzFaelle\": 265}, {\"StichtagDatJahr\": \"2006-01-01T00:00:00\", \"AnzKinder\": \"2\", \"AnzKinderCd\": 2, \"AnzFaelle\": 154}, {\"StichtagDatJahr\": \"2006-01-01T00:00:00\", \"AnzKinder\": \"3\", \"AnzKinderCd\": 3, \"AnzFaelle\": 16}, {\"StichtagDatJahr\": \"2006-01-01T00:00:00\", \"AnzKinder\": \"4\", \"AnzKinderCd\": 4, \"AnzFaelle\": 0}, {\"StichtagDatJahr\": \"2006-01-01T00:00:00\", \"AnzKinder\": \"5\", \"AnzKinderCd\": 5, \"AnzFaelle\": 1}, {\"StichtagDatJahr\": \"2006-01-01T00:00:00\", \"AnzKinder\": \"6\", \"AnzKinderCd\": 6, \"AnzFaelle\": 0}, {\"StichtagDatJahr\": \"2006-01-01T00:00:00\", \"AnzKinder\": \"Unbekannt\", \"AnzKinderCd\": 7, \"AnzFaelle\": 0}, {\"StichtagDatJahr\": \"2007-01-01T00:00:00\", \"AnzKinder\": \"keine\", \"AnzKinderCd\": 0, \"AnzFaelle\": 1240}, {\"StichtagDatJahr\": \"2007-01-01T00:00:00\", \"AnzKinder\": \"1\", \"AnzKinderCd\": 1, \"AnzFaelle\": 249}, {\"StichtagDatJahr\": \"2007-01-01T00:00:00\", \"AnzKinder\": \"2\", \"AnzKinderCd\": 2, \"AnzFaelle\": 129}, {\"StichtagDatJahr\": \"2007-01-01T00:00:00\", \"AnzKinder\": \"3\", \"AnzKinderCd\": 3, \"AnzFaelle\": 25}, {\"StichtagDatJahr\": \"2007-01-01T00:00:00\", \"AnzKinder\": \"4\", \"AnzKinderCd\": 4, \"AnzFaelle\": 0}, {\"StichtagDatJahr\": \"2007-01-01T00:00:00\", \"AnzKinder\": \"5\", \"AnzKinderCd\": 5, \"AnzFaelle\": 0}, {\"StichtagDatJahr\": \"2007-01-01T00:00:00\", \"AnzKinder\": \"6\", \"AnzKinderCd\": 6, \"AnzFaelle\": 0}, {\"StichtagDatJahr\": \"2007-01-01T00:00:00\", \"AnzKinder\": \"Unbekannt\", \"AnzKinderCd\": 7, \"AnzFaelle\": 0}, {\"StichtagDatJahr\": \"2008-01-01T00:00:00\", \"AnzKinder\": \"keine\", \"AnzKinderCd\": 0, \"AnzFaelle\": 1185}, {\"StichtagDatJahr\": \"2008-01-01T00:00:00\", \"AnzKinder\": \"1\", \"AnzKinderCd\": 1, \"AnzFaelle\": 231}, {\"StichtagDatJahr\": \"2008-01-01T00:00:00\", \"AnzKinder\": \"2\", \"AnzKinderCd\": 2, \"AnzFaelle\": 144}, {\"StichtagDatJahr\": \"2008-01-01T00:00:00\", \"AnzKinder\": \"3\", \"AnzKinderCd\": 3, \"AnzFaelle\": 24}, {\"StichtagDatJahr\": \"2008-01-01T00:00:00\", \"AnzKinder\": \"4\", \"AnzKinderCd\": 4, \"AnzFaelle\": 2}, {\"StichtagDatJahr\": \"2008-01-01T00:00:00\", \"AnzKinder\": \"5\", \"AnzKinderCd\": 5, \"AnzFaelle\": 1}, {\"StichtagDatJahr\": \"2008-01-01T00:00:00\", \"AnzKinder\": \"6\", \"AnzKinderCd\": 6, \"AnzFaelle\": 0}, {\"StichtagDatJahr\": \"2008-01-01T00:00:00\", \"AnzKinder\": \"Unbekannt\", \"AnzKinderCd\": 7, \"AnzFaelle\": 0}, {\"StichtagDatJahr\": \"2009-01-01T00:00:00\", \"AnzKinder\": \"keine\", \"AnzKinderCd\": 0, \"AnzFaelle\": 1371}, {\"StichtagDatJahr\": \"2009-01-01T00:00:00\", \"AnzKinder\": \"1\", \"AnzKinderCd\": 1, \"AnzFaelle\": 230}, {\"StichtagDatJahr\": \"2009-01-01T00:00:00\", \"AnzKinder\": \"2\", \"AnzKinderCd\": 2, \"AnzFaelle\": 158}, {\"StichtagDatJahr\": \"2009-01-01T00:00:00\", \"AnzKinder\": \"3\", \"AnzKinderCd\": 3, \"AnzFaelle\": 18}, {\"StichtagDatJahr\": \"2009-01-01T00:00:00\", \"AnzKinder\": \"4\", \"AnzKinderCd\": 4, \"AnzFaelle\": 3}, {\"StichtagDatJahr\": \"2009-01-01T00:00:00\", \"AnzKinder\": \"5\", \"AnzKinderCd\": 5, \"AnzFaelle\": 0}, {\"StichtagDatJahr\": \"2009-01-01T00:00:00\", \"AnzKinder\": \"6\", \"AnzKinderCd\": 6, \"AnzFaelle\": 0}, {\"StichtagDatJahr\": \"2009-01-01T00:00:00\", \"AnzKinder\": \"Unbekannt\", \"AnzKinderCd\": 7, \"AnzFaelle\": 0}, {\"StichtagDatJahr\": \"2010-01-01T00:00:00\", \"AnzKinder\": \"keine\", \"AnzKinderCd\": 0, \"AnzFaelle\": 1538}, {\"StichtagDatJahr\": \"2010-01-01T00:00:00\", \"AnzKinder\": \"1\", \"AnzKinderCd\": 1, \"AnzFaelle\": 264}, {\"StichtagDatJahr\": \"2010-01-01T00:00:00\", \"AnzKinder\": \"2\", \"AnzKinderCd\": 2, \"AnzFaelle\": 159}, {\"StichtagDatJahr\": \"2010-01-01T00:00:00\", \"AnzKinder\": \"3\", \"AnzKinderCd\": 3, \"AnzFaelle\": 27}, {\"StichtagDatJahr\": \"2010-01-01T00:00:00\", \"AnzKinder\": \"4\", \"AnzKinderCd\": 4, \"AnzFaelle\": 3}, {\"StichtagDatJahr\": \"2010-01-01T00:00:00\", \"AnzKinder\": \"5\", \"AnzKinderCd\": 5, \"AnzFaelle\": 0}, {\"StichtagDatJahr\": \"2010-01-01T00:00:00\", \"AnzKinder\": \"6\", \"AnzKinderCd\": 6, \"AnzFaelle\": 0}, {\"StichtagDatJahr\": \"2010-01-01T00:00:00\", \"AnzKinder\": \"Unbekannt\", \"AnzKinderCd\": 7, \"AnzFaelle\": 0}, {\"StichtagDatJahr\": \"2011-01-01T00:00:00\", \"AnzKinder\": \"keine\", \"AnzKinderCd\": 0, \"AnzFaelle\": 1174}, {\"StichtagDatJahr\": \"2011-01-01T00:00:00\", \"AnzKinder\": \"1\", \"AnzKinderCd\": 1, \"AnzFaelle\": 213}, {\"StichtagDatJahr\": \"2011-01-01T00:00:00\", \"AnzKinder\": \"2\", \"AnzKinderCd\": 2, \"AnzFaelle\": 126}, {\"StichtagDatJahr\": \"2011-01-01T00:00:00\", \"AnzKinder\": \"3\", \"AnzKinderCd\": 3, \"AnzFaelle\": 29}, {\"StichtagDatJahr\": \"2011-01-01T00:00:00\", \"AnzKinder\": \"4\", \"AnzKinderCd\": 4, \"AnzFaelle\": 2}, {\"StichtagDatJahr\": \"2011-01-01T00:00:00\", \"AnzKinder\": \"5\", \"AnzKinderCd\": 5, \"AnzFaelle\": 0}, {\"StichtagDatJahr\": \"2011-01-01T00:00:00\", \"AnzKinder\": \"6\", \"AnzKinderCd\": 6, \"AnzFaelle\": 0}, {\"StichtagDatJahr\": \"2011-01-01T00:00:00\", \"AnzKinder\": \"Unbekannt\", \"AnzKinderCd\": 7, \"AnzFaelle\": 0}, {\"StichtagDatJahr\": \"2012-01-01T00:00:00\", \"AnzKinder\": \"keine\", \"AnzKinderCd\": 0, \"AnzFaelle\": 1000}, {\"StichtagDatJahr\": \"2012-01-01T00:00:00\", \"AnzKinder\": \"1\", \"AnzKinderCd\": 1, \"AnzFaelle\": 223}, {\"StichtagDatJahr\": \"2012-01-01T00:00:00\", \"AnzKinder\": \"2\", \"AnzKinderCd\": 2, \"AnzFaelle\": 128}, {\"StichtagDatJahr\": \"2012-01-01T00:00:00\", \"AnzKinder\": \"3\", \"AnzKinderCd\": 3, \"AnzFaelle\": 17}, {\"StichtagDatJahr\": \"2012-01-01T00:00:00\", \"AnzKinder\": \"4\", \"AnzKinderCd\": 4, \"AnzFaelle\": 2}, {\"StichtagDatJahr\": \"2012-01-01T00:00:00\", \"AnzKinder\": \"5\", \"AnzKinderCd\": 5, \"AnzFaelle\": 3}, {\"StichtagDatJahr\": \"2012-01-01T00:00:00\", \"AnzKinder\": \"6\", \"AnzKinderCd\": 6, \"AnzFaelle\": 0}, {\"StichtagDatJahr\": \"2012-01-01T00:00:00\", \"AnzKinder\": \"Unbekannt\", \"AnzKinderCd\": 7, \"AnzFaelle\": 0}, {\"StichtagDatJahr\": \"2013-01-01T00:00:00\", \"AnzKinder\": \"keine\", \"AnzKinderCd\": 0, \"AnzFaelle\": 1105}, {\"StichtagDatJahr\": \"2013-01-01T00:00:00\", \"AnzKinder\": \"1\", \"AnzKinderCd\": 1, \"AnzFaelle\": 248}, {\"StichtagDatJahr\": \"2013-01-01T00:00:00\", \"AnzKinder\": \"2\", \"AnzKinderCd\": 2, \"AnzFaelle\": 124}, {\"StichtagDatJahr\": \"2013-01-01T00:00:00\", \"AnzKinder\": \"3\", \"AnzKinderCd\": 3, \"AnzFaelle\": 8}, {\"StichtagDatJahr\": \"2013-01-01T00:00:00\", \"AnzKinder\": \"4\", \"AnzKinderCd\": 4, \"AnzFaelle\": 3}, {\"StichtagDatJahr\": \"2013-01-01T00:00:00\", \"AnzKinder\": \"5\", \"AnzKinderCd\": 5, \"AnzFaelle\": 0}, {\"StichtagDatJahr\": \"2013-01-01T00:00:00\", \"AnzKinder\": \"6\", \"AnzKinderCd\": 6, \"AnzFaelle\": 0}, {\"StichtagDatJahr\": \"2013-01-01T00:00:00\", \"AnzKinder\": \"Unbekannt\", \"AnzKinderCd\": 7, \"AnzFaelle\": 0}, {\"StichtagDatJahr\": \"2014-01-01T00:00:00\", \"AnzKinder\": \"keine\", \"AnzKinderCd\": 0, \"AnzFaelle\": 961}, {\"StichtagDatJahr\": \"2014-01-01T00:00:00\", \"AnzKinder\": \"1\", \"AnzKinderCd\": 1, \"AnzFaelle\": 211}, {\"StichtagDatJahr\": \"2014-01-01T00:00:00\", \"AnzKinder\": \"2\", \"AnzKinderCd\": 2, \"AnzFaelle\": 136}, {\"StichtagDatJahr\": \"2014-01-01T00:00:00\", \"AnzKinder\": \"3\", \"AnzKinderCd\": 3, \"AnzFaelle\": 25}, {\"StichtagDatJahr\": \"2014-01-01T00:00:00\", \"AnzKinder\": \"4\", \"AnzKinderCd\": 4, \"AnzFaelle\": 1}, {\"StichtagDatJahr\": \"2014-01-01T00:00:00\", \"AnzKinder\": \"5\", \"AnzKinderCd\": 5, \"AnzFaelle\": 0}, {\"StichtagDatJahr\": \"2014-01-01T00:00:00\", \"AnzKinder\": \"6\", \"AnzKinderCd\": 6, \"AnzFaelle\": 0}, {\"StichtagDatJahr\": \"2014-01-01T00:00:00\", \"AnzKinder\": \"Unbekannt\", \"AnzKinderCd\": 7, \"AnzFaelle\": 0}, {\"StichtagDatJahr\": \"2015-01-01T00:00:00\", \"AnzKinder\": \"keine\", \"AnzKinderCd\": 0, \"AnzFaelle\": 936}, {\"StichtagDatJahr\": \"2015-01-01T00:00:00\", \"AnzKinder\": \"1\", \"AnzKinderCd\": 1, \"AnzFaelle\": 200}, {\"StichtagDatJahr\": \"2015-01-01T00:00:00\", \"AnzKinder\": \"2\", \"AnzKinderCd\": 2, \"AnzFaelle\": 134}, {\"StichtagDatJahr\": \"2015-01-01T00:00:00\", \"AnzKinder\": \"3\", \"AnzKinderCd\": 3, \"AnzFaelle\": 24}, {\"StichtagDatJahr\": \"2015-01-01T00:00:00\", \"AnzKinder\": \"4\", \"AnzKinderCd\": 4, \"AnzFaelle\": 1}, {\"StichtagDatJahr\": \"2015-01-01T00:00:00\", \"AnzKinder\": \"5\", \"AnzKinderCd\": 5, \"AnzFaelle\": 0}, {\"StichtagDatJahr\": \"2015-01-01T00:00:00\", \"AnzKinder\": \"6\", \"AnzKinderCd\": 6, \"AnzFaelle\": 2}, {\"StichtagDatJahr\": \"2015-01-01T00:00:00\", \"AnzKinder\": \"Unbekannt\", \"AnzKinderCd\": 7, \"AnzFaelle\": 0}, {\"StichtagDatJahr\": \"2016-01-01T00:00:00\", \"AnzKinder\": \"keine\", \"AnzKinderCd\": 0, \"AnzFaelle\": 879}, {\"StichtagDatJahr\": \"2016-01-01T00:00:00\", \"AnzKinder\": \"1\", \"AnzKinderCd\": 1, \"AnzFaelle\": 219}, {\"StichtagDatJahr\": \"2016-01-01T00:00:00\", \"AnzKinder\": \"2\", \"AnzKinderCd\": 2, \"AnzFaelle\": 144}, {\"StichtagDatJahr\": \"2016-01-01T00:00:00\", \"AnzKinder\": \"3\", \"AnzKinderCd\": 3, \"AnzFaelle\": 30}, {\"StichtagDatJahr\": \"2016-01-01T00:00:00\", \"AnzKinder\": \"4\", \"AnzKinderCd\": 4, \"AnzFaelle\": 4}, {\"StichtagDatJahr\": \"2016-01-01T00:00:00\", \"AnzKinder\": \"5\", \"AnzKinderCd\": 5, \"AnzFaelle\": 0}, {\"StichtagDatJahr\": \"2016-01-01T00:00:00\", \"AnzKinder\": \"6\", \"AnzKinderCd\": 6, \"AnzFaelle\": 0}, {\"StichtagDatJahr\": \"2016-01-01T00:00:00\", \"AnzKinder\": \"Unbekannt\", \"AnzKinderCd\": 7, \"AnzFaelle\": 0}, {\"StichtagDatJahr\": \"2017-01-01T00:00:00\", \"AnzKinder\": \"keine\", \"AnzKinderCd\": 0, \"AnzFaelle\": 881}, {\"StichtagDatJahr\": \"2017-01-01T00:00:00\", \"AnzKinder\": \"1\", \"AnzKinderCd\": 1, \"AnzFaelle\": 234}, {\"StichtagDatJahr\": \"2017-01-01T00:00:00\", \"AnzKinder\": \"2\", \"AnzKinderCd\": 2, \"AnzFaelle\": 109}, {\"StichtagDatJahr\": \"2017-01-01T00:00:00\", \"AnzKinder\": \"3\", \"AnzKinderCd\": 3, \"AnzFaelle\": 23}, {\"StichtagDatJahr\": \"2017-01-01T00:00:00\", \"AnzKinder\": \"4\", \"AnzKinderCd\": 4, \"AnzFaelle\": 3}, {\"StichtagDatJahr\": \"2017-01-01T00:00:00\", \"AnzKinder\": \"5\", \"AnzKinderCd\": 5, \"AnzFaelle\": 1}, {\"StichtagDatJahr\": \"2017-01-01T00:00:00\", \"AnzKinder\": \"6\", \"AnzKinderCd\": 6, \"AnzFaelle\": 0}, {\"StichtagDatJahr\": \"2017-01-01T00:00:00\", \"AnzKinder\": \"Unbekannt\", \"AnzKinderCd\": 7, \"AnzFaelle\": 0}, {\"StichtagDatJahr\": \"2018-01-01T00:00:00\", \"AnzKinder\": \"keine\", \"AnzKinderCd\": 0, \"AnzFaelle\": 880}, {\"StichtagDatJahr\": \"2018-01-01T00:00:00\", \"AnzKinder\": \"1\", \"AnzKinderCd\": 1, \"AnzFaelle\": 200}, {\"StichtagDatJahr\": \"2018-01-01T00:00:00\", \"AnzKinder\": \"2\", \"AnzKinderCd\": 2, \"AnzFaelle\": 131}, {\"StichtagDatJahr\": \"2018-01-01T00:00:00\", \"AnzKinder\": \"3\", \"AnzKinderCd\": 3, \"AnzFaelle\": 24}, {\"StichtagDatJahr\": \"2018-01-01T00:00:00\", \"AnzKinder\": \"4\", \"AnzKinderCd\": 4, \"AnzFaelle\": 6}, {\"StichtagDatJahr\": \"2018-01-01T00:00:00\", \"AnzKinder\": \"5\", \"AnzKinderCd\": 5, \"AnzFaelle\": 0}, {\"StichtagDatJahr\": \"2018-01-01T00:00:00\", \"AnzKinder\": \"6\", \"AnzKinderCd\": 6, \"AnzFaelle\": 0}, {\"StichtagDatJahr\": \"2018-01-01T00:00:00\", \"AnzKinder\": \"Unbekannt\", \"AnzKinderCd\": 7, \"AnzFaelle\": 0}, {\"StichtagDatJahr\": \"2019-01-01T00:00:00\", \"AnzKinder\": \"keine\", \"AnzKinderCd\": 0, \"AnzFaelle\": 874}, {\"StichtagDatJahr\": \"2019-01-01T00:00:00\", \"AnzKinder\": \"1\", \"AnzKinderCd\": 1, \"AnzFaelle\": 238}, {\"StichtagDatJahr\": \"2019-01-01T00:00:00\", \"AnzKinder\": \"2\", \"AnzKinderCd\": 2, \"AnzFaelle\": 166}, {\"StichtagDatJahr\": \"2019-01-01T00:00:00\", \"AnzKinder\": \"3\", \"AnzKinderCd\": 3, \"AnzFaelle\": 25}, {\"StichtagDatJahr\": \"2019-01-01T00:00:00\", \"AnzKinder\": \"4\", \"AnzKinderCd\": 4, \"AnzFaelle\": 1}, {\"StichtagDatJahr\": \"2019-01-01T00:00:00\", \"AnzKinder\": \"5\", \"AnzKinderCd\": 5, \"AnzFaelle\": 1}, {\"StichtagDatJahr\": \"2019-01-01T00:00:00\", \"AnzKinder\": \"6\", \"AnzKinderCd\": 6, \"AnzFaelle\": 0}, {\"StichtagDatJahr\": \"2019-01-01T00:00:00\", \"AnzKinder\": \"Unbekannt\", \"AnzKinderCd\": 7, \"AnzFaelle\": 0}, {\"StichtagDatJahr\": \"2020-01-01T00:00:00\", \"AnzKinder\": \"keine\", \"AnzKinderCd\": 0, \"AnzFaelle\": 772}, {\"StichtagDatJahr\": \"2020-01-01T00:00:00\", \"AnzKinder\": \"1\", \"AnzKinderCd\": 1, \"AnzFaelle\": 203}, {\"StichtagDatJahr\": \"2020-01-01T00:00:00\", \"AnzKinder\": \"2\", \"AnzKinderCd\": 2, \"AnzFaelle\": 153}, {\"StichtagDatJahr\": \"2020-01-01T00:00:00\", \"AnzKinder\": \"3\", \"AnzKinderCd\": 3, \"AnzFaelle\": 27}, {\"StichtagDatJahr\": \"2020-01-01T00:00:00\", \"AnzKinder\": \"4\", \"AnzKinderCd\": 4, \"AnzFaelle\": 2}, {\"StichtagDatJahr\": \"2020-01-01T00:00:00\", \"AnzKinder\": \"5\", \"AnzKinderCd\": 5, \"AnzFaelle\": 1}, {\"StichtagDatJahr\": \"2020-01-01T00:00:00\", \"AnzKinder\": \"6\", \"AnzKinderCd\": 6, \"AnzFaelle\": 0}, {\"StichtagDatJahr\": \"2020-01-01T00:00:00\", \"AnzKinder\": \"Unbekannt\", \"AnzKinderCd\": 7, \"AnzFaelle\": 0}]}}, {\"mode\": \"vega-lite\"});\n",
       "</script>"
      ],
      "text/plain": [
       "alt.LayerChart(...)"
      ]
     },
     "execution_count": 20,
     "metadata": {},
     "output_type": "execute_result"
    }
   ],
   "source": [
    "# df_statzonen = df_statzonen[(df_statzonen.knr>0) & (df_statzonen.qname!=\"Hirslanden\")]\n",
    "#mySelection[[mySelection.NationFHistLang =='Schweiz']]\n",
    "\n",
    "\n",
    "highlight = alt.selection(type='single', on='mouseover',\n",
    "                          fields=['AnzKinder'], nearest=True)\n",
    "#x='date:StichtagDatJahr',\n",
    "base = alt.Chart(data2betested).encode(\n",
    "    x='StichtagDatJahr',\n",
    "    y='AnzFaelle',\n",
    "    color='AnzKinder'\n",
    ")\n",
    "\n",
    "points = base.mark_circle().encode(\n",
    "    opacity=alt.value(2)\n",
    ").add_selection(\n",
    "    highlight\n",
    ").properties(\n",
    "    width=700 , height=300\n",
    ")\n",
    "lines = base.mark_line().encode(\n",
    "    size=alt.condition(~highlight, alt.value(1.5), alt.value(4))\n",
    ").interactive()\n",
    "\n",
    "points + lines"
   ]
  },
  {
   "cell_type": "code",
   "execution_count": 21,
   "metadata": {},
   "outputs": [
    {
     "data": {
      "text/html": [
       "\n",
       "<div id=\"altair-viz-355b0b83bcf2457d89290a1d205c76e3\"></div>\n",
       "<script type=\"text/javascript\">\n",
       "  (function(spec, embedOpt){\n",
       "    let outputDiv = document.currentScript.previousElementSibling;\n",
       "    if (outputDiv.id !== \"altair-viz-355b0b83bcf2457d89290a1d205c76e3\") {\n",
       "      outputDiv = document.getElementById(\"altair-viz-355b0b83bcf2457d89290a1d205c76e3\");\n",
       "    }\n",
       "    const paths = {\n",
       "      \"vega\": \"https://cdn.jsdelivr.net/npm//vega@5?noext\",\n",
       "      \"vega-lib\": \"https://cdn.jsdelivr.net/npm//vega-lib?noext\",\n",
       "      \"vega-lite\": \"https://cdn.jsdelivr.net/npm//vega-lite@4.8.1?noext\",\n",
       "      \"vega-embed\": \"https://cdn.jsdelivr.net/npm//vega-embed@6?noext\",\n",
       "    };\n",
       "\n",
       "    function loadScript(lib) {\n",
       "      return new Promise(function(resolve, reject) {\n",
       "        var s = document.createElement('script');\n",
       "        s.src = paths[lib];\n",
       "        s.async = true;\n",
       "        s.onload = () => resolve(paths[lib]);\n",
       "        s.onerror = () => reject(`Error loading script: ${paths[lib]}`);\n",
       "        document.getElementsByTagName(\"head\")[0].appendChild(s);\n",
       "      });\n",
       "    }\n",
       "\n",
       "    function showError(err) {\n",
       "      outputDiv.innerHTML = `<div class=\"error\" style=\"color:red;\">${err}</div>`;\n",
       "      throw err;\n",
       "    }\n",
       "\n",
       "    function displayChart(vegaEmbed) {\n",
       "      vegaEmbed(outputDiv, spec, embedOpt)\n",
       "        .catch(err => showError(`Javascript Error: ${err.message}<br>This usually means there's a typo in your chart specification. See the javascript console for the full traceback.`));\n",
       "    }\n",
       "\n",
       "    if(typeof define === \"function\" && define.amd) {\n",
       "      requirejs.config({paths});\n",
       "      require([\"vega-embed\"], displayChart, err => showError(`Error loading script: ${err.message}`));\n",
       "    } else if (typeof vegaEmbed === \"function\") {\n",
       "      displayChart(vegaEmbed);\n",
       "    } else {\n",
       "      loadScript(\"vega\")\n",
       "        .then(() => loadScript(\"vega-lite\"))\n",
       "        .then(() => loadScript(\"vega-embed\"))\n",
       "        .catch(showError)\n",
       "        .then(() => displayChart(vegaEmbed));\n",
       "    }\n",
       "  })({\"config\": {\"view\": {\"continuousWidth\": 400, \"continuousHeight\": 300}}, \"data\": {\"name\": \"data-04d156355bcc401034426776de358509\"}, \"mark\": {\"type\": \"circle\", \"size\": 60}, \"encoding\": {\"color\": {\"type\": \"nominal\", \"field\": \"AnzKinder\", \"scale\": {\"scheme\": \"dark2\"}}, \"tooltip\": [{\"type\": \"temporal\", \"field\": \"StichtagDatJahr\"}, {\"type\": \"nominal\", \"field\": \"AnzKinder\"}, {\"type\": \"quantitative\", \"field\": \"AnzFaelle\"}], \"x\": {\"type\": \"temporal\", \"field\": \"StichtagDatJahr\"}, \"y\": {\"type\": \"quantitative\", \"field\": \"AnzFaelle\"}}, \"selection\": {\"selector003\": {\"type\": \"interval\", \"bind\": \"scales\", \"encodings\": [\"x\", \"y\"]}}, \"$schema\": \"https://vega.github.io/schema/vega-lite/v4.8.1.json\", \"datasets\": {\"data-04d156355bcc401034426776de358509\": [{\"StichtagDatJahr\": \"1993-01-01T00:00:00\", \"AnzKinder\": \"keine\", \"AnzKinderCd\": 0, \"AnzFaelle\": 967}, {\"StichtagDatJahr\": \"1993-01-01T00:00:00\", \"AnzKinder\": \"1\", \"AnzKinderCd\": 1, \"AnzFaelle\": 257}, {\"StichtagDatJahr\": \"1993-01-01T00:00:00\", \"AnzKinder\": \"2\", \"AnzKinderCd\": 2, \"AnzFaelle\": 217}, {\"StichtagDatJahr\": \"1993-01-01T00:00:00\", \"AnzKinder\": \"3\", \"AnzKinderCd\": 3, \"AnzFaelle\": 26}, {\"StichtagDatJahr\": \"1993-01-01T00:00:00\", \"AnzKinder\": \"4\", \"AnzKinderCd\": 4, \"AnzFaelle\": 8}, {\"StichtagDatJahr\": \"1993-01-01T00:00:00\", \"AnzKinder\": \"5\", \"AnzKinderCd\": 5, \"AnzFaelle\": 0}, {\"StichtagDatJahr\": \"1993-01-01T00:00:00\", \"AnzKinder\": \"6\", \"AnzKinderCd\": 6, \"AnzFaelle\": 0}, {\"StichtagDatJahr\": \"1993-01-01T00:00:00\", \"AnzKinder\": \"Unbekannt\", \"AnzKinderCd\": 7, \"AnzFaelle\": 0}, {\"StichtagDatJahr\": \"1994-01-01T00:00:00\", \"AnzKinder\": \"keine\", \"AnzKinderCd\": 0, \"AnzFaelle\": 962}, {\"StichtagDatJahr\": \"1994-01-01T00:00:00\", \"AnzKinder\": \"1\", \"AnzKinderCd\": 1, \"AnzFaelle\": 270}, {\"StichtagDatJahr\": \"1994-01-01T00:00:00\", \"AnzKinder\": \"2\", \"AnzKinderCd\": 2, \"AnzFaelle\": 186}, {\"StichtagDatJahr\": \"1994-01-01T00:00:00\", \"AnzKinder\": \"3\", \"AnzKinderCd\": 3, \"AnzFaelle\": 30}, {\"StichtagDatJahr\": \"1994-01-01T00:00:00\", \"AnzKinder\": \"4\", \"AnzKinderCd\": 4, \"AnzFaelle\": 5}, {\"StichtagDatJahr\": \"1994-01-01T00:00:00\", \"AnzKinder\": \"5\", \"AnzKinderCd\": 5, \"AnzFaelle\": 1}, {\"StichtagDatJahr\": \"1994-01-01T00:00:00\", \"AnzKinder\": \"6\", \"AnzKinderCd\": 6, \"AnzFaelle\": 0}, {\"StichtagDatJahr\": \"1994-01-01T00:00:00\", \"AnzKinder\": \"Unbekannt\", \"AnzKinderCd\": 7, \"AnzFaelle\": 1}, {\"StichtagDatJahr\": \"1995-01-01T00:00:00\", \"AnzKinder\": \"keine\", \"AnzKinderCd\": 0, \"AnzFaelle\": 959}, {\"StichtagDatJahr\": \"1995-01-01T00:00:00\", \"AnzKinder\": \"1\", \"AnzKinderCd\": 1, \"AnzFaelle\": 284}, {\"StichtagDatJahr\": \"1995-01-01T00:00:00\", \"AnzKinder\": \"2\", \"AnzKinderCd\": 2, \"AnzFaelle\": 204}, {\"StichtagDatJahr\": \"1995-01-01T00:00:00\", \"AnzKinder\": \"3\", \"AnzKinderCd\": 3, \"AnzFaelle\": 28}, {\"StichtagDatJahr\": \"1995-01-01T00:00:00\", \"AnzKinder\": \"4\", \"AnzKinderCd\": 4, \"AnzFaelle\": 9}, {\"StichtagDatJahr\": \"1995-01-01T00:00:00\", \"AnzKinder\": \"5\", \"AnzKinderCd\": 5, \"AnzFaelle\": 1}, {\"StichtagDatJahr\": \"1995-01-01T00:00:00\", \"AnzKinder\": \"6\", \"AnzKinderCd\": 6, \"AnzFaelle\": 1}, {\"StichtagDatJahr\": \"1995-01-01T00:00:00\", \"AnzKinder\": \"Unbekannt\", \"AnzKinderCd\": 7, \"AnzFaelle\": 2}, {\"StichtagDatJahr\": \"1996-01-01T00:00:00\", \"AnzKinder\": \"keine\", \"AnzKinderCd\": 0, \"AnzFaelle\": 985}, {\"StichtagDatJahr\": \"1996-01-01T00:00:00\", \"AnzKinder\": \"1\", \"AnzKinderCd\": 1, \"AnzFaelle\": 299}, {\"StichtagDatJahr\": \"1996-01-01T00:00:00\", \"AnzKinder\": \"2\", \"AnzKinderCd\": 2, \"AnzFaelle\": 210}, {\"StichtagDatJahr\": \"1996-01-01T00:00:00\", \"AnzKinder\": \"3\", \"AnzKinderCd\": 3, \"AnzFaelle\": 42}, {\"StichtagDatJahr\": \"1996-01-01T00:00:00\", \"AnzKinder\": \"4\", \"AnzKinderCd\": 4, \"AnzFaelle\": 8}, {\"StichtagDatJahr\": \"1996-01-01T00:00:00\", \"AnzKinder\": \"5\", \"AnzKinderCd\": 5, \"AnzFaelle\": 2}, {\"StichtagDatJahr\": \"1996-01-01T00:00:00\", \"AnzKinder\": \"6\", \"AnzKinderCd\": 6, \"AnzFaelle\": 0}, {\"StichtagDatJahr\": \"1996-01-01T00:00:00\", \"AnzKinder\": \"Unbekannt\", \"AnzKinderCd\": 7, \"AnzFaelle\": 7}, {\"StichtagDatJahr\": \"1997-01-01T00:00:00\", \"AnzKinder\": \"keine\", \"AnzKinderCd\": 0, \"AnzFaelle\": 1057}, {\"StichtagDatJahr\": \"1997-01-01T00:00:00\", \"AnzKinder\": \"1\", \"AnzKinderCd\": 1, \"AnzFaelle\": 279}, {\"StichtagDatJahr\": \"1997-01-01T00:00:00\", \"AnzKinder\": \"2\", \"AnzKinderCd\": 2, \"AnzFaelle\": 172}, {\"StichtagDatJahr\": \"1997-01-01T00:00:00\", \"AnzKinder\": \"3\", \"AnzKinderCd\": 3, \"AnzFaelle\": 37}, {\"StichtagDatJahr\": \"1997-01-01T00:00:00\", \"AnzKinder\": \"4\", \"AnzKinderCd\": 4, \"AnzFaelle\": 6}, {\"StichtagDatJahr\": \"1997-01-01T00:00:00\", \"AnzKinder\": \"5\", \"AnzKinderCd\": 5, \"AnzFaelle\": 0}, {\"StichtagDatJahr\": \"1997-01-01T00:00:00\", \"AnzKinder\": \"6\", \"AnzKinderCd\": 6, \"AnzFaelle\": 0}, {\"StichtagDatJahr\": \"1997-01-01T00:00:00\", \"AnzKinder\": \"Unbekannt\", \"AnzKinderCd\": 7, \"AnzFaelle\": 6}, {\"StichtagDatJahr\": \"1998-01-01T00:00:00\", \"AnzKinder\": \"keine\", \"AnzKinderCd\": 0, \"AnzFaelle\": 1090}, {\"StichtagDatJahr\": \"1998-01-01T00:00:00\", \"AnzKinder\": \"1\", \"AnzKinderCd\": 1, \"AnzFaelle\": 288}, {\"StichtagDatJahr\": \"1998-01-01T00:00:00\", \"AnzKinder\": \"2\", \"AnzKinderCd\": 2, \"AnzFaelle\": 207}, {\"StichtagDatJahr\": \"1998-01-01T00:00:00\", \"AnzKinder\": \"3\", \"AnzKinderCd\": 3, \"AnzFaelle\": 41}, {\"StichtagDatJahr\": \"1998-01-01T00:00:00\", \"AnzKinder\": \"4\", \"AnzKinderCd\": 4, \"AnzFaelle\": 6}, {\"StichtagDatJahr\": \"1998-01-01T00:00:00\", \"AnzKinder\": \"5\", \"AnzKinderCd\": 5, \"AnzFaelle\": 1}, {\"StichtagDatJahr\": \"1998-01-01T00:00:00\", \"AnzKinder\": \"6\", \"AnzKinderCd\": 6, \"AnzFaelle\": 0}, {\"StichtagDatJahr\": \"1998-01-01T00:00:00\", \"AnzKinder\": \"Unbekannt\", \"AnzKinderCd\": 7, \"AnzFaelle\": 4}, {\"StichtagDatJahr\": \"1999-01-01T00:00:00\", \"AnzKinder\": \"keine\", \"AnzKinderCd\": 0, \"AnzFaelle\": 1127}, {\"StichtagDatJahr\": \"1999-01-01T00:00:00\", \"AnzKinder\": \"1\", \"AnzKinderCd\": 1, \"AnzFaelle\": 257}, {\"StichtagDatJahr\": \"1999-01-01T00:00:00\", \"AnzKinder\": \"2\", \"AnzKinderCd\": 2, \"AnzFaelle\": 204}, {\"StichtagDatJahr\": \"1999-01-01T00:00:00\", \"AnzKinder\": \"3\", \"AnzKinderCd\": 3, \"AnzFaelle\": 28}, {\"StichtagDatJahr\": \"1999-01-01T00:00:00\", \"AnzKinder\": \"4\", \"AnzKinderCd\": 4, \"AnzFaelle\": 9}, {\"StichtagDatJahr\": \"1999-01-01T00:00:00\", \"AnzKinder\": \"5\", \"AnzKinderCd\": 5, \"AnzFaelle\": 2}, {\"StichtagDatJahr\": \"1999-01-01T00:00:00\", \"AnzKinder\": \"6\", \"AnzKinderCd\": 6, \"AnzFaelle\": 0}, {\"StichtagDatJahr\": \"1999-01-01T00:00:00\", \"AnzKinder\": \"Unbekannt\", \"AnzKinderCd\": 7, \"AnzFaelle\": 1}, {\"StichtagDatJahr\": \"2000-01-01T00:00:00\", \"AnzKinder\": \"keine\", \"AnzKinderCd\": 0, \"AnzFaelle\": 781}, {\"StichtagDatJahr\": \"2000-01-01T00:00:00\", \"AnzKinder\": \"1\", \"AnzKinderCd\": 1, \"AnzFaelle\": 185}, {\"StichtagDatJahr\": \"2000-01-01T00:00:00\", \"AnzKinder\": \"2\", \"AnzKinderCd\": 2, \"AnzFaelle\": 140}, {\"StichtagDatJahr\": \"2000-01-01T00:00:00\", \"AnzKinder\": \"3\", \"AnzKinderCd\": 3, \"AnzFaelle\": 23}, {\"StichtagDatJahr\": \"2000-01-01T00:00:00\", \"AnzKinder\": \"4\", \"AnzKinderCd\": 4, \"AnzFaelle\": 10}, {\"StichtagDatJahr\": \"2000-01-01T00:00:00\", \"AnzKinder\": \"5\", \"AnzKinderCd\": 5, \"AnzFaelle\": 1}, {\"StichtagDatJahr\": \"2000-01-01T00:00:00\", \"AnzKinder\": \"6\", \"AnzKinderCd\": 6, \"AnzFaelle\": 0}, {\"StichtagDatJahr\": \"2000-01-01T00:00:00\", \"AnzKinder\": \"Unbekannt\", \"AnzKinderCd\": 7, \"AnzFaelle\": 0}, {\"StichtagDatJahr\": \"2001-01-01T00:00:00\", \"AnzKinder\": \"keine\", \"AnzKinderCd\": 0, \"AnzFaelle\": 792}, {\"StichtagDatJahr\": \"2001-01-01T00:00:00\", \"AnzKinder\": \"1\", \"AnzKinderCd\": 1, \"AnzFaelle\": 157}, {\"StichtagDatJahr\": \"2001-01-01T00:00:00\", \"AnzKinder\": \"2\", \"AnzKinderCd\": 2, \"AnzFaelle\": 110}, {\"StichtagDatJahr\": \"2001-01-01T00:00:00\", \"AnzKinder\": \"3\", \"AnzKinderCd\": 3, \"AnzFaelle\": 38}, {\"StichtagDatJahr\": \"2001-01-01T00:00:00\", \"AnzKinder\": \"4\", \"AnzKinderCd\": 4, \"AnzFaelle\": 3}, {\"StichtagDatJahr\": \"2001-01-01T00:00:00\", \"AnzKinder\": \"5\", \"AnzKinderCd\": 5, \"AnzFaelle\": 1}, {\"StichtagDatJahr\": \"2001-01-01T00:00:00\", \"AnzKinder\": \"6\", \"AnzKinderCd\": 6, \"AnzFaelle\": 0}, {\"StichtagDatJahr\": \"2001-01-01T00:00:00\", \"AnzKinder\": \"Unbekannt\", \"AnzKinderCd\": 7, \"AnzFaelle\": 6}, {\"StichtagDatJahr\": \"2002-01-01T00:00:00\", \"AnzKinder\": \"keine\", \"AnzKinderCd\": 0, \"AnzFaelle\": 1205}, {\"StichtagDatJahr\": \"2002-01-01T00:00:00\", \"AnzKinder\": \"1\", \"AnzKinderCd\": 1, \"AnzFaelle\": 265}, {\"StichtagDatJahr\": \"2002-01-01T00:00:00\", \"AnzKinder\": \"2\", \"AnzKinderCd\": 2, \"AnzFaelle\": 171}, {\"StichtagDatJahr\": \"2002-01-01T00:00:00\", \"AnzKinder\": \"3\", \"AnzKinderCd\": 3, \"AnzFaelle\": 29}, {\"StichtagDatJahr\": \"2002-01-01T00:00:00\", \"AnzKinder\": \"4\", \"AnzKinderCd\": 4, \"AnzFaelle\": 0}, {\"StichtagDatJahr\": \"2002-01-01T00:00:00\", \"AnzKinder\": \"5\", \"AnzKinderCd\": 5, \"AnzFaelle\": 0}, {\"StichtagDatJahr\": \"2002-01-01T00:00:00\", \"AnzKinder\": \"6\", \"AnzKinderCd\": 6, \"AnzFaelle\": 0}, {\"StichtagDatJahr\": \"2002-01-01T00:00:00\", \"AnzKinder\": \"Unbekannt\", \"AnzKinderCd\": 7, \"AnzFaelle\": 3}, {\"StichtagDatJahr\": \"2003-01-01T00:00:00\", \"AnzKinder\": \"keine\", \"AnzKinderCd\": 0, \"AnzFaelle\": 1129}, {\"StichtagDatJahr\": \"2003-01-01T00:00:00\", \"AnzKinder\": \"1\", \"AnzKinderCd\": 1, \"AnzFaelle\": 208}, {\"StichtagDatJahr\": \"2003-01-01T00:00:00\", \"AnzKinder\": \"2\", \"AnzKinderCd\": 2, \"AnzFaelle\": 174}, {\"StichtagDatJahr\": \"2003-01-01T00:00:00\", \"AnzKinder\": \"3\", \"AnzKinderCd\": 3, \"AnzFaelle\": 30}, {\"StichtagDatJahr\": \"2003-01-01T00:00:00\", \"AnzKinder\": \"4\", \"AnzKinderCd\": 4, \"AnzFaelle\": 4}, {\"StichtagDatJahr\": \"2003-01-01T00:00:00\", \"AnzKinder\": \"5\", \"AnzKinderCd\": 5, \"AnzFaelle\": 0}, {\"StichtagDatJahr\": \"2003-01-01T00:00:00\", \"AnzKinder\": \"6\", \"AnzKinderCd\": 6, \"AnzFaelle\": 0}, {\"StichtagDatJahr\": \"2003-01-01T00:00:00\", \"AnzKinder\": \"Unbekannt\", \"AnzKinderCd\": 7, \"AnzFaelle\": 0}, {\"StichtagDatJahr\": \"2004-01-01T00:00:00\", \"AnzKinder\": \"keine\", \"AnzKinderCd\": 0, \"AnzFaelle\": 1160}, {\"StichtagDatJahr\": \"2004-01-01T00:00:00\", \"AnzKinder\": \"1\", \"AnzKinderCd\": 1, \"AnzFaelle\": 238}, {\"StichtagDatJahr\": \"2004-01-01T00:00:00\", \"AnzKinder\": \"2\", \"AnzKinderCd\": 2, \"AnzFaelle\": 153}, {\"StichtagDatJahr\": \"2004-01-01T00:00:00\", \"AnzKinder\": \"3\", \"AnzKinderCd\": 3, \"AnzFaelle\": 27}, {\"StichtagDatJahr\": \"2004-01-01T00:00:00\", \"AnzKinder\": \"4\", \"AnzKinderCd\": 4, \"AnzFaelle\": 1}, {\"StichtagDatJahr\": \"2004-01-01T00:00:00\", \"AnzKinder\": \"5\", \"AnzKinderCd\": 5, \"AnzFaelle\": 1}, {\"StichtagDatJahr\": \"2004-01-01T00:00:00\", \"AnzKinder\": \"6\", \"AnzKinderCd\": 6, \"AnzFaelle\": 1}, {\"StichtagDatJahr\": \"2004-01-01T00:00:00\", \"AnzKinder\": \"Unbekannt\", \"AnzKinderCd\": 7, \"AnzFaelle\": 0}, {\"StichtagDatJahr\": \"2005-01-01T00:00:00\", \"AnzKinder\": \"keine\", \"AnzKinderCd\": 0, \"AnzFaelle\": 1319}, {\"StichtagDatJahr\": \"2005-01-01T00:00:00\", \"AnzKinder\": \"1\", \"AnzKinderCd\": 1, \"AnzFaelle\": 303}, {\"StichtagDatJahr\": \"2005-01-01T00:00:00\", \"AnzKinder\": \"2\", \"AnzKinderCd\": 2, \"AnzFaelle\": 205}, {\"StichtagDatJahr\": \"2005-01-01T00:00:00\", \"AnzKinder\": \"3\", \"AnzKinderCd\": 3, \"AnzFaelle\": 24}, {\"StichtagDatJahr\": \"2005-01-01T00:00:00\", \"AnzKinder\": \"4\", \"AnzKinderCd\": 4, \"AnzFaelle\": 4}, {\"StichtagDatJahr\": \"2005-01-01T00:00:00\", \"AnzKinder\": \"5\", \"AnzKinderCd\": 5, \"AnzFaelle\": 0}, {\"StichtagDatJahr\": \"2005-01-01T00:00:00\", \"AnzKinder\": \"6\", \"AnzKinderCd\": 6, \"AnzFaelle\": 1}, {\"StichtagDatJahr\": \"2005-01-01T00:00:00\", \"AnzKinder\": \"Unbekannt\", \"AnzKinderCd\": 7, \"AnzFaelle\": 0}, {\"StichtagDatJahr\": \"2006-01-01T00:00:00\", \"AnzKinder\": \"keine\", \"AnzKinderCd\": 0, \"AnzFaelle\": 1354}, {\"StichtagDatJahr\": \"2006-01-01T00:00:00\", \"AnzKinder\": \"1\", \"AnzKinderCd\": 1, \"AnzFaelle\": 265}, {\"StichtagDatJahr\": \"2006-01-01T00:00:00\", \"AnzKinder\": \"2\", \"AnzKinderCd\": 2, \"AnzFaelle\": 154}, {\"StichtagDatJahr\": \"2006-01-01T00:00:00\", \"AnzKinder\": \"3\", \"AnzKinderCd\": 3, \"AnzFaelle\": 16}, {\"StichtagDatJahr\": \"2006-01-01T00:00:00\", \"AnzKinder\": \"4\", \"AnzKinderCd\": 4, \"AnzFaelle\": 0}, {\"StichtagDatJahr\": \"2006-01-01T00:00:00\", \"AnzKinder\": \"5\", \"AnzKinderCd\": 5, \"AnzFaelle\": 1}, {\"StichtagDatJahr\": \"2006-01-01T00:00:00\", \"AnzKinder\": \"6\", \"AnzKinderCd\": 6, \"AnzFaelle\": 0}, {\"StichtagDatJahr\": \"2006-01-01T00:00:00\", \"AnzKinder\": \"Unbekannt\", \"AnzKinderCd\": 7, \"AnzFaelle\": 0}, {\"StichtagDatJahr\": \"2007-01-01T00:00:00\", \"AnzKinder\": \"keine\", \"AnzKinderCd\": 0, \"AnzFaelle\": 1240}, {\"StichtagDatJahr\": \"2007-01-01T00:00:00\", \"AnzKinder\": \"1\", \"AnzKinderCd\": 1, \"AnzFaelle\": 249}, {\"StichtagDatJahr\": \"2007-01-01T00:00:00\", \"AnzKinder\": \"2\", \"AnzKinderCd\": 2, \"AnzFaelle\": 129}, {\"StichtagDatJahr\": \"2007-01-01T00:00:00\", \"AnzKinder\": \"3\", \"AnzKinderCd\": 3, \"AnzFaelle\": 25}, {\"StichtagDatJahr\": \"2007-01-01T00:00:00\", \"AnzKinder\": \"4\", \"AnzKinderCd\": 4, \"AnzFaelle\": 0}, {\"StichtagDatJahr\": \"2007-01-01T00:00:00\", \"AnzKinder\": \"5\", \"AnzKinderCd\": 5, \"AnzFaelle\": 0}, {\"StichtagDatJahr\": \"2007-01-01T00:00:00\", \"AnzKinder\": \"6\", \"AnzKinderCd\": 6, \"AnzFaelle\": 0}, {\"StichtagDatJahr\": \"2007-01-01T00:00:00\", \"AnzKinder\": \"Unbekannt\", \"AnzKinderCd\": 7, \"AnzFaelle\": 0}, {\"StichtagDatJahr\": \"2008-01-01T00:00:00\", \"AnzKinder\": \"keine\", \"AnzKinderCd\": 0, \"AnzFaelle\": 1185}, {\"StichtagDatJahr\": \"2008-01-01T00:00:00\", \"AnzKinder\": \"1\", \"AnzKinderCd\": 1, \"AnzFaelle\": 231}, {\"StichtagDatJahr\": \"2008-01-01T00:00:00\", \"AnzKinder\": \"2\", \"AnzKinderCd\": 2, \"AnzFaelle\": 144}, {\"StichtagDatJahr\": \"2008-01-01T00:00:00\", \"AnzKinder\": \"3\", \"AnzKinderCd\": 3, \"AnzFaelle\": 24}, {\"StichtagDatJahr\": \"2008-01-01T00:00:00\", \"AnzKinder\": \"4\", \"AnzKinderCd\": 4, \"AnzFaelle\": 2}, {\"StichtagDatJahr\": \"2008-01-01T00:00:00\", \"AnzKinder\": \"5\", \"AnzKinderCd\": 5, \"AnzFaelle\": 1}, {\"StichtagDatJahr\": \"2008-01-01T00:00:00\", \"AnzKinder\": \"6\", \"AnzKinderCd\": 6, \"AnzFaelle\": 0}, {\"StichtagDatJahr\": \"2008-01-01T00:00:00\", \"AnzKinder\": \"Unbekannt\", \"AnzKinderCd\": 7, \"AnzFaelle\": 0}, {\"StichtagDatJahr\": \"2009-01-01T00:00:00\", \"AnzKinder\": \"keine\", \"AnzKinderCd\": 0, \"AnzFaelle\": 1371}, {\"StichtagDatJahr\": \"2009-01-01T00:00:00\", \"AnzKinder\": \"1\", \"AnzKinderCd\": 1, \"AnzFaelle\": 230}, {\"StichtagDatJahr\": \"2009-01-01T00:00:00\", \"AnzKinder\": \"2\", \"AnzKinderCd\": 2, \"AnzFaelle\": 158}, {\"StichtagDatJahr\": \"2009-01-01T00:00:00\", \"AnzKinder\": \"3\", \"AnzKinderCd\": 3, \"AnzFaelle\": 18}, {\"StichtagDatJahr\": \"2009-01-01T00:00:00\", \"AnzKinder\": \"4\", \"AnzKinderCd\": 4, \"AnzFaelle\": 3}, {\"StichtagDatJahr\": \"2009-01-01T00:00:00\", \"AnzKinder\": \"5\", \"AnzKinderCd\": 5, \"AnzFaelle\": 0}, {\"StichtagDatJahr\": \"2009-01-01T00:00:00\", \"AnzKinder\": \"6\", \"AnzKinderCd\": 6, \"AnzFaelle\": 0}, {\"StichtagDatJahr\": \"2009-01-01T00:00:00\", \"AnzKinder\": \"Unbekannt\", \"AnzKinderCd\": 7, \"AnzFaelle\": 0}, {\"StichtagDatJahr\": \"2010-01-01T00:00:00\", \"AnzKinder\": \"keine\", \"AnzKinderCd\": 0, \"AnzFaelle\": 1538}, {\"StichtagDatJahr\": \"2010-01-01T00:00:00\", \"AnzKinder\": \"1\", \"AnzKinderCd\": 1, \"AnzFaelle\": 264}, {\"StichtagDatJahr\": \"2010-01-01T00:00:00\", \"AnzKinder\": \"2\", \"AnzKinderCd\": 2, \"AnzFaelle\": 159}, {\"StichtagDatJahr\": \"2010-01-01T00:00:00\", \"AnzKinder\": \"3\", \"AnzKinderCd\": 3, \"AnzFaelle\": 27}, {\"StichtagDatJahr\": \"2010-01-01T00:00:00\", \"AnzKinder\": \"4\", \"AnzKinderCd\": 4, \"AnzFaelle\": 3}, {\"StichtagDatJahr\": \"2010-01-01T00:00:00\", \"AnzKinder\": \"5\", \"AnzKinderCd\": 5, \"AnzFaelle\": 0}, {\"StichtagDatJahr\": \"2010-01-01T00:00:00\", \"AnzKinder\": \"6\", \"AnzKinderCd\": 6, \"AnzFaelle\": 0}, {\"StichtagDatJahr\": \"2010-01-01T00:00:00\", \"AnzKinder\": \"Unbekannt\", \"AnzKinderCd\": 7, \"AnzFaelle\": 0}, {\"StichtagDatJahr\": \"2011-01-01T00:00:00\", \"AnzKinder\": \"keine\", \"AnzKinderCd\": 0, \"AnzFaelle\": 1174}, {\"StichtagDatJahr\": \"2011-01-01T00:00:00\", \"AnzKinder\": \"1\", \"AnzKinderCd\": 1, \"AnzFaelle\": 213}, {\"StichtagDatJahr\": \"2011-01-01T00:00:00\", \"AnzKinder\": \"2\", \"AnzKinderCd\": 2, \"AnzFaelle\": 126}, {\"StichtagDatJahr\": \"2011-01-01T00:00:00\", \"AnzKinder\": \"3\", \"AnzKinderCd\": 3, \"AnzFaelle\": 29}, {\"StichtagDatJahr\": \"2011-01-01T00:00:00\", \"AnzKinder\": \"4\", \"AnzKinderCd\": 4, \"AnzFaelle\": 2}, {\"StichtagDatJahr\": \"2011-01-01T00:00:00\", \"AnzKinder\": \"5\", \"AnzKinderCd\": 5, \"AnzFaelle\": 0}, {\"StichtagDatJahr\": \"2011-01-01T00:00:00\", \"AnzKinder\": \"6\", \"AnzKinderCd\": 6, \"AnzFaelle\": 0}, {\"StichtagDatJahr\": \"2011-01-01T00:00:00\", \"AnzKinder\": \"Unbekannt\", \"AnzKinderCd\": 7, \"AnzFaelle\": 0}, {\"StichtagDatJahr\": \"2012-01-01T00:00:00\", \"AnzKinder\": \"keine\", \"AnzKinderCd\": 0, \"AnzFaelle\": 1000}, {\"StichtagDatJahr\": \"2012-01-01T00:00:00\", \"AnzKinder\": \"1\", \"AnzKinderCd\": 1, \"AnzFaelle\": 223}, {\"StichtagDatJahr\": \"2012-01-01T00:00:00\", \"AnzKinder\": \"2\", \"AnzKinderCd\": 2, \"AnzFaelle\": 128}, {\"StichtagDatJahr\": \"2012-01-01T00:00:00\", \"AnzKinder\": \"3\", \"AnzKinderCd\": 3, \"AnzFaelle\": 17}, {\"StichtagDatJahr\": \"2012-01-01T00:00:00\", \"AnzKinder\": \"4\", \"AnzKinderCd\": 4, \"AnzFaelle\": 2}, {\"StichtagDatJahr\": \"2012-01-01T00:00:00\", \"AnzKinder\": \"5\", \"AnzKinderCd\": 5, \"AnzFaelle\": 3}, {\"StichtagDatJahr\": \"2012-01-01T00:00:00\", \"AnzKinder\": \"6\", \"AnzKinderCd\": 6, \"AnzFaelle\": 0}, {\"StichtagDatJahr\": \"2012-01-01T00:00:00\", \"AnzKinder\": \"Unbekannt\", \"AnzKinderCd\": 7, \"AnzFaelle\": 0}, {\"StichtagDatJahr\": \"2013-01-01T00:00:00\", \"AnzKinder\": \"keine\", \"AnzKinderCd\": 0, \"AnzFaelle\": 1105}, {\"StichtagDatJahr\": \"2013-01-01T00:00:00\", \"AnzKinder\": \"1\", \"AnzKinderCd\": 1, \"AnzFaelle\": 248}, {\"StichtagDatJahr\": \"2013-01-01T00:00:00\", \"AnzKinder\": \"2\", \"AnzKinderCd\": 2, \"AnzFaelle\": 124}, {\"StichtagDatJahr\": \"2013-01-01T00:00:00\", \"AnzKinder\": \"3\", \"AnzKinderCd\": 3, \"AnzFaelle\": 8}, {\"StichtagDatJahr\": \"2013-01-01T00:00:00\", \"AnzKinder\": \"4\", \"AnzKinderCd\": 4, \"AnzFaelle\": 3}, {\"StichtagDatJahr\": \"2013-01-01T00:00:00\", \"AnzKinder\": \"5\", \"AnzKinderCd\": 5, \"AnzFaelle\": 0}, {\"StichtagDatJahr\": \"2013-01-01T00:00:00\", \"AnzKinder\": \"6\", \"AnzKinderCd\": 6, \"AnzFaelle\": 0}, {\"StichtagDatJahr\": \"2013-01-01T00:00:00\", \"AnzKinder\": \"Unbekannt\", \"AnzKinderCd\": 7, \"AnzFaelle\": 0}, {\"StichtagDatJahr\": \"2014-01-01T00:00:00\", \"AnzKinder\": \"keine\", \"AnzKinderCd\": 0, \"AnzFaelle\": 961}, {\"StichtagDatJahr\": \"2014-01-01T00:00:00\", \"AnzKinder\": \"1\", \"AnzKinderCd\": 1, \"AnzFaelle\": 211}, {\"StichtagDatJahr\": \"2014-01-01T00:00:00\", \"AnzKinder\": \"2\", \"AnzKinderCd\": 2, \"AnzFaelle\": 136}, {\"StichtagDatJahr\": \"2014-01-01T00:00:00\", \"AnzKinder\": \"3\", \"AnzKinderCd\": 3, \"AnzFaelle\": 25}, {\"StichtagDatJahr\": \"2014-01-01T00:00:00\", \"AnzKinder\": \"4\", \"AnzKinderCd\": 4, \"AnzFaelle\": 1}, {\"StichtagDatJahr\": \"2014-01-01T00:00:00\", \"AnzKinder\": \"5\", \"AnzKinderCd\": 5, \"AnzFaelle\": 0}, {\"StichtagDatJahr\": \"2014-01-01T00:00:00\", \"AnzKinder\": \"6\", \"AnzKinderCd\": 6, \"AnzFaelle\": 0}, {\"StichtagDatJahr\": \"2014-01-01T00:00:00\", \"AnzKinder\": \"Unbekannt\", \"AnzKinderCd\": 7, \"AnzFaelle\": 0}, {\"StichtagDatJahr\": \"2015-01-01T00:00:00\", \"AnzKinder\": \"keine\", \"AnzKinderCd\": 0, \"AnzFaelle\": 936}, {\"StichtagDatJahr\": \"2015-01-01T00:00:00\", \"AnzKinder\": \"1\", \"AnzKinderCd\": 1, \"AnzFaelle\": 200}, {\"StichtagDatJahr\": \"2015-01-01T00:00:00\", \"AnzKinder\": \"2\", \"AnzKinderCd\": 2, \"AnzFaelle\": 134}, {\"StichtagDatJahr\": \"2015-01-01T00:00:00\", \"AnzKinder\": \"3\", \"AnzKinderCd\": 3, \"AnzFaelle\": 24}, {\"StichtagDatJahr\": \"2015-01-01T00:00:00\", \"AnzKinder\": \"4\", \"AnzKinderCd\": 4, \"AnzFaelle\": 1}, {\"StichtagDatJahr\": \"2015-01-01T00:00:00\", \"AnzKinder\": \"5\", \"AnzKinderCd\": 5, \"AnzFaelle\": 0}, {\"StichtagDatJahr\": \"2015-01-01T00:00:00\", \"AnzKinder\": \"6\", \"AnzKinderCd\": 6, \"AnzFaelle\": 2}, {\"StichtagDatJahr\": \"2015-01-01T00:00:00\", \"AnzKinder\": \"Unbekannt\", \"AnzKinderCd\": 7, \"AnzFaelle\": 0}, {\"StichtagDatJahr\": \"2016-01-01T00:00:00\", \"AnzKinder\": \"keine\", \"AnzKinderCd\": 0, \"AnzFaelle\": 879}, {\"StichtagDatJahr\": \"2016-01-01T00:00:00\", \"AnzKinder\": \"1\", \"AnzKinderCd\": 1, \"AnzFaelle\": 219}, {\"StichtagDatJahr\": \"2016-01-01T00:00:00\", \"AnzKinder\": \"2\", \"AnzKinderCd\": 2, \"AnzFaelle\": 144}, {\"StichtagDatJahr\": \"2016-01-01T00:00:00\", \"AnzKinder\": \"3\", \"AnzKinderCd\": 3, \"AnzFaelle\": 30}, {\"StichtagDatJahr\": \"2016-01-01T00:00:00\", \"AnzKinder\": \"4\", \"AnzKinderCd\": 4, \"AnzFaelle\": 4}, {\"StichtagDatJahr\": \"2016-01-01T00:00:00\", \"AnzKinder\": \"5\", \"AnzKinderCd\": 5, \"AnzFaelle\": 0}, {\"StichtagDatJahr\": \"2016-01-01T00:00:00\", \"AnzKinder\": \"6\", \"AnzKinderCd\": 6, \"AnzFaelle\": 0}, {\"StichtagDatJahr\": \"2016-01-01T00:00:00\", \"AnzKinder\": \"Unbekannt\", \"AnzKinderCd\": 7, \"AnzFaelle\": 0}, {\"StichtagDatJahr\": \"2017-01-01T00:00:00\", \"AnzKinder\": \"keine\", \"AnzKinderCd\": 0, \"AnzFaelle\": 881}, {\"StichtagDatJahr\": \"2017-01-01T00:00:00\", \"AnzKinder\": \"1\", \"AnzKinderCd\": 1, \"AnzFaelle\": 234}, {\"StichtagDatJahr\": \"2017-01-01T00:00:00\", \"AnzKinder\": \"2\", \"AnzKinderCd\": 2, \"AnzFaelle\": 109}, {\"StichtagDatJahr\": \"2017-01-01T00:00:00\", \"AnzKinder\": \"3\", \"AnzKinderCd\": 3, \"AnzFaelle\": 23}, {\"StichtagDatJahr\": \"2017-01-01T00:00:00\", \"AnzKinder\": \"4\", \"AnzKinderCd\": 4, \"AnzFaelle\": 3}, {\"StichtagDatJahr\": \"2017-01-01T00:00:00\", \"AnzKinder\": \"5\", \"AnzKinderCd\": 5, \"AnzFaelle\": 1}, {\"StichtagDatJahr\": \"2017-01-01T00:00:00\", \"AnzKinder\": \"6\", \"AnzKinderCd\": 6, \"AnzFaelle\": 0}, {\"StichtagDatJahr\": \"2017-01-01T00:00:00\", \"AnzKinder\": \"Unbekannt\", \"AnzKinderCd\": 7, \"AnzFaelle\": 0}, {\"StichtagDatJahr\": \"2018-01-01T00:00:00\", \"AnzKinder\": \"keine\", \"AnzKinderCd\": 0, \"AnzFaelle\": 880}, {\"StichtagDatJahr\": \"2018-01-01T00:00:00\", \"AnzKinder\": \"1\", \"AnzKinderCd\": 1, \"AnzFaelle\": 200}, {\"StichtagDatJahr\": \"2018-01-01T00:00:00\", \"AnzKinder\": \"2\", \"AnzKinderCd\": 2, \"AnzFaelle\": 131}, {\"StichtagDatJahr\": \"2018-01-01T00:00:00\", \"AnzKinder\": \"3\", \"AnzKinderCd\": 3, \"AnzFaelle\": 24}, {\"StichtagDatJahr\": \"2018-01-01T00:00:00\", \"AnzKinder\": \"4\", \"AnzKinderCd\": 4, \"AnzFaelle\": 6}, {\"StichtagDatJahr\": \"2018-01-01T00:00:00\", \"AnzKinder\": \"5\", \"AnzKinderCd\": 5, \"AnzFaelle\": 0}, {\"StichtagDatJahr\": \"2018-01-01T00:00:00\", \"AnzKinder\": \"6\", \"AnzKinderCd\": 6, \"AnzFaelle\": 0}, {\"StichtagDatJahr\": \"2018-01-01T00:00:00\", \"AnzKinder\": \"Unbekannt\", \"AnzKinderCd\": 7, \"AnzFaelle\": 0}, {\"StichtagDatJahr\": \"2019-01-01T00:00:00\", \"AnzKinder\": \"keine\", \"AnzKinderCd\": 0, \"AnzFaelle\": 874}, {\"StichtagDatJahr\": \"2019-01-01T00:00:00\", \"AnzKinder\": \"1\", \"AnzKinderCd\": 1, \"AnzFaelle\": 238}, {\"StichtagDatJahr\": \"2019-01-01T00:00:00\", \"AnzKinder\": \"2\", \"AnzKinderCd\": 2, \"AnzFaelle\": 166}, {\"StichtagDatJahr\": \"2019-01-01T00:00:00\", \"AnzKinder\": \"3\", \"AnzKinderCd\": 3, \"AnzFaelle\": 25}, {\"StichtagDatJahr\": \"2019-01-01T00:00:00\", \"AnzKinder\": \"4\", \"AnzKinderCd\": 4, \"AnzFaelle\": 1}, {\"StichtagDatJahr\": \"2019-01-01T00:00:00\", \"AnzKinder\": \"5\", \"AnzKinderCd\": 5, \"AnzFaelle\": 1}, {\"StichtagDatJahr\": \"2019-01-01T00:00:00\", \"AnzKinder\": \"6\", \"AnzKinderCd\": 6, \"AnzFaelle\": 0}, {\"StichtagDatJahr\": \"2019-01-01T00:00:00\", \"AnzKinder\": \"Unbekannt\", \"AnzKinderCd\": 7, \"AnzFaelle\": 0}, {\"StichtagDatJahr\": \"2020-01-01T00:00:00\", \"AnzKinder\": \"keine\", \"AnzKinderCd\": 0, \"AnzFaelle\": 772}, {\"StichtagDatJahr\": \"2020-01-01T00:00:00\", \"AnzKinder\": \"1\", \"AnzKinderCd\": 1, \"AnzFaelle\": 203}, {\"StichtagDatJahr\": \"2020-01-01T00:00:00\", \"AnzKinder\": \"2\", \"AnzKinderCd\": 2, \"AnzFaelle\": 153}, {\"StichtagDatJahr\": \"2020-01-01T00:00:00\", \"AnzKinder\": \"3\", \"AnzKinderCd\": 3, \"AnzFaelle\": 27}, {\"StichtagDatJahr\": \"2020-01-01T00:00:00\", \"AnzKinder\": \"4\", \"AnzKinderCd\": 4, \"AnzFaelle\": 2}, {\"StichtagDatJahr\": \"2020-01-01T00:00:00\", \"AnzKinder\": \"5\", \"AnzKinderCd\": 5, \"AnzFaelle\": 1}, {\"StichtagDatJahr\": \"2020-01-01T00:00:00\", \"AnzKinder\": \"6\", \"AnzKinderCd\": 6, \"AnzFaelle\": 0}, {\"StichtagDatJahr\": \"2020-01-01T00:00:00\", \"AnzKinder\": \"Unbekannt\", \"AnzKinderCd\": 7, \"AnzFaelle\": 0}]}}, {\"mode\": \"vega-lite\"});\n",
       "</script>"
      ],
      "text/plain": [
       "alt.Chart(...)"
      ]
     },
     "execution_count": 21,
     "metadata": {},
     "output_type": "execute_result"
    }
   ],
   "source": [
    "alt.Chart(data2betested).mark_circle(size=60).encode(\n",
    "    x='StichtagDatJahr',\n",
    "    y='AnzFaelle',\n",
    "    #color='AnzNat',\n",
    "    #color=alt.Color('AnzNat', scale=alt.Scale(scheme='greens')),\n",
    "    color=alt.Color('AnzKinder', scale=alt.Scale(scheme='dark2')),\n",
    "    tooltip=['StichtagDatJahr','AnzKinder','AnzFaelle']\n",
    ").interactive() # this makes the axes interactive: now you can zoom & pan\n",
    "\n",
    "\n"
   ]
  },
  {
   "cell_type": "markdown",
   "metadata": {},
   "source": [
    "**Sharepoint als gecheckt markieren!**"
   ]
  },
  {
   "cell_type": "markdown",
   "metadata": {},
   "source": [
    "Record auf Sharepoint: **[Link](http://kollaboration.intranet.stzh.ch/orga/ssz-produkte/Lists/SASA_Outputs/EditForm.aspx?ID=52&Source=%2Forga%2Fssz%2Dprodukte%2FLists%2FSASA%5FOutputs)**"
   ]
  },
  {
   "cell_type": "raw",
   "metadata": {},
   "source": []
  },
  {
   "cell_type": "code",
   "execution_count": null,
   "metadata": {},
   "outputs": [],
   "source": []
  }
 ],
 "metadata": {
  "kernelspec": {
   "display_name": "Python 3 (ipykernel)",
   "language": "python",
   "name": "python3"
  },
  "language_info": {
   "codemirror_mode": {
    "name": "ipython",
    "version": 3
   },
   "file_extension": ".py",
   "mimetype": "text/x-python",
   "name": "python",
   "nbconvert_exporter": "python",
   "pygments_lexer": "ipython3",
   "version": "3.9.7"
  }
 },
 "nbformat": 4,
 "nbformat_minor": 4
}
