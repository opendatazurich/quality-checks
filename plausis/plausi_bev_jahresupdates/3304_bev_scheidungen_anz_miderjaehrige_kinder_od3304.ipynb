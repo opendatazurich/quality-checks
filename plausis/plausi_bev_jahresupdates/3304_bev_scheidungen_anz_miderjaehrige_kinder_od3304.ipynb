{
 "cells": [
  {
   "cell_type": "markdown",
   "metadata": {},
   "source": [
    "# Testing\n",
    "### Ehescheidungen nach Zahl minderjähriger Kinder, seit 1993\n",
    "Datum: 02.11.2021"
   ]
  },
  {
   "cell_type": "markdown",
   "metadata": {},
   "source": [
    "**Dataset auf INTEG Datenkatalog**: https://data.integ.stadt-zuerich.ch/dataset/int_dwh_bev_scheidungen_anz_miderjaehrige_kinder_od3304\n",
    "\n",
    "**Dataset auf PROD Datenkatalog**: https://data.stadt-zuerich.ch/dataset/bev_scheidungen_anz_miderjaehrige_kinder_od3304\n",
    "\n",
    "(int_dwh)"
   ]
  },
  {
   "cell_type": "markdown",
   "metadata": {},
   "source": [
    "### Importiere die notwendigen Packages"
   ]
  },
  {
   "cell_type": "code",
   "execution_count": 18,
   "metadata": {},
   "outputs": [],
   "source": [
    "#%pip install geopandas altair fiona requests folium mplleaflet contextily seaborn datetime plotly leafmap"
   ]
  },
  {
   "cell_type": "code",
   "execution_count": 19,
   "metadata": {},
   "outputs": [],
   "source": [
    "import pandas as pd\n",
    "import pivottablejs\n",
    "from pivottablejs import pivot_ui\n",
    "import numpy as np\n",
    "import altair as alt\n",
    "import matplotlib.pyplot as plt\n",
    "\n",
    "import datetime\n",
    "import geopandas as gpd\n",
    "import folium \n",
    "import plotly.express as px\n",
    "import seaborn as sns\n",
    "import leafmap\n",
    "\n",
    "import requests\n",
    "import io\n"
   ]
  },
  {
   "cell_type": "code",
   "execution_count": 20,
   "metadata": {},
   "outputs": [],
   "source": [
    "SSL_VERIFY = False\n",
    "# evtl. SSL_VERIFY auf False setzen wenn die Verbindung zu https://www.gemeinderat-zuerich.ch nicht klappt (z.B. wegen Proxy)\n",
    "# Um die SSL Verifikation auszustellen, bitte die nächste Zeile einkommentieren (\"#\" entfernen)\n",
    "# SSL_VERIFY = False"
   ]
  },
  {
   "cell_type": "code",
   "execution_count": 21,
   "metadata": {},
   "outputs": [],
   "source": [
    "if not SSL_VERIFY:\n",
    "    import urllib3\n",
    "    urllib3.disable_warnings()"
   ]
  },
  {
   "cell_type": "markdown",
   "metadata": {},
   "source": [
    "Definiere Settings. Hier das Zahlenformat von Float-Werten (z.B. *'{:,.2f}'.format* mit Komma als Tausenderzeichen), "
   ]
  },
  {
   "cell_type": "code",
   "execution_count": 22,
   "metadata": {},
   "outputs": [],
   "source": [
    "#pd.options.display.float_format = lambda x : '{:,.1f}'.format(x) if (np.isnan(x) | np.isinf(x)) else '{:,.0f}'.format(x) if int(x) == x else '{:,.1f}'.format(x)\n",
    "pd.options.display.float_format = '{:.0f}'.format\n",
    "pd.set_option('display.width', 100)\n",
    "pd.set_option('display.max_columns', 15)"
   ]
  },
  {
   "cell_type": "markdown",
   "metadata": {},
   "source": [
    "### Zeitvariabeln\n",
    "Bestimme den aktuellst geladenen Monat. Hier ist es der Stand vor 2 Monaten. \n",
    "Bestimme noch weitere evt. sinnvolle Zeitvariabeln.\n",
    "\n",
    "Zum Unterschied zwischen import datetime und from datedtime import datetime, siehe https://stackoverflow.com/questions/15707532/import-datetime-v-s-from-datetime-import-datetime\n",
    "\n",
    "Zuerst die Zeitvariabeln als Strings"
   ]
  },
  {
   "cell_type": "code",
   "execution_count": 23,
   "metadata": {},
   "outputs": [],
   "source": [
    "#today_date = datetime.date.today()\n",
    "#date_time = datetime.datetime.strptime(date_time_string, '%Y-%m-%d %H:%M')\n",
    "now = datetime.date.today()\n",
    "date_today = now.strftime(\"%Y-%m-%d\")\n",
    "year_today = now.strftime(\"%Y\")\n",
    "month_today = now.strftime(\"%m\")\n",
    "day_today = now.strftime(\"%d\")\n"
   ]
  },
  {
   "cell_type": "markdown",
   "metadata": {},
   "source": [
    "Und hier noch die Zeitvariabeln als Integers:\n",
    "- `aktuellesJahr`\n",
    "- `aktuellerMonat`: Der gerade jetzt aktuelle Monat\n",
    "- `selectedMonat`: Der aktuellste Monat in den Daten. In der Regel zwei Monate her."
   ]
  },
  {
   "cell_type": "code",
   "execution_count": 24,
   "metadata": {},
   "outputs": [
    {
     "name": "stdout",
     "output_type": "stream",
     "text": [
      "2022 11 datenstand:  9 time.struct_time(tm_year=2022, tm_mon=11, tm_mday=3, tm_hour=0, tm_min=0, tm_sec=0, tm_wday=3, tm_yday=307, tm_isdst=-1)\n"
     ]
    }
   ],
   "source": [
    "#now = datetime.now() \n",
    "int_times = now.timetuple()\n",
    "\n",
    "aktuellesJahr = int_times[0]\n",
    "aktuellerMonat = int_times[1]\n",
    "selectedMonat = int_times[1]-2\n",
    "\n",
    "print(aktuellesJahr, \n",
    "      aktuellerMonat,\n",
    "    'datenstand: ', selectedMonat,\n",
    "     int_times)\n"
   ]
  },
  {
   "cell_type": "markdown",
   "metadata": {},
   "source": [
    "Berechne die Variable Epoche um später das SAS-Datum in ein Unix-Datum umzuwandeln. Bei SAS beginnt die Epoche am 1.1.1960. Bei Unix am 1.1.1970.\n",
    "Diese Variable wird beim CSV-Import benötigt."
   ]
  },
  {
   "cell_type": "code",
   "execution_count": 25,
   "metadata": {},
   "outputs": [],
   "source": [
    "epoch = datetime.datetime(1960, 1, 1)"
   ]
  },
  {
   "cell_type": "markdown",
   "metadata": {},
   "source": [
    "### Setze einige Pfadvariabeln"
   ]
  },
  {
   "cell_type": "markdown",
   "metadata": {
    "tags": []
   },
   "source": [
    "- Der Packagename ist eigentlich der **Verzeichnisname** unter dem die Daten und Metadaten auf der Dropzone abgelegt werden.\n",
    "- Definiert wird er bei SASA-Prozessen auf dem **Produkte-Sharepoint ([Link](https://kollaboration.intranet.stzh.ch/orga/ssz-produkte/Lists/SASA_Outputs/PersonalViews.aspx?PageView=Personal&ShowWebPart={6087A3E7-8AC8-40BA-8278-DECFACE124FF}))**.\n",
    "- Der Packagename wird auf CKAN teil der URL, daher ist die exakte Schreibweise wichtig.\n",
    "\n",
    "Beachte: im Packagename müssen alle Buchstaben **klein** geschrieben werden. Dies weil CKAN aus grossen kleine Buchstaben macht."
   ]
  },
  {
   "cell_type": "markdown",
   "metadata": {},
   "source": [
    "**BITTE HIER ANPASSEN**"
   ]
  },
  {
   "cell_type": "code",
   "execution_count": 26,
   "metadata": {},
   "outputs": [],
   "source": [
    "package_name = \"bev_scheidungen_anz_miderjaehrige_kinder_od3304\""
   ]
  },
  {
   "cell_type": "code",
   "execution_count": 27,
   "metadata": {
    "tags": []
   },
   "outputs": [],
   "source": [
    "dataset_name = \"BEV330OD3304.csv\""
   ]
  },
  {
   "cell_type": "markdown",
   "metadata": {},
   "source": [
    "**Statische Pfade in DWH-Dropzones**"
   ]
  },
  {
   "cell_type": "code",
   "execution_count": 28,
   "metadata": {},
   "outputs": [],
   "source": [
    "dropzone_path_integ = r\"\\\\szh\\ssz\\applikationen\\OGD_Dropzone\\INT_DWH\""
   ]
  },
  {
   "cell_type": "code",
   "execution_count": 29,
   "metadata": {
    "tags": []
   },
   "outputs": [],
   "source": [
    "dropzone_path_prod = r\"\\\\szh\\ssz\\applikationen\\OGD_Dropzone\\DWH\""
   ]
  },
  {
   "cell_type": "markdown",
   "metadata": {},
   "source": [
    "**Statische Pfade CKAN-URLs**"
   ]
  },
  {
   "cell_type": "code",
   "execution_count": 30,
   "metadata": {
    "tags": []
   },
   "outputs": [],
   "source": [
    "ckan_integ_url =\"https://data.integ.stadt-zuerich.ch/dataset/int_dwh_\""
   ]
  },
  {
   "cell_type": "code",
   "execution_count": 31,
   "metadata": {},
   "outputs": [],
   "source": [
    "ckan_prod_url =\"https://data.stadt-zuerich.ch/dataset/\""
   ]
  },
  {
   "cell_type": "markdown",
   "metadata": {},
   "source": [
    "### Checke die Metadaten auf der CKAN INTEG- oder PROD-Webseite\n",
    "\n",
    "Offenbar lassen sich aktuell im Markdownteil keine Variabeln ausführen, daher gehen wir wie unten gezeigt vor. Siehe dazu: https://data-dive.com/jupyterlab-markdown-cells-include-variables\n",
    "Instead of setting the cell to Markdown, create Markdown from withnin a code cell! We can just use python variable replacement syntax to make the text dynamic"
   ]
  },
  {
   "cell_type": "code",
   "execution_count": 32,
   "metadata": {},
   "outputs": [],
   "source": [
    "from IPython.display import Markdown as md"
   ]
  },
  {
   "cell_type": "code",
   "execution_count": 33,
   "metadata": {},
   "outputs": [
    {
     "data": {
      "text/markdown": [
       " **1. Dataset auf INTEG-Datakatalog:** Link https://data.integ.stadt-zuerich.ch/dataset/int_dwh_bev_scheidungen_anz_miderjaehrige_kinder_od3304 "
      ],
      "text/plain": [
       "<IPython.core.display.Markdown object>"
      ]
     },
     "execution_count": 33,
     "metadata": {},
     "output_type": "execute_result"
    }
   ],
   "source": [
    "md(\" **1. Dataset auf INTEG-Datakatalog:** Link {} \".format(ckan_integ_url+package_name))"
   ]
  },
  {
   "cell_type": "code",
   "execution_count": 34,
   "metadata": {
    "tags": []
   },
   "outputs": [
    {
     "data": {
      "text/markdown": [
       " **2. Dataset auf PROD-Datakatalog:** Link https://data.stadt-zuerich.ch/dataset/bev_scheidungen_anz_miderjaehrige_kinder_od3304 "
      ],
      "text/plain": [
       "<IPython.core.display.Markdown object>"
      ]
     },
     "execution_count": 34,
     "metadata": {},
     "output_type": "execute_result"
    }
   ],
   "source": [
    "md(\" **2. Dataset auf PROD-Datakatalog:** Link {} \".format(ckan_prod_url+package_name))"
   ]
  },
  {
   "cell_type": "markdown",
   "metadata": {
    "tags": []
   },
   "source": [
    "### Importiere einen Datensatz \n",
    "\n",
    "Definiere zuerst folgende Werte:\n",
    "1) Kommt der Datensatz von PROD oder INTEG?\n",
    "2) Beziehst Du den Datensatz direkt ab der DROPZONE oder aus dem INTERNET?"
   ]
  },
  {
   "cell_type": "code",
   "execution_count": 35,
   "metadata": {},
   "outputs": [
    {
     "name": "stdout",
     "output_type": "stream",
     "text": [
      "integ - web\n"
     ]
    }
   ],
   "source": [
    "#Die Datasets sind nur zum Testen auf INT-DWH-Dropzone. Wenn der Test vorbei ist, sind sie auf PROD. \n",
    "# Über den Status kann man einfach switchen\n",
    "\n",
    "status = \"integ\"; #prod vs something else\n",
    "data_source = \"web\"; #dropzone vs something else\n",
    "print(status+\" - \"+ data_source)"
   ]
  },
  {
   "cell_type": "code",
   "execution_count": 36,
   "metadata": {
    "tags": []
   },
   "outputs": [
    {
     "name": "stdout",
     "output_type": "stream",
     "text": [
      "fp lautet:https://data.integ.stadt-zuerich.ch/dataset/int_dwh_bev_scheidungen_anz_miderjaehrige_kinder_od3304/download/BEV330OD3304.csv\n"
     ]
    }
   ],
   "source": [
    "# Filepath\n",
    "if status == \"prod\":\n",
    "    if data_source == \"dropzone\":\n",
    "            fp = dropzone_path_prod+\"\\\\\"+ package_name +\"\\\\\"+dataset_name\n",
    "            print(\"fp lautet:\"+fp)\n",
    "    else:\n",
    "        #fp = r\"https://data.stadt-zuerich.ch/dataset/bau_neubau_whg_bausm_rinh_geb_projstatus_quartier_seit2009_od5011/download/BAU501OD5011.csv\"\n",
    "        fp = ckan_prod_url+package_name+'/download/'+dataset_name\n",
    "        print(\"fp lautet:\"+fp)\n",
    "else:\n",
    "    if data_source == \"dropzone\":\n",
    "        fp = dropzone_path_integ+\"\\\\\"+ package_name +\"\\\\\"+dataset_name\n",
    "        print(\"fp lautet:\"+fp)\n",
    "    else:\n",
    "        #fp = r\"https://data.stadt-zuerich.ch/dataset/bau_neubau_whg_bausm_rinh_geb_projstatus_quartier_seit2009_od5011/download/BAU501OD5011.csv\"\n",
    "        fp = ckan_integ_url+package_name+'/download/'+dataset_name\n",
    "        print(\"fp lautet:\"+fp)\n"
   ]
  },
  {
   "cell_type": "markdown",
   "metadata": {},
   "source": [
    "Beachte, wie das SAS Datum (ohne Format) in ein UNIX Datum umgerechnet und als Datumsformat dargestellt wird! Siehe dazu `https://stackoverflow.com/questions/26923564/convert-sas-numeric-to-python-datetime`"
   ]
  },
  {
   "cell_type": "code",
   "execution_count": 37,
   "metadata": {},
   "outputs": [
    {
     "name": "stdout",
     "output_type": "stream",
     "text": [
      "web\n"
     ]
    },
    {
     "data": {
      "text/plain": [
       "StichtagDatJahr    datetime64[ns]\n",
       "AnzKinder                  object\n",
       "AnzKinderCd                 int64\n",
       "AnzFaelle                   int64\n",
       "dtype: object"
      ]
     },
     "execution_count": 37,
     "metadata": {},
     "output_type": "execute_result"
    }
   ],
   "source": [
    "# Read the data\n",
    "if data_source == \"dropzone\":\n",
    "    data2betested = pd.read_csv(\n",
    "        fp\n",
    "        , sep=','\n",
    "        ,parse_dates=['StichtagDatJahr']\n",
    "        ,low_memory=False\n",
    "    )\n",
    "    print(\"dropzone\")\n",
    "else:\n",
    "    r = requests.get(fp, verify=False)  \n",
    "    r.encoding = 'utf-8'\n",
    "    data2betested = pd.read_csv(\n",
    "        io.StringIO(r.text)\n",
    "        ,parse_dates=['StichtagDatJahr']\n",
    "        # KONVERTIERE DAS SAS DATUM IN EIN UNIXDATUM UND FORMATIERE ES\n",
    "        #, date_parser=lambda s: epoch + datetime.timedelta(days=int(s))\n",
    "        ,low_memory=False)\n",
    "    print(\"web\")\n",
    "\n",
    "data2betested.dtypes"
   ]
  },
  {
   "cell_type": "markdown",
   "metadata": {},
   "source": [
    "Berechne weitere Attribute falls notwendig"
   ]
  },
  {
   "cell_type": "code",
   "execution_count": 38,
   "metadata": {},
   "outputs": [
    {
     "data": {
      "text/plain": [
       "StichtagDatJahr        datetime64[ns]\n",
       "AnzKinder                      object\n",
       "AnzKinderCd                     int64\n",
       "AnzFaelle                       int64\n",
       "StichtagDatJahr_str            object\n",
       "dtype: object"
      ]
     },
     "execution_count": 38,
     "metadata": {},
     "output_type": "execute_result"
    }
   ],
   "source": [
    "data2betested = (\n",
    "    data2betested\n",
    "    .copy()\n",
    "    .assign(\n",
    "        #Aktualisierungs_Datum_str= lambda x: x.Aktualisierungs_Datum.astype(str),\n",
    "        StichtagDatJahr_str = lambda x: x.StichtagDatJahr.astype(str),\n",
    "    )\n",
    "    .sort_values('StichtagDatJahr', ascending=False)\n",
    "    )\n",
    "data2betested.dtypes"
   ]
  },
  {
   "cell_type": "markdown",
   "metadata": {},
   "source": [
    "### Einfache Datentests"
   ]
  },
  {
   "cell_type": "markdown",
   "metadata": {},
   "source": [
    " - 1) Zeige eine kurze Vorschau der importierten Daten\n",
    " - 2) Weise die Datentypen aus\n",
    " - 3) Zeige die Shape (Umfang) des Datensatzes an"
   ]
  },
  {
   "cell_type": "code",
   "execution_count": 39,
   "metadata": {},
   "outputs": [],
   "source": [
    "#data2betested.head(6)"
   ]
  },
  {
   "cell_type": "code",
   "execution_count": 40,
   "metadata": {},
   "outputs": [
    {
     "data": {
      "text/plain": [
       "StichtagDatJahr        datetime64[ns]\n",
       "AnzKinder                      object\n",
       "AnzKinderCd                     int64\n",
       "AnzFaelle                       int64\n",
       "StichtagDatJahr_str            object\n",
       "dtype: object"
      ]
     },
     "execution_count": 40,
     "metadata": {},
     "output_type": "execute_result"
    }
   ],
   "source": [
    "data2betested.dtypes"
   ]
  },
  {
   "cell_type": "code",
   "execution_count": 41,
   "metadata": {},
   "outputs": [
    {
     "data": {
      "text/plain": [
       "(232, 5)"
      ]
     },
     "execution_count": 41,
     "metadata": {},
     "output_type": "execute_result"
    }
   ],
   "source": [
    "data2betested.shape"
   ]
  },
  {
   "cell_type": "markdown",
   "metadata": {},
   "source": [
    "Beschreibe einzelne Attribute"
   ]
  },
  {
   "cell_type": "code",
   "execution_count": 42,
   "metadata": {},
   "outputs": [
    {
     "data": {
      "text/html": [
       "<div>\n",
       "<style scoped>\n",
       "    .dataframe tbody tr th:only-of-type {\n",
       "        vertical-align: middle;\n",
       "    }\n",
       "\n",
       "    .dataframe tbody tr th {\n",
       "        vertical-align: top;\n",
       "    }\n",
       "\n",
       "    .dataframe thead th {\n",
       "        text-align: right;\n",
       "    }\n",
       "</style>\n",
       "<table border=\"1\" class=\"dataframe\">\n",
       "  <thead>\n",
       "    <tr style=\"text-align: right;\">\n",
       "      <th></th>\n",
       "      <th>AnzKinderCd</th>\n",
       "      <th>AnzFaelle</th>\n",
       "    </tr>\n",
       "  </thead>\n",
       "  <tbody>\n",
       "    <tr>\n",
       "      <th>count</th>\n",
       "      <td>232</td>\n",
       "      <td>232</td>\n",
       "    </tr>\n",
       "    <tr>\n",
       "      <th>mean</th>\n",
       "      <td>4</td>\n",
       "      <td>185</td>\n",
       "    </tr>\n",
       "    <tr>\n",
       "      <th>std</th>\n",
       "      <td>2</td>\n",
       "      <td>345</td>\n",
       "    </tr>\n",
       "    <tr>\n",
       "      <th>min</th>\n",
       "      <td>0</td>\n",
       "      <td>0</td>\n",
       "    </tr>\n",
       "    <tr>\n",
       "      <th>25%</th>\n",
       "      <td>2</td>\n",
       "      <td>0</td>\n",
       "    </tr>\n",
       "    <tr>\n",
       "      <th>50%</th>\n",
       "      <td>4</td>\n",
       "      <td>10</td>\n",
       "    </tr>\n",
       "    <tr>\n",
       "      <th>75%</th>\n",
       "      <td>5</td>\n",
       "      <td>203</td>\n",
       "    </tr>\n",
       "    <tr>\n",
       "      <th>max</th>\n",
       "      <td>7</td>\n",
       "      <td>1538</td>\n",
       "    </tr>\n",
       "  </tbody>\n",
       "</table>\n",
       "</div>"
      ],
      "text/plain": [
       "       AnzKinderCd  AnzFaelle\n",
       "count          232        232\n",
       "mean             4        185\n",
       "std              2        345\n",
       "min              0          0\n",
       "25%              2          0\n",
       "50%              4         10\n",
       "75%              5        203\n",
       "max              7       1538"
      ]
     },
     "execution_count": 42,
     "metadata": {},
     "output_type": "execute_result"
    }
   ],
   "source": [
    "data2betested.describe()"
   ]
  },
  {
   "cell_type": "markdown",
   "metadata": {},
   "source": [
    "Wie viele Nullwerte gibt es im Datensatz?"
   ]
  },
  {
   "cell_type": "code",
   "execution_count": 43,
   "metadata": {
    "scrolled": true
   },
   "outputs": [
    {
     "data": {
      "text/plain": [
       "StichtagDatJahr        0\n",
       "AnzKinder              0\n",
       "AnzKinderCd            0\n",
       "AnzFaelle              0\n",
       "StichtagDatJahr_str    0\n",
       "dtype: int64"
      ]
     },
     "execution_count": 43,
     "metadata": {},
     "output_type": "execute_result"
    }
   ],
   "source": [
    "data2betested.isnull().sum()"
   ]
  },
  {
   "cell_type": "markdown",
   "metadata": {},
   "source": [
    "Welches sind die Quartiere ohne Werte bei AnzBestWir?"
   ]
  },
  {
   "cell_type": "code",
   "execution_count": 45,
   "metadata": {},
   "outputs": [],
   "source": [
    "#data2betested[np.isnan(data2betested.AnzKinder)]"
   ]
  },
  {
   "cell_type": "markdown",
   "metadata": {
    "colab_type": "text",
    "id": "1dTPVmmsgOVx"
   },
   "source": [
    "### Verwende das Datum als Index\n",
    "\n",
    "While we did already parse the `datetime` column into the respective datetime type, it currently is just a regular column. \n",
    "**To enable quick and convenient queries and aggregations, we need to turn it into the index of the DataFrame**"
   ]
  },
  {
   "cell_type": "code",
   "execution_count": 46,
   "metadata": {},
   "outputs": [],
   "source": [
    "data2betested = data2betested.set_index(\"StichtagDatJahr\")"
   ]
  },
  {
   "cell_type": "code",
   "execution_count": 47,
   "metadata": {},
   "outputs": [
    {
     "name": "stdout",
     "output_type": "stream",
     "text": [
      "<class 'pandas.core.frame.DataFrame'>\n",
      "DatetimeIndex: 232 entries, 2021-01-01 to 1993-01-01\n",
      "Data columns (total 4 columns):\n",
      " #   Column               Non-Null Count  Dtype \n",
      "---  ------               --------------  ----- \n",
      " 0   AnzKinder            232 non-null    object\n",
      " 1   AnzKinderCd          232 non-null    int64 \n",
      " 2   AnzFaelle            232 non-null    int64 \n",
      " 3   StichtagDatJahr_str  232 non-null    object\n",
      "dtypes: int64(2), object(2)\n",
      "memory usage: 9.1+ KB\n"
     ]
    },
    {
     "data": {
      "text/plain": [
       "Int64Index([1], dtype='int64', name='StichtagDatJahr')"
      ]
     },
     "execution_count": 47,
     "metadata": {},
     "output_type": "execute_result"
    }
   ],
   "source": [
    "data2betested.info()\n",
    "data2betested.index.day.unique()"
   ]
  },
  {
   "cell_type": "markdown",
   "metadata": {},
   "source": [
    "### Einfache Visualisierungen zur Plausi"
   ]
  },
  {
   "cell_type": "markdown",
   "metadata": {},
   "source": [
    "Exploriere die Daten mit Pivottable.JS"
   ]
  },
  {
   "cell_type": "code",
   "execution_count": 48,
   "metadata": {},
   "outputs": [
    {
     "data": {
      "text/html": [
       "\n",
       "        <iframe\n",
       "            width=\"100%\"\n",
       "            height=\"500\"\n",
       "            src=\"pivottablejs.html\"\n",
       "            frameborder=\"0\"\n",
       "            allowfullscreen\n",
       "            \n",
       "        ></iframe>\n",
       "        "
      ],
      "text/plain": [
       "<IPython.lib.display.IFrame at 0x20dd85d8348>"
      ]
     },
     "execution_count": 48,
     "metadata": {},
     "output_type": "execute_result"
    }
   ],
   "source": [
    "from pivottablejs import pivot_ui\n",
    "\n",
    "pivot_ui(data2betested)"
   ]
  },
  {
   "cell_type": "markdown",
   "metadata": {},
   "source": [
    "### Zeitpunkte und Zeiträume abfragen\n",
    "\n",
    "A particular powerful feature of the Pandas DataFrame is its indexing capability that also works using time-based entities, such as dates and times. We have already created the index above, so let's put it to use."
   ]
  },
  {
   "cell_type": "code",
   "execution_count": 49,
   "metadata": {},
   "outputs": [
    {
     "data": {
      "text/html": [
       "<div>\n",
       "<style scoped>\n",
       "    .dataframe tbody tr th:only-of-type {\n",
       "        vertical-align: middle;\n",
       "    }\n",
       "\n",
       "    .dataframe tbody tr th {\n",
       "        vertical-align: top;\n",
       "    }\n",
       "\n",
       "    .dataframe thead th {\n",
       "        text-align: right;\n",
       "    }\n",
       "</style>\n",
       "<table border=\"1\" class=\"dataframe\">\n",
       "  <thead>\n",
       "    <tr style=\"text-align: right;\">\n",
       "      <th></th>\n",
       "      <th>AnzKinder</th>\n",
       "      <th>AnzKinderCd</th>\n",
       "      <th>AnzFaelle</th>\n",
       "      <th>StichtagDatJahr_str</th>\n",
       "    </tr>\n",
       "    <tr>\n",
       "      <th>StichtagDatJahr</th>\n",
       "      <th></th>\n",
       "      <th></th>\n",
       "      <th></th>\n",
       "      <th></th>\n",
       "    </tr>\n",
       "  </thead>\n",
       "  <tbody>\n",
       "    <tr>\n",
       "      <th>2021-01-01</th>\n",
       "      <td>Unbekannt</td>\n",
       "      <td>7</td>\n",
       "      <td>0</td>\n",
       "      <td>2021-01-01</td>\n",
       "    </tr>\n",
       "    <tr>\n",
       "      <th>2021-01-01</th>\n",
       "      <td>6</td>\n",
       "      <td>6</td>\n",
       "      <td>1</td>\n",
       "      <td>2021-01-01</td>\n",
       "    </tr>\n",
       "  </tbody>\n",
       "</table>\n",
       "</div>"
      ],
      "text/plain": [
       "                 AnzKinder  AnzKinderCd  AnzFaelle StichtagDatJahr_str\n",
       "StichtagDatJahr                                                       \n",
       "2021-01-01       Unbekannt            7          0          2021-01-01\n",
       "2021-01-01               6            6          1          2021-01-01"
      ]
     },
     "execution_count": 49,
     "metadata": {},
     "output_type": "execute_result"
    }
   ],
   "source": [
    "data2betested.loc[\"2021\"].head(2)\n",
    "#data2betested.loc[\"2021-10-31\":\"2021-11-30\"].head(2)"
   ]
  },
  {
   "cell_type": "markdown",
   "metadata": {},
   "source": [
    "### Visualisierungen nach Zeitausschnitten"
   ]
  },
  {
   "cell_type": "code",
   "execution_count": 50,
   "metadata": {},
   "outputs": [
    {
     "data": {
      "text/html": [
       "<div>\n",
       "<style scoped>\n",
       "    .dataframe tbody tr th:only-of-type {\n",
       "        vertical-align: middle;\n",
       "    }\n",
       "\n",
       "    .dataframe tbody tr th {\n",
       "        vertical-align: top;\n",
       "    }\n",
       "\n",
       "    .dataframe thead th {\n",
       "        text-align: right;\n",
       "    }\n",
       "</style>\n",
       "<table border=\"1\" class=\"dataframe\">\n",
       "  <thead>\n",
       "    <tr style=\"text-align: right;\">\n",
       "      <th></th>\n",
       "      <th>AnzKinder</th>\n",
       "      <th>AnzKinderCd</th>\n",
       "      <th>AnzFaelle</th>\n",
       "      <th>StichtagDatJahr_str</th>\n",
       "    </tr>\n",
       "    <tr>\n",
       "      <th>StichtagDatJahr</th>\n",
       "      <th></th>\n",
       "      <th></th>\n",
       "      <th></th>\n",
       "      <th></th>\n",
       "    </tr>\n",
       "  </thead>\n",
       "  <tbody>\n",
       "    <tr>\n",
       "      <th>2021-01-01</th>\n",
       "      <td>Unbekannt</td>\n",
       "      <td>7</td>\n",
       "      <td>0</td>\n",
       "      <td>2021-01-01</td>\n",
       "    </tr>\n",
       "    <tr>\n",
       "      <th>2021-01-01</th>\n",
       "      <td>6</td>\n",
       "      <td>6</td>\n",
       "      <td>1</td>\n",
       "      <td>2021-01-01</td>\n",
       "    </tr>\n",
       "  </tbody>\n",
       "</table>\n",
       "</div>"
      ],
      "text/plain": [
       "                 AnzKinder  AnzKinderCd  AnzFaelle StichtagDatJahr_str\n",
       "StichtagDatJahr                                                       \n",
       "2021-01-01       Unbekannt            7          0          2021-01-01\n",
       "2021-01-01               6            6          1          2021-01-01"
      ]
     },
     "execution_count": 50,
     "metadata": {},
     "output_type": "execute_result"
    }
   ],
   "source": [
    "data2betested.head(2)"
   ]
  },
  {
   "cell_type": "code",
   "execution_count": 58,
   "metadata": {},
   "outputs": [
    {
     "data": {
      "text/html": [
       "\n",
       "<div id=\"altair-viz-c7140064e6b94b0dbfbb3758a077bfe5\"></div>\n",
       "<script type=\"text/javascript\">\n",
       "  (function(spec, embedOpt){\n",
       "    let outputDiv = document.currentScript.previousElementSibling;\n",
       "    if (outputDiv.id !== \"altair-viz-c7140064e6b94b0dbfbb3758a077bfe5\") {\n",
       "      outputDiv = document.getElementById(\"altair-viz-c7140064e6b94b0dbfbb3758a077bfe5\");\n",
       "    }\n",
       "    const paths = {\n",
       "      \"vega\": \"https://cdn.jsdelivr.net/npm//vega@5?noext\",\n",
       "      \"vega-lib\": \"https://cdn.jsdelivr.net/npm//vega-lib?noext\",\n",
       "      \"vega-lite\": \"https://cdn.jsdelivr.net/npm//vega-lite@4.8.1?noext\",\n",
       "      \"vega-embed\": \"https://cdn.jsdelivr.net/npm//vega-embed@6?noext\",\n",
       "    };\n",
       "\n",
       "    function loadScript(lib) {\n",
       "      return new Promise(function(resolve, reject) {\n",
       "        var s = document.createElement('script');\n",
       "        s.src = paths[lib];\n",
       "        s.async = true;\n",
       "        s.onload = () => resolve(paths[lib]);\n",
       "        s.onerror = () => reject(`Error loading script: ${paths[lib]}`);\n",
       "        document.getElementsByTagName(\"head\")[0].appendChild(s);\n",
       "      });\n",
       "    }\n",
       "\n",
       "    function showError(err) {\n",
       "      outputDiv.innerHTML = `<div class=\"error\" style=\"color:red;\">${err}</div>`;\n",
       "      throw err;\n",
       "    }\n",
       "\n",
       "    function displayChart(vegaEmbed) {\n",
       "      vegaEmbed(outputDiv, spec, embedOpt)\n",
       "        .catch(err => showError(`Javascript Error: ${err.message}<br>This usually means there's a typo in your chart specification. See the javascript console for the full traceback.`));\n",
       "    }\n",
       "\n",
       "    if(typeof define === \"function\" && define.amd) {\n",
       "      requirejs.config({paths});\n",
       "      require([\"vega-embed\"], displayChart, err => showError(`Error loading script: ${err.message}`));\n",
       "    } else if (typeof vegaEmbed === \"function\") {\n",
       "      displayChart(vegaEmbed);\n",
       "    } else {\n",
       "      loadScript(\"vega\")\n",
       "        .then(() => loadScript(\"vega-lite\"))\n",
       "        .then(() => loadScript(\"vega-embed\"))\n",
       "        .catch(showError)\n",
       "        .then(() => displayChart(vegaEmbed));\n",
       "    }\n",
       "  })({\"config\": {\"view\": {\"continuousWidth\": 400, \"continuousHeight\": 300}}, \"layer\": [{\"mark\": \"circle\", \"encoding\": {\"color\": {\"type\": \"nominal\", \"field\": \"AnzKinder\"}, \"opacity\": {\"value\": 2}, \"tooltip\": [{\"type\": \"temporal\", \"field\": \"StichtagDatJahr\"}, {\"type\": \"nominal\", \"field\": \"AnzKinder\"}, {\"type\": \"quantitative\", \"field\": \"AnzFaelle\"}], \"x\": {\"type\": \"temporal\", \"field\": \"StichtagDatJahr\"}, \"y\": {\"type\": \"quantitative\", \"field\": \"AnzFaelle\"}}, \"height\": 300, \"selection\": {\"selector011\": {\"type\": \"single\", \"on\": \"mouseover\", \"fields\": [\"AnzKinder\"], \"nearest\": true}}, \"width\": 700}, {\"mark\": \"line\", \"encoding\": {\"color\": {\"type\": \"nominal\", \"field\": \"AnzKinder\"}, \"size\": {\"condition\": {\"value\": 1.5, \"selection\": {\"not\": \"selector011\"}}, \"value\": 4}, \"tooltip\": [{\"type\": \"temporal\", \"field\": \"StichtagDatJahr\"}, {\"type\": \"nominal\", \"field\": \"AnzKinder\"}, {\"type\": \"quantitative\", \"field\": \"AnzFaelle\"}], \"x\": {\"type\": \"temporal\", \"field\": \"StichtagDatJahr\"}, \"y\": {\"type\": \"quantitative\", \"field\": \"AnzFaelle\"}}, \"selection\": {\"selector012\": {\"type\": \"interval\", \"bind\": \"scales\", \"encodings\": [\"x\", \"y\"]}}}], \"data\": {\"name\": \"data-0785b6ba17c1cf58e06a6c968c4ae6f2\"}, \"$schema\": \"https://vega.github.io/schema/vega-lite/v4.8.1.json\", \"datasets\": {\"data-0785b6ba17c1cf58e06a6c968c4ae6f2\": [{\"StichtagDatJahr\": \"2021-01-01T00:00:00\", \"AnzKinder\": \"6\", \"AnzKinderCd\": 6, \"AnzFaelle\": 1, \"StichtagDatJahr_str\": \"2021-01-01\"}, {\"StichtagDatJahr\": \"2021-01-01T00:00:00\", \"AnzKinder\": \"5\", \"AnzKinderCd\": 5, \"AnzFaelle\": 1, \"StichtagDatJahr_str\": \"2021-01-01\"}, {\"StichtagDatJahr\": \"2021-01-01T00:00:00\", \"AnzKinder\": \"4\", \"AnzKinderCd\": 4, \"AnzFaelle\": 4, \"StichtagDatJahr_str\": \"2021-01-01\"}, {\"StichtagDatJahr\": \"2021-01-01T00:00:00\", \"AnzKinder\": \"3\", \"AnzKinderCd\": 3, \"AnzFaelle\": 24, \"StichtagDatJahr_str\": \"2021-01-01\"}, {\"StichtagDatJahr\": \"2021-01-01T00:00:00\", \"AnzKinder\": \"2\", \"AnzKinderCd\": 2, \"AnzFaelle\": 172, \"StichtagDatJahr_str\": \"2021-01-01\"}, {\"StichtagDatJahr\": \"2021-01-01T00:00:00\", \"AnzKinder\": \"1\", \"AnzKinderCd\": 1, \"AnzFaelle\": 195, \"StichtagDatJahr_str\": \"2021-01-01\"}, {\"StichtagDatJahr\": \"2021-01-01T00:00:00\", \"AnzKinder\": \"keine\", \"AnzKinderCd\": 0, \"AnzFaelle\": 743, \"StichtagDatJahr_str\": \"2021-01-01\"}, {\"StichtagDatJahr\": \"2020-01-01T00:00:00\", \"AnzKinder\": \"4\", \"AnzKinderCd\": 4, \"AnzFaelle\": 2, \"StichtagDatJahr_str\": \"2020-01-01\"}, {\"StichtagDatJahr\": \"2020-01-01T00:00:00\", \"AnzKinder\": \"keine\", \"AnzKinderCd\": 0, \"AnzFaelle\": 772, \"StichtagDatJahr_str\": \"2020-01-01\"}, {\"StichtagDatJahr\": \"2020-01-01T00:00:00\", \"AnzKinder\": \"1\", \"AnzKinderCd\": 1, \"AnzFaelle\": 203, \"StichtagDatJahr_str\": \"2020-01-01\"}, {\"StichtagDatJahr\": \"2020-01-01T00:00:00\", \"AnzKinder\": \"3\", \"AnzKinderCd\": 3, \"AnzFaelle\": 27, \"StichtagDatJahr_str\": \"2020-01-01\"}, {\"StichtagDatJahr\": \"2020-01-01T00:00:00\", \"AnzKinder\": \"2\", \"AnzKinderCd\": 2, \"AnzFaelle\": 153, \"StichtagDatJahr_str\": \"2020-01-01\"}, {\"StichtagDatJahr\": \"2020-01-01T00:00:00\", \"AnzKinder\": \"5\", \"AnzKinderCd\": 5, \"AnzFaelle\": 1, \"StichtagDatJahr_str\": \"2020-01-01\"}, {\"StichtagDatJahr\": \"2020-01-01T00:00:00\", \"AnzKinder\": \"6\", \"AnzKinderCd\": 6, \"AnzFaelle\": 0, \"StichtagDatJahr_str\": \"2020-01-01\"}, {\"StichtagDatJahr\": \"2019-01-01T00:00:00\", \"AnzKinder\": \"6\", \"AnzKinderCd\": 6, \"AnzFaelle\": 0, \"StichtagDatJahr_str\": \"2019-01-01\"}, {\"StichtagDatJahr\": \"2019-01-01T00:00:00\", \"AnzKinder\": \"5\", \"AnzKinderCd\": 5, \"AnzFaelle\": 1, \"StichtagDatJahr_str\": \"2019-01-01\"}, {\"StichtagDatJahr\": \"2019-01-01T00:00:00\", \"AnzKinder\": \"4\", \"AnzKinderCd\": 4, \"AnzFaelle\": 1, \"StichtagDatJahr_str\": \"2019-01-01\"}, {\"StichtagDatJahr\": \"2019-01-01T00:00:00\", \"AnzKinder\": \"3\", \"AnzKinderCd\": 3, \"AnzFaelle\": 25, \"StichtagDatJahr_str\": \"2019-01-01\"}, {\"StichtagDatJahr\": \"2019-01-01T00:00:00\", \"AnzKinder\": \"2\", \"AnzKinderCd\": 2, \"AnzFaelle\": 166, \"StichtagDatJahr_str\": \"2019-01-01\"}, {\"StichtagDatJahr\": \"2019-01-01T00:00:00\", \"AnzKinder\": \"1\", \"AnzKinderCd\": 1, \"AnzFaelle\": 238, \"StichtagDatJahr_str\": \"2019-01-01\"}, {\"StichtagDatJahr\": \"2019-01-01T00:00:00\", \"AnzKinder\": \"keine\", \"AnzKinderCd\": 0, \"AnzFaelle\": 874, \"StichtagDatJahr_str\": \"2019-01-01\"}, {\"StichtagDatJahr\": \"2018-01-01T00:00:00\", \"AnzKinder\": \"4\", \"AnzKinderCd\": 4, \"AnzFaelle\": 6, \"StichtagDatJahr_str\": \"2018-01-01\"}, {\"StichtagDatJahr\": \"2018-01-01T00:00:00\", \"AnzKinder\": \"keine\", \"AnzKinderCd\": 0, \"AnzFaelle\": 880, \"StichtagDatJahr_str\": \"2018-01-01\"}, {\"StichtagDatJahr\": \"2018-01-01T00:00:00\", \"AnzKinder\": \"1\", \"AnzKinderCd\": 1, \"AnzFaelle\": 200, \"StichtagDatJahr_str\": \"2018-01-01\"}, {\"StichtagDatJahr\": \"2018-01-01T00:00:00\", \"AnzKinder\": \"3\", \"AnzKinderCd\": 3, \"AnzFaelle\": 24, \"StichtagDatJahr_str\": \"2018-01-01\"}, {\"StichtagDatJahr\": \"2018-01-01T00:00:00\", \"AnzKinder\": \"2\", \"AnzKinderCd\": 2, \"AnzFaelle\": 131, \"StichtagDatJahr_str\": \"2018-01-01\"}, {\"StichtagDatJahr\": \"2018-01-01T00:00:00\", \"AnzKinder\": \"5\", \"AnzKinderCd\": 5, \"AnzFaelle\": 0, \"StichtagDatJahr_str\": \"2018-01-01\"}, {\"StichtagDatJahr\": \"2018-01-01T00:00:00\", \"AnzKinder\": \"6\", \"AnzKinderCd\": 6, \"AnzFaelle\": 0, \"StichtagDatJahr_str\": \"2018-01-01\"}, {\"StichtagDatJahr\": \"2017-01-01T00:00:00\", \"AnzKinder\": \"6\", \"AnzKinderCd\": 6, \"AnzFaelle\": 0, \"StichtagDatJahr_str\": \"2017-01-01\"}, {\"StichtagDatJahr\": \"2017-01-01T00:00:00\", \"AnzKinder\": \"5\", \"AnzKinderCd\": 5, \"AnzFaelle\": 1, \"StichtagDatJahr_str\": \"2017-01-01\"}, {\"StichtagDatJahr\": \"2017-01-01T00:00:00\", \"AnzKinder\": \"4\", \"AnzKinderCd\": 4, \"AnzFaelle\": 3, \"StichtagDatJahr_str\": \"2017-01-01\"}, {\"StichtagDatJahr\": \"2017-01-01T00:00:00\", \"AnzKinder\": \"3\", \"AnzKinderCd\": 3, \"AnzFaelle\": 23, \"StichtagDatJahr_str\": \"2017-01-01\"}, {\"StichtagDatJahr\": \"2017-01-01T00:00:00\", \"AnzKinder\": \"2\", \"AnzKinderCd\": 2, \"AnzFaelle\": 109, \"StichtagDatJahr_str\": \"2017-01-01\"}, {\"StichtagDatJahr\": \"2017-01-01T00:00:00\", \"AnzKinder\": \"1\", \"AnzKinderCd\": 1, \"AnzFaelle\": 234, \"StichtagDatJahr_str\": \"2017-01-01\"}, {\"StichtagDatJahr\": \"2017-01-01T00:00:00\", \"AnzKinder\": \"keine\", \"AnzKinderCd\": 0, \"AnzFaelle\": 881, \"StichtagDatJahr_str\": \"2017-01-01\"}, {\"StichtagDatJahr\": \"2016-01-01T00:00:00\", \"AnzKinder\": \"3\", \"AnzKinderCd\": 3, \"AnzFaelle\": 30, \"StichtagDatJahr_str\": \"2016-01-01\"}, {\"StichtagDatJahr\": \"2016-01-01T00:00:00\", \"AnzKinder\": \"keine\", \"AnzKinderCd\": 0, \"AnzFaelle\": 879, \"StichtagDatJahr_str\": \"2016-01-01\"}, {\"StichtagDatJahr\": \"2016-01-01T00:00:00\", \"AnzKinder\": \"1\", \"AnzKinderCd\": 1, \"AnzFaelle\": 219, \"StichtagDatJahr_str\": \"2016-01-01\"}, {\"StichtagDatJahr\": \"2016-01-01T00:00:00\", \"AnzKinder\": \"2\", \"AnzKinderCd\": 2, \"AnzFaelle\": 144, \"StichtagDatJahr_str\": \"2016-01-01\"}, {\"StichtagDatJahr\": \"2016-01-01T00:00:00\", \"AnzKinder\": \"4\", \"AnzKinderCd\": 4, \"AnzFaelle\": 4, \"StichtagDatJahr_str\": \"2016-01-01\"}, {\"StichtagDatJahr\": \"2016-01-01T00:00:00\", \"AnzKinder\": \"5\", \"AnzKinderCd\": 5, \"AnzFaelle\": 0, \"StichtagDatJahr_str\": \"2016-01-01\"}, {\"StichtagDatJahr\": \"2016-01-01T00:00:00\", \"AnzKinder\": \"6\", \"AnzKinderCd\": 6, \"AnzFaelle\": 0, \"StichtagDatJahr_str\": \"2016-01-01\"}, {\"StichtagDatJahr\": \"2015-01-01T00:00:00\", \"AnzKinder\": \"6\", \"AnzKinderCd\": 6, \"AnzFaelle\": 2, \"StichtagDatJahr_str\": \"2015-01-01\"}, {\"StichtagDatJahr\": \"2015-01-01T00:00:00\", \"AnzKinder\": \"5\", \"AnzKinderCd\": 5, \"AnzFaelle\": 0, \"StichtagDatJahr_str\": \"2015-01-01\"}, {\"StichtagDatJahr\": \"2015-01-01T00:00:00\", \"AnzKinder\": \"4\", \"AnzKinderCd\": 4, \"AnzFaelle\": 1, \"StichtagDatJahr_str\": \"2015-01-01\"}, {\"StichtagDatJahr\": \"2015-01-01T00:00:00\", \"AnzKinder\": \"3\", \"AnzKinderCd\": 3, \"AnzFaelle\": 24, \"StichtagDatJahr_str\": \"2015-01-01\"}, {\"StichtagDatJahr\": \"2015-01-01T00:00:00\", \"AnzKinder\": \"2\", \"AnzKinderCd\": 2, \"AnzFaelle\": 134, \"StichtagDatJahr_str\": \"2015-01-01\"}, {\"StichtagDatJahr\": \"2015-01-01T00:00:00\", \"AnzKinder\": \"1\", \"AnzKinderCd\": 1, \"AnzFaelle\": 200, \"StichtagDatJahr_str\": \"2015-01-01\"}, {\"StichtagDatJahr\": \"2015-01-01T00:00:00\", \"AnzKinder\": \"keine\", \"AnzKinderCd\": 0, \"AnzFaelle\": 936, \"StichtagDatJahr_str\": \"2015-01-01\"}, {\"StichtagDatJahr\": \"2014-01-01T00:00:00\", \"AnzKinder\": \"3\", \"AnzKinderCd\": 3, \"AnzFaelle\": 25, \"StichtagDatJahr_str\": \"2014-01-01\"}, {\"StichtagDatJahr\": \"2014-01-01T00:00:00\", \"AnzKinder\": \"keine\", \"AnzKinderCd\": 0, \"AnzFaelle\": 961, \"StichtagDatJahr_str\": \"2014-01-01\"}, {\"StichtagDatJahr\": \"2014-01-01T00:00:00\", \"AnzKinder\": \"1\", \"AnzKinderCd\": 1, \"AnzFaelle\": 211, \"StichtagDatJahr_str\": \"2014-01-01\"}, {\"StichtagDatJahr\": \"2014-01-01T00:00:00\", \"AnzKinder\": \"2\", \"AnzKinderCd\": 2, \"AnzFaelle\": 136, \"StichtagDatJahr_str\": \"2014-01-01\"}, {\"StichtagDatJahr\": \"2014-01-01T00:00:00\", \"AnzKinder\": \"4\", \"AnzKinderCd\": 4, \"AnzFaelle\": 1, \"StichtagDatJahr_str\": \"2014-01-01\"}, {\"StichtagDatJahr\": \"2014-01-01T00:00:00\", \"AnzKinder\": \"6\", \"AnzKinderCd\": 6, \"AnzFaelle\": 0, \"StichtagDatJahr_str\": \"2014-01-01\"}, {\"StichtagDatJahr\": \"2014-01-01T00:00:00\", \"AnzKinder\": \"5\", \"AnzKinderCd\": 5, \"AnzFaelle\": 0, \"StichtagDatJahr_str\": \"2014-01-01\"}, {\"StichtagDatJahr\": \"2013-01-01T00:00:00\", \"AnzKinder\": \"4\", \"AnzKinderCd\": 4, \"AnzFaelle\": 3, \"StichtagDatJahr_str\": \"2013-01-01\"}, {\"StichtagDatJahr\": \"2013-01-01T00:00:00\", \"AnzKinder\": \"1\", \"AnzKinderCd\": 1, \"AnzFaelle\": 248, \"StichtagDatJahr_str\": \"2013-01-01\"}, {\"StichtagDatJahr\": \"2013-01-01T00:00:00\", \"AnzKinder\": \"2\", \"AnzKinderCd\": 2, \"AnzFaelle\": 124, \"StichtagDatJahr_str\": \"2013-01-01\"}, {\"StichtagDatJahr\": \"2013-01-01T00:00:00\", \"AnzKinder\": \"3\", \"AnzKinderCd\": 3, \"AnzFaelle\": 8, \"StichtagDatJahr_str\": \"2013-01-01\"}, {\"StichtagDatJahr\": \"2013-01-01T00:00:00\", \"AnzKinder\": \"keine\", \"AnzKinderCd\": 0, \"AnzFaelle\": 1105, \"StichtagDatJahr_str\": \"2013-01-01\"}, {\"StichtagDatJahr\": \"2013-01-01T00:00:00\", \"AnzKinder\": \"5\", \"AnzKinderCd\": 5, \"AnzFaelle\": 0, \"StichtagDatJahr_str\": \"2013-01-01\"}, {\"StichtagDatJahr\": \"2013-01-01T00:00:00\", \"AnzKinder\": \"6\", \"AnzKinderCd\": 6, \"AnzFaelle\": 0, \"StichtagDatJahr_str\": \"2013-01-01\"}, {\"StichtagDatJahr\": \"2012-01-01T00:00:00\", \"AnzKinder\": \"6\", \"AnzKinderCd\": 6, \"AnzFaelle\": 0, \"StichtagDatJahr_str\": \"2012-01-01\"}, {\"StichtagDatJahr\": \"2012-01-01T00:00:00\", \"AnzKinder\": \"5\", \"AnzKinderCd\": 5, \"AnzFaelle\": 3, \"StichtagDatJahr_str\": \"2012-01-01\"}, {\"StichtagDatJahr\": \"2012-01-01T00:00:00\", \"AnzKinder\": \"4\", \"AnzKinderCd\": 4, \"AnzFaelle\": 2, \"StichtagDatJahr_str\": \"2012-01-01\"}, {\"StichtagDatJahr\": \"2012-01-01T00:00:00\", \"AnzKinder\": \"3\", \"AnzKinderCd\": 3, \"AnzFaelle\": 17, \"StichtagDatJahr_str\": \"2012-01-01\"}, {\"StichtagDatJahr\": \"2012-01-01T00:00:00\", \"AnzKinder\": \"2\", \"AnzKinderCd\": 2, \"AnzFaelle\": 128, \"StichtagDatJahr_str\": \"2012-01-01\"}, {\"StichtagDatJahr\": \"2012-01-01T00:00:00\", \"AnzKinder\": \"1\", \"AnzKinderCd\": 1, \"AnzFaelle\": 223, \"StichtagDatJahr_str\": \"2012-01-01\"}, {\"StichtagDatJahr\": \"2012-01-01T00:00:00\", \"AnzKinder\": \"keine\", \"AnzKinderCd\": 0, \"AnzFaelle\": 1000, \"StichtagDatJahr_str\": \"2012-01-01\"}, {\"StichtagDatJahr\": \"2011-01-01T00:00:00\", \"AnzKinder\": \"4\", \"AnzKinderCd\": 4, \"AnzFaelle\": 2, \"StichtagDatJahr_str\": \"2011-01-01\"}, {\"StichtagDatJahr\": \"2011-01-01T00:00:00\", \"AnzKinder\": \"1\", \"AnzKinderCd\": 1, \"AnzFaelle\": 213, \"StichtagDatJahr_str\": \"2011-01-01\"}, {\"StichtagDatJahr\": \"2011-01-01T00:00:00\", \"AnzKinder\": \"2\", \"AnzKinderCd\": 2, \"AnzFaelle\": 126, \"StichtagDatJahr_str\": \"2011-01-01\"}, {\"StichtagDatJahr\": \"2011-01-01T00:00:00\", \"AnzKinder\": \"3\", \"AnzKinderCd\": 3, \"AnzFaelle\": 29, \"StichtagDatJahr_str\": \"2011-01-01\"}, {\"StichtagDatJahr\": \"2011-01-01T00:00:00\", \"AnzKinder\": \"keine\", \"AnzKinderCd\": 0, \"AnzFaelle\": 1174, \"StichtagDatJahr_str\": \"2011-01-01\"}, {\"StichtagDatJahr\": \"2011-01-01T00:00:00\", \"AnzKinder\": \"5\", \"AnzKinderCd\": 5, \"AnzFaelle\": 0, \"StichtagDatJahr_str\": \"2011-01-01\"}, {\"StichtagDatJahr\": \"2011-01-01T00:00:00\", \"AnzKinder\": \"6\", \"AnzKinderCd\": 6, \"AnzFaelle\": 0, \"StichtagDatJahr_str\": \"2011-01-01\"}, {\"StichtagDatJahr\": \"2010-01-01T00:00:00\", \"AnzKinder\": \"6\", \"AnzKinderCd\": 6, \"AnzFaelle\": 0, \"StichtagDatJahr_str\": \"2010-01-01\"}, {\"StichtagDatJahr\": \"2010-01-01T00:00:00\", \"AnzKinder\": \"5\", \"AnzKinderCd\": 5, \"AnzFaelle\": 0, \"StichtagDatJahr_str\": \"2010-01-01\"}, {\"StichtagDatJahr\": \"2010-01-01T00:00:00\", \"AnzKinder\": \"4\", \"AnzKinderCd\": 4, \"AnzFaelle\": 3, \"StichtagDatJahr_str\": \"2010-01-01\"}, {\"StichtagDatJahr\": \"2010-01-01T00:00:00\", \"AnzKinder\": \"3\", \"AnzKinderCd\": 3, \"AnzFaelle\": 27, \"StichtagDatJahr_str\": \"2010-01-01\"}, {\"StichtagDatJahr\": \"2010-01-01T00:00:00\", \"AnzKinder\": \"2\", \"AnzKinderCd\": 2, \"AnzFaelle\": 159, \"StichtagDatJahr_str\": \"2010-01-01\"}, {\"StichtagDatJahr\": \"2010-01-01T00:00:00\", \"AnzKinder\": \"1\", \"AnzKinderCd\": 1, \"AnzFaelle\": 264, \"StichtagDatJahr_str\": \"2010-01-01\"}, {\"StichtagDatJahr\": \"2010-01-01T00:00:00\", \"AnzKinder\": \"keine\", \"AnzKinderCd\": 0, \"AnzFaelle\": 1538, \"StichtagDatJahr_str\": \"2010-01-01\"}, {\"StichtagDatJahr\": \"2009-01-01T00:00:00\", \"AnzKinder\": \"keine\", \"AnzKinderCd\": 0, \"AnzFaelle\": 1371, \"StichtagDatJahr_str\": \"2009-01-01\"}, {\"StichtagDatJahr\": \"2009-01-01T00:00:00\", \"AnzKinder\": \"1\", \"AnzKinderCd\": 1, \"AnzFaelle\": 230, \"StichtagDatJahr_str\": \"2009-01-01\"}, {\"StichtagDatJahr\": \"2009-01-01T00:00:00\", \"AnzKinder\": \"2\", \"AnzKinderCd\": 2, \"AnzFaelle\": 158, \"StichtagDatJahr_str\": \"2009-01-01\"}, {\"StichtagDatJahr\": \"2009-01-01T00:00:00\", \"AnzKinder\": \"3\", \"AnzKinderCd\": 3, \"AnzFaelle\": 18, \"StichtagDatJahr_str\": \"2009-01-01\"}, {\"StichtagDatJahr\": \"2009-01-01T00:00:00\", \"AnzKinder\": \"4\", \"AnzKinderCd\": 4, \"AnzFaelle\": 3, \"StichtagDatJahr_str\": \"2009-01-01\"}, {\"StichtagDatJahr\": \"2009-01-01T00:00:00\", \"AnzKinder\": \"5\", \"AnzKinderCd\": 5, \"AnzFaelle\": 0, \"StichtagDatJahr_str\": \"2009-01-01\"}, {\"StichtagDatJahr\": \"2009-01-01T00:00:00\", \"AnzKinder\": \"6\", \"AnzKinderCd\": 6, \"AnzFaelle\": 0, \"StichtagDatJahr_str\": \"2009-01-01\"}, {\"StichtagDatJahr\": \"2008-01-01T00:00:00\", \"AnzKinder\": \"6\", \"AnzKinderCd\": 6, \"AnzFaelle\": 0, \"StichtagDatJahr_str\": \"2008-01-01\"}, {\"StichtagDatJahr\": \"2008-01-01T00:00:00\", \"AnzKinder\": \"5\", \"AnzKinderCd\": 5, \"AnzFaelle\": 1, \"StichtagDatJahr_str\": \"2008-01-01\"}, {\"StichtagDatJahr\": \"2008-01-01T00:00:00\", \"AnzKinder\": \"4\", \"AnzKinderCd\": 4, \"AnzFaelle\": 2, \"StichtagDatJahr_str\": \"2008-01-01\"}, {\"StichtagDatJahr\": \"2008-01-01T00:00:00\", \"AnzKinder\": \"3\", \"AnzKinderCd\": 3, \"AnzFaelle\": 24, \"StichtagDatJahr_str\": \"2008-01-01\"}, {\"StichtagDatJahr\": \"2008-01-01T00:00:00\", \"AnzKinder\": \"2\", \"AnzKinderCd\": 2, \"AnzFaelle\": 144, \"StichtagDatJahr_str\": \"2008-01-01\"}, {\"StichtagDatJahr\": \"2008-01-01T00:00:00\", \"AnzKinder\": \"1\", \"AnzKinderCd\": 1, \"AnzFaelle\": 231, \"StichtagDatJahr_str\": \"2008-01-01\"}, {\"StichtagDatJahr\": \"2008-01-01T00:00:00\", \"AnzKinder\": \"keine\", \"AnzKinderCd\": 0, \"AnzFaelle\": 1185, \"StichtagDatJahr_str\": \"2008-01-01\"}, {\"StichtagDatJahr\": \"2007-01-01T00:00:00\", \"AnzKinder\": \"5\", \"AnzKinderCd\": 5, \"AnzFaelle\": 0, \"StichtagDatJahr_str\": \"2007-01-01\"}, {\"StichtagDatJahr\": \"2007-01-01T00:00:00\", \"AnzKinder\": \"6\", \"AnzKinderCd\": 6, \"AnzFaelle\": 0, \"StichtagDatJahr_str\": \"2007-01-01\"}, {\"StichtagDatJahr\": \"2007-01-01T00:00:00\", \"AnzKinder\": \"4\", \"AnzKinderCd\": 4, \"AnzFaelle\": 0, \"StichtagDatJahr_str\": \"2007-01-01\"}, {\"StichtagDatJahr\": \"2007-01-01T00:00:00\", \"AnzKinder\": \"3\", \"AnzKinderCd\": 3, \"AnzFaelle\": 25, \"StichtagDatJahr_str\": \"2007-01-01\"}, {\"StichtagDatJahr\": \"2007-01-01T00:00:00\", \"AnzKinder\": \"2\", \"AnzKinderCd\": 2, \"AnzFaelle\": 129, \"StichtagDatJahr_str\": \"2007-01-01\"}, {\"StichtagDatJahr\": \"2007-01-01T00:00:00\", \"AnzKinder\": \"1\", \"AnzKinderCd\": 1, \"AnzFaelle\": 249, \"StichtagDatJahr_str\": \"2007-01-01\"}, {\"StichtagDatJahr\": \"2007-01-01T00:00:00\", \"AnzKinder\": \"keine\", \"AnzKinderCd\": 0, \"AnzFaelle\": 1240, \"StichtagDatJahr_str\": \"2007-01-01\"}, {\"StichtagDatJahr\": \"2006-01-01T00:00:00\", \"AnzKinder\": \"4\", \"AnzKinderCd\": 4, \"AnzFaelle\": 0, \"StichtagDatJahr_str\": \"2006-01-01\"}, {\"StichtagDatJahr\": \"2006-01-01T00:00:00\", \"AnzKinder\": \"1\", \"AnzKinderCd\": 1, \"AnzFaelle\": 265, \"StichtagDatJahr_str\": \"2006-01-01\"}, {\"StichtagDatJahr\": \"2006-01-01T00:00:00\", \"AnzKinder\": \"2\", \"AnzKinderCd\": 2, \"AnzFaelle\": 154, \"StichtagDatJahr_str\": \"2006-01-01\"}, {\"StichtagDatJahr\": \"2006-01-01T00:00:00\", \"AnzKinder\": \"3\", \"AnzKinderCd\": 3, \"AnzFaelle\": 16, \"StichtagDatJahr_str\": \"2006-01-01\"}, {\"StichtagDatJahr\": \"2006-01-01T00:00:00\", \"AnzKinder\": \"keine\", \"AnzKinderCd\": 0, \"AnzFaelle\": 1354, \"StichtagDatJahr_str\": \"2006-01-01\"}, {\"StichtagDatJahr\": \"2006-01-01T00:00:00\", \"AnzKinder\": \"5\", \"AnzKinderCd\": 5, \"AnzFaelle\": 1, \"StichtagDatJahr_str\": \"2006-01-01\"}, {\"StichtagDatJahr\": \"2006-01-01T00:00:00\", \"AnzKinder\": \"6\", \"AnzKinderCd\": 6, \"AnzFaelle\": 0, \"StichtagDatJahr_str\": \"2006-01-01\"}, {\"StichtagDatJahr\": \"2005-01-01T00:00:00\", \"AnzKinder\": \"6\", \"AnzKinderCd\": 6, \"AnzFaelle\": 1, \"StichtagDatJahr_str\": \"2005-01-01\"}, {\"StichtagDatJahr\": \"2005-01-01T00:00:00\", \"AnzKinder\": \"5\", \"AnzKinderCd\": 5, \"AnzFaelle\": 0, \"StichtagDatJahr_str\": \"2005-01-01\"}, {\"StichtagDatJahr\": \"2005-01-01T00:00:00\", \"AnzKinder\": \"4\", \"AnzKinderCd\": 4, \"AnzFaelle\": 4, \"StichtagDatJahr_str\": \"2005-01-01\"}, {\"StichtagDatJahr\": \"2005-01-01T00:00:00\", \"AnzKinder\": \"3\", \"AnzKinderCd\": 3, \"AnzFaelle\": 24, \"StichtagDatJahr_str\": \"2005-01-01\"}, {\"StichtagDatJahr\": \"2005-01-01T00:00:00\", \"AnzKinder\": \"2\", \"AnzKinderCd\": 2, \"AnzFaelle\": 205, \"StichtagDatJahr_str\": \"2005-01-01\"}, {\"StichtagDatJahr\": \"2005-01-01T00:00:00\", \"AnzKinder\": \"1\", \"AnzKinderCd\": 1, \"AnzFaelle\": 303, \"StichtagDatJahr_str\": \"2005-01-01\"}, {\"StichtagDatJahr\": \"2005-01-01T00:00:00\", \"AnzKinder\": \"keine\", \"AnzKinderCd\": 0, \"AnzFaelle\": 1319, \"StichtagDatJahr_str\": \"2005-01-01\"}, {\"StichtagDatJahr\": \"2004-01-01T00:00:00\", \"AnzKinder\": \"4\", \"AnzKinderCd\": 4, \"AnzFaelle\": 1, \"StichtagDatJahr_str\": \"2004-01-01\"}, {\"StichtagDatJahr\": \"2004-01-01T00:00:00\", \"AnzKinder\": \"1\", \"AnzKinderCd\": 1, \"AnzFaelle\": 238, \"StichtagDatJahr_str\": \"2004-01-01\"}, {\"StichtagDatJahr\": \"2004-01-01T00:00:00\", \"AnzKinder\": \"2\", \"AnzKinderCd\": 2, \"AnzFaelle\": 153, \"StichtagDatJahr_str\": \"2004-01-01\"}, {\"StichtagDatJahr\": \"2004-01-01T00:00:00\", \"AnzKinder\": \"3\", \"AnzKinderCd\": 3, \"AnzFaelle\": 27, \"StichtagDatJahr_str\": \"2004-01-01\"}, {\"StichtagDatJahr\": \"2004-01-01T00:00:00\", \"AnzKinder\": \"keine\", \"AnzKinderCd\": 0, \"AnzFaelle\": 1160, \"StichtagDatJahr_str\": \"2004-01-01\"}, {\"StichtagDatJahr\": \"2004-01-01T00:00:00\", \"AnzKinder\": \"5\", \"AnzKinderCd\": 5, \"AnzFaelle\": 1, \"StichtagDatJahr_str\": \"2004-01-01\"}, {\"StichtagDatJahr\": \"2004-01-01T00:00:00\", \"AnzKinder\": \"6\", \"AnzKinderCd\": 6, \"AnzFaelle\": 1, \"StichtagDatJahr_str\": \"2004-01-01\"}, {\"StichtagDatJahr\": \"2003-01-01T00:00:00\", \"AnzKinder\": \"6\", \"AnzKinderCd\": 6, \"AnzFaelle\": 0, \"StichtagDatJahr_str\": \"2003-01-01\"}, {\"StichtagDatJahr\": \"2003-01-01T00:00:00\", \"AnzKinder\": \"5\", \"AnzKinderCd\": 5, \"AnzFaelle\": 0, \"StichtagDatJahr_str\": \"2003-01-01\"}, {\"StichtagDatJahr\": \"2003-01-01T00:00:00\", \"AnzKinder\": \"4\", \"AnzKinderCd\": 4, \"AnzFaelle\": 4, \"StichtagDatJahr_str\": \"2003-01-01\"}, {\"StichtagDatJahr\": \"2003-01-01T00:00:00\", \"AnzKinder\": \"3\", \"AnzKinderCd\": 3, \"AnzFaelle\": 30, \"StichtagDatJahr_str\": \"2003-01-01\"}, {\"StichtagDatJahr\": \"2003-01-01T00:00:00\", \"AnzKinder\": \"2\", \"AnzKinderCd\": 2, \"AnzFaelle\": 174, \"StichtagDatJahr_str\": \"2003-01-01\"}, {\"StichtagDatJahr\": \"2003-01-01T00:00:00\", \"AnzKinder\": \"1\", \"AnzKinderCd\": 1, \"AnzFaelle\": 208, \"StichtagDatJahr_str\": \"2003-01-01\"}, {\"StichtagDatJahr\": \"2003-01-01T00:00:00\", \"AnzKinder\": \"keine\", \"AnzKinderCd\": 0, \"AnzFaelle\": 1129, \"StichtagDatJahr_str\": \"2003-01-01\"}, {\"StichtagDatJahr\": \"2002-01-01T00:00:00\", \"AnzKinder\": \"keine\", \"AnzKinderCd\": 0, \"AnzFaelle\": 1205, \"StichtagDatJahr_str\": \"2002-01-01\"}, {\"StichtagDatJahr\": \"2002-01-01T00:00:00\", \"AnzKinder\": \"1\", \"AnzKinderCd\": 1, \"AnzFaelle\": 265, \"StichtagDatJahr_str\": \"2002-01-01\"}, {\"StichtagDatJahr\": \"2002-01-01T00:00:00\", \"AnzKinder\": \"2\", \"AnzKinderCd\": 2, \"AnzFaelle\": 171, \"StichtagDatJahr_str\": \"2002-01-01\"}, {\"StichtagDatJahr\": \"2002-01-01T00:00:00\", \"AnzKinder\": \"3\", \"AnzKinderCd\": 3, \"AnzFaelle\": 29, \"StichtagDatJahr_str\": \"2002-01-01\"}, {\"StichtagDatJahr\": \"2002-01-01T00:00:00\", \"AnzKinder\": \"4\", \"AnzKinderCd\": 4, \"AnzFaelle\": 0, \"StichtagDatJahr_str\": \"2002-01-01\"}, {\"StichtagDatJahr\": \"2002-01-01T00:00:00\", \"AnzKinder\": \"5\", \"AnzKinderCd\": 5, \"AnzFaelle\": 0, \"StichtagDatJahr_str\": \"2002-01-01\"}, {\"StichtagDatJahr\": \"2002-01-01T00:00:00\", \"AnzKinder\": \"6\", \"AnzKinderCd\": 6, \"AnzFaelle\": 0, \"StichtagDatJahr_str\": \"2002-01-01\"}, {\"StichtagDatJahr\": \"2001-01-01T00:00:00\", \"AnzKinder\": \"6\", \"AnzKinderCd\": 6, \"AnzFaelle\": 0, \"StichtagDatJahr_str\": \"2001-01-01\"}, {\"StichtagDatJahr\": \"2001-01-01T00:00:00\", \"AnzKinder\": \"5\", \"AnzKinderCd\": 5, \"AnzFaelle\": 1, \"StichtagDatJahr_str\": \"2001-01-01\"}, {\"StichtagDatJahr\": \"2001-01-01T00:00:00\", \"AnzKinder\": \"4\", \"AnzKinderCd\": 4, \"AnzFaelle\": 3, \"StichtagDatJahr_str\": \"2001-01-01\"}, {\"StichtagDatJahr\": \"2001-01-01T00:00:00\", \"AnzKinder\": \"3\", \"AnzKinderCd\": 3, \"AnzFaelle\": 38, \"StichtagDatJahr_str\": \"2001-01-01\"}, {\"StichtagDatJahr\": \"2001-01-01T00:00:00\", \"AnzKinder\": \"2\", \"AnzKinderCd\": 2, \"AnzFaelle\": 110, \"StichtagDatJahr_str\": \"2001-01-01\"}, {\"StichtagDatJahr\": \"2001-01-01T00:00:00\", \"AnzKinder\": \"1\", \"AnzKinderCd\": 1, \"AnzFaelle\": 157, \"StichtagDatJahr_str\": \"2001-01-01\"}, {\"StichtagDatJahr\": \"2001-01-01T00:00:00\", \"AnzKinder\": \"keine\", \"AnzKinderCd\": 0, \"AnzFaelle\": 792, \"StichtagDatJahr_str\": \"2001-01-01\"}, {\"StichtagDatJahr\": \"2000-01-01T00:00:00\", \"AnzKinder\": \"3\", \"AnzKinderCd\": 3, \"AnzFaelle\": 23, \"StichtagDatJahr_str\": \"2000-01-01\"}, {\"StichtagDatJahr\": \"2000-01-01T00:00:00\", \"AnzKinder\": \"keine\", \"AnzKinderCd\": 0, \"AnzFaelle\": 781, \"StichtagDatJahr_str\": \"2000-01-01\"}, {\"StichtagDatJahr\": \"2000-01-01T00:00:00\", \"AnzKinder\": \"1\", \"AnzKinderCd\": 1, \"AnzFaelle\": 185, \"StichtagDatJahr_str\": \"2000-01-01\"}, {\"StichtagDatJahr\": \"2000-01-01T00:00:00\", \"AnzKinder\": \"2\", \"AnzKinderCd\": 2, \"AnzFaelle\": 140, \"StichtagDatJahr_str\": \"2000-01-01\"}, {\"StichtagDatJahr\": \"2000-01-01T00:00:00\", \"AnzKinder\": \"5\", \"AnzKinderCd\": 5, \"AnzFaelle\": 1, \"StichtagDatJahr_str\": \"2000-01-01\"}, {\"StichtagDatJahr\": \"2000-01-01T00:00:00\", \"AnzKinder\": \"4\", \"AnzKinderCd\": 4, \"AnzFaelle\": 10, \"StichtagDatJahr_str\": \"2000-01-01\"}, {\"StichtagDatJahr\": \"2000-01-01T00:00:00\", \"AnzKinder\": \"6\", \"AnzKinderCd\": 6, \"AnzFaelle\": 0, \"StichtagDatJahr_str\": \"2000-01-01\"}, {\"StichtagDatJahr\": \"1999-01-01T00:00:00\", \"AnzKinder\": \"4\", \"AnzKinderCd\": 4, \"AnzFaelle\": 9, \"StichtagDatJahr_str\": \"1999-01-01\"}, {\"StichtagDatJahr\": \"1999-01-01T00:00:00\", \"AnzKinder\": \"1\", \"AnzKinderCd\": 1, \"AnzFaelle\": 257, \"StichtagDatJahr_str\": \"1999-01-01\"}, {\"StichtagDatJahr\": \"1999-01-01T00:00:00\", \"AnzKinder\": \"2\", \"AnzKinderCd\": 2, \"AnzFaelle\": 204, \"StichtagDatJahr_str\": \"1999-01-01\"}, {\"StichtagDatJahr\": \"1999-01-01T00:00:00\", \"AnzKinder\": \"3\", \"AnzKinderCd\": 3, \"AnzFaelle\": 28, \"StichtagDatJahr_str\": \"1999-01-01\"}, {\"StichtagDatJahr\": \"1999-01-01T00:00:00\", \"AnzKinder\": \"keine\", \"AnzKinderCd\": 0, \"AnzFaelle\": 1127, \"StichtagDatJahr_str\": \"1999-01-01\"}, {\"StichtagDatJahr\": \"1999-01-01T00:00:00\", \"AnzKinder\": \"5\", \"AnzKinderCd\": 5, \"AnzFaelle\": 2, \"StichtagDatJahr_str\": \"1999-01-01\"}, {\"StichtagDatJahr\": \"1999-01-01T00:00:00\", \"AnzKinder\": \"6\", \"AnzKinderCd\": 6, \"AnzFaelle\": 0, \"StichtagDatJahr_str\": \"1999-01-01\"}, {\"StichtagDatJahr\": \"1998-01-01T00:00:00\", \"AnzKinder\": \"6\", \"AnzKinderCd\": 6, \"AnzFaelle\": 0, \"StichtagDatJahr_str\": \"1998-01-01\"}, {\"StichtagDatJahr\": \"1998-01-01T00:00:00\", \"AnzKinder\": \"5\", \"AnzKinderCd\": 5, \"AnzFaelle\": 1, \"StichtagDatJahr_str\": \"1998-01-01\"}, {\"StichtagDatJahr\": \"1998-01-01T00:00:00\", \"AnzKinder\": \"4\", \"AnzKinderCd\": 4, \"AnzFaelle\": 6, \"StichtagDatJahr_str\": \"1998-01-01\"}, {\"StichtagDatJahr\": \"1998-01-01T00:00:00\", \"AnzKinder\": \"3\", \"AnzKinderCd\": 3, \"AnzFaelle\": 41, \"StichtagDatJahr_str\": \"1998-01-01\"}, {\"StichtagDatJahr\": \"1998-01-01T00:00:00\", \"AnzKinder\": \"2\", \"AnzKinderCd\": 2, \"AnzFaelle\": 207, \"StichtagDatJahr_str\": \"1998-01-01\"}, {\"StichtagDatJahr\": \"1998-01-01T00:00:00\", \"AnzKinder\": \"1\", \"AnzKinderCd\": 1, \"AnzFaelle\": 288, \"StichtagDatJahr_str\": \"1998-01-01\"}, {\"StichtagDatJahr\": \"1998-01-01T00:00:00\", \"AnzKinder\": \"keine\", \"AnzKinderCd\": 0, \"AnzFaelle\": 1090, \"StichtagDatJahr_str\": \"1998-01-01\"}, {\"StichtagDatJahr\": \"1997-01-01T00:00:00\", \"AnzKinder\": \"4\", \"AnzKinderCd\": 4, \"AnzFaelle\": 6, \"StichtagDatJahr_str\": \"1997-01-01\"}, {\"StichtagDatJahr\": \"1997-01-01T00:00:00\", \"AnzKinder\": \"1\", \"AnzKinderCd\": 1, \"AnzFaelle\": 279, \"StichtagDatJahr_str\": \"1997-01-01\"}, {\"StichtagDatJahr\": \"1997-01-01T00:00:00\", \"AnzKinder\": \"2\", \"AnzKinderCd\": 2, \"AnzFaelle\": 172, \"StichtagDatJahr_str\": \"1997-01-01\"}, {\"StichtagDatJahr\": \"1997-01-01T00:00:00\", \"AnzKinder\": \"3\", \"AnzKinderCd\": 3, \"AnzFaelle\": 37, \"StichtagDatJahr_str\": \"1997-01-01\"}, {\"StichtagDatJahr\": \"1997-01-01T00:00:00\", \"AnzKinder\": \"keine\", \"AnzKinderCd\": 0, \"AnzFaelle\": 1057, \"StichtagDatJahr_str\": \"1997-01-01\"}, {\"StichtagDatJahr\": \"1997-01-01T00:00:00\", \"AnzKinder\": \"5\", \"AnzKinderCd\": 5, \"AnzFaelle\": 0, \"StichtagDatJahr_str\": \"1997-01-01\"}, {\"StichtagDatJahr\": \"1997-01-01T00:00:00\", \"AnzKinder\": \"6\", \"AnzKinderCd\": 6, \"AnzFaelle\": 0, \"StichtagDatJahr_str\": \"1997-01-01\"}, {\"StichtagDatJahr\": \"1996-01-01T00:00:00\", \"AnzKinder\": \"6\", \"AnzKinderCd\": 6, \"AnzFaelle\": 0, \"StichtagDatJahr_str\": \"1996-01-01\"}, {\"StichtagDatJahr\": \"1996-01-01T00:00:00\", \"AnzKinder\": \"5\", \"AnzKinderCd\": 5, \"AnzFaelle\": 2, \"StichtagDatJahr_str\": \"1996-01-01\"}, {\"StichtagDatJahr\": \"1996-01-01T00:00:00\", \"AnzKinder\": \"4\", \"AnzKinderCd\": 4, \"AnzFaelle\": 8, \"StichtagDatJahr_str\": \"1996-01-01\"}, {\"StichtagDatJahr\": \"1996-01-01T00:00:00\", \"AnzKinder\": \"3\", \"AnzKinderCd\": 3, \"AnzFaelle\": 42, \"StichtagDatJahr_str\": \"1996-01-01\"}, {\"StichtagDatJahr\": \"1996-01-01T00:00:00\", \"AnzKinder\": \"2\", \"AnzKinderCd\": 2, \"AnzFaelle\": 210, \"StichtagDatJahr_str\": \"1996-01-01\"}, {\"StichtagDatJahr\": \"1996-01-01T00:00:00\", \"AnzKinder\": \"1\", \"AnzKinderCd\": 1, \"AnzFaelle\": 299, \"StichtagDatJahr_str\": \"1996-01-01\"}, {\"StichtagDatJahr\": \"1996-01-01T00:00:00\", \"AnzKinder\": \"keine\", \"AnzKinderCd\": 0, \"AnzFaelle\": 985, \"StichtagDatJahr_str\": \"1996-01-01\"}, {\"StichtagDatJahr\": \"1995-01-01T00:00:00\", \"AnzKinder\": \"keine\", \"AnzKinderCd\": 0, \"AnzFaelle\": 959, \"StichtagDatJahr_str\": \"1995-01-01\"}, {\"StichtagDatJahr\": \"1995-01-01T00:00:00\", \"AnzKinder\": \"1\", \"AnzKinderCd\": 1, \"AnzFaelle\": 284, \"StichtagDatJahr_str\": \"1995-01-01\"}, {\"StichtagDatJahr\": \"1995-01-01T00:00:00\", \"AnzKinder\": \"2\", \"AnzKinderCd\": 2, \"AnzFaelle\": 204, \"StichtagDatJahr_str\": \"1995-01-01\"}, {\"StichtagDatJahr\": \"1995-01-01T00:00:00\", \"AnzKinder\": \"3\", \"AnzKinderCd\": 3, \"AnzFaelle\": 28, \"StichtagDatJahr_str\": \"1995-01-01\"}, {\"StichtagDatJahr\": \"1995-01-01T00:00:00\", \"AnzKinder\": \"4\", \"AnzKinderCd\": 4, \"AnzFaelle\": 9, \"StichtagDatJahr_str\": \"1995-01-01\"}, {\"StichtagDatJahr\": \"1995-01-01T00:00:00\", \"AnzKinder\": \"5\", \"AnzKinderCd\": 5, \"AnzFaelle\": 1, \"StichtagDatJahr_str\": \"1995-01-01\"}, {\"StichtagDatJahr\": \"1995-01-01T00:00:00\", \"AnzKinder\": \"6\", \"AnzKinderCd\": 6, \"AnzFaelle\": 1, \"StichtagDatJahr_str\": \"1995-01-01\"}, {\"StichtagDatJahr\": \"1994-01-01T00:00:00\", \"AnzKinder\": \"6\", \"AnzKinderCd\": 6, \"AnzFaelle\": 0, \"StichtagDatJahr_str\": \"1994-01-01\"}, {\"StichtagDatJahr\": \"1994-01-01T00:00:00\", \"AnzKinder\": \"5\", \"AnzKinderCd\": 5, \"AnzFaelle\": 1, \"StichtagDatJahr_str\": \"1994-01-01\"}, {\"StichtagDatJahr\": \"1994-01-01T00:00:00\", \"AnzKinder\": \"4\", \"AnzKinderCd\": 4, \"AnzFaelle\": 5, \"StichtagDatJahr_str\": \"1994-01-01\"}, {\"StichtagDatJahr\": \"1994-01-01T00:00:00\", \"AnzKinder\": \"3\", \"AnzKinderCd\": 3, \"AnzFaelle\": 30, \"StichtagDatJahr_str\": \"1994-01-01\"}, {\"StichtagDatJahr\": \"1994-01-01T00:00:00\", \"AnzKinder\": \"2\", \"AnzKinderCd\": 2, \"AnzFaelle\": 186, \"StichtagDatJahr_str\": \"1994-01-01\"}, {\"StichtagDatJahr\": \"1994-01-01T00:00:00\", \"AnzKinder\": \"1\", \"AnzKinderCd\": 1, \"AnzFaelle\": 270, \"StichtagDatJahr_str\": \"1994-01-01\"}, {\"StichtagDatJahr\": \"1994-01-01T00:00:00\", \"AnzKinder\": \"keine\", \"AnzKinderCd\": 0, \"AnzFaelle\": 962, \"StichtagDatJahr_str\": \"1994-01-01\"}, {\"StichtagDatJahr\": \"1993-01-01T00:00:00\", \"AnzKinder\": \"4\", \"AnzKinderCd\": 4, \"AnzFaelle\": 8, \"StichtagDatJahr_str\": \"1993-01-01\"}, {\"StichtagDatJahr\": \"1993-01-01T00:00:00\", \"AnzKinder\": \"2\", \"AnzKinderCd\": 2, \"AnzFaelle\": 217, \"StichtagDatJahr_str\": \"1993-01-01\"}, {\"StichtagDatJahr\": \"1993-01-01T00:00:00\", \"AnzKinder\": \"3\", \"AnzKinderCd\": 3, \"AnzFaelle\": 26, \"StichtagDatJahr_str\": \"1993-01-01\"}, {\"StichtagDatJahr\": \"1993-01-01T00:00:00\", \"AnzKinder\": \"1\", \"AnzKinderCd\": 1, \"AnzFaelle\": 257, \"StichtagDatJahr_str\": \"1993-01-01\"}, {\"StichtagDatJahr\": \"1993-01-01T00:00:00\", \"AnzKinder\": \"5\", \"AnzKinderCd\": 5, \"AnzFaelle\": 0, \"StichtagDatJahr_str\": \"1993-01-01\"}, {\"StichtagDatJahr\": \"1993-01-01T00:00:00\", \"AnzKinder\": \"6\", \"AnzKinderCd\": 6, \"AnzFaelle\": 0, \"StichtagDatJahr_str\": \"1993-01-01\"}, {\"StichtagDatJahr\": \"1993-01-01T00:00:00\", \"AnzKinder\": \"keine\", \"AnzKinderCd\": 0, \"AnzFaelle\": 967, \"StichtagDatJahr_str\": \"1993-01-01\"}]}}, {\"mode\": \"vega-lite\"});\n",
       "</script>"
      ],
      "text/plain": [
       "alt.LayerChart(...)"
      ]
     },
     "execution_count": 58,
     "metadata": {},
     "output_type": "execute_result"
    }
   ],
   "source": [
    "highlight = alt.selection(type='single', on='mouseover',\n",
    "                          fields=['AnzKinder'], nearest=True)\n",
    "#x='date:StichtagDatJahr',\n",
    "base = alt.Chart(data2betested.reset_index().query('AnzKinder!=\"Unbekannt\"')).encode(\n",
    "    x='StichtagDatJahr',\n",
    "    y='AnzFaelle',\n",
    "    color='AnzKinder',\n",
    "    tooltip=['StichtagDatJahr','AnzKinder','AnzFaelle']\n",
    ")\n",
    "\n",
    "points = base.mark_circle().encode(\n",
    "    opacity=alt.value(2)\n",
    ").add_selection(\n",
    "    highlight\n",
    ").properties(\n",
    "    width=700 , height=300\n",
    ")\n",
    "lines = base.mark_line().encode(\n",
    "    size=alt.condition(~highlight, alt.value(1.5), alt.value(4))\n",
    ").interactive()\n",
    "\n",
    "points + lines"
   ]
  },
  {
   "cell_type": "code",
   "execution_count": 52,
   "metadata": {},
   "outputs": [
    {
     "data": {
      "text/html": [
       "\n",
       "<div id=\"altair-viz-7d9e917fb089458482f8af357946ee7c\"></div>\n",
       "<script type=\"text/javascript\">\n",
       "  (function(spec, embedOpt){\n",
       "    let outputDiv = document.currentScript.previousElementSibling;\n",
       "    if (outputDiv.id !== \"altair-viz-7d9e917fb089458482f8af357946ee7c\") {\n",
       "      outputDiv = document.getElementById(\"altair-viz-7d9e917fb089458482f8af357946ee7c\");\n",
       "    }\n",
       "    const paths = {\n",
       "      \"vega\": \"https://cdn.jsdelivr.net/npm//vega@5?noext\",\n",
       "      \"vega-lib\": \"https://cdn.jsdelivr.net/npm//vega-lib?noext\",\n",
       "      \"vega-lite\": \"https://cdn.jsdelivr.net/npm//vega-lite@4.8.1?noext\",\n",
       "      \"vega-embed\": \"https://cdn.jsdelivr.net/npm//vega-embed@6?noext\",\n",
       "    };\n",
       "\n",
       "    function loadScript(lib) {\n",
       "      return new Promise(function(resolve, reject) {\n",
       "        var s = document.createElement('script');\n",
       "        s.src = paths[lib];\n",
       "        s.async = true;\n",
       "        s.onload = () => resolve(paths[lib]);\n",
       "        s.onerror = () => reject(`Error loading script: ${paths[lib]}`);\n",
       "        document.getElementsByTagName(\"head\")[0].appendChild(s);\n",
       "      });\n",
       "    }\n",
       "\n",
       "    function showError(err) {\n",
       "      outputDiv.innerHTML = `<div class=\"error\" style=\"color:red;\">${err}</div>`;\n",
       "      throw err;\n",
       "    }\n",
       "\n",
       "    function displayChart(vegaEmbed) {\n",
       "      vegaEmbed(outputDiv, spec, embedOpt)\n",
       "        .catch(err => showError(`Javascript Error: ${err.message}<br>This usually means there's a typo in your chart specification. See the javascript console for the full traceback.`));\n",
       "    }\n",
       "\n",
       "    if(typeof define === \"function\" && define.amd) {\n",
       "      requirejs.config({paths});\n",
       "      require([\"vega-embed\"], displayChart, err => showError(`Error loading script: ${err.message}`));\n",
       "    } else if (typeof vegaEmbed === \"function\") {\n",
       "      displayChart(vegaEmbed);\n",
       "    } else {\n",
       "      loadScript(\"vega\")\n",
       "        .then(() => loadScript(\"vega-lite\"))\n",
       "        .then(() => loadScript(\"vega-embed\"))\n",
       "        .catch(showError)\n",
       "        .then(() => displayChart(vegaEmbed));\n",
       "    }\n",
       "  })({\"config\": {\"view\": {\"continuousWidth\": 400, \"continuousHeight\": 300}}, \"data\": {\"name\": \"data-d3246d93ca28496f710ab740671f5cfc\"}, \"mark\": {\"type\": \"circle\", \"size\": 60}, \"encoding\": {\"color\": {\"type\": \"nominal\", \"field\": \"AnzKinder\", \"scale\": {\"scheme\": \"dark2\"}}, \"tooltip\": [{\"type\": \"temporal\", \"field\": \"StichtagDatJahr\"}, {\"type\": \"nominal\", \"field\": \"AnzKinder\"}, {\"type\": \"quantitative\", \"field\": \"AnzFaelle\"}], \"x\": {\"type\": \"temporal\", \"field\": \"StichtagDatJahr\"}, \"y\": {\"type\": \"quantitative\", \"field\": \"AnzFaelle\"}}, \"selection\": {\"selector003\": {\"type\": \"interval\", \"bind\": \"scales\", \"encodings\": [\"x\", \"y\"]}}, \"$schema\": \"https://vega.github.io/schema/vega-lite/v4.8.1.json\", \"datasets\": {\"data-d3246d93ca28496f710ab740671f5cfc\": [{\"StichtagDatJahr\": \"2021-01-01T00:00:00\", \"AnzKinder\": \"Unbekannt\", \"AnzKinderCd\": 7, \"AnzFaelle\": 0, \"StichtagDatJahr_str\": \"2021-01-01\"}, {\"StichtagDatJahr\": \"2021-01-01T00:00:00\", \"AnzKinder\": \"6\", \"AnzKinderCd\": 6, \"AnzFaelle\": 1, \"StichtagDatJahr_str\": \"2021-01-01\"}, {\"StichtagDatJahr\": \"2021-01-01T00:00:00\", \"AnzKinder\": \"5\", \"AnzKinderCd\": 5, \"AnzFaelle\": 1, \"StichtagDatJahr_str\": \"2021-01-01\"}, {\"StichtagDatJahr\": \"2021-01-01T00:00:00\", \"AnzKinder\": \"4\", \"AnzKinderCd\": 4, \"AnzFaelle\": 4, \"StichtagDatJahr_str\": \"2021-01-01\"}, {\"StichtagDatJahr\": \"2021-01-01T00:00:00\", \"AnzKinder\": \"3\", \"AnzKinderCd\": 3, \"AnzFaelle\": 24, \"StichtagDatJahr_str\": \"2021-01-01\"}, {\"StichtagDatJahr\": \"2021-01-01T00:00:00\", \"AnzKinder\": \"2\", \"AnzKinderCd\": 2, \"AnzFaelle\": 172, \"StichtagDatJahr_str\": \"2021-01-01\"}, {\"StichtagDatJahr\": \"2021-01-01T00:00:00\", \"AnzKinder\": \"1\", \"AnzKinderCd\": 1, \"AnzFaelle\": 195, \"StichtagDatJahr_str\": \"2021-01-01\"}, {\"StichtagDatJahr\": \"2021-01-01T00:00:00\", \"AnzKinder\": \"keine\", \"AnzKinderCd\": 0, \"AnzFaelle\": 743, \"StichtagDatJahr_str\": \"2021-01-01\"}, {\"StichtagDatJahr\": \"2020-01-01T00:00:00\", \"AnzKinder\": \"4\", \"AnzKinderCd\": 4, \"AnzFaelle\": 2, \"StichtagDatJahr_str\": \"2020-01-01\"}, {\"StichtagDatJahr\": \"2020-01-01T00:00:00\", \"AnzKinder\": \"keine\", \"AnzKinderCd\": 0, \"AnzFaelle\": 772, \"StichtagDatJahr_str\": \"2020-01-01\"}, {\"StichtagDatJahr\": \"2020-01-01T00:00:00\", \"AnzKinder\": \"1\", \"AnzKinderCd\": 1, \"AnzFaelle\": 203, \"StichtagDatJahr_str\": \"2020-01-01\"}, {\"StichtagDatJahr\": \"2020-01-01T00:00:00\", \"AnzKinder\": \"3\", \"AnzKinderCd\": 3, \"AnzFaelle\": 27, \"StichtagDatJahr_str\": \"2020-01-01\"}, {\"StichtagDatJahr\": \"2020-01-01T00:00:00\", \"AnzKinder\": \"2\", \"AnzKinderCd\": 2, \"AnzFaelle\": 153, \"StichtagDatJahr_str\": \"2020-01-01\"}, {\"StichtagDatJahr\": \"2020-01-01T00:00:00\", \"AnzKinder\": \"5\", \"AnzKinderCd\": 5, \"AnzFaelle\": 1, \"StichtagDatJahr_str\": \"2020-01-01\"}, {\"StichtagDatJahr\": \"2020-01-01T00:00:00\", \"AnzKinder\": \"6\", \"AnzKinderCd\": 6, \"AnzFaelle\": 0, \"StichtagDatJahr_str\": \"2020-01-01\"}, {\"StichtagDatJahr\": \"2020-01-01T00:00:00\", \"AnzKinder\": \"Unbekannt\", \"AnzKinderCd\": 7, \"AnzFaelle\": 0, \"StichtagDatJahr_str\": \"2020-01-01\"}, {\"StichtagDatJahr\": \"2019-01-01T00:00:00\", \"AnzKinder\": \"Unbekannt\", \"AnzKinderCd\": 7, \"AnzFaelle\": 0, \"StichtagDatJahr_str\": \"2019-01-01\"}, {\"StichtagDatJahr\": \"2019-01-01T00:00:00\", \"AnzKinder\": \"6\", \"AnzKinderCd\": 6, \"AnzFaelle\": 0, \"StichtagDatJahr_str\": \"2019-01-01\"}, {\"StichtagDatJahr\": \"2019-01-01T00:00:00\", \"AnzKinder\": \"5\", \"AnzKinderCd\": 5, \"AnzFaelle\": 1, \"StichtagDatJahr_str\": \"2019-01-01\"}, {\"StichtagDatJahr\": \"2019-01-01T00:00:00\", \"AnzKinder\": \"4\", \"AnzKinderCd\": 4, \"AnzFaelle\": 1, \"StichtagDatJahr_str\": \"2019-01-01\"}, {\"StichtagDatJahr\": \"2019-01-01T00:00:00\", \"AnzKinder\": \"3\", \"AnzKinderCd\": 3, \"AnzFaelle\": 25, \"StichtagDatJahr_str\": \"2019-01-01\"}, {\"StichtagDatJahr\": \"2019-01-01T00:00:00\", \"AnzKinder\": \"2\", \"AnzKinderCd\": 2, \"AnzFaelle\": 166, \"StichtagDatJahr_str\": \"2019-01-01\"}, {\"StichtagDatJahr\": \"2019-01-01T00:00:00\", \"AnzKinder\": \"1\", \"AnzKinderCd\": 1, \"AnzFaelle\": 238, \"StichtagDatJahr_str\": \"2019-01-01\"}, {\"StichtagDatJahr\": \"2019-01-01T00:00:00\", \"AnzKinder\": \"keine\", \"AnzKinderCd\": 0, \"AnzFaelle\": 874, \"StichtagDatJahr_str\": \"2019-01-01\"}, {\"StichtagDatJahr\": \"2018-01-01T00:00:00\", \"AnzKinder\": \"4\", \"AnzKinderCd\": 4, \"AnzFaelle\": 6, \"StichtagDatJahr_str\": \"2018-01-01\"}, {\"StichtagDatJahr\": \"2018-01-01T00:00:00\", \"AnzKinder\": \"keine\", \"AnzKinderCd\": 0, \"AnzFaelle\": 880, \"StichtagDatJahr_str\": \"2018-01-01\"}, {\"StichtagDatJahr\": \"2018-01-01T00:00:00\", \"AnzKinder\": \"1\", \"AnzKinderCd\": 1, \"AnzFaelle\": 200, \"StichtagDatJahr_str\": \"2018-01-01\"}, {\"StichtagDatJahr\": \"2018-01-01T00:00:00\", \"AnzKinder\": \"3\", \"AnzKinderCd\": 3, \"AnzFaelle\": 24, \"StichtagDatJahr_str\": \"2018-01-01\"}, {\"StichtagDatJahr\": \"2018-01-01T00:00:00\", \"AnzKinder\": \"2\", \"AnzKinderCd\": 2, \"AnzFaelle\": 131, \"StichtagDatJahr_str\": \"2018-01-01\"}, {\"StichtagDatJahr\": \"2018-01-01T00:00:00\", \"AnzKinder\": \"5\", \"AnzKinderCd\": 5, \"AnzFaelle\": 0, \"StichtagDatJahr_str\": \"2018-01-01\"}, {\"StichtagDatJahr\": \"2018-01-01T00:00:00\", \"AnzKinder\": \"6\", \"AnzKinderCd\": 6, \"AnzFaelle\": 0, \"StichtagDatJahr_str\": \"2018-01-01\"}, {\"StichtagDatJahr\": \"2018-01-01T00:00:00\", \"AnzKinder\": \"Unbekannt\", \"AnzKinderCd\": 7, \"AnzFaelle\": 0, \"StichtagDatJahr_str\": \"2018-01-01\"}, {\"StichtagDatJahr\": \"2017-01-01T00:00:00\", \"AnzKinder\": \"Unbekannt\", \"AnzKinderCd\": 7, \"AnzFaelle\": 0, \"StichtagDatJahr_str\": \"2017-01-01\"}, {\"StichtagDatJahr\": \"2017-01-01T00:00:00\", \"AnzKinder\": \"6\", \"AnzKinderCd\": 6, \"AnzFaelle\": 0, \"StichtagDatJahr_str\": \"2017-01-01\"}, {\"StichtagDatJahr\": \"2017-01-01T00:00:00\", \"AnzKinder\": \"5\", \"AnzKinderCd\": 5, \"AnzFaelle\": 1, \"StichtagDatJahr_str\": \"2017-01-01\"}, {\"StichtagDatJahr\": \"2017-01-01T00:00:00\", \"AnzKinder\": \"4\", \"AnzKinderCd\": 4, \"AnzFaelle\": 3, \"StichtagDatJahr_str\": \"2017-01-01\"}, {\"StichtagDatJahr\": \"2017-01-01T00:00:00\", \"AnzKinder\": \"3\", \"AnzKinderCd\": 3, \"AnzFaelle\": 23, \"StichtagDatJahr_str\": \"2017-01-01\"}, {\"StichtagDatJahr\": \"2017-01-01T00:00:00\", \"AnzKinder\": \"2\", \"AnzKinderCd\": 2, \"AnzFaelle\": 109, \"StichtagDatJahr_str\": \"2017-01-01\"}, {\"StichtagDatJahr\": \"2017-01-01T00:00:00\", \"AnzKinder\": \"1\", \"AnzKinderCd\": 1, \"AnzFaelle\": 234, \"StichtagDatJahr_str\": \"2017-01-01\"}, {\"StichtagDatJahr\": \"2017-01-01T00:00:00\", \"AnzKinder\": \"keine\", \"AnzKinderCd\": 0, \"AnzFaelle\": 881, \"StichtagDatJahr_str\": \"2017-01-01\"}, {\"StichtagDatJahr\": \"2016-01-01T00:00:00\", \"AnzKinder\": \"3\", \"AnzKinderCd\": 3, \"AnzFaelle\": 30, \"StichtagDatJahr_str\": \"2016-01-01\"}, {\"StichtagDatJahr\": \"2016-01-01T00:00:00\", \"AnzKinder\": \"keine\", \"AnzKinderCd\": 0, \"AnzFaelle\": 879, \"StichtagDatJahr_str\": \"2016-01-01\"}, {\"StichtagDatJahr\": \"2016-01-01T00:00:00\", \"AnzKinder\": \"1\", \"AnzKinderCd\": 1, \"AnzFaelle\": 219, \"StichtagDatJahr_str\": \"2016-01-01\"}, {\"StichtagDatJahr\": \"2016-01-01T00:00:00\", \"AnzKinder\": \"2\", \"AnzKinderCd\": 2, \"AnzFaelle\": 144, \"StichtagDatJahr_str\": \"2016-01-01\"}, {\"StichtagDatJahr\": \"2016-01-01T00:00:00\", \"AnzKinder\": \"4\", \"AnzKinderCd\": 4, \"AnzFaelle\": 4, \"StichtagDatJahr_str\": \"2016-01-01\"}, {\"StichtagDatJahr\": \"2016-01-01T00:00:00\", \"AnzKinder\": \"5\", \"AnzKinderCd\": 5, \"AnzFaelle\": 0, \"StichtagDatJahr_str\": \"2016-01-01\"}, {\"StichtagDatJahr\": \"2016-01-01T00:00:00\", \"AnzKinder\": \"6\", \"AnzKinderCd\": 6, \"AnzFaelle\": 0, \"StichtagDatJahr_str\": \"2016-01-01\"}, {\"StichtagDatJahr\": \"2016-01-01T00:00:00\", \"AnzKinder\": \"Unbekannt\", \"AnzKinderCd\": 7, \"AnzFaelle\": 0, \"StichtagDatJahr_str\": \"2016-01-01\"}, {\"StichtagDatJahr\": \"2015-01-01T00:00:00\", \"AnzKinder\": \"Unbekannt\", \"AnzKinderCd\": 7, \"AnzFaelle\": 0, \"StichtagDatJahr_str\": \"2015-01-01\"}, {\"StichtagDatJahr\": \"2015-01-01T00:00:00\", \"AnzKinder\": \"6\", \"AnzKinderCd\": 6, \"AnzFaelle\": 2, \"StichtagDatJahr_str\": \"2015-01-01\"}, {\"StichtagDatJahr\": \"2015-01-01T00:00:00\", \"AnzKinder\": \"5\", \"AnzKinderCd\": 5, \"AnzFaelle\": 0, \"StichtagDatJahr_str\": \"2015-01-01\"}, {\"StichtagDatJahr\": \"2015-01-01T00:00:00\", \"AnzKinder\": \"4\", \"AnzKinderCd\": 4, \"AnzFaelle\": 1, \"StichtagDatJahr_str\": \"2015-01-01\"}, {\"StichtagDatJahr\": \"2015-01-01T00:00:00\", \"AnzKinder\": \"3\", \"AnzKinderCd\": 3, \"AnzFaelle\": 24, \"StichtagDatJahr_str\": \"2015-01-01\"}, {\"StichtagDatJahr\": \"2015-01-01T00:00:00\", \"AnzKinder\": \"2\", \"AnzKinderCd\": 2, \"AnzFaelle\": 134, \"StichtagDatJahr_str\": \"2015-01-01\"}, {\"StichtagDatJahr\": \"2015-01-01T00:00:00\", \"AnzKinder\": \"1\", \"AnzKinderCd\": 1, \"AnzFaelle\": 200, \"StichtagDatJahr_str\": \"2015-01-01\"}, {\"StichtagDatJahr\": \"2015-01-01T00:00:00\", \"AnzKinder\": \"keine\", \"AnzKinderCd\": 0, \"AnzFaelle\": 936, \"StichtagDatJahr_str\": \"2015-01-01\"}, {\"StichtagDatJahr\": \"2014-01-01T00:00:00\", \"AnzKinder\": \"3\", \"AnzKinderCd\": 3, \"AnzFaelle\": 25, \"StichtagDatJahr_str\": \"2014-01-01\"}, {\"StichtagDatJahr\": \"2014-01-01T00:00:00\", \"AnzKinder\": \"keine\", \"AnzKinderCd\": 0, \"AnzFaelle\": 961, \"StichtagDatJahr_str\": \"2014-01-01\"}, {\"StichtagDatJahr\": \"2014-01-01T00:00:00\", \"AnzKinder\": \"1\", \"AnzKinderCd\": 1, \"AnzFaelle\": 211, \"StichtagDatJahr_str\": \"2014-01-01\"}, {\"StichtagDatJahr\": \"2014-01-01T00:00:00\", \"AnzKinder\": \"2\", \"AnzKinderCd\": 2, \"AnzFaelle\": 136, \"StichtagDatJahr_str\": \"2014-01-01\"}, {\"StichtagDatJahr\": \"2014-01-01T00:00:00\", \"AnzKinder\": \"Unbekannt\", \"AnzKinderCd\": 7, \"AnzFaelle\": 0, \"StichtagDatJahr_str\": \"2014-01-01\"}, {\"StichtagDatJahr\": \"2014-01-01T00:00:00\", \"AnzKinder\": \"4\", \"AnzKinderCd\": 4, \"AnzFaelle\": 1, \"StichtagDatJahr_str\": \"2014-01-01\"}, {\"StichtagDatJahr\": \"2014-01-01T00:00:00\", \"AnzKinder\": \"6\", \"AnzKinderCd\": 6, \"AnzFaelle\": 0, \"StichtagDatJahr_str\": \"2014-01-01\"}, {\"StichtagDatJahr\": \"2014-01-01T00:00:00\", \"AnzKinder\": \"5\", \"AnzKinderCd\": 5, \"AnzFaelle\": 0, \"StichtagDatJahr_str\": \"2014-01-01\"}, {\"StichtagDatJahr\": \"2013-01-01T00:00:00\", \"AnzKinder\": \"4\", \"AnzKinderCd\": 4, \"AnzFaelle\": 3, \"StichtagDatJahr_str\": \"2013-01-01\"}, {\"StichtagDatJahr\": \"2013-01-01T00:00:00\", \"AnzKinder\": \"1\", \"AnzKinderCd\": 1, \"AnzFaelle\": 248, \"StichtagDatJahr_str\": \"2013-01-01\"}, {\"StichtagDatJahr\": \"2013-01-01T00:00:00\", \"AnzKinder\": \"2\", \"AnzKinderCd\": 2, \"AnzFaelle\": 124, \"StichtagDatJahr_str\": \"2013-01-01\"}, {\"StichtagDatJahr\": \"2013-01-01T00:00:00\", \"AnzKinder\": \"3\", \"AnzKinderCd\": 3, \"AnzFaelle\": 8, \"StichtagDatJahr_str\": \"2013-01-01\"}, {\"StichtagDatJahr\": \"2013-01-01T00:00:00\", \"AnzKinder\": \"keine\", \"AnzKinderCd\": 0, \"AnzFaelle\": 1105, \"StichtagDatJahr_str\": \"2013-01-01\"}, {\"StichtagDatJahr\": \"2013-01-01T00:00:00\", \"AnzKinder\": \"5\", \"AnzKinderCd\": 5, \"AnzFaelle\": 0, \"StichtagDatJahr_str\": \"2013-01-01\"}, {\"StichtagDatJahr\": \"2013-01-01T00:00:00\", \"AnzKinder\": \"6\", \"AnzKinderCd\": 6, \"AnzFaelle\": 0, \"StichtagDatJahr_str\": \"2013-01-01\"}, {\"StichtagDatJahr\": \"2013-01-01T00:00:00\", \"AnzKinder\": \"Unbekannt\", \"AnzKinderCd\": 7, \"AnzFaelle\": 0, \"StichtagDatJahr_str\": \"2013-01-01\"}, {\"StichtagDatJahr\": \"2012-01-01T00:00:00\", \"AnzKinder\": \"Unbekannt\", \"AnzKinderCd\": 7, \"AnzFaelle\": 0, \"StichtagDatJahr_str\": \"2012-01-01\"}, {\"StichtagDatJahr\": \"2012-01-01T00:00:00\", \"AnzKinder\": \"6\", \"AnzKinderCd\": 6, \"AnzFaelle\": 0, \"StichtagDatJahr_str\": \"2012-01-01\"}, {\"StichtagDatJahr\": \"2012-01-01T00:00:00\", \"AnzKinder\": \"5\", \"AnzKinderCd\": 5, \"AnzFaelle\": 3, \"StichtagDatJahr_str\": \"2012-01-01\"}, {\"StichtagDatJahr\": \"2012-01-01T00:00:00\", \"AnzKinder\": \"4\", \"AnzKinderCd\": 4, \"AnzFaelle\": 2, \"StichtagDatJahr_str\": \"2012-01-01\"}, {\"StichtagDatJahr\": \"2012-01-01T00:00:00\", \"AnzKinder\": \"3\", \"AnzKinderCd\": 3, \"AnzFaelle\": 17, \"StichtagDatJahr_str\": \"2012-01-01\"}, {\"StichtagDatJahr\": \"2012-01-01T00:00:00\", \"AnzKinder\": \"2\", \"AnzKinderCd\": 2, \"AnzFaelle\": 128, \"StichtagDatJahr_str\": \"2012-01-01\"}, {\"StichtagDatJahr\": \"2012-01-01T00:00:00\", \"AnzKinder\": \"1\", \"AnzKinderCd\": 1, \"AnzFaelle\": 223, \"StichtagDatJahr_str\": \"2012-01-01\"}, {\"StichtagDatJahr\": \"2012-01-01T00:00:00\", \"AnzKinder\": \"keine\", \"AnzKinderCd\": 0, \"AnzFaelle\": 1000, \"StichtagDatJahr_str\": \"2012-01-01\"}, {\"StichtagDatJahr\": \"2011-01-01T00:00:00\", \"AnzKinder\": \"4\", \"AnzKinderCd\": 4, \"AnzFaelle\": 2, \"StichtagDatJahr_str\": \"2011-01-01\"}, {\"StichtagDatJahr\": \"2011-01-01T00:00:00\", \"AnzKinder\": \"1\", \"AnzKinderCd\": 1, \"AnzFaelle\": 213, \"StichtagDatJahr_str\": \"2011-01-01\"}, {\"StichtagDatJahr\": \"2011-01-01T00:00:00\", \"AnzKinder\": \"2\", \"AnzKinderCd\": 2, \"AnzFaelle\": 126, \"StichtagDatJahr_str\": \"2011-01-01\"}, {\"StichtagDatJahr\": \"2011-01-01T00:00:00\", \"AnzKinder\": \"3\", \"AnzKinderCd\": 3, \"AnzFaelle\": 29, \"StichtagDatJahr_str\": \"2011-01-01\"}, {\"StichtagDatJahr\": \"2011-01-01T00:00:00\", \"AnzKinder\": \"keine\", \"AnzKinderCd\": 0, \"AnzFaelle\": 1174, \"StichtagDatJahr_str\": \"2011-01-01\"}, {\"StichtagDatJahr\": \"2011-01-01T00:00:00\", \"AnzKinder\": \"5\", \"AnzKinderCd\": 5, \"AnzFaelle\": 0, \"StichtagDatJahr_str\": \"2011-01-01\"}, {\"StichtagDatJahr\": \"2011-01-01T00:00:00\", \"AnzKinder\": \"6\", \"AnzKinderCd\": 6, \"AnzFaelle\": 0, \"StichtagDatJahr_str\": \"2011-01-01\"}, {\"StichtagDatJahr\": \"2011-01-01T00:00:00\", \"AnzKinder\": \"Unbekannt\", \"AnzKinderCd\": 7, \"AnzFaelle\": 0, \"StichtagDatJahr_str\": \"2011-01-01\"}, {\"StichtagDatJahr\": \"2010-01-01T00:00:00\", \"AnzKinder\": \"Unbekannt\", \"AnzKinderCd\": 7, \"AnzFaelle\": 0, \"StichtagDatJahr_str\": \"2010-01-01\"}, {\"StichtagDatJahr\": \"2010-01-01T00:00:00\", \"AnzKinder\": \"6\", \"AnzKinderCd\": 6, \"AnzFaelle\": 0, \"StichtagDatJahr_str\": \"2010-01-01\"}, {\"StichtagDatJahr\": \"2010-01-01T00:00:00\", \"AnzKinder\": \"5\", \"AnzKinderCd\": 5, \"AnzFaelle\": 0, \"StichtagDatJahr_str\": \"2010-01-01\"}, {\"StichtagDatJahr\": \"2010-01-01T00:00:00\", \"AnzKinder\": \"4\", \"AnzKinderCd\": 4, \"AnzFaelle\": 3, \"StichtagDatJahr_str\": \"2010-01-01\"}, {\"StichtagDatJahr\": \"2010-01-01T00:00:00\", \"AnzKinder\": \"3\", \"AnzKinderCd\": 3, \"AnzFaelle\": 27, \"StichtagDatJahr_str\": \"2010-01-01\"}, {\"StichtagDatJahr\": \"2010-01-01T00:00:00\", \"AnzKinder\": \"2\", \"AnzKinderCd\": 2, \"AnzFaelle\": 159, \"StichtagDatJahr_str\": \"2010-01-01\"}, {\"StichtagDatJahr\": \"2010-01-01T00:00:00\", \"AnzKinder\": \"1\", \"AnzKinderCd\": 1, \"AnzFaelle\": 264, \"StichtagDatJahr_str\": \"2010-01-01\"}, {\"StichtagDatJahr\": \"2010-01-01T00:00:00\", \"AnzKinder\": \"keine\", \"AnzKinderCd\": 0, \"AnzFaelle\": 1538, \"StichtagDatJahr_str\": \"2010-01-01\"}, {\"StichtagDatJahr\": \"2009-01-01T00:00:00\", \"AnzKinder\": \"keine\", \"AnzKinderCd\": 0, \"AnzFaelle\": 1371, \"StichtagDatJahr_str\": \"2009-01-01\"}, {\"StichtagDatJahr\": \"2009-01-01T00:00:00\", \"AnzKinder\": \"1\", \"AnzKinderCd\": 1, \"AnzFaelle\": 230, \"StichtagDatJahr_str\": \"2009-01-01\"}, {\"StichtagDatJahr\": \"2009-01-01T00:00:00\", \"AnzKinder\": \"2\", \"AnzKinderCd\": 2, \"AnzFaelle\": 158, \"StichtagDatJahr_str\": \"2009-01-01\"}, {\"StichtagDatJahr\": \"2009-01-01T00:00:00\", \"AnzKinder\": \"3\", \"AnzKinderCd\": 3, \"AnzFaelle\": 18, \"StichtagDatJahr_str\": \"2009-01-01\"}, {\"StichtagDatJahr\": \"2009-01-01T00:00:00\", \"AnzKinder\": \"4\", \"AnzKinderCd\": 4, \"AnzFaelle\": 3, \"StichtagDatJahr_str\": \"2009-01-01\"}, {\"StichtagDatJahr\": \"2009-01-01T00:00:00\", \"AnzKinder\": \"5\", \"AnzKinderCd\": 5, \"AnzFaelle\": 0, \"StichtagDatJahr_str\": \"2009-01-01\"}, {\"StichtagDatJahr\": \"2009-01-01T00:00:00\", \"AnzKinder\": \"6\", \"AnzKinderCd\": 6, \"AnzFaelle\": 0, \"StichtagDatJahr_str\": \"2009-01-01\"}, {\"StichtagDatJahr\": \"2009-01-01T00:00:00\", \"AnzKinder\": \"Unbekannt\", \"AnzKinderCd\": 7, \"AnzFaelle\": 0, \"StichtagDatJahr_str\": \"2009-01-01\"}, {\"StichtagDatJahr\": \"2008-01-01T00:00:00\", \"AnzKinder\": \"Unbekannt\", \"AnzKinderCd\": 7, \"AnzFaelle\": 0, \"StichtagDatJahr_str\": \"2008-01-01\"}, {\"StichtagDatJahr\": \"2008-01-01T00:00:00\", \"AnzKinder\": \"6\", \"AnzKinderCd\": 6, \"AnzFaelle\": 0, \"StichtagDatJahr_str\": \"2008-01-01\"}, {\"StichtagDatJahr\": \"2008-01-01T00:00:00\", \"AnzKinder\": \"5\", \"AnzKinderCd\": 5, \"AnzFaelle\": 1, \"StichtagDatJahr_str\": \"2008-01-01\"}, {\"StichtagDatJahr\": \"2008-01-01T00:00:00\", \"AnzKinder\": \"4\", \"AnzKinderCd\": 4, \"AnzFaelle\": 2, \"StichtagDatJahr_str\": \"2008-01-01\"}, {\"StichtagDatJahr\": \"2008-01-01T00:00:00\", \"AnzKinder\": \"3\", \"AnzKinderCd\": 3, \"AnzFaelle\": 24, \"StichtagDatJahr_str\": \"2008-01-01\"}, {\"StichtagDatJahr\": \"2008-01-01T00:00:00\", \"AnzKinder\": \"2\", \"AnzKinderCd\": 2, \"AnzFaelle\": 144, \"StichtagDatJahr_str\": \"2008-01-01\"}, {\"StichtagDatJahr\": \"2008-01-01T00:00:00\", \"AnzKinder\": \"1\", \"AnzKinderCd\": 1, \"AnzFaelle\": 231, \"StichtagDatJahr_str\": \"2008-01-01\"}, {\"StichtagDatJahr\": \"2008-01-01T00:00:00\", \"AnzKinder\": \"keine\", \"AnzKinderCd\": 0, \"AnzFaelle\": 1185, \"StichtagDatJahr_str\": \"2008-01-01\"}, {\"StichtagDatJahr\": \"2007-01-01T00:00:00\", \"AnzKinder\": \"5\", \"AnzKinderCd\": 5, \"AnzFaelle\": 0, \"StichtagDatJahr_str\": \"2007-01-01\"}, {\"StichtagDatJahr\": \"2007-01-01T00:00:00\", \"AnzKinder\": \"Unbekannt\", \"AnzKinderCd\": 7, \"AnzFaelle\": 0, \"StichtagDatJahr_str\": \"2007-01-01\"}, {\"StichtagDatJahr\": \"2007-01-01T00:00:00\", \"AnzKinder\": \"6\", \"AnzKinderCd\": 6, \"AnzFaelle\": 0, \"StichtagDatJahr_str\": \"2007-01-01\"}, {\"StichtagDatJahr\": \"2007-01-01T00:00:00\", \"AnzKinder\": \"4\", \"AnzKinderCd\": 4, \"AnzFaelle\": 0, \"StichtagDatJahr_str\": \"2007-01-01\"}, {\"StichtagDatJahr\": \"2007-01-01T00:00:00\", \"AnzKinder\": \"3\", \"AnzKinderCd\": 3, \"AnzFaelle\": 25, \"StichtagDatJahr_str\": \"2007-01-01\"}, {\"StichtagDatJahr\": \"2007-01-01T00:00:00\", \"AnzKinder\": \"2\", \"AnzKinderCd\": 2, \"AnzFaelle\": 129, \"StichtagDatJahr_str\": \"2007-01-01\"}, {\"StichtagDatJahr\": \"2007-01-01T00:00:00\", \"AnzKinder\": \"1\", \"AnzKinderCd\": 1, \"AnzFaelle\": 249, \"StichtagDatJahr_str\": \"2007-01-01\"}, {\"StichtagDatJahr\": \"2007-01-01T00:00:00\", \"AnzKinder\": \"keine\", \"AnzKinderCd\": 0, \"AnzFaelle\": 1240, \"StichtagDatJahr_str\": \"2007-01-01\"}, {\"StichtagDatJahr\": \"2006-01-01T00:00:00\", \"AnzKinder\": \"4\", \"AnzKinderCd\": 4, \"AnzFaelle\": 0, \"StichtagDatJahr_str\": \"2006-01-01\"}, {\"StichtagDatJahr\": \"2006-01-01T00:00:00\", \"AnzKinder\": \"1\", \"AnzKinderCd\": 1, \"AnzFaelle\": 265, \"StichtagDatJahr_str\": \"2006-01-01\"}, {\"StichtagDatJahr\": \"2006-01-01T00:00:00\", \"AnzKinder\": \"2\", \"AnzKinderCd\": 2, \"AnzFaelle\": 154, \"StichtagDatJahr_str\": \"2006-01-01\"}, {\"StichtagDatJahr\": \"2006-01-01T00:00:00\", \"AnzKinder\": \"3\", \"AnzKinderCd\": 3, \"AnzFaelle\": 16, \"StichtagDatJahr_str\": \"2006-01-01\"}, {\"StichtagDatJahr\": \"2006-01-01T00:00:00\", \"AnzKinder\": \"keine\", \"AnzKinderCd\": 0, \"AnzFaelle\": 1354, \"StichtagDatJahr_str\": \"2006-01-01\"}, {\"StichtagDatJahr\": \"2006-01-01T00:00:00\", \"AnzKinder\": \"5\", \"AnzKinderCd\": 5, \"AnzFaelle\": 1, \"StichtagDatJahr_str\": \"2006-01-01\"}, {\"StichtagDatJahr\": \"2006-01-01T00:00:00\", \"AnzKinder\": \"6\", \"AnzKinderCd\": 6, \"AnzFaelle\": 0, \"StichtagDatJahr_str\": \"2006-01-01\"}, {\"StichtagDatJahr\": \"2006-01-01T00:00:00\", \"AnzKinder\": \"Unbekannt\", \"AnzKinderCd\": 7, \"AnzFaelle\": 0, \"StichtagDatJahr_str\": \"2006-01-01\"}, {\"StichtagDatJahr\": \"2005-01-01T00:00:00\", \"AnzKinder\": \"Unbekannt\", \"AnzKinderCd\": 7, \"AnzFaelle\": 0, \"StichtagDatJahr_str\": \"2005-01-01\"}, {\"StichtagDatJahr\": \"2005-01-01T00:00:00\", \"AnzKinder\": \"6\", \"AnzKinderCd\": 6, \"AnzFaelle\": 1, \"StichtagDatJahr_str\": \"2005-01-01\"}, {\"StichtagDatJahr\": \"2005-01-01T00:00:00\", \"AnzKinder\": \"5\", \"AnzKinderCd\": 5, \"AnzFaelle\": 0, \"StichtagDatJahr_str\": \"2005-01-01\"}, {\"StichtagDatJahr\": \"2005-01-01T00:00:00\", \"AnzKinder\": \"4\", \"AnzKinderCd\": 4, \"AnzFaelle\": 4, \"StichtagDatJahr_str\": \"2005-01-01\"}, {\"StichtagDatJahr\": \"2005-01-01T00:00:00\", \"AnzKinder\": \"3\", \"AnzKinderCd\": 3, \"AnzFaelle\": 24, \"StichtagDatJahr_str\": \"2005-01-01\"}, {\"StichtagDatJahr\": \"2005-01-01T00:00:00\", \"AnzKinder\": \"2\", \"AnzKinderCd\": 2, \"AnzFaelle\": 205, \"StichtagDatJahr_str\": \"2005-01-01\"}, {\"StichtagDatJahr\": \"2005-01-01T00:00:00\", \"AnzKinder\": \"1\", \"AnzKinderCd\": 1, \"AnzFaelle\": 303, \"StichtagDatJahr_str\": \"2005-01-01\"}, {\"StichtagDatJahr\": \"2005-01-01T00:00:00\", \"AnzKinder\": \"keine\", \"AnzKinderCd\": 0, \"AnzFaelle\": 1319, \"StichtagDatJahr_str\": \"2005-01-01\"}, {\"StichtagDatJahr\": \"2004-01-01T00:00:00\", \"AnzKinder\": \"4\", \"AnzKinderCd\": 4, \"AnzFaelle\": 1, \"StichtagDatJahr_str\": \"2004-01-01\"}, {\"StichtagDatJahr\": \"2004-01-01T00:00:00\", \"AnzKinder\": \"1\", \"AnzKinderCd\": 1, \"AnzFaelle\": 238, \"StichtagDatJahr_str\": \"2004-01-01\"}, {\"StichtagDatJahr\": \"2004-01-01T00:00:00\", \"AnzKinder\": \"2\", \"AnzKinderCd\": 2, \"AnzFaelle\": 153, \"StichtagDatJahr_str\": \"2004-01-01\"}, {\"StichtagDatJahr\": \"2004-01-01T00:00:00\", \"AnzKinder\": \"3\", \"AnzKinderCd\": 3, \"AnzFaelle\": 27, \"StichtagDatJahr_str\": \"2004-01-01\"}, {\"StichtagDatJahr\": \"2004-01-01T00:00:00\", \"AnzKinder\": \"keine\", \"AnzKinderCd\": 0, \"AnzFaelle\": 1160, \"StichtagDatJahr_str\": \"2004-01-01\"}, {\"StichtagDatJahr\": \"2004-01-01T00:00:00\", \"AnzKinder\": \"5\", \"AnzKinderCd\": 5, \"AnzFaelle\": 1, \"StichtagDatJahr_str\": \"2004-01-01\"}, {\"StichtagDatJahr\": \"2004-01-01T00:00:00\", \"AnzKinder\": \"6\", \"AnzKinderCd\": 6, \"AnzFaelle\": 1, \"StichtagDatJahr_str\": \"2004-01-01\"}, {\"StichtagDatJahr\": \"2004-01-01T00:00:00\", \"AnzKinder\": \"Unbekannt\", \"AnzKinderCd\": 7, \"AnzFaelle\": 0, \"StichtagDatJahr_str\": \"2004-01-01\"}, {\"StichtagDatJahr\": \"2003-01-01T00:00:00\", \"AnzKinder\": \"Unbekannt\", \"AnzKinderCd\": 7, \"AnzFaelle\": 0, \"StichtagDatJahr_str\": \"2003-01-01\"}, {\"StichtagDatJahr\": \"2003-01-01T00:00:00\", \"AnzKinder\": \"6\", \"AnzKinderCd\": 6, \"AnzFaelle\": 0, \"StichtagDatJahr_str\": \"2003-01-01\"}, {\"StichtagDatJahr\": \"2003-01-01T00:00:00\", \"AnzKinder\": \"5\", \"AnzKinderCd\": 5, \"AnzFaelle\": 0, \"StichtagDatJahr_str\": \"2003-01-01\"}, {\"StichtagDatJahr\": \"2003-01-01T00:00:00\", \"AnzKinder\": \"4\", \"AnzKinderCd\": 4, \"AnzFaelle\": 4, \"StichtagDatJahr_str\": \"2003-01-01\"}, {\"StichtagDatJahr\": \"2003-01-01T00:00:00\", \"AnzKinder\": \"3\", \"AnzKinderCd\": 3, \"AnzFaelle\": 30, \"StichtagDatJahr_str\": \"2003-01-01\"}, {\"StichtagDatJahr\": \"2003-01-01T00:00:00\", \"AnzKinder\": \"2\", \"AnzKinderCd\": 2, \"AnzFaelle\": 174, \"StichtagDatJahr_str\": \"2003-01-01\"}, {\"StichtagDatJahr\": \"2003-01-01T00:00:00\", \"AnzKinder\": \"1\", \"AnzKinderCd\": 1, \"AnzFaelle\": 208, \"StichtagDatJahr_str\": \"2003-01-01\"}, {\"StichtagDatJahr\": \"2003-01-01T00:00:00\", \"AnzKinder\": \"keine\", \"AnzKinderCd\": 0, \"AnzFaelle\": 1129, \"StichtagDatJahr_str\": \"2003-01-01\"}, {\"StichtagDatJahr\": \"2002-01-01T00:00:00\", \"AnzKinder\": \"keine\", \"AnzKinderCd\": 0, \"AnzFaelle\": 1205, \"StichtagDatJahr_str\": \"2002-01-01\"}, {\"StichtagDatJahr\": \"2002-01-01T00:00:00\", \"AnzKinder\": \"1\", \"AnzKinderCd\": 1, \"AnzFaelle\": 265, \"StichtagDatJahr_str\": \"2002-01-01\"}, {\"StichtagDatJahr\": \"2002-01-01T00:00:00\", \"AnzKinder\": \"2\", \"AnzKinderCd\": 2, \"AnzFaelle\": 171, \"StichtagDatJahr_str\": \"2002-01-01\"}, {\"StichtagDatJahr\": \"2002-01-01T00:00:00\", \"AnzKinder\": \"3\", \"AnzKinderCd\": 3, \"AnzFaelle\": 29, \"StichtagDatJahr_str\": \"2002-01-01\"}, {\"StichtagDatJahr\": \"2002-01-01T00:00:00\", \"AnzKinder\": \"4\", \"AnzKinderCd\": 4, \"AnzFaelle\": 0, \"StichtagDatJahr_str\": \"2002-01-01\"}, {\"StichtagDatJahr\": \"2002-01-01T00:00:00\", \"AnzKinder\": \"5\", \"AnzKinderCd\": 5, \"AnzFaelle\": 0, \"StichtagDatJahr_str\": \"2002-01-01\"}, {\"StichtagDatJahr\": \"2002-01-01T00:00:00\", \"AnzKinder\": \"6\", \"AnzKinderCd\": 6, \"AnzFaelle\": 0, \"StichtagDatJahr_str\": \"2002-01-01\"}, {\"StichtagDatJahr\": \"2002-01-01T00:00:00\", \"AnzKinder\": \"Unbekannt\", \"AnzKinderCd\": 7, \"AnzFaelle\": 3, \"StichtagDatJahr_str\": \"2002-01-01\"}, {\"StichtagDatJahr\": \"2001-01-01T00:00:00\", \"AnzKinder\": \"Unbekannt\", \"AnzKinderCd\": 7, \"AnzFaelle\": 6, \"StichtagDatJahr_str\": \"2001-01-01\"}, {\"StichtagDatJahr\": \"2001-01-01T00:00:00\", \"AnzKinder\": \"6\", \"AnzKinderCd\": 6, \"AnzFaelle\": 0, \"StichtagDatJahr_str\": \"2001-01-01\"}, {\"StichtagDatJahr\": \"2001-01-01T00:00:00\", \"AnzKinder\": \"5\", \"AnzKinderCd\": 5, \"AnzFaelle\": 1, \"StichtagDatJahr_str\": \"2001-01-01\"}, {\"StichtagDatJahr\": \"2001-01-01T00:00:00\", \"AnzKinder\": \"4\", \"AnzKinderCd\": 4, \"AnzFaelle\": 3, \"StichtagDatJahr_str\": \"2001-01-01\"}, {\"StichtagDatJahr\": \"2001-01-01T00:00:00\", \"AnzKinder\": \"3\", \"AnzKinderCd\": 3, \"AnzFaelle\": 38, \"StichtagDatJahr_str\": \"2001-01-01\"}, {\"StichtagDatJahr\": \"2001-01-01T00:00:00\", \"AnzKinder\": \"2\", \"AnzKinderCd\": 2, \"AnzFaelle\": 110, \"StichtagDatJahr_str\": \"2001-01-01\"}, {\"StichtagDatJahr\": \"2001-01-01T00:00:00\", \"AnzKinder\": \"1\", \"AnzKinderCd\": 1, \"AnzFaelle\": 157, \"StichtagDatJahr_str\": \"2001-01-01\"}, {\"StichtagDatJahr\": \"2001-01-01T00:00:00\", \"AnzKinder\": \"keine\", \"AnzKinderCd\": 0, \"AnzFaelle\": 792, \"StichtagDatJahr_str\": \"2001-01-01\"}, {\"StichtagDatJahr\": \"2000-01-01T00:00:00\", \"AnzKinder\": \"3\", \"AnzKinderCd\": 3, \"AnzFaelle\": 23, \"StichtagDatJahr_str\": \"2000-01-01\"}, {\"StichtagDatJahr\": \"2000-01-01T00:00:00\", \"AnzKinder\": \"keine\", \"AnzKinderCd\": 0, \"AnzFaelle\": 781, \"StichtagDatJahr_str\": \"2000-01-01\"}, {\"StichtagDatJahr\": \"2000-01-01T00:00:00\", \"AnzKinder\": \"1\", \"AnzKinderCd\": 1, \"AnzFaelle\": 185, \"StichtagDatJahr_str\": \"2000-01-01\"}, {\"StichtagDatJahr\": \"2000-01-01T00:00:00\", \"AnzKinder\": \"2\", \"AnzKinderCd\": 2, \"AnzFaelle\": 140, \"StichtagDatJahr_str\": \"2000-01-01\"}, {\"StichtagDatJahr\": \"2000-01-01T00:00:00\", \"AnzKinder\": \"5\", \"AnzKinderCd\": 5, \"AnzFaelle\": 1, \"StichtagDatJahr_str\": \"2000-01-01\"}, {\"StichtagDatJahr\": \"2000-01-01T00:00:00\", \"AnzKinder\": \"4\", \"AnzKinderCd\": 4, \"AnzFaelle\": 10, \"StichtagDatJahr_str\": \"2000-01-01\"}, {\"StichtagDatJahr\": \"2000-01-01T00:00:00\", \"AnzKinder\": \"6\", \"AnzKinderCd\": 6, \"AnzFaelle\": 0, \"StichtagDatJahr_str\": \"2000-01-01\"}, {\"StichtagDatJahr\": \"2000-01-01T00:00:00\", \"AnzKinder\": \"Unbekannt\", \"AnzKinderCd\": 7, \"AnzFaelle\": 0, \"StichtagDatJahr_str\": \"2000-01-01\"}, {\"StichtagDatJahr\": \"1999-01-01T00:00:00\", \"AnzKinder\": \"4\", \"AnzKinderCd\": 4, \"AnzFaelle\": 9, \"StichtagDatJahr_str\": \"1999-01-01\"}, {\"StichtagDatJahr\": \"1999-01-01T00:00:00\", \"AnzKinder\": \"1\", \"AnzKinderCd\": 1, \"AnzFaelle\": 257, \"StichtagDatJahr_str\": \"1999-01-01\"}, {\"StichtagDatJahr\": \"1999-01-01T00:00:00\", \"AnzKinder\": \"2\", \"AnzKinderCd\": 2, \"AnzFaelle\": 204, \"StichtagDatJahr_str\": \"1999-01-01\"}, {\"StichtagDatJahr\": \"1999-01-01T00:00:00\", \"AnzKinder\": \"3\", \"AnzKinderCd\": 3, \"AnzFaelle\": 28, \"StichtagDatJahr_str\": \"1999-01-01\"}, {\"StichtagDatJahr\": \"1999-01-01T00:00:00\", \"AnzKinder\": \"keine\", \"AnzKinderCd\": 0, \"AnzFaelle\": 1127, \"StichtagDatJahr_str\": \"1999-01-01\"}, {\"StichtagDatJahr\": \"1999-01-01T00:00:00\", \"AnzKinder\": \"5\", \"AnzKinderCd\": 5, \"AnzFaelle\": 2, \"StichtagDatJahr_str\": \"1999-01-01\"}, {\"StichtagDatJahr\": \"1999-01-01T00:00:00\", \"AnzKinder\": \"6\", \"AnzKinderCd\": 6, \"AnzFaelle\": 0, \"StichtagDatJahr_str\": \"1999-01-01\"}, {\"StichtagDatJahr\": \"1999-01-01T00:00:00\", \"AnzKinder\": \"Unbekannt\", \"AnzKinderCd\": 7, \"AnzFaelle\": 1, \"StichtagDatJahr_str\": \"1999-01-01\"}, {\"StichtagDatJahr\": \"1998-01-01T00:00:00\", \"AnzKinder\": \"Unbekannt\", \"AnzKinderCd\": 7, \"AnzFaelle\": 4, \"StichtagDatJahr_str\": \"1998-01-01\"}, {\"StichtagDatJahr\": \"1998-01-01T00:00:00\", \"AnzKinder\": \"6\", \"AnzKinderCd\": 6, \"AnzFaelle\": 0, \"StichtagDatJahr_str\": \"1998-01-01\"}, {\"StichtagDatJahr\": \"1998-01-01T00:00:00\", \"AnzKinder\": \"5\", \"AnzKinderCd\": 5, \"AnzFaelle\": 1, \"StichtagDatJahr_str\": \"1998-01-01\"}, {\"StichtagDatJahr\": \"1998-01-01T00:00:00\", \"AnzKinder\": \"4\", \"AnzKinderCd\": 4, \"AnzFaelle\": 6, \"StichtagDatJahr_str\": \"1998-01-01\"}, {\"StichtagDatJahr\": \"1998-01-01T00:00:00\", \"AnzKinder\": \"3\", \"AnzKinderCd\": 3, \"AnzFaelle\": 41, \"StichtagDatJahr_str\": \"1998-01-01\"}, {\"StichtagDatJahr\": \"1998-01-01T00:00:00\", \"AnzKinder\": \"2\", \"AnzKinderCd\": 2, \"AnzFaelle\": 207, \"StichtagDatJahr_str\": \"1998-01-01\"}, {\"StichtagDatJahr\": \"1998-01-01T00:00:00\", \"AnzKinder\": \"1\", \"AnzKinderCd\": 1, \"AnzFaelle\": 288, \"StichtagDatJahr_str\": \"1998-01-01\"}, {\"StichtagDatJahr\": \"1998-01-01T00:00:00\", \"AnzKinder\": \"keine\", \"AnzKinderCd\": 0, \"AnzFaelle\": 1090, \"StichtagDatJahr_str\": \"1998-01-01\"}, {\"StichtagDatJahr\": \"1997-01-01T00:00:00\", \"AnzKinder\": \"4\", \"AnzKinderCd\": 4, \"AnzFaelle\": 6, \"StichtagDatJahr_str\": \"1997-01-01\"}, {\"StichtagDatJahr\": \"1997-01-01T00:00:00\", \"AnzKinder\": \"1\", \"AnzKinderCd\": 1, \"AnzFaelle\": 279, \"StichtagDatJahr_str\": \"1997-01-01\"}, {\"StichtagDatJahr\": \"1997-01-01T00:00:00\", \"AnzKinder\": \"2\", \"AnzKinderCd\": 2, \"AnzFaelle\": 172, \"StichtagDatJahr_str\": \"1997-01-01\"}, {\"StichtagDatJahr\": \"1997-01-01T00:00:00\", \"AnzKinder\": \"3\", \"AnzKinderCd\": 3, \"AnzFaelle\": 37, \"StichtagDatJahr_str\": \"1997-01-01\"}, {\"StichtagDatJahr\": \"1997-01-01T00:00:00\", \"AnzKinder\": \"keine\", \"AnzKinderCd\": 0, \"AnzFaelle\": 1057, \"StichtagDatJahr_str\": \"1997-01-01\"}, {\"StichtagDatJahr\": \"1997-01-01T00:00:00\", \"AnzKinder\": \"5\", \"AnzKinderCd\": 5, \"AnzFaelle\": 0, \"StichtagDatJahr_str\": \"1997-01-01\"}, {\"StichtagDatJahr\": \"1997-01-01T00:00:00\", \"AnzKinder\": \"6\", \"AnzKinderCd\": 6, \"AnzFaelle\": 0, \"StichtagDatJahr_str\": \"1997-01-01\"}, {\"StichtagDatJahr\": \"1997-01-01T00:00:00\", \"AnzKinder\": \"Unbekannt\", \"AnzKinderCd\": 7, \"AnzFaelle\": 6, \"StichtagDatJahr_str\": \"1997-01-01\"}, {\"StichtagDatJahr\": \"1996-01-01T00:00:00\", \"AnzKinder\": \"Unbekannt\", \"AnzKinderCd\": 7, \"AnzFaelle\": 7, \"StichtagDatJahr_str\": \"1996-01-01\"}, {\"StichtagDatJahr\": \"1996-01-01T00:00:00\", \"AnzKinder\": \"6\", \"AnzKinderCd\": 6, \"AnzFaelle\": 0, \"StichtagDatJahr_str\": \"1996-01-01\"}, {\"StichtagDatJahr\": \"1996-01-01T00:00:00\", \"AnzKinder\": \"5\", \"AnzKinderCd\": 5, \"AnzFaelle\": 2, \"StichtagDatJahr_str\": \"1996-01-01\"}, {\"StichtagDatJahr\": \"1996-01-01T00:00:00\", \"AnzKinder\": \"4\", \"AnzKinderCd\": 4, \"AnzFaelle\": 8, \"StichtagDatJahr_str\": \"1996-01-01\"}, {\"StichtagDatJahr\": \"1996-01-01T00:00:00\", \"AnzKinder\": \"3\", \"AnzKinderCd\": 3, \"AnzFaelle\": 42, \"StichtagDatJahr_str\": \"1996-01-01\"}, {\"StichtagDatJahr\": \"1996-01-01T00:00:00\", \"AnzKinder\": \"2\", \"AnzKinderCd\": 2, \"AnzFaelle\": 210, \"StichtagDatJahr_str\": \"1996-01-01\"}, {\"StichtagDatJahr\": \"1996-01-01T00:00:00\", \"AnzKinder\": \"1\", \"AnzKinderCd\": 1, \"AnzFaelle\": 299, \"StichtagDatJahr_str\": \"1996-01-01\"}, {\"StichtagDatJahr\": \"1996-01-01T00:00:00\", \"AnzKinder\": \"keine\", \"AnzKinderCd\": 0, \"AnzFaelle\": 985, \"StichtagDatJahr_str\": \"1996-01-01\"}, {\"StichtagDatJahr\": \"1995-01-01T00:00:00\", \"AnzKinder\": \"keine\", \"AnzKinderCd\": 0, \"AnzFaelle\": 959, \"StichtagDatJahr_str\": \"1995-01-01\"}, {\"StichtagDatJahr\": \"1995-01-01T00:00:00\", \"AnzKinder\": \"1\", \"AnzKinderCd\": 1, \"AnzFaelle\": 284, \"StichtagDatJahr_str\": \"1995-01-01\"}, {\"StichtagDatJahr\": \"1995-01-01T00:00:00\", \"AnzKinder\": \"2\", \"AnzKinderCd\": 2, \"AnzFaelle\": 204, \"StichtagDatJahr_str\": \"1995-01-01\"}, {\"StichtagDatJahr\": \"1995-01-01T00:00:00\", \"AnzKinder\": \"3\", \"AnzKinderCd\": 3, \"AnzFaelle\": 28, \"StichtagDatJahr_str\": \"1995-01-01\"}, {\"StichtagDatJahr\": \"1995-01-01T00:00:00\", \"AnzKinder\": \"4\", \"AnzKinderCd\": 4, \"AnzFaelle\": 9, \"StichtagDatJahr_str\": \"1995-01-01\"}, {\"StichtagDatJahr\": \"1995-01-01T00:00:00\", \"AnzKinder\": \"5\", \"AnzKinderCd\": 5, \"AnzFaelle\": 1, \"StichtagDatJahr_str\": \"1995-01-01\"}, {\"StichtagDatJahr\": \"1995-01-01T00:00:00\", \"AnzKinder\": \"6\", \"AnzKinderCd\": 6, \"AnzFaelle\": 1, \"StichtagDatJahr_str\": \"1995-01-01\"}, {\"StichtagDatJahr\": \"1995-01-01T00:00:00\", \"AnzKinder\": \"Unbekannt\", \"AnzKinderCd\": 7, \"AnzFaelle\": 2, \"StichtagDatJahr_str\": \"1995-01-01\"}, {\"StichtagDatJahr\": \"1994-01-01T00:00:00\", \"AnzKinder\": \"Unbekannt\", \"AnzKinderCd\": 7, \"AnzFaelle\": 1, \"StichtagDatJahr_str\": \"1994-01-01\"}, {\"StichtagDatJahr\": \"1994-01-01T00:00:00\", \"AnzKinder\": \"6\", \"AnzKinderCd\": 6, \"AnzFaelle\": 0, \"StichtagDatJahr_str\": \"1994-01-01\"}, {\"StichtagDatJahr\": \"1994-01-01T00:00:00\", \"AnzKinder\": \"5\", \"AnzKinderCd\": 5, \"AnzFaelle\": 1, \"StichtagDatJahr_str\": \"1994-01-01\"}, {\"StichtagDatJahr\": \"1994-01-01T00:00:00\", \"AnzKinder\": \"4\", \"AnzKinderCd\": 4, \"AnzFaelle\": 5, \"StichtagDatJahr_str\": \"1994-01-01\"}, {\"StichtagDatJahr\": \"1994-01-01T00:00:00\", \"AnzKinder\": \"3\", \"AnzKinderCd\": 3, \"AnzFaelle\": 30, \"StichtagDatJahr_str\": \"1994-01-01\"}, {\"StichtagDatJahr\": \"1994-01-01T00:00:00\", \"AnzKinder\": \"2\", \"AnzKinderCd\": 2, \"AnzFaelle\": 186, \"StichtagDatJahr_str\": \"1994-01-01\"}, {\"StichtagDatJahr\": \"1994-01-01T00:00:00\", \"AnzKinder\": \"1\", \"AnzKinderCd\": 1, \"AnzFaelle\": 270, \"StichtagDatJahr_str\": \"1994-01-01\"}, {\"StichtagDatJahr\": \"1994-01-01T00:00:00\", \"AnzKinder\": \"keine\", \"AnzKinderCd\": 0, \"AnzFaelle\": 962, \"StichtagDatJahr_str\": \"1994-01-01\"}, {\"StichtagDatJahr\": \"1993-01-01T00:00:00\", \"AnzKinder\": \"4\", \"AnzKinderCd\": 4, \"AnzFaelle\": 8, \"StichtagDatJahr_str\": \"1993-01-01\"}, {\"StichtagDatJahr\": \"1993-01-01T00:00:00\", \"AnzKinder\": \"2\", \"AnzKinderCd\": 2, \"AnzFaelle\": 217, \"StichtagDatJahr_str\": \"1993-01-01\"}, {\"StichtagDatJahr\": \"1993-01-01T00:00:00\", \"AnzKinder\": \"3\", \"AnzKinderCd\": 3, \"AnzFaelle\": 26, \"StichtagDatJahr_str\": \"1993-01-01\"}, {\"StichtagDatJahr\": \"1993-01-01T00:00:00\", \"AnzKinder\": \"1\", \"AnzKinderCd\": 1, \"AnzFaelle\": 257, \"StichtagDatJahr_str\": \"1993-01-01\"}, {\"StichtagDatJahr\": \"1993-01-01T00:00:00\", \"AnzKinder\": \"5\", \"AnzKinderCd\": 5, \"AnzFaelle\": 0, \"StichtagDatJahr_str\": \"1993-01-01\"}, {\"StichtagDatJahr\": \"1993-01-01T00:00:00\", \"AnzKinder\": \"6\", \"AnzKinderCd\": 6, \"AnzFaelle\": 0, \"StichtagDatJahr_str\": \"1993-01-01\"}, {\"StichtagDatJahr\": \"1993-01-01T00:00:00\", \"AnzKinder\": \"Unbekannt\", \"AnzKinderCd\": 7, \"AnzFaelle\": 0, \"StichtagDatJahr_str\": \"1993-01-01\"}, {\"StichtagDatJahr\": \"1993-01-01T00:00:00\", \"AnzKinder\": \"keine\", \"AnzKinderCd\": 0, \"AnzFaelle\": 967, \"StichtagDatJahr_str\": \"1993-01-01\"}]}}, {\"mode\": \"vega-lite\"});\n",
       "</script>"
      ],
      "text/plain": [
       "alt.Chart(...)"
      ]
     },
     "execution_count": 52,
     "metadata": {},
     "output_type": "execute_result"
    }
   ],
   "source": [
    "alt.Chart(data2betested.reset_index()).mark_circle(size=60).encode(\n",
    "    x='StichtagDatJahr',\n",
    "    y='AnzFaelle',\n",
    "    #color='AnzNat',\n",
    "    #color=alt.Color('AnzNat', scale=alt.Scale(scheme='greens')),\n",
    "    color=alt.Color('AnzKinder', scale=alt.Scale(scheme='dark2')),\n",
    "    tooltip=['StichtagDatJahr','AnzKinder','AnzFaelle']\n",
    ").interactive() # this makes the axes interactive: now you can zoom & pan\n",
    "\n",
    "\n"
   ]
  },
  {
   "cell_type": "markdown",
   "metadata": {},
   "source": [
    "**Sharepoint als gecheckt markieren!**"
   ]
  },
  {
   "cell_type": "markdown",
   "metadata": {},
   "source": [
    "Record auf Sharepoint: **[Link](https://kollaboration.intranet.stzh.ch/orga/ssz-produkte/Lists/SASA_Outputs/DispForm.aspx?ID=201&ContentTypeId=0x0100988EAF029F1EFE4CA675F53C32A5D53D01006DBC563E6FBE9E4EB6FDC780799752E1)**"
   ]
  },
  {
   "cell_type": "raw",
   "metadata": {},
   "source": []
  },
  {
   "cell_type": "code",
   "execution_count": null,
   "metadata": {},
   "outputs": [],
   "source": []
  }
 ],
 "metadata": {
  "kernelspec": {
   "display_name": "Python 3 (ipykernel)",
   "language": "python",
   "name": "python3"
  },
  "language_info": {
   "codemirror_mode": {
    "name": "ipython",
    "version": 3
   },
   "file_extension": ".py",
   "mimetype": "text/x-python",
   "name": "python",
   "nbconvert_exporter": "python",
   "pygments_lexer": "ipython3",
   "version": "3.7.11"
  }
 },
 "nbformat": 4,
 "nbformat_minor": 4
}
