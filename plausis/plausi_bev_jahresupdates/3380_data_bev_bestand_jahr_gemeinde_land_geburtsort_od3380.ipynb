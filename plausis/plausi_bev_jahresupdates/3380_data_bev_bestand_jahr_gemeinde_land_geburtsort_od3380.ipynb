{
 "cells": [
  {
   "cell_type": "markdown",
   "metadata": {},
   "source": [
    "# Testing\n",
    "## Bevölkerung nach Geburtsort und Geburtsland\n",
    "\n",
    "Beschreibung\n",
    "Wirtschaftliche Wohnbevölkerung der Stadt Zürich nach Geburtsort und Geburtsland. Personen, die im Ausland geboren sind, haben lediglich Angaben zum Geburtsland. Bei den in der Schweiz geborenen, werden die Geburtsorte auf Gemeindeebene angegeben. Die Gemeindekoordinatenpunkte werden ebenfalls mitgeliefert.\n",
    "\n",
    "Datum: 15.03.2022\n",
    "\n",
    "Am **19.9.2022** hat Philipp für APD entschieden, dass künftig **keine Koordinaten** für die Gemeindemittelpunkte mehr mitgeliefert werden. Dies kann mit LOD ja unterdessen einfach von Swisstopo bezogen werden. \n",
    "\n"
   ]
  },
  {
   "cell_type": "markdown",
   "metadata": {},
   "source": [
    "### Importiere die notwendigen Packages"
   ]
  },
  {
   "cell_type": "code",
   "execution_count": 1,
   "metadata": {},
   "outputs": [],
   "source": [
    "#%pip install geopandas altair fiona requests folium mplleaflet contextily seaborn datetime plotly leafmap"
   ]
  },
  {
   "cell_type": "code",
   "execution_count": 2,
   "metadata": {},
   "outputs": [],
   "source": [
    "import pandas as pd\n",
    "import pivottablejs\n",
    "from pivottablejs import pivot_ui\n",
    "import numpy as np\n",
    "import altair as alt\n",
    "import matplotlib.pyplot as plt\n",
    "\n",
    "import datetime\n",
    "import geopandas as gpd\n",
    "import folium \n",
    "import plotly.express as px\n",
    "import seaborn as sns\n",
    "import leafmap\n",
    "\n",
    "import requests\n",
    "import io\n"
   ]
  },
  {
   "cell_type": "code",
   "execution_count": 3,
   "metadata": {},
   "outputs": [],
   "source": [
    "SSL_VERIFY = False\n",
    "# evtl. SSL_VERIFY auf False setzen wenn die Verbindung zu https://www.gemeinderat-zuerich.ch nicht klappt (z.B. wegen Proxy)\n",
    "# Um die SSL Verifikation auszustellen, bitte die nächste Zeile einkommentieren (\"#\" entfernen)\n",
    "# SSL_VERIFY = False"
   ]
  },
  {
   "cell_type": "code",
   "execution_count": 4,
   "metadata": {},
   "outputs": [],
   "source": [
    "if not SSL_VERIFY:\n",
    "    import urllib3\n",
    "    urllib3.disable_warnings()"
   ]
  },
  {
   "cell_type": "markdown",
   "metadata": {},
   "source": [
    "Definiere Settings. Hier das Zahlenformat von Float-Werten (z.B. *'{:,.2f}'.format* mit Komma als Tausenderzeichen), "
   ]
  },
  {
   "cell_type": "code",
   "execution_count": 5,
   "metadata": {},
   "outputs": [],
   "source": [
    "#pd.options.display.float_format = lambda x : '{:,.1f}'.format(x) if (np.isnan(x) | np.isinf(x)) else '{:,.0f}'.format(x) if int(x) == x else '{:,.1f}'.format(x)\n",
    "pd.options.display.float_format = '{:.0f}'.format\n",
    "pd.set_option('display.width', 100)\n",
    "pd.set_option('display.max_columns', 15)"
   ]
  },
  {
   "cell_type": "markdown",
   "metadata": {},
   "source": [
    "### Zeitvariabeln\n",
    "Bestimme den aktuellst geladenen Monat. Hier ist es der Stand vor 2 Monaten. \n",
    "Bestimme noch weitere evt. sinnvolle Zeitvariabeln.\n",
    "\n",
    "Zum Unterschied zwischen import datetime und from datedtime import datetime, siehe https://stackoverflow.com/questions/15707532/import-datetime-v-s-from-datetime-import-datetime\n",
    "\n",
    "Zuerst die Zeitvariabeln als Strings"
   ]
  },
  {
   "cell_type": "code",
   "execution_count": 6,
   "metadata": {},
   "outputs": [],
   "source": [
    "#today_date = datetime.date.today()\n",
    "#date_time = datetime.datetime.strptime(date_time_string, '%Y-%m-%d %H:%M')\n",
    "now = datetime.date.today()\n",
    "date_today = now.strftime(\"%Y-%m-%d\")\n",
    "year_today = now.strftime(\"%Y\")\n",
    "month_today = now.strftime(\"%m\")\n",
    "day_today = now.strftime(\"%d\")\n"
   ]
  },
  {
   "cell_type": "markdown",
   "metadata": {},
   "source": [
    "Und hier noch die Zeitvariabeln als Integers:\n",
    "- `aktuellesJahr`\n",
    "- `aktuellerMonat`: Der gerade jetzt aktuelle Monat\n",
    "- `selectedMonat`: Der aktuellste Monat in den Daten. In der Regel zwei Monate her."
   ]
  },
  {
   "cell_type": "code",
   "execution_count": 7,
   "metadata": {},
   "outputs": [
    {
     "name": "stdout",
     "output_type": "stream",
     "text": [
      "2022 9 datenstand:  7 time.struct_time(tm_year=2022, tm_mon=9, tm_mday=19, tm_hour=0, tm_min=0, tm_sec=0, tm_wday=0, tm_yday=262, tm_isdst=-1)\n"
     ]
    }
   ],
   "source": [
    "#now = datetime.now() \n",
    "int_times = now.timetuple()\n",
    "\n",
    "aktuellesJahr = int_times[0]\n",
    "aktuellerMonat = int_times[1]\n",
    "selectedMonat = int_times[1]-2\n",
    "\n",
    "print(aktuellesJahr, \n",
    "      aktuellerMonat,\n",
    "    'datenstand: ', selectedMonat,\n",
    "     int_times)\n"
   ]
  },
  {
   "cell_type": "markdown",
   "metadata": {},
   "source": [
    "Berechne die Variable Epoche um später das SAS-Datum in ein Unix-Datum umzuwandeln. Bei SAS beginnt die Epoche am 1.1.1960. Bei Unix am 1.1.1970.\n",
    "Diese Variable wird beim CSV-Import benötigt."
   ]
  },
  {
   "cell_type": "code",
   "execution_count": 8,
   "metadata": {},
   "outputs": [],
   "source": [
    "epoch = datetime.datetime(1960, 1, 1)"
   ]
  },
  {
   "cell_type": "markdown",
   "metadata": {},
   "source": [
    "### Setze einige Pfadvariabeln"
   ]
  },
  {
   "cell_type": "markdown",
   "metadata": {
    "tags": []
   },
   "source": [
    "- Der Packagename ist eigentlich der **Verzeichnisname** unter dem die Daten und Metadaten auf der Dropzone abgelegt werden.\n",
    "- Definiert wird er bei SASA-Prozessen auf dem **Produkte-Sharepoint ([Link](https://kollaboration.intranet.stzh.ch/orga/ssz-produkte/Lists/SASA_Outputs/PersonalViews.aspx?PageView=Personal&ShowWebPart={6087A3E7-8AC8-40BA-8278-DECFACE124FF}))**.\n",
    "- Der Packagename wird auf CKAN teil der URL, daher ist die exakte Schreibweise wichtig.\n",
    "\n",
    "Beachte: im Packagename müssen alle Buchstaben **klein** geschrieben werden. Dies weil CKAN aus grossen kleine Buchstaben macht."
   ]
  },
  {
   "cell_type": "markdown",
   "metadata": {},
   "source": [
    "**BITTE HIER ANPASSEN**"
   ]
  },
  {
   "cell_type": "code",
   "execution_count": 9,
   "metadata": {},
   "outputs": [],
   "source": [
    "package_name = \"bev_bestand_jahr_gemeinde_land_geburtsort_od3380\""
   ]
  },
  {
   "cell_type": "code",
   "execution_count": 10,
   "metadata": {
    "tags": []
   },
   "outputs": [],
   "source": [
    "dataset_name = \"BEV338OD3380.csv\""
   ]
  },
  {
   "cell_type": "markdown",
   "metadata": {},
   "source": [
    "**Statische Pfade in DWH-Dropzones**"
   ]
  },
  {
   "cell_type": "code",
   "execution_count": 11,
   "metadata": {},
   "outputs": [],
   "source": [
    "dropzone_path_integ = r\"\\\\szh\\ssz\\applikationen\\OGD_Dropzone\\INT_DWH\""
   ]
  },
  {
   "cell_type": "code",
   "execution_count": 12,
   "metadata": {
    "tags": []
   },
   "outputs": [],
   "source": [
    "dropzone_path_prod = r\"\\\\szh\\ssz\\applikationen\\OGD_Dropzone\\DWH\""
   ]
  },
  {
   "cell_type": "markdown",
   "metadata": {},
   "source": [
    "**Statische Pfade CKAN-URLs**"
   ]
  },
  {
   "cell_type": "code",
   "execution_count": 13,
   "metadata": {
    "tags": []
   },
   "outputs": [],
   "source": [
    "ckan_integ_url =\"https://data.integ.stadt-zuerich.ch/dataset/int_dwh_\""
   ]
  },
  {
   "cell_type": "code",
   "execution_count": 14,
   "metadata": {},
   "outputs": [],
   "source": [
    "ckan_prod_url =\"https://data.stadt-zuerich.ch/dataset/\""
   ]
  },
  {
   "cell_type": "markdown",
   "metadata": {},
   "source": [
    "### Checke die Metadaten auf der CKAN INTEG- oder PROD-Webseite\n",
    "\n",
    "Offenbar lassen sich aktuell im Markdownteil keine Variabeln ausführen, daher gehen wir wie unten gezeigt vor. Siehe dazu: https://data-dive.com/jupyterlab-markdown-cells-include-variables\n",
    "Instead of setting the cell to Markdown, create Markdown from withnin a code cell! We can just use python variable replacement syntax to make the text dynamic"
   ]
  },
  {
   "cell_type": "code",
   "execution_count": 15,
   "metadata": {},
   "outputs": [],
   "source": [
    "from IPython.display import Markdown as md"
   ]
  },
  {
   "cell_type": "code",
   "execution_count": 16,
   "metadata": {},
   "outputs": [
    {
     "data": {
      "text/markdown": [
       " **1. Dataset auf INTEG-Datakatalog:** Link https://data.integ.stadt-zuerich.ch/dataset/int_dwh_bev_bestand_jahr_gemeinde_land_geburtsort_od3380 "
      ],
      "text/plain": [
       "<IPython.core.display.Markdown object>"
      ]
     },
     "execution_count": 16,
     "metadata": {},
     "output_type": "execute_result"
    }
   ],
   "source": [
    "md(\" **1. Dataset auf INTEG-Datakatalog:** Link {} \".format(ckan_integ_url+package_name))"
   ]
  },
  {
   "cell_type": "code",
   "execution_count": 17,
   "metadata": {
    "tags": []
   },
   "outputs": [
    {
     "data": {
      "text/markdown": [
       " **2. Dataset auf PROD-Datakatalog:** Link https://data.stadt-zuerich.ch/dataset/bev_bestand_jahr_gemeinde_land_geburtsort_od3380 "
      ],
      "text/plain": [
       "<IPython.core.display.Markdown object>"
      ]
     },
     "execution_count": 17,
     "metadata": {},
     "output_type": "execute_result"
    }
   ],
   "source": [
    "md(\" **2. Dataset auf PROD-Datakatalog:** Link {} \".format(ckan_prod_url+package_name))"
   ]
  },
  {
   "cell_type": "markdown",
   "metadata": {
    "tags": []
   },
   "source": [
    "### Importiere einen Datensatz \n",
    "\n",
    "Definiere zuerst folgende Werte:\n",
    "1) Kommt der Datensatz von PROD oder INTEG?\n",
    "2) Beziehst Du den Datensatz direkt ab der DROPZONE oder aus dem INTERNET?"
   ]
  },
  {
   "cell_type": "code",
   "execution_count": 20,
   "metadata": {},
   "outputs": [
    {
     "name": "stdout",
     "output_type": "stream",
     "text": [
      "integ - dropzone\n"
     ]
    }
   ],
   "source": [
    "#Die Datasets sind nur zum Testen auf INT-DWH-Dropzone. Wenn der Test vorbei ist, sind sie auf PROD. \n",
    "# Über den Status kann man einfach switchen\n",
    "\n",
    "status = \"integ\"; #prod vs something else\n",
    "data_source = \"dropzone\"; #dropzone vs something else\n",
    "print(status+\" - \"+ data_source)"
   ]
  },
  {
   "cell_type": "code",
   "execution_count": 21,
   "metadata": {
    "tags": []
   },
   "outputs": [
    {
     "name": "stdout",
     "output_type": "stream",
     "text": [
      "fp lautet:\\\\szh\\ssz\\applikationen\\OGD_Dropzone\\INT_DWH\\bev_bestand_jahr_gemeinde_land_geburtsort_od3380\\BEV338OD3380.csv\n"
     ]
    }
   ],
   "source": [
    "# Filepath\n",
    "if status == \"prod\":\n",
    "    if data_source == \"dropzone\":\n",
    "            fp = dropzone_path_prod+\"\\\\\"+ package_name +\"\\\\\"+dataset_name\n",
    "            print(\"fp lautet:\"+fp)\n",
    "    else:\n",
    "        #fp = r\"https://data.stadt-zuerich.ch/dataset/bau_neubau_whg_bausm_rinh_geb_projstatus_quartier_seit2009_od5011/download/BAU501OD5011.csv\"\n",
    "        fp = ckan_prod_url+package_name+'/download/'+dataset_name\n",
    "        print(\"fp lautet:\"+fp)\n",
    "else:\n",
    "    if data_source == \"dropzone\":\n",
    "        fp = dropzone_path_integ+\"\\\\\"+ package_name +\"\\\\\"+dataset_name\n",
    "        print(\"fp lautet:\"+fp)\n",
    "    else:\n",
    "        #fp = r\"https://data.stadt-zuerich.ch/dataset/bau_neubau_whg_bausm_rinh_geb_projstatus_quartier_seit2009_od5011/download/BAU501OD5011.csv\"\n",
    "        fp = ckan_integ_url+package_name+'/download/'+dataset_name\n",
    "        print(\"fp lautet:\"+fp)\n"
   ]
  },
  {
   "cell_type": "markdown",
   "metadata": {},
   "source": [
    "Beachte, wie das SAS Datum (ohne Format) in ein UNIX Datum umgerechnet und als Datumsformat dargestellt wird! Siehe dazu `https://stackoverflow.com/questions/26923564/convert-sas-numeric-to-python-datetime`"
   ]
  },
  {
   "cell_type": "code",
   "execution_count": 22,
   "metadata": {},
   "outputs": [
    {
     "name": "stdout",
     "output_type": "stream",
     "text": [
      "dropzone\n"
     ]
    },
    {
     "data": {
      "text/plain": [
       "StichtagDatJahr    datetime64[ns]\n",
       "GebOrtHistCd                int64\n",
       "GebOrtHistLang             object\n",
       "GebLandHistCd               int64\n",
       "GebLandHistLang            object\n",
       "AnzBestWir                  int64\n",
       "dtype: object"
      ]
     },
     "execution_count": 22,
     "metadata": {},
     "output_type": "execute_result"
    }
   ],
   "source": [
    "# Read the data\n",
    "if data_source == \"dropzone\":\n",
    "    data2betested = pd.read_csv(\n",
    "        fp\n",
    "        , sep=','\n",
    "        ,parse_dates=['StichtagDatJahr']\n",
    "        ,low_memory=False\n",
    "    )\n",
    "    print(\"dropzone\")\n",
    "else:\n",
    "    r = requests.get(fp, verify=False)  \n",
    "    r.encoding = 'utf-8'\n",
    "    data2betested = pd.read_csv(\n",
    "        io.StringIO(r.text)\n",
    "        ,parse_dates=['StichtagDatJahr']\n",
    "        # KONVERTIERE DAS SAS DATUM IN EIN UNIXDATUM UND FORMATIERE ES\n",
    "        #, date_parser=lambda s: epoch + datetime.timedelta(days=int(s))\n",
    "        ,low_memory=False)\n",
    "    print(\"web\")\n",
    "\n",
    "data2betested.dtypes"
   ]
  },
  {
   "cell_type": "markdown",
   "metadata": {},
   "source": [
    "Berechne weitere Attribute falls notwendig"
   ]
  },
  {
   "cell_type": "code",
   "execution_count": 23,
   "metadata": {},
   "outputs": [
    {
     "data": {
      "text/plain": [
       "StichtagDatJahr        datetime64[ns]\n",
       "GebOrtHistCd                    int64\n",
       "GebOrtHistLang                 object\n",
       "GebLandHistCd                   int64\n",
       "GebLandHistLang                object\n",
       "AnzBestWir                      int64\n",
       "StichtagDatJahr_str            object\n",
       "dtype: object"
      ]
     },
     "execution_count": 23,
     "metadata": {},
     "output_type": "execute_result"
    }
   ],
   "source": [
    "data2betested = (\n",
    "    data2betested\n",
    "    .copy()\n",
    "    .assign(\n",
    "        #Aktualisierungs_Datum_str= lambda x: x.Aktualisierungs_Datum.astype(str),\n",
    "        StichtagDatJahr_str = lambda x: x.StichtagDatJahr.astype(str),\n",
    "    )\n",
    "    .sort_values('StichtagDatJahr', ascending=False)\n",
    "    )\n",
    "data2betested.dtypes"
   ]
  },
  {
   "cell_type": "markdown",
   "metadata": {},
   "source": [
    "### Einfache Datentests"
   ]
  },
  {
   "cell_type": "markdown",
   "metadata": {},
   "source": [
    " - 1) Zeige eine kurze Vorschau der importierten Daten\n",
    " - 2) Weise die Datentypen aus\n",
    " - 3) Zeige die Shape (Umfang) des Datensatzes an"
   ]
  },
  {
   "cell_type": "code",
   "execution_count": 24,
   "metadata": {},
   "outputs": [
    {
     "data": {
      "text/html": [
       "<div>\n",
       "<style scoped>\n",
       "    .dataframe tbody tr th:only-of-type {\n",
       "        vertical-align: middle;\n",
       "    }\n",
       "\n",
       "    .dataframe tbody tr th {\n",
       "        vertical-align: top;\n",
       "    }\n",
       "\n",
       "    .dataframe thead th {\n",
       "        text-align: right;\n",
       "    }\n",
       "</style>\n",
       "<table border=\"1\" class=\"dataframe\">\n",
       "  <thead>\n",
       "    <tr style=\"text-align: right;\">\n",
       "      <th></th>\n",
       "      <th>StichtagDatJahr</th>\n",
       "      <th>GebOrtHistCd</th>\n",
       "      <th>GebOrtHistLang</th>\n",
       "      <th>GebLandHistCd</th>\n",
       "      <th>GebLandHistLang</th>\n",
       "      <th>AnzBestWir</th>\n",
       "      <th>StichtagDatJahr_str</th>\n",
       "    </tr>\n",
       "  </thead>\n",
       "  <tbody>\n",
       "    <tr>\n",
       "      <th>68095</th>\n",
       "      <td>2021-01-01</td>\n",
       "      <td>9999</td>\n",
       "      <td>Ausland</td>\n",
       "      <td>8702</td>\n",
       "      <td>Bouvetinsel</td>\n",
       "      <td>1</td>\n",
       "      <td>2021-01-01</td>\n",
       "    </tr>\n",
       "    <tr>\n",
       "      <th>66752</th>\n",
       "      <td>2021-01-01</td>\n",
       "      <td>3371</td>\n",
       "      <td>Brunnadern</td>\n",
       "      <td>8100</td>\n",
       "      <td>Schweiz</td>\n",
       "      <td>3</td>\n",
       "      <td>2021-01-01</td>\n",
       "    </tr>\n",
       "  </tbody>\n",
       "</table>\n",
       "</div>"
      ],
      "text/plain": [
       "      StichtagDatJahr  GebOrtHistCd GebOrtHistLang  GebLandHistCd GebLandHistLang  AnzBestWir  \\\n",
       "68095      2021-01-01          9999        Ausland           8702     Bouvetinsel           1   \n",
       "66752      2021-01-01          3371     Brunnadern           8100         Schweiz           3   \n",
       "\n",
       "      StichtagDatJahr_str  \n",
       "68095          2021-01-01  \n",
       "66752          2021-01-01  "
      ]
     },
     "execution_count": 24,
     "metadata": {},
     "output_type": "execute_result"
    }
   ],
   "source": [
    "data2betested.head(2)"
   ]
  },
  {
   "cell_type": "code",
   "execution_count": 25,
   "metadata": {},
   "outputs": [
    {
     "data": {
      "text/plain": [
       "StichtagDatJahr        datetime64[ns]\n",
       "GebOrtHistCd                    int64\n",
       "GebOrtHistLang                 object\n",
       "GebLandHistCd                   int64\n",
       "GebLandHistLang                object\n",
       "AnzBestWir                      int64\n",
       "StichtagDatJahr_str            object\n",
       "dtype: object"
      ]
     },
     "execution_count": 25,
     "metadata": {},
     "output_type": "execute_result"
    }
   ],
   "source": [
    "data2betested.dtypes"
   ]
  },
  {
   "cell_type": "code",
   "execution_count": 26,
   "metadata": {},
   "outputs": [
    {
     "data": {
      "text/plain": [
       "(68096, 7)"
      ]
     },
     "execution_count": 26,
     "metadata": {},
     "output_type": "execute_result"
    }
   ],
   "source": [
    "data2betested.shape"
   ]
  },
  {
   "cell_type": "markdown",
   "metadata": {},
   "source": [
    "Beschreibe einzelne Attribute"
   ]
  },
  {
   "cell_type": "code",
   "execution_count": 27,
   "metadata": {},
   "outputs": [
    {
     "data": {
      "text/html": [
       "<div>\n",
       "<style scoped>\n",
       "    .dataframe tbody tr th:only-of-type {\n",
       "        vertical-align: middle;\n",
       "    }\n",
       "\n",
       "    .dataframe tbody tr th {\n",
       "        vertical-align: top;\n",
       "    }\n",
       "\n",
       "    .dataframe thead th {\n",
       "        text-align: right;\n",
       "    }\n",
       "</style>\n",
       "<table border=\"1\" class=\"dataframe\">\n",
       "  <thead>\n",
       "    <tr style=\"text-align: right;\">\n",
       "      <th></th>\n",
       "      <th>GebOrtHistCd</th>\n",
       "      <th>GebLandHistCd</th>\n",
       "      <th>AnzBestWir</th>\n",
       "    </tr>\n",
       "  </thead>\n",
       "  <tbody>\n",
       "    <tr>\n",
       "      <th>count</th>\n",
       "      <td>68096</td>\n",
       "      <td>68096</td>\n",
       "      <td>68096</td>\n",
       "    </tr>\n",
       "    <tr>\n",
       "      <th>mean</th>\n",
       "      <td>3659</td>\n",
       "      <td>8125</td>\n",
       "      <td>164</td>\n",
       "    </tr>\n",
       "    <tr>\n",
       "      <th>std</th>\n",
       "      <td>2713</td>\n",
       "      <td>90</td>\n",
       "      <td>2640</td>\n",
       "    </tr>\n",
       "    <tr>\n",
       "      <th>min</th>\n",
       "      <td>1</td>\n",
       "      <td>8100</td>\n",
       "      <td>0</td>\n",
       "    </tr>\n",
       "    <tr>\n",
       "      <th>25%</th>\n",
       "      <td>1132</td>\n",
       "      <td>8100</td>\n",
       "      <td>2</td>\n",
       "    </tr>\n",
       "    <tr>\n",
       "      <th>50%</th>\n",
       "      <td>3582</td>\n",
       "      <td>8100</td>\n",
       "      <td>6</td>\n",
       "    </tr>\n",
       "    <tr>\n",
       "      <th>75%</th>\n",
       "      <td>5145</td>\n",
       "      <td>8100</td>\n",
       "      <td>18</td>\n",
       "    </tr>\n",
       "    <tr>\n",
       "      <th>max</th>\n",
       "      <td>9999</td>\n",
       "      <td>9999</td>\n",
       "      <td>126647</td>\n",
       "    </tr>\n",
       "  </tbody>\n",
       "</table>\n",
       "</div>"
      ],
      "text/plain": [
       "       GebOrtHistCd  GebLandHistCd  AnzBestWir\n",
       "count         68096          68096       68096\n",
       "mean           3659           8125         164\n",
       "std            2713             90        2640\n",
       "min               1           8100           0\n",
       "25%            1132           8100           2\n",
       "50%            3582           8100           6\n",
       "75%            5145           8100          18\n",
       "max            9999           9999      126647"
      ]
     },
     "execution_count": 27,
     "metadata": {},
     "output_type": "execute_result"
    }
   ],
   "source": [
    "data2betested.describe()"
   ]
  },
  {
   "cell_type": "markdown",
   "metadata": {},
   "source": [
    "#### Missings?\n",
    "\n",
    "Wie viele Nullwerte gibt es im Datensatz?"
   ]
  },
  {
   "cell_type": "code",
   "execution_count": 29,
   "metadata": {
    "scrolled": true
   },
   "outputs": [
    {
     "data": {
      "text/plain": [
       "StichtagDatJahr        0\n",
       "GebOrtHistCd           0\n",
       "GebOrtHistLang         0\n",
       "GebLandHistCd          0\n",
       "GebLandHistLang        0\n",
       "AnzBestWir             0\n",
       "StichtagDatJahr_str    0\n",
       "dtype: int64"
      ]
     },
     "execution_count": 29,
     "metadata": {},
     "output_type": "execute_result"
    }
   ],
   "source": [
    "data2betested.isnull().sum()"
   ]
  },
  {
   "cell_type": "markdown",
   "metadata": {},
   "source": [
    "Viele Missings stammen daher, dass wir keine Koordinaten zu Ländern haben. Aus der Schweiz sollte es aber keine geben..."
   ]
  },
  {
   "cell_type": "code",
   "execution_count": 32,
   "metadata": {},
   "outputs": [
    {
     "data": {
      "text/html": [
       "<div>\n",
       "<style scoped>\n",
       "    .dataframe tbody tr th:only-of-type {\n",
       "        vertical-align: middle;\n",
       "    }\n",
       "\n",
       "    .dataframe tbody tr th {\n",
       "        vertical-align: top;\n",
       "    }\n",
       "\n",
       "    .dataframe thead th {\n",
       "        text-align: right;\n",
       "    }\n",
       "</style>\n",
       "<table border=\"1\" class=\"dataframe\">\n",
       "  <thead>\n",
       "    <tr style=\"text-align: right;\">\n",
       "      <th></th>\n",
       "      <th>StichtagDatJahr</th>\n",
       "      <th>GebOrtHistCd</th>\n",
       "      <th>GebOrtHistLang</th>\n",
       "      <th>GebLandHistCd</th>\n",
       "      <th>GebLandHistLang</th>\n",
       "      <th>AnzBestWir</th>\n",
       "      <th>StichtagDatJahr_str</th>\n",
       "    </tr>\n",
       "  </thead>\n",
       "  <tbody>\n",
       "  </tbody>\n",
       "</table>\n",
       "</div>"
      ],
      "text/plain": [
       "Empty DataFrame\n",
       "Columns: [StichtagDatJahr, GebOrtHistCd, GebOrtHistLang, GebLandHistCd, GebLandHistLang, AnzBestWir, StichtagDatJahr_str]\n",
       "Index: []"
      ]
     },
     "execution_count": 32,
     "metadata": {},
     "output_type": "execute_result"
    }
   ],
   "source": [
    "ch_missings = data2betested.query('GebLandHistLang==\"Schweiz\"')\n",
    "ch_missings[ch_missings['GebLandHistCd'].isna()]"
   ]
  },
  {
   "cell_type": "markdown",
   "metadata": {},
   "source": [
    "#### Zwischenschritt optional - siehe dazu das Verzeichnis «update_ogd» > ch_gemeinde_centroide"
   ]
  },
  {
   "cell_type": "markdown",
   "metadata": {},
   "source": [
    "Wechsle dazu in das update_ogd Verzeichnis\n",
    "\n",
    "---------------------------------------------------------------------------------------------"
   ]
  },
  {
   "cell_type": "markdown",
   "metadata": {
    "colab_type": "text",
    "id": "1dTPVmmsgOVx"
   },
   "source": [
    "### Verwende das Datum als Index\n",
    "\n",
    "While we did already parse the `datetime` column into the respective datetime type, it currently is just a regular column. \n",
    "**To enable quick and convenient queries and aggregations, we need to turn it into the index of the DataFrame**"
   ]
  },
  {
   "cell_type": "code",
   "execution_count": 33,
   "metadata": {},
   "outputs": [],
   "source": [
    "data2betested = data2betested.set_index(\"StichtagDatJahr\")"
   ]
  },
  {
   "cell_type": "code",
   "execution_count": 34,
   "metadata": {},
   "outputs": [
    {
     "name": "stdout",
     "output_type": "stream",
     "text": [
      "<class 'pandas.core.frame.DataFrame'>\n",
      "DatetimeIndex: 68096 entries, 2021-01-01 to 1993-01-01\n",
      "Data columns (total 6 columns):\n",
      " #   Column               Non-Null Count  Dtype \n",
      "---  ------               --------------  ----- \n",
      " 0   GebOrtHistCd         68096 non-null  int64 \n",
      " 1   GebOrtHistLang       68096 non-null  object\n",
      " 2   GebLandHistCd        68096 non-null  int64 \n",
      " 3   GebLandHistLang      68096 non-null  object\n",
      " 4   AnzBestWir           68096 non-null  int64 \n",
      " 5   StichtagDatJahr_str  68096 non-null  object\n",
      "dtypes: int64(3), object(3)\n",
      "memory usage: 3.6+ MB\n"
     ]
    },
    {
     "data": {
      "text/plain": [
       "Int64Index([2021, 2020, 2019, 2018, 2017, 2016, 2015, 2014, 2013, 2012, 2011, 2010, 2009, 2008,\n",
       "            2007, 2006, 2005, 2004, 2003, 2002, 2001, 2000, 1999, 1998, 1997, 1996, 1995, 1994,\n",
       "            1993],\n",
       "           dtype='int64', name='StichtagDatJahr')"
      ]
     },
     "execution_count": 34,
     "metadata": {},
     "output_type": "execute_result"
    }
   ],
   "source": [
    "data2betested.info()\n",
    "data2betested.index.year.unique()"
   ]
  },
  {
   "cell_type": "markdown",
   "metadata": {},
   "source": [
    "### Einfache Visualisierungen zur Plausi"
   ]
  },
  {
   "cell_type": "markdown",
   "metadata": {},
   "source": [
    "Exploriere die Daten mit Pivottable.JS"
   ]
  },
  {
   "cell_type": "code",
   "execution_count": 86,
   "metadata": {},
   "outputs": [
    {
     "data": {
      "text/html": [
       "\n",
       "        <iframe\n",
       "            width=\"100%\"\n",
       "            height=\"500\"\n",
       "            src=\"pivottablejs.html\"\n",
       "            frameborder=\"0\"\n",
       "            allowfullscreen\n",
       "            \n",
       "        ></iframe>\n",
       "        "
      ],
      "text/plain": [
       "<IPython.lib.display.IFrame at 0x1b6de8ac9c8>"
      ]
     },
     "execution_count": 86,
     "metadata": {},
     "output_type": "execute_result"
    }
   ],
   "source": [
    "from pivottablejs import pivot_ui\n",
    "\n",
    "pivot_ui(data2betested)"
   ]
  },
  {
   "cell_type": "markdown",
   "metadata": {},
   "source": [
    "### Zeitpunkte und Zeiträume abfragen\n",
    "\n",
    "A particular powerful feature of the Pandas DataFrame is its indexing capability that also works using time-based entities, such as dates and times. We have already created the index above, so let's put it to use."
   ]
  },
  {
   "cell_type": "code",
   "execution_count": 35,
   "metadata": {},
   "outputs": [
    {
     "data": {
      "text/html": [
       "<div>\n",
       "<style scoped>\n",
       "    .dataframe tbody tr th:only-of-type {\n",
       "        vertical-align: middle;\n",
       "    }\n",
       "\n",
       "    .dataframe tbody tr th {\n",
       "        vertical-align: top;\n",
       "    }\n",
       "\n",
       "    .dataframe thead th {\n",
       "        text-align: right;\n",
       "    }\n",
       "</style>\n",
       "<table border=\"1\" class=\"dataframe\">\n",
       "  <thead>\n",
       "    <tr style=\"text-align: right;\">\n",
       "      <th></th>\n",
       "      <th>GebOrtHistCd</th>\n",
       "      <th>GebOrtHistLang</th>\n",
       "      <th>GebLandHistCd</th>\n",
       "      <th>GebLandHistLang</th>\n",
       "      <th>AnzBestWir</th>\n",
       "      <th>StichtagDatJahr_str</th>\n",
       "    </tr>\n",
       "    <tr>\n",
       "      <th>StichtagDatJahr</th>\n",
       "      <th></th>\n",
       "      <th></th>\n",
       "      <th></th>\n",
       "      <th></th>\n",
       "      <th></th>\n",
       "      <th></th>\n",
       "    </tr>\n",
       "  </thead>\n",
       "  <tbody>\n",
       "    <tr>\n",
       "      <th>2021-01-01</th>\n",
       "      <td>9999</td>\n",
       "      <td>Ausland</td>\n",
       "      <td>8702</td>\n",
       "      <td>Bouvetinsel</td>\n",
       "      <td>1</td>\n",
       "      <td>2021-01-01</td>\n",
       "    </tr>\n",
       "    <tr>\n",
       "      <th>2021-01-01</th>\n",
       "      <td>3371</td>\n",
       "      <td>Brunnadern</td>\n",
       "      <td>8100</td>\n",
       "      <td>Schweiz</td>\n",
       "      <td>3</td>\n",
       "      <td>2021-01-01</td>\n",
       "    </tr>\n",
       "  </tbody>\n",
       "</table>\n",
       "</div>"
      ],
      "text/plain": [
       "                 GebOrtHistCd GebOrtHistLang  GebLandHistCd GebLandHistLang  AnzBestWir  \\\n",
       "StichtagDatJahr                                                                           \n",
       "2021-01-01               9999        Ausland           8702     Bouvetinsel           1   \n",
       "2021-01-01               3371     Brunnadern           8100         Schweiz           3   \n",
       "\n",
       "                StichtagDatJahr_str  \n",
       "StichtagDatJahr                      \n",
       "2021-01-01               2021-01-01  \n",
       "2021-01-01               2021-01-01  "
      ]
     },
     "execution_count": 35,
     "metadata": {},
     "output_type": "execute_result"
    }
   ],
   "source": [
    "data2betested.loc[\"2021\"].head(2)\n",
    "#data2betested.loc[\"2021-10-31\":\"2021-11-30\"].head(2)"
   ]
  },
  {
   "cell_type": "markdown",
   "metadata": {},
   "source": [
    "### Visualisierungen nach Zeitausschnitten"
   ]
  },
  {
   "cell_type": "code",
   "execution_count": 62,
   "metadata": {},
   "outputs": [],
   "source": [
    "#data2betested.columns"
   ]
  },
  {
   "cell_type": "markdown",
   "metadata": {
    "tags": []
   },
   "source": [
    "#### Aktueller Stand"
   ]
  },
  {
   "cell_type": "code",
   "execution_count": 63,
   "metadata": {
    "tags": []
   },
   "outputs": [
    {
     "data": {
      "text/html": [
       "<div>\n",
       "<style scoped>\n",
       "    .dataframe tbody tr th:only-of-type {\n",
       "        vertical-align: middle;\n",
       "    }\n",
       "\n",
       "    .dataframe tbody tr th {\n",
       "        vertical-align: top;\n",
       "    }\n",
       "\n",
       "    .dataframe thead th {\n",
       "        text-align: right;\n",
       "    }\n",
       "</style>\n",
       "<table border=\"1\" class=\"dataframe\">\n",
       "  <thead>\n",
       "    <tr style=\"text-align: right;\">\n",
       "      <th></th>\n",
       "      <th>StichtagDatJahr</th>\n",
       "      <th>GebLandHistLang</th>\n",
       "      <th>GebLandHistCd</th>\n",
       "      <th>sum_WBev</th>\n",
       "    </tr>\n",
       "  </thead>\n",
       "  <tbody>\n",
       "    <tr>\n",
       "      <th>0</th>\n",
       "      <td>1993-01-01</td>\n",
       "      <td>Afghanistan</td>\n",
       "      <td>8501</td>\n",
       "      <td>161</td>\n",
       "    </tr>\n",
       "    <tr>\n",
       "      <th>1</th>\n",
       "      <td>1993-01-01</td>\n",
       "      <td>Oman</td>\n",
       "      <td>8527</td>\n",
       "      <td>2</td>\n",
       "    </tr>\n",
       "    <tr>\n",
       "      <th>2</th>\n",
       "      <td>1993-01-01</td>\n",
       "      <td>Pakistan</td>\n",
       "      <td>8533</td>\n",
       "      <td>324</td>\n",
       "    </tr>\n",
       "  </tbody>\n",
       "</table>\n",
       "</div>"
      ],
      "text/plain": [
       "  StichtagDatJahr GebLandHistLang  GebLandHistCd  sum_WBev\n",
       "0      1993-01-01     Afghanistan           8501       161\n",
       "1      1993-01-01            Oman           8527         2\n",
       "2      1993-01-01        Pakistan           8533       324"
      ]
     },
     "execution_count": 63,
     "metadata": {},
     "output_type": "execute_result"
    }
   ],
   "source": [
    "myAgg = data2betested.query('GebLandHistLang !=\"Schweiz\"')\\\n",
    "    .groupby(['StichtagDatJahr', 'GebLandHistLang', 'GebLandHistCd']) \\\n",
    "    .agg(sum_WBev=('AnzBestWir', 'sum')) \\\n",
    "    .sort_values('StichtagDatJahr', ascending=True) \n",
    "\n",
    "myAgg.reset_index().head(3)"
   ]
  },
  {
   "cell_type": "code",
   "execution_count": 64,
   "metadata": {},
   "outputs": [
    {
     "data": {
      "text/html": [
       "\n",
       "<div id=\"altair-viz-dd89076759144774b60aab36ea49a278\"></div>\n",
       "<script type=\"text/javascript\">\n",
       "  (function(spec, embedOpt){\n",
       "    let outputDiv = document.currentScript.previousElementSibling;\n",
       "    if (outputDiv.id !== \"altair-viz-dd89076759144774b60aab36ea49a278\") {\n",
       "      outputDiv = document.getElementById(\"altair-viz-dd89076759144774b60aab36ea49a278\");\n",
       "    }\n",
       "    const paths = {\n",
       "      \"vega\": \"https://cdn.jsdelivr.net/npm//vega@5?noext\",\n",
       "      \"vega-lib\": \"https://cdn.jsdelivr.net/npm//vega-lib?noext\",\n",
       "      \"vega-lite\": \"https://cdn.jsdelivr.net/npm//vega-lite@4.8.1?noext\",\n",
       "      \"vega-embed\": \"https://cdn.jsdelivr.net/npm//vega-embed@6?noext\",\n",
       "    };\n",
       "\n",
       "    function loadScript(lib) {\n",
       "      return new Promise(function(resolve, reject) {\n",
       "        var s = document.createElement('script');\n",
       "        s.src = paths[lib];\n",
       "        s.async = true;\n",
       "        s.onload = () => resolve(paths[lib]);\n",
       "        s.onerror = () => reject(`Error loading script: ${paths[lib]}`);\n",
       "        document.getElementsByTagName(\"head\")[0].appendChild(s);\n",
       "      });\n",
       "    }\n",
       "\n",
       "    function showError(err) {\n",
       "      outputDiv.innerHTML = `<div class=\"error\" style=\"color:red;\">${err}</div>`;\n",
       "      throw err;\n",
       "    }\n",
       "\n",
       "    function displayChart(vegaEmbed) {\n",
       "      vegaEmbed(outputDiv, spec, embedOpt)\n",
       "        .catch(err => showError(`Javascript Error: ${err.message}<br>This usually means there's a typo in your chart specification. See the javascript console for the full traceback.`));\n",
       "    }\n",
       "\n",
       "    if(typeof define === \"function\" && define.amd) {\n",
       "      requirejs.config({paths});\n",
       "      require([\"vega-embed\"], displayChart, err => showError(`Error loading script: ${err.message}`));\n",
       "    } else if (typeof vegaEmbed === \"function\") {\n",
       "      displayChart(vegaEmbed);\n",
       "    } else {\n",
       "      loadScript(\"vega\")\n",
       "        .then(() => loadScript(\"vega-lite\"))\n",
       "        .then(() => loadScript(\"vega-embed\"))\n",
       "        .catch(showError)\n",
       "        .then(() => displayChart(vegaEmbed));\n",
       "    }\n",
       "  })({\"config\": {\"view\": {\"continuousWidth\": 400, \"continuousHeight\": 300}}, \"layer\": [{\"mark\": \"line\", \"encoding\": {\"color\": {\"type\": \"nominal\", \"field\": \"GebLandHistLang\", \"legend\": {\"orient\": \"right\", \"title\": \"Altersgruppen\"}}, \"size\": {\"condition\": {\"value\": 0.5, \"selection\": {\"not\": \"selector028\"}}, \"value\": 4}, \"tooltip\": [{\"type\": \"temporal\", \"field\": \"StichtagDatJahr\"}, {\"type\": \"nominal\", \"field\": \"GebLandHistLang\"}, {\"type\": \"quantitative\", \"field\": \"sum_WBev\"}], \"x\": {\"type\": \"temporal\", \"axis\": {\"title\": \"Jahr\"}, \"field\": \"StichtagDatJahr\"}, \"y\": {\"type\": \"quantitative\", \"axis\": {\"title\": \"Anz. Personen\"}, \"field\": \"sum_WBev\"}}, \"selection\": {\"selector029\": {\"type\": \"interval\", \"bind\": \"scales\", \"encodings\": [\"x\", \"y\"]}}, \"title\": \"Wohnbev\\u00f6lkerung nach Geburtsland seit 1993\"}, {\"mark\": \"circle\", \"encoding\": {\"color\": {\"type\": \"nominal\", \"field\": \"GebLandHistLang\", \"legend\": {\"orient\": \"right\", \"title\": \"Altersgruppen\"}}, \"opacity\": {\"value\": 0.75}, \"tooltip\": [{\"type\": \"temporal\", \"field\": \"StichtagDatJahr\"}, {\"type\": \"nominal\", \"field\": \"GebLandHistLang\"}, {\"type\": \"quantitative\", \"field\": \"sum_WBev\"}], \"x\": {\"type\": \"temporal\", \"axis\": {\"title\": \"Jahr\"}, \"field\": \"StichtagDatJahr\"}, \"y\": {\"type\": \"quantitative\", \"axis\": {\"title\": \"Anz. Personen\"}, \"field\": \"sum_WBev\"}}, \"height\": 350, \"selection\": {\"selector028\": {\"type\": \"single\", \"on\": \"mouseover\", \"fields\": [\"AufArt2LangAgg\"], \"nearest\": true}}, \"title\": \"Wohnbev\\u00f6lkerung nach Geburtsland seit 1993\", \"width\": 750}], \"data\": {\"name\": \"data-80cc8081c2c4f1ea4f28f4c8d2db13b8\"}, \"$schema\": \"https://vega.github.io/schema/vega-lite/v4.8.1.json\", \"datasets\": {\"data-80cc8081c2c4f1ea4f28f4c8d2db13b8\": [{\"StichtagDatJahr\": \"1993-01-01T00:00:00\", \"GebLandHistLang\": \"UDSSR\", \"GebLandHistCd\": 8235, \"sum_WBev\": 580}, {\"StichtagDatJahr\": \"1993-01-01T00:00:00\", \"GebLandHistLang\": \"DDR\", \"GebLandHistCd\": 8208, \"sum_WBev\": 18}, {\"StichtagDatJahr\": \"1993-01-01T00:00:00\", \"GebLandHistLang\": \"Jugoslawien\", \"GebLandHistCd\": 8220, \"sum_WBev\": 18644}, {\"StichtagDatJahr\": \"1994-01-01T00:00:00\", \"GebLandHistLang\": \"UDSSR\", \"GebLandHistCd\": 8235, \"sum_WBev\": 529}, {\"StichtagDatJahr\": \"1994-01-01T00:00:00\", \"GebLandHistLang\": \"DDR\", \"GebLandHistCd\": 8208, \"sum_WBev\": 42}, {\"StichtagDatJahr\": \"1994-01-01T00:00:00\", \"GebLandHistLang\": \"Jugoslawien\", \"GebLandHistCd\": 8220, \"sum_WBev\": 18870}, {\"StichtagDatJahr\": \"1995-01-01T00:00:00\", \"GebLandHistLang\": \"UDSSR\", \"GebLandHistCd\": 8235, \"sum_WBev\": 583}, {\"StichtagDatJahr\": \"1995-01-01T00:00:00\", \"GebLandHistLang\": \"DDR\", \"GebLandHistCd\": 8208, \"sum_WBev\": 41}, {\"StichtagDatJahr\": \"1995-01-01T00:00:00\", \"GebLandHistLang\": \"Jugoslawien\", \"GebLandHistCd\": 8220, \"sum_WBev\": 19707}, {\"StichtagDatJahr\": \"1996-01-01T00:00:00\", \"GebLandHistLang\": \"UDSSR\", \"GebLandHistCd\": 8235, \"sum_WBev\": 629}, {\"StichtagDatJahr\": \"1996-01-01T00:00:00\", \"GebLandHistLang\": \"DDR\", \"GebLandHistCd\": 8208, \"sum_WBev\": 76}, {\"StichtagDatJahr\": \"1996-01-01T00:00:00\", \"GebLandHistLang\": \"Jugoslawien\", \"GebLandHistCd\": 8220, \"sum_WBev\": 20323}, {\"StichtagDatJahr\": \"1997-01-01T00:00:00\", \"GebLandHistLang\": \"UDSSR\", \"GebLandHistCd\": 8235, \"sum_WBev\": 537}, {\"StichtagDatJahr\": \"1997-01-01T00:00:00\", \"GebLandHistLang\": \"DDR\", \"GebLandHistCd\": 8208, \"sum_WBev\": 65}, {\"StichtagDatJahr\": \"1997-01-01T00:00:00\", \"GebLandHistLang\": \"Jugoslawien\", \"GebLandHistCd\": 8220, \"sum_WBev\": 16781}, {\"StichtagDatJahr\": \"1998-01-01T00:00:00\", \"GebLandHistLang\": \"UDSSR\", \"GebLandHistCd\": 8235, \"sum_WBev\": 563}, {\"StichtagDatJahr\": \"1998-01-01T00:00:00\", \"GebLandHistLang\": \"DDR\", \"GebLandHistCd\": 8208, \"sum_WBev\": 108}, {\"StichtagDatJahr\": \"1998-01-01T00:00:00\", \"GebLandHistLang\": \"Jugoslawien\", \"GebLandHistCd\": 8220, \"sum_WBev\": 16318}, {\"StichtagDatJahr\": \"1999-01-01T00:00:00\", \"GebLandHistLang\": \"UDSSR\", \"GebLandHistCd\": 8235, \"sum_WBev\": 609}, {\"StichtagDatJahr\": \"1999-01-01T00:00:00\", \"GebLandHistLang\": \"DDR\", \"GebLandHistCd\": 8208, \"sum_WBev\": 165}, {\"StichtagDatJahr\": \"1999-01-01T00:00:00\", \"GebLandHistLang\": \"Jugoslawien\", \"GebLandHistCd\": 8220, \"sum_WBev\": 16492}, {\"StichtagDatJahr\": \"2000-01-01T00:00:00\", \"GebLandHistLang\": \"UDSSR\", \"GebLandHistCd\": 8235, \"sum_WBev\": 623}, {\"StichtagDatJahr\": \"2000-01-01T00:00:00\", \"GebLandHistLang\": \"DDR\", \"GebLandHistCd\": 8208, \"sum_WBev\": 269}, {\"StichtagDatJahr\": \"2000-01-01T00:00:00\", \"GebLandHistLang\": \"Jugoslawien\", \"GebLandHistCd\": 8220, \"sum_WBev\": 14926}, {\"StichtagDatJahr\": \"2001-01-01T00:00:00\", \"GebLandHistLang\": \"UDSSR\", \"GebLandHistCd\": 8235, \"sum_WBev\": 576}, {\"StichtagDatJahr\": \"2001-01-01T00:00:00\", \"GebLandHistLang\": \"DDR\", \"GebLandHistCd\": 8208, \"sum_WBev\": 297}, {\"StichtagDatJahr\": \"2001-01-01T00:00:00\", \"GebLandHistLang\": \"Jugoslawien\", \"GebLandHistCd\": 8220, \"sum_WBev\": 11982}, {\"StichtagDatJahr\": \"2002-01-01T00:00:00\", \"GebLandHistLang\": \"UDSSR\", \"GebLandHistCd\": 8235, \"sum_WBev\": 747}, {\"StichtagDatJahr\": \"2002-01-01T00:00:00\", \"GebLandHistLang\": \"DDR\", \"GebLandHistCd\": 8208, \"sum_WBev\": 551}, {\"StichtagDatJahr\": \"2002-01-01T00:00:00\", \"GebLandHistLang\": \"Jugoslawien\", \"GebLandHistCd\": 8220, \"sum_WBev\": 13547}, {\"StichtagDatJahr\": \"2003-01-01T00:00:00\", \"GebLandHistLang\": \"UDSSR\", \"GebLandHistCd\": 8235, \"sum_WBev\": 1603}, {\"StichtagDatJahr\": \"2003-01-01T00:00:00\", \"GebLandHistLang\": \"DDR\", \"GebLandHistCd\": 8208, \"sum_WBev\": 981}, {\"StichtagDatJahr\": \"2003-01-01T00:00:00\", \"GebLandHistLang\": \"Jugoslawien\", \"GebLandHistCd\": 8220, \"sum_WBev\": 22122}, {\"StichtagDatJahr\": \"2004-01-01T00:00:00\", \"GebLandHistLang\": \"UDSSR\", \"GebLandHistCd\": 8235, \"sum_WBev\": 1730}, {\"StichtagDatJahr\": \"2004-01-01T00:00:00\", \"GebLandHistLang\": \"DDR\", \"GebLandHistCd\": 8208, \"sum_WBev\": 1283}, {\"StichtagDatJahr\": \"2004-01-01T00:00:00\", \"GebLandHistLang\": \"Jugoslawien\", \"GebLandHistCd\": 8220, \"sum_WBev\": 22098}, {\"StichtagDatJahr\": \"2005-01-01T00:00:00\", \"GebLandHistLang\": \"UDSSR\", \"GebLandHistCd\": 8235, \"sum_WBev\": 1806}, {\"StichtagDatJahr\": \"2005-01-01T00:00:00\", \"GebLandHistLang\": \"DDR\", \"GebLandHistCd\": 8208, \"sum_WBev\": 1627}, {\"StichtagDatJahr\": \"2005-01-01T00:00:00\", \"GebLandHistLang\": \"Jugoslawien\", \"GebLandHistCd\": 8220, \"sum_WBev\": 21945}, {\"StichtagDatJahr\": \"2006-01-01T00:00:00\", \"GebLandHistLang\": \"UDSSR\", \"GebLandHistCd\": 8235, \"sum_WBev\": 936}, {\"StichtagDatJahr\": \"2006-01-01T00:00:00\", \"GebLandHistLang\": \"DDR\", \"GebLandHistCd\": 8208, \"sum_WBev\": 1431}, {\"StichtagDatJahr\": \"2006-01-01T00:00:00\", \"GebLandHistLang\": \"Jugoslawien\", \"GebLandHistCd\": 8220, \"sum_WBev\": 10478}, {\"StichtagDatJahr\": \"2007-01-01T00:00:00\", \"GebLandHistLang\": \"UDSSR\", \"GebLandHistCd\": 8235, \"sum_WBev\": 2246}, {\"StichtagDatJahr\": \"2007-01-01T00:00:00\", \"GebLandHistLang\": \"DDR\", \"GebLandHistCd\": 8208, \"sum_WBev\": 2671}, {\"StichtagDatJahr\": \"2007-01-01T00:00:00\", \"GebLandHistLang\": \"Jugoslawien\", \"GebLandHistCd\": 8220, \"sum_WBev\": 21697}, {\"StichtagDatJahr\": \"2008-01-01T00:00:00\", \"GebLandHistLang\": \"Serbien\", \"GebLandHistCd\": 8248, \"sum_WBev\": 12}, {\"StichtagDatJahr\": \"2008-01-01T00:00:00\", \"GebLandHistLang\": \"UDSSR\", \"GebLandHistCd\": 8235, \"sum_WBev\": 2392}, {\"StichtagDatJahr\": \"2008-01-01T00:00:00\", \"GebLandHistLang\": \"DDR\", \"GebLandHistCd\": 8208, \"sum_WBev\": 2929}, {\"StichtagDatJahr\": \"2008-01-01T00:00:00\", \"GebLandHistLang\": \"Jugoslawien\", \"GebLandHistCd\": 8220, \"sum_WBev\": 21428}, {\"StichtagDatJahr\": \"2009-01-01T00:00:00\", \"GebLandHistLang\": \"UDSSR\", \"GebLandHistCd\": 8235, \"sum_WBev\": 2538}, {\"StichtagDatJahr\": \"2009-01-01T00:00:00\", \"GebLandHistLang\": \"Serbien\", \"GebLandHistCd\": 8248, \"sum_WBev\": 15}, {\"StichtagDatJahr\": \"2009-01-01T00:00:00\", \"GebLandHistLang\": \"DDR\", \"GebLandHistCd\": 8208, \"sum_WBev\": 3037}, {\"StichtagDatJahr\": \"2009-01-01T00:00:00\", \"GebLandHistLang\": \"Jugoslawien\", \"GebLandHistCd\": 8220, \"sum_WBev\": 21249}, {\"StichtagDatJahr\": \"2010-01-01T00:00:00\", \"GebLandHistLang\": \"Serbien\", \"GebLandHistCd\": 8248, \"sum_WBev\": 27}, {\"StichtagDatJahr\": \"2010-01-01T00:00:00\", \"GebLandHistLang\": \"UDSSR\", \"GebLandHistCd\": 8235, \"sum_WBev\": 2755}, {\"StichtagDatJahr\": \"2010-01-01T00:00:00\", \"GebLandHistLang\": \"DDR\", \"GebLandHistCd\": 8208, \"sum_WBev\": 3142}, {\"StichtagDatJahr\": \"2010-01-01T00:00:00\", \"GebLandHistLang\": \"Jugoslawien\", \"GebLandHistCd\": 8220, \"sum_WBev\": 20914}, {\"StichtagDatJahr\": \"2011-01-01T00:00:00\", \"GebLandHistLang\": \"Serbien\", \"GebLandHistCd\": 8248, \"sum_WBev\": 30}, {\"StichtagDatJahr\": \"2011-01-01T00:00:00\", \"GebLandHistLang\": \"UDSSR\", \"GebLandHistCd\": 8235, \"sum_WBev\": 2992}, {\"StichtagDatJahr\": \"2011-01-01T00:00:00\", \"GebLandHistLang\": \"DDR\", \"GebLandHistCd\": 8208, \"sum_WBev\": 3093}, {\"StichtagDatJahr\": \"2011-01-01T00:00:00\", \"GebLandHistLang\": \"Jugoslawien\", \"GebLandHistCd\": 8220, \"sum_WBev\": 20721}, {\"StichtagDatJahr\": \"2012-01-01T00:00:00\", \"GebLandHistLang\": \"Serbien\", \"GebLandHistCd\": 8248, \"sum_WBev\": 32}, {\"StichtagDatJahr\": \"2012-01-01T00:00:00\", \"GebLandHistLang\": \"UDSSR\", \"GebLandHistCd\": 8235, \"sum_WBev\": 3213}, {\"StichtagDatJahr\": \"2012-01-01T00:00:00\", \"GebLandHistLang\": \"DDR\", \"GebLandHistCd\": 8208, \"sum_WBev\": 2952}, {\"StichtagDatJahr\": \"2012-01-01T00:00:00\", \"GebLandHistLang\": \"Jugoslawien\", \"GebLandHistCd\": 8220, \"sum_WBev\": 20490}, {\"StichtagDatJahr\": \"2013-01-01T00:00:00\", \"GebLandHistLang\": \"UDSSR\", \"GebLandHistCd\": 8235, \"sum_WBev\": 3423}, {\"StichtagDatJahr\": \"2013-01-01T00:00:00\", \"GebLandHistLang\": \"Serbien\", \"GebLandHistCd\": 8248, \"sum_WBev\": 16}, {\"StichtagDatJahr\": \"2013-01-01T00:00:00\", \"GebLandHistLang\": \"DDR\", \"GebLandHistCd\": 8208, \"sum_WBev\": 2776}, {\"StichtagDatJahr\": \"2013-01-01T00:00:00\", \"GebLandHistLang\": \"Jugoslawien\", \"GebLandHistCd\": 8220, \"sum_WBev\": 20308}, {\"StichtagDatJahr\": \"2014-01-01T00:00:00\", \"GebLandHistLang\": \"UDSSR\", \"GebLandHistCd\": 8235, \"sum_WBev\": 3627}, {\"StichtagDatJahr\": \"2014-01-01T00:00:00\", \"GebLandHistLang\": \"Serbien\", \"GebLandHistCd\": 8248, \"sum_WBev\": 25}, {\"StichtagDatJahr\": \"2014-01-01T00:00:00\", \"GebLandHistLang\": \"DDR\", \"GebLandHistCd\": 8208, \"sum_WBev\": 2657}, {\"StichtagDatJahr\": \"2014-01-01T00:00:00\", \"GebLandHistLang\": \"Jugoslawien\", \"GebLandHistCd\": 8220, \"sum_WBev\": 20203}, {\"StichtagDatJahr\": \"2015-01-01T00:00:00\", \"GebLandHistLang\": \"UDSSR\", \"GebLandHistCd\": 8235, \"sum_WBev\": 3826}, {\"StichtagDatJahr\": \"2015-01-01T00:00:00\", \"GebLandHistLang\": \"Serbien\", \"GebLandHistCd\": 8248, \"sum_WBev\": 30}, {\"StichtagDatJahr\": \"2015-01-01T00:00:00\", \"GebLandHistLang\": \"DDR\", \"GebLandHistCd\": 8208, \"sum_WBev\": 2469}, {\"StichtagDatJahr\": \"2015-01-01T00:00:00\", \"GebLandHistLang\": \"Jugoslawien\", \"GebLandHistCd\": 8220, \"sum_WBev\": 19989}, {\"StichtagDatJahr\": \"2016-01-01T00:00:00\", \"GebLandHistLang\": \"UDSSR\", \"GebLandHistCd\": 8235, \"sum_WBev\": 3879}, {\"StichtagDatJahr\": \"2016-01-01T00:00:00\", \"GebLandHistLang\": \"Serbien\", \"GebLandHistCd\": 8248, \"sum_WBev\": 46}, {\"StichtagDatJahr\": \"2016-01-01T00:00:00\", \"GebLandHistLang\": \"DDR\", \"GebLandHistCd\": 8208, \"sum_WBev\": 2294}, {\"StichtagDatJahr\": \"2016-01-01T00:00:00\", \"GebLandHistLang\": \"Jugoslawien\", \"GebLandHistCd\": 8220, \"sum_WBev\": 19709}, {\"StichtagDatJahr\": \"2017-01-01T00:00:00\", \"GebLandHistLang\": \"UDSSR\", \"GebLandHistCd\": 8235, \"sum_WBev\": 4092}, {\"StichtagDatJahr\": \"2017-01-01T00:00:00\", \"GebLandHistLang\": \"Serbien\", \"GebLandHistCd\": 8248, \"sum_WBev\": 56}, {\"StichtagDatJahr\": \"2017-01-01T00:00:00\", \"GebLandHistLang\": \"DDR\", \"GebLandHistCd\": 8208, \"sum_WBev\": 2151}, {\"StichtagDatJahr\": \"2017-01-01T00:00:00\", \"GebLandHistLang\": \"Jugoslawien\", \"GebLandHistCd\": 8220, \"sum_WBev\": 19533}, {\"StichtagDatJahr\": \"2018-01-01T00:00:00\", \"GebLandHistLang\": \"Serbien\", \"GebLandHistCd\": 8248, \"sum_WBev\": 65}, {\"StichtagDatJahr\": \"2018-01-01T00:00:00\", \"GebLandHistLang\": \"UDSSR\", \"GebLandHistCd\": 8235, \"sum_WBev\": 4227}, {\"StichtagDatJahr\": \"2018-01-01T00:00:00\", \"GebLandHistLang\": \"DDR\", \"GebLandHistCd\": 8208, \"sum_WBev\": 2009}, {\"StichtagDatJahr\": \"2018-01-01T00:00:00\", \"GebLandHistLang\": \"Jugoslawien\", \"GebLandHistCd\": 8220, \"sum_WBev\": 19176}, {\"StichtagDatJahr\": \"2019-01-01T00:00:00\", \"GebLandHistLang\": \"UDSSR\", \"GebLandHistCd\": 8235, \"sum_WBev\": 4349}, {\"StichtagDatJahr\": \"2019-01-01T00:00:00\", \"GebLandHistLang\": \"Serbien\", \"GebLandHistCd\": 8248, \"sum_WBev\": 67}, {\"StichtagDatJahr\": \"2019-01-01T00:00:00\", \"GebLandHistLang\": \"DDR\", \"GebLandHistCd\": 8208, \"sum_WBev\": 1882}, {\"StichtagDatJahr\": \"2019-01-01T00:00:00\", \"GebLandHistLang\": \"Jugoslawien\", \"GebLandHistCd\": 8220, \"sum_WBev\": 18720}, {\"StichtagDatJahr\": \"2020-01-01T00:00:00\", \"GebLandHistLang\": \"Serbien\", \"GebLandHistCd\": 8248, \"sum_WBev\": 72}, {\"StichtagDatJahr\": \"2020-01-01T00:00:00\", \"GebLandHistLang\": \"UDSSR\", \"GebLandHistCd\": 8235, \"sum_WBev\": 4361}, {\"StichtagDatJahr\": \"2020-01-01T00:00:00\", \"GebLandHistLang\": \"DDR\", \"GebLandHistCd\": 8208, \"sum_WBev\": 1754}, {\"StichtagDatJahr\": \"2020-01-01T00:00:00\", \"GebLandHistLang\": \"Jugoslawien\", \"GebLandHistCd\": 8220, \"sum_WBev\": 18185}, {\"StichtagDatJahr\": \"2021-01-01T00:00:00\", \"GebLandHistLang\": \"UDSSR\", \"GebLandHistCd\": 8235, \"sum_WBev\": 4365}, {\"StichtagDatJahr\": \"2021-01-01T00:00:00\", \"GebLandHistLang\": \"Serbien\", \"GebLandHistCd\": 8248, \"sum_WBev\": 73}, {\"StichtagDatJahr\": \"2021-01-01T00:00:00\", \"GebLandHistLang\": \"DDR\", \"GebLandHistCd\": 8208, \"sum_WBev\": 1626}, {\"StichtagDatJahr\": \"2021-01-01T00:00:00\", \"GebLandHistLang\": \"Jugoslawien\", \"GebLandHistCd\": 8220, \"sum_WBev\": 17657}]}}, {\"mode\": \"vega-lite\"});\n",
       "</script>"
      ],
      "text/plain": [
       "alt.LayerChart(...)"
      ]
     },
     "execution_count": 64,
     "metadata": {},
     "output_type": "execute_result"
    }
   ],
   "source": [
    "myTitle=\"Wohnbevölkerung nach Geburtsland seit 1993\"\n",
    "\n",
    "highlight = alt.selection(type='single', on='mouseover',\n",
    "                          fields=['AufArt2LangAgg'], nearest=True)\n",
    "#x='date:StichtagDatJahr',\n",
    "base = alt.Chart(myAgg.reset_index().query('sum_WBev>10 and GebLandHistLang==\"Serbien\" or GebLandHistLang==\"Jugoslawien\" or GebLandHistLang==\"UDSSR\" or GebLandHistLang==\"DDR\"'), title=myTitle).encode(\n",
    "    x=alt.X('StichtagDatJahr', axis=alt.Axis(title='Jahr'))# , axis=alt.Axis(format='%', title='percentage')\n",
    "    , y=alt.X('sum_WBev', axis=alt.Axis(title='Anz. Personen'))\n",
    "    , color=alt.Color('GebLandHistLang', legend=alt.Legend(title=\"Altersgruppen\", orient=\"right\"))  \n",
    "    ,tooltip=['StichtagDatJahr', 'GebLandHistLang','sum_WBev']    \n",
    ")\n",
    "points = base.mark_circle().encode(\n",
    "    opacity=alt.value(0.75)\n",
    ").add_selection(\n",
    "    highlight\n",
    ").properties(\n",
    "    width=750 , height=350\n",
    ")\n",
    "lines = base.mark_line().encode(\n",
    "    size=alt.condition(~highlight, alt.value(0.5), alt.value(4))\n",
    ").interactive()\n",
    "\n",
    "lines + points"
   ]
  },
  {
   "cell_type": "markdown",
   "metadata": {
    "tags": []
   },
   "source": [
    "#### Barcharts mit Seaborn"
   ]
  },
  {
   "cell_type": "code",
   "execution_count": 65,
   "metadata": {},
   "outputs": [
    {
     "data": {
      "text/plain": [
       "Index(['GebOrtHistCd', 'GebOrtHistLang', 'GebLandHistCd', 'GebLandHistLang', 'AnzBestWir',\n",
       "       'StichtagDatJahr_str'],\n",
       "      dtype='object')"
      ]
     },
     "execution_count": 65,
     "metadata": {},
     "output_type": "execute_result"
    }
   ],
   "source": [
    "#data2betested.columns"
   ]
  },
  {
   "cell_type": "markdown",
   "metadata": {
    "tags": []
   },
   "source": [
    "##### Aktuell"
   ]
  },
  {
   "cell_type": "code",
   "execution_count": 75,
   "metadata": {},
   "outputs": [
    {
     "data": {
      "text/html": [
       "<div>\n",
       "<style scoped>\n",
       "    .dataframe tbody tr th:only-of-type {\n",
       "        vertical-align: middle;\n",
       "    }\n",
       "\n",
       "    .dataframe tbody tr th {\n",
       "        vertical-align: top;\n",
       "    }\n",
       "\n",
       "    .dataframe thead th {\n",
       "        text-align: right;\n",
       "    }\n",
       "</style>\n",
       "<table border=\"1\" class=\"dataframe\">\n",
       "  <thead>\n",
       "    <tr style=\"text-align: right;\">\n",
       "      <th></th>\n",
       "      <th>StichtagDatJahr</th>\n",
       "      <th>GebOrtHistCd</th>\n",
       "      <th>GebOrtHistLang</th>\n",
       "      <th>GebLandHistLang</th>\n",
       "      <th>GebLandHistCd</th>\n",
       "      <th>sum_WBev</th>\n",
       "    </tr>\n",
       "  </thead>\n",
       "  <tbody>\n",
       "    <tr>\n",
       "      <th>0</th>\n",
       "      <td>2021-01-01</td>\n",
       "      <td>261</td>\n",
       "      <td>Zürich</td>\n",
       "      <td>Schweiz</td>\n",
       "      <td>8100</td>\n",
       "      <td>126442</td>\n",
       "    </tr>\n",
       "    <tr>\n",
       "      <th>1</th>\n",
       "      <td>2021-01-01</td>\n",
       "      <td>9999</td>\n",
       "      <td>Ausland</td>\n",
       "      <td>Deutschland</td>\n",
       "      <td>8207</td>\n",
       "      <td>34893</td>\n",
       "    </tr>\n",
       "    <tr>\n",
       "      <th>2</th>\n",
       "      <td>2021-01-01</td>\n",
       "      <td>9999</td>\n",
       "      <td>Ausland</td>\n",
       "      <td>Jugoslawien</td>\n",
       "      <td>8220</td>\n",
       "      <td>17657</td>\n",
       "    </tr>\n",
       "    <tr>\n",
       "      <th>3</th>\n",
       "      <td>2021-01-01</td>\n",
       "      <td>9999</td>\n",
       "      <td>Ausland</td>\n",
       "      <td>Italien</td>\n",
       "      <td>8218</td>\n",
       "      <td>13545</td>\n",
       "    </tr>\n",
       "    <tr>\n",
       "      <th>4</th>\n",
       "      <td>2021-01-01</td>\n",
       "      <td>161</td>\n",
       "      <td>Zollikon</td>\n",
       "      <td>Schweiz</td>\n",
       "      <td>8100</td>\n",
       "      <td>9513</td>\n",
       "    </tr>\n",
       "    <tr>\n",
       "      <th>5</th>\n",
       "      <td>2021-01-01</td>\n",
       "      <td>9999</td>\n",
       "      <td>Ausland</td>\n",
       "      <td>Portugal</td>\n",
       "      <td>8231</td>\n",
       "      <td>5658</td>\n",
       "    </tr>\n",
       "    <tr>\n",
       "      <th>6</th>\n",
       "      <td>2021-01-01</td>\n",
       "      <td>9999</td>\n",
       "      <td>Ausland</td>\n",
       "      <td>Spanien</td>\n",
       "      <td>8236</td>\n",
       "      <td>5570</td>\n",
       "    </tr>\n",
       "    <tr>\n",
       "      <th>7</th>\n",
       "      <td>2021-01-01</td>\n",
       "      <td>351</td>\n",
       "      <td>Bern</td>\n",
       "      <td>Schweiz</td>\n",
       "      <td>8100</td>\n",
       "      <td>5502</td>\n",
       "    </tr>\n",
       "    <tr>\n",
       "      <th>8</th>\n",
       "      <td>2021-01-01</td>\n",
       "      <td>9999</td>\n",
       "      <td>Ausland</td>\n",
       "      <td>Frankreich</td>\n",
       "      <td>8212</td>\n",
       "      <td>5474</td>\n",
       "    </tr>\n",
       "    <tr>\n",
       "      <th>9</th>\n",
       "      <td>2021-01-01</td>\n",
       "      <td>9999</td>\n",
       "      <td>Ausland</td>\n",
       "      <td>Türkei</td>\n",
       "      <td>8239</td>\n",
       "      <td>5452</td>\n",
       "    </tr>\n",
       "    <tr>\n",
       "      <th>10</th>\n",
       "      <td>2021-01-01</td>\n",
       "      <td>2701</td>\n",
       "      <td>Basel</td>\n",
       "      <td>Schweiz</td>\n",
       "      <td>8100</td>\n",
       "      <td>5284</td>\n",
       "    </tr>\n",
       "    <tr>\n",
       "      <th>11</th>\n",
       "      <td>2021-01-01</td>\n",
       "      <td>9999</td>\n",
       "      <td>Ausland</td>\n",
       "      <td>Österreich</td>\n",
       "      <td>8229</td>\n",
       "      <td>5238</td>\n",
       "    </tr>\n",
       "    <tr>\n",
       "      <th>12</th>\n",
       "      <td>2021-01-01</td>\n",
       "      <td>230</td>\n",
       "      <td>Winterthur</td>\n",
       "      <td>Schweiz</td>\n",
       "      <td>8100</td>\n",
       "      <td>5233</td>\n",
       "    </tr>\n",
       "    <tr>\n",
       "      <th>13</th>\n",
       "      <td>2021-01-01</td>\n",
       "      <td>9999</td>\n",
       "      <td>Ausland</td>\n",
       "      <td>USA</td>\n",
       "      <td>8439</td>\n",
       "      <td>4774</td>\n",
       "    </tr>\n",
       "    <tr>\n",
       "      <th>14</th>\n",
       "      <td>2021-01-01</td>\n",
       "      <td>3203</td>\n",
       "      <td>St. Gallen</td>\n",
       "      <td>Schweiz</td>\n",
       "      <td>8100</td>\n",
       "      <td>4548</td>\n",
       "    </tr>\n",
       "    <tr>\n",
       "      <th>15</th>\n",
       "      <td>2021-01-01</td>\n",
       "      <td>9999</td>\n",
       "      <td>Ausland</td>\n",
       "      <td>UDSSR</td>\n",
       "      <td>8235</td>\n",
       "      <td>4365</td>\n",
       "    </tr>\n",
       "    <tr>\n",
       "      <th>16</th>\n",
       "      <td>2021-01-01</td>\n",
       "      <td>1061</td>\n",
       "      <td>Luzern</td>\n",
       "      <td>Schweiz</td>\n",
       "      <td>8100</td>\n",
       "      <td>4346</td>\n",
       "    </tr>\n",
       "    <tr>\n",
       "      <th>17</th>\n",
       "      <td>2021-01-01</td>\n",
       "      <td>247</td>\n",
       "      <td>Schlieren</td>\n",
       "      <td>Schweiz</td>\n",
       "      <td>8100</td>\n",
       "      <td>4316</td>\n",
       "    </tr>\n",
       "  </tbody>\n",
       "</table>\n",
       "</div>"
      ],
      "text/plain": [
       "   StichtagDatJahr  GebOrtHistCd GebOrtHistLang GebLandHistLang  GebLandHistCd  sum_WBev\n",
       "0       2021-01-01           261         Zürich         Schweiz           8100    126442\n",
       "1       2021-01-01          9999        Ausland     Deutschland           8207     34893\n",
       "2       2021-01-01          9999        Ausland     Jugoslawien           8220     17657\n",
       "3       2021-01-01          9999        Ausland         Italien           8218     13545\n",
       "4       2021-01-01           161       Zollikon         Schweiz           8100      9513\n",
       "5       2021-01-01          9999        Ausland        Portugal           8231      5658\n",
       "6       2021-01-01          9999        Ausland         Spanien           8236      5570\n",
       "7       2021-01-01           351           Bern         Schweiz           8100      5502\n",
       "8       2021-01-01          9999        Ausland      Frankreich           8212      5474\n",
       "9       2021-01-01          9999        Ausland          Türkei           8239      5452\n",
       "10      2021-01-01          2701          Basel         Schweiz           8100      5284\n",
       "11      2021-01-01          9999        Ausland      Österreich           8229      5238\n",
       "12      2021-01-01           230     Winterthur         Schweiz           8100      5233\n",
       "13      2021-01-01          9999        Ausland             USA           8439      4774\n",
       "14      2021-01-01          3203     St. Gallen         Schweiz           8100      4548\n",
       "15      2021-01-01          9999        Ausland           UDSSR           8235      4365\n",
       "16      2021-01-01          1061         Luzern         Schweiz           8100      4346\n",
       "17      2021-01-01           247      Schlieren         Schweiz           8100      4316"
      ]
     },
     "execution_count": 75,
     "metadata": {},
     "output_type": "execute_result"
    }
   ],
   "source": [
    "myAggBar = data2betested.loc[\"2021\"].query('GebOrtHistLang !=\"Schweiz\"')\\\n",
    "    .groupby(['StichtagDatJahr','GebOrtHistCd', 'GebOrtHistLang', 'GebLandHistLang', 'GebLandHistCd']) \\\n",
    "    .agg(sum_WBev=('AnzBestWir', 'sum')) \\\n",
    "    .sort_values('sum_WBev', ascending=False) \n",
    "\n",
    "myAggBar.reset_index().query('sum_WBev > 4000')"
   ]
  },
  {
   "cell_type": "code",
   "execution_count": 76,
   "metadata": {},
   "outputs": [
    {
     "data": {
      "text/plain": [
       "<seaborn.axisgrid.FacetGrid at 0x2ac4df2e308>"
      ]
     },
     "execution_count": 76,
     "metadata": {},
     "output_type": "execute_result"
    },
    {
     "data": {
      "image/png": "[encoded data removed]",
      "text/plain": [
       "<Figure size 720x360 with 1 Axes>"
      ]
     },
     "metadata": {
      "needs_background": "light"
     },
     "output_type": "display_data"
    }
   ],
   "source": [
    "#sns.color_palette(\"flare\", as_cmap=True)\n",
    "myHist = sns.catplot(x=\"GebLandHistLang\"\n",
    "            , y=\"sum_WBev\"\n",
    "            , hue=\"GebLandHistLang\"\n",
    "            , kind=\"bar\" #boxen, violin, --> wenn die aggregation nicht genau den werten in der grafik entspricht\n",
    "            , palette=\"pastel\" #, color=\"green\"\n",
    "            , height=5\n",
    "            , aspect=2\n",
    "            , order=None, legend_out=True\n",
    "            ,data=myAggBar.reset_index().query('sum_WBev > 3000')\n",
    "           )\n",
    "myHist.set_xticklabels(rotation=30) \n",
    "myHist.set_xlabels('Geburtsland', fontsize=11) # not set_label\n",
    "myHist.set_ylabels('Anz. Pers.', fontsize=11)\n"
   ]
  },
  {
   "cell_type": "code",
   "execution_count": 77,
   "metadata": {},
   "outputs": [],
   "source": [
    "#help(sns.catplot)     "
   ]
  },
  {
   "cell_type": "code",
   "execution_count": 78,
   "metadata": {},
   "outputs": [],
   "source": [
    "#Stile for the following sns graphs\n",
    "sns.set_theme(style=\"whitegrid\")"
   ]
  },
  {
   "cell_type": "code",
   "execution_count": 79,
   "metadata": {},
   "outputs": [
    {
     "data": {
      "text/html": [
       "<div>\n",
       "<style scoped>\n",
       "    .dataframe tbody tr th:only-of-type {\n",
       "        vertical-align: middle;\n",
       "    }\n",
       "\n",
       "    .dataframe tbody tr th {\n",
       "        vertical-align: top;\n",
       "    }\n",
       "\n",
       "    .dataframe thead th {\n",
       "        text-align: right;\n",
       "    }\n",
       "</style>\n",
       "<table border=\"1\" class=\"dataframe\">\n",
       "  <thead>\n",
       "    <tr style=\"text-align: right;\">\n",
       "      <th></th>\n",
       "      <th>StichtagDatJahr</th>\n",
       "      <th>GebOrtHistCd</th>\n",
       "      <th>GebOrtHistLang</th>\n",
       "      <th>sum_WBev</th>\n",
       "    </tr>\n",
       "  </thead>\n",
       "  <tbody>\n",
       "    <tr>\n",
       "      <th>0</th>\n",
       "      <td>2020-01-01</td>\n",
       "      <td>261</td>\n",
       "      <td>Zürich</td>\n",
       "      <td>126647</td>\n",
       "    </tr>\n",
       "    <tr>\n",
       "      <th>1</th>\n",
       "      <td>2021-01-01</td>\n",
       "      <td>261</td>\n",
       "      <td>Zürich</td>\n",
       "      <td>126442</td>\n",
       "    </tr>\n",
       "    <tr>\n",
       "      <th>2</th>\n",
       "      <td>2019-01-01</td>\n",
       "      <td>261</td>\n",
       "      <td>Zürich</td>\n",
       "      <td>126356</td>\n",
       "    </tr>\n",
       "    <tr>\n",
       "      <th>3</th>\n",
       "      <td>2018-01-01</td>\n",
       "      <td>261</td>\n",
       "      <td>Zürich</td>\n",
       "      <td>125538</td>\n",
       "    </tr>\n",
       "    <tr>\n",
       "      <th>4</th>\n",
       "      <td>2017-01-01</td>\n",
       "      <td>261</td>\n",
       "      <td>Zürich</td>\n",
       "      <td>124583</td>\n",
       "    </tr>\n",
       "    <tr>\n",
       "      <th>...</th>\n",
       "      <td>...</td>\n",
       "      <td>...</td>\n",
       "      <td>...</td>\n",
       "      <td>...</td>\n",
       "    </tr>\n",
       "    <tr>\n",
       "      <th>178</th>\n",
       "      <td>2008-01-01</td>\n",
       "      <td>1061</td>\n",
       "      <td>Luzern</td>\n",
       "      <td>4042</td>\n",
       "    </tr>\n",
       "    <tr>\n",
       "      <th>179</th>\n",
       "      <td>2017-01-01</td>\n",
       "      <td>247</td>\n",
       "      <td>Schlieren</td>\n",
       "      <td>4039</td>\n",
       "    </tr>\n",
       "    <tr>\n",
       "      <th>180</th>\n",
       "      <td>2011-01-01</td>\n",
       "      <td>1061</td>\n",
       "      <td>Luzern</td>\n",
       "      <td>4027</td>\n",
       "    </tr>\n",
       "    <tr>\n",
       "      <th>181</th>\n",
       "      <td>2010-01-01</td>\n",
       "      <td>161</td>\n",
       "      <td>Zollikon</td>\n",
       "      <td>4012</td>\n",
       "    </tr>\n",
       "    <tr>\n",
       "      <th>182</th>\n",
       "      <td>2006-01-01</td>\n",
       "      <td>1061</td>\n",
       "      <td>Luzern</td>\n",
       "      <td>4012</td>\n",
       "    </tr>\n",
       "  </tbody>\n",
       "</table>\n",
       "<p>183 rows × 4 columns</p>\n",
       "</div>"
      ],
      "text/plain": [
       "    StichtagDatJahr  GebOrtHistCd GebOrtHistLang  sum_WBev\n",
       "0        2020-01-01           261         Zürich    126647\n",
       "1        2021-01-01           261         Zürich    126442\n",
       "2        2019-01-01           261         Zürich    126356\n",
       "3        2018-01-01           261         Zürich    125538\n",
       "4        2017-01-01           261         Zürich    124583\n",
       "..              ...           ...            ...       ...\n",
       "178      2008-01-01          1061         Luzern      4042\n",
       "179      2017-01-01           247      Schlieren      4039\n",
       "180      2011-01-01          1061         Luzern      4027\n",
       "181      2010-01-01           161       Zollikon      4012\n",
       "182      2006-01-01          1061         Luzern      4012\n",
       "\n",
       "[183 rows x 4 columns]"
      ]
     },
     "execution_count": 79,
     "metadata": {},
     "output_type": "execute_result"
    }
   ],
   "source": [
    "myAggBar = data2betested.query('GebLandHistLang ==\"Schweiz\"')\\\n",
    "    .groupby(['StichtagDatJahr','GebOrtHistCd', 'GebOrtHistLang']) \\\n",
    "    .agg(sum_WBev=('AnzBestWir', 'sum')) \\\n",
    "    .sort_values('sum_WBev', ascending=False) \n",
    "\n",
    "myAggBar.reset_index().query('sum_WBev > 4000')"
   ]
  },
  {
   "cell_type": "code",
   "execution_count": 80,
   "metadata": {},
   "outputs": [
    {
     "data": {
      "text/plain": [
       "<seaborn.axisgrid.FacetGrid at 0x2ac514fc4c8>"
      ]
     },
     "execution_count": 80,
     "metadata": {},
     "output_type": "execute_result"
    },
    {
     "data": {
      "image/png": "[encoded data removed]",
      "text/plain": [
       "<Figure size 900x360 with 1 Axes>"
      ]
     },
     "metadata": {},
     "output_type": "display_data"
    }
   ],
   "source": [
    "#sns.color_palette(\"flare\", as_cmap=True)\n",
    "myHist = sns.catplot(x=\"GebOrtHistLang\"\n",
    "            , y=\"sum_WBev\"\n",
    "            , hue=\"GebOrtHistLang\"\n",
    "            , kind=\"bar\" #boxen, violin, --> wenn die aggregation nicht genau den werten in der grafik entspricht\n",
    "            , palette=\"pastel\" #, color=\"green\"\n",
    "            , height=5\n",
    "            , aspect=2.5\n",
    "            , order=None, legend_out=True\n",
    "            ,data=myAggBar.reset_index().query('sum_WBev > 4000 & GebOrtHistLang !=\"Zürich\"')\n",
    "           )\n",
    "myHist.set_xticklabels(rotation=30) \n",
    "myHist.set_xlabels('Geburtsland', fontsize=11) # not set_label\n",
    "myHist.set_ylabels('Anz. Pers.', fontsize=11)"
   ]
  },
  {
   "cell_type": "code",
   "execution_count": 81,
   "metadata": {},
   "outputs": [],
   "source": [
    "#data2betested.dtypes"
   ]
  },
  {
   "cell_type": "markdown",
   "metadata": {
    "tags": []
   },
   "source": [
    "\n",
    "\n"
   ]
  },
  {
   "cell_type": "markdown",
   "metadata": {},
   "source": [
    "## ---------------------- hier Plausi beendet\n",
    "\n",
    "**Sharepoint als gecheckt markieren!**"
   ]
  },
  {
   "cell_type": "markdown",
   "metadata": {},
   "source": [
    "Record auf Sharepoint: **[Link](https://kollaboration.intranet.stzh.ch/orga/ssz-produkte/Lists/SASA_Outputs/DispForm.aspx?ID=176&ContentTypeId=0x0100988EAF029F1EFE4CA675F53C32A5D53D01006DBC563E6FBE9E4EB6FDC780799752E1)**\n",
    "\n",
    "---------------------------------------------------------------------------"
   ]
  },
  {
   "cell_type": "code",
   "execution_count": null,
   "metadata": {},
   "outputs": [],
   "source": []
  }
 ],
 "metadata": {
  "kernelspec": {
   "display_name": "Python 3 (ipykernel)",
   "language": "python",
   "name": "python3"
  },
  "language_info": {
   "codemirror_mode": {
    "name": "ipython",
    "version": 3
   },
   "file_extension": ".py",
   "mimetype": "text/x-python",
   "name": "python",
   "nbconvert_exporter": "python",
   "pygments_lexer": "ipython3",
   "version": "3.7.11"
  },
  "toc-autonumbering": false
 },
 "nbformat": 4,
 "nbformat_minor": 4
}
