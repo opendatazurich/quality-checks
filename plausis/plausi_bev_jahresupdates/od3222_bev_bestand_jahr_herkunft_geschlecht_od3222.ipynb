{
 "cells": [
  {
   "cell_type": "markdown",
   "metadata": {},
   "source": [
    "**Importiere die notwendigen Packages**"
   ]
  },
  {
   "cell_type": "code",
   "execution_count": 4,
   "metadata": {},
   "outputs": [],
   "source": [
    "import pandas as pd\n",
    "import pivottablejs\n",
    "from pivottablejs import pivot_ui\n",
    "import numpy as np\n",
    "import altair as alt\n",
    "import matplotlib.pyplot as plt\n",
    "from datetime import datetime\n",
    "import geopandas as gpd\n",
    "import folium \n",
    "\n"
   ]
  },
  {
   "cell_type": "markdown",
   "metadata": {},
   "source": [
    "Definiere Settings. Hier das Zahlenformat von Float-Werten (z.B. *'{:,.2f}'.format* mit Komma als Tausenderzeichen), "
   ]
  },
  {
   "cell_type": "code",
   "execution_count": 5,
   "metadata": {},
   "outputs": [],
   "source": [
    "pd.options.display.float_format = '{:.0f}'.format\n",
    "pd.set_option('display.width', 100)\n",
    "pd.set_option('display.max_columns', 15)"
   ]
  },
  {
   "cell_type": "markdown",
   "metadata": {},
   "source": [
    "Importiere einen Datensatz von der **DWH_INT** Dropzone.\n",
    "\n",
    "- Beachte dabei die Notation des Pfades...\n",
    "- Definiere mal aktuell noch keine weiteren Parameter beim Import"
   ]
  },
  {
   "cell_type": "markdown",
   "metadata": {},
   "source": [
    "**Dataset auf INTEG Datenkatalog**: https://data.integ.stadt-zuerich.ch/dataset/int_dwh_bev_bestand_jahr_herkunft_geschlecht_OD3222\n",
    "\n",
    "(int_dwh)"
   ]
  },
  {
   "cell_type": "code",
   "execution_count": 10,
   "metadata": {},
   "outputs": [],
   "source": [
    "# Filepath\n",
    "fp = r\"//szh.loc/ssz/applikationen/OGD_Dropzone/INT_DWH/bev_bestand_jahr_herkunft_geschlecht_OD3222/BEV322OD3222.csv\"\n",
    "\n",
    "\n",
    "# Read the data\n",
    "data2betested = pd.read_csv(\n",
    "    fp, \n",
    "    sep=',',\n",
    "   #usecols=[0,1,2,3,4,6],\n",
    "   #names=['stationid','year','month','avgtemp','latitude','longitude','elevation','station','countryid','country'],\n",
    "   #skiprows=1,\n",
    "   # parse_dates=[0],\n",
    "    parse_dates=True,\n",
    "    #date_parser=lambda x: pd.to_datetime(x, format=\"%Y\"), \n",
    "    #index_col=\"date_time\",\n",
    "    low_memory=False    \n",
    "    )\n"
   ]
  },
  {
   "cell_type": "markdown",
   "metadata": {},
   "source": [
    "In der Folge ein paar erste Tests:"
   ]
  },
  {
   "cell_type": "code",
   "execution_count": 11,
   "metadata": {},
   "outputs": [
    {
     "data": {
      "text/plain": [
       "pandas.core.frame.DataFrame"
      ]
     },
     "execution_count": 11,
     "metadata": {},
     "output_type": "execute_result"
    }
   ],
   "source": [
    "type(data2betested)"
   ]
  },
  {
   "cell_type": "markdown",
   "metadata": {},
   "source": [
    " - 1) Zeige eine kurze Vorschau der importierten Daten\n",
    " - 2) Weise die Datentypen aus\n",
    " - 3) Zeige die Shape (Umfang) des Datensatzes an"
   ]
  },
  {
   "cell_type": "code",
   "execution_count": 12,
   "metadata": {},
   "outputs": [
    {
     "data": {
      "text/html": [
       "<div>\n",
       "<style scoped>\n",
       "    .dataframe tbody tr th:only-of-type {\n",
       "        vertical-align: middle;\n",
       "    }\n",
       "\n",
       "    .dataframe tbody tr th {\n",
       "        vertical-align: top;\n",
       "    }\n",
       "\n",
       "    .dataframe thead th {\n",
       "        text-align: right;\n",
       "    }\n",
       "</style>\n",
       "<table border=\"1\" class=\"dataframe\">\n",
       "  <thead>\n",
       "    <tr style=\"text-align: right;\">\n",
       "      <th></th>\n",
       "      <th>StichtagDatJahr</th>\n",
       "      <th>AnzBestWir</th>\n",
       "      <th>AnzBestWirCH</th>\n",
       "      <th>AnzBestWirCHW</th>\n",
       "      <th>AnzBestWirCHM</th>\n",
       "      <th>AnzBestWirAUSL</th>\n",
       "      <th>AnzBestWirAUSLW</th>\n",
       "      <th>AnzBestWirAUSLM</th>\n",
       "      <th>AuslAnt</th>\n",
       "    </tr>\n",
       "  </thead>\n",
       "  <tbody>\n",
       "    <tr>\n",
       "      <th>0</th>\n",
       "      <td>2020</td>\n",
       "      <td>434736</td>\n",
       "      <td>295333</td>\n",
       "      <td>152124</td>\n",
       "      <td>143209</td>\n",
       "      <td>139403</td>\n",
       "      <td>64855</td>\n",
       "      <td>74548</td>\n",
       "      <td>32</td>\n",
       "    </tr>\n",
       "    <tr>\n",
       "      <th>1</th>\n",
       "      <td>2019</td>\n",
       "      <td>434008</td>\n",
       "      <td>294205</td>\n",
       "      <td>151730</td>\n",
       "      <td>142475</td>\n",
       "      <td>139803</td>\n",
       "      <td>65125</td>\n",
       "      <td>74678</td>\n",
       "      <td>32</td>\n",
       "    </tr>\n",
       "    <tr>\n",
       "      <th>2</th>\n",
       "      <td>2018</td>\n",
       "      <td>428737</td>\n",
       "      <td>290349</td>\n",
       "      <td>149950</td>\n",
       "      <td>140399</td>\n",
       "      <td>138388</td>\n",
       "      <td>64387</td>\n",
       "      <td>74001</td>\n",
       "      <td>32</td>\n",
       "    </tr>\n",
       "  </tbody>\n",
       "</table>\n",
       "</div>"
      ],
      "text/plain": [
       "   StichtagDatJahr  AnzBestWir  AnzBestWirCH  AnzBestWirCHW  AnzBestWirCHM  AnzBestWirAUSL  \\\n",
       "0             2020      434736        295333         152124         143209          139403   \n",
       "1             2019      434008        294205         151730         142475          139803   \n",
       "2             2018      428737        290349         149950         140399          138388   \n",
       "\n",
       "   AnzBestWirAUSLW  AnzBestWirAUSLM  AuslAnt  \n",
       "0            64855            74548       32  \n",
       "1            65125            74678       32  \n",
       "2            64387            74001       32  "
      ]
     },
     "execution_count": 12,
     "metadata": {},
     "output_type": "execute_result"
    }
   ],
   "source": [
    "data2betested.head(3)"
   ]
  },
  {
   "cell_type": "code",
   "execution_count": 13,
   "metadata": {},
   "outputs": [
    {
     "data": {
      "text/plain": [
       "StichtagDatJahr      int64\n",
       "AnzBestWir           int64\n",
       "AnzBestWirCH         int64\n",
       "AnzBestWirCHW      float64\n",
       "AnzBestWirCHM      float64\n",
       "AnzBestWirAUSL       int64\n",
       "AnzBestWirAUSLW    float64\n",
       "AnzBestWirAUSLM    float64\n",
       "AuslAnt            float64\n",
       "dtype: object"
      ]
     },
     "execution_count": 13,
     "metadata": {},
     "output_type": "execute_result"
    }
   ],
   "source": [
    "data2betested.dtypes"
   ]
  },
  {
   "cell_type": "code",
   "execution_count": 14,
   "metadata": {},
   "outputs": [
    {
     "data": {
      "text/plain": [
       "(120, 9)"
      ]
     },
     "execution_count": 14,
     "metadata": {},
     "output_type": "execute_result"
    }
   ],
   "source": [
    "data2betested.shape"
   ]
  },
  {
   "cell_type": "markdown",
   "metadata": {},
   "source": [
    "Beschreibe einzelne Attribute"
   ]
  },
  {
   "cell_type": "code",
   "execution_count": 15,
   "metadata": {},
   "outputs": [
    {
     "data": {
      "text/html": [
       "<div>\n",
       "<style scoped>\n",
       "    .dataframe tbody tr th:only-of-type {\n",
       "        vertical-align: middle;\n",
       "    }\n",
       "\n",
       "    .dataframe tbody tr th {\n",
       "        vertical-align: top;\n",
       "    }\n",
       "\n",
       "    .dataframe thead th {\n",
       "        text-align: right;\n",
       "    }\n",
       "</style>\n",
       "<table border=\"1\" class=\"dataframe\">\n",
       "  <thead>\n",
       "    <tr style=\"text-align: right;\">\n",
       "      <th></th>\n",
       "      <th>StichtagDatJahr</th>\n",
       "      <th>AnzBestWir</th>\n",
       "      <th>AnzBestWirCH</th>\n",
       "      <th>AnzBestWirCHW</th>\n",
       "      <th>AnzBestWirCHM</th>\n",
       "      <th>AnzBestWirAUSL</th>\n",
       "      <th>AnzBestWirAUSLW</th>\n",
       "      <th>AnzBestWirAUSLM</th>\n",
       "      <th>AuslAnt</th>\n",
       "    </tr>\n",
       "  </thead>\n",
       "  <tbody>\n",
       "    <tr>\n",
       "      <th>count</th>\n",
       "      <td>120</td>\n",
       "      <td>120</td>\n",
       "      <td>120</td>\n",
       "      <td>87</td>\n",
       "      <td>87</td>\n",
       "      <td>120</td>\n",
       "      <td>87</td>\n",
       "      <td>87</td>\n",
       "      <td>120</td>\n",
       "    </tr>\n",
       "    <tr>\n",
       "      <th>mean</th>\n",
       "      <td>1960</td>\n",
       "      <td>333896</td>\n",
       "      <td>266599</td>\n",
       "      <td>166571</td>\n",
       "      <td>142320</td>\n",
       "      <td>67297</td>\n",
       "      <td>35390</td>\n",
       "      <td>39239</td>\n",
       "      <td>21</td>\n",
       "    </tr>\n",
       "    <tr>\n",
       "      <th>std</th>\n",
       "      <td>35</td>\n",
       "      <td>87201</td>\n",
       "      <td>80162</td>\n",
       "      <td>23165</td>\n",
       "      <td>20276</td>\n",
       "      <td>31975</td>\n",
       "      <td>14284</td>\n",
       "      <td>20169</td>\n",
       "      <td>9</td>\n",
       "    </tr>\n",
       "    <tr>\n",
       "      <th>min</th>\n",
       "      <td>1901</td>\n",
       "      <td>150301</td>\n",
       "      <td>108291</td>\n",
       "      <td>136041</td>\n",
       "      <td>116422</td>\n",
       "      <td>24306</td>\n",
       "      <td>14326</td>\n",
       "      <td>9980</td>\n",
       "      <td>7</td>\n",
       "    </tr>\n",
       "    <tr>\n",
       "      <th>25%</th>\n",
       "      <td>1931</td>\n",
       "      <td>255375</td>\n",
       "      <td>217678</td>\n",
       "      <td>145675</td>\n",
       "      <td>125126</td>\n",
       "      <td>37768</td>\n",
       "      <td>22578</td>\n",
       "      <td>16386</td>\n",
       "      <td>14</td>\n",
       "    </tr>\n",
       "    <tr>\n",
       "      <th>50%</th>\n",
       "      <td>1960</td>\n",
       "      <td>361234</td>\n",
       "      <td>278909</td>\n",
       "      <td>161887</td>\n",
       "      <td>138104</td>\n",
       "      <td>66316</td>\n",
       "      <td>32389</td>\n",
       "      <td>38576</td>\n",
       "      <td>19</td>\n",
       "    </tr>\n",
       "    <tr>\n",
       "      <th>75%</th>\n",
       "      <td>1990</td>\n",
       "      <td>396840</td>\n",
       "      <td>323283</td>\n",
       "      <td>187400</td>\n",
       "      <td>161720</td>\n",
       "      <td>86396</td>\n",
       "      <td>47712</td>\n",
       "      <td>56700</td>\n",
       "      <td>29</td>\n",
       "    </tr>\n",
       "    <tr>\n",
       "      <th>max</th>\n",
       "      <td>2020</td>\n",
       "      <td>440180</td>\n",
       "      <td>386147</td>\n",
       "      <td>207251</td>\n",
       "      <td>178896</td>\n",
       "      <td>139803</td>\n",
       "      <td>65125</td>\n",
       "      <td>74678</td>\n",
       "      <td>34</td>\n",
       "    </tr>\n",
       "  </tbody>\n",
       "</table>\n",
       "</div>"
      ],
      "text/plain": [
       "       StichtagDatJahr  AnzBestWir  AnzBestWirCH  AnzBestWirCHW  AnzBestWirCHM  AnzBestWirAUSL  \\\n",
       "count              120         120           120             87             87             120   \n",
       "mean              1960      333896        266599         166571         142320           67297   \n",
       "std                 35       87201         80162          23165          20276           31975   \n",
       "min               1901      150301        108291         136041         116422           24306   \n",
       "25%               1931      255375        217678         145675         125126           37768   \n",
       "50%               1960      361234        278909         161887         138104           66316   \n",
       "75%               1990      396840        323283         187400         161720           86396   \n",
       "max               2020      440180        386147         207251         178896          139803   \n",
       "\n",
       "       AnzBestWirAUSLW  AnzBestWirAUSLM  AuslAnt  \n",
       "count               87               87      120  \n",
       "mean             35390            39239       21  \n",
       "std              14284            20169        9  \n",
       "min              14326             9980        7  \n",
       "25%              22578            16386       14  \n",
       "50%              32389            38576       19  \n",
       "75%              47712            56700       29  \n",
       "max              65125            74678       34  "
      ]
     },
     "execution_count": 15,
     "metadata": {},
     "output_type": "execute_result"
    }
   ],
   "source": [
    "data2betested.describe()"
   ]
  },
  {
   "cell_type": "markdown",
   "metadata": {},
   "source": [
    "Wie viele Nullwerte gibt es im Datensatz?"
   ]
  },
  {
   "cell_type": "code",
   "execution_count": 16,
   "metadata": {
    "scrolled": true
   },
   "outputs": [
    {
     "data": {
      "text/plain": [
       "StichtagDatJahr     0\n",
       "AnzBestWir          0\n",
       "AnzBestWirCH        0\n",
       "AnzBestWirCHW      33\n",
       "AnzBestWirCHM      33\n",
       "AnzBestWirAUSL      0\n",
       "AnzBestWirAUSLW    33\n",
       "AnzBestWirAUSLM    33\n",
       "AuslAnt             0\n",
       "dtype: int64"
      ]
     },
     "execution_count": 16,
     "metadata": {},
     "output_type": "execute_result"
    }
   ],
   "source": [
    "data2betested.isnull().sum()"
   ]
  },
  {
   "cell_type": "markdown",
   "metadata": {},
   "source": [
    "Wandle die Spalte Jahr von Int zu **Datetime** um. Dies wird in den meisten Grafiken so benötigt."
   ]
  },
  {
   "cell_type": "code",
   "execution_count": 17,
   "metadata": {
    "scrolled": true
   },
   "outputs": [
    {
     "data": {
      "text/html": [
       "<div>\n",
       "<style scoped>\n",
       "    .dataframe tbody tr th:only-of-type {\n",
       "        vertical-align: middle;\n",
       "    }\n",
       "\n",
       "    .dataframe tbody tr th {\n",
       "        vertical-align: top;\n",
       "    }\n",
       "\n",
       "    .dataframe thead th {\n",
       "        text-align: right;\n",
       "    }\n",
       "</style>\n",
       "<table border=\"1\" class=\"dataframe\">\n",
       "  <thead>\n",
       "    <tr style=\"text-align: right;\">\n",
       "      <th></th>\n",
       "      <th>StichtagDatJahr</th>\n",
       "      <th>AnzBestWir</th>\n",
       "      <th>AnzBestWirCH</th>\n",
       "      <th>AnzBestWirCHW</th>\n",
       "      <th>AnzBestWirCHM</th>\n",
       "      <th>AnzBestWirAUSL</th>\n",
       "      <th>AnzBestWirAUSLW</th>\n",
       "      <th>AnzBestWirAUSLM</th>\n",
       "      <th>AuslAnt</th>\n",
       "    </tr>\n",
       "  </thead>\n",
       "  <tbody>\n",
       "    <tr>\n",
       "      <th>0</th>\n",
       "      <td>2020-01-01</td>\n",
       "      <td>434736</td>\n",
       "      <td>295333</td>\n",
       "      <td>152124</td>\n",
       "      <td>143209</td>\n",
       "      <td>139403</td>\n",
       "      <td>64855</td>\n",
       "      <td>74548</td>\n",
       "      <td>32</td>\n",
       "    </tr>\n",
       "    <tr>\n",
       "      <th>1</th>\n",
       "      <td>2019-01-01</td>\n",
       "      <td>434008</td>\n",
       "      <td>294205</td>\n",
       "      <td>151730</td>\n",
       "      <td>142475</td>\n",
       "      <td>139803</td>\n",
       "      <td>65125</td>\n",
       "      <td>74678</td>\n",
       "      <td>32</td>\n",
       "    </tr>\n",
       "    <tr>\n",
       "      <th>2</th>\n",
       "      <td>2018-01-01</td>\n",
       "      <td>428737</td>\n",
       "      <td>290349</td>\n",
       "      <td>149950</td>\n",
       "      <td>140399</td>\n",
       "      <td>138388</td>\n",
       "      <td>64387</td>\n",
       "      <td>74001</td>\n",
       "      <td>32</td>\n",
       "    </tr>\n",
       "    <tr>\n",
       "      <th>3</th>\n",
       "      <td>2017-01-01</td>\n",
       "      <td>423310</td>\n",
       "      <td>286255</td>\n",
       "      <td>148151</td>\n",
       "      <td>138104</td>\n",
       "      <td>137055</td>\n",
       "      <td>63790</td>\n",
       "      <td>73265</td>\n",
       "      <td>32</td>\n",
       "    </tr>\n",
       "    <tr>\n",
       "      <th>4</th>\n",
       "      <td>2016-01-01</td>\n",
       "      <td>415682</td>\n",
       "      <td>282209</td>\n",
       "      <td>146356</td>\n",
       "      <td>135853</td>\n",
       "      <td>133473</td>\n",
       "      <td>62134</td>\n",
       "      <td>71339</td>\n",
       "      <td>32</td>\n",
       "    </tr>\n",
       "    <tr>\n",
       "      <th>...</th>\n",
       "      <td>...</td>\n",
       "      <td>...</td>\n",
       "      <td>...</td>\n",
       "      <td>...</td>\n",
       "      <td>...</td>\n",
       "      <td>...</td>\n",
       "      <td>...</td>\n",
       "      <td>...</td>\n",
       "      <td>...</td>\n",
       "    </tr>\n",
       "    <tr>\n",
       "      <th>115</th>\n",
       "      <td>1905-01-01</td>\n",
       "      <td>168877</td>\n",
       "      <td>117236</td>\n",
       "      <td>nan</td>\n",
       "      <td>nan</td>\n",
       "      <td>51641</td>\n",
       "      <td>nan</td>\n",
       "      <td>nan</td>\n",
       "      <td>31</td>\n",
       "    </tr>\n",
       "    <tr>\n",
       "      <th>116</th>\n",
       "      <td>1904-01-01</td>\n",
       "      <td>164060</td>\n",
       "      <td>115612</td>\n",
       "      <td>nan</td>\n",
       "      <td>nan</td>\n",
       "      <td>48448</td>\n",
       "      <td>nan</td>\n",
       "      <td>nan</td>\n",
       "      <td>30</td>\n",
       "    </tr>\n",
       "    <tr>\n",
       "      <th>117</th>\n",
       "      <td>1903-01-01</td>\n",
       "      <td>158719</td>\n",
       "      <td>112915</td>\n",
       "      <td>nan</td>\n",
       "      <td>nan</td>\n",
       "      <td>45804</td>\n",
       "      <td>nan</td>\n",
       "      <td>nan</td>\n",
       "      <td>29</td>\n",
       "    </tr>\n",
       "    <tr>\n",
       "      <th>118</th>\n",
       "      <td>1902-01-01</td>\n",
       "      <td>153741</td>\n",
       "      <td>110707</td>\n",
       "      <td>nan</td>\n",
       "      <td>nan</td>\n",
       "      <td>43034</td>\n",
       "      <td>nan</td>\n",
       "      <td>nan</td>\n",
       "      <td>28</td>\n",
       "    </tr>\n",
       "    <tr>\n",
       "      <th>119</th>\n",
       "      <td>1901-01-01</td>\n",
       "      <td>150301</td>\n",
       "      <td>108291</td>\n",
       "      <td>nan</td>\n",
       "      <td>nan</td>\n",
       "      <td>42010</td>\n",
       "      <td>nan</td>\n",
       "      <td>nan</td>\n",
       "      <td>28</td>\n",
       "    </tr>\n",
       "  </tbody>\n",
       "</table>\n",
       "<p>120 rows × 9 columns</p>\n",
       "</div>"
      ],
      "text/plain": [
       "    StichtagDatJahr  AnzBestWir  AnzBestWirCH  AnzBestWirCHW  AnzBestWirCHM  AnzBestWirAUSL  \\\n",
       "0        2020-01-01      434736        295333         152124         143209          139403   \n",
       "1        2019-01-01      434008        294205         151730         142475          139803   \n",
       "2        2018-01-01      428737        290349         149950         140399          138388   \n",
       "3        2017-01-01      423310        286255         148151         138104          137055   \n",
       "4        2016-01-01      415682        282209         146356         135853          133473   \n",
       "..              ...         ...           ...            ...            ...             ...   \n",
       "115      1905-01-01      168877        117236            nan            nan           51641   \n",
       "116      1904-01-01      164060        115612            nan            nan           48448   \n",
       "117      1903-01-01      158719        112915            nan            nan           45804   \n",
       "118      1902-01-01      153741        110707            nan            nan           43034   \n",
       "119      1901-01-01      150301        108291            nan            nan           42010   \n",
       "\n",
       "     AnzBestWirAUSLW  AnzBestWirAUSLM  AuslAnt  \n",
       "0              64855            74548       32  \n",
       "1              65125            74678       32  \n",
       "2              64387            74001       32  \n",
       "3              63790            73265       32  \n",
       "4              62134            71339       32  \n",
       "..               ...              ...      ...  \n",
       "115              nan              nan       31  \n",
       "116              nan              nan       30  \n",
       "117              nan              nan       29  \n",
       "118              nan              nan       28  \n",
       "119              nan              nan       28  \n",
       "\n",
       "[120 rows x 9 columns]"
      ]
     },
     "execution_count": 17,
     "metadata": {},
     "output_type": "execute_result"
    }
   ],
   "source": [
    "data2betested['StichtagDatJahr']=pd.to_datetime(data2betested['StichtagDatJahr'], format='%Y')\n",
    "\n",
    "#TO DO --> setze das Datum auf den 31.12. der Jahres.\n",
    "#test=data2betested[['StichtagDatJahr']].date().replace(month=12, day=31)\n",
    "\n",
    "data2betested"
   ]
  },
  {
   "cell_type": "markdown",
   "metadata": {},
   "source": [
    "Bereite die Daten für die Grafik unten vor"
   ]
  },
  {
   "cell_type": "code",
   "execution_count": 18,
   "metadata": {},
   "outputs": [
    {
     "data": {
      "text/plain": [
       "120"
      ]
     },
     "execution_count": 18,
     "metadata": {},
     "output_type": "execute_result"
    }
   ],
   "source": [
    "Jahre = data2betested.groupby(\"StichtagDatJahr\")\n",
    "len(Jahre)"
   ]
  },
  {
   "cell_type": "code",
   "execution_count": 19,
   "metadata": {},
   "outputs": [
    {
     "name": "stdout",
     "output_type": "stream",
     "text": [
      "1901-01-01 00:00:00 1\n",
      "1902-01-01 00:00:00 1\n",
      "1903-01-01 00:00:00 1\n",
      "1904-01-01 00:00:00 1\n",
      "1905-01-01 00:00:00 1\n",
      "1906-01-01 00:00:00 1\n",
      "1907-01-01 00:00:00 1\n",
      "1908-01-01 00:00:00 1\n",
      "1909-01-01 00:00:00 1\n",
      "1910-01-01 00:00:00 1\n",
      "1911-01-01 00:00:00 1\n",
      "1912-01-01 00:00:00 1\n",
      "1913-01-01 00:00:00 1\n",
      "1914-01-01 00:00:00 1\n",
      "1915-01-01 00:00:00 1\n",
      "1916-01-01 00:00:00 1\n",
      "1917-01-01 00:00:00 1\n",
      "1918-01-01 00:00:00 1\n",
      "1919-01-01 00:00:00 1\n",
      "1920-01-01 00:00:00 1\n",
      "1921-01-01 00:00:00 1\n",
      "1922-01-01 00:00:00 1\n",
      "1923-01-01 00:00:00 1\n",
      "1924-01-01 00:00:00 1\n",
      "1925-01-01 00:00:00 1\n",
      "1926-01-01 00:00:00 1\n",
      "1927-01-01 00:00:00 1\n",
      "1928-01-01 00:00:00 1\n",
      "1929-01-01 00:00:00 1\n",
      "1930-01-01 00:00:00 1\n",
      "1931-01-01 00:00:00 1\n",
      "1932-01-01 00:00:00 1\n",
      "1933-01-01 00:00:00 1\n",
      "1934-01-01 00:00:00 1\n",
      "1935-01-01 00:00:00 1\n",
      "1936-01-01 00:00:00 1\n",
      "1937-01-01 00:00:00 1\n",
      "1938-01-01 00:00:00 1\n",
      "1939-01-01 00:00:00 1\n",
      "1940-01-01 00:00:00 1\n",
      "1941-01-01 00:00:00 1\n",
      "1942-01-01 00:00:00 1\n",
      "1943-01-01 00:00:00 1\n",
      "1944-01-01 00:00:00 1\n",
      "1945-01-01 00:00:00 1\n",
      "1946-01-01 00:00:00 1\n",
      "1947-01-01 00:00:00 1\n",
      "1948-01-01 00:00:00 1\n",
      "1949-01-01 00:00:00 1\n",
      "1950-01-01 00:00:00 1\n",
      "1951-01-01 00:00:00 1\n",
      "1952-01-01 00:00:00 1\n",
      "1953-01-01 00:00:00 1\n",
      "1954-01-01 00:00:00 1\n",
      "1955-01-01 00:00:00 1\n",
      "1956-01-01 00:00:00 1\n",
      "1957-01-01 00:00:00 1\n",
      "1958-01-01 00:00:00 1\n",
      "1959-01-01 00:00:00 1\n",
      "1960-01-01 00:00:00 1\n",
      "1961-01-01 00:00:00 1\n",
      "1962-01-01 00:00:00 1\n",
      "1963-01-01 00:00:00 1\n",
      "1964-01-01 00:00:00 1\n",
      "1965-01-01 00:00:00 1\n",
      "1966-01-01 00:00:00 1\n",
      "1967-01-01 00:00:00 1\n",
      "1968-01-01 00:00:00 1\n",
      "1969-01-01 00:00:00 1\n",
      "1970-01-01 00:00:00 1\n",
      "1971-01-01 00:00:00 1\n",
      "1972-01-01 00:00:00 1\n",
      "1973-01-01 00:00:00 1\n",
      "1974-01-01 00:00:00 1\n",
      "1975-01-01 00:00:00 1\n",
      "1976-01-01 00:00:00 1\n",
      "1977-01-01 00:00:00 1\n",
      "1978-01-01 00:00:00 1\n",
      "1979-01-01 00:00:00 1\n",
      "1980-01-01 00:00:00 1\n",
      "1981-01-01 00:00:00 1\n",
      "1982-01-01 00:00:00 1\n",
      "1983-01-01 00:00:00 1\n",
      "1984-01-01 00:00:00 1\n",
      "1985-01-01 00:00:00 1\n",
      "1986-01-01 00:00:00 1\n",
      "1987-01-01 00:00:00 1\n",
      "1988-01-01 00:00:00 1\n",
      "1989-01-01 00:00:00 1\n",
      "1990-01-01 00:00:00 1\n",
      "1991-01-01 00:00:00 1\n",
      "1992-01-01 00:00:00 1\n",
      "1993-01-01 00:00:00 1\n",
      "1994-01-01 00:00:00 1\n",
      "1995-01-01 00:00:00 1\n",
      "1996-01-01 00:00:00 1\n",
      "1997-01-01 00:00:00 1\n",
      "1998-01-01 00:00:00 1\n",
      "1999-01-01 00:00:00 1\n",
      "2000-01-01 00:00:00 1\n",
      "2001-01-01 00:00:00 1\n",
      "2002-01-01 00:00:00 1\n",
      "2003-01-01 00:00:00 1\n",
      "2004-01-01 00:00:00 1\n",
      "2005-01-01 00:00:00 1\n",
      "2006-01-01 00:00:00 1\n",
      "2007-01-01 00:00:00 1\n",
      "2008-01-01 00:00:00 1\n",
      "2009-01-01 00:00:00 1\n",
      "2010-01-01 00:00:00 1\n",
      "2011-01-01 00:00:00 1\n",
      "2012-01-01 00:00:00 1\n",
      "2013-01-01 00:00:00 1\n",
      "2014-01-01 00:00:00 1\n",
      "2015-01-01 00:00:00 1\n",
      "2016-01-01 00:00:00 1\n",
      "2017-01-01 00:00:00 1\n",
      "2018-01-01 00:00:00 1\n",
      "2019-01-01 00:00:00 1\n",
      "2020-01-01 00:00:00 1\n"
     ]
    }
   ],
   "source": [
    "for key, group in Jahre:\n",
    "    print(key, len(group))"
   ]
  },
  {
   "cell_type": "code",
   "execution_count": 20,
   "metadata": {},
   "outputs": [
    {
     "data": {
      "text/html": [
       "<div>\n",
       "<style scoped>\n",
       "    .dataframe tbody tr th:only-of-type {\n",
       "        vertical-align: middle;\n",
       "    }\n",
       "\n",
       "    .dataframe tbody tr th {\n",
       "        vertical-align: top;\n",
       "    }\n",
       "\n",
       "    .dataframe thead th {\n",
       "        text-align: right;\n",
       "    }\n",
       "</style>\n",
       "<table border=\"1\" class=\"dataframe\">\n",
       "  <thead>\n",
       "    <tr style=\"text-align: right;\">\n",
       "      <th></th>\n",
       "      <th>StichtagDatJahr</th>\n",
       "      <th>AnzBestWir</th>\n",
       "      <th>AnzBestWirCH</th>\n",
       "      <th>AnzBestWirCHW</th>\n",
       "      <th>AnzBestWirCHM</th>\n",
       "      <th>AnzBestWirAUSL</th>\n",
       "      <th>AnzBestWirAUSLW</th>\n",
       "      <th>AnzBestWirAUSLM</th>\n",
       "      <th>AuslAnt</th>\n",
       "    </tr>\n",
       "  </thead>\n",
       "  <tbody>\n",
       "    <tr>\n",
       "      <th>0</th>\n",
       "      <td>2020-01-01</td>\n",
       "      <td>434736</td>\n",
       "      <td>295333</td>\n",
       "      <td>152124</td>\n",
       "      <td>143209</td>\n",
       "      <td>139403</td>\n",
       "      <td>64855</td>\n",
       "      <td>74548</td>\n",
       "      <td>32</td>\n",
       "    </tr>\n",
       "  </tbody>\n",
       "</table>\n",
       "</div>"
      ],
      "text/plain": [
       "  StichtagDatJahr  AnzBestWir  AnzBestWirCH  AnzBestWirCHW  AnzBestWirCHM  AnzBestWirAUSL  \\\n",
       "0      2020-01-01      434736        295333         152124         143209          139403   \n",
       "\n",
       "   AnzBestWirAUSLW  AnzBestWirAUSLM  AuslAnt  \n",
       "0            64855            74548       32  "
      ]
     },
     "execution_count": 20,
     "metadata": {},
     "output_type": "execute_result"
    }
   ],
   "source": [
    "myJahr = \"2020-01-01\"\n",
    "aktuellesJahr=Jahre.get_group(myJahr)   \n",
    "aktuellesJahr.head(3)"
   ]
  },
  {
   "cell_type": "markdown",
   "metadata": {},
   "source": [
    "**Selektionen und Aggregationen**\n",
    "\n",
    "Check this [Doku](https://www.shanelynn.ie/summarising-aggregation-and-grouping-data-in-python-pandas/)"
   ]
  },
  {
   "cell_type": "code",
   "execution_count": 22,
   "metadata": {},
   "outputs": [],
   "source": [
    "#test = data2betested.groupby(['StichtagDatJahr', 'AlterV20Kurz'])[['AnzBestWir']].agg()\n",
    "\n",
    "# produces Pandas Series\n",
    "    #data2betested.groupby(['StichtagDatJahr', 'KonOGDSort'])['AnzBestWir'].sum()\n",
    "# Produces Pandas DataFrame\n",
    "    #data2betested.groupby(['StichtagDatJahr', 'KonOGDSort'])[['AnzBestWir']].sum()\n",
    "\n",
    "    "
   ]
  },
  {
   "cell_type": "markdown",
   "metadata": {},
   "source": [
    "**Einfache Visualisierungen zur Plausi**"
   ]
  },
  {
   "cell_type": "markdown",
   "metadata": {},
   "source": [
    "Exploriere die Daten mit Pivottable.JS"
   ]
  },
  {
   "cell_type": "code",
   "execution_count": 23,
   "metadata": {},
   "outputs": [
    {
     "data": {
      "text/html": [
       "\n",
       "        <iframe\n",
       "            width=\"100%\"\n",
       "            height=\"500\"\n",
       "            src=\"pivottablejs.html\"\n",
       "            frameborder=\"0\"\n",
       "            allowfullscreen\n",
       "        ></iframe>\n",
       "        "
      ],
      "text/plain": [
       "<IPython.lib.display.IFrame at 0x18560fb5040>"
      ]
     },
     "execution_count": 23,
     "metadata": {},
     "output_type": "execute_result"
    }
   ],
   "source": [
    "from pivottablejs import pivot_ui\n",
    "\n",
    "pivot_ui(data2betested)"
   ]
  },
  {
   "cell_type": "markdown",
   "metadata": {},
   "source": [
    "Liniendiagramm \n",
    "[Link zur Doku](https://altair-viz.github.io/gallery/multiline_highlight.html)"
   ]
  },
  {
   "cell_type": "code",
   "execution_count": 25,
   "metadata": {},
   "outputs": [
    {
     "data": {
      "text/html": [
       "<div>\n",
       "<style scoped>\n",
       "    .dataframe tbody tr th:only-of-type {\n",
       "        vertical-align: middle;\n",
       "    }\n",
       "\n",
       "    .dataframe tbody tr th {\n",
       "        vertical-align: top;\n",
       "    }\n",
       "\n",
       "    .dataframe thead th {\n",
       "        text-align: right;\n",
       "    }\n",
       "</style>\n",
       "<table border=\"1\" class=\"dataframe\">\n",
       "  <thead>\n",
       "    <tr style=\"text-align: right;\">\n",
       "      <th></th>\n",
       "      <th>StichtagDatJahr</th>\n",
       "      <th>AnzBestWir</th>\n",
       "      <th>AnzBestWirCH</th>\n",
       "      <th>AnzBestWirCHW</th>\n",
       "      <th>AnzBestWirCHM</th>\n",
       "      <th>AnzBestWirAUSL</th>\n",
       "      <th>AnzBestWirAUSLW</th>\n",
       "      <th>AnzBestWirAUSLM</th>\n",
       "      <th>AuslAnt</th>\n",
       "    </tr>\n",
       "  </thead>\n",
       "  <tbody>\n",
       "    <tr>\n",
       "      <th>0</th>\n",
       "      <td>2020-01-01</td>\n",
       "      <td>434736</td>\n",
       "      <td>295333</td>\n",
       "      <td>152124</td>\n",
       "      <td>143209</td>\n",
       "      <td>139403</td>\n",
       "      <td>64855</td>\n",
       "      <td>74548</td>\n",
       "      <td>32</td>\n",
       "    </tr>\n",
       "    <tr>\n",
       "      <th>1</th>\n",
       "      <td>2019-01-01</td>\n",
       "      <td>434008</td>\n",
       "      <td>294205</td>\n",
       "      <td>151730</td>\n",
       "      <td>142475</td>\n",
       "      <td>139803</td>\n",
       "      <td>65125</td>\n",
       "      <td>74678</td>\n",
       "      <td>32</td>\n",
       "    </tr>\n",
       "    <tr>\n",
       "      <th>2</th>\n",
       "      <td>2018-01-01</td>\n",
       "      <td>428737</td>\n",
       "      <td>290349</td>\n",
       "      <td>149950</td>\n",
       "      <td>140399</td>\n",
       "      <td>138388</td>\n",
       "      <td>64387</td>\n",
       "      <td>74001</td>\n",
       "      <td>32</td>\n",
       "    </tr>\n",
       "    <tr>\n",
       "      <th>3</th>\n",
       "      <td>2017-01-01</td>\n",
       "      <td>423310</td>\n",
       "      <td>286255</td>\n",
       "      <td>148151</td>\n",
       "      <td>138104</td>\n",
       "      <td>137055</td>\n",
       "      <td>63790</td>\n",
       "      <td>73265</td>\n",
       "      <td>32</td>\n",
       "    </tr>\n",
       "    <tr>\n",
       "      <th>4</th>\n",
       "      <td>2016-01-01</td>\n",
       "      <td>415682</td>\n",
       "      <td>282209</td>\n",
       "      <td>146356</td>\n",
       "      <td>135853</td>\n",
       "      <td>133473</td>\n",
       "      <td>62134</td>\n",
       "      <td>71339</td>\n",
       "      <td>32</td>\n",
       "    </tr>\n",
       "  </tbody>\n",
       "</table>\n",
       "</div>"
      ],
      "text/plain": [
       "  StichtagDatJahr  AnzBestWir  AnzBestWirCH  AnzBestWirCHW  AnzBestWirCHM  AnzBestWirAUSL  \\\n",
       "0      2020-01-01      434736        295333         152124         143209          139403   \n",
       "1      2019-01-01      434008        294205         151730         142475          139803   \n",
       "2      2018-01-01      428737        290349         149950         140399          138388   \n",
       "3      2017-01-01      423310        286255         148151         138104          137055   \n",
       "4      2016-01-01      415682        282209         146356         135853          133473   \n",
       "\n",
       "   AnzBestWirAUSLW  AnzBestWirAUSLM  AuslAnt  \n",
       "0            64855            74548       32  \n",
       "1            65125            74678       32  \n",
       "2            64387            74001       32  \n",
       "3            63790            73265       32  \n",
       "4            62134            71339       32  "
      ]
     },
     "execution_count": 25,
     "metadata": {},
     "output_type": "execute_result"
    }
   ],
   "source": [
    "mySelection = data2betested[(data2betested.StichtagDatJahr>\"1900-01-01\")]\n",
    "#mySelection = data2betested[(data2betested.StichtagDatJahr>\"2011-01-01\") & (data2betested.QuarSort<70)]\n",
    "mySelection.head()\n",
    "\n"
   ]
  },
  {
   "cell_type": "code",
   "execution_count": 26,
   "metadata": {},
   "outputs": [],
   "source": [
    "#mySelection = aktuellesJahr[[\"StatZoneSort\",\"AnzBestWir\"]]\n",
    "#mySelection"
   ]
  },
  {
   "cell_type": "code",
   "execution_count": 32,
   "metadata": {},
   "outputs": [
    {
     "data": {
      "text/html": [
       "\n",
       "<div id=\"altair-viz-bdd46435962a4015840dd9bb7876f745\"></div>\n",
       "<script type=\"text/javascript\">\n",
       "  (function(spec, embedOpt){\n",
       "    let outputDiv = document.currentScript.previousElementSibling;\n",
       "    if (outputDiv.id !== \"altair-viz-bdd46435962a4015840dd9bb7876f745\") {\n",
       "      outputDiv = document.getElementById(\"altair-viz-bdd46435962a4015840dd9bb7876f745\");\n",
       "    }\n",
       "    const paths = {\n",
       "      \"vega\": \"https://cdn.jsdelivr.net/npm//vega@5?noext\",\n",
       "      \"vega-lib\": \"https://cdn.jsdelivr.net/npm//vega-lib?noext\",\n",
       "      \"vega-lite\": \"https://cdn.jsdelivr.net/npm//vega-lite@4.8.1?noext\",\n",
       "      \"vega-embed\": \"https://cdn.jsdelivr.net/npm//vega-embed@6?noext\",\n",
       "    };\n",
       "\n",
       "    function loadScript(lib) {\n",
       "      return new Promise(function(resolve, reject) {\n",
       "        var s = document.createElement('script');\n",
       "        s.src = paths[lib];\n",
       "        s.async = true;\n",
       "        s.onload = () => resolve(paths[lib]);\n",
       "        s.onerror = () => reject(`Error loading script: ${paths[lib]}`);\n",
       "        document.getElementsByTagName(\"head\")[0].appendChild(s);\n",
       "      });\n",
       "    }\n",
       "\n",
       "    function showError(err) {\n",
       "      outputDiv.innerHTML = `<div class=\"error\" style=\"color:red;\">${err}</div>`;\n",
       "      throw err;\n",
       "    }\n",
       "\n",
       "    function displayChart(vegaEmbed) {\n",
       "      vegaEmbed(outputDiv, spec, embedOpt)\n",
       "        .catch(err => showError(`Javascript Error: ${err.message}<br>This usually means there's a typo in your chart specification. See the javascript console for the full traceback.`));\n",
       "    }\n",
       "\n",
       "    if(typeof define === \"function\" && define.amd) {\n",
       "      requirejs.config({paths});\n",
       "      require([\"vega-embed\"], displayChart, err => showError(`Error loading script: ${err.message}`));\n",
       "    } else if (typeof vegaEmbed === \"function\") {\n",
       "      displayChart(vegaEmbed);\n",
       "    } else {\n",
       "      loadScript(\"vega\")\n",
       "        .then(() => loadScript(\"vega-lite\"))\n",
       "        .then(() => loadScript(\"vega-embed\"))\n",
       "        .catch(showError)\n",
       "        .then(() => displayChart(vegaEmbed));\n",
       "    }\n",
       "  })({\"config\": {\"view\": {\"continuousWidth\": 400, \"continuousHeight\": 300}}, \"layer\": [{\"mark\": \"circle\", \"encoding\": {\"color\": {\"type\": \"quantitative\", \"field\": \"AnzBestWirAUSL\"}, \"opacity\": {\"value\": 0}, \"x\": {\"type\": \"nominal\", \"field\": \"StichtagDatJahr\"}, \"y\": {\"type\": \"quantitative\", \"field\": \"AnzBestWirAUSL\"}}, \"height\": 300, \"selection\": {\"selector011\": {\"type\": \"single\", \"on\": \"mouseover\", \"fields\": [\"AnzBestWirAUSL\"], \"nearest\": true}}, \"width\": 700}, {\"mark\": \"line\", \"encoding\": {\"color\": {\"type\": \"quantitative\", \"field\": \"AnzBestWirAUSL\"}, \"size\": {\"condition\": {\"value\": 1.5, \"selection\": {\"not\": \"selector011\"}}, \"value\": 4}, \"x\": {\"type\": \"nominal\", \"field\": \"StichtagDatJahr\"}, \"y\": {\"type\": \"quantitative\", \"field\": \"AnzBestWirAUSL\"}}, \"selection\": {\"selector012\": {\"type\": \"interval\", \"bind\": \"scales\", \"encodings\": [\"x\", \"y\"]}}}], \"data\": {\"name\": \"data-d6ae37e1352b7129cc55e4f9843bb453\"}, \"$schema\": \"https://vega.github.io/schema/vega-lite/v4.8.1.json\", \"datasets\": {\"data-d6ae37e1352b7129cc55e4f9843bb453\": [{\"StichtagDatJahr\": \"2020-01-01T00:00:00\", \"AnzBestWir\": 434736, \"AnzBestWirCH\": 295333, \"AnzBestWirCHW\": 152124.0, \"AnzBestWirCHM\": 143209.0, \"AnzBestWirAUSL\": 139403, \"AnzBestWirAUSLW\": 64855.0, \"AnzBestWirAUSLM\": 74548.0, \"AuslAnt\": 32.1}, {\"StichtagDatJahr\": \"2019-01-01T00:00:00\", \"AnzBestWir\": 434008, \"AnzBestWirCH\": 294205, \"AnzBestWirCHW\": 151730.0, \"AnzBestWirCHM\": 142475.0, \"AnzBestWirAUSL\": 139803, \"AnzBestWirAUSLW\": 65125.0, \"AnzBestWirAUSLM\": 74678.0, \"AuslAnt\": 32.2}, {\"StichtagDatJahr\": \"2018-01-01T00:00:00\", \"AnzBestWir\": 428737, \"AnzBestWirCH\": 290349, \"AnzBestWirCHW\": 149950.0, \"AnzBestWirCHM\": 140399.0, \"AnzBestWirAUSL\": 138388, \"AnzBestWirAUSLW\": 64387.0, \"AnzBestWirAUSLM\": 74001.0, \"AuslAnt\": 32.3}, {\"StichtagDatJahr\": \"2017-01-01T00:00:00\", \"AnzBestWir\": 423310, \"AnzBestWirCH\": 286255, \"AnzBestWirCHW\": 148151.0, \"AnzBestWirCHM\": 138104.0, \"AnzBestWirAUSL\": 137055, \"AnzBestWirAUSLW\": 63790.0, \"AnzBestWirAUSLM\": 73265.0, \"AuslAnt\": 32.4}, {\"StichtagDatJahr\": \"2016-01-01T00:00:00\", \"AnzBestWir\": 415682, \"AnzBestWirCH\": 282209, \"AnzBestWirCHW\": 146356.0, \"AnzBestWirCHM\": 135853.0, \"AnzBestWirAUSL\": 133473, \"AnzBestWirAUSLW\": 62134.0, \"AnzBestWirAUSLM\": 71339.0, \"AuslAnt\": 32.1}, {\"StichtagDatJahr\": \"2015-01-01T00:00:00\", \"AnzBestWir\": 410404, \"AnzBestWirCH\": 279236, \"AnzBestWirCHW\": 145231.0, \"AnzBestWirCHM\": 134005.0, \"AnzBestWirAUSL\": 131168, \"AnzBestWirAUSLW\": 60830.0, \"AnzBestWirAUSLM\": 70338.0, \"AuslAnt\": 32.0}, {\"StichtagDatJahr\": \"2014-01-01T00:00:00\", \"AnzBestWir\": 404783, \"AnzBestWirCH\": 275649, \"AnzBestWirCHW\": 143848.0, \"AnzBestWirCHM\": 131801.0, \"AnzBestWirAUSL\": 129134, \"AnzBestWirAUSLW\": 59841.0, \"AnzBestWirAUSLM\": 69293.0, \"AuslAnt\": 31.9}, {\"StichtagDatJahr\": \"2013-01-01T00:00:00\", \"AnzBestWir\": 398575, \"AnzBestWirCH\": 272705, \"AnzBestWirCHW\": 142564.0, \"AnzBestWirCHM\": 130141.0, \"AnzBestWirAUSL\": 125870, \"AnzBestWirAUSLW\": 58196.0, \"AnzBestWirAUSLM\": 67674.0, \"AuslAnt\": 31.6}, {\"StichtagDatJahr\": \"2012-01-01T00:00:00\", \"AnzBestWir\": 394012, \"AnzBestWirCH\": 270855, \"AnzBestWirCHW\": 141902.0, \"AnzBestWirCHM\": 128953.0, \"AnzBestWirAUSL\": 123157, \"AnzBestWirAUSLW\": 56584.0, \"AnzBestWirAUSLM\": 66573.0, \"AuslAnt\": 31.3}, {\"StichtagDatJahr\": \"2011-01-01T00:00:00\", \"AnzBestWir\": 390082, \"AnzBestWirCH\": 269065, \"AnzBestWirCHW\": 141214.0, \"AnzBestWirCHM\": 127851.0, \"AnzBestWirAUSL\": 121017, \"AnzBestWirAUSLW\": 55588.0, \"AnzBestWirAUSLM\": 65429.0, \"AuslAnt\": 31.0}, {\"StichtagDatJahr\": \"2010-01-01T00:00:00\", \"AnzBestWir\": 385468, \"AnzBestWirCH\": 268017, \"AnzBestWirCHW\": 140908.0, \"AnzBestWirCHM\": 127109.0, \"AnzBestWirAUSL\": 117451, \"AnzBestWirAUSLW\": 54072.0, \"AnzBestWirAUSLM\": 63379.0, \"AuslAnt\": 30.5}, {\"StichtagDatJahr\": \"2009-01-01T00:00:00\", \"AnzBestWir\": 382906, \"AnzBestWirCH\": 265512, \"AnzBestWirCHW\": 139836.0, \"AnzBestWirCHM\": 125676.0, \"AnzBestWirAUSL\": 117394, \"AnzBestWirAUSLW\": 54057.0, \"AnzBestWirAUSLM\": 63337.0, \"AuslAnt\": 30.7}, {\"StichtagDatJahr\": \"2008-01-01T00:00:00\", \"AnzBestWir\": 380499, \"AnzBestWirCH\": 262595, \"AnzBestWirCHW\": 138573.0, \"AnzBestWirCHM\": 124022.0, \"AnzBestWirAUSL\": 117904, \"AnzBestWirAUSLW\": 54261.0, \"AnzBestWirAUSLM\": 63643.0, \"AuslAnt\": 31.0}, {\"StichtagDatJahr\": \"2007-01-01T00:00:00\", \"AnzBestWir\": 376815, \"AnzBestWirCH\": 261436, \"AnzBestWirCHW\": 138238.0, \"AnzBestWirCHM\": 123198.0, \"AnzBestWirAUSL\": 115379, \"AnzBestWirAUSLW\": 53343.0, \"AnzBestWirAUSLM\": 62036.0, \"AuslAnt\": 30.6}, {\"StichtagDatJahr\": \"2006-01-01T00:00:00\", \"AnzBestWir\": 370062, \"AnzBestWirCH\": 259102, \"AnzBestWirCHW\": 137583.0, \"AnzBestWirCHM\": 121519.0, \"AnzBestWirAUSL\": 110960, \"AnzBestWirAUSLW\": 51130.0, \"AnzBestWirAUSLM\": 59830.0, \"AuslAnt\": 30.0}, {\"StichtagDatJahr\": \"2005-01-01T00:00:00\", \"AnzBestWir\": 366809, \"AnzBestWirCH\": 255917, \"AnzBestWirCHW\": 136167.0, \"AnzBestWirCHM\": 119750.0, \"AnzBestWirAUSL\": 110892, \"AnzBestWirAUSLW\": 51270.0, \"AnzBestWirAUSLM\": 59622.0, \"AuslAnt\": 30.2}, {\"StichtagDatJahr\": \"2004-01-01T00:00:00\", \"AnzBestWir\": 364977, \"AnzBestWirCH\": 254835, \"AnzBestWirCHW\": 136041.0, \"AnzBestWirCHM\": 118794.0, \"AnzBestWirAUSL\": 110142, \"AnzBestWirAUSLW\": 50966.0, \"AnzBestWirAUSLM\": 59176.0, \"AuslAnt\": 30.2}, {\"StichtagDatJahr\": \"2003-01-01T00:00:00\", \"AnzBestWir\": 364528, \"AnzBestWirCH\": 255649, \"AnzBestWirCHW\": 136716.0, \"AnzBestWirCHM\": 118933.0, \"AnzBestWirAUSL\": 108879, \"AnzBestWirAUSLW\": 50431.0, \"AnzBestWirAUSLM\": 58448.0, \"AuslAnt\": 29.9}, {\"StichtagDatJahr\": \"2002-01-01T00:00:00\", \"AnzBestWir\": 364558, \"AnzBestWirCH\": 255757, \"AnzBestWirCHW\": 137194.0, \"AnzBestWirCHM\": 118563.0, \"AnzBestWirAUSL\": 108801, \"AnzBestWirAUSLW\": 50243.0, \"AnzBestWirAUSLM\": 58558.0, \"AuslAnt\": 29.8}, {\"StichtagDatJahr\": \"2001-01-01T00:00:00\", \"AnzBestWir\": 362042, \"AnzBestWirCH\": 255953, \"AnzBestWirCHW\": 137777.0, \"AnzBestWirCHM\": 118176.0, \"AnzBestWirAUSL\": 106089, \"AnzBestWirAUSLW\": 48889.0, \"AnzBestWirAUSLM\": 57200.0, \"AuslAnt\": 29.3}, {\"StichtagDatJahr\": \"2000-01-01T00:00:00\", \"AnzBestWir\": 360980, \"AnzBestWirCH\": 255576, \"AnzBestWirCHW\": 138059.0, \"AnzBestWirCHM\": 117517.0, \"AnzBestWirAUSL\": 105404, \"AnzBestWirAUSLW\": 48487.0, \"AnzBestWirAUSLM\": 56917.0, \"AuslAnt\": 29.2}, {\"StichtagDatJahr\": \"1999-01-01T00:00:00\", \"AnzBestWir\": 360704, \"AnzBestWirCH\": 255185, \"AnzBestWirCHW\": 138286.0, \"AnzBestWirCHM\": 116899.0, \"AnzBestWirAUSL\": 105519, \"AnzBestWirAUSLW\": 48358.0, \"AnzBestWirAUSLM\": 57161.0, \"AuslAnt\": 29.3}, {\"StichtagDatJahr\": \"1998-01-01T00:00:00\", \"AnzBestWir\": 359073, \"AnzBestWirCH\": 255523, \"AnzBestWirCHW\": 138977.0, \"AnzBestWirCHM\": 116546.0, \"AnzBestWirAUSL\": 103550, \"AnzBestWirAUSLW\": 47067.0, \"AnzBestWirAUSLM\": 56483.0, \"AuslAnt\": 28.8}, {\"StichtagDatJahr\": \"1997-01-01T00:00:00\", \"AnzBestWir\": 358594, \"AnzBestWirCH\": 256039, \"AnzBestWirCHW\": 139617.0, \"AnzBestWirCHM\": 116422.0, \"AnzBestWirAUSL\": 102555, \"AnzBestWirAUSLW\": 46499.0, \"AnzBestWirAUSLM\": 56056.0, \"AuslAnt\": 28.6}, {\"StichtagDatJahr\": \"1996-01-01T00:00:00\", \"AnzBestWir\": 359648, \"AnzBestWirCH\": 257600, \"AnzBestWirCHW\": 140937.0, \"AnzBestWirCHM\": 116663.0, \"AnzBestWirAUSL\": 102048, \"AnzBestWirAUSLW\": 46203.0, \"AnzBestWirAUSLM\": 55845.0, \"AuslAnt\": 28.4}, {\"StichtagDatJahr\": \"1995-01-01T00:00:00\", \"AnzBestWir\": 360826, \"AnzBestWirCH\": 259361, \"AnzBestWirCHW\": 142626.0, \"AnzBestWirCHM\": 116735.0, \"AnzBestWirAUSL\": 101465, \"AnzBestWirAUSLW\": 45759.0, \"AnzBestWirAUSLM\": 55706.0, \"AuslAnt\": 28.1}, {\"StichtagDatJahr\": \"1994-01-01T00:00:00\", \"AnzBestWir\": 360848, \"AnzBestWirCH\": 261550, \"AnzBestWirCHW\": 144308.0, \"AnzBestWirCHM\": 117242.0, \"AnzBestWirAUSL\": 99298, \"AnzBestWirAUSLW\": 44231.0, \"AnzBestWirAUSLM\": 55067.0, \"AuslAnt\": 27.5}, {\"StichtagDatJahr\": \"1993-01-01T00:00:00\", \"AnzBestWir\": 360898, \"AnzBestWirCH\": 264041, \"AnzBestWirCHW\": 146119.0, \"AnzBestWirCHM\": 117922.0, \"AnzBestWirAUSL\": 96857, \"AnzBestWirAUSLW\": 42777.0, \"AnzBestWirAUSLM\": 54080.0, \"AuslAnt\": 26.8}, {\"StichtagDatJahr\": \"1992-01-01T00:00:00\", \"AnzBestWir\": 361488, \"AnzBestWirCH\": 267985, \"AnzBestWirCHW\": 148737.0, \"AnzBestWirCHM\": 119248.0, \"AnzBestWirAUSL\": 93503, \"AnzBestWirAUSLW\": 40647.0, \"AnzBestWirAUSLM\": 52856.0, \"AuslAnt\": 25.9}, {\"StichtagDatJahr\": \"1991-01-01T00:00:00\", \"AnzBestWir\": 360875, \"AnzBestWirCH\": 269610, \"AnzBestWirCHW\": 150950.0, \"AnzBestWirCHM\": 118660.0, \"AnzBestWirAUSL\": 91265, \"AnzBestWirAUSLW\": 37640.0, \"AnzBestWirAUSLM\": 53625.0, \"AuslAnt\": 25.3}, {\"StichtagDatJahr\": \"1990-01-01T00:00:00\", \"AnzBestWir\": 356352, \"AnzBestWirCH\": 271579, \"AnzBestWirCHW\": 152050.0, \"AnzBestWirCHM\": 119529.0, \"AnzBestWirAUSL\": 84773, \"AnzBestWirAUSLW\": 35344.0, \"AnzBestWirAUSLM\": 49429.0, \"AuslAnt\": 23.8}, {\"StichtagDatJahr\": \"1989-01-01T00:00:00\", \"AnzBestWir\": 355901, \"AnzBestWirCH\": 275221, \"AnzBestWirCHW\": 154030.0, \"AnzBestWirCHM\": 121191.0, \"AnzBestWirAUSL\": 80680, \"AnzBestWirAUSLW\": 33981.0, \"AnzBestWirAUSLM\": 46699.0, \"AuslAnt\": 22.7}, {\"StichtagDatJahr\": \"1988-01-01T00:00:00\", \"AnzBestWir\": 357360, \"AnzBestWirCH\": 279120, \"AnzBestWirCHW\": 156109.0, \"AnzBestWirCHM\": 123011.0, \"AnzBestWirAUSL\": 78240, \"AnzBestWirAUSLW\": 33358.0, \"AnzBestWirAUSLM\": 44882.0, \"AuslAnt\": 21.9}, {\"StichtagDatJahr\": \"1987-01-01T00:00:00\", \"AnzBestWir\": 358042, \"AnzBestWirCH\": 281991, \"AnzBestWirCHW\": 157416.0, \"AnzBestWirCHM\": 124575.0, \"AnzBestWirAUSL\": 76051, \"AnzBestWirAUSLW\": 32772.0, \"AnzBestWirAUSLM\": 43279.0, \"AuslAnt\": 21.2}, {\"StichtagDatJahr\": \"1986-01-01T00:00:00\", \"AnzBestWir\": 358873, \"AnzBestWirCH\": 284831, \"AnzBestWirCHW\": 158685.0, \"AnzBestWirCHM\": 126146.0, \"AnzBestWirAUSL\": 74042, \"AnzBestWirAUSLW\": 32396.0, \"AnzBestWirAUSLM\": 41646.0, \"AuslAnt\": 20.6}, {\"StichtagDatJahr\": \"1985-01-01T00:00:00\", \"AnzBestWir\": 359084, \"AnzBestWirCH\": 286372, \"AnzBestWirCHW\": 159216.0, \"AnzBestWirCHM\": 127156.0, \"AnzBestWirAUSL\": 72712, \"AnzBestWirAUSLW\": 32037.0, \"AnzBestWirAUSLM\": 40675.0, \"AuslAnt\": 20.2}, {\"StichtagDatJahr\": \"1984-01-01T00:00:00\", \"AnzBestWir\": 361493, \"AnzBestWirCH\": 289085, \"AnzBestWirCHW\": 160650.0, \"AnzBestWirCHM\": 128435.0, \"AnzBestWirAUSL\": 72408, \"AnzBestWirAUSLW\": 32150.0, \"AnzBestWirAUSLM\": 40258.0, \"AuslAnt\": 20.0}, {\"StichtagDatJahr\": \"1983-01-01T00:00:00\", \"AnzBestWir\": 363652, \"AnzBestWirCH\": 290990, \"AnzBestWirCHW\": 161445.0, \"AnzBestWirCHM\": 129545.0, \"AnzBestWirAUSL\": 72662, \"AnzBestWirAUSLW\": 32392.0, \"AnzBestWirAUSLM\": 40270.0, \"AuslAnt\": 20.0}, {\"StichtagDatJahr\": \"1982-01-01T00:00:00\", \"AnzBestWir\": 366340, \"AnzBestWirCH\": 294956, \"AnzBestWirCHW\": 163470.0, \"AnzBestWirCHM\": 131486.0, \"AnzBestWirAUSL\": 71384, \"AnzBestWirAUSLW\": 32462.0, \"AnzBestWirAUSLM\": 38922.0, \"AuslAnt\": 19.5}, {\"StichtagDatJahr\": \"1981-01-01T00:00:00\", \"AnzBestWir\": 368171, \"AnzBestWirCH\": 299384, \"AnzBestWirCHW\": 165566.0, \"AnzBestWirCHM\": 133818.0, \"AnzBestWirAUSL\": 68787, \"AnzBestWirAUSLW\": 31749.0, \"AnzBestWirAUSLM\": 37038.0, \"AuslAnt\": 18.7}, {\"StichtagDatJahr\": \"1980-01-01T00:00:00\", \"AnzBestWir\": 370618, \"AnzBestWirCH\": 303662, \"AnzBestWirCHW\": 167742.0, \"AnzBestWirCHM\": 135920.0, \"AnzBestWirAUSL\": 66956, \"AnzBestWirAUSLW\": 31275.0, \"AnzBestWirAUSLM\": 35681.0, \"AuslAnt\": 18.1}, {\"StichtagDatJahr\": \"1979-01-01T00:00:00\", \"AnzBestWir\": 374221, \"AnzBestWirCH\": 306376, \"AnzBestWirCHW\": 169874.0, \"AnzBestWirCHM\": 136502.0, \"AnzBestWirAUSL\": 67845, \"AnzBestWirAUSLW\": 31011.0, \"AnzBestWirAUSLM\": 36834.0, \"AuslAnt\": 18.1}, {\"StichtagDatJahr\": \"1978-01-01T00:00:00\", \"AnzBestWir\": 376447, \"AnzBestWirCH\": 309766, \"AnzBestWirCHW\": 171440.0, \"AnzBestWirCHM\": 138326.0, \"AnzBestWirAUSL\": 66681, \"AnzBestWirAUSLW\": 30640.0, \"AnzBestWirAUSLM\": 36041.0, \"AuslAnt\": 17.7}, {\"StichtagDatJahr\": \"1977-01-01T00:00:00\", \"AnzBestWir\": 379635, \"AnzBestWirCH\": 313131, \"AnzBestWirCHW\": 172863.0, \"AnzBestWirCHM\": 140268.0, \"AnzBestWirAUSL\": 66504, \"AnzBestWirAUSLW\": 30633.0, \"AnzBestWirAUSLM\": 35871.0, \"AuslAnt\": 17.5}, {\"StichtagDatJahr\": \"1976-01-01T00:00:00\", \"AnzBestWir\": 382999, \"AnzBestWirCH\": 315487, \"AnzBestWirCHW\": 174170.0, \"AnzBestWirCHM\": 141317.0, \"AnzBestWirAUSL\": 67512, \"AnzBestWirAUSLW\": 31119.0, \"AnzBestWirAUSLM\": 36393.0, \"AuslAnt\": 17.6}, {\"StichtagDatJahr\": \"1975-01-01T00:00:00\", \"AnzBestWir\": 389613, \"AnzBestWirCH\": 319071, \"AnzBestWirCHW\": 175954.0, \"AnzBestWirCHM\": 143117.0, \"AnzBestWirAUSL\": 70542, \"AnzBestWirAUSLW\": 32832.0, \"AnzBestWirAUSLM\": 37710.0, \"AuslAnt\": 18.1}, {\"StichtagDatJahr\": \"1974-01-01T00:00:00\", \"AnzBestWir\": 396261, \"AnzBestWirCH\": 322198, \"AnzBestWirCHW\": 177482.0, \"AnzBestWirCHM\": 144716.0, \"AnzBestWirAUSL\": 74063, \"AnzBestWirAUSLW\": 34573.0, \"AnzBestWirAUSLM\": 39490.0, \"AuslAnt\": 18.7}, {\"StichtagDatJahr\": \"1973-01-01T00:00:00\", \"AnzBestWir\": 401577, \"AnzBestWirCH\": 327961, \"AnzBestWirCHW\": 180137.0, \"AnzBestWirCHM\": 147824.0, \"AnzBestWirAUSL\": 73616, \"AnzBestWirAUSLW\": 34292.0, \"AnzBestWirAUSLM\": 39324.0, \"AuslAnt\": 18.3}, {\"StichtagDatJahr\": \"1972-01-01T00:00:00\", \"AnzBestWir\": 407647, \"AnzBestWirCH\": 335608, \"AnzBestWirCHW\": 184020.0, \"AnzBestWirCHM\": 151588.0, \"AnzBestWirAUSL\": 72039, \"AnzBestWirAUSLW\": 33708.0, \"AnzBestWirAUSLM\": 38331.0, \"AuslAnt\": 17.7}, {\"StichtagDatJahr\": \"1971-01-01T00:00:00\", \"AnzBestWir\": 412169, \"AnzBestWirCH\": 342244, \"AnzBestWirCHW\": 187149.0, \"AnzBestWirCHM\": 155095.0, \"AnzBestWirAUSL\": 69925, \"AnzBestWirAUSLW\": 32596.0, \"AnzBestWirAUSLM\": 37329.0, \"AuslAnt\": 17.0}, {\"StichtagDatJahr\": \"1970-01-01T00:00:00\", \"AnzBestWir\": 417972, \"AnzBestWirCH\": 348028, \"AnzBestWirCHW\": 189712.0, \"AnzBestWirCHM\": 158316.0, \"AnzBestWirAUSL\": 69944, \"AnzBestWirAUSLW\": 32389.0, \"AnzBestWirAUSLM\": 37555.0, \"AuslAnt\": 16.7}, {\"StichtagDatJahr\": \"1969-01-01T00:00:00\", \"AnzBestWir\": 425117, \"AnzBestWirCH\": 353643, \"AnzBestWirCHW\": 192303.0, \"AnzBestWirCHM\": 161340.0, \"AnzBestWirAUSL\": 71474, \"AnzBestWirAUSLW\": 32783.0, \"AnzBestWirAUSLM\": 38691.0, \"AuslAnt\": 16.8}, {\"StichtagDatJahr\": \"1968-01-01T00:00:00\", \"AnzBestWir\": 430155, \"AnzBestWirCH\": 357420, \"AnzBestWirCHW\": 194088.0, \"AnzBestWirCHM\": 163332.0, \"AnzBestWirAUSL\": 72735, \"AnzBestWirAUSLW\": 32313.0, \"AnzBestWirAUSLM\": 40422.0, \"AuslAnt\": 16.9}, {\"StichtagDatJahr\": \"1967-01-01T00:00:00\", \"AnzBestWir\": 430594, \"AnzBestWirCH\": 361065, \"AnzBestWirCHW\": 195786.0, \"AnzBestWirCHM\": 165279.0, \"AnzBestWirAUSL\": 69529, \"AnzBestWirAUSLW\": 30953.0, \"AnzBestWirAUSLM\": 38576.0, \"AuslAnt\": 16.1}, {\"StichtagDatJahr\": \"1966-01-01T00:00:00\", \"AnzBestWir\": 431533, \"AnzBestWirCH\": 364187, \"AnzBestWirCHW\": 197374.0, \"AnzBestWirCHM\": 166813.0, \"AnzBestWirAUSL\": 67346, \"AnzBestWirAUSLW\": 30590.0, \"AnzBestWirAUSLM\": 36756.0, \"AuslAnt\": 15.6}, {\"StichtagDatJahr\": \"1965-01-01T00:00:00\", \"AnzBestWir\": 433865, \"AnzBestWirCH\": 366623, \"AnzBestWirCHW\": 198414.0, \"AnzBestWirCHM\": 168209.0, \"AnzBestWirAUSL\": 67242, \"AnzBestWirAUSLW\": 30601.0, \"AnzBestWirAUSLM\": 36641.0, \"AuslAnt\": 15.5}, {\"StichtagDatJahr\": \"1964-01-01T00:00:00\", \"AnzBestWir\": 437630, \"AnzBestWirCH\": 368819, \"AnzBestWirCHW\": 199449.0, \"AnzBestWirCHM\": 169370.0, \"AnzBestWirAUSL\": 68811, \"AnzBestWirAUSLW\": 31202.0, \"AnzBestWirAUSLM\": 37609.0, \"AuslAnt\": 15.7}, {\"StichtagDatJahr\": \"1963-01-01T00:00:00\", \"AnzBestWir\": 439090, \"AnzBestWirCH\": 372123, \"AnzBestWirCHW\": 200865.0, \"AnzBestWirCHM\": 171258.0, \"AnzBestWirAUSL\": 66967, \"AnzBestWirAUSLW\": 30735.0, \"AnzBestWirAUSLM\": 36232.0, \"AuslAnt\": 15.3}, {\"StichtagDatJahr\": \"1962-01-01T00:00:00\", \"AnzBestWir\": 440180, \"AnzBestWirCH\": 376285, \"AnzBestWirCHW\": 202952.0, \"AnzBestWirCHM\": 173333.0, \"AnzBestWirAUSL\": 63895, \"AnzBestWirAUSLW\": 29798.0, \"AnzBestWirAUSLM\": 34097.0, \"AuslAnt\": 14.5}, {\"StichtagDatJahr\": \"1961-01-01T00:00:00\", \"AnzBestWir\": 439322, \"AnzBestWirCH\": 380209, \"AnzBestWirCHW\": 204892.0, \"AnzBestWirCHM\": 175317.0, \"AnzBestWirAUSL\": 59113, \"AnzBestWirAUSLW\": 28044.0, \"AnzBestWirAUSLM\": 31069.0, \"AuslAnt\": 13.5}, {\"StichtagDatJahr\": \"1960-01-01T00:00:00\", \"AnzBestWir\": 437273, \"AnzBestWirCH\": 384482, \"AnzBestWirCHW\": 206646.0, \"AnzBestWirCHM\": 177836.0, \"AnzBestWirAUSL\": 52791, \"AnzBestWirAUSLW\": 26097.0, \"AnzBestWirAUSLM\": 26694.0, \"AuslAnt\": 12.1}, {\"StichtagDatJahr\": \"1959-01-01T00:00:00\", \"AnzBestWir\": 434080, \"AnzBestWirCH\": 386147, \"AnzBestWirCHW\": 207251.0, \"AnzBestWirCHM\": 178896.0, \"AnzBestWirAUSL\": 47933, \"AnzBestWirAUSLW\": 24918.0, \"AnzBestWirAUSLM\": 23015.0, \"AuslAnt\": 11.0}, {\"StichtagDatJahr\": \"1958-01-01T00:00:00\", \"AnzBestWir\": 431242, \"AnzBestWirCH\": 384762, \"AnzBestWirCHW\": 206250.0, \"AnzBestWirCHM\": 178512.0, \"AnzBestWirAUSL\": 46480, \"AnzBestWirAUSLW\": 24453.0, \"AnzBestWirAUSLM\": 22027.0, \"AuslAnt\": 10.8}, {\"StichtagDatJahr\": \"1957-01-01T00:00:00\", \"AnzBestWir\": 426349, \"AnzBestWirCH\": 381861, \"AnzBestWirCHW\": 204574.0, \"AnzBestWirCHM\": 177287.0, \"AnzBestWirAUSL\": 44488, \"AnzBestWirAUSLW\": 23681.0, \"AnzBestWirAUSLM\": 20807.0, \"AuslAnt\": 10.4}, {\"StichtagDatJahr\": \"1956-01-01T00:00:00\", \"AnzBestWir\": 420489, \"AnzBestWirCH\": 380795, \"AnzBestWirCHW\": 203849.0, \"AnzBestWirCHM\": 176946.0, \"AnzBestWirAUSL\": 39694, \"AnzBestWirAUSLW\": 22241.0, \"AnzBestWirAUSLM\": 17453.0, \"AuslAnt\": 9.4}, {\"StichtagDatJahr\": \"1955-01-01T00:00:00\", \"AnzBestWir\": 417351, \"AnzBestWirCH\": 380692, \"AnzBestWirCHW\": 203609.0, \"AnzBestWirCHM\": 177083.0, \"AnzBestWirAUSL\": 36659, \"AnzBestWirAUSLW\": 21339.0, \"AnzBestWirAUSLM\": 15320.0, \"AuslAnt\": 8.8}, {\"StichtagDatJahr\": \"1954-01-01T00:00:00\", \"AnzBestWir\": 413044, \"AnzBestWirCH\": 378012, \"AnzBestWirCHW\": 202142.0, \"AnzBestWirCHM\": 175870.0, \"AnzBestWirAUSL\": 35032, \"AnzBestWirAUSLW\": 20908.0, \"AnzBestWirAUSLM\": 14124.0, \"AuslAnt\": 8.5}, {\"StichtagDatJahr\": \"1953-01-01T00:00:00\", \"AnzBestWir\": 408544, \"AnzBestWirCH\": 372651, \"AnzBestWirCHW\": 198597.0, \"AnzBestWirCHM\": 174054.0, \"AnzBestWirAUSL\": 35893, \"AnzBestWirAUSLW\": 22353.0, \"AnzBestWirAUSLM\": 13540.0, \"AuslAnt\": 8.8}, {\"StichtagDatJahr\": \"1952-01-01T00:00:00\", \"AnzBestWir\": 403625, \"AnzBestWirCH\": 367864, \"AnzBestWirCHW\": 195622.0, \"AnzBestWirCHM\": 172242.0, \"AnzBestWirAUSL\": 35761, \"AnzBestWirAUSLW\": 22216.0, \"AnzBestWirAUSLM\": 13545.0, \"AuslAnt\": 8.9}, {\"StichtagDatJahr\": \"1951-01-01T00:00:00\", \"AnzBestWir\": 396260, \"AnzBestWirCH\": 362108, \"AnzBestWirCHW\": 192542.0, \"AnzBestWirCHM\": 169566.0, \"AnzBestWirAUSL\": 34152, \"AnzBestWirAUSLW\": 21433.0, \"AnzBestWirAUSLM\": 12719.0, \"AuslAnt\": 8.6}, {\"StichtagDatJahr\": \"1950-01-01T00:00:00\", \"AnzBestWir\": 389573, \"AnzBestWirCH\": 357874, \"AnzBestWirCHW\": 190383.0, \"AnzBestWirCHM\": 167491.0, \"AnzBestWirAUSL\": 31699, \"AnzBestWirAUSLW\": 20141.0, \"AnzBestWirAUSLM\": 11558.0, \"AuslAnt\": 8.1}, {\"StichtagDatJahr\": \"1949-01-01T00:00:00\", \"AnzBestWir\": 386003, \"AnzBestWirCH\": 353527, \"AnzBestWirCHW\": 187651.0, \"AnzBestWirCHM\": 165876.0, \"AnzBestWirAUSL\": 32476, \"AnzBestWirAUSLW\": 20193.0, \"AnzBestWirAUSLM\": 12283.0, \"AuslAnt\": 8.4}, {\"StichtagDatJahr\": \"1948-01-01T00:00:00\", \"AnzBestWir\": 383568, \"AnzBestWirCH\": 349134, \"AnzBestWirCHW\": 184925.0, \"AnzBestWirCHM\": 164209.0, \"AnzBestWirAUSL\": 34434, \"AnzBestWirAUSLW\": 20724.0, \"AnzBestWirAUSLM\": 13710.0, \"AuslAnt\": 9.0}, {\"StichtagDatJahr\": \"1947-01-01T00:00:00\", \"AnzBestWir\": 377087, \"AnzBestWirCH\": 344894, \"AnzBestWirCHW\": 182793.0, \"AnzBestWirCHM\": 162101.0, \"AnzBestWirAUSL\": 32193, \"AnzBestWirAUSLW\": 19192.0, \"AnzBestWirAUSLM\": 13001.0, \"AuslAnt\": 8.5}, {\"StichtagDatJahr\": \"1946-01-01T00:00:00\", \"AnzBestWir\": 367171, \"AnzBestWirCH\": 340227, \"AnzBestWirCHW\": 181114.0, \"AnzBestWirCHM\": 159113.0, \"AnzBestWirAUSL\": 26944, \"AnzBestWirAUSLW\": 15898.0, \"AnzBestWirAUSLM\": 11046.0, \"AuslAnt\": 7.3}, {\"StichtagDatJahr\": \"1945-01-01T00:00:00\", \"AnzBestWir\": 357381, \"AnzBestWirCH\": 333075, \"AnzBestWirCHW\": 178313.0, \"AnzBestWirCHM\": 154762.0, \"AnzBestWirAUSL\": 24306, \"AnzBestWirAUSLW\": 14326.0, \"AnzBestWirAUSLM\": 9980.0, \"AuslAnt\": 6.8}, {\"StichtagDatJahr\": \"1944-01-01T00:00:00\", \"AnzBestWir\": 351679, \"AnzBestWirCH\": 326538, \"AnzBestWirCHW\": 175132.0, \"AnzBestWirCHM\": 151406.0, \"AnzBestWirAUSL\": 25141, \"AnzBestWirAUSLW\": 14771.0, \"AnzBestWirAUSLM\": 10370.0, \"AuslAnt\": 7.1}, {\"StichtagDatJahr\": \"1943-01-01T00:00:00\", \"AnzBestWir\": 345819, \"AnzBestWirCH\": 320742, \"AnzBestWirCHW\": 172177.0, \"AnzBestWirCHM\": 148565.0, \"AnzBestWirAUSL\": 25077, \"AnzBestWirAUSLW\": 14804.0, \"AnzBestWirAUSLM\": 10273.0, \"AuslAnt\": 7.3}, {\"StichtagDatJahr\": \"1942-01-01T00:00:00\", \"AnzBestWir\": 339721, \"AnzBestWirCH\": 314417, \"AnzBestWirCHW\": 168869.0, \"AnzBestWirCHM\": 145548.0, \"AnzBestWirAUSL\": 25304, \"AnzBestWirAUSLW\": 14976.0, \"AnzBestWirAUSLM\": 10328.0, \"AuslAnt\": 7.4}, {\"StichtagDatJahr\": \"1941-01-01T00:00:00\", \"AnzBestWir\": 336531, \"AnzBestWirCH\": 309932, \"AnzBestWirCHW\": 166386.0, \"AnzBestWirCHM\": 143546.0, \"AnzBestWirAUSL\": 26599, \"AnzBestWirAUSLW\": 15728.0, \"AnzBestWirAUSLM\": 10871.0, \"AuslAnt\": 7.9}, {\"StichtagDatJahr\": \"1940-01-01T00:00:00\", \"AnzBestWir\": 334026, \"AnzBestWirCH\": 305417, \"AnzBestWirCHW\": 163711.0, \"AnzBestWirCHM\": 141706.0, \"AnzBestWirAUSL\": 28609, \"AnzBestWirAUSLW\": 16943.0, \"AnzBestWirAUSLM\": 11666.0, \"AuslAnt\": 8.6}, {\"StichtagDatJahr\": \"1939-01-01T00:00:00\", \"AnzBestWir\": 333984, \"AnzBestWirCH\": 302050, \"AnzBestWirCHW\": 161887.0, \"AnzBestWirCHM\": 140163.0, \"AnzBestWirAUSL\": 31934, \"AnzBestWirAUSLW\": 18887.0, \"AnzBestWirAUSLM\": 13047.0, \"AuslAnt\": 9.6}, {\"StichtagDatJahr\": \"1938-01-01T00:00:00\", \"AnzBestWir\": 326979, \"AnzBestWirCH\": 293435, \"AnzBestWirCHW\": 157170.0, \"AnzBestWirCHM\": 136265.0, \"AnzBestWirAUSL\": 33544, \"AnzBestWirAUSLW\": 19809.0, \"AnzBestWirAUSLM\": 13735.0, \"AuslAnt\": 10.3}, {\"StichtagDatJahr\": \"1937-01-01T00:00:00\", \"AnzBestWir\": 318926, \"AnzBestWirCH\": 287233, \"AnzBestWirCHW\": 153724.0, \"AnzBestWirCHM\": 133509.0, \"AnzBestWirAUSL\": 31693, \"AnzBestWirAUSLW\": 19450.0, \"AnzBestWirAUSLM\": 12243.0, \"AuslAnt\": 9.9}, {\"StichtagDatJahr\": \"1936-01-01T00:00:00\", \"AnzBestWir\": 317712, \"AnzBestWirCH\": 284560, \"AnzBestWirCHW\": 152290.0, \"AnzBestWirCHM\": 132270.0, \"AnzBestWirAUSL\": 33152, \"AnzBestWirAUSLW\": 20463.0, \"AnzBestWirAUSLM\": 12689.0, \"AuslAnt\": 10.4}, {\"StichtagDatJahr\": \"1935-01-01T00:00:00\", \"AnzBestWir\": 317157, \"AnzBestWirCH\": 281847, \"AnzBestWirCHW\": 150146.0, \"AnzBestWirCHM\": 131701.0, \"AnzBestWirAUSL\": 35310, \"AnzBestWirAUSLW\": 21797.0, \"AnzBestWirAUSLM\": 13513.0, \"AuslAnt\": 11.1}, {\"StichtagDatJahr\": \"1934-01-01T00:00:00\", \"AnzBestWir\": 315864, \"AnzBestWirCH\": 278698, \"AnzBestWirCHW\": 147867.0, \"AnzBestWirCHM\": 130831.0, \"AnzBestWirAUSL\": 37166, \"AnzBestWirAUSLW\": 22804.0, \"AnzBestWirAUSLM\": 14362.0, \"AuslAnt\": 11.8}, {\"StichtagDatJahr\": \"1933-01-01T00:00:00\", \"AnzBestWir\": 264043, \"AnzBestWirCH\": 230254, \"AnzBestWirCHW\": null, \"AnzBestWirCHM\": null, \"AnzBestWirAUSL\": 33789, \"AnzBestWirAUSLW\": null, \"AnzBestWirAUSLM\": null, \"AuslAnt\": 12.8}, {\"StichtagDatJahr\": \"1932-01-01T00:00:00\", \"AnzBestWir\": 260694, \"AnzBestWirCH\": 225226, \"AnzBestWirCHW\": null, \"AnzBestWirCHM\": null, \"AnzBestWirAUSL\": 35468, \"AnzBestWirAUSLW\": null, \"AnzBestWirAUSLM\": null, \"AuslAnt\": 13.6}, {\"StichtagDatJahr\": \"1931-01-01T00:00:00\", \"AnzBestWir\": 257478, \"AnzBestWirCH\": 219833, \"AnzBestWirCHW\": null, \"AnzBestWirCHM\": null, \"AnzBestWirAUSL\": 37645, \"AnzBestWirAUSLW\": null, \"AnzBestWirAUSLM\": null, \"AuslAnt\": 14.6}, {\"StichtagDatJahr\": \"1930-01-01T00:00:00\", \"AnzBestWir\": 249067, \"AnzBestWirCH\": 211211, \"AnzBestWirCHW\": null, \"AnzBestWirCHM\": null, \"AnzBestWirAUSL\": 37856, \"AnzBestWirAUSLW\": null, \"AnzBestWirAUSLM\": null, \"AuslAnt\": 15.2}, {\"StichtagDatJahr\": \"1929-01-01T00:00:00\", \"AnzBestWir\": 240202, \"AnzBestWirCH\": 203263, \"AnzBestWirCHW\": null, \"AnzBestWirCHM\": null, \"AnzBestWirAUSL\": 36939, \"AnzBestWirAUSLW\": null, \"AnzBestWirAUSLM\": null, \"AuslAnt\": 15.4}, {\"StichtagDatJahr\": \"1928-01-01T00:00:00\", \"AnzBestWir\": 230476, \"AnzBestWirCH\": 194573, \"AnzBestWirCHW\": null, \"AnzBestWirCHM\": null, \"AnzBestWirAUSL\": 35903, \"AnzBestWirAUSLW\": null, \"AnzBestWirAUSLM\": null, \"AuslAnt\": 15.6}, {\"StichtagDatJahr\": \"1927-01-01T00:00:00\", \"AnzBestWir\": 220613, \"AnzBestWirCH\": 184773, \"AnzBestWirCHW\": null, \"AnzBestWirCHM\": null, \"AnzBestWirAUSL\": 35840, \"AnzBestWirAUSLW\": null, \"AnzBestWirAUSLM\": null, \"AuslAnt\": 16.2}, {\"StichtagDatJahr\": \"1926-01-01T00:00:00\", \"AnzBestWir\": 214959, \"AnzBestWirCH\": 178686, \"AnzBestWirCHW\": null, \"AnzBestWirCHM\": null, \"AnzBestWirAUSL\": 36273, \"AnzBestWirAUSLW\": null, \"AnzBestWirAUSLM\": null, \"AuslAnt\": 16.9}, {\"StichtagDatJahr\": \"1925-01-01T00:00:00\", \"AnzBestWir\": 209327, \"AnzBestWirCH\": 172892, \"AnzBestWirCHW\": null, \"AnzBestWirCHM\": null, \"AnzBestWirAUSL\": 36435, \"AnzBestWirAUSLW\": null, \"AnzBestWirAUSLM\": null, \"AuslAnt\": 17.4}, {\"StichtagDatJahr\": \"1924-01-01T00:00:00\", \"AnzBestWir\": 206719, \"AnzBestWirCH\": 168910, \"AnzBestWirCHW\": null, \"AnzBestWirCHM\": null, \"AnzBestWirAUSL\": 37809, \"AnzBestWirAUSLW\": null, \"AnzBestWirAUSLM\": null, \"AuslAnt\": 18.3}, {\"StichtagDatJahr\": \"1923-01-01T00:00:00\", \"AnzBestWir\": 204049, \"AnzBestWirCH\": 164666, \"AnzBestWirCHW\": null, \"AnzBestWirCHM\": null, \"AnzBestWirAUSL\": 39383, \"AnzBestWirAUSLW\": null, \"AnzBestWirAUSLM\": null, \"AuslAnt\": 19.3}, {\"StichtagDatJahr\": \"1922-01-01T00:00:00\", \"AnzBestWir\": 200289, \"AnzBestWirCH\": 161775, \"AnzBestWirCHW\": null, \"AnzBestWirCHM\": null, \"AnzBestWirAUSL\": 38514, \"AnzBestWirAUSLW\": null, \"AnzBestWirAUSLM\": null, \"AuslAnt\": 19.2}, {\"StichtagDatJahr\": \"1921-01-01T00:00:00\", \"AnzBestWir\": 201242, \"AnzBestWirCH\": 161330, \"AnzBestWirCHW\": null, \"AnzBestWirCHM\": null, \"AnzBestWirAUSL\": 39912, \"AnzBestWirAUSLW\": null, \"AnzBestWirAUSLM\": null, \"AuslAnt\": 19.8}, {\"StichtagDatJahr\": \"1920-01-01T00:00:00\", \"AnzBestWir\": 206299, \"AnzBestWirCH\": 161303, \"AnzBestWirCHW\": null, \"AnzBestWirCHM\": null, \"AnzBestWirAUSL\": 44996, \"AnzBestWirAUSLW\": null, \"AnzBestWirAUSLM\": null, \"AuslAnt\": 21.8}, {\"StichtagDatJahr\": \"1919-01-01T00:00:00\", \"AnzBestWir\": 210151, \"AnzBestWirCH\": 161710, \"AnzBestWirCHW\": null, \"AnzBestWirCHM\": null, \"AnzBestWirAUSL\": 48441, \"AnzBestWirAUSLW\": null, \"AnzBestWirAUSLM\": null, \"AuslAnt\": 23.1}, {\"StichtagDatJahr\": \"1918-01-01T00:00:00\", \"AnzBestWir\": 211421, \"AnzBestWirCH\": 159503, \"AnzBestWirCHW\": null, \"AnzBestWirCHM\": null, \"AnzBestWirAUSL\": 51918, \"AnzBestWirAUSLW\": null, \"AnzBestWirAUSLM\": null, \"AuslAnt\": 24.6}, {\"StichtagDatJahr\": \"1917-01-01T00:00:00\", \"AnzBestWir\": 213193, \"AnzBestWirCH\": 156816, \"AnzBestWirCHW\": null, \"AnzBestWirCHM\": null, \"AnzBestWirAUSL\": 56377, \"AnzBestWirAUSLW\": null, \"AnzBestWirAUSLM\": null, \"AuslAnt\": 26.4}, {\"StichtagDatJahr\": \"1916-01-01T00:00:00\", \"AnzBestWir\": 206073, \"AnzBestWirCH\": 148783, \"AnzBestWirCHW\": null, \"AnzBestWirCHM\": null, \"AnzBestWirAUSL\": 57290, \"AnzBestWirAUSLW\": null, \"AnzBestWirAUSLM\": null, \"AuslAnt\": 27.8}, {\"StichtagDatJahr\": \"1915-01-01T00:00:00\", \"AnzBestWir\": 199726, \"AnzBestWirCH\": 142516, \"AnzBestWirCHW\": null, \"AnzBestWirCHM\": null, \"AnzBestWirAUSL\": 57210, \"AnzBestWirAUSLW\": null, \"AnzBestWirAUSLM\": null, \"AuslAnt\": 28.6}, {\"StichtagDatJahr\": \"1914-01-01T00:00:00\", \"AnzBestWir\": 195867, \"AnzBestWirCH\": 136982, \"AnzBestWirCHW\": null, \"AnzBestWirCHM\": null, \"AnzBestWirAUSL\": 58885, \"AnzBestWirAUSLW\": null, \"AnzBestWirAUSLM\": null, \"AuslAnt\": 30.1}, {\"StichtagDatJahr\": \"1913-01-01T00:00:00\", \"AnzBestWir\": 200632, \"AnzBestWirCH\": 133654, \"AnzBestWirCHW\": null, \"AnzBestWirCHM\": null, \"AnzBestWirAUSL\": 66978, \"AnzBestWirAUSLW\": null, \"AnzBestWirAUSLM\": null, \"AuslAnt\": 33.4}, {\"StichtagDatJahr\": \"1912-01-01T00:00:00\", \"AnzBestWir\": 200462, \"AnzBestWirCH\": 131976, \"AnzBestWirCHW\": null, \"AnzBestWirCHM\": null, \"AnzBestWirAUSL\": 68486, \"AnzBestWirAUSLW\": null, \"AnzBestWirAUSLM\": null, \"AuslAnt\": 34.2}, {\"StichtagDatJahr\": \"1911-01-01T00:00:00\", \"AnzBestWir\": 195525, \"AnzBestWirCH\": 129396, \"AnzBestWirCHW\": null, \"AnzBestWirCHM\": null, \"AnzBestWirAUSL\": 66129, \"AnzBestWirAUSLW\": null, \"AnzBestWirAUSLM\": null, \"AuslAnt\": 33.8}, {\"StichtagDatJahr\": \"1910-01-01T00:00:00\", \"AnzBestWir\": 190092, \"AnzBestWirCH\": 126470, \"AnzBestWirCHW\": null, \"AnzBestWirCHM\": null, \"AnzBestWirAUSL\": 63622, \"AnzBestWirAUSLW\": null, \"AnzBestWirAUSLM\": null, \"AuslAnt\": 33.5}, {\"StichtagDatJahr\": \"1909-01-01T00:00:00\", \"AnzBestWir\": 185041, \"AnzBestWirCH\": 125001, \"AnzBestWirCHW\": null, \"AnzBestWirCHM\": null, \"AnzBestWirAUSL\": 60040, \"AnzBestWirAUSLW\": null, \"AnzBestWirAUSLM\": null, \"AuslAnt\": 32.4}, {\"StichtagDatJahr\": \"1908-01-01T00:00:00\", \"AnzBestWir\": 180722, \"AnzBestWirCH\": 122662, \"AnzBestWirCHW\": null, \"AnzBestWirCHM\": null, \"AnzBestWirAUSL\": 58060, \"AnzBestWirAUSLW\": null, \"AnzBestWirAUSLM\": null, \"AuslAnt\": 32.1}, {\"StichtagDatJahr\": \"1907-01-01T00:00:00\", \"AnzBestWir\": 177899, \"AnzBestWirCH\": 120861, \"AnzBestWirCHW\": null, \"AnzBestWirCHM\": null, \"AnzBestWirAUSL\": 57038, \"AnzBestWirAUSLW\": null, \"AnzBestWirAUSLM\": null, \"AuslAnt\": 32.1}, {\"StichtagDatJahr\": \"1906-01-01T00:00:00\", \"AnzBestWir\": 173283, \"AnzBestWirCH\": 118600, \"AnzBestWirCHW\": null, \"AnzBestWirCHM\": null, \"AnzBestWirAUSL\": 54683, \"AnzBestWirAUSLW\": null, \"AnzBestWirAUSLM\": null, \"AuslAnt\": 31.6}, {\"StichtagDatJahr\": \"1905-01-01T00:00:00\", \"AnzBestWir\": 168877, \"AnzBestWirCH\": 117236, \"AnzBestWirCHW\": null, \"AnzBestWirCHM\": null, \"AnzBestWirAUSL\": 51641, \"AnzBestWirAUSLW\": null, \"AnzBestWirAUSLM\": null, \"AuslAnt\": 30.6}, {\"StichtagDatJahr\": \"1904-01-01T00:00:00\", \"AnzBestWir\": 164060, \"AnzBestWirCH\": 115612, \"AnzBestWirCHW\": null, \"AnzBestWirCHM\": null, \"AnzBestWirAUSL\": 48448, \"AnzBestWirAUSLW\": null, \"AnzBestWirAUSLM\": null, \"AuslAnt\": 29.5}, {\"StichtagDatJahr\": \"1903-01-01T00:00:00\", \"AnzBestWir\": 158719, \"AnzBestWirCH\": 112915, \"AnzBestWirCHW\": null, \"AnzBestWirCHM\": null, \"AnzBestWirAUSL\": 45804, \"AnzBestWirAUSLW\": null, \"AnzBestWirAUSLM\": null, \"AuslAnt\": 28.9}, {\"StichtagDatJahr\": \"1902-01-01T00:00:00\", \"AnzBestWir\": 153741, \"AnzBestWirCH\": 110707, \"AnzBestWirCHW\": null, \"AnzBestWirCHM\": null, \"AnzBestWirAUSL\": 43034, \"AnzBestWirAUSLW\": null, \"AnzBestWirAUSLM\": null, \"AuslAnt\": 28.0}, {\"StichtagDatJahr\": \"1901-01-01T00:00:00\", \"AnzBestWir\": 150301, \"AnzBestWirCH\": 108291, \"AnzBestWirCHW\": null, \"AnzBestWirCHM\": null, \"AnzBestWirAUSL\": 42010, \"AnzBestWirAUSLW\": null, \"AnzBestWirAUSLM\": null, \"AuslAnt\": 28.0}]}}, {\"mode\": \"vega-lite\"});\n",
       "</script>"
      ],
      "text/plain": [
       "alt.LayerChart(...)"
      ]
     },
     "execution_count": 32,
     "metadata": {},
     "output_type": "execute_result"
    }
   ],
   "source": [
    "# df_statzonen = df_statzonen[(df_statzonen.knr>0) & (df_statzonen.qname!=\"Hirslanden\")]\n",
    "#aktuellesJahr[[aktuellesJahr.KreisSort =7]])\n",
    "highlight = alt.selection(type='single', on='mouseover',\n",
    "                          fields=['AnzBestWirAUSL'], nearest=True)\n",
    "#x='date:StichtagDatJahr',\n",
    "base = alt.Chart(mySelection).encode(\n",
    "    x='StichtagDatJahr:N',\n",
    "    y='AnzBestWirAUSL',\n",
    "    color='AnzBestWirAUSL'\n",
    ")\n",
    "\n",
    "points = base.mark_circle().encode(\n",
    "    opacity=alt.value(0)\n",
    ").add_selection(\n",
    "    highlight\n",
    ").properties(\n",
    "    width=700 , height=300\n",
    ")\n",
    "lines = base.mark_line().encode(\n",
    "    size=alt.condition(~highlight, alt.value(1.5), alt.value(4))\n",
    ").interactive()\n",
    "\n",
    "points + lines"
   ]
  },
  {
   "cell_type": "code",
   "execution_count": 39,
   "metadata": {},
   "outputs": [
    {
     "data": {
      "text/html": [
       "\n",
       "<div id=\"altair-viz-b473bbfdcca2491783c7525d4e5a8d6d\"></div>\n",
       "<script type=\"text/javascript\">\n",
       "  (function(spec, embedOpt){\n",
       "    let outputDiv = document.currentScript.previousElementSibling;\n",
       "    if (outputDiv.id !== \"altair-viz-b473bbfdcca2491783c7525d4e5a8d6d\") {\n",
       "      outputDiv = document.getElementById(\"altair-viz-b473bbfdcca2491783c7525d4e5a8d6d\");\n",
       "    }\n",
       "    const paths = {\n",
       "      \"vega\": \"https://cdn.jsdelivr.net/npm//vega@5?noext\",\n",
       "      \"vega-lib\": \"https://cdn.jsdelivr.net/npm//vega-lib?noext\",\n",
       "      \"vega-lite\": \"https://cdn.jsdelivr.net/npm//vega-lite@4.8.1?noext\",\n",
       "      \"vega-embed\": \"https://cdn.jsdelivr.net/npm//vega-embed@6?noext\",\n",
       "    };\n",
       "\n",
       "    function loadScript(lib) {\n",
       "      return new Promise(function(resolve, reject) {\n",
       "        var s = document.createElement('script');\n",
       "        s.src = paths[lib];\n",
       "        s.async = true;\n",
       "        s.onload = () => resolve(paths[lib]);\n",
       "        s.onerror = () => reject(`Error loading script: ${paths[lib]}`);\n",
       "        document.getElementsByTagName(\"head\")[0].appendChild(s);\n",
       "      });\n",
       "    }\n",
       "\n",
       "    function showError(err) {\n",
       "      outputDiv.innerHTML = `<div class=\"error\" style=\"color:red;\">${err}</div>`;\n",
       "      throw err;\n",
       "    }\n",
       "\n",
       "    function displayChart(vegaEmbed) {\n",
       "      vegaEmbed(outputDiv, spec, embedOpt)\n",
       "        .catch(err => showError(`Javascript Error: ${err.message}<br>This usually means there's a typo in your chart specification. See the javascript console for the full traceback.`));\n",
       "    }\n",
       "\n",
       "    if(typeof define === \"function\" && define.amd) {\n",
       "      requirejs.config({paths});\n",
       "      require([\"vega-embed\"], displayChart, err => showError(`Error loading script: ${err.message}`));\n",
       "    } else if (typeof vegaEmbed === \"function\") {\n",
       "      displayChart(vegaEmbed);\n",
       "    } else {\n",
       "      loadScript(\"vega\")\n",
       "        .then(() => loadScript(\"vega-lite\"))\n",
       "        .then(() => loadScript(\"vega-embed\"))\n",
       "        .catch(showError)\n",
       "        .then(() => displayChart(vegaEmbed));\n",
       "    }\n",
       "  })({\"config\": {\"view\": {\"continuousWidth\": 400, \"continuousHeight\": 300}}, \"data\": {\"name\": \"data-d6ae37e1352b7129cc55e4f9843bb453\"}, \"mark\": {\"type\": \"circle\", \"size\": 60}, \"encoding\": {\"color\": {\"type\": \"quantitative\", \"field\": \"AnzBestWirAUSL\", \"scale\": {\"scheme\": \"greens\"}}, \"tooltip\": [{\"type\": \"quantitative\", \"field\": \"AnzBestWir\"}, {\"type\": \"temporal\", \"field\": \"StichtagDatJahr\"}, {\"type\": \"quantitative\", \"field\": \"AnzBestWirAUSL\"}], \"x\": {\"type\": \"quantitative\", \"field\": \"AnzBestWir\"}, \"y\": {\"type\": \"temporal\", \"field\": \"StichtagDatJahr\"}}, \"selection\": {\"selector019\": {\"type\": \"interval\", \"bind\": \"scales\", \"encodings\": [\"x\", \"y\"]}}, \"$schema\": \"https://vega.github.io/schema/vega-lite/v4.8.1.json\", \"datasets\": {\"data-d6ae37e1352b7129cc55e4f9843bb453\": [{\"StichtagDatJahr\": \"2020-01-01T00:00:00\", \"AnzBestWir\": 434736, \"AnzBestWirCH\": 295333, \"AnzBestWirCHW\": 152124.0, \"AnzBestWirCHM\": 143209.0, \"AnzBestWirAUSL\": 139403, \"AnzBestWirAUSLW\": 64855.0, \"AnzBestWirAUSLM\": 74548.0, \"AuslAnt\": 32.1}, {\"StichtagDatJahr\": \"2019-01-01T00:00:00\", \"AnzBestWir\": 434008, \"AnzBestWirCH\": 294205, \"AnzBestWirCHW\": 151730.0, \"AnzBestWirCHM\": 142475.0, \"AnzBestWirAUSL\": 139803, \"AnzBestWirAUSLW\": 65125.0, \"AnzBestWirAUSLM\": 74678.0, \"AuslAnt\": 32.2}, {\"StichtagDatJahr\": \"2018-01-01T00:00:00\", \"AnzBestWir\": 428737, \"AnzBestWirCH\": 290349, \"AnzBestWirCHW\": 149950.0, \"AnzBestWirCHM\": 140399.0, \"AnzBestWirAUSL\": 138388, \"AnzBestWirAUSLW\": 64387.0, \"AnzBestWirAUSLM\": 74001.0, \"AuslAnt\": 32.3}, {\"StichtagDatJahr\": \"2017-01-01T00:00:00\", \"AnzBestWir\": 423310, \"AnzBestWirCH\": 286255, \"AnzBestWirCHW\": 148151.0, \"AnzBestWirCHM\": 138104.0, \"AnzBestWirAUSL\": 137055, \"AnzBestWirAUSLW\": 63790.0, \"AnzBestWirAUSLM\": 73265.0, \"AuslAnt\": 32.4}, {\"StichtagDatJahr\": \"2016-01-01T00:00:00\", \"AnzBestWir\": 415682, \"AnzBestWirCH\": 282209, \"AnzBestWirCHW\": 146356.0, \"AnzBestWirCHM\": 135853.0, \"AnzBestWirAUSL\": 133473, \"AnzBestWirAUSLW\": 62134.0, \"AnzBestWirAUSLM\": 71339.0, \"AuslAnt\": 32.1}, {\"StichtagDatJahr\": \"2015-01-01T00:00:00\", \"AnzBestWir\": 410404, \"AnzBestWirCH\": 279236, \"AnzBestWirCHW\": 145231.0, \"AnzBestWirCHM\": 134005.0, \"AnzBestWirAUSL\": 131168, \"AnzBestWirAUSLW\": 60830.0, \"AnzBestWirAUSLM\": 70338.0, \"AuslAnt\": 32.0}, {\"StichtagDatJahr\": \"2014-01-01T00:00:00\", \"AnzBestWir\": 404783, \"AnzBestWirCH\": 275649, \"AnzBestWirCHW\": 143848.0, \"AnzBestWirCHM\": 131801.0, \"AnzBestWirAUSL\": 129134, \"AnzBestWirAUSLW\": 59841.0, \"AnzBestWirAUSLM\": 69293.0, \"AuslAnt\": 31.9}, {\"StichtagDatJahr\": \"2013-01-01T00:00:00\", \"AnzBestWir\": 398575, \"AnzBestWirCH\": 272705, \"AnzBestWirCHW\": 142564.0, \"AnzBestWirCHM\": 130141.0, \"AnzBestWirAUSL\": 125870, \"AnzBestWirAUSLW\": 58196.0, \"AnzBestWirAUSLM\": 67674.0, \"AuslAnt\": 31.6}, {\"StichtagDatJahr\": \"2012-01-01T00:00:00\", \"AnzBestWir\": 394012, \"AnzBestWirCH\": 270855, \"AnzBestWirCHW\": 141902.0, \"AnzBestWirCHM\": 128953.0, \"AnzBestWirAUSL\": 123157, \"AnzBestWirAUSLW\": 56584.0, \"AnzBestWirAUSLM\": 66573.0, \"AuslAnt\": 31.3}, {\"StichtagDatJahr\": \"2011-01-01T00:00:00\", \"AnzBestWir\": 390082, \"AnzBestWirCH\": 269065, \"AnzBestWirCHW\": 141214.0, \"AnzBestWirCHM\": 127851.0, \"AnzBestWirAUSL\": 121017, \"AnzBestWirAUSLW\": 55588.0, \"AnzBestWirAUSLM\": 65429.0, \"AuslAnt\": 31.0}, {\"StichtagDatJahr\": \"2010-01-01T00:00:00\", \"AnzBestWir\": 385468, \"AnzBestWirCH\": 268017, \"AnzBestWirCHW\": 140908.0, \"AnzBestWirCHM\": 127109.0, \"AnzBestWirAUSL\": 117451, \"AnzBestWirAUSLW\": 54072.0, \"AnzBestWirAUSLM\": 63379.0, \"AuslAnt\": 30.5}, {\"StichtagDatJahr\": \"2009-01-01T00:00:00\", \"AnzBestWir\": 382906, \"AnzBestWirCH\": 265512, \"AnzBestWirCHW\": 139836.0, \"AnzBestWirCHM\": 125676.0, \"AnzBestWirAUSL\": 117394, \"AnzBestWirAUSLW\": 54057.0, \"AnzBestWirAUSLM\": 63337.0, \"AuslAnt\": 30.7}, {\"StichtagDatJahr\": \"2008-01-01T00:00:00\", \"AnzBestWir\": 380499, \"AnzBestWirCH\": 262595, \"AnzBestWirCHW\": 138573.0, \"AnzBestWirCHM\": 124022.0, \"AnzBestWirAUSL\": 117904, \"AnzBestWirAUSLW\": 54261.0, \"AnzBestWirAUSLM\": 63643.0, \"AuslAnt\": 31.0}, {\"StichtagDatJahr\": \"2007-01-01T00:00:00\", \"AnzBestWir\": 376815, \"AnzBestWirCH\": 261436, \"AnzBestWirCHW\": 138238.0, \"AnzBestWirCHM\": 123198.0, \"AnzBestWirAUSL\": 115379, \"AnzBestWirAUSLW\": 53343.0, \"AnzBestWirAUSLM\": 62036.0, \"AuslAnt\": 30.6}, {\"StichtagDatJahr\": \"2006-01-01T00:00:00\", \"AnzBestWir\": 370062, \"AnzBestWirCH\": 259102, \"AnzBestWirCHW\": 137583.0, \"AnzBestWirCHM\": 121519.0, \"AnzBestWirAUSL\": 110960, \"AnzBestWirAUSLW\": 51130.0, \"AnzBestWirAUSLM\": 59830.0, \"AuslAnt\": 30.0}, {\"StichtagDatJahr\": \"2005-01-01T00:00:00\", \"AnzBestWir\": 366809, \"AnzBestWirCH\": 255917, \"AnzBestWirCHW\": 136167.0, \"AnzBestWirCHM\": 119750.0, \"AnzBestWirAUSL\": 110892, \"AnzBestWirAUSLW\": 51270.0, \"AnzBestWirAUSLM\": 59622.0, \"AuslAnt\": 30.2}, {\"StichtagDatJahr\": \"2004-01-01T00:00:00\", \"AnzBestWir\": 364977, \"AnzBestWirCH\": 254835, \"AnzBestWirCHW\": 136041.0, \"AnzBestWirCHM\": 118794.0, \"AnzBestWirAUSL\": 110142, \"AnzBestWirAUSLW\": 50966.0, \"AnzBestWirAUSLM\": 59176.0, \"AuslAnt\": 30.2}, {\"StichtagDatJahr\": \"2003-01-01T00:00:00\", \"AnzBestWir\": 364528, \"AnzBestWirCH\": 255649, \"AnzBestWirCHW\": 136716.0, \"AnzBestWirCHM\": 118933.0, \"AnzBestWirAUSL\": 108879, \"AnzBestWirAUSLW\": 50431.0, \"AnzBestWirAUSLM\": 58448.0, \"AuslAnt\": 29.9}, {\"StichtagDatJahr\": \"2002-01-01T00:00:00\", \"AnzBestWir\": 364558, \"AnzBestWirCH\": 255757, \"AnzBestWirCHW\": 137194.0, \"AnzBestWirCHM\": 118563.0, \"AnzBestWirAUSL\": 108801, \"AnzBestWirAUSLW\": 50243.0, \"AnzBestWirAUSLM\": 58558.0, \"AuslAnt\": 29.8}, {\"StichtagDatJahr\": \"2001-01-01T00:00:00\", \"AnzBestWir\": 362042, \"AnzBestWirCH\": 255953, \"AnzBestWirCHW\": 137777.0, \"AnzBestWirCHM\": 118176.0, \"AnzBestWirAUSL\": 106089, \"AnzBestWirAUSLW\": 48889.0, \"AnzBestWirAUSLM\": 57200.0, \"AuslAnt\": 29.3}, {\"StichtagDatJahr\": \"2000-01-01T00:00:00\", \"AnzBestWir\": 360980, \"AnzBestWirCH\": 255576, \"AnzBestWirCHW\": 138059.0, \"AnzBestWirCHM\": 117517.0, \"AnzBestWirAUSL\": 105404, \"AnzBestWirAUSLW\": 48487.0, \"AnzBestWirAUSLM\": 56917.0, \"AuslAnt\": 29.2}, {\"StichtagDatJahr\": \"1999-01-01T00:00:00\", \"AnzBestWir\": 360704, \"AnzBestWirCH\": 255185, \"AnzBestWirCHW\": 138286.0, \"AnzBestWirCHM\": 116899.0, \"AnzBestWirAUSL\": 105519, \"AnzBestWirAUSLW\": 48358.0, \"AnzBestWirAUSLM\": 57161.0, \"AuslAnt\": 29.3}, {\"StichtagDatJahr\": \"1998-01-01T00:00:00\", \"AnzBestWir\": 359073, \"AnzBestWirCH\": 255523, \"AnzBestWirCHW\": 138977.0, \"AnzBestWirCHM\": 116546.0, \"AnzBestWirAUSL\": 103550, \"AnzBestWirAUSLW\": 47067.0, \"AnzBestWirAUSLM\": 56483.0, \"AuslAnt\": 28.8}, {\"StichtagDatJahr\": \"1997-01-01T00:00:00\", \"AnzBestWir\": 358594, \"AnzBestWirCH\": 256039, \"AnzBestWirCHW\": 139617.0, \"AnzBestWirCHM\": 116422.0, \"AnzBestWirAUSL\": 102555, \"AnzBestWirAUSLW\": 46499.0, \"AnzBestWirAUSLM\": 56056.0, \"AuslAnt\": 28.6}, {\"StichtagDatJahr\": \"1996-01-01T00:00:00\", \"AnzBestWir\": 359648, \"AnzBestWirCH\": 257600, \"AnzBestWirCHW\": 140937.0, \"AnzBestWirCHM\": 116663.0, \"AnzBestWirAUSL\": 102048, \"AnzBestWirAUSLW\": 46203.0, \"AnzBestWirAUSLM\": 55845.0, \"AuslAnt\": 28.4}, {\"StichtagDatJahr\": \"1995-01-01T00:00:00\", \"AnzBestWir\": 360826, \"AnzBestWirCH\": 259361, \"AnzBestWirCHW\": 142626.0, \"AnzBestWirCHM\": 116735.0, \"AnzBestWirAUSL\": 101465, \"AnzBestWirAUSLW\": 45759.0, \"AnzBestWirAUSLM\": 55706.0, \"AuslAnt\": 28.1}, {\"StichtagDatJahr\": \"1994-01-01T00:00:00\", \"AnzBestWir\": 360848, \"AnzBestWirCH\": 261550, \"AnzBestWirCHW\": 144308.0, \"AnzBestWirCHM\": 117242.0, \"AnzBestWirAUSL\": 99298, \"AnzBestWirAUSLW\": 44231.0, \"AnzBestWirAUSLM\": 55067.0, \"AuslAnt\": 27.5}, {\"StichtagDatJahr\": \"1993-01-01T00:00:00\", \"AnzBestWir\": 360898, \"AnzBestWirCH\": 264041, \"AnzBestWirCHW\": 146119.0, \"AnzBestWirCHM\": 117922.0, \"AnzBestWirAUSL\": 96857, \"AnzBestWirAUSLW\": 42777.0, \"AnzBestWirAUSLM\": 54080.0, \"AuslAnt\": 26.8}, {\"StichtagDatJahr\": \"1992-01-01T00:00:00\", \"AnzBestWir\": 361488, \"AnzBestWirCH\": 267985, \"AnzBestWirCHW\": 148737.0, \"AnzBestWirCHM\": 119248.0, \"AnzBestWirAUSL\": 93503, \"AnzBestWirAUSLW\": 40647.0, \"AnzBestWirAUSLM\": 52856.0, \"AuslAnt\": 25.9}, {\"StichtagDatJahr\": \"1991-01-01T00:00:00\", \"AnzBestWir\": 360875, \"AnzBestWirCH\": 269610, \"AnzBestWirCHW\": 150950.0, \"AnzBestWirCHM\": 118660.0, \"AnzBestWirAUSL\": 91265, \"AnzBestWirAUSLW\": 37640.0, \"AnzBestWirAUSLM\": 53625.0, \"AuslAnt\": 25.3}, {\"StichtagDatJahr\": \"1990-01-01T00:00:00\", \"AnzBestWir\": 356352, \"AnzBestWirCH\": 271579, \"AnzBestWirCHW\": 152050.0, \"AnzBestWirCHM\": 119529.0, \"AnzBestWirAUSL\": 84773, \"AnzBestWirAUSLW\": 35344.0, \"AnzBestWirAUSLM\": 49429.0, \"AuslAnt\": 23.8}, {\"StichtagDatJahr\": \"1989-01-01T00:00:00\", \"AnzBestWir\": 355901, \"AnzBestWirCH\": 275221, \"AnzBestWirCHW\": 154030.0, \"AnzBestWirCHM\": 121191.0, \"AnzBestWirAUSL\": 80680, \"AnzBestWirAUSLW\": 33981.0, \"AnzBestWirAUSLM\": 46699.0, \"AuslAnt\": 22.7}, {\"StichtagDatJahr\": \"1988-01-01T00:00:00\", \"AnzBestWir\": 357360, \"AnzBestWirCH\": 279120, \"AnzBestWirCHW\": 156109.0, \"AnzBestWirCHM\": 123011.0, \"AnzBestWirAUSL\": 78240, \"AnzBestWirAUSLW\": 33358.0, \"AnzBestWirAUSLM\": 44882.0, \"AuslAnt\": 21.9}, {\"StichtagDatJahr\": \"1987-01-01T00:00:00\", \"AnzBestWir\": 358042, \"AnzBestWirCH\": 281991, \"AnzBestWirCHW\": 157416.0, \"AnzBestWirCHM\": 124575.0, \"AnzBestWirAUSL\": 76051, \"AnzBestWirAUSLW\": 32772.0, \"AnzBestWirAUSLM\": 43279.0, \"AuslAnt\": 21.2}, {\"StichtagDatJahr\": \"1986-01-01T00:00:00\", \"AnzBestWir\": 358873, \"AnzBestWirCH\": 284831, \"AnzBestWirCHW\": 158685.0, \"AnzBestWirCHM\": 126146.0, \"AnzBestWirAUSL\": 74042, \"AnzBestWirAUSLW\": 32396.0, \"AnzBestWirAUSLM\": 41646.0, \"AuslAnt\": 20.6}, {\"StichtagDatJahr\": \"1985-01-01T00:00:00\", \"AnzBestWir\": 359084, \"AnzBestWirCH\": 286372, \"AnzBestWirCHW\": 159216.0, \"AnzBestWirCHM\": 127156.0, \"AnzBestWirAUSL\": 72712, \"AnzBestWirAUSLW\": 32037.0, \"AnzBestWirAUSLM\": 40675.0, \"AuslAnt\": 20.2}, {\"StichtagDatJahr\": \"1984-01-01T00:00:00\", \"AnzBestWir\": 361493, \"AnzBestWirCH\": 289085, \"AnzBestWirCHW\": 160650.0, \"AnzBestWirCHM\": 128435.0, \"AnzBestWirAUSL\": 72408, \"AnzBestWirAUSLW\": 32150.0, \"AnzBestWirAUSLM\": 40258.0, \"AuslAnt\": 20.0}, {\"StichtagDatJahr\": \"1983-01-01T00:00:00\", \"AnzBestWir\": 363652, \"AnzBestWirCH\": 290990, \"AnzBestWirCHW\": 161445.0, \"AnzBestWirCHM\": 129545.0, \"AnzBestWirAUSL\": 72662, \"AnzBestWirAUSLW\": 32392.0, \"AnzBestWirAUSLM\": 40270.0, \"AuslAnt\": 20.0}, {\"StichtagDatJahr\": \"1982-01-01T00:00:00\", \"AnzBestWir\": 366340, \"AnzBestWirCH\": 294956, \"AnzBestWirCHW\": 163470.0, \"AnzBestWirCHM\": 131486.0, \"AnzBestWirAUSL\": 71384, \"AnzBestWirAUSLW\": 32462.0, \"AnzBestWirAUSLM\": 38922.0, \"AuslAnt\": 19.5}, {\"StichtagDatJahr\": \"1981-01-01T00:00:00\", \"AnzBestWir\": 368171, \"AnzBestWirCH\": 299384, \"AnzBestWirCHW\": 165566.0, \"AnzBestWirCHM\": 133818.0, \"AnzBestWirAUSL\": 68787, \"AnzBestWirAUSLW\": 31749.0, \"AnzBestWirAUSLM\": 37038.0, \"AuslAnt\": 18.7}, {\"StichtagDatJahr\": \"1980-01-01T00:00:00\", \"AnzBestWir\": 370618, \"AnzBestWirCH\": 303662, \"AnzBestWirCHW\": 167742.0, \"AnzBestWirCHM\": 135920.0, \"AnzBestWirAUSL\": 66956, \"AnzBestWirAUSLW\": 31275.0, \"AnzBestWirAUSLM\": 35681.0, \"AuslAnt\": 18.1}, {\"StichtagDatJahr\": \"1979-01-01T00:00:00\", \"AnzBestWir\": 374221, \"AnzBestWirCH\": 306376, \"AnzBestWirCHW\": 169874.0, \"AnzBestWirCHM\": 136502.0, \"AnzBestWirAUSL\": 67845, \"AnzBestWirAUSLW\": 31011.0, \"AnzBestWirAUSLM\": 36834.0, \"AuslAnt\": 18.1}, {\"StichtagDatJahr\": \"1978-01-01T00:00:00\", \"AnzBestWir\": 376447, \"AnzBestWirCH\": 309766, \"AnzBestWirCHW\": 171440.0, \"AnzBestWirCHM\": 138326.0, \"AnzBestWirAUSL\": 66681, \"AnzBestWirAUSLW\": 30640.0, \"AnzBestWirAUSLM\": 36041.0, \"AuslAnt\": 17.7}, {\"StichtagDatJahr\": \"1977-01-01T00:00:00\", \"AnzBestWir\": 379635, \"AnzBestWirCH\": 313131, \"AnzBestWirCHW\": 172863.0, \"AnzBestWirCHM\": 140268.0, \"AnzBestWirAUSL\": 66504, \"AnzBestWirAUSLW\": 30633.0, \"AnzBestWirAUSLM\": 35871.0, \"AuslAnt\": 17.5}, {\"StichtagDatJahr\": \"1976-01-01T00:00:00\", \"AnzBestWir\": 382999, \"AnzBestWirCH\": 315487, \"AnzBestWirCHW\": 174170.0, \"AnzBestWirCHM\": 141317.0, \"AnzBestWirAUSL\": 67512, \"AnzBestWirAUSLW\": 31119.0, \"AnzBestWirAUSLM\": 36393.0, \"AuslAnt\": 17.6}, {\"StichtagDatJahr\": \"1975-01-01T00:00:00\", \"AnzBestWir\": 389613, \"AnzBestWirCH\": 319071, \"AnzBestWirCHW\": 175954.0, \"AnzBestWirCHM\": 143117.0, \"AnzBestWirAUSL\": 70542, \"AnzBestWirAUSLW\": 32832.0, \"AnzBestWirAUSLM\": 37710.0, \"AuslAnt\": 18.1}, {\"StichtagDatJahr\": \"1974-01-01T00:00:00\", \"AnzBestWir\": 396261, \"AnzBestWirCH\": 322198, \"AnzBestWirCHW\": 177482.0, \"AnzBestWirCHM\": 144716.0, \"AnzBestWirAUSL\": 74063, \"AnzBestWirAUSLW\": 34573.0, \"AnzBestWirAUSLM\": 39490.0, \"AuslAnt\": 18.7}, {\"StichtagDatJahr\": \"1973-01-01T00:00:00\", \"AnzBestWir\": 401577, \"AnzBestWirCH\": 327961, \"AnzBestWirCHW\": 180137.0, \"AnzBestWirCHM\": 147824.0, \"AnzBestWirAUSL\": 73616, \"AnzBestWirAUSLW\": 34292.0, \"AnzBestWirAUSLM\": 39324.0, \"AuslAnt\": 18.3}, {\"StichtagDatJahr\": \"1972-01-01T00:00:00\", \"AnzBestWir\": 407647, \"AnzBestWirCH\": 335608, \"AnzBestWirCHW\": 184020.0, \"AnzBestWirCHM\": 151588.0, \"AnzBestWirAUSL\": 72039, \"AnzBestWirAUSLW\": 33708.0, \"AnzBestWirAUSLM\": 38331.0, \"AuslAnt\": 17.7}, {\"StichtagDatJahr\": \"1971-01-01T00:00:00\", \"AnzBestWir\": 412169, \"AnzBestWirCH\": 342244, \"AnzBestWirCHW\": 187149.0, \"AnzBestWirCHM\": 155095.0, \"AnzBestWirAUSL\": 69925, \"AnzBestWirAUSLW\": 32596.0, \"AnzBestWirAUSLM\": 37329.0, \"AuslAnt\": 17.0}, {\"StichtagDatJahr\": \"1970-01-01T00:00:00\", \"AnzBestWir\": 417972, \"AnzBestWirCH\": 348028, \"AnzBestWirCHW\": 189712.0, \"AnzBestWirCHM\": 158316.0, \"AnzBestWirAUSL\": 69944, \"AnzBestWirAUSLW\": 32389.0, \"AnzBestWirAUSLM\": 37555.0, \"AuslAnt\": 16.7}, {\"StichtagDatJahr\": \"1969-01-01T00:00:00\", \"AnzBestWir\": 425117, \"AnzBestWirCH\": 353643, \"AnzBestWirCHW\": 192303.0, \"AnzBestWirCHM\": 161340.0, \"AnzBestWirAUSL\": 71474, \"AnzBestWirAUSLW\": 32783.0, \"AnzBestWirAUSLM\": 38691.0, \"AuslAnt\": 16.8}, {\"StichtagDatJahr\": \"1968-01-01T00:00:00\", \"AnzBestWir\": 430155, \"AnzBestWirCH\": 357420, \"AnzBestWirCHW\": 194088.0, \"AnzBestWirCHM\": 163332.0, \"AnzBestWirAUSL\": 72735, \"AnzBestWirAUSLW\": 32313.0, \"AnzBestWirAUSLM\": 40422.0, \"AuslAnt\": 16.9}, {\"StichtagDatJahr\": \"1967-01-01T00:00:00\", \"AnzBestWir\": 430594, \"AnzBestWirCH\": 361065, \"AnzBestWirCHW\": 195786.0, \"AnzBestWirCHM\": 165279.0, \"AnzBestWirAUSL\": 69529, \"AnzBestWirAUSLW\": 30953.0, \"AnzBestWirAUSLM\": 38576.0, \"AuslAnt\": 16.1}, {\"StichtagDatJahr\": \"1966-01-01T00:00:00\", \"AnzBestWir\": 431533, \"AnzBestWirCH\": 364187, \"AnzBestWirCHW\": 197374.0, \"AnzBestWirCHM\": 166813.0, \"AnzBestWirAUSL\": 67346, \"AnzBestWirAUSLW\": 30590.0, \"AnzBestWirAUSLM\": 36756.0, \"AuslAnt\": 15.6}, {\"StichtagDatJahr\": \"1965-01-01T00:00:00\", \"AnzBestWir\": 433865, \"AnzBestWirCH\": 366623, \"AnzBestWirCHW\": 198414.0, \"AnzBestWirCHM\": 168209.0, \"AnzBestWirAUSL\": 67242, \"AnzBestWirAUSLW\": 30601.0, \"AnzBestWirAUSLM\": 36641.0, \"AuslAnt\": 15.5}, {\"StichtagDatJahr\": \"1964-01-01T00:00:00\", \"AnzBestWir\": 437630, \"AnzBestWirCH\": 368819, \"AnzBestWirCHW\": 199449.0, \"AnzBestWirCHM\": 169370.0, \"AnzBestWirAUSL\": 68811, \"AnzBestWirAUSLW\": 31202.0, \"AnzBestWirAUSLM\": 37609.0, \"AuslAnt\": 15.7}, {\"StichtagDatJahr\": \"1963-01-01T00:00:00\", \"AnzBestWir\": 439090, \"AnzBestWirCH\": 372123, \"AnzBestWirCHW\": 200865.0, \"AnzBestWirCHM\": 171258.0, \"AnzBestWirAUSL\": 66967, \"AnzBestWirAUSLW\": 30735.0, \"AnzBestWirAUSLM\": 36232.0, \"AuslAnt\": 15.3}, {\"StichtagDatJahr\": \"1962-01-01T00:00:00\", \"AnzBestWir\": 440180, \"AnzBestWirCH\": 376285, \"AnzBestWirCHW\": 202952.0, \"AnzBestWirCHM\": 173333.0, \"AnzBestWirAUSL\": 63895, \"AnzBestWirAUSLW\": 29798.0, \"AnzBestWirAUSLM\": 34097.0, \"AuslAnt\": 14.5}, {\"StichtagDatJahr\": \"1961-01-01T00:00:00\", \"AnzBestWir\": 439322, \"AnzBestWirCH\": 380209, \"AnzBestWirCHW\": 204892.0, \"AnzBestWirCHM\": 175317.0, \"AnzBestWirAUSL\": 59113, \"AnzBestWirAUSLW\": 28044.0, \"AnzBestWirAUSLM\": 31069.0, \"AuslAnt\": 13.5}, {\"StichtagDatJahr\": \"1960-01-01T00:00:00\", \"AnzBestWir\": 437273, \"AnzBestWirCH\": 384482, \"AnzBestWirCHW\": 206646.0, \"AnzBestWirCHM\": 177836.0, \"AnzBestWirAUSL\": 52791, \"AnzBestWirAUSLW\": 26097.0, \"AnzBestWirAUSLM\": 26694.0, \"AuslAnt\": 12.1}, {\"StichtagDatJahr\": \"1959-01-01T00:00:00\", \"AnzBestWir\": 434080, \"AnzBestWirCH\": 386147, \"AnzBestWirCHW\": 207251.0, \"AnzBestWirCHM\": 178896.0, \"AnzBestWirAUSL\": 47933, \"AnzBestWirAUSLW\": 24918.0, \"AnzBestWirAUSLM\": 23015.0, \"AuslAnt\": 11.0}, {\"StichtagDatJahr\": \"1958-01-01T00:00:00\", \"AnzBestWir\": 431242, \"AnzBestWirCH\": 384762, \"AnzBestWirCHW\": 206250.0, \"AnzBestWirCHM\": 178512.0, \"AnzBestWirAUSL\": 46480, \"AnzBestWirAUSLW\": 24453.0, \"AnzBestWirAUSLM\": 22027.0, \"AuslAnt\": 10.8}, {\"StichtagDatJahr\": \"1957-01-01T00:00:00\", \"AnzBestWir\": 426349, \"AnzBestWirCH\": 381861, \"AnzBestWirCHW\": 204574.0, \"AnzBestWirCHM\": 177287.0, \"AnzBestWirAUSL\": 44488, \"AnzBestWirAUSLW\": 23681.0, \"AnzBestWirAUSLM\": 20807.0, \"AuslAnt\": 10.4}, {\"StichtagDatJahr\": \"1956-01-01T00:00:00\", \"AnzBestWir\": 420489, \"AnzBestWirCH\": 380795, \"AnzBestWirCHW\": 203849.0, \"AnzBestWirCHM\": 176946.0, \"AnzBestWirAUSL\": 39694, \"AnzBestWirAUSLW\": 22241.0, \"AnzBestWirAUSLM\": 17453.0, \"AuslAnt\": 9.4}, {\"StichtagDatJahr\": \"1955-01-01T00:00:00\", \"AnzBestWir\": 417351, \"AnzBestWirCH\": 380692, \"AnzBestWirCHW\": 203609.0, \"AnzBestWirCHM\": 177083.0, \"AnzBestWirAUSL\": 36659, \"AnzBestWirAUSLW\": 21339.0, \"AnzBestWirAUSLM\": 15320.0, \"AuslAnt\": 8.8}, {\"StichtagDatJahr\": \"1954-01-01T00:00:00\", \"AnzBestWir\": 413044, \"AnzBestWirCH\": 378012, \"AnzBestWirCHW\": 202142.0, \"AnzBestWirCHM\": 175870.0, \"AnzBestWirAUSL\": 35032, \"AnzBestWirAUSLW\": 20908.0, \"AnzBestWirAUSLM\": 14124.0, \"AuslAnt\": 8.5}, {\"StichtagDatJahr\": \"1953-01-01T00:00:00\", \"AnzBestWir\": 408544, \"AnzBestWirCH\": 372651, \"AnzBestWirCHW\": 198597.0, \"AnzBestWirCHM\": 174054.0, \"AnzBestWirAUSL\": 35893, \"AnzBestWirAUSLW\": 22353.0, \"AnzBestWirAUSLM\": 13540.0, \"AuslAnt\": 8.8}, {\"StichtagDatJahr\": \"1952-01-01T00:00:00\", \"AnzBestWir\": 403625, \"AnzBestWirCH\": 367864, \"AnzBestWirCHW\": 195622.0, \"AnzBestWirCHM\": 172242.0, \"AnzBestWirAUSL\": 35761, \"AnzBestWirAUSLW\": 22216.0, \"AnzBestWirAUSLM\": 13545.0, \"AuslAnt\": 8.9}, {\"StichtagDatJahr\": \"1951-01-01T00:00:00\", \"AnzBestWir\": 396260, \"AnzBestWirCH\": 362108, \"AnzBestWirCHW\": 192542.0, \"AnzBestWirCHM\": 169566.0, \"AnzBestWirAUSL\": 34152, \"AnzBestWirAUSLW\": 21433.0, \"AnzBestWirAUSLM\": 12719.0, \"AuslAnt\": 8.6}, {\"StichtagDatJahr\": \"1950-01-01T00:00:00\", \"AnzBestWir\": 389573, \"AnzBestWirCH\": 357874, \"AnzBestWirCHW\": 190383.0, \"AnzBestWirCHM\": 167491.0, \"AnzBestWirAUSL\": 31699, \"AnzBestWirAUSLW\": 20141.0, \"AnzBestWirAUSLM\": 11558.0, \"AuslAnt\": 8.1}, {\"StichtagDatJahr\": \"1949-01-01T00:00:00\", \"AnzBestWir\": 386003, \"AnzBestWirCH\": 353527, \"AnzBestWirCHW\": 187651.0, \"AnzBestWirCHM\": 165876.0, \"AnzBestWirAUSL\": 32476, \"AnzBestWirAUSLW\": 20193.0, \"AnzBestWirAUSLM\": 12283.0, \"AuslAnt\": 8.4}, {\"StichtagDatJahr\": \"1948-01-01T00:00:00\", \"AnzBestWir\": 383568, \"AnzBestWirCH\": 349134, \"AnzBestWirCHW\": 184925.0, \"AnzBestWirCHM\": 164209.0, \"AnzBestWirAUSL\": 34434, \"AnzBestWirAUSLW\": 20724.0, \"AnzBestWirAUSLM\": 13710.0, \"AuslAnt\": 9.0}, {\"StichtagDatJahr\": \"1947-01-01T00:00:00\", \"AnzBestWir\": 377087, \"AnzBestWirCH\": 344894, \"AnzBestWirCHW\": 182793.0, \"AnzBestWirCHM\": 162101.0, \"AnzBestWirAUSL\": 32193, \"AnzBestWirAUSLW\": 19192.0, \"AnzBestWirAUSLM\": 13001.0, \"AuslAnt\": 8.5}, {\"StichtagDatJahr\": \"1946-01-01T00:00:00\", \"AnzBestWir\": 367171, \"AnzBestWirCH\": 340227, \"AnzBestWirCHW\": 181114.0, \"AnzBestWirCHM\": 159113.0, \"AnzBestWirAUSL\": 26944, \"AnzBestWirAUSLW\": 15898.0, \"AnzBestWirAUSLM\": 11046.0, \"AuslAnt\": 7.3}, {\"StichtagDatJahr\": \"1945-01-01T00:00:00\", \"AnzBestWir\": 357381, \"AnzBestWirCH\": 333075, \"AnzBestWirCHW\": 178313.0, \"AnzBestWirCHM\": 154762.0, \"AnzBestWirAUSL\": 24306, \"AnzBestWirAUSLW\": 14326.0, \"AnzBestWirAUSLM\": 9980.0, \"AuslAnt\": 6.8}, {\"StichtagDatJahr\": \"1944-01-01T00:00:00\", \"AnzBestWir\": 351679, \"AnzBestWirCH\": 326538, \"AnzBestWirCHW\": 175132.0, \"AnzBestWirCHM\": 151406.0, \"AnzBestWirAUSL\": 25141, \"AnzBestWirAUSLW\": 14771.0, \"AnzBestWirAUSLM\": 10370.0, \"AuslAnt\": 7.1}, {\"StichtagDatJahr\": \"1943-01-01T00:00:00\", \"AnzBestWir\": 345819, \"AnzBestWirCH\": 320742, \"AnzBestWirCHW\": 172177.0, \"AnzBestWirCHM\": 148565.0, \"AnzBestWirAUSL\": 25077, \"AnzBestWirAUSLW\": 14804.0, \"AnzBestWirAUSLM\": 10273.0, \"AuslAnt\": 7.3}, {\"StichtagDatJahr\": \"1942-01-01T00:00:00\", \"AnzBestWir\": 339721, \"AnzBestWirCH\": 314417, \"AnzBestWirCHW\": 168869.0, \"AnzBestWirCHM\": 145548.0, \"AnzBestWirAUSL\": 25304, \"AnzBestWirAUSLW\": 14976.0, \"AnzBestWirAUSLM\": 10328.0, \"AuslAnt\": 7.4}, {\"StichtagDatJahr\": \"1941-01-01T00:00:00\", \"AnzBestWir\": 336531, \"AnzBestWirCH\": 309932, \"AnzBestWirCHW\": 166386.0, \"AnzBestWirCHM\": 143546.0, \"AnzBestWirAUSL\": 26599, \"AnzBestWirAUSLW\": 15728.0, \"AnzBestWirAUSLM\": 10871.0, \"AuslAnt\": 7.9}, {\"StichtagDatJahr\": \"1940-01-01T00:00:00\", \"AnzBestWir\": 334026, \"AnzBestWirCH\": 305417, \"AnzBestWirCHW\": 163711.0, \"AnzBestWirCHM\": 141706.0, \"AnzBestWirAUSL\": 28609, \"AnzBestWirAUSLW\": 16943.0, \"AnzBestWirAUSLM\": 11666.0, \"AuslAnt\": 8.6}, {\"StichtagDatJahr\": \"1939-01-01T00:00:00\", \"AnzBestWir\": 333984, \"AnzBestWirCH\": 302050, \"AnzBestWirCHW\": 161887.0, \"AnzBestWirCHM\": 140163.0, \"AnzBestWirAUSL\": 31934, \"AnzBestWirAUSLW\": 18887.0, \"AnzBestWirAUSLM\": 13047.0, \"AuslAnt\": 9.6}, {\"StichtagDatJahr\": \"1938-01-01T00:00:00\", \"AnzBestWir\": 326979, \"AnzBestWirCH\": 293435, \"AnzBestWirCHW\": 157170.0, \"AnzBestWirCHM\": 136265.0, \"AnzBestWirAUSL\": 33544, \"AnzBestWirAUSLW\": 19809.0, \"AnzBestWirAUSLM\": 13735.0, \"AuslAnt\": 10.3}, {\"StichtagDatJahr\": \"1937-01-01T00:00:00\", \"AnzBestWir\": 318926, \"AnzBestWirCH\": 287233, \"AnzBestWirCHW\": 153724.0, \"AnzBestWirCHM\": 133509.0, \"AnzBestWirAUSL\": 31693, \"AnzBestWirAUSLW\": 19450.0, \"AnzBestWirAUSLM\": 12243.0, \"AuslAnt\": 9.9}, {\"StichtagDatJahr\": \"1936-01-01T00:00:00\", \"AnzBestWir\": 317712, \"AnzBestWirCH\": 284560, \"AnzBestWirCHW\": 152290.0, \"AnzBestWirCHM\": 132270.0, \"AnzBestWirAUSL\": 33152, \"AnzBestWirAUSLW\": 20463.0, \"AnzBestWirAUSLM\": 12689.0, \"AuslAnt\": 10.4}, {\"StichtagDatJahr\": \"1935-01-01T00:00:00\", \"AnzBestWir\": 317157, \"AnzBestWirCH\": 281847, \"AnzBestWirCHW\": 150146.0, \"AnzBestWirCHM\": 131701.0, \"AnzBestWirAUSL\": 35310, \"AnzBestWirAUSLW\": 21797.0, \"AnzBestWirAUSLM\": 13513.0, \"AuslAnt\": 11.1}, {\"StichtagDatJahr\": \"1934-01-01T00:00:00\", \"AnzBestWir\": 315864, \"AnzBestWirCH\": 278698, \"AnzBestWirCHW\": 147867.0, \"AnzBestWirCHM\": 130831.0, \"AnzBestWirAUSL\": 37166, \"AnzBestWirAUSLW\": 22804.0, \"AnzBestWirAUSLM\": 14362.0, \"AuslAnt\": 11.8}, {\"StichtagDatJahr\": \"1933-01-01T00:00:00\", \"AnzBestWir\": 264043, \"AnzBestWirCH\": 230254, \"AnzBestWirCHW\": null, \"AnzBestWirCHM\": null, \"AnzBestWirAUSL\": 33789, \"AnzBestWirAUSLW\": null, \"AnzBestWirAUSLM\": null, \"AuslAnt\": 12.8}, {\"StichtagDatJahr\": \"1932-01-01T00:00:00\", \"AnzBestWir\": 260694, \"AnzBestWirCH\": 225226, \"AnzBestWirCHW\": null, \"AnzBestWirCHM\": null, \"AnzBestWirAUSL\": 35468, \"AnzBestWirAUSLW\": null, \"AnzBestWirAUSLM\": null, \"AuslAnt\": 13.6}, {\"StichtagDatJahr\": \"1931-01-01T00:00:00\", \"AnzBestWir\": 257478, \"AnzBestWirCH\": 219833, \"AnzBestWirCHW\": null, \"AnzBestWirCHM\": null, \"AnzBestWirAUSL\": 37645, \"AnzBestWirAUSLW\": null, \"AnzBestWirAUSLM\": null, \"AuslAnt\": 14.6}, {\"StichtagDatJahr\": \"1930-01-01T00:00:00\", \"AnzBestWir\": 249067, \"AnzBestWirCH\": 211211, \"AnzBestWirCHW\": null, \"AnzBestWirCHM\": null, \"AnzBestWirAUSL\": 37856, \"AnzBestWirAUSLW\": null, \"AnzBestWirAUSLM\": null, \"AuslAnt\": 15.2}, {\"StichtagDatJahr\": \"1929-01-01T00:00:00\", \"AnzBestWir\": 240202, \"AnzBestWirCH\": 203263, \"AnzBestWirCHW\": null, \"AnzBestWirCHM\": null, \"AnzBestWirAUSL\": 36939, \"AnzBestWirAUSLW\": null, \"AnzBestWirAUSLM\": null, \"AuslAnt\": 15.4}, {\"StichtagDatJahr\": \"1928-01-01T00:00:00\", \"AnzBestWir\": 230476, \"AnzBestWirCH\": 194573, \"AnzBestWirCHW\": null, \"AnzBestWirCHM\": null, \"AnzBestWirAUSL\": 35903, \"AnzBestWirAUSLW\": null, \"AnzBestWirAUSLM\": null, \"AuslAnt\": 15.6}, {\"StichtagDatJahr\": \"1927-01-01T00:00:00\", \"AnzBestWir\": 220613, \"AnzBestWirCH\": 184773, \"AnzBestWirCHW\": null, \"AnzBestWirCHM\": null, \"AnzBestWirAUSL\": 35840, \"AnzBestWirAUSLW\": null, \"AnzBestWirAUSLM\": null, \"AuslAnt\": 16.2}, {\"StichtagDatJahr\": \"1926-01-01T00:00:00\", \"AnzBestWir\": 214959, \"AnzBestWirCH\": 178686, \"AnzBestWirCHW\": null, \"AnzBestWirCHM\": null, \"AnzBestWirAUSL\": 36273, \"AnzBestWirAUSLW\": null, \"AnzBestWirAUSLM\": null, \"AuslAnt\": 16.9}, {\"StichtagDatJahr\": \"1925-01-01T00:00:00\", \"AnzBestWir\": 209327, \"AnzBestWirCH\": 172892, \"AnzBestWirCHW\": null, \"AnzBestWirCHM\": null, \"AnzBestWirAUSL\": 36435, \"AnzBestWirAUSLW\": null, \"AnzBestWirAUSLM\": null, \"AuslAnt\": 17.4}, {\"StichtagDatJahr\": \"1924-01-01T00:00:00\", \"AnzBestWir\": 206719, \"AnzBestWirCH\": 168910, \"AnzBestWirCHW\": null, \"AnzBestWirCHM\": null, \"AnzBestWirAUSL\": 37809, \"AnzBestWirAUSLW\": null, \"AnzBestWirAUSLM\": null, \"AuslAnt\": 18.3}, {\"StichtagDatJahr\": \"1923-01-01T00:00:00\", \"AnzBestWir\": 204049, \"AnzBestWirCH\": 164666, \"AnzBestWirCHW\": null, \"AnzBestWirCHM\": null, \"AnzBestWirAUSL\": 39383, \"AnzBestWirAUSLW\": null, \"AnzBestWirAUSLM\": null, \"AuslAnt\": 19.3}, {\"StichtagDatJahr\": \"1922-01-01T00:00:00\", \"AnzBestWir\": 200289, \"AnzBestWirCH\": 161775, \"AnzBestWirCHW\": null, \"AnzBestWirCHM\": null, \"AnzBestWirAUSL\": 38514, \"AnzBestWirAUSLW\": null, \"AnzBestWirAUSLM\": null, \"AuslAnt\": 19.2}, {\"StichtagDatJahr\": \"1921-01-01T00:00:00\", \"AnzBestWir\": 201242, \"AnzBestWirCH\": 161330, \"AnzBestWirCHW\": null, \"AnzBestWirCHM\": null, \"AnzBestWirAUSL\": 39912, \"AnzBestWirAUSLW\": null, \"AnzBestWirAUSLM\": null, \"AuslAnt\": 19.8}, {\"StichtagDatJahr\": \"1920-01-01T00:00:00\", \"AnzBestWir\": 206299, \"AnzBestWirCH\": 161303, \"AnzBestWirCHW\": null, \"AnzBestWirCHM\": null, \"AnzBestWirAUSL\": 44996, \"AnzBestWirAUSLW\": null, \"AnzBestWirAUSLM\": null, \"AuslAnt\": 21.8}, {\"StichtagDatJahr\": \"1919-01-01T00:00:00\", \"AnzBestWir\": 210151, \"AnzBestWirCH\": 161710, \"AnzBestWirCHW\": null, \"AnzBestWirCHM\": null, \"AnzBestWirAUSL\": 48441, \"AnzBestWirAUSLW\": null, \"AnzBestWirAUSLM\": null, \"AuslAnt\": 23.1}, {\"StichtagDatJahr\": \"1918-01-01T00:00:00\", \"AnzBestWir\": 211421, \"AnzBestWirCH\": 159503, \"AnzBestWirCHW\": null, \"AnzBestWirCHM\": null, \"AnzBestWirAUSL\": 51918, \"AnzBestWirAUSLW\": null, \"AnzBestWirAUSLM\": null, \"AuslAnt\": 24.6}, {\"StichtagDatJahr\": \"1917-01-01T00:00:00\", \"AnzBestWir\": 213193, \"AnzBestWirCH\": 156816, \"AnzBestWirCHW\": null, \"AnzBestWirCHM\": null, \"AnzBestWirAUSL\": 56377, \"AnzBestWirAUSLW\": null, \"AnzBestWirAUSLM\": null, \"AuslAnt\": 26.4}, {\"StichtagDatJahr\": \"1916-01-01T00:00:00\", \"AnzBestWir\": 206073, \"AnzBestWirCH\": 148783, \"AnzBestWirCHW\": null, \"AnzBestWirCHM\": null, \"AnzBestWirAUSL\": 57290, \"AnzBestWirAUSLW\": null, \"AnzBestWirAUSLM\": null, \"AuslAnt\": 27.8}, {\"StichtagDatJahr\": \"1915-01-01T00:00:00\", \"AnzBestWir\": 199726, \"AnzBestWirCH\": 142516, \"AnzBestWirCHW\": null, \"AnzBestWirCHM\": null, \"AnzBestWirAUSL\": 57210, \"AnzBestWirAUSLW\": null, \"AnzBestWirAUSLM\": null, \"AuslAnt\": 28.6}, {\"StichtagDatJahr\": \"1914-01-01T00:00:00\", \"AnzBestWir\": 195867, \"AnzBestWirCH\": 136982, \"AnzBestWirCHW\": null, \"AnzBestWirCHM\": null, \"AnzBestWirAUSL\": 58885, \"AnzBestWirAUSLW\": null, \"AnzBestWirAUSLM\": null, \"AuslAnt\": 30.1}, {\"StichtagDatJahr\": \"1913-01-01T00:00:00\", \"AnzBestWir\": 200632, \"AnzBestWirCH\": 133654, \"AnzBestWirCHW\": null, \"AnzBestWirCHM\": null, \"AnzBestWirAUSL\": 66978, \"AnzBestWirAUSLW\": null, \"AnzBestWirAUSLM\": null, \"AuslAnt\": 33.4}, {\"StichtagDatJahr\": \"1912-01-01T00:00:00\", \"AnzBestWir\": 200462, \"AnzBestWirCH\": 131976, \"AnzBestWirCHW\": null, \"AnzBestWirCHM\": null, \"AnzBestWirAUSL\": 68486, \"AnzBestWirAUSLW\": null, \"AnzBestWirAUSLM\": null, \"AuslAnt\": 34.2}, {\"StichtagDatJahr\": \"1911-01-01T00:00:00\", \"AnzBestWir\": 195525, \"AnzBestWirCH\": 129396, \"AnzBestWirCHW\": null, \"AnzBestWirCHM\": null, \"AnzBestWirAUSL\": 66129, \"AnzBestWirAUSLW\": null, \"AnzBestWirAUSLM\": null, \"AuslAnt\": 33.8}, {\"StichtagDatJahr\": \"1910-01-01T00:00:00\", \"AnzBestWir\": 190092, \"AnzBestWirCH\": 126470, \"AnzBestWirCHW\": null, \"AnzBestWirCHM\": null, \"AnzBestWirAUSL\": 63622, \"AnzBestWirAUSLW\": null, \"AnzBestWirAUSLM\": null, \"AuslAnt\": 33.5}, {\"StichtagDatJahr\": \"1909-01-01T00:00:00\", \"AnzBestWir\": 185041, \"AnzBestWirCH\": 125001, \"AnzBestWirCHW\": null, \"AnzBestWirCHM\": null, \"AnzBestWirAUSL\": 60040, \"AnzBestWirAUSLW\": null, \"AnzBestWirAUSLM\": null, \"AuslAnt\": 32.4}, {\"StichtagDatJahr\": \"1908-01-01T00:00:00\", \"AnzBestWir\": 180722, \"AnzBestWirCH\": 122662, \"AnzBestWirCHW\": null, \"AnzBestWirCHM\": null, \"AnzBestWirAUSL\": 58060, \"AnzBestWirAUSLW\": null, \"AnzBestWirAUSLM\": null, \"AuslAnt\": 32.1}, {\"StichtagDatJahr\": \"1907-01-01T00:00:00\", \"AnzBestWir\": 177899, \"AnzBestWirCH\": 120861, \"AnzBestWirCHW\": null, \"AnzBestWirCHM\": null, \"AnzBestWirAUSL\": 57038, \"AnzBestWirAUSLW\": null, \"AnzBestWirAUSLM\": null, \"AuslAnt\": 32.1}, {\"StichtagDatJahr\": \"1906-01-01T00:00:00\", \"AnzBestWir\": 173283, \"AnzBestWirCH\": 118600, \"AnzBestWirCHW\": null, \"AnzBestWirCHM\": null, \"AnzBestWirAUSL\": 54683, \"AnzBestWirAUSLW\": null, \"AnzBestWirAUSLM\": null, \"AuslAnt\": 31.6}, {\"StichtagDatJahr\": \"1905-01-01T00:00:00\", \"AnzBestWir\": 168877, \"AnzBestWirCH\": 117236, \"AnzBestWirCHW\": null, \"AnzBestWirCHM\": null, \"AnzBestWirAUSL\": 51641, \"AnzBestWirAUSLW\": null, \"AnzBestWirAUSLM\": null, \"AuslAnt\": 30.6}, {\"StichtagDatJahr\": \"1904-01-01T00:00:00\", \"AnzBestWir\": 164060, \"AnzBestWirCH\": 115612, \"AnzBestWirCHW\": null, \"AnzBestWirCHM\": null, \"AnzBestWirAUSL\": 48448, \"AnzBestWirAUSLW\": null, \"AnzBestWirAUSLM\": null, \"AuslAnt\": 29.5}, {\"StichtagDatJahr\": \"1903-01-01T00:00:00\", \"AnzBestWir\": 158719, \"AnzBestWirCH\": 112915, \"AnzBestWirCHW\": null, \"AnzBestWirCHM\": null, \"AnzBestWirAUSL\": 45804, \"AnzBestWirAUSLW\": null, \"AnzBestWirAUSLM\": null, \"AuslAnt\": 28.9}, {\"StichtagDatJahr\": \"1902-01-01T00:00:00\", \"AnzBestWir\": 153741, \"AnzBestWirCH\": 110707, \"AnzBestWirCHW\": null, \"AnzBestWirCHM\": null, \"AnzBestWirAUSL\": 43034, \"AnzBestWirAUSLW\": null, \"AnzBestWirAUSLM\": null, \"AuslAnt\": 28.0}, {\"StichtagDatJahr\": \"1901-01-01T00:00:00\", \"AnzBestWir\": 150301, \"AnzBestWirCH\": 108291, \"AnzBestWirCHW\": null, \"AnzBestWirCHM\": null, \"AnzBestWirAUSL\": 42010, \"AnzBestWirAUSLW\": null, \"AnzBestWirAUSLM\": null, \"AuslAnt\": 28.0}]}}, {\"mode\": \"vega-lite\"});\n",
       "</script>"
      ],
      "text/plain": [
       "alt.Chart(...)"
      ]
     },
     "execution_count": 39,
     "metadata": {},
     "output_type": "execute_result"
    }
   ],
   "source": [
    "alt.Chart(data2betested).mark_circle(size=60).encode(\n",
    "    x='AnzBestWir',\n",
    "    y='StichtagDatJahr',\n",
    "    #color='AnzNat',\n",
    "    #color=alt.Color('AnzNat', scale=alt.Scale(scheme='dark2')),\n",
    "    color=alt.Color('AnzBestWirAUSL', scale=alt.Scale(scheme='greens')),\n",
    "    tooltip=['AnzBestWir','StichtagDatJahr','AnzBestWirAUSL']\n",
    ").interactive() # this makes the axes interactive: now you can zoom & pan\n",
    "\n",
    "\n"
   ]
  },
  {
   "cell_type": "markdown",
   "metadata": {},
   "source": [
    "**Sharepoint als gecheckt markieren!**"
   ]
  },
  {
   "cell_type": "markdown",
   "metadata": {},
   "source": [
    "Record auf Sharepoint: **[Link](http://kollaboration.intranet.stzh.ch/orga/ssz-produkte/Lists/SASA_Outputs/EditForm.aspx?ID=41&Source=%2Forga%2Fssz%2Dprodukte%2FLists%2FSASA%5FOutputs)**"
   ]
  },
  {
   "cell_type": "raw",
   "metadata": {},
   "source": []
  },
  {
   "cell_type": "code",
   "execution_count": null,
   "metadata": {},
   "outputs": [],
   "source": []
  }
 ],
 "metadata": {
  "kernelspec": {
   "display_name": "Python 3",
   "language": "python",
   "name": "python3"
  },
  "language_info": {
   "codemirror_mode": {
    "name": "ipython",
    "version": 3
   },
   "file_extension": ".py",
   "mimetype": "text/x-python",
   "name": "python",
   "nbconvert_exporter": "python",
   "pygments_lexer": "ipython3",
   "version": "3.8.3"
  }
 },
 "nbformat": 4,
 "nbformat_minor": 4
}
