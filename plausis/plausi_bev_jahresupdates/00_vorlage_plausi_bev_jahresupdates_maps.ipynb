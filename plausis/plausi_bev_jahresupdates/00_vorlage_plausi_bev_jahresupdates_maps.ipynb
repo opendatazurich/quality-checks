{
 "cells": [
  {
   "cell_type": "markdown",
   "metadata": {},
   "source": [
    "# Testing\n",
    "### Bevölkerung nach Stadtquartier, Herkunft, Geschlecht und Alter, seit 1993\n",
    "Datum: 26.01.2022"
   ]
  },
  {
   "cell_type": "markdown",
   "metadata": {},
   "source": [
    "### Importiere die notwendigen Packages"
   ]
  },
  {
   "cell_type": "code",
   "execution_count": 2,
   "metadata": {},
   "outputs": [],
   "source": [
    "#%pip install geopandas altair fiona requests folium mplleaflet contextily seaborn datetime plotly"
   ]
  },
  {
   "cell_type": "code",
   "execution_count": 3,
   "metadata": {},
   "outputs": [],
   "source": [
    "import pandas as pd\n",
    "import pivottablejs\n",
    "from pivottablejs import pivot_ui\n",
    "import numpy as np\n",
    "import altair as alt\n",
    "import matplotlib.pyplot as plt\n",
    "#from datetime import datetime\n",
    "import datetime\n",
    "import geopandas as gpd\n",
    "import folium \n",
    "import plotly.express as px\n"
   ]
  },
  {
   "cell_type": "markdown",
   "metadata": {},
   "source": [
    "Definiere Settings. Hier das Zahlenformat von Float-Werten (z.B. *'{:,.2f}'.format* mit Komma als Tausenderzeichen), "
   ]
  },
  {
   "cell_type": "code",
   "execution_count": 4,
   "metadata": {},
   "outputs": [],
   "source": [
    "pd.options.display.float_format = '{:.0f}'.format\n",
    "pd.set_option('display.width', 100)\n",
    "pd.set_option('display.max_columns', 15)"
   ]
  },
  {
   "cell_type": "markdown",
   "metadata": {},
   "source": [
    "### Zeitvariabeln\n",
    "Bestimme den aktuellst geladenen Monat. Hier ist es der Stand vor 2 Monaten. \n",
    "Bestimme noch weitere evt. sinnvolle Zeitvariabeln.\n",
    "\n",
    "Zum Unterschied zwischen import datetime und from datedtime import datetime, siehe https://stackoverflow.com/questions/15707532/import-datetime-v-s-from-datetime-import-datetime\n",
    "\n",
    "Zuerst die Zeitvariabeln als Strings"
   ]
  },
  {
   "cell_type": "code",
   "execution_count": 5,
   "metadata": {},
   "outputs": [],
   "source": [
    "#today_date = datetime.date.today()\n",
    "#date_time = datetime.datetime.strptime(date_time_string, '%Y-%m-%d %H:%M')\n",
    "now = datetime.date.today()\n",
    "date_today = now.strftime(\"%Y-%m-%d\")\n",
    "year_today = now.strftime(\"%Y\")\n",
    "month_today = now.strftime(\"%m\")\n",
    "day_today = now.strftime(\"%d\")\n"
   ]
  },
  {
   "cell_type": "markdown",
   "metadata": {},
   "source": [
    "Und hier noch die Zeitvariabeln als Integers:\n",
    "- `aktuellesJahr`\n",
    "- `aktuellerMonat`: Der gerade jetzt aktuelle Monat\n",
    "- `selectedMonat`: Der aktuellste Monat in den Daten. In der Regel zwei Monate her."
   ]
  },
  {
   "cell_type": "code",
   "execution_count": 6,
   "metadata": {},
   "outputs": [
    {
     "name": "stdout",
     "output_type": "stream",
     "text": [
      "2022 1 datenstand:  -1 time.struct_time(tm_year=2022, tm_mon=1, tm_mday=26, tm_hour=0, tm_min=0, tm_sec=0, tm_wday=2, tm_yday=26, tm_isdst=-1)\n"
     ]
    }
   ],
   "source": [
    "#now = datetime.now() \n",
    "int_times = now.timetuple()\n",
    "\n",
    "aktuellesJahr = int_times[0]\n",
    "aktuellerMonat = int_times[1]\n",
    "selectedMonat = int_times[1]-2\n",
    "\n",
    "print(aktuellesJahr, \n",
    "      aktuellerMonat,\n",
    "    'datenstand: ', selectedMonat,\n",
    "     int_times)\n"
   ]
  },
  {
   "cell_type": "markdown",
   "metadata": {},
   "source": [
    "Berechne die Variable Epoche um später das SAS-Datum in ein Unix-Datum umzuwandeln. Bei SAS beginnt die Epoche am 1.1.1960. Bei Unix am 1.1.1970.\n",
    "Diese Variable wird beim CSV-Import benötigt."
   ]
  },
  {
   "cell_type": "code",
   "execution_count": 7,
   "metadata": {},
   "outputs": [],
   "source": [
    "epoch = datetime.datetime(1960, 1, 1)"
   ]
  },
  {
   "cell_type": "markdown",
   "metadata": {
    "tags": []
   },
   "source": [
    "### Importiere einen Datensatz \n",
    "\n",
    "- Beachte dabei die Notation des Pfades...\n",
    "- Definiere mal aktuell noch keine weiteren Parameter beim Import"
   ]
  },
  {
   "cell_type": "markdown",
   "metadata": {},
   "source": [
    "**Dataset auf INTEG Datenkatalog**:  https://data.integ.stadt-zuerich.ch/dataset/bev_bestand_jahr_quartier_alter_herkunft_geschlecht_od3903\n",
    "\n",
    "**Dataset auf PROD Datenkatalog**:  https://data.stadt-zuerich.ch/dataset/bev_bestand_jahr_quartier_alter_herkunft_geschlecht_od3903/"
   ]
  },
  {
   "cell_type": "code",
   "execution_count": 8,
   "metadata": {},
   "outputs": [
    {
     "name": "stdout",
     "output_type": "stream",
     "text": [
      "prod\n"
     ]
    }
   ],
   "source": [
    "#Die Datasets sind nur zum Testen auf INT-DWH-Dropzone. Wenn der Test vorbei ist, sind sie auf PROD. \n",
    "# Über den Status kann man einfach switchen\n",
    "\n",
    "status = \"prod\";\n",
    "print(status)"
   ]
  },
  {
   "cell_type": "code",
   "execution_count": 10,
   "metadata": {
    "tags": []
   },
   "outputs": [
    {
     "name": "stdout",
     "output_type": "stream",
     "text": [
      "https://data.stadt-zuerich.ch/dataset/bev_bestand_jahr_quartier_alter_herkunft_geschlecht_od3903/download/BEV390OD3903.csv\n"
     ]
    }
   ],
   "source": [
    "# Filepath\n",
    "if status == \"prod\":\n",
    "    fp = r\"https://data.stadt-zuerich.ch/dataset/bev_bestand_jahr_quartier_alter_herkunft_geschlecht_od3903/download/BEV390OD3903.csv\"\n",
    "else:\n",
    "    fp = r\"\\\\szh\\ssz\\applikationen\\OGD_Dropzone\\DWH\\bev_bestand_jahr_quartier_alter_herkunft_geschlecht_od3903\\BEV390OD3903.csv\"   \n",
    "\n",
    "print(fp)"
   ]
  },
  {
   "cell_type": "markdown",
   "metadata": {},
   "source": [
    "Beachte, wie das SAS Datum (ohne Format) in ein UNIX Datum umgerechnet und als Datumsformat dargestellt wird! Siehe dazu `https://stackoverflow.com/questions/26923564/convert-sas-numeric-to-python-datetime`"
   ]
  },
  {
   "cell_type": "code",
   "execution_count": 19,
   "metadata": {},
   "outputs": [
    {
     "name": "stdout",
     "output_type": "stream",
     "text": [
      "done\n"
     ]
    }
   ],
   "source": [
    "# Read the data\n",
    "data2betested = pd.read_csv(\n",
    "    fp, \n",
    "    sep=',',\n",
    "    parse_dates=['StichtagDatJahr'],\n",
    "    # KONVERTIERE DAS SAS DATUM IN EIN UNIXDATUM UND FORMATIERE ES\n",
    "    #date_parser=lambda s: epoch + datetime.timedelta(days=int(s)),\n",
    "    low_memory=False    \n",
    "    )\n",
    "\n",
    "print('done')"
   ]
  },
  {
   "cell_type": "markdown",
   "metadata": {},
   "source": [
    "In der Folge ein paar erste Tests:"
   ]
  },
  {
   "cell_type": "markdown",
   "metadata": {},
   "source": [
    " - 1) Zeige eine kurze Vorschau der importierten Daten\n",
    " - 2) Weise die Datentypen aus\n",
    " - 3) Zeige die Shape (Umfang) des Datensatzes an"
   ]
  },
  {
   "cell_type": "code",
   "execution_count": 20,
   "metadata": {},
   "outputs": [],
   "source": [
    "#data2betested.head(6)"
   ]
  },
  {
   "cell_type": "code",
   "execution_count": 25,
   "metadata": {},
   "outputs": [
    {
     "data": {
      "text/plain": [
       "StichtagDatJahr    datetime64[ns]\n",
       "QuarSort                    int64\n",
       "QuarCd                      int64\n",
       "QuarLang                   object\n",
       "AlterVSort                  int64\n",
       "AlterVCd                    int64\n",
       "AlterVKurz                  int64\n",
       "AlterV05Sort                int64\n",
       "AlterV05Kurz               object\n",
       "HerkunftLang               object\n",
       "HerkunftCd                  int64\n",
       "HerkunftSort                int64\n",
       "SexCd                       int64\n",
       "SexKurz                    object\n",
       "AnzBestWir                  int64\n",
       "dtype: object"
      ]
     },
     "execution_count": 25,
     "metadata": {},
     "output_type": "execute_result"
    }
   ],
   "source": [
    "data2betested.dtypes"
   ]
  },
  {
   "cell_type": "code",
   "execution_count": 26,
   "metadata": {},
   "outputs": [
    {
     "data": {
      "text/plain": [
       "(345386, 15)"
      ]
     },
     "execution_count": 26,
     "metadata": {},
     "output_type": "execute_result"
    }
   ],
   "source": [
    "data2betested.shape"
   ]
  },
  {
   "cell_type": "markdown",
   "metadata": {},
   "source": [
    "Beschreibe einzelne Attribute"
   ]
  },
  {
   "cell_type": "code",
   "execution_count": 27,
   "metadata": {},
   "outputs": [
    {
     "data": {
      "text/html": [
       "<div>\n",
       "<style scoped>\n",
       "    .dataframe tbody tr th:only-of-type {\n",
       "        vertical-align: middle;\n",
       "    }\n",
       "\n",
       "    .dataframe tbody tr th {\n",
       "        vertical-align: top;\n",
       "    }\n",
       "\n",
       "    .dataframe thead th {\n",
       "        text-align: right;\n",
       "    }\n",
       "</style>\n",
       "<table border=\"1\" class=\"dataframe\">\n",
       "  <thead>\n",
       "    <tr style=\"text-align: right;\">\n",
       "      <th></th>\n",
       "      <th>QuarSort</th>\n",
       "      <th>QuarCd</th>\n",
       "      <th>AlterVSort</th>\n",
       "      <th>AlterVCd</th>\n",
       "      <th>AlterVKurz</th>\n",
       "      <th>AlterV05Sort</th>\n",
       "      <th>HerkunftCd</th>\n",
       "      <th>HerkunftSort</th>\n",
       "      <th>SexCd</th>\n",
       "      <th>AnzBestWir</th>\n",
       "    </tr>\n",
       "  </thead>\n",
       "  <tbody>\n",
       "    <tr>\n",
       "      <th>count</th>\n",
       "      <td>345386</td>\n",
       "      <td>345386</td>\n",
       "      <td>345386</td>\n",
       "      <td>345386</td>\n",
       "      <td>345386</td>\n",
       "      <td>345386</td>\n",
       "      <td>345386</td>\n",
       "      <td>345386</td>\n",
       "      <td>345386</td>\n",
       "      <td>345386</td>\n",
       "    </tr>\n",
       "    <tr>\n",
       "      <th>mean</th>\n",
       "      <td>66</td>\n",
       "      <td>66</td>\n",
       "      <td>46</td>\n",
       "      <td>46</td>\n",
       "      <td>46</td>\n",
       "      <td>10</td>\n",
       "      <td>1</td>\n",
       "      <td>1</td>\n",
       "      <td>2</td>\n",
       "      <td>31</td>\n",
       "    </tr>\n",
       "    <tr>\n",
       "      <th>std</th>\n",
       "      <td>35</td>\n",
       "      <td>35</td>\n",
       "      <td>27</td>\n",
       "      <td>27</td>\n",
       "      <td>27</td>\n",
       "      <td>5</td>\n",
       "      <td>0</td>\n",
       "      <td>0</td>\n",
       "      <td>0</td>\n",
       "      <td>32</td>\n",
       "    </tr>\n",
       "    <tr>\n",
       "      <th>min</th>\n",
       "      <td>11</td>\n",
       "      <td>11</td>\n",
       "      <td>0</td>\n",
       "      <td>0</td>\n",
       "      <td>0</td>\n",
       "      <td>1</td>\n",
       "      <td>1</td>\n",
       "      <td>1</td>\n",
       "      <td>1</td>\n",
       "      <td>0</td>\n",
       "    </tr>\n",
       "    <tr>\n",
       "      <th>25%</th>\n",
       "      <td>34</td>\n",
       "      <td>34</td>\n",
       "      <td>23</td>\n",
       "      <td>23</td>\n",
       "      <td>23</td>\n",
       "      <td>5</td>\n",
       "      <td>1</td>\n",
       "      <td>1</td>\n",
       "      <td>1</td>\n",
       "      <td>7</td>\n",
       "    </tr>\n",
       "    <tr>\n",
       "      <th>50%</th>\n",
       "      <td>71</td>\n",
       "      <td>71</td>\n",
       "      <td>46</td>\n",
       "      <td>46</td>\n",
       "      <td>46</td>\n",
       "      <td>10</td>\n",
       "      <td>1</td>\n",
       "      <td>1</td>\n",
       "      <td>2</td>\n",
       "      <td>21</td>\n",
       "    </tr>\n",
       "    <tr>\n",
       "      <th>75%</th>\n",
       "      <td>92</td>\n",
       "      <td>92</td>\n",
       "      <td>69</td>\n",
       "      <td>69</td>\n",
       "      <td>69</td>\n",
       "      <td>14</td>\n",
       "      <td>2</td>\n",
       "      <td>2</td>\n",
       "      <td>2</td>\n",
       "      <td>44</td>\n",
       "    </tr>\n",
       "    <tr>\n",
       "      <th>max</th>\n",
       "      <td>123</td>\n",
       "      <td>123</td>\n",
       "      <td>111</td>\n",
       "      <td>111</td>\n",
       "      <td>111</td>\n",
       "      <td>21</td>\n",
       "      <td>2</td>\n",
       "      <td>2</td>\n",
       "      <td>2</td>\n",
       "      <td>248</td>\n",
       "    </tr>\n",
       "  </tbody>\n",
       "</table>\n",
       "</div>"
      ],
      "text/plain": [
       "       QuarSort  QuarCd  AlterVSort  AlterVCd  AlterVKurz  AlterV05Sort  HerkunftCd  HerkunftSort  \\\n",
       "count    345386  345386      345386    345386      345386        345386      345386        345386   \n",
       "mean         66      66          46        46          46            10           1             1   \n",
       "std          35      35          27        27          27             5           0             0   \n",
       "min          11      11           0         0           0             1           1             1   \n",
       "25%          34      34          23        23          23             5           1             1   \n",
       "50%          71      71          46        46          46            10           1             1   \n",
       "75%          92      92          69        69          69            14           2             2   \n",
       "max         123     123         111       111         111            21           2             2   \n",
       "\n",
       "       SexCd  AnzBestWir  \n",
       "count 345386      345386  \n",
       "mean       2          31  \n",
       "std        0          32  \n",
       "min        1           0  \n",
       "25%        1           7  \n",
       "50%        2          21  \n",
       "75%        2          44  \n",
       "max        2         248  "
      ]
     },
     "execution_count": 27,
     "metadata": {},
     "output_type": "execute_result"
    }
   ],
   "source": [
    "data2betested.describe()"
   ]
  },
  {
   "cell_type": "markdown",
   "metadata": {},
   "source": [
    "Wie viele Nullwerte gibt es im Datensatz?"
   ]
  },
  {
   "cell_type": "code",
   "execution_count": 28,
   "metadata": {
    "scrolled": true
   },
   "outputs": [
    {
     "data": {
      "text/plain": [
       "StichtagDatJahr    0\n",
       "QuarSort           0\n",
       "QuarCd             0\n",
       "QuarLang           0\n",
       "AlterVSort         0\n",
       "AlterVCd           0\n",
       "AlterVKurz         0\n",
       "AlterV05Sort       0\n",
       "AlterV05Kurz       0\n",
       "HerkunftLang       0\n",
       "HerkunftCd         0\n",
       "HerkunftSort       0\n",
       "SexCd              0\n",
       "SexKurz            0\n",
       "AnzBestWir         0\n",
       "dtype: int64"
      ]
     },
     "execution_count": 28,
     "metadata": {},
     "output_type": "execute_result"
    }
   ],
   "source": [
    "data2betested.isnull().sum()"
   ]
  },
  {
   "cell_type": "markdown",
   "metadata": {
    "colab_type": "text",
    "id": "1dTPVmmsgOVx"
   },
   "source": [
    "### Verwende das Datum als Index\n",
    "\n",
    "While we did already parse the `datetime` column into the respective datetime type, it currently is just a regular column. \n",
    "**To enable quick and convenient queries and aggregations, we need to turn it into the index of the DataFrame**"
   ]
  },
  {
   "cell_type": "code",
   "execution_count": 29,
   "metadata": {},
   "outputs": [],
   "source": [
    "data2betested = data2betested.set_index(\"StichtagDatJahr\")\n",
    "#data2betested = data2betested.drop(columns=[\"StichtagDatMM\"])"
   ]
  },
  {
   "cell_type": "code",
   "execution_count": 30,
   "metadata": {},
   "outputs": [
    {
     "name": "stdout",
     "output_type": "stream",
     "text": [
      "<class 'pandas.core.frame.DataFrame'>\n",
      "DatetimeIndex: 345386 entries, 1993-01-01 to 2020-01-01\n",
      "Data columns (total 14 columns):\n",
      " #   Column        Non-Null Count   Dtype \n",
      "---  ------        --------------   ----- \n",
      " 0   QuarSort      345386 non-null  int64 \n",
      " 1   QuarCd        345386 non-null  int64 \n",
      " 2   QuarLang      345386 non-null  object\n",
      " 3   AlterVSort    345386 non-null  int64 \n",
      " 4   AlterVCd      345386 non-null  int64 \n",
      " 5   AlterVKurz    345386 non-null  int64 \n",
      " 6   AlterV05Sort  345386 non-null  int64 \n",
      " 7   AlterV05Kurz  345386 non-null  object\n",
      " 8   HerkunftLang  345386 non-null  object\n",
      " 9   HerkunftCd    345386 non-null  int64 \n",
      " 10  HerkunftSort  345386 non-null  int64 \n",
      " 11  SexCd         345386 non-null  int64 \n",
      " 12  SexKurz       345386 non-null  object\n",
      " 13  AnzBestWir    345386 non-null  int64 \n",
      "dtypes: int64(10), object(4)\n",
      "memory usage: 39.5+ MB\n"
     ]
    },
    {
     "data": {
      "text/plain": [
       "Int64Index([1], dtype='int64', name='StichtagDatJahr')"
      ]
     },
     "execution_count": 30,
     "metadata": {},
     "output_type": "execute_result"
    }
   ],
   "source": [
    "data2betested.info()\n",
    "data2betested.index.day.unique()"
   ]
  },
  {
   "cell_type": "markdown",
   "metadata": {},
   "source": [
    "### Einfache Visualisierungen zur Plausi"
   ]
  },
  {
   "cell_type": "markdown",
   "metadata": {},
   "source": [
    "Exploriere die Daten mit Pivottable.JS"
   ]
  },
  {
   "cell_type": "code",
   "execution_count": 16,
   "metadata": {},
   "outputs": [
    {
     "data": {
      "text/html": [
       "\n",
       "        <iframe\n",
       "            width=\"100%\"\n",
       "            height=\"500\"\n",
       "            src=\"pivottablejs.html\"\n",
       "            frameborder=\"0\"\n",
       "            allowfullscreen\n",
       "        ></iframe>\n",
       "        "
      ],
      "text/plain": [
       "<IPython.lib.display.IFrame at 0x27812142040>"
      ]
     },
     "execution_count": 16,
     "metadata": {},
     "output_type": "execute_result"
    }
   ],
   "source": [
    "from pivottablejs import pivot_ui\n",
    "\n",
    "pivot_ui(data2betested)"
   ]
  },
  {
   "cell_type": "markdown",
   "metadata": {},
   "source": [
    "### Zeitpunkte und Zeiträume abfragen\n",
    "\n",
    "A particular powerful feature of the Pandas DataFrame is its indexing capability that also works using time-based entities, such as dates and times. We have already created the index above, so let's put it to use."
   ]
  },
  {
   "cell_type": "code",
   "execution_count": 32,
   "metadata": {},
   "outputs": [
    {
     "data": {
      "text/html": [
       "<div>\n",
       "<style scoped>\n",
       "    .dataframe tbody tr th:only-of-type {\n",
       "        vertical-align: middle;\n",
       "    }\n",
       "\n",
       "    .dataframe tbody tr th {\n",
       "        vertical-align: top;\n",
       "    }\n",
       "\n",
       "    .dataframe thead th {\n",
       "        text-align: right;\n",
       "    }\n",
       "</style>\n",
       "<table border=\"1\" class=\"dataframe\">\n",
       "  <thead>\n",
       "    <tr style=\"text-align: right;\">\n",
       "      <th></th>\n",
       "      <th>QuarSort</th>\n",
       "      <th>QuarCd</th>\n",
       "      <th>QuarLang</th>\n",
       "      <th>AlterVSort</th>\n",
       "      <th>AlterVCd</th>\n",
       "      <th>AlterVKurz</th>\n",
       "      <th>AlterV05Sort</th>\n",
       "      <th>AlterV05Kurz</th>\n",
       "      <th>HerkunftLang</th>\n",
       "      <th>HerkunftCd</th>\n",
       "      <th>HerkunftSort</th>\n",
       "      <th>SexCd</th>\n",
       "      <th>SexKurz</th>\n",
       "      <th>AnzBestWir</th>\n",
       "    </tr>\n",
       "    <tr>\n",
       "      <th>StichtagDatJahr</th>\n",
       "      <th></th>\n",
       "      <th></th>\n",
       "      <th></th>\n",
       "      <th></th>\n",
       "      <th></th>\n",
       "      <th></th>\n",
       "      <th></th>\n",
       "      <th></th>\n",
       "      <th></th>\n",
       "      <th></th>\n",
       "      <th></th>\n",
       "      <th></th>\n",
       "      <th></th>\n",
       "      <th></th>\n",
       "    </tr>\n",
       "  </thead>\n",
       "  <tbody>\n",
       "    <tr>\n",
       "      <th>2009-01-01</th>\n",
       "      <td>11</td>\n",
       "      <td>11</td>\n",
       "      <td>Rathaus</td>\n",
       "      <td>0</td>\n",
       "      <td>0</td>\n",
       "      <td>0</td>\n",
       "      <td>1</td>\n",
       "      <td>0-4</td>\n",
       "      <td>Schweizer/in</td>\n",
       "      <td>1</td>\n",
       "      <td>1</td>\n",
       "      <td>1</td>\n",
       "      <td>M</td>\n",
       "      <td>12</td>\n",
       "    </tr>\n",
       "    <tr>\n",
       "      <th>2009-01-01</th>\n",
       "      <td>11</td>\n",
       "      <td>11</td>\n",
       "      <td>Rathaus</td>\n",
       "      <td>0</td>\n",
       "      <td>0</td>\n",
       "      <td>0</td>\n",
       "      <td>1</td>\n",
       "      <td>0-4</td>\n",
       "      <td>Schweizer/in</td>\n",
       "      <td>1</td>\n",
       "      <td>1</td>\n",
       "      <td>2</td>\n",
       "      <td>W</td>\n",
       "      <td>10</td>\n",
       "    </tr>\n",
       "    <tr>\n",
       "      <th>2009-01-01</th>\n",
       "      <td>11</td>\n",
       "      <td>11</td>\n",
       "      <td>Rathaus</td>\n",
       "      <td>0</td>\n",
       "      <td>0</td>\n",
       "      <td>0</td>\n",
       "      <td>1</td>\n",
       "      <td>0-4</td>\n",
       "      <td>Ausländer/in</td>\n",
       "      <td>2</td>\n",
       "      <td>2</td>\n",
       "      <td>1</td>\n",
       "      <td>M</td>\n",
       "      <td>2</td>\n",
       "    </tr>\n",
       "    <tr>\n",
       "      <th>2009-01-01</th>\n",
       "      <td>11</td>\n",
       "      <td>11</td>\n",
       "      <td>Rathaus</td>\n",
       "      <td>0</td>\n",
       "      <td>0</td>\n",
       "      <td>0</td>\n",
       "      <td>1</td>\n",
       "      <td>0-4</td>\n",
       "      <td>Ausländer/in</td>\n",
       "      <td>2</td>\n",
       "      <td>2</td>\n",
       "      <td>2</td>\n",
       "      <td>W</td>\n",
       "      <td>5</td>\n",
       "    </tr>\n",
       "  </tbody>\n",
       "</table>\n",
       "</div>"
      ],
      "text/plain": [
       "                 QuarSort  QuarCd QuarLang  AlterVSort  AlterVCd  AlterVKurz  AlterV05Sort  \\\n",
       "StichtagDatJahr                                                                              \n",
       "2009-01-01             11      11  Rathaus           0         0           0             1   \n",
       "2009-01-01             11      11  Rathaus           0         0           0             1   \n",
       "2009-01-01             11      11  Rathaus           0         0           0             1   \n",
       "2009-01-01             11      11  Rathaus           0         0           0             1   \n",
       "\n",
       "                AlterV05Kurz  HerkunftLang  HerkunftCd  HerkunftSort  SexCd SexKurz  AnzBestWir  \n",
       "StichtagDatJahr                                                                                  \n",
       "2009-01-01               0-4  Schweizer/in           1             1      1       M          12  \n",
       "2009-01-01               0-4  Schweizer/in           1             1      2       W          10  \n",
       "2009-01-01               0-4  Ausländer/in           2             2      1       M           2  \n",
       "2009-01-01               0-4  Ausländer/in           2             2      2       W           5  "
      ]
     },
     "execution_count": 32,
     "metadata": {},
     "output_type": "execute_result"
    }
   ],
   "source": [
    "data2betested.loc[\"2009\"].head(4)\n",
    "#data2betested.loc[\"2021-10-31\":\"2021-11-30\"].head(2)"
   ]
  },
  {
   "cell_type": "markdown",
   "metadata": {},
   "source": [
    "### Visualisierungen nach Zeitausschnitten"
   ]
  },
  {
   "cell_type": "code",
   "execution_count": 34,
   "metadata": {},
   "outputs": [
    {
     "name": "stdout",
     "output_type": "stream",
     "text": [
      "<class 'pandas.core.frame.DataFrame'>\n",
      "DatetimeIndex: 345386 entries, 1993-01-01 to 2020-01-01\n",
      "Data columns (total 14 columns):\n",
      " #   Column        Non-Null Count   Dtype \n",
      "---  ------        --------------   ----- \n",
      " 0   QuarSort      345386 non-null  int64 \n",
      " 1   QuarCd        345386 non-null  int64 \n",
      " 2   QuarLang      345386 non-null  object\n",
      " 3   AlterVSort    345386 non-null  int64 \n",
      " 4   AlterVCd      345386 non-null  int64 \n",
      " 5   AlterVKurz    345386 non-null  int64 \n",
      " 6   AlterV05Sort  345386 non-null  int64 \n",
      " 7   AlterV05Kurz  345386 non-null  object\n",
      " 8   HerkunftLang  345386 non-null  object\n",
      " 9   HerkunftCd    345386 non-null  int64 \n",
      " 10  HerkunftSort  345386 non-null  int64 \n",
      " 11  SexCd         345386 non-null  int64 \n",
      " 12  SexKurz       345386 non-null  object\n",
      " 13  AnzBestWir    345386 non-null  int64 \n",
      "dtypes: int64(10), object(4)\n",
      "memory usage: 47.6+ MB\n"
     ]
    }
   ],
   "source": [
    "data2betested.info()\n",
    "#data2betested"
   ]
  },
  {
   "cell_type": "markdown",
   "metadata": {},
   "source": [
    "#### Entwicklung Wohnbevölkerung nach Altersgruppe"
   ]
  },
  {
   "cell_type": "code",
   "execution_count": 54,
   "metadata": {},
   "outputs": [
    {
     "data": {
      "text/html": [
       "<div>\n",
       "<style scoped>\n",
       "    .dataframe tbody tr th:only-of-type {\n",
       "        vertical-align: middle;\n",
       "    }\n",
       "\n",
       "    .dataframe tbody tr th {\n",
       "        vertical-align: top;\n",
       "    }\n",
       "\n",
       "    .dataframe thead th {\n",
       "        text-align: right;\n",
       "    }\n",
       "</style>\n",
       "<table border=\"1\" class=\"dataframe\">\n",
       "  <thead>\n",
       "    <tr style=\"text-align: right;\">\n",
       "      <th></th>\n",
       "      <th>StichtagDatJahr</th>\n",
       "      <th>AlterV05Kurz</th>\n",
       "      <th>sum_WBev</th>\n",
       "    </tr>\n",
       "  </thead>\n",
       "  <tbody>\n",
       "    <tr>\n",
       "      <th>0</th>\n",
       "      <td>2008-01-01</td>\n",
       "      <td>0-4</td>\n",
       "      <td>18038</td>\n",
       "    </tr>\n",
       "    <tr>\n",
       "      <th>1</th>\n",
       "      <td>2008-01-01</td>\n",
       "      <td>95-99</td>\n",
       "      <td>802</td>\n",
       "    </tr>\n",
       "    <tr>\n",
       "      <th>2</th>\n",
       "      <td>2008-01-01</td>\n",
       "      <td>90-94</td>\n",
       "      <td>2637</td>\n",
       "    </tr>\n",
       "  </tbody>\n",
       "</table>\n",
       "</div>"
      ],
      "text/plain": [
       "  StichtagDatJahr AlterV05Kurz  sum_WBev\n",
       "0      2008-01-01          0-4     18038\n",
       "1      2008-01-01        95-99       802\n",
       "2      2008-01-01        90-94      2637"
      ]
     },
     "execution_count": 54,
     "metadata": {},
     "output_type": "execute_result"
    }
   ],
   "source": [
    "#myAgg = data2betested.loc[\"2008-11-30\":\"2021-10-31\"]\n",
    "myAgg = data2betested.loc[\"2008\":\"2020\"]\\\n",
    "    .groupby(['StichtagDatJahr', 'AlterV05Kurz']) \\\n",
    "    .agg(sum_WBev=('AnzBestWir', 'sum')) \\\n",
    "    .sort_values('StichtagDatJahr', ascending=True) \n",
    "\n",
    "myAgg.reset_index().head(3)"
   ]
  },
  {
   "cell_type": "code",
   "execution_count": 55,
   "metadata": {},
   "outputs": [
    {
     "data": {
      "text/html": [
       "\n",
       "<div id=\"altair-viz-cb92e4cf74874821a7900920da72c57f\"></div>\n",
       "<script type=\"text/javascript\">\n",
       "  (function(spec, embedOpt){\n",
       "    let outputDiv = document.currentScript.previousElementSibling;\n",
       "    if (outputDiv.id !== \"altair-viz-cb92e4cf74874821a7900920da72c57f\") {\n",
       "      outputDiv = document.getElementById(\"altair-viz-cb92e4cf74874821a7900920da72c57f\");\n",
       "    }\n",
       "    const paths = {\n",
       "      \"vega\": \"https://cdn.jsdelivr.net/npm//vega@5?noext\",\n",
       "      \"vega-lib\": \"https://cdn.jsdelivr.net/npm//vega-lib?noext\",\n",
       "      \"vega-lite\": \"https://cdn.jsdelivr.net/npm//vega-lite@4.8.1?noext\",\n",
       "      \"vega-embed\": \"https://cdn.jsdelivr.net/npm//vega-embed@6?noext\",\n",
       "    };\n",
       "\n",
       "    function loadScript(lib) {\n",
       "      return new Promise(function(resolve, reject) {\n",
       "        var s = document.createElement('script');\n",
       "        s.src = paths[lib];\n",
       "        s.async = true;\n",
       "        s.onload = () => resolve(paths[lib]);\n",
       "        s.onerror = () => reject(`Error loading script: ${paths[lib]}`);\n",
       "        document.getElementsByTagName(\"head\")[0].appendChild(s);\n",
       "      });\n",
       "    }\n",
       "\n",
       "    function showError(err) {\n",
       "      outputDiv.innerHTML = `<div class=\"error\" style=\"color:red;\">${err}</div>`;\n",
       "      throw err;\n",
       "    }\n",
       "\n",
       "    function displayChart(vegaEmbed) {\n",
       "      vegaEmbed(outputDiv, spec, embedOpt)\n",
       "        .catch(err => showError(`Javascript Error: ${err.message}<br>This usually means there's a typo in your chart specification. See the javascript console for the full traceback.`));\n",
       "    }\n",
       "\n",
       "    if(typeof define === \"function\" && define.amd) {\n",
       "      requirejs.config({paths});\n",
       "      require([\"vega-embed\"], displayChart, err => showError(`Error loading script: ${err.message}`));\n",
       "    } else if (typeof vegaEmbed === \"function\") {\n",
       "      displayChart(vegaEmbed);\n",
       "    } else {\n",
       "      loadScript(\"vega\")\n",
       "        .then(() => loadScript(\"vega-lite\"))\n",
       "        .then(() => loadScript(\"vega-embed\"))\n",
       "        .catch(showError)\n",
       "        .then(() => displayChart(vegaEmbed));\n",
       "    }\n",
       "  })({\"config\": {\"view\": {\"continuousWidth\": 400, \"continuousHeight\": 300}}, \"layer\": [{\"mark\": \"line\", \"encoding\": {\"color\": {\"type\": \"nominal\", \"field\": \"AlterV05Kurz\", \"legend\": {\"orient\": \"right\", \"title\": \"Altersgruppen\"}}, \"size\": {\"condition\": {\"value\": 0.5, \"selection\": {\"not\": \"selector022\"}}, \"value\": 4}, \"tooltip\": [{\"type\": \"temporal\", \"field\": \"StichtagDatJahr\"}, {\"type\": \"nominal\", \"field\": \"AlterV05Kurz\"}, {\"type\": \"quantitative\", \"field\": \"sum_WBev\"}], \"x\": {\"type\": \"temporal\", \"axis\": {\"title\": \"Jahr\"}, \"field\": \"StichtagDatJahr\"}, \"y\": {\"type\": \"quantitative\", \"axis\": {\"title\": \"Anz. Personen\"}, \"field\": \"sum_WBev\"}}, \"selection\": {\"selector023\": {\"type\": \"interval\", \"bind\": \"scales\", \"encodings\": [\"x\", \"y\"]}}, \"title\": \"Title\"}, {\"mark\": \"circle\", \"encoding\": {\"color\": {\"type\": \"nominal\", \"field\": \"AlterV05Kurz\", \"legend\": {\"orient\": \"right\", \"title\": \"Altersgruppen\"}}, \"opacity\": {\"value\": 0.75}, \"tooltip\": [{\"type\": \"temporal\", \"field\": \"StichtagDatJahr\"}, {\"type\": \"nominal\", \"field\": \"AlterV05Kurz\"}, {\"type\": \"quantitative\", \"field\": \"sum_WBev\"}], \"x\": {\"type\": \"temporal\", \"axis\": {\"title\": \"Jahr\"}, \"field\": \"StichtagDatJahr\"}, \"y\": {\"type\": \"quantitative\", \"axis\": {\"title\": \"Anz. Personen\"}, \"field\": \"sum_WBev\"}}, \"height\": 350, \"selection\": {\"selector022\": {\"type\": \"single\", \"on\": \"mouseover\", \"fields\": [\"AlterV05Kurz\"], \"nearest\": true}}, \"title\": \"Title\", \"width\": 750}], \"data\": {\"name\": \"data-45a2989c55c9568a96ce49e3cbd08827\"}, \"$schema\": \"https://vega.github.io/schema/vega-lite/v4.8.1.json\", \"datasets\": {\"data-45a2989c55c9568a96ce49e3cbd08827\": [{\"StichtagDatJahr\": \"2008-01-01T00:00:00\", \"AlterV05Kurz\": \"0-4\", \"sum_WBev\": 18038}, {\"StichtagDatJahr\": \"2008-01-01T00:00:00\", \"AlterV05Kurz\": \"95-99\", \"sum_WBev\": 802}, {\"StichtagDatJahr\": \"2008-01-01T00:00:00\", \"AlterV05Kurz\": \"90-94\", \"sum_WBev\": 2637}, {\"StichtagDatJahr\": \"2008-01-01T00:00:00\", \"AlterV05Kurz\": \"85-89\", \"sum_WBev\": 6793}, {\"StichtagDatJahr\": \"2008-01-01T00:00:00\", \"AlterV05Kurz\": \"80-84\", \"sum_WBev\": 10918}, {\"StichtagDatJahr\": \"2008-01-01T00:00:00\", \"AlterV05Kurz\": \"75-79\", \"sum_WBev\": 12675}, {\"StichtagDatJahr\": \"2008-01-01T00:00:00\", \"AlterV05Kurz\": \"65-69\", \"sum_WBev\": 14732}, {\"StichtagDatJahr\": \"2008-01-01T00:00:00\", \"AlterV05Kurz\": \"60-64\", \"sum_WBev\": 17808}, {\"StichtagDatJahr\": \"2008-01-01T00:00:00\", \"AlterV05Kurz\": \"55-59\", \"sum_WBev\": 19613}, {\"StichtagDatJahr\": \"2008-01-01T00:00:00\", \"AlterV05Kurz\": \"50-54\", \"sum_WBev\": 22051}, {\"StichtagDatJahr\": \"2008-01-01T00:00:00\", \"AlterV05Kurz\": \"70-74\", \"sum_WBev\": 13143}, {\"StichtagDatJahr\": \"2008-01-01T00:00:00\", \"AlterV05Kurz\": \"45-49\", \"sum_WBev\": 26287}, {\"StichtagDatJahr\": \"2008-01-01T00:00:00\", \"AlterV05Kurz\": \"5-9\", \"sum_WBev\": 14036}, {\"StichtagDatJahr\": \"2008-01-01T00:00:00\", \"AlterV05Kurz\": \"15-19\", \"sum_WBev\": 14290}, {\"StichtagDatJahr\": \"2008-01-01T00:00:00\", \"AlterV05Kurz\": \"20-24\", \"sum_WBev\": 25377}, {\"StichtagDatJahr\": \"2008-01-01T00:00:00\", \"AlterV05Kurz\": \"10-14\", \"sum_WBev\": 13247}, {\"StichtagDatJahr\": \"2008-01-01T00:00:00\", \"AlterV05Kurz\": \"30-34\", \"sum_WBev\": 41142}, {\"StichtagDatJahr\": \"2008-01-01T00:00:00\", \"AlterV05Kurz\": \"35-39\", \"sum_WBev\": 34619}, {\"StichtagDatJahr\": \"2008-01-01T00:00:00\", \"AlterV05Kurz\": \"40-44\", \"sum_WBev\": 31209}, {\"StichtagDatJahr\": \"2008-01-01T00:00:00\", \"AlterV05Kurz\": \"25-29\", \"sum_WBev\": 40984}, {\"StichtagDatJahr\": \"2009-01-01T00:00:00\", \"AlterV05Kurz\": \"50-54\", \"sum_WBev\": 22333}, {\"StichtagDatJahr\": \"2009-01-01T00:00:00\", \"AlterV05Kurz\": \"95-99\", \"sum_WBev\": 811}, {\"StichtagDatJahr\": \"2009-01-01T00:00:00\", \"AlterV05Kurz\": \"90-94\", \"sum_WBev\": 2554}, {\"StichtagDatJahr\": \"2009-01-01T00:00:00\", \"AlterV05Kurz\": \"85-89\", \"sum_WBev\": 7030}, {\"StichtagDatJahr\": \"2009-01-01T00:00:00\", \"AlterV05Kurz\": \"80-84\", \"sum_WBev\": 10863}, {\"StichtagDatJahr\": \"2009-01-01T00:00:00\", \"AlterV05Kurz\": \"75-79\", \"sum_WBev\": 12416}, {\"StichtagDatJahr\": \"2009-01-01T00:00:00\", \"AlterV05Kurz\": \"65-69\", \"sum_WBev\": 15046}, {\"StichtagDatJahr\": \"2009-01-01T00:00:00\", \"AlterV05Kurz\": \"60-64\", \"sum_WBev\": 17671}, {\"StichtagDatJahr\": \"2009-01-01T00:00:00\", \"AlterV05Kurz\": \"55-59\", \"sum_WBev\": 19734}, {\"StichtagDatJahr\": \"2009-01-01T00:00:00\", \"AlterV05Kurz\": \"5-9\", \"sum_WBev\": 14141}, {\"StichtagDatJahr\": \"2009-01-01T00:00:00\", \"AlterV05Kurz\": \"70-74\", \"sum_WBev\": 12880}, {\"StichtagDatJahr\": \"2009-01-01T00:00:00\", \"AlterV05Kurz\": \"40-44\", \"sum_WBev\": 31122}, {\"StichtagDatJahr\": \"2009-01-01T00:00:00\", \"AlterV05Kurz\": \"10-14\", \"sum_WBev\": 13207}, {\"StichtagDatJahr\": \"2009-01-01T00:00:00\", \"AlterV05Kurz\": \"15-19\", \"sum_WBev\": 14194}, {\"StichtagDatJahr\": \"2009-01-01T00:00:00\", \"AlterV05Kurz\": \"20-24\", \"sum_WBev\": 25304}, {\"StichtagDatJahr\": \"2009-01-01T00:00:00\", \"AlterV05Kurz\": \"0-4\", \"sum_WBev\": 18874}, {\"StichtagDatJahr\": \"2009-01-01T00:00:00\", \"AlterV05Kurz\": \"25-29\", \"sum_WBev\": 40604}, {\"StichtagDatJahr\": \"2009-01-01T00:00:00\", \"AlterV05Kurz\": \"30-34\", \"sum_WBev\": 41979}, {\"StichtagDatJahr\": \"2009-01-01T00:00:00\", \"AlterV05Kurz\": \"35-39\", \"sum_WBev\": 34898}, {\"StichtagDatJahr\": \"2009-01-01T00:00:00\", \"AlterV05Kurz\": \"45-49\", \"sum_WBev\": 27156}, {\"StichtagDatJahr\": \"2010-01-01T00:00:00\", \"AlterV05Kurz\": \"50-54\", \"sum_WBev\": 22860}, {\"StichtagDatJahr\": \"2010-01-01T00:00:00\", \"AlterV05Kurz\": \"90-94\", \"sum_WBev\": 2757}, {\"StichtagDatJahr\": \"2010-01-01T00:00:00\", \"AlterV05Kurz\": \"85-89\", \"sum_WBev\": 7198}, {\"StichtagDatJahr\": \"2010-01-01T00:00:00\", \"AlterV05Kurz\": \"80-84\", \"sum_WBev\": 10725}, {\"StichtagDatJahr\": \"2010-01-01T00:00:00\", \"AlterV05Kurz\": \"75-79\", \"sum_WBev\": 12092}, {\"StichtagDatJahr\": \"2010-01-01T00:00:00\", \"AlterV05Kurz\": \"70-74\", \"sum_WBev\": 12673}, {\"StichtagDatJahr\": \"2010-01-01T00:00:00\", \"AlterV05Kurz\": \"65-69\", \"sum_WBev\": 15345}, {\"StichtagDatJahr\": \"2010-01-01T00:00:00\", \"AlterV05Kurz\": \"60-64\", \"sum_WBev\": 17658}, {\"StichtagDatJahr\": \"2010-01-01T00:00:00\", \"AlterV05Kurz\": \"55-59\", \"sum_WBev\": 19699}, {\"StichtagDatJahr\": \"2010-01-01T00:00:00\", \"AlterV05Kurz\": \"95-99\", \"sum_WBev\": 765}, {\"StichtagDatJahr\": \"2010-01-01T00:00:00\", \"AlterV05Kurz\": \"5-9\", \"sum_WBev\": 14433}, {\"StichtagDatJahr\": \"2010-01-01T00:00:00\", \"AlterV05Kurz\": \"40-44\", \"sum_WBev\": 31176}, {\"StichtagDatJahr\": \"2010-01-01T00:00:00\", \"AlterV05Kurz\": \"35-39\", \"sum_WBev\": 35313}, {\"StichtagDatJahr\": \"2010-01-01T00:00:00\", \"AlterV05Kurz\": \"30-34\", \"sum_WBev\": 43070}, {\"StichtagDatJahr\": \"2010-01-01T00:00:00\", \"AlterV05Kurz\": \"25-29\", \"sum_WBev\": 39881}, {\"StichtagDatJahr\": \"2010-01-01T00:00:00\", \"AlterV05Kurz\": \"20-24\", \"sum_WBev\": 25471}, {\"StichtagDatJahr\": \"2010-01-01T00:00:00\", \"AlterV05Kurz\": \"15-19\", \"sum_WBev\": 14159}, {\"StichtagDatJahr\": \"2010-01-01T00:00:00\", \"AlterV05Kurz\": \"10-14\", \"sum_WBev\": 13215}, {\"StichtagDatJahr\": \"2010-01-01T00:00:00\", \"AlterV05Kurz\": \"0-4\", \"sum_WBev\": 19308}, {\"StichtagDatJahr\": \"2010-01-01T00:00:00\", \"AlterV05Kurz\": \"45-49\", \"sum_WBev\": 27571}, {\"StichtagDatJahr\": \"2011-01-01T00:00:00\", \"AlterV05Kurz\": \"60-64\", \"sum_WBev\": 17502}, {\"StichtagDatJahr\": \"2011-01-01T00:00:00\", \"AlterV05Kurz\": \"65-69\", \"sum_WBev\": 15517}, {\"StichtagDatJahr\": \"2011-01-01T00:00:00\", \"AlterV05Kurz\": \"70-74\", \"sum_WBev\": 12731}, {\"StichtagDatJahr\": \"2011-01-01T00:00:00\", \"AlterV05Kurz\": \"75-79\", \"sum_WBev\": 11858}, {\"StichtagDatJahr\": \"2011-01-01T00:00:00\", \"AlterV05Kurz\": \"55-59\", \"sum_WBev\": 20113}, {\"StichtagDatJahr\": \"2011-01-01T00:00:00\", \"AlterV05Kurz\": \"85-89\", \"sum_WBev\": 7263}, {\"StichtagDatJahr\": \"2011-01-01T00:00:00\", \"AlterV05Kurz\": \"90-94\", \"sum_WBev\": 2965}, {\"StichtagDatJahr\": \"2011-01-01T00:00:00\", \"AlterV05Kurz\": \"95-99\", \"sum_WBev\": 744}, {\"StichtagDatJahr\": \"2011-01-01T00:00:00\", \"AlterV05Kurz\": \"80-84\", \"sum_WBev\": 10503}, {\"StichtagDatJahr\": \"2011-01-01T00:00:00\", \"AlterV05Kurz\": \"50-54\", \"sum_WBev\": 23117}, {\"StichtagDatJahr\": \"2011-01-01T00:00:00\", \"AlterV05Kurz\": \"20-24\", \"sum_WBev\": 25891}, {\"StichtagDatJahr\": \"2011-01-01T00:00:00\", \"AlterV05Kurz\": \"45-49\", \"sum_WBev\": 28264}, {\"StichtagDatJahr\": \"2011-01-01T00:00:00\", \"AlterV05Kurz\": \"10-14\", \"sum_WBev\": 13075}, {\"StichtagDatJahr\": \"2011-01-01T00:00:00\", \"AlterV05Kurz\": \"15-19\", \"sum_WBev\": 14035}, {\"StichtagDatJahr\": \"2011-01-01T00:00:00\", \"AlterV05Kurz\": \"5-9\", \"sum_WBev\": 14895}, {\"StichtagDatJahr\": \"2011-01-01T00:00:00\", \"AlterV05Kurz\": \"0-4\", \"sum_WBev\": 19892}, {\"StichtagDatJahr\": \"2011-01-01T00:00:00\", \"AlterV05Kurz\": \"30-34\", \"sum_WBev\": 44032}, {\"StichtagDatJahr\": \"2011-01-01T00:00:00\", \"AlterV05Kurz\": \"35-39\", \"sum_WBev\": 35978}, {\"StichtagDatJahr\": \"2011-01-01T00:00:00\", \"AlterV05Kurz\": \"40-44\", \"sum_WBev\": 31337}, {\"StichtagDatJahr\": \"2011-01-01T00:00:00\", \"AlterV05Kurz\": \"25-29\", \"sum_WBev\": 40269}, {\"StichtagDatJahr\": \"2012-01-01T00:00:00\", \"AlterV05Kurz\": \"50-54\", \"sum_WBev\": 23741}, {\"StichtagDatJahr\": \"2012-01-01T00:00:00\", \"AlterV05Kurz\": \"90-94\", \"sum_WBev\": 3213}, {\"StichtagDatJahr\": \"2012-01-01T00:00:00\", \"AlterV05Kurz\": \"85-89\", \"sum_WBev\": 7184}, {\"StichtagDatJahr\": \"2012-01-01T00:00:00\", \"AlterV05Kurz\": \"80-84\", \"sum_WBev\": 10326}, {\"StichtagDatJahr\": \"2012-01-01T00:00:00\", \"AlterV05Kurz\": \"75-79\", \"sum_WBev\": 11663}, {\"StichtagDatJahr\": \"2012-01-01T00:00:00\", \"AlterV05Kurz\": \"70-74\", \"sum_WBev\": 12951}, {\"StichtagDatJahr\": \"2012-01-01T00:00:00\", \"AlterV05Kurz\": \"65-69\", \"sum_WBev\": 15540}, {\"StichtagDatJahr\": \"2012-01-01T00:00:00\", \"AlterV05Kurz\": \"60-64\", \"sum_WBev\": 17502}, {\"StichtagDatJahr\": \"2012-01-01T00:00:00\", \"AlterV05Kurz\": \"55-59\", \"sum_WBev\": 20074}, {\"StichtagDatJahr\": \"2012-01-01T00:00:00\", \"AlterV05Kurz\": \"5-9\", \"sum_WBev\": 15363}, {\"StichtagDatJahr\": \"2012-01-01T00:00:00\", \"AlterV05Kurz\": \"95-99\", \"sum_WBev\": 735}, {\"StichtagDatJahr\": \"2012-01-01T00:00:00\", \"AlterV05Kurz\": \"40-44\", \"sum_WBev\": 31187}, {\"StichtagDatJahr\": \"2012-01-01T00:00:00\", \"AlterV05Kurz\": \"0-4\", \"sum_WBev\": 20358}, {\"StichtagDatJahr\": \"2012-01-01T00:00:00\", \"AlterV05Kurz\": \"10-14\", \"sum_WBev\": 13244}, {\"StichtagDatJahr\": \"2012-01-01T00:00:00\", \"AlterV05Kurz\": \"15-19\", \"sum_WBev\": 13792}, {\"StichtagDatJahr\": \"2012-01-01T00:00:00\", \"AlterV05Kurz\": \"45-49\", \"sum_WBev\": 28791}, {\"StichtagDatJahr\": \"2012-01-01T00:00:00\", \"AlterV05Kurz\": \"25-29\", \"sum_WBev\": 40385}, {\"StichtagDatJahr\": \"2012-01-01T00:00:00\", \"AlterV05Kurz\": \"30-34\", \"sum_WBev\": 44689}, {\"StichtagDatJahr\": \"2012-01-01T00:00:00\", \"AlterV05Kurz\": \"35-39\", \"sum_WBev\": 37052}, {\"StichtagDatJahr\": \"2012-01-01T00:00:00\", \"AlterV05Kurz\": \"20-24\", \"sum_WBev\": 26130}, {\"StichtagDatJahr\": \"2013-01-01T00:00:00\", \"AlterV05Kurz\": \"50-54\", \"sum_WBev\": 24487}, {\"StichtagDatJahr\": \"2013-01-01T00:00:00\", \"AlterV05Kurz\": \"90-94\", \"sum_WBev\": 3339}, {\"StichtagDatJahr\": \"2013-01-01T00:00:00\", \"AlterV05Kurz\": \"85-89\", \"sum_WBev\": 7140}, {\"StichtagDatJahr\": \"2013-01-01T00:00:00\", \"AlterV05Kurz\": \"80-84\", \"sum_WBev\": 10120}, {\"StichtagDatJahr\": \"2013-01-01T00:00:00\", \"AlterV05Kurz\": \"75-79\", \"sum_WBev\": 11434}, {\"StichtagDatJahr\": \"2013-01-01T00:00:00\", \"AlterV05Kurz\": \"70-74\", \"sum_WBev\": 13166}, {\"StichtagDatJahr\": \"2013-01-01T00:00:00\", \"AlterV05Kurz\": \"65-69\", \"sum_WBev\": 15587}, {\"StichtagDatJahr\": \"2013-01-01T00:00:00\", \"AlterV05Kurz\": \"60-64\", \"sum_WBev\": 17625}, {\"StichtagDatJahr\": \"2013-01-01T00:00:00\", \"AlterV05Kurz\": \"55-59\", \"sum_WBev\": 20347}, {\"StichtagDatJahr\": \"2013-01-01T00:00:00\", \"AlterV05Kurz\": \"95-99\", \"sum_WBev\": 714}, {\"StichtagDatJahr\": \"2013-01-01T00:00:00\", \"AlterV05Kurz\": \"5-9\", \"sum_WBev\": 15886}, {\"StichtagDatJahr\": \"2013-01-01T00:00:00\", \"AlterV05Kurz\": \"40-44\", \"sum_WBev\": 31451}, {\"StichtagDatJahr\": \"2013-01-01T00:00:00\", \"AlterV05Kurz\": \"35-39\", \"sum_WBev\": 37833}, {\"StichtagDatJahr\": \"2013-01-01T00:00:00\", \"AlterV05Kurz\": \"30-34\", \"sum_WBev\": 45057}, {\"StichtagDatJahr\": \"2013-01-01T00:00:00\", \"AlterV05Kurz\": \"25-29\", \"sum_WBev\": 41224}, {\"StichtagDatJahr\": \"2013-01-01T00:00:00\", \"AlterV05Kurz\": \"20-24\", \"sum_WBev\": 25838}, {\"StichtagDatJahr\": \"2013-01-01T00:00:00\", \"AlterV05Kurz\": \"15-19\", \"sum_WBev\": 13809}, {\"StichtagDatJahr\": \"2013-01-01T00:00:00\", \"AlterV05Kurz\": \"10-14\", \"sum_WBev\": 13416}, {\"StichtagDatJahr\": \"2013-01-01T00:00:00\", \"AlterV05Kurz\": \"0-4\", \"sum_WBev\": 20828}, {\"StichtagDatJahr\": \"2013-01-01T00:00:00\", \"AlterV05Kurz\": \"45-49\", \"sum_WBev\": 29173}, {\"StichtagDatJahr\": \"2014-01-01T00:00:00\", \"AlterV05Kurz\": \"60-64\", \"sum_WBev\": 17742}, {\"StichtagDatJahr\": \"2014-01-01T00:00:00\", \"AlterV05Kurz\": \"65-69\", \"sum_WBev\": 15495}, {\"StichtagDatJahr\": \"2014-01-01T00:00:00\", \"AlterV05Kurz\": \"70-74\", \"sum_WBev\": 13468}, {\"StichtagDatJahr\": \"2014-01-01T00:00:00\", \"AlterV05Kurz\": \"75-79\", \"sum_WBev\": 11237}, {\"StichtagDatJahr\": \"2014-01-01T00:00:00\", \"AlterV05Kurz\": \"55-59\", \"sum_WBev\": 20722}, {\"StichtagDatJahr\": \"2014-01-01T00:00:00\", \"AlterV05Kurz\": \"85-89\", \"sum_WBev\": 7149}, {\"StichtagDatJahr\": \"2014-01-01T00:00:00\", \"AlterV05Kurz\": \"90-94\", \"sum_WBev\": 3369}, {\"StichtagDatJahr\": \"2014-01-01T00:00:00\", \"AlterV05Kurz\": \"95-99\", \"sum_WBev\": 717}, {\"StichtagDatJahr\": \"2014-01-01T00:00:00\", \"AlterV05Kurz\": \"80-84\", \"sum_WBev\": 9946}, {\"StichtagDatJahr\": \"2014-01-01T00:00:00\", \"AlterV05Kurz\": \"50-54\", \"sum_WBev\": 25466}, {\"StichtagDatJahr\": \"2014-01-01T00:00:00\", \"AlterV05Kurz\": \"5-9\", \"sum_WBev\": 16585}, {\"StichtagDatJahr\": \"2014-01-01T00:00:00\", \"AlterV05Kurz\": \"45-49\", \"sum_WBev\": 29226}, {\"StichtagDatJahr\": \"2014-01-01T00:00:00\", \"AlterV05Kurz\": \"10-14\", \"sum_WBev\": 13601}, {\"StichtagDatJahr\": \"2014-01-01T00:00:00\", \"AlterV05Kurz\": \"15-19\", \"sum_WBev\": 13908}, {\"StichtagDatJahr\": \"2014-01-01T00:00:00\", \"AlterV05Kurz\": \"20-24\", \"sum_WBev\": 26179}, {\"StichtagDatJahr\": \"2014-01-01T00:00:00\", \"AlterV05Kurz\": \"0-4\", \"sum_WBev\": 21451}, {\"StichtagDatJahr\": \"2014-01-01T00:00:00\", \"AlterV05Kurz\": \"30-34\", \"sum_WBev\": 45753}, {\"StichtagDatJahr\": \"2014-01-01T00:00:00\", \"AlterV05Kurz\": \"35-39\", \"sum_WBev\": 38789}, {\"StichtagDatJahr\": \"2014-01-01T00:00:00\", \"AlterV05Kurz\": \"40-44\", \"sum_WBev\": 31743}, {\"StichtagDatJahr\": \"2014-01-01T00:00:00\", \"AlterV05Kurz\": \"25-29\", \"sum_WBev\": 42133}, {\"StichtagDatJahr\": \"2015-01-01T00:00:00\", \"AlterV05Kurz\": \"50-54\", \"sum_WBev\": 26116}, {\"StichtagDatJahr\": \"2015-01-01T00:00:00\", \"AlterV05Kurz\": \"90-94\", \"sum_WBev\": 3324}, {\"StichtagDatJahr\": \"2015-01-01T00:00:00\", \"AlterV05Kurz\": \"85-89\", \"sum_WBev\": 7199}, {\"StichtagDatJahr\": \"2015-01-01T00:00:00\", \"AlterV05Kurz\": \"80-84\", \"sum_WBev\": 9682}, {\"StichtagDatJahr\": \"2015-01-01T00:00:00\", \"AlterV05Kurz\": \"75-79\", \"sum_WBev\": 11029}, {\"StichtagDatJahr\": \"2015-01-01T00:00:00\", \"AlterV05Kurz\": \"70-74\", \"sum_WBev\": 13868}, {\"StichtagDatJahr\": \"2015-01-01T00:00:00\", \"AlterV05Kurz\": \"65-69\", \"sum_WBev\": 15506}, {\"StichtagDatJahr\": \"2015-01-01T00:00:00\", \"AlterV05Kurz\": \"60-64\", \"sum_WBev\": 17832}, {\"StichtagDatJahr\": \"2015-01-01T00:00:00\", \"AlterV05Kurz\": \"55-59\", \"sum_WBev\": 21388}, {\"StichtagDatJahr\": \"2015-01-01T00:00:00\", \"AlterV05Kurz\": \"5-9\", \"sum_WBev\": 17166}, {\"StichtagDatJahr\": \"2015-01-01T00:00:00\", \"AlterV05Kurz\": \"95-99\", \"sum_WBev\": 755}, {\"StichtagDatJahr\": \"2015-01-01T00:00:00\", \"AlterV05Kurz\": \"40-44\", \"sum_WBev\": 32036}, {\"StichtagDatJahr\": \"2015-01-01T00:00:00\", \"AlterV05Kurz\": \"0-4\", \"sum_WBev\": 21939}, {\"StichtagDatJahr\": \"2015-01-01T00:00:00\", \"AlterV05Kurz\": \"10-14\", \"sum_WBev\": 13913}, {\"StichtagDatJahr\": \"2015-01-01T00:00:00\", \"AlterV05Kurz\": \"15-19\", \"sum_WBev\": 14007}, {\"StichtagDatJahr\": \"2015-01-01T00:00:00\", \"AlterV05Kurz\": \"45-49\", \"sum_WBev\": 29462}, {\"StichtagDatJahr\": \"2015-01-01T00:00:00\", \"AlterV05Kurz\": \"25-29\", \"sum_WBev\": 43011}, {\"StichtagDatJahr\": \"2015-01-01T00:00:00\", \"AlterV05Kurz\": \"30-34\", \"sum_WBev\": 46057}, {\"StichtagDatJahr\": \"2015-01-01T00:00:00\", \"AlterV05Kurz\": \"35-39\", \"sum_WBev\": 40055}, {\"StichtagDatJahr\": \"2015-01-01T00:00:00\", \"AlterV05Kurz\": \"20-24\", \"sum_WBev\": 25953}, {\"StichtagDatJahr\": \"2016-01-01T00:00:00\", \"AlterV05Kurz\": \"50-54\", \"sum_WBev\": 26786}, {\"StichtagDatJahr\": \"2016-01-01T00:00:00\", \"AlterV05Kurz\": \"90-94\", \"sum_WBev\": 3425}, {\"StichtagDatJahr\": \"2016-01-01T00:00:00\", \"AlterV05Kurz\": \"85-89\", \"sum_WBev\": 7124}, {\"StichtagDatJahr\": \"2016-01-01T00:00:00\", \"AlterV05Kurz\": \"80-84\", \"sum_WBev\": 9565}, {\"StichtagDatJahr\": \"2016-01-01T00:00:00\", \"AlterV05Kurz\": \"75-79\", \"sum_WBev\": 11079}, {\"StichtagDatJahr\": \"2016-01-01T00:00:00\", \"AlterV05Kurz\": \"70-74\", \"sum_WBev\": 13990}, {\"StichtagDatJahr\": \"2016-01-01T00:00:00\", \"AlterV05Kurz\": \"65-69\", \"sum_WBev\": 15381}, {\"StichtagDatJahr\": \"2016-01-01T00:00:00\", \"AlterV05Kurz\": \"60-64\", \"sum_WBev\": 18167}, {\"StichtagDatJahr\": \"2016-01-01T00:00:00\", \"AlterV05Kurz\": \"55-59\", \"sum_WBev\": 21712}, {\"StichtagDatJahr\": \"2016-01-01T00:00:00\", \"AlterV05Kurz\": \"95-99\", \"sum_WBev\": 852}, {\"StichtagDatJahr\": \"2016-01-01T00:00:00\", \"AlterV05Kurz\": \"5-9\", \"sum_WBev\": 17772}, {\"StichtagDatJahr\": \"2016-01-01T00:00:00\", \"AlterV05Kurz\": \"40-44\", \"sum_WBev\": 32740}, {\"StichtagDatJahr\": \"2016-01-01T00:00:00\", \"AlterV05Kurz\": \"35-39\", \"sum_WBev\": 40881}, {\"StichtagDatJahr\": \"2016-01-01T00:00:00\", \"AlterV05Kurz\": \"30-34\", \"sum_WBev\": 46186}, {\"StichtagDatJahr\": \"2016-01-01T00:00:00\", \"AlterV05Kurz\": \"25-29\", \"sum_WBev\": 43745}, {\"StichtagDatJahr\": \"2016-01-01T00:00:00\", \"AlterV05Kurz\": \"20-24\", \"sum_WBev\": 25776}, {\"StichtagDatJahr\": \"2016-01-01T00:00:00\", \"AlterV05Kurz\": \"15-19\", \"sum_WBev\": 14139}, {\"StichtagDatJahr\": \"2016-01-01T00:00:00\", \"AlterV05Kurz\": \"10-14\", \"sum_WBev\": 14437}, {\"StichtagDatJahr\": \"2016-01-01T00:00:00\", \"AlterV05Kurz\": \"0-4\", \"sum_WBev\": 22327}, {\"StichtagDatJahr\": \"2016-01-01T00:00:00\", \"AlterV05Kurz\": \"45-49\", \"sum_WBev\": 29500}, {\"StichtagDatJahr\": \"2017-01-01T00:00:00\", \"AlterV05Kurz\": \"55-59\", \"sum_WBev\": 22332}, {\"StichtagDatJahr\": \"2017-01-01T00:00:00\", \"AlterV05Kurz\": \"60-64\", \"sum_WBev\": 18159}, {\"StichtagDatJahr\": \"2017-01-01T00:00:00\", \"AlterV05Kurz\": \"65-69\", \"sum_WBev\": 15448}, {\"StichtagDatJahr\": \"2017-01-01T00:00:00\", \"AlterV05Kurz\": \"75-79\", \"sum_WBev\": 11283}, {\"StichtagDatJahr\": \"2017-01-01T00:00:00\", \"AlterV05Kurz\": \"50-54\", \"sum_WBev\": 27398}, {\"StichtagDatJahr\": \"2017-01-01T00:00:00\", \"AlterV05Kurz\": \"85-89\", \"sum_WBev\": 6930}, {\"StichtagDatJahr\": \"2017-01-01T00:00:00\", \"AlterV05Kurz\": \"90-94\", \"sum_WBev\": 3418}, {\"StichtagDatJahr\": \"2017-01-01T00:00:00\", \"AlterV05Kurz\": \"95-99\", \"sum_WBev\": 899}, {\"StichtagDatJahr\": \"2017-01-01T00:00:00\", \"AlterV05Kurz\": \"80-84\", \"sum_WBev\": 9459}, {\"StichtagDatJahr\": \"2017-01-01T00:00:00\", \"AlterV05Kurz\": \"5-9\", \"sum_WBev\": 18379}, {\"StichtagDatJahr\": \"2017-01-01T00:00:00\", \"AlterV05Kurz\": \"70-74\", \"sum_WBev\": 14065}, {\"StichtagDatJahr\": \"2017-01-01T00:00:00\", \"AlterV05Kurz\": \"40-44\", \"sum_WBev\": 33733}, {\"StichtagDatJahr\": \"2017-01-01T00:00:00\", \"AlterV05Kurz\": \"10-14\", \"sum_WBev\": 14988}, {\"StichtagDatJahr\": \"2017-01-01T00:00:00\", \"AlterV05Kurz\": \"15-19\", \"sum_WBev\": 14437}, {\"StichtagDatJahr\": \"2017-01-01T00:00:00\", \"AlterV05Kurz\": \"20-24\", \"sum_WBev\": 26041}, {\"StichtagDatJahr\": \"2017-01-01T00:00:00\", \"AlterV05Kurz\": \"0-4\", \"sum_WBev\": 23102}, {\"StichtagDatJahr\": \"2017-01-01T00:00:00\", \"AlterV05Kurz\": \"25-29\", \"sum_WBev\": 44268}, {\"StichtagDatJahr\": \"2017-01-01T00:00:00\", \"AlterV05Kurz\": \"30-34\", \"sum_WBev\": 47383}, {\"StichtagDatJahr\": \"2017-01-01T00:00:00\", \"AlterV05Kurz\": \"35-39\", \"sum_WBev\": 41932}, {\"StichtagDatJahr\": \"2017-01-01T00:00:00\", \"AlterV05Kurz\": \"45-49\", \"sum_WBev\": 29551}, {\"StichtagDatJahr\": \"2018-01-01T00:00:00\", \"AlterV05Kurz\": \"55-59\", \"sum_WBev\": 23026}, {\"StichtagDatJahr\": \"2018-01-01T00:00:00\", \"AlterV05Kurz\": \"95-99\", \"sum_WBev\": 929}, {\"StichtagDatJahr\": \"2018-01-01T00:00:00\", \"AlterV05Kurz\": \"90-94\", \"sum_WBev\": 3387}, {\"StichtagDatJahr\": \"2018-01-01T00:00:00\", \"AlterV05Kurz\": \"85-89\", \"sum_WBev\": 6857}, {\"StichtagDatJahr\": \"2018-01-01T00:00:00\", \"AlterV05Kurz\": \"80-84\", \"sum_WBev\": 9232}, {\"StichtagDatJahr\": \"2018-01-01T00:00:00\", \"AlterV05Kurz\": \"75-79\", \"sum_WBev\": 11498}, {\"StichtagDatJahr\": \"2018-01-01T00:00:00\", \"AlterV05Kurz\": \"70-74\", \"sum_WBev\": 13997}, {\"StichtagDatJahr\": \"2018-01-01T00:00:00\", \"AlterV05Kurz\": \"65-69\", \"sum_WBev\": 15472}, {\"StichtagDatJahr\": \"2018-01-01T00:00:00\", \"AlterV05Kurz\": \"60-64\", \"sum_WBev\": 18399}, {\"StichtagDatJahr\": \"2018-01-01T00:00:00\", \"AlterV05Kurz\": \"50-54\", \"sum_WBev\": 27744}, {\"StichtagDatJahr\": \"2018-01-01T00:00:00\", \"AlterV05Kurz\": \"5-9\", \"sum_WBev\": 19011}, {\"StichtagDatJahr\": \"2018-01-01T00:00:00\", \"AlterV05Kurz\": \"45-49\", \"sum_WBev\": 29505}, {\"StichtagDatJahr\": \"2018-01-01T00:00:00\", \"AlterV05Kurz\": \"10-14\", \"sum_WBev\": 15579}, {\"StichtagDatJahr\": \"2018-01-01T00:00:00\", \"AlterV05Kurz\": \"15-19\", \"sum_WBev\": 14620}, {\"StichtagDatJahr\": \"2018-01-01T00:00:00\", \"AlterV05Kurz\": \"20-24\", \"sum_WBev\": 26294}, {\"StichtagDatJahr\": \"2018-01-01T00:00:00\", \"AlterV05Kurz\": \"0-4\", \"sum_WBev\": 23369}, {\"StichtagDatJahr\": \"2018-01-01T00:00:00\", \"AlterV05Kurz\": \"30-34\", \"sum_WBev\": 48548}, {\"StichtagDatJahr\": \"2018-01-01T00:00:00\", \"AlterV05Kurz\": \"35-39\", \"sum_WBev\": 42349}, {\"StichtagDatJahr\": \"2018-01-01T00:00:00\", \"AlterV05Kurz\": \"40-44\", \"sum_WBev\": 34564}, {\"StichtagDatJahr\": \"2018-01-01T00:00:00\", \"AlterV05Kurz\": \"25-29\", \"sum_WBev\": 44264}, {\"StichtagDatJahr\": \"2019-01-01T00:00:00\", \"AlterV05Kurz\": \"55-59\", \"sum_WBev\": 23751}, {\"StichtagDatJahr\": \"2019-01-01T00:00:00\", \"AlterV05Kurz\": \"90-94\", \"sum_WBev\": 3459}, {\"StichtagDatJahr\": \"2019-01-01T00:00:00\", \"AlterV05Kurz\": \"85-89\", \"sum_WBev\": 6744}, {\"StichtagDatJahr\": \"2019-01-01T00:00:00\", \"AlterV05Kurz\": \"80-84\", \"sum_WBev\": 9111}, {\"StichtagDatJahr\": \"2019-01-01T00:00:00\", \"AlterV05Kurz\": \"75-79\", \"sum_WBev\": 11794}, {\"StichtagDatJahr\": \"2019-01-01T00:00:00\", \"AlterV05Kurz\": \"70-74\", \"sum_WBev\": 13873}, {\"StichtagDatJahr\": \"2019-01-01T00:00:00\", \"AlterV05Kurz\": \"95-99\", \"sum_WBev\": 970}, {\"StichtagDatJahr\": \"2019-01-01T00:00:00\", \"AlterV05Kurz\": \"65-69\", \"sum_WBev\": 15570}, {\"StichtagDatJahr\": \"2019-01-01T00:00:00\", \"AlterV05Kurz\": \"60-64\", \"sum_WBev\": 18673}, {\"StichtagDatJahr\": \"2019-01-01T00:00:00\", \"AlterV05Kurz\": \"50-54\", \"sum_WBev\": 27796}, {\"StichtagDatJahr\": \"2019-01-01T00:00:00\", \"AlterV05Kurz\": \"25-29\", \"sum_WBev\": 44156}, {\"StichtagDatJahr\": \"2019-01-01T00:00:00\", \"AlterV05Kurz\": \"45-49\", \"sum_WBev\": 29665}, {\"StichtagDatJahr\": \"2019-01-01T00:00:00\", \"AlterV05Kurz\": \"40-44\", \"sum_WBev\": 35317}, {\"StichtagDatJahr\": \"2019-01-01T00:00:00\", \"AlterV05Kurz\": \"35-39\", \"sum_WBev\": 42811}, {\"StichtagDatJahr\": \"2019-01-01T00:00:00\", \"AlterV05Kurz\": \"30-34\", \"sum_WBev\": 49445}, {\"StichtagDatJahr\": \"2019-01-01T00:00:00\", \"AlterV05Kurz\": \"20-24\", \"sum_WBev\": 26901}, {\"StichtagDatJahr\": \"2019-01-01T00:00:00\", \"AlterV05Kurz\": \"15-19\", \"sum_WBev\": 14840}, {\"StichtagDatJahr\": \"2019-01-01T00:00:00\", \"AlterV05Kurz\": \"10-14\", \"sum_WBev\": 16295}, {\"StichtagDatJahr\": \"2019-01-01T00:00:00\", \"AlterV05Kurz\": \"0-4\", \"sum_WBev\": 23221}, {\"StichtagDatJahr\": \"2019-01-01T00:00:00\", \"AlterV05Kurz\": \"5-9\", \"sum_WBev\": 19514}, {\"StichtagDatJahr\": \"2020-01-01T00:00:00\", \"AlterV05Kurz\": \"55-59\", \"sum_WBev\": 24242}, {\"StichtagDatJahr\": \"2020-01-01T00:00:00\", \"AlterV05Kurz\": \"60-64\", \"sum_WBev\": 19063}, {\"StichtagDatJahr\": \"2020-01-01T00:00:00\", \"AlterV05Kurz\": \"65-69\", \"sum_WBev\": 15494}, {\"StichtagDatJahr\": \"2020-01-01T00:00:00\", \"AlterV05Kurz\": \"85-89\", \"sum_WBev\": 6581}, {\"StichtagDatJahr\": \"2020-01-01T00:00:00\", \"AlterV05Kurz\": \"75-79\", \"sum_WBev\": 12129}, {\"StichtagDatJahr\": \"2020-01-01T00:00:00\", \"AlterV05Kurz\": \"80-84\", \"sum_WBev\": 8895}, {\"StichtagDatJahr\": \"2020-01-01T00:00:00\", \"AlterV05Kurz\": \"50-54\", \"sum_WBev\": 27736}, {\"StichtagDatJahr\": \"2020-01-01T00:00:00\", \"AlterV05Kurz\": \"70-74\", \"sum_WBev\": 13795}, {\"StichtagDatJahr\": \"2020-01-01T00:00:00\", \"AlterV05Kurz\": \"5-9\", \"sum_WBev\": 19971}, {\"StichtagDatJahr\": \"2020-01-01T00:00:00\", \"AlterV05Kurz\": \"25-29\", \"sum_WBev\": 43280}, {\"StichtagDatJahr\": \"2020-01-01T00:00:00\", \"AlterV05Kurz\": \"40-44\", \"sum_WBev\": 36139}, {\"StichtagDatJahr\": \"2020-01-01T00:00:00\", \"AlterV05Kurz\": \"35-39\", \"sum_WBev\": 42528}, {\"StichtagDatJahr\": \"2020-01-01T00:00:00\", \"AlterV05Kurz\": \"30-34\", \"sum_WBev\": 49375}, {\"StichtagDatJahr\": \"2020-01-01T00:00:00\", \"AlterV05Kurz\": \"20-24\", \"sum_WBev\": 26428}, {\"StichtagDatJahr\": \"2020-01-01T00:00:00\", \"AlterV05Kurz\": \"15-19\", \"sum_WBev\": 14990}, {\"StichtagDatJahr\": \"2020-01-01T00:00:00\", \"AlterV05Kurz\": \"10-14\", \"sum_WBev\": 16714}, {\"StichtagDatJahr\": \"2020-01-01T00:00:00\", \"AlterV05Kurz\": \"0-4\", \"sum_WBev\": 22895}, {\"StichtagDatJahr\": \"2020-01-01T00:00:00\", \"AlterV05Kurz\": \"90-94\", \"sum_WBev\": 3443}, {\"StichtagDatJahr\": \"2020-01-01T00:00:00\", \"AlterV05Kurz\": \"45-49\", \"sum_WBev\": 29987}, {\"StichtagDatJahr\": \"2020-01-01T00:00:00\", \"AlterV05Kurz\": \"95-99\", \"sum_WBev\": 935}]}}, {\"mode\": \"vega-lite\"});\n",
       "</script>"
      ],
      "text/plain": [
       "alt.LayerChart(...)"
      ]
     },
     "execution_count": 55,
     "metadata": {},
     "output_type": "execute_result"
    }
   ],
   "source": [
    "highlight = alt.selection(type='single', on='mouseover',\n",
    "                          fields=['AlterV05Kurz'], nearest=True)\n",
    "#x='date:StichtagDatJahr',\n",
    "base = alt.Chart(myAgg.reset_index().query('sum_WBev>300'), title=\"Title\").encode(\n",
    "    x=alt.X('StichtagDatJahr', axis=alt.Axis(title='Jahr'))# , axis=alt.Axis(format='%', title='percentage')\n",
    "    , y=alt.X('sum_WBev', axis=alt.Axis(title='Anz. Personen'))\n",
    "    , color=alt.Color('AlterV05Kurz', legend=alt.Legend(title=\"Altersgruppen\", orient=\"right\"))  \n",
    "    ,tooltip=['StichtagDatJahr', 'AlterV05Kurz','sum_WBev']    \n",
    ")\n",
    "points = base.mark_circle().encode(\n",
    "    opacity=alt.value(0.75)\n",
    ").add_selection(\n",
    "    highlight\n",
    ").properties(\n",
    "    width=750 , height=350\n",
    ")\n",
    "lines = base.mark_line().encode(\n",
    "    size=alt.condition(~highlight, alt.value(0.5), alt.value(4))\n",
    ").interactive()\n",
    "\n",
    "lines + points"
   ]
  },
  {
   "cell_type": "markdown",
   "metadata": {},
   "source": [
    "#### Entwicklung nach Herkunft"
   ]
  },
  {
   "cell_type": "code",
   "execution_count": 58,
   "metadata": {},
   "outputs": [
    {
     "data": {
      "text/html": [
       "<div>\n",
       "<style scoped>\n",
       "    .dataframe tbody tr th:only-of-type {\n",
       "        vertical-align: middle;\n",
       "    }\n",
       "\n",
       "    .dataframe tbody tr th {\n",
       "        vertical-align: top;\n",
       "    }\n",
       "\n",
       "    .dataframe thead th {\n",
       "        text-align: right;\n",
       "    }\n",
       "</style>\n",
       "<table border=\"1\" class=\"dataframe\">\n",
       "  <thead>\n",
       "    <tr style=\"text-align: right;\">\n",
       "      <th></th>\n",
       "      <th>StichtagDatJahr</th>\n",
       "      <th>HerkunftLang</th>\n",
       "      <th>sum_WBev</th>\n",
       "    </tr>\n",
       "  </thead>\n",
       "  <tbody>\n",
       "    <tr>\n",
       "      <th>0</th>\n",
       "      <td>1993-01-01</td>\n",
       "      <td>Ausländer/in</td>\n",
       "      <td>96857</td>\n",
       "    </tr>\n",
       "    <tr>\n",
       "      <th>1</th>\n",
       "      <td>1993-01-01</td>\n",
       "      <td>Schweizer/in</td>\n",
       "      <td>264041</td>\n",
       "    </tr>\n",
       "    <tr>\n",
       "      <th>2</th>\n",
       "      <td>1994-01-01</td>\n",
       "      <td>Ausländer/in</td>\n",
       "      <td>99298</td>\n",
       "    </tr>\n",
       "  </tbody>\n",
       "</table>\n",
       "</div>"
      ],
      "text/plain": [
       "  StichtagDatJahr  HerkunftLang  sum_WBev\n",
       "0      1993-01-01  Ausländer/in     96857\n",
       "1      1993-01-01  Schweizer/in    264041\n",
       "2      1994-01-01  Ausländer/in     99298"
      ]
     },
     "execution_count": 58,
     "metadata": {},
     "output_type": "execute_result"
    }
   ],
   "source": [
    "#myAgg = data2betested.loc[\"2008-11-30\":\"2021-10-31\"]\n",
    "myAgg = data2betested.loc[\"1993\":\"2020\"]\\\n",
    "    .groupby(['StichtagDatJahr', 'HerkunftLang']) \\\n",
    "    .agg(sum_WBev=('AnzBestWir', 'sum')) \\\n",
    "    .sort_values('StichtagDatJahr', ascending=True) \n",
    "\n",
    "myAgg.reset_index().head(3)"
   ]
  },
  {
   "cell_type": "code",
   "execution_count": 59,
   "metadata": {},
   "outputs": [
    {
     "data": {
      "text/html": [
       "\n",
       "<div id=\"altair-viz-95630d9a303f438dba20476380ab4a69\"></div>\n",
       "<script type=\"text/javascript\">\n",
       "  (function(spec, embedOpt){\n",
       "    let outputDiv = document.currentScript.previousElementSibling;\n",
       "    if (outputDiv.id !== \"altair-viz-95630d9a303f438dba20476380ab4a69\") {\n",
       "      outputDiv = document.getElementById(\"altair-viz-95630d9a303f438dba20476380ab4a69\");\n",
       "    }\n",
       "    const paths = {\n",
       "      \"vega\": \"https://cdn.jsdelivr.net/npm//vega@5?noext\",\n",
       "      \"vega-lib\": \"https://cdn.jsdelivr.net/npm//vega-lib?noext\",\n",
       "      \"vega-lite\": \"https://cdn.jsdelivr.net/npm//vega-lite@4.8.1?noext\",\n",
       "      \"vega-embed\": \"https://cdn.jsdelivr.net/npm//vega-embed@6?noext\",\n",
       "    };\n",
       "\n",
       "    function loadScript(lib) {\n",
       "      return new Promise(function(resolve, reject) {\n",
       "        var s = document.createElement('script');\n",
       "        s.src = paths[lib];\n",
       "        s.async = true;\n",
       "        s.onload = () => resolve(paths[lib]);\n",
       "        s.onerror = () => reject(`Error loading script: ${paths[lib]}`);\n",
       "        document.getElementsByTagName(\"head\")[0].appendChild(s);\n",
       "      });\n",
       "    }\n",
       "\n",
       "    function showError(err) {\n",
       "      outputDiv.innerHTML = `<div class=\"error\" style=\"color:red;\">${err}</div>`;\n",
       "      throw err;\n",
       "    }\n",
       "\n",
       "    function displayChart(vegaEmbed) {\n",
       "      vegaEmbed(outputDiv, spec, embedOpt)\n",
       "        .catch(err => showError(`Javascript Error: ${err.message}<br>This usually means there's a typo in your chart specification. See the javascript console for the full traceback.`));\n",
       "    }\n",
       "\n",
       "    if(typeof define === \"function\" && define.amd) {\n",
       "      requirejs.config({paths});\n",
       "      require([\"vega-embed\"], displayChart, err => showError(`Error loading script: ${err.message}`));\n",
       "    } else if (typeof vegaEmbed === \"function\") {\n",
       "      displayChart(vegaEmbed);\n",
       "    } else {\n",
       "      loadScript(\"vega\")\n",
       "        .then(() => loadScript(\"vega-lite\"))\n",
       "        .then(() => loadScript(\"vega-embed\"))\n",
       "        .catch(showError)\n",
       "        .then(() => displayChart(vegaEmbed));\n",
       "    }\n",
       "  })({\"config\": {\"view\": {\"continuousWidth\": 400, \"continuousHeight\": 300}}, \"layer\": [{\"mark\": \"line\", \"encoding\": {\"color\": {\"type\": \"nominal\", \"field\": \"HerkunftLang\", \"legend\": {\"orient\": \"right\", \"title\": \"Herkunft\"}}, \"size\": {\"condition\": {\"value\": 0.5, \"selection\": {\"not\": \"selector026\"}}, \"value\": 4}, \"tooltip\": [{\"type\": \"temporal\", \"field\": \"StichtagDatJahr\"}, {\"type\": \"nominal\", \"field\": \"HerkunftLang\"}, {\"type\": \"quantitative\", \"field\": \"sum_WBev\"}], \"x\": {\"type\": \"temporal\", \"axis\": {\"title\": \"Jahr\"}, \"field\": \"StichtagDatJahr\"}, \"y\": {\"type\": \"quantitative\", \"axis\": {\"title\": \"Anz. Personen\"}, \"field\": \"sum_WBev\"}}, \"selection\": {\"selector027\": {\"type\": \"interval\", \"bind\": \"scales\", \"encodings\": [\"x\", \"y\"]}}, \"title\": \"Title\"}, {\"mark\": \"circle\", \"encoding\": {\"color\": {\"type\": \"nominal\", \"field\": \"HerkunftLang\", \"legend\": {\"orient\": \"right\", \"title\": \"Herkunft\"}}, \"opacity\": {\"value\": 0.75}, \"tooltip\": [{\"type\": \"temporal\", \"field\": \"StichtagDatJahr\"}, {\"type\": \"nominal\", \"field\": \"HerkunftLang\"}, {\"type\": \"quantitative\", \"field\": \"sum_WBev\"}], \"x\": {\"type\": \"temporal\", \"axis\": {\"title\": \"Jahr\"}, \"field\": \"StichtagDatJahr\"}, \"y\": {\"type\": \"quantitative\", \"axis\": {\"title\": \"Anz. Personen\"}, \"field\": \"sum_WBev\"}}, \"height\": 350, \"selection\": {\"selector026\": {\"type\": \"single\", \"on\": \"mouseover\", \"fields\": [\"HerkunftLang\"], \"nearest\": true}}, \"title\": \"Title\", \"width\": 750}], \"data\": {\"name\": \"data-045e4d4d343c3938b2e910520a69c37e\"}, \"$schema\": \"https://vega.github.io/schema/vega-lite/v4.8.1.json\", \"datasets\": {\"data-045e4d4d343c3938b2e910520a69c37e\": [{\"StichtagDatJahr\": \"1993-01-01T00:00:00\", \"HerkunftLang\": \"Ausl\\u00e4nder/in\", \"sum_WBev\": 96857}, {\"StichtagDatJahr\": \"1993-01-01T00:00:00\", \"HerkunftLang\": \"Schweizer/in\", \"sum_WBev\": 264041}, {\"StichtagDatJahr\": \"1994-01-01T00:00:00\", \"HerkunftLang\": \"Ausl\\u00e4nder/in\", \"sum_WBev\": 99298}, {\"StichtagDatJahr\": \"1994-01-01T00:00:00\", \"HerkunftLang\": \"Schweizer/in\", \"sum_WBev\": 261550}, {\"StichtagDatJahr\": \"1995-01-01T00:00:00\", \"HerkunftLang\": \"Ausl\\u00e4nder/in\", \"sum_WBev\": 101465}, {\"StichtagDatJahr\": \"1995-01-01T00:00:00\", \"HerkunftLang\": \"Schweizer/in\", \"sum_WBev\": 259361}, {\"StichtagDatJahr\": \"1996-01-01T00:00:00\", \"HerkunftLang\": \"Ausl\\u00e4nder/in\", \"sum_WBev\": 102048}, {\"StichtagDatJahr\": \"1996-01-01T00:00:00\", \"HerkunftLang\": \"Schweizer/in\", \"sum_WBev\": 257600}, {\"StichtagDatJahr\": \"1997-01-01T00:00:00\", \"HerkunftLang\": \"Ausl\\u00e4nder/in\", \"sum_WBev\": 102555}, {\"StichtagDatJahr\": \"1997-01-01T00:00:00\", \"HerkunftLang\": \"Schweizer/in\", \"sum_WBev\": 256039}, {\"StichtagDatJahr\": \"1998-01-01T00:00:00\", \"HerkunftLang\": \"Ausl\\u00e4nder/in\", \"sum_WBev\": 103550}, {\"StichtagDatJahr\": \"1998-01-01T00:00:00\", \"HerkunftLang\": \"Schweizer/in\", \"sum_WBev\": 255523}, {\"StichtagDatJahr\": \"1999-01-01T00:00:00\", \"HerkunftLang\": \"Schweizer/in\", \"sum_WBev\": 255185}, {\"StichtagDatJahr\": \"1999-01-01T00:00:00\", \"HerkunftLang\": \"Ausl\\u00e4nder/in\", \"sum_WBev\": 105519}, {\"StichtagDatJahr\": \"2000-01-01T00:00:00\", \"HerkunftLang\": \"Ausl\\u00e4nder/in\", \"sum_WBev\": 105404}, {\"StichtagDatJahr\": \"2000-01-01T00:00:00\", \"HerkunftLang\": \"Schweizer/in\", \"sum_WBev\": 255576}, {\"StichtagDatJahr\": \"2001-01-01T00:00:00\", \"HerkunftLang\": \"Ausl\\u00e4nder/in\", \"sum_WBev\": 106089}, {\"StichtagDatJahr\": \"2001-01-01T00:00:00\", \"HerkunftLang\": \"Schweizer/in\", \"sum_WBev\": 255953}, {\"StichtagDatJahr\": \"2002-01-01T00:00:00\", \"HerkunftLang\": \"Ausl\\u00e4nder/in\", \"sum_WBev\": 108801}, {\"StichtagDatJahr\": \"2002-01-01T00:00:00\", \"HerkunftLang\": \"Schweizer/in\", \"sum_WBev\": 255757}, {\"StichtagDatJahr\": \"2003-01-01T00:00:00\", \"HerkunftLang\": \"Ausl\\u00e4nder/in\", \"sum_WBev\": 108879}, {\"StichtagDatJahr\": \"2003-01-01T00:00:00\", \"HerkunftLang\": \"Schweizer/in\", \"sum_WBev\": 255649}, {\"StichtagDatJahr\": \"2004-01-01T00:00:00\", \"HerkunftLang\": \"Ausl\\u00e4nder/in\", \"sum_WBev\": 110142}, {\"StichtagDatJahr\": \"2004-01-01T00:00:00\", \"HerkunftLang\": \"Schweizer/in\", \"sum_WBev\": 254835}, {\"StichtagDatJahr\": \"2005-01-01T00:00:00\", \"HerkunftLang\": \"Ausl\\u00e4nder/in\", \"sum_WBev\": 110892}, {\"StichtagDatJahr\": \"2005-01-01T00:00:00\", \"HerkunftLang\": \"Schweizer/in\", \"sum_WBev\": 255917}, {\"StichtagDatJahr\": \"2006-01-01T00:00:00\", \"HerkunftLang\": \"Schweizer/in\", \"sum_WBev\": 259102}, {\"StichtagDatJahr\": \"2006-01-01T00:00:00\", \"HerkunftLang\": \"Ausl\\u00e4nder/in\", \"sum_WBev\": 110960}, {\"StichtagDatJahr\": \"2007-01-01T00:00:00\", \"HerkunftLang\": \"Ausl\\u00e4nder/in\", \"sum_WBev\": 115379}, {\"StichtagDatJahr\": \"2007-01-01T00:00:00\", \"HerkunftLang\": \"Schweizer/in\", \"sum_WBev\": 261436}, {\"StichtagDatJahr\": \"2008-01-01T00:00:00\", \"HerkunftLang\": \"Ausl\\u00e4nder/in\", \"sum_WBev\": 117904}, {\"StichtagDatJahr\": \"2008-01-01T00:00:00\", \"HerkunftLang\": \"Schweizer/in\", \"sum_WBev\": 262595}, {\"StichtagDatJahr\": \"2009-01-01T00:00:00\", \"HerkunftLang\": \"Ausl\\u00e4nder/in\", \"sum_WBev\": 117394}, {\"StichtagDatJahr\": \"2009-01-01T00:00:00\", \"HerkunftLang\": \"Schweizer/in\", \"sum_WBev\": 265512}, {\"StichtagDatJahr\": \"2010-01-01T00:00:00\", \"HerkunftLang\": \"Ausl\\u00e4nder/in\", \"sum_WBev\": 117451}, {\"StichtagDatJahr\": \"2010-01-01T00:00:00\", \"HerkunftLang\": \"Schweizer/in\", \"sum_WBev\": 268017}, {\"StichtagDatJahr\": \"2011-01-01T00:00:00\", \"HerkunftLang\": \"Ausl\\u00e4nder/in\", \"sum_WBev\": 121017}, {\"StichtagDatJahr\": \"2011-01-01T00:00:00\", \"HerkunftLang\": \"Schweizer/in\", \"sum_WBev\": 269065}, {\"StichtagDatJahr\": \"2012-01-01T00:00:00\", \"HerkunftLang\": \"Ausl\\u00e4nder/in\", \"sum_WBev\": 123157}, {\"StichtagDatJahr\": \"2012-01-01T00:00:00\", \"HerkunftLang\": \"Schweizer/in\", \"sum_WBev\": 270855}, {\"StichtagDatJahr\": \"2013-01-01T00:00:00\", \"HerkunftLang\": \"Schweizer/in\", \"sum_WBev\": 272705}, {\"StichtagDatJahr\": \"2013-01-01T00:00:00\", \"HerkunftLang\": \"Ausl\\u00e4nder/in\", \"sum_WBev\": 125870}, {\"StichtagDatJahr\": \"2014-01-01T00:00:00\", \"HerkunftLang\": \"Ausl\\u00e4nder/in\", \"sum_WBev\": 129134}, {\"StichtagDatJahr\": \"2014-01-01T00:00:00\", \"HerkunftLang\": \"Schweizer/in\", \"sum_WBev\": 275649}, {\"StichtagDatJahr\": \"2015-01-01T00:00:00\", \"HerkunftLang\": \"Ausl\\u00e4nder/in\", \"sum_WBev\": 131168}, {\"StichtagDatJahr\": \"2015-01-01T00:00:00\", \"HerkunftLang\": \"Schweizer/in\", \"sum_WBev\": 279236}, {\"StichtagDatJahr\": \"2016-01-01T00:00:00\", \"HerkunftLang\": \"Ausl\\u00e4nder/in\", \"sum_WBev\": 133473}, {\"StichtagDatJahr\": \"2016-01-01T00:00:00\", \"HerkunftLang\": \"Schweizer/in\", \"sum_WBev\": 282209}, {\"StichtagDatJahr\": \"2017-01-01T00:00:00\", \"HerkunftLang\": \"Ausl\\u00e4nder/in\", \"sum_WBev\": 137055}, {\"StichtagDatJahr\": \"2017-01-01T00:00:00\", \"HerkunftLang\": \"Schweizer/in\", \"sum_WBev\": 286255}, {\"StichtagDatJahr\": \"2018-01-01T00:00:00\", \"HerkunftLang\": \"Ausl\\u00e4nder/in\", \"sum_WBev\": 138388}, {\"StichtagDatJahr\": \"2018-01-01T00:00:00\", \"HerkunftLang\": \"Schweizer/in\", \"sum_WBev\": 290349}, {\"StichtagDatJahr\": \"2019-01-01T00:00:00\", \"HerkunftLang\": \"Ausl\\u00e4nder/in\", \"sum_WBev\": 139803}, {\"StichtagDatJahr\": \"2019-01-01T00:00:00\", \"HerkunftLang\": \"Schweizer/in\", \"sum_WBev\": 294205}, {\"StichtagDatJahr\": \"2020-01-01T00:00:00\", \"HerkunftLang\": \"Ausl\\u00e4nder/in\", \"sum_WBev\": 139403}, {\"StichtagDatJahr\": \"2020-01-01T00:00:00\", \"HerkunftLang\": \"Schweizer/in\", \"sum_WBev\": 295333}]}}, {\"mode\": \"vega-lite\"});\n",
       "</script>"
      ],
      "text/plain": [
       "alt.LayerChart(...)"
      ]
     },
     "execution_count": 59,
     "metadata": {},
     "output_type": "execute_result"
    }
   ],
   "source": [
    "highlight = alt.selection(type='single', on='mouseover',\n",
    "                          fields=['HerkunftLang'], nearest=True)\n",
    "#x='date:StichtagDatJahr',\n",
    "base = alt.Chart(myAgg.reset_index().query('sum_WBev>300'), title=\"Title\").encode(\n",
    "    x=alt.X('StichtagDatJahr', axis=alt.Axis(title='Jahr'))# , axis=alt.Axis(format='%', title='percentage')\n",
    "    , y=alt.X('sum_WBev', axis=alt.Axis(title='Anz. Personen'))\n",
    "    , color=alt.Color('HerkunftLang', legend=alt.Legend(title=\"Herkunft\", orient=\"right\"))  \n",
    "    ,tooltip=['StichtagDatJahr', 'HerkunftLang','sum_WBev']    \n",
    ")\n",
    "points = base.mark_circle().encode(\n",
    "    opacity=alt.value(0.75)\n",
    ").add_selection(\n",
    "    highlight\n",
    ").properties(\n",
    "    width=750 , height=350\n",
    ")\n",
    "lines = base.mark_line().encode(\n",
    "    size=alt.condition(~highlight, alt.value(0.5), alt.value(4))\n",
    ").interactive()\n",
    "\n",
    "lines + points"
   ]
  },
  {
   "cell_type": "markdown",
   "metadata": {},
   "source": [
    "### Daten in interaktiver Treemap zeigen\n",
    "Dazu gibt es eine sehr nützliche Webseite https://plotly.com/python/treemaps/\n",
    "Zu Farbskalen, siehe: https://plotly.com/python/builtin-colorscales/"
   ]
  },
  {
   "cell_type": "markdown",
   "metadata": {},
   "source": [
    "#### Aktueller Bestand der WBev nach Quartier, Herkunft und Geschlecht"
   ]
  },
  {
   "cell_type": "code",
   "execution_count": 68,
   "metadata": {},
   "outputs": [],
   "source": [
    "#data2betested.dtypes"
   ]
  },
  {
   "cell_type": "code",
   "execution_count": 88,
   "metadata": {},
   "outputs": [
    {
     "data": {
      "text/html": [
       "<div>\n",
       "<style scoped>\n",
       "    .dataframe tbody tr th:only-of-type {\n",
       "        vertical-align: middle;\n",
       "    }\n",
       "\n",
       "    .dataframe tbody tr th {\n",
       "        vertical-align: top;\n",
       "    }\n",
       "\n",
       "    .dataframe thead th {\n",
       "        text-align: right;\n",
       "    }\n",
       "</style>\n",
       "<table border=\"1\" class=\"dataframe\">\n",
       "  <thead>\n",
       "    <tr style=\"text-align: right;\">\n",
       "      <th></th>\n",
       "      <th>StichtagDatJahr</th>\n",
       "      <th>QuarLang</th>\n",
       "      <th>HerkunftLang</th>\n",
       "      <th>SexKurz</th>\n",
       "      <th>sum_WBev</th>\n",
       "    </tr>\n",
       "  </thead>\n",
       "  <tbody>\n",
       "    <tr>\n",
       "      <th>0</th>\n",
       "      <td>2020-01-01</td>\n",
       "      <td>Hochschulen</td>\n",
       "      <td>Ausländer/in</td>\n",
       "      <td>W</td>\n",
       "      <td>91</td>\n",
       "    </tr>\n",
       "    <tr>\n",
       "      <th>1</th>\n",
       "      <td>2020-01-01</td>\n",
       "      <td>Hochschulen</td>\n",
       "      <td>Ausländer/in</td>\n",
       "      <td>M</td>\n",
       "      <td>120</td>\n",
       "    </tr>\n",
       "    <tr>\n",
       "      <th>2</th>\n",
       "      <td>2020-01-01</td>\n",
       "      <td>City</td>\n",
       "      <td>Ausländer/in</td>\n",
       "      <td>W</td>\n",
       "      <td>124</td>\n",
       "    </tr>\n",
       "  </tbody>\n",
       "</table>\n",
       "</div>"
      ],
      "text/plain": [
       "  StichtagDatJahr     QuarLang  HerkunftLang SexKurz  sum_WBev\n",
       "0      2020-01-01  Hochschulen  Ausländer/in       W        91\n",
       "1      2020-01-01  Hochschulen  Ausländer/in       M       120\n",
       "2      2020-01-01         City  Ausländer/in       W       124"
      ]
     },
     "execution_count": 88,
     "metadata": {},
     "output_type": "execute_result"
    }
   ],
   "source": [
    "myTreemapAgg = data2betested.loc[\"2020\"]  \\\n",
    "    .groupby(['StichtagDatJahr', 'QuarLang', 'HerkunftLang', 'SexKurz']) \\\n",
    "    .agg(sum_WBev=('AnzBestWir', 'sum')) \\\n",
    "    .sort_values('sum_WBev', ascending=True) \n",
    "\n",
    "myTreemapAgg.reset_index().head(3)"
   ]
  },
  {
   "cell_type": "code",
   "execution_count": 89,
   "metadata": {},
   "outputs": [
    {
     "data": {
      "application/vnd.plotly.v1+json": {
       "config": {
        "plotlyServerURL": "https://plot.ly"
       },
       "data": [
        {
         "branchvalues": "total",
         "customdata": [
          [
           4600
          ],
          [
           3138
          ],
          [
           3283
          ],
          [
           6680
          ],
          [
           138
          ],
          [
           1853
          ],
          [
           1125
          ],
          [
           1304
          ],
          [
           1046
          ],
          [
           1756
          ],
          [
           2425
          ],
          [
           987
          ],
          [
           2401
          ],
          [
           120
          ],
          [
           1697
          ],
          [
           3347
          ],
          [
           2658
          ],
          [
           1038
          ],
          [
           153
          ],
          [
           1157
          ],
          [
           1681
          ],
          [
           4911
          ],
          [
           585
          ],
          [
           1250
          ],
          [
           2548
          ],
          [
           5531
          ],
          [
           1103
          ],
          [
           3682
          ],
          [
           3612
          ],
          [
           990
          ],
          [
           846
          ],
          [
           2368
          ],
          [
           1519
          ],
          [
           3016
          ],
          [
           8665
          ],
          [
           7882
          ],
          [
           5806
          ],
          [
           10757
          ],
          [
           304
          ],
          [
           2967
          ],
          [
           2294
          ],
          [
           2837
          ],
          [
           4315
          ],
          [
           3405
          ],
          [
           4015
          ],
          [
           2470
          ],
          [
           3965
          ],
          [
           216
          ],
          [
           3789
          ],
          [
           8689
          ],
          [
           4085
          ],
          [
           2012
          ],
          [
           358
          ],
          [
           1938
          ],
          [
           3607
          ],
          [
           7247
          ],
          [
           1230
          ],
          [
           3063
          ],
          [
           3007
          ],
          [
           7952
          ],
          [
           1491
          ],
          [
           7189
          ],
          [
           8457
          ],
          [
           1746
          ],
          [
           1533
          ],
          [
           5786
          ],
          [
           3669
          ],
          [
           6463
          ],
          [
           4073
          ],
          [
           2737
          ],
          [
           2774
          ],
          [
           5588
          ],
          [
           124
          ],
          [
           1698
          ],
          [
           886
          ],
          [
           1310
          ],
          [
           985
          ],
          [
           1245
          ],
          [
           2045
          ],
          [
           977
          ],
          [
           2134
          ],
          [
           91
          ],
          [
           1618
          ],
          [
           2809
          ],
          [
           1819
          ],
          [
           989
          ],
          [
           142
          ],
          [
           1099
          ],
          [
           1548
          ],
          [
           4080
          ],
          [
           436
          ],
          [
           1166
          ],
          [
           2219
          ],
          [
           4656
          ],
          [
           1134
          ],
          [
           3121
          ],
          [
           3198
          ],
          [
           892
          ],
          [
           697
          ],
          [
           2110
          ],
          [
           1530
          ],
          [
           2925
          ],
          [
           9246
          ],
          [
           8607
          ],
          [
           5901
          ],
          [
           11073
          ],
          [
           263
          ],
          [
           3137
          ],
          [
           1893
          ],
          [
           3234
          ],
          [
           4725
          ],
          [
           3018
          ],
          [
           4069
          ],
          [
           2962
          ],
          [
           4463
          ],
          [
           248
          ],
          [
           4200
          ],
          [
           9594
          ],
          [
           3348
          ],
          [
           2101
          ],
          [
           357
          ],
          [
           2220
          ],
          [
           3988
          ],
          [
           7310
          ],
          [
           1066
          ],
          [
           3320
          ],
          [
           3309
          ],
          [
           7917
          ],
          [
           1752
          ],
          [
           7929
          ],
          [
           9226
          ],
          [
           1934
          ],
          [
           1494
          ],
          [
           6341
          ],
          [
           4526
          ],
          [
           7353
          ],
          [
           4352.511126484492
          ],
          [
           2951.185191489362
          ],
          [
           3049.8869077100876
          ],
          [
           6182.600586892729
          ],
          [
           131.3740458015267
          ],
          [
           1778.8828499014362
          ],
          [
           1019.7021382396817
          ],
          [
           1307.0068859984697
          ],
          [
           1016.4160512063023
          ],
          [
           1544.0056647784072
          ],
          [
           2251.152125279642
          ],
          [
           982.0254582484725
          ],
          [
           2275.3598676957
          ],
          [
           107.49289099526067
          ],
          [
           1658.4413273001508
          ],
          [
           3101.5090968161144
          ],
          [
           2317.1152557516193
          ],
          [
           1014.0922545633941
          ],
          [
           147.70508474576272
          ],
          [
           1128.7455673758866
          ],
          [
           1617.2390833075256
          ],
          [
           4533.9029029029025
          ],
          [
           521.3721841332027
          ],
          [
           1209.4602649006622
          ],
          [
           2394.8531571218796
          ],
          [
           5131.078531461667
          ],
          [
           1118.7147966025927
          ],
          [
           3424.6310451271497
          ],
          [
           3417.584140969163
          ],
          [
           943.5515409139214
          ],
          [
           778.6941023979261
          ],
          [
           2246.432335864225
          ],
          [
           1524.519842571335
          ],
          [
           2971.1969365426694
          ],
          [
           8964.923287365305
          ],
          [
           8260.438656073746
          ],
          [
           5853.885453147689
          ],
          [
           10917.287127805772
          ],
          [
           284.98236331569666
          ],
          [
           3054.3673001310617
          ],
          [
           2112.7024122283256
          ],
          [
           3048.4804809751276
          ],
          [
           4529.297566371682
          ],
          [
           3223.1588042970575
          ],
          [
           4042.1803562592777
          ],
          [
           2738.281296023564
          ],
          [
           4228.713099193165
          ],
          [
           233.10344827586206
          ],
          [
           4005.0720991363123
          ],
          [
           9163.898539626976
          ],
          [
           3753.037669850666
          ],
          [
           2057.4629224410405
          ],
          [
           357.5006993006993
          ],
          [
           2088.5627705627708
          ],
          [
           3807.0563528637263
          ],
          [
           7278.636326166105
          ],
          [
           1153.857142857143
          ],
          [
           3196.673821087263
          ],
          [
           3165.2200759974667
          ],
          [
           7934.538597265108
          ],
          [
           1632.0027752081405
          ],
          [
           7577.11086122503
          ],
          [
           8858.221172877906
          ],
          [
           1844.8021739130436
          ],
          [
           1513.751238850347
          ],
          [
           6076.19996701575
          ],
          [
           4142.310799267846
          ],
          [
           6936.666039374638
          ],
          [
           7460.12902497743
          ],
          [
           6865.703183688071
          ],
          [
           4897.804661112362
          ],
          [
           9213.810839345417
          ],
          [
           236.43546441495778
          ],
          [
           2585.2585189021233
          ],
          [
           1758.0680864795095
          ],
          [
           2524.33402417962
          ],
          [
           3884.851503929184
          ],
          [
           2688.4454584040745
          ],
          [
           3404.4635972598376
          ],
          [
           2271.909410492158
          ],
          [
           3545.3483761474968
          ],
          [
           193.83851851851853
          ],
          [
           3316.901450813871
          ],
          [
           7636.828307213879
          ],
          [
           3213.270696893367
          ],
          [
           1713.014657980456
          ],
          [
           296.22376237623763
          ],
          [
           1750.9657000311818
          ],
          [
           3153.7932372505543
          ],
          [
           6230.653558688636
          ],
          [
           959.173047934881
          ],
          [
           2651.0313672008183
          ],
          [
           2833.8712442479473
          ],
          [
           6838.4821154436595
          ],
          [
           1422.4726277372263
          ],
          [
           6288.423292732996
          ],
          [
           7345.513942759156
          ],
          [
           1539.8482560230134
          ],
          [
           1265.5689277899344
          ],
          [
           5043.396627521831
          ],
          [
           3432.4526858769123
          ],
          [
           5744.235410234347
          ],
          [
           5203.466674027456
          ]
         ],
         "domain": {
          "x": [
           0,
           1
          ],
          "y": [
           0,
           1
          ]
         },
         "hovertemplate": "labels=%{label}<br>sum_WBev_sum=%{value}<br>parent=%{parent}<br>id=%{id}<br>sum_WBev=%{color}<extra></extra>",
         "ids": [
          "WBev nach Quartier, Herkunft und Geschlecht/Affoltern/Ausländer/in/M",
          "WBev nach Quartier, Herkunft und Geschlecht/Albisrieden/Ausländer/in/M",
          "WBev nach Quartier, Herkunft und Geschlecht/Alt-Wiedikon/Ausländer/in/M",
          "WBev nach Quartier, Herkunft und Geschlecht/Altstetten/Ausländer/in/M",
          "WBev nach Quartier, Herkunft und Geschlecht/City/Ausländer/in/M",
          "WBev nach Quartier, Herkunft und Geschlecht/Enge/Ausländer/in/M",
          "WBev nach Quartier, Herkunft und Geschlecht/Escher Wyss/Ausländer/in/M",
          "WBev nach Quartier, Herkunft und Geschlecht/Fluntern/Ausländer/in/M",
          "WBev nach Quartier, Herkunft und Geschlecht/Friesenberg/Ausländer/in/M",
          "WBev nach Quartier, Herkunft und Geschlecht/Gewerbeschule/Ausländer/in/M",
          "WBev nach Quartier, Herkunft und Geschlecht/Hard/Ausländer/in/M",
          "WBev nach Quartier, Herkunft und Geschlecht/Hirslanden/Ausländer/in/M",
          "WBev nach Quartier, Herkunft und Geschlecht/Hirzenbach/Ausländer/in/M",
          "WBev nach Quartier, Herkunft und Geschlecht/Hochschulen/Ausländer/in/M",
          "WBev nach Quartier, Herkunft und Geschlecht/Hottingen/Ausländer/in/M",
          "WBev nach Quartier, Herkunft und Geschlecht/Höngg/Ausländer/in/M",
          "WBev nach Quartier, Herkunft und Geschlecht/Langstrasse/Ausländer/in/M",
          "WBev nach Quartier, Herkunft und Geschlecht/Leimbach/Ausländer/in/M",
          "WBev nach Quartier, Herkunft und Geschlecht/Lindenhof/Ausländer/in/M",
          "WBev nach Quartier, Herkunft und Geschlecht/Mühlebach/Ausländer/in/M",
          "WBev nach Quartier, Herkunft und Geschlecht/Oberstrass/Ausländer/in/M",
          "WBev nach Quartier, Herkunft und Geschlecht/Oerlikon/Ausländer/in/M",
          "WBev nach Quartier, Herkunft und Geschlecht/Rathaus/Ausländer/in/M",
          "WBev nach Quartier, Herkunft und Geschlecht/Saatlen/Ausländer/in/M",
          "WBev nach Quartier, Herkunft und Geschlecht/Schwamendingen-Mitte/Ausländer/in/M",
          "WBev nach Quartier, Herkunft und Geschlecht/Seebach/Ausländer/in/M",
          "WBev nach Quartier, Herkunft und Geschlecht/Seefeld/Ausländer/in/M",
          "WBev nach Quartier, Herkunft und Geschlecht/Sihlfeld/Ausländer/in/M",
          "WBev nach Quartier, Herkunft und Geschlecht/Unterstrass/Ausländer/in/M",
          "WBev nach Quartier, Herkunft und Geschlecht/Weinegg/Ausländer/in/M",
          "WBev nach Quartier, Herkunft und Geschlecht/Werd/Ausländer/in/M",
          "WBev nach Quartier, Herkunft und Geschlecht/Wipkingen/Ausländer/in/M",
          "WBev nach Quartier, Herkunft und Geschlecht/Witikon/Ausländer/in/M",
          "WBev nach Quartier, Herkunft und Geschlecht/Wollishofen/Ausländer/in/M",
          "WBev nach Quartier, Herkunft und Geschlecht/Affoltern/Schweizer/in/M",
          "WBev nach Quartier, Herkunft und Geschlecht/Albisrieden/Schweizer/in/M",
          "WBev nach Quartier, Herkunft und Geschlecht/Alt-Wiedikon/Schweizer/in/M",
          "WBev nach Quartier, Herkunft und Geschlecht/Altstetten/Schweizer/in/M",
          "WBev nach Quartier, Herkunft und Geschlecht/City/Schweizer/in/M",
          "WBev nach Quartier, Herkunft und Geschlecht/Enge/Schweizer/in/M",
          "WBev nach Quartier, Herkunft und Geschlecht/Escher Wyss/Schweizer/in/M",
          "WBev nach Quartier, Herkunft und Geschlecht/Fluntern/Schweizer/in/M",
          "WBev nach Quartier, Herkunft und Geschlecht/Friesenberg/Schweizer/in/M",
          "WBev nach Quartier, Herkunft und Geschlecht/Gewerbeschule/Schweizer/in/M",
          "WBev nach Quartier, Herkunft und Geschlecht/Hard/Schweizer/in/M",
          "WBev nach Quartier, Herkunft und Geschlecht/Hirslanden/Schweizer/in/M",
          "WBev nach Quartier, Herkunft und Geschlecht/Hirzenbach/Schweizer/in/M",
          "WBev nach Quartier, Herkunft und Geschlecht/Hochschulen/Schweizer/in/M",
          "WBev nach Quartier, Herkunft und Geschlecht/Hottingen/Schweizer/in/M",
          "WBev nach Quartier, Herkunft und Geschlecht/Höngg/Schweizer/in/M",
          "WBev nach Quartier, Herkunft und Geschlecht/Langstrasse/Schweizer/in/M",
          "WBev nach Quartier, Herkunft und Geschlecht/Leimbach/Schweizer/in/M",
          "WBev nach Quartier, Herkunft und Geschlecht/Lindenhof/Schweizer/in/M",
          "WBev nach Quartier, Herkunft und Geschlecht/Mühlebach/Schweizer/in/M",
          "WBev nach Quartier, Herkunft und Geschlecht/Oberstrass/Schweizer/in/M",
          "WBev nach Quartier, Herkunft und Geschlecht/Oerlikon/Schweizer/in/M",
          "WBev nach Quartier, Herkunft und Geschlecht/Rathaus/Schweizer/in/M",
          "WBev nach Quartier, Herkunft und Geschlecht/Saatlen/Schweizer/in/M",
          "WBev nach Quartier, Herkunft und Geschlecht/Schwamendingen-Mitte/Schweizer/in/M",
          "WBev nach Quartier, Herkunft und Geschlecht/Seebach/Schweizer/in/M",
          "WBev nach Quartier, Herkunft und Geschlecht/Seefeld/Schweizer/in/M",
          "WBev nach Quartier, Herkunft und Geschlecht/Sihlfeld/Schweizer/in/M",
          "WBev nach Quartier, Herkunft und Geschlecht/Unterstrass/Schweizer/in/M",
          "WBev nach Quartier, Herkunft und Geschlecht/Weinegg/Schweizer/in/M",
          "WBev nach Quartier, Herkunft und Geschlecht/Werd/Schweizer/in/M",
          "WBev nach Quartier, Herkunft und Geschlecht/Wipkingen/Schweizer/in/M",
          "WBev nach Quartier, Herkunft und Geschlecht/Witikon/Schweizer/in/M",
          "WBev nach Quartier, Herkunft und Geschlecht/Wollishofen/Schweizer/in/M",
          "WBev nach Quartier, Herkunft und Geschlecht/Affoltern/Ausländer/in/W",
          "WBev nach Quartier, Herkunft und Geschlecht/Albisrieden/Ausländer/in/W",
          "WBev nach Quartier, Herkunft und Geschlecht/Alt-Wiedikon/Ausländer/in/W",
          "WBev nach Quartier, Herkunft und Geschlecht/Altstetten/Ausländer/in/W",
          "WBev nach Quartier, Herkunft und Geschlecht/City/Ausländer/in/W",
          "WBev nach Quartier, Herkunft und Geschlecht/Enge/Ausländer/in/W",
          "WBev nach Quartier, Herkunft und Geschlecht/Escher Wyss/Ausländer/in/W",
          "WBev nach Quartier, Herkunft und Geschlecht/Fluntern/Ausländer/in/W",
          "WBev nach Quartier, Herkunft und Geschlecht/Friesenberg/Ausländer/in/W",
          "WBev nach Quartier, Herkunft und Geschlecht/Gewerbeschule/Ausländer/in/W",
          "WBev nach Quartier, Herkunft und Geschlecht/Hard/Ausländer/in/W",
          "WBev nach Quartier, Herkunft und Geschlecht/Hirslanden/Ausländer/in/W",
          "WBev nach Quartier, Herkunft und Geschlecht/Hirzenbach/Ausländer/in/W",
          "WBev nach Quartier, Herkunft und Geschlecht/Hochschulen/Ausländer/in/W",
          "WBev nach Quartier, Herkunft und Geschlecht/Hottingen/Ausländer/in/W",
          "WBev nach Quartier, Herkunft und Geschlecht/Höngg/Ausländer/in/W",
          "WBev nach Quartier, Herkunft und Geschlecht/Langstrasse/Ausländer/in/W",
          "WBev nach Quartier, Herkunft und Geschlecht/Leimbach/Ausländer/in/W",
          "WBev nach Quartier, Herkunft und Geschlecht/Lindenhof/Ausländer/in/W",
          "WBev nach Quartier, Herkunft und Geschlecht/Mühlebach/Ausländer/in/W",
          "WBev nach Quartier, Herkunft und Geschlecht/Oberstrass/Ausländer/in/W",
          "WBev nach Quartier, Herkunft und Geschlecht/Oerlikon/Ausländer/in/W",
          "WBev nach Quartier, Herkunft und Geschlecht/Rathaus/Ausländer/in/W",
          "WBev nach Quartier, Herkunft und Geschlecht/Saatlen/Ausländer/in/W",
          "WBev nach Quartier, Herkunft und Geschlecht/Schwamendingen-Mitte/Ausländer/in/W",
          "WBev nach Quartier, Herkunft und Geschlecht/Seebach/Ausländer/in/W",
          "WBev nach Quartier, Herkunft und Geschlecht/Seefeld/Ausländer/in/W",
          "WBev nach Quartier, Herkunft und Geschlecht/Sihlfeld/Ausländer/in/W",
          "WBev nach Quartier, Herkunft und Geschlecht/Unterstrass/Ausländer/in/W",
          "WBev nach Quartier, Herkunft und Geschlecht/Weinegg/Ausländer/in/W",
          "WBev nach Quartier, Herkunft und Geschlecht/Werd/Ausländer/in/W",
          "WBev nach Quartier, Herkunft und Geschlecht/Wipkingen/Ausländer/in/W",
          "WBev nach Quartier, Herkunft und Geschlecht/Witikon/Ausländer/in/W",
          "WBev nach Quartier, Herkunft und Geschlecht/Wollishofen/Ausländer/in/W",
          "WBev nach Quartier, Herkunft und Geschlecht/Affoltern/Schweizer/in/W",
          "WBev nach Quartier, Herkunft und Geschlecht/Albisrieden/Schweizer/in/W",
          "WBev nach Quartier, Herkunft und Geschlecht/Alt-Wiedikon/Schweizer/in/W",
          "WBev nach Quartier, Herkunft und Geschlecht/Altstetten/Schweizer/in/W",
          "WBev nach Quartier, Herkunft und Geschlecht/City/Schweizer/in/W",
          "WBev nach Quartier, Herkunft und Geschlecht/Enge/Schweizer/in/W",
          "WBev nach Quartier, Herkunft und Geschlecht/Escher Wyss/Schweizer/in/W",
          "WBev nach Quartier, Herkunft und Geschlecht/Fluntern/Schweizer/in/W",
          "WBev nach Quartier, Herkunft und Geschlecht/Friesenberg/Schweizer/in/W",
          "WBev nach Quartier, Herkunft und Geschlecht/Gewerbeschule/Schweizer/in/W",
          "WBev nach Quartier, Herkunft und Geschlecht/Hard/Schweizer/in/W",
          "WBev nach Quartier, Herkunft und Geschlecht/Hirslanden/Schweizer/in/W",
          "WBev nach Quartier, Herkunft und Geschlecht/Hirzenbach/Schweizer/in/W",
          "WBev nach Quartier, Herkunft und Geschlecht/Hochschulen/Schweizer/in/W",
          "WBev nach Quartier, Herkunft und Geschlecht/Hottingen/Schweizer/in/W",
          "WBev nach Quartier, Herkunft und Geschlecht/Höngg/Schweizer/in/W",
          "WBev nach Quartier, Herkunft und Geschlecht/Langstrasse/Schweizer/in/W",
          "WBev nach Quartier, Herkunft und Geschlecht/Leimbach/Schweizer/in/W",
          "WBev nach Quartier, Herkunft und Geschlecht/Lindenhof/Schweizer/in/W",
          "WBev nach Quartier, Herkunft und Geschlecht/Mühlebach/Schweizer/in/W",
          "WBev nach Quartier, Herkunft und Geschlecht/Oberstrass/Schweizer/in/W",
          "WBev nach Quartier, Herkunft und Geschlecht/Oerlikon/Schweizer/in/W",
          "WBev nach Quartier, Herkunft und Geschlecht/Rathaus/Schweizer/in/W",
          "WBev nach Quartier, Herkunft und Geschlecht/Saatlen/Schweizer/in/W",
          "WBev nach Quartier, Herkunft und Geschlecht/Schwamendingen-Mitte/Schweizer/in/W",
          "WBev nach Quartier, Herkunft und Geschlecht/Seebach/Schweizer/in/W",
          "WBev nach Quartier, Herkunft und Geschlecht/Seefeld/Schweizer/in/W",
          "WBev nach Quartier, Herkunft und Geschlecht/Sihlfeld/Schweizer/in/W",
          "WBev nach Quartier, Herkunft und Geschlecht/Unterstrass/Schweizer/in/W",
          "WBev nach Quartier, Herkunft und Geschlecht/Weinegg/Schweizer/in/W",
          "WBev nach Quartier, Herkunft und Geschlecht/Werd/Schweizer/in/W",
          "WBev nach Quartier, Herkunft und Geschlecht/Wipkingen/Schweizer/in/W",
          "WBev nach Quartier, Herkunft und Geschlecht/Witikon/Schweizer/in/W",
          "WBev nach Quartier, Herkunft und Geschlecht/Wollishofen/Schweizer/in/W",
          "WBev nach Quartier, Herkunft und Geschlecht/Affoltern/Ausländer/in",
          "WBev nach Quartier, Herkunft und Geschlecht/Albisrieden/Ausländer/in",
          "WBev nach Quartier, Herkunft und Geschlecht/Alt-Wiedikon/Ausländer/in",
          "WBev nach Quartier, Herkunft und Geschlecht/Altstetten/Ausländer/in",
          "WBev nach Quartier, Herkunft und Geschlecht/City/Ausländer/in",
          "WBev nach Quartier, Herkunft und Geschlecht/Enge/Ausländer/in",
          "WBev nach Quartier, Herkunft und Geschlecht/Escher Wyss/Ausländer/in",
          "WBev nach Quartier, Herkunft und Geschlecht/Fluntern/Ausländer/in",
          "WBev nach Quartier, Herkunft und Geschlecht/Friesenberg/Ausländer/in",
          "WBev nach Quartier, Herkunft und Geschlecht/Gewerbeschule/Ausländer/in",
          "WBev nach Quartier, Herkunft und Geschlecht/Hard/Ausländer/in",
          "WBev nach Quartier, Herkunft und Geschlecht/Hirslanden/Ausländer/in",
          "WBev nach Quartier, Herkunft und Geschlecht/Hirzenbach/Ausländer/in",
          "WBev nach Quartier, Herkunft und Geschlecht/Hochschulen/Ausländer/in",
          "WBev nach Quartier, Herkunft und Geschlecht/Hottingen/Ausländer/in",
          "WBev nach Quartier, Herkunft und Geschlecht/Höngg/Ausländer/in",
          "WBev nach Quartier, Herkunft und Geschlecht/Langstrasse/Ausländer/in",
          "WBev nach Quartier, Herkunft und Geschlecht/Leimbach/Ausländer/in",
          "WBev nach Quartier, Herkunft und Geschlecht/Lindenhof/Ausländer/in",
          "WBev nach Quartier, Herkunft und Geschlecht/Mühlebach/Ausländer/in",
          "WBev nach Quartier, Herkunft und Geschlecht/Oberstrass/Ausländer/in",
          "WBev nach Quartier, Herkunft und Geschlecht/Oerlikon/Ausländer/in",
          "WBev nach Quartier, Herkunft und Geschlecht/Rathaus/Ausländer/in",
          "WBev nach Quartier, Herkunft und Geschlecht/Saatlen/Ausländer/in",
          "WBev nach Quartier, Herkunft und Geschlecht/Schwamendingen-Mitte/Ausländer/in",
          "WBev nach Quartier, Herkunft und Geschlecht/Seebach/Ausländer/in",
          "WBev nach Quartier, Herkunft und Geschlecht/Seefeld/Ausländer/in",
          "WBev nach Quartier, Herkunft und Geschlecht/Sihlfeld/Ausländer/in",
          "WBev nach Quartier, Herkunft und Geschlecht/Unterstrass/Ausländer/in",
          "WBev nach Quartier, Herkunft und Geschlecht/Weinegg/Ausländer/in",
          "WBev nach Quartier, Herkunft und Geschlecht/Werd/Ausländer/in",
          "WBev nach Quartier, Herkunft und Geschlecht/Wipkingen/Ausländer/in",
          "WBev nach Quartier, Herkunft und Geschlecht/Witikon/Ausländer/in",
          "WBev nach Quartier, Herkunft und Geschlecht/Wollishofen/Ausländer/in",
          "WBev nach Quartier, Herkunft und Geschlecht/Affoltern/Schweizer/in",
          "WBev nach Quartier, Herkunft und Geschlecht/Albisrieden/Schweizer/in",
          "WBev nach Quartier, Herkunft und Geschlecht/Alt-Wiedikon/Schweizer/in",
          "WBev nach Quartier, Herkunft und Geschlecht/Altstetten/Schweizer/in",
          "WBev nach Quartier, Herkunft und Geschlecht/City/Schweizer/in",
          "WBev nach Quartier, Herkunft und Geschlecht/Enge/Schweizer/in",
          "WBev nach Quartier, Herkunft und Geschlecht/Escher Wyss/Schweizer/in",
          "WBev nach Quartier, Herkunft und Geschlecht/Fluntern/Schweizer/in",
          "WBev nach Quartier, Herkunft und Geschlecht/Friesenberg/Schweizer/in",
          "WBev nach Quartier, Herkunft und Geschlecht/Gewerbeschule/Schweizer/in",
          "WBev nach Quartier, Herkunft und Geschlecht/Hard/Schweizer/in",
          "WBev nach Quartier, Herkunft und Geschlecht/Hirslanden/Schweizer/in",
          "WBev nach Quartier, Herkunft und Geschlecht/Hirzenbach/Schweizer/in",
          "WBev nach Quartier, Herkunft und Geschlecht/Hochschulen/Schweizer/in",
          "WBev nach Quartier, Herkunft und Geschlecht/Hottingen/Schweizer/in",
          "WBev nach Quartier, Herkunft und Geschlecht/Höngg/Schweizer/in",
          "WBev nach Quartier, Herkunft und Geschlecht/Langstrasse/Schweizer/in",
          "WBev nach Quartier, Herkunft und Geschlecht/Leimbach/Schweizer/in",
          "WBev nach Quartier, Herkunft und Geschlecht/Lindenhof/Schweizer/in",
          "WBev nach Quartier, Herkunft und Geschlecht/Mühlebach/Schweizer/in",
          "WBev nach Quartier, Herkunft und Geschlecht/Oberstrass/Schweizer/in",
          "WBev nach Quartier, Herkunft und Geschlecht/Oerlikon/Schweizer/in",
          "WBev nach Quartier, Herkunft und Geschlecht/Rathaus/Schweizer/in",
          "WBev nach Quartier, Herkunft und Geschlecht/Saatlen/Schweizer/in",
          "WBev nach Quartier, Herkunft und Geschlecht/Schwamendingen-Mitte/Schweizer/in",
          "WBev nach Quartier, Herkunft und Geschlecht/Seebach/Schweizer/in",
          "WBev nach Quartier, Herkunft und Geschlecht/Seefeld/Schweizer/in",
          "WBev nach Quartier, Herkunft und Geschlecht/Sihlfeld/Schweizer/in",
          "WBev nach Quartier, Herkunft und Geschlecht/Unterstrass/Schweizer/in",
          "WBev nach Quartier, Herkunft und Geschlecht/Weinegg/Schweizer/in",
          "WBev nach Quartier, Herkunft und Geschlecht/Werd/Schweizer/in",
          "WBev nach Quartier, Herkunft und Geschlecht/Wipkingen/Schweizer/in",
          "WBev nach Quartier, Herkunft und Geschlecht/Witikon/Schweizer/in",
          "WBev nach Quartier, Herkunft und Geschlecht/Wollishofen/Schweizer/in",
          "WBev nach Quartier, Herkunft und Geschlecht/Affoltern",
          "WBev nach Quartier, Herkunft und Geschlecht/Albisrieden",
          "WBev nach Quartier, Herkunft und Geschlecht/Alt-Wiedikon",
          "WBev nach Quartier, Herkunft und Geschlecht/Altstetten",
          "WBev nach Quartier, Herkunft und Geschlecht/City",
          "WBev nach Quartier, Herkunft und Geschlecht/Enge",
          "WBev nach Quartier, Herkunft und Geschlecht/Escher Wyss",
          "WBev nach Quartier, Herkunft und Geschlecht/Fluntern",
          "WBev nach Quartier, Herkunft und Geschlecht/Friesenberg",
          "WBev nach Quartier, Herkunft und Geschlecht/Gewerbeschule",
          "WBev nach Quartier, Herkunft und Geschlecht/Hard",
          "WBev nach Quartier, Herkunft und Geschlecht/Hirslanden",
          "WBev nach Quartier, Herkunft und Geschlecht/Hirzenbach",
          "WBev nach Quartier, Herkunft und Geschlecht/Hochschulen",
          "WBev nach Quartier, Herkunft und Geschlecht/Hottingen",
          "WBev nach Quartier, Herkunft und Geschlecht/Höngg",
          "WBev nach Quartier, Herkunft und Geschlecht/Langstrasse",
          "WBev nach Quartier, Herkunft und Geschlecht/Leimbach",
          "WBev nach Quartier, Herkunft und Geschlecht/Lindenhof",
          "WBev nach Quartier, Herkunft und Geschlecht/Mühlebach",
          "WBev nach Quartier, Herkunft und Geschlecht/Oberstrass",
          "WBev nach Quartier, Herkunft und Geschlecht/Oerlikon",
          "WBev nach Quartier, Herkunft und Geschlecht/Rathaus",
          "WBev nach Quartier, Herkunft und Geschlecht/Saatlen",
          "WBev nach Quartier, Herkunft und Geschlecht/Schwamendingen-Mitte",
          "WBev nach Quartier, Herkunft und Geschlecht/Seebach",
          "WBev nach Quartier, Herkunft und Geschlecht/Seefeld",
          "WBev nach Quartier, Herkunft und Geschlecht/Sihlfeld",
          "WBev nach Quartier, Herkunft und Geschlecht/Unterstrass",
          "WBev nach Quartier, Herkunft und Geschlecht/Weinegg",
          "WBev nach Quartier, Herkunft und Geschlecht/Werd",
          "WBev nach Quartier, Herkunft und Geschlecht/Wipkingen",
          "WBev nach Quartier, Herkunft und Geschlecht/Witikon",
          "WBev nach Quartier, Herkunft und Geschlecht/Wollishofen",
          "WBev nach Quartier, Herkunft und Geschlecht"
         ],
         "labels": [
          "M",
          "M",
          "M",
          "M",
          "M",
          "M",
          "M",
          "M",
          "M",
          "M",
          "M",
          "M",
          "M",
          "M",
          "M",
          "M",
          "M",
          "M",
          "M",
          "M",
          "M",
          "M",
          "M",
          "M",
          "M",
          "M",
          "M",
          "M",
          "M",
          "M",
          "M",
          "M",
          "M",
          "M",
          "M",
          "M",
          "M",
          "M",
          "M",
          "M",
          "M",
          "M",
          "M",
          "M",
          "M",
          "M",
          "M",
          "M",
          "M",
          "M",
          "M",
          "M",
          "M",
          "M",
          "M",
          "M",
          "M",
          "M",
          "M",
          "M",
          "M",
          "M",
          "M",
          "M",
          "M",
          "M",
          "M",
          "M",
          "W",
          "W",
          "W",
          "W",
          "W",
          "W",
          "W",
          "W",
          "W",
          "W",
          "W",
          "W",
          "W",
          "W",
          "W",
          "W",
          "W",
          "W",
          "W",
          "W",
          "W",
          "W",
          "W",
          "W",
          "W",
          "W",
          "W",
          "W",
          "W",
          "W",
          "W",
          "W",
          "W",
          "W",
          "W",
          "W",
          "W",
          "W",
          "W",
          "W",
          "W",
          "W",
          "W",
          "W",
          "W",
          "W",
          "W",
          "W",
          "W",
          "W",
          "W",
          "W",
          "W",
          "W",
          "W",
          "W",
          "W",
          "W",
          "W",
          "W",
          "W",
          "W",
          "W",
          "W",
          "W",
          "W",
          "W",
          "W",
          "Ausländer/in",
          "Ausländer/in",
          "Ausländer/in",
          "Ausländer/in",
          "Ausländer/in",
          "Ausländer/in",
          "Ausländer/in",
          "Ausländer/in",
          "Ausländer/in",
          "Ausländer/in",
          "Ausländer/in",
          "Ausländer/in",
          "Ausländer/in",
          "Ausländer/in",
          "Ausländer/in",
          "Ausländer/in",
          "Ausländer/in",
          "Ausländer/in",
          "Ausländer/in",
          "Ausländer/in",
          "Ausländer/in",
          "Ausländer/in",
          "Ausländer/in",
          "Ausländer/in",
          "Ausländer/in",
          "Ausländer/in",
          "Ausländer/in",
          "Ausländer/in",
          "Ausländer/in",
          "Ausländer/in",
          "Ausländer/in",
          "Ausländer/in",
          "Ausländer/in",
          "Ausländer/in",
          "Schweizer/in",
          "Schweizer/in",
          "Schweizer/in",
          "Schweizer/in",
          "Schweizer/in",
          "Schweizer/in",
          "Schweizer/in",
          "Schweizer/in",
          "Schweizer/in",
          "Schweizer/in",
          "Schweizer/in",
          "Schweizer/in",
          "Schweizer/in",
          "Schweizer/in",
          "Schweizer/in",
          "Schweizer/in",
          "Schweizer/in",
          "Schweizer/in",
          "Schweizer/in",
          "Schweizer/in",
          "Schweizer/in",
          "Schweizer/in",
          "Schweizer/in",
          "Schweizer/in",
          "Schweizer/in",
          "Schweizer/in",
          "Schweizer/in",
          "Schweizer/in",
          "Schweizer/in",
          "Schweizer/in",
          "Schweizer/in",
          "Schweizer/in",
          "Schweizer/in",
          "Schweizer/in",
          "Affoltern",
          "Albisrieden",
          "Alt-Wiedikon",
          "Altstetten",
          "City",
          "Enge",
          "Escher Wyss",
          "Fluntern",
          "Friesenberg",
          "Gewerbeschule",
          "Hard",
          "Hirslanden",
          "Hirzenbach",
          "Hochschulen",
          "Hottingen",
          "Höngg",
          "Langstrasse",
          "Leimbach",
          "Lindenhof",
          "Mühlebach",
          "Oberstrass",
          "Oerlikon",
          "Rathaus",
          "Saatlen",
          "Schwamendingen-Mitte",
          "Seebach",
          "Seefeld",
          "Sihlfeld",
          "Unterstrass",
          "Weinegg",
          "Werd",
          "Wipkingen",
          "Witikon",
          "Wollishofen",
          "WBev nach Quartier, Herkunft und Geschlecht"
         ],
         "marker": {
          "coloraxis": "coloraxis",
          "colors": [
           4600,
           3138,
           3283,
           6680,
           138,
           1853,
           1125,
           1304,
           1046,
           1756,
           2425,
           987,
           2401,
           120,
           1697,
           3347,
           2658,
           1038,
           153,
           1157,
           1681,
           4911,
           585,
           1250,
           2548,
           5531,
           1103,
           3682,
           3612,
           990,
           846,
           2368,
           1519,
           3016,
           8665,
           7882,
           5806,
           10757,
           304,
           2967,
           2294,
           2837,
           4315,
           3405,
           4015,
           2470,
           3965,
           216,
           3789,
           8689,
           4085,
           2012,
           358,
           1938,
           3607,
           7247,
           1230,
           3063,
           3007,
           7952,
           1491,
           7189,
           8457,
           1746,
           1533,
           5786,
           3669,
           6463,
           4073,
           2737,
           2774,
           5588,
           124,
           1698,
           886,
           1310,
           985,
           1245,
           2045,
           977,
           2134,
           91,
           1618,
           2809,
           1819,
           989,
           142,
           1099,
           1548,
           4080,
           436,
           1166,
           2219,
           4656,
           1134,
           3121,
           3198,
           892,
           697,
           2110,
           1530,
           2925,
           9246,
           8607,
           5901,
           11073,
           263,
           3137,
           1893,
           3234,
           4725,
           3018,
           4069,
           2962,
           4463,
           248,
           4200,
           9594,
           3348,
           2101,
           357,
           2220,
           3988,
           7310,
           1066,
           3320,
           3309,
           7917,
           1752,
           7929,
           9226,
           1934,
           1494,
           6341,
           4526,
           7353,
           4352.511126484492,
           2951.185191489362,
           3049.8869077100876,
           6182.600586892729,
           131.3740458015267,
           1778.8828499014362,
           1019.7021382396817,
           1307.0068859984697,
           1016.4160512063023,
           1544.0056647784072,
           2251.152125279642,
           982.0254582484725,
           2275.3598676957,
           107.49289099526067,
           1658.4413273001508,
           3101.5090968161144,
           2317.1152557516193,
           1014.0922545633941,
           147.70508474576272,
           1128.7455673758866,
           1617.2390833075256,
           4533.9029029029025,
           521.3721841332027,
           1209.4602649006622,
           2394.8531571218796,
           5131.078531461667,
           1118.7147966025927,
           3424.6310451271497,
           3417.584140969163,
           943.5515409139214,
           778.6941023979261,
           2246.432335864225,
           1524.519842571335,
           2971.1969365426694,
           8964.923287365305,
           8260.438656073746,
           5853.885453147689,
           10917.287127805772,
           284.98236331569666,
           3054.3673001310617,
           2112.7024122283256,
           3048.4804809751276,
           4529.297566371682,
           3223.1588042970575,
           4042.1803562592777,
           2738.281296023564,
           4228.713099193165,
           233.10344827586206,
           4005.0720991363123,
           9163.898539626976,
           3753.037669850666,
           2057.4629224410405,
           357.5006993006993,
           2088.5627705627708,
           3807.0563528637263,
           7278.636326166105,
           1153.857142857143,
           3196.673821087263,
           3165.2200759974667,
           7934.538597265108,
           1632.0027752081405,
           7577.11086122503,
           8858.221172877906,
           1844.8021739130436,
           1513.751238850347,
           6076.19996701575,
           4142.310799267846,
           6936.666039374638,
           7460.12902497743,
           6865.703183688071,
           4897.804661112362,
           9213.810839345417,
           236.43546441495778,
           2585.2585189021233,
           1758.0680864795095,
           2524.33402417962,
           3884.851503929184,
           2688.4454584040745,
           3404.4635972598376,
           2271.909410492158,
           3545.3483761474968,
           193.83851851851853,
           3316.901450813871,
           7636.828307213879,
           3213.270696893367,
           1713.014657980456,
           296.22376237623763,
           1750.9657000311818,
           3153.7932372505543,
           6230.653558688636,
           959.173047934881,
           2651.0313672008183,
           2833.8712442479473,
           6838.4821154436595,
           1422.4726277372263,
           6288.423292732996,
           7345.513942759156,
           1539.8482560230134,
           1265.5689277899344,
           5043.396627521831,
           3432.4526858769123,
           5744.235410234347,
           5203.466674027456
          ]
         },
         "name": "",
         "parents": [
          "WBev nach Quartier, Herkunft und Geschlecht/Affoltern/Ausländer/in",
          "WBev nach Quartier, Herkunft und Geschlecht/Albisrieden/Ausländer/in",
          "WBev nach Quartier, Herkunft und Geschlecht/Alt-Wiedikon/Ausländer/in",
          "WBev nach Quartier, Herkunft und Geschlecht/Altstetten/Ausländer/in",
          "WBev nach Quartier, Herkunft und Geschlecht/City/Ausländer/in",
          "WBev nach Quartier, Herkunft und Geschlecht/Enge/Ausländer/in",
          "WBev nach Quartier, Herkunft und Geschlecht/Escher Wyss/Ausländer/in",
          "WBev nach Quartier, Herkunft und Geschlecht/Fluntern/Ausländer/in",
          "WBev nach Quartier, Herkunft und Geschlecht/Friesenberg/Ausländer/in",
          "WBev nach Quartier, Herkunft und Geschlecht/Gewerbeschule/Ausländer/in",
          "WBev nach Quartier, Herkunft und Geschlecht/Hard/Ausländer/in",
          "WBev nach Quartier, Herkunft und Geschlecht/Hirslanden/Ausländer/in",
          "WBev nach Quartier, Herkunft und Geschlecht/Hirzenbach/Ausländer/in",
          "WBev nach Quartier, Herkunft und Geschlecht/Hochschulen/Ausländer/in",
          "WBev nach Quartier, Herkunft und Geschlecht/Hottingen/Ausländer/in",
          "WBev nach Quartier, Herkunft und Geschlecht/Höngg/Ausländer/in",
          "WBev nach Quartier, Herkunft und Geschlecht/Langstrasse/Ausländer/in",
          "WBev nach Quartier, Herkunft und Geschlecht/Leimbach/Ausländer/in",
          "WBev nach Quartier, Herkunft und Geschlecht/Lindenhof/Ausländer/in",
          "WBev nach Quartier, Herkunft und Geschlecht/Mühlebach/Ausländer/in",
          "WBev nach Quartier, Herkunft und Geschlecht/Oberstrass/Ausländer/in",
          "WBev nach Quartier, Herkunft und Geschlecht/Oerlikon/Ausländer/in",
          "WBev nach Quartier, Herkunft und Geschlecht/Rathaus/Ausländer/in",
          "WBev nach Quartier, Herkunft und Geschlecht/Saatlen/Ausländer/in",
          "WBev nach Quartier, Herkunft und Geschlecht/Schwamendingen-Mitte/Ausländer/in",
          "WBev nach Quartier, Herkunft und Geschlecht/Seebach/Ausländer/in",
          "WBev nach Quartier, Herkunft und Geschlecht/Seefeld/Ausländer/in",
          "WBev nach Quartier, Herkunft und Geschlecht/Sihlfeld/Ausländer/in",
          "WBev nach Quartier, Herkunft und Geschlecht/Unterstrass/Ausländer/in",
          "WBev nach Quartier, Herkunft und Geschlecht/Weinegg/Ausländer/in",
          "WBev nach Quartier, Herkunft und Geschlecht/Werd/Ausländer/in",
          "WBev nach Quartier, Herkunft und Geschlecht/Wipkingen/Ausländer/in",
          "WBev nach Quartier, Herkunft und Geschlecht/Witikon/Ausländer/in",
          "WBev nach Quartier, Herkunft und Geschlecht/Wollishofen/Ausländer/in",
          "WBev nach Quartier, Herkunft und Geschlecht/Affoltern/Schweizer/in",
          "WBev nach Quartier, Herkunft und Geschlecht/Albisrieden/Schweizer/in",
          "WBev nach Quartier, Herkunft und Geschlecht/Alt-Wiedikon/Schweizer/in",
          "WBev nach Quartier, Herkunft und Geschlecht/Altstetten/Schweizer/in",
          "WBev nach Quartier, Herkunft und Geschlecht/City/Schweizer/in",
          "WBev nach Quartier, Herkunft und Geschlecht/Enge/Schweizer/in",
          "WBev nach Quartier, Herkunft und Geschlecht/Escher Wyss/Schweizer/in",
          "WBev nach Quartier, Herkunft und Geschlecht/Fluntern/Schweizer/in",
          "WBev nach Quartier, Herkunft und Geschlecht/Friesenberg/Schweizer/in",
          "WBev nach Quartier, Herkunft und Geschlecht/Gewerbeschule/Schweizer/in",
          "WBev nach Quartier, Herkunft und Geschlecht/Hard/Schweizer/in",
          "WBev nach Quartier, Herkunft und Geschlecht/Hirslanden/Schweizer/in",
          "WBev nach Quartier, Herkunft und Geschlecht/Hirzenbach/Schweizer/in",
          "WBev nach Quartier, Herkunft und Geschlecht/Hochschulen/Schweizer/in",
          "WBev nach Quartier, Herkunft und Geschlecht/Hottingen/Schweizer/in",
          "WBev nach Quartier, Herkunft und Geschlecht/Höngg/Schweizer/in",
          "WBev nach Quartier, Herkunft und Geschlecht/Langstrasse/Schweizer/in",
          "WBev nach Quartier, Herkunft und Geschlecht/Leimbach/Schweizer/in",
          "WBev nach Quartier, Herkunft und Geschlecht/Lindenhof/Schweizer/in",
          "WBev nach Quartier, Herkunft und Geschlecht/Mühlebach/Schweizer/in",
          "WBev nach Quartier, Herkunft und Geschlecht/Oberstrass/Schweizer/in",
          "WBev nach Quartier, Herkunft und Geschlecht/Oerlikon/Schweizer/in",
          "WBev nach Quartier, Herkunft und Geschlecht/Rathaus/Schweizer/in",
          "WBev nach Quartier, Herkunft und Geschlecht/Saatlen/Schweizer/in",
          "WBev nach Quartier, Herkunft und Geschlecht/Schwamendingen-Mitte/Schweizer/in",
          "WBev nach Quartier, Herkunft und Geschlecht/Seebach/Schweizer/in",
          "WBev nach Quartier, Herkunft und Geschlecht/Seefeld/Schweizer/in",
          "WBev nach Quartier, Herkunft und Geschlecht/Sihlfeld/Schweizer/in",
          "WBev nach Quartier, Herkunft und Geschlecht/Unterstrass/Schweizer/in",
          "WBev nach Quartier, Herkunft und Geschlecht/Weinegg/Schweizer/in",
          "WBev nach Quartier, Herkunft und Geschlecht/Werd/Schweizer/in",
          "WBev nach Quartier, Herkunft und Geschlecht/Wipkingen/Schweizer/in",
          "WBev nach Quartier, Herkunft und Geschlecht/Witikon/Schweizer/in",
          "WBev nach Quartier, Herkunft und Geschlecht/Wollishofen/Schweizer/in",
          "WBev nach Quartier, Herkunft und Geschlecht/Affoltern/Ausländer/in",
          "WBev nach Quartier, Herkunft und Geschlecht/Albisrieden/Ausländer/in",
          "WBev nach Quartier, Herkunft und Geschlecht/Alt-Wiedikon/Ausländer/in",
          "WBev nach Quartier, Herkunft und Geschlecht/Altstetten/Ausländer/in",
          "WBev nach Quartier, Herkunft und Geschlecht/City/Ausländer/in",
          "WBev nach Quartier, Herkunft und Geschlecht/Enge/Ausländer/in",
          "WBev nach Quartier, Herkunft und Geschlecht/Escher Wyss/Ausländer/in",
          "WBev nach Quartier, Herkunft und Geschlecht/Fluntern/Ausländer/in",
          "WBev nach Quartier, Herkunft und Geschlecht/Friesenberg/Ausländer/in",
          "WBev nach Quartier, Herkunft und Geschlecht/Gewerbeschule/Ausländer/in",
          "WBev nach Quartier, Herkunft und Geschlecht/Hard/Ausländer/in",
          "WBev nach Quartier, Herkunft und Geschlecht/Hirslanden/Ausländer/in",
          "WBev nach Quartier, Herkunft und Geschlecht/Hirzenbach/Ausländer/in",
          "WBev nach Quartier, Herkunft und Geschlecht/Hochschulen/Ausländer/in",
          "WBev nach Quartier, Herkunft und Geschlecht/Hottingen/Ausländer/in",
          "WBev nach Quartier, Herkunft und Geschlecht/Höngg/Ausländer/in",
          "WBev nach Quartier, Herkunft und Geschlecht/Langstrasse/Ausländer/in",
          "WBev nach Quartier, Herkunft und Geschlecht/Leimbach/Ausländer/in",
          "WBev nach Quartier, Herkunft und Geschlecht/Lindenhof/Ausländer/in",
          "WBev nach Quartier, Herkunft und Geschlecht/Mühlebach/Ausländer/in",
          "WBev nach Quartier, Herkunft und Geschlecht/Oberstrass/Ausländer/in",
          "WBev nach Quartier, Herkunft und Geschlecht/Oerlikon/Ausländer/in",
          "WBev nach Quartier, Herkunft und Geschlecht/Rathaus/Ausländer/in",
          "WBev nach Quartier, Herkunft und Geschlecht/Saatlen/Ausländer/in",
          "WBev nach Quartier, Herkunft und Geschlecht/Schwamendingen-Mitte/Ausländer/in",
          "WBev nach Quartier, Herkunft und Geschlecht/Seebach/Ausländer/in",
          "WBev nach Quartier, Herkunft und Geschlecht/Seefeld/Ausländer/in",
          "WBev nach Quartier, Herkunft und Geschlecht/Sihlfeld/Ausländer/in",
          "WBev nach Quartier, Herkunft und Geschlecht/Unterstrass/Ausländer/in",
          "WBev nach Quartier, Herkunft und Geschlecht/Weinegg/Ausländer/in",
          "WBev nach Quartier, Herkunft und Geschlecht/Werd/Ausländer/in",
          "WBev nach Quartier, Herkunft und Geschlecht/Wipkingen/Ausländer/in",
          "WBev nach Quartier, Herkunft und Geschlecht/Witikon/Ausländer/in",
          "WBev nach Quartier, Herkunft und Geschlecht/Wollishofen/Ausländer/in",
          "WBev nach Quartier, Herkunft und Geschlecht/Affoltern/Schweizer/in",
          "WBev nach Quartier, Herkunft und Geschlecht/Albisrieden/Schweizer/in",
          "WBev nach Quartier, Herkunft und Geschlecht/Alt-Wiedikon/Schweizer/in",
          "WBev nach Quartier, Herkunft und Geschlecht/Altstetten/Schweizer/in",
          "WBev nach Quartier, Herkunft und Geschlecht/City/Schweizer/in",
          "WBev nach Quartier, Herkunft und Geschlecht/Enge/Schweizer/in",
          "WBev nach Quartier, Herkunft und Geschlecht/Escher Wyss/Schweizer/in",
          "WBev nach Quartier, Herkunft und Geschlecht/Fluntern/Schweizer/in",
          "WBev nach Quartier, Herkunft und Geschlecht/Friesenberg/Schweizer/in",
          "WBev nach Quartier, Herkunft und Geschlecht/Gewerbeschule/Schweizer/in",
          "WBev nach Quartier, Herkunft und Geschlecht/Hard/Schweizer/in",
          "WBev nach Quartier, Herkunft und Geschlecht/Hirslanden/Schweizer/in",
          "WBev nach Quartier, Herkunft und Geschlecht/Hirzenbach/Schweizer/in",
          "WBev nach Quartier, Herkunft und Geschlecht/Hochschulen/Schweizer/in",
          "WBev nach Quartier, Herkunft und Geschlecht/Hottingen/Schweizer/in",
          "WBev nach Quartier, Herkunft und Geschlecht/Höngg/Schweizer/in",
          "WBev nach Quartier, Herkunft und Geschlecht/Langstrasse/Schweizer/in",
          "WBev nach Quartier, Herkunft und Geschlecht/Leimbach/Schweizer/in",
          "WBev nach Quartier, Herkunft und Geschlecht/Lindenhof/Schweizer/in",
          "WBev nach Quartier, Herkunft und Geschlecht/Mühlebach/Schweizer/in",
          "WBev nach Quartier, Herkunft und Geschlecht/Oberstrass/Schweizer/in",
          "WBev nach Quartier, Herkunft und Geschlecht/Oerlikon/Schweizer/in",
          "WBev nach Quartier, Herkunft und Geschlecht/Rathaus/Schweizer/in",
          "WBev nach Quartier, Herkunft und Geschlecht/Saatlen/Schweizer/in",
          "WBev nach Quartier, Herkunft und Geschlecht/Schwamendingen-Mitte/Schweizer/in",
          "WBev nach Quartier, Herkunft und Geschlecht/Seebach/Schweizer/in",
          "WBev nach Quartier, Herkunft und Geschlecht/Seefeld/Schweizer/in",
          "WBev nach Quartier, Herkunft und Geschlecht/Sihlfeld/Schweizer/in",
          "WBev nach Quartier, Herkunft und Geschlecht/Unterstrass/Schweizer/in",
          "WBev nach Quartier, Herkunft und Geschlecht/Weinegg/Schweizer/in",
          "WBev nach Quartier, Herkunft und Geschlecht/Werd/Schweizer/in",
          "WBev nach Quartier, Herkunft und Geschlecht/Wipkingen/Schweizer/in",
          "WBev nach Quartier, Herkunft und Geschlecht/Witikon/Schweizer/in",
          "WBev nach Quartier, Herkunft und Geschlecht/Wollishofen/Schweizer/in",
          "WBev nach Quartier, Herkunft und Geschlecht/Affoltern",
          "WBev nach Quartier, Herkunft und Geschlecht/Albisrieden",
          "WBev nach Quartier, Herkunft und Geschlecht/Alt-Wiedikon",
          "WBev nach Quartier, Herkunft und Geschlecht/Altstetten",
          "WBev nach Quartier, Herkunft und Geschlecht/City",
          "WBev nach Quartier, Herkunft und Geschlecht/Enge",
          "WBev nach Quartier, Herkunft und Geschlecht/Escher Wyss",
          "WBev nach Quartier, Herkunft und Geschlecht/Fluntern",
          "WBev nach Quartier, Herkunft und Geschlecht/Friesenberg",
          "WBev nach Quartier, Herkunft und Geschlecht/Gewerbeschule",
          "WBev nach Quartier, Herkunft und Geschlecht/Hard",
          "WBev nach Quartier, Herkunft und Geschlecht/Hirslanden",
          "WBev nach Quartier, Herkunft und Geschlecht/Hirzenbach",
          "WBev nach Quartier, Herkunft und Geschlecht/Hochschulen",
          "WBev nach Quartier, Herkunft und Geschlecht/Hottingen",
          "WBev nach Quartier, Herkunft und Geschlecht/Höngg",
          "WBev nach Quartier, Herkunft und Geschlecht/Langstrasse",
          "WBev nach Quartier, Herkunft und Geschlecht/Leimbach",
          "WBev nach Quartier, Herkunft und Geschlecht/Lindenhof",
          "WBev nach Quartier, Herkunft und Geschlecht/Mühlebach",
          "WBev nach Quartier, Herkunft und Geschlecht/Oberstrass",
          "WBev nach Quartier, Herkunft und Geschlecht/Oerlikon",
          "WBev nach Quartier, Herkunft und Geschlecht/Rathaus",
          "WBev nach Quartier, Herkunft und Geschlecht/Saatlen",
          "WBev nach Quartier, Herkunft und Geschlecht/Schwamendingen-Mitte",
          "WBev nach Quartier, Herkunft und Geschlecht/Seebach",
          "WBev nach Quartier, Herkunft und Geschlecht/Seefeld",
          "WBev nach Quartier, Herkunft und Geschlecht/Sihlfeld",
          "WBev nach Quartier, Herkunft und Geschlecht/Unterstrass",
          "WBev nach Quartier, Herkunft und Geschlecht/Weinegg",
          "WBev nach Quartier, Herkunft und Geschlecht/Werd",
          "WBev nach Quartier, Herkunft und Geschlecht/Wipkingen",
          "WBev nach Quartier, Herkunft und Geschlecht/Witikon",
          "WBev nach Quartier, Herkunft und Geschlecht/Wollishofen",
          "WBev nach Quartier, Herkunft und Geschlecht/Affoltern",
          "WBev nach Quartier, Herkunft und Geschlecht/Albisrieden",
          "WBev nach Quartier, Herkunft und Geschlecht/Alt-Wiedikon",
          "WBev nach Quartier, Herkunft und Geschlecht/Altstetten",
          "WBev nach Quartier, Herkunft und Geschlecht/City",
          "WBev nach Quartier, Herkunft und Geschlecht/Enge",
          "WBev nach Quartier, Herkunft und Geschlecht/Escher Wyss",
          "WBev nach Quartier, Herkunft und Geschlecht/Fluntern",
          "WBev nach Quartier, Herkunft und Geschlecht/Friesenberg",
          "WBev nach Quartier, Herkunft und Geschlecht/Gewerbeschule",
          "WBev nach Quartier, Herkunft und Geschlecht/Hard",
          "WBev nach Quartier, Herkunft und Geschlecht/Hirslanden",
          "WBev nach Quartier, Herkunft und Geschlecht/Hirzenbach",
          "WBev nach Quartier, Herkunft und Geschlecht/Hochschulen",
          "WBev nach Quartier, Herkunft und Geschlecht/Hottingen",
          "WBev nach Quartier, Herkunft und Geschlecht/Höngg",
          "WBev nach Quartier, Herkunft und Geschlecht/Langstrasse",
          "WBev nach Quartier, Herkunft und Geschlecht/Leimbach",
          "WBev nach Quartier, Herkunft und Geschlecht/Lindenhof",
          "WBev nach Quartier, Herkunft und Geschlecht/Mühlebach",
          "WBev nach Quartier, Herkunft und Geschlecht/Oberstrass",
          "WBev nach Quartier, Herkunft und Geschlecht/Oerlikon",
          "WBev nach Quartier, Herkunft und Geschlecht/Rathaus",
          "WBev nach Quartier, Herkunft und Geschlecht/Saatlen",
          "WBev nach Quartier, Herkunft und Geschlecht/Schwamendingen-Mitte",
          "WBev nach Quartier, Herkunft und Geschlecht/Seebach",
          "WBev nach Quartier, Herkunft und Geschlecht/Seefeld",
          "WBev nach Quartier, Herkunft und Geschlecht/Sihlfeld",
          "WBev nach Quartier, Herkunft und Geschlecht/Unterstrass",
          "WBev nach Quartier, Herkunft und Geschlecht/Weinegg",
          "WBev nach Quartier, Herkunft und Geschlecht/Werd",
          "WBev nach Quartier, Herkunft und Geschlecht/Wipkingen",
          "WBev nach Quartier, Herkunft und Geschlecht/Witikon",
          "WBev nach Quartier, Herkunft und Geschlecht/Wollishofen",
          "WBev nach Quartier, Herkunft und Geschlecht",
          "WBev nach Quartier, Herkunft und Geschlecht",
          "WBev nach Quartier, Herkunft und Geschlecht",
          "WBev nach Quartier, Herkunft und Geschlecht",
          "WBev nach Quartier, Herkunft und Geschlecht",
          "WBev nach Quartier, Herkunft und Geschlecht",
          "WBev nach Quartier, Herkunft und Geschlecht",
          "WBev nach Quartier, Herkunft und Geschlecht",
          "WBev nach Quartier, Herkunft und Geschlecht",
          "WBev nach Quartier, Herkunft und Geschlecht",
          "WBev nach Quartier, Herkunft und Geschlecht",
          "WBev nach Quartier, Herkunft und Geschlecht",
          "WBev nach Quartier, Herkunft und Geschlecht",
          "WBev nach Quartier, Herkunft und Geschlecht",
          "WBev nach Quartier, Herkunft und Geschlecht",
          "WBev nach Quartier, Herkunft und Geschlecht",
          "WBev nach Quartier, Herkunft und Geschlecht",
          "WBev nach Quartier, Herkunft und Geschlecht",
          "WBev nach Quartier, Herkunft und Geschlecht",
          "WBev nach Quartier, Herkunft und Geschlecht",
          "WBev nach Quartier, Herkunft und Geschlecht",
          "WBev nach Quartier, Herkunft und Geschlecht",
          "WBev nach Quartier, Herkunft und Geschlecht",
          "WBev nach Quartier, Herkunft und Geschlecht",
          "WBev nach Quartier, Herkunft und Geschlecht",
          "WBev nach Quartier, Herkunft und Geschlecht",
          "WBev nach Quartier, Herkunft und Geschlecht",
          "WBev nach Quartier, Herkunft und Geschlecht",
          "WBev nach Quartier, Herkunft und Geschlecht",
          "WBev nach Quartier, Herkunft und Geschlecht",
          "WBev nach Quartier, Herkunft und Geschlecht",
          "WBev nach Quartier, Herkunft und Geschlecht",
          "WBev nach Quartier, Herkunft und Geschlecht",
          "WBev nach Quartier, Herkunft und Geschlecht",
          ""
         ],
         "root": {
          "color": "grey"
         },
         "type": "treemap",
         "values": [
          4600,
          3138,
          3283,
          6680,
          138,
          1853,
          1125,
          1304,
          1046,
          1756,
          2425,
          987,
          2401,
          120,
          1697,
          3347,
          2658,
          1038,
          153,
          1157,
          1681,
          4911,
          585,
          1250,
          2548,
          5531,
          1103,
          3682,
          3612,
          990,
          846,
          2368,
          1519,
          3016,
          8665,
          7882,
          5806,
          10757,
          304,
          2967,
          2294,
          2837,
          4315,
          3405,
          4015,
          2470,
          3965,
          216,
          3789,
          8689,
          4085,
          2012,
          358,
          1938,
          3607,
          7247,
          1230,
          3063,
          3007,
          7952,
          1491,
          7189,
          8457,
          1746,
          1533,
          5786,
          3669,
          6463,
          4073,
          2737,
          2774,
          5588,
          124,
          1698,
          886,
          1310,
          985,
          1245,
          2045,
          977,
          2134,
          91,
          1618,
          2809,
          1819,
          989,
          142,
          1099,
          1548,
          4080,
          436,
          1166,
          2219,
          4656,
          1134,
          3121,
          3198,
          892,
          697,
          2110,
          1530,
          2925,
          9246,
          8607,
          5901,
          11073,
          263,
          3137,
          1893,
          3234,
          4725,
          3018,
          4069,
          2962,
          4463,
          248,
          4200,
          9594,
          3348,
          2101,
          357,
          2220,
          3988,
          7310,
          1066,
          3320,
          3309,
          7917,
          1752,
          7929,
          9226,
          1934,
          1494,
          6341,
          4526,
          7353,
          8673,
          5875,
          6057,
          12268,
          262,
          3551,
          2011,
          2614,
          2031,
          3001,
          4470,
          1964,
          4535,
          211,
          3315,
          6156,
          4477,
          2027,
          295,
          2256,
          3229,
          8991,
          1021,
          2416,
          4767,
          10187,
          2237,
          6803,
          6810,
          1882,
          1543,
          4478,
          3049,
          5941,
          17911,
          16489,
          11707,
          21830,
          567,
          6104,
          4187,
          6071,
          9040,
          6423,
          8084,
          5432,
          8428,
          464,
          7989,
          18283,
          7433,
          4113,
          715,
          4158,
          7595,
          14557,
          2296,
          6383,
          6316,
          15869,
          3243,
          15118,
          17683,
          3680,
          3027,
          12127,
          8195,
          13816,
          26584,
          22364,
          17764,
          34098,
          829,
          9655,
          6198,
          8685,
          11071,
          9424,
          12554,
          7396,
          12963,
          675,
          11304,
          24439,
          11910,
          6140,
          1010,
          6414,
          10824,
          23548,
          3317,
          8799,
          11083,
          26056,
          5480,
          21921,
          24493,
          5562,
          4570,
          16605,
          11244,
          19757,
          434736
         ]
        }
       ],
       "layout": {
        "coloraxis": {
         "colorbar": {
          "title": {
           "text": "sum_WBev"
          }
         },
         "colorscale": [
          [
           0,
           "rgb(247,251,255)"
          ],
          [
           0.125,
           "rgb(222,235,247)"
          ],
          [
           0.25,
           "rgb(198,219,239)"
          ],
          [
           0.375,
           "rgb(158,202,225)"
          ],
          [
           0.5,
           "rgb(107,174,214)"
          ],
          [
           0.625,
           "rgb(66,146,198)"
          ],
          [
           0.75,
           "rgb(33,113,181)"
          ],
          [
           0.875,
           "rgb(8,81,156)"
          ],
          [
           1,
           "rgb(8,48,107)"
          ]
         ]
        },
        "height": 400,
        "legend": {
         "tracegroupgap": 0
        },
        "margin": {
         "b": 25,
         "l": 25,
         "r": 250,
         "t": 50
        },
        "template": {
         "data": {
          "bar": [
           {
            "error_x": {
             "color": "#2a3f5f"
            },
            "error_y": {
             "color": "#2a3f5f"
            },
            "marker": {
             "line": {
              "color": "#E5ECF6",
              "width": 0.5
             },
             "pattern": {
              "fillmode": "overlay",
              "size": 10,
              "solidity": 0.2
             }
            },
            "type": "bar"
           }
          ],
          "barpolar": [
           {
            "marker": {
             "line": {
              "color": "#E5ECF6",
              "width": 0.5
             },
             "pattern": {
              "fillmode": "overlay",
              "size": 10,
              "solidity": 0.2
             }
            },
            "type": "barpolar"
           }
          ],
          "carpet": [
           {
            "aaxis": {
             "endlinecolor": "#2a3f5f",
             "gridcolor": "white",
             "linecolor": "white",
             "minorgridcolor": "white",
             "startlinecolor": "#2a3f5f"
            },
            "baxis": {
             "endlinecolor": "#2a3f5f",
             "gridcolor": "white",
             "linecolor": "white",
             "minorgridcolor": "white",
             "startlinecolor": "#2a3f5f"
            },
            "type": "carpet"
           }
          ],
          "choropleth": [
           {
            "colorbar": {
             "outlinewidth": 0,
             "ticks": ""
            },
            "type": "choropleth"
           }
          ],
          "contour": [
           {
            "colorbar": {
             "outlinewidth": 0,
             "ticks": ""
            },
            "colorscale": [
             [
              0,
              "#0d0887"
             ],
             [
              0.1111111111111111,
              "#46039f"
             ],
             [
              0.2222222222222222,
              "#7201a8"
             ],
             [
              0.3333333333333333,
              "#9c179e"
             ],
             [
              0.4444444444444444,
              "#bd3786"
             ],
             [
              0.5555555555555556,
              "#d8576b"
             ],
             [
              0.6666666666666666,
              "#ed7953"
             ],
             [
              0.7777777777777778,
              "#fb9f3a"
             ],
             [
              0.8888888888888888,
              "#fdca26"
             ],
             [
              1,
              "#f0f921"
             ]
            ],
            "type": "contour"
           }
          ],
          "contourcarpet": [
           {
            "colorbar": {
             "outlinewidth": 0,
             "ticks": ""
            },
            "type": "contourcarpet"
           }
          ],
          "heatmap": [
           {
            "colorbar": {
             "outlinewidth": 0,
             "ticks": ""
            },
            "colorscale": [
             [
              0,
              "#0d0887"
             ],
             [
              0.1111111111111111,
              "#46039f"
             ],
             [
              0.2222222222222222,
              "#7201a8"
             ],
             [
              0.3333333333333333,
              "#9c179e"
             ],
             [
              0.4444444444444444,
              "#bd3786"
             ],
             [
              0.5555555555555556,
              "#d8576b"
             ],
             [
              0.6666666666666666,
              "#ed7953"
             ],
             [
              0.7777777777777778,
              "#fb9f3a"
             ],
             [
              0.8888888888888888,
              "#fdca26"
             ],
             [
              1,
              "#f0f921"
             ]
            ],
            "type": "heatmap"
           }
          ],
          "heatmapgl": [
           {
            "colorbar": {
             "outlinewidth": 0,
             "ticks": ""
            },
            "colorscale": [
             [
              0,
              "#0d0887"
             ],
             [
              0.1111111111111111,
              "#46039f"
             ],
             [
              0.2222222222222222,
              "#7201a8"
             ],
             [
              0.3333333333333333,
              "#9c179e"
             ],
             [
              0.4444444444444444,
              "#bd3786"
             ],
             [
              0.5555555555555556,
              "#d8576b"
             ],
             [
              0.6666666666666666,
              "#ed7953"
             ],
             [
              0.7777777777777778,
              "#fb9f3a"
             ],
             [
              0.8888888888888888,
              "#fdca26"
             ],
             [
              1,
              "#f0f921"
             ]
            ],
            "type": "heatmapgl"
           }
          ],
          "histogram": [
           {
            "marker": {
             "pattern": {
              "fillmode": "overlay",
              "size": 10,
              "solidity": 0.2
             }
            },
            "type": "histogram"
           }
          ],
          "histogram2d": [
           {
            "colorbar": {
             "outlinewidth": 0,
             "ticks": ""
            },
            "colorscale": [
             [
              0,
              "#0d0887"
             ],
             [
              0.1111111111111111,
              "#46039f"
             ],
             [
              0.2222222222222222,
              "#7201a8"
             ],
             [
              0.3333333333333333,
              "#9c179e"
             ],
             [
              0.4444444444444444,
              "#bd3786"
             ],
             [
              0.5555555555555556,
              "#d8576b"
             ],
             [
              0.6666666666666666,
              "#ed7953"
             ],
             [
              0.7777777777777778,
              "#fb9f3a"
             ],
             [
              0.8888888888888888,
              "#fdca26"
             ],
             [
              1,
              "#f0f921"
             ]
            ],
            "type": "histogram2d"
           }
          ],
          "histogram2dcontour": [
           {
            "colorbar": {
             "outlinewidth": 0,
             "ticks": ""
            },
            "colorscale": [
             [
              0,
              "#0d0887"
             ],
             [
              0.1111111111111111,
              "#46039f"
             ],
             [
              0.2222222222222222,
              "#7201a8"
             ],
             [
              0.3333333333333333,
              "#9c179e"
             ],
             [
              0.4444444444444444,
              "#bd3786"
             ],
             [
              0.5555555555555556,
              "#d8576b"
             ],
             [
              0.6666666666666666,
              "#ed7953"
             ],
             [
              0.7777777777777778,
              "#fb9f3a"
             ],
             [
              0.8888888888888888,
              "#fdca26"
             ],
             [
              1,
              "#f0f921"
             ]
            ],
            "type": "histogram2dcontour"
           }
          ],
          "mesh3d": [
           {
            "colorbar": {
             "outlinewidth": 0,
             "ticks": ""
            },
            "type": "mesh3d"
           }
          ],
          "parcoords": [
           {
            "line": {
             "colorbar": {
              "outlinewidth": 0,
              "ticks": ""
             }
            },
            "type": "parcoords"
           }
          ],
          "pie": [
           {
            "automargin": true,
            "type": "pie"
           }
          ],
          "scatter": [
           {
            "marker": {
             "colorbar": {
              "outlinewidth": 0,
              "ticks": ""
             }
            },
            "type": "scatter"
           }
          ],
          "scatter3d": [
           {
            "line": {
             "colorbar": {
              "outlinewidth": 0,
              "ticks": ""
             }
            },
            "marker": {
             "colorbar": {
              "outlinewidth": 0,
              "ticks": ""
             }
            },
            "type": "scatter3d"
           }
          ],
          "scattercarpet": [
           {
            "marker": {
             "colorbar": {
              "outlinewidth": 0,
              "ticks": ""
             }
            },
            "type": "scattercarpet"
           }
          ],
          "scattergeo": [
           {
            "marker": {
             "colorbar": {
              "outlinewidth": 0,
              "ticks": ""
             }
            },
            "type": "scattergeo"
           }
          ],
          "scattergl": [
           {
            "marker": {
             "colorbar": {
              "outlinewidth": 0,
              "ticks": ""
             }
            },
            "type": "scattergl"
           }
          ],
          "scattermapbox": [
           {
            "marker": {
             "colorbar": {
              "outlinewidth": 0,
              "ticks": ""
             }
            },
            "type": "scattermapbox"
           }
          ],
          "scatterpolar": [
           {
            "marker": {
             "colorbar": {
              "outlinewidth": 0,
              "ticks": ""
             }
            },
            "type": "scatterpolar"
           }
          ],
          "scatterpolargl": [
           {
            "marker": {
             "colorbar": {
              "outlinewidth": 0,
              "ticks": ""
             }
            },
            "type": "scatterpolargl"
           }
          ],
          "scatterternary": [
           {
            "marker": {
             "colorbar": {
              "outlinewidth": 0,
              "ticks": ""
             }
            },
            "type": "scatterternary"
           }
          ],
          "surface": [
           {
            "colorbar": {
             "outlinewidth": 0,
             "ticks": ""
            },
            "colorscale": [
             [
              0,
              "#0d0887"
             ],
             [
              0.1111111111111111,
              "#46039f"
             ],
             [
              0.2222222222222222,
              "#7201a8"
             ],
             [
              0.3333333333333333,
              "#9c179e"
             ],
             [
              0.4444444444444444,
              "#bd3786"
             ],
             [
              0.5555555555555556,
              "#d8576b"
             ],
             [
              0.6666666666666666,
              "#ed7953"
             ],
             [
              0.7777777777777778,
              "#fb9f3a"
             ],
             [
              0.8888888888888888,
              "#fdca26"
             ],
             [
              1,
              "#f0f921"
             ]
            ],
            "type": "surface"
           }
          ],
          "table": [
           {
            "cells": {
             "fill": {
              "color": "#EBF0F8"
             },
             "line": {
              "color": "white"
             }
            },
            "header": {
             "fill": {
              "color": "#C8D4E3"
             },
             "line": {
              "color": "white"
             }
            },
            "type": "table"
           }
          ]
         },
         "layout": {
          "annotationdefaults": {
           "arrowcolor": "#2a3f5f",
           "arrowhead": 0,
           "arrowwidth": 1
          },
          "autotypenumbers": "strict",
          "coloraxis": {
           "colorbar": {
            "outlinewidth": 0,
            "ticks": ""
           }
          },
          "colorscale": {
           "diverging": [
            [
             0,
             "#8e0152"
            ],
            [
             0.1,
             "#c51b7d"
            ],
            [
             0.2,
             "#de77ae"
            ],
            [
             0.3,
             "#f1b6da"
            ],
            [
             0.4,
             "#fde0ef"
            ],
            [
             0.5,
             "#f7f7f7"
            ],
            [
             0.6,
             "#e6f5d0"
            ],
            [
             0.7,
             "#b8e186"
            ],
            [
             0.8,
             "#7fbc41"
            ],
            [
             0.9,
             "#4d9221"
            ],
            [
             1,
             "#276419"
            ]
           ],
           "sequential": [
            [
             0,
             "#0d0887"
            ],
            [
             0.1111111111111111,
             "#46039f"
            ],
            [
             0.2222222222222222,
             "#7201a8"
            ],
            [
             0.3333333333333333,
             "#9c179e"
            ],
            [
             0.4444444444444444,
             "#bd3786"
            ],
            [
             0.5555555555555556,
             "#d8576b"
            ],
            [
             0.6666666666666666,
             "#ed7953"
            ],
            [
             0.7777777777777778,
             "#fb9f3a"
            ],
            [
             0.8888888888888888,
             "#fdca26"
            ],
            [
             1,
             "#f0f921"
            ]
           ],
           "sequentialminus": [
            [
             0,
             "#0d0887"
            ],
            [
             0.1111111111111111,
             "#46039f"
            ],
            [
             0.2222222222222222,
             "#7201a8"
            ],
            [
             0.3333333333333333,
             "#9c179e"
            ],
            [
             0.4444444444444444,
             "#bd3786"
            ],
            [
             0.5555555555555556,
             "#d8576b"
            ],
            [
             0.6666666666666666,
             "#ed7953"
            ],
            [
             0.7777777777777778,
             "#fb9f3a"
            ],
            [
             0.8888888888888888,
             "#fdca26"
            ],
            [
             1,
             "#f0f921"
            ]
           ]
          },
          "colorway": [
           "#636efa",
           "#EF553B",
           "#00cc96",
           "#ab63fa",
           "#FFA15A",
           "#19d3f3",
           "#FF6692",
           "#B6E880",
           "#FF97FF",
           "#FECB52"
          ],
          "font": {
           "color": "#2a3f5f"
          },
          "geo": {
           "bgcolor": "white",
           "lakecolor": "white",
           "landcolor": "#E5ECF6",
           "showlakes": true,
           "showland": true,
           "subunitcolor": "white"
          },
          "hoverlabel": {
           "align": "left"
          },
          "hovermode": "closest",
          "mapbox": {
           "style": "light"
          },
          "paper_bgcolor": "white",
          "plot_bgcolor": "#E5ECF6",
          "polar": {
           "angularaxis": {
            "gridcolor": "white",
            "linecolor": "white",
            "ticks": ""
           },
           "bgcolor": "#E5ECF6",
           "radialaxis": {
            "gridcolor": "white",
            "linecolor": "white",
            "ticks": ""
           }
          },
          "scene": {
           "xaxis": {
            "backgroundcolor": "#E5ECF6",
            "gridcolor": "white",
            "gridwidth": 2,
            "linecolor": "white",
            "showbackground": true,
            "ticks": "",
            "zerolinecolor": "white"
           },
           "yaxis": {
            "backgroundcolor": "#E5ECF6",
            "gridcolor": "white",
            "gridwidth": 2,
            "linecolor": "white",
            "showbackground": true,
            "ticks": "",
            "zerolinecolor": "white"
           },
           "zaxis": {
            "backgroundcolor": "#E5ECF6",
            "gridcolor": "white",
            "gridwidth": 2,
            "linecolor": "white",
            "showbackground": true,
            "ticks": "",
            "zerolinecolor": "white"
           }
          },
          "shapedefaults": {
           "line": {
            "color": "#2a3f5f"
           }
          },
          "ternary": {
           "aaxis": {
            "gridcolor": "white",
            "linecolor": "white",
            "ticks": ""
           },
           "baxis": {
            "gridcolor": "white",
            "linecolor": "white",
            "ticks": ""
           },
           "bgcolor": "#E5ECF6",
           "caxis": {
            "gridcolor": "white",
            "linecolor": "white",
            "ticks": ""
           }
          },
          "title": {
           "x": 0.05
          },
          "xaxis": {
           "automargin": true,
           "gridcolor": "white",
           "linecolor": "white",
           "ticks": "",
           "title": {
            "standoff": 15
           },
           "zerolinecolor": "white",
           "zerolinewidth": 2
          },
          "yaxis": {
           "automargin": true,
           "gridcolor": "white",
           "linecolor": "white",
           "ticks": "",
           "title": {
            "standoff": 15
           },
           "zerolinecolor": "white",
           "zerolinewidth": 2
          }
         }
        },
        "width": 1100
       }
      },
      "image/png": "[encoded data removed]",
      "text/html": [
       "<div>                            <div id=\"ce623f60-758a-4c3b-bce7-731ea4184804\" class=\"plotly-graph-div\" style=\"height:400px; width:1100px;\"></div>            <script type=\"text/javascript\">                require([\"plotly\"], function(Plotly) {                    window.PLOTLYENV=window.PLOTLYENV || {};                                    if (document.getElementById(\"ce623f60-758a-4c3b-bce7-731ea4184804\")) {                    Plotly.newPlot(                        \"ce623f60-758a-4c3b-bce7-731ea4184804\",                        [{\"branchvalues\":\"total\",\"customdata\":[[4600.0],[3138.0],[3283.0],[6680.0],[138.0],[1853.0],[1125.0],[1304.0],[1046.0],[1756.0],[2425.0],[987.0],[2401.0],[120.0],[1697.0],[3347.0],[2658.0],[1038.0],[153.0],[1157.0],[1681.0],[4911.0],[585.0],[1250.0],[2548.0],[5531.0],[1103.0],[3682.0],[3612.0],[990.0],[846.0],[2368.0],[1519.0],[3016.0],[8665.0],[7882.0],[5806.0],[10757.0],[304.0],[2967.0],[2294.0],[2837.0],[4315.0],[3405.0],[4015.0],[2470.0],[3965.0],[216.0],[3789.0],[8689.0],[4085.0],[2012.0],[358.0],[1938.0],[3607.0],[7247.0],[1230.0],[3063.0],[3007.0],[7952.0],[1491.0],[7189.0],[8457.0],[1746.0],[1533.0],[5786.0],[3669.0],[6463.0],[4073.0],[2737.0],[2774.0],[5588.0],[124.0],[1698.0],[886.0],[1310.0],[985.0],[1245.0],[2045.0],[977.0],[2134.0],[91.0],[1618.0],[2809.0],[1819.0],[989.0],[142.0],[1099.0],[1548.0],[4080.0],[436.0],[1166.0],[2219.0],[4656.0],[1134.0],[3121.0],[3198.0],[892.0],[697.0],[2110.0],[1530.0],[2925.0],[9246.0],[8607.0],[5901.0],[11073.0],[263.0],[3137.0],[1893.0],[3234.0],[4725.0],[3018.0],[4069.0],[2962.0],[4463.0],[248.0],[4200.0],[9594.0],[3348.0],[2101.0],[357.0],[2220.0],[3988.0],[7310.0],[1066.0],[3320.0],[3309.0],[7917.0],[1752.0],[7929.0],[9226.0],[1934.0],[1494.0],[6341.0],[4526.0],[7353.0],[4352.511126484492],[2951.185191489362],[3049.8869077100876],[6182.600586892729],[131.3740458015267],[1778.8828499014362],[1019.7021382396817],[1307.0068859984697],[1016.4160512063023],[1544.0056647784072],[2251.152125279642],[982.0254582484725],[2275.3598676957],[107.49289099526067],[1658.4413273001508],[3101.5090968161144],[2317.1152557516193],[1014.0922545633941],[147.70508474576272],[1128.7455673758866],[1617.2390833075256],[4533.9029029029025],[521.3721841332027],[1209.4602649006622],[2394.8531571218796],[5131.078531461667],[1118.7147966025927],[3424.6310451271497],[3417.584140969163],[943.5515409139214],[778.6941023979261],[2246.432335864225],[1524.519842571335],[2971.1969365426694],[8964.923287365305],[8260.438656073746],[5853.885453147689],[10917.287127805772],[284.98236331569666],[3054.3673001310617],[2112.7024122283256],[3048.4804809751276],[4529.297566371682],[3223.1588042970575],[4042.1803562592777],[2738.281296023564],[4228.713099193165],[233.10344827586206],[4005.0720991363123],[9163.898539626976],[3753.037669850666],[2057.4629224410405],[357.5006993006993],[2088.5627705627708],[3807.0563528637263],[7278.636326166105],[1153.857142857143],[3196.673821087263],[3165.2200759974667],[7934.538597265108],[1632.0027752081405],[7577.11086122503],[8858.221172877906],[1844.8021739130436],[1513.751238850347],[6076.19996701575],[4142.310799267846],[6936.666039374638],[7460.12902497743],[6865.703183688071],[4897.804661112362],[9213.810839345417],[236.43546441495778],[2585.2585189021233],[1758.0680864795095],[2524.33402417962],[3884.851503929184],[2688.4454584040745],[3404.4635972598376],[2271.909410492158],[3545.3483761474968],[193.83851851851853],[3316.901450813871],[7636.828307213879],[3213.270696893367],[1713.014657980456],[296.22376237623763],[1750.9657000311818],[3153.7932372505543],[6230.653558688636],[959.173047934881],[2651.0313672008183],[2833.8712442479473],[6838.4821154436595],[1422.4726277372263],[6288.423292732996],[7345.513942759156],[1539.8482560230134],[1265.5689277899344],[5043.396627521831],[3432.4526858769123],[5744.235410234347],[5203.466674027456]],\"domain\":{\"x\":[0.0,1.0],\"y\":[0.0,1.0]},\"hovertemplate\":\"labels=%{label}<br>sum_WBev_sum=%{value}<br>parent=%{parent}<br>id=%{id}<br>sum_WBev=%{color}<extra></extra>\",\"ids\":[\"WBev nach Quartier, Herkunft und Geschlecht/Affoltern/Ausl\\u00e4nder/in/M\",\"WBev nach Quartier, Herkunft und Geschlecht/Albisrieden/Ausl\\u00e4nder/in/M\",\"WBev nach Quartier, Herkunft und Geschlecht/Alt-Wiedikon/Ausl\\u00e4nder/in/M\",\"WBev nach Quartier, Herkunft und Geschlecht/Altstetten/Ausl\\u00e4nder/in/M\",\"WBev nach Quartier, Herkunft und Geschlecht/City/Ausl\\u00e4nder/in/M\",\"WBev nach Quartier, Herkunft und Geschlecht/Enge/Ausl\\u00e4nder/in/M\",\"WBev nach Quartier, Herkunft und Geschlecht/Escher Wyss/Ausl\\u00e4nder/in/M\",\"WBev nach Quartier, Herkunft und Geschlecht/Fluntern/Ausl\\u00e4nder/in/M\",\"WBev nach Quartier, Herkunft und Geschlecht/Friesenberg/Ausl\\u00e4nder/in/M\",\"WBev nach Quartier, Herkunft und Geschlecht/Gewerbeschule/Ausl\\u00e4nder/in/M\",\"WBev nach Quartier, Herkunft und Geschlecht/Hard/Ausl\\u00e4nder/in/M\",\"WBev nach Quartier, Herkunft und Geschlecht/Hirslanden/Ausl\\u00e4nder/in/M\",\"WBev nach Quartier, Herkunft und Geschlecht/Hirzenbach/Ausl\\u00e4nder/in/M\",\"WBev nach Quartier, Herkunft und Geschlecht/Hochschulen/Ausl\\u00e4nder/in/M\",\"WBev nach Quartier, Herkunft und Geschlecht/Hottingen/Ausl\\u00e4nder/in/M\",\"WBev nach Quartier, Herkunft und Geschlecht/H\\u00f6ngg/Ausl\\u00e4nder/in/M\",\"WBev nach Quartier, Herkunft und Geschlecht/Langstrasse/Ausl\\u00e4nder/in/M\",\"WBev nach Quartier, Herkunft und Geschlecht/Leimbach/Ausl\\u00e4nder/in/M\",\"WBev nach Quartier, Herkunft und Geschlecht/Lindenhof/Ausl\\u00e4nder/in/M\",\"WBev nach Quartier, Herkunft und Geschlecht/M\\u00fchlebach/Ausl\\u00e4nder/in/M\",\"WBev nach Quartier, Herkunft und Geschlecht/Oberstrass/Ausl\\u00e4nder/in/M\",\"WBev nach Quartier, Herkunft und Geschlecht/Oerlikon/Ausl\\u00e4nder/in/M\",\"WBev nach Quartier, Herkunft und Geschlecht/Rathaus/Ausl\\u00e4nder/in/M\",\"WBev nach Quartier, Herkunft und Geschlecht/Saatlen/Ausl\\u00e4nder/in/M\",\"WBev nach Quartier, Herkunft und Geschlecht/Schwamendingen-Mitte/Ausl\\u00e4nder/in/M\",\"WBev nach Quartier, Herkunft und Geschlecht/Seebach/Ausl\\u00e4nder/in/M\",\"WBev nach Quartier, Herkunft und Geschlecht/Seefeld/Ausl\\u00e4nder/in/M\",\"WBev nach Quartier, Herkunft und Geschlecht/Sihlfeld/Ausl\\u00e4nder/in/M\",\"WBev nach Quartier, Herkunft und Geschlecht/Unterstrass/Ausl\\u00e4nder/in/M\",\"WBev nach Quartier, Herkunft und Geschlecht/Weinegg/Ausl\\u00e4nder/in/M\",\"WBev nach Quartier, Herkunft und Geschlecht/Werd/Ausl\\u00e4nder/in/M\",\"WBev nach Quartier, Herkunft und Geschlecht/Wipkingen/Ausl\\u00e4nder/in/M\",\"WBev nach Quartier, Herkunft und Geschlecht/Witikon/Ausl\\u00e4nder/in/M\",\"WBev nach Quartier, Herkunft und Geschlecht/Wollishofen/Ausl\\u00e4nder/in/M\",\"WBev nach Quartier, Herkunft und Geschlecht/Affoltern/Schweizer/in/M\",\"WBev nach Quartier, Herkunft und Geschlecht/Albisrieden/Schweizer/in/M\",\"WBev nach Quartier, Herkunft und Geschlecht/Alt-Wiedikon/Schweizer/in/M\",\"WBev nach Quartier, Herkunft und Geschlecht/Altstetten/Schweizer/in/M\",\"WBev nach Quartier, Herkunft und Geschlecht/City/Schweizer/in/M\",\"WBev nach Quartier, Herkunft und Geschlecht/Enge/Schweizer/in/M\",\"WBev nach Quartier, Herkunft und Geschlecht/Escher Wyss/Schweizer/in/M\",\"WBev nach Quartier, Herkunft und Geschlecht/Fluntern/Schweizer/in/M\",\"WBev nach Quartier, Herkunft und Geschlecht/Friesenberg/Schweizer/in/M\",\"WBev nach Quartier, Herkunft und Geschlecht/Gewerbeschule/Schweizer/in/M\",\"WBev nach Quartier, Herkunft und Geschlecht/Hard/Schweizer/in/M\",\"WBev nach Quartier, Herkunft und Geschlecht/Hirslanden/Schweizer/in/M\",\"WBev nach Quartier, Herkunft und Geschlecht/Hirzenbach/Schweizer/in/M\",\"WBev nach Quartier, Herkunft und Geschlecht/Hochschulen/Schweizer/in/M\",\"WBev nach Quartier, Herkunft und Geschlecht/Hottingen/Schweizer/in/M\",\"WBev nach Quartier, Herkunft und Geschlecht/H\\u00f6ngg/Schweizer/in/M\",\"WBev nach Quartier, Herkunft und Geschlecht/Langstrasse/Schweizer/in/M\",\"WBev nach Quartier, Herkunft und Geschlecht/Leimbach/Schweizer/in/M\",\"WBev nach Quartier, Herkunft und Geschlecht/Lindenhof/Schweizer/in/M\",\"WBev nach Quartier, Herkunft und Geschlecht/M\\u00fchlebach/Schweizer/in/M\",\"WBev nach Quartier, Herkunft und Geschlecht/Oberstrass/Schweizer/in/M\",\"WBev nach Quartier, Herkunft und Geschlecht/Oerlikon/Schweizer/in/M\",\"WBev nach Quartier, Herkunft und Geschlecht/Rathaus/Schweizer/in/M\",\"WBev nach Quartier, Herkunft und Geschlecht/Saatlen/Schweizer/in/M\",\"WBev nach Quartier, Herkunft und Geschlecht/Schwamendingen-Mitte/Schweizer/in/M\",\"WBev nach Quartier, Herkunft und Geschlecht/Seebach/Schweizer/in/M\",\"WBev nach Quartier, Herkunft und Geschlecht/Seefeld/Schweizer/in/M\",\"WBev nach Quartier, Herkunft und Geschlecht/Sihlfeld/Schweizer/in/M\",\"WBev nach Quartier, Herkunft und Geschlecht/Unterstrass/Schweizer/in/M\",\"WBev nach Quartier, Herkunft und Geschlecht/Weinegg/Schweizer/in/M\",\"WBev nach Quartier, Herkunft und Geschlecht/Werd/Schweizer/in/M\",\"WBev nach Quartier, Herkunft und Geschlecht/Wipkingen/Schweizer/in/M\",\"WBev nach Quartier, Herkunft und Geschlecht/Witikon/Schweizer/in/M\",\"WBev nach Quartier, Herkunft und Geschlecht/Wollishofen/Schweizer/in/M\",\"WBev nach Quartier, Herkunft und Geschlecht/Affoltern/Ausl\\u00e4nder/in/W\",\"WBev nach Quartier, Herkunft und Geschlecht/Albisrieden/Ausl\\u00e4nder/in/W\",\"WBev nach Quartier, Herkunft und Geschlecht/Alt-Wiedikon/Ausl\\u00e4nder/in/W\",\"WBev nach Quartier, Herkunft und Geschlecht/Altstetten/Ausl\\u00e4nder/in/W\",\"WBev nach Quartier, Herkunft und Geschlecht/City/Ausl\\u00e4nder/in/W\",\"WBev nach Quartier, Herkunft und Geschlecht/Enge/Ausl\\u00e4nder/in/W\",\"WBev nach Quartier, Herkunft und Geschlecht/Escher Wyss/Ausl\\u00e4nder/in/W\",\"WBev nach Quartier, Herkunft und Geschlecht/Fluntern/Ausl\\u00e4nder/in/W\",\"WBev nach Quartier, Herkunft und Geschlecht/Friesenberg/Ausl\\u00e4nder/in/W\",\"WBev nach Quartier, Herkunft und Geschlecht/Gewerbeschule/Ausl\\u00e4nder/in/W\",\"WBev nach Quartier, Herkunft und Geschlecht/Hard/Ausl\\u00e4nder/in/W\",\"WBev nach Quartier, Herkunft und Geschlecht/Hirslanden/Ausl\\u00e4nder/in/W\",\"WBev nach Quartier, Herkunft und Geschlecht/Hirzenbach/Ausl\\u00e4nder/in/W\",\"WBev nach Quartier, Herkunft und Geschlecht/Hochschulen/Ausl\\u00e4nder/in/W\",\"WBev nach Quartier, Herkunft und Geschlecht/Hottingen/Ausl\\u00e4nder/in/W\",\"WBev nach Quartier, Herkunft und Geschlecht/H\\u00f6ngg/Ausl\\u00e4nder/in/W\",\"WBev nach Quartier, Herkunft und Geschlecht/Langstrasse/Ausl\\u00e4nder/in/W\",\"WBev nach Quartier, Herkunft und Geschlecht/Leimbach/Ausl\\u00e4nder/in/W\",\"WBev nach Quartier, Herkunft und Geschlecht/Lindenhof/Ausl\\u00e4nder/in/W\",\"WBev nach Quartier, Herkunft und Geschlecht/M\\u00fchlebach/Ausl\\u00e4nder/in/W\",\"WBev nach Quartier, Herkunft und Geschlecht/Oberstrass/Ausl\\u00e4nder/in/W\",\"WBev nach Quartier, Herkunft und Geschlecht/Oerlikon/Ausl\\u00e4nder/in/W\",\"WBev nach Quartier, Herkunft und Geschlecht/Rathaus/Ausl\\u00e4nder/in/W\",\"WBev nach Quartier, Herkunft und Geschlecht/Saatlen/Ausl\\u00e4nder/in/W\",\"WBev nach Quartier, Herkunft und Geschlecht/Schwamendingen-Mitte/Ausl\\u00e4nder/in/W\",\"WBev nach Quartier, Herkunft und Geschlecht/Seebach/Ausl\\u00e4nder/in/W\",\"WBev nach Quartier, Herkunft und Geschlecht/Seefeld/Ausl\\u00e4nder/in/W\",\"WBev nach Quartier, Herkunft und Geschlecht/Sihlfeld/Ausl\\u00e4nder/in/W\",\"WBev nach Quartier, Herkunft und Geschlecht/Unterstrass/Ausl\\u00e4nder/in/W\",\"WBev nach Quartier, Herkunft und Geschlecht/Weinegg/Ausl\\u00e4nder/in/W\",\"WBev nach Quartier, Herkunft und Geschlecht/Werd/Ausl\\u00e4nder/in/W\",\"WBev nach Quartier, Herkunft und Geschlecht/Wipkingen/Ausl\\u00e4nder/in/W\",\"WBev nach Quartier, Herkunft und Geschlecht/Witikon/Ausl\\u00e4nder/in/W\",\"WBev nach Quartier, Herkunft und Geschlecht/Wollishofen/Ausl\\u00e4nder/in/W\",\"WBev nach Quartier, Herkunft und Geschlecht/Affoltern/Schweizer/in/W\",\"WBev nach Quartier, Herkunft und Geschlecht/Albisrieden/Schweizer/in/W\",\"WBev nach Quartier, Herkunft und Geschlecht/Alt-Wiedikon/Schweizer/in/W\",\"WBev nach Quartier, Herkunft und Geschlecht/Altstetten/Schweizer/in/W\",\"WBev nach Quartier, Herkunft und Geschlecht/City/Schweizer/in/W\",\"WBev nach Quartier, Herkunft und Geschlecht/Enge/Schweizer/in/W\",\"WBev nach Quartier, Herkunft und Geschlecht/Escher Wyss/Schweizer/in/W\",\"WBev nach Quartier, Herkunft und Geschlecht/Fluntern/Schweizer/in/W\",\"WBev nach Quartier, Herkunft und Geschlecht/Friesenberg/Schweizer/in/W\",\"WBev nach Quartier, Herkunft und Geschlecht/Gewerbeschule/Schweizer/in/W\",\"WBev nach Quartier, Herkunft und Geschlecht/Hard/Schweizer/in/W\",\"WBev nach Quartier, Herkunft und Geschlecht/Hirslanden/Schweizer/in/W\",\"WBev nach Quartier, Herkunft und Geschlecht/Hirzenbach/Schweizer/in/W\",\"WBev nach Quartier, Herkunft und Geschlecht/Hochschulen/Schweizer/in/W\",\"WBev nach Quartier, Herkunft und Geschlecht/Hottingen/Schweizer/in/W\",\"WBev nach Quartier, Herkunft und Geschlecht/H\\u00f6ngg/Schweizer/in/W\",\"WBev nach Quartier, Herkunft und Geschlecht/Langstrasse/Schweizer/in/W\",\"WBev nach Quartier, Herkunft und Geschlecht/Leimbach/Schweizer/in/W\",\"WBev nach Quartier, Herkunft und Geschlecht/Lindenhof/Schweizer/in/W\",\"WBev nach Quartier, Herkunft und Geschlecht/M\\u00fchlebach/Schweizer/in/W\",\"WBev nach Quartier, Herkunft und Geschlecht/Oberstrass/Schweizer/in/W\",\"WBev nach Quartier, Herkunft und Geschlecht/Oerlikon/Schweizer/in/W\",\"WBev nach Quartier, Herkunft und Geschlecht/Rathaus/Schweizer/in/W\",\"WBev nach Quartier, Herkunft und Geschlecht/Saatlen/Schweizer/in/W\",\"WBev nach Quartier, Herkunft und Geschlecht/Schwamendingen-Mitte/Schweizer/in/W\",\"WBev nach Quartier, Herkunft und Geschlecht/Seebach/Schweizer/in/W\",\"WBev nach Quartier, Herkunft und Geschlecht/Seefeld/Schweizer/in/W\",\"WBev nach Quartier, Herkunft und Geschlecht/Sihlfeld/Schweizer/in/W\",\"WBev nach Quartier, Herkunft und Geschlecht/Unterstrass/Schweizer/in/W\",\"WBev nach Quartier, Herkunft und Geschlecht/Weinegg/Schweizer/in/W\",\"WBev nach Quartier, Herkunft und Geschlecht/Werd/Schweizer/in/W\",\"WBev nach Quartier, Herkunft und Geschlecht/Wipkingen/Schweizer/in/W\",\"WBev nach Quartier, Herkunft und Geschlecht/Witikon/Schweizer/in/W\",\"WBev nach Quartier, Herkunft und Geschlecht/Wollishofen/Schweizer/in/W\",\"WBev nach Quartier, Herkunft und Geschlecht/Affoltern/Ausl\\u00e4nder/in\",\"WBev nach Quartier, Herkunft und Geschlecht/Albisrieden/Ausl\\u00e4nder/in\",\"WBev nach Quartier, Herkunft und Geschlecht/Alt-Wiedikon/Ausl\\u00e4nder/in\",\"WBev nach Quartier, Herkunft und Geschlecht/Altstetten/Ausl\\u00e4nder/in\",\"WBev nach Quartier, Herkunft und Geschlecht/City/Ausl\\u00e4nder/in\",\"WBev nach Quartier, Herkunft und Geschlecht/Enge/Ausl\\u00e4nder/in\",\"WBev nach Quartier, Herkunft und Geschlecht/Escher Wyss/Ausl\\u00e4nder/in\",\"WBev nach Quartier, Herkunft und Geschlecht/Fluntern/Ausl\\u00e4nder/in\",\"WBev nach Quartier, Herkunft und Geschlecht/Friesenberg/Ausl\\u00e4nder/in\",\"WBev nach Quartier, Herkunft und Geschlecht/Gewerbeschule/Ausl\\u00e4nder/in\",\"WBev nach Quartier, Herkunft und Geschlecht/Hard/Ausl\\u00e4nder/in\",\"WBev nach Quartier, Herkunft und Geschlecht/Hirslanden/Ausl\\u00e4nder/in\",\"WBev nach Quartier, Herkunft und Geschlecht/Hirzenbach/Ausl\\u00e4nder/in\",\"WBev nach Quartier, Herkunft und Geschlecht/Hochschulen/Ausl\\u00e4nder/in\",\"WBev nach Quartier, Herkunft und Geschlecht/Hottingen/Ausl\\u00e4nder/in\",\"WBev nach Quartier, Herkunft und Geschlecht/H\\u00f6ngg/Ausl\\u00e4nder/in\",\"WBev nach Quartier, Herkunft und Geschlecht/Langstrasse/Ausl\\u00e4nder/in\",\"WBev nach Quartier, Herkunft und Geschlecht/Leimbach/Ausl\\u00e4nder/in\",\"WBev nach Quartier, Herkunft und Geschlecht/Lindenhof/Ausl\\u00e4nder/in\",\"WBev nach Quartier, Herkunft und Geschlecht/M\\u00fchlebach/Ausl\\u00e4nder/in\",\"WBev nach Quartier, Herkunft und Geschlecht/Oberstrass/Ausl\\u00e4nder/in\",\"WBev nach Quartier, Herkunft und Geschlecht/Oerlikon/Ausl\\u00e4nder/in\",\"WBev nach Quartier, Herkunft und Geschlecht/Rathaus/Ausl\\u00e4nder/in\",\"WBev nach Quartier, Herkunft und Geschlecht/Saatlen/Ausl\\u00e4nder/in\",\"WBev nach Quartier, Herkunft und Geschlecht/Schwamendingen-Mitte/Ausl\\u00e4nder/in\",\"WBev nach Quartier, Herkunft und Geschlecht/Seebach/Ausl\\u00e4nder/in\",\"WBev nach Quartier, Herkunft und Geschlecht/Seefeld/Ausl\\u00e4nder/in\",\"WBev nach Quartier, Herkunft und Geschlecht/Sihlfeld/Ausl\\u00e4nder/in\",\"WBev nach Quartier, Herkunft und Geschlecht/Unterstrass/Ausl\\u00e4nder/in\",\"WBev nach Quartier, Herkunft und Geschlecht/Weinegg/Ausl\\u00e4nder/in\",\"WBev nach Quartier, Herkunft und Geschlecht/Werd/Ausl\\u00e4nder/in\",\"WBev nach Quartier, Herkunft und Geschlecht/Wipkingen/Ausl\\u00e4nder/in\",\"WBev nach Quartier, Herkunft und Geschlecht/Witikon/Ausl\\u00e4nder/in\",\"WBev nach Quartier, Herkunft und Geschlecht/Wollishofen/Ausl\\u00e4nder/in\",\"WBev nach Quartier, Herkunft und Geschlecht/Affoltern/Schweizer/in\",\"WBev nach Quartier, Herkunft und Geschlecht/Albisrieden/Schweizer/in\",\"WBev nach Quartier, Herkunft und Geschlecht/Alt-Wiedikon/Schweizer/in\",\"WBev nach Quartier, Herkunft und Geschlecht/Altstetten/Schweizer/in\",\"WBev nach Quartier, Herkunft und Geschlecht/City/Schweizer/in\",\"WBev nach Quartier, Herkunft und Geschlecht/Enge/Schweizer/in\",\"WBev nach Quartier, Herkunft und Geschlecht/Escher Wyss/Schweizer/in\",\"WBev nach Quartier, Herkunft und Geschlecht/Fluntern/Schweizer/in\",\"WBev nach Quartier, Herkunft und Geschlecht/Friesenberg/Schweizer/in\",\"WBev nach Quartier, Herkunft und Geschlecht/Gewerbeschule/Schweizer/in\",\"WBev nach Quartier, Herkunft und Geschlecht/Hard/Schweizer/in\",\"WBev nach Quartier, Herkunft und Geschlecht/Hirslanden/Schweizer/in\",\"WBev nach Quartier, Herkunft und Geschlecht/Hirzenbach/Schweizer/in\",\"WBev nach Quartier, Herkunft und Geschlecht/Hochschulen/Schweizer/in\",\"WBev nach Quartier, Herkunft und Geschlecht/Hottingen/Schweizer/in\",\"WBev nach Quartier, Herkunft und Geschlecht/H\\u00f6ngg/Schweizer/in\",\"WBev nach Quartier, Herkunft und Geschlecht/Langstrasse/Schweizer/in\",\"WBev nach Quartier, Herkunft und Geschlecht/Leimbach/Schweizer/in\",\"WBev nach Quartier, Herkunft und Geschlecht/Lindenhof/Schweizer/in\",\"WBev nach Quartier, Herkunft und Geschlecht/M\\u00fchlebach/Schweizer/in\",\"WBev nach Quartier, Herkunft und Geschlecht/Oberstrass/Schweizer/in\",\"WBev nach Quartier, Herkunft und Geschlecht/Oerlikon/Schweizer/in\",\"WBev nach Quartier, Herkunft und Geschlecht/Rathaus/Schweizer/in\",\"WBev nach Quartier, Herkunft und Geschlecht/Saatlen/Schweizer/in\",\"WBev nach Quartier, Herkunft und Geschlecht/Schwamendingen-Mitte/Schweizer/in\",\"WBev nach Quartier, Herkunft und Geschlecht/Seebach/Schweizer/in\",\"WBev nach Quartier, Herkunft und Geschlecht/Seefeld/Schweizer/in\",\"WBev nach Quartier, Herkunft und Geschlecht/Sihlfeld/Schweizer/in\",\"WBev nach Quartier, Herkunft und Geschlecht/Unterstrass/Schweizer/in\",\"WBev nach Quartier, Herkunft und Geschlecht/Weinegg/Schweizer/in\",\"WBev nach Quartier, Herkunft und Geschlecht/Werd/Schweizer/in\",\"WBev nach Quartier, Herkunft und Geschlecht/Wipkingen/Schweizer/in\",\"WBev nach Quartier, Herkunft und Geschlecht/Witikon/Schweizer/in\",\"WBev nach Quartier, Herkunft und Geschlecht/Wollishofen/Schweizer/in\",\"WBev nach Quartier, Herkunft und Geschlecht/Affoltern\",\"WBev nach Quartier, Herkunft und Geschlecht/Albisrieden\",\"WBev nach Quartier, Herkunft und Geschlecht/Alt-Wiedikon\",\"WBev nach Quartier, Herkunft und Geschlecht/Altstetten\",\"WBev nach Quartier, Herkunft und Geschlecht/City\",\"WBev nach Quartier, Herkunft und Geschlecht/Enge\",\"WBev nach Quartier, Herkunft und Geschlecht/Escher Wyss\",\"WBev nach Quartier, Herkunft und Geschlecht/Fluntern\",\"WBev nach Quartier, Herkunft und Geschlecht/Friesenberg\",\"WBev nach Quartier, Herkunft und Geschlecht/Gewerbeschule\",\"WBev nach Quartier, Herkunft und Geschlecht/Hard\",\"WBev nach Quartier, Herkunft und Geschlecht/Hirslanden\",\"WBev nach Quartier, Herkunft und Geschlecht/Hirzenbach\",\"WBev nach Quartier, Herkunft und Geschlecht/Hochschulen\",\"WBev nach Quartier, Herkunft und Geschlecht/Hottingen\",\"WBev nach Quartier, Herkunft und Geschlecht/H\\u00f6ngg\",\"WBev nach Quartier, Herkunft und Geschlecht/Langstrasse\",\"WBev nach Quartier, Herkunft und Geschlecht/Leimbach\",\"WBev nach Quartier, Herkunft und Geschlecht/Lindenhof\",\"WBev nach Quartier, Herkunft und Geschlecht/M\\u00fchlebach\",\"WBev nach Quartier, Herkunft und Geschlecht/Oberstrass\",\"WBev nach Quartier, Herkunft und Geschlecht/Oerlikon\",\"WBev nach Quartier, Herkunft und Geschlecht/Rathaus\",\"WBev nach Quartier, Herkunft und Geschlecht/Saatlen\",\"WBev nach Quartier, Herkunft und Geschlecht/Schwamendingen-Mitte\",\"WBev nach Quartier, Herkunft und Geschlecht/Seebach\",\"WBev nach Quartier, Herkunft und Geschlecht/Seefeld\",\"WBev nach Quartier, Herkunft und Geschlecht/Sihlfeld\",\"WBev nach Quartier, Herkunft und Geschlecht/Unterstrass\",\"WBev nach Quartier, Herkunft und Geschlecht/Weinegg\",\"WBev nach Quartier, Herkunft und Geschlecht/Werd\",\"WBev nach Quartier, Herkunft und Geschlecht/Wipkingen\",\"WBev nach Quartier, Herkunft und Geschlecht/Witikon\",\"WBev nach Quartier, Herkunft und Geschlecht/Wollishofen\",\"WBev nach Quartier, Herkunft und Geschlecht\"],\"labels\":[\"M\",\"M\",\"M\",\"M\",\"M\",\"M\",\"M\",\"M\",\"M\",\"M\",\"M\",\"M\",\"M\",\"M\",\"M\",\"M\",\"M\",\"M\",\"M\",\"M\",\"M\",\"M\",\"M\",\"M\",\"M\",\"M\",\"M\",\"M\",\"M\",\"M\",\"M\",\"M\",\"M\",\"M\",\"M\",\"M\",\"M\",\"M\",\"M\",\"M\",\"M\",\"M\",\"M\",\"M\",\"M\",\"M\",\"M\",\"M\",\"M\",\"M\",\"M\",\"M\",\"M\",\"M\",\"M\",\"M\",\"M\",\"M\",\"M\",\"M\",\"M\",\"M\",\"M\",\"M\",\"M\",\"M\",\"M\",\"M\",\"W\",\"W\",\"W\",\"W\",\"W\",\"W\",\"W\",\"W\",\"W\",\"W\",\"W\",\"W\",\"W\",\"W\",\"W\",\"W\",\"W\",\"W\",\"W\",\"W\",\"W\",\"W\",\"W\",\"W\",\"W\",\"W\",\"W\",\"W\",\"W\",\"W\",\"W\",\"W\",\"W\",\"W\",\"W\",\"W\",\"W\",\"W\",\"W\",\"W\",\"W\",\"W\",\"W\",\"W\",\"W\",\"W\",\"W\",\"W\",\"W\",\"W\",\"W\",\"W\",\"W\",\"W\",\"W\",\"W\",\"W\",\"W\",\"W\",\"W\",\"W\",\"W\",\"W\",\"W\",\"W\",\"W\",\"W\",\"W\",\"Ausl\\u00e4nder/in\",\"Ausl\\u00e4nder/in\",\"Ausl\\u00e4nder/in\",\"Ausl\\u00e4nder/in\",\"Ausl\\u00e4nder/in\",\"Ausl\\u00e4nder/in\",\"Ausl\\u00e4nder/in\",\"Ausl\\u00e4nder/in\",\"Ausl\\u00e4nder/in\",\"Ausl\\u00e4nder/in\",\"Ausl\\u00e4nder/in\",\"Ausl\\u00e4nder/in\",\"Ausl\\u00e4nder/in\",\"Ausl\\u00e4nder/in\",\"Ausl\\u00e4nder/in\",\"Ausl\\u00e4nder/in\",\"Ausl\\u00e4nder/in\",\"Ausl\\u00e4nder/in\",\"Ausl\\u00e4nder/in\",\"Ausl\\u00e4nder/in\",\"Ausl\\u00e4nder/in\",\"Ausl\\u00e4nder/in\",\"Ausl\\u00e4nder/in\",\"Ausl\\u00e4nder/in\",\"Ausl\\u00e4nder/in\",\"Ausl\\u00e4nder/in\",\"Ausl\\u00e4nder/in\",\"Ausl\\u00e4nder/in\",\"Ausl\\u00e4nder/in\",\"Ausl\\u00e4nder/in\",\"Ausl\\u00e4nder/in\",\"Ausl\\u00e4nder/in\",\"Ausl\\u00e4nder/in\",\"Ausl\\u00e4nder/in\",\"Schweizer/in\",\"Schweizer/in\",\"Schweizer/in\",\"Schweizer/in\",\"Schweizer/in\",\"Schweizer/in\",\"Schweizer/in\",\"Schweizer/in\",\"Schweizer/in\",\"Schweizer/in\",\"Schweizer/in\",\"Schweizer/in\",\"Schweizer/in\",\"Schweizer/in\",\"Schweizer/in\",\"Schweizer/in\",\"Schweizer/in\",\"Schweizer/in\",\"Schweizer/in\",\"Schweizer/in\",\"Schweizer/in\",\"Schweizer/in\",\"Schweizer/in\",\"Schweizer/in\",\"Schweizer/in\",\"Schweizer/in\",\"Schweizer/in\",\"Schweizer/in\",\"Schweizer/in\",\"Schweizer/in\",\"Schweizer/in\",\"Schweizer/in\",\"Schweizer/in\",\"Schweizer/in\",\"Affoltern\",\"Albisrieden\",\"Alt-Wiedikon\",\"Altstetten\",\"City\",\"Enge\",\"Escher Wyss\",\"Fluntern\",\"Friesenberg\",\"Gewerbeschule\",\"Hard\",\"Hirslanden\",\"Hirzenbach\",\"Hochschulen\",\"Hottingen\",\"H\\u00f6ngg\",\"Langstrasse\",\"Leimbach\",\"Lindenhof\",\"M\\u00fchlebach\",\"Oberstrass\",\"Oerlikon\",\"Rathaus\",\"Saatlen\",\"Schwamendingen-Mitte\",\"Seebach\",\"Seefeld\",\"Sihlfeld\",\"Unterstrass\",\"Weinegg\",\"Werd\",\"Wipkingen\",\"Witikon\",\"Wollishofen\",\"WBev nach Quartier, Herkunft und Geschlecht\"],\"marker\":{\"coloraxis\":\"coloraxis\",\"colors\":[4600.0,3138.0,3283.0,6680.0,138.0,1853.0,1125.0,1304.0,1046.0,1756.0,2425.0,987.0,2401.0,120.0,1697.0,3347.0,2658.0,1038.0,153.0,1157.0,1681.0,4911.0,585.0,1250.0,2548.0,5531.0,1103.0,3682.0,3612.0,990.0,846.0,2368.0,1519.0,3016.0,8665.0,7882.0,5806.0,10757.0,304.0,2967.0,2294.0,2837.0,4315.0,3405.0,4015.0,2470.0,3965.0,216.0,3789.0,8689.0,4085.0,2012.0,358.0,1938.0,3607.0,7247.0,1230.0,3063.0,3007.0,7952.0,1491.0,7189.0,8457.0,1746.0,1533.0,5786.0,3669.0,6463.0,4073.0,2737.0,2774.0,5588.0,124.0,1698.0,886.0,1310.0,985.0,1245.0,2045.0,977.0,2134.0,91.0,1618.0,2809.0,1819.0,989.0,142.0,1099.0,1548.0,4080.0,436.0,1166.0,2219.0,4656.0,1134.0,3121.0,3198.0,892.0,697.0,2110.0,1530.0,2925.0,9246.0,8607.0,5901.0,11073.0,263.0,3137.0,1893.0,3234.0,4725.0,3018.0,4069.0,2962.0,4463.0,248.0,4200.0,9594.0,3348.0,2101.0,357.0,2220.0,3988.0,7310.0,1066.0,3320.0,3309.0,7917.0,1752.0,7929.0,9226.0,1934.0,1494.0,6341.0,4526.0,7353.0,4352.511126484492,2951.185191489362,3049.8869077100876,6182.600586892729,131.3740458015267,1778.8828499014362,1019.7021382396817,1307.0068859984697,1016.4160512063023,1544.0056647784072,2251.152125279642,982.0254582484725,2275.3598676957,107.49289099526067,1658.4413273001508,3101.5090968161144,2317.1152557516193,1014.0922545633941,147.70508474576272,1128.7455673758866,1617.2390833075256,4533.9029029029025,521.3721841332027,1209.4602649006622,2394.8531571218796,5131.078531461667,1118.7147966025927,3424.6310451271497,3417.584140969163,943.5515409139214,778.6941023979261,2246.432335864225,1524.519842571335,2971.1969365426694,8964.923287365305,8260.438656073746,5853.885453147689,10917.287127805772,284.98236331569666,3054.3673001310617,2112.7024122283256,3048.4804809751276,4529.297566371682,3223.1588042970575,4042.1803562592777,2738.281296023564,4228.713099193165,233.10344827586206,4005.0720991363123,9163.898539626976,3753.037669850666,2057.4629224410405,357.5006993006993,2088.5627705627708,3807.0563528637263,7278.636326166105,1153.857142857143,3196.673821087263,3165.2200759974667,7934.538597265108,1632.0027752081405,7577.11086122503,8858.221172877906,1844.8021739130436,1513.751238850347,6076.19996701575,4142.310799267846,6936.666039374638,7460.12902497743,6865.703183688071,4897.804661112362,9213.810839345417,236.43546441495778,2585.2585189021233,1758.0680864795095,2524.33402417962,3884.851503929184,2688.4454584040745,3404.4635972598376,2271.909410492158,3545.3483761474968,193.83851851851853,3316.901450813871,7636.828307213879,3213.270696893367,1713.014657980456,296.22376237623763,1750.9657000311818,3153.7932372505543,6230.653558688636,959.173047934881,2651.0313672008183,2833.8712442479473,6838.4821154436595,1422.4726277372263,6288.423292732996,7345.513942759156,1539.8482560230134,1265.5689277899344,5043.396627521831,3432.4526858769123,5744.235410234347,5203.466674027456]},\"name\":\"\",\"parents\":[\"WBev nach Quartier, Herkunft und Geschlecht/Affoltern/Ausl\\u00e4nder/in\",\"WBev nach Quartier, Herkunft und Geschlecht/Albisrieden/Ausl\\u00e4nder/in\",\"WBev nach Quartier, Herkunft und Geschlecht/Alt-Wiedikon/Ausl\\u00e4nder/in\",\"WBev nach Quartier, Herkunft und Geschlecht/Altstetten/Ausl\\u00e4nder/in\",\"WBev nach Quartier, Herkunft und Geschlecht/City/Ausl\\u00e4nder/in\",\"WBev nach Quartier, Herkunft und Geschlecht/Enge/Ausl\\u00e4nder/in\",\"WBev nach Quartier, Herkunft und Geschlecht/Escher Wyss/Ausl\\u00e4nder/in\",\"WBev nach Quartier, Herkunft und Geschlecht/Fluntern/Ausl\\u00e4nder/in\",\"WBev nach Quartier, Herkunft und Geschlecht/Friesenberg/Ausl\\u00e4nder/in\",\"WBev nach Quartier, Herkunft und Geschlecht/Gewerbeschule/Ausl\\u00e4nder/in\",\"WBev nach Quartier, Herkunft und Geschlecht/Hard/Ausl\\u00e4nder/in\",\"WBev nach Quartier, Herkunft und Geschlecht/Hirslanden/Ausl\\u00e4nder/in\",\"WBev nach Quartier, Herkunft und Geschlecht/Hirzenbach/Ausl\\u00e4nder/in\",\"WBev nach Quartier, Herkunft und Geschlecht/Hochschulen/Ausl\\u00e4nder/in\",\"WBev nach Quartier, Herkunft und Geschlecht/Hottingen/Ausl\\u00e4nder/in\",\"WBev nach Quartier, Herkunft und Geschlecht/H\\u00f6ngg/Ausl\\u00e4nder/in\",\"WBev nach Quartier, Herkunft und Geschlecht/Langstrasse/Ausl\\u00e4nder/in\",\"WBev nach Quartier, Herkunft und Geschlecht/Leimbach/Ausl\\u00e4nder/in\",\"WBev nach Quartier, Herkunft und Geschlecht/Lindenhof/Ausl\\u00e4nder/in\",\"WBev nach Quartier, Herkunft und Geschlecht/M\\u00fchlebach/Ausl\\u00e4nder/in\",\"WBev nach Quartier, Herkunft und Geschlecht/Oberstrass/Ausl\\u00e4nder/in\",\"WBev nach Quartier, Herkunft und Geschlecht/Oerlikon/Ausl\\u00e4nder/in\",\"WBev nach Quartier, Herkunft und Geschlecht/Rathaus/Ausl\\u00e4nder/in\",\"WBev nach Quartier, Herkunft und Geschlecht/Saatlen/Ausl\\u00e4nder/in\",\"WBev nach Quartier, Herkunft und Geschlecht/Schwamendingen-Mitte/Ausl\\u00e4nder/in\",\"WBev nach Quartier, Herkunft und Geschlecht/Seebach/Ausl\\u00e4nder/in\",\"WBev nach Quartier, Herkunft und Geschlecht/Seefeld/Ausl\\u00e4nder/in\",\"WBev nach Quartier, Herkunft und Geschlecht/Sihlfeld/Ausl\\u00e4nder/in\",\"WBev nach Quartier, Herkunft und Geschlecht/Unterstrass/Ausl\\u00e4nder/in\",\"WBev nach Quartier, Herkunft und Geschlecht/Weinegg/Ausl\\u00e4nder/in\",\"WBev nach Quartier, Herkunft und Geschlecht/Werd/Ausl\\u00e4nder/in\",\"WBev nach Quartier, Herkunft und Geschlecht/Wipkingen/Ausl\\u00e4nder/in\",\"WBev nach Quartier, Herkunft und Geschlecht/Witikon/Ausl\\u00e4nder/in\",\"WBev nach Quartier, Herkunft und Geschlecht/Wollishofen/Ausl\\u00e4nder/in\",\"WBev nach Quartier, Herkunft und Geschlecht/Affoltern/Schweizer/in\",\"WBev nach Quartier, Herkunft und Geschlecht/Albisrieden/Schweizer/in\",\"WBev nach Quartier, Herkunft und Geschlecht/Alt-Wiedikon/Schweizer/in\",\"WBev nach Quartier, Herkunft und Geschlecht/Altstetten/Schweizer/in\",\"WBev nach Quartier, Herkunft und Geschlecht/City/Schweizer/in\",\"WBev nach Quartier, Herkunft und Geschlecht/Enge/Schweizer/in\",\"WBev nach Quartier, Herkunft und Geschlecht/Escher Wyss/Schweizer/in\",\"WBev nach Quartier, Herkunft und Geschlecht/Fluntern/Schweizer/in\",\"WBev nach Quartier, Herkunft und Geschlecht/Friesenberg/Schweizer/in\",\"WBev nach Quartier, Herkunft und Geschlecht/Gewerbeschule/Schweizer/in\",\"WBev nach Quartier, Herkunft und Geschlecht/Hard/Schweizer/in\",\"WBev nach Quartier, Herkunft und Geschlecht/Hirslanden/Schweizer/in\",\"WBev nach Quartier, Herkunft und Geschlecht/Hirzenbach/Schweizer/in\",\"WBev nach Quartier, Herkunft und Geschlecht/Hochschulen/Schweizer/in\",\"WBev nach Quartier, Herkunft und Geschlecht/Hottingen/Schweizer/in\",\"WBev nach Quartier, Herkunft und Geschlecht/H\\u00f6ngg/Schweizer/in\",\"WBev nach Quartier, Herkunft und Geschlecht/Langstrasse/Schweizer/in\",\"WBev nach Quartier, Herkunft und Geschlecht/Leimbach/Schweizer/in\",\"WBev nach Quartier, Herkunft und Geschlecht/Lindenhof/Schweizer/in\",\"WBev nach Quartier, Herkunft und Geschlecht/M\\u00fchlebach/Schweizer/in\",\"WBev nach Quartier, Herkunft und Geschlecht/Oberstrass/Schweizer/in\",\"WBev nach Quartier, Herkunft und Geschlecht/Oerlikon/Schweizer/in\",\"WBev nach Quartier, Herkunft und Geschlecht/Rathaus/Schweizer/in\",\"WBev nach Quartier, Herkunft und Geschlecht/Saatlen/Schweizer/in\",\"WBev nach Quartier, Herkunft und Geschlecht/Schwamendingen-Mitte/Schweizer/in\",\"WBev nach Quartier, Herkunft und Geschlecht/Seebach/Schweizer/in\",\"WBev nach Quartier, Herkunft und Geschlecht/Seefeld/Schweizer/in\",\"WBev nach Quartier, Herkunft und Geschlecht/Sihlfeld/Schweizer/in\",\"WBev nach Quartier, Herkunft und Geschlecht/Unterstrass/Schweizer/in\",\"WBev nach Quartier, Herkunft und Geschlecht/Weinegg/Schweizer/in\",\"WBev nach Quartier, Herkunft und Geschlecht/Werd/Schweizer/in\",\"WBev nach Quartier, Herkunft und Geschlecht/Wipkingen/Schweizer/in\",\"WBev nach Quartier, Herkunft und Geschlecht/Witikon/Schweizer/in\",\"WBev nach Quartier, Herkunft und Geschlecht/Wollishofen/Schweizer/in\",\"WBev nach Quartier, Herkunft und Geschlecht/Affoltern/Ausl\\u00e4nder/in\",\"WBev nach Quartier, Herkunft und Geschlecht/Albisrieden/Ausl\\u00e4nder/in\",\"WBev nach Quartier, Herkunft und Geschlecht/Alt-Wiedikon/Ausl\\u00e4nder/in\",\"WBev nach Quartier, Herkunft und Geschlecht/Altstetten/Ausl\\u00e4nder/in\",\"WBev nach Quartier, Herkunft und Geschlecht/City/Ausl\\u00e4nder/in\",\"WBev nach Quartier, Herkunft und Geschlecht/Enge/Ausl\\u00e4nder/in\",\"WBev nach Quartier, Herkunft und Geschlecht/Escher Wyss/Ausl\\u00e4nder/in\",\"WBev nach Quartier, Herkunft und Geschlecht/Fluntern/Ausl\\u00e4nder/in\",\"WBev nach Quartier, Herkunft und Geschlecht/Friesenberg/Ausl\\u00e4nder/in\",\"WBev nach Quartier, Herkunft und Geschlecht/Gewerbeschule/Ausl\\u00e4nder/in\",\"WBev nach Quartier, Herkunft und Geschlecht/Hard/Ausl\\u00e4nder/in\",\"WBev nach Quartier, Herkunft und Geschlecht/Hirslanden/Ausl\\u00e4nder/in\",\"WBev nach Quartier, Herkunft und Geschlecht/Hirzenbach/Ausl\\u00e4nder/in\",\"WBev nach Quartier, Herkunft und Geschlecht/Hochschulen/Ausl\\u00e4nder/in\",\"WBev nach Quartier, Herkunft und Geschlecht/Hottingen/Ausl\\u00e4nder/in\",\"WBev nach Quartier, Herkunft und Geschlecht/H\\u00f6ngg/Ausl\\u00e4nder/in\",\"WBev nach Quartier, Herkunft und Geschlecht/Langstrasse/Ausl\\u00e4nder/in\",\"WBev nach Quartier, Herkunft und Geschlecht/Leimbach/Ausl\\u00e4nder/in\",\"WBev nach Quartier, Herkunft und Geschlecht/Lindenhof/Ausl\\u00e4nder/in\",\"WBev nach Quartier, Herkunft und Geschlecht/M\\u00fchlebach/Ausl\\u00e4nder/in\",\"WBev nach Quartier, Herkunft und Geschlecht/Oberstrass/Ausl\\u00e4nder/in\",\"WBev nach Quartier, Herkunft und Geschlecht/Oerlikon/Ausl\\u00e4nder/in\",\"WBev nach Quartier, Herkunft und Geschlecht/Rathaus/Ausl\\u00e4nder/in\",\"WBev nach Quartier, Herkunft und Geschlecht/Saatlen/Ausl\\u00e4nder/in\",\"WBev nach Quartier, Herkunft und Geschlecht/Schwamendingen-Mitte/Ausl\\u00e4nder/in\",\"WBev nach Quartier, Herkunft und Geschlecht/Seebach/Ausl\\u00e4nder/in\",\"WBev nach Quartier, Herkunft und Geschlecht/Seefeld/Ausl\\u00e4nder/in\",\"WBev nach Quartier, Herkunft und Geschlecht/Sihlfeld/Ausl\\u00e4nder/in\",\"WBev nach Quartier, Herkunft und Geschlecht/Unterstrass/Ausl\\u00e4nder/in\",\"WBev nach Quartier, Herkunft und Geschlecht/Weinegg/Ausl\\u00e4nder/in\",\"WBev nach Quartier, Herkunft und Geschlecht/Werd/Ausl\\u00e4nder/in\",\"WBev nach Quartier, Herkunft und Geschlecht/Wipkingen/Ausl\\u00e4nder/in\",\"WBev nach Quartier, Herkunft und Geschlecht/Witikon/Ausl\\u00e4nder/in\",\"WBev nach Quartier, Herkunft und Geschlecht/Wollishofen/Ausl\\u00e4nder/in\",\"WBev nach Quartier, Herkunft und Geschlecht/Affoltern/Schweizer/in\",\"WBev nach Quartier, Herkunft und Geschlecht/Albisrieden/Schweizer/in\",\"WBev nach Quartier, Herkunft und Geschlecht/Alt-Wiedikon/Schweizer/in\",\"WBev nach Quartier, Herkunft und Geschlecht/Altstetten/Schweizer/in\",\"WBev nach Quartier, Herkunft und Geschlecht/City/Schweizer/in\",\"WBev nach Quartier, Herkunft und Geschlecht/Enge/Schweizer/in\",\"WBev nach Quartier, Herkunft und Geschlecht/Escher Wyss/Schweizer/in\",\"WBev nach Quartier, Herkunft und Geschlecht/Fluntern/Schweizer/in\",\"WBev nach Quartier, Herkunft und Geschlecht/Friesenberg/Schweizer/in\",\"WBev nach Quartier, Herkunft und Geschlecht/Gewerbeschule/Schweizer/in\",\"WBev nach Quartier, Herkunft und Geschlecht/Hard/Schweizer/in\",\"WBev nach Quartier, Herkunft und Geschlecht/Hirslanden/Schweizer/in\",\"WBev nach Quartier, Herkunft und Geschlecht/Hirzenbach/Schweizer/in\",\"WBev nach Quartier, Herkunft und Geschlecht/Hochschulen/Schweizer/in\",\"WBev nach Quartier, Herkunft und Geschlecht/Hottingen/Schweizer/in\",\"WBev nach Quartier, Herkunft und Geschlecht/H\\u00f6ngg/Schweizer/in\",\"WBev nach Quartier, Herkunft und Geschlecht/Langstrasse/Schweizer/in\",\"WBev nach Quartier, Herkunft und Geschlecht/Leimbach/Schweizer/in\",\"WBev nach Quartier, Herkunft und Geschlecht/Lindenhof/Schweizer/in\",\"WBev nach Quartier, Herkunft und Geschlecht/M\\u00fchlebach/Schweizer/in\",\"WBev nach Quartier, Herkunft und Geschlecht/Oberstrass/Schweizer/in\",\"WBev nach Quartier, Herkunft und Geschlecht/Oerlikon/Schweizer/in\",\"WBev nach Quartier, Herkunft und Geschlecht/Rathaus/Schweizer/in\",\"WBev nach Quartier, Herkunft und Geschlecht/Saatlen/Schweizer/in\",\"WBev nach Quartier, Herkunft und Geschlecht/Schwamendingen-Mitte/Schweizer/in\",\"WBev nach Quartier, Herkunft und Geschlecht/Seebach/Schweizer/in\",\"WBev nach Quartier, Herkunft und Geschlecht/Seefeld/Schweizer/in\",\"WBev nach Quartier, Herkunft und Geschlecht/Sihlfeld/Schweizer/in\",\"WBev nach Quartier, Herkunft und Geschlecht/Unterstrass/Schweizer/in\",\"WBev nach Quartier, Herkunft und Geschlecht/Weinegg/Schweizer/in\",\"WBev nach Quartier, Herkunft und Geschlecht/Werd/Schweizer/in\",\"WBev nach Quartier, Herkunft und Geschlecht/Wipkingen/Schweizer/in\",\"WBev nach Quartier, Herkunft und Geschlecht/Witikon/Schweizer/in\",\"WBev nach Quartier, Herkunft und Geschlecht/Wollishofen/Schweizer/in\",\"WBev nach Quartier, Herkunft und Geschlecht/Affoltern\",\"WBev nach Quartier, Herkunft und Geschlecht/Albisrieden\",\"WBev nach Quartier, Herkunft und Geschlecht/Alt-Wiedikon\",\"WBev nach Quartier, Herkunft und Geschlecht/Altstetten\",\"WBev nach Quartier, Herkunft und Geschlecht/City\",\"WBev nach Quartier, Herkunft und Geschlecht/Enge\",\"WBev nach Quartier, Herkunft und Geschlecht/Escher Wyss\",\"WBev nach Quartier, Herkunft und Geschlecht/Fluntern\",\"WBev nach Quartier, Herkunft und Geschlecht/Friesenberg\",\"WBev nach Quartier, Herkunft und Geschlecht/Gewerbeschule\",\"WBev nach Quartier, Herkunft und Geschlecht/Hard\",\"WBev nach Quartier, Herkunft und Geschlecht/Hirslanden\",\"WBev nach Quartier, Herkunft und Geschlecht/Hirzenbach\",\"WBev nach Quartier, Herkunft und Geschlecht/Hochschulen\",\"WBev nach Quartier, Herkunft und Geschlecht/Hottingen\",\"WBev nach Quartier, Herkunft und Geschlecht/H\\u00f6ngg\",\"WBev nach Quartier, Herkunft und Geschlecht/Langstrasse\",\"WBev nach Quartier, Herkunft und Geschlecht/Leimbach\",\"WBev nach Quartier, Herkunft und Geschlecht/Lindenhof\",\"WBev nach Quartier, Herkunft und Geschlecht/M\\u00fchlebach\",\"WBev nach Quartier, Herkunft und Geschlecht/Oberstrass\",\"WBev nach Quartier, Herkunft und Geschlecht/Oerlikon\",\"WBev nach Quartier, Herkunft und Geschlecht/Rathaus\",\"WBev nach Quartier, Herkunft und Geschlecht/Saatlen\",\"WBev nach Quartier, Herkunft und Geschlecht/Schwamendingen-Mitte\",\"WBev nach Quartier, Herkunft und Geschlecht/Seebach\",\"WBev nach Quartier, Herkunft und Geschlecht/Seefeld\",\"WBev nach Quartier, Herkunft und Geschlecht/Sihlfeld\",\"WBev nach Quartier, Herkunft und Geschlecht/Unterstrass\",\"WBev nach Quartier, Herkunft und Geschlecht/Weinegg\",\"WBev nach Quartier, Herkunft und Geschlecht/Werd\",\"WBev nach Quartier, Herkunft und Geschlecht/Wipkingen\",\"WBev nach Quartier, Herkunft und Geschlecht/Witikon\",\"WBev nach Quartier, Herkunft und Geschlecht/Wollishofen\",\"WBev nach Quartier, Herkunft und Geschlecht/Affoltern\",\"WBev nach Quartier, Herkunft und Geschlecht/Albisrieden\",\"WBev nach Quartier, Herkunft und Geschlecht/Alt-Wiedikon\",\"WBev nach Quartier, Herkunft und Geschlecht/Altstetten\",\"WBev nach Quartier, Herkunft und Geschlecht/City\",\"WBev nach Quartier, Herkunft und Geschlecht/Enge\",\"WBev nach Quartier, Herkunft und Geschlecht/Escher Wyss\",\"WBev nach Quartier, Herkunft und Geschlecht/Fluntern\",\"WBev nach Quartier, Herkunft und Geschlecht/Friesenberg\",\"WBev nach Quartier, Herkunft und Geschlecht/Gewerbeschule\",\"WBev nach Quartier, Herkunft und Geschlecht/Hard\",\"WBev nach Quartier, Herkunft und Geschlecht/Hirslanden\",\"WBev nach Quartier, Herkunft und Geschlecht/Hirzenbach\",\"WBev nach Quartier, Herkunft und Geschlecht/Hochschulen\",\"WBev nach Quartier, Herkunft und Geschlecht/Hottingen\",\"WBev nach Quartier, Herkunft und Geschlecht/H\\u00f6ngg\",\"WBev nach Quartier, Herkunft und Geschlecht/Langstrasse\",\"WBev nach Quartier, Herkunft und Geschlecht/Leimbach\",\"WBev nach Quartier, Herkunft und Geschlecht/Lindenhof\",\"WBev nach Quartier, Herkunft und Geschlecht/M\\u00fchlebach\",\"WBev nach Quartier, Herkunft und Geschlecht/Oberstrass\",\"WBev nach Quartier, Herkunft und Geschlecht/Oerlikon\",\"WBev nach Quartier, Herkunft und Geschlecht/Rathaus\",\"WBev nach Quartier, Herkunft und Geschlecht/Saatlen\",\"WBev nach Quartier, Herkunft und Geschlecht/Schwamendingen-Mitte\",\"WBev nach Quartier, Herkunft und Geschlecht/Seebach\",\"WBev nach Quartier, Herkunft und Geschlecht/Seefeld\",\"WBev nach Quartier, Herkunft und Geschlecht/Sihlfeld\",\"WBev nach Quartier, Herkunft und Geschlecht/Unterstrass\",\"WBev nach Quartier, Herkunft und Geschlecht/Weinegg\",\"WBev nach Quartier, Herkunft und Geschlecht/Werd\",\"WBev nach Quartier, Herkunft und Geschlecht/Wipkingen\",\"WBev nach Quartier, Herkunft und Geschlecht/Witikon\",\"WBev nach Quartier, Herkunft und Geschlecht/Wollishofen\",\"WBev nach Quartier, Herkunft und Geschlecht\",\"WBev nach Quartier, Herkunft und Geschlecht\",\"WBev nach Quartier, Herkunft und Geschlecht\",\"WBev nach Quartier, Herkunft und Geschlecht\",\"WBev nach Quartier, Herkunft und Geschlecht\",\"WBev nach Quartier, Herkunft und Geschlecht\",\"WBev nach Quartier, Herkunft und Geschlecht\",\"WBev nach Quartier, Herkunft und Geschlecht\",\"WBev nach Quartier, Herkunft und Geschlecht\",\"WBev nach Quartier, Herkunft und Geschlecht\",\"WBev nach Quartier, Herkunft und Geschlecht\",\"WBev nach Quartier, Herkunft und Geschlecht\",\"WBev nach Quartier, Herkunft und Geschlecht\",\"WBev nach Quartier, Herkunft und Geschlecht\",\"WBev nach Quartier, Herkunft und Geschlecht\",\"WBev nach Quartier, Herkunft und Geschlecht\",\"WBev nach Quartier, Herkunft und Geschlecht\",\"WBev nach Quartier, Herkunft und Geschlecht\",\"WBev nach Quartier, Herkunft und Geschlecht\",\"WBev nach Quartier, Herkunft und Geschlecht\",\"WBev nach Quartier, Herkunft und Geschlecht\",\"WBev nach Quartier, Herkunft und Geschlecht\",\"WBev nach Quartier, Herkunft und Geschlecht\",\"WBev nach Quartier, Herkunft und Geschlecht\",\"WBev nach Quartier, Herkunft und Geschlecht\",\"WBev nach Quartier, Herkunft und Geschlecht\",\"WBev nach Quartier, Herkunft und Geschlecht\",\"WBev nach Quartier, Herkunft und Geschlecht\",\"WBev nach Quartier, Herkunft und Geschlecht\",\"WBev nach Quartier, Herkunft und Geschlecht\",\"WBev nach Quartier, Herkunft und Geschlecht\",\"WBev nach Quartier, Herkunft und Geschlecht\",\"WBev nach Quartier, Herkunft und Geschlecht\",\"WBev nach Quartier, Herkunft und Geschlecht\",\"\"],\"root\":{\"color\":\"grey\"},\"type\":\"treemap\",\"values\":[4600,3138,3283,6680,138,1853,1125,1304,1046,1756,2425,987,2401,120,1697,3347,2658,1038,153,1157,1681,4911,585,1250,2548,5531,1103,3682,3612,990,846,2368,1519,3016,8665,7882,5806,10757,304,2967,2294,2837,4315,3405,4015,2470,3965,216,3789,8689,4085,2012,358,1938,3607,7247,1230,3063,3007,7952,1491,7189,8457,1746,1533,5786,3669,6463,4073,2737,2774,5588,124,1698,886,1310,985,1245,2045,977,2134,91,1618,2809,1819,989,142,1099,1548,4080,436,1166,2219,4656,1134,3121,3198,892,697,2110,1530,2925,9246,8607,5901,11073,263,3137,1893,3234,4725,3018,4069,2962,4463,248,4200,9594,3348,2101,357,2220,3988,7310,1066,3320,3309,7917,1752,7929,9226,1934,1494,6341,4526,7353,8673,5875,6057,12268,262,3551,2011,2614,2031,3001,4470,1964,4535,211,3315,6156,4477,2027,295,2256,3229,8991,1021,2416,4767,10187,2237,6803,6810,1882,1543,4478,3049,5941,17911,16489,11707,21830,567,6104,4187,6071,9040,6423,8084,5432,8428,464,7989,18283,7433,4113,715,4158,7595,14557,2296,6383,6316,15869,3243,15118,17683,3680,3027,12127,8195,13816,26584,22364,17764,34098,829,9655,6198,8685,11071,9424,12554,7396,12963,675,11304,24439,11910,6140,1010,6414,10824,23548,3317,8799,11083,26056,5480,21921,24493,5562,4570,16605,11244,19757,434736]}],                        {\"coloraxis\":{\"colorbar\":{\"title\":{\"text\":\"sum_WBev\"}},\"colorscale\":[[0.0,\"rgb(247,251,255)\"],[0.125,\"rgb(222,235,247)\"],[0.25,\"rgb(198,219,239)\"],[0.375,\"rgb(158,202,225)\"],[0.5,\"rgb(107,174,214)\"],[0.625,\"rgb(66,146,198)\"],[0.75,\"rgb(33,113,181)\"],[0.875,\"rgb(8,81,156)\"],[1.0,\"rgb(8,48,107)\"]]},\"height\":400,\"legend\":{\"tracegroupgap\":0},\"margin\":{\"b\":25,\"l\":25,\"r\":250,\"t\":50},\"template\":{\"data\":{\"bar\":[{\"error_x\":{\"color\":\"#2a3f5f\"},\"error_y\":{\"color\":\"#2a3f5f\"},\"marker\":{\"line\":{\"color\":\"#E5ECF6\",\"width\":0.5},\"pattern\":{\"fillmode\":\"overlay\",\"size\":10,\"solidity\":0.2}},\"type\":\"bar\"}],\"barpolar\":[{\"marker\":{\"line\":{\"color\":\"#E5ECF6\",\"width\":0.5},\"pattern\":{\"fillmode\":\"overlay\",\"size\":10,\"solidity\":0.2}},\"type\":\"barpolar\"}],\"carpet\":[{\"aaxis\":{\"endlinecolor\":\"#2a3f5f\",\"gridcolor\":\"white\",\"linecolor\":\"white\",\"minorgridcolor\":\"white\",\"startlinecolor\":\"#2a3f5f\"},\"baxis\":{\"endlinecolor\":\"#2a3f5f\",\"gridcolor\":\"white\",\"linecolor\":\"white\",\"minorgridcolor\":\"white\",\"startlinecolor\":\"#2a3f5f\"},\"type\":\"carpet\"}],\"choropleth\":[{\"colorbar\":{\"outlinewidth\":0,\"ticks\":\"\"},\"type\":\"choropleth\"}],\"contour\":[{\"colorbar\":{\"outlinewidth\":0,\"ticks\":\"\"},\"colorscale\":[[0.0,\"#0d0887\"],[0.1111111111111111,\"#46039f\"],[0.2222222222222222,\"#7201a8\"],[0.3333333333333333,\"#9c179e\"],[0.4444444444444444,\"#bd3786\"],[0.5555555555555556,\"#d8576b\"],[0.6666666666666666,\"#ed7953\"],[0.7777777777777778,\"#fb9f3a\"],[0.8888888888888888,\"#fdca26\"],[1.0,\"#f0f921\"]],\"type\":\"contour\"}],\"contourcarpet\":[{\"colorbar\":{\"outlinewidth\":0,\"ticks\":\"\"},\"type\":\"contourcarpet\"}],\"heatmap\":[{\"colorbar\":{\"outlinewidth\":0,\"ticks\":\"\"},\"colorscale\":[[0.0,\"#0d0887\"],[0.1111111111111111,\"#46039f\"],[0.2222222222222222,\"#7201a8\"],[0.3333333333333333,\"#9c179e\"],[0.4444444444444444,\"#bd3786\"],[0.5555555555555556,\"#d8576b\"],[0.6666666666666666,\"#ed7953\"],[0.7777777777777778,\"#fb9f3a\"],[0.8888888888888888,\"#fdca26\"],[1.0,\"#f0f921\"]],\"type\":\"heatmap\"}],\"heatmapgl\":[{\"colorbar\":{\"outlinewidth\":0,\"ticks\":\"\"},\"colorscale\":[[0.0,\"#0d0887\"],[0.1111111111111111,\"#46039f\"],[0.2222222222222222,\"#7201a8\"],[0.3333333333333333,\"#9c179e\"],[0.4444444444444444,\"#bd3786\"],[0.5555555555555556,\"#d8576b\"],[0.6666666666666666,\"#ed7953\"],[0.7777777777777778,\"#fb9f3a\"],[0.8888888888888888,\"#fdca26\"],[1.0,\"#f0f921\"]],\"type\":\"heatmapgl\"}],\"histogram\":[{\"marker\":{\"pattern\":{\"fillmode\":\"overlay\",\"size\":10,\"solidity\":0.2}},\"type\":\"histogram\"}],\"histogram2d\":[{\"colorbar\":{\"outlinewidth\":0,\"ticks\":\"\"},\"colorscale\":[[0.0,\"#0d0887\"],[0.1111111111111111,\"#46039f\"],[0.2222222222222222,\"#7201a8\"],[0.3333333333333333,\"#9c179e\"],[0.4444444444444444,\"#bd3786\"],[0.5555555555555556,\"#d8576b\"],[0.6666666666666666,\"#ed7953\"],[0.7777777777777778,\"#fb9f3a\"],[0.8888888888888888,\"#fdca26\"],[1.0,\"#f0f921\"]],\"type\":\"histogram2d\"}],\"histogram2dcontour\":[{\"colorbar\":{\"outlinewidth\":0,\"ticks\":\"\"},\"colorscale\":[[0.0,\"#0d0887\"],[0.1111111111111111,\"#46039f\"],[0.2222222222222222,\"#7201a8\"],[0.3333333333333333,\"#9c179e\"],[0.4444444444444444,\"#bd3786\"],[0.5555555555555556,\"#d8576b\"],[0.6666666666666666,\"#ed7953\"],[0.7777777777777778,\"#fb9f3a\"],[0.8888888888888888,\"#fdca26\"],[1.0,\"#f0f921\"]],\"type\":\"histogram2dcontour\"}],\"mesh3d\":[{\"colorbar\":{\"outlinewidth\":0,\"ticks\":\"\"},\"type\":\"mesh3d\"}],\"parcoords\":[{\"line\":{\"colorbar\":{\"outlinewidth\":0,\"ticks\":\"\"}},\"type\":\"parcoords\"}],\"pie\":[{\"automargin\":true,\"type\":\"pie\"}],\"scatter\":[{\"marker\":{\"colorbar\":{\"outlinewidth\":0,\"ticks\":\"\"}},\"type\":\"scatter\"}],\"scatter3d\":[{\"line\":{\"colorbar\":{\"outlinewidth\":0,\"ticks\":\"\"}},\"marker\":{\"colorbar\":{\"outlinewidth\":0,\"ticks\":\"\"}},\"type\":\"scatter3d\"}],\"scattercarpet\":[{\"marker\":{\"colorbar\":{\"outlinewidth\":0,\"ticks\":\"\"}},\"type\":\"scattercarpet\"}],\"scattergeo\":[{\"marker\":{\"colorbar\":{\"outlinewidth\":0,\"ticks\":\"\"}},\"type\":\"scattergeo\"}],\"scattergl\":[{\"marker\":{\"colorbar\":{\"outlinewidth\":0,\"ticks\":\"\"}},\"type\":\"scattergl\"}],\"scattermapbox\":[{\"marker\":{\"colorbar\":{\"outlinewidth\":0,\"ticks\":\"\"}},\"type\":\"scattermapbox\"}],\"scatterpolar\":[{\"marker\":{\"colorbar\":{\"outlinewidth\":0,\"ticks\":\"\"}},\"type\":\"scatterpolar\"}],\"scatterpolargl\":[{\"marker\":{\"colorbar\":{\"outlinewidth\":0,\"ticks\":\"\"}},\"type\":\"scatterpolargl\"}],\"scatterternary\":[{\"marker\":{\"colorbar\":{\"outlinewidth\":0,\"ticks\":\"\"}},\"type\":\"scatterternary\"}],\"surface\":[{\"colorbar\":{\"outlinewidth\":0,\"ticks\":\"\"},\"colorscale\":[[0.0,\"#0d0887\"],[0.1111111111111111,\"#46039f\"],[0.2222222222222222,\"#7201a8\"],[0.3333333333333333,\"#9c179e\"],[0.4444444444444444,\"#bd3786\"],[0.5555555555555556,\"#d8576b\"],[0.6666666666666666,\"#ed7953\"],[0.7777777777777778,\"#fb9f3a\"],[0.8888888888888888,\"#fdca26\"],[1.0,\"#f0f921\"]],\"type\":\"surface\"}],\"table\":[{\"cells\":{\"fill\":{\"color\":\"#EBF0F8\"},\"line\":{\"color\":\"white\"}},\"header\":{\"fill\":{\"color\":\"#C8D4E3\"},\"line\":{\"color\":\"white\"}},\"type\":\"table\"}]},\"layout\":{\"annotationdefaults\":{\"arrowcolor\":\"#2a3f5f\",\"arrowhead\":0,\"arrowwidth\":1},\"autotypenumbers\":\"strict\",\"coloraxis\":{\"colorbar\":{\"outlinewidth\":0,\"ticks\":\"\"}},\"colorscale\":{\"diverging\":[[0,\"#8e0152\"],[0.1,\"#c51b7d\"],[0.2,\"#de77ae\"],[0.3,\"#f1b6da\"],[0.4,\"#fde0ef\"],[0.5,\"#f7f7f7\"],[0.6,\"#e6f5d0\"],[0.7,\"#b8e186\"],[0.8,\"#7fbc41\"],[0.9,\"#4d9221\"],[1,\"#276419\"]],\"sequential\":[[0.0,\"#0d0887\"],[0.1111111111111111,\"#46039f\"],[0.2222222222222222,\"#7201a8\"],[0.3333333333333333,\"#9c179e\"],[0.4444444444444444,\"#bd3786\"],[0.5555555555555556,\"#d8576b\"],[0.6666666666666666,\"#ed7953\"],[0.7777777777777778,\"#fb9f3a\"],[0.8888888888888888,\"#fdca26\"],[1.0,\"#f0f921\"]],\"sequentialminus\":[[0.0,\"#0d0887\"],[0.1111111111111111,\"#46039f\"],[0.2222222222222222,\"#7201a8\"],[0.3333333333333333,\"#9c179e\"],[0.4444444444444444,\"#bd3786\"],[0.5555555555555556,\"#d8576b\"],[0.6666666666666666,\"#ed7953\"],[0.7777777777777778,\"#fb9f3a\"],[0.8888888888888888,\"#fdca26\"],[1.0,\"#f0f921\"]]},\"colorway\":[\"#636efa\",\"#EF553B\",\"#00cc96\",\"#ab63fa\",\"#FFA15A\",\"#19d3f3\",\"#FF6692\",\"#B6E880\",\"#FF97FF\",\"#FECB52\"],\"font\":{\"color\":\"#2a3f5f\"},\"geo\":{\"bgcolor\":\"white\",\"lakecolor\":\"white\",\"landcolor\":\"#E5ECF6\",\"showlakes\":true,\"showland\":true,\"subunitcolor\":\"white\"},\"hoverlabel\":{\"align\":\"left\"},\"hovermode\":\"closest\",\"mapbox\":{\"style\":\"light\"},\"paper_bgcolor\":\"white\",\"plot_bgcolor\":\"#E5ECF6\",\"polar\":{\"angularaxis\":{\"gridcolor\":\"white\",\"linecolor\":\"white\",\"ticks\":\"\"},\"bgcolor\":\"#E5ECF6\",\"radialaxis\":{\"gridcolor\":\"white\",\"linecolor\":\"white\",\"ticks\":\"\"}},\"scene\":{\"xaxis\":{\"backgroundcolor\":\"#E5ECF6\",\"gridcolor\":\"white\",\"gridwidth\":2,\"linecolor\":\"white\",\"showbackground\":true,\"ticks\":\"\",\"zerolinecolor\":\"white\"},\"yaxis\":{\"backgroundcolor\":\"#E5ECF6\",\"gridcolor\":\"white\",\"gridwidth\":2,\"linecolor\":\"white\",\"showbackground\":true,\"ticks\":\"\",\"zerolinecolor\":\"white\"},\"zaxis\":{\"backgroundcolor\":\"#E5ECF6\",\"gridcolor\":\"white\",\"gridwidth\":2,\"linecolor\":\"white\",\"showbackground\":true,\"ticks\":\"\",\"zerolinecolor\":\"white\"}},\"shapedefaults\":{\"line\":{\"color\":\"#2a3f5f\"}},\"ternary\":{\"aaxis\":{\"gridcolor\":\"white\",\"linecolor\":\"white\",\"ticks\":\"\"},\"baxis\":{\"gridcolor\":\"white\",\"linecolor\":\"white\",\"ticks\":\"\"},\"bgcolor\":\"#E5ECF6\",\"caxis\":{\"gridcolor\":\"white\",\"linecolor\":\"white\",\"ticks\":\"\"}},\"title\":{\"x\":0.05},\"xaxis\":{\"automargin\":true,\"gridcolor\":\"white\",\"linecolor\":\"white\",\"ticks\":\"\",\"title\":{\"standoff\":15},\"zerolinecolor\":\"white\",\"zerolinewidth\":2},\"yaxis\":{\"automargin\":true,\"gridcolor\":\"white\",\"linecolor\":\"white\",\"ticks\":\"\",\"title\":{\"standoff\":15},\"zerolinecolor\":\"white\",\"zerolinewidth\":2}}},\"width\":1100},                        {\"responsive\": true}                    ).then(function(){\n",
       "                            \n",
       "var gd = document.getElementById('ce623f60-758a-4c3b-bce7-731ea4184804');\n",
       "var x = new MutationObserver(function (mutations, observer) {{\n",
       "        var display = window.getComputedStyle(gd).display;\n",
       "        if (!display || display === 'none') {{\n",
       "            console.log([gd, 'removed!']);\n",
       "            Plotly.purge(gd);\n",
       "            observer.disconnect();\n",
       "        }}\n",
       "}});\n",
       "\n",
       "// Listen for the removal of the full notebook cells\n",
       "var notebookContainer = gd.closest('#notebook-container');\n",
       "if (notebookContainer) {{\n",
       "    x.observe(notebookContainer, {childList: true});\n",
       "}}\n",
       "\n",
       "// Listen for the clearing of the current output cell\n",
       "var outputEl = gd.closest('.output');\n",
       "if (outputEl) {{\n",
       "    x.observe(outputEl, {childList: true});\n",
       "}}\n",
       "\n",
       "                        })                };                });            </script>        </div>"
      ]
     },
     "metadata": {},
     "output_type": "display_data"
    }
   ],
   "source": [
    "fig = px.treemap(myTreemapAgg.reset_index(), path=[px.Constant(\"WBev nach Quartier, Herkunft und Geschlecht\"), 'QuarLang', 'HerkunftLang', 'SexKurz']\n",
    "                 , values='sum_WBev'\n",
    "                 , color='sum_WBev'\n",
    "                 ## bei discrete scales (bei Klassen und Strings):                 \n",
    "                 #, color_discrete_map={'(?)':'lightgrey','EVP':'gold', 'SP':'#FF3030', 'PdA':'#EE3B3B', 'Grüne':'#A2CD5A','GLP':'#CAFF70','Die Mitte':'orange','FDP':'#104E8B','AL':'deeppink','SVP':'forestgreen', 'FL ZÜRI':'#8B864E','Volt':'#lightblue' }                \n",
    "                 ## bei continuous scales (bei Zahlenwerten):\n",
    "                , color_continuous_scale='Blues'\n",
    "                #, color_continuous_midpoint=np.average(df['AnzBestWir'], weights=df['AnzBestWir'])  \n",
    "                 ,height=400\n",
    "                 ,width=1100                 \n",
    "                )\n",
    "fig.update_traces(root_color=\"grey\")\n",
    "fig.update_layout(margin = dict(t=50, l=25, r=250, b=25))\n",
    "fig.show()"
   ]
  },
  {
   "cell_type": "markdown",
   "metadata": {},
   "source": [
    "#### Aktueller Bestand der WBev nach Quartier und Herkunft"
   ]
  },
  {
   "cell_type": "code",
   "execution_count": 90,
   "metadata": {},
   "outputs": [
    {
     "data": {
      "text/html": [
       "<div>\n",
       "<style scoped>\n",
       "    .dataframe tbody tr th:only-of-type {\n",
       "        vertical-align: middle;\n",
       "    }\n",
       "\n",
       "    .dataframe tbody tr th {\n",
       "        vertical-align: top;\n",
       "    }\n",
       "\n",
       "    .dataframe thead th {\n",
       "        text-align: right;\n",
       "    }\n",
       "</style>\n",
       "<table border=\"1\" class=\"dataframe\">\n",
       "  <thead>\n",
       "    <tr style=\"text-align: right;\">\n",
       "      <th></th>\n",
       "      <th>StichtagDatJahr</th>\n",
       "      <th>QuarLang</th>\n",
       "      <th>HerkunftLang</th>\n",
       "      <th>sum_WBev</th>\n",
       "    </tr>\n",
       "  </thead>\n",
       "  <tbody>\n",
       "    <tr>\n",
       "      <th>0</th>\n",
       "      <td>2020-01-01</td>\n",
       "      <td>Hochschulen</td>\n",
       "      <td>Ausländer/in</td>\n",
       "      <td>211</td>\n",
       "    </tr>\n",
       "    <tr>\n",
       "      <th>1</th>\n",
       "      <td>2020-01-01</td>\n",
       "      <td>City</td>\n",
       "      <td>Ausländer/in</td>\n",
       "      <td>262</td>\n",
       "    </tr>\n",
       "    <tr>\n",
       "      <th>2</th>\n",
       "      <td>2020-01-01</td>\n",
       "      <td>Lindenhof</td>\n",
       "      <td>Ausländer/in</td>\n",
       "      <td>295</td>\n",
       "    </tr>\n",
       "  </tbody>\n",
       "</table>\n",
       "</div>"
      ],
      "text/plain": [
       "  StichtagDatJahr     QuarLang  HerkunftLang  sum_WBev\n",
       "0      2020-01-01  Hochschulen  Ausländer/in       211\n",
       "1      2020-01-01         City  Ausländer/in       262\n",
       "2      2020-01-01    Lindenhof  Ausländer/in       295"
      ]
     },
     "execution_count": 90,
     "metadata": {},
     "output_type": "execute_result"
    }
   ],
   "source": [
    "myTreemapAgg = data2betested.loc[\"2020\"]  \\\n",
    "    .groupby(['StichtagDatJahr', 'QuarLang', 'HerkunftLang']) \\\n",
    "    .agg(sum_WBev=('AnzBestWir', 'sum')) \\\n",
    "    .sort_values('sum_WBev', ascending=True) \n",
    "\n",
    "myTreemapAgg.reset_index().head(3)"
   ]
  },
  {
   "cell_type": "code",
   "execution_count": 91,
   "metadata": {},
   "outputs": [
    {
     "data": {
      "application/vnd.plotly.v1+json": {
       "config": {
        "plotlyServerURL": "https://plot.ly"
       },
       "data": [
        {
         "branchvalues": "total",
         "customdata": [
          [
           "Ausländer/in"
          ],
          [
           "Ausländer/in"
          ],
          [
           "Ausländer/in"
          ],
          [
           "Ausländer/in"
          ],
          [
           "Ausländer/in"
          ],
          [
           "Ausländer/in"
          ],
          [
           "Ausländer/in"
          ],
          [
           "Schweizer/in"
          ],
          [
           "Ausländer/in"
          ],
          [
           "Schweizer/in"
          ],
          [
           "Schweizer/in"
          ],
          [
           "Schweizer/in"
          ],
          [
           "Schweizer/in"
          ],
          [
           "Schweizer/in"
          ],
          [
           "Schweizer/in"
          ],
          [
           "Schweizer/in"
          ],
          [
           "Schweizer/in"
          ],
          [
           "Schweizer/in"
          ],
          [
           "Ausländer/in"
          ],
          [
           "Ausländer/in"
          ],
          [
           "Ausländer/in"
          ],
          [
           "Ausländer/in"
          ],
          [
           "Ausländer/in"
          ],
          [
           "Ausländer/in"
          ],
          [
           "Ausländer/in"
          ],
          [
           "Ausländer/in"
          ],
          [
           "Ausländer/in"
          ],
          [
           "Ausländer/in"
          ],
          [
           "Ausländer/in"
          ],
          [
           "Ausländer/in"
          ],
          [
           "Ausländer/in"
          ],
          [
           "Ausländer/in"
          ],
          [
           "Ausländer/in"
          ],
          [
           "Ausländer/in"
          ],
          [
           "Schweizer/in"
          ],
          [
           "Schweizer/in"
          ],
          [
           "Ausländer/in"
          ],
          [
           "Ausländer/in"
          ],
          [
           "Schweizer/in"
          ],
          [
           "Schweizer/in"
          ],
          [
           "Schweizer/in"
          ],
          [
           "Schweizer/in"
          ],
          [
           "Schweizer/in"
          ],
          [
           "Schweizer/in"
          ],
          [
           "Schweizer/in"
          ],
          [
           "Schweizer/in"
          ],
          [
           "Schweizer/in"
          ],
          [
           "Schweizer/in"
          ],
          [
           "Schweizer/in"
          ],
          [
           "Schweizer/in"
          ],
          [
           "Schweizer/in"
          ],
          [
           "Ausländer/in"
          ],
          [
           "Ausländer/in"
          ],
          [
           "Ausländer/in"
          ],
          [
           "Ausländer/in"
          ],
          [
           "Ausländer/in"
          ],
          [
           "Ausländer/in"
          ],
          [
           "Schweizer/in"
          ],
          [
           "Schweizer/in"
          ],
          [
           "Schweizer/in"
          ],
          [
           "Schweizer/in"
          ],
          [
           "Schweizer/in"
          ],
          [
           "Schweizer/in"
          ],
          [
           "Ausländer/in"
          ],
          [
           "Ausländer/in"
          ],
          [
           "Schweizer/in"
          ],
          [
           "Schweizer/in"
          ],
          [
           "Schweizer/in"
          ],
          [
           "(?)"
          ],
          [
           "(?)"
          ],
          [
           "(?)"
          ],
          [
           "(?)"
          ],
          [
           "(?)"
          ],
          [
           "(?)"
          ],
          [
           "(?)"
          ],
          [
           "(?)"
          ],
          [
           "(?)"
          ],
          [
           "(?)"
          ],
          [
           "(?)"
          ],
          [
           "(?)"
          ],
          [
           "(?)"
          ],
          [
           "(?)"
          ],
          [
           "(?)"
          ],
          [
           "(?)"
          ],
          [
           "(?)"
          ],
          [
           "(?)"
          ],
          [
           "(?)"
          ],
          [
           "(?)"
          ],
          [
           "(?)"
          ],
          [
           "(?)"
          ],
          [
           "(?)"
          ],
          [
           "(?)"
          ],
          [
           "(?)"
          ],
          [
           "(?)"
          ],
          [
           "(?)"
          ],
          [
           "(?)"
          ],
          [
           "(?)"
          ],
          [
           "(?)"
          ],
          [
           "(?)"
          ],
          [
           "(?)"
          ],
          [
           "(?)"
          ],
          [
           "(?)"
          ],
          [
           "(?)"
          ],
          [
           "(?)"
          ]
         ],
         "domain": {
          "x": [
           0,
           1
          ],
          "y": [
           0,
           1
          ]
         },
         "hovertemplate": "labels=%{label}<br>sum_WBev=%{value}<br>parent=%{parent}<br>id=%{id}<br>HerkunftLang=%{customdata[0]}<extra></extra>",
         "ids": [
          "Wohnbevölkerung nach /2020-01-01/Affoltern/Ausländer/in",
          "Wohnbevölkerung nach /2020-01-01/Saatlen/Ausländer/in",
          "Wohnbevölkerung nach /2020-01-01/Schwamendingen-Mitte/Ausländer/in",
          "Wohnbevölkerung nach /2020-01-01/Weinegg/Ausländer/in",
          "Wohnbevölkerung nach /2020-01-01/Werd/Ausländer/in",
          "Wohnbevölkerung nach /2020-01-01/Wipkingen/Ausländer/in",
          "Wohnbevölkerung nach /2020-01-01/Witikon/Ausländer/in",
          "Wohnbevölkerung nach /2020-01-01/Albisrieden/Schweizer/in",
          "Wohnbevölkerung nach /2020-01-01/Oerlikon/Ausländer/in",
          "Wohnbevölkerung nach /2020-01-01/Alt-Wiedikon/Schweizer/in",
          "Wohnbevölkerung nach /2020-01-01/Escher Wyss/Schweizer/in",
          "Wohnbevölkerung nach /2020-01-01/Hard/Schweizer/in",
          "Wohnbevölkerung nach /2020-01-01/Hirslanden/Schweizer/in",
          "Wohnbevölkerung nach /2020-01-01/Lindenhof/Schweizer/in",
          "Wohnbevölkerung nach /2020-01-01/Mühlebach/Schweizer/in",
          "Wohnbevölkerung nach /2020-01-01/Oerlikon/Schweizer/in",
          "Wohnbevölkerung nach /2020-01-01/Schwamendingen-Mitte/Schweizer/in",
          "Wohnbevölkerung nach /2020-01-01/Altstetten/Schweizer/in",
          "Wohnbevölkerung nach /2020-01-01/Oberstrass/Ausländer/in",
          "Wohnbevölkerung nach /2020-01-01/Wollishofen/Ausländer/in",
          "Wohnbevölkerung nach /2020-01-01/Lindenhof/Ausländer/in",
          "Wohnbevölkerung nach /2020-01-01/Escher Wyss/Ausländer/in",
          "Wohnbevölkerung nach /2020-01-01/Alt-Wiedikon/Ausländer/in",
          "Wohnbevölkerung nach /2020-01-01/Fluntern/Ausländer/in",
          "Wohnbevölkerung nach /2020-01-01/Friesenberg/Ausländer/in",
          "Wohnbevölkerung nach /2020-01-01/Gewerbeschule/Ausländer/in",
          "Wohnbevölkerung nach /2020-01-01/Hard/Ausländer/in",
          "Wohnbevölkerung nach /2020-01-01/Hirslanden/Ausländer/in",
          "Wohnbevölkerung nach /2020-01-01/Hirzenbach/Ausländer/in",
          "Wohnbevölkerung nach /2020-01-01/Hochschulen/Ausländer/in",
          "Wohnbevölkerung nach /2020-01-01/Albisrieden/Ausländer/in",
          "Wohnbevölkerung nach /2020-01-01/Leimbach/Ausländer/in",
          "Wohnbevölkerung nach /2020-01-01/Langstrasse/Ausländer/in",
          "Wohnbevölkerung nach /2020-01-01/Hottingen/Ausländer/in",
          "Wohnbevölkerung nach /2020-01-01/Seefeld/Schweizer/in",
          "Wohnbevölkerung nach /2020-01-01/Leimbach/Schweizer/in",
          "Wohnbevölkerung nach /2020-01-01/City/Ausländer/in",
          "Wohnbevölkerung nach /2020-01-01/Altstetten/Ausländer/in",
          "Wohnbevölkerung nach /2020-01-01/Oberstrass/Schweizer/in",
          "Wohnbevölkerung nach /2020-01-01/Wipkingen/Schweizer/in",
          "Wohnbevölkerung nach /2020-01-01/Rathaus/Schweizer/in",
          "Wohnbevölkerung nach /2020-01-01/Werd/Schweizer/in",
          "Wohnbevölkerung nach /2020-01-01/Weinegg/Schweizer/in",
          "Wohnbevölkerung nach /2020-01-01/Unterstrass/Schweizer/in",
          "Wohnbevölkerung nach /2020-01-01/Langstrasse/Schweizer/in",
          "Wohnbevölkerung nach /2020-01-01/Seebach/Schweizer/in",
          "Wohnbevölkerung nach /2020-01-01/Sihlfeld/Schweizer/in",
          "Wohnbevölkerung nach /2020-01-01/Saatlen/Schweizer/in",
          "Wohnbevölkerung nach /2020-01-01/Höngg/Schweizer/in",
          "Wohnbevölkerung nach /2020-01-01/Gewerbeschule/Schweizer/in",
          "Wohnbevölkerung nach /2020-01-01/Hochschulen/Schweizer/in",
          "Wohnbevölkerung nach /2020-01-01/Rathaus/Ausländer/in",
          "Wohnbevölkerung nach /2020-01-01/Höngg/Ausländer/in",
          "Wohnbevölkerung nach /2020-01-01/Seebach/Ausländer/in",
          "Wohnbevölkerung nach /2020-01-01/Seefeld/Ausländer/in",
          "Wohnbevölkerung nach /2020-01-01/Sihlfeld/Ausländer/in",
          "Wohnbevölkerung nach /2020-01-01/Unterstrass/Ausländer/in",
          "Wohnbevölkerung nach /2020-01-01/Witikon/Schweizer/in",
          "Wohnbevölkerung nach /2020-01-01/Affoltern/Schweizer/in",
          "Wohnbevölkerung nach /2020-01-01/City/Schweizer/in",
          "Wohnbevölkerung nach /2020-01-01/Enge/Schweizer/in",
          "Wohnbevölkerung nach /2020-01-01/Fluntern/Schweizer/in",
          "Wohnbevölkerung nach /2020-01-01/Friesenberg/Schweizer/in",
          "Wohnbevölkerung nach /2020-01-01/Mühlebach/Ausländer/in",
          "Wohnbevölkerung nach /2020-01-01/Enge/Ausländer/in",
          "Wohnbevölkerung nach /2020-01-01/Hirzenbach/Schweizer/in",
          "Wohnbevölkerung nach /2020-01-01/Hottingen/Schweizer/in",
          "Wohnbevölkerung nach /2020-01-01/Wollishofen/Schweizer/in",
          "Wohnbevölkerung nach /2020-01-01/Affoltern",
          "Wohnbevölkerung nach /2020-01-01/Albisrieden",
          "Wohnbevölkerung nach /2020-01-01/Alt-Wiedikon",
          "Wohnbevölkerung nach /2020-01-01/Altstetten",
          "Wohnbevölkerung nach /2020-01-01/City",
          "Wohnbevölkerung nach /2020-01-01/Enge",
          "Wohnbevölkerung nach /2020-01-01/Escher Wyss",
          "Wohnbevölkerung nach /2020-01-01/Fluntern",
          "Wohnbevölkerung nach /2020-01-01/Friesenberg",
          "Wohnbevölkerung nach /2020-01-01/Gewerbeschule",
          "Wohnbevölkerung nach /2020-01-01/Hard",
          "Wohnbevölkerung nach /2020-01-01/Hirslanden",
          "Wohnbevölkerung nach /2020-01-01/Hirzenbach",
          "Wohnbevölkerung nach /2020-01-01/Hochschulen",
          "Wohnbevölkerung nach /2020-01-01/Hottingen",
          "Wohnbevölkerung nach /2020-01-01/Höngg",
          "Wohnbevölkerung nach /2020-01-01/Langstrasse",
          "Wohnbevölkerung nach /2020-01-01/Leimbach",
          "Wohnbevölkerung nach /2020-01-01/Lindenhof",
          "Wohnbevölkerung nach /2020-01-01/Mühlebach",
          "Wohnbevölkerung nach /2020-01-01/Oberstrass",
          "Wohnbevölkerung nach /2020-01-01/Oerlikon",
          "Wohnbevölkerung nach /2020-01-01/Rathaus",
          "Wohnbevölkerung nach /2020-01-01/Saatlen",
          "Wohnbevölkerung nach /2020-01-01/Schwamendingen-Mitte",
          "Wohnbevölkerung nach /2020-01-01/Seebach",
          "Wohnbevölkerung nach /2020-01-01/Seefeld",
          "Wohnbevölkerung nach /2020-01-01/Sihlfeld",
          "Wohnbevölkerung nach /2020-01-01/Unterstrass",
          "Wohnbevölkerung nach /2020-01-01/Weinegg",
          "Wohnbevölkerung nach /2020-01-01/Werd",
          "Wohnbevölkerung nach /2020-01-01/Wipkingen",
          "Wohnbevölkerung nach /2020-01-01/Witikon",
          "Wohnbevölkerung nach /2020-01-01/Wollishofen",
          "Wohnbevölkerung nach /2020-01-01",
          "Wohnbevölkerung nach "
         ],
         "labels": [
          "Ausländer/in",
          "Ausländer/in",
          "Ausländer/in",
          "Ausländer/in",
          "Ausländer/in",
          "Ausländer/in",
          "Ausländer/in",
          "Schweizer/in",
          "Ausländer/in",
          "Schweizer/in",
          "Schweizer/in",
          "Schweizer/in",
          "Schweizer/in",
          "Schweizer/in",
          "Schweizer/in",
          "Schweizer/in",
          "Schweizer/in",
          "Schweizer/in",
          "Ausländer/in",
          "Ausländer/in",
          "Ausländer/in",
          "Ausländer/in",
          "Ausländer/in",
          "Ausländer/in",
          "Ausländer/in",
          "Ausländer/in",
          "Ausländer/in",
          "Ausländer/in",
          "Ausländer/in",
          "Ausländer/in",
          "Ausländer/in",
          "Ausländer/in",
          "Ausländer/in",
          "Ausländer/in",
          "Schweizer/in",
          "Schweizer/in",
          "Ausländer/in",
          "Ausländer/in",
          "Schweizer/in",
          "Schweizer/in",
          "Schweizer/in",
          "Schweizer/in",
          "Schweizer/in",
          "Schweizer/in",
          "Schweizer/in",
          "Schweizer/in",
          "Schweizer/in",
          "Schweizer/in",
          "Schweizer/in",
          "Schweizer/in",
          "Schweizer/in",
          "Ausländer/in",
          "Ausländer/in",
          "Ausländer/in",
          "Ausländer/in",
          "Ausländer/in",
          "Ausländer/in",
          "Schweizer/in",
          "Schweizer/in",
          "Schweizer/in",
          "Schweizer/in",
          "Schweizer/in",
          "Schweizer/in",
          "Ausländer/in",
          "Ausländer/in",
          "Schweizer/in",
          "Schweizer/in",
          "Schweizer/in",
          "Affoltern",
          "Albisrieden",
          "Alt-Wiedikon",
          "Altstetten",
          "City",
          "Enge",
          "Escher Wyss",
          "Fluntern",
          "Friesenberg",
          "Gewerbeschule",
          "Hard",
          "Hirslanden",
          "Hirzenbach",
          "Hochschulen",
          "Hottingen",
          "Höngg",
          "Langstrasse",
          "Leimbach",
          "Lindenhof",
          "Mühlebach",
          "Oberstrass",
          "Oerlikon",
          "Rathaus",
          "Saatlen",
          "Schwamendingen-Mitte",
          "Seebach",
          "Seefeld",
          "Sihlfeld",
          "Unterstrass",
          "Weinegg",
          "Werd",
          "Wipkingen",
          "Witikon",
          "Wollishofen",
          "2020-01-01",
          "Wohnbevölkerung nach "
         ],
         "marker": {
          "colors": [
           "#ab63fa",
           "#ab63fa",
           "#ab63fa",
           "#ab63fa",
           "#ab63fa",
           "#ab63fa",
           "#ab63fa",
           "gold",
           "#ab63fa",
           "gold",
           "gold",
           "gold",
           "gold",
           "gold",
           "gold",
           "gold",
           "gold",
           "gold",
           "#ab63fa",
           "#ab63fa",
           "#ab63fa",
           "#ab63fa",
           "#ab63fa",
           "#ab63fa",
           "#ab63fa",
           "#ab63fa",
           "#ab63fa",
           "#ab63fa",
           "#ab63fa",
           "#ab63fa",
           "#ab63fa",
           "#ab63fa",
           "#ab63fa",
           "#ab63fa",
           "gold",
           "gold",
           "#ab63fa",
           "#ab63fa",
           "gold",
           "gold",
           "gold",
           "gold",
           "gold",
           "gold",
           "gold",
           "gold",
           "gold",
           "gold",
           "gold",
           "gold",
           "gold",
           "#ab63fa",
           "#ab63fa",
           "#ab63fa",
           "#ab63fa",
           "#ab63fa",
           "#ab63fa",
           "gold",
           "gold",
           "gold",
           "gold",
           "gold",
           "gold",
           "#ab63fa",
           "#ab63fa",
           "gold",
           "gold",
           "gold",
           "lightgrey",
           "lightgrey",
           "lightgrey",
           "lightgrey",
           "lightgrey",
           "lightgrey",
           "lightgrey",
           "lightgrey",
           "lightgrey",
           "lightgrey",
           "lightgrey",
           "lightgrey",
           "lightgrey",
           "lightgrey",
           "lightgrey",
           "lightgrey",
           "lightgrey",
           "lightgrey",
           "lightgrey",
           "lightgrey",
           "lightgrey",
           "lightgrey",
           "lightgrey",
           "lightgrey",
           "lightgrey",
           "lightgrey",
           "lightgrey",
           "lightgrey",
           "lightgrey",
           "lightgrey",
           "lightgrey",
           "lightgrey",
           "lightgrey",
           "lightgrey",
           "lightgrey",
           "lightgrey"
          ]
         },
         "name": "",
         "parents": [
          "Wohnbevölkerung nach /2020-01-01/Affoltern",
          "Wohnbevölkerung nach /2020-01-01/Saatlen",
          "Wohnbevölkerung nach /2020-01-01/Schwamendingen-Mitte",
          "Wohnbevölkerung nach /2020-01-01/Weinegg",
          "Wohnbevölkerung nach /2020-01-01/Werd",
          "Wohnbevölkerung nach /2020-01-01/Wipkingen",
          "Wohnbevölkerung nach /2020-01-01/Witikon",
          "Wohnbevölkerung nach /2020-01-01/Albisrieden",
          "Wohnbevölkerung nach /2020-01-01/Oerlikon",
          "Wohnbevölkerung nach /2020-01-01/Alt-Wiedikon",
          "Wohnbevölkerung nach /2020-01-01/Escher Wyss",
          "Wohnbevölkerung nach /2020-01-01/Hard",
          "Wohnbevölkerung nach /2020-01-01/Hirslanden",
          "Wohnbevölkerung nach /2020-01-01/Lindenhof",
          "Wohnbevölkerung nach /2020-01-01/Mühlebach",
          "Wohnbevölkerung nach /2020-01-01/Oerlikon",
          "Wohnbevölkerung nach /2020-01-01/Schwamendingen-Mitte",
          "Wohnbevölkerung nach /2020-01-01/Altstetten",
          "Wohnbevölkerung nach /2020-01-01/Oberstrass",
          "Wohnbevölkerung nach /2020-01-01/Wollishofen",
          "Wohnbevölkerung nach /2020-01-01/Lindenhof",
          "Wohnbevölkerung nach /2020-01-01/Escher Wyss",
          "Wohnbevölkerung nach /2020-01-01/Alt-Wiedikon",
          "Wohnbevölkerung nach /2020-01-01/Fluntern",
          "Wohnbevölkerung nach /2020-01-01/Friesenberg",
          "Wohnbevölkerung nach /2020-01-01/Gewerbeschule",
          "Wohnbevölkerung nach /2020-01-01/Hard",
          "Wohnbevölkerung nach /2020-01-01/Hirslanden",
          "Wohnbevölkerung nach /2020-01-01/Hirzenbach",
          "Wohnbevölkerung nach /2020-01-01/Hochschulen",
          "Wohnbevölkerung nach /2020-01-01/Albisrieden",
          "Wohnbevölkerung nach /2020-01-01/Leimbach",
          "Wohnbevölkerung nach /2020-01-01/Langstrasse",
          "Wohnbevölkerung nach /2020-01-01/Hottingen",
          "Wohnbevölkerung nach /2020-01-01/Seefeld",
          "Wohnbevölkerung nach /2020-01-01/Leimbach",
          "Wohnbevölkerung nach /2020-01-01/City",
          "Wohnbevölkerung nach /2020-01-01/Altstetten",
          "Wohnbevölkerung nach /2020-01-01/Oberstrass",
          "Wohnbevölkerung nach /2020-01-01/Wipkingen",
          "Wohnbevölkerung nach /2020-01-01/Rathaus",
          "Wohnbevölkerung nach /2020-01-01/Werd",
          "Wohnbevölkerung nach /2020-01-01/Weinegg",
          "Wohnbevölkerung nach /2020-01-01/Unterstrass",
          "Wohnbevölkerung nach /2020-01-01/Langstrasse",
          "Wohnbevölkerung nach /2020-01-01/Seebach",
          "Wohnbevölkerung nach /2020-01-01/Sihlfeld",
          "Wohnbevölkerung nach /2020-01-01/Saatlen",
          "Wohnbevölkerung nach /2020-01-01/Höngg",
          "Wohnbevölkerung nach /2020-01-01/Gewerbeschule",
          "Wohnbevölkerung nach /2020-01-01/Hochschulen",
          "Wohnbevölkerung nach /2020-01-01/Rathaus",
          "Wohnbevölkerung nach /2020-01-01/Höngg",
          "Wohnbevölkerung nach /2020-01-01/Seebach",
          "Wohnbevölkerung nach /2020-01-01/Seefeld",
          "Wohnbevölkerung nach /2020-01-01/Sihlfeld",
          "Wohnbevölkerung nach /2020-01-01/Unterstrass",
          "Wohnbevölkerung nach /2020-01-01/Witikon",
          "Wohnbevölkerung nach /2020-01-01/Affoltern",
          "Wohnbevölkerung nach /2020-01-01/City",
          "Wohnbevölkerung nach /2020-01-01/Enge",
          "Wohnbevölkerung nach /2020-01-01/Fluntern",
          "Wohnbevölkerung nach /2020-01-01/Friesenberg",
          "Wohnbevölkerung nach /2020-01-01/Mühlebach",
          "Wohnbevölkerung nach /2020-01-01/Enge",
          "Wohnbevölkerung nach /2020-01-01/Hirzenbach",
          "Wohnbevölkerung nach /2020-01-01/Hottingen",
          "Wohnbevölkerung nach /2020-01-01/Wollishofen",
          "Wohnbevölkerung nach /2020-01-01",
          "Wohnbevölkerung nach /2020-01-01",
          "Wohnbevölkerung nach /2020-01-01",
          "Wohnbevölkerung nach /2020-01-01",
          "Wohnbevölkerung nach /2020-01-01",
          "Wohnbevölkerung nach /2020-01-01",
          "Wohnbevölkerung nach /2020-01-01",
          "Wohnbevölkerung nach /2020-01-01",
          "Wohnbevölkerung nach /2020-01-01",
          "Wohnbevölkerung nach /2020-01-01",
          "Wohnbevölkerung nach /2020-01-01",
          "Wohnbevölkerung nach /2020-01-01",
          "Wohnbevölkerung nach /2020-01-01",
          "Wohnbevölkerung nach /2020-01-01",
          "Wohnbevölkerung nach /2020-01-01",
          "Wohnbevölkerung nach /2020-01-01",
          "Wohnbevölkerung nach /2020-01-01",
          "Wohnbevölkerung nach /2020-01-01",
          "Wohnbevölkerung nach /2020-01-01",
          "Wohnbevölkerung nach /2020-01-01",
          "Wohnbevölkerung nach /2020-01-01",
          "Wohnbevölkerung nach /2020-01-01",
          "Wohnbevölkerung nach /2020-01-01",
          "Wohnbevölkerung nach /2020-01-01",
          "Wohnbevölkerung nach /2020-01-01",
          "Wohnbevölkerung nach /2020-01-01",
          "Wohnbevölkerung nach /2020-01-01",
          "Wohnbevölkerung nach /2020-01-01",
          "Wohnbevölkerung nach /2020-01-01",
          "Wohnbevölkerung nach /2020-01-01",
          "Wohnbevölkerung nach /2020-01-01",
          "Wohnbevölkerung nach /2020-01-01",
          "Wohnbevölkerung nach /2020-01-01",
          "Wohnbevölkerung nach /2020-01-01",
          "Wohnbevölkerung nach ",
          ""
         ],
         "root": {
          "color": "grey"
         },
         "type": "treemap",
         "values": [
          8673,
          2416,
          4767,
          1882,
          1543,
          4478,
          3049,
          16489,
          8991,
          11707,
          4187,
          8084,
          5432,
          715,
          4158,
          14557,
          6316,
          21830,
          3229,
          5941,
          295,
          2011,
          6057,
          2614,
          2031,
          3001,
          4470,
          1964,
          4535,
          211,
          5875,
          2027,
          4477,
          3315,
          3243,
          4113,
          262,
          12268,
          7595,
          12127,
          2296,
          3027,
          3680,
          17683,
          7433,
          15869,
          15118,
          6383,
          18283,
          6423,
          464,
          1021,
          6156,
          10187,
          2237,
          6803,
          6810,
          8195,
          17911,
          567,
          6104,
          6071,
          9040,
          2256,
          3551,
          8428,
          7989,
          13816,
          26584,
          22364,
          17764,
          34098,
          829,
          9655,
          6198,
          8685,
          11071,
          9424,
          12554,
          7396,
          12963,
          675,
          11304,
          24439,
          11910,
          6140,
          1010,
          6414,
          10824,
          23548,
          3317,
          8799,
          11083,
          26056,
          5480,
          21921,
          24493,
          5562,
          4570,
          16605,
          11244,
          19757,
          434736,
          434736
         ]
        }
       ],
       "layout": {
        "height": 400,
        "legend": {
         "tracegroupgap": 0
        },
        "margin": {
         "b": 25,
         "l": 25,
         "r": 250,
         "t": 50
        },
        "template": {
         "data": {
          "bar": [
           {
            "error_x": {
             "color": "#2a3f5f"
            },
            "error_y": {
             "color": "#2a3f5f"
            },
            "marker": {
             "line": {
              "color": "#E5ECF6",
              "width": 0.5
             },
             "pattern": {
              "fillmode": "overlay",
              "size": 10,
              "solidity": 0.2
             }
            },
            "type": "bar"
           }
          ],
          "barpolar": [
           {
            "marker": {
             "line": {
              "color": "#E5ECF6",
              "width": 0.5
             },
             "pattern": {
              "fillmode": "overlay",
              "size": 10,
              "solidity": 0.2
             }
            },
            "type": "barpolar"
           }
          ],
          "carpet": [
           {
            "aaxis": {
             "endlinecolor": "#2a3f5f",
             "gridcolor": "white",
             "linecolor": "white",
             "minorgridcolor": "white",
             "startlinecolor": "#2a3f5f"
            },
            "baxis": {
             "endlinecolor": "#2a3f5f",
             "gridcolor": "white",
             "linecolor": "white",
             "minorgridcolor": "white",
             "startlinecolor": "#2a3f5f"
            },
            "type": "carpet"
           }
          ],
          "choropleth": [
           {
            "colorbar": {
             "outlinewidth": 0,
             "ticks": ""
            },
            "type": "choropleth"
           }
          ],
          "contour": [
           {
            "colorbar": {
             "outlinewidth": 0,
             "ticks": ""
            },
            "colorscale": [
             [
              0,
              "#0d0887"
             ],
             [
              0.1111111111111111,
              "#46039f"
             ],
             [
              0.2222222222222222,
              "#7201a8"
             ],
             [
              0.3333333333333333,
              "#9c179e"
             ],
             [
              0.4444444444444444,
              "#bd3786"
             ],
             [
              0.5555555555555556,
              "#d8576b"
             ],
             [
              0.6666666666666666,
              "#ed7953"
             ],
             [
              0.7777777777777778,
              "#fb9f3a"
             ],
             [
              0.8888888888888888,
              "#fdca26"
             ],
             [
              1,
              "#f0f921"
             ]
            ],
            "type": "contour"
           }
          ],
          "contourcarpet": [
           {
            "colorbar": {
             "outlinewidth": 0,
             "ticks": ""
            },
            "type": "contourcarpet"
           }
          ],
          "heatmap": [
           {
            "colorbar": {
             "outlinewidth": 0,
             "ticks": ""
            },
            "colorscale": [
             [
              0,
              "#0d0887"
             ],
             [
              0.1111111111111111,
              "#46039f"
             ],
             [
              0.2222222222222222,
              "#7201a8"
             ],
             [
              0.3333333333333333,
              "#9c179e"
             ],
             [
              0.4444444444444444,
              "#bd3786"
             ],
             [
              0.5555555555555556,
              "#d8576b"
             ],
             [
              0.6666666666666666,
              "#ed7953"
             ],
             [
              0.7777777777777778,
              "#fb9f3a"
             ],
             [
              0.8888888888888888,
              "#fdca26"
             ],
             [
              1,
              "#f0f921"
             ]
            ],
            "type": "heatmap"
           }
          ],
          "heatmapgl": [
           {
            "colorbar": {
             "outlinewidth": 0,
             "ticks": ""
            },
            "colorscale": [
             [
              0,
              "#0d0887"
             ],
             [
              0.1111111111111111,
              "#46039f"
             ],
             [
              0.2222222222222222,
              "#7201a8"
             ],
             [
              0.3333333333333333,
              "#9c179e"
             ],
             [
              0.4444444444444444,
              "#bd3786"
             ],
             [
              0.5555555555555556,
              "#d8576b"
             ],
             [
              0.6666666666666666,
              "#ed7953"
             ],
             [
              0.7777777777777778,
              "#fb9f3a"
             ],
             [
              0.8888888888888888,
              "#fdca26"
             ],
             [
              1,
              "#f0f921"
             ]
            ],
            "type": "heatmapgl"
           }
          ],
          "histogram": [
           {
            "marker": {
             "pattern": {
              "fillmode": "overlay",
              "size": 10,
              "solidity": 0.2
             }
            },
            "type": "histogram"
           }
          ],
          "histogram2d": [
           {
            "colorbar": {
             "outlinewidth": 0,
             "ticks": ""
            },
            "colorscale": [
             [
              0,
              "#0d0887"
             ],
             [
              0.1111111111111111,
              "#46039f"
             ],
             [
              0.2222222222222222,
              "#7201a8"
             ],
             [
              0.3333333333333333,
              "#9c179e"
             ],
             [
              0.4444444444444444,
              "#bd3786"
             ],
             [
              0.5555555555555556,
              "#d8576b"
             ],
             [
              0.6666666666666666,
              "#ed7953"
             ],
             [
              0.7777777777777778,
              "#fb9f3a"
             ],
             [
              0.8888888888888888,
              "#fdca26"
             ],
             [
              1,
              "#f0f921"
             ]
            ],
            "type": "histogram2d"
           }
          ],
          "histogram2dcontour": [
           {
            "colorbar": {
             "outlinewidth": 0,
             "ticks": ""
            },
            "colorscale": [
             [
              0,
              "#0d0887"
             ],
             [
              0.1111111111111111,
              "#46039f"
             ],
             [
              0.2222222222222222,
              "#7201a8"
             ],
             [
              0.3333333333333333,
              "#9c179e"
             ],
             [
              0.4444444444444444,
              "#bd3786"
             ],
             [
              0.5555555555555556,
              "#d8576b"
             ],
             [
              0.6666666666666666,
              "#ed7953"
             ],
             [
              0.7777777777777778,
              "#fb9f3a"
             ],
             [
              0.8888888888888888,
              "#fdca26"
             ],
             [
              1,
              "#f0f921"
             ]
            ],
            "type": "histogram2dcontour"
           }
          ],
          "mesh3d": [
           {
            "colorbar": {
             "outlinewidth": 0,
             "ticks": ""
            },
            "type": "mesh3d"
           }
          ],
          "parcoords": [
           {
            "line": {
             "colorbar": {
              "outlinewidth": 0,
              "ticks": ""
             }
            },
            "type": "parcoords"
           }
          ],
          "pie": [
           {
            "automargin": true,
            "type": "pie"
           }
          ],
          "scatter": [
           {
            "marker": {
             "colorbar": {
              "outlinewidth": 0,
              "ticks": ""
             }
            },
            "type": "scatter"
           }
          ],
          "scatter3d": [
           {
            "line": {
             "colorbar": {
              "outlinewidth": 0,
              "ticks": ""
             }
            },
            "marker": {
             "colorbar": {
              "outlinewidth": 0,
              "ticks": ""
             }
            },
            "type": "scatter3d"
           }
          ],
          "scattercarpet": [
           {
            "marker": {
             "colorbar": {
              "outlinewidth": 0,
              "ticks": ""
             }
            },
            "type": "scattercarpet"
           }
          ],
          "scattergeo": [
           {
            "marker": {
             "colorbar": {
              "outlinewidth": 0,
              "ticks": ""
             }
            },
            "type": "scattergeo"
           }
          ],
          "scattergl": [
           {
            "marker": {
             "colorbar": {
              "outlinewidth": 0,
              "ticks": ""
             }
            },
            "type": "scattergl"
           }
          ],
          "scattermapbox": [
           {
            "marker": {
             "colorbar": {
              "outlinewidth": 0,
              "ticks": ""
             }
            },
            "type": "scattermapbox"
           }
          ],
          "scatterpolar": [
           {
            "marker": {
             "colorbar": {
              "outlinewidth": 0,
              "ticks": ""
             }
            },
            "type": "scatterpolar"
           }
          ],
          "scatterpolargl": [
           {
            "marker": {
             "colorbar": {
              "outlinewidth": 0,
              "ticks": ""
             }
            },
            "type": "scatterpolargl"
           }
          ],
          "scatterternary": [
           {
            "marker": {
             "colorbar": {
              "outlinewidth": 0,
              "ticks": ""
             }
            },
            "type": "scatterternary"
           }
          ],
          "surface": [
           {
            "colorbar": {
             "outlinewidth": 0,
             "ticks": ""
            },
            "colorscale": [
             [
              0,
              "#0d0887"
             ],
             [
              0.1111111111111111,
              "#46039f"
             ],
             [
              0.2222222222222222,
              "#7201a8"
             ],
             [
              0.3333333333333333,
              "#9c179e"
             ],
             [
              0.4444444444444444,
              "#bd3786"
             ],
             [
              0.5555555555555556,
              "#d8576b"
             ],
             [
              0.6666666666666666,
              "#ed7953"
             ],
             [
              0.7777777777777778,
              "#fb9f3a"
             ],
             [
              0.8888888888888888,
              "#fdca26"
             ],
             [
              1,
              "#f0f921"
             ]
            ],
            "type": "surface"
           }
          ],
          "table": [
           {
            "cells": {
             "fill": {
              "color": "#EBF0F8"
             },
             "line": {
              "color": "white"
             }
            },
            "header": {
             "fill": {
              "color": "#C8D4E3"
             },
             "line": {
              "color": "white"
             }
            },
            "type": "table"
           }
          ]
         },
         "layout": {
          "annotationdefaults": {
           "arrowcolor": "#2a3f5f",
           "arrowhead": 0,
           "arrowwidth": 1
          },
          "autotypenumbers": "strict",
          "coloraxis": {
           "colorbar": {
            "outlinewidth": 0,
            "ticks": ""
           }
          },
          "colorscale": {
           "diverging": [
            [
             0,
             "#8e0152"
            ],
            [
             0.1,
             "#c51b7d"
            ],
            [
             0.2,
             "#de77ae"
            ],
            [
             0.3,
             "#f1b6da"
            ],
            [
             0.4,
             "#fde0ef"
            ],
            [
             0.5,
             "#f7f7f7"
            ],
            [
             0.6,
             "#e6f5d0"
            ],
            [
             0.7,
             "#b8e186"
            ],
            [
             0.8,
             "#7fbc41"
            ],
            [
             0.9,
             "#4d9221"
            ],
            [
             1,
             "#276419"
            ]
           ],
           "sequential": [
            [
             0,
             "#0d0887"
            ],
            [
             0.1111111111111111,
             "#46039f"
            ],
            [
             0.2222222222222222,
             "#7201a8"
            ],
            [
             0.3333333333333333,
             "#9c179e"
            ],
            [
             0.4444444444444444,
             "#bd3786"
            ],
            [
             0.5555555555555556,
             "#d8576b"
            ],
            [
             0.6666666666666666,
             "#ed7953"
            ],
            [
             0.7777777777777778,
             "#fb9f3a"
            ],
            [
             0.8888888888888888,
             "#fdca26"
            ],
            [
             1,
             "#f0f921"
            ]
           ],
           "sequentialminus": [
            [
             0,
             "#0d0887"
            ],
            [
             0.1111111111111111,
             "#46039f"
            ],
            [
             0.2222222222222222,
             "#7201a8"
            ],
            [
             0.3333333333333333,
             "#9c179e"
            ],
            [
             0.4444444444444444,
             "#bd3786"
            ],
            [
             0.5555555555555556,
             "#d8576b"
            ],
            [
             0.6666666666666666,
             "#ed7953"
            ],
            [
             0.7777777777777778,
             "#fb9f3a"
            ],
            [
             0.8888888888888888,
             "#fdca26"
            ],
            [
             1,
             "#f0f921"
            ]
           ]
          },
          "colorway": [
           "#636efa",
           "#EF553B",
           "#00cc96",
           "#ab63fa",
           "#FFA15A",
           "#19d3f3",
           "#FF6692",
           "#B6E880",
           "#FF97FF",
           "#FECB52"
          ],
          "font": {
           "color": "#2a3f5f"
          },
          "geo": {
           "bgcolor": "white",
           "lakecolor": "white",
           "landcolor": "#E5ECF6",
           "showlakes": true,
           "showland": true,
           "subunitcolor": "white"
          },
          "hoverlabel": {
           "align": "left"
          },
          "hovermode": "closest",
          "mapbox": {
           "style": "light"
          },
          "paper_bgcolor": "white",
          "plot_bgcolor": "#E5ECF6",
          "polar": {
           "angularaxis": {
            "gridcolor": "white",
            "linecolor": "white",
            "ticks": ""
           },
           "bgcolor": "#E5ECF6",
           "radialaxis": {
            "gridcolor": "white",
            "linecolor": "white",
            "ticks": ""
           }
          },
          "scene": {
           "xaxis": {
            "backgroundcolor": "#E5ECF6",
            "gridcolor": "white",
            "gridwidth": 2,
            "linecolor": "white",
            "showbackground": true,
            "ticks": "",
            "zerolinecolor": "white"
           },
           "yaxis": {
            "backgroundcolor": "#E5ECF6",
            "gridcolor": "white",
            "gridwidth": 2,
            "linecolor": "white",
            "showbackground": true,
            "ticks": "",
            "zerolinecolor": "white"
           },
           "zaxis": {
            "backgroundcolor": "#E5ECF6",
            "gridcolor": "white",
            "gridwidth": 2,
            "linecolor": "white",
            "showbackground": true,
            "ticks": "",
            "zerolinecolor": "white"
           }
          },
          "shapedefaults": {
           "line": {
            "color": "#2a3f5f"
           }
          },
          "ternary": {
           "aaxis": {
            "gridcolor": "white",
            "linecolor": "white",
            "ticks": ""
           },
           "baxis": {
            "gridcolor": "white",
            "linecolor": "white",
            "ticks": ""
           },
           "bgcolor": "#E5ECF6",
           "caxis": {
            "gridcolor": "white",
            "linecolor": "white",
            "ticks": ""
           }
          },
          "title": {
           "x": 0.05
          },
          "xaxis": {
           "automargin": true,
           "gridcolor": "white",
           "linecolor": "white",
           "ticks": "",
           "title": {
            "standoff": 15
           },
           "zerolinecolor": "white",
           "zerolinewidth": 2
          },
          "yaxis": {
           "automargin": true,
           "gridcolor": "white",
           "linecolor": "white",
           "ticks": "",
           "title": {
            "standoff": 15
           },
           "zerolinecolor": "white",
           "zerolinewidth": 2
          }
         }
        },
        "width": 1100
       }
      },
      "image/png": "[encoded data removed]",
      "text/html": [
       "<div>                            <div id=\"6d099cf3-787f-4c57-8d79-7e37518e9259\" class=\"plotly-graph-div\" style=\"height:400px; width:1100px;\"></div>            <script type=\"text/javascript\">                require([\"plotly\"], function(Plotly) {                    window.PLOTLYENV=window.PLOTLYENV || {};                                    if (document.getElementById(\"6d099cf3-787f-4c57-8d79-7e37518e9259\")) {                    Plotly.newPlot(                        \"6d099cf3-787f-4c57-8d79-7e37518e9259\",                        [{\"branchvalues\":\"total\",\"customdata\":[[\"Ausl\\u00e4nder/in\"],[\"Ausl\\u00e4nder/in\"],[\"Ausl\\u00e4nder/in\"],[\"Ausl\\u00e4nder/in\"],[\"Ausl\\u00e4nder/in\"],[\"Ausl\\u00e4nder/in\"],[\"Ausl\\u00e4nder/in\"],[\"Schweizer/in\"],[\"Ausl\\u00e4nder/in\"],[\"Schweizer/in\"],[\"Schweizer/in\"],[\"Schweizer/in\"],[\"Schweizer/in\"],[\"Schweizer/in\"],[\"Schweizer/in\"],[\"Schweizer/in\"],[\"Schweizer/in\"],[\"Schweizer/in\"],[\"Ausl\\u00e4nder/in\"],[\"Ausl\\u00e4nder/in\"],[\"Ausl\\u00e4nder/in\"],[\"Ausl\\u00e4nder/in\"],[\"Ausl\\u00e4nder/in\"],[\"Ausl\\u00e4nder/in\"],[\"Ausl\\u00e4nder/in\"],[\"Ausl\\u00e4nder/in\"],[\"Ausl\\u00e4nder/in\"],[\"Ausl\\u00e4nder/in\"],[\"Ausl\\u00e4nder/in\"],[\"Ausl\\u00e4nder/in\"],[\"Ausl\\u00e4nder/in\"],[\"Ausl\\u00e4nder/in\"],[\"Ausl\\u00e4nder/in\"],[\"Ausl\\u00e4nder/in\"],[\"Schweizer/in\"],[\"Schweizer/in\"],[\"Ausl\\u00e4nder/in\"],[\"Ausl\\u00e4nder/in\"],[\"Schweizer/in\"],[\"Schweizer/in\"],[\"Schweizer/in\"],[\"Schweizer/in\"],[\"Schweizer/in\"],[\"Schweizer/in\"],[\"Schweizer/in\"],[\"Schweizer/in\"],[\"Schweizer/in\"],[\"Schweizer/in\"],[\"Schweizer/in\"],[\"Schweizer/in\"],[\"Schweizer/in\"],[\"Ausl\\u00e4nder/in\"],[\"Ausl\\u00e4nder/in\"],[\"Ausl\\u00e4nder/in\"],[\"Ausl\\u00e4nder/in\"],[\"Ausl\\u00e4nder/in\"],[\"Ausl\\u00e4nder/in\"],[\"Schweizer/in\"],[\"Schweizer/in\"],[\"Schweizer/in\"],[\"Schweizer/in\"],[\"Schweizer/in\"],[\"Schweizer/in\"],[\"Ausl\\u00e4nder/in\"],[\"Ausl\\u00e4nder/in\"],[\"Schweizer/in\"],[\"Schweizer/in\"],[\"Schweizer/in\"],[\"(?)\"],[\"(?)\"],[\"(?)\"],[\"(?)\"],[\"(?)\"],[\"(?)\"],[\"(?)\"],[\"(?)\"],[\"(?)\"],[\"(?)\"],[\"(?)\"],[\"(?)\"],[\"(?)\"],[\"(?)\"],[\"(?)\"],[\"(?)\"],[\"(?)\"],[\"(?)\"],[\"(?)\"],[\"(?)\"],[\"(?)\"],[\"(?)\"],[\"(?)\"],[\"(?)\"],[\"(?)\"],[\"(?)\"],[\"(?)\"],[\"(?)\"],[\"(?)\"],[\"(?)\"],[\"(?)\"],[\"(?)\"],[\"(?)\"],[\"(?)\"],[\"(?)\"],[\"(?)\"]],\"domain\":{\"x\":[0.0,1.0],\"y\":[0.0,1.0]},\"hovertemplate\":\"labels=%{label}<br>sum_WBev=%{value}<br>parent=%{parent}<br>id=%{id}<br>HerkunftLang=%{customdata[0]}<extra></extra>\",\"ids\":[\"Wohnbev\\u00f6lkerung nach /2020-01-01/Affoltern/Ausl\\u00e4nder/in\",\"Wohnbev\\u00f6lkerung nach /2020-01-01/Saatlen/Ausl\\u00e4nder/in\",\"Wohnbev\\u00f6lkerung nach /2020-01-01/Schwamendingen-Mitte/Ausl\\u00e4nder/in\",\"Wohnbev\\u00f6lkerung nach /2020-01-01/Weinegg/Ausl\\u00e4nder/in\",\"Wohnbev\\u00f6lkerung nach /2020-01-01/Werd/Ausl\\u00e4nder/in\",\"Wohnbev\\u00f6lkerung nach /2020-01-01/Wipkingen/Ausl\\u00e4nder/in\",\"Wohnbev\\u00f6lkerung nach /2020-01-01/Witikon/Ausl\\u00e4nder/in\",\"Wohnbev\\u00f6lkerung nach /2020-01-01/Albisrieden/Schweizer/in\",\"Wohnbev\\u00f6lkerung nach /2020-01-01/Oerlikon/Ausl\\u00e4nder/in\",\"Wohnbev\\u00f6lkerung nach /2020-01-01/Alt-Wiedikon/Schweizer/in\",\"Wohnbev\\u00f6lkerung nach /2020-01-01/Escher Wyss/Schweizer/in\",\"Wohnbev\\u00f6lkerung nach /2020-01-01/Hard/Schweizer/in\",\"Wohnbev\\u00f6lkerung nach /2020-01-01/Hirslanden/Schweizer/in\",\"Wohnbev\\u00f6lkerung nach /2020-01-01/Lindenhof/Schweizer/in\",\"Wohnbev\\u00f6lkerung nach /2020-01-01/M\\u00fchlebach/Schweizer/in\",\"Wohnbev\\u00f6lkerung nach /2020-01-01/Oerlikon/Schweizer/in\",\"Wohnbev\\u00f6lkerung nach /2020-01-01/Schwamendingen-Mitte/Schweizer/in\",\"Wohnbev\\u00f6lkerung nach /2020-01-01/Altstetten/Schweizer/in\",\"Wohnbev\\u00f6lkerung nach /2020-01-01/Oberstrass/Ausl\\u00e4nder/in\",\"Wohnbev\\u00f6lkerung nach /2020-01-01/Wollishofen/Ausl\\u00e4nder/in\",\"Wohnbev\\u00f6lkerung nach /2020-01-01/Lindenhof/Ausl\\u00e4nder/in\",\"Wohnbev\\u00f6lkerung nach /2020-01-01/Escher Wyss/Ausl\\u00e4nder/in\",\"Wohnbev\\u00f6lkerung nach /2020-01-01/Alt-Wiedikon/Ausl\\u00e4nder/in\",\"Wohnbev\\u00f6lkerung nach /2020-01-01/Fluntern/Ausl\\u00e4nder/in\",\"Wohnbev\\u00f6lkerung nach /2020-01-01/Friesenberg/Ausl\\u00e4nder/in\",\"Wohnbev\\u00f6lkerung nach /2020-01-01/Gewerbeschule/Ausl\\u00e4nder/in\",\"Wohnbev\\u00f6lkerung nach /2020-01-01/Hard/Ausl\\u00e4nder/in\",\"Wohnbev\\u00f6lkerung nach /2020-01-01/Hirslanden/Ausl\\u00e4nder/in\",\"Wohnbev\\u00f6lkerung nach /2020-01-01/Hirzenbach/Ausl\\u00e4nder/in\",\"Wohnbev\\u00f6lkerung nach /2020-01-01/Hochschulen/Ausl\\u00e4nder/in\",\"Wohnbev\\u00f6lkerung nach /2020-01-01/Albisrieden/Ausl\\u00e4nder/in\",\"Wohnbev\\u00f6lkerung nach /2020-01-01/Leimbach/Ausl\\u00e4nder/in\",\"Wohnbev\\u00f6lkerung nach /2020-01-01/Langstrasse/Ausl\\u00e4nder/in\",\"Wohnbev\\u00f6lkerung nach /2020-01-01/Hottingen/Ausl\\u00e4nder/in\",\"Wohnbev\\u00f6lkerung nach /2020-01-01/Seefeld/Schweizer/in\",\"Wohnbev\\u00f6lkerung nach /2020-01-01/Leimbach/Schweizer/in\",\"Wohnbev\\u00f6lkerung nach /2020-01-01/City/Ausl\\u00e4nder/in\",\"Wohnbev\\u00f6lkerung nach /2020-01-01/Altstetten/Ausl\\u00e4nder/in\",\"Wohnbev\\u00f6lkerung nach /2020-01-01/Oberstrass/Schweizer/in\",\"Wohnbev\\u00f6lkerung nach /2020-01-01/Wipkingen/Schweizer/in\",\"Wohnbev\\u00f6lkerung nach /2020-01-01/Rathaus/Schweizer/in\",\"Wohnbev\\u00f6lkerung nach /2020-01-01/Werd/Schweizer/in\",\"Wohnbev\\u00f6lkerung nach /2020-01-01/Weinegg/Schweizer/in\",\"Wohnbev\\u00f6lkerung nach /2020-01-01/Unterstrass/Schweizer/in\",\"Wohnbev\\u00f6lkerung nach /2020-01-01/Langstrasse/Schweizer/in\",\"Wohnbev\\u00f6lkerung nach /2020-01-01/Seebach/Schweizer/in\",\"Wohnbev\\u00f6lkerung nach /2020-01-01/Sihlfeld/Schweizer/in\",\"Wohnbev\\u00f6lkerung nach /2020-01-01/Saatlen/Schweizer/in\",\"Wohnbev\\u00f6lkerung nach /2020-01-01/H\\u00f6ngg/Schweizer/in\",\"Wohnbev\\u00f6lkerung nach /2020-01-01/Gewerbeschule/Schweizer/in\",\"Wohnbev\\u00f6lkerung nach /2020-01-01/Hochschulen/Schweizer/in\",\"Wohnbev\\u00f6lkerung nach /2020-01-01/Rathaus/Ausl\\u00e4nder/in\",\"Wohnbev\\u00f6lkerung nach /2020-01-01/H\\u00f6ngg/Ausl\\u00e4nder/in\",\"Wohnbev\\u00f6lkerung nach /2020-01-01/Seebach/Ausl\\u00e4nder/in\",\"Wohnbev\\u00f6lkerung nach /2020-01-01/Seefeld/Ausl\\u00e4nder/in\",\"Wohnbev\\u00f6lkerung nach /2020-01-01/Sihlfeld/Ausl\\u00e4nder/in\",\"Wohnbev\\u00f6lkerung nach /2020-01-01/Unterstrass/Ausl\\u00e4nder/in\",\"Wohnbev\\u00f6lkerung nach /2020-01-01/Witikon/Schweizer/in\",\"Wohnbev\\u00f6lkerung nach /2020-01-01/Affoltern/Schweizer/in\",\"Wohnbev\\u00f6lkerung nach /2020-01-01/City/Schweizer/in\",\"Wohnbev\\u00f6lkerung nach /2020-01-01/Enge/Schweizer/in\",\"Wohnbev\\u00f6lkerung nach /2020-01-01/Fluntern/Schweizer/in\",\"Wohnbev\\u00f6lkerung nach /2020-01-01/Friesenberg/Schweizer/in\",\"Wohnbev\\u00f6lkerung nach /2020-01-01/M\\u00fchlebach/Ausl\\u00e4nder/in\",\"Wohnbev\\u00f6lkerung nach /2020-01-01/Enge/Ausl\\u00e4nder/in\",\"Wohnbev\\u00f6lkerung nach /2020-01-01/Hirzenbach/Schweizer/in\",\"Wohnbev\\u00f6lkerung nach /2020-01-01/Hottingen/Schweizer/in\",\"Wohnbev\\u00f6lkerung nach /2020-01-01/Wollishofen/Schweizer/in\",\"Wohnbev\\u00f6lkerung nach /2020-01-01/Affoltern\",\"Wohnbev\\u00f6lkerung nach /2020-01-01/Albisrieden\",\"Wohnbev\\u00f6lkerung nach /2020-01-01/Alt-Wiedikon\",\"Wohnbev\\u00f6lkerung nach /2020-01-01/Altstetten\",\"Wohnbev\\u00f6lkerung nach /2020-01-01/City\",\"Wohnbev\\u00f6lkerung nach /2020-01-01/Enge\",\"Wohnbev\\u00f6lkerung nach /2020-01-01/Escher Wyss\",\"Wohnbev\\u00f6lkerung nach /2020-01-01/Fluntern\",\"Wohnbev\\u00f6lkerung nach /2020-01-01/Friesenberg\",\"Wohnbev\\u00f6lkerung nach /2020-01-01/Gewerbeschule\",\"Wohnbev\\u00f6lkerung nach /2020-01-01/Hard\",\"Wohnbev\\u00f6lkerung nach /2020-01-01/Hirslanden\",\"Wohnbev\\u00f6lkerung nach /2020-01-01/Hirzenbach\",\"Wohnbev\\u00f6lkerung nach /2020-01-01/Hochschulen\",\"Wohnbev\\u00f6lkerung nach /2020-01-01/Hottingen\",\"Wohnbev\\u00f6lkerung nach /2020-01-01/H\\u00f6ngg\",\"Wohnbev\\u00f6lkerung nach /2020-01-01/Langstrasse\",\"Wohnbev\\u00f6lkerung nach /2020-01-01/Leimbach\",\"Wohnbev\\u00f6lkerung nach /2020-01-01/Lindenhof\",\"Wohnbev\\u00f6lkerung nach /2020-01-01/M\\u00fchlebach\",\"Wohnbev\\u00f6lkerung nach /2020-01-01/Oberstrass\",\"Wohnbev\\u00f6lkerung nach /2020-01-01/Oerlikon\",\"Wohnbev\\u00f6lkerung nach /2020-01-01/Rathaus\",\"Wohnbev\\u00f6lkerung nach /2020-01-01/Saatlen\",\"Wohnbev\\u00f6lkerung nach /2020-01-01/Schwamendingen-Mitte\",\"Wohnbev\\u00f6lkerung nach /2020-01-01/Seebach\",\"Wohnbev\\u00f6lkerung nach /2020-01-01/Seefeld\",\"Wohnbev\\u00f6lkerung nach /2020-01-01/Sihlfeld\",\"Wohnbev\\u00f6lkerung nach /2020-01-01/Unterstrass\",\"Wohnbev\\u00f6lkerung nach /2020-01-01/Weinegg\",\"Wohnbev\\u00f6lkerung nach /2020-01-01/Werd\",\"Wohnbev\\u00f6lkerung nach /2020-01-01/Wipkingen\",\"Wohnbev\\u00f6lkerung nach /2020-01-01/Witikon\",\"Wohnbev\\u00f6lkerung nach /2020-01-01/Wollishofen\",\"Wohnbev\\u00f6lkerung nach /2020-01-01\",\"Wohnbev\\u00f6lkerung nach \"],\"labels\":[\"Ausl\\u00e4nder/in\",\"Ausl\\u00e4nder/in\",\"Ausl\\u00e4nder/in\",\"Ausl\\u00e4nder/in\",\"Ausl\\u00e4nder/in\",\"Ausl\\u00e4nder/in\",\"Ausl\\u00e4nder/in\",\"Schweizer/in\",\"Ausl\\u00e4nder/in\",\"Schweizer/in\",\"Schweizer/in\",\"Schweizer/in\",\"Schweizer/in\",\"Schweizer/in\",\"Schweizer/in\",\"Schweizer/in\",\"Schweizer/in\",\"Schweizer/in\",\"Ausl\\u00e4nder/in\",\"Ausl\\u00e4nder/in\",\"Ausl\\u00e4nder/in\",\"Ausl\\u00e4nder/in\",\"Ausl\\u00e4nder/in\",\"Ausl\\u00e4nder/in\",\"Ausl\\u00e4nder/in\",\"Ausl\\u00e4nder/in\",\"Ausl\\u00e4nder/in\",\"Ausl\\u00e4nder/in\",\"Ausl\\u00e4nder/in\",\"Ausl\\u00e4nder/in\",\"Ausl\\u00e4nder/in\",\"Ausl\\u00e4nder/in\",\"Ausl\\u00e4nder/in\",\"Ausl\\u00e4nder/in\",\"Schweizer/in\",\"Schweizer/in\",\"Ausl\\u00e4nder/in\",\"Ausl\\u00e4nder/in\",\"Schweizer/in\",\"Schweizer/in\",\"Schweizer/in\",\"Schweizer/in\",\"Schweizer/in\",\"Schweizer/in\",\"Schweizer/in\",\"Schweizer/in\",\"Schweizer/in\",\"Schweizer/in\",\"Schweizer/in\",\"Schweizer/in\",\"Schweizer/in\",\"Ausl\\u00e4nder/in\",\"Ausl\\u00e4nder/in\",\"Ausl\\u00e4nder/in\",\"Ausl\\u00e4nder/in\",\"Ausl\\u00e4nder/in\",\"Ausl\\u00e4nder/in\",\"Schweizer/in\",\"Schweizer/in\",\"Schweizer/in\",\"Schweizer/in\",\"Schweizer/in\",\"Schweizer/in\",\"Ausl\\u00e4nder/in\",\"Ausl\\u00e4nder/in\",\"Schweizer/in\",\"Schweizer/in\",\"Schweizer/in\",\"Affoltern\",\"Albisrieden\",\"Alt-Wiedikon\",\"Altstetten\",\"City\",\"Enge\",\"Escher Wyss\",\"Fluntern\",\"Friesenberg\",\"Gewerbeschule\",\"Hard\",\"Hirslanden\",\"Hirzenbach\",\"Hochschulen\",\"Hottingen\",\"H\\u00f6ngg\",\"Langstrasse\",\"Leimbach\",\"Lindenhof\",\"M\\u00fchlebach\",\"Oberstrass\",\"Oerlikon\",\"Rathaus\",\"Saatlen\",\"Schwamendingen-Mitte\",\"Seebach\",\"Seefeld\",\"Sihlfeld\",\"Unterstrass\",\"Weinegg\",\"Werd\",\"Wipkingen\",\"Witikon\",\"Wollishofen\",\"2020-01-01\",\"Wohnbev\\u00f6lkerung nach \"],\"marker\":{\"colors\":[\"#ab63fa\",\"#ab63fa\",\"#ab63fa\",\"#ab63fa\",\"#ab63fa\",\"#ab63fa\",\"#ab63fa\",\"gold\",\"#ab63fa\",\"gold\",\"gold\",\"gold\",\"gold\",\"gold\",\"gold\",\"gold\",\"gold\",\"gold\",\"#ab63fa\",\"#ab63fa\",\"#ab63fa\",\"#ab63fa\",\"#ab63fa\",\"#ab63fa\",\"#ab63fa\",\"#ab63fa\",\"#ab63fa\",\"#ab63fa\",\"#ab63fa\",\"#ab63fa\",\"#ab63fa\",\"#ab63fa\",\"#ab63fa\",\"#ab63fa\",\"gold\",\"gold\",\"#ab63fa\",\"#ab63fa\",\"gold\",\"gold\",\"gold\",\"gold\",\"gold\",\"gold\",\"gold\",\"gold\",\"gold\",\"gold\",\"gold\",\"gold\",\"gold\",\"#ab63fa\",\"#ab63fa\",\"#ab63fa\",\"#ab63fa\",\"#ab63fa\",\"#ab63fa\",\"gold\",\"gold\",\"gold\",\"gold\",\"gold\",\"gold\",\"#ab63fa\",\"#ab63fa\",\"gold\",\"gold\",\"gold\",\"lightgrey\",\"lightgrey\",\"lightgrey\",\"lightgrey\",\"lightgrey\",\"lightgrey\",\"lightgrey\",\"lightgrey\",\"lightgrey\",\"lightgrey\",\"lightgrey\",\"lightgrey\",\"lightgrey\",\"lightgrey\",\"lightgrey\",\"lightgrey\",\"lightgrey\",\"lightgrey\",\"lightgrey\",\"lightgrey\",\"lightgrey\",\"lightgrey\",\"lightgrey\",\"lightgrey\",\"lightgrey\",\"lightgrey\",\"lightgrey\",\"lightgrey\",\"lightgrey\",\"lightgrey\",\"lightgrey\",\"lightgrey\",\"lightgrey\",\"lightgrey\",\"lightgrey\",\"lightgrey\"]},\"name\":\"\",\"parents\":[\"Wohnbev\\u00f6lkerung nach /2020-01-01/Affoltern\",\"Wohnbev\\u00f6lkerung nach /2020-01-01/Saatlen\",\"Wohnbev\\u00f6lkerung nach /2020-01-01/Schwamendingen-Mitte\",\"Wohnbev\\u00f6lkerung nach /2020-01-01/Weinegg\",\"Wohnbev\\u00f6lkerung nach /2020-01-01/Werd\",\"Wohnbev\\u00f6lkerung nach /2020-01-01/Wipkingen\",\"Wohnbev\\u00f6lkerung nach /2020-01-01/Witikon\",\"Wohnbev\\u00f6lkerung nach /2020-01-01/Albisrieden\",\"Wohnbev\\u00f6lkerung nach /2020-01-01/Oerlikon\",\"Wohnbev\\u00f6lkerung nach /2020-01-01/Alt-Wiedikon\",\"Wohnbev\\u00f6lkerung nach /2020-01-01/Escher Wyss\",\"Wohnbev\\u00f6lkerung nach /2020-01-01/Hard\",\"Wohnbev\\u00f6lkerung nach /2020-01-01/Hirslanden\",\"Wohnbev\\u00f6lkerung nach /2020-01-01/Lindenhof\",\"Wohnbev\\u00f6lkerung nach /2020-01-01/M\\u00fchlebach\",\"Wohnbev\\u00f6lkerung nach /2020-01-01/Oerlikon\",\"Wohnbev\\u00f6lkerung nach /2020-01-01/Schwamendingen-Mitte\",\"Wohnbev\\u00f6lkerung nach /2020-01-01/Altstetten\",\"Wohnbev\\u00f6lkerung nach /2020-01-01/Oberstrass\",\"Wohnbev\\u00f6lkerung nach /2020-01-01/Wollishofen\",\"Wohnbev\\u00f6lkerung nach /2020-01-01/Lindenhof\",\"Wohnbev\\u00f6lkerung nach /2020-01-01/Escher Wyss\",\"Wohnbev\\u00f6lkerung nach /2020-01-01/Alt-Wiedikon\",\"Wohnbev\\u00f6lkerung nach /2020-01-01/Fluntern\",\"Wohnbev\\u00f6lkerung nach /2020-01-01/Friesenberg\",\"Wohnbev\\u00f6lkerung nach /2020-01-01/Gewerbeschule\",\"Wohnbev\\u00f6lkerung nach /2020-01-01/Hard\",\"Wohnbev\\u00f6lkerung nach /2020-01-01/Hirslanden\",\"Wohnbev\\u00f6lkerung nach /2020-01-01/Hirzenbach\",\"Wohnbev\\u00f6lkerung nach /2020-01-01/Hochschulen\",\"Wohnbev\\u00f6lkerung nach /2020-01-01/Albisrieden\",\"Wohnbev\\u00f6lkerung nach /2020-01-01/Leimbach\",\"Wohnbev\\u00f6lkerung nach /2020-01-01/Langstrasse\",\"Wohnbev\\u00f6lkerung nach /2020-01-01/Hottingen\",\"Wohnbev\\u00f6lkerung nach /2020-01-01/Seefeld\",\"Wohnbev\\u00f6lkerung nach /2020-01-01/Leimbach\",\"Wohnbev\\u00f6lkerung nach /2020-01-01/City\",\"Wohnbev\\u00f6lkerung nach /2020-01-01/Altstetten\",\"Wohnbev\\u00f6lkerung nach /2020-01-01/Oberstrass\",\"Wohnbev\\u00f6lkerung nach /2020-01-01/Wipkingen\",\"Wohnbev\\u00f6lkerung nach /2020-01-01/Rathaus\",\"Wohnbev\\u00f6lkerung nach /2020-01-01/Werd\",\"Wohnbev\\u00f6lkerung nach /2020-01-01/Weinegg\",\"Wohnbev\\u00f6lkerung nach /2020-01-01/Unterstrass\",\"Wohnbev\\u00f6lkerung nach /2020-01-01/Langstrasse\",\"Wohnbev\\u00f6lkerung nach /2020-01-01/Seebach\",\"Wohnbev\\u00f6lkerung nach /2020-01-01/Sihlfeld\",\"Wohnbev\\u00f6lkerung nach /2020-01-01/Saatlen\",\"Wohnbev\\u00f6lkerung nach /2020-01-01/H\\u00f6ngg\",\"Wohnbev\\u00f6lkerung nach /2020-01-01/Gewerbeschule\",\"Wohnbev\\u00f6lkerung nach /2020-01-01/Hochschulen\",\"Wohnbev\\u00f6lkerung nach /2020-01-01/Rathaus\",\"Wohnbev\\u00f6lkerung nach /2020-01-01/H\\u00f6ngg\",\"Wohnbev\\u00f6lkerung nach /2020-01-01/Seebach\",\"Wohnbev\\u00f6lkerung nach /2020-01-01/Seefeld\",\"Wohnbev\\u00f6lkerung nach /2020-01-01/Sihlfeld\",\"Wohnbev\\u00f6lkerung nach /2020-01-01/Unterstrass\",\"Wohnbev\\u00f6lkerung nach /2020-01-01/Witikon\",\"Wohnbev\\u00f6lkerung nach /2020-01-01/Affoltern\",\"Wohnbev\\u00f6lkerung nach /2020-01-01/City\",\"Wohnbev\\u00f6lkerung nach /2020-01-01/Enge\",\"Wohnbev\\u00f6lkerung nach /2020-01-01/Fluntern\",\"Wohnbev\\u00f6lkerung nach /2020-01-01/Friesenberg\",\"Wohnbev\\u00f6lkerung nach /2020-01-01/M\\u00fchlebach\",\"Wohnbev\\u00f6lkerung nach /2020-01-01/Enge\",\"Wohnbev\\u00f6lkerung nach /2020-01-01/Hirzenbach\",\"Wohnbev\\u00f6lkerung nach /2020-01-01/Hottingen\",\"Wohnbev\\u00f6lkerung nach /2020-01-01/Wollishofen\",\"Wohnbev\\u00f6lkerung nach /2020-01-01\",\"Wohnbev\\u00f6lkerung nach /2020-01-01\",\"Wohnbev\\u00f6lkerung nach /2020-01-01\",\"Wohnbev\\u00f6lkerung nach /2020-01-01\",\"Wohnbev\\u00f6lkerung nach /2020-01-01\",\"Wohnbev\\u00f6lkerung nach /2020-01-01\",\"Wohnbev\\u00f6lkerung nach /2020-01-01\",\"Wohnbev\\u00f6lkerung nach /2020-01-01\",\"Wohnbev\\u00f6lkerung nach /2020-01-01\",\"Wohnbev\\u00f6lkerung nach /2020-01-01\",\"Wohnbev\\u00f6lkerung nach /2020-01-01\",\"Wohnbev\\u00f6lkerung nach /2020-01-01\",\"Wohnbev\\u00f6lkerung nach /2020-01-01\",\"Wohnbev\\u00f6lkerung nach /2020-01-01\",\"Wohnbev\\u00f6lkerung nach /2020-01-01\",\"Wohnbev\\u00f6lkerung nach /2020-01-01\",\"Wohnbev\\u00f6lkerung nach /2020-01-01\",\"Wohnbev\\u00f6lkerung nach /2020-01-01\",\"Wohnbev\\u00f6lkerung nach /2020-01-01\",\"Wohnbev\\u00f6lkerung nach /2020-01-01\",\"Wohnbev\\u00f6lkerung nach /2020-01-01\",\"Wohnbev\\u00f6lkerung nach /2020-01-01\",\"Wohnbev\\u00f6lkerung nach /2020-01-01\",\"Wohnbev\\u00f6lkerung nach /2020-01-01\",\"Wohnbev\\u00f6lkerung nach /2020-01-01\",\"Wohnbev\\u00f6lkerung nach /2020-01-01\",\"Wohnbev\\u00f6lkerung nach /2020-01-01\",\"Wohnbev\\u00f6lkerung nach /2020-01-01\",\"Wohnbev\\u00f6lkerung nach /2020-01-01\",\"Wohnbev\\u00f6lkerung nach /2020-01-01\",\"Wohnbev\\u00f6lkerung nach /2020-01-01\",\"Wohnbev\\u00f6lkerung nach /2020-01-01\",\"Wohnbev\\u00f6lkerung nach /2020-01-01\",\"Wohnbev\\u00f6lkerung nach /2020-01-01\",\"Wohnbev\\u00f6lkerung nach \",\"\"],\"root\":{\"color\":\"grey\"},\"type\":\"treemap\",\"values\":[8673,2416,4767,1882,1543,4478,3049,16489,8991,11707,4187,8084,5432,715,4158,14557,6316,21830,3229,5941,295,2011,6057,2614,2031,3001,4470,1964,4535,211,5875,2027,4477,3315,3243,4113,262,12268,7595,12127,2296,3027,3680,17683,7433,15869,15118,6383,18283,6423,464,1021,6156,10187,2237,6803,6810,8195,17911,567,6104,6071,9040,2256,3551,8428,7989,13816,26584,22364,17764,34098,829,9655,6198,8685,11071,9424,12554,7396,12963,675,11304,24439,11910,6140,1010,6414,10824,23548,3317,8799,11083,26056,5480,21921,24493,5562,4570,16605,11244,19757,434736,434736]}],                        {\"height\":400,\"legend\":{\"tracegroupgap\":0},\"margin\":{\"b\":25,\"l\":25,\"r\":250,\"t\":50},\"template\":{\"data\":{\"bar\":[{\"error_x\":{\"color\":\"#2a3f5f\"},\"error_y\":{\"color\":\"#2a3f5f\"},\"marker\":{\"line\":{\"color\":\"#E5ECF6\",\"width\":0.5},\"pattern\":{\"fillmode\":\"overlay\",\"size\":10,\"solidity\":0.2}},\"type\":\"bar\"}],\"barpolar\":[{\"marker\":{\"line\":{\"color\":\"#E5ECF6\",\"width\":0.5},\"pattern\":{\"fillmode\":\"overlay\",\"size\":10,\"solidity\":0.2}},\"type\":\"barpolar\"}],\"carpet\":[{\"aaxis\":{\"endlinecolor\":\"#2a3f5f\",\"gridcolor\":\"white\",\"linecolor\":\"white\",\"minorgridcolor\":\"white\",\"startlinecolor\":\"#2a3f5f\"},\"baxis\":{\"endlinecolor\":\"#2a3f5f\",\"gridcolor\":\"white\",\"linecolor\":\"white\",\"minorgridcolor\":\"white\",\"startlinecolor\":\"#2a3f5f\"},\"type\":\"carpet\"}],\"choropleth\":[{\"colorbar\":{\"outlinewidth\":0,\"ticks\":\"\"},\"type\":\"choropleth\"}],\"contour\":[{\"colorbar\":{\"outlinewidth\":0,\"ticks\":\"\"},\"colorscale\":[[0.0,\"#0d0887\"],[0.1111111111111111,\"#46039f\"],[0.2222222222222222,\"#7201a8\"],[0.3333333333333333,\"#9c179e\"],[0.4444444444444444,\"#bd3786\"],[0.5555555555555556,\"#d8576b\"],[0.6666666666666666,\"#ed7953\"],[0.7777777777777778,\"#fb9f3a\"],[0.8888888888888888,\"#fdca26\"],[1.0,\"#f0f921\"]],\"type\":\"contour\"}],\"contourcarpet\":[{\"colorbar\":{\"outlinewidth\":0,\"ticks\":\"\"},\"type\":\"contourcarpet\"}],\"heatmap\":[{\"colorbar\":{\"outlinewidth\":0,\"ticks\":\"\"},\"colorscale\":[[0.0,\"#0d0887\"],[0.1111111111111111,\"#46039f\"],[0.2222222222222222,\"#7201a8\"],[0.3333333333333333,\"#9c179e\"],[0.4444444444444444,\"#bd3786\"],[0.5555555555555556,\"#d8576b\"],[0.6666666666666666,\"#ed7953\"],[0.7777777777777778,\"#fb9f3a\"],[0.8888888888888888,\"#fdca26\"],[1.0,\"#f0f921\"]],\"type\":\"heatmap\"}],\"heatmapgl\":[{\"colorbar\":{\"outlinewidth\":0,\"ticks\":\"\"},\"colorscale\":[[0.0,\"#0d0887\"],[0.1111111111111111,\"#46039f\"],[0.2222222222222222,\"#7201a8\"],[0.3333333333333333,\"#9c179e\"],[0.4444444444444444,\"#bd3786\"],[0.5555555555555556,\"#d8576b\"],[0.6666666666666666,\"#ed7953\"],[0.7777777777777778,\"#fb9f3a\"],[0.8888888888888888,\"#fdca26\"],[1.0,\"#f0f921\"]],\"type\":\"heatmapgl\"}],\"histogram\":[{\"marker\":{\"pattern\":{\"fillmode\":\"overlay\",\"size\":10,\"solidity\":0.2}},\"type\":\"histogram\"}],\"histogram2d\":[{\"colorbar\":{\"outlinewidth\":0,\"ticks\":\"\"},\"colorscale\":[[0.0,\"#0d0887\"],[0.1111111111111111,\"#46039f\"],[0.2222222222222222,\"#7201a8\"],[0.3333333333333333,\"#9c179e\"],[0.4444444444444444,\"#bd3786\"],[0.5555555555555556,\"#d8576b\"],[0.6666666666666666,\"#ed7953\"],[0.7777777777777778,\"#fb9f3a\"],[0.8888888888888888,\"#fdca26\"],[1.0,\"#f0f921\"]],\"type\":\"histogram2d\"}],\"histogram2dcontour\":[{\"colorbar\":{\"outlinewidth\":0,\"ticks\":\"\"},\"colorscale\":[[0.0,\"#0d0887\"],[0.1111111111111111,\"#46039f\"],[0.2222222222222222,\"#7201a8\"],[0.3333333333333333,\"#9c179e\"],[0.4444444444444444,\"#bd3786\"],[0.5555555555555556,\"#d8576b\"],[0.6666666666666666,\"#ed7953\"],[0.7777777777777778,\"#fb9f3a\"],[0.8888888888888888,\"#fdca26\"],[1.0,\"#f0f921\"]],\"type\":\"histogram2dcontour\"}],\"mesh3d\":[{\"colorbar\":{\"outlinewidth\":0,\"ticks\":\"\"},\"type\":\"mesh3d\"}],\"parcoords\":[{\"line\":{\"colorbar\":{\"outlinewidth\":0,\"ticks\":\"\"}},\"type\":\"parcoords\"}],\"pie\":[{\"automargin\":true,\"type\":\"pie\"}],\"scatter\":[{\"marker\":{\"colorbar\":{\"outlinewidth\":0,\"ticks\":\"\"}},\"type\":\"scatter\"}],\"scatter3d\":[{\"line\":{\"colorbar\":{\"outlinewidth\":0,\"ticks\":\"\"}},\"marker\":{\"colorbar\":{\"outlinewidth\":0,\"ticks\":\"\"}},\"type\":\"scatter3d\"}],\"scattercarpet\":[{\"marker\":{\"colorbar\":{\"outlinewidth\":0,\"ticks\":\"\"}},\"type\":\"scattercarpet\"}],\"scattergeo\":[{\"marker\":{\"colorbar\":{\"outlinewidth\":0,\"ticks\":\"\"}},\"type\":\"scattergeo\"}],\"scattergl\":[{\"marker\":{\"colorbar\":{\"outlinewidth\":0,\"ticks\":\"\"}},\"type\":\"scattergl\"}],\"scattermapbox\":[{\"marker\":{\"colorbar\":{\"outlinewidth\":0,\"ticks\":\"\"}},\"type\":\"scattermapbox\"}],\"scatterpolar\":[{\"marker\":{\"colorbar\":{\"outlinewidth\":0,\"ticks\":\"\"}},\"type\":\"scatterpolar\"}],\"scatterpolargl\":[{\"marker\":{\"colorbar\":{\"outlinewidth\":0,\"ticks\":\"\"}},\"type\":\"scatterpolargl\"}],\"scatterternary\":[{\"marker\":{\"colorbar\":{\"outlinewidth\":0,\"ticks\":\"\"}},\"type\":\"scatterternary\"}],\"surface\":[{\"colorbar\":{\"outlinewidth\":0,\"ticks\":\"\"},\"colorscale\":[[0.0,\"#0d0887\"],[0.1111111111111111,\"#46039f\"],[0.2222222222222222,\"#7201a8\"],[0.3333333333333333,\"#9c179e\"],[0.4444444444444444,\"#bd3786\"],[0.5555555555555556,\"#d8576b\"],[0.6666666666666666,\"#ed7953\"],[0.7777777777777778,\"#fb9f3a\"],[0.8888888888888888,\"#fdca26\"],[1.0,\"#f0f921\"]],\"type\":\"surface\"}],\"table\":[{\"cells\":{\"fill\":{\"color\":\"#EBF0F8\"},\"line\":{\"color\":\"white\"}},\"header\":{\"fill\":{\"color\":\"#C8D4E3\"},\"line\":{\"color\":\"white\"}},\"type\":\"table\"}]},\"layout\":{\"annotationdefaults\":{\"arrowcolor\":\"#2a3f5f\",\"arrowhead\":0,\"arrowwidth\":1},\"autotypenumbers\":\"strict\",\"coloraxis\":{\"colorbar\":{\"outlinewidth\":0,\"ticks\":\"\"}},\"colorscale\":{\"diverging\":[[0,\"#8e0152\"],[0.1,\"#c51b7d\"],[0.2,\"#de77ae\"],[0.3,\"#f1b6da\"],[0.4,\"#fde0ef\"],[0.5,\"#f7f7f7\"],[0.6,\"#e6f5d0\"],[0.7,\"#b8e186\"],[0.8,\"#7fbc41\"],[0.9,\"#4d9221\"],[1,\"#276419\"]],\"sequential\":[[0.0,\"#0d0887\"],[0.1111111111111111,\"#46039f\"],[0.2222222222222222,\"#7201a8\"],[0.3333333333333333,\"#9c179e\"],[0.4444444444444444,\"#bd3786\"],[0.5555555555555556,\"#d8576b\"],[0.6666666666666666,\"#ed7953\"],[0.7777777777777778,\"#fb9f3a\"],[0.8888888888888888,\"#fdca26\"],[1.0,\"#f0f921\"]],\"sequentialminus\":[[0.0,\"#0d0887\"],[0.1111111111111111,\"#46039f\"],[0.2222222222222222,\"#7201a8\"],[0.3333333333333333,\"#9c179e\"],[0.4444444444444444,\"#bd3786\"],[0.5555555555555556,\"#d8576b\"],[0.6666666666666666,\"#ed7953\"],[0.7777777777777778,\"#fb9f3a\"],[0.8888888888888888,\"#fdca26\"],[1.0,\"#f0f921\"]]},\"colorway\":[\"#636efa\",\"#EF553B\",\"#00cc96\",\"#ab63fa\",\"#FFA15A\",\"#19d3f3\",\"#FF6692\",\"#B6E880\",\"#FF97FF\",\"#FECB52\"],\"font\":{\"color\":\"#2a3f5f\"},\"geo\":{\"bgcolor\":\"white\",\"lakecolor\":\"white\",\"landcolor\":\"#E5ECF6\",\"showlakes\":true,\"showland\":true,\"subunitcolor\":\"white\"},\"hoverlabel\":{\"align\":\"left\"},\"hovermode\":\"closest\",\"mapbox\":{\"style\":\"light\"},\"paper_bgcolor\":\"white\",\"plot_bgcolor\":\"#E5ECF6\",\"polar\":{\"angularaxis\":{\"gridcolor\":\"white\",\"linecolor\":\"white\",\"ticks\":\"\"},\"bgcolor\":\"#E5ECF6\",\"radialaxis\":{\"gridcolor\":\"white\",\"linecolor\":\"white\",\"ticks\":\"\"}},\"scene\":{\"xaxis\":{\"backgroundcolor\":\"#E5ECF6\",\"gridcolor\":\"white\",\"gridwidth\":2,\"linecolor\":\"white\",\"showbackground\":true,\"ticks\":\"\",\"zerolinecolor\":\"white\"},\"yaxis\":{\"backgroundcolor\":\"#E5ECF6\",\"gridcolor\":\"white\",\"gridwidth\":2,\"linecolor\":\"white\",\"showbackground\":true,\"ticks\":\"\",\"zerolinecolor\":\"white\"},\"zaxis\":{\"backgroundcolor\":\"#E5ECF6\",\"gridcolor\":\"white\",\"gridwidth\":2,\"linecolor\":\"white\",\"showbackground\":true,\"ticks\":\"\",\"zerolinecolor\":\"white\"}},\"shapedefaults\":{\"line\":{\"color\":\"#2a3f5f\"}},\"ternary\":{\"aaxis\":{\"gridcolor\":\"white\",\"linecolor\":\"white\",\"ticks\":\"\"},\"baxis\":{\"gridcolor\":\"white\",\"linecolor\":\"white\",\"ticks\":\"\"},\"bgcolor\":\"#E5ECF6\",\"caxis\":{\"gridcolor\":\"white\",\"linecolor\":\"white\",\"ticks\":\"\"}},\"title\":{\"x\":0.05},\"xaxis\":{\"automargin\":true,\"gridcolor\":\"white\",\"linecolor\":\"white\",\"ticks\":\"\",\"title\":{\"standoff\":15},\"zerolinecolor\":\"white\",\"zerolinewidth\":2},\"yaxis\":{\"automargin\":true,\"gridcolor\":\"white\",\"linecolor\":\"white\",\"ticks\":\"\",\"title\":{\"standoff\":15},\"zerolinecolor\":\"white\",\"zerolinewidth\":2}}},\"width\":1100},                        {\"responsive\": true}                    ).then(function(){\n",
       "                            \n",
       "var gd = document.getElementById('6d099cf3-787f-4c57-8d79-7e37518e9259');\n",
       "var x = new MutationObserver(function (mutations, observer) {{\n",
       "        var display = window.getComputedStyle(gd).display;\n",
       "        if (!display || display === 'none') {{\n",
       "            console.log([gd, 'removed!']);\n",
       "            Plotly.purge(gd);\n",
       "            observer.disconnect();\n",
       "        }}\n",
       "}});\n",
       "\n",
       "// Listen for the removal of the full notebook cells\n",
       "var notebookContainer = gd.closest('#notebook-container');\n",
       "if (notebookContainer) {{\n",
       "    x.observe(notebookContainer, {childList: true});\n",
       "}}\n",
       "\n",
       "// Listen for the clearing of the current output cell\n",
       "var outputEl = gd.closest('.output');\n",
       "if (outputEl) {{\n",
       "    x.observe(outputEl, {childList: true});\n",
       "}}\n",
       "\n",
       "                        })                };                });            </script>        </div>"
      ]
     },
     "metadata": {},
     "output_type": "display_data"
    }
   ],
   "source": [
    "myTreemapAgg = data2betested.loc[\"2020\"]  \\\n",
    "    .groupby(['StichtagDatJahr', 'QuarLang', 'HerkunftLang']) \\\n",
    "    .agg(sum_WBev=('AnzBestWir', 'sum')) \\\n",
    "    .sort_values('sum_WBev', ascending=True) \n",
    "\n",
    "fig = px.treemap(myTreemapAgg.reset_index(), path=[px.Constant(\"Wohnbevölkerung nach \"), 'StichtagDatJahr', 'QuarLang', 'HerkunftLang']\n",
    "                 , values='sum_WBev'\n",
    "                 , color='HerkunftLang'\n",
    "                 ## bei discrete scales (bei Klassen und Strings):                 \n",
    "                 #, color_discrete_map={'(?)':'lightgrey','EVP':'gold', 'Ausländer/in':'#FF3030', 'PdA':'#EE3B3B', 'Grüne':'#A2CD5A','GLP':'#CAFF70','Die Mitte':'orange','FDP':'#104E8B','AL':'deeppink','SVP':'forestgreen', 'FL ZÜRI':'#8B864E','Volt':'#lightblue' }         \n",
    "                 , color_discrete_map={'(?)':'lightgrey','Schweizer/in':'gold', 'SP':'#FF3030' }               \n",
    "                 ## bei continuous scales (bei Zahlenwerten):\n",
    "                , color_continuous_scale='blues'\n",
    "                #, color_continuous_midpoint=np.average(df['AnzBestWir'], weights=df['AnzBestWir'])   \n",
    "                 ,height=400\n",
    "                 ,width=1100\n",
    "                )\n",
    "fig.update_traces(root_color=\"grey\")\n",
    "fig.update_layout(margin = dict(t=50, l=25, r=250, b=25))\n",
    "fig.show()"
   ]
  },
  {
   "cell_type": "code",
   "execution_count": 117,
   "metadata": {},
   "outputs": [],
   "source": [
    "#data2betested.dtypes"
   ]
  },
  {
   "cell_type": "code",
   "execution_count": 116,
   "metadata": {},
   "outputs": [
    {
     "data": {
      "application/vnd.plotly.v1+json": {
       "config": {
        "plotlyServerURL": "https://plot.ly"
       },
       "data": [
        {
         "branchvalues": "total",
         "customdata": [
          [
           "Schweizer/in"
          ],
          [
           "Ausländer/in"
          ],
          [
           "Ausländer/in"
          ],
          [
           "Ausländer/in"
          ],
          [
           "Ausländer/in"
          ],
          [
           "Ausländer/in"
          ],
          [
           "Ausländer/in"
          ],
          [
           "Ausländer/in"
          ],
          [
           "Schweizer/in"
          ],
          [
           "Ausländer/in"
          ],
          [
           "Ausländer/in"
          ],
          [
           "Ausländer/in"
          ],
          [
           "Ausländer/in"
          ],
          [
           "Ausländer/in"
          ],
          [
           "Ausländer/in"
          ],
          [
           "Ausländer/in"
          ],
          [
           "Ausländer/in"
          ],
          [
           "Ausländer/in"
          ],
          [
           "Ausländer/in"
          ],
          [
           "Schweizer/in"
          ],
          [
           "Ausländer/in"
          ],
          [
           "Ausländer/in"
          ],
          [
           "Ausländer/in"
          ],
          [
           "Ausländer/in"
          ],
          [
           "Ausländer/in"
          ],
          [
           "Ausländer/in"
          ],
          [
           "Ausländer/in"
          ],
          [
           "Ausländer/in"
          ],
          [
           "Ausländer/in"
          ],
          [
           "Schweizer/in"
          ],
          [
           "Schweizer/in"
          ],
          [
           "Schweizer/in"
          ],
          [
           "Schweizer/in"
          ],
          [
           "Schweizer/in"
          ],
          [
           "Schweizer/in"
          ],
          [
           "Schweizer/in"
          ],
          [
           "Schweizer/in"
          ],
          [
           "Schweizer/in"
          ],
          [
           "Schweizer/in"
          ],
          [
           "Schweizer/in"
          ],
          [
           "Schweizer/in"
          ],
          [
           "Schweizer/in"
          ],
          [
           "Schweizer/in"
          ],
          [
           "Schweizer/in"
          ],
          [
           "Schweizer/in"
          ],
          [
           "Schweizer/in"
          ],
          [
           "Schweizer/in"
          ],
          [
           "Schweizer/in"
          ],
          [
           "Schweizer/in"
          ],
          [
           "Ausländer/in"
          ],
          [
           "Ausländer/in"
          ],
          [
           "Ausländer/in"
          ],
          [
           "Ausländer/in"
          ],
          [
           "Ausländer/in"
          ],
          [
           "Schweizer/in"
          ],
          [
           "Ausländer/in"
          ],
          [
           "Ausländer/in"
          ],
          [
           "Ausländer/in"
          ],
          [
           "Ausländer/in"
          ],
          [
           "Ausländer/in"
          ],
          [
           "Ausländer/in"
          ],
          [
           "Ausländer/in"
          ],
          [
           "Ausländer/in"
          ],
          [
           "Ausländer/in"
          ],
          [
           "Ausländer/in"
          ],
          [
           "Schweizer/in"
          ],
          [
           "Ausländer/in"
          ],
          [
           "Ausländer/in"
          ],
          [
           "Ausländer/in"
          ],
          [
           "Ausländer/in"
          ],
          [
           "Ausländer/in"
          ],
          [
           "Schweizer/in"
          ],
          [
           "Ausländer/in"
          ],
          [
           "Ausländer/in"
          ],
          [
           "Ausländer/in"
          ],
          [
           "Ausländer/in"
          ],
          [
           "Ausländer/in"
          ],
          [
           "Ausländer/in"
          ],
          [
           "Ausländer/in"
          ],
          [
           "Ausländer/in"
          ],
          [
           "Ausländer/in"
          ],
          [
           "Ausländer/in"
          ],
          [
           "Ausländer/in"
          ],
          [
           "Ausländer/in"
          ],
          [
           "Ausländer/in"
          ],
          [
           "Ausländer/in"
          ],
          [
           "Ausländer/in"
          ],
          [
           "Ausländer/in"
          ],
          [
           "Schweizer/in"
          ],
          [
           "Ausländer/in"
          ],
          [
           "Ausländer/in"
          ],
          [
           "Ausländer/in"
          ],
          [
           "Ausländer/in"
          ],
          [
           "Ausländer/in"
          ],
          [
           "Ausländer/in"
          ],
          [
           "Ausländer/in"
          ],
          [
           "Ausländer/in"
          ],
          [
           "Schweizer/in"
          ],
          [
           "Ausländer/in"
          ],
          [
           "Ausländer/in"
          ],
          [
           "Ausländer/in"
          ],
          [
           "Ausländer/in"
          ],
          [
           "Ausländer/in"
          ],
          [
           "Ausländer/in"
          ],
          [
           "Ausländer/in"
          ],
          [
           "Schweizer/in"
          ],
          [
           "Schweizer/in"
          ],
          [
           "Schweizer/in"
          ],
          [
           "Schweizer/in"
          ],
          [
           "Schweizer/in"
          ],
          [
           "Schweizer/in"
          ],
          [
           "Schweizer/in"
          ],
          [
           "Schweizer/in"
          ],
          [
           "Schweizer/in"
          ],
          [
           "Schweizer/in"
          ],
          [
           "Schweizer/in"
          ],
          [
           "Schweizer/in"
          ],
          [
           "Schweizer/in"
          ],
          [
           "Schweizer/in"
          ],
          [
           "Schweizer/in"
          ],
          [
           "Schweizer/in"
          ],
          [
           "Schweizer/in"
          ],
          [
           "Schweizer/in"
          ],
          [
           "Schweizer/in"
          ],
          [
           "Schweizer/in"
          ],
          [
           "Schweizer/in"
          ],
          [
           "Schweizer/in"
          ],
          [
           "Schweizer/in"
          ],
          [
           "Schweizer/in"
          ],
          [
           "Schweizer/in"
          ],
          [
           "Schweizer/in"
          ],
          [
           "Schweizer/in"
          ],
          [
           "Schweizer/in"
          ],
          [
           "Schweizer/in"
          ],
          [
           "Schweizer/in"
          ],
          [
           "Schweizer/in"
          ],
          [
           "Schweizer/in"
          ],
          [
           "Schweizer/in"
          ],
          [
           "Schweizer/in"
          ],
          [
           "Schweizer/in"
          ],
          [
           "Schweizer/in"
          ],
          [
           "Schweizer/in"
          ],
          [
           "Schweizer/in"
          ],
          [
           "Schweizer/in"
          ],
          [
           "Schweizer/in"
          ],
          [
           "Schweizer/in"
          ],
          [
           "Schweizer/in"
          ],
          [
           "Schweizer/in"
          ],
          [
           "Schweizer/in"
          ],
          [
           "Schweizer/in"
          ],
          [
           "Ausländer/in"
          ],
          [
           "Schweizer/in"
          ],
          [
           "Ausländer/in"
          ],
          [
           "Ausländer/in"
          ],
          [
           "Ausländer/in"
          ],
          [
           "Ausländer/in"
          ],
          [
           "Ausländer/in"
          ],
          [
           "Ausländer/in"
          ],
          [
           "Ausländer/in"
          ],
          [
           "Ausländer/in"
          ],
          [
           "Ausländer/in"
          ],
          [
           "Ausländer/in"
          ],
          [
           "Ausländer/in"
          ],
          [
           "Ausländer/in"
          ],
          [
           "Ausländer/in"
          ],
          [
           "Ausländer/in"
          ],
          [
           "Ausländer/in"
          ],
          [
           "Ausländer/in"
          ],
          [
           "Ausländer/in"
          ],
          [
           "Ausländer/in"
          ],
          [
           "Ausländer/in"
          ],
          [
           "Ausländer/in"
          ],
          [
           "Ausländer/in"
          ],
          [
           "Ausländer/in"
          ],
          [
           "Ausländer/in"
          ],
          [
           "Ausländer/in"
          ],
          [
           "Ausländer/in"
          ],
          [
           "Ausländer/in"
          ],
          [
           "Ausländer/in"
          ],
          [
           "Schweizer/in"
          ],
          [
           "Schweizer/in"
          ],
          [
           "Schweizer/in"
          ],
          [
           "Schweizer/in"
          ],
          [
           "Schweizer/in"
          ],
          [
           "Schweizer/in"
          ],
          [
           "Schweizer/in"
          ],
          [
           "Schweizer/in"
          ],
          [
           "Schweizer/in"
          ],
          [
           "Schweizer/in"
          ],
          [
           "Schweizer/in"
          ],
          [
           "Schweizer/in"
          ],
          [
           "Schweizer/in"
          ],
          [
           "Schweizer/in"
          ],
          [
           "Schweizer/in"
          ],
          [
           "Schweizer/in"
          ],
          [
           "Schweizer/in"
          ],
          [
           "Schweizer/in"
          ],
          [
           "Schweizer/in"
          ],
          [
           "Schweizer/in"
          ],
          [
           "Schweizer/in"
          ],
          [
           "Schweizer/in"
          ],
          [
           "Schweizer/in"
          ],
          [
           "Schweizer/in"
          ],
          [
           "Schweizer/in"
          ],
          [
           "Schweizer/in"
          ],
          [
           "Schweizer/in"
          ],
          [
           "Schweizer/in"
          ],
          [
           "Schweizer/in"
          ],
          [
           "Schweizer/in"
          ],
          [
           "Schweizer/in"
          ],
          [
           "Schweizer/in"
          ],
          [
           "Schweizer/in"
          ],
          [
           "Schweizer/in"
          ],
          [
           "(?)"
          ],
          [
           "(?)"
          ],
          [
           "(?)"
          ],
          [
           "(?)"
          ],
          [
           "(?)"
          ],
          [
           "(?)"
          ],
          [
           "(?)"
          ],
          [
           "(?)"
          ],
          [
           "(?)"
          ],
          [
           "(?)"
          ],
          [
           "(?)"
          ],
          [
           "(?)"
          ],
          [
           "(?)"
          ],
          [
           "(?)"
          ],
          [
           "(?)"
          ],
          [
           "(?)"
          ],
          [
           "(?)"
          ],
          [
           "(?)"
          ],
          [
           "(?)"
          ],
          [
           "(?)"
          ],
          [
           "(?)"
          ],
          [
           "(?)"
          ],
          [
           "(?)"
          ],
          [
           "(?)"
          ],
          [
           "(?)"
          ],
          [
           "(?)"
          ],
          [
           "(?)"
          ],
          [
           "(?)"
          ],
          [
           "(?)"
          ],
          [
           "(?)"
          ],
          [
           "(?)"
          ],
          [
           "(?)"
          ],
          [
           "(?)"
          ],
          [
           "(?)"
          ],
          [
           "(?)"
          ],
          [
           "(?)"
          ],
          [
           "(?)"
          ],
          [
           "(?)"
          ],
          [
           "(?)"
          ],
          [
           "(?)"
          ],
          [
           "(?)"
          ],
          [
           "(?)"
          ],
          [
           "(?)"
          ],
          [
           "(?)"
          ],
          [
           "(?)"
          ],
          [
           "(?)"
          ],
          [
           "(?)"
          ],
          [
           "(?)"
          ],
          [
           "(?)"
          ],
          [
           "(?)"
          ],
          [
           "(?)"
          ],
          [
           "(?)"
          ],
          [
           "(?)"
          ],
          [
           "(?)"
          ],
          [
           "(?)"
          ],
          [
           "(?)"
          ],
          [
           "(?)"
          ],
          [
           "(?)"
          ],
          [
           "(?)"
          ],
          [
           "(?)"
          ],
          [
           "(?)"
          ],
          [
           "(?)"
          ],
          [
           "(?)"
          ],
          [
           "(?)"
          ],
          [
           "(?)"
          ],
          [
           "(?)"
          ],
          [
           "(?)"
          ],
          [
           "(?)"
          ],
          [
           "(?)"
          ],
          [
           "(?)"
          ],
          [
           "(?)"
          ],
          [
           "(?)"
          ],
          [
           "(?)"
          ],
          [
           "(?)"
          ],
          [
           "(?)"
          ],
          [
           "(?)"
          ],
          [
           "(?)"
          ],
          [
           "(?)"
          ],
          [
           "(?)"
          ],
          [
           "(?)"
          ],
          [
           "(?)"
          ],
          [
           "(?)"
          ],
          [
           "(?)"
          ],
          [
           "(?)"
          ],
          [
           "(?)"
          ],
          [
           "(?)"
          ],
          [
           "(?)"
          ],
          [
           "(?)"
          ],
          [
           "(?)"
          ],
          [
           "(?)"
          ],
          [
           "(?)"
          ],
          [
           "(?)"
          ],
          [
           "(?)"
          ],
          [
           "(?)"
          ],
          [
           "(?)"
          ],
          [
           "(?)"
          ],
          [
           "(?)"
          ],
          [
           "(?)"
          ],
          [
           "(?)"
          ],
          [
           "(?)"
          ],
          [
           "(?)"
          ],
          [
           "(?)"
          ],
          [
           "(?)"
          ],
          [
           "(?)"
          ],
          [
           "(?)"
          ],
          [
           "Schweizer/in"
          ],
          [
           "Schweizer/in"
          ],
          [
           "Schweizer/in"
          ],
          [
           "(?)"
          ],
          [
           "(?)"
          ]
         ],
         "domain": {
          "x": [
           0,
           1
          ],
          "y": [
           0,
           1
          ]
         },
         "hovertemplate": "labels=%{label}<br>sum_WBev=%{value}<br>parent=%{parent}<br>id=%{id}<br>HerkunftLang=%{customdata[0]}<extra></extra>",
         "ids": [
          "Wohnbevölkerung nach /2020-01-01/1/Schweizer/in",
          "Wohnbevölkerung nach /2020-01-01/91/Ausländer/in",
          "Wohnbevölkerung nach /2020-01-01/89/Ausländer/in",
          "Wohnbevölkerung nach /2020-01-01/88/Ausländer/in",
          "Wohnbevölkerung nach /2020-01-01/87/Ausländer/in",
          "Wohnbevölkerung nach /2020-01-01/86/Ausländer/in",
          "Wohnbevölkerung nach /2020-01-01/84/Ausländer/in",
          "Wohnbevölkerung nach /2020-01-01/83/Ausländer/in",
          "Wohnbevölkerung nach /2020-01-01/86/Schweizer/in",
          "Wohnbevölkerung nach /2020-01-01/81/Ausländer/in",
          "Wohnbevölkerung nach /2020-01-01/80/Ausländer/in",
          "Wohnbevölkerung nach /2020-01-01/78/Ausländer/in",
          "Wohnbevölkerung nach /2020-01-01/77/Ausländer/in",
          "Wohnbevölkerung nach /2020-01-01/75/Ausländer/in",
          "Wohnbevölkerung nach /2020-01-01/73/Ausländer/in",
          "Wohnbevölkerung nach /2020-01-01/71/Ausländer/in",
          "Wohnbevölkerung nach /2020-01-01/70/Ausländer/in",
          "Wohnbevölkerung nach /2020-01-01/69/Ausländer/in",
          "Wohnbevölkerung nach /2020-01-01/68/Ausländer/in",
          "Wohnbevölkerung nach /2020-01-01/90/Schweizer/in",
          "Wohnbevölkerung nach /2020-01-01/66/Ausländer/in",
          "Wohnbevölkerung nach /2020-01-01/65/Ausländer/in",
          "Wohnbevölkerung nach /2020-01-01/64/Ausländer/in",
          "Wohnbevölkerung nach /2020-01-01/63/Ausländer/in",
          "Wohnbevölkerung nach /2020-01-01/62/Ausländer/in",
          "Wohnbevölkerung nach /2020-01-01/61/Ausländer/in",
          "Wohnbevölkerung nach /2020-01-01/94/Ausländer/in",
          "Wohnbevölkerung nach /2020-01-01/60/Ausländer/in",
          "Wohnbevölkerung nach /2020-01-01/95/Ausländer/in",
          "Wohnbevölkerung nach /2020-01-01/81/Schweizer/in",
          "Wohnbevölkerung nach /2020-01-01/48/Schweizer/in",
          "Wohnbevölkerung nach /2020-01-01/49/Schweizer/in",
          "Wohnbevölkerung nach /2020-01-01/37/Schweizer/in",
          "Wohnbevölkerung nach /2020-01-01/33/Schweizer/in",
          "Wohnbevölkerung nach /2020-01-01/57/Schweizer/in",
          "Wohnbevölkerung nach /2020-01-01/29/Schweizer/in",
          "Wohnbevölkerung nach /2020-01-01/59/Schweizer/in",
          "Wohnbevölkerung nach /2020-01-01/25/Schweizer/in",
          "Wohnbevölkerung nach /2020-01-01/61/Schweizer/in",
          "Wohnbevölkerung nach /2020-01-01/63/Schweizer/in",
          "Wohnbevölkerung nach /2020-01-01/19/Schweizer/in",
          "Wohnbevölkerung nach /2020-01-01/17/Schweizer/in",
          "Wohnbevölkerung nach /2020-01-01/70/Schweizer/in",
          "Wohnbevölkerung nach /2020-01-01/8/Schweizer/in",
          "Wohnbevölkerung nach /2020-01-01/7/Schweizer/in",
          "Wohnbevölkerung nach /2020-01-01/4/Schweizer/in",
          "Wohnbevölkerung nach /2020-01-01/3/Schweizer/in",
          "Wohnbevölkerung nach /2020-01-01/77/Schweizer/in",
          "Wohnbevölkerung nach /2020-01-01/0/Schweizer/in",
          "Wohnbevölkerung nach /2020-01-01/104/Ausländer/in",
          "Wohnbevölkerung nach /2020-01-01/103/Ausländer/in",
          "Wohnbevölkerung nach /2020-01-01/102/Ausländer/in",
          "Wohnbevölkerung nach /2020-01-01/101/Ausländer/in",
          "Wohnbevölkerung nach /2020-01-01/99/Ausländer/in",
          "Wohnbevölkerung nach /2020-01-01/80/Schweizer/in",
          "Wohnbevölkerung nach /2020-01-01/96/Ausländer/in",
          "Wohnbevölkerung nach /2020-01-01/59/Ausländer/in",
          "Wohnbevölkerung nach /2020-01-01/74/Ausländer/in",
          "Wohnbevölkerung nach /2020-01-01/21/Ausländer/in",
          "Wohnbevölkerung nach /2020-01-01/34/Ausländer/in",
          "Wohnbevölkerung nach /2020-01-01/33/Ausländer/in",
          "Wohnbevölkerung nach /2020-01-01/31/Ausländer/in",
          "Wohnbevölkerung nach /2020-01-01/30/Ausländer/in",
          "Wohnbevölkerung nach /2020-01-01/28/Ausländer/in",
          "Wohnbevölkerung nach /2020-01-01/27/Ausländer/in",
          "Wohnbevölkerung nach /2020-01-01/97/Schweizer/in",
          "Wohnbevölkerung nach /2020-01-01/25/Ausländer/in",
          "Wohnbevölkerung nach /2020-01-01/24/Ausländer/in",
          "Wohnbevölkerung nach /2020-01-01/23/Ausländer/in",
          "Wohnbevölkerung nach /2020-01-01/5/Ausländer/in",
          "Wohnbevölkerung nach /2020-01-01/57/Ausländer/in",
          "Wohnbevölkerung nach /2020-01-01/99/Schweizer/in",
          "Wohnbevölkerung nach /2020-01-01/19/Ausländer/in",
          "Wohnbevölkerung nach /2020-01-01/18/Ausländer/in",
          "Wohnbevölkerung nach /2020-01-01/16/Ausländer/in",
          "Wohnbevölkerung nach /2020-01-01/15/Ausländer/in",
          "Wohnbevölkerung nach /2020-01-01/8/Ausländer/in",
          "Wohnbevölkerung nach /2020-01-01/9/Ausländer/in",
          "Wohnbevölkerung nach /2020-01-01/10/Ausländer/in",
          "Wohnbevölkerung nach /2020-01-01/13/Ausländer/in",
          "Wohnbevölkerung nach /2020-01-01/3/Ausländer/in",
          "Wohnbevölkerung nach /2020-01-01/36/Ausländer/in",
          "Wohnbevölkerung nach /2020-01-01/12/Ausländer/in",
          "Wohnbevölkerung nach /2020-01-01/38/Ausländer/in",
          "Wohnbevölkerung nach /2020-01-01/56/Ausländer/in",
          "Wohnbevölkerung nach /2020-01-01/55/Ausländer/in",
          "Wohnbevölkerung nach /2020-01-01/54/Ausländer/in",
          "Wohnbevölkerung nach /2020-01-01/53/Ausländer/in",
          "Wohnbevölkerung nach /2020-01-01/92/Schweizer/in",
          "Wohnbevölkerung nach /2020-01-01/51/Ausländer/in",
          "Wohnbevölkerung nach /2020-01-01/50/Ausländer/in",
          "Wohnbevölkerung nach /2020-01-01/49/Ausländer/in",
          "Wohnbevölkerung nach /2020-01-01/48/Ausländer/in",
          "Wohnbevölkerung nach /2020-01-01/47/Ausländer/in",
          "Wohnbevölkerung nach /2020-01-01/37/Ausländer/in",
          "Wohnbevölkerung nach /2020-01-01/45/Ausländer/in",
          "Wohnbevölkerung nach /2020-01-01/44/Ausländer/in",
          "Wohnbevölkerung nach /2020-01-01/93/Schweizer/in",
          "Wohnbevölkerung nach /2020-01-01/1/Ausländer/in",
          "Wohnbevölkerung nach /2020-01-01/42/Ausländer/in",
          "Wohnbevölkerung nach /2020-01-01/2/Ausländer/in",
          "Wohnbevölkerung nach /2020-01-01/39/Ausländer/in",
          "Wohnbevölkerung nach /2020-01-01/41/Ausländer/in",
          "Wohnbevölkerung nach /2020-01-01/43/Ausländer/in",
          "Wohnbevölkerung nach /2020-01-01/40/Ausländer/in",
          "Wohnbevölkerung nach /2020-01-01/47/Schweizer/in",
          "Wohnbevölkerung nach /2020-01-01/102/Schweizer/in",
          "Wohnbevölkerung nach /2020-01-01/65/Schweizer/in",
          "Wohnbevölkerung nach /2020-01-01/51/Schweizer/in",
          "Wohnbevölkerung nach /2020-01-01/64/Schweizer/in",
          "Wohnbevölkerung nach /2020-01-01/62/Schweizer/in",
          "Wohnbevölkerung nach /2020-01-01/50/Schweizer/in",
          "Wohnbevölkerung nach /2020-01-01/103/Schweizer/in",
          "Wohnbevölkerung nach /2020-01-01/60/Schweizer/in",
          "Wohnbevölkerung nach /2020-01-01/58/Schweizer/in",
          "Wohnbevölkerung nach /2020-01-01/66/Schweizer/in",
          "Wohnbevölkerung nach /2020-01-01/104/Schweizer/in",
          "Wohnbevölkerung nach /2020-01-01/54/Schweizer/in",
          "Wohnbevölkerung nach /2020-01-01/105/Schweizer/in",
          "Wohnbevölkerung nach /2020-01-01/55/Schweizer/in",
          "Wohnbevölkerung nach /2020-01-01/56/Schweizer/in",
          "Wohnbevölkerung nach /2020-01-01/52/Schweizer/in",
          "Wohnbevölkerung nach /2020-01-01/53/Schweizer/in",
          "Wohnbevölkerung nach /2020-01-01/91/Schweizer/in",
          "Wohnbevölkerung nach /2020-01-01/68/Schweizer/in",
          "Wohnbevölkerung nach /2020-01-01/89/Schweizer/in",
          "Wohnbevölkerung nach /2020-01-01/46/Schweizer/in",
          "Wohnbevölkerung nach /2020-01-01/88/Schweizer/in",
          "Wohnbevölkerung nach /2020-01-01/87/Schweizer/in",
          "Wohnbevölkerung nach /2020-01-01/94/Schweizer/in",
          "Wohnbevölkerung nach /2020-01-01/85/Schweizer/in",
          "Wohnbevölkerung nach /2020-01-01/95/Schweizer/in",
          "Wohnbevölkerung nach /2020-01-01/84/Schweizer/in",
          "Wohnbevölkerung nach /2020-01-01/83/Schweizer/in",
          "Wohnbevölkerung nach /2020-01-01/82/Schweizer/in",
          "Wohnbevölkerung nach /2020-01-01/96/Schweizer/in",
          "Wohnbevölkerung nach /2020-01-01/79/Schweizer/in",
          "Wohnbevölkerung nach /2020-01-01/98/Schweizer/in",
          "Wohnbevölkerung nach /2020-01-01/78/Schweizer/in",
          "Wohnbevölkerung nach /2020-01-01/100/Schweizer/in",
          "Wohnbevölkerung nach /2020-01-01/76/Schweizer/in",
          "Wohnbevölkerung nach /2020-01-01/75/Schweizer/in",
          "Wohnbevölkerung nach /2020-01-01/101/Schweizer/in",
          "Wohnbevölkerung nach /2020-01-01/74/Schweizer/in",
          "Wohnbevölkerung nach /2020-01-01/73/Schweizer/in",
          "Wohnbevölkerung nach /2020-01-01/72/Schweizer/in",
          "Wohnbevölkerung nach /2020-01-01/71/Schweizer/in",
          "Wohnbevölkerung nach /2020-01-01/69/Schweizer/in",
          "Wohnbevölkerung nach /2020-01-01/67/Schweizer/in",
          "Wohnbevölkerung nach /2020-01-01/45/Schweizer/in",
          "Wohnbevölkerung nach /2020-01-01/0/Ausländer/in",
          "Wohnbevölkerung nach /2020-01-01/43/Schweizer/in",
          "Wohnbevölkerung nach /2020-01-01/100/Ausländer/in",
          "Wohnbevölkerung nach /2020-01-01/98/Ausländer/in",
          "Wohnbevölkerung nach /2020-01-01/97/Ausländer/in",
          "Wohnbevölkerung nach /2020-01-01/93/Ausländer/in",
          "Wohnbevölkerung nach /2020-01-01/92/Ausländer/in",
          "Wohnbevölkerung nach /2020-01-01/90/Ausländer/in",
          "Wohnbevölkerung nach /2020-01-01/85/Ausländer/in",
          "Wohnbevölkerung nach /2020-01-01/82/Ausländer/in",
          "Wohnbevölkerung nach /2020-01-01/79/Ausländer/in",
          "Wohnbevölkerung nach /2020-01-01/76/Ausländer/in",
          "Wohnbevölkerung nach /2020-01-01/72/Ausländer/in",
          "Wohnbevölkerung nach /2020-01-01/67/Ausländer/in",
          "Wohnbevölkerung nach /2020-01-01/58/Ausländer/in",
          "Wohnbevölkerung nach /2020-01-01/52/Ausländer/in",
          "Wohnbevölkerung nach /2020-01-01/46/Ausländer/in",
          "Wohnbevölkerung nach /2020-01-01/35/Ausländer/in",
          "Wohnbevölkerung nach /2020-01-01/32/Ausländer/in",
          "Wohnbevölkerung nach /2020-01-01/29/Ausländer/in",
          "Wohnbevölkerung nach /2020-01-01/26/Ausländer/in",
          "Wohnbevölkerung nach /2020-01-01/22/Ausländer/in",
          "Wohnbevölkerung nach /2020-01-01/20/Ausländer/in",
          "Wohnbevölkerung nach /2020-01-01/17/Ausländer/in",
          "Wohnbevölkerung nach /2020-01-01/14/Ausländer/in",
          "Wohnbevölkerung nach /2020-01-01/11/Ausländer/in",
          "Wohnbevölkerung nach /2020-01-01/7/Ausländer/in",
          "Wohnbevölkerung nach /2020-01-01/6/Ausländer/in",
          "Wohnbevölkerung nach /2020-01-01/4/Ausländer/in",
          "Wohnbevölkerung nach /2020-01-01/106/Schweizer/in",
          "Wohnbevölkerung nach /2020-01-01/2/Schweizer/in",
          "Wohnbevölkerung nach /2020-01-01/5/Schweizer/in",
          "Wohnbevölkerung nach /2020-01-01/6/Schweizer/in",
          "Wohnbevölkerung nach /2020-01-01/42/Schweizer/in",
          "Wohnbevölkerung nach /2020-01-01/41/Schweizer/in",
          "Wohnbevölkerung nach /2020-01-01/40/Schweizer/in",
          "Wohnbevölkerung nach /2020-01-01/39/Schweizer/in",
          "Wohnbevölkerung nach /2020-01-01/38/Schweizer/in",
          "Wohnbevölkerung nach /2020-01-01/36/Schweizer/in",
          "Wohnbevölkerung nach /2020-01-01/35/Schweizer/in",
          "Wohnbevölkerung nach /2020-01-01/34/Schweizer/in",
          "Wohnbevölkerung nach /2020-01-01/32/Schweizer/in",
          "Wohnbevölkerung nach /2020-01-01/31/Schweizer/in",
          "Wohnbevölkerung nach /2020-01-01/30/Schweizer/in",
          "Wohnbevölkerung nach /2020-01-01/28/Schweizer/in",
          "Wohnbevölkerung nach /2020-01-01/27/Schweizer/in",
          "Wohnbevölkerung nach /2020-01-01/44/Schweizer/in",
          "Wohnbevölkerung nach /2020-01-01/26/Schweizer/in",
          "Wohnbevölkerung nach /2020-01-01/23/Schweizer/in",
          "Wohnbevölkerung nach /2020-01-01/22/Schweizer/in",
          "Wohnbevölkerung nach /2020-01-01/21/Schweizer/in",
          "Wohnbevölkerung nach /2020-01-01/20/Schweizer/in",
          "Wohnbevölkerung nach /2020-01-01/18/Schweizer/in",
          "Wohnbevölkerung nach /2020-01-01/16/Schweizer/in",
          "Wohnbevölkerung nach /2020-01-01/15/Schweizer/in",
          "Wohnbevölkerung nach /2020-01-01/14/Schweizer/in",
          "Wohnbevölkerung nach /2020-01-01/13/Schweizer/in",
          "Wohnbevölkerung nach /2020-01-01/12/Schweizer/in",
          "Wohnbevölkerung nach /2020-01-01/11/Schweizer/in",
          "Wohnbevölkerung nach /2020-01-01/10/Schweizer/in",
          "Wohnbevölkerung nach /2020-01-01/9/Schweizer/in",
          "Wohnbevölkerung nach /2020-01-01/24/Schweizer/in",
          "Wohnbevölkerung nach /2020-01-01/107/Schweizer/in",
          "Wohnbevölkerung nach /2020-01-01/0",
          "Wohnbevölkerung nach /2020-01-01/1",
          "Wohnbevölkerung nach /2020-01-01/2",
          "Wohnbevölkerung nach /2020-01-01/3",
          "Wohnbevölkerung nach /2020-01-01/4",
          "Wohnbevölkerung nach /2020-01-01/5",
          "Wohnbevölkerung nach /2020-01-01/6",
          "Wohnbevölkerung nach /2020-01-01/7",
          "Wohnbevölkerung nach /2020-01-01/8",
          "Wohnbevölkerung nach /2020-01-01/9",
          "Wohnbevölkerung nach /2020-01-01/10",
          "Wohnbevölkerung nach /2020-01-01/11",
          "Wohnbevölkerung nach /2020-01-01/12",
          "Wohnbevölkerung nach /2020-01-01/13",
          "Wohnbevölkerung nach /2020-01-01/14",
          "Wohnbevölkerung nach /2020-01-01/15",
          "Wohnbevölkerung nach /2020-01-01/16",
          "Wohnbevölkerung nach /2020-01-01/17",
          "Wohnbevölkerung nach /2020-01-01/18",
          "Wohnbevölkerung nach /2020-01-01/19",
          "Wohnbevölkerung nach /2020-01-01/20",
          "Wohnbevölkerung nach /2020-01-01/21",
          "Wohnbevölkerung nach /2020-01-01/22",
          "Wohnbevölkerung nach /2020-01-01/23",
          "Wohnbevölkerung nach /2020-01-01/24",
          "Wohnbevölkerung nach /2020-01-01/25",
          "Wohnbevölkerung nach /2020-01-01/26",
          "Wohnbevölkerung nach /2020-01-01/27",
          "Wohnbevölkerung nach /2020-01-01/28",
          "Wohnbevölkerung nach /2020-01-01/29",
          "Wohnbevölkerung nach /2020-01-01/30",
          "Wohnbevölkerung nach /2020-01-01/31",
          "Wohnbevölkerung nach /2020-01-01/32",
          "Wohnbevölkerung nach /2020-01-01/33",
          "Wohnbevölkerung nach /2020-01-01/34",
          "Wohnbevölkerung nach /2020-01-01/35",
          "Wohnbevölkerung nach /2020-01-01/36",
          "Wohnbevölkerung nach /2020-01-01/37",
          "Wohnbevölkerung nach /2020-01-01/38",
          "Wohnbevölkerung nach /2020-01-01/39",
          "Wohnbevölkerung nach /2020-01-01/40",
          "Wohnbevölkerung nach /2020-01-01/41",
          "Wohnbevölkerung nach /2020-01-01/42",
          "Wohnbevölkerung nach /2020-01-01/43",
          "Wohnbevölkerung nach /2020-01-01/44",
          "Wohnbevölkerung nach /2020-01-01/45",
          "Wohnbevölkerung nach /2020-01-01/46",
          "Wohnbevölkerung nach /2020-01-01/47",
          "Wohnbevölkerung nach /2020-01-01/48",
          "Wohnbevölkerung nach /2020-01-01/49",
          "Wohnbevölkerung nach /2020-01-01/50",
          "Wohnbevölkerung nach /2020-01-01/51",
          "Wohnbevölkerung nach /2020-01-01/52",
          "Wohnbevölkerung nach /2020-01-01/53",
          "Wohnbevölkerung nach /2020-01-01/54",
          "Wohnbevölkerung nach /2020-01-01/55",
          "Wohnbevölkerung nach /2020-01-01/56",
          "Wohnbevölkerung nach /2020-01-01/57",
          "Wohnbevölkerung nach /2020-01-01/58",
          "Wohnbevölkerung nach /2020-01-01/59",
          "Wohnbevölkerung nach /2020-01-01/60",
          "Wohnbevölkerung nach /2020-01-01/61",
          "Wohnbevölkerung nach /2020-01-01/62",
          "Wohnbevölkerung nach /2020-01-01/63",
          "Wohnbevölkerung nach /2020-01-01/64",
          "Wohnbevölkerung nach /2020-01-01/65",
          "Wohnbevölkerung nach /2020-01-01/66",
          "Wohnbevölkerung nach /2020-01-01/67",
          "Wohnbevölkerung nach /2020-01-01/68",
          "Wohnbevölkerung nach /2020-01-01/69",
          "Wohnbevölkerung nach /2020-01-01/70",
          "Wohnbevölkerung nach /2020-01-01/71",
          "Wohnbevölkerung nach /2020-01-01/72",
          "Wohnbevölkerung nach /2020-01-01/73",
          "Wohnbevölkerung nach /2020-01-01/74",
          "Wohnbevölkerung nach /2020-01-01/75",
          "Wohnbevölkerung nach /2020-01-01/76",
          "Wohnbevölkerung nach /2020-01-01/77",
          "Wohnbevölkerung nach /2020-01-01/78",
          "Wohnbevölkerung nach /2020-01-01/79",
          "Wohnbevölkerung nach /2020-01-01/80",
          "Wohnbevölkerung nach /2020-01-01/81",
          "Wohnbevölkerung nach /2020-01-01/82",
          "Wohnbevölkerung nach /2020-01-01/83",
          "Wohnbevölkerung nach /2020-01-01/84",
          "Wohnbevölkerung nach /2020-01-01/85",
          "Wohnbevölkerung nach /2020-01-01/86",
          "Wohnbevölkerung nach /2020-01-01/87",
          "Wohnbevölkerung nach /2020-01-01/88",
          "Wohnbevölkerung nach /2020-01-01/89",
          "Wohnbevölkerung nach /2020-01-01/90",
          "Wohnbevölkerung nach /2020-01-01/91",
          "Wohnbevölkerung nach /2020-01-01/92",
          "Wohnbevölkerung nach /2020-01-01/93",
          "Wohnbevölkerung nach /2020-01-01/94",
          "Wohnbevölkerung nach /2020-01-01/95",
          "Wohnbevölkerung nach /2020-01-01/96",
          "Wohnbevölkerung nach /2020-01-01/97",
          "Wohnbevölkerung nach /2020-01-01/98",
          "Wohnbevölkerung nach /2020-01-01/99",
          "Wohnbevölkerung nach /2020-01-01/100",
          "Wohnbevölkerung nach /2020-01-01/101",
          "Wohnbevölkerung nach /2020-01-01/102",
          "Wohnbevölkerung nach /2020-01-01/103",
          "Wohnbevölkerung nach /2020-01-01/104",
          "Wohnbevölkerung nach /2020-01-01/105",
          "Wohnbevölkerung nach /2020-01-01/106",
          "Wohnbevölkerung nach /2020-01-01/107",
          "Wohnbevölkerung nach /2020-01-01",
          "Wohnbevölkerung nach "
         ],
         "labels": [
          "Schweizer/in",
          "Ausländer/in",
          "Ausländer/in",
          "Ausländer/in",
          "Ausländer/in",
          "Ausländer/in",
          "Ausländer/in",
          "Ausländer/in",
          "Schweizer/in",
          "Ausländer/in",
          "Ausländer/in",
          "Ausländer/in",
          "Ausländer/in",
          "Ausländer/in",
          "Ausländer/in",
          "Ausländer/in",
          "Ausländer/in",
          "Ausländer/in",
          "Ausländer/in",
          "Schweizer/in",
          "Ausländer/in",
          "Ausländer/in",
          "Ausländer/in",
          "Ausländer/in",
          "Ausländer/in",
          "Ausländer/in",
          "Ausländer/in",
          "Ausländer/in",
          "Ausländer/in",
          "Schweizer/in",
          "Schweizer/in",
          "Schweizer/in",
          "Schweizer/in",
          "Schweizer/in",
          "Schweizer/in",
          "Schweizer/in",
          "Schweizer/in",
          "Schweizer/in",
          "Schweizer/in",
          "Schweizer/in",
          "Schweizer/in",
          "Schweizer/in",
          "Schweizer/in",
          "Schweizer/in",
          "Schweizer/in",
          "Schweizer/in",
          "Schweizer/in",
          "Schweizer/in",
          "Schweizer/in",
          "Ausländer/in",
          "Ausländer/in",
          "Ausländer/in",
          "Ausländer/in",
          "Ausländer/in",
          "Schweizer/in",
          "Ausländer/in",
          "Ausländer/in",
          "Ausländer/in",
          "Ausländer/in",
          "Ausländer/in",
          "Ausländer/in",
          "Ausländer/in",
          "Ausländer/in",
          "Ausländer/in",
          "Ausländer/in",
          "Schweizer/in",
          "Ausländer/in",
          "Ausländer/in",
          "Ausländer/in",
          "Ausländer/in",
          "Ausländer/in",
          "Schweizer/in",
          "Ausländer/in",
          "Ausländer/in",
          "Ausländer/in",
          "Ausländer/in",
          "Ausländer/in",
          "Ausländer/in",
          "Ausländer/in",
          "Ausländer/in",
          "Ausländer/in",
          "Ausländer/in",
          "Ausländer/in",
          "Ausländer/in",
          "Ausländer/in",
          "Ausländer/in",
          "Ausländer/in",
          "Ausländer/in",
          "Schweizer/in",
          "Ausländer/in",
          "Ausländer/in",
          "Ausländer/in",
          "Ausländer/in",
          "Ausländer/in",
          "Ausländer/in",
          "Ausländer/in",
          "Ausländer/in",
          "Schweizer/in",
          "Ausländer/in",
          "Ausländer/in",
          "Ausländer/in",
          "Ausländer/in",
          "Ausländer/in",
          "Ausländer/in",
          "Ausländer/in",
          "Schweizer/in",
          "Schweizer/in",
          "Schweizer/in",
          "Schweizer/in",
          "Schweizer/in",
          "Schweizer/in",
          "Schweizer/in",
          "Schweizer/in",
          "Schweizer/in",
          "Schweizer/in",
          "Schweizer/in",
          "Schweizer/in",
          "Schweizer/in",
          "Schweizer/in",
          "Schweizer/in",
          "Schweizer/in",
          "Schweizer/in",
          "Schweizer/in",
          "Schweizer/in",
          "Schweizer/in",
          "Schweizer/in",
          "Schweizer/in",
          "Schweizer/in",
          "Schweizer/in",
          "Schweizer/in",
          "Schweizer/in",
          "Schweizer/in",
          "Schweizer/in",
          "Schweizer/in",
          "Schweizer/in",
          "Schweizer/in",
          "Schweizer/in",
          "Schweizer/in",
          "Schweizer/in",
          "Schweizer/in",
          "Schweizer/in",
          "Schweizer/in",
          "Schweizer/in",
          "Schweizer/in",
          "Schweizer/in",
          "Schweizer/in",
          "Schweizer/in",
          "Schweizer/in",
          "Schweizer/in",
          "Schweizer/in",
          "Ausländer/in",
          "Schweizer/in",
          "Ausländer/in",
          "Ausländer/in",
          "Ausländer/in",
          "Ausländer/in",
          "Ausländer/in",
          "Ausländer/in",
          "Ausländer/in",
          "Ausländer/in",
          "Ausländer/in",
          "Ausländer/in",
          "Ausländer/in",
          "Ausländer/in",
          "Ausländer/in",
          "Ausländer/in",
          "Ausländer/in",
          "Ausländer/in",
          "Ausländer/in",
          "Ausländer/in",
          "Ausländer/in",
          "Ausländer/in",
          "Ausländer/in",
          "Ausländer/in",
          "Ausländer/in",
          "Ausländer/in",
          "Ausländer/in",
          "Ausländer/in",
          "Ausländer/in",
          "Schweizer/in",
          "Schweizer/in",
          "Schweizer/in",
          "Schweizer/in",
          "Schweizer/in",
          "Schweizer/in",
          "Schweizer/in",
          "Schweizer/in",
          "Schweizer/in",
          "Schweizer/in",
          "Schweizer/in",
          "Schweizer/in",
          "Schweizer/in",
          "Schweizer/in",
          "Schweizer/in",
          "Schweizer/in",
          "Schweizer/in",
          "Schweizer/in",
          "Schweizer/in",
          "Schweizer/in",
          "Schweizer/in",
          "Schweizer/in",
          "Schweizer/in",
          "Schweizer/in",
          "Schweizer/in",
          "Schweizer/in",
          "Schweizer/in",
          "Schweizer/in",
          "Schweizer/in",
          "Schweizer/in",
          "Schweizer/in",
          "Schweizer/in",
          "Schweizer/in",
          "Schweizer/in",
          "0",
          "1",
          "2",
          "3",
          "4",
          "5",
          "6",
          "7",
          "8",
          "9",
          "10",
          "11",
          "12",
          "13",
          "14",
          "15",
          "16",
          "17",
          "18",
          "19",
          "20",
          "21",
          "22",
          "23",
          "24",
          "25",
          "26",
          "27",
          "28",
          "29",
          "30",
          "31",
          "32",
          "33",
          "34",
          "35",
          "36",
          "37",
          "38",
          "39",
          "40",
          "41",
          "42",
          "43",
          "44",
          "45",
          "46",
          "47",
          "48",
          "49",
          "50",
          "51",
          "52",
          "53",
          "54",
          "55",
          "56",
          "57",
          "58",
          "59",
          "60",
          "61",
          "62",
          "63",
          "64",
          "65",
          "66",
          "67",
          "68",
          "69",
          "70",
          "71",
          "72",
          "73",
          "74",
          "75",
          "76",
          "77",
          "78",
          "79",
          "80",
          "81",
          "82",
          "83",
          "84",
          "85",
          "86",
          "87",
          "88",
          "89",
          "90",
          "91",
          "92",
          "93",
          "94",
          "95",
          "96",
          "97",
          "98",
          "99",
          "100",
          "101",
          "102",
          "103",
          "104",
          "105",
          "106",
          "107",
          "2020-01-01",
          "Wohnbevölkerung nach "
         ],
         "marker": {
          "colors": [
           "gold",
           "#ab63fa",
           "#ab63fa",
           "#ab63fa",
           "#ab63fa",
           "#ab63fa",
           "#ab63fa",
           "#ab63fa",
           "gold",
           "#ab63fa",
           "#ab63fa",
           "#ab63fa",
           "#ab63fa",
           "#ab63fa",
           "#ab63fa",
           "#ab63fa",
           "#ab63fa",
           "#ab63fa",
           "#ab63fa",
           "gold",
           "#ab63fa",
           "#ab63fa",
           "#ab63fa",
           "#ab63fa",
           "#ab63fa",
           "#ab63fa",
           "#ab63fa",
           "#ab63fa",
           "#ab63fa",
           "gold",
           "gold",
           "gold",
           "gold",
           "gold",
           "gold",
           "gold",
           "gold",
           "gold",
           "gold",
           "gold",
           "gold",
           "gold",
           "gold",
           "gold",
           "gold",
           "gold",
           "gold",
           "gold",
           "gold",
           "#ab63fa",
           "#ab63fa",
           "#ab63fa",
           "#ab63fa",
           "#ab63fa",
           "gold",
           "#ab63fa",
           "#ab63fa",
           "#ab63fa",
           "#ab63fa",
           "#ab63fa",
           "#ab63fa",
           "#ab63fa",
           "#ab63fa",
           "#ab63fa",
           "#ab63fa",
           "gold",
           "#ab63fa",
           "#ab63fa",
           "#ab63fa",
           "#ab63fa",
           "#ab63fa",
           "gold",
           "#ab63fa",
           "#ab63fa",
           "#ab63fa",
           "#ab63fa",
           "#ab63fa",
           "#ab63fa",
           "#ab63fa",
           "#ab63fa",
           "#ab63fa",
           "#ab63fa",
           "#ab63fa",
           "#ab63fa",
           "#ab63fa",
           "#ab63fa",
           "#ab63fa",
           "#ab63fa",
           "gold",
           "#ab63fa",
           "#ab63fa",
           "#ab63fa",
           "#ab63fa",
           "#ab63fa",
           "#ab63fa",
           "#ab63fa",
           "#ab63fa",
           "gold",
           "#ab63fa",
           "#ab63fa",
           "#ab63fa",
           "#ab63fa",
           "#ab63fa",
           "#ab63fa",
           "#ab63fa",
           "gold",
           "gold",
           "gold",
           "gold",
           "gold",
           "gold",
           "gold",
           "gold",
           "gold",
           "gold",
           "gold",
           "gold",
           "gold",
           "gold",
           "gold",
           "gold",
           "gold",
           "gold",
           "gold",
           "gold",
           "gold",
           "gold",
           "gold",
           "gold",
           "gold",
           "gold",
           "gold",
           "gold",
           "gold",
           "gold",
           "gold",
           "gold",
           "gold",
           "gold",
           "gold",
           "gold",
           "gold",
           "gold",
           "gold",
           "gold",
           "gold",
           "gold",
           "gold",
           "gold",
           "gold",
           "#ab63fa",
           "gold",
           "#ab63fa",
           "#ab63fa",
           "#ab63fa",
           "#ab63fa",
           "#ab63fa",
           "#ab63fa",
           "#ab63fa",
           "#ab63fa",
           "#ab63fa",
           "#ab63fa",
           "#ab63fa",
           "#ab63fa",
           "#ab63fa",
           "#ab63fa",
           "#ab63fa",
           "#ab63fa",
           "#ab63fa",
           "#ab63fa",
           "#ab63fa",
           "#ab63fa",
           "#ab63fa",
           "#ab63fa",
           "#ab63fa",
           "#ab63fa",
           "#ab63fa",
           "#ab63fa",
           "#ab63fa",
           "gold",
           "gold",
           "gold",
           "gold",
           "gold",
           "gold",
           "gold",
           "gold",
           "gold",
           "gold",
           "gold",
           "gold",
           "gold",
           "gold",
           "gold",
           "gold",
           "gold",
           "gold",
           "gold",
           "gold",
           "gold",
           "gold",
           "gold",
           "gold",
           "gold",
           "gold",
           "gold",
           "gold",
           "gold",
           "gold",
           "gold",
           "gold",
           "gold",
           "gold",
           "lightgrey",
           "lightgrey",
           "lightgrey",
           "lightgrey",
           "lightgrey",
           "lightgrey",
           "lightgrey",
           "lightgrey",
           "lightgrey",
           "lightgrey",
           "lightgrey",
           "lightgrey",
           "lightgrey",
           "lightgrey",
           "lightgrey",
           "lightgrey",
           "lightgrey",
           "lightgrey",
           "lightgrey",
           "lightgrey",
           "lightgrey",
           "lightgrey",
           "lightgrey",
           "lightgrey",
           "lightgrey",
           "lightgrey",
           "lightgrey",
           "lightgrey",
           "lightgrey",
           "lightgrey",
           "lightgrey",
           "lightgrey",
           "lightgrey",
           "lightgrey",
           "lightgrey",
           "lightgrey",
           "lightgrey",
           "lightgrey",
           "lightgrey",
           "lightgrey",
           "lightgrey",
           "lightgrey",
           "lightgrey",
           "lightgrey",
           "lightgrey",
           "lightgrey",
           "lightgrey",
           "lightgrey",
           "lightgrey",
           "lightgrey",
           "lightgrey",
           "lightgrey",
           "lightgrey",
           "lightgrey",
           "lightgrey",
           "lightgrey",
           "lightgrey",
           "lightgrey",
           "lightgrey",
           "lightgrey",
           "lightgrey",
           "lightgrey",
           "lightgrey",
           "lightgrey",
           "lightgrey",
           "lightgrey",
           "lightgrey",
           "lightgrey",
           "lightgrey",
           "lightgrey",
           "lightgrey",
           "lightgrey",
           "lightgrey",
           "lightgrey",
           "lightgrey",
           "lightgrey",
           "lightgrey",
           "lightgrey",
           "lightgrey",
           "lightgrey",
           "lightgrey",
           "lightgrey",
           "lightgrey",
           "lightgrey",
           "lightgrey",
           "lightgrey",
           "lightgrey",
           "lightgrey",
           "lightgrey",
           "lightgrey",
           "lightgrey",
           "lightgrey",
           "lightgrey",
           "lightgrey",
           "lightgrey",
           "lightgrey",
           "lightgrey",
           "lightgrey",
           "lightgrey",
           "lightgrey",
           "lightgrey",
           "lightgrey",
           "lightgrey",
           "lightgrey",
           "lightgrey",
           "gold",
           "gold",
           "gold",
           "lightgrey",
           "lightgrey"
          ]
         },
         "name": "",
         "parents": [
          "Wohnbevölkerung nach /2020-01-01/1",
          "Wohnbevölkerung nach /2020-01-01/91",
          "Wohnbevölkerung nach /2020-01-01/89",
          "Wohnbevölkerung nach /2020-01-01/88",
          "Wohnbevölkerung nach /2020-01-01/87",
          "Wohnbevölkerung nach /2020-01-01/86",
          "Wohnbevölkerung nach /2020-01-01/84",
          "Wohnbevölkerung nach /2020-01-01/83",
          "Wohnbevölkerung nach /2020-01-01/86",
          "Wohnbevölkerung nach /2020-01-01/81",
          "Wohnbevölkerung nach /2020-01-01/80",
          "Wohnbevölkerung nach /2020-01-01/78",
          "Wohnbevölkerung nach /2020-01-01/77",
          "Wohnbevölkerung nach /2020-01-01/75",
          "Wohnbevölkerung nach /2020-01-01/73",
          "Wohnbevölkerung nach /2020-01-01/71",
          "Wohnbevölkerung nach /2020-01-01/70",
          "Wohnbevölkerung nach /2020-01-01/69",
          "Wohnbevölkerung nach /2020-01-01/68",
          "Wohnbevölkerung nach /2020-01-01/90",
          "Wohnbevölkerung nach /2020-01-01/66",
          "Wohnbevölkerung nach /2020-01-01/65",
          "Wohnbevölkerung nach /2020-01-01/64",
          "Wohnbevölkerung nach /2020-01-01/63",
          "Wohnbevölkerung nach /2020-01-01/62",
          "Wohnbevölkerung nach /2020-01-01/61",
          "Wohnbevölkerung nach /2020-01-01/94",
          "Wohnbevölkerung nach /2020-01-01/60",
          "Wohnbevölkerung nach /2020-01-01/95",
          "Wohnbevölkerung nach /2020-01-01/81",
          "Wohnbevölkerung nach /2020-01-01/48",
          "Wohnbevölkerung nach /2020-01-01/49",
          "Wohnbevölkerung nach /2020-01-01/37",
          "Wohnbevölkerung nach /2020-01-01/33",
          "Wohnbevölkerung nach /2020-01-01/57",
          "Wohnbevölkerung nach /2020-01-01/29",
          "Wohnbevölkerung nach /2020-01-01/59",
          "Wohnbevölkerung nach /2020-01-01/25",
          "Wohnbevölkerung nach /2020-01-01/61",
          "Wohnbevölkerung nach /2020-01-01/63",
          "Wohnbevölkerung nach /2020-01-01/19",
          "Wohnbevölkerung nach /2020-01-01/17",
          "Wohnbevölkerung nach /2020-01-01/70",
          "Wohnbevölkerung nach /2020-01-01/8",
          "Wohnbevölkerung nach /2020-01-01/7",
          "Wohnbevölkerung nach /2020-01-01/4",
          "Wohnbevölkerung nach /2020-01-01/3",
          "Wohnbevölkerung nach /2020-01-01/77",
          "Wohnbevölkerung nach /2020-01-01/0",
          "Wohnbevölkerung nach /2020-01-01/104",
          "Wohnbevölkerung nach /2020-01-01/103",
          "Wohnbevölkerung nach /2020-01-01/102",
          "Wohnbevölkerung nach /2020-01-01/101",
          "Wohnbevölkerung nach /2020-01-01/99",
          "Wohnbevölkerung nach /2020-01-01/80",
          "Wohnbevölkerung nach /2020-01-01/96",
          "Wohnbevölkerung nach /2020-01-01/59",
          "Wohnbevölkerung nach /2020-01-01/74",
          "Wohnbevölkerung nach /2020-01-01/21",
          "Wohnbevölkerung nach /2020-01-01/34",
          "Wohnbevölkerung nach /2020-01-01/33",
          "Wohnbevölkerung nach /2020-01-01/31",
          "Wohnbevölkerung nach /2020-01-01/30",
          "Wohnbevölkerung nach /2020-01-01/28",
          "Wohnbevölkerung nach /2020-01-01/27",
          "Wohnbevölkerung nach /2020-01-01/97",
          "Wohnbevölkerung nach /2020-01-01/25",
          "Wohnbevölkerung nach /2020-01-01/24",
          "Wohnbevölkerung nach /2020-01-01/23",
          "Wohnbevölkerung nach /2020-01-01/5",
          "Wohnbevölkerung nach /2020-01-01/57",
          "Wohnbevölkerung nach /2020-01-01/99",
          "Wohnbevölkerung nach /2020-01-01/19",
          "Wohnbevölkerung nach /2020-01-01/18",
          "Wohnbevölkerung nach /2020-01-01/16",
          "Wohnbevölkerung nach /2020-01-01/15",
          "Wohnbevölkerung nach /2020-01-01/8",
          "Wohnbevölkerung nach /2020-01-01/9",
          "Wohnbevölkerung nach /2020-01-01/10",
          "Wohnbevölkerung nach /2020-01-01/13",
          "Wohnbevölkerung nach /2020-01-01/3",
          "Wohnbevölkerung nach /2020-01-01/36",
          "Wohnbevölkerung nach /2020-01-01/12",
          "Wohnbevölkerung nach /2020-01-01/38",
          "Wohnbevölkerung nach /2020-01-01/56",
          "Wohnbevölkerung nach /2020-01-01/55",
          "Wohnbevölkerung nach /2020-01-01/54",
          "Wohnbevölkerung nach /2020-01-01/53",
          "Wohnbevölkerung nach /2020-01-01/92",
          "Wohnbevölkerung nach /2020-01-01/51",
          "Wohnbevölkerung nach /2020-01-01/50",
          "Wohnbevölkerung nach /2020-01-01/49",
          "Wohnbevölkerung nach /2020-01-01/48",
          "Wohnbevölkerung nach /2020-01-01/47",
          "Wohnbevölkerung nach /2020-01-01/37",
          "Wohnbevölkerung nach /2020-01-01/45",
          "Wohnbevölkerung nach /2020-01-01/44",
          "Wohnbevölkerung nach /2020-01-01/93",
          "Wohnbevölkerung nach /2020-01-01/1",
          "Wohnbevölkerung nach /2020-01-01/42",
          "Wohnbevölkerung nach /2020-01-01/2",
          "Wohnbevölkerung nach /2020-01-01/39",
          "Wohnbevölkerung nach /2020-01-01/41",
          "Wohnbevölkerung nach /2020-01-01/43",
          "Wohnbevölkerung nach /2020-01-01/40",
          "Wohnbevölkerung nach /2020-01-01/47",
          "Wohnbevölkerung nach /2020-01-01/102",
          "Wohnbevölkerung nach /2020-01-01/65",
          "Wohnbevölkerung nach /2020-01-01/51",
          "Wohnbevölkerung nach /2020-01-01/64",
          "Wohnbevölkerung nach /2020-01-01/62",
          "Wohnbevölkerung nach /2020-01-01/50",
          "Wohnbevölkerung nach /2020-01-01/103",
          "Wohnbevölkerung nach /2020-01-01/60",
          "Wohnbevölkerung nach /2020-01-01/58",
          "Wohnbevölkerung nach /2020-01-01/66",
          "Wohnbevölkerung nach /2020-01-01/104",
          "Wohnbevölkerung nach /2020-01-01/54",
          "Wohnbevölkerung nach /2020-01-01/105",
          "Wohnbevölkerung nach /2020-01-01/55",
          "Wohnbevölkerung nach /2020-01-01/56",
          "Wohnbevölkerung nach /2020-01-01/52",
          "Wohnbevölkerung nach /2020-01-01/53",
          "Wohnbevölkerung nach /2020-01-01/91",
          "Wohnbevölkerung nach /2020-01-01/68",
          "Wohnbevölkerung nach /2020-01-01/89",
          "Wohnbevölkerung nach /2020-01-01/46",
          "Wohnbevölkerung nach /2020-01-01/88",
          "Wohnbevölkerung nach /2020-01-01/87",
          "Wohnbevölkerung nach /2020-01-01/94",
          "Wohnbevölkerung nach /2020-01-01/85",
          "Wohnbevölkerung nach /2020-01-01/95",
          "Wohnbevölkerung nach /2020-01-01/84",
          "Wohnbevölkerung nach /2020-01-01/83",
          "Wohnbevölkerung nach /2020-01-01/82",
          "Wohnbevölkerung nach /2020-01-01/96",
          "Wohnbevölkerung nach /2020-01-01/79",
          "Wohnbevölkerung nach /2020-01-01/98",
          "Wohnbevölkerung nach /2020-01-01/78",
          "Wohnbevölkerung nach /2020-01-01/100",
          "Wohnbevölkerung nach /2020-01-01/76",
          "Wohnbevölkerung nach /2020-01-01/75",
          "Wohnbevölkerung nach /2020-01-01/101",
          "Wohnbevölkerung nach /2020-01-01/74",
          "Wohnbevölkerung nach /2020-01-01/73",
          "Wohnbevölkerung nach /2020-01-01/72",
          "Wohnbevölkerung nach /2020-01-01/71",
          "Wohnbevölkerung nach /2020-01-01/69",
          "Wohnbevölkerung nach /2020-01-01/67",
          "Wohnbevölkerung nach /2020-01-01/45",
          "Wohnbevölkerung nach /2020-01-01/0",
          "Wohnbevölkerung nach /2020-01-01/43",
          "Wohnbevölkerung nach /2020-01-01/100",
          "Wohnbevölkerung nach /2020-01-01/98",
          "Wohnbevölkerung nach /2020-01-01/97",
          "Wohnbevölkerung nach /2020-01-01/93",
          "Wohnbevölkerung nach /2020-01-01/92",
          "Wohnbevölkerung nach /2020-01-01/90",
          "Wohnbevölkerung nach /2020-01-01/85",
          "Wohnbevölkerung nach /2020-01-01/82",
          "Wohnbevölkerung nach /2020-01-01/79",
          "Wohnbevölkerung nach /2020-01-01/76",
          "Wohnbevölkerung nach /2020-01-01/72",
          "Wohnbevölkerung nach /2020-01-01/67",
          "Wohnbevölkerung nach /2020-01-01/58",
          "Wohnbevölkerung nach /2020-01-01/52",
          "Wohnbevölkerung nach /2020-01-01/46",
          "Wohnbevölkerung nach /2020-01-01/35",
          "Wohnbevölkerung nach /2020-01-01/32",
          "Wohnbevölkerung nach /2020-01-01/29",
          "Wohnbevölkerung nach /2020-01-01/26",
          "Wohnbevölkerung nach /2020-01-01/22",
          "Wohnbevölkerung nach /2020-01-01/20",
          "Wohnbevölkerung nach /2020-01-01/17",
          "Wohnbevölkerung nach /2020-01-01/14",
          "Wohnbevölkerung nach /2020-01-01/11",
          "Wohnbevölkerung nach /2020-01-01/7",
          "Wohnbevölkerung nach /2020-01-01/6",
          "Wohnbevölkerung nach /2020-01-01/4",
          "Wohnbevölkerung nach /2020-01-01/106",
          "Wohnbevölkerung nach /2020-01-01/2",
          "Wohnbevölkerung nach /2020-01-01/5",
          "Wohnbevölkerung nach /2020-01-01/6",
          "Wohnbevölkerung nach /2020-01-01/42",
          "Wohnbevölkerung nach /2020-01-01/41",
          "Wohnbevölkerung nach /2020-01-01/40",
          "Wohnbevölkerung nach /2020-01-01/39",
          "Wohnbevölkerung nach /2020-01-01/38",
          "Wohnbevölkerung nach /2020-01-01/36",
          "Wohnbevölkerung nach /2020-01-01/35",
          "Wohnbevölkerung nach /2020-01-01/34",
          "Wohnbevölkerung nach /2020-01-01/32",
          "Wohnbevölkerung nach /2020-01-01/31",
          "Wohnbevölkerung nach /2020-01-01/30",
          "Wohnbevölkerung nach /2020-01-01/28",
          "Wohnbevölkerung nach /2020-01-01/27",
          "Wohnbevölkerung nach /2020-01-01/44",
          "Wohnbevölkerung nach /2020-01-01/26",
          "Wohnbevölkerung nach /2020-01-01/23",
          "Wohnbevölkerung nach /2020-01-01/22",
          "Wohnbevölkerung nach /2020-01-01/21",
          "Wohnbevölkerung nach /2020-01-01/20",
          "Wohnbevölkerung nach /2020-01-01/18",
          "Wohnbevölkerung nach /2020-01-01/16",
          "Wohnbevölkerung nach /2020-01-01/15",
          "Wohnbevölkerung nach /2020-01-01/14",
          "Wohnbevölkerung nach /2020-01-01/13",
          "Wohnbevölkerung nach /2020-01-01/12",
          "Wohnbevölkerung nach /2020-01-01/11",
          "Wohnbevölkerung nach /2020-01-01/10",
          "Wohnbevölkerung nach /2020-01-01/9",
          "Wohnbevölkerung nach /2020-01-01/24",
          "Wohnbevölkerung nach /2020-01-01/107",
          "Wohnbevölkerung nach /2020-01-01",
          "Wohnbevölkerung nach /2020-01-01",
          "Wohnbevölkerung nach /2020-01-01",
          "Wohnbevölkerung nach /2020-01-01",
          "Wohnbevölkerung nach /2020-01-01",
          "Wohnbevölkerung nach /2020-01-01",
          "Wohnbevölkerung nach /2020-01-01",
          "Wohnbevölkerung nach /2020-01-01",
          "Wohnbevölkerung nach /2020-01-01",
          "Wohnbevölkerung nach /2020-01-01",
          "Wohnbevölkerung nach /2020-01-01",
          "Wohnbevölkerung nach /2020-01-01",
          "Wohnbevölkerung nach /2020-01-01",
          "Wohnbevölkerung nach /2020-01-01",
          "Wohnbevölkerung nach /2020-01-01",
          "Wohnbevölkerung nach /2020-01-01",
          "Wohnbevölkerung nach /2020-01-01",
          "Wohnbevölkerung nach /2020-01-01",
          "Wohnbevölkerung nach /2020-01-01",
          "Wohnbevölkerung nach /2020-01-01",
          "Wohnbevölkerung nach /2020-01-01",
          "Wohnbevölkerung nach /2020-01-01",
          "Wohnbevölkerung nach /2020-01-01",
          "Wohnbevölkerung nach /2020-01-01",
          "Wohnbevölkerung nach /2020-01-01",
          "Wohnbevölkerung nach /2020-01-01",
          "Wohnbevölkerung nach /2020-01-01",
          "Wohnbevölkerung nach /2020-01-01",
          "Wohnbevölkerung nach /2020-01-01",
          "Wohnbevölkerung nach /2020-01-01",
          "Wohnbevölkerung nach /2020-01-01",
          "Wohnbevölkerung nach /2020-01-01",
          "Wohnbevölkerung nach /2020-01-01",
          "Wohnbevölkerung nach /2020-01-01",
          "Wohnbevölkerung nach /2020-01-01",
          "Wohnbevölkerung nach /2020-01-01",
          "Wohnbevölkerung nach /2020-01-01",
          "Wohnbevölkerung nach /2020-01-01",
          "Wohnbevölkerung nach /2020-01-01",
          "Wohnbevölkerung nach /2020-01-01",
          "Wohnbevölkerung nach /2020-01-01",
          "Wohnbevölkerung nach /2020-01-01",
          "Wohnbevölkerung nach /2020-01-01",
          "Wohnbevölkerung nach /2020-01-01",
          "Wohnbevölkerung nach /2020-01-01",
          "Wohnbevölkerung nach /2020-01-01",
          "Wohnbevölkerung nach /2020-01-01",
          "Wohnbevölkerung nach /2020-01-01",
          "Wohnbevölkerung nach /2020-01-01",
          "Wohnbevölkerung nach /2020-01-01",
          "Wohnbevölkerung nach /2020-01-01",
          "Wohnbevölkerung nach /2020-01-01",
          "Wohnbevölkerung nach /2020-01-01",
          "Wohnbevölkerung nach /2020-01-01",
          "Wohnbevölkerung nach /2020-01-01",
          "Wohnbevölkerung nach /2020-01-01",
          "Wohnbevölkerung nach /2020-01-01",
          "Wohnbevölkerung nach /2020-01-01",
          "Wohnbevölkerung nach /2020-01-01",
          "Wohnbevölkerung nach /2020-01-01",
          "Wohnbevölkerung nach /2020-01-01",
          "Wohnbevölkerung nach /2020-01-01",
          "Wohnbevölkerung nach /2020-01-01",
          "Wohnbevölkerung nach /2020-01-01",
          "Wohnbevölkerung nach /2020-01-01",
          "Wohnbevölkerung nach /2020-01-01",
          "Wohnbevölkerung nach /2020-01-01",
          "Wohnbevölkerung nach /2020-01-01",
          "Wohnbevölkerung nach /2020-01-01",
          "Wohnbevölkerung nach /2020-01-01",
          "Wohnbevölkerung nach /2020-01-01",
          "Wohnbevölkerung nach /2020-01-01",
          "Wohnbevölkerung nach /2020-01-01",
          "Wohnbevölkerung nach /2020-01-01",
          "Wohnbevölkerung nach /2020-01-01",
          "Wohnbevölkerung nach /2020-01-01",
          "Wohnbevölkerung nach /2020-01-01",
          "Wohnbevölkerung nach /2020-01-01",
          "Wohnbevölkerung nach /2020-01-01",
          "Wohnbevölkerung nach /2020-01-01",
          "Wohnbevölkerung nach /2020-01-01",
          "Wohnbevölkerung nach /2020-01-01",
          "Wohnbevölkerung nach /2020-01-01",
          "Wohnbevölkerung nach /2020-01-01",
          "Wohnbevölkerung nach /2020-01-01",
          "Wohnbevölkerung nach /2020-01-01",
          "Wohnbevölkerung nach /2020-01-01",
          "Wohnbevölkerung nach /2020-01-01",
          "Wohnbevölkerung nach /2020-01-01",
          "Wohnbevölkerung nach /2020-01-01",
          "Wohnbevölkerung nach /2020-01-01",
          "Wohnbevölkerung nach /2020-01-01",
          "Wohnbevölkerung nach /2020-01-01",
          "Wohnbevölkerung nach /2020-01-01",
          "Wohnbevölkerung nach /2020-01-01",
          "Wohnbevölkerung nach /2020-01-01",
          "Wohnbevölkerung nach /2020-01-01",
          "Wohnbevölkerung nach /2020-01-01",
          "Wohnbevölkerung nach /2020-01-01",
          "Wohnbevölkerung nach /2020-01-01",
          "Wohnbevölkerung nach /2020-01-01",
          "Wohnbevölkerung nach /2020-01-01",
          "Wohnbevölkerung nach /2020-01-01",
          "Wohnbevölkerung nach /2020-01-01",
          "Wohnbevölkerung nach /2020-01-01",
          "Wohnbevölkerung nach /2020-01-01",
          "Wohnbevölkerung nach /2020-01-01",
          "Wohnbevölkerung nach /2020-01-01",
          "Wohnbevölkerung nach ",
          ""
         ],
         "root": {
          "color": "grey"
         },
         "type": "treemap",
         "values": [
          3167,
          57,
          83,
          110,
          115,
          164,
          211,
          249,
          1273,
          309,
          326,
          352,
          349,
          315,
          402,
          413,
          453,
          436,
          439,
          908,
          522,
          553,
          650,
          616,
          726,
          808,
          26,
          937,
          21,
          1550,
          3876,
          3898,
          4434,
          5027,
          3661,
          5520,
          3354,
          4702,
          3152,
          2933,
          2506,
          2289,
          2455,
          2791,
          2884,
          3068,
          3123,
          2072,
          3264,
          1,
          1,
          1,
          1,
          3,
          1556,
          14,
          994,
          397,
          1221,
          4492,
          4642,
          4713,
          4636,
          4032,
          3524,
          166,
          2770,
          2365,
          2121,
          1301,
          1209,
          74,
          847,
          667,
          519,
          543,
          969,
          845,
          834,
          640,
          1399,
          4190,
          659,
          3788,
          1302,
          1370,
          1469,
          1554,
          592,
          1631,
          1729,
          1771,
          1935,
          1965,
          3927,
          2325,
          2511,
          499,
          1578,
          2880,
          1500,
          3534,
          3076,
          2635,
          3424,
          3952,
          15,
          2676,
          3981,
          2890,
          3070,
          3939,
          5,
          3281,
          3527,
          2654,
          2,
          3924,
          2,
          3888,
          3854,
          3919,
          3948,
          789,
          2666,
          995,
          4017,
          1066,
          1203,
          413,
          1377,
          286,
          1463,
          1448,
          1508,
          244,
          1843,
          114,
          1992,
          56,
          2197,
          2298,
          27,
          2282,
          2365,
          2320,
          2308,
          2460,
          2587,
          4074,
          1464,
          4288,
          3,
          4,
          9,
          39,
          39,
          81,
          195,
          275,
          360,
          351,
          400,
          501,
          1083,
          1642,
          2174,
          4389,
          4883,
          4276,
          3099,
          1616,
          1032,
          490,
          599,
          776,
          1029,
          1190,
          1308,
          1,
          3024,
          3009,
          3046,
          4363,
          4319,
          4577,
          4417,
          4490,
          4674,
          4685,
          4896,
          5281,
          5382,
          5423,
          5318,
          5162,
          4066,
          4877,
          4005,
          3522,
          3192,
          3013,
          2315,
          2315,
          2499,
          2444,
          2540,
          2628,
          2793,
          2801,
          2907,
          4341,
          1,
          4728,
          4745,
          4524,
          4522,
          4376,
          4310,
          4236,
          3913,
          3760,
          3752,
          3635,
          3569,
          3287,
          3180,
          3043,
          3042,
          2834,
          2779,
          2982,
          3353,
          4045,
          4413,
          5138,
          6126,
          6706,
          7472,
          7976,
          8686,
          9350,
          9796,
          10059,
          10095,
          10164,
          9669,
          9388,
          9074,
          8864,
          8361,
          8278,
          7951,
          8001,
          7395,
          7243,
          6923,
          6577,
          6399,
          6191,
          5917,
          5811,
          5669,
          5668,
          5612,
          5561,
          5502,
          5393,
          5258,
          5156,
          4870,
          4610,
          4348,
          4218,
          3960,
          3796,
          3549,
          3540,
          3229,
          3176,
          3088,
          3105,
          2896,
          2908,
          2721,
          2720,
          2767,
          2679,
          2613,
          2548,
          2421,
          2344,
          2203,
          1882,
          1859,
          1783,
          1697,
          1674,
          1572,
          1437,
          1318,
          1176,
          1078,
          989,
          846,
          631,
          538,
          439,
          307,
          258,
          175,
          118,
          77,
          59,
          28,
          16,
          6,
          3,
          2,
          1,
          1,
          434736,
          434736
         ]
        }
       ],
       "layout": {
        "height": 500,
        "legend": {
         "tracegroupgap": 0
        },
        "margin": {
         "b": 25,
         "l": 25,
         "r": 250,
         "t": 50
        },
        "template": {
         "data": {
          "bar": [
           {
            "error_x": {
             "color": "#2a3f5f"
            },
            "error_y": {
             "color": "#2a3f5f"
            },
            "marker": {
             "line": {
              "color": "#E5ECF6",
              "width": 0.5
             },
             "pattern": {
              "fillmode": "overlay",
              "size": 10,
              "solidity": 0.2
             }
            },
            "type": "bar"
           }
          ],
          "barpolar": [
           {
            "marker": {
             "line": {
              "color": "#E5ECF6",
              "width": 0.5
             },
             "pattern": {
              "fillmode": "overlay",
              "size": 10,
              "solidity": 0.2
             }
            },
            "type": "barpolar"
           }
          ],
          "carpet": [
           {
            "aaxis": {
             "endlinecolor": "#2a3f5f",
             "gridcolor": "white",
             "linecolor": "white",
             "minorgridcolor": "white",
             "startlinecolor": "#2a3f5f"
            },
            "baxis": {
             "endlinecolor": "#2a3f5f",
             "gridcolor": "white",
             "linecolor": "white",
             "minorgridcolor": "white",
             "startlinecolor": "#2a3f5f"
            },
            "type": "carpet"
           }
          ],
          "choropleth": [
           {
            "colorbar": {
             "outlinewidth": 0,
             "ticks": ""
            },
            "type": "choropleth"
           }
          ],
          "contour": [
           {
            "colorbar": {
             "outlinewidth": 0,
             "ticks": ""
            },
            "colorscale": [
             [
              0,
              "#0d0887"
             ],
             [
              0.1111111111111111,
              "#46039f"
             ],
             [
              0.2222222222222222,
              "#7201a8"
             ],
             [
              0.3333333333333333,
              "#9c179e"
             ],
             [
              0.4444444444444444,
              "#bd3786"
             ],
             [
              0.5555555555555556,
              "#d8576b"
             ],
             [
              0.6666666666666666,
              "#ed7953"
             ],
             [
              0.7777777777777778,
              "#fb9f3a"
             ],
             [
              0.8888888888888888,
              "#fdca26"
             ],
             [
              1,
              "#f0f921"
             ]
            ],
            "type": "contour"
           }
          ],
          "contourcarpet": [
           {
            "colorbar": {
             "outlinewidth": 0,
             "ticks": ""
            },
            "type": "contourcarpet"
           }
          ],
          "heatmap": [
           {
            "colorbar": {
             "outlinewidth": 0,
             "ticks": ""
            },
            "colorscale": [
             [
              0,
              "#0d0887"
             ],
             [
              0.1111111111111111,
              "#46039f"
             ],
             [
              0.2222222222222222,
              "#7201a8"
             ],
             [
              0.3333333333333333,
              "#9c179e"
             ],
             [
              0.4444444444444444,
              "#bd3786"
             ],
             [
              0.5555555555555556,
              "#d8576b"
             ],
             [
              0.6666666666666666,
              "#ed7953"
             ],
             [
              0.7777777777777778,
              "#fb9f3a"
             ],
             [
              0.8888888888888888,
              "#fdca26"
             ],
             [
              1,
              "#f0f921"
             ]
            ],
            "type": "heatmap"
           }
          ],
          "heatmapgl": [
           {
            "colorbar": {
             "outlinewidth": 0,
             "ticks": ""
            },
            "colorscale": [
             [
              0,
              "#0d0887"
             ],
             [
              0.1111111111111111,
              "#46039f"
             ],
             [
              0.2222222222222222,
              "#7201a8"
             ],
             [
              0.3333333333333333,
              "#9c179e"
             ],
             [
              0.4444444444444444,
              "#bd3786"
             ],
             [
              0.5555555555555556,
              "#d8576b"
             ],
             [
              0.6666666666666666,
              "#ed7953"
             ],
             [
              0.7777777777777778,
              "#fb9f3a"
             ],
             [
              0.8888888888888888,
              "#fdca26"
             ],
             [
              1,
              "#f0f921"
             ]
            ],
            "type": "heatmapgl"
           }
          ],
          "histogram": [
           {
            "marker": {
             "pattern": {
              "fillmode": "overlay",
              "size": 10,
              "solidity": 0.2
             }
            },
            "type": "histogram"
           }
          ],
          "histogram2d": [
           {
            "colorbar": {
             "outlinewidth": 0,
             "ticks": ""
            },
            "colorscale": [
             [
              0,
              "#0d0887"
             ],
             [
              0.1111111111111111,
              "#46039f"
             ],
             [
              0.2222222222222222,
              "#7201a8"
             ],
             [
              0.3333333333333333,
              "#9c179e"
             ],
             [
              0.4444444444444444,
              "#bd3786"
             ],
             [
              0.5555555555555556,
              "#d8576b"
             ],
             [
              0.6666666666666666,
              "#ed7953"
             ],
             [
              0.7777777777777778,
              "#fb9f3a"
             ],
             [
              0.8888888888888888,
              "#fdca26"
             ],
             [
              1,
              "#f0f921"
             ]
            ],
            "type": "histogram2d"
           }
          ],
          "histogram2dcontour": [
           {
            "colorbar": {
             "outlinewidth": 0,
             "ticks": ""
            },
            "colorscale": [
             [
              0,
              "#0d0887"
             ],
             [
              0.1111111111111111,
              "#46039f"
             ],
             [
              0.2222222222222222,
              "#7201a8"
             ],
             [
              0.3333333333333333,
              "#9c179e"
             ],
             [
              0.4444444444444444,
              "#bd3786"
             ],
             [
              0.5555555555555556,
              "#d8576b"
             ],
             [
              0.6666666666666666,
              "#ed7953"
             ],
             [
              0.7777777777777778,
              "#fb9f3a"
             ],
             [
              0.8888888888888888,
              "#fdca26"
             ],
             [
              1,
              "#f0f921"
             ]
            ],
            "type": "histogram2dcontour"
           }
          ],
          "mesh3d": [
           {
            "colorbar": {
             "outlinewidth": 0,
             "ticks": ""
            },
            "type": "mesh3d"
           }
          ],
          "parcoords": [
           {
            "line": {
             "colorbar": {
              "outlinewidth": 0,
              "ticks": ""
             }
            },
            "type": "parcoords"
           }
          ],
          "pie": [
           {
            "automargin": true,
            "type": "pie"
           }
          ],
          "scatter": [
           {
            "marker": {
             "colorbar": {
              "outlinewidth": 0,
              "ticks": ""
             }
            },
            "type": "scatter"
           }
          ],
          "scatter3d": [
           {
            "line": {
             "colorbar": {
              "outlinewidth": 0,
              "ticks": ""
             }
            },
            "marker": {
             "colorbar": {
              "outlinewidth": 0,
              "ticks": ""
             }
            },
            "type": "scatter3d"
           }
          ],
          "scattercarpet": [
           {
            "marker": {
             "colorbar": {
              "outlinewidth": 0,
              "ticks": ""
             }
            },
            "type": "scattercarpet"
           }
          ],
          "scattergeo": [
           {
            "marker": {
             "colorbar": {
              "outlinewidth": 0,
              "ticks": ""
             }
            },
            "type": "scattergeo"
           }
          ],
          "scattergl": [
           {
            "marker": {
             "colorbar": {
              "outlinewidth": 0,
              "ticks": ""
             }
            },
            "type": "scattergl"
           }
          ],
          "scattermapbox": [
           {
            "marker": {
             "colorbar": {
              "outlinewidth": 0,
              "ticks": ""
             }
            },
            "type": "scattermapbox"
           }
          ],
          "scatterpolar": [
           {
            "marker": {
             "colorbar": {
              "outlinewidth": 0,
              "ticks": ""
             }
            },
            "type": "scatterpolar"
           }
          ],
          "scatterpolargl": [
           {
            "marker": {
             "colorbar": {
              "outlinewidth": 0,
              "ticks": ""
             }
            },
            "type": "scatterpolargl"
           }
          ],
          "scatterternary": [
           {
            "marker": {
             "colorbar": {
              "outlinewidth": 0,
              "ticks": ""
             }
            },
            "type": "scatterternary"
           }
          ],
          "surface": [
           {
            "colorbar": {
             "outlinewidth": 0,
             "ticks": ""
            },
            "colorscale": [
             [
              0,
              "#0d0887"
             ],
             [
              0.1111111111111111,
              "#46039f"
             ],
             [
              0.2222222222222222,
              "#7201a8"
             ],
             [
              0.3333333333333333,
              "#9c179e"
             ],
             [
              0.4444444444444444,
              "#bd3786"
             ],
             [
              0.5555555555555556,
              "#d8576b"
             ],
             [
              0.6666666666666666,
              "#ed7953"
             ],
             [
              0.7777777777777778,
              "#fb9f3a"
             ],
             [
              0.8888888888888888,
              "#fdca26"
             ],
             [
              1,
              "#f0f921"
             ]
            ],
            "type": "surface"
           }
          ],
          "table": [
           {
            "cells": {
             "fill": {
              "color": "#EBF0F8"
             },
             "line": {
              "color": "white"
             }
            },
            "header": {
             "fill": {
              "color": "#C8D4E3"
             },
             "line": {
              "color": "white"
             }
            },
            "type": "table"
           }
          ]
         },
         "layout": {
          "annotationdefaults": {
           "arrowcolor": "#2a3f5f",
           "arrowhead": 0,
           "arrowwidth": 1
          },
          "autotypenumbers": "strict",
          "coloraxis": {
           "colorbar": {
            "outlinewidth": 0,
            "ticks": ""
           }
          },
          "colorscale": {
           "diverging": [
            [
             0,
             "#8e0152"
            ],
            [
             0.1,
             "#c51b7d"
            ],
            [
             0.2,
             "#de77ae"
            ],
            [
             0.3,
             "#f1b6da"
            ],
            [
             0.4,
             "#fde0ef"
            ],
            [
             0.5,
             "#f7f7f7"
            ],
            [
             0.6,
             "#e6f5d0"
            ],
            [
             0.7,
             "#b8e186"
            ],
            [
             0.8,
             "#7fbc41"
            ],
            [
             0.9,
             "#4d9221"
            ],
            [
             1,
             "#276419"
            ]
           ],
           "sequential": [
            [
             0,
             "#0d0887"
            ],
            [
             0.1111111111111111,
             "#46039f"
            ],
            [
             0.2222222222222222,
             "#7201a8"
            ],
            [
             0.3333333333333333,
             "#9c179e"
            ],
            [
             0.4444444444444444,
             "#bd3786"
            ],
            [
             0.5555555555555556,
             "#d8576b"
            ],
            [
             0.6666666666666666,
             "#ed7953"
            ],
            [
             0.7777777777777778,
             "#fb9f3a"
            ],
            [
             0.8888888888888888,
             "#fdca26"
            ],
            [
             1,
             "#f0f921"
            ]
           ],
           "sequentialminus": [
            [
             0,
             "#0d0887"
            ],
            [
             0.1111111111111111,
             "#46039f"
            ],
            [
             0.2222222222222222,
             "#7201a8"
            ],
            [
             0.3333333333333333,
             "#9c179e"
            ],
            [
             0.4444444444444444,
             "#bd3786"
            ],
            [
             0.5555555555555556,
             "#d8576b"
            ],
            [
             0.6666666666666666,
             "#ed7953"
            ],
            [
             0.7777777777777778,
             "#fb9f3a"
            ],
            [
             0.8888888888888888,
             "#fdca26"
            ],
            [
             1,
             "#f0f921"
            ]
           ]
          },
          "colorway": [
           "#636efa",
           "#EF553B",
           "#00cc96",
           "#ab63fa",
           "#FFA15A",
           "#19d3f3",
           "#FF6692",
           "#B6E880",
           "#FF97FF",
           "#FECB52"
          ],
          "font": {
           "color": "#2a3f5f"
          },
          "geo": {
           "bgcolor": "white",
           "lakecolor": "white",
           "landcolor": "#E5ECF6",
           "showlakes": true,
           "showland": true,
           "subunitcolor": "white"
          },
          "hoverlabel": {
           "align": "left"
          },
          "hovermode": "closest",
          "mapbox": {
           "style": "light"
          },
          "paper_bgcolor": "white",
          "plot_bgcolor": "#E5ECF6",
          "polar": {
           "angularaxis": {
            "gridcolor": "white",
            "linecolor": "white",
            "ticks": ""
           },
           "bgcolor": "#E5ECF6",
           "radialaxis": {
            "gridcolor": "white",
            "linecolor": "white",
            "ticks": ""
           }
          },
          "scene": {
           "xaxis": {
            "backgroundcolor": "#E5ECF6",
            "gridcolor": "white",
            "gridwidth": 2,
            "linecolor": "white",
            "showbackground": true,
            "ticks": "",
            "zerolinecolor": "white"
           },
           "yaxis": {
            "backgroundcolor": "#E5ECF6",
            "gridcolor": "white",
            "gridwidth": 2,
            "linecolor": "white",
            "showbackground": true,
            "ticks": "",
            "zerolinecolor": "white"
           },
           "zaxis": {
            "backgroundcolor": "#E5ECF6",
            "gridcolor": "white",
            "gridwidth": 2,
            "linecolor": "white",
            "showbackground": true,
            "ticks": "",
            "zerolinecolor": "white"
           }
          },
          "shapedefaults": {
           "line": {
            "color": "#2a3f5f"
           }
          },
          "ternary": {
           "aaxis": {
            "gridcolor": "white",
            "linecolor": "white",
            "ticks": ""
           },
           "baxis": {
            "gridcolor": "white",
            "linecolor": "white",
            "ticks": ""
           },
           "bgcolor": "#E5ECF6",
           "caxis": {
            "gridcolor": "white",
            "linecolor": "white",
            "ticks": ""
           }
          },
          "title": {
           "x": 0.05
          },
          "xaxis": {
           "automargin": true,
           "gridcolor": "white",
           "linecolor": "white",
           "ticks": "",
           "title": {
            "standoff": 15
           },
           "zerolinecolor": "white",
           "zerolinewidth": 2
          },
          "yaxis": {
           "automargin": true,
           "gridcolor": "white",
           "linecolor": "white",
           "ticks": "",
           "title": {
            "standoff": 15
           },
           "zerolinecolor": "white",
           "zerolinewidth": 2
          }
         }
        },
        "width": 1100
       }
      },
      "image/png": "[encoded data removed]",
      "text/html": [
       "<div>                            <div id=\"249aecd2-2d0a-4f03-ad35-f73e02b7bad5\" class=\"plotly-graph-div\" style=\"height:500px; width:1100px;\"></div>            <script type=\"text/javascript\">                require([\"plotly\"], function(Plotly) {                    window.PLOTLYENV=window.PLOTLYENV || {};                                    if (document.getElementById(\"249aecd2-2d0a-4f03-ad35-f73e02b7bad5\")) {                    Plotly.newPlot(                        \"249aecd2-2d0a-4f03-ad35-f73e02b7bad5\",                        [{\"branchvalues\":\"total\",\"customdata\":[[\"Schweizer/in\"],[\"Ausl\\u00e4nder/in\"],[\"Ausl\\u00e4nder/in\"],[\"Ausl\\u00e4nder/in\"],[\"Ausl\\u00e4nder/in\"],[\"Ausl\\u00e4nder/in\"],[\"Ausl\\u00e4nder/in\"],[\"Ausl\\u00e4nder/in\"],[\"Schweizer/in\"],[\"Ausl\\u00e4nder/in\"],[\"Ausl\\u00e4nder/in\"],[\"Ausl\\u00e4nder/in\"],[\"Ausl\\u00e4nder/in\"],[\"Ausl\\u00e4nder/in\"],[\"Ausl\\u00e4nder/in\"],[\"Ausl\\u00e4nder/in\"],[\"Ausl\\u00e4nder/in\"],[\"Ausl\\u00e4nder/in\"],[\"Ausl\\u00e4nder/in\"],[\"Schweizer/in\"],[\"Ausl\\u00e4nder/in\"],[\"Ausl\\u00e4nder/in\"],[\"Ausl\\u00e4nder/in\"],[\"Ausl\\u00e4nder/in\"],[\"Ausl\\u00e4nder/in\"],[\"Ausl\\u00e4nder/in\"],[\"Ausl\\u00e4nder/in\"],[\"Ausl\\u00e4nder/in\"],[\"Ausl\\u00e4nder/in\"],[\"Schweizer/in\"],[\"Schweizer/in\"],[\"Schweizer/in\"],[\"Schweizer/in\"],[\"Schweizer/in\"],[\"Schweizer/in\"],[\"Schweizer/in\"],[\"Schweizer/in\"],[\"Schweizer/in\"],[\"Schweizer/in\"],[\"Schweizer/in\"],[\"Schweizer/in\"],[\"Schweizer/in\"],[\"Schweizer/in\"],[\"Schweizer/in\"],[\"Schweizer/in\"],[\"Schweizer/in\"],[\"Schweizer/in\"],[\"Schweizer/in\"],[\"Schweizer/in\"],[\"Ausl\\u00e4nder/in\"],[\"Ausl\\u00e4nder/in\"],[\"Ausl\\u00e4nder/in\"],[\"Ausl\\u00e4nder/in\"],[\"Ausl\\u00e4nder/in\"],[\"Schweizer/in\"],[\"Ausl\\u00e4nder/in\"],[\"Ausl\\u00e4nder/in\"],[\"Ausl\\u00e4nder/in\"],[\"Ausl\\u00e4nder/in\"],[\"Ausl\\u00e4nder/in\"],[\"Ausl\\u00e4nder/in\"],[\"Ausl\\u00e4nder/in\"],[\"Ausl\\u00e4nder/in\"],[\"Ausl\\u00e4nder/in\"],[\"Ausl\\u00e4nder/in\"],[\"Schweizer/in\"],[\"Ausl\\u00e4nder/in\"],[\"Ausl\\u00e4nder/in\"],[\"Ausl\\u00e4nder/in\"],[\"Ausl\\u00e4nder/in\"],[\"Ausl\\u00e4nder/in\"],[\"Schweizer/in\"],[\"Ausl\\u00e4nder/in\"],[\"Ausl\\u00e4nder/in\"],[\"Ausl\\u00e4nder/in\"],[\"Ausl\\u00e4nder/in\"],[\"Ausl\\u00e4nder/in\"],[\"Ausl\\u00e4nder/in\"],[\"Ausl\\u00e4nder/in\"],[\"Ausl\\u00e4nder/in\"],[\"Ausl\\u00e4nder/in\"],[\"Ausl\\u00e4nder/in\"],[\"Ausl\\u00e4nder/in\"],[\"Ausl\\u00e4nder/in\"],[\"Ausl\\u00e4nder/in\"],[\"Ausl\\u00e4nder/in\"],[\"Ausl\\u00e4nder/in\"],[\"Ausl\\u00e4nder/in\"],[\"Schweizer/in\"],[\"Ausl\\u00e4nder/in\"],[\"Ausl\\u00e4nder/in\"],[\"Ausl\\u00e4nder/in\"],[\"Ausl\\u00e4nder/in\"],[\"Ausl\\u00e4nder/in\"],[\"Ausl\\u00e4nder/in\"],[\"Ausl\\u00e4nder/in\"],[\"Ausl\\u00e4nder/in\"],[\"Schweizer/in\"],[\"Ausl\\u00e4nder/in\"],[\"Ausl\\u00e4nder/in\"],[\"Ausl\\u00e4nder/in\"],[\"Ausl\\u00e4nder/in\"],[\"Ausl\\u00e4nder/in\"],[\"Ausl\\u00e4nder/in\"],[\"Ausl\\u00e4nder/in\"],[\"Schweizer/in\"],[\"Schweizer/in\"],[\"Schweizer/in\"],[\"Schweizer/in\"],[\"Schweizer/in\"],[\"Schweizer/in\"],[\"Schweizer/in\"],[\"Schweizer/in\"],[\"Schweizer/in\"],[\"Schweizer/in\"],[\"Schweizer/in\"],[\"Schweizer/in\"],[\"Schweizer/in\"],[\"Schweizer/in\"],[\"Schweizer/in\"],[\"Schweizer/in\"],[\"Schweizer/in\"],[\"Schweizer/in\"],[\"Schweizer/in\"],[\"Schweizer/in\"],[\"Schweizer/in\"],[\"Schweizer/in\"],[\"Schweizer/in\"],[\"Schweizer/in\"],[\"Schweizer/in\"],[\"Schweizer/in\"],[\"Schweizer/in\"],[\"Schweizer/in\"],[\"Schweizer/in\"],[\"Schweizer/in\"],[\"Schweizer/in\"],[\"Schweizer/in\"],[\"Schweizer/in\"],[\"Schweizer/in\"],[\"Schweizer/in\"],[\"Schweizer/in\"],[\"Schweizer/in\"],[\"Schweizer/in\"],[\"Schweizer/in\"],[\"Schweizer/in\"],[\"Schweizer/in\"],[\"Schweizer/in\"],[\"Schweizer/in\"],[\"Schweizer/in\"],[\"Schweizer/in\"],[\"Ausl\\u00e4nder/in\"],[\"Schweizer/in\"],[\"Ausl\\u00e4nder/in\"],[\"Ausl\\u00e4nder/in\"],[\"Ausl\\u00e4nder/in\"],[\"Ausl\\u00e4nder/in\"],[\"Ausl\\u00e4nder/in\"],[\"Ausl\\u00e4nder/in\"],[\"Ausl\\u00e4nder/in\"],[\"Ausl\\u00e4nder/in\"],[\"Ausl\\u00e4nder/in\"],[\"Ausl\\u00e4nder/in\"],[\"Ausl\\u00e4nder/in\"],[\"Ausl\\u00e4nder/in\"],[\"Ausl\\u00e4nder/in\"],[\"Ausl\\u00e4nder/in\"],[\"Ausl\\u00e4nder/in\"],[\"Ausl\\u00e4nder/in\"],[\"Ausl\\u00e4nder/in\"],[\"Ausl\\u00e4nder/in\"],[\"Ausl\\u00e4nder/in\"],[\"Ausl\\u00e4nder/in\"],[\"Ausl\\u00e4nder/in\"],[\"Ausl\\u00e4nder/in\"],[\"Ausl\\u00e4nder/in\"],[\"Ausl\\u00e4nder/in\"],[\"Ausl\\u00e4nder/in\"],[\"Ausl\\u00e4nder/in\"],[\"Ausl\\u00e4nder/in\"],[\"Schweizer/in\"],[\"Schweizer/in\"],[\"Schweizer/in\"],[\"Schweizer/in\"],[\"Schweizer/in\"],[\"Schweizer/in\"],[\"Schweizer/in\"],[\"Schweizer/in\"],[\"Schweizer/in\"],[\"Schweizer/in\"],[\"Schweizer/in\"],[\"Schweizer/in\"],[\"Schweizer/in\"],[\"Schweizer/in\"],[\"Schweizer/in\"],[\"Schweizer/in\"],[\"Schweizer/in\"],[\"Schweizer/in\"],[\"Schweizer/in\"],[\"Schweizer/in\"],[\"Schweizer/in\"],[\"Schweizer/in\"],[\"Schweizer/in\"],[\"Schweizer/in\"],[\"Schweizer/in\"],[\"Schweizer/in\"],[\"Schweizer/in\"],[\"Schweizer/in\"],[\"Schweizer/in\"],[\"Schweizer/in\"],[\"Schweizer/in\"],[\"Schweizer/in\"],[\"Schweizer/in\"],[\"Schweizer/in\"],[\"(?)\"],[\"(?)\"],[\"(?)\"],[\"(?)\"],[\"(?)\"],[\"(?)\"],[\"(?)\"],[\"(?)\"],[\"(?)\"],[\"(?)\"],[\"(?)\"],[\"(?)\"],[\"(?)\"],[\"(?)\"],[\"(?)\"],[\"(?)\"],[\"(?)\"],[\"(?)\"],[\"(?)\"],[\"(?)\"],[\"(?)\"],[\"(?)\"],[\"(?)\"],[\"(?)\"],[\"(?)\"],[\"(?)\"],[\"(?)\"],[\"(?)\"],[\"(?)\"],[\"(?)\"],[\"(?)\"],[\"(?)\"],[\"(?)\"],[\"(?)\"],[\"(?)\"],[\"(?)\"],[\"(?)\"],[\"(?)\"],[\"(?)\"],[\"(?)\"],[\"(?)\"],[\"(?)\"],[\"(?)\"],[\"(?)\"],[\"(?)\"],[\"(?)\"],[\"(?)\"],[\"(?)\"],[\"(?)\"],[\"(?)\"],[\"(?)\"],[\"(?)\"],[\"(?)\"],[\"(?)\"],[\"(?)\"],[\"(?)\"],[\"(?)\"],[\"(?)\"],[\"(?)\"],[\"(?)\"],[\"(?)\"],[\"(?)\"],[\"(?)\"],[\"(?)\"],[\"(?)\"],[\"(?)\"],[\"(?)\"],[\"(?)\"],[\"(?)\"],[\"(?)\"],[\"(?)\"],[\"(?)\"],[\"(?)\"],[\"(?)\"],[\"(?)\"],[\"(?)\"],[\"(?)\"],[\"(?)\"],[\"(?)\"],[\"(?)\"],[\"(?)\"],[\"(?)\"],[\"(?)\"],[\"(?)\"],[\"(?)\"],[\"(?)\"],[\"(?)\"],[\"(?)\"],[\"(?)\"],[\"(?)\"],[\"(?)\"],[\"(?)\"],[\"(?)\"],[\"(?)\"],[\"(?)\"],[\"(?)\"],[\"(?)\"],[\"(?)\"],[\"(?)\"],[\"(?)\"],[\"(?)\"],[\"(?)\"],[\"(?)\"],[\"(?)\"],[\"(?)\"],[\"Schweizer/in\"],[\"Schweizer/in\"],[\"Schweizer/in\"],[\"(?)\"],[\"(?)\"]],\"domain\":{\"x\":[0.0,1.0],\"y\":[0.0,1.0]},\"hovertemplate\":\"labels=%{label}<br>sum_WBev=%{value}<br>parent=%{parent}<br>id=%{id}<br>HerkunftLang=%{customdata[0]}<extra></extra>\",\"ids\":[\"Wohnbev\\u00f6lkerung nach /2020-01-01/1/Schweizer/in\",\"Wohnbev\\u00f6lkerung nach /2020-01-01/91/Ausl\\u00e4nder/in\",\"Wohnbev\\u00f6lkerung nach /2020-01-01/89/Ausl\\u00e4nder/in\",\"Wohnbev\\u00f6lkerung nach /2020-01-01/88/Ausl\\u00e4nder/in\",\"Wohnbev\\u00f6lkerung nach /2020-01-01/87/Ausl\\u00e4nder/in\",\"Wohnbev\\u00f6lkerung nach /2020-01-01/86/Ausl\\u00e4nder/in\",\"Wohnbev\\u00f6lkerung nach /2020-01-01/84/Ausl\\u00e4nder/in\",\"Wohnbev\\u00f6lkerung nach /2020-01-01/83/Ausl\\u00e4nder/in\",\"Wohnbev\\u00f6lkerung nach /2020-01-01/86/Schweizer/in\",\"Wohnbev\\u00f6lkerung nach /2020-01-01/81/Ausl\\u00e4nder/in\",\"Wohnbev\\u00f6lkerung nach /2020-01-01/80/Ausl\\u00e4nder/in\",\"Wohnbev\\u00f6lkerung nach /2020-01-01/78/Ausl\\u00e4nder/in\",\"Wohnbev\\u00f6lkerung nach /2020-01-01/77/Ausl\\u00e4nder/in\",\"Wohnbev\\u00f6lkerung nach /2020-01-01/75/Ausl\\u00e4nder/in\",\"Wohnbev\\u00f6lkerung nach /2020-01-01/73/Ausl\\u00e4nder/in\",\"Wohnbev\\u00f6lkerung nach /2020-01-01/71/Ausl\\u00e4nder/in\",\"Wohnbev\\u00f6lkerung nach /2020-01-01/70/Ausl\\u00e4nder/in\",\"Wohnbev\\u00f6lkerung nach /2020-01-01/69/Ausl\\u00e4nder/in\",\"Wohnbev\\u00f6lkerung nach /2020-01-01/68/Ausl\\u00e4nder/in\",\"Wohnbev\\u00f6lkerung nach /2020-01-01/90/Schweizer/in\",\"Wohnbev\\u00f6lkerung nach /2020-01-01/66/Ausl\\u00e4nder/in\",\"Wohnbev\\u00f6lkerung nach /2020-01-01/65/Ausl\\u00e4nder/in\",\"Wohnbev\\u00f6lkerung nach /2020-01-01/64/Ausl\\u00e4nder/in\",\"Wohnbev\\u00f6lkerung nach /2020-01-01/63/Ausl\\u00e4nder/in\",\"Wohnbev\\u00f6lkerung nach /2020-01-01/62/Ausl\\u00e4nder/in\",\"Wohnbev\\u00f6lkerung nach /2020-01-01/61/Ausl\\u00e4nder/in\",\"Wohnbev\\u00f6lkerung nach /2020-01-01/94/Ausl\\u00e4nder/in\",\"Wohnbev\\u00f6lkerung nach /2020-01-01/60/Ausl\\u00e4nder/in\",\"Wohnbev\\u00f6lkerung nach /2020-01-01/95/Ausl\\u00e4nder/in\",\"Wohnbev\\u00f6lkerung nach /2020-01-01/81/Schweizer/in\",\"Wohnbev\\u00f6lkerung nach /2020-01-01/48/Schweizer/in\",\"Wohnbev\\u00f6lkerung nach /2020-01-01/49/Schweizer/in\",\"Wohnbev\\u00f6lkerung nach /2020-01-01/37/Schweizer/in\",\"Wohnbev\\u00f6lkerung nach /2020-01-01/33/Schweizer/in\",\"Wohnbev\\u00f6lkerung nach /2020-01-01/57/Schweizer/in\",\"Wohnbev\\u00f6lkerung nach /2020-01-01/29/Schweizer/in\",\"Wohnbev\\u00f6lkerung nach /2020-01-01/59/Schweizer/in\",\"Wohnbev\\u00f6lkerung nach /2020-01-01/25/Schweizer/in\",\"Wohnbev\\u00f6lkerung nach /2020-01-01/61/Schweizer/in\",\"Wohnbev\\u00f6lkerung nach /2020-01-01/63/Schweizer/in\",\"Wohnbev\\u00f6lkerung nach /2020-01-01/19/Schweizer/in\",\"Wohnbev\\u00f6lkerung nach /2020-01-01/17/Schweizer/in\",\"Wohnbev\\u00f6lkerung nach /2020-01-01/70/Schweizer/in\",\"Wohnbev\\u00f6lkerung nach /2020-01-01/8/Schweizer/in\",\"Wohnbev\\u00f6lkerung nach /2020-01-01/7/Schweizer/in\",\"Wohnbev\\u00f6lkerung nach /2020-01-01/4/Schweizer/in\",\"Wohnbev\\u00f6lkerung nach /2020-01-01/3/Schweizer/in\",\"Wohnbev\\u00f6lkerung nach /2020-01-01/77/Schweizer/in\",\"Wohnbev\\u00f6lkerung nach /2020-01-01/0/Schweizer/in\",\"Wohnbev\\u00f6lkerung nach /2020-01-01/104/Ausl\\u00e4nder/in\",\"Wohnbev\\u00f6lkerung nach /2020-01-01/103/Ausl\\u00e4nder/in\",\"Wohnbev\\u00f6lkerung nach /2020-01-01/102/Ausl\\u00e4nder/in\",\"Wohnbev\\u00f6lkerung nach /2020-01-01/101/Ausl\\u00e4nder/in\",\"Wohnbev\\u00f6lkerung nach /2020-01-01/99/Ausl\\u00e4nder/in\",\"Wohnbev\\u00f6lkerung nach /2020-01-01/80/Schweizer/in\",\"Wohnbev\\u00f6lkerung nach /2020-01-01/96/Ausl\\u00e4nder/in\",\"Wohnbev\\u00f6lkerung nach /2020-01-01/59/Ausl\\u00e4nder/in\",\"Wohnbev\\u00f6lkerung nach /2020-01-01/74/Ausl\\u00e4nder/in\",\"Wohnbev\\u00f6lkerung nach /2020-01-01/21/Ausl\\u00e4nder/in\",\"Wohnbev\\u00f6lkerung nach /2020-01-01/34/Ausl\\u00e4nder/in\",\"Wohnbev\\u00f6lkerung nach /2020-01-01/33/Ausl\\u00e4nder/in\",\"Wohnbev\\u00f6lkerung nach /2020-01-01/31/Ausl\\u00e4nder/in\",\"Wohnbev\\u00f6lkerung nach /2020-01-01/30/Ausl\\u00e4nder/in\",\"Wohnbev\\u00f6lkerung nach /2020-01-01/28/Ausl\\u00e4nder/in\",\"Wohnbev\\u00f6lkerung nach /2020-01-01/27/Ausl\\u00e4nder/in\",\"Wohnbev\\u00f6lkerung nach /2020-01-01/97/Schweizer/in\",\"Wohnbev\\u00f6lkerung nach /2020-01-01/25/Ausl\\u00e4nder/in\",\"Wohnbev\\u00f6lkerung nach /2020-01-01/24/Ausl\\u00e4nder/in\",\"Wohnbev\\u00f6lkerung nach /2020-01-01/23/Ausl\\u00e4nder/in\",\"Wohnbev\\u00f6lkerung nach /2020-01-01/5/Ausl\\u00e4nder/in\",\"Wohnbev\\u00f6lkerung nach /2020-01-01/57/Ausl\\u00e4nder/in\",\"Wohnbev\\u00f6lkerung nach /2020-01-01/99/Schweizer/in\",\"Wohnbev\\u00f6lkerung nach /2020-01-01/19/Ausl\\u00e4nder/in\",\"Wohnbev\\u00f6lkerung nach /2020-01-01/18/Ausl\\u00e4nder/in\",\"Wohnbev\\u00f6lkerung nach /2020-01-01/16/Ausl\\u00e4nder/in\",\"Wohnbev\\u00f6lkerung nach /2020-01-01/15/Ausl\\u00e4nder/in\",\"Wohnbev\\u00f6lkerung nach /2020-01-01/8/Ausl\\u00e4nder/in\",\"Wohnbev\\u00f6lkerung nach /2020-01-01/9/Ausl\\u00e4nder/in\",\"Wohnbev\\u00f6lkerung nach /2020-01-01/10/Ausl\\u00e4nder/in\",\"Wohnbev\\u00f6lkerung nach /2020-01-01/13/Ausl\\u00e4nder/in\",\"Wohnbev\\u00f6lkerung nach /2020-01-01/3/Ausl\\u00e4nder/in\",\"Wohnbev\\u00f6lkerung nach /2020-01-01/36/Ausl\\u00e4nder/in\",\"Wohnbev\\u00f6lkerung nach /2020-01-01/12/Ausl\\u00e4nder/in\",\"Wohnbev\\u00f6lkerung nach /2020-01-01/38/Ausl\\u00e4nder/in\",\"Wohnbev\\u00f6lkerung nach /2020-01-01/56/Ausl\\u00e4nder/in\",\"Wohnbev\\u00f6lkerung nach /2020-01-01/55/Ausl\\u00e4nder/in\",\"Wohnbev\\u00f6lkerung nach /2020-01-01/54/Ausl\\u00e4nder/in\",\"Wohnbev\\u00f6lkerung nach /2020-01-01/53/Ausl\\u00e4nder/in\",\"Wohnbev\\u00f6lkerung nach /2020-01-01/92/Schweizer/in\",\"Wohnbev\\u00f6lkerung nach /2020-01-01/51/Ausl\\u00e4nder/in\",\"Wohnbev\\u00f6lkerung nach /2020-01-01/50/Ausl\\u00e4nder/in\",\"Wohnbev\\u00f6lkerung nach /2020-01-01/49/Ausl\\u00e4nder/in\",\"Wohnbev\\u00f6lkerung nach /2020-01-01/48/Ausl\\u00e4nder/in\",\"Wohnbev\\u00f6lkerung nach /2020-01-01/47/Ausl\\u00e4nder/in\",\"Wohnbev\\u00f6lkerung nach /2020-01-01/37/Ausl\\u00e4nder/in\",\"Wohnbev\\u00f6lkerung nach /2020-01-01/45/Ausl\\u00e4nder/in\",\"Wohnbev\\u00f6lkerung nach /2020-01-01/44/Ausl\\u00e4nder/in\",\"Wohnbev\\u00f6lkerung nach /2020-01-01/93/Schweizer/in\",\"Wohnbev\\u00f6lkerung nach /2020-01-01/1/Ausl\\u00e4nder/in\",\"Wohnbev\\u00f6lkerung nach /2020-01-01/42/Ausl\\u00e4nder/in\",\"Wohnbev\\u00f6lkerung nach /2020-01-01/2/Ausl\\u00e4nder/in\",\"Wohnbev\\u00f6lkerung nach /2020-01-01/39/Ausl\\u00e4nder/in\",\"Wohnbev\\u00f6lkerung nach /2020-01-01/41/Ausl\\u00e4nder/in\",\"Wohnbev\\u00f6lkerung nach /2020-01-01/43/Ausl\\u00e4nder/in\",\"Wohnbev\\u00f6lkerung nach /2020-01-01/40/Ausl\\u00e4nder/in\",\"Wohnbev\\u00f6lkerung nach /2020-01-01/47/Schweizer/in\",\"Wohnbev\\u00f6lkerung nach /2020-01-01/102/Schweizer/in\",\"Wohnbev\\u00f6lkerung nach /2020-01-01/65/Schweizer/in\",\"Wohnbev\\u00f6lkerung nach /2020-01-01/51/Schweizer/in\",\"Wohnbev\\u00f6lkerung nach /2020-01-01/64/Schweizer/in\",\"Wohnbev\\u00f6lkerung nach /2020-01-01/62/Schweizer/in\",\"Wohnbev\\u00f6lkerung nach /2020-01-01/50/Schweizer/in\",\"Wohnbev\\u00f6lkerung nach /2020-01-01/103/Schweizer/in\",\"Wohnbev\\u00f6lkerung nach /2020-01-01/60/Schweizer/in\",\"Wohnbev\\u00f6lkerung nach /2020-01-01/58/Schweizer/in\",\"Wohnbev\\u00f6lkerung nach /2020-01-01/66/Schweizer/in\",\"Wohnbev\\u00f6lkerung nach /2020-01-01/104/Schweizer/in\",\"Wohnbev\\u00f6lkerung nach /2020-01-01/54/Schweizer/in\",\"Wohnbev\\u00f6lkerung nach /2020-01-01/105/Schweizer/in\",\"Wohnbev\\u00f6lkerung nach /2020-01-01/55/Schweizer/in\",\"Wohnbev\\u00f6lkerung nach /2020-01-01/56/Schweizer/in\",\"Wohnbev\\u00f6lkerung nach /2020-01-01/52/Schweizer/in\",\"Wohnbev\\u00f6lkerung nach /2020-01-01/53/Schweizer/in\",\"Wohnbev\\u00f6lkerung nach /2020-01-01/91/Schweizer/in\",\"Wohnbev\\u00f6lkerung nach /2020-01-01/68/Schweizer/in\",\"Wohnbev\\u00f6lkerung nach /2020-01-01/89/Schweizer/in\",\"Wohnbev\\u00f6lkerung nach /2020-01-01/46/Schweizer/in\",\"Wohnbev\\u00f6lkerung nach /2020-01-01/88/Schweizer/in\",\"Wohnbev\\u00f6lkerung nach /2020-01-01/87/Schweizer/in\",\"Wohnbev\\u00f6lkerung nach /2020-01-01/94/Schweizer/in\",\"Wohnbev\\u00f6lkerung nach /2020-01-01/85/Schweizer/in\",\"Wohnbev\\u00f6lkerung nach /2020-01-01/95/Schweizer/in\",\"Wohnbev\\u00f6lkerung nach /2020-01-01/84/Schweizer/in\",\"Wohnbev\\u00f6lkerung nach /2020-01-01/83/Schweizer/in\",\"Wohnbev\\u00f6lkerung nach /2020-01-01/82/Schweizer/in\",\"Wohnbev\\u00f6lkerung nach /2020-01-01/96/Schweizer/in\",\"Wohnbev\\u00f6lkerung nach /2020-01-01/79/Schweizer/in\",\"Wohnbev\\u00f6lkerung nach /2020-01-01/98/Schweizer/in\",\"Wohnbev\\u00f6lkerung nach /2020-01-01/78/Schweizer/in\",\"Wohnbev\\u00f6lkerung nach /2020-01-01/100/Schweizer/in\",\"Wohnbev\\u00f6lkerung nach /2020-01-01/76/Schweizer/in\",\"Wohnbev\\u00f6lkerung nach /2020-01-01/75/Schweizer/in\",\"Wohnbev\\u00f6lkerung nach /2020-01-01/101/Schweizer/in\",\"Wohnbev\\u00f6lkerung nach /2020-01-01/74/Schweizer/in\",\"Wohnbev\\u00f6lkerung nach /2020-01-01/73/Schweizer/in\",\"Wohnbev\\u00f6lkerung nach /2020-01-01/72/Schweizer/in\",\"Wohnbev\\u00f6lkerung nach /2020-01-01/71/Schweizer/in\",\"Wohnbev\\u00f6lkerung nach /2020-01-01/69/Schweizer/in\",\"Wohnbev\\u00f6lkerung nach /2020-01-01/67/Schweizer/in\",\"Wohnbev\\u00f6lkerung nach /2020-01-01/45/Schweizer/in\",\"Wohnbev\\u00f6lkerung nach /2020-01-01/0/Ausl\\u00e4nder/in\",\"Wohnbev\\u00f6lkerung nach /2020-01-01/43/Schweizer/in\",\"Wohnbev\\u00f6lkerung nach /2020-01-01/100/Ausl\\u00e4nder/in\",\"Wohnbev\\u00f6lkerung nach /2020-01-01/98/Ausl\\u00e4nder/in\",\"Wohnbev\\u00f6lkerung nach /2020-01-01/97/Ausl\\u00e4nder/in\",\"Wohnbev\\u00f6lkerung nach /2020-01-01/93/Ausl\\u00e4nder/in\",\"Wohnbev\\u00f6lkerung nach /2020-01-01/92/Ausl\\u00e4nder/in\",\"Wohnbev\\u00f6lkerung nach /2020-01-01/90/Ausl\\u00e4nder/in\",\"Wohnbev\\u00f6lkerung nach /2020-01-01/85/Ausl\\u00e4nder/in\",\"Wohnbev\\u00f6lkerung nach /2020-01-01/82/Ausl\\u00e4nder/in\",\"Wohnbev\\u00f6lkerung nach /2020-01-01/79/Ausl\\u00e4nder/in\",\"Wohnbev\\u00f6lkerung nach /2020-01-01/76/Ausl\\u00e4nder/in\",\"Wohnbev\\u00f6lkerung nach /2020-01-01/72/Ausl\\u00e4nder/in\",\"Wohnbev\\u00f6lkerung nach /2020-01-01/67/Ausl\\u00e4nder/in\",\"Wohnbev\\u00f6lkerung nach /2020-01-01/58/Ausl\\u00e4nder/in\",\"Wohnbev\\u00f6lkerung nach /2020-01-01/52/Ausl\\u00e4nder/in\",\"Wohnbev\\u00f6lkerung nach /2020-01-01/46/Ausl\\u00e4nder/in\",\"Wohnbev\\u00f6lkerung nach /2020-01-01/35/Ausl\\u00e4nder/in\",\"Wohnbev\\u00f6lkerung nach /2020-01-01/32/Ausl\\u00e4nder/in\",\"Wohnbev\\u00f6lkerung nach /2020-01-01/29/Ausl\\u00e4nder/in\",\"Wohnbev\\u00f6lkerung nach /2020-01-01/26/Ausl\\u00e4nder/in\",\"Wohnbev\\u00f6lkerung nach /2020-01-01/22/Ausl\\u00e4nder/in\",\"Wohnbev\\u00f6lkerung nach /2020-01-01/20/Ausl\\u00e4nder/in\",\"Wohnbev\\u00f6lkerung nach /2020-01-01/17/Ausl\\u00e4nder/in\",\"Wohnbev\\u00f6lkerung nach /2020-01-01/14/Ausl\\u00e4nder/in\",\"Wohnbev\\u00f6lkerung nach /2020-01-01/11/Ausl\\u00e4nder/in\",\"Wohnbev\\u00f6lkerung nach /2020-01-01/7/Ausl\\u00e4nder/in\",\"Wohnbev\\u00f6lkerung nach /2020-01-01/6/Ausl\\u00e4nder/in\",\"Wohnbev\\u00f6lkerung nach /2020-01-01/4/Ausl\\u00e4nder/in\",\"Wohnbev\\u00f6lkerung nach /2020-01-01/106/Schweizer/in\",\"Wohnbev\\u00f6lkerung nach /2020-01-01/2/Schweizer/in\",\"Wohnbev\\u00f6lkerung nach /2020-01-01/5/Schweizer/in\",\"Wohnbev\\u00f6lkerung nach /2020-01-01/6/Schweizer/in\",\"Wohnbev\\u00f6lkerung nach /2020-01-01/42/Schweizer/in\",\"Wohnbev\\u00f6lkerung nach /2020-01-01/41/Schweizer/in\",\"Wohnbev\\u00f6lkerung nach /2020-01-01/40/Schweizer/in\",\"Wohnbev\\u00f6lkerung nach /2020-01-01/39/Schweizer/in\",\"Wohnbev\\u00f6lkerung nach /2020-01-01/38/Schweizer/in\",\"Wohnbev\\u00f6lkerung nach /2020-01-01/36/Schweizer/in\",\"Wohnbev\\u00f6lkerung nach /2020-01-01/35/Schweizer/in\",\"Wohnbev\\u00f6lkerung nach /2020-01-01/34/Schweizer/in\",\"Wohnbev\\u00f6lkerung nach /2020-01-01/32/Schweizer/in\",\"Wohnbev\\u00f6lkerung nach /2020-01-01/31/Schweizer/in\",\"Wohnbev\\u00f6lkerung nach /2020-01-01/30/Schweizer/in\",\"Wohnbev\\u00f6lkerung nach /2020-01-01/28/Schweizer/in\",\"Wohnbev\\u00f6lkerung nach /2020-01-01/27/Schweizer/in\",\"Wohnbev\\u00f6lkerung nach /2020-01-01/44/Schweizer/in\",\"Wohnbev\\u00f6lkerung nach /2020-01-01/26/Schweizer/in\",\"Wohnbev\\u00f6lkerung nach /2020-01-01/23/Schweizer/in\",\"Wohnbev\\u00f6lkerung nach /2020-01-01/22/Schweizer/in\",\"Wohnbev\\u00f6lkerung nach /2020-01-01/21/Schweizer/in\",\"Wohnbev\\u00f6lkerung nach /2020-01-01/20/Schweizer/in\",\"Wohnbev\\u00f6lkerung nach /2020-01-01/18/Schweizer/in\",\"Wohnbev\\u00f6lkerung nach /2020-01-01/16/Schweizer/in\",\"Wohnbev\\u00f6lkerung nach /2020-01-01/15/Schweizer/in\",\"Wohnbev\\u00f6lkerung nach /2020-01-01/14/Schweizer/in\",\"Wohnbev\\u00f6lkerung nach /2020-01-01/13/Schweizer/in\",\"Wohnbev\\u00f6lkerung nach /2020-01-01/12/Schweizer/in\",\"Wohnbev\\u00f6lkerung nach /2020-01-01/11/Schweizer/in\",\"Wohnbev\\u00f6lkerung nach /2020-01-01/10/Schweizer/in\",\"Wohnbev\\u00f6lkerung nach /2020-01-01/9/Schweizer/in\",\"Wohnbev\\u00f6lkerung nach /2020-01-01/24/Schweizer/in\",\"Wohnbev\\u00f6lkerung nach /2020-01-01/107/Schweizer/in\",\"Wohnbev\\u00f6lkerung nach /2020-01-01/0\",\"Wohnbev\\u00f6lkerung nach /2020-01-01/1\",\"Wohnbev\\u00f6lkerung nach /2020-01-01/2\",\"Wohnbev\\u00f6lkerung nach /2020-01-01/3\",\"Wohnbev\\u00f6lkerung nach /2020-01-01/4\",\"Wohnbev\\u00f6lkerung nach /2020-01-01/5\",\"Wohnbev\\u00f6lkerung nach /2020-01-01/6\",\"Wohnbev\\u00f6lkerung nach /2020-01-01/7\",\"Wohnbev\\u00f6lkerung nach /2020-01-01/8\",\"Wohnbev\\u00f6lkerung nach /2020-01-01/9\",\"Wohnbev\\u00f6lkerung nach /2020-01-01/10\",\"Wohnbev\\u00f6lkerung nach /2020-01-01/11\",\"Wohnbev\\u00f6lkerung nach /2020-01-01/12\",\"Wohnbev\\u00f6lkerung nach /2020-01-01/13\",\"Wohnbev\\u00f6lkerung nach /2020-01-01/14\",\"Wohnbev\\u00f6lkerung nach /2020-01-01/15\",\"Wohnbev\\u00f6lkerung nach /2020-01-01/16\",\"Wohnbev\\u00f6lkerung nach /2020-01-01/17\",\"Wohnbev\\u00f6lkerung nach /2020-01-01/18\",\"Wohnbev\\u00f6lkerung nach /2020-01-01/19\",\"Wohnbev\\u00f6lkerung nach /2020-01-01/20\",\"Wohnbev\\u00f6lkerung nach /2020-01-01/21\",\"Wohnbev\\u00f6lkerung nach /2020-01-01/22\",\"Wohnbev\\u00f6lkerung nach /2020-01-01/23\",\"Wohnbev\\u00f6lkerung nach /2020-01-01/24\",\"Wohnbev\\u00f6lkerung nach /2020-01-01/25\",\"Wohnbev\\u00f6lkerung nach /2020-01-01/26\",\"Wohnbev\\u00f6lkerung nach /2020-01-01/27\",\"Wohnbev\\u00f6lkerung nach /2020-01-01/28\",\"Wohnbev\\u00f6lkerung nach /2020-01-01/29\",\"Wohnbev\\u00f6lkerung nach /2020-01-01/30\",\"Wohnbev\\u00f6lkerung nach /2020-01-01/31\",\"Wohnbev\\u00f6lkerung nach /2020-01-01/32\",\"Wohnbev\\u00f6lkerung nach /2020-01-01/33\",\"Wohnbev\\u00f6lkerung nach /2020-01-01/34\",\"Wohnbev\\u00f6lkerung nach /2020-01-01/35\",\"Wohnbev\\u00f6lkerung nach /2020-01-01/36\",\"Wohnbev\\u00f6lkerung nach /2020-01-01/37\",\"Wohnbev\\u00f6lkerung nach /2020-01-01/38\",\"Wohnbev\\u00f6lkerung nach /2020-01-01/39\",\"Wohnbev\\u00f6lkerung nach /2020-01-01/40\",\"Wohnbev\\u00f6lkerung nach /2020-01-01/41\",\"Wohnbev\\u00f6lkerung nach /2020-01-01/42\",\"Wohnbev\\u00f6lkerung nach /2020-01-01/43\",\"Wohnbev\\u00f6lkerung nach /2020-01-01/44\",\"Wohnbev\\u00f6lkerung nach /2020-01-01/45\",\"Wohnbev\\u00f6lkerung nach /2020-01-01/46\",\"Wohnbev\\u00f6lkerung nach /2020-01-01/47\",\"Wohnbev\\u00f6lkerung nach /2020-01-01/48\",\"Wohnbev\\u00f6lkerung nach /2020-01-01/49\",\"Wohnbev\\u00f6lkerung nach /2020-01-01/50\",\"Wohnbev\\u00f6lkerung nach /2020-01-01/51\",\"Wohnbev\\u00f6lkerung nach /2020-01-01/52\",\"Wohnbev\\u00f6lkerung nach /2020-01-01/53\",\"Wohnbev\\u00f6lkerung nach /2020-01-01/54\",\"Wohnbev\\u00f6lkerung nach /2020-01-01/55\",\"Wohnbev\\u00f6lkerung nach /2020-01-01/56\",\"Wohnbev\\u00f6lkerung nach /2020-01-01/57\",\"Wohnbev\\u00f6lkerung nach /2020-01-01/58\",\"Wohnbev\\u00f6lkerung nach /2020-01-01/59\",\"Wohnbev\\u00f6lkerung nach /2020-01-01/60\",\"Wohnbev\\u00f6lkerung nach /2020-01-01/61\",\"Wohnbev\\u00f6lkerung nach /2020-01-01/62\",\"Wohnbev\\u00f6lkerung nach /2020-01-01/63\",\"Wohnbev\\u00f6lkerung nach /2020-01-01/64\",\"Wohnbev\\u00f6lkerung nach /2020-01-01/65\",\"Wohnbev\\u00f6lkerung nach /2020-01-01/66\",\"Wohnbev\\u00f6lkerung nach /2020-01-01/67\",\"Wohnbev\\u00f6lkerung nach /2020-01-01/68\",\"Wohnbev\\u00f6lkerung nach /2020-01-01/69\",\"Wohnbev\\u00f6lkerung nach /2020-01-01/70\",\"Wohnbev\\u00f6lkerung nach /2020-01-01/71\",\"Wohnbev\\u00f6lkerung nach /2020-01-01/72\",\"Wohnbev\\u00f6lkerung nach /2020-01-01/73\",\"Wohnbev\\u00f6lkerung nach /2020-01-01/74\",\"Wohnbev\\u00f6lkerung nach /2020-01-01/75\",\"Wohnbev\\u00f6lkerung nach /2020-01-01/76\",\"Wohnbev\\u00f6lkerung nach /2020-01-01/77\",\"Wohnbev\\u00f6lkerung nach /2020-01-01/78\",\"Wohnbev\\u00f6lkerung nach /2020-01-01/79\",\"Wohnbev\\u00f6lkerung nach /2020-01-01/80\",\"Wohnbev\\u00f6lkerung nach /2020-01-01/81\",\"Wohnbev\\u00f6lkerung nach /2020-01-01/82\",\"Wohnbev\\u00f6lkerung nach /2020-01-01/83\",\"Wohnbev\\u00f6lkerung nach /2020-01-01/84\",\"Wohnbev\\u00f6lkerung nach /2020-01-01/85\",\"Wohnbev\\u00f6lkerung nach /2020-01-01/86\",\"Wohnbev\\u00f6lkerung nach /2020-01-01/87\",\"Wohnbev\\u00f6lkerung nach /2020-01-01/88\",\"Wohnbev\\u00f6lkerung nach /2020-01-01/89\",\"Wohnbev\\u00f6lkerung nach /2020-01-01/90\",\"Wohnbev\\u00f6lkerung nach /2020-01-01/91\",\"Wohnbev\\u00f6lkerung nach /2020-01-01/92\",\"Wohnbev\\u00f6lkerung nach /2020-01-01/93\",\"Wohnbev\\u00f6lkerung nach /2020-01-01/94\",\"Wohnbev\\u00f6lkerung nach /2020-01-01/95\",\"Wohnbev\\u00f6lkerung nach /2020-01-01/96\",\"Wohnbev\\u00f6lkerung nach /2020-01-01/97\",\"Wohnbev\\u00f6lkerung nach /2020-01-01/98\",\"Wohnbev\\u00f6lkerung nach /2020-01-01/99\",\"Wohnbev\\u00f6lkerung nach /2020-01-01/100\",\"Wohnbev\\u00f6lkerung nach /2020-01-01/101\",\"Wohnbev\\u00f6lkerung nach /2020-01-01/102\",\"Wohnbev\\u00f6lkerung nach /2020-01-01/103\",\"Wohnbev\\u00f6lkerung nach /2020-01-01/104\",\"Wohnbev\\u00f6lkerung nach /2020-01-01/105\",\"Wohnbev\\u00f6lkerung nach /2020-01-01/106\",\"Wohnbev\\u00f6lkerung nach /2020-01-01/107\",\"Wohnbev\\u00f6lkerung nach /2020-01-01\",\"Wohnbev\\u00f6lkerung nach \"],\"labels\":[\"Schweizer/in\",\"Ausl\\u00e4nder/in\",\"Ausl\\u00e4nder/in\",\"Ausl\\u00e4nder/in\",\"Ausl\\u00e4nder/in\",\"Ausl\\u00e4nder/in\",\"Ausl\\u00e4nder/in\",\"Ausl\\u00e4nder/in\",\"Schweizer/in\",\"Ausl\\u00e4nder/in\",\"Ausl\\u00e4nder/in\",\"Ausl\\u00e4nder/in\",\"Ausl\\u00e4nder/in\",\"Ausl\\u00e4nder/in\",\"Ausl\\u00e4nder/in\",\"Ausl\\u00e4nder/in\",\"Ausl\\u00e4nder/in\",\"Ausl\\u00e4nder/in\",\"Ausl\\u00e4nder/in\",\"Schweizer/in\",\"Ausl\\u00e4nder/in\",\"Ausl\\u00e4nder/in\",\"Ausl\\u00e4nder/in\",\"Ausl\\u00e4nder/in\",\"Ausl\\u00e4nder/in\",\"Ausl\\u00e4nder/in\",\"Ausl\\u00e4nder/in\",\"Ausl\\u00e4nder/in\",\"Ausl\\u00e4nder/in\",\"Schweizer/in\",\"Schweizer/in\",\"Schweizer/in\",\"Schweizer/in\",\"Schweizer/in\",\"Schweizer/in\",\"Schweizer/in\",\"Schweizer/in\",\"Schweizer/in\",\"Schweizer/in\",\"Schweizer/in\",\"Schweizer/in\",\"Schweizer/in\",\"Schweizer/in\",\"Schweizer/in\",\"Schweizer/in\",\"Schweizer/in\",\"Schweizer/in\",\"Schweizer/in\",\"Schweizer/in\",\"Ausl\\u00e4nder/in\",\"Ausl\\u00e4nder/in\",\"Ausl\\u00e4nder/in\",\"Ausl\\u00e4nder/in\",\"Ausl\\u00e4nder/in\",\"Schweizer/in\",\"Ausl\\u00e4nder/in\",\"Ausl\\u00e4nder/in\",\"Ausl\\u00e4nder/in\",\"Ausl\\u00e4nder/in\",\"Ausl\\u00e4nder/in\",\"Ausl\\u00e4nder/in\",\"Ausl\\u00e4nder/in\",\"Ausl\\u00e4nder/in\",\"Ausl\\u00e4nder/in\",\"Ausl\\u00e4nder/in\",\"Schweizer/in\",\"Ausl\\u00e4nder/in\",\"Ausl\\u00e4nder/in\",\"Ausl\\u00e4nder/in\",\"Ausl\\u00e4nder/in\",\"Ausl\\u00e4nder/in\",\"Schweizer/in\",\"Ausl\\u00e4nder/in\",\"Ausl\\u00e4nder/in\",\"Ausl\\u00e4nder/in\",\"Ausl\\u00e4nder/in\",\"Ausl\\u00e4nder/in\",\"Ausl\\u00e4nder/in\",\"Ausl\\u00e4nder/in\",\"Ausl\\u00e4nder/in\",\"Ausl\\u00e4nder/in\",\"Ausl\\u00e4nder/in\",\"Ausl\\u00e4nder/in\",\"Ausl\\u00e4nder/in\",\"Ausl\\u00e4nder/in\",\"Ausl\\u00e4nder/in\",\"Ausl\\u00e4nder/in\",\"Ausl\\u00e4nder/in\",\"Schweizer/in\",\"Ausl\\u00e4nder/in\",\"Ausl\\u00e4nder/in\",\"Ausl\\u00e4nder/in\",\"Ausl\\u00e4nder/in\",\"Ausl\\u00e4nder/in\",\"Ausl\\u00e4nder/in\",\"Ausl\\u00e4nder/in\",\"Ausl\\u00e4nder/in\",\"Schweizer/in\",\"Ausl\\u00e4nder/in\",\"Ausl\\u00e4nder/in\",\"Ausl\\u00e4nder/in\",\"Ausl\\u00e4nder/in\",\"Ausl\\u00e4nder/in\",\"Ausl\\u00e4nder/in\",\"Ausl\\u00e4nder/in\",\"Schweizer/in\",\"Schweizer/in\",\"Schweizer/in\",\"Schweizer/in\",\"Schweizer/in\",\"Schweizer/in\",\"Schweizer/in\",\"Schweizer/in\",\"Schweizer/in\",\"Schweizer/in\",\"Schweizer/in\",\"Schweizer/in\",\"Schweizer/in\",\"Schweizer/in\",\"Schweizer/in\",\"Schweizer/in\",\"Schweizer/in\",\"Schweizer/in\",\"Schweizer/in\",\"Schweizer/in\",\"Schweizer/in\",\"Schweizer/in\",\"Schweizer/in\",\"Schweizer/in\",\"Schweizer/in\",\"Schweizer/in\",\"Schweizer/in\",\"Schweizer/in\",\"Schweizer/in\",\"Schweizer/in\",\"Schweizer/in\",\"Schweizer/in\",\"Schweizer/in\",\"Schweizer/in\",\"Schweizer/in\",\"Schweizer/in\",\"Schweizer/in\",\"Schweizer/in\",\"Schweizer/in\",\"Schweizer/in\",\"Schweizer/in\",\"Schweizer/in\",\"Schweizer/in\",\"Schweizer/in\",\"Schweizer/in\",\"Ausl\\u00e4nder/in\",\"Schweizer/in\",\"Ausl\\u00e4nder/in\",\"Ausl\\u00e4nder/in\",\"Ausl\\u00e4nder/in\",\"Ausl\\u00e4nder/in\",\"Ausl\\u00e4nder/in\",\"Ausl\\u00e4nder/in\",\"Ausl\\u00e4nder/in\",\"Ausl\\u00e4nder/in\",\"Ausl\\u00e4nder/in\",\"Ausl\\u00e4nder/in\",\"Ausl\\u00e4nder/in\",\"Ausl\\u00e4nder/in\",\"Ausl\\u00e4nder/in\",\"Ausl\\u00e4nder/in\",\"Ausl\\u00e4nder/in\",\"Ausl\\u00e4nder/in\",\"Ausl\\u00e4nder/in\",\"Ausl\\u00e4nder/in\",\"Ausl\\u00e4nder/in\",\"Ausl\\u00e4nder/in\",\"Ausl\\u00e4nder/in\",\"Ausl\\u00e4nder/in\",\"Ausl\\u00e4nder/in\",\"Ausl\\u00e4nder/in\",\"Ausl\\u00e4nder/in\",\"Ausl\\u00e4nder/in\",\"Ausl\\u00e4nder/in\",\"Schweizer/in\",\"Schweizer/in\",\"Schweizer/in\",\"Schweizer/in\",\"Schweizer/in\",\"Schweizer/in\",\"Schweizer/in\",\"Schweizer/in\",\"Schweizer/in\",\"Schweizer/in\",\"Schweizer/in\",\"Schweizer/in\",\"Schweizer/in\",\"Schweizer/in\",\"Schweizer/in\",\"Schweizer/in\",\"Schweizer/in\",\"Schweizer/in\",\"Schweizer/in\",\"Schweizer/in\",\"Schweizer/in\",\"Schweizer/in\",\"Schweizer/in\",\"Schweizer/in\",\"Schweizer/in\",\"Schweizer/in\",\"Schweizer/in\",\"Schweizer/in\",\"Schweizer/in\",\"Schweizer/in\",\"Schweizer/in\",\"Schweizer/in\",\"Schweizer/in\",\"Schweizer/in\",\"0\",\"1\",\"2\",\"3\",\"4\",\"5\",\"6\",\"7\",\"8\",\"9\",\"10\",\"11\",\"12\",\"13\",\"14\",\"15\",\"16\",\"17\",\"18\",\"19\",\"20\",\"21\",\"22\",\"23\",\"24\",\"25\",\"26\",\"27\",\"28\",\"29\",\"30\",\"31\",\"32\",\"33\",\"34\",\"35\",\"36\",\"37\",\"38\",\"39\",\"40\",\"41\",\"42\",\"43\",\"44\",\"45\",\"46\",\"47\",\"48\",\"49\",\"50\",\"51\",\"52\",\"53\",\"54\",\"55\",\"56\",\"57\",\"58\",\"59\",\"60\",\"61\",\"62\",\"63\",\"64\",\"65\",\"66\",\"67\",\"68\",\"69\",\"70\",\"71\",\"72\",\"73\",\"74\",\"75\",\"76\",\"77\",\"78\",\"79\",\"80\",\"81\",\"82\",\"83\",\"84\",\"85\",\"86\",\"87\",\"88\",\"89\",\"90\",\"91\",\"92\",\"93\",\"94\",\"95\",\"96\",\"97\",\"98\",\"99\",\"100\",\"101\",\"102\",\"103\",\"104\",\"105\",\"106\",\"107\",\"2020-01-01\",\"Wohnbev\\u00f6lkerung nach \"],\"marker\":{\"colors\":[\"gold\",\"#ab63fa\",\"#ab63fa\",\"#ab63fa\",\"#ab63fa\",\"#ab63fa\",\"#ab63fa\",\"#ab63fa\",\"gold\",\"#ab63fa\",\"#ab63fa\",\"#ab63fa\",\"#ab63fa\",\"#ab63fa\",\"#ab63fa\",\"#ab63fa\",\"#ab63fa\",\"#ab63fa\",\"#ab63fa\",\"gold\",\"#ab63fa\",\"#ab63fa\",\"#ab63fa\",\"#ab63fa\",\"#ab63fa\",\"#ab63fa\",\"#ab63fa\",\"#ab63fa\",\"#ab63fa\",\"gold\",\"gold\",\"gold\",\"gold\",\"gold\",\"gold\",\"gold\",\"gold\",\"gold\",\"gold\",\"gold\",\"gold\",\"gold\",\"gold\",\"gold\",\"gold\",\"gold\",\"gold\",\"gold\",\"gold\",\"#ab63fa\",\"#ab63fa\",\"#ab63fa\",\"#ab63fa\",\"#ab63fa\",\"gold\",\"#ab63fa\",\"#ab63fa\",\"#ab63fa\",\"#ab63fa\",\"#ab63fa\",\"#ab63fa\",\"#ab63fa\",\"#ab63fa\",\"#ab63fa\",\"#ab63fa\",\"gold\",\"#ab63fa\",\"#ab63fa\",\"#ab63fa\",\"#ab63fa\",\"#ab63fa\",\"gold\",\"#ab63fa\",\"#ab63fa\",\"#ab63fa\",\"#ab63fa\",\"#ab63fa\",\"#ab63fa\",\"#ab63fa\",\"#ab63fa\",\"#ab63fa\",\"#ab63fa\",\"#ab63fa\",\"#ab63fa\",\"#ab63fa\",\"#ab63fa\",\"#ab63fa\",\"#ab63fa\",\"gold\",\"#ab63fa\",\"#ab63fa\",\"#ab63fa\",\"#ab63fa\",\"#ab63fa\",\"#ab63fa\",\"#ab63fa\",\"#ab63fa\",\"gold\",\"#ab63fa\",\"#ab63fa\",\"#ab63fa\",\"#ab63fa\",\"#ab63fa\",\"#ab63fa\",\"#ab63fa\",\"gold\",\"gold\",\"gold\",\"gold\",\"gold\",\"gold\",\"gold\",\"gold\",\"gold\",\"gold\",\"gold\",\"gold\",\"gold\",\"gold\",\"gold\",\"gold\",\"gold\",\"gold\",\"gold\",\"gold\",\"gold\",\"gold\",\"gold\",\"gold\",\"gold\",\"gold\",\"gold\",\"gold\",\"gold\",\"gold\",\"gold\",\"gold\",\"gold\",\"gold\",\"gold\",\"gold\",\"gold\",\"gold\",\"gold\",\"gold\",\"gold\",\"gold\",\"gold\",\"gold\",\"gold\",\"#ab63fa\",\"gold\",\"#ab63fa\",\"#ab63fa\",\"#ab63fa\",\"#ab63fa\",\"#ab63fa\",\"#ab63fa\",\"#ab63fa\",\"#ab63fa\",\"#ab63fa\",\"#ab63fa\",\"#ab63fa\",\"#ab63fa\",\"#ab63fa\",\"#ab63fa\",\"#ab63fa\",\"#ab63fa\",\"#ab63fa\",\"#ab63fa\",\"#ab63fa\",\"#ab63fa\",\"#ab63fa\",\"#ab63fa\",\"#ab63fa\",\"#ab63fa\",\"#ab63fa\",\"#ab63fa\",\"#ab63fa\",\"gold\",\"gold\",\"gold\",\"gold\",\"gold\",\"gold\",\"gold\",\"gold\",\"gold\",\"gold\",\"gold\",\"gold\",\"gold\",\"gold\",\"gold\",\"gold\",\"gold\",\"gold\",\"gold\",\"gold\",\"gold\",\"gold\",\"gold\",\"gold\",\"gold\",\"gold\",\"gold\",\"gold\",\"gold\",\"gold\",\"gold\",\"gold\",\"gold\",\"gold\",\"lightgrey\",\"lightgrey\",\"lightgrey\",\"lightgrey\",\"lightgrey\",\"lightgrey\",\"lightgrey\",\"lightgrey\",\"lightgrey\",\"lightgrey\",\"lightgrey\",\"lightgrey\",\"lightgrey\",\"lightgrey\",\"lightgrey\",\"lightgrey\",\"lightgrey\",\"lightgrey\",\"lightgrey\",\"lightgrey\",\"lightgrey\",\"lightgrey\",\"lightgrey\",\"lightgrey\",\"lightgrey\",\"lightgrey\",\"lightgrey\",\"lightgrey\",\"lightgrey\",\"lightgrey\",\"lightgrey\",\"lightgrey\",\"lightgrey\",\"lightgrey\",\"lightgrey\",\"lightgrey\",\"lightgrey\",\"lightgrey\",\"lightgrey\",\"lightgrey\",\"lightgrey\",\"lightgrey\",\"lightgrey\",\"lightgrey\",\"lightgrey\",\"lightgrey\",\"lightgrey\",\"lightgrey\",\"lightgrey\",\"lightgrey\",\"lightgrey\",\"lightgrey\",\"lightgrey\",\"lightgrey\",\"lightgrey\",\"lightgrey\",\"lightgrey\",\"lightgrey\",\"lightgrey\",\"lightgrey\",\"lightgrey\",\"lightgrey\",\"lightgrey\",\"lightgrey\",\"lightgrey\",\"lightgrey\",\"lightgrey\",\"lightgrey\",\"lightgrey\",\"lightgrey\",\"lightgrey\",\"lightgrey\",\"lightgrey\",\"lightgrey\",\"lightgrey\",\"lightgrey\",\"lightgrey\",\"lightgrey\",\"lightgrey\",\"lightgrey\",\"lightgrey\",\"lightgrey\",\"lightgrey\",\"lightgrey\",\"lightgrey\",\"lightgrey\",\"lightgrey\",\"lightgrey\",\"lightgrey\",\"lightgrey\",\"lightgrey\",\"lightgrey\",\"lightgrey\",\"lightgrey\",\"lightgrey\",\"lightgrey\",\"lightgrey\",\"lightgrey\",\"lightgrey\",\"lightgrey\",\"lightgrey\",\"lightgrey\",\"lightgrey\",\"lightgrey\",\"lightgrey\",\"gold\",\"gold\",\"gold\",\"lightgrey\",\"lightgrey\"]},\"name\":\"\",\"parents\":[\"Wohnbev\\u00f6lkerung nach /2020-01-01/1\",\"Wohnbev\\u00f6lkerung nach /2020-01-01/91\",\"Wohnbev\\u00f6lkerung nach /2020-01-01/89\",\"Wohnbev\\u00f6lkerung nach /2020-01-01/88\",\"Wohnbev\\u00f6lkerung nach /2020-01-01/87\",\"Wohnbev\\u00f6lkerung nach /2020-01-01/86\",\"Wohnbev\\u00f6lkerung nach /2020-01-01/84\",\"Wohnbev\\u00f6lkerung nach /2020-01-01/83\",\"Wohnbev\\u00f6lkerung nach /2020-01-01/86\",\"Wohnbev\\u00f6lkerung nach /2020-01-01/81\",\"Wohnbev\\u00f6lkerung nach /2020-01-01/80\",\"Wohnbev\\u00f6lkerung nach /2020-01-01/78\",\"Wohnbev\\u00f6lkerung nach /2020-01-01/77\",\"Wohnbev\\u00f6lkerung nach /2020-01-01/75\",\"Wohnbev\\u00f6lkerung nach /2020-01-01/73\",\"Wohnbev\\u00f6lkerung nach /2020-01-01/71\",\"Wohnbev\\u00f6lkerung nach /2020-01-01/70\",\"Wohnbev\\u00f6lkerung nach /2020-01-01/69\",\"Wohnbev\\u00f6lkerung nach /2020-01-01/68\",\"Wohnbev\\u00f6lkerung nach /2020-01-01/90\",\"Wohnbev\\u00f6lkerung nach /2020-01-01/66\",\"Wohnbev\\u00f6lkerung nach /2020-01-01/65\",\"Wohnbev\\u00f6lkerung nach /2020-01-01/64\",\"Wohnbev\\u00f6lkerung nach /2020-01-01/63\",\"Wohnbev\\u00f6lkerung nach /2020-01-01/62\",\"Wohnbev\\u00f6lkerung nach /2020-01-01/61\",\"Wohnbev\\u00f6lkerung nach /2020-01-01/94\",\"Wohnbev\\u00f6lkerung nach /2020-01-01/60\",\"Wohnbev\\u00f6lkerung nach /2020-01-01/95\",\"Wohnbev\\u00f6lkerung nach /2020-01-01/81\",\"Wohnbev\\u00f6lkerung nach /2020-01-01/48\",\"Wohnbev\\u00f6lkerung nach /2020-01-01/49\",\"Wohnbev\\u00f6lkerung nach /2020-01-01/37\",\"Wohnbev\\u00f6lkerung nach /2020-01-01/33\",\"Wohnbev\\u00f6lkerung nach /2020-01-01/57\",\"Wohnbev\\u00f6lkerung nach /2020-01-01/29\",\"Wohnbev\\u00f6lkerung nach /2020-01-01/59\",\"Wohnbev\\u00f6lkerung nach /2020-01-01/25\",\"Wohnbev\\u00f6lkerung nach /2020-01-01/61\",\"Wohnbev\\u00f6lkerung nach /2020-01-01/63\",\"Wohnbev\\u00f6lkerung nach /2020-01-01/19\",\"Wohnbev\\u00f6lkerung nach /2020-01-01/17\",\"Wohnbev\\u00f6lkerung nach /2020-01-01/70\",\"Wohnbev\\u00f6lkerung nach /2020-01-01/8\",\"Wohnbev\\u00f6lkerung nach /2020-01-01/7\",\"Wohnbev\\u00f6lkerung nach /2020-01-01/4\",\"Wohnbev\\u00f6lkerung nach /2020-01-01/3\",\"Wohnbev\\u00f6lkerung nach /2020-01-01/77\",\"Wohnbev\\u00f6lkerung nach /2020-01-01/0\",\"Wohnbev\\u00f6lkerung nach /2020-01-01/104\",\"Wohnbev\\u00f6lkerung nach /2020-01-01/103\",\"Wohnbev\\u00f6lkerung nach /2020-01-01/102\",\"Wohnbev\\u00f6lkerung nach /2020-01-01/101\",\"Wohnbev\\u00f6lkerung nach /2020-01-01/99\",\"Wohnbev\\u00f6lkerung nach /2020-01-01/80\",\"Wohnbev\\u00f6lkerung nach /2020-01-01/96\",\"Wohnbev\\u00f6lkerung nach /2020-01-01/59\",\"Wohnbev\\u00f6lkerung nach /2020-01-01/74\",\"Wohnbev\\u00f6lkerung nach /2020-01-01/21\",\"Wohnbev\\u00f6lkerung nach /2020-01-01/34\",\"Wohnbev\\u00f6lkerung nach /2020-01-01/33\",\"Wohnbev\\u00f6lkerung nach /2020-01-01/31\",\"Wohnbev\\u00f6lkerung nach /2020-01-01/30\",\"Wohnbev\\u00f6lkerung nach /2020-01-01/28\",\"Wohnbev\\u00f6lkerung nach /2020-01-01/27\",\"Wohnbev\\u00f6lkerung nach /2020-01-01/97\",\"Wohnbev\\u00f6lkerung nach /2020-01-01/25\",\"Wohnbev\\u00f6lkerung nach /2020-01-01/24\",\"Wohnbev\\u00f6lkerung nach /2020-01-01/23\",\"Wohnbev\\u00f6lkerung nach /2020-01-01/5\",\"Wohnbev\\u00f6lkerung nach /2020-01-01/57\",\"Wohnbev\\u00f6lkerung nach /2020-01-01/99\",\"Wohnbev\\u00f6lkerung nach /2020-01-01/19\",\"Wohnbev\\u00f6lkerung nach /2020-01-01/18\",\"Wohnbev\\u00f6lkerung nach /2020-01-01/16\",\"Wohnbev\\u00f6lkerung nach /2020-01-01/15\",\"Wohnbev\\u00f6lkerung nach /2020-01-01/8\",\"Wohnbev\\u00f6lkerung nach /2020-01-01/9\",\"Wohnbev\\u00f6lkerung nach /2020-01-01/10\",\"Wohnbev\\u00f6lkerung nach /2020-01-01/13\",\"Wohnbev\\u00f6lkerung nach /2020-01-01/3\",\"Wohnbev\\u00f6lkerung nach /2020-01-01/36\",\"Wohnbev\\u00f6lkerung nach /2020-01-01/12\",\"Wohnbev\\u00f6lkerung nach /2020-01-01/38\",\"Wohnbev\\u00f6lkerung nach /2020-01-01/56\",\"Wohnbev\\u00f6lkerung nach /2020-01-01/55\",\"Wohnbev\\u00f6lkerung nach /2020-01-01/54\",\"Wohnbev\\u00f6lkerung nach /2020-01-01/53\",\"Wohnbev\\u00f6lkerung nach /2020-01-01/92\",\"Wohnbev\\u00f6lkerung nach /2020-01-01/51\",\"Wohnbev\\u00f6lkerung nach /2020-01-01/50\",\"Wohnbev\\u00f6lkerung nach /2020-01-01/49\",\"Wohnbev\\u00f6lkerung nach /2020-01-01/48\",\"Wohnbev\\u00f6lkerung nach /2020-01-01/47\",\"Wohnbev\\u00f6lkerung nach /2020-01-01/37\",\"Wohnbev\\u00f6lkerung nach /2020-01-01/45\",\"Wohnbev\\u00f6lkerung nach /2020-01-01/44\",\"Wohnbev\\u00f6lkerung nach /2020-01-01/93\",\"Wohnbev\\u00f6lkerung nach /2020-01-01/1\",\"Wohnbev\\u00f6lkerung nach /2020-01-01/42\",\"Wohnbev\\u00f6lkerung nach /2020-01-01/2\",\"Wohnbev\\u00f6lkerung nach /2020-01-01/39\",\"Wohnbev\\u00f6lkerung nach /2020-01-01/41\",\"Wohnbev\\u00f6lkerung nach /2020-01-01/43\",\"Wohnbev\\u00f6lkerung nach /2020-01-01/40\",\"Wohnbev\\u00f6lkerung nach /2020-01-01/47\",\"Wohnbev\\u00f6lkerung nach /2020-01-01/102\",\"Wohnbev\\u00f6lkerung nach /2020-01-01/65\",\"Wohnbev\\u00f6lkerung nach /2020-01-01/51\",\"Wohnbev\\u00f6lkerung nach /2020-01-01/64\",\"Wohnbev\\u00f6lkerung nach /2020-01-01/62\",\"Wohnbev\\u00f6lkerung nach /2020-01-01/50\",\"Wohnbev\\u00f6lkerung nach /2020-01-01/103\",\"Wohnbev\\u00f6lkerung nach /2020-01-01/60\",\"Wohnbev\\u00f6lkerung nach /2020-01-01/58\",\"Wohnbev\\u00f6lkerung nach /2020-01-01/66\",\"Wohnbev\\u00f6lkerung nach /2020-01-01/104\",\"Wohnbev\\u00f6lkerung nach /2020-01-01/54\",\"Wohnbev\\u00f6lkerung nach /2020-01-01/105\",\"Wohnbev\\u00f6lkerung nach /2020-01-01/55\",\"Wohnbev\\u00f6lkerung nach /2020-01-01/56\",\"Wohnbev\\u00f6lkerung nach /2020-01-01/52\",\"Wohnbev\\u00f6lkerung nach /2020-01-01/53\",\"Wohnbev\\u00f6lkerung nach /2020-01-01/91\",\"Wohnbev\\u00f6lkerung nach /2020-01-01/68\",\"Wohnbev\\u00f6lkerung nach /2020-01-01/89\",\"Wohnbev\\u00f6lkerung nach /2020-01-01/46\",\"Wohnbev\\u00f6lkerung nach /2020-01-01/88\",\"Wohnbev\\u00f6lkerung nach /2020-01-01/87\",\"Wohnbev\\u00f6lkerung nach /2020-01-01/94\",\"Wohnbev\\u00f6lkerung nach /2020-01-01/85\",\"Wohnbev\\u00f6lkerung nach /2020-01-01/95\",\"Wohnbev\\u00f6lkerung nach /2020-01-01/84\",\"Wohnbev\\u00f6lkerung nach /2020-01-01/83\",\"Wohnbev\\u00f6lkerung nach /2020-01-01/82\",\"Wohnbev\\u00f6lkerung nach /2020-01-01/96\",\"Wohnbev\\u00f6lkerung nach /2020-01-01/79\",\"Wohnbev\\u00f6lkerung nach /2020-01-01/98\",\"Wohnbev\\u00f6lkerung nach /2020-01-01/78\",\"Wohnbev\\u00f6lkerung nach /2020-01-01/100\",\"Wohnbev\\u00f6lkerung nach /2020-01-01/76\",\"Wohnbev\\u00f6lkerung nach /2020-01-01/75\",\"Wohnbev\\u00f6lkerung nach /2020-01-01/101\",\"Wohnbev\\u00f6lkerung nach /2020-01-01/74\",\"Wohnbev\\u00f6lkerung nach /2020-01-01/73\",\"Wohnbev\\u00f6lkerung nach /2020-01-01/72\",\"Wohnbev\\u00f6lkerung nach /2020-01-01/71\",\"Wohnbev\\u00f6lkerung nach /2020-01-01/69\",\"Wohnbev\\u00f6lkerung nach /2020-01-01/67\",\"Wohnbev\\u00f6lkerung nach /2020-01-01/45\",\"Wohnbev\\u00f6lkerung nach /2020-01-01/0\",\"Wohnbev\\u00f6lkerung nach /2020-01-01/43\",\"Wohnbev\\u00f6lkerung nach /2020-01-01/100\",\"Wohnbev\\u00f6lkerung nach /2020-01-01/98\",\"Wohnbev\\u00f6lkerung nach /2020-01-01/97\",\"Wohnbev\\u00f6lkerung nach /2020-01-01/93\",\"Wohnbev\\u00f6lkerung nach /2020-01-01/92\",\"Wohnbev\\u00f6lkerung nach /2020-01-01/90\",\"Wohnbev\\u00f6lkerung nach /2020-01-01/85\",\"Wohnbev\\u00f6lkerung nach /2020-01-01/82\",\"Wohnbev\\u00f6lkerung nach /2020-01-01/79\",\"Wohnbev\\u00f6lkerung nach /2020-01-01/76\",\"Wohnbev\\u00f6lkerung nach /2020-01-01/72\",\"Wohnbev\\u00f6lkerung nach /2020-01-01/67\",\"Wohnbev\\u00f6lkerung nach /2020-01-01/58\",\"Wohnbev\\u00f6lkerung nach /2020-01-01/52\",\"Wohnbev\\u00f6lkerung nach /2020-01-01/46\",\"Wohnbev\\u00f6lkerung nach /2020-01-01/35\",\"Wohnbev\\u00f6lkerung nach /2020-01-01/32\",\"Wohnbev\\u00f6lkerung nach /2020-01-01/29\",\"Wohnbev\\u00f6lkerung nach /2020-01-01/26\",\"Wohnbev\\u00f6lkerung nach /2020-01-01/22\",\"Wohnbev\\u00f6lkerung nach /2020-01-01/20\",\"Wohnbev\\u00f6lkerung nach /2020-01-01/17\",\"Wohnbev\\u00f6lkerung nach /2020-01-01/14\",\"Wohnbev\\u00f6lkerung nach /2020-01-01/11\",\"Wohnbev\\u00f6lkerung nach /2020-01-01/7\",\"Wohnbev\\u00f6lkerung nach /2020-01-01/6\",\"Wohnbev\\u00f6lkerung nach /2020-01-01/4\",\"Wohnbev\\u00f6lkerung nach /2020-01-01/106\",\"Wohnbev\\u00f6lkerung nach /2020-01-01/2\",\"Wohnbev\\u00f6lkerung nach /2020-01-01/5\",\"Wohnbev\\u00f6lkerung nach /2020-01-01/6\",\"Wohnbev\\u00f6lkerung nach /2020-01-01/42\",\"Wohnbev\\u00f6lkerung nach /2020-01-01/41\",\"Wohnbev\\u00f6lkerung nach /2020-01-01/40\",\"Wohnbev\\u00f6lkerung nach /2020-01-01/39\",\"Wohnbev\\u00f6lkerung nach /2020-01-01/38\",\"Wohnbev\\u00f6lkerung nach /2020-01-01/36\",\"Wohnbev\\u00f6lkerung nach /2020-01-01/35\",\"Wohnbev\\u00f6lkerung nach /2020-01-01/34\",\"Wohnbev\\u00f6lkerung nach /2020-01-01/32\",\"Wohnbev\\u00f6lkerung nach /2020-01-01/31\",\"Wohnbev\\u00f6lkerung nach /2020-01-01/30\",\"Wohnbev\\u00f6lkerung nach /2020-01-01/28\",\"Wohnbev\\u00f6lkerung nach /2020-01-01/27\",\"Wohnbev\\u00f6lkerung nach /2020-01-01/44\",\"Wohnbev\\u00f6lkerung nach /2020-01-01/26\",\"Wohnbev\\u00f6lkerung nach /2020-01-01/23\",\"Wohnbev\\u00f6lkerung nach /2020-01-01/22\",\"Wohnbev\\u00f6lkerung nach /2020-01-01/21\",\"Wohnbev\\u00f6lkerung nach /2020-01-01/20\",\"Wohnbev\\u00f6lkerung nach /2020-01-01/18\",\"Wohnbev\\u00f6lkerung nach /2020-01-01/16\",\"Wohnbev\\u00f6lkerung nach /2020-01-01/15\",\"Wohnbev\\u00f6lkerung nach /2020-01-01/14\",\"Wohnbev\\u00f6lkerung nach /2020-01-01/13\",\"Wohnbev\\u00f6lkerung nach /2020-01-01/12\",\"Wohnbev\\u00f6lkerung nach /2020-01-01/11\",\"Wohnbev\\u00f6lkerung nach /2020-01-01/10\",\"Wohnbev\\u00f6lkerung nach /2020-01-01/9\",\"Wohnbev\\u00f6lkerung nach /2020-01-01/24\",\"Wohnbev\\u00f6lkerung nach /2020-01-01/107\",\"Wohnbev\\u00f6lkerung nach /2020-01-01\",\"Wohnbev\\u00f6lkerung nach /2020-01-01\",\"Wohnbev\\u00f6lkerung nach /2020-01-01\",\"Wohnbev\\u00f6lkerung nach /2020-01-01\",\"Wohnbev\\u00f6lkerung nach /2020-01-01\",\"Wohnbev\\u00f6lkerung nach /2020-01-01\",\"Wohnbev\\u00f6lkerung nach /2020-01-01\",\"Wohnbev\\u00f6lkerung nach /2020-01-01\",\"Wohnbev\\u00f6lkerung nach /2020-01-01\",\"Wohnbev\\u00f6lkerung nach /2020-01-01\",\"Wohnbev\\u00f6lkerung nach /2020-01-01\",\"Wohnbev\\u00f6lkerung nach /2020-01-01\",\"Wohnbev\\u00f6lkerung nach /2020-01-01\",\"Wohnbev\\u00f6lkerung nach /2020-01-01\",\"Wohnbev\\u00f6lkerung nach /2020-01-01\",\"Wohnbev\\u00f6lkerung nach /2020-01-01\",\"Wohnbev\\u00f6lkerung nach /2020-01-01\",\"Wohnbev\\u00f6lkerung nach /2020-01-01\",\"Wohnbev\\u00f6lkerung nach /2020-01-01\",\"Wohnbev\\u00f6lkerung nach /2020-01-01\",\"Wohnbev\\u00f6lkerung nach /2020-01-01\",\"Wohnbev\\u00f6lkerung nach /2020-01-01\",\"Wohnbev\\u00f6lkerung nach /2020-01-01\",\"Wohnbev\\u00f6lkerung nach /2020-01-01\",\"Wohnbev\\u00f6lkerung nach /2020-01-01\",\"Wohnbev\\u00f6lkerung nach /2020-01-01\",\"Wohnbev\\u00f6lkerung nach /2020-01-01\",\"Wohnbev\\u00f6lkerung nach /2020-01-01\",\"Wohnbev\\u00f6lkerung nach /2020-01-01\",\"Wohnbev\\u00f6lkerung nach /2020-01-01\",\"Wohnbev\\u00f6lkerung nach /2020-01-01\",\"Wohnbev\\u00f6lkerung nach /2020-01-01\",\"Wohnbev\\u00f6lkerung nach /2020-01-01\",\"Wohnbev\\u00f6lkerung nach /2020-01-01\",\"Wohnbev\\u00f6lkerung nach /2020-01-01\",\"Wohnbev\\u00f6lkerung nach /2020-01-01\",\"Wohnbev\\u00f6lkerung nach /2020-01-01\",\"Wohnbev\\u00f6lkerung nach /2020-01-01\",\"Wohnbev\\u00f6lkerung nach /2020-01-01\",\"Wohnbev\\u00f6lkerung nach /2020-01-01\",\"Wohnbev\\u00f6lkerung nach /2020-01-01\",\"Wohnbev\\u00f6lkerung nach /2020-01-01\",\"Wohnbev\\u00f6lkerung nach /2020-01-01\",\"Wohnbev\\u00f6lkerung nach /2020-01-01\",\"Wohnbev\\u00f6lkerung nach /2020-01-01\",\"Wohnbev\\u00f6lkerung nach /2020-01-01\",\"Wohnbev\\u00f6lkerung nach /2020-01-01\",\"Wohnbev\\u00f6lkerung nach /2020-01-01\",\"Wohnbev\\u00f6lkerung nach /2020-01-01\",\"Wohnbev\\u00f6lkerung nach /2020-01-01\",\"Wohnbev\\u00f6lkerung nach /2020-01-01\",\"Wohnbev\\u00f6lkerung nach /2020-01-01\",\"Wohnbev\\u00f6lkerung nach /2020-01-01\",\"Wohnbev\\u00f6lkerung nach /2020-01-01\",\"Wohnbev\\u00f6lkerung nach /2020-01-01\",\"Wohnbev\\u00f6lkerung nach /2020-01-01\",\"Wohnbev\\u00f6lkerung nach /2020-01-01\",\"Wohnbev\\u00f6lkerung nach /2020-01-01\",\"Wohnbev\\u00f6lkerung nach /2020-01-01\",\"Wohnbev\\u00f6lkerung nach /2020-01-01\",\"Wohnbev\\u00f6lkerung nach /2020-01-01\",\"Wohnbev\\u00f6lkerung nach /2020-01-01\",\"Wohnbev\\u00f6lkerung nach /2020-01-01\",\"Wohnbev\\u00f6lkerung nach /2020-01-01\",\"Wohnbev\\u00f6lkerung nach /2020-01-01\",\"Wohnbev\\u00f6lkerung nach /2020-01-01\",\"Wohnbev\\u00f6lkerung nach /2020-01-01\",\"Wohnbev\\u00f6lkerung nach /2020-01-01\",\"Wohnbev\\u00f6lkerung nach /2020-01-01\",\"Wohnbev\\u00f6lkerung nach /2020-01-01\",\"Wohnbev\\u00f6lkerung nach /2020-01-01\",\"Wohnbev\\u00f6lkerung nach /2020-01-01\",\"Wohnbev\\u00f6lkerung nach /2020-01-01\",\"Wohnbev\\u00f6lkerung nach /2020-01-01\",\"Wohnbev\\u00f6lkerung nach /2020-01-01\",\"Wohnbev\\u00f6lkerung nach /2020-01-01\",\"Wohnbev\\u00f6lkerung nach /2020-01-01\",\"Wohnbev\\u00f6lkerung nach /2020-01-01\",\"Wohnbev\\u00f6lkerung nach /2020-01-01\",\"Wohnbev\\u00f6lkerung nach /2020-01-01\",\"Wohnbev\\u00f6lkerung nach /2020-01-01\",\"Wohnbev\\u00f6lkerung nach /2020-01-01\",\"Wohnbev\\u00f6lkerung nach /2020-01-01\",\"Wohnbev\\u00f6lkerung nach /2020-01-01\",\"Wohnbev\\u00f6lkerung nach /2020-01-01\",\"Wohnbev\\u00f6lkerung nach /2020-01-01\",\"Wohnbev\\u00f6lkerung nach /2020-01-01\",\"Wohnbev\\u00f6lkerung nach /2020-01-01\",\"Wohnbev\\u00f6lkerung nach /2020-01-01\",\"Wohnbev\\u00f6lkerung nach /2020-01-01\",\"Wohnbev\\u00f6lkerung nach /2020-01-01\",\"Wohnbev\\u00f6lkerung nach /2020-01-01\",\"Wohnbev\\u00f6lkerung nach /2020-01-01\",\"Wohnbev\\u00f6lkerung nach /2020-01-01\",\"Wohnbev\\u00f6lkerung nach /2020-01-01\",\"Wohnbev\\u00f6lkerung nach /2020-01-01\",\"Wohnbev\\u00f6lkerung nach /2020-01-01\",\"Wohnbev\\u00f6lkerung nach /2020-01-01\",\"Wohnbev\\u00f6lkerung nach /2020-01-01\",\"Wohnbev\\u00f6lkerung nach /2020-01-01\",\"Wohnbev\\u00f6lkerung nach /2020-01-01\",\"Wohnbev\\u00f6lkerung nach /2020-01-01\",\"Wohnbev\\u00f6lkerung nach /2020-01-01\",\"Wohnbev\\u00f6lkerung nach /2020-01-01\",\"Wohnbev\\u00f6lkerung nach /2020-01-01\",\"Wohnbev\\u00f6lkerung nach /2020-01-01\",\"Wohnbev\\u00f6lkerung nach /2020-01-01\",\"Wohnbev\\u00f6lkerung nach /2020-01-01\",\"Wohnbev\\u00f6lkerung nach \",\"\"],\"root\":{\"color\":\"grey\"},\"type\":\"treemap\",\"values\":[3167,57,83,110,115,164,211,249,1273,309,326,352,349,315,402,413,453,436,439,908,522,553,650,616,726,808,26,937,21,1550,3876,3898,4434,5027,3661,5520,3354,4702,3152,2933,2506,2289,2455,2791,2884,3068,3123,2072,3264,1,1,1,1,3,1556,14,994,397,1221,4492,4642,4713,4636,4032,3524,166,2770,2365,2121,1301,1209,74,847,667,519,543,969,845,834,640,1399,4190,659,3788,1302,1370,1469,1554,592,1631,1729,1771,1935,1965,3927,2325,2511,499,1578,2880,1500,3534,3076,2635,3424,3952,15,2676,3981,2890,3070,3939,5,3281,3527,2654,2,3924,2,3888,3854,3919,3948,789,2666,995,4017,1066,1203,413,1377,286,1463,1448,1508,244,1843,114,1992,56,2197,2298,27,2282,2365,2320,2308,2460,2587,4074,1464,4288,3,4,9,39,39,81,195,275,360,351,400,501,1083,1642,2174,4389,4883,4276,3099,1616,1032,490,599,776,1029,1190,1308,1,3024,3009,3046,4363,4319,4577,4417,4490,4674,4685,4896,5281,5382,5423,5318,5162,4066,4877,4005,3522,3192,3013,2315,2315,2499,2444,2540,2628,2793,2801,2907,4341,1,4728,4745,4524,4522,4376,4310,4236,3913,3760,3752,3635,3569,3287,3180,3043,3042,2834,2779,2982,3353,4045,4413,5138,6126,6706,7472,7976,8686,9350,9796,10059,10095,10164,9669,9388,9074,8864,8361,8278,7951,8001,7395,7243,6923,6577,6399,6191,5917,5811,5669,5668,5612,5561,5502,5393,5258,5156,4870,4610,4348,4218,3960,3796,3549,3540,3229,3176,3088,3105,2896,2908,2721,2720,2767,2679,2613,2548,2421,2344,2203,1882,1859,1783,1697,1674,1572,1437,1318,1176,1078,989,846,631,538,439,307,258,175,118,77,59,28,16,6,3,2,1,1,434736,434736]}],                        {\"height\":500,\"legend\":{\"tracegroupgap\":0},\"margin\":{\"b\":25,\"l\":25,\"r\":250,\"t\":50},\"template\":{\"data\":{\"bar\":[{\"error_x\":{\"color\":\"#2a3f5f\"},\"error_y\":{\"color\":\"#2a3f5f\"},\"marker\":{\"line\":{\"color\":\"#E5ECF6\",\"width\":0.5},\"pattern\":{\"fillmode\":\"overlay\",\"size\":10,\"solidity\":0.2}},\"type\":\"bar\"}],\"barpolar\":[{\"marker\":{\"line\":{\"color\":\"#E5ECF6\",\"width\":0.5},\"pattern\":{\"fillmode\":\"overlay\",\"size\":10,\"solidity\":0.2}},\"type\":\"barpolar\"}],\"carpet\":[{\"aaxis\":{\"endlinecolor\":\"#2a3f5f\",\"gridcolor\":\"white\",\"linecolor\":\"white\",\"minorgridcolor\":\"white\",\"startlinecolor\":\"#2a3f5f\"},\"baxis\":{\"endlinecolor\":\"#2a3f5f\",\"gridcolor\":\"white\",\"linecolor\":\"white\",\"minorgridcolor\":\"white\",\"startlinecolor\":\"#2a3f5f\"},\"type\":\"carpet\"}],\"choropleth\":[{\"colorbar\":{\"outlinewidth\":0,\"ticks\":\"\"},\"type\":\"choropleth\"}],\"contour\":[{\"colorbar\":{\"outlinewidth\":0,\"ticks\":\"\"},\"colorscale\":[[0.0,\"#0d0887\"],[0.1111111111111111,\"#46039f\"],[0.2222222222222222,\"#7201a8\"],[0.3333333333333333,\"#9c179e\"],[0.4444444444444444,\"#bd3786\"],[0.5555555555555556,\"#d8576b\"],[0.6666666666666666,\"#ed7953\"],[0.7777777777777778,\"#fb9f3a\"],[0.8888888888888888,\"#fdca26\"],[1.0,\"#f0f921\"]],\"type\":\"contour\"}],\"contourcarpet\":[{\"colorbar\":{\"outlinewidth\":0,\"ticks\":\"\"},\"type\":\"contourcarpet\"}],\"heatmap\":[{\"colorbar\":{\"outlinewidth\":0,\"ticks\":\"\"},\"colorscale\":[[0.0,\"#0d0887\"],[0.1111111111111111,\"#46039f\"],[0.2222222222222222,\"#7201a8\"],[0.3333333333333333,\"#9c179e\"],[0.4444444444444444,\"#bd3786\"],[0.5555555555555556,\"#d8576b\"],[0.6666666666666666,\"#ed7953\"],[0.7777777777777778,\"#fb9f3a\"],[0.8888888888888888,\"#fdca26\"],[1.0,\"#f0f921\"]],\"type\":\"heatmap\"}],\"heatmapgl\":[{\"colorbar\":{\"outlinewidth\":0,\"ticks\":\"\"},\"colorscale\":[[0.0,\"#0d0887\"],[0.1111111111111111,\"#46039f\"],[0.2222222222222222,\"#7201a8\"],[0.3333333333333333,\"#9c179e\"],[0.4444444444444444,\"#bd3786\"],[0.5555555555555556,\"#d8576b\"],[0.6666666666666666,\"#ed7953\"],[0.7777777777777778,\"#fb9f3a\"],[0.8888888888888888,\"#fdca26\"],[1.0,\"#f0f921\"]],\"type\":\"heatmapgl\"}],\"histogram\":[{\"marker\":{\"pattern\":{\"fillmode\":\"overlay\",\"size\":10,\"solidity\":0.2}},\"type\":\"histogram\"}],\"histogram2d\":[{\"colorbar\":{\"outlinewidth\":0,\"ticks\":\"\"},\"colorscale\":[[0.0,\"#0d0887\"],[0.1111111111111111,\"#46039f\"],[0.2222222222222222,\"#7201a8\"],[0.3333333333333333,\"#9c179e\"],[0.4444444444444444,\"#bd3786\"],[0.5555555555555556,\"#d8576b\"],[0.6666666666666666,\"#ed7953\"],[0.7777777777777778,\"#fb9f3a\"],[0.8888888888888888,\"#fdca26\"],[1.0,\"#f0f921\"]],\"type\":\"histogram2d\"}],\"histogram2dcontour\":[{\"colorbar\":{\"outlinewidth\":0,\"ticks\":\"\"},\"colorscale\":[[0.0,\"#0d0887\"],[0.1111111111111111,\"#46039f\"],[0.2222222222222222,\"#7201a8\"],[0.3333333333333333,\"#9c179e\"],[0.4444444444444444,\"#bd3786\"],[0.5555555555555556,\"#d8576b\"],[0.6666666666666666,\"#ed7953\"],[0.7777777777777778,\"#fb9f3a\"],[0.8888888888888888,\"#fdca26\"],[1.0,\"#f0f921\"]],\"type\":\"histogram2dcontour\"}],\"mesh3d\":[{\"colorbar\":{\"outlinewidth\":0,\"ticks\":\"\"},\"type\":\"mesh3d\"}],\"parcoords\":[{\"line\":{\"colorbar\":{\"outlinewidth\":0,\"ticks\":\"\"}},\"type\":\"parcoords\"}],\"pie\":[{\"automargin\":true,\"type\":\"pie\"}],\"scatter\":[{\"marker\":{\"colorbar\":{\"outlinewidth\":0,\"ticks\":\"\"}},\"type\":\"scatter\"}],\"scatter3d\":[{\"line\":{\"colorbar\":{\"outlinewidth\":0,\"ticks\":\"\"}},\"marker\":{\"colorbar\":{\"outlinewidth\":0,\"ticks\":\"\"}},\"type\":\"scatter3d\"}],\"scattercarpet\":[{\"marker\":{\"colorbar\":{\"outlinewidth\":0,\"ticks\":\"\"}},\"type\":\"scattercarpet\"}],\"scattergeo\":[{\"marker\":{\"colorbar\":{\"outlinewidth\":0,\"ticks\":\"\"}},\"type\":\"scattergeo\"}],\"scattergl\":[{\"marker\":{\"colorbar\":{\"outlinewidth\":0,\"ticks\":\"\"}},\"type\":\"scattergl\"}],\"scattermapbox\":[{\"marker\":{\"colorbar\":{\"outlinewidth\":0,\"ticks\":\"\"}},\"type\":\"scattermapbox\"}],\"scatterpolar\":[{\"marker\":{\"colorbar\":{\"outlinewidth\":0,\"ticks\":\"\"}},\"type\":\"scatterpolar\"}],\"scatterpolargl\":[{\"marker\":{\"colorbar\":{\"outlinewidth\":0,\"ticks\":\"\"}},\"type\":\"scatterpolargl\"}],\"scatterternary\":[{\"marker\":{\"colorbar\":{\"outlinewidth\":0,\"ticks\":\"\"}},\"type\":\"scatterternary\"}],\"surface\":[{\"colorbar\":{\"outlinewidth\":0,\"ticks\":\"\"},\"colorscale\":[[0.0,\"#0d0887\"],[0.1111111111111111,\"#46039f\"],[0.2222222222222222,\"#7201a8\"],[0.3333333333333333,\"#9c179e\"],[0.4444444444444444,\"#bd3786\"],[0.5555555555555556,\"#d8576b\"],[0.6666666666666666,\"#ed7953\"],[0.7777777777777778,\"#fb9f3a\"],[0.8888888888888888,\"#fdca26\"],[1.0,\"#f0f921\"]],\"type\":\"surface\"}],\"table\":[{\"cells\":{\"fill\":{\"color\":\"#EBF0F8\"},\"line\":{\"color\":\"white\"}},\"header\":{\"fill\":{\"color\":\"#C8D4E3\"},\"line\":{\"color\":\"white\"}},\"type\":\"table\"}]},\"layout\":{\"annotationdefaults\":{\"arrowcolor\":\"#2a3f5f\",\"arrowhead\":0,\"arrowwidth\":1},\"autotypenumbers\":\"strict\",\"coloraxis\":{\"colorbar\":{\"outlinewidth\":0,\"ticks\":\"\"}},\"colorscale\":{\"diverging\":[[0,\"#8e0152\"],[0.1,\"#c51b7d\"],[0.2,\"#de77ae\"],[0.3,\"#f1b6da\"],[0.4,\"#fde0ef\"],[0.5,\"#f7f7f7\"],[0.6,\"#e6f5d0\"],[0.7,\"#b8e186\"],[0.8,\"#7fbc41\"],[0.9,\"#4d9221\"],[1,\"#276419\"]],\"sequential\":[[0.0,\"#0d0887\"],[0.1111111111111111,\"#46039f\"],[0.2222222222222222,\"#7201a8\"],[0.3333333333333333,\"#9c179e\"],[0.4444444444444444,\"#bd3786\"],[0.5555555555555556,\"#d8576b\"],[0.6666666666666666,\"#ed7953\"],[0.7777777777777778,\"#fb9f3a\"],[0.8888888888888888,\"#fdca26\"],[1.0,\"#f0f921\"]],\"sequentialminus\":[[0.0,\"#0d0887\"],[0.1111111111111111,\"#46039f\"],[0.2222222222222222,\"#7201a8\"],[0.3333333333333333,\"#9c179e\"],[0.4444444444444444,\"#bd3786\"],[0.5555555555555556,\"#d8576b\"],[0.6666666666666666,\"#ed7953\"],[0.7777777777777778,\"#fb9f3a\"],[0.8888888888888888,\"#fdca26\"],[1.0,\"#f0f921\"]]},\"colorway\":[\"#636efa\",\"#EF553B\",\"#00cc96\",\"#ab63fa\",\"#FFA15A\",\"#19d3f3\",\"#FF6692\",\"#B6E880\",\"#FF97FF\",\"#FECB52\"],\"font\":{\"color\":\"#2a3f5f\"},\"geo\":{\"bgcolor\":\"white\",\"lakecolor\":\"white\",\"landcolor\":\"#E5ECF6\",\"showlakes\":true,\"showland\":true,\"subunitcolor\":\"white\"},\"hoverlabel\":{\"align\":\"left\"},\"hovermode\":\"closest\",\"mapbox\":{\"style\":\"light\"},\"paper_bgcolor\":\"white\",\"plot_bgcolor\":\"#E5ECF6\",\"polar\":{\"angularaxis\":{\"gridcolor\":\"white\",\"linecolor\":\"white\",\"ticks\":\"\"},\"bgcolor\":\"#E5ECF6\",\"radialaxis\":{\"gridcolor\":\"white\",\"linecolor\":\"white\",\"ticks\":\"\"}},\"scene\":{\"xaxis\":{\"backgroundcolor\":\"#E5ECF6\",\"gridcolor\":\"white\",\"gridwidth\":2,\"linecolor\":\"white\",\"showbackground\":true,\"ticks\":\"\",\"zerolinecolor\":\"white\"},\"yaxis\":{\"backgroundcolor\":\"#E5ECF6\",\"gridcolor\":\"white\",\"gridwidth\":2,\"linecolor\":\"white\",\"showbackground\":true,\"ticks\":\"\",\"zerolinecolor\":\"white\"},\"zaxis\":{\"backgroundcolor\":\"#E5ECF6\",\"gridcolor\":\"white\",\"gridwidth\":2,\"linecolor\":\"white\",\"showbackground\":true,\"ticks\":\"\",\"zerolinecolor\":\"white\"}},\"shapedefaults\":{\"line\":{\"color\":\"#2a3f5f\"}},\"ternary\":{\"aaxis\":{\"gridcolor\":\"white\",\"linecolor\":\"white\",\"ticks\":\"\"},\"baxis\":{\"gridcolor\":\"white\",\"linecolor\":\"white\",\"ticks\":\"\"},\"bgcolor\":\"#E5ECF6\",\"caxis\":{\"gridcolor\":\"white\",\"linecolor\":\"white\",\"ticks\":\"\"}},\"title\":{\"x\":0.05},\"xaxis\":{\"automargin\":true,\"gridcolor\":\"white\",\"linecolor\":\"white\",\"ticks\":\"\",\"title\":{\"standoff\":15},\"zerolinecolor\":\"white\",\"zerolinewidth\":2},\"yaxis\":{\"automargin\":true,\"gridcolor\":\"white\",\"linecolor\":\"white\",\"ticks\":\"\",\"title\":{\"standoff\":15},\"zerolinecolor\":\"white\",\"zerolinewidth\":2}}},\"width\":1100},                        {\"responsive\": true}                    ).then(function(){\n",
       "                            \n",
       "var gd = document.getElementById('249aecd2-2d0a-4f03-ad35-f73e02b7bad5');\n",
       "var x = new MutationObserver(function (mutations, observer) {{\n",
       "        var display = window.getComputedStyle(gd).display;\n",
       "        if (!display || display === 'none') {{\n",
       "            console.log([gd, 'removed!']);\n",
       "            Plotly.purge(gd);\n",
       "            observer.disconnect();\n",
       "        }}\n",
       "}});\n",
       "\n",
       "// Listen for the removal of the full notebook cells\n",
       "var notebookContainer = gd.closest('#notebook-container');\n",
       "if (notebookContainer) {{\n",
       "    x.observe(notebookContainer, {childList: true});\n",
       "}}\n",
       "\n",
       "// Listen for the clearing of the current output cell\n",
       "var outputEl = gd.closest('.output');\n",
       "if (outputEl) {{\n",
       "    x.observe(outputEl, {childList: true});\n",
       "}}\n",
       "\n",
       "                        })                };                });            </script>        </div>"
      ]
     },
     "metadata": {},
     "output_type": "display_data"
    }
   ],
   "source": [
    "myTreemapAgg = data2betested.loc[\"2020\"]  \\\n",
    "    .groupby(['StichtagDatJahr', 'AlterVKurz', 'AlterVSort', 'HerkunftLang']) \\\n",
    "    .agg(sum_WBev=('AnzBestWir', 'sum')) \\\n",
    "    .sort_values('sum_WBev', ascending=True) \n",
    "\n",
    "fig = px.treemap(myTreemapAgg.reset_index(), path=[px.Constant(\"Wohnbevölkerung nach \"), 'StichtagDatJahr', 'AlterVKurz', 'HerkunftLang']\n",
    "                 , values='sum_WBev'\n",
    "                 , color='HerkunftLang'\n",
    "                 ## bei discrete scales (bei Klassen und Strings):                 \n",
    "                 #, color_discrete_map={'(?)':'lightgrey','EVP':'gold', 'Ausländer/in':'#FF3030', 'PdA':'#EE3B3B', 'Grüne':'#A2CD5A','GLP':'#CAFF70','Die Mitte':'orange','FDP':'#104E8B','AL':'deeppink','SVP':'forestgreen', 'FL ZÜRI':'#8B864E','Volt':'#lightblue' }         \n",
    "                 , color_discrete_map={'(?)':'lightgrey','Schweizer/in':'gold', 'SP':'#FF3030' }               \n",
    "                 ## bei continuous scales (bei Zahlenwerten):\n",
    "                , color_continuous_scale='blues'\n",
    "                #, color_continuous_midpoint=np.average(df['AnzBestWir'], weights=df['AnzBestWir'])\n",
    "                 ,height=500\n",
    "                 ,width=1100\n",
    "                )\n",
    "fig.update_traces(root_color=\"grey\")\n",
    "fig.update_layout(margin = dict(t=50, l=25, r=250, b=25))\n",
    "fig.show()"
   ]
  },
  {
   "cell_type": "markdown",
   "metadata": {},
   "source": [
    "-------------------------- hier gestoppt\n",
    "\n",
    "Liniendiagramm \n",
    "[Link zur Doku](https://altair-viz.github.io/gallery/multiline_highlight.html)"
   ]
  },
  {
   "cell_type": "markdown",
   "metadata": {},
   "source": [
    "### Test: Choroplethenkarte\n",
    "Importiere die Geodaten als GeoJSON"
   ]
  },
  {
   "cell_type": "code",
   "execution_count": 153,
   "metadata": {},
   "outputs": [
    {
     "data": {
      "text/html": [
       "<div>\n",
       "<style scoped>\n",
       "    .dataframe tbody tr th:only-of-type {\n",
       "        vertical-align: middle;\n",
       "    }\n",
       "\n",
       "    .dataframe tbody tr th {\n",
       "        vertical-align: top;\n",
       "    }\n",
       "\n",
       "    .dataframe thead th {\n",
       "        text-align: right;\n",
       "    }\n",
       "</style>\n",
       "<table border=\"1\" class=\"dataframe\">\n",
       "  <thead>\n",
       "    <tr style=\"text-align: right;\">\n",
       "      <th></th>\n",
       "      <th>id</th>\n",
       "      <th>kname</th>\n",
       "      <th>knr</th>\n",
       "      <th>objectid</th>\n",
       "      <th>objid</th>\n",
       "      <th>qname</th>\n",
       "      <th>qnr</th>\n",
       "      <th>geometry</th>\n",
       "    </tr>\n",
       "  </thead>\n",
       "  <tbody>\n",
       "    <tr>\n",
       "      <th>0</th>\n",
       "      <td>adm_statistische_quartiere_map.1</td>\n",
       "      <td>Kreis 7</td>\n",
       "      <td>7</td>\n",
       "      <td>1</td>\n",
       "      <td>34</td>\n",
       "      <td>Hirslanden</td>\n",
       "      <td>73</td>\n",
       "      <td>POLYGON ((8.55670 47.36406, 8.55682 47.36410, ...</td>\n",
       "    </tr>\n",
       "    <tr>\n",
       "      <th>1</th>\n",
       "      <td>adm_statistische_quartiere_map.2</td>\n",
       "      <td>Kreis 8</td>\n",
       "      <td>8</td>\n",
       "      <td>2</td>\n",
       "      <td>33</td>\n",
       "      <td>Weinegg</td>\n",
       "      <td>83</td>\n",
       "      <td>POLYGON ((8.55670 47.36405, 8.55672 47.36403, ...</td>\n",
       "    </tr>\n",
       "    <tr>\n",
       "      <th>2</th>\n",
       "      <td>adm_statistische_quartiere_map.3</td>\n",
       "      <td>Kreis 8</td>\n",
       "      <td>8</td>\n",
       "      <td>3</td>\n",
       "      <td>32</td>\n",
       "      <td>Mühlebach</td>\n",
       "      <td>82</td>\n",
       "      <td>POLYGON ((8.55423 47.36456, 8.55426 47.36452, ...</td>\n",
       "    </tr>\n",
       "    <tr>\n",
       "      <th>3</th>\n",
       "      <td>adm_statistische_quartiere_map.4</td>\n",
       "      <td>Kreis 8</td>\n",
       "      <td>8</td>\n",
       "      <td>4</td>\n",
       "      <td>31</td>\n",
       "      <td>Seefeld</td>\n",
       "      <td>81</td>\n",
       "      <td>POLYGON ((8.54795 47.36500, 8.54805 47.36489, ...</td>\n",
       "    </tr>\n",
       "    <tr>\n",
       "      <th>4</th>\n",
       "      <td>adm_statistische_quartiere_map.7</td>\n",
       "      <td>Kreis 4</td>\n",
       "      <td>4</td>\n",
       "      <td>7</td>\n",
       "      <td>16</td>\n",
       "      <td>Werd</td>\n",
       "      <td>41</td>\n",
       "      <td>POLYGON ((8.53300 47.37394, 8.53299 47.37392, ...</td>\n",
       "    </tr>\n",
       "  </tbody>\n",
       "</table>\n",
       "</div>"
      ],
      "text/plain": [
       "                                 id    kname  knr  objectid objid       qname  qnr  \\\n",
       "0  adm_statistische_quartiere_map.1  Kreis 7    7         1    34  Hirslanden   73   \n",
       "1  adm_statistische_quartiere_map.2  Kreis 8    8         2    33     Weinegg   83   \n",
       "2  adm_statistische_quartiere_map.3  Kreis 8    8         3    32   Mühlebach   82   \n",
       "3  adm_statistische_quartiere_map.4  Kreis 8    8         4    31     Seefeld   81   \n",
       "4  adm_statistische_quartiere_map.7  Kreis 4    4         7    16        Werd   41   \n",
       "\n",
       "                                            geometry  \n",
       "0  POLYGON ((8.55670 47.36406, 8.55682 47.36410, ...  \n",
       "1  POLYGON ((8.55670 47.36405, 8.55672 47.36403, ...  \n",
       "2  POLYGON ((8.55423 47.36456, 8.55426 47.36452, ...  \n",
       "3  POLYGON ((8.54795 47.36500, 8.54805 47.36489, ...  \n",
       "4  POLYGON ((8.53300 47.37394, 8.53299 47.37392, ...  "
      ]
     },
     "execution_count": 153,
     "metadata": {},
     "output_type": "execute_result"
    }
   ],
   "source": [
    "# Read abt. Geopandas https://geopandas.org/docs/user_guide/io.html\n",
    "# Wenn die Daten lokal agelegt sind, dann kannst Du folgendes machen:\n",
    "##input_stadtquartiere = r\"//szh.loc/ssz/data/GIS/Daten/Vektor/_aktuell/stzh.adm_statistische_quartiere_map.json\"\n",
    "##df_stadtquartiere = gpd.read_file(input_stadtquartiere)\n",
    "##df_stadtquartiere.head(2)\n",
    "#df_stadtkreise.dtypes\n",
    "\n",
    "geojson_url = \"https://www.ogd.stadt-zuerich.ch/wfs/geoportal/Statistische_Quartiere?service=WFS&version=1.1.0&request=GetFeature&outputFormat=GeoJSON&typename=adm_statistische_quartiere_map\"\n",
    "df_adm_statistische_quartiere_map = gpd.read_file(geojson_url)\n",
    "\n",
    "df_adm_statistische_quartiere_map.head(5)\n"
   ]
  },
  {
   "cell_type": "markdown",
   "metadata": {},
   "source": [
    "Joine die importierten statistischen Daten des aktuellen Jahres zum Geodatensatz:\n",
    "\n",
    "*Siehe dazu Doku zu [Geopandas](https://geopandas.org/docs/user_guide/mergingdata.html)*"
   ]
  },
  {
   "cell_type": "code",
   "execution_count": 154,
   "metadata": {},
   "outputs": [
    {
     "data": {
      "text/html": [
       "<div>\n",
       "<style scoped>\n",
       "    .dataframe tbody tr th:only-of-type {\n",
       "        vertical-align: middle;\n",
       "    }\n",
       "\n",
       "    .dataframe tbody tr th {\n",
       "        vertical-align: top;\n",
       "    }\n",
       "\n",
       "    .dataframe thead th {\n",
       "        text-align: right;\n",
       "    }\n",
       "</style>\n",
       "<table border=\"1\" class=\"dataframe\">\n",
       "  <thead>\n",
       "    <tr style=\"text-align: right;\">\n",
       "      <th></th>\n",
       "      <th></th>\n",
       "      <th></th>\n",
       "      <th></th>\n",
       "      <th>AnzBestWir</th>\n",
       "    </tr>\n",
       "    <tr>\n",
       "      <th>StichtagDatJahr</th>\n",
       "      <th>StichtagDatMM</th>\n",
       "      <th>QuarCd</th>\n",
       "      <th>QuarLang</th>\n",
       "      <th></th>\n",
       "    </tr>\n",
       "  </thead>\n",
       "  <tbody>\n",
       "    <tr>\n",
       "      <th rowspan=\"5\" valign=\"top\">2021</th>\n",
       "      <th rowspan=\"5\" valign=\"top\">11</th>\n",
       "      <th>11</th>\n",
       "      <th>Rathaus</th>\n",
       "      <td>3283</td>\n",
       "    </tr>\n",
       "    <tr>\n",
       "      <th>12</th>\n",
       "      <th>Hochschulen</th>\n",
       "      <td>718</td>\n",
       "    </tr>\n",
       "    <tr>\n",
       "      <th>13</th>\n",
       "      <th>Lindenhof</th>\n",
       "      <td>1033</td>\n",
       "    </tr>\n",
       "    <tr>\n",
       "      <th>14</th>\n",
       "      <th>City</th>\n",
       "      <td>835</td>\n",
       "    </tr>\n",
       "    <tr>\n",
       "      <th>21</th>\n",
       "      <th>Wollishofen</th>\n",
       "      <td>20002</td>\n",
       "    </tr>\n",
       "  </tbody>\n",
       "</table>\n",
       "</div>"
      ],
      "text/plain": [
       "                                                  AnzBestWir\n",
       "StichtagDatJahr StichtagDatMM QuarCd QuarLang               \n",
       "2021            11            11     Rathaus            3283\n",
       "                              12     Hochschulen         718\n",
       "                              13     Lindenhof          1033\n",
       "                              14     City                835\n",
       "                              21     Wollishofen       20002"
      ]
     },
     "execution_count": 154,
     "metadata": {},
     "output_type": "execute_result"
    }
   ],
   "source": [
    "akt_wbev_quart = data2betested.loc[\"2021-11\"].groupby(\n",
    "    ['StichtagDatJahr','StichtagDatMM','QuarCd','QuarLang']\n",
    ").agg(\n",
    "    {'AnzBestWir':'sum'}\n",
    ")\n",
    "akt_wbev_quart.head()\n"
   ]
  },
  {
   "cell_type": "code",
   "execution_count": 158,
   "metadata": {},
   "outputs": [
    {
     "data": {
      "text/html": [
       "<div>\n",
       "<style scoped>\n",
       "    .dataframe tbody tr th:only-of-type {\n",
       "        vertical-align: middle;\n",
       "    }\n",
       "\n",
       "    .dataframe tbody tr th {\n",
       "        vertical-align: top;\n",
       "    }\n",
       "\n",
       "    .dataframe thead th {\n",
       "        text-align: right;\n",
       "    }\n",
       "</style>\n",
       "<table border=\"1\" class=\"dataframe\">\n",
       "  <thead>\n",
       "    <tr style=\"text-align: right;\">\n",
       "      <th></th>\n",
       "      <th>geometry</th>\n",
       "      <th>QuarCd</th>\n",
       "      <th>qname</th>\n",
       "      <th>knr</th>\n",
       "      <th>AnzBestWir</th>\n",
       "    </tr>\n",
       "  </thead>\n",
       "  <tbody>\n",
       "    <tr>\n",
       "      <th>0</th>\n",
       "      <td>POLYGON ((8.55670 47.36406, 8.55682 47.36410, ...</td>\n",
       "      <td>73</td>\n",
       "      <td>Hirslanden</td>\n",
       "      <td>7</td>\n",
       "      <td>7342</td>\n",
       "    </tr>\n",
       "    <tr>\n",
       "      <th>1</th>\n",
       "      <td>POLYGON ((8.55670 47.36405, 8.55672 47.36403, ...</td>\n",
       "      <td>83</td>\n",
       "      <td>Weinegg</td>\n",
       "      <td>8</td>\n",
       "      <td>5564</td>\n",
       "    </tr>\n",
       "  </tbody>\n",
       "</table>\n",
       "</div>"
      ],
      "text/plain": [
       "                                            geometry  QuarCd       qname  knr  AnzBestWir\n",
       "0  POLYGON ((8.55670 47.36406, 8.55682 47.36410, ...      73  Hirslanden    7        7342\n",
       "1  POLYGON ((8.55670 47.36405, 8.55672 47.36403, ...      83     Weinegg    8        5564"
      ]
     },
     "execution_count": 158,
     "metadata": {},
     "output_type": "execute_result"
    }
   ],
   "source": [
    "# Rename attribute stznr to StatZoneSort, so the IDs have the same name\n",
    "stadtquartiere_shapes = df_adm_statistische_quartiere_map[['geometry', 'qnr', 'qname', 'knr']].rename(columns={'qnr': 'QuarCd'})\n",
    "\n",
    "# Merge with `merge` method on shared variable (stznr und StatZoneSort):\n",
    "stadtquartiere_shapes_joined = stadtquartiere_shapes.merge(akt_wbev_quart, on='QuarCd')\n",
    "\n",
    "stadtquartiere_shapes_joined.head(2)\n"
   ]
  },
  {
   "cell_type": "code",
   "execution_count": 159,
   "metadata": {},
   "outputs": [
    {
     "data": {
      "text/plain": [
       "<AxesSubplot:>"
      ]
     },
     "execution_count": 159,
     "metadata": {},
     "output_type": "execute_result"
    },
    {
     "data": {
      "image/png": "[encoded data removed]",
      "text/plain": [
       "<Figure size 432x288 with 1 Axes>"
      ]
     },
     "metadata": {
      "needs_background": "light"
     },
     "output_type": "display_data"
    },
    {
     "data": {
      "image/png": "[encoded data removed]",
      "text/plain": [
       "<Figure size 432x288 with 1 Axes>"
      ]
     },
     "metadata": {
      "needs_background": "light"
     },
     "output_type": "display_data"
    },
    {
     "data": {
      "image/png": "[encoded data removed]",
      "text/plain": [
       "<Figure size 432x288 with 1 Axes>"
      ]
     },
     "metadata": {
      "needs_background": "light"
     },
     "output_type": "display_data"
    }
   ],
   "source": [
    "# Plot by StatQuartiere\n",
    "# Weitere Schemes: scheme='quantiles', scheme='fisherjenks', scheme='natural_breaks',\n",
    "\n",
    "stadtquartiere_shapes_joined.plot(column='AnzBestWir', cmap='viridis', scheme='natural_breaks', legend=True )\n",
    "#scheme werte: https://matplotlib.org/2.0.2/users/colormaps.html\n",
    "\n",
    "stadtquartiere_shapes_joined.plot(column='AnzBestWir', cmap='plasma', scheme='fisherjenks', legend=True )\n",
    "#scheme werte: https://matplotlib.org/2.0.2/users/colormaps.html\n",
    "stadtquartiere_shapes_joined.plot(column='AnzBestWir', cmap='cool', scheme='quantiles', legend=True )\n",
    "#scheme werte: https://matplotlib.org/2.0.2/users/colormaps.html\n",
    "\n",
    "#\n",
    "#Neuere Gallerie: https://matplotlib.org/stable/gallery/index.html"
   ]
  },
  {
   "cell_type": "raw",
   "metadata": {},
   "source": [
    "fig, ax = plt.subplots(1, 1)\n",
    "\n",
    "statzonen_shapes_aktJahr.plot(column='AnzWhg', ax=ax, legend=True, legend_kwds={'label': \"Anzahl Personen\",'orientation': \"horizontal\"})\n"
   ]
  },
  {
   "cell_type": "markdown",
   "metadata": {},
   "source": [
    "Noch zu prüfen, folgendes schöne Beispiel: https://docs.bokeh.org/en/latest/docs/user_guide/interaction/legends.html\n",
    "\n",
    "Konkrete Beispiele von Bookeh in Jupyter NB: https://docs.bokeh.org/en/latest/docs/user_guide/jupyter.html"
   ]
  },
  {
   "cell_type": "markdown",
   "metadata": {},
   "source": [
    "**Sharepoint als gecheckt markieren!**"
   ]
  },
  {
   "cell_type": "markdown",
   "metadata": {},
   "source": [
    "Record auf Sharepoint: **[Link](http://kollaboration.intranet.stzh.ch/orga/ssz-produkte/Lists/SASA_Outputs/EditForm.aspx?ID=157&Source=%2Forga%2Fssz%2Dprodukte%2FLists%2FSASA%5FOutputs)**"
   ]
  },
  {
   "cell_type": "code",
   "execution_count": null,
   "metadata": {},
   "outputs": [],
   "source": []
  },
  {
   "cell_type": "raw",
   "metadata": {},
   "source": []
  },
  {
   "cell_type": "code",
   "execution_count": null,
   "metadata": {},
   "outputs": [],
   "source": []
  }
 ],
 "metadata": {
  "kernelspec": {
   "display_name": "Python 3 (ipykernel)",
   "language": "python",
   "name": "python3"
  },
  "language_info": {
   "codemirror_mode": {
    "name": "ipython",
    "version": 3
   },
   "file_extension": ".py",
   "mimetype": "text/x-python",
   "name": "python",
   "nbconvert_exporter": "python",
   "pygments_lexer": "ipython3",
   "version": "3.9.7"
  }
 },
 "nbformat": 4,
 "nbformat_minor": 4
}
