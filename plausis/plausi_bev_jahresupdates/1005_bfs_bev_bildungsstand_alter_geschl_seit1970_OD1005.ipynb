{
 "cells": [
  {
   "cell_type": "markdown",
   "metadata": {},
   "source": [
    "# Testing\n",
    "### Bevölkerung nach Bildungsstand, Jahr, Alter und Geschlecht seit 1970\n",
    "Diese Daten beschreiben die ständige Wohnbevölkerung der Stadt Zürich und basieren auf der Volkszählung und der Strukturerhebung des Bundesamts für Statistik.\n",
    "\n",
    "Es sind bloss 15-jährige und ältere Personen enthalten. Weitere Informationen finden Sie unter Bemerkung.\n",
    "\n",
    "\n",
    "Datum: 15.03.2022\n"
   ]
  },
  {
   "cell_type": "markdown",
   "metadata": {},
   "source": [
    "### Importiere die notwendigen Packages"
   ]
  },
  {
   "cell_type": "code",
   "execution_count": 22,
   "metadata": {},
   "outputs": [],
   "source": [
    "#%pip install geopandas altair fiona requests folium mplleaflet contextily seaborn datetime plotly leafmap"
   ]
  },
  {
   "cell_type": "code",
   "execution_count": 23,
   "metadata": {},
   "outputs": [],
   "source": [
    "import pandas as pd\n",
    "import pivottablejs\n",
    "from pivottablejs import pivot_ui\n",
    "import numpy as np\n",
    "import altair as alt\n",
    "import matplotlib.pyplot as plt\n",
    "\n",
    "import datetime\n",
    "import geopandas as gpd\n",
    "import folium \n",
    "import plotly.express as px\n",
    "import seaborn as sns\n",
    "import leafmap\n",
    "\n",
    "import requests\n",
    "import io\n"
   ]
  },
  {
   "cell_type": "code",
   "execution_count": 24,
   "metadata": {},
   "outputs": [],
   "source": [
    "SSL_VERIFY = False\n",
    "# evtl. SSL_VERIFY auf False setzen wenn die Verbindung zu https://www.gemeinderat-zuerich.ch nicht klappt (z.B. wegen Proxy)\n",
    "# Um die SSL Verifikation auszustellen, bitte die nächste Zeile einkommentieren (\"#\" entfernen)\n",
    "# SSL_VERIFY = False"
   ]
  },
  {
   "cell_type": "code",
   "execution_count": 25,
   "metadata": {},
   "outputs": [],
   "source": [
    "if not SSL_VERIFY:\n",
    "    import urllib3\n",
    "    urllib3.disable_warnings()"
   ]
  },
  {
   "cell_type": "markdown",
   "metadata": {},
   "source": [
    "Definiere Settings. Hier das Zahlenformat von Float-Werten (z.B. *'{:,.2f}'.format* mit Komma als Tausenderzeichen), "
   ]
  },
  {
   "cell_type": "code",
   "execution_count": 26,
   "metadata": {},
   "outputs": [],
   "source": [
    "#pd.options.display.float_format = lambda x : '{:,.1f}'.format(x) if (np.isnan(x) | np.isinf(x)) else '{:,.0f}'.format(x) if int(x) == x else '{:,.1f}'.format(x)\n",
    "pd.options.display.float_format = '{:.0f}'.format\n",
    "pd.set_option('display.width', 100)\n",
    "pd.set_option('display.max_columns', 15)"
   ]
  },
  {
   "cell_type": "markdown",
   "metadata": {},
   "source": [
    "### Zeitvariabeln\n",
    "Bestimme den aktuellst geladenen Monat. Hier ist es der Stand vor 2 Monaten. \n",
    "Bestimme noch weitere evt. sinnvolle Zeitvariabeln.\n",
    "\n",
    "Zum Unterschied zwischen import datetime und from datedtime import datetime, siehe https://stackoverflow.com/questions/15707532/import-datetime-v-s-from-datetime-import-datetime\n",
    "\n",
    "Zuerst die Zeitvariabeln als Strings"
   ]
  },
  {
   "cell_type": "code",
   "execution_count": 27,
   "metadata": {},
   "outputs": [],
   "source": [
    "#today_date = datetime.date.today()\n",
    "#date_time = datetime.datetime.strptime(date_time_string, '%Y-%m-%d %H:%M')\n",
    "now = datetime.date.today()\n",
    "date_today = now.strftime(\"%Y-%m-%d\")\n",
    "year_today = now.strftime(\"%Y\")\n",
    "month_today = now.strftime(\"%m\")\n",
    "day_today = now.strftime(\"%d\")\n"
   ]
  },
  {
   "cell_type": "markdown",
   "metadata": {},
   "source": [
    "Und hier noch die Zeitvariabeln als Integers:\n",
    "- `aktuellesJahr`\n",
    "- `aktuellerMonat`: Der gerade jetzt aktuelle Monat\n",
    "- `selectedMonat`: Der aktuellste Monat in den Daten. In der Regel zwei Monate her."
   ]
  },
  {
   "cell_type": "code",
   "execution_count": 28,
   "metadata": {},
   "outputs": [
    {
     "name": "stdout",
     "output_type": "stream",
     "text": [
      "2022 3 datenstand:  1 time.struct_time(tm_year=2022, tm_mon=3, tm_mday=15, tm_hour=0, tm_min=0, tm_sec=0, tm_wday=1, tm_yday=74, tm_isdst=-1)\n"
     ]
    }
   ],
   "source": [
    "#now = datetime.now() \n",
    "int_times = now.timetuple()\n",
    "\n",
    "aktuellesJahr = int_times[0]\n",
    "aktuellerMonat = int_times[1]\n",
    "selectedMonat = int_times[1]-2\n",
    "\n",
    "print(aktuellesJahr, \n",
    "      aktuellerMonat,\n",
    "    'datenstand: ', selectedMonat,\n",
    "     int_times)\n"
   ]
  },
  {
   "cell_type": "markdown",
   "metadata": {},
   "source": [
    "Berechne die Variable Epoche um später das SAS-Datum in ein Unix-Datum umzuwandeln. Bei SAS beginnt die Epoche am 1.1.1960. Bei Unix am 1.1.1970.\n",
    "Diese Variable wird beim CSV-Import benötigt."
   ]
  },
  {
   "cell_type": "code",
   "execution_count": 29,
   "metadata": {},
   "outputs": [],
   "source": [
    "epoch = datetime.datetime(1960, 1, 1)"
   ]
  },
  {
   "cell_type": "markdown",
   "metadata": {},
   "source": [
    "### Setze einige Pfadvariabeln"
   ]
  },
  {
   "cell_type": "markdown",
   "metadata": {
    "tags": []
   },
   "source": [
    "- Der Packagename ist eigentlich der **Verzeichnisname** unter dem die Daten und Metadaten auf der Dropzone abgelegt werden.\n",
    "- Definiert wird er bei SASA-Prozessen auf dem **Produkte-Sharepoint ([Link](https://kollaboration.intranet.stzh.ch/orga/ssz-produkte/Lists/SASA_Outputs/PersonalViews.aspx?PageView=Personal&ShowWebPart={6087A3E7-8AC8-40BA-8278-DECFACE124FF}))**.\n",
    "- Der Packagename wird auf CKAN teil der URL, daher ist die exakte Schreibweise wichtig.\n",
    "\n",
    "Beachte: im Packagename müssen alle Buchstaben **klein** geschrieben werden. Dies weil CKAN aus grossen kleine Buchstaben macht."
   ]
  },
  {
   "cell_type": "markdown",
   "metadata": {},
   "source": [
    "**BITTE HIER ANPASSEN**"
   ]
  },
  {
   "cell_type": "code",
   "execution_count": 30,
   "metadata": {},
   "outputs": [],
   "source": [
    "package_name = \"bfs_bev_bildungsstand_alter_geschl_seit1970_od1005\""
   ]
  },
  {
   "cell_type": "code",
   "execution_count": 31,
   "metadata": {
    "tags": []
   },
   "outputs": [],
   "source": [
    "dataset_name = \"BIL100OD1005.csv\""
   ]
  },
  {
   "cell_type": "markdown",
   "metadata": {},
   "source": [
    "**Statische Pfade in DWH-Dropzones**"
   ]
  },
  {
   "cell_type": "code",
   "execution_count": 32,
   "metadata": {},
   "outputs": [],
   "source": [
    "dropzone_path_integ = r\"\\\\szh\\ssz\\applikationen\\OGD_Dropzone\\INT_DWH\""
   ]
  },
  {
   "cell_type": "code",
   "execution_count": 33,
   "metadata": {
    "tags": []
   },
   "outputs": [],
   "source": [
    "dropzone_path_prod = r\"\\\\szh\\ssz\\applikationen\\OGD_Dropzone\\DWH\""
   ]
  },
  {
   "cell_type": "markdown",
   "metadata": {},
   "source": [
    "**Statische Pfade CKAN-URLs**"
   ]
  },
  {
   "cell_type": "code",
   "execution_count": 34,
   "metadata": {
    "tags": []
   },
   "outputs": [],
   "source": [
    "ckan_integ_url =\"https://data.integ.stadt-zuerich.ch/dataset/int_dwh_\""
   ]
  },
  {
   "cell_type": "code",
   "execution_count": 35,
   "metadata": {},
   "outputs": [],
   "source": [
    "ckan_prod_url =\"https://data.stadt-zuerich.ch/dataset/\""
   ]
  },
  {
   "cell_type": "markdown",
   "metadata": {},
   "source": [
    "### Checke die Metadaten auf der CKAN INTEG- oder PROD-Webseite\n",
    "\n",
    "Offenbar lassen sich aktuell im Markdownteil keine Variabeln ausführen, daher gehen wir wie unten gezeigt vor. Siehe dazu: https://data-dive.com/jupyterlab-markdown-cells-include-variables\n",
    "Instead of setting the cell to Markdown, create Markdown from withnin a code cell! We can just use python variable replacement syntax to make the text dynamic"
   ]
  },
  {
   "cell_type": "code",
   "execution_count": 36,
   "metadata": {},
   "outputs": [],
   "source": [
    "from IPython.display import Markdown as md"
   ]
  },
  {
   "cell_type": "code",
   "execution_count": 37,
   "metadata": {},
   "outputs": [
    {
     "data": {
      "text/markdown": [
       " **1. Dataset auf INTEG-Datakatalog:** Link https://data.integ.stadt-zuerich.ch/dataset/int_dwh_bfs_bev_bildungsstand_alter_geschl_seit1970_od1005 "
      ],
      "text/plain": [
       "<IPython.core.display.Markdown object>"
      ]
     },
     "execution_count": 37,
     "metadata": {},
     "output_type": "execute_result"
    }
   ],
   "source": [
    "md(\" **1. Dataset auf INTEG-Datakatalog:** Link {} \".format(ckan_integ_url+package_name))"
   ]
  },
  {
   "cell_type": "code",
   "execution_count": 38,
   "metadata": {
    "tags": []
   },
   "outputs": [
    {
     "data": {
      "text/markdown": [
       " **2. Dataset auf PROD-Datakatalog:** Link https://data.stadt-zuerich.ch/dataset/bfs_bev_bildungsstand_alter_geschl_seit1970_od1005 "
      ],
      "text/plain": [
       "<IPython.core.display.Markdown object>"
      ]
     },
     "execution_count": 38,
     "metadata": {},
     "output_type": "execute_result"
    }
   ],
   "source": [
    "md(\" **2. Dataset auf PROD-Datakatalog:** Link {} \".format(ckan_prod_url+package_name))"
   ]
  },
  {
   "cell_type": "markdown",
   "metadata": {
    "tags": []
   },
   "source": [
    "### Importiere einen Datensatz \n",
    "\n",
    "Definiere zuerst folgende Werte:\n",
    "1) Kommt der Datensatz von PROD oder INTEG?\n",
    "2) Beziehst Du den Datensatz direkt ab der DROPZONE oder aus dem INTERNET?"
   ]
  },
  {
   "cell_type": "code",
   "execution_count": 89,
   "metadata": {},
   "outputs": [
    {
     "name": "stdout",
     "output_type": "stream",
     "text": [
      "integ - web\n"
     ]
    }
   ],
   "source": [
    "#Die Datasets sind nur zum Testen auf INT-DWH-Dropzone. Wenn der Test vorbei ist, sind sie auf PROD. \n",
    "# Über den Status kann man einfach switchen\n",
    "\n",
    "status = \"integ\"; #prod vs something else\n",
    "data_source = \"web\"; #dropzone vs something else\n",
    "print(status+\" - \"+ data_source)"
   ]
  },
  {
   "cell_type": "code",
   "execution_count": 90,
   "metadata": {
    "tags": []
   },
   "outputs": [
    {
     "name": "stdout",
     "output_type": "stream",
     "text": [
      "fp lautet:https://data.integ.stadt-zuerich.ch/dataset/int_dwh_bfs_bev_bildungsstand_alter_geschl_seit1970_od1005/download/BIL100OD1005.csv\n"
     ]
    }
   ],
   "source": [
    "# Filepath\n",
    "if status == \"prod\":\n",
    "    if data_source == \"dropzone\":\n",
    "            fp = dropzone_path_prod+\"\\\\\"+ package_name +\"\\\\\"+dataset_name\n",
    "            print(\"fp lautet:\"+fp)\n",
    "    else:\n",
    "        #fp = r\"https://data.stadt-zuerich.ch/dataset/bau_neubau_whg_bausm_rinh_geb_projstatus_quartier_seit2009_od5011/download/BAU501OD5011.csv\"\n",
    "        fp = ckan_prod_url+package_name+'/download/'+dataset_name\n",
    "        print(\"fp lautet:\"+fp)\n",
    "else:\n",
    "    if data_source == \"dropzone\":\n",
    "        fp = dropzone_path_integ+\"\\\\\"+ package_name +\"\\\\\"+dataset_name\n",
    "        print(\"fp lautet:\"+fp)\n",
    "    else:\n",
    "        #fp = r\"https://data.stadt-zuerich.ch/dataset/bau_neubau_whg_bausm_rinh_geb_projstatus_quartier_seit2009_od5011/download/BAU501OD5011.csv\"\n",
    "        fp = ckan_integ_url+package_name+'/download/'+dataset_name\n",
    "        print(\"fp lautet:\"+fp)\n"
   ]
  },
  {
   "cell_type": "markdown",
   "metadata": {},
   "source": [
    "Beachte, wie das SAS Datum (ohne Format) in ein UNIX Datum umgerechnet und als Datumsformat dargestellt wird! Siehe dazu `https://stackoverflow.com/questions/26923564/convert-sas-numeric-to-python-datetime`"
   ]
  },
  {
   "cell_type": "code",
   "execution_count": 91,
   "metadata": {},
   "outputs": [
    {
     "name": "stdout",
     "output_type": "stream",
     "text": [
      "web\n"
     ]
    },
    {
     "data": {
      "text/plain": [
       "Jahr             datetime64[ns]\n",
       "SexLang                  object\n",
       "AlterLang                object\n",
       "Bildungsstand            object\n",
       "AntBev                  float64\n",
       "untAntBevKI             float64\n",
       "obAntBevKI              float64\n",
       "dtype: object"
      ]
     },
     "execution_count": 91,
     "metadata": {},
     "output_type": "execute_result"
    }
   ],
   "source": [
    "# Read the data\n",
    "if data_source == \"dropzone\":\n",
    "    data2betested = pd.read_csv(\n",
    "        fp\n",
    "        , sep=','\n",
    "        ,parse_dates=['Jahr']\n",
    "        ,low_memory=False\n",
    "    )\n",
    "    print(\"dropzone\")\n",
    "else:\n",
    "    r = requests.get(fp, verify=False)  \n",
    "    r.encoding = 'utf-8'\n",
    "    data2betested = pd.read_csv(\n",
    "        io.StringIO(r.text)\n",
    "        ,parse_dates=['Jahr']\n",
    "        # KONVERTIERE DAS SAS DATUM IN EIN UNIXDATUM UND FORMATIERE ES\n",
    "        #, date_parser=lambda s: epoch + datetime.timedelta(days=int(s))\n",
    "        ,low_memory=False)\n",
    "    print(\"web\")\n",
    "\n",
    "data2betested.dtypes"
   ]
  },
  {
   "cell_type": "markdown",
   "metadata": {},
   "source": [
    "Berechne weitere Attribute falls notwendig"
   ]
  },
  {
   "cell_type": "code",
   "execution_count": 92,
   "metadata": {},
   "outputs": [
    {
     "data": {
      "text/plain": [
       "Jahr             datetime64[ns]\n",
       "SexLang                  object\n",
       "AlterLang                object\n",
       "Bildungsstand            object\n",
       "AntBev                  float64\n",
       "untAntBevKI             float64\n",
       "obAntBevKI              float64\n",
       "Jahr_str                 object\n",
       "dtype: object"
      ]
     },
     "execution_count": 92,
     "metadata": {},
     "output_type": "execute_result"
    }
   ],
   "source": [
    "data2betested = (\n",
    "    data2betested\n",
    "    .copy()\n",
    "    .assign(\n",
    "        #Aktualisierungs_Datum_str= lambda x: x.Aktualisierungs_Datum.astype(str),\n",
    "        Jahr_str = lambda x: x.Jahr.astype(str),\n",
    "    )\n",
    "    .sort_values('Jahr', ascending=False)\n",
    "    )\n",
    "data2betested.dtypes"
   ]
  },
  {
   "cell_type": "markdown",
   "metadata": {},
   "source": [
    "### Einfache Datentests"
   ]
  },
  {
   "cell_type": "markdown",
   "metadata": {},
   "source": [
    " - 1) Zeige eine kurze Vorschau der importierten Daten\n",
    " - 2) Weise die Datentypen aus\n",
    " - 3) Zeige die Shape (Umfang) des Datensatzes an"
   ]
  },
  {
   "cell_type": "code",
   "execution_count": 93,
   "metadata": {},
   "outputs": [],
   "source": [
    "#data2betested.head(6)"
   ]
  },
  {
   "cell_type": "code",
   "execution_count": 94,
   "metadata": {},
   "outputs": [
    {
     "data": {
      "text/plain": [
       "Jahr             datetime64[ns]\n",
       "SexLang                  object\n",
       "AlterLang                object\n",
       "Bildungsstand            object\n",
       "AntBev                  float64\n",
       "untAntBevKI             float64\n",
       "obAntBevKI              float64\n",
       "Jahr_str                 object\n",
       "dtype: object"
      ]
     },
     "execution_count": 94,
     "metadata": {},
     "output_type": "execute_result"
    }
   ],
   "source": [
    "data2betested.dtypes"
   ]
  },
  {
   "cell_type": "code",
   "execution_count": 95,
   "metadata": {},
   "outputs": [
    {
     "data": {
      "text/plain": [
       "(945, 8)"
      ]
     },
     "execution_count": 95,
     "metadata": {},
     "output_type": "execute_result"
    }
   ],
   "source": [
    "data2betested.shape"
   ]
  },
  {
   "cell_type": "markdown",
   "metadata": {},
   "source": [
    "Beschreibe einzelne Attribute"
   ]
  },
  {
   "cell_type": "code",
   "execution_count": 96,
   "metadata": {},
   "outputs": [
    {
     "data": {
      "text/html": [
       "<div>\n",
       "<style scoped>\n",
       "    .dataframe tbody tr th:only-of-type {\n",
       "        vertical-align: middle;\n",
       "    }\n",
       "\n",
       "    .dataframe tbody tr th {\n",
       "        vertical-align: top;\n",
       "    }\n",
       "\n",
       "    .dataframe thead th {\n",
       "        text-align: right;\n",
       "    }\n",
       "</style>\n",
       "<table border=\"1\" class=\"dataframe\">\n",
       "  <thead>\n",
       "    <tr style=\"text-align: right;\">\n",
       "      <th></th>\n",
       "      <th>AntBev</th>\n",
       "      <th>untAntBevKI</th>\n",
       "      <th>obAntBevKI</th>\n",
       "    </tr>\n",
       "  </thead>\n",
       "  <tbody>\n",
       "    <tr>\n",
       "      <th>count</th>\n",
       "      <td>945</td>\n",
       "      <td>693</td>\n",
       "      <td>693</td>\n",
       "    </tr>\n",
       "    <tr>\n",
       "      <th>mean</th>\n",
       "      <td>33</td>\n",
       "      <td>31</td>\n",
       "      <td>36</td>\n",
       "    </tr>\n",
       "    <tr>\n",
       "      <th>std</th>\n",
       "      <td>18</td>\n",
       "      <td>17</td>\n",
       "      <td>18</td>\n",
       "    </tr>\n",
       "    <tr>\n",
       "      <th>min</th>\n",
       "      <td>3</td>\n",
       "      <td>4</td>\n",
       "      <td>6</td>\n",
       "    </tr>\n",
       "    <tr>\n",
       "      <th>25%</th>\n",
       "      <td>19</td>\n",
       "      <td>17</td>\n",
       "      <td>21</td>\n",
       "    </tr>\n",
       "    <tr>\n",
       "      <th>50%</th>\n",
       "      <td>32</td>\n",
       "      <td>29</td>\n",
       "      <td>34</td>\n",
       "    </tr>\n",
       "    <tr>\n",
       "      <th>75%</th>\n",
       "      <td>46</td>\n",
       "      <td>43</td>\n",
       "      <td>49</td>\n",
       "    </tr>\n",
       "    <tr>\n",
       "      <th>max</th>\n",
       "      <td>77</td>\n",
       "      <td>75</td>\n",
       "      <td>79</td>\n",
       "    </tr>\n",
       "  </tbody>\n",
       "</table>\n",
       "</div>"
      ],
      "text/plain": [
       "       AntBev  untAntBevKI  obAntBevKI\n",
       "count     945          693         693\n",
       "mean       33           31          36\n",
       "std        18           17          18\n",
       "min         3            4           6\n",
       "25%        19           17          21\n",
       "50%        32           29          34\n",
       "75%        46           43          49\n",
       "max        77           75          79"
      ]
     },
     "execution_count": 96,
     "metadata": {},
     "output_type": "execute_result"
    }
   ],
   "source": [
    "data2betested.describe()"
   ]
  },
  {
   "cell_type": "markdown",
   "metadata": {},
   "source": [
    "Wie viele Nullwerte gibt es im Datensatz?"
   ]
  },
  {
   "cell_type": "code",
   "execution_count": 97,
   "metadata": {
    "scrolled": true
   },
   "outputs": [
    {
     "data": {
      "text/plain": [
       "Jahr               0\n",
       "SexLang            0\n",
       "AlterLang          0\n",
       "Bildungsstand      0\n",
       "AntBev             0\n",
       "untAntBevKI      252\n",
       "obAntBevKI       252\n",
       "Jahr_str           0\n",
       "dtype: int64"
      ]
     },
     "execution_count": 97,
     "metadata": {},
     "output_type": "execute_result"
    }
   ],
   "source": [
    "data2betested.isnull().sum()"
   ]
  },
  {
   "cell_type": "markdown",
   "metadata": {},
   "source": [
    "Welches sind die Quartiere ohne Werte bei AnzBestWir?"
   ]
  },
  {
   "cell_type": "code",
   "execution_count": 98,
   "metadata": {},
   "outputs": [
    {
     "data": {
      "text/html": [
       "<div>\n",
       "<style scoped>\n",
       "    .dataframe tbody tr th:only-of-type {\n",
       "        vertical-align: middle;\n",
       "    }\n",
       "\n",
       "    .dataframe tbody tr th {\n",
       "        vertical-align: top;\n",
       "    }\n",
       "\n",
       "    .dataframe thead th {\n",
       "        text-align: right;\n",
       "    }\n",
       "</style>\n",
       "<table border=\"1\" class=\"dataframe\">\n",
       "  <thead>\n",
       "    <tr style=\"text-align: right;\">\n",
       "      <th></th>\n",
       "      <th>Jahr</th>\n",
       "      <th>SexLang</th>\n",
       "      <th>AlterLang</th>\n",
       "      <th>Bildungsstand</th>\n",
       "      <th>AntBev</th>\n",
       "      <th>untAntBevKI</th>\n",
       "      <th>obAntBevKI</th>\n",
       "      <th>Jahr_str</th>\n",
       "    </tr>\n",
       "  </thead>\n",
       "  <tbody>\n",
       "  </tbody>\n",
       "</table>\n",
       "</div>"
      ],
      "text/plain": [
       "Empty DataFrame\n",
       "Columns: [Jahr, SexLang, AlterLang, Bildungsstand, AntBev, untAntBevKI, obAntBevKI, Jahr_str]\n",
       "Index: []"
      ]
     },
     "execution_count": 98,
     "metadata": {},
     "output_type": "execute_result"
    }
   ],
   "source": [
    "data2betested[np.isnan(data2betested.AntBev)]"
   ]
  },
  {
   "cell_type": "markdown",
   "metadata": {
    "colab_type": "text",
    "id": "1dTPVmmsgOVx"
   },
   "source": [
    "### Verwende das Datum als Index\n",
    "\n",
    "While we did already parse the `datetime` column into the respective datetime type, it currently is just a regular column. \n",
    "**To enable quick and convenient queries and aggregations, we need to turn it into the index of the DataFrame**"
   ]
  },
  {
   "cell_type": "code",
   "execution_count": 99,
   "metadata": {},
   "outputs": [],
   "source": [
    "data2betested = data2betested.set_index(\"Jahr\")"
   ]
  },
  {
   "cell_type": "code",
   "execution_count": 100,
   "metadata": {},
   "outputs": [
    {
     "name": "stdout",
     "output_type": "stream",
     "text": [
      "<class 'pandas.core.frame.DataFrame'>\n",
      "DatetimeIndex: 945 entries, 2020-01-01 to 1970-01-01\n",
      "Data columns (total 7 columns):\n",
      " #   Column         Non-Null Count  Dtype  \n",
      "---  ------         --------------  -----  \n",
      " 0   SexLang        945 non-null    object \n",
      " 1   AlterLang      945 non-null    object \n",
      " 2   Bildungsstand  945 non-null    object \n",
      " 3   AntBev         945 non-null    float64\n",
      " 4   untAntBevKI    693 non-null    float64\n",
      " 5   obAntBevKI     693 non-null    float64\n",
      " 6   Jahr_str       945 non-null    object \n",
      "dtypes: float64(3), object(4)\n",
      "memory usage: 59.1+ KB\n"
     ]
    },
    {
     "data": {
      "text/plain": [
       "Int64Index([2020, 2019, 2018, 2017, 2016, 2015, 2014, 2013, 2012, 2011, 2010, 2000, 1990, 1980,\n",
       "            1970],\n",
       "           dtype='int64', name='Jahr')"
      ]
     },
     "execution_count": 100,
     "metadata": {},
     "output_type": "execute_result"
    }
   ],
   "source": [
    "data2betested.info()\n",
    "data2betested.index.year.unique()"
   ]
  },
  {
   "cell_type": "markdown",
   "metadata": {
    "tags": []
   },
   "source": [
    "### Einfache Visualisierungen zur Plausi"
   ]
  },
  {
   "cell_type": "markdown",
   "metadata": {},
   "source": [
    "Exploriere die Daten mit Pivottable.JS"
   ]
  },
  {
   "cell_type": "code",
   "execution_count": 101,
   "metadata": {},
   "outputs": [
    {
     "data": {
      "text/html": [
       "\n",
       "        <iframe\n",
       "            width=\"100%\"\n",
       "            height=\"500\"\n",
       "            src=\"pivottablejs.html\"\n",
       "            frameborder=\"0\"\n",
       "            allowfullscreen\n",
       "            \n",
       "        ></iframe>\n",
       "        "
      ],
      "text/plain": [
       "<IPython.lib.display.IFrame at 0x2431c6fafc8>"
      ]
     },
     "execution_count": 101,
     "metadata": {},
     "output_type": "execute_result"
    }
   ],
   "source": [
    "from pivottablejs import pivot_ui\n",
    "\n",
    "pivot_ui(data2betested)"
   ]
  },
  {
   "cell_type": "markdown",
   "metadata": {},
   "source": [
    "### Zeitpunkte und Zeiträume abfragen\n",
    "\n",
    "A particular powerful feature of the Pandas DataFrame is its indexing capability that also works using time-based entities, such as dates and times. We have already created the index above, so let's put it to use."
   ]
  },
  {
   "cell_type": "code",
   "execution_count": 102,
   "metadata": {},
   "outputs": [
    {
     "data": {
      "text/html": [
       "<div>\n",
       "<style scoped>\n",
       "    .dataframe tbody tr th:only-of-type {\n",
       "        vertical-align: middle;\n",
       "    }\n",
       "\n",
       "    .dataframe tbody tr th {\n",
       "        vertical-align: top;\n",
       "    }\n",
       "\n",
       "    .dataframe thead th {\n",
       "        text-align: right;\n",
       "    }\n",
       "</style>\n",
       "<table border=\"1\" class=\"dataframe\">\n",
       "  <thead>\n",
       "    <tr style=\"text-align: right;\">\n",
       "      <th></th>\n",
       "      <th>SexLang</th>\n",
       "      <th>AlterLang</th>\n",
       "      <th>Bildungsstand</th>\n",
       "      <th>AntBev</th>\n",
       "      <th>untAntBevKI</th>\n",
       "      <th>obAntBevKI</th>\n",
       "      <th>Jahr_str</th>\n",
       "    </tr>\n",
       "    <tr>\n",
       "      <th>Jahr</th>\n",
       "      <th></th>\n",
       "      <th></th>\n",
       "      <th></th>\n",
       "      <th></th>\n",
       "      <th></th>\n",
       "      <th></th>\n",
       "      <th></th>\n",
       "    </tr>\n",
       "  </thead>\n",
       "  <tbody>\n",
       "    <tr>\n",
       "      <th>2020-01-01</th>\n",
       "      <td>Männer</td>\n",
       "      <td>75 und älter</td>\n",
       "      <td>Tertiärstufe</td>\n",
       "      <td>39</td>\n",
       "      <td>34</td>\n",
       "      <td>43</td>\n",
       "      <td>2020-01-01</td>\n",
       "    </tr>\n",
       "    <tr>\n",
       "      <th>2020-01-01</th>\n",
       "      <td>Frauen</td>\n",
       "      <td>45 bis 54</td>\n",
       "      <td>Sekundarstufe II</td>\n",
       "      <td>24</td>\n",
       "      <td>22</td>\n",
       "      <td>27</td>\n",
       "      <td>2020-01-01</td>\n",
       "    </tr>\n",
       "  </tbody>\n",
       "</table>\n",
       "</div>"
      ],
      "text/plain": [
       "           SexLang     AlterLang     Bildungsstand  AntBev  untAntBevKI  obAntBevKI    Jahr_str\n",
       "Jahr                                                                                           \n",
       "2020-01-01  Männer  75 und älter      Tertiärstufe      39           34          43  2020-01-01\n",
       "2020-01-01  Frauen     45 bis 54  Sekundarstufe II      24           22          27  2020-01-01"
      ]
     },
     "execution_count": 102,
     "metadata": {},
     "output_type": "execute_result"
    }
   ],
   "source": [
    "data2betested.loc[\"2020\"].head(2)\n",
    "#data2betested.loc[\"2021-10-31\":\"2021-11-30\"].head(2)"
   ]
  },
  {
   "cell_type": "markdown",
   "metadata": {},
   "source": [
    "### Visualisierungen nach Zeitausschnitten"
   ]
  },
  {
   "cell_type": "markdown",
   "metadata": {
    "tags": []
   },
   "source": [
    "#### Entwicklung Bildungsstand"
   ]
  },
  {
   "cell_type": "code",
   "execution_count": 103,
   "metadata": {},
   "outputs": [
    {
     "data": {
      "text/plain": [
       "Index(['SexLang', 'AlterLang', 'Bildungsstand', 'AntBev', 'untAntBevKI', 'obAntBevKI', 'Jahr_str'], dtype='object')"
      ]
     },
     "execution_count": 103,
     "metadata": {},
     "output_type": "execute_result"
    }
   ],
   "source": [
    "data2betested.columns"
   ]
  },
  {
   "cell_type": "code",
   "execution_count": 104,
   "metadata": {
    "tags": []
   },
   "outputs": [
    {
     "data": {
      "text/html": [
       "<div>\n",
       "<style scoped>\n",
       "    .dataframe tbody tr th:only-of-type {\n",
       "        vertical-align: middle;\n",
       "    }\n",
       "\n",
       "    .dataframe tbody tr th {\n",
       "        vertical-align: top;\n",
       "    }\n",
       "\n",
       "    .dataframe thead th {\n",
       "        text-align: right;\n",
       "    }\n",
       "</style>\n",
       "<table border=\"1\" class=\"dataframe\">\n",
       "  <thead>\n",
       "    <tr style=\"text-align: right;\">\n",
       "      <th></th>\n",
       "      <th>Jahr</th>\n",
       "      <th>Jahr_str</th>\n",
       "      <th>Bildungsstand</th>\n",
       "      <th>mean_AntBev</th>\n",
       "      <th>median_AntBev</th>\n",
       "    </tr>\n",
       "  </thead>\n",
       "  <tbody>\n",
       "    <tr>\n",
       "      <th>0</th>\n",
       "      <td>1970-01-01</td>\n",
       "      <td>1970-01-01</td>\n",
       "      <td>Obligatorische Schule</td>\n",
       "      <td>32</td>\n",
       "      <td>31</td>\n",
       "    </tr>\n",
       "    <tr>\n",
       "      <th>1</th>\n",
       "      <td>1970-01-01</td>\n",
       "      <td>1970-01-01</td>\n",
       "      <td>Sekundarstufe II</td>\n",
       "      <td>59</td>\n",
       "      <td>58</td>\n",
       "    </tr>\n",
       "    <tr>\n",
       "      <th>2</th>\n",
       "      <td>1970-01-01</td>\n",
       "      <td>1970-01-01</td>\n",
       "      <td>Tertiärstufe</td>\n",
       "      <td>9</td>\n",
       "      <td>8</td>\n",
       "    </tr>\n",
       "  </tbody>\n",
       "</table>\n",
       "</div>"
      ],
      "text/plain": [
       "        Jahr    Jahr_str          Bildungsstand  mean_AntBev  median_AntBev\n",
       "0 1970-01-01  1970-01-01  Obligatorische Schule           32             31\n",
       "1 1970-01-01  1970-01-01       Sekundarstufe II           59             58\n",
       "2 1970-01-01  1970-01-01           Tertiärstufe            9              8"
      ]
     },
     "execution_count": 104,
     "metadata": {},
     "output_type": "execute_result"
    }
   ],
   "source": [
    "#myAgg = data2betested.loc[\"2008-11-30\":\"2021-10-31\"]\n",
    "myAgg = data2betested.loc[\"1970\":\"2021\"]\\\n",
    "    .groupby(['Jahr', 'Jahr_str', 'Bildungsstand']) \\\n",
    "    .agg(mean_AntBev=('AntBev', 'mean')\n",
    "        ,median_AntBev=('AntBev', 'median')\n",
    "        ) \\\n",
    "    .sort_values('Jahr', ascending=True) \n",
    "\n",
    "myAgg.reset_index().head(3)"
   ]
  },
  {
   "cell_type": "code",
   "execution_count": 105,
   "metadata": {},
   "outputs": [
    {
     "data": {
      "text/html": [
       "\n",
       "<div id=\"altair-viz-9e6bdbdbd3a5485aad346078f40fa981\"></div>\n",
       "<script type=\"text/javascript\">\n",
       "  (function(spec, embedOpt){\n",
       "    let outputDiv = document.currentScript.previousElementSibling;\n",
       "    if (outputDiv.id !== \"altair-viz-9e6bdbdbd3a5485aad346078f40fa981\") {\n",
       "      outputDiv = document.getElementById(\"altair-viz-9e6bdbdbd3a5485aad346078f40fa981\");\n",
       "    }\n",
       "    const paths = {\n",
       "      \"vega\": \"https://cdn.jsdelivr.net/npm//vega@5?noext\",\n",
       "      \"vega-lib\": \"https://cdn.jsdelivr.net/npm//vega-lib?noext\",\n",
       "      \"vega-lite\": \"https://cdn.jsdelivr.net/npm//vega-lite@4.8.1?noext\",\n",
       "      \"vega-embed\": \"https://cdn.jsdelivr.net/npm//vega-embed@6?noext\",\n",
       "    };\n",
       "\n",
       "    function loadScript(lib) {\n",
       "      return new Promise(function(resolve, reject) {\n",
       "        var s = document.createElement('script');\n",
       "        s.src = paths[lib];\n",
       "        s.async = true;\n",
       "        s.onload = () => resolve(paths[lib]);\n",
       "        s.onerror = () => reject(`Error loading script: ${paths[lib]}`);\n",
       "        document.getElementsByTagName(\"head\")[0].appendChild(s);\n",
       "      });\n",
       "    }\n",
       "\n",
       "    function showError(err) {\n",
       "      outputDiv.innerHTML = `<div class=\"error\" style=\"color:red;\">${err}</div>`;\n",
       "      throw err;\n",
       "    }\n",
       "\n",
       "    function displayChart(vegaEmbed) {\n",
       "      vegaEmbed(outputDiv, spec, embedOpt)\n",
       "        .catch(err => showError(`Javascript Error: ${err.message}<br>This usually means there's a typo in your chart specification. See the javascript console for the full traceback.`));\n",
       "    }\n",
       "\n",
       "    if(typeof define === \"function\" && define.amd) {\n",
       "      requirejs.config({paths});\n",
       "      require([\"vega-embed\"], displayChart, err => showError(`Error loading script: ${err.message}`));\n",
       "    } else if (typeof vegaEmbed === \"function\") {\n",
       "      displayChart(vegaEmbed);\n",
       "    } else {\n",
       "      loadScript(\"vega\")\n",
       "        .then(() => loadScript(\"vega-lite\"))\n",
       "        .then(() => loadScript(\"vega-embed\"))\n",
       "        .catch(showError)\n",
       "        .then(() => displayChart(vegaEmbed));\n",
       "    }\n",
       "  })({\"config\": {\"view\": {\"continuousWidth\": 400, \"continuousHeight\": 300}}, \"layer\": [{\"mark\": \"line\", \"encoding\": {\"color\": {\"type\": \"nominal\", \"field\": \"Bildungsstand\", \"legend\": {\"orient\": \"right\", \"title\": \"Altersgruppen\"}}, \"size\": {\"condition\": {\"value\": 0.5, \"selection\": {\"not\": \"selector010\"}}, \"value\": 4}, \"tooltip\": [{\"type\": \"nominal\", \"field\": \"Jahr_str\"}, {\"type\": \"nominal\", \"field\": \"Bildungsstand\"}, {\"type\": \"quantitative\", \"field\": \"mean_AntBev\"}], \"x\": {\"type\": \"temporal\", \"axis\": {\"title\": \"Jahr\"}, \"field\": \"Jahr\"}, \"y\": {\"type\": \"quantitative\", \"axis\": {\"title\": \"Ant. Personen\"}, \"field\": \"mean_AntBev\"}}, \"selection\": {\"selector011\": {\"type\": \"interval\", \"bind\": \"scales\", \"encodings\": [\"x\", \"y\"]}}, \"title\": \"Bildungsstand seit 1970\"}, {\"mark\": \"circle\", \"encoding\": {\"color\": {\"type\": \"nominal\", \"field\": \"Bildungsstand\", \"legend\": {\"orient\": \"right\", \"title\": \"Altersgruppen\"}}, \"opacity\": {\"value\": 0.75}, \"tooltip\": [{\"type\": \"nominal\", \"field\": \"Jahr_str\"}, {\"type\": \"nominal\", \"field\": \"Bildungsstand\"}, {\"type\": \"quantitative\", \"field\": \"mean_AntBev\"}], \"x\": {\"type\": \"temporal\", \"axis\": {\"title\": \"Jahr\"}, \"field\": \"Jahr\"}, \"y\": {\"type\": \"quantitative\", \"axis\": {\"title\": \"Ant. Personen\"}, \"field\": \"mean_AntBev\"}}, \"height\": 350, \"selection\": {\"selector010\": {\"type\": \"single\", \"on\": \"mouseover\", \"fields\": [\"Bildungsstand\"], \"nearest\": true}}, \"title\": \"Bildungsstand seit 1970\", \"width\": 750}], \"data\": {\"name\": \"data-6e8daa9ee186cc9dd441ac30eaa1657b\"}, \"$schema\": \"https://vega.github.io/schema/vega-lite/v4.8.1.json\", \"datasets\": {\"data-6e8daa9ee186cc9dd441ac30eaa1657b\": [{\"Jahr\": \"1970-01-01T00:00:00\", \"Jahr_str\": \"1970-01-01\", \"Bildungsstand\": \"Obligatorische Schule\", \"mean_AntBev\": 32.08571428571428, \"median_AntBev\": 31.4}, {\"Jahr\": \"1970-01-01T00:00:00\", \"Jahr_str\": \"1970-01-01\", \"Bildungsstand\": \"Sekundarstufe II\", \"mean_AntBev\": 58.54285714285714, \"median_AntBev\": 58.3}, {\"Jahr\": \"1970-01-01T00:00:00\", \"Jahr_str\": \"1970-01-01\", \"Bildungsstand\": \"Terti\\u00e4rstufe\", \"mean_AntBev\": 9.376190476190477, \"median_AntBev\": 8.0}, {\"Jahr\": \"1980-01-01T00:00:00\", \"Jahr_str\": \"1980-01-01\", \"Bildungsstand\": \"Obligatorische Schule\", \"mean_AntBev\": 34.385714285714286, \"median_AntBev\": 29.5}, {\"Jahr\": \"1980-01-01T00:00:00\", \"Jahr_str\": \"1980-01-01\", \"Bildungsstand\": \"Sekundarstufe II\", \"mean_AntBev\": 52.785714285714285, \"median_AntBev\": 52.1}, {\"Jahr\": \"1980-01-01T00:00:00\", \"Jahr_str\": \"1980-01-01\", \"Bildungsstand\": \"Terti\\u00e4rstufe\", \"mean_AntBev\": 12.819047619047618, \"median_AntBev\": 12.2}, {\"Jahr\": \"1990-01-01T00:00:00\", \"Jahr_str\": \"1990-01-01\", \"Bildungsstand\": \"Obligatorische Schule\", \"mean_AntBev\": 31.299999999999997, \"median_AntBev\": 27.8}, {\"Jahr\": \"1990-01-01T00:00:00\", \"Jahr_str\": \"1990-01-01\", \"Bildungsstand\": \"Sekundarstufe II\", \"mean_AntBev\": 54.790476190476184, \"median_AntBev\": 54.0}, {\"Jahr\": \"1990-01-01T00:00:00\", \"Jahr_str\": \"1990-01-01\", \"Bildungsstand\": \"Terti\\u00e4rstufe\", \"mean_AntBev\": 13.904761904761905, \"median_AntBev\": 16.0}, {\"Jahr\": \"2000-01-01T00:00:00\", \"Jahr_str\": \"2000-01-01\", \"Bildungsstand\": \"Terti\\u00e4rstufe\", \"mean_AntBev\": 22.333333333333332, \"median_AntBev\": 23.7}, {\"Jahr\": \"2000-01-01T00:00:00\", \"Jahr_str\": \"2000-01-01\", \"Bildungsstand\": \"Sekundarstufe II\", \"mean_AntBev\": 48.214285714285715, \"median_AntBev\": 48.4}, {\"Jahr\": \"2000-01-01T00:00:00\", \"Jahr_str\": \"2000-01-01\", \"Bildungsstand\": \"Obligatorische Schule\", \"mean_AntBev\": 29.433333333333334, \"median_AntBev\": 27.3}, {\"Jahr\": \"2010-01-01T00:00:00\", \"Jahr_str\": \"2010-01-01\", \"Bildungsstand\": \"Obligatorische Schule\", \"mean_AntBev\": 23.714285714285715, \"median_AntBev\": 20.6}, {\"Jahr\": \"2010-01-01T00:00:00\", \"Jahr_str\": \"2010-01-01\", \"Bildungsstand\": \"Sekundarstufe II\", \"mean_AntBev\": 43.02857142857143, \"median_AntBev\": 46.5}, {\"Jahr\": \"2010-01-01T00:00:00\", \"Jahr_str\": \"2010-01-01\", \"Bildungsstand\": \"Terti\\u00e4rstufe\", \"mean_AntBev\": 33.266666666666666, \"median_AntBev\": 31.7}, {\"Jahr\": \"2011-01-01T00:00:00\", \"Jahr_str\": \"2011-01-01\", \"Bildungsstand\": \"Obligatorische Schule\", \"mean_AntBev\": 23.047619047619047, \"median_AntBev\": 19.3}, {\"Jahr\": \"2011-01-01T00:00:00\", \"Jahr_str\": \"2011-01-01\", \"Bildungsstand\": \"Sekundarstufe II\", \"mean_AntBev\": 42.48095238095238, \"median_AntBev\": 46.4}, {\"Jahr\": \"2011-01-01T00:00:00\", \"Jahr_str\": \"2011-01-01\", \"Bildungsstand\": \"Terti\\u00e4rstufe\", \"mean_AntBev\": 34.438095238095244, \"median_AntBev\": 33.7}, {\"Jahr\": \"2012-01-01T00:00:00\", \"Jahr_str\": \"2012-01-01\", \"Bildungsstand\": \"Obligatorische Schule\", \"mean_AntBev\": 22.83809523809524, \"median_AntBev\": 20.0}, {\"Jahr\": \"2012-01-01T00:00:00\", \"Jahr_str\": \"2012-01-01\", \"Bildungsstand\": \"Sekundarstufe II\", \"mean_AntBev\": 41.18571428571428, \"median_AntBev\": 41.8}, {\"Jahr\": \"2012-01-01T00:00:00\", \"Jahr_str\": \"2012-01-01\", \"Bildungsstand\": \"Terti\\u00e4rstufe\", \"mean_AntBev\": 35.98571428571429, \"median_AntBev\": 33.8}, {\"Jahr\": \"2013-01-01T00:00:00\", \"Jahr_str\": \"2013-01-01\", \"Bildungsstand\": \"Terti\\u00e4rstufe\", \"mean_AntBev\": 36.095238095238095, \"median_AntBev\": 33.9}, {\"Jahr\": \"2013-01-01T00:00:00\", \"Jahr_str\": \"2013-01-01\", \"Bildungsstand\": \"Sekundarstufe II\", \"mean_AntBev\": 41.614285714285714, \"median_AntBev\": 44.6}, {\"Jahr\": \"2013-01-01T00:00:00\", \"Jahr_str\": \"2013-01-01\", \"Bildungsstand\": \"Obligatorische Schule\", \"mean_AntBev\": 22.29047619047619, \"median_AntBev\": 20.9}, {\"Jahr\": \"2014-01-01T00:00:00\", \"Jahr_str\": \"2014-01-01\", \"Bildungsstand\": \"Obligatorische Schule\", \"mean_AntBev\": 22.60952380952381, \"median_AntBev\": 19.3}, {\"Jahr\": \"2014-01-01T00:00:00\", \"Jahr_str\": \"2014-01-01\", \"Bildungsstand\": \"Sekundarstufe II\", \"mean_AntBev\": 39.34761904761905, \"median_AntBev\": 41.9}, {\"Jahr\": \"2014-01-01T00:00:00\", \"Jahr_str\": \"2014-01-01\", \"Bildungsstand\": \"Terti\\u00e4rstufe\", \"mean_AntBev\": 38.03333333333333, \"median_AntBev\": 38.8}, {\"Jahr\": \"2015-01-01T00:00:00\", \"Jahr_str\": \"2015-01-01\", \"Bildungsstand\": \"Obligatorische Schule\", \"mean_AntBev\": 21.98095238095238, \"median_AntBev\": 19.1}, {\"Jahr\": \"2015-01-01T00:00:00\", \"Jahr_str\": \"2015-01-01\", \"Bildungsstand\": \"Sekundarstufe II\", \"mean_AntBev\": 38.766666666666666, \"median_AntBev\": 42.1}, {\"Jahr\": \"2015-01-01T00:00:00\", \"Jahr_str\": \"2015-01-01\", \"Bildungsstand\": \"Terti\\u00e4rstufe\", \"mean_AntBev\": 39.26190476190476, \"median_AntBev\": 38.1}, {\"Jahr\": \"2016-01-01T00:00:00\", \"Jahr_str\": \"2016-01-01\", \"Bildungsstand\": \"Obligatorische Schule\", \"mean_AntBev\": 21.70952380952381, \"median_AntBev\": 18.7}, {\"Jahr\": \"2016-01-01T00:00:00\", \"Jahr_str\": \"2016-01-01\", \"Bildungsstand\": \"Sekundarstufe II\", \"mean_AntBev\": 37.24761904761905, \"median_AntBev\": 37.8}, {\"Jahr\": \"2016-01-01T00:00:00\", \"Jahr_str\": \"2016-01-01\", \"Bildungsstand\": \"Terti\\u00e4rstufe\", \"mean_AntBev\": 41.04761904761905, \"median_AntBev\": 40.6}, {\"Jahr\": \"2017-01-01T00:00:00\", \"Jahr_str\": \"2017-01-01\", \"Bildungsstand\": \"Terti\\u00e4rstufe\", \"mean_AntBev\": 41.44761904761905, \"median_AntBev\": 42.0}, {\"Jahr\": \"2017-01-01T00:00:00\", \"Jahr_str\": \"2017-01-01\", \"Bildungsstand\": \"Obligatorische Schule\", \"mean_AntBev\": 21.20952380952381, \"median_AntBev\": 18.1}, {\"Jahr\": \"2017-01-01T00:00:00\", \"Jahr_str\": \"2017-01-01\", \"Bildungsstand\": \"Sekundarstufe II\", \"mean_AntBev\": 37.34285714285714, \"median_AntBev\": 38.1}, {\"Jahr\": \"2018-01-01T00:00:00\", \"Jahr_str\": \"2018-01-01\", \"Bildungsstand\": \"Obligatorische Schule\", \"mean_AntBev\": 19.952380952380953, \"median_AntBev\": 16.6}, {\"Jahr\": \"2018-01-01T00:00:00\", \"Jahr_str\": \"2018-01-01\", \"Bildungsstand\": \"Sekundarstufe II\", \"mean_AntBev\": 37.733333333333334, \"median_AntBev\": 40.4}, {\"Jahr\": \"2018-01-01T00:00:00\", \"Jahr_str\": \"2018-01-01\", \"Bildungsstand\": \"Terti\\u00e4rstufe\", \"mean_AntBev\": 42.33809523809524, \"median_AntBev\": 42.5}, {\"Jahr\": \"2019-01-01T00:00:00\", \"Jahr_str\": \"2019-01-01\", \"Bildungsstand\": \"Obligatorische Schule\", \"mean_AntBev\": 18.76666666666667, \"median_AntBev\": 15.8}, {\"Jahr\": \"2019-01-01T00:00:00\", \"Jahr_str\": \"2019-01-01\", \"Bildungsstand\": \"Sekundarstufe II\", \"mean_AntBev\": 36.93333333333334, \"median_AntBev\": 39.2}, {\"Jahr\": \"2019-01-01T00:00:00\", \"Jahr_str\": \"2019-01-01\", \"Bildungsstand\": \"Terti\\u00e4rstufe\", \"mean_AntBev\": 44.29047619047619, \"median_AntBev\": 44.0}, {\"Jahr\": \"2020-01-01T00:00:00\", \"Jahr_str\": \"2020-01-01\", \"Bildungsstand\": \"Sekundarstufe II\", \"mean_AntBev\": 32.87619047619047, \"median_AntBev\": 31.6}, {\"Jahr\": \"2020-01-01T00:00:00\", \"Jahr_str\": \"2020-01-01\", \"Bildungsstand\": \"Obligatorische Schule\", \"mean_AntBev\": 18.666666666666668, \"median_AntBev\": 17.2}, {\"Jahr\": \"2020-01-01T00:00:00\", \"Jahr_str\": \"2020-01-01\", \"Bildungsstand\": \"Terti\\u00e4rstufe\", \"mean_AntBev\": 48.44285714285714, \"median_AntBev\": 47.8}]}}, {\"mode\": \"vega-lite\"});\n",
       "</script>"
      ],
      "text/plain": [
       "alt.LayerChart(...)"
      ]
     },
     "execution_count": 105,
     "metadata": {},
     "output_type": "execute_result"
    }
   ],
   "source": [
    "myTitle=\"Bildungsstand seit 1970\"\n",
    "\n",
    "highlight = alt.selection(type='single', on='mouseover',\n",
    "                          fields=['Bildungsstand'], nearest=True)\n",
    "#x='date:StichtagDatJahr',\n",
    "base = alt.Chart(myAgg.reset_index().query('mean_AntBev>0'), title=myTitle).encode(\n",
    "    x=alt.X('Jahr', axis=alt.Axis(title='Jahr'))# , axis=alt.Axis(format='%', title='percentage')\n",
    "    , y=alt.X('mean_AntBev', axis=alt.Axis(title='Ant. Personen'))\n",
    "    , color=alt.Color('Bildungsstand', legend=alt.Legend(title=\"Altersgruppen\", orient=\"right\"))  \n",
    "    ,tooltip=['Jahr_str', 'Bildungsstand','mean_AntBev']    \n",
    ")\n",
    "points = base.mark_circle().encode(\n",
    "    opacity=alt.value(0.75)\n",
    ").add_selection(\n",
    "    highlight\n",
    ").properties(\n",
    "    width=750 , height=350\n",
    ")\n",
    "lines = base.mark_line().encode(\n",
    "    size=alt.condition(~highlight, alt.value(0.5), alt.value(4))\n",
    ").interactive()\n",
    "\n",
    "lines + points"
   ]
  },
  {
   "cell_type": "markdown",
   "metadata": {
    "tags": []
   },
   "source": [
    "#### Barcharts mit Seaborn"
   ]
  },
  {
   "cell_type": "code",
   "execution_count": 106,
   "metadata": {},
   "outputs": [
    {
     "data": {
      "text/plain": [
       "Index(['SexLang', 'AlterLang', 'Bildungsstand', 'AntBev', 'untAntBevKI', 'obAntBevKI', 'Jahr_str'], dtype='object')"
      ]
     },
     "execution_count": 106,
     "metadata": {},
     "output_type": "execute_result"
    }
   ],
   "source": [
    "data2betested.columns"
   ]
  },
  {
   "cell_type": "code",
   "execution_count": 107,
   "metadata": {},
   "outputs": [
    {
     "data": {
      "text/html": [
       "<div>\n",
       "<style scoped>\n",
       "    .dataframe tbody tr th:only-of-type {\n",
       "        vertical-align: middle;\n",
       "    }\n",
       "\n",
       "    .dataframe tbody tr th {\n",
       "        vertical-align: top;\n",
       "    }\n",
       "\n",
       "    .dataframe thead th {\n",
       "        text-align: right;\n",
       "    }\n",
       "</style>\n",
       "<table border=\"1\" class=\"dataframe\">\n",
       "  <thead>\n",
       "    <tr style=\"text-align: right;\">\n",
       "      <th></th>\n",
       "      <th>Jahr</th>\n",
       "      <th>Jahr_str</th>\n",
       "      <th>AlterLang</th>\n",
       "      <th>Bildungsstand</th>\n",
       "      <th>mean_AntBev</th>\n",
       "      <th>median_AntBev</th>\n",
       "    </tr>\n",
       "  </thead>\n",
       "  <tbody>\n",
       "    <tr>\n",
       "      <th>0</th>\n",
       "      <td>2020-01-01</td>\n",
       "      <td>2020-01-01</td>\n",
       "      <td>15 bis 24</td>\n",
       "      <td>Obligatorische Schule</td>\n",
       "      <td>39</td>\n",
       "      <td>39</td>\n",
       "    </tr>\n",
       "    <tr>\n",
       "      <th>1</th>\n",
       "      <td>2020-01-01</td>\n",
       "      <td>2020-01-01</td>\n",
       "      <td>15 bis 24</td>\n",
       "      <td>Sekundarstufe II</td>\n",
       "      <td>45</td>\n",
       "      <td>44</td>\n",
       "    </tr>\n",
       "    <tr>\n",
       "      <th>2</th>\n",
       "      <td>2020-01-01</td>\n",
       "      <td>2020-01-01</td>\n",
       "      <td>15 bis 24</td>\n",
       "      <td>Tertiärstufe</td>\n",
       "      <td>16</td>\n",
       "      <td>16</td>\n",
       "    </tr>\n",
       "  </tbody>\n",
       "</table>\n",
       "</div>"
      ],
      "text/plain": [
       "        Jahr    Jahr_str  AlterLang          Bildungsstand  mean_AntBev  median_AntBev\n",
       "0 2020-01-01  2020-01-01  15 bis 24  Obligatorische Schule           39             39\n",
       "1 2020-01-01  2020-01-01  15 bis 24       Sekundarstufe II           45             44\n",
       "2 2020-01-01  2020-01-01  15 bis 24           Tertiärstufe           16             16"
      ]
     },
     "execution_count": 107,
     "metadata": {},
     "output_type": "execute_result"
    }
   ],
   "source": [
    "myAggBar = data2betested.loc[\"2020\"]\\\n",
    "    .groupby(['Jahr', 'Jahr_str', 'AlterLang', 'Bildungsstand']) \\\n",
    "    .agg(mean_AntBev=('AntBev', 'mean')\n",
    "        ,median_AntBev=('AntBev', 'median')\n",
    "        ) \\\n",
    "    .sort_values('AlterLang', ascending=True) \n",
    "\n",
    "myAggBar.reset_index().head(3)"
   ]
  },
  {
   "cell_type": "code",
   "execution_count": 108,
   "metadata": {},
   "outputs": [],
   "source": [
    "#help(sns.catplot)     "
   ]
  },
  {
   "cell_type": "code",
   "execution_count": 109,
   "metadata": {},
   "outputs": [],
   "source": [
    "#Stile for the following sns graphs\n",
    "sns.set_theme(style=\"whitegrid\")"
   ]
  },
  {
   "cell_type": "code",
   "execution_count": 110,
   "metadata": {},
   "outputs": [
    {
     "data": {
      "text/plain": [
       "<seaborn.axisgrid.FacetGrid at 0x2431c728108>"
      ]
     },
     "execution_count": 110,
     "metadata": {},
     "output_type": "execute_result"
    },
    {
     "data": {
      "image/png": "[encoded data removed]",
      "text/plain": [
       "<Figure size 817.85x360 with 1 Axes>"
      ]
     },
     "metadata": {},
     "output_type": "display_data"
    }
   ],
   "source": [
    "#sns.color_palette(\"flare\", as_cmap=True)\n",
    "myHist = sns.catplot(x=\"Bildungsstand\"\n",
    "            , y=\"mean_AntBev\"\n",
    "            , hue=\"AlterLang\"\n",
    "            , kind=\"bar\" #boxen, violin, --> wenn die aggregation nicht genau den werten in der grafik entspricht\n",
    "            , palette=\"pastel\" #, color=\"green\"\n",
    "            , height=5\n",
    "            , aspect=2\n",
    "            , order=None, legend_out=True\n",
    "            ,data=myAggBar.reset_index()\n",
    "           )\n",
    "myHist.set_xlabels('Altersgruppe', fontsize=11) # not set_label\n",
    "myHist.set_ylabels('Ant. Pers.', fontsize=11)\n"
   ]
  },
  {
   "cell_type": "code",
   "execution_count": 111,
   "metadata": {},
   "outputs": [],
   "source": [
    "#data2betested.dtypes"
   ]
  },
  {
   "cell_type": "code",
   "execution_count": 112,
   "metadata": {},
   "outputs": [
    {
     "data": {
      "text/html": [
       "<div>\n",
       "<style scoped>\n",
       "    .dataframe tbody tr th:only-of-type {\n",
       "        vertical-align: middle;\n",
       "    }\n",
       "\n",
       "    .dataframe tbody tr th {\n",
       "        vertical-align: top;\n",
       "    }\n",
       "\n",
       "    .dataframe thead th {\n",
       "        text-align: right;\n",
       "    }\n",
       "</style>\n",
       "<table border=\"1\" class=\"dataframe\">\n",
       "  <thead>\n",
       "    <tr style=\"text-align: right;\">\n",
       "      <th></th>\n",
       "      <th>Jahr</th>\n",
       "      <th>Jahr_str</th>\n",
       "      <th>SexLang</th>\n",
       "      <th>AlterLang</th>\n",
       "      <th>Bildungsstand</th>\n",
       "      <th>mean_AntBev</th>\n",
       "      <th>median_AntBev</th>\n",
       "    </tr>\n",
       "  </thead>\n",
       "  <tbody>\n",
       "    <tr>\n",
       "      <th>0</th>\n",
       "      <td>1970-01-01</td>\n",
       "      <td>1970-01-01</td>\n",
       "      <td>Frauen</td>\n",
       "      <td>15 bis 24</td>\n",
       "      <td>Obligatorische Schule</td>\n",
       "      <td>37</td>\n",
       "      <td>37</td>\n",
       "    </tr>\n",
       "    <tr>\n",
       "      <th>1</th>\n",
       "      <td>1970-01-01</td>\n",
       "      <td>1970-01-01</td>\n",
       "      <td>Männer</td>\n",
       "      <td>55 bis 64</td>\n",
       "      <td>Sekundarstufe II</td>\n",
       "      <td>72</td>\n",
       "      <td>72</td>\n",
       "    </tr>\n",
       "    <tr>\n",
       "      <th>2</th>\n",
       "      <td>1970-01-01</td>\n",
       "      <td>1970-01-01</td>\n",
       "      <td>Männer</td>\n",
       "      <td>55 bis 64</td>\n",
       "      <td>Tertiärstufe</td>\n",
       "      <td>12</td>\n",
       "      <td>12</td>\n",
       "    </tr>\n",
       "  </tbody>\n",
       "</table>\n",
       "</div>"
      ],
      "text/plain": [
       "        Jahr    Jahr_str SexLang  AlterLang          Bildungsstand  mean_AntBev  median_AntBev\n",
       "0 1970-01-01  1970-01-01  Frauen  15 bis 24  Obligatorische Schule           37             37\n",
       "1 1970-01-01  1970-01-01  Männer  55 bis 64       Sekundarstufe II           72             72\n",
       "2 1970-01-01  1970-01-01  Männer  55 bis 64           Tertiärstufe           12             12"
      ]
     },
     "execution_count": 112,
     "metadata": {},
     "output_type": "execute_result"
    }
   ],
   "source": [
    "myAggBar = data2betested\\\n",
    "    .groupby(['Jahr', 'Jahr_str', 'SexLang', 'AlterLang', 'Bildungsstand']) \\\n",
    "    .agg(mean_AntBev=('AntBev', 'mean')\n",
    "        ,median_AntBev=('AntBev', 'median')\n",
    "        ) \\\n",
    "    .sort_values('Jahr', ascending=True) \n",
    "\n",
    "myAggBar.reset_index().head(3)"
   ]
  },
  {
   "cell_type": "code",
   "execution_count": 113,
   "metadata": {},
   "outputs": [
    {
     "data": {
      "text/plain": [
       "<seaborn.axisgrid.FacetGrid at 0x2431c7d8988>"
      ]
     },
     "execution_count": 113,
     "metadata": {},
     "output_type": "execute_result"
    },
    {
     "data": {
      "image/png": "[encoded data removed]",
      "text/plain": [
       "<Figure size 1010.98x432 with 7 Axes>"
      ]
     },
     "metadata": {},
     "output_type": "display_data"
    }
   ],
   "source": [
    "g2 = sns.FacetGrid(myAggBar.loc[\"2000\":\"2020\"].query('SexLang ==\"Frauen\"').sort_values('AlterLang', ascending=True).reset_index(), col=\"AlterLang\", hue=\"Bildungsstand\", col_wrap=4, height=3,)\n",
    "g2.map(sns.lineplot, \"Jahr_str\",\"mean_AntBev\",alpha=.8)\n",
    "\n",
    "g2.add_legend()\n"
   ]
  },
  {
   "cell_type": "markdown",
   "metadata": {},
   "source": [
    "### Daten in interaktiver Treemap zeigen\n",
    "Dazu gibt es eine sehr nützliche Webseite https://plotly.com/python/treemaps/\n",
    "Zu Farbskalen, siehe: https://plotly.com/python/builtin-colorscales/"
   ]
  },
  {
   "cell_type": "markdown",
   "metadata": {},
   "source": [
    "#### Aktueller Bestand "
   ]
  },
  {
   "cell_type": "code",
   "execution_count": 114,
   "metadata": {},
   "outputs": [
    {
     "data": {
      "text/plain": [
       "Index(['SexLang', 'AlterLang', 'Bildungsstand', 'AntBev', 'untAntBevKI', 'obAntBevKI', 'Jahr_str'], dtype='object')"
      ]
     },
     "execution_count": 114,
     "metadata": {},
     "output_type": "execute_result"
    }
   ],
   "source": [
    "data2betested.columns"
   ]
  },
  {
   "cell_type": "code",
   "execution_count": 115,
   "metadata": {
    "tags": []
   },
   "outputs": [
    {
     "data": {
      "text/html": [
       "<div>\n",
       "<style scoped>\n",
       "    .dataframe tbody tr th:only-of-type {\n",
       "        vertical-align: middle;\n",
       "    }\n",
       "\n",
       "    .dataframe tbody tr th {\n",
       "        vertical-align: top;\n",
       "    }\n",
       "\n",
       "    .dataframe thead th {\n",
       "        text-align: right;\n",
       "    }\n",
       "</style>\n",
       "<table border=\"1\" class=\"dataframe\">\n",
       "  <thead>\n",
       "    <tr style=\"text-align: right;\">\n",
       "      <th></th>\n",
       "      <th>Jahr</th>\n",
       "      <th>Jahr_str</th>\n",
       "      <th>SexLang</th>\n",
       "      <th>AlterLang</th>\n",
       "      <th>Bildungsstand</th>\n",
       "      <th>mean_AntBev</th>\n",
       "      <th>median_AntBev</th>\n",
       "    </tr>\n",
       "  </thead>\n",
       "  <tbody>\n",
       "    <tr>\n",
       "      <th>0</th>\n",
       "      <td>2020-01-01</td>\n",
       "      <td>2020-01-01</td>\n",
       "      <td>Frauen</td>\n",
       "      <td>15 bis 24</td>\n",
       "      <td>Obligatorische Schule</td>\n",
       "      <td>37</td>\n",
       "      <td>37</td>\n",
       "    </tr>\n",
       "    <tr>\n",
       "      <th>1</th>\n",
       "      <td>2020-01-01</td>\n",
       "      <td>2020-01-01</td>\n",
       "      <td>Männer</td>\n",
       "      <td>55 bis 64</td>\n",
       "      <td>Obligatorische Schule</td>\n",
       "      <td>21</td>\n",
       "      <td>21</td>\n",
       "    </tr>\n",
       "    <tr>\n",
       "      <th>2</th>\n",
       "      <td>2020-01-01</td>\n",
       "      <td>2020-01-01</td>\n",
       "      <td>Männer</td>\n",
       "      <td>55 bis 64</td>\n",
       "      <td>Sekundarstufe II</td>\n",
       "      <td>28</td>\n",
       "      <td>28</td>\n",
       "    </tr>\n",
       "  </tbody>\n",
       "</table>\n",
       "</div>"
      ],
      "text/plain": [
       "        Jahr    Jahr_str SexLang  AlterLang          Bildungsstand  mean_AntBev  median_AntBev\n",
       "0 2020-01-01  2020-01-01  Frauen  15 bis 24  Obligatorische Schule           37             37\n",
       "1 2020-01-01  2020-01-01  Männer  55 bis 64  Obligatorische Schule           21             21\n",
       "2 2020-01-01  2020-01-01  Männer  55 bis 64       Sekundarstufe II           28             28"
      ]
     },
     "execution_count": 115,
     "metadata": {},
     "output_type": "execute_result"
    }
   ],
   "source": [
    "myTreemapAgg = data2betested.loc[\"2020\"]  \\\n",
    "    .groupby(['Jahr', 'Jahr_str','SexLang', 'AlterLang', 'Bildungsstand']) \\\n",
    "    .agg(mean_AntBev=('AntBev', 'mean')\n",
    "        ,median_AntBev=('AntBev', 'median')\n",
    "        ) \\\n",
    "    .sort_values('Jahr', ascending=True) \n",
    "\n",
    "myTreemapAgg.reset_index().head(3)"
   ]
  },
  {
   "cell_type": "code",
   "execution_count": 116,
   "metadata": {},
   "outputs": [
    {
     "data": {
      "application/vnd.plotly.v1+json": {
       "config": {
        "plotlyServerURL": "https://plot.ly"
       },
       "data": [
        {
         "branchvalues": "total",
         "customdata": [
          [
           37.1
          ],
          [
           41.1
          ],
          [
           39.2
          ],
          [
           6
          ],
          [
           6.8
          ],
          [
           6.400000000000001
          ],
          [
           7.8
          ],
          [
           9.3
          ],
          [
           8.5
          ],
          [
           17.2
          ],
          [
           13.7
          ],
          [
           15.400000000000002
          ],
          [
           21.3
          ],
          [
           21.2
          ],
          [
           21.2
          ],
          [
           22.6
          ],
          [
           12.4
          ],
          [
           17.9
          ],
          [
           30
          ],
          [
           13.4
          ],
          [
           23.5
          ],
          [
           45.9
          ],
          [
           43.2
          ],
          [
           44.5
          ],
          [
           17
          ],
          [
           17.2
          ],
          [
           17.1
          ],
          [
           20.6
          ],
          [
           20.7
          ],
          [
           20.7
          ],
          [
           24.4
          ],
          [
           25.2
          ],
          [
           24.899999999999995
          ],
          [
           34.9
          ],
          [
           28.2
          ],
          [
           31.6
          ],
          [
           45.8
          ],
          [
           39.8
          ],
          [
           43
          ],
          [
           49.2
          ],
          [
           47.8
          ],
          [
           48.699999999999996
          ],
          [
           17
          ],
          [
           15.6
          ],
          [
           16.3
          ],
          [
           77
          ],
          [
           76
          ],
          [
           76.5
          ],
          [
           71.6
          ],
          [
           70
          ],
          [
           70.8
          ],
          [
           58.4
          ],
          [
           61
          ],
          [
           59.8
          ],
          [
           43.7
          ],
          [
           50.6
          ],
          [
           47.2
          ],
          [
           31.6
          ],
          [
           47.8
          ],
          [
           39.1
          ],
          [
           20.7
          ],
          [
           38.8
          ],
          [
           27.8
          ],
          [
           37.7222
          ],
          [
           38.02612612612613
          ],
          [
           37.8258
          ],
          [
           62.54
          ],
          [
           61.1808
          ],
          [
           61.8562
          ],
          [
           56.117599999999996
          ],
          [
           54.1498
          ],
          [
           55.133799999999994
          ],
          [
           43.0176
          ],
          [
           45.48278278278278
          ],
          [
           44.28781218781218
          ],
          [
           35.84974974974975
          ],
          [
           38.050399999999996
          ],
          [
           36.7584
          ],
          [
           36.0696
          ],
          [
           40.22639999999999
          ],
          [
           36.982200000000006
          ],
          [
           37.52882882882883
          ],
          [
           39.69839999999999
          ],
          [
           36.967800000000004
          ],
          [
           44.12292083452414
          ],
          [
           45.26024578450987
          ],
          [
           44.258863019568636
          ],
          [
           44.54730199552318
          ],
          [
           44.54730199552318
          ]
         ],
         "domain": {
          "x": [
           0,
           1
          ],
          "y": [
           0,
           1
          ]
         },
         "hovertemplate": "labels=%{label}<br>mean_AntBev_sum=%{value}<br>parent=%{parent}<br>id=%{id}<br>mean_AntBev=%{color}<extra></extra>",
         "ids": [
          "Bildungsstand seit 1970/2020-01-01/Frauen/15 bis 24/Obligatorische Schule",
          "Bildungsstand seit 1970/2020-01-01/Männer/15 bis 24/Obligatorische Schule",
          "Bildungsstand seit 1970/2020-01-01/Total/15 bis 24/Obligatorische Schule",
          "Bildungsstand seit 1970/2020-01-01/Frauen/25 bis 34/Obligatorische Schule",
          "Bildungsstand seit 1970/2020-01-01/Männer/25 bis 34/Obligatorische Schule",
          "Bildungsstand seit 1970/2020-01-01/Total/25 bis 34/Obligatorische Schule",
          "Bildungsstand seit 1970/2020-01-01/Frauen/35 bis 44/Obligatorische Schule",
          "Bildungsstand seit 1970/2020-01-01/Männer/35 bis 44/Obligatorische Schule",
          "Bildungsstand seit 1970/2020-01-01/Total/35 bis 44/Obligatorische Schule",
          "Bildungsstand seit 1970/2020-01-01/Frauen/45 bis 54/Obligatorische Schule",
          "Bildungsstand seit 1970/2020-01-01/Männer/45 bis 54/Obligatorische Schule",
          "Bildungsstand seit 1970/2020-01-01/Total/45 bis 54/Obligatorische Schule",
          "Bildungsstand seit 1970/2020-01-01/Frauen/55 bis 64/Obligatorische Schule",
          "Bildungsstand seit 1970/2020-01-01/Männer/55 bis 64/Obligatorische Schule",
          "Bildungsstand seit 1970/2020-01-01/Total/55 bis 64/Obligatorische Schule",
          "Bildungsstand seit 1970/2020-01-01/Frauen/65 bis 74/Obligatorische Schule",
          "Bildungsstand seit 1970/2020-01-01/Männer/65 bis 74/Obligatorische Schule",
          "Bildungsstand seit 1970/2020-01-01/Total/65 bis 74/Obligatorische Schule",
          "Bildungsstand seit 1970/2020-01-01/Frauen/75 und älter/Obligatorische Schule",
          "Bildungsstand seit 1970/2020-01-01/Männer/75 und älter/Obligatorische Schule",
          "Bildungsstand seit 1970/2020-01-01/Total/75 und älter/Obligatorische Schule",
          "Bildungsstand seit 1970/2020-01-01/Frauen/15 bis 24/Sekundarstufe II",
          "Bildungsstand seit 1970/2020-01-01/Männer/15 bis 24/Sekundarstufe II",
          "Bildungsstand seit 1970/2020-01-01/Total/15 bis 24/Sekundarstufe II",
          "Bildungsstand seit 1970/2020-01-01/Frauen/25 bis 34/Sekundarstufe II",
          "Bildungsstand seit 1970/2020-01-01/Männer/25 bis 34/Sekundarstufe II",
          "Bildungsstand seit 1970/2020-01-01/Total/25 bis 34/Sekundarstufe II",
          "Bildungsstand seit 1970/2020-01-01/Frauen/35 bis 44/Sekundarstufe II",
          "Bildungsstand seit 1970/2020-01-01/Männer/35 bis 44/Sekundarstufe II",
          "Bildungsstand seit 1970/2020-01-01/Total/35 bis 44/Sekundarstufe II",
          "Bildungsstand seit 1970/2020-01-01/Frauen/45 bis 54/Sekundarstufe II",
          "Bildungsstand seit 1970/2020-01-01/Männer/45 bis 54/Sekundarstufe II",
          "Bildungsstand seit 1970/2020-01-01/Total/45 bis 54/Sekundarstufe II",
          "Bildungsstand seit 1970/2020-01-01/Frauen/55 bis 64/Sekundarstufe II",
          "Bildungsstand seit 1970/2020-01-01/Männer/55 bis 64/Sekundarstufe II",
          "Bildungsstand seit 1970/2020-01-01/Total/55 bis 64/Sekundarstufe II",
          "Bildungsstand seit 1970/2020-01-01/Frauen/65 bis 74/Sekundarstufe II",
          "Bildungsstand seit 1970/2020-01-01/Männer/65 bis 74/Sekundarstufe II",
          "Bildungsstand seit 1970/2020-01-01/Total/65 bis 74/Sekundarstufe II",
          "Bildungsstand seit 1970/2020-01-01/Frauen/75 und älter/Sekundarstufe II",
          "Bildungsstand seit 1970/2020-01-01/Männer/75 und älter/Sekundarstufe II",
          "Bildungsstand seit 1970/2020-01-01/Total/75 und älter/Sekundarstufe II",
          "Bildungsstand seit 1970/2020-01-01/Frauen/15 bis 24/Tertiärstufe",
          "Bildungsstand seit 1970/2020-01-01/Männer/15 bis 24/Tertiärstufe",
          "Bildungsstand seit 1970/2020-01-01/Total/15 bis 24/Tertiärstufe",
          "Bildungsstand seit 1970/2020-01-01/Frauen/25 bis 34/Tertiärstufe",
          "Bildungsstand seit 1970/2020-01-01/Männer/25 bis 34/Tertiärstufe",
          "Bildungsstand seit 1970/2020-01-01/Total/25 bis 34/Tertiärstufe",
          "Bildungsstand seit 1970/2020-01-01/Frauen/35 bis 44/Tertiärstufe",
          "Bildungsstand seit 1970/2020-01-01/Männer/35 bis 44/Tertiärstufe",
          "Bildungsstand seit 1970/2020-01-01/Total/35 bis 44/Tertiärstufe",
          "Bildungsstand seit 1970/2020-01-01/Frauen/45 bis 54/Tertiärstufe",
          "Bildungsstand seit 1970/2020-01-01/Männer/45 bis 54/Tertiärstufe",
          "Bildungsstand seit 1970/2020-01-01/Total/45 bis 54/Tertiärstufe",
          "Bildungsstand seit 1970/2020-01-01/Frauen/55 bis 64/Tertiärstufe",
          "Bildungsstand seit 1970/2020-01-01/Männer/55 bis 64/Tertiärstufe",
          "Bildungsstand seit 1970/2020-01-01/Total/55 bis 64/Tertiärstufe",
          "Bildungsstand seit 1970/2020-01-01/Frauen/65 bis 74/Tertiärstufe",
          "Bildungsstand seit 1970/2020-01-01/Männer/65 bis 74/Tertiärstufe",
          "Bildungsstand seit 1970/2020-01-01/Total/65 bis 74/Tertiärstufe",
          "Bildungsstand seit 1970/2020-01-01/Frauen/75 und älter/Tertiärstufe",
          "Bildungsstand seit 1970/2020-01-01/Männer/75 und älter/Tertiärstufe",
          "Bildungsstand seit 1970/2020-01-01/Total/75 und älter/Tertiärstufe",
          "Bildungsstand seit 1970/2020-01-01/Frauen/15 bis 24",
          "Bildungsstand seit 1970/2020-01-01/Männer/15 bis 24",
          "Bildungsstand seit 1970/2020-01-01/Total/15 bis 24",
          "Bildungsstand seit 1970/2020-01-01/Frauen/25 bis 34",
          "Bildungsstand seit 1970/2020-01-01/Männer/25 bis 34",
          "Bildungsstand seit 1970/2020-01-01/Total/25 bis 34",
          "Bildungsstand seit 1970/2020-01-01/Frauen/35 bis 44",
          "Bildungsstand seit 1970/2020-01-01/Männer/35 bis 44",
          "Bildungsstand seit 1970/2020-01-01/Total/35 bis 44",
          "Bildungsstand seit 1970/2020-01-01/Frauen/45 bis 54",
          "Bildungsstand seit 1970/2020-01-01/Männer/45 bis 54",
          "Bildungsstand seit 1970/2020-01-01/Total/45 bis 54",
          "Bildungsstand seit 1970/2020-01-01/Frauen/55 bis 64",
          "Bildungsstand seit 1970/2020-01-01/Männer/55 bis 64",
          "Bildungsstand seit 1970/2020-01-01/Total/55 bis 64",
          "Bildungsstand seit 1970/2020-01-01/Frauen/65 bis 74",
          "Bildungsstand seit 1970/2020-01-01/Männer/65 bis 74",
          "Bildungsstand seit 1970/2020-01-01/Total/65 bis 74",
          "Bildungsstand seit 1970/2020-01-01/Frauen/75 und älter",
          "Bildungsstand seit 1970/2020-01-01/Männer/75 und älter",
          "Bildungsstand seit 1970/2020-01-01/Total/75 und älter",
          "Bildungsstand seit 1970/2020-01-01/Frauen",
          "Bildungsstand seit 1970/2020-01-01/Männer",
          "Bildungsstand seit 1970/2020-01-01/Total",
          "Bildungsstand seit 1970/2020-01-01",
          "Bildungsstand seit 1970"
         ],
         "labels": [
          "Obligatorische Schule",
          "Obligatorische Schule",
          "Obligatorische Schule",
          "Obligatorische Schule",
          "Obligatorische Schule",
          "Obligatorische Schule",
          "Obligatorische Schule",
          "Obligatorische Schule",
          "Obligatorische Schule",
          "Obligatorische Schule",
          "Obligatorische Schule",
          "Obligatorische Schule",
          "Obligatorische Schule",
          "Obligatorische Schule",
          "Obligatorische Schule",
          "Obligatorische Schule",
          "Obligatorische Schule",
          "Obligatorische Schule",
          "Obligatorische Schule",
          "Obligatorische Schule",
          "Obligatorische Schule",
          "Sekundarstufe II",
          "Sekundarstufe II",
          "Sekundarstufe II",
          "Sekundarstufe II",
          "Sekundarstufe II",
          "Sekundarstufe II",
          "Sekundarstufe II",
          "Sekundarstufe II",
          "Sekundarstufe II",
          "Sekundarstufe II",
          "Sekundarstufe II",
          "Sekundarstufe II",
          "Sekundarstufe II",
          "Sekundarstufe II",
          "Sekundarstufe II",
          "Sekundarstufe II",
          "Sekundarstufe II",
          "Sekundarstufe II",
          "Sekundarstufe II",
          "Sekundarstufe II",
          "Sekundarstufe II",
          "Tertiärstufe",
          "Tertiärstufe",
          "Tertiärstufe",
          "Tertiärstufe",
          "Tertiärstufe",
          "Tertiärstufe",
          "Tertiärstufe",
          "Tertiärstufe",
          "Tertiärstufe",
          "Tertiärstufe",
          "Tertiärstufe",
          "Tertiärstufe",
          "Tertiärstufe",
          "Tertiärstufe",
          "Tertiärstufe",
          "Tertiärstufe",
          "Tertiärstufe",
          "Tertiärstufe",
          "Tertiärstufe",
          "Tertiärstufe",
          "Tertiärstufe",
          "15 bis 24",
          "15 bis 24",
          "15 bis 24",
          "25 bis 34",
          "25 bis 34",
          "25 bis 34",
          "35 bis 44",
          "35 bis 44",
          "35 bis 44",
          "45 bis 54",
          "45 bis 54",
          "45 bis 54",
          "55 bis 64",
          "55 bis 64",
          "55 bis 64",
          "65 bis 74",
          "65 bis 74",
          "65 bis 74",
          "75 und älter",
          "75 und älter",
          "75 und älter",
          "Frauen",
          "Männer",
          "Total",
          "2020-01-01",
          "Bildungsstand seit 1970"
         ],
         "marker": {
          "coloraxis": "coloraxis",
          "colors": [
           37.1,
           41.1,
           39.2,
           6,
           6.8,
           6.400000000000001,
           7.8,
           9.3,
           8.5,
           17.2,
           13.7,
           15.400000000000002,
           21.3,
           21.2,
           21.2,
           22.6,
           12.4,
           17.9,
           30,
           13.4,
           23.5,
           45.9,
           43.2,
           44.5,
           17,
           17.2,
           17.1,
           20.6,
           20.7,
           20.7,
           24.4,
           25.2,
           24.899999999999995,
           34.9,
           28.2,
           31.6,
           45.8,
           39.8,
           43,
           49.2,
           47.8,
           48.699999999999996,
           17,
           15.6,
           16.3,
           77,
           76,
           76.5,
           71.6,
           70,
           70.8,
           58.4,
           61,
           59.8,
           43.7,
           50.6,
           47.2,
           31.6,
           47.8,
           39.1,
           20.7,
           38.8,
           27.8,
           37.7222,
           38.02612612612613,
           37.8258,
           62.54,
           61.1808,
           61.8562,
           56.117599999999996,
           54.1498,
           55.133799999999994,
           43.0176,
           45.48278278278278,
           44.28781218781218,
           35.84974974974975,
           38.050399999999996,
           36.7584,
           36.0696,
           40.22639999999999,
           36.982200000000006,
           37.52882882882883,
           39.69839999999999,
           36.967800000000004,
           44.12292083452414,
           45.26024578450987,
           44.258863019568636,
           44.54730199552318,
           44.54730199552318
          ]
         },
         "name": "",
         "parents": [
          "Bildungsstand seit 1970/2020-01-01/Frauen/15 bis 24",
          "Bildungsstand seit 1970/2020-01-01/Männer/15 bis 24",
          "Bildungsstand seit 1970/2020-01-01/Total/15 bis 24",
          "Bildungsstand seit 1970/2020-01-01/Frauen/25 bis 34",
          "Bildungsstand seit 1970/2020-01-01/Männer/25 bis 34",
          "Bildungsstand seit 1970/2020-01-01/Total/25 bis 34",
          "Bildungsstand seit 1970/2020-01-01/Frauen/35 bis 44",
          "Bildungsstand seit 1970/2020-01-01/Männer/35 bis 44",
          "Bildungsstand seit 1970/2020-01-01/Total/35 bis 44",
          "Bildungsstand seit 1970/2020-01-01/Frauen/45 bis 54",
          "Bildungsstand seit 1970/2020-01-01/Männer/45 bis 54",
          "Bildungsstand seit 1970/2020-01-01/Total/45 bis 54",
          "Bildungsstand seit 1970/2020-01-01/Frauen/55 bis 64",
          "Bildungsstand seit 1970/2020-01-01/Männer/55 bis 64",
          "Bildungsstand seit 1970/2020-01-01/Total/55 bis 64",
          "Bildungsstand seit 1970/2020-01-01/Frauen/65 bis 74",
          "Bildungsstand seit 1970/2020-01-01/Männer/65 bis 74",
          "Bildungsstand seit 1970/2020-01-01/Total/65 bis 74",
          "Bildungsstand seit 1970/2020-01-01/Frauen/75 und älter",
          "Bildungsstand seit 1970/2020-01-01/Männer/75 und älter",
          "Bildungsstand seit 1970/2020-01-01/Total/75 und älter",
          "Bildungsstand seit 1970/2020-01-01/Frauen/15 bis 24",
          "Bildungsstand seit 1970/2020-01-01/Männer/15 bis 24",
          "Bildungsstand seit 1970/2020-01-01/Total/15 bis 24",
          "Bildungsstand seit 1970/2020-01-01/Frauen/25 bis 34",
          "Bildungsstand seit 1970/2020-01-01/Männer/25 bis 34",
          "Bildungsstand seit 1970/2020-01-01/Total/25 bis 34",
          "Bildungsstand seit 1970/2020-01-01/Frauen/35 bis 44",
          "Bildungsstand seit 1970/2020-01-01/Männer/35 bis 44",
          "Bildungsstand seit 1970/2020-01-01/Total/35 bis 44",
          "Bildungsstand seit 1970/2020-01-01/Frauen/45 bis 54",
          "Bildungsstand seit 1970/2020-01-01/Männer/45 bis 54",
          "Bildungsstand seit 1970/2020-01-01/Total/45 bis 54",
          "Bildungsstand seit 1970/2020-01-01/Frauen/55 bis 64",
          "Bildungsstand seit 1970/2020-01-01/Männer/55 bis 64",
          "Bildungsstand seit 1970/2020-01-01/Total/55 bis 64",
          "Bildungsstand seit 1970/2020-01-01/Frauen/65 bis 74",
          "Bildungsstand seit 1970/2020-01-01/Männer/65 bis 74",
          "Bildungsstand seit 1970/2020-01-01/Total/65 bis 74",
          "Bildungsstand seit 1970/2020-01-01/Frauen/75 und älter",
          "Bildungsstand seit 1970/2020-01-01/Männer/75 und älter",
          "Bildungsstand seit 1970/2020-01-01/Total/75 und älter",
          "Bildungsstand seit 1970/2020-01-01/Frauen/15 bis 24",
          "Bildungsstand seit 1970/2020-01-01/Männer/15 bis 24",
          "Bildungsstand seit 1970/2020-01-01/Total/15 bis 24",
          "Bildungsstand seit 1970/2020-01-01/Frauen/25 bis 34",
          "Bildungsstand seit 1970/2020-01-01/Männer/25 bis 34",
          "Bildungsstand seit 1970/2020-01-01/Total/25 bis 34",
          "Bildungsstand seit 1970/2020-01-01/Frauen/35 bis 44",
          "Bildungsstand seit 1970/2020-01-01/Männer/35 bis 44",
          "Bildungsstand seit 1970/2020-01-01/Total/35 bis 44",
          "Bildungsstand seit 1970/2020-01-01/Frauen/45 bis 54",
          "Bildungsstand seit 1970/2020-01-01/Männer/45 bis 54",
          "Bildungsstand seit 1970/2020-01-01/Total/45 bis 54",
          "Bildungsstand seit 1970/2020-01-01/Frauen/55 bis 64",
          "Bildungsstand seit 1970/2020-01-01/Männer/55 bis 64",
          "Bildungsstand seit 1970/2020-01-01/Total/55 bis 64",
          "Bildungsstand seit 1970/2020-01-01/Frauen/65 bis 74",
          "Bildungsstand seit 1970/2020-01-01/Männer/65 bis 74",
          "Bildungsstand seit 1970/2020-01-01/Total/65 bis 74",
          "Bildungsstand seit 1970/2020-01-01/Frauen/75 und älter",
          "Bildungsstand seit 1970/2020-01-01/Männer/75 und älter",
          "Bildungsstand seit 1970/2020-01-01/Total/75 und älter",
          "Bildungsstand seit 1970/2020-01-01/Frauen",
          "Bildungsstand seit 1970/2020-01-01/Männer",
          "Bildungsstand seit 1970/2020-01-01/Total",
          "Bildungsstand seit 1970/2020-01-01/Frauen",
          "Bildungsstand seit 1970/2020-01-01/Männer",
          "Bildungsstand seit 1970/2020-01-01/Total",
          "Bildungsstand seit 1970/2020-01-01/Frauen",
          "Bildungsstand seit 1970/2020-01-01/Männer",
          "Bildungsstand seit 1970/2020-01-01/Total",
          "Bildungsstand seit 1970/2020-01-01/Frauen",
          "Bildungsstand seit 1970/2020-01-01/Männer",
          "Bildungsstand seit 1970/2020-01-01/Total",
          "Bildungsstand seit 1970/2020-01-01/Frauen",
          "Bildungsstand seit 1970/2020-01-01/Männer",
          "Bildungsstand seit 1970/2020-01-01/Total",
          "Bildungsstand seit 1970/2020-01-01/Frauen",
          "Bildungsstand seit 1970/2020-01-01/Männer",
          "Bildungsstand seit 1970/2020-01-01/Total",
          "Bildungsstand seit 1970/2020-01-01/Frauen",
          "Bildungsstand seit 1970/2020-01-01/Männer",
          "Bildungsstand seit 1970/2020-01-01/Total",
          "Bildungsstand seit 1970/2020-01-01",
          "Bildungsstand seit 1970/2020-01-01",
          "Bildungsstand seit 1970/2020-01-01",
          "Bildungsstand seit 1970",
          ""
         ],
         "root": {
          "color": "grey"
         },
         "type": "treemap",
         "values": [
          37.1,
          41.1,
          39.2,
          6,
          6.8,
          6.4,
          7.8,
          9.3,
          8.5,
          17.2,
          13.7,
          15.4,
          21.3,
          21.2,
          21.2,
          22.6,
          12.4,
          17.9,
          30,
          13.4,
          23.5,
          45.9,
          43.2,
          44.5,
          17,
          17.2,
          17.1,
          20.6,
          20.7,
          20.7,
          24.4,
          25.2,
          24.9,
          34.9,
          28.2,
          31.6,
          45.8,
          39.8,
          43,
          49.2,
          47.8,
          48.7,
          17,
          15.6,
          16.3,
          77,
          76,
          76.5,
          71.6,
          70,
          70.8,
          58.4,
          61,
          59.8,
          43.7,
          50.6,
          47.2,
          31.6,
          47.8,
          39.1,
          20.7,
          38.8,
          27.8,
          100,
          99.9,
          100,
          100,
          100,
          100,
          100,
          100,
          100,
          100,
          99.9,
          100.1,
          99.9,
          100,
          100,
          100,
          100,
          100,
          99.9,
          100,
          100,
          699.8,
          699.8,
          700.1,
          2099.7,
          2099.7
         ]
        }
       ],
       "layout": {
        "coloraxis": {
         "colorbar": {
          "title": {
           "text": "mean_AntBev"
          }
         },
         "colorscale": [
          [
           0,
           "rgb(247,251,255)"
          ],
          [
           0.125,
           "rgb(222,235,247)"
          ],
          [
           0.25,
           "rgb(198,219,239)"
          ],
          [
           0.375,
           "rgb(158,202,225)"
          ],
          [
           0.5,
           "rgb(107,174,214)"
          ],
          [
           0.625,
           "rgb(66,146,198)"
          ],
          [
           0.75,
           "rgb(33,113,181)"
          ],
          [
           0.875,
           "rgb(8,81,156)"
          ],
          [
           1,
           "rgb(8,48,107)"
          ]
         ]
        },
        "height": 400,
        "legend": {
         "tracegroupgap": 0
        },
        "margin": {
         "b": 25,
         "l": 25,
         "r": 250,
         "t": 50
        },
        "template": {
         "data": {
          "bar": [
           {
            "error_x": {
             "color": "#2a3f5f"
            },
            "error_y": {
             "color": "#2a3f5f"
            },
            "marker": {
             "line": {
              "color": "#E5ECF6",
              "width": 0.5
             },
             "pattern": {
              "fillmode": "overlay",
              "size": 10,
              "solidity": 0.2
             }
            },
            "type": "bar"
           }
          ],
          "barpolar": [
           {
            "marker": {
             "line": {
              "color": "#E5ECF6",
              "width": 0.5
             },
             "pattern": {
              "fillmode": "overlay",
              "size": 10,
              "solidity": 0.2
             }
            },
            "type": "barpolar"
           }
          ],
          "carpet": [
           {
            "aaxis": {
             "endlinecolor": "#2a3f5f",
             "gridcolor": "white",
             "linecolor": "white",
             "minorgridcolor": "white",
             "startlinecolor": "#2a3f5f"
            },
            "baxis": {
             "endlinecolor": "#2a3f5f",
             "gridcolor": "white",
             "linecolor": "white",
             "minorgridcolor": "white",
             "startlinecolor": "#2a3f5f"
            },
            "type": "carpet"
           }
          ],
          "choropleth": [
           {
            "colorbar": {
             "outlinewidth": 0,
             "ticks": ""
            },
            "type": "choropleth"
           }
          ],
          "contour": [
           {
            "colorbar": {
             "outlinewidth": 0,
             "ticks": ""
            },
            "colorscale": [
             [
              0,
              "#0d0887"
             ],
             [
              0.1111111111111111,
              "#46039f"
             ],
             [
              0.2222222222222222,
              "#7201a8"
             ],
             [
              0.3333333333333333,
              "#9c179e"
             ],
             [
              0.4444444444444444,
              "#bd3786"
             ],
             [
              0.5555555555555556,
              "#d8576b"
             ],
             [
              0.6666666666666666,
              "#ed7953"
             ],
             [
              0.7777777777777778,
              "#fb9f3a"
             ],
             [
              0.8888888888888888,
              "#fdca26"
             ],
             [
              1,
              "#f0f921"
             ]
            ],
            "type": "contour"
           }
          ],
          "contourcarpet": [
           {
            "colorbar": {
             "outlinewidth": 0,
             "ticks": ""
            },
            "type": "contourcarpet"
           }
          ],
          "heatmap": [
           {
            "colorbar": {
             "outlinewidth": 0,
             "ticks": ""
            },
            "colorscale": [
             [
              0,
              "#0d0887"
             ],
             [
              0.1111111111111111,
              "#46039f"
             ],
             [
              0.2222222222222222,
              "#7201a8"
             ],
             [
              0.3333333333333333,
              "#9c179e"
             ],
             [
              0.4444444444444444,
              "#bd3786"
             ],
             [
              0.5555555555555556,
              "#d8576b"
             ],
             [
              0.6666666666666666,
              "#ed7953"
             ],
             [
              0.7777777777777778,
              "#fb9f3a"
             ],
             [
              0.8888888888888888,
              "#fdca26"
             ],
             [
              1,
              "#f0f921"
             ]
            ],
            "type": "heatmap"
           }
          ],
          "heatmapgl": [
           {
            "colorbar": {
             "outlinewidth": 0,
             "ticks": ""
            },
            "colorscale": [
             [
              0,
              "#0d0887"
             ],
             [
              0.1111111111111111,
              "#46039f"
             ],
             [
              0.2222222222222222,
              "#7201a8"
             ],
             [
              0.3333333333333333,
              "#9c179e"
             ],
             [
              0.4444444444444444,
              "#bd3786"
             ],
             [
              0.5555555555555556,
              "#d8576b"
             ],
             [
              0.6666666666666666,
              "#ed7953"
             ],
             [
              0.7777777777777778,
              "#fb9f3a"
             ],
             [
              0.8888888888888888,
              "#fdca26"
             ],
             [
              1,
              "#f0f921"
             ]
            ],
            "type": "heatmapgl"
           }
          ],
          "histogram": [
           {
            "marker": {
             "pattern": {
              "fillmode": "overlay",
              "size": 10,
              "solidity": 0.2
             }
            },
            "type": "histogram"
           }
          ],
          "histogram2d": [
           {
            "colorbar": {
             "outlinewidth": 0,
             "ticks": ""
            },
            "colorscale": [
             [
              0,
              "#0d0887"
             ],
             [
              0.1111111111111111,
              "#46039f"
             ],
             [
              0.2222222222222222,
              "#7201a8"
             ],
             [
              0.3333333333333333,
              "#9c179e"
             ],
             [
              0.4444444444444444,
              "#bd3786"
             ],
             [
              0.5555555555555556,
              "#d8576b"
             ],
             [
              0.6666666666666666,
              "#ed7953"
             ],
             [
              0.7777777777777778,
              "#fb9f3a"
             ],
             [
              0.8888888888888888,
              "#fdca26"
             ],
             [
              1,
              "#f0f921"
             ]
            ],
            "type": "histogram2d"
           }
          ],
          "histogram2dcontour": [
           {
            "colorbar": {
             "outlinewidth": 0,
             "ticks": ""
            },
            "colorscale": [
             [
              0,
              "#0d0887"
             ],
             [
              0.1111111111111111,
              "#46039f"
             ],
             [
              0.2222222222222222,
              "#7201a8"
             ],
             [
              0.3333333333333333,
              "#9c179e"
             ],
             [
              0.4444444444444444,
              "#bd3786"
             ],
             [
              0.5555555555555556,
              "#d8576b"
             ],
             [
              0.6666666666666666,
              "#ed7953"
             ],
             [
              0.7777777777777778,
              "#fb9f3a"
             ],
             [
              0.8888888888888888,
              "#fdca26"
             ],
             [
              1,
              "#f0f921"
             ]
            ],
            "type": "histogram2dcontour"
           }
          ],
          "mesh3d": [
           {
            "colorbar": {
             "outlinewidth": 0,
             "ticks": ""
            },
            "type": "mesh3d"
           }
          ],
          "parcoords": [
           {
            "line": {
             "colorbar": {
              "outlinewidth": 0,
              "ticks": ""
             }
            },
            "type": "parcoords"
           }
          ],
          "pie": [
           {
            "automargin": true,
            "type": "pie"
           }
          ],
          "scatter": [
           {
            "marker": {
             "colorbar": {
              "outlinewidth": 0,
              "ticks": ""
             }
            },
            "type": "scatter"
           }
          ],
          "scatter3d": [
           {
            "line": {
             "colorbar": {
              "outlinewidth": 0,
              "ticks": ""
             }
            },
            "marker": {
             "colorbar": {
              "outlinewidth": 0,
              "ticks": ""
             }
            },
            "type": "scatter3d"
           }
          ],
          "scattercarpet": [
           {
            "marker": {
             "colorbar": {
              "outlinewidth": 0,
              "ticks": ""
             }
            },
            "type": "scattercarpet"
           }
          ],
          "scattergeo": [
           {
            "marker": {
             "colorbar": {
              "outlinewidth": 0,
              "ticks": ""
             }
            },
            "type": "scattergeo"
           }
          ],
          "scattergl": [
           {
            "marker": {
             "colorbar": {
              "outlinewidth": 0,
              "ticks": ""
             }
            },
            "type": "scattergl"
           }
          ],
          "scattermapbox": [
           {
            "marker": {
             "colorbar": {
              "outlinewidth": 0,
              "ticks": ""
             }
            },
            "type": "scattermapbox"
           }
          ],
          "scatterpolar": [
           {
            "marker": {
             "colorbar": {
              "outlinewidth": 0,
              "ticks": ""
             }
            },
            "type": "scatterpolar"
           }
          ],
          "scatterpolargl": [
           {
            "marker": {
             "colorbar": {
              "outlinewidth": 0,
              "ticks": ""
             }
            },
            "type": "scatterpolargl"
           }
          ],
          "scatterternary": [
           {
            "marker": {
             "colorbar": {
              "outlinewidth": 0,
              "ticks": ""
             }
            },
            "type": "scatterternary"
           }
          ],
          "surface": [
           {
            "colorbar": {
             "outlinewidth": 0,
             "ticks": ""
            },
            "colorscale": [
             [
              0,
              "#0d0887"
             ],
             [
              0.1111111111111111,
              "#46039f"
             ],
             [
              0.2222222222222222,
              "#7201a8"
             ],
             [
              0.3333333333333333,
              "#9c179e"
             ],
             [
              0.4444444444444444,
              "#bd3786"
             ],
             [
              0.5555555555555556,
              "#d8576b"
             ],
             [
              0.6666666666666666,
              "#ed7953"
             ],
             [
              0.7777777777777778,
              "#fb9f3a"
             ],
             [
              0.8888888888888888,
              "#fdca26"
             ],
             [
              1,
              "#f0f921"
             ]
            ],
            "type": "surface"
           }
          ],
          "table": [
           {
            "cells": {
             "fill": {
              "color": "#EBF0F8"
             },
             "line": {
              "color": "white"
             }
            },
            "header": {
             "fill": {
              "color": "#C8D4E3"
             },
             "line": {
              "color": "white"
             }
            },
            "type": "table"
           }
          ]
         },
         "layout": {
          "annotationdefaults": {
           "arrowcolor": "#2a3f5f",
           "arrowhead": 0,
           "arrowwidth": 1
          },
          "autotypenumbers": "strict",
          "coloraxis": {
           "colorbar": {
            "outlinewidth": 0,
            "ticks": ""
           }
          },
          "colorscale": {
           "diverging": [
            [
             0,
             "#8e0152"
            ],
            [
             0.1,
             "#c51b7d"
            ],
            [
             0.2,
             "#de77ae"
            ],
            [
             0.3,
             "#f1b6da"
            ],
            [
             0.4,
             "#fde0ef"
            ],
            [
             0.5,
             "#f7f7f7"
            ],
            [
             0.6,
             "#e6f5d0"
            ],
            [
             0.7,
             "#b8e186"
            ],
            [
             0.8,
             "#7fbc41"
            ],
            [
             0.9,
             "#4d9221"
            ],
            [
             1,
             "#276419"
            ]
           ],
           "sequential": [
            [
             0,
             "#0d0887"
            ],
            [
             0.1111111111111111,
             "#46039f"
            ],
            [
             0.2222222222222222,
             "#7201a8"
            ],
            [
             0.3333333333333333,
             "#9c179e"
            ],
            [
             0.4444444444444444,
             "#bd3786"
            ],
            [
             0.5555555555555556,
             "#d8576b"
            ],
            [
             0.6666666666666666,
             "#ed7953"
            ],
            [
             0.7777777777777778,
             "#fb9f3a"
            ],
            [
             0.8888888888888888,
             "#fdca26"
            ],
            [
             1,
             "#f0f921"
            ]
           ],
           "sequentialminus": [
            [
             0,
             "#0d0887"
            ],
            [
             0.1111111111111111,
             "#46039f"
            ],
            [
             0.2222222222222222,
             "#7201a8"
            ],
            [
             0.3333333333333333,
             "#9c179e"
            ],
            [
             0.4444444444444444,
             "#bd3786"
            ],
            [
             0.5555555555555556,
             "#d8576b"
            ],
            [
             0.6666666666666666,
             "#ed7953"
            ],
            [
             0.7777777777777778,
             "#fb9f3a"
            ],
            [
             0.8888888888888888,
             "#fdca26"
            ],
            [
             1,
             "#f0f921"
            ]
           ]
          },
          "colorway": [
           "#636efa",
           "#EF553B",
           "#00cc96",
           "#ab63fa",
           "#FFA15A",
           "#19d3f3",
           "#FF6692",
           "#B6E880",
           "#FF97FF",
           "#FECB52"
          ],
          "font": {
           "color": "#2a3f5f"
          },
          "geo": {
           "bgcolor": "white",
           "lakecolor": "white",
           "landcolor": "#E5ECF6",
           "showlakes": true,
           "showland": true,
           "subunitcolor": "white"
          },
          "hoverlabel": {
           "align": "left"
          },
          "hovermode": "closest",
          "mapbox": {
           "style": "light"
          },
          "paper_bgcolor": "white",
          "plot_bgcolor": "#E5ECF6",
          "polar": {
           "angularaxis": {
            "gridcolor": "white",
            "linecolor": "white",
            "ticks": ""
           },
           "bgcolor": "#E5ECF6",
           "radialaxis": {
            "gridcolor": "white",
            "linecolor": "white",
            "ticks": ""
           }
          },
          "scene": {
           "xaxis": {
            "backgroundcolor": "#E5ECF6",
            "gridcolor": "white",
            "gridwidth": 2,
            "linecolor": "white",
            "showbackground": true,
            "ticks": "",
            "zerolinecolor": "white"
           },
           "yaxis": {
            "backgroundcolor": "#E5ECF6",
            "gridcolor": "white",
            "gridwidth": 2,
            "linecolor": "white",
            "showbackground": true,
            "ticks": "",
            "zerolinecolor": "white"
           },
           "zaxis": {
            "backgroundcolor": "#E5ECF6",
            "gridcolor": "white",
            "gridwidth": 2,
            "linecolor": "white",
            "showbackground": true,
            "ticks": "",
            "zerolinecolor": "white"
           }
          },
          "shapedefaults": {
           "line": {
            "color": "#2a3f5f"
           }
          },
          "ternary": {
           "aaxis": {
            "gridcolor": "white",
            "linecolor": "white",
            "ticks": ""
           },
           "baxis": {
            "gridcolor": "white",
            "linecolor": "white",
            "ticks": ""
           },
           "bgcolor": "#E5ECF6",
           "caxis": {
            "gridcolor": "white",
            "linecolor": "white",
            "ticks": ""
           }
          },
          "title": {
           "x": 0.05
          },
          "xaxis": {
           "automargin": true,
           "gridcolor": "white",
           "linecolor": "white",
           "ticks": "",
           "title": {
            "standoff": 15
           },
           "zerolinecolor": "white",
           "zerolinewidth": 2
          },
          "yaxis": {
           "automargin": true,
           "gridcolor": "white",
           "linecolor": "white",
           "ticks": "",
           "title": {
            "standoff": 15
           },
           "zerolinecolor": "white",
           "zerolinewidth": 2
          }
         }
        },
        "width": 1100
       }
      },
      "image/png": "[encoded data removed]",
      "text/html": [
       "<div>                            <div id=\"37dddc37-8777-4a73-ad60-31574ef7a6ce\" class=\"plotly-graph-div\" style=\"height:400px; width:1100px;\"></div>            <script type=\"text/javascript\">                require([\"plotly\"], function(Plotly) {                    window.PLOTLYENV=window.PLOTLYENV || {};                                    if (document.getElementById(\"37dddc37-8777-4a73-ad60-31574ef7a6ce\")) {                    Plotly.newPlot(                        \"37dddc37-8777-4a73-ad60-31574ef7a6ce\",                        [{\"branchvalues\":\"total\",\"customdata\":[[37.1],[41.1],[39.2],[6.0],[6.8],[6.400000000000001],[7.8],[9.3],[8.5],[17.2],[13.7],[15.400000000000002],[21.3],[21.2],[21.2],[22.6],[12.4],[17.9],[30.0],[13.4],[23.5],[45.9],[43.2],[44.5],[17.0],[17.2],[17.1],[20.6],[20.7],[20.7],[24.4],[25.2],[24.899999999999995],[34.9],[28.2],[31.6],[45.8],[39.8],[43.0],[49.2],[47.8],[48.699999999999996],[17.0],[15.6],[16.3],[77.0],[76.0],[76.5],[71.6],[70.0],[70.8],[58.4],[61.0],[59.8],[43.7],[50.6],[47.2],[31.6],[47.8],[39.1],[20.7],[38.8],[27.8],[37.7222],[38.02612612612613],[37.8258],[62.54],[61.1808],[61.8562],[56.117599999999996],[54.1498],[55.133799999999994],[43.0176],[45.48278278278278],[44.28781218781218],[35.84974974974975],[38.050399999999996],[36.7584],[36.0696],[40.22639999999999],[36.982200000000006],[37.52882882882883],[39.69839999999999],[36.967800000000004],[44.12292083452414],[45.26024578450987],[44.258863019568636],[44.54730199552318],[44.54730199552318]],\"domain\":{\"x\":[0.0,1.0],\"y\":[0.0,1.0]},\"hovertemplate\":\"labels=%{label}<br>mean_AntBev_sum=%{value}<br>parent=%{parent}<br>id=%{id}<br>mean_AntBev=%{color}<extra></extra>\",\"ids\":[\"Bildungsstand seit 1970/2020-01-01/Frauen/15 bis 24/Obligatorische Schule\",\"Bildungsstand seit 1970/2020-01-01/M\\u00e4nner/15 bis 24/Obligatorische Schule\",\"Bildungsstand seit 1970/2020-01-01/Total/15 bis 24/Obligatorische Schule\",\"Bildungsstand seit 1970/2020-01-01/Frauen/25 bis 34/Obligatorische Schule\",\"Bildungsstand seit 1970/2020-01-01/M\\u00e4nner/25 bis 34/Obligatorische Schule\",\"Bildungsstand seit 1970/2020-01-01/Total/25 bis 34/Obligatorische Schule\",\"Bildungsstand seit 1970/2020-01-01/Frauen/35 bis 44/Obligatorische Schule\",\"Bildungsstand seit 1970/2020-01-01/M\\u00e4nner/35 bis 44/Obligatorische Schule\",\"Bildungsstand seit 1970/2020-01-01/Total/35 bis 44/Obligatorische Schule\",\"Bildungsstand seit 1970/2020-01-01/Frauen/45 bis 54/Obligatorische Schule\",\"Bildungsstand seit 1970/2020-01-01/M\\u00e4nner/45 bis 54/Obligatorische Schule\",\"Bildungsstand seit 1970/2020-01-01/Total/45 bis 54/Obligatorische Schule\",\"Bildungsstand seit 1970/2020-01-01/Frauen/55 bis 64/Obligatorische Schule\",\"Bildungsstand seit 1970/2020-01-01/M\\u00e4nner/55 bis 64/Obligatorische Schule\",\"Bildungsstand seit 1970/2020-01-01/Total/55 bis 64/Obligatorische Schule\",\"Bildungsstand seit 1970/2020-01-01/Frauen/65 bis 74/Obligatorische Schule\",\"Bildungsstand seit 1970/2020-01-01/M\\u00e4nner/65 bis 74/Obligatorische Schule\",\"Bildungsstand seit 1970/2020-01-01/Total/65 bis 74/Obligatorische Schule\",\"Bildungsstand seit 1970/2020-01-01/Frauen/75 und \\u00e4lter/Obligatorische Schule\",\"Bildungsstand seit 1970/2020-01-01/M\\u00e4nner/75 und \\u00e4lter/Obligatorische Schule\",\"Bildungsstand seit 1970/2020-01-01/Total/75 und \\u00e4lter/Obligatorische Schule\",\"Bildungsstand seit 1970/2020-01-01/Frauen/15 bis 24/Sekundarstufe II\",\"Bildungsstand seit 1970/2020-01-01/M\\u00e4nner/15 bis 24/Sekundarstufe II\",\"Bildungsstand seit 1970/2020-01-01/Total/15 bis 24/Sekundarstufe II\",\"Bildungsstand seit 1970/2020-01-01/Frauen/25 bis 34/Sekundarstufe II\",\"Bildungsstand seit 1970/2020-01-01/M\\u00e4nner/25 bis 34/Sekundarstufe II\",\"Bildungsstand seit 1970/2020-01-01/Total/25 bis 34/Sekundarstufe II\",\"Bildungsstand seit 1970/2020-01-01/Frauen/35 bis 44/Sekundarstufe II\",\"Bildungsstand seit 1970/2020-01-01/M\\u00e4nner/35 bis 44/Sekundarstufe II\",\"Bildungsstand seit 1970/2020-01-01/Total/35 bis 44/Sekundarstufe II\",\"Bildungsstand seit 1970/2020-01-01/Frauen/45 bis 54/Sekundarstufe II\",\"Bildungsstand seit 1970/2020-01-01/M\\u00e4nner/45 bis 54/Sekundarstufe II\",\"Bildungsstand seit 1970/2020-01-01/Total/45 bis 54/Sekundarstufe II\",\"Bildungsstand seit 1970/2020-01-01/Frauen/55 bis 64/Sekundarstufe II\",\"Bildungsstand seit 1970/2020-01-01/M\\u00e4nner/55 bis 64/Sekundarstufe II\",\"Bildungsstand seit 1970/2020-01-01/Total/55 bis 64/Sekundarstufe II\",\"Bildungsstand seit 1970/2020-01-01/Frauen/65 bis 74/Sekundarstufe II\",\"Bildungsstand seit 1970/2020-01-01/M\\u00e4nner/65 bis 74/Sekundarstufe II\",\"Bildungsstand seit 1970/2020-01-01/Total/65 bis 74/Sekundarstufe II\",\"Bildungsstand seit 1970/2020-01-01/Frauen/75 und \\u00e4lter/Sekundarstufe II\",\"Bildungsstand seit 1970/2020-01-01/M\\u00e4nner/75 und \\u00e4lter/Sekundarstufe II\",\"Bildungsstand seit 1970/2020-01-01/Total/75 und \\u00e4lter/Sekundarstufe II\",\"Bildungsstand seit 1970/2020-01-01/Frauen/15 bis 24/Terti\\u00e4rstufe\",\"Bildungsstand seit 1970/2020-01-01/M\\u00e4nner/15 bis 24/Terti\\u00e4rstufe\",\"Bildungsstand seit 1970/2020-01-01/Total/15 bis 24/Terti\\u00e4rstufe\",\"Bildungsstand seit 1970/2020-01-01/Frauen/25 bis 34/Terti\\u00e4rstufe\",\"Bildungsstand seit 1970/2020-01-01/M\\u00e4nner/25 bis 34/Terti\\u00e4rstufe\",\"Bildungsstand seit 1970/2020-01-01/Total/25 bis 34/Terti\\u00e4rstufe\",\"Bildungsstand seit 1970/2020-01-01/Frauen/35 bis 44/Terti\\u00e4rstufe\",\"Bildungsstand seit 1970/2020-01-01/M\\u00e4nner/35 bis 44/Terti\\u00e4rstufe\",\"Bildungsstand seit 1970/2020-01-01/Total/35 bis 44/Terti\\u00e4rstufe\",\"Bildungsstand seit 1970/2020-01-01/Frauen/45 bis 54/Terti\\u00e4rstufe\",\"Bildungsstand seit 1970/2020-01-01/M\\u00e4nner/45 bis 54/Terti\\u00e4rstufe\",\"Bildungsstand seit 1970/2020-01-01/Total/45 bis 54/Terti\\u00e4rstufe\",\"Bildungsstand seit 1970/2020-01-01/Frauen/55 bis 64/Terti\\u00e4rstufe\",\"Bildungsstand seit 1970/2020-01-01/M\\u00e4nner/55 bis 64/Terti\\u00e4rstufe\",\"Bildungsstand seit 1970/2020-01-01/Total/55 bis 64/Terti\\u00e4rstufe\",\"Bildungsstand seit 1970/2020-01-01/Frauen/65 bis 74/Terti\\u00e4rstufe\",\"Bildungsstand seit 1970/2020-01-01/M\\u00e4nner/65 bis 74/Terti\\u00e4rstufe\",\"Bildungsstand seit 1970/2020-01-01/Total/65 bis 74/Terti\\u00e4rstufe\",\"Bildungsstand seit 1970/2020-01-01/Frauen/75 und \\u00e4lter/Terti\\u00e4rstufe\",\"Bildungsstand seit 1970/2020-01-01/M\\u00e4nner/75 und \\u00e4lter/Terti\\u00e4rstufe\",\"Bildungsstand seit 1970/2020-01-01/Total/75 und \\u00e4lter/Terti\\u00e4rstufe\",\"Bildungsstand seit 1970/2020-01-01/Frauen/15 bis 24\",\"Bildungsstand seit 1970/2020-01-01/M\\u00e4nner/15 bis 24\",\"Bildungsstand seit 1970/2020-01-01/Total/15 bis 24\",\"Bildungsstand seit 1970/2020-01-01/Frauen/25 bis 34\",\"Bildungsstand seit 1970/2020-01-01/M\\u00e4nner/25 bis 34\",\"Bildungsstand seit 1970/2020-01-01/Total/25 bis 34\",\"Bildungsstand seit 1970/2020-01-01/Frauen/35 bis 44\",\"Bildungsstand seit 1970/2020-01-01/M\\u00e4nner/35 bis 44\",\"Bildungsstand seit 1970/2020-01-01/Total/35 bis 44\",\"Bildungsstand seit 1970/2020-01-01/Frauen/45 bis 54\",\"Bildungsstand seit 1970/2020-01-01/M\\u00e4nner/45 bis 54\",\"Bildungsstand seit 1970/2020-01-01/Total/45 bis 54\",\"Bildungsstand seit 1970/2020-01-01/Frauen/55 bis 64\",\"Bildungsstand seit 1970/2020-01-01/M\\u00e4nner/55 bis 64\",\"Bildungsstand seit 1970/2020-01-01/Total/55 bis 64\",\"Bildungsstand seit 1970/2020-01-01/Frauen/65 bis 74\",\"Bildungsstand seit 1970/2020-01-01/M\\u00e4nner/65 bis 74\",\"Bildungsstand seit 1970/2020-01-01/Total/65 bis 74\",\"Bildungsstand seit 1970/2020-01-01/Frauen/75 und \\u00e4lter\",\"Bildungsstand seit 1970/2020-01-01/M\\u00e4nner/75 und \\u00e4lter\",\"Bildungsstand seit 1970/2020-01-01/Total/75 und \\u00e4lter\",\"Bildungsstand seit 1970/2020-01-01/Frauen\",\"Bildungsstand seit 1970/2020-01-01/M\\u00e4nner\",\"Bildungsstand seit 1970/2020-01-01/Total\",\"Bildungsstand seit 1970/2020-01-01\",\"Bildungsstand seit 1970\"],\"labels\":[\"Obligatorische Schule\",\"Obligatorische Schule\",\"Obligatorische Schule\",\"Obligatorische Schule\",\"Obligatorische Schule\",\"Obligatorische Schule\",\"Obligatorische Schule\",\"Obligatorische Schule\",\"Obligatorische Schule\",\"Obligatorische Schule\",\"Obligatorische Schule\",\"Obligatorische Schule\",\"Obligatorische Schule\",\"Obligatorische Schule\",\"Obligatorische Schule\",\"Obligatorische Schule\",\"Obligatorische Schule\",\"Obligatorische Schule\",\"Obligatorische Schule\",\"Obligatorische Schule\",\"Obligatorische Schule\",\"Sekundarstufe II\",\"Sekundarstufe II\",\"Sekundarstufe II\",\"Sekundarstufe II\",\"Sekundarstufe II\",\"Sekundarstufe II\",\"Sekundarstufe II\",\"Sekundarstufe II\",\"Sekundarstufe II\",\"Sekundarstufe II\",\"Sekundarstufe II\",\"Sekundarstufe II\",\"Sekundarstufe II\",\"Sekundarstufe II\",\"Sekundarstufe II\",\"Sekundarstufe II\",\"Sekundarstufe II\",\"Sekundarstufe II\",\"Sekundarstufe II\",\"Sekundarstufe II\",\"Sekundarstufe II\",\"Terti\\u00e4rstufe\",\"Terti\\u00e4rstufe\",\"Terti\\u00e4rstufe\",\"Terti\\u00e4rstufe\",\"Terti\\u00e4rstufe\",\"Terti\\u00e4rstufe\",\"Terti\\u00e4rstufe\",\"Terti\\u00e4rstufe\",\"Terti\\u00e4rstufe\",\"Terti\\u00e4rstufe\",\"Terti\\u00e4rstufe\",\"Terti\\u00e4rstufe\",\"Terti\\u00e4rstufe\",\"Terti\\u00e4rstufe\",\"Terti\\u00e4rstufe\",\"Terti\\u00e4rstufe\",\"Terti\\u00e4rstufe\",\"Terti\\u00e4rstufe\",\"Terti\\u00e4rstufe\",\"Terti\\u00e4rstufe\",\"Terti\\u00e4rstufe\",\"15 bis 24\",\"15 bis 24\",\"15 bis 24\",\"25 bis 34\",\"25 bis 34\",\"25 bis 34\",\"35 bis 44\",\"35 bis 44\",\"35 bis 44\",\"45 bis 54\",\"45 bis 54\",\"45 bis 54\",\"55 bis 64\",\"55 bis 64\",\"55 bis 64\",\"65 bis 74\",\"65 bis 74\",\"65 bis 74\",\"75 und \\u00e4lter\",\"75 und \\u00e4lter\",\"75 und \\u00e4lter\",\"Frauen\",\"M\\u00e4nner\",\"Total\",\"2020-01-01\",\"Bildungsstand seit 1970\"],\"marker\":{\"coloraxis\":\"coloraxis\",\"colors\":[37.1,41.1,39.2,6.0,6.8,6.400000000000001,7.8,9.3,8.5,17.2,13.7,15.400000000000002,21.3,21.2,21.2,22.6,12.4,17.9,30.0,13.4,23.5,45.9,43.2,44.5,17.0,17.2,17.1,20.6,20.7,20.7,24.4,25.2,24.899999999999995,34.9,28.2,31.6,45.8,39.8,43.0,49.2,47.8,48.699999999999996,17.0,15.6,16.3,77.0,76.0,76.5,71.6,70.0,70.8,58.4,61.0,59.8,43.7,50.6,47.2,31.6,47.8,39.1,20.7,38.8,27.8,37.7222,38.02612612612613,37.8258,62.54,61.1808,61.8562,56.117599999999996,54.1498,55.133799999999994,43.0176,45.48278278278278,44.28781218781218,35.84974974974975,38.050399999999996,36.7584,36.0696,40.22639999999999,36.982200000000006,37.52882882882883,39.69839999999999,36.967800000000004,44.12292083452414,45.26024578450987,44.258863019568636,44.54730199552318,44.54730199552318]},\"name\":\"\",\"parents\":[\"Bildungsstand seit 1970/2020-01-01/Frauen/15 bis 24\",\"Bildungsstand seit 1970/2020-01-01/M\\u00e4nner/15 bis 24\",\"Bildungsstand seit 1970/2020-01-01/Total/15 bis 24\",\"Bildungsstand seit 1970/2020-01-01/Frauen/25 bis 34\",\"Bildungsstand seit 1970/2020-01-01/M\\u00e4nner/25 bis 34\",\"Bildungsstand seit 1970/2020-01-01/Total/25 bis 34\",\"Bildungsstand seit 1970/2020-01-01/Frauen/35 bis 44\",\"Bildungsstand seit 1970/2020-01-01/M\\u00e4nner/35 bis 44\",\"Bildungsstand seit 1970/2020-01-01/Total/35 bis 44\",\"Bildungsstand seit 1970/2020-01-01/Frauen/45 bis 54\",\"Bildungsstand seit 1970/2020-01-01/M\\u00e4nner/45 bis 54\",\"Bildungsstand seit 1970/2020-01-01/Total/45 bis 54\",\"Bildungsstand seit 1970/2020-01-01/Frauen/55 bis 64\",\"Bildungsstand seit 1970/2020-01-01/M\\u00e4nner/55 bis 64\",\"Bildungsstand seit 1970/2020-01-01/Total/55 bis 64\",\"Bildungsstand seit 1970/2020-01-01/Frauen/65 bis 74\",\"Bildungsstand seit 1970/2020-01-01/M\\u00e4nner/65 bis 74\",\"Bildungsstand seit 1970/2020-01-01/Total/65 bis 74\",\"Bildungsstand seit 1970/2020-01-01/Frauen/75 und \\u00e4lter\",\"Bildungsstand seit 1970/2020-01-01/M\\u00e4nner/75 und \\u00e4lter\",\"Bildungsstand seit 1970/2020-01-01/Total/75 und \\u00e4lter\",\"Bildungsstand seit 1970/2020-01-01/Frauen/15 bis 24\",\"Bildungsstand seit 1970/2020-01-01/M\\u00e4nner/15 bis 24\",\"Bildungsstand seit 1970/2020-01-01/Total/15 bis 24\",\"Bildungsstand seit 1970/2020-01-01/Frauen/25 bis 34\",\"Bildungsstand seit 1970/2020-01-01/M\\u00e4nner/25 bis 34\",\"Bildungsstand seit 1970/2020-01-01/Total/25 bis 34\",\"Bildungsstand seit 1970/2020-01-01/Frauen/35 bis 44\",\"Bildungsstand seit 1970/2020-01-01/M\\u00e4nner/35 bis 44\",\"Bildungsstand seit 1970/2020-01-01/Total/35 bis 44\",\"Bildungsstand seit 1970/2020-01-01/Frauen/45 bis 54\",\"Bildungsstand seit 1970/2020-01-01/M\\u00e4nner/45 bis 54\",\"Bildungsstand seit 1970/2020-01-01/Total/45 bis 54\",\"Bildungsstand seit 1970/2020-01-01/Frauen/55 bis 64\",\"Bildungsstand seit 1970/2020-01-01/M\\u00e4nner/55 bis 64\",\"Bildungsstand seit 1970/2020-01-01/Total/55 bis 64\",\"Bildungsstand seit 1970/2020-01-01/Frauen/65 bis 74\",\"Bildungsstand seit 1970/2020-01-01/M\\u00e4nner/65 bis 74\",\"Bildungsstand seit 1970/2020-01-01/Total/65 bis 74\",\"Bildungsstand seit 1970/2020-01-01/Frauen/75 und \\u00e4lter\",\"Bildungsstand seit 1970/2020-01-01/M\\u00e4nner/75 und \\u00e4lter\",\"Bildungsstand seit 1970/2020-01-01/Total/75 und \\u00e4lter\",\"Bildungsstand seit 1970/2020-01-01/Frauen/15 bis 24\",\"Bildungsstand seit 1970/2020-01-01/M\\u00e4nner/15 bis 24\",\"Bildungsstand seit 1970/2020-01-01/Total/15 bis 24\",\"Bildungsstand seit 1970/2020-01-01/Frauen/25 bis 34\",\"Bildungsstand seit 1970/2020-01-01/M\\u00e4nner/25 bis 34\",\"Bildungsstand seit 1970/2020-01-01/Total/25 bis 34\",\"Bildungsstand seit 1970/2020-01-01/Frauen/35 bis 44\",\"Bildungsstand seit 1970/2020-01-01/M\\u00e4nner/35 bis 44\",\"Bildungsstand seit 1970/2020-01-01/Total/35 bis 44\",\"Bildungsstand seit 1970/2020-01-01/Frauen/45 bis 54\",\"Bildungsstand seit 1970/2020-01-01/M\\u00e4nner/45 bis 54\",\"Bildungsstand seit 1970/2020-01-01/Total/45 bis 54\",\"Bildungsstand seit 1970/2020-01-01/Frauen/55 bis 64\",\"Bildungsstand seit 1970/2020-01-01/M\\u00e4nner/55 bis 64\",\"Bildungsstand seit 1970/2020-01-01/Total/55 bis 64\",\"Bildungsstand seit 1970/2020-01-01/Frauen/65 bis 74\",\"Bildungsstand seit 1970/2020-01-01/M\\u00e4nner/65 bis 74\",\"Bildungsstand seit 1970/2020-01-01/Total/65 bis 74\",\"Bildungsstand seit 1970/2020-01-01/Frauen/75 und \\u00e4lter\",\"Bildungsstand seit 1970/2020-01-01/M\\u00e4nner/75 und \\u00e4lter\",\"Bildungsstand seit 1970/2020-01-01/Total/75 und \\u00e4lter\",\"Bildungsstand seit 1970/2020-01-01/Frauen\",\"Bildungsstand seit 1970/2020-01-01/M\\u00e4nner\",\"Bildungsstand seit 1970/2020-01-01/Total\",\"Bildungsstand seit 1970/2020-01-01/Frauen\",\"Bildungsstand seit 1970/2020-01-01/M\\u00e4nner\",\"Bildungsstand seit 1970/2020-01-01/Total\",\"Bildungsstand seit 1970/2020-01-01/Frauen\",\"Bildungsstand seit 1970/2020-01-01/M\\u00e4nner\",\"Bildungsstand seit 1970/2020-01-01/Total\",\"Bildungsstand seit 1970/2020-01-01/Frauen\",\"Bildungsstand seit 1970/2020-01-01/M\\u00e4nner\",\"Bildungsstand seit 1970/2020-01-01/Total\",\"Bildungsstand seit 1970/2020-01-01/Frauen\",\"Bildungsstand seit 1970/2020-01-01/M\\u00e4nner\",\"Bildungsstand seit 1970/2020-01-01/Total\",\"Bildungsstand seit 1970/2020-01-01/Frauen\",\"Bildungsstand seit 1970/2020-01-01/M\\u00e4nner\",\"Bildungsstand seit 1970/2020-01-01/Total\",\"Bildungsstand seit 1970/2020-01-01/Frauen\",\"Bildungsstand seit 1970/2020-01-01/M\\u00e4nner\",\"Bildungsstand seit 1970/2020-01-01/Total\",\"Bildungsstand seit 1970/2020-01-01\",\"Bildungsstand seit 1970/2020-01-01\",\"Bildungsstand seit 1970/2020-01-01\",\"Bildungsstand seit 1970\",\"\"],\"values\":[37.1,41.1,39.2,6.0,6.8,6.4,7.8,9.3,8.5,17.2,13.7,15.4,21.3,21.2,21.2,22.6,12.4,17.9,30.0,13.4,23.5,45.9,43.2,44.5,17.0,17.2,17.1,20.6,20.7,20.7,24.4,25.2,24.9,34.9,28.2,31.6,45.8,39.8,43.0,49.2,47.8,48.7,17.0,15.6,16.3,77.0,76.0,76.5,71.6,70.0,70.8,58.4,61.0,59.8,43.7,50.6,47.2,31.6,47.8,39.1,20.7,38.8,27.8,100.0,99.9,100.0,100.0,100.0,100.0,100.0,100.0,100.0,100.0,99.9,100.1,99.9,100.0,100.0,100.0,100.0,100.0,99.9,100.0,100.0,699.8,699.8,700.1,2099.7,2099.7],\"type\":\"treemap\",\"root\":{\"color\":\"grey\"}}],                        {\"template\":{\"data\":{\"bar\":[{\"error_x\":{\"color\":\"#2a3f5f\"},\"error_y\":{\"color\":\"#2a3f5f\"},\"marker\":{\"line\":{\"color\":\"#E5ECF6\",\"width\":0.5},\"pattern\":{\"fillmode\":\"overlay\",\"size\":10,\"solidity\":0.2}},\"type\":\"bar\"}],\"barpolar\":[{\"marker\":{\"line\":{\"color\":\"#E5ECF6\",\"width\":0.5},\"pattern\":{\"fillmode\":\"overlay\",\"size\":10,\"solidity\":0.2}},\"type\":\"barpolar\"}],\"carpet\":[{\"aaxis\":{\"endlinecolor\":\"#2a3f5f\",\"gridcolor\":\"white\",\"linecolor\":\"white\",\"minorgridcolor\":\"white\",\"startlinecolor\":\"#2a3f5f\"},\"baxis\":{\"endlinecolor\":\"#2a3f5f\",\"gridcolor\":\"white\",\"linecolor\":\"white\",\"minorgridcolor\":\"white\",\"startlinecolor\":\"#2a3f5f\"},\"type\":\"carpet\"}],\"choropleth\":[{\"colorbar\":{\"outlinewidth\":0,\"ticks\":\"\"},\"type\":\"choropleth\"}],\"contour\":[{\"colorbar\":{\"outlinewidth\":0,\"ticks\":\"\"},\"colorscale\":[[0.0,\"#0d0887\"],[0.1111111111111111,\"#46039f\"],[0.2222222222222222,\"#7201a8\"],[0.3333333333333333,\"#9c179e\"],[0.4444444444444444,\"#bd3786\"],[0.5555555555555556,\"#d8576b\"],[0.6666666666666666,\"#ed7953\"],[0.7777777777777778,\"#fb9f3a\"],[0.8888888888888888,\"#fdca26\"],[1.0,\"#f0f921\"]],\"type\":\"contour\"}],\"contourcarpet\":[{\"colorbar\":{\"outlinewidth\":0,\"ticks\":\"\"},\"type\":\"contourcarpet\"}],\"heatmap\":[{\"colorbar\":{\"outlinewidth\":0,\"ticks\":\"\"},\"colorscale\":[[0.0,\"#0d0887\"],[0.1111111111111111,\"#46039f\"],[0.2222222222222222,\"#7201a8\"],[0.3333333333333333,\"#9c179e\"],[0.4444444444444444,\"#bd3786\"],[0.5555555555555556,\"#d8576b\"],[0.6666666666666666,\"#ed7953\"],[0.7777777777777778,\"#fb9f3a\"],[0.8888888888888888,\"#fdca26\"],[1.0,\"#f0f921\"]],\"type\":\"heatmap\"}],\"heatmapgl\":[{\"colorbar\":{\"outlinewidth\":0,\"ticks\":\"\"},\"colorscale\":[[0.0,\"#0d0887\"],[0.1111111111111111,\"#46039f\"],[0.2222222222222222,\"#7201a8\"],[0.3333333333333333,\"#9c179e\"],[0.4444444444444444,\"#bd3786\"],[0.5555555555555556,\"#d8576b\"],[0.6666666666666666,\"#ed7953\"],[0.7777777777777778,\"#fb9f3a\"],[0.8888888888888888,\"#fdca26\"],[1.0,\"#f0f921\"]],\"type\":\"heatmapgl\"}],\"histogram\":[{\"marker\":{\"pattern\":{\"fillmode\":\"overlay\",\"size\":10,\"solidity\":0.2}},\"type\":\"histogram\"}],\"histogram2d\":[{\"colorbar\":{\"outlinewidth\":0,\"ticks\":\"\"},\"colorscale\":[[0.0,\"#0d0887\"],[0.1111111111111111,\"#46039f\"],[0.2222222222222222,\"#7201a8\"],[0.3333333333333333,\"#9c179e\"],[0.4444444444444444,\"#bd3786\"],[0.5555555555555556,\"#d8576b\"],[0.6666666666666666,\"#ed7953\"],[0.7777777777777778,\"#fb9f3a\"],[0.8888888888888888,\"#fdca26\"],[1.0,\"#f0f921\"]],\"type\":\"histogram2d\"}],\"histogram2dcontour\":[{\"colorbar\":{\"outlinewidth\":0,\"ticks\":\"\"},\"colorscale\":[[0.0,\"#0d0887\"],[0.1111111111111111,\"#46039f\"],[0.2222222222222222,\"#7201a8\"],[0.3333333333333333,\"#9c179e\"],[0.4444444444444444,\"#bd3786\"],[0.5555555555555556,\"#d8576b\"],[0.6666666666666666,\"#ed7953\"],[0.7777777777777778,\"#fb9f3a\"],[0.8888888888888888,\"#fdca26\"],[1.0,\"#f0f921\"]],\"type\":\"histogram2dcontour\"}],\"mesh3d\":[{\"colorbar\":{\"outlinewidth\":0,\"ticks\":\"\"},\"type\":\"mesh3d\"}],\"parcoords\":[{\"line\":{\"colorbar\":{\"outlinewidth\":0,\"ticks\":\"\"}},\"type\":\"parcoords\"}],\"pie\":[{\"automargin\":true,\"type\":\"pie\"}],\"scatter\":[{\"marker\":{\"colorbar\":{\"outlinewidth\":0,\"ticks\":\"\"}},\"type\":\"scatter\"}],\"scatter3d\":[{\"line\":{\"colorbar\":{\"outlinewidth\":0,\"ticks\":\"\"}},\"marker\":{\"colorbar\":{\"outlinewidth\":0,\"ticks\":\"\"}},\"type\":\"scatter3d\"}],\"scattercarpet\":[{\"marker\":{\"colorbar\":{\"outlinewidth\":0,\"ticks\":\"\"}},\"type\":\"scattercarpet\"}],\"scattergeo\":[{\"marker\":{\"colorbar\":{\"outlinewidth\":0,\"ticks\":\"\"}},\"type\":\"scattergeo\"}],\"scattergl\":[{\"marker\":{\"colorbar\":{\"outlinewidth\":0,\"ticks\":\"\"}},\"type\":\"scattergl\"}],\"scattermapbox\":[{\"marker\":{\"colorbar\":{\"outlinewidth\":0,\"ticks\":\"\"}},\"type\":\"scattermapbox\"}],\"scatterpolar\":[{\"marker\":{\"colorbar\":{\"outlinewidth\":0,\"ticks\":\"\"}},\"type\":\"scatterpolar\"}],\"scatterpolargl\":[{\"marker\":{\"colorbar\":{\"outlinewidth\":0,\"ticks\":\"\"}},\"type\":\"scatterpolargl\"}],\"scatterternary\":[{\"marker\":{\"colorbar\":{\"outlinewidth\":0,\"ticks\":\"\"}},\"type\":\"scatterternary\"}],\"surface\":[{\"colorbar\":{\"outlinewidth\":0,\"ticks\":\"\"},\"colorscale\":[[0.0,\"#0d0887\"],[0.1111111111111111,\"#46039f\"],[0.2222222222222222,\"#7201a8\"],[0.3333333333333333,\"#9c179e\"],[0.4444444444444444,\"#bd3786\"],[0.5555555555555556,\"#d8576b\"],[0.6666666666666666,\"#ed7953\"],[0.7777777777777778,\"#fb9f3a\"],[0.8888888888888888,\"#fdca26\"],[1.0,\"#f0f921\"]],\"type\":\"surface\"}],\"table\":[{\"cells\":{\"fill\":{\"color\":\"#EBF0F8\"},\"line\":{\"color\":\"white\"}},\"header\":{\"fill\":{\"color\":\"#C8D4E3\"},\"line\":{\"color\":\"white\"}},\"type\":\"table\"}]},\"layout\":{\"annotationdefaults\":{\"arrowcolor\":\"#2a3f5f\",\"arrowhead\":0,\"arrowwidth\":1},\"autotypenumbers\":\"strict\",\"coloraxis\":{\"colorbar\":{\"outlinewidth\":0,\"ticks\":\"\"}},\"colorscale\":{\"diverging\":[[0,\"#8e0152\"],[0.1,\"#c51b7d\"],[0.2,\"#de77ae\"],[0.3,\"#f1b6da\"],[0.4,\"#fde0ef\"],[0.5,\"#f7f7f7\"],[0.6,\"#e6f5d0\"],[0.7,\"#b8e186\"],[0.8,\"#7fbc41\"],[0.9,\"#4d9221\"],[1,\"#276419\"]],\"sequential\":[[0.0,\"#0d0887\"],[0.1111111111111111,\"#46039f\"],[0.2222222222222222,\"#7201a8\"],[0.3333333333333333,\"#9c179e\"],[0.4444444444444444,\"#bd3786\"],[0.5555555555555556,\"#d8576b\"],[0.6666666666666666,\"#ed7953\"],[0.7777777777777778,\"#fb9f3a\"],[0.8888888888888888,\"#fdca26\"],[1.0,\"#f0f921\"]],\"sequentialminus\":[[0.0,\"#0d0887\"],[0.1111111111111111,\"#46039f\"],[0.2222222222222222,\"#7201a8\"],[0.3333333333333333,\"#9c179e\"],[0.4444444444444444,\"#bd3786\"],[0.5555555555555556,\"#d8576b\"],[0.6666666666666666,\"#ed7953\"],[0.7777777777777778,\"#fb9f3a\"],[0.8888888888888888,\"#fdca26\"],[1.0,\"#f0f921\"]]},\"colorway\":[\"#636efa\",\"#EF553B\",\"#00cc96\",\"#ab63fa\",\"#FFA15A\",\"#19d3f3\",\"#FF6692\",\"#B6E880\",\"#FF97FF\",\"#FECB52\"],\"font\":{\"color\":\"#2a3f5f\"},\"geo\":{\"bgcolor\":\"white\",\"lakecolor\":\"white\",\"landcolor\":\"#E5ECF6\",\"showlakes\":true,\"showland\":true,\"subunitcolor\":\"white\"},\"hoverlabel\":{\"align\":\"left\"},\"hovermode\":\"closest\",\"mapbox\":{\"style\":\"light\"},\"paper_bgcolor\":\"white\",\"plot_bgcolor\":\"#E5ECF6\",\"polar\":{\"angularaxis\":{\"gridcolor\":\"white\",\"linecolor\":\"white\",\"ticks\":\"\"},\"bgcolor\":\"#E5ECF6\",\"radialaxis\":{\"gridcolor\":\"white\",\"linecolor\":\"white\",\"ticks\":\"\"}},\"scene\":{\"xaxis\":{\"backgroundcolor\":\"#E5ECF6\",\"gridcolor\":\"white\",\"gridwidth\":2,\"linecolor\":\"white\",\"showbackground\":true,\"ticks\":\"\",\"zerolinecolor\":\"white\"},\"yaxis\":{\"backgroundcolor\":\"#E5ECF6\",\"gridcolor\":\"white\",\"gridwidth\":2,\"linecolor\":\"white\",\"showbackground\":true,\"ticks\":\"\",\"zerolinecolor\":\"white\"},\"zaxis\":{\"backgroundcolor\":\"#E5ECF6\",\"gridcolor\":\"white\",\"gridwidth\":2,\"linecolor\":\"white\",\"showbackground\":true,\"ticks\":\"\",\"zerolinecolor\":\"white\"}},\"shapedefaults\":{\"line\":{\"color\":\"#2a3f5f\"}},\"ternary\":{\"aaxis\":{\"gridcolor\":\"white\",\"linecolor\":\"white\",\"ticks\":\"\"},\"baxis\":{\"gridcolor\":\"white\",\"linecolor\":\"white\",\"ticks\":\"\"},\"bgcolor\":\"#E5ECF6\",\"caxis\":{\"gridcolor\":\"white\",\"linecolor\":\"white\",\"ticks\":\"\"}},\"title\":{\"x\":0.05},\"xaxis\":{\"automargin\":true,\"gridcolor\":\"white\",\"linecolor\":\"white\",\"ticks\":\"\",\"title\":{\"standoff\":15},\"zerolinecolor\":\"white\",\"zerolinewidth\":2},\"yaxis\":{\"automargin\":true,\"gridcolor\":\"white\",\"linecolor\":\"white\",\"ticks\":\"\",\"title\":{\"standoff\":15},\"zerolinecolor\":\"white\",\"zerolinewidth\":2}}},\"coloraxis\":{\"colorbar\":{\"title\":{\"text\":\"mean_AntBev\"}},\"colorscale\":[[0.0,\"rgb(247,251,255)\"],[0.125,\"rgb(222,235,247)\"],[0.25,\"rgb(198,219,239)\"],[0.375,\"rgb(158,202,225)\"],[0.5,\"rgb(107,174,214)\"],[0.625,\"rgb(66,146,198)\"],[0.75,\"rgb(33,113,181)\"],[0.875,\"rgb(8,81,156)\"],[1.0,\"rgb(8,48,107)\"]]},\"legend\":{\"tracegroupgap\":0},\"margin\":{\"t\":50,\"l\":25,\"r\":250,\"b\":25},\"height\":400,\"width\":1100},                        {\"responsive\": true}                    ).then(function(){\n",
       "                            \n",
       "var gd = document.getElementById('37dddc37-8777-4a73-ad60-31574ef7a6ce');\n",
       "var x = new MutationObserver(function (mutations, observer) {{\n",
       "        var display = window.getComputedStyle(gd).display;\n",
       "        if (!display || display === 'none') {{\n",
       "            console.log([gd, 'removed!']);\n",
       "            Plotly.purge(gd);\n",
       "            observer.disconnect();\n",
       "        }}\n",
       "}});\n",
       "\n",
       "// Listen for the removal of the full notebook cells\n",
       "var notebookContainer = gd.closest('#notebook-container');\n",
       "if (notebookContainer) {{\n",
       "    x.observe(notebookContainer, {childList: true});\n",
       "}}\n",
       "\n",
       "// Listen for the clearing of the current output cell\n",
       "var outputEl = gd.closest('.output');\n",
       "if (outputEl) {{\n",
       "    x.observe(outputEl, {childList: true});\n",
       "}}\n",
       "\n",
       "                        })                };                });            </script>        </div>"
      ]
     },
     "metadata": {},
     "output_type": "display_data"
    }
   ],
   "source": [
    "#myTitle=\"Bildungsstand nach Aufenthaltsart\"\n",
    "\n",
    "fig = px.treemap(myTreemapAgg.reset_index(), path=[px.Constant(myTitle), 'Jahr_str','SexLang', 'AlterLang', 'Bildungsstand']\n",
    "                 , values='mean_AntBev'\n",
    "                 , color='mean_AntBev'\n",
    "                 ## bei discrete scales (bei Klassen und Strings):                 \n",
    "                 #, color_discrete_map={'(?)':'lightgrey','EVP':'gold', 'SP':'#FF3030', 'PdA':'#EE3B3B', 'Grüne':'#A2CD5A','GLP':'#CAFF70','Die Mitte':'orange','FDP':'#104E8B','AL':'deeppink','SVP':'forestgreen', 'FL ZÜRI':'#8B864E','Volt':'#lightblue' }                \n",
    "                 ## bei continuous scales (bei Zahlenwerten):\n",
    "                , color_continuous_scale='Blues'\n",
    "                #, color_continuous_midpoint=np.average(df['AnzBestWir'], weights=df['AnzBestWir'])  \n",
    "                 ,height=400\n",
    "                 ,width=1100                 \n",
    "                )\n",
    "fig.update_traces(root_color=\"grey\")\n",
    "fig.update_layout(margin = dict(t=50, l=25, r=250, b=25))\n",
    "fig.show()"
   ]
  },
  {
   "cell_type": "markdown",
   "metadata": {},
   "source": [
    "#### Aktueller Bestand der WBev nach Quartier und Herkunft"
   ]
  },
  {
   "cell_type": "code",
   "execution_count": 117,
   "metadata": {},
   "outputs": [],
   "source": [
    "#data2betested.dtypes"
   ]
  },
  {
   "cell_type": "code",
   "execution_count": 119,
   "metadata": {},
   "outputs": [
    {
     "data": {
      "application/vnd.plotly.v1+json": {
       "config": {
        "plotlyServerURL": "https://plot.ly"
       },
       "data": [
        {
         "branchvalues": "total",
         "customdata": [
          [
           "15 bis 24"
          ],
          [
           "55 bis 64"
          ],
          [
           "55 bis 64"
          ],
          [
           "55 bis 64"
          ],
          [
           "55 bis 64"
          ],
          [
           "45 bis 54"
          ],
          [
           "45 bis 54"
          ],
          [
           "45 bis 54"
          ],
          [
           "55 bis 64"
          ],
          [
           "55 bis 64"
          ],
          [
           "65 bis 74"
          ],
          [
           "65 bis 74"
          ],
          [
           "35 bis 44"
          ],
          [
           "65 bis 74"
          ],
          [
           "65 bis 74"
          ],
          [
           "65 bis 74"
          ],
          [
           "55 bis 64"
          ],
          [
           "55 bis 64"
          ],
          [
           "75 und älter"
          ],
          [
           "75 und älter"
          ],
          [
           "65 bis 74"
          ],
          [
           "65 bis 74"
          ],
          [
           "45 bis 54"
          ],
          [
           "75 und älter"
          ],
          [
           "65 bis 74"
          ],
          [
           "65 bis 74"
          ],
          [
           "75 und älter"
          ],
          [
           "75 und älter"
          ],
          [
           "15 bis 24"
          ],
          [
           "25 bis 34"
          ],
          [
           "15 bis 24"
          ],
          [
           "45 bis 54"
          ],
          [
           "75 und älter"
          ],
          [
           "55 bis 64"
          ],
          [
           "75 und älter"
          ],
          [
           "15 bis 24"
          ],
          [
           "25 bis 34"
          ],
          [
           "15 bis 24"
          ],
          [
           "25 bis 34"
          ],
          [
           "15 bis 24"
          ],
          [
           "25 bis 34"
          ],
          [
           "15 bis 24"
          ],
          [
           "25 bis 34"
          ],
          [
           "15 bis 24"
          ],
          [
           "15 bis 24"
          ],
          [
           "25 bis 34"
          ],
          [
           "25 bis 34"
          ],
          [
           "25 bis 34"
          ],
          [
           "35 bis 44"
          ],
          [
           "75 und älter"
          ],
          [
           "35 bis 44"
          ],
          [
           "35 bis 44"
          ],
          [
           "25 bis 34"
          ],
          [
           "35 bis 44"
          ],
          [
           "45 bis 54"
          ],
          [
           "35 bis 44"
          ],
          [
           "45 bis 54"
          ],
          [
           "45 bis 54"
          ],
          [
           "35 bis 44"
          ],
          [
           "45 bis 54"
          ],
          [
           "35 bis 44"
          ],
          [
           "35 bis 44"
          ],
          [
           "75 und älter"
          ],
          [
           "15 bis 24"
          ],
          [
           "15 bis 24"
          ],
          [
           "15 bis 24"
          ],
          [
           "25 bis 34"
          ],
          [
           "25 bis 34"
          ],
          [
           "25 bis 34"
          ],
          [
           "35 bis 44"
          ],
          [
           "35 bis 44"
          ],
          [
           "35 bis 44"
          ],
          [
           "45 bis 54"
          ],
          [
           "45 bis 54"
          ],
          [
           "45 bis 54"
          ],
          [
           "55 bis 64"
          ],
          [
           "55 bis 64"
          ],
          [
           "55 bis 64"
          ],
          [
           "65 bis 74"
          ],
          [
           "65 bis 74"
          ],
          [
           "65 bis 74"
          ],
          [
           "75 und älter"
          ],
          [
           "75 und älter"
          ],
          [
           "75 und älter"
          ],
          [
           "(?)"
          ],
          [
           "(?)"
          ],
          [
           "(?)"
          ],
          [
           "(?)"
          ],
          [
           "(?)"
          ]
         ],
         "domain": {
          "x": [
           0,
           1
          ],
          "y": [
           0,
           1
          ]
         },
         "hovertemplate": "labels=%{label}<br>mean_AntBev=%{value}<br>parent=%{parent}<br>id=%{id}<br>AlterLang=%{customdata[0]}<extra></extra>",
         "ids": [
          "Bildungsstand nach Aufenthaltsart/2020-01-01/Frauen/15 bis 24/Obligatorische Schule",
          "Bildungsstand nach Aufenthaltsart/2020-01-01/Frauen/55 bis 64/Sekundarstufe II",
          "Bildungsstand nach Aufenthaltsart/2020-01-01/Männer/55 bis 64/Sekundarstufe II",
          "Bildungsstand nach Aufenthaltsart/2020-01-01/Männer/55 bis 64/Tertiärstufe",
          "Bildungsstand nach Aufenthaltsart/2020-01-01/Frauen/55 bis 64/Tertiärstufe",
          "Bildungsstand nach Aufenthaltsart/2020-01-01/Total/45 bis 54/Tertiärstufe",
          "Bildungsstand nach Aufenthaltsart/2020-01-01/Männer/45 bis 54/Obligatorische Schule",
          "Bildungsstand nach Aufenthaltsart/2020-01-01/Total/45 bis 54/Obligatorische Schule",
          "Bildungsstand nach Aufenthaltsart/2020-01-01/Frauen/55 bis 64/Obligatorische Schule",
          "Bildungsstand nach Aufenthaltsart/2020-01-01/Total/55 bis 64/Sekundarstufe II",
          "Bildungsstand nach Aufenthaltsart/2020-01-01/Frauen/65 bis 74/Sekundarstufe II",
          "Bildungsstand nach Aufenthaltsart/2020-01-01/Männer/65 bis 74/Sekundarstufe II",
          "Bildungsstand nach Aufenthaltsart/2020-01-01/Total/35 bis 44/Sekundarstufe II",
          "Bildungsstand nach Aufenthaltsart/2020-01-01/Frauen/65 bis 74/Obligatorische Schule",
          "Bildungsstand nach Aufenthaltsart/2020-01-01/Männer/65 bis 74/Tertiärstufe",
          "Bildungsstand nach Aufenthaltsart/2020-01-01/Frauen/65 bis 74/Tertiärstufe",
          "Bildungsstand nach Aufenthaltsart/2020-01-01/Total/55 bis 64/Tertiärstufe",
          "Bildungsstand nach Aufenthaltsart/2020-01-01/Männer/55 bis 64/Obligatorische Schule",
          "Bildungsstand nach Aufenthaltsart/2020-01-01/Frauen/75 und älter/Sekundarstufe II",
          "Bildungsstand nach Aufenthaltsart/2020-01-01/Frauen/75 und älter/Tertiärstufe",
          "Bildungsstand nach Aufenthaltsart/2020-01-01/Total/65 bis 74/Tertiärstufe",
          "Bildungsstand nach Aufenthaltsart/2020-01-01/Total/65 bis 74/Sekundarstufe II",
          "Bildungsstand nach Aufenthaltsart/2020-01-01/Total/45 bis 54/Sekundarstufe II",
          "Bildungsstand nach Aufenthaltsart/2020-01-01/Frauen/75 und älter/Obligatorische Schule",
          "Bildungsstand nach Aufenthaltsart/2020-01-01/Total/65 bis 74/Obligatorische Schule",
          "Bildungsstand nach Aufenthaltsart/2020-01-01/Männer/65 bis 74/Obligatorische Schule",
          "Bildungsstand nach Aufenthaltsart/2020-01-01/Männer/75 und älter/Sekundarstufe II",
          "Bildungsstand nach Aufenthaltsart/2020-01-01/Total/75 und älter/Sekundarstufe II",
          "Bildungsstand nach Aufenthaltsart/2020-01-01/Frauen/15 bis 24/Tertiärstufe",
          "Bildungsstand nach Aufenthaltsart/2020-01-01/Männer/25 bis 34/Tertiärstufe",
          "Bildungsstand nach Aufenthaltsart/2020-01-01/Männer/15 bis 24/Tertiärstufe",
          "Bildungsstand nach Aufenthaltsart/2020-01-01/Männer/45 bis 54/Sekundarstufe II",
          "Bildungsstand nach Aufenthaltsart/2020-01-01/Männer/75 und älter/Obligatorische Schule",
          "Bildungsstand nach Aufenthaltsart/2020-01-01/Total/55 bis 64/Obligatorische Schule",
          "Bildungsstand nach Aufenthaltsart/2020-01-01/Total/75 und älter/Obligatorische Schule",
          "Bildungsstand nach Aufenthaltsart/2020-01-01/Frauen/15 bis 24/Sekundarstufe II",
          "Bildungsstand nach Aufenthaltsart/2020-01-01/Frauen/25 bis 34/Obligatorische Schule",
          "Bildungsstand nach Aufenthaltsart/2020-01-01/Total/15 bis 24/Obligatorische Schule",
          "Bildungsstand nach Aufenthaltsart/2020-01-01/Frauen/25 bis 34/Tertiärstufe",
          "Bildungsstand nach Aufenthaltsart/2020-01-01/Total/15 bis 24/Tertiärstufe",
          "Bildungsstand nach Aufenthaltsart/2020-01-01/Total/25 bis 34/Tertiärstufe",
          "Bildungsstand nach Aufenthaltsart/2020-01-01/Total/15 bis 24/Sekundarstufe II",
          "Bildungsstand nach Aufenthaltsart/2020-01-01/Frauen/25 bis 34/Sekundarstufe II",
          "Bildungsstand nach Aufenthaltsart/2020-01-01/Männer/15 bis 24/Obligatorische Schule",
          "Bildungsstand nach Aufenthaltsart/2020-01-01/Männer/15 bis 24/Sekundarstufe II",
          "Bildungsstand nach Aufenthaltsart/2020-01-01/Total/25 bis 34/Obligatorische Schule",
          "Bildungsstand nach Aufenthaltsart/2020-01-01/Männer/25 bis 34/Sekundarstufe II",
          "Bildungsstand nach Aufenthaltsart/2020-01-01/Total/25 bis 34/Sekundarstufe II",
          "Bildungsstand nach Aufenthaltsart/2020-01-01/Frauen/35 bis 44/Sekundarstufe II",
          "Bildungsstand nach Aufenthaltsart/2020-01-01/Männer/75 und älter/Tertiärstufe",
          "Bildungsstand nach Aufenthaltsart/2020-01-01/Frauen/35 bis 44/Tertiärstufe",
          "Bildungsstand nach Aufenthaltsart/2020-01-01/Männer/35 bis 44/Tertiärstufe",
          "Bildungsstand nach Aufenthaltsart/2020-01-01/Männer/25 bis 34/Obligatorische Schule",
          "Bildungsstand nach Aufenthaltsart/2020-01-01/Frauen/35 bis 44/Obligatorische Schule",
          "Bildungsstand nach Aufenthaltsart/2020-01-01/Frauen/45 bis 54/Sekundarstufe II",
          "Bildungsstand nach Aufenthaltsart/2020-01-01/Total/35 bis 44/Obligatorische Schule",
          "Bildungsstand nach Aufenthaltsart/2020-01-01/Männer/45 bis 54/Tertiärstufe",
          "Bildungsstand nach Aufenthaltsart/2020-01-01/Frauen/45 bis 54/Tertiärstufe",
          "Bildungsstand nach Aufenthaltsart/2020-01-01/Total/35 bis 44/Tertiärstufe",
          "Bildungsstand nach Aufenthaltsart/2020-01-01/Frauen/45 bis 54/Obligatorische Schule",
          "Bildungsstand nach Aufenthaltsart/2020-01-01/Männer/35 bis 44/Sekundarstufe II",
          "Bildungsstand nach Aufenthaltsart/2020-01-01/Männer/35 bis 44/Obligatorische Schule",
          "Bildungsstand nach Aufenthaltsart/2020-01-01/Total/75 und älter/Tertiärstufe",
          "Bildungsstand nach Aufenthaltsart/2020-01-01/Frauen/15 bis 24",
          "Bildungsstand nach Aufenthaltsart/2020-01-01/Männer/15 bis 24",
          "Bildungsstand nach Aufenthaltsart/2020-01-01/Total/15 bis 24",
          "Bildungsstand nach Aufenthaltsart/2020-01-01/Frauen/25 bis 34",
          "Bildungsstand nach Aufenthaltsart/2020-01-01/Männer/25 bis 34",
          "Bildungsstand nach Aufenthaltsart/2020-01-01/Total/25 bis 34",
          "Bildungsstand nach Aufenthaltsart/2020-01-01/Frauen/35 bis 44",
          "Bildungsstand nach Aufenthaltsart/2020-01-01/Männer/35 bis 44",
          "Bildungsstand nach Aufenthaltsart/2020-01-01/Total/35 bis 44",
          "Bildungsstand nach Aufenthaltsart/2020-01-01/Frauen/45 bis 54",
          "Bildungsstand nach Aufenthaltsart/2020-01-01/Männer/45 bis 54",
          "Bildungsstand nach Aufenthaltsart/2020-01-01/Total/45 bis 54",
          "Bildungsstand nach Aufenthaltsart/2020-01-01/Frauen/55 bis 64",
          "Bildungsstand nach Aufenthaltsart/2020-01-01/Männer/55 bis 64",
          "Bildungsstand nach Aufenthaltsart/2020-01-01/Total/55 bis 64",
          "Bildungsstand nach Aufenthaltsart/2020-01-01/Frauen/65 bis 74",
          "Bildungsstand nach Aufenthaltsart/2020-01-01/Männer/65 bis 74",
          "Bildungsstand nach Aufenthaltsart/2020-01-01/Total/65 bis 74",
          "Bildungsstand nach Aufenthaltsart/2020-01-01/Frauen/75 und älter",
          "Bildungsstand nach Aufenthaltsart/2020-01-01/Männer/75 und älter",
          "Bildungsstand nach Aufenthaltsart/2020-01-01/Total/75 und älter",
          "Bildungsstand nach Aufenthaltsart/2020-01-01/Frauen",
          "Bildungsstand nach Aufenthaltsart/2020-01-01/Männer",
          "Bildungsstand nach Aufenthaltsart/2020-01-01/Total",
          "Bildungsstand nach Aufenthaltsart/2020-01-01",
          "Bildungsstand nach Aufenthaltsart"
         ],
         "labels": [
          "Obligatorische Schule",
          "Sekundarstufe II",
          "Sekundarstufe II",
          "Tertiärstufe",
          "Tertiärstufe",
          "Tertiärstufe",
          "Obligatorische Schule",
          "Obligatorische Schule",
          "Obligatorische Schule",
          "Sekundarstufe II",
          "Sekundarstufe II",
          "Sekundarstufe II",
          "Sekundarstufe II",
          "Obligatorische Schule",
          "Tertiärstufe",
          "Tertiärstufe",
          "Tertiärstufe",
          "Obligatorische Schule",
          "Sekundarstufe II",
          "Tertiärstufe",
          "Tertiärstufe",
          "Sekundarstufe II",
          "Sekundarstufe II",
          "Obligatorische Schule",
          "Obligatorische Schule",
          "Obligatorische Schule",
          "Sekundarstufe II",
          "Sekundarstufe II",
          "Tertiärstufe",
          "Tertiärstufe",
          "Tertiärstufe",
          "Sekundarstufe II",
          "Obligatorische Schule",
          "Obligatorische Schule",
          "Obligatorische Schule",
          "Sekundarstufe II",
          "Obligatorische Schule",
          "Obligatorische Schule",
          "Tertiärstufe",
          "Tertiärstufe",
          "Tertiärstufe",
          "Sekundarstufe II",
          "Sekundarstufe II",
          "Obligatorische Schule",
          "Sekundarstufe II",
          "Obligatorische Schule",
          "Sekundarstufe II",
          "Sekundarstufe II",
          "Sekundarstufe II",
          "Tertiärstufe",
          "Tertiärstufe",
          "Tertiärstufe",
          "Obligatorische Schule",
          "Obligatorische Schule",
          "Sekundarstufe II",
          "Obligatorische Schule",
          "Tertiärstufe",
          "Tertiärstufe",
          "Tertiärstufe",
          "Obligatorische Schule",
          "Sekundarstufe II",
          "Obligatorische Schule",
          "Tertiärstufe",
          "15 bis 24",
          "15 bis 24",
          "15 bis 24",
          "25 bis 34",
          "25 bis 34",
          "25 bis 34",
          "35 bis 44",
          "35 bis 44",
          "35 bis 44",
          "45 bis 54",
          "45 bis 54",
          "45 bis 54",
          "55 bis 64",
          "55 bis 64",
          "55 bis 64",
          "65 bis 74",
          "65 bis 74",
          "65 bis 74",
          "75 und älter",
          "75 und älter",
          "75 und älter",
          "Frauen",
          "Männer",
          "Total",
          "2020-01-01",
          "Bildungsstand nach Aufenthaltsart"
         ],
         "marker": {
          "colors": [
           "#00cc96",
           "#ab63fa",
           "#ab63fa",
           "#ab63fa",
           "#ab63fa",
           "#FFA15A",
           "#FFA15A",
           "#FFA15A",
           "#ab63fa",
           "#ab63fa",
           "#19d3f3",
           "#19d3f3",
           "#FF6692",
           "#19d3f3",
           "#19d3f3",
           "#19d3f3",
           "#ab63fa",
           "#ab63fa",
           "#B6E880",
           "#B6E880",
           "#19d3f3",
           "#19d3f3",
           "#FFA15A",
           "#B6E880",
           "#19d3f3",
           "#19d3f3",
           "#B6E880",
           "#B6E880",
           "#00cc96",
           "#FF97FF",
           "#00cc96",
           "#FFA15A",
           "#B6E880",
           "#ab63fa",
           "#B6E880",
           "#00cc96",
           "#FF97FF",
           "#00cc96",
           "#FF97FF",
           "#00cc96",
           "#FF97FF",
           "#00cc96",
           "#FF97FF",
           "#00cc96",
           "#00cc96",
           "#FF97FF",
           "#FF97FF",
           "#FF97FF",
           "#FF6692",
           "#B6E880",
           "#FF6692",
           "#FF6692",
           "#FF97FF",
           "#FF6692",
           "#FFA15A",
           "#FF6692",
           "#FFA15A",
           "#FFA15A",
           "#FF6692",
           "#FFA15A",
           "#FF6692",
           "#FF6692",
           "#B6E880",
           "#00cc96",
           "#00cc96",
           "#00cc96",
           "#FF97FF",
           "#FF97FF",
           "#FF97FF",
           "#FF6692",
           "#FF6692",
           "#FF6692",
           "#FFA15A",
           "#FFA15A",
           "#FFA15A",
           "#ab63fa",
           "#ab63fa",
           "#ab63fa",
           "#19d3f3",
           "#19d3f3",
           "#19d3f3",
           "#B6E880",
           "#B6E880",
           "#B6E880",
           "lightgrey",
           "lightgrey",
           "lightgrey",
           "lightgrey",
           "lightgrey"
          ]
         },
         "name": "",
         "parents": [
          "Bildungsstand nach Aufenthaltsart/2020-01-01/Frauen/15 bis 24",
          "Bildungsstand nach Aufenthaltsart/2020-01-01/Frauen/55 bis 64",
          "Bildungsstand nach Aufenthaltsart/2020-01-01/Männer/55 bis 64",
          "Bildungsstand nach Aufenthaltsart/2020-01-01/Männer/55 bis 64",
          "Bildungsstand nach Aufenthaltsart/2020-01-01/Frauen/55 bis 64",
          "Bildungsstand nach Aufenthaltsart/2020-01-01/Total/45 bis 54",
          "Bildungsstand nach Aufenthaltsart/2020-01-01/Männer/45 bis 54",
          "Bildungsstand nach Aufenthaltsart/2020-01-01/Total/45 bis 54",
          "Bildungsstand nach Aufenthaltsart/2020-01-01/Frauen/55 bis 64",
          "Bildungsstand nach Aufenthaltsart/2020-01-01/Total/55 bis 64",
          "Bildungsstand nach Aufenthaltsart/2020-01-01/Frauen/65 bis 74",
          "Bildungsstand nach Aufenthaltsart/2020-01-01/Männer/65 bis 74",
          "Bildungsstand nach Aufenthaltsart/2020-01-01/Total/35 bis 44",
          "Bildungsstand nach Aufenthaltsart/2020-01-01/Frauen/65 bis 74",
          "Bildungsstand nach Aufenthaltsart/2020-01-01/Männer/65 bis 74",
          "Bildungsstand nach Aufenthaltsart/2020-01-01/Frauen/65 bis 74",
          "Bildungsstand nach Aufenthaltsart/2020-01-01/Total/55 bis 64",
          "Bildungsstand nach Aufenthaltsart/2020-01-01/Männer/55 bis 64",
          "Bildungsstand nach Aufenthaltsart/2020-01-01/Frauen/75 und älter",
          "Bildungsstand nach Aufenthaltsart/2020-01-01/Frauen/75 und älter",
          "Bildungsstand nach Aufenthaltsart/2020-01-01/Total/65 bis 74",
          "Bildungsstand nach Aufenthaltsart/2020-01-01/Total/65 bis 74",
          "Bildungsstand nach Aufenthaltsart/2020-01-01/Total/45 bis 54",
          "Bildungsstand nach Aufenthaltsart/2020-01-01/Frauen/75 und älter",
          "Bildungsstand nach Aufenthaltsart/2020-01-01/Total/65 bis 74",
          "Bildungsstand nach Aufenthaltsart/2020-01-01/Männer/65 bis 74",
          "Bildungsstand nach Aufenthaltsart/2020-01-01/Männer/75 und älter",
          "Bildungsstand nach Aufenthaltsart/2020-01-01/Total/75 und älter",
          "Bildungsstand nach Aufenthaltsart/2020-01-01/Frauen/15 bis 24",
          "Bildungsstand nach Aufenthaltsart/2020-01-01/Männer/25 bis 34",
          "Bildungsstand nach Aufenthaltsart/2020-01-01/Männer/15 bis 24",
          "Bildungsstand nach Aufenthaltsart/2020-01-01/Männer/45 bis 54",
          "Bildungsstand nach Aufenthaltsart/2020-01-01/Männer/75 und älter",
          "Bildungsstand nach Aufenthaltsart/2020-01-01/Total/55 bis 64",
          "Bildungsstand nach Aufenthaltsart/2020-01-01/Total/75 und älter",
          "Bildungsstand nach Aufenthaltsart/2020-01-01/Frauen/15 bis 24",
          "Bildungsstand nach Aufenthaltsart/2020-01-01/Frauen/25 bis 34",
          "Bildungsstand nach Aufenthaltsart/2020-01-01/Total/15 bis 24",
          "Bildungsstand nach Aufenthaltsart/2020-01-01/Frauen/25 bis 34",
          "Bildungsstand nach Aufenthaltsart/2020-01-01/Total/15 bis 24",
          "Bildungsstand nach Aufenthaltsart/2020-01-01/Total/25 bis 34",
          "Bildungsstand nach Aufenthaltsart/2020-01-01/Total/15 bis 24",
          "Bildungsstand nach Aufenthaltsart/2020-01-01/Frauen/25 bis 34",
          "Bildungsstand nach Aufenthaltsart/2020-01-01/Männer/15 bis 24",
          "Bildungsstand nach Aufenthaltsart/2020-01-01/Männer/15 bis 24",
          "Bildungsstand nach Aufenthaltsart/2020-01-01/Total/25 bis 34",
          "Bildungsstand nach Aufenthaltsart/2020-01-01/Männer/25 bis 34",
          "Bildungsstand nach Aufenthaltsart/2020-01-01/Total/25 bis 34",
          "Bildungsstand nach Aufenthaltsart/2020-01-01/Frauen/35 bis 44",
          "Bildungsstand nach Aufenthaltsart/2020-01-01/Männer/75 und älter",
          "Bildungsstand nach Aufenthaltsart/2020-01-01/Frauen/35 bis 44",
          "Bildungsstand nach Aufenthaltsart/2020-01-01/Männer/35 bis 44",
          "Bildungsstand nach Aufenthaltsart/2020-01-01/Männer/25 bis 34",
          "Bildungsstand nach Aufenthaltsart/2020-01-01/Frauen/35 bis 44",
          "Bildungsstand nach Aufenthaltsart/2020-01-01/Frauen/45 bis 54",
          "Bildungsstand nach Aufenthaltsart/2020-01-01/Total/35 bis 44",
          "Bildungsstand nach Aufenthaltsart/2020-01-01/Männer/45 bis 54",
          "Bildungsstand nach Aufenthaltsart/2020-01-01/Frauen/45 bis 54",
          "Bildungsstand nach Aufenthaltsart/2020-01-01/Total/35 bis 44",
          "Bildungsstand nach Aufenthaltsart/2020-01-01/Frauen/45 bis 54",
          "Bildungsstand nach Aufenthaltsart/2020-01-01/Männer/35 bis 44",
          "Bildungsstand nach Aufenthaltsart/2020-01-01/Männer/35 bis 44",
          "Bildungsstand nach Aufenthaltsart/2020-01-01/Total/75 und älter",
          "Bildungsstand nach Aufenthaltsart/2020-01-01/Frauen",
          "Bildungsstand nach Aufenthaltsart/2020-01-01/Männer",
          "Bildungsstand nach Aufenthaltsart/2020-01-01/Total",
          "Bildungsstand nach Aufenthaltsart/2020-01-01/Frauen",
          "Bildungsstand nach Aufenthaltsart/2020-01-01/Männer",
          "Bildungsstand nach Aufenthaltsart/2020-01-01/Total",
          "Bildungsstand nach Aufenthaltsart/2020-01-01/Frauen",
          "Bildungsstand nach Aufenthaltsart/2020-01-01/Männer",
          "Bildungsstand nach Aufenthaltsart/2020-01-01/Total",
          "Bildungsstand nach Aufenthaltsart/2020-01-01/Frauen",
          "Bildungsstand nach Aufenthaltsart/2020-01-01/Männer",
          "Bildungsstand nach Aufenthaltsart/2020-01-01/Total",
          "Bildungsstand nach Aufenthaltsart/2020-01-01/Frauen",
          "Bildungsstand nach Aufenthaltsart/2020-01-01/Männer",
          "Bildungsstand nach Aufenthaltsart/2020-01-01/Total",
          "Bildungsstand nach Aufenthaltsart/2020-01-01/Frauen",
          "Bildungsstand nach Aufenthaltsart/2020-01-01/Männer",
          "Bildungsstand nach Aufenthaltsart/2020-01-01/Total",
          "Bildungsstand nach Aufenthaltsart/2020-01-01/Frauen",
          "Bildungsstand nach Aufenthaltsart/2020-01-01/Männer",
          "Bildungsstand nach Aufenthaltsart/2020-01-01/Total",
          "Bildungsstand nach Aufenthaltsart/2020-01-01",
          "Bildungsstand nach Aufenthaltsart/2020-01-01",
          "Bildungsstand nach Aufenthaltsart/2020-01-01",
          "Bildungsstand nach Aufenthaltsart",
          ""
         ],
         "root": {
          "color": "grey"
         },
         "type": "treemap",
         "values": [
          37.1,
          34.9,
          28.2,
          50.6,
          43.7,
          59.8,
          13.7,
          15.4,
          21.3,
          31.6,
          45.8,
          39.8,
          20.7,
          22.6,
          47.8,
          31.6,
          47.2,
          21.2,
          49.2,
          20.7,
          39.1,
          43,
          24.9,
          30,
          17.9,
          12.4,
          47.8,
          48.7,
          17,
          76,
          15.6,
          25.2,
          13.4,
          21.2,
          23.5,
          45.9,
          6,
          39.2,
          77,
          16.3,
          76.5,
          44.5,
          17,
          41.1,
          43.2,
          6.4,
          17.2,
          17.1,
          20.6,
          38.8,
          71.6,
          70,
          6.8,
          7.8,
          24.4,
          8.5,
          61,
          58.4,
          70.8,
          17.2,
          20.7,
          9.3,
          27.8,
          100,
          99.9,
          100,
          100,
          100,
          100,
          100,
          100,
          100,
          100,
          99.9,
          100.1,
          99.9,
          100,
          100,
          100,
          100,
          100,
          99.9,
          100,
          100,
          699.8,
          699.8,
          700.1,
          2099.7,
          2099.7
         ]
        }
       ],
       "layout": {
        "height": 400,
        "legend": {
         "tracegroupgap": 0
        },
        "margin": {
         "b": 25,
         "l": 25,
         "r": 250,
         "t": 50
        },
        "template": {
         "data": {
          "bar": [
           {
            "error_x": {
             "color": "#2a3f5f"
            },
            "error_y": {
             "color": "#2a3f5f"
            },
            "marker": {
             "line": {
              "color": "#E5ECF6",
              "width": 0.5
             },
             "pattern": {
              "fillmode": "overlay",
              "size": 10,
              "solidity": 0.2
             }
            },
            "type": "bar"
           }
          ],
          "barpolar": [
           {
            "marker": {
             "line": {
              "color": "#E5ECF6",
              "width": 0.5
             },
             "pattern": {
              "fillmode": "overlay",
              "size": 10,
              "solidity": 0.2
             }
            },
            "type": "barpolar"
           }
          ],
          "carpet": [
           {
            "aaxis": {
             "endlinecolor": "#2a3f5f",
             "gridcolor": "white",
             "linecolor": "white",
             "minorgridcolor": "white",
             "startlinecolor": "#2a3f5f"
            },
            "baxis": {
             "endlinecolor": "#2a3f5f",
             "gridcolor": "white",
             "linecolor": "white",
             "minorgridcolor": "white",
             "startlinecolor": "#2a3f5f"
            },
            "type": "carpet"
           }
          ],
          "choropleth": [
           {
            "colorbar": {
             "outlinewidth": 0,
             "ticks": ""
            },
            "type": "choropleth"
           }
          ],
          "contour": [
           {
            "colorbar": {
             "outlinewidth": 0,
             "ticks": ""
            },
            "colorscale": [
             [
              0,
              "#0d0887"
             ],
             [
              0.1111111111111111,
              "#46039f"
             ],
             [
              0.2222222222222222,
              "#7201a8"
             ],
             [
              0.3333333333333333,
              "#9c179e"
             ],
             [
              0.4444444444444444,
              "#bd3786"
             ],
             [
              0.5555555555555556,
              "#d8576b"
             ],
             [
              0.6666666666666666,
              "#ed7953"
             ],
             [
              0.7777777777777778,
              "#fb9f3a"
             ],
             [
              0.8888888888888888,
              "#fdca26"
             ],
             [
              1,
              "#f0f921"
             ]
            ],
            "type": "contour"
           }
          ],
          "contourcarpet": [
           {
            "colorbar": {
             "outlinewidth": 0,
             "ticks": ""
            },
            "type": "contourcarpet"
           }
          ],
          "heatmap": [
           {
            "colorbar": {
             "outlinewidth": 0,
             "ticks": ""
            },
            "colorscale": [
             [
              0,
              "#0d0887"
             ],
             [
              0.1111111111111111,
              "#46039f"
             ],
             [
              0.2222222222222222,
              "#7201a8"
             ],
             [
              0.3333333333333333,
              "#9c179e"
             ],
             [
              0.4444444444444444,
              "#bd3786"
             ],
             [
              0.5555555555555556,
              "#d8576b"
             ],
             [
              0.6666666666666666,
              "#ed7953"
             ],
             [
              0.7777777777777778,
              "#fb9f3a"
             ],
             [
              0.8888888888888888,
              "#fdca26"
             ],
             [
              1,
              "#f0f921"
             ]
            ],
            "type": "heatmap"
           }
          ],
          "heatmapgl": [
           {
            "colorbar": {
             "outlinewidth": 0,
             "ticks": ""
            },
            "colorscale": [
             [
              0,
              "#0d0887"
             ],
             [
              0.1111111111111111,
              "#46039f"
             ],
             [
              0.2222222222222222,
              "#7201a8"
             ],
             [
              0.3333333333333333,
              "#9c179e"
             ],
             [
              0.4444444444444444,
              "#bd3786"
             ],
             [
              0.5555555555555556,
              "#d8576b"
             ],
             [
              0.6666666666666666,
              "#ed7953"
             ],
             [
              0.7777777777777778,
              "#fb9f3a"
             ],
             [
              0.8888888888888888,
              "#fdca26"
             ],
             [
              1,
              "#f0f921"
             ]
            ],
            "type": "heatmapgl"
           }
          ],
          "histogram": [
           {
            "marker": {
             "pattern": {
              "fillmode": "overlay",
              "size": 10,
              "solidity": 0.2
             }
            },
            "type": "histogram"
           }
          ],
          "histogram2d": [
           {
            "colorbar": {
             "outlinewidth": 0,
             "ticks": ""
            },
            "colorscale": [
             [
              0,
              "#0d0887"
             ],
             [
              0.1111111111111111,
              "#46039f"
             ],
             [
              0.2222222222222222,
              "#7201a8"
             ],
             [
              0.3333333333333333,
              "#9c179e"
             ],
             [
              0.4444444444444444,
              "#bd3786"
             ],
             [
              0.5555555555555556,
              "#d8576b"
             ],
             [
              0.6666666666666666,
              "#ed7953"
             ],
             [
              0.7777777777777778,
              "#fb9f3a"
             ],
             [
              0.8888888888888888,
              "#fdca26"
             ],
             [
              1,
              "#f0f921"
             ]
            ],
            "type": "histogram2d"
           }
          ],
          "histogram2dcontour": [
           {
            "colorbar": {
             "outlinewidth": 0,
             "ticks": ""
            },
            "colorscale": [
             [
              0,
              "#0d0887"
             ],
             [
              0.1111111111111111,
              "#46039f"
             ],
             [
              0.2222222222222222,
              "#7201a8"
             ],
             [
              0.3333333333333333,
              "#9c179e"
             ],
             [
              0.4444444444444444,
              "#bd3786"
             ],
             [
              0.5555555555555556,
              "#d8576b"
             ],
             [
              0.6666666666666666,
              "#ed7953"
             ],
             [
              0.7777777777777778,
              "#fb9f3a"
             ],
             [
              0.8888888888888888,
              "#fdca26"
             ],
             [
              1,
              "#f0f921"
             ]
            ],
            "type": "histogram2dcontour"
           }
          ],
          "mesh3d": [
           {
            "colorbar": {
             "outlinewidth": 0,
             "ticks": ""
            },
            "type": "mesh3d"
           }
          ],
          "parcoords": [
           {
            "line": {
             "colorbar": {
              "outlinewidth": 0,
              "ticks": ""
             }
            },
            "type": "parcoords"
           }
          ],
          "pie": [
           {
            "automargin": true,
            "type": "pie"
           }
          ],
          "scatter": [
           {
            "marker": {
             "colorbar": {
              "outlinewidth": 0,
              "ticks": ""
             }
            },
            "type": "scatter"
           }
          ],
          "scatter3d": [
           {
            "line": {
             "colorbar": {
              "outlinewidth": 0,
              "ticks": ""
             }
            },
            "marker": {
             "colorbar": {
              "outlinewidth": 0,
              "ticks": ""
             }
            },
            "type": "scatter3d"
           }
          ],
          "scattercarpet": [
           {
            "marker": {
             "colorbar": {
              "outlinewidth": 0,
              "ticks": ""
             }
            },
            "type": "scattercarpet"
           }
          ],
          "scattergeo": [
           {
            "marker": {
             "colorbar": {
              "outlinewidth": 0,
              "ticks": ""
             }
            },
            "type": "scattergeo"
           }
          ],
          "scattergl": [
           {
            "marker": {
             "colorbar": {
              "outlinewidth": 0,
              "ticks": ""
             }
            },
            "type": "scattergl"
           }
          ],
          "scattermapbox": [
           {
            "marker": {
             "colorbar": {
              "outlinewidth": 0,
              "ticks": ""
             }
            },
            "type": "scattermapbox"
           }
          ],
          "scatterpolar": [
           {
            "marker": {
             "colorbar": {
              "outlinewidth": 0,
              "ticks": ""
             }
            },
            "type": "scatterpolar"
           }
          ],
          "scatterpolargl": [
           {
            "marker": {
             "colorbar": {
              "outlinewidth": 0,
              "ticks": ""
             }
            },
            "type": "scatterpolargl"
           }
          ],
          "scatterternary": [
           {
            "marker": {
             "colorbar": {
              "outlinewidth": 0,
              "ticks": ""
             }
            },
            "type": "scatterternary"
           }
          ],
          "surface": [
           {
            "colorbar": {
             "outlinewidth": 0,
             "ticks": ""
            },
            "colorscale": [
             [
              0,
              "#0d0887"
             ],
             [
              0.1111111111111111,
              "#46039f"
             ],
             [
              0.2222222222222222,
              "#7201a8"
             ],
             [
              0.3333333333333333,
              "#9c179e"
             ],
             [
              0.4444444444444444,
              "#bd3786"
             ],
             [
              0.5555555555555556,
              "#d8576b"
             ],
             [
              0.6666666666666666,
              "#ed7953"
             ],
             [
              0.7777777777777778,
              "#fb9f3a"
             ],
             [
              0.8888888888888888,
              "#fdca26"
             ],
             [
              1,
              "#f0f921"
             ]
            ],
            "type": "surface"
           }
          ],
          "table": [
           {
            "cells": {
             "fill": {
              "color": "#EBF0F8"
             },
             "line": {
              "color": "white"
             }
            },
            "header": {
             "fill": {
              "color": "#C8D4E3"
             },
             "line": {
              "color": "white"
             }
            },
            "type": "table"
           }
          ]
         },
         "layout": {
          "annotationdefaults": {
           "arrowcolor": "#2a3f5f",
           "arrowhead": 0,
           "arrowwidth": 1
          },
          "autotypenumbers": "strict",
          "coloraxis": {
           "colorbar": {
            "outlinewidth": 0,
            "ticks": ""
           }
          },
          "colorscale": {
           "diverging": [
            [
             0,
             "#8e0152"
            ],
            [
             0.1,
             "#c51b7d"
            ],
            [
             0.2,
             "#de77ae"
            ],
            [
             0.3,
             "#f1b6da"
            ],
            [
             0.4,
             "#fde0ef"
            ],
            [
             0.5,
             "#f7f7f7"
            ],
            [
             0.6,
             "#e6f5d0"
            ],
            [
             0.7,
             "#b8e186"
            ],
            [
             0.8,
             "#7fbc41"
            ],
            [
             0.9,
             "#4d9221"
            ],
            [
             1,
             "#276419"
            ]
           ],
           "sequential": [
            [
             0,
             "#0d0887"
            ],
            [
             0.1111111111111111,
             "#46039f"
            ],
            [
             0.2222222222222222,
             "#7201a8"
            ],
            [
             0.3333333333333333,
             "#9c179e"
            ],
            [
             0.4444444444444444,
             "#bd3786"
            ],
            [
             0.5555555555555556,
             "#d8576b"
            ],
            [
             0.6666666666666666,
             "#ed7953"
            ],
            [
             0.7777777777777778,
             "#fb9f3a"
            ],
            [
             0.8888888888888888,
             "#fdca26"
            ],
            [
             1,
             "#f0f921"
            ]
           ],
           "sequentialminus": [
            [
             0,
             "#0d0887"
            ],
            [
             0.1111111111111111,
             "#46039f"
            ],
            [
             0.2222222222222222,
             "#7201a8"
            ],
            [
             0.3333333333333333,
             "#9c179e"
            ],
            [
             0.4444444444444444,
             "#bd3786"
            ],
            [
             0.5555555555555556,
             "#d8576b"
            ],
            [
             0.6666666666666666,
             "#ed7953"
            ],
            [
             0.7777777777777778,
             "#fb9f3a"
            ],
            [
             0.8888888888888888,
             "#fdca26"
            ],
            [
             1,
             "#f0f921"
            ]
           ]
          },
          "colorway": [
           "#636efa",
           "#EF553B",
           "#00cc96",
           "#ab63fa",
           "#FFA15A",
           "#19d3f3",
           "#FF6692",
           "#B6E880",
           "#FF97FF",
           "#FECB52"
          ],
          "font": {
           "color": "#2a3f5f"
          },
          "geo": {
           "bgcolor": "white",
           "lakecolor": "white",
           "landcolor": "#E5ECF6",
           "showlakes": true,
           "showland": true,
           "subunitcolor": "white"
          },
          "hoverlabel": {
           "align": "left"
          },
          "hovermode": "closest",
          "mapbox": {
           "style": "light"
          },
          "paper_bgcolor": "white",
          "plot_bgcolor": "#E5ECF6",
          "polar": {
           "angularaxis": {
            "gridcolor": "white",
            "linecolor": "white",
            "ticks": ""
           },
           "bgcolor": "#E5ECF6",
           "radialaxis": {
            "gridcolor": "white",
            "linecolor": "white",
            "ticks": ""
           }
          },
          "scene": {
           "xaxis": {
            "backgroundcolor": "#E5ECF6",
            "gridcolor": "white",
            "gridwidth": 2,
            "linecolor": "white",
            "showbackground": true,
            "ticks": "",
            "zerolinecolor": "white"
           },
           "yaxis": {
            "backgroundcolor": "#E5ECF6",
            "gridcolor": "white",
            "gridwidth": 2,
            "linecolor": "white",
            "showbackground": true,
            "ticks": "",
            "zerolinecolor": "white"
           },
           "zaxis": {
            "backgroundcolor": "#E5ECF6",
            "gridcolor": "white",
            "gridwidth": 2,
            "linecolor": "white",
            "showbackground": true,
            "ticks": "",
            "zerolinecolor": "white"
           }
          },
          "shapedefaults": {
           "line": {
            "color": "#2a3f5f"
           }
          },
          "ternary": {
           "aaxis": {
            "gridcolor": "white",
            "linecolor": "white",
            "ticks": ""
           },
           "baxis": {
            "gridcolor": "white",
            "linecolor": "white",
            "ticks": ""
           },
           "bgcolor": "#E5ECF6",
           "caxis": {
            "gridcolor": "white",
            "linecolor": "white",
            "ticks": ""
           }
          },
          "title": {
           "x": 0.05
          },
          "xaxis": {
           "automargin": true,
           "gridcolor": "white",
           "linecolor": "white",
           "ticks": "",
           "title": {
            "standoff": 15
           },
           "zerolinecolor": "white",
           "zerolinewidth": 2
          },
          "yaxis": {
           "automargin": true,
           "gridcolor": "white",
           "linecolor": "white",
           "ticks": "",
           "title": {
            "standoff": 15
           },
           "zerolinecolor": "white",
           "zerolinewidth": 2
          }
         }
        },
        "width": 1100
       }
      },
      "image/png": "[encoded data removed]",
      "text/html": [
       "<div>                            <div id=\"5308008a-6ce3-4a50-8035-3be0fcb468da\" class=\"plotly-graph-div\" style=\"height:400px; width:1100px;\"></div>            <script type=\"text/javascript\">                require([\"plotly\"], function(Plotly) {                    window.PLOTLYENV=window.PLOTLYENV || {};                                    if (document.getElementById(\"5308008a-6ce3-4a50-8035-3be0fcb468da\")) {                    Plotly.newPlot(                        \"5308008a-6ce3-4a50-8035-3be0fcb468da\",                        [{\"branchvalues\":\"total\",\"customdata\":[[\"15 bis 24\"],[\"55 bis 64\"],[\"55 bis 64\"],[\"55 bis 64\"],[\"55 bis 64\"],[\"45 bis 54\"],[\"45 bis 54\"],[\"45 bis 54\"],[\"55 bis 64\"],[\"55 bis 64\"],[\"65 bis 74\"],[\"65 bis 74\"],[\"35 bis 44\"],[\"65 bis 74\"],[\"65 bis 74\"],[\"65 bis 74\"],[\"55 bis 64\"],[\"55 bis 64\"],[\"75 und \\u00e4lter\"],[\"75 und \\u00e4lter\"],[\"65 bis 74\"],[\"65 bis 74\"],[\"45 bis 54\"],[\"75 und \\u00e4lter\"],[\"65 bis 74\"],[\"65 bis 74\"],[\"75 und \\u00e4lter\"],[\"75 und \\u00e4lter\"],[\"15 bis 24\"],[\"25 bis 34\"],[\"15 bis 24\"],[\"45 bis 54\"],[\"75 und \\u00e4lter\"],[\"55 bis 64\"],[\"75 und \\u00e4lter\"],[\"15 bis 24\"],[\"25 bis 34\"],[\"15 bis 24\"],[\"25 bis 34\"],[\"15 bis 24\"],[\"25 bis 34\"],[\"15 bis 24\"],[\"25 bis 34\"],[\"15 bis 24\"],[\"15 bis 24\"],[\"25 bis 34\"],[\"25 bis 34\"],[\"25 bis 34\"],[\"35 bis 44\"],[\"75 und \\u00e4lter\"],[\"35 bis 44\"],[\"35 bis 44\"],[\"25 bis 34\"],[\"35 bis 44\"],[\"45 bis 54\"],[\"35 bis 44\"],[\"45 bis 54\"],[\"45 bis 54\"],[\"35 bis 44\"],[\"45 bis 54\"],[\"35 bis 44\"],[\"35 bis 44\"],[\"75 und \\u00e4lter\"],[\"15 bis 24\"],[\"15 bis 24\"],[\"15 bis 24\"],[\"25 bis 34\"],[\"25 bis 34\"],[\"25 bis 34\"],[\"35 bis 44\"],[\"35 bis 44\"],[\"35 bis 44\"],[\"45 bis 54\"],[\"45 bis 54\"],[\"45 bis 54\"],[\"55 bis 64\"],[\"55 bis 64\"],[\"55 bis 64\"],[\"65 bis 74\"],[\"65 bis 74\"],[\"65 bis 74\"],[\"75 und \\u00e4lter\"],[\"75 und \\u00e4lter\"],[\"75 und \\u00e4lter\"],[\"(?)\"],[\"(?)\"],[\"(?)\"],[\"(?)\"],[\"(?)\"]],\"domain\":{\"x\":[0.0,1.0],\"y\":[0.0,1.0]},\"hovertemplate\":\"labels=%{label}<br>mean_AntBev=%{value}<br>parent=%{parent}<br>id=%{id}<br>AlterLang=%{customdata[0]}<extra></extra>\",\"ids\":[\"Bildungsstand nach Aufenthaltsart/2020-01-01/Frauen/15 bis 24/Obligatorische Schule\",\"Bildungsstand nach Aufenthaltsart/2020-01-01/Frauen/55 bis 64/Sekundarstufe II\",\"Bildungsstand nach Aufenthaltsart/2020-01-01/M\\u00e4nner/55 bis 64/Sekundarstufe II\",\"Bildungsstand nach Aufenthaltsart/2020-01-01/M\\u00e4nner/55 bis 64/Terti\\u00e4rstufe\",\"Bildungsstand nach Aufenthaltsart/2020-01-01/Frauen/55 bis 64/Terti\\u00e4rstufe\",\"Bildungsstand nach Aufenthaltsart/2020-01-01/Total/45 bis 54/Terti\\u00e4rstufe\",\"Bildungsstand nach Aufenthaltsart/2020-01-01/M\\u00e4nner/45 bis 54/Obligatorische Schule\",\"Bildungsstand nach Aufenthaltsart/2020-01-01/Total/45 bis 54/Obligatorische Schule\",\"Bildungsstand nach Aufenthaltsart/2020-01-01/Frauen/55 bis 64/Obligatorische Schule\",\"Bildungsstand nach Aufenthaltsart/2020-01-01/Total/55 bis 64/Sekundarstufe II\",\"Bildungsstand nach Aufenthaltsart/2020-01-01/Frauen/65 bis 74/Sekundarstufe II\",\"Bildungsstand nach Aufenthaltsart/2020-01-01/M\\u00e4nner/65 bis 74/Sekundarstufe II\",\"Bildungsstand nach Aufenthaltsart/2020-01-01/Total/35 bis 44/Sekundarstufe II\",\"Bildungsstand nach Aufenthaltsart/2020-01-01/Frauen/65 bis 74/Obligatorische Schule\",\"Bildungsstand nach Aufenthaltsart/2020-01-01/M\\u00e4nner/65 bis 74/Terti\\u00e4rstufe\",\"Bildungsstand nach Aufenthaltsart/2020-01-01/Frauen/65 bis 74/Terti\\u00e4rstufe\",\"Bildungsstand nach Aufenthaltsart/2020-01-01/Total/55 bis 64/Terti\\u00e4rstufe\",\"Bildungsstand nach Aufenthaltsart/2020-01-01/M\\u00e4nner/55 bis 64/Obligatorische Schule\",\"Bildungsstand nach Aufenthaltsart/2020-01-01/Frauen/75 und \\u00e4lter/Sekundarstufe II\",\"Bildungsstand nach Aufenthaltsart/2020-01-01/Frauen/75 und \\u00e4lter/Terti\\u00e4rstufe\",\"Bildungsstand nach Aufenthaltsart/2020-01-01/Total/65 bis 74/Terti\\u00e4rstufe\",\"Bildungsstand nach Aufenthaltsart/2020-01-01/Total/65 bis 74/Sekundarstufe II\",\"Bildungsstand nach Aufenthaltsart/2020-01-01/Total/45 bis 54/Sekundarstufe II\",\"Bildungsstand nach Aufenthaltsart/2020-01-01/Frauen/75 und \\u00e4lter/Obligatorische Schule\",\"Bildungsstand nach Aufenthaltsart/2020-01-01/Total/65 bis 74/Obligatorische Schule\",\"Bildungsstand nach Aufenthaltsart/2020-01-01/M\\u00e4nner/65 bis 74/Obligatorische Schule\",\"Bildungsstand nach Aufenthaltsart/2020-01-01/M\\u00e4nner/75 und \\u00e4lter/Sekundarstufe II\",\"Bildungsstand nach Aufenthaltsart/2020-01-01/Total/75 und \\u00e4lter/Sekundarstufe II\",\"Bildungsstand nach Aufenthaltsart/2020-01-01/Frauen/15 bis 24/Terti\\u00e4rstufe\",\"Bildungsstand nach Aufenthaltsart/2020-01-01/M\\u00e4nner/25 bis 34/Terti\\u00e4rstufe\",\"Bildungsstand nach Aufenthaltsart/2020-01-01/M\\u00e4nner/15 bis 24/Terti\\u00e4rstufe\",\"Bildungsstand nach Aufenthaltsart/2020-01-01/M\\u00e4nner/45 bis 54/Sekundarstufe II\",\"Bildungsstand nach Aufenthaltsart/2020-01-01/M\\u00e4nner/75 und \\u00e4lter/Obligatorische Schule\",\"Bildungsstand nach Aufenthaltsart/2020-01-01/Total/55 bis 64/Obligatorische Schule\",\"Bildungsstand nach Aufenthaltsart/2020-01-01/Total/75 und \\u00e4lter/Obligatorische Schule\",\"Bildungsstand nach Aufenthaltsart/2020-01-01/Frauen/15 bis 24/Sekundarstufe II\",\"Bildungsstand nach Aufenthaltsart/2020-01-01/Frauen/25 bis 34/Obligatorische Schule\",\"Bildungsstand nach Aufenthaltsart/2020-01-01/Total/15 bis 24/Obligatorische Schule\",\"Bildungsstand nach Aufenthaltsart/2020-01-01/Frauen/25 bis 34/Terti\\u00e4rstufe\",\"Bildungsstand nach Aufenthaltsart/2020-01-01/Total/15 bis 24/Terti\\u00e4rstufe\",\"Bildungsstand nach Aufenthaltsart/2020-01-01/Total/25 bis 34/Terti\\u00e4rstufe\",\"Bildungsstand nach Aufenthaltsart/2020-01-01/Total/15 bis 24/Sekundarstufe II\",\"Bildungsstand nach Aufenthaltsart/2020-01-01/Frauen/25 bis 34/Sekundarstufe II\",\"Bildungsstand nach Aufenthaltsart/2020-01-01/M\\u00e4nner/15 bis 24/Obligatorische Schule\",\"Bildungsstand nach Aufenthaltsart/2020-01-01/M\\u00e4nner/15 bis 24/Sekundarstufe II\",\"Bildungsstand nach Aufenthaltsart/2020-01-01/Total/25 bis 34/Obligatorische Schule\",\"Bildungsstand nach Aufenthaltsart/2020-01-01/M\\u00e4nner/25 bis 34/Sekundarstufe II\",\"Bildungsstand nach Aufenthaltsart/2020-01-01/Total/25 bis 34/Sekundarstufe II\",\"Bildungsstand nach Aufenthaltsart/2020-01-01/Frauen/35 bis 44/Sekundarstufe II\",\"Bildungsstand nach Aufenthaltsart/2020-01-01/M\\u00e4nner/75 und \\u00e4lter/Terti\\u00e4rstufe\",\"Bildungsstand nach Aufenthaltsart/2020-01-01/Frauen/35 bis 44/Terti\\u00e4rstufe\",\"Bildungsstand nach Aufenthaltsart/2020-01-01/M\\u00e4nner/35 bis 44/Terti\\u00e4rstufe\",\"Bildungsstand nach Aufenthaltsart/2020-01-01/M\\u00e4nner/25 bis 34/Obligatorische Schule\",\"Bildungsstand nach Aufenthaltsart/2020-01-01/Frauen/35 bis 44/Obligatorische Schule\",\"Bildungsstand nach Aufenthaltsart/2020-01-01/Frauen/45 bis 54/Sekundarstufe II\",\"Bildungsstand nach Aufenthaltsart/2020-01-01/Total/35 bis 44/Obligatorische Schule\",\"Bildungsstand nach Aufenthaltsart/2020-01-01/M\\u00e4nner/45 bis 54/Terti\\u00e4rstufe\",\"Bildungsstand nach Aufenthaltsart/2020-01-01/Frauen/45 bis 54/Terti\\u00e4rstufe\",\"Bildungsstand nach Aufenthaltsart/2020-01-01/Total/35 bis 44/Terti\\u00e4rstufe\",\"Bildungsstand nach Aufenthaltsart/2020-01-01/Frauen/45 bis 54/Obligatorische Schule\",\"Bildungsstand nach Aufenthaltsart/2020-01-01/M\\u00e4nner/35 bis 44/Sekundarstufe II\",\"Bildungsstand nach Aufenthaltsart/2020-01-01/M\\u00e4nner/35 bis 44/Obligatorische Schule\",\"Bildungsstand nach Aufenthaltsart/2020-01-01/Total/75 und \\u00e4lter/Terti\\u00e4rstufe\",\"Bildungsstand nach Aufenthaltsart/2020-01-01/Frauen/15 bis 24\",\"Bildungsstand nach Aufenthaltsart/2020-01-01/M\\u00e4nner/15 bis 24\",\"Bildungsstand nach Aufenthaltsart/2020-01-01/Total/15 bis 24\",\"Bildungsstand nach Aufenthaltsart/2020-01-01/Frauen/25 bis 34\",\"Bildungsstand nach Aufenthaltsart/2020-01-01/M\\u00e4nner/25 bis 34\",\"Bildungsstand nach Aufenthaltsart/2020-01-01/Total/25 bis 34\",\"Bildungsstand nach Aufenthaltsart/2020-01-01/Frauen/35 bis 44\",\"Bildungsstand nach Aufenthaltsart/2020-01-01/M\\u00e4nner/35 bis 44\",\"Bildungsstand nach Aufenthaltsart/2020-01-01/Total/35 bis 44\",\"Bildungsstand nach Aufenthaltsart/2020-01-01/Frauen/45 bis 54\",\"Bildungsstand nach Aufenthaltsart/2020-01-01/M\\u00e4nner/45 bis 54\",\"Bildungsstand nach Aufenthaltsart/2020-01-01/Total/45 bis 54\",\"Bildungsstand nach Aufenthaltsart/2020-01-01/Frauen/55 bis 64\",\"Bildungsstand nach Aufenthaltsart/2020-01-01/M\\u00e4nner/55 bis 64\",\"Bildungsstand nach Aufenthaltsart/2020-01-01/Total/55 bis 64\",\"Bildungsstand nach Aufenthaltsart/2020-01-01/Frauen/65 bis 74\",\"Bildungsstand nach Aufenthaltsart/2020-01-01/M\\u00e4nner/65 bis 74\",\"Bildungsstand nach Aufenthaltsart/2020-01-01/Total/65 bis 74\",\"Bildungsstand nach Aufenthaltsart/2020-01-01/Frauen/75 und \\u00e4lter\",\"Bildungsstand nach Aufenthaltsart/2020-01-01/M\\u00e4nner/75 und \\u00e4lter\",\"Bildungsstand nach Aufenthaltsart/2020-01-01/Total/75 und \\u00e4lter\",\"Bildungsstand nach Aufenthaltsart/2020-01-01/Frauen\",\"Bildungsstand nach Aufenthaltsart/2020-01-01/M\\u00e4nner\",\"Bildungsstand nach Aufenthaltsart/2020-01-01/Total\",\"Bildungsstand nach Aufenthaltsart/2020-01-01\",\"Bildungsstand nach Aufenthaltsart\"],\"labels\":[\"Obligatorische Schule\",\"Sekundarstufe II\",\"Sekundarstufe II\",\"Terti\\u00e4rstufe\",\"Terti\\u00e4rstufe\",\"Terti\\u00e4rstufe\",\"Obligatorische Schule\",\"Obligatorische Schule\",\"Obligatorische Schule\",\"Sekundarstufe II\",\"Sekundarstufe II\",\"Sekundarstufe II\",\"Sekundarstufe II\",\"Obligatorische Schule\",\"Terti\\u00e4rstufe\",\"Terti\\u00e4rstufe\",\"Terti\\u00e4rstufe\",\"Obligatorische Schule\",\"Sekundarstufe II\",\"Terti\\u00e4rstufe\",\"Terti\\u00e4rstufe\",\"Sekundarstufe II\",\"Sekundarstufe II\",\"Obligatorische Schule\",\"Obligatorische Schule\",\"Obligatorische Schule\",\"Sekundarstufe II\",\"Sekundarstufe II\",\"Terti\\u00e4rstufe\",\"Terti\\u00e4rstufe\",\"Terti\\u00e4rstufe\",\"Sekundarstufe II\",\"Obligatorische Schule\",\"Obligatorische Schule\",\"Obligatorische Schule\",\"Sekundarstufe II\",\"Obligatorische Schule\",\"Obligatorische Schule\",\"Terti\\u00e4rstufe\",\"Terti\\u00e4rstufe\",\"Terti\\u00e4rstufe\",\"Sekundarstufe II\",\"Sekundarstufe II\",\"Obligatorische Schule\",\"Sekundarstufe II\",\"Obligatorische Schule\",\"Sekundarstufe II\",\"Sekundarstufe II\",\"Sekundarstufe II\",\"Terti\\u00e4rstufe\",\"Terti\\u00e4rstufe\",\"Terti\\u00e4rstufe\",\"Obligatorische Schule\",\"Obligatorische Schule\",\"Sekundarstufe II\",\"Obligatorische Schule\",\"Terti\\u00e4rstufe\",\"Terti\\u00e4rstufe\",\"Terti\\u00e4rstufe\",\"Obligatorische Schule\",\"Sekundarstufe II\",\"Obligatorische Schule\",\"Terti\\u00e4rstufe\",\"15 bis 24\",\"15 bis 24\",\"15 bis 24\",\"25 bis 34\",\"25 bis 34\",\"25 bis 34\",\"35 bis 44\",\"35 bis 44\",\"35 bis 44\",\"45 bis 54\",\"45 bis 54\",\"45 bis 54\",\"55 bis 64\",\"55 bis 64\",\"55 bis 64\",\"65 bis 74\",\"65 bis 74\",\"65 bis 74\",\"75 und \\u00e4lter\",\"75 und \\u00e4lter\",\"75 und \\u00e4lter\",\"Frauen\",\"M\\u00e4nner\",\"Total\",\"2020-01-01\",\"Bildungsstand nach Aufenthaltsart\"],\"marker\":{\"colors\":[\"#00cc96\",\"#ab63fa\",\"#ab63fa\",\"#ab63fa\",\"#ab63fa\",\"#FFA15A\",\"#FFA15A\",\"#FFA15A\",\"#ab63fa\",\"#ab63fa\",\"#19d3f3\",\"#19d3f3\",\"#FF6692\",\"#19d3f3\",\"#19d3f3\",\"#19d3f3\",\"#ab63fa\",\"#ab63fa\",\"#B6E880\",\"#B6E880\",\"#19d3f3\",\"#19d3f3\",\"#FFA15A\",\"#B6E880\",\"#19d3f3\",\"#19d3f3\",\"#B6E880\",\"#B6E880\",\"#00cc96\",\"#FF97FF\",\"#00cc96\",\"#FFA15A\",\"#B6E880\",\"#ab63fa\",\"#B6E880\",\"#00cc96\",\"#FF97FF\",\"#00cc96\",\"#FF97FF\",\"#00cc96\",\"#FF97FF\",\"#00cc96\",\"#FF97FF\",\"#00cc96\",\"#00cc96\",\"#FF97FF\",\"#FF97FF\",\"#FF97FF\",\"#FF6692\",\"#B6E880\",\"#FF6692\",\"#FF6692\",\"#FF97FF\",\"#FF6692\",\"#FFA15A\",\"#FF6692\",\"#FFA15A\",\"#FFA15A\",\"#FF6692\",\"#FFA15A\",\"#FF6692\",\"#FF6692\",\"#B6E880\",\"#00cc96\",\"#00cc96\",\"#00cc96\",\"#FF97FF\",\"#FF97FF\",\"#FF97FF\",\"#FF6692\",\"#FF6692\",\"#FF6692\",\"#FFA15A\",\"#FFA15A\",\"#FFA15A\",\"#ab63fa\",\"#ab63fa\",\"#ab63fa\",\"#19d3f3\",\"#19d3f3\",\"#19d3f3\",\"#B6E880\",\"#B6E880\",\"#B6E880\",\"lightgrey\",\"lightgrey\",\"lightgrey\",\"lightgrey\",\"lightgrey\"]},\"name\":\"\",\"parents\":[\"Bildungsstand nach Aufenthaltsart/2020-01-01/Frauen/15 bis 24\",\"Bildungsstand nach Aufenthaltsart/2020-01-01/Frauen/55 bis 64\",\"Bildungsstand nach Aufenthaltsart/2020-01-01/M\\u00e4nner/55 bis 64\",\"Bildungsstand nach Aufenthaltsart/2020-01-01/M\\u00e4nner/55 bis 64\",\"Bildungsstand nach Aufenthaltsart/2020-01-01/Frauen/55 bis 64\",\"Bildungsstand nach Aufenthaltsart/2020-01-01/Total/45 bis 54\",\"Bildungsstand nach Aufenthaltsart/2020-01-01/M\\u00e4nner/45 bis 54\",\"Bildungsstand nach Aufenthaltsart/2020-01-01/Total/45 bis 54\",\"Bildungsstand nach Aufenthaltsart/2020-01-01/Frauen/55 bis 64\",\"Bildungsstand nach Aufenthaltsart/2020-01-01/Total/55 bis 64\",\"Bildungsstand nach Aufenthaltsart/2020-01-01/Frauen/65 bis 74\",\"Bildungsstand nach Aufenthaltsart/2020-01-01/M\\u00e4nner/65 bis 74\",\"Bildungsstand nach Aufenthaltsart/2020-01-01/Total/35 bis 44\",\"Bildungsstand nach Aufenthaltsart/2020-01-01/Frauen/65 bis 74\",\"Bildungsstand nach Aufenthaltsart/2020-01-01/M\\u00e4nner/65 bis 74\",\"Bildungsstand nach Aufenthaltsart/2020-01-01/Frauen/65 bis 74\",\"Bildungsstand nach Aufenthaltsart/2020-01-01/Total/55 bis 64\",\"Bildungsstand nach Aufenthaltsart/2020-01-01/M\\u00e4nner/55 bis 64\",\"Bildungsstand nach Aufenthaltsart/2020-01-01/Frauen/75 und \\u00e4lter\",\"Bildungsstand nach Aufenthaltsart/2020-01-01/Frauen/75 und \\u00e4lter\",\"Bildungsstand nach Aufenthaltsart/2020-01-01/Total/65 bis 74\",\"Bildungsstand nach Aufenthaltsart/2020-01-01/Total/65 bis 74\",\"Bildungsstand nach Aufenthaltsart/2020-01-01/Total/45 bis 54\",\"Bildungsstand nach Aufenthaltsart/2020-01-01/Frauen/75 und \\u00e4lter\",\"Bildungsstand nach Aufenthaltsart/2020-01-01/Total/65 bis 74\",\"Bildungsstand nach Aufenthaltsart/2020-01-01/M\\u00e4nner/65 bis 74\",\"Bildungsstand nach Aufenthaltsart/2020-01-01/M\\u00e4nner/75 und \\u00e4lter\",\"Bildungsstand nach Aufenthaltsart/2020-01-01/Total/75 und \\u00e4lter\",\"Bildungsstand nach Aufenthaltsart/2020-01-01/Frauen/15 bis 24\",\"Bildungsstand nach Aufenthaltsart/2020-01-01/M\\u00e4nner/25 bis 34\",\"Bildungsstand nach Aufenthaltsart/2020-01-01/M\\u00e4nner/15 bis 24\",\"Bildungsstand nach Aufenthaltsart/2020-01-01/M\\u00e4nner/45 bis 54\",\"Bildungsstand nach Aufenthaltsart/2020-01-01/M\\u00e4nner/75 und \\u00e4lter\",\"Bildungsstand nach Aufenthaltsart/2020-01-01/Total/55 bis 64\",\"Bildungsstand nach Aufenthaltsart/2020-01-01/Total/75 und \\u00e4lter\",\"Bildungsstand nach Aufenthaltsart/2020-01-01/Frauen/15 bis 24\",\"Bildungsstand nach Aufenthaltsart/2020-01-01/Frauen/25 bis 34\",\"Bildungsstand nach Aufenthaltsart/2020-01-01/Total/15 bis 24\",\"Bildungsstand nach Aufenthaltsart/2020-01-01/Frauen/25 bis 34\",\"Bildungsstand nach Aufenthaltsart/2020-01-01/Total/15 bis 24\",\"Bildungsstand nach Aufenthaltsart/2020-01-01/Total/25 bis 34\",\"Bildungsstand nach Aufenthaltsart/2020-01-01/Total/15 bis 24\",\"Bildungsstand nach Aufenthaltsart/2020-01-01/Frauen/25 bis 34\",\"Bildungsstand nach Aufenthaltsart/2020-01-01/M\\u00e4nner/15 bis 24\",\"Bildungsstand nach Aufenthaltsart/2020-01-01/M\\u00e4nner/15 bis 24\",\"Bildungsstand nach Aufenthaltsart/2020-01-01/Total/25 bis 34\",\"Bildungsstand nach Aufenthaltsart/2020-01-01/M\\u00e4nner/25 bis 34\",\"Bildungsstand nach Aufenthaltsart/2020-01-01/Total/25 bis 34\",\"Bildungsstand nach Aufenthaltsart/2020-01-01/Frauen/35 bis 44\",\"Bildungsstand nach Aufenthaltsart/2020-01-01/M\\u00e4nner/75 und \\u00e4lter\",\"Bildungsstand nach Aufenthaltsart/2020-01-01/Frauen/35 bis 44\",\"Bildungsstand nach Aufenthaltsart/2020-01-01/M\\u00e4nner/35 bis 44\",\"Bildungsstand nach Aufenthaltsart/2020-01-01/M\\u00e4nner/25 bis 34\",\"Bildungsstand nach Aufenthaltsart/2020-01-01/Frauen/35 bis 44\",\"Bildungsstand nach Aufenthaltsart/2020-01-01/Frauen/45 bis 54\",\"Bildungsstand nach Aufenthaltsart/2020-01-01/Total/35 bis 44\",\"Bildungsstand nach Aufenthaltsart/2020-01-01/M\\u00e4nner/45 bis 54\",\"Bildungsstand nach Aufenthaltsart/2020-01-01/Frauen/45 bis 54\",\"Bildungsstand nach Aufenthaltsart/2020-01-01/Total/35 bis 44\",\"Bildungsstand nach Aufenthaltsart/2020-01-01/Frauen/45 bis 54\",\"Bildungsstand nach Aufenthaltsart/2020-01-01/M\\u00e4nner/35 bis 44\",\"Bildungsstand nach Aufenthaltsart/2020-01-01/M\\u00e4nner/35 bis 44\",\"Bildungsstand nach Aufenthaltsart/2020-01-01/Total/75 und \\u00e4lter\",\"Bildungsstand nach Aufenthaltsart/2020-01-01/Frauen\",\"Bildungsstand nach Aufenthaltsart/2020-01-01/M\\u00e4nner\",\"Bildungsstand nach Aufenthaltsart/2020-01-01/Total\",\"Bildungsstand nach Aufenthaltsart/2020-01-01/Frauen\",\"Bildungsstand nach Aufenthaltsart/2020-01-01/M\\u00e4nner\",\"Bildungsstand nach Aufenthaltsart/2020-01-01/Total\",\"Bildungsstand nach Aufenthaltsart/2020-01-01/Frauen\",\"Bildungsstand nach Aufenthaltsart/2020-01-01/M\\u00e4nner\",\"Bildungsstand nach Aufenthaltsart/2020-01-01/Total\",\"Bildungsstand nach Aufenthaltsart/2020-01-01/Frauen\",\"Bildungsstand nach Aufenthaltsart/2020-01-01/M\\u00e4nner\",\"Bildungsstand nach Aufenthaltsart/2020-01-01/Total\",\"Bildungsstand nach Aufenthaltsart/2020-01-01/Frauen\",\"Bildungsstand nach Aufenthaltsart/2020-01-01/M\\u00e4nner\",\"Bildungsstand nach Aufenthaltsart/2020-01-01/Total\",\"Bildungsstand nach Aufenthaltsart/2020-01-01/Frauen\",\"Bildungsstand nach Aufenthaltsart/2020-01-01/M\\u00e4nner\",\"Bildungsstand nach Aufenthaltsart/2020-01-01/Total\",\"Bildungsstand nach Aufenthaltsart/2020-01-01/Frauen\",\"Bildungsstand nach Aufenthaltsart/2020-01-01/M\\u00e4nner\",\"Bildungsstand nach Aufenthaltsart/2020-01-01/Total\",\"Bildungsstand nach Aufenthaltsart/2020-01-01\",\"Bildungsstand nach Aufenthaltsart/2020-01-01\",\"Bildungsstand nach Aufenthaltsart/2020-01-01\",\"Bildungsstand nach Aufenthaltsart\",\"\"],\"values\":[37.1,34.9,28.2,50.6,43.7,59.8,13.7,15.4,21.3,31.6,45.8,39.8,20.7,22.6,47.8,31.6,47.2,21.2,49.2,20.7,39.1,43.0,24.9,30.0,17.9,12.4,47.8,48.7,17.0,76.0,15.6,25.2,13.4,21.2,23.5,45.9,6.0,39.2,77.0,16.3,76.5,44.5,17.0,41.1,43.2,6.4,17.2,17.1,20.6,38.8,71.6,70.0,6.8,7.8,24.4,8.5,61.0,58.4,70.8,17.2,20.7,9.3,27.8,100.0,99.9,100.0,100.0,100.0,100.0,100.0,100.0,100.0,100.0,99.9,100.1,99.9,100.0,100.0,100.0,100.0,100.0,99.9,100.0,100.0,699.8,699.8,700.1,2099.7,2099.7],\"type\":\"treemap\",\"root\":{\"color\":\"grey\"}}],                        {\"template\":{\"data\":{\"bar\":[{\"error_x\":{\"color\":\"#2a3f5f\"},\"error_y\":{\"color\":\"#2a3f5f\"},\"marker\":{\"line\":{\"color\":\"#E5ECF6\",\"width\":0.5},\"pattern\":{\"fillmode\":\"overlay\",\"size\":10,\"solidity\":0.2}},\"type\":\"bar\"}],\"barpolar\":[{\"marker\":{\"line\":{\"color\":\"#E5ECF6\",\"width\":0.5},\"pattern\":{\"fillmode\":\"overlay\",\"size\":10,\"solidity\":0.2}},\"type\":\"barpolar\"}],\"carpet\":[{\"aaxis\":{\"endlinecolor\":\"#2a3f5f\",\"gridcolor\":\"white\",\"linecolor\":\"white\",\"minorgridcolor\":\"white\",\"startlinecolor\":\"#2a3f5f\"},\"baxis\":{\"endlinecolor\":\"#2a3f5f\",\"gridcolor\":\"white\",\"linecolor\":\"white\",\"minorgridcolor\":\"white\",\"startlinecolor\":\"#2a3f5f\"},\"type\":\"carpet\"}],\"choropleth\":[{\"colorbar\":{\"outlinewidth\":0,\"ticks\":\"\"},\"type\":\"choropleth\"}],\"contour\":[{\"colorbar\":{\"outlinewidth\":0,\"ticks\":\"\"},\"colorscale\":[[0.0,\"#0d0887\"],[0.1111111111111111,\"#46039f\"],[0.2222222222222222,\"#7201a8\"],[0.3333333333333333,\"#9c179e\"],[0.4444444444444444,\"#bd3786\"],[0.5555555555555556,\"#d8576b\"],[0.6666666666666666,\"#ed7953\"],[0.7777777777777778,\"#fb9f3a\"],[0.8888888888888888,\"#fdca26\"],[1.0,\"#f0f921\"]],\"type\":\"contour\"}],\"contourcarpet\":[{\"colorbar\":{\"outlinewidth\":0,\"ticks\":\"\"},\"type\":\"contourcarpet\"}],\"heatmap\":[{\"colorbar\":{\"outlinewidth\":0,\"ticks\":\"\"},\"colorscale\":[[0.0,\"#0d0887\"],[0.1111111111111111,\"#46039f\"],[0.2222222222222222,\"#7201a8\"],[0.3333333333333333,\"#9c179e\"],[0.4444444444444444,\"#bd3786\"],[0.5555555555555556,\"#d8576b\"],[0.6666666666666666,\"#ed7953\"],[0.7777777777777778,\"#fb9f3a\"],[0.8888888888888888,\"#fdca26\"],[1.0,\"#f0f921\"]],\"type\":\"heatmap\"}],\"heatmapgl\":[{\"colorbar\":{\"outlinewidth\":0,\"ticks\":\"\"},\"colorscale\":[[0.0,\"#0d0887\"],[0.1111111111111111,\"#46039f\"],[0.2222222222222222,\"#7201a8\"],[0.3333333333333333,\"#9c179e\"],[0.4444444444444444,\"#bd3786\"],[0.5555555555555556,\"#d8576b\"],[0.6666666666666666,\"#ed7953\"],[0.7777777777777778,\"#fb9f3a\"],[0.8888888888888888,\"#fdca26\"],[1.0,\"#f0f921\"]],\"type\":\"heatmapgl\"}],\"histogram\":[{\"marker\":{\"pattern\":{\"fillmode\":\"overlay\",\"size\":10,\"solidity\":0.2}},\"type\":\"histogram\"}],\"histogram2d\":[{\"colorbar\":{\"outlinewidth\":0,\"ticks\":\"\"},\"colorscale\":[[0.0,\"#0d0887\"],[0.1111111111111111,\"#46039f\"],[0.2222222222222222,\"#7201a8\"],[0.3333333333333333,\"#9c179e\"],[0.4444444444444444,\"#bd3786\"],[0.5555555555555556,\"#d8576b\"],[0.6666666666666666,\"#ed7953\"],[0.7777777777777778,\"#fb9f3a\"],[0.8888888888888888,\"#fdca26\"],[1.0,\"#f0f921\"]],\"type\":\"histogram2d\"}],\"histogram2dcontour\":[{\"colorbar\":{\"outlinewidth\":0,\"ticks\":\"\"},\"colorscale\":[[0.0,\"#0d0887\"],[0.1111111111111111,\"#46039f\"],[0.2222222222222222,\"#7201a8\"],[0.3333333333333333,\"#9c179e\"],[0.4444444444444444,\"#bd3786\"],[0.5555555555555556,\"#d8576b\"],[0.6666666666666666,\"#ed7953\"],[0.7777777777777778,\"#fb9f3a\"],[0.8888888888888888,\"#fdca26\"],[1.0,\"#f0f921\"]],\"type\":\"histogram2dcontour\"}],\"mesh3d\":[{\"colorbar\":{\"outlinewidth\":0,\"ticks\":\"\"},\"type\":\"mesh3d\"}],\"parcoords\":[{\"line\":{\"colorbar\":{\"outlinewidth\":0,\"ticks\":\"\"}},\"type\":\"parcoords\"}],\"pie\":[{\"automargin\":true,\"type\":\"pie\"}],\"scatter\":[{\"marker\":{\"colorbar\":{\"outlinewidth\":0,\"ticks\":\"\"}},\"type\":\"scatter\"}],\"scatter3d\":[{\"line\":{\"colorbar\":{\"outlinewidth\":0,\"ticks\":\"\"}},\"marker\":{\"colorbar\":{\"outlinewidth\":0,\"ticks\":\"\"}},\"type\":\"scatter3d\"}],\"scattercarpet\":[{\"marker\":{\"colorbar\":{\"outlinewidth\":0,\"ticks\":\"\"}},\"type\":\"scattercarpet\"}],\"scattergeo\":[{\"marker\":{\"colorbar\":{\"outlinewidth\":0,\"ticks\":\"\"}},\"type\":\"scattergeo\"}],\"scattergl\":[{\"marker\":{\"colorbar\":{\"outlinewidth\":0,\"ticks\":\"\"}},\"type\":\"scattergl\"}],\"scattermapbox\":[{\"marker\":{\"colorbar\":{\"outlinewidth\":0,\"ticks\":\"\"}},\"type\":\"scattermapbox\"}],\"scatterpolar\":[{\"marker\":{\"colorbar\":{\"outlinewidth\":0,\"ticks\":\"\"}},\"type\":\"scatterpolar\"}],\"scatterpolargl\":[{\"marker\":{\"colorbar\":{\"outlinewidth\":0,\"ticks\":\"\"}},\"type\":\"scatterpolargl\"}],\"scatterternary\":[{\"marker\":{\"colorbar\":{\"outlinewidth\":0,\"ticks\":\"\"}},\"type\":\"scatterternary\"}],\"surface\":[{\"colorbar\":{\"outlinewidth\":0,\"ticks\":\"\"},\"colorscale\":[[0.0,\"#0d0887\"],[0.1111111111111111,\"#46039f\"],[0.2222222222222222,\"#7201a8\"],[0.3333333333333333,\"#9c179e\"],[0.4444444444444444,\"#bd3786\"],[0.5555555555555556,\"#d8576b\"],[0.6666666666666666,\"#ed7953\"],[0.7777777777777778,\"#fb9f3a\"],[0.8888888888888888,\"#fdca26\"],[1.0,\"#f0f921\"]],\"type\":\"surface\"}],\"table\":[{\"cells\":{\"fill\":{\"color\":\"#EBF0F8\"},\"line\":{\"color\":\"white\"}},\"header\":{\"fill\":{\"color\":\"#C8D4E3\"},\"line\":{\"color\":\"white\"}},\"type\":\"table\"}]},\"layout\":{\"annotationdefaults\":{\"arrowcolor\":\"#2a3f5f\",\"arrowhead\":0,\"arrowwidth\":1},\"autotypenumbers\":\"strict\",\"coloraxis\":{\"colorbar\":{\"outlinewidth\":0,\"ticks\":\"\"}},\"colorscale\":{\"diverging\":[[0,\"#8e0152\"],[0.1,\"#c51b7d\"],[0.2,\"#de77ae\"],[0.3,\"#f1b6da\"],[0.4,\"#fde0ef\"],[0.5,\"#f7f7f7\"],[0.6,\"#e6f5d0\"],[0.7,\"#b8e186\"],[0.8,\"#7fbc41\"],[0.9,\"#4d9221\"],[1,\"#276419\"]],\"sequential\":[[0.0,\"#0d0887\"],[0.1111111111111111,\"#46039f\"],[0.2222222222222222,\"#7201a8\"],[0.3333333333333333,\"#9c179e\"],[0.4444444444444444,\"#bd3786\"],[0.5555555555555556,\"#d8576b\"],[0.6666666666666666,\"#ed7953\"],[0.7777777777777778,\"#fb9f3a\"],[0.8888888888888888,\"#fdca26\"],[1.0,\"#f0f921\"]],\"sequentialminus\":[[0.0,\"#0d0887\"],[0.1111111111111111,\"#46039f\"],[0.2222222222222222,\"#7201a8\"],[0.3333333333333333,\"#9c179e\"],[0.4444444444444444,\"#bd3786\"],[0.5555555555555556,\"#d8576b\"],[0.6666666666666666,\"#ed7953\"],[0.7777777777777778,\"#fb9f3a\"],[0.8888888888888888,\"#fdca26\"],[1.0,\"#f0f921\"]]},\"colorway\":[\"#636efa\",\"#EF553B\",\"#00cc96\",\"#ab63fa\",\"#FFA15A\",\"#19d3f3\",\"#FF6692\",\"#B6E880\",\"#FF97FF\",\"#FECB52\"],\"font\":{\"color\":\"#2a3f5f\"},\"geo\":{\"bgcolor\":\"white\",\"lakecolor\":\"white\",\"landcolor\":\"#E5ECF6\",\"showlakes\":true,\"showland\":true,\"subunitcolor\":\"white\"},\"hoverlabel\":{\"align\":\"left\"},\"hovermode\":\"closest\",\"mapbox\":{\"style\":\"light\"},\"paper_bgcolor\":\"white\",\"plot_bgcolor\":\"#E5ECF6\",\"polar\":{\"angularaxis\":{\"gridcolor\":\"white\",\"linecolor\":\"white\",\"ticks\":\"\"},\"bgcolor\":\"#E5ECF6\",\"radialaxis\":{\"gridcolor\":\"white\",\"linecolor\":\"white\",\"ticks\":\"\"}},\"scene\":{\"xaxis\":{\"backgroundcolor\":\"#E5ECF6\",\"gridcolor\":\"white\",\"gridwidth\":2,\"linecolor\":\"white\",\"showbackground\":true,\"ticks\":\"\",\"zerolinecolor\":\"white\"},\"yaxis\":{\"backgroundcolor\":\"#E5ECF6\",\"gridcolor\":\"white\",\"gridwidth\":2,\"linecolor\":\"white\",\"showbackground\":true,\"ticks\":\"\",\"zerolinecolor\":\"white\"},\"zaxis\":{\"backgroundcolor\":\"#E5ECF6\",\"gridcolor\":\"white\",\"gridwidth\":2,\"linecolor\":\"white\",\"showbackground\":true,\"ticks\":\"\",\"zerolinecolor\":\"white\"}},\"shapedefaults\":{\"line\":{\"color\":\"#2a3f5f\"}},\"ternary\":{\"aaxis\":{\"gridcolor\":\"white\",\"linecolor\":\"white\",\"ticks\":\"\"},\"baxis\":{\"gridcolor\":\"white\",\"linecolor\":\"white\",\"ticks\":\"\"},\"bgcolor\":\"#E5ECF6\",\"caxis\":{\"gridcolor\":\"white\",\"linecolor\":\"white\",\"ticks\":\"\"}},\"title\":{\"x\":0.05},\"xaxis\":{\"automargin\":true,\"gridcolor\":\"white\",\"linecolor\":\"white\",\"ticks\":\"\",\"title\":{\"standoff\":15},\"zerolinecolor\":\"white\",\"zerolinewidth\":2},\"yaxis\":{\"automargin\":true,\"gridcolor\":\"white\",\"linecolor\":\"white\",\"ticks\":\"\",\"title\":{\"standoff\":15},\"zerolinecolor\":\"white\",\"zerolinewidth\":2}}},\"legend\":{\"tracegroupgap\":0},\"margin\":{\"t\":50,\"l\":25,\"r\":250,\"b\":25},\"height\":400,\"width\":1100},                        {\"responsive\": true}                    ).then(function(){\n",
       "                            \n",
       "var gd = document.getElementById('5308008a-6ce3-4a50-8035-3be0fcb468da');\n",
       "var x = new MutationObserver(function (mutations, observer) {{\n",
       "        var display = window.getComputedStyle(gd).display;\n",
       "        if (!display || display === 'none') {{\n",
       "            console.log([gd, 'removed!']);\n",
       "            Plotly.purge(gd);\n",
       "            observer.disconnect();\n",
       "        }}\n",
       "}});\n",
       "\n",
       "// Listen for the removal of the full notebook cells\n",
       "var notebookContainer = gd.closest('#notebook-container');\n",
       "if (notebookContainer) {{\n",
       "    x.observe(notebookContainer, {childList: true});\n",
       "}}\n",
       "\n",
       "// Listen for the clearing of the current output cell\n",
       "var outputEl = gd.closest('.output');\n",
       "if (outputEl) {{\n",
       "    x.observe(outputEl, {childList: true});\n",
       "}}\n",
       "\n",
       "                        })                };                });            </script>        </div>"
      ]
     },
     "metadata": {},
     "output_type": "display_data"
    }
   ],
   "source": [
    "#myTitle=\"Bildungsstand nach ...\"\n",
    "\n",
    "fig = px.treemap(myTreemapAgg.reset_index(), path=[px.Constant(myTitle), 'Jahr_str','SexLang', 'AlterLang', 'Bildungsstand']\n",
    "                 , values='mean_AntBev'\n",
    "                 , color='AlterLang'\n",
    "                 ## bei discrete scales (bei Klassen und Strings):                 \n",
    "                 , color_discrete_map={'(?)':'lightgrey','EVP':'gold', 'SP':'#FF3030', 'PdA':'#EE3B3B', 'Grüne':'#A2CD5A','GLP':'#CAFF70','Die Mitte':'orange','FDP':'#104E8B','AL':'deeppink','SVP':'forestgreen', 'FL ZÜRI':'#8B864E','Volt':'#lightblue' }                \n",
    "                 ## bei continuous scales (bei Zahlenwerten):\n",
    "                , color_continuous_scale='Blues'\n",
    "                #, color_continuous_midpoint=np.average(df['AnzBestWir'], weights=df['AnzBestWir'])  \n",
    "                 ,height=400\n",
    "                 ,width=1100                 \n",
    "                )\n",
    "fig.update_traces(root_color=\"grey\")\n",
    "fig.update_layout(margin = dict(t=50, l=25, r=250, b=25))\n",
    "fig.show()"
   ]
  },
  {
   "cell_type": "markdown",
   "metadata": {
    "tags": []
   },
   "source": [
    "\n",
    "\n"
   ]
  },
  {
   "cell_type": "markdown",
   "metadata": {},
   "source": [
    "## ---------------------- hier Plausi beendet\n",
    "\n",
    "**Sharepoint als gecheckt markieren!**"
   ]
  },
  {
   "cell_type": "markdown",
   "metadata": {},
   "source": [
    "Record auf Sharepoint: **[Link](https://kollaboration.intranet.stzh.ch/orga/ssz-produkte/Lists/SASA_Outputs/DispForm.aspx?ID=357&ContentTypeId=0x0100988EAF029F1EFE4CA675F53C32A5D53D01006DBC563E6FBE9E4EB6FDC780799752E1)**\n",
    "\n",
    "---------------------------------------------------------------------------"
   ]
  },
  {
   "cell_type": "code",
   "execution_count": null,
   "metadata": {},
   "outputs": [],
   "source": []
  }
 ],
 "metadata": {
  "kernelspec": {
   "display_name": "Python 3 (ipykernel)",
   "language": "python",
   "name": "python3"
  },
  "language_info": {
   "codemirror_mode": {
    "name": "ipython",
    "version": 3
   },
   "file_extension": ".py",
   "mimetype": "text/x-python",
   "name": "python",
   "nbconvert_exporter": "python",
   "pygments_lexer": "ipython3",
   "version": "3.7.11"
  }
 },
 "nbformat": 4,
 "nbformat_minor": 4
}
