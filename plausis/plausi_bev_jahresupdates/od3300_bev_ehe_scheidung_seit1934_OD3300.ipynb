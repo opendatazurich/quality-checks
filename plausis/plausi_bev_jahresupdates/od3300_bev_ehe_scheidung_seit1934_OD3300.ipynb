{
 "cells": [
  {
   "cell_type": "markdown",
   "metadata": {},
   "source": [
    "# Testing\n",
    "### Eheschliessungen und Ehescheidungen, seit 1934\n",
    "Datum: 02.11.2021"
   ]
  },
  {
   "cell_type": "markdown",
   "metadata": {},
   "source": [
    "**Importiere die notwendigen Packages**"
   ]
  },
  {
   "cell_type": "code",
   "execution_count": 6,
   "metadata": {},
   "outputs": [],
   "source": [
    "#pip install geopandas fiona requests folium mplleaflet contextily"
   ]
  },
  {
   "cell_type": "code",
   "execution_count": 7,
   "metadata": {},
   "outputs": [],
   "source": [
    "import pandas as pd\n",
    "import pivottablejs\n",
    "from pivottablejs import pivot_ui\n",
    "import numpy as np\n",
    "import altair as alt\n",
    "import matplotlib.pyplot as plt\n",
    "from datetime import datetime\n",
    "import geopandas as gpd\n",
    "import folium \n",
    "\n"
   ]
  },
  {
   "cell_type": "markdown",
   "metadata": {},
   "source": [
    "Definiere Settings. Hier das Zahlenformat von Float-Werten (z.B. *'{:,.2f}'.format* mit Komma als Tausenderzeichen), "
   ]
  },
  {
   "cell_type": "code",
   "execution_count": 8,
   "metadata": {},
   "outputs": [],
   "source": [
    "pd.options.display.float_format = '{:.0f}'.format\n",
    "pd.set_option('display.width', 100)\n",
    "pd.set_option('display.max_columns', 15)"
   ]
  },
  {
   "cell_type": "markdown",
   "metadata": {},
   "source": [
    "Importiere einen Datensatz von der **DWH_INT** Dropzone.\n",
    "\n",
    "- Beachte dabei die Notation des Pfades...\n",
    "- Definiere mal aktuell noch keine weiteren Parameter beim Import"
   ]
  },
  {
   "cell_type": "markdown",
   "metadata": {},
   "source": [
    "**Dataset auf INTEG Datenkatalog**: https://data.integ.stadt-zuerich.ch/dataset/int_dwh_bev_ehe_scheidung_seit1934_od3300\n",
    "\n",
    "(int_dwh)"
   ]
  },
  {
   "cell_type": "code",
   "execution_count": 9,
   "metadata": {},
   "outputs": [],
   "source": [
    "# Filepath\n",
    "fp = r\"\\\\szh\\ssz\\applikationen\\OGD_Dropzone\\INT_DWH\\bev_ehe_scheidung_seit1934_OD3300\\BEV330OD3300.csv\"\n",
    "\n",
    "\n",
    "# Read the data\n",
    "data2betested = pd.read_csv(\n",
    "    fp, \n",
    "    sep=',',\n",
    "   #usecols=[0,1,2,3,4,6],\n",
    "   #names=['stationid','year','month','avgtemp','latitude','longitude','elevation','station','countryid','country'],\n",
    "   #skiprows=1,\n",
    "   # parse_dates=[0],\n",
    "    parse_dates=True,\n",
    "    #date_parser=lambda x: pd.to_datetime(x, format=\"%Y\"), \n",
    "    #index_col=\"date_time\",\n",
    "    low_memory=False    \n",
    "    )\n"
   ]
  },
  {
   "cell_type": "markdown",
   "metadata": {},
   "source": [
    "In der Folge ein paar erste Tests:"
   ]
  },
  {
   "cell_type": "code",
   "execution_count": 10,
   "metadata": {},
   "outputs": [
    {
     "data": {
      "text/plain": [
       "pandas.core.frame.DataFrame"
      ]
     },
     "execution_count": 10,
     "metadata": {},
     "output_type": "execute_result"
    }
   ],
   "source": [
    "type(data2betested)"
   ]
  },
  {
   "cell_type": "markdown",
   "metadata": {},
   "source": [
    " - 1) Zeige eine kurze Vorschau der importierten Daten\n",
    " - 2) Weise die Datentypen aus\n",
    " - 3) Zeige die Shape (Umfang) des Datensatzes an"
   ]
  },
  {
   "cell_type": "code",
   "execution_count": 11,
   "metadata": {},
   "outputs": [
    {
     "data": {
      "text/html": [
       "<div>\n",
       "<style scoped>\n",
       "    .dataframe tbody tr th:only-of-type {\n",
       "        vertical-align: middle;\n",
       "    }\n",
       "\n",
       "    .dataframe tbody tr th {\n",
       "        vertical-align: top;\n",
       "    }\n",
       "\n",
       "    .dataframe thead th {\n",
       "        text-align: right;\n",
       "    }\n",
       "</style>\n",
       "<table border=\"1\" class=\"dataframe\">\n",
       "  <thead>\n",
       "    <tr style=\"text-align: right;\">\n",
       "      <th></th>\n",
       "      <th>StichtagDatJahr</th>\n",
       "      <th>AnzSchl</th>\n",
       "      <th>AnzSche</th>\n",
       "      <th>AnzBestWir</th>\n",
       "    </tr>\n",
       "  </thead>\n",
       "  <tbody>\n",
       "    <tr>\n",
       "      <th>0</th>\n",
       "      <td>1934</td>\n",
       "      <td>4220</td>\n",
       "      <td>705</td>\n",
       "      <td>315864</td>\n",
       "    </tr>\n",
       "    <tr>\n",
       "      <th>1</th>\n",
       "      <td>1935</td>\n",
       "      <td>3775</td>\n",
       "      <td>678</td>\n",
       "      <td>317157</td>\n",
       "    </tr>\n",
       "    <tr>\n",
       "      <th>2</th>\n",
       "      <td>1936</td>\n",
       "      <td>3588</td>\n",
       "      <td>703</td>\n",
       "      <td>317712</td>\n",
       "    </tr>\n",
       "  </tbody>\n",
       "</table>\n",
       "</div>"
      ],
      "text/plain": [
       "   StichtagDatJahr  AnzSchl  AnzSche  AnzBestWir\n",
       "0             1934     4220      705      315864\n",
       "1             1935     3775      678      317157\n",
       "2             1936     3588      703      317712"
      ]
     },
     "execution_count": 11,
     "metadata": {},
     "output_type": "execute_result"
    }
   ],
   "source": [
    "data2betested.head(3)"
   ]
  },
  {
   "cell_type": "code",
   "execution_count": 12,
   "metadata": {},
   "outputs": [
    {
     "data": {
      "text/plain": [
       "StichtagDatJahr    int64\n",
       "AnzSchl            int64\n",
       "AnzSche            int64\n",
       "AnzBestWir         int64\n",
       "dtype: object"
      ]
     },
     "execution_count": 12,
     "metadata": {},
     "output_type": "execute_result"
    }
   ],
   "source": [
    "data2betested.dtypes"
   ]
  },
  {
   "cell_type": "code",
   "execution_count": 13,
   "metadata": {},
   "outputs": [
    {
     "data": {
      "text/plain": [
       "(87, 4)"
      ]
     },
     "execution_count": 13,
     "metadata": {},
     "output_type": "execute_result"
    }
   ],
   "source": [
    "data2betested.shape"
   ]
  },
  {
   "cell_type": "markdown",
   "metadata": {},
   "source": [
    "Beschreibe einzelne Attribute"
   ]
  },
  {
   "cell_type": "code",
   "execution_count": 14,
   "metadata": {},
   "outputs": [
    {
     "data": {
      "text/html": [
       "<div>\n",
       "<style scoped>\n",
       "    .dataframe tbody tr th:only-of-type {\n",
       "        vertical-align: middle;\n",
       "    }\n",
       "\n",
       "    .dataframe tbody tr th {\n",
       "        vertical-align: top;\n",
       "    }\n",
       "\n",
       "    .dataframe thead th {\n",
       "        text-align: right;\n",
       "    }\n",
       "</style>\n",
       "<table border=\"1\" class=\"dataframe\">\n",
       "  <thead>\n",
       "    <tr style=\"text-align: right;\">\n",
       "      <th></th>\n",
       "      <th>StichtagDatJahr</th>\n",
       "      <th>AnzSchl</th>\n",
       "      <th>AnzSche</th>\n",
       "      <th>AnzBestWir</th>\n",
       "    </tr>\n",
       "  </thead>\n",
       "  <tbody>\n",
       "    <tr>\n",
       "      <th>count</th>\n",
       "      <td>87</td>\n",
       "      <td>87</td>\n",
       "      <td>87</td>\n",
       "      <td>87</td>\n",
       "    </tr>\n",
       "    <tr>\n",
       "      <th>mean</th>\n",
       "      <td>1977</td>\n",
       "      <td>4072</td>\n",
       "      <td>1042</td>\n",
       "      <td>383520</td>\n",
       "    </tr>\n",
       "    <tr>\n",
       "      <th>std</th>\n",
       "      <td>25</td>\n",
       "      <td>1034</td>\n",
       "      <td>360</td>\n",
       "      <td>33807</td>\n",
       "    </tr>\n",
       "    <tr>\n",
       "      <th>min</th>\n",
       "      <td>1934</td>\n",
       "      <td>2607</td>\n",
       "      <td>626</td>\n",
       "      <td>315864</td>\n",
       "    </tr>\n",
       "    <tr>\n",
       "      <th>25%</th>\n",
       "      <td>1956</td>\n",
       "      <td>3358</td>\n",
       "      <td>754</td>\n",
       "      <td>360765</td>\n",
       "    </tr>\n",
       "    <tr>\n",
       "      <th>50%</th>\n",
       "      <td>1977</td>\n",
       "      <td>3597</td>\n",
       "      <td>872</td>\n",
       "      <td>377087</td>\n",
       "    </tr>\n",
       "    <tr>\n",
       "      <th>75%</th>\n",
       "      <td>1998</td>\n",
       "      <td>4986</td>\n",
       "      <td>1301</td>\n",
       "      <td>412606</td>\n",
       "    </tr>\n",
       "    <tr>\n",
       "      <th>max</th>\n",
       "      <td>2020</td>\n",
       "      <td>6014</td>\n",
       "      <td>1991</td>\n",
       "      <td>440180</td>\n",
       "    </tr>\n",
       "  </tbody>\n",
       "</table>\n",
       "</div>"
      ],
      "text/plain": [
       "       StichtagDatJahr  AnzSchl  AnzSche  AnzBestWir\n",
       "count               87       87       87          87\n",
       "mean              1977     4072     1042      383520\n",
       "std                 25     1034      360       33807\n",
       "min               1934     2607      626      315864\n",
       "25%               1956     3358      754      360765\n",
       "50%               1977     3597      872      377087\n",
       "75%               1998     4986     1301      412606\n",
       "max               2020     6014     1991      440180"
      ]
     },
     "execution_count": 14,
     "metadata": {},
     "output_type": "execute_result"
    }
   ],
   "source": [
    "data2betested.describe()"
   ]
  },
  {
   "cell_type": "markdown",
   "metadata": {},
   "source": [
    "Wie viele Nullwerte gibt es im Datensatz?"
   ]
  },
  {
   "cell_type": "code",
   "execution_count": 15,
   "metadata": {
    "scrolled": true
   },
   "outputs": [
    {
     "data": {
      "text/plain": [
       "StichtagDatJahr    0\n",
       "AnzSchl            0\n",
       "AnzSche            0\n",
       "AnzBestWir         0\n",
       "dtype: int64"
      ]
     },
     "execution_count": 15,
     "metadata": {},
     "output_type": "execute_result"
    }
   ],
   "source": [
    "data2betested.isnull().sum()"
   ]
  },
  {
   "cell_type": "markdown",
   "metadata": {},
   "source": [
    "Wandle die Spalte Jahr von Int zu **Datetime** um. Dies wird in den meisten Grafiken so benötigt."
   ]
  },
  {
   "cell_type": "code",
   "execution_count": 16,
   "metadata": {
    "scrolled": true
   },
   "outputs": [
    {
     "data": {
      "text/html": [
       "<div>\n",
       "<style scoped>\n",
       "    .dataframe tbody tr th:only-of-type {\n",
       "        vertical-align: middle;\n",
       "    }\n",
       "\n",
       "    .dataframe tbody tr th {\n",
       "        vertical-align: top;\n",
       "    }\n",
       "\n",
       "    .dataframe thead th {\n",
       "        text-align: right;\n",
       "    }\n",
       "</style>\n",
       "<table border=\"1\" class=\"dataframe\">\n",
       "  <thead>\n",
       "    <tr style=\"text-align: right;\">\n",
       "      <th></th>\n",
       "      <th>StichtagDatJahr</th>\n",
       "      <th>AnzSchl</th>\n",
       "      <th>AnzSche</th>\n",
       "      <th>AnzBestWir</th>\n",
       "    </tr>\n",
       "  </thead>\n",
       "  <tbody>\n",
       "    <tr>\n",
       "      <th>0</th>\n",
       "      <td>1934-01-01</td>\n",
       "      <td>4220</td>\n",
       "      <td>705</td>\n",
       "      <td>315864</td>\n",
       "    </tr>\n",
       "    <tr>\n",
       "      <th>1</th>\n",
       "      <td>1935-01-01</td>\n",
       "      <td>3775</td>\n",
       "      <td>678</td>\n",
       "      <td>317157</td>\n",
       "    </tr>\n",
       "    <tr>\n",
       "      <th>2</th>\n",
       "      <td>1936-01-01</td>\n",
       "      <td>3588</td>\n",
       "      <td>703</td>\n",
       "      <td>317712</td>\n",
       "    </tr>\n",
       "    <tr>\n",
       "      <th>3</th>\n",
       "      <td>1937-01-01</td>\n",
       "      <td>3626</td>\n",
       "      <td>712</td>\n",
       "      <td>318926</td>\n",
       "    </tr>\n",
       "    <tr>\n",
       "      <th>4</th>\n",
       "      <td>1938-01-01</td>\n",
       "      <td>3719</td>\n",
       "      <td>716</td>\n",
       "      <td>326979</td>\n",
       "    </tr>\n",
       "    <tr>\n",
       "      <th>...</th>\n",
       "      <td>...</td>\n",
       "      <td>...</td>\n",
       "      <td>...</td>\n",
       "      <td>...</td>\n",
       "    </tr>\n",
       "    <tr>\n",
       "      <th>82</th>\n",
       "      <td>2016-01-01</td>\n",
       "      <td>3406</td>\n",
       "      <td>1276</td>\n",
       "      <td>415682</td>\n",
       "    </tr>\n",
       "    <tr>\n",
       "      <th>83</th>\n",
       "      <td>2017-01-01</td>\n",
       "      <td>3404</td>\n",
       "      <td>1251</td>\n",
       "      <td>423310</td>\n",
       "    </tr>\n",
       "    <tr>\n",
       "      <th>84</th>\n",
       "      <td>2018-01-01</td>\n",
       "      <td>3399</td>\n",
       "      <td>1241</td>\n",
       "      <td>428737</td>\n",
       "    </tr>\n",
       "    <tr>\n",
       "      <th>85</th>\n",
       "      <td>2019-01-01</td>\n",
       "      <td>3289</td>\n",
       "      <td>1305</td>\n",
       "      <td>434008</td>\n",
       "    </tr>\n",
       "    <tr>\n",
       "      <th>86</th>\n",
       "      <td>2020-01-01</td>\n",
       "      <td>2751</td>\n",
       "      <td>1158</td>\n",
       "      <td>434736</td>\n",
       "    </tr>\n",
       "  </tbody>\n",
       "</table>\n",
       "<p>87 rows × 4 columns</p>\n",
       "</div>"
      ],
      "text/plain": [
       "   StichtagDatJahr  AnzSchl  AnzSche  AnzBestWir\n",
       "0       1934-01-01     4220      705      315864\n",
       "1       1935-01-01     3775      678      317157\n",
       "2       1936-01-01     3588      703      317712\n",
       "3       1937-01-01     3626      712      318926\n",
       "4       1938-01-01     3719      716      326979\n",
       "..             ...      ...      ...         ...\n",
       "82      2016-01-01     3406     1276      415682\n",
       "83      2017-01-01     3404     1251      423310\n",
       "84      2018-01-01     3399     1241      428737\n",
       "85      2019-01-01     3289     1305      434008\n",
       "86      2020-01-01     2751     1158      434736\n",
       "\n",
       "[87 rows x 4 columns]"
      ]
     },
     "execution_count": 16,
     "metadata": {},
     "output_type": "execute_result"
    }
   ],
   "source": [
    "data2betested['StichtagDatJahr']=pd.to_datetime(data2betested['StichtagDatJahr'], format='%Y')\n",
    "\n",
    "#TO DO --> setze das Datum auf den 31.12. der Jahres.\n",
    "#test=data2betested[['StichtagDatJahr']].date().replace(month=12, day=31)\n",
    "\n",
    "data2betested"
   ]
  },
  {
   "cell_type": "markdown",
   "metadata": {},
   "source": [
    "Bereite die Daten für die Grafik unten vor"
   ]
  },
  {
   "cell_type": "code",
   "execution_count": 17,
   "metadata": {},
   "outputs": [
    {
     "data": {
      "text/plain": [
       "87"
      ]
     },
     "execution_count": 17,
     "metadata": {},
     "output_type": "execute_result"
    }
   ],
   "source": [
    "Jahre = data2betested.groupby(\"StichtagDatJahr\")\n",
    "len(Jahre)"
   ]
  },
  {
   "cell_type": "code",
   "execution_count": 18,
   "metadata": {},
   "outputs": [
    {
     "name": "stdout",
     "output_type": "stream",
     "text": [
      "1934-01-01 00:00:00 1\n",
      "1935-01-01 00:00:00 1\n",
      "1936-01-01 00:00:00 1\n",
      "1937-01-01 00:00:00 1\n",
      "1938-01-01 00:00:00 1\n",
      "1939-01-01 00:00:00 1\n",
      "1940-01-01 00:00:00 1\n",
      "1941-01-01 00:00:00 1\n",
      "1942-01-01 00:00:00 1\n",
      "1943-01-01 00:00:00 1\n",
      "1944-01-01 00:00:00 1\n",
      "1945-01-01 00:00:00 1\n",
      "1946-01-01 00:00:00 1\n",
      "1947-01-01 00:00:00 1\n",
      "1948-01-01 00:00:00 1\n",
      "1949-01-01 00:00:00 1\n",
      "1950-01-01 00:00:00 1\n",
      "1951-01-01 00:00:00 1\n",
      "1952-01-01 00:00:00 1\n",
      "1953-01-01 00:00:00 1\n",
      "1954-01-01 00:00:00 1\n",
      "1955-01-01 00:00:00 1\n",
      "1956-01-01 00:00:00 1\n",
      "1957-01-01 00:00:00 1\n",
      "1958-01-01 00:00:00 1\n",
      "1959-01-01 00:00:00 1\n",
      "1960-01-01 00:00:00 1\n",
      "1961-01-01 00:00:00 1\n",
      "1962-01-01 00:00:00 1\n",
      "1963-01-01 00:00:00 1\n",
      "1964-01-01 00:00:00 1\n",
      "1965-01-01 00:00:00 1\n",
      "1966-01-01 00:00:00 1\n",
      "1967-01-01 00:00:00 1\n",
      "1968-01-01 00:00:00 1\n",
      "1969-01-01 00:00:00 1\n",
      "1970-01-01 00:00:00 1\n",
      "1971-01-01 00:00:00 1\n",
      "1972-01-01 00:00:00 1\n",
      "1973-01-01 00:00:00 1\n",
      "1974-01-01 00:00:00 1\n",
      "1975-01-01 00:00:00 1\n",
      "1976-01-01 00:00:00 1\n",
      "1977-01-01 00:00:00 1\n",
      "1978-01-01 00:00:00 1\n",
      "1979-01-01 00:00:00 1\n",
      "1980-01-01 00:00:00 1\n",
      "1981-01-01 00:00:00 1\n",
      "1982-01-01 00:00:00 1\n",
      "1983-01-01 00:00:00 1\n",
      "1984-01-01 00:00:00 1\n",
      "1985-01-01 00:00:00 1\n",
      "1986-01-01 00:00:00 1\n",
      "1987-01-01 00:00:00 1\n",
      "1988-01-01 00:00:00 1\n",
      "1989-01-01 00:00:00 1\n",
      "1990-01-01 00:00:00 1\n",
      "1991-01-01 00:00:00 1\n",
      "1992-01-01 00:00:00 1\n",
      "1993-01-01 00:00:00 1\n",
      "1994-01-01 00:00:00 1\n",
      "1995-01-01 00:00:00 1\n",
      "1996-01-01 00:00:00 1\n",
      "1997-01-01 00:00:00 1\n",
      "1998-01-01 00:00:00 1\n",
      "1999-01-01 00:00:00 1\n",
      "2000-01-01 00:00:00 1\n",
      "2001-01-01 00:00:00 1\n",
      "2002-01-01 00:00:00 1\n",
      "2003-01-01 00:00:00 1\n",
      "2004-01-01 00:00:00 1\n",
      "2005-01-01 00:00:00 1\n",
      "2006-01-01 00:00:00 1\n",
      "2007-01-01 00:00:00 1\n",
      "2008-01-01 00:00:00 1\n",
      "2009-01-01 00:00:00 1\n",
      "2010-01-01 00:00:00 1\n",
      "2011-01-01 00:00:00 1\n",
      "2012-01-01 00:00:00 1\n",
      "2013-01-01 00:00:00 1\n",
      "2014-01-01 00:00:00 1\n",
      "2015-01-01 00:00:00 1\n",
      "2016-01-01 00:00:00 1\n",
      "2017-01-01 00:00:00 1\n",
      "2018-01-01 00:00:00 1\n",
      "2019-01-01 00:00:00 1\n",
      "2020-01-01 00:00:00 1\n"
     ]
    }
   ],
   "source": [
    "for key, group in Jahre:\n",
    "    print(key, len(group))"
   ]
  },
  {
   "cell_type": "code",
   "execution_count": 19,
   "metadata": {},
   "outputs": [
    {
     "data": {
      "text/html": [
       "<div>\n",
       "<style scoped>\n",
       "    .dataframe tbody tr th:only-of-type {\n",
       "        vertical-align: middle;\n",
       "    }\n",
       "\n",
       "    .dataframe tbody tr th {\n",
       "        vertical-align: top;\n",
       "    }\n",
       "\n",
       "    .dataframe thead th {\n",
       "        text-align: right;\n",
       "    }\n",
       "</style>\n",
       "<table border=\"1\" class=\"dataframe\">\n",
       "  <thead>\n",
       "    <tr style=\"text-align: right;\">\n",
       "      <th></th>\n",
       "      <th>StichtagDatJahr</th>\n",
       "      <th>AnzSchl</th>\n",
       "      <th>AnzSche</th>\n",
       "      <th>AnzBestWir</th>\n",
       "    </tr>\n",
       "  </thead>\n",
       "  <tbody>\n",
       "    <tr>\n",
       "      <th>86</th>\n",
       "      <td>2020-01-01</td>\n",
       "      <td>2751</td>\n",
       "      <td>1158</td>\n",
       "      <td>434736</td>\n",
       "    </tr>\n",
       "  </tbody>\n",
       "</table>\n",
       "</div>"
      ],
      "text/plain": [
       "   StichtagDatJahr  AnzSchl  AnzSche  AnzBestWir\n",
       "86      2020-01-01     2751     1158      434736"
      ]
     },
     "execution_count": 19,
     "metadata": {},
     "output_type": "execute_result"
    }
   ],
   "source": [
    "myJahr = \"2020-01-01\"\n",
    "aktuellesJahr=Jahre.get_group(myJahr)   \n",
    "aktuellesJahr"
   ]
  },
  {
   "cell_type": "markdown",
   "metadata": {},
   "source": [
    "**Selektionen und Aggregationen**\n",
    "\n",
    "Check this [Doku](https://www.shanelynn.ie/summarising-aggregation-and-grouping-data-in-python-pandas/)"
   ]
  },
  {
   "cell_type": "code",
   "execution_count": 20,
   "metadata": {},
   "outputs": [],
   "source": [
    "#test = data2betested.groupby(['StichtagDatJahr', 'AlterV20Kurz'])[['AnzBestWir']].agg()\n",
    "\n",
    "# produces Pandas Series\n",
    "    #data2betested.groupby(['StichtagDatJahr', 'KonOGDSort'])['AnzBestWir'].sum()\n",
    "# Produces Pandas DataFrame\n",
    "    #data2betested.groupby(['StichtagDatJahr', 'KonOGDSort'])[['AnzBestWir']].sum()\n",
    "    \n",
    "\n",
    "\n",
    "    "
   ]
  },
  {
   "cell_type": "markdown",
   "metadata": {},
   "source": [
    "**Einfache Visualisierungen zur Plausi**"
   ]
  },
  {
   "cell_type": "markdown",
   "metadata": {},
   "source": [
    "Exploriere die Daten mit Pivottable.JS"
   ]
  },
  {
   "cell_type": "code",
   "execution_count": 21,
   "metadata": {},
   "outputs": [
    {
     "data": {
      "text/html": [
       "\n",
       "        <iframe\n",
       "            width=\"100%\"\n",
       "            height=\"500\"\n",
       "            src=\"pivottablejs.html\"\n",
       "            frameborder=\"0\"\n",
       "            allowfullscreen\n",
       "        ></iframe>\n",
       "        "
      ],
      "text/plain": [
       "<IPython.lib.display.IFrame at 0x28fd4eb8970>"
      ]
     },
     "execution_count": 21,
     "metadata": {},
     "output_type": "execute_result"
    }
   ],
   "source": [
    "from pivottablejs import pivot_ui\n",
    "\n",
    "pivot_ui(data2betested)"
   ]
  },
  {
   "cell_type": "markdown",
   "metadata": {},
   "source": [
    "Liniendiagramm \n",
    "[Link zur Doku](https://altair-viz.github.io/gallery/multiline_highlight.html)"
   ]
  },
  {
   "cell_type": "code",
   "execution_count": 24,
   "metadata": {},
   "outputs": [
    {
     "data": {
      "text/html": [
       "<div>\n",
       "<style scoped>\n",
       "    .dataframe tbody tr th:only-of-type {\n",
       "        vertical-align: middle;\n",
       "    }\n",
       "\n",
       "    .dataframe tbody tr th {\n",
       "        vertical-align: top;\n",
       "    }\n",
       "\n",
       "    .dataframe thead th {\n",
       "        text-align: right;\n",
       "    }\n",
       "</style>\n",
       "<table border=\"1\" class=\"dataframe\">\n",
       "  <thead>\n",
       "    <tr style=\"text-align: right;\">\n",
       "      <th></th>\n",
       "      <th>StichtagDatJahr</th>\n",
       "      <th>AnzSchl</th>\n",
       "      <th>AnzSche</th>\n",
       "      <th>AnzBestWir</th>\n",
       "    </tr>\n",
       "  </thead>\n",
       "  <tbody>\n",
       "    <tr>\n",
       "      <th>0</th>\n",
       "      <td>1934-01-01</td>\n",
       "      <td>4220</td>\n",
       "      <td>705</td>\n",
       "      <td>315864</td>\n",
       "    </tr>\n",
       "    <tr>\n",
       "      <th>1</th>\n",
       "      <td>1935-01-01</td>\n",
       "      <td>3775</td>\n",
       "      <td>678</td>\n",
       "      <td>317157</td>\n",
       "    </tr>\n",
       "    <tr>\n",
       "      <th>2</th>\n",
       "      <td>1936-01-01</td>\n",
       "      <td>3588</td>\n",
       "      <td>703</td>\n",
       "      <td>317712</td>\n",
       "    </tr>\n",
       "    <tr>\n",
       "      <th>3</th>\n",
       "      <td>1937-01-01</td>\n",
       "      <td>3626</td>\n",
       "      <td>712</td>\n",
       "      <td>318926</td>\n",
       "    </tr>\n",
       "    <tr>\n",
       "      <th>4</th>\n",
       "      <td>1938-01-01</td>\n",
       "      <td>3719</td>\n",
       "      <td>716</td>\n",
       "      <td>326979</td>\n",
       "    </tr>\n",
       "    <tr>\n",
       "      <th>...</th>\n",
       "      <td>...</td>\n",
       "      <td>...</td>\n",
       "      <td>...</td>\n",
       "      <td>...</td>\n",
       "    </tr>\n",
       "    <tr>\n",
       "      <th>82</th>\n",
       "      <td>2016-01-01</td>\n",
       "      <td>3406</td>\n",
       "      <td>1276</td>\n",
       "      <td>415682</td>\n",
       "    </tr>\n",
       "    <tr>\n",
       "      <th>83</th>\n",
       "      <td>2017-01-01</td>\n",
       "      <td>3404</td>\n",
       "      <td>1251</td>\n",
       "      <td>423310</td>\n",
       "    </tr>\n",
       "    <tr>\n",
       "      <th>84</th>\n",
       "      <td>2018-01-01</td>\n",
       "      <td>3399</td>\n",
       "      <td>1241</td>\n",
       "      <td>428737</td>\n",
       "    </tr>\n",
       "    <tr>\n",
       "      <th>85</th>\n",
       "      <td>2019-01-01</td>\n",
       "      <td>3289</td>\n",
       "      <td>1305</td>\n",
       "      <td>434008</td>\n",
       "    </tr>\n",
       "    <tr>\n",
       "      <th>86</th>\n",
       "      <td>2020-01-01</td>\n",
       "      <td>2751</td>\n",
       "      <td>1158</td>\n",
       "      <td>434736</td>\n",
       "    </tr>\n",
       "  </tbody>\n",
       "</table>\n",
       "<p>87 rows × 4 columns</p>\n",
       "</div>"
      ],
      "text/plain": [
       "   StichtagDatJahr  AnzSchl  AnzSche  AnzBestWir\n",
       "0       1934-01-01     4220      705      315864\n",
       "1       1935-01-01     3775      678      317157\n",
       "2       1936-01-01     3588      703      317712\n",
       "3       1937-01-01     3626      712      318926\n",
       "4       1938-01-01     3719      716      326979\n",
       "..             ...      ...      ...         ...\n",
       "82      2016-01-01     3406     1276      415682\n",
       "83      2017-01-01     3404     1251      423310\n",
       "84      2018-01-01     3399     1241      428737\n",
       "85      2019-01-01     3289     1305      434008\n",
       "86      2020-01-01     2751     1158      434736\n",
       "\n",
       "[87 rows x 4 columns]"
      ]
     },
     "execution_count": 24,
     "metadata": {},
     "output_type": "execute_result"
    }
   ],
   "source": [
    "data2betested"
   ]
  },
  {
   "cell_type": "code",
   "execution_count": 26,
   "metadata": {},
   "outputs": [
    {
     "data": {
      "text/html": [
       "\n",
       "<div id=\"altair-viz-aed3496d2fbf4febb773d4ec899953ad\"></div>\n",
       "<script type=\"text/javascript\">\n",
       "  (function(spec, embedOpt){\n",
       "    let outputDiv = document.currentScript.previousElementSibling;\n",
       "    if (outputDiv.id !== \"altair-viz-aed3496d2fbf4febb773d4ec899953ad\") {\n",
       "      outputDiv = document.getElementById(\"altair-viz-aed3496d2fbf4febb773d4ec899953ad\");\n",
       "    }\n",
       "    const paths = {\n",
       "      \"vega\": \"https://cdn.jsdelivr.net/npm//vega@5?noext\",\n",
       "      \"vega-lib\": \"https://cdn.jsdelivr.net/npm//vega-lib?noext\",\n",
       "      \"vega-lite\": \"https://cdn.jsdelivr.net/npm//vega-lite@4.8.1?noext\",\n",
       "      \"vega-embed\": \"https://cdn.jsdelivr.net/npm//vega-embed@6?noext\",\n",
       "    };\n",
       "\n",
       "    function loadScript(lib) {\n",
       "      return new Promise(function(resolve, reject) {\n",
       "        var s = document.createElement('script');\n",
       "        s.src = paths[lib];\n",
       "        s.async = true;\n",
       "        s.onload = () => resolve(paths[lib]);\n",
       "        s.onerror = () => reject(`Error loading script: ${paths[lib]}`);\n",
       "        document.getElementsByTagName(\"head\")[0].appendChild(s);\n",
       "      });\n",
       "    }\n",
       "\n",
       "    function showError(err) {\n",
       "      outputDiv.innerHTML = `<div class=\"error\" style=\"color:red;\">${err}</div>`;\n",
       "      throw err;\n",
       "    }\n",
       "\n",
       "    function displayChart(vegaEmbed) {\n",
       "      vegaEmbed(outputDiv, spec, embedOpt)\n",
       "        .catch(err => showError(`Javascript Error: ${err.message}<br>This usually means there's a typo in your chart specification. See the javascript console for the full traceback.`));\n",
       "    }\n",
       "\n",
       "    if(typeof define === \"function\" && define.amd) {\n",
       "      requirejs.config({paths});\n",
       "      require([\"vega-embed\"], displayChart, err => showError(`Error loading script: ${err.message}`));\n",
       "    } else if (typeof vegaEmbed === \"function\") {\n",
       "      displayChart(vegaEmbed);\n",
       "    } else {\n",
       "      loadScript(\"vega\")\n",
       "        .then(() => loadScript(\"vega-lite\"))\n",
       "        .then(() => loadScript(\"vega-embed\"))\n",
       "        .catch(showError)\n",
       "        .then(() => displayChart(vegaEmbed));\n",
       "    }\n",
       "  })({\"config\": {\"view\": {\"continuousWidth\": 400, \"continuousHeight\": 300}}, \"layer\": [{\"mark\": \"circle\", \"encoding\": {\"color\": {\"type\": \"quantitative\", \"field\": \"AnzSchl\"}, \"opacity\": {\"value\": 2}, \"x\": {\"type\": \"temporal\", \"field\": \"StichtagDatJahr\"}, \"y\": {\"type\": \"quantitative\", \"field\": \"AnzSchl\"}}, \"height\": 300, \"selection\": {\"selector003\": {\"type\": \"single\", \"on\": \"mouseover\", \"fields\": [\"AnzSchl\"], \"nearest\": true}}, \"width\": 700}, {\"mark\": \"line\", \"encoding\": {\"color\": {\"type\": \"quantitative\", \"field\": \"AnzSchl\"}, \"size\": {\"condition\": {\"value\": 1.5, \"selection\": {\"not\": \"selector003\"}}, \"value\": 4}, \"x\": {\"type\": \"temporal\", \"field\": \"StichtagDatJahr\"}, \"y\": {\"type\": \"quantitative\", \"field\": \"AnzSchl\"}}, \"selection\": {\"selector004\": {\"type\": \"interval\", \"bind\": \"scales\", \"encodings\": [\"x\", \"y\"]}}}], \"data\": {\"name\": \"data-7b7dc74e409f9c83bd66be720559be2d\"}, \"$schema\": \"https://vega.github.io/schema/vega-lite/v4.8.1.json\", \"datasets\": {\"data-7b7dc74e409f9c83bd66be720559be2d\": [{\"StichtagDatJahr\": \"1934-01-01T00:00:00\", \"AnzSchl\": 4220, \"AnzSche\": 705, \"AnzBestWir\": 315864}, {\"StichtagDatJahr\": \"1935-01-01T00:00:00\", \"AnzSchl\": 3775, \"AnzSche\": 678, \"AnzBestWir\": 317157}, {\"StichtagDatJahr\": \"1936-01-01T00:00:00\", \"AnzSchl\": 3588, \"AnzSche\": 703, \"AnzBestWir\": 317712}, {\"StichtagDatJahr\": \"1937-01-01T00:00:00\", \"AnzSchl\": 3626, \"AnzSche\": 712, \"AnzBestWir\": 318926}, {\"StichtagDatJahr\": \"1938-01-01T00:00:00\", \"AnzSchl\": 3719, \"AnzSche\": 716, \"AnzBestWir\": 326979}, {\"StichtagDatJahr\": \"1939-01-01T00:00:00\", \"AnzSchl\": 3995, \"AnzSche\": 679, \"AnzBestWir\": 333984}, {\"StichtagDatJahr\": \"1940-01-01T00:00:00\", \"AnzSchl\": 4193, \"AnzSche\": 626, \"AnzBestWir\": 334026}, {\"StichtagDatJahr\": \"1941-01-01T00:00:00\", \"AnzSchl\": 4498, \"AnzSche\": 646, \"AnzBestWir\": 336531}, {\"StichtagDatJahr\": \"1942-01-01T00:00:00\", \"AnzSchl\": 4460, \"AnzSche\": 647, \"AnzBestWir\": 339721}, {\"StichtagDatJahr\": \"1943-01-01T00:00:00\", \"AnzSchl\": 4271, \"AnzSche\": 664, \"AnzBestWir\": 345819}, {\"StichtagDatJahr\": \"1944-01-01T00:00:00\", \"AnzSchl\": 4181, \"AnzSche\": 649, \"AnzBestWir\": 351679}, {\"StichtagDatJahr\": \"1945-01-01T00:00:00\", \"AnzSchl\": 4316, \"AnzSche\": 744, \"AnzBestWir\": 357381}, {\"StichtagDatJahr\": \"1946-01-01T00:00:00\", \"AnzSchl\": 4606, \"AnzSche\": 872, \"AnzBestWir\": 367171}, {\"StichtagDatJahr\": \"1947-01-01T00:00:00\", \"AnzSchl\": 4713, \"AnzSche\": 926, \"AnzBestWir\": 377087}, {\"StichtagDatJahr\": \"1948-01-01T00:00:00\", \"AnzSchl\": 5018, \"AnzSche\": 883, \"AnzBestWir\": 383568}, {\"StichtagDatJahr\": \"1949-01-01T00:00:00\", \"AnzSchl\": 4797, \"AnzSche\": 834, \"AnzBestWir\": 386003}, {\"StichtagDatJahr\": \"1950-01-01T00:00:00\", \"AnzSchl\": 4954, \"AnzSche\": 891, \"AnzBestWir\": 389573}, {\"StichtagDatJahr\": \"1951-01-01T00:00:00\", \"AnzSchl\": 5187, \"AnzSche\": 912, \"AnzBestWir\": 396260}, {\"StichtagDatJahr\": \"1952-01-01T00:00:00\", \"AnzSchl\": 5170, \"AnzSche\": 867, \"AnzBestWir\": 403625}, {\"StichtagDatJahr\": \"1953-01-01T00:00:00\", \"AnzSchl\": 5286, \"AnzSche\": 887, \"AnzBestWir\": 408544}, {\"StichtagDatJahr\": \"1954-01-01T00:00:00\", \"AnzSchl\": 5349, \"AnzSche\": 850, \"AnzBestWir\": 413044}, {\"StichtagDatJahr\": \"1955-01-01T00:00:00\", \"AnzSchl\": 5550, \"AnzSche\": 911, \"AnzBestWir\": 417351}, {\"StichtagDatJahr\": \"1956-01-01T00:00:00\", \"AnzSchl\": 5473, \"AnzSche\": 825, \"AnzBestWir\": 420489}, {\"StichtagDatJahr\": \"1957-01-01T00:00:00\", \"AnzSchl\": 5844, \"AnzSche\": 857, \"AnzBestWir\": 426349}, {\"StichtagDatJahr\": \"1958-01-01T00:00:00\", \"AnzSchl\": 5769, \"AnzSche\": 776, \"AnzBestWir\": 431242}, {\"StichtagDatJahr\": \"1959-01-01T00:00:00\", \"AnzSchl\": 5846, \"AnzSche\": 858, \"AnzBestWir\": 434080}, {\"StichtagDatJahr\": \"1960-01-01T00:00:00\", \"AnzSchl\": 5975, \"AnzSche\": 787, \"AnzBestWir\": 437273}, {\"StichtagDatJahr\": \"1961-01-01T00:00:00\", \"AnzSchl\": 5766, \"AnzSche\": 752, \"AnzBestWir\": 439322}, {\"StichtagDatJahr\": \"1962-01-01T00:00:00\", \"AnzSchl\": 6014, \"AnzSche\": 778, \"AnzBestWir\": 440180}, {\"StichtagDatJahr\": \"1963-01-01T00:00:00\", \"AnzSchl\": 5789, \"AnzSche\": 728, \"AnzBestWir\": 439090}, {\"StichtagDatJahr\": \"1964-01-01T00:00:00\", \"AnzSchl\": 5878, \"AnzSche\": 709, \"AnzBestWir\": 437630}, {\"StichtagDatJahr\": \"1965-01-01T00:00:00\", \"AnzSchl\": 5928, \"AnzSche\": 660, \"AnzBestWir\": 433865}, {\"StichtagDatJahr\": \"1966-01-01T00:00:00\", \"AnzSchl\": 5848, \"AnzSche\": 689, \"AnzBestWir\": 431533}, {\"StichtagDatJahr\": \"1967-01-01T00:00:00\", \"AnzSchl\": 5636, \"AnzSche\": 686, \"AnzBestWir\": 430594}, {\"StichtagDatJahr\": \"1968-01-01T00:00:00\", \"AnzSchl\": 5577, \"AnzSche\": 710, \"AnzBestWir\": 430155}, {\"StichtagDatJahr\": \"1969-01-01T00:00:00\", \"AnzSchl\": 5969, \"AnzSche\": 764, \"AnzBestWir\": 425117}, {\"StichtagDatJahr\": \"1970-01-01T00:00:00\", \"AnzSchl\": 5521, \"AnzSche\": 699, \"AnzBestWir\": 417972}, {\"StichtagDatJahr\": \"1971-01-01T00:00:00\", \"AnzSchl\": 5228, \"AnzSche\": 716, \"AnzBestWir\": 412169}, {\"StichtagDatJahr\": \"1972-01-01T00:00:00\", \"AnzSchl\": 4667, \"AnzSche\": 757, \"AnzBestWir\": 407647}, {\"StichtagDatJahr\": \"1973-01-01T00:00:00\", \"AnzSchl\": 3844, \"AnzSche\": 834, \"AnzBestWir\": 401577}, {\"StichtagDatJahr\": \"1974-01-01T00:00:00\", \"AnzSchl\": 3372, \"AnzSche\": 799, \"AnzBestWir\": 396261}, {\"StichtagDatJahr\": \"1975-01-01T00:00:00\", \"AnzSchl\": 3157, \"AnzSche\": 752, \"AnzBestWir\": 389613}, {\"StichtagDatJahr\": \"1976-01-01T00:00:00\", \"AnzSchl\": 2700, \"AnzSche\": 772, \"AnzBestWir\": 382999}, {\"StichtagDatJahr\": \"1977-01-01T00:00:00\", \"AnzSchl\": 2633, \"AnzSche\": 955, \"AnzBestWir\": 379635}, {\"StichtagDatJahr\": \"1978-01-01T00:00:00\", \"AnzSchl\": 2607, \"AnzSche\": 859, \"AnzBestWir\": 376447}, {\"StichtagDatJahr\": \"1979-01-01T00:00:00\", \"AnzSchl\": 2778, \"AnzSche\": 768, \"AnzBestWir\": 374221}, {\"StichtagDatJahr\": \"1980-01-01T00:00:00\", \"AnzSchl\": 2804, \"AnzSche\": 867, \"AnzBestWir\": 370618}, {\"StichtagDatJahr\": \"1981-01-01T00:00:00\", \"AnzSchl\": 2919, \"AnzSche\": 857, \"AnzBestWir\": 368171}, {\"StichtagDatJahr\": \"1982-01-01T00:00:00\", \"AnzSchl\": 2976, \"AnzSche\": 819, \"AnzBestWir\": 366340}, {\"StichtagDatJahr\": \"1983-01-01T00:00:00\", \"AnzSchl\": 2887, \"AnzSche\": 847, \"AnzBestWir\": 363652}, {\"StichtagDatJahr\": \"1984-01-01T00:00:00\", \"AnzSchl\": 2769, \"AnzSche\": 873, \"AnzBestWir\": 361493}, {\"StichtagDatJahr\": \"1985-01-01T00:00:00\", \"AnzSchl\": 3000, \"AnzSche\": 794, \"AnzBestWir\": 359084}, {\"StichtagDatJahr\": \"1986-01-01T00:00:00\", \"AnzSchl\": 3134, \"AnzSche\": 1078, \"AnzBestWir\": 358873}, {\"StichtagDatJahr\": \"1987-01-01T00:00:00\", \"AnzSchl\": 3194, \"AnzSche\": 1156, \"AnzBestWir\": 358042}, {\"StichtagDatJahr\": \"1988-01-01T00:00:00\", \"AnzSchl\": 3467, \"AnzSche\": 1177, \"AnzBestWir\": 357360}, {\"StichtagDatJahr\": \"1989-01-01T00:00:00\", \"AnzSchl\": 3553, \"AnzSche\": 1176, \"AnzBestWir\": 355901}, {\"StichtagDatJahr\": \"1990-01-01T00:00:00\", \"AnzSchl\": 3521, \"AnzSche\": 1237, \"AnzBestWir\": 356352}, {\"StichtagDatJahr\": \"1991-01-01T00:00:00\", \"AnzSchl\": 3805, \"AnzSche\": 1305, \"AnzBestWir\": 360875}, {\"StichtagDatJahr\": \"1992-01-01T00:00:00\", \"AnzSchl\": 3757, \"AnzSche\": 1261, \"AnzBestWir\": 361488}, {\"StichtagDatJahr\": \"1993-01-01T00:00:00\", \"AnzSchl\": 3571, \"AnzSche\": 1475, \"AnzBestWir\": 360898}, {\"StichtagDatJahr\": \"1994-01-01T00:00:00\", \"AnzSchl\": 3541, \"AnzSche\": 1455, \"AnzBestWir\": 360848}, {\"StichtagDatJahr\": \"1995-01-01T00:00:00\", \"AnzSchl\": 3180, \"AnzSche\": 1488, \"AnzBestWir\": 360826}, {\"StichtagDatJahr\": \"1996-01-01T00:00:00\", \"AnzSchl\": 3222, \"AnzSche\": 1553, \"AnzBestWir\": 359648}, {\"StichtagDatJahr\": \"1997-01-01T00:00:00\", \"AnzSchl\": 3259, \"AnzSche\": 1557, \"AnzBestWir\": 358594}, {\"StichtagDatJahr\": \"1998-01-01T00:00:00\", \"AnzSchl\": 3348, \"AnzSche\": 1637, \"AnzBestWir\": 359073}, {\"StichtagDatJahr\": \"1999-01-01T00:00:00\", \"AnzSchl\": 3396, \"AnzSche\": 1628, \"AnzBestWir\": 360704}, {\"StichtagDatJahr\": \"2000-01-01T00:00:00\", \"AnzSchl\": 3463, \"AnzSche\": 1140, \"AnzBestWir\": 360980}, {\"StichtagDatJahr\": \"2001-01-01T00:00:00\", \"AnzSchl\": 3614, \"AnzSche\": 1107, \"AnzBestWir\": 362042}, {\"StichtagDatJahr\": \"2002-01-01T00:00:00\", \"AnzSchl\": 3574, \"AnzSche\": 1673, \"AnzBestWir\": 364558}, {\"StichtagDatJahr\": \"2003-01-01T00:00:00\", \"AnzSchl\": 3683, \"AnzSche\": 1545, \"AnzBestWir\": 364528}, {\"StichtagDatJahr\": \"2004-01-01T00:00:00\", \"AnzSchl\": 3367, \"AnzSche\": 1581, \"AnzBestWir\": 364977}, {\"StichtagDatJahr\": \"2005-01-01T00:00:00\", \"AnzSchl\": 3390, \"AnzSche\": 1856, \"AnzBestWir\": 366809}, {\"StichtagDatJahr\": \"2006-01-01T00:00:00\", \"AnzSchl\": 3234, \"AnzSche\": 1790, \"AnzBestWir\": 370062}, {\"StichtagDatJahr\": \"2007-01-01T00:00:00\", \"AnzSchl\": 3380, \"AnzSche\": 1643, \"AnzBestWir\": 376815}, {\"StichtagDatJahr\": \"2008-01-01T00:00:00\", \"AnzSchl\": 3319, \"AnzSche\": 1587, \"AnzBestWir\": 380499}, {\"StichtagDatJahr\": \"2009-01-01T00:00:00\", \"AnzSchl\": 3385, \"AnzSche\": 1780, \"AnzBestWir\": 382906}, {\"StichtagDatJahr\": \"2010-01-01T00:00:00\", \"AnzSchl\": 3543, \"AnzSche\": 1991, \"AnzBestWir\": 385468}, {\"StichtagDatJahr\": \"2011-01-01T00:00:00\", \"AnzSchl\": 3405, \"AnzSche\": 1544, \"AnzBestWir\": 390082}, {\"StichtagDatJahr\": \"2012-01-01T00:00:00\", \"AnzSchl\": 3328, \"AnzSche\": 1373, \"AnzBestWir\": 394012}, {\"StichtagDatJahr\": \"2013-01-01T00:00:00\", \"AnzSchl\": 3575, \"AnzSche\": 1488, \"AnzBestWir\": 398575}, {\"StichtagDatJahr\": \"2014-01-01T00:00:00\", \"AnzSchl\": 3597, \"AnzSche\": 1334, \"AnzBestWir\": 404783}, {\"StichtagDatJahr\": \"2015-01-01T00:00:00\", \"AnzSchl\": 3529, \"AnzSche\": 1297, \"AnzBestWir\": 410404}, {\"StichtagDatJahr\": \"2016-01-01T00:00:00\", \"AnzSchl\": 3406, \"AnzSche\": 1276, \"AnzBestWir\": 415682}, {\"StichtagDatJahr\": \"2017-01-01T00:00:00\", \"AnzSchl\": 3404, \"AnzSche\": 1251, \"AnzBestWir\": 423310}, {\"StichtagDatJahr\": \"2018-01-01T00:00:00\", \"AnzSchl\": 3399, \"AnzSche\": 1241, \"AnzBestWir\": 428737}, {\"StichtagDatJahr\": \"2019-01-01T00:00:00\", \"AnzSchl\": 3289, \"AnzSche\": 1305, \"AnzBestWir\": 434008}, {\"StichtagDatJahr\": \"2020-01-01T00:00:00\", \"AnzSchl\": 2751, \"AnzSche\": 1158, \"AnzBestWir\": 434736}]}}, {\"mode\": \"vega-lite\"});\n",
       "</script>"
      ],
      "text/plain": [
       "alt.LayerChart(...)"
      ]
     },
     "execution_count": 26,
     "metadata": {},
     "output_type": "execute_result"
    }
   ],
   "source": [
    "# df_statzonen = df_statzonen[(df_statzonen.knr>0) & (df_statzonen.qname!=\"Hirslanden\")]\n",
    "#mySelection[[mySelection.NationFHistLang =='Schweiz']]\n",
    "\n",
    "\n",
    "highlight = alt.selection(type='single', on='mouseover',\n",
    "                          fields=['AnzSchl'], nearest=True)\n",
    "#x='date:StichtagDatJahr',\n",
    "base = alt.Chart(data2betested).encode(\n",
    "    x='StichtagDatJahr',\n",
    "    y='AnzSchl',\n",
    "    color='AnzSchl'\n",
    ")\n",
    "\n",
    "points = base.mark_circle().encode(\n",
    "    opacity=alt.value(2)\n",
    ").add_selection(\n",
    "    highlight\n",
    ").properties(\n",
    "    width=700 , height=300\n",
    ")\n",
    "lines = base.mark_line().encode(\n",
    "    size=alt.condition(~highlight, alt.value(1.5), alt.value(4))\n",
    ").interactive()\n",
    "\n",
    "points + lines"
   ]
  },
  {
   "cell_type": "code",
   "execution_count": 30,
   "metadata": {},
   "outputs": [
    {
     "data": {
      "text/html": [
       "\n",
       "<div id=\"altair-viz-3a3e0b0ee6cb4499bb411f95a0a5a62d\"></div>\n",
       "<script type=\"text/javascript\">\n",
       "  (function(spec, embedOpt){\n",
       "    let outputDiv = document.currentScript.previousElementSibling;\n",
       "    if (outputDiv.id !== \"altair-viz-3a3e0b0ee6cb4499bb411f95a0a5a62d\") {\n",
       "      outputDiv = document.getElementById(\"altair-viz-3a3e0b0ee6cb4499bb411f95a0a5a62d\");\n",
       "    }\n",
       "    const paths = {\n",
       "      \"vega\": \"https://cdn.jsdelivr.net/npm//vega@5?noext\",\n",
       "      \"vega-lib\": \"https://cdn.jsdelivr.net/npm//vega-lib?noext\",\n",
       "      \"vega-lite\": \"https://cdn.jsdelivr.net/npm//vega-lite@4.8.1?noext\",\n",
       "      \"vega-embed\": \"https://cdn.jsdelivr.net/npm//vega-embed@6?noext\",\n",
       "    };\n",
       "\n",
       "    function loadScript(lib) {\n",
       "      return new Promise(function(resolve, reject) {\n",
       "        var s = document.createElement('script');\n",
       "        s.src = paths[lib];\n",
       "        s.async = true;\n",
       "        s.onload = () => resolve(paths[lib]);\n",
       "        s.onerror = () => reject(`Error loading script: ${paths[lib]}`);\n",
       "        document.getElementsByTagName(\"head\")[0].appendChild(s);\n",
       "      });\n",
       "    }\n",
       "\n",
       "    function showError(err) {\n",
       "      outputDiv.innerHTML = `<div class=\"error\" style=\"color:red;\">${err}</div>`;\n",
       "      throw err;\n",
       "    }\n",
       "\n",
       "    function displayChart(vegaEmbed) {\n",
       "      vegaEmbed(outputDiv, spec, embedOpt)\n",
       "        .catch(err => showError(`Javascript Error: ${err.message}<br>This usually means there's a typo in your chart specification. See the javascript console for the full traceback.`));\n",
       "    }\n",
       "\n",
       "    if(typeof define === \"function\" && define.amd) {\n",
       "      requirejs.config({paths});\n",
       "      require([\"vega-embed\"], displayChart, err => showError(`Error loading script: ${err.message}`));\n",
       "    } else if (typeof vegaEmbed === \"function\") {\n",
       "      displayChart(vegaEmbed);\n",
       "    } else {\n",
       "      loadScript(\"vega\")\n",
       "        .then(() => loadScript(\"vega-lite\"))\n",
       "        .then(() => loadScript(\"vega-embed\"))\n",
       "        .catch(showError)\n",
       "        .then(() => displayChart(vegaEmbed));\n",
       "    }\n",
       "  })({\"config\": {\"view\": {\"continuousWidth\": 400, \"continuousHeight\": 300}}, \"data\": {\"name\": \"data-7b7dc74e409f9c83bd66be720559be2d\"}, \"mark\": {\"type\": \"circle\", \"size\": 60}, \"encoding\": {\"color\": {\"type\": \"quantitative\", \"field\": \"AnzBestWir\", \"scale\": {\"scheme\": \"dark2\"}}, \"tooltip\": [{\"type\": \"quantitative\", \"field\": \"AnzSchl\"}, {\"type\": \"temporal\", \"field\": \"StichtagDatJahr\"}, {\"type\": \"quantitative\", \"field\": \"AnzSche\"}, {\"type\": \"quantitative\", \"field\": \"AnzBestWir\"}], \"x\": {\"type\": \"temporal\", \"field\": \"StichtagDatJahr\"}, \"y\": {\"type\": \"quantitative\", \"field\": \"AnzSchl\"}}, \"selection\": {\"selector007\": {\"type\": \"interval\", \"bind\": \"scales\", \"encodings\": [\"x\", \"y\"]}}, \"$schema\": \"https://vega.github.io/schema/vega-lite/v4.8.1.json\", \"datasets\": {\"data-7b7dc74e409f9c83bd66be720559be2d\": [{\"StichtagDatJahr\": \"1934-01-01T00:00:00\", \"AnzSchl\": 4220, \"AnzSche\": 705, \"AnzBestWir\": 315864}, {\"StichtagDatJahr\": \"1935-01-01T00:00:00\", \"AnzSchl\": 3775, \"AnzSche\": 678, \"AnzBestWir\": 317157}, {\"StichtagDatJahr\": \"1936-01-01T00:00:00\", \"AnzSchl\": 3588, \"AnzSche\": 703, \"AnzBestWir\": 317712}, {\"StichtagDatJahr\": \"1937-01-01T00:00:00\", \"AnzSchl\": 3626, \"AnzSche\": 712, \"AnzBestWir\": 318926}, {\"StichtagDatJahr\": \"1938-01-01T00:00:00\", \"AnzSchl\": 3719, \"AnzSche\": 716, \"AnzBestWir\": 326979}, {\"StichtagDatJahr\": \"1939-01-01T00:00:00\", \"AnzSchl\": 3995, \"AnzSche\": 679, \"AnzBestWir\": 333984}, {\"StichtagDatJahr\": \"1940-01-01T00:00:00\", \"AnzSchl\": 4193, \"AnzSche\": 626, \"AnzBestWir\": 334026}, {\"StichtagDatJahr\": \"1941-01-01T00:00:00\", \"AnzSchl\": 4498, \"AnzSche\": 646, \"AnzBestWir\": 336531}, {\"StichtagDatJahr\": \"1942-01-01T00:00:00\", \"AnzSchl\": 4460, \"AnzSche\": 647, \"AnzBestWir\": 339721}, {\"StichtagDatJahr\": \"1943-01-01T00:00:00\", \"AnzSchl\": 4271, \"AnzSche\": 664, \"AnzBestWir\": 345819}, {\"StichtagDatJahr\": \"1944-01-01T00:00:00\", \"AnzSchl\": 4181, \"AnzSche\": 649, \"AnzBestWir\": 351679}, {\"StichtagDatJahr\": \"1945-01-01T00:00:00\", \"AnzSchl\": 4316, \"AnzSche\": 744, \"AnzBestWir\": 357381}, {\"StichtagDatJahr\": \"1946-01-01T00:00:00\", \"AnzSchl\": 4606, \"AnzSche\": 872, \"AnzBestWir\": 367171}, {\"StichtagDatJahr\": \"1947-01-01T00:00:00\", \"AnzSchl\": 4713, \"AnzSche\": 926, \"AnzBestWir\": 377087}, {\"StichtagDatJahr\": \"1948-01-01T00:00:00\", \"AnzSchl\": 5018, \"AnzSche\": 883, \"AnzBestWir\": 383568}, {\"StichtagDatJahr\": \"1949-01-01T00:00:00\", \"AnzSchl\": 4797, \"AnzSche\": 834, \"AnzBestWir\": 386003}, {\"StichtagDatJahr\": \"1950-01-01T00:00:00\", \"AnzSchl\": 4954, \"AnzSche\": 891, \"AnzBestWir\": 389573}, {\"StichtagDatJahr\": \"1951-01-01T00:00:00\", \"AnzSchl\": 5187, \"AnzSche\": 912, \"AnzBestWir\": 396260}, {\"StichtagDatJahr\": \"1952-01-01T00:00:00\", \"AnzSchl\": 5170, \"AnzSche\": 867, \"AnzBestWir\": 403625}, {\"StichtagDatJahr\": \"1953-01-01T00:00:00\", \"AnzSchl\": 5286, \"AnzSche\": 887, \"AnzBestWir\": 408544}, {\"StichtagDatJahr\": \"1954-01-01T00:00:00\", \"AnzSchl\": 5349, \"AnzSche\": 850, \"AnzBestWir\": 413044}, {\"StichtagDatJahr\": \"1955-01-01T00:00:00\", \"AnzSchl\": 5550, \"AnzSche\": 911, \"AnzBestWir\": 417351}, {\"StichtagDatJahr\": \"1956-01-01T00:00:00\", \"AnzSchl\": 5473, \"AnzSche\": 825, \"AnzBestWir\": 420489}, {\"StichtagDatJahr\": \"1957-01-01T00:00:00\", \"AnzSchl\": 5844, \"AnzSche\": 857, \"AnzBestWir\": 426349}, {\"StichtagDatJahr\": \"1958-01-01T00:00:00\", \"AnzSchl\": 5769, \"AnzSche\": 776, \"AnzBestWir\": 431242}, {\"StichtagDatJahr\": \"1959-01-01T00:00:00\", \"AnzSchl\": 5846, \"AnzSche\": 858, \"AnzBestWir\": 434080}, {\"StichtagDatJahr\": \"1960-01-01T00:00:00\", \"AnzSchl\": 5975, \"AnzSche\": 787, \"AnzBestWir\": 437273}, {\"StichtagDatJahr\": \"1961-01-01T00:00:00\", \"AnzSchl\": 5766, \"AnzSche\": 752, \"AnzBestWir\": 439322}, {\"StichtagDatJahr\": \"1962-01-01T00:00:00\", \"AnzSchl\": 6014, \"AnzSche\": 778, \"AnzBestWir\": 440180}, {\"StichtagDatJahr\": \"1963-01-01T00:00:00\", \"AnzSchl\": 5789, \"AnzSche\": 728, \"AnzBestWir\": 439090}, {\"StichtagDatJahr\": \"1964-01-01T00:00:00\", \"AnzSchl\": 5878, \"AnzSche\": 709, \"AnzBestWir\": 437630}, {\"StichtagDatJahr\": \"1965-01-01T00:00:00\", \"AnzSchl\": 5928, \"AnzSche\": 660, \"AnzBestWir\": 433865}, {\"StichtagDatJahr\": \"1966-01-01T00:00:00\", \"AnzSchl\": 5848, \"AnzSche\": 689, \"AnzBestWir\": 431533}, {\"StichtagDatJahr\": \"1967-01-01T00:00:00\", \"AnzSchl\": 5636, \"AnzSche\": 686, \"AnzBestWir\": 430594}, {\"StichtagDatJahr\": \"1968-01-01T00:00:00\", \"AnzSchl\": 5577, \"AnzSche\": 710, \"AnzBestWir\": 430155}, {\"StichtagDatJahr\": \"1969-01-01T00:00:00\", \"AnzSchl\": 5969, \"AnzSche\": 764, \"AnzBestWir\": 425117}, {\"StichtagDatJahr\": \"1970-01-01T00:00:00\", \"AnzSchl\": 5521, \"AnzSche\": 699, \"AnzBestWir\": 417972}, {\"StichtagDatJahr\": \"1971-01-01T00:00:00\", \"AnzSchl\": 5228, \"AnzSche\": 716, \"AnzBestWir\": 412169}, {\"StichtagDatJahr\": \"1972-01-01T00:00:00\", \"AnzSchl\": 4667, \"AnzSche\": 757, \"AnzBestWir\": 407647}, {\"StichtagDatJahr\": \"1973-01-01T00:00:00\", \"AnzSchl\": 3844, \"AnzSche\": 834, \"AnzBestWir\": 401577}, {\"StichtagDatJahr\": \"1974-01-01T00:00:00\", \"AnzSchl\": 3372, \"AnzSche\": 799, \"AnzBestWir\": 396261}, {\"StichtagDatJahr\": \"1975-01-01T00:00:00\", \"AnzSchl\": 3157, \"AnzSche\": 752, \"AnzBestWir\": 389613}, {\"StichtagDatJahr\": \"1976-01-01T00:00:00\", \"AnzSchl\": 2700, \"AnzSche\": 772, \"AnzBestWir\": 382999}, {\"StichtagDatJahr\": \"1977-01-01T00:00:00\", \"AnzSchl\": 2633, \"AnzSche\": 955, \"AnzBestWir\": 379635}, {\"StichtagDatJahr\": \"1978-01-01T00:00:00\", \"AnzSchl\": 2607, \"AnzSche\": 859, \"AnzBestWir\": 376447}, {\"StichtagDatJahr\": \"1979-01-01T00:00:00\", \"AnzSchl\": 2778, \"AnzSche\": 768, \"AnzBestWir\": 374221}, {\"StichtagDatJahr\": \"1980-01-01T00:00:00\", \"AnzSchl\": 2804, \"AnzSche\": 867, \"AnzBestWir\": 370618}, {\"StichtagDatJahr\": \"1981-01-01T00:00:00\", \"AnzSchl\": 2919, \"AnzSche\": 857, \"AnzBestWir\": 368171}, {\"StichtagDatJahr\": \"1982-01-01T00:00:00\", \"AnzSchl\": 2976, \"AnzSche\": 819, \"AnzBestWir\": 366340}, {\"StichtagDatJahr\": \"1983-01-01T00:00:00\", \"AnzSchl\": 2887, \"AnzSche\": 847, \"AnzBestWir\": 363652}, {\"StichtagDatJahr\": \"1984-01-01T00:00:00\", \"AnzSchl\": 2769, \"AnzSche\": 873, \"AnzBestWir\": 361493}, {\"StichtagDatJahr\": \"1985-01-01T00:00:00\", \"AnzSchl\": 3000, \"AnzSche\": 794, \"AnzBestWir\": 359084}, {\"StichtagDatJahr\": \"1986-01-01T00:00:00\", \"AnzSchl\": 3134, \"AnzSche\": 1078, \"AnzBestWir\": 358873}, {\"StichtagDatJahr\": \"1987-01-01T00:00:00\", \"AnzSchl\": 3194, \"AnzSche\": 1156, \"AnzBestWir\": 358042}, {\"StichtagDatJahr\": \"1988-01-01T00:00:00\", \"AnzSchl\": 3467, \"AnzSche\": 1177, \"AnzBestWir\": 357360}, {\"StichtagDatJahr\": \"1989-01-01T00:00:00\", \"AnzSchl\": 3553, \"AnzSche\": 1176, \"AnzBestWir\": 355901}, {\"StichtagDatJahr\": \"1990-01-01T00:00:00\", \"AnzSchl\": 3521, \"AnzSche\": 1237, \"AnzBestWir\": 356352}, {\"StichtagDatJahr\": \"1991-01-01T00:00:00\", \"AnzSchl\": 3805, \"AnzSche\": 1305, \"AnzBestWir\": 360875}, {\"StichtagDatJahr\": \"1992-01-01T00:00:00\", \"AnzSchl\": 3757, \"AnzSche\": 1261, \"AnzBestWir\": 361488}, {\"StichtagDatJahr\": \"1993-01-01T00:00:00\", \"AnzSchl\": 3571, \"AnzSche\": 1475, \"AnzBestWir\": 360898}, {\"StichtagDatJahr\": \"1994-01-01T00:00:00\", \"AnzSchl\": 3541, \"AnzSche\": 1455, \"AnzBestWir\": 360848}, {\"StichtagDatJahr\": \"1995-01-01T00:00:00\", \"AnzSchl\": 3180, \"AnzSche\": 1488, \"AnzBestWir\": 360826}, {\"StichtagDatJahr\": \"1996-01-01T00:00:00\", \"AnzSchl\": 3222, \"AnzSche\": 1553, \"AnzBestWir\": 359648}, {\"StichtagDatJahr\": \"1997-01-01T00:00:00\", \"AnzSchl\": 3259, \"AnzSche\": 1557, \"AnzBestWir\": 358594}, {\"StichtagDatJahr\": \"1998-01-01T00:00:00\", \"AnzSchl\": 3348, \"AnzSche\": 1637, \"AnzBestWir\": 359073}, {\"StichtagDatJahr\": \"1999-01-01T00:00:00\", \"AnzSchl\": 3396, \"AnzSche\": 1628, \"AnzBestWir\": 360704}, {\"StichtagDatJahr\": \"2000-01-01T00:00:00\", \"AnzSchl\": 3463, \"AnzSche\": 1140, \"AnzBestWir\": 360980}, {\"StichtagDatJahr\": \"2001-01-01T00:00:00\", \"AnzSchl\": 3614, \"AnzSche\": 1107, \"AnzBestWir\": 362042}, {\"StichtagDatJahr\": \"2002-01-01T00:00:00\", \"AnzSchl\": 3574, \"AnzSche\": 1673, \"AnzBestWir\": 364558}, {\"StichtagDatJahr\": \"2003-01-01T00:00:00\", \"AnzSchl\": 3683, \"AnzSche\": 1545, \"AnzBestWir\": 364528}, {\"StichtagDatJahr\": \"2004-01-01T00:00:00\", \"AnzSchl\": 3367, \"AnzSche\": 1581, \"AnzBestWir\": 364977}, {\"StichtagDatJahr\": \"2005-01-01T00:00:00\", \"AnzSchl\": 3390, \"AnzSche\": 1856, \"AnzBestWir\": 366809}, {\"StichtagDatJahr\": \"2006-01-01T00:00:00\", \"AnzSchl\": 3234, \"AnzSche\": 1790, \"AnzBestWir\": 370062}, {\"StichtagDatJahr\": \"2007-01-01T00:00:00\", \"AnzSchl\": 3380, \"AnzSche\": 1643, \"AnzBestWir\": 376815}, {\"StichtagDatJahr\": \"2008-01-01T00:00:00\", \"AnzSchl\": 3319, \"AnzSche\": 1587, \"AnzBestWir\": 380499}, {\"StichtagDatJahr\": \"2009-01-01T00:00:00\", \"AnzSchl\": 3385, \"AnzSche\": 1780, \"AnzBestWir\": 382906}, {\"StichtagDatJahr\": \"2010-01-01T00:00:00\", \"AnzSchl\": 3543, \"AnzSche\": 1991, \"AnzBestWir\": 385468}, {\"StichtagDatJahr\": \"2011-01-01T00:00:00\", \"AnzSchl\": 3405, \"AnzSche\": 1544, \"AnzBestWir\": 390082}, {\"StichtagDatJahr\": \"2012-01-01T00:00:00\", \"AnzSchl\": 3328, \"AnzSche\": 1373, \"AnzBestWir\": 394012}, {\"StichtagDatJahr\": \"2013-01-01T00:00:00\", \"AnzSchl\": 3575, \"AnzSche\": 1488, \"AnzBestWir\": 398575}, {\"StichtagDatJahr\": \"2014-01-01T00:00:00\", \"AnzSchl\": 3597, \"AnzSche\": 1334, \"AnzBestWir\": 404783}, {\"StichtagDatJahr\": \"2015-01-01T00:00:00\", \"AnzSchl\": 3529, \"AnzSche\": 1297, \"AnzBestWir\": 410404}, {\"StichtagDatJahr\": \"2016-01-01T00:00:00\", \"AnzSchl\": 3406, \"AnzSche\": 1276, \"AnzBestWir\": 415682}, {\"StichtagDatJahr\": \"2017-01-01T00:00:00\", \"AnzSchl\": 3404, \"AnzSche\": 1251, \"AnzBestWir\": 423310}, {\"StichtagDatJahr\": \"2018-01-01T00:00:00\", \"AnzSchl\": 3399, \"AnzSche\": 1241, \"AnzBestWir\": 428737}, {\"StichtagDatJahr\": \"2019-01-01T00:00:00\", \"AnzSchl\": 3289, \"AnzSche\": 1305, \"AnzBestWir\": 434008}, {\"StichtagDatJahr\": \"2020-01-01T00:00:00\", \"AnzSchl\": 2751, \"AnzSche\": 1158, \"AnzBestWir\": 434736}]}}, {\"mode\": \"vega-lite\"});\n",
       "</script>"
      ],
      "text/plain": [
       "alt.Chart(...)"
      ]
     },
     "execution_count": 30,
     "metadata": {},
     "output_type": "execute_result"
    }
   ],
   "source": [
    "alt.Chart(data2betested).mark_circle(size=60).encode(\n",
    "    x='StichtagDatJahr',\n",
    "    y='AnzSchl',\n",
    "    #color='AnzNat',\n",
    "    #color=alt.Color('AnzNat', scale=alt.Scale(scheme='greens')),\n",
    "    color=alt.Color('AnzBestWir', scale=alt.Scale(scheme='dark2')),\n",
    "    tooltip=['AnzSchl','StichtagDatJahr','AnzSche','AnzBestWir']\n",
    ").interactive() # this makes the axes interactive: now you can zoom & pan\n",
    "\n",
    "\n"
   ]
  },
  {
   "cell_type": "markdown",
   "metadata": {},
   "source": [
    "**Sharepoint als gecheckt markieren!**"
   ]
  },
  {
   "cell_type": "markdown",
   "metadata": {},
   "source": [
    "Record auf Sharepoint: **[Link](http://kollaboration.intranet.stzh.ch/orga/ssz-produkte/Lists/SASA_Outputs/EditForm.aspx?ID=52&Source=%2Forga%2Fssz%2Dprodukte%2FLists%2FSASA%5FOutputs)**"
   ]
  },
  {
   "cell_type": "raw",
   "metadata": {},
   "source": []
  },
  {
   "cell_type": "code",
   "execution_count": null,
   "metadata": {},
   "outputs": [],
   "source": []
  }
 ],
 "metadata": {
  "kernelspec": {
   "display_name": "Python 3 (ipykernel)",
   "language": "python",
   "name": "python3"
  },
  "language_info": {
   "codemirror_mode": {
    "name": "ipython",
    "version": 3
   },
   "file_extension": ".py",
   "mimetype": "text/x-python",
   "name": "python",
   "nbconvert_exporter": "python",
   "pygments_lexer": "ipython3",
   "version": "3.9.7"
  }
 },
 "nbformat": 4,
 "nbformat_minor": 4
}
