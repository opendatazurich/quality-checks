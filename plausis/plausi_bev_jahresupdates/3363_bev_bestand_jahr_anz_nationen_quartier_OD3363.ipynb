{
 "cells": [
  {
   "cell_type": "markdown",
   "metadata": {
    "tags": []
   },
   "source": [
    "# Testing\n",
    "### Bevölkerung und Anzahl Nationalitäten nach Stadtquartier, seit 1993\n",
    "\n",
    "\n",
    "Anzahl unterschiedliche Staatsangehörigkeiten und wirtschaftliche Wohnbevölkerung der Stadt Zürich nach Staatsangehörigkeit, Statistischem Stadtquartier und Jahr, seit 1993.\n",
    "\n",
    "Datum: 15.03.2022\n"
   ]
  },
  {
   "cell_type": "markdown",
   "metadata": {},
   "source": [
    "### Importiere die notwendigen Packages"
   ]
  },
  {
   "cell_type": "code",
   "execution_count": 29,
   "metadata": {},
   "outputs": [],
   "source": [
    "#%pip install geopandas altair fiona requests folium mplleaflet contextily seaborn datetime plotly leafmap"
   ]
  },
  {
   "cell_type": "code",
   "execution_count": 30,
   "metadata": {},
   "outputs": [],
   "source": [
    "import pandas as pd\n",
    "import pivottablejs\n",
    "from pivottablejs import pivot_ui\n",
    "import numpy as np\n",
    "import altair as alt\n",
    "import matplotlib.pyplot as plt\n",
    "\n",
    "import datetime\n",
    "import geopandas as gpd\n",
    "import folium \n",
    "import plotly.express as px\n",
    "import seaborn as sns\n",
    "import leafmap\n",
    "\n",
    "import requests\n",
    "import io\n"
   ]
  },
  {
   "cell_type": "code",
   "execution_count": 31,
   "metadata": {},
   "outputs": [],
   "source": [
    "SSL_VERIFY = False\n",
    "# evtl. SSL_VERIFY auf False setzen wenn die Verbindung zu https://www.gemeinderat-zuerich.ch nicht klappt (z.B. wegen Proxy)\n",
    "# Um die SSL Verifikation auszustellen, bitte die nächste Zeile einkommentieren (\"#\" entfernen)\n",
    "# SSL_VERIFY = False"
   ]
  },
  {
   "cell_type": "code",
   "execution_count": 32,
   "metadata": {},
   "outputs": [],
   "source": [
    "if not SSL_VERIFY:\n",
    "    import urllib3\n",
    "    urllib3.disable_warnings()"
   ]
  },
  {
   "cell_type": "markdown",
   "metadata": {},
   "source": [
    "Definiere Settings. Hier das Zahlenformat von Float-Werten (z.B. *'{:,.2f}'.format* mit Komma als Tausenderzeichen), "
   ]
  },
  {
   "cell_type": "code",
   "execution_count": 33,
   "metadata": {},
   "outputs": [],
   "source": [
    "#pd.options.display.float_format = lambda x : '{:,.1f}'.format(x) if (np.isnan(x) | np.isinf(x)) else '{:,.0f}'.format(x) if int(x) == x else '{:,.1f}'.format(x)\n",
    "pd.options.display.float_format = '{:.0f}'.format\n",
    "pd.set_option('display.width', 100)\n",
    "pd.set_option('display.max_columns', 15)"
   ]
  },
  {
   "cell_type": "markdown",
   "metadata": {},
   "source": [
    "### Zeitvariabeln\n",
    "Bestimme den aktuellst geladenen Monat. Hier ist es der Stand vor 2 Monaten. \n",
    "Bestimme noch weitere evt. sinnvolle Zeitvariabeln.\n",
    "\n",
    "Zum Unterschied zwischen import datetime und from datedtime import datetime, siehe https://stackoverflow.com/questions/15707532/import-datetime-v-s-from-datetime-import-datetime\n",
    "\n",
    "Zuerst die Zeitvariabeln als Strings"
   ]
  },
  {
   "cell_type": "code",
   "execution_count": 34,
   "metadata": {},
   "outputs": [],
   "source": [
    "#today_date = datetime.date.today()\n",
    "#date_time = datetime.datetime.strptime(date_time_string, '%Y-%m-%d %H:%M')\n",
    "now = datetime.date.today()\n",
    "date_today = now.strftime(\"%Y-%m-%d\")\n",
    "year_today = now.strftime(\"%Y\")\n",
    "month_today = now.strftime(\"%m\")\n",
    "day_today = now.strftime(\"%d\")\n"
   ]
  },
  {
   "cell_type": "markdown",
   "metadata": {},
   "source": [
    "Und hier noch die Zeitvariabeln als Integers:\n",
    "- `aktuellesJahr`\n",
    "- `aktuellerMonat`: Der gerade jetzt aktuelle Monat\n",
    "- `selectedMonat`: Der aktuellste Monat in den Daten. In der Regel zwei Monate her."
   ]
  },
  {
   "cell_type": "code",
   "execution_count": 35,
   "metadata": {},
   "outputs": [
    {
     "name": "stdout",
     "output_type": "stream",
     "text": [
      "2022 3 datenstand:  1 time.struct_time(tm_year=2022, tm_mon=3, tm_mday=16, tm_hour=0, tm_min=0, tm_sec=0, tm_wday=2, tm_yday=75, tm_isdst=-1)\n"
     ]
    }
   ],
   "source": [
    "#now = datetime.now() \n",
    "int_times = now.timetuple()\n",
    "\n",
    "aktuellesJahr = int_times[0]\n",
    "aktuellerMonat = int_times[1]\n",
    "selectedMonat = int_times[1]-2\n",
    "\n",
    "print(aktuellesJahr, \n",
    "      aktuellerMonat,\n",
    "    'datenstand: ', selectedMonat,\n",
    "     int_times)\n"
   ]
  },
  {
   "cell_type": "markdown",
   "metadata": {},
   "source": [
    "Berechne die Variable Epoche um später das SAS-Datum in ein Unix-Datum umzuwandeln. Bei SAS beginnt die Epoche am 1.1.1960. Bei Unix am 1.1.1970.\n",
    "Diese Variable wird beim CSV-Import benötigt."
   ]
  },
  {
   "cell_type": "code",
   "execution_count": 36,
   "metadata": {},
   "outputs": [],
   "source": [
    "epoch = datetime.datetime(1960, 1, 1)"
   ]
  },
  {
   "cell_type": "markdown",
   "metadata": {},
   "source": [
    "### Setze einige Pfadvariabeln"
   ]
  },
  {
   "cell_type": "markdown",
   "metadata": {
    "tags": []
   },
   "source": [
    "- Der Packagename ist eigentlich der **Verzeichnisname** unter dem die Daten und Metadaten auf der Dropzone abgelegt werden.\n",
    "- Definiert wird er bei SASA-Prozessen auf dem **Produkte-Sharepoint ([Link](https://kollaboration.intranet.stzh.ch/orga/ssz-produkte/Lists/SASA_Outputs/PersonalViews.aspx?PageView=Personal&ShowWebPart={6087A3E7-8AC8-40BA-8278-DECFACE124FF}))**.\n",
    "- Der Packagename wird auf CKAN teil der URL, daher ist die exakte Schreibweise wichtig.\n",
    "\n",
    "Beachte: im Packagename müssen alle Buchstaben **klein** geschrieben werden. Dies weil CKAN aus grossen kleine Buchstaben macht."
   ]
  },
  {
   "cell_type": "markdown",
   "metadata": {},
   "source": [
    "**BITTE HIER ANPASSEN**"
   ]
  },
  {
   "cell_type": "code",
   "execution_count": 37,
   "metadata": {},
   "outputs": [],
   "source": [
    "package_name = \"bev_bestand_jahr_anz_nationen_quartier_od3363\""
   ]
  },
  {
   "cell_type": "code",
   "execution_count": 39,
   "metadata": {
    "tags": []
   },
   "outputs": [],
   "source": [
    "dataset_name = \"BEV336OD3363.csv\""
   ]
  },
  {
   "cell_type": "markdown",
   "metadata": {},
   "source": [
    "**Statische Pfade in DWH-Dropzones**"
   ]
  },
  {
   "cell_type": "code",
   "execution_count": 40,
   "metadata": {},
   "outputs": [],
   "source": [
    "dropzone_path_integ = r\"\\\\szh\\ssz\\applikationen\\OGD_Dropzone\\INT_DWH\""
   ]
  },
  {
   "cell_type": "code",
   "execution_count": 41,
   "metadata": {
    "tags": []
   },
   "outputs": [],
   "source": [
    "dropzone_path_prod = r\"\\\\szh\\ssz\\applikationen\\OGD_Dropzone\\DWH\""
   ]
  },
  {
   "cell_type": "markdown",
   "metadata": {},
   "source": [
    "**Statische Pfade CKAN-URLs**"
   ]
  },
  {
   "cell_type": "code",
   "execution_count": 42,
   "metadata": {
    "tags": []
   },
   "outputs": [],
   "source": [
    "ckan_integ_url =\"https://data.integ.stadt-zuerich.ch/dataset/int_dwh_\""
   ]
  },
  {
   "cell_type": "code",
   "execution_count": 43,
   "metadata": {},
   "outputs": [],
   "source": [
    "ckan_prod_url =\"https://data.stadt-zuerich.ch/dataset/\""
   ]
  },
  {
   "cell_type": "markdown",
   "metadata": {},
   "source": [
    "### Checke die Metadaten auf der CKAN INTEG- oder PROD-Webseite\n",
    "\n",
    "Offenbar lassen sich aktuell im Markdownteil keine Variabeln ausführen, daher gehen wir wie unten gezeigt vor. Siehe dazu: https://data-dive.com/jupyterlab-markdown-cells-include-variables\n",
    "Instead of setting the cell to Markdown, create Markdown from withnin a code cell! We can just use python variable replacement syntax to make the text dynamic"
   ]
  },
  {
   "cell_type": "code",
   "execution_count": 44,
   "metadata": {},
   "outputs": [],
   "source": [
    "from IPython.display import Markdown as md"
   ]
  },
  {
   "cell_type": "code",
   "execution_count": 49,
   "metadata": {},
   "outputs": [
    {
     "data": {
      "text/markdown": [
       " **1. Dataset auf INTEG-Datakatalog:** Link https://data.integ.stadt-zuerich.ch/dataset/int_dwh_bev_bestand_jahr_anz_nationen_quartier_od3363 "
      ],
      "text/plain": [
       "<IPython.core.display.Markdown object>"
      ]
     },
     "execution_count": 49,
     "metadata": {},
     "output_type": "execute_result"
    }
   ],
   "source": [
    "md(\" **1. Dataset auf INTEG-Datakatalog:** Link {} \".format(ckan_integ_url+package_name))"
   ]
  },
  {
   "cell_type": "code",
   "execution_count": 50,
   "metadata": {
    "tags": []
   },
   "outputs": [
    {
     "data": {
      "text/markdown": [
       " **2. Dataset auf PROD-Datakatalog:** Link https://data.stadt-zuerich.ch/dataset/bev_bestand_jahr_anz_nationen_quartier_od3363 "
      ],
      "text/plain": [
       "<IPython.core.display.Markdown object>"
      ]
     },
     "execution_count": 50,
     "metadata": {},
     "output_type": "execute_result"
    }
   ],
   "source": [
    "md(\" **2. Dataset auf PROD-Datakatalog:** Link {} \".format(ckan_prod_url+package_name))"
   ]
  },
  {
   "cell_type": "markdown",
   "metadata": {
    "tags": []
   },
   "source": [
    "### Importiere einen Datensatz \n",
    "\n",
    "Definiere zuerst folgende Werte:\n",
    "1) Kommt der Datensatz von PROD oder INTEG?\n",
    "2) Beziehst Du den Datensatz direkt ab der DROPZONE oder aus dem INTERNET?"
   ]
  },
  {
   "cell_type": "code",
   "execution_count": 51,
   "metadata": {},
   "outputs": [
    {
     "name": "stdout",
     "output_type": "stream",
     "text": [
      "integ - web\n"
     ]
    }
   ],
   "source": [
    "#Die Datasets sind nur zum Testen auf INT-DWH-Dropzone. Wenn der Test vorbei ist, sind sie auf PROD. \n",
    "# Über den Status kann man einfach switchen\n",
    "\n",
    "status = \"integ\"; #prod vs something else\n",
    "data_source = \"web\"; #dropzone vs something else\n",
    "print(status+\" - \"+ data_source)"
   ]
  },
  {
   "cell_type": "code",
   "execution_count": 52,
   "metadata": {
    "tags": []
   },
   "outputs": [
    {
     "name": "stdout",
     "output_type": "stream",
     "text": [
      "fp lautet:https://data.integ.stadt-zuerich.ch/dataset/int_dwh_bev_bestand_jahr_anz_nationen_quartier_od3363/download/BEV336OD3363.csv\n"
     ]
    }
   ],
   "source": [
    "# Filepath\n",
    "if status == \"prod\":\n",
    "    if data_source == \"dropzone\":\n",
    "            fp = dropzone_path_prod+\"\\\\\"+ package_name +\"\\\\\"+dataset_name\n",
    "            print(\"fp lautet:\"+fp)\n",
    "    else:\n",
    "        #fp = r\"https://data.stadt-zuerich.ch/dataset/bau_neubau_whg_bausm_rinh_geb_projstatus_quartier_seit2009_od5011/download/BAU501OD5011.csv\"\n",
    "        fp = ckan_prod_url+package_name+'/download/'+dataset_name\n",
    "        print(\"fp lautet:\"+fp)\n",
    "else:\n",
    "    if data_source == \"dropzone\":\n",
    "        fp = dropzone_path_integ+\"\\\\\"+ package_name +\"\\\\\"+dataset_name\n",
    "        print(\"fp lautet:\"+fp)\n",
    "    else:\n",
    "        #fp = r\"https://data.stadt-zuerich.ch/dataset/bau_neubau_whg_bausm_rinh_geb_projstatus_quartier_seit2009_od5011/download/BAU501OD5011.csv\"\n",
    "        fp = ckan_integ_url+package_name+'/download/'+dataset_name\n",
    "        print(\"fp lautet:\"+fp)\n"
   ]
  },
  {
   "cell_type": "markdown",
   "metadata": {},
   "source": [
    "Beachte, wie das SAS Datum (ohne Format) in ein UNIX Datum umgerechnet und als Datumsformat dargestellt wird! Siehe dazu `https://stackoverflow.com/questions/26923564/convert-sas-numeric-to-python-datetime`"
   ]
  },
  {
   "cell_type": "code",
   "execution_count": 53,
   "metadata": {},
   "outputs": [
    {
     "name": "stdout",
     "output_type": "stream",
     "text": [
      "web\n"
     ]
    },
    {
     "data": {
      "text/plain": [
       "StichtagDatJahr    datetime64[ns]\n",
       "QuarSort                    int64\n",
       "QuarCd                      int64\n",
       "QuarLang                   object\n",
       "AnzBestWir                  int64\n",
       "AnzNat                      int64\n",
       "dtype: object"
      ]
     },
     "execution_count": 53,
     "metadata": {},
     "output_type": "execute_result"
    }
   ],
   "source": [
    "# Read the data\n",
    "if data_source == \"dropzone\":\n",
    "    data2betested = pd.read_csv(\n",
    "        fp\n",
    "        , sep=','\n",
    "        ,parse_dates=['StichtagDatJahr']\n",
    "        ,low_memory=False\n",
    "    )\n",
    "    print(\"dropzone\")\n",
    "else:\n",
    "    r = requests.get(fp, verify=False)  \n",
    "    r.encoding = 'utf-8'\n",
    "    data2betested = pd.read_csv(\n",
    "        io.StringIO(r.text)\n",
    "        ,parse_dates=['StichtagDatJahr']\n",
    "        # KONVERTIERE DAS SAS DATUM IN EIN UNIXDATUM UND FORMATIERE ES\n",
    "        #, date_parser=lambda s: epoch + datetime.timedelta(days=int(s))\n",
    "        ,low_memory=False)\n",
    "    print(\"web\")\n",
    "\n",
    "data2betested.dtypes"
   ]
  },
  {
   "cell_type": "markdown",
   "metadata": {},
   "source": [
    "Berechne weitere Attribute falls notwendig"
   ]
  },
  {
   "cell_type": "code",
   "execution_count": 54,
   "metadata": {},
   "outputs": [
    {
     "data": {
      "text/plain": [
       "StichtagDatJahr        datetime64[ns]\n",
       "QuarSort                        int64\n",
       "QuarCd                          int64\n",
       "QuarLang                       object\n",
       "AnzBestWir                      int64\n",
       "AnzNat                          int64\n",
       "StichtagDatJahr_str            object\n",
       "dtype: object"
      ]
     },
     "execution_count": 54,
     "metadata": {},
     "output_type": "execute_result"
    }
   ],
   "source": [
    "data2betested = (\n",
    "    data2betested\n",
    "    .copy()\n",
    "    .assign(\n",
    "        #Aktualisierungs_Datum_str= lambda x: x.Aktualisierungs_Datum.astype(str),\n",
    "        StichtagDatJahr_str = lambda x: x.StichtagDatJahr.astype(str),\n",
    "    )\n",
    "    .sort_values('StichtagDatJahr', ascending=False)\n",
    "    )\n",
    "data2betested.dtypes"
   ]
  },
  {
   "cell_type": "markdown",
   "metadata": {},
   "source": [
    "### Einfache Datentests"
   ]
  },
  {
   "cell_type": "markdown",
   "metadata": {},
   "source": [
    " - 1) Zeige eine kurze Vorschau der importierten Daten\n",
    " - 2) Weise die Datentypen aus\n",
    " - 3) Zeige die Shape (Umfang) des Datensatzes an"
   ]
  },
  {
   "cell_type": "code",
   "execution_count": 55,
   "metadata": {},
   "outputs": [],
   "source": [
    "#data2betested.head(6)"
   ]
  },
  {
   "cell_type": "code",
   "execution_count": 56,
   "metadata": {},
   "outputs": [
    {
     "data": {
      "text/plain": [
       "StichtagDatJahr        datetime64[ns]\n",
       "QuarSort                        int64\n",
       "QuarCd                          int64\n",
       "QuarLang                       object\n",
       "AnzBestWir                      int64\n",
       "AnzNat                          int64\n",
       "StichtagDatJahr_str            object\n",
       "dtype: object"
      ]
     },
     "execution_count": 56,
     "metadata": {},
     "output_type": "execute_result"
    }
   ],
   "source": [
    "data2betested.dtypes"
   ]
  },
  {
   "cell_type": "code",
   "execution_count": 57,
   "metadata": {},
   "outputs": [
    {
     "data": {
      "text/plain": [
       "(986, 7)"
      ]
     },
     "execution_count": 57,
     "metadata": {},
     "output_type": "execute_result"
    }
   ],
   "source": [
    "data2betested.shape"
   ]
  },
  {
   "cell_type": "markdown",
   "metadata": {},
   "source": [
    "Beschreibe einzelne Attribute"
   ]
  },
  {
   "cell_type": "code",
   "execution_count": 58,
   "metadata": {},
   "outputs": [
    {
     "data": {
      "text/html": [
       "<div>\n",
       "<style scoped>\n",
       "    .dataframe tbody tr th:only-of-type {\n",
       "        vertical-align: middle;\n",
       "    }\n",
       "\n",
       "    .dataframe tbody tr th {\n",
       "        vertical-align: top;\n",
       "    }\n",
       "\n",
       "    .dataframe thead th {\n",
       "        text-align: right;\n",
       "    }\n",
       "</style>\n",
       "<table border=\"1\" class=\"dataframe\">\n",
       "  <thead>\n",
       "    <tr style=\"text-align: right;\">\n",
       "      <th></th>\n",
       "      <th>QuarSort</th>\n",
       "      <th>QuarCd</th>\n",
       "      <th>AnzBestWir</th>\n",
       "      <th>AnzNat</th>\n",
       "    </tr>\n",
       "  </thead>\n",
       "  <tbody>\n",
       "    <tr>\n",
       "      <th>count</th>\n",
       "      <td>986</td>\n",
       "      <td>986</td>\n",
       "      <td>986</td>\n",
       "      <td>986</td>\n",
       "    </tr>\n",
       "    <tr>\n",
       "      <th>mean</th>\n",
       "      <td>65</td>\n",
       "      <td>65</td>\n",
       "      <td>11330</td>\n",
       "      <td>93</td>\n",
       "    </tr>\n",
       "    <tr>\n",
       "      <th>std</th>\n",
       "      <td>36</td>\n",
       "      <td>36</td>\n",
       "      <td>7325</td>\n",
       "      <td>23</td>\n",
       "    </tr>\n",
       "    <tr>\n",
       "      <th>min</th>\n",
       "      <td>11</td>\n",
       "      <td>11</td>\n",
       "      <td>634</td>\n",
       "      <td>30</td>\n",
       "    </tr>\n",
       "    <tr>\n",
       "      <th>25%</th>\n",
       "      <td>33</td>\n",
       "      <td>33</td>\n",
       "      <td>5482</td>\n",
       "      <td>80</td>\n",
       "    </tr>\n",
       "    <tr>\n",
       "      <th>50%</th>\n",
       "      <td>67</td>\n",
       "      <td>67</td>\n",
       "      <td>10238</td>\n",
       "      <td>96</td>\n",
       "    </tr>\n",
       "    <tr>\n",
       "      <th>75%</th>\n",
       "      <td>92</td>\n",
       "      <td>92</td>\n",
       "      <td>16535</td>\n",
       "      <td>111</td>\n",
       "    </tr>\n",
       "    <tr>\n",
       "      <th>max</th>\n",
       "      <td>123</td>\n",
       "      <td>123</td>\n",
       "      <td>34665</td>\n",
       "      <td>134</td>\n",
       "    </tr>\n",
       "  </tbody>\n",
       "</table>\n",
       "</div>"
      ],
      "text/plain": [
       "       QuarSort  QuarCd  AnzBestWir  AnzNat\n",
       "count       986     986         986     986\n",
       "mean         65      65       11330      93\n",
       "std          36      36        7325      23\n",
       "min          11      11         634      30\n",
       "25%          33      33        5482      80\n",
       "50%          67      67       10238      96\n",
       "75%          92      92       16535     111\n",
       "max         123     123       34665     134"
      ]
     },
     "execution_count": 58,
     "metadata": {},
     "output_type": "execute_result"
    }
   ],
   "source": [
    "data2betested.describe()"
   ]
  },
  {
   "cell_type": "markdown",
   "metadata": {},
   "source": [
    "Wie viele Nullwerte gibt es im Datensatz?"
   ]
  },
  {
   "cell_type": "code",
   "execution_count": 59,
   "metadata": {
    "scrolled": true
   },
   "outputs": [
    {
     "data": {
      "text/plain": [
       "StichtagDatJahr        0\n",
       "QuarSort               0\n",
       "QuarCd                 0\n",
       "QuarLang               0\n",
       "AnzBestWir             0\n",
       "AnzNat                 0\n",
       "StichtagDatJahr_str    0\n",
       "dtype: int64"
      ]
     },
     "execution_count": 59,
     "metadata": {},
     "output_type": "execute_result"
    }
   ],
   "source": [
    "data2betested.isnull().sum()"
   ]
  },
  {
   "cell_type": "markdown",
   "metadata": {},
   "source": [
    "Welches sind die Quartiere ohne Werte bei AnzBestWir?"
   ]
  },
  {
   "cell_type": "code",
   "execution_count": 60,
   "metadata": {},
   "outputs": [
    {
     "data": {
      "text/html": [
       "<div>\n",
       "<style scoped>\n",
       "    .dataframe tbody tr th:only-of-type {\n",
       "        vertical-align: middle;\n",
       "    }\n",
       "\n",
       "    .dataframe tbody tr th {\n",
       "        vertical-align: top;\n",
       "    }\n",
       "\n",
       "    .dataframe thead th {\n",
       "        text-align: right;\n",
       "    }\n",
       "</style>\n",
       "<table border=\"1\" class=\"dataframe\">\n",
       "  <thead>\n",
       "    <tr style=\"text-align: right;\">\n",
       "      <th></th>\n",
       "      <th>StichtagDatJahr</th>\n",
       "      <th>QuarSort</th>\n",
       "      <th>QuarCd</th>\n",
       "      <th>QuarLang</th>\n",
       "      <th>AnzBestWir</th>\n",
       "      <th>AnzNat</th>\n",
       "      <th>StichtagDatJahr_str</th>\n",
       "    </tr>\n",
       "  </thead>\n",
       "  <tbody>\n",
       "  </tbody>\n",
       "</table>\n",
       "</div>"
      ],
      "text/plain": [
       "Empty DataFrame\n",
       "Columns: [StichtagDatJahr, QuarSort, QuarCd, QuarLang, AnzBestWir, AnzNat, StichtagDatJahr_str]\n",
       "Index: []"
      ]
     },
     "execution_count": 60,
     "metadata": {},
     "output_type": "execute_result"
    }
   ],
   "source": [
    "data2betested[np.isnan(data2betested.AnzBestWir)]"
   ]
  },
  {
   "cell_type": "markdown",
   "metadata": {
    "colab_type": "text",
    "id": "1dTPVmmsgOVx"
   },
   "source": [
    "### Verwende das Datum als Index\n",
    "\n",
    "While we did already parse the `datetime` column into the respective datetime type, it currently is just a regular column. \n",
    "**To enable quick and convenient queries and aggregations, we need to turn it into the index of the DataFrame**"
   ]
  },
  {
   "cell_type": "code",
   "execution_count": 61,
   "metadata": {},
   "outputs": [],
   "source": [
    "data2betested = data2betested.set_index(\"StichtagDatJahr\")"
   ]
  },
  {
   "cell_type": "code",
   "execution_count": 62,
   "metadata": {},
   "outputs": [
    {
     "name": "stdout",
     "output_type": "stream",
     "text": [
      "<class 'pandas.core.frame.DataFrame'>\n",
      "DatetimeIndex: 986 entries, 2021-01-01 to 1993-01-01\n",
      "Data columns (total 6 columns):\n",
      " #   Column               Non-Null Count  Dtype \n",
      "---  ------               --------------  ----- \n",
      " 0   QuarSort             986 non-null    int64 \n",
      " 1   QuarCd               986 non-null    int64 \n",
      " 2   QuarLang             986 non-null    object\n",
      " 3   AnzBestWir           986 non-null    int64 \n",
      " 4   AnzNat               986 non-null    int64 \n",
      " 5   StichtagDatJahr_str  986 non-null    object\n",
      "dtypes: int64(4), object(2)\n",
      "memory usage: 53.9+ KB\n"
     ]
    },
    {
     "data": {
      "text/plain": [
       "Int64Index([1], dtype='int64', name='StichtagDatJahr')"
      ]
     },
     "execution_count": 62,
     "metadata": {},
     "output_type": "execute_result"
    }
   ],
   "source": [
    "data2betested.info()\n",
    "data2betested.index.day.unique()"
   ]
  },
  {
   "cell_type": "markdown",
   "metadata": {},
   "source": [
    "### Einfache Visualisierungen zur Plausi"
   ]
  },
  {
   "cell_type": "markdown",
   "metadata": {},
   "source": [
    "Exploriere die Daten mit Pivottable.JS"
   ]
  },
  {
   "cell_type": "code",
   "execution_count": 63,
   "metadata": {},
   "outputs": [
    {
     "data": {
      "text/html": [
       "\n",
       "        <iframe\n",
       "            width=\"100%\"\n",
       "            height=\"500\"\n",
       "            src=\"pivottablejs.html\"\n",
       "            frameborder=\"0\"\n",
       "            allowfullscreen\n",
       "            \n",
       "        ></iframe>\n",
       "        "
      ],
      "text/plain": [
       "<IPython.lib.display.IFrame at 0x26a60beb388>"
      ]
     },
     "execution_count": 63,
     "metadata": {},
     "output_type": "execute_result"
    }
   ],
   "source": [
    "from pivottablejs import pivot_ui\n",
    "\n",
    "pivot_ui(data2betested)"
   ]
  },
  {
   "cell_type": "markdown",
   "metadata": {},
   "source": [
    "### Zeitpunkte und Zeiträume abfragen\n",
    "\n",
    "A particular powerful feature of the Pandas DataFrame is its indexing capability that also works using time-based entities, such as dates and times. We have already created the index above, so let's put it to use."
   ]
  },
  {
   "cell_type": "code",
   "execution_count": 66,
   "metadata": {},
   "outputs": [
    {
     "data": {
      "text/html": [
       "<div>\n",
       "<style scoped>\n",
       "    .dataframe tbody tr th:only-of-type {\n",
       "        vertical-align: middle;\n",
       "    }\n",
       "\n",
       "    .dataframe tbody tr th {\n",
       "        vertical-align: top;\n",
       "    }\n",
       "\n",
       "    .dataframe thead th {\n",
       "        text-align: right;\n",
       "    }\n",
       "</style>\n",
       "<table border=\"1\" class=\"dataframe\">\n",
       "  <thead>\n",
       "    <tr style=\"text-align: right;\">\n",
       "      <th></th>\n",
       "      <th>QuarSort</th>\n",
       "      <th>QuarCd</th>\n",
       "      <th>QuarLang</th>\n",
       "      <th>AnzBestWir</th>\n",
       "      <th>AnzNat</th>\n",
       "      <th>StichtagDatJahr_str</th>\n",
       "    </tr>\n",
       "    <tr>\n",
       "      <th>StichtagDatJahr</th>\n",
       "      <th></th>\n",
       "      <th></th>\n",
       "      <th></th>\n",
       "      <th></th>\n",
       "      <th></th>\n",
       "      <th></th>\n",
       "    </tr>\n",
       "  </thead>\n",
       "  <tbody>\n",
       "    <tr>\n",
       "      <th>2009-01-01</th>\n",
       "      <td>33</td>\n",
       "      <td>33</td>\n",
       "      <td>Friesenberg</td>\n",
       "      <td>11003</td>\n",
       "      <td>107</td>\n",
       "      <td>2009-01-01</td>\n",
       "    </tr>\n",
       "    <tr>\n",
       "      <th>2009-01-01</th>\n",
       "      <td>61</td>\n",
       "      <td>61</td>\n",
       "      <td>Unterstrass</td>\n",
       "      <td>21080</td>\n",
       "      <td>122</td>\n",
       "      <td>2009-01-01</td>\n",
       "    </tr>\n",
       "  </tbody>\n",
       "</table>\n",
       "</div>"
      ],
      "text/plain": [
       "                 QuarSort  QuarCd     QuarLang  AnzBestWir  AnzNat StichtagDatJahr_str\n",
       "StichtagDatJahr                                                                       \n",
       "2009-01-01             33      33  Friesenberg       11003     107          2009-01-01\n",
       "2009-01-01             61      61  Unterstrass       21080     122          2009-01-01"
      ]
     },
     "execution_count": 66,
     "metadata": {},
     "output_type": "execute_result"
    }
   ],
   "source": [
    "data2betested.loc[\"2009\"].head(2)\n"
   ]
  },
  {
   "cell_type": "markdown",
   "metadata": {},
   "source": [
    "### Visualisierungen nach Zeitausschnitten"
   ]
  },
  {
   "cell_type": "code",
   "execution_count": 67,
   "metadata": {},
   "outputs": [
    {
     "data": {
      "text/plain": [
       "Index(['QuarSort', 'QuarCd', 'QuarLang', 'AnzBestWir', 'AnzNat', 'StichtagDatJahr_str'], dtype='object')"
      ]
     },
     "execution_count": 67,
     "metadata": {},
     "output_type": "execute_result"
    }
   ],
   "source": [
    "data2betested.columns"
   ]
  },
  {
   "cell_type": "markdown",
   "metadata": {
    "tags": []
   },
   "source": [
    "#### Entwicklung Wohnbevölkerung nach Altersgruppe"
   ]
  },
  {
   "cell_type": "code",
   "execution_count": 71,
   "metadata": {},
   "outputs": [
    {
     "data": {
      "text/html": [
       "\n",
       "<div id=\"altair-viz-740a1a5a3c8a4c309ec2520cad579c0c\"></div>\n",
       "<script type=\"text/javascript\">\n",
       "  (function(spec, embedOpt){\n",
       "    let outputDiv = document.currentScript.previousElementSibling;\n",
       "    if (outputDiv.id !== \"altair-viz-740a1a5a3c8a4c309ec2520cad579c0c\") {\n",
       "      outputDiv = document.getElementById(\"altair-viz-740a1a5a3c8a4c309ec2520cad579c0c\");\n",
       "    }\n",
       "    const paths = {\n",
       "      \"vega\": \"https://cdn.jsdelivr.net/npm//vega@5?noext\",\n",
       "      \"vega-lib\": \"https://cdn.jsdelivr.net/npm//vega-lib?noext\",\n",
       "      \"vega-lite\": \"https://cdn.jsdelivr.net/npm//vega-lite@4.8.1?noext\",\n",
       "      \"vega-embed\": \"https://cdn.jsdelivr.net/npm//vega-embed@6?noext\",\n",
       "    };\n",
       "\n",
       "    function loadScript(lib) {\n",
       "      return new Promise(function(resolve, reject) {\n",
       "        var s = document.createElement('script');\n",
       "        s.src = paths[lib];\n",
       "        s.async = true;\n",
       "        s.onload = () => resolve(paths[lib]);\n",
       "        s.onerror = () => reject(`Error loading script: ${paths[lib]}`);\n",
       "        document.getElementsByTagName(\"head\")[0].appendChild(s);\n",
       "      });\n",
       "    }\n",
       "\n",
       "    function showError(err) {\n",
       "      outputDiv.innerHTML = `<div class=\"error\" style=\"color:red;\">${err}</div>`;\n",
       "      throw err;\n",
       "    }\n",
       "\n",
       "    function displayChart(vegaEmbed) {\n",
       "      vegaEmbed(outputDiv, spec, embedOpt)\n",
       "        .catch(err => showError(`Javascript Error: ${err.message}<br>This usually means there's a typo in your chart specification. See the javascript console for the full traceback.`));\n",
       "    }\n",
       "\n",
       "    if(typeof define === \"function\" && define.amd) {\n",
       "      requirejs.config({paths});\n",
       "      require([\"vega-embed\"], displayChart, err => showError(`Error loading script: ${err.message}`));\n",
       "    } else if (typeof vegaEmbed === \"function\") {\n",
       "      displayChart(vegaEmbed);\n",
       "    } else {\n",
       "      loadScript(\"vega\")\n",
       "        .then(() => loadScript(\"vega-lite\"))\n",
       "        .then(() => loadScript(\"vega-embed\"))\n",
       "        .catch(showError)\n",
       "        .then(() => displayChart(vegaEmbed));\n",
       "    }\n",
       "  })({\"config\": {\"view\": {\"continuousWidth\": 400, \"continuousHeight\": 300}}, \"layer\": [{\"mark\": \"line\", \"encoding\": {\"color\": {\"type\": \"nominal\", \"field\": \"QuarLang\", \"legend\": {\"orient\": \"right\", \"title\": \"Altersgruppen\"}}, \"size\": {\"condition\": {\"value\": 0.5, \"selection\": {\"not\": \"selector009\"}}, \"value\": 4}, \"tooltip\": [{\"type\": \"temporal\", \"field\": \"StichtagDatJahr\"}, {\"type\": \"quantitative\", \"field\": \"AnzBestWir\"}, {\"type\": \"quantitative\", \"field\": \"AnzBestWir\"}, {\"type\": \"quantitative\", \"field\": \"AnzNat\"}], \"x\": {\"type\": \"temporal\", \"axis\": {\"title\": \"Jahr\"}, \"field\": \"StichtagDatJahr\"}, \"y\": {\"type\": \"quantitative\", \"axis\": {\"title\": \"Anz. Personen\"}, \"field\": \"AnzNat\"}}, \"selection\": {\"selector010\": {\"type\": \"interval\", \"bind\": \"scales\", \"encodings\": [\"x\", \"y\"]}}, \"title\": \"Wohnbev\\u00f6lkerung nach Anzahl Nationalit\\u00e4ten\"}, {\"mark\": \"circle\", \"encoding\": {\"color\": {\"type\": \"nominal\", \"field\": \"QuarLang\", \"legend\": {\"orient\": \"right\", \"title\": \"Altersgruppen\"}}, \"opacity\": {\"value\": 0.75}, \"tooltip\": [{\"type\": \"temporal\", \"field\": \"StichtagDatJahr\"}, {\"type\": \"quantitative\", \"field\": \"AnzBestWir\"}, {\"type\": \"quantitative\", \"field\": \"AnzBestWir\"}, {\"type\": \"quantitative\", \"field\": \"AnzNat\"}], \"x\": {\"type\": \"temporal\", \"axis\": {\"title\": \"Jahr\"}, \"field\": \"StichtagDatJahr\"}, \"y\": {\"type\": \"quantitative\", \"axis\": {\"title\": \"Anz. Personen\"}, \"field\": \"AnzNat\"}}, \"height\": 350, \"selection\": {\"selector009\": {\"type\": \"single\", \"on\": \"mouseover\", \"fields\": [\"QuarLang\"], \"nearest\": true}}, \"title\": \"Wohnbev\\u00f6lkerung nach Anzahl Nationalit\\u00e4ten\", \"width\": 750}], \"data\": {\"name\": \"data-cc486a7e0006a9f1b664e4ef1cae4a8f\"}, \"$schema\": \"https://vega.github.io/schema/vega-lite/v4.8.1.json\", \"datasets\": {\"data-cc486a7e0006a9f1b664e4ef1cae4a8f\": [{\"StichtagDatJahr\": \"2021-01-01T00:00:00\", \"QuarSort\": 123, \"QuarCd\": 123, \"QuarLang\": \"Hirzenbach\", \"AnzBestWir\": 12891, \"AnzNat\": 119, \"StichtagDatJahr_str\": \"2021-01-01\"}, {\"StichtagDatJahr\": \"2021-01-01T00:00:00\", \"QuarSort\": 31, \"QuarCd\": 31, \"QuarLang\": \"Alt-Wiedikon\", \"AnzBestWir\": 17631, \"AnzNat\": 111, \"StichtagDatJahr_str\": \"2021-01-01\"}, {\"StichtagDatJahr\": \"2021-01-01T00:00:00\", \"QuarSort\": 52, \"QuarCd\": 52, \"QuarLang\": \"Escher Wyss\", \"AnzBestWir\": 6221, \"AnzNat\": 101, \"StichtagDatJahr_str\": \"2021-01-01\"}, {\"StichtagDatJahr\": \"2021-01-01T00:00:00\", \"QuarSort\": 51, \"QuarCd\": 51, \"QuarLang\": \"Gewerbeschule\", \"AnzBestWir\": 9583, \"AnzNat\": 113, \"StichtagDatJahr_str\": \"2021-01-01\"}, {\"StichtagDatJahr\": \"2021-01-01T00:00:00\", \"QuarSort\": 44, \"QuarCd\": 44, \"QuarLang\": \"Hard\", \"AnzBestWir\": 12634, \"AnzNat\": 112, \"StichtagDatJahr_str\": \"2021-01-01\"}, {\"StichtagDatJahr\": \"2021-01-01T00:00:00\", \"QuarSort\": 42, \"QuarCd\": 42, \"QuarLang\": \"Langstrasse\", \"AnzBestWir\": 11815, \"AnzNat\": 114, \"StichtagDatJahr_str\": \"2021-01-01\"}, {\"StichtagDatJahr\": \"2021-01-01T00:00:00\", \"QuarSort\": 41, \"QuarCd\": 41, \"QuarLang\": \"Werd\", \"AnzBestWir\": 4574, \"AnzNat\": 84, \"StichtagDatJahr_str\": \"2021-01-01\"}, {\"StichtagDatJahr\": \"2021-01-01T00:00:00\", \"QuarSort\": 33, \"QuarCd\": 33, \"QuarLang\": \"Friesenberg\", \"AnzBestWir\": 10957, \"AnzNat\": 105, \"StichtagDatJahr_str\": \"2021-01-01\"}, {\"StichtagDatJahr\": \"2021-01-01T00:00:00\", \"QuarSort\": 24, \"QuarCd\": 24, \"QuarLang\": \"Enge\", \"AnzBestWir\": 9750, \"AnzNat\": 93, \"StichtagDatJahr_str\": \"2021-01-01\"}, {\"StichtagDatJahr\": \"2021-01-01T00:00:00\", \"QuarSort\": 63, \"QuarCd\": 63, \"QuarLang\": \"Oberstrass\", \"AnzBestWir\": 10866, \"AnzNat\": 93, \"StichtagDatJahr_str\": \"2021-01-01\"}, {\"StichtagDatJahr\": \"2021-01-01T00:00:00\", \"QuarSort\": 23, \"QuarCd\": 23, \"QuarLang\": \"Leimbach\", \"AnzBestWir\": 6338, \"AnzNat\": 103, \"StichtagDatJahr_str\": \"2021-01-01\"}, {\"StichtagDatJahr\": \"2021-01-01T00:00:00\", \"QuarSort\": 21, \"QuarCd\": 21, \"QuarLang\": \"Wollishofen\", \"AnzBestWir\": 19937, \"AnzNat\": 123, \"StichtagDatJahr_str\": \"2021-01-01\"}, {\"StichtagDatJahr\": \"2021-01-01T00:00:00\", \"QuarSort\": 14, \"QuarCd\": 14, \"QuarLang\": \"City\", \"AnzBestWir\": 817, \"AnzNat\": 50, \"StichtagDatJahr_str\": \"2021-01-01\"}, {\"StichtagDatJahr\": \"2021-01-01T00:00:00\", \"QuarSort\": 13, \"QuarCd\": 13, \"QuarLang\": \"Lindenhof\", \"AnzBestWir\": 1024, \"AnzNat\": 50, \"StichtagDatJahr_str\": \"2021-01-01\"}, {\"StichtagDatJahr\": \"2021-01-01T00:00:00\", \"QuarSort\": 12, \"QuarCd\": 12, \"QuarLang\": \"Hochschulen\", \"AnzBestWir\": 701, \"AnzNat\": 44, \"StichtagDatJahr_str\": \"2021-01-01\"}, {\"StichtagDatJahr\": \"2021-01-01T00:00:00\", \"QuarSort\": 11, \"QuarCd\": 11, \"QuarLang\": \"Rathaus\", \"AnzBestWir\": 3275, \"AnzNat\": 82, \"StichtagDatJahr_str\": \"2021-01-01\"}, {\"StichtagDatJahr\": \"2021-01-01T00:00:00\", \"QuarSort\": 61, \"QuarCd\": 61, \"QuarLang\": \"Unterstrass\", \"AnzBestWir\": 24489, \"AnzNat\": 122, \"StichtagDatJahr_str\": \"2021-01-01\"}, {\"StichtagDatJahr\": \"2021-01-01T00:00:00\", \"QuarSort\": 34, \"QuarCd\": 34, \"QuarLang\": \"Sihlfeld\", \"AnzBestWir\": 21516, \"AnzNat\": 119, \"StichtagDatJahr_str\": \"2021-01-01\"}, {\"StichtagDatJahr\": \"2021-01-01T00:00:00\", \"QuarSort\": 71, \"QuarCd\": 71, \"QuarLang\": \"Fluntern\", \"AnzBestWir\": 8777, \"AnzNat\": 98, \"StichtagDatJahr_str\": \"2021-01-01\"}, {\"StichtagDatJahr\": \"2021-01-01T00:00:00\", \"QuarSort\": 92, \"QuarCd\": 92, \"QuarLang\": \"Altstetten\", \"AnzBestWir\": 34665, \"AnzNat\": 131, \"StichtagDatJahr_str\": \"2021-01-01\"}, {\"StichtagDatJahr\": \"2021-01-01T00:00:00\", \"QuarSort\": 72, \"QuarCd\": 72, \"QuarLang\": \"Hottingen\", \"AnzBestWir\": 11293, \"AnzNat\": 99, \"StichtagDatJahr_str\": \"2021-01-01\"}, {\"StichtagDatJahr\": \"2021-01-01T00:00:00\", \"QuarSort\": 121, \"QuarCd\": 121, \"QuarLang\": \"Saatlen\", \"AnzBestWir\": 8788, \"AnzNat\": 104, \"StichtagDatJahr_str\": \"2021-01-01\"}, {\"StichtagDatJahr\": \"2021-01-01T00:00:00\", \"QuarSort\": 119, \"QuarCd\": 119, \"QuarLang\": \"Seebach\", \"AnzBestWir\": 26541, \"AnzNat\": 125, \"StichtagDatJahr_str\": \"2021-01-01\"}, {\"StichtagDatJahr\": \"2021-01-01T00:00:00\", \"QuarSort\": 115, \"QuarCd\": 115, \"QuarLang\": \"Oerlikon\", \"AnzBestWir\": 23880, \"AnzNat\": 134, \"StichtagDatJahr_str\": \"2021-01-01\"}, {\"StichtagDatJahr\": \"2021-01-01T00:00:00\", \"QuarSort\": 111, \"QuarCd\": 111, \"QuarLang\": \"Affoltern\", \"AnzBestWir\": 26554, \"AnzNat\": 121, \"StichtagDatJahr_str\": \"2021-01-01\"}, {\"StichtagDatJahr\": \"2021-01-01T00:00:00\", \"QuarSort\": 102, \"QuarCd\": 102, \"QuarLang\": \"Wipkingen\", \"AnzBestWir\": 16507, \"AnzNat\": 118, \"StichtagDatJahr_str\": \"2021-01-01\"}, {\"StichtagDatJahr\": \"2021-01-01T00:00:00\", \"QuarSort\": 101, \"QuarCd\": 101, \"QuarLang\": \"H\\u00f6ngg\", \"AnzBestWir\": 24510, \"AnzNat\": 120, \"StichtagDatJahr_str\": \"2021-01-01\"}, {\"StichtagDatJahr\": \"2021-01-01T00:00:00\", \"QuarSort\": 122, \"QuarCd\": 122, \"QuarLang\": \"Schwamendingen-Mitte\", \"AnzBestWir\": 10975, \"AnzNat\": 119, \"StichtagDatJahr_str\": \"2021-01-01\"}, {\"StichtagDatJahr\": \"2021-01-01T00:00:00\", \"QuarSort\": 91, \"QuarCd\": 91, \"QuarLang\": \"Albisrieden\", \"AnzBestWir\": 22412, \"AnzNat\": 115, \"StichtagDatJahr_str\": \"2021-01-01\"}, {\"StichtagDatJahr\": \"2021-01-01T00:00:00\", \"QuarSort\": 83, \"QuarCd\": 83, \"QuarLang\": \"Weinegg\", \"AnzBestWir\": 5548, \"AnzNat\": 97, \"StichtagDatJahr_str\": \"2021-01-01\"}, {\"StichtagDatJahr\": \"2021-01-01T00:00:00\", \"QuarSort\": 82, \"QuarCd\": 82, \"QuarLang\": \"M\\u00fchlebach\", \"AnzBestWir\": 6408, \"AnzNat\": 89, \"StichtagDatJahr_str\": \"2021-01-01\"}, {\"StichtagDatJahr\": \"2021-01-01T00:00:00\", \"QuarSort\": 81, \"QuarCd\": 81, \"QuarLang\": \"Seefeld\", \"AnzBestWir\": 5862, \"AnzNat\": 85, \"StichtagDatJahr_str\": \"2021-01-01\"}, {\"StichtagDatJahr\": \"2021-01-01T00:00:00\", \"QuarSort\": 74, \"QuarCd\": 74, \"QuarLang\": \"Witikon\", \"AnzBestWir\": 11255, \"AnzNat\": 99, \"StichtagDatJahr_str\": \"2021-01-01\"}, {\"StichtagDatJahr\": \"2021-01-01T00:00:00\", \"QuarSort\": 73, \"QuarCd\": 73, \"QuarLang\": \"Hirslanden\", \"AnzBestWir\": 7338, \"AnzNat\": 91, \"StichtagDatJahr_str\": \"2021-01-01\"}, {\"StichtagDatJahr\": \"2020-01-01T00:00:00\", \"QuarSort\": 31, \"QuarCd\": 31, \"QuarLang\": \"Alt-Wiedikon\", \"AnzBestWir\": 17764, \"AnzNat\": 114, \"StichtagDatJahr_str\": \"2020-01-01\"}, {\"StichtagDatJahr\": \"2020-01-01T00:00:00\", \"QuarSort\": 61, \"QuarCd\": 61, \"QuarLang\": \"Unterstrass\", \"AnzBestWir\": 24493, \"AnzNat\": 125, \"StichtagDatJahr_str\": \"2020-01-01\"}, {\"StichtagDatJahr\": \"2020-01-01T00:00:00\", \"QuarSort\": 52, \"QuarCd\": 52, \"QuarLang\": \"Escher Wyss\", \"AnzBestWir\": 6198, \"AnzNat\": 100, \"StichtagDatJahr_str\": \"2020-01-01\"}, {\"StichtagDatJahr\": \"2020-01-01T00:00:00\", \"QuarSort\": 51, \"QuarCd\": 51, \"QuarLang\": \"Gewerbeschule\", \"AnzBestWir\": 9424, \"AnzNat\": 110, \"StichtagDatJahr_str\": \"2020-01-01\"}, {\"StichtagDatJahr\": \"2020-01-01T00:00:00\", \"QuarSort\": 44, \"QuarCd\": 44, \"QuarLang\": \"Hard\", \"AnzBestWir\": 12554, \"AnzNat\": 108, \"StichtagDatJahr_str\": \"2020-01-01\"}, {\"StichtagDatJahr\": \"2020-01-01T00:00:00\", \"QuarSort\": 42, \"QuarCd\": 42, \"QuarLang\": \"Langstrasse\", \"AnzBestWir\": 11910, \"AnzNat\": 115, \"StichtagDatJahr_str\": \"2020-01-01\"}, {\"StichtagDatJahr\": \"2020-01-01T00:00:00\", \"QuarSort\": 41, \"QuarCd\": 41, \"QuarLang\": \"Werd\", \"AnzBestWir\": 4570, \"AnzNat\": 83, \"StichtagDatJahr_str\": \"2020-01-01\"}, {\"StichtagDatJahr\": \"2020-01-01T00:00:00\", \"QuarSort\": 33, \"QuarCd\": 33, \"QuarLang\": \"Friesenberg\", \"AnzBestWir\": 11071, \"AnzNat\": 106, \"StichtagDatJahr_str\": \"2020-01-01\"}, {\"StichtagDatJahr\": \"2020-01-01T00:00:00\", \"QuarSort\": 21, \"QuarCd\": 21, \"QuarLang\": \"Wollishofen\", \"AnzBestWir\": 19757, \"AnzNat\": 120, \"StichtagDatJahr_str\": \"2020-01-01\"}, {\"StichtagDatJahr\": \"2020-01-01T00:00:00\", \"QuarSort\": 24, \"QuarCd\": 24, \"QuarLang\": \"Enge\", \"AnzBestWir\": 9655, \"AnzNat\": 97, \"StichtagDatJahr_str\": \"2020-01-01\"}, {\"StichtagDatJahr\": \"2020-01-01T00:00:00\", \"QuarSort\": 23, \"QuarCd\": 23, \"QuarLang\": \"Leimbach\", \"AnzBestWir\": 6140, \"AnzNat\": 101, \"StichtagDatJahr_str\": \"2020-01-01\"}, {\"StichtagDatJahr\": \"2020-01-01T00:00:00\", \"QuarSort\": 71, \"QuarCd\": 71, \"QuarLang\": \"Fluntern\", \"AnzBestWir\": 8685, \"AnzNat\": 89, \"StichtagDatJahr_str\": \"2020-01-01\"}, {\"StichtagDatJahr\": \"2020-01-01T00:00:00\", \"QuarSort\": 14, \"QuarCd\": 14, \"QuarLang\": \"City\", \"AnzBestWir\": 829, \"AnzNat\": 51, \"StichtagDatJahr_str\": \"2020-01-01\"}, {\"StichtagDatJahr\": \"2020-01-01T00:00:00\", \"QuarSort\": 13, \"QuarCd\": 13, \"QuarLang\": \"Lindenhof\", \"AnzBestWir\": 1010, \"AnzNat\": 52, \"StichtagDatJahr_str\": \"2020-01-01\"}, {\"StichtagDatJahr\": \"2020-01-01T00:00:00\", \"QuarSort\": 12, \"QuarCd\": 12, \"QuarLang\": \"Hochschulen\", \"AnzBestWir\": 675, \"AnzNat\": 42, \"StichtagDatJahr_str\": \"2020-01-01\"}, {\"StichtagDatJahr\": \"2020-01-01T00:00:00\", \"QuarSort\": 11, \"QuarCd\": 11, \"QuarLang\": \"Rathaus\", \"AnzBestWir\": 3317, \"AnzNat\": 79, \"StichtagDatJahr_str\": \"2020-01-01\"}, {\"StichtagDatJahr\": \"2020-01-01T00:00:00\", \"QuarSort\": 63, \"QuarCd\": 63, \"QuarLang\": \"Oberstrass\", \"AnzBestWir\": 10824, \"AnzNat\": 95, \"StichtagDatJahr_str\": \"2020-01-01\"}, {\"StichtagDatJahr\": \"2020-01-01T00:00:00\", \"QuarSort\": 34, \"QuarCd\": 34, \"QuarLang\": \"Sihlfeld\", \"AnzBestWir\": 21921, \"AnzNat\": 116, \"StichtagDatJahr_str\": \"2020-01-01\"}, {\"StichtagDatJahr\": \"2020-01-01T00:00:00\", \"QuarSort\": 72, \"QuarCd\": 72, \"QuarLang\": \"Hottingen\", \"AnzBestWir\": 11304, \"AnzNat\": 98, \"StichtagDatJahr_str\": \"2020-01-01\"}, {\"StichtagDatJahr\": \"2020-01-01T00:00:00\", \"QuarSort\": 101, \"QuarCd\": 101, \"QuarLang\": \"H\\u00f6ngg\", \"AnzBestWir\": 24439, \"AnzNat\": 122, \"StichtagDatJahr_str\": \"2020-01-01\"}, {\"StichtagDatJahr\": \"2020-01-01T00:00:00\", \"QuarSort\": 73, \"QuarCd\": 73, \"QuarLang\": \"Hirslanden\", \"AnzBestWir\": 7396, \"AnzNat\": 92, \"StichtagDatJahr_str\": \"2020-01-01\"}, {\"StichtagDatJahr\": \"2020-01-01T00:00:00\", \"QuarSort\": 122, \"QuarCd\": 122, \"QuarLang\": \"Schwamendingen-Mitte\", \"AnzBestWir\": 11083, \"AnzNat\": 118, \"StichtagDatJahr_str\": \"2020-01-01\"}, {\"StichtagDatJahr\": \"2020-01-01T00:00:00\", \"QuarSort\": 121, \"QuarCd\": 121, \"QuarLang\": \"Saatlen\", \"AnzBestWir\": 8799, \"AnzNat\": 101, \"StichtagDatJahr_str\": \"2020-01-01\"}, {\"StichtagDatJahr\": \"2020-01-01T00:00:00\", \"QuarSort\": 119, \"QuarCd\": 119, \"QuarLang\": \"Seebach\", \"AnzBestWir\": 26056, \"AnzNat\": 124, \"StichtagDatJahr_str\": \"2020-01-01\"}, {\"StichtagDatJahr\": \"2020-01-01T00:00:00\", \"QuarSort\": 115, \"QuarCd\": 115, \"QuarLang\": \"Oerlikon\", \"AnzBestWir\": 23548, \"AnzNat\": 126, \"StichtagDatJahr_str\": \"2020-01-01\"}, {\"StichtagDatJahr\": \"2020-01-01T00:00:00\", \"QuarSort\": 111, \"QuarCd\": 111, \"QuarLang\": \"Affoltern\", \"AnzBestWir\": 26584, \"AnzNat\": 122, \"StichtagDatJahr_str\": \"2020-01-01\"}, {\"StichtagDatJahr\": \"2020-01-01T00:00:00\", \"QuarSort\": 102, \"QuarCd\": 102, \"QuarLang\": \"Wipkingen\", \"AnzBestWir\": 16605, \"AnzNat\": 119, \"StichtagDatJahr_str\": \"2020-01-01\"}, {\"StichtagDatJahr\": \"2020-01-01T00:00:00\", \"QuarSort\": 123, \"QuarCd\": 123, \"QuarLang\": \"Hirzenbach\", \"AnzBestWir\": 12963, \"AnzNat\": 122, \"StichtagDatJahr_str\": \"2020-01-01\"}, {\"StichtagDatJahr\": \"2020-01-01T00:00:00\", \"QuarSort\": 92, \"QuarCd\": 92, \"QuarLang\": \"Altstetten\", \"AnzBestWir\": 34098, \"AnzNat\": 129, \"StichtagDatJahr_str\": \"2020-01-01\"}, {\"StichtagDatJahr\": \"2020-01-01T00:00:00\", \"QuarSort\": 91, \"QuarCd\": 91, \"QuarLang\": \"Albisrieden\", \"AnzBestWir\": 22364, \"AnzNat\": 118, \"StichtagDatJahr_str\": \"2020-01-01\"}, {\"StichtagDatJahr\": \"2020-01-01T00:00:00\", \"QuarSort\": 83, \"QuarCd\": 83, \"QuarLang\": \"Weinegg\", \"AnzBestWir\": 5562, \"AnzNat\": 94, \"StichtagDatJahr_str\": \"2020-01-01\"}, {\"StichtagDatJahr\": \"2020-01-01T00:00:00\", \"QuarSort\": 82, \"QuarCd\": 82, \"QuarLang\": \"M\\u00fchlebach\", \"AnzBestWir\": 6414, \"AnzNat\": 87, \"StichtagDatJahr_str\": \"2020-01-01\"}, {\"StichtagDatJahr\": \"2020-01-01T00:00:00\", \"QuarSort\": 81, \"QuarCd\": 81, \"QuarLang\": \"Seefeld\", \"AnzBestWir\": 5480, \"AnzNat\": 82, \"StichtagDatJahr_str\": \"2020-01-01\"}, {\"StichtagDatJahr\": \"2020-01-01T00:00:00\", \"QuarSort\": 74, \"QuarCd\": 74, \"QuarLang\": \"Witikon\", \"AnzBestWir\": 11244, \"AnzNat\": 102, \"StichtagDatJahr_str\": \"2020-01-01\"}, {\"StichtagDatJahr\": \"2019-01-01T00:00:00\", \"QuarSort\": 33, \"QuarCd\": 33, \"QuarLang\": \"Friesenberg\", \"AnzBestWir\": 11107, \"AnzNat\": 101, \"StichtagDatJahr_str\": \"2019-01-01\"}, {\"StichtagDatJahr\": \"2019-01-01T00:00:00\", \"QuarSort\": 61, \"QuarCd\": 61, \"QuarLang\": \"Unterstrass\", \"AnzBestWir\": 23971, \"AnzNat\": 123, \"StichtagDatJahr_str\": \"2019-01-01\"}, {\"StichtagDatJahr\": \"2019-01-01T00:00:00\", \"QuarSort\": 52, \"QuarCd\": 52, \"QuarLang\": \"Escher Wyss\", \"AnzBestWir\": 6188, \"AnzNat\": 100, \"StichtagDatJahr_str\": \"2019-01-01\"}, {\"StichtagDatJahr\": \"2019-01-01T00:00:00\", \"QuarSort\": 51, \"QuarCd\": 51, \"QuarLang\": \"Gewerbeschule\", \"AnzBestWir\": 9562, \"AnzNat\": 108, \"StichtagDatJahr_str\": \"2019-01-01\"}, {\"StichtagDatJahr\": \"2019-01-01T00:00:00\", \"QuarSort\": 44, \"QuarCd\": 44, \"QuarLang\": \"Hard\", \"AnzBestWir\": 13060, \"AnzNat\": 113, \"StichtagDatJahr_str\": \"2019-01-01\"}, {\"StichtagDatJahr\": \"2019-01-01T00:00:00\", \"QuarSort\": 42, \"QuarCd\": 42, \"QuarLang\": \"Langstrasse\", \"AnzBestWir\": 11853, \"AnzNat\": 113, \"StichtagDatJahr_str\": \"2019-01-01\"}, {\"StichtagDatJahr\": \"2019-01-01T00:00:00\", \"QuarSort\": 41, \"QuarCd\": 41, \"QuarLang\": \"Werd\", \"AnzBestWir\": 4455, \"AnzNat\": 90, \"StichtagDatJahr_str\": \"2019-01-01\"}, {\"StichtagDatJahr\": \"2019-01-01T00:00:00\", \"QuarSort\": 34, \"QuarCd\": 34, \"QuarLang\": \"Sihlfeld\", \"AnzBestWir\": 22141, \"AnzNat\": 120, \"StichtagDatJahr_str\": \"2019-01-01\"}, {\"StichtagDatJahr\": \"2019-01-01T00:00:00\", \"QuarSort\": 23, \"QuarCd\": 23, \"QuarLang\": \"Leimbach\", \"AnzBestWir\": 6152, \"AnzNat\": 100, \"StichtagDatJahr_str\": \"2019-01-01\"}, {\"StichtagDatJahr\": \"2019-01-01T00:00:00\", \"QuarSort\": 31, \"QuarCd\": 31, \"QuarLang\": \"Alt-Wiedikon\", \"AnzBestWir\": 17874, \"AnzNat\": 113, \"StichtagDatJahr_str\": \"2019-01-01\"}, {\"StichtagDatJahr\": \"2019-01-01T00:00:00\", \"QuarSort\": 24, \"QuarCd\": 24, \"QuarLang\": \"Enge\", \"AnzBestWir\": 9658, \"AnzNat\": 96, \"StichtagDatJahr_str\": \"2019-01-01\"}, {\"StichtagDatJahr\": \"2019-01-01T00:00:00\", \"QuarSort\": 11, \"QuarCd\": 11, \"QuarLang\": \"Rathaus\", \"AnzBestWir\": 3307, \"AnzNat\": 77, \"StichtagDatJahr_str\": \"2019-01-01\"}, {\"StichtagDatJahr\": \"2019-01-01T00:00:00\", \"QuarSort\": 21, \"QuarCd\": 21, \"QuarLang\": \"Wollishofen\", \"AnzBestWir\": 19225, \"AnzNat\": 113, \"StichtagDatJahr_str\": \"2019-01-01\"}, {\"StichtagDatJahr\": \"2019-01-01T00:00:00\", \"QuarSort\": 14, \"QuarCd\": 14, \"QuarLang\": \"City\", \"AnzBestWir\": 797, \"AnzNat\": 52, \"StichtagDatJahr_str\": \"2019-01-01\"}, {\"StichtagDatJahr\": \"2019-01-01T00:00:00\", \"QuarSort\": 13, \"QuarCd\": 13, \"QuarLang\": \"Lindenhof\", \"AnzBestWir\": 1009, \"AnzNat\": 54, \"StichtagDatJahr_str\": \"2019-01-01\"}, {\"StichtagDatJahr\": \"2019-01-01T00:00:00\", \"QuarSort\": 12, \"QuarCd\": 12, \"QuarLang\": \"Hochschulen\", \"AnzBestWir\": 678, \"AnzNat\": 46, \"StichtagDatJahr_str\": \"2019-01-01\"}, {\"StichtagDatJahr\": \"2019-01-01T00:00:00\", \"QuarSort\": 63, \"QuarCd\": 63, \"QuarLang\": \"Oberstrass\", \"AnzBestWir\": 10823, \"AnzNat\": 99, \"StichtagDatJahr_str\": \"2019-01-01\"}, {\"StichtagDatJahr\": \"2019-01-01T00:00:00\", \"QuarSort\": 71, \"QuarCd\": 71, \"QuarLang\": \"Fluntern\", \"AnzBestWir\": 8639, \"AnzNat\": 92, \"StichtagDatJahr_str\": \"2019-01-01\"}, {\"StichtagDatJahr\": \"2019-01-01T00:00:00\", \"QuarSort\": 72, \"QuarCd\": 72, \"QuarLang\": \"Hottingen\", \"AnzBestWir\": 11388, \"AnzNat\": 103, \"StichtagDatJahr_str\": \"2019-01-01\"}, {\"StichtagDatJahr\": \"2019-01-01T00:00:00\", \"QuarSort\": 102, \"QuarCd\": 102, \"QuarLang\": \"Wipkingen\", \"AnzBestWir\": 16474, \"AnzNat\": 116, \"StichtagDatJahr_str\": \"2019-01-01\"}, {\"StichtagDatJahr\": \"2019-01-01T00:00:00\", \"QuarSort\": 73, \"QuarCd\": 73, \"QuarLang\": \"Hirslanden\", \"AnzBestWir\": 7503, \"AnzNat\": 95, \"StichtagDatJahr_str\": \"2019-01-01\"}, {\"StichtagDatJahr\": \"2019-01-01T00:00:00\", \"QuarSort\": 123, \"QuarCd\": 123, \"QuarLang\": \"Hirzenbach\", \"AnzBestWir\": 13129, \"AnzNat\": 120, \"StichtagDatJahr_str\": \"2019-01-01\"}, {\"StichtagDatJahr\": \"2019-01-01T00:00:00\", \"QuarSort\": 122, \"QuarCd\": 122, \"QuarLang\": \"Schwamendingen-Mitte\", \"AnzBestWir\": 11261, \"AnzNat\": 114, \"StichtagDatJahr_str\": \"2019-01-01\"}, {\"StichtagDatJahr\": \"2019-01-01T00:00:00\", \"QuarSort\": 121, \"QuarCd\": 121, \"QuarLang\": \"Saatlen\", \"AnzBestWir\": 8841, \"AnzNat\": 102, \"StichtagDatJahr_str\": \"2019-01-01\"}, {\"StichtagDatJahr\": \"2019-01-01T00:00:00\", \"QuarSort\": 115, \"QuarCd\": 115, \"QuarLang\": \"Oerlikon\", \"AnzBestWir\": 23288, \"AnzNat\": 129, \"StichtagDatJahr_str\": \"2019-01-01\"}, {\"StichtagDatJahr\": \"2019-01-01T00:00:00\", \"QuarSort\": 111, \"QuarCd\": 111, \"QuarLang\": \"Affoltern\", \"AnzBestWir\": 26710, \"AnzNat\": 123, \"StichtagDatJahr_str\": \"2019-01-01\"}, {\"StichtagDatJahr\": \"2019-01-01T00:00:00\", \"QuarSort\": 119, \"QuarCd\": 119, \"QuarLang\": \"Seebach\", \"AnzBestWir\": 25806, \"AnzNat\": 124, \"StichtagDatJahr_str\": \"2019-01-01\"}, {\"StichtagDatJahr\": \"2019-01-01T00:00:00\", \"QuarSort\": 101, \"QuarCd\": 101, \"QuarLang\": \"H\\u00f6ngg\", \"AnzBestWir\": 24358, \"AnzNat\": 121, \"StichtagDatJahr_str\": \"2019-01-01\"}, {\"StichtagDatJahr\": \"2019-01-01T00:00:00\", \"QuarSort\": 92, \"QuarCd\": 92, \"QuarLang\": \"Altstetten\", \"AnzBestWir\": 34285, \"AnzNat\": 128, \"StichtagDatJahr_str\": \"2019-01-01\"}, {\"StichtagDatJahr\": \"2019-01-01T00:00:00\", \"QuarSort\": 91, \"QuarCd\": 91, \"QuarLang\": \"Albisrieden\", \"AnzBestWir\": 22352, \"AnzNat\": 118, \"StichtagDatJahr_str\": \"2019-01-01\"}, {\"StichtagDatJahr\": \"2019-01-01T00:00:00\", \"QuarSort\": 83, \"QuarCd\": 83, \"QuarLang\": \"Weinegg\", \"AnzBestWir\": 5414, \"AnzNat\": 94, \"StichtagDatJahr_str\": \"2019-01-01\"}, {\"StichtagDatJahr\": \"2019-01-01T00:00:00\", \"QuarSort\": 82, \"QuarCd\": 82, \"QuarLang\": \"M\\u00fchlebach\", \"AnzBestWir\": 6327, \"AnzNat\": 89, \"StichtagDatJahr_str\": \"2019-01-01\"}, {\"StichtagDatJahr\": \"2019-01-01T00:00:00\", \"QuarSort\": 81, \"QuarCd\": 81, \"QuarLang\": \"Seefeld\", \"AnzBestWir\": 5319, \"AnzNat\": 84, \"StichtagDatJahr_str\": \"2019-01-01\"}, {\"StichtagDatJahr\": \"2019-01-01T00:00:00\", \"QuarSort\": 74, \"QuarCd\": 74, \"QuarLang\": \"Witikon\", \"AnzBestWir\": 11054, \"AnzNat\": 100, \"StichtagDatJahr_str\": \"2019-01-01\"}, {\"StichtagDatJahr\": \"2018-01-01T00:00:00\", \"QuarSort\": 31, \"QuarCd\": 31, \"QuarLang\": \"Alt-Wiedikon\", \"AnzBestWir\": 17956, \"AnzNat\": 114, \"StichtagDatJahr_str\": \"2018-01-01\"}, {\"StichtagDatJahr\": \"2018-01-01T00:00:00\", \"QuarSort\": 61, \"QuarCd\": 61, \"QuarLang\": \"Unterstrass\", \"AnzBestWir\": 23394, \"AnzNat\": 125, \"StichtagDatJahr_str\": \"2018-01-01\"}, {\"StichtagDatJahr\": \"2018-01-01T00:00:00\", \"QuarSort\": 52, \"QuarCd\": 52, \"QuarLang\": \"Escher Wyss\", \"AnzBestWir\": 6066, \"AnzNat\": 96, \"StichtagDatJahr_str\": \"2018-01-01\"}, {\"StichtagDatJahr\": \"2018-01-01T00:00:00\", \"QuarSort\": 51, \"QuarCd\": 51, \"QuarLang\": \"Gewerbeschule\", \"AnzBestWir\": 9513, \"AnzNat\": 107, \"StichtagDatJahr_str\": \"2018-01-01\"}, {\"StichtagDatJahr\": \"2018-01-01T00:00:00\", \"QuarSort\": 44, \"QuarCd\": 44, \"QuarLang\": \"Hard\", \"AnzBestWir\": 13163, \"AnzNat\": 116, \"StichtagDatJahr_str\": \"2018-01-01\"}, {\"StichtagDatJahr\": \"2018-01-01T00:00:00\", \"QuarSort\": 42, \"QuarCd\": 42, \"QuarLang\": \"Langstrasse\", \"AnzBestWir\": 11111, \"AnzNat\": 114, \"StichtagDatJahr_str\": \"2018-01-01\"}, {\"StichtagDatJahr\": \"2018-01-01T00:00:00\", \"QuarSort\": 41, \"QuarCd\": 41, \"QuarLang\": \"Werd\", \"AnzBestWir\": 4455, \"AnzNat\": 88, \"StichtagDatJahr_str\": \"2018-01-01\"}, {\"StichtagDatJahr\": \"2018-01-01T00:00:00\", \"QuarSort\": 33, \"QuarCd\": 33, \"QuarLang\": \"Friesenberg\", \"AnzBestWir\": 10933, \"AnzNat\": 97, \"StichtagDatJahr_str\": \"2018-01-01\"}, {\"StichtagDatJahr\": \"2018-01-01T00:00:00\", \"QuarSort\": 71, \"QuarCd\": 71, \"QuarLang\": \"Fluntern\", \"AnzBestWir\": 8485, \"AnzNat\": 93, \"StichtagDatJahr_str\": \"2018-01-01\"}, {\"StichtagDatJahr\": \"2018-01-01T00:00:00\", \"QuarSort\": 24, \"QuarCd\": 24, \"QuarLang\": \"Enge\", \"AnzBestWir\": 9634, \"AnzNat\": 97, \"StichtagDatJahr_str\": \"2018-01-01\"}, {\"StichtagDatJahr\": \"2018-01-01T00:00:00\", \"QuarSort\": 23, \"QuarCd\": 23, \"QuarLang\": \"Leimbach\", \"AnzBestWir\": 6320, \"AnzNat\": 101, \"StichtagDatJahr_str\": \"2018-01-01\"}, {\"StichtagDatJahr\": \"2018-01-01T00:00:00\", \"QuarSort\": 21, \"QuarCd\": 21, \"QuarLang\": \"Wollishofen\", \"AnzBestWir\": 18923, \"AnzNat\": 113, \"StichtagDatJahr_str\": \"2018-01-01\"}, {\"StichtagDatJahr\": \"2018-01-01T00:00:00\", \"QuarSort\": 14, \"QuarCd\": 14, \"QuarLang\": \"City\", \"AnzBestWir\": 829, \"AnzNat\": 53, \"StichtagDatJahr_str\": \"2018-01-01\"}, {\"StichtagDatJahr\": \"2018-01-01T00:00:00\", \"QuarSort\": 13, \"QuarCd\": 13, \"QuarLang\": \"Lindenhof\", \"AnzBestWir\": 990, \"AnzNat\": 47, \"StichtagDatJahr_str\": \"2018-01-01\"}, {\"StichtagDatJahr\": \"2018-01-01T00:00:00\", \"QuarSort\": 12, \"QuarCd\": 12, \"QuarLang\": \"Hochschulen\", \"AnzBestWir\": 664, \"AnzNat\": 44, \"StichtagDatJahr_str\": \"2018-01-01\"}, {\"StichtagDatJahr\": \"2018-01-01T00:00:00\", \"QuarSort\": 11, \"QuarCd\": 11, \"QuarLang\": \"Rathaus\", \"AnzBestWir\": 3267, \"AnzNat\": 79, \"StichtagDatJahr_str\": \"2018-01-01\"}, {\"StichtagDatJahr\": \"2018-01-01T00:00:00\", \"QuarSort\": 63, \"QuarCd\": 63, \"QuarLang\": \"Oberstrass\", \"AnzBestWir\": 10927, \"AnzNat\": 102, \"StichtagDatJahr_str\": \"2018-01-01\"}, {\"StichtagDatJahr\": \"2018-01-01T00:00:00\", \"QuarSort\": 34, \"QuarCd\": 34, \"QuarLang\": \"Sihlfeld\", \"AnzBestWir\": 21680, \"AnzNat\": 119, \"StichtagDatJahr_str\": \"2018-01-01\"}, {\"StichtagDatJahr\": \"2018-01-01T00:00:00\", \"QuarSort\": 72, \"QuarCd\": 72, \"QuarLang\": \"Hottingen\", \"AnzBestWir\": 11265, \"AnzNat\": 103, \"StichtagDatJahr_str\": \"2018-01-01\"}, {\"StichtagDatJahr\": \"2018-01-01T00:00:00\", \"QuarSort\": 101, \"QuarCd\": 101, \"QuarLang\": \"H\\u00f6ngg\", \"AnzBestWir\": 24020, \"AnzNat\": 119, \"StichtagDatJahr_str\": \"2018-01-01\"}, {\"StichtagDatJahr\": \"2018-01-01T00:00:00\", \"QuarSort\": 73, \"QuarCd\": 73, \"QuarLang\": \"Hirslanden\", \"AnzBestWir\": 7488, \"AnzNat\": 90, \"StichtagDatJahr_str\": \"2018-01-01\"}, {\"StichtagDatJahr\": \"2018-01-01T00:00:00\", \"QuarSort\": 122, \"QuarCd\": 122, \"QuarLang\": \"Schwamendingen-Mitte\", \"AnzBestWir\": 11100, \"AnzNat\": 113, \"StichtagDatJahr_str\": \"2018-01-01\"}, {\"StichtagDatJahr\": \"2018-01-01T00:00:00\", \"QuarSort\": 121, \"QuarCd\": 121, \"QuarLang\": \"Saatlen\", \"AnzBestWir\": 8582, \"AnzNat\": 102, \"StichtagDatJahr_str\": \"2018-01-01\"}, {\"StichtagDatJahr\": \"2018-01-01T00:00:00\", \"QuarSort\": 119, \"QuarCd\": 119, \"QuarLang\": \"Seebach\", \"AnzBestWir\": 25568, \"AnzNat\": 128, \"StichtagDatJahr_str\": \"2018-01-01\"}, {\"StichtagDatJahr\": \"2018-01-01T00:00:00\", \"QuarSort\": 115, \"QuarCd\": 115, \"QuarLang\": \"Oerlikon\", \"AnzBestWir\": 23214, \"AnzNat\": 121, \"StichtagDatJahr_str\": \"2018-01-01\"}, {\"StichtagDatJahr\": \"2018-01-01T00:00:00\", \"QuarSort\": 111, \"QuarCd\": 111, \"QuarLang\": \"Affoltern\", \"AnzBestWir\": 26562, \"AnzNat\": 122, \"StichtagDatJahr_str\": \"2018-01-01\"}, {\"StichtagDatJahr\": \"2018-01-01T00:00:00\", \"QuarSort\": 102, \"QuarCd\": 102, \"QuarLang\": \"Wipkingen\", \"AnzBestWir\": 16321, \"AnzNat\": 116, \"StichtagDatJahr_str\": \"2018-01-01\"}, {\"StichtagDatJahr\": \"2018-01-01T00:00:00\", \"QuarSort\": 123, \"QuarCd\": 123, \"QuarLang\": \"Hirzenbach\", \"AnzBestWir\": 12801, \"AnzNat\": 116, \"StichtagDatJahr_str\": \"2018-01-01\"}, {\"StichtagDatJahr\": \"2018-01-01T00:00:00\", \"QuarSort\": 92, \"QuarCd\": 92, \"QuarLang\": \"Altstetten\", \"AnzBestWir\": 33461, \"AnzNat\": 124, \"StichtagDatJahr_str\": \"2018-01-01\"}, {\"StichtagDatJahr\": \"2018-01-01T00:00:00\", \"QuarSort\": 91, \"QuarCd\": 91, \"QuarLang\": \"Albisrieden\", \"AnzBestWir\": 22304, \"AnzNat\": 117, \"StichtagDatJahr_str\": \"2018-01-01\"}, {\"StichtagDatJahr\": \"2018-01-01T00:00:00\", \"QuarSort\": 83, \"QuarCd\": 83, \"QuarLang\": \"Weinegg\", \"AnzBestWir\": 5220, \"AnzNat\": 89, \"StichtagDatJahr_str\": \"2018-01-01\"}, {\"StichtagDatJahr\": \"2018-01-01T00:00:00\", \"QuarSort\": 82, \"QuarCd\": 82, \"QuarLang\": \"M\\u00fchlebach\", \"AnzBestWir\": 6315, \"AnzNat\": 90, \"StichtagDatJahr_str\": \"2018-01-01\"}, {\"StichtagDatJahr\": \"2018-01-01T00:00:00\", \"QuarSort\": 81, \"QuarCd\": 81, \"QuarLang\": \"Seefeld\", \"AnzBestWir\": 5253, \"AnzNat\": 83, \"StichtagDatJahr_str\": \"2018-01-01\"}, {\"StichtagDatJahr\": \"2018-01-01T00:00:00\", \"QuarSort\": 74, \"QuarCd\": 74, \"QuarLang\": \"Witikon\", \"AnzBestWir\": 10953, \"AnzNat\": 100, \"StichtagDatJahr_str\": \"2018-01-01\"}, {\"StichtagDatJahr\": \"2017-01-01T00:00:00\", \"QuarSort\": 33, \"QuarCd\": 33, \"QuarLang\": \"Friesenberg\", \"AnzBestWir\": 10860, \"AnzNat\": 94, \"StichtagDatJahr_str\": \"2017-01-01\"}, {\"StichtagDatJahr\": \"2017-01-01T00:00:00\", \"QuarSort\": 61, \"QuarCd\": 61, \"QuarLang\": \"Unterstrass\", \"AnzBestWir\": 22768, \"AnzNat\": 129, \"StichtagDatJahr_str\": \"2017-01-01\"}, {\"StichtagDatJahr\": \"2017-01-01T00:00:00\", \"QuarSort\": 52, \"QuarCd\": 52, \"QuarLang\": \"Escher Wyss\", \"AnzBestWir\": 6088, \"AnzNat\": 98, \"StichtagDatJahr_str\": \"2017-01-01\"}, {\"StichtagDatJahr\": \"2017-01-01T00:00:00\", \"QuarSort\": 51, \"QuarCd\": 51, \"QuarLang\": \"Gewerbeschule\", \"AnzBestWir\": 9578, \"AnzNat\": 105, \"StichtagDatJahr_str\": \"2017-01-01\"}, {\"StichtagDatJahr\": \"2017-01-01T00:00:00\", \"QuarSort\": 44, \"QuarCd\": 44, \"QuarLang\": \"Hard\", \"AnzBestWir\": 13057, \"AnzNat\": 113, \"StichtagDatJahr_str\": \"2017-01-01\"}, {\"StichtagDatJahr\": \"2017-01-01T00:00:00\", \"QuarSort\": 42, \"QuarCd\": 42, \"QuarLang\": \"Langstrasse\", \"AnzBestWir\": 11144, \"AnzNat\": 109, \"StichtagDatJahr_str\": \"2017-01-01\"}, {\"StichtagDatJahr\": \"2017-01-01T00:00:00\", \"QuarSort\": 41, \"QuarCd\": 41, \"QuarLang\": \"Werd\", \"AnzBestWir\": 4574, \"AnzNat\": 90, \"StichtagDatJahr_str\": \"2017-01-01\"}, {\"StichtagDatJahr\": \"2017-01-01T00:00:00\", \"QuarSort\": 34, \"QuarCd\": 34, \"QuarLang\": \"Sihlfeld\", \"AnzBestWir\": 21660, \"AnzNat\": 117, \"StichtagDatJahr_str\": \"2017-01-01\"}, {\"StichtagDatJahr\": \"2017-01-01T00:00:00\", \"QuarSort\": 23, \"QuarCd\": 23, \"QuarLang\": \"Leimbach\", \"AnzBestWir\": 6212, \"AnzNat\": 99, \"StichtagDatJahr_str\": \"2017-01-01\"}, {\"StichtagDatJahr\": \"2017-01-01T00:00:00\", \"QuarSort\": 31, \"QuarCd\": 31, \"QuarLang\": \"Alt-Wiedikon\", \"AnzBestWir\": 17522, \"AnzNat\": 113, \"StichtagDatJahr_str\": \"2017-01-01\"}, {\"StichtagDatJahr\": \"2017-01-01T00:00:00\", \"QuarSort\": 24, \"QuarCd\": 24, \"QuarLang\": \"Enge\", \"AnzBestWir\": 9489, \"AnzNat\": 96, \"StichtagDatJahr_str\": \"2017-01-01\"}, {\"StichtagDatJahr\": \"2017-01-01T00:00:00\", \"QuarSort\": 11, \"QuarCd\": 11, \"QuarLang\": \"Rathaus\", \"AnzBestWir\": 3266, \"AnzNat\": 79, \"StichtagDatJahr_str\": \"2017-01-01\"}, {\"StichtagDatJahr\": \"2017-01-01T00:00:00\", \"QuarSort\": 21, \"QuarCd\": 21, \"QuarLang\": \"Wollishofen\", \"AnzBestWir\": 17892, \"AnzNat\": 112, \"StichtagDatJahr_str\": \"2017-01-01\"}, {\"StichtagDatJahr\": \"2017-01-01T00:00:00\", \"QuarSort\": 14, \"QuarCd\": 14, \"QuarLang\": \"City\", \"AnzBestWir\": 830, \"AnzNat\": 55, \"StichtagDatJahr_str\": \"2017-01-01\"}, {\"StichtagDatJahr\": \"2017-01-01T00:00:00\", \"QuarSort\": 13, \"QuarCd\": 13, \"QuarLang\": \"Lindenhof\", \"AnzBestWir\": 955, \"AnzNat\": 45, \"StichtagDatJahr_str\": \"2017-01-01\"}, {\"StichtagDatJahr\": \"2017-01-01T00:00:00\", \"QuarSort\": 12, \"QuarCd\": 12, \"QuarLang\": \"Hochschulen\", \"AnzBestWir\": 677, \"AnzNat\": 37, \"StichtagDatJahr_str\": \"2017-01-01\"}, {\"StichtagDatJahr\": \"2017-01-01T00:00:00\", \"QuarSort\": 63, \"QuarCd\": 63, \"QuarLang\": \"Oberstrass\", \"AnzBestWir\": 10846, \"AnzNat\": 106, \"StichtagDatJahr_str\": \"2017-01-01\"}, {\"StichtagDatJahr\": \"2017-01-01T00:00:00\", \"QuarSort\": 71, \"QuarCd\": 71, \"QuarLang\": \"Fluntern\", \"AnzBestWir\": 8221, \"AnzNat\": 89, \"StichtagDatJahr_str\": \"2017-01-01\"}, {\"StichtagDatJahr\": \"2017-01-01T00:00:00\", \"QuarSort\": 72, \"QuarCd\": 72, \"QuarLang\": \"Hottingen\", \"AnzBestWir\": 11172, \"AnzNat\": 101, \"StichtagDatJahr_str\": \"2017-01-01\"}, {\"StichtagDatJahr\": \"2017-01-01T00:00:00\", \"QuarSort\": 102, \"QuarCd\": 102, \"QuarLang\": \"Wipkingen\", \"AnzBestWir\": 16544, \"AnzNat\": 121, \"StichtagDatJahr_str\": \"2017-01-01\"}, {\"StichtagDatJahr\": \"2017-01-01T00:00:00\", \"QuarSort\": 73, \"QuarCd\": 73, \"QuarLang\": \"Hirslanden\", \"AnzBestWir\": 7465, \"AnzNat\": 83, \"StichtagDatJahr_str\": \"2017-01-01\"}, {\"StichtagDatJahr\": \"2017-01-01T00:00:00\", \"QuarSort\": 123, \"QuarCd\": 123, \"QuarLang\": \"Hirzenbach\", \"AnzBestWir\": 12627, \"AnzNat\": 114, \"StichtagDatJahr_str\": \"2017-01-01\"}, {\"StichtagDatJahr\": \"2017-01-01T00:00:00\", \"QuarSort\": 122, \"QuarCd\": 122, \"QuarLang\": \"Schwamendingen-Mitte\", \"AnzBestWir\": 11012, \"AnzNat\": 113, \"StichtagDatJahr_str\": \"2017-01-01\"}, {\"StichtagDatJahr\": \"2017-01-01T00:00:00\", \"QuarSort\": 121, \"QuarCd\": 121, \"QuarLang\": \"Saatlen\", \"AnzBestWir\": 8388, \"AnzNat\": 107, \"StichtagDatJahr_str\": \"2017-01-01\"}, {\"StichtagDatJahr\": \"2017-01-01T00:00:00\", \"QuarSort\": 115, \"QuarCd\": 115, \"QuarLang\": \"Oerlikon\", \"AnzBestWir\": 22815, \"AnzNat\": 126, \"StichtagDatJahr_str\": \"2017-01-01\"}, {\"StichtagDatJahr\": \"2017-01-01T00:00:00\", \"QuarSort\": 111, \"QuarCd\": 111, \"QuarLang\": \"Affoltern\", \"AnzBestWir\": 26177, \"AnzNat\": 122, \"StichtagDatJahr_str\": \"2017-01-01\"}, {\"StichtagDatJahr\": \"2017-01-01T00:00:00\", \"QuarSort\": 119, \"QuarCd\": 119, \"QuarLang\": \"Seebach\", \"AnzBestWir\": 25817, \"AnzNat\": 125, \"StichtagDatJahr_str\": \"2017-01-01\"}, {\"StichtagDatJahr\": \"2017-01-01T00:00:00\", \"QuarSort\": 101, \"QuarCd\": 101, \"QuarLang\": \"H\\u00f6ngg\", \"AnzBestWir\": 23797, \"AnzNat\": 118, \"StichtagDatJahr_str\": \"2017-01-01\"}, {\"StichtagDatJahr\": \"2017-01-01T00:00:00\", \"QuarSort\": 92, \"QuarCd\": 92, \"QuarLang\": \"Altstetten\", \"AnzBestWir\": 32603, \"AnzNat\": 132, \"StichtagDatJahr_str\": \"2017-01-01\"}, {\"StichtagDatJahr\": \"2017-01-01T00:00:00\", \"QuarSort\": 91, \"QuarCd\": 91, \"QuarLang\": \"Albisrieden\", \"AnzBestWir\": 22113, \"AnzNat\": 118, \"StichtagDatJahr_str\": \"2017-01-01\"}, {\"StichtagDatJahr\": \"2017-01-01T00:00:00\", \"QuarSort\": 83, \"QuarCd\": 83, \"QuarLang\": \"Weinegg\", \"AnzBestWir\": 5248, \"AnzNat\": 89, \"StichtagDatJahr_str\": \"2017-01-01\"}, {\"StichtagDatJahr\": \"2017-01-01T00:00:00\", \"QuarSort\": 82, \"QuarCd\": 82, \"QuarLang\": \"M\\u00fchlebach\", \"AnzBestWir\": 6164, \"AnzNat\": 87, \"StichtagDatJahr_str\": \"2017-01-01\"}, {\"StichtagDatJahr\": \"2017-01-01T00:00:00\", \"QuarSort\": 81, \"QuarCd\": 81, \"QuarLang\": \"Seefeld\", \"AnzBestWir\": 5129, \"AnzNat\": 88, \"StichtagDatJahr_str\": \"2017-01-01\"}, {\"StichtagDatJahr\": \"2017-01-01T00:00:00\", \"QuarSort\": 74, \"QuarCd\": 74, \"QuarLang\": \"Witikon\", \"AnzBestWir\": 10600, \"AnzNat\": 95, \"StichtagDatJahr_str\": \"2017-01-01\"}, {\"StichtagDatJahr\": \"2016-01-01T00:00:00\", \"QuarSort\": 33, \"QuarCd\": 33, \"QuarLang\": \"Friesenberg\", \"AnzBestWir\": 11002, \"AnzNat\": 98, \"StichtagDatJahr_str\": \"2016-01-01\"}, {\"StichtagDatJahr\": \"2016-01-01T00:00:00\", \"QuarSort\": 61, \"QuarCd\": 61, \"QuarLang\": \"Unterstrass\", \"AnzBestWir\": 22476, \"AnzNat\": 133, \"StichtagDatJahr_str\": \"2016-01-01\"}, {\"StichtagDatJahr\": \"2016-01-01T00:00:00\", \"QuarSort\": 52, \"QuarCd\": 52, \"QuarLang\": \"Escher Wyss\", \"AnzBestWir\": 5825, \"AnzNat\": 97, \"StichtagDatJahr_str\": \"2016-01-01\"}, {\"StichtagDatJahr\": \"2016-01-01T00:00:00\", \"QuarSort\": 51, \"QuarCd\": 51, \"QuarLang\": \"Gewerbeschule\", \"AnzBestWir\": 9598, \"AnzNat\": 102, \"StichtagDatJahr_str\": \"2016-01-01\"}, {\"StichtagDatJahr\": \"2016-01-01T00:00:00\", \"QuarSort\": 44, \"QuarCd\": 44, \"QuarLang\": \"Hard\", \"AnzBestWir\": 12891, \"AnzNat\": 114, \"StichtagDatJahr_str\": \"2016-01-01\"}, {\"StichtagDatJahr\": \"2016-01-01T00:00:00\", \"QuarSort\": 42, \"QuarCd\": 42, \"QuarLang\": \"Langstrasse\", \"AnzBestWir\": 11145, \"AnzNat\": 110, \"StichtagDatJahr_str\": \"2016-01-01\"}, {\"StichtagDatJahr\": \"2016-01-01T00:00:00\", \"QuarSort\": 41, \"QuarCd\": 41, \"QuarLang\": \"Werd\", \"AnzBestWir\": 4594, \"AnzNat\": 90, \"StichtagDatJahr_str\": \"2016-01-01\"}, {\"StichtagDatJahr\": \"2016-01-01T00:00:00\", \"QuarSort\": 34, \"QuarCd\": 34, \"QuarLang\": \"Sihlfeld\", \"AnzBestWir\": 21177, \"AnzNat\": 111, \"StichtagDatJahr_str\": \"2016-01-01\"}, {\"StichtagDatJahr\": \"2016-01-01T00:00:00\", \"QuarSort\": 11, \"QuarCd\": 11, \"QuarLang\": \"Rathaus\", \"AnzBestWir\": 3226, \"AnzNat\": 73, \"StichtagDatJahr_str\": \"2016-01-01\"}, {\"StichtagDatJahr\": \"2016-01-01T00:00:00\", \"QuarSort\": 31, \"QuarCd\": 31, \"QuarLang\": \"Alt-Wiedikon\", \"AnzBestWir\": 17321, \"AnzNat\": 116, \"StichtagDatJahr_str\": \"2016-01-01\"}, {\"StichtagDatJahr\": \"2016-01-01T00:00:00\", \"QuarSort\": 24, \"QuarCd\": 24, \"QuarLang\": \"Enge\", \"AnzBestWir\": 9422, \"AnzNat\": 100, \"StichtagDatJahr_str\": \"2016-01-01\"}, {\"StichtagDatJahr\": \"2016-01-01T00:00:00\", \"QuarSort\": 23, \"QuarCd\": 23, \"QuarLang\": \"Leimbach\", \"AnzBestWir\": 6173, \"AnzNat\": 96, \"StichtagDatJahr_str\": \"2016-01-01\"}, {\"StichtagDatJahr\": \"2016-01-01T00:00:00\", \"QuarSort\": 21, \"QuarCd\": 21, \"QuarLang\": \"Wollishofen\", \"AnzBestWir\": 16567, \"AnzNat\": 106, \"StichtagDatJahr_str\": \"2016-01-01\"}, {\"StichtagDatJahr\": \"2016-01-01T00:00:00\", \"QuarSort\": 14, \"QuarCd\": 14, \"QuarLang\": \"City\", \"AnzBestWir\": 810, \"AnzNat\": 54, \"StichtagDatJahr_str\": \"2016-01-01\"}, {\"StichtagDatJahr\": \"2016-01-01T00:00:00\", \"QuarSort\": 13, \"QuarCd\": 13, \"QuarLang\": \"Lindenhof\", \"AnzBestWir\": 972, \"AnzNat\": 45, \"StichtagDatJahr_str\": \"2016-01-01\"}, {\"StichtagDatJahr\": \"2016-01-01T00:00:00\", \"QuarSort\": 12, \"QuarCd\": 12, \"QuarLang\": \"Hochschulen\", \"AnzBestWir\": 640, \"AnzNat\": 36, \"StichtagDatJahr_str\": \"2016-01-01\"}, {\"StichtagDatJahr\": \"2016-01-01T00:00:00\", \"QuarSort\": 63, \"QuarCd\": 63, \"QuarLang\": \"Oberstrass\", \"AnzBestWir\": 10794, \"AnzNat\": 99, \"StichtagDatJahr_str\": \"2016-01-01\"}, {\"StichtagDatJahr\": \"2016-01-01T00:00:00\", \"QuarSort\": 71, \"QuarCd\": 71, \"QuarLang\": \"Fluntern\", \"AnzBestWir\": 8038, \"AnzNat\": 95, \"StichtagDatJahr_str\": \"2016-01-01\"}, {\"StichtagDatJahr\": \"2016-01-01T00:00:00\", \"QuarSort\": 72, \"QuarCd\": 72, \"QuarLang\": \"Hottingen\", \"AnzBestWir\": 11113, \"AnzNat\": 104, \"StichtagDatJahr_str\": \"2016-01-01\"}, {\"StichtagDatJahr\": \"2016-01-01T00:00:00\", \"QuarSort\": 102, \"QuarCd\": 102, \"QuarLang\": \"Wipkingen\", \"AnzBestWir\": 16141, \"AnzNat\": 114, \"StichtagDatJahr_str\": \"2016-01-01\"}, {\"StichtagDatJahr\": \"2016-01-01T00:00:00\", \"QuarSort\": 73, \"QuarCd\": 73, \"QuarLang\": \"Hirslanden\", \"AnzBestWir\": 7321, \"AnzNat\": 86, \"StichtagDatJahr_str\": \"2016-01-01\"}, {\"StichtagDatJahr\": \"2016-01-01T00:00:00\", \"QuarSort\": 123, \"QuarCd\": 123, \"QuarLang\": \"Hirzenbach\", \"AnzBestWir\": 12463, \"AnzNat\": 116, \"StichtagDatJahr_str\": \"2016-01-01\"}, {\"StichtagDatJahr\": \"2016-01-01T00:00:00\", \"QuarSort\": 122, \"QuarCd\": 122, \"QuarLang\": \"Schwamendingen-Mitte\", \"AnzBestWir\": 11076, \"AnzNat\": 115, \"StichtagDatJahr_str\": \"2016-01-01\"}, {\"StichtagDatJahr\": \"2016-01-01T00:00:00\", \"QuarSort\": 121, \"QuarCd\": 121, \"QuarLang\": \"Saatlen\", \"AnzBestWir\": 8283, \"AnzNat\": 101, \"StichtagDatJahr_str\": \"2016-01-01\"}, {\"StichtagDatJahr\": \"2016-01-01T00:00:00\", \"QuarSort\": 115, \"QuarCd\": 115, \"QuarLang\": \"Oerlikon\", \"AnzBestWir\": 22161, \"AnzNat\": 122, \"StichtagDatJahr_str\": \"2016-01-01\"}, {\"StichtagDatJahr\": \"2016-01-01T00:00:00\", \"QuarSort\": 111, \"QuarCd\": 111, \"QuarLang\": \"Affoltern\", \"AnzBestWir\": 26054, \"AnzNat\": 122, \"StichtagDatJahr_str\": \"2016-01-01\"}, {\"StichtagDatJahr\": \"2016-01-01T00:00:00\", \"QuarSort\": 119, \"QuarCd\": 119, \"QuarLang\": \"Seebach\", \"AnzBestWir\": 25198, \"AnzNat\": 124, \"StichtagDatJahr_str\": \"2016-01-01\"}, {\"StichtagDatJahr\": \"2016-01-01T00:00:00\", \"QuarSort\": 101, \"QuarCd\": 101, \"QuarLang\": \"H\\u00f6ngg\", \"AnzBestWir\": 23423, \"AnzNat\": 117, \"StichtagDatJahr_str\": \"2016-01-01\"}, {\"StichtagDatJahr\": \"2016-01-01T00:00:00\", \"QuarSort\": 92, \"QuarCd\": 92, \"QuarLang\": \"Altstetten\", \"AnzBestWir\": 31724, \"AnzNat\": 124, \"StichtagDatJahr_str\": \"2016-01-01\"}, {\"StichtagDatJahr\": \"2016-01-01T00:00:00\", \"QuarSort\": 91, \"QuarCd\": 91, \"QuarLang\": \"Albisrieden\", \"AnzBestWir\": 21174, \"AnzNat\": 116, \"StichtagDatJahr_str\": \"2016-01-01\"}, {\"StichtagDatJahr\": \"2016-01-01T00:00:00\", \"QuarSort\": 83, \"QuarCd\": 83, \"QuarLang\": \"Weinegg\", \"AnzBestWir\": 5030, \"AnzNat\": 89, \"StichtagDatJahr_str\": \"2016-01-01\"}, {\"StichtagDatJahr\": \"2016-01-01T00:00:00\", \"QuarSort\": 82, \"QuarCd\": 82, \"QuarLang\": \"M\\u00fchlebach\", \"AnzBestWir\": 6137, \"AnzNat\": 89, \"StichtagDatJahr_str\": \"2016-01-01\"}, {\"StichtagDatJahr\": \"2016-01-01T00:00:00\", \"QuarSort\": 81, \"QuarCd\": 81, \"QuarLang\": \"Seefeld\", \"AnzBestWir\": 5046, \"AnzNat\": 85, \"StichtagDatJahr_str\": \"2016-01-01\"}, {\"StichtagDatJahr\": \"2016-01-01T00:00:00\", \"QuarSort\": 74, \"QuarCd\": 74, \"QuarLang\": \"Witikon\", \"AnzBestWir\": 10667, \"AnzNat\": 97, \"StichtagDatJahr_str\": \"2016-01-01\"}, {\"StichtagDatJahr\": \"2015-01-01T00:00:00\", \"QuarSort\": 33, \"QuarCd\": 33, \"QuarLang\": \"Friesenberg\", \"AnzBestWir\": 10698, \"AnzNat\": 101, \"StichtagDatJahr_str\": \"2015-01-01\"}, {\"StichtagDatJahr\": \"2015-01-01T00:00:00\", \"QuarSort\": 61, \"QuarCd\": 61, \"QuarLang\": \"Unterstrass\", \"AnzBestWir\": 22226, \"AnzNat\": 123, \"StichtagDatJahr_str\": \"2015-01-01\"}, {\"StichtagDatJahr\": \"2015-01-01T00:00:00\", \"QuarSort\": 52, \"QuarCd\": 52, \"QuarLang\": \"Escher Wyss\", \"AnzBestWir\": 5457, \"AnzNat\": 95, \"StichtagDatJahr_str\": \"2015-01-01\"}, {\"StichtagDatJahr\": \"2015-01-01T00:00:00\", \"QuarSort\": 51, \"QuarCd\": 51, \"QuarLang\": \"Gewerbeschule\", \"AnzBestWir\": 9608, \"AnzNat\": 100, \"StichtagDatJahr_str\": \"2015-01-01\"}, {\"StichtagDatJahr\": \"2015-01-01T00:00:00\", \"QuarSort\": 44, \"QuarCd\": 44, \"QuarLang\": \"Hard\", \"AnzBestWir\": 13072, \"AnzNat\": 118, \"StichtagDatJahr_str\": \"2015-01-01\"}, {\"StichtagDatJahr\": \"2015-01-01T00:00:00\", \"QuarSort\": 42, \"QuarCd\": 42, \"QuarLang\": \"Langstrasse\", \"AnzBestWir\": 11169, \"AnzNat\": 106, \"StichtagDatJahr_str\": \"2015-01-01\"}, {\"StichtagDatJahr\": \"2015-01-01T00:00:00\", \"QuarSort\": 41, \"QuarCd\": 41, \"QuarLang\": \"Werd\", \"AnzBestWir\": 4460, \"AnzNat\": 87, \"StichtagDatJahr_str\": \"2015-01-01\"}, {\"StichtagDatJahr\": \"2015-01-01T00:00:00\", \"QuarSort\": 34, \"QuarCd\": 34, \"QuarLang\": \"Sihlfeld\", \"AnzBestWir\": 21339, \"AnzNat\": 119, \"StichtagDatJahr_str\": \"2015-01-01\"}, {\"StichtagDatJahr\": \"2015-01-01T00:00:00\", \"QuarSort\": 11, \"QuarCd\": 11, \"QuarLang\": \"Rathaus\", \"AnzBestWir\": 3197, \"AnzNat\": 75, \"StichtagDatJahr_str\": \"2015-01-01\"}, {\"StichtagDatJahr\": \"2015-01-01T00:00:00\", \"QuarSort\": 31, \"QuarCd\": 31, \"QuarLang\": \"Alt-Wiedikon\", \"AnzBestWir\": 17158, \"AnzNat\": 115, \"StichtagDatJahr_str\": \"2015-01-01\"}, {\"StichtagDatJahr\": \"2015-01-01T00:00:00\", \"QuarSort\": 24, \"QuarCd\": 24, \"QuarLang\": \"Enge\", \"AnzBestWir\": 9257, \"AnzNat\": 98, \"StichtagDatJahr_str\": \"2015-01-01\"}, {\"StichtagDatJahr\": \"2015-01-01T00:00:00\", \"QuarSort\": 23, \"QuarCd\": 23, \"QuarLang\": \"Leimbach\", \"AnzBestWir\": 6102, \"AnzNat\": 95, \"StichtagDatJahr_str\": \"2015-01-01\"}, {\"StichtagDatJahr\": \"2015-01-01T00:00:00\", \"QuarSort\": 21, \"QuarCd\": 21, \"QuarLang\": \"Wollishofen\", \"AnzBestWir\": 16244, \"AnzNat\": 104, \"StichtagDatJahr_str\": \"2015-01-01\"}, {\"StichtagDatJahr\": \"2015-01-01T00:00:00\", \"QuarSort\": 14, \"QuarCd\": 14, \"QuarLang\": \"City\", \"AnzBestWir\": 805, \"AnzNat\": 52, \"StichtagDatJahr_str\": \"2015-01-01\"}, {\"StichtagDatJahr\": \"2015-01-01T00:00:00\", \"QuarSort\": 13, \"QuarCd\": 13, \"QuarLang\": \"Lindenhof\", \"AnzBestWir\": 974, \"AnzNat\": 49, \"StichtagDatJahr_str\": \"2015-01-01\"}, {\"StichtagDatJahr\": \"2015-01-01T00:00:00\", \"QuarSort\": 12, \"QuarCd\": 12, \"QuarLang\": \"Hochschulen\", \"AnzBestWir\": 641, \"AnzNat\": 42, \"StichtagDatJahr_str\": \"2015-01-01\"}, {\"StichtagDatJahr\": \"2015-01-01T00:00:00\", \"QuarSort\": 63, \"QuarCd\": 63, \"QuarLang\": \"Oberstrass\", \"AnzBestWir\": 10641, \"AnzNat\": 98, \"StichtagDatJahr_str\": \"2015-01-01\"}, {\"StichtagDatJahr\": \"2015-01-01T00:00:00\", \"QuarSort\": 71, \"QuarCd\": 71, \"QuarLang\": \"Fluntern\", \"AnzBestWir\": 7953, \"AnzNat\": 97, \"StichtagDatJahr_str\": \"2015-01-01\"}, {\"StichtagDatJahr\": \"2015-01-01T00:00:00\", \"QuarSort\": 72, \"QuarCd\": 72, \"QuarLang\": \"Hottingen\", \"AnzBestWir\": 11081, \"AnzNat\": 101, \"StichtagDatJahr_str\": \"2015-01-01\"}, {\"StichtagDatJahr\": \"2015-01-01T00:00:00\", \"QuarSort\": 102, \"QuarCd\": 102, \"QuarLang\": \"Wipkingen\", \"AnzBestWir\": 15879, \"AnzNat\": 116, \"StichtagDatJahr_str\": \"2015-01-01\"}, {\"StichtagDatJahr\": \"2015-01-01T00:00:00\", \"QuarSort\": 73, \"QuarCd\": 73, \"QuarLang\": \"Hirslanden\", \"AnzBestWir\": 7380, \"AnzNat\": 85, \"StichtagDatJahr_str\": \"2015-01-01\"}, {\"StichtagDatJahr\": \"2015-01-01T00:00:00\", \"QuarSort\": 123, \"QuarCd\": 123, \"QuarLang\": \"Hirzenbach\", \"AnzBestWir\": 11930, \"AnzNat\": 109, \"StichtagDatJahr_str\": \"2015-01-01\"}, {\"StichtagDatJahr\": \"2015-01-01T00:00:00\", \"QuarSort\": 122, \"QuarCd\": 122, \"QuarLang\": \"Schwamendingen-Mitte\", \"AnzBestWir\": 11315, \"AnzNat\": 111, \"StichtagDatJahr_str\": \"2015-01-01\"}, {\"StichtagDatJahr\": \"2015-01-01T00:00:00\", \"QuarSort\": 121, \"QuarCd\": 121, \"QuarLang\": \"Saatlen\", \"AnzBestWir\": 8508, \"AnzNat\": 104, \"StichtagDatJahr_str\": \"2015-01-01\"}, {\"StichtagDatJahr\": \"2015-01-01T00:00:00\", \"QuarSort\": 115, \"QuarCd\": 115, \"QuarLang\": \"Oerlikon\", \"AnzBestWir\": 21966, \"AnzNat\": 124, \"StichtagDatJahr_str\": \"2015-01-01\"}, {\"StichtagDatJahr\": \"2015-01-01T00:00:00\", \"QuarSort\": 111, \"QuarCd\": 111, \"QuarLang\": \"Affoltern\", \"AnzBestWir\": 25874, \"AnzNat\": 125, \"StichtagDatJahr_str\": \"2015-01-01\"}, {\"StichtagDatJahr\": \"2015-01-01T00:00:00\", \"QuarSort\": 119, \"QuarCd\": 119, \"QuarLang\": \"Seebach\", \"AnzBestWir\": 24991, \"AnzNat\": 129, \"StichtagDatJahr_str\": \"2015-01-01\"}, {\"StichtagDatJahr\": \"2015-01-01T00:00:00\", \"QuarSort\": 101, \"QuarCd\": 101, \"QuarLang\": \"H\\u00f6ngg\", \"AnzBestWir\": 22320, \"AnzNat\": 111, \"StichtagDatJahr_str\": \"2015-01-01\"}, {\"StichtagDatJahr\": \"2015-01-01T00:00:00\", \"QuarSort\": 92, \"QuarCd\": 92, \"QuarLang\": \"Altstetten\", \"AnzBestWir\": 32003, \"AnzNat\": 126, \"StichtagDatJahr_str\": \"2015-01-01\"}, {\"StichtagDatJahr\": \"2015-01-01T00:00:00\", \"QuarSort\": 91, \"QuarCd\": 91, \"QuarLang\": \"Albisrieden\", \"AnzBestWir\": 19325, \"AnzNat\": 114, \"StichtagDatJahr_str\": \"2015-01-01\"}, {\"StichtagDatJahr\": \"2015-01-01T00:00:00\", \"QuarSort\": 83, \"QuarCd\": 83, \"QuarLang\": \"Weinegg\", \"AnzBestWir\": 5086, \"AnzNat\": 92, \"StichtagDatJahr_str\": \"2015-01-01\"}, {\"StichtagDatJahr\": \"2015-01-01T00:00:00\", \"QuarSort\": 82, \"QuarCd\": 82, \"QuarLang\": \"M\\u00fchlebach\", \"AnzBestWir\": 6116, \"AnzNat\": 92, \"StichtagDatJahr_str\": \"2015-01-01\"}, {\"StichtagDatJahr\": \"2015-01-01T00:00:00\", \"QuarSort\": 81, \"QuarCd\": 81, \"QuarLang\": \"Seefeld\", \"AnzBestWir\": 4990, \"AnzNat\": 83, \"StichtagDatJahr_str\": \"2015-01-01\"}, {\"StichtagDatJahr\": \"2015-01-01T00:00:00\", \"QuarSort\": 74, \"QuarCd\": 74, \"QuarLang\": \"Witikon\", \"AnzBestWir\": 10639, \"AnzNat\": 100, \"StichtagDatJahr_str\": \"2015-01-01\"}, {\"StichtagDatJahr\": \"2014-01-01T00:00:00\", \"QuarSort\": 31, \"QuarCd\": 31, \"QuarLang\": \"Alt-Wiedikon\", \"AnzBestWir\": 16918, \"AnzNat\": 115, \"StichtagDatJahr_str\": \"2014-01-01\"}, {\"StichtagDatJahr\": \"2014-01-01T00:00:00\", \"QuarSort\": 52, \"QuarCd\": 52, \"QuarLang\": \"Escher Wyss\", \"AnzBestWir\": 4604, \"AnzNat\": 83, \"StichtagDatJahr_str\": \"2014-01-01\"}, {\"StichtagDatJahr\": \"2014-01-01T00:00:00\", \"QuarSort\": 51, \"QuarCd\": 51, \"QuarLang\": \"Gewerbeschule\", \"AnzBestWir\": 9539, \"AnzNat\": 104, \"StichtagDatJahr_str\": \"2014-01-01\"}, {\"StichtagDatJahr\": \"2014-01-01T00:00:00\", \"QuarSort\": 44, \"QuarCd\": 44, \"QuarLang\": \"Hard\", \"AnzBestWir\": 13232, \"AnzNat\": 117, \"StichtagDatJahr_str\": \"2014-01-01\"}, {\"StichtagDatJahr\": \"2014-01-01T00:00:00\", \"QuarSort\": 42, \"QuarCd\": 42, \"QuarLang\": \"Langstrasse\", \"AnzBestWir\": 10985, \"AnzNat\": 109, \"StichtagDatJahr_str\": \"2014-01-01\"}, {\"StichtagDatJahr\": \"2014-01-01T00:00:00\", \"QuarSort\": 41, \"QuarCd\": 41, \"QuarLang\": \"Werd\", \"AnzBestWir\": 4428, \"AnzNat\": 88, \"StichtagDatJahr_str\": \"2014-01-01\"}, {\"StichtagDatJahr\": \"2014-01-01T00:00:00\", \"QuarSort\": 34, \"QuarCd\": 34, \"QuarLang\": \"Sihlfeld\", \"AnzBestWir\": 21195, \"AnzNat\": 116, \"StichtagDatJahr_str\": \"2014-01-01\"}, {\"StichtagDatJahr\": \"2014-01-01T00:00:00\", \"QuarSort\": 33, \"QuarCd\": 33, \"QuarLang\": \"Friesenberg\", \"AnzBestWir\": 10695, \"AnzNat\": 98, \"StichtagDatJahr_str\": \"2014-01-01\"}, {\"StichtagDatJahr\": \"2014-01-01T00:00:00\", \"QuarSort\": 63, \"QuarCd\": 63, \"QuarLang\": \"Oberstrass\", \"AnzBestWir\": 10556, \"AnzNat\": 101, \"StichtagDatJahr_str\": \"2014-01-01\"}, {\"StichtagDatJahr\": \"2014-01-01T00:00:00\", \"QuarSort\": 24, \"QuarCd\": 24, \"QuarLang\": \"Enge\", \"AnzBestWir\": 9083, \"AnzNat\": 99, \"StichtagDatJahr_str\": \"2014-01-01\"}, {\"StichtagDatJahr\": \"2014-01-01T00:00:00\", \"QuarSort\": 23, \"QuarCd\": 23, \"QuarLang\": \"Leimbach\", \"AnzBestWir\": 5936, \"AnzNat\": 92, \"StichtagDatJahr_str\": \"2014-01-01\"}, {\"StichtagDatJahr\": \"2014-01-01T00:00:00\", \"QuarSort\": 21, \"QuarCd\": 21, \"QuarLang\": \"Wollishofen\", \"AnzBestWir\": 16137, \"AnzNat\": 105, \"StichtagDatJahr_str\": \"2014-01-01\"}, {\"StichtagDatJahr\": \"2014-01-01T00:00:00\", \"QuarSort\": 14, \"QuarCd\": 14, \"QuarLang\": \"City\", \"AnzBestWir\": 791, \"AnzNat\": 44, \"StichtagDatJahr_str\": \"2014-01-01\"}, {\"StichtagDatJahr\": \"2014-01-01T00:00:00\", \"QuarSort\": 13, \"QuarCd\": 13, \"QuarLang\": \"Lindenhof\", \"AnzBestWir\": 955, \"AnzNat\": 49, \"StichtagDatJahr_str\": \"2014-01-01\"}, {\"StichtagDatJahr\": \"2014-01-01T00:00:00\", \"QuarSort\": 12, \"QuarCd\": 12, \"QuarLang\": \"Hochschulen\", \"AnzBestWir\": 634, \"AnzNat\": 40, \"StichtagDatJahr_str\": \"2014-01-01\"}, {\"StichtagDatJahr\": \"2014-01-01T00:00:00\", \"QuarSort\": 11, \"QuarCd\": 11, \"QuarLang\": \"Rathaus\", \"AnzBestWir\": 3236, \"AnzNat\": 82, \"StichtagDatJahr_str\": \"2014-01-01\"}, {\"StichtagDatJahr\": \"2014-01-01T00:00:00\", \"QuarSort\": 61, \"QuarCd\": 61, \"QuarLang\": \"Unterstrass\", \"AnzBestWir\": 22126, \"AnzNat\": 122, \"StichtagDatJahr_str\": \"2014-01-01\"}, {\"StichtagDatJahr\": \"2014-01-01T00:00:00\", \"QuarSort\": 101, \"QuarCd\": 101, \"QuarLang\": \"H\\u00f6ngg\", \"AnzBestWir\": 21826, \"AnzNat\": 114, \"StichtagDatJahr_str\": \"2014-01-01\"}, {\"StichtagDatJahr\": \"2014-01-01T00:00:00\", \"QuarSort\": 71, \"QuarCd\": 71, \"QuarLang\": \"Fluntern\", \"AnzBestWir\": 7865, \"AnzNat\": 92, \"StichtagDatJahr_str\": \"2014-01-01\"}, {\"StichtagDatJahr\": \"2014-01-01T00:00:00\", \"QuarSort\": 72, \"QuarCd\": 72, \"QuarLang\": \"Hottingen\", \"AnzBestWir\": 10882, \"AnzNat\": 100, \"StichtagDatJahr_str\": \"2014-01-01\"}, {\"StichtagDatJahr\": \"2014-01-01T00:00:00\", \"QuarSort\": 122, \"QuarCd\": 122, \"QuarLang\": \"Schwamendingen-Mitte\", \"AnzBestWir\": 11301, \"AnzNat\": 111, \"StichtagDatJahr_str\": \"2014-01-01\"}, {\"StichtagDatJahr\": \"2014-01-01T00:00:00\", \"QuarSort\": 121, \"QuarCd\": 121, \"QuarLang\": \"Saatlen\", \"AnzBestWir\": 7563, \"AnzNat\": 97, \"StichtagDatJahr_str\": \"2014-01-01\"}, {\"StichtagDatJahr\": \"2014-01-01T00:00:00\", \"QuarSort\": 119, \"QuarCd\": 119, \"QuarLang\": \"Seebach\", \"AnzBestWir\": 24431, \"AnzNat\": 127, \"StichtagDatJahr_str\": \"2014-01-01\"}, {\"StichtagDatJahr\": \"2014-01-01T00:00:00\", \"QuarSort\": 115, \"QuarCd\": 115, \"QuarLang\": \"Oerlikon\", \"AnzBestWir\": 21895, \"AnzNat\": 130, \"StichtagDatJahr_str\": \"2014-01-01\"}, {\"StichtagDatJahr\": \"2014-01-01T00:00:00\", \"QuarSort\": 111, \"QuarCd\": 111, \"QuarLang\": \"Affoltern\", \"AnzBestWir\": 25902, \"AnzNat\": 123, \"StichtagDatJahr_str\": \"2014-01-01\"}, {\"StichtagDatJahr\": \"2014-01-01T00:00:00\", \"QuarSort\": 102, \"QuarCd\": 102, \"QuarLang\": \"Wipkingen\", \"AnzBestWir\": 15717, \"AnzNat\": 115, \"StichtagDatJahr_str\": \"2014-01-01\"}, {\"StichtagDatJahr\": \"2014-01-01T00:00:00\", \"QuarSort\": 123, \"QuarCd\": 123, \"QuarLang\": \"Hirzenbach\", \"AnzBestWir\": 11679, \"AnzNat\": 110, \"StichtagDatJahr_str\": \"2014-01-01\"}, {\"StichtagDatJahr\": \"2014-01-01T00:00:00\", \"QuarSort\": 92, \"QuarCd\": 92, \"QuarLang\": \"Altstetten\", \"AnzBestWir\": 31486, \"AnzNat\": 126, \"StichtagDatJahr_str\": \"2014-01-01\"}, {\"StichtagDatJahr\": \"2014-01-01T00:00:00\", \"QuarSort\": 83, \"QuarCd\": 83, \"QuarLang\": \"Weinegg\", \"AnzBestWir\": 5036, \"AnzNat\": 86, \"StichtagDatJahr_str\": \"2014-01-01\"}, {\"StichtagDatJahr\": \"2014-01-01T00:00:00\", \"QuarSort\": 82, \"QuarCd\": 82, \"QuarLang\": \"M\\u00fchlebach\", \"AnzBestWir\": 6107, \"AnzNat\": 94, \"StichtagDatJahr_str\": \"2014-01-01\"}, {\"StichtagDatJahr\": \"2014-01-01T00:00:00\", \"QuarSort\": 81, \"QuarCd\": 81, \"QuarLang\": \"Seefeld\", \"AnzBestWir\": 5035, \"AnzNat\": 84, \"StichtagDatJahr_str\": \"2014-01-01\"}, {\"StichtagDatJahr\": \"2014-01-01T00:00:00\", \"QuarSort\": 74, \"QuarCd\": 74, \"QuarLang\": \"Witikon\", \"AnzBestWir\": 10406, \"AnzNat\": 99, \"StichtagDatJahr_str\": \"2014-01-01\"}, {\"StichtagDatJahr\": \"2014-01-01T00:00:00\", \"QuarSort\": 73, \"QuarCd\": 73, \"QuarLang\": \"Hirslanden\", \"AnzBestWir\": 7403, \"AnzNat\": 88, \"StichtagDatJahr_str\": \"2014-01-01\"}, {\"StichtagDatJahr\": \"2014-01-01T00:00:00\", \"QuarSort\": 91, \"QuarCd\": 91, \"QuarLang\": \"Albisrieden\", \"AnzBestWir\": 19199, \"AnzNat\": 112, \"StichtagDatJahr_str\": \"2014-01-01\"}, {\"StichtagDatJahr\": \"2013-01-01T00:00:00\", \"QuarSort\": 33, \"QuarCd\": 33, \"QuarLang\": \"Friesenberg\", \"AnzBestWir\": 10696, \"AnzNat\": 103, \"StichtagDatJahr_str\": \"2013-01-01\"}, {\"StichtagDatJahr\": \"2013-01-01T00:00:00\", \"QuarSort\": 61, \"QuarCd\": 61, \"QuarLang\": \"Unterstrass\", \"AnzBestWir\": 21876, \"AnzNat\": 127, \"StichtagDatJahr_str\": \"2013-01-01\"}, {\"StichtagDatJahr\": \"2013-01-01T00:00:00\", \"QuarSort\": 52, \"QuarCd\": 52, \"QuarLang\": \"Escher Wyss\", \"AnzBestWir\": 4010, \"AnzNat\": 76, \"StichtagDatJahr_str\": \"2013-01-01\"}, {\"StichtagDatJahr\": \"2013-01-01T00:00:00\", \"QuarSort\": 51, \"QuarCd\": 51, \"QuarLang\": \"Gewerbeschule\", \"AnzBestWir\": 9626, \"AnzNat\": 106, \"StichtagDatJahr_str\": \"2013-01-01\"}, {\"StichtagDatJahr\": \"2013-01-01T00:00:00\", \"QuarSort\": 44, \"QuarCd\": 44, \"QuarLang\": \"Hard\", \"AnzBestWir\": 13241, \"AnzNat\": 116, \"StichtagDatJahr_str\": \"2013-01-01\"}, {\"StichtagDatJahr\": \"2013-01-01T00:00:00\", \"QuarSort\": 42, \"QuarCd\": 42, \"QuarLang\": \"Langstrasse\", \"AnzBestWir\": 10686, \"AnzNat\": 106, \"StichtagDatJahr_str\": \"2013-01-01\"}, {\"StichtagDatJahr\": \"2013-01-01T00:00:00\", \"QuarSort\": 41, \"QuarCd\": 41, \"QuarLang\": \"Werd\", \"AnzBestWir\": 4188, \"AnzNat\": 80, \"StichtagDatJahr_str\": \"2013-01-01\"}, {\"StichtagDatJahr\": \"2013-01-01T00:00:00\", \"QuarSort\": 34, \"QuarCd\": 34, \"QuarLang\": \"Sihlfeld\", \"AnzBestWir\": 20931, \"AnzNat\": 114, \"StichtagDatJahr_str\": \"2013-01-01\"}, {\"StichtagDatJahr\": \"2013-01-01T00:00:00\", \"QuarSort\": 23, \"QuarCd\": 23, \"QuarLang\": \"Leimbach\", \"AnzBestWir\": 5730, \"AnzNat\": 90, \"StichtagDatJahr_str\": \"2013-01-01\"}, {\"StichtagDatJahr\": \"2013-01-01T00:00:00\", \"QuarSort\": 31, \"QuarCd\": 31, \"QuarLang\": \"Alt-Wiedikon\", \"AnzBestWir\": 16706, \"AnzNat\": 114, \"StichtagDatJahr_str\": \"2013-01-01\"}, {\"StichtagDatJahr\": \"2013-01-01T00:00:00\", \"QuarSort\": 24, \"QuarCd\": 24, \"QuarLang\": \"Enge\", \"AnzBestWir\": 8836, \"AnzNat\": 101, \"StichtagDatJahr_str\": \"2013-01-01\"}, {\"StichtagDatJahr\": \"2013-01-01T00:00:00\", \"QuarSort\": 21, \"QuarCd\": 21, \"QuarLang\": \"Wollishofen\", \"AnzBestWir\": 15937, \"AnzNat\": 108, \"StichtagDatJahr_str\": \"2013-01-01\"}, {\"StichtagDatJahr\": \"2013-01-01T00:00:00\", \"QuarSort\": 14, \"QuarCd\": 14, \"QuarLang\": \"City\", \"AnzBestWir\": 783, \"AnzNat\": 46, \"StichtagDatJahr_str\": \"2013-01-01\"}, {\"StichtagDatJahr\": \"2013-01-01T00:00:00\", \"QuarSort\": 13, \"QuarCd\": 13, \"QuarLang\": \"Lindenhof\", \"AnzBestWir\": 923, \"AnzNat\": 44, \"StichtagDatJahr_str\": \"2013-01-01\"}, {\"StichtagDatJahr\": \"2013-01-01T00:00:00\", \"QuarSort\": 12, \"QuarCd\": 12, \"QuarLang\": \"Hochschulen\", \"AnzBestWir\": 665, \"AnzNat\": 37, \"StichtagDatJahr_str\": \"2013-01-01\"}, {\"StichtagDatJahr\": \"2013-01-01T00:00:00\", \"QuarSort\": 71, \"QuarCd\": 71, \"QuarLang\": \"Fluntern\", \"AnzBestWir\": 7856, \"AnzNat\": 89, \"StichtagDatJahr_str\": \"2013-01-01\"}, {\"StichtagDatJahr\": \"2013-01-01T00:00:00\", \"QuarSort\": 63, \"QuarCd\": 63, \"QuarLang\": \"Oberstrass\", \"AnzBestWir\": 10452, \"AnzNat\": 98, \"StichtagDatJahr_str\": \"2013-01-01\"}, {\"StichtagDatJahr\": \"2013-01-01T00:00:00\", \"QuarSort\": 11, \"QuarCd\": 11, \"QuarLang\": \"Rathaus\", \"AnzBestWir\": 3194, \"AnzNat\": 81, \"StichtagDatJahr_str\": \"2013-01-01\"}, {\"StichtagDatJahr\": \"2013-01-01T00:00:00\", \"QuarSort\": 72, \"QuarCd\": 72, \"QuarLang\": \"Hottingen\", \"AnzBestWir\": 10708, \"AnzNat\": 97, \"StichtagDatJahr_str\": \"2013-01-01\"}, {\"StichtagDatJahr\": \"2013-01-01T00:00:00\", \"QuarSort\": 102, \"QuarCd\": 102, \"QuarLang\": \"Wipkingen\", \"AnzBestWir\": 15835, \"AnzNat\": 117, \"StichtagDatJahr_str\": \"2013-01-01\"}, {\"StichtagDatJahr\": \"2013-01-01T00:00:00\", \"QuarSort\": 73, \"QuarCd\": 73, \"QuarLang\": \"Hirslanden\", \"AnzBestWir\": 7285, \"AnzNat\": 84, \"StichtagDatJahr_str\": \"2013-01-01\"}, {\"StichtagDatJahr\": \"2013-01-01T00:00:00\", \"QuarSort\": 123, \"QuarCd\": 123, \"QuarLang\": \"Hirzenbach\", \"AnzBestWir\": 11153, \"AnzNat\": 107, \"StichtagDatJahr_str\": \"2013-01-01\"}, {\"StichtagDatJahr\": \"2013-01-01T00:00:00\", \"QuarSort\": 122, \"QuarCd\": 122, \"QuarLang\": \"Schwamendingen-Mitte\", \"AnzBestWir\": 11209, \"AnzNat\": 113, \"StichtagDatJahr_str\": \"2013-01-01\"}, {\"StichtagDatJahr\": \"2013-01-01T00:00:00\", \"QuarSort\": 121, \"QuarCd\": 121, \"QuarLang\": \"Saatlen\", \"AnzBestWir\": 7280, \"AnzNat\": 102, \"StichtagDatJahr_str\": \"2013-01-01\"}, {\"StichtagDatJahr\": \"2013-01-01T00:00:00\", \"QuarSort\": 115, \"QuarCd\": 115, \"QuarLang\": \"Oerlikon\", \"AnzBestWir\": 21658, \"AnzNat\": 132, \"StichtagDatJahr_str\": \"2013-01-01\"}, {\"StichtagDatJahr\": \"2013-01-01T00:00:00\", \"QuarSort\": 111, \"QuarCd\": 111, \"QuarLang\": \"Affoltern\", \"AnzBestWir\": 25082, \"AnzNat\": 122, \"StichtagDatJahr_str\": \"2013-01-01\"}, {\"StichtagDatJahr\": \"2013-01-01T00:00:00\", \"QuarSort\": 119, \"QuarCd\": 119, \"QuarLang\": \"Seebach\", \"AnzBestWir\": 24008, \"AnzNat\": 127, \"StichtagDatJahr_str\": \"2013-01-01\"}, {\"StichtagDatJahr\": \"2013-01-01T00:00:00\", \"QuarSort\": 101, \"QuarCd\": 101, \"QuarLang\": \"H\\u00f6ngg\", \"AnzBestWir\": 21581, \"AnzNat\": 106, \"StichtagDatJahr_str\": \"2013-01-01\"}, {\"StichtagDatJahr\": \"2013-01-01T00:00:00\", \"QuarSort\": 92, \"QuarCd\": 92, \"QuarLang\": \"Altstetten\", \"AnzBestWir\": 31115, \"AnzNat\": 129, \"StichtagDatJahr_str\": \"2013-01-01\"}, {\"StichtagDatJahr\": \"2013-01-01T00:00:00\", \"QuarSort\": 91, \"QuarCd\": 91, \"QuarLang\": \"Albisrieden\", \"AnzBestWir\": 19146, \"AnzNat\": 109, \"StichtagDatJahr_str\": \"2013-01-01\"}, {\"StichtagDatJahr\": \"2013-01-01T00:00:00\", \"QuarSort\": 83, \"QuarCd\": 83, \"QuarLang\": \"Weinegg\", \"AnzBestWir\": 5022, \"AnzNat\": 86, \"StichtagDatJahr_str\": \"2013-01-01\"}, {\"StichtagDatJahr\": \"2013-01-01T00:00:00\", \"QuarSort\": 82, \"QuarCd\": 82, \"QuarLang\": \"M\\u00fchlebach\", \"AnzBestWir\": 5912, \"AnzNat\": 93, \"StichtagDatJahr_str\": \"2013-01-01\"}, {\"StichtagDatJahr\": \"2013-01-01T00:00:00\", \"QuarSort\": 81, \"QuarCd\": 81, \"QuarLang\": \"Seefeld\", \"AnzBestWir\": 4978, \"AnzNat\": 82, \"StichtagDatJahr_str\": \"2013-01-01\"}, {\"StichtagDatJahr\": \"2013-01-01T00:00:00\", \"QuarSort\": 74, \"QuarCd\": 74, \"QuarLang\": \"Witikon\", \"AnzBestWir\": 10267, \"AnzNat\": 98, \"StichtagDatJahr_str\": \"2013-01-01\"}, {\"StichtagDatJahr\": \"2012-01-01T00:00:00\", \"QuarSort\": 33, \"QuarCd\": 33, \"QuarLang\": \"Friesenberg\", \"AnzBestWir\": 10986, \"AnzNat\": 115, \"StichtagDatJahr_str\": \"2012-01-01\"}, {\"StichtagDatJahr\": \"2012-01-01T00:00:00\", \"QuarSort\": 61, \"QuarCd\": 61, \"QuarLang\": \"Unterstrass\", \"AnzBestWir\": 21442, \"AnzNat\": 124, \"StichtagDatJahr_str\": \"2012-01-01\"}, {\"StichtagDatJahr\": \"2012-01-01T00:00:00\", \"QuarSort\": 52, \"QuarCd\": 52, \"QuarLang\": \"Escher Wyss\", \"AnzBestWir\": 3343, \"AnzNat\": 69, \"StichtagDatJahr_str\": \"2012-01-01\"}, {\"StichtagDatJahr\": \"2012-01-01T00:00:00\", \"QuarSort\": 51, \"QuarCd\": 51, \"QuarLang\": \"Gewerbeschule\", \"AnzBestWir\": 9824, \"AnzNat\": 110, \"StichtagDatJahr_str\": \"2012-01-01\"}, {\"StichtagDatJahr\": \"2012-01-01T00:00:00\", \"QuarSort\": 44, \"QuarCd\": 44, \"QuarLang\": \"Hard\", \"AnzBestWir\": 12994, \"AnzNat\": 114, \"StichtagDatJahr_str\": \"2012-01-01\"}, {\"StichtagDatJahr\": \"2012-01-01T00:00:00\", \"QuarSort\": 42, \"QuarCd\": 42, \"QuarLang\": \"Langstrasse\", \"AnzBestWir\": 10560, \"AnzNat\": 109, \"StichtagDatJahr_str\": \"2012-01-01\"}, {\"StichtagDatJahr\": \"2012-01-01T00:00:00\", \"QuarSort\": 41, \"QuarCd\": 41, \"QuarLang\": \"Werd\", \"AnzBestWir\": 4195, \"AnzNat\": 86, \"StichtagDatJahr_str\": \"2012-01-01\"}, {\"StichtagDatJahr\": \"2012-01-01T00:00:00\", \"QuarSort\": 34, \"QuarCd\": 34, \"QuarLang\": \"Sihlfeld\", \"AnzBestWir\": 20831, \"AnzNat\": 115, \"StichtagDatJahr_str\": \"2012-01-01\"}, {\"StichtagDatJahr\": \"2012-01-01T00:00:00\", \"QuarSort\": 11, \"QuarCd\": 11, \"QuarLang\": \"Rathaus\", \"AnzBestWir\": 3164, \"AnzNat\": 79, \"StichtagDatJahr_str\": \"2012-01-01\"}, {\"StichtagDatJahr\": \"2012-01-01T00:00:00\", \"QuarSort\": 31, \"QuarCd\": 31, \"QuarLang\": \"Alt-Wiedikon\", \"AnzBestWir\": 16109, \"AnzNat\": 111, \"StichtagDatJahr_str\": \"2012-01-01\"}, {\"StichtagDatJahr\": \"2012-01-01T00:00:00\", \"QuarSort\": 24, \"QuarCd\": 24, \"QuarLang\": \"Enge\", \"AnzBestWir\": 8702, \"AnzNat\": 100, \"StichtagDatJahr_str\": \"2012-01-01\"}, {\"StichtagDatJahr\": \"2012-01-01T00:00:00\", \"QuarSort\": 23, \"QuarCd\": 23, \"QuarLang\": \"Leimbach\", \"AnzBestWir\": 5354, \"AnzNat\": 83, \"StichtagDatJahr_str\": \"2012-01-01\"}, {\"StichtagDatJahr\": \"2012-01-01T00:00:00\", \"QuarSort\": 21, \"QuarCd\": 21, \"QuarLang\": \"Wollishofen\", \"AnzBestWir\": 16029, \"AnzNat\": 110, \"StichtagDatJahr_str\": \"2012-01-01\"}, {\"StichtagDatJahr\": \"2012-01-01T00:00:00\", \"QuarSort\": 14, \"QuarCd\": 14, \"QuarLang\": \"City\", \"AnzBestWir\": 799, \"AnzNat\": 44, \"StichtagDatJahr_str\": \"2012-01-01\"}, {\"StichtagDatJahr\": \"2012-01-01T00:00:00\", \"QuarSort\": 13, \"QuarCd\": 13, \"QuarLang\": \"Lindenhof\", \"AnzBestWir\": 935, \"AnzNat\": 42, \"StichtagDatJahr_str\": \"2012-01-01\"}, {\"StichtagDatJahr\": \"2012-01-01T00:00:00\", \"QuarSort\": 12, \"QuarCd\": 12, \"QuarLang\": \"Hochschulen\", \"AnzBestWir\": 673, \"AnzNat\": 44, \"StichtagDatJahr_str\": \"2012-01-01\"}, {\"StichtagDatJahr\": \"2012-01-01T00:00:00\", \"QuarSort\": 63, \"QuarCd\": 63, \"QuarLang\": \"Oberstrass\", \"AnzBestWir\": 10308, \"AnzNat\": 103, \"StichtagDatJahr_str\": \"2012-01-01\"}, {\"StichtagDatJahr\": \"2012-01-01T00:00:00\", \"QuarSort\": 71, \"QuarCd\": 71, \"QuarLang\": \"Fluntern\", \"AnzBestWir\": 7779, \"AnzNat\": 90, \"StichtagDatJahr_str\": \"2012-01-01\"}, {\"StichtagDatJahr\": \"2012-01-01T00:00:00\", \"QuarSort\": 72, \"QuarCd\": 72, \"QuarLang\": \"Hottingen\", \"AnzBestWir\": 10447, \"AnzNat\": 99, \"StichtagDatJahr_str\": \"2012-01-01\"}, {\"StichtagDatJahr\": \"2012-01-01T00:00:00\", \"QuarSort\": 102, \"QuarCd\": 102, \"QuarLang\": \"Wipkingen\", \"AnzBestWir\": 15791, \"AnzNat\": 116, \"StichtagDatJahr_str\": \"2012-01-01\"}, {\"StichtagDatJahr\": \"2012-01-01T00:00:00\", \"QuarSort\": 73, \"QuarCd\": 73, \"QuarLang\": \"Hirslanden\", \"AnzBestWir\": 7131, \"AnzNat\": 82, \"StichtagDatJahr_str\": \"2012-01-01\"}, {\"StichtagDatJahr\": \"2012-01-01T00:00:00\", \"QuarSort\": 123, \"QuarCd\": 123, \"QuarLang\": \"Hirzenbach\", \"AnzBestWir\": 11404, \"AnzNat\": 111, \"StichtagDatJahr_str\": \"2012-01-01\"}, {\"StichtagDatJahr\": \"2012-01-01T00:00:00\", \"QuarSort\": 122, \"QuarCd\": 122, \"QuarLang\": \"Schwamendingen-Mitte\", \"AnzBestWir\": 10934, \"AnzNat\": 114, \"StichtagDatJahr_str\": \"2012-01-01\"}, {\"StichtagDatJahr\": \"2012-01-01T00:00:00\", \"QuarSort\": 121, \"QuarCd\": 121, \"QuarLang\": \"Saatlen\", \"AnzBestWir\": 7118, \"AnzNat\": 98, \"StichtagDatJahr_str\": \"2012-01-01\"}, {\"StichtagDatJahr\": \"2012-01-01T00:00:00\", \"QuarSort\": 115, \"QuarCd\": 115, \"QuarLang\": \"Oerlikon\", \"AnzBestWir\": 21331, \"AnzNat\": 129, \"StichtagDatJahr_str\": \"2012-01-01\"}, {\"StichtagDatJahr\": \"2012-01-01T00:00:00\", \"QuarSort\": 111, \"QuarCd\": 111, \"QuarLang\": \"Affoltern\", \"AnzBestWir\": 24855, \"AnzNat\": 122, \"StichtagDatJahr_str\": \"2012-01-01\"}, {\"StichtagDatJahr\": \"2012-01-01T00:00:00\", \"QuarSort\": 119, \"QuarCd\": 119, \"QuarLang\": \"Seebach\", \"AnzBestWir\": 23310, \"AnzNat\": 126, \"StichtagDatJahr_str\": \"2012-01-01\"}, {\"StichtagDatJahr\": \"2012-01-01T00:00:00\", \"QuarSort\": 101, \"QuarCd\": 101, \"QuarLang\": \"H\\u00f6ngg\", \"AnzBestWir\": 21537, \"AnzNat\": 111, \"StichtagDatJahr_str\": \"2012-01-01\"}, {\"StichtagDatJahr\": \"2012-01-01T00:00:00\", \"QuarSort\": 92, \"QuarCd\": 92, \"QuarLang\": \"Altstetten\", \"AnzBestWir\": 31438, \"AnzNat\": 132, \"StichtagDatJahr_str\": \"2012-01-01\"}, {\"StichtagDatJahr\": \"2012-01-01T00:00:00\", \"QuarSort\": 91, \"QuarCd\": 91, \"QuarLang\": \"Albisrieden\", \"AnzBestWir\": 18999, \"AnzNat\": 115, \"StichtagDatJahr_str\": \"2012-01-01\"}, {\"StichtagDatJahr\": \"2012-01-01T00:00:00\", \"QuarSort\": 83, \"QuarCd\": 83, \"QuarLang\": \"Weinegg\", \"AnzBestWir\": 4783, \"AnzNat\": 81, \"StichtagDatJahr_str\": \"2012-01-01\"}, {\"StichtagDatJahr\": \"2012-01-01T00:00:00\", \"QuarSort\": 82, \"QuarCd\": 82, \"QuarLang\": \"M\\u00fchlebach\", \"AnzBestWir\": 5745, \"AnzNat\": 91, \"StichtagDatJahr_str\": \"2012-01-01\"}, {\"StichtagDatJahr\": \"2012-01-01T00:00:00\", \"QuarSort\": 81, \"QuarCd\": 81, \"QuarLang\": \"Seefeld\", \"AnzBestWir\": 4916, \"AnzNat\": 77, \"StichtagDatJahr_str\": \"2012-01-01\"}, {\"StichtagDatJahr\": \"2012-01-01T00:00:00\", \"QuarSort\": 74, \"QuarCd\": 74, \"QuarLang\": \"Witikon\", \"AnzBestWir\": 10246, \"AnzNat\": 101, \"StichtagDatJahr_str\": \"2012-01-01\"}, {\"StichtagDatJahr\": \"2011-01-01T00:00:00\", \"QuarSort\": 33, \"QuarCd\": 33, \"QuarLang\": \"Friesenberg\", \"AnzBestWir\": 10622, \"AnzNat\": 101, \"StichtagDatJahr_str\": \"2011-01-01\"}, {\"StichtagDatJahr\": \"2011-01-01T00:00:00\", \"QuarSort\": 61, \"QuarCd\": 61, \"QuarLang\": \"Unterstrass\", \"AnzBestWir\": 21240, \"AnzNat\": 122, \"StichtagDatJahr_str\": \"2011-01-01\"}, {\"StichtagDatJahr\": \"2011-01-01T00:00:00\", \"QuarSort\": 52, \"QuarCd\": 52, \"QuarLang\": \"Escher Wyss\", \"AnzBestWir\": 3129, \"AnzNat\": 68, \"StichtagDatJahr_str\": \"2011-01-01\"}, {\"StichtagDatJahr\": \"2011-01-01T00:00:00\", \"QuarSort\": 51, \"QuarCd\": 51, \"QuarLang\": \"Gewerbeschule\", \"AnzBestWir\": 9795, \"AnzNat\": 111, \"StichtagDatJahr_str\": \"2011-01-01\"}, {\"StichtagDatJahr\": \"2011-01-01T00:00:00\", \"QuarSort\": 44, \"QuarCd\": 44, \"QuarLang\": \"Hard\", \"AnzBestWir\": 12744, \"AnzNat\": 112, \"StichtagDatJahr_str\": \"2011-01-01\"}, {\"StichtagDatJahr\": \"2011-01-01T00:00:00\", \"QuarSort\": 42, \"QuarCd\": 42, \"QuarLang\": \"Langstrasse\", \"AnzBestWir\": 10520, \"AnzNat\": 111, \"StichtagDatJahr_str\": \"2011-01-01\"}, {\"StichtagDatJahr\": \"2011-01-01T00:00:00\", \"QuarSort\": 41, \"QuarCd\": 41, \"QuarLang\": \"Werd\", \"AnzBestWir\": 4189, \"AnzNat\": 91, \"StichtagDatJahr_str\": \"2011-01-01\"}, {\"StichtagDatJahr\": \"2011-01-01T00:00:00\", \"QuarSort\": 34, \"QuarCd\": 34, \"QuarLang\": \"Sihlfeld\", \"AnzBestWir\": 20307, \"AnzNat\": 117, \"StichtagDatJahr_str\": \"2011-01-01\"}, {\"StichtagDatJahr\": \"2011-01-01T00:00:00\", \"QuarSort\": 71, \"QuarCd\": 71, \"QuarLang\": \"Fluntern\", \"AnzBestWir\": 7873, \"AnzNat\": 93, \"StichtagDatJahr_str\": \"2011-01-01\"}, {\"StichtagDatJahr\": \"2011-01-01T00:00:00\", \"QuarSort\": 31, \"QuarCd\": 31, \"QuarLang\": \"Alt-Wiedikon\", \"AnzBestWir\": 16014, \"AnzNat\": 115, \"StichtagDatJahr_str\": \"2011-01-01\"}, {\"StichtagDatJahr\": \"2011-01-01T00:00:00\", \"QuarSort\": 24, \"QuarCd\": 24, \"QuarLang\": \"Enge\", \"AnzBestWir\": 8684, \"AnzNat\": 96, \"StichtagDatJahr_str\": \"2011-01-01\"}, {\"StichtagDatJahr\": \"2011-01-01T00:00:00\", \"QuarSort\": 23, \"QuarCd\": 23, \"QuarLang\": \"Leimbach\", \"AnzBestWir\": 5340, \"AnzNat\": 81, \"StichtagDatJahr_str\": \"2011-01-01\"}, {\"StichtagDatJahr\": \"2011-01-01T00:00:00\", \"QuarSort\": 21, \"QuarCd\": 21, \"QuarLang\": \"Wollishofen\", \"AnzBestWir\": 16055, \"AnzNat\": 110, \"StichtagDatJahr_str\": \"2011-01-01\"}, {\"StichtagDatJahr\": \"2011-01-01T00:00:00\", \"QuarSort\": 14, \"QuarCd\": 14, \"QuarLang\": \"City\", \"AnzBestWir\": 779, \"AnzNat\": 43, \"StichtagDatJahr_str\": \"2011-01-01\"}, {\"StichtagDatJahr\": \"2011-01-01T00:00:00\", \"QuarSort\": 13, \"QuarCd\": 13, \"QuarLang\": \"Lindenhof\", \"AnzBestWir\": 950, \"AnzNat\": 45, \"StichtagDatJahr_str\": \"2011-01-01\"}, {\"StichtagDatJahr\": \"2011-01-01T00:00:00\", \"QuarSort\": 12, \"QuarCd\": 12, \"QuarLang\": \"Hochschulen\", \"AnzBestWir\": 681, \"AnzNat\": 39, \"StichtagDatJahr_str\": \"2011-01-01\"}, {\"StichtagDatJahr\": \"2011-01-01T00:00:00\", \"QuarSort\": 63, \"QuarCd\": 63, \"QuarLang\": \"Oberstrass\", \"AnzBestWir\": 10316, \"AnzNat\": 101, \"StichtagDatJahr_str\": \"2011-01-01\"}, {\"StichtagDatJahr\": \"2011-01-01T00:00:00\", \"QuarSort\": 11, \"QuarCd\": 11, \"QuarLang\": \"Rathaus\", \"AnzBestWir\": 3140, \"AnzNat\": 77, \"StichtagDatJahr_str\": \"2011-01-01\"}, {\"StichtagDatJahr\": \"2011-01-01T00:00:00\", \"QuarSort\": 72, \"QuarCd\": 72, \"QuarLang\": \"Hottingen\", \"AnzBestWir\": 10461, \"AnzNat\": 96, \"StichtagDatJahr_str\": \"2011-01-01\"}, {\"StichtagDatJahr\": \"2011-01-01T00:00:00\", \"QuarSort\": 102, \"QuarCd\": 102, \"QuarLang\": \"Wipkingen\", \"AnzBestWir\": 15869, \"AnzNat\": 114, \"StichtagDatJahr_str\": \"2011-01-01\"}, {\"StichtagDatJahr\": \"2011-01-01T00:00:00\", \"QuarSort\": 73, \"QuarCd\": 73, \"QuarLang\": \"Hirslanden\", \"AnzBestWir\": 7024, \"AnzNat\": 90, \"StichtagDatJahr_str\": \"2011-01-01\"}, {\"StichtagDatJahr\": \"2011-01-01T00:00:00\", \"QuarSort\": 123, \"QuarCd\": 123, \"QuarLang\": \"Hirzenbach\", \"AnzBestWir\": 11516, \"AnzNat\": 110, \"StichtagDatJahr_str\": \"2011-01-01\"}, {\"StichtagDatJahr\": \"2011-01-01T00:00:00\", \"QuarSort\": 122, \"QuarCd\": 122, \"QuarLang\": \"Schwamendingen-Mitte\", \"AnzBestWir\": 10863, \"AnzNat\": 110, \"StichtagDatJahr_str\": \"2011-01-01\"}, {\"StichtagDatJahr\": \"2011-01-01T00:00:00\", \"QuarSort\": 121, \"QuarCd\": 121, \"QuarLang\": \"Saatlen\", \"AnzBestWir\": 7131, \"AnzNat\": 95, \"StichtagDatJahr_str\": \"2011-01-01\"}, {\"StichtagDatJahr\": \"2011-01-01T00:00:00\", \"QuarSort\": 115, \"QuarCd\": 115, \"QuarLang\": \"Oerlikon\", \"AnzBestWir\": 21253, \"AnzNat\": 127, \"StichtagDatJahr_str\": \"2011-01-01\"}, {\"StichtagDatJahr\": \"2011-01-01T00:00:00\", \"QuarSort\": 111, \"QuarCd\": 111, \"QuarLang\": \"Affoltern\", \"AnzBestWir\": 24437, \"AnzNat\": 123, \"StichtagDatJahr_str\": \"2011-01-01\"}, {\"StichtagDatJahr\": \"2011-01-01T00:00:00\", \"QuarSort\": 119, \"QuarCd\": 119, \"QuarLang\": \"Seebach\", \"AnzBestWir\": 22255, \"AnzNat\": 131, \"StichtagDatJahr_str\": \"2011-01-01\"}, {\"StichtagDatJahr\": \"2011-01-01T00:00:00\", \"QuarSort\": 101, \"QuarCd\": 101, \"QuarLang\": \"H\\u00f6ngg\", \"AnzBestWir\": 21323, \"AnzNat\": 107, \"StichtagDatJahr_str\": \"2011-01-01\"}, {\"StichtagDatJahr\": \"2011-01-01T00:00:00\", \"QuarSort\": 92, \"QuarCd\": 92, \"QuarLang\": \"Altstetten\", \"AnzBestWir\": 31381, \"AnzNat\": 131, \"StichtagDatJahr_str\": \"2011-01-01\"}, {\"StichtagDatJahr\": \"2011-01-01T00:00:00\", \"QuarSort\": 91, \"QuarCd\": 91, \"QuarLang\": \"Albisrieden\", \"AnzBestWir\": 18432, \"AnzNat\": 118, \"StichtagDatJahr_str\": \"2011-01-01\"}, {\"StichtagDatJahr\": \"2011-01-01T00:00:00\", \"QuarSort\": 83, \"QuarCd\": 83, \"QuarLang\": \"Weinegg\", \"AnzBestWir\": 4942, \"AnzNat\": 85, \"StichtagDatJahr_str\": \"2011-01-01\"}, {\"StichtagDatJahr\": \"2011-01-01T00:00:00\", \"QuarSort\": 82, \"QuarCd\": 82, \"QuarLang\": \"M\\u00fchlebach\", \"AnzBestWir\": 5651, \"AnzNat\": 88, \"StichtagDatJahr_str\": \"2011-01-01\"}, {\"StichtagDatJahr\": \"2011-01-01T00:00:00\", \"QuarSort\": 81, \"QuarCd\": 81, \"QuarLang\": \"Seefeld\", \"AnzBestWir\": 4908, \"AnzNat\": 75, \"StichtagDatJahr_str\": \"2011-01-01\"}, {\"StichtagDatJahr\": \"2011-01-01T00:00:00\", \"QuarSort\": 74, \"QuarCd\": 74, \"QuarLang\": \"Witikon\", \"AnzBestWir\": 10258, \"AnzNat\": 97, \"StichtagDatJahr_str\": \"2011-01-01\"}, {\"StichtagDatJahr\": \"2010-01-01T00:00:00\", \"QuarSort\": 33, \"QuarCd\": 33, \"QuarLang\": \"Friesenberg\", \"AnzBestWir\": 10596, \"AnzNat\": 99, \"StichtagDatJahr_str\": \"2010-01-01\"}, {\"StichtagDatJahr\": \"2010-01-01T00:00:00\", \"QuarSort\": 61, \"QuarCd\": 61, \"QuarLang\": \"Unterstrass\", \"AnzBestWir\": 21233, \"AnzNat\": 121, \"StichtagDatJahr_str\": \"2010-01-01\"}, {\"StichtagDatJahr\": \"2010-01-01T00:00:00\", \"QuarSort\": 52, \"QuarCd\": 52, \"QuarLang\": \"Escher Wyss\", \"AnzBestWir\": 3076, \"AnzNat\": 66, \"StichtagDatJahr_str\": \"2010-01-01\"}, {\"StichtagDatJahr\": \"2010-01-01T00:00:00\", \"QuarSort\": 51, \"QuarCd\": 51, \"QuarLang\": \"Gewerbeschule\", \"AnzBestWir\": 9688, \"AnzNat\": 112, \"StichtagDatJahr_str\": \"2010-01-01\"}, {\"StichtagDatJahr\": \"2010-01-01T00:00:00\", \"QuarSort\": 44, \"QuarCd\": 44, \"QuarLang\": \"Hard\", \"AnzBestWir\": 12883, \"AnzNat\": 108, \"StichtagDatJahr_str\": \"2010-01-01\"}, {\"StichtagDatJahr\": \"2010-01-01T00:00:00\", \"QuarSort\": 42, \"QuarCd\": 42, \"QuarLang\": \"Langstrasse\", \"AnzBestWir\": 10379, \"AnzNat\": 111, \"StichtagDatJahr_str\": \"2010-01-01\"}, {\"StichtagDatJahr\": \"2010-01-01T00:00:00\", \"QuarSort\": 41, \"QuarCd\": 41, \"QuarLang\": \"Werd\", \"AnzBestWir\": 4167, \"AnzNat\": 86, \"StichtagDatJahr_str\": \"2010-01-01\"}, {\"StichtagDatJahr\": \"2010-01-01T00:00:00\", \"QuarSort\": 34, \"QuarCd\": 34, \"QuarLang\": \"Sihlfeld\", \"AnzBestWir\": 20115, \"AnzNat\": 114, \"StichtagDatJahr_str\": \"2010-01-01\"}, {\"StichtagDatJahr\": \"2010-01-01T00:00:00\", \"QuarSort\": 11, \"QuarCd\": 11, \"QuarLang\": \"Rathaus\", \"AnzBestWir\": 3099, \"AnzNat\": 80, \"StichtagDatJahr_str\": \"2010-01-01\"}, {\"StichtagDatJahr\": \"2010-01-01T00:00:00\", \"QuarSort\": 31, \"QuarCd\": 31, \"QuarLang\": \"Alt-Wiedikon\", \"AnzBestWir\": 15988, \"AnzNat\": 113, \"StichtagDatJahr_str\": \"2010-01-01\"}, {\"StichtagDatJahr\": \"2010-01-01T00:00:00\", \"QuarSort\": 24, \"QuarCd\": 24, \"QuarLang\": \"Enge\", \"AnzBestWir\": 8597, \"AnzNat\": 95, \"StichtagDatJahr_str\": \"2010-01-01\"}, {\"StichtagDatJahr\": \"2010-01-01T00:00:00\", \"QuarSort\": 23, \"QuarCd\": 23, \"QuarLang\": \"Leimbach\", \"AnzBestWir\": 5293, \"AnzNat\": 76, \"StichtagDatJahr_str\": \"2010-01-01\"}, {\"StichtagDatJahr\": \"2010-01-01T00:00:00\", \"QuarSort\": 21, \"QuarCd\": 21, \"QuarLang\": \"Wollishofen\", \"AnzBestWir\": 15988, \"AnzNat\": 109, \"StichtagDatJahr_str\": \"2010-01-01\"}, {\"StichtagDatJahr\": \"2010-01-01T00:00:00\", \"QuarSort\": 14, \"QuarCd\": 14, \"QuarLang\": \"City\", \"AnzBestWir\": 835, \"AnzNat\": 44, \"StichtagDatJahr_str\": \"2010-01-01\"}, {\"StichtagDatJahr\": \"2010-01-01T00:00:00\", \"QuarSort\": 13, \"QuarCd\": 13, \"QuarLang\": \"Lindenhof\", \"AnzBestWir\": 951, \"AnzNat\": 43, \"StichtagDatJahr_str\": \"2010-01-01\"}, {\"StichtagDatJahr\": \"2010-01-01T00:00:00\", \"QuarSort\": 12, \"QuarCd\": 12, \"QuarLang\": \"Hochschulen\", \"AnzBestWir\": 678, \"AnzNat\": 43, \"StichtagDatJahr_str\": \"2010-01-01\"}, {\"StichtagDatJahr\": \"2010-01-01T00:00:00\", \"QuarSort\": 63, \"QuarCd\": 63, \"QuarLang\": \"Oberstrass\", \"AnzBestWir\": 10231, \"AnzNat\": 103, \"StichtagDatJahr_str\": \"2010-01-01\"}, {\"StichtagDatJahr\": \"2010-01-01T00:00:00\", \"QuarSort\": 71, \"QuarCd\": 71, \"QuarLang\": \"Fluntern\", \"AnzBestWir\": 7637, \"AnzNat\": 87, \"StichtagDatJahr_str\": \"2010-01-01\"}, {\"StichtagDatJahr\": \"2010-01-01T00:00:00\", \"QuarSort\": 72, \"QuarCd\": 72, \"QuarLang\": \"Hottingen\", \"AnzBestWir\": 10570, \"AnzNat\": 101, \"StichtagDatJahr_str\": \"2010-01-01\"}, {\"StichtagDatJahr\": \"2010-01-01T00:00:00\", \"QuarSort\": 102, \"QuarCd\": 102, \"QuarLang\": \"Wipkingen\", \"AnzBestWir\": 15700, \"AnzNat\": 112, \"StichtagDatJahr_str\": \"2010-01-01\"}, {\"StichtagDatJahr\": \"2010-01-01T00:00:00\", \"QuarSort\": 73, \"QuarCd\": 73, \"QuarLang\": \"Hirslanden\", \"AnzBestWir\": 6998, \"AnzNat\": 85, \"StichtagDatJahr_str\": \"2010-01-01\"}, {\"StichtagDatJahr\": \"2010-01-01T00:00:00\", \"QuarSort\": 123, \"QuarCd\": 123, \"QuarLang\": \"Hirzenbach\", \"AnzBestWir\": 11459, \"AnzNat\": 107, \"StichtagDatJahr_str\": \"2010-01-01\"}, {\"StichtagDatJahr\": \"2010-01-01T00:00:00\", \"QuarSort\": 122, \"QuarCd\": 122, \"QuarLang\": \"Schwamendingen-Mitte\", \"AnzBestWir\": 10903, \"AnzNat\": 113, \"StichtagDatJahr_str\": \"2010-01-01\"}, {\"StichtagDatJahr\": \"2010-01-01T00:00:00\", \"QuarSort\": 121, \"QuarCd\": 121, \"QuarLang\": \"Saatlen\", \"AnzBestWir\": 7175, \"AnzNat\": 93, \"StichtagDatJahr_str\": \"2010-01-01\"}, {\"StichtagDatJahr\": \"2010-01-01T00:00:00\", \"QuarSort\": 115, \"QuarCd\": 115, \"QuarLang\": \"Oerlikon\", \"AnzBestWir\": 20787, \"AnzNat\": 124, \"StichtagDatJahr_str\": \"2010-01-01\"}, {\"StichtagDatJahr\": \"2010-01-01T00:00:00\", \"QuarSort\": 111, \"QuarCd\": 111, \"QuarLang\": \"Affoltern\", \"AnzBestWir\": 22972, \"AnzNat\": 117, \"StichtagDatJahr_str\": \"2010-01-01\"}, {\"StichtagDatJahr\": \"2010-01-01T00:00:00\", \"QuarSort\": 119, \"QuarCd\": 119, \"QuarLang\": \"Seebach\", \"AnzBestWir\": 22037, \"AnzNat\": 126, \"StichtagDatJahr_str\": \"2010-01-01\"}, {\"StichtagDatJahr\": \"2010-01-01T00:00:00\", \"QuarSort\": 101, \"QuarCd\": 101, \"QuarLang\": \"H\\u00f6ngg\", \"AnzBestWir\": 21179, \"AnzNat\": 105, \"StichtagDatJahr_str\": \"2010-01-01\"}, {\"StichtagDatJahr\": \"2010-01-01T00:00:00\", \"QuarSort\": 92, \"QuarCd\": 92, \"QuarLang\": \"Altstetten\", \"AnzBestWir\": 30659, \"AnzNat\": 129, \"StichtagDatJahr_str\": \"2010-01-01\"}, {\"StichtagDatJahr\": \"2010-01-01T00:00:00\", \"QuarSort\": 91, \"QuarCd\": 91, \"QuarLang\": \"Albisrieden\", \"AnzBestWir\": 17835, \"AnzNat\": 111, \"StichtagDatJahr_str\": \"2010-01-01\"}, {\"StichtagDatJahr\": \"2010-01-01T00:00:00\", \"QuarSort\": 83, \"QuarCd\": 83, \"QuarLang\": \"Weinegg\", \"AnzBestWir\": 4999, \"AnzNat\": 84, \"StichtagDatJahr_str\": \"2010-01-01\"}, {\"StichtagDatJahr\": \"2010-01-01T00:00:00\", \"QuarSort\": 82, \"QuarCd\": 82, \"QuarLang\": \"M\\u00fchlebach\", \"AnzBestWir\": 5679, \"AnzNat\": 85, \"StichtagDatJahr_str\": \"2010-01-01\"}, {\"StichtagDatJahr\": \"2010-01-01T00:00:00\", \"QuarSort\": 81, \"QuarCd\": 81, \"QuarLang\": \"Seefeld\", \"AnzBestWir\": 4840, \"AnzNat\": 78, \"StichtagDatJahr_str\": \"2010-01-01\"}, {\"StichtagDatJahr\": \"2010-01-01T00:00:00\", \"QuarSort\": 74, \"QuarCd\": 74, \"QuarLang\": \"Witikon\", \"AnzBestWir\": 10242, \"AnzNat\": 94, \"StichtagDatJahr_str\": \"2010-01-01\"}, {\"StichtagDatJahr\": \"2009-01-01T00:00:00\", \"QuarSort\": 33, \"QuarCd\": 33, \"QuarLang\": \"Friesenberg\", \"AnzBestWir\": 11003, \"AnzNat\": 107, \"StichtagDatJahr_str\": \"2009-01-01\"}, {\"StichtagDatJahr\": \"2009-01-01T00:00:00\", \"QuarSort\": 61, \"QuarCd\": 61, \"QuarLang\": \"Unterstrass\", \"AnzBestWir\": 21080, \"AnzNat\": 122, \"StichtagDatJahr_str\": \"2009-01-01\"}, {\"StichtagDatJahr\": \"2009-01-01T00:00:00\", \"QuarSort\": 52, \"QuarCd\": 52, \"QuarLang\": \"Escher Wyss\", \"AnzBestWir\": 3060, \"AnzNat\": 65, \"StichtagDatJahr_str\": \"2009-01-01\"}, {\"StichtagDatJahr\": \"2009-01-01T00:00:00\", \"QuarSort\": 51, \"QuarCd\": 51, \"QuarLang\": \"Gewerbeschule\", \"AnzBestWir\": 9717, \"AnzNat\": 105, \"StichtagDatJahr_str\": \"2009-01-01\"}, {\"StichtagDatJahr\": \"2009-01-01T00:00:00\", \"QuarSort\": 44, \"QuarCd\": 44, \"QuarLang\": \"Hard\", \"AnzBestWir\": 12902, \"AnzNat\": 106, \"StichtagDatJahr_str\": \"2009-01-01\"}, {\"StichtagDatJahr\": \"2009-01-01T00:00:00\", \"QuarSort\": 42, \"QuarCd\": 42, \"QuarLang\": \"Langstrasse\", \"AnzBestWir\": 10392, \"AnzNat\": 109, \"StichtagDatJahr_str\": \"2009-01-01\"}, {\"StichtagDatJahr\": \"2009-01-01T00:00:00\", \"QuarSort\": 41, \"QuarCd\": 41, \"QuarLang\": \"Werd\", \"AnzBestWir\": 4104, \"AnzNat\": 83, \"StichtagDatJahr_str\": \"2009-01-01\"}, {\"StichtagDatJahr\": \"2009-01-01T00:00:00\", \"QuarSort\": 34, \"QuarCd\": 34, \"QuarLang\": \"Sihlfeld\", \"AnzBestWir\": 20464, \"AnzNat\": 113, \"StichtagDatJahr_str\": \"2009-01-01\"}, {\"StichtagDatJahr\": \"2009-01-01T00:00:00\", \"QuarSort\": 11, \"QuarCd\": 11, \"QuarLang\": \"Rathaus\", \"AnzBestWir\": 3110, \"AnzNat\": 79, \"StichtagDatJahr_str\": \"2009-01-01\"}, {\"StichtagDatJahr\": \"2009-01-01T00:00:00\", \"QuarSort\": 31, \"QuarCd\": 31, \"QuarLang\": \"Alt-Wiedikon\", \"AnzBestWir\": 15504, \"AnzNat\": 116, \"StichtagDatJahr_str\": \"2009-01-01\"}, {\"StichtagDatJahr\": \"2009-01-01T00:00:00\", \"QuarSort\": 24, \"QuarCd\": 24, \"QuarLang\": \"Enge\", \"AnzBestWir\": 8668, \"AnzNat\": 92, \"StichtagDatJahr_str\": \"2009-01-01\"}, {\"StichtagDatJahr\": \"2009-01-01T00:00:00\", \"QuarSort\": 23, \"QuarCd\": 23, \"QuarLang\": \"Leimbach\", \"AnzBestWir\": 5287, \"AnzNat\": 77, \"StichtagDatJahr_str\": \"2009-01-01\"}, {\"StichtagDatJahr\": \"2009-01-01T00:00:00\", \"QuarSort\": 21, \"QuarCd\": 21, \"QuarLang\": \"Wollishofen\", \"AnzBestWir\": 15854, \"AnzNat\": 108, \"StichtagDatJahr_str\": \"2009-01-01\"}, {\"StichtagDatJahr\": \"2009-01-01T00:00:00\", \"QuarSort\": 14, \"QuarCd\": 14, \"QuarLang\": \"City\", \"AnzBestWir\": 853, \"AnzNat\": 43, \"StichtagDatJahr_str\": \"2009-01-01\"}, {\"StichtagDatJahr\": \"2009-01-01T00:00:00\", \"QuarSort\": 13, \"QuarCd\": 13, \"QuarLang\": \"Lindenhof\", \"AnzBestWir\": 940, \"AnzNat\": 38, \"StichtagDatJahr_str\": \"2009-01-01\"}, {\"StichtagDatJahr\": \"2009-01-01T00:00:00\", \"QuarSort\": 12, \"QuarCd\": 12, \"QuarLang\": \"Hochschulen\", \"AnzBestWir\": 673, \"AnzNat\": 47, \"StichtagDatJahr_str\": \"2009-01-01\"}, {\"StichtagDatJahr\": \"2009-01-01T00:00:00\", \"QuarSort\": 63, \"QuarCd\": 63, \"QuarLang\": \"Oberstrass\", \"AnzBestWir\": 10051, \"AnzNat\": 100, \"StichtagDatJahr_str\": \"2009-01-01\"}, {\"StichtagDatJahr\": \"2009-01-01T00:00:00\", \"QuarSort\": 71, \"QuarCd\": 71, \"QuarLang\": \"Fluntern\", \"AnzBestWir\": 7528, \"AnzNat\": 81, \"StichtagDatJahr_str\": \"2009-01-01\"}, {\"StichtagDatJahr\": \"2009-01-01T00:00:00\", \"QuarSort\": 72, \"QuarCd\": 72, \"QuarLang\": \"Hottingen\", \"AnzBestWir\": 10594, \"AnzNat\": 97, \"StichtagDatJahr_str\": \"2009-01-01\"}, {\"StichtagDatJahr\": \"2009-01-01T00:00:00\", \"QuarSort\": 102, \"QuarCd\": 102, \"QuarLang\": \"Wipkingen\", \"AnzBestWir\": 15645, \"AnzNat\": 113, \"StichtagDatJahr_str\": \"2009-01-01\"}, {\"StichtagDatJahr\": \"2009-01-01T00:00:00\", \"QuarSort\": 73, \"QuarCd\": 73, \"QuarLang\": \"Hirslanden\", \"AnzBestWir\": 6956, \"AnzNat\": 88, \"StichtagDatJahr_str\": \"2009-01-01\"}, {\"StichtagDatJahr\": \"2009-01-01T00:00:00\", \"QuarSort\": 123, \"QuarCd\": 123, \"QuarLang\": \"Hirzenbach\", \"AnzBestWir\": 11610, \"AnzNat\": 106, \"StichtagDatJahr_str\": \"2009-01-01\"}, {\"StichtagDatJahr\": \"2009-01-01T00:00:00\", \"QuarSort\": 122, \"QuarCd\": 122, \"QuarLang\": \"Schwamendingen-Mitte\", \"AnzBestWir\": 10857, \"AnzNat\": 109, \"StichtagDatJahr_str\": \"2009-01-01\"}, {\"StichtagDatJahr\": \"2009-01-01T00:00:00\", \"QuarSort\": 121, \"QuarCd\": 121, \"QuarLang\": \"Saatlen\", \"AnzBestWir\": 7132, \"AnzNat\": 90, \"StichtagDatJahr_str\": \"2009-01-01\"}, {\"StichtagDatJahr\": \"2009-01-01T00:00:00\", \"QuarSort\": 115, \"QuarCd\": 115, \"QuarLang\": \"Oerlikon\", \"AnzBestWir\": 20740, \"AnzNat\": 124, \"StichtagDatJahr_str\": \"2009-01-01\"}, {\"StichtagDatJahr\": \"2009-01-01T00:00:00\", \"QuarSort\": 111, \"QuarCd\": 111, \"QuarLang\": \"Affoltern\", \"AnzBestWir\": 22383, \"AnzNat\": 117, \"StichtagDatJahr_str\": \"2009-01-01\"}, {\"StichtagDatJahr\": \"2009-01-01T00:00:00\", \"QuarSort\": 119, \"QuarCd\": 119, \"QuarLang\": \"Seebach\", \"AnzBestWir\": 21489, \"AnzNat\": 122, \"StichtagDatJahr_str\": \"2009-01-01\"}, {\"StichtagDatJahr\": \"2009-01-01T00:00:00\", \"QuarSort\": 101, \"QuarCd\": 101, \"QuarLang\": \"H\\u00f6ngg\", \"AnzBestWir\": 21294, \"AnzNat\": 106, \"StichtagDatJahr_str\": \"2009-01-01\"}, {\"StichtagDatJahr\": \"2009-01-01T00:00:00\", \"QuarSort\": 92, \"QuarCd\": 92, \"QuarLang\": \"Altstetten\", \"AnzBestWir\": 29845, \"AnzNat\": 121, \"StichtagDatJahr_str\": \"2009-01-01\"}, {\"StichtagDatJahr\": \"2009-01-01T00:00:00\", \"QuarSort\": 91, \"QuarCd\": 91, \"QuarLang\": \"Albisrieden\", \"AnzBestWir\": 17675, \"AnzNat\": 112, \"StichtagDatJahr_str\": \"2009-01-01\"}, {\"StichtagDatJahr\": \"2009-01-01T00:00:00\", \"QuarSort\": 83, \"QuarCd\": 83, \"QuarLang\": \"Weinegg\", \"AnzBestWir\": 4935, \"AnzNat\": 76, \"StichtagDatJahr_str\": \"2009-01-01\"}, {\"StichtagDatJahr\": \"2009-01-01T00:00:00\", \"QuarSort\": 82, \"QuarCd\": 82, \"QuarLang\": \"M\\u00fchlebach\", \"AnzBestWir\": 5545, \"AnzNat\": 87, \"StichtagDatJahr_str\": \"2009-01-01\"}, {\"StichtagDatJahr\": \"2009-01-01T00:00:00\", \"QuarSort\": 81, \"QuarCd\": 81, \"QuarLang\": \"Seefeld\", \"AnzBestWir\": 4732, \"AnzNat\": 78, \"StichtagDatJahr_str\": \"2009-01-01\"}, {\"StichtagDatJahr\": \"2009-01-01T00:00:00\", \"QuarSort\": 74, \"QuarCd\": 74, \"QuarLang\": \"Witikon\", \"AnzBestWir\": 10284, \"AnzNat\": 98, \"StichtagDatJahr_str\": \"2009-01-01\"}, {\"StichtagDatJahr\": \"2008-01-01T00:00:00\", \"QuarSort\": 33, \"QuarCd\": 33, \"QuarLang\": \"Friesenberg\", \"AnzBestWir\": 10325, \"AnzNat\": 93, \"StichtagDatJahr_str\": \"2008-01-01\"}, {\"StichtagDatJahr\": \"2008-01-01T00:00:00\", \"QuarSort\": 61, \"QuarCd\": 61, \"QuarLang\": \"Unterstrass\", \"AnzBestWir\": 20655, \"AnzNat\": 116, \"StichtagDatJahr_str\": \"2008-01-01\"}, {\"StichtagDatJahr\": \"2008-01-01T00:00:00\", \"QuarSort\": 52, \"QuarCd\": 52, \"QuarLang\": \"Escher Wyss\", \"AnzBestWir\": 2971, \"AnzNat\": 70, \"StichtagDatJahr_str\": \"2008-01-01\"}, {\"StichtagDatJahr\": \"2008-01-01T00:00:00\", \"QuarSort\": 51, \"QuarCd\": 51, \"QuarLang\": \"Gewerbeschule\", \"AnzBestWir\": 9751, \"AnzNat\": 103, \"StichtagDatJahr_str\": \"2008-01-01\"}, {\"StichtagDatJahr\": \"2008-01-01T00:00:00\", \"QuarSort\": 44, \"QuarCd\": 44, \"QuarLang\": \"Hard\", \"AnzBestWir\": 12884, \"AnzNat\": 106, \"StichtagDatJahr_str\": \"2008-01-01\"}, {\"StichtagDatJahr\": \"2008-01-01T00:00:00\", \"QuarSort\": 42, \"QuarCd\": 42, \"QuarLang\": \"Langstrasse\", \"AnzBestWir\": 10455, \"AnzNat\": 115, \"StichtagDatJahr_str\": \"2008-01-01\"}, {\"StichtagDatJahr\": \"2008-01-01T00:00:00\", \"QuarSort\": 41, \"QuarCd\": 41, \"QuarLang\": \"Werd\", \"AnzBestWir\": 4015, \"AnzNat\": 83, \"StichtagDatJahr_str\": \"2008-01-01\"}, {\"StichtagDatJahr\": \"2008-01-01T00:00:00\", \"QuarSort\": 34, \"QuarCd\": 34, \"QuarLang\": \"Sihlfeld\", \"AnzBestWir\": 20543, \"AnzNat\": 115, \"StichtagDatJahr_str\": \"2008-01-01\"}, {\"StichtagDatJahr\": \"2008-01-01T00:00:00\", \"QuarSort\": 11, \"QuarCd\": 11, \"QuarLang\": \"Rathaus\", \"AnzBestWir\": 3051, \"AnzNat\": 79, \"StichtagDatJahr_str\": \"2008-01-01\"}, {\"StichtagDatJahr\": \"2008-01-01T00:00:00\", \"QuarSort\": 31, \"QuarCd\": 31, \"QuarLang\": \"Alt-Wiedikon\", \"AnzBestWir\": 15727, \"AnzNat\": 115, \"StichtagDatJahr_str\": \"2008-01-01\"}, {\"StichtagDatJahr\": \"2008-01-01T00:00:00\", \"QuarSort\": 24, \"QuarCd\": 24, \"QuarLang\": \"Enge\", \"AnzBestWir\": 8552, \"AnzNat\": 92, \"StichtagDatJahr_str\": \"2008-01-01\"}, {\"StichtagDatJahr\": \"2008-01-01T00:00:00\", \"QuarSort\": 23, \"QuarCd\": 23, \"QuarLang\": \"Leimbach\", \"AnzBestWir\": 5185, \"AnzNat\": 78, \"StichtagDatJahr_str\": \"2008-01-01\"}, {\"StichtagDatJahr\": \"2008-01-01T00:00:00\", \"QuarSort\": 21, \"QuarCd\": 21, \"QuarLang\": \"Wollishofen\", \"AnzBestWir\": 15794, \"AnzNat\": 105, \"StichtagDatJahr_str\": \"2008-01-01\"}, {\"StichtagDatJahr\": \"2008-01-01T00:00:00\", \"QuarSort\": 14, \"QuarCd\": 14, \"QuarLang\": \"City\", \"AnzBestWir\": 843, \"AnzNat\": 41, \"StichtagDatJahr_str\": \"2008-01-01\"}, {\"StichtagDatJahr\": \"2008-01-01T00:00:00\", \"QuarSort\": 13, \"QuarCd\": 13, \"QuarLang\": \"Lindenhof\", \"AnzBestWir\": 940, \"AnzNat\": 37, \"StichtagDatJahr_str\": \"2008-01-01\"}, {\"StichtagDatJahr\": \"2008-01-01T00:00:00\", \"QuarSort\": 12, \"QuarCd\": 12, \"QuarLang\": \"Hochschulen\", \"AnzBestWir\": 702, \"AnzNat\": 45, \"StichtagDatJahr_str\": \"2008-01-01\"}, {\"StichtagDatJahr\": \"2008-01-01T00:00:00\", \"QuarSort\": 63, \"QuarCd\": 63, \"QuarLang\": \"Oberstrass\", \"AnzBestWir\": 10102, \"AnzNat\": 102, \"StichtagDatJahr_str\": \"2008-01-01\"}, {\"StichtagDatJahr\": \"2008-01-01T00:00:00\", \"QuarSort\": 71, \"QuarCd\": 71, \"QuarLang\": \"Fluntern\", \"AnzBestWir\": 7542, \"AnzNat\": 80, \"StichtagDatJahr_str\": \"2008-01-01\"}, {\"StichtagDatJahr\": \"2008-01-01T00:00:00\", \"QuarSort\": 72, \"QuarCd\": 72, \"QuarLang\": \"Hottingen\", \"AnzBestWir\": 10548, \"AnzNat\": 94, \"StichtagDatJahr_str\": \"2008-01-01\"}, {\"StichtagDatJahr\": \"2008-01-01T00:00:00\", \"QuarSort\": 102, \"QuarCd\": 102, \"QuarLang\": \"Wipkingen\", \"AnzBestWir\": 15500, \"AnzNat\": 111, \"StichtagDatJahr_str\": \"2008-01-01\"}, {\"StichtagDatJahr\": \"2008-01-01T00:00:00\", \"QuarSort\": 73, \"QuarCd\": 73, \"QuarLang\": \"Hirslanden\", \"AnzBestWir\": 6967, \"AnzNat\": 87, \"StichtagDatJahr_str\": \"2008-01-01\"}, {\"StichtagDatJahr\": \"2008-01-01T00:00:00\", \"QuarSort\": 123, \"QuarCd\": 123, \"QuarLang\": \"Hirzenbach\", \"AnzBestWir\": 11478, \"AnzNat\": 105, \"StichtagDatJahr_str\": \"2008-01-01\"}, {\"StichtagDatJahr\": \"2008-01-01T00:00:00\", \"QuarSort\": 122, \"QuarCd\": 122, \"QuarLang\": \"Schwamendingen-Mitte\", \"AnzBestWir\": 10864, \"AnzNat\": 108, \"StichtagDatJahr_str\": \"2008-01-01\"}, {\"StichtagDatJahr\": \"2008-01-01T00:00:00\", \"QuarSort\": 121, \"QuarCd\": 121, \"QuarLang\": \"Saatlen\", \"AnzBestWir\": 6843, \"AnzNat\": 90, \"StichtagDatJahr_str\": \"2008-01-01\"}, {\"StichtagDatJahr\": \"2008-01-01T00:00:00\", \"QuarSort\": 119, \"QuarCd\": 119, \"QuarLang\": \"Seebach\", \"AnzBestWir\": 21386, \"AnzNat\": 124, \"StichtagDatJahr_str\": \"2008-01-01\"}, {\"StichtagDatJahr\": \"2008-01-01T00:00:00\", \"QuarSort\": 111, \"QuarCd\": 111, \"QuarLang\": \"Affoltern\", \"AnzBestWir\": 22044, \"AnzNat\": 118, \"StichtagDatJahr_str\": \"2008-01-01\"}, {\"StichtagDatJahr\": \"2008-01-01T00:00:00\", \"QuarSort\": 115, \"QuarCd\": 115, \"QuarLang\": \"Oerlikon\", \"AnzBestWir\": 20853, \"AnzNat\": 123, \"StichtagDatJahr_str\": \"2008-01-01\"}, {\"StichtagDatJahr\": \"2008-01-01T00:00:00\", \"QuarSort\": 101, \"QuarCd\": 101, \"QuarLang\": \"H\\u00f6ngg\", \"AnzBestWir\": 21186, \"AnzNat\": 109, \"StichtagDatJahr_str\": \"2008-01-01\"}, {\"StichtagDatJahr\": \"2008-01-01T00:00:00\", \"QuarSort\": 92, \"QuarCd\": 92, \"QuarLang\": \"Altstetten\", \"AnzBestWir\": 29740, \"AnzNat\": 121, \"StichtagDatJahr_str\": \"2008-01-01\"}, {\"StichtagDatJahr\": \"2008-01-01T00:00:00\", \"QuarSort\": 91, \"QuarCd\": 91, \"QuarLang\": \"Albisrieden\", \"AnzBestWir\": 17555, \"AnzNat\": 107, \"StichtagDatJahr_str\": \"2008-01-01\"}, {\"StichtagDatJahr\": \"2008-01-01T00:00:00\", \"QuarSort\": 83, \"QuarCd\": 83, \"QuarLang\": \"Weinegg\", \"AnzBestWir\": 4961, \"AnzNat\": 78, \"StichtagDatJahr_str\": \"2008-01-01\"}, {\"StichtagDatJahr\": \"2008-01-01T00:00:00\", \"QuarSort\": 82, \"QuarCd\": 82, \"QuarLang\": \"M\\u00fchlebach\", \"AnzBestWir\": 5491, \"AnzNat\": 88, \"StichtagDatJahr_str\": \"2008-01-01\"}, {\"StichtagDatJahr\": \"2008-01-01T00:00:00\", \"QuarSort\": 81, \"QuarCd\": 81, \"QuarLang\": \"Seefeld\", \"AnzBestWir\": 4863, \"AnzNat\": 89, \"StichtagDatJahr_str\": \"2008-01-01\"}, {\"StichtagDatJahr\": \"2008-01-01T00:00:00\", \"QuarSort\": 74, \"QuarCd\": 74, \"QuarLang\": \"Witikon\", \"AnzBestWir\": 10183, \"AnzNat\": 91, \"StichtagDatJahr_str\": \"2008-01-01\"}, {\"StichtagDatJahr\": \"2007-01-01T00:00:00\", \"QuarSort\": 101, \"QuarCd\": 101, \"QuarLang\": \"H\\u00f6ngg\", \"AnzBestWir\": 21075, \"AnzNat\": 108, \"StichtagDatJahr_str\": \"2007-01-01\"}, {\"StichtagDatJahr\": \"2007-01-01T00:00:00\", \"QuarSort\": 74, \"QuarCd\": 74, \"QuarLang\": \"Witikon\", \"AnzBestWir\": 10127, \"AnzNat\": 88, \"StichtagDatJahr_str\": \"2007-01-01\"}, {\"StichtagDatJahr\": \"2007-01-01T00:00:00\", \"QuarSort\": 81, \"QuarCd\": 81, \"QuarLang\": \"Seefeld\", \"AnzBestWir\": 4920, \"AnzNat\": 82, \"StichtagDatJahr_str\": \"2007-01-01\"}, {\"StichtagDatJahr\": \"2007-01-01T00:00:00\", \"QuarSort\": 82, \"QuarCd\": 82, \"QuarLang\": \"M\\u00fchlebach\", \"AnzBestWir\": 5567, \"AnzNat\": 93, \"StichtagDatJahr_str\": \"2007-01-01\"}, {\"StichtagDatJahr\": \"2007-01-01T00:00:00\", \"QuarSort\": 83, \"QuarCd\": 83, \"QuarLang\": \"Weinegg\", \"AnzBestWir\": 4944, \"AnzNat\": 79, \"StichtagDatJahr_str\": \"2007-01-01\"}, {\"StichtagDatJahr\": \"2007-01-01T00:00:00\", \"QuarSort\": 91, \"QuarCd\": 91, \"QuarLang\": \"Albisrieden\", \"AnzBestWir\": 17527, \"AnzNat\": 112, \"StichtagDatJahr_str\": \"2007-01-01\"}, {\"StichtagDatJahr\": \"2007-01-01T00:00:00\", \"QuarSort\": 92, \"QuarCd\": 92, \"QuarLang\": \"Altstetten\", \"AnzBestWir\": 29348, \"AnzNat\": 128, \"StichtagDatJahr_str\": \"2007-01-01\"}, {\"StichtagDatJahr\": \"2007-01-01T00:00:00\", \"QuarSort\": 72, \"QuarCd\": 72, \"QuarLang\": \"Hottingen\", \"AnzBestWir\": 10284, \"AnzNat\": 91, \"StichtagDatJahr_str\": \"2007-01-01\"}, {\"StichtagDatJahr\": \"2007-01-01T00:00:00\", \"QuarSort\": 102, \"QuarCd\": 102, \"QuarLang\": \"Wipkingen\", \"AnzBestWir\": 15399, \"AnzNat\": 110, \"StichtagDatJahr_str\": \"2007-01-01\"}, {\"StichtagDatJahr\": \"2007-01-01T00:00:00\", \"QuarSort\": 111, \"QuarCd\": 111, \"QuarLang\": \"Affoltern\", \"AnzBestWir\": 20948, \"AnzNat\": 115, \"StichtagDatJahr_str\": \"2007-01-01\"}, {\"StichtagDatJahr\": \"2007-01-01T00:00:00\", \"QuarSort\": 115, \"QuarCd\": 115, \"QuarLang\": \"Oerlikon\", \"AnzBestWir\": 20754, \"AnzNat\": 119, \"StichtagDatJahr_str\": \"2007-01-01\"}, {\"StichtagDatJahr\": \"2007-01-01T00:00:00\", \"QuarSort\": 119, \"QuarCd\": 119, \"QuarLang\": \"Seebach\", \"AnzBestWir\": 21390, \"AnzNat\": 123, \"StichtagDatJahr_str\": \"2007-01-01\"}, {\"StichtagDatJahr\": \"2007-01-01T00:00:00\", \"QuarSort\": 121, \"QuarCd\": 121, \"QuarLang\": \"Saatlen\", \"AnzBestWir\": 6842, \"AnzNat\": 89, \"StichtagDatJahr_str\": \"2007-01-01\"}, {\"StichtagDatJahr\": \"2007-01-01T00:00:00\", \"QuarSort\": 122, \"QuarCd\": 122, \"QuarLang\": \"Schwamendingen-Mitte\", \"AnzBestWir\": 10806, \"AnzNat\": 107, \"StichtagDatJahr_str\": \"2007-01-01\"}, {\"StichtagDatJahr\": \"2007-01-01T00:00:00\", \"QuarSort\": 123, \"QuarCd\": 123, \"QuarLang\": \"Hirzenbach\", \"AnzBestWir\": 11343, \"AnzNat\": 107, \"StichtagDatJahr_str\": \"2007-01-01\"}, {\"StichtagDatJahr\": \"2007-01-01T00:00:00\", \"QuarSort\": 73, \"QuarCd\": 73, \"QuarLang\": \"Hirslanden\", \"AnzBestWir\": 6977, \"AnzNat\": 80, \"StichtagDatJahr_str\": \"2007-01-01\"}, {\"StichtagDatJahr\": \"2007-01-01T00:00:00\", \"QuarSort\": 71, \"QuarCd\": 71, \"QuarLang\": \"Fluntern\", \"AnzBestWir\": 7455, \"AnzNat\": 82, \"StichtagDatJahr_str\": \"2007-01-01\"}, {\"StichtagDatJahr\": \"2007-01-01T00:00:00\", \"QuarSort\": 11, \"QuarCd\": 11, \"QuarLang\": \"Rathaus\", \"AnzBestWir\": 3079, \"AnzNat\": 77, \"StichtagDatJahr_str\": \"2007-01-01\"}, {\"StichtagDatJahr\": \"2007-01-01T00:00:00\", \"QuarSort\": 33, \"QuarCd\": 33, \"QuarLang\": \"Friesenberg\", \"AnzBestWir\": 10296, \"AnzNat\": 95, \"StichtagDatJahr_str\": \"2007-01-01\"}, {\"StichtagDatJahr\": \"2007-01-01T00:00:00\", \"QuarSort\": 63, \"QuarCd\": 63, \"QuarLang\": \"Oberstrass\", \"AnzBestWir\": 9960, \"AnzNat\": 98, \"StichtagDatJahr_str\": \"2007-01-01\"}, {\"StichtagDatJahr\": \"2007-01-01T00:00:00\", \"QuarSort\": 12, \"QuarCd\": 12, \"QuarLang\": \"Hochschulen\", \"AnzBestWir\": 698, \"AnzNat\": 47, \"StichtagDatJahr_str\": \"2007-01-01\"}, {\"StichtagDatJahr\": \"2007-01-01T00:00:00\", \"QuarSort\": 13, \"QuarCd\": 13, \"QuarLang\": \"Lindenhof\", \"AnzBestWir\": 954, \"AnzNat\": 38, \"StichtagDatJahr_str\": \"2007-01-01\"}, {\"StichtagDatJahr\": \"2007-01-01T00:00:00\", \"QuarSort\": 14, \"QuarCd\": 14, \"QuarLang\": \"City\", \"AnzBestWir\": 876, \"AnzNat\": 43, \"StichtagDatJahr_str\": \"2007-01-01\"}, {\"StichtagDatJahr\": \"2007-01-01T00:00:00\", \"QuarSort\": 21, \"QuarCd\": 21, \"QuarLang\": \"Wollishofen\", \"AnzBestWir\": 15744, \"AnzNat\": 102, \"StichtagDatJahr_str\": \"2007-01-01\"}, {\"StichtagDatJahr\": \"2007-01-01T00:00:00\", \"QuarSort\": 24, \"QuarCd\": 24, \"QuarLang\": \"Enge\", \"AnzBestWir\": 8473, \"AnzNat\": 84, \"StichtagDatJahr_str\": \"2007-01-01\"}, {\"StichtagDatJahr\": \"2007-01-01T00:00:00\", \"QuarSort\": 31, \"QuarCd\": 31, \"QuarLang\": \"Alt-Wiedikon\", \"AnzBestWir\": 15440, \"AnzNat\": 118, \"StichtagDatJahr_str\": \"2007-01-01\"}, {\"StichtagDatJahr\": \"2007-01-01T00:00:00\", \"QuarSort\": 23, \"QuarCd\": 23, \"QuarLang\": \"Leimbach\", \"AnzBestWir\": 5204, \"AnzNat\": 76, \"StichtagDatJahr_str\": \"2007-01-01\"}, {\"StichtagDatJahr\": \"2007-01-01T00:00:00\", \"QuarSort\": 34, \"QuarCd\": 34, \"QuarLang\": \"Sihlfeld\", \"AnzBestWir\": 20372, \"AnzNat\": 115, \"StichtagDatJahr_str\": \"2007-01-01\"}, {\"StichtagDatJahr\": \"2007-01-01T00:00:00\", \"QuarSort\": 41, \"QuarCd\": 41, \"QuarLang\": \"Werd\", \"AnzBestWir\": 3944, \"AnzNat\": 87, \"StichtagDatJahr_str\": \"2007-01-01\"}, {\"StichtagDatJahr\": \"2007-01-01T00:00:00\", \"QuarSort\": 42, \"QuarCd\": 42, \"QuarLang\": \"Langstrasse\", \"AnzBestWir\": 10310, \"AnzNat\": 110, \"StichtagDatJahr_str\": \"2007-01-01\"}, {\"StichtagDatJahr\": \"2007-01-01T00:00:00\", \"QuarSort\": 44, \"QuarCd\": 44, \"QuarLang\": \"Hard\", \"AnzBestWir\": 12802, \"AnzNat\": 108, \"StichtagDatJahr_str\": \"2007-01-01\"}, {\"StichtagDatJahr\": \"2007-01-01T00:00:00\", \"QuarSort\": 51, \"QuarCd\": 51, \"QuarLang\": \"Gewerbeschule\", \"AnzBestWir\": 9706, \"AnzNat\": 101, \"StichtagDatJahr_str\": \"2007-01-01\"}, {\"StichtagDatJahr\": \"2007-01-01T00:00:00\", \"QuarSort\": 52, \"QuarCd\": 52, \"QuarLang\": \"Escher Wyss\", \"AnzBestWir\": 3008, \"AnzNat\": 68, \"StichtagDatJahr_str\": \"2007-01-01\"}, {\"StichtagDatJahr\": \"2007-01-01T00:00:00\", \"QuarSort\": 61, \"QuarCd\": 61, \"QuarLang\": \"Unterstrass\", \"AnzBestWir\": 20243, \"AnzNat\": 118, \"StichtagDatJahr_str\": \"2007-01-01\"}, {\"StichtagDatJahr\": \"2006-01-01T00:00:00\", \"QuarSort\": 33, \"QuarCd\": 33, \"QuarLang\": \"Friesenberg\", \"AnzBestWir\": 10342, \"AnzNat\": 91, \"StichtagDatJahr_str\": \"2006-01-01\"}, {\"StichtagDatJahr\": \"2006-01-01T00:00:00\", \"QuarSort\": 61, \"QuarCd\": 61, \"QuarLang\": \"Unterstrass\", \"AnzBestWir\": 19959, \"AnzNat\": 115, \"StichtagDatJahr_str\": \"2006-01-01\"}, {\"StichtagDatJahr\": \"2006-01-01T00:00:00\", \"QuarSort\": 52, \"QuarCd\": 52, \"QuarLang\": \"Escher Wyss\", \"AnzBestWir\": 2987, \"AnzNat\": 68, \"StichtagDatJahr_str\": \"2006-01-01\"}, {\"StichtagDatJahr\": \"2006-01-01T00:00:00\", \"QuarSort\": 51, \"QuarCd\": 51, \"QuarLang\": \"Gewerbeschule\", \"AnzBestWir\": 9735, \"AnzNat\": 102, \"StichtagDatJahr_str\": \"2006-01-01\"}, {\"StichtagDatJahr\": \"2006-01-01T00:00:00\", \"QuarSort\": 44, \"QuarCd\": 44, \"QuarLang\": \"Hard\", \"AnzBestWir\": 12508, \"AnzNat\": 106, \"StichtagDatJahr_str\": \"2006-01-01\"}, {\"StichtagDatJahr\": \"2006-01-01T00:00:00\", \"QuarSort\": 42, \"QuarCd\": 42, \"QuarLang\": \"Langstrasse\", \"AnzBestWir\": 10332, \"AnzNat\": 112, \"StichtagDatJahr_str\": \"2006-01-01\"}, {\"StichtagDatJahr\": \"2006-01-01T00:00:00\", \"QuarSort\": 41, \"QuarCd\": 41, \"QuarLang\": \"Werd\", \"AnzBestWir\": 3865, \"AnzNat\": 84, \"StichtagDatJahr_str\": \"2006-01-01\"}, {\"StichtagDatJahr\": \"2006-01-01T00:00:00\", \"QuarSort\": 34, \"QuarCd\": 34, \"QuarLang\": \"Sihlfeld\", \"AnzBestWir\": 20314, \"AnzNat\": 117, \"StichtagDatJahr_str\": \"2006-01-01\"}, {\"StichtagDatJahr\": \"2006-01-01T00:00:00\", \"QuarSort\": 11, \"QuarCd\": 11, \"QuarLang\": \"Rathaus\", \"AnzBestWir\": 3097, \"AnzNat\": 79, \"StichtagDatJahr_str\": \"2006-01-01\"}, {\"StichtagDatJahr\": \"2006-01-01T00:00:00\", \"QuarSort\": 31, \"QuarCd\": 31, \"QuarLang\": \"Alt-Wiedikon\", \"AnzBestWir\": 15231, \"AnzNat\": 114, \"StichtagDatJahr_str\": \"2006-01-01\"}, {\"StichtagDatJahr\": \"2006-01-01T00:00:00\", \"QuarSort\": 24, \"QuarCd\": 24, \"QuarLang\": \"Enge\", \"AnzBestWir\": 8367, \"AnzNat\": 84, \"StichtagDatJahr_str\": \"2006-01-01\"}, {\"StichtagDatJahr\": \"2006-01-01T00:00:00\", \"QuarSort\": 21, \"QuarCd\": 21, \"QuarLang\": \"Wollishofen\", \"AnzBestWir\": 15587, \"AnzNat\": 99, \"StichtagDatJahr_str\": \"2006-01-01\"}, {\"StichtagDatJahr\": \"2006-01-01T00:00:00\", \"QuarSort\": 14, \"QuarCd\": 14, \"QuarLang\": \"City\", \"AnzBestWir\": 845, \"AnzNat\": 42, \"StichtagDatJahr_str\": \"2006-01-01\"}, {\"StichtagDatJahr\": \"2006-01-01T00:00:00\", \"QuarSort\": 13, \"QuarCd\": 13, \"QuarLang\": \"Lindenhof\", \"AnzBestWir\": 955, \"AnzNat\": 40, \"StichtagDatJahr_str\": \"2006-01-01\"}, {\"StichtagDatJahr\": \"2006-01-01T00:00:00\", \"QuarSort\": 12, \"QuarCd\": 12, \"QuarLang\": \"Hochschulen\", \"AnzBestWir\": 711, \"AnzNat\": 46, \"StichtagDatJahr_str\": \"2006-01-01\"}, {\"StichtagDatJahr\": \"2006-01-01T00:00:00\", \"QuarSort\": 71, \"QuarCd\": 71, \"QuarLang\": \"Fluntern\", \"AnzBestWir\": 7379, \"AnzNat\": 77, \"StichtagDatJahr_str\": \"2006-01-01\"}, {\"StichtagDatJahr\": \"2006-01-01T00:00:00\", \"QuarSort\": 63, \"QuarCd\": 63, \"QuarLang\": \"Oberstrass\", \"AnzBestWir\": 9698, \"AnzNat\": 94, \"StichtagDatJahr_str\": \"2006-01-01\"}, {\"StichtagDatJahr\": \"2006-01-01T00:00:00\", \"QuarSort\": 23, \"QuarCd\": 23, \"QuarLang\": \"Leimbach\", \"AnzBestWir\": 4944, \"AnzNat\": 76, \"StichtagDatJahr_str\": \"2006-01-01\"}, {\"StichtagDatJahr\": \"2006-01-01T00:00:00\", \"QuarSort\": 72, \"QuarCd\": 72, \"QuarLang\": \"Hottingen\", \"AnzBestWir\": 10180, \"AnzNat\": 88, \"StichtagDatJahr_str\": \"2006-01-01\"}, {\"StichtagDatJahr\": \"2006-01-01T00:00:00\", \"QuarSort\": 102, \"QuarCd\": 102, \"QuarLang\": \"Wipkingen\", \"AnzBestWir\": 15392, \"AnzNat\": 114, \"StichtagDatJahr_str\": \"2006-01-01\"}, {\"StichtagDatJahr\": \"2006-01-01T00:00:00\", \"QuarSort\": 73, \"QuarCd\": 73, \"QuarLang\": \"Hirslanden\", \"AnzBestWir\": 6904, \"AnzNat\": 79, \"StichtagDatJahr_str\": \"2006-01-01\"}, {\"StichtagDatJahr\": \"2006-01-01T00:00:00\", \"QuarSort\": 122, \"QuarCd\": 122, \"QuarLang\": \"Schwamendingen-Mitte\", \"AnzBestWir\": 10637, \"AnzNat\": 105, \"StichtagDatJahr_str\": \"2006-01-01\"}, {\"StichtagDatJahr\": \"2006-01-01T00:00:00\", \"QuarSort\": 121, \"QuarCd\": 121, \"QuarLang\": \"Saatlen\", \"AnzBestWir\": 6695, \"AnzNat\": 93, \"StichtagDatJahr_str\": \"2006-01-01\"}, {\"StichtagDatJahr\": \"2006-01-01T00:00:00\", \"QuarSort\": 119, \"QuarCd\": 119, \"QuarLang\": \"Seebach\", \"AnzBestWir\": 20757, \"AnzNat\": 124, \"StichtagDatJahr_str\": \"2006-01-01\"}, {\"StichtagDatJahr\": \"2006-01-01T00:00:00\", \"QuarSort\": 115, \"QuarCd\": 115, \"QuarLang\": \"Oerlikon\", \"AnzBestWir\": 20318, \"AnzNat\": 123, \"StichtagDatJahr_str\": \"2006-01-01\"}, {\"StichtagDatJahr\": \"2006-01-01T00:00:00\", \"QuarSort\": 111, \"QuarCd\": 111, \"QuarLang\": \"Affoltern\", \"AnzBestWir\": 18793, \"AnzNat\": 104, \"StichtagDatJahr_str\": \"2006-01-01\"}, {\"StichtagDatJahr\": \"2006-01-01T00:00:00\", \"QuarSort\": 123, \"QuarCd\": 123, \"QuarLang\": \"Hirzenbach\", \"AnzBestWir\": 11205, \"AnzNat\": 103, \"StichtagDatJahr_str\": \"2006-01-01\"}, {\"StichtagDatJahr\": \"2006-01-01T00:00:00\", \"QuarSort\": 101, \"QuarCd\": 101, \"QuarLang\": \"H\\u00f6ngg\", \"AnzBestWir\": 21017, \"AnzNat\": 113, \"StichtagDatJahr_str\": \"2006-01-01\"}, {\"StichtagDatJahr\": \"2006-01-01T00:00:00\", \"QuarSort\": 92, \"QuarCd\": 92, \"QuarLang\": \"Altstetten\", \"AnzBestWir\": 28868, \"AnzNat\": 129, \"StichtagDatJahr_str\": \"2006-01-01\"}, {\"StichtagDatJahr\": \"2006-01-01T00:00:00\", \"QuarSort\": 91, \"QuarCd\": 91, \"QuarLang\": \"Albisrieden\", \"AnzBestWir\": 17275, \"AnzNat\": 114, \"StichtagDatJahr_str\": \"2006-01-01\"}, {\"StichtagDatJahr\": \"2006-01-01T00:00:00\", \"QuarSort\": 83, \"QuarCd\": 83, \"QuarLang\": \"Weinegg\", \"AnzBestWir\": 4816, \"AnzNat\": 70, \"StichtagDatJahr_str\": \"2006-01-01\"}, {\"StichtagDatJahr\": \"2006-01-01T00:00:00\", \"QuarSort\": 82, \"QuarCd\": 82, \"QuarLang\": \"M\\u00fchlebach\", \"AnzBestWir\": 5549, \"AnzNat\": 88, \"StichtagDatJahr_str\": \"2006-01-01\"}, {\"StichtagDatJahr\": \"2006-01-01T00:00:00\", \"QuarSort\": 81, \"QuarCd\": 81, \"QuarLang\": \"Seefeld\", \"AnzBestWir\": 4842, \"AnzNat\": 83, \"StichtagDatJahr_str\": \"2006-01-01\"}, {\"StichtagDatJahr\": \"2006-01-01T00:00:00\", \"QuarSort\": 74, \"QuarCd\": 74, \"QuarLang\": \"Witikon\", \"AnzBestWir\": 9958, \"AnzNat\": 88, \"StichtagDatJahr_str\": \"2006-01-01\"}, {\"StichtagDatJahr\": \"2005-01-01T00:00:00\", \"QuarSort\": 33, \"QuarCd\": 33, \"QuarLang\": \"Friesenberg\", \"AnzBestWir\": 10360, \"AnzNat\": 92, \"StichtagDatJahr_str\": \"2005-01-01\"}, {\"StichtagDatJahr\": \"2005-01-01T00:00:00\", \"QuarSort\": 52, \"QuarCd\": 52, \"QuarLang\": \"Escher Wyss\", \"AnzBestWir\": 2727, \"AnzNat\": 67, \"StichtagDatJahr_str\": \"2005-01-01\"}, {\"StichtagDatJahr\": \"2005-01-01T00:00:00\", \"QuarSort\": 51, \"QuarCd\": 51, \"QuarLang\": \"Gewerbeschule\", \"AnzBestWir\": 9690, \"AnzNat\": 108, \"StichtagDatJahr_str\": \"2005-01-01\"}, {\"StichtagDatJahr\": \"2005-01-01T00:00:00\", \"QuarSort\": 44, \"QuarCd\": 44, \"QuarLang\": \"Hard\", \"AnzBestWir\": 12715, \"AnzNat\": 105, \"StichtagDatJahr_str\": \"2005-01-01\"}, {\"StichtagDatJahr\": \"2005-01-01T00:00:00\", \"QuarSort\": 42, \"QuarCd\": 42, \"QuarLang\": \"Langstrasse\", \"AnzBestWir\": 10368, \"AnzNat\": 112, \"StichtagDatJahr_str\": \"2005-01-01\"}, {\"StichtagDatJahr\": \"2005-01-01T00:00:00\", \"QuarSort\": 41, \"QuarCd\": 41, \"QuarLang\": \"Werd\", \"AnzBestWir\": 3878, \"AnzNat\": 80, \"StichtagDatJahr_str\": \"2005-01-01\"}, {\"StichtagDatJahr\": \"2005-01-01T00:00:00\", \"QuarSort\": 34, \"QuarCd\": 34, \"QuarLang\": \"Sihlfeld\", \"AnzBestWir\": 20554, \"AnzNat\": 121, \"StichtagDatJahr_str\": \"2005-01-01\"}, {\"StichtagDatJahr\": \"2005-01-01T00:00:00\", \"QuarSort\": 11, \"QuarCd\": 11, \"QuarLang\": \"Rathaus\", \"AnzBestWir\": 3081, \"AnzNat\": 79, \"StichtagDatJahr_str\": \"2005-01-01\"}, {\"StichtagDatJahr\": \"2005-01-01T00:00:00\", \"QuarSort\": 31, \"QuarCd\": 31, \"QuarLang\": \"Alt-Wiedikon\", \"AnzBestWir\": 14971, \"AnzNat\": 109, \"StichtagDatJahr_str\": \"2005-01-01\"}, {\"StichtagDatJahr\": \"2005-01-01T00:00:00\", \"QuarSort\": 24, \"QuarCd\": 24, \"QuarLang\": \"Enge\", \"AnzBestWir\": 8375, \"AnzNat\": 86, \"StichtagDatJahr_str\": \"2005-01-01\"}, {\"StichtagDatJahr\": \"2005-01-01T00:00:00\", \"QuarSort\": 23, \"QuarCd\": 23, \"QuarLang\": \"Leimbach\", \"AnzBestWir\": 4867, \"AnzNat\": 75, \"StichtagDatJahr_str\": \"2005-01-01\"}, {\"StichtagDatJahr\": \"2005-01-01T00:00:00\", \"QuarSort\": 21, \"QuarCd\": 21, \"QuarLang\": \"Wollishofen\", \"AnzBestWir\": 15592, \"AnzNat\": 97, \"StichtagDatJahr_str\": \"2005-01-01\"}, {\"StichtagDatJahr\": \"2005-01-01T00:00:00\", \"QuarSort\": 14, \"QuarCd\": 14, \"QuarLang\": \"City\", \"AnzBestWir\": 846, \"AnzNat\": 45, \"StichtagDatJahr_str\": \"2005-01-01\"}, {\"StichtagDatJahr\": \"2005-01-01T00:00:00\", \"QuarSort\": 13, \"QuarCd\": 13, \"QuarLang\": \"Lindenhof\", \"AnzBestWir\": 950, \"AnzNat\": 36, \"StichtagDatJahr_str\": \"2005-01-01\"}, {\"StichtagDatJahr\": \"2005-01-01T00:00:00\", \"QuarSort\": 12, \"QuarCd\": 12, \"QuarLang\": \"Hochschulen\", \"AnzBestWir\": 695, \"AnzNat\": 46, \"StichtagDatJahr_str\": \"2005-01-01\"}, {\"StichtagDatJahr\": \"2005-01-01T00:00:00\", \"QuarSort\": 63, \"QuarCd\": 63, \"QuarLang\": \"Oberstrass\", \"AnzBestWir\": 9494, \"AnzNat\": 93, \"StichtagDatJahr_str\": \"2005-01-01\"}, {\"StichtagDatJahr\": \"2005-01-01T00:00:00\", \"QuarSort\": 61, \"QuarCd\": 61, \"QuarLang\": \"Unterstrass\", \"AnzBestWir\": 19921, \"AnzNat\": 116, \"StichtagDatJahr_str\": \"2005-01-01\"}, {\"StichtagDatJahr\": \"2005-01-01T00:00:00\", \"QuarSort\": 81, \"QuarCd\": 81, \"QuarLang\": \"Seefeld\", \"AnzBestWir\": 4923, \"AnzNat\": 84, \"StichtagDatJahr_str\": \"2005-01-01\"}, {\"StichtagDatJahr\": \"2005-01-01T00:00:00\", \"QuarSort\": 71, \"QuarCd\": 71, \"QuarLang\": \"Fluntern\", \"AnzBestWir\": 7325, \"AnzNat\": 78, \"StichtagDatJahr_str\": \"2005-01-01\"}, {\"StichtagDatJahr\": \"2005-01-01T00:00:00\", \"QuarSort\": 102, \"QuarCd\": 102, \"QuarLang\": \"Wipkingen\", \"AnzBestWir\": 15446, \"AnzNat\": 117, \"StichtagDatJahr_str\": \"2005-01-01\"}, {\"StichtagDatJahr\": \"2005-01-01T00:00:00\", \"QuarSort\": 123, \"QuarCd\": 123, \"QuarLang\": \"Hirzenbach\", \"AnzBestWir\": 11265, \"AnzNat\": 98, \"StichtagDatJahr_str\": \"2005-01-01\"}, {\"StichtagDatJahr\": \"2005-01-01T00:00:00\", \"QuarSort\": 122, \"QuarCd\": 122, \"QuarLang\": \"Schwamendingen-Mitte\", \"AnzBestWir\": 10322, \"AnzNat\": 100, \"StichtagDatJahr_str\": \"2005-01-01\"}, {\"StichtagDatJahr\": \"2005-01-01T00:00:00\", \"QuarSort\": 121, \"QuarCd\": 121, \"QuarLang\": \"Saatlen\", \"AnzBestWir\": 6649, \"AnzNat\": 83, \"StichtagDatJahr_str\": \"2005-01-01\"}, {\"StichtagDatJahr\": \"2005-01-01T00:00:00\", \"QuarSort\": 72, \"QuarCd\": 72, \"QuarLang\": \"Hottingen\", \"AnzBestWir\": 10100, \"AnzNat\": 90, \"StichtagDatJahr_str\": \"2005-01-01\"}, {\"StichtagDatJahr\": \"2005-01-01T00:00:00\", \"QuarSort\": 115, \"QuarCd\": 115, \"QuarLang\": \"Oerlikon\", \"AnzBestWir\": 19663, \"AnzNat\": 121, \"StichtagDatJahr_str\": \"2005-01-01\"}, {\"StichtagDatJahr\": \"2005-01-01T00:00:00\", \"QuarSort\": 111, \"QuarCd\": 111, \"QuarLang\": \"Affoltern\", \"AnzBestWir\": 18733, \"AnzNat\": 106, \"StichtagDatJahr_str\": \"2005-01-01\"}, {\"StichtagDatJahr\": \"2005-01-01T00:00:00\", \"QuarSort\": 119, \"QuarCd\": 119, \"QuarLang\": \"Seebach\", \"AnzBestWir\": 19879, \"AnzNat\": 125, \"StichtagDatJahr_str\": \"2005-01-01\"}, {\"StichtagDatJahr\": \"2005-01-01T00:00:00\", \"QuarSort\": 101, \"QuarCd\": 101, \"QuarLang\": \"H\\u00f6ngg\", \"AnzBestWir\": 20773, \"AnzNat\": 111, \"StichtagDatJahr_str\": \"2005-01-01\"}, {\"StichtagDatJahr\": \"2005-01-01T00:00:00\", \"QuarSort\": 92, \"QuarCd\": 92, \"QuarLang\": \"Altstetten\", \"AnzBestWir\": 28278, \"AnzNat\": 121, \"StichtagDatJahr_str\": \"2005-01-01\"}, {\"StichtagDatJahr\": \"2005-01-01T00:00:00\", \"QuarSort\": 91, \"QuarCd\": 91, \"QuarLang\": \"Albisrieden\", \"AnzBestWir\": 17226, \"AnzNat\": 110, \"StichtagDatJahr_str\": \"2005-01-01\"}, {\"StichtagDatJahr\": \"2005-01-01T00:00:00\", \"QuarSort\": 83, \"QuarCd\": 83, \"QuarLang\": \"Weinegg\", \"AnzBestWir\": 4843, \"AnzNat\": 73, \"StichtagDatJahr_str\": \"2005-01-01\"}, {\"StichtagDatJahr\": \"2005-01-01T00:00:00\", \"QuarSort\": 82, \"QuarCd\": 82, \"QuarLang\": \"M\\u00fchlebach\", \"AnzBestWir\": 5577, \"AnzNat\": 89, \"StichtagDatJahr_str\": \"2005-01-01\"}, {\"StichtagDatJahr\": \"2005-01-01T00:00:00\", \"QuarSort\": 74, \"QuarCd\": 74, \"QuarLang\": \"Witikon\", \"AnzBestWir\": 9864, \"AnzNat\": 91, \"StichtagDatJahr_str\": \"2005-01-01\"}, {\"StichtagDatJahr\": \"2005-01-01T00:00:00\", \"QuarSort\": 73, \"QuarCd\": 73, \"QuarLang\": \"Hirslanden\", \"AnzBestWir\": 6859, \"AnzNat\": 75, \"StichtagDatJahr_str\": \"2005-01-01\"}, {\"StichtagDatJahr\": \"2004-01-01T00:00:00\", \"QuarSort\": 61, \"QuarCd\": 61, \"QuarLang\": \"Unterstrass\", \"AnzBestWir\": 19742, \"AnzNat\": 119, \"StichtagDatJahr_str\": \"2004-01-01\"}, {\"StichtagDatJahr\": \"2004-01-01T00:00:00\", \"QuarSort\": 33, \"QuarCd\": 33, \"QuarLang\": \"Friesenberg\", \"AnzBestWir\": 10326, \"AnzNat\": 90, \"StichtagDatJahr_str\": \"2004-01-01\"}, {\"StichtagDatJahr\": \"2004-01-01T00:00:00\", \"QuarSort\": 52, \"QuarCd\": 52, \"QuarLang\": \"Escher Wyss\", \"AnzBestWir\": 2624, \"AnzNat\": 62, \"StichtagDatJahr_str\": \"2004-01-01\"}, {\"StichtagDatJahr\": \"2004-01-01T00:00:00\", \"QuarSort\": 51, \"QuarCd\": 51, \"QuarLang\": \"Gewerbeschule\", \"AnzBestWir\": 9773, \"AnzNat\": 107, \"StichtagDatJahr_str\": \"2004-01-01\"}, {\"StichtagDatJahr\": \"2004-01-01T00:00:00\", \"QuarSort\": 44, \"QuarCd\": 44, \"QuarLang\": \"Hard\", \"AnzBestWir\": 12804, \"AnzNat\": 108, \"StichtagDatJahr_str\": \"2004-01-01\"}, {\"StichtagDatJahr\": \"2004-01-01T00:00:00\", \"QuarSort\": 42, \"QuarCd\": 42, \"QuarLang\": \"Langstrasse\", \"AnzBestWir\": 10319, \"AnzNat\": 108, \"StichtagDatJahr_str\": \"2004-01-01\"}, {\"StichtagDatJahr\": \"2004-01-01T00:00:00\", \"QuarSort\": 41, \"QuarCd\": 41, \"QuarLang\": \"Werd\", \"AnzBestWir\": 3763, \"AnzNat\": 81, \"StichtagDatJahr_str\": \"2004-01-01\"}, {\"StichtagDatJahr\": \"2004-01-01T00:00:00\", \"QuarSort\": 34, \"QuarCd\": 34, \"QuarLang\": \"Sihlfeld\", \"AnzBestWir\": 20567, \"AnzNat\": 117, \"StichtagDatJahr_str\": \"2004-01-01\"}, {\"StichtagDatJahr\": \"2004-01-01T00:00:00\", \"QuarSort\": 11, \"QuarCd\": 11, \"QuarLang\": \"Rathaus\", \"AnzBestWir\": 3115, \"AnzNat\": 75, \"StichtagDatJahr_str\": \"2004-01-01\"}, {\"StichtagDatJahr\": \"2004-01-01T00:00:00\", \"QuarSort\": 31, \"QuarCd\": 31, \"QuarLang\": \"Alt-Wiedikon\", \"AnzBestWir\": 14551, \"AnzNat\": 110, \"StichtagDatJahr_str\": \"2004-01-01\"}, {\"StichtagDatJahr\": \"2004-01-01T00:00:00\", \"QuarSort\": 24, \"QuarCd\": 24, \"QuarLang\": \"Enge\", \"AnzBestWir\": 8209, \"AnzNat\": 82, \"StichtagDatJahr_str\": \"2004-01-01\"}, {\"StichtagDatJahr\": \"2004-01-01T00:00:00\", \"QuarSort\": 21, \"QuarCd\": 21, \"QuarLang\": \"Wollishofen\", \"AnzBestWir\": 15499, \"AnzNat\": 99, \"StichtagDatJahr_str\": \"2004-01-01\"}, {\"StichtagDatJahr\": \"2004-01-01T00:00:00\", \"QuarSort\": 14, \"QuarCd\": 14, \"QuarLang\": \"City\", \"AnzBestWir\": 843, \"AnzNat\": 42, \"StichtagDatJahr_str\": \"2004-01-01\"}, {\"StichtagDatJahr\": \"2004-01-01T00:00:00\", \"QuarSort\": 13, \"QuarCd\": 13, \"QuarLang\": \"Lindenhof\", \"AnzBestWir\": 947, \"AnzNat\": 42, \"StichtagDatJahr_str\": \"2004-01-01\"}, {\"StichtagDatJahr\": \"2004-01-01T00:00:00\", \"QuarSort\": 12, \"QuarCd\": 12, \"QuarLang\": \"Hochschulen\", \"AnzBestWir\": 725, \"AnzNat\": 53, \"StichtagDatJahr_str\": \"2004-01-01\"}, {\"StichtagDatJahr\": \"2004-01-01T00:00:00\", \"QuarSort\": 71, \"QuarCd\": 71, \"QuarLang\": \"Fluntern\", \"AnzBestWir\": 7285, \"AnzNat\": 82, \"StichtagDatJahr_str\": \"2004-01-01\"}, {\"StichtagDatJahr\": \"2004-01-01T00:00:00\", \"QuarSort\": 63, \"QuarCd\": 63, \"QuarLang\": \"Oberstrass\", \"AnzBestWir\": 9546, \"AnzNat\": 98, \"StichtagDatJahr_str\": \"2004-01-01\"}, {\"StichtagDatJahr\": \"2004-01-01T00:00:00\", \"QuarSort\": 23, \"QuarCd\": 23, \"QuarLang\": \"Leimbach\", \"AnzBestWir\": 4778, \"AnzNat\": 71, \"StichtagDatJahr_str\": \"2004-01-01\"}, {\"StichtagDatJahr\": \"2004-01-01T00:00:00\", \"QuarSort\": 72, \"QuarCd\": 72, \"QuarLang\": \"Hottingen\", \"AnzBestWir\": 9926, \"AnzNat\": 89, \"StichtagDatJahr_str\": \"2004-01-01\"}, {\"StichtagDatJahr\": \"2004-01-01T00:00:00\", \"QuarSort\": 102, \"QuarCd\": 102, \"QuarLang\": \"Wipkingen\", \"AnzBestWir\": 15428, \"AnzNat\": 114, \"StichtagDatJahr_str\": \"2004-01-01\"}, {\"StichtagDatJahr\": \"2004-01-01T00:00:00\", \"QuarSort\": 122, \"QuarCd\": 122, \"QuarLang\": \"Schwamendingen-Mitte\", \"AnzBestWir\": 10274, \"AnzNat\": 99, \"StichtagDatJahr_str\": \"2004-01-01\"}, {\"StichtagDatJahr\": \"2004-01-01T00:00:00\", \"QuarSort\": 121, \"QuarCd\": 121, \"QuarLang\": \"Saatlen\", \"AnzBestWir\": 6697, \"AnzNat\": 79, \"StichtagDatJahr_str\": \"2004-01-01\"}, {\"StichtagDatJahr\": \"2004-01-01T00:00:00\", \"QuarSort\": 119, \"QuarCd\": 119, \"QuarLang\": \"Seebach\", \"AnzBestWir\": 19501, \"AnzNat\": 120, \"StichtagDatJahr_str\": \"2004-01-01\"}, {\"StichtagDatJahr\": \"2004-01-01T00:00:00\", \"QuarSort\": 115, \"QuarCd\": 115, \"QuarLang\": \"Oerlikon\", \"AnzBestWir\": 19375, \"AnzNat\": 126, \"StichtagDatJahr_str\": \"2004-01-01\"}, {\"StichtagDatJahr\": \"2004-01-01T00:00:00\", \"QuarSort\": 123, \"QuarCd\": 123, \"QuarLang\": \"Hirzenbach\", \"AnzBestWir\": 11336, \"AnzNat\": 103, \"StichtagDatJahr_str\": \"2004-01-01\"}, {\"StichtagDatJahr\": \"2004-01-01T00:00:00\", \"QuarSort\": 111, \"QuarCd\": 111, \"QuarLang\": \"Affoltern\", \"AnzBestWir\": 18886, \"AnzNat\": 117, \"StichtagDatJahr_str\": \"2004-01-01\"}, {\"StichtagDatJahr\": \"2004-01-01T00:00:00\", \"QuarSort\": 73, \"QuarCd\": 73, \"QuarLang\": \"Hirslanden\", \"AnzBestWir\": 6806, \"AnzNat\": 76, \"StichtagDatJahr_str\": \"2004-01-01\"}, {\"StichtagDatJahr\": \"2004-01-01T00:00:00\", \"QuarSort\": 101, \"QuarCd\": 101, \"QuarLang\": \"H\\u00f6ngg\", \"AnzBestWir\": 20856, \"AnzNat\": 113, \"StichtagDatJahr_str\": \"2004-01-01\"}, {\"StichtagDatJahr\": \"2004-01-01T00:00:00\", \"QuarSort\": 91, \"QuarCd\": 91, \"QuarLang\": \"Albisrieden\", \"AnzBestWir\": 17087, \"AnzNat\": 107, \"StichtagDatJahr_str\": \"2004-01-01\"}, {\"StichtagDatJahr\": \"2004-01-01T00:00:00\", \"QuarSort\": 83, \"QuarCd\": 83, \"QuarLang\": \"Weinegg\", \"AnzBestWir\": 4771, \"AnzNat\": 71, \"StichtagDatJahr_str\": \"2004-01-01\"}, {\"StichtagDatJahr\": \"2004-01-01T00:00:00\", \"QuarSort\": 82, \"QuarCd\": 82, \"QuarLang\": \"M\\u00fchlebach\", \"AnzBestWir\": 5546, \"AnzNat\": 86, \"StichtagDatJahr_str\": \"2004-01-01\"}, {\"StichtagDatJahr\": \"2004-01-01T00:00:00\", \"QuarSort\": 81, \"QuarCd\": 81, \"QuarLang\": \"Seefeld\", \"AnzBestWir\": 4993, \"AnzNat\": 82, \"StichtagDatJahr_str\": \"2004-01-01\"}, {\"StichtagDatJahr\": \"2004-01-01T00:00:00\", \"QuarSort\": 74, \"QuarCd\": 74, \"QuarLang\": \"Witikon\", \"AnzBestWir\": 9711, \"AnzNat\": 91, \"StichtagDatJahr_str\": \"2004-01-01\"}, {\"StichtagDatJahr\": \"2004-01-01T00:00:00\", \"QuarSort\": 92, \"QuarCd\": 92, \"QuarLang\": \"Altstetten\", \"AnzBestWir\": 28368, \"AnzNat\": 124, \"StichtagDatJahr_str\": \"2004-01-01\"}, {\"StichtagDatJahr\": \"2003-01-01T00:00:00\", \"QuarSort\": 31, \"QuarCd\": 31, \"QuarLang\": \"Alt-Wiedikon\", \"AnzBestWir\": 14459, \"AnzNat\": 107, \"StichtagDatJahr_str\": \"2003-01-01\"}, {\"StichtagDatJahr\": \"2003-01-01T00:00:00\", \"QuarSort\": 52, \"QuarCd\": 52, \"QuarLang\": \"Escher Wyss\", \"AnzBestWir\": 2465, \"AnzNat\": 59, \"StichtagDatJahr_str\": \"2003-01-01\"}, {\"StichtagDatJahr\": \"2003-01-01T00:00:00\", \"QuarSort\": 51, \"QuarCd\": 51, \"QuarLang\": \"Gewerbeschule\", \"AnzBestWir\": 9781, \"AnzNat\": 102, \"StichtagDatJahr_str\": \"2003-01-01\"}, {\"StichtagDatJahr\": \"2003-01-01T00:00:00\", \"QuarSort\": 44, \"QuarCd\": 44, \"QuarLang\": \"Hard\", \"AnzBestWir\": 12817, \"AnzNat\": 106, \"StichtagDatJahr_str\": \"2003-01-01\"}, {\"StichtagDatJahr\": \"2003-01-01T00:00:00\", \"QuarSort\": 42, \"QuarCd\": 42, \"QuarLang\": \"Langstrasse\", \"AnzBestWir\": 10304, \"AnzNat\": 112, \"StichtagDatJahr_str\": \"2003-01-01\"}, {\"StichtagDatJahr\": \"2003-01-01T00:00:00\", \"QuarSort\": 41, \"QuarCd\": 41, \"QuarLang\": \"Werd\", \"AnzBestWir\": 3788, \"AnzNat\": 84, \"StichtagDatJahr_str\": \"2003-01-01\"}, {\"StichtagDatJahr\": \"2003-01-01T00:00:00\", \"QuarSort\": 34, \"QuarCd\": 34, \"QuarLang\": \"Sihlfeld\", \"AnzBestWir\": 20663, \"AnzNat\": 118, \"StichtagDatJahr_str\": \"2003-01-01\"}, {\"StichtagDatJahr\": \"2003-01-01T00:00:00\", \"QuarSort\": 33, \"QuarCd\": 33, \"QuarLang\": \"Friesenberg\", \"AnzBestWir\": 10387, \"AnzNat\": 91, \"StichtagDatJahr_str\": \"2003-01-01\"}, {\"StichtagDatJahr\": \"2003-01-01T00:00:00\", \"QuarSort\": 21, \"QuarCd\": 21, \"QuarLang\": \"Wollishofen\", \"AnzBestWir\": 15468, \"AnzNat\": 99, \"StichtagDatJahr_str\": \"2003-01-01\"}, {\"StichtagDatJahr\": \"2003-01-01T00:00:00\", \"QuarSort\": 24, \"QuarCd\": 24, \"QuarLang\": \"Enge\", \"AnzBestWir\": 8228, \"AnzNat\": 88, \"StichtagDatJahr_str\": \"2003-01-01\"}, {\"StichtagDatJahr\": \"2003-01-01T00:00:00\", \"QuarSort\": 23, \"QuarCd\": 23, \"QuarLang\": \"Leimbach\", \"AnzBestWir\": 4830, \"AnzNat\": 72, \"StichtagDatJahr_str\": \"2003-01-01\"}, {\"StichtagDatJahr\": \"2003-01-01T00:00:00\", \"QuarSort\": 14, \"QuarCd\": 14, \"QuarLang\": \"City\", \"AnzBestWir\": 886, \"AnzNat\": 44, \"StichtagDatJahr_str\": \"2003-01-01\"}, {\"StichtagDatJahr\": \"2003-01-01T00:00:00\", \"QuarSort\": 13, \"QuarCd\": 13, \"QuarLang\": \"Lindenhof\", \"AnzBestWir\": 942, \"AnzNat\": 36, \"StichtagDatJahr_str\": \"2003-01-01\"}, {\"StichtagDatJahr\": \"2003-01-01T00:00:00\", \"QuarSort\": 12, \"QuarCd\": 12, \"QuarLang\": \"Hochschulen\", \"AnzBestWir\": 723, \"AnzNat\": 50, \"StichtagDatJahr_str\": \"2003-01-01\"}, {\"StichtagDatJahr\": \"2003-01-01T00:00:00\", \"QuarSort\": 11, \"QuarCd\": 11, \"QuarLang\": \"Rathaus\", \"AnzBestWir\": 3149, \"AnzNat\": 69, \"StichtagDatJahr_str\": \"2003-01-01\"}, {\"StichtagDatJahr\": \"2003-01-01T00:00:00\", \"QuarSort\": 63, \"QuarCd\": 63, \"QuarLang\": \"Oberstrass\", \"AnzBestWir\": 9689, \"AnzNat\": 98, \"StichtagDatJahr_str\": \"2003-01-01\"}, {\"StichtagDatJahr\": \"2003-01-01T00:00:00\", \"QuarSort\": 61, \"QuarCd\": 61, \"QuarLang\": \"Unterstrass\", \"AnzBestWir\": 19882, \"AnzNat\": 114, \"StichtagDatJahr_str\": \"2003-01-01\"}, {\"StichtagDatJahr\": \"2003-01-01T00:00:00\", \"QuarSort\": 71, \"QuarCd\": 71, \"QuarLang\": \"Fluntern\", \"AnzBestWir\": 7102, \"AnzNat\": 78, \"StichtagDatJahr_str\": \"2003-01-01\"}, {\"StichtagDatJahr\": \"2003-01-01T00:00:00\", \"QuarSort\": 123, \"QuarCd\": 123, \"QuarLang\": \"Hirzenbach\", \"AnzBestWir\": 11432, \"AnzNat\": 101, \"StichtagDatJahr_str\": \"2003-01-01\"}, {\"StichtagDatJahr\": \"2003-01-01T00:00:00\", \"QuarSort\": 101, \"QuarCd\": 101, \"QuarLang\": \"H\\u00f6ngg\", \"AnzBestWir\": 20810, \"AnzNat\": 113, \"StichtagDatJahr_str\": \"2003-01-01\"}, {\"StichtagDatJahr\": \"2003-01-01T00:00:00\", \"QuarSort\": 72, \"QuarCd\": 72, \"QuarLang\": \"Hottingen\", \"AnzBestWir\": 10017, \"AnzNat\": 92, \"StichtagDatJahr_str\": \"2003-01-01\"}, {\"StichtagDatJahr\": \"2003-01-01T00:00:00\", \"QuarSort\": 122, \"QuarCd\": 122, \"QuarLang\": \"Schwamendingen-Mitte\", \"AnzBestWir\": 10389, \"AnzNat\": 104, \"StichtagDatJahr_str\": \"2003-01-01\"}, {\"StichtagDatJahr\": \"2003-01-01T00:00:00\", \"QuarSort\": 121, \"QuarCd\": 121, \"QuarLang\": \"Saatlen\", \"AnzBestWir\": 6583, \"AnzNat\": 76, \"StichtagDatJahr_str\": \"2003-01-01\"}, {\"StichtagDatJahr\": \"2003-01-01T00:00:00\", \"QuarSort\": 119, \"QuarCd\": 119, \"QuarLang\": \"Seebach\", \"AnzBestWir\": 19438, \"AnzNat\": 120, \"StichtagDatJahr_str\": \"2003-01-01\"}, {\"StichtagDatJahr\": \"2003-01-01T00:00:00\", \"QuarSort\": 111, \"QuarCd\": 111, \"QuarLang\": \"Affoltern\", \"AnzBestWir\": 18787, \"AnzNat\": 115, \"StichtagDatJahr_str\": \"2003-01-01\"}, {\"StichtagDatJahr\": \"2003-01-01T00:00:00\", \"QuarSort\": 102, \"QuarCd\": 102, \"QuarLang\": \"Wipkingen\", \"AnzBestWir\": 15476, \"AnzNat\": 114, \"StichtagDatJahr_str\": \"2003-01-01\"}, {\"StichtagDatJahr\": \"2003-01-01T00:00:00\", \"QuarSort\": 115, \"QuarCd\": 115, \"QuarLang\": \"Oerlikon\", \"AnzBestWir\": 19217, \"AnzNat\": 121, \"StichtagDatJahr_str\": \"2003-01-01\"}, {\"StichtagDatJahr\": \"2003-01-01T00:00:00\", \"QuarSort\": 92, \"QuarCd\": 92, \"QuarLang\": \"Altstetten\", \"AnzBestWir\": 28323, \"AnzNat\": 125, \"StichtagDatJahr_str\": \"2003-01-01\"}, {\"StichtagDatJahr\": \"2003-01-01T00:00:00\", \"QuarSort\": 91, \"QuarCd\": 91, \"QuarLang\": \"Albisrieden\", \"AnzBestWir\": 17018, \"AnzNat\": 110, \"StichtagDatJahr_str\": \"2003-01-01\"}, {\"StichtagDatJahr\": \"2003-01-01T00:00:00\", \"QuarSort\": 83, \"QuarCd\": 83, \"QuarLang\": \"Weinegg\", \"AnzBestWir\": 4747, \"AnzNat\": 74, \"StichtagDatJahr_str\": \"2003-01-01\"}, {\"StichtagDatJahr\": \"2003-01-01T00:00:00\", \"QuarSort\": 82, \"QuarCd\": 82, \"QuarLang\": \"M\\u00fchlebach\", \"AnzBestWir\": 5434, \"AnzNat\": 80, \"StichtagDatJahr_str\": \"2003-01-01\"}, {\"StichtagDatJahr\": \"2003-01-01T00:00:00\", \"QuarSort\": 81, \"QuarCd\": 81, \"QuarLang\": \"Seefeld\", \"AnzBestWir\": 4996, \"AnzNat\": 84, \"StichtagDatJahr_str\": \"2003-01-01\"}, {\"StichtagDatJahr\": \"2003-01-01T00:00:00\", \"QuarSort\": 74, \"QuarCd\": 74, \"QuarLang\": \"Witikon\", \"AnzBestWir\": 9503, \"AnzNat\": 86, \"StichtagDatJahr_str\": \"2003-01-01\"}, {\"StichtagDatJahr\": \"2003-01-01T00:00:00\", \"QuarSort\": 73, \"QuarCd\": 73, \"QuarLang\": \"Hirslanden\", \"AnzBestWir\": 6795, \"AnzNat\": 76, \"StichtagDatJahr_str\": \"2003-01-01\"}, {\"StichtagDatJahr\": \"2002-01-01T00:00:00\", \"QuarSort\": 33, \"QuarCd\": 33, \"QuarLang\": \"Friesenberg\", \"AnzBestWir\": 10188, \"AnzNat\": 88, \"StichtagDatJahr_str\": \"2002-01-01\"}, {\"StichtagDatJahr\": \"2002-01-01T00:00:00\", \"QuarSort\": 52, \"QuarCd\": 52, \"QuarLang\": \"Escher Wyss\", \"AnzBestWir\": 2516, \"AnzNat\": 58, \"StichtagDatJahr_str\": \"2002-01-01\"}, {\"StichtagDatJahr\": \"2002-01-01T00:00:00\", \"QuarSort\": 51, \"QuarCd\": 51, \"QuarLang\": \"Gewerbeschule\", \"AnzBestWir\": 9900, \"AnzNat\": 106, \"StichtagDatJahr_str\": \"2002-01-01\"}, {\"StichtagDatJahr\": \"2002-01-01T00:00:00\", \"QuarSort\": 44, \"QuarCd\": 44, \"QuarLang\": \"Hard\", \"AnzBestWir\": 12856, \"AnzNat\": 104, \"StichtagDatJahr_str\": \"2002-01-01\"}, {\"StichtagDatJahr\": \"2002-01-01T00:00:00\", \"QuarSort\": 11, \"QuarCd\": 11, \"QuarLang\": \"Rathaus\", \"AnzBestWir\": 3128, \"AnzNat\": 71, \"StichtagDatJahr_str\": \"2002-01-01\"}, {\"StichtagDatJahr\": \"2002-01-01T00:00:00\", \"QuarSort\": 42, \"QuarCd\": 42, \"QuarLang\": \"Langstrasse\", \"AnzBestWir\": 10447, \"AnzNat\": 108, \"StichtagDatJahr_str\": \"2002-01-01\"}, {\"StichtagDatJahr\": \"2002-01-01T00:00:00\", \"QuarSort\": 41, \"QuarCd\": 41, \"QuarLang\": \"Werd\", \"AnzBestWir\": 3850, \"AnzNat\": 84, \"StichtagDatJahr_str\": \"2002-01-01\"}, {\"StichtagDatJahr\": \"2002-01-01T00:00:00\", \"QuarSort\": 34, \"QuarCd\": 34, \"QuarLang\": \"Sihlfeld\", \"AnzBestWir\": 20731, \"AnzNat\": 122, \"StichtagDatJahr_str\": \"2002-01-01\"}, {\"StichtagDatJahr\": \"2002-01-01T00:00:00\", \"QuarSort\": 63, \"QuarCd\": 63, \"QuarLang\": \"Oberstrass\", \"AnzBestWir\": 9725, \"AnzNat\": 93, \"StichtagDatJahr_str\": \"2002-01-01\"}, {\"StichtagDatJahr\": \"2002-01-01T00:00:00\", \"QuarSort\": 31, \"QuarCd\": 31, \"QuarLang\": \"Alt-Wiedikon\", \"AnzBestWir\": 14811, \"AnzNat\": 102, \"StichtagDatJahr_str\": \"2002-01-01\"}, {\"StichtagDatJahr\": \"2002-01-01T00:00:00\", \"QuarSort\": 24, \"QuarCd\": 24, \"QuarLang\": \"Enge\", \"AnzBestWir\": 8279, \"AnzNat\": 86, \"StichtagDatJahr_str\": \"2002-01-01\"}, {\"StichtagDatJahr\": \"2002-01-01T00:00:00\", \"QuarSort\": 23, \"QuarCd\": 23, \"QuarLang\": \"Leimbach\", \"AnzBestWir\": 4681, \"AnzNat\": 73, \"StichtagDatJahr_str\": \"2002-01-01\"}, {\"StichtagDatJahr\": \"2002-01-01T00:00:00\", \"QuarSort\": 21, \"QuarCd\": 21, \"QuarLang\": \"Wollishofen\", \"AnzBestWir\": 15771, \"AnzNat\": 102, \"StichtagDatJahr_str\": \"2002-01-01\"}, {\"StichtagDatJahr\": \"2002-01-01T00:00:00\", \"QuarSort\": 14, \"QuarCd\": 14, \"QuarLang\": \"City\", \"AnzBestWir\": 910, \"AnzNat\": 45, \"StichtagDatJahr_str\": \"2002-01-01\"}, {\"StichtagDatJahr\": \"2002-01-01T00:00:00\", \"QuarSort\": 13, \"QuarCd\": 13, \"QuarLang\": \"Lindenhof\", \"AnzBestWir\": 950, \"AnzNat\": 33, \"StichtagDatJahr_str\": \"2002-01-01\"}, {\"StichtagDatJahr\": \"2002-01-01T00:00:00\", \"QuarSort\": 12, \"QuarCd\": 12, \"QuarLang\": \"Hochschulen\", \"AnzBestWir\": 727, \"AnzNat\": 44, \"StichtagDatJahr_str\": \"2002-01-01\"}, {\"StichtagDatJahr\": \"2002-01-01T00:00:00\", \"QuarSort\": 61, \"QuarCd\": 61, \"QuarLang\": \"Unterstrass\", \"AnzBestWir\": 19863, \"AnzNat\": 112, \"StichtagDatJahr_str\": \"2002-01-01\"}, {\"StichtagDatJahr\": \"2002-01-01T00:00:00\", \"QuarSort\": 82, \"QuarCd\": 82, \"QuarLang\": \"M\\u00fchlebach\", \"AnzBestWir\": 5450, \"AnzNat\": 80, \"StichtagDatJahr_str\": \"2002-01-01\"}, {\"StichtagDatJahr\": \"2002-01-01T00:00:00\", \"QuarSort\": 71, \"QuarCd\": 71, \"QuarLang\": \"Fluntern\", \"AnzBestWir\": 7069, \"AnzNat\": 77, \"StichtagDatJahr_str\": \"2002-01-01\"}, {\"StichtagDatJahr\": \"2002-01-01T00:00:00\", \"QuarSort\": 102, \"QuarCd\": 102, \"QuarLang\": \"Wipkingen\", \"AnzBestWir\": 15495, \"AnzNat\": 114, \"StichtagDatJahr_str\": \"2002-01-01\"}, {\"StichtagDatJahr\": \"2002-01-01T00:00:00\", \"QuarSort\": 72, \"QuarCd\": 72, \"QuarLang\": \"Hottingen\", \"AnzBestWir\": 10021, \"AnzNat\": 94, \"StichtagDatJahr_str\": \"2002-01-01\"}, {\"StichtagDatJahr\": \"2002-01-01T00:00:00\", \"QuarSort\": 123, \"QuarCd\": 123, \"QuarLang\": \"Hirzenbach\", \"AnzBestWir\": 11434, \"AnzNat\": 101, \"StichtagDatJahr_str\": \"2002-01-01\"}, {\"StichtagDatJahr\": \"2002-01-01T00:00:00\", \"QuarSort\": 122, \"QuarCd\": 122, \"QuarLang\": \"Schwamendingen-Mitte\", \"AnzBestWir\": 10373, \"AnzNat\": 102, \"StichtagDatJahr_str\": \"2002-01-01\"}, {\"StichtagDatJahr\": \"2002-01-01T00:00:00\", \"QuarSort\": 121, \"QuarCd\": 121, \"QuarLang\": \"Saatlen\", \"AnzBestWir\": 6663, \"AnzNat\": 75, \"StichtagDatJahr_str\": \"2002-01-01\"}, {\"StichtagDatJahr\": \"2002-01-01T00:00:00\", \"QuarSort\": 119, \"QuarCd\": 119, \"QuarLang\": \"Seebach\", \"AnzBestWir\": 18972, \"AnzNat\": 120, \"StichtagDatJahr_str\": \"2002-01-01\"}, {\"StichtagDatJahr\": \"2002-01-01T00:00:00\", \"QuarSort\": 111, \"QuarCd\": 111, \"QuarLang\": \"Affoltern\", \"AnzBestWir\": 18705, \"AnzNat\": 113, \"StichtagDatJahr_str\": \"2002-01-01\"}, {\"StichtagDatJahr\": \"2002-01-01T00:00:00\", \"QuarSort\": 115, \"QuarCd\": 115, \"QuarLang\": \"Oerlikon\", \"AnzBestWir\": 18778, \"AnzNat\": 117, \"StichtagDatJahr_str\": \"2002-01-01\"}, {\"StichtagDatJahr\": \"2002-01-01T00:00:00\", \"QuarSort\": 101, \"QuarCd\": 101, \"QuarLang\": \"H\\u00f6ngg\", \"AnzBestWir\": 20570, \"AnzNat\": 111, \"StichtagDatJahr_str\": \"2002-01-01\"}, {\"StichtagDatJahr\": \"2002-01-01T00:00:00\", \"QuarSort\": 92, \"QuarCd\": 92, \"QuarLang\": \"Altstetten\", \"AnzBestWir\": 28776, \"AnzNat\": 118, \"StichtagDatJahr_str\": \"2002-01-01\"}, {\"StichtagDatJahr\": \"2002-01-01T00:00:00\", \"QuarSort\": 91, \"QuarCd\": 91, \"QuarLang\": \"Albisrieden\", \"AnzBestWir\": 16669, \"AnzNat\": 110, \"StichtagDatJahr_str\": \"2002-01-01\"}, {\"StichtagDatJahr\": \"2002-01-01T00:00:00\", \"QuarSort\": 83, \"QuarCd\": 83, \"QuarLang\": \"Weinegg\", \"AnzBestWir\": 4776, \"AnzNat\": 76, \"StichtagDatJahr_str\": \"2002-01-01\"}, {\"StichtagDatJahr\": \"2002-01-01T00:00:00\", \"QuarSort\": 81, \"QuarCd\": 81, \"QuarLang\": \"Seefeld\", \"AnzBestWir\": 5122, \"AnzNat\": 99, \"StichtagDatJahr_str\": \"2002-01-01\"}, {\"StichtagDatJahr\": \"2002-01-01T00:00:00\", \"QuarSort\": 74, \"QuarCd\": 74, \"QuarLang\": \"Witikon\", \"AnzBestWir\": 9571, \"AnzNat\": 85, \"StichtagDatJahr_str\": \"2002-01-01\"}, {\"StichtagDatJahr\": \"2002-01-01T00:00:00\", \"QuarSort\": 73, \"QuarCd\": 73, \"QuarLang\": \"Hirslanden\", \"AnzBestWir\": 6781, \"AnzNat\": 76, \"StichtagDatJahr_str\": \"2002-01-01\"}, {\"StichtagDatJahr\": \"2001-01-01T00:00:00\", \"QuarSort\": 33, \"QuarCd\": 33, \"QuarLang\": \"Friesenberg\", \"AnzBestWir\": 10042, \"AnzNat\": 87, \"StichtagDatJahr_str\": \"2001-01-01\"}, {\"StichtagDatJahr\": \"2001-01-01T00:00:00\", \"QuarSort\": 52, \"QuarCd\": 52, \"QuarLang\": \"Escher Wyss\", \"AnzBestWir\": 2133, \"AnzNat\": 57, \"StichtagDatJahr_str\": \"2001-01-01\"}, {\"StichtagDatJahr\": \"2001-01-01T00:00:00\", \"QuarSort\": 51, \"QuarCd\": 51, \"QuarLang\": \"Gewerbeschule\", \"AnzBestWir\": 9835, \"AnzNat\": 109, \"StichtagDatJahr_str\": \"2001-01-01\"}, {\"StichtagDatJahr\": \"2001-01-01T00:00:00\", \"QuarSort\": 44, \"QuarCd\": 44, \"QuarLang\": \"Hard\", \"AnzBestWir\": 12841, \"AnzNat\": 102, \"StichtagDatJahr_str\": \"2001-01-01\"}, {\"StichtagDatJahr\": \"2001-01-01T00:00:00\", \"QuarSort\": 42, \"QuarCd\": 42, \"QuarLang\": \"Langstrasse\", \"AnzBestWir\": 10276, \"AnzNat\": 104, \"StichtagDatJahr_str\": \"2001-01-01\"}, {\"StichtagDatJahr\": \"2001-01-01T00:00:00\", \"QuarSort\": 41, \"QuarCd\": 41, \"QuarLang\": \"Werd\", \"AnzBestWir\": 3838, \"AnzNat\": 84, \"StichtagDatJahr_str\": \"2001-01-01\"}, {\"StichtagDatJahr\": \"2001-01-01T00:00:00\", \"QuarSort\": 34, \"QuarCd\": 34, \"QuarLang\": \"Sihlfeld\", \"AnzBestWir\": 20704, \"AnzNat\": 121, \"StichtagDatJahr_str\": \"2001-01-01\"}, {\"StichtagDatJahr\": \"2001-01-01T00:00:00\", \"QuarSort\": 11, \"QuarCd\": 11, \"QuarLang\": \"Rathaus\", \"AnzBestWir\": 3103, \"AnzNat\": 71, \"StichtagDatJahr_str\": \"2001-01-01\"}, {\"StichtagDatJahr\": \"2001-01-01T00:00:00\", \"QuarSort\": 31, \"QuarCd\": 31, \"QuarLang\": \"Alt-Wiedikon\", \"AnzBestWir\": 14692, \"AnzNat\": 106, \"StichtagDatJahr_str\": \"2001-01-01\"}, {\"StichtagDatJahr\": \"2001-01-01T00:00:00\", \"QuarSort\": 24, \"QuarCd\": 24, \"QuarLang\": \"Enge\", \"AnzBestWir\": 8102, \"AnzNat\": 84, \"StichtagDatJahr_str\": \"2001-01-01\"}, {\"StichtagDatJahr\": \"2001-01-01T00:00:00\", \"QuarSort\": 23, \"QuarCd\": 23, \"QuarLang\": \"Leimbach\", \"AnzBestWir\": 4668, \"AnzNat\": 72, \"StichtagDatJahr_str\": \"2001-01-01\"}, {\"StichtagDatJahr\": \"2001-01-01T00:00:00\", \"QuarSort\": 21, \"QuarCd\": 21, \"QuarLang\": \"Wollishofen\", \"AnzBestWir\": 15928, \"AnzNat\": 98, \"StichtagDatJahr_str\": \"2001-01-01\"}, {\"StichtagDatJahr\": \"2001-01-01T00:00:00\", \"QuarSort\": 14, \"QuarCd\": 14, \"QuarLang\": \"City\", \"AnzBestWir\": 907, \"AnzNat\": 47, \"StichtagDatJahr_str\": \"2001-01-01\"}, {\"StichtagDatJahr\": \"2001-01-01T00:00:00\", \"QuarSort\": 13, \"QuarCd\": 13, \"QuarLang\": \"Lindenhof\", \"AnzBestWir\": 948, \"AnzNat\": 36, \"StichtagDatJahr_str\": \"2001-01-01\"}, {\"StichtagDatJahr\": \"2001-01-01T00:00:00\", \"QuarSort\": 12, \"QuarCd\": 12, \"QuarLang\": \"Hochschulen\", \"AnzBestWir\": 738, \"AnzNat\": 50, \"StichtagDatJahr_str\": \"2001-01-01\"}, {\"StichtagDatJahr\": \"2001-01-01T00:00:00\", \"QuarSort\": 63, \"QuarCd\": 63, \"QuarLang\": \"Oberstrass\", \"AnzBestWir\": 9764, \"AnzNat\": 94, \"StichtagDatJahr_str\": \"2001-01-01\"}, {\"StichtagDatJahr\": \"2001-01-01T00:00:00\", \"QuarSort\": 61, \"QuarCd\": 61, \"QuarLang\": \"Unterstrass\", \"AnzBestWir\": 19831, \"AnzNat\": 114, \"StichtagDatJahr_str\": \"2001-01-01\"}, {\"StichtagDatJahr\": \"2001-01-01T00:00:00\", \"QuarSort\": 82, \"QuarCd\": 82, \"QuarLang\": \"M\\u00fchlebach\", \"AnzBestWir\": 5486, \"AnzNat\": 77, \"StichtagDatJahr_str\": \"2001-01-01\"}, {\"StichtagDatJahr\": \"2001-01-01T00:00:00\", \"QuarSort\": 71, \"QuarCd\": 71, \"QuarLang\": \"Fluntern\", \"AnzBestWir\": 7221, \"AnzNat\": 81, \"StichtagDatJahr_str\": \"2001-01-01\"}, {\"StichtagDatJahr\": \"2001-01-01T00:00:00\", \"QuarSort\": 102, \"QuarCd\": 102, \"QuarLang\": \"Wipkingen\", \"AnzBestWir\": 15567, \"AnzNat\": 110, \"StichtagDatJahr_str\": \"2001-01-01\"}, {\"StichtagDatJahr\": \"2001-01-01T00:00:00\", \"QuarSort\": 123, \"QuarCd\": 123, \"QuarLang\": \"Hirzenbach\", \"AnzBestWir\": 11302, \"AnzNat\": 100, \"StichtagDatJahr_str\": \"2001-01-01\"}, {\"StichtagDatJahr\": \"2001-01-01T00:00:00\", \"QuarSort\": 122, \"QuarCd\": 122, \"QuarLang\": \"Schwamendingen-Mitte\", \"AnzBestWir\": 10430, \"AnzNat\": 98, \"StichtagDatJahr_str\": \"2001-01-01\"}, {\"StichtagDatJahr\": \"2001-01-01T00:00:00\", \"QuarSort\": 121, \"QuarCd\": 121, \"QuarLang\": \"Saatlen\", \"AnzBestWir\": 6386, \"AnzNat\": 73, \"StichtagDatJahr_str\": \"2001-01-01\"}, {\"StichtagDatJahr\": \"2001-01-01T00:00:00\", \"QuarSort\": 119, \"QuarCd\": 119, \"QuarLang\": \"Seebach\", \"AnzBestWir\": 18103, \"AnzNat\": 113, \"StichtagDatJahr_str\": \"2001-01-01\"}, {\"StichtagDatJahr\": \"2001-01-01T00:00:00\", \"QuarSort\": 72, \"QuarCd\": 72, \"QuarLang\": \"Hottingen\", \"AnzBestWir\": 10096, \"AnzNat\": 90, \"StichtagDatJahr_str\": \"2001-01-01\"}, {\"StichtagDatJahr\": \"2001-01-01T00:00:00\", \"QuarSort\": 111, \"QuarCd\": 111, \"QuarLang\": \"Affoltern\", \"AnzBestWir\": 18693, \"AnzNat\": 104, \"StichtagDatJahr_str\": \"2001-01-01\"}, {\"StichtagDatJahr\": \"2001-01-01T00:00:00\", \"QuarSort\": 115, \"QuarCd\": 115, \"QuarLang\": \"Oerlikon\", \"AnzBestWir\": 18223, \"AnzNat\": 121, \"StichtagDatJahr_str\": \"2001-01-01\"}, {\"StichtagDatJahr\": \"2001-01-01T00:00:00\", \"QuarSort\": 101, \"QuarCd\": 101, \"QuarLang\": \"H\\u00f6ngg\", \"AnzBestWir\": 20588, \"AnzNat\": 112, \"StichtagDatJahr_str\": \"2001-01-01\"}, {\"StichtagDatJahr\": \"2001-01-01T00:00:00\", \"QuarSort\": 92, \"QuarCd\": 92, \"QuarLang\": \"Altstetten\", \"AnzBestWir\": 28783, \"AnzNat\": 117, \"StichtagDatJahr_str\": \"2001-01-01\"}, {\"StichtagDatJahr\": \"2001-01-01T00:00:00\", \"QuarSort\": 91, \"QuarCd\": 91, \"QuarLang\": \"Albisrieden\", \"AnzBestWir\": 16614, \"AnzNat\": 109, \"StichtagDatJahr_str\": \"2001-01-01\"}, {\"StichtagDatJahr\": \"2001-01-01T00:00:00\", \"QuarSort\": 83, \"QuarCd\": 83, \"QuarLang\": \"Weinegg\", \"AnzBestWir\": 4816, \"AnzNat\": 77, \"StichtagDatJahr_str\": \"2001-01-01\"}, {\"StichtagDatJahr\": \"2001-01-01T00:00:00\", \"QuarSort\": 81, \"QuarCd\": 81, \"QuarLang\": \"Seefeld\", \"AnzBestWir\": 5025, \"AnzNat\": 79, \"StichtagDatJahr_str\": \"2001-01-01\"}, {\"StichtagDatJahr\": \"2001-01-01T00:00:00\", \"QuarSort\": 74, \"QuarCd\": 74, \"QuarLang\": \"Witikon\", \"AnzBestWir\": 9559, \"AnzNat\": 82, \"StichtagDatJahr_str\": \"2001-01-01\"}, {\"StichtagDatJahr\": \"2001-01-01T00:00:00\", \"QuarSort\": 73, \"QuarCd\": 73, \"QuarLang\": \"Hirslanden\", \"AnzBestWir\": 6800, \"AnzNat\": 72, \"StichtagDatJahr_str\": \"2001-01-01\"}, {\"StichtagDatJahr\": \"2000-01-01T00:00:00\", \"QuarSort\": 52, \"QuarCd\": 52, \"QuarLang\": \"Escher Wyss\", \"AnzBestWir\": 1929, \"AnzNat\": 54, \"StichtagDatJahr_str\": \"2000-01-01\"}, {\"StichtagDatJahr\": \"2000-01-01T00:00:00\", \"QuarSort\": 51, \"QuarCd\": 51, \"QuarLang\": \"Gewerbeschule\", \"AnzBestWir\": 9824, \"AnzNat\": 107, \"StichtagDatJahr_str\": \"2000-01-01\"}, {\"StichtagDatJahr\": \"2000-01-01T00:00:00\", \"QuarSort\": 44, \"QuarCd\": 44, \"QuarLang\": \"Hard\", \"AnzBestWir\": 12875, \"AnzNat\": 100, \"StichtagDatJahr_str\": \"2000-01-01\"}, {\"StichtagDatJahr\": \"2000-01-01T00:00:00\", \"QuarSort\": 42, \"QuarCd\": 42, \"QuarLang\": \"Langstrasse\", \"AnzBestWir\": 10237, \"AnzNat\": 109, \"StichtagDatJahr_str\": \"2000-01-01\"}, {\"StichtagDatJahr\": \"2000-01-01T00:00:00\", \"QuarSort\": 41, \"QuarCd\": 41, \"QuarLang\": \"Werd\", \"AnzBestWir\": 3917, \"AnzNat\": 85, \"StichtagDatJahr_str\": \"2000-01-01\"}, {\"StichtagDatJahr\": \"2000-01-01T00:00:00\", \"QuarSort\": 31, \"QuarCd\": 31, \"QuarLang\": \"Alt-Wiedikon\", \"AnzBestWir\": 14789, \"AnzNat\": 105, \"StichtagDatJahr_str\": \"2000-01-01\"}, {\"StichtagDatJahr\": \"2000-01-01T00:00:00\", \"QuarSort\": 33, \"QuarCd\": 33, \"QuarLang\": \"Friesenberg\", \"AnzBestWir\": 9972, \"AnzNat\": 85, \"StichtagDatJahr_str\": \"2000-01-01\"}, {\"StichtagDatJahr\": \"2000-01-01T00:00:00\", \"QuarSort\": 34, \"QuarCd\": 34, \"QuarLang\": \"Sihlfeld\", \"AnzBestWir\": 20887, \"AnzNat\": 122, \"StichtagDatJahr_str\": \"2000-01-01\"}, {\"StichtagDatJahr\": \"2000-01-01T00:00:00\", \"QuarSort\": 24, \"QuarCd\": 24, \"QuarLang\": \"Enge\", \"AnzBestWir\": 8189, \"AnzNat\": 84, \"StichtagDatJahr_str\": \"2000-01-01\"}, {\"StichtagDatJahr\": \"2000-01-01T00:00:00\", \"QuarSort\": 23, \"QuarCd\": 23, \"QuarLang\": \"Leimbach\", \"AnzBestWir\": 4644, \"AnzNat\": 77, \"StichtagDatJahr_str\": \"2000-01-01\"}, {\"StichtagDatJahr\": \"2000-01-01T00:00:00\", \"QuarSort\": 21, \"QuarCd\": 21, \"QuarLang\": \"Wollishofen\", \"AnzBestWir\": 16102, \"AnzNat\": 96, \"StichtagDatJahr_str\": \"2000-01-01\"}, {\"StichtagDatJahr\": \"2000-01-01T00:00:00\", \"QuarSort\": 14, \"QuarCd\": 14, \"QuarLang\": \"City\", \"AnzBestWir\": 929, \"AnzNat\": 51, \"StichtagDatJahr_str\": \"2000-01-01\"}, {\"StichtagDatJahr\": \"2000-01-01T00:00:00\", \"QuarSort\": 13, \"QuarCd\": 13, \"QuarLang\": \"Lindenhof\", \"AnzBestWir\": 989, \"AnzNat\": 35, \"StichtagDatJahr_str\": \"2000-01-01\"}, {\"StichtagDatJahr\": \"2000-01-01T00:00:00\", \"QuarSort\": 12, \"QuarCd\": 12, \"QuarLang\": \"Hochschulen\", \"AnzBestWir\": 759, \"AnzNat\": 48, \"StichtagDatJahr_str\": \"2000-01-01\"}, {\"StichtagDatJahr\": \"2000-01-01T00:00:00\", \"QuarSort\": 11, \"QuarCd\": 11, \"QuarLang\": \"Rathaus\", \"AnzBestWir\": 3109, \"AnzNat\": 69, \"StichtagDatJahr_str\": \"2000-01-01\"}, {\"StichtagDatJahr\": \"2000-01-01T00:00:00\", \"QuarSort\": 63, \"QuarCd\": 63, \"QuarLang\": \"Oberstrass\", \"AnzBestWir\": 9864, \"AnzNat\": 94, \"StichtagDatJahr_str\": \"2000-01-01\"}, {\"StichtagDatJahr\": \"2000-01-01T00:00:00\", \"QuarSort\": 61, \"QuarCd\": 61, \"QuarLang\": \"Unterstrass\", \"AnzBestWir\": 19933, \"AnzNat\": 109, \"StichtagDatJahr_str\": \"2000-01-01\"}, {\"StichtagDatJahr\": \"2000-01-01T00:00:00\", \"QuarSort\": 72, \"QuarCd\": 72, \"QuarLang\": \"Hottingen\", \"AnzBestWir\": 10147, \"AnzNat\": 88, \"StichtagDatJahr_str\": \"2000-01-01\"}, {\"StichtagDatJahr\": \"2000-01-01T00:00:00\", \"QuarSort\": 71, \"QuarCd\": 71, \"QuarLang\": \"Fluntern\", \"AnzBestWir\": 7267, \"AnzNat\": 81, \"StichtagDatJahr_str\": \"2000-01-01\"}, {\"StichtagDatJahr\": \"2000-01-01T00:00:00\", \"QuarSort\": 101, \"QuarCd\": 101, \"QuarLang\": \"H\\u00f6ngg\", \"AnzBestWir\": 20423, \"AnzNat\": 102, \"StichtagDatJahr_str\": \"2000-01-01\"}, {\"StichtagDatJahr\": \"2000-01-01T00:00:00\", \"QuarSort\": 122, \"QuarCd\": 122, \"QuarLang\": \"Schwamendingen-Mitte\", \"AnzBestWir\": 10479, \"AnzNat\": 100, \"StichtagDatJahr_str\": \"2000-01-01\"}, {\"StichtagDatJahr\": \"2000-01-01T00:00:00\", \"QuarSort\": 121, \"QuarCd\": 121, \"QuarLang\": \"Saatlen\", \"AnzBestWir\": 6338, \"AnzNat\": 78, \"StichtagDatJahr_str\": \"2000-01-01\"}, {\"StichtagDatJahr\": \"2000-01-01T00:00:00\", \"QuarSort\": 119, \"QuarCd\": 119, \"QuarLang\": \"Seebach\", \"AnzBestWir\": 17870, \"AnzNat\": 110, \"StichtagDatJahr_str\": \"2000-01-01\"}, {\"StichtagDatJahr\": \"2000-01-01T00:00:00\", \"QuarSort\": 115, \"QuarCd\": 115, \"QuarLang\": \"Oerlikon\", \"AnzBestWir\": 17876, \"AnzNat\": 117, \"StichtagDatJahr_str\": \"2000-01-01\"}, {\"StichtagDatJahr\": \"2000-01-01T00:00:00\", \"QuarSort\": 111, \"QuarCd\": 111, \"QuarLang\": \"Affoltern\", \"AnzBestWir\": 18387, \"AnzNat\": 103, \"StichtagDatJahr_str\": \"2000-01-01\"}, {\"StichtagDatJahr\": \"2000-01-01T00:00:00\", \"QuarSort\": 102, \"QuarCd\": 102, \"QuarLang\": \"Wipkingen\", \"AnzBestWir\": 15704, \"AnzNat\": 111, \"StichtagDatJahr_str\": \"2000-01-01\"}, {\"StichtagDatJahr\": \"2000-01-01T00:00:00\", \"QuarSort\": 123, \"QuarCd\": 123, \"QuarLang\": \"Hirzenbach\", \"AnzBestWir\": 11281, \"AnzNat\": 96, \"StichtagDatJahr_str\": \"2000-01-01\"}, {\"StichtagDatJahr\": \"2000-01-01T00:00:00\", \"QuarSort\": 92, \"QuarCd\": 92, \"QuarLang\": \"Altstetten\", \"AnzBestWir\": 28174, \"AnzNat\": 117, \"StichtagDatJahr_str\": \"2000-01-01\"}, {\"StichtagDatJahr\": \"2000-01-01T00:00:00\", \"QuarSort\": 83, \"QuarCd\": 83, \"QuarLang\": \"Weinegg\", \"AnzBestWir\": 4804, \"AnzNat\": 73, \"StichtagDatJahr_str\": \"2000-01-01\"}, {\"StichtagDatJahr\": \"2000-01-01T00:00:00\", \"QuarSort\": 82, \"QuarCd\": 82, \"QuarLang\": \"M\\u00fchlebach\", \"AnzBestWir\": 5545, \"AnzNat\": 81, \"StichtagDatJahr_str\": \"2000-01-01\"}, {\"StichtagDatJahr\": \"2000-01-01T00:00:00\", \"QuarSort\": 81, \"QuarCd\": 81, \"QuarLang\": \"Seefeld\", \"AnzBestWir\": 4989, \"AnzNat\": 79, \"StichtagDatJahr_str\": \"2000-01-01\"}, {\"StichtagDatJahr\": \"2000-01-01T00:00:00\", \"QuarSort\": 74, \"QuarCd\": 74, \"QuarLang\": \"Witikon\", \"AnzBestWir\": 9544, \"AnzNat\": 82, \"StichtagDatJahr_str\": \"2000-01-01\"}, {\"StichtagDatJahr\": \"2000-01-01T00:00:00\", \"QuarSort\": 73, \"QuarCd\": 73, \"QuarLang\": \"Hirslanden\", \"AnzBestWir\": 6759, \"AnzNat\": 72, \"StichtagDatJahr_str\": \"2000-01-01\"}, {\"StichtagDatJahr\": \"2000-01-01T00:00:00\", \"QuarSort\": 91, \"QuarCd\": 91, \"QuarLang\": \"Albisrieden\", \"AnzBestWir\": 16445, \"AnzNat\": 106, \"StichtagDatJahr_str\": \"2000-01-01\"}, {\"StichtagDatJahr\": \"1999-01-01T00:00:00\", \"QuarSort\": 33, \"QuarCd\": 33, \"QuarLang\": \"Friesenberg\", \"AnzBestWir\": 10013, \"AnzNat\": 83, \"StichtagDatJahr_str\": \"1999-01-01\"}, {\"StichtagDatJahr\": \"1999-01-01T00:00:00\", \"QuarSort\": 61, \"QuarCd\": 61, \"QuarLang\": \"Unterstrass\", \"AnzBestWir\": 20083, \"AnzNat\": 106, \"StichtagDatJahr_str\": \"1999-01-01\"}, {\"StichtagDatJahr\": \"1999-01-01T00:00:00\", \"QuarSort\": 52, \"QuarCd\": 52, \"QuarLang\": \"Escher Wyss\", \"AnzBestWir\": 1953, \"AnzNat\": 50, \"StichtagDatJahr_str\": \"1999-01-01\"}, {\"StichtagDatJahr\": \"1999-01-01T00:00:00\", \"QuarSort\": 51, \"QuarCd\": 51, \"QuarLang\": \"Gewerbeschule\", \"AnzBestWir\": 9594, \"AnzNat\": 103, \"StichtagDatJahr_str\": \"1999-01-01\"}, {\"StichtagDatJahr\": \"1999-01-01T00:00:00\", \"QuarSort\": 44, \"QuarCd\": 44, \"QuarLang\": \"Hard\", \"AnzBestWir\": 12951, \"AnzNat\": 102, \"StichtagDatJahr_str\": \"1999-01-01\"}, {\"StichtagDatJahr\": \"1999-01-01T00:00:00\", \"QuarSort\": 42, \"QuarCd\": 42, \"QuarLang\": \"Langstrasse\", \"AnzBestWir\": 10370, \"AnzNat\": 98, \"StichtagDatJahr_str\": \"1999-01-01\"}, {\"StichtagDatJahr\": \"1999-01-01T00:00:00\", \"QuarSort\": 41, \"QuarCd\": 41, \"QuarLang\": \"Werd\", \"AnzBestWir\": 3966, \"AnzNat\": 77, \"StichtagDatJahr_str\": \"1999-01-01\"}, {\"StichtagDatJahr\": \"1999-01-01T00:00:00\", \"QuarSort\": 34, \"QuarCd\": 34, \"QuarLang\": \"Sihlfeld\", \"AnzBestWir\": 20997, \"AnzNat\": 117, \"StichtagDatJahr_str\": \"1999-01-01\"}, {\"StichtagDatJahr\": \"1999-01-01T00:00:00\", \"QuarSort\": 23, \"QuarCd\": 23, \"QuarLang\": \"Leimbach\", \"AnzBestWir\": 4650, \"AnzNat\": 70, \"StichtagDatJahr_str\": \"1999-01-01\"}, {\"StichtagDatJahr\": \"1999-01-01T00:00:00\", \"QuarSort\": 31, \"QuarCd\": 31, \"QuarLang\": \"Alt-Wiedikon\", \"AnzBestWir\": 14889, \"AnzNat\": 107, \"StichtagDatJahr_str\": \"1999-01-01\"}, {\"StichtagDatJahr\": \"1999-01-01T00:00:00\", \"QuarSort\": 24, \"QuarCd\": 24, \"QuarLang\": \"Enge\", \"AnzBestWir\": 8134, \"AnzNat\": 84, \"StichtagDatJahr_str\": \"1999-01-01\"}, {\"StichtagDatJahr\": \"1999-01-01T00:00:00\", \"QuarSort\": 21, \"QuarCd\": 21, \"QuarLang\": \"Wollishofen\", \"AnzBestWir\": 15896, \"AnzNat\": 95, \"StichtagDatJahr_str\": \"1999-01-01\"}, {\"StichtagDatJahr\": \"1999-01-01T00:00:00\", \"QuarSort\": 14, \"QuarCd\": 14, \"QuarLang\": \"City\", \"AnzBestWir\": 967, \"AnzNat\": 46, \"StichtagDatJahr_str\": \"1999-01-01\"}, {\"StichtagDatJahr\": \"1999-01-01T00:00:00\", \"QuarSort\": 13, \"QuarCd\": 13, \"QuarLang\": \"Lindenhof\", \"AnzBestWir\": 1032, \"AnzNat\": 30, \"StichtagDatJahr_str\": \"1999-01-01\"}, {\"StichtagDatJahr\": \"1999-01-01T00:00:00\", \"QuarSort\": 12, \"QuarCd\": 12, \"QuarLang\": \"Hochschulen\", \"AnzBestWir\": 769, \"AnzNat\": 46, \"StichtagDatJahr_str\": \"1999-01-01\"}, {\"StichtagDatJahr\": \"1999-01-01T00:00:00\", \"QuarSort\": 71, \"QuarCd\": 71, \"QuarLang\": \"Fluntern\", \"AnzBestWir\": 7298, \"AnzNat\": 90, \"StichtagDatJahr_str\": \"1999-01-01\"}, {\"StichtagDatJahr\": \"1999-01-01T00:00:00\", \"QuarSort\": 63, \"QuarCd\": 63, \"QuarLang\": \"Oberstrass\", \"AnzBestWir\": 9897, \"AnzNat\": 94, \"StichtagDatJahr_str\": \"1999-01-01\"}, {\"StichtagDatJahr\": \"1999-01-01T00:00:00\", \"QuarSort\": 11, \"QuarCd\": 11, \"QuarLang\": \"Rathaus\", \"AnzBestWir\": 3104, \"AnzNat\": 72, \"StichtagDatJahr_str\": \"1999-01-01\"}, {\"StichtagDatJahr\": \"1999-01-01T00:00:00\", \"QuarSort\": 72, \"QuarCd\": 72, \"QuarLang\": \"Hottingen\", \"AnzBestWir\": 10307, \"AnzNat\": 88, \"StichtagDatJahr_str\": \"1999-01-01\"}, {\"StichtagDatJahr\": \"1999-01-01T00:00:00\", \"QuarSort\": 102, \"QuarCd\": 102, \"QuarLang\": \"Wipkingen\", \"AnzBestWir\": 15531, \"AnzNat\": 112, \"StichtagDatJahr_str\": \"1999-01-01\"}, {\"StichtagDatJahr\": \"1999-01-01T00:00:00\", \"QuarSort\": 73, \"QuarCd\": 73, \"QuarLang\": \"Hirslanden\", \"AnzBestWir\": 6837, \"AnzNat\": 70, \"StichtagDatJahr_str\": \"1999-01-01\"}, {\"StichtagDatJahr\": \"1999-01-01T00:00:00\", \"QuarSort\": 123, \"QuarCd\": 123, \"QuarLang\": \"Hirzenbach\", \"AnzBestWir\": 11119, \"AnzNat\": 91, \"StichtagDatJahr_str\": \"1999-01-01\"}, {\"StichtagDatJahr\": \"1999-01-01T00:00:00\", \"QuarSort\": 122, \"QuarCd\": 122, \"QuarLang\": \"Schwamendingen-Mitte\", \"AnzBestWir\": 10390, \"AnzNat\": 99, \"StichtagDatJahr_str\": \"1999-01-01\"}, {\"StichtagDatJahr\": \"1999-01-01T00:00:00\", \"QuarSort\": 121, \"QuarCd\": 121, \"QuarLang\": \"Saatlen\", \"AnzBestWir\": 6554, \"AnzNat\": 78, \"StichtagDatJahr_str\": \"1999-01-01\"}, {\"StichtagDatJahr\": \"1999-01-01T00:00:00\", \"QuarSort\": 115, \"QuarCd\": 115, \"QuarLang\": \"Oerlikon\", \"AnzBestWir\": 17368, \"AnzNat\": 114, \"StichtagDatJahr_str\": \"1999-01-01\"}, {\"StichtagDatJahr\": \"1999-01-01T00:00:00\", \"QuarSort\": 111, \"QuarCd\": 111, \"QuarLang\": \"Affoltern\", \"AnzBestWir\": 18468, \"AnzNat\": 107, \"StichtagDatJahr_str\": \"1999-01-01\"}, {\"StichtagDatJahr\": \"1999-01-01T00:00:00\", \"QuarSort\": 119, \"QuarCd\": 119, \"QuarLang\": \"Seebach\", \"AnzBestWir\": 17889, \"AnzNat\": 108, \"StichtagDatJahr_str\": \"1999-01-01\"}, {\"StichtagDatJahr\": \"1999-01-01T00:00:00\", \"QuarSort\": 101, \"QuarCd\": 101, \"QuarLang\": \"H\\u00f6ngg\", \"AnzBestWir\": 20559, \"AnzNat\": 106, \"StichtagDatJahr_str\": \"1999-01-01\"}, {\"StichtagDatJahr\": \"1999-01-01T00:00:00\", \"QuarSort\": 92, \"QuarCd\": 92, \"QuarLang\": \"Altstetten\", \"AnzBestWir\": 27928, \"AnzNat\": 112, \"StichtagDatJahr_str\": \"1999-01-01\"}, {\"StichtagDatJahr\": \"1999-01-01T00:00:00\", \"QuarSort\": 91, \"QuarCd\": 91, \"QuarLang\": \"Albisrieden\", \"AnzBestWir\": 16341, \"AnzNat\": 104, \"StichtagDatJahr_str\": \"1999-01-01\"}, {\"StichtagDatJahr\": \"1999-01-01T00:00:00\", \"QuarSort\": 83, \"QuarCd\": 83, \"QuarLang\": \"Weinegg\", \"AnzBestWir\": 4800, \"AnzNat\": 73, \"StichtagDatJahr_str\": \"1999-01-01\"}, {\"StichtagDatJahr\": \"1999-01-01T00:00:00\", \"QuarSort\": 82, \"QuarCd\": 82, \"QuarLang\": \"M\\u00fchlebach\", \"AnzBestWir\": 5527, \"AnzNat\": 80, \"StichtagDatJahr_str\": \"1999-01-01\"}, {\"StichtagDatJahr\": \"1999-01-01T00:00:00\", \"QuarSort\": 81, \"QuarCd\": 81, \"QuarLang\": \"Seefeld\", \"AnzBestWir\": 4969, \"AnzNat\": 73, \"StichtagDatJahr_str\": \"1999-01-01\"}, {\"StichtagDatJahr\": \"1999-01-01T00:00:00\", \"QuarSort\": 74, \"QuarCd\": 74, \"QuarLang\": \"Witikon\", \"AnzBestWir\": 9554, \"AnzNat\": 79, \"StichtagDatJahr_str\": \"1999-01-01\"}, {\"StichtagDatJahr\": \"1998-01-01T00:00:00\", \"QuarSort\": 33, \"QuarCd\": 33, \"QuarLang\": \"Friesenberg\", \"AnzBestWir\": 10029, \"AnzNat\": 77, \"StichtagDatJahr_str\": \"1998-01-01\"}, {\"StichtagDatJahr\": \"1998-01-01T00:00:00\", \"QuarSort\": 61, \"QuarCd\": 61, \"QuarLang\": \"Unterstrass\", \"AnzBestWir\": 20266, \"AnzNat\": 100, \"StichtagDatJahr_str\": \"1998-01-01\"}, {\"StichtagDatJahr\": \"1998-01-01T00:00:00\", \"QuarSort\": 52, \"QuarCd\": 52, \"QuarLang\": \"Escher Wyss\", \"AnzBestWir\": 1579, \"AnzNat\": 47, \"StichtagDatJahr_str\": \"1998-01-01\"}, {\"StichtagDatJahr\": \"1998-01-01T00:00:00\", \"QuarSort\": 51, \"QuarCd\": 51, \"QuarLang\": \"Gewerbeschule\", \"AnzBestWir\": 9464, \"AnzNat\": 102, \"StichtagDatJahr_str\": \"1998-01-01\"}, {\"StichtagDatJahr\": \"1998-01-01T00:00:00\", \"QuarSort\": 44, \"QuarCd\": 44, \"QuarLang\": \"Hard\", \"AnzBestWir\": 12871, \"AnzNat\": 97, \"StichtagDatJahr_str\": \"1998-01-01\"}, {\"StichtagDatJahr\": \"1998-01-01T00:00:00\", \"QuarSort\": 42, \"QuarCd\": 42, \"QuarLang\": \"Langstrasse\", \"AnzBestWir\": 10399, \"AnzNat\": 98, \"StichtagDatJahr_str\": \"1998-01-01\"}, {\"StichtagDatJahr\": \"1998-01-01T00:00:00\", \"QuarSort\": 41, \"QuarCd\": 41, \"QuarLang\": \"Werd\", \"AnzBestWir\": 3913, \"AnzNat\": 75, \"StichtagDatJahr_str\": \"1998-01-01\"}, {\"StichtagDatJahr\": \"1998-01-01T00:00:00\", \"QuarSort\": 34, \"QuarCd\": 34, \"QuarLang\": \"Sihlfeld\", \"AnzBestWir\": 21018, \"AnzNat\": 119, \"StichtagDatJahr_str\": \"1998-01-01\"}, {\"StichtagDatJahr\": \"1998-01-01T00:00:00\", \"QuarSort\": 11, \"QuarCd\": 11, \"QuarLang\": \"Rathaus\", \"AnzBestWir\": 3050, \"AnzNat\": 66, \"StichtagDatJahr_str\": \"1998-01-01\"}, {\"StichtagDatJahr\": \"1998-01-01T00:00:00\", \"QuarSort\": 31, \"QuarCd\": 31, \"QuarLang\": \"Alt-Wiedikon\", \"AnzBestWir\": 14975, \"AnzNat\": 108, \"StichtagDatJahr_str\": \"1998-01-01\"}, {\"StichtagDatJahr\": \"1998-01-01T00:00:00\", \"QuarSort\": 24, \"QuarCd\": 24, \"QuarLang\": \"Enge\", \"AnzBestWir\": 8150, \"AnzNat\": 85, \"StichtagDatJahr_str\": \"1998-01-01\"}, {\"StichtagDatJahr\": \"1998-01-01T00:00:00\", \"QuarSort\": 23, \"QuarCd\": 23, \"QuarLang\": \"Leimbach\", \"AnzBestWir\": 4619, \"AnzNat\": 70, \"StichtagDatJahr_str\": \"1998-01-01\"}, {\"StichtagDatJahr\": \"1998-01-01T00:00:00\", \"QuarSort\": 21, \"QuarCd\": 21, \"QuarLang\": \"Wollishofen\", \"AnzBestWir\": 15826, \"AnzNat\": 94, \"StichtagDatJahr_str\": \"1998-01-01\"}, {\"StichtagDatJahr\": \"1998-01-01T00:00:00\", \"QuarSort\": 14, \"QuarCd\": 14, \"QuarLang\": \"City\", \"AnzBestWir\": 1030, \"AnzNat\": 48, \"StichtagDatJahr_str\": \"1998-01-01\"}, {\"StichtagDatJahr\": \"1998-01-01T00:00:00\", \"QuarSort\": 13, \"QuarCd\": 13, \"QuarLang\": \"Lindenhof\", \"AnzBestWir\": 995, \"AnzNat\": 39, \"StichtagDatJahr_str\": \"1998-01-01\"}, {\"StichtagDatJahr\": \"1998-01-01T00:00:00\", \"QuarSort\": 12, \"QuarCd\": 12, \"QuarLang\": \"Hochschulen\", \"AnzBestWir\": 792, \"AnzNat\": 47, \"StichtagDatJahr_str\": \"1998-01-01\"}, {\"StichtagDatJahr\": \"1998-01-01T00:00:00\", \"QuarSort\": 63, \"QuarCd\": 63, \"QuarLang\": \"Oberstrass\", \"AnzBestWir\": 9907, \"AnzNat\": 85, \"StichtagDatJahr_str\": \"1998-01-01\"}, {\"StichtagDatJahr\": \"1998-01-01T00:00:00\", \"QuarSort\": 71, \"QuarCd\": 71, \"QuarLang\": \"Fluntern\", \"AnzBestWir\": 7272, \"AnzNat\": 79, \"StichtagDatJahr_str\": \"1998-01-01\"}, {\"StichtagDatJahr\": \"1998-01-01T00:00:00\", \"QuarSort\": 72, \"QuarCd\": 72, \"QuarLang\": \"Hottingen\", \"AnzBestWir\": 10240, \"AnzNat\": 85, \"StichtagDatJahr_str\": \"1998-01-01\"}, {\"StichtagDatJahr\": \"1998-01-01T00:00:00\", \"QuarSort\": 102, \"QuarCd\": 102, \"QuarLang\": \"Wipkingen\", \"AnzBestWir\": 15643, \"AnzNat\": 112, \"StichtagDatJahr_str\": \"1998-01-01\"}, {\"StichtagDatJahr\": \"1998-01-01T00:00:00\", \"QuarSort\": 73, \"QuarCd\": 73, \"QuarLang\": \"Hirslanden\", \"AnzBestWir\": 6702, \"AnzNat\": 74, \"StichtagDatJahr_str\": \"1998-01-01\"}, {\"StichtagDatJahr\": \"1998-01-01T00:00:00\", \"QuarSort\": 123, \"QuarCd\": 123, \"QuarLang\": \"Hirzenbach\", \"AnzBestWir\": 11015, \"AnzNat\": 87, \"StichtagDatJahr_str\": \"1998-01-01\"}, {\"StichtagDatJahr\": \"1998-01-01T00:00:00\", \"QuarSort\": 122, \"QuarCd\": 122, \"QuarLang\": \"Schwamendingen-Mitte\", \"AnzBestWir\": 10174, \"AnzNat\": 95, \"StichtagDatJahr_str\": \"1998-01-01\"}, {\"StichtagDatJahr\": \"1998-01-01T00:00:00\", \"QuarSort\": 121, \"QuarCd\": 121, \"QuarLang\": \"Saatlen\", \"AnzBestWir\": 6568, \"AnzNat\": 68, \"StichtagDatJahr_str\": \"1998-01-01\"}, {\"StichtagDatJahr\": \"1998-01-01T00:00:00\", \"QuarSort\": 115, \"QuarCd\": 115, \"QuarLang\": \"Oerlikon\", \"AnzBestWir\": 17026, \"AnzNat\": 110, \"StichtagDatJahr_str\": \"1998-01-01\"}, {\"StichtagDatJahr\": \"1998-01-01T00:00:00\", \"QuarSort\": 111, \"QuarCd\": 111, \"QuarLang\": \"Affoltern\", \"AnzBestWir\": 18469, \"AnzNat\": 101, \"StichtagDatJahr_str\": \"1998-01-01\"}, {\"StichtagDatJahr\": \"1998-01-01T00:00:00\", \"QuarSort\": 119, \"QuarCd\": 119, \"QuarLang\": \"Seebach\", \"AnzBestWir\": 17906, \"AnzNat\": 104, \"StichtagDatJahr_str\": \"1998-01-01\"}, {\"StichtagDatJahr\": \"1998-01-01T00:00:00\", \"QuarSort\": 101, \"QuarCd\": 101, \"QuarLang\": \"H\\u00f6ngg\", \"AnzBestWir\": 20054, \"AnzNat\": 95, \"StichtagDatJahr_str\": \"1998-01-01\"}, {\"StichtagDatJahr\": \"1998-01-01T00:00:00\", \"QuarSort\": 92, \"QuarCd\": 92, \"QuarLang\": \"Altstetten\", \"AnzBestWir\": 27656, \"AnzNat\": 110, \"StichtagDatJahr_str\": \"1998-01-01\"}, {\"StichtagDatJahr\": \"1998-01-01T00:00:00\", \"QuarSort\": 91, \"QuarCd\": 91, \"QuarLang\": \"Albisrieden\", \"AnzBestWir\": 16548, \"AnzNat\": 98, \"StichtagDatJahr_str\": \"1998-01-01\"}, {\"StichtagDatJahr\": \"1998-01-01T00:00:00\", \"QuarSort\": 83, \"QuarCd\": 83, \"QuarLang\": \"Weinegg\", \"AnzBestWir\": 4816, \"AnzNat\": 68, \"StichtagDatJahr_str\": \"1998-01-01\"}, {\"StichtagDatJahr\": \"1998-01-01T00:00:00\", \"QuarSort\": 82, \"QuarCd\": 82, \"QuarLang\": \"M\\u00fchlebach\", \"AnzBestWir\": 5461, \"AnzNat\": 81, \"StichtagDatJahr_str\": \"1998-01-01\"}, {\"StichtagDatJahr\": \"1998-01-01T00:00:00\", \"QuarSort\": 81, \"QuarCd\": 81, \"QuarLang\": \"Seefeld\", \"AnzBestWir\": 5087, \"AnzNat\": 81, \"StichtagDatJahr_str\": \"1998-01-01\"}, {\"StichtagDatJahr\": \"1998-01-01T00:00:00\", \"QuarSort\": 74, \"QuarCd\": 74, \"QuarLang\": \"Witikon\", \"AnzBestWir\": 9553, \"AnzNat\": 79, \"StichtagDatJahr_str\": \"1998-01-01\"}, {\"StichtagDatJahr\": \"1997-01-01T00:00:00\", \"QuarSort\": 33, \"QuarCd\": 33, \"QuarLang\": \"Friesenberg\", \"AnzBestWir\": 9991, \"AnzNat\": 80, \"StichtagDatJahr_str\": \"1997-01-01\"}, {\"StichtagDatJahr\": \"1997-01-01T00:00:00\", \"QuarSort\": 61, \"QuarCd\": 61, \"QuarLang\": \"Unterstrass\", \"AnzBestWir\": 20281, \"AnzNat\": 105, \"StichtagDatJahr_str\": \"1997-01-01\"}, {\"StichtagDatJahr\": \"1997-01-01T00:00:00\", \"QuarSort\": 52, \"QuarCd\": 52, \"QuarLang\": \"Escher Wyss\", \"AnzBestWir\": 1622, \"AnzNat\": 51, \"StichtagDatJahr_str\": \"1997-01-01\"}, {\"StichtagDatJahr\": \"1997-01-01T00:00:00\", \"QuarSort\": 51, \"QuarCd\": 51, \"QuarLang\": \"Gewerbeschule\", \"AnzBestWir\": 9525, \"AnzNat\": 98, \"StichtagDatJahr_str\": \"1997-01-01\"}, {\"StichtagDatJahr\": \"1997-01-01T00:00:00\", \"QuarSort\": 44, \"QuarCd\": 44, \"QuarLang\": \"Hard\", \"AnzBestWir\": 12884, \"AnzNat\": 90, \"StichtagDatJahr_str\": \"1997-01-01\"}, {\"StichtagDatJahr\": \"1997-01-01T00:00:00\", \"QuarSort\": 42, \"QuarCd\": 42, \"QuarLang\": \"Langstrasse\", \"AnzBestWir\": 10480, \"AnzNat\": 99, \"StichtagDatJahr_str\": \"1997-01-01\"}, {\"StichtagDatJahr\": \"1997-01-01T00:00:00\", \"QuarSort\": 41, \"QuarCd\": 41, \"QuarLang\": \"Werd\", \"AnzBestWir\": 3928, \"AnzNat\": 76, \"StichtagDatJahr_str\": \"1997-01-01\"}, {\"StichtagDatJahr\": \"1997-01-01T00:00:00\", \"QuarSort\": 34, \"QuarCd\": 34, \"QuarLang\": \"Sihlfeld\", \"AnzBestWir\": 21132, \"AnzNat\": 111, \"StichtagDatJahr_str\": \"1997-01-01\"}, {\"StichtagDatJahr\": \"1997-01-01T00:00:00\", \"QuarSort\": 71, \"QuarCd\": 71, \"QuarLang\": \"Fluntern\", \"AnzBestWir\": 7191, \"AnzNat\": 82, \"StichtagDatJahr_str\": \"1997-01-01\"}, {\"StichtagDatJahr\": \"1997-01-01T00:00:00\", \"QuarSort\": 31, \"QuarCd\": 31, \"QuarLang\": \"Alt-Wiedikon\", \"AnzBestWir\": 15000, \"AnzNat\": 106, \"StichtagDatJahr_str\": \"1997-01-01\"}, {\"StichtagDatJahr\": \"1997-01-01T00:00:00\", \"QuarSort\": 24, \"QuarCd\": 24, \"QuarLang\": \"Enge\", \"AnzBestWir\": 8164, \"AnzNat\": 79, \"StichtagDatJahr_str\": \"1997-01-01\"}, {\"StichtagDatJahr\": \"1997-01-01T00:00:00\", \"QuarSort\": 23, \"QuarCd\": 23, \"QuarLang\": \"Leimbach\", \"AnzBestWir\": 4484, \"AnzNat\": 63, \"StichtagDatJahr_str\": \"1997-01-01\"}, {\"StichtagDatJahr\": \"1997-01-01T00:00:00\", \"QuarSort\": 21, \"QuarCd\": 21, \"QuarLang\": \"Wollishofen\", \"AnzBestWir\": 15820, \"AnzNat\": 96, \"StichtagDatJahr_str\": \"1997-01-01\"}, {\"StichtagDatJahr\": \"1997-01-01T00:00:00\", \"QuarSort\": 14, \"QuarCd\": 14, \"QuarLang\": \"City\", \"AnzBestWir\": 996, \"AnzNat\": 42, \"StichtagDatJahr_str\": \"1997-01-01\"}, {\"StichtagDatJahr\": \"1997-01-01T00:00:00\", \"QuarSort\": 13, \"QuarCd\": 13, \"QuarLang\": \"Lindenhof\", \"AnzBestWir\": 1025, \"AnzNat\": 34, \"StichtagDatJahr_str\": \"1997-01-01\"}, {\"StichtagDatJahr\": \"1997-01-01T00:00:00\", \"QuarSort\": 12, \"QuarCd\": 12, \"QuarLang\": \"Hochschulen\", \"AnzBestWir\": 762, \"AnzNat\": 42, \"StichtagDatJahr_str\": \"1997-01-01\"}, {\"StichtagDatJahr\": \"1997-01-01T00:00:00\", \"QuarSort\": 63, \"QuarCd\": 63, \"QuarLang\": \"Oberstrass\", \"AnzBestWir\": 9994, \"AnzNat\": 88, \"StichtagDatJahr_str\": \"1997-01-01\"}, {\"StichtagDatJahr\": \"1997-01-01T00:00:00\", \"QuarSort\": 11, \"QuarCd\": 11, \"QuarLang\": \"Rathaus\", \"AnzBestWir\": 3083, \"AnzNat\": 66, \"StichtagDatJahr_str\": \"1997-01-01\"}, {\"StichtagDatJahr\": \"1997-01-01T00:00:00\", \"QuarSort\": 72, \"QuarCd\": 72, \"QuarLang\": \"Hottingen\", \"AnzBestWir\": 10326, \"AnzNat\": 88, \"StichtagDatJahr_str\": \"1997-01-01\"}, {\"StichtagDatJahr\": \"1997-01-01T00:00:00\", \"QuarSort\": 102, \"QuarCd\": 102, \"QuarLang\": \"Wipkingen\", \"AnzBestWir\": 15817, \"AnzNat\": 105, \"StichtagDatJahr_str\": \"1997-01-01\"}, {\"StichtagDatJahr\": \"1997-01-01T00:00:00\", \"QuarSort\": 73, \"QuarCd\": 73, \"QuarLang\": \"Hirslanden\", \"AnzBestWir\": 6659, \"AnzNat\": 79, \"StichtagDatJahr_str\": \"1997-01-01\"}, {\"StichtagDatJahr\": \"1997-01-01T00:00:00\", \"QuarSort\": 123, \"QuarCd\": 123, \"QuarLang\": \"Hirzenbach\", \"AnzBestWir\": 11013, \"AnzNat\": 90, \"StichtagDatJahr_str\": \"1997-01-01\"}, {\"StichtagDatJahr\": \"1997-01-01T00:00:00\", \"QuarSort\": 122, \"QuarCd\": 122, \"QuarLang\": \"Schwamendingen-Mitte\", \"AnzBestWir\": 10237, \"AnzNat\": 91, \"StichtagDatJahr_str\": \"1997-01-01\"}, {\"StichtagDatJahr\": \"1997-01-01T00:00:00\", \"QuarSort\": 121, \"QuarCd\": 121, \"QuarLang\": \"Saatlen\", \"AnzBestWir\": 6428, \"AnzNat\": 71, \"StichtagDatJahr_str\": \"1997-01-01\"}, {\"StichtagDatJahr\": \"1997-01-01T00:00:00\", \"QuarSort\": 115, \"QuarCd\": 115, \"QuarLang\": \"Oerlikon\", \"AnzBestWir\": 16765, \"AnzNat\": 106, \"StichtagDatJahr_str\": \"1997-01-01\"}, {\"StichtagDatJahr\": \"1997-01-01T00:00:00\", \"QuarSort\": 111, \"QuarCd\": 111, \"QuarLang\": \"Affoltern\", \"AnzBestWir\": 18177, \"AnzNat\": 96, \"StichtagDatJahr_str\": \"1997-01-01\"}, {\"StichtagDatJahr\": \"1997-01-01T00:00:00\", \"QuarSort\": 119, \"QuarCd\": 119, \"QuarLang\": \"Seebach\", \"AnzBestWir\": 17719, \"AnzNat\": 103, \"StichtagDatJahr_str\": \"1997-01-01\"}, {\"StichtagDatJahr\": \"1997-01-01T00:00:00\", \"QuarSort\": 101, \"QuarCd\": 101, \"QuarLang\": \"H\\u00f6ngg\", \"AnzBestWir\": 19793, \"AnzNat\": 96, \"StichtagDatJahr_str\": \"1997-01-01\"}, {\"StichtagDatJahr\": \"1997-01-01T00:00:00\", \"QuarSort\": 92, \"QuarCd\": 92, \"QuarLang\": \"Altstetten\", \"AnzBestWir\": 27663, \"AnzNat\": 112, \"StichtagDatJahr_str\": \"1997-01-01\"}, {\"StichtagDatJahr\": \"1997-01-01T00:00:00\", \"QuarSort\": 91, \"QuarCd\": 91, \"QuarLang\": \"Albisrieden\", \"AnzBestWir\": 16630, \"AnzNat\": 92, \"StichtagDatJahr_str\": \"1997-01-01\"}, {\"StichtagDatJahr\": \"1997-01-01T00:00:00\", \"QuarSort\": 83, \"QuarCd\": 83, \"QuarLang\": \"Weinegg\", \"AnzBestWir\": 4799, \"AnzNat\": 67, \"StichtagDatJahr_str\": \"1997-01-01\"}, {\"StichtagDatJahr\": \"1997-01-01T00:00:00\", \"QuarSort\": 82, \"QuarCd\": 82, \"QuarLang\": \"M\\u00fchlebach\", \"AnzBestWir\": 5474, \"AnzNat\": 78, \"StichtagDatJahr_str\": \"1997-01-01\"}, {\"StichtagDatJahr\": \"1997-01-01T00:00:00\", \"QuarSort\": 81, \"QuarCd\": 81, \"QuarLang\": \"Seefeld\", \"AnzBestWir\": 5155, \"AnzNat\": 82, \"StichtagDatJahr_str\": \"1997-01-01\"}, {\"StichtagDatJahr\": \"1997-01-01T00:00:00\", \"QuarSort\": 74, \"QuarCd\": 74, \"QuarLang\": \"Witikon\", \"AnzBestWir\": 9577, \"AnzNat\": 80, \"StichtagDatJahr_str\": \"1997-01-01\"}, {\"StichtagDatJahr\": \"1996-01-01T00:00:00\", \"QuarSort\": 33, \"QuarCd\": 33, \"QuarLang\": \"Friesenberg\", \"AnzBestWir\": 9993, \"AnzNat\": 76, \"StichtagDatJahr_str\": \"1996-01-01\"}, {\"StichtagDatJahr\": \"1996-01-01T00:00:00\", \"QuarSort\": 61, \"QuarCd\": 61, \"QuarLang\": \"Unterstrass\", \"AnzBestWir\": 20318, \"AnzNat\": 103, \"StichtagDatJahr_str\": \"1996-01-01\"}, {\"StichtagDatJahr\": \"1996-01-01T00:00:00\", \"QuarSort\": 52, \"QuarCd\": 52, \"QuarLang\": \"Escher Wyss\", \"AnzBestWir\": 1641, \"AnzNat\": 43, \"StichtagDatJahr_str\": \"1996-01-01\"}, {\"StichtagDatJahr\": \"1996-01-01T00:00:00\", \"QuarSort\": 51, \"QuarCd\": 51, \"QuarLang\": \"Gewerbeschule\", \"AnzBestWir\": 9700, \"AnzNat\": 97, \"StichtagDatJahr_str\": \"1996-01-01\"}, {\"StichtagDatJahr\": \"1996-01-01T00:00:00\", \"QuarSort\": 44, \"QuarCd\": 44, \"QuarLang\": \"Hard\", \"AnzBestWir\": 12937, \"AnzNat\": 88, \"StichtagDatJahr_str\": \"1996-01-01\"}, {\"StichtagDatJahr\": \"1996-01-01T00:00:00\", \"QuarSort\": 42, \"QuarCd\": 42, \"QuarLang\": \"Langstrasse\", \"AnzBestWir\": 10718, \"AnzNat\": 98, \"StichtagDatJahr_str\": \"1996-01-01\"}, {\"StichtagDatJahr\": \"1996-01-01T00:00:00\", \"QuarSort\": 41, \"QuarCd\": 41, \"QuarLang\": \"Werd\", \"AnzBestWir\": 3979, \"AnzNat\": 71, \"StichtagDatJahr_str\": \"1996-01-01\"}, {\"StichtagDatJahr\": \"1996-01-01T00:00:00\", \"QuarSort\": 34, \"QuarCd\": 34, \"QuarLang\": \"Sihlfeld\", \"AnzBestWir\": 21233, \"AnzNat\": 112, \"StichtagDatJahr_str\": \"1996-01-01\"}, {\"StichtagDatJahr\": \"1996-01-01T00:00:00\", \"QuarSort\": 11, \"QuarCd\": 11, \"QuarLang\": \"Rathaus\", \"AnzBestWir\": 3078, \"AnzNat\": 72, \"StichtagDatJahr_str\": \"1996-01-01\"}, {\"StichtagDatJahr\": \"1996-01-01T00:00:00\", \"QuarSort\": 31, \"QuarCd\": 31, \"QuarLang\": \"Alt-Wiedikon\", \"AnzBestWir\": 14869, \"AnzNat\": 101, \"StichtagDatJahr_str\": \"1996-01-01\"}, {\"StichtagDatJahr\": \"1996-01-01T00:00:00\", \"QuarSort\": 24, \"QuarCd\": 24, \"QuarLang\": \"Enge\", \"AnzBestWir\": 8155, \"AnzNat\": 81, \"StichtagDatJahr_str\": \"1996-01-01\"}, {\"StichtagDatJahr\": \"1996-01-01T00:00:00\", \"QuarSort\": 23, \"QuarCd\": 23, \"QuarLang\": \"Leimbach\", \"AnzBestWir\": 4553, \"AnzNat\": 61, \"StichtagDatJahr_str\": \"1996-01-01\"}, {\"StichtagDatJahr\": \"1996-01-01T00:00:00\", \"QuarSort\": 21, \"QuarCd\": 21, \"QuarLang\": \"Wollishofen\", \"AnzBestWir\": 15844, \"AnzNat\": 87, \"StichtagDatJahr_str\": \"1996-01-01\"}, {\"StichtagDatJahr\": \"1996-01-01T00:00:00\", \"QuarSort\": 14, \"QuarCd\": 14, \"QuarLang\": \"City\", \"AnzBestWir\": 981, \"AnzNat\": 43, \"StichtagDatJahr_str\": \"1996-01-01\"}, {\"StichtagDatJahr\": \"1996-01-01T00:00:00\", \"QuarSort\": 13, \"QuarCd\": 13, \"QuarLang\": \"Lindenhof\", \"AnzBestWir\": 1044, \"AnzNat\": 35, \"StichtagDatJahr_str\": \"1996-01-01\"}, {\"StichtagDatJahr\": \"1996-01-01T00:00:00\", \"QuarSort\": 12, \"QuarCd\": 12, \"QuarLang\": \"Hochschulen\", \"AnzBestWir\": 753, \"AnzNat\": 38, \"StichtagDatJahr_str\": \"1996-01-01\"}, {\"StichtagDatJahr\": \"1996-01-01T00:00:00\", \"QuarSort\": 63, \"QuarCd\": 63, \"QuarLang\": \"Oberstrass\", \"AnzBestWir\": 10110, \"AnzNat\": 91, \"StichtagDatJahr_str\": \"1996-01-01\"}, {\"StichtagDatJahr\": \"1996-01-01T00:00:00\", \"QuarSort\": 71, \"QuarCd\": 71, \"QuarLang\": \"Fluntern\", \"AnzBestWir\": 7178, \"AnzNat\": 79, \"StichtagDatJahr_str\": \"1996-01-01\"}, {\"StichtagDatJahr\": \"1996-01-01T00:00:00\", \"QuarSort\": 72, \"QuarCd\": 72, \"QuarLang\": \"Hottingen\", \"AnzBestWir\": 10348, \"AnzNat\": 86, \"StichtagDatJahr_str\": \"1996-01-01\"}, {\"StichtagDatJahr\": \"1996-01-01T00:00:00\", \"QuarSort\": 102, \"QuarCd\": 102, \"QuarLang\": \"Wipkingen\", \"AnzBestWir\": 16131, \"AnzNat\": 101, \"StichtagDatJahr_str\": \"1996-01-01\"}, {\"StichtagDatJahr\": \"1996-01-01T00:00:00\", \"QuarSort\": 73, \"QuarCd\": 73, \"QuarLang\": \"Hirslanden\", \"AnzBestWir\": 6703, \"AnzNat\": 71, \"StichtagDatJahr_str\": \"1996-01-01\"}, {\"StichtagDatJahr\": \"1996-01-01T00:00:00\", \"QuarSort\": 123, \"QuarCd\": 123, \"QuarLang\": \"Hirzenbach\", \"AnzBestWir\": 10990, \"AnzNat\": 91, \"StichtagDatJahr_str\": \"1996-01-01\"}, {\"StichtagDatJahr\": \"1996-01-01T00:00:00\", \"QuarSort\": 122, \"QuarCd\": 122, \"QuarLang\": \"Schwamendingen-Mitte\", \"AnzBestWir\": 10141, \"AnzNat\": 84, \"StichtagDatJahr_str\": \"1996-01-01\"}, {\"StichtagDatJahr\": \"1996-01-01T00:00:00\", \"QuarSort\": 121, \"QuarCd\": 121, \"QuarLang\": \"Saatlen\", \"AnzBestWir\": 6384, \"AnzNat\": 66, \"StichtagDatJahr_str\": \"1996-01-01\"}, {\"StichtagDatJahr\": \"1996-01-01T00:00:00\", \"QuarSort\": 115, \"QuarCd\": 115, \"QuarLang\": \"Oerlikon\", \"AnzBestWir\": 16813, \"AnzNat\": 107, \"StichtagDatJahr_str\": \"1996-01-01\"}, {\"StichtagDatJahr\": \"1996-01-01T00:00:00\", \"QuarSort\": 111, \"QuarCd\": 111, \"QuarLang\": \"Affoltern\", \"AnzBestWir\": 18122, \"AnzNat\": 89, \"StichtagDatJahr_str\": \"1996-01-01\"}, {\"StichtagDatJahr\": \"1996-01-01T00:00:00\", \"QuarSort\": 119, \"QuarCd\": 119, \"QuarLang\": \"Seebach\", \"AnzBestWir\": 17624, \"AnzNat\": 102, \"StichtagDatJahr_str\": \"1996-01-01\"}, {\"StichtagDatJahr\": \"1996-01-01T00:00:00\", \"QuarSort\": 101, \"QuarCd\": 101, \"QuarLang\": \"H\\u00f6ngg\", \"AnzBestWir\": 19604, \"AnzNat\": 92, \"StichtagDatJahr_str\": \"1996-01-01\"}, {\"StichtagDatJahr\": \"1996-01-01T00:00:00\", \"QuarSort\": 92, \"QuarCd\": 92, \"QuarLang\": \"Altstetten\", \"AnzBestWir\": 27660, \"AnzNat\": 114, \"StichtagDatJahr_str\": \"1996-01-01\"}, {\"StichtagDatJahr\": \"1996-01-01T00:00:00\", \"QuarSort\": 91, \"QuarCd\": 91, \"QuarLang\": \"Albisrieden\", \"AnzBestWir\": 16705, \"AnzNat\": 93, \"StichtagDatJahr_str\": \"1996-01-01\"}, {\"StichtagDatJahr\": \"1996-01-01T00:00:00\", \"QuarSort\": 83, \"QuarCd\": 83, \"QuarLang\": \"Weinegg\", \"AnzBestWir\": 4900, \"AnzNat\": 69, \"StichtagDatJahr_str\": \"1996-01-01\"}, {\"StichtagDatJahr\": \"1996-01-01T00:00:00\", \"QuarSort\": 82, \"QuarCd\": 82, \"QuarLang\": \"M\\u00fchlebach\", \"AnzBestWir\": 5566, \"AnzNat\": 74, \"StichtagDatJahr_str\": \"1996-01-01\"}, {\"StichtagDatJahr\": \"1996-01-01T00:00:00\", \"QuarSort\": 81, \"QuarCd\": 81, \"QuarLang\": \"Seefeld\", \"AnzBestWir\": 5226, \"AnzNat\": 84, \"StichtagDatJahr_str\": \"1996-01-01\"}, {\"StichtagDatJahr\": \"1996-01-01T00:00:00\", \"QuarSort\": 74, \"QuarCd\": 74, \"QuarLang\": \"Witikon\", \"AnzBestWir\": 9647, \"AnzNat\": 78, \"StichtagDatJahr_str\": \"1996-01-01\"}, {\"StichtagDatJahr\": \"1995-01-01T00:00:00\", \"QuarSort\": 33, \"QuarCd\": 33, \"QuarLang\": \"Friesenberg\", \"AnzBestWir\": 10155, \"AnzNat\": 79, \"StichtagDatJahr_str\": \"1995-01-01\"}, {\"StichtagDatJahr\": \"1995-01-01T00:00:00\", \"QuarSort\": 61, \"QuarCd\": 61, \"QuarLang\": \"Unterstrass\", \"AnzBestWir\": 20356, \"AnzNat\": 102, \"StichtagDatJahr_str\": \"1995-01-01\"}, {\"StichtagDatJahr\": \"1995-01-01T00:00:00\", \"QuarSort\": 52, \"QuarCd\": 52, \"QuarLang\": \"Escher Wyss\", \"AnzBestWir\": 1649, \"AnzNat\": 46, \"StichtagDatJahr_str\": \"1995-01-01\"}, {\"StichtagDatJahr\": \"1995-01-01T00:00:00\", \"QuarSort\": 51, \"QuarCd\": 51, \"QuarLang\": \"Gewerbeschule\", \"AnzBestWir\": 9811, \"AnzNat\": 93, \"StichtagDatJahr_str\": \"1995-01-01\"}, {\"StichtagDatJahr\": \"1995-01-01T00:00:00\", \"QuarSort\": 44, \"QuarCd\": 44, \"QuarLang\": \"Hard\", \"AnzBestWir\": 12872, \"AnzNat\": 87, \"StichtagDatJahr_str\": \"1995-01-01\"}, {\"StichtagDatJahr\": \"1995-01-01T00:00:00\", \"QuarSort\": 42, \"QuarCd\": 42, \"QuarLang\": \"Langstrasse\", \"AnzBestWir\": 10952, \"AnzNat\": 100, \"StichtagDatJahr_str\": \"1995-01-01\"}, {\"StichtagDatJahr\": \"1995-01-01T00:00:00\", \"QuarSort\": 41, \"QuarCd\": 41, \"QuarLang\": \"Werd\", \"AnzBestWir\": 4005, \"AnzNat\": 65, \"StichtagDatJahr_str\": \"1995-01-01\"}, {\"StichtagDatJahr\": \"1995-01-01T00:00:00\", \"QuarSort\": 34, \"QuarCd\": 34, \"QuarLang\": \"Sihlfeld\", \"AnzBestWir\": 21453, \"AnzNat\": 109, \"StichtagDatJahr_str\": \"1995-01-01\"}, {\"StichtagDatJahr\": \"1995-01-01T00:00:00\", \"QuarSort\": 11, \"QuarCd\": 11, \"QuarLang\": \"Rathaus\", \"AnzBestWir\": 3049, \"AnzNat\": 64, \"StichtagDatJahr_str\": \"1995-01-01\"}, {\"StichtagDatJahr\": \"1995-01-01T00:00:00\", \"QuarSort\": 31, \"QuarCd\": 31, \"QuarLang\": \"Alt-Wiedikon\", \"AnzBestWir\": 14719, \"AnzNat\": 97, \"StichtagDatJahr_str\": \"1995-01-01\"}, {\"StichtagDatJahr\": \"1995-01-01T00:00:00\", \"QuarSort\": 24, \"QuarCd\": 24, \"QuarLang\": \"Enge\", \"AnzBestWir\": 8174, \"AnzNat\": 82, \"StichtagDatJahr_str\": \"1995-01-01\"}, {\"StichtagDatJahr\": \"1995-01-01T00:00:00\", \"QuarSort\": 23, \"QuarCd\": 23, \"QuarLang\": \"Leimbach\", \"AnzBestWir\": 4647, \"AnzNat\": 62, \"StichtagDatJahr_str\": \"1995-01-01\"}, {\"StichtagDatJahr\": \"1995-01-01T00:00:00\", \"QuarSort\": 21, \"QuarCd\": 21, \"QuarLang\": \"Wollishofen\", \"AnzBestWir\": 15918, \"AnzNat\": 87, \"StichtagDatJahr_str\": \"1995-01-01\"}, {\"StichtagDatJahr\": \"1995-01-01T00:00:00\", \"QuarSort\": 14, \"QuarCd\": 14, \"QuarLang\": \"City\", \"AnzBestWir\": 1007, \"AnzNat\": 44, \"StichtagDatJahr_str\": \"1995-01-01\"}, {\"StichtagDatJahr\": \"1995-01-01T00:00:00\", \"QuarSort\": 13, \"QuarCd\": 13, \"QuarLang\": \"Lindenhof\", \"AnzBestWir\": 1096, \"AnzNat\": 36, \"StichtagDatJahr_str\": \"1995-01-01\"}, {\"StichtagDatJahr\": \"1995-01-01T00:00:00\", \"QuarSort\": 12, \"QuarCd\": 12, \"QuarLang\": \"Hochschulen\", \"AnzBestWir\": 782, \"AnzNat\": 40, \"StichtagDatJahr_str\": \"1995-01-01\"}, {\"StichtagDatJahr\": \"1995-01-01T00:00:00\", \"QuarSort\": 63, \"QuarCd\": 63, \"QuarLang\": \"Oberstrass\", \"AnzBestWir\": 10121, \"AnzNat\": 88, \"StichtagDatJahr_str\": \"1995-01-01\"}, {\"StichtagDatJahr\": \"1995-01-01T00:00:00\", \"QuarSort\": 71, \"QuarCd\": 71, \"QuarLang\": \"Fluntern\", \"AnzBestWir\": 7151, \"AnzNat\": 77, \"StichtagDatJahr_str\": \"1995-01-01\"}, {\"StichtagDatJahr\": \"1995-01-01T00:00:00\", \"QuarSort\": 72, \"QuarCd\": 72, \"QuarLang\": \"Hottingen\", \"AnzBestWir\": 10234, \"AnzNat\": 84, \"StichtagDatJahr_str\": \"1995-01-01\"}, {\"StichtagDatJahr\": \"1995-01-01T00:00:00\", \"QuarSort\": 102, \"QuarCd\": 102, \"QuarLang\": \"Wipkingen\", \"AnzBestWir\": 16080, \"AnzNat\": 99, \"StichtagDatJahr_str\": \"1995-01-01\"}, {\"StichtagDatJahr\": \"1995-01-01T00:00:00\", \"QuarSort\": 73, \"QuarCd\": 73, \"QuarLang\": \"Hirslanden\", \"AnzBestWir\": 6654, \"AnzNat\": 73, \"StichtagDatJahr_str\": \"1995-01-01\"}, {\"StichtagDatJahr\": \"1995-01-01T00:00:00\", \"QuarSort\": 123, \"QuarCd\": 123, \"QuarLang\": \"Hirzenbach\", \"AnzBestWir\": 10995, \"AnzNat\": 84, \"StichtagDatJahr_str\": \"1995-01-01\"}, {\"StichtagDatJahr\": \"1995-01-01T00:00:00\", \"QuarSort\": 122, \"QuarCd\": 122, \"QuarLang\": \"Schwamendingen-Mitte\", \"AnzBestWir\": 10248, \"AnzNat\": 84, \"StichtagDatJahr_str\": \"1995-01-01\"}, {\"StichtagDatJahr\": \"1995-01-01T00:00:00\", \"QuarSort\": 121, \"QuarCd\": 121, \"QuarLang\": \"Saatlen\", \"AnzBestWir\": 6442, \"AnzNat\": 71, \"StichtagDatJahr_str\": \"1995-01-01\"}, {\"StichtagDatJahr\": \"1995-01-01T00:00:00\", \"QuarSort\": 115, \"QuarCd\": 115, \"QuarLang\": \"Oerlikon\", \"AnzBestWir\": 17033, \"AnzNat\": 98, \"StichtagDatJahr_str\": \"1995-01-01\"}, {\"StichtagDatJahr\": \"1995-01-01T00:00:00\", \"QuarSort\": 111, \"QuarCd\": 111, \"QuarLang\": \"Affoltern\", \"AnzBestWir\": 18154, \"AnzNat\": 91, \"StichtagDatJahr_str\": \"1995-01-01\"}, {\"StichtagDatJahr\": \"1995-01-01T00:00:00\", \"QuarSort\": 119, \"QuarCd\": 119, \"QuarLang\": \"Seebach\", \"AnzBestWir\": 17700, \"AnzNat\": 99, \"StichtagDatJahr_str\": \"1995-01-01\"}, {\"StichtagDatJahr\": \"1995-01-01T00:00:00\", \"QuarSort\": 101, \"QuarCd\": 101, \"QuarLang\": \"H\\u00f6ngg\", \"AnzBestWir\": 19243, \"AnzNat\": 88, \"StichtagDatJahr_str\": \"1995-01-01\"}, {\"StichtagDatJahr\": \"1995-01-01T00:00:00\", \"QuarSort\": 92, \"QuarCd\": 92, \"QuarLang\": \"Altstetten\", \"AnzBestWir\": 27788, \"AnzNat\": 110, \"StichtagDatJahr_str\": \"1995-01-01\"}, {\"StichtagDatJahr\": \"1995-01-01T00:00:00\", \"QuarSort\": 91, \"QuarCd\": 91, \"QuarLang\": \"Albisrieden\", \"AnzBestWir\": 16843, \"AnzNat\": 86, \"StichtagDatJahr_str\": \"1995-01-01\"}, {\"StichtagDatJahr\": \"1995-01-01T00:00:00\", \"QuarSort\": 83, \"QuarCd\": 83, \"QuarLang\": \"Weinegg\", \"AnzBestWir\": 4871, \"AnzNat\": 71, \"StichtagDatJahr_str\": \"1995-01-01\"}, {\"StichtagDatJahr\": \"1995-01-01T00:00:00\", \"QuarSort\": 82, \"QuarCd\": 82, \"QuarLang\": \"M\\u00fchlebach\", \"AnzBestWir\": 5611, \"AnzNat\": 81, \"StichtagDatJahr_str\": \"1995-01-01\"}, {\"StichtagDatJahr\": \"1995-01-01T00:00:00\", \"QuarSort\": 81, \"QuarCd\": 81, \"QuarLang\": \"Seefeld\", \"AnzBestWir\": 5281, \"AnzNat\": 80, \"StichtagDatJahr_str\": \"1995-01-01\"}, {\"StichtagDatJahr\": \"1995-01-01T00:00:00\", \"QuarSort\": 74, \"QuarCd\": 74, \"QuarLang\": \"Witikon\", \"AnzBestWir\": 9732, \"AnzNat\": 80, \"StichtagDatJahr_str\": \"1995-01-01\"}, {\"StichtagDatJahr\": \"1994-01-01T00:00:00\", \"QuarSort\": 33, \"QuarCd\": 33, \"QuarLang\": \"Friesenberg\", \"AnzBestWir\": 10213, \"AnzNat\": 80, \"StichtagDatJahr_str\": \"1994-01-01\"}, {\"StichtagDatJahr\": \"1994-01-01T00:00:00\", \"QuarSort\": 61, \"QuarCd\": 61, \"QuarLang\": \"Unterstrass\", \"AnzBestWir\": 20477, \"AnzNat\": 100, \"StichtagDatJahr_str\": \"1994-01-01\"}, {\"StichtagDatJahr\": \"1994-01-01T00:00:00\", \"QuarSort\": 52, \"QuarCd\": 52, \"QuarLang\": \"Escher Wyss\", \"AnzBestWir\": 1596, \"AnzNat\": 44, \"StichtagDatJahr_str\": \"1994-01-01\"}, {\"StichtagDatJahr\": \"1994-01-01T00:00:00\", \"QuarSort\": 51, \"QuarCd\": 51, \"QuarLang\": \"Gewerbeschule\", \"AnzBestWir\": 9773, \"AnzNat\": 91, \"StichtagDatJahr_str\": \"1994-01-01\"}, {\"StichtagDatJahr\": \"1994-01-01T00:00:00\", \"QuarSort\": 44, \"QuarCd\": 44, \"QuarLang\": \"Hard\", \"AnzBestWir\": 12816, \"AnzNat\": 85, \"StichtagDatJahr_str\": \"1994-01-01\"}, {\"StichtagDatJahr\": \"1994-01-01T00:00:00\", \"QuarSort\": 42, \"QuarCd\": 42, \"QuarLang\": \"Langstrasse\", \"AnzBestWir\": 11183, \"AnzNat\": 96, \"StichtagDatJahr_str\": \"1994-01-01\"}, {\"StichtagDatJahr\": \"1994-01-01T00:00:00\", \"QuarSort\": 41, \"QuarCd\": 41, \"QuarLang\": \"Werd\", \"AnzBestWir\": 4125, \"AnzNat\": 67, \"StichtagDatJahr_str\": \"1994-01-01\"}, {\"StichtagDatJahr\": \"1994-01-01T00:00:00\", \"QuarSort\": 34, \"QuarCd\": 34, \"QuarLang\": \"Sihlfeld\", \"AnzBestWir\": 21569, \"AnzNat\": 107, \"StichtagDatJahr_str\": \"1994-01-01\"}, {\"StichtagDatJahr\": \"1994-01-01T00:00:00\", \"QuarSort\": 11, \"QuarCd\": 11, \"QuarLang\": \"Rathaus\", \"AnzBestWir\": 3089, \"AnzNat\": 67, \"StichtagDatJahr_str\": \"1994-01-01\"}, {\"StichtagDatJahr\": \"1994-01-01T00:00:00\", \"QuarSort\": 31, \"QuarCd\": 31, \"QuarLang\": \"Alt-Wiedikon\", \"AnzBestWir\": 14803, \"AnzNat\": 98, \"StichtagDatJahr_str\": \"1994-01-01\"}, {\"StichtagDatJahr\": \"1994-01-01T00:00:00\", \"QuarSort\": 24, \"QuarCd\": 24, \"QuarLang\": \"Enge\", \"AnzBestWir\": 8122, \"AnzNat\": 81, \"StichtagDatJahr_str\": \"1994-01-01\"}, {\"StichtagDatJahr\": \"1994-01-01T00:00:00\", \"QuarSort\": 23, \"QuarCd\": 23, \"QuarLang\": \"Leimbach\", \"AnzBestWir\": 4598, \"AnzNat\": 60, \"StichtagDatJahr_str\": \"1994-01-01\"}, {\"StichtagDatJahr\": \"1994-01-01T00:00:00\", \"QuarSort\": 21, \"QuarCd\": 21, \"QuarLang\": \"Wollishofen\", \"AnzBestWir\": 15902, \"AnzNat\": 85, \"StichtagDatJahr_str\": \"1994-01-01\"}, {\"StichtagDatJahr\": \"1994-01-01T00:00:00\", \"QuarSort\": 14, \"QuarCd\": 14, \"QuarLang\": \"City\", \"AnzBestWir\": 845, \"AnzNat\": 38, \"StichtagDatJahr_str\": \"1994-01-01\"}, {\"StichtagDatJahr\": \"1994-01-01T00:00:00\", \"QuarSort\": 13, \"QuarCd\": 13, \"QuarLang\": \"Lindenhof\", \"AnzBestWir\": 1087, \"AnzNat\": 35, \"StichtagDatJahr_str\": \"1994-01-01\"}, {\"StichtagDatJahr\": \"1994-01-01T00:00:00\", \"QuarSort\": 12, \"QuarCd\": 12, \"QuarLang\": \"Hochschulen\", \"AnzBestWir\": 806, \"AnzNat\": 34, \"StichtagDatJahr_str\": \"1994-01-01\"}, {\"StichtagDatJahr\": \"1994-01-01T00:00:00\", \"QuarSort\": 63, \"QuarCd\": 63, \"QuarLang\": \"Oberstrass\", \"AnzBestWir\": 10266, \"AnzNat\": 85, \"StichtagDatJahr_str\": \"1994-01-01\"}, {\"StichtagDatJahr\": \"1994-01-01T00:00:00\", \"QuarSort\": 71, \"QuarCd\": 71, \"QuarLang\": \"Fluntern\", \"AnzBestWir\": 7085, \"AnzNat\": 73, \"StichtagDatJahr_str\": \"1994-01-01\"}, {\"StichtagDatJahr\": \"1994-01-01T00:00:00\", \"QuarSort\": 72, \"QuarCd\": 72, \"QuarLang\": \"Hottingen\", \"AnzBestWir\": 10229, \"AnzNat\": 90, \"StichtagDatJahr_str\": \"1994-01-01\"}, {\"StichtagDatJahr\": \"1994-01-01T00:00:00\", \"QuarSort\": 102, \"QuarCd\": 102, \"QuarLang\": \"Wipkingen\", \"AnzBestWir\": 16057, \"AnzNat\": 95, \"StichtagDatJahr_str\": \"1994-01-01\"}, {\"StichtagDatJahr\": \"1994-01-01T00:00:00\", \"QuarSort\": 73, \"QuarCd\": 73, \"QuarLang\": \"Hirslanden\", \"AnzBestWir\": 6750, \"AnzNat\": 70, \"StichtagDatJahr_str\": \"1994-01-01\"}, {\"StichtagDatJahr\": \"1994-01-01T00:00:00\", \"QuarSort\": 123, \"QuarCd\": 123, \"QuarLang\": \"Hirzenbach\", \"AnzBestWir\": 10895, \"AnzNat\": 81, \"StichtagDatJahr_str\": \"1994-01-01\"}, {\"StichtagDatJahr\": \"1994-01-01T00:00:00\", \"QuarSort\": 122, \"QuarCd\": 122, \"QuarLang\": \"Schwamendingen-Mitte\", \"AnzBestWir\": 10240, \"AnzNat\": 81, \"StichtagDatJahr_str\": \"1994-01-01\"}, {\"StichtagDatJahr\": \"1994-01-01T00:00:00\", \"QuarSort\": 121, \"QuarCd\": 121, \"QuarLang\": \"Saatlen\", \"AnzBestWir\": 6430, \"AnzNat\": 63, \"StichtagDatJahr_str\": \"1994-01-01\"}, {\"StichtagDatJahr\": \"1994-01-01T00:00:00\", \"QuarSort\": 119, \"QuarCd\": 119, \"QuarLang\": \"Seebach\", \"AnzBestWir\": 17642, \"AnzNat\": 95, \"StichtagDatJahr_str\": \"1994-01-01\"}, {\"StichtagDatJahr\": \"1994-01-01T00:00:00\", \"QuarSort\": 111, \"QuarCd\": 111, \"QuarLang\": \"Affoltern\", \"AnzBestWir\": 18061, \"AnzNat\": 87, \"StichtagDatJahr_str\": \"1994-01-01\"}, {\"StichtagDatJahr\": \"1994-01-01T00:00:00\", \"QuarSort\": 115, \"QuarCd\": 115, \"QuarLang\": \"Oerlikon\", \"AnzBestWir\": 16771, \"AnzNat\": 99, \"StichtagDatJahr_str\": \"1994-01-01\"}, {\"StichtagDatJahr\": \"1994-01-01T00:00:00\", \"QuarSort\": 101, \"QuarCd\": 101, \"QuarLang\": \"H\\u00f6ngg\", \"AnzBestWir\": 19184, \"AnzNat\": 92, \"StichtagDatJahr_str\": \"1994-01-01\"}, {\"StichtagDatJahr\": \"1994-01-01T00:00:00\", \"QuarSort\": 92, \"QuarCd\": 92, \"QuarLang\": \"Altstetten\", \"AnzBestWir\": 27717, \"AnzNat\": 103, \"StichtagDatJahr_str\": \"1994-01-01\"}, {\"StichtagDatJahr\": \"1994-01-01T00:00:00\", \"QuarSort\": 91, \"QuarCd\": 91, \"QuarLang\": \"Albisrieden\", \"AnzBestWir\": 17058, \"AnzNat\": 82, \"StichtagDatJahr_str\": \"1994-01-01\"}, {\"StichtagDatJahr\": \"1994-01-01T00:00:00\", \"QuarSort\": 83, \"QuarCd\": 83, \"QuarLang\": \"Weinegg\", \"AnzBestWir\": 4883, \"AnzNat\": 69, \"StichtagDatJahr_str\": \"1994-01-01\"}, {\"StichtagDatJahr\": \"1994-01-01T00:00:00\", \"QuarSort\": 82, \"QuarCd\": 82, \"QuarLang\": \"M\\u00fchlebach\", \"AnzBestWir\": 5611, \"AnzNat\": 81, \"StichtagDatJahr_str\": \"1994-01-01\"}, {\"StichtagDatJahr\": \"1994-01-01T00:00:00\", \"QuarSort\": 81, \"QuarCd\": 81, \"QuarLang\": \"Seefeld\", \"AnzBestWir\": 5304, \"AnzNat\": 81, \"StichtagDatJahr_str\": \"1994-01-01\"}, {\"StichtagDatJahr\": \"1994-01-01T00:00:00\", \"QuarSort\": 74, \"QuarCd\": 74, \"QuarLang\": \"Witikon\", \"AnzBestWir\": 9661, \"AnzNat\": 75, \"StichtagDatJahr_str\": \"1994-01-01\"}, {\"StichtagDatJahr\": \"1993-01-01T00:00:00\", \"QuarSort\": 34, \"QuarCd\": 34, \"QuarLang\": \"Sihlfeld\", \"AnzBestWir\": 21536, \"AnzNat\": 99, \"StichtagDatJahr_str\": \"1993-01-01\"}, {\"StichtagDatJahr\": \"1993-01-01T00:00:00\", \"QuarSort\": 61, \"QuarCd\": 61, \"QuarLang\": \"Unterstrass\", \"AnzBestWir\": 20425, \"AnzNat\": 97, \"StichtagDatJahr_str\": \"1993-01-01\"}, {\"StichtagDatJahr\": \"1993-01-01T00:00:00\", \"QuarSort\": 52, \"QuarCd\": 52, \"QuarLang\": \"Escher Wyss\", \"AnzBestWir\": 1547, \"AnzNat\": 42, \"StichtagDatJahr_str\": \"1993-01-01\"}, {\"StichtagDatJahr\": \"1993-01-01T00:00:00\", \"QuarSort\": 51, \"QuarCd\": 51, \"QuarLang\": \"Gewerbeschule\", \"AnzBestWir\": 9948, \"AnzNat\": 95, \"StichtagDatJahr_str\": \"1993-01-01\"}, {\"StichtagDatJahr\": \"1993-01-01T00:00:00\", \"QuarSort\": 44, \"QuarCd\": 44, \"QuarLang\": \"Hard\", \"AnzBestWir\": 12747, \"AnzNat\": 81, \"StichtagDatJahr_str\": \"1993-01-01\"}, {\"StichtagDatJahr\": \"1993-01-01T00:00:00\", \"QuarSort\": 42, \"QuarCd\": 42, \"QuarLang\": \"Langstrasse\", \"AnzBestWir\": 11505, \"AnzNat\": 94, \"StichtagDatJahr_str\": \"1993-01-01\"}, {\"StichtagDatJahr\": \"1993-01-01T00:00:00\", \"QuarSort\": 41, \"QuarCd\": 41, \"QuarLang\": \"Werd\", \"AnzBestWir\": 4048, \"AnzNat\": 68, \"StichtagDatJahr_str\": \"1993-01-01\"}, {\"StichtagDatJahr\": \"1993-01-01T00:00:00\", \"QuarSort\": 71, \"QuarCd\": 71, \"QuarLang\": \"Fluntern\", \"AnzBestWir\": 7188, \"AnzNat\": 68, \"StichtagDatJahr_str\": \"1993-01-01\"}, {\"StichtagDatJahr\": \"1993-01-01T00:00:00\", \"QuarSort\": 33, \"QuarCd\": 33, \"QuarLang\": \"Friesenberg\", \"AnzBestWir\": 10167, \"AnzNat\": 77, \"StichtagDatJahr_str\": \"1993-01-01\"}, {\"StichtagDatJahr\": \"1993-01-01T00:00:00\", \"QuarSort\": 31, \"QuarCd\": 31, \"QuarLang\": \"Alt-Wiedikon\", \"AnzBestWir\": 14637, \"AnzNat\": 97, \"StichtagDatJahr_str\": \"1993-01-01\"}, {\"StichtagDatJahr\": \"1993-01-01T00:00:00\", \"QuarSort\": 24, \"QuarCd\": 24, \"QuarLang\": \"Enge\", \"AnzBestWir\": 8125, \"AnzNat\": 73, \"StichtagDatJahr_str\": \"1993-01-01\"}, {\"StichtagDatJahr\": \"1993-01-01T00:00:00\", \"QuarSort\": 23, \"QuarCd\": 23, \"QuarLang\": \"Leimbach\", \"AnzBestWir\": 4555, \"AnzNat\": 54, \"StichtagDatJahr_str\": \"1993-01-01\"}, {\"StichtagDatJahr\": \"1993-01-01T00:00:00\", \"QuarSort\": 21, \"QuarCd\": 21, \"QuarLang\": \"Wollishofen\", \"AnzBestWir\": 15927, \"AnzNat\": 83, \"StichtagDatJahr_str\": \"1993-01-01\"}, {\"StichtagDatJahr\": \"1993-01-01T00:00:00\", \"QuarSort\": 14, \"QuarCd\": 14, \"QuarLang\": \"City\", \"AnzBestWir\": 884, \"AnzNat\": 36, \"StichtagDatJahr_str\": \"1993-01-01\"}, {\"StichtagDatJahr\": \"1993-01-01T00:00:00\", \"QuarSort\": 13, \"QuarCd\": 13, \"QuarLang\": \"Lindenhof\", \"AnzBestWir\": 1136, \"AnzNat\": 32, \"StichtagDatJahr_str\": \"1993-01-01\"}, {\"StichtagDatJahr\": \"1993-01-01T00:00:00\", \"QuarSort\": 63, \"QuarCd\": 63, \"QuarLang\": \"Oberstrass\", \"AnzBestWir\": 10154, \"AnzNat\": 87, \"StichtagDatJahr_str\": \"1993-01-01\"}, {\"StichtagDatJahr\": \"1993-01-01T00:00:00\", \"QuarSort\": 12, \"QuarCd\": 12, \"QuarLang\": \"Hochschulen\", \"AnzBestWir\": 808, \"AnzNat\": 32, \"StichtagDatJahr_str\": \"1993-01-01\"}, {\"StichtagDatJahr\": \"1993-01-01T00:00:00\", \"QuarSort\": 72, \"QuarCd\": 72, \"QuarLang\": \"Hottingen\", \"AnzBestWir\": 10139, \"AnzNat\": 83, \"StichtagDatJahr_str\": \"1993-01-01\"}, {\"StichtagDatJahr\": \"1993-01-01T00:00:00\", \"QuarSort\": 102, \"QuarCd\": 102, \"QuarLang\": \"Wipkingen\", \"AnzBestWir\": 15974, \"AnzNat\": 97, \"StichtagDatJahr_str\": \"1993-01-01\"}, {\"StichtagDatJahr\": \"1993-01-01T00:00:00\", \"QuarSort\": 123, \"QuarCd\": 123, \"QuarLang\": \"Hirzenbach\", \"AnzBestWir\": 10834, \"AnzNat\": 82, \"StichtagDatJahr_str\": \"1993-01-01\"}, {\"StichtagDatJahr\": \"1993-01-01T00:00:00\", \"QuarSort\": 122, \"QuarCd\": 122, \"QuarLang\": \"Schwamendingen-Mitte\", \"AnzBestWir\": 10175, \"AnzNat\": 75, \"StichtagDatJahr_str\": \"1993-01-01\"}, {\"StichtagDatJahr\": \"1993-01-01T00:00:00\", \"QuarSort\": 121, \"QuarCd\": 121, \"QuarLang\": \"Saatlen\", \"AnzBestWir\": 6472, \"AnzNat\": 60, \"StichtagDatJahr_str\": \"1993-01-01\"}, {\"StichtagDatJahr\": \"1993-01-01T00:00:00\", \"QuarSort\": 119, \"QuarCd\": 119, \"QuarLang\": \"Seebach\", \"AnzBestWir\": 17614, \"AnzNat\": 92, \"StichtagDatJahr_str\": \"1993-01-01\"}, {\"StichtagDatJahr\": \"1993-01-01T00:00:00\", \"QuarSort\": 115, \"QuarCd\": 115, \"QuarLang\": \"Oerlikon\", \"AnzBestWir\": 16710, \"AnzNat\": 93, \"StichtagDatJahr_str\": \"1993-01-01\"}, {\"StichtagDatJahr\": \"1993-01-01T00:00:00\", \"QuarSort\": 111, \"QuarCd\": 111, \"QuarLang\": \"Affoltern\", \"AnzBestWir\": 18095, \"AnzNat\": 85, \"StichtagDatJahr_str\": \"1993-01-01\"}, {\"StichtagDatJahr\": \"1993-01-01T00:00:00\", \"QuarSort\": 101, \"QuarCd\": 101, \"QuarLang\": \"H\\u00f6ngg\", \"AnzBestWir\": 19118, \"AnzNat\": 85, \"StichtagDatJahr_str\": \"1993-01-01\"}, {\"StichtagDatJahr\": \"1993-01-01T00:00:00\", \"QuarSort\": 73, \"QuarCd\": 73, \"QuarLang\": \"Hirslanden\", \"AnzBestWir\": 6835, \"AnzNat\": 69, \"StichtagDatJahr_str\": \"1993-01-01\"}, {\"StichtagDatJahr\": \"1993-01-01T00:00:00\", \"QuarSort\": 92, \"QuarCd\": 92, \"QuarLang\": \"Altstetten\", \"AnzBestWir\": 27871, \"AnzNat\": 100, \"StichtagDatJahr_str\": \"1993-01-01\"}, {\"StichtagDatJahr\": \"1993-01-01T00:00:00\", \"QuarSort\": 91, \"QuarCd\": 91, \"QuarLang\": \"Albisrieden\", \"AnzBestWir\": 17132, \"AnzNat\": 80, \"StichtagDatJahr_str\": \"1993-01-01\"}, {\"StichtagDatJahr\": \"1993-01-01T00:00:00\", \"QuarSort\": 83, \"QuarCd\": 83, \"QuarLang\": \"Weinegg\", \"AnzBestWir\": 4856, \"AnzNat\": 70, \"StichtagDatJahr_str\": \"1993-01-01\"}, {\"StichtagDatJahr\": \"1993-01-01T00:00:00\", \"QuarSort\": 82, \"QuarCd\": 82, \"QuarLang\": \"M\\u00fchlebach\", \"AnzBestWir\": 5694, \"AnzNat\": 80, \"StichtagDatJahr_str\": \"1993-01-01\"}, {\"StichtagDatJahr\": \"1993-01-01T00:00:00\", \"QuarSort\": 81, \"QuarCd\": 81, \"QuarLang\": \"Seefeld\", \"AnzBestWir\": 5283, \"AnzNat\": 78, \"StichtagDatJahr_str\": \"1993-01-01\"}, {\"StichtagDatJahr\": \"1993-01-01T00:00:00\", \"QuarSort\": 74, \"QuarCd\": 74, \"QuarLang\": \"Witikon\", \"AnzBestWir\": 9626, \"AnzNat\": 74, \"StichtagDatJahr_str\": \"1993-01-01\"}, {\"StichtagDatJahr\": \"1993-01-01T00:00:00\", \"QuarSort\": 11, \"QuarCd\": 11, \"QuarLang\": \"Rathaus\", \"AnzBestWir\": 3133, \"AnzNat\": 66, \"StichtagDatJahr_str\": \"1993-01-01\"}]}}, {\"mode\": \"vega-lite\"});\n",
       "</script>"
      ],
      "text/plain": [
       "alt.LayerChart(...)"
      ]
     },
     "execution_count": 71,
     "metadata": {},
     "output_type": "execute_result"
    }
   ],
   "source": [
    "myTitle=\"Wohnbevölkerung nach Anzahl Nationalitäten\"\n",
    "\n",
    "highlight = alt.selection(type='single', on='mouseover',\n",
    "                          fields=['QuarLang'], nearest=True)\n",
    "#x='date:StichtagDatJahr',\n",
    "base = alt.Chart(data2betested.reset_index().query('AnzBestWir>10'), title=myTitle).encode(\n",
    "    x=alt.X('StichtagDatJahr', axis=alt.Axis(title='Jahr'))# , axis=alt.Axis(format='%', title='percentage')\n",
    "    , y=alt.X('AnzNat', axis=alt.Axis(title='Anz. Personen'))\n",
    "    , color=alt.Color('QuarLang', legend=alt.Legend(title=\"Altersgruppen\", orient=\"right\"))  \n",
    "    ,tooltip=['StichtagDatJahr', 'AnzBestWir','AnzBestWir', 'AnzNat']    \n",
    ")\n",
    "points = base.mark_circle().encode(\n",
    "    opacity=alt.value(0.75)\n",
    ").add_selection(\n",
    "    highlight\n",
    ").properties(\n",
    "    width=750 , height=350\n",
    ")\n",
    "lines = base.mark_line().encode(\n",
    "    size=alt.condition(~highlight, alt.value(0.5), alt.value(4))\n",
    ").interactive()\n",
    "\n",
    "lines + points"
   ]
  },
  {
   "cell_type": "code",
   "execution_count": 78,
   "metadata": {},
   "outputs": [
    {
     "data": {
      "text/html": [
       "<div>\n",
       "<style scoped>\n",
       "    .dataframe tbody tr th:only-of-type {\n",
       "        vertical-align: middle;\n",
       "    }\n",
       "\n",
       "    .dataframe tbody tr th {\n",
       "        vertical-align: top;\n",
       "    }\n",
       "\n",
       "    .dataframe thead th {\n",
       "        text-align: right;\n",
       "    }\n",
       "</style>\n",
       "<table border=\"1\" class=\"dataframe\">\n",
       "  <thead>\n",
       "    <tr style=\"text-align: right;\">\n",
       "      <th></th>\n",
       "      <th>StichtagDatJahr</th>\n",
       "      <th>QuarLang</th>\n",
       "      <th>QuarSort</th>\n",
       "      <th>sum_WBev</th>\n",
       "    </tr>\n",
       "  </thead>\n",
       "  <tbody>\n",
       "    <tr>\n",
       "      <th>0</th>\n",
       "      <td>2020-01-01</td>\n",
       "      <td>Rathaus</td>\n",
       "      <td>11</td>\n",
       "      <td>3317</td>\n",
       "    </tr>\n",
       "    <tr>\n",
       "      <th>1</th>\n",
       "      <td>2020-01-01</td>\n",
       "      <td>Hochschulen</td>\n",
       "      <td>12</td>\n",
       "      <td>675</td>\n",
       "    </tr>\n",
       "    <tr>\n",
       "      <th>2</th>\n",
       "      <td>2020-01-01</td>\n",
       "      <td>Lindenhof</td>\n",
       "      <td>13</td>\n",
       "      <td>1010</td>\n",
       "    </tr>\n",
       "    <tr>\n",
       "      <th>3</th>\n",
       "      <td>2020-01-01</td>\n",
       "      <td>City</td>\n",
       "      <td>14</td>\n",
       "      <td>829</td>\n",
       "    </tr>\n",
       "    <tr>\n",
       "      <th>4</th>\n",
       "      <td>2020-01-01</td>\n",
       "      <td>Wollishofen</td>\n",
       "      <td>21</td>\n",
       "      <td>19757</td>\n",
       "    </tr>\n",
       "    <tr>\n",
       "      <th>5</th>\n",
       "      <td>2020-01-01</td>\n",
       "      <td>Leimbach</td>\n",
       "      <td>23</td>\n",
       "      <td>6140</td>\n",
       "    </tr>\n",
       "    <tr>\n",
       "      <th>6</th>\n",
       "      <td>2020-01-01</td>\n",
       "      <td>Enge</td>\n",
       "      <td>24</td>\n",
       "      <td>9655</td>\n",
       "    </tr>\n",
       "    <tr>\n",
       "      <th>7</th>\n",
       "      <td>2020-01-01</td>\n",
       "      <td>Alt-Wiedikon</td>\n",
       "      <td>31</td>\n",
       "      <td>17764</td>\n",
       "    </tr>\n",
       "    <tr>\n",
       "      <th>8</th>\n",
       "      <td>2020-01-01</td>\n",
       "      <td>Friesenberg</td>\n",
       "      <td>33</td>\n",
       "      <td>11071</td>\n",
       "    </tr>\n",
       "    <tr>\n",
       "      <th>9</th>\n",
       "      <td>2020-01-01</td>\n",
       "      <td>Sihlfeld</td>\n",
       "      <td>34</td>\n",
       "      <td>21921</td>\n",
       "    </tr>\n",
       "    <tr>\n",
       "      <th>10</th>\n",
       "      <td>2020-01-01</td>\n",
       "      <td>Werd</td>\n",
       "      <td>41</td>\n",
       "      <td>4570</td>\n",
       "    </tr>\n",
       "    <tr>\n",
       "      <th>11</th>\n",
       "      <td>2020-01-01</td>\n",
       "      <td>Langstrasse</td>\n",
       "      <td>42</td>\n",
       "      <td>11910</td>\n",
       "    </tr>\n",
       "    <tr>\n",
       "      <th>12</th>\n",
       "      <td>2020-01-01</td>\n",
       "      <td>Hard</td>\n",
       "      <td>44</td>\n",
       "      <td>12554</td>\n",
       "    </tr>\n",
       "    <tr>\n",
       "      <th>13</th>\n",
       "      <td>2020-01-01</td>\n",
       "      <td>Gewerbeschule</td>\n",
       "      <td>51</td>\n",
       "      <td>9424</td>\n",
       "    </tr>\n",
       "    <tr>\n",
       "      <th>14</th>\n",
       "      <td>2020-01-01</td>\n",
       "      <td>Escher Wyss</td>\n",
       "      <td>52</td>\n",
       "      <td>6198</td>\n",
       "    </tr>\n",
       "    <tr>\n",
       "      <th>15</th>\n",
       "      <td>2020-01-01</td>\n",
       "      <td>Unterstrass</td>\n",
       "      <td>61</td>\n",
       "      <td>24493</td>\n",
       "    </tr>\n",
       "    <tr>\n",
       "      <th>16</th>\n",
       "      <td>2020-01-01</td>\n",
       "      <td>Oberstrass</td>\n",
       "      <td>63</td>\n",
       "      <td>10824</td>\n",
       "    </tr>\n",
       "    <tr>\n",
       "      <th>17</th>\n",
       "      <td>2020-01-01</td>\n",
       "      <td>Fluntern</td>\n",
       "      <td>71</td>\n",
       "      <td>8685</td>\n",
       "    </tr>\n",
       "    <tr>\n",
       "      <th>18</th>\n",
       "      <td>2020-01-01</td>\n",
       "      <td>Hottingen</td>\n",
       "      <td>72</td>\n",
       "      <td>11304</td>\n",
       "    </tr>\n",
       "    <tr>\n",
       "      <th>19</th>\n",
       "      <td>2020-01-01</td>\n",
       "      <td>Hirslanden</td>\n",
       "      <td>73</td>\n",
       "      <td>7396</td>\n",
       "    </tr>\n",
       "    <tr>\n",
       "      <th>20</th>\n",
       "      <td>2020-01-01</td>\n",
       "      <td>Witikon</td>\n",
       "      <td>74</td>\n",
       "      <td>11244</td>\n",
       "    </tr>\n",
       "    <tr>\n",
       "      <th>21</th>\n",
       "      <td>2020-01-01</td>\n",
       "      <td>Seefeld</td>\n",
       "      <td>81</td>\n",
       "      <td>5480</td>\n",
       "    </tr>\n",
       "    <tr>\n",
       "      <th>22</th>\n",
       "      <td>2020-01-01</td>\n",
       "      <td>Mühlebach</td>\n",
       "      <td>82</td>\n",
       "      <td>6414</td>\n",
       "    </tr>\n",
       "    <tr>\n",
       "      <th>23</th>\n",
       "      <td>2020-01-01</td>\n",
       "      <td>Weinegg</td>\n",
       "      <td>83</td>\n",
       "      <td>5562</td>\n",
       "    </tr>\n",
       "    <tr>\n",
       "      <th>24</th>\n",
       "      <td>2020-01-01</td>\n",
       "      <td>Albisrieden</td>\n",
       "      <td>91</td>\n",
       "      <td>22364</td>\n",
       "    </tr>\n",
       "    <tr>\n",
       "      <th>25</th>\n",
       "      <td>2020-01-01</td>\n",
       "      <td>Altstetten</td>\n",
       "      <td>92</td>\n",
       "      <td>34098</td>\n",
       "    </tr>\n",
       "    <tr>\n",
       "      <th>26</th>\n",
       "      <td>2020-01-01</td>\n",
       "      <td>Höngg</td>\n",
       "      <td>101</td>\n",
       "      <td>24439</td>\n",
       "    </tr>\n",
       "    <tr>\n",
       "      <th>27</th>\n",
       "      <td>2020-01-01</td>\n",
       "      <td>Wipkingen</td>\n",
       "      <td>102</td>\n",
       "      <td>16605</td>\n",
       "    </tr>\n",
       "    <tr>\n",
       "      <th>28</th>\n",
       "      <td>2020-01-01</td>\n",
       "      <td>Affoltern</td>\n",
       "      <td>111</td>\n",
       "      <td>26584</td>\n",
       "    </tr>\n",
       "    <tr>\n",
       "      <th>29</th>\n",
       "      <td>2020-01-01</td>\n",
       "      <td>Oerlikon</td>\n",
       "      <td>115</td>\n",
       "      <td>23548</td>\n",
       "    </tr>\n",
       "    <tr>\n",
       "      <th>30</th>\n",
       "      <td>2020-01-01</td>\n",
       "      <td>Seebach</td>\n",
       "      <td>119</td>\n",
       "      <td>26056</td>\n",
       "    </tr>\n",
       "    <tr>\n",
       "      <th>31</th>\n",
       "      <td>2020-01-01</td>\n",
       "      <td>Saatlen</td>\n",
       "      <td>121</td>\n",
       "      <td>8799</td>\n",
       "    </tr>\n",
       "    <tr>\n",
       "      <th>32</th>\n",
       "      <td>2020-01-01</td>\n",
       "      <td>Schwamendingen-Mitte</td>\n",
       "      <td>122</td>\n",
       "      <td>11083</td>\n",
       "    </tr>\n",
       "    <tr>\n",
       "      <th>33</th>\n",
       "      <td>2020-01-01</td>\n",
       "      <td>Hirzenbach</td>\n",
       "      <td>123</td>\n",
       "      <td>12963</td>\n",
       "    </tr>\n",
       "  </tbody>\n",
       "</table>\n",
       "</div>"
      ],
      "text/plain": [
       "   StichtagDatJahr              QuarLang  QuarSort  sum_WBev\n",
       "0       2020-01-01               Rathaus        11      3317\n",
       "1       2020-01-01           Hochschulen        12       675\n",
       "2       2020-01-01             Lindenhof        13      1010\n",
       "3       2020-01-01                  City        14       829\n",
       "4       2020-01-01           Wollishofen        21     19757\n",
       "5       2020-01-01              Leimbach        23      6140\n",
       "6       2020-01-01                  Enge        24      9655\n",
       "7       2020-01-01          Alt-Wiedikon        31     17764\n",
       "8       2020-01-01           Friesenberg        33     11071\n",
       "9       2020-01-01              Sihlfeld        34     21921\n",
       "10      2020-01-01                  Werd        41      4570\n",
       "11      2020-01-01           Langstrasse        42     11910\n",
       "12      2020-01-01                  Hard        44     12554\n",
       "13      2020-01-01         Gewerbeschule        51      9424\n",
       "14      2020-01-01           Escher Wyss        52      6198\n",
       "15      2020-01-01           Unterstrass        61     24493\n",
       "16      2020-01-01            Oberstrass        63     10824\n",
       "17      2020-01-01              Fluntern        71      8685\n",
       "18      2020-01-01             Hottingen        72     11304\n",
       "19      2020-01-01            Hirslanden        73      7396\n",
       "20      2020-01-01               Witikon        74     11244\n",
       "21      2020-01-01               Seefeld        81      5480\n",
       "22      2020-01-01             Mühlebach        82      6414\n",
       "23      2020-01-01               Weinegg        83      5562\n",
       "24      2020-01-01           Albisrieden        91     22364\n",
       "25      2020-01-01            Altstetten        92     34098\n",
       "26      2020-01-01                 Höngg       101     24439\n",
       "27      2020-01-01             Wipkingen       102     16605\n",
       "28      2020-01-01             Affoltern       111     26584\n",
       "29      2020-01-01              Oerlikon       115     23548\n",
       "30      2020-01-01               Seebach       119     26056\n",
       "31      2020-01-01               Saatlen       121      8799\n",
       "32      2020-01-01  Schwamendingen-Mitte       122     11083\n",
       "33      2020-01-01            Hirzenbach       123     12963"
      ]
     },
     "execution_count": 78,
     "metadata": {},
     "output_type": "execute_result"
    }
   ],
   "source": [
    "myAgg = data2betested.loc['2020']  \\\n",
    "    .groupby(['StichtagDatJahr', 'QuarLang','QuarSort']) \\\n",
    "    .agg(sum_WBev=('AnzBestWir', 'sum')) \\\n",
    "    .sort_values('QuarSort', ascending=True) \n",
    "\n",
    "myAgg.reset_index().head(36)"
   ]
  },
  {
   "cell_type": "markdown",
   "metadata": {},
   "source": [
    "**Sharepoint als gecheckt markieren!**"
   ]
  },
  {
   "cell_type": "markdown",
   "metadata": {},
   "source": [
    "Record auf Sharepoint: **[Link](http://kollaboration.intranet.stzh.ch/orga/ssz-produkte/Lists/SASA_Outputs/EditForm.aspx?ID=157&Source=%2Forga%2Fssz%2Dprodukte%2FLists%2FSASA%5FOutputs)**"
   ]
  },
  {
   "cell_type": "code",
   "execution_count": null,
   "metadata": {},
   "outputs": [],
   "source": []
  },
  {
   "cell_type": "raw",
   "metadata": {},
   "source": []
  },
  {
   "cell_type": "code",
   "execution_count": null,
   "metadata": {},
   "outputs": [],
   "source": []
  }
 ],
 "metadata": {
  "kernelspec": {
   "display_name": "Python 3 (ipykernel)",
   "language": "python",
   "name": "python3"
  },
  "language_info": {
   "codemirror_mode": {
    "name": "ipython",
    "version": 3
   },
   "file_extension": ".py",
   "mimetype": "text/x-python",
   "name": "python",
   "nbconvert_exporter": "python",
   "pygments_lexer": "ipython3",
   "version": "3.7.11"
  }
 },
 "nbformat": 4,
 "nbformat_minor": 4
}
