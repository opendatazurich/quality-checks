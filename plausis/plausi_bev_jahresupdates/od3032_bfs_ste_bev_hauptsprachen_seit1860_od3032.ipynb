{
 "cells": [
  {
   "cell_type": "markdown",
   "metadata": {},
   "source": [
    "**Importiere die notwendigen Packages**"
   ]
  },
  {
   "cell_type": "code",
   "execution_count": 1,
   "metadata": {},
   "outputs": [],
   "source": [
    "import pandas as pd\n",
    "import pivottablejs\n",
    "from pivottablejs import pivot_ui\n",
    "import numpy as np\n",
    "import altair as alt\n",
    "import matplotlib.pyplot as plt\n",
    "from datetime import datetime\n",
    "import geopandas as gpd\n",
    "import folium \n",
    "\n"
   ]
  },
  {
   "cell_type": "markdown",
   "metadata": {},
   "source": [
    "Definiere Settings. Hier das Zahlenformat von Float-Werten (z.B. *'{:,.2f}'.format* mit Komma als Tausenderzeichen), "
   ]
  },
  {
   "cell_type": "code",
   "execution_count": 2,
   "metadata": {},
   "outputs": [],
   "source": [
    "pd.options.display.float_format = '{:.0f}'.format\n",
    "pd.set_option('display.width', 100)\n",
    "pd.set_option('display.max_columns', 15)"
   ]
  },
  {
   "cell_type": "markdown",
   "metadata": {},
   "source": [
    "Importiere einen Datensatz von der **DWH_INT** Dropzone.\n",
    "\n",
    "- Beachte dabei die Notation des Pfades...\n",
    "- Definiere mal aktuell noch keine weiteren Parameter beim Import"
   ]
  },
  {
   "cell_type": "markdown",
   "metadata": {},
   "source": [
    "**Dataset auf INTEG Datenkatalog**: https://data.integ.stadt-zuerich.ch/dataset/bfs_ste_bev_hauptsprachen_seit1860_od3032"
   ]
  },
  {
   "cell_type": "code",
   "execution_count": 7,
   "metadata": {},
   "outputs": [],
   "source": [
    "# Filepath\n",
    "fp = r\"//szh.loc/ssz/applikationen/OGD_Dropzone/INT_DWH/bfs_ste_bev_hauptsprachen_seit1860_od3032/BEV303OD3032.csv\"\n",
    "\n",
    "# Read the data\n",
    "data2betested = pd.read_csv(\n",
    "    fp, \n",
    "    sep=',',\n",
    "   #usecols=[0,1,2,3,4,6],\n",
    "   #names=['stationid','year','month','avgtemp','latitude','longitude','elevation','station','countryid','country'],\n",
    "   #skiprows=1,\n",
    "   # parse_dates=[0],\n",
    "    parse_dates=True,\n",
    "    #date_parser=lambda x: pd.to_datetime(x, format=\"%Y\"), \n",
    "    #index_col=\"date_time\",\n",
    "    low_memory=False    \n",
    "    )"
   ]
  },
  {
   "cell_type": "markdown",
   "metadata": {},
   "source": [
    "In der Folge ein paar erste Tests:"
   ]
  },
  {
   "cell_type": "code",
   "execution_count": 8,
   "metadata": {},
   "outputs": [
    {
     "data": {
      "text/plain": [
       "pandas.core.frame.DataFrame"
      ]
     },
     "execution_count": 8,
     "metadata": {},
     "output_type": "execute_result"
    }
   ],
   "source": [
    "type(data2betested)"
   ]
  },
  {
   "cell_type": "markdown",
   "metadata": {},
   "source": [
    " - 1) Zeige eine kurze Vorschau der importierten Daten\n",
    " - 2) Weise die Datentypen aus\n",
    " - 3) Zeige die Shape (Umfang) des Datensatzes an"
   ]
  },
  {
   "cell_type": "code",
   "execution_count": 9,
   "metadata": {},
   "outputs": [
    {
     "data": {
      "text/html": [
       "<div>\n",
       "<style scoped>\n",
       "    .dataframe tbody tr th:only-of-type {\n",
       "        vertical-align: middle;\n",
       "    }\n",
       "\n",
       "    .dataframe tbody tr th {\n",
       "        vertical-align: top;\n",
       "    }\n",
       "\n",
       "    .dataframe thead th {\n",
       "        text-align: right;\n",
       "    }\n",
       "</style>\n",
       "<table border=\"1\" class=\"dataframe\">\n",
       "  <thead>\n",
       "    <tr style=\"text-align: right;\">\n",
       "      <th></th>\n",
       "      <th>Jahr</th>\n",
       "      <th>Sprache</th>\n",
       "      <th>AnzBev</th>\n",
       "      <th>AntBev</th>\n",
       "      <th>untAnzBevKI</th>\n",
       "      <th>obAnzBevKI</th>\n",
       "      <th>untAntBevKI</th>\n",
       "      <th>obAntBevKI</th>\n",
       "    </tr>\n",
       "  </thead>\n",
       "  <tbody>\n",
       "    <tr>\n",
       "      <th>0</th>\n",
       "      <td>2019</td>\n",
       "      <td>Deutsch</td>\n",
       "      <td>306420</td>\n",
       "      <td>76</td>\n",
       "      <td>303780</td>\n",
       "      <td>309060</td>\n",
       "      <td>75</td>\n",
       "      <td>76</td>\n",
       "    </tr>\n",
       "    <tr>\n",
       "      <th>1</th>\n",
       "      <td>2019</td>\n",
       "      <td>Englisch</td>\n",
       "      <td>46000</td>\n",
       "      <td>11</td>\n",
       "      <td>43990</td>\n",
       "      <td>48010</td>\n",
       "      <td>11</td>\n",
       "      <td>12</td>\n",
       "    </tr>\n",
       "    <tr>\n",
       "      <th>2</th>\n",
       "      <td>2019</td>\n",
       "      <td>Italienisch</td>\n",
       "      <td>25180</td>\n",
       "      <td>6</td>\n",
       "      <td>23710</td>\n",
       "      <td>26640</td>\n",
       "      <td>6</td>\n",
       "      <td>7</td>\n",
       "    </tr>\n",
       "  </tbody>\n",
       "</table>\n",
       "</div>"
      ],
      "text/plain": [
       "   Jahr      Sprache  AnzBev  AntBev  untAnzBevKI  obAnzBevKI  untAntBevKI  obAntBevKI\n",
       "0  2019      Deutsch  306420      76       303780      309060           75          76\n",
       "1  2019     Englisch   46000      11        43990       48010           11          12\n",
       "2  2019  Italienisch   25180       6        23710       26640            6           7"
      ]
     },
     "execution_count": 9,
     "metadata": {},
     "output_type": "execute_result"
    }
   ],
   "source": [
    "data2betested.head(3)"
   ]
  },
  {
   "cell_type": "code",
   "execution_count": 10,
   "metadata": {},
   "outputs": [
    {
     "data": {
      "text/plain": [
       "Jahr             int64\n",
       "Sprache         object\n",
       "AnzBev         float64\n",
       "AntBev         float64\n",
       "untAnzBevKI    float64\n",
       "obAnzBevKI     float64\n",
       "untAntBevKI    float64\n",
       "obAntBevKI     float64\n",
       "dtype: object"
      ]
     },
     "execution_count": 10,
     "metadata": {},
     "output_type": "execute_result"
    }
   ],
   "source": [
    "data2betested.dtypes"
   ]
  },
  {
   "cell_type": "code",
   "execution_count": 11,
   "metadata": {},
   "outputs": [
    {
     "data": {
      "text/plain": [
       "(183, 8)"
      ]
     },
     "execution_count": 11,
     "metadata": {},
     "output_type": "execute_result"
    }
   ],
   "source": [
    "data2betested.shape"
   ]
  },
  {
   "cell_type": "markdown",
   "metadata": {},
   "source": [
    "Beschreibe einzelne Attribute"
   ]
  },
  {
   "cell_type": "code",
   "execution_count": 12,
   "metadata": {},
   "outputs": [
    {
     "data": {
      "text/html": [
       "<div>\n",
       "<style scoped>\n",
       "    .dataframe tbody tr th:only-of-type {\n",
       "        vertical-align: middle;\n",
       "    }\n",
       "\n",
       "    .dataframe tbody tr th {\n",
       "        vertical-align: top;\n",
       "    }\n",
       "\n",
       "    .dataframe thead th {\n",
       "        text-align: right;\n",
       "    }\n",
       "</style>\n",
       "<table border=\"1\" class=\"dataframe\">\n",
       "  <thead>\n",
       "    <tr style=\"text-align: right;\">\n",
       "      <th></th>\n",
       "      <th>Jahr</th>\n",
       "      <th>AnzBev</th>\n",
       "      <th>AntBev</th>\n",
       "      <th>untAnzBevKI</th>\n",
       "      <th>obAnzBevKI</th>\n",
       "      <th>untAntBevKI</th>\n",
       "      <th>obAntBevKI</th>\n",
       "    </tr>\n",
       "  </thead>\n",
       "  <tbody>\n",
       "    <tr>\n",
       "      <th>count</th>\n",
       "      <td>183</td>\n",
       "      <td>182</td>\n",
       "      <td>182</td>\n",
       "      <td>100</td>\n",
       "      <td>100</td>\n",
       "      <td>100</td>\n",
       "      <td>100</td>\n",
       "    </tr>\n",
       "    <tr>\n",
       "      <th>mean</th>\n",
       "      <td>1979</td>\n",
       "      <td>47377</td>\n",
       "      <td>15</td>\n",
       "      <td>45954</td>\n",
       "      <td>48379</td>\n",
       "      <td>12</td>\n",
       "      <td>13</td>\n",
       "    </tr>\n",
       "    <tr>\n",
       "      <th>std</th>\n",
       "      <td>50</td>\n",
       "      <td>90297</td>\n",
       "      <td>28</td>\n",
       "      <td>84015</td>\n",
       "      <td>84813</td>\n",
       "      <td>22</td>\n",
       "      <td>22</td>\n",
       "    </tr>\n",
       "    <tr>\n",
       "      <th>min</th>\n",
       "      <td>1860</td>\n",
       "      <td>31</td>\n",
       "      <td>0</td>\n",
       "      <td>730</td>\n",
       "      <td>1310</td>\n",
       "      <td>0</td>\n",
       "      <td>0</td>\n",
       "    </tr>\n",
       "    <tr>\n",
       "      <th>25%</th>\n",
       "      <td>1950</td>\n",
       "      <td>4713</td>\n",
       "      <td>2</td>\n",
       "      <td>10782</td>\n",
       "      <td>12628</td>\n",
       "      <td>3</td>\n",
       "      <td>3</td>\n",
       "    </tr>\n",
       "    <tr>\n",
       "      <th>50%</th>\n",
       "      <td>2010</td>\n",
       "      <td>12995</td>\n",
       "      <td>4</td>\n",
       "      <td>14885</td>\n",
       "      <td>17240</td>\n",
       "      <td>4</td>\n",
       "      <td>4</td>\n",
       "    </tr>\n",
       "    <tr>\n",
       "      <th>75%</th>\n",
       "      <td>2015</td>\n",
       "      <td>30759</td>\n",
       "      <td>8</td>\n",
       "      <td>31995</td>\n",
       "      <td>35538</td>\n",
       "      <td>9</td>\n",
       "      <td>9</td>\n",
       "    </tr>\n",
       "    <tr>\n",
       "      <th>max</th>\n",
       "      <td>2019</td>\n",
       "      <td>384950</td>\n",
       "      <td>100</td>\n",
       "      <td>303780</td>\n",
       "      <td>309060</td>\n",
       "      <td>80</td>\n",
       "      <td>81</td>\n",
       "    </tr>\n",
       "  </tbody>\n",
       "</table>\n",
       "</div>"
      ],
      "text/plain": [
       "       Jahr  AnzBev  AntBev  untAnzBevKI  obAnzBevKI  untAntBevKI  obAntBevKI\n",
       "count   183     182     182          100         100          100         100\n",
       "mean   1979   47377      15        45954       48379           12          13\n",
       "std      50   90297      28        84015       84813           22          22\n",
       "min    1860      31       0          730        1310            0           0\n",
       "25%    1950    4713       2        10782       12628            3           3\n",
       "50%    2010   12995       4        14885       17240            4           4\n",
       "75%    2015   30759       8        31995       35538            9           9\n",
       "max    2019  384950     100       303780      309060           80          81"
      ]
     },
     "execution_count": 12,
     "metadata": {},
     "output_type": "execute_result"
    }
   ],
   "source": [
    "data2betested.describe()"
   ]
  },
  {
   "cell_type": "markdown",
   "metadata": {},
   "source": [
    "Wie viele Nullwerte gibt es im Datensatz?"
   ]
  },
  {
   "cell_type": "code",
   "execution_count": 13,
   "metadata": {
    "scrolled": true
   },
   "outputs": [
    {
     "data": {
      "text/plain": [
       "Jahr            0\n",
       "Sprache         0\n",
       "AnzBev          1\n",
       "AntBev          1\n",
       "untAnzBevKI    83\n",
       "obAnzBevKI     83\n",
       "untAntBevKI    83\n",
       "obAntBevKI     83\n",
       "dtype: int64"
      ]
     },
     "execution_count": 13,
     "metadata": {},
     "output_type": "execute_result"
    }
   ],
   "source": [
    "data2betested.isnull().sum()"
   ]
  },
  {
   "cell_type": "code",
   "execution_count": null,
   "metadata": {},
   "outputs": [],
   "source": []
  },
  {
   "cell_type": "markdown",
   "metadata": {},
   "source": [
    "Wandle die Spalte Jahr von Int zu **Datetime** um. Dies wird in den meisten Grafiken so benötigt."
   ]
  },
  {
   "cell_type": "code",
   "execution_count": 14,
   "metadata": {
    "scrolled": true
   },
   "outputs": [
    {
     "data": {
      "text/html": [
       "<div>\n",
       "<style scoped>\n",
       "    .dataframe tbody tr th:only-of-type {\n",
       "        vertical-align: middle;\n",
       "    }\n",
       "\n",
       "    .dataframe tbody tr th {\n",
       "        vertical-align: top;\n",
       "    }\n",
       "\n",
       "    .dataframe thead th {\n",
       "        text-align: right;\n",
       "    }\n",
       "</style>\n",
       "<table border=\"1\" class=\"dataframe\">\n",
       "  <thead>\n",
       "    <tr style=\"text-align: right;\">\n",
       "      <th></th>\n",
       "      <th>Jahr</th>\n",
       "      <th>Sprache</th>\n",
       "      <th>AnzBev</th>\n",
       "      <th>AntBev</th>\n",
       "      <th>untAnzBevKI</th>\n",
       "      <th>obAnzBevKI</th>\n",
       "      <th>untAntBevKI</th>\n",
       "      <th>obAntBevKI</th>\n",
       "    </tr>\n",
       "  </thead>\n",
       "  <tbody>\n",
       "    <tr>\n",
       "      <th>0</th>\n",
       "      <td>2019-01-01</td>\n",
       "      <td>Deutsch</td>\n",
       "      <td>306420</td>\n",
       "      <td>76</td>\n",
       "      <td>303780</td>\n",
       "      <td>309060</td>\n",
       "      <td>75</td>\n",
       "      <td>76</td>\n",
       "    </tr>\n",
       "    <tr>\n",
       "      <th>1</th>\n",
       "      <td>2019-01-01</td>\n",
       "      <td>Englisch</td>\n",
       "      <td>46000</td>\n",
       "      <td>11</td>\n",
       "      <td>43990</td>\n",
       "      <td>48010</td>\n",
       "      <td>11</td>\n",
       "      <td>12</td>\n",
       "    </tr>\n",
       "    <tr>\n",
       "      <th>2</th>\n",
       "      <td>2019-01-01</td>\n",
       "      <td>Italienisch</td>\n",
       "      <td>25180</td>\n",
       "      <td>6</td>\n",
       "      <td>23710</td>\n",
       "      <td>26640</td>\n",
       "      <td>6</td>\n",
       "      <td>7</td>\n",
       "    </tr>\n",
       "    <tr>\n",
       "      <th>3</th>\n",
       "      <td>2019-01-01</td>\n",
       "      <td>Französisch</td>\n",
       "      <td>18970</td>\n",
       "      <td>5</td>\n",
       "      <td>17650</td>\n",
       "      <td>20300</td>\n",
       "      <td>4</td>\n",
       "      <td>5</td>\n",
       "    </tr>\n",
       "    <tr>\n",
       "      <th>4</th>\n",
       "      <td>2019-01-01</td>\n",
       "      <td>Serbisch_Kroatisch</td>\n",
       "      <td>13060</td>\n",
       "      <td>3</td>\n",
       "      <td>12040</td>\n",
       "      <td>14080</td>\n",
       "      <td>3</td>\n",
       "      <td>4</td>\n",
       "    </tr>\n",
       "    <tr>\n",
       "      <th>...</th>\n",
       "      <td>...</td>\n",
       "      <td>...</td>\n",
       "      <td>...</td>\n",
       "      <td>...</td>\n",
       "      <td>...</td>\n",
       "      <td>...</td>\n",
       "      <td>...</td>\n",
       "      <td>...</td>\n",
       "    </tr>\n",
       "    <tr>\n",
       "      <th>178</th>\n",
       "      <td>1860-01-01</td>\n",
       "      <td>Deutsch</td>\n",
       "      <td>51396</td>\n",
       "      <td>100</td>\n",
       "      <td>nan</td>\n",
       "      <td>nan</td>\n",
       "      <td>nan</td>\n",
       "      <td>nan</td>\n",
       "    </tr>\n",
       "    <tr>\n",
       "      <th>179</th>\n",
       "      <td>1860-01-01</td>\n",
       "      <td>Italienisch</td>\n",
       "      <td>31</td>\n",
       "      <td>0</td>\n",
       "      <td>nan</td>\n",
       "      <td>nan</td>\n",
       "      <td>nan</td>\n",
       "      <td>nan</td>\n",
       "    </tr>\n",
       "    <tr>\n",
       "      <th>180</th>\n",
       "      <td>1860-01-01</td>\n",
       "      <td>Französisch</td>\n",
       "      <td>147</td>\n",
       "      <td>0</td>\n",
       "      <td>nan</td>\n",
       "      <td>nan</td>\n",
       "      <td>nan</td>\n",
       "      <td>nan</td>\n",
       "    </tr>\n",
       "    <tr>\n",
       "      <th>181</th>\n",
       "      <td>1860-01-01</td>\n",
       "      <td>Rätoromanisch</td>\n",
       "      <td>nan</td>\n",
       "      <td>nan</td>\n",
       "      <td>nan</td>\n",
       "      <td>nan</td>\n",
       "      <td>nan</td>\n",
       "      <td>nan</td>\n",
       "    </tr>\n",
       "    <tr>\n",
       "      <th>182</th>\n",
       "      <td>1860-01-01</td>\n",
       "      <td>andSprachen</td>\n",
       "      <td>42</td>\n",
       "      <td>0</td>\n",
       "      <td>nan</td>\n",
       "      <td>nan</td>\n",
       "      <td>nan</td>\n",
       "      <td>nan</td>\n",
       "    </tr>\n",
       "  </tbody>\n",
       "</table>\n",
       "<p>183 rows × 8 columns</p>\n",
       "</div>"
      ],
      "text/plain": [
       "          Jahr             Sprache  AnzBev  AntBev  untAnzBevKI  obAnzBevKI  untAntBevKI  \\\n",
       "0   2019-01-01             Deutsch  306420      76       303780      309060           75   \n",
       "1   2019-01-01            Englisch   46000      11        43990       48010           11   \n",
       "2   2019-01-01         Italienisch   25180       6        23710       26640            6   \n",
       "3   2019-01-01         Französisch   18970       5        17650       20300            4   \n",
       "4   2019-01-01  Serbisch_Kroatisch   13060       3        12040       14080            3   \n",
       "..         ...                 ...     ...     ...          ...         ...          ...   \n",
       "178 1860-01-01             Deutsch   51396     100          nan         nan          nan   \n",
       "179 1860-01-01         Italienisch      31       0          nan         nan          nan   \n",
       "180 1860-01-01         Französisch     147       0          nan         nan          nan   \n",
       "181 1860-01-01       Rätoromanisch     nan     nan          nan         nan          nan   \n",
       "182 1860-01-01         andSprachen      42       0          nan         nan          nan   \n",
       "\n",
       "     obAntBevKI  \n",
       "0            76  \n",
       "1            12  \n",
       "2             7  \n",
       "3             5  \n",
       "4             4  \n",
       "..          ...  \n",
       "178         nan  \n",
       "179         nan  \n",
       "180         nan  \n",
       "181         nan  \n",
       "182         nan  \n",
       "\n",
       "[183 rows x 8 columns]"
      ]
     },
     "execution_count": 14,
     "metadata": {},
     "output_type": "execute_result"
    }
   ],
   "source": [
    "data2betested['Jahr']=pd.to_datetime(data2betested['Jahr'], format='%Y')\n",
    "\n",
    "#TO DO --> setze das Datum auf den 31.12. der Jahres.\n",
    "#test=data2betested[['StichtagDatJahr']].date().replace(month=12, day=31)\n",
    "\n",
    "data2betested"
   ]
  },
  {
   "cell_type": "markdown",
   "metadata": {},
   "source": [
    "Bereite die Daten für die Grafik unten vor"
   ]
  },
  {
   "cell_type": "code",
   "execution_count": 15,
   "metadata": {},
   "outputs": [
    {
     "data": {
      "text/plain": [
       "25"
      ]
     },
     "execution_count": 15,
     "metadata": {},
     "output_type": "execute_result"
    }
   ],
   "source": [
    "Jahre = data2betested.groupby(\"Jahr\")\n",
    "len(Jahre)"
   ]
  },
  {
   "cell_type": "code",
   "execution_count": 16,
   "metadata": {},
   "outputs": [
    {
     "name": "stdout",
     "output_type": "stream",
     "text": [
      "1860-01-01 00:00:00 5\n",
      "1870-01-01 00:00:00 5\n",
      "1880-01-01 00:00:00 5\n",
      "1888-01-01 00:00:00 5\n",
      "1900-01-01 00:00:00 5\n",
      "1910-01-01 00:00:00 5\n",
      "1920-01-01 00:00:00 5\n",
      "1930-01-01 00:00:00 5\n",
      "1941-01-01 00:00:00 5\n",
      "1950-01-01 00:00:00 5\n",
      "1960-01-01 00:00:00 5\n",
      "1970-01-01 00:00:00 7\n",
      "1980-01-01 00:00:00 7\n",
      "1990-01-01 00:00:00 7\n",
      "2000-01-01 00:00:00 7\n",
      "2010-01-01 00:00:00 10\n",
      "2011-01-01 00:00:00 10\n",
      "2012-01-01 00:00:00 10\n",
      "2013-01-01 00:00:00 10\n",
      "2014-01-01 00:00:00 10\n",
      "2015-01-01 00:00:00 10\n",
      "2016-01-01 00:00:00 10\n",
      "2017-01-01 00:00:00 10\n",
      "2018-01-01 00:00:00 10\n",
      "2019-01-01 00:00:00 10\n"
     ]
    }
   ],
   "source": [
    "for key, group in Jahre:\n",
    "    print(key, len(group))"
   ]
  },
  {
   "cell_type": "code",
   "execution_count": 17,
   "metadata": {},
   "outputs": [
    {
     "data": {
      "text/html": [
       "<div>\n",
       "<style scoped>\n",
       "    .dataframe tbody tr th:only-of-type {\n",
       "        vertical-align: middle;\n",
       "    }\n",
       "\n",
       "    .dataframe tbody tr th {\n",
       "        vertical-align: top;\n",
       "    }\n",
       "\n",
       "    .dataframe thead th {\n",
       "        text-align: right;\n",
       "    }\n",
       "</style>\n",
       "<table border=\"1\" class=\"dataframe\">\n",
       "  <thead>\n",
       "    <tr style=\"text-align: right;\">\n",
       "      <th></th>\n",
       "      <th>Jahr</th>\n",
       "      <th>Sprache</th>\n",
       "      <th>AnzBev</th>\n",
       "      <th>AntBev</th>\n",
       "      <th>untAnzBevKI</th>\n",
       "      <th>obAnzBevKI</th>\n",
       "      <th>untAntBevKI</th>\n",
       "      <th>obAntBevKI</th>\n",
       "    </tr>\n",
       "  </thead>\n",
       "  <tbody>\n",
       "    <tr>\n",
       "      <th>0</th>\n",
       "      <td>2019-01-01</td>\n",
       "      <td>Deutsch</td>\n",
       "      <td>306420</td>\n",
       "      <td>76</td>\n",
       "      <td>303780</td>\n",
       "      <td>309060</td>\n",
       "      <td>75</td>\n",
       "      <td>76</td>\n",
       "    </tr>\n",
       "    <tr>\n",
       "      <th>1</th>\n",
       "      <td>2019-01-01</td>\n",
       "      <td>Englisch</td>\n",
       "      <td>46000</td>\n",
       "      <td>11</td>\n",
       "      <td>43990</td>\n",
       "      <td>48010</td>\n",
       "      <td>11</td>\n",
       "      <td>12</td>\n",
       "    </tr>\n",
       "    <tr>\n",
       "      <th>2</th>\n",
       "      <td>2019-01-01</td>\n",
       "      <td>Italienisch</td>\n",
       "      <td>25180</td>\n",
       "      <td>6</td>\n",
       "      <td>23710</td>\n",
       "      <td>26640</td>\n",
       "      <td>6</td>\n",
       "      <td>7</td>\n",
       "    </tr>\n",
       "    <tr>\n",
       "      <th>3</th>\n",
       "      <td>2019-01-01</td>\n",
       "      <td>Französisch</td>\n",
       "      <td>18970</td>\n",
       "      <td>5</td>\n",
       "      <td>17650</td>\n",
       "      <td>20300</td>\n",
       "      <td>4</td>\n",
       "      <td>5</td>\n",
       "    </tr>\n",
       "    <tr>\n",
       "      <th>4</th>\n",
       "      <td>2019-01-01</td>\n",
       "      <td>Serbisch_Kroatisch</td>\n",
       "      <td>13060</td>\n",
       "      <td>3</td>\n",
       "      <td>12040</td>\n",
       "      <td>14080</td>\n",
       "      <td>3</td>\n",
       "      <td>4</td>\n",
       "    </tr>\n",
       "    <tr>\n",
       "      <th>5</th>\n",
       "      <td>2019-01-01</td>\n",
       "      <td>Spanisch</td>\n",
       "      <td>16360</td>\n",
       "      <td>4</td>\n",
       "      <td>15140</td>\n",
       "      <td>17570</td>\n",
       "      <td>4</td>\n",
       "      <td>4</td>\n",
       "    </tr>\n",
       "    <tr>\n",
       "      <th>6</th>\n",
       "      <td>2019-01-01</td>\n",
       "      <td>Portugiesisch</td>\n",
       "      <td>10610</td>\n",
       "      <td>3</td>\n",
       "      <td>9640</td>\n",
       "      <td>11570</td>\n",
       "      <td>2</td>\n",
       "      <td>3</td>\n",
       "    </tr>\n",
       "    <tr>\n",
       "      <th>7</th>\n",
       "      <td>2019-01-01</td>\n",
       "      <td>Albanisch</td>\n",
       "      <td>9960</td>\n",
       "      <td>2</td>\n",
       "      <td>9120</td>\n",
       "      <td>10800</td>\n",
       "      <td>2</td>\n",
       "      <td>3</td>\n",
       "    </tr>\n",
       "    <tr>\n",
       "      <th>8</th>\n",
       "      <td>2019-01-01</td>\n",
       "      <td>Rätoromanisch</td>\n",
       "      <td>1130</td>\n",
       "      <td>0</td>\n",
       "      <td>810</td>\n",
       "      <td>1440</td>\n",
       "      <td>0</td>\n",
       "      <td>0</td>\n",
       "    </tr>\n",
       "    <tr>\n",
       "      <th>9</th>\n",
       "      <td>2019-01-01</td>\n",
       "      <td>andSprachen</td>\n",
       "      <td>55460</td>\n",
       "      <td>14</td>\n",
       "      <td>53330</td>\n",
       "      <td>57600</td>\n",
       "      <td>13</td>\n",
       "      <td>14</td>\n",
       "    </tr>\n",
       "  </tbody>\n",
       "</table>\n",
       "</div>"
      ],
      "text/plain": [
       "        Jahr             Sprache  AnzBev  AntBev  untAnzBevKI  obAnzBevKI  untAntBevKI  obAntBevKI\n",
       "0 2019-01-01             Deutsch  306420      76       303780      309060           75          76\n",
       "1 2019-01-01            Englisch   46000      11        43990       48010           11          12\n",
       "2 2019-01-01         Italienisch   25180       6        23710       26640            6           7\n",
       "3 2019-01-01         Französisch   18970       5        17650       20300            4           5\n",
       "4 2019-01-01  Serbisch_Kroatisch   13060       3        12040       14080            3           4\n",
       "5 2019-01-01            Spanisch   16360       4        15140       17570            4           4\n",
       "6 2019-01-01       Portugiesisch   10610       3         9640       11570            2           3\n",
       "7 2019-01-01           Albanisch    9960       2         9120       10800            2           3\n",
       "8 2019-01-01       Rätoromanisch    1130       0          810        1440            0           0\n",
       "9 2019-01-01         andSprachen   55460      14        53330       57600           13          14"
      ]
     },
     "execution_count": 17,
     "metadata": {},
     "output_type": "execute_result"
    }
   ],
   "source": [
    "myJahr = \"2019-01-01\"\n",
    "aktuellesJahr=Jahre.get_group(myJahr)   \n",
    "aktuellesJahr"
   ]
  },
  {
   "cell_type": "markdown",
   "metadata": {},
   "source": [
    "**Selektionen und Aggregationen**\n",
    "\n",
    "Check this [Doku](https://www.shanelynn.ie/summarising-aggregation-and-grouping-data-in-python-pandas/)"
   ]
  },
  {
   "cell_type": "code",
   "execution_count": 19,
   "metadata": {},
   "outputs": [
    {
     "data": {
      "text/html": [
       "<div>\n",
       "<style scoped>\n",
       "    .dataframe tbody tr th:only-of-type {\n",
       "        vertical-align: middle;\n",
       "    }\n",
       "\n",
       "    .dataframe tbody tr th {\n",
       "        vertical-align: top;\n",
       "    }\n",
       "\n",
       "    .dataframe thead th {\n",
       "        text-align: right;\n",
       "    }\n",
       "</style>\n",
       "<table border=\"1\" class=\"dataframe\">\n",
       "  <thead>\n",
       "    <tr style=\"text-align: right;\">\n",
       "      <th></th>\n",
       "      <th></th>\n",
       "      <th>AntBev</th>\n",
       "    </tr>\n",
       "    <tr>\n",
       "      <th>Jahr</th>\n",
       "      <th>Sprache</th>\n",
       "      <th></th>\n",
       "    </tr>\n",
       "  </thead>\n",
       "  <tbody>\n",
       "    <tr>\n",
       "      <th rowspan=\"5\" valign=\"top\">1860-01-01</th>\n",
       "      <th>Deutsch</th>\n",
       "      <td>100</td>\n",
       "    </tr>\n",
       "    <tr>\n",
       "      <th>Französisch</th>\n",
       "      <td>0</td>\n",
       "    </tr>\n",
       "    <tr>\n",
       "      <th>Italienisch</th>\n",
       "      <td>0</td>\n",
       "    </tr>\n",
       "    <tr>\n",
       "      <th>Rätoromanisch</th>\n",
       "      <td>nan</td>\n",
       "    </tr>\n",
       "    <tr>\n",
       "      <th>andSprachen</th>\n",
       "      <td>0</td>\n",
       "    </tr>\n",
       "    <tr>\n",
       "      <th>...</th>\n",
       "      <th>...</th>\n",
       "      <td>...</td>\n",
       "    </tr>\n",
       "    <tr>\n",
       "      <th rowspan=\"5\" valign=\"top\">2019-01-01</th>\n",
       "      <th>Portugiesisch</th>\n",
       "      <td>3</td>\n",
       "    </tr>\n",
       "    <tr>\n",
       "      <th>Rätoromanisch</th>\n",
       "      <td>0</td>\n",
       "    </tr>\n",
       "    <tr>\n",
       "      <th>Serbisch_Kroatisch</th>\n",
       "      <td>3</td>\n",
       "    </tr>\n",
       "    <tr>\n",
       "      <th>Spanisch</th>\n",
       "      <td>4</td>\n",
       "    </tr>\n",
       "    <tr>\n",
       "      <th>andSprachen</th>\n",
       "      <td>14</td>\n",
       "    </tr>\n",
       "  </tbody>\n",
       "</table>\n",
       "<p>183 rows × 1 columns</p>\n",
       "</div>"
      ],
      "text/plain": [
       "                               AntBev\n",
       "Jahr       Sprache                   \n",
       "1860-01-01 Deutsch                100\n",
       "           Französisch              0\n",
       "           Italienisch              0\n",
       "           Rätoromanisch          nan\n",
       "           andSprachen              0\n",
       "...                               ...\n",
       "2019-01-01 Portugiesisch            3\n",
       "           Rätoromanisch            0\n",
       "           Serbisch_Kroatisch       3\n",
       "           Spanisch                 4\n",
       "           andSprachen             14\n",
       "\n",
       "[183 rows x 1 columns]"
      ]
     },
     "execution_count": 19,
     "metadata": {},
     "output_type": "execute_result"
    }
   ],
   "source": [
    "test = data2betested.groupby(['Jahr', 'Sprache'])[['AntBev']].agg('median')\n",
    "test\n",
    "# produces Pandas Series\n",
    "    #data2betested.groupby(['StichtagDatJahr', 'KonOGDSort'])['AnzBestWir'].sum()\n",
    "# Produces Pandas DataFrame\n",
    "    #data2betested.groupby(['StichtagDatJahr', 'KonOGDSort'])[['AnzBestWir']].sum()\n",
    "    "
   ]
  },
  {
   "cell_type": "markdown",
   "metadata": {},
   "source": [
    "**Einfache Visualisierungen zur Plausi**"
   ]
  },
  {
   "cell_type": "markdown",
   "metadata": {},
   "source": [
    "Exploriere die Daten mit Pivottable.JS"
   ]
  },
  {
   "cell_type": "code",
   "execution_count": 20,
   "metadata": {},
   "outputs": [
    {
     "data": {
      "text/html": [
       "\n",
       "        <iframe\n",
       "            width=\"100%\"\n",
       "            height=\"500\"\n",
       "            src=\"pivottablejs.html\"\n",
       "            frameborder=\"0\"\n",
       "            allowfullscreen\n",
       "        ></iframe>\n",
       "        "
      ],
      "text/plain": [
       "<IPython.lib.display.IFrame at 0x1de7c5cd4c0>"
      ]
     },
     "execution_count": 20,
     "metadata": {},
     "output_type": "execute_result"
    }
   ],
   "source": [
    "from pivottablejs import pivot_ui\n",
    "\n",
    "pivot_ui(data2betested)"
   ]
  },
  {
   "cell_type": "markdown",
   "metadata": {},
   "source": [
    "Liniendiagramm \n",
    "[Link zur Doku](https://altair-viz.github.io/gallery/multiline_highlight.html)"
   ]
  },
  {
   "cell_type": "code",
   "execution_count": 21,
   "metadata": {},
   "outputs": [
    {
     "ename": "AttributeError",
     "evalue": "'DataFrame' object has no attribute 'KreisSort'",
     "output_type": "error",
     "traceback": [
      "\u001b[1;31m---------------------------------------------------------------------------\u001b[0m",
      "\u001b[1;31mAttributeError\u001b[0m                            Traceback (most recent call last)",
      "\u001b[1;32m<ipython-input-21-4303579a8d93>\u001b[0m in \u001b[0;36m<module>\u001b[1;34m\u001b[0m\n\u001b[1;32m----> 1\u001b[1;33m \u001b[0mmySelection\u001b[0m \u001b[1;33m=\u001b[0m \u001b[0maktuellesJahr\u001b[0m\u001b[1;33m[\u001b[0m\u001b[1;33m(\u001b[0m\u001b[0maktuellesJahr\u001b[0m\u001b[1;33m.\u001b[0m\u001b[0mKreisSort\u001b[0m\u001b[1;33m<\u001b[0m\u001b[1;36m2\u001b[0m\u001b[1;33m)\u001b[0m \u001b[1;33m&\u001b[0m \u001b[1;33m(\u001b[0m\u001b[0maktuellesJahr\u001b[0m\u001b[1;33m.\u001b[0m\u001b[0mKonOGDSort\u001b[0m\u001b[1;33m==\u001b[0m\u001b[1;36m1\u001b[0m\u001b[1;33m)\u001b[0m\u001b[1;33m]\u001b[0m\u001b[1;33m\u001b[0m\u001b[1;33m\u001b[0m\u001b[0m\n\u001b[0m\u001b[0;32m      2\u001b[0m \u001b[0mmySelection\u001b[0m\u001b[1;33m.\u001b[0m\u001b[0mhead\u001b[0m\u001b[1;33m(\u001b[0m\u001b[1;33m)\u001b[0m\u001b[1;33m\u001b[0m\u001b[1;33m\u001b[0m\u001b[0m\n",
      "\u001b[1;32m~\\AppData\\Local\\Continuum\\anaconda3\\lib\\site-packages\\pandas\\core\\generic.py\u001b[0m in \u001b[0;36m__getattr__\u001b[1;34m(self, name)\u001b[0m\n\u001b[0;32m   5137\u001b[0m             \u001b[1;32mif\u001b[0m \u001b[0mself\u001b[0m\u001b[1;33m.\u001b[0m\u001b[0m_info_axis\u001b[0m\u001b[1;33m.\u001b[0m\u001b[0m_can_hold_identifiers_and_holds_name\u001b[0m\u001b[1;33m(\u001b[0m\u001b[0mname\u001b[0m\u001b[1;33m)\u001b[0m\u001b[1;33m:\u001b[0m\u001b[1;33m\u001b[0m\u001b[1;33m\u001b[0m\u001b[0m\n\u001b[0;32m   5138\u001b[0m                 \u001b[1;32mreturn\u001b[0m \u001b[0mself\u001b[0m\u001b[1;33m[\u001b[0m\u001b[0mname\u001b[0m\u001b[1;33m]\u001b[0m\u001b[1;33m\u001b[0m\u001b[1;33m\u001b[0m\u001b[0m\n\u001b[1;32m-> 5139\u001b[1;33m             \u001b[1;32mreturn\u001b[0m \u001b[0mobject\u001b[0m\u001b[1;33m.\u001b[0m\u001b[0m__getattribute__\u001b[0m\u001b[1;33m(\u001b[0m\u001b[0mself\u001b[0m\u001b[1;33m,\u001b[0m \u001b[0mname\u001b[0m\u001b[1;33m)\u001b[0m\u001b[1;33m\u001b[0m\u001b[1;33m\u001b[0m\u001b[0m\n\u001b[0m\u001b[0;32m   5140\u001b[0m \u001b[1;33m\u001b[0m\u001b[0m\n\u001b[0;32m   5141\u001b[0m     \u001b[1;32mdef\u001b[0m \u001b[0m__setattr__\u001b[0m\u001b[1;33m(\u001b[0m\u001b[0mself\u001b[0m\u001b[1;33m,\u001b[0m \u001b[0mname\u001b[0m\u001b[1;33m:\u001b[0m \u001b[0mstr\u001b[0m\u001b[1;33m,\u001b[0m \u001b[0mvalue\u001b[0m\u001b[1;33m)\u001b[0m \u001b[1;33m->\u001b[0m \u001b[1;32mNone\u001b[0m\u001b[1;33m:\u001b[0m\u001b[1;33m\u001b[0m\u001b[1;33m\u001b[0m\u001b[0m\n",
      "\u001b[1;31mAttributeError\u001b[0m: 'DataFrame' object has no attribute 'KreisSort'"
     ]
    }
   ],
   "source": [
    "mySelection = aktuellesJahr[(aktuellesJahr.KreisSort<2) & (aktuellesJahr.KonOGDSort==1)]\n",
    "mySelection.head()\n"
   ]
  },
  {
   "cell_type": "code",
   "execution_count": 17,
   "metadata": {},
   "outputs": [],
   "source": [
    "#mySelection = aktuellesJahr[[\"StatZoneSort\",\"AnzBestWir\"]]\n",
    "#mySelection"
   ]
  },
  {
   "cell_type": "code",
   "execution_count": 18,
   "metadata": {},
   "outputs": [
    {
     "data": {
      "text/html": [
       "\n",
       "<div id=\"altair-viz-3166cd0755ac4989a44f95fbfb185998\"></div>\n",
       "<script type=\"text/javascript\">\n",
       "  (function(spec, embedOpt){\n",
       "    let outputDiv = document.currentScript.previousElementSibling;\n",
       "    if (outputDiv.id !== \"altair-viz-3166cd0755ac4989a44f95fbfb185998\") {\n",
       "      outputDiv = document.getElementById(\"altair-viz-3166cd0755ac4989a44f95fbfb185998\");\n",
       "    }\n",
       "    const paths = {\n",
       "      \"vega\": \"https://cdn.jsdelivr.net/npm//vega@5?noext\",\n",
       "      \"vega-lib\": \"https://cdn.jsdelivr.net/npm//vega-lib?noext\",\n",
       "      \"vega-lite\": \"https://cdn.jsdelivr.net/npm//vega-lite@4.8.1?noext\",\n",
       "      \"vega-embed\": \"https://cdn.jsdelivr.net/npm//vega-embed@6?noext\",\n",
       "    };\n",
       "\n",
       "    function loadScript(lib) {\n",
       "      return new Promise(function(resolve, reject) {\n",
       "        var s = document.createElement('script');\n",
       "        s.src = paths[lib];\n",
       "        s.async = true;\n",
       "        s.onload = () => resolve(paths[lib]);\n",
       "        s.onerror = () => reject(`Error loading script: ${paths[lib]}`);\n",
       "        document.getElementsByTagName(\"head\")[0].appendChild(s);\n",
       "      });\n",
       "    }\n",
       "\n",
       "    function showError(err) {\n",
       "      outputDiv.innerHTML = `<div class=\"error\" style=\"color:red;\">${err}</div>`;\n",
       "      throw err;\n",
       "    }\n",
       "\n",
       "    function displayChart(vegaEmbed) {\n",
       "      vegaEmbed(outputDiv, spec, embedOpt)\n",
       "        .catch(err => showError(`Javascript Error: ${err.message}<br>This usually means there's a typo in your chart specification. See the javascript console for the full traceback.`));\n",
       "    }\n",
       "\n",
       "    if(typeof define === \"function\" && define.amd) {\n",
       "      requirejs.config({paths});\n",
       "      require([\"vega-embed\"], displayChart, err => showError(`Error loading script: ${err.message}`));\n",
       "    } else if (typeof vegaEmbed === \"function\") {\n",
       "      displayChart(vegaEmbed);\n",
       "    } else {\n",
       "      loadScript(\"vega\")\n",
       "        .then(() => loadScript(\"vega-lite\"))\n",
       "        .then(() => loadScript(\"vega-embed\"))\n",
       "        .catch(showError)\n",
       "        .then(() => displayChart(vegaEmbed));\n",
       "    }\n",
       "  })({\"config\": {\"view\": {\"continuousWidth\": 400, \"continuousHeight\": 300}}, \"layer\": [{\"mark\": \"circle\", \"encoding\": {\"color\": {\"type\": \"nominal\", \"field\": \"KonOGDKurz\"}, \"opacity\": {\"value\": 0}, \"x\": {\"type\": \"nominal\", \"field\": \"StatZoneLang\"}, \"y\": {\"type\": \"quantitative\", \"field\": \"AnzBestWir\"}}, \"height\": 300, \"selection\": {\"selector001\": {\"type\": \"single\", \"on\": \"mouseover\", \"fields\": [\"KonOGDKurz\"], \"nearest\": true}}, \"width\": 700}, {\"mark\": \"line\", \"encoding\": {\"color\": {\"type\": \"nominal\", \"field\": \"KonOGDKurz\"}, \"size\": {\"condition\": {\"value\": 1.5, \"selection\": {\"not\": \"selector001\"}}, \"value\": 4}, \"x\": {\"type\": \"nominal\", \"field\": \"StatZoneLang\"}, \"y\": {\"type\": \"quantitative\", \"field\": \"AnzBestWir\"}}, \"selection\": {\"selector002\": {\"type\": \"interval\", \"bind\": \"scales\", \"encodings\": [\"x\", \"y\"]}}}], \"data\": {\"name\": \"data-76e63a1824eb33f12ee0eb3391e59a82\"}, \"$schema\": \"https://vega.github.io/schema/vega-lite/v4.8.1.json\", \"datasets\": {\"data-76e63a1824eb33f12ee0eb3391e59a82\": [{\"StichtagDatJahr\": \"2020-01-01T00:00:00\", \"StatZoneSort\": 1101, \"StatZoneLang\": \"Z\\u00e4hringerstrasse\", \"QuarSort\": 11, \"QuarLang\": \"Rathaus\", \"KreisSort\": 1, \"herkunftSort\": 1, \"KonOGDSort\": 1, \"KonOGDKurz\": \"EV-REF\", \"AnzBestWir\": 79}, {\"StichtagDatJahr\": \"2020-01-01T00:00:00\", \"StatZoneSort\": 1101, \"StatZoneLang\": \"Z\\u00e4hringerstrasse\", \"QuarSort\": 11, \"QuarLang\": \"Rathaus\", \"KreisSort\": 1, \"herkunftSort\": 2, \"KonOGDSort\": 1, \"KonOGDKurz\": \"EV-REF\", \"AnzBestWir\": 14}, {\"StichtagDatJahr\": \"2020-01-01T00:00:00\", \"StatZoneSort\": 1102, \"StatZoneLang\": \"Prediger\", \"QuarSort\": 11, \"QuarLang\": \"Rathaus\", \"KreisSort\": 1, \"herkunftSort\": 1, \"KonOGDSort\": 1, \"KonOGDKurz\": \"EV-REF\", \"AnzBestWir\": 247}, {\"StichtagDatJahr\": \"2020-01-01T00:00:00\", \"StatZoneSort\": 1102, \"StatZoneLang\": \"Prediger\", \"QuarSort\": 11, \"QuarLang\": \"Rathaus\", \"KreisSort\": 1, \"herkunftSort\": 2, \"KonOGDSort\": 1, \"KonOGDKurz\": \"EV-REF\", \"AnzBestWir\": 24}, {\"StichtagDatJahr\": \"2020-01-01T00:00:00\", \"StatZoneSort\": 1103, \"StatZoneLang\": \"Grossm\\u00fcnster\", \"QuarSort\": 11, \"QuarLang\": \"Rathaus\", \"KreisSort\": 1, \"herkunftSort\": 1, \"KonOGDSort\": 1, \"KonOGDKurz\": \"EV-REF\", \"AnzBestWir\": 241}, {\"StichtagDatJahr\": \"2020-01-01T00:00:00\", \"StatZoneSort\": 1103, \"StatZoneLang\": \"Grossm\\u00fcnster\", \"QuarSort\": 11, \"QuarLang\": \"Rathaus\", \"KreisSort\": 1, \"herkunftSort\": 2, \"KonOGDSort\": 1, \"KonOGDKurz\": \"EV-REF\", \"AnzBestWir\": 17}, {\"StichtagDatJahr\": \"2020-01-01T00:00:00\", \"StatZoneSort\": 1104, \"StatZoneLang\": \"Oberdorf\", \"QuarSort\": 11, \"QuarLang\": \"Rathaus\", \"KreisSort\": 1, \"herkunftSort\": 1, \"KonOGDSort\": 1, \"KonOGDKurz\": \"EV-REF\", \"AnzBestWir\": 158}, {\"StichtagDatJahr\": \"2020-01-01T00:00:00\", \"StatZoneSort\": 1104, \"StatZoneLang\": \"Oberdorf\", \"QuarSort\": 11, \"QuarLang\": \"Rathaus\", \"KreisSort\": 1, \"herkunftSort\": 2, \"KonOGDSort\": 1, \"KonOGDKurz\": \"EV-REF\", \"AnzBestWir\": 16}, {\"StichtagDatJahr\": \"2020-01-01T00:00:00\", \"StatZoneSort\": 1201, \"StatZoneLang\": \"Central\", \"QuarSort\": 12, \"QuarLang\": \"Hochschulen\", \"KreisSort\": 1, \"herkunftSort\": 1, \"KonOGDSort\": 1, \"KonOGDKurz\": \"EV-REF\", \"AnzBestWir\": 91}, {\"StichtagDatJahr\": \"2020-01-01T00:00:00\", \"StatZoneSort\": 1201, \"StatZoneLang\": \"Central\", \"QuarSort\": 12, \"QuarLang\": \"Hochschulen\", \"KreisSort\": 1, \"herkunftSort\": 2, \"KonOGDSort\": 1, \"KonOGDKurz\": \"EV-REF\", \"AnzBestWir\": 11}, {\"StichtagDatJahr\": \"2020-01-01T00:00:00\", \"StatZoneSort\": 1202, \"StatZoneLang\": \"ETH / Universit\\u00e4t\", \"QuarSort\": 12, \"QuarLang\": \"Hochschulen\", \"KreisSort\": 1, \"herkunftSort\": 1, \"KonOGDSort\": 1, \"KonOGDKurz\": \"EV-REF\", \"AnzBestWir\": 11}, {\"StichtagDatJahr\": \"2020-01-01T00:00:00\", \"StatZoneSort\": 1202, \"StatZoneLang\": \"ETH / Universit\\u00e4t\", \"QuarSort\": 12, \"QuarLang\": \"Hochschulen\", \"KreisSort\": 1, \"herkunftSort\": 2, \"KonOGDSort\": 1, \"KonOGDKurz\": \"EV-REF\", \"AnzBestWir\": 2}, {\"StichtagDatJahr\": \"2020-01-01T00:00:00\", \"StatZoneSort\": 1203, \"StatZoneLang\": \"Bellevue\", \"QuarSort\": 12, \"QuarLang\": \"Hochschulen\", \"KreisSort\": 1, \"herkunftSort\": 1, \"KonOGDSort\": 1, \"KonOGDKurz\": \"EV-REF\", \"AnzBestWir\": 47}, {\"StichtagDatJahr\": \"2020-01-01T00:00:00\", \"StatZoneSort\": 1203, \"StatZoneLang\": \"Bellevue\", \"QuarSort\": 12, \"QuarLang\": \"Hochschulen\", \"KreisSort\": 1, \"herkunftSort\": 2, \"KonOGDSort\": 1, \"KonOGDKurz\": \"EV-REF\", \"AnzBestWir\": 1}, {\"StichtagDatJahr\": \"2020-01-01T00:00:00\", \"StatZoneSort\": 1301, \"StatZoneLang\": \"Schipfe\", \"QuarSort\": 13, \"QuarLang\": \"Lindenhof\", \"KreisSort\": 1, \"herkunftSort\": 1, \"KonOGDSort\": 1, \"KonOGDKurz\": \"EV-REF\", \"AnzBestWir\": 107}, {\"StichtagDatJahr\": \"2020-01-01T00:00:00\", \"StatZoneSort\": 1301, \"StatZoneLang\": \"Schipfe\", \"QuarSort\": 13, \"QuarLang\": \"Lindenhof\", \"KreisSort\": 1, \"herkunftSort\": 2, \"KonOGDSort\": 1, \"KonOGDKurz\": \"EV-REF\", \"AnzBestWir\": 12}, {\"StichtagDatJahr\": \"2020-01-01T00:00:00\", \"StatZoneSort\": 1302, \"StatZoneLang\": \"M\\u00fcnsterhof\", \"QuarSort\": 13, \"QuarLang\": \"Lindenhof\", \"KreisSort\": 1, \"herkunftSort\": 1, \"KonOGDSort\": 1, \"KonOGDKurz\": \"EV-REF\", \"AnzBestWir\": 131}, {\"StichtagDatJahr\": \"2020-01-01T00:00:00\", \"StatZoneSort\": 1302, \"StatZoneLang\": \"M\\u00fcnsterhof\", \"QuarSort\": 13, \"QuarLang\": \"Lindenhof\", \"KreisSort\": 1, \"herkunftSort\": 2, \"KonOGDSort\": 1, \"KonOGDKurz\": \"EV-REF\", \"AnzBestWir\": 9}, {\"StichtagDatJahr\": \"2020-01-01T00:00:00\", \"StatZoneSort\": 1303, \"StatZoneLang\": \"Stadthaus\", \"QuarSort\": 13, \"QuarLang\": \"Lindenhof\", \"KreisSort\": 1, \"herkunftSort\": 1, \"KonOGDSort\": 1, \"KonOGDKurz\": \"EV-REF\", \"AnzBestWir\": 16}, {\"StichtagDatJahr\": \"2020-01-01T00:00:00\", \"StatZoneSort\": 1303, \"StatZoneLang\": \"Stadthaus\", \"QuarSort\": 13, \"QuarLang\": \"Lindenhof\", \"KreisSort\": 1, \"herkunftSort\": 2, \"KonOGDSort\": 1, \"KonOGDKurz\": \"EV-REF\", \"AnzBestWir\": 0}, {\"StichtagDatJahr\": \"2020-01-01T00:00:00\", \"StatZoneSort\": 1401, \"StatZoneLang\": \"Bahnhofplatz\", \"QuarSort\": 14, \"QuarLang\": \"City\", \"KreisSort\": 1, \"herkunftSort\": 1, \"KonOGDSort\": 1, \"KonOGDKurz\": \"EV-REF\", \"AnzBestWir\": 5}, {\"StichtagDatJahr\": \"2020-01-01T00:00:00\", \"StatZoneSort\": 1402, \"StatZoneLang\": \"Sihlporte\", \"QuarSort\": 14, \"QuarLang\": \"City\", \"KreisSort\": 1, \"herkunftSort\": 1, \"KonOGDSort\": 1, \"KonOGDKurz\": \"EV-REF\", \"AnzBestWir\": 19}, {\"StichtagDatJahr\": \"2020-01-01T00:00:00\", \"StatZoneSort\": 1402, \"StatZoneLang\": \"Sihlporte\", \"QuarSort\": 14, \"QuarLang\": \"City\", \"KreisSort\": 1, \"herkunftSort\": 2, \"KonOGDSort\": 1, \"KonOGDKurz\": \"EV-REF\", \"AnzBestWir\": 6}, {\"StichtagDatJahr\": \"2020-01-01T00:00:00\", \"StatZoneSort\": 1403, \"StatZoneLang\": \"Selnaustrasse\", \"QuarSort\": 14, \"QuarLang\": \"City\", \"KreisSort\": 1, \"herkunftSort\": 1, \"KonOGDSort\": 1, \"KonOGDKurz\": \"EV-REF\", \"AnzBestWir\": 103}, {\"StichtagDatJahr\": \"2020-01-01T00:00:00\", \"StatZoneSort\": 1403, \"StatZoneLang\": \"Selnaustrasse\", \"QuarSort\": 14, \"QuarLang\": \"City\", \"KreisSort\": 1, \"herkunftSort\": 2, \"KonOGDSort\": 1, \"KonOGDKurz\": \"EV-REF\", \"AnzBestWir\": 14}, {\"StichtagDatJahr\": \"2020-01-01T00:00:00\", \"StatZoneSort\": 1404, \"StatZoneLang\": \"Paradeplatz\", \"QuarSort\": 14, \"QuarLang\": \"City\", \"KreisSort\": 1, \"herkunftSort\": 1, \"KonOGDSort\": 1, \"KonOGDKurz\": \"EV-REF\", \"AnzBestWir\": 6}]}}, {\"mode\": \"vega-lite\"});\n",
       "</script>"
      ],
      "text/plain": [
       "alt.LayerChart(...)"
      ]
     },
     "execution_count": 18,
     "metadata": {},
     "output_type": "execute_result"
    }
   ],
   "source": [
    "# df_statzonen = df_statzonen[(df_statzonen.knr>0) & (df_statzonen.qname!=\"Hirslanden\")]\n",
    "#aktuellesJahr[[aktuellesJahr.KreisSort =7]])\n",
    "highlight = alt.selection(type='single', on='mouseover',\n",
    "                          fields=['KonOGDKurz'], nearest=True)\n",
    "#x='date:StichtagDatJahr',\n",
    "base = alt.Chart(mySelection).encode(\n",
    "    x='StatZoneLang',\n",
    "    y='AnzBestWir',\n",
    "    color='KonOGDKurz'\n",
    ")\n",
    "\n",
    "points = base.mark_circle().encode(\n",
    "    opacity=alt.value(0)\n",
    ").add_selection(\n",
    "    highlight\n",
    ").properties(\n",
    "    width=700 , height=300\n",
    ")\n",
    "lines = base.mark_line().encode(\n",
    "    size=alt.condition(~highlight, alt.value(1.5), alt.value(4))\n",
    ").interactive()\n",
    "\n",
    "points + lines"
   ]
  },
  {
   "cell_type": "code",
   "execution_count": 19,
   "metadata": {},
   "outputs": [
    {
     "data": {
      "text/html": [
       "\n",
       "<div id=\"altair-viz-178884463ab048f79185088ac628463d\"></div>\n",
       "<script type=\"text/javascript\">\n",
       "  (function(spec, embedOpt){\n",
       "    let outputDiv = document.currentScript.previousElementSibling;\n",
       "    if (outputDiv.id !== \"altair-viz-178884463ab048f79185088ac628463d\") {\n",
       "      outputDiv = document.getElementById(\"altair-viz-178884463ab048f79185088ac628463d\");\n",
       "    }\n",
       "    const paths = {\n",
       "      \"vega\": \"https://cdn.jsdelivr.net/npm//vega@5?noext\",\n",
       "      \"vega-lib\": \"https://cdn.jsdelivr.net/npm//vega-lib?noext\",\n",
       "      \"vega-lite\": \"https://cdn.jsdelivr.net/npm//vega-lite@4.8.1?noext\",\n",
       "      \"vega-embed\": \"https://cdn.jsdelivr.net/npm//vega-embed@6?noext\",\n",
       "    };\n",
       "\n",
       "    function loadScript(lib) {\n",
       "      return new Promise(function(resolve, reject) {\n",
       "        var s = document.createElement('script');\n",
       "        s.src = paths[lib];\n",
       "        s.async = true;\n",
       "        s.onload = () => resolve(paths[lib]);\n",
       "        s.onerror = () => reject(`Error loading script: ${paths[lib]}`);\n",
       "        document.getElementsByTagName(\"head\")[0].appendChild(s);\n",
       "      });\n",
       "    }\n",
       "\n",
       "    function showError(err) {\n",
       "      outputDiv.innerHTML = `<div class=\"error\" style=\"color:red;\">${err}</div>`;\n",
       "      throw err;\n",
       "    }\n",
       "\n",
       "    function displayChart(vegaEmbed) {\n",
       "      vegaEmbed(outputDiv, spec, embedOpt)\n",
       "        .catch(err => showError(`Javascript Error: ${err.message}<br>This usually means there's a typo in your chart specification. See the javascript console for the full traceback.`));\n",
       "    }\n",
       "\n",
       "    if(typeof define === \"function\" && define.amd) {\n",
       "      requirejs.config({paths});\n",
       "      require([\"vega-embed\"], displayChart, err => showError(`Error loading script: ${err.message}`));\n",
       "    } else if (typeof vegaEmbed === \"function\") {\n",
       "      displayChart(vegaEmbed);\n",
       "    } else {\n",
       "      loadScript(\"vega\")\n",
       "        .then(() => loadScript(\"vega-lite\"))\n",
       "        .then(() => loadScript(\"vega-embed\"))\n",
       "        .catch(showError)\n",
       "        .then(() => displayChart(vegaEmbed));\n",
       "    }\n",
       "  })({\"config\": {\"view\": {\"continuousWidth\": 400, \"continuousHeight\": 300}}, \"data\": {\"name\": \"data-76e63a1824eb33f12ee0eb3391e59a82\"}, \"mark\": {\"type\": \"circle\", \"size\": 60}, \"encoding\": {\"color\": {\"type\": \"quantitative\", \"field\": \"AnzBestWir\"}, \"tooltip\": [{\"type\": \"nominal\", \"field\": \"KonOGDKurz\"}, {\"type\": \"temporal\", \"field\": \"StichtagDatJahr\"}, {\"type\": \"quantitative\", \"field\": \"AnzBestWir\"}], \"x\": {\"type\": \"nominal\", \"field\": \"StatZoneLang\"}, \"y\": {\"type\": \"nominal\", \"field\": \"KonOGDKurz\"}}, \"selection\": {\"selector003\": {\"type\": \"interval\", \"bind\": \"scales\", \"encodings\": [\"x\", \"y\"]}}, \"$schema\": \"https://vega.github.io/schema/vega-lite/v4.8.1.json\", \"datasets\": {\"data-76e63a1824eb33f12ee0eb3391e59a82\": [{\"StichtagDatJahr\": \"2020-01-01T00:00:00\", \"StatZoneSort\": 1101, \"StatZoneLang\": \"Z\\u00e4hringerstrasse\", \"QuarSort\": 11, \"QuarLang\": \"Rathaus\", \"KreisSort\": 1, \"herkunftSort\": 1, \"KonOGDSort\": 1, \"KonOGDKurz\": \"EV-REF\", \"AnzBestWir\": 79}, {\"StichtagDatJahr\": \"2020-01-01T00:00:00\", \"StatZoneSort\": 1101, \"StatZoneLang\": \"Z\\u00e4hringerstrasse\", \"QuarSort\": 11, \"QuarLang\": \"Rathaus\", \"KreisSort\": 1, \"herkunftSort\": 2, \"KonOGDSort\": 1, \"KonOGDKurz\": \"EV-REF\", \"AnzBestWir\": 14}, {\"StichtagDatJahr\": \"2020-01-01T00:00:00\", \"StatZoneSort\": 1102, \"StatZoneLang\": \"Prediger\", \"QuarSort\": 11, \"QuarLang\": \"Rathaus\", \"KreisSort\": 1, \"herkunftSort\": 1, \"KonOGDSort\": 1, \"KonOGDKurz\": \"EV-REF\", \"AnzBestWir\": 247}, {\"StichtagDatJahr\": \"2020-01-01T00:00:00\", \"StatZoneSort\": 1102, \"StatZoneLang\": \"Prediger\", \"QuarSort\": 11, \"QuarLang\": \"Rathaus\", \"KreisSort\": 1, \"herkunftSort\": 2, \"KonOGDSort\": 1, \"KonOGDKurz\": \"EV-REF\", \"AnzBestWir\": 24}, {\"StichtagDatJahr\": \"2020-01-01T00:00:00\", \"StatZoneSort\": 1103, \"StatZoneLang\": \"Grossm\\u00fcnster\", \"QuarSort\": 11, \"QuarLang\": \"Rathaus\", \"KreisSort\": 1, \"herkunftSort\": 1, \"KonOGDSort\": 1, \"KonOGDKurz\": \"EV-REF\", \"AnzBestWir\": 241}, {\"StichtagDatJahr\": \"2020-01-01T00:00:00\", \"StatZoneSort\": 1103, \"StatZoneLang\": \"Grossm\\u00fcnster\", \"QuarSort\": 11, \"QuarLang\": \"Rathaus\", \"KreisSort\": 1, \"herkunftSort\": 2, \"KonOGDSort\": 1, \"KonOGDKurz\": \"EV-REF\", \"AnzBestWir\": 17}, {\"StichtagDatJahr\": \"2020-01-01T00:00:00\", \"StatZoneSort\": 1104, \"StatZoneLang\": \"Oberdorf\", \"QuarSort\": 11, \"QuarLang\": \"Rathaus\", \"KreisSort\": 1, \"herkunftSort\": 1, \"KonOGDSort\": 1, \"KonOGDKurz\": \"EV-REF\", \"AnzBestWir\": 158}, {\"StichtagDatJahr\": \"2020-01-01T00:00:00\", \"StatZoneSort\": 1104, \"StatZoneLang\": \"Oberdorf\", \"QuarSort\": 11, \"QuarLang\": \"Rathaus\", \"KreisSort\": 1, \"herkunftSort\": 2, \"KonOGDSort\": 1, \"KonOGDKurz\": \"EV-REF\", \"AnzBestWir\": 16}, {\"StichtagDatJahr\": \"2020-01-01T00:00:00\", \"StatZoneSort\": 1201, \"StatZoneLang\": \"Central\", \"QuarSort\": 12, \"QuarLang\": \"Hochschulen\", \"KreisSort\": 1, \"herkunftSort\": 1, \"KonOGDSort\": 1, \"KonOGDKurz\": \"EV-REF\", \"AnzBestWir\": 91}, {\"StichtagDatJahr\": \"2020-01-01T00:00:00\", \"StatZoneSort\": 1201, \"StatZoneLang\": \"Central\", \"QuarSort\": 12, \"QuarLang\": \"Hochschulen\", \"KreisSort\": 1, \"herkunftSort\": 2, \"KonOGDSort\": 1, \"KonOGDKurz\": \"EV-REF\", \"AnzBestWir\": 11}, {\"StichtagDatJahr\": \"2020-01-01T00:00:00\", \"StatZoneSort\": 1202, \"StatZoneLang\": \"ETH / Universit\\u00e4t\", \"QuarSort\": 12, \"QuarLang\": \"Hochschulen\", \"KreisSort\": 1, \"herkunftSort\": 1, \"KonOGDSort\": 1, \"KonOGDKurz\": \"EV-REF\", \"AnzBestWir\": 11}, {\"StichtagDatJahr\": \"2020-01-01T00:00:00\", \"StatZoneSort\": 1202, \"StatZoneLang\": \"ETH / Universit\\u00e4t\", \"QuarSort\": 12, \"QuarLang\": \"Hochschulen\", \"KreisSort\": 1, \"herkunftSort\": 2, \"KonOGDSort\": 1, \"KonOGDKurz\": \"EV-REF\", \"AnzBestWir\": 2}, {\"StichtagDatJahr\": \"2020-01-01T00:00:00\", \"StatZoneSort\": 1203, \"StatZoneLang\": \"Bellevue\", \"QuarSort\": 12, \"QuarLang\": \"Hochschulen\", \"KreisSort\": 1, \"herkunftSort\": 1, \"KonOGDSort\": 1, \"KonOGDKurz\": \"EV-REF\", \"AnzBestWir\": 47}, {\"StichtagDatJahr\": \"2020-01-01T00:00:00\", \"StatZoneSort\": 1203, \"StatZoneLang\": \"Bellevue\", \"QuarSort\": 12, \"QuarLang\": \"Hochschulen\", \"KreisSort\": 1, \"herkunftSort\": 2, \"KonOGDSort\": 1, \"KonOGDKurz\": \"EV-REF\", \"AnzBestWir\": 1}, {\"StichtagDatJahr\": \"2020-01-01T00:00:00\", \"StatZoneSort\": 1301, \"StatZoneLang\": \"Schipfe\", \"QuarSort\": 13, \"QuarLang\": \"Lindenhof\", \"KreisSort\": 1, \"herkunftSort\": 1, \"KonOGDSort\": 1, \"KonOGDKurz\": \"EV-REF\", \"AnzBestWir\": 107}, {\"StichtagDatJahr\": \"2020-01-01T00:00:00\", \"StatZoneSort\": 1301, \"StatZoneLang\": \"Schipfe\", \"QuarSort\": 13, \"QuarLang\": \"Lindenhof\", \"KreisSort\": 1, \"herkunftSort\": 2, \"KonOGDSort\": 1, \"KonOGDKurz\": \"EV-REF\", \"AnzBestWir\": 12}, {\"StichtagDatJahr\": \"2020-01-01T00:00:00\", \"StatZoneSort\": 1302, \"StatZoneLang\": \"M\\u00fcnsterhof\", \"QuarSort\": 13, \"QuarLang\": \"Lindenhof\", \"KreisSort\": 1, \"herkunftSort\": 1, \"KonOGDSort\": 1, \"KonOGDKurz\": \"EV-REF\", \"AnzBestWir\": 131}, {\"StichtagDatJahr\": \"2020-01-01T00:00:00\", \"StatZoneSort\": 1302, \"StatZoneLang\": \"M\\u00fcnsterhof\", \"QuarSort\": 13, \"QuarLang\": \"Lindenhof\", \"KreisSort\": 1, \"herkunftSort\": 2, \"KonOGDSort\": 1, \"KonOGDKurz\": \"EV-REF\", \"AnzBestWir\": 9}, {\"StichtagDatJahr\": \"2020-01-01T00:00:00\", \"StatZoneSort\": 1303, \"StatZoneLang\": \"Stadthaus\", \"QuarSort\": 13, \"QuarLang\": \"Lindenhof\", \"KreisSort\": 1, \"herkunftSort\": 1, \"KonOGDSort\": 1, \"KonOGDKurz\": \"EV-REF\", \"AnzBestWir\": 16}, {\"StichtagDatJahr\": \"2020-01-01T00:00:00\", \"StatZoneSort\": 1303, \"StatZoneLang\": \"Stadthaus\", \"QuarSort\": 13, \"QuarLang\": \"Lindenhof\", \"KreisSort\": 1, \"herkunftSort\": 2, \"KonOGDSort\": 1, \"KonOGDKurz\": \"EV-REF\", \"AnzBestWir\": 0}, {\"StichtagDatJahr\": \"2020-01-01T00:00:00\", \"StatZoneSort\": 1401, \"StatZoneLang\": \"Bahnhofplatz\", \"QuarSort\": 14, \"QuarLang\": \"City\", \"KreisSort\": 1, \"herkunftSort\": 1, \"KonOGDSort\": 1, \"KonOGDKurz\": \"EV-REF\", \"AnzBestWir\": 5}, {\"StichtagDatJahr\": \"2020-01-01T00:00:00\", \"StatZoneSort\": 1402, \"StatZoneLang\": \"Sihlporte\", \"QuarSort\": 14, \"QuarLang\": \"City\", \"KreisSort\": 1, \"herkunftSort\": 1, \"KonOGDSort\": 1, \"KonOGDKurz\": \"EV-REF\", \"AnzBestWir\": 19}, {\"StichtagDatJahr\": \"2020-01-01T00:00:00\", \"StatZoneSort\": 1402, \"StatZoneLang\": \"Sihlporte\", \"QuarSort\": 14, \"QuarLang\": \"City\", \"KreisSort\": 1, \"herkunftSort\": 2, \"KonOGDSort\": 1, \"KonOGDKurz\": \"EV-REF\", \"AnzBestWir\": 6}, {\"StichtagDatJahr\": \"2020-01-01T00:00:00\", \"StatZoneSort\": 1403, \"StatZoneLang\": \"Selnaustrasse\", \"QuarSort\": 14, \"QuarLang\": \"City\", \"KreisSort\": 1, \"herkunftSort\": 1, \"KonOGDSort\": 1, \"KonOGDKurz\": \"EV-REF\", \"AnzBestWir\": 103}, {\"StichtagDatJahr\": \"2020-01-01T00:00:00\", \"StatZoneSort\": 1403, \"StatZoneLang\": \"Selnaustrasse\", \"QuarSort\": 14, \"QuarLang\": \"City\", \"KreisSort\": 1, \"herkunftSort\": 2, \"KonOGDSort\": 1, \"KonOGDKurz\": \"EV-REF\", \"AnzBestWir\": 14}, {\"StichtagDatJahr\": \"2020-01-01T00:00:00\", \"StatZoneSort\": 1404, \"StatZoneLang\": \"Paradeplatz\", \"QuarSort\": 14, \"QuarLang\": \"City\", \"KreisSort\": 1, \"herkunftSort\": 1, \"KonOGDSort\": 1, \"KonOGDKurz\": \"EV-REF\", \"AnzBestWir\": 6}]}}, {\"mode\": \"vega-lite\"});\n",
       "</script>"
      ],
      "text/plain": [
       "alt.Chart(...)"
      ]
     },
     "execution_count": 19,
     "metadata": {},
     "output_type": "execute_result"
    }
   ],
   "source": [
    "alt.Chart(mySelection).mark_circle(size=60).encode(\n",
    "    x='StatZoneLang',\n",
    "    y='KonOGDKurz',\n",
    "    color='AnzBestWir',\n",
    "    tooltip=['KonOGDKurz','StichtagDatJahr','AnzBestWir']\n",
    ").interactive() # this makes the axes interactive: now you can zoom & pan\n",
    "\n"
   ]
  },
  {
   "cell_type": "code",
   "execution_count": 20,
   "metadata": {},
   "outputs": [
    {
     "data": {
      "image/png": "[encoded data removed]",
      "text/plain": [
       "<Figure size 432x288 with 1 Axes>"
      ]
     },
     "metadata": {},
     "output_type": "display_data"
    }
   ],
   "source": [
    "import seaborn as sns\n",
    "sns.set(style=\"darkgrid\")\n",
    "sns.histplot(data=mySelection, x=\"AnzBestWir\") #, y=\"KonOGDKurz\")\n",
    "plt.show();"
   ]
  },
  {
   "cell_type": "markdown",
   "metadata": {},
   "source": [
    "Test: Choroplethenkarte"
   ]
  },
  {
   "cell_type": "markdown",
   "metadata": {},
   "source": [
    "**Test: Choroplethenkarte**\n",
    "Importiere die Geodaten als GeoJSON"
   ]
  },
  {
   "cell_type": "code",
   "execution_count": 21,
   "metadata": {},
   "outputs": [
    {
     "data": {
      "text/html": [
       "<div>\n",
       "<style scoped>\n",
       "    .dataframe tbody tr th:only-of-type {\n",
       "        vertical-align: middle;\n",
       "    }\n",
       "\n",
       "    .dataframe tbody tr th {\n",
       "        vertical-align: top;\n",
       "    }\n",
       "\n",
       "    .dataframe thead th {\n",
       "        text-align: right;\n",
       "    }\n",
       "</style>\n",
       "<table border=\"1\" class=\"dataframe\">\n",
       "  <thead>\n",
       "    <tr style=\"text-align: right;\">\n",
       "      <th></th>\n",
       "      <th>objectid</th>\n",
       "      <th>objid</th>\n",
       "      <th>stznr</th>\n",
       "      <th>stzname</th>\n",
       "      <th>qnr</th>\n",
       "      <th>qname</th>\n",
       "      <th>knr</th>\n",
       "      <th>kname</th>\n",
       "      <th>geometry</th>\n",
       "    </tr>\n",
       "  </thead>\n",
       "  <tbody>\n",
       "    <tr>\n",
       "      <th>0</th>\n",
       "      <td>1</td>\n",
       "      <td>154</td>\n",
       "      <td>7303</td>\n",
       "      <td>Hegibach</td>\n",
       "      <td>73</td>\n",
       "      <td>Hirslanden</td>\n",
       "      <td>7</td>\n",
       "      <td>Kreis 7</td>\n",
       "      <td>POLYGON ((8.55670 47.36407, 8.55670 47.36406, ...</td>\n",
       "    </tr>\n",
       "    <tr>\n",
       "      <th>1</th>\n",
       "      <td>2</td>\n",
       "      <td>89</td>\n",
       "      <td>7302</td>\n",
       "      <td>Klus</td>\n",
       "      <td>73</td>\n",
       "      <td>Hirslanden</td>\n",
       "      <td>7</td>\n",
       "      <td>Kreis 7</td>\n",
       "      <td>POLYGON ((8.57281 47.35806, 8.57274 47.35804, ...</td>\n",
       "    </tr>\n",
       "  </tbody>\n",
       "</table>\n",
       "</div>"
      ],
      "text/plain": [
       "   objectid objid  stznr   stzname  qnr       qname  knr    kname  \\\n",
       "0         1   154   7303  Hegibach   73  Hirslanden    7  Kreis 7   \n",
       "1         2    89   7302      Klus   73  Hirslanden    7  Kreis 7   \n",
       "\n",
       "                                            geometry  \n",
       "0  POLYGON ((8.55670 47.36407, 8.55670 47.36406, ...  \n",
       "1  POLYGON ((8.57281 47.35806, 8.57274 47.35804, ...  "
      ]
     },
     "execution_count": 21,
     "metadata": {},
     "output_type": "execute_result"
    }
   ],
   "source": [
    "# Read abt. Geopandas https://geopandas.org/docs/user_guide/io.html\n",
    "# Filepath statzonen\n",
    "input_statzonen = r\"//szh.loc/ssz/data/GIS/Daten/Vektor/_aktuell/stzh.adm_statzonen_map.json\"\n",
    "df_statzonen = gpd.read_file(input_statzonen)\n",
    "df_statzonen.head(2)\n"
   ]
  },
  {
   "cell_type": "markdown",
   "metadata": {},
   "source": [
    "Joine die importierten statistischen Daten des aktuellen Jahres zum Geodatensatz:\n",
    "\n",
    "*Siehe dazu Doku zu [Geopandas](https://geopandas.org/docs/user_guide/mergingdata.html)*"
   ]
  },
  {
   "cell_type": "markdown",
   "metadata": {},
   "source": [
    "#Link https://automating-gis-processes.github.io/site/notebooks/L5/interactive-map-folium.html\n",
    "\n",
    "# Create a Map instance\n",
    "m = folium.Map(location=[60.25, 24.8], tiles = 'cartodbpositron', zoom_start=10, control_scale=True)\n",
    "\n",
    "# Plot a choropleth map\n",
    "# Notice: 'geoid' column that we created earlier needs to be assigned always as the first column\n",
    "folium.Choropleth(\n",
    "    geo_data=data,\n",
    "    name='Population in 2018',\n",
    "    data=data,\n",
    "    columns=['geoid', 'pop18'],\n",
    "    key_on='feature.id',\n",
    "    fill_color='YlOrRd',\n",
    "    fill_opacity=0.7,\n",
    "    line_opacity=0.2,\n",
    "    line_color='white',\n",
    "    line_weight=0,\n",
    "    highlight=False,\n",
    "    smooth_factor=1.0,\n",
    "    #threshold_scale=[100, 250, 500, 1000, 2000],\n",
    "    legend_name= 'Population in Helsinki').add_to(m)\n",
    "\n",
    "#Show map\n",
    "m"
   ]
  },
  {
   "cell_type": "markdown",
   "metadata": {},
   "source": [
    "Noch zu prüfen, folgendes schöne Beispiel: https://docs.bokeh.org/en/latest/docs/user_guide/interaction/legends.html\n",
    "\n",
    "Konkrete Beispiele von Bookeh in Jupyter NB: https://docs.bokeh.org/en/latest/docs/user_guide/jupyter.html"
   ]
  },
  {
   "cell_type": "code",
   "execution_count": null,
   "metadata": {},
   "outputs": [],
   "source": [
    "\n"
   ]
  },
  {
   "cell_type": "code",
   "execution_count": null,
   "metadata": {},
   "outputs": [],
   "source": []
  }
 ],
 "metadata": {
  "kernelspec": {
   "display_name": "Python 3",
   "language": "python",
   "name": "python3"
  },
  "language_info": {
   "codemirror_mode": {
    "name": "ipython",
    "version": 3
   },
   "file_extension": ".py",
   "mimetype": "text/x-python",
   "name": "python",
   "nbconvert_exporter": "python",
   "pygments_lexer": "ipython3",
   "version": "3.7.10"
  }
 },
 "nbformat": 4,
 "nbformat_minor": 4
}
