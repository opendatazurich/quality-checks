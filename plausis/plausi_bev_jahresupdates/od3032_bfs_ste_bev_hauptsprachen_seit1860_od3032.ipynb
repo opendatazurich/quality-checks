{
 "cells": [
  {
   "cell_type": "markdown",
   "metadata": {},
   "source": [
    "# Testing\n",
    "### Mutter- und Hauptsprachen, seit 1860\n",
    "Beschreibung\n",
    "Mutter- und Hauptsprachen Deutsch, Englisch, Französisch oder Italienisch der ständigen Wohnbevölkerung in der Stadt Zürich, seit 1860. Die Auswertung basiert auf den Daten der Volkszählung (bis 2000) und auf Daten des Haushaltsdatensatzes der Strukturerhebung nach Einzeljahren (ab 2010).\n",
    "\n",
    "Datum: 15.03.2022\n"
   ]
  },
  {
   "cell_type": "markdown",
   "metadata": {},
   "source": [
    "### Importiere die notwendigen Packages"
   ]
  },
  {
   "cell_type": "code",
   "execution_count": 1,
   "metadata": {},
   "outputs": [],
   "source": [
    "#%pip install geopandas altair fiona requests folium mplleaflet contextily seaborn datetime plotly leafmap"
   ]
  },
  {
   "cell_type": "code",
   "execution_count": 2,
   "metadata": {},
   "outputs": [],
   "source": [
    "import pandas as pd\n",
    "import pivottablejs\n",
    "from pivottablejs import pivot_ui\n",
    "import numpy as np\n",
    "import altair as alt\n",
    "import matplotlib.pyplot as plt\n",
    "\n",
    "import datetime\n",
    "import geopandas as gpd\n",
    "import folium \n",
    "import plotly.express as px\n",
    "import seaborn as sns\n",
    "import leafmap\n",
    "\n",
    "import requests\n",
    "import io\n"
   ]
  },
  {
   "cell_type": "code",
   "execution_count": 3,
   "metadata": {},
   "outputs": [],
   "source": [
    "SSL_VERIFY = False\n",
    "# evtl. SSL_VERIFY auf False setzen wenn die Verbindung zu https://www.gemeinderat-zuerich.ch nicht klappt (z.B. wegen Proxy)\n",
    "# Um die SSL Verifikation auszustellen, bitte die nächste Zeile einkommentieren (\"#\" entfernen)\n",
    "# SSL_VERIFY = False"
   ]
  },
  {
   "cell_type": "code",
   "execution_count": 4,
   "metadata": {},
   "outputs": [],
   "source": [
    "if not SSL_VERIFY:\n",
    "    import urllib3\n",
    "    urllib3.disable_warnings()"
   ]
  },
  {
   "cell_type": "markdown",
   "metadata": {},
   "source": [
    "Definiere Settings. Hier das Zahlenformat von Float-Werten (z.B. *'{:,.2f}'.format* mit Komma als Tausenderzeichen), "
   ]
  },
  {
   "cell_type": "code",
   "execution_count": 5,
   "metadata": {},
   "outputs": [],
   "source": [
    "#pd.options.display.float_format = lambda x : '{:,.1f}'.format(x) if (np.isnan(x) | np.isinf(x)) else '{:,.0f}'.format(x) if int(x) == x else '{:,.1f}'.format(x)\n",
    "pd.options.display.float_format = '{:.0f}'.format\n",
    "pd.set_option('display.width', 100)\n",
    "pd.set_option('display.max_columns', 15)"
   ]
  },
  {
   "cell_type": "markdown",
   "metadata": {},
   "source": [
    "### Zeitvariabeln\n",
    "Bestimme den aktuellst geladenen Monat. Hier ist es der Stand vor 2 Monaten. \n",
    "Bestimme noch weitere evt. sinnvolle Zeitvariabeln.\n",
    "\n",
    "Zum Unterschied zwischen import datetime und from datedtime import datetime, siehe https://stackoverflow.com/questions/15707532/import-datetime-v-s-from-datetime-import-datetime\n",
    "\n",
    "Zuerst die Zeitvariabeln als Strings"
   ]
  },
  {
   "cell_type": "code",
   "execution_count": 6,
   "metadata": {},
   "outputs": [],
   "source": [
    "#today_date = datetime.date.today()\n",
    "#date_time = datetime.datetime.strptime(date_time_string, '%Y-%m-%d %H:%M')\n",
    "now = datetime.date.today()\n",
    "date_today = now.strftime(\"%Y-%m-%d\")\n",
    "year_today = now.strftime(\"%Y\")\n",
    "month_today = now.strftime(\"%m\")\n",
    "day_today = now.strftime(\"%d\")\n"
   ]
  },
  {
   "cell_type": "markdown",
   "metadata": {},
   "source": [
    "Und hier noch die Zeitvariabeln als Integers:\n",
    "- `aktuellesJahr`\n",
    "- `aktuellerMonat`: Der gerade jetzt aktuelle Monat\n",
    "- `selectedMonat`: Der aktuellste Monat in den Daten. In der Regel zwei Monate her."
   ]
  },
  {
   "cell_type": "code",
   "execution_count": 7,
   "metadata": {},
   "outputs": [
    {
     "name": "stdout",
     "output_type": "stream",
     "text": [
      "2022 3 datenstand:  1 time.struct_time(tm_year=2022, tm_mon=3, tm_mday=16, tm_hour=0, tm_min=0, tm_sec=0, tm_wday=2, tm_yday=75, tm_isdst=-1)\n"
     ]
    }
   ],
   "source": [
    "#now = datetime.now() \n",
    "int_times = now.timetuple()\n",
    "\n",
    "aktuellesJahr = int_times[0]\n",
    "aktuellerMonat = int_times[1]\n",
    "selectedMonat = int_times[1]-2\n",
    "\n",
    "print(aktuellesJahr, \n",
    "      aktuellerMonat,\n",
    "    'datenstand: ', selectedMonat,\n",
    "     int_times)\n"
   ]
  },
  {
   "cell_type": "markdown",
   "metadata": {},
   "source": [
    "Berechne die Variable Epoche um später das SAS-Datum in ein Unix-Datum umzuwandeln. Bei SAS beginnt die Epoche am 1.1.1960. Bei Unix am 1.1.1970.\n",
    "Diese Variable wird beim CSV-Import benötigt."
   ]
  },
  {
   "cell_type": "code",
   "execution_count": 8,
   "metadata": {},
   "outputs": [],
   "source": [
    "epoch = datetime.datetime(1960, 1, 1)"
   ]
  },
  {
   "cell_type": "markdown",
   "metadata": {},
   "source": [
    "### Setze einige Pfadvariabeln"
   ]
  },
  {
   "cell_type": "markdown",
   "metadata": {
    "tags": []
   },
   "source": [
    "- Der Packagename ist eigentlich der **Verzeichnisname** unter dem die Daten und Metadaten auf der Dropzone abgelegt werden.\n",
    "- Definiert wird er bei SASA-Prozessen auf dem **Produkte-Sharepoint ([Link](https://kollaboration.intranet.stzh.ch/orga/ssz-produkte/Lists/SASA_Outputs/PersonalViews.aspx?PageView=Personal&ShowWebPart={6087A3E7-8AC8-40BA-8278-DECFACE124FF}))**.\n",
    "- Der Packagename wird auf CKAN teil der URL, daher ist die exakte Schreibweise wichtig.\n",
    "\n",
    "Beachte: im Packagename müssen alle Buchstaben **klein** geschrieben werden. Dies weil CKAN aus grossen kleine Buchstaben macht."
   ]
  },
  {
   "cell_type": "markdown",
   "metadata": {},
   "source": [
    "**BITTE HIER ANPASSEN**"
   ]
  },
  {
   "cell_type": "code",
   "execution_count": 9,
   "metadata": {},
   "outputs": [],
   "source": [
    "package_name = \"bfs_ste_bev_hauptsprachen_seit1860_od3032\""
   ]
  },
  {
   "cell_type": "code",
   "execution_count": 10,
   "metadata": {
    "tags": []
   },
   "outputs": [],
   "source": [
    "dataset_name = \"BEV303OD3032.csv\""
   ]
  },
  {
   "cell_type": "markdown",
   "metadata": {},
   "source": [
    "**Statische Pfade in DWH-Dropzones**"
   ]
  },
  {
   "cell_type": "code",
   "execution_count": 11,
   "metadata": {},
   "outputs": [],
   "source": [
    "dropzone_path_integ = r\"\\\\szh\\ssz\\applikationen\\OGD_Dropzone\\INT_DWH\""
   ]
  },
  {
   "cell_type": "code",
   "execution_count": 12,
   "metadata": {
    "tags": []
   },
   "outputs": [],
   "source": [
    "dropzone_path_prod = r\"\\\\szh\\ssz\\applikationen\\OGD_Dropzone\\DWH\""
   ]
  },
  {
   "cell_type": "markdown",
   "metadata": {},
   "source": [
    "**Statische Pfade CKAN-URLs**"
   ]
  },
  {
   "cell_type": "code",
   "execution_count": 13,
   "metadata": {
    "tags": []
   },
   "outputs": [],
   "source": [
    "ckan_integ_url =\"https://data.integ.stadt-zuerich.ch/dataset/int_dwh_\""
   ]
  },
  {
   "cell_type": "code",
   "execution_count": 14,
   "metadata": {},
   "outputs": [],
   "source": [
    "ckan_prod_url =\"https://data.stadt-zuerich.ch/dataset/\""
   ]
  },
  {
   "cell_type": "markdown",
   "metadata": {},
   "source": [
    "### Checke die Metadaten auf der CKAN INTEG- oder PROD-Webseite\n",
    "\n",
    "Offenbar lassen sich aktuell im Markdownteil keine Variabeln ausführen, daher gehen wir wie unten gezeigt vor. Siehe dazu: https://data-dive.com/jupyterlab-markdown-cells-include-variables\n",
    "Instead of setting the cell to Markdown, create Markdown from withnin a code cell! We can just use python variable replacement syntax to make the text dynamic"
   ]
  },
  {
   "cell_type": "code",
   "execution_count": 15,
   "metadata": {},
   "outputs": [],
   "source": [
    "from IPython.display import Markdown as md"
   ]
  },
  {
   "cell_type": "code",
   "execution_count": 16,
   "metadata": {},
   "outputs": [
    {
     "data": {
      "text/markdown": [
       " **1. Dataset auf INTEG-Datakatalog:** Link https://data.integ.stadt-zuerich.ch/dataset/int_dwh_bfs_ste_bev_hauptsprachen_seit1860_od3032 "
      ],
      "text/plain": [
       "<IPython.core.display.Markdown object>"
      ]
     },
     "execution_count": 16,
     "metadata": {},
     "output_type": "execute_result"
    }
   ],
   "source": [
    "md(\" **1. Dataset auf INTEG-Datakatalog:** Link {} \".format(ckan_integ_url+package_name))"
   ]
  },
  {
   "cell_type": "code",
   "execution_count": 17,
   "metadata": {
    "tags": []
   },
   "outputs": [
    {
     "data": {
      "text/markdown": [
       " **2. Dataset auf PROD-Datakatalog:** Link https://data.stadt-zuerich.ch/dataset/bfs_ste_bev_hauptsprachen_seit1860_od3032 "
      ],
      "text/plain": [
       "<IPython.core.display.Markdown object>"
      ]
     },
     "execution_count": 17,
     "metadata": {},
     "output_type": "execute_result"
    }
   ],
   "source": [
    "md(\" **2. Dataset auf PROD-Datakatalog:** Link {} \".format(ckan_prod_url+package_name))"
   ]
  },
  {
   "cell_type": "markdown",
   "metadata": {
    "tags": []
   },
   "source": [
    "### Importiere einen Datensatz \n",
    "\n",
    "Definiere zuerst folgende Werte:\n",
    "1) Kommt der Datensatz von PROD oder INTEG?\n",
    "2) Beziehst Du den Datensatz direkt ab der DROPZONE oder aus dem INTERNET?"
   ]
  },
  {
   "cell_type": "code",
   "execution_count": 18,
   "metadata": {},
   "outputs": [
    {
     "name": "stdout",
     "output_type": "stream",
     "text": [
      "integ - web\n"
     ]
    }
   ],
   "source": [
    "#Die Datasets sind nur zum Testen auf INT-DWH-Dropzone. Wenn der Test vorbei ist, sind sie auf PROD. \n",
    "# Über den Status kann man einfach switchen\n",
    "\n",
    "status = \"integ\"; #prod vs something else\n",
    "data_source = \"web\"; #dropzone vs something else\n",
    "print(status+\" - \"+ data_source)"
   ]
  },
  {
   "cell_type": "code",
   "execution_count": 19,
   "metadata": {
    "tags": []
   },
   "outputs": [
    {
     "name": "stdout",
     "output_type": "stream",
     "text": [
      "fp lautet:https://data.integ.stadt-zuerich.ch/dataset/int_dwh_bfs_ste_bev_hauptsprachen_seit1860_od3032/download/BEV303OD3032.csv\n"
     ]
    }
   ],
   "source": [
    "# Filepath\n",
    "if status == \"prod\":\n",
    "    if data_source == \"dropzone\":\n",
    "            fp = dropzone_path_prod+\"\\\\\"+ package_name +\"\\\\\"+dataset_name\n",
    "            print(\"fp lautet:\"+fp)\n",
    "    else:\n",
    "        #fp = r\"https://data.stadt-zuerich.ch/dataset/bau_neubau_whg_bausm_rinh_geb_projstatus_quartier_seit2009_od5011/download/BAU501OD5011.csv\"\n",
    "        fp = ckan_prod_url+package_name+'/download/'+dataset_name\n",
    "        print(\"fp lautet:\"+fp)\n",
    "else:\n",
    "    if data_source == \"dropzone\":\n",
    "        fp = dropzone_path_integ+\"\\\\\"+ package_name +\"\\\\\"+dataset_name\n",
    "        print(\"fp lautet:\"+fp)\n",
    "    else:\n",
    "        #fp = r\"https://data.stadt-zuerich.ch/dataset/bau_neubau_whg_bausm_rinh_geb_projstatus_quartier_seit2009_od5011/download/BAU501OD5011.csv\"\n",
    "        fp = ckan_integ_url+package_name+'/download/'+dataset_name\n",
    "        print(\"fp lautet:\"+fp)\n"
   ]
  },
  {
   "cell_type": "markdown",
   "metadata": {},
   "source": [
    "Beachte, wie das SAS Datum (ohne Format) in ein UNIX Datum umgerechnet und als Datumsformat dargestellt wird! Siehe dazu `https://stackoverflow.com/questions/26923564/convert-sas-numeric-to-python-datetime`"
   ]
  },
  {
   "cell_type": "code",
   "execution_count": 20,
   "metadata": {},
   "outputs": [
    {
     "name": "stdout",
     "output_type": "stream",
     "text": [
      "web\n"
     ]
    },
    {
     "data": {
      "text/plain": [
       "Jahr           datetime64[ns]\n",
       "Sprache                object\n",
       "AnzBev                float64\n",
       "AntBev                float64\n",
       "untAnzBevKI           float64\n",
       "obAnzBevKI            float64\n",
       "untAntBevKI           float64\n",
       "obAntBevKI            float64\n",
       "dtype: object"
      ]
     },
     "execution_count": 20,
     "metadata": {},
     "output_type": "execute_result"
    }
   ],
   "source": [
    "# Read the data\n",
    "if data_source == \"dropzone\":\n",
    "    data2betested = pd.read_csv(\n",
    "        fp\n",
    "        , sep=','\n",
    "        ,parse_dates=['Jahr']\n",
    "        ,low_memory=False\n",
    "    )\n",
    "    print(\"dropzone\")\n",
    "else:\n",
    "    r = requests.get(fp, verify=False)  \n",
    "    r.encoding = 'utf-8'\n",
    "    data2betested = pd.read_csv(\n",
    "        io.StringIO(r.text)\n",
    "        ,parse_dates=['Jahr']\n",
    "        # KONVERTIERE DAS SAS DATUM IN EIN UNIXDATUM UND FORMATIERE ES\n",
    "        #, date_parser=lambda s: epoch + datetime.timedelta(days=int(s))\n",
    "        ,low_memory=False)\n",
    "    print(\"web\")\n",
    "\n",
    "data2betested.dtypes"
   ]
  },
  {
   "cell_type": "markdown",
   "metadata": {},
   "source": [
    "Berechne weitere Attribute falls notwendig"
   ]
  },
  {
   "cell_type": "code",
   "execution_count": 21,
   "metadata": {},
   "outputs": [
    {
     "data": {
      "text/plain": [
       "Jahr           datetime64[ns]\n",
       "Sprache                object\n",
       "AnzBev                float64\n",
       "AntBev                float64\n",
       "untAnzBevKI           float64\n",
       "obAnzBevKI            float64\n",
       "untAntBevKI           float64\n",
       "obAntBevKI            float64\n",
       "Jahr_str               object\n",
       "dtype: object"
      ]
     },
     "execution_count": 21,
     "metadata": {},
     "output_type": "execute_result"
    }
   ],
   "source": [
    "data2betested = (\n",
    "    data2betested\n",
    "    .copy()\n",
    "    .assign(\n",
    "        #Aktualisierungs_Datum_str= lambda x: x.Aktualisierungs_Datum.astype(str),\n",
    "        Jahr_str = lambda x: x.Jahr.astype(str),\n",
    "    )\n",
    "    .sort_values('Jahr', ascending=False)\n",
    "    )\n",
    "data2betested.dtypes"
   ]
  },
  {
   "cell_type": "markdown",
   "metadata": {},
   "source": [
    "### Einfache Datentests"
   ]
  },
  {
   "cell_type": "markdown",
   "metadata": {},
   "source": [
    " - 1) Zeige eine kurze Vorschau der importierten Daten\n",
    " - 2) Weise die Datentypen aus\n",
    " - 3) Zeige die Shape (Umfang) des Datensatzes an"
   ]
  },
  {
   "cell_type": "code",
   "execution_count": 22,
   "metadata": {},
   "outputs": [],
   "source": [
    "#data2betested.head(6)"
   ]
  },
  {
   "cell_type": "code",
   "execution_count": 23,
   "metadata": {},
   "outputs": [
    {
     "data": {
      "text/plain": [
       "Jahr           datetime64[ns]\n",
       "Sprache                object\n",
       "AnzBev                float64\n",
       "AntBev                float64\n",
       "untAnzBevKI           float64\n",
       "obAnzBevKI            float64\n",
       "untAntBevKI           float64\n",
       "obAntBevKI            float64\n",
       "Jahr_str               object\n",
       "dtype: object"
      ]
     },
     "execution_count": 23,
     "metadata": {},
     "output_type": "execute_result"
    }
   ],
   "source": [
    "data2betested.dtypes"
   ]
  },
  {
   "cell_type": "code",
   "execution_count": 24,
   "metadata": {},
   "outputs": [
    {
     "data": {
      "text/plain": [
       "(193, 9)"
      ]
     },
     "execution_count": 24,
     "metadata": {},
     "output_type": "execute_result"
    }
   ],
   "source": [
    "data2betested.shape"
   ]
  },
  {
   "cell_type": "markdown",
   "metadata": {},
   "source": [
    "Beschreibe einzelne Attribute"
   ]
  },
  {
   "cell_type": "code",
   "execution_count": 25,
   "metadata": {},
   "outputs": [
    {
     "data": {
      "text/html": [
       "<div>\n",
       "<style scoped>\n",
       "    .dataframe tbody tr th:only-of-type {\n",
       "        vertical-align: middle;\n",
       "    }\n",
       "\n",
       "    .dataframe tbody tr th {\n",
       "        vertical-align: top;\n",
       "    }\n",
       "\n",
       "    .dataframe thead th {\n",
       "        text-align: right;\n",
       "    }\n",
       "</style>\n",
       "<table border=\"1\" class=\"dataframe\">\n",
       "  <thead>\n",
       "    <tr style=\"text-align: right;\">\n",
       "      <th></th>\n",
       "      <th>AnzBev</th>\n",
       "      <th>AntBev</th>\n",
       "      <th>untAnzBevKI</th>\n",
       "      <th>obAnzBevKI</th>\n",
       "      <th>untAntBevKI</th>\n",
       "      <th>obAntBevKI</th>\n",
       "    </tr>\n",
       "  </thead>\n",
       "  <tbody>\n",
       "    <tr>\n",
       "      <th>count</th>\n",
       "      <td>192</td>\n",
       "      <td>192</td>\n",
       "      <td>110</td>\n",
       "      <td>110</td>\n",
       "      <td>110</td>\n",
       "      <td>110</td>\n",
       "    </tr>\n",
       "    <tr>\n",
       "      <th>mean</th>\n",
       "      <td>47546</td>\n",
       "      <td>15</td>\n",
       "      <td>46256</td>\n",
       "      <td>48709</td>\n",
       "      <td>12</td>\n",
       "      <td>13</td>\n",
       "    </tr>\n",
       "    <tr>\n",
       "      <th>std</th>\n",
       "      <td>90175</td>\n",
       "      <td>28</td>\n",
       "      <td>84336</td>\n",
       "      <td>85152</td>\n",
       "      <td>22</td>\n",
       "      <td>22</td>\n",
       "    </tr>\n",
       "    <tr>\n",
       "      <th>min</th>\n",
       "      <td>31</td>\n",
       "      <td>0</td>\n",
       "      <td>730</td>\n",
       "      <td>1310</td>\n",
       "      <td>0</td>\n",
       "      <td>0</td>\n",
       "    </tr>\n",
       "    <tr>\n",
       "      <th>25%</th>\n",
       "      <td>5218</td>\n",
       "      <td>2</td>\n",
       "      <td>10675</td>\n",
       "      <td>12368</td>\n",
       "      <td>3</td>\n",
       "      <td>3</td>\n",
       "    </tr>\n",
       "    <tr>\n",
       "      <th>50%</th>\n",
       "      <td>13175</td>\n",
       "      <td>4</td>\n",
       "      <td>15025</td>\n",
       "      <td>17400</td>\n",
       "      <td>4</td>\n",
       "      <td>4</td>\n",
       "    </tr>\n",
       "    <tr>\n",
       "      <th>75%</th>\n",
       "      <td>30850</td>\n",
       "      <td>8</td>\n",
       "      <td>34305</td>\n",
       "      <td>37932</td>\n",
       "      <td>9</td>\n",
       "      <td>10</td>\n",
       "    </tr>\n",
       "    <tr>\n",
       "      <th>max</th>\n",
       "      <td>384950</td>\n",
       "      <td>100</td>\n",
       "      <td>306970</td>\n",
       "      <td>312130</td>\n",
       "      <td>80</td>\n",
       "      <td>81</td>\n",
       "    </tr>\n",
       "  </tbody>\n",
       "</table>\n",
       "</div>"
      ],
      "text/plain": [
       "       AnzBev  AntBev  untAnzBevKI  obAnzBevKI  untAntBevKI  obAntBevKI\n",
       "count     192     192          110         110          110         110\n",
       "mean    47546      15        46256       48709           12          13\n",
       "std     90175      28        84336       85152           22          22\n",
       "min        31       0          730        1310            0           0\n",
       "25%      5218       2        10675       12368            3           3\n",
       "50%     13175       4        15025       17400            4           4\n",
       "75%     30850       8        34305       37932            9          10\n",
       "max    384950     100       306970      312130           80          81"
      ]
     },
     "execution_count": 25,
     "metadata": {},
     "output_type": "execute_result"
    }
   ],
   "source": [
    "data2betested.describe()"
   ]
  },
  {
   "cell_type": "markdown",
   "metadata": {},
   "source": [
    "Wie viele Nullwerte gibt es im Datensatz?"
   ]
  },
  {
   "cell_type": "code",
   "execution_count": 26,
   "metadata": {
    "scrolled": true
   },
   "outputs": [
    {
     "data": {
      "text/plain": [
       "Jahr            0\n",
       "Sprache         0\n",
       "AnzBev          1\n",
       "AntBev          1\n",
       "untAnzBevKI    83\n",
       "obAnzBevKI     83\n",
       "untAntBevKI    83\n",
       "obAntBevKI     83\n",
       "Jahr_str        0\n",
       "dtype: int64"
      ]
     },
     "execution_count": 26,
     "metadata": {},
     "output_type": "execute_result"
    }
   ],
   "source": [
    "data2betested.isnull().sum()"
   ]
  },
  {
   "cell_type": "markdown",
   "metadata": {},
   "source": [
    "Welches sind die Quartiere ohne Werte bei AnzBestWir?"
   ]
  },
  {
   "cell_type": "code",
   "execution_count": 27,
   "metadata": {},
   "outputs": [
    {
     "data": {
      "text/html": [
       "<div>\n",
       "<style scoped>\n",
       "    .dataframe tbody tr th:only-of-type {\n",
       "        vertical-align: middle;\n",
       "    }\n",
       "\n",
       "    .dataframe tbody tr th {\n",
       "        vertical-align: top;\n",
       "    }\n",
       "\n",
       "    .dataframe thead th {\n",
       "        text-align: right;\n",
       "    }\n",
       "</style>\n",
       "<table border=\"1\" class=\"dataframe\">\n",
       "  <thead>\n",
       "    <tr style=\"text-align: right;\">\n",
       "      <th></th>\n",
       "      <th>Jahr</th>\n",
       "      <th>Sprache</th>\n",
       "      <th>AnzBev</th>\n",
       "      <th>AntBev</th>\n",
       "      <th>untAnzBevKI</th>\n",
       "      <th>obAnzBevKI</th>\n",
       "      <th>untAntBevKI</th>\n",
       "      <th>obAntBevKI</th>\n",
       "      <th>Jahr_str</th>\n",
       "    </tr>\n",
       "  </thead>\n",
       "  <tbody>\n",
       "    <tr>\n",
       "      <th>110</th>\n",
       "      <td>2000-01-01</td>\n",
       "      <td>Deutsch</td>\n",
       "      <td>282277</td>\n",
       "      <td>78</td>\n",
       "      <td>NaN</td>\n",
       "      <td>NaN</td>\n",
       "      <td>NaN</td>\n",
       "      <td>NaN</td>\n",
       "      <td>2000-01-01</td>\n",
       "    </tr>\n",
       "    <tr>\n",
       "      <th>111</th>\n",
       "      <td>2000-01-01</td>\n",
       "      <td>Englisch</td>\n",
       "      <td>6702</td>\n",
       "      <td>2</td>\n",
       "      <td>NaN</td>\n",
       "      <td>NaN</td>\n",
       "      <td>NaN</td>\n",
       "      <td>NaN</td>\n",
       "      <td>2000-01-01</td>\n",
       "    </tr>\n",
       "    <tr>\n",
       "      <th>112</th>\n",
       "      <td>2000-01-01</td>\n",
       "      <td>Italienisch</td>\n",
       "      <td>17063</td>\n",
       "      <td>5</td>\n",
       "      <td>NaN</td>\n",
       "      <td>NaN</td>\n",
       "      <td>NaN</td>\n",
       "      <td>NaN</td>\n",
       "      <td>2000-01-01</td>\n",
       "    </tr>\n",
       "    <tr>\n",
       "      <th>113</th>\n",
       "      <td>2000-01-01</td>\n",
       "      <td>Französisch</td>\n",
       "      <td>7746</td>\n",
       "      <td>2</td>\n",
       "      <td>NaN</td>\n",
       "      <td>NaN</td>\n",
       "      <td>NaN</td>\n",
       "      <td>NaN</td>\n",
       "      <td>2000-01-01</td>\n",
       "    </tr>\n",
       "    <tr>\n",
       "      <th>114</th>\n",
       "      <td>2000-01-01</td>\n",
       "      <td>Spanisch</td>\n",
       "      <td>7869</td>\n",
       "      <td>2</td>\n",
       "      <td>NaN</td>\n",
       "      <td>NaN</td>\n",
       "      <td>NaN</td>\n",
       "      <td>NaN</td>\n",
       "      <td>2000-01-01</td>\n",
       "    </tr>\n",
       "    <tr>\n",
       "      <th>...</th>\n",
       "      <td>...</td>\n",
       "      <td>...</td>\n",
       "      <td>...</td>\n",
       "      <td>...</td>\n",
       "      <td>...</td>\n",
       "      <td>...</td>\n",
       "      <td>...</td>\n",
       "      <td>...</td>\n",
       "      <td>...</td>\n",
       "    </tr>\n",
       "    <tr>\n",
       "      <th>188</th>\n",
       "      <td>1860-01-01</td>\n",
       "      <td>Deutsch</td>\n",
       "      <td>51396</td>\n",
       "      <td>100</td>\n",
       "      <td>NaN</td>\n",
       "      <td>NaN</td>\n",
       "      <td>NaN</td>\n",
       "      <td>NaN</td>\n",
       "      <td>1860-01-01</td>\n",
       "    </tr>\n",
       "    <tr>\n",
       "      <th>189</th>\n",
       "      <td>1860-01-01</td>\n",
       "      <td>Italienisch</td>\n",
       "      <td>31</td>\n",
       "      <td>0</td>\n",
       "      <td>NaN</td>\n",
       "      <td>NaN</td>\n",
       "      <td>NaN</td>\n",
       "      <td>NaN</td>\n",
       "      <td>1860-01-01</td>\n",
       "    </tr>\n",
       "    <tr>\n",
       "      <th>190</th>\n",
       "      <td>1860-01-01</td>\n",
       "      <td>Französisch</td>\n",
       "      <td>147</td>\n",
       "      <td>0</td>\n",
       "      <td>NaN</td>\n",
       "      <td>NaN</td>\n",
       "      <td>NaN</td>\n",
       "      <td>NaN</td>\n",
       "      <td>1860-01-01</td>\n",
       "    </tr>\n",
       "    <tr>\n",
       "      <th>191</th>\n",
       "      <td>1860-01-01</td>\n",
       "      <td>Rätoromanisch</td>\n",
       "      <td>NaN</td>\n",
       "      <td>NaN</td>\n",
       "      <td>NaN</td>\n",
       "      <td>NaN</td>\n",
       "      <td>NaN</td>\n",
       "      <td>NaN</td>\n",
       "      <td>1860-01-01</td>\n",
       "    </tr>\n",
       "    <tr>\n",
       "      <th>192</th>\n",
       "      <td>1860-01-01</td>\n",
       "      <td>andSprachen</td>\n",
       "      <td>42</td>\n",
       "      <td>0</td>\n",
       "      <td>NaN</td>\n",
       "      <td>NaN</td>\n",
       "      <td>NaN</td>\n",
       "      <td>NaN</td>\n",
       "      <td>1860-01-01</td>\n",
       "    </tr>\n",
       "  </tbody>\n",
       "</table>\n",
       "<p>83 rows × 9 columns</p>\n",
       "</div>"
      ],
      "text/plain": [
       "          Jahr        Sprache  AnzBev  AntBev  untAnzBevKI  obAnzBevKI  untAntBevKI  obAntBevKI  \\\n",
       "110 2000-01-01        Deutsch  282277      78          NaN         NaN          NaN         NaN   \n",
       "111 2000-01-01       Englisch    6702       2          NaN         NaN          NaN         NaN   \n",
       "112 2000-01-01    Italienisch   17063       5          NaN         NaN          NaN         NaN   \n",
       "113 2000-01-01    Französisch    7746       2          NaN         NaN          NaN         NaN   \n",
       "114 2000-01-01       Spanisch    7869       2          NaN         NaN          NaN         NaN   \n",
       "..         ...            ...     ...     ...          ...         ...          ...         ...   \n",
       "188 1860-01-01        Deutsch   51396     100          NaN         NaN          NaN         NaN   \n",
       "189 1860-01-01    Italienisch      31       0          NaN         NaN          NaN         NaN   \n",
       "190 1860-01-01    Französisch     147       0          NaN         NaN          NaN         NaN   \n",
       "191 1860-01-01  Rätoromanisch     NaN     NaN          NaN         NaN          NaN         NaN   \n",
       "192 1860-01-01    andSprachen      42       0          NaN         NaN          NaN         NaN   \n",
       "\n",
       "       Jahr_str  \n",
       "110  2000-01-01  \n",
       "111  2000-01-01  \n",
       "112  2000-01-01  \n",
       "113  2000-01-01  \n",
       "114  2000-01-01  \n",
       "..          ...  \n",
       "188  1860-01-01  \n",
       "189  1860-01-01  \n",
       "190  1860-01-01  \n",
       "191  1860-01-01  \n",
       "192  1860-01-01  \n",
       "\n",
       "[83 rows x 9 columns]"
      ]
     },
     "execution_count": 27,
     "metadata": {},
     "output_type": "execute_result"
    }
   ],
   "source": [
    "data2betested[np.isnan(data2betested.untAnzBevKI)]"
   ]
  },
  {
   "cell_type": "markdown",
   "metadata": {
    "colab_type": "text",
    "id": "1dTPVmmsgOVx"
   },
   "source": [
    "### Verwende das Datum als Index\n",
    "\n",
    "While we did already parse the `datetime` column into the respective datetime type, it currently is just a regular column. \n",
    "**To enable quick and convenient queries and aggregations, we need to turn it into the index of the DataFrame**"
   ]
  },
  {
   "cell_type": "code",
   "execution_count": 28,
   "metadata": {},
   "outputs": [],
   "source": [
    "data2betested = data2betested.set_index(\"Jahr\")"
   ]
  },
  {
   "cell_type": "code",
   "execution_count": 29,
   "metadata": {},
   "outputs": [
    {
     "name": "stdout",
     "output_type": "stream",
     "text": [
      "<class 'pandas.core.frame.DataFrame'>\n",
      "DatetimeIndex: 193 entries, 2020-01-01 to 1860-01-01\n",
      "Data columns (total 8 columns):\n",
      " #   Column       Non-Null Count  Dtype  \n",
      "---  ------       --------------  -----  \n",
      " 0   Sprache      193 non-null    object \n",
      " 1   AnzBev       192 non-null    float64\n",
      " 2   AntBev       192 non-null    float64\n",
      " 3   untAnzBevKI  110 non-null    float64\n",
      " 4   obAnzBevKI   110 non-null    float64\n",
      " 5   untAntBevKI  110 non-null    float64\n",
      " 6   obAntBevKI   110 non-null    float64\n",
      " 7   Jahr_str     193 non-null    object \n",
      "dtypes: float64(6), object(2)\n",
      "memory usage: 13.6+ KB\n"
     ]
    },
    {
     "data": {
      "text/plain": [
       "Int64Index([2020, 2019, 2018, 2017, 2016, 2015, 2014, 2013, 2012, 2011, 2010, 2000, 1990, 1980,\n",
       "            1970, 1960, 1950, 1941, 1930, 1920, 1910, 1900, 1888, 1880, 1870, 1860],\n",
       "           dtype='int64', name='Jahr')"
      ]
     },
     "execution_count": 29,
     "metadata": {},
     "output_type": "execute_result"
    }
   ],
   "source": [
    "data2betested.info()\n",
    "data2betested.index.year.unique()"
   ]
  },
  {
   "cell_type": "markdown",
   "metadata": {},
   "source": [
    "### Einfache Visualisierungen zur Plausi"
   ]
  },
  {
   "cell_type": "markdown",
   "metadata": {},
   "source": [
    "Exploriere die Daten mit Pivottable.JS"
   ]
  },
  {
   "cell_type": "code",
   "execution_count": 30,
   "metadata": {},
   "outputs": [
    {
     "data": {
      "text/html": [
       "\n",
       "        <iframe\n",
       "            width=\"100%\"\n",
       "            height=\"500\"\n",
       "            src=\"pivottablejs.html\"\n",
       "            frameborder=\"0\"\n",
       "            allowfullscreen\n",
       "            \n",
       "        ></iframe>\n",
       "        "
      ],
      "text/plain": [
       "<IPython.lib.display.IFrame at 0x23ab214e688>"
      ]
     },
     "execution_count": 30,
     "metadata": {},
     "output_type": "execute_result"
    }
   ],
   "source": [
    "from pivottablejs import pivot_ui\n",
    "\n",
    "pivot_ui(data2betested)"
   ]
  },
  {
   "cell_type": "markdown",
   "metadata": {},
   "source": [
    "### Zeitpunkte und Zeiträume abfragen\n",
    "\n",
    "A particular powerful feature of the Pandas DataFrame is its indexing capability that also works using time-based entities, such as dates and times. We have already created the index above, so let's put it to use."
   ]
  },
  {
   "cell_type": "code",
   "execution_count": 31,
   "metadata": {},
   "outputs": [
    {
     "data": {
      "text/html": [
       "<div>\n",
       "<style scoped>\n",
       "    .dataframe tbody tr th:only-of-type {\n",
       "        vertical-align: middle;\n",
       "    }\n",
       "\n",
       "    .dataframe tbody tr th {\n",
       "        vertical-align: top;\n",
       "    }\n",
       "\n",
       "    .dataframe thead th {\n",
       "        text-align: right;\n",
       "    }\n",
       "</style>\n",
       "<table border=\"1\" class=\"dataframe\">\n",
       "  <thead>\n",
       "    <tr style=\"text-align: right;\">\n",
       "      <th></th>\n",
       "      <th>Sprache</th>\n",
       "      <th>AnzBev</th>\n",
       "      <th>AntBev</th>\n",
       "      <th>untAnzBevKI</th>\n",
       "      <th>obAnzBevKI</th>\n",
       "      <th>untAntBevKI</th>\n",
       "      <th>obAntBevKI</th>\n",
       "      <th>Jahr_str</th>\n",
       "    </tr>\n",
       "    <tr>\n",
       "      <th>Jahr</th>\n",
       "      <th></th>\n",
       "      <th></th>\n",
       "      <th></th>\n",
       "      <th></th>\n",
       "      <th></th>\n",
       "      <th></th>\n",
       "      <th></th>\n",
       "      <th></th>\n",
       "    </tr>\n",
       "  </thead>\n",
       "  <tbody>\n",
       "    <tr>\n",
       "      <th>2020-01-01</th>\n",
       "      <td>Deutsch</td>\n",
       "      <td>309550</td>\n",
       "      <td>76</td>\n",
       "      <td>306970</td>\n",
       "      <td>312130</td>\n",
       "      <td>76</td>\n",
       "      <td>77</td>\n",
       "      <td>2020-01-01</td>\n",
       "    </tr>\n",
       "    <tr>\n",
       "      <th>2020-01-01</th>\n",
       "      <td>Portugiesisch</td>\n",
       "      <td>11280</td>\n",
       "      <td>3</td>\n",
       "      <td>10330</td>\n",
       "      <td>12240</td>\n",
       "      <td>2</td>\n",
       "      <td>3</td>\n",
       "      <td>2020-01-01</td>\n",
       "    </tr>\n",
       "  </tbody>\n",
       "</table>\n",
       "</div>"
      ],
      "text/plain": [
       "                  Sprache  AnzBev  AntBev  untAnzBevKI  obAnzBevKI  untAntBevKI  obAntBevKI  \\\n",
       "Jahr                                                                                          \n",
       "2020-01-01        Deutsch  309550      76       306970      312130           76          77   \n",
       "2020-01-01  Portugiesisch   11280       3        10330       12240            2           3   \n",
       "\n",
       "              Jahr_str  \n",
       "Jahr                    \n",
       "2020-01-01  2020-01-01  \n",
       "2020-01-01  2020-01-01  "
      ]
     },
     "execution_count": 31,
     "metadata": {},
     "output_type": "execute_result"
    }
   ],
   "source": [
    "data2betested.loc[\"2020\"].head(2)\n",
    "#data2betested.loc[\"2021-10-31\":\"2021-11-30\"].head(2)"
   ]
  },
  {
   "cell_type": "markdown",
   "metadata": {},
   "source": [
    "### Visualisierungen nach Zeitausschnitten"
   ]
  },
  {
   "cell_type": "markdown",
   "metadata": {
    "tags": []
   },
   "source": [
    "#### Entwicklung Bildungsstand"
   ]
  },
  {
   "cell_type": "code",
   "execution_count": 32,
   "metadata": {},
   "outputs": [
    {
     "data": {
      "text/plain": [
       "Index(['Sprache', 'AnzBev', 'AntBev', 'untAnzBevKI', 'obAnzBevKI', 'untAntBevKI', 'obAntBevKI',\n",
       "       'Jahr_str'],\n",
       "      dtype='object')"
      ]
     },
     "execution_count": 32,
     "metadata": {},
     "output_type": "execute_result"
    }
   ],
   "source": [
    "data2betested.columns"
   ]
  },
  {
   "cell_type": "code",
   "execution_count": 37,
   "metadata": {
    "tags": []
   },
   "outputs": [
    {
     "data": {
      "text/html": [
       "<div>\n",
       "<style scoped>\n",
       "    .dataframe tbody tr th:only-of-type {\n",
       "        vertical-align: middle;\n",
       "    }\n",
       "\n",
       "    .dataframe tbody tr th {\n",
       "        vertical-align: top;\n",
       "    }\n",
       "\n",
       "    .dataframe thead th {\n",
       "        text-align: right;\n",
       "    }\n",
       "</style>\n",
       "<table border=\"1\" class=\"dataframe\">\n",
       "  <thead>\n",
       "    <tr style=\"text-align: right;\">\n",
       "      <th></th>\n",
       "      <th>Jahr</th>\n",
       "      <th>Jahr_str</th>\n",
       "      <th>Sprache</th>\n",
       "      <th>sum_AnzBev</th>\n",
       "      <th>mean_AntBev</th>\n",
       "      <th>median_AntBev</th>\n",
       "    </tr>\n",
       "  </thead>\n",
       "  <tbody>\n",
       "    <tr>\n",
       "      <th>0</th>\n",
       "      <td>1860-01-01</td>\n",
       "      <td>1860-01-01</td>\n",
       "      <td>Deutsch</td>\n",
       "      <td>51396</td>\n",
       "      <td>100</td>\n",
       "      <td>100</td>\n",
       "    </tr>\n",
       "    <tr>\n",
       "      <th>1</th>\n",
       "      <td>1860-01-01</td>\n",
       "      <td>1860-01-01</td>\n",
       "      <td>Französisch</td>\n",
       "      <td>147</td>\n",
       "      <td>0</td>\n",
       "      <td>0</td>\n",
       "    </tr>\n",
       "    <tr>\n",
       "      <th>2</th>\n",
       "      <td>1860-01-01</td>\n",
       "      <td>1860-01-01</td>\n",
       "      <td>Italienisch</td>\n",
       "      <td>31</td>\n",
       "      <td>0</td>\n",
       "      <td>0</td>\n",
       "    </tr>\n",
       "  </tbody>\n",
       "</table>\n",
       "</div>"
      ],
      "text/plain": [
       "        Jahr    Jahr_str      Sprache  sum_AnzBev  mean_AntBev  median_AntBev\n",
       "0 1860-01-01  1860-01-01      Deutsch       51396          100            100\n",
       "1 1860-01-01  1860-01-01  Französisch         147            0              0\n",
       "2 1860-01-01  1860-01-01  Italienisch          31            0              0"
      ]
     },
     "execution_count": 37,
     "metadata": {},
     "output_type": "execute_result"
    }
   ],
   "source": [
    "#myAgg = data2betested.loc[\"2008-11-30\":\"2021-10-31\"]\n",
    "myAgg = data2betested.loc[\"1860\":\"2020\"]\\\n",
    "    .groupby(['Jahr', 'Jahr_str', 'Sprache']) \\\n",
    "    .agg(sum_AnzBev=('AnzBev', 'sum')\n",
    "         ,mean_AntBev=('AntBev', 'mean')\n",
    "        ,median_AntBev=('AntBev', 'median')\n",
    "        ) \\\n",
    "    .sort_values('Jahr', ascending=True) \n",
    "\n",
    "myAgg.reset_index().head(3)"
   ]
  },
  {
   "cell_type": "code",
   "execution_count": 42,
   "metadata": {},
   "outputs": [
    {
     "data": {
      "text/html": [
       "\n",
       "<div id=\"altair-viz-3f482da2bc864780b1ae7ed41c90b774\"></div>\n",
       "<script type=\"text/javascript\">\n",
       "  (function(spec, embedOpt){\n",
       "    let outputDiv = document.currentScript.previousElementSibling;\n",
       "    if (outputDiv.id !== \"altair-viz-3f482da2bc864780b1ae7ed41c90b774\") {\n",
       "      outputDiv = document.getElementById(\"altair-viz-3f482da2bc864780b1ae7ed41c90b774\");\n",
       "    }\n",
       "    const paths = {\n",
       "      \"vega\": \"https://cdn.jsdelivr.net/npm//vega@5?noext\",\n",
       "      \"vega-lib\": \"https://cdn.jsdelivr.net/npm//vega-lib?noext\",\n",
       "      \"vega-lite\": \"https://cdn.jsdelivr.net/npm//vega-lite@4.8.1?noext\",\n",
       "      \"vega-embed\": \"https://cdn.jsdelivr.net/npm//vega-embed@6?noext\",\n",
       "    };\n",
       "\n",
       "    function loadScript(lib) {\n",
       "      return new Promise(function(resolve, reject) {\n",
       "        var s = document.createElement('script');\n",
       "        s.src = paths[lib];\n",
       "        s.async = true;\n",
       "        s.onload = () => resolve(paths[lib]);\n",
       "        s.onerror = () => reject(`Error loading script: ${paths[lib]}`);\n",
       "        document.getElementsByTagName(\"head\")[0].appendChild(s);\n",
       "      });\n",
       "    }\n",
       "\n",
       "    function showError(err) {\n",
       "      outputDiv.innerHTML = `<div class=\"error\" style=\"color:red;\">${err}</div>`;\n",
       "      throw err;\n",
       "    }\n",
       "\n",
       "    function displayChart(vegaEmbed) {\n",
       "      vegaEmbed(outputDiv, spec, embedOpt)\n",
       "        .catch(err => showError(`Javascript Error: ${err.message}<br>This usually means there's a typo in your chart specification. See the javascript console for the full traceback.`));\n",
       "    }\n",
       "\n",
       "    if(typeof define === \"function\" && define.amd) {\n",
       "      requirejs.config({paths});\n",
       "      require([\"vega-embed\"], displayChart, err => showError(`Error loading script: ${err.message}`));\n",
       "    } else if (typeof vegaEmbed === \"function\") {\n",
       "      displayChart(vegaEmbed);\n",
       "    } else {\n",
       "      loadScript(\"vega\")\n",
       "        .then(() => loadScript(\"vega-lite\"))\n",
       "        .then(() => loadScript(\"vega-embed\"))\n",
       "        .catch(showError)\n",
       "        .then(() => displayChart(vegaEmbed));\n",
       "    }\n",
       "  })({\"config\": {\"view\": {\"continuousWidth\": 400, \"continuousHeight\": 300}}, \"layer\": [{\"mark\": \"line\", \"encoding\": {\"color\": {\"type\": \"nominal\", \"field\": \"Sprache\", \"legend\": {\"orient\": \"right\", \"title\": \"Hauptsprache\"}}, \"size\": {\"condition\": {\"value\": 0.5, \"selection\": {\"not\": \"selector011\"}}, \"value\": 4}, \"tooltip\": [{\"type\": \"nominal\", \"field\": \"Jahr_str\"}, {\"type\": \"nominal\", \"field\": \"Sprache\"}, {\"type\": \"quantitative\", \"field\": \"sum_AnzBev\"}, {\"type\": \"quantitative\", \"field\": \"mean_AntBev\"}], \"x\": {\"type\": \"temporal\", \"axis\": {\"title\": \"Jahr\"}, \"field\": \"Jahr\"}, \"y\": {\"type\": \"quantitative\", \"axis\": {\"title\": \"Ant. Personen\"}, \"field\": \"sum_AnzBev\"}}, \"selection\": {\"selector012\": {\"type\": \"interval\", \"bind\": \"scales\", \"encodings\": [\"x\", \"y\"]}}, \"title\": \"Anzahl Personen nach Hauptsprachen seit 1860\"}, {\"mark\": \"circle\", \"encoding\": {\"color\": {\"type\": \"nominal\", \"field\": \"Sprache\", \"legend\": {\"orient\": \"right\", \"title\": \"Hauptsprache\"}}, \"opacity\": {\"value\": 0.75}, \"tooltip\": [{\"type\": \"nominal\", \"field\": \"Jahr_str\"}, {\"type\": \"nominal\", \"field\": \"Sprache\"}, {\"type\": \"quantitative\", \"field\": \"sum_AnzBev\"}, {\"type\": \"quantitative\", \"field\": \"mean_AntBev\"}], \"x\": {\"type\": \"temporal\", \"axis\": {\"title\": \"Jahr\"}, \"field\": \"Jahr\"}, \"y\": {\"type\": \"quantitative\", \"axis\": {\"title\": \"Ant. Personen\"}, \"field\": \"sum_AnzBev\"}}, \"height\": 350, \"selection\": {\"selector011\": {\"type\": \"single\", \"on\": \"mouseover\", \"fields\": [\"Sprache\"], \"nearest\": true}}, \"title\": \"Anzahl Personen nach Hauptsprachen seit 1860\", \"width\": 750}], \"data\": {\"name\": \"data-67bbc35c6b2a732f3a843a14f24bf045\"}, \"$schema\": \"https://vega.github.io/schema/vega-lite/v4.8.1.json\", \"datasets\": {\"data-67bbc35c6b2a732f3a843a14f24bf045\": [{\"Jahr\": \"1860-01-01T00:00:00\", \"Jahr_str\": \"1860-01-01\", \"Sprache\": \"Deutsch\", \"sum_AnzBev\": 51396.0, \"mean_AntBev\": 99.6, \"median_AntBev\": 99.6}, {\"Jahr\": \"1860-01-01T00:00:00\", \"Jahr_str\": \"1860-01-01\", \"Sprache\": \"Franz\\u00f6sisch\", \"sum_AnzBev\": 147.0, \"mean_AntBev\": 0.3, \"median_AntBev\": 0.3}, {\"Jahr\": \"1860-01-01T00:00:00\", \"Jahr_str\": \"1860-01-01\", \"Sprache\": \"Italienisch\", \"sum_AnzBev\": 31.0, \"mean_AntBev\": 0.1, \"median_AntBev\": 0.1}, {\"Jahr\": \"1860-01-01T00:00:00\", \"Jahr_str\": \"1860-01-01\", \"Sprache\": \"andSprachen\", \"sum_AnzBev\": 42.0, \"mean_AntBev\": 0.1, \"median_AntBev\": 0.1}, {\"Jahr\": \"1870-01-01T00:00:00\", \"Jahr_str\": \"1870-01-01\", \"Sprache\": \"Deutsch\", \"sum_AnzBev\": 65797.0, \"mean_AntBev\": 99.4, \"median_AntBev\": 99.4}, {\"Jahr\": \"1870-01-01T00:00:00\", \"Jahr_str\": \"1870-01-01\", \"Sprache\": \"Franz\\u00f6sisch\", \"sum_AnzBev\": 278.0, \"mean_AntBev\": 0.4, \"median_AntBev\": 0.4}, {\"Jahr\": \"1870-01-01T00:00:00\", \"Jahr_str\": \"1870-01-01\", \"Sprache\": \"Italienisch\", \"sum_AnzBev\": 52.0, \"mean_AntBev\": 0.1, \"median_AntBev\": 0.1}, {\"Jahr\": \"1870-01-01T00:00:00\", \"Jahr_str\": \"1870-01-01\", \"Sprache\": \"R\\u00e4toromanisch\", \"sum_AnzBev\": 40.0, \"mean_AntBev\": 0.1, \"median_AntBev\": 0.1}, {\"Jahr\": \"1870-01-01T00:00:00\", \"Jahr_str\": \"1870-01-01\", \"Sprache\": \"andSprachen\", \"sum_AnzBev\": 34.0, \"mean_AntBev\": 0.1, \"median_AntBev\": 0.1}, {\"Jahr\": \"1880-01-01T00:00:00\", \"Jahr_str\": \"1880-01-01\", \"Sprache\": \"andSprachen\", \"sum_AnzBev\": 658.0, \"mean_AntBev\": 0.7, \"median_AntBev\": 0.7}, {\"Jahr\": \"1880-01-01T00:00:00\", \"Jahr_str\": \"1880-01-01\", \"Sprache\": \"R\\u00e4toromanisch\", \"sum_AnzBev\": 84.0, \"mean_AntBev\": 0.1, \"median_AntBev\": 0.1}, {\"Jahr\": \"1880-01-01T00:00:00\", \"Jahr_str\": \"1880-01-01\", \"Sprache\": \"Deutsch\", \"sum_AnzBev\": 85429.0, \"mean_AntBev\": 97.2, \"median_AntBev\": 97.2}, {\"Jahr\": \"1880-01-01T00:00:00\", \"Jahr_str\": \"1880-01-01\", \"Sprache\": \"Franz\\u00f6sisch\", \"sum_AnzBev\": 978.0, \"mean_AntBev\": 1.1, \"median_AntBev\": 1.1}, {\"Jahr\": \"1880-01-01T00:00:00\", \"Jahr_str\": \"1880-01-01\", \"Sprache\": \"Italienisch\", \"sum_AnzBev\": 707.0, \"mean_AntBev\": 0.8, \"median_AntBev\": 0.8}, {\"Jahr\": \"1888-01-01T00:00:00\", \"Jahr_str\": \"1888-01-01\", \"Sprache\": \"Deutsch\", \"sum_AnzBev\": 100125.0, \"mean_AntBev\": 96.4, \"median_AntBev\": 96.4}, {\"Jahr\": \"1888-01-01T00:00:00\", \"Jahr_str\": \"1888-01-01\", \"Sprache\": \"Franz\\u00f6sisch\", \"sum_AnzBev\": 1383.0, \"mean_AntBev\": 1.3, \"median_AntBev\": 1.3}, {\"Jahr\": \"1888-01-01T00:00:00\", \"Jahr_str\": \"1888-01-01\", \"Sprache\": \"Italienisch\", \"sum_AnzBev\": 1166.0, \"mean_AntBev\": 1.1, \"median_AntBev\": 1.1}, {\"Jahr\": \"1888-01-01T00:00:00\", \"Jahr_str\": \"1888-01-01\", \"Sprache\": \"R\\u00e4toromanisch\", \"sum_AnzBev\": 152.0, \"mean_AntBev\": 0.1, \"median_AntBev\": 0.1}, {\"Jahr\": \"1888-01-01T00:00:00\", \"Jahr_str\": \"1888-01-01\", \"Sprache\": \"andSprachen\", \"sum_AnzBev\": 1036.0, \"mean_AntBev\": 1.0, \"median_AntBev\": 1.0}, {\"Jahr\": \"1900-01-01T00:00:00\", \"Jahr_str\": \"1900-01-01\", \"Sprache\": \"andSprachen\", \"sum_AnzBev\": 1831.0, \"mean_AntBev\": 1.1, \"median_AntBev\": 1.1}, {\"Jahr\": \"1900-01-01T00:00:00\", \"Jahr_str\": \"1900-01-01\", \"Sprache\": \"Italienisch\", \"sum_AnzBev\": 5443.0, \"mean_AntBev\": 3.2, \"median_AntBev\": 3.2}, {\"Jahr\": \"1900-01-01T00:00:00\", \"Jahr_str\": \"1900-01-01\", \"Sprache\": \"R\\u00e4toromanisch\", \"sum_AnzBev\": 448.0, \"mean_AntBev\": 0.3, \"median_AntBev\": 0.3}, {\"Jahr\": \"1900-01-01T00:00:00\", \"Jahr_str\": \"1900-01-01\", \"Sprache\": \"Deutsch\", \"sum_AnzBev\": 157554.0, \"mean_AntBev\": 93.8, \"median_AntBev\": 93.8}, {\"Jahr\": \"1900-01-01T00:00:00\", \"Jahr_str\": \"1900-01-01\", \"Sprache\": \"Franz\\u00f6sisch\", \"sum_AnzBev\": 2745.0, \"mean_AntBev\": 1.6, \"median_AntBev\": 1.6}, {\"Jahr\": \"1910-01-01T00:00:00\", \"Jahr_str\": \"1910-01-01\", \"Sprache\": \"Deutsch\", \"sum_AnzBev\": 195371.0, \"mean_AntBev\": 90.7, \"median_AntBev\": 90.7}, {\"Jahr\": \"1910-01-01T00:00:00\", \"Jahr_str\": \"1910-01-01\", \"Sprache\": \"Franz\\u00f6sisch\", \"sum_AnzBev\": 3752.0, \"mean_AntBev\": 1.7, \"median_AntBev\": 1.7}, {\"Jahr\": \"1910-01-01T00:00:00\", \"Jahr_str\": \"1910-01-01\", \"Sprache\": \"Italienisch\", \"sum_AnzBev\": 11861.0, \"mean_AntBev\": 5.5, \"median_AntBev\": 5.5}, {\"Jahr\": \"1910-01-01T00:00:00\", \"Jahr_str\": \"1910-01-01\", \"Sprache\": \"R\\u00e4toromanisch\", \"sum_AnzBev\": 450.0, \"mean_AntBev\": 0.2, \"median_AntBev\": 0.2}, {\"Jahr\": \"1910-01-01T00:00:00\", \"Jahr_str\": \"1910-01-01\", \"Sprache\": \"andSprachen\", \"sum_AnzBev\": 4054.0, \"mean_AntBev\": 1.9, \"median_AntBev\": 1.9}, {\"Jahr\": \"1920-01-01T00:00:00\", \"Jahr_str\": \"1920-01-01\", \"Sprache\": \"andSprachen\", \"sum_AnzBev\": 3631.0, \"mean_AntBev\": 1.5, \"median_AntBev\": 1.5}, {\"Jahr\": \"1920-01-01T00:00:00\", \"Jahr_str\": \"1920-01-01\", \"Sprache\": \"Italienisch\", \"sum_AnzBev\": 8154.0, \"mean_AntBev\": 3.5, \"median_AntBev\": 3.5}, {\"Jahr\": \"1920-01-01T00:00:00\", \"Jahr_str\": \"1920-01-01\", \"Sprache\": \"R\\u00e4toromanisch\", \"sum_AnzBev\": 641.0, \"mean_AntBev\": 0.3, \"median_AntBev\": 0.3}, {\"Jahr\": \"1920-01-01T00:00:00\", \"Jahr_str\": \"1920-01-01\", \"Sprache\": \"Deutsch\", \"sum_AnzBev\": 217433.0, \"mean_AntBev\": 92.6, \"median_AntBev\": 92.6}, {\"Jahr\": \"1920-01-01T00:00:00\", \"Jahr_str\": \"1920-01-01\", \"Sprache\": \"Franz\\u00f6sisch\", \"sum_AnzBev\": 4949.0, \"mean_AntBev\": 2.1, \"median_AntBev\": 2.1}, {\"Jahr\": \"1930-01-01T00:00:00\", \"Jahr_str\": \"1930-01-01\", \"Sprache\": \"Deutsch\", \"sum_AnzBev\": 268737.0, \"mean_AntBev\": 92.4, \"median_AntBev\": 92.4}, {\"Jahr\": \"1930-01-01T00:00:00\", \"Jahr_str\": \"1930-01-01\", \"Sprache\": \"Franz\\u00f6sisch\", \"sum_AnzBev\": 7163.0, \"mean_AntBev\": 2.5, \"median_AntBev\": 2.5}, {\"Jahr\": \"1930-01-01T00:00:00\", \"Jahr_str\": \"1930-01-01\", \"Sprache\": \"Italienisch\", \"sum_AnzBev\": 10639.0, \"mean_AntBev\": 3.7, \"median_AntBev\": 3.7}, {\"Jahr\": \"1930-01-01T00:00:00\", \"Jahr_str\": \"1930-01-01\", \"Sprache\": \"R\\u00e4toromanisch\", \"sum_AnzBev\": 1208.0, \"mean_AntBev\": 0.4, \"median_AntBev\": 0.4}, {\"Jahr\": \"1930-01-01T00:00:00\", \"Jahr_str\": \"1930-01-01\", \"Sprache\": \"andSprachen\", \"sum_AnzBev\": 3190.0, \"mean_AntBev\": 1.1, \"median_AntBev\": 1.1}, {\"Jahr\": \"1941-01-01T00:00:00\", \"Jahr_str\": \"1941-01-01\", \"Sprache\": \"R\\u00e4toromanisch\", \"sum_AnzBev\": 1680.0, \"mean_AntBev\": 0.5, \"median_AntBev\": 0.5}, {\"Jahr\": \"1941-01-01T00:00:00\", \"Jahr_str\": \"1941-01-01\", \"Sprache\": \"Deutsch\", \"sum_AnzBev\": 311725.0, \"mean_AntBev\": 92.7, \"median_AntBev\": 92.7}, {\"Jahr\": \"1941-01-01T00:00:00\", \"Jahr_str\": \"1941-01-01\", \"Sprache\": \"Franz\\u00f6sisch\", \"sum_AnzBev\": 9858.0, \"mean_AntBev\": 2.9, \"median_AntBev\": 2.9}, {\"Jahr\": \"1941-01-01T00:00:00\", \"Jahr_str\": \"1941-01-01\", \"Sprache\": \"Italienisch\", \"sum_AnzBev\": 10079.0, \"mean_AntBev\": 3.0, \"median_AntBev\": 3.0}, {\"Jahr\": \"1941-01-01T00:00:00\", \"Jahr_str\": \"1941-01-01\", \"Sprache\": \"andSprachen\", \"sum_AnzBev\": 3053.0, \"mean_AntBev\": 0.9, \"median_AntBev\": 0.9}, {\"Jahr\": \"1950-01-01T00:00:00\", \"Jahr_str\": \"1950-01-01\", \"Sprache\": \"andSprachen\", \"sum_AnzBev\": 5308.0, \"mean_AntBev\": 1.4, \"median_AntBev\": 1.4}, {\"Jahr\": \"1950-01-01T00:00:00\", \"Jahr_str\": \"1950-01-01\", \"Sprache\": \"Italienisch\", \"sum_AnzBev\": 15121.0, \"mean_AntBev\": 3.9, \"median_AntBev\": 3.9}, {\"Jahr\": \"1950-01-01T00:00:00\", \"Jahr_str\": \"1950-01-01\", \"Sprache\": \"R\\u00e4toromanisch\", \"sum_AnzBev\": 2057.0, \"mean_AntBev\": 0.5, \"median_AntBev\": 0.5}, {\"Jahr\": \"1950-01-01T00:00:00\", \"Jahr_str\": \"1950-01-01\", \"Sprache\": \"Franz\\u00f6sisch\", \"sum_AnzBev\": 12063.0, \"mean_AntBev\": 3.1, \"median_AntBev\": 3.1}, {\"Jahr\": \"1950-01-01T00:00:00\", \"Jahr_str\": \"1950-01-01\", \"Sprache\": \"Deutsch\", \"sum_AnzBev\": 355471.0, \"mean_AntBev\": 91.1, \"median_AntBev\": 91.1}, {\"Jahr\": \"1960-01-01T00:00:00\", \"Jahr_str\": \"1960-01-01\", \"Sprache\": \"Deutsch\", \"sum_AnzBev\": 384950.0, \"mean_AntBev\": 87.5, \"median_AntBev\": 87.5}, {\"Jahr\": \"1960-01-01T00:00:00\", \"Jahr_str\": \"1960-01-01\", \"Sprache\": \"Franz\\u00f6sisch\", \"sum_AnzBev\": 12226.0, \"mean_AntBev\": 2.8, \"median_AntBev\": 2.8}, {\"Jahr\": \"1960-01-01T00:00:00\", \"Jahr_str\": \"1960-01-01\", \"Sprache\": \"Italienisch\", \"sum_AnzBev\": 31000.0, \"mean_AntBev\": 7.0, \"median_AntBev\": 7.0}, {\"Jahr\": \"1960-01-01T00:00:00\", \"Jahr_str\": \"1960-01-01\", \"Sprache\": \"R\\u00e4toromanisch\", \"sum_AnzBev\": 2560.0, \"mean_AntBev\": 0.6, \"median_AntBev\": 0.6}, {\"Jahr\": \"1960-01-01T00:00:00\", \"Jahr_str\": \"1960-01-01\", \"Sprache\": \"andSprachen\", \"sum_AnzBev\": 9434.0, \"mean_AntBev\": 2.1, \"median_AntBev\": 2.1}, {\"Jahr\": \"1970-01-01T00:00:00\", \"Jahr_str\": \"1970-01-01\", \"Sprache\": \"andSprachen\", \"sum_AnzBev\": 12811.0, \"mean_AntBev\": 3.0, \"median_AntBev\": 3.0}, {\"Jahr\": \"1970-01-01T00:00:00\", \"Jahr_str\": \"1970-01-01\", \"Sprache\": \"R\\u00e4toromanisch\", \"sum_AnzBev\": 2509.0, \"mean_AntBev\": 0.6, \"median_AntBev\": 0.6}, {\"Jahr\": \"1970-01-01T00:00:00\", \"Jahr_str\": \"1970-01-01\", \"Sprache\": \"Italienisch\", \"sum_AnzBev\": 37776.0, \"mean_AntBev\": 8.9, \"median_AntBev\": 8.9}, {\"Jahr\": \"1970-01-01T00:00:00\", \"Jahr_str\": \"1970-01-01\", \"Sprache\": \"Spanisch\", \"sum_AnzBev\": 8127.0, \"mean_AntBev\": 1.9, \"median_AntBev\": 1.9}, {\"Jahr\": \"1970-01-01T00:00:00\", \"Jahr_str\": \"1970-01-01\", \"Sprache\": \"Englisch\", \"sum_AnzBev\": 1951.0, \"mean_AntBev\": 0.5, \"median_AntBev\": 0.5}, {\"Jahr\": \"1970-01-01T00:00:00\", \"Jahr_str\": \"1970-01-01\", \"Sprache\": \"Deutsch\", \"sum_AnzBev\": 349375.0, \"mean_AntBev\": 82.7, \"median_AntBev\": 82.7}, {\"Jahr\": \"1970-01-01T00:00:00\", \"Jahr_str\": \"1970-01-01\", \"Sprache\": \"Franz\\u00f6sisch\", \"sum_AnzBev\": 10091.0, \"mean_AntBev\": 2.4, \"median_AntBev\": 2.4}, {\"Jahr\": \"1980-01-01T00:00:00\", \"Jahr_str\": \"1980-01-01\", \"Sprache\": \"Deutsch\", \"sum_AnzBev\": 295410.0, \"mean_AntBev\": 79.9, \"median_AntBev\": 79.9}, {\"Jahr\": \"1980-01-01T00:00:00\", \"Jahr_str\": \"1980-01-01\", \"Sprache\": \"Englisch\", \"sum_AnzBev\": 2483.0, \"mean_AntBev\": 0.7, \"median_AntBev\": 0.7}, {\"Jahr\": \"1980-01-01T00:00:00\", \"Jahr_str\": \"1980-01-01\", \"Sprache\": \"Franz\\u00f6sisch\", \"sum_AnzBev\": 8647.0, \"mean_AntBev\": 2.3, \"median_AntBev\": 2.3}, {\"Jahr\": \"1980-01-01T00:00:00\", \"Jahr_str\": \"1980-01-01\", \"Sprache\": \"Italienisch\", \"sum_AnzBev\": 30636.0, \"mean_AntBev\": 8.3, \"median_AntBev\": 8.3}, {\"Jahr\": \"1980-01-01T00:00:00\", \"Jahr_str\": \"1980-01-01\", \"Sprache\": \"R\\u00e4toromanisch\", \"sum_AnzBev\": 2487.0, \"mean_AntBev\": 0.7, \"median_AntBev\": 0.7}, {\"Jahr\": \"1980-01-01T00:00:00\", \"Jahr_str\": \"1980-01-01\", \"Sprache\": \"Spanisch\", \"sum_AnzBev\": 8899.0, \"mean_AntBev\": 2.4, \"median_AntBev\": 2.4}, {\"Jahr\": \"1980-01-01T00:00:00\", \"Jahr_str\": \"1980-01-01\", \"Sprache\": \"andSprachen\", \"sum_AnzBev\": 20960.0, \"mean_AntBev\": 5.7, \"median_AntBev\": 5.7}, {\"Jahr\": \"1990-01-01T00:00:00\", \"Jahr_str\": \"1990-01-01\", \"Sprache\": \"R\\u00e4toromanisch\", \"sum_AnzBev\": 1257.0, \"mean_AntBev\": 0.3, \"median_AntBev\": 0.3}, {\"Jahr\": \"1990-01-01T00:00:00\", \"Jahr_str\": \"1990-01-01\", \"Sprache\": \"andSprachen\", \"sum_AnzBev\": 34486.0, \"mean_AntBev\": 9.4, \"median_AntBev\": 9.4}, {\"Jahr\": \"1990-01-01T00:00:00\", \"Jahr_str\": \"1990-01-01\", \"Sprache\": \"Spanisch\", \"sum_AnzBev\": 10448.0, \"mean_AntBev\": 2.9, \"median_AntBev\": 2.9}, {\"Jahr\": \"1990-01-01T00:00:00\", \"Jahr_str\": \"1990-01-01\", \"Sprache\": \"Italienisch\", \"sum_AnzBev\": 24948.0, \"mean_AntBev\": 6.8, \"median_AntBev\": 6.8}, {\"Jahr\": \"1990-01-01T00:00:00\", \"Jahr_str\": \"1990-01-01\", \"Sprache\": \"Englisch\", \"sum_AnzBev\": 4634.0, \"mean_AntBev\": 1.3, \"median_AntBev\": 1.3}, {\"Jahr\": \"1990-01-01T00:00:00\", \"Jahr_str\": \"1990-01-01\", \"Sprache\": \"Deutsch\", \"sum_AnzBev\": 281317.0, \"mean_AntBev\": 77.1, \"median_AntBev\": 77.1}, {\"Jahr\": \"1990-01-01T00:00:00\", \"Jahr_str\": \"1990-01-01\", \"Sprache\": \"Franz\\u00f6sisch\", \"sum_AnzBev\": 7953.0, \"mean_AntBev\": 2.2, \"median_AntBev\": 2.2}, {\"Jahr\": \"2000-01-01T00:00:00\", \"Jahr_str\": \"2000-01-01\", \"Sprache\": \"Deutsch\", \"sum_AnzBev\": 282277.0, \"mean_AntBev\": 77.7, \"median_AntBev\": 77.7}, {\"Jahr\": \"2000-01-01T00:00:00\", \"Jahr_str\": \"2000-01-01\", \"Sprache\": \"Englisch\", \"sum_AnzBev\": 6702.0, \"mean_AntBev\": 1.8, \"median_AntBev\": 1.8}, {\"Jahr\": \"2000-01-01T00:00:00\", \"Jahr_str\": \"2000-01-01\", \"Sprache\": \"Franz\\u00f6sisch\", \"sum_AnzBev\": 7746.0, \"mean_AntBev\": 2.1, \"median_AntBev\": 2.1}, {\"Jahr\": \"2000-01-01T00:00:00\", \"Jahr_str\": \"2000-01-01\", \"Sprache\": \"Italienisch\", \"sum_AnzBev\": 17063.0, \"mean_AntBev\": 4.7, \"median_AntBev\": 4.7}, {\"Jahr\": \"2000-01-01T00:00:00\", \"Jahr_str\": \"2000-01-01\", \"Sprache\": \"R\\u00e4toromanisch\", \"sum_AnzBev\": 990.0, \"mean_AntBev\": 0.3, \"median_AntBev\": 0.3}, {\"Jahr\": \"2000-01-01T00:00:00\", \"Jahr_str\": \"2000-01-01\", \"Sprache\": \"Spanisch\", \"sum_AnzBev\": 7869.0, \"mean_AntBev\": 2.2, \"median_AntBev\": 2.2}, {\"Jahr\": \"2000-01-01T00:00:00\", \"Jahr_str\": \"2000-01-01\", \"Sprache\": \"andSprachen\", \"sum_AnzBev\": 40626.0, \"mean_AntBev\": 11.2, \"median_AntBev\": 11.2}, {\"Jahr\": \"2010-01-01T00:00:00\", \"Jahr_str\": \"2010-01-01\", \"Sprache\": \"andSprachen\", \"sum_AnzBev\": 44520.0, \"mean_AntBev\": 12.1, \"median_AntBev\": 12.1}, {\"Jahr\": \"2010-01-01T00:00:00\", \"Jahr_str\": \"2010-01-01\", \"Sprache\": \"Spanisch\", \"sum_AnzBev\": 12870.0, \"mean_AntBev\": 3.5, \"median_AntBev\": 3.5}, {\"Jahr\": \"2010-01-01T00:00:00\", \"Jahr_str\": \"2010-01-01\", \"Sprache\": \"Serbisch_Kroatisch\", \"sum_AnzBev\": 14900.0, \"mean_AntBev\": 4.1, \"median_AntBev\": 4.1}, {\"Jahr\": \"2010-01-01T00:00:00\", \"Jahr_str\": \"2010-01-01\", \"Sprache\": \"R\\u00e4toromanisch\", \"sum_AnzBev\": 1590.0, \"mean_AntBev\": 0.4, \"median_AntBev\": 0.4}, {\"Jahr\": \"2010-01-01T00:00:00\", \"Jahr_str\": \"2010-01-01\", \"Sprache\": \"Portugiesisch\", \"sum_AnzBev\": 11010.0, \"mean_AntBev\": 3.0, \"median_AntBev\": 3.0}, {\"Jahr\": \"2010-01-01T00:00:00\", \"Jahr_str\": \"2010-01-01\", \"Sprache\": \"Albanisch\", \"sum_AnzBev\": 9440.0, \"mean_AntBev\": 2.6, \"median_AntBev\": 2.6}, {\"Jahr\": \"2010-01-01T00:00:00\", \"Jahr_str\": \"2010-01-01\", \"Sprache\": \"Franz\\u00f6sisch\", \"sum_AnzBev\": 16870.0, \"mean_AntBev\": 4.6, \"median_AntBev\": 4.6}, {\"Jahr\": \"2010-01-01T00:00:00\", \"Jahr_str\": \"2010-01-01\", \"Sprache\": \"Englisch\", \"sum_AnzBev\": 29910.0, \"mean_AntBev\": 8.1, \"median_AntBev\": 8.1}, {\"Jahr\": \"2010-01-01T00:00:00\", \"Jahr_str\": \"2010-01-01\", \"Sprache\": \"Deutsch\", \"sum_AnzBev\": 294710.0, \"mean_AntBev\": 80.2, \"median_AntBev\": 80.2}, {\"Jahr\": \"2010-01-01T00:00:00\", \"Jahr_str\": \"2010-01-01\", \"Sprache\": \"Italienisch\", \"sum_AnzBev\": 22210.0, \"mean_AntBev\": 6.0, \"median_AntBev\": 6.0}, {\"Jahr\": \"2011-01-01T00:00:00\", \"Jahr_str\": \"2011-01-01\", \"Sprache\": \"Serbisch_Kroatisch\", \"sum_AnzBev\": 13980.0, \"mean_AntBev\": 3.9, \"median_AntBev\": 3.9}, {\"Jahr\": \"2011-01-01T00:00:00\", \"Jahr_str\": \"2011-01-01\", \"Sprache\": \"R\\u00e4toromanisch\", \"sum_AnzBev\": 1120.0, \"mean_AntBev\": 0.3, \"median_AntBev\": 0.3}, {\"Jahr\": \"2011-01-01T00:00:00\", \"Jahr_str\": \"2011-01-01\", \"Sprache\": \"andSprachen\", \"sum_AnzBev\": 40800.0, \"mean_AntBev\": 11.3, \"median_AntBev\": 11.3}, {\"Jahr\": \"2011-01-01T00:00:00\", \"Jahr_str\": \"2011-01-01\", \"Sprache\": \"Spanisch\", \"sum_AnzBev\": 13460.0, \"mean_AntBev\": 3.7, \"median_AntBev\": 3.7}, {\"Jahr\": \"2011-01-01T00:00:00\", \"Jahr_str\": \"2011-01-01\", \"Sprache\": \"Portugiesisch\", \"sum_AnzBev\": 11710.0, \"mean_AntBev\": 3.3, \"median_AntBev\": 3.3}, {\"Jahr\": \"2011-01-01T00:00:00\", \"Jahr_str\": \"2011-01-01\", \"Sprache\": \"Franz\\u00f6sisch\", \"sum_AnzBev\": 16040.0, \"mean_AntBev\": 4.5, \"median_AntBev\": 4.5}, {\"Jahr\": \"2011-01-01T00:00:00\", \"Jahr_str\": \"2011-01-01\", \"Sprache\": \"Englisch\", \"sum_AnzBev\": 29210.0, \"mean_AntBev\": 8.1, \"median_AntBev\": 8.1}, {\"Jahr\": \"2011-01-01T00:00:00\", \"Jahr_str\": \"2011-01-01\", \"Sprache\": \"Deutsch\", \"sum_AnzBev\": 287880.0, \"mean_AntBev\": 79.9, \"median_AntBev\": 79.9}, {\"Jahr\": \"2011-01-01T00:00:00\", \"Jahr_str\": \"2011-01-01\", \"Sprache\": \"Albanisch\", \"sum_AnzBev\": 9880.0, \"mean_AntBev\": 2.7, \"median_AntBev\": 2.7}, {\"Jahr\": \"2011-01-01T00:00:00\", \"Jahr_str\": \"2011-01-01\", \"Sprache\": \"Italienisch\", \"sum_AnzBev\": 21520.0, \"mean_AntBev\": 6.0, \"median_AntBev\": 6.0}, {\"Jahr\": \"2012-01-01T00:00:00\", \"Jahr_str\": \"2012-01-01\", \"Sprache\": \"Portugiesisch\", \"sum_AnzBev\": 12180.0, \"mean_AntBev\": 3.4, \"median_AntBev\": 3.4}, {\"Jahr\": \"2012-01-01T00:00:00\", \"Jahr_str\": \"2012-01-01\", \"Sprache\": \"Albanisch\", \"sum_AnzBev\": 9700.0, \"mean_AntBev\": 2.7, \"median_AntBev\": 2.7}, {\"Jahr\": \"2012-01-01T00:00:00\", \"Jahr_str\": \"2012-01-01\", \"Sprache\": \"Deutsch\", \"sum_AnzBev\": 287260.0, \"mean_AntBev\": 79.4, \"median_AntBev\": 79.4}, {\"Jahr\": \"2012-01-01T00:00:00\", \"Jahr_str\": \"2012-01-01\", \"Sprache\": \"Englisch\", \"sum_AnzBev\": 28270.0, \"mean_AntBev\": 7.8, \"median_AntBev\": 7.8}, {\"Jahr\": \"2012-01-01T00:00:00\", \"Jahr_str\": \"2012-01-01\", \"Sprache\": \"Franz\\u00f6sisch\", \"sum_AnzBev\": 15280.0, \"mean_AntBev\": 4.2, \"median_AntBev\": 4.2}, {\"Jahr\": \"2012-01-01T00:00:00\", \"Jahr_str\": \"2012-01-01\", \"Sprache\": \"Italienisch\", \"sum_AnzBev\": 22900.0, \"mean_AntBev\": 6.3, \"median_AntBev\": 6.3}, {\"Jahr\": \"2012-01-01T00:00:00\", \"Jahr_str\": \"2012-01-01\", \"Sprache\": \"R\\u00e4toromanisch\", \"sum_AnzBev\": 1220.0, \"mean_AntBev\": 0.3, \"median_AntBev\": 0.3}, {\"Jahr\": \"2012-01-01T00:00:00\", \"Jahr_str\": \"2012-01-01\", \"Sprache\": \"Serbisch_Kroatisch\", \"sum_AnzBev\": 14560.0, \"mean_AntBev\": 4.0, \"median_AntBev\": 4.0}, {\"Jahr\": \"2012-01-01T00:00:00\", \"Jahr_str\": \"2012-01-01\", \"Sprache\": \"Spanisch\", \"sum_AnzBev\": 12920.0, \"mean_AntBev\": 3.6, \"median_AntBev\": 3.6}, {\"Jahr\": \"2012-01-01T00:00:00\", \"Jahr_str\": \"2012-01-01\", \"Sprache\": \"andSprachen\", \"sum_AnzBev\": 42940.0, \"mean_AntBev\": 11.9, \"median_AntBev\": 11.9}, {\"Jahr\": \"2013-01-01T00:00:00\", \"Jahr_str\": \"2013-01-01\", \"Sprache\": \"Spanisch\", \"sum_AnzBev\": 12930.0, \"mean_AntBev\": 3.5, \"median_AntBev\": 3.5}, {\"Jahr\": \"2013-01-01T00:00:00\", \"Jahr_str\": \"2013-01-01\", \"Sprache\": \"Italienisch\", \"sum_AnzBev\": 22540.0, \"mean_AntBev\": 6.2, \"median_AntBev\": 6.2}, {\"Jahr\": \"2013-01-01T00:00:00\", \"Jahr_str\": \"2013-01-01\", \"Sprache\": \"Serbisch_Kroatisch\", \"sum_AnzBev\": 14650.0, \"mean_AntBev\": 4.0, \"median_AntBev\": 4.0}, {\"Jahr\": \"2013-01-01T00:00:00\", \"Jahr_str\": \"2013-01-01\", \"Sprache\": \"andSprachen\", \"sum_AnzBev\": 42970.0, \"mean_AntBev\": 11.8, \"median_AntBev\": 11.8}, {\"Jahr\": \"2013-01-01T00:00:00\", \"Jahr_str\": \"2013-01-01\", \"Sprache\": \"R\\u00e4toromanisch\", \"sum_AnzBev\": 1040.0, \"mean_AntBev\": 0.3, \"median_AntBev\": 0.3}, {\"Jahr\": \"2013-01-01T00:00:00\", \"Jahr_str\": \"2013-01-01\", \"Sprache\": \"Albanisch\", \"sum_AnzBev\": 10390.0, \"mean_AntBev\": 2.8, \"median_AntBev\": 2.8}, {\"Jahr\": \"2013-01-01T00:00:00\", \"Jahr_str\": \"2013-01-01\", \"Sprache\": \"Franz\\u00f6sisch\", \"sum_AnzBev\": 16640.0, \"mean_AntBev\": 4.6, \"median_AntBev\": 4.6}, {\"Jahr\": \"2013-01-01T00:00:00\", \"Jahr_str\": \"2013-01-01\", \"Sprache\": \"Englisch\", \"sum_AnzBev\": 30800.0, \"mean_AntBev\": 8.4, \"median_AntBev\": 8.4}, {\"Jahr\": \"2013-01-01T00:00:00\", \"Jahr_str\": \"2013-01-01\", \"Sprache\": \"Deutsch\", \"sum_AnzBev\": 288120.0, \"mean_AntBev\": 79.0, \"median_AntBev\": 79.0}, {\"Jahr\": \"2013-01-01T00:00:00\", \"Jahr_str\": \"2013-01-01\", \"Sprache\": \"Portugiesisch\", \"sum_AnzBev\": 10820.0, \"mean_AntBev\": 3.0, \"median_AntBev\": 3.0}, {\"Jahr\": \"2014-01-01T00:00:00\", \"Jahr_str\": \"2014-01-01\", \"Sprache\": \"andSprachen\", \"sum_AnzBev\": 47640.0, \"mean_AntBev\": 12.8, \"median_AntBev\": 12.8}, {\"Jahr\": \"2014-01-01T00:00:00\", \"Jahr_str\": \"2014-01-01\", \"Sprache\": \"R\\u00e4toromanisch\", \"sum_AnzBev\": 1270.0, \"mean_AntBev\": 0.3, \"median_AntBev\": 0.3}, {\"Jahr\": \"2014-01-01T00:00:00\", \"Jahr_str\": \"2014-01-01\", \"Sprache\": \"Spanisch\", \"sum_AnzBev\": 14250.0, \"mean_AntBev\": 3.8, \"median_AntBev\": 3.8}, {\"Jahr\": \"2014-01-01T00:00:00\", \"Jahr_str\": \"2014-01-01\", \"Sprache\": \"Serbisch_Kroatisch\", \"sum_AnzBev\": 15360.0, \"mean_AntBev\": 4.1, \"median_AntBev\": 4.1}, {\"Jahr\": \"2014-01-01T00:00:00\", \"Jahr_str\": \"2014-01-01\", \"Sprache\": \"Portugiesisch\", \"sum_AnzBev\": 11820.0, \"mean_AntBev\": 3.2, \"median_AntBev\": 3.2}, {\"Jahr\": \"2014-01-01T00:00:00\", \"Jahr_str\": \"2014-01-01\", \"Sprache\": \"Albanisch\", \"sum_AnzBev\": 11350.0, \"mean_AntBev\": 3.1, \"median_AntBev\": 3.1}, {\"Jahr\": \"2014-01-01T00:00:00\", \"Jahr_str\": \"2014-01-01\", \"Sprache\": \"Franz\\u00f6sisch\", \"sum_AnzBev\": 16730.0, \"mean_AntBev\": 4.5, \"median_AntBev\": 4.5}, {\"Jahr\": \"2014-01-01T00:00:00\", \"Jahr_str\": \"2014-01-01\", \"Sprache\": \"Englisch\", \"sum_AnzBev\": 32590.0, \"mean_AntBev\": 8.8, \"median_AntBev\": 8.8}, {\"Jahr\": \"2014-01-01T00:00:00\", \"Jahr_str\": \"2014-01-01\", \"Sprache\": \"Deutsch\", \"sum_AnzBev\": 290810.0, \"mean_AntBev\": 78.2, \"median_AntBev\": 78.2}, {\"Jahr\": \"2014-01-01T00:00:00\", \"Jahr_str\": \"2014-01-01\", \"Sprache\": \"Italienisch\", \"sum_AnzBev\": 23620.0, \"mean_AntBev\": 6.4, \"median_AntBev\": 6.4}, {\"Jahr\": \"2015-01-01T00:00:00\", \"Jahr_str\": \"2015-01-01\", \"Sprache\": \"R\\u00e4toromanisch\", \"sum_AnzBev\": 1270.0, \"mean_AntBev\": 0.3, \"median_AntBev\": 0.3}, {\"Jahr\": \"2015-01-01T00:00:00\", \"Jahr_str\": \"2015-01-01\", \"Sprache\": \"Spanisch\", \"sum_AnzBev\": 14770.0, \"mean_AntBev\": 3.9, \"median_AntBev\": 3.9}, {\"Jahr\": \"2015-01-01T00:00:00\", \"Jahr_str\": \"2015-01-01\", \"Sprache\": \"Serbisch_Kroatisch\", \"sum_AnzBev\": 14250.0, \"mean_AntBev\": 3.8, \"median_AntBev\": 3.8}, {\"Jahr\": \"2015-01-01T00:00:00\", \"Jahr_str\": \"2015-01-01\", \"Sprache\": \"Portugiesisch\", \"sum_AnzBev\": 12230.0, \"mean_AntBev\": 3.2, \"median_AntBev\": 3.2}, {\"Jahr\": \"2015-01-01T00:00:00\", \"Jahr_str\": \"2015-01-01\", \"Sprache\": \"andSprachen\", \"sum_AnzBev\": 48120.0, \"mean_AntBev\": 12.7, \"median_AntBev\": 12.7}, {\"Jahr\": \"2015-01-01T00:00:00\", \"Jahr_str\": \"2015-01-01\", \"Sprache\": \"Franz\\u00f6sisch\", \"sum_AnzBev\": 15820.0, \"mean_AntBev\": 4.2, \"median_AntBev\": 4.2}, {\"Jahr\": \"2015-01-01T00:00:00\", \"Jahr_str\": \"2015-01-01\", \"Sprache\": \"Englisch\", \"sum_AnzBev\": 37300.0, \"mean_AntBev\": 9.9, \"median_AntBev\": 9.9}, {\"Jahr\": \"2015-01-01T00:00:00\", \"Jahr_str\": \"2015-01-01\", \"Sprache\": \"Deutsch\", \"sum_AnzBev\": 296420.0, \"mean_AntBev\": 78.5, \"median_AntBev\": 78.5}, {\"Jahr\": \"2015-01-01T00:00:00\", \"Jahr_str\": \"2015-01-01\", \"Sprache\": \"Albanisch\", \"sum_AnzBev\": 10860.0, \"mean_AntBev\": 2.9, \"median_AntBev\": 2.9}, {\"Jahr\": \"2015-01-01T00:00:00\", \"Jahr_str\": \"2015-01-01\", \"Sprache\": \"Italienisch\", \"sum_AnzBev\": 23580.0, \"mean_AntBev\": 6.2, \"median_AntBev\": 6.2}, {\"Jahr\": \"2016-01-01T00:00:00\", \"Jahr_str\": \"2016-01-01\", \"Sprache\": \"andSprachen\", \"sum_AnzBev\": 51470.0, \"mean_AntBev\": 13.4, \"median_AntBev\": 13.4}, {\"Jahr\": \"2016-01-01T00:00:00\", \"Jahr_str\": \"2016-01-01\", \"Sprache\": \"Spanisch\", \"sum_AnzBev\": 15710.0, \"mean_AntBev\": 4.1, \"median_AntBev\": 4.1}, {\"Jahr\": \"2016-01-01T00:00:00\", \"Jahr_str\": \"2016-01-01\", \"Sprache\": \"Serbisch_Kroatisch\", \"sum_AnzBev\": 14520.0, \"mean_AntBev\": 3.8, \"median_AntBev\": 3.8}, {\"Jahr\": \"2016-01-01T00:00:00\", \"Jahr_str\": \"2016-01-01\", \"Sprache\": \"R\\u00e4toromanisch\", \"sum_AnzBev\": 1080.0, \"mean_AntBev\": 0.3, \"median_AntBev\": 0.3}, {\"Jahr\": \"2016-01-01T00:00:00\", \"Jahr_str\": \"2016-01-01\", \"Sprache\": \"Portugiesisch\", \"sum_AnzBev\": 11570.0, \"mean_AntBev\": 3.0, \"median_AntBev\": 3.0}, {\"Jahr\": \"2016-01-01T00:00:00\", \"Jahr_str\": \"2016-01-01\", \"Sprache\": \"Englisch\", \"sum_AnzBev\": 38040.0, \"mean_AntBev\": 9.9, \"median_AntBev\": 9.9}, {\"Jahr\": \"2016-01-01T00:00:00\", \"Jahr_str\": \"2016-01-01\", \"Sprache\": \"Franz\\u00f6sisch\", \"sum_AnzBev\": 18170.0, \"mean_AntBev\": 4.7, \"median_AntBev\": 4.7}, {\"Jahr\": \"2016-01-01T00:00:00\", \"Jahr_str\": \"2016-01-01\", \"Sprache\": \"Albanisch\", \"sum_AnzBev\": 10770.0, \"mean_AntBev\": 2.8, \"median_AntBev\": 2.8}, {\"Jahr\": \"2016-01-01T00:00:00\", \"Jahr_str\": \"2016-01-01\", \"Sprache\": \"Italienisch\", \"sum_AnzBev\": 23020.0, \"mean_AntBev\": 6.0, \"median_AntBev\": 6.0}, {\"Jahr\": \"2016-01-01T00:00:00\", \"Jahr_str\": \"2016-01-01\", \"Sprache\": \"Deutsch\", \"sum_AnzBev\": 297430.0, \"mean_AntBev\": 77.7, \"median_AntBev\": 77.7}, {\"Jahr\": \"2017-01-01T00:00:00\", \"Jahr_str\": \"2017-01-01\", \"Sprache\": \"Albanisch\", \"sum_AnzBev\": 10570.0, \"mean_AntBev\": 2.7, \"median_AntBev\": 2.7}, {\"Jahr\": \"2017-01-01T00:00:00\", \"Jahr_str\": \"2017-01-01\", \"Sprache\": \"Deutsch\", \"sum_AnzBev\": 305530.0, \"mean_AntBev\": 78.4, \"median_AntBev\": 78.4}, {\"Jahr\": \"2017-01-01T00:00:00\", \"Jahr_str\": \"2017-01-01\", \"Sprache\": \"Englisch\", \"sum_AnzBev\": 41180.0, \"mean_AntBev\": 10.6, \"median_AntBev\": 10.6}, {\"Jahr\": \"2017-01-01T00:00:00\", \"Jahr_str\": \"2017-01-01\", \"Sprache\": \"Franz\\u00f6sisch\", \"sum_AnzBev\": 16680.0, \"mean_AntBev\": 4.3, \"median_AntBev\": 4.3}, {\"Jahr\": \"2017-01-01T00:00:00\", \"Jahr_str\": \"2017-01-01\", \"Sprache\": \"Italienisch\", \"sum_AnzBev\": 22620.0, \"mean_AntBev\": 5.8, \"median_AntBev\": 5.8}, {\"Jahr\": \"2017-01-01T00:00:00\", \"Jahr_str\": \"2017-01-01\", \"Sprache\": \"R\\u00e4toromanisch\", \"sum_AnzBev\": 1810.0, \"mean_AntBev\": 0.5, \"median_AntBev\": 0.5}, {\"Jahr\": \"2017-01-01T00:00:00\", \"Jahr_str\": \"2017-01-01\", \"Sprache\": \"Serbisch_Kroatisch\", \"sum_AnzBev\": 14390.0, \"mean_AntBev\": 3.7, \"median_AntBev\": 3.7}, {\"Jahr\": \"2017-01-01T00:00:00\", \"Jahr_str\": \"2017-01-01\", \"Sprache\": \"Spanisch\", \"sum_AnzBev\": 16020.0, \"mean_AntBev\": 4.1, \"median_AntBev\": 4.1}, {\"Jahr\": \"2017-01-01T00:00:00\", \"Jahr_str\": \"2017-01-01\", \"Sprache\": \"andSprachen\", \"sum_AnzBev\": 50430.0, \"mean_AntBev\": 12.9, \"median_AntBev\": 12.9}, {\"Jahr\": \"2017-01-01T00:00:00\", \"Jahr_str\": \"2017-01-01\", \"Sprache\": \"Portugiesisch\", \"sum_AnzBev\": 12090.0, \"mean_AntBev\": 3.1, \"median_AntBev\": 3.1}, {\"Jahr\": \"2018-01-01T00:00:00\", \"Jahr_str\": \"2018-01-01\", \"Sprache\": \"andSprachen\", \"sum_AnzBev\": 53800.0, \"mean_AntBev\": 13.5, \"median_AntBev\": 13.5}, {\"Jahr\": \"2018-01-01T00:00:00\", \"Jahr_str\": \"2018-01-01\", \"Sprache\": \"Portugiesisch\", \"sum_AnzBev\": 11160.0, \"mean_AntBev\": 2.8, \"median_AntBev\": 2.8}, {\"Jahr\": \"2018-01-01T00:00:00\", \"Jahr_str\": \"2018-01-01\", \"Sprache\": \"Spanisch\", \"sum_AnzBev\": 16370.0, \"mean_AntBev\": 4.1, \"median_AntBev\": 4.1}, {\"Jahr\": \"2018-01-01T00:00:00\", \"Jahr_str\": \"2018-01-01\", \"Sprache\": \"Serbisch_Kroatisch\", \"sum_AnzBev\": 13290.0, \"mean_AntBev\": 3.3, \"median_AntBev\": 3.3}, {\"Jahr\": \"2018-01-01T00:00:00\", \"Jahr_str\": \"2018-01-01\", \"Sprache\": \"R\\u00e4toromanisch\", \"sum_AnzBev\": 1310.0, \"mean_AntBev\": 0.3, \"median_AntBev\": 0.3}, {\"Jahr\": \"2018-01-01T00:00:00\", \"Jahr_str\": \"2018-01-01\", \"Sprache\": \"Italienisch\", \"sum_AnzBev\": 24340.0, \"mean_AntBev\": 6.1, \"median_AntBev\": 6.1}, {\"Jahr\": \"2018-01-01T00:00:00\", \"Jahr_str\": \"2018-01-01\", \"Sprache\": \"Englisch\", \"sum_AnzBev\": 44930.0, \"mean_AntBev\": 11.3, \"median_AntBev\": 11.3}, {\"Jahr\": \"2018-01-01T00:00:00\", \"Jahr_str\": \"2018-01-01\", \"Sprache\": \"Deutsch\", \"sum_AnzBev\": 305500.0, \"mean_AntBev\": 76.6, \"median_AntBev\": 76.6}, {\"Jahr\": \"2018-01-01T00:00:00\", \"Jahr_str\": \"2018-01-01\", \"Sprache\": \"Albanisch\", \"sum_AnzBev\": 9600.0, \"mean_AntBev\": 2.4, \"median_AntBev\": 2.4}, {\"Jahr\": \"2018-01-01T00:00:00\", \"Jahr_str\": \"2018-01-01\", \"Sprache\": \"Franz\\u00f6sisch\", \"sum_AnzBev\": 18320.0, \"mean_AntBev\": 4.6, \"median_AntBev\": 4.6}, {\"Jahr\": \"2019-01-01T00:00:00\", \"Jahr_str\": \"2019-01-01\", \"Sprache\": \"andSprachen\", \"sum_AnzBev\": 55460.0, \"mean_AntBev\": 13.7, \"median_AntBev\": 13.7}, {\"Jahr\": \"2019-01-01T00:00:00\", \"Jahr_str\": \"2019-01-01\", \"Sprache\": \"Spanisch\", \"sum_AnzBev\": 16360.0, \"mean_AntBev\": 4.0, \"median_AntBev\": 4.0}, {\"Jahr\": \"2019-01-01T00:00:00\", \"Jahr_str\": \"2019-01-01\", \"Sprache\": \"Serbisch_Kroatisch\", \"sum_AnzBev\": 13060.0, \"mean_AntBev\": 3.2, \"median_AntBev\": 3.2}, {\"Jahr\": \"2019-01-01T00:00:00\", \"Jahr_str\": \"2019-01-01\", \"Sprache\": \"R\\u00e4toromanisch\", \"sum_AnzBev\": 1130.0, \"mean_AntBev\": 0.3, \"median_AntBev\": 0.3}, {\"Jahr\": \"2019-01-01T00:00:00\", \"Jahr_str\": \"2019-01-01\", \"Sprache\": \"Portugiesisch\", \"sum_AnzBev\": 10610.0, \"mean_AntBev\": 2.6, \"median_AntBev\": 2.6}, {\"Jahr\": \"2019-01-01T00:00:00\", \"Jahr_str\": \"2019-01-01\", \"Sprache\": \"Italienisch\", \"sum_AnzBev\": 25180.0, \"mean_AntBev\": 6.2, \"median_AntBev\": 6.2}, {\"Jahr\": \"2019-01-01T00:00:00\", \"Jahr_str\": \"2019-01-01\", \"Sprache\": \"Englisch\", \"sum_AnzBev\": 46000.0, \"mean_AntBev\": 11.4, \"median_AntBev\": 11.4}, {\"Jahr\": \"2019-01-01T00:00:00\", \"Jahr_str\": \"2019-01-01\", \"Sprache\": \"Deutsch\", \"sum_AnzBev\": 306420.0, \"mean_AntBev\": 75.8, \"median_AntBev\": 75.8}, {\"Jahr\": \"2019-01-01T00:00:00\", \"Jahr_str\": \"2019-01-01\", \"Sprache\": \"Albanisch\", \"sum_AnzBev\": 9960.0, \"mean_AntBev\": 2.5, \"median_AntBev\": 2.5}, {\"Jahr\": \"2019-01-01T00:00:00\", \"Jahr_str\": \"2019-01-01\", \"Sprache\": \"Franz\\u00f6sisch\", \"sum_AnzBev\": 18970.0, \"mean_AntBev\": 4.7, \"median_AntBev\": 4.7}, {\"Jahr\": \"2020-01-01T00:00:00\", \"Jahr_str\": \"2020-01-01\", \"Sprache\": \"Portugiesisch\", \"sum_AnzBev\": 11280.0, \"mean_AntBev\": 2.8, \"median_AntBev\": 2.8}, {\"Jahr\": \"2020-01-01T00:00:00\", \"Jahr_str\": \"2020-01-01\", \"Sprache\": \"Serbisch_Kroatisch\", \"sum_AnzBev\": 11640.0, \"mean_AntBev\": 2.9, \"median_AntBev\": 2.9}, {\"Jahr\": \"2020-01-01T00:00:00\", \"Jahr_str\": \"2020-01-01\", \"Sprache\": \"R\\u00e4toromanisch\", \"sum_AnzBev\": 1320.0, \"mean_AntBev\": 0.3, \"median_AntBev\": 0.3}, {\"Jahr\": \"2020-01-01T00:00:00\", \"Jahr_str\": \"2020-01-01\", \"Sprache\": \"Italienisch\", \"sum_AnzBev\": 23900.0, \"mean_AntBev\": 5.9, \"median_AntBev\": 5.9}, {\"Jahr\": \"2020-01-01T00:00:00\", \"Jahr_str\": \"2020-01-01\", \"Sprache\": \"Spanisch\", \"sum_AnzBev\": 16820.0, \"mean_AntBev\": 4.1, \"median_AntBev\": 4.1}, {\"Jahr\": \"2020-01-01T00:00:00\", \"Jahr_str\": \"2020-01-01\", \"Sprache\": \"Englisch\", \"sum_AnzBev\": 49540.0, \"mean_AntBev\": 12.2, \"median_AntBev\": 12.2}, {\"Jahr\": \"2020-01-01T00:00:00\", \"Jahr_str\": \"2020-01-01\", \"Sprache\": \"Deutsch\", \"sum_AnzBev\": 309550.0, \"mean_AntBev\": 76.2, \"median_AntBev\": 76.2}, {\"Jahr\": \"2020-01-01T00:00:00\", \"Jahr_str\": \"2020-01-01\", \"Sprache\": \"Albanisch\", \"sum_AnzBev\": 9220.0, \"mean_AntBev\": 2.3, \"median_AntBev\": 2.3}, {\"Jahr\": \"2020-01-01T00:00:00\", \"Jahr_str\": \"2020-01-01\", \"Sprache\": \"Franz\\u00f6sisch\", \"sum_AnzBev\": 17400.0, \"mean_AntBev\": 4.3, \"median_AntBev\": 4.3}, {\"Jahr\": \"2020-01-01T00:00:00\", \"Jahr_str\": \"2020-01-01\", \"Sprache\": \"andSprachen\", \"sum_AnzBev\": 55680.0, \"mean_AntBev\": 13.7, \"median_AntBev\": 13.7}]}}, {\"mode\": \"vega-lite\"});\n",
       "</script>"
      ],
      "text/plain": [
       "alt.LayerChart(...)"
      ]
     },
     "execution_count": 42,
     "metadata": {},
     "output_type": "execute_result"
    }
   ],
   "source": [
    "myTitle=\"Anzahl Personen nach Hauptsprachen seit 1860\"\n",
    "\n",
    "highlight = alt.selection(type='single', on='mouseover',\n",
    "                          fields=['Sprache'], nearest=True)\n",
    "#x='date:StichtagDatJahr',\n",
    "base = alt.Chart(myAgg.reset_index().query('mean_AntBev>0'), title=myTitle).encode(\n",
    "    x=alt.X('Jahr', axis=alt.Axis(title='Jahr'))# , axis=alt.Axis(format='%', title='percentage')\n",
    "    , y=alt.X('sum_AnzBev', axis=alt.Axis(title='Anz. Personen'))\n",
    "    , color=alt.Color('Sprache', legend=alt.Legend(title=\"Hauptsprache\", orient=\"right\"))  \n",
    "    ,tooltip=['Jahr_str', 'Sprache','sum_AnzBev','mean_AntBev']    \n",
    ")\n",
    "points = base.mark_circle().encode(\n",
    "    opacity=alt.value(0.75)\n",
    ").add_selection(\n",
    "    highlight\n",
    ").properties(\n",
    "    width=750 , height=350\n",
    ")\n",
    "lines = base.mark_line().encode(\n",
    "    size=alt.condition(~highlight, alt.value(0.5), alt.value(4))\n",
    ").interactive()\n",
    "\n",
    "lines + points"
   ]
  },
  {
   "cell_type": "code",
   "execution_count": 43,
   "metadata": {},
   "outputs": [
    {
     "data": {
      "text/html": [
       "\n",
       "<div id=\"altair-viz-937e981404694ce79119a1e49d31d76b\"></div>\n",
       "<script type=\"text/javascript\">\n",
       "  (function(spec, embedOpt){\n",
       "    let outputDiv = document.currentScript.previousElementSibling;\n",
       "    if (outputDiv.id !== \"altair-viz-937e981404694ce79119a1e49d31d76b\") {\n",
       "      outputDiv = document.getElementById(\"altair-viz-937e981404694ce79119a1e49d31d76b\");\n",
       "    }\n",
       "    const paths = {\n",
       "      \"vega\": \"https://cdn.jsdelivr.net/npm//vega@5?noext\",\n",
       "      \"vega-lib\": \"https://cdn.jsdelivr.net/npm//vega-lib?noext\",\n",
       "      \"vega-lite\": \"https://cdn.jsdelivr.net/npm//vega-lite@4.8.1?noext\",\n",
       "      \"vega-embed\": \"https://cdn.jsdelivr.net/npm//vega-embed@6?noext\",\n",
       "    };\n",
       "\n",
       "    function loadScript(lib) {\n",
       "      return new Promise(function(resolve, reject) {\n",
       "        var s = document.createElement('script');\n",
       "        s.src = paths[lib];\n",
       "        s.async = true;\n",
       "        s.onload = () => resolve(paths[lib]);\n",
       "        s.onerror = () => reject(`Error loading script: ${paths[lib]}`);\n",
       "        document.getElementsByTagName(\"head\")[0].appendChild(s);\n",
       "      });\n",
       "    }\n",
       "\n",
       "    function showError(err) {\n",
       "      outputDiv.innerHTML = `<div class=\"error\" style=\"color:red;\">${err}</div>`;\n",
       "      throw err;\n",
       "    }\n",
       "\n",
       "    function displayChart(vegaEmbed) {\n",
       "      vegaEmbed(outputDiv, spec, embedOpt)\n",
       "        .catch(err => showError(`Javascript Error: ${err.message}<br>This usually means there's a typo in your chart specification. See the javascript console for the full traceback.`));\n",
       "    }\n",
       "\n",
       "    if(typeof define === \"function\" && define.amd) {\n",
       "      requirejs.config({paths});\n",
       "      require([\"vega-embed\"], displayChart, err => showError(`Error loading script: ${err.message}`));\n",
       "    } else if (typeof vegaEmbed === \"function\") {\n",
       "      displayChart(vegaEmbed);\n",
       "    } else {\n",
       "      loadScript(\"vega\")\n",
       "        .then(() => loadScript(\"vega-lite\"))\n",
       "        .then(() => loadScript(\"vega-embed\"))\n",
       "        .catch(showError)\n",
       "        .then(() => displayChart(vegaEmbed));\n",
       "    }\n",
       "  })({\"config\": {\"view\": {\"continuousWidth\": 400, \"continuousHeight\": 300}}, \"layer\": [{\"mark\": \"line\", \"encoding\": {\"color\": {\"type\": \"nominal\", \"field\": \"Sprache\", \"legend\": {\"orient\": \"right\", \"title\": \"Hauptsprache\"}}, \"size\": {\"condition\": {\"value\": 0.5, \"selection\": {\"not\": \"selector013\"}}, \"value\": 4}, \"tooltip\": [{\"type\": \"nominal\", \"field\": \"Jahr_str\"}, {\"type\": \"nominal\", \"field\": \"Sprache\"}, {\"type\": \"quantitative\", \"field\": \"sum_AnzBev\"}, {\"type\": \"quantitative\", \"field\": \"mean_AntBev\"}], \"x\": {\"type\": \"temporal\", \"axis\": {\"title\": \"Jahr\"}, \"field\": \"Jahr\"}, \"y\": {\"type\": \"quantitative\", \"axis\": {\"title\": \"Ant. Personen\"}, \"field\": \"mean_AntBev\"}}, \"selection\": {\"selector014\": {\"type\": \"interval\", \"bind\": \"scales\", \"encodings\": [\"x\", \"y\"]}}, \"title\": \"Anteil Personen nach Hauptsprachen seit 1860\"}, {\"mark\": \"circle\", \"encoding\": {\"color\": {\"type\": \"nominal\", \"field\": \"Sprache\", \"legend\": {\"orient\": \"right\", \"title\": \"Hauptsprache\"}}, \"opacity\": {\"value\": 0.75}, \"tooltip\": [{\"type\": \"nominal\", \"field\": \"Jahr_str\"}, {\"type\": \"nominal\", \"field\": \"Sprache\"}, {\"type\": \"quantitative\", \"field\": \"sum_AnzBev\"}, {\"type\": \"quantitative\", \"field\": \"mean_AntBev\"}], \"x\": {\"type\": \"temporal\", \"axis\": {\"title\": \"Jahr\"}, \"field\": \"Jahr\"}, \"y\": {\"type\": \"quantitative\", \"axis\": {\"title\": \"Ant. Personen\"}, \"field\": \"mean_AntBev\"}}, \"height\": 350, \"selection\": {\"selector013\": {\"type\": \"single\", \"on\": \"mouseover\", \"fields\": [\"Sprache\"], \"nearest\": true}}, \"title\": \"Anteil Personen nach Hauptsprachen seit 1860\", \"width\": 750}], \"data\": {\"name\": \"data-67bbc35c6b2a732f3a843a14f24bf045\"}, \"$schema\": \"https://vega.github.io/schema/vega-lite/v4.8.1.json\", \"datasets\": {\"data-67bbc35c6b2a732f3a843a14f24bf045\": [{\"Jahr\": \"1860-01-01T00:00:00\", \"Jahr_str\": \"1860-01-01\", \"Sprache\": \"Deutsch\", \"sum_AnzBev\": 51396.0, \"mean_AntBev\": 99.6, \"median_AntBev\": 99.6}, {\"Jahr\": \"1860-01-01T00:00:00\", \"Jahr_str\": \"1860-01-01\", \"Sprache\": \"Franz\\u00f6sisch\", \"sum_AnzBev\": 147.0, \"mean_AntBev\": 0.3, \"median_AntBev\": 0.3}, {\"Jahr\": \"1860-01-01T00:00:00\", \"Jahr_str\": \"1860-01-01\", \"Sprache\": \"Italienisch\", \"sum_AnzBev\": 31.0, \"mean_AntBev\": 0.1, \"median_AntBev\": 0.1}, {\"Jahr\": \"1860-01-01T00:00:00\", \"Jahr_str\": \"1860-01-01\", \"Sprache\": \"andSprachen\", \"sum_AnzBev\": 42.0, \"mean_AntBev\": 0.1, \"median_AntBev\": 0.1}, {\"Jahr\": \"1870-01-01T00:00:00\", \"Jahr_str\": \"1870-01-01\", \"Sprache\": \"Deutsch\", \"sum_AnzBev\": 65797.0, \"mean_AntBev\": 99.4, \"median_AntBev\": 99.4}, {\"Jahr\": \"1870-01-01T00:00:00\", \"Jahr_str\": \"1870-01-01\", \"Sprache\": \"Franz\\u00f6sisch\", \"sum_AnzBev\": 278.0, \"mean_AntBev\": 0.4, \"median_AntBev\": 0.4}, {\"Jahr\": \"1870-01-01T00:00:00\", \"Jahr_str\": \"1870-01-01\", \"Sprache\": \"Italienisch\", \"sum_AnzBev\": 52.0, \"mean_AntBev\": 0.1, \"median_AntBev\": 0.1}, {\"Jahr\": \"1870-01-01T00:00:00\", \"Jahr_str\": \"1870-01-01\", \"Sprache\": \"R\\u00e4toromanisch\", \"sum_AnzBev\": 40.0, \"mean_AntBev\": 0.1, \"median_AntBev\": 0.1}, {\"Jahr\": \"1870-01-01T00:00:00\", \"Jahr_str\": \"1870-01-01\", \"Sprache\": \"andSprachen\", \"sum_AnzBev\": 34.0, \"mean_AntBev\": 0.1, \"median_AntBev\": 0.1}, {\"Jahr\": \"1880-01-01T00:00:00\", \"Jahr_str\": \"1880-01-01\", \"Sprache\": \"andSprachen\", \"sum_AnzBev\": 658.0, \"mean_AntBev\": 0.7, \"median_AntBev\": 0.7}, {\"Jahr\": \"1880-01-01T00:00:00\", \"Jahr_str\": \"1880-01-01\", \"Sprache\": \"R\\u00e4toromanisch\", \"sum_AnzBev\": 84.0, \"mean_AntBev\": 0.1, \"median_AntBev\": 0.1}, {\"Jahr\": \"1880-01-01T00:00:00\", \"Jahr_str\": \"1880-01-01\", \"Sprache\": \"Deutsch\", \"sum_AnzBev\": 85429.0, \"mean_AntBev\": 97.2, \"median_AntBev\": 97.2}, {\"Jahr\": \"1880-01-01T00:00:00\", \"Jahr_str\": \"1880-01-01\", \"Sprache\": \"Franz\\u00f6sisch\", \"sum_AnzBev\": 978.0, \"mean_AntBev\": 1.1, \"median_AntBev\": 1.1}, {\"Jahr\": \"1880-01-01T00:00:00\", \"Jahr_str\": \"1880-01-01\", \"Sprache\": \"Italienisch\", \"sum_AnzBev\": 707.0, \"mean_AntBev\": 0.8, \"median_AntBev\": 0.8}, {\"Jahr\": \"1888-01-01T00:00:00\", \"Jahr_str\": \"1888-01-01\", \"Sprache\": \"Deutsch\", \"sum_AnzBev\": 100125.0, \"mean_AntBev\": 96.4, \"median_AntBev\": 96.4}, {\"Jahr\": \"1888-01-01T00:00:00\", \"Jahr_str\": \"1888-01-01\", \"Sprache\": \"Franz\\u00f6sisch\", \"sum_AnzBev\": 1383.0, \"mean_AntBev\": 1.3, \"median_AntBev\": 1.3}, {\"Jahr\": \"1888-01-01T00:00:00\", \"Jahr_str\": \"1888-01-01\", \"Sprache\": \"Italienisch\", \"sum_AnzBev\": 1166.0, \"mean_AntBev\": 1.1, \"median_AntBev\": 1.1}, {\"Jahr\": \"1888-01-01T00:00:00\", \"Jahr_str\": \"1888-01-01\", \"Sprache\": \"R\\u00e4toromanisch\", \"sum_AnzBev\": 152.0, \"mean_AntBev\": 0.1, \"median_AntBev\": 0.1}, {\"Jahr\": \"1888-01-01T00:00:00\", \"Jahr_str\": \"1888-01-01\", \"Sprache\": \"andSprachen\", \"sum_AnzBev\": 1036.0, \"mean_AntBev\": 1.0, \"median_AntBev\": 1.0}, {\"Jahr\": \"1900-01-01T00:00:00\", \"Jahr_str\": \"1900-01-01\", \"Sprache\": \"andSprachen\", \"sum_AnzBev\": 1831.0, \"mean_AntBev\": 1.1, \"median_AntBev\": 1.1}, {\"Jahr\": \"1900-01-01T00:00:00\", \"Jahr_str\": \"1900-01-01\", \"Sprache\": \"Italienisch\", \"sum_AnzBev\": 5443.0, \"mean_AntBev\": 3.2, \"median_AntBev\": 3.2}, {\"Jahr\": \"1900-01-01T00:00:00\", \"Jahr_str\": \"1900-01-01\", \"Sprache\": \"R\\u00e4toromanisch\", \"sum_AnzBev\": 448.0, \"mean_AntBev\": 0.3, \"median_AntBev\": 0.3}, {\"Jahr\": \"1900-01-01T00:00:00\", \"Jahr_str\": \"1900-01-01\", \"Sprache\": \"Deutsch\", \"sum_AnzBev\": 157554.0, \"mean_AntBev\": 93.8, \"median_AntBev\": 93.8}, {\"Jahr\": \"1900-01-01T00:00:00\", \"Jahr_str\": \"1900-01-01\", \"Sprache\": \"Franz\\u00f6sisch\", \"sum_AnzBev\": 2745.0, \"mean_AntBev\": 1.6, \"median_AntBev\": 1.6}, {\"Jahr\": \"1910-01-01T00:00:00\", \"Jahr_str\": \"1910-01-01\", \"Sprache\": \"Deutsch\", \"sum_AnzBev\": 195371.0, \"mean_AntBev\": 90.7, \"median_AntBev\": 90.7}, {\"Jahr\": \"1910-01-01T00:00:00\", \"Jahr_str\": \"1910-01-01\", \"Sprache\": \"Franz\\u00f6sisch\", \"sum_AnzBev\": 3752.0, \"mean_AntBev\": 1.7, \"median_AntBev\": 1.7}, {\"Jahr\": \"1910-01-01T00:00:00\", \"Jahr_str\": \"1910-01-01\", \"Sprache\": \"Italienisch\", \"sum_AnzBev\": 11861.0, \"mean_AntBev\": 5.5, \"median_AntBev\": 5.5}, {\"Jahr\": \"1910-01-01T00:00:00\", \"Jahr_str\": \"1910-01-01\", \"Sprache\": \"R\\u00e4toromanisch\", \"sum_AnzBev\": 450.0, \"mean_AntBev\": 0.2, \"median_AntBev\": 0.2}, {\"Jahr\": \"1910-01-01T00:00:00\", \"Jahr_str\": \"1910-01-01\", \"Sprache\": \"andSprachen\", \"sum_AnzBev\": 4054.0, \"mean_AntBev\": 1.9, \"median_AntBev\": 1.9}, {\"Jahr\": \"1920-01-01T00:00:00\", \"Jahr_str\": \"1920-01-01\", \"Sprache\": \"andSprachen\", \"sum_AnzBev\": 3631.0, \"mean_AntBev\": 1.5, \"median_AntBev\": 1.5}, {\"Jahr\": \"1920-01-01T00:00:00\", \"Jahr_str\": \"1920-01-01\", \"Sprache\": \"Italienisch\", \"sum_AnzBev\": 8154.0, \"mean_AntBev\": 3.5, \"median_AntBev\": 3.5}, {\"Jahr\": \"1920-01-01T00:00:00\", \"Jahr_str\": \"1920-01-01\", \"Sprache\": \"R\\u00e4toromanisch\", \"sum_AnzBev\": 641.0, \"mean_AntBev\": 0.3, \"median_AntBev\": 0.3}, {\"Jahr\": \"1920-01-01T00:00:00\", \"Jahr_str\": \"1920-01-01\", \"Sprache\": \"Deutsch\", \"sum_AnzBev\": 217433.0, \"mean_AntBev\": 92.6, \"median_AntBev\": 92.6}, {\"Jahr\": \"1920-01-01T00:00:00\", \"Jahr_str\": \"1920-01-01\", \"Sprache\": \"Franz\\u00f6sisch\", \"sum_AnzBev\": 4949.0, \"mean_AntBev\": 2.1, \"median_AntBev\": 2.1}, {\"Jahr\": \"1930-01-01T00:00:00\", \"Jahr_str\": \"1930-01-01\", \"Sprache\": \"Deutsch\", \"sum_AnzBev\": 268737.0, \"mean_AntBev\": 92.4, \"median_AntBev\": 92.4}, {\"Jahr\": \"1930-01-01T00:00:00\", \"Jahr_str\": \"1930-01-01\", \"Sprache\": \"Franz\\u00f6sisch\", \"sum_AnzBev\": 7163.0, \"mean_AntBev\": 2.5, \"median_AntBev\": 2.5}, {\"Jahr\": \"1930-01-01T00:00:00\", \"Jahr_str\": \"1930-01-01\", \"Sprache\": \"Italienisch\", \"sum_AnzBev\": 10639.0, \"mean_AntBev\": 3.7, \"median_AntBev\": 3.7}, {\"Jahr\": \"1930-01-01T00:00:00\", \"Jahr_str\": \"1930-01-01\", \"Sprache\": \"R\\u00e4toromanisch\", \"sum_AnzBev\": 1208.0, \"mean_AntBev\": 0.4, \"median_AntBev\": 0.4}, {\"Jahr\": \"1930-01-01T00:00:00\", \"Jahr_str\": \"1930-01-01\", \"Sprache\": \"andSprachen\", \"sum_AnzBev\": 3190.0, \"mean_AntBev\": 1.1, \"median_AntBev\": 1.1}, {\"Jahr\": \"1941-01-01T00:00:00\", \"Jahr_str\": \"1941-01-01\", \"Sprache\": \"R\\u00e4toromanisch\", \"sum_AnzBev\": 1680.0, \"mean_AntBev\": 0.5, \"median_AntBev\": 0.5}, {\"Jahr\": \"1941-01-01T00:00:00\", \"Jahr_str\": \"1941-01-01\", \"Sprache\": \"Deutsch\", \"sum_AnzBev\": 311725.0, \"mean_AntBev\": 92.7, \"median_AntBev\": 92.7}, {\"Jahr\": \"1941-01-01T00:00:00\", \"Jahr_str\": \"1941-01-01\", \"Sprache\": \"Franz\\u00f6sisch\", \"sum_AnzBev\": 9858.0, \"mean_AntBev\": 2.9, \"median_AntBev\": 2.9}, {\"Jahr\": \"1941-01-01T00:00:00\", \"Jahr_str\": \"1941-01-01\", \"Sprache\": \"Italienisch\", \"sum_AnzBev\": 10079.0, \"mean_AntBev\": 3.0, \"median_AntBev\": 3.0}, {\"Jahr\": \"1941-01-01T00:00:00\", \"Jahr_str\": \"1941-01-01\", \"Sprache\": \"andSprachen\", \"sum_AnzBev\": 3053.0, \"mean_AntBev\": 0.9, \"median_AntBev\": 0.9}, {\"Jahr\": \"1950-01-01T00:00:00\", \"Jahr_str\": \"1950-01-01\", \"Sprache\": \"andSprachen\", \"sum_AnzBev\": 5308.0, \"mean_AntBev\": 1.4, \"median_AntBev\": 1.4}, {\"Jahr\": \"1950-01-01T00:00:00\", \"Jahr_str\": \"1950-01-01\", \"Sprache\": \"Italienisch\", \"sum_AnzBev\": 15121.0, \"mean_AntBev\": 3.9, \"median_AntBev\": 3.9}, {\"Jahr\": \"1950-01-01T00:00:00\", \"Jahr_str\": \"1950-01-01\", \"Sprache\": \"R\\u00e4toromanisch\", \"sum_AnzBev\": 2057.0, \"mean_AntBev\": 0.5, \"median_AntBev\": 0.5}, {\"Jahr\": \"1950-01-01T00:00:00\", \"Jahr_str\": \"1950-01-01\", \"Sprache\": \"Franz\\u00f6sisch\", \"sum_AnzBev\": 12063.0, \"mean_AntBev\": 3.1, \"median_AntBev\": 3.1}, {\"Jahr\": \"1950-01-01T00:00:00\", \"Jahr_str\": \"1950-01-01\", \"Sprache\": \"Deutsch\", \"sum_AnzBev\": 355471.0, \"mean_AntBev\": 91.1, \"median_AntBev\": 91.1}, {\"Jahr\": \"1960-01-01T00:00:00\", \"Jahr_str\": \"1960-01-01\", \"Sprache\": \"Deutsch\", \"sum_AnzBev\": 384950.0, \"mean_AntBev\": 87.5, \"median_AntBev\": 87.5}, {\"Jahr\": \"1960-01-01T00:00:00\", \"Jahr_str\": \"1960-01-01\", \"Sprache\": \"Franz\\u00f6sisch\", \"sum_AnzBev\": 12226.0, \"mean_AntBev\": 2.8, \"median_AntBev\": 2.8}, {\"Jahr\": \"1960-01-01T00:00:00\", \"Jahr_str\": \"1960-01-01\", \"Sprache\": \"Italienisch\", \"sum_AnzBev\": 31000.0, \"mean_AntBev\": 7.0, \"median_AntBev\": 7.0}, {\"Jahr\": \"1960-01-01T00:00:00\", \"Jahr_str\": \"1960-01-01\", \"Sprache\": \"R\\u00e4toromanisch\", \"sum_AnzBev\": 2560.0, \"mean_AntBev\": 0.6, \"median_AntBev\": 0.6}, {\"Jahr\": \"1960-01-01T00:00:00\", \"Jahr_str\": \"1960-01-01\", \"Sprache\": \"andSprachen\", \"sum_AnzBev\": 9434.0, \"mean_AntBev\": 2.1, \"median_AntBev\": 2.1}, {\"Jahr\": \"1970-01-01T00:00:00\", \"Jahr_str\": \"1970-01-01\", \"Sprache\": \"andSprachen\", \"sum_AnzBev\": 12811.0, \"mean_AntBev\": 3.0, \"median_AntBev\": 3.0}, {\"Jahr\": \"1970-01-01T00:00:00\", \"Jahr_str\": \"1970-01-01\", \"Sprache\": \"R\\u00e4toromanisch\", \"sum_AnzBev\": 2509.0, \"mean_AntBev\": 0.6, \"median_AntBev\": 0.6}, {\"Jahr\": \"1970-01-01T00:00:00\", \"Jahr_str\": \"1970-01-01\", \"Sprache\": \"Italienisch\", \"sum_AnzBev\": 37776.0, \"mean_AntBev\": 8.9, \"median_AntBev\": 8.9}, {\"Jahr\": \"1970-01-01T00:00:00\", \"Jahr_str\": \"1970-01-01\", \"Sprache\": \"Spanisch\", \"sum_AnzBev\": 8127.0, \"mean_AntBev\": 1.9, \"median_AntBev\": 1.9}, {\"Jahr\": \"1970-01-01T00:00:00\", \"Jahr_str\": \"1970-01-01\", \"Sprache\": \"Englisch\", \"sum_AnzBev\": 1951.0, \"mean_AntBev\": 0.5, \"median_AntBev\": 0.5}, {\"Jahr\": \"1970-01-01T00:00:00\", \"Jahr_str\": \"1970-01-01\", \"Sprache\": \"Deutsch\", \"sum_AnzBev\": 349375.0, \"mean_AntBev\": 82.7, \"median_AntBev\": 82.7}, {\"Jahr\": \"1970-01-01T00:00:00\", \"Jahr_str\": \"1970-01-01\", \"Sprache\": \"Franz\\u00f6sisch\", \"sum_AnzBev\": 10091.0, \"mean_AntBev\": 2.4, \"median_AntBev\": 2.4}, {\"Jahr\": \"1980-01-01T00:00:00\", \"Jahr_str\": \"1980-01-01\", \"Sprache\": \"Deutsch\", \"sum_AnzBev\": 295410.0, \"mean_AntBev\": 79.9, \"median_AntBev\": 79.9}, {\"Jahr\": \"1980-01-01T00:00:00\", \"Jahr_str\": \"1980-01-01\", \"Sprache\": \"Englisch\", \"sum_AnzBev\": 2483.0, \"mean_AntBev\": 0.7, \"median_AntBev\": 0.7}, {\"Jahr\": \"1980-01-01T00:00:00\", \"Jahr_str\": \"1980-01-01\", \"Sprache\": \"Franz\\u00f6sisch\", \"sum_AnzBev\": 8647.0, \"mean_AntBev\": 2.3, \"median_AntBev\": 2.3}, {\"Jahr\": \"1980-01-01T00:00:00\", \"Jahr_str\": \"1980-01-01\", \"Sprache\": \"Italienisch\", \"sum_AnzBev\": 30636.0, \"mean_AntBev\": 8.3, \"median_AntBev\": 8.3}, {\"Jahr\": \"1980-01-01T00:00:00\", \"Jahr_str\": \"1980-01-01\", \"Sprache\": \"R\\u00e4toromanisch\", \"sum_AnzBev\": 2487.0, \"mean_AntBev\": 0.7, \"median_AntBev\": 0.7}, {\"Jahr\": \"1980-01-01T00:00:00\", \"Jahr_str\": \"1980-01-01\", \"Sprache\": \"Spanisch\", \"sum_AnzBev\": 8899.0, \"mean_AntBev\": 2.4, \"median_AntBev\": 2.4}, {\"Jahr\": \"1980-01-01T00:00:00\", \"Jahr_str\": \"1980-01-01\", \"Sprache\": \"andSprachen\", \"sum_AnzBev\": 20960.0, \"mean_AntBev\": 5.7, \"median_AntBev\": 5.7}, {\"Jahr\": \"1990-01-01T00:00:00\", \"Jahr_str\": \"1990-01-01\", \"Sprache\": \"R\\u00e4toromanisch\", \"sum_AnzBev\": 1257.0, \"mean_AntBev\": 0.3, \"median_AntBev\": 0.3}, {\"Jahr\": \"1990-01-01T00:00:00\", \"Jahr_str\": \"1990-01-01\", \"Sprache\": \"andSprachen\", \"sum_AnzBev\": 34486.0, \"mean_AntBev\": 9.4, \"median_AntBev\": 9.4}, {\"Jahr\": \"1990-01-01T00:00:00\", \"Jahr_str\": \"1990-01-01\", \"Sprache\": \"Spanisch\", \"sum_AnzBev\": 10448.0, \"mean_AntBev\": 2.9, \"median_AntBev\": 2.9}, {\"Jahr\": \"1990-01-01T00:00:00\", \"Jahr_str\": \"1990-01-01\", \"Sprache\": \"Italienisch\", \"sum_AnzBev\": 24948.0, \"mean_AntBev\": 6.8, \"median_AntBev\": 6.8}, {\"Jahr\": \"1990-01-01T00:00:00\", \"Jahr_str\": \"1990-01-01\", \"Sprache\": \"Englisch\", \"sum_AnzBev\": 4634.0, \"mean_AntBev\": 1.3, \"median_AntBev\": 1.3}, {\"Jahr\": \"1990-01-01T00:00:00\", \"Jahr_str\": \"1990-01-01\", \"Sprache\": \"Deutsch\", \"sum_AnzBev\": 281317.0, \"mean_AntBev\": 77.1, \"median_AntBev\": 77.1}, {\"Jahr\": \"1990-01-01T00:00:00\", \"Jahr_str\": \"1990-01-01\", \"Sprache\": \"Franz\\u00f6sisch\", \"sum_AnzBev\": 7953.0, \"mean_AntBev\": 2.2, \"median_AntBev\": 2.2}, {\"Jahr\": \"2000-01-01T00:00:00\", \"Jahr_str\": \"2000-01-01\", \"Sprache\": \"Deutsch\", \"sum_AnzBev\": 282277.0, \"mean_AntBev\": 77.7, \"median_AntBev\": 77.7}, {\"Jahr\": \"2000-01-01T00:00:00\", \"Jahr_str\": \"2000-01-01\", \"Sprache\": \"Englisch\", \"sum_AnzBev\": 6702.0, \"mean_AntBev\": 1.8, \"median_AntBev\": 1.8}, {\"Jahr\": \"2000-01-01T00:00:00\", \"Jahr_str\": \"2000-01-01\", \"Sprache\": \"Franz\\u00f6sisch\", \"sum_AnzBev\": 7746.0, \"mean_AntBev\": 2.1, \"median_AntBev\": 2.1}, {\"Jahr\": \"2000-01-01T00:00:00\", \"Jahr_str\": \"2000-01-01\", \"Sprache\": \"Italienisch\", \"sum_AnzBev\": 17063.0, \"mean_AntBev\": 4.7, \"median_AntBev\": 4.7}, {\"Jahr\": \"2000-01-01T00:00:00\", \"Jahr_str\": \"2000-01-01\", \"Sprache\": \"R\\u00e4toromanisch\", \"sum_AnzBev\": 990.0, \"mean_AntBev\": 0.3, \"median_AntBev\": 0.3}, {\"Jahr\": \"2000-01-01T00:00:00\", \"Jahr_str\": \"2000-01-01\", \"Sprache\": \"Spanisch\", \"sum_AnzBev\": 7869.0, \"mean_AntBev\": 2.2, \"median_AntBev\": 2.2}, {\"Jahr\": \"2000-01-01T00:00:00\", \"Jahr_str\": \"2000-01-01\", \"Sprache\": \"andSprachen\", \"sum_AnzBev\": 40626.0, \"mean_AntBev\": 11.2, \"median_AntBev\": 11.2}, {\"Jahr\": \"2010-01-01T00:00:00\", \"Jahr_str\": \"2010-01-01\", \"Sprache\": \"andSprachen\", \"sum_AnzBev\": 44520.0, \"mean_AntBev\": 12.1, \"median_AntBev\": 12.1}, {\"Jahr\": \"2010-01-01T00:00:00\", \"Jahr_str\": \"2010-01-01\", \"Sprache\": \"Spanisch\", \"sum_AnzBev\": 12870.0, \"mean_AntBev\": 3.5, \"median_AntBev\": 3.5}, {\"Jahr\": \"2010-01-01T00:00:00\", \"Jahr_str\": \"2010-01-01\", \"Sprache\": \"Serbisch_Kroatisch\", \"sum_AnzBev\": 14900.0, \"mean_AntBev\": 4.1, \"median_AntBev\": 4.1}, {\"Jahr\": \"2010-01-01T00:00:00\", \"Jahr_str\": \"2010-01-01\", \"Sprache\": \"R\\u00e4toromanisch\", \"sum_AnzBev\": 1590.0, \"mean_AntBev\": 0.4, \"median_AntBev\": 0.4}, {\"Jahr\": \"2010-01-01T00:00:00\", \"Jahr_str\": \"2010-01-01\", \"Sprache\": \"Portugiesisch\", \"sum_AnzBev\": 11010.0, \"mean_AntBev\": 3.0, \"median_AntBev\": 3.0}, {\"Jahr\": \"2010-01-01T00:00:00\", \"Jahr_str\": \"2010-01-01\", \"Sprache\": \"Albanisch\", \"sum_AnzBev\": 9440.0, \"mean_AntBev\": 2.6, \"median_AntBev\": 2.6}, {\"Jahr\": \"2010-01-01T00:00:00\", \"Jahr_str\": \"2010-01-01\", \"Sprache\": \"Franz\\u00f6sisch\", \"sum_AnzBev\": 16870.0, \"mean_AntBev\": 4.6, \"median_AntBev\": 4.6}, {\"Jahr\": \"2010-01-01T00:00:00\", \"Jahr_str\": \"2010-01-01\", \"Sprache\": \"Englisch\", \"sum_AnzBev\": 29910.0, \"mean_AntBev\": 8.1, \"median_AntBev\": 8.1}, {\"Jahr\": \"2010-01-01T00:00:00\", \"Jahr_str\": \"2010-01-01\", \"Sprache\": \"Deutsch\", \"sum_AnzBev\": 294710.0, \"mean_AntBev\": 80.2, \"median_AntBev\": 80.2}, {\"Jahr\": \"2010-01-01T00:00:00\", \"Jahr_str\": \"2010-01-01\", \"Sprache\": \"Italienisch\", \"sum_AnzBev\": 22210.0, \"mean_AntBev\": 6.0, \"median_AntBev\": 6.0}, {\"Jahr\": \"2011-01-01T00:00:00\", \"Jahr_str\": \"2011-01-01\", \"Sprache\": \"Serbisch_Kroatisch\", \"sum_AnzBev\": 13980.0, \"mean_AntBev\": 3.9, \"median_AntBev\": 3.9}, {\"Jahr\": \"2011-01-01T00:00:00\", \"Jahr_str\": \"2011-01-01\", \"Sprache\": \"R\\u00e4toromanisch\", \"sum_AnzBev\": 1120.0, \"mean_AntBev\": 0.3, \"median_AntBev\": 0.3}, {\"Jahr\": \"2011-01-01T00:00:00\", \"Jahr_str\": \"2011-01-01\", \"Sprache\": \"andSprachen\", \"sum_AnzBev\": 40800.0, \"mean_AntBev\": 11.3, \"median_AntBev\": 11.3}, {\"Jahr\": \"2011-01-01T00:00:00\", \"Jahr_str\": \"2011-01-01\", \"Sprache\": \"Spanisch\", \"sum_AnzBev\": 13460.0, \"mean_AntBev\": 3.7, \"median_AntBev\": 3.7}, {\"Jahr\": \"2011-01-01T00:00:00\", \"Jahr_str\": \"2011-01-01\", \"Sprache\": \"Portugiesisch\", \"sum_AnzBev\": 11710.0, \"mean_AntBev\": 3.3, \"median_AntBev\": 3.3}, {\"Jahr\": \"2011-01-01T00:00:00\", \"Jahr_str\": \"2011-01-01\", \"Sprache\": \"Franz\\u00f6sisch\", \"sum_AnzBev\": 16040.0, \"mean_AntBev\": 4.5, \"median_AntBev\": 4.5}, {\"Jahr\": \"2011-01-01T00:00:00\", \"Jahr_str\": \"2011-01-01\", \"Sprache\": \"Englisch\", \"sum_AnzBev\": 29210.0, \"mean_AntBev\": 8.1, \"median_AntBev\": 8.1}, {\"Jahr\": \"2011-01-01T00:00:00\", \"Jahr_str\": \"2011-01-01\", \"Sprache\": \"Deutsch\", \"sum_AnzBev\": 287880.0, \"mean_AntBev\": 79.9, \"median_AntBev\": 79.9}, {\"Jahr\": \"2011-01-01T00:00:00\", \"Jahr_str\": \"2011-01-01\", \"Sprache\": \"Albanisch\", \"sum_AnzBev\": 9880.0, \"mean_AntBev\": 2.7, \"median_AntBev\": 2.7}, {\"Jahr\": \"2011-01-01T00:00:00\", \"Jahr_str\": \"2011-01-01\", \"Sprache\": \"Italienisch\", \"sum_AnzBev\": 21520.0, \"mean_AntBev\": 6.0, \"median_AntBev\": 6.0}, {\"Jahr\": \"2012-01-01T00:00:00\", \"Jahr_str\": \"2012-01-01\", \"Sprache\": \"Portugiesisch\", \"sum_AnzBev\": 12180.0, \"mean_AntBev\": 3.4, \"median_AntBev\": 3.4}, {\"Jahr\": \"2012-01-01T00:00:00\", \"Jahr_str\": \"2012-01-01\", \"Sprache\": \"Albanisch\", \"sum_AnzBev\": 9700.0, \"mean_AntBev\": 2.7, \"median_AntBev\": 2.7}, {\"Jahr\": \"2012-01-01T00:00:00\", \"Jahr_str\": \"2012-01-01\", \"Sprache\": \"Deutsch\", \"sum_AnzBev\": 287260.0, \"mean_AntBev\": 79.4, \"median_AntBev\": 79.4}, {\"Jahr\": \"2012-01-01T00:00:00\", \"Jahr_str\": \"2012-01-01\", \"Sprache\": \"Englisch\", \"sum_AnzBev\": 28270.0, \"mean_AntBev\": 7.8, \"median_AntBev\": 7.8}, {\"Jahr\": \"2012-01-01T00:00:00\", \"Jahr_str\": \"2012-01-01\", \"Sprache\": \"Franz\\u00f6sisch\", \"sum_AnzBev\": 15280.0, \"mean_AntBev\": 4.2, \"median_AntBev\": 4.2}, {\"Jahr\": \"2012-01-01T00:00:00\", \"Jahr_str\": \"2012-01-01\", \"Sprache\": \"Italienisch\", \"sum_AnzBev\": 22900.0, \"mean_AntBev\": 6.3, \"median_AntBev\": 6.3}, {\"Jahr\": \"2012-01-01T00:00:00\", \"Jahr_str\": \"2012-01-01\", \"Sprache\": \"R\\u00e4toromanisch\", \"sum_AnzBev\": 1220.0, \"mean_AntBev\": 0.3, \"median_AntBev\": 0.3}, {\"Jahr\": \"2012-01-01T00:00:00\", \"Jahr_str\": \"2012-01-01\", \"Sprache\": \"Serbisch_Kroatisch\", \"sum_AnzBev\": 14560.0, \"mean_AntBev\": 4.0, \"median_AntBev\": 4.0}, {\"Jahr\": \"2012-01-01T00:00:00\", \"Jahr_str\": \"2012-01-01\", \"Sprache\": \"Spanisch\", \"sum_AnzBev\": 12920.0, \"mean_AntBev\": 3.6, \"median_AntBev\": 3.6}, {\"Jahr\": \"2012-01-01T00:00:00\", \"Jahr_str\": \"2012-01-01\", \"Sprache\": \"andSprachen\", \"sum_AnzBev\": 42940.0, \"mean_AntBev\": 11.9, \"median_AntBev\": 11.9}, {\"Jahr\": \"2013-01-01T00:00:00\", \"Jahr_str\": \"2013-01-01\", \"Sprache\": \"Spanisch\", \"sum_AnzBev\": 12930.0, \"mean_AntBev\": 3.5, \"median_AntBev\": 3.5}, {\"Jahr\": \"2013-01-01T00:00:00\", \"Jahr_str\": \"2013-01-01\", \"Sprache\": \"Italienisch\", \"sum_AnzBev\": 22540.0, \"mean_AntBev\": 6.2, \"median_AntBev\": 6.2}, {\"Jahr\": \"2013-01-01T00:00:00\", \"Jahr_str\": \"2013-01-01\", \"Sprache\": \"Serbisch_Kroatisch\", \"sum_AnzBev\": 14650.0, \"mean_AntBev\": 4.0, \"median_AntBev\": 4.0}, {\"Jahr\": \"2013-01-01T00:00:00\", \"Jahr_str\": \"2013-01-01\", \"Sprache\": \"andSprachen\", \"sum_AnzBev\": 42970.0, \"mean_AntBev\": 11.8, \"median_AntBev\": 11.8}, {\"Jahr\": \"2013-01-01T00:00:00\", \"Jahr_str\": \"2013-01-01\", \"Sprache\": \"R\\u00e4toromanisch\", \"sum_AnzBev\": 1040.0, \"mean_AntBev\": 0.3, \"median_AntBev\": 0.3}, {\"Jahr\": \"2013-01-01T00:00:00\", \"Jahr_str\": \"2013-01-01\", \"Sprache\": \"Albanisch\", \"sum_AnzBev\": 10390.0, \"mean_AntBev\": 2.8, \"median_AntBev\": 2.8}, {\"Jahr\": \"2013-01-01T00:00:00\", \"Jahr_str\": \"2013-01-01\", \"Sprache\": \"Franz\\u00f6sisch\", \"sum_AnzBev\": 16640.0, \"mean_AntBev\": 4.6, \"median_AntBev\": 4.6}, {\"Jahr\": \"2013-01-01T00:00:00\", \"Jahr_str\": \"2013-01-01\", \"Sprache\": \"Englisch\", \"sum_AnzBev\": 30800.0, \"mean_AntBev\": 8.4, \"median_AntBev\": 8.4}, {\"Jahr\": \"2013-01-01T00:00:00\", \"Jahr_str\": \"2013-01-01\", \"Sprache\": \"Deutsch\", \"sum_AnzBev\": 288120.0, \"mean_AntBev\": 79.0, \"median_AntBev\": 79.0}, {\"Jahr\": \"2013-01-01T00:00:00\", \"Jahr_str\": \"2013-01-01\", \"Sprache\": \"Portugiesisch\", \"sum_AnzBev\": 10820.0, \"mean_AntBev\": 3.0, \"median_AntBev\": 3.0}, {\"Jahr\": \"2014-01-01T00:00:00\", \"Jahr_str\": \"2014-01-01\", \"Sprache\": \"andSprachen\", \"sum_AnzBev\": 47640.0, \"mean_AntBev\": 12.8, \"median_AntBev\": 12.8}, {\"Jahr\": \"2014-01-01T00:00:00\", \"Jahr_str\": \"2014-01-01\", \"Sprache\": \"R\\u00e4toromanisch\", \"sum_AnzBev\": 1270.0, \"mean_AntBev\": 0.3, \"median_AntBev\": 0.3}, {\"Jahr\": \"2014-01-01T00:00:00\", \"Jahr_str\": \"2014-01-01\", \"Sprache\": \"Spanisch\", \"sum_AnzBev\": 14250.0, \"mean_AntBev\": 3.8, \"median_AntBev\": 3.8}, {\"Jahr\": \"2014-01-01T00:00:00\", \"Jahr_str\": \"2014-01-01\", \"Sprache\": \"Serbisch_Kroatisch\", \"sum_AnzBev\": 15360.0, \"mean_AntBev\": 4.1, \"median_AntBev\": 4.1}, {\"Jahr\": \"2014-01-01T00:00:00\", \"Jahr_str\": \"2014-01-01\", \"Sprache\": \"Portugiesisch\", \"sum_AnzBev\": 11820.0, \"mean_AntBev\": 3.2, \"median_AntBev\": 3.2}, {\"Jahr\": \"2014-01-01T00:00:00\", \"Jahr_str\": \"2014-01-01\", \"Sprache\": \"Albanisch\", \"sum_AnzBev\": 11350.0, \"mean_AntBev\": 3.1, \"median_AntBev\": 3.1}, {\"Jahr\": \"2014-01-01T00:00:00\", \"Jahr_str\": \"2014-01-01\", \"Sprache\": \"Franz\\u00f6sisch\", \"sum_AnzBev\": 16730.0, \"mean_AntBev\": 4.5, \"median_AntBev\": 4.5}, {\"Jahr\": \"2014-01-01T00:00:00\", \"Jahr_str\": \"2014-01-01\", \"Sprache\": \"Englisch\", \"sum_AnzBev\": 32590.0, \"mean_AntBev\": 8.8, \"median_AntBev\": 8.8}, {\"Jahr\": \"2014-01-01T00:00:00\", \"Jahr_str\": \"2014-01-01\", \"Sprache\": \"Deutsch\", \"sum_AnzBev\": 290810.0, \"mean_AntBev\": 78.2, \"median_AntBev\": 78.2}, {\"Jahr\": \"2014-01-01T00:00:00\", \"Jahr_str\": \"2014-01-01\", \"Sprache\": \"Italienisch\", \"sum_AnzBev\": 23620.0, \"mean_AntBev\": 6.4, \"median_AntBev\": 6.4}, {\"Jahr\": \"2015-01-01T00:00:00\", \"Jahr_str\": \"2015-01-01\", \"Sprache\": \"R\\u00e4toromanisch\", \"sum_AnzBev\": 1270.0, \"mean_AntBev\": 0.3, \"median_AntBev\": 0.3}, {\"Jahr\": \"2015-01-01T00:00:00\", \"Jahr_str\": \"2015-01-01\", \"Sprache\": \"Spanisch\", \"sum_AnzBev\": 14770.0, \"mean_AntBev\": 3.9, \"median_AntBev\": 3.9}, {\"Jahr\": \"2015-01-01T00:00:00\", \"Jahr_str\": \"2015-01-01\", \"Sprache\": \"Serbisch_Kroatisch\", \"sum_AnzBev\": 14250.0, \"mean_AntBev\": 3.8, \"median_AntBev\": 3.8}, {\"Jahr\": \"2015-01-01T00:00:00\", \"Jahr_str\": \"2015-01-01\", \"Sprache\": \"Portugiesisch\", \"sum_AnzBev\": 12230.0, \"mean_AntBev\": 3.2, \"median_AntBev\": 3.2}, {\"Jahr\": \"2015-01-01T00:00:00\", \"Jahr_str\": \"2015-01-01\", \"Sprache\": \"andSprachen\", \"sum_AnzBev\": 48120.0, \"mean_AntBev\": 12.7, \"median_AntBev\": 12.7}, {\"Jahr\": \"2015-01-01T00:00:00\", \"Jahr_str\": \"2015-01-01\", \"Sprache\": \"Franz\\u00f6sisch\", \"sum_AnzBev\": 15820.0, \"mean_AntBev\": 4.2, \"median_AntBev\": 4.2}, {\"Jahr\": \"2015-01-01T00:00:00\", \"Jahr_str\": \"2015-01-01\", \"Sprache\": \"Englisch\", \"sum_AnzBev\": 37300.0, \"mean_AntBev\": 9.9, \"median_AntBev\": 9.9}, {\"Jahr\": \"2015-01-01T00:00:00\", \"Jahr_str\": \"2015-01-01\", \"Sprache\": \"Deutsch\", \"sum_AnzBev\": 296420.0, \"mean_AntBev\": 78.5, \"median_AntBev\": 78.5}, {\"Jahr\": \"2015-01-01T00:00:00\", \"Jahr_str\": \"2015-01-01\", \"Sprache\": \"Albanisch\", \"sum_AnzBev\": 10860.0, \"mean_AntBev\": 2.9, \"median_AntBev\": 2.9}, {\"Jahr\": \"2015-01-01T00:00:00\", \"Jahr_str\": \"2015-01-01\", \"Sprache\": \"Italienisch\", \"sum_AnzBev\": 23580.0, \"mean_AntBev\": 6.2, \"median_AntBev\": 6.2}, {\"Jahr\": \"2016-01-01T00:00:00\", \"Jahr_str\": \"2016-01-01\", \"Sprache\": \"andSprachen\", \"sum_AnzBev\": 51470.0, \"mean_AntBev\": 13.4, \"median_AntBev\": 13.4}, {\"Jahr\": \"2016-01-01T00:00:00\", \"Jahr_str\": \"2016-01-01\", \"Sprache\": \"Spanisch\", \"sum_AnzBev\": 15710.0, \"mean_AntBev\": 4.1, \"median_AntBev\": 4.1}, {\"Jahr\": \"2016-01-01T00:00:00\", \"Jahr_str\": \"2016-01-01\", \"Sprache\": \"Serbisch_Kroatisch\", \"sum_AnzBev\": 14520.0, \"mean_AntBev\": 3.8, \"median_AntBev\": 3.8}, {\"Jahr\": \"2016-01-01T00:00:00\", \"Jahr_str\": \"2016-01-01\", \"Sprache\": \"R\\u00e4toromanisch\", \"sum_AnzBev\": 1080.0, \"mean_AntBev\": 0.3, \"median_AntBev\": 0.3}, {\"Jahr\": \"2016-01-01T00:00:00\", \"Jahr_str\": \"2016-01-01\", \"Sprache\": \"Portugiesisch\", \"sum_AnzBev\": 11570.0, \"mean_AntBev\": 3.0, \"median_AntBev\": 3.0}, {\"Jahr\": \"2016-01-01T00:00:00\", \"Jahr_str\": \"2016-01-01\", \"Sprache\": \"Englisch\", \"sum_AnzBev\": 38040.0, \"mean_AntBev\": 9.9, \"median_AntBev\": 9.9}, {\"Jahr\": \"2016-01-01T00:00:00\", \"Jahr_str\": \"2016-01-01\", \"Sprache\": \"Franz\\u00f6sisch\", \"sum_AnzBev\": 18170.0, \"mean_AntBev\": 4.7, \"median_AntBev\": 4.7}, {\"Jahr\": \"2016-01-01T00:00:00\", \"Jahr_str\": \"2016-01-01\", \"Sprache\": \"Albanisch\", \"sum_AnzBev\": 10770.0, \"mean_AntBev\": 2.8, \"median_AntBev\": 2.8}, {\"Jahr\": \"2016-01-01T00:00:00\", \"Jahr_str\": \"2016-01-01\", \"Sprache\": \"Italienisch\", \"sum_AnzBev\": 23020.0, \"mean_AntBev\": 6.0, \"median_AntBev\": 6.0}, {\"Jahr\": \"2016-01-01T00:00:00\", \"Jahr_str\": \"2016-01-01\", \"Sprache\": \"Deutsch\", \"sum_AnzBev\": 297430.0, \"mean_AntBev\": 77.7, \"median_AntBev\": 77.7}, {\"Jahr\": \"2017-01-01T00:00:00\", \"Jahr_str\": \"2017-01-01\", \"Sprache\": \"Albanisch\", \"sum_AnzBev\": 10570.0, \"mean_AntBev\": 2.7, \"median_AntBev\": 2.7}, {\"Jahr\": \"2017-01-01T00:00:00\", \"Jahr_str\": \"2017-01-01\", \"Sprache\": \"Deutsch\", \"sum_AnzBev\": 305530.0, \"mean_AntBev\": 78.4, \"median_AntBev\": 78.4}, {\"Jahr\": \"2017-01-01T00:00:00\", \"Jahr_str\": \"2017-01-01\", \"Sprache\": \"Englisch\", \"sum_AnzBev\": 41180.0, \"mean_AntBev\": 10.6, \"median_AntBev\": 10.6}, {\"Jahr\": \"2017-01-01T00:00:00\", \"Jahr_str\": \"2017-01-01\", \"Sprache\": \"Franz\\u00f6sisch\", \"sum_AnzBev\": 16680.0, \"mean_AntBev\": 4.3, \"median_AntBev\": 4.3}, {\"Jahr\": \"2017-01-01T00:00:00\", \"Jahr_str\": \"2017-01-01\", \"Sprache\": \"Italienisch\", \"sum_AnzBev\": 22620.0, \"mean_AntBev\": 5.8, \"median_AntBev\": 5.8}, {\"Jahr\": \"2017-01-01T00:00:00\", \"Jahr_str\": \"2017-01-01\", \"Sprache\": \"R\\u00e4toromanisch\", \"sum_AnzBev\": 1810.0, \"mean_AntBev\": 0.5, \"median_AntBev\": 0.5}, {\"Jahr\": \"2017-01-01T00:00:00\", \"Jahr_str\": \"2017-01-01\", \"Sprache\": \"Serbisch_Kroatisch\", \"sum_AnzBev\": 14390.0, \"mean_AntBev\": 3.7, \"median_AntBev\": 3.7}, {\"Jahr\": \"2017-01-01T00:00:00\", \"Jahr_str\": \"2017-01-01\", \"Sprache\": \"Spanisch\", \"sum_AnzBev\": 16020.0, \"mean_AntBev\": 4.1, \"median_AntBev\": 4.1}, {\"Jahr\": \"2017-01-01T00:00:00\", \"Jahr_str\": \"2017-01-01\", \"Sprache\": \"andSprachen\", \"sum_AnzBev\": 50430.0, \"mean_AntBev\": 12.9, \"median_AntBev\": 12.9}, {\"Jahr\": \"2017-01-01T00:00:00\", \"Jahr_str\": \"2017-01-01\", \"Sprache\": \"Portugiesisch\", \"sum_AnzBev\": 12090.0, \"mean_AntBev\": 3.1, \"median_AntBev\": 3.1}, {\"Jahr\": \"2018-01-01T00:00:00\", \"Jahr_str\": \"2018-01-01\", \"Sprache\": \"andSprachen\", \"sum_AnzBev\": 53800.0, \"mean_AntBev\": 13.5, \"median_AntBev\": 13.5}, {\"Jahr\": \"2018-01-01T00:00:00\", \"Jahr_str\": \"2018-01-01\", \"Sprache\": \"Portugiesisch\", \"sum_AnzBev\": 11160.0, \"mean_AntBev\": 2.8, \"median_AntBev\": 2.8}, {\"Jahr\": \"2018-01-01T00:00:00\", \"Jahr_str\": \"2018-01-01\", \"Sprache\": \"Spanisch\", \"sum_AnzBev\": 16370.0, \"mean_AntBev\": 4.1, \"median_AntBev\": 4.1}, {\"Jahr\": \"2018-01-01T00:00:00\", \"Jahr_str\": \"2018-01-01\", \"Sprache\": \"Serbisch_Kroatisch\", \"sum_AnzBev\": 13290.0, \"mean_AntBev\": 3.3, \"median_AntBev\": 3.3}, {\"Jahr\": \"2018-01-01T00:00:00\", \"Jahr_str\": \"2018-01-01\", \"Sprache\": \"R\\u00e4toromanisch\", \"sum_AnzBev\": 1310.0, \"mean_AntBev\": 0.3, \"median_AntBev\": 0.3}, {\"Jahr\": \"2018-01-01T00:00:00\", \"Jahr_str\": \"2018-01-01\", \"Sprache\": \"Italienisch\", \"sum_AnzBev\": 24340.0, \"mean_AntBev\": 6.1, \"median_AntBev\": 6.1}, {\"Jahr\": \"2018-01-01T00:00:00\", \"Jahr_str\": \"2018-01-01\", \"Sprache\": \"Englisch\", \"sum_AnzBev\": 44930.0, \"mean_AntBev\": 11.3, \"median_AntBev\": 11.3}, {\"Jahr\": \"2018-01-01T00:00:00\", \"Jahr_str\": \"2018-01-01\", \"Sprache\": \"Deutsch\", \"sum_AnzBev\": 305500.0, \"mean_AntBev\": 76.6, \"median_AntBev\": 76.6}, {\"Jahr\": \"2018-01-01T00:00:00\", \"Jahr_str\": \"2018-01-01\", \"Sprache\": \"Albanisch\", \"sum_AnzBev\": 9600.0, \"mean_AntBev\": 2.4, \"median_AntBev\": 2.4}, {\"Jahr\": \"2018-01-01T00:00:00\", \"Jahr_str\": \"2018-01-01\", \"Sprache\": \"Franz\\u00f6sisch\", \"sum_AnzBev\": 18320.0, \"mean_AntBev\": 4.6, \"median_AntBev\": 4.6}, {\"Jahr\": \"2019-01-01T00:00:00\", \"Jahr_str\": \"2019-01-01\", \"Sprache\": \"andSprachen\", \"sum_AnzBev\": 55460.0, \"mean_AntBev\": 13.7, \"median_AntBev\": 13.7}, {\"Jahr\": \"2019-01-01T00:00:00\", \"Jahr_str\": \"2019-01-01\", \"Sprache\": \"Spanisch\", \"sum_AnzBev\": 16360.0, \"mean_AntBev\": 4.0, \"median_AntBev\": 4.0}, {\"Jahr\": \"2019-01-01T00:00:00\", \"Jahr_str\": \"2019-01-01\", \"Sprache\": \"Serbisch_Kroatisch\", \"sum_AnzBev\": 13060.0, \"mean_AntBev\": 3.2, \"median_AntBev\": 3.2}, {\"Jahr\": \"2019-01-01T00:00:00\", \"Jahr_str\": \"2019-01-01\", \"Sprache\": \"R\\u00e4toromanisch\", \"sum_AnzBev\": 1130.0, \"mean_AntBev\": 0.3, \"median_AntBev\": 0.3}, {\"Jahr\": \"2019-01-01T00:00:00\", \"Jahr_str\": \"2019-01-01\", \"Sprache\": \"Portugiesisch\", \"sum_AnzBev\": 10610.0, \"mean_AntBev\": 2.6, \"median_AntBev\": 2.6}, {\"Jahr\": \"2019-01-01T00:00:00\", \"Jahr_str\": \"2019-01-01\", \"Sprache\": \"Italienisch\", \"sum_AnzBev\": 25180.0, \"mean_AntBev\": 6.2, \"median_AntBev\": 6.2}, {\"Jahr\": \"2019-01-01T00:00:00\", \"Jahr_str\": \"2019-01-01\", \"Sprache\": \"Englisch\", \"sum_AnzBev\": 46000.0, \"mean_AntBev\": 11.4, \"median_AntBev\": 11.4}, {\"Jahr\": \"2019-01-01T00:00:00\", \"Jahr_str\": \"2019-01-01\", \"Sprache\": \"Deutsch\", \"sum_AnzBev\": 306420.0, \"mean_AntBev\": 75.8, \"median_AntBev\": 75.8}, {\"Jahr\": \"2019-01-01T00:00:00\", \"Jahr_str\": \"2019-01-01\", \"Sprache\": \"Albanisch\", \"sum_AnzBev\": 9960.0, \"mean_AntBev\": 2.5, \"median_AntBev\": 2.5}, {\"Jahr\": \"2019-01-01T00:00:00\", \"Jahr_str\": \"2019-01-01\", \"Sprache\": \"Franz\\u00f6sisch\", \"sum_AnzBev\": 18970.0, \"mean_AntBev\": 4.7, \"median_AntBev\": 4.7}, {\"Jahr\": \"2020-01-01T00:00:00\", \"Jahr_str\": \"2020-01-01\", \"Sprache\": \"Portugiesisch\", \"sum_AnzBev\": 11280.0, \"mean_AntBev\": 2.8, \"median_AntBev\": 2.8}, {\"Jahr\": \"2020-01-01T00:00:00\", \"Jahr_str\": \"2020-01-01\", \"Sprache\": \"Serbisch_Kroatisch\", \"sum_AnzBev\": 11640.0, \"mean_AntBev\": 2.9, \"median_AntBev\": 2.9}, {\"Jahr\": \"2020-01-01T00:00:00\", \"Jahr_str\": \"2020-01-01\", \"Sprache\": \"R\\u00e4toromanisch\", \"sum_AnzBev\": 1320.0, \"mean_AntBev\": 0.3, \"median_AntBev\": 0.3}, {\"Jahr\": \"2020-01-01T00:00:00\", \"Jahr_str\": \"2020-01-01\", \"Sprache\": \"Italienisch\", \"sum_AnzBev\": 23900.0, \"mean_AntBev\": 5.9, \"median_AntBev\": 5.9}, {\"Jahr\": \"2020-01-01T00:00:00\", \"Jahr_str\": \"2020-01-01\", \"Sprache\": \"Spanisch\", \"sum_AnzBev\": 16820.0, \"mean_AntBev\": 4.1, \"median_AntBev\": 4.1}, {\"Jahr\": \"2020-01-01T00:00:00\", \"Jahr_str\": \"2020-01-01\", \"Sprache\": \"Englisch\", \"sum_AnzBev\": 49540.0, \"mean_AntBev\": 12.2, \"median_AntBev\": 12.2}, {\"Jahr\": \"2020-01-01T00:00:00\", \"Jahr_str\": \"2020-01-01\", \"Sprache\": \"Deutsch\", \"sum_AnzBev\": 309550.0, \"mean_AntBev\": 76.2, \"median_AntBev\": 76.2}, {\"Jahr\": \"2020-01-01T00:00:00\", \"Jahr_str\": \"2020-01-01\", \"Sprache\": \"Albanisch\", \"sum_AnzBev\": 9220.0, \"mean_AntBev\": 2.3, \"median_AntBev\": 2.3}, {\"Jahr\": \"2020-01-01T00:00:00\", \"Jahr_str\": \"2020-01-01\", \"Sprache\": \"Franz\\u00f6sisch\", \"sum_AnzBev\": 17400.0, \"mean_AntBev\": 4.3, \"median_AntBev\": 4.3}, {\"Jahr\": \"2020-01-01T00:00:00\", \"Jahr_str\": \"2020-01-01\", \"Sprache\": \"andSprachen\", \"sum_AnzBev\": 55680.0, \"mean_AntBev\": 13.7, \"median_AntBev\": 13.7}]}}, {\"mode\": \"vega-lite\"});\n",
       "</script>"
      ],
      "text/plain": [
       "alt.LayerChart(...)"
      ]
     },
     "execution_count": 43,
     "metadata": {},
     "output_type": "execute_result"
    }
   ],
   "source": [
    "myTitle=\"Anteil Personen nach Hauptsprachen seit 1860\"\n",
    "\n",
    "highlight = alt.selection(type='single', on='mouseover',\n",
    "                          fields=['Sprache'], nearest=True)\n",
    "#x='date:StichtagDatJahr',\n",
    "base = alt.Chart(myAgg.reset_index().query('mean_AntBev>0'), title=myTitle).encode(\n",
    "    x=alt.X('Jahr', axis=alt.Axis(title='Jahr'))# , axis=alt.Axis(format='%', title='percentage')\n",
    "    , y=alt.X('mean_AntBev', axis=alt.Axis(title='Ant. Personen'))\n",
    "    , color=alt.Color('Sprache', legend=alt.Legend(title=\"Hauptsprache\", orient=\"right\"))  \n",
    "    ,tooltip=['Jahr_str', 'Sprache','sum_AnzBev','mean_AntBev']    \n",
    ")\n",
    "points = base.mark_circle().encode(\n",
    "    opacity=alt.value(0.75)\n",
    ").add_selection(\n",
    "    highlight\n",
    ").properties(\n",
    "    width=750 , height=350\n",
    ")\n",
    "lines = base.mark_line().encode(\n",
    "    size=alt.condition(~highlight, alt.value(0.5), alt.value(4))\n",
    ").interactive()\n",
    "\n",
    "lines + points"
   ]
  },
  {
   "cell_type": "markdown",
   "metadata": {
    "tags": []
   },
   "source": [
    "#### Barcharts mit Seaborn"
   ]
  },
  {
   "cell_type": "code",
   "execution_count": 44,
   "metadata": {},
   "outputs": [
    {
     "data": {
      "text/plain": [
       "Index(['Sprache', 'AnzBev', 'AntBev', 'untAnzBevKI', 'obAnzBevKI', 'untAntBevKI', 'obAntBevKI',\n",
       "       'Jahr_str'],\n",
       "      dtype='object')"
      ]
     },
     "execution_count": 44,
     "metadata": {},
     "output_type": "execute_result"
    }
   ],
   "source": [
    "data2betested.columns"
   ]
  },
  {
   "cell_type": "code",
   "execution_count": 46,
   "metadata": {},
   "outputs": [
    {
     "data": {
      "text/html": [
       "<div>\n",
       "<style scoped>\n",
       "    .dataframe tbody tr th:only-of-type {\n",
       "        vertical-align: middle;\n",
       "    }\n",
       "\n",
       "    .dataframe tbody tr th {\n",
       "        vertical-align: top;\n",
       "    }\n",
       "\n",
       "    .dataframe thead th {\n",
       "        text-align: right;\n",
       "    }\n",
       "</style>\n",
       "<table border=\"1\" class=\"dataframe\">\n",
       "  <thead>\n",
       "    <tr style=\"text-align: right;\">\n",
       "      <th></th>\n",
       "      <th></th>\n",
       "      <th></th>\n",
       "      <th>sum_AnzBev</th>\n",
       "      <th>mean_AntBev</th>\n",
       "      <th>median_AntBev</th>\n",
       "    </tr>\n",
       "    <tr>\n",
       "      <th>Jahr</th>\n",
       "      <th>Jahr_str</th>\n",
       "      <th>Sprache</th>\n",
       "      <th></th>\n",
       "      <th></th>\n",
       "      <th></th>\n",
       "    </tr>\n",
       "  </thead>\n",
       "  <tbody>\n",
       "    <tr>\n",
       "      <th rowspan=\"5\" valign=\"top\">1860-01-01</th>\n",
       "      <th rowspan=\"5\" valign=\"top\">1860-01-01</th>\n",
       "      <th>Deutsch</th>\n",
       "      <td>51396</td>\n",
       "      <td>100</td>\n",
       "      <td>100</td>\n",
       "    </tr>\n",
       "    <tr>\n",
       "      <th>Französisch</th>\n",
       "      <td>147</td>\n",
       "      <td>0</td>\n",
       "      <td>0</td>\n",
       "    </tr>\n",
       "    <tr>\n",
       "      <th>Italienisch</th>\n",
       "      <td>31</td>\n",
       "      <td>0</td>\n",
       "      <td>0</td>\n",
       "    </tr>\n",
       "    <tr>\n",
       "      <th>Rätoromanisch</th>\n",
       "      <td>0</td>\n",
       "      <td>NaN</td>\n",
       "      <td>NaN</td>\n",
       "    </tr>\n",
       "    <tr>\n",
       "      <th>andSprachen</th>\n",
       "      <td>42</td>\n",
       "      <td>0</td>\n",
       "      <td>0</td>\n",
       "    </tr>\n",
       "  </tbody>\n",
       "</table>\n",
       "</div>"
      ],
      "text/plain": [
       "                                     sum_AnzBev  mean_AntBev  median_AntBev\n",
       "Jahr       Jahr_str   Sprache                                              \n",
       "1860-01-01 1860-01-01 Deutsch             51396          100            100\n",
       "                      Französisch           147            0              0\n",
       "                      Italienisch            31            0              0\n",
       "                      Rätoromanisch           0          NaN            NaN\n",
       "                      andSprachen            42            0              0"
      ]
     },
     "execution_count": 46,
     "metadata": {},
     "output_type": "execute_result"
    }
   ],
   "source": [
    "myAgg.head()"
   ]
  },
  {
   "cell_type": "code",
   "execution_count": 36,
   "metadata": {},
   "outputs": [],
   "source": [
    "#help(sns.catplot)     "
   ]
  },
  {
   "cell_type": "code",
   "execution_count": 37,
   "metadata": {},
   "outputs": [],
   "source": [
    "#Stile for the following sns graphs\n",
    "sns.set_theme(style=\"whitegrid\")"
   ]
  },
  {
   "cell_type": "code",
   "execution_count": 50,
   "metadata": {},
   "outputs": [
    {
     "data": {
      "text/plain": [
       "<seaborn.axisgrid.FacetGrid at 0x23ab8611988>"
      ]
     },
     "execution_count": 50,
     "metadata": {},
     "output_type": "execute_result"
    },
    {
     "data": {
      "image/png": "[encoded data removed]",
      "text/plain": [
       "<Figure size 850.125x360 with 1 Axes>"
      ]
     },
     "metadata": {
      "needs_background": "light"
     },
     "output_type": "display_data"
    }
   ],
   "source": [
    "#sns.color_palette(\"flare\", as_cmap=True)\n",
    "myHist = sns.catplot(x=\"Jahr_str\"\n",
    "            , y=\"mean_AntBev\"\n",
    "            , hue=\"Sprache\"\n",
    "            , kind=\"bar\" #boxen, violin, --> wenn die aggregation nicht genau den werten in der grafik entspricht\n",
    "            , palette=\"pastel\" #, color=\"green\"\n",
    "            , height=5\n",
    "            , aspect=2\n",
    "            , order=None, legend_out=True\n",
    "            ,data=myAgg.loc[\"2000\":\"2020\"].reset_index()\n",
    "           )\n",
    "myHist.set_xlabels('', fontsize=11) # not set_label\n",
    "myHist.set_ylabels('Ant. Pers.', fontsize=11)\n"
   ]
  },
  {
   "cell_type": "code",
   "execution_count": 51,
   "metadata": {},
   "outputs": [
    {
     "data": {
      "text/plain": [
       "Index(['Sprache', 'AnzBev', 'AntBev', 'untAnzBevKI', 'obAnzBevKI', 'untAntBevKI', 'obAntBevKI',\n",
       "       'Jahr_str'],\n",
       "      dtype='object')"
      ]
     },
     "execution_count": 51,
     "metadata": {},
     "output_type": "execute_result"
    }
   ],
   "source": [
    "data2betested.columns"
   ]
  },
  {
   "cell_type": "code",
   "execution_count": 55,
   "metadata": {},
   "outputs": [
    {
     "data": {
      "text/plain": [
       "<seaborn.axisgrid.FacetGrid at 0x23abb54ad48>"
      ]
     },
     "execution_count": 55,
     "metadata": {},
     "output_type": "execute_result"
    },
    {
     "data": {
      "image/png": "[encoded data removed]",
      "text/plain": [
       "<Figure size 994.125x648 with 10 Axes>"
      ]
     },
     "metadata": {
      "needs_background": "light"
     },
     "output_type": "display_data"
    },
    {
     "data": {
      "image/png": "[encoded data removed]",
      "text/plain": [
       "<Figure size 994.125x648 with 10 Axes>"
      ]
     },
     "metadata": {
      "needs_background": "light"
     },
     "output_type": "display_data"
    }
   ],
   "source": [
    "g2 = sns.FacetGrid(data2betested.loc[\"1860\":\"2020\"].reset_index(), col=\"Sprache\", hue=\"Sprache\", col_wrap=4, height=3,)\n",
    "g2.map(sns.lineplot, \"Jahr\",\"AnzBev\",alpha=.8)\n",
    "g2.add_legend()\n",
    "\n",
    "g3 = sns.FacetGrid(data2betested.loc[\"1860\":\"2020\"].reset_index(), col=\"Sprache\", hue=\"Sprache\", col_wrap=4, height=3,)\n",
    "g3.map(sns.lineplot, \"Jahr\",\"AntBev\",alpha=.8)\n",
    "g3.add_legend()\n"
   ]
  },
  {
   "cell_type": "markdown",
   "metadata": {},
   "source": [
    "## ---------------------- hier Plausi beendet\n",
    "\n",
    "**Sharepoint als gecheckt markieren!**"
   ]
  },
  {
   "cell_type": "markdown",
   "metadata": {
    "tags": []
   },
   "source": [
    "Record auf Sharepoint: **[Link](https://kollaboration.intranet.stzh.ch/orga/ssz-produkte/Lists/SASA_Outputs/DispForm.aspx?ID=109&ContentTypeId=0x0100988EAF029F1EFE4CA675F53C32A5D53D01006DBC563E6FBE9E4EB6FDC780799752E1)**\n",
    "\n",
    "---------------------------------------------------------------------------"
   ]
  },
  {
   "cell_type": "code",
   "execution_count": null,
   "metadata": {},
   "outputs": [],
   "source": []
  },
  {
   "cell_type": "code",
   "execution_count": null,
   "metadata": {},
   "outputs": [],
   "source": []
  }
 ],
 "metadata": {
  "kernelspec": {
   "display_name": "Python 3 (ipykernel)",
   "language": "python",
   "name": "python3"
  },
  "language_info": {
   "codemirror_mode": {
    "name": "ipython",
    "version": 3
   },
   "file_extension": ".py",
   "mimetype": "text/x-python",
   "name": "python",
   "nbconvert_exporter": "python",
   "pygments_lexer": "ipython3",
   "version": "3.7.11"
  }
 },
 "nbformat": 4,
 "nbformat_minor": 4
}
