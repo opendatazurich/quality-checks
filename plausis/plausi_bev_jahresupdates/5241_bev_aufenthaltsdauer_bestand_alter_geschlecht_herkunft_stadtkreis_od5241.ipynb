{
 "cells": [
  {
   "cell_type": "markdown",
   "metadata": {},
   "source": [
    "# Testing\n",
    "### Aufenthaltsdauer, nach Alter, Geschlecht, Herkunft, Stadtkreis, seit 1993\n",
    "Datum: 15.03.2022\n",
    "\n",
    "\n"
   ]
  },
  {
   "cell_type": "markdown",
   "metadata": {},
   "source": [
    "### Importiere die notwendigen Packages"
   ]
  },
  {
   "cell_type": "code",
   "execution_count": 42,
   "metadata": {},
   "outputs": [],
   "source": [
    "#%pip install geopandas altair fiona requests folium mplleaflet contextily seaborn datetime plotly leafmap"
   ]
  },
  {
   "cell_type": "code",
   "execution_count": 43,
   "metadata": {},
   "outputs": [],
   "source": [
    "import pandas as pd\n",
    "import pivottablejs\n",
    "from pivottablejs import pivot_ui\n",
    "import numpy as np\n",
    "import altair as alt\n",
    "import matplotlib.pyplot as plt\n",
    "\n",
    "import datetime\n",
    "import geopandas as gpd\n",
    "import folium \n",
    "import plotly.express as px\n",
    "import seaborn as sns\n",
    "import leafmap\n",
    "\n",
    "import requests\n",
    "import io\n"
   ]
  },
  {
   "cell_type": "code",
   "execution_count": 44,
   "metadata": {},
   "outputs": [],
   "source": [
    "SSL_VERIFY = False\n",
    "# evtl. SSL_VERIFY auf False setzen wenn die Verbindung zu https://www.gemeinderat-zuerich.ch nicht klappt (z.B. wegen Proxy)\n",
    "# Um die SSL Verifikation auszustellen, bitte die nächste Zeile einkommentieren (\"#\" entfernen)\n",
    "# SSL_VERIFY = False"
   ]
  },
  {
   "cell_type": "code",
   "execution_count": 45,
   "metadata": {},
   "outputs": [],
   "source": [
    "if not SSL_VERIFY:\n",
    "    import urllib3\n",
    "    urllib3.disable_warnings()"
   ]
  },
  {
   "cell_type": "markdown",
   "metadata": {},
   "source": [
    "Definiere Settings. Hier das Zahlenformat von Float-Werten (z.B. *'{:,.2f}'.format* mit Komma als Tausenderzeichen), "
   ]
  },
  {
   "cell_type": "code",
   "execution_count": 46,
   "metadata": {},
   "outputs": [],
   "source": [
    "#pd.options.display.float_format = lambda x : '{:,.1f}'.format(x) if (np.isnan(x) | np.isinf(x)) else '{:,.0f}'.format(x) if int(x) == x else '{:,.1f}'.format(x)\n",
    "pd.options.display.float_format = '{:.0f}'.format\n",
    "pd.set_option('display.width', 100)\n",
    "pd.set_option('display.max_columns', 15)"
   ]
  },
  {
   "cell_type": "markdown",
   "metadata": {},
   "source": [
    "### Zeitvariabeln\n",
    "Bestimme den aktuellst geladenen Monat. Hier ist es der Stand vor 2 Monaten. \n",
    "Bestimme noch weitere evt. sinnvolle Zeitvariabeln.\n",
    "\n",
    "Zum Unterschied zwischen import datetime und from datedtime import datetime, siehe https://stackoverflow.com/questions/15707532/import-datetime-v-s-from-datetime-import-datetime\n",
    "\n",
    "Zuerst die Zeitvariabeln als Strings"
   ]
  },
  {
   "cell_type": "code",
   "execution_count": 47,
   "metadata": {},
   "outputs": [],
   "source": [
    "#today_date = datetime.date.today()\n",
    "#date_time = datetime.datetime.strptime(date_time_string, '%Y-%m-%d %H:%M')\n",
    "now = datetime.date.today()\n",
    "date_today = now.strftime(\"%Y-%m-%d\")\n",
    "year_today = now.strftime(\"%Y\")\n",
    "month_today = now.strftime(\"%m\")\n",
    "day_today = now.strftime(\"%d\")\n"
   ]
  },
  {
   "cell_type": "markdown",
   "metadata": {},
   "source": [
    "Und hier noch die Zeitvariabeln als Integers:\n",
    "- `aktuellesJahr`\n",
    "- `aktuellerMonat`: Der gerade jetzt aktuelle Monat\n",
    "- `selectedMonat`: Der aktuellste Monat in den Daten. In der Regel zwei Monate her."
   ]
  },
  {
   "cell_type": "code",
   "execution_count": 48,
   "metadata": {},
   "outputs": [
    {
     "name": "stdout",
     "output_type": "stream",
     "text": [
      "2022 3 datenstand:  1 time.struct_time(tm_year=2022, tm_mon=3, tm_mday=16, tm_hour=0, tm_min=0, tm_sec=0, tm_wday=2, tm_yday=75, tm_isdst=-1)\n"
     ]
    }
   ],
   "source": [
    "#now = datetime.now() \n",
    "int_times = now.timetuple()\n",
    "\n",
    "aktuellesJahr = int_times[0]\n",
    "aktuellerMonat = int_times[1]\n",
    "selectedMonat = int_times[1]-2\n",
    "\n",
    "print(aktuellesJahr, \n",
    "      aktuellerMonat,\n",
    "    'datenstand: ', selectedMonat,\n",
    "     int_times)\n"
   ]
  },
  {
   "cell_type": "markdown",
   "metadata": {},
   "source": [
    "Berechne die Variable Epoche um später das SAS-Datum in ein Unix-Datum umzuwandeln. Bei SAS beginnt die Epoche am 1.1.1960. Bei Unix am 1.1.1970.\n",
    "Diese Variable wird beim CSV-Import benötigt."
   ]
  },
  {
   "cell_type": "code",
   "execution_count": 49,
   "metadata": {},
   "outputs": [],
   "source": [
    "epoch = datetime.datetime(1960, 1, 1)"
   ]
  },
  {
   "cell_type": "markdown",
   "metadata": {},
   "source": [
    "### Setze einige Pfadvariabeln"
   ]
  },
  {
   "cell_type": "markdown",
   "metadata": {
    "tags": []
   },
   "source": [
    "- Der Packagename ist eigentlich der **Verzeichnisname** unter dem die Daten und Metadaten auf der Dropzone abgelegt werden.\n",
    "- Definiert wird er bei SASA-Prozessen auf dem **Produkte-Sharepoint ([Link](https://kollaboration.intranet.stzh.ch/orga/ssz-produkte/Lists/SASA_Outputs/PersonalViews.aspx?PageView=Personal&ShowWebPart={6087A3E7-8AC8-40BA-8278-DECFACE124FF}))**.\n",
    "- Der Packagename wird auf CKAN teil der URL, daher ist die exakte Schreibweise wichtig.\n",
    "\n",
    "Beachte: im Packagename müssen alle Buchstaben **klein** geschrieben werden. Dies weil CKAN aus grossen kleine Buchstaben macht."
   ]
  },
  {
   "cell_type": "markdown",
   "metadata": {},
   "source": [
    "**BITTE HIER ANPASSEN**"
   ]
  },
  {
   "cell_type": "code",
   "execution_count": 51,
   "metadata": {},
   "outputs": [],
   "source": [
    "package_name = \"bev_aufenthaltsdauer_bestand_alter_geschlecht_herkunft_stadtkreis_od5241\""
   ]
  },
  {
   "cell_type": "code",
   "execution_count": 52,
   "metadata": {
    "tags": []
   },
   "outputs": [],
   "source": [
    "dataset_name = \"BEV524OD5241.csv\""
   ]
  },
  {
   "cell_type": "markdown",
   "metadata": {},
   "source": [
    "**Statische Pfade in DWH-Dropzones**"
   ]
  },
  {
   "cell_type": "code",
   "execution_count": 53,
   "metadata": {},
   "outputs": [],
   "source": [
    "dropzone_path_integ = r\"\\\\szh\\ssz\\applikationen\\OGD_Dropzone\\INT_DWH\""
   ]
  },
  {
   "cell_type": "code",
   "execution_count": 54,
   "metadata": {
    "tags": []
   },
   "outputs": [],
   "source": [
    "dropzone_path_prod = r\"\\\\szh\\ssz\\applikationen\\OGD_Dropzone\\DWH\""
   ]
  },
  {
   "cell_type": "markdown",
   "metadata": {},
   "source": [
    "**Statische Pfade CKAN-URLs**"
   ]
  },
  {
   "cell_type": "code",
   "execution_count": 55,
   "metadata": {
    "tags": []
   },
   "outputs": [],
   "source": [
    "ckan_integ_url =\"https://data.integ.stadt-zuerich.ch/dataset/int_dwh_\""
   ]
  },
  {
   "cell_type": "code",
   "execution_count": 56,
   "metadata": {},
   "outputs": [],
   "source": [
    "ckan_prod_url =\"https://data.stadt-zuerich.ch/dataset/\""
   ]
  },
  {
   "cell_type": "markdown",
   "metadata": {},
   "source": [
    "### Checke die Metadaten auf der CKAN INTEG- oder PROD-Webseite\n",
    "\n",
    "Offenbar lassen sich aktuell im Markdownteil keine Variabeln ausführen, daher gehen wir wie unten gezeigt vor. Siehe dazu: https://data-dive.com/jupyterlab-markdown-cells-include-variables\n",
    "Instead of setting the cell to Markdown, create Markdown from withnin a code cell! We can just use python variable replacement syntax to make the text dynamic"
   ]
  },
  {
   "cell_type": "code",
   "execution_count": 57,
   "metadata": {},
   "outputs": [],
   "source": [
    "from IPython.display import Markdown as md"
   ]
  },
  {
   "cell_type": "code",
   "execution_count": 58,
   "metadata": {},
   "outputs": [
    {
     "data": {
      "text/markdown": [
       " **1. Dataset auf INTEG-Datakatalog:** Link https://data.integ.stadt-zuerich.ch/dataset/int_dwh_bev_aufenthaltsdauer_bestand_alter_geschlecht_herkunft_stadtkreis_od5241 "
      ],
      "text/plain": [
       "<IPython.core.display.Markdown object>"
      ]
     },
     "execution_count": 58,
     "metadata": {},
     "output_type": "execute_result"
    }
   ],
   "source": [
    "md(\" **1. Dataset auf INTEG-Datakatalog:** Link {} \".format(ckan_integ_url+package_name))"
   ]
  },
  {
   "cell_type": "code",
   "execution_count": 59,
   "metadata": {
    "tags": []
   },
   "outputs": [
    {
     "data": {
      "text/markdown": [
       " **2. Dataset auf PROD-Datakatalog:** Link https://data.stadt-zuerich.ch/dataset/bev_aufenthaltsdauer_bestand_alter_geschlecht_herkunft_stadtkreis_od5241 "
      ],
      "text/plain": [
       "<IPython.core.display.Markdown object>"
      ]
     },
     "execution_count": 59,
     "metadata": {},
     "output_type": "execute_result"
    }
   ],
   "source": [
    "md(\" **2. Dataset auf PROD-Datakatalog:** Link {} \".format(ckan_prod_url+package_name))"
   ]
  },
  {
   "cell_type": "markdown",
   "metadata": {
    "tags": []
   },
   "source": [
    "### Importiere einen Datensatz \n",
    "\n",
    "Definiere zuerst folgende Werte:\n",
    "1) Kommt der Datensatz von PROD oder INTEG?\n",
    "2) Beziehst Du den Datensatz direkt ab der DROPZONE oder aus dem INTERNET?"
   ]
  },
  {
   "cell_type": "code",
   "execution_count": 60,
   "metadata": {},
   "outputs": [
    {
     "name": "stdout",
     "output_type": "stream",
     "text": [
      "integ - web\n"
     ]
    }
   ],
   "source": [
    "#Die Datasets sind nur zum Testen auf INT-DWH-Dropzone. Wenn der Test vorbei ist, sind sie auf PROD. \n",
    "# Über den Status kann man einfach switchen\n",
    "\n",
    "status = \"integ\"; #prod vs something else\n",
    "data_source = \"web\"; #dropzone vs something else\n",
    "print(status+\" - \"+ data_source)"
   ]
  },
  {
   "cell_type": "code",
   "execution_count": 61,
   "metadata": {
    "tags": []
   },
   "outputs": [
    {
     "name": "stdout",
     "output_type": "stream",
     "text": [
      "fp lautet:https://data.integ.stadt-zuerich.ch/dataset/int_dwh_bev_aufenthaltsdauer_bestand_alter_geschlecht_herkunft_stadtkreis_od5241/download/BEV524OD5241.csv\n"
     ]
    }
   ],
   "source": [
    "# Filepath\n",
    "if status == \"prod\":\n",
    "    if data_source == \"dropzone\":\n",
    "            fp = dropzone_path_prod+\"\\\\\"+ package_name +\"\\\\\"+dataset_name\n",
    "            print(\"fp lautet:\"+fp)\n",
    "    else:\n",
    "        #fp = r\"https://data.stadt-zuerich.ch/dataset/bau_neubau_whg_bausm_rinh_geb_projstatus_quartier_seit2009_od5011/download/BAU501OD5011.csv\"\n",
    "        fp = ckan_prod_url+package_name+'/download/'+dataset_name\n",
    "        print(\"fp lautet:\"+fp)\n",
    "else:\n",
    "    if data_source == \"dropzone\":\n",
    "        fp = dropzone_path_integ+\"\\\\\"+ package_name +\"\\\\\"+dataset_name\n",
    "        print(\"fp lautet:\"+fp)\n",
    "    else:\n",
    "        #fp = r\"https://data.stadt-zuerich.ch/dataset/bau_neubau_whg_bausm_rinh_geb_projstatus_quartier_seit2009_od5011/download/BAU501OD5011.csv\"\n",
    "        fp = ckan_integ_url+package_name+'/download/'+dataset_name\n",
    "        print(\"fp lautet:\"+fp)\n"
   ]
  },
  {
   "cell_type": "markdown",
   "metadata": {},
   "source": [
    "Beachte, wie das SAS Datum (ohne Format) in ein UNIX Datum umgerechnet und als Datumsformat dargestellt wird! Siehe dazu `https://stackoverflow.com/questions/26923564/convert-sas-numeric-to-python-datetime`"
   ]
  },
  {
   "cell_type": "code",
   "execution_count": 62,
   "metadata": {},
   "outputs": [
    {
     "name": "stdout",
     "output_type": "stream",
     "text": [
      "web\n"
     ]
    },
    {
     "data": {
      "text/plain": [
       "StichtagDatJahr    datetime64[ns]\n",
       "AlterV20Kurz               object\n",
       "AlterV20Sort                int64\n",
       "SexCd                       int64\n",
       "SexKurz                    object\n",
       "HerkunftCd                  int64\n",
       "HerkunftLang               object\n",
       "KreisCd                     int64\n",
       "KreisLang                  object\n",
       "AufDauerP25               float64\n",
       "AufDauerMedian            float64\n",
       "AufDauerP75               float64\n",
       "AufDauerMittel            float64\n",
       "dtype: object"
      ]
     },
     "execution_count": 62,
     "metadata": {},
     "output_type": "execute_result"
    }
   ],
   "source": [
    "# Read the data\n",
    "if data_source == \"dropzone\":\n",
    "    data2betested = pd.read_csv(\n",
    "        fp\n",
    "        , sep=','\n",
    "        ,parse_dates=['StichtagDatJahr']\n",
    "        ,low_memory=False\n",
    "    )\n",
    "    print(\"dropzone\")\n",
    "else:\n",
    "    r = requests.get(fp, verify=False)  \n",
    "    r.encoding = 'utf-8'\n",
    "    data2betested = pd.read_csv(\n",
    "        io.StringIO(r.text)\n",
    "        ,parse_dates=['StichtagDatJahr']\n",
    "        # KONVERTIERE DAS SAS DATUM IN EIN UNIXDATUM UND FORMATIERE ES\n",
    "        #, date_parser=lambda s: epoch + datetime.timedelta(days=int(s))\n",
    "        ,low_memory=False)\n",
    "    print(\"web\")\n",
    "\n",
    "data2betested.dtypes"
   ]
  },
  {
   "cell_type": "markdown",
   "metadata": {},
   "source": [
    "Berechne weitere Attribute falls notwendig"
   ]
  },
  {
   "cell_type": "code",
   "execution_count": 63,
   "metadata": {},
   "outputs": [
    {
     "data": {
      "text/plain": [
       "StichtagDatJahr        datetime64[ns]\n",
       "AlterV20Kurz                   object\n",
       "AlterV20Sort                    int64\n",
       "SexCd                           int64\n",
       "SexKurz                        object\n",
       "HerkunftCd                      int64\n",
       "HerkunftLang                   object\n",
       "KreisCd                         int64\n",
       "KreisLang                      object\n",
       "AufDauerP25                   float64\n",
       "AufDauerMedian                float64\n",
       "AufDauerP75                   float64\n",
       "AufDauerMittel                float64\n",
       "StichtagDatJahr_str            object\n",
       "dtype: object"
      ]
     },
     "execution_count": 63,
     "metadata": {},
     "output_type": "execute_result"
    }
   ],
   "source": [
    "data2betested = (\n",
    "    data2betested\n",
    "    .copy()\n",
    "    .assign(\n",
    "        #Aktualisierungs_Datum_str= lambda x: x.Aktualisierungs_Datum.astype(str),\n",
    "        StichtagDatJahr_str = lambda x: x.StichtagDatJahr.astype(str),\n",
    "    )\n",
    "    .sort_values('StichtagDatJahr', ascending=False)\n",
    "    )\n",
    "data2betested.dtypes"
   ]
  },
  {
   "cell_type": "markdown",
   "metadata": {},
   "source": [
    "### Einfache Datentests"
   ]
  },
  {
   "cell_type": "markdown",
   "metadata": {},
   "source": [
    " - 1) Zeige eine kurze Vorschau der importierten Daten\n",
    " - 2) Weise die Datentypen aus\n",
    " - 3) Zeige die Shape (Umfang) des Datensatzes an"
   ]
  },
  {
   "cell_type": "code",
   "execution_count": 64,
   "metadata": {},
   "outputs": [],
   "source": [
    "#data2betested.head(6)"
   ]
  },
  {
   "cell_type": "code",
   "execution_count": 65,
   "metadata": {},
   "outputs": [
    {
     "data": {
      "text/plain": [
       "StichtagDatJahr        datetime64[ns]\n",
       "AlterV20Kurz                   object\n",
       "AlterV20Sort                    int64\n",
       "SexCd                           int64\n",
       "SexKurz                        object\n",
       "HerkunftCd                      int64\n",
       "HerkunftLang                   object\n",
       "KreisCd                         int64\n",
       "KreisLang                      object\n",
       "AufDauerP25                   float64\n",
       "AufDauerMedian                float64\n",
       "AufDauerP75                   float64\n",
       "AufDauerMittel                float64\n",
       "StichtagDatJahr_str            object\n",
       "dtype: object"
      ]
     },
     "execution_count": 65,
     "metadata": {},
     "output_type": "execute_result"
    }
   ],
   "source": [
    "data2betested.dtypes"
   ]
  },
  {
   "cell_type": "code",
   "execution_count": 66,
   "metadata": {},
   "outputs": [
    {
     "data": {
      "text/plain": [
       "(264, 14)"
      ]
     },
     "execution_count": 66,
     "metadata": {},
     "output_type": "execute_result"
    }
   ],
   "source": [
    "data2betested.shape"
   ]
  },
  {
   "cell_type": "markdown",
   "metadata": {},
   "source": [
    "Beschreibe einzelne Attribute"
   ]
  },
  {
   "cell_type": "code",
   "execution_count": 67,
   "metadata": {},
   "outputs": [
    {
     "data": {
      "text/html": [
       "<div>\n",
       "<style scoped>\n",
       "    .dataframe tbody tr th:only-of-type {\n",
       "        vertical-align: middle;\n",
       "    }\n",
       "\n",
       "    .dataframe tbody tr th {\n",
       "        vertical-align: top;\n",
       "    }\n",
       "\n",
       "    .dataframe thead th {\n",
       "        text-align: right;\n",
       "    }\n",
       "</style>\n",
       "<table border=\"1\" class=\"dataframe\">\n",
       "  <thead>\n",
       "    <tr style=\"text-align: right;\">\n",
       "      <th></th>\n",
       "      <th>AlterV20Sort</th>\n",
       "      <th>SexCd</th>\n",
       "      <th>HerkunftCd</th>\n",
       "      <th>KreisCd</th>\n",
       "      <th>AufDauerP25</th>\n",
       "      <th>AufDauerMedian</th>\n",
       "      <th>AufDauerP75</th>\n",
       "      <th>AufDauerMittel</th>\n",
       "    </tr>\n",
       "  </thead>\n",
       "  <tbody>\n",
       "    <tr>\n",
       "      <th>count</th>\n",
       "      <td>264</td>\n",
       "      <td>264</td>\n",
       "      <td>264</td>\n",
       "      <td>264</td>\n",
       "      <td>264</td>\n",
       "      <td>264</td>\n",
       "      <td>264</td>\n",
       "      <td>264</td>\n",
       "    </tr>\n",
       "    <tr>\n",
       "      <th>mean</th>\n",
       "      <td>3</td>\n",
       "      <td>2</td>\n",
       "      <td>1</td>\n",
       "      <td>7</td>\n",
       "      <td>16</td>\n",
       "      <td>25</td>\n",
       "      <td>34</td>\n",
       "      <td>25</td>\n",
       "    </tr>\n",
       "    <tr>\n",
       "      <th>std</th>\n",
       "      <td>2</td>\n",
       "      <td>1</td>\n",
       "      <td>1</td>\n",
       "      <td>3</td>\n",
       "      <td>18</td>\n",
       "      <td>22</td>\n",
       "      <td>23</td>\n",
       "      <td>20</td>\n",
       "    </tr>\n",
       "    <tr>\n",
       "      <th>min</th>\n",
       "      <td>1</td>\n",
       "      <td>1</td>\n",
       "      <td>1</td>\n",
       "      <td>1</td>\n",
       "      <td>0</td>\n",
       "      <td>1</td>\n",
       "      <td>2</td>\n",
       "      <td>2</td>\n",
       "    </tr>\n",
       "    <tr>\n",
       "      <th>25%</th>\n",
       "      <td>2</td>\n",
       "      <td>1</td>\n",
       "      <td>1</td>\n",
       "      <td>4</td>\n",
       "      <td>3</td>\n",
       "      <td>8</td>\n",
       "      <td>13</td>\n",
       "      <td>9</td>\n",
       "    </tr>\n",
       "    <tr>\n",
       "      <th>50%</th>\n",
       "      <td>3</td>\n",
       "      <td>2</td>\n",
       "      <td>1</td>\n",
       "      <td>7</td>\n",
       "      <td>10</td>\n",
       "      <td>19</td>\n",
       "      <td>28</td>\n",
       "      <td>21</td>\n",
       "    </tr>\n",
       "    <tr>\n",
       "      <th>75%</th>\n",
       "      <td>5</td>\n",
       "      <td>2</td>\n",
       "      <td>2</td>\n",
       "      <td>10</td>\n",
       "      <td>26</td>\n",
       "      <td>41</td>\n",
       "      <td>52</td>\n",
       "      <td>40</td>\n",
       "    </tr>\n",
       "    <tr>\n",
       "      <th>max</th>\n",
       "      <td>6</td>\n",
       "      <td>2</td>\n",
       "      <td>2</td>\n",
       "      <td>12</td>\n",
       "      <td>104</td>\n",
       "      <td>104</td>\n",
       "      <td>104</td>\n",
       "      <td>104</td>\n",
       "    </tr>\n",
       "  </tbody>\n",
       "</table>\n",
       "</div>"
      ],
      "text/plain": [
       "       AlterV20Sort  SexCd  HerkunftCd  KreisCd  AufDauerP25  AufDauerMedian  AufDauerP75  \\\n",
       "count           264    264         264      264          264             264          264   \n",
       "mean              3      2           1        7           16              25           34   \n",
       "std               2      1           1        3           18              22           23   \n",
       "min               1      1           1        1            0               1            2   \n",
       "25%               2      1           1        4            3               8           13   \n",
       "50%               3      2           1        7           10              19           28   \n",
       "75%               5      2           2       10           26              41           52   \n",
       "max               6      2           2       12          104             104          104   \n",
       "\n",
       "       AufDauerMittel  \n",
       "count             264  \n",
       "mean               25  \n",
       "std                20  \n",
       "min                 2  \n",
       "25%                 9  \n",
       "50%                21  \n",
       "75%                40  \n",
       "max               104  "
      ]
     },
     "execution_count": 67,
     "metadata": {},
     "output_type": "execute_result"
    }
   ],
   "source": [
    "data2betested.describe()"
   ]
  },
  {
   "cell_type": "markdown",
   "metadata": {},
   "source": [
    "Wie viele Nullwerte gibt es im Datensatz?"
   ]
  },
  {
   "cell_type": "code",
   "execution_count": 68,
   "metadata": {
    "scrolled": true
   },
   "outputs": [
    {
     "data": {
      "text/plain": [
       "StichtagDatJahr        0\n",
       "AlterV20Kurz           0\n",
       "AlterV20Sort           0\n",
       "SexCd                  0\n",
       "SexKurz                0\n",
       "HerkunftCd             0\n",
       "HerkunftLang           0\n",
       "KreisCd                0\n",
       "KreisLang              0\n",
       "AufDauerP25            0\n",
       "AufDauerMedian         0\n",
       "AufDauerP75            0\n",
       "AufDauerMittel         0\n",
       "StichtagDatJahr_str    0\n",
       "dtype: int64"
      ]
     },
     "execution_count": 68,
     "metadata": {},
     "output_type": "execute_result"
    }
   ],
   "source": [
    "data2betested.isnull().sum()"
   ]
  },
  {
   "cell_type": "markdown",
   "metadata": {},
   "source": [
    "Welches sind die Quartiere ohne Werte bei AnzBestWir?"
   ]
  },
  {
   "cell_type": "code",
   "execution_count": 69,
   "metadata": {},
   "outputs": [
    {
     "data": {
      "text/html": [
       "<div>\n",
       "<style scoped>\n",
       "    .dataframe tbody tr th:only-of-type {\n",
       "        vertical-align: middle;\n",
       "    }\n",
       "\n",
       "    .dataframe tbody tr th {\n",
       "        vertical-align: top;\n",
       "    }\n",
       "\n",
       "    .dataframe thead th {\n",
       "        text-align: right;\n",
       "    }\n",
       "</style>\n",
       "<table border=\"1\" class=\"dataframe\">\n",
       "  <thead>\n",
       "    <tr style=\"text-align: right;\">\n",
       "      <th></th>\n",
       "      <th>StichtagDatJahr</th>\n",
       "      <th>AlterV20Kurz</th>\n",
       "      <th>AlterV20Sort</th>\n",
       "      <th>SexCd</th>\n",
       "      <th>SexKurz</th>\n",
       "      <th>HerkunftCd</th>\n",
       "      <th>HerkunftLang</th>\n",
       "      <th>KreisCd</th>\n",
       "      <th>KreisLang</th>\n",
       "      <th>AufDauerP25</th>\n",
       "      <th>AufDauerMedian</th>\n",
       "      <th>AufDauerP75</th>\n",
       "      <th>AufDauerMittel</th>\n",
       "      <th>StichtagDatJahr_str</th>\n",
       "    </tr>\n",
       "  </thead>\n",
       "  <tbody>\n",
       "  </tbody>\n",
       "</table>\n",
       "</div>"
      ],
      "text/plain": [
       "Empty DataFrame\n",
       "Columns: [StichtagDatJahr, AlterV20Kurz, AlterV20Sort, SexCd, SexKurz, HerkunftCd, HerkunftLang, KreisCd, KreisLang, AufDauerP25, AufDauerMedian, AufDauerP75, AufDauerMittel, StichtagDatJahr_str]\n",
       "Index: []"
      ]
     },
     "execution_count": 69,
     "metadata": {},
     "output_type": "execute_result"
    }
   ],
   "source": [
    "data2betested[np.isnan(data2betested.AufDauerMittel)]"
   ]
  },
  {
   "cell_type": "markdown",
   "metadata": {
    "colab_type": "text",
    "id": "1dTPVmmsgOVx"
   },
   "source": [
    "### Verwende das Datum als Index\n",
    "\n",
    "While we did already parse the `datetime` column into the respective datetime type, it currently is just a regular column. \n",
    "**To enable quick and convenient queries and aggregations, we need to turn it into the index of the DataFrame**"
   ]
  },
  {
   "cell_type": "code",
   "execution_count": 70,
   "metadata": {},
   "outputs": [],
   "source": [
    "data2betested = data2betested.set_index(\"StichtagDatJahr\")"
   ]
  },
  {
   "cell_type": "code",
   "execution_count": 71,
   "metadata": {},
   "outputs": [
    {
     "name": "stdout",
     "output_type": "stream",
     "text": [
      "<class 'pandas.core.frame.DataFrame'>\n",
      "DatetimeIndex: 264 entries, 2021-01-01 to 2021-01-01\n",
      "Data columns (total 13 columns):\n",
      " #   Column               Non-Null Count  Dtype  \n",
      "---  ------               --------------  -----  \n",
      " 0   AlterV20Kurz         264 non-null    object \n",
      " 1   AlterV20Sort         264 non-null    int64  \n",
      " 2   SexCd                264 non-null    int64  \n",
      " 3   SexKurz              264 non-null    object \n",
      " 4   HerkunftCd           264 non-null    int64  \n",
      " 5   HerkunftLang         264 non-null    object \n",
      " 6   KreisCd              264 non-null    int64  \n",
      " 7   KreisLang            264 non-null    object \n",
      " 8   AufDauerP25          264 non-null    float64\n",
      " 9   AufDauerMedian       264 non-null    float64\n",
      " 10  AufDauerP75          264 non-null    float64\n",
      " 11  AufDauerMittel       264 non-null    float64\n",
      " 12  StichtagDatJahr_str  264 non-null    object \n",
      "dtypes: float64(4), int64(4), object(5)\n",
      "memory usage: 28.9+ KB\n"
     ]
    },
    {
     "data": {
      "text/plain": [
       "Int64Index([2021], dtype='int64', name='StichtagDatJahr')"
      ]
     },
     "execution_count": 71,
     "metadata": {},
     "output_type": "execute_result"
    }
   ],
   "source": [
    "data2betested.info()\n",
    "data2betested.index.year.unique()"
   ]
  },
  {
   "cell_type": "markdown",
   "metadata": {},
   "source": [
    "### Einfache Visualisierungen zur Plausi"
   ]
  },
  {
   "cell_type": "markdown",
   "metadata": {},
   "source": [
    "Exploriere die Daten mit Pivottable.JS"
   ]
  },
  {
   "cell_type": "code",
   "execution_count": 72,
   "metadata": {},
   "outputs": [
    {
     "data": {
      "text/html": [
       "\n",
       "        <iframe\n",
       "            width=\"100%\"\n",
       "            height=\"500\"\n",
       "            src=\"pivottablejs.html\"\n",
       "            frameborder=\"0\"\n",
       "            allowfullscreen\n",
       "            \n",
       "        ></iframe>\n",
       "        "
      ],
      "text/plain": [
       "<IPython.lib.display.IFrame at 0x22657284b88>"
      ]
     },
     "execution_count": 72,
     "metadata": {},
     "output_type": "execute_result"
    }
   ],
   "source": [
    "from pivottablejs import pivot_ui\n",
    "\n",
    "pivot_ui(data2betested)"
   ]
  },
  {
   "cell_type": "markdown",
   "metadata": {},
   "source": [
    "### Zeitpunkte und Zeiträume abfragen\n",
    "\n",
    "A particular powerful feature of the Pandas DataFrame is its indexing capability that also works using time-based entities, such as dates and times. We have already created the index above, so let's put it to use."
   ]
  },
  {
   "cell_type": "code",
   "execution_count": 74,
   "metadata": {},
   "outputs": [
    {
     "data": {
      "text/html": [
       "<div>\n",
       "<style scoped>\n",
       "    .dataframe tbody tr th:only-of-type {\n",
       "        vertical-align: middle;\n",
       "    }\n",
       "\n",
       "    .dataframe tbody tr th {\n",
       "        vertical-align: top;\n",
       "    }\n",
       "\n",
       "    .dataframe thead th {\n",
       "        text-align: right;\n",
       "    }\n",
       "</style>\n",
       "<table border=\"1\" class=\"dataframe\">\n",
       "  <thead>\n",
       "    <tr style=\"text-align: right;\">\n",
       "      <th></th>\n",
       "      <th>AlterV20Kurz</th>\n",
       "      <th>AlterV20Sort</th>\n",
       "      <th>SexCd</th>\n",
       "      <th>SexKurz</th>\n",
       "      <th>HerkunftCd</th>\n",
       "      <th>HerkunftLang</th>\n",
       "      <th>KreisCd</th>\n",
       "      <th>KreisLang</th>\n",
       "      <th>AufDauerP25</th>\n",
       "      <th>AufDauerMedian</th>\n",
       "      <th>AufDauerP75</th>\n",
       "      <th>AufDauerMittel</th>\n",
       "      <th>StichtagDatJahr_str</th>\n",
       "    </tr>\n",
       "    <tr>\n",
       "      <th>StichtagDatJahr</th>\n",
       "      <th></th>\n",
       "      <th></th>\n",
       "      <th></th>\n",
       "      <th></th>\n",
       "      <th></th>\n",
       "      <th></th>\n",
       "      <th></th>\n",
       "      <th></th>\n",
       "      <th></th>\n",
       "      <th></th>\n",
       "      <th></th>\n",
       "      <th></th>\n",
       "      <th></th>\n",
       "    </tr>\n",
       "  </thead>\n",
       "  <tbody>\n",
       "    <tr>\n",
       "      <th>2021-01-01</th>\n",
       "      <td>0-19</td>\n",
       "      <td>1</td>\n",
       "      <td>1</td>\n",
       "      <td>M</td>\n",
       "      <td>1</td>\n",
       "      <td>Schweizer/in</td>\n",
       "      <td>1</td>\n",
       "      <td>Kreis 1</td>\n",
       "      <td>3</td>\n",
       "      <td>9</td>\n",
       "      <td>13</td>\n",
       "      <td>9</td>\n",
       "      <td>2021-01-01</td>\n",
       "    </tr>\n",
       "    <tr>\n",
       "      <th>2021-01-01</th>\n",
       "      <td>60-79</td>\n",
       "      <td>4</td>\n",
       "      <td>2</td>\n",
       "      <td>W</td>\n",
       "      <td>2</td>\n",
       "      <td>Ausländer/in</td>\n",
       "      <td>2</td>\n",
       "      <td>Kreis 2</td>\n",
       "      <td>8</td>\n",
       "      <td>22</td>\n",
       "      <td>38</td>\n",
       "      <td>24</td>\n",
       "      <td>2021-01-01</td>\n",
       "    </tr>\n",
       "  </tbody>\n",
       "</table>\n",
       "</div>"
      ],
      "text/plain": [
       "                AlterV20Kurz  AlterV20Sort  SexCd SexKurz  HerkunftCd  HerkunftLang  KreisCd  \\\n",
       "StichtagDatJahr                                                                                \n",
       "2021-01-01              0-19             1      1       M           1  Schweizer/in        1   \n",
       "2021-01-01             60-79             4      2       W           2  Ausländer/in        2   \n",
       "\n",
       "                KreisLang  AufDauerP25  AufDauerMedian  AufDauerP75  AufDauerMittel  \\\n",
       "StichtagDatJahr                                                                       \n",
       "2021-01-01        Kreis 1            3               9           13               9   \n",
       "2021-01-01        Kreis 2            8              22           38              24   \n",
       "\n",
       "                StichtagDatJahr_str  \n",
       "StichtagDatJahr                      \n",
       "2021-01-01               2021-01-01  \n",
       "2021-01-01               2021-01-01  "
      ]
     },
     "execution_count": 74,
     "metadata": {},
     "output_type": "execute_result"
    }
   ],
   "source": [
    "data2betested.loc[\"2021\"].head(2)\n",
    "#data2betested.loc[\"2021-10-31\":\"2021-11-30\"].head(2)"
   ]
  },
  {
   "cell_type": "markdown",
   "metadata": {},
   "source": [
    "### Visualisierungen nach Zeitausschnitten"
   ]
  },
  {
   "cell_type": "code",
   "execution_count": 75,
   "metadata": {},
   "outputs": [
    {
     "data": {
      "text/plain": [
       "Index(['AlterV20Kurz', 'AlterV20Sort', 'SexCd', 'SexKurz', 'HerkunftCd', 'HerkunftLang', 'KreisCd',\n",
       "       'KreisLang', 'AufDauerP25', 'AufDauerMedian', 'AufDauerP75', 'AufDauerMittel',\n",
       "       'StichtagDatJahr_str'],\n",
       "      dtype='object')"
      ]
     },
     "execution_count": 75,
     "metadata": {},
     "output_type": "execute_result"
    }
   ],
   "source": [
    "data2betested.columns"
   ]
  },
  {
   "cell_type": "markdown",
   "metadata": {
    "tags": []
   },
   "source": [
    "#### Mittlere Aufenthaltsdauer nach Altersgruppe, 2021"
   ]
  },
  {
   "cell_type": "code",
   "execution_count": 79,
   "metadata": {
    "tags": []
   },
   "outputs": [
    {
     "data": {
      "text/html": [
       "<div>\n",
       "<style scoped>\n",
       "    .dataframe tbody tr th:only-of-type {\n",
       "        vertical-align: middle;\n",
       "    }\n",
       "\n",
       "    .dataframe tbody tr th {\n",
       "        vertical-align: top;\n",
       "    }\n",
       "\n",
       "    .dataframe thead th {\n",
       "        text-align: right;\n",
       "    }\n",
       "</style>\n",
       "<table border=\"1\" class=\"dataframe\">\n",
       "  <thead>\n",
       "    <tr style=\"text-align: right;\">\n",
       "      <th></th>\n",
       "      <th>AlterV20Kurz</th>\n",
       "      <th>AlterV20Sort</th>\n",
       "      <th>KreisCd</th>\n",
       "      <th>KreisLang</th>\n",
       "      <th>mean_WBev</th>\n",
       "    </tr>\n",
       "  </thead>\n",
       "  <tbody>\n",
       "    <tr>\n",
       "      <th>0</th>\n",
       "      <td>0-19</td>\n",
       "      <td>1</td>\n",
       "      <td>1</td>\n",
       "      <td>Kreis 1</td>\n",
       "      <td>6</td>\n",
       "    </tr>\n",
       "    <tr>\n",
       "      <th>1</th>\n",
       "      <td>0-19</td>\n",
       "      <td>1</td>\n",
       "      <td>12</td>\n",
       "      <td>Kreis 12</td>\n",
       "      <td>8</td>\n",
       "    </tr>\n",
       "    <tr>\n",
       "      <th>2</th>\n",
       "      <td>0-19</td>\n",
       "      <td>1</td>\n",
       "      <td>10</td>\n",
       "      <td>Kreis 10</td>\n",
       "      <td>7</td>\n",
       "    </tr>\n",
       "  </tbody>\n",
       "</table>\n",
       "</div>"
      ],
      "text/plain": [
       "  AlterV20Kurz  AlterV20Sort  KreisCd KreisLang  mean_WBev\n",
       "0         0-19             1        1   Kreis 1          6\n",
       "1         0-19             1       12  Kreis 12          8\n",
       "2         0-19             1       10  Kreis 10          7"
      ]
     },
     "execution_count": 79,
     "metadata": {},
     "output_type": "execute_result"
    }
   ],
   "source": [
    "#myAgg = data2betested.loc[\"2008-11-30\":\"2021-10-31\"]\n",
    "myAgg = data2betested\\\n",
    "    .groupby(['AlterV20Kurz', 'AlterV20Sort','KreisCd','KreisLang',]) \\\n",
    "    .agg(mean_WBev=('AufDauerMittel', 'mean')) \\\n",
    "    .sort_values('AlterV20Sort', ascending=True) \n",
    "\n",
    "myAgg.reset_index().head(3)"
   ]
  },
  {
   "cell_type": "code",
   "execution_count": 95,
   "metadata": {},
   "outputs": [
    {
     "data": {
      "text/html": [
       "\n",
       "<div id=\"altair-viz-853b37383d3a479384e6dfdd54d1595a\"></div>\n",
       "<script type=\"text/javascript\">\n",
       "  (function(spec, embedOpt){\n",
       "    let outputDiv = document.currentScript.previousElementSibling;\n",
       "    if (outputDiv.id !== \"altair-viz-853b37383d3a479384e6dfdd54d1595a\") {\n",
       "      outputDiv = document.getElementById(\"altair-viz-853b37383d3a479384e6dfdd54d1595a\");\n",
       "    }\n",
       "    const paths = {\n",
       "      \"vega\": \"https://cdn.jsdelivr.net/npm//vega@5?noext\",\n",
       "      \"vega-lib\": \"https://cdn.jsdelivr.net/npm//vega-lib?noext\",\n",
       "      \"vega-lite\": \"https://cdn.jsdelivr.net/npm//vega-lite@4.8.1?noext\",\n",
       "      \"vega-embed\": \"https://cdn.jsdelivr.net/npm//vega-embed@6?noext\",\n",
       "    };\n",
       "\n",
       "    function loadScript(lib) {\n",
       "      return new Promise(function(resolve, reject) {\n",
       "        var s = document.createElement('script');\n",
       "        s.src = paths[lib];\n",
       "        s.async = true;\n",
       "        s.onload = () => resolve(paths[lib]);\n",
       "        s.onerror = () => reject(`Error loading script: ${paths[lib]}`);\n",
       "        document.getElementsByTagName(\"head\")[0].appendChild(s);\n",
       "      });\n",
       "    }\n",
       "\n",
       "    function showError(err) {\n",
       "      outputDiv.innerHTML = `<div class=\"error\" style=\"color:red;\">${err}</div>`;\n",
       "      throw err;\n",
       "    }\n",
       "\n",
       "    function displayChart(vegaEmbed) {\n",
       "      vegaEmbed(outputDiv, spec, embedOpt)\n",
       "        .catch(err => showError(`Javascript Error: ${err.message}<br>This usually means there's a typo in your chart specification. See the javascript console for the full traceback.`));\n",
       "    }\n",
       "\n",
       "    if(typeof define === \"function\" && define.amd) {\n",
       "      requirejs.config({paths});\n",
       "      require([\"vega-embed\"], displayChart, err => showError(`Error loading script: ${err.message}`));\n",
       "    } else if (typeof vegaEmbed === \"function\") {\n",
       "      displayChart(vegaEmbed);\n",
       "    } else {\n",
       "      loadScript(\"vega\")\n",
       "        .then(() => loadScript(\"vega-lite\"))\n",
       "        .then(() => loadScript(\"vega-embed\"))\n",
       "        .catch(showError)\n",
       "        .then(() => displayChart(vegaEmbed));\n",
       "    }\n",
       "  })({\"config\": {\"view\": {\"continuousWidth\": 400, \"continuousHeight\": 300}}, \"layer\": [{\"mark\": \"line\", \"encoding\": {\"color\": {\"type\": \"nominal\", \"field\": \"AlterV20Kurz\", \"legend\": {\"orient\": \"right\", \"title\": \"Altersgruppen\"}}, \"size\": {\"condition\": {\"value\": 0.5, \"selection\": {\"not\": \"selector026\"}}, \"value\": 4}, \"tooltip\": [{\"type\": \"nominal\", \"field\": \"KreisLang\"}, {\"type\": \"nominal\", \"field\": \"AlterV20Kurz\"}, {\"type\": \"quantitative\", \"field\": \"mean_WBev\"}], \"x\": {\"type\": \"quantitative\", \"axis\": {\"title\": \"Stadtkreis\"}, \"field\": \"KreisCd\"}, \"y\": {\"type\": \"quantitative\", \"axis\": {\"title\": \"Mean Aufenthaltsdauer\"}, \"field\": \"mean_WBev\"}}, \"selection\": {\"selector027\": {\"type\": \"interval\", \"bind\": \"scales\", \"encodings\": [\"x\", \"y\"]}}, \"title\": \"Mittlere Aufenthaltsdauer nach Altersgruppe, 2021\"}, {\"mark\": \"circle\", \"encoding\": {\"color\": {\"type\": \"nominal\", \"field\": \"AlterV20Kurz\", \"legend\": {\"orient\": \"right\", \"title\": \"Altersgruppen\"}}, \"opacity\": {\"value\": 0.75}, \"tooltip\": [{\"type\": \"nominal\", \"field\": \"KreisLang\"}, {\"type\": \"nominal\", \"field\": \"AlterV20Kurz\"}, {\"type\": \"quantitative\", \"field\": \"mean_WBev\"}], \"x\": {\"type\": \"quantitative\", \"axis\": {\"title\": \"Stadtkreis\"}, \"field\": \"KreisCd\"}, \"y\": {\"type\": \"quantitative\", \"axis\": {\"title\": \"Mean Aufenthaltsdauer\"}, \"field\": \"mean_WBev\"}}, \"height\": 350, \"selection\": {\"selector026\": {\"type\": \"single\", \"on\": \"mouseover\", \"fields\": [\"AlterV20Kurz\"], \"nearest\": true}}, \"title\": \"Mittlere Aufenthaltsdauer nach Altersgruppe, 2021\", \"width\": 750}], \"data\": {\"name\": \"data-87092fb1f6f419e2be7ddd89fe099150\"}, \"$schema\": \"https://vega.github.io/schema/vega-lite/v4.8.1.json\", \"datasets\": {\"data-87092fb1f6f419e2be7ddd89fe099150\": [{\"AlterV20Kurz\": \"0-19\", \"AlterV20Sort\": 1, \"KreisCd\": 1, \"KreisLang\": \"Kreis 1\", \"mean_WBev\": 6.075}, {\"AlterV20Kurz\": \"0-19\", \"AlterV20Sort\": 1, \"KreisCd\": 6, \"KreisLang\": \"Kreis 6\", \"mean_WBev\": 6.800000000000001}, {\"AlterV20Kurz\": \"0-19\", \"AlterV20Sort\": 1, \"KreisCd\": 2, \"KreisLang\": \"Kreis 2\", \"mean_WBev\": 6.55}, {\"AlterV20Kurz\": \"0-19\", \"AlterV20Sort\": 1, \"KreisCd\": 3, \"KreisLang\": \"Kreis 3\", \"mean_WBev\": 7.574999999999999}, {\"AlterV20Kurz\": \"0-19\", \"AlterV20Sort\": 1, \"KreisCd\": 5, \"KreisLang\": \"Kreis 5\", \"mean_WBev\": 6.674999999999999}, {\"AlterV20Kurz\": \"0-19\", \"AlterV20Sort\": 1, \"KreisCd\": 11, \"KreisLang\": \"Kreis 11\", \"mean_WBev\": 7.3}, {\"AlterV20Kurz\": \"0-19\", \"AlterV20Sort\": 1, \"KreisCd\": 4, \"KreisLang\": \"Kreis 4\", \"mean_WBev\": 7.125}, {\"AlterV20Kurz\": \"0-19\", \"AlterV20Sort\": 1, \"KreisCd\": 8, \"KreisLang\": \"Kreis 8\", \"mean_WBev\": 6.125}, {\"AlterV20Kurz\": \"0-19\", \"AlterV20Sort\": 1, \"KreisCd\": 9, \"KreisLang\": \"Kreis 9\", \"mean_WBev\": 7.175}, {\"AlterV20Kurz\": \"0-19\", \"AlterV20Sort\": 1, \"KreisCd\": 10, \"KreisLang\": \"Kreis 10\", \"mean_WBev\": 6.85}, {\"AlterV20Kurz\": \"0-19\", \"AlterV20Sort\": 1, \"KreisCd\": 12, \"KreisLang\": \"Kreis 12\", \"mean_WBev\": 7.6}, {\"AlterV20Kurz\": \"0-19\", \"AlterV20Sort\": 1, \"KreisCd\": 7, \"KreisLang\": \"Kreis 7\", \"mean_WBev\": 6.9}, {\"AlterV20Kurz\": \"20-39\", \"AlterV20Sort\": 2, \"KreisCd\": 4, \"KreisLang\": \"Kreis 4\", \"mean_WBev\": 8.125}, {\"AlterV20Kurz\": \"20-39\", \"AlterV20Sort\": 2, \"KreisCd\": 11, \"KreisLang\": \"Kreis 11\", \"mean_WBev\": 9.875}, {\"AlterV20Kurz\": \"20-39\", \"AlterV20Sort\": 2, \"KreisCd\": 12, \"KreisLang\": \"Kreis 12\", \"mean_WBev\": 10.1}, {\"AlterV20Kurz\": \"20-39\", \"AlterV20Sort\": 2, \"KreisCd\": 1, \"KreisLang\": \"Kreis 1\", \"mean_WBev\": 6.625}, {\"AlterV20Kurz\": \"20-39\", \"AlterV20Sort\": 2, \"KreisCd\": 3, \"KreisLang\": \"Kreis 3\", \"mean_WBev\": 9.4}, {\"AlterV20Kurz\": \"20-39\", \"AlterV20Sort\": 2, \"KreisCd\": 5, \"KreisLang\": \"Kreis 5\", \"mean_WBev\": 7.775}, {\"AlterV20Kurz\": \"20-39\", \"AlterV20Sort\": 2, \"KreisCd\": 9, \"KreisLang\": \"Kreis 9\", \"mean_WBev\": 10.4}, {\"AlterV20Kurz\": \"20-39\", \"AlterV20Sort\": 2, \"KreisCd\": 7, \"KreisLang\": \"Kreis 7\", \"mean_WBev\": 8.375}, {\"AlterV20Kurz\": \"20-39\", \"AlterV20Sort\": 2, \"KreisCd\": 8, \"KreisLang\": \"Kreis 8\", \"mean_WBev\": 7.1}, {\"AlterV20Kurz\": \"20-39\", \"AlterV20Sort\": 2, \"KreisCd\": 10, \"KreisLang\": \"Kreis 10\", \"mean_WBev\": 9.424999999999999}, {\"AlterV20Kurz\": \"20-39\", \"AlterV20Sort\": 2, \"KreisCd\": 2, \"KreisLang\": \"Kreis 2\", \"mean_WBev\": 8.925}, {\"AlterV20Kurz\": \"20-39\", \"AlterV20Sort\": 2, \"KreisCd\": 6, \"KreisLang\": \"Kreis 6\", \"mean_WBev\": 8.725}, {\"AlterV20Kurz\": \"40-59\", \"AlterV20Sort\": 3, \"KreisCd\": 11, \"KreisLang\": \"Kreis 11\", \"mean_WBev\": 17.825}, {\"AlterV20Kurz\": \"40-59\", \"AlterV20Sort\": 3, \"KreisCd\": 7, \"KreisLang\": \"Kreis 7\", \"mean_WBev\": 14.9}, {\"AlterV20Kurz\": \"40-59\", \"AlterV20Sort\": 3, \"KreisCd\": 2, \"KreisLang\": \"Kreis 2\", \"mean_WBev\": 15.675}, {\"AlterV20Kurz\": \"40-59\", \"AlterV20Sort\": 3, \"KreisCd\": 12, \"KreisLang\": \"Kreis 12\", \"mean_WBev\": 18.575}, {\"AlterV20Kurz\": \"40-59\", \"AlterV20Sort\": 3, \"KreisCd\": 10, \"KreisLang\": \"Kreis 10\", \"mean_WBev\": 17.225}, {\"AlterV20Kurz\": \"40-59\", \"AlterV20Sort\": 3, \"KreisCd\": 1, \"KreisLang\": \"Kreis 1\", \"mean_WBev\": 15.15}, {\"AlterV20Kurz\": \"40-59\", \"AlterV20Sort\": 3, \"KreisCd\": 8, \"KreisLang\": \"Kreis 8\", \"mean_WBev\": 13.899999999999999}, {\"AlterV20Kurz\": \"40-59\", \"AlterV20Sort\": 3, \"KreisCd\": 6, \"KreisLang\": \"Kreis 6\", \"mean_WBev\": 16.25}, {\"AlterV20Kurz\": \"40-59\", \"AlterV20Sort\": 3, \"KreisCd\": 5, \"KreisLang\": \"Kreis 5\", \"mean_WBev\": 16.0}, {\"AlterV20Kurz\": \"40-59\", \"AlterV20Sort\": 3, \"KreisCd\": 4, \"KreisLang\": \"Kreis 4\", \"mean_WBev\": 17.0}, {\"AlterV20Kurz\": \"40-59\", \"AlterV20Sort\": 3, \"KreisCd\": 3, \"KreisLang\": \"Kreis 3\", \"mean_WBev\": 17.775}, {\"AlterV20Kurz\": \"40-59\", \"AlterV20Sort\": 3, \"KreisCd\": 9, \"KreisLang\": \"Kreis 9\", \"mean_WBev\": 18.625}, {\"AlterV20Kurz\": \"60-79\", \"AlterV20Sort\": 4, \"KreisCd\": 10, \"KreisLang\": \"Kreis 10\", \"mean_WBev\": 33.325}, {\"AlterV20Kurz\": \"60-79\", \"AlterV20Sort\": 4, \"KreisCd\": 11, \"KreisLang\": \"Kreis 11\", \"mean_WBev\": 31.950000000000003}, {\"AlterV20Kurz\": \"60-79\", \"AlterV20Sort\": 4, \"KreisCd\": 1, \"KreisLang\": \"Kreis 1\", \"mean_WBev\": 27.349999999999998}, {\"AlterV20Kurz\": \"60-79\", \"AlterV20Sort\": 4, \"KreisCd\": 2, \"KreisLang\": \"Kreis 2\", \"mean_WBev\": 29.674999999999997}, {\"AlterV20Kurz\": \"60-79\", \"AlterV20Sort\": 4, \"KreisCd\": 3, \"KreisLang\": \"Kreis 3\", \"mean_WBev\": 33.2}, {\"AlterV20Kurz\": \"60-79\", \"AlterV20Sort\": 4, \"KreisCd\": 4, \"KreisLang\": \"Kreis 4\", \"mean_WBev\": 30.925}, {\"AlterV20Kurz\": \"60-79\", \"AlterV20Sort\": 4, \"KreisCd\": 5, \"KreisLang\": \"Kreis 5\", \"mean_WBev\": 30.825}, {\"AlterV20Kurz\": \"60-79\", \"AlterV20Sort\": 4, \"KreisCd\": 6, \"KreisLang\": \"Kreis 6\", \"mean_WBev\": 31.650000000000002}, {\"AlterV20Kurz\": \"60-79\", \"AlterV20Sort\": 4, \"KreisCd\": 12, \"KreisLang\": \"Kreis 12\", \"mean_WBev\": 33.025}, {\"AlterV20Kurz\": \"60-79\", \"AlterV20Sort\": 4, \"KreisCd\": 8, \"KreisLang\": \"Kreis 8\", \"mean_WBev\": 27.075}, {\"AlterV20Kurz\": \"60-79\", \"AlterV20Sort\": 4, \"KreisCd\": 9, \"KreisLang\": \"Kreis 9\", \"mean_WBev\": 34.275000000000006}, {\"AlterV20Kurz\": \"60-79\", \"AlterV20Sort\": 4, \"KreisCd\": 7, \"KreisLang\": \"Kreis 7\", \"mean_WBev\": 27.45}, {\"AlterV20Kurz\": \"80-99\", \"AlterV20Sort\": 5, \"KreisCd\": 12, \"KreisLang\": \"Kreis 12\", \"mean_WBev\": 51.4}, {\"AlterV20Kurz\": \"80-99\", \"AlterV20Sort\": 5, \"KreisCd\": 1, \"KreisLang\": \"Kreis 1\", \"mean_WBev\": 46.65}, {\"AlterV20Kurz\": \"80-99\", \"AlterV20Sort\": 5, \"KreisCd\": 11, \"KreisLang\": \"Kreis 11\", \"mean_WBev\": 50.6}, {\"AlterV20Kurz\": \"80-99\", \"AlterV20Sort\": 5, \"KreisCd\": 10, \"KreisLang\": \"Kreis 10\", \"mean_WBev\": 49.6}, {\"AlterV20Kurz\": \"80-99\", \"AlterV20Sort\": 5, \"KreisCd\": 9, \"KreisLang\": \"Kreis 9\", \"mean_WBev\": 51.025}, {\"AlterV20Kurz\": \"80-99\", \"AlterV20Sort\": 5, \"KreisCd\": 8, \"KreisLang\": \"Kreis 8\", \"mean_WBev\": 44.425}, {\"AlterV20Kurz\": \"80-99\", \"AlterV20Sort\": 5, \"KreisCd\": 4, \"KreisLang\": \"Kreis 4\", \"mean_WBev\": 47.9}, {\"AlterV20Kurz\": \"80-99\", \"AlterV20Sort\": 5, \"KreisCd\": 6, \"KreisLang\": \"Kreis 6\", \"mean_WBev\": 47.2}, {\"AlterV20Kurz\": \"80-99\", \"AlterV20Sort\": 5, \"KreisCd\": 5, \"KreisLang\": \"Kreis 5\", \"mean_WBev\": 46.025}, {\"AlterV20Kurz\": \"80-99\", \"AlterV20Sort\": 5, \"KreisCd\": 3, \"KreisLang\": \"Kreis 3\", \"mean_WBev\": 50.775}, {\"AlterV20Kurz\": \"80-99\", \"AlterV20Sort\": 5, \"KreisCd\": 2, \"KreisLang\": \"Kreis 2\", \"mean_WBev\": 46.75}, {\"AlterV20Kurz\": \"80-99\", \"AlterV20Sort\": 5, \"KreisCd\": 7, \"KreisLang\": \"Kreis 7\", \"mean_WBev\": 42.95}, {\"AlterV20Kurz\": \"100 u. \\u00e4lter\", \"AlterV20Sort\": 6, \"KreisCd\": 11, \"KreisLang\": \"Kreis 11\", \"mean_WBev\": 66.8}, {\"AlterV20Kurz\": \"100 u. \\u00e4lter\", \"AlterV20Sort\": 6, \"KreisCd\": 1, \"KreisLang\": \"Kreis 1\", \"mean_WBev\": 55.9}, {\"AlterV20Kurz\": \"100 u. \\u00e4lter\", \"AlterV20Sort\": 6, \"KreisCd\": 2, \"KreisLang\": \"Kreis 2\", \"mean_WBev\": 57.4}, {\"AlterV20Kurz\": \"100 u. \\u00e4lter\", \"AlterV20Sort\": 6, \"KreisCd\": 3, \"KreisLang\": \"Kreis 3\", \"mean_WBev\": 57.35}, {\"AlterV20Kurz\": \"100 u. \\u00e4lter\", \"AlterV20Sort\": 6, \"KreisCd\": 4, \"KreisLang\": \"Kreis 4\", \"mean_WBev\": 79.7}, {\"AlterV20Kurz\": \"100 u. \\u00e4lter\", \"AlterV20Sort\": 6, \"KreisCd\": 6, \"KreisLang\": \"Kreis 6\", \"mean_WBev\": 58.70000000000001}, {\"AlterV20Kurz\": \"100 u. \\u00e4lter\", \"AlterV20Sort\": 6, \"KreisCd\": 7, \"KreisLang\": \"Kreis 7\", \"mean_WBev\": 49.6}, {\"AlterV20Kurz\": \"100 u. \\u00e4lter\", \"AlterV20Sort\": 6, \"KreisCd\": 8, \"KreisLang\": \"Kreis 8\", \"mean_WBev\": 52.56666666666666}, {\"AlterV20Kurz\": \"100 u. \\u00e4lter\", \"AlterV20Sort\": 6, \"KreisCd\": 9, \"KreisLang\": \"Kreis 9\", \"mean_WBev\": 37.85}, {\"AlterV20Kurz\": \"100 u. \\u00e4lter\", \"AlterV20Sort\": 6, \"KreisCd\": 10, \"KreisLang\": \"Kreis 10\", \"mean_WBev\": 52.699999999999996}, {\"AlterV20Kurz\": \"100 u. \\u00e4lter\", \"AlterV20Sort\": 6, \"KreisCd\": 12, \"KreisLang\": \"Kreis 12\", \"mean_WBev\": 62.15}]}}, {\"mode\": \"vega-lite\"});\n",
       "</script>"
      ],
      "text/plain": [
       "alt.LayerChart(...)"
      ]
     },
     "execution_count": 95,
     "metadata": {},
     "output_type": "execute_result"
    }
   ],
   "source": [
    "myTitle=\"Mittlere Aufenthaltsdauer nach Altersgruppe, 2021\"\n",
    "\n",
    "highlight = alt.selection(type='single', on='mouseover',\n",
    "                          fields=['AlterV20Kurz'], nearest=True)\n",
    "#x='date:StichtagDatJahr',\n",
    "base = alt.Chart(myAgg.reset_index().query('mean_WBev>0').sort_values('AlterV20Sort', ascending=True), title=myTitle).encode(\n",
    "    x=alt.X('KreisCd', axis=alt.Axis(title='Stadtkreis'))# , axis=alt.Axis(format='%', title='percentage')\n",
    "    , y=alt.X('mean_WBev', axis=alt.Axis(title='Mean Aufenthaltsdauer'))\n",
    "    , color=alt.Color('AlterV20Kurz', legend=alt.Legend(title=\"Altersgruppen\", orient=\"right\"))  \n",
    "    ,tooltip=['KreisLang', 'AlterV20Kurz','mean_WBev']    \n",
    ")\n",
    "points = base.mark_circle().encode(\n",
    "    opacity=alt.value(0.75)\n",
    ").add_selection(\n",
    "    highlight\n",
    ").properties(\n",
    "    width=750 , height=350\n",
    ")\n",
    "lines = base.mark_line().encode(\n",
    "    size=alt.condition(~highlight, alt.value(0.5), alt.value(4))\n",
    ").interactive()\n",
    "\n",
    "lines + points"
   ]
  },
  {
   "cell_type": "markdown",
   "metadata": {},
   "source": [
    "**Sharepoint als gecheckt markieren!**"
   ]
  },
  {
   "cell_type": "markdown",
   "metadata": {},
   "source": [
    "Record auf Sharepoint: **[Link](http://kollaboration.intranet.stzh.ch/orga/ssz-produkte/Lists/SASA_Outputs/EditForm.aspx?ID=464&Source=http%3A%2F%2Fkollaboration%2Eintranet%2Estzh%2Ech%2Forga%2Fssz%2Dprodukte%2FLists%2FSASA%5FOutputs%2FPersonalViews%2Easpx%3FPageView%3DPersonal%26ShowWebPart%3D%7B6087A3E7%2D8AC8%2D40BA%2D8278%2DDECFACE124FF%7D%23InplviewHash6087a3e7%2D8ac8%2D40ba%2D8278%2Ddecface124ff%3DSortField%253DPackagename%2DSortDir%253DAsc%2DFilterField1%253DDiffusionsereignis%2DFilterValue1%253DBev%2525C3%2525B6lkerung%2525202020)**"
   ]
  },
  {
   "cell_type": "code",
   "execution_count": null,
   "metadata": {},
   "outputs": [],
   "source": []
  },
  {
   "cell_type": "raw",
   "metadata": {},
   "source": []
  },
  {
   "cell_type": "code",
   "execution_count": null,
   "metadata": {},
   "outputs": [],
   "source": []
  }
 ],
 "metadata": {
  "kernelspec": {
   "display_name": "Python 3 (ipykernel)",
   "language": "python",
   "name": "python3"
  },
  "language_info": {
   "codemirror_mode": {
    "name": "ipython",
    "version": 3
   },
   "file_extension": ".py",
   "mimetype": "text/x-python",
   "name": "python",
   "nbconvert_exporter": "python",
   "pygments_lexer": "ipython3",
   "version": "3.7.11"
  }
 },
 "nbformat": 4,
 "nbformat_minor": 4
}
