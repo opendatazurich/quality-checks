{
 "cells": [
  {
   "cell_type": "markdown",
   "metadata": {},
   "source": [
    "# Testing\n",
    "### Wirtschaftliche Wohnbevölkerung der Stadt Zürich nach Religion und Jahr, seit 1934.\n",
    "\n",
    "Datum: 15.03.2022\n"
   ]
  },
  {
   "cell_type": "markdown",
   "metadata": {},
   "source": [
    "### Importiere die notwendigen Packages"
   ]
  },
  {
   "cell_type": "code",
   "execution_count": 1,
   "metadata": {},
   "outputs": [],
   "source": [
    "#%pip install geopandas altair fiona requests folium mplleaflet contextily seaborn datetime plotly leafmap"
   ]
  },
  {
   "cell_type": "code",
   "execution_count": 15,
   "metadata": {},
   "outputs": [],
   "source": [
    "import pandas as pd\n",
    "import pivottablejs\n",
    "from pivottablejs import pivot_ui\n",
    "import numpy as np\n",
    "import altair as alt\n",
    "import matplotlib.pyplot as plt\n",
    "\n",
    "import datetime\n",
    "import geopandas as gpd\n",
    "import folium \n",
    "import plotly.express as px\n",
    "import seaborn as sns\n",
    "#import leafmap\n",
    "\n",
    "import requests\n",
    "import io\n"
   ]
  },
  {
   "cell_type": "code",
   "execution_count": 16,
   "metadata": {},
   "outputs": [],
   "source": [
    "SSL_VERIFY = False\n",
    "# evtl. SSL_VERIFY auf False setzen wenn die Verbindung zu https://www.gemeinderat-zuerich.ch nicht klappt (z.B. wegen Proxy)\n",
    "# Um die SSL Verifikation auszustellen, bitte die nächste Zeile einkommentieren (\"#\" entfernen)\n",
    "# SSL_VERIFY = False"
   ]
  },
  {
   "cell_type": "code",
   "execution_count": 17,
   "metadata": {},
   "outputs": [],
   "source": [
    "if not SSL_VERIFY:\n",
    "    import urllib3\n",
    "    urllib3.disable_warnings()"
   ]
  },
  {
   "cell_type": "markdown",
   "metadata": {},
   "source": [
    "Definiere Settings. Hier das Zahlenformat von Float-Werten (z.B. *'{:,.2f}'.format* mit Komma als Tausenderzeichen), "
   ]
  },
  {
   "cell_type": "code",
   "execution_count": 18,
   "metadata": {},
   "outputs": [],
   "source": [
    "#pd.options.display.float_format = lambda x : '{:,.1f}'.format(x) if (np.isnan(x) | np.isinf(x)) else '{:,.0f}'.format(x) if int(x) == x else '{:,.1f}'.format(x)\n",
    "pd.options.display.float_format = '{:.0f}'.format\n",
    "pd.set_option('display.width', 100)\n",
    "pd.set_option('display.max_columns', 15)"
   ]
  },
  {
   "cell_type": "markdown",
   "metadata": {},
   "source": [
    "### Zeitvariabeln\n",
    "Bestimme den aktuellst geladenen Monat. Hier ist es der Stand vor 2 Monaten. \n",
    "Bestimme noch weitere evt. sinnvolle Zeitvariabeln.\n",
    "\n",
    "Zum Unterschied zwischen import datetime und from datedtime import datetime, siehe https://stackoverflow.com/questions/15707532/import-datetime-v-s-from-datetime-import-datetime\n",
    "\n",
    "Zuerst die Zeitvariabeln als Strings"
   ]
  },
  {
   "cell_type": "code",
   "execution_count": 19,
   "metadata": {},
   "outputs": [],
   "source": [
    "#today_date = datetime.date.today()\n",
    "#date_time = datetime.datetime.strptime(date_time_string, '%Y-%m-%d %H:%M')\n",
    "now = datetime.date.today()\n",
    "date_today = now.strftime(\"%Y-%m-%d\")\n",
    "year_today = now.strftime(\"%Y\")\n",
    "month_today = now.strftime(\"%m\")\n",
    "day_today = now.strftime(\"%d\")\n"
   ]
  },
  {
   "cell_type": "markdown",
   "metadata": {},
   "source": [
    "Und hier noch die Zeitvariabeln als Integers:\n",
    "- `aktuellesJahr`\n",
    "- `aktuellerMonat`: Der gerade jetzt aktuelle Monat\n",
    "- `selectedMonat`: Der aktuellste Monat in den Daten. In der Regel zwei Monate her."
   ]
  },
  {
   "cell_type": "code",
   "execution_count": 20,
   "metadata": {},
   "outputs": [
    {
     "name": "stdout",
     "output_type": "stream",
     "text": [
      "2022 11 datenstand:  9 time.struct_time(tm_year=2022, tm_mon=11, tm_mday=10, tm_hour=0, tm_min=0, tm_sec=0, tm_wday=3, tm_yday=314, tm_isdst=-1)\n"
     ]
    }
   ],
   "source": [
    "#now = datetime.now() \n",
    "int_times = now.timetuple()\n",
    "\n",
    "aktuellesJahr = int_times[0]\n",
    "aktuellerMonat = int_times[1]\n",
    "selectedMonat = int_times[1]-2\n",
    "\n",
    "print(aktuellesJahr, \n",
    "      aktuellerMonat,\n",
    "    'datenstand: ', selectedMonat,\n",
    "     int_times)\n"
   ]
  },
  {
   "cell_type": "markdown",
   "metadata": {},
   "source": [
    "Berechne die Variable Epoche um später das SAS-Datum in ein Unix-Datum umzuwandeln. Bei SAS beginnt die Epoche am 1.1.1960. Bei Unix am 1.1.1970.\n",
    "Diese Variable wird beim CSV-Import benötigt."
   ]
  },
  {
   "cell_type": "code",
   "execution_count": 21,
   "metadata": {},
   "outputs": [],
   "source": [
    "epoch = datetime.datetime(1960, 1, 1)"
   ]
  },
  {
   "cell_type": "markdown",
   "metadata": {},
   "source": [
    "### Setze einige Pfadvariabeln"
   ]
  },
  {
   "cell_type": "markdown",
   "metadata": {
    "tags": []
   },
   "source": [
    "- Der Packagename ist eigentlich der **Verzeichnisname** unter dem die Daten und Metadaten auf der Dropzone abgelegt werden.\n",
    "- Definiert wird er bei SASA-Prozessen auf dem **Produkte-Sharepoint ([Link](https://kollaboration.intranet.stzh.ch/orga/ssz-produkte/Lists/SASA_Outputs/PersonalViews.aspx?PageView=Personal&ShowWebPart={6087A3E7-8AC8-40BA-8278-DECFACE124FF}))**.\n",
    "- Der Packagename wird auf CKAN teil der URL, daher ist die exakte Schreibweise wichtig.\n",
    "\n",
    "Beachte: im Packagename müssen alle Buchstaben **klein** geschrieben werden. Dies weil CKAN aus grossen kleine Buchstaben macht."
   ]
  },
  {
   "cell_type": "markdown",
   "metadata": {},
   "source": [
    "**BITTE HIER ANPASSEN**"
   ]
  },
  {
   "cell_type": "code",
   "execution_count": 22,
   "metadata": {},
   "outputs": [],
   "source": [
    "package_name = \"bev_bestand_jahr_konfession_od3160\""
   ]
  },
  {
   "cell_type": "code",
   "execution_count": 23,
   "metadata": {
    "tags": []
   },
   "outputs": [],
   "source": [
    "dataset_name = \"BEV316OD3160.csv\""
   ]
  },
  {
   "cell_type": "markdown",
   "metadata": {},
   "source": [
    "**Statische Pfade in DWH-Dropzones**"
   ]
  },
  {
   "cell_type": "code",
   "execution_count": 24,
   "metadata": {},
   "outputs": [],
   "source": [
    "dropzone_path_integ = r\"\\\\szh\\ssz\\applikationen\\OGD_Dropzone\\INT_DWH\""
   ]
  },
  {
   "cell_type": "code",
   "execution_count": 25,
   "metadata": {
    "tags": []
   },
   "outputs": [],
   "source": [
    "dropzone_path_prod = r\"\\\\szh\\ssz\\applikationen\\OGD_Dropzone\\DWH\""
   ]
  },
  {
   "cell_type": "markdown",
   "metadata": {},
   "source": [
    "**Statische Pfade CKAN-URLs**"
   ]
  },
  {
   "cell_type": "code",
   "execution_count": 26,
   "metadata": {
    "tags": []
   },
   "outputs": [],
   "source": [
    "ckan_integ_url =\"https://data.integ.stadt-zuerich.ch/dataset/int_dwh_\""
   ]
  },
  {
   "cell_type": "code",
   "execution_count": 27,
   "metadata": {},
   "outputs": [],
   "source": [
    "ckan_prod_url =\"https://data.stadt-zuerich.ch/dataset/\""
   ]
  },
  {
   "cell_type": "markdown",
   "metadata": {},
   "source": [
    "### Checke die Metadaten auf der CKAN INTEG- oder PROD-Webseite\n",
    "\n",
    "Offenbar lassen sich aktuell im Markdownteil keine Variabeln ausführen, daher gehen wir wie unten gezeigt vor. Siehe dazu: https://data-dive.com/jupyterlab-markdown-cells-include-variables\n",
    "Instead of setting the cell to Markdown, create Markdown from withnin a code cell! We can just use python variable replacement syntax to make the text dynamic"
   ]
  },
  {
   "cell_type": "code",
   "execution_count": 28,
   "metadata": {},
   "outputs": [],
   "source": [
    "from IPython.display import Markdown as md"
   ]
  },
  {
   "cell_type": "code",
   "execution_count": 29,
   "metadata": {},
   "outputs": [
    {
     "data": {
      "text/markdown": [
       " **1. Dataset auf INTEG-Datakatalog:** Link https://data.integ.stadt-zuerich.ch/dataset/int_dwh_bev_bestand_jahr_konfession_od3160 "
      ],
      "text/plain": [
       "<IPython.core.display.Markdown object>"
      ]
     },
     "execution_count": 29,
     "metadata": {},
     "output_type": "execute_result"
    }
   ],
   "source": [
    "md(\" **1. Dataset auf INTEG-Datakatalog:** Link {} \".format(ckan_integ_url+package_name))"
   ]
  },
  {
   "cell_type": "code",
   "execution_count": 30,
   "metadata": {
    "tags": []
   },
   "outputs": [
    {
     "data": {
      "text/markdown": [
       " **2. Dataset auf PROD-Datakatalog:** Link https://data.stadt-zuerich.ch/dataset/bev_bestand_jahr_konfession_od3160 "
      ],
      "text/plain": [
       "<IPython.core.display.Markdown object>"
      ]
     },
     "execution_count": 30,
     "metadata": {},
     "output_type": "execute_result"
    }
   ],
   "source": [
    "md(\" **2. Dataset auf PROD-Datakatalog:** Link {} \".format(ckan_prod_url+package_name))"
   ]
  },
  {
   "cell_type": "markdown",
   "metadata": {
    "tags": []
   },
   "source": [
    "### Importiere einen Datensatz \n",
    "\n",
    "Definiere zuerst folgende Werte:\n",
    "1) Kommt der Datensatz von PROD oder INTEG?\n",
    "2) Beziehst Du den Datensatz direkt ab der DROPZONE oder aus dem INTERNET?"
   ]
  },
  {
   "cell_type": "code",
   "execution_count": 31,
   "metadata": {},
   "outputs": [
    {
     "name": "stdout",
     "output_type": "stream",
     "text": [
      "integ - web\n"
     ]
    }
   ],
   "source": [
    "#Die Datasets sind nur zum Testen auf INT-DWH-Dropzone. Wenn der Test vorbei ist, sind sie auf PROD. \n",
    "# Über den Status kann man einfach switchen\n",
    "\n",
    "status = \"integ\"; #prod vs something else\n",
    "data_source = \"web\"; #dropzone vs something else\n",
    "print(status+\" - \"+ data_source)"
   ]
  },
  {
   "cell_type": "code",
   "execution_count": 32,
   "metadata": {
    "tags": []
   },
   "outputs": [
    {
     "name": "stdout",
     "output_type": "stream",
     "text": [
      "fp lautet:https://data.integ.stadt-zuerich.ch/dataset/int_dwh_bev_bestand_jahr_konfession_od3160/download/BEV316OD3160.csv\n"
     ]
    }
   ],
   "source": [
    "# Filepath\n",
    "if status == \"prod\":\n",
    "    if data_source == \"dropzone\":\n",
    "            fp = dropzone_path_prod+\"\\\\\"+ package_name +\"\\\\\"+dataset_name\n",
    "            print(\"fp lautet:\"+fp)\n",
    "    else:\n",
    "        #fp = r\"https://data.stadt-zuerich.ch/dataset/bau_neubau_whg_bausm_rinh_geb_projstatus_quartier_seit2009_od5011/download/BAU501OD5011.csv\"\n",
    "        fp = ckan_prod_url+package_name+'/download/'+dataset_name\n",
    "        print(\"fp lautet:\"+fp)\n",
    "else:\n",
    "    if data_source == \"dropzone\":\n",
    "        fp = dropzone_path_integ+\"\\\\\"+ package_name +\"\\\\\"+dataset_name\n",
    "        print(\"fp lautet:\"+fp)\n",
    "    else:\n",
    "        #fp = r\"https://data.stadt-zuerich.ch/dataset/bau_neubau_whg_bausm_rinh_geb_projstatus_quartier_seit2009_od5011/download/BAU501OD5011.csv\"\n",
    "        fp = ckan_integ_url+package_name+'/download/'+dataset_name\n",
    "        print(\"fp lautet:\"+fp)\n"
   ]
  },
  {
   "cell_type": "markdown",
   "metadata": {},
   "source": [
    "Beachte, wie das SAS Datum (ohne Format) in ein UNIX Datum umgerechnet und als Datumsformat dargestellt wird! Siehe dazu `https://stackoverflow.com/questions/26923564/convert-sas-numeric-to-python-datetime`"
   ]
  },
  {
   "cell_type": "code",
   "execution_count": 33,
   "metadata": {},
   "outputs": [
    {
     "ename": "ValueError",
     "evalue": "Missing column provided to 'parse_dates': 'StichtagDatJahr'",
     "output_type": "error",
     "traceback": [
      "\u001b[1;31m---------------------------------------------------------------------------\u001b[0m",
      "\u001b[1;31mValueError\u001b[0m                                Traceback (most recent call last)",
      "\u001b[1;32m<ipython-input-33-c4ee0121937d>\u001b[0m in \u001b[0;36m<module>\u001b[1;34m\u001b[0m\n\u001b[0;32m     11\u001b[0m     \u001b[0mr\u001b[0m \u001b[1;33m=\u001b[0m \u001b[0mrequests\u001b[0m\u001b[1;33m.\u001b[0m\u001b[0mget\u001b[0m\u001b[1;33m(\u001b[0m\u001b[0mfp\u001b[0m\u001b[1;33m,\u001b[0m \u001b[0mverify\u001b[0m\u001b[1;33m=\u001b[0m\u001b[1;32mFalse\u001b[0m\u001b[1;33m)\u001b[0m\u001b[1;33m\u001b[0m\u001b[1;33m\u001b[0m\u001b[0m\n\u001b[0;32m     12\u001b[0m     \u001b[0mr\u001b[0m\u001b[1;33m.\u001b[0m\u001b[0mencoding\u001b[0m \u001b[1;33m=\u001b[0m \u001b[1;34m'utf-8'\u001b[0m\u001b[1;33m\u001b[0m\u001b[1;33m\u001b[0m\u001b[0m\n\u001b[1;32m---> 13\u001b[1;33m     data2betested = pd.read_csv(\n\u001b[0m\u001b[0;32m     14\u001b[0m         \u001b[0mio\u001b[0m\u001b[1;33m.\u001b[0m\u001b[0mStringIO\u001b[0m\u001b[1;33m(\u001b[0m\u001b[0mr\u001b[0m\u001b[1;33m.\u001b[0m\u001b[0mtext\u001b[0m\u001b[1;33m)\u001b[0m\u001b[1;33m\u001b[0m\u001b[1;33m\u001b[0m\u001b[0m\n\u001b[0;32m     15\u001b[0m         \u001b[1;33m,\u001b[0m\u001b[0mparse_dates\u001b[0m\u001b[1;33m=\u001b[0m\u001b[1;33m[\u001b[0m\u001b[1;34m'StichtagDatJahr'\u001b[0m\u001b[1;33m]\u001b[0m\u001b[1;33m\u001b[0m\u001b[1;33m\u001b[0m\u001b[0m\n",
      "\u001b[1;32m~\\AppData\\Local\\Continuum\\anaconda3\\lib\\site-packages\\pandas\\io\\parsers.py\u001b[0m in \u001b[0;36mread_csv\u001b[1;34m(filepath_or_buffer, sep, delimiter, header, names, index_col, usecols, squeeze, prefix, mangle_dupe_cols, dtype, engine, converters, true_values, false_values, skipinitialspace, skiprows, skipfooter, nrows, na_values, keep_default_na, na_filter, verbose, skip_blank_lines, parse_dates, infer_datetime_format, keep_date_col, date_parser, dayfirst, cache_dates, iterator, chunksize, compression, thousands, decimal, lineterminator, quotechar, quoting, doublequote, escapechar, comment, encoding, dialect, error_bad_lines, warn_bad_lines, delim_whitespace, low_memory, memory_map, float_precision, storage_options)\u001b[0m\n\u001b[0;32m    608\u001b[0m     \u001b[0mkwds\u001b[0m\u001b[1;33m.\u001b[0m\u001b[0mupdate\u001b[0m\u001b[1;33m(\u001b[0m\u001b[0mkwds_defaults\u001b[0m\u001b[1;33m)\u001b[0m\u001b[1;33m\u001b[0m\u001b[1;33m\u001b[0m\u001b[0m\n\u001b[0;32m    609\u001b[0m \u001b[1;33m\u001b[0m\u001b[0m\n\u001b[1;32m--> 610\u001b[1;33m     \u001b[1;32mreturn\u001b[0m \u001b[0m_read\u001b[0m\u001b[1;33m(\u001b[0m\u001b[0mfilepath_or_buffer\u001b[0m\u001b[1;33m,\u001b[0m \u001b[0mkwds\u001b[0m\u001b[1;33m)\u001b[0m\u001b[1;33m\u001b[0m\u001b[1;33m\u001b[0m\u001b[0m\n\u001b[0m\u001b[0;32m    611\u001b[0m \u001b[1;33m\u001b[0m\u001b[0m\n\u001b[0;32m    612\u001b[0m \u001b[1;33m\u001b[0m\u001b[0m\n",
      "\u001b[1;32m~\\AppData\\Local\\Continuum\\anaconda3\\lib\\site-packages\\pandas\\io\\parsers.py\u001b[0m in \u001b[0;36m_read\u001b[1;34m(filepath_or_buffer, kwds)\u001b[0m\n\u001b[0;32m    460\u001b[0m \u001b[1;33m\u001b[0m\u001b[0m\n\u001b[0;32m    461\u001b[0m     \u001b[1;31m# Create the parser.\u001b[0m\u001b[1;33m\u001b[0m\u001b[1;33m\u001b[0m\u001b[1;33m\u001b[0m\u001b[0m\n\u001b[1;32m--> 462\u001b[1;33m     \u001b[0mparser\u001b[0m \u001b[1;33m=\u001b[0m \u001b[0mTextFileReader\u001b[0m\u001b[1;33m(\u001b[0m\u001b[0mfilepath_or_buffer\u001b[0m\u001b[1;33m,\u001b[0m \u001b[1;33m**\u001b[0m\u001b[0mkwds\u001b[0m\u001b[1;33m)\u001b[0m\u001b[1;33m\u001b[0m\u001b[1;33m\u001b[0m\u001b[0m\n\u001b[0m\u001b[0;32m    463\u001b[0m \u001b[1;33m\u001b[0m\u001b[0m\n\u001b[0;32m    464\u001b[0m     \u001b[1;32mif\u001b[0m \u001b[0mchunksize\u001b[0m \u001b[1;32mor\u001b[0m \u001b[0miterator\u001b[0m\u001b[1;33m:\u001b[0m\u001b[1;33m\u001b[0m\u001b[1;33m\u001b[0m\u001b[0m\n",
      "\u001b[1;32m~\\AppData\\Local\\Continuum\\anaconda3\\lib\\site-packages\\pandas\\io\\parsers.py\u001b[0m in \u001b[0;36m__init__\u001b[1;34m(self, f, engine, **kwds)\u001b[0m\n\u001b[0;32m    817\u001b[0m             \u001b[0mself\u001b[0m\u001b[1;33m.\u001b[0m\u001b[0moptions\u001b[0m\u001b[1;33m[\u001b[0m\u001b[1;34m\"has_index_names\"\u001b[0m\u001b[1;33m]\u001b[0m \u001b[1;33m=\u001b[0m \u001b[0mkwds\u001b[0m\u001b[1;33m[\u001b[0m\u001b[1;34m\"has_index_names\"\u001b[0m\u001b[1;33m]\u001b[0m\u001b[1;33m\u001b[0m\u001b[1;33m\u001b[0m\u001b[0m\n\u001b[0;32m    818\u001b[0m \u001b[1;33m\u001b[0m\u001b[0m\n\u001b[1;32m--> 819\u001b[1;33m         \u001b[0mself\u001b[0m\u001b[1;33m.\u001b[0m\u001b[0m_engine\u001b[0m \u001b[1;33m=\u001b[0m \u001b[0mself\u001b[0m\u001b[1;33m.\u001b[0m\u001b[0m_make_engine\u001b[0m\u001b[1;33m(\u001b[0m\u001b[0mself\u001b[0m\u001b[1;33m.\u001b[0m\u001b[0mengine\u001b[0m\u001b[1;33m)\u001b[0m\u001b[1;33m\u001b[0m\u001b[1;33m\u001b[0m\u001b[0m\n\u001b[0m\u001b[0;32m    820\u001b[0m \u001b[1;33m\u001b[0m\u001b[0m\n\u001b[0;32m    821\u001b[0m     \u001b[1;32mdef\u001b[0m \u001b[0mclose\u001b[0m\u001b[1;33m(\u001b[0m\u001b[0mself\u001b[0m\u001b[1;33m)\u001b[0m\u001b[1;33m:\u001b[0m\u001b[1;33m\u001b[0m\u001b[1;33m\u001b[0m\u001b[0m\n",
      "\u001b[1;32m~\\AppData\\Local\\Continuum\\anaconda3\\lib\\site-packages\\pandas\\io\\parsers.py\u001b[0m in \u001b[0;36m_make_engine\u001b[1;34m(self, engine)\u001b[0m\n\u001b[0;32m   1048\u001b[0m             )\n\u001b[0;32m   1049\u001b[0m         \u001b[1;31m# error: Too many arguments for \"ParserBase\"\u001b[0m\u001b[1;33m\u001b[0m\u001b[1;33m\u001b[0m\u001b[1;33m\u001b[0m\u001b[0m\n\u001b[1;32m-> 1050\u001b[1;33m         \u001b[1;32mreturn\u001b[0m \u001b[0mmapping\u001b[0m\u001b[1;33m[\u001b[0m\u001b[0mengine\u001b[0m\u001b[1;33m]\u001b[0m\u001b[1;33m(\u001b[0m\u001b[0mself\u001b[0m\u001b[1;33m.\u001b[0m\u001b[0mf\u001b[0m\u001b[1;33m,\u001b[0m \u001b[1;33m**\u001b[0m\u001b[0mself\u001b[0m\u001b[1;33m.\u001b[0m\u001b[0moptions\u001b[0m\u001b[1;33m)\u001b[0m  \u001b[1;31m# type: ignore[call-arg]\u001b[0m\u001b[1;33m\u001b[0m\u001b[1;33m\u001b[0m\u001b[0m\n\u001b[0m\u001b[0;32m   1051\u001b[0m \u001b[1;33m\u001b[0m\u001b[0m\n\u001b[0;32m   1052\u001b[0m     \u001b[1;32mdef\u001b[0m \u001b[0m_failover_to_python\u001b[0m\u001b[1;33m(\u001b[0m\u001b[0mself\u001b[0m\u001b[1;33m)\u001b[0m\u001b[1;33m:\u001b[0m\u001b[1;33m\u001b[0m\u001b[1;33m\u001b[0m\u001b[0m\n",
      "\u001b[1;32m~\\AppData\\Local\\Continuum\\anaconda3\\lib\\site-packages\\pandas\\io\\parsers.py\u001b[0m in \u001b[0;36m__init__\u001b[1;34m(self, src, **kwds)\u001b[0m\n\u001b[0;32m   1959\u001b[0m                 \u001b[0m_validate_usecols_names\u001b[0m\u001b[1;33m(\u001b[0m\u001b[0musecols\u001b[0m\u001b[1;33m,\u001b[0m \u001b[0mself\u001b[0m\u001b[1;33m.\u001b[0m\u001b[0mnames\u001b[0m\u001b[1;33m)\u001b[0m\u001b[1;33m\u001b[0m\u001b[1;33m\u001b[0m\u001b[0m\n\u001b[0;32m   1960\u001b[0m \u001b[1;33m\u001b[0m\u001b[0m\n\u001b[1;32m-> 1961\u001b[1;33m         \u001b[0mself\u001b[0m\u001b[1;33m.\u001b[0m\u001b[0m_validate_parse_dates_presence\u001b[0m\u001b[1;33m(\u001b[0m\u001b[0mself\u001b[0m\u001b[1;33m.\u001b[0m\u001b[0mnames\u001b[0m\u001b[1;33m)\u001b[0m\u001b[1;33m\u001b[0m\u001b[1;33m\u001b[0m\u001b[0m\n\u001b[0m\u001b[0;32m   1962\u001b[0m         \u001b[0mself\u001b[0m\u001b[1;33m.\u001b[0m\u001b[0m_set_noconvert_columns\u001b[0m\u001b[1;33m(\u001b[0m\u001b[1;33m)\u001b[0m\u001b[1;33m\u001b[0m\u001b[1;33m\u001b[0m\u001b[0m\n\u001b[0;32m   1963\u001b[0m \u001b[1;33m\u001b[0m\u001b[0m\n",
      "\u001b[1;32m~\\AppData\\Local\\Continuum\\anaconda3\\lib\\site-packages\\pandas\\io\\parsers.py\u001b[0m in \u001b[0;36m_validate_parse_dates_presence\u001b[1;34m(self, columns)\u001b[0m\n\u001b[0;32m   1413\u001b[0m         )\n\u001b[0;32m   1414\u001b[0m         \u001b[1;32mif\u001b[0m \u001b[0mmissing_cols\u001b[0m\u001b[1;33m:\u001b[0m\u001b[1;33m\u001b[0m\u001b[1;33m\u001b[0m\u001b[0m\n\u001b[1;32m-> 1415\u001b[1;33m             raise ValueError(\n\u001b[0m\u001b[0;32m   1416\u001b[0m                 \u001b[1;34mf\"Missing column provided to 'parse_dates': '{missing_cols}'\"\u001b[0m\u001b[1;33m\u001b[0m\u001b[1;33m\u001b[0m\u001b[0m\n\u001b[0;32m   1417\u001b[0m             )\n",
      "\u001b[1;31mValueError\u001b[0m: Missing column provided to 'parse_dates': 'StichtagDatJahr'"
     ]
    }
   ],
   "source": [
    "# Read the data\n",
    "if data_source == \"dropzone\":\n",
    "    data2betested = pd.read_csv(\n",
    "        fp\n",
    "        , sep=','\n",
    "        ,parse_dates=['StichtagDatJahr']\n",
    "        ,low_memory=False\n",
    "    )\n",
    "    print(\"dropzone\")\n",
    "else:\n",
    "    r = requests.get(fp, verify=False)  \n",
    "    r.encoding = 'utf-8'\n",
    "    data2betested = pd.read_csv(\n",
    "        io.StringIO(r.text)\n",
    "        ,parse_dates=['StichtagDatJahr']\n",
    "        # KONVERTIERE DAS SAS DATUM IN EIN UNIXDATUM UND FORMATIERE ES\n",
    "        #, date_parser=lambda s: epoch + datetime.timedelta(days=int(s))\n",
    "        ,low_memory=False)\n",
    "    print(\"web\")\n",
    "\n",
    "data2betested.dtypes"
   ]
  },
  {
   "cell_type": "markdown",
   "metadata": {},
   "source": [
    "Berechne weitere Attribute falls notwendig"
   ]
  },
  {
   "cell_type": "code",
   "execution_count": 23,
   "metadata": {},
   "outputs": [
    {
     "data": {
      "text/plain": [
       "StichtagDatJahr    datetime64[ns]\n",
       "KonOGDSort                  int64\n",
       "KonOGDKurz                 object\n",
       "AnzBestWir                  int64\n",
       "Jahr               datetime64[ns]\n",
       "Jahr_str                   object\n",
       "dtype: object"
      ]
     },
     "execution_count": 23,
     "metadata": {},
     "output_type": "execute_result"
    }
   ],
   "source": [
    "data2betested = (\n",
    "    data2betested\n",
    "    .copy()\n",
    "    .assign(\n",
    "        #Aktualisierungs_Datum_str= lambda x: x.Aktualisierungs_Datum.astype(str),\n",
    "        Jahr = lambda x: x.StichtagDatJahr,\n",
    "        Jahr_str = lambda x: x.Jahr.astype(str),\n",
    "    )\n",
    "    .sort_values('Jahr', ascending=False)\n",
    "    )\n",
    "data2betested.dtypes"
   ]
  },
  {
   "cell_type": "markdown",
   "metadata": {},
   "source": [
    "### Einfache Datentests"
   ]
  },
  {
   "cell_type": "markdown",
   "metadata": {},
   "source": [
    " - 1) Zeige eine kurze Vorschau der importierten Daten\n",
    " - 2) Weise die Datentypen aus\n",
    " - 3) Zeige die Shape (Umfang) des Datensatzes an"
   ]
  },
  {
   "cell_type": "code",
   "execution_count": 24,
   "metadata": {},
   "outputs": [],
   "source": [
    "#data2betested.head(6)"
   ]
  },
  {
   "cell_type": "code",
   "execution_count": 25,
   "metadata": {},
   "outputs": [
    {
     "data": {
      "text/plain": [
       "StichtagDatJahr    datetime64[ns]\n",
       "KonOGDSort                  int64\n",
       "KonOGDKurz                 object\n",
       "AnzBestWir                  int64\n",
       "Jahr               datetime64[ns]\n",
       "Jahr_str                   object\n",
       "dtype: object"
      ]
     },
     "execution_count": 25,
     "metadata": {},
     "output_type": "execute_result"
    }
   ],
   "source": [
    "data2betested.dtypes"
   ]
  },
  {
   "cell_type": "code",
   "execution_count": 26,
   "metadata": {},
   "outputs": [
    {
     "data": {
      "text/plain": [
       "(264, 6)"
      ]
     },
     "execution_count": 26,
     "metadata": {},
     "output_type": "execute_result"
    }
   ],
   "source": [
    "data2betested.shape"
   ]
  },
  {
   "cell_type": "markdown",
   "metadata": {},
   "source": [
    "Beschreibe einzelne Attribute"
   ]
  },
  {
   "cell_type": "code",
   "execution_count": 27,
   "metadata": {},
   "outputs": [
    {
     "data": {
      "text/html": [
       "<div>\n",
       "<style scoped>\n",
       "    .dataframe tbody tr th:only-of-type {\n",
       "        vertical-align: middle;\n",
       "    }\n",
       "\n",
       "    .dataframe tbody tr th {\n",
       "        vertical-align: top;\n",
       "    }\n",
       "\n",
       "    .dataframe thead th {\n",
       "        text-align: right;\n",
       "    }\n",
       "</style>\n",
       "<table border=\"1\" class=\"dataframe\">\n",
       "  <thead>\n",
       "    <tr style=\"text-align: right;\">\n",
       "      <th></th>\n",
       "      <th>KonOGDSort</th>\n",
       "      <th>AnzBestWir</th>\n",
       "    </tr>\n",
       "  </thead>\n",
       "  <tbody>\n",
       "    <tr>\n",
       "      <th>count</th>\n",
       "      <td>264</td>\n",
       "      <td>264</td>\n",
       "    </tr>\n",
       "    <tr>\n",
       "      <th>mean</th>\n",
       "      <td>2</td>\n",
       "      <td>128033</td>\n",
       "    </tr>\n",
       "    <tr>\n",
       "      <th>std</th>\n",
       "      <td>1</td>\n",
       "      <td>70953</td>\n",
       "    </tr>\n",
       "    <tr>\n",
       "      <th>min</th>\n",
       "      <td>1</td>\n",
       "      <td>13634</td>\n",
       "    </tr>\n",
       "    <tr>\n",
       "      <th>25%</th>\n",
       "      <td>1</td>\n",
       "      <td>91481</td>\n",
       "    </tr>\n",
       "    <tr>\n",
       "      <th>50%</th>\n",
       "      <td>2</td>\n",
       "      <td>123694</td>\n",
       "    </tr>\n",
       "    <tr>\n",
       "      <th>75%</th>\n",
       "      <td>4</td>\n",
       "      <td>163631</td>\n",
       "    </tr>\n",
       "    <tr>\n",
       "      <th>max</th>\n",
       "      <td>4</td>\n",
       "      <td>266818</td>\n",
       "    </tr>\n",
       "  </tbody>\n",
       "</table>\n",
       "</div>"
      ],
      "text/plain": [
       "       KonOGDSort  AnzBestWir\n",
       "count         264         264\n",
       "mean            2      128033\n",
       "std             1       70953\n",
       "min             1       13634\n",
       "25%             1       91481\n",
       "50%             2      123694\n",
       "75%             4      163631\n",
       "max             4      266818"
      ]
     },
     "execution_count": 27,
     "metadata": {},
     "output_type": "execute_result"
    }
   ],
   "source": [
    "data2betested.describe()"
   ]
  },
  {
   "cell_type": "markdown",
   "metadata": {},
   "source": [
    "Wie viele Nullwerte gibt es im Datensatz?"
   ]
  },
  {
   "cell_type": "code",
   "execution_count": 28,
   "metadata": {
    "scrolled": true
   },
   "outputs": [
    {
     "data": {
      "text/plain": [
       "StichtagDatJahr    0\n",
       "KonOGDSort         0\n",
       "KonOGDKurz         0\n",
       "AnzBestWir         0\n",
       "Jahr               0\n",
       "Jahr_str           0\n",
       "dtype: int64"
      ]
     },
     "execution_count": 28,
     "metadata": {},
     "output_type": "execute_result"
    }
   ],
   "source": [
    "data2betested.isnull().sum()"
   ]
  },
  {
   "cell_type": "markdown",
   "metadata": {},
   "source": [
    "Welches sind die Quartiere ohne Werte bei AnzBestWir?"
   ]
  },
  {
   "cell_type": "code",
   "execution_count": 29,
   "metadata": {},
   "outputs": [
    {
     "data": {
      "text/html": [
       "<div>\n",
       "<style scoped>\n",
       "    .dataframe tbody tr th:only-of-type {\n",
       "        vertical-align: middle;\n",
       "    }\n",
       "\n",
       "    .dataframe tbody tr th {\n",
       "        vertical-align: top;\n",
       "    }\n",
       "\n",
       "    .dataframe thead th {\n",
       "        text-align: right;\n",
       "    }\n",
       "</style>\n",
       "<table border=\"1\" class=\"dataframe\">\n",
       "  <thead>\n",
       "    <tr style=\"text-align: right;\">\n",
       "      <th></th>\n",
       "      <th>StichtagDatJahr</th>\n",
       "      <th>KonOGDSort</th>\n",
       "      <th>KonOGDKurz</th>\n",
       "      <th>AnzBestWir</th>\n",
       "      <th>Jahr</th>\n",
       "      <th>Jahr_str</th>\n",
       "    </tr>\n",
       "  </thead>\n",
       "  <tbody>\n",
       "  </tbody>\n",
       "</table>\n",
       "</div>"
      ],
      "text/plain": [
       "Empty DataFrame\n",
       "Columns: [StichtagDatJahr, KonOGDSort, KonOGDKurz, AnzBestWir, Jahr, Jahr_str]\n",
       "Index: []"
      ]
     },
     "execution_count": 29,
     "metadata": {},
     "output_type": "execute_result"
    }
   ],
   "source": [
    "data2betested[np.isnan(data2betested.AnzBestWir)]"
   ]
  },
  {
   "cell_type": "markdown",
   "metadata": {
    "colab_type": "text",
    "id": "1dTPVmmsgOVx"
   },
   "source": [
    "### Verwende das Datum als Index\n",
    "\n",
    "While we did already parse the `datetime` column into the respective datetime type, it currently is just a regular column. \n",
    "**To enable quick and convenient queries and aggregations, we need to turn it into the index of the DataFrame**"
   ]
  },
  {
   "cell_type": "code",
   "execution_count": 30,
   "metadata": {},
   "outputs": [],
   "source": [
    "data2betested = data2betested.set_index(\"Jahr\")"
   ]
  },
  {
   "cell_type": "code",
   "execution_count": 31,
   "metadata": {},
   "outputs": [
    {
     "name": "stdout",
     "output_type": "stream",
     "text": [
      "<class 'pandas.core.frame.DataFrame'>\n",
      "DatetimeIndex: 264 entries, 2021-01-01 to 1934-01-01\n",
      "Data columns (total 5 columns):\n",
      " #   Column           Non-Null Count  Dtype         \n",
      "---  ------           --------------  -----         \n",
      " 0   StichtagDatJahr  264 non-null    datetime64[ns]\n",
      " 1   KonOGDSort       264 non-null    int64         \n",
      " 2   KonOGDKurz       264 non-null    object        \n",
      " 3   AnzBestWir       264 non-null    int64         \n",
      " 4   Jahr_str         264 non-null    object        \n",
      "dtypes: datetime64[ns](1), int64(2), object(2)\n",
      "memory usage: 12.4+ KB\n"
     ]
    },
    {
     "data": {
      "text/plain": [
       "Int64Index([2021, 2020, 2019, 2018, 2017, 2016, 2015, 2014, 2013, 2012, 2011, 2010, 2009, 2008,\n",
       "            2007, 2006, 2005, 2004, 2003, 2002, 2001, 2000, 1999, 1998, 1997, 1996, 1995, 1994,\n",
       "            1993, 1992, 1991, 1990, 1989, 1988, 1987, 1986, 1985, 1984, 1983, 1982, 1981, 1980,\n",
       "            1979, 1978, 1977, 1976, 1975, 1974, 1973, 1972, 1971, 1970, 1969, 1968, 1967, 1966,\n",
       "            1965, 1964, 1963, 1962, 1961, 1960, 1959, 1958, 1957, 1956, 1955, 1954, 1953, 1952,\n",
       "            1951, 1950, 1949, 1948, 1947, 1946, 1945, 1944, 1943, 1942, 1941, 1940, 1939, 1938,\n",
       "            1937, 1936, 1935, 1934],\n",
       "           dtype='int64', name='Jahr')"
      ]
     },
     "execution_count": 31,
     "metadata": {},
     "output_type": "execute_result"
    }
   ],
   "source": [
    "data2betested.info()\n",
    "data2betested.index.year.unique()"
   ]
  },
  {
   "cell_type": "markdown",
   "metadata": {},
   "source": [
    "### Einfache Visualisierungen zur Plausi"
   ]
  },
  {
   "cell_type": "markdown",
   "metadata": {},
   "source": [
    "Exploriere die Daten mit Pivottable.JS"
   ]
  },
  {
   "cell_type": "code",
   "execution_count": 32,
   "metadata": {},
   "outputs": [
    {
     "data": {
      "text/html": [
       "\n",
       "        <iframe\n",
       "            width=\"100%\"\n",
       "            height=\"500\"\n",
       "            src=\"pivottablejs.html\"\n",
       "            frameborder=\"0\"\n",
       "            allowfullscreen\n",
       "            \n",
       "        ></iframe>\n",
       "        "
      ],
      "text/plain": [
       "<IPython.lib.display.IFrame at 0x1d2f0391148>"
      ]
     },
     "execution_count": 32,
     "metadata": {},
     "output_type": "execute_result"
    }
   ],
   "source": [
    "from pivottablejs import pivot_ui\n",
    "\n",
    "pivot_ui(data2betested)"
   ]
  },
  {
   "cell_type": "markdown",
   "metadata": {},
   "source": [
    "### Zeitpunkte und Zeiträume abfragen\n",
    "\n",
    "A particular powerful feature of the Pandas DataFrame is its indexing capability that also works using time-based entities, such as dates and times. We have already created the index above, so let's put it to use."
   ]
  },
  {
   "cell_type": "code",
   "execution_count": 33,
   "metadata": {},
   "outputs": [
    {
     "data": {
      "text/html": [
       "<div>\n",
       "<style scoped>\n",
       "    .dataframe tbody tr th:only-of-type {\n",
       "        vertical-align: middle;\n",
       "    }\n",
       "\n",
       "    .dataframe tbody tr th {\n",
       "        vertical-align: top;\n",
       "    }\n",
       "\n",
       "    .dataframe thead th {\n",
       "        text-align: right;\n",
       "    }\n",
       "</style>\n",
       "<table border=\"1\" class=\"dataframe\">\n",
       "  <thead>\n",
       "    <tr style=\"text-align: right;\">\n",
       "      <th></th>\n",
       "      <th>StichtagDatJahr</th>\n",
       "      <th>KonOGDSort</th>\n",
       "      <th>KonOGDKurz</th>\n",
       "      <th>AnzBestWir</th>\n",
       "      <th>Jahr_str</th>\n",
       "    </tr>\n",
       "    <tr>\n",
       "      <th>Jahr</th>\n",
       "      <th></th>\n",
       "      <th></th>\n",
       "      <th></th>\n",
       "      <th></th>\n",
       "      <th></th>\n",
       "    </tr>\n",
       "  </thead>\n",
       "  <tbody>\n",
       "    <tr>\n",
       "      <th>2020-01-01</th>\n",
       "      <td>2020-01-01</td>\n",
       "      <td>4</td>\n",
       "      <td>andere Konf.</td>\n",
       "      <td>244989</td>\n",
       "      <td>2020-01-01</td>\n",
       "    </tr>\n",
       "    <tr>\n",
       "      <th>2020-01-01</th>\n",
       "      <td>2020-01-01</td>\n",
       "      <td>1</td>\n",
       "      <td>EV-REF</td>\n",
       "      <td>81727</td>\n",
       "      <td>2020-01-01</td>\n",
       "    </tr>\n",
       "  </tbody>\n",
       "</table>\n",
       "</div>"
      ],
      "text/plain": [
       "           StichtagDatJahr  KonOGDSort    KonOGDKurz  AnzBestWir    Jahr_str\n",
       "Jahr                                                                        \n",
       "2020-01-01      2020-01-01           4  andere Konf.      244989  2020-01-01\n",
       "2020-01-01      2020-01-01           1        EV-REF       81727  2020-01-01"
      ]
     },
     "execution_count": 33,
     "metadata": {},
     "output_type": "execute_result"
    }
   ],
   "source": [
    "data2betested.loc[\"2020\"].head(2)\n",
    "#data2betested.loc[\"2021-10-31\":\"2021-11-30\"].head(2)"
   ]
  },
  {
   "cell_type": "markdown",
   "metadata": {},
   "source": [
    "### Visualisierungen nach Zeitausschnitten"
   ]
  },
  {
   "cell_type": "markdown",
   "metadata": {
    "tags": []
   },
   "source": [
    "#### Entwicklung Bildungsstand"
   ]
  },
  {
   "cell_type": "code",
   "execution_count": 34,
   "metadata": {},
   "outputs": [
    {
     "data": {
      "text/plain": [
       "Index(['StichtagDatJahr', 'KonOGDSort', 'KonOGDKurz', 'AnzBestWir', 'Jahr_str'], dtype='object')"
      ]
     },
     "execution_count": 34,
     "metadata": {},
     "output_type": "execute_result"
    }
   ],
   "source": [
    "data2betested.columns"
   ]
  },
  {
   "cell_type": "code",
   "execution_count": 36,
   "metadata": {
    "tags": []
   },
   "outputs": [
    {
     "data": {
      "text/html": [
       "<div>\n",
       "<style scoped>\n",
       "    .dataframe tbody tr th:only-of-type {\n",
       "        vertical-align: middle;\n",
       "    }\n",
       "\n",
       "    .dataframe tbody tr th {\n",
       "        vertical-align: top;\n",
       "    }\n",
       "\n",
       "    .dataframe thead th {\n",
       "        text-align: right;\n",
       "    }\n",
       "</style>\n",
       "<table border=\"1\" class=\"dataframe\">\n",
       "  <thead>\n",
       "    <tr style=\"text-align: right;\">\n",
       "      <th></th>\n",
       "      <th>Jahr</th>\n",
       "      <th>Jahr_str</th>\n",
       "      <th>KonOGDSort</th>\n",
       "      <th>KonOGDKurz</th>\n",
       "      <th>sum_AnzBestWir</th>\n",
       "    </tr>\n",
       "  </thead>\n",
       "  <tbody>\n",
       "    <tr>\n",
       "      <th>0</th>\n",
       "      <td>1934-01-01</td>\n",
       "      <td>1934-01-01</td>\n",
       "      <td>1</td>\n",
       "      <td>EV-REF</td>\n",
       "      <td>208357</td>\n",
       "    </tr>\n",
       "    <tr>\n",
       "      <th>1</th>\n",
       "      <td>1934-01-01</td>\n",
       "      <td>1934-01-01</td>\n",
       "      <td>2</td>\n",
       "      <td>RK</td>\n",
       "      <td>92740</td>\n",
       "    </tr>\n",
       "    <tr>\n",
       "      <th>2</th>\n",
       "      <td>1934-01-01</td>\n",
       "      <td>1934-01-01</td>\n",
       "      <td>4</td>\n",
       "      <td>andere Konf.</td>\n",
       "      <td>14767</td>\n",
       "    </tr>\n",
       "  </tbody>\n",
       "</table>\n",
       "</div>"
      ],
      "text/plain": [
       "        Jahr    Jahr_str  KonOGDSort    KonOGDKurz  sum_AnzBestWir\n",
       "0 1934-01-01  1934-01-01           1        EV-REF          208357\n",
       "1 1934-01-01  1934-01-01           2            RK           92740\n",
       "2 1934-01-01  1934-01-01           4  andere Konf.           14767"
      ]
     },
     "execution_count": 36,
     "metadata": {},
     "output_type": "execute_result"
    }
   ],
   "source": [
    "#myAgg = data2betested.loc[\"2008-11-30\":\"2021-10-31\"]\n",
    "myAgg = data2betested.loc[\"1930\":\"2020\"]\\\n",
    "    .groupby(['Jahr', 'Jahr_str', 'KonOGDSort', 'KonOGDKurz']) \\\n",
    "    .agg(sum_AnzBestWir=('AnzBestWir', 'mean')) \\\n",
    "    .sort_values('Jahr', ascending=True) \n",
    "\n",
    "myAgg.reset_index().head(3)"
   ]
  },
  {
   "cell_type": "code",
   "execution_count": 44,
   "metadata": {},
   "outputs": [
    {
     "data": {
      "text/html": [
       "\n",
       "<div id=\"altair-viz-7bd4389b927c4348a3550bc32a3e8c39\"></div>\n",
       "<script type=\"text/javascript\">\n",
       "  (function(spec, embedOpt){\n",
       "    let outputDiv = document.currentScript.previousElementSibling;\n",
       "    if (outputDiv.id !== \"altair-viz-7bd4389b927c4348a3550bc32a3e8c39\") {\n",
       "      outputDiv = document.getElementById(\"altair-viz-7bd4389b927c4348a3550bc32a3e8c39\");\n",
       "    }\n",
       "    const paths = {\n",
       "      \"vega\": \"https://cdn.jsdelivr.net/npm//vega@5?noext\",\n",
       "      \"vega-lib\": \"https://cdn.jsdelivr.net/npm//vega-lib?noext\",\n",
       "      \"vega-lite\": \"https://cdn.jsdelivr.net/npm//vega-lite@4.8.1?noext\",\n",
       "      \"vega-embed\": \"https://cdn.jsdelivr.net/npm//vega-embed@6?noext\",\n",
       "    };\n",
       "\n",
       "    function loadScript(lib) {\n",
       "      return new Promise(function(resolve, reject) {\n",
       "        var s = document.createElement('script');\n",
       "        s.src = paths[lib];\n",
       "        s.async = true;\n",
       "        s.onload = () => resolve(paths[lib]);\n",
       "        s.onerror = () => reject(`Error loading script: ${paths[lib]}`);\n",
       "        document.getElementsByTagName(\"head\")[0].appendChild(s);\n",
       "      });\n",
       "    }\n",
       "\n",
       "    function showError(err) {\n",
       "      outputDiv.innerHTML = `<div class=\"error\" style=\"color:red;\">${err}</div>`;\n",
       "      throw err;\n",
       "    }\n",
       "\n",
       "    function displayChart(vegaEmbed) {\n",
       "      vegaEmbed(outputDiv, spec, embedOpt)\n",
       "        .catch(err => showError(`Javascript Error: ${err.message}<br>This usually means there's a typo in your chart specification. See the javascript console for the full traceback.`));\n",
       "    }\n",
       "\n",
       "    if(typeof define === \"function\" && define.amd) {\n",
       "      requirejs.config({paths});\n",
       "      require([\"vega-embed\"], displayChart, err => showError(`Error loading script: ${err.message}`));\n",
       "    } else if (typeof vegaEmbed === \"function\") {\n",
       "      displayChart(vegaEmbed);\n",
       "    } else {\n",
       "      loadScript(\"vega\")\n",
       "        .then(() => loadScript(\"vega-lite\"))\n",
       "        .then(() => loadScript(\"vega-embed\"))\n",
       "        .catch(showError)\n",
       "        .then(() => displayChart(vegaEmbed));\n",
       "    }\n",
       "  })({\"config\": {\"view\": {\"continuousWidth\": 400, \"continuousHeight\": 300}}, \"layer\": [{\"mark\": \"line\", \"encoding\": {\"color\": {\"type\": \"nominal\", \"field\": \"KonOGDKurz\", \"legend\": {\"orient\": \"right\", \"title\": \"Konfession (gruppiert)\"}}, \"size\": {\"condition\": {\"value\": 0.5, \"selection\": {\"not\": \"selector005\"}}, \"value\": 4}, \"tooltip\": [{\"type\": \"nominal\", \"field\": \"Jahr_str\"}, {\"type\": \"nominal\", \"field\": \"KonOGDKurz\"}, {\"type\": \"quantitative\", \"field\": \"sum_AnzBestWir\"}], \"x\": {\"type\": \"temporal\", \"axis\": {\"title\": \"Jahr\"}, \"field\": \"Jahr\"}, \"y\": {\"type\": \"quantitative\", \"axis\": {\"title\": \"Anz. Personen\"}, \"field\": \"sum_AnzBestWir\"}}, \"selection\": {\"selector006\": {\"type\": \"interval\", \"bind\": \"scales\", \"encodings\": [\"x\", \"y\"]}}, \"title\": \"Anteil der Wohnbev\\u00f6lkerung nach Religion seit 1850\"}, {\"mark\": \"circle\", \"encoding\": {\"color\": {\"type\": \"nominal\", \"field\": \"KonOGDKurz\", \"legend\": {\"orient\": \"right\", \"title\": \"Konfession (gruppiert)\"}}, \"opacity\": {\"value\": 0.75}, \"tooltip\": [{\"type\": \"nominal\", \"field\": \"Jahr_str\"}, {\"type\": \"nominal\", \"field\": \"KonOGDKurz\"}, {\"type\": \"quantitative\", \"field\": \"sum_AnzBestWir\"}], \"x\": {\"type\": \"temporal\", \"axis\": {\"title\": \"Jahr\"}, \"field\": \"Jahr\"}, \"y\": {\"type\": \"quantitative\", \"axis\": {\"title\": \"Anz. Personen\"}, \"field\": \"sum_AnzBestWir\"}}, \"height\": 350, \"selection\": {\"selector005\": {\"type\": \"single\", \"on\": \"mouseover\", \"fields\": [\"KonOGDKurz\"], \"nearest\": true}}, \"title\": \"Anteil der Wohnbev\\u00f6lkerung nach Religion seit 1850\", \"width\": 750}], \"data\": {\"name\": \"data-bf38ed3afae6372918344e34c69765c2\"}, \"$schema\": \"https://vega.github.io/schema/vega-lite/v4.8.1.json\", \"datasets\": {\"data-bf38ed3afae6372918344e34c69765c2\": [{\"Jahr\": \"1934-01-01T00:00:00\", \"Jahr_str\": \"1934-01-01\", \"KonOGDSort\": 1, \"KonOGDKurz\": \"EV-REF\", \"sum_AnzBestWir\": 208357.0}, {\"Jahr\": \"1934-01-01T00:00:00\", \"Jahr_str\": \"1934-01-01\", \"KonOGDSort\": 2, \"KonOGDKurz\": \"RK\", \"sum_AnzBestWir\": 92740.0}, {\"Jahr\": \"1934-01-01T00:00:00\", \"Jahr_str\": \"1934-01-01\", \"KonOGDSort\": 4, \"KonOGDKurz\": \"andere Konf.\", \"sum_AnzBestWir\": 14767.0}, {\"Jahr\": \"1935-01-01T00:00:00\", \"Jahr_str\": \"1935-01-01\", \"KonOGDSort\": 1, \"KonOGDKurz\": \"EV-REF\", \"sum_AnzBestWir\": 209469.0}, {\"Jahr\": \"1935-01-01T00:00:00\", \"Jahr_str\": \"1935-01-01\", \"KonOGDSort\": 2, \"KonOGDKurz\": \"RK\", \"sum_AnzBestWir\": 93184.0}, {\"Jahr\": \"1935-01-01T00:00:00\", \"Jahr_str\": \"1935-01-01\", \"KonOGDSort\": 4, \"KonOGDKurz\": \"andere Konf.\", \"sum_AnzBestWir\": 14504.0}, {\"Jahr\": \"1936-01-01T00:00:00\", \"Jahr_str\": \"1936-01-01\", \"KonOGDSort\": 1, \"KonOGDKurz\": \"EV-REF\", \"sum_AnzBestWir\": 210177.0}, {\"Jahr\": \"1936-01-01T00:00:00\", \"Jahr_str\": \"1936-01-01\", \"KonOGDSort\": 2, \"KonOGDKurz\": \"RK\", \"sum_AnzBestWir\": 93236.0}, {\"Jahr\": \"1936-01-01T00:00:00\", \"Jahr_str\": \"1936-01-01\", \"KonOGDSort\": 4, \"KonOGDKurz\": \"andere Konf.\", \"sum_AnzBestWir\": 14299.0}, {\"Jahr\": \"1937-01-01T00:00:00\", \"Jahr_str\": \"1937-01-01\", \"KonOGDSort\": 1, \"KonOGDKurz\": \"EV-REF\", \"sum_AnzBestWir\": 211352.0}, {\"Jahr\": \"1937-01-01T00:00:00\", \"Jahr_str\": \"1937-01-01\", \"KonOGDSort\": 2, \"KonOGDKurz\": \"RK\", \"sum_AnzBestWir\": 93420.0}, {\"Jahr\": \"1937-01-01T00:00:00\", \"Jahr_str\": \"1937-01-01\", \"KonOGDSort\": 4, \"KonOGDKurz\": \"andere Konf.\", \"sum_AnzBestWir\": 14154.0}, {\"Jahr\": \"1938-01-01T00:00:00\", \"Jahr_str\": \"1938-01-01\", \"KonOGDSort\": 1, \"KonOGDKurz\": \"EV-REF\", \"sum_AnzBestWir\": 215307.0}, {\"Jahr\": \"1938-01-01T00:00:00\", \"Jahr_str\": \"1938-01-01\", \"KonOGDSort\": 2, \"KonOGDKurz\": \"RK\", \"sum_AnzBestWir\": 95216.0}, {\"Jahr\": \"1938-01-01T00:00:00\", \"Jahr_str\": \"1938-01-01\", \"KonOGDSort\": 4, \"KonOGDKurz\": \"andere Konf.\", \"sum_AnzBestWir\": 16456.0}, {\"Jahr\": \"1939-01-01T00:00:00\", \"Jahr_str\": \"1939-01-01\", \"KonOGDSort\": 4, \"KonOGDKurz\": \"andere Konf.\", \"sum_AnzBestWir\": 15301.0}, {\"Jahr\": \"1939-01-01T00:00:00\", \"Jahr_str\": \"1939-01-01\", \"KonOGDSort\": 1, \"KonOGDKurz\": \"EV-REF\", \"sum_AnzBestWir\": 221011.0}, {\"Jahr\": \"1939-01-01T00:00:00\", \"Jahr_str\": \"1939-01-01\", \"KonOGDSort\": 2, \"KonOGDKurz\": \"RK\", \"sum_AnzBestWir\": 97672.0}, {\"Jahr\": \"1940-01-01T00:00:00\", \"Jahr_str\": \"1940-01-01\", \"KonOGDSort\": 1, \"KonOGDKurz\": \"EV-REF\", \"sum_AnzBestWir\": 222502.0}, {\"Jahr\": \"1940-01-01T00:00:00\", \"Jahr_str\": \"1940-01-01\", \"KonOGDSort\": 2, \"KonOGDKurz\": \"RK\", \"sum_AnzBestWir\": 97358.0}, {\"Jahr\": \"1940-01-01T00:00:00\", \"Jahr_str\": \"1940-01-01\", \"KonOGDSort\": 4, \"KonOGDKurz\": \"andere Konf.\", \"sum_AnzBestWir\": 14166.0}, {\"Jahr\": \"1941-01-01T00:00:00\", \"Jahr_str\": \"1941-01-01\", \"KonOGDSort\": 1, \"KonOGDKurz\": \"EV-REF\", \"sum_AnzBestWir\": 224595.0}, {\"Jahr\": \"1941-01-01T00:00:00\", \"Jahr_str\": \"1941-01-01\", \"KonOGDSort\": 2, \"KonOGDKurz\": \"RK\", \"sum_AnzBestWir\": 98302.0}, {\"Jahr\": \"1941-01-01T00:00:00\", \"Jahr_str\": \"1941-01-01\", \"KonOGDSort\": 4, \"KonOGDKurz\": \"andere Konf.\", \"sum_AnzBestWir\": 13634.0}, {\"Jahr\": \"1942-01-01T00:00:00\", \"Jahr_str\": \"1942-01-01\", \"KonOGDSort\": 1, \"KonOGDKurz\": \"EV-REF\", \"sum_AnzBestWir\": 226899.0}, {\"Jahr\": \"1942-01-01T00:00:00\", \"Jahr_str\": \"1942-01-01\", \"KonOGDSort\": 2, \"KonOGDKurz\": \"RK\", \"sum_AnzBestWir\": 98962.0}, {\"Jahr\": \"1942-01-01T00:00:00\", \"Jahr_str\": \"1942-01-01\", \"KonOGDSort\": 4, \"KonOGDKurz\": \"andere Konf.\", \"sum_AnzBestWir\": 13860.0}, {\"Jahr\": \"1943-01-01T00:00:00\", \"Jahr_str\": \"1943-01-01\", \"KonOGDSort\": 4, \"KonOGDKurz\": \"andere Konf.\", \"sum_AnzBestWir\": 14818.0}, {\"Jahr\": \"1943-01-01T00:00:00\", \"Jahr_str\": \"1943-01-01\", \"KonOGDSort\": 1, \"KonOGDKurz\": \"EV-REF\", \"sum_AnzBestWir\": 230373.0}, {\"Jahr\": \"1943-01-01T00:00:00\", \"Jahr_str\": \"1943-01-01\", \"KonOGDSort\": 2, \"KonOGDKurz\": \"RK\", \"sum_AnzBestWir\": 100628.0}, {\"Jahr\": \"1944-01-01T00:00:00\", \"Jahr_str\": \"1944-01-01\", \"KonOGDSort\": 4, \"KonOGDKurz\": \"andere Konf.\", \"sum_AnzBestWir\": 15282.0}, {\"Jahr\": \"1944-01-01T00:00:00\", \"Jahr_str\": \"1944-01-01\", \"KonOGDSort\": 2, \"KonOGDKurz\": \"RK\", \"sum_AnzBestWir\": 102764.0}, {\"Jahr\": \"1944-01-01T00:00:00\", \"Jahr_str\": \"1944-01-01\", \"KonOGDSort\": 1, \"KonOGDKurz\": \"EV-REF\", \"sum_AnzBestWir\": 233633.0}, {\"Jahr\": \"1945-01-01T00:00:00\", \"Jahr_str\": \"1945-01-01\", \"KonOGDSort\": 1, \"KonOGDKurz\": \"EV-REF\", \"sum_AnzBestWir\": 237766.0}, {\"Jahr\": \"1945-01-01T00:00:00\", \"Jahr_str\": \"1945-01-01\", \"KonOGDSort\": 2, \"KonOGDKurz\": \"RK\", \"sum_AnzBestWir\": 104506.0}, {\"Jahr\": \"1945-01-01T00:00:00\", \"Jahr_str\": \"1945-01-01\", \"KonOGDSort\": 4, \"KonOGDKurz\": \"andere Konf.\", \"sum_AnzBestWir\": 15109.0}, {\"Jahr\": \"1946-01-01T00:00:00\", \"Jahr_str\": \"1946-01-01\", \"KonOGDSort\": 1, \"KonOGDKurz\": \"EV-REF\", \"sum_AnzBestWir\": 242482.0}, {\"Jahr\": \"1946-01-01T00:00:00\", \"Jahr_str\": \"1946-01-01\", \"KonOGDSort\": 2, \"KonOGDKurz\": \"RK\", \"sum_AnzBestWir\": 109171.0}, {\"Jahr\": \"1946-01-01T00:00:00\", \"Jahr_str\": \"1946-01-01\", \"KonOGDSort\": 4, \"KonOGDKurz\": \"andere Konf.\", \"sum_AnzBestWir\": 15518.0}, {\"Jahr\": \"1947-01-01T00:00:00\", \"Jahr_str\": \"1947-01-01\", \"KonOGDSort\": 1, \"KonOGDKurz\": \"EV-REF\", \"sum_AnzBestWir\": 246202.0}, {\"Jahr\": \"1947-01-01T00:00:00\", \"Jahr_str\": \"1947-01-01\", \"KonOGDSort\": 2, \"KonOGDKurz\": \"RK\", \"sum_AnzBestWir\": 114981.0}, {\"Jahr\": \"1947-01-01T00:00:00\", \"Jahr_str\": \"1947-01-01\", \"KonOGDSort\": 4, \"KonOGDKurz\": \"andere Konf.\", \"sum_AnzBestWir\": 15904.0}, {\"Jahr\": \"1948-01-01T00:00:00\", \"Jahr_str\": \"1948-01-01\", \"KonOGDSort\": 1, \"KonOGDKurz\": \"EV-REF\", \"sum_AnzBestWir\": 249011.0}, {\"Jahr\": \"1948-01-01T00:00:00\", \"Jahr_str\": \"1948-01-01\", \"KonOGDSort\": 2, \"KonOGDKurz\": \"RK\", \"sum_AnzBestWir\": 118700.0}, {\"Jahr\": \"1948-01-01T00:00:00\", \"Jahr_str\": \"1948-01-01\", \"KonOGDSort\": 4, \"KonOGDKurz\": \"andere Konf.\", \"sum_AnzBestWir\": 15857.0}, {\"Jahr\": \"1949-01-01T00:00:00\", \"Jahr_str\": \"1949-01-01\", \"KonOGDSort\": 2, \"KonOGDKurz\": \"RK\", \"sum_AnzBestWir\": 119247.0}, {\"Jahr\": \"1949-01-01T00:00:00\", \"Jahr_str\": \"1949-01-01\", \"KonOGDSort\": 4, \"KonOGDKurz\": \"andere Konf.\", \"sum_AnzBestWir\": 15776.0}, {\"Jahr\": \"1949-01-01T00:00:00\", \"Jahr_str\": \"1949-01-01\", \"KonOGDSort\": 1, \"KonOGDKurz\": \"EV-REF\", \"sum_AnzBestWir\": 250980.0}, {\"Jahr\": \"1950-01-01T00:00:00\", \"Jahr_str\": \"1950-01-01\", \"KonOGDSort\": 1, \"KonOGDKurz\": \"EV-REF\", \"sum_AnzBestWir\": 253062.0}, {\"Jahr\": \"1950-01-01T00:00:00\", \"Jahr_str\": \"1950-01-01\", \"KonOGDSort\": 2, \"KonOGDKurz\": \"RK\", \"sum_AnzBestWir\": 117102.0}, {\"Jahr\": \"1950-01-01T00:00:00\", \"Jahr_str\": \"1950-01-01\", \"KonOGDSort\": 4, \"KonOGDKurz\": \"andere Konf.\", \"sum_AnzBestWir\": 19409.0}, {\"Jahr\": \"1951-01-01T00:00:00\", \"Jahr_str\": \"1951-01-01\", \"KonOGDSort\": 1, \"KonOGDKurz\": \"EV-REF\", \"sum_AnzBestWir\": 255337.0}, {\"Jahr\": \"1951-01-01T00:00:00\", \"Jahr_str\": \"1951-01-01\", \"KonOGDSort\": 2, \"KonOGDKurz\": \"RK\", \"sum_AnzBestWir\": 121706.0}, {\"Jahr\": \"1951-01-01T00:00:00\", \"Jahr_str\": \"1951-01-01\", \"KonOGDSort\": 4, \"KonOGDKurz\": \"andere Konf.\", \"sum_AnzBestWir\": 19217.0}, {\"Jahr\": \"1952-01-01T00:00:00\", \"Jahr_str\": \"1952-01-01\", \"KonOGDSort\": 2, \"KonOGDKurz\": \"RK\", \"sum_AnzBestWir\": 125744.0}, {\"Jahr\": \"1952-01-01T00:00:00\", \"Jahr_str\": \"1952-01-01\", \"KonOGDSort\": 1, \"KonOGDKurz\": \"EV-REF\", \"sum_AnzBestWir\": 258828.0}, {\"Jahr\": \"1952-01-01T00:00:00\", \"Jahr_str\": \"1952-01-01\", \"KonOGDSort\": 4, \"KonOGDKurz\": \"andere Konf.\", \"sum_AnzBestWir\": 19053.0}, {\"Jahr\": \"1953-01-01T00:00:00\", \"Jahr_str\": \"1953-01-01\", \"KonOGDSort\": 1, \"KonOGDKurz\": \"EV-REF\", \"sum_AnzBestWir\": 261232.0}, {\"Jahr\": \"1953-01-01T00:00:00\", \"Jahr_str\": \"1953-01-01\", \"KonOGDSort\": 2, \"KonOGDKurz\": \"RK\", \"sum_AnzBestWir\": 128511.0}, {\"Jahr\": \"1953-01-01T00:00:00\", \"Jahr_str\": \"1953-01-01\", \"KonOGDSort\": 4, \"KonOGDKurz\": \"andere Konf.\", \"sum_AnzBestWir\": 18801.0}, {\"Jahr\": \"1954-01-01T00:00:00\", \"Jahr_str\": \"1954-01-01\", \"KonOGDSort\": 2, \"KonOGDKurz\": \"RK\", \"sum_AnzBestWir\": 131654.0}, {\"Jahr\": \"1954-01-01T00:00:00\", \"Jahr_str\": \"1954-01-01\", \"KonOGDSort\": 4, \"KonOGDKurz\": \"andere Konf.\", \"sum_AnzBestWir\": 18498.0}, {\"Jahr\": \"1954-01-01T00:00:00\", \"Jahr_str\": \"1954-01-01\", \"KonOGDSort\": 1, \"KonOGDKurz\": \"EV-REF\", \"sum_AnzBestWir\": 262892.0}, {\"Jahr\": \"1955-01-01T00:00:00\", \"Jahr_str\": \"1955-01-01\", \"KonOGDSort\": 4, \"KonOGDKurz\": \"andere Konf.\", \"sum_AnzBestWir\": 18235.0}, {\"Jahr\": \"1955-01-01T00:00:00\", \"Jahr_str\": \"1955-01-01\", \"KonOGDSort\": 2, \"KonOGDKurz\": \"RK\", \"sum_AnzBestWir\": 135025.0}, {\"Jahr\": \"1955-01-01T00:00:00\", \"Jahr_str\": \"1955-01-01\", \"KonOGDSort\": 1, \"KonOGDKurz\": \"EV-REF\", \"sum_AnzBestWir\": 264091.0}, {\"Jahr\": \"1956-01-01T00:00:00\", \"Jahr_str\": \"1956-01-01\", \"KonOGDSort\": 1, \"KonOGDKurz\": \"EV-REF\", \"sum_AnzBestWir\": 263631.0}, {\"Jahr\": \"1956-01-01T00:00:00\", \"Jahr_str\": \"1956-01-01\", \"KonOGDSort\": 2, \"KonOGDKurz\": \"RK\", \"sum_AnzBestWir\": 138869.0}, {\"Jahr\": \"1956-01-01T00:00:00\", \"Jahr_str\": \"1956-01-01\", \"KonOGDSort\": 4, \"KonOGDKurz\": \"andere Konf.\", \"sum_AnzBestWir\": 17989.0}, {\"Jahr\": \"1957-01-01T00:00:00\", \"Jahr_str\": \"1957-01-01\", \"KonOGDSort\": 1, \"KonOGDKurz\": \"EV-REF\", \"sum_AnzBestWir\": 264551.0}, {\"Jahr\": \"1957-01-01T00:00:00\", \"Jahr_str\": \"1957-01-01\", \"KonOGDSort\": 2, \"KonOGDKurz\": \"RK\", \"sum_AnzBestWir\": 143962.0}, {\"Jahr\": \"1957-01-01T00:00:00\", \"Jahr_str\": \"1957-01-01\", \"KonOGDSort\": 4, \"KonOGDKurz\": \"andere Konf.\", \"sum_AnzBestWir\": 17836.0}, {\"Jahr\": \"1958-01-01T00:00:00\", \"Jahr_str\": \"1958-01-01\", \"KonOGDSort\": 1, \"KonOGDKurz\": \"EV-REF\", \"sum_AnzBestWir\": 266263.0}, {\"Jahr\": \"1958-01-01T00:00:00\", \"Jahr_str\": \"1958-01-01\", \"KonOGDSort\": 2, \"KonOGDKurz\": \"RK\", \"sum_AnzBestWir\": 147228.0}, {\"Jahr\": \"1958-01-01T00:00:00\", \"Jahr_str\": \"1958-01-01\", \"KonOGDSort\": 4, \"KonOGDKurz\": \"andere Konf.\", \"sum_AnzBestWir\": 17751.0}, {\"Jahr\": \"1959-01-01T00:00:00\", \"Jahr_str\": \"1959-01-01\", \"KonOGDSort\": 1, \"KonOGDKurz\": \"EV-REF\", \"sum_AnzBestWir\": 266818.0}, {\"Jahr\": \"1959-01-01T00:00:00\", \"Jahr_str\": \"1959-01-01\", \"KonOGDSort\": 2, \"KonOGDKurz\": \"RK\", \"sum_AnzBestWir\": 149729.0}, {\"Jahr\": \"1959-01-01T00:00:00\", \"Jahr_str\": \"1959-01-01\", \"KonOGDSort\": 4, \"KonOGDKurz\": \"andere Konf.\", \"sum_AnzBestWir\": 17533.0}, {\"Jahr\": \"1960-01-01T00:00:00\", \"Jahr_str\": \"1960-01-01\", \"KonOGDSort\": 2, \"KonOGDKurz\": \"RK\", \"sum_AnzBestWir\": 153839.0}, {\"Jahr\": \"1960-01-01T00:00:00\", \"Jahr_str\": \"1960-01-01\", \"KonOGDSort\": 4, \"KonOGDKurz\": \"andere Konf.\", \"sum_AnzBestWir\": 17575.0}, {\"Jahr\": \"1960-01-01T00:00:00\", \"Jahr_str\": \"1960-01-01\", \"KonOGDSort\": 1, \"KonOGDKurz\": \"EV-REF\", \"sum_AnzBestWir\": 265859.0}, {\"Jahr\": \"1961-01-01T00:00:00\", \"Jahr_str\": \"1961-01-01\", \"KonOGDSort\": 1, \"KonOGDKurz\": \"EV-REF\", \"sum_AnzBestWir\": 262815.0}, {\"Jahr\": \"1961-01-01T00:00:00\", \"Jahr_str\": \"1961-01-01\", \"KonOGDSort\": 2, \"KonOGDKurz\": \"RK\", \"sum_AnzBestWir\": 157991.0}, {\"Jahr\": \"1961-01-01T00:00:00\", \"Jahr_str\": \"1961-01-01\", \"KonOGDSort\": 4, \"KonOGDKurz\": \"andere Konf.\", \"sum_AnzBestWir\": 18516.0}, {\"Jahr\": \"1962-01-01T00:00:00\", \"Jahr_str\": \"1962-01-01\", \"KonOGDSort\": 1, \"KonOGDKurz\": \"EV-REF\", \"sum_AnzBestWir\": 260218.0}, {\"Jahr\": \"1962-01-01T00:00:00\", \"Jahr_str\": \"1962-01-01\", \"KonOGDSort\": 2, \"KonOGDKurz\": \"RK\", \"sum_AnzBestWir\": 160828.0}, {\"Jahr\": \"1962-01-01T00:00:00\", \"Jahr_str\": \"1962-01-01\", \"KonOGDSort\": 4, \"KonOGDKurz\": \"andere Konf.\", \"sum_AnzBestWir\": 19134.0}, {\"Jahr\": \"1963-01-01T00:00:00\", \"Jahr_str\": \"1963-01-01\", \"KonOGDSort\": 2, \"KonOGDKurz\": \"RK\", \"sum_AnzBestWir\": 161976.0}, {\"Jahr\": \"1963-01-01T00:00:00\", \"Jahr_str\": \"1963-01-01\", \"KonOGDSort\": 1, \"KonOGDKurz\": \"EV-REF\", \"sum_AnzBestWir\": 257175.0}, {\"Jahr\": \"1963-01-01T00:00:00\", \"Jahr_str\": \"1963-01-01\", \"KonOGDSort\": 4, \"KonOGDKurz\": \"andere Konf.\", \"sum_AnzBestWir\": 19939.0}, {\"Jahr\": \"1964-01-01T00:00:00\", \"Jahr_str\": \"1964-01-01\", \"KonOGDSort\": 1, \"KonOGDKurz\": \"EV-REF\", \"sum_AnzBestWir\": 253931.0}, {\"Jahr\": \"1964-01-01T00:00:00\", \"Jahr_str\": \"1964-01-01\", \"KonOGDSort\": 2, \"KonOGDKurz\": \"RK\", \"sum_AnzBestWir\": 163413.0}, {\"Jahr\": \"1964-01-01T00:00:00\", \"Jahr_str\": \"1964-01-01\", \"KonOGDSort\": 4, \"KonOGDKurz\": \"andere Konf.\", \"sum_AnzBestWir\": 20286.0}, {\"Jahr\": \"1965-01-01T00:00:00\", \"Jahr_str\": \"1965-01-01\", \"KonOGDSort\": 2, \"KonOGDKurz\": \"RK\", \"sum_AnzBestWir\": 162972.0}, {\"Jahr\": \"1965-01-01T00:00:00\", \"Jahr_str\": \"1965-01-01\", \"KonOGDSort\": 4, \"KonOGDKurz\": \"andere Konf.\", \"sum_AnzBestWir\": 20268.0}, {\"Jahr\": \"1965-01-01T00:00:00\", \"Jahr_str\": \"1965-01-01\", \"KonOGDSort\": 1, \"KonOGDKurz\": \"EV-REF\", \"sum_AnzBestWir\": 250625.0}, {\"Jahr\": \"1966-01-01T00:00:00\", \"Jahr_str\": \"1966-01-01\", \"KonOGDSort\": 4, \"KonOGDKurz\": \"andere Konf.\", \"sum_AnzBestWir\": 20425.0}, {\"Jahr\": \"1966-01-01T00:00:00\", \"Jahr_str\": \"1966-01-01\", \"KonOGDSort\": 2, \"KonOGDKurz\": \"RK\", \"sum_AnzBestWir\": 163934.0}, {\"Jahr\": \"1966-01-01T00:00:00\", \"Jahr_str\": \"1966-01-01\", \"KonOGDSort\": 1, \"KonOGDKurz\": \"EV-REF\", \"sum_AnzBestWir\": 247174.0}, {\"Jahr\": \"1967-01-01T00:00:00\", \"Jahr_str\": \"1967-01-01\", \"KonOGDSort\": 1, \"KonOGDKurz\": \"EV-REF\", \"sum_AnzBestWir\": 244091.0}, {\"Jahr\": \"1967-01-01T00:00:00\", \"Jahr_str\": \"1967-01-01\", \"KonOGDSort\": 2, \"KonOGDKurz\": \"RK\", \"sum_AnzBestWir\": 165526.0}, {\"Jahr\": \"1967-01-01T00:00:00\", \"Jahr_str\": \"1967-01-01\", \"KonOGDSort\": 4, \"KonOGDKurz\": \"andere Konf.\", \"sum_AnzBestWir\": 20977.0}, {\"Jahr\": \"1968-01-01T00:00:00\", \"Jahr_str\": \"1968-01-01\", \"KonOGDSort\": 1, \"KonOGDKurz\": \"EV-REF\", \"sum_AnzBestWir\": 240419.0}, {\"Jahr\": \"1968-01-01T00:00:00\", \"Jahr_str\": \"1968-01-01\", \"KonOGDSort\": 2, \"KonOGDKurz\": \"RK\", \"sum_AnzBestWir\": 167874.0}, {\"Jahr\": \"1968-01-01T00:00:00\", \"Jahr_str\": \"1968-01-01\", \"KonOGDSort\": 4, \"KonOGDKurz\": \"andere Konf.\", \"sum_AnzBestWir\": 21862.0}, {\"Jahr\": \"1969-01-01T00:00:00\", \"Jahr_str\": \"1969-01-01\", \"KonOGDSort\": 1, \"KonOGDKurz\": \"EV-REF\", \"sum_AnzBestWir\": 236745.0}, {\"Jahr\": \"1969-01-01T00:00:00\", \"Jahr_str\": \"1969-01-01\", \"KonOGDSort\": 2, \"KonOGDKurz\": \"RK\", \"sum_AnzBestWir\": 165869.0}, {\"Jahr\": \"1969-01-01T00:00:00\", \"Jahr_str\": \"1969-01-01\", \"KonOGDSort\": 4, \"KonOGDKurz\": \"andere Konf.\", \"sum_AnzBestWir\": 22503.0}, {\"Jahr\": \"1970-01-01T00:00:00\", \"Jahr_str\": \"1970-01-01\", \"KonOGDSort\": 1, \"KonOGDKurz\": \"EV-REF\", \"sum_AnzBestWir\": 231719.0}, {\"Jahr\": \"1970-01-01T00:00:00\", \"Jahr_str\": \"1970-01-01\", \"KonOGDSort\": 2, \"KonOGDKurz\": \"RK\", \"sum_AnzBestWir\": 163530.0}, {\"Jahr\": \"1970-01-01T00:00:00\", \"Jahr_str\": \"1970-01-01\", \"KonOGDSort\": 4, \"KonOGDKurz\": \"andere Konf.\", \"sum_AnzBestWir\": 22723.0}, {\"Jahr\": \"1971-01-01T00:00:00\", \"Jahr_str\": \"1971-01-01\", \"KonOGDSort\": 2, \"KonOGDKurz\": \"RK\", \"sum_AnzBestWir\": 162336.0}, {\"Jahr\": \"1971-01-01T00:00:00\", \"Jahr_str\": \"1971-01-01\", \"KonOGDSort\": 4, \"KonOGDKurz\": \"andere Konf.\", \"sum_AnzBestWir\": 23605.0}, {\"Jahr\": \"1971-01-01T00:00:00\", \"Jahr_str\": \"1971-01-01\", \"KonOGDSort\": 1, \"KonOGDKurz\": \"EV-REF\", \"sum_AnzBestWir\": 226228.0}, {\"Jahr\": \"1972-01-01T00:00:00\", \"Jahr_str\": \"1972-01-01\", \"KonOGDSort\": 1, \"KonOGDKurz\": \"EV-REF\", \"sum_AnzBestWir\": 220652.0}, {\"Jahr\": \"1972-01-01T00:00:00\", \"Jahr_str\": \"1972-01-01\", \"KonOGDSort\": 2, \"KonOGDKurz\": \"RK\", \"sum_AnzBestWir\": 162209.0}, {\"Jahr\": \"1972-01-01T00:00:00\", \"Jahr_str\": \"1972-01-01\", \"KonOGDSort\": 4, \"KonOGDKurz\": \"andere Konf.\", \"sum_AnzBestWir\": 24786.0}, {\"Jahr\": \"1973-01-01T00:00:00\", \"Jahr_str\": \"1973-01-01\", \"KonOGDSort\": 1, \"KonOGDKurz\": \"EV-REF\", \"sum_AnzBestWir\": 214138.0}, {\"Jahr\": \"1973-01-01T00:00:00\", \"Jahr_str\": \"1973-01-01\", \"KonOGDSort\": 2, \"KonOGDKurz\": \"RK\", \"sum_AnzBestWir\": 161036.0}, {\"Jahr\": \"1973-01-01T00:00:00\", \"Jahr_str\": \"1973-01-01\", \"KonOGDSort\": 4, \"KonOGDKurz\": \"andere Konf.\", \"sum_AnzBestWir\": 26403.0}, {\"Jahr\": \"1974-01-01T00:00:00\", \"Jahr_str\": \"1974-01-01\", \"KonOGDSort\": 2, \"KonOGDKurz\": \"RK\", \"sum_AnzBestWir\": 159648.0}, {\"Jahr\": \"1974-01-01T00:00:00\", \"Jahr_str\": \"1974-01-01\", \"KonOGDSort\": 1, \"KonOGDKurz\": \"EV-REF\", \"sum_AnzBestWir\": 208286.0}, {\"Jahr\": \"1974-01-01T00:00:00\", \"Jahr_str\": \"1974-01-01\", \"KonOGDSort\": 4, \"KonOGDKurz\": \"andere Konf.\", \"sum_AnzBestWir\": 28327.0}, {\"Jahr\": \"1975-01-01T00:00:00\", \"Jahr_str\": \"1975-01-01\", \"KonOGDSort\": 1, \"KonOGDKurz\": \"EV-REF\", \"sum_AnzBestWir\": 204251.0}, {\"Jahr\": \"1975-01-01T00:00:00\", \"Jahr_str\": \"1975-01-01\", \"KonOGDSort\": 2, \"KonOGDKurz\": \"RK\", \"sum_AnzBestWir\": 156151.0}, {\"Jahr\": \"1975-01-01T00:00:00\", \"Jahr_str\": \"1975-01-01\", \"KonOGDSort\": 4, \"KonOGDKurz\": \"andere Konf.\", \"sum_AnzBestWir\": 29211.0}, {\"Jahr\": \"1976-01-01T00:00:00\", \"Jahr_str\": \"1976-01-01\", \"KonOGDSort\": 2, \"KonOGDKurz\": \"RK\", \"sum_AnzBestWir\": 152514.0}, {\"Jahr\": \"1976-01-01T00:00:00\", \"Jahr_str\": \"1976-01-01\", \"KonOGDSort\": 4, \"KonOGDKurz\": \"andere Konf.\", \"sum_AnzBestWir\": 30226.0}, {\"Jahr\": \"1976-01-01T00:00:00\", \"Jahr_str\": \"1976-01-01\", \"KonOGDSort\": 1, \"KonOGDKurz\": \"EV-REF\", \"sum_AnzBestWir\": 200259.0}, {\"Jahr\": \"1977-01-01T00:00:00\", \"Jahr_str\": \"1977-01-01\", \"KonOGDSort\": 4, \"KonOGDKurz\": \"andere Konf.\", \"sum_AnzBestWir\": 31707.0}, {\"Jahr\": \"1977-01-01T00:00:00\", \"Jahr_str\": \"1977-01-01\", \"KonOGDSort\": 2, \"KonOGDKurz\": \"RK\", \"sum_AnzBestWir\": 150577.0}, {\"Jahr\": \"1977-01-01T00:00:00\", \"Jahr_str\": \"1977-01-01\", \"KonOGDSort\": 1, \"KonOGDKurz\": \"EV-REF\", \"sum_AnzBestWir\": 197351.0}, {\"Jahr\": \"1978-01-01T00:00:00\", \"Jahr_str\": \"1978-01-01\", \"KonOGDSort\": 1, \"KonOGDKurz\": \"EV-REF\", \"sum_AnzBestWir\": 193722.0}, {\"Jahr\": \"1978-01-01T00:00:00\", \"Jahr_str\": \"1978-01-01\", \"KonOGDSort\": 2, \"KonOGDKurz\": \"RK\", \"sum_AnzBestWir\": 149089.0}, {\"Jahr\": \"1978-01-01T00:00:00\", \"Jahr_str\": \"1978-01-01\", \"KonOGDSort\": 4, \"KonOGDKurz\": \"andere Konf.\", \"sum_AnzBestWir\": 33636.0}, {\"Jahr\": \"1979-01-01T00:00:00\", \"Jahr_str\": \"1979-01-01\", \"KonOGDSort\": 1, \"KonOGDKurz\": \"EV-REF\", \"sum_AnzBestWir\": 190050.0}, {\"Jahr\": \"1979-01-01T00:00:00\", \"Jahr_str\": \"1979-01-01\", \"KonOGDSort\": 2, \"KonOGDKurz\": \"RK\", \"sum_AnzBestWir\": 148621.0}, {\"Jahr\": \"1979-01-01T00:00:00\", \"Jahr_str\": \"1979-01-01\", \"KonOGDSort\": 4, \"KonOGDKurz\": \"andere Konf.\", \"sum_AnzBestWir\": 35550.0}, {\"Jahr\": \"1980-01-01T00:00:00\", \"Jahr_str\": \"1980-01-01\", \"KonOGDSort\": 1, \"KonOGDKurz\": \"EV-REF\", \"sum_AnzBestWir\": 175136.0}, {\"Jahr\": \"1980-01-01T00:00:00\", \"Jahr_str\": \"1980-01-01\", \"KonOGDSort\": 2, \"KonOGDKurz\": \"RK\", \"sum_AnzBestWir\": 146558.0}, {\"Jahr\": \"1980-01-01T00:00:00\", \"Jahr_str\": \"1980-01-01\", \"KonOGDSort\": 4, \"KonOGDKurz\": \"andere Konf.\", \"sum_AnzBestWir\": 48924.0}, {\"Jahr\": \"1981-01-01T00:00:00\", \"Jahr_str\": \"1981-01-01\", \"KonOGDSort\": 1, \"KonOGDKurz\": \"EV-REF\", \"sum_AnzBestWir\": 170956.0}, {\"Jahr\": \"1981-01-01T00:00:00\", \"Jahr_str\": \"1981-01-01\", \"KonOGDSort\": 2, \"KonOGDKurz\": \"RK\", \"sum_AnzBestWir\": 145838.0}, {\"Jahr\": \"1981-01-01T00:00:00\", \"Jahr_str\": \"1981-01-01\", \"KonOGDSort\": 4, \"KonOGDKurz\": \"andere Konf.\", \"sum_AnzBestWir\": 51377.0}, {\"Jahr\": \"1982-01-01T00:00:00\", \"Jahr_str\": \"1982-01-01\", \"KonOGDSort\": 2, \"KonOGDKurz\": \"RK\", \"sum_AnzBestWir\": 145447.0}, {\"Jahr\": \"1982-01-01T00:00:00\", \"Jahr_str\": \"1982-01-01\", \"KonOGDSort\": 4, \"KonOGDKurz\": \"andere Konf.\", \"sum_AnzBestWir\": 54388.0}, {\"Jahr\": \"1982-01-01T00:00:00\", \"Jahr_str\": \"1982-01-01\", \"KonOGDSort\": 1, \"KonOGDKurz\": \"EV-REF\", \"sum_AnzBestWir\": 166505.0}, {\"Jahr\": \"1983-01-01T00:00:00\", \"Jahr_str\": \"1983-01-01\", \"KonOGDSort\": 1, \"KonOGDKurz\": \"EV-REF\", \"sum_AnzBestWir\": 162376.0}, {\"Jahr\": \"1983-01-01T00:00:00\", \"Jahr_str\": \"1983-01-01\", \"KonOGDSort\": 2, \"KonOGDKurz\": \"RK\", \"sum_AnzBestWir\": 144690.0}, {\"Jahr\": \"1983-01-01T00:00:00\", \"Jahr_str\": \"1983-01-01\", \"KonOGDSort\": 4, \"KonOGDKurz\": \"andere Konf.\", \"sum_AnzBestWir\": 56586.0}, {\"Jahr\": \"1984-01-01T00:00:00\", \"Jahr_str\": \"1984-01-01\", \"KonOGDSort\": 1, \"KonOGDKurz\": \"EV-REF\", \"sum_AnzBestWir\": 159392.0}, {\"Jahr\": \"1984-01-01T00:00:00\", \"Jahr_str\": \"1984-01-01\", \"KonOGDSort\": 2, \"KonOGDKurz\": \"RK\", \"sum_AnzBestWir\": 143613.0}, {\"Jahr\": \"1984-01-01T00:00:00\", \"Jahr_str\": \"1984-01-01\", \"KonOGDSort\": 4, \"KonOGDKurz\": \"andere Konf.\", \"sum_AnzBestWir\": 58488.0}, {\"Jahr\": \"1985-01-01T00:00:00\", \"Jahr_str\": \"1985-01-01\", \"KonOGDSort\": 2, \"KonOGDKurz\": \"RK\", \"sum_AnzBestWir\": 142716.0}, {\"Jahr\": \"1985-01-01T00:00:00\", \"Jahr_str\": \"1985-01-01\", \"KonOGDSort\": 1, \"KonOGDKurz\": \"EV-REF\", \"sum_AnzBestWir\": 156116.0}, {\"Jahr\": \"1985-01-01T00:00:00\", \"Jahr_str\": \"1985-01-01\", \"KonOGDSort\": 4, \"KonOGDKurz\": \"andere Konf.\", \"sum_AnzBestWir\": 60252.0}, {\"Jahr\": \"1986-01-01T00:00:00\", \"Jahr_str\": \"1986-01-01\", \"KonOGDSort\": 1, \"KonOGDKurz\": \"EV-REF\", \"sum_AnzBestWir\": 153141.0}, {\"Jahr\": \"1986-01-01T00:00:00\", \"Jahr_str\": \"1986-01-01\", \"KonOGDSort\": 2, \"KonOGDKurz\": \"RK\", \"sum_AnzBestWir\": 142616.0}, {\"Jahr\": \"1986-01-01T00:00:00\", \"Jahr_str\": \"1986-01-01\", \"KonOGDSort\": 4, \"KonOGDKurz\": \"andere Konf.\", \"sum_AnzBestWir\": 63116.0}, {\"Jahr\": \"1987-01-01T00:00:00\", \"Jahr_str\": \"1987-01-01\", \"KonOGDSort\": 2, \"KonOGDKurz\": \"RK\", \"sum_AnzBestWir\": 142271.0}, {\"Jahr\": \"1987-01-01T00:00:00\", \"Jahr_str\": \"1987-01-01\", \"KonOGDSort\": 4, \"KonOGDKurz\": \"andere Konf.\", \"sum_AnzBestWir\": 65980.0}, {\"Jahr\": \"1987-01-01T00:00:00\", \"Jahr_str\": \"1987-01-01\", \"KonOGDSort\": 1, \"KonOGDKurz\": \"EV-REF\", \"sum_AnzBestWir\": 149791.0}, {\"Jahr\": \"1988-01-01T00:00:00\", \"Jahr_str\": \"1988-01-01\", \"KonOGDSort\": 4, \"KonOGDKurz\": \"andere Konf.\", \"sum_AnzBestWir\": 68824.0}, {\"Jahr\": \"1988-01-01T00:00:00\", \"Jahr_str\": \"1988-01-01\", \"KonOGDSort\": 2, \"KonOGDKurz\": \"RK\", \"sum_AnzBestWir\": 141816.0}, {\"Jahr\": \"1988-01-01T00:00:00\", \"Jahr_str\": \"1988-01-01\", \"KonOGDSort\": 1, \"KonOGDKurz\": \"EV-REF\", \"sum_AnzBestWir\": 146720.0}, {\"Jahr\": \"1989-01-01T00:00:00\", \"Jahr_str\": \"1989-01-01\", \"KonOGDSort\": 1, \"KonOGDKurz\": \"EV-REF\", \"sum_AnzBestWir\": 143391.0}, {\"Jahr\": \"1989-01-01T00:00:00\", \"Jahr_str\": \"1989-01-01\", \"KonOGDSort\": 2, \"KonOGDKurz\": \"RK\", \"sum_AnzBestWir\": 140908.0}, {\"Jahr\": \"1989-01-01T00:00:00\", \"Jahr_str\": \"1989-01-01\", \"KonOGDSort\": 4, \"KonOGDKurz\": \"andere Konf.\", \"sum_AnzBestWir\": 71602.0}, {\"Jahr\": \"1990-01-01T00:00:00\", \"Jahr_str\": \"1990-01-01\", \"KonOGDSort\": 1, \"KonOGDKurz\": \"EV-REF\", \"sum_AnzBestWir\": 140044.0}, {\"Jahr\": \"1990-01-01T00:00:00\", \"Jahr_str\": \"1990-01-01\", \"KonOGDSort\": 2, \"KonOGDKurz\": \"RK\", \"sum_AnzBestWir\": 140194.0}, {\"Jahr\": \"1990-01-01T00:00:00\", \"Jahr_str\": \"1990-01-01\", \"KonOGDSort\": 4, \"KonOGDKurz\": \"andere Konf.\", \"sum_AnzBestWir\": 76114.0}, {\"Jahr\": \"1991-01-01T00:00:00\", \"Jahr_str\": \"1991-01-01\", \"KonOGDSort\": 1, \"KonOGDKurz\": \"EV-REF\", \"sum_AnzBestWir\": 135084.0}, {\"Jahr\": \"1991-01-01T00:00:00\", \"Jahr_str\": \"1991-01-01\", \"KonOGDSort\": 2, \"KonOGDKurz\": \"RK\", \"sum_AnzBestWir\": 138479.0}, {\"Jahr\": \"1991-01-01T00:00:00\", \"Jahr_str\": \"1991-01-01\", \"KonOGDSort\": 4, \"KonOGDKurz\": \"andere Konf.\", \"sum_AnzBestWir\": 87312.0}, {\"Jahr\": \"1992-01-01T00:00:00\", \"Jahr_str\": \"1992-01-01\", \"KonOGDSort\": 1, \"KonOGDKurz\": \"EV-REF\", \"sum_AnzBestWir\": 134256.0}, {\"Jahr\": \"1992-01-01T00:00:00\", \"Jahr_str\": \"1992-01-01\", \"KonOGDSort\": 2, \"KonOGDKurz\": \"RK\", \"sum_AnzBestWir\": 138969.0}, {\"Jahr\": \"1992-01-01T00:00:00\", \"Jahr_str\": \"1992-01-01\", \"KonOGDSort\": 4, \"KonOGDKurz\": \"andere Konf.\", \"sum_AnzBestWir\": 86439.0}, {\"Jahr\": \"1993-01-01T00:00:00\", \"Jahr_str\": \"1993-01-01\", \"KonOGDSort\": 2, \"KonOGDKurz\": \"RK\", \"sum_AnzBestWir\": 134612.0}, {\"Jahr\": \"1993-01-01T00:00:00\", \"Jahr_str\": \"1993-01-01\", \"KonOGDSort\": 4, \"KonOGDKurz\": \"andere Konf.\", \"sum_AnzBestWir\": 97129.0}, {\"Jahr\": \"1993-01-01T00:00:00\", \"Jahr_str\": \"1993-01-01\", \"KonOGDSort\": 1, \"KonOGDKurz\": \"EV-REF\", \"sum_AnzBestWir\": 129157.0}, {\"Jahr\": \"1994-01-01T00:00:00\", \"Jahr_str\": \"1994-01-01\", \"KonOGDSort\": 1, \"KonOGDKurz\": \"EV-REF\", \"sum_AnzBestWir\": 126379.0}, {\"Jahr\": \"1994-01-01T00:00:00\", \"Jahr_str\": \"1994-01-01\", \"KonOGDSort\": 2, \"KonOGDKurz\": \"RK\", \"sum_AnzBestWir\": 132975.0}, {\"Jahr\": \"1994-01-01T00:00:00\", \"Jahr_str\": \"1994-01-01\", \"KonOGDSort\": 4, \"KonOGDKurz\": \"andere Konf.\", \"sum_AnzBestWir\": 101494.0}, {\"Jahr\": \"1995-01-01T00:00:00\", \"Jahr_str\": \"1995-01-01\", \"KonOGDSort\": 1, \"KonOGDKurz\": \"EV-REF\", \"sum_AnzBestWir\": 123481.0}, {\"Jahr\": \"1995-01-01T00:00:00\", \"Jahr_str\": \"1995-01-01\", \"KonOGDSort\": 2, \"KonOGDKurz\": \"RK\", \"sum_AnzBestWir\": 131477.0}, {\"Jahr\": \"1995-01-01T00:00:00\", \"Jahr_str\": \"1995-01-01\", \"KonOGDSort\": 4, \"KonOGDKurz\": \"andere Konf.\", \"sum_AnzBestWir\": 105868.0}, {\"Jahr\": \"1996-01-01T00:00:00\", \"Jahr_str\": \"1996-01-01\", \"KonOGDSort\": 2, \"KonOGDKurz\": \"RK\", \"sum_AnzBestWir\": 129522.0}, {\"Jahr\": \"1996-01-01T00:00:00\", \"Jahr_str\": \"1996-01-01\", \"KonOGDSort\": 1, \"KonOGDKurz\": \"EV-REF\", \"sum_AnzBestWir\": 120784.0}, {\"Jahr\": \"1996-01-01T00:00:00\", \"Jahr_str\": \"1996-01-01\", \"KonOGDSort\": 4, \"KonOGDKurz\": \"andere Konf.\", \"sum_AnzBestWir\": 109342.0}, {\"Jahr\": \"1997-01-01T00:00:00\", \"Jahr_str\": \"1997-01-01\", \"KonOGDSort\": 1, \"KonOGDKurz\": \"EV-REF\", \"sum_AnzBestWir\": 118295.0}, {\"Jahr\": \"1997-01-01T00:00:00\", \"Jahr_str\": \"1997-01-01\", \"KonOGDSort\": 2, \"KonOGDKurz\": \"RK\", \"sum_AnzBestWir\": 127136.0}, {\"Jahr\": \"1997-01-01T00:00:00\", \"Jahr_str\": \"1997-01-01\", \"KonOGDSort\": 4, \"KonOGDKurz\": \"andere Konf.\", \"sum_AnzBestWir\": 113163.0}, {\"Jahr\": \"1998-01-01T00:00:00\", \"Jahr_str\": \"1998-01-01\", \"KonOGDSort\": 2, \"KonOGDKurz\": \"RK\", \"sum_AnzBestWir\": 125744.0}, {\"Jahr\": \"1998-01-01T00:00:00\", \"Jahr_str\": \"1998-01-01\", \"KonOGDSort\": 4, \"KonOGDKurz\": \"andere Konf.\", \"sum_AnzBestWir\": 116977.0}, {\"Jahr\": \"1998-01-01T00:00:00\", \"Jahr_str\": \"1998-01-01\", \"KonOGDSort\": 1, \"KonOGDKurz\": \"EV-REF\", \"sum_AnzBestWir\": 116352.0}, {\"Jahr\": \"1999-01-01T00:00:00\", \"Jahr_str\": \"1999-01-01\", \"KonOGDSort\": 4, \"KonOGDKurz\": \"andere Konf.\", \"sum_AnzBestWir\": 121699.0}, {\"Jahr\": \"1999-01-01T00:00:00\", \"Jahr_str\": \"1999-01-01\", \"KonOGDSort\": 1, \"KonOGDKurz\": \"EV-REF\", \"sum_AnzBestWir\": 114276.0}, {\"Jahr\": \"1999-01-01T00:00:00\", \"Jahr_str\": \"1999-01-01\", \"KonOGDSort\": 2, \"KonOGDKurz\": \"RK\", \"sum_AnzBestWir\": 124729.0}, {\"Jahr\": \"2000-01-01T00:00:00\", \"Jahr_str\": \"2000-01-01\", \"KonOGDSort\": 1, \"KonOGDKurz\": \"EV-REF\", \"sum_AnzBestWir\": 112513.0}, {\"Jahr\": \"2000-01-01T00:00:00\", \"Jahr_str\": \"2000-01-01\", \"KonOGDSort\": 2, \"KonOGDKurz\": \"RK\", \"sum_AnzBestWir\": 123908.0}, {\"Jahr\": \"2000-01-01T00:00:00\", \"Jahr_str\": \"2000-01-01\", \"KonOGDSort\": 4, \"KonOGDKurz\": \"andere Konf.\", \"sum_AnzBestWir\": 124559.0}, {\"Jahr\": \"2001-01-01T00:00:00\", \"Jahr_str\": \"2001-01-01\", \"KonOGDSort\": 1, \"KonOGDKurz\": \"EV-REF\", \"sum_AnzBestWir\": 110801.0}, {\"Jahr\": \"2001-01-01T00:00:00\", \"Jahr_str\": \"2001-01-01\", \"KonOGDSort\": 2, \"KonOGDKurz\": \"RK\", \"sum_AnzBestWir\": 123085.0}, {\"Jahr\": \"2001-01-01T00:00:00\", \"Jahr_str\": \"2001-01-01\", \"KonOGDSort\": 4, \"KonOGDKurz\": \"andere Konf.\", \"sum_AnzBestWir\": 128156.0}, {\"Jahr\": \"2002-01-01T00:00:00\", \"Jahr_str\": \"2002-01-01\", \"KonOGDSort\": 1, \"KonOGDKurz\": \"EV-REF\", \"sum_AnzBestWir\": 109027.0}, {\"Jahr\": \"2002-01-01T00:00:00\", \"Jahr_str\": \"2002-01-01\", \"KonOGDSort\": 2, \"KonOGDKurz\": \"RK\", \"sum_AnzBestWir\": 123217.0}, {\"Jahr\": \"2002-01-01T00:00:00\", \"Jahr_str\": \"2002-01-01\", \"KonOGDSort\": 4, \"KonOGDKurz\": \"andere Konf.\", \"sum_AnzBestWir\": 132314.0}, {\"Jahr\": \"2003-01-01T00:00:00\", \"Jahr_str\": \"2003-01-01\", \"KonOGDSort\": 1, \"KonOGDKurz\": \"EV-REF\", \"sum_AnzBestWir\": 106504.0}, {\"Jahr\": \"2003-01-01T00:00:00\", \"Jahr_str\": \"2003-01-01\", \"KonOGDSort\": 2, \"KonOGDKurz\": \"RK\", \"sum_AnzBestWir\": 121938.0}, {\"Jahr\": \"2003-01-01T00:00:00\", \"Jahr_str\": \"2003-01-01\", \"KonOGDSort\": 4, \"KonOGDKurz\": \"andere Konf.\", \"sum_AnzBestWir\": 136086.0}, {\"Jahr\": \"2004-01-01T00:00:00\", \"Jahr_str\": \"2004-01-01\", \"KonOGDSort\": 2, \"KonOGDKurz\": \"RK\", \"sum_AnzBestWir\": 120497.0}, {\"Jahr\": \"2004-01-01T00:00:00\", \"Jahr_str\": \"2004-01-01\", \"KonOGDSort\": 4, \"KonOGDKurz\": \"andere Konf.\", \"sum_AnzBestWir\": 140104.0}, {\"Jahr\": \"2004-01-01T00:00:00\", \"Jahr_str\": \"2004-01-01\", \"KonOGDSort\": 1, \"KonOGDKurz\": \"EV-REF\", \"sum_AnzBestWir\": 104376.0}, {\"Jahr\": \"2005-01-01T00:00:00\", \"Jahr_str\": \"2005-01-01\", \"KonOGDSort\": 1, \"KonOGDKurz\": \"EV-REF\", \"sum_AnzBestWir\": 102863.0}, {\"Jahr\": \"2005-01-01T00:00:00\", \"Jahr_str\": \"2005-01-01\", \"KonOGDSort\": 2, \"KonOGDKurz\": \"RK\", \"sum_AnzBestWir\": 119838.0}, {\"Jahr\": \"2005-01-01T00:00:00\", \"Jahr_str\": \"2005-01-01\", \"KonOGDSort\": 4, \"KonOGDKurz\": \"andere Konf.\", \"sum_AnzBestWir\": 144108.0}, {\"Jahr\": \"2006-01-01T00:00:00\", \"Jahr_str\": \"2006-01-01\", \"KonOGDSort\": 1, \"KonOGDKurz\": \"EV-REF\", \"sum_AnzBestWir\": 101698.0}, {\"Jahr\": \"2006-01-01T00:00:00\", \"Jahr_str\": \"2006-01-01\", \"KonOGDSort\": 2, \"KonOGDKurz\": \"RK\", \"sum_AnzBestWir\": 119517.0}, {\"Jahr\": \"2006-01-01T00:00:00\", \"Jahr_str\": \"2006-01-01\", \"KonOGDSort\": 4, \"KonOGDKurz\": \"andere Konf.\", \"sum_AnzBestWir\": 148847.0}, {\"Jahr\": \"2007-01-01T00:00:00\", \"Jahr_str\": \"2007-01-01\", \"KonOGDSort\": 2, \"KonOGDKurz\": \"RK\", \"sum_AnzBestWir\": 120170.0}, {\"Jahr\": \"2007-01-01T00:00:00\", \"Jahr_str\": \"2007-01-01\", \"KonOGDSort\": 1, \"KonOGDKurz\": \"EV-REF\", \"sum_AnzBestWir\": 101587.0}, {\"Jahr\": \"2007-01-01T00:00:00\", \"Jahr_str\": \"2007-01-01\", \"KonOGDSort\": 4, \"KonOGDKurz\": \"andere Konf.\", \"sum_AnzBestWir\": 155058.0}, {\"Jahr\": \"2008-01-01T00:00:00\", \"Jahr_str\": \"2008-01-01\", \"KonOGDSort\": 1, \"KonOGDKurz\": \"EV-REF\", \"sum_AnzBestWir\": 100514.0}, {\"Jahr\": \"2008-01-01T00:00:00\", \"Jahr_str\": \"2008-01-01\", \"KonOGDSort\": 2, \"KonOGDKurz\": \"RK\", \"sum_AnzBestWir\": 120322.0}, {\"Jahr\": \"2008-01-01T00:00:00\", \"Jahr_str\": \"2008-01-01\", \"KonOGDSort\": 4, \"KonOGDKurz\": \"andere Konf.\", \"sum_AnzBestWir\": 159663.0}, {\"Jahr\": \"2009-01-01T00:00:00\", \"Jahr_str\": \"2009-01-01\", \"KonOGDSort\": 2, \"KonOGDKurz\": \"RK\", \"sum_AnzBestWir\": 119076.0}, {\"Jahr\": \"2009-01-01T00:00:00\", \"Jahr_str\": \"2009-01-01\", \"KonOGDSort\": 4, \"KonOGDKurz\": \"andere Konf.\", \"sum_AnzBestWir\": 164822.0}, {\"Jahr\": \"2009-01-01T00:00:00\", \"Jahr_str\": \"2009-01-01\", \"KonOGDSort\": 1, \"KonOGDKurz\": \"EV-REF\", \"sum_AnzBestWir\": 99008.0}, {\"Jahr\": \"2010-01-01T00:00:00\", \"Jahr_str\": \"2010-01-01\", \"KonOGDSort\": 4, \"KonOGDKurz\": \"andere Konf.\", \"sum_AnzBestWir\": 170781.0}, {\"Jahr\": \"2010-01-01T00:00:00\", \"Jahr_str\": \"2010-01-01\", \"KonOGDSort\": 1, \"KonOGDKurz\": \"EV-REF\", \"sum_AnzBestWir\": 97072.0}, {\"Jahr\": \"2010-01-01T00:00:00\", \"Jahr_str\": \"2010-01-01\", \"KonOGDSort\": 2, \"KonOGDKurz\": \"RK\", \"sum_AnzBestWir\": 117615.0}, {\"Jahr\": \"2011-01-01T00:00:00\", \"Jahr_str\": \"2011-01-01\", \"KonOGDSort\": 1, \"KonOGDKurz\": \"EV-REF\", \"sum_AnzBestWir\": 95625.0}, {\"Jahr\": \"2011-01-01T00:00:00\", \"Jahr_str\": \"2011-01-01\", \"KonOGDSort\": 2, \"KonOGDKurz\": \"RK\", \"sum_AnzBestWir\": 117410.0}, {\"Jahr\": \"2011-01-01T00:00:00\", \"Jahr_str\": \"2011-01-01\", \"KonOGDSort\": 4, \"KonOGDKurz\": \"andere Konf.\", \"sum_AnzBestWir\": 177047.0}, {\"Jahr\": \"2012-01-01T00:00:00\", \"Jahr_str\": \"2012-01-01\", \"KonOGDSort\": 1, \"KonOGDKurz\": \"EV-REF\", \"sum_AnzBestWir\": 94152.0}, {\"Jahr\": \"2012-01-01T00:00:00\", \"Jahr_str\": \"2012-01-01\", \"KonOGDSort\": 2, \"KonOGDKurz\": \"RK\", \"sum_AnzBestWir\": 117095.0}, {\"Jahr\": \"2012-01-01T00:00:00\", \"Jahr_str\": \"2012-01-01\", \"KonOGDSort\": 4, \"KonOGDKurz\": \"andere Konf.\", \"sum_AnzBestWir\": 182765.0}, {\"Jahr\": \"2013-01-01T00:00:00\", \"Jahr_str\": \"2013-01-01\", \"KonOGDSort\": 1, \"KonOGDKurz\": \"EV-REF\", \"sum_AnzBestWir\": 92629.0}, {\"Jahr\": \"2013-01-01T00:00:00\", \"Jahr_str\": \"2013-01-01\", \"KonOGDSort\": 2, \"KonOGDKurz\": \"RK\", \"sum_AnzBestWir\": 117294.0}, {\"Jahr\": \"2013-01-01T00:00:00\", \"Jahr_str\": \"2013-01-01\", \"KonOGDSort\": 4, \"KonOGDKurz\": \"andere Konf.\", \"sum_AnzBestWir\": 188652.0}, {\"Jahr\": \"2014-01-01T00:00:00\", \"Jahr_str\": \"2014-01-01\", \"KonOGDSort\": 4, \"KonOGDKurz\": \"andere Konf.\", \"sum_AnzBestWir\": 195759.0}, {\"Jahr\": \"2014-01-01T00:00:00\", \"Jahr_str\": \"2014-01-01\", \"KonOGDSort\": 1, \"KonOGDKurz\": \"EV-REF\", \"sum_AnzBestWir\": 91710.0}, {\"Jahr\": \"2014-01-01T00:00:00\", \"Jahr_str\": \"2014-01-01\", \"KonOGDSort\": 2, \"KonOGDKurz\": \"RK\", \"sum_AnzBestWir\": 117314.0}, {\"Jahr\": \"2015-01-01T00:00:00\", \"Jahr_str\": \"2015-01-01\", \"KonOGDSort\": 4, \"KonOGDKurz\": \"andere Konf.\", \"sum_AnzBestWir\": 202543.0}, {\"Jahr\": \"2015-01-01T00:00:00\", \"Jahr_str\": \"2015-01-01\", \"KonOGDSort\": 1, \"KonOGDKurz\": \"EV-REF\", \"sum_AnzBestWir\": 90793.0}, {\"Jahr\": \"2015-01-01T00:00:00\", \"Jahr_str\": \"2015-01-01\", \"KonOGDSort\": 2, \"KonOGDKurz\": \"RK\", \"sum_AnzBestWir\": 117068.0}, {\"Jahr\": \"2016-01-01T00:00:00\", \"Jahr_str\": \"2016-01-01\", \"KonOGDSort\": 1, \"KonOGDKurz\": \"EV-REF\", \"sum_AnzBestWir\": 89694.0}, {\"Jahr\": \"2016-01-01T00:00:00\", \"Jahr_str\": \"2016-01-01\", \"KonOGDSort\": 2, \"KonOGDKurz\": \"RK\", \"sum_AnzBestWir\": 116353.0}, {\"Jahr\": \"2016-01-01T00:00:00\", \"Jahr_str\": \"2016-01-01\", \"KonOGDSort\": 4, \"KonOGDKurz\": \"andere Konf.\", \"sum_AnzBestWir\": 209635.0}, {\"Jahr\": \"2017-01-01T00:00:00\", \"Jahr_str\": \"2017-01-01\", \"KonOGDSort\": 1, \"KonOGDKurz\": \"EV-REF\", \"sum_AnzBestWir\": 88011.0}, {\"Jahr\": \"2017-01-01T00:00:00\", \"Jahr_str\": \"2017-01-01\", \"KonOGDSort\": 2, \"KonOGDKurz\": \"RK\", \"sum_AnzBestWir\": 115085.0}, {\"Jahr\": \"2017-01-01T00:00:00\", \"Jahr_str\": \"2017-01-01\", \"KonOGDSort\": 4, \"KonOGDKurz\": \"andere Konf.\", \"sum_AnzBestWir\": 220214.0}, {\"Jahr\": \"2018-01-01T00:00:00\", \"Jahr_str\": \"2018-01-01\", \"KonOGDSort\": 2, \"KonOGDKurz\": \"RK\", \"sum_AnzBestWir\": 113073.0}, {\"Jahr\": \"2018-01-01T00:00:00\", \"Jahr_str\": \"2018-01-01\", \"KonOGDSort\": 1, \"KonOGDKurz\": \"EV-REF\", \"sum_AnzBestWir\": 86063.0}, {\"Jahr\": \"2018-01-01T00:00:00\", \"Jahr_str\": \"2018-01-01\", \"KonOGDSort\": 4, \"KonOGDKurz\": \"andere Konf.\", \"sum_AnzBestWir\": 229601.0}, {\"Jahr\": \"2019-01-01T00:00:00\", \"Jahr_str\": \"2019-01-01\", \"KonOGDSort\": 2, \"KonOGDKurz\": \"RK\", \"sum_AnzBestWir\": 110629.0}, {\"Jahr\": \"2019-01-01T00:00:00\", \"Jahr_str\": \"2019-01-01\", \"KonOGDSort\": 1, \"KonOGDKurz\": \"EV-REF\", \"sum_AnzBestWir\": 84059.0}, {\"Jahr\": \"2019-01-01T00:00:00\", \"Jahr_str\": \"2019-01-01\", \"KonOGDSort\": 4, \"KonOGDKurz\": \"andere Konf.\", \"sum_AnzBestWir\": 239320.0}, {\"Jahr\": \"2020-01-01T00:00:00\", \"Jahr_str\": \"2020-01-01\", \"KonOGDSort\": 2, \"KonOGDKurz\": \"RK\", \"sum_AnzBestWir\": 108020.0}, {\"Jahr\": \"2020-01-01T00:00:00\", \"Jahr_str\": \"2020-01-01\", \"KonOGDSort\": 1, \"KonOGDKurz\": \"EV-REF\", \"sum_AnzBestWir\": 81727.0}, {\"Jahr\": \"2020-01-01T00:00:00\", \"Jahr_str\": \"2020-01-01\", \"KonOGDSort\": 4, \"KonOGDKurz\": \"andere Konf.\", \"sum_AnzBestWir\": 244989.0}]}}, {\"mode\": \"vega-lite\"});\n",
       "</script>"
      ],
      "text/plain": [
       "alt.LayerChart(...)"
      ]
     },
     "execution_count": 44,
     "metadata": {},
     "output_type": "execute_result"
    }
   ],
   "source": [
    "myTitle=\"Anteil der Wohnbevölkerung nach Religion seit 1850\"\n",
    "\n",
    "highlight = alt.selection(type='single', on='mouseover',\n",
    "                          fields=['KonOGDKurz'], nearest=True)\n",
    "#x='date:StichtagDatJahr',\n",
    "base = alt.Chart(myAgg.reset_index().query('sum_AnzBestWir>0'), title=myTitle).encode(\n",
    "    x=alt.X('Jahr', axis=alt.Axis(title='Jahr'))# , axis=alt.Axis(format='%', title='percentage')\n",
    "    , y=alt.X('sum_AnzBestWir', axis=alt.Axis(title='Anz. Personen'))\n",
    "    , color=alt.Color('KonOGDKurz', legend=alt.Legend(title=\"Konfession (gruppiert)\", orient=\"right\"))  \n",
    "    ,tooltip=['Jahr_str', 'KonOGDKurz','sum_AnzBestWir']    \n",
    ")\n",
    "points = base.mark_circle().encode(\n",
    "    opacity=alt.value(0.75)\n",
    ").add_selection(\n",
    "    highlight\n",
    ").properties(\n",
    "    width=750 , height=350\n",
    ")\n",
    "lines = base.mark_line().encode(\n",
    "    size=alt.condition(~highlight, alt.value(0.5), alt.value(4))\n",
    ").interactive()\n",
    "\n",
    "lines + points"
   ]
  },
  {
   "cell_type": "markdown",
   "metadata": {
    "tags": []
   },
   "source": [
    "#### Barcharts mit Seaborn"
   ]
  },
  {
   "cell_type": "code",
   "execution_count": 45,
   "metadata": {},
   "outputs": [
    {
     "data": {
      "text/plain": [
       "Index(['StichtagDatJahr', 'KonOGDSort', 'KonOGDKurz', 'AnzBestWir', 'Jahr_str'], dtype='object')"
      ]
     },
     "execution_count": 45,
     "metadata": {},
     "output_type": "execute_result"
    }
   ],
   "source": [
    "data2betested.columns"
   ]
  },
  {
   "cell_type": "code",
   "execution_count": 46,
   "metadata": {},
   "outputs": [
    {
     "data": {
      "text/html": [
       "<div>\n",
       "<style scoped>\n",
       "    .dataframe tbody tr th:only-of-type {\n",
       "        vertical-align: middle;\n",
       "    }\n",
       "\n",
       "    .dataframe tbody tr th {\n",
       "        vertical-align: top;\n",
       "    }\n",
       "\n",
       "    .dataframe thead th {\n",
       "        text-align: right;\n",
       "    }\n",
       "</style>\n",
       "<table border=\"1\" class=\"dataframe\">\n",
       "  <thead>\n",
       "    <tr style=\"text-align: right;\">\n",
       "      <th></th>\n",
       "      <th></th>\n",
       "      <th></th>\n",
       "      <th></th>\n",
       "      <th>sum_AnzBestWir</th>\n",
       "    </tr>\n",
       "    <tr>\n",
       "      <th>Jahr</th>\n",
       "      <th>Jahr_str</th>\n",
       "      <th>KonOGDSort</th>\n",
       "      <th>KonOGDKurz</th>\n",
       "      <th></th>\n",
       "    </tr>\n",
       "  </thead>\n",
       "  <tbody>\n",
       "    <tr>\n",
       "      <th rowspan=\"3\" valign=\"top\">1934-01-01</th>\n",
       "      <th rowspan=\"3\" valign=\"top\">1934-01-01</th>\n",
       "      <th>1</th>\n",
       "      <th>EV-REF</th>\n",
       "      <td>208357</td>\n",
       "    </tr>\n",
       "    <tr>\n",
       "      <th>2</th>\n",
       "      <th>RK</th>\n",
       "      <td>92740</td>\n",
       "    </tr>\n",
       "    <tr>\n",
       "      <th>4</th>\n",
       "      <th>andere Konf.</th>\n",
       "      <td>14767</td>\n",
       "    </tr>\n",
       "    <tr>\n",
       "      <th rowspan=\"2\" valign=\"top\">1935-01-01</th>\n",
       "      <th rowspan=\"2\" valign=\"top\">1935-01-01</th>\n",
       "      <th>1</th>\n",
       "      <th>EV-REF</th>\n",
       "      <td>209469</td>\n",
       "    </tr>\n",
       "    <tr>\n",
       "      <th>2</th>\n",
       "      <th>RK</th>\n",
       "      <td>93184</td>\n",
       "    </tr>\n",
       "  </tbody>\n",
       "</table>\n",
       "</div>"
      ],
      "text/plain": [
       "                                               sum_AnzBestWir\n",
       "Jahr       Jahr_str   KonOGDSort KonOGDKurz                  \n",
       "1934-01-01 1934-01-01 1          EV-REF                208357\n",
       "                      2          RK                     92740\n",
       "                      4          andere Konf.           14767\n",
       "1935-01-01 1935-01-01 1          EV-REF                209469\n",
       "                      2          RK                     93184"
      ]
     },
     "execution_count": 46,
     "metadata": {},
     "output_type": "execute_result"
    }
   ],
   "source": [
    "myAgg.head()"
   ]
  },
  {
   "cell_type": "code",
   "execution_count": 47,
   "metadata": {},
   "outputs": [],
   "source": [
    "#help(sns.catplot)     "
   ]
  },
  {
   "cell_type": "code",
   "execution_count": 43,
   "metadata": {},
   "outputs": [],
   "source": [
    "#Stile for the following sns graphs\n",
    "sns.set_theme(style=\"whitegrid\")"
   ]
  },
  {
   "cell_type": "code",
   "execution_count": 51,
   "metadata": {},
   "outputs": [
    {
     "data": {
      "text/plain": [
       "<seaborn.axisgrid.FacetGrid at 0x1d2f33c9ec8>"
      ]
     },
     "execution_count": 51,
     "metadata": {},
     "output_type": "execute_result"
    },
    {
     "data": {
      "image/png": "[encoded data removed]",
      "text/plain": [
       "<Figure size 822.725x360 with 1 Axes>"
      ]
     },
     "metadata": {},
     "output_type": "display_data"
    }
   ],
   "source": [
    "#sns.color_palette(\"flare\", as_cmap=True)\n",
    "myHist = sns.catplot(x=\"Jahr_str\"\n",
    "            , y=\"sum_AnzBestWir\"\n",
    "            , hue=\"KonOGDKurz\"\n",
    "            , kind=\"bar\" #boxen, violin, --> wenn die aggregation nicht genau den werten in der grafik entspricht\n",
    "            , palette=\"pastel\" #, color=\"green\"\n",
    "            , height=5\n",
    "            , aspect=2\n",
    "            , order=None, legend_out=True\n",
    "            ,data=myAgg.loc[\"1934\":\"2020\"].reset_index()\n",
    "           )\n",
    "myHist.set_xlabels('Jahr', fontsize=11) # not set_label\n",
    "myHist.set_ylabels('Anz. Pers.', fontsize=11)\n"
   ]
  },
  {
   "cell_type": "code",
   "execution_count": 52,
   "metadata": {},
   "outputs": [
    {
     "data": {
      "text/plain": [
       "Index(['StichtagDatJahr', 'KonOGDSort', 'KonOGDKurz', 'AnzBestWir', 'Jahr_str'], dtype='object')"
      ]
     },
     "execution_count": 52,
     "metadata": {},
     "output_type": "execute_result"
    }
   ],
   "source": [
    "data2betested.columns"
   ]
  },
  {
   "cell_type": "code",
   "execution_count": 54,
   "metadata": {},
   "outputs": [
    {
     "data": {
      "text/plain": [
       "<seaborn.axisgrid.FacetGrid at 0x1d2f45376c8>"
      ]
     },
     "execution_count": 54,
     "metadata": {},
     "output_type": "execute_result"
    },
    {
     "data": {
      "image/png": "[encoded data removed]",
      "text/plain": [
       "<Figure size 966.725x216 with 3 Axes>"
      ]
     },
     "metadata": {},
     "output_type": "display_data"
    }
   ],
   "source": [
    "g2 = sns.FacetGrid(data2betested.loc[\"1934\":\"2020\"].sort_values('KonOGDSort',ascending=True).reset_index(), col=\"KonOGDKurz\", hue=\"KonOGDKurz\", col_wrap=4, height=3,)\n",
    "g2.map(sns.lineplot, \"Jahr\",\"AnzBestWir\",alpha=.8)\n",
    "g2.add_legend()\n"
   ]
  },
  {
   "cell_type": "markdown",
   "metadata": {},
   "source": [
    "## ---------------------- hier Plausi beendet\n",
    "\n",
    "**Sharepoint als gecheckt markieren!**"
   ]
  },
  {
   "cell_type": "markdown",
   "metadata": {
    "tags": []
   },
   "source": [
    "Record auf Sharepoint: **[Link](https://kollaboration.intranet.stzh.ch/orga/ssz-produkte/Lists/SASA_Outputs/DispForm.aspx?ID=52&ContentTypeId=0x0100988EAF029F1EFE4CA675F53C32A5D53D01006DBC563E6FBE9E4EB6FDC780799752E1)**\n",
    "\n",
    "---------------------------------------------------------------------------"
   ]
  },
  {
   "cell_type": "code",
   "execution_count": null,
   "metadata": {},
   "outputs": [],
   "source": []
  }
 ],
 "metadata": {
  "kernelspec": {
   "display_name": "Python 3",
   "language": "python",
   "name": "python3"
  },
  "language_info": {
   "codemirror_mode": {
    "name": "ipython",
    "version": 3
   },
   "file_extension": ".py",
   "mimetype": "text/x-python",
   "name": "python",
   "nbconvert_exporter": "python",
   "pygments_lexer": "ipython3",
   "version": "3.8.8"
  }
 },
 "nbformat": 4,
 "nbformat_minor": 4
}
