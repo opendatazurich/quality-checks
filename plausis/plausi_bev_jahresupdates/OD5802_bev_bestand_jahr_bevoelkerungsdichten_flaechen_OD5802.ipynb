{
 "cells": [
  {
   "cell_type": "markdown",
   "metadata": {},
   "source": [
    "**Importiere die notwendigen Packages**"
   ]
  },
  {
   "cell_type": "code",
   "execution_count": 1,
   "metadata": {},
   "outputs": [],
   "source": [
    "import pandas as pd\n",
    "import pivottablejs\n",
    "from pivottablejs import pivot_ui\n",
    "import numpy as np\n",
    "import altair as alt\n",
    "import matplotlib.pyplot as plt\n",
    "from datetime import datetime\n",
    "import geopandas as gpd\n",
    "import folium \n",
    "\n"
   ]
  },
  {
   "cell_type": "markdown",
   "metadata": {},
   "source": [
    "Definiere Settings. Hier das Zahlenformat von Float-Werten (z.B. *'{:,.2f}'.format* mit Komma als Tausenderzeichen), "
   ]
  },
  {
   "cell_type": "code",
   "execution_count": 2,
   "metadata": {},
   "outputs": [],
   "source": [
    "pd.options.display.float_format = '{:.0f}'.format\n",
    "pd.set_option('display.width', 100)\n",
    "pd.set_option('display.max_columns', 15)"
   ]
  },
  {
   "cell_type": "markdown",
   "metadata": {},
   "source": [
    "Importiere einen Datensatz von der **DWH_INT** Dropzone.\n",
    "\n",
    "- Beachte dabei die Notation des Pfades...\n",
    "- Definiere mal aktuell noch keine weiteren Parameter beim Import"
   ]
  },
  {
   "cell_type": "markdown",
   "metadata": {},
   "source": [
    "**Dataset auf INTEG Datenkatalog**: https://data.integ.stadt-zuerich.ch/dataset/int_dwh_bev_bestand_jahr_bevoelkerungsdichten_flaechen_od5802\n",
    "\n",
    "(int_dwh)"
   ]
  },
  {
   "cell_type": "code",
   "execution_count": 4,
   "metadata": {},
   "outputs": [],
   "source": [
    "# Filepath\n",
    "fp = r\"//szh.loc/ssz/applikationen/OGD_Dropzone/INT_DWH/bev_bestand_jahr_bevoelkerungsdichten_flaechen_OD5802/BEV580OD5802.csv\"\n",
    "\n",
    "# Read the data\n",
    "data2betested = pd.read_csv(\n",
    "    fp, \n",
    "    sep=',',\n",
    "   #usecols=[0,1,2,3,4,6],\n",
    "   #names=['stationid','year','month','avgtemp','latitude','longitude','elevation','station','countryid','country'],\n",
    "   #skiprows=1,\n",
    "   # parse_dates=[0],\n",
    "    parse_dates=True,\n",
    "    #date_parser=lambda x: pd.to_datetime(x, format=\"%Y\"), \n",
    "    #index_col=\"date_time\",\n",
    "    low_memory=False    \n",
    "    )"
   ]
  },
  {
   "cell_type": "markdown",
   "metadata": {},
   "source": [
    "In der Folge ein paar erste Tests:"
   ]
  },
  {
   "cell_type": "code",
   "execution_count": 5,
   "metadata": {},
   "outputs": [
    {
     "data": {
      "text/plain": [
       "pandas.core.frame.DataFrame"
      ]
     },
     "execution_count": 5,
     "metadata": {},
     "output_type": "execute_result"
    }
   ],
   "source": [
    "type(data2betested)"
   ]
  },
  {
   "cell_type": "markdown",
   "metadata": {},
   "source": [
    " - 1) Zeige eine kurze Vorschau der importierten Daten\n",
    " - 2) Weise die Datentypen aus\n",
    " - 3) Zeige die Shape (Umfang) des Datensatzes an"
   ]
  },
  {
   "cell_type": "code",
   "execution_count": 6,
   "metadata": {},
   "outputs": [
    {
     "data": {
      "text/html": [
       "<div>\n",
       "<style scoped>\n",
       "    .dataframe tbody tr th:only-of-type {\n",
       "        vertical-align: middle;\n",
       "    }\n",
       "\n",
       "    .dataframe tbody tr th {\n",
       "        vertical-align: top;\n",
       "    }\n",
       "\n",
       "    .dataframe thead th {\n",
       "        text-align: right;\n",
       "    }\n",
       "</style>\n",
       "<table border=\"1\" class=\"dataframe\">\n",
       "  <thead>\n",
       "    <tr style=\"text-align: right;\">\n",
       "      <th></th>\n",
       "      <th>RaumKategorie</th>\n",
       "      <th>RaumSort</th>\n",
       "      <th>RaumLang</th>\n",
       "      <th>StichtagDatJahr</th>\n",
       "      <th>AnzBestWir</th>\n",
       "      <th>FlaecheT</th>\n",
       "      <th>FlaecheL</th>\n",
       "      <th>FlaecheS</th>\n",
       "      <th>DichteT</th>\n",
       "      <th>DichteL</th>\n",
       "      <th>DichteS</th>\n",
       "    </tr>\n",
       "  </thead>\n",
       "  <tbody>\n",
       "    <tr>\n",
       "      <th>0</th>\n",
       "      <td>Gesamte Stadt</td>\n",
       "      <td>0</td>\n",
       "      <td>Ganze Stadt</td>\n",
       "      <td>2009</td>\n",
       "      <td>382906</td>\n",
       "      <td>9188</td>\n",
       "      <td>6526</td>\n",
       "      <td>3760</td>\n",
       "      <td>42</td>\n",
       "      <td>59</td>\n",
       "      <td>102</td>\n",
       "    </tr>\n",
       "    <tr>\n",
       "      <th>1</th>\n",
       "      <td>Gesamte Stadt</td>\n",
       "      <td>0</td>\n",
       "      <td>Ganze Stadt</td>\n",
       "      <td>2010</td>\n",
       "      <td>385468</td>\n",
       "      <td>9188</td>\n",
       "      <td>6522</td>\n",
       "      <td>3756</td>\n",
       "      <td>42</td>\n",
       "      <td>59</td>\n",
       "      <td>103</td>\n",
       "    </tr>\n",
       "    <tr>\n",
       "      <th>2</th>\n",
       "      <td>Gesamte Stadt</td>\n",
       "      <td>0</td>\n",
       "      <td>Ganze Stadt</td>\n",
       "      <td>2011</td>\n",
       "      <td>390082</td>\n",
       "      <td>9188</td>\n",
       "      <td>6522</td>\n",
       "      <td>3760</td>\n",
       "      <td>42</td>\n",
       "      <td>60</td>\n",
       "      <td>104</td>\n",
       "    </tr>\n",
       "  </tbody>\n",
       "</table>\n",
       "</div>"
      ],
      "text/plain": [
       "   RaumKategorie  RaumSort     RaumLang  StichtagDatJahr  AnzBestWir  FlaecheT  FlaecheL  \\\n",
       "0  Gesamte Stadt         0  Ganze Stadt             2009      382906      9188      6526   \n",
       "1  Gesamte Stadt         0  Ganze Stadt             2010      385468      9188      6522   \n",
       "2  Gesamte Stadt         0  Ganze Stadt             2011      390082      9188      6522   \n",
       "\n",
       "   FlaecheS  DichteT  DichteL  DichteS  \n",
       "0      3760       42       59      102  \n",
       "1      3756       42       59      103  \n",
       "2      3760       42       60      104  "
      ]
     },
     "execution_count": 6,
     "metadata": {},
     "output_type": "execute_result"
    }
   ],
   "source": [
    "data2betested.head(3)"
   ]
  },
  {
   "cell_type": "code",
   "execution_count": 7,
   "metadata": {},
   "outputs": [
    {
     "data": {
      "text/plain": [
       "RaumKategorie       object\n",
       "RaumSort             int64\n",
       "RaumLang            object\n",
       "StichtagDatJahr      int64\n",
       "AnzBestWir           int64\n",
       "FlaecheT           float64\n",
       "FlaecheL           float64\n",
       "FlaecheS           float64\n",
       "DichteT            float64\n",
       "DichteL            float64\n",
       "DichteS            float64\n",
       "dtype: object"
      ]
     },
     "execution_count": 7,
     "metadata": {},
     "output_type": "execute_result"
    }
   ],
   "source": [
    "data2betested.dtypes"
   ]
  },
  {
   "cell_type": "code",
   "execution_count": 8,
   "metadata": {},
   "outputs": [
    {
     "data": {
      "text/plain": [
       "(564, 11)"
      ]
     },
     "execution_count": 8,
     "metadata": {},
     "output_type": "execute_result"
    }
   ],
   "source": [
    "data2betested.shape"
   ]
  },
  {
   "cell_type": "markdown",
   "metadata": {},
   "source": [
    "Beschreibe einzelne Attribute"
   ]
  },
  {
   "cell_type": "code",
   "execution_count": 9,
   "metadata": {},
   "outputs": [
    {
     "data": {
      "text/html": [
       "<div>\n",
       "<style scoped>\n",
       "    .dataframe tbody tr th:only-of-type {\n",
       "        vertical-align: middle;\n",
       "    }\n",
       "\n",
       "    .dataframe tbody tr th {\n",
       "        vertical-align: top;\n",
       "    }\n",
       "\n",
       "    .dataframe thead th {\n",
       "        text-align: right;\n",
       "    }\n",
       "</style>\n",
       "<table border=\"1\" class=\"dataframe\">\n",
       "  <thead>\n",
       "    <tr style=\"text-align: right;\">\n",
       "      <th></th>\n",
       "      <th>RaumSort</th>\n",
       "      <th>StichtagDatJahr</th>\n",
       "      <th>AnzBestWir</th>\n",
       "      <th>FlaecheT</th>\n",
       "      <th>FlaecheL</th>\n",
       "      <th>FlaecheS</th>\n",
       "      <th>DichteT</th>\n",
       "      <th>DichteL</th>\n",
       "      <th>DichteS</th>\n",
       "    </tr>\n",
       "  </thead>\n",
       "  <tbody>\n",
       "    <tr>\n",
       "      <th>count</th>\n",
       "      <td>564</td>\n",
       "      <td>564</td>\n",
       "      <td>564</td>\n",
       "      <td>564</td>\n",
       "      <td>564</td>\n",
       "      <td>564</td>\n",
       "      <td>564</td>\n",
       "      <td>564</td>\n",
       "      <td>564</td>\n",
       "    </tr>\n",
       "    <tr>\n",
       "      <th>mean</th>\n",
       "      <td>63</td>\n",
       "      <td>2014</td>\n",
       "      <td>26078</td>\n",
       "      <td>586</td>\n",
       "      <td>416</td>\n",
       "      <td>242</td>\n",
       "      <td>54</td>\n",
       "      <td>68</td>\n",
       "      <td>114</td>\n",
       "    </tr>\n",
       "    <tr>\n",
       "      <th>std</th>\n",
       "      <td>36</td>\n",
       "      <td>3</td>\n",
       "      <td>58357</td>\n",
       "      <td>1317</td>\n",
       "      <td>932</td>\n",
       "      <td>540</td>\n",
       "      <td>32</td>\n",
       "      <td>30</td>\n",
       "      <td>47</td>\n",
       "    </tr>\n",
       "    <tr>\n",
       "      <th>min</th>\n",
       "      <td>0</td>\n",
       "      <td>2009</td>\n",
       "      <td>634</td>\n",
       "      <td>26</td>\n",
       "      <td>26</td>\n",
       "      <td>13</td>\n",
       "      <td>11</td>\n",
       "      <td>14</td>\n",
       "      <td>23</td>\n",
       "    </tr>\n",
       "    <tr>\n",
       "      <th>25%</th>\n",
       "      <td>31</td>\n",
       "      <td>2012</td>\n",
       "      <td>7284</td>\n",
       "      <td>166</td>\n",
       "      <td>127</td>\n",
       "      <td>80</td>\n",
       "      <td>31</td>\n",
       "      <td>45</td>\n",
       "      <td>84</td>\n",
       "    </tr>\n",
       "    <tr>\n",
       "      <th>50%</th>\n",
       "      <td>63</td>\n",
       "      <td>2014</td>\n",
       "      <td>12944</td>\n",
       "      <td>268</td>\n",
       "      <td>188</td>\n",
       "      <td>128</td>\n",
       "      <td>43</td>\n",
       "      <td>64</td>\n",
       "      <td>107</td>\n",
       "    </tr>\n",
       "    <tr>\n",
       "      <th>75%</th>\n",
       "      <td>92</td>\n",
       "      <td>2017</td>\n",
       "      <td>25809</td>\n",
       "      <td>574</td>\n",
       "      <td>421</td>\n",
       "      <td>220</td>\n",
       "      <td>77</td>\n",
       "      <td>85</td>\n",
       "      <td>133</td>\n",
       "    </tr>\n",
       "    <tr>\n",
       "      <th>max</th>\n",
       "      <td>123</td>\n",
       "      <td>2020</td>\n",
       "      <td>434736</td>\n",
       "      <td>9189</td>\n",
       "      <td>6526</td>\n",
       "      <td>3812</td>\n",
       "      <td>152</td>\n",
       "      <td>162</td>\n",
       "      <td>250</td>\n",
       "    </tr>\n",
       "  </tbody>\n",
       "</table>\n",
       "</div>"
      ],
      "text/plain": [
       "       RaumSort  StichtagDatJahr  AnzBestWir  FlaecheT  FlaecheL  FlaecheS  DichteT  DichteL  \\\n",
       "count       564              564         564       564       564       564      564      564   \n",
       "mean         63             2014       26078       586       416       242       54       68   \n",
       "std          36                3       58357      1317       932       540       32       30   \n",
       "min           0             2009         634        26        26        13       11       14   \n",
       "25%          31             2012        7284       166       127        80       31       45   \n",
       "50%          63             2014       12944       268       188       128       43       64   \n",
       "75%          92             2017       25809       574       421       220       77       85   \n",
       "max         123             2020      434736      9189      6526      3812      152      162   \n",
       "\n",
       "       DichteS  \n",
       "count      564  \n",
       "mean       114  \n",
       "std         47  \n",
       "min         23  \n",
       "25%         84  \n",
       "50%        107  \n",
       "75%        133  \n",
       "max        250  "
      ]
     },
     "execution_count": 9,
     "metadata": {},
     "output_type": "execute_result"
    }
   ],
   "source": [
    "data2betested.describe()"
   ]
  },
  {
   "cell_type": "markdown",
   "metadata": {},
   "source": [
    "Wie viele Nullwerte gibt es im Datensatz?"
   ]
  },
  {
   "cell_type": "code",
   "execution_count": 10,
   "metadata": {
    "scrolled": true
   },
   "outputs": [
    {
     "data": {
      "text/plain": [
       "RaumKategorie      0\n",
       "RaumSort           0\n",
       "RaumLang           0\n",
       "StichtagDatJahr    0\n",
       "AnzBestWir         0\n",
       "FlaecheT           0\n",
       "FlaecheL           0\n",
       "FlaecheS           0\n",
       "DichteT            0\n",
       "DichteL            0\n",
       "DichteS            0\n",
       "dtype: int64"
      ]
     },
     "execution_count": 10,
     "metadata": {},
     "output_type": "execute_result"
    }
   ],
   "source": [
    "data2betested.isnull().sum()"
   ]
  },
  {
   "cell_type": "markdown",
   "metadata": {},
   "source": [
    "Wandle die Spalte Jahr von Int zu **Datetime** um. Dies wird in den meisten Grafiken so benötigt."
   ]
  },
  {
   "cell_type": "code",
   "execution_count": 11,
   "metadata": {
    "scrolled": true
   },
   "outputs": [
    {
     "data": {
      "text/html": [
       "<div>\n",
       "<style scoped>\n",
       "    .dataframe tbody tr th:only-of-type {\n",
       "        vertical-align: middle;\n",
       "    }\n",
       "\n",
       "    .dataframe tbody tr th {\n",
       "        vertical-align: top;\n",
       "    }\n",
       "\n",
       "    .dataframe thead th {\n",
       "        text-align: right;\n",
       "    }\n",
       "</style>\n",
       "<table border=\"1\" class=\"dataframe\">\n",
       "  <thead>\n",
       "    <tr style=\"text-align: right;\">\n",
       "      <th></th>\n",
       "      <th>RaumKategorie</th>\n",
       "      <th>RaumSort</th>\n",
       "      <th>RaumLang</th>\n",
       "      <th>StichtagDatJahr</th>\n",
       "      <th>AnzBestWir</th>\n",
       "      <th>FlaecheT</th>\n",
       "      <th>FlaecheL</th>\n",
       "      <th>FlaecheS</th>\n",
       "      <th>DichteT</th>\n",
       "      <th>DichteL</th>\n",
       "      <th>DichteS</th>\n",
       "    </tr>\n",
       "  </thead>\n",
       "  <tbody>\n",
       "    <tr>\n",
       "      <th>0</th>\n",
       "      <td>Gesamte Stadt</td>\n",
       "      <td>0</td>\n",
       "      <td>Ganze Stadt</td>\n",
       "      <td>2009-01-01</td>\n",
       "      <td>382906</td>\n",
       "      <td>9188</td>\n",
       "      <td>6526</td>\n",
       "      <td>3760</td>\n",
       "      <td>42</td>\n",
       "      <td>59</td>\n",
       "      <td>102</td>\n",
       "    </tr>\n",
       "    <tr>\n",
       "      <th>1</th>\n",
       "      <td>Gesamte Stadt</td>\n",
       "      <td>0</td>\n",
       "      <td>Ganze Stadt</td>\n",
       "      <td>2010-01-01</td>\n",
       "      <td>385468</td>\n",
       "      <td>9188</td>\n",
       "      <td>6522</td>\n",
       "      <td>3756</td>\n",
       "      <td>42</td>\n",
       "      <td>59</td>\n",
       "      <td>103</td>\n",
       "    </tr>\n",
       "    <tr>\n",
       "      <th>2</th>\n",
       "      <td>Gesamte Stadt</td>\n",
       "      <td>0</td>\n",
       "      <td>Ganze Stadt</td>\n",
       "      <td>2011-01-01</td>\n",
       "      <td>390082</td>\n",
       "      <td>9188</td>\n",
       "      <td>6522</td>\n",
       "      <td>3760</td>\n",
       "      <td>42</td>\n",
       "      <td>60</td>\n",
       "      <td>104</td>\n",
       "    </tr>\n",
       "    <tr>\n",
       "      <th>3</th>\n",
       "      <td>Gesamte Stadt</td>\n",
       "      <td>0</td>\n",
       "      <td>Ganze Stadt</td>\n",
       "      <td>2012-01-01</td>\n",
       "      <td>394012</td>\n",
       "      <td>9188</td>\n",
       "      <td>6524</td>\n",
       "      <td>3770</td>\n",
       "      <td>43</td>\n",
       "      <td>60</td>\n",
       "      <td>104</td>\n",
       "    </tr>\n",
       "    <tr>\n",
       "      <th>4</th>\n",
       "      <td>Gesamte Stadt</td>\n",
       "      <td>0</td>\n",
       "      <td>Ganze Stadt</td>\n",
       "      <td>2013-01-01</td>\n",
       "      <td>398575</td>\n",
       "      <td>9188</td>\n",
       "      <td>6522</td>\n",
       "      <td>3771</td>\n",
       "      <td>43</td>\n",
       "      <td>61</td>\n",
       "      <td>106</td>\n",
       "    </tr>\n",
       "    <tr>\n",
       "      <th>...</th>\n",
       "      <td>...</td>\n",
       "      <td>...</td>\n",
       "      <td>...</td>\n",
       "      <td>...</td>\n",
       "      <td>...</td>\n",
       "      <td>...</td>\n",
       "      <td>...</td>\n",
       "      <td>...</td>\n",
       "      <td>...</td>\n",
       "      <td>...</td>\n",
       "      <td>...</td>\n",
       "    </tr>\n",
       "    <tr>\n",
       "      <th>559</th>\n",
       "      <td>Stadtquartier</td>\n",
       "      <td>123</td>\n",
       "      <td>Hirzenbach</td>\n",
       "      <td>2016-01-01</td>\n",
       "      <td>12463</td>\n",
       "      <td>205</td>\n",
       "      <td>176</td>\n",
       "      <td>101</td>\n",
       "      <td>61</td>\n",
       "      <td>71</td>\n",
       "      <td>123</td>\n",
       "    </tr>\n",
       "    <tr>\n",
       "      <th>560</th>\n",
       "      <td>Stadtquartier</td>\n",
       "      <td>123</td>\n",
       "      <td>Hirzenbach</td>\n",
       "      <td>2017-01-01</td>\n",
       "      <td>12627</td>\n",
       "      <td>205</td>\n",
       "      <td>176</td>\n",
       "      <td>101</td>\n",
       "      <td>62</td>\n",
       "      <td>72</td>\n",
       "      <td>125</td>\n",
       "    </tr>\n",
       "    <tr>\n",
       "      <th>561</th>\n",
       "      <td>Stadtquartier</td>\n",
       "      <td>123</td>\n",
       "      <td>Hirzenbach</td>\n",
       "      <td>2018-01-01</td>\n",
       "      <td>12801</td>\n",
       "      <td>205</td>\n",
       "      <td>176</td>\n",
       "      <td>101</td>\n",
       "      <td>63</td>\n",
       "      <td>73</td>\n",
       "      <td>127</td>\n",
       "    </tr>\n",
       "    <tr>\n",
       "      <th>562</th>\n",
       "      <td>Stadtquartier</td>\n",
       "      <td>123</td>\n",
       "      <td>Hirzenbach</td>\n",
       "      <td>2019-01-01</td>\n",
       "      <td>13129</td>\n",
       "      <td>205</td>\n",
       "      <td>176</td>\n",
       "      <td>100</td>\n",
       "      <td>64</td>\n",
       "      <td>75</td>\n",
       "      <td>131</td>\n",
       "    </tr>\n",
       "    <tr>\n",
       "      <th>563</th>\n",
       "      <td>Stadtquartier</td>\n",
       "      <td>123</td>\n",
       "      <td>Hirzenbach</td>\n",
       "      <td>2020-01-01</td>\n",
       "      <td>12963</td>\n",
       "      <td>205</td>\n",
       "      <td>176</td>\n",
       "      <td>100</td>\n",
       "      <td>63</td>\n",
       "      <td>74</td>\n",
       "      <td>129</td>\n",
       "    </tr>\n",
       "  </tbody>\n",
       "</table>\n",
       "<p>564 rows × 11 columns</p>\n",
       "</div>"
      ],
      "text/plain": [
       "     RaumKategorie  RaumSort     RaumLang StichtagDatJahr  AnzBestWir  FlaecheT  FlaecheL  \\\n",
       "0    Gesamte Stadt         0  Ganze Stadt      2009-01-01      382906      9188      6526   \n",
       "1    Gesamte Stadt         0  Ganze Stadt      2010-01-01      385468      9188      6522   \n",
       "2    Gesamte Stadt         0  Ganze Stadt      2011-01-01      390082      9188      6522   \n",
       "3    Gesamte Stadt         0  Ganze Stadt      2012-01-01      394012      9188      6524   \n",
       "4    Gesamte Stadt         0  Ganze Stadt      2013-01-01      398575      9188      6522   \n",
       "..             ...       ...          ...             ...         ...       ...       ...   \n",
       "559  Stadtquartier       123   Hirzenbach      2016-01-01       12463       205       176   \n",
       "560  Stadtquartier       123   Hirzenbach      2017-01-01       12627       205       176   \n",
       "561  Stadtquartier       123   Hirzenbach      2018-01-01       12801       205       176   \n",
       "562  Stadtquartier       123   Hirzenbach      2019-01-01       13129       205       176   \n",
       "563  Stadtquartier       123   Hirzenbach      2020-01-01       12963       205       176   \n",
       "\n",
       "     FlaecheS  DichteT  DichteL  DichteS  \n",
       "0        3760       42       59      102  \n",
       "1        3756       42       59      103  \n",
       "2        3760       42       60      104  \n",
       "3        3770       43       60      104  \n",
       "4        3771       43       61      106  \n",
       "..        ...      ...      ...      ...  \n",
       "559       101       61       71      123  \n",
       "560       101       62       72      125  \n",
       "561       101       63       73      127  \n",
       "562       100       64       75      131  \n",
       "563       100       63       74      129  \n",
       "\n",
       "[564 rows x 11 columns]"
      ]
     },
     "execution_count": 11,
     "metadata": {},
     "output_type": "execute_result"
    }
   ],
   "source": [
    "data2betested['StichtagDatJahr']=pd.to_datetime(data2betested['StichtagDatJahr'], format='%Y')\n",
    "\n",
    "#TO DO --> setze das Datum auf den 31.12. der Jahres.\n",
    "#test=data2betested[['StichtagDatJahr']].date().replace(month=12, day=31)\n",
    "\n",
    "data2betested"
   ]
  },
  {
   "cell_type": "markdown",
   "metadata": {},
   "source": [
    "Bereite die Daten für die Grafik unten vor"
   ]
  },
  {
   "cell_type": "code",
   "execution_count": 12,
   "metadata": {},
   "outputs": [
    {
     "data": {
      "text/plain": [
       "12"
      ]
     },
     "execution_count": 12,
     "metadata": {},
     "output_type": "execute_result"
    }
   ],
   "source": [
    "Jahre = data2betested.groupby(\"StichtagDatJahr\")\n",
    "len(Jahre)"
   ]
  },
  {
   "cell_type": "code",
   "execution_count": 13,
   "metadata": {},
   "outputs": [
    {
     "name": "stdout",
     "output_type": "stream",
     "text": [
      "2009-01-01 00:00:00 47\n",
      "2010-01-01 00:00:00 47\n",
      "2011-01-01 00:00:00 47\n",
      "2012-01-01 00:00:00 47\n",
      "2013-01-01 00:00:00 47\n",
      "2014-01-01 00:00:00 47\n",
      "2015-01-01 00:00:00 47\n",
      "2016-01-01 00:00:00 47\n",
      "2017-01-01 00:00:00 47\n",
      "2018-01-01 00:00:00 47\n",
      "2019-01-01 00:00:00 47\n",
      "2020-01-01 00:00:00 47\n"
     ]
    }
   ],
   "source": [
    "for key, group in Jahre:\n",
    "    print(key, len(group))"
   ]
  },
  {
   "cell_type": "code",
   "execution_count": 14,
   "metadata": {},
   "outputs": [
    {
     "data": {
      "text/html": [
       "<div>\n",
       "<style scoped>\n",
       "    .dataframe tbody tr th:only-of-type {\n",
       "        vertical-align: middle;\n",
       "    }\n",
       "\n",
       "    .dataframe tbody tr th {\n",
       "        vertical-align: top;\n",
       "    }\n",
       "\n",
       "    .dataframe thead th {\n",
       "        text-align: right;\n",
       "    }\n",
       "</style>\n",
       "<table border=\"1\" class=\"dataframe\">\n",
       "  <thead>\n",
       "    <tr style=\"text-align: right;\">\n",
       "      <th></th>\n",
       "      <th>RaumKategorie</th>\n",
       "      <th>RaumSort</th>\n",
       "      <th>RaumLang</th>\n",
       "      <th>StichtagDatJahr</th>\n",
       "      <th>AnzBestWir</th>\n",
       "      <th>FlaecheT</th>\n",
       "      <th>FlaecheL</th>\n",
       "      <th>FlaecheS</th>\n",
       "      <th>DichteT</th>\n",
       "      <th>DichteL</th>\n",
       "      <th>DichteS</th>\n",
       "    </tr>\n",
       "  </thead>\n",
       "  <tbody>\n",
       "    <tr>\n",
       "      <th>11</th>\n",
       "      <td>Gesamte Stadt</td>\n",
       "      <td>0</td>\n",
       "      <td>Ganze Stadt</td>\n",
       "      <td>2020-01-01</td>\n",
       "      <td>434736</td>\n",
       "      <td>9188</td>\n",
       "      <td>6493</td>\n",
       "      <td>3803</td>\n",
       "      <td>47</td>\n",
       "      <td>67</td>\n",
       "      <td>114</td>\n",
       "    </tr>\n",
       "    <tr>\n",
       "      <th>23</th>\n",
       "      <td>Stadtkreis</td>\n",
       "      <td>10</td>\n",
       "      <td>Kreis 1</td>\n",
       "      <td>2020-01-01</td>\n",
       "      <td>5831</td>\n",
       "      <td>180</td>\n",
       "      <td>155</td>\n",
       "      <td>87</td>\n",
       "      <td>32</td>\n",
       "      <td>38</td>\n",
       "      <td>67</td>\n",
       "    </tr>\n",
       "    <tr>\n",
       "      <th>35</th>\n",
       "      <td>Stadtkreis</td>\n",
       "      <td>20</td>\n",
       "      <td>Kreis 2</td>\n",
       "      <td>2020-01-01</td>\n",
       "      <td>35552</td>\n",
       "      <td>1107</td>\n",
       "      <td>676</td>\n",
       "      <td>356</td>\n",
       "      <td>32</td>\n",
       "      <td>53</td>\n",
       "      <td>100</td>\n",
       "    </tr>\n",
       "  </tbody>\n",
       "</table>\n",
       "</div>"
      ],
      "text/plain": [
       "    RaumKategorie  RaumSort     RaumLang StichtagDatJahr  AnzBestWir  FlaecheT  FlaecheL  \\\n",
       "11  Gesamte Stadt         0  Ganze Stadt      2020-01-01      434736      9188      6493   \n",
       "23     Stadtkreis        10      Kreis 1      2020-01-01        5831       180       155   \n",
       "35     Stadtkreis        20      Kreis 2      2020-01-01       35552      1107       676   \n",
       "\n",
       "    FlaecheS  DichteT  DichteL  DichteS  \n",
       "11      3803       47       67      114  \n",
       "23        87       32       38       67  \n",
       "35       356       32       53      100  "
      ]
     },
     "execution_count": 14,
     "metadata": {},
     "output_type": "execute_result"
    }
   ],
   "source": [
    "myJahr = \"2020-01-01\"\n",
    "aktuellesJahr=Jahre.get_group(myJahr)   \n",
    "aktuellesJahr.head(3)"
   ]
  },
  {
   "cell_type": "markdown",
   "metadata": {},
   "source": [
    "**Selektionen und Aggregationen**\n",
    "\n",
    "Check this [Doku](https://www.shanelynn.ie/summarising-aggregation-and-grouping-data-in-python-pandas/)"
   ]
  },
  {
   "cell_type": "code",
   "execution_count": 17,
   "metadata": {},
   "outputs": [
    {
     "data": {
      "text/html": [
       "<div>\n",
       "<style scoped>\n",
       "    .dataframe tbody tr th:only-of-type {\n",
       "        vertical-align: middle;\n",
       "    }\n",
       "\n",
       "    .dataframe tbody tr th {\n",
       "        vertical-align: top;\n",
       "    }\n",
       "\n",
       "    .dataframe thead th {\n",
       "        text-align: right;\n",
       "    }\n",
       "</style>\n",
       "<table border=\"1\" class=\"dataframe\">\n",
       "  <thead>\n",
       "    <tr style=\"text-align: right;\">\n",
       "      <th></th>\n",
       "      <th></th>\n",
       "      <th></th>\n",
       "      <th>AnzBestWir</th>\n",
       "      <th>FlaecheS</th>\n",
       "      <th>StichtagDatJahr</th>\n",
       "    </tr>\n",
       "    <tr>\n",
       "      <th>RaumSort</th>\n",
       "      <th>RaumLang</th>\n",
       "      <th>StichtagDatJahr</th>\n",
       "      <th></th>\n",
       "      <th></th>\n",
       "      <th></th>\n",
       "    </tr>\n",
       "  </thead>\n",
       "  <tbody>\n",
       "    <tr>\n",
       "      <th rowspan=\"5\" valign=\"top\">0</th>\n",
       "      <th rowspan=\"5\" valign=\"top\">Ganze Stadt</th>\n",
       "      <th>2009-01-01</th>\n",
       "      <td>382906</td>\n",
       "      <td>3760</td>\n",
       "      <td>2009-01-01</td>\n",
       "    </tr>\n",
       "    <tr>\n",
       "      <th>2010-01-01</th>\n",
       "      <td>385468</td>\n",
       "      <td>3756</td>\n",
       "      <td>2010-01-01</td>\n",
       "    </tr>\n",
       "    <tr>\n",
       "      <th>2011-01-01</th>\n",
       "      <td>390082</td>\n",
       "      <td>3760</td>\n",
       "      <td>2011-01-01</td>\n",
       "    </tr>\n",
       "    <tr>\n",
       "      <th>2012-01-01</th>\n",
       "      <td>394012</td>\n",
       "      <td>3770</td>\n",
       "      <td>2012-01-01</td>\n",
       "    </tr>\n",
       "    <tr>\n",
       "      <th>2013-01-01</th>\n",
       "      <td>398575</td>\n",
       "      <td>3771</td>\n",
       "      <td>2013-01-01</td>\n",
       "    </tr>\n",
       "  </tbody>\n",
       "</table>\n",
       "</div>"
      ],
      "text/plain": [
       "                                      AnzBestWir  FlaecheS StichtagDatJahr\n",
       "RaumSort RaumLang    StichtagDatJahr                                      \n",
       "0        Ganze Stadt 2009-01-01           382906      3760      2009-01-01\n",
       "                     2010-01-01           385468      3756      2010-01-01\n",
       "                     2011-01-01           390082      3760      2011-01-01\n",
       "                     2012-01-01           394012      3770      2012-01-01\n",
       "                     2013-01-01           398575      3771      2013-01-01"
      ]
     },
     "execution_count": 17,
     "metadata": {},
     "output_type": "execute_result"
    }
   ],
   "source": [
    "#test = data2betested.groupby(['StichtagDatJahr', 'AlterV20Kurz'])[['AnzBestWir']].agg()\n",
    "\n",
    "# produces Pandas Series\n",
    "    #data2betested.groupby(['StichtagDatJahr', 'KonOGDSort'])['AnzBestWir'].sum()\n",
    "# Produces Pandas DataFrame\n",
    "    #data2betested.groupby(['StichtagDatJahr', 'KonOGDSort'])[['AnzBestWir']].sum()\n",
    "    \n",
    "test = data2betested.groupby(\n",
    "   ['RaumSort', 'RaumLang', 'StichtagDatJahr']\n",
    ").agg(\n",
    "    {\n",
    "         'AnzBestWir':(sum),    # Sum --> (sum)\n",
    "         'FlaecheS': 'max',  # get the first date per group\n",
    "        'StichtagDatJahr': 'first'\n",
    "    }\n",
    ")\n",
    "test.head()\n",
    "    "
   ]
  },
  {
   "cell_type": "markdown",
   "metadata": {},
   "source": [
    "**Einfache Visualisierungen zur Plausi**"
   ]
  },
  {
   "cell_type": "markdown",
   "metadata": {},
   "source": [
    "Exploriere die Daten mit Pivottable.JS"
   ]
  },
  {
   "cell_type": "code",
   "execution_count": 18,
   "metadata": {},
   "outputs": [
    {
     "data": {
      "text/html": [
       "\n",
       "        <iframe\n",
       "            width=\"100%\"\n",
       "            height=\"500\"\n",
       "            src=\"pivottablejs.html\"\n",
       "            frameborder=\"0\"\n",
       "            allowfullscreen\n",
       "        ></iframe>\n",
       "        "
      ],
      "text/plain": [
       "<IPython.lib.display.IFrame at 0x2cf8981c4c0>"
      ]
     },
     "execution_count": 18,
     "metadata": {},
     "output_type": "execute_result"
    }
   ],
   "source": [
    "from pivottablejs import pivot_ui\n",
    "\n",
    "pivot_ui(data2betested)"
   ]
  },
  {
   "cell_type": "markdown",
   "metadata": {},
   "source": [
    "Liniendiagramm \n",
    "[Link zur Doku](https://altair-viz.github.io/gallery/multiline_highlight.html)"
   ]
  },
  {
   "cell_type": "code",
   "execution_count": 26,
   "metadata": {},
   "outputs": [
    {
     "data": {
      "text/html": [
       "<div>\n",
       "<style scoped>\n",
       "    .dataframe tbody tr th:only-of-type {\n",
       "        vertical-align: middle;\n",
       "    }\n",
       "\n",
       "    .dataframe tbody tr th {\n",
       "        vertical-align: top;\n",
       "    }\n",
       "\n",
       "    .dataframe thead th {\n",
       "        text-align: right;\n",
       "    }\n",
       "</style>\n",
       "<table border=\"1\" class=\"dataframe\">\n",
       "  <thead>\n",
       "    <tr style=\"text-align: right;\">\n",
       "      <th></th>\n",
       "      <th>RaumKategorie</th>\n",
       "      <th>RaumSort</th>\n",
       "      <th>RaumLang</th>\n",
       "      <th>StichtagDatJahr</th>\n",
       "      <th>AnzBestWir</th>\n",
       "      <th>FlaecheT</th>\n",
       "      <th>FlaecheL</th>\n",
       "      <th>FlaecheS</th>\n",
       "      <th>DichteT</th>\n",
       "      <th>DichteL</th>\n",
       "      <th>DichteS</th>\n",
       "    </tr>\n",
       "  </thead>\n",
       "  <tbody>\n",
       "    <tr>\n",
       "      <th>159</th>\n",
       "      <td>Stadtquartier</td>\n",
       "      <td>11</td>\n",
       "      <td>Rathaus</td>\n",
       "      <td>2012-01-01</td>\n",
       "      <td>3164</td>\n",
       "      <td>36</td>\n",
       "      <td>28</td>\n",
       "      <td>18</td>\n",
       "      <td>89</td>\n",
       "      <td>115</td>\n",
       "      <td>177</td>\n",
       "    </tr>\n",
       "    <tr>\n",
       "      <th>160</th>\n",
       "      <td>Stadtquartier</td>\n",
       "      <td>11</td>\n",
       "      <td>Rathaus</td>\n",
       "      <td>2013-01-01</td>\n",
       "      <td>3194</td>\n",
       "      <td>36</td>\n",
       "      <td>28</td>\n",
       "      <td>18</td>\n",
       "      <td>89</td>\n",
       "      <td>116</td>\n",
       "      <td>179</td>\n",
       "    </tr>\n",
       "    <tr>\n",
       "      <th>161</th>\n",
       "      <td>Stadtquartier</td>\n",
       "      <td>11</td>\n",
       "      <td>Rathaus</td>\n",
       "      <td>2014-01-01</td>\n",
       "      <td>3236</td>\n",
       "      <td>36</td>\n",
       "      <td>28</td>\n",
       "      <td>18</td>\n",
       "      <td>91</td>\n",
       "      <td>118</td>\n",
       "      <td>181</td>\n",
       "    </tr>\n",
       "    <tr>\n",
       "      <th>162</th>\n",
       "      <td>Stadtquartier</td>\n",
       "      <td>11</td>\n",
       "      <td>Rathaus</td>\n",
       "      <td>2015-01-01</td>\n",
       "      <td>3197</td>\n",
       "      <td>36</td>\n",
       "      <td>27</td>\n",
       "      <td>18</td>\n",
       "      <td>90</td>\n",
       "      <td>116</td>\n",
       "      <td>179</td>\n",
       "    </tr>\n",
       "    <tr>\n",
       "      <th>163</th>\n",
       "      <td>Stadtquartier</td>\n",
       "      <td>11</td>\n",
       "      <td>Rathaus</td>\n",
       "      <td>2016-01-01</td>\n",
       "      <td>3226</td>\n",
       "      <td>36</td>\n",
       "      <td>27</td>\n",
       "      <td>18</td>\n",
       "      <td>90</td>\n",
       "      <td>118</td>\n",
       "      <td>181</td>\n",
       "    </tr>\n",
       "  </tbody>\n",
       "</table>\n",
       "</div>"
      ],
      "text/plain": [
       "     RaumKategorie  RaumSort RaumLang StichtagDatJahr  AnzBestWir  FlaecheT  FlaecheL  FlaecheS  \\\n",
       "159  Stadtquartier        11  Rathaus      2012-01-01        3164        36        28        18   \n",
       "160  Stadtquartier        11  Rathaus      2013-01-01        3194        36        28        18   \n",
       "161  Stadtquartier        11  Rathaus      2014-01-01        3236        36        28        18   \n",
       "162  Stadtquartier        11  Rathaus      2015-01-01        3197        36        27        18   \n",
       "163  Stadtquartier        11  Rathaus      2016-01-01        3226        36        27        18   \n",
       "\n",
       "     DichteT  DichteL  DichteS  \n",
       "159       89      115      177  \n",
       "160       89      116      179  \n",
       "161       91      118      181  \n",
       "162       90      116      179  \n",
       "163       90      118      181  "
      ]
     },
     "execution_count": 26,
     "metadata": {},
     "output_type": "execute_result"
    }
   ],
   "source": [
    "mySelection = data2betested[(data2betested.StichtagDatJahr>\"2011-01-01\") & (data2betested.RaumKategorie=='Stadtquartier') & (data2betested.RaumSort<70)]\n",
    "\n",
    "mySelection.head()\n",
    "\n"
   ]
  },
  {
   "cell_type": "code",
   "execution_count": 27,
   "metadata": {},
   "outputs": [],
   "source": [
    "#mySelection = aktuellesJahr[[\"StatZoneSort\",\"AnzBestWir\"]]\n",
    "#mySelection"
   ]
  },
  {
   "cell_type": "code",
   "execution_count": 28,
   "metadata": {},
   "outputs": [
    {
     "data": {
      "text/html": [
       "\n",
       "<div id=\"altair-viz-2bedb8aec1fc4e668ca14ac8cbe3af8f\"></div>\n",
       "<script type=\"text/javascript\">\n",
       "  (function(spec, embedOpt){\n",
       "    let outputDiv = document.currentScript.previousElementSibling;\n",
       "    if (outputDiv.id !== \"altair-viz-2bedb8aec1fc4e668ca14ac8cbe3af8f\") {\n",
       "      outputDiv = document.getElementById(\"altair-viz-2bedb8aec1fc4e668ca14ac8cbe3af8f\");\n",
       "    }\n",
       "    const paths = {\n",
       "      \"vega\": \"https://cdn.jsdelivr.net/npm//vega@5?noext\",\n",
       "      \"vega-lib\": \"https://cdn.jsdelivr.net/npm//vega-lib?noext\",\n",
       "      \"vega-lite\": \"https://cdn.jsdelivr.net/npm//vega-lite@4.8.1?noext\",\n",
       "      \"vega-embed\": \"https://cdn.jsdelivr.net/npm//vega-embed@6?noext\",\n",
       "    };\n",
       "\n",
       "    function loadScript(lib) {\n",
       "      return new Promise(function(resolve, reject) {\n",
       "        var s = document.createElement('script');\n",
       "        s.src = paths[lib];\n",
       "        s.async = true;\n",
       "        s.onload = () => resolve(paths[lib]);\n",
       "        s.onerror = () => reject(`Error loading script: ${paths[lib]}`);\n",
       "        document.getElementsByTagName(\"head\")[0].appendChild(s);\n",
       "      });\n",
       "    }\n",
       "\n",
       "    function showError(err) {\n",
       "      outputDiv.innerHTML = `<div class=\"error\" style=\"color:red;\">${err}</div>`;\n",
       "      throw err;\n",
       "    }\n",
       "\n",
       "    function displayChart(vegaEmbed) {\n",
       "      vegaEmbed(outputDiv, spec, embedOpt)\n",
       "        .catch(err => showError(`Javascript Error: ${err.message}<br>This usually means there's a typo in your chart specification. See the javascript console for the full traceback.`));\n",
       "    }\n",
       "\n",
       "    if(typeof define === \"function\" && define.amd) {\n",
       "      requirejs.config({paths});\n",
       "      require([\"vega-embed\"], displayChart, err => showError(`Error loading script: ${err.message}`));\n",
       "    } else if (typeof vegaEmbed === \"function\") {\n",
       "      displayChart(vegaEmbed);\n",
       "    } else {\n",
       "      loadScript(\"vega\")\n",
       "        .then(() => loadScript(\"vega-lite\"))\n",
       "        .then(() => loadScript(\"vega-embed\"))\n",
       "        .catch(showError)\n",
       "        .then(() => displayChart(vegaEmbed));\n",
       "    }\n",
       "  })({\"config\": {\"view\": {\"continuousWidth\": 400, \"continuousHeight\": 300}}, \"layer\": [{\"mark\": \"circle\", \"encoding\": {\"color\": {\"type\": \"nominal\", \"field\": \"RaumLang\"}, \"opacity\": {\"value\": 0}, \"x\": {\"type\": \"nominal\", \"field\": \"StichtagDatJahr\"}, \"y\": {\"type\": \"quantitative\", \"field\": \"DichteS\"}}, \"height\": 300, \"selection\": {\"selector005\": {\"type\": \"single\", \"on\": \"mouseover\", \"fields\": [\"RaumLang\"], \"nearest\": true}}, \"width\": 700}, {\"mark\": \"line\", \"encoding\": {\"color\": {\"type\": \"nominal\", \"field\": \"RaumLang\"}, \"size\": {\"condition\": {\"value\": 1.5, \"selection\": {\"not\": \"selector005\"}}, \"value\": 4}, \"x\": {\"type\": \"nominal\", \"field\": \"StichtagDatJahr\"}, \"y\": {\"type\": \"quantitative\", \"field\": \"DichteS\"}}, \"selection\": {\"selector006\": {\"type\": \"interval\", \"bind\": \"scales\", \"encodings\": [\"x\", \"y\"]}}}], \"data\": {\"name\": \"data-635ee804f782f0bef05b2b2b274ae510\"}, \"$schema\": \"https://vega.github.io/schema/vega-lite/v4.8.1.json\", \"datasets\": {\"data-635ee804f782f0bef05b2b2b274ae510\": [{\"RaumKategorie\": \"Stadtquartier\", \"RaumSort\": 11, \"RaumLang\": \"Rathaus\", \"StichtagDatJahr\": \"2012-01-01T00:00:00\", \"AnzBestWir\": 3164, \"FlaecheT\": 35.7, \"FlaecheL\": 27.5, \"FlaecheS\": 17.8, \"DichteT\": 88.6, \"DichteL\": 115.1, \"DichteS\": 177.3}, {\"RaumKategorie\": \"Stadtquartier\", \"RaumSort\": 11, \"RaumLang\": \"Rathaus\", \"StichtagDatJahr\": \"2013-01-01T00:00:00\", \"AnzBestWir\": 3194, \"FlaecheT\": 35.7, \"FlaecheL\": 27.5, \"FlaecheS\": 17.8, \"DichteT\": 89.4, \"DichteL\": 116.2, \"DichteS\": 179.0}, {\"RaumKategorie\": \"Stadtquartier\", \"RaumSort\": 11, \"RaumLang\": \"Rathaus\", \"StichtagDatJahr\": \"2014-01-01T00:00:00\", \"AnzBestWir\": 3236, \"FlaecheT\": 35.7, \"FlaecheL\": 27.5, \"FlaecheS\": 17.8, \"DichteT\": 90.6, \"DichteL\": 117.8, \"DichteS\": 181.4}, {\"RaumKategorie\": \"Stadtquartier\", \"RaumSort\": 11, \"RaumLang\": \"Rathaus\", \"StichtagDatJahr\": \"2015-01-01T00:00:00\", \"AnzBestWir\": 3197, \"FlaecheT\": 35.7, \"FlaecheL\": 27.4, \"FlaecheS\": 17.8, \"DichteT\": 89.5, \"DichteL\": 116.5, \"DichteS\": 179.2}, {\"RaumKategorie\": \"Stadtquartier\", \"RaumSort\": 11, \"RaumLang\": \"Rathaus\", \"StichtagDatJahr\": \"2016-01-01T00:00:00\", \"AnzBestWir\": 3226, \"FlaecheT\": 35.7, \"FlaecheL\": 27.4, \"FlaecheS\": 17.8, \"DichteT\": 90.3, \"DichteL\": 117.6, \"DichteS\": 180.8}, {\"RaumKategorie\": \"Stadtquartier\", \"RaumSort\": 11, \"RaumLang\": \"Rathaus\", \"StichtagDatJahr\": \"2017-01-01T00:00:00\", \"AnzBestWir\": 3266, \"FlaecheT\": 35.7, \"FlaecheL\": 27.4, \"FlaecheS\": 18.0, \"DichteT\": 91.5, \"DichteL\": 119.0, \"DichteS\": 181.8}, {\"RaumKategorie\": \"Stadtquartier\", \"RaumSort\": 11, \"RaumLang\": \"Rathaus\", \"StichtagDatJahr\": \"2018-01-01T00:00:00\", \"AnzBestWir\": 3267, \"FlaecheT\": 35.7, \"FlaecheL\": 27.4, \"FlaecheS\": 18.0, \"DichteT\": 91.5, \"DichteL\": 119.0, \"DichteS\": 181.9}, {\"RaumKategorie\": \"Stadtquartier\", \"RaumSort\": 11, \"RaumLang\": \"Rathaus\", \"StichtagDatJahr\": \"2019-01-01T00:00:00\", \"AnzBestWir\": 3307, \"FlaecheT\": 35.7, \"FlaecheL\": 27.4, \"FlaecheS\": 18.0, \"DichteT\": 92.6, \"DichteL\": 120.5, \"DichteS\": 184.1}, {\"RaumKategorie\": \"Stadtquartier\", \"RaumSort\": 11, \"RaumLang\": \"Rathaus\", \"StichtagDatJahr\": \"2020-01-01T00:00:00\", \"AnzBestWir\": 3317, \"FlaecheT\": 35.7, \"FlaecheL\": 27.4, \"FlaecheS\": 18.0, \"DichteT\": 92.9, \"DichteL\": 120.9, \"DichteS\": 184.7}, {\"RaumKategorie\": \"Stadtquartier\", \"RaumSort\": 12, \"RaumLang\": \"Hochschulen\", \"StichtagDatJahr\": \"2012-01-01T00:00:00\", \"AnzBestWir\": 673, \"FlaecheT\": 58.1, \"FlaecheL\": 46.0, \"FlaecheS\": 27.3, \"DichteT\": 11.6, \"DichteL\": 14.6, \"DichteS\": 24.7}, {\"RaumKategorie\": \"Stadtquartier\", \"RaumSort\": 12, \"RaumLang\": \"Hochschulen\", \"StichtagDatJahr\": \"2013-01-01T00:00:00\", \"AnzBestWir\": 665, \"FlaecheT\": 58.1, \"FlaecheL\": 46.0, \"FlaecheS\": 27.3, \"DichteT\": 11.4, \"DichteL\": 14.5, \"DichteS\": 24.4}, {\"RaumKategorie\": \"Stadtquartier\", \"RaumSort\": 12, \"RaumLang\": \"Hochschulen\", \"StichtagDatJahr\": \"2014-01-01T00:00:00\", \"AnzBestWir\": 634, \"FlaecheT\": 58.1, \"FlaecheL\": 46.0, \"FlaecheS\": 27.5, \"DichteT\": 10.9, \"DichteL\": 13.8, \"DichteS\": 23.1}, {\"RaumKategorie\": \"Stadtquartier\", \"RaumSort\": 12, \"RaumLang\": \"Hochschulen\", \"StichtagDatJahr\": \"2015-01-01T00:00:00\", \"AnzBestWir\": 641, \"FlaecheT\": 58.1, \"FlaecheL\": 46.0, \"FlaecheS\": 27.5, \"DichteT\": 11.0, \"DichteL\": 13.9, \"DichteS\": 23.3}, {\"RaumKategorie\": \"Stadtquartier\", \"RaumSort\": 12, \"RaumLang\": \"Hochschulen\", \"StichtagDatJahr\": \"2016-01-01T00:00:00\", \"AnzBestWir\": 640, \"FlaecheT\": 58.1, \"FlaecheL\": 46.0, \"FlaecheS\": 25.9, \"DichteT\": 11.0, \"DichteL\": 13.9, \"DichteS\": 24.7}, {\"RaumKategorie\": \"Stadtquartier\", \"RaumSort\": 12, \"RaumLang\": \"Hochschulen\", \"StichtagDatJahr\": \"2017-01-01T00:00:00\", \"AnzBestWir\": 677, \"FlaecheT\": 58.1, \"FlaecheL\": 46.0, \"FlaecheS\": 26.0, \"DichteT\": 11.6, \"DichteL\": 14.7, \"DichteS\": 26.1}, {\"RaumKategorie\": \"Stadtquartier\", \"RaumSort\": 12, \"RaumLang\": \"Hochschulen\", \"StichtagDatJahr\": \"2018-01-01T00:00:00\", \"AnzBestWir\": 664, \"FlaecheT\": 58.1, \"FlaecheL\": 46.0, \"FlaecheS\": 26.0, \"DichteT\": 11.4, \"DichteL\": 14.4, \"DichteS\": 25.6}, {\"RaumKategorie\": \"Stadtquartier\", \"RaumSort\": 12, \"RaumLang\": \"Hochschulen\", \"StichtagDatJahr\": \"2019-01-01T00:00:00\", \"AnzBestWir\": 678, \"FlaecheT\": 58.1, \"FlaecheL\": 46.0, \"FlaecheS\": 26.0, \"DichteT\": 11.7, \"DichteL\": 14.8, \"DichteS\": 26.1}, {\"RaumKategorie\": \"Stadtquartier\", \"RaumSort\": 12, \"RaumLang\": \"Hochschulen\", \"StichtagDatJahr\": \"2020-01-01T00:00:00\", \"AnzBestWir\": 675, \"FlaecheT\": 58.1, \"FlaecheL\": 46.0, \"FlaecheS\": 26.0, \"DichteT\": 11.6, \"DichteL\": 14.7, \"DichteS\": 26.0}, {\"RaumKategorie\": \"Stadtquartier\", \"RaumSort\": 13, \"RaumLang\": \"Lindenhof\", \"StichtagDatJahr\": \"2012-01-01T00:00:00\", \"AnzBestWir\": 935, \"FlaecheT\": 26.5, \"FlaecheL\": 26.5, \"FlaecheS\": 14.5, \"DichteT\": 35.3, \"DichteL\": 35.3, \"DichteS\": 64.6}, {\"RaumKategorie\": \"Stadtquartier\", \"RaumSort\": 13, \"RaumLang\": \"Lindenhof\", \"StichtagDatJahr\": \"2013-01-01T00:00:00\", \"AnzBestWir\": 923, \"FlaecheT\": 26.5, \"FlaecheL\": 26.5, \"FlaecheS\": 14.5, \"DichteT\": 34.8, \"DichteL\": 34.8, \"DichteS\": 63.8}, {\"RaumKategorie\": \"Stadtquartier\", \"RaumSort\": 13, \"RaumLang\": \"Lindenhof\", \"StichtagDatJahr\": \"2014-01-01T00:00:00\", \"AnzBestWir\": 955, \"FlaecheT\": 26.7, \"FlaecheL\": 26.7, \"FlaecheS\": 14.3, \"DichteT\": 35.8, \"DichteL\": 35.8, \"DichteS\": 66.6}, {\"RaumKategorie\": \"Stadtquartier\", \"RaumSort\": 13, \"RaumLang\": \"Lindenhof\", \"StichtagDatJahr\": \"2015-01-01T00:00:00\", \"AnzBestWir\": 974, \"FlaecheT\": 26.7, \"FlaecheL\": 26.7, \"FlaecheS\": 13.7, \"DichteT\": 36.5, \"DichteL\": 36.5, \"DichteS\": 71.3}, {\"RaumKategorie\": \"Stadtquartier\", \"RaumSort\": 13, \"RaumLang\": \"Lindenhof\", \"StichtagDatJahr\": \"2016-01-01T00:00:00\", \"AnzBestWir\": 972, \"FlaecheT\": 26.7, \"FlaecheL\": 26.7, \"FlaecheS\": 13.1, \"DichteT\": 36.5, \"DichteL\": 36.5, \"DichteS\": 74.5}, {\"RaumKategorie\": \"Stadtquartier\", \"RaumSort\": 13, \"RaumLang\": \"Lindenhof\", \"StichtagDatJahr\": \"2017-01-01T00:00:00\", \"AnzBestWir\": 955, \"FlaecheT\": 26.7, \"FlaecheL\": 26.7, \"FlaecheS\": 13.1, \"DichteT\": 35.8, \"DichteL\": 35.8, \"DichteS\": 73.2}, {\"RaumKategorie\": \"Stadtquartier\", \"RaumSort\": 13, \"RaumLang\": \"Lindenhof\", \"StichtagDatJahr\": \"2018-01-01T00:00:00\", \"AnzBestWir\": 990, \"FlaecheT\": 26.7, \"FlaecheL\": 26.7, \"FlaecheS\": 13.1, \"DichteT\": 37.1, \"DichteL\": 37.1, \"DichteS\": 75.8}, {\"RaumKategorie\": \"Stadtquartier\", \"RaumSort\": 13, \"RaumLang\": \"Lindenhof\", \"StichtagDatJahr\": \"2019-01-01T00:00:00\", \"AnzBestWir\": 1009, \"FlaecheT\": 26.7, \"FlaecheL\": 26.7, \"FlaecheS\": 13.1, \"DichteT\": 37.9, \"DichteL\": 37.9, \"DichteS\": 77.3}, {\"RaumKategorie\": \"Stadtquartier\", \"RaumSort\": 13, \"RaumLang\": \"Lindenhof\", \"StichtagDatJahr\": \"2020-01-01T00:00:00\", \"AnzBestWir\": 1010, \"FlaecheT\": 26.7, \"FlaecheL\": 26.7, \"FlaecheS\": 13.1, \"DichteT\": 37.9, \"DichteL\": 37.9, \"DichteS\": 77.4}, {\"RaumKategorie\": \"Stadtquartier\", \"RaumSort\": 14, \"RaumLang\": \"City\", \"StichtagDatJahr\": \"2012-01-01T00:00:00\", \"AnzBestWir\": 799, \"FlaecheT\": 59.6, \"FlaecheL\": 55.5, \"FlaecheS\": 30.5, \"DichteT\": 13.4, \"DichteL\": 14.4, \"DichteS\": 26.2}, {\"RaumKategorie\": \"Stadtquartier\", \"RaumSort\": 14, \"RaumLang\": \"City\", \"StichtagDatJahr\": \"2013-01-01T00:00:00\", \"AnzBestWir\": 783, \"FlaecheT\": 59.6, \"FlaecheL\": 55.5, \"FlaecheS\": 30.6, \"DichteT\": 13.1, \"DichteL\": 14.1, \"DichteS\": 25.6}, {\"RaumKategorie\": \"Stadtquartier\", \"RaumSort\": 14, \"RaumLang\": \"City\", \"StichtagDatJahr\": \"2014-01-01T00:00:00\", \"AnzBestWir\": 791, \"FlaecheT\": 59.5, \"FlaecheL\": 55.3, \"FlaecheS\": 30.2, \"DichteT\": 13.3, \"DichteL\": 14.3, \"DichteS\": 26.2}, {\"RaumKategorie\": \"Stadtquartier\", \"RaumSort\": 14, \"RaumLang\": \"City\", \"StichtagDatJahr\": \"2015-01-01T00:00:00\", \"AnzBestWir\": 805, \"FlaecheT\": 59.5, \"FlaecheL\": 54.9, \"FlaecheS\": 30.3, \"DichteT\": 13.5, \"DichteL\": 14.7, \"DichteS\": 26.6}, {\"RaumKategorie\": \"Stadtquartier\", \"RaumSort\": 14, \"RaumLang\": \"City\", \"StichtagDatJahr\": \"2016-01-01T00:00:00\", \"AnzBestWir\": 810, \"FlaecheT\": 59.5, \"FlaecheL\": 54.9, \"FlaecheS\": 30.1, \"DichteT\": 13.6, \"DichteL\": 14.8, \"DichteS\": 26.9}, {\"RaumKategorie\": \"Stadtquartier\", \"RaumSort\": 14, \"RaumLang\": \"City\", \"StichtagDatJahr\": \"2017-01-01T00:00:00\", \"AnzBestWir\": 830, \"FlaecheT\": 59.5, \"FlaecheL\": 54.9, \"FlaecheS\": 30.0, \"DichteT\": 13.9, \"DichteL\": 15.1, \"DichteS\": 27.7}, {\"RaumKategorie\": \"Stadtquartier\", \"RaumSort\": 14, \"RaumLang\": \"City\", \"StichtagDatJahr\": \"2018-01-01T00:00:00\", \"AnzBestWir\": 829, \"FlaecheT\": 59.5, \"FlaecheL\": 54.9, \"FlaecheS\": 30.0, \"DichteT\": 13.9, \"DichteL\": 15.1, \"DichteS\": 27.6}, {\"RaumKategorie\": \"Stadtquartier\", \"RaumSort\": 14, \"RaumLang\": \"City\", \"StichtagDatJahr\": \"2019-01-01T00:00:00\", \"AnzBestWir\": 797, \"FlaecheT\": 59.5, \"FlaecheL\": 54.9, \"FlaecheS\": 30.0, \"DichteT\": 13.4, \"DichteL\": 14.5, \"DichteS\": 26.6}, {\"RaumKategorie\": \"Stadtquartier\", \"RaumSort\": 14, \"RaumLang\": \"City\", \"StichtagDatJahr\": \"2020-01-01T00:00:00\", \"AnzBestWir\": 829, \"FlaecheT\": 59.5, \"FlaecheL\": 54.9, \"FlaecheS\": 30.0, \"DichteT\": 13.9, \"DichteL\": 15.1, \"DichteS\": 27.6}, {\"RaumKategorie\": \"Stadtquartier\", \"RaumSort\": 21, \"RaumLang\": \"Wollishofen\", \"StichtagDatJahr\": \"2012-01-01T00:00:00\", \"AnzBestWir\": 16029, \"FlaecheT\": 573.6, \"FlaecheL\": 348.4, \"FlaecheS\": 198.3, \"DichteT\": 27.9, \"DichteL\": 46.0, \"DichteS\": 80.8}, {\"RaumKategorie\": \"Stadtquartier\", \"RaumSort\": 21, \"RaumLang\": \"Wollishofen\", \"StichtagDatJahr\": \"2013-01-01T00:00:00\", \"AnzBestWir\": 15937, \"FlaecheT\": 573.6, \"FlaecheL\": 348.4, \"FlaecheS\": 198.4, \"DichteT\": 27.8, \"DichteL\": 45.7, \"DichteS\": 80.3}, {\"RaumKategorie\": \"Stadtquartier\", \"RaumSort\": 21, \"RaumLang\": \"Wollishofen\", \"StichtagDatJahr\": \"2014-01-01T00:00:00\", \"AnzBestWir\": 16137, \"FlaecheT\": 573.6, \"FlaecheL\": 348.4, \"FlaecheS\": 198.5, \"DichteT\": 28.1, \"DichteL\": 46.3, \"DichteS\": 81.3}, {\"RaumKategorie\": \"Stadtquartier\", \"RaumSort\": 21, \"RaumLang\": \"Wollishofen\", \"StichtagDatJahr\": \"2015-01-01T00:00:00\", \"AnzBestWir\": 16244, \"FlaecheT\": 578.1, \"FlaecheL\": 352.3, \"FlaecheS\": 201.6, \"DichteT\": 28.1, \"DichteL\": 46.1, \"DichteS\": 80.6}, {\"RaumKategorie\": \"Stadtquartier\", \"RaumSort\": 21, \"RaumLang\": \"Wollishofen\", \"StichtagDatJahr\": \"2016-01-01T00:00:00\", \"AnzBestWir\": 16567, \"FlaecheT\": 578.1, \"FlaecheL\": 350.0, \"FlaecheS\": 201.2, \"DichteT\": 28.7, \"DichteL\": 47.3, \"DichteS\": 82.4}, {\"RaumKategorie\": \"Stadtquartier\", \"RaumSort\": 21, \"RaumLang\": \"Wollishofen\", \"StichtagDatJahr\": \"2017-01-01T00:00:00\", \"AnzBestWir\": 17892, \"FlaecheT\": 578.1, \"FlaecheL\": 349.9, \"FlaecheS\": 201.0, \"DichteT\": 31.0, \"DichteL\": 51.1, \"DichteS\": 89.0}, {\"RaumKategorie\": \"Stadtquartier\", \"RaumSort\": 21, \"RaumLang\": \"Wollishofen\", \"StichtagDatJahr\": \"2018-01-01T00:00:00\", \"AnzBestWir\": 18923, \"FlaecheT\": 578.1, \"FlaecheL\": 347.2, \"FlaecheS\": 200.2, \"DichteT\": 32.7, \"DichteL\": 54.5, \"DichteS\": 94.5}, {\"RaumKategorie\": \"Stadtquartier\", \"RaumSort\": 21, \"RaumLang\": \"Wollishofen\", \"StichtagDatJahr\": \"2019-01-01T00:00:00\", \"AnzBestWir\": 19225, \"FlaecheT\": 578.1, \"FlaecheL\": 347.2, \"FlaecheS\": 198.8, \"DichteT\": 33.3, \"DichteL\": 55.4, \"DichteS\": 96.7}, {\"RaumKategorie\": \"Stadtquartier\", \"RaumSort\": 21, \"RaumLang\": \"Wollishofen\", \"StichtagDatJahr\": \"2020-01-01T00:00:00\", \"AnzBestWir\": 19757, \"FlaecheT\": 578.1, \"FlaecheL\": 347.2, \"FlaecheS\": 197.3, \"DichteT\": 34.2, \"DichteL\": 56.9, \"DichteS\": 100.1}, {\"RaumKategorie\": \"Stadtquartier\", \"RaumSort\": 23, \"RaumLang\": \"Leimbach\", \"StichtagDatJahr\": \"2012-01-01T00:00:00\", \"AnzBestWir\": 5354, \"FlaecheT\": 292.0, \"FlaecheL\": 157.3, \"FlaecheS\": 57.2, \"DichteT\": 18.3, \"DichteL\": 34.0, \"DichteS\": 93.6}, {\"RaumKategorie\": \"Stadtquartier\", \"RaumSort\": 23, \"RaumLang\": \"Leimbach\", \"StichtagDatJahr\": \"2013-01-01T00:00:00\", \"AnzBestWir\": 5730, \"FlaecheT\": 292.0, \"FlaecheL\": 157.1, \"FlaecheS\": 57.2, \"DichteT\": 19.6, \"DichteL\": 36.5, \"DichteS\": 100.2}, {\"RaumKategorie\": \"Stadtquartier\", \"RaumSort\": 23, \"RaumLang\": \"Leimbach\", \"StichtagDatJahr\": \"2014-01-01T00:00:00\", \"AnzBestWir\": 5936, \"FlaecheT\": 292.0, \"FlaecheL\": 157.1, \"FlaecheS\": 57.3, \"DichteT\": 20.3, \"DichteL\": 37.8, \"DichteS\": 103.6}, {\"RaumKategorie\": \"Stadtquartier\", \"RaumSort\": 23, \"RaumLang\": \"Leimbach\", \"StichtagDatJahr\": \"2015-01-01T00:00:00\", \"AnzBestWir\": 6102, \"FlaecheT\": 292.0, \"FlaecheL\": 157.0, \"FlaecheS\": 57.6, \"DichteT\": 20.9, \"DichteL\": 38.9, \"DichteS\": 105.9}, {\"RaumKategorie\": \"Stadtquartier\", \"RaumSort\": 23, \"RaumLang\": \"Leimbach\", \"StichtagDatJahr\": \"2016-01-01T00:00:00\", \"AnzBestWir\": 6173, \"FlaecheT\": 292.0, \"FlaecheL\": 156.8, \"FlaecheS\": 58.3, \"DichteT\": 21.1, \"DichteL\": 39.4, \"DichteS\": 106.0}, {\"RaumKategorie\": \"Stadtquartier\", \"RaumSort\": 23, \"RaumLang\": \"Leimbach\", \"StichtagDatJahr\": \"2017-01-01T00:00:00\", \"AnzBestWir\": 6212, \"FlaecheT\": 292.0, \"FlaecheL\": 156.7, \"FlaecheS\": 57.9, \"DichteT\": 21.3, \"DichteL\": 39.7, \"DichteS\": 107.2}, {\"RaumKategorie\": \"Stadtquartier\", \"RaumSort\": 23, \"RaumLang\": \"Leimbach\", \"StichtagDatJahr\": \"2018-01-01T00:00:00\", \"AnzBestWir\": 6320, \"FlaecheT\": 292.0, \"FlaecheL\": 156.3, \"FlaecheS\": 57.7, \"DichteT\": 21.6, \"DichteL\": 40.4, \"DichteS\": 109.5}, {\"RaumKategorie\": \"Stadtquartier\", \"RaumSort\": 23, \"RaumLang\": \"Leimbach\", \"StichtagDatJahr\": \"2019-01-01T00:00:00\", \"AnzBestWir\": 6152, \"FlaecheT\": 292.0, \"FlaecheL\": 156.3, \"FlaecheS\": 57.7, \"DichteT\": 21.1, \"DichteL\": 39.3, \"DichteS\": 106.7}, {\"RaumKategorie\": \"Stadtquartier\", \"RaumSort\": 23, \"RaumLang\": \"Leimbach\", \"StichtagDatJahr\": \"2020-01-01T00:00:00\", \"AnzBestWir\": 6140, \"FlaecheT\": 292.0, \"FlaecheL\": 156.3, \"FlaecheS\": 57.7, \"DichteT\": 21.0, \"DichteL\": 39.3, \"DichteS\": 106.5}, {\"RaumKategorie\": \"Stadtquartier\", \"RaumSort\": 24, \"RaumLang\": \"Enge\", \"StichtagDatJahr\": \"2012-01-01T00:00:00\", \"AnzBestWir\": 8702, \"FlaecheT\": 240.9, \"FlaecheL\": 177.1, \"FlaecheS\": 107.8, \"DichteT\": 36.1, \"DichteL\": 49.1, \"DichteS\": 80.8}, {\"RaumKategorie\": \"Stadtquartier\", \"RaumSort\": 24, \"RaumLang\": \"Enge\", \"StichtagDatJahr\": \"2013-01-01T00:00:00\", \"AnzBestWir\": 8836, \"FlaecheT\": 240.9, \"FlaecheL\": 177.1, \"FlaecheS\": 107.4, \"DichteT\": 36.7, \"DichteL\": 49.9, \"DichteS\": 82.3}, {\"RaumKategorie\": \"Stadtquartier\", \"RaumSort\": 24, \"RaumLang\": \"Enge\", \"StichtagDatJahr\": \"2014-01-01T00:00:00\", \"AnzBestWir\": 9083, \"FlaecheT\": 240.9, \"FlaecheL\": 177.2, \"FlaecheS\": 107.4, \"DichteT\": 37.7, \"DichteL\": 51.3, \"DichteS\": 84.6}, {\"RaumKategorie\": \"Stadtquartier\", \"RaumSort\": 24, \"RaumLang\": \"Enge\", \"StichtagDatJahr\": \"2015-01-01T00:00:00\", \"AnzBestWir\": 9257, \"FlaecheT\": 236.5, \"FlaecheL\": 173.0, \"FlaecheS\": 105.0, \"DichteT\": 39.1, \"DichteL\": 53.5, \"DichteS\": 88.2}, {\"RaumKategorie\": \"Stadtquartier\", \"RaumSort\": 24, \"RaumLang\": \"Enge\", \"StichtagDatJahr\": \"2016-01-01T00:00:00\", \"AnzBestWir\": 9422, \"FlaecheT\": 236.5, \"FlaecheL\": 172.5, \"FlaecheS\": 101.7, \"DichteT\": 39.8, \"DichteL\": 54.6, \"DichteS\": 92.7}, {\"RaumKategorie\": \"Stadtquartier\", \"RaumSort\": 24, \"RaumLang\": \"Enge\", \"StichtagDatJahr\": \"2017-01-01T00:00:00\", \"AnzBestWir\": 9489, \"FlaecheT\": 236.5, \"FlaecheL\": 172.5, \"FlaecheS\": 101.7, \"DichteT\": 40.1, \"DichteL\": 55.0, \"DichteS\": 93.3}, {\"RaumKategorie\": \"Stadtquartier\", \"RaumSort\": 24, \"RaumLang\": \"Enge\", \"StichtagDatJahr\": \"2018-01-01T00:00:00\", \"AnzBestWir\": 9634, \"FlaecheT\": 236.5, \"FlaecheL\": 172.4, \"FlaecheS\": 101.5, \"DichteT\": 40.7, \"DichteL\": 55.9, \"DichteS\": 94.9}, {\"RaumKategorie\": \"Stadtquartier\", \"RaumSort\": 24, \"RaumLang\": \"Enge\", \"StichtagDatJahr\": \"2019-01-01T00:00:00\", \"AnzBestWir\": 9658, \"FlaecheT\": 236.5, \"FlaecheL\": 172.4, \"FlaecheS\": 101.5, \"DichteT\": 40.8, \"DichteL\": 56.0, \"DichteS\": 95.1}, {\"RaumKategorie\": \"Stadtquartier\", \"RaumSort\": 24, \"RaumLang\": \"Enge\", \"StichtagDatJahr\": \"2020-01-01T00:00:00\", \"AnzBestWir\": 9655, \"FlaecheT\": 236.5, \"FlaecheL\": 172.4, \"FlaecheS\": 101.5, \"DichteT\": 40.8, \"DichteL\": 56.0, \"DichteS\": 95.2}, {\"RaumKategorie\": \"Stadtquartier\", \"RaumSort\": 31, \"RaumLang\": \"Alt-Wiedikon\", \"StichtagDatJahr\": \"2012-01-01T00:00:00\", \"AnzBestWir\": 16109, \"FlaecheT\": 184.6, \"FlaecheL\": 177.9, \"FlaecheS\": 118.4, \"DichteT\": 87.3, \"DichteL\": 90.5, \"DichteS\": 136.1}, {\"RaumKategorie\": \"Stadtquartier\", \"RaumSort\": 31, \"RaumLang\": \"Alt-Wiedikon\", \"StichtagDatJahr\": \"2013-01-01T00:00:00\", \"AnzBestWir\": 16706, \"FlaecheT\": 183.6, \"FlaecheL\": 177.0, \"FlaecheS\": 118.4, \"DichteT\": 91.0, \"DichteL\": 94.4, \"DichteS\": 141.1}, {\"RaumKategorie\": \"Stadtquartier\", \"RaumSort\": 31, \"RaumLang\": \"Alt-Wiedikon\", \"StichtagDatJahr\": \"2014-01-01T00:00:00\", \"AnzBestWir\": 16918, \"FlaecheT\": 170.5, \"FlaecheL\": 163.9, \"FlaecheS\": 118.9, \"DichteT\": 99.2, \"DichteL\": 103.2, \"DichteS\": 142.3}, {\"RaumKategorie\": \"Stadtquartier\", \"RaumSort\": 31, \"RaumLang\": \"Alt-Wiedikon\", \"StichtagDatJahr\": \"2015-01-01T00:00:00\", \"AnzBestWir\": 17158, \"FlaecheT\": 169.2, \"FlaecheL\": 162.3, \"FlaecheS\": 120.5, \"DichteT\": 101.4, \"DichteL\": 105.7, \"DichteS\": 142.4}, {\"RaumKategorie\": \"Stadtquartier\", \"RaumSort\": 31, \"RaumLang\": \"Alt-Wiedikon\", \"StichtagDatJahr\": \"2016-01-01T00:00:00\", \"AnzBestWir\": 17321, \"FlaecheT\": 169.2, \"FlaecheL\": 161.9, \"FlaecheS\": 120.3, \"DichteT\": 102.3, \"DichteL\": 107.0, \"DichteS\": 143.9}, {\"RaumKategorie\": \"Stadtquartier\", \"RaumSort\": 31, \"RaumLang\": \"Alt-Wiedikon\", \"StichtagDatJahr\": \"2017-01-01T00:00:00\", \"AnzBestWir\": 17522, \"FlaecheT\": 169.2, \"FlaecheL\": 161.9, \"FlaecheS\": 121.4, \"DichteT\": 103.5, \"DichteL\": 108.2, \"DichteS\": 144.3}, {\"RaumKategorie\": \"Stadtquartier\", \"RaumSort\": 31, \"RaumLang\": \"Alt-Wiedikon\", \"StichtagDatJahr\": \"2018-01-01T00:00:00\", \"AnzBestWir\": 17956, \"FlaecheT\": 169.2, \"FlaecheL\": 161.7, \"FlaecheS\": 121.2, \"DichteT\": 106.1, \"DichteL\": 111.0, \"DichteS\": 148.1}, {\"RaumKategorie\": \"Stadtquartier\", \"RaumSort\": 31, \"RaumLang\": \"Alt-Wiedikon\", \"StichtagDatJahr\": \"2019-01-01T00:00:00\", \"AnzBestWir\": 17874, \"FlaecheT\": 169.3, \"FlaecheL\": 161.7, \"FlaecheS\": 121.1, \"DichteT\": 105.6, \"DichteL\": 110.5, \"DichteS\": 147.6}, {\"RaumKategorie\": \"Stadtquartier\", \"RaumSort\": 31, \"RaumLang\": \"Alt-Wiedikon\", \"StichtagDatJahr\": \"2020-01-01T00:00:00\", \"AnzBestWir\": 17764, \"FlaecheT\": 169.2, \"FlaecheL\": 161.7, \"FlaecheS\": 121.1, \"DichteT\": 105.0, \"DichteL\": 109.8, \"DichteS\": 146.7}, {\"RaumKategorie\": \"Stadtquartier\", \"RaumSort\": 33, \"RaumLang\": \"Friesenberg\", \"StichtagDatJahr\": \"2012-01-01T00:00:00\", \"AnzBestWir\": 10986, \"FlaecheT\": 516.7, \"FlaecheL\": 243.9, \"FlaecheS\": 124.9, \"DichteT\": 21.3, \"DichteL\": 45.0, \"DichteS\": 88.0}, {\"RaumKategorie\": \"Stadtquartier\", \"RaumSort\": 33, \"RaumLang\": \"Friesenberg\", \"StichtagDatJahr\": \"2013-01-01T00:00:00\", \"AnzBestWir\": 10696, \"FlaecheT\": 516.1, \"FlaecheL\": 242.4, \"FlaecheS\": 125.1, \"DichteT\": 20.7, \"DichteL\": 44.1, \"DichteS\": 85.5}, {\"RaumKategorie\": \"Stadtquartier\", \"RaumSort\": 33, \"RaumLang\": \"Friesenberg\", \"StichtagDatJahr\": \"2014-01-01T00:00:00\", \"AnzBestWir\": 10695, \"FlaecheT\": 529.7, \"FlaecheL\": 256.0, \"FlaecheS\": 125.7, \"DichteT\": 20.2, \"DichteL\": 41.8, \"DichteS\": 85.1}, {\"RaumKategorie\": \"Stadtquartier\", \"RaumSort\": 33, \"RaumLang\": \"Friesenberg\", \"StichtagDatJahr\": \"2015-01-01T00:00:00\", \"AnzBestWir\": 10698, \"FlaecheT\": 529.7, \"FlaecheL\": 255.9, \"FlaecheS\": 127.9, \"DichteT\": 20.2, \"DichteL\": 41.8, \"DichteS\": 83.6}, {\"RaumKategorie\": \"Stadtquartier\", \"RaumSort\": 33, \"RaumLang\": \"Friesenberg\", \"StichtagDatJahr\": \"2016-01-01T00:00:00\", \"AnzBestWir\": 11002, \"FlaecheT\": 529.7, \"FlaecheL\": 256.1, \"FlaecheS\": 128.4, \"DichteT\": 20.8, \"DichteL\": 43.0, \"DichteS\": 85.7}, {\"RaumKategorie\": \"Stadtquartier\", \"RaumSort\": 33, \"RaumLang\": \"Friesenberg\", \"StichtagDatJahr\": \"2017-01-01T00:00:00\", \"AnzBestWir\": 10860, \"FlaecheT\": 529.7, \"FlaecheL\": 256.7, \"FlaecheS\": 130.2, \"DichteT\": 20.5, \"DichteL\": 42.3, \"DichteS\": 83.4}, {\"RaumKategorie\": \"Stadtquartier\", \"RaumSort\": 33, \"RaumLang\": \"Friesenberg\", \"StichtagDatJahr\": \"2018-01-01T00:00:00\", \"AnzBestWir\": 10933, \"FlaecheT\": 529.7, \"FlaecheL\": 255.6, \"FlaecheS\": 131.9, \"DichteT\": 20.6, \"DichteL\": 42.8, \"DichteS\": 82.9}, {\"RaumKategorie\": \"Stadtquartier\", \"RaumSort\": 33, \"RaumLang\": \"Friesenberg\", \"StichtagDatJahr\": \"2019-01-01T00:00:00\", \"AnzBestWir\": 11107, \"FlaecheT\": 529.7, \"FlaecheL\": 255.7, \"FlaecheS\": 131.8, \"DichteT\": 21.0, \"DichteL\": 43.4, \"DichteS\": 84.3}, {\"RaumKategorie\": \"Stadtquartier\", \"RaumSort\": 33, \"RaumLang\": \"Friesenberg\", \"StichtagDatJahr\": \"2020-01-01T00:00:00\", \"AnzBestWir\": 11071, \"FlaecheT\": 529.7, \"FlaecheL\": 255.7, \"FlaecheS\": 131.5, \"DichteT\": 20.9, \"DichteL\": 43.3, \"DichteS\": 84.2}, {\"RaumKategorie\": \"Stadtquartier\", \"RaumSort\": 34, \"RaumLang\": \"Sihlfeld\", \"StichtagDatJahr\": \"2012-01-01T00:00:00\", \"AnzBestWir\": 20831, \"FlaecheT\": 163.8, \"FlaecheL\": 163.0, \"FlaecheS\": 95.7, \"DichteT\": 127.1, \"DichteL\": 127.8, \"DichteS\": 217.8}, {\"RaumKategorie\": \"Stadtquartier\", \"RaumSort\": 34, \"RaumLang\": \"Sihlfeld\", \"StichtagDatJahr\": \"2013-01-01T00:00:00\", \"AnzBestWir\": 20931, \"FlaecheT\": 165.3, \"FlaecheL\": 164.5, \"FlaecheS\": 95.8, \"DichteT\": 126.6, \"DichteL\": 127.3, \"DichteS\": 218.6}, {\"RaumKategorie\": \"Stadtquartier\", \"RaumSort\": 34, \"RaumLang\": \"Sihlfeld\", \"StichtagDatJahr\": \"2014-01-01T00:00:00\", \"AnzBestWir\": 21195, \"FlaecheT\": 164.8, \"FlaecheL\": 164.0, \"FlaecheS\": 95.8, \"DichteT\": 128.6, \"DichteL\": 129.3, \"DichteS\": 221.3}, {\"RaumKategorie\": \"Stadtquartier\", \"RaumSort\": 34, \"RaumLang\": \"Sihlfeld\", \"StichtagDatJahr\": \"2015-01-01T00:00:00\", \"AnzBestWir\": 21339, \"FlaecheT\": 166.1, \"FlaecheL\": 165.3, \"FlaecheS\": 96.5, \"DichteT\": 128.5, \"DichteL\": 129.1, \"DichteS\": 221.0}, {\"RaumKategorie\": \"Stadtquartier\", \"RaumSort\": 34, \"RaumLang\": \"Sihlfeld\", \"StichtagDatJahr\": \"2016-01-01T00:00:00\", \"AnzBestWir\": 21177, \"FlaecheT\": 166.1, \"FlaecheL\": 165.3, \"FlaecheS\": 95.8, \"DichteT\": 127.5, \"DichteL\": 128.1, \"DichteS\": 221.1}, {\"RaumKategorie\": \"Stadtquartier\", \"RaumSort\": 34, \"RaumLang\": \"Sihlfeld\", \"StichtagDatJahr\": \"2017-01-01T00:00:00\", \"AnzBestWir\": 21660, \"FlaecheT\": 166.1, \"FlaecheL\": 165.3, \"FlaecheS\": 96.9, \"DichteT\": 130.4, \"DichteL\": 131.0, \"DichteS\": 223.5}, {\"RaumKategorie\": \"Stadtquartier\", \"RaumSort\": 34, \"RaumLang\": \"Sihlfeld\", \"StichtagDatJahr\": \"2018-01-01T00:00:00\", \"AnzBestWir\": 21680, \"FlaecheT\": 166.1, \"FlaecheL\": 165.4, \"FlaecheS\": 96.9, \"DichteT\": 130.5, \"DichteL\": 131.1, \"DichteS\": 223.8}, {\"RaumKategorie\": \"Stadtquartier\", \"RaumSort\": 34, \"RaumLang\": \"Sihlfeld\", \"StichtagDatJahr\": \"2019-01-01T00:00:00\", \"AnzBestWir\": 22141, \"FlaecheT\": 166.1, \"FlaecheL\": 165.4, \"FlaecheS\": 96.3, \"DichteT\": 133.3, \"DichteL\": 133.9, \"DichteS\": 229.9}, {\"RaumKategorie\": \"Stadtquartier\", \"RaumSort\": 34, \"RaumLang\": \"Sihlfeld\", \"StichtagDatJahr\": \"2020-01-01T00:00:00\", \"AnzBestWir\": 21921, \"FlaecheT\": 166.1, \"FlaecheL\": 165.4, \"FlaecheS\": 96.3, \"DichteT\": 132.0, \"DichteL\": 132.6, \"DichteS\": 227.7}, {\"RaumKategorie\": \"Stadtquartier\", \"RaumSort\": 41, \"RaumLang\": \"Werd\", \"StichtagDatJahr\": \"2012-01-01T00:00:00\", \"AnzBestWir\": 4195, \"FlaecheT\": 29.9, \"FlaecheL\": 28.5, \"FlaecheS\": 17.9, \"DichteT\": 140.3, \"DichteL\": 147.2, \"DichteS\": 234.2}, {\"RaumKategorie\": \"Stadtquartier\", \"RaumSort\": 41, \"RaumLang\": \"Werd\", \"StichtagDatJahr\": \"2013-01-01T00:00:00\", \"AnzBestWir\": 4188, \"FlaecheT\": 29.9, \"FlaecheL\": 28.5, \"FlaecheS\": 17.9, \"DichteT\": 140.1, \"DichteL\": 146.9, \"DichteS\": 233.8}, {\"RaumKategorie\": \"Stadtquartier\", \"RaumSort\": 41, \"RaumLang\": \"Werd\", \"StichtagDatJahr\": \"2014-01-01T00:00:00\", \"AnzBestWir\": 4428, \"FlaecheT\": 30.2, \"FlaecheL\": 28.5, \"FlaecheS\": 17.9, \"DichteT\": 146.4, \"DichteL\": 155.5, \"DichteS\": 247.8}, {\"RaumKategorie\": \"Stadtquartier\", \"RaumSort\": 41, \"RaumLang\": \"Werd\", \"StichtagDatJahr\": \"2015-01-01T00:00:00\", \"AnzBestWir\": 4460, \"FlaecheT\": 30.2, \"FlaecheL\": 28.3, \"FlaecheS\": 18.4, \"DichteT\": 147.5, \"DichteL\": 157.8, \"DichteS\": 242.2}, {\"RaumKategorie\": \"Stadtquartier\", \"RaumSort\": 41, \"RaumLang\": \"Werd\", \"StichtagDatJahr\": \"2016-01-01T00:00:00\", \"AnzBestWir\": 4594, \"FlaecheT\": 30.2, \"FlaecheL\": 28.3, \"FlaecheS\": 18.4, \"DichteT\": 151.9, \"DichteL\": 162.5, \"DichteS\": 250.1}, {\"RaumKategorie\": \"Stadtquartier\", \"RaumSort\": 41, \"RaumLang\": \"Werd\", \"StichtagDatJahr\": \"2017-01-01T00:00:00\", \"AnzBestWir\": 4574, \"FlaecheT\": 30.2, \"FlaecheL\": 28.3, \"FlaecheS\": 18.4, \"DichteT\": 151.3, \"DichteL\": 161.8, \"DichteS\": 249.0}, {\"RaumKategorie\": \"Stadtquartier\", \"RaumSort\": 41, \"RaumLang\": \"Werd\", \"StichtagDatJahr\": \"2018-01-01T00:00:00\", \"AnzBestWir\": 4455, \"FlaecheT\": 30.2, \"FlaecheL\": 28.3, \"FlaecheS\": 18.4, \"DichteT\": 147.3, \"DichteL\": 157.6, \"DichteS\": 242.7}, {\"RaumKategorie\": \"Stadtquartier\", \"RaumSort\": 41, \"RaumLang\": \"Werd\", \"StichtagDatJahr\": \"2019-01-01T00:00:00\", \"AnzBestWir\": 4455, \"FlaecheT\": 30.2, \"FlaecheL\": 28.3, \"FlaecheS\": 18.4, \"DichteT\": 147.3, \"DichteL\": 157.6, \"DichteS\": 242.6}, {\"RaumKategorie\": \"Stadtquartier\", \"RaumSort\": 41, \"RaumLang\": \"Werd\", \"StichtagDatJahr\": \"2020-01-01T00:00:00\", \"AnzBestWir\": 4570, \"FlaecheT\": 30.2, \"FlaecheL\": 28.3, \"FlaecheS\": 18.5, \"DichteT\": 151.1, \"DichteL\": 161.7, \"DichteS\": 247.2}, {\"RaumKategorie\": \"Stadtquartier\", \"RaumSort\": 42, \"RaumLang\": \"Langstrasse\", \"StichtagDatJahr\": \"2012-01-01T00:00:00\", \"AnzBestWir\": 10560, \"FlaecheT\": 113.8, \"FlaecheL\": 111.3, \"FlaecheS\": 55.1, \"DichteT\": 92.8, \"DichteL\": 94.9, \"DichteS\": 191.6}, {\"RaumKategorie\": \"Stadtquartier\", \"RaumSort\": 42, \"RaumLang\": \"Langstrasse\", \"StichtagDatJahr\": \"2013-01-01T00:00:00\", \"AnzBestWir\": 10686, \"FlaecheT\": 113.8, \"FlaecheL\": 111.3, \"FlaecheS\": 55.1, \"DichteT\": 93.9, \"DichteL\": 96.0, \"DichteS\": 193.9}, {\"RaumKategorie\": \"Stadtquartier\", \"RaumSort\": 42, \"RaumLang\": \"Langstrasse\", \"StichtagDatJahr\": \"2014-01-01T00:00:00\", \"AnzBestWir\": 10985, \"FlaecheT\": 113.4, \"FlaecheL\": 111.3, \"FlaecheS\": 54.1, \"DichteT\": 96.8, \"DichteL\": 98.7, \"DichteS\": 203.0}, {\"RaumKategorie\": \"Stadtquartier\", \"RaumSort\": 42, \"RaumLang\": \"Langstrasse\", \"StichtagDatJahr\": \"2015-01-01T00:00:00\", \"AnzBestWir\": 11169, \"FlaecheT\": 121.5, \"FlaecheL\": 119.4, \"FlaecheS\": 56.1, \"DichteT\": 91.9, \"DichteL\": 93.5, \"DichteS\": 199.2}, {\"RaumKategorie\": \"Stadtquartier\", \"RaumSort\": 42, \"RaumLang\": \"Langstrasse\", \"StichtagDatJahr\": \"2016-01-01T00:00:00\", \"AnzBestWir\": 11145, \"FlaecheT\": 121.5, \"FlaecheL\": 119.4, \"FlaecheS\": 56.0, \"DichteT\": 91.7, \"DichteL\": 93.3, \"DichteS\": 199.1}, {\"RaumKategorie\": \"Stadtquartier\", \"RaumSort\": 42, \"RaumLang\": \"Langstrasse\", \"StichtagDatJahr\": \"2017-01-01T00:00:00\", \"AnzBestWir\": 11144, \"FlaecheT\": 121.2, \"FlaecheL\": 119.1, \"FlaecheS\": 56.3, \"DichteT\": 92.0, \"DichteL\": 93.6, \"DichteS\": 197.9}, {\"RaumKategorie\": \"Stadtquartier\", \"RaumSort\": 42, \"RaumLang\": \"Langstrasse\", \"StichtagDatJahr\": \"2018-01-01T00:00:00\", \"AnzBestWir\": 11111, \"FlaecheT\": 121.2, \"FlaecheL\": 119.1, \"FlaecheS\": 56.3, \"DichteT\": 91.7, \"DichteL\": 93.3, \"DichteS\": 197.3}, {\"RaumKategorie\": \"Stadtquartier\", \"RaumSort\": 42, \"RaumLang\": \"Langstrasse\", \"StichtagDatJahr\": \"2019-01-01T00:00:00\", \"AnzBestWir\": 11853, \"FlaecheT\": 121.2, \"FlaecheL\": 119.1, \"FlaecheS\": 56.3, \"DichteT\": 97.8, \"DichteL\": 99.6, \"DichteS\": 210.5}, {\"RaumKategorie\": \"Stadtquartier\", \"RaumSort\": 42, \"RaumLang\": \"Langstrasse\", \"StichtagDatJahr\": \"2020-01-01T00:00:00\", \"AnzBestWir\": 11910, \"FlaecheT\": 121.2, \"FlaecheL\": 119.1, \"FlaecheS\": 55.7, \"DichteT\": 98.3, \"DichteL\": 100.0, \"DichteS\": 213.9}, {\"RaumKategorie\": \"Stadtquartier\", \"RaumSort\": 44, \"RaumLang\": \"Hard\", \"StichtagDatJahr\": \"2012-01-01T00:00:00\", \"AnzBestWir\": 12994, \"FlaecheT\": 147.2, \"FlaecheL\": 147.2, \"FlaecheS\": 78.8, \"DichteT\": 88.2, \"DichteL\": 88.2, \"DichteS\": 164.9}, {\"RaumKategorie\": \"Stadtquartier\", \"RaumSort\": 44, \"RaumLang\": \"Hard\", \"StichtagDatJahr\": \"2013-01-01T00:00:00\", \"AnzBestWir\": 13241, \"FlaecheT\": 147.2, \"FlaecheL\": 147.2, \"FlaecheS\": 79.1, \"DichteT\": 89.9, \"DichteL\": 89.9, \"DichteS\": 167.4}, {\"RaumKategorie\": \"Stadtquartier\", \"RaumSort\": 44, \"RaumLang\": \"Hard\", \"StichtagDatJahr\": \"2014-01-01T00:00:00\", \"AnzBestWir\": 13232, \"FlaecheT\": 147.2, \"FlaecheL\": 147.2, \"FlaecheS\": 80.6, \"DichteT\": 89.9, \"DichteL\": 89.9, \"DichteS\": 164.2}, {\"RaumKategorie\": \"Stadtquartier\", \"RaumSort\": 44, \"RaumLang\": \"Hard\", \"StichtagDatJahr\": \"2015-01-01T00:00:00\", \"AnzBestWir\": 13072, \"FlaecheT\": 139.1, \"FlaecheL\": 139.1, \"FlaecheS\": 78.3, \"DichteT\": 93.9, \"DichteL\": 93.9, \"DichteS\": 167.0}, {\"RaumKategorie\": \"Stadtquartier\", \"RaumSort\": 44, \"RaumLang\": \"Hard\", \"StichtagDatJahr\": \"2016-01-01T00:00:00\", \"AnzBestWir\": 12891, \"FlaecheT\": 139.1, \"FlaecheL\": 139.1, \"FlaecheS\": 77.6, \"DichteT\": 92.6, \"DichteL\": 92.6, \"DichteS\": 166.1}, {\"RaumKategorie\": \"Stadtquartier\", \"RaumSort\": 44, \"RaumLang\": \"Hard\", \"StichtagDatJahr\": \"2017-01-01T00:00:00\", \"AnzBestWir\": 13057, \"FlaecheT\": 139.1, \"FlaecheL\": 139.1, \"FlaecheS\": 78.4, \"DichteT\": 93.8, \"DichteL\": 93.8, \"DichteS\": 166.5}, {\"RaumKategorie\": \"Stadtquartier\", \"RaumSort\": 44, \"RaumLang\": \"Hard\", \"StichtagDatJahr\": \"2018-01-01T00:00:00\", \"AnzBestWir\": 13163, \"FlaecheT\": 139.1, \"FlaecheL\": 139.1, \"FlaecheS\": 78.5, \"DichteT\": 94.6, \"DichteL\": 94.6, \"DichteS\": 167.7}, {\"RaumKategorie\": \"Stadtquartier\", \"RaumSort\": 44, \"RaumLang\": \"Hard\", \"StichtagDatJahr\": \"2019-01-01T00:00:00\", \"AnzBestWir\": 13060, \"FlaecheT\": 139.1, \"FlaecheL\": 139.1, \"FlaecheS\": 79.9, \"DichteT\": 93.9, \"DichteL\": 93.9, \"DichteS\": 163.4}, {\"RaumKategorie\": \"Stadtquartier\", \"RaumSort\": 44, \"RaumLang\": \"Hard\", \"StichtagDatJahr\": \"2020-01-01T00:00:00\", \"AnzBestWir\": 12554, \"FlaecheT\": 139.1, \"FlaecheL\": 139.1, \"FlaecheS\": 79.9, \"DichteT\": 90.2, \"DichteL\": 90.2, \"DichteS\": 157.1}, {\"RaumKategorie\": \"Stadtquartier\", \"RaumSort\": 51, \"RaumLang\": \"Gewerbeschule\", \"StichtagDatJahr\": \"2012-01-01T00:00:00\", \"AnzBestWir\": 9824, \"FlaecheT\": 73.9, \"FlaecheL\": 67.3, \"FlaecheS\": 42.8, \"DichteT\": 132.9, \"DichteL\": 146.0, \"DichteS\": 229.4}, {\"RaumKategorie\": \"Stadtquartier\", \"RaumSort\": 51, \"RaumLang\": \"Gewerbeschule\", \"StichtagDatJahr\": \"2013-01-01T00:00:00\", \"AnzBestWir\": 9626, \"FlaecheT\": 73.9, \"FlaecheL\": 67.3, \"FlaecheS\": 42.8, \"DichteT\": 130.2, \"DichteL\": 143.1, \"DichteS\": 225.1}, {\"RaumKategorie\": \"Stadtquartier\", \"RaumSort\": 51, \"RaumLang\": \"Gewerbeschule\", \"StichtagDatJahr\": \"2014-01-01T00:00:00\", \"AnzBestWir\": 9539, \"FlaecheT\": 72.7, \"FlaecheL\": 67.9, \"FlaecheS\": 43.0, \"DichteT\": 131.3, \"DichteL\": 140.5, \"DichteS\": 221.8}, {\"RaumKategorie\": \"Stadtquartier\", \"RaumSort\": 51, \"RaumLang\": \"Gewerbeschule\", \"StichtagDatJahr\": \"2015-01-01T00:00:00\", \"AnzBestWir\": 9608, \"FlaecheT\": 72.7, \"FlaecheL\": 67.8, \"FlaecheS\": 42.9, \"DichteT\": 132.2, \"DichteL\": 141.7, \"DichteS\": 224.2}, {\"RaumKategorie\": \"Stadtquartier\", \"RaumSort\": 51, \"RaumLang\": \"Gewerbeschule\", \"StichtagDatJahr\": \"2016-01-01T00:00:00\", \"AnzBestWir\": 9598, \"FlaecheT\": 72.7, \"FlaecheL\": 67.8, \"FlaecheS\": 42.9, \"DichteT\": 132.1, \"DichteL\": 141.6, \"DichteS\": 223.9}, {\"RaumKategorie\": \"Stadtquartier\", \"RaumSort\": 51, \"RaumLang\": \"Gewerbeschule\", \"StichtagDatJahr\": \"2017-01-01T00:00:00\", \"AnzBestWir\": 9578, \"FlaecheT\": 73.0, \"FlaecheL\": 68.2, \"FlaecheS\": 43.0, \"DichteT\": 131.2, \"DichteL\": 140.5, \"DichteS\": 222.5}, {\"RaumKategorie\": \"Stadtquartier\", \"RaumSort\": 51, \"RaumLang\": \"Gewerbeschule\", \"StichtagDatJahr\": \"2018-01-01T00:00:00\", \"AnzBestWir\": 9513, \"FlaecheT\": 73.0, \"FlaecheL\": 68.0, \"FlaecheS\": 43.0, \"DichteT\": 130.3, \"DichteL\": 139.9, \"DichteS\": 221.3}, {\"RaumKategorie\": \"Stadtquartier\", \"RaumSort\": 51, \"RaumLang\": \"Gewerbeschule\", \"StichtagDatJahr\": \"2019-01-01T00:00:00\", \"AnzBestWir\": 9562, \"FlaecheT\": 73.0, \"FlaecheL\": 68.0, \"FlaecheS\": 43.0, \"DichteT\": 130.9, \"DichteL\": 140.7, \"DichteS\": 222.4}, {\"RaumKategorie\": \"Stadtquartier\", \"RaumSort\": 51, \"RaumLang\": \"Gewerbeschule\", \"StichtagDatJahr\": \"2020-01-01T00:00:00\", \"AnzBestWir\": 9424, \"FlaecheT\": 73.0, \"FlaecheL\": 68.0, \"FlaecheS\": 42.8, \"DichteT\": 129.0, \"DichteL\": 138.6, \"DichteS\": 220.3}, {\"RaumKategorie\": \"Stadtquartier\", \"RaumSort\": 52, \"RaumLang\": \"Escher Wyss\", \"StichtagDatJahr\": \"2012-01-01T00:00:00\", \"AnzBestWir\": 3343, \"FlaecheT\": 125.4, \"FlaecheL\": 120.6, \"FlaecheS\": 89.8, \"DichteT\": 26.7, \"DichteL\": 27.7, \"DichteS\": 37.2}, {\"RaumKategorie\": \"Stadtquartier\", \"RaumSort\": 52, \"RaumLang\": \"Escher Wyss\", \"StichtagDatJahr\": \"2013-01-01T00:00:00\", \"AnzBestWir\": 4010, \"FlaecheT\": 125.4, \"FlaecheL\": 120.6, \"FlaecheS\": 89.8, \"DichteT\": 32.0, \"DichteL\": 33.2, \"DichteS\": 44.6}, {\"RaumKategorie\": \"Stadtquartier\", \"RaumSort\": 52, \"RaumLang\": \"Escher Wyss\", \"StichtagDatJahr\": \"2014-01-01T00:00:00\", \"AnzBestWir\": 4604, \"FlaecheT\": 126.6, \"FlaecheL\": 120.0, \"FlaecheS\": 89.7, \"DichteT\": 36.4, \"DichteL\": 38.4, \"DichteS\": 51.3}, {\"RaumKategorie\": \"Stadtquartier\", \"RaumSort\": 52, \"RaumLang\": \"Escher Wyss\", \"StichtagDatJahr\": \"2015-01-01T00:00:00\", \"AnzBestWir\": 5457, \"FlaecheT\": 126.6, \"FlaecheL\": 119.6, \"FlaecheS\": 89.6, \"DichteT\": 43.1, \"DichteL\": 45.6, \"DichteS\": 60.9}, {\"RaumKategorie\": \"Stadtquartier\", \"RaumSort\": 52, \"RaumLang\": \"Escher Wyss\", \"StichtagDatJahr\": \"2016-01-01T00:00:00\", \"AnzBestWir\": 5825, \"FlaecheT\": 126.6, \"FlaecheL\": 119.4, \"FlaecheS\": 89.5, \"DichteT\": 46.0, \"DichteL\": 48.8, \"DichteS\": 65.1}, {\"RaumKategorie\": \"Stadtquartier\", \"RaumSort\": 52, \"RaumLang\": \"Escher Wyss\", \"StichtagDatJahr\": \"2017-01-01T00:00:00\", \"AnzBestWir\": 6088, \"FlaecheT\": 126.6, \"FlaecheL\": 119.4, \"FlaecheS\": 89.6, \"DichteT\": 48.1, \"DichteL\": 51.0, \"DichteS\": 68.0}, {\"RaumKategorie\": \"Stadtquartier\", \"RaumSort\": 52, \"RaumLang\": \"Escher Wyss\", \"StichtagDatJahr\": \"2018-01-01T00:00:00\", \"AnzBestWir\": 6066, \"FlaecheT\": 126.6, \"FlaecheL\": 119.4, \"FlaecheS\": 87.1, \"DichteT\": 47.9, \"DichteL\": 50.8, \"DichteS\": 69.6}, {\"RaumKategorie\": \"Stadtquartier\", \"RaumSort\": 52, \"RaumLang\": \"Escher Wyss\", \"StichtagDatJahr\": \"2019-01-01T00:00:00\", \"AnzBestWir\": 6188, \"FlaecheT\": 126.6, \"FlaecheL\": 119.4, \"FlaecheS\": 86.9, \"DichteT\": 48.9, \"DichteL\": 51.8, \"DichteS\": 71.2}, {\"RaumKategorie\": \"Stadtquartier\", \"RaumSort\": 52, \"RaumLang\": \"Escher Wyss\", \"StichtagDatJahr\": \"2020-01-01T00:00:00\", \"AnzBestWir\": 6198, \"FlaecheT\": 126.6, \"FlaecheL\": 119.4, \"FlaecheS\": 85.9, \"DichteT\": 48.9, \"DichteL\": 51.9, \"DichteS\": 72.1}, {\"RaumKategorie\": \"Stadtquartier\", \"RaumSort\": 61, \"RaumLang\": \"Unterstrass\", \"StichtagDatJahr\": \"2012-01-01T00:00:00\", \"AnzBestWir\": 21442, \"FlaecheT\": 246.6, \"FlaecheL\": 242.1, \"FlaecheS\": 150.6, \"DichteT\": 86.9, \"DichteL\": 88.6, \"DichteS\": 142.4}, {\"RaumKategorie\": \"Stadtquartier\", \"RaumSort\": 61, \"RaumLang\": \"Unterstrass\", \"StichtagDatJahr\": \"2013-01-01T00:00:00\", \"AnzBestWir\": 21876, \"FlaecheT\": 246.6, \"FlaecheL\": 242.1, \"FlaecheS\": 152.4, \"DichteT\": 88.7, \"DichteL\": 90.3, \"DichteS\": 143.5}, {\"RaumKategorie\": \"Stadtquartier\", \"RaumSort\": 61, \"RaumLang\": \"Unterstrass\", \"StichtagDatJahr\": \"2014-01-01T00:00:00\", \"AnzBestWir\": 22126, \"FlaecheT\": 246.6, \"FlaecheL\": 242.1, \"FlaecheS\": 152.4, \"DichteT\": 89.7, \"DichteL\": 91.4, \"DichteS\": 145.2}, {\"RaumKategorie\": \"Stadtquartier\", \"RaumSort\": 61, \"RaumLang\": \"Unterstrass\", \"StichtagDatJahr\": \"2015-01-01T00:00:00\", \"AnzBestWir\": 22226, \"FlaecheT\": 246.6, \"FlaecheL\": 241.5, \"FlaecheS\": 152.2, \"DichteT\": 90.1, \"DichteL\": 92.0, \"DichteS\": 146.0}, {\"RaumKategorie\": \"Stadtquartier\", \"RaumSort\": 61, \"RaumLang\": \"Unterstrass\", \"StichtagDatJahr\": \"2016-01-01T00:00:00\", \"AnzBestWir\": 22476, \"FlaecheT\": 246.6, \"FlaecheL\": 241.3, \"FlaecheS\": 153.3, \"DichteT\": 91.1, \"DichteL\": 93.1, \"DichteS\": 146.6}, {\"RaumKategorie\": \"Stadtquartier\", \"RaumSort\": 61, \"RaumLang\": \"Unterstrass\", \"StichtagDatJahr\": \"2017-01-01T00:00:00\", \"AnzBestWir\": 22768, \"FlaecheT\": 246.6, \"FlaecheL\": 241.3, \"FlaecheS\": 153.3, \"DichteT\": 92.3, \"DichteL\": 94.3, \"DichteS\": 148.5}, {\"RaumKategorie\": \"Stadtquartier\", \"RaumSort\": 61, \"RaumLang\": \"Unterstrass\", \"StichtagDatJahr\": \"2018-01-01T00:00:00\", \"AnzBestWir\": 23394, \"FlaecheT\": 246.6, \"FlaecheL\": 241.3, \"FlaecheS\": 153.7, \"DichteT\": 94.9, \"DichteL\": 96.9, \"DichteS\": 152.2}, {\"RaumKategorie\": \"Stadtquartier\", \"RaumSort\": 61, \"RaumLang\": \"Unterstrass\", \"StichtagDatJahr\": \"2019-01-01T00:00:00\", \"AnzBestWir\": 23971, \"FlaecheT\": 246.6, \"FlaecheL\": 241.3, \"FlaecheS\": 153.7, \"DichteT\": 97.2, \"DichteL\": 99.3, \"DichteS\": 155.9}, {\"RaumKategorie\": \"Stadtquartier\", \"RaumSort\": 61, \"RaumLang\": \"Unterstrass\", \"StichtagDatJahr\": \"2020-01-01T00:00:00\", \"AnzBestWir\": 24493, \"FlaecheT\": 246.6, \"FlaecheL\": 241.3, \"FlaecheS\": 153.6, \"DichteT\": 99.3, \"DichteL\": 101.5, \"DichteS\": 159.5}, {\"RaumKategorie\": \"Stadtquartier\", \"RaumSort\": 63, \"RaumLang\": \"Oberstrass\", \"StichtagDatJahr\": \"2012-01-01T00:00:00\", \"AnzBestWir\": 10308, \"FlaecheT\": 263.5, \"FlaecheL\": 161.7, \"FlaecheS\": 113.7, \"DichteT\": 39.1, \"DichteL\": 63.7, \"DichteS\": 90.7}, {\"RaumKategorie\": \"Stadtquartier\", \"RaumSort\": 63, \"RaumLang\": \"Oberstrass\", \"StichtagDatJahr\": \"2013-01-01T00:00:00\", \"AnzBestWir\": 10452, \"FlaecheT\": 263.5, \"FlaecheL\": 161.7, \"FlaecheS\": 113.7, \"DichteT\": 39.7, \"DichteL\": 64.6, \"DichteS\": 91.9}, {\"RaumKategorie\": \"Stadtquartier\", \"RaumSort\": 63, \"RaumLang\": \"Oberstrass\", \"StichtagDatJahr\": \"2014-01-01T00:00:00\", \"AnzBestWir\": 10556, \"FlaecheT\": 263.5, \"FlaecheL\": 161.8, \"FlaecheS\": 113.7, \"DichteT\": 40.1, \"DichteL\": 65.3, \"DichteS\": 92.8}, {\"RaumKategorie\": \"Stadtquartier\", \"RaumSort\": 63, \"RaumLang\": \"Oberstrass\", \"StichtagDatJahr\": \"2015-01-01T00:00:00\", \"AnzBestWir\": 10641, \"FlaecheT\": 263.5, \"FlaecheL\": 161.5, \"FlaecheS\": 113.7, \"DichteT\": 40.4, \"DichteL\": 65.9, \"DichteS\": 93.6}, {\"RaumKategorie\": \"Stadtquartier\", \"RaumSort\": 63, \"RaumLang\": \"Oberstrass\", \"StichtagDatJahr\": \"2016-01-01T00:00:00\", \"AnzBestWir\": 10794, \"FlaecheT\": 263.5, \"FlaecheL\": 161.6, \"FlaecheS\": 113.2, \"DichteT\": 41.0, \"DichteL\": 66.8, \"DichteS\": 95.3}, {\"RaumKategorie\": \"Stadtquartier\", \"RaumSort\": 63, \"RaumLang\": \"Oberstrass\", \"StichtagDatJahr\": \"2017-01-01T00:00:00\", \"AnzBestWir\": 10846, \"FlaecheT\": 263.5, \"FlaecheL\": 160.3, \"FlaecheS\": 113.5, \"DichteT\": 41.2, \"DichteL\": 67.6, \"DichteS\": 95.6}, {\"RaumKategorie\": \"Stadtquartier\", \"RaumSort\": 63, \"RaumLang\": \"Oberstrass\", \"StichtagDatJahr\": \"2018-01-01T00:00:00\", \"AnzBestWir\": 10927, \"FlaecheT\": 263.5, \"FlaecheL\": 160.5, \"FlaecheS\": 113.5, \"DichteT\": 41.5, \"DichteL\": 68.1, \"DichteS\": 96.3}, {\"RaumKategorie\": \"Stadtquartier\", \"RaumSort\": 63, \"RaumLang\": \"Oberstrass\", \"StichtagDatJahr\": \"2019-01-01T00:00:00\", \"AnzBestWir\": 10823, \"FlaecheT\": 263.5, \"FlaecheL\": 160.5, \"FlaecheS\": 112.5, \"DichteT\": 41.1, \"DichteL\": 67.4, \"DichteS\": 96.2}, {\"RaumKategorie\": \"Stadtquartier\", \"RaumSort\": 63, \"RaumLang\": \"Oberstrass\", \"StichtagDatJahr\": \"2020-01-01T00:00:00\", \"AnzBestWir\": 10824, \"FlaecheT\": 263.5, \"FlaecheL\": 160.5, \"FlaecheS\": 112.5, \"DichteT\": 41.1, \"DichteL\": 67.5, \"DichteS\": 96.2}]}}, {\"mode\": \"vega-lite\"});\n",
       "</script>"
      ],
      "text/plain": [
       "alt.LayerChart(...)"
      ]
     },
     "execution_count": 28,
     "metadata": {},
     "output_type": "execute_result"
    }
   ],
   "source": [
    "# df_statzonen = df_statzonen[(df_statzonen.knr>0) & (df_statzonen.qname!=\"Hirslanden\")]\n",
    "#aktuellesJahr[[aktuellesJahr.KreisSort =7]])\n",
    "highlight = alt.selection(type='single', on='mouseover',\n",
    "                          fields=['RaumLang'], nearest=True)\n",
    "#x='date:StichtagDatJahr',\n",
    "base = alt.Chart(mySelection).encode(\n",
    "    x='StichtagDatJahr:N',\n",
    "    y='DichteS',\n",
    "    color='RaumLang'\n",
    ")\n",
    "\n",
    "points = base.mark_circle().encode(\n",
    "    opacity=alt.value(0)\n",
    ").add_selection(\n",
    "    highlight\n",
    ").properties(\n",
    "    width=700 , height=300\n",
    ")\n",
    "lines = base.mark_line().encode(\n",
    "    size=alt.condition(~highlight, alt.value(1.5), alt.value(4))\n",
    ").interactive()\n",
    "\n",
    "points + lines"
   ]
  },
  {
   "cell_type": "code",
   "execution_count": 31,
   "metadata": {},
   "outputs": [
    {
     "data": {
      "text/html": [
       "\n",
       "<div id=\"altair-viz-36bfb1c27ea04f808aa10b48c840303f\"></div>\n",
       "<script type=\"text/javascript\">\n",
       "  (function(spec, embedOpt){\n",
       "    let outputDiv = document.currentScript.previousElementSibling;\n",
       "    if (outputDiv.id !== \"altair-viz-36bfb1c27ea04f808aa10b48c840303f\") {\n",
       "      outputDiv = document.getElementById(\"altair-viz-36bfb1c27ea04f808aa10b48c840303f\");\n",
       "    }\n",
       "    const paths = {\n",
       "      \"vega\": \"https://cdn.jsdelivr.net/npm//vega@5?noext\",\n",
       "      \"vega-lib\": \"https://cdn.jsdelivr.net/npm//vega-lib?noext\",\n",
       "      \"vega-lite\": \"https://cdn.jsdelivr.net/npm//vega-lite@4.8.1?noext\",\n",
       "      \"vega-embed\": \"https://cdn.jsdelivr.net/npm//vega-embed@6?noext\",\n",
       "    };\n",
       "\n",
       "    function loadScript(lib) {\n",
       "      return new Promise(function(resolve, reject) {\n",
       "        var s = document.createElement('script');\n",
       "        s.src = paths[lib];\n",
       "        s.async = true;\n",
       "        s.onload = () => resolve(paths[lib]);\n",
       "        s.onerror = () => reject(`Error loading script: ${paths[lib]}`);\n",
       "        document.getElementsByTagName(\"head\")[0].appendChild(s);\n",
       "      });\n",
       "    }\n",
       "\n",
       "    function showError(err) {\n",
       "      outputDiv.innerHTML = `<div class=\"error\" style=\"color:red;\">${err}</div>`;\n",
       "      throw err;\n",
       "    }\n",
       "\n",
       "    function displayChart(vegaEmbed) {\n",
       "      vegaEmbed(outputDiv, spec, embedOpt)\n",
       "        .catch(err => showError(`Javascript Error: ${err.message}<br>This usually means there's a typo in your chart specification. See the javascript console for the full traceback.`));\n",
       "    }\n",
       "\n",
       "    if(typeof define === \"function\" && define.amd) {\n",
       "      requirejs.config({paths});\n",
       "      require([\"vega-embed\"], displayChart, err => showError(`Error loading script: ${err.message}`));\n",
       "    } else if (typeof vegaEmbed === \"function\") {\n",
       "      displayChart(vegaEmbed);\n",
       "    } else {\n",
       "      loadScript(\"vega\")\n",
       "        .then(() => loadScript(\"vega-lite\"))\n",
       "        .then(() => loadScript(\"vega-embed\"))\n",
       "        .catch(showError)\n",
       "        .then(() => displayChart(vegaEmbed));\n",
       "    }\n",
       "  })({\"config\": {\"view\": {\"continuousWidth\": 400, \"continuousHeight\": 300}}, \"data\": {\"name\": \"data-6b29435490a4a9d3cab560a38cb3b759\"}, \"mark\": {\"type\": \"circle\", \"size\": 60}, \"encoding\": {\"color\": {\"type\": \"quantitative\", \"field\": \"DichteS\", \"scale\": {\"scheme\": \"reds\"}}, \"tooltip\": [{\"type\": \"nominal\", \"field\": \"RaumLang\"}, {\"type\": \"temporal\", \"field\": \"StichtagDatJahr\"}, {\"type\": \"quantitative\", \"field\": \"DichteS\"}], \"x\": {\"type\": \"nominal\", \"field\": \"RaumLang\"}, \"y\": {\"type\": \"temporal\", \"field\": \"StichtagDatJahr\"}}, \"selection\": {\"selector009\": {\"type\": \"interval\", \"bind\": \"scales\", \"encodings\": [\"x\", \"y\"]}}, \"$schema\": \"https://vega.github.io/schema/vega-lite/v4.8.1.json\", \"datasets\": {\"data-6b29435490a4a9d3cab560a38cb3b759\": [{\"RaumKategorie\": \"Gesamte Stadt\", \"RaumSort\": 0, \"RaumLang\": \"Ganze Stadt\", \"StichtagDatJahr\": \"2009-01-01T00:00:00\", \"AnzBestWir\": 382906, \"FlaecheT\": 9188.1, \"FlaecheL\": 6526.2, \"FlaecheS\": 3759.6, \"DichteT\": 41.7, \"DichteL\": 58.7, \"DichteS\": 101.8}, {\"RaumKategorie\": \"Gesamte Stadt\", \"RaumSort\": 0, \"RaumLang\": \"Ganze Stadt\", \"StichtagDatJahr\": \"2010-01-01T00:00:00\", \"AnzBestWir\": 385468, \"FlaecheT\": 9188.1, \"FlaecheL\": 6522.4, \"FlaecheS\": 3756.2, \"DichteT\": 42.0, \"DichteL\": 59.1, \"DichteS\": 102.6}, {\"RaumKategorie\": \"Gesamte Stadt\", \"RaumSort\": 0, \"RaumLang\": \"Ganze Stadt\", \"StichtagDatJahr\": \"2011-01-01T00:00:00\", \"AnzBestWir\": 390082, \"FlaecheT\": 9188.1, \"FlaecheL\": 6521.9, \"FlaecheS\": 3759.6, \"DichteT\": 42.5, \"DichteL\": 59.8, \"DichteS\": 103.8}, {\"RaumKategorie\": \"Gesamte Stadt\", \"RaumSort\": 0, \"RaumLang\": \"Ganze Stadt\", \"StichtagDatJahr\": \"2012-01-01T00:00:00\", \"AnzBestWir\": 394012, \"FlaecheT\": 9188.1, \"FlaecheL\": 6523.5, \"FlaecheS\": 3770.1, \"DichteT\": 42.9, \"DichteL\": 60.4, \"DichteS\": 104.5}, {\"RaumKategorie\": \"Gesamte Stadt\", \"RaumSort\": 0, \"RaumLang\": \"Ganze Stadt\", \"StichtagDatJahr\": \"2013-01-01T00:00:00\", \"AnzBestWir\": 398575, \"FlaecheT\": 9188.1, \"FlaecheL\": 6521.5, \"FlaecheS\": 3770.7, \"DichteT\": 43.4, \"DichteL\": 61.1, \"DichteS\": 105.7}, {\"RaumKategorie\": \"Gesamte Stadt\", \"RaumSort\": 0, \"RaumLang\": \"Ganze Stadt\", \"StichtagDatJahr\": \"2014-01-01T00:00:00\", \"AnzBestWir\": 404783, \"FlaecheT\": 9188.1, \"FlaecheL\": 6521.9, \"FlaecheS\": 3776.7, \"DichteT\": 44.1, \"DichteL\": 62.1, \"DichteS\": 107.2}, {\"RaumKategorie\": \"Gesamte Stadt\", \"RaumSort\": 0, \"RaumLang\": \"Ganze Stadt\", \"StichtagDatJahr\": \"2015-01-01T00:00:00\", \"AnzBestWir\": 410404, \"FlaecheT\": 9188.1, \"FlaecheL\": 6513.9, \"FlaecheS\": 3783.7, \"DichteT\": 44.7, \"DichteL\": 63.0, \"DichteS\": 108.5}, {\"RaumKategorie\": \"Gesamte Stadt\", \"RaumSort\": 0, \"RaumLang\": \"Ganze Stadt\", \"StichtagDatJahr\": \"2016-01-01T00:00:00\", \"AnzBestWir\": 415682, \"FlaecheT\": 9188.1, \"FlaecheL\": 6499.6, \"FlaecheS\": 3799.1, \"DichteT\": 45.2, \"DichteL\": 64.0, \"DichteS\": 109.4}, {\"RaumKategorie\": \"Gesamte Stadt\", \"RaumSort\": 0, \"RaumLang\": \"Ganze Stadt\", \"StichtagDatJahr\": \"2017-01-01T00:00:00\", \"AnzBestWir\": 423310, \"FlaecheT\": 9188.1, \"FlaecheL\": 6490.8, \"FlaecheS\": 3804.9, \"DichteT\": 46.1, \"DichteL\": 65.2, \"DichteS\": 111.3}, {\"RaumKategorie\": \"Gesamte Stadt\", \"RaumSort\": 0, \"RaumLang\": \"Ganze Stadt\", \"StichtagDatJahr\": \"2018-01-01T00:00:00\", \"AnzBestWir\": 428737, \"FlaecheT\": 9188.1, \"FlaecheL\": 6491.9, \"FlaecheS\": 3812.1, \"DichteT\": 46.7, \"DichteL\": 66.0, \"DichteS\": 112.5}, {\"RaumKategorie\": \"Gesamte Stadt\", \"RaumSort\": 0, \"RaumLang\": \"Ganze Stadt\", \"StichtagDatJahr\": \"2019-01-01T00:00:00\", \"AnzBestWir\": 434008, \"FlaecheT\": 9189.1, \"FlaecheL\": 6493.0, \"FlaecheS\": 3806.7, \"DichteT\": 47.2, \"DichteL\": 66.8, \"DichteS\": 114.0}, {\"RaumKategorie\": \"Gesamte Stadt\", \"RaumSort\": 0, \"RaumLang\": \"Ganze Stadt\", \"StichtagDatJahr\": \"2020-01-01T00:00:00\", \"AnzBestWir\": 434736, \"FlaecheT\": 9188.1, \"FlaecheL\": 6492.6, \"FlaecheS\": 3802.7, \"DichteT\": 47.3, \"DichteL\": 67.0, \"DichteS\": 114.3}, {\"RaumKategorie\": \"Stadtkreis\", \"RaumSort\": 10, \"RaumLang\": \"Kreis 1\", \"StichtagDatJahr\": \"2009-01-01T00:00:00\", \"AnzBestWir\": 5576, \"FlaecheT\": 180.0, \"FlaecheL\": 155.8, \"FlaecheS\": 88.0, \"DichteT\": 31.0, \"DichteL\": 35.8, \"DichteS\": 63.4}, {\"RaumKategorie\": \"Stadtkreis\", \"RaumSort\": 10, \"RaumLang\": \"Kreis 1\", \"StichtagDatJahr\": \"2010-01-01T00:00:00\", \"AnzBestWir\": 5563, \"FlaecheT\": 180.0, \"FlaecheL\": 155.8, \"FlaecheS\": 88.6, \"DichteT\": 30.9, \"DichteL\": 35.7, \"DichteS\": 62.8}, {\"RaumKategorie\": \"Stadtkreis\", \"RaumSort\": 10, \"RaumLang\": \"Kreis 1\", \"StichtagDatJahr\": \"2011-01-01T00:00:00\", \"AnzBestWir\": 5550, \"FlaecheT\": 197.2, \"FlaecheL\": 171.3, \"FlaecheS\": 95.5, \"DichteT\": 28.1, \"DichteL\": 32.4, \"DichteS\": 58.1}, {\"RaumKategorie\": \"Stadtkreis\", \"RaumSort\": 10, \"RaumLang\": \"Kreis 1\", \"StichtagDatJahr\": \"2012-01-01T00:00:00\", \"AnzBestWir\": 5571, \"FlaecheT\": 180.0, \"FlaecheL\": 155.4, \"FlaecheS\": 90.1, \"DichteT\": 30.9, \"DichteL\": 35.8, \"DichteS\": 61.8}, {\"RaumKategorie\": \"Stadtkreis\", \"RaumSort\": 10, \"RaumLang\": \"Kreis 1\", \"StichtagDatJahr\": \"2013-01-01T00:00:00\", \"AnzBestWir\": 5565, \"FlaecheT\": 180.0, \"FlaecheL\": 155.4, \"FlaecheS\": 90.2, \"DichteT\": 30.9, \"DichteL\": 35.8, \"DichteS\": 61.7}, {\"RaumKategorie\": \"Stadtkreis\", \"RaumSort\": 10, \"RaumLang\": \"Kreis 1\", \"StichtagDatJahr\": \"2014-01-01T00:00:00\", \"AnzBestWir\": 5616, \"FlaecheT\": 180.0, \"FlaecheL\": 155.4, \"FlaecheS\": 89.9, \"DichteT\": 31.2, \"DichteL\": 36.1, \"DichteS\": 62.5}, {\"RaumKategorie\": \"Stadtkreis\", \"RaumSort\": 10, \"RaumLang\": \"Kreis 1\", \"StichtagDatJahr\": \"2015-01-01T00:00:00\", \"AnzBestWir\": 5617, \"FlaecheT\": 180.0, \"FlaecheL\": 154.9, \"FlaecheS\": 89.3, \"DichteT\": 31.2, \"DichteL\": 36.3, \"DichteS\": 62.9}, {\"RaumKategorie\": \"Stadtkreis\", \"RaumSort\": 10, \"RaumLang\": \"Kreis 1\", \"StichtagDatJahr\": \"2016-01-01T00:00:00\", \"AnzBestWir\": 5648, \"FlaecheT\": 180.0, \"FlaecheL\": 154.9, \"FlaecheS\": 86.9, \"DichteT\": 31.4, \"DichteL\": 36.5, \"DichteS\": 65.0}, {\"RaumKategorie\": \"Stadtkreis\", \"RaumSort\": 10, \"RaumLang\": \"Kreis 1\", \"StichtagDatJahr\": \"2017-01-01T00:00:00\", \"AnzBestWir\": 5728, \"FlaecheT\": 180.0, \"FlaecheL\": 154.9, \"FlaecheS\": 87.0, \"DichteT\": 31.8, \"DichteL\": 37.0, \"DichteS\": 65.9}, {\"RaumKategorie\": \"Stadtkreis\", \"RaumSort\": 10, \"RaumLang\": \"Kreis 1\", \"StichtagDatJahr\": \"2018-01-01T00:00:00\", \"AnzBestWir\": 5750, \"FlaecheT\": 180.0, \"FlaecheL\": 154.9, \"FlaecheS\": 87.0, \"DichteT\": 31.9, \"DichteL\": 37.1, \"DichteS\": 66.1}, {\"RaumKategorie\": \"Stadtkreis\", \"RaumSort\": 10, \"RaumLang\": \"Kreis 1\", \"StichtagDatJahr\": \"2019-01-01T00:00:00\", \"AnzBestWir\": 5791, \"FlaecheT\": 180.0, \"FlaecheL\": 154.9, \"FlaecheS\": 87.0, \"DichteT\": 32.2, \"DichteL\": 37.4, \"DichteS\": 66.6}, {\"RaumKategorie\": \"Stadtkreis\", \"RaumSort\": 10, \"RaumLang\": \"Kreis 1\", \"StichtagDatJahr\": \"2020-01-01T00:00:00\", \"AnzBestWir\": 5831, \"FlaecheT\": 180.0, \"FlaecheL\": 154.9, \"FlaecheS\": 87.0, \"DichteT\": 32.4, \"DichteL\": 37.6, \"DichteS\": 67.0}, {\"RaumKategorie\": \"Stadtkreis\", \"RaumSort\": 20, \"RaumLang\": \"Kreis 2\", \"StichtagDatJahr\": \"2009-01-01T00:00:00\", \"AnzBestWir\": 29809, \"FlaecheT\": 1106.6, \"FlaecheL\": 685.6, \"FlaecheS\": 363.5, \"DichteT\": 26.9, \"DichteL\": 43.5, \"DichteS\": 82.0}, {\"RaumKategorie\": \"Stadtkreis\", \"RaumSort\": 20, \"RaumLang\": \"Kreis 2\", \"StichtagDatJahr\": \"2010-01-01T00:00:00\", \"AnzBestWir\": 29878, \"FlaecheT\": 1106.6, \"FlaecheL\": 682.8, \"FlaecheS\": 362.3, \"DichteT\": 27.0, \"DichteL\": 43.8, \"DichteS\": 82.5}, {\"RaumKategorie\": \"Stadtkreis\", \"RaumSort\": 20, \"RaumLang\": \"Kreis 2\", \"StichtagDatJahr\": \"2011-01-01T00:00:00\", \"AnzBestWir\": 30079, \"FlaecheT\": 1045.1, \"FlaecheL\": 675.0, \"FlaecheS\": 352.9, \"DichteT\": 28.8, \"DichteL\": 44.6, \"DichteS\": 85.2}, {\"RaumKategorie\": \"Stadtkreis\", \"RaumSort\": 20, \"RaumLang\": \"Kreis 2\", \"StichtagDatJahr\": \"2012-01-01T00:00:00\", \"AnzBestWir\": 30085, \"FlaecheT\": 1106.6, \"FlaecheL\": 682.8, \"FlaecheS\": 363.3, \"DichteT\": 27.2, \"DichteL\": 44.1, \"DichteS\": 82.8}, {\"RaumKategorie\": \"Stadtkreis\", \"RaumSort\": 20, \"RaumLang\": \"Kreis 2\", \"StichtagDatJahr\": \"2013-01-01T00:00:00\", \"AnzBestWir\": 30503, \"FlaecheT\": 1106.6, \"FlaecheL\": 682.6, \"FlaecheS\": 363.0, \"DichteT\": 27.6, \"DichteL\": 44.7, \"DichteS\": 84.0}, {\"RaumKategorie\": \"Stadtkreis\", \"RaumSort\": 20, \"RaumLang\": \"Kreis 2\", \"StichtagDatJahr\": \"2014-01-01T00:00:00\", \"AnzBestWir\": 31156, \"FlaecheT\": 1106.6, \"FlaecheL\": 682.7, \"FlaecheS\": 363.1, \"DichteT\": 28.2, \"DichteL\": 45.6, \"DichteS\": 85.8}, {\"RaumKategorie\": \"Stadtkreis\", \"RaumSort\": 20, \"RaumLang\": \"Kreis 2\", \"StichtagDatJahr\": \"2015-01-01T00:00:00\", \"AnzBestWir\": 31603, \"FlaecheT\": 1106.6, \"FlaecheL\": 682.3, \"FlaecheS\": 364.2, \"DichteT\": 28.6, \"DichteL\": 46.3, \"DichteS\": 86.8}, {\"RaumKategorie\": \"Stadtkreis\", \"RaumSort\": 20, \"RaumLang\": \"Kreis 2\", \"StichtagDatJahr\": \"2016-01-01T00:00:00\", \"AnzBestWir\": 32162, \"FlaecheT\": 1106.6, \"FlaecheL\": 679.4, \"FlaecheS\": 361.1, \"DichteT\": 29.1, \"DichteL\": 47.3, \"DichteS\": 89.1}, {\"RaumKategorie\": \"Stadtkreis\", \"RaumSort\": 20, \"RaumLang\": \"Kreis 2\", \"StichtagDatJahr\": \"2017-01-01T00:00:00\", \"AnzBestWir\": 33593, \"FlaecheT\": 1106.6, \"FlaecheL\": 679.0, \"FlaecheS\": 360.6, \"DichteT\": 30.4, \"DichteL\": 49.5, \"DichteS\": 93.2}, {\"RaumKategorie\": \"Stadtkreis\", \"RaumSort\": 20, \"RaumLang\": \"Kreis 2\", \"StichtagDatJahr\": \"2018-01-01T00:00:00\", \"AnzBestWir\": 34877, \"FlaecheT\": 1106.6, \"FlaecheL\": 676.0, \"FlaecheS\": 359.4, \"DichteT\": 31.5, \"DichteL\": 51.6, \"DichteS\": 97.0}, {\"RaumKategorie\": \"Stadtkreis\", \"RaumSort\": 20, \"RaumLang\": \"Kreis 2\", \"StichtagDatJahr\": \"2019-01-01T00:00:00\", \"AnzBestWir\": 35035, \"FlaecheT\": 1106.6, \"FlaecheL\": 676.0, \"FlaecheS\": 357.9, \"DichteT\": 31.7, \"DichteL\": 51.8, \"DichteS\": 97.9}, {\"RaumKategorie\": \"Stadtkreis\", \"RaumSort\": 20, \"RaumLang\": \"Kreis 2\", \"StichtagDatJahr\": \"2020-01-01T00:00:00\", \"AnzBestWir\": 35552, \"FlaecheT\": 1106.6, \"FlaecheL\": 676.0, \"FlaecheS\": 356.4, \"DichteT\": 32.1, \"DichteL\": 52.6, \"DichteS\": 99.7}, {\"RaumKategorie\": \"Stadtkreis\", \"RaumSort\": 30, \"RaumLang\": \"Kreis 3\", \"StichtagDatJahr\": \"2009-01-01T00:00:00\", \"AnzBestWir\": 46971, \"FlaecheT\": 865.1, \"FlaecheL\": 585.6, \"FlaecheS\": 341.9, \"DichteT\": 54.3, \"DichteL\": 80.2, \"DichteS\": 137.4}, {\"RaumKategorie\": \"Stadtkreis\", \"RaumSort\": 30, \"RaumLang\": \"Kreis 3\", \"StichtagDatJahr\": \"2010-01-01T00:00:00\", \"AnzBestWir\": 46699, \"FlaecheT\": 865.1, \"FlaecheL\": 584.9, \"FlaecheS\": 339.7, \"DichteT\": 54.0, \"DichteL\": 79.8, \"DichteS\": 137.5}, {\"RaumKategorie\": \"Stadtkreis\", \"RaumSort\": 30, \"RaumLang\": \"Kreis 3\", \"StichtagDatJahr\": \"2011-01-01T00:00:00\", \"AnzBestWir\": 46943, \"FlaecheT\": 871.7, \"FlaecheL\": 591.5, \"FlaecheS\": 346.8, \"DichteT\": 53.9, \"DichteL\": 79.4, \"DichteS\": 135.4}, {\"RaumKategorie\": \"Stadtkreis\", \"RaumSort\": 30, \"RaumLang\": \"Kreis 3\", \"StichtagDatJahr\": \"2012-01-01T00:00:00\", \"AnzBestWir\": 47926, \"FlaecheT\": 865.1, \"FlaecheL\": 584.8, \"FlaecheS\": 338.9, \"DichteT\": 55.4, \"DichteL\": 81.9, \"DichteS\": 141.4}, {\"RaumKategorie\": \"Stadtkreis\", \"RaumSort\": 30, \"RaumLang\": \"Kreis 3\", \"StichtagDatJahr\": \"2013-01-01T00:00:00\", \"AnzBestWir\": 48333, \"FlaecheT\": 865.1, \"FlaecheL\": 583.9, \"FlaecheS\": 339.2, \"DichteT\": 55.9, \"DichteL\": 82.8, \"DichteS\": 142.5}, {\"RaumKategorie\": \"Stadtkreis\", \"RaumSort\": 30, \"RaumLang\": \"Kreis 3\", \"StichtagDatJahr\": \"2014-01-01T00:00:00\", \"AnzBestWir\": 48808, \"FlaecheT\": 865.1, \"FlaecheL\": 583.8, \"FlaecheS\": 340.3, \"DichteT\": 56.4, \"DichteL\": 83.6, \"DichteS\": 143.4}, {\"RaumKategorie\": \"Stadtkreis\", \"RaumSort\": 30, \"RaumLang\": \"Kreis 3\", \"StichtagDatJahr\": \"2015-01-01T00:00:00\", \"AnzBestWir\": 49195, \"FlaecheT\": 865.1, \"FlaecheL\": 583.6, \"FlaecheS\": 345.0, \"DichteT\": 56.9, \"DichteL\": 84.3, \"DichteS\": 142.6}, {\"RaumKategorie\": \"Stadtkreis\", \"RaumSort\": 30, \"RaumLang\": \"Kreis 3\", \"StichtagDatJahr\": \"2016-01-01T00:00:00\", \"AnzBestWir\": 49500, \"FlaecheT\": 865.1, \"FlaecheL\": 583.4, \"FlaecheS\": 344.5, \"DichteT\": 57.2, \"DichteL\": 84.8, \"DichteS\": 143.7}, {\"RaumKategorie\": \"Stadtkreis\", \"RaumSort\": 30, \"RaumLang\": \"Kreis 3\", \"StichtagDatJahr\": \"2017-01-01T00:00:00\", \"AnzBestWir\": 50042, \"FlaecheT\": 865.1, \"FlaecheL\": 583.9, \"FlaecheS\": 348.5, \"DichteT\": 57.8, \"DichteL\": 85.7, \"DichteS\": 143.6}, {\"RaumKategorie\": \"Stadtkreis\", \"RaumSort\": 30, \"RaumLang\": \"Kreis 3\", \"StichtagDatJahr\": \"2018-01-01T00:00:00\", \"AnzBestWir\": 50569, \"FlaecheT\": 865.1, \"FlaecheL\": 582.6, \"FlaecheS\": 349.9, \"DichteT\": 58.5, \"DichteL\": 86.8, \"DichteS\": 144.5}, {\"RaumKategorie\": \"Stadtkreis\", \"RaumSort\": 30, \"RaumLang\": \"Kreis 3\", \"StichtagDatJahr\": \"2019-01-01T00:00:00\", \"AnzBestWir\": 51122, \"FlaecheT\": 865.1, \"FlaecheL\": 582.7, \"FlaecheS\": 349.1, \"DichteT\": 59.1, \"DichteL\": 87.7, \"DichteS\": 146.4}, {\"RaumKategorie\": \"Stadtkreis\", \"RaumSort\": 30, \"RaumLang\": \"Kreis 3\", \"StichtagDatJahr\": \"2020-01-01T00:00:00\", \"AnzBestWir\": 50756, \"FlaecheT\": 865.1, \"FlaecheL\": 582.8, \"FlaecheS\": 348.9, \"DichteT\": 58.7, \"DichteL\": 87.1, \"DichteS\": 145.5}, {\"RaumKategorie\": \"Stadtkreis\", \"RaumSort\": 40, \"RaumLang\": \"Kreis 4\", \"StichtagDatJahr\": \"2009-01-01T00:00:00\", \"AnzBestWir\": 27398, \"FlaecheT\": 280.0, \"FlaecheL\": 276.1, \"FlaecheS\": 149.2, \"DichteT\": 97.8, \"DichteL\": 99.2, \"DichteS\": 183.6}, {\"RaumKategorie\": \"Stadtkreis\", \"RaumSort\": 40, \"RaumLang\": \"Kreis 4\", \"StichtagDatJahr\": \"2010-01-01T00:00:00\", \"AnzBestWir\": 27429, \"FlaecheT\": 280.0, \"FlaecheL\": 276.1, \"FlaecheS\": 149.2, \"DichteT\": 97.9, \"DichteL\": 99.3, \"DichteS\": 183.9}, {\"RaumKategorie\": \"Stadtkreis\", \"RaumSort\": 40, \"RaumLang\": \"Kreis 4\", \"StichtagDatJahr\": \"2011-01-01T00:00:00\", \"AnzBestWir\": 27453, \"FlaecheT\": 280.9, \"FlaecheL\": 279.1, \"FlaecheS\": 152.1, \"DichteT\": 97.7, \"DichteL\": 98.4, \"DichteS\": 180.4}, {\"RaumKategorie\": \"Stadtkreis\", \"RaumSort\": 40, \"RaumLang\": \"Kreis 4\", \"StichtagDatJahr\": \"2012-01-01T00:00:00\", \"AnzBestWir\": 27749, \"FlaecheT\": 290.9, \"FlaecheL\": 287.0, \"FlaecheS\": 151.8, \"DichteT\": 95.4, \"DichteL\": 96.7, \"DichteS\": 182.8}, {\"RaumKategorie\": \"Stadtkreis\", \"RaumSort\": 40, \"RaumLang\": \"Kreis 4\", \"StichtagDatJahr\": \"2013-01-01T00:00:00\", \"AnzBestWir\": 28115, \"FlaecheT\": 290.9, \"FlaecheL\": 287.0, \"FlaecheS\": 152.1, \"DichteT\": 96.6, \"DichteL\": 97.9, \"DichteS\": 184.8}, {\"RaumKategorie\": \"Stadtkreis\", \"RaumSort\": 40, \"RaumLang\": \"Kreis 4\", \"StichtagDatJahr\": \"2014-01-01T00:00:00\", \"AnzBestWir\": 28645, \"FlaecheT\": 290.9, \"FlaecheL\": 287.0, \"FlaecheS\": 152.6, \"DichteT\": 98.5, \"DichteL\": 99.8, \"DichteS\": 187.7}, {\"RaumKategorie\": \"Stadtkreis\", \"RaumSort\": 40, \"RaumLang\": \"Kreis 4\", \"StichtagDatJahr\": \"2015-01-01T00:00:00\", \"AnzBestWir\": 28701, \"FlaecheT\": 290.9, \"FlaecheL\": 286.8, \"FlaecheS\": 152.7, \"DichteT\": 98.7, \"DichteL\": 100.1, \"DichteS\": 187.9}, {\"RaumKategorie\": \"Stadtkreis\", \"RaumSort\": 40, \"RaumLang\": \"Kreis 4\", \"StichtagDatJahr\": \"2016-01-01T00:00:00\", \"AnzBestWir\": 28630, \"FlaecheT\": 290.9, \"FlaecheL\": 286.8, \"FlaecheS\": 152.0, \"DichteT\": 98.4, \"DichteL\": 99.8, \"DichteS\": 188.4}, {\"RaumKategorie\": \"Stadtkreis\", \"RaumSort\": 40, \"RaumLang\": \"Kreis 4\", \"StichtagDatJahr\": \"2017-01-01T00:00:00\", \"AnzBestWir\": 28775, \"FlaecheT\": 290.6, \"FlaecheL\": 286.5, \"FlaecheS\": 153.1, \"DichteT\": 99.0, \"DichteL\": 100.4, \"DichteS\": 187.9}, {\"RaumKategorie\": \"Stadtkreis\", \"RaumSort\": 40, \"RaumLang\": \"Kreis 4\", \"StichtagDatJahr\": \"2018-01-01T00:00:00\", \"AnzBestWir\": 28729, \"FlaecheT\": 290.6, \"FlaecheL\": 286.5, \"FlaecheS\": 153.2, \"DichteT\": 98.9, \"DichteL\": 100.3, \"DichteS\": 187.6}, {\"RaumKategorie\": \"Stadtkreis\", \"RaumSort\": 40, \"RaumLang\": \"Kreis 4\", \"StichtagDatJahr\": \"2019-01-01T00:00:00\", \"AnzBestWir\": 29368, \"FlaecheT\": 290.6, \"FlaecheL\": 286.5, \"FlaecheS\": 154.6, \"DichteT\": 101.1, \"DichteL\": 102.5, \"DichteS\": 189.9}, {\"RaumKategorie\": \"Stadtkreis\", \"RaumSort\": 40, \"RaumLang\": \"Kreis 4\", \"StichtagDatJahr\": \"2020-01-01T00:00:00\", \"AnzBestWir\": 29034, \"FlaecheT\": 290.6, \"FlaecheL\": 286.5, \"FlaecheS\": 154.1, \"DichteT\": 99.9, \"DichteL\": 101.3, \"DichteS\": 188.4}, {\"RaumKategorie\": \"Stadtkreis\", \"RaumSort\": 50, \"RaumLang\": \"Kreis 5\", \"StichtagDatJahr\": \"2009-01-01T00:00:00\", \"AnzBestWir\": 12777, \"FlaecheT\": 208.9, \"FlaecheL\": 197.2, \"FlaecheS\": 135.6, \"DichteT\": 61.2, \"DichteL\": 64.8, \"DichteS\": 94.3}, {\"RaumKategorie\": \"Stadtkreis\", \"RaumSort\": 50, \"RaumLang\": \"Kreis 5\", \"StichtagDatJahr\": \"2010-01-01T00:00:00\", \"AnzBestWir\": 12764, \"FlaecheT\": 208.9, \"FlaecheL\": 197.2, \"FlaecheS\": 135.6, \"DichteT\": 61.1, \"DichteL\": 64.7, \"DichteS\": 94.1}, {\"RaumKategorie\": \"Stadtkreis\", \"RaumSort\": 50, \"RaumLang\": \"Kreis 5\", \"StichtagDatJahr\": \"2011-01-01T00:00:00\", \"AnzBestWir\": 12924, \"FlaecheT\": 208.9, \"FlaecheL\": 197.2, \"FlaecheS\": 135.7, \"DichteT\": 61.9, \"DichteL\": 65.5, \"DichteS\": 95.3}, {\"RaumKategorie\": \"Stadtkreis\", \"RaumSort\": 50, \"RaumLang\": \"Kreis 5\", \"StichtagDatJahr\": \"2012-01-01T00:00:00\", \"AnzBestWir\": 13167, \"FlaecheT\": 199.3, \"FlaecheL\": 187.9, \"FlaecheS\": 132.6, \"DichteT\": 66.1, \"DichteL\": 70.1, \"DichteS\": 99.3}, {\"RaumKategorie\": \"Stadtkreis\", \"RaumSort\": 50, \"RaumLang\": \"Kreis 5\", \"StichtagDatJahr\": \"2013-01-01T00:00:00\", \"AnzBestWir\": 13636, \"FlaecheT\": 199.3, \"FlaecheL\": 187.9, \"FlaecheS\": 132.6, \"DichteT\": 68.4, \"DichteL\": 72.6, \"DichteS\": 102.8}, {\"RaumKategorie\": \"Stadtkreis\", \"RaumSort\": 50, \"RaumLang\": \"Kreis 5\", \"StichtagDatJahr\": \"2014-01-01T00:00:00\", \"AnzBestWir\": 14143, \"FlaecheT\": 199.3, \"FlaecheL\": 187.9, \"FlaecheS\": 132.7, \"DichteT\": 71.0, \"DichteL\": 75.3, \"DichteS\": 106.6}, {\"RaumKategorie\": \"Stadtkreis\", \"RaumSort\": 50, \"RaumLang\": \"Kreis 5\", \"StichtagDatJahr\": \"2015-01-01T00:00:00\", \"AnzBestWir\": 15065, \"FlaecheT\": 199.3, \"FlaecheL\": 187.4, \"FlaecheS\": 132.5, \"DichteT\": 75.6, \"DichteL\": 80.4, \"DichteS\": 113.7}, {\"RaumKategorie\": \"Stadtkreis\", \"RaumSort\": 50, \"RaumLang\": \"Kreis 5\", \"StichtagDatJahr\": \"2016-01-01T00:00:00\", \"AnzBestWir\": 15423, \"FlaecheT\": 199.3, \"FlaecheL\": 187.2, \"FlaecheS\": 132.4, \"DichteT\": 77.4, \"DichteL\": 82.4, \"DichteS\": 116.5}, {\"RaumKategorie\": \"Stadtkreis\", \"RaumSort\": 50, \"RaumLang\": \"Kreis 5\", \"StichtagDatJahr\": \"2017-01-01T00:00:00\", \"AnzBestWir\": 15666, \"FlaecheT\": 199.7, \"FlaecheL\": 187.6, \"FlaecheS\": 132.6, \"DichteT\": 78.5, \"DichteL\": 83.5, \"DichteS\": 118.1}, {\"RaumKategorie\": \"Stadtkreis\", \"RaumSort\": 50, \"RaumLang\": \"Kreis 5\", \"StichtagDatJahr\": \"2018-01-01T00:00:00\", \"AnzBestWir\": 15579, \"FlaecheT\": 199.7, \"FlaecheL\": 187.4, \"FlaecheS\": 130.1, \"DichteT\": 78.0, \"DichteL\": 83.1, \"DichteS\": 119.7}, {\"RaumKategorie\": \"Stadtkreis\", \"RaumSort\": 50, \"RaumLang\": \"Kreis 5\", \"StichtagDatJahr\": \"2019-01-01T00:00:00\", \"AnzBestWir\": 15750, \"FlaecheT\": 199.7, \"FlaecheL\": 187.4, \"FlaecheS\": 129.9, \"DichteT\": 78.9, \"DichteL\": 84.0, \"DichteS\": 121.3}, {\"RaumKategorie\": \"Stadtkreis\", \"RaumSort\": 50, \"RaumLang\": \"Kreis 5\", \"StichtagDatJahr\": \"2020-01-01T00:00:00\", \"AnzBestWir\": 15622, \"FlaecheT\": 199.7, \"FlaecheL\": 187.4, \"FlaecheS\": 128.7, \"DichteT\": 78.2, \"DichteL\": 83.4, \"DichteS\": 121.4}, {\"RaumKategorie\": \"Stadtkreis\", \"RaumSort\": 60, \"RaumLang\": \"Kreis 6\", \"StichtagDatJahr\": \"2009-01-01T00:00:00\", \"AnzBestWir\": 31131, \"FlaecheT\": 511.2, \"FlaecheL\": 404.9, \"FlaecheS\": 263.9, \"DichteT\": 60.9, \"DichteL\": 76.9, \"DichteS\": 118.0}, {\"RaumKategorie\": \"Stadtkreis\", \"RaumSort\": 60, \"RaumLang\": \"Kreis 6\", \"StichtagDatJahr\": \"2010-01-01T00:00:00\", \"AnzBestWir\": 31464, \"FlaecheT\": 511.3, \"FlaecheL\": 405.0, \"FlaecheS\": 264.1, \"DichteT\": 61.5, \"DichteL\": 77.7, \"DichteS\": 119.2}, {\"RaumKategorie\": \"Stadtkreis\", \"RaumSort\": 60, \"RaumLang\": \"Kreis 6\", \"StichtagDatJahr\": \"2011-01-01T00:00:00\", \"AnzBestWir\": 31556, \"FlaecheT\": 508.1, \"FlaecheL\": 401.8, \"FlaecheS\": 261.7, \"DichteT\": 62.1, \"DichteL\": 78.5, \"DichteS\": 120.6}, {\"RaumKategorie\": \"Stadtkreis\", \"RaumSort\": 60, \"RaumLang\": \"Kreis 6\", \"StichtagDatJahr\": \"2012-01-01T00:00:00\", \"AnzBestWir\": 31750, \"FlaecheT\": 510.1, \"FlaecheL\": 403.9, \"FlaecheS\": 264.2, \"DichteT\": 62.2, \"DichteL\": 78.6, \"DichteS\": 120.2}, {\"RaumKategorie\": \"Stadtkreis\", \"RaumSort\": 60, \"RaumLang\": \"Kreis 6\", \"StichtagDatJahr\": \"2013-01-01T00:00:00\", \"AnzBestWir\": 32328, \"FlaecheT\": 510.1, \"FlaecheL\": 403.9, \"FlaecheS\": 266.1, \"DichteT\": 63.4, \"DichteL\": 80.0, \"DichteS\": 121.5}, {\"RaumKategorie\": \"Stadtkreis\", \"RaumSort\": 60, \"RaumLang\": \"Kreis 6\", \"StichtagDatJahr\": \"2014-01-01T00:00:00\", \"AnzBestWir\": 32682, \"FlaecheT\": 510.1, \"FlaecheL\": 403.9, \"FlaecheS\": 266.1, \"DichteT\": 64.1, \"DichteL\": 80.9, \"DichteS\": 122.8}, {\"RaumKategorie\": \"Stadtkreis\", \"RaumSort\": 60, \"RaumLang\": \"Kreis 6\", \"StichtagDatJahr\": \"2015-01-01T00:00:00\", \"AnzBestWir\": 32867, \"FlaecheT\": 510.1, \"FlaecheL\": 403.1, \"FlaecheS\": 266.0, \"DichteT\": 64.4, \"DichteL\": 81.5, \"DichteS\": 123.6}, {\"RaumKategorie\": \"Stadtkreis\", \"RaumSort\": 60, \"RaumLang\": \"Kreis 6\", \"StichtagDatJahr\": \"2016-01-01T00:00:00\", \"AnzBestWir\": 33270, \"FlaecheT\": 510.1, \"FlaecheL\": 402.9, \"FlaecheS\": 266.5, \"DichteT\": 65.2, \"DichteL\": 82.6, \"DichteS\": 124.8}, {\"RaumKategorie\": \"Stadtkreis\", \"RaumSort\": 60, \"RaumLang\": \"Kreis 6\", \"StichtagDatJahr\": \"2017-01-01T00:00:00\", \"AnzBestWir\": 33614, \"FlaecheT\": 510.1, \"FlaecheL\": 401.7, \"FlaecheS\": 266.8, \"DichteT\": 65.9, \"DichteL\": 83.7, \"DichteS\": 126.0}, {\"RaumKategorie\": \"Stadtkreis\", \"RaumSort\": 60, \"RaumLang\": \"Kreis 6\", \"StichtagDatJahr\": \"2018-01-01T00:00:00\", \"AnzBestWir\": 34321, \"FlaecheT\": 510.1, \"FlaecheL\": 401.8, \"FlaecheS\": 267.2, \"DichteT\": 67.3, \"DichteL\": 85.4, \"DichteS\": 128.5}, {\"RaumKategorie\": \"Stadtkreis\", \"RaumSort\": 60, \"RaumLang\": \"Kreis 6\", \"StichtagDatJahr\": \"2019-01-01T00:00:00\", \"AnzBestWir\": 34794, \"FlaecheT\": 510.1, \"FlaecheL\": 401.8, \"FlaecheS\": 266.2, \"DichteT\": 68.2, \"DichteL\": 86.6, \"DichteS\": 130.7}, {\"RaumKategorie\": \"Stadtkreis\", \"RaumSort\": 60, \"RaumLang\": \"Kreis 6\", \"StichtagDatJahr\": \"2020-01-01T00:00:00\", \"AnzBestWir\": 35317, \"FlaecheT\": 510.1, \"FlaecheL\": 401.8, \"FlaecheS\": 266.1, \"DichteT\": 69.2, \"DichteL\": 87.9, \"DichteS\": 132.7}, {\"RaumKategorie\": \"Stadtkreis\", \"RaumSort\": 70, \"RaumLang\": \"Kreis 7\", \"StichtagDatJahr\": \"2009-01-01T00:00:00\", \"AnzBestWir\": 35362, \"FlaecheT\": 1501.7, \"FlaecheL\": 857.2, \"FlaecheS\": 479.4, \"DichteT\": 23.5, \"DichteL\": 41.3, \"DichteS\": 73.8}, {\"RaumKategorie\": \"Stadtkreis\", \"RaumSort\": 70, \"RaumLang\": \"Kreis 7\", \"StichtagDatJahr\": \"2010-01-01T00:00:00\", \"AnzBestWir\": 35447, \"FlaecheT\": 1501.7, \"FlaecheL\": 857.3, \"FlaecheS\": 479.5, \"DichteT\": 23.6, \"DichteL\": 41.3, \"DichteS\": 73.9}, {\"RaumKategorie\": \"Stadtkreis\", \"RaumSort\": 70, \"RaumLang\": \"Kreis 7\", \"StichtagDatJahr\": \"2011-01-01T00:00:00\", \"AnzBestWir\": 35616, \"FlaecheT\": 1501.0, \"FlaecheL\": 857.9, \"FlaecheS\": 480.1, \"DichteT\": 23.7, \"DichteL\": 41.5, \"DichteS\": 74.2}, {\"RaumKategorie\": \"Stadtkreis\", \"RaumSort\": 70, \"RaumLang\": \"Kreis 7\", \"StichtagDatJahr\": \"2012-01-01T00:00:00\", \"AnzBestWir\": 35603, \"FlaecheT\": 1501.7, \"FlaecheL\": 857.4, \"FlaecheS\": 482.5, \"DichteT\": 23.7, \"DichteL\": 41.5, \"DichteS\": 73.8}, {\"RaumKategorie\": \"Stadtkreis\", \"RaumSort\": 70, \"RaumLang\": \"Kreis 7\", \"StichtagDatJahr\": \"2013-01-01T00:00:00\", \"AnzBestWir\": 36116, \"FlaecheT\": 1501.7, \"FlaecheL\": 857.3, \"FlaecheS\": 482.8, \"DichteT\": 24.1, \"DichteL\": 42.1, \"DichteS\": 74.8}, {\"RaumKategorie\": \"Stadtkreis\", \"RaumSort\": 70, \"RaumLang\": \"Kreis 7\", \"StichtagDatJahr\": \"2014-01-01T00:00:00\", \"AnzBestWir\": 36556, \"FlaecheT\": 1501.7, \"FlaecheL\": 857.2, \"FlaecheS\": 483.3, \"DichteT\": 24.3, \"DichteL\": 42.6, \"DichteS\": 75.6}, {\"RaumKategorie\": \"Stadtkreis\", \"RaumSort\": 70, \"RaumLang\": \"Kreis 7\", \"StichtagDatJahr\": \"2015-01-01T00:00:00\", \"AnzBestWir\": 37053, \"FlaecheT\": 1501.7, \"FlaecheL\": 856.2, \"FlaecheS\": 484.6, \"DichteT\": 24.7, \"DichteL\": 43.3, \"DichteS\": 76.5}, {\"RaumKategorie\": \"Stadtkreis\", \"RaumSort\": 70, \"RaumLang\": \"Kreis 7\", \"StichtagDatJahr\": \"2016-01-01T00:00:00\", \"AnzBestWir\": 37139, \"FlaecheT\": 1501.7, \"FlaecheL\": 855.4, \"FlaecheS\": 488.0, \"DichteT\": 24.7, \"DichteL\": 43.4, \"DichteS\": 76.1}, {\"RaumKategorie\": \"Stadtkreis\", \"RaumSort\": 70, \"RaumLang\": \"Kreis 7\", \"StichtagDatJahr\": \"2017-01-01T00:00:00\", \"AnzBestWir\": 37458, \"FlaecheT\": 1501.7, \"FlaecheL\": 852.7, \"FlaecheS\": 488.0, \"DichteT\": 24.9, \"DichteL\": 43.9, \"DichteS\": 76.8}, {\"RaumKategorie\": \"Stadtkreis\", \"RaumSort\": 70, \"RaumLang\": \"Kreis 7\", \"StichtagDatJahr\": \"2018-01-01T00:00:00\", \"AnzBestWir\": 38191, \"FlaecheT\": 1501.7, \"FlaecheL\": 855.0, \"FlaecheS\": 491.1, \"DichteT\": 25.4, \"DichteL\": 44.7, \"DichteS\": 77.8}, {\"RaumKategorie\": \"Stadtkreis\", \"RaumSort\": 70, \"RaumLang\": \"Kreis 7\", \"StichtagDatJahr\": \"2019-01-01T00:00:00\", \"AnzBestWir\": 38584, \"FlaecheT\": 1502.7, \"FlaecheL\": 856.1, \"FlaecheS\": 489.3, \"DichteT\": 25.7, \"DichteL\": 45.1, \"DichteS\": 78.9}, {\"RaumKategorie\": \"Stadtkreis\", \"RaumSort\": 70, \"RaumLang\": \"Kreis 7\", \"StichtagDatJahr\": \"2020-01-01T00:00:00\", \"AnzBestWir\": 38629, \"FlaecheT\": 1501.7, \"FlaecheL\": 855.0, \"FlaecheS\": 489.2, \"DichteT\": 25.7, \"DichteL\": 45.2, \"DichteS\": 79.0}, {\"RaumKategorie\": \"Stadtkreis\", \"RaumSort\": 80, \"RaumLang\": \"Kreis 8\", \"StichtagDatJahr\": \"2009-01-01T00:00:00\", \"AnzBestWir\": 15212, \"FlaecheT\": 480.7, \"FlaecheL\": 288.5, \"FlaecheS\": 178.8, \"DichteT\": 31.6, \"DichteL\": 52.7, \"DichteS\": 85.1}, {\"RaumKategorie\": \"Stadtkreis\", \"RaumSort\": 80, \"RaumLang\": \"Kreis 8\", \"StichtagDatJahr\": \"2010-01-01T00:00:00\", \"AnzBestWir\": 15518, \"FlaecheT\": 480.7, \"FlaecheL\": 288.5, \"FlaecheS\": 178.7, \"DichteT\": 32.3, \"DichteL\": 53.8, \"DichteS\": 86.8}, {\"RaumKategorie\": \"Stadtkreis\", \"RaumSort\": 80, \"RaumLang\": \"Kreis 8\", \"StichtagDatJahr\": \"2011-01-01T00:00:00\", \"AnzBestWir\": 15501, \"FlaecheT\": 463.9, \"FlaecheL\": 271.9, \"FlaecheS\": 174.5, \"DichteT\": 33.4, \"DichteL\": 57.0, \"DichteS\": 88.8}, {\"RaumKategorie\": \"Stadtkreis\", \"RaumSort\": 80, \"RaumLang\": \"Kreis 8\", \"StichtagDatJahr\": \"2012-01-01T00:00:00\", \"AnzBestWir\": 15444, \"FlaecheT\": 480.7, \"FlaecheL\": 288.5, \"FlaecheS\": 178.5, \"DichteT\": 32.1, \"DichteL\": 53.5, \"DichteS\": 86.5}, {\"RaumKategorie\": \"Stadtkreis\", \"RaumSort\": 80, \"RaumLang\": \"Kreis 8\", \"StichtagDatJahr\": \"2013-01-01T00:00:00\", \"AnzBestWir\": 15912, \"FlaecheT\": 480.7, \"FlaecheL\": 288.5, \"FlaecheS\": 177.6, \"DichteT\": 33.1, \"DichteL\": 55.2, \"DichteS\": 89.6}, {\"RaumKategorie\": \"Stadtkreis\", \"RaumSort\": 80, \"RaumLang\": \"Kreis 8\", \"StichtagDatJahr\": \"2014-01-01T00:00:00\", \"AnzBestWir\": 16178, \"FlaecheT\": 480.7, \"FlaecheL\": 288.6, \"FlaecheS\": 178.2, \"DichteT\": 33.7, \"DichteL\": 56.1, \"DichteS\": 90.8}, {\"RaumKategorie\": \"Stadtkreis\", \"RaumSort\": 80, \"RaumLang\": \"Kreis 8\", \"StichtagDatJahr\": \"2015-01-01T00:00:00\", \"AnzBestWir\": 16192, \"FlaecheT\": 480.7, \"FlaecheL\": 288.6, \"FlaecheS\": 178.3, \"DichteT\": 33.7, \"DichteL\": 56.1, \"DichteS\": 90.8}, {\"RaumKategorie\": \"Stadtkreis\", \"RaumSort\": 80, \"RaumLang\": \"Kreis 8\", \"StichtagDatJahr\": \"2016-01-01T00:00:00\", \"AnzBestWir\": 16213, \"FlaecheT\": 480.7, \"FlaecheL\": 288.4, \"FlaecheS\": 181.6, \"DichteT\": 33.7, \"DichteL\": 56.2, \"DichteS\": 89.3}, {\"RaumKategorie\": \"Stadtkreis\", \"RaumSort\": 80, \"RaumLang\": \"Kreis 8\", \"StichtagDatJahr\": \"2017-01-01T00:00:00\", \"AnzBestWir\": 16541, \"FlaecheT\": 480.7, \"FlaecheL\": 288.4, \"FlaecheS\": 181.0, \"DichteT\": 34.4, \"DichteL\": 57.4, \"DichteS\": 91.4}, {\"RaumKategorie\": \"Stadtkreis\", \"RaumSort\": 80, \"RaumLang\": \"Kreis 8\", \"StichtagDatJahr\": \"2018-01-01T00:00:00\", \"AnzBestWir\": 16788, \"FlaecheT\": 480.7, \"FlaecheL\": 288.4, \"FlaecheS\": 185.5, \"DichteT\": 34.9, \"DichteL\": 58.2, \"DichteS\": 90.5}, {\"RaumKategorie\": \"Stadtkreis\", \"RaumSort\": 80, \"RaumLang\": \"Kreis 8\", \"StichtagDatJahr\": \"2019-01-01T00:00:00\", \"AnzBestWir\": 17060, \"FlaecheT\": 480.6, \"FlaecheL\": 288.3, \"FlaecheS\": 185.5, \"DichteT\": 35.5, \"DichteL\": 59.2, \"DichteS\": 92.0}, {\"RaumKategorie\": \"Stadtkreis\", \"RaumSort\": 80, \"RaumLang\": \"Kreis 8\", \"StichtagDatJahr\": \"2020-01-01T00:00:00\", \"AnzBestWir\": 17456, \"FlaecheT\": 480.6, \"FlaecheL\": 288.3, \"FlaecheS\": 185.4, \"DichteT\": 36.3, \"DichteL\": 60.5, \"DichteS\": 94.2}, {\"RaumKategorie\": \"Stadtkreis\", \"RaumSort\": 90, \"RaumLang\": \"Kreis 9\", \"StichtagDatJahr\": \"2009-01-01T00:00:00\", \"AnzBestWir\": 47520, \"FlaecheT\": 1207.0, \"FlaecheL\": 841.2, \"FlaecheS\": 528.2, \"DichteT\": 39.4, \"DichteL\": 56.5, \"DichteS\": 90.0}, {\"RaumKategorie\": \"Stadtkreis\", \"RaumSort\": 90, \"RaumLang\": \"Kreis 9\", \"StichtagDatJahr\": \"2010-01-01T00:00:00\", \"AnzBestWir\": 48494, \"FlaecheT\": 1207.0, \"FlaecheL\": 841.2, \"FlaecheS\": 528.2, \"DichteT\": 40.2, \"DichteL\": 57.6, \"DichteS\": 91.8}, {\"RaumKategorie\": \"Stadtkreis\", \"RaumSort\": 90, \"RaumLang\": \"Kreis 9\", \"StichtagDatJahr\": \"2011-01-01T00:00:00\", \"AnzBestWir\": 49813, \"FlaecheT\": 1207.2, \"FlaecheL\": 841.4, \"FlaecheS\": 528.2, \"DichteT\": 41.3, \"DichteL\": 59.2, \"DichteS\": 94.3}, {\"RaumKategorie\": \"Stadtkreis\", \"RaumSort\": 90, \"RaumLang\": \"Kreis 9\", \"StichtagDatJahr\": \"2012-01-01T00:00:00\", \"AnzBestWir\": 50437, \"FlaecheT\": 1205.7, \"FlaecheL\": 839.5, \"FlaecheS\": 529.4, \"DichteT\": 41.8, \"DichteL\": 60.1, \"DichteS\": 95.3}, {\"RaumKategorie\": \"Stadtkreis\", \"RaumSort\": 90, \"RaumLang\": \"Kreis 9\", \"StichtagDatJahr\": \"2013-01-01T00:00:00\", \"AnzBestWir\": 50261, \"FlaecheT\": 1205.7, \"FlaecheL\": 839.9, \"FlaecheS\": 528.2, \"DichteT\": 41.7, \"DichteL\": 59.8, \"DichteS\": 95.1}, {\"RaumKategorie\": \"Stadtkreis\", \"RaumSort\": 90, \"RaumLang\": \"Kreis 9\", \"StichtagDatJahr\": \"2014-01-01T00:00:00\", \"AnzBestWir\": 50685, \"FlaecheT\": 1205.7, \"FlaecheL\": 839.9, \"FlaecheS\": 531.0, \"DichteT\": 42.0, \"DichteL\": 60.3, \"DichteS\": 95.5}, {\"RaumKategorie\": \"Stadtkreis\", \"RaumSort\": 90, \"RaumLang\": \"Kreis 9\", \"StichtagDatJahr\": \"2015-01-01T00:00:00\", \"AnzBestWir\": 51328, \"FlaecheT\": 1205.7, \"FlaecheL\": 839.8, \"FlaecheS\": 529.0, \"DichteT\": 42.6, \"DichteL\": 61.1, \"DichteS\": 97.0}, {\"RaumKategorie\": \"Stadtkreis\", \"RaumSort\": 90, \"RaumLang\": \"Kreis 9\", \"StichtagDatJahr\": \"2016-01-01T00:00:00\", \"AnzBestWir\": 52898, \"FlaecheT\": 1205.7, \"FlaecheL\": 838.2, \"FlaecheS\": 536.5, \"DichteT\": 43.9, \"DichteL\": 63.1, \"DichteS\": 98.6}, {\"RaumKategorie\": \"Stadtkreis\", \"RaumSort\": 90, \"RaumLang\": \"Kreis 9\", \"StichtagDatJahr\": \"2017-01-01T00:00:00\", \"AnzBestWir\": 54716, \"FlaecheT\": 1205.7, \"FlaecheL\": 836.9, \"FlaecheS\": 534.3, \"DichteT\": 45.4, \"DichteL\": 65.4, \"DichteS\": 102.4}, {\"RaumKategorie\": \"Stadtkreis\", \"RaumSort\": 90, \"RaumLang\": \"Kreis 9\", \"StichtagDatJahr\": \"2018-01-01T00:00:00\", \"AnzBestWir\": 55765, \"FlaecheT\": 1205.7, \"FlaecheL\": 837.6, \"FlaecheS\": 533.1, \"DichteT\": 46.3, \"DichteL\": 66.6, \"DichteS\": 104.6}, {\"RaumKategorie\": \"Stadtkreis\", \"RaumSort\": 90, \"RaumLang\": \"Kreis 9\", \"StichtagDatJahr\": \"2019-01-01T00:00:00\", \"AnzBestWir\": 56637, \"FlaecheT\": 1205.7, \"FlaecheL\": 837.6, \"FlaecheS\": 533.9, \"DichteT\": 47.0, \"DichteL\": 67.6, \"DichteS\": 106.1}, {\"RaumKategorie\": \"Stadtkreis\", \"RaumSort\": 90, \"RaumLang\": \"Kreis 9\", \"StichtagDatJahr\": \"2020-01-01T00:00:00\", \"AnzBestWir\": 56462, \"FlaecheT\": 1205.7, \"FlaecheL\": 837.6, \"FlaecheS\": 533.7, \"DichteT\": 46.8, \"DichteL\": 67.4, \"DichteS\": 105.8}, {\"RaumKategorie\": \"Stadtkreis\", \"RaumSort\": 100, \"RaumLang\": \"Kreis 10\", \"StichtagDatJahr\": \"2009-01-01T00:00:00\", \"AnzBestWir\": 36939, \"FlaecheT\": 907.4, \"FlaecheL\": 619.3, \"FlaecheS\": 349.8, \"DichteT\": 40.7, \"DichteL\": 59.6, \"DichteS\": 105.6}, {\"RaumKategorie\": \"Stadtkreis\", \"RaumSort\": 100, \"RaumLang\": \"Kreis 10\", \"StichtagDatJahr\": \"2010-01-01T00:00:00\", \"AnzBestWir\": 36879, \"FlaecheT\": 907.4, \"FlaecheL\": 619.3, \"FlaecheS\": 349.6, \"DichteT\": 40.6, \"DichteL\": 59.6, \"DichteS\": 105.5}, {\"RaumKategorie\": \"Stadtkreis\", \"RaumSort\": 100, \"RaumLang\": \"Kreis 10\", \"StichtagDatJahr\": \"2011-01-01T00:00:00\", \"AnzBestWir\": 37192, \"FlaecheT\": 962.6, \"FlaecheL\": 620.6, \"FlaecheS\": 349.6, \"DichteT\": 38.6, \"DichteL\": 59.9, \"DichteS\": 106.4}, {\"RaumKategorie\": \"Stadtkreis\", \"RaumSort\": 100, \"RaumLang\": \"Kreis 10\", \"StichtagDatJahr\": \"2012-01-01T00:00:00\", \"AnzBestWir\": 37328, \"FlaecheT\": 908.6, \"FlaecheL\": 621.6, \"FlaecheS\": 349.8, \"DichteT\": 41.1, \"DichteL\": 60.1, \"DichteS\": 106.7}, {\"RaumKategorie\": \"Stadtkreis\", \"RaumSort\": 100, \"RaumLang\": \"Kreis 10\", \"StichtagDatJahr\": \"2013-01-01T00:00:00\", \"AnzBestWir\": 37416, \"FlaecheT\": 908.5, \"FlaecheL\": 620.4, \"FlaecheS\": 349.5, \"DichteT\": 41.2, \"DichteL\": 60.3, \"DichteS\": 107.1}, {\"RaumKategorie\": \"Stadtkreis\", \"RaumSort\": 100, \"RaumLang\": \"Kreis 10\", \"StichtagDatJahr\": \"2014-01-01T00:00:00\", \"AnzBestWir\": 37543, \"FlaecheT\": 908.5, \"FlaecheL\": 620.5, \"FlaecheS\": 349.6, \"DichteT\": 41.3, \"DichteL\": 60.5, \"DichteS\": 107.4}, {\"RaumKategorie\": \"Stadtkreis\", \"RaumSort\": 100, \"RaumLang\": \"Kreis 10\", \"StichtagDatJahr\": \"2015-01-01T00:00:00\", \"AnzBestWir\": 38199, \"FlaecheT\": 908.6, \"FlaecheL\": 618.5, \"FlaecheS\": 350.1, \"DichteT\": 42.0, \"DichteL\": 61.8, \"DichteS\": 109.1}, {\"RaumKategorie\": \"Stadtkreis\", \"RaumSort\": 100, \"RaumLang\": \"Kreis 10\", \"StichtagDatJahr\": \"2016-01-01T00:00:00\", \"AnzBestWir\": 39564, \"FlaecheT\": 908.6, \"FlaecheL\": 618.7, \"FlaecheS\": 352.7, \"DichteT\": 43.5, \"DichteL\": 64.0, \"DichteS\": 112.2}, {\"RaumKategorie\": \"Stadtkreis\", \"RaumSort\": 100, \"RaumLang\": \"Kreis 10\", \"StichtagDatJahr\": \"2017-01-01T00:00:00\", \"AnzBestWir\": 40341, \"FlaecheT\": 908.6, \"FlaecheL\": 616.6, \"FlaecheS\": 354.5, \"DichteT\": 44.4, \"DichteL\": 65.4, \"DichteS\": 113.8}, {\"RaumKategorie\": \"Stadtkreis\", \"RaumSort\": 100, \"RaumLang\": \"Kreis 10\", \"StichtagDatJahr\": \"2018-01-01T00:00:00\", \"AnzBestWir\": 40341, \"FlaecheT\": 908.6, \"FlaecheL\": 616.9, \"FlaecheS\": 355.7, \"DichteT\": 44.4, \"DichteL\": 65.4, \"DichteS\": 113.4}, {\"RaumKategorie\": \"Stadtkreis\", \"RaumSort\": 100, \"RaumLang\": \"Kreis 10\", \"StichtagDatJahr\": \"2019-01-01T00:00:00\", \"AnzBestWir\": 40832, \"FlaecheT\": 908.6, \"FlaecheL\": 616.8, \"FlaecheS\": 354.2, \"DichteT\": 44.9, \"DichteL\": 66.2, \"DichteS\": 115.3}, {\"RaumKategorie\": \"Stadtkreis\", \"RaumSort\": 100, \"RaumLang\": \"Kreis 10\", \"StichtagDatJahr\": \"2020-01-01T00:00:00\", \"AnzBestWir\": 41044, \"FlaecheT\": 908.6, \"FlaecheL\": 616.8, \"FlaecheS\": 354.3, \"DichteT\": 45.2, \"DichteL\": 66.5, \"DichteS\": 115.8}, {\"RaumKategorie\": \"Stadtkreis\", \"RaumSort\": 110, \"RaumLang\": \"Kreis 11\", \"StichtagDatJahr\": \"2009-01-01T00:00:00\", \"AnzBestWir\": 64612, \"FlaecheT\": 1342.9, \"FlaecheL\": 1189.3, \"FlaecheS\": 612.7, \"DichteT\": 48.1, \"DichteL\": 54.3, \"DichteS\": 105.5}, {\"RaumKategorie\": \"Stadtkreis\", \"RaumSort\": 110, \"RaumLang\": \"Kreis 11\", \"StichtagDatJahr\": \"2010-01-01T00:00:00\", \"AnzBestWir\": 65796, \"FlaecheT\": 1342.8, \"FlaecheL\": 1189.3, \"FlaecheS\": 613.1, \"DichteT\": 49.0, \"DichteL\": 55.3, \"DichteS\": 107.3}, {\"RaumKategorie\": \"Stadtkreis\", \"RaumSort\": 110, \"RaumLang\": \"Kreis 11\", \"StichtagDatJahr\": \"2011-01-01T00:00:00\", \"AnzBestWir\": 67945, \"FlaecheT\": 1344.9, \"FlaecheL\": 1189.3, \"FlaecheS\": 615.1, \"DichteT\": 50.5, \"DichteL\": 57.1, \"DichteS\": 110.5}, {\"RaumKategorie\": \"Stadtkreis\", \"RaumSort\": 110, \"RaumLang\": \"Kreis 11\", \"StichtagDatJahr\": \"2012-01-01T00:00:00\", \"AnzBestWir\": 69496, \"FlaecheT\": 1342.9, \"FlaecheL\": 1189.8, \"FlaecheS\": 621.1, \"DichteT\": 51.8, \"DichteL\": 58.4, \"DichteS\": 111.9}, {\"RaumKategorie\": \"Stadtkreis\", \"RaumSort\": 110, \"RaumLang\": \"Kreis 11\", \"StichtagDatJahr\": \"2013-01-01T00:00:00\", \"AnzBestWir\": 70748, \"FlaecheT\": 1342.8, \"FlaecheL\": 1189.8, \"FlaecheS\": 620.8, \"DichteT\": 52.7, \"DichteL\": 59.5, \"DichteS\": 114.0}, {\"RaumKategorie\": \"Stadtkreis\", \"RaumSort\": 110, \"RaumLang\": \"Kreis 11\", \"StichtagDatJahr\": \"2014-01-01T00:00:00\", \"AnzBestWir\": 72228, \"FlaecheT\": 1342.9, \"FlaecheL\": 1189.8, \"FlaecheS\": 621.3, \"DichteT\": 53.8, \"DichteL\": 60.7, \"DichteS\": 116.2}, {\"RaumKategorie\": \"Stadtkreis\", \"RaumSort\": 110, \"RaumLang\": \"Kreis 11\", \"StichtagDatJahr\": \"2015-01-01T00:00:00\", \"AnzBestWir\": 72831, \"FlaecheT\": 1342.9, \"FlaecheL\": 1188.7, \"FlaecheS\": 622.8, \"DichteT\": 54.2, \"DichteL\": 61.3, \"DichteS\": 116.9}, {\"RaumKategorie\": \"Stadtkreis\", \"RaumSort\": 110, \"RaumLang\": \"Kreis 11\", \"StichtagDatJahr\": \"2016-01-01T00:00:00\", \"AnzBestWir\": 73413, \"FlaecheT\": 1342.9, \"FlaecheL\": 1181.7, \"FlaecheS\": 624.7, \"DichteT\": 54.7, \"DichteL\": 62.1, \"DichteS\": 117.5}, {\"RaumKategorie\": \"Stadtkreis\", \"RaumSort\": 110, \"RaumLang\": \"Kreis 11\", \"StichtagDatJahr\": \"2017-01-01T00:00:00\", \"AnzBestWir\": 74809, \"FlaecheT\": 1342.9, \"FlaecheL\": 1181.6, \"FlaecheS\": 626.4, \"DichteT\": 55.7, \"DichteL\": 63.3, \"DichteS\": 119.4}, {\"RaumKategorie\": \"Stadtkreis\", \"RaumSort\": 110, \"RaumLang\": \"Kreis 11\", \"StichtagDatJahr\": \"2018-01-01T00:00:00\", \"AnzBestWir\": 75344, \"FlaecheT\": 1342.9, \"FlaecheL\": 1183.6, \"FlaecheS\": 627.1, \"DichteT\": 56.1, \"DichteL\": 63.7, \"DichteS\": 120.2}, {\"RaumKategorie\": \"Stadtkreis\", \"RaumSort\": 110, \"RaumLang\": \"Kreis 11\", \"StichtagDatJahr\": \"2019-01-01T00:00:00\", \"AnzBestWir\": 75804, \"FlaecheT\": 1342.9, \"FlaecheL\": 1183.7, \"FlaecheS\": 627.2, \"DichteT\": 56.4, \"DichteL\": 64.0, \"DichteS\": 120.9}, {\"RaumKategorie\": \"Stadtkreis\", \"RaumSort\": 110, \"RaumLang\": \"Kreis 11\", \"StichtagDatJahr\": \"2020-01-01T00:00:00\", \"AnzBestWir\": 76188, \"FlaecheT\": 1342.9, \"FlaecheL\": 1184.3, \"FlaecheS\": 626.9, \"DichteT\": 56.7, \"DichteL\": 64.3, \"DichteS\": 121.5}, {\"RaumKategorie\": \"Stadtkreis\", \"RaumSort\": 120, \"RaumLang\": \"Kreis 12\", \"StichtagDatJahr\": \"2009-01-01T00:00:00\", \"AnzBestWir\": 29599, \"FlaecheT\": 596.7, \"FlaecheL\": 425.4, \"FlaecheS\": 268.6, \"DichteT\": 49.6, \"DichteL\": 69.6, \"DichteS\": 110.2}, {\"RaumKategorie\": \"Stadtkreis\", \"RaumSort\": 120, \"RaumLang\": \"Kreis 12\", \"StichtagDatJahr\": \"2010-01-01T00:00:00\", \"AnzBestWir\": 29537, \"FlaecheT\": 596.7, \"FlaecheL\": 425.1, \"FlaecheS\": 267.5, \"DichteT\": 49.5, \"DichteL\": 69.5, \"DichteS\": 110.4}, {\"RaumKategorie\": \"Stadtkreis\", \"RaumSort\": 120, \"RaumLang\": \"Kreis 12\", \"StichtagDatJahr\": \"2011-01-01T00:00:00\", \"AnzBestWir\": 29510, \"FlaecheT\": 596.7, \"FlaecheL\": 425.0, \"FlaecheS\": 267.4, \"DichteT\": 49.5, \"DichteL\": 69.4, \"DichteS\": 110.4}, {\"RaumKategorie\": \"Stadtkreis\", \"RaumSort\": 120, \"RaumLang\": \"Kreis 12\", \"StichtagDatJahr\": \"2012-01-01T00:00:00\", \"AnzBestWir\": 29456, \"FlaecheT\": 596.6, \"FlaecheL\": 425.0, \"FlaecheS\": 267.8, \"DichteT\": 49.4, \"DichteL\": 69.3, \"DichteS\": 110.0}, {\"RaumKategorie\": \"Stadtkreis\", \"RaumSort\": 120, \"RaumLang\": \"Kreis 12\", \"StichtagDatJahr\": \"2013-01-01T00:00:00\", \"AnzBestWir\": 29642, \"FlaecheT\": 596.6, \"FlaecheL\": 425.1, \"FlaecheS\": 268.6, \"DichteT\": 49.7, \"DichteL\": 69.7, \"DichteS\": 110.4}, {\"RaumKategorie\": \"Stadtkreis\", \"RaumSort\": 120, \"RaumLang\": \"Kreis 12\", \"StichtagDatJahr\": \"2014-01-01T00:00:00\", \"AnzBestWir\": 30543, \"FlaecheT\": 596.6, \"FlaecheL\": 425.1, \"FlaecheS\": 268.7, \"DichteT\": 51.2, \"DichteL\": 71.8, \"DichteS\": 113.7}, {\"RaumKategorie\": \"Stadtkreis\", \"RaumSort\": 120, \"RaumLang\": \"Kreis 12\", \"StichtagDatJahr\": \"2015-01-01T00:00:00\", \"AnzBestWir\": 31753, \"FlaecheT\": 596.6, \"FlaecheL\": 424.0, \"FlaecheS\": 269.2, \"DichteT\": 53.2, \"DichteL\": 74.9, \"DichteS\": 117.9}, {\"RaumKategorie\": \"Stadtkreis\", \"RaumSort\": 120, \"RaumLang\": \"Kreis 12\", \"StichtagDatJahr\": \"2016-01-01T00:00:00\", \"AnzBestWir\": 31822, \"FlaecheT\": 596.6, \"FlaecheL\": 422.5, \"FlaecheS\": 272.2, \"DichteT\": 53.3, \"DichteL\": 75.3, \"DichteS\": 116.9}, {\"RaumKategorie\": \"Stadtkreis\", \"RaumSort\": 120, \"RaumLang\": \"Kreis 12\", \"StichtagDatJahr\": \"2017-01-01T00:00:00\", \"AnzBestWir\": 32027, \"FlaecheT\": 596.6, \"FlaecheL\": 421.0, \"FlaecheS\": 272.1, \"DichteT\": 53.7, \"DichteL\": 76.1, \"DichteS\": 117.7}, {\"RaumKategorie\": \"Stadtkreis\", \"RaumSort\": 120, \"RaumLang\": \"Kreis 12\", \"StichtagDatJahr\": \"2018-01-01T00:00:00\", \"AnzBestWir\": 32483, \"FlaecheT\": 596.6, \"FlaecheL\": 421.2, \"FlaecheS\": 272.8, \"DichteT\": 54.4, \"DichteL\": 77.1, \"DichteS\": 119.1}, {\"RaumKategorie\": \"Stadtkreis\", \"RaumSort\": 120, \"RaumLang\": \"Kreis 12\", \"StichtagDatJahr\": \"2019-01-01T00:00:00\", \"AnzBestWir\": 33231, \"FlaecheT\": 596.6, \"FlaecheL\": 421.3, \"FlaecheS\": 272.0, \"DichteT\": 55.7, \"DichteL\": 78.9, \"DichteS\": 122.2}, {\"RaumKategorie\": \"Stadtkreis\", \"RaumSort\": 120, \"RaumLang\": \"Kreis 12\", \"StichtagDatJahr\": \"2020-01-01T00:00:00\", \"AnzBestWir\": 32845, \"FlaecheT\": 596.6, \"FlaecheL\": 421.3, \"FlaecheS\": 272.0, \"DichteT\": 55.1, \"DichteL\": 78.0, \"DichteS\": 120.8}, {\"RaumKategorie\": \"Stadtquartier\", \"RaumSort\": 11, \"RaumLang\": \"Rathaus\", \"StichtagDatJahr\": \"2009-01-01T00:00:00\", \"AnzBestWir\": 3110, \"FlaecheT\": 35.7, \"FlaecheL\": 27.5, \"FlaecheS\": 17.9, \"DichteT\": 87.1, \"DichteL\": 113.0, \"DichteS\": 174.1}, {\"RaumKategorie\": \"Stadtquartier\", \"RaumSort\": 11, \"RaumLang\": \"Rathaus\", \"StichtagDatJahr\": \"2010-01-01T00:00:00\", \"AnzBestWir\": 3099, \"FlaecheT\": 35.7, \"FlaecheL\": 27.5, \"FlaecheS\": 17.9, \"DichteT\": 86.8, \"DichteL\": 112.6, \"DichteS\": 173.4}, {\"RaumKategorie\": \"Stadtquartier\", \"RaumSort\": 11, \"RaumLang\": \"Rathaus\", \"StichtagDatJahr\": \"2011-01-01T00:00:00\", \"AnzBestWir\": 3140, \"FlaecheT\": 47.7, \"FlaecheL\": 39.2, \"FlaecheS\": 21.8, \"DichteT\": 65.9, \"DichteL\": 80.2, \"DichteS\": 144.2}, {\"RaumKategorie\": \"Stadtquartier\", \"RaumSort\": 11, \"RaumLang\": \"Rathaus\", \"StichtagDatJahr\": \"2012-01-01T00:00:00\", \"AnzBestWir\": 3164, \"FlaecheT\": 35.7, \"FlaecheL\": 27.5, \"FlaecheS\": 17.8, \"DichteT\": 88.6, \"DichteL\": 115.1, \"DichteS\": 177.3}, {\"RaumKategorie\": \"Stadtquartier\", \"RaumSort\": 11, \"RaumLang\": \"Rathaus\", \"StichtagDatJahr\": \"2013-01-01T00:00:00\", \"AnzBestWir\": 3194, \"FlaecheT\": 35.7, \"FlaecheL\": 27.5, \"FlaecheS\": 17.8, \"DichteT\": 89.4, \"DichteL\": 116.2, \"DichteS\": 179.0}, {\"RaumKategorie\": \"Stadtquartier\", \"RaumSort\": 11, \"RaumLang\": \"Rathaus\", \"StichtagDatJahr\": \"2014-01-01T00:00:00\", \"AnzBestWir\": 3236, \"FlaecheT\": 35.7, \"FlaecheL\": 27.5, \"FlaecheS\": 17.8, \"DichteT\": 90.6, \"DichteL\": 117.8, \"DichteS\": 181.4}, {\"RaumKategorie\": \"Stadtquartier\", \"RaumSort\": 11, \"RaumLang\": \"Rathaus\", \"StichtagDatJahr\": \"2015-01-01T00:00:00\", \"AnzBestWir\": 3197, \"FlaecheT\": 35.7, \"FlaecheL\": 27.4, \"FlaecheS\": 17.8, \"DichteT\": 89.5, \"DichteL\": 116.5, \"DichteS\": 179.2}, {\"RaumKategorie\": \"Stadtquartier\", \"RaumSort\": 11, \"RaumLang\": \"Rathaus\", \"StichtagDatJahr\": \"2016-01-01T00:00:00\", \"AnzBestWir\": 3226, \"FlaecheT\": 35.7, \"FlaecheL\": 27.4, \"FlaecheS\": 17.8, \"DichteT\": 90.3, \"DichteL\": 117.6, \"DichteS\": 180.8}, {\"RaumKategorie\": \"Stadtquartier\", \"RaumSort\": 11, \"RaumLang\": \"Rathaus\", \"StichtagDatJahr\": \"2017-01-01T00:00:00\", \"AnzBestWir\": 3266, \"FlaecheT\": 35.7, \"FlaecheL\": 27.4, \"FlaecheS\": 18.0, \"DichteT\": 91.5, \"DichteL\": 119.0, \"DichteS\": 181.8}, {\"RaumKategorie\": \"Stadtquartier\", \"RaumSort\": 11, \"RaumLang\": \"Rathaus\", \"StichtagDatJahr\": \"2018-01-01T00:00:00\", \"AnzBestWir\": 3267, \"FlaecheT\": 35.7, \"FlaecheL\": 27.4, \"FlaecheS\": 18.0, \"DichteT\": 91.5, \"DichteL\": 119.0, \"DichteS\": 181.9}, {\"RaumKategorie\": \"Stadtquartier\", \"RaumSort\": 11, \"RaumLang\": \"Rathaus\", \"StichtagDatJahr\": \"2019-01-01T00:00:00\", \"AnzBestWir\": 3307, \"FlaecheT\": 35.7, \"FlaecheL\": 27.4, \"FlaecheS\": 18.0, \"DichteT\": 92.6, \"DichteL\": 120.5, \"DichteS\": 184.1}, {\"RaumKategorie\": \"Stadtquartier\", \"RaumSort\": 11, \"RaumLang\": \"Rathaus\", \"StichtagDatJahr\": \"2020-01-01T00:00:00\", \"AnzBestWir\": 3317, \"FlaecheT\": 35.7, \"FlaecheL\": 27.4, \"FlaecheS\": 18.0, \"DichteT\": 92.9, \"DichteL\": 120.9, \"DichteS\": 184.7}, {\"RaumKategorie\": \"Stadtquartier\", \"RaumSort\": 12, \"RaumLang\": \"Hochschulen\", \"StichtagDatJahr\": \"2009-01-01T00:00:00\", \"AnzBestWir\": 673, \"FlaecheT\": 58.1, \"FlaecheL\": 46.0, \"FlaecheS\": 26.7, \"DichteT\": 11.6, \"DichteL\": 14.6, \"DichteS\": 25.2}, {\"RaumKategorie\": \"Stadtquartier\", \"RaumSort\": 12, \"RaumLang\": \"Hochschulen\", \"StichtagDatJahr\": \"2010-01-01T00:00:00\", \"AnzBestWir\": 678, \"FlaecheT\": 58.1, \"FlaecheL\": 46.0, \"FlaecheS\": 26.7, \"DichteT\": 11.7, \"DichteL\": 14.7, \"DichteS\": 25.3}, {\"RaumKategorie\": \"Stadtquartier\", \"RaumSort\": 12, \"RaumLang\": \"Hochschulen\", \"StichtagDatJahr\": \"2011-01-01T00:00:00\", \"AnzBestWir\": 681, \"FlaecheT\": 58.0, \"FlaecheL\": 45.8, \"FlaecheS\": 26.8, \"DichteT\": 11.7, \"DichteL\": 14.9, \"DichteS\": 25.5}, {\"RaumKategorie\": \"Stadtquartier\", \"RaumSort\": 12, \"RaumLang\": \"Hochschulen\", \"StichtagDatJahr\": \"2012-01-01T00:00:00\", \"AnzBestWir\": 673, \"FlaecheT\": 58.1, \"FlaecheL\": 46.0, \"FlaecheS\": 27.3, \"DichteT\": 11.6, \"DichteL\": 14.6, \"DichteS\": 24.7}, {\"RaumKategorie\": \"Stadtquartier\", \"RaumSort\": 12, \"RaumLang\": \"Hochschulen\", \"StichtagDatJahr\": \"2013-01-01T00:00:00\", \"AnzBestWir\": 665, \"FlaecheT\": 58.1, \"FlaecheL\": 46.0, \"FlaecheS\": 27.3, \"DichteT\": 11.4, \"DichteL\": 14.5, \"DichteS\": 24.4}, {\"RaumKategorie\": \"Stadtquartier\", \"RaumSort\": 12, \"RaumLang\": \"Hochschulen\", \"StichtagDatJahr\": \"2014-01-01T00:00:00\", \"AnzBestWir\": 634, \"FlaecheT\": 58.1, \"FlaecheL\": 46.0, \"FlaecheS\": 27.5, \"DichteT\": 10.9, \"DichteL\": 13.8, \"DichteS\": 23.1}, {\"RaumKategorie\": \"Stadtquartier\", \"RaumSort\": 12, \"RaumLang\": \"Hochschulen\", \"StichtagDatJahr\": \"2015-01-01T00:00:00\", \"AnzBestWir\": 641, \"FlaecheT\": 58.1, \"FlaecheL\": 46.0, \"FlaecheS\": 27.5, \"DichteT\": 11.0, \"DichteL\": 13.9, \"DichteS\": 23.3}, {\"RaumKategorie\": \"Stadtquartier\", \"RaumSort\": 12, \"RaumLang\": \"Hochschulen\", \"StichtagDatJahr\": \"2016-01-01T00:00:00\", \"AnzBestWir\": 640, \"FlaecheT\": 58.1, \"FlaecheL\": 46.0, \"FlaecheS\": 25.9, \"DichteT\": 11.0, \"DichteL\": 13.9, \"DichteS\": 24.7}, {\"RaumKategorie\": \"Stadtquartier\", \"RaumSort\": 12, \"RaumLang\": \"Hochschulen\", \"StichtagDatJahr\": \"2017-01-01T00:00:00\", \"AnzBestWir\": 677, \"FlaecheT\": 58.1, \"FlaecheL\": 46.0, \"FlaecheS\": 26.0, \"DichteT\": 11.6, \"DichteL\": 14.7, \"DichteS\": 26.1}, {\"RaumKategorie\": \"Stadtquartier\", \"RaumSort\": 12, \"RaumLang\": \"Hochschulen\", \"StichtagDatJahr\": \"2018-01-01T00:00:00\", \"AnzBestWir\": 664, \"FlaecheT\": 58.1, \"FlaecheL\": 46.0, \"FlaecheS\": 26.0, \"DichteT\": 11.4, \"DichteL\": 14.4, \"DichteS\": 25.6}, {\"RaumKategorie\": \"Stadtquartier\", \"RaumSort\": 12, \"RaumLang\": \"Hochschulen\", \"StichtagDatJahr\": \"2019-01-01T00:00:00\", \"AnzBestWir\": 678, \"FlaecheT\": 58.1, \"FlaecheL\": 46.0, \"FlaecheS\": 26.0, \"DichteT\": 11.7, \"DichteL\": 14.8, \"DichteS\": 26.1}, {\"RaumKategorie\": \"Stadtquartier\", \"RaumSort\": 12, \"RaumLang\": \"Hochschulen\", \"StichtagDatJahr\": \"2020-01-01T00:00:00\", \"AnzBestWir\": 675, \"FlaecheT\": 58.1, \"FlaecheL\": 46.0, \"FlaecheS\": 26.0, \"DichteT\": 11.6, \"DichteL\": 14.7, \"DichteS\": 26.0}, {\"RaumKategorie\": \"Stadtquartier\", \"RaumSort\": 13, \"RaumLang\": \"Lindenhof\", \"StichtagDatJahr\": \"2009-01-01T00:00:00\", \"AnzBestWir\": 940, \"FlaecheT\": 26.5, \"FlaecheL\": 26.5, \"FlaecheS\": 14.0, \"DichteT\": 35.5, \"DichteL\": 35.5, \"DichteS\": 67.2}, {\"RaumKategorie\": \"Stadtquartier\", \"RaumSort\": 13, \"RaumLang\": \"Lindenhof\", \"StichtagDatJahr\": \"2010-01-01T00:00:00\", \"AnzBestWir\": 951, \"FlaecheT\": 26.5, \"FlaecheL\": 26.5, \"FlaecheS\": 14.6, \"DichteT\": 35.9, \"DichteL\": 35.9, \"DichteS\": 65.3}, {\"RaumKategorie\": \"Stadtquartier\", \"RaumSort\": 13, \"RaumLang\": \"Lindenhof\", \"StichtagDatJahr\": \"2011-01-01T00:00:00\", \"AnzBestWir\": 950, \"FlaecheT\": 31.9, \"FlaecheL\": 30.6, \"FlaecheS\": 17.6, \"DichteT\": 29.7, \"DichteL\": 31.1, \"DichteS\": 54.0}, {\"RaumKategorie\": \"Stadtquartier\", \"RaumSort\": 13, \"RaumLang\": \"Lindenhof\", \"StichtagDatJahr\": \"2012-01-01T00:00:00\", \"AnzBestWir\": 935, \"FlaecheT\": 26.5, \"FlaecheL\": 26.5, \"FlaecheS\": 14.5, \"DichteT\": 35.3, \"DichteL\": 35.3, \"DichteS\": 64.6}, {\"RaumKategorie\": \"Stadtquartier\", \"RaumSort\": 13, \"RaumLang\": \"Lindenhof\", \"StichtagDatJahr\": \"2013-01-01T00:00:00\", \"AnzBestWir\": 923, \"FlaecheT\": 26.5, \"FlaecheL\": 26.5, \"FlaecheS\": 14.5, \"DichteT\": 34.8, \"DichteL\": 34.8, \"DichteS\": 63.8}, {\"RaumKategorie\": \"Stadtquartier\", \"RaumSort\": 13, \"RaumLang\": \"Lindenhof\", \"StichtagDatJahr\": \"2014-01-01T00:00:00\", \"AnzBestWir\": 955, \"FlaecheT\": 26.7, \"FlaecheL\": 26.7, \"FlaecheS\": 14.3, \"DichteT\": 35.8, \"DichteL\": 35.8, \"DichteS\": 66.6}, {\"RaumKategorie\": \"Stadtquartier\", \"RaumSort\": 13, \"RaumLang\": \"Lindenhof\", \"StichtagDatJahr\": \"2015-01-01T00:00:00\", \"AnzBestWir\": 974, \"FlaecheT\": 26.7, \"FlaecheL\": 26.7, \"FlaecheS\": 13.7, \"DichteT\": 36.5, \"DichteL\": 36.5, \"DichteS\": 71.3}, {\"RaumKategorie\": \"Stadtquartier\", \"RaumSort\": 13, \"RaumLang\": \"Lindenhof\", \"StichtagDatJahr\": \"2016-01-01T00:00:00\", \"AnzBestWir\": 972, \"FlaecheT\": 26.7, \"FlaecheL\": 26.7, \"FlaecheS\": 13.1, \"DichteT\": 36.5, \"DichteL\": 36.5, \"DichteS\": 74.5}, {\"RaumKategorie\": \"Stadtquartier\", \"RaumSort\": 13, \"RaumLang\": \"Lindenhof\", \"StichtagDatJahr\": \"2017-01-01T00:00:00\", \"AnzBestWir\": 955, \"FlaecheT\": 26.7, \"FlaecheL\": 26.7, \"FlaecheS\": 13.1, \"DichteT\": 35.8, \"DichteL\": 35.8, \"DichteS\": 73.2}, {\"RaumKategorie\": \"Stadtquartier\", \"RaumSort\": 13, \"RaumLang\": \"Lindenhof\", \"StichtagDatJahr\": \"2018-01-01T00:00:00\", \"AnzBestWir\": 990, \"FlaecheT\": 26.7, \"FlaecheL\": 26.7, \"FlaecheS\": 13.1, \"DichteT\": 37.1, \"DichteL\": 37.1, \"DichteS\": 75.8}, {\"RaumKategorie\": \"Stadtquartier\", \"RaumSort\": 13, \"RaumLang\": \"Lindenhof\", \"StichtagDatJahr\": \"2019-01-01T00:00:00\", \"AnzBestWir\": 1009, \"FlaecheT\": 26.7, \"FlaecheL\": 26.7, \"FlaecheS\": 13.1, \"DichteT\": 37.9, \"DichteL\": 37.9, \"DichteS\": 77.3}, {\"RaumKategorie\": \"Stadtquartier\", \"RaumSort\": 13, \"RaumLang\": \"Lindenhof\", \"StichtagDatJahr\": \"2020-01-01T00:00:00\", \"AnzBestWir\": 1010, \"FlaecheT\": 26.7, \"FlaecheL\": 26.7, \"FlaecheS\": 13.1, \"DichteT\": 37.9, \"DichteL\": 37.9, \"DichteS\": 77.4}, {\"RaumKategorie\": \"Stadtquartier\", \"RaumSort\": 14, \"RaumLang\": \"City\", \"StichtagDatJahr\": \"2009-01-01T00:00:00\", \"AnzBestWir\": 853, \"FlaecheT\": 59.6, \"FlaecheL\": 55.7, \"FlaecheS\": 29.4, \"DichteT\": 14.3, \"DichteL\": 15.3, \"DichteS\": 29.0}, {\"RaumKategorie\": \"Stadtquartier\", \"RaumSort\": 14, \"RaumLang\": \"City\", \"StichtagDatJahr\": \"2010-01-01T00:00:00\", \"AnzBestWir\": 835, \"FlaecheT\": 59.6, \"FlaecheL\": 55.7, \"FlaecheS\": 29.4, \"DichteT\": 14.0, \"DichteL\": 15.0, \"DichteS\": 28.4}, {\"RaumKategorie\": \"Stadtquartier\", \"RaumSort\": 14, \"RaumLang\": \"City\", \"StichtagDatJahr\": \"2011-01-01T00:00:00\", \"AnzBestWir\": 779, \"FlaecheT\": 59.6, \"FlaecheL\": 55.7, \"FlaecheS\": 29.4, \"DichteT\": 13.1, \"DichteL\": 14.0, \"DichteS\": 26.5}, {\"RaumKategorie\": \"Stadtquartier\", \"RaumSort\": 14, \"RaumLang\": \"City\", \"StichtagDatJahr\": \"2012-01-01T00:00:00\", \"AnzBestWir\": 799, \"FlaecheT\": 59.6, \"FlaecheL\": 55.5, \"FlaecheS\": 30.5, \"DichteT\": 13.4, \"DichteL\": 14.4, \"DichteS\": 26.2}, {\"RaumKategorie\": \"Stadtquartier\", \"RaumSort\": 14, \"RaumLang\": \"City\", \"StichtagDatJahr\": \"2013-01-01T00:00:00\", \"AnzBestWir\": 783, \"FlaecheT\": 59.6, \"FlaecheL\": 55.5, \"FlaecheS\": 30.6, \"DichteT\": 13.1, \"DichteL\": 14.1, \"DichteS\": 25.6}, {\"RaumKategorie\": \"Stadtquartier\", \"RaumSort\": 14, \"RaumLang\": \"City\", \"StichtagDatJahr\": \"2014-01-01T00:00:00\", \"AnzBestWir\": 791, \"FlaecheT\": 59.5, \"FlaecheL\": 55.3, \"FlaecheS\": 30.2, \"DichteT\": 13.3, \"DichteL\": 14.3, \"DichteS\": 26.2}, {\"RaumKategorie\": \"Stadtquartier\", \"RaumSort\": 14, \"RaumLang\": \"City\", \"StichtagDatJahr\": \"2015-01-01T00:00:00\", \"AnzBestWir\": 805, \"FlaecheT\": 59.5, \"FlaecheL\": 54.9, \"FlaecheS\": 30.3, \"DichteT\": 13.5, \"DichteL\": 14.7, \"DichteS\": 26.6}, {\"RaumKategorie\": \"Stadtquartier\", \"RaumSort\": 14, \"RaumLang\": \"City\", \"StichtagDatJahr\": \"2016-01-01T00:00:00\", \"AnzBestWir\": 810, \"FlaecheT\": 59.5, \"FlaecheL\": 54.9, \"FlaecheS\": 30.1, \"DichteT\": 13.6, \"DichteL\": 14.8, \"DichteS\": 26.9}, {\"RaumKategorie\": \"Stadtquartier\", \"RaumSort\": 14, \"RaumLang\": \"City\", \"StichtagDatJahr\": \"2017-01-01T00:00:00\", \"AnzBestWir\": 830, \"FlaecheT\": 59.5, \"FlaecheL\": 54.9, \"FlaecheS\": 30.0, \"DichteT\": 13.9, \"DichteL\": 15.1, \"DichteS\": 27.7}, {\"RaumKategorie\": \"Stadtquartier\", \"RaumSort\": 14, \"RaumLang\": \"City\", \"StichtagDatJahr\": \"2018-01-01T00:00:00\", \"AnzBestWir\": 829, \"FlaecheT\": 59.5, \"FlaecheL\": 54.9, \"FlaecheS\": 30.0, \"DichteT\": 13.9, \"DichteL\": 15.1, \"DichteS\": 27.6}, {\"RaumKategorie\": \"Stadtquartier\", \"RaumSort\": 14, \"RaumLang\": \"City\", \"StichtagDatJahr\": \"2019-01-01T00:00:00\", \"AnzBestWir\": 797, \"FlaecheT\": 59.5, \"FlaecheL\": 54.9, \"FlaecheS\": 30.0, \"DichteT\": 13.4, \"DichteL\": 14.5, \"DichteS\": 26.6}, {\"RaumKategorie\": \"Stadtquartier\", \"RaumSort\": 14, \"RaumLang\": \"City\", \"StichtagDatJahr\": \"2020-01-01T00:00:00\", \"AnzBestWir\": 829, \"FlaecheT\": 59.5, \"FlaecheL\": 54.9, \"FlaecheS\": 30.0, \"DichteT\": 13.9, \"DichteL\": 15.1, \"DichteS\": 27.6}, {\"RaumKategorie\": \"Stadtquartier\", \"RaumSort\": 21, \"RaumLang\": \"Wollishofen\", \"StichtagDatJahr\": \"2009-01-01T00:00:00\", \"AnzBestWir\": 15854, \"FlaecheT\": 573.6, \"FlaecheL\": 350.9, \"FlaecheS\": 198.0, \"DichteT\": 27.6, \"DichteL\": 45.2, \"DichteS\": 80.1}, {\"RaumKategorie\": \"Stadtquartier\", \"RaumSort\": 21, \"RaumLang\": \"Wollishofen\", \"StichtagDatJahr\": \"2010-01-01T00:00:00\", \"AnzBestWir\": 15988, \"FlaecheT\": 573.6, \"FlaecheL\": 348.3, \"FlaecheS\": 198.2, \"DichteT\": 27.9, \"DichteL\": 45.9, \"DichteS\": 80.7}, {\"RaumKategorie\": \"Stadtquartier\", \"RaumSort\": 21, \"RaumLang\": \"Wollishofen\", \"StichtagDatJahr\": \"2011-01-01T00:00:00\", \"AnzBestWir\": 16055, \"FlaecheT\": 524.1, \"FlaecheL\": 352.4, \"FlaecheS\": 199.7, \"DichteT\": 30.6, \"DichteL\": 45.6, \"DichteS\": 80.4}, {\"RaumKategorie\": \"Stadtquartier\", \"RaumSort\": 21, \"RaumLang\": \"Wollishofen\", \"StichtagDatJahr\": \"2012-01-01T00:00:00\", \"AnzBestWir\": 16029, \"FlaecheT\": 573.6, \"FlaecheL\": 348.4, \"FlaecheS\": 198.3, \"DichteT\": 27.9, \"DichteL\": 46.0, \"DichteS\": 80.8}, {\"RaumKategorie\": \"Stadtquartier\", \"RaumSort\": 21, \"RaumLang\": \"Wollishofen\", \"StichtagDatJahr\": \"2013-01-01T00:00:00\", \"AnzBestWir\": 15937, \"FlaecheT\": 573.6, \"FlaecheL\": 348.4, \"FlaecheS\": 198.4, \"DichteT\": 27.8, \"DichteL\": 45.7, \"DichteS\": 80.3}, {\"RaumKategorie\": \"Stadtquartier\", \"RaumSort\": 21, \"RaumLang\": \"Wollishofen\", \"StichtagDatJahr\": \"2014-01-01T00:00:00\", \"AnzBestWir\": 16137, \"FlaecheT\": 573.6, \"FlaecheL\": 348.4, \"FlaecheS\": 198.5, \"DichteT\": 28.1, \"DichteL\": 46.3, \"DichteS\": 81.3}, {\"RaumKategorie\": \"Stadtquartier\", \"RaumSort\": 21, \"RaumLang\": \"Wollishofen\", \"StichtagDatJahr\": \"2015-01-01T00:00:00\", \"AnzBestWir\": 16244, \"FlaecheT\": 578.1, \"FlaecheL\": 352.3, \"FlaecheS\": 201.6, \"DichteT\": 28.1, \"DichteL\": 46.1, \"DichteS\": 80.6}, {\"RaumKategorie\": \"Stadtquartier\", \"RaumSort\": 21, \"RaumLang\": \"Wollishofen\", \"StichtagDatJahr\": \"2016-01-01T00:00:00\", \"AnzBestWir\": 16567, \"FlaecheT\": 578.1, \"FlaecheL\": 350.0, \"FlaecheS\": 201.2, \"DichteT\": 28.7, \"DichteL\": 47.3, \"DichteS\": 82.4}, {\"RaumKategorie\": \"Stadtquartier\", \"RaumSort\": 21, \"RaumLang\": \"Wollishofen\", \"StichtagDatJahr\": \"2017-01-01T00:00:00\", \"AnzBestWir\": 17892, \"FlaecheT\": 578.1, \"FlaecheL\": 349.9, \"FlaecheS\": 201.0, \"DichteT\": 31.0, \"DichteL\": 51.1, \"DichteS\": 89.0}, {\"RaumKategorie\": \"Stadtquartier\", \"RaumSort\": 21, \"RaumLang\": \"Wollishofen\", \"StichtagDatJahr\": \"2018-01-01T00:00:00\", \"AnzBestWir\": 18923, \"FlaecheT\": 578.1, \"FlaecheL\": 347.2, \"FlaecheS\": 200.2, \"DichteT\": 32.7, \"DichteL\": 54.5, \"DichteS\": 94.5}, {\"RaumKategorie\": \"Stadtquartier\", \"RaumSort\": 21, \"RaumLang\": \"Wollishofen\", \"StichtagDatJahr\": \"2019-01-01T00:00:00\", \"AnzBestWir\": 19225, \"FlaecheT\": 578.1, \"FlaecheL\": 347.2, \"FlaecheS\": 198.8, \"DichteT\": 33.3, \"DichteL\": 55.4, \"DichteS\": 96.7}, {\"RaumKategorie\": \"Stadtquartier\", \"RaumSort\": 21, \"RaumLang\": \"Wollishofen\", \"StichtagDatJahr\": \"2020-01-01T00:00:00\", \"AnzBestWir\": 19757, \"FlaecheT\": 578.1, \"FlaecheL\": 347.2, \"FlaecheS\": 197.3, \"DichteT\": 34.2, \"DichteL\": 56.9, \"DichteS\": 100.1}, {\"RaumKategorie\": \"Stadtquartier\", \"RaumSort\": 23, \"RaumLang\": \"Leimbach\", \"StichtagDatJahr\": \"2009-01-01T00:00:00\", \"AnzBestWir\": 5287, \"FlaecheT\": 292.1, \"FlaecheL\": 157.6, \"FlaecheS\": 58.4, \"DichteT\": 18.1, \"DichteL\": 33.5, \"DichteS\": 90.5}, {\"RaumKategorie\": \"Stadtquartier\", \"RaumSort\": 23, \"RaumLang\": \"Leimbach\", \"StichtagDatJahr\": \"2010-01-01T00:00:00\", \"AnzBestWir\": 5293, \"FlaecheT\": 292.1, \"FlaecheL\": 157.4, \"FlaecheS\": 57.1, \"DichteT\": 18.1, \"DichteL\": 33.6, \"DichteS\": 92.7}, {\"RaumKategorie\": \"Stadtquartier\", \"RaumSort\": 23, \"RaumLang\": \"Leimbach\", \"StichtagDatJahr\": \"2011-01-01T00:00:00\", \"AnzBestWir\": 5340, \"FlaecheT\": 280.1, \"FlaecheL\": 145.5, \"FlaecheS\": 46.2, \"DichteT\": 19.1, \"DichteL\": 36.7, \"DichteS\": 115.6}, {\"RaumKategorie\": \"Stadtquartier\", \"RaumSort\": 23, \"RaumLang\": \"Leimbach\", \"StichtagDatJahr\": \"2012-01-01T00:00:00\", \"AnzBestWir\": 5354, \"FlaecheT\": 292.0, \"FlaecheL\": 157.3, \"FlaecheS\": 57.2, \"DichteT\": 18.3, \"DichteL\": 34.0, \"DichteS\": 93.6}, {\"RaumKategorie\": \"Stadtquartier\", \"RaumSort\": 23, \"RaumLang\": \"Leimbach\", \"StichtagDatJahr\": \"2013-01-01T00:00:00\", \"AnzBestWir\": 5730, \"FlaecheT\": 292.0, \"FlaecheL\": 157.1, \"FlaecheS\": 57.2, \"DichteT\": 19.6, \"DichteL\": 36.5, \"DichteS\": 100.2}, {\"RaumKategorie\": \"Stadtquartier\", \"RaumSort\": 23, \"RaumLang\": \"Leimbach\", \"StichtagDatJahr\": \"2014-01-01T00:00:00\", \"AnzBestWir\": 5936, \"FlaecheT\": 292.0, \"FlaecheL\": 157.1, \"FlaecheS\": 57.3, \"DichteT\": 20.3, \"DichteL\": 37.8, \"DichteS\": 103.6}, {\"RaumKategorie\": \"Stadtquartier\", \"RaumSort\": 23, \"RaumLang\": \"Leimbach\", \"StichtagDatJahr\": \"2015-01-01T00:00:00\", \"AnzBestWir\": 6102, \"FlaecheT\": 292.0, \"FlaecheL\": 157.0, \"FlaecheS\": 57.6, \"DichteT\": 20.9, \"DichteL\": 38.9, \"DichteS\": 105.9}, {\"RaumKategorie\": \"Stadtquartier\", \"RaumSort\": 23, \"RaumLang\": \"Leimbach\", \"StichtagDatJahr\": \"2016-01-01T00:00:00\", \"AnzBestWir\": 6173, \"FlaecheT\": 292.0, \"FlaecheL\": 156.8, \"FlaecheS\": 58.3, \"DichteT\": 21.1, \"DichteL\": 39.4, \"DichteS\": 106.0}, {\"RaumKategorie\": \"Stadtquartier\", \"RaumSort\": 23, \"RaumLang\": \"Leimbach\", \"StichtagDatJahr\": \"2017-01-01T00:00:00\", \"AnzBestWir\": 6212, \"FlaecheT\": 292.0, \"FlaecheL\": 156.7, \"FlaecheS\": 57.9, \"DichteT\": 21.3, \"DichteL\": 39.7, \"DichteS\": 107.2}, {\"RaumKategorie\": \"Stadtquartier\", \"RaumSort\": 23, \"RaumLang\": \"Leimbach\", \"StichtagDatJahr\": \"2018-01-01T00:00:00\", \"AnzBestWir\": 6320, \"FlaecheT\": 292.0, \"FlaecheL\": 156.3, \"FlaecheS\": 57.7, \"DichteT\": 21.6, \"DichteL\": 40.4, \"DichteS\": 109.5}, {\"RaumKategorie\": \"Stadtquartier\", \"RaumSort\": 23, \"RaumLang\": \"Leimbach\", \"StichtagDatJahr\": \"2019-01-01T00:00:00\", \"AnzBestWir\": 6152, \"FlaecheT\": 292.0, \"FlaecheL\": 156.3, \"FlaecheS\": 57.7, \"DichteT\": 21.1, \"DichteL\": 39.3, \"DichteS\": 106.7}, {\"RaumKategorie\": \"Stadtquartier\", \"RaumSort\": 23, \"RaumLang\": \"Leimbach\", \"StichtagDatJahr\": \"2020-01-01T00:00:00\", \"AnzBestWir\": 6140, \"FlaecheT\": 292.0, \"FlaecheL\": 156.3, \"FlaecheS\": 57.7, \"DichteT\": 21.0, \"DichteL\": 39.3, \"DichteS\": 106.5}, {\"RaumKategorie\": \"Stadtquartier\", \"RaumSort\": 24, \"RaumLang\": \"Enge\", \"StichtagDatJahr\": \"2009-01-01T00:00:00\", \"AnzBestWir\": 8668, \"FlaecheT\": 240.9, \"FlaecheL\": 177.1, \"FlaecheS\": 107.1, \"DichteT\": 36.0, \"DichteL\": 48.9, \"DichteS\": 81.0}, {\"RaumKategorie\": \"Stadtquartier\", \"RaumSort\": 24, \"RaumLang\": \"Enge\", \"StichtagDatJahr\": \"2010-01-01T00:00:00\", \"AnzBestWir\": 8597, \"FlaecheT\": 240.9, \"FlaecheL\": 177.1, \"FlaecheS\": 107.0, \"DichteT\": 35.7, \"DichteL\": 48.5, \"DichteS\": 80.3}, {\"RaumKategorie\": \"Stadtquartier\", \"RaumSort\": 24, \"RaumLang\": \"Enge\", \"StichtagDatJahr\": \"2011-01-01T00:00:00\", \"AnzBestWir\": 8684, \"FlaecheT\": 240.9, \"FlaecheL\": 177.1, \"FlaecheS\": 107.0, \"DichteT\": 36.0, \"DichteL\": 49.0, \"DichteS\": 81.1}, {\"RaumKategorie\": \"Stadtquartier\", \"RaumSort\": 24, \"RaumLang\": \"Enge\", \"StichtagDatJahr\": \"2012-01-01T00:00:00\", \"AnzBestWir\": 8702, \"FlaecheT\": 240.9, \"FlaecheL\": 177.1, \"FlaecheS\": 107.8, \"DichteT\": 36.1, \"DichteL\": 49.1, \"DichteS\": 80.8}, {\"RaumKategorie\": \"Stadtquartier\", \"RaumSort\": 24, \"RaumLang\": \"Enge\", \"StichtagDatJahr\": \"2013-01-01T00:00:00\", \"AnzBestWir\": 8836, \"FlaecheT\": 240.9, \"FlaecheL\": 177.1, \"FlaecheS\": 107.4, \"DichteT\": 36.7, \"DichteL\": 49.9, \"DichteS\": 82.3}, {\"RaumKategorie\": \"Stadtquartier\", \"RaumSort\": 24, \"RaumLang\": \"Enge\", \"StichtagDatJahr\": \"2014-01-01T00:00:00\", \"AnzBestWir\": 9083, \"FlaecheT\": 240.9, \"FlaecheL\": 177.2, \"FlaecheS\": 107.4, \"DichteT\": 37.7, \"DichteL\": 51.3, \"DichteS\": 84.6}, {\"RaumKategorie\": \"Stadtquartier\", \"RaumSort\": 24, \"RaumLang\": \"Enge\", \"StichtagDatJahr\": \"2015-01-01T00:00:00\", \"AnzBestWir\": 9257, \"FlaecheT\": 236.5, \"FlaecheL\": 173.0, \"FlaecheS\": 105.0, \"DichteT\": 39.1, \"DichteL\": 53.5, \"DichteS\": 88.2}, {\"RaumKategorie\": \"Stadtquartier\", \"RaumSort\": 24, \"RaumLang\": \"Enge\", \"StichtagDatJahr\": \"2016-01-01T00:00:00\", \"AnzBestWir\": 9422, \"FlaecheT\": 236.5, \"FlaecheL\": 172.5, \"FlaecheS\": 101.7, \"DichteT\": 39.8, \"DichteL\": 54.6, \"DichteS\": 92.7}, {\"RaumKategorie\": \"Stadtquartier\", \"RaumSort\": 24, \"RaumLang\": \"Enge\", \"StichtagDatJahr\": \"2017-01-01T00:00:00\", \"AnzBestWir\": 9489, \"FlaecheT\": 236.5, \"FlaecheL\": 172.5, \"FlaecheS\": 101.7, \"DichteT\": 40.1, \"DichteL\": 55.0, \"DichteS\": 93.3}, {\"RaumKategorie\": \"Stadtquartier\", \"RaumSort\": 24, \"RaumLang\": \"Enge\", \"StichtagDatJahr\": \"2018-01-01T00:00:00\", \"AnzBestWir\": 9634, \"FlaecheT\": 236.5, \"FlaecheL\": 172.4, \"FlaecheS\": 101.5, \"DichteT\": 40.7, \"DichteL\": 55.9, \"DichteS\": 94.9}, {\"RaumKategorie\": \"Stadtquartier\", \"RaumSort\": 24, \"RaumLang\": \"Enge\", \"StichtagDatJahr\": \"2019-01-01T00:00:00\", \"AnzBestWir\": 9658, \"FlaecheT\": 236.5, \"FlaecheL\": 172.4, \"FlaecheS\": 101.5, \"DichteT\": 40.8, \"DichteL\": 56.0, \"DichteS\": 95.1}, {\"RaumKategorie\": \"Stadtquartier\", \"RaumSort\": 24, \"RaumLang\": \"Enge\", \"StichtagDatJahr\": \"2020-01-01T00:00:00\", \"AnzBestWir\": 9655, \"FlaecheT\": 236.5, \"FlaecheL\": 172.4, \"FlaecheS\": 101.5, \"DichteT\": 40.8, \"DichteL\": 56.0, \"DichteS\": 95.2}, {\"RaumKategorie\": \"Stadtquartier\", \"RaumSort\": 31, \"RaumLang\": \"Alt-Wiedikon\", \"StichtagDatJahr\": \"2009-01-01T00:00:00\", \"AnzBestWir\": 15504, \"FlaecheT\": 184.6, \"FlaecheL\": 177.9, \"FlaecheS\": 119.0, \"DichteT\": 84.0, \"DichteL\": 87.1, \"DichteS\": 130.3}, {\"RaumKategorie\": \"Stadtquartier\", \"RaumSort\": 31, \"RaumLang\": \"Alt-Wiedikon\", \"StichtagDatJahr\": \"2010-01-01T00:00:00\", \"AnzBestWir\": 15988, \"FlaecheT\": 184.6, \"FlaecheL\": 177.9, \"FlaecheS\": 119.1, \"DichteT\": 86.6, \"DichteL\": 89.9, \"DichteS\": 134.3}, {\"RaumKategorie\": \"Stadtquartier\", \"RaumSort\": 31, \"RaumLang\": \"Alt-Wiedikon\", \"StichtagDatJahr\": \"2011-01-01T00:00:00\", \"AnzBestWir\": 16014, \"FlaecheT\": 191.3, \"FlaecheL\": 184.6, \"FlaecheS\": 126.2, \"DichteT\": 83.7, \"DichteL\": 86.7, \"DichteS\": 126.9}, {\"RaumKategorie\": \"Stadtquartier\", \"RaumSort\": 31, \"RaumLang\": \"Alt-Wiedikon\", \"StichtagDatJahr\": \"2012-01-01T00:00:00\", \"AnzBestWir\": 16109, \"FlaecheT\": 184.6, \"FlaecheL\": 177.9, \"FlaecheS\": 118.4, \"DichteT\": 87.3, \"DichteL\": 90.5, \"DichteS\": 136.1}, {\"RaumKategorie\": \"Stadtquartier\", \"RaumSort\": 31, \"RaumLang\": \"Alt-Wiedikon\", \"StichtagDatJahr\": \"2013-01-01T00:00:00\", \"AnzBestWir\": 16706, \"FlaecheT\": 183.6, \"FlaecheL\": 177.0, \"FlaecheS\": 118.4, \"DichteT\": 91.0, \"DichteL\": 94.4, \"DichteS\": 141.1}, {\"RaumKategorie\": \"Stadtquartier\", \"RaumSort\": 31, \"RaumLang\": \"Alt-Wiedikon\", \"StichtagDatJahr\": \"2014-01-01T00:00:00\", \"AnzBestWir\": 16918, \"FlaecheT\": 170.5, \"FlaecheL\": 163.9, \"FlaecheS\": 118.9, \"DichteT\": 99.2, \"DichteL\": 103.2, \"DichteS\": 142.3}, {\"RaumKategorie\": \"Stadtquartier\", \"RaumSort\": 31, \"RaumLang\": \"Alt-Wiedikon\", \"StichtagDatJahr\": \"2015-01-01T00:00:00\", \"AnzBestWir\": 17158, \"FlaecheT\": 169.2, \"FlaecheL\": 162.3, \"FlaecheS\": 120.5, \"DichteT\": 101.4, \"DichteL\": 105.7, \"DichteS\": 142.4}, {\"RaumKategorie\": \"Stadtquartier\", \"RaumSort\": 31, \"RaumLang\": \"Alt-Wiedikon\", \"StichtagDatJahr\": \"2016-01-01T00:00:00\", \"AnzBestWir\": 17321, \"FlaecheT\": 169.2, \"FlaecheL\": 161.9, \"FlaecheS\": 120.3, \"DichteT\": 102.3, \"DichteL\": 107.0, \"DichteS\": 143.9}, {\"RaumKategorie\": \"Stadtquartier\", \"RaumSort\": 31, \"RaumLang\": \"Alt-Wiedikon\", \"StichtagDatJahr\": \"2017-01-01T00:00:00\", \"AnzBestWir\": 17522, \"FlaecheT\": 169.2, \"FlaecheL\": 161.9, \"FlaecheS\": 121.4, \"DichteT\": 103.5, \"DichteL\": 108.2, \"DichteS\": 144.3}, {\"RaumKategorie\": \"Stadtquartier\", \"RaumSort\": 31, \"RaumLang\": \"Alt-Wiedikon\", \"StichtagDatJahr\": \"2018-01-01T00:00:00\", \"AnzBestWir\": 17956, \"FlaecheT\": 169.2, \"FlaecheL\": 161.7, \"FlaecheS\": 121.2, \"DichteT\": 106.1, \"DichteL\": 111.0, \"DichteS\": 148.1}, {\"RaumKategorie\": \"Stadtquartier\", \"RaumSort\": 31, \"RaumLang\": \"Alt-Wiedikon\", \"StichtagDatJahr\": \"2019-01-01T00:00:00\", \"AnzBestWir\": 17874, \"FlaecheT\": 169.3, \"FlaecheL\": 161.7, \"FlaecheS\": 121.1, \"DichteT\": 105.6, \"DichteL\": 110.5, \"DichteS\": 147.6}, {\"RaumKategorie\": \"Stadtquartier\", \"RaumSort\": 31, \"RaumLang\": \"Alt-Wiedikon\", \"StichtagDatJahr\": \"2020-01-01T00:00:00\", \"AnzBestWir\": 17764, \"FlaecheT\": 169.2, \"FlaecheL\": 161.7, \"FlaecheS\": 121.1, \"DichteT\": 105.0, \"DichteL\": 109.8, \"DichteS\": 146.7}, {\"RaumKategorie\": \"Stadtquartier\", \"RaumSort\": 33, \"RaumLang\": \"Friesenberg\", \"StichtagDatJahr\": \"2009-01-01T00:00:00\", \"AnzBestWir\": 11003, \"FlaecheT\": 516.7, \"FlaecheL\": 244.7, \"FlaecheS\": 127.2, \"DichteT\": 21.3, \"DichteL\": 45.0, \"DichteS\": 86.5}, {\"RaumKategorie\": \"Stadtquartier\", \"RaumSort\": 33, \"RaumLang\": \"Friesenberg\", \"StichtagDatJahr\": \"2010-01-01T00:00:00\", \"AnzBestWir\": 10596, \"FlaecheT\": 516.7, \"FlaecheL\": 244.0, \"FlaecheS\": 124.9, \"DichteT\": 20.5, \"DichteL\": 43.4, \"DichteS\": 84.8}, {\"RaumKategorie\": \"Stadtquartier\", \"RaumSort\": 33, \"RaumLang\": \"Friesenberg\", \"StichtagDatJahr\": \"2011-01-01T00:00:00\", \"AnzBestWir\": 10622, \"FlaecheT\": 516.7, \"FlaecheL\": 244.0, \"FlaecheS\": 124.9, \"DichteT\": 20.6, \"DichteL\": 43.5, \"DichteS\": 85.0}, {\"RaumKategorie\": \"Stadtquartier\", \"RaumSort\": 33, \"RaumLang\": \"Friesenberg\", \"StichtagDatJahr\": \"2012-01-01T00:00:00\", \"AnzBestWir\": 10986, \"FlaecheT\": 516.7, \"FlaecheL\": 243.9, \"FlaecheS\": 124.9, \"DichteT\": 21.3, \"DichteL\": 45.0, \"DichteS\": 88.0}, {\"RaumKategorie\": \"Stadtquartier\", \"RaumSort\": 33, \"RaumLang\": \"Friesenberg\", \"StichtagDatJahr\": \"2013-01-01T00:00:00\", \"AnzBestWir\": 10696, \"FlaecheT\": 516.1, \"FlaecheL\": 242.4, \"FlaecheS\": 125.1, \"DichteT\": 20.7, \"DichteL\": 44.1, \"DichteS\": 85.5}, {\"RaumKategorie\": \"Stadtquartier\", \"RaumSort\": 33, \"RaumLang\": \"Friesenberg\", \"StichtagDatJahr\": \"2014-01-01T00:00:00\", \"AnzBestWir\": 10695, \"FlaecheT\": 529.7, \"FlaecheL\": 256.0, \"FlaecheS\": 125.7, \"DichteT\": 20.2, \"DichteL\": 41.8, \"DichteS\": 85.1}, {\"RaumKategorie\": \"Stadtquartier\", \"RaumSort\": 33, \"RaumLang\": \"Friesenberg\", \"StichtagDatJahr\": \"2015-01-01T00:00:00\", \"AnzBestWir\": 10698, \"FlaecheT\": 529.7, \"FlaecheL\": 255.9, \"FlaecheS\": 127.9, \"DichteT\": 20.2, \"DichteL\": 41.8, \"DichteS\": 83.6}, {\"RaumKategorie\": \"Stadtquartier\", \"RaumSort\": 33, \"RaumLang\": \"Friesenberg\", \"StichtagDatJahr\": \"2016-01-01T00:00:00\", \"AnzBestWir\": 11002, \"FlaecheT\": 529.7, \"FlaecheL\": 256.1, \"FlaecheS\": 128.4, \"DichteT\": 20.8, \"DichteL\": 43.0, \"DichteS\": 85.7}, {\"RaumKategorie\": \"Stadtquartier\", \"RaumSort\": 33, \"RaumLang\": \"Friesenberg\", \"StichtagDatJahr\": \"2017-01-01T00:00:00\", \"AnzBestWir\": 10860, \"FlaecheT\": 529.7, \"FlaecheL\": 256.7, \"FlaecheS\": 130.2, \"DichteT\": 20.5, \"DichteL\": 42.3, \"DichteS\": 83.4}, {\"RaumKategorie\": \"Stadtquartier\", \"RaumSort\": 33, \"RaumLang\": \"Friesenberg\", \"StichtagDatJahr\": \"2018-01-01T00:00:00\", \"AnzBestWir\": 10933, \"FlaecheT\": 529.7, \"FlaecheL\": 255.6, \"FlaecheS\": 131.9, \"DichteT\": 20.6, \"DichteL\": 42.8, \"DichteS\": 82.9}, {\"RaumKategorie\": \"Stadtquartier\", \"RaumSort\": 33, \"RaumLang\": \"Friesenberg\", \"StichtagDatJahr\": \"2019-01-01T00:00:00\", \"AnzBestWir\": 11107, \"FlaecheT\": 529.7, \"FlaecheL\": 255.7, \"FlaecheS\": 131.8, \"DichteT\": 21.0, \"DichteL\": 43.4, \"DichteS\": 84.3}, {\"RaumKategorie\": \"Stadtquartier\", \"RaumSort\": 33, \"RaumLang\": \"Friesenberg\", \"StichtagDatJahr\": \"2020-01-01T00:00:00\", \"AnzBestWir\": 11071, \"FlaecheT\": 529.7, \"FlaecheL\": 255.7, \"FlaecheS\": 131.5, \"DichteT\": 20.9, \"DichteL\": 43.3, \"DichteS\": 84.2}, {\"RaumKategorie\": \"Stadtquartier\", \"RaumSort\": 34, \"RaumLang\": \"Sihlfeld\", \"StichtagDatJahr\": \"2009-01-01T00:00:00\", \"AnzBestWir\": 20464, \"FlaecheT\": 163.8, \"FlaecheL\": 163.0, \"FlaecheS\": 95.7, \"DichteT\": 124.9, \"DichteL\": 125.6, \"DichteS\": 213.9}, {\"RaumKategorie\": \"Stadtquartier\", \"RaumSort\": 34, \"RaumLang\": \"Sihlfeld\", \"StichtagDatJahr\": \"2010-01-01T00:00:00\", \"AnzBestWir\": 20115, \"FlaecheT\": 163.8, \"FlaecheL\": 163.0, \"FlaecheS\": 95.7, \"DichteT\": 122.8, \"DichteL\": 123.4, \"DichteS\": 210.2}, {\"RaumKategorie\": \"Stadtquartier\", \"RaumSort\": 34, \"RaumLang\": \"Sihlfeld\", \"StichtagDatJahr\": \"2011-01-01T00:00:00\", \"AnzBestWir\": 20307, \"FlaecheT\": 163.7, \"FlaecheL\": 162.9, \"FlaecheS\": 95.7, \"DichteT\": 124.0, \"DichteL\": 124.7, \"DichteS\": 212.2}, {\"RaumKategorie\": \"Stadtquartier\", \"RaumSort\": 34, \"RaumLang\": \"Sihlfeld\", \"StichtagDatJahr\": \"2012-01-01T00:00:00\", \"AnzBestWir\": 20831, \"FlaecheT\": 163.8, \"FlaecheL\": 163.0, \"FlaecheS\": 95.7, \"DichteT\": 127.1, \"DichteL\": 127.8, \"DichteS\": 217.8}, {\"RaumKategorie\": \"Stadtquartier\", \"RaumSort\": 34, \"RaumLang\": \"Sihlfeld\", \"StichtagDatJahr\": \"2013-01-01T00:00:00\", \"AnzBestWir\": 20931, \"FlaecheT\": 165.3, \"FlaecheL\": 164.5, \"FlaecheS\": 95.8, \"DichteT\": 126.6, \"DichteL\": 127.3, \"DichteS\": 218.6}, {\"RaumKategorie\": \"Stadtquartier\", \"RaumSort\": 34, \"RaumLang\": \"Sihlfeld\", \"StichtagDatJahr\": \"2014-01-01T00:00:00\", \"AnzBestWir\": 21195, \"FlaecheT\": 164.8, \"FlaecheL\": 164.0, \"FlaecheS\": 95.8, \"DichteT\": 128.6, \"DichteL\": 129.3, \"DichteS\": 221.3}, {\"RaumKategorie\": \"Stadtquartier\", \"RaumSort\": 34, \"RaumLang\": \"Sihlfeld\", \"StichtagDatJahr\": \"2015-01-01T00:00:00\", \"AnzBestWir\": 21339, \"FlaecheT\": 166.1, \"FlaecheL\": 165.3, \"FlaecheS\": 96.5, \"DichteT\": 128.5, \"DichteL\": 129.1, \"DichteS\": 221.0}, {\"RaumKategorie\": \"Stadtquartier\", \"RaumSort\": 34, \"RaumLang\": \"Sihlfeld\", \"StichtagDatJahr\": \"2016-01-01T00:00:00\", \"AnzBestWir\": 21177, \"FlaecheT\": 166.1, \"FlaecheL\": 165.3, \"FlaecheS\": 95.8, \"DichteT\": 127.5, \"DichteL\": 128.1, \"DichteS\": 221.1}, {\"RaumKategorie\": \"Stadtquartier\", \"RaumSort\": 34, \"RaumLang\": \"Sihlfeld\", \"StichtagDatJahr\": \"2017-01-01T00:00:00\", \"AnzBestWir\": 21660, \"FlaecheT\": 166.1, \"FlaecheL\": 165.3, \"FlaecheS\": 96.9, \"DichteT\": 130.4, \"DichteL\": 131.0, \"DichteS\": 223.5}, {\"RaumKategorie\": \"Stadtquartier\", \"RaumSort\": 34, \"RaumLang\": \"Sihlfeld\", \"StichtagDatJahr\": \"2018-01-01T00:00:00\", \"AnzBestWir\": 21680, \"FlaecheT\": 166.1, \"FlaecheL\": 165.4, \"FlaecheS\": 96.9, \"DichteT\": 130.5, \"DichteL\": 131.1, \"DichteS\": 223.8}, {\"RaumKategorie\": \"Stadtquartier\", \"RaumSort\": 34, \"RaumLang\": \"Sihlfeld\", \"StichtagDatJahr\": \"2019-01-01T00:00:00\", \"AnzBestWir\": 22141, \"FlaecheT\": 166.1, \"FlaecheL\": 165.4, \"FlaecheS\": 96.3, \"DichteT\": 133.3, \"DichteL\": 133.9, \"DichteS\": 229.9}, {\"RaumKategorie\": \"Stadtquartier\", \"RaumSort\": 34, \"RaumLang\": \"Sihlfeld\", \"StichtagDatJahr\": \"2020-01-01T00:00:00\", \"AnzBestWir\": 21921, \"FlaecheT\": 166.1, \"FlaecheL\": 165.4, \"FlaecheS\": 96.3, \"DichteT\": 132.0, \"DichteL\": 132.6, \"DichteS\": 227.7}, {\"RaumKategorie\": \"Stadtquartier\", \"RaumSort\": 41, \"RaumLang\": \"Werd\", \"StichtagDatJahr\": \"2009-01-01T00:00:00\", \"AnzBestWir\": 4104, \"FlaecheT\": 29.9, \"FlaecheL\": 28.5, \"FlaecheS\": 17.9, \"DichteT\": 137.2, \"DichteL\": 144.0, \"DichteS\": 229.5}, {\"RaumKategorie\": \"Stadtquartier\", \"RaumSort\": 41, \"RaumLang\": \"Werd\", \"StichtagDatJahr\": \"2010-01-01T00:00:00\", \"AnzBestWir\": 4167, \"FlaecheT\": 29.9, \"FlaecheL\": 28.5, \"FlaecheS\": 17.8, \"DichteT\": 139.4, \"DichteL\": 146.2, \"DichteS\": 233.6}, {\"RaumKategorie\": \"Stadtquartier\", \"RaumSort\": 41, \"RaumLang\": \"Werd\", \"StichtagDatJahr\": \"2011-01-01T00:00:00\", \"AnzBestWir\": 4189, \"FlaecheT\": 29.9, \"FlaecheL\": 28.5, \"FlaecheS\": 17.8, \"DichteT\": 140.1, \"DichteL\": 147.0, \"DichteS\": 234.8}, {\"RaumKategorie\": \"Stadtquartier\", \"RaumSort\": 41, \"RaumLang\": \"Werd\", \"StichtagDatJahr\": \"2012-01-01T00:00:00\", \"AnzBestWir\": 4195, \"FlaecheT\": 29.9, \"FlaecheL\": 28.5, \"FlaecheS\": 17.9, \"DichteT\": 140.3, \"DichteL\": 147.2, \"DichteS\": 234.2}, {\"RaumKategorie\": \"Stadtquartier\", \"RaumSort\": 41, \"RaumLang\": \"Werd\", \"StichtagDatJahr\": \"2013-01-01T00:00:00\", \"AnzBestWir\": 4188, \"FlaecheT\": 29.9, \"FlaecheL\": 28.5, \"FlaecheS\": 17.9, \"DichteT\": 140.1, \"DichteL\": 146.9, \"DichteS\": 233.8}, {\"RaumKategorie\": \"Stadtquartier\", \"RaumSort\": 41, \"RaumLang\": \"Werd\", \"StichtagDatJahr\": \"2014-01-01T00:00:00\", \"AnzBestWir\": 4428, \"FlaecheT\": 30.2, \"FlaecheL\": 28.5, \"FlaecheS\": 17.9, \"DichteT\": 146.4, \"DichteL\": 155.5, \"DichteS\": 247.8}, {\"RaumKategorie\": \"Stadtquartier\", \"RaumSort\": 41, \"RaumLang\": \"Werd\", \"StichtagDatJahr\": \"2015-01-01T00:00:00\", \"AnzBestWir\": 4460, \"FlaecheT\": 30.2, \"FlaecheL\": 28.3, \"FlaecheS\": 18.4, \"DichteT\": 147.5, \"DichteL\": 157.8, \"DichteS\": 242.2}, {\"RaumKategorie\": \"Stadtquartier\", \"RaumSort\": 41, \"RaumLang\": \"Werd\", \"StichtagDatJahr\": \"2016-01-01T00:00:00\", \"AnzBestWir\": 4594, \"FlaecheT\": 30.2, \"FlaecheL\": 28.3, \"FlaecheS\": 18.4, \"DichteT\": 151.9, \"DichteL\": 162.5, \"DichteS\": 250.1}, {\"RaumKategorie\": \"Stadtquartier\", \"RaumSort\": 41, \"RaumLang\": \"Werd\", \"StichtagDatJahr\": \"2017-01-01T00:00:00\", \"AnzBestWir\": 4574, \"FlaecheT\": 30.2, \"FlaecheL\": 28.3, \"FlaecheS\": 18.4, \"DichteT\": 151.3, \"DichteL\": 161.8, \"DichteS\": 249.0}, {\"RaumKategorie\": \"Stadtquartier\", \"RaumSort\": 41, \"RaumLang\": \"Werd\", \"StichtagDatJahr\": \"2018-01-01T00:00:00\", \"AnzBestWir\": 4455, \"FlaecheT\": 30.2, \"FlaecheL\": 28.3, \"FlaecheS\": 18.4, \"DichteT\": 147.3, \"DichteL\": 157.6, \"DichteS\": 242.7}, {\"RaumKategorie\": \"Stadtquartier\", \"RaumSort\": 41, \"RaumLang\": \"Werd\", \"StichtagDatJahr\": \"2019-01-01T00:00:00\", \"AnzBestWir\": 4455, \"FlaecheT\": 30.2, \"FlaecheL\": 28.3, \"FlaecheS\": 18.4, \"DichteT\": 147.3, \"DichteL\": 157.6, \"DichteS\": 242.6}, {\"RaumKategorie\": \"Stadtquartier\", \"RaumSort\": 41, \"RaumLang\": \"Werd\", \"StichtagDatJahr\": \"2020-01-01T00:00:00\", \"AnzBestWir\": 4570, \"FlaecheT\": 30.2, \"FlaecheL\": 28.3, \"FlaecheS\": 18.5, \"DichteT\": 151.1, \"DichteL\": 161.7, \"DichteS\": 247.2}, {\"RaumKategorie\": \"Stadtquartier\", \"RaumSort\": 42, \"RaumLang\": \"Langstrasse\", \"StichtagDatJahr\": \"2009-01-01T00:00:00\", \"AnzBestWir\": 10392, \"FlaecheT\": 113.4, \"FlaecheL\": 110.9, \"FlaecheS\": 54.2, \"DichteT\": 91.6, \"DichteL\": 93.7, \"DichteS\": 191.8}, {\"RaumKategorie\": \"Stadtquartier\", \"RaumSort\": 42, \"RaumLang\": \"Langstrasse\", \"StichtagDatJahr\": \"2010-01-01T00:00:00\", \"AnzBestWir\": 10379, \"FlaecheT\": 113.4, \"FlaecheL\": 110.9, \"FlaecheS\": 54.2, \"DichteT\": 91.5, \"DichteL\": 93.6, \"DichteS\": 191.4}, {\"RaumKategorie\": \"Stadtquartier\", \"RaumSort\": 42, \"RaumLang\": \"Langstrasse\", \"StichtagDatJahr\": \"2011-01-01T00:00:00\", \"AnzBestWir\": 10520, \"FlaecheT\": 111.3, \"FlaecheL\": 110.9, \"FlaecheS\": 54.6, \"DichteT\": 94.5, \"DichteL\": 94.8, \"DichteS\": 192.8}, {\"RaumKategorie\": \"Stadtquartier\", \"RaumSort\": 42, \"RaumLang\": \"Langstrasse\", \"StichtagDatJahr\": \"2012-01-01T00:00:00\", \"AnzBestWir\": 10560, \"FlaecheT\": 113.8, \"FlaecheL\": 111.3, \"FlaecheS\": 55.1, \"DichteT\": 92.8, \"DichteL\": 94.9, \"DichteS\": 191.6}, {\"RaumKategorie\": \"Stadtquartier\", \"RaumSort\": 42, \"RaumLang\": \"Langstrasse\", \"StichtagDatJahr\": \"2013-01-01T00:00:00\", \"AnzBestWir\": 10686, \"FlaecheT\": 113.8, \"FlaecheL\": 111.3, \"FlaecheS\": 55.1, \"DichteT\": 93.9, \"DichteL\": 96.0, \"DichteS\": 193.9}, {\"RaumKategorie\": \"Stadtquartier\", \"RaumSort\": 42, \"RaumLang\": \"Langstrasse\", \"StichtagDatJahr\": \"2014-01-01T00:00:00\", \"AnzBestWir\": 10985, \"FlaecheT\": 113.4, \"FlaecheL\": 111.3, \"FlaecheS\": 54.1, \"DichteT\": 96.8, \"DichteL\": 98.7, \"DichteS\": 203.0}, {\"RaumKategorie\": \"Stadtquartier\", \"RaumSort\": 42, \"RaumLang\": \"Langstrasse\", \"StichtagDatJahr\": \"2015-01-01T00:00:00\", \"AnzBestWir\": 11169, \"FlaecheT\": 121.5, \"FlaecheL\": 119.4, \"FlaecheS\": 56.1, \"DichteT\": 91.9, \"DichteL\": 93.5, \"DichteS\": 199.2}, {\"RaumKategorie\": \"Stadtquartier\", \"RaumSort\": 42, \"RaumLang\": \"Langstrasse\", \"StichtagDatJahr\": \"2016-01-01T00:00:00\", \"AnzBestWir\": 11145, \"FlaecheT\": 121.5, \"FlaecheL\": 119.4, \"FlaecheS\": 56.0, \"DichteT\": 91.7, \"DichteL\": 93.3, \"DichteS\": 199.1}, {\"RaumKategorie\": \"Stadtquartier\", \"RaumSort\": 42, \"RaumLang\": \"Langstrasse\", \"StichtagDatJahr\": \"2017-01-01T00:00:00\", \"AnzBestWir\": 11144, \"FlaecheT\": 121.2, \"FlaecheL\": 119.1, \"FlaecheS\": 56.3, \"DichteT\": 92.0, \"DichteL\": 93.6, \"DichteS\": 197.9}, {\"RaumKategorie\": \"Stadtquartier\", \"RaumSort\": 42, \"RaumLang\": \"Langstrasse\", \"StichtagDatJahr\": \"2018-01-01T00:00:00\", \"AnzBestWir\": 11111, \"FlaecheT\": 121.2, \"FlaecheL\": 119.1, \"FlaecheS\": 56.3, \"DichteT\": 91.7, \"DichteL\": 93.3, \"DichteS\": 197.3}, {\"RaumKategorie\": \"Stadtquartier\", \"RaumSort\": 42, \"RaumLang\": \"Langstrasse\", \"StichtagDatJahr\": \"2019-01-01T00:00:00\", \"AnzBestWir\": 11853, \"FlaecheT\": 121.2, \"FlaecheL\": 119.1, \"FlaecheS\": 56.3, \"DichteT\": 97.8, \"DichteL\": 99.6, \"DichteS\": 210.5}, {\"RaumKategorie\": \"Stadtquartier\", \"RaumSort\": 42, \"RaumLang\": \"Langstrasse\", \"StichtagDatJahr\": \"2020-01-01T00:00:00\", \"AnzBestWir\": 11910, \"FlaecheT\": 121.2, \"FlaecheL\": 119.1, \"FlaecheS\": 55.7, \"DichteT\": 98.3, \"DichteL\": 100.0, \"DichteS\": 213.9}, {\"RaumKategorie\": \"Stadtquartier\", \"RaumSort\": 44, \"RaumLang\": \"Hard\", \"StichtagDatJahr\": \"2009-01-01T00:00:00\", \"AnzBestWir\": 12902, \"FlaecheT\": 136.7, \"FlaecheL\": 136.7, \"FlaecheS\": 77.1, \"DichteT\": 94.4, \"DichteL\": 94.4, \"DichteS\": 167.3}, {\"RaumKategorie\": \"Stadtquartier\", \"RaumSort\": 44, \"RaumLang\": \"Hard\", \"StichtagDatJahr\": \"2010-01-01T00:00:00\", \"AnzBestWir\": 12883, \"FlaecheT\": 136.7, \"FlaecheL\": 136.7, \"FlaecheS\": 77.1, \"DichteT\": 94.2, \"DichteL\": 94.2, \"DichteS\": 167.1}, {\"RaumKategorie\": \"Stadtquartier\", \"RaumSort\": 44, \"RaumLang\": \"Hard\", \"StichtagDatJahr\": \"2011-01-01T00:00:00\", \"AnzBestWir\": 12744, \"FlaecheT\": 139.7, \"FlaecheL\": 139.7, \"FlaecheS\": 79.7, \"DichteT\": 91.2, \"DichteL\": 91.2, \"DichteS\": 159.8}, {\"RaumKategorie\": \"Stadtquartier\", \"RaumSort\": 44, \"RaumLang\": \"Hard\", \"StichtagDatJahr\": \"2012-01-01T00:00:00\", \"AnzBestWir\": 12994, \"FlaecheT\": 147.2, \"FlaecheL\": 147.2, \"FlaecheS\": 78.8, \"DichteT\": 88.2, \"DichteL\": 88.2, \"DichteS\": 164.9}, {\"RaumKategorie\": \"Stadtquartier\", \"RaumSort\": 44, \"RaumLang\": \"Hard\", \"StichtagDatJahr\": \"2013-01-01T00:00:00\", \"AnzBestWir\": 13241, \"FlaecheT\": 147.2, \"FlaecheL\": 147.2, \"FlaecheS\": 79.1, \"DichteT\": 89.9, \"DichteL\": 89.9, \"DichteS\": 167.4}, {\"RaumKategorie\": \"Stadtquartier\", \"RaumSort\": 44, \"RaumLang\": \"Hard\", \"StichtagDatJahr\": \"2014-01-01T00:00:00\", \"AnzBestWir\": 13232, \"FlaecheT\": 147.2, \"FlaecheL\": 147.2, \"FlaecheS\": 80.6, \"DichteT\": 89.9, \"DichteL\": 89.9, \"DichteS\": 164.2}, {\"RaumKategorie\": \"Stadtquartier\", \"RaumSort\": 44, \"RaumLang\": \"Hard\", \"StichtagDatJahr\": \"2015-01-01T00:00:00\", \"AnzBestWir\": 13072, \"FlaecheT\": 139.1, \"FlaecheL\": 139.1, \"FlaecheS\": 78.3, \"DichteT\": 93.9, \"DichteL\": 93.9, \"DichteS\": 167.0}, {\"RaumKategorie\": \"Stadtquartier\", \"RaumSort\": 44, \"RaumLang\": \"Hard\", \"StichtagDatJahr\": \"2016-01-01T00:00:00\", \"AnzBestWir\": 12891, \"FlaecheT\": 139.1, \"FlaecheL\": 139.1, \"FlaecheS\": 77.6, \"DichteT\": 92.6, \"DichteL\": 92.6, \"DichteS\": 166.1}, {\"RaumKategorie\": \"Stadtquartier\", \"RaumSort\": 44, \"RaumLang\": \"Hard\", \"StichtagDatJahr\": \"2017-01-01T00:00:00\", \"AnzBestWir\": 13057, \"FlaecheT\": 139.1, \"FlaecheL\": 139.1, \"FlaecheS\": 78.4, \"DichteT\": 93.8, \"DichteL\": 93.8, \"DichteS\": 166.5}, {\"RaumKategorie\": \"Stadtquartier\", \"RaumSort\": 44, \"RaumLang\": \"Hard\", \"StichtagDatJahr\": \"2018-01-01T00:00:00\", \"AnzBestWir\": 13163, \"FlaecheT\": 139.1, \"FlaecheL\": 139.1, \"FlaecheS\": 78.5, \"DichteT\": 94.6, \"DichteL\": 94.6, \"DichteS\": 167.7}, {\"RaumKategorie\": \"Stadtquartier\", \"RaumSort\": 44, \"RaumLang\": \"Hard\", \"StichtagDatJahr\": \"2019-01-01T00:00:00\", \"AnzBestWir\": 13060, \"FlaecheT\": 139.1, \"FlaecheL\": 139.1, \"FlaecheS\": 79.9, \"DichteT\": 93.9, \"DichteL\": 93.9, \"DichteS\": 163.4}, {\"RaumKategorie\": \"Stadtquartier\", \"RaumSort\": 44, \"RaumLang\": \"Hard\", \"StichtagDatJahr\": \"2020-01-01T00:00:00\", \"AnzBestWir\": 12554, \"FlaecheT\": 139.1, \"FlaecheL\": 139.1, \"FlaecheS\": 79.9, \"DichteT\": 90.2, \"DichteL\": 90.2, \"DichteS\": 157.1}, {\"RaumKategorie\": \"Stadtquartier\", \"RaumSort\": 51, \"RaumLang\": \"Gewerbeschule\", \"StichtagDatJahr\": \"2009-01-01T00:00:00\", \"AnzBestWir\": 9717, \"FlaecheT\": 74.3, \"FlaecheL\": 67.6, \"FlaecheS\": 43.1, \"DichteT\": 130.8, \"DichteL\": 143.7, \"DichteS\": 225.6}, {\"RaumKategorie\": \"Stadtquartier\", \"RaumSort\": 51, \"RaumLang\": \"Gewerbeschule\", \"StichtagDatJahr\": \"2010-01-01T00:00:00\", \"AnzBestWir\": 9688, \"FlaecheT\": 74.3, \"FlaecheL\": 67.6, \"FlaecheS\": 43.1, \"DichteT\": 130.4, \"DichteL\": 143.2, \"DichteS\": 224.9}, {\"RaumKategorie\": \"Stadtquartier\", \"RaumSort\": 51, \"RaumLang\": \"Gewerbeschule\", \"StichtagDatJahr\": \"2011-01-01T00:00:00\", \"AnzBestWir\": 9795, \"FlaecheT\": 74.3, \"FlaecheL\": 67.6, \"FlaecheS\": 43.1, \"DichteT\": 131.8, \"DichteL\": 144.8, \"DichteS\": 227.5}, {\"RaumKategorie\": \"Stadtquartier\", \"RaumSort\": 51, \"RaumLang\": \"Gewerbeschule\", \"StichtagDatJahr\": \"2012-01-01T00:00:00\", \"AnzBestWir\": 9824, \"FlaecheT\": 73.9, \"FlaecheL\": 67.3, \"FlaecheS\": 42.8, \"DichteT\": 132.9, \"DichteL\": 146.0, \"DichteS\": 229.4}, {\"RaumKategorie\": \"Stadtquartier\", \"RaumSort\": 51, \"RaumLang\": \"Gewerbeschule\", \"StichtagDatJahr\": \"2013-01-01T00:00:00\", \"AnzBestWir\": 9626, \"FlaecheT\": 73.9, \"FlaecheL\": 67.3, \"FlaecheS\": 42.8, \"DichteT\": 130.2, \"DichteL\": 143.1, \"DichteS\": 225.1}, {\"RaumKategorie\": \"Stadtquartier\", \"RaumSort\": 51, \"RaumLang\": \"Gewerbeschule\", \"StichtagDatJahr\": \"2014-01-01T00:00:00\", \"AnzBestWir\": 9539, \"FlaecheT\": 72.7, \"FlaecheL\": 67.9, \"FlaecheS\": 43.0, \"DichteT\": 131.3, \"DichteL\": 140.5, \"DichteS\": 221.8}, {\"RaumKategorie\": \"Stadtquartier\", \"RaumSort\": 51, \"RaumLang\": \"Gewerbeschule\", \"StichtagDatJahr\": \"2015-01-01T00:00:00\", \"AnzBestWir\": 9608, \"FlaecheT\": 72.7, \"FlaecheL\": 67.8, \"FlaecheS\": 42.9, \"DichteT\": 132.2, \"DichteL\": 141.7, \"DichteS\": 224.2}, {\"RaumKategorie\": \"Stadtquartier\", \"RaumSort\": 51, \"RaumLang\": \"Gewerbeschule\", \"StichtagDatJahr\": \"2016-01-01T00:00:00\", \"AnzBestWir\": 9598, \"FlaecheT\": 72.7, \"FlaecheL\": 67.8, \"FlaecheS\": 42.9, \"DichteT\": 132.1, \"DichteL\": 141.6, \"DichteS\": 223.9}, {\"RaumKategorie\": \"Stadtquartier\", \"RaumSort\": 51, \"RaumLang\": \"Gewerbeschule\", \"StichtagDatJahr\": \"2017-01-01T00:00:00\", \"AnzBestWir\": 9578, \"FlaecheT\": 73.0, \"FlaecheL\": 68.2, \"FlaecheS\": 43.0, \"DichteT\": 131.2, \"DichteL\": 140.5, \"DichteS\": 222.5}, {\"RaumKategorie\": \"Stadtquartier\", \"RaumSort\": 51, \"RaumLang\": \"Gewerbeschule\", \"StichtagDatJahr\": \"2018-01-01T00:00:00\", \"AnzBestWir\": 9513, \"FlaecheT\": 73.0, \"FlaecheL\": 68.0, \"FlaecheS\": 43.0, \"DichteT\": 130.3, \"DichteL\": 139.9, \"DichteS\": 221.3}, {\"RaumKategorie\": \"Stadtquartier\", \"RaumSort\": 51, \"RaumLang\": \"Gewerbeschule\", \"StichtagDatJahr\": \"2019-01-01T00:00:00\", \"AnzBestWir\": 9562, \"FlaecheT\": 73.0, \"FlaecheL\": 68.0, \"FlaecheS\": 43.0, \"DichteT\": 130.9, \"DichteL\": 140.7, \"DichteS\": 222.4}, {\"RaumKategorie\": \"Stadtquartier\", \"RaumSort\": 51, \"RaumLang\": \"Gewerbeschule\", \"StichtagDatJahr\": \"2020-01-01T00:00:00\", \"AnzBestWir\": 9424, \"FlaecheT\": 73.0, \"FlaecheL\": 68.0, \"FlaecheS\": 42.8, \"DichteT\": 129.0, \"DichteL\": 138.6, \"DichteS\": 220.3}, {\"RaumKategorie\": \"Stadtquartier\", \"RaumSort\": 52, \"RaumLang\": \"Escher Wyss\", \"StichtagDatJahr\": \"2009-01-01T00:00:00\", \"AnzBestWir\": 3060, \"FlaecheT\": 134.6, \"FlaecheL\": 129.6, \"FlaecheS\": 92.5, \"DichteT\": 22.7, \"DichteL\": 23.6, \"DichteS\": 33.1}, {\"RaumKategorie\": \"Stadtquartier\", \"RaumSort\": 52, \"RaumLang\": \"Escher Wyss\", \"StichtagDatJahr\": \"2010-01-01T00:00:00\", \"AnzBestWir\": 3076, \"FlaecheT\": 134.6, \"FlaecheL\": 129.6, \"FlaecheS\": 92.5, \"DichteT\": 22.9, \"DichteL\": 23.7, \"DichteS\": 33.2}, {\"RaumKategorie\": \"Stadtquartier\", \"RaumSort\": 52, \"RaumLang\": \"Escher Wyss\", \"StichtagDatJahr\": \"2011-01-01T00:00:00\", \"AnzBestWir\": 3129, \"FlaecheT\": 134.6, \"FlaecheL\": 129.6, \"FlaecheS\": 92.6, \"DichteT\": 23.2, \"DichteL\": 24.1, \"DichteS\": 33.8}, {\"RaumKategorie\": \"Stadtquartier\", \"RaumSort\": 52, \"RaumLang\": \"Escher Wyss\", \"StichtagDatJahr\": \"2012-01-01T00:00:00\", \"AnzBestWir\": 3343, \"FlaecheT\": 125.4, \"FlaecheL\": 120.6, \"FlaecheS\": 89.8, \"DichteT\": 26.7, \"DichteL\": 27.7, \"DichteS\": 37.2}, {\"RaumKategorie\": \"Stadtquartier\", \"RaumSort\": 52, \"RaumLang\": \"Escher Wyss\", \"StichtagDatJahr\": \"2013-01-01T00:00:00\", \"AnzBestWir\": 4010, \"FlaecheT\": 125.4, \"FlaecheL\": 120.6, \"FlaecheS\": 89.8, \"DichteT\": 32.0, \"DichteL\": 33.2, \"DichteS\": 44.6}, {\"RaumKategorie\": \"Stadtquartier\", \"RaumSort\": 52, \"RaumLang\": \"Escher Wyss\", \"StichtagDatJahr\": \"2014-01-01T00:00:00\", \"AnzBestWir\": 4604, \"FlaecheT\": 126.6, \"FlaecheL\": 120.0, \"FlaecheS\": 89.7, \"DichteT\": 36.4, \"DichteL\": 38.4, \"DichteS\": 51.3}, {\"RaumKategorie\": \"Stadtquartier\", \"RaumSort\": 52, \"RaumLang\": \"Escher Wyss\", \"StichtagDatJahr\": \"2015-01-01T00:00:00\", \"AnzBestWir\": 5457, \"FlaecheT\": 126.6, \"FlaecheL\": 119.6, \"FlaecheS\": 89.6, \"DichteT\": 43.1, \"DichteL\": 45.6, \"DichteS\": 60.9}, {\"RaumKategorie\": \"Stadtquartier\", \"RaumSort\": 52, \"RaumLang\": \"Escher Wyss\", \"StichtagDatJahr\": \"2016-01-01T00:00:00\", \"AnzBestWir\": 5825, \"FlaecheT\": 126.6, \"FlaecheL\": 119.4, \"FlaecheS\": 89.5, \"DichteT\": 46.0, \"DichteL\": 48.8, \"DichteS\": 65.1}, {\"RaumKategorie\": \"Stadtquartier\", \"RaumSort\": 52, \"RaumLang\": \"Escher Wyss\", \"StichtagDatJahr\": \"2017-01-01T00:00:00\", \"AnzBestWir\": 6088, \"FlaecheT\": 126.6, \"FlaecheL\": 119.4, \"FlaecheS\": 89.6, \"DichteT\": 48.1, \"DichteL\": 51.0, \"DichteS\": 68.0}, {\"RaumKategorie\": \"Stadtquartier\", \"RaumSort\": 52, \"RaumLang\": \"Escher Wyss\", \"StichtagDatJahr\": \"2018-01-01T00:00:00\", \"AnzBestWir\": 6066, \"FlaecheT\": 126.6, \"FlaecheL\": 119.4, \"FlaecheS\": 87.1, \"DichteT\": 47.9, \"DichteL\": 50.8, \"DichteS\": 69.6}, {\"RaumKategorie\": \"Stadtquartier\", \"RaumSort\": 52, \"RaumLang\": \"Escher Wyss\", \"StichtagDatJahr\": \"2019-01-01T00:00:00\", \"AnzBestWir\": 6188, \"FlaecheT\": 126.6, \"FlaecheL\": 119.4, \"FlaecheS\": 86.9, \"DichteT\": 48.9, \"DichteL\": 51.8, \"DichteS\": 71.2}, {\"RaumKategorie\": \"Stadtquartier\", \"RaumSort\": 52, \"RaumLang\": \"Escher Wyss\", \"StichtagDatJahr\": \"2020-01-01T00:00:00\", \"AnzBestWir\": 6198, \"FlaecheT\": 126.6, \"FlaecheL\": 119.4, \"FlaecheS\": 85.9, \"DichteT\": 48.9, \"DichteL\": 51.9, \"DichteS\": 72.1}, {\"RaumKategorie\": \"Stadtquartier\", \"RaumSort\": 61, \"RaumLang\": \"Unterstrass\", \"StichtagDatJahr\": \"2009-01-01T00:00:00\", \"AnzBestWir\": 21080, \"FlaecheT\": 247.7, \"FlaecheL\": 243.2, \"FlaecheS\": 150.4, \"DichteT\": 85.1, \"DichteL\": 86.7, \"DichteS\": 140.1}, {\"RaumKategorie\": \"Stadtquartier\", \"RaumSort\": 61, \"RaumLang\": \"Unterstrass\", \"StichtagDatJahr\": \"2010-01-01T00:00:00\", \"AnzBestWir\": 21233, \"FlaecheT\": 247.8, \"FlaecheL\": 243.3, \"FlaecheS\": 150.5, \"DichteT\": 85.7, \"DichteL\": 87.3, \"DichteS\": 141.1}, {\"RaumKategorie\": \"Stadtquartier\", \"RaumSort\": 61, \"RaumLang\": \"Unterstrass\", \"StichtagDatJahr\": \"2011-01-01T00:00:00\", \"AnzBestWir\": 21240, \"FlaecheT\": 244.6, \"FlaecheL\": 240.1, \"FlaecheS\": 148.2, \"DichteT\": 86.8, \"DichteL\": 88.5, \"DichteS\": 143.4}, {\"RaumKategorie\": \"Stadtquartier\", \"RaumSort\": 61, \"RaumLang\": \"Unterstrass\", \"StichtagDatJahr\": \"2012-01-01T00:00:00\", \"AnzBestWir\": 21442, \"FlaecheT\": 246.6, \"FlaecheL\": 242.1, \"FlaecheS\": 150.6, \"DichteT\": 86.9, \"DichteL\": 88.6, \"DichteS\": 142.4}, {\"RaumKategorie\": \"Stadtquartier\", \"RaumSort\": 61, \"RaumLang\": \"Unterstrass\", \"StichtagDatJahr\": \"2013-01-01T00:00:00\", \"AnzBestWir\": 21876, \"FlaecheT\": 246.6, \"FlaecheL\": 242.1, \"FlaecheS\": 152.4, \"DichteT\": 88.7, \"DichteL\": 90.3, \"DichteS\": 143.5}, {\"RaumKategorie\": \"Stadtquartier\", \"RaumSort\": 61, \"RaumLang\": \"Unterstrass\", \"StichtagDatJahr\": \"2014-01-01T00:00:00\", \"AnzBestWir\": 22126, \"FlaecheT\": 246.6, \"FlaecheL\": 242.1, \"FlaecheS\": 152.4, \"DichteT\": 89.7, \"DichteL\": 91.4, \"DichteS\": 145.2}, {\"RaumKategorie\": \"Stadtquartier\", \"RaumSort\": 61, \"RaumLang\": \"Unterstrass\", \"StichtagDatJahr\": \"2015-01-01T00:00:00\", \"AnzBestWir\": 22226, \"FlaecheT\": 246.6, \"FlaecheL\": 241.5, \"FlaecheS\": 152.2, \"DichteT\": 90.1, \"DichteL\": 92.0, \"DichteS\": 146.0}, {\"RaumKategorie\": \"Stadtquartier\", \"RaumSort\": 61, \"RaumLang\": \"Unterstrass\", \"StichtagDatJahr\": \"2016-01-01T00:00:00\", \"AnzBestWir\": 22476, \"FlaecheT\": 246.6, \"FlaecheL\": 241.3, \"FlaecheS\": 153.3, \"DichteT\": 91.1, \"DichteL\": 93.1, \"DichteS\": 146.6}, {\"RaumKategorie\": \"Stadtquartier\", \"RaumSort\": 61, \"RaumLang\": \"Unterstrass\", \"StichtagDatJahr\": \"2017-01-01T00:00:00\", \"AnzBestWir\": 22768, \"FlaecheT\": 246.6, \"FlaecheL\": 241.3, \"FlaecheS\": 153.3, \"DichteT\": 92.3, \"DichteL\": 94.3, \"DichteS\": 148.5}, {\"RaumKategorie\": \"Stadtquartier\", \"RaumSort\": 61, \"RaumLang\": \"Unterstrass\", \"StichtagDatJahr\": \"2018-01-01T00:00:00\", \"AnzBestWir\": 23394, \"FlaecheT\": 246.6, \"FlaecheL\": 241.3, \"FlaecheS\": 153.7, \"DichteT\": 94.9, \"DichteL\": 96.9, \"DichteS\": 152.2}, {\"RaumKategorie\": \"Stadtquartier\", \"RaumSort\": 61, \"RaumLang\": \"Unterstrass\", \"StichtagDatJahr\": \"2019-01-01T00:00:00\", \"AnzBestWir\": 23971, \"FlaecheT\": 246.6, \"FlaecheL\": 241.3, \"FlaecheS\": 153.7, \"DichteT\": 97.2, \"DichteL\": 99.3, \"DichteS\": 155.9}, {\"RaumKategorie\": \"Stadtquartier\", \"RaumSort\": 61, \"RaumLang\": \"Unterstrass\", \"StichtagDatJahr\": \"2020-01-01T00:00:00\", \"AnzBestWir\": 24493, \"FlaecheT\": 246.6, \"FlaecheL\": 241.3, \"FlaecheS\": 153.6, \"DichteT\": 99.3, \"DichteL\": 101.5, \"DichteS\": 159.5}, {\"RaumKategorie\": \"Stadtquartier\", \"RaumSort\": 63, \"RaumLang\": \"Oberstrass\", \"StichtagDatJahr\": \"2009-01-01T00:00:00\", \"AnzBestWir\": 10051, \"FlaecheT\": 263.5, \"FlaecheL\": 161.7, \"FlaecheS\": 113.5, \"DichteT\": 38.1, \"DichteL\": 62.2, \"DichteS\": 88.6}, {\"RaumKategorie\": \"Stadtquartier\", \"RaumSort\": 63, \"RaumLang\": \"Oberstrass\", \"StichtagDatJahr\": \"2010-01-01T00:00:00\", \"AnzBestWir\": 10231, \"FlaecheT\": 263.5, \"FlaecheL\": 161.7, \"FlaecheS\": 113.5, \"DichteT\": 38.8, \"DichteL\": 63.3, \"DichteS\": 90.1}, {\"RaumKategorie\": \"Stadtquartier\", \"RaumSort\": 63, \"RaumLang\": \"Oberstrass\", \"StichtagDatJahr\": \"2011-01-01T00:00:00\", \"AnzBestWir\": 10316, \"FlaecheT\": 263.5, \"FlaecheL\": 161.7, \"FlaecheS\": 113.5, \"DichteT\": 39.1, \"DichteL\": 63.8, \"DichteS\": 90.9}, {\"RaumKategorie\": \"Stadtquartier\", \"RaumSort\": 63, \"RaumLang\": \"Oberstrass\", \"StichtagDatJahr\": \"2012-01-01T00:00:00\", \"AnzBestWir\": 10308, \"FlaecheT\": 263.5, \"FlaecheL\": 161.7, \"FlaecheS\": 113.7, \"DichteT\": 39.1, \"DichteL\": 63.7, \"DichteS\": 90.7}, {\"RaumKategorie\": \"Stadtquartier\", \"RaumSort\": 63, \"RaumLang\": \"Oberstrass\", \"StichtagDatJahr\": \"2013-01-01T00:00:00\", \"AnzBestWir\": 10452, \"FlaecheT\": 263.5, \"FlaecheL\": 161.7, \"FlaecheS\": 113.7, \"DichteT\": 39.7, \"DichteL\": 64.6, \"DichteS\": 91.9}, {\"RaumKategorie\": \"Stadtquartier\", \"RaumSort\": 63, \"RaumLang\": \"Oberstrass\", \"StichtagDatJahr\": \"2014-01-01T00:00:00\", \"AnzBestWir\": 10556, \"FlaecheT\": 263.5, \"FlaecheL\": 161.8, \"FlaecheS\": 113.7, \"DichteT\": 40.1, \"DichteL\": 65.3, \"DichteS\": 92.8}, {\"RaumKategorie\": \"Stadtquartier\", \"RaumSort\": 63, \"RaumLang\": \"Oberstrass\", \"StichtagDatJahr\": \"2015-01-01T00:00:00\", \"AnzBestWir\": 10641, \"FlaecheT\": 263.5, \"FlaecheL\": 161.5, \"FlaecheS\": 113.7, \"DichteT\": 40.4, \"DichteL\": 65.9, \"DichteS\": 93.6}, {\"RaumKategorie\": \"Stadtquartier\", \"RaumSort\": 63, \"RaumLang\": \"Oberstrass\", \"StichtagDatJahr\": \"2016-01-01T00:00:00\", \"AnzBestWir\": 10794, \"FlaecheT\": 263.5, \"FlaecheL\": 161.6, \"FlaecheS\": 113.2, \"DichteT\": 41.0, \"DichteL\": 66.8, \"DichteS\": 95.3}, {\"RaumKategorie\": \"Stadtquartier\", \"RaumSort\": 63, \"RaumLang\": \"Oberstrass\", \"StichtagDatJahr\": \"2017-01-01T00:00:00\", \"AnzBestWir\": 10846, \"FlaecheT\": 263.5, \"FlaecheL\": 160.3, \"FlaecheS\": 113.5, \"DichteT\": 41.2, \"DichteL\": 67.6, \"DichteS\": 95.6}, {\"RaumKategorie\": \"Stadtquartier\", \"RaumSort\": 63, \"RaumLang\": \"Oberstrass\", \"StichtagDatJahr\": \"2018-01-01T00:00:00\", \"AnzBestWir\": 10927, \"FlaecheT\": 263.5, \"FlaecheL\": 160.5, \"FlaecheS\": 113.5, \"DichteT\": 41.5, \"DichteL\": 68.1, \"DichteS\": 96.3}, {\"RaumKategorie\": \"Stadtquartier\", \"RaumSort\": 63, \"RaumLang\": \"Oberstrass\", \"StichtagDatJahr\": \"2019-01-01T00:00:00\", \"AnzBestWir\": 10823, \"FlaecheT\": 263.5, \"FlaecheL\": 160.5, \"FlaecheS\": 112.5, \"DichteT\": 41.1, \"DichteL\": 67.4, \"DichteS\": 96.2}, {\"RaumKategorie\": \"Stadtquartier\", \"RaumSort\": 63, \"RaumLang\": \"Oberstrass\", \"StichtagDatJahr\": \"2020-01-01T00:00:00\", \"AnzBestWir\": 10824, \"FlaecheT\": 263.5, \"FlaecheL\": 160.5, \"FlaecheS\": 112.5, \"DichteT\": 41.1, \"DichteL\": 67.5, \"DichteS\": 96.2}, {\"RaumKategorie\": \"Stadtquartier\", \"RaumSort\": 71, \"RaumLang\": \"Fluntern\", \"StichtagDatJahr\": \"2009-01-01T00:00:00\", \"AnzBestWir\": 7528, \"FlaecheT\": 284.4, \"FlaecheL\": 212.2, \"FlaecheS\": 138.1, \"DichteT\": 26.5, \"DichteL\": 35.5, \"DichteS\": 54.5}, {\"RaumKategorie\": \"Stadtquartier\", \"RaumSort\": 71, \"RaumLang\": \"Fluntern\", \"StichtagDatJahr\": \"2010-01-01T00:00:00\", \"AnzBestWir\": 7637, \"FlaecheT\": 284.4, \"FlaecheL\": 212.2, \"FlaecheS\": 138.1, \"DichteT\": 26.9, \"DichteL\": 36.0, \"DichteS\": 55.3}, {\"RaumKategorie\": \"Stadtquartier\", \"RaumSort\": 71, \"RaumLang\": \"Fluntern\", \"StichtagDatJahr\": \"2011-01-01T00:00:00\", \"AnzBestWir\": 7873, \"FlaecheT\": 282.9, \"FlaecheL\": 212.1, \"FlaecheS\": 138.1, \"DichteT\": 27.8, \"DichteL\": 37.1, \"DichteS\": 57.0}, {\"RaumKategorie\": \"Stadtquartier\", \"RaumSort\": 71, \"RaumLang\": \"Fluntern\", \"StichtagDatJahr\": \"2012-01-01T00:00:00\", \"AnzBestWir\": 7779, \"FlaecheT\": 284.4, \"FlaecheL\": 212.3, \"FlaecheS\": 141.0, \"DichteT\": 27.4, \"DichteL\": 36.6, \"DichteS\": 55.2}, {\"RaumKategorie\": \"Stadtquartier\", \"RaumSort\": 71, \"RaumLang\": \"Fluntern\", \"StichtagDatJahr\": \"2013-01-01T00:00:00\", \"AnzBestWir\": 7856, \"FlaecheT\": 284.4, \"FlaecheL\": 212.3, \"FlaecheS\": 141.0, \"DichteT\": 27.6, \"DichteL\": 37.0, \"DichteS\": 55.7}, {\"RaumKategorie\": \"Stadtquartier\", \"RaumSort\": 71, \"RaumLang\": \"Fluntern\", \"StichtagDatJahr\": \"2014-01-01T00:00:00\", \"AnzBestWir\": 7865, \"FlaecheT\": 284.4, \"FlaecheL\": 212.2, \"FlaecheS\": 141.4, \"DichteT\": 27.7, \"DichteL\": 37.1, \"DichteS\": 55.6}, {\"RaumKategorie\": \"Stadtquartier\", \"RaumSort\": 71, \"RaumLang\": \"Fluntern\", \"StichtagDatJahr\": \"2015-01-01T00:00:00\", \"AnzBestWir\": 7953, \"FlaecheT\": 284.4, \"FlaecheL\": 212.2, \"FlaecheS\": 142.1, \"DichteT\": 28.0, \"DichteL\": 37.5, \"DichteS\": 56.0}, {\"RaumKategorie\": \"Stadtquartier\", \"RaumSort\": 71, \"RaumLang\": \"Fluntern\", \"StichtagDatJahr\": \"2016-01-01T00:00:00\", \"AnzBestWir\": 8038, \"FlaecheT\": 284.4, \"FlaecheL\": 212.1, \"FlaecheS\": 142.4, \"DichteT\": 28.3, \"DichteL\": 37.9, \"DichteS\": 56.4}, {\"RaumKategorie\": \"Stadtquartier\", \"RaumSort\": 71, \"RaumLang\": \"Fluntern\", \"StichtagDatJahr\": \"2017-01-01T00:00:00\", \"AnzBestWir\": 8221, \"FlaecheT\": 284.4, \"FlaecheL\": 211.7, \"FlaecheS\": 142.4, \"DichteT\": 28.9, \"DichteL\": 38.8, \"DichteS\": 57.7}, {\"RaumKategorie\": \"Stadtquartier\", \"RaumSort\": 71, \"RaumLang\": \"Fluntern\", \"StichtagDatJahr\": \"2018-01-01T00:00:00\", \"AnzBestWir\": 8485, \"FlaecheT\": 284.4, \"FlaecheL\": 212.4, \"FlaecheS\": 145.3, \"DichteT\": 29.8, \"DichteL\": 39.9, \"DichteS\": 58.4}, {\"RaumKategorie\": \"Stadtquartier\", \"RaumSort\": 71, \"RaumLang\": \"Fluntern\", \"StichtagDatJahr\": \"2019-01-01T00:00:00\", \"AnzBestWir\": 8639, \"FlaecheT\": 284.4, \"FlaecheL\": 212.4, \"FlaecheS\": 143.5, \"DichteT\": 30.4, \"DichteL\": 40.7, \"DichteS\": 60.2}, {\"RaumKategorie\": \"Stadtquartier\", \"RaumSort\": 71, \"RaumLang\": \"Fluntern\", \"StichtagDatJahr\": \"2020-01-01T00:00:00\", \"AnzBestWir\": 8685, \"FlaecheT\": 284.4, \"FlaecheL\": 212.4, \"FlaecheS\": 143.5, \"DichteT\": 30.5, \"DichteL\": 40.9, \"DichteS\": 60.5}, {\"RaumKategorie\": \"Stadtquartier\", \"RaumSort\": 72, \"RaumLang\": \"Hottingen\", \"StichtagDatJahr\": \"2009-01-01T00:00:00\", \"AnzBestWir\": 10594, \"FlaecheT\": 505.3, \"FlaecheL\": 264.5, \"FlaecheS\": 136.4, \"DichteT\": 21.0, \"DichteL\": 40.1, \"DichteS\": 77.7}, {\"RaumKategorie\": \"Stadtquartier\", \"RaumSort\": 72, \"RaumLang\": \"Hottingen\", \"StichtagDatJahr\": \"2010-01-01T00:00:00\", \"AnzBestWir\": 10570, \"FlaecheT\": 505.3, \"FlaecheL\": 264.5, \"FlaecheS\": 136.4, \"DichteT\": 20.9, \"DichteL\": 40.0, \"DichteS\": 77.5}, {\"RaumKategorie\": \"Stadtquartier\", \"RaumSort\": 72, \"RaumLang\": \"Hottingen\", \"StichtagDatJahr\": \"2011-01-01T00:00:00\", \"AnzBestWir\": 10461, \"FlaecheT\": 505.2, \"FlaecheL\": 264.5, \"FlaecheS\": 136.4, \"DichteT\": 20.7, \"DichteL\": 39.6, \"DichteS\": 76.7}, {\"RaumKategorie\": \"Stadtquartier\", \"RaumSort\": 72, \"RaumLang\": \"Hottingen\", \"StichtagDatJahr\": \"2012-01-01T00:00:00\", \"AnzBestWir\": 10447, \"FlaecheT\": 505.3, \"FlaecheL\": 264.5, \"FlaecheS\": 136.5, \"DichteT\": 20.7, \"DichteL\": 39.5, \"DichteS\": 76.6}, {\"RaumKategorie\": \"Stadtquartier\", \"RaumSort\": 72, \"RaumLang\": \"Hottingen\", \"StichtagDatJahr\": \"2013-01-01T00:00:00\", \"AnzBestWir\": 10708, \"FlaecheT\": 505.3, \"FlaecheL\": 264.4, \"FlaecheS\": 136.5, \"DichteT\": 21.2, \"DichteL\": 40.5, \"DichteS\": 78.5}, {\"RaumKategorie\": \"Stadtquartier\", \"RaumSort\": 72, \"RaumLang\": \"Hottingen\", \"StichtagDatJahr\": \"2014-01-01T00:00:00\", \"AnzBestWir\": 10882, \"FlaecheT\": 505.3, \"FlaecheL\": 264.5, \"FlaecheS\": 136.5, \"DichteT\": 21.5, \"DichteL\": 41.1, \"DichteS\": 79.7}, {\"RaumKategorie\": \"Stadtquartier\", \"RaumSort\": 72, \"RaumLang\": \"Hottingen\", \"StichtagDatJahr\": \"2015-01-01T00:00:00\", \"AnzBestWir\": 11081, \"FlaecheT\": 505.3, \"FlaecheL\": 264.4, \"FlaecheS\": 137.2, \"DichteT\": 21.9, \"DichteL\": 41.9, \"DichteS\": 80.8}, {\"RaumKategorie\": \"Stadtquartier\", \"RaumSort\": 72, \"RaumLang\": \"Hottingen\", \"StichtagDatJahr\": \"2016-01-01T00:00:00\", \"AnzBestWir\": 11113, \"FlaecheT\": 505.3, \"FlaecheL\": 264.2, \"FlaecheS\": 138.3, \"DichteT\": 22.0, \"DichteL\": 42.1, \"DichteS\": 80.4}, {\"RaumKategorie\": \"Stadtquartier\", \"RaumSort\": 72, \"RaumLang\": \"Hottingen\", \"StichtagDatJahr\": \"2017-01-01T00:00:00\", \"AnzBestWir\": 11172, \"FlaecheT\": 505.3, \"FlaecheL\": 263.1, \"FlaecheS\": 138.5, \"DichteT\": 22.1, \"DichteL\": 42.5, \"DichteS\": 80.6}, {\"RaumKategorie\": \"Stadtquartier\", \"RaumSort\": 72, \"RaumLang\": \"Hottingen\", \"StichtagDatJahr\": \"2018-01-01T00:00:00\", \"AnzBestWir\": 11265, \"FlaecheT\": 505.3, \"FlaecheL\": 263.0, \"FlaecheS\": 138.6, \"DichteT\": 22.3, \"DichteL\": 42.8, \"DichteS\": 81.3}, {\"RaumKategorie\": \"Stadtquartier\", \"RaumSort\": 72, \"RaumLang\": \"Hottingen\", \"StichtagDatJahr\": \"2019-01-01T00:00:00\", \"AnzBestWir\": 11388, \"FlaecheT\": 505.3, \"FlaecheL\": 263.0, \"FlaecheS\": 138.6, \"DichteT\": 22.5, \"DichteL\": 43.3, \"DichteS\": 82.2}, {\"RaumKategorie\": \"Stadtquartier\", \"RaumSort\": 72, \"RaumLang\": \"Hottingen\", \"StichtagDatJahr\": \"2020-01-01T00:00:00\", \"AnzBestWir\": 11304, \"FlaecheT\": 505.3, \"FlaecheL\": 263.0, \"FlaecheS\": 138.5, \"DichteT\": 22.4, \"DichteL\": 43.0, \"DichteS\": 81.6}, {\"RaumKategorie\": \"Stadtquartier\", \"RaumSort\": 73, \"RaumLang\": \"Hirslanden\", \"StichtagDatJahr\": \"2009-01-01T00:00:00\", \"AnzBestWir\": 6956, \"FlaecheT\": 218.8, \"FlaecheL\": 96.1, \"FlaecheS\": 69.1, \"DichteT\": 31.8, \"DichteL\": 72.4, \"DichteS\": 100.6}, {\"RaumKategorie\": \"Stadtquartier\", \"RaumSort\": 73, \"RaumLang\": \"Hirslanden\", \"StichtagDatJahr\": \"2010-01-01T00:00:00\", \"AnzBestWir\": 6998, \"FlaecheT\": 218.8, \"FlaecheL\": 96.1, \"FlaecheS\": 69.1, \"DichteT\": 32.0, \"DichteL\": 72.8, \"DichteS\": 101.3}, {\"RaumKategorie\": \"Stadtquartier\", \"RaumSort\": 73, \"RaumLang\": \"Hirslanden\", \"StichtagDatJahr\": \"2011-01-01T00:00:00\", \"AnzBestWir\": 7024, \"FlaecheT\": 218.8, \"FlaecheL\": 96.1, \"FlaecheS\": 69.1, \"DichteT\": 32.1, \"DichteL\": 73.1, \"DichteS\": 101.6}, {\"RaumKategorie\": \"Stadtquartier\", \"RaumSort\": 73, \"RaumLang\": \"Hirslanden\", \"StichtagDatJahr\": \"2012-01-01T00:00:00\", \"AnzBestWir\": 7131, \"FlaecheT\": 218.8, \"FlaecheL\": 96.1, \"FlaecheS\": 69.1, \"DichteT\": 32.6, \"DichteL\": 74.2, \"DichteS\": 103.2}, {\"RaumKategorie\": \"Stadtquartier\", \"RaumSort\": 73, \"RaumLang\": \"Hirslanden\", \"StichtagDatJahr\": \"2013-01-01T00:00:00\", \"AnzBestWir\": 7285, \"FlaecheT\": 218.8, \"FlaecheL\": 96.1, \"FlaecheS\": 69.1, \"DichteT\": 33.3, \"DichteL\": 75.8, \"DichteS\": 105.4}, {\"RaumKategorie\": \"Stadtquartier\", \"RaumSort\": 73, \"RaumLang\": \"Hirslanden\", \"StichtagDatJahr\": \"2014-01-01T00:00:00\", \"AnzBestWir\": 7403, \"FlaecheT\": 218.6, \"FlaecheL\": 95.9, \"FlaecheS\": 69.1, \"DichteT\": 33.9, \"DichteL\": 77.2, \"DichteS\": 107.1}, {\"RaumKategorie\": \"Stadtquartier\", \"RaumSort\": 73, \"RaumLang\": \"Hirslanden\", \"StichtagDatJahr\": \"2015-01-01T00:00:00\", \"AnzBestWir\": 7380, \"FlaecheT\": 218.7, \"FlaecheL\": 95.9, \"FlaecheS\": 69.1, \"DichteT\": 33.7, \"DichteL\": 77.0, \"DichteS\": 106.8}, {\"RaumKategorie\": \"Stadtquartier\", \"RaumSort\": 73, \"RaumLang\": \"Hirslanden\", \"StichtagDatJahr\": \"2016-01-01T00:00:00\", \"AnzBestWir\": 7321, \"FlaecheT\": 218.7, \"FlaecheL\": 95.6, \"FlaecheS\": 69.3, \"DichteT\": 33.5, \"DichteL\": 76.6, \"DichteS\": 105.6}, {\"RaumKategorie\": \"Stadtquartier\", \"RaumSort\": 73, \"RaumLang\": \"Hirslanden\", \"StichtagDatJahr\": \"2017-01-01T00:00:00\", \"AnzBestWir\": 7465, \"FlaecheT\": 218.7, \"FlaecheL\": 95.1, \"FlaecheS\": 69.3, \"DichteT\": 34.1, \"DichteL\": 78.5, \"DichteS\": 107.8}, {\"RaumKategorie\": \"Stadtquartier\", \"RaumSort\": 73, \"RaumLang\": \"Hirslanden\", \"StichtagDatJahr\": \"2018-01-01T00:00:00\", \"AnzBestWir\": 7488, \"FlaecheT\": 218.7, \"FlaecheL\": 95.1, \"FlaecheS\": 69.1, \"DichteT\": 34.2, \"DichteL\": 78.7, \"DichteS\": 108.3}, {\"RaumKategorie\": \"Stadtquartier\", \"RaumSort\": 73, \"RaumLang\": \"Hirslanden\", \"StichtagDatJahr\": \"2019-01-01T00:00:00\", \"AnzBestWir\": 7503, \"FlaecheT\": 218.7, \"FlaecheL\": 95.1, \"FlaecheS\": 69.1, \"DichteT\": 34.3, \"DichteL\": 78.9, \"DichteS\": 108.6}, {\"RaumKategorie\": \"Stadtquartier\", \"RaumSort\": 73, \"RaumLang\": \"Hirslanden\", \"StichtagDatJahr\": \"2020-01-01T00:00:00\", \"AnzBestWir\": 7396, \"FlaecheT\": 218.7, \"FlaecheL\": 95.1, \"FlaecheS\": 69.1, \"DichteT\": 33.8, \"DichteL\": 77.8, \"DichteS\": 107.0}, {\"RaumKategorie\": \"Stadtquartier\", \"RaumSort\": 74, \"RaumLang\": \"Witikon\", \"StichtagDatJahr\": \"2009-01-01T00:00:00\", \"AnzBestWir\": 10284, \"FlaecheT\": 493.3, \"FlaecheL\": 284.5, \"FlaecheS\": 135.9, \"DichteT\": 20.8, \"DichteL\": 36.2, \"DichteS\": 75.7}, {\"RaumKategorie\": \"Stadtquartier\", \"RaumSort\": 74, \"RaumLang\": \"Witikon\", \"StichtagDatJahr\": \"2010-01-01T00:00:00\", \"AnzBestWir\": 10242, \"FlaecheT\": 493.3, \"FlaecheL\": 284.5, \"FlaecheS\": 135.9, \"DichteT\": 20.8, \"DichteL\": 36.0, \"DichteS\": 75.4}, {\"RaumKategorie\": \"Stadtquartier\", \"RaumSort\": 74, \"RaumLang\": \"Witikon\", \"StichtagDatJahr\": \"2011-01-01T00:00:00\", \"AnzBestWir\": 10258, \"FlaecheT\": 494.1, \"FlaecheL\": 285.3, \"FlaecheS\": 136.5, \"DichteT\": 20.8, \"DichteL\": 36.0, \"DichteS\": 75.2}, {\"RaumKategorie\": \"Stadtquartier\", \"RaumSort\": 74, \"RaumLang\": \"Witikon\", \"StichtagDatJahr\": \"2012-01-01T00:00:00\", \"AnzBestWir\": 10246, \"FlaecheT\": 493.3, \"FlaecheL\": 284.5, \"FlaecheS\": 135.9, \"DichteT\": 20.8, \"DichteL\": 36.0, \"DichteS\": 75.4}, {\"RaumKategorie\": \"Stadtquartier\", \"RaumSort\": 74, \"RaumLang\": \"Witikon\", \"StichtagDatJahr\": \"2013-01-01T00:00:00\", \"AnzBestWir\": 10267, \"FlaecheT\": 493.3, \"FlaecheL\": 284.5, \"FlaecheS\": 136.2, \"DichteT\": 20.8, \"DichteL\": 36.1, \"DichteS\": 75.4}, {\"RaumKategorie\": \"Stadtquartier\", \"RaumSort\": 74, \"RaumLang\": \"Witikon\", \"StichtagDatJahr\": \"2014-01-01T00:00:00\", \"AnzBestWir\": 10406, \"FlaecheT\": 493.5, \"FlaecheL\": 284.6, \"FlaecheS\": 136.2, \"DichteT\": 21.1, \"DichteL\": 36.6, \"DichteS\": 76.4}, {\"RaumKategorie\": \"Stadtquartier\", \"RaumSort\": 74, \"RaumLang\": \"Witikon\", \"StichtagDatJahr\": \"2015-01-01T00:00:00\", \"AnzBestWir\": 10639, \"FlaecheT\": 493.4, \"FlaecheL\": 283.8, \"FlaecheS\": 136.2, \"DichteT\": 21.6, \"DichteL\": 37.5, \"DichteS\": 78.1}, {\"RaumKategorie\": \"Stadtquartier\", \"RaumSort\": 74, \"RaumLang\": \"Witikon\", \"StichtagDatJahr\": \"2016-01-01T00:00:00\", \"AnzBestWir\": 10667, \"FlaecheT\": 493.4, \"FlaecheL\": 283.4, \"FlaecheS\": 137.9, \"DichteT\": 21.6, \"DichteL\": 37.6, \"DichteS\": 77.3}, {\"RaumKategorie\": \"Stadtquartier\", \"RaumSort\": 74, \"RaumLang\": \"Witikon\", \"StichtagDatJahr\": \"2017-01-01T00:00:00\", \"AnzBestWir\": 10600, \"FlaecheT\": 493.4, \"FlaecheL\": 282.8, \"FlaecheS\": 137.9, \"DichteT\": 21.5, \"DichteL\": 37.5, \"DichteS\": 76.9}, {\"RaumKategorie\": \"Stadtquartier\", \"RaumSort\": 74, \"RaumLang\": \"Witikon\", \"StichtagDatJahr\": \"2018-01-01T00:00:00\", \"AnzBestWir\": 10953, \"FlaecheT\": 493.4, \"FlaecheL\": 284.4, \"FlaecheS\": 138.1, \"DichteT\": 22.2, \"DichteL\": 38.5, \"DichteS\": 79.3}, {\"RaumKategorie\": \"Stadtquartier\", \"RaumSort\": 74, \"RaumLang\": \"Witikon\", \"StichtagDatJahr\": \"2019-01-01T00:00:00\", \"AnzBestWir\": 11054, \"FlaecheT\": 494.4, \"FlaecheL\": 285.5, \"FlaecheS\": 138.1, \"DichteT\": 22.4, \"DichteL\": 38.7, \"DichteS\": 80.0}, {\"RaumKategorie\": \"Stadtquartier\", \"RaumSort\": 74, \"RaumLang\": \"Witikon\", \"StichtagDatJahr\": \"2020-01-01T00:00:00\", \"AnzBestWir\": 11244, \"FlaecheT\": 493.4, \"FlaecheL\": 284.5, \"FlaecheS\": 138.1, \"DichteT\": 22.8, \"DichteL\": 39.5, \"DichteS\": 81.4}, {\"RaumKategorie\": \"Stadtquartier\", \"RaumSort\": 81, \"RaumLang\": \"Seefeld\", \"StichtagDatJahr\": \"2009-01-01T00:00:00\", \"AnzBestWir\": 4732, \"FlaecheT\": 242.3, \"FlaecheL\": 67.1, \"FlaecheS\": 36.4, \"DichteT\": 19.5, \"DichteL\": 70.5, \"DichteS\": 130.0}, {\"RaumKategorie\": \"Stadtquartier\", \"RaumSort\": 81, \"RaumLang\": \"Seefeld\", \"StichtagDatJahr\": \"2010-01-01T00:00:00\", \"AnzBestWir\": 4840, \"FlaecheT\": 242.3, \"FlaecheL\": 67.1, \"FlaecheS\": 36.4, \"DichteT\": 20.0, \"DichteL\": 72.2, \"DichteS\": 133.0}, {\"RaumKategorie\": \"Stadtquartier\", \"RaumSort\": 81, \"RaumLang\": \"Seefeld\", \"StichtagDatJahr\": \"2011-01-01T00:00:00\", \"AnzBestWir\": 4908, \"FlaecheT\": 242.3, \"FlaecheL\": 67.1, \"FlaecheS\": 36.5, \"DichteT\": 20.3, \"DichteL\": 73.2, \"DichteS\": 134.4}, {\"RaumKategorie\": \"Stadtquartier\", \"RaumSort\": 81, \"RaumLang\": \"Seefeld\", \"StichtagDatJahr\": \"2012-01-01T00:00:00\", \"AnzBestWir\": 4916, \"FlaecheT\": 242.3, \"FlaecheL\": 67.1, \"FlaecheS\": 36.7, \"DichteT\": 20.3, \"DichteL\": 73.3, \"DichteS\": 133.8}, {\"RaumKategorie\": \"Stadtquartier\", \"RaumSort\": 81, \"RaumLang\": \"Seefeld\", \"StichtagDatJahr\": \"2013-01-01T00:00:00\", \"AnzBestWir\": 4978, \"FlaecheT\": 242.3, \"FlaecheL\": 67.1, \"FlaecheS\": 36.7, \"DichteT\": 20.5, \"DichteL\": 74.2, \"DichteS\": 135.8}, {\"RaumKategorie\": \"Stadtquartier\", \"RaumSort\": 81, \"RaumLang\": \"Seefeld\", \"StichtagDatJahr\": \"2014-01-01T00:00:00\", \"AnzBestWir\": 5035, \"FlaecheT\": 242.2, \"FlaecheL\": 67.1, \"FlaecheS\": 37.1, \"DichteT\": 20.8, \"DichteL\": 75.1, \"DichteS\": 135.7}, {\"RaumKategorie\": \"Stadtquartier\", \"RaumSort\": 81, \"RaumLang\": \"Seefeld\", \"StichtagDatJahr\": \"2015-01-01T00:00:00\", \"AnzBestWir\": 4990, \"FlaecheT\": 242.2, \"FlaecheL\": 67.0, \"FlaecheS\": 37.1, \"DichteT\": 20.6, \"DichteL\": 74.4, \"DichteS\": 134.5}, {\"RaumKategorie\": \"Stadtquartier\", \"RaumSort\": 81, \"RaumLang\": \"Seefeld\", \"StichtagDatJahr\": \"2016-01-01T00:00:00\", \"AnzBestWir\": 5046, \"FlaecheT\": 242.2, \"FlaecheL\": 67.1, \"FlaecheS\": 36.8, \"DichteT\": 20.8, \"DichteL\": 75.3, \"DichteS\": 137.0}, {\"RaumKategorie\": \"Stadtquartier\", \"RaumSort\": 81, \"RaumLang\": \"Seefeld\", \"StichtagDatJahr\": \"2017-01-01T00:00:00\", \"AnzBestWir\": 5129, \"FlaecheT\": 242.2, \"FlaecheL\": 67.1, \"FlaecheS\": 36.8, \"DichteT\": 21.2, \"DichteL\": 76.5, \"DichteS\": 139.2}, {\"RaumKategorie\": \"Stadtquartier\", \"RaumSort\": 81, \"RaumLang\": \"Seefeld\", \"StichtagDatJahr\": \"2018-01-01T00:00:00\", \"AnzBestWir\": 5253, \"FlaecheT\": 242.2, \"FlaecheL\": 67.1, \"FlaecheS\": 36.9, \"DichteT\": 21.7, \"DichteL\": 78.3, \"DichteS\": 142.3}, {\"RaumKategorie\": \"Stadtquartier\", \"RaumSort\": 81, \"RaumLang\": \"Seefeld\", \"StichtagDatJahr\": \"2019-01-01T00:00:00\", \"AnzBestWir\": 5319, \"FlaecheT\": 242.2, \"FlaecheL\": 67.1, \"FlaecheS\": 36.9, \"DichteT\": 22.0, \"DichteL\": 79.3, \"DichteS\": 144.1}, {\"RaumKategorie\": \"Stadtquartier\", \"RaumSort\": 81, \"RaumLang\": \"Seefeld\", \"StichtagDatJahr\": \"2020-01-01T00:00:00\", \"AnzBestWir\": 5480, \"FlaecheT\": 242.2, \"FlaecheL\": 67.0, \"FlaecheS\": 36.9, \"DichteT\": 22.6, \"DichteL\": 81.8, \"DichteS\": 148.6}, {\"RaumKategorie\": \"Stadtquartier\", \"RaumSort\": 82, \"RaumLang\": \"M\\u00fchlebach\", \"StichtagDatJahr\": \"2009-01-01T00:00:00\", \"AnzBestWir\": 5545, \"FlaecheT\": 63.8, \"FlaecheL\": 63.6, \"FlaecheS\": 48.1, \"DichteT\": 86.9, \"DichteL\": 87.2, \"DichteS\": 115.2}, {\"RaumKategorie\": \"Stadtquartier\", \"RaumSort\": 82, \"RaumLang\": \"M\\u00fchlebach\", \"StichtagDatJahr\": \"2010-01-01T00:00:00\", \"AnzBestWir\": 5679, \"FlaecheT\": 63.8, \"FlaecheL\": 63.6, \"FlaecheS\": 48.2, \"DichteT\": 89.0, \"DichteL\": 89.3, \"DichteS\": 117.7}, {\"RaumKategorie\": \"Stadtquartier\", \"RaumSort\": 82, \"RaumLang\": \"M\\u00fchlebach\", \"StichtagDatJahr\": \"2011-01-01T00:00:00\", \"AnzBestWir\": 5651, \"FlaecheT\": 63.5, \"FlaecheL\": 63.4, \"FlaecheS\": 48.3, \"DichteT\": 88.9, \"DichteL\": 89.2, \"DichteS\": 117.0}, {\"RaumKategorie\": \"Stadtquartier\", \"RaumSort\": 82, \"RaumLang\": \"M\\u00fchlebach\", \"StichtagDatJahr\": \"2012-01-01T00:00:00\", \"AnzBestWir\": 5745, \"FlaecheT\": 63.8, \"FlaecheL\": 63.6, \"FlaecheS\": 48.3, \"DichteT\": 90.1, \"DichteL\": 90.3, \"DichteS\": 118.8}, {\"RaumKategorie\": \"Stadtquartier\", \"RaumSort\": 82, \"RaumLang\": \"M\\u00fchlebach\", \"StichtagDatJahr\": \"2013-01-01T00:00:00\", \"AnzBestWir\": 5912, \"FlaecheT\": 63.8, \"FlaecheL\": 63.6, \"FlaecheS\": 47.5, \"DichteT\": 92.7, \"DichteL\": 92.9, \"DichteS\": 124.5}, {\"RaumKategorie\": \"Stadtquartier\", \"RaumSort\": 82, \"RaumLang\": \"M\\u00fchlebach\", \"StichtagDatJahr\": \"2014-01-01T00:00:00\", \"AnzBestWir\": 6107, \"FlaecheT\": 63.9, \"FlaecheL\": 63.8, \"FlaecheS\": 47.5, \"DichteT\": 95.5, \"DichteL\": 95.8, \"DichteS\": 128.6}, {\"RaumKategorie\": \"Stadtquartier\", \"RaumSort\": 82, \"RaumLang\": \"M\\u00fchlebach\", \"StichtagDatJahr\": \"2015-01-01T00:00:00\", \"AnzBestWir\": 6116, \"FlaecheT\": 63.9, \"FlaecheL\": 63.8, \"FlaecheS\": 47.5, \"DichteT\": 95.7, \"DichteL\": 95.9, \"DichteS\": 128.8}, {\"RaumKategorie\": \"Stadtquartier\", \"RaumSort\": 82, \"RaumLang\": \"M\\u00fchlebach\", \"StichtagDatJahr\": \"2016-01-01T00:00:00\", \"AnzBestWir\": 6137, \"FlaecheT\": 63.9, \"FlaecheL\": 63.8, \"FlaecheS\": 48.0, \"DichteT\": 96.0, \"DichteL\": 96.2, \"DichteS\": 127.8}, {\"RaumKategorie\": \"Stadtquartier\", \"RaumSort\": 82, \"RaumLang\": \"M\\u00fchlebach\", \"StichtagDatJahr\": \"2017-01-01T00:00:00\", \"AnzBestWir\": 6164, \"FlaecheT\": 63.9, \"FlaecheL\": 63.8, \"FlaecheS\": 48.0, \"DichteT\": 96.4, \"DichteL\": 96.6, \"DichteS\": 128.4}, {\"RaumKategorie\": \"Stadtquartier\", \"RaumSort\": 82, \"RaumLang\": \"M\\u00fchlebach\", \"StichtagDatJahr\": \"2018-01-01T00:00:00\", \"AnzBestWir\": 6315, \"FlaecheT\": 63.9, \"FlaecheL\": 63.8, \"FlaecheS\": 48.0, \"DichteT\": 98.8, \"DichteL\": 99.0, \"DichteS\": 131.4}, {\"RaumKategorie\": \"Stadtquartier\", \"RaumSort\": 82, \"RaumLang\": \"M\\u00fchlebach\", \"StichtagDatJahr\": \"2019-01-01T00:00:00\", \"AnzBestWir\": 6327, \"FlaecheT\": 63.9, \"FlaecheL\": 63.8, \"FlaecheS\": 48.0, \"DichteT\": 99.0, \"DichteL\": 99.2, \"DichteS\": 131.7}, {\"RaumKategorie\": \"Stadtquartier\", \"RaumSort\": 82, \"RaumLang\": \"M\\u00fchlebach\", \"StichtagDatJahr\": \"2020-01-01T00:00:00\", \"AnzBestWir\": 6414, \"FlaecheT\": 63.9, \"FlaecheL\": 63.8, \"FlaecheS\": 48.0, \"DichteT\": 100.4, \"DichteL\": 100.6, \"DichteS\": 133.5}, {\"RaumKategorie\": \"Stadtquartier\", \"RaumSort\": 83, \"RaumLang\": \"Weinegg\", \"StichtagDatJahr\": \"2009-01-01T00:00:00\", \"AnzBestWir\": 4935, \"FlaecheT\": 174.5, \"FlaecheL\": 157.8, \"FlaecheS\": 94.2, \"DichteT\": 28.3, \"DichteL\": 31.3, \"DichteS\": 52.4}, {\"RaumKategorie\": \"Stadtquartier\", \"RaumSort\": 83, \"RaumLang\": \"Weinegg\", \"StichtagDatJahr\": \"2010-01-01T00:00:00\", \"AnzBestWir\": 4999, \"FlaecheT\": 174.5, \"FlaecheL\": 157.8, \"FlaecheS\": 94.1, \"DichteT\": 28.6, \"DichteL\": 31.7, \"DichteS\": 53.1}, {\"RaumKategorie\": \"Stadtquartier\", \"RaumSort\": 83, \"RaumLang\": \"Weinegg\", \"StichtagDatJahr\": \"2011-01-01T00:00:00\", \"AnzBestWir\": 4942, \"FlaecheT\": 158.0, \"FlaecheL\": 141.4, \"FlaecheS\": 89.7, \"DichteT\": 31.3, \"DichteL\": 34.9, \"DichteS\": 55.1}, {\"RaumKategorie\": \"Stadtquartier\", \"RaumSort\": 83, \"RaumLang\": \"Weinegg\", \"StichtagDatJahr\": \"2012-01-01T00:00:00\", \"AnzBestWir\": 4783, \"FlaecheT\": 174.5, \"FlaecheL\": 157.8, \"FlaecheS\": 93.4, \"DichteT\": 27.4, \"DichteL\": 30.3, \"DichteS\": 51.2}, {\"RaumKategorie\": \"Stadtquartier\", \"RaumSort\": 83, \"RaumLang\": \"Weinegg\", \"StichtagDatJahr\": \"2013-01-01T00:00:00\", \"AnzBestWir\": 5022, \"FlaecheT\": 174.5, \"FlaecheL\": 157.8, \"FlaecheS\": 93.5, \"DichteT\": 28.8, \"DichteL\": 31.8, \"DichteS\": 53.7}, {\"RaumKategorie\": \"Stadtquartier\", \"RaumSort\": 83, \"RaumLang\": \"Weinegg\", \"StichtagDatJahr\": \"2014-01-01T00:00:00\", \"AnzBestWir\": 5036, \"FlaecheT\": 174.5, \"FlaecheL\": 157.8, \"FlaecheS\": 93.6, \"DichteT\": 28.9, \"DichteL\": 31.9, \"DichteS\": 53.8}, {\"RaumKategorie\": \"Stadtquartier\", \"RaumSort\": 83, \"RaumLang\": \"Weinegg\", \"StichtagDatJahr\": \"2015-01-01T00:00:00\", \"AnzBestWir\": 5086, \"FlaecheT\": 174.5, \"FlaecheL\": 157.8, \"FlaecheS\": 93.7, \"DichteT\": 29.1, \"DichteL\": 32.2, \"DichteS\": 54.3}, {\"RaumKategorie\": \"Stadtquartier\", \"RaumSort\": 83, \"RaumLang\": \"Weinegg\", \"StichtagDatJahr\": \"2016-01-01T00:00:00\", \"AnzBestWir\": 5030, \"FlaecheT\": 174.5, \"FlaecheL\": 157.6, \"FlaecheS\": 96.7, \"DichteT\": 28.8, \"DichteL\": 31.9, \"DichteS\": 52.0}, {\"RaumKategorie\": \"Stadtquartier\", \"RaumSort\": 83, \"RaumLang\": \"Weinegg\", \"StichtagDatJahr\": \"2017-01-01T00:00:00\", \"AnzBestWir\": 5248, \"FlaecheT\": 174.5, \"FlaecheL\": 157.5, \"FlaecheS\": 96.1, \"DichteT\": 30.1, \"DichteL\": 33.3, \"DichteS\": 54.6}, {\"RaumKategorie\": \"Stadtquartier\", \"RaumSort\": 83, \"RaumLang\": \"Weinegg\", \"StichtagDatJahr\": \"2018-01-01T00:00:00\", \"AnzBestWir\": 5220, \"FlaecheT\": 174.5, \"FlaecheL\": 157.5, \"FlaecheS\": 100.5, \"DichteT\": 29.9, \"DichteL\": 33.1, \"DichteS\": 51.9}, {\"RaumKategorie\": \"Stadtquartier\", \"RaumSort\": 83, \"RaumLang\": \"Weinegg\", \"StichtagDatJahr\": \"2019-01-01T00:00:00\", \"AnzBestWir\": 5414, \"FlaecheT\": 174.5, \"FlaecheL\": 157.5, \"FlaecheS\": 100.5, \"DichteT\": 31.0, \"DichteL\": 34.4, \"DichteS\": 53.9}, {\"RaumKategorie\": \"Stadtquartier\", \"RaumSort\": 83, \"RaumLang\": \"Weinegg\", \"StichtagDatJahr\": \"2020-01-01T00:00:00\", \"AnzBestWir\": 5562, \"FlaecheT\": 174.5, \"FlaecheL\": 157.5, \"FlaecheS\": 100.5, \"DichteT\": 31.9, \"DichteL\": 35.3, \"DichteS\": 55.4}, {\"RaumKategorie\": \"Stadtquartier\", \"RaumSort\": 91, \"RaumLang\": \"Albisrieden\", \"StichtagDatJahr\": \"2009-01-01T00:00:00\", \"AnzBestWir\": 17675, \"FlaecheT\": 460.1, \"FlaecheL\": 272.1, \"FlaecheS\": 177.6, \"DichteT\": 38.4, \"DichteL\": 65.0, \"DichteS\": 99.5}, {\"RaumKategorie\": \"Stadtquartier\", \"RaumSort\": 91, \"RaumLang\": \"Albisrieden\", \"StichtagDatJahr\": \"2010-01-01T00:00:00\", \"AnzBestWir\": 17835, \"FlaecheT\": 460.1, \"FlaecheL\": 272.1, \"FlaecheS\": 177.6, \"DichteT\": 38.8, \"DichteL\": 65.5, \"DichteS\": 100.4}, {\"RaumKategorie\": \"Stadtquartier\", \"RaumSort\": 91, \"RaumLang\": \"Albisrieden\", \"StichtagDatJahr\": \"2011-01-01T00:00:00\", \"AnzBestWir\": 18432, \"FlaecheT\": 460.1, \"FlaecheL\": 272.1, \"FlaecheS\": 177.8, \"DichteT\": 40.1, \"DichteL\": 67.7, \"DichteS\": 103.7}, {\"RaumKategorie\": \"Stadtquartier\", \"RaumSort\": 91, \"RaumLang\": \"Albisrieden\", \"StichtagDatJahr\": \"2012-01-01T00:00:00\", \"AnzBestWir\": 18999, \"FlaecheT\": 460.1, \"FlaecheL\": 272.1, \"FlaecheS\": 177.8, \"DichteT\": 41.3, \"DichteL\": 69.8, \"DichteS\": 106.8}, {\"RaumKategorie\": \"Stadtquartier\", \"RaumSort\": 91, \"RaumLang\": \"Albisrieden\", \"StichtagDatJahr\": \"2013-01-01T00:00:00\", \"AnzBestWir\": 19146, \"FlaecheT\": 460.1, \"FlaecheL\": 272.5, \"FlaecheS\": 177.8, \"DichteT\": 41.6, \"DichteL\": 70.3, \"DichteS\": 107.7}, {\"RaumKategorie\": \"Stadtquartier\", \"RaumSort\": 91, \"RaumLang\": \"Albisrieden\", \"StichtagDatJahr\": \"2014-01-01T00:00:00\", \"AnzBestWir\": 19199, \"FlaecheT\": 460.1, \"FlaecheL\": 272.5, \"FlaecheS\": 177.9, \"DichteT\": 41.7, \"DichteL\": 70.5, \"DichteS\": 107.9}, {\"RaumKategorie\": \"Stadtquartier\", \"RaumSort\": 91, \"RaumLang\": \"Albisrieden\", \"StichtagDatJahr\": \"2015-01-01T00:00:00\", \"AnzBestWir\": 19325, \"FlaecheT\": 460.1, \"FlaecheL\": 272.4, \"FlaecheS\": 177.2, \"DichteT\": 42.0, \"DichteL\": 70.9, \"DichteS\": 109.1}, {\"RaumKategorie\": \"Stadtquartier\", \"RaumSort\": 91, \"RaumLang\": \"Albisrieden\", \"StichtagDatJahr\": \"2016-01-01T00:00:00\", \"AnzBestWir\": 21174, \"FlaecheT\": 460.2, \"FlaecheL\": 272.0, \"FlaecheS\": 177.3, \"DichteT\": 46.0, \"DichteL\": 77.8, \"DichteS\": 119.4}, {\"RaumKategorie\": \"Stadtquartier\", \"RaumSort\": 91, \"RaumLang\": \"Albisrieden\", \"StichtagDatJahr\": \"2017-01-01T00:00:00\", \"AnzBestWir\": 22113, \"FlaecheT\": 460.1, \"FlaecheL\": 271.4, \"FlaecheS\": 175.9, \"DichteT\": 48.1, \"DichteL\": 81.5, \"DichteS\": 125.7}, {\"RaumKategorie\": \"Stadtquartier\", \"RaumSort\": 91, \"RaumLang\": \"Albisrieden\", \"StichtagDatJahr\": \"2018-01-01T00:00:00\", \"AnzBestWir\": 22304, \"FlaecheT\": 460.1, \"FlaecheL\": 271.6, \"FlaecheS\": 175.6, \"DichteT\": 48.5, \"DichteL\": 82.1, \"DichteS\": 127.0}, {\"RaumKategorie\": \"Stadtquartier\", \"RaumSort\": 91, \"RaumLang\": \"Albisrieden\", \"StichtagDatJahr\": \"2019-01-01T00:00:00\", \"AnzBestWir\": 22352, \"FlaecheT\": 460.1, \"FlaecheL\": 271.6, \"FlaecheS\": 175.7, \"DichteT\": 48.6, \"DichteL\": 82.3, \"DichteS\": 127.2}, {\"RaumKategorie\": \"Stadtquartier\", \"RaumSort\": 91, \"RaumLang\": \"Albisrieden\", \"StichtagDatJahr\": \"2020-01-01T00:00:00\", \"AnzBestWir\": 22364, \"FlaecheT\": 460.1, \"FlaecheL\": 271.6, \"FlaecheS\": 175.6, \"DichteT\": 48.6, \"DichteL\": 82.3, \"DichteS\": 127.4}, {\"RaumKategorie\": \"Stadtquartier\", \"RaumSort\": 92, \"RaumLang\": \"Altstetten\", \"StichtagDatJahr\": \"2009-01-01T00:00:00\", \"AnzBestWir\": 29845, \"FlaecheT\": 746.8, \"FlaecheL\": 569.1, \"FlaecheS\": 350.6, \"DichteT\": 40.0, \"DichteL\": 52.4, \"DichteS\": 85.1}, {\"RaumKategorie\": \"Stadtquartier\", \"RaumSort\": 92, \"RaumLang\": \"Altstetten\", \"StichtagDatJahr\": \"2010-01-01T00:00:00\", \"AnzBestWir\": 30659, \"FlaecheT\": 746.8, \"FlaecheL\": 569.1, \"FlaecheS\": 350.6, \"DichteT\": 41.1, \"DichteL\": 53.9, \"DichteS\": 87.4}, {\"RaumKategorie\": \"Stadtquartier\", \"RaumSort\": 92, \"RaumLang\": \"Altstetten\", \"StichtagDatJahr\": \"2011-01-01T00:00:00\", \"AnzBestWir\": 31381, \"FlaecheT\": 747.0, \"FlaecheL\": 569.3, \"FlaecheS\": 350.4, \"DichteT\": 42.0, \"DichteL\": 55.1, \"DichteS\": 89.5}, {\"RaumKategorie\": \"Stadtquartier\", \"RaumSort\": 92, \"RaumLang\": \"Altstetten\", \"StichtagDatJahr\": \"2012-01-01T00:00:00\", \"AnzBestWir\": 31438, \"FlaecheT\": 745.5, \"FlaecheL\": 567.4, \"FlaecheS\": 351.6, \"DichteT\": 42.2, \"DichteL\": 55.4, \"DichteS\": 89.4}, {\"RaumKategorie\": \"Stadtquartier\", \"RaumSort\": 92, \"RaumLang\": \"Altstetten\", \"StichtagDatJahr\": \"2013-01-01T00:00:00\", \"AnzBestWir\": 31115, \"FlaecheT\": 745.6, \"FlaecheL\": 567.4, \"FlaecheS\": 350.4, \"DichteT\": 41.7, \"DichteL\": 54.8, \"DichteS\": 88.8}, {\"RaumKategorie\": \"Stadtquartier\", \"RaumSort\": 92, \"RaumLang\": \"Altstetten\", \"StichtagDatJahr\": \"2014-01-01T00:00:00\", \"AnzBestWir\": 31486, \"FlaecheT\": 745.6, \"FlaecheL\": 567.4, \"FlaecheS\": 353.1, \"DichteT\": 42.2, \"DichteL\": 55.5, \"DichteS\": 89.2}, {\"RaumKategorie\": \"Stadtquartier\", \"RaumSort\": 92, \"RaumLang\": \"Altstetten\", \"StichtagDatJahr\": \"2015-01-01T00:00:00\", \"AnzBestWir\": 32003, \"FlaecheT\": 745.5, \"FlaecheL\": 567.4, \"FlaecheS\": 351.8, \"DichteT\": 42.9, \"DichteL\": 56.4, \"DichteS\": 91.0}, {\"RaumKategorie\": \"Stadtquartier\", \"RaumSort\": 92, \"RaumLang\": \"Altstetten\", \"StichtagDatJahr\": \"2016-01-01T00:00:00\", \"AnzBestWir\": 31724, \"FlaecheT\": 745.5, \"FlaecheL\": 566.2, \"FlaecheS\": 359.2, \"DichteT\": 42.6, \"DichteL\": 56.0, \"DichteS\": 88.3}, {\"RaumKategorie\": \"Stadtquartier\", \"RaumSort\": 92, \"RaumLang\": \"Altstetten\", \"StichtagDatJahr\": \"2017-01-01T00:00:00\", \"AnzBestWir\": 32603, \"FlaecheT\": 745.5, \"FlaecheL\": 565.4, \"FlaecheS\": 358.4, \"DichteT\": 43.7, \"DichteL\": 57.7, \"DichteS\": 91.0}, {\"RaumKategorie\": \"Stadtquartier\", \"RaumSort\": 92, \"RaumLang\": \"Altstetten\", \"StichtagDatJahr\": \"2018-01-01T00:00:00\", \"AnzBestWir\": 33461, \"FlaecheT\": 745.5, \"FlaecheL\": 565.9, \"FlaecheS\": 357.5, \"DichteT\": 44.9, \"DichteL\": 59.1, \"DichteS\": 93.6}, {\"RaumKategorie\": \"Stadtquartier\", \"RaumSort\": 92, \"RaumLang\": \"Altstetten\", \"StichtagDatJahr\": \"2019-01-01T00:00:00\", \"AnzBestWir\": 34285, \"FlaecheT\": 745.5, \"FlaecheL\": 566.0, \"FlaecheS\": 358.2, \"DichteT\": 46.0, \"DichteL\": 60.6, \"DichteS\": 95.7}, {\"RaumKategorie\": \"Stadtquartier\", \"RaumSort\": 92, \"RaumLang\": \"Altstetten\", \"StichtagDatJahr\": \"2020-01-01T00:00:00\", \"AnzBestWir\": 34098, \"FlaecheT\": 745.5, \"FlaecheL\": 566.0, \"FlaecheS\": 358.1, \"DichteT\": 45.7, \"DichteL\": 60.2, \"DichteS\": 95.2}, {\"RaumKategorie\": \"Stadtquartier\", \"RaumSort\": 101, \"RaumLang\": \"H\\u00f6ngg\", \"StichtagDatJahr\": \"2009-01-01T00:00:00\", \"AnzBestWir\": 21294, \"FlaecheT\": 698.3, \"FlaecheL\": 465.4, \"FlaecheS\": 241.7, \"DichteT\": 30.5, \"DichteL\": 45.8, \"DichteS\": 88.1}, {\"RaumKategorie\": \"Stadtquartier\", \"RaumSort\": 101, \"RaumLang\": \"H\\u00f6ngg\", \"StichtagDatJahr\": \"2010-01-01T00:00:00\", \"AnzBestWir\": 21179, \"FlaecheT\": 698.3, \"FlaecheL\": 465.4, \"FlaecheS\": 241.5, \"DichteT\": 30.3, \"DichteL\": 45.5, \"DichteS\": 87.7}, {\"RaumKategorie\": \"Stadtquartier\", \"RaumSort\": 101, \"RaumLang\": \"H\\u00f6ngg\", \"StichtagDatJahr\": \"2011-01-01T00:00:00\", \"AnzBestWir\": 21323, \"FlaecheT\": 696.4, \"FlaecheL\": 462.1, \"FlaecheS\": 241.2, \"DichteT\": 30.6, \"DichteL\": 46.1, \"DichteS\": 88.4}, {\"RaumKategorie\": \"Stadtquartier\", \"RaumSort\": 101, \"RaumLang\": \"H\\u00f6ngg\", \"StichtagDatJahr\": \"2012-01-01T00:00:00\", \"AnzBestWir\": 21537, \"FlaecheT\": 698.4, \"FlaecheL\": 465.4, \"FlaecheS\": 241.6, \"DichteT\": 30.8, \"DichteL\": 46.3, \"DichteS\": 89.2}, {\"RaumKategorie\": \"Stadtquartier\", \"RaumSort\": 101, \"RaumLang\": \"H\\u00f6ngg\", \"StichtagDatJahr\": \"2013-01-01T00:00:00\", \"AnzBestWir\": 21581, \"FlaecheT\": 698.3, \"FlaecheL\": 465.4, \"FlaecheS\": 241.5, \"DichteT\": 30.9, \"DichteL\": 46.4, \"DichteS\": 89.4}, {\"RaumKategorie\": \"Stadtquartier\", \"RaumSort\": 101, \"RaumLang\": \"H\\u00f6ngg\", \"StichtagDatJahr\": \"2014-01-01T00:00:00\", \"AnzBestWir\": 21826, \"FlaecheT\": 698.3, \"FlaecheL\": 465.5, \"FlaecheS\": 241.6, \"DichteT\": 31.3, \"DichteL\": 46.9, \"DichteS\": 90.3}, {\"RaumKategorie\": \"Stadtquartier\", \"RaumSort\": 101, \"RaumLang\": \"H\\u00f6ngg\", \"StichtagDatJahr\": \"2015-01-01T00:00:00\", \"AnzBestWir\": 22320, \"FlaecheT\": 698.4, \"FlaecheL\": 463.6, \"FlaecheS\": 242.1, \"DichteT\": 32.0, \"DichteL\": 48.1, \"DichteS\": 92.2}, {\"RaumKategorie\": \"Stadtquartier\", \"RaumSort\": 101, \"RaumLang\": \"H\\u00f6ngg\", \"StichtagDatJahr\": \"2016-01-01T00:00:00\", \"AnzBestWir\": 23423, \"FlaecheT\": 698.4, \"FlaecheL\": 463.8, \"FlaecheS\": 243.9, \"DichteT\": 33.5, \"DichteL\": 50.5, \"DichteS\": 96.0}, {\"RaumKategorie\": \"Stadtquartier\", \"RaumSort\": 101, \"RaumLang\": \"H\\u00f6ngg\", \"StichtagDatJahr\": \"2017-01-01T00:00:00\", \"AnzBestWir\": 23797, \"FlaecheT\": 698.4, \"FlaecheL\": 462.0, \"FlaecheS\": 247.2, \"DichteT\": 34.1, \"DichteL\": 51.5, \"DichteS\": 96.3}, {\"RaumKategorie\": \"Stadtquartier\", \"RaumSort\": 101, \"RaumLang\": \"H\\u00f6ngg\", \"StichtagDatJahr\": \"2018-01-01T00:00:00\", \"AnzBestWir\": 24020, \"FlaecheT\": 698.4, \"FlaecheL\": 462.1, \"FlaecheS\": 248.3, \"DichteT\": 34.4, \"DichteL\": 52.0, \"DichteS\": 96.8}, {\"RaumKategorie\": \"Stadtquartier\", \"RaumSort\": 101, \"RaumLang\": \"H\\u00f6ngg\", \"StichtagDatJahr\": \"2019-01-01T00:00:00\", \"AnzBestWir\": 24358, \"FlaecheT\": 698.4, \"FlaecheL\": 461.9, \"FlaecheS\": 246.9, \"DichteT\": 34.9, \"DichteL\": 52.7, \"DichteS\": 98.7}, {\"RaumKategorie\": \"Stadtquartier\", \"RaumSort\": 101, \"RaumLang\": \"H\\u00f6ngg\", \"StichtagDatJahr\": \"2020-01-01T00:00:00\", \"AnzBestWir\": 24439, \"FlaecheT\": 698.4, \"FlaecheL\": 461.9, \"FlaecheS\": 247.0, \"DichteT\": 35.0, \"DichteL\": 52.9, \"DichteS\": 99.0}, {\"RaumKategorie\": \"Stadtquartier\", \"RaumSort\": 102, \"RaumLang\": \"Wipkingen\", \"StichtagDatJahr\": \"2009-01-01T00:00:00\", \"AnzBestWir\": 15645, \"FlaecheT\": 209.0, \"FlaecheL\": 153.9, \"FlaecheS\": 108.1, \"DichteT\": 74.8, \"DichteL\": 101.7, \"DichteS\": 144.7}, {\"RaumKategorie\": \"Stadtquartier\", \"RaumSort\": 102, \"RaumLang\": \"Wipkingen\", \"StichtagDatJahr\": \"2010-01-01T00:00:00\", \"AnzBestWir\": 15700, \"FlaecheT\": 209.0, \"FlaecheL\": 153.9, \"FlaecheS\": 108.1, \"DichteT\": 75.1, \"DichteL\": 102.0, \"DichteS\": 145.2}, {\"RaumKategorie\": \"Stadtquartier\", \"RaumSort\": 102, \"RaumLang\": \"Wipkingen\", \"StichtagDatJahr\": \"2011-01-01T00:00:00\", \"AnzBestWir\": 15869, \"FlaecheT\": 266.2, \"FlaecheL\": 158.5, \"FlaecheS\": 108.4, \"DichteT\": 59.6, \"DichteL\": 100.1, \"DichteS\": 146.4}, {\"RaumKategorie\": \"Stadtquartier\", \"RaumSort\": 102, \"RaumLang\": \"Wipkingen\", \"StichtagDatJahr\": \"2012-01-01T00:00:00\", \"AnzBestWir\": 15791, \"FlaecheT\": 210.2, \"FlaecheL\": 156.1, \"FlaecheS\": 108.2, \"DichteT\": 75.1, \"DichteL\": 101.1, \"DichteS\": 145.9}, {\"RaumKategorie\": \"Stadtquartier\", \"RaumSort\": 102, \"RaumLang\": \"Wipkingen\", \"StichtagDatJahr\": \"2013-01-01T00:00:00\", \"AnzBestWir\": 15835, \"FlaecheT\": 210.2, \"FlaecheL\": 155.0, \"FlaecheS\": 107.9, \"DichteT\": 75.3, \"DichteL\": 102.1, \"DichteS\": 146.7}, {\"RaumKategorie\": \"Stadtquartier\", \"RaumSort\": 102, \"RaumLang\": \"Wipkingen\", \"StichtagDatJahr\": \"2014-01-01T00:00:00\", \"AnzBestWir\": 15717, \"FlaecheT\": 210.2, \"FlaecheL\": 155.0, \"FlaecheS\": 107.9, \"DichteT\": 74.8, \"DichteL\": 101.4, \"DichteS\": 145.6}, {\"RaumKategorie\": \"Stadtquartier\", \"RaumSort\": 102, \"RaumLang\": \"Wipkingen\", \"StichtagDatJahr\": \"2015-01-01T00:00:00\", \"AnzBestWir\": 15879, \"FlaecheT\": 210.2, \"FlaecheL\": 154.9, \"FlaecheS\": 108.0, \"DichteT\": 75.5, \"DichteL\": 102.5, \"DichteS\": 147.0}, {\"RaumKategorie\": \"Stadtquartier\", \"RaumSort\": 102, \"RaumLang\": \"Wipkingen\", \"StichtagDatJahr\": \"2016-01-01T00:00:00\", \"AnzBestWir\": 16141, \"FlaecheT\": 210.2, \"FlaecheL\": 154.9, \"FlaecheS\": 108.8, \"DichteT\": 76.8, \"DichteL\": 104.2, \"DichteS\": 148.3}, {\"RaumKategorie\": \"Stadtquartier\", \"RaumSort\": 102, \"RaumLang\": \"Wipkingen\", \"StichtagDatJahr\": \"2017-01-01T00:00:00\", \"AnzBestWir\": 16544, \"FlaecheT\": 210.2, \"FlaecheL\": 154.6, \"FlaecheS\": 107.4, \"DichteT\": 78.7, \"DichteL\": 107.0, \"DichteS\": 154.1}, {\"RaumKategorie\": \"Stadtquartier\", \"RaumSort\": 102, \"RaumLang\": \"Wipkingen\", \"StichtagDatJahr\": \"2018-01-01T00:00:00\", \"AnzBestWir\": 16321, \"FlaecheT\": 210.2, \"FlaecheL\": 154.8, \"FlaecheS\": 107.5, \"DichteT\": 77.6, \"DichteL\": 105.4, \"DichteS\": 151.9}, {\"RaumKategorie\": \"Stadtquartier\", \"RaumSort\": 102, \"RaumLang\": \"Wipkingen\", \"StichtagDatJahr\": \"2019-01-01T00:00:00\", \"AnzBestWir\": 16474, \"FlaecheT\": 210.2, \"FlaecheL\": 154.8, \"FlaecheS\": 107.3, \"DichteT\": 78.4, \"DichteL\": 106.4, \"DichteS\": 153.5}, {\"RaumKategorie\": \"Stadtquartier\", \"RaumSort\": 102, \"RaumLang\": \"Wipkingen\", \"StichtagDatJahr\": \"2020-01-01T00:00:00\", \"AnzBestWir\": 16605, \"FlaecheT\": 210.2, \"FlaecheL\": 154.9, \"FlaecheS\": 107.4, \"DichteT\": 79.0, \"DichteL\": 107.2, \"DichteS\": 154.7}, {\"RaumKategorie\": \"Stadtquartier\", \"RaumSort\": 111, \"RaumLang\": \"Affoltern\", \"StichtagDatJahr\": \"2009-01-01T00:00:00\", \"AnzBestWir\": 22383, \"FlaecheT\": 603.2, \"FlaecheL\": 493.3, \"FlaecheS\": 204.0, \"DichteT\": 37.1, \"DichteL\": 45.4, \"DichteS\": 109.7}, {\"RaumKategorie\": \"Stadtquartier\", \"RaumSort\": 111, \"RaumLang\": \"Affoltern\", \"StichtagDatJahr\": \"2010-01-01T00:00:00\", \"AnzBestWir\": 22972, \"FlaecheT\": 603.2, \"FlaecheL\": 493.3, \"FlaecheS\": 205.1, \"DichteT\": 38.1, \"DichteL\": 46.6, \"DichteS\": 112.0}, {\"RaumKategorie\": \"Stadtquartier\", \"RaumSort\": 111, \"RaumLang\": \"Affoltern\", \"StichtagDatJahr\": \"2011-01-01T00:00:00\", \"AnzBestWir\": 24437, \"FlaecheT\": 603.2, \"FlaecheL\": 493.3, \"FlaecheS\": 207.9, \"DichteT\": 40.5, \"DichteL\": 49.5, \"DichteS\": 117.6}, {\"RaumKategorie\": \"Stadtquartier\", \"RaumSort\": 111, \"RaumLang\": \"Affoltern\", \"StichtagDatJahr\": \"2012-01-01T00:00:00\", \"AnzBestWir\": 24855, \"FlaecheT\": 603.2, \"FlaecheL\": 493.2, \"FlaecheS\": 212.3, \"DichteT\": 41.2, \"DichteL\": 50.4, \"DichteS\": 117.1}, {\"RaumKategorie\": \"Stadtquartier\", \"RaumSort\": 111, \"RaumLang\": \"Affoltern\", \"StichtagDatJahr\": \"2013-01-01T00:00:00\", \"AnzBestWir\": 25082, \"FlaecheT\": 603.2, \"FlaecheL\": 493.2, \"FlaecheS\": 212.2, \"DichteT\": 41.6, \"DichteL\": 50.9, \"DichteS\": 118.2}, {\"RaumKategorie\": \"Stadtquartier\", \"RaumSort\": 111, \"RaumLang\": \"Affoltern\", \"StichtagDatJahr\": \"2014-01-01T00:00:00\", \"AnzBestWir\": 25902, \"FlaecheT\": 603.1, \"FlaecheL\": 493.1, \"FlaecheS\": 212.5, \"DichteT\": 42.9, \"DichteL\": 52.5, \"DichteS\": 121.9}, {\"RaumKategorie\": \"Stadtquartier\", \"RaumSort\": 111, \"RaumLang\": \"Affoltern\", \"StichtagDatJahr\": \"2015-01-01T00:00:00\", \"AnzBestWir\": 25874, \"FlaecheT\": 604.4, \"FlaecheL\": 493.7, \"FlaecheS\": 213.9, \"DichteT\": 42.8, \"DichteL\": 52.4, \"DichteS\": 121.0}, {\"RaumKategorie\": \"Stadtquartier\", \"RaumSort\": 111, \"RaumLang\": \"Affoltern\", \"StichtagDatJahr\": \"2016-01-01T00:00:00\", \"AnzBestWir\": 26054, \"FlaecheT\": 604.4, \"FlaecheL\": 493.4, \"FlaecheS\": 215.1, \"DichteT\": 43.1, \"DichteL\": 52.8, \"DichteS\": 121.1}, {\"RaumKategorie\": \"Stadtquartier\", \"RaumSort\": 111, \"RaumLang\": \"Affoltern\", \"StichtagDatJahr\": \"2017-01-01T00:00:00\", \"AnzBestWir\": 26177, \"FlaecheT\": 604.4, \"FlaecheL\": 493.5, \"FlaecheS\": 215.8, \"DichteT\": 43.3, \"DichteL\": 53.0, \"DichteS\": 121.3}, {\"RaumKategorie\": \"Stadtquartier\", \"RaumSort\": 111, \"RaumLang\": \"Affoltern\", \"StichtagDatJahr\": \"2018-01-01T00:00:00\", \"AnzBestWir\": 26562, \"FlaecheT\": 604.4, \"FlaecheL\": 494.2, \"FlaecheS\": 216.6, \"DichteT\": 43.9, \"DichteL\": 53.7, \"DichteS\": 122.6}, {\"RaumKategorie\": \"Stadtquartier\", \"RaumSort\": 111, \"RaumLang\": \"Affoltern\", \"StichtagDatJahr\": \"2019-01-01T00:00:00\", \"AnzBestWir\": 26710, \"FlaecheT\": 604.4, \"FlaecheL\": 494.2, \"FlaecheS\": 217.1, \"DichteT\": 44.2, \"DichteL\": 54.0, \"DichteS\": 123.0}, {\"RaumKategorie\": \"Stadtquartier\", \"RaumSort\": 111, \"RaumLang\": \"Affoltern\", \"StichtagDatJahr\": \"2020-01-01T00:00:00\", \"AnzBestWir\": 26584, \"FlaecheT\": 604.4, \"FlaecheL\": 494.6, \"FlaecheS\": 216.9, \"DichteT\": 44.0, \"DichteL\": 53.7, \"DichteS\": 122.6}, {\"RaumKategorie\": \"Stadtquartier\", \"RaumSort\": 115, \"RaumLang\": \"Oerlikon\", \"StichtagDatJahr\": \"2009-01-01T00:00:00\", \"AnzBestWir\": 20740, \"FlaecheT\": 267.9, \"FlaecheL\": 264.5, \"FlaecheS\": 187.6, \"DichteT\": 77.4, \"DichteL\": 78.4, \"DichteS\": 110.5}, {\"RaumKategorie\": \"Stadtquartier\", \"RaumSort\": 115, \"RaumLang\": \"Oerlikon\", \"StichtagDatJahr\": \"2010-01-01T00:00:00\", \"AnzBestWir\": 20787, \"FlaecheT\": 267.8, \"FlaecheL\": 264.4, \"FlaecheS\": 187.5, \"DichteT\": 77.6, \"DichteL\": 78.6, \"DichteS\": 110.9}, {\"RaumKategorie\": \"Stadtquartier\", \"RaumSort\": 115, \"RaumLang\": \"Oerlikon\", \"StichtagDatJahr\": \"2011-01-01T00:00:00\", \"AnzBestWir\": 21253, \"FlaecheT\": 267.8, \"FlaecheL\": 264.4, \"FlaecheS\": 187.6, \"DichteT\": 79.4, \"DichteL\": 80.4, \"DichteS\": 113.3}, {\"RaumKategorie\": \"Stadtquartier\", \"RaumSort\": 115, \"RaumLang\": \"Oerlikon\", \"StichtagDatJahr\": \"2012-01-01T00:00:00\", \"AnzBestWir\": 21331, \"FlaecheT\": 267.8, \"FlaecheL\": 265.0, \"FlaecheS\": 188.5, \"DichteT\": 79.6, \"DichteL\": 80.5, \"DichteS\": 113.2}, {\"RaumKategorie\": \"Stadtquartier\", \"RaumSort\": 115, \"RaumLang\": \"Oerlikon\", \"StichtagDatJahr\": \"2013-01-01T00:00:00\", \"AnzBestWir\": 21658, \"FlaecheT\": 267.8, \"FlaecheL\": 265.0, \"FlaecheS\": 188.8, \"DichteT\": 80.9, \"DichteL\": 81.7, \"DichteS\": 114.7}, {\"RaumKategorie\": \"Stadtquartier\", \"RaumSort\": 115, \"RaumLang\": \"Oerlikon\", \"StichtagDatJahr\": \"2014-01-01T00:00:00\", \"AnzBestWir\": 21895, \"FlaecheT\": 267.8, \"FlaecheL\": 265.0, \"FlaecheS\": 188.7, \"DichteT\": 81.7, \"DichteL\": 82.6, \"DichteS\": 116.0}, {\"RaumKategorie\": \"Stadtquartier\", \"RaumSort\": 115, \"RaumLang\": \"Oerlikon\", \"StichtagDatJahr\": \"2015-01-01T00:00:00\", \"AnzBestWir\": 21966, \"FlaecheT\": 267.5, \"FlaecheL\": 264.7, \"FlaecheS\": 188.5, \"DichteT\": 82.1, \"DichteL\": 83.0, \"DichteS\": 116.5}, {\"RaumKategorie\": \"Stadtquartier\", \"RaumSort\": 115, \"RaumLang\": \"Oerlikon\", \"StichtagDatJahr\": \"2016-01-01T00:00:00\", \"AnzBestWir\": 22161, \"FlaecheT\": 267.5, \"FlaecheL\": 263.4, \"FlaecheS\": 187.7, \"DichteT\": 82.9, \"DichteL\": 84.1, \"DichteS\": 118.1}, {\"RaumKategorie\": \"Stadtquartier\", \"RaumSort\": 115, \"RaumLang\": \"Oerlikon\", \"StichtagDatJahr\": \"2017-01-01T00:00:00\", \"AnzBestWir\": 22815, \"FlaecheT\": 267.5, \"FlaecheL\": 263.3, \"FlaecheS\": 187.5, \"DichteT\": 85.3, \"DichteL\": 86.6, \"DichteS\": 121.7}, {\"RaumKategorie\": \"Stadtquartier\", \"RaumSort\": 115, \"RaumLang\": \"Oerlikon\", \"StichtagDatJahr\": \"2018-01-01T00:00:00\", \"AnzBestWir\": 23214, \"FlaecheT\": 267.5, \"FlaecheL\": 264.2, \"FlaecheS\": 187.3, \"DichteT\": 86.8, \"DichteL\": 87.9, \"DichteS\": 124.0}, {\"RaumKategorie\": \"Stadtquartier\", \"RaumSort\": 115, \"RaumLang\": \"Oerlikon\", \"StichtagDatJahr\": \"2019-01-01T00:00:00\", \"AnzBestWir\": 23288, \"FlaecheT\": 267.5, \"FlaecheL\": 264.2, \"FlaecheS\": 187.2, \"DichteT\": 87.1, \"DichteL\": 88.2, \"DichteS\": 124.4}, {\"RaumKategorie\": \"Stadtquartier\", \"RaumSort\": 115, \"RaumLang\": \"Oerlikon\", \"StichtagDatJahr\": \"2020-01-01T00:00:00\", \"AnzBestWir\": 23548, \"FlaecheT\": 267.5, \"FlaecheL\": 264.2, \"FlaecheS\": 187.1, \"DichteT\": 88.0, \"DichteL\": 89.1, \"DichteS\": 125.9}, {\"RaumKategorie\": \"Stadtquartier\", \"RaumSort\": 119, \"RaumLang\": \"Seebach\", \"StichtagDatJahr\": \"2009-01-01T00:00:00\", \"AnzBestWir\": 21489, \"FlaecheT\": 471.8, \"FlaecheL\": 431.5, \"FlaecheS\": 221.1, \"DichteT\": 45.5, \"DichteL\": 49.8, \"DichteS\": 97.2}, {\"RaumKategorie\": \"Stadtquartier\", \"RaumSort\": 119, \"RaumLang\": \"Seebach\", \"StichtagDatJahr\": \"2010-01-01T00:00:00\", \"AnzBestWir\": 22037, \"FlaecheT\": 471.8, \"FlaecheL\": 431.6, \"FlaecheS\": 220.6, \"DichteT\": 46.7, \"DichteL\": 51.1, \"DichteS\": 99.9}, {\"RaumKategorie\": \"Stadtquartier\", \"RaumSort\": 119, \"RaumLang\": \"Seebach\", \"StichtagDatJahr\": \"2011-01-01T00:00:00\", \"AnzBestWir\": 22255, \"FlaecheT\": 473.9, \"FlaecheL\": 431.6, \"FlaecheS\": 219.6, \"DichteT\": 47.0, \"DichteL\": 51.6, \"DichteS\": 101.3}, {\"RaumKategorie\": \"Stadtquartier\", \"RaumSort\": 119, \"RaumLang\": \"Seebach\", \"StichtagDatJahr\": \"2012-01-01T00:00:00\", \"AnzBestWir\": 23310, \"FlaecheT\": 471.8, \"FlaecheL\": 431.6, \"FlaecheS\": 220.3, \"DichteT\": 49.4, \"DichteL\": 54.0, \"DichteS\": 105.8}, {\"RaumKategorie\": \"Stadtquartier\", \"RaumSort\": 119, \"RaumLang\": \"Seebach\", \"StichtagDatJahr\": \"2013-01-01T00:00:00\", \"AnzBestWir\": 24008, \"FlaecheT\": 471.8, \"FlaecheL\": 431.6, \"FlaecheS\": 219.8, \"DichteT\": 50.9, \"DichteL\": 55.6, \"DichteS\": 109.2}, {\"RaumKategorie\": \"Stadtquartier\", \"RaumSort\": 119, \"RaumLang\": \"Seebach\", \"StichtagDatJahr\": \"2014-01-01T00:00:00\", \"AnzBestWir\": 24431, \"FlaecheT\": 471.9, \"FlaecheL\": 431.6, \"FlaecheS\": 220.1, \"DichteT\": 51.8, \"DichteL\": 56.6, \"DichteS\": 111.0}, {\"RaumKategorie\": \"Stadtquartier\", \"RaumSort\": 119, \"RaumLang\": \"Seebach\", \"StichtagDatJahr\": \"2015-01-01T00:00:00\", \"AnzBestWir\": 24991, \"FlaecheT\": 471.0, \"FlaecheL\": 430.3, \"FlaecheS\": 220.5, \"DichteT\": 53.1, \"DichteL\": 58.1, \"DichteS\": 113.3}, {\"RaumKategorie\": \"Stadtquartier\", \"RaumSort\": 119, \"RaumLang\": \"Seebach\", \"StichtagDatJahr\": \"2016-01-01T00:00:00\", \"AnzBestWir\": 25198, \"FlaecheT\": 471.0, \"FlaecheL\": 424.8, \"FlaecheS\": 221.9, \"DichteT\": 53.5, \"DichteL\": 59.3, \"DichteS\": 113.5}, {\"RaumKategorie\": \"Stadtquartier\", \"RaumSort\": 119, \"RaumLang\": \"Seebach\", \"StichtagDatJahr\": \"2017-01-01T00:00:00\", \"AnzBestWir\": 25817, \"FlaecheT\": 471.0, \"FlaecheL\": 424.8, \"FlaecheS\": 223.2, \"DichteT\": 54.8, \"DichteL\": 60.8, \"DichteS\": 115.7}, {\"RaumKategorie\": \"Stadtquartier\", \"RaumSort\": 119, \"RaumLang\": \"Seebach\", \"StichtagDatJahr\": \"2018-01-01T00:00:00\", \"AnzBestWir\": 25568, \"FlaecheT\": 471.0, \"FlaecheL\": 425.3, \"FlaecheS\": 223.2, \"DichteT\": 54.3, \"DichteL\": 60.1, \"DichteS\": 114.5}, {\"RaumKategorie\": \"Stadtquartier\", \"RaumSort\": 119, \"RaumLang\": \"Seebach\", \"StichtagDatJahr\": \"2019-01-01T00:00:00\", \"AnzBestWir\": 25806, \"FlaecheT\": 471.0, \"FlaecheL\": 425.3, \"FlaecheS\": 222.9, \"DichteT\": 54.8, \"DichteL\": 60.7, \"DichteS\": 115.8}, {\"RaumKategorie\": \"Stadtquartier\", \"RaumSort\": 119, \"RaumLang\": \"Seebach\", \"StichtagDatJahr\": \"2020-01-01T00:00:00\", \"AnzBestWir\": 26056, \"FlaecheT\": 471.0, \"FlaecheL\": 425.5, \"FlaecheS\": 222.9, \"DichteT\": 55.3, \"DichteL\": 61.2, \"DichteS\": 116.9}, {\"RaumKategorie\": \"Stadtquartier\", \"RaumSort\": 121, \"RaumLang\": \"Saatlen\", \"StichtagDatJahr\": \"2009-01-01T00:00:00\", \"AnzBestWir\": 7132, \"FlaecheT\": 111.0, \"FlaecheL\": 107.5, \"FlaecheS\": 82.5, \"DichteT\": 64.2, \"DichteL\": 66.4, \"DichteS\": 86.5}, {\"RaumKategorie\": \"Stadtquartier\", \"RaumSort\": 121, \"RaumLang\": \"Saatlen\", \"StichtagDatJahr\": \"2010-01-01T00:00:00\", \"AnzBestWir\": 7175, \"FlaecheT\": 111.0, \"FlaecheL\": 107.2, \"FlaecheS\": 81.4, \"DichteT\": 64.6, \"DichteL\": 67.0, \"DichteS\": 88.1}, {\"RaumKategorie\": \"Stadtquartier\", \"RaumSort\": 121, \"RaumLang\": \"Saatlen\", \"StichtagDatJahr\": \"2011-01-01T00:00:00\", \"AnzBestWir\": 7131, \"FlaecheT\": 111.0, \"FlaecheL\": 107.2, \"FlaecheS\": 81.5, \"DichteT\": 64.2, \"DichteL\": 66.5, \"DichteS\": 87.6}, {\"RaumKategorie\": \"Stadtquartier\", \"RaumSort\": 121, \"RaumLang\": \"Saatlen\", \"StichtagDatJahr\": \"2012-01-01T00:00:00\", \"AnzBestWir\": 7118, \"FlaecheT\": 111.0, \"FlaecheL\": 107.2, \"FlaecheS\": 81.5, \"DichteT\": 64.1, \"DichteL\": 66.4, \"DichteS\": 87.4}, {\"RaumKategorie\": \"Stadtquartier\", \"RaumSort\": 121, \"RaumLang\": \"Saatlen\", \"StichtagDatJahr\": \"2013-01-01T00:00:00\", \"AnzBestWir\": 7280, \"FlaecheT\": 113.3, \"FlaecheL\": 109.3, \"FlaecheS\": 81.9, \"DichteT\": 64.3, \"DichteL\": 66.6, \"DichteS\": 88.9}, {\"RaumKategorie\": \"Stadtquartier\", \"RaumSort\": 121, \"RaumLang\": \"Saatlen\", \"StichtagDatJahr\": \"2014-01-01T00:00:00\", \"AnzBestWir\": 7563, \"FlaecheT\": 112.8, \"FlaecheL\": 108.9, \"FlaecheS\": 81.9, \"DichteT\": 67.0, \"DichteL\": 69.4, \"DichteS\": 92.4}, {\"RaumKategorie\": \"Stadtquartier\", \"RaumSort\": 121, \"RaumLang\": \"Saatlen\", \"StichtagDatJahr\": \"2015-01-01T00:00:00\", \"AnzBestWir\": 8508, \"FlaecheT\": 112.8, \"FlaecheL\": 109.0, \"FlaecheS\": 82.3, \"DichteT\": 75.4, \"DichteL\": 78.1, \"DichteS\": 103.3}, {\"RaumKategorie\": \"Stadtquartier\", \"RaumSort\": 121, \"RaumLang\": \"Saatlen\", \"StichtagDatJahr\": \"2016-01-01T00:00:00\", \"AnzBestWir\": 8283, \"FlaecheT\": 112.8, \"FlaecheL\": 108.3, \"FlaecheS\": 83.2, \"DichteT\": 73.4, \"DichteL\": 76.5, \"DichteS\": 99.6}, {\"RaumKategorie\": \"Stadtquartier\", \"RaumSort\": 121, \"RaumLang\": \"Saatlen\", \"StichtagDatJahr\": \"2017-01-01T00:00:00\", \"AnzBestWir\": 8388, \"FlaecheT\": 112.8, \"FlaecheL\": 107.6, \"FlaecheS\": 83.1, \"DichteT\": 74.4, \"DichteL\": 77.9, \"DichteS\": 101.0}, {\"RaumKategorie\": \"Stadtquartier\", \"RaumSort\": 121, \"RaumLang\": \"Saatlen\", \"StichtagDatJahr\": \"2018-01-01T00:00:00\", \"AnzBestWir\": 8582, \"FlaecheT\": 112.8, \"FlaecheL\": 108.0, \"FlaecheS\": 83.9, \"DichteT\": 76.1, \"DichteL\": 79.5, \"DichteS\": 102.3}, {\"RaumKategorie\": \"Stadtquartier\", \"RaumSort\": 121, \"RaumLang\": \"Saatlen\", \"StichtagDatJahr\": \"2019-01-01T00:00:00\", \"AnzBestWir\": 8841, \"FlaecheT\": 112.8, \"FlaecheL\": 107.9, \"FlaecheS\": 83.8, \"DichteT\": 78.4, \"DichteL\": 81.9, \"DichteS\": 105.5}, {\"RaumKategorie\": \"Stadtquartier\", \"RaumSort\": 121, \"RaumLang\": \"Saatlen\", \"StichtagDatJahr\": \"2020-01-01T00:00:00\", \"AnzBestWir\": 8799, \"FlaecheT\": 112.8, \"FlaecheL\": 107.9, \"FlaecheS\": 83.8, \"DichteT\": 78.0, \"DichteL\": 81.5, \"DichteS\": 105.0}, {\"RaumKategorie\": \"Stadtquartier\", \"RaumSort\": 122, \"RaumLang\": \"Schwamendingen-Mitte\", \"StichtagDatJahr\": \"2009-01-01T00:00:00\", \"AnzBestWir\": 10857, \"FlaecheT\": 228.9, \"FlaecheL\": 137.4, \"FlaecheS\": 86.9, \"DichteT\": 47.4, \"DichteL\": 79.0, \"DichteS\": 124.9}, {\"RaumKategorie\": \"Stadtquartier\", \"RaumSort\": 122, \"RaumLang\": \"Schwamendingen-Mitte\", \"StichtagDatJahr\": \"2010-01-01T00:00:00\", \"AnzBestWir\": 10903, \"FlaecheT\": 228.9, \"FlaecheL\": 137.4, \"FlaecheS\": 86.9, \"DichteT\": 47.6, \"DichteL\": 79.4, \"DichteS\": 125.4}, {\"RaumKategorie\": \"Stadtquartier\", \"RaumSort\": 122, \"RaumLang\": \"Schwamendingen-Mitte\", \"StichtagDatJahr\": \"2011-01-01T00:00:00\", \"AnzBestWir\": 10863, \"FlaecheT\": 228.9, \"FlaecheL\": 137.4, \"FlaecheS\": 87.0, \"DichteT\": 47.5, \"DichteL\": 79.1, \"DichteS\": 124.9}, {\"RaumKategorie\": \"Stadtquartier\", \"RaumSort\": 122, \"RaumLang\": \"Schwamendingen-Mitte\", \"StichtagDatJahr\": \"2012-01-01T00:00:00\", \"AnzBestWir\": 10934, \"FlaecheT\": 229.3, \"FlaecheL\": 137.9, \"FlaecheS\": 86.9, \"DichteT\": 47.7, \"DichteL\": 79.3, \"DichteS\": 125.8}, {\"RaumKategorie\": \"Stadtquartier\", \"RaumSort\": 122, \"RaumLang\": \"Schwamendingen-Mitte\", \"StichtagDatJahr\": \"2013-01-01T00:00:00\", \"AnzBestWir\": 11209, \"FlaecheT\": 227.1, \"FlaecheL\": 135.8, \"FlaecheS\": 87.4, \"DichteT\": 49.4, \"DichteL\": 82.5, \"DichteS\": 128.3}, {\"RaumKategorie\": \"Stadtquartier\", \"RaumSort\": 122, \"RaumLang\": \"Schwamendingen-Mitte\", \"StichtagDatJahr\": \"2014-01-01T00:00:00\", \"AnzBestWir\": 11301, \"FlaecheT\": 279.1, \"FlaecheL\": 138.5, \"FlaecheS\": 87.4, \"DichteT\": 40.5, \"DichteL\": 81.6, \"DichteS\": 129.4}, {\"RaumKategorie\": \"Stadtquartier\", \"RaumSort\": 122, \"RaumLang\": \"Schwamendingen-Mitte\", \"StichtagDatJahr\": \"2015-01-01T00:00:00\", \"AnzBestWir\": 11315, \"FlaecheT\": 279.1, \"FlaecheL\": 138.3, \"FlaecheS\": 87.4, \"DichteT\": 40.5, \"DichteL\": 81.8, \"DichteS\": 129.4}, {\"RaumKategorie\": \"Stadtquartier\", \"RaumSort\": 122, \"RaumLang\": \"Schwamendingen-Mitte\", \"StichtagDatJahr\": \"2016-01-01T00:00:00\", \"AnzBestWir\": 11076, \"FlaecheT\": 279.2, \"FlaecheL\": 138.1, \"FlaecheS\": 87.7, \"DichteT\": 39.7, \"DichteL\": 80.2, \"DichteS\": 126.3}, {\"RaumKategorie\": \"Stadtquartier\", \"RaumSort\": 122, \"RaumLang\": \"Schwamendingen-Mitte\", \"StichtagDatJahr\": \"2017-01-01T00:00:00\", \"AnzBestWir\": 11012, \"FlaecheT\": 279.2, \"FlaecheL\": 137.3, \"FlaecheS\": 88.0, \"DichteT\": 39.4, \"DichteL\": 80.2, \"DichteS\": 125.2}, {\"RaumKategorie\": \"Stadtquartier\", \"RaumSort\": 122, \"RaumLang\": \"Schwamendingen-Mitte\", \"StichtagDatJahr\": \"2018-01-01T00:00:00\", \"AnzBestWir\": 11100, \"FlaecheT\": 279.2, \"FlaecheL\": 137.3, \"FlaecheS\": 87.9, \"DichteT\": 39.8, \"DichteL\": 80.8, \"DichteS\": 126.3}, {\"RaumKategorie\": \"Stadtquartier\", \"RaumSort\": 122, \"RaumLang\": \"Schwamendingen-Mitte\", \"StichtagDatJahr\": \"2019-01-01T00:00:00\", \"AnzBestWir\": 11261, \"FlaecheT\": 279.2, \"FlaecheL\": 137.4, \"FlaecheS\": 87.9, \"DichteT\": 40.3, \"DichteL\": 82.0, \"DichteS\": 128.1}, {\"RaumKategorie\": \"Stadtquartier\", \"RaumSort\": 122, \"RaumLang\": \"Schwamendingen-Mitte\", \"StichtagDatJahr\": \"2020-01-01T00:00:00\", \"AnzBestWir\": 11083, \"FlaecheT\": 279.2, \"FlaecheL\": 137.4, \"FlaecheS\": 87.9, \"DichteT\": 39.7, \"DichteL\": 80.7, \"DichteS\": 126.1}, {\"RaumKategorie\": \"Stadtquartier\", \"RaumSort\": 123, \"RaumLang\": \"Hirzenbach\", \"StichtagDatJahr\": \"2009-01-01T00:00:00\", \"AnzBestWir\": 11610, \"FlaecheT\": 256.7, \"FlaecheL\": 180.5, \"FlaecheS\": 99.2, \"DichteT\": 45.2, \"DichteL\": 64.3, \"DichteS\": 117.1}, {\"RaumKategorie\": \"Stadtquartier\", \"RaumSort\": 123, \"RaumLang\": \"Hirzenbach\", \"StichtagDatJahr\": \"2010-01-01T00:00:00\", \"AnzBestWir\": 11459, \"FlaecheT\": 256.7, \"FlaecheL\": 180.5, \"FlaecheS\": 99.2, \"DichteT\": 44.6, \"DichteL\": 63.5, \"DichteS\": 115.6}, {\"RaumKategorie\": \"Stadtquartier\", \"RaumSort\": 123, \"RaumLang\": \"Hirzenbach\", \"StichtagDatJahr\": \"2011-01-01T00:00:00\", \"AnzBestWir\": 11516, \"FlaecheT\": 256.7, \"FlaecheL\": 180.5, \"FlaecheS\": 98.9, \"DichteT\": 44.9, \"DichteL\": 63.8, \"DichteS\": 116.4}, {\"RaumKategorie\": \"Stadtquartier\", \"RaumSort\": 123, \"RaumLang\": \"Hirzenbach\", \"StichtagDatJahr\": \"2012-01-01T00:00:00\", \"AnzBestWir\": 11404, \"FlaecheT\": 256.2, \"FlaecheL\": 179.9, \"FlaecheS\": 99.4, \"DichteT\": 44.5, \"DichteL\": 63.4, \"DichteS\": 114.7}, {\"RaumKategorie\": \"Stadtquartier\", \"RaumSort\": 123, \"RaumLang\": \"Hirzenbach\", \"StichtagDatJahr\": \"2013-01-01T00:00:00\", \"AnzBestWir\": 11153, \"FlaecheT\": 256.2, \"FlaecheL\": 180.0, \"FlaecheS\": 99.3, \"DichteT\": 43.5, \"DichteL\": 62.0, \"DichteS\": 112.3}, {\"RaumKategorie\": \"Stadtquartier\", \"RaumSort\": 123, \"RaumLang\": \"Hirzenbach\", \"StichtagDatJahr\": \"2014-01-01T00:00:00\", \"AnzBestWir\": 11679, \"FlaecheT\": 204.6, \"FlaecheL\": 177.7, \"FlaecheS\": 99.5, \"DichteT\": 57.1, \"DichteL\": 65.7, \"DichteS\": 117.4}, {\"RaumKategorie\": \"Stadtquartier\", \"RaumSort\": 123, \"RaumLang\": \"Hirzenbach\", \"StichtagDatJahr\": \"2015-01-01T00:00:00\", \"AnzBestWir\": 11930, \"FlaecheT\": 204.6, \"FlaecheL\": 176.7, \"FlaecheS\": 99.4, \"DichteT\": 58.3, \"DichteL\": 67.5, \"DichteS\": 120.0}, {\"RaumKategorie\": \"Stadtquartier\", \"RaumSort\": 123, \"RaumLang\": \"Hirzenbach\", \"StichtagDatJahr\": \"2016-01-01T00:00:00\", \"AnzBestWir\": 12463, \"FlaecheT\": 204.6, \"FlaecheL\": 176.2, \"FlaecheS\": 101.3, \"DichteT\": 60.9, \"DichteL\": 70.7, \"DichteS\": 123.1}, {\"RaumKategorie\": \"Stadtquartier\", \"RaumSort\": 123, \"RaumLang\": \"Hirzenbach\", \"StichtagDatJahr\": \"2017-01-01T00:00:00\", \"AnzBestWir\": 12627, \"FlaecheT\": 204.6, \"FlaecheL\": 176.1, \"FlaecheS\": 101.1, \"DichteT\": 61.7, \"DichteL\": 71.7, \"DichteS\": 124.9}, {\"RaumKategorie\": \"Stadtquartier\", \"RaumSort\": 123, \"RaumLang\": \"Hirzenbach\", \"StichtagDatJahr\": \"2018-01-01T00:00:00\", \"AnzBestWir\": 12801, \"FlaecheT\": 204.6, \"FlaecheL\": 175.9, \"FlaecheS\": 101.1, \"DichteT\": 62.6, \"DichteL\": 72.8, \"DichteS\": 126.6}, {\"RaumKategorie\": \"Stadtquartier\", \"RaumSort\": 123, \"RaumLang\": \"Hirzenbach\", \"StichtagDatJahr\": \"2019-01-01T00:00:00\", \"AnzBestWir\": 13129, \"FlaecheT\": 204.6, \"FlaecheL\": 175.9, \"FlaecheS\": 100.2, \"DichteT\": 64.2, \"DichteL\": 74.6, \"DichteS\": 131.0}, {\"RaumKategorie\": \"Stadtquartier\", \"RaumSort\": 123, \"RaumLang\": \"Hirzenbach\", \"StichtagDatJahr\": \"2020-01-01T00:00:00\", \"AnzBestWir\": 12963, \"FlaecheT\": 204.6, \"FlaecheL\": 175.9, \"FlaecheS\": 100.3, \"DichteT\": 63.3, \"DichteL\": 73.7, \"DichteS\": 129.3}]}}, {\"mode\": \"vega-lite\"});\n",
       "</script>"
      ],
      "text/plain": [
       "alt.Chart(...)"
      ]
     },
     "execution_count": 31,
     "metadata": {},
     "output_type": "execute_result"
    }
   ],
   "source": [
    "alt.Chart(data2betested).mark_circle(size=60).encode(\n",
    "    x='RaumLang', #QuarLang\n",
    "    y='StichtagDatJahr',\n",
    "    #color='AnzNat',\n",
    "    #color=alt.Color('AnzNat', scale=alt.Scale(scheme='dark2')),\n",
    "    color=alt.Color('DichteS', scale=alt.Scale(scheme='reds')),\n",
    "    tooltip=['RaumLang','StichtagDatJahr','DichteS']\n",
    ").interactive() # this makes the axes interactive: now you can zoom & pan\n",
    "\n",
    "\n"
   ]
  },
  {
   "cell_type": "markdown",
   "metadata": {},
   "source": [
    "Test: Choroplethenkarte"
   ]
  },
  {
   "cell_type": "markdown",
   "metadata": {},
   "source": [
    "**Test: Choroplethenkarte**\n",
    "Importiere die Geodaten als GeoJSON"
   ]
  },
  {
   "cell_type": "code",
   "execution_count": 32,
   "metadata": {},
   "outputs": [
    {
     "data": {
      "text/html": [
       "<div>\n",
       "<style scoped>\n",
       "    .dataframe tbody tr th:only-of-type {\n",
       "        vertical-align: middle;\n",
       "    }\n",
       "\n",
       "    .dataframe tbody tr th {\n",
       "        vertical-align: top;\n",
       "    }\n",
       "\n",
       "    .dataframe thead th {\n",
       "        text-align: right;\n",
       "    }\n",
       "</style>\n",
       "<table border=\"1\" class=\"dataframe\">\n",
       "  <thead>\n",
       "    <tr style=\"text-align: right;\">\n",
       "      <th></th>\n",
       "      <th>objectid</th>\n",
       "      <th>objid</th>\n",
       "      <th>qnr</th>\n",
       "      <th>qname</th>\n",
       "      <th>knr</th>\n",
       "      <th>kname</th>\n",
       "      <th>geometry</th>\n",
       "    </tr>\n",
       "  </thead>\n",
       "  <tbody>\n",
       "    <tr>\n",
       "      <th>0</th>\n",
       "      <td>1</td>\n",
       "      <td>34</td>\n",
       "      <td>73</td>\n",
       "      <td>Hirslanden</td>\n",
       "      <td>7</td>\n",
       "      <td>Kreis 7</td>\n",
       "      <td>POLYGON ((8.55670 47.36407, 8.55670 47.36406, ...</td>\n",
       "    </tr>\n",
       "    <tr>\n",
       "      <th>1</th>\n",
       "      <td>2</td>\n",
       "      <td>33</td>\n",
       "      <td>83</td>\n",
       "      <td>Weinegg</td>\n",
       "      <td>8</td>\n",
       "      <td>Kreis 8</td>\n",
       "      <td>POLYGON ((8.55671 47.36405, 8.55670 47.36405, ...</td>\n",
       "    </tr>\n",
       "  </tbody>\n",
       "</table>\n",
       "</div>"
      ],
      "text/plain": [
       "   objectid objid  qnr       qname  knr    kname  \\\n",
       "0         1    34   73  Hirslanden    7  Kreis 7   \n",
       "1         2    33   83     Weinegg    8  Kreis 8   \n",
       "\n",
       "                                            geometry  \n",
       "0  POLYGON ((8.55670 47.36407, 8.55670 47.36406, ...  \n",
       "1  POLYGON ((8.55671 47.36405, 8.55670 47.36405, ...  "
      ]
     },
     "execution_count": 32,
     "metadata": {},
     "output_type": "execute_result"
    }
   ],
   "source": [
    "# Read abt. Geopandas https://geopandas.org/docs/user_guide/io.html\n",
    "# Filepath statzonen\n",
    "input_stadtquartiere = r\"//szh.loc/ssz/data/GIS/Daten/Vektor/_aktuell/stzh.adm_statistische_quartiere_map.json\"\n",
    "df_stadtquartiere = gpd.read_file(input_stadtquartiere)\n",
    "df_stadtquartiere.head(2)\n",
    "#df_stadtkreise.dtypes\n"
   ]
  },
  {
   "cell_type": "markdown",
   "metadata": {},
   "source": [
    "Joine die importierten statistischen Daten des aktuellen Jahres zum Geodatensatz:\n",
    "\n",
    "*Siehe dazu Doku zu [Geopandas](https://geopandas.org/docs/user_guide/mergingdata.html)*"
   ]
  },
  {
   "cell_type": "code",
   "execution_count": 35,
   "metadata": {},
   "outputs": [
    {
     "data": {
      "text/html": [
       "<div>\n",
       "<style scoped>\n",
       "    .dataframe tbody tr th:only-of-type {\n",
       "        vertical-align: middle;\n",
       "    }\n",
       "\n",
       "    .dataframe tbody tr th {\n",
       "        vertical-align: top;\n",
       "    }\n",
       "\n",
       "    .dataframe thead th {\n",
       "        text-align: right;\n",
       "    }\n",
       "</style>\n",
       "<table border=\"1\" class=\"dataframe\">\n",
       "  <thead>\n",
       "    <tr style=\"text-align: right;\">\n",
       "      <th></th>\n",
       "      <th>RaumKategorie</th>\n",
       "      <th>RaumSort</th>\n",
       "      <th>RaumLang</th>\n",
       "      <th>StichtagDatJahr</th>\n",
       "      <th>AnzBestWir</th>\n",
       "      <th>FlaecheT</th>\n",
       "      <th>FlaecheL</th>\n",
       "      <th>FlaecheS</th>\n",
       "      <th>DichteT</th>\n",
       "      <th>DichteL</th>\n",
       "      <th>DichteS</th>\n",
       "    </tr>\n",
       "  </thead>\n",
       "  <tbody>\n",
       "    <tr>\n",
       "      <th>167</th>\n",
       "      <td>Stadtquartier</td>\n",
       "      <td>11</td>\n",
       "      <td>Rathaus</td>\n",
       "      <td>2020-01-01</td>\n",
       "      <td>3317</td>\n",
       "      <td>36</td>\n",
       "      <td>27</td>\n",
       "      <td>18</td>\n",
       "      <td>93</td>\n",
       "      <td>121</td>\n",
       "      <td>185</td>\n",
       "    </tr>\n",
       "    <tr>\n",
       "      <th>179</th>\n",
       "      <td>Stadtquartier</td>\n",
       "      <td>12</td>\n",
       "      <td>Hochschulen</td>\n",
       "      <td>2020-01-01</td>\n",
       "      <td>675</td>\n",
       "      <td>58</td>\n",
       "      <td>46</td>\n",
       "      <td>26</td>\n",
       "      <td>12</td>\n",
       "      <td>15</td>\n",
       "      <td>26</td>\n",
       "    </tr>\n",
       "  </tbody>\n",
       "</table>\n",
       "</div>"
      ],
      "text/plain": [
       "     RaumKategorie  RaumSort     RaumLang StichtagDatJahr  AnzBestWir  FlaecheT  FlaecheL  \\\n",
       "167  Stadtquartier        11      Rathaus      2020-01-01        3317        36        27   \n",
       "179  Stadtquartier        12  Hochschulen      2020-01-01         675        58        46   \n",
       "\n",
       "     FlaecheS  DichteT  DichteL  DichteS  \n",
       "167        18       93      121      185  \n",
       "179        26       12       15       26  "
      ]
     },
     "execution_count": 35,
     "metadata": {},
     "output_type": "execute_result"
    }
   ],
   "source": [
    "aktuellesJahr = data2betested[(data2betested.StichtagDatJahr==\"2020-01-01\") & (data2betested.RaumKategorie=='Stadtquartier') & (data2betested.RaumSort<500)]\n",
    "\n",
    "aktuellesJahr.head(2)"
   ]
  },
  {
   "cell_type": "code",
   "execution_count": 36,
   "metadata": {},
   "outputs": [
    {
     "data": {
      "text/html": [
       "<div>\n",
       "<style scoped>\n",
       "    .dataframe tbody tr th:only-of-type {\n",
       "        vertical-align: middle;\n",
       "    }\n",
       "\n",
       "    .dataframe tbody tr th {\n",
       "        vertical-align: top;\n",
       "    }\n",
       "\n",
       "    .dataframe thead th {\n",
       "        text-align: right;\n",
       "    }\n",
       "</style>\n",
       "<table border=\"1\" class=\"dataframe\">\n",
       "  <thead>\n",
       "    <tr style=\"text-align: right;\">\n",
       "      <th></th>\n",
       "      <th>RaumKategorie</th>\n",
       "      <th>RaumSort</th>\n",
       "      <th>RaumLang</th>\n",
       "      <th>StichtagDatJahr</th>\n",
       "      <th>AnzBestWir</th>\n",
       "      <th>FlaecheT</th>\n",
       "      <th>FlaecheL</th>\n",
       "      <th>FlaecheS</th>\n",
       "      <th>DichteT</th>\n",
       "      <th>DichteL</th>\n",
       "      <th>DichteS</th>\n",
       "    </tr>\n",
       "  </thead>\n",
       "  <tbody>\n",
       "    <tr>\n",
       "      <th>167</th>\n",
       "      <td>Stadtquartier</td>\n",
       "      <td>11</td>\n",
       "      <td>Rathaus</td>\n",
       "      <td>2020-01-01</td>\n",
       "      <td>3317</td>\n",
       "      <td>36</td>\n",
       "      <td>27</td>\n",
       "      <td>18</td>\n",
       "      <td>93</td>\n",
       "      <td>121</td>\n",
       "      <td>185</td>\n",
       "    </tr>\n",
       "    <tr>\n",
       "      <th>179</th>\n",
       "      <td>Stadtquartier</td>\n",
       "      <td>12</td>\n",
       "      <td>Hochschulen</td>\n",
       "      <td>2020-01-01</td>\n",
       "      <td>675</td>\n",
       "      <td>58</td>\n",
       "      <td>46</td>\n",
       "      <td>26</td>\n",
       "      <td>12</td>\n",
       "      <td>15</td>\n",
       "      <td>26</td>\n",
       "    </tr>\n",
       "    <tr>\n",
       "      <th>191</th>\n",
       "      <td>Stadtquartier</td>\n",
       "      <td>13</td>\n",
       "      <td>Lindenhof</td>\n",
       "      <td>2020-01-01</td>\n",
       "      <td>1010</td>\n",
       "      <td>27</td>\n",
       "      <td>27</td>\n",
       "      <td>13</td>\n",
       "      <td>38</td>\n",
       "      <td>38</td>\n",
       "      <td>77</td>\n",
       "    </tr>\n",
       "    <tr>\n",
       "      <th>203</th>\n",
       "      <td>Stadtquartier</td>\n",
       "      <td>14</td>\n",
       "      <td>City</td>\n",
       "      <td>2020-01-01</td>\n",
       "      <td>829</td>\n",
       "      <td>60</td>\n",
       "      <td>55</td>\n",
       "      <td>30</td>\n",
       "      <td>14</td>\n",
       "      <td>15</td>\n",
       "      <td>28</td>\n",
       "    </tr>\n",
       "    <tr>\n",
       "      <th>215</th>\n",
       "      <td>Stadtquartier</td>\n",
       "      <td>21</td>\n",
       "      <td>Wollishofen</td>\n",
       "      <td>2020-01-01</td>\n",
       "      <td>19757</td>\n",
       "      <td>578</td>\n",
       "      <td>347</td>\n",
       "      <td>197</td>\n",
       "      <td>34</td>\n",
       "      <td>57</td>\n",
       "      <td>100</td>\n",
       "    </tr>\n",
       "  </tbody>\n",
       "</table>\n",
       "</div>"
      ],
      "text/plain": [
       "     RaumKategorie  RaumSort     RaumLang StichtagDatJahr  AnzBestWir  FlaecheT  FlaecheL  \\\n",
       "167  Stadtquartier        11      Rathaus      2020-01-01        3317        36        27   \n",
       "179  Stadtquartier        12  Hochschulen      2020-01-01         675        58        46   \n",
       "191  Stadtquartier        13    Lindenhof      2020-01-01        1010        27        27   \n",
       "203  Stadtquartier        14         City      2020-01-01         829        60        55   \n",
       "215  Stadtquartier        21  Wollishofen      2020-01-01       19757       578       347   \n",
       "\n",
       "     FlaecheS  DichteT  DichteL  DichteS  \n",
       "167        18       93      121      185  \n",
       "179        26       12       15       26  \n",
       "191        13       38       38       77  \n",
       "203        30       14       15       28  \n",
       "215       197       34       57      100  "
      ]
     },
     "execution_count": 36,
     "metadata": {},
     "output_type": "execute_result"
    }
   ],
   "source": [
    "stats_agg_quartiere=aktuellesJahr\n",
    "#stats_agg_quartiere=aktuellesJahr.groupby(['StichtagDatJahr', 'RaumLang', 'AnzBestWir'])['AnzNat'].sum()\n",
    "\n",
    "#stats_agg_quartiere.head()"
   ]
  },
  {
   "cell_type": "code",
   "execution_count": 37,
   "metadata": {},
   "outputs": [
    {
     "data": {
      "text/html": [
       "<div>\n",
       "<style scoped>\n",
       "    .dataframe tbody tr th:only-of-type {\n",
       "        vertical-align: middle;\n",
       "    }\n",
       "\n",
       "    .dataframe tbody tr th {\n",
       "        vertical-align: top;\n",
       "    }\n",
       "\n",
       "    .dataframe thead th {\n",
       "        text-align: right;\n",
       "    }\n",
       "</style>\n",
       "<table border=\"1\" class=\"dataframe\">\n",
       "  <thead>\n",
       "    <tr style=\"text-align: right;\">\n",
       "      <th></th>\n",
       "      <th>geometry</th>\n",
       "      <th>RaumSort</th>\n",
       "      <th>qname</th>\n",
       "      <th>knr</th>\n",
       "      <th>RaumKategorie</th>\n",
       "      <th>RaumLang</th>\n",
       "      <th>StichtagDatJahr</th>\n",
       "      <th>AnzBestWir</th>\n",
       "      <th>FlaecheT</th>\n",
       "      <th>FlaecheL</th>\n",
       "      <th>FlaecheS</th>\n",
       "      <th>DichteT</th>\n",
       "      <th>DichteL</th>\n",
       "      <th>DichteS</th>\n",
       "    </tr>\n",
       "  </thead>\n",
       "  <tbody>\n",
       "    <tr>\n",
       "      <th>0</th>\n",
       "      <td>POLYGON ((8.55670 47.36407, 8.55670 47.36406, ...</td>\n",
       "      <td>73</td>\n",
       "      <td>Hirslanden</td>\n",
       "      <td>7</td>\n",
       "      <td>Stadtquartier</td>\n",
       "      <td>Hirslanden</td>\n",
       "      <td>2020-01-01</td>\n",
       "      <td>7396</td>\n",
       "      <td>219</td>\n",
       "      <td>95</td>\n",
       "      <td>69</td>\n",
       "      <td>34</td>\n",
       "      <td>78</td>\n",
       "      <td>107</td>\n",
       "    </tr>\n",
       "    <tr>\n",
       "      <th>1</th>\n",
       "      <td>POLYGON ((8.55671 47.36405, 8.55670 47.36405, ...</td>\n",
       "      <td>83</td>\n",
       "      <td>Weinegg</td>\n",
       "      <td>8</td>\n",
       "      <td>Stadtquartier</td>\n",
       "      <td>Weinegg</td>\n",
       "      <td>2020-01-01</td>\n",
       "      <td>5562</td>\n",
       "      <td>174</td>\n",
       "      <td>158</td>\n",
       "      <td>100</td>\n",
       "      <td>32</td>\n",
       "      <td>35</td>\n",
       "      <td>55</td>\n",
       "    </tr>\n",
       "    <tr>\n",
       "      <th>2</th>\n",
       "      <td>POLYGON ((8.55423 47.36456, 8.55422 47.36458, ...</td>\n",
       "      <td>82</td>\n",
       "      <td>Mühlebach</td>\n",
       "      <td>8</td>\n",
       "      <td>Stadtquartier</td>\n",
       "      <td>Mühlebach</td>\n",
       "      <td>2020-01-01</td>\n",
       "      <td>6414</td>\n",
       "      <td>64</td>\n",
       "      <td>64</td>\n",
       "      <td>48</td>\n",
       "      <td>100</td>\n",
       "      <td>101</td>\n",
       "      <td>134</td>\n",
       "    </tr>\n",
       "  </tbody>\n",
       "</table>\n",
       "</div>"
      ],
      "text/plain": [
       "                                            geometry  RaumSort       qname  knr  RaumKategorie  \\\n",
       "0  POLYGON ((8.55670 47.36407, 8.55670 47.36406, ...        73  Hirslanden    7  Stadtquartier   \n",
       "1  POLYGON ((8.55671 47.36405, 8.55670 47.36405, ...        83     Weinegg    8  Stadtquartier   \n",
       "2  POLYGON ((8.55423 47.36456, 8.55422 47.36458, ...        82   Mühlebach    8  Stadtquartier   \n",
       "\n",
       "     RaumLang StichtagDatJahr  AnzBestWir  FlaecheT  FlaecheL  FlaecheS  DichteT  DichteL  DichteS  \n",
       "0  Hirslanden      2020-01-01        7396       219        95        69       34       78      107  \n",
       "1     Weinegg      2020-01-01        5562       174       158       100       32       35       55  \n",
       "2   Mühlebach      2020-01-01        6414        64        64        48      100      101      134  "
      ]
     },
     "execution_count": 37,
     "metadata": {},
     "output_type": "execute_result"
    }
   ],
   "source": [
    "# Rename attribute stznr to StatZoneSort, so the IDs have the same name\n",
    "\n",
    "stadtquartiere_shapes = df_stadtquartiere[['geometry', 'qnr', 'qname', 'knr']].rename(columns={'qnr': 'RaumSort'})\n",
    "#stadtquartiere_shapes = df_stadtquartiere[['geometry', 'qnr', 'qname', 'knr']].rename(columns={'qnr': 'QuarSort'})\n",
    "\n",
    "# Merge with `merge` method on shared variable (stznr und StatZoneSort):\n",
    "stadtquartiere_shapes_joined = stadtquartiere_shapes.merge(stats_agg_quartiere, on='RaumSort')\n",
    "\n",
    "stadtquartiere_shapes_joined.head(3)\n"
   ]
  },
  {
   "cell_type": "code",
   "execution_count": 39,
   "metadata": {},
   "outputs": [
    {
     "data": {
      "text/plain": [
       "<AxesSubplot:>"
      ]
     },
     "execution_count": 39,
     "metadata": {},
     "output_type": "execute_result"
    },
    {
     "data": {
      "image/png": "[encoded data removed]",
      "text/plain": [
       "<Figure size 432x288 with 1 Axes>"
      ]
     },
     "metadata": {
      "needs_background": "light"
     },
     "output_type": "display_data"
    },
    {
     "data": {
      "image/png": "[encoded data removed]",
      "text/plain": [
       "<Figure size 432x288 with 1 Axes>"
      ]
     },
     "metadata": {
      "needs_background": "light"
     },
     "output_type": "display_data"
    },
    {
     "data": {
      "image/png": "[encoded data removed]",
      "text/plain": [
       "<Figure size 432x288 with 1 Axes>"
      ]
     },
     "metadata": {
      "needs_background": "light"
     },
     "output_type": "display_data"
    }
   ],
   "source": [
    "# Plot by StatZonen\n",
    "\n",
    "stadtquartiere_shapes_joined.plot(column='DichteS', cmap='viridis', scheme='natural_breaks', legend=True )\n",
    "#scheme werte: https://matplotlib.org/2.0.2/users/colormaps.html\n",
    "\n",
    "stadtquartiere_shapes_joined.plot(column='DichteS', cmap='inferno', scheme='quantiles', legend=True )\n",
    "#scheme werte: https://matplotlib.org/2.0.2/users/colormaps.html\n",
    "stadtquartiere_shapes_joined.plot(column='DichteS', cmap='magma', scheme='fisherjenks', legend=True )\n",
    "#scheme werte: https://matplotlib.org/2.0.2/users/colormaps.html"
   ]
  },
  {
   "cell_type": "raw",
   "metadata": {},
   "source": [
    "fig, ax = plt.subplots(1, 1)\n",
    "\n",
    "statzonen_shapes_aktJahr.plot(column='AnzBestWir', ax=ax, legend=True, legend_kwds={'label': \"Anzahl Personen\",'orientation': \"horizontal\"})\n"
   ]
  },
  {
   "cell_type": "markdown",
   "metadata": {},
   "source": [
    "Noch zu prüfen, folgendes schöne Beispiel: https://docs.bokeh.org/en/latest/docs/user_guide/interaction/legends.html\n",
    "\n",
    "Konkrete Beispiele von Bookeh in Jupyter NB: https://docs.bokeh.org/en/latest/docs/user_guide/jupyter.html"
   ]
  },
  {
   "cell_type": "markdown",
   "metadata": {},
   "source": [
    "**Sharepoint Status anpassen!**"
   ]
  },
  {
   "cell_type": "markdown",
   "metadata": {},
   "source": [
    "Record auf Sharepoint in Bearbeitungsmodus öffnen: **[Link](http://kollaboration.intranet.stzh.ch/orga/ssz-produkte/Lists/SASA_Outputs/EditForm.aspx?ID=831&Source=%2Forga%2Fssz%2Dprodukte%2FLists%2FSASA%5FOutputs)**"
   ]
  },
  {
   "cell_type": "code",
   "execution_count": null,
   "metadata": {},
   "outputs": [],
   "source": []
  }
 ],
 "metadata": {
  "kernelspec": {
   "display_name": "Python 3",
   "language": "python",
   "name": "python3"
  },
  "language_info": {
   "codemirror_mode": {
    "name": "ipython",
    "version": 3
   },
   "file_extension": ".py",
   "mimetype": "text/x-python",
   "name": "python",
   "nbconvert_exporter": "python",
   "pygments_lexer": "ipython3",
   "version": "3.8.3"
  }
 },
 "nbformat": 4,
 "nbformat_minor": 4
}
