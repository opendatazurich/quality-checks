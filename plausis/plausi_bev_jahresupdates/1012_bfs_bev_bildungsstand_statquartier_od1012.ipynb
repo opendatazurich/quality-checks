{
 "cells": [
  {
   "cell_type": "markdown",
   "metadata": {},
   "source": [
    "# Testing\n",
    "### Bevölkerung nach Bildungsstand, Stadtkreis und Stadtquartier\n",
    "\n",
    "\n",
    "Datum: 15.03.2022\n"
   ]
  },
  {
   "cell_type": "markdown",
   "metadata": {},
   "source": [
    "### Importiere die notwendigen Packages"
   ]
  },
  {
   "cell_type": "code",
   "execution_count": 23,
   "metadata": {},
   "outputs": [],
   "source": [
    "#%pip install geopandas altair fiona requests folium mplleaflet contextily seaborn datetime plotly leafmap"
   ]
  },
  {
   "cell_type": "code",
   "execution_count": 24,
   "metadata": {},
   "outputs": [],
   "source": [
    "import pandas as pd\n",
    "import pivottablejs\n",
    "from pivottablejs import pivot_ui\n",
    "import numpy as np\n",
    "import altair as alt\n",
    "import matplotlib.pyplot as plt\n",
    "\n",
    "import datetime\n",
    "import geopandas as gpd\n",
    "import folium \n",
    "import plotly.express as px\n",
    "import seaborn as sns\n",
    "import leafmap\n",
    "\n",
    "import requests\n",
    "import io\n"
   ]
  },
  {
   "cell_type": "code",
   "execution_count": 25,
   "metadata": {},
   "outputs": [],
   "source": [
    "SSL_VERIFY = False\n",
    "# evtl. SSL_VERIFY auf False setzen wenn die Verbindung zu https://www.gemeinderat-zuerich.ch nicht klappt (z.B. wegen Proxy)\n",
    "# Um die SSL Verifikation auszustellen, bitte die nächste Zeile einkommentieren (\"#\" entfernen)\n",
    "# SSL_VERIFY = False"
   ]
  },
  {
   "cell_type": "code",
   "execution_count": 26,
   "metadata": {},
   "outputs": [],
   "source": [
    "if not SSL_VERIFY:\n",
    "    import urllib3\n",
    "    urllib3.disable_warnings()"
   ]
  },
  {
   "cell_type": "markdown",
   "metadata": {},
   "source": [
    "Definiere Settings. Hier das Zahlenformat von Float-Werten (z.B. *'{:,.2f}'.format* mit Komma als Tausenderzeichen), "
   ]
  },
  {
   "cell_type": "code",
   "execution_count": 27,
   "metadata": {},
   "outputs": [],
   "source": [
    "#pd.options.display.float_format = lambda x : '{:,.1f}'.format(x) if (np.isnan(x) | np.isinf(x)) else '{:,.0f}'.format(x) if int(x) == x else '{:,.1f}'.format(x)\n",
    "pd.options.display.float_format = '{:.0f}'.format\n",
    "pd.set_option('display.width', 100)\n",
    "pd.set_option('display.max_columns', 15)"
   ]
  },
  {
   "cell_type": "markdown",
   "metadata": {},
   "source": [
    "### Zeitvariabeln\n",
    "Bestimme den aktuellst geladenen Monat. Hier ist es der Stand vor 2 Monaten. \n",
    "Bestimme noch weitere evt. sinnvolle Zeitvariabeln.\n",
    "\n",
    "Zum Unterschied zwischen import datetime und from datedtime import datetime, siehe https://stackoverflow.com/questions/15707532/import-datetime-v-s-from-datetime-import-datetime\n",
    "\n",
    "Zuerst die Zeitvariabeln als Strings"
   ]
  },
  {
   "cell_type": "code",
   "execution_count": 28,
   "metadata": {},
   "outputs": [],
   "source": [
    "#today_date = datetime.date.today()\n",
    "#date_time = datetime.datetime.strptime(date_time_string, '%Y-%m-%d %H:%M')\n",
    "now = datetime.date.today()\n",
    "date_today = now.strftime(\"%Y-%m-%d\")\n",
    "year_today = now.strftime(\"%Y\")\n",
    "month_today = now.strftime(\"%m\")\n",
    "day_today = now.strftime(\"%d\")\n"
   ]
  },
  {
   "cell_type": "markdown",
   "metadata": {},
   "source": [
    "Und hier noch die Zeitvariabeln als Integers:\n",
    "- `aktuellesJahr`\n",
    "- `aktuellerMonat`: Der gerade jetzt aktuelle Monat\n",
    "- `selectedMonat`: Der aktuellste Monat in den Daten. In der Regel zwei Monate her."
   ]
  },
  {
   "cell_type": "code",
   "execution_count": 29,
   "metadata": {},
   "outputs": [
    {
     "name": "stdout",
     "output_type": "stream",
     "text": [
      "2022 3 datenstand:  1 time.struct_time(tm_year=2022, tm_mon=3, tm_mday=15, tm_hour=0, tm_min=0, tm_sec=0, tm_wday=1, tm_yday=74, tm_isdst=-1)\n"
     ]
    }
   ],
   "source": [
    "#now = datetime.now() \n",
    "int_times = now.timetuple()\n",
    "\n",
    "aktuellesJahr = int_times[0]\n",
    "aktuellerMonat = int_times[1]\n",
    "selectedMonat = int_times[1]-2\n",
    "\n",
    "print(aktuellesJahr, \n",
    "      aktuellerMonat,\n",
    "    'datenstand: ', selectedMonat,\n",
    "     int_times)\n"
   ]
  },
  {
   "cell_type": "markdown",
   "metadata": {},
   "source": [
    "Berechne die Variable Epoche um später das SAS-Datum in ein Unix-Datum umzuwandeln. Bei SAS beginnt die Epoche am 1.1.1960. Bei Unix am 1.1.1970.\n",
    "Diese Variable wird beim CSV-Import benötigt."
   ]
  },
  {
   "cell_type": "code",
   "execution_count": 30,
   "metadata": {},
   "outputs": [],
   "source": [
    "epoch = datetime.datetime(1960, 1, 1)"
   ]
  },
  {
   "cell_type": "markdown",
   "metadata": {},
   "source": [
    "### Setze einige Pfadvariabeln"
   ]
  },
  {
   "cell_type": "markdown",
   "metadata": {
    "tags": []
   },
   "source": [
    "- Der Packagename ist eigentlich der **Verzeichnisname** unter dem die Daten und Metadaten auf der Dropzone abgelegt werden.\n",
    "- Definiert wird er bei SASA-Prozessen auf dem **Produkte-Sharepoint ([Link](https://kollaboration.intranet.stzh.ch/orga/ssz-produkte/Lists/SASA_Outputs/PersonalViews.aspx?PageView=Personal&ShowWebPart={6087A3E7-8AC8-40BA-8278-DECFACE124FF}))**.\n",
    "- Der Packagename wird auf CKAN teil der URL, daher ist die exakte Schreibweise wichtig.\n",
    "\n",
    "Beachte: im Packagename müssen alle Buchstaben **klein** geschrieben werden. Dies weil CKAN aus grossen kleine Buchstaben macht."
   ]
  },
  {
   "cell_type": "markdown",
   "metadata": {},
   "source": [
    "**BITTE HIER ANPASSEN**"
   ]
  },
  {
   "cell_type": "code",
   "execution_count": 31,
   "metadata": {},
   "outputs": [],
   "source": [
    "package_name = \"bfs_bev_bildungsstand_statquartier_od1012\""
   ]
  },
  {
   "cell_type": "code",
   "execution_count": 43,
   "metadata": {
    "tags": []
   },
   "outputs": [],
   "source": [
    "dataset_name = \"BIL101OD1012.csv\""
   ]
  },
  {
   "cell_type": "markdown",
   "metadata": {},
   "source": [
    "**Statische Pfade in DWH-Dropzones**"
   ]
  },
  {
   "cell_type": "code",
   "execution_count": 44,
   "metadata": {},
   "outputs": [],
   "source": [
    "dropzone_path_integ = r\"\\\\szh\\ssz\\applikationen\\OGD_Dropzone\\INT_DWH\""
   ]
  },
  {
   "cell_type": "code",
   "execution_count": 45,
   "metadata": {
    "tags": []
   },
   "outputs": [],
   "source": [
    "dropzone_path_prod = r\"\\\\szh\\ssz\\applikationen\\OGD_Dropzone\\DWH\""
   ]
  },
  {
   "cell_type": "markdown",
   "metadata": {},
   "source": [
    "**Statische Pfade CKAN-URLs**"
   ]
  },
  {
   "cell_type": "code",
   "execution_count": 46,
   "metadata": {
    "tags": []
   },
   "outputs": [],
   "source": [
    "ckan_integ_url =\"https://data.integ.stadt-zuerich.ch/dataset/int_dwh_\""
   ]
  },
  {
   "cell_type": "code",
   "execution_count": 47,
   "metadata": {},
   "outputs": [],
   "source": [
    "ckan_prod_url =\"https://data.stadt-zuerich.ch/dataset/\""
   ]
  },
  {
   "cell_type": "markdown",
   "metadata": {},
   "source": [
    "### Checke die Metadaten auf der CKAN INTEG- oder PROD-Webseite\n",
    "\n",
    "Offenbar lassen sich aktuell im Markdownteil keine Variabeln ausführen, daher gehen wir wie unten gezeigt vor. Siehe dazu: https://data-dive.com/jupyterlab-markdown-cells-include-variables\n",
    "Instead of setting the cell to Markdown, create Markdown from withnin a code cell! We can just use python variable replacement syntax to make the text dynamic"
   ]
  },
  {
   "cell_type": "code",
   "execution_count": 48,
   "metadata": {},
   "outputs": [],
   "source": [
    "from IPython.display import Markdown as md"
   ]
  },
  {
   "cell_type": "code",
   "execution_count": 49,
   "metadata": {},
   "outputs": [
    {
     "data": {
      "text/markdown": [
       " **1. Dataset auf INTEG-Datakatalog:** Link https://data.integ.stadt-zuerich.ch/dataset/int_dwh_bfs_bev_bildungsstand_statquartier_od1012 "
      ],
      "text/plain": [
       "<IPython.core.display.Markdown object>"
      ]
     },
     "execution_count": 49,
     "metadata": {},
     "output_type": "execute_result"
    }
   ],
   "source": [
    "md(\" **1. Dataset auf INTEG-Datakatalog:** Link {} \".format(ckan_integ_url+package_name))"
   ]
  },
  {
   "cell_type": "code",
   "execution_count": 57,
   "metadata": {
    "tags": []
   },
   "outputs": [
    {
     "data": {
      "text/markdown": [
       " **2. Dataset auf PROD-Datakatalog:** Link https://data.stadt-zuerich.ch/dataset/bfs_bev_bildungsstand_statquartier_od1012 "
      ],
      "text/plain": [
       "<IPython.core.display.Markdown object>"
      ]
     },
     "execution_count": 57,
     "metadata": {},
     "output_type": "execute_result"
    }
   ],
   "source": [
    "md(\" **2. Dataset auf PROD-Datakatalog:** Link {} \".format(ckan_prod_url+package_name))"
   ]
  },
  {
   "cell_type": "markdown",
   "metadata": {
    "tags": []
   },
   "source": [
    "### Importiere einen Datensatz \n",
    "\n",
    "Definiere zuerst folgende Werte:\n",
    "1) Kommt der Datensatz von PROD oder INTEG?\n",
    "2) Beziehst Du den Datensatz direkt ab der DROPZONE oder aus dem INTERNET?"
   ]
  },
  {
   "cell_type": "code",
   "execution_count": 58,
   "metadata": {},
   "outputs": [
    {
     "name": "stdout",
     "output_type": "stream",
     "text": [
      "integ - web\n"
     ]
    }
   ],
   "source": [
    "#Die Datasets sind nur zum Testen auf INT-DWH-Dropzone. Wenn der Test vorbei ist, sind sie auf PROD. \n",
    "# Über den Status kann man einfach switchen\n",
    "\n",
    "status = \"integ\"; #prod vs something else\n",
    "data_source = \"web\"; #dropzone vs something else\n",
    "print(status+\" - \"+ data_source)"
   ]
  },
  {
   "cell_type": "code",
   "execution_count": 59,
   "metadata": {
    "tags": []
   },
   "outputs": [
    {
     "name": "stdout",
     "output_type": "stream",
     "text": [
      "fp lautet:https://data.integ.stadt-zuerich.ch/dataset/int_dwh_bfs_bev_bildungsstand_statquartier_od1012/download/BIL101OD1012.csv\n"
     ]
    }
   ],
   "source": [
    "# Filepath\n",
    "if status == \"prod\":\n",
    "    if data_source == \"dropzone\":\n",
    "            fp = dropzone_path_prod+\"\\\\\"+ package_name +\"\\\\\"+dataset_name\n",
    "            print(\"fp lautet:\"+fp)\n",
    "    else:\n",
    "        #fp = r\"https://data.stadt-zuerich.ch/dataset/bau_neubau_whg_bausm_rinh_geb_projstatus_quartier_seit2009_od5011/download/BAU501OD5011.csv\"\n",
    "        fp = ckan_prod_url+package_name+'/download/'+dataset_name\n",
    "        print(\"fp lautet:\"+fp)\n",
    "else:\n",
    "    if data_source == \"dropzone\":\n",
    "        fp = dropzone_path_integ+\"\\\\\"+ package_name +\"\\\\\"+dataset_name\n",
    "        print(\"fp lautet:\"+fp)\n",
    "    else:\n",
    "        #fp = r\"https://data.stadt-zuerich.ch/dataset/bau_neubau_whg_bausm_rinh_geb_projstatus_quartier_seit2009_od5011/download/BAU501OD5011.csv\"\n",
    "        fp = ckan_integ_url+package_name+'/download/'+dataset_name\n",
    "        print(\"fp lautet:\"+fp)\n"
   ]
  },
  {
   "cell_type": "markdown",
   "metadata": {},
   "source": [
    "Beachte, wie das SAS Datum (ohne Format) in ein UNIX Datum umgerechnet und als Datumsformat dargestellt wird! Siehe dazu `https://stackoverflow.com/questions/26923564/convert-sas-numeric-to-python-datetime`"
   ]
  },
  {
   "cell_type": "code",
   "execution_count": 60,
   "metadata": {},
   "outputs": [
    {
     "name": "stdout",
     "output_type": "stream",
     "text": [
      "web\n"
     ]
    },
    {
     "data": {
      "text/plain": [
       "RaumSort           int64\n",
       "RaumLang          object\n",
       "Bildungsstand     object\n",
       "AntBev           float64\n",
       "untAntBevKI      float64\n",
       "obAntBevKI       float64\n",
       "dtype: object"
      ]
     },
     "execution_count": 60,
     "metadata": {},
     "output_type": "execute_result"
    }
   ],
   "source": [
    "# Read the data\n",
    "if data_source == \"dropzone\":\n",
    "    data2betested = pd.read_csv(\n",
    "        fp\n",
    "        , sep=','\n",
    "        #,parse_dates=['Jahr']\n",
    "        ,low_memory=False\n",
    "    )\n",
    "    print(\"dropzone\")\n",
    "else:\n",
    "    r = requests.get(fp, verify=False)  \n",
    "    r.encoding = 'utf-8'\n",
    "    data2betested = pd.read_csv(\n",
    "        io.StringIO(r.text)\n",
    "        #,parse_dates=['Jahr']\n",
    "        # KONVERTIERE DAS SAS DATUM IN EIN UNIXDATUM UND FORMATIERE ES\n",
    "        #, date_parser=lambda s: epoch + datetime.timedelta(days=int(s))\n",
    "        ,low_memory=False)\n",
    "    print(\"web\")\n",
    "\n",
    "data2betested.dtypes"
   ]
  },
  {
   "cell_type": "markdown",
   "metadata": {},
   "source": [
    "Berechne weitere Attribute falls notwendig"
   ]
  },
  {
   "cell_type": "code",
   "execution_count": 63,
   "metadata": {},
   "outputs": [
    {
     "data": {
      "text/plain": [
       "RaumSort           int64\n",
       "RaumLang          object\n",
       "Bildungsstand     object\n",
       "AntBev           float64\n",
       "untAntBevKI      float64\n",
       "obAntBevKI       float64\n",
       "dtype: object"
      ]
     },
     "execution_count": 63,
     "metadata": {},
     "output_type": "execute_result"
    }
   ],
   "source": [
    "data2betested = (\n",
    "    data2betested\n",
    "    .copy()\n",
    "    .assign(\n",
    "        #Aktualisierungs_Datum_str= lambda x: x.Aktualisierungs_Datum.astype(str),\n",
    "        #Jahr_str = lambda x: x.Jahr.astype(str),\n",
    "    )\n",
    "   # .sort_values('Jahr', ascending=False)\n",
    "    )\n",
    "data2betested.dtypes"
   ]
  },
  {
   "cell_type": "markdown",
   "metadata": {},
   "source": [
    "### Einfache Datentests"
   ]
  },
  {
   "cell_type": "markdown",
   "metadata": {},
   "source": [
    " - 1) Zeige eine kurze Vorschau der importierten Daten\n",
    " - 2) Weise die Datentypen aus\n",
    " - 3) Zeige die Shape (Umfang) des Datensatzes an"
   ]
  },
  {
   "cell_type": "code",
   "execution_count": 64,
   "metadata": {},
   "outputs": [],
   "source": [
    "#data2betested.head(6)"
   ]
  },
  {
   "cell_type": "code",
   "execution_count": 65,
   "metadata": {},
   "outputs": [
    {
     "data": {
      "text/plain": [
       "RaumSort           int64\n",
       "RaumLang          object\n",
       "Bildungsstand     object\n",
       "AntBev           float64\n",
       "untAntBevKI      float64\n",
       "obAntBevKI       float64\n",
       "dtype: object"
      ]
     },
     "execution_count": 65,
     "metadata": {},
     "output_type": "execute_result"
    }
   ],
   "source": [
    "data2betested.dtypes"
   ]
  },
  {
   "cell_type": "code",
   "execution_count": 66,
   "metadata": {},
   "outputs": [
    {
     "data": {
      "text/plain": [
       "(138, 6)"
      ]
     },
     "execution_count": 66,
     "metadata": {},
     "output_type": "execute_result"
    }
   ],
   "source": [
    "data2betested.shape"
   ]
  },
  {
   "cell_type": "markdown",
   "metadata": {},
   "source": [
    "Beschreibe einzelne Attribute"
   ]
  },
  {
   "cell_type": "code",
   "execution_count": 67,
   "metadata": {},
   "outputs": [
    {
     "data": {
      "text/html": [
       "<div>\n",
       "<style scoped>\n",
       "    .dataframe tbody tr th:only-of-type {\n",
       "        vertical-align: middle;\n",
       "    }\n",
       "\n",
       "    .dataframe tbody tr th {\n",
       "        vertical-align: top;\n",
       "    }\n",
       "\n",
       "    .dataframe thead th {\n",
       "        text-align: right;\n",
       "    }\n",
       "</style>\n",
       "<table border=\"1\" class=\"dataframe\">\n",
       "  <thead>\n",
       "    <tr style=\"text-align: right;\">\n",
       "      <th></th>\n",
       "      <th>RaumSort</th>\n",
       "      <th>AntBev</th>\n",
       "      <th>untAntBevKI</th>\n",
       "      <th>obAntBevKI</th>\n",
       "    </tr>\n",
       "  </thead>\n",
       "  <tbody>\n",
       "    <tr>\n",
       "      <th>count</th>\n",
       "      <td>138</td>\n",
       "      <td>138</td>\n",
       "      <td>138</td>\n",
       "      <td>138</td>\n",
       "    </tr>\n",
       "    <tr>\n",
       "      <th>mean</th>\n",
       "      <td>65</td>\n",
       "      <td>33</td>\n",
       "      <td>30</td>\n",
       "      <td>37</td>\n",
       "    </tr>\n",
       "    <tr>\n",
       "      <th>std</th>\n",
       "      <td>36</td>\n",
       "      <td>20</td>\n",
       "      <td>20</td>\n",
       "      <td>21</td>\n",
       "    </tr>\n",
       "    <tr>\n",
       "      <th>min</th>\n",
       "      <td>10</td>\n",
       "      <td>2</td>\n",
       "      <td>0</td>\n",
       "      <td>4</td>\n",
       "    </tr>\n",
       "    <tr>\n",
       "      <th>25%</th>\n",
       "      <td>33</td>\n",
       "      <td>17</td>\n",
       "      <td>14</td>\n",
       "      <td>21</td>\n",
       "    </tr>\n",
       "    <tr>\n",
       "      <th>50%</th>\n",
       "      <td>66</td>\n",
       "      <td>28</td>\n",
       "      <td>25</td>\n",
       "      <td>32</td>\n",
       "    </tr>\n",
       "    <tr>\n",
       "      <th>75%</th>\n",
       "      <td>92</td>\n",
       "      <td>47</td>\n",
       "      <td>44</td>\n",
       "      <td>51</td>\n",
       "    </tr>\n",
       "    <tr>\n",
       "      <th>max</th>\n",
       "      <td>123</td>\n",
       "      <td>83</td>\n",
       "      <td>74</td>\n",
       "      <td>92</td>\n",
       "    </tr>\n",
       "  </tbody>\n",
       "</table>\n",
       "</div>"
      ],
      "text/plain": [
       "       RaumSort  AntBev  untAntBevKI  obAntBevKI\n",
       "count       138     138          138         138\n",
       "mean         65      33           30          37\n",
       "std          36      20           20          21\n",
       "min          10       2            0           4\n",
       "25%          33      17           14          21\n",
       "50%          66      28           25          32\n",
       "75%          92      47           44          51\n",
       "max         123      83           74          92"
      ]
     },
     "execution_count": 67,
     "metadata": {},
     "output_type": "execute_result"
    }
   ],
   "source": [
    "data2betested.describe()"
   ]
  },
  {
   "cell_type": "markdown",
   "metadata": {},
   "source": [
    "Wie viele Nullwerte gibt es im Datensatz?"
   ]
  },
  {
   "cell_type": "code",
   "execution_count": 68,
   "metadata": {
    "scrolled": true
   },
   "outputs": [
    {
     "data": {
      "text/plain": [
       "RaumSort         0\n",
       "RaumLang         0\n",
       "Bildungsstand    0\n",
       "AntBev           0\n",
       "untAntBevKI      0\n",
       "obAntBevKI       0\n",
       "dtype: int64"
      ]
     },
     "execution_count": 68,
     "metadata": {},
     "output_type": "execute_result"
    }
   ],
   "source": [
    "data2betested.isnull().sum()"
   ]
  },
  {
   "cell_type": "markdown",
   "metadata": {},
   "source": [
    "Welches sind die Quartiere ohne Werte bei AnzBestWir?"
   ]
  },
  {
   "cell_type": "code",
   "execution_count": 69,
   "metadata": {},
   "outputs": [
    {
     "data": {
      "text/html": [
       "<div>\n",
       "<style scoped>\n",
       "    .dataframe tbody tr th:only-of-type {\n",
       "        vertical-align: middle;\n",
       "    }\n",
       "\n",
       "    .dataframe tbody tr th {\n",
       "        vertical-align: top;\n",
       "    }\n",
       "\n",
       "    .dataframe thead th {\n",
       "        text-align: right;\n",
       "    }\n",
       "</style>\n",
       "<table border=\"1\" class=\"dataframe\">\n",
       "  <thead>\n",
       "    <tr style=\"text-align: right;\">\n",
       "      <th></th>\n",
       "      <th>RaumSort</th>\n",
       "      <th>RaumLang</th>\n",
       "      <th>Bildungsstand</th>\n",
       "      <th>AntBev</th>\n",
       "      <th>untAntBevKI</th>\n",
       "      <th>obAntBevKI</th>\n",
       "    </tr>\n",
       "  </thead>\n",
       "  <tbody>\n",
       "  </tbody>\n",
       "</table>\n",
       "</div>"
      ],
      "text/plain": [
       "Empty DataFrame\n",
       "Columns: [RaumSort, RaumLang, Bildungsstand, AntBev, untAntBevKI, obAntBevKI]\n",
       "Index: []"
      ]
     },
     "execution_count": 69,
     "metadata": {},
     "output_type": "execute_result"
    }
   ],
   "source": [
    "data2betested[np.isnan(data2betested.AntBev)]"
   ]
  },
  {
   "cell_type": "markdown",
   "metadata": {
    "tags": []
   },
   "source": [
    "### Einfache Visualisierungen zur Plausi"
   ]
  },
  {
   "cell_type": "markdown",
   "metadata": {},
   "source": [
    "Exploriere die Daten mit Pivottable.JS"
   ]
  },
  {
   "cell_type": "code",
   "execution_count": 72,
   "metadata": {},
   "outputs": [
    {
     "data": {
      "text/html": [
       "\n",
       "        <iframe\n",
       "            width=\"100%\"\n",
       "            height=\"500\"\n",
       "            src=\"pivottablejs.html\"\n",
       "            frameborder=\"0\"\n",
       "            allowfullscreen\n",
       "            \n",
       "        ></iframe>\n",
       "        "
      ],
      "text/plain": [
       "<IPython.lib.display.IFrame at 0x18ff3376588>"
      ]
     },
     "execution_count": 72,
     "metadata": {},
     "output_type": "execute_result"
    }
   ],
   "source": [
    "from pivottablejs import pivot_ui\n",
    "\n",
    "pivot_ui(data2betested)"
   ]
  },
  {
   "cell_type": "code",
   "execution_count": 73,
   "metadata": {},
   "outputs": [
    {
     "ename": "KeyError",
     "evalue": "'2020'",
     "output_type": "error",
     "traceback": [
      "\u001b[1;31m---------------------------------------------------------------------------\u001b[0m",
      "\u001b[1;31mKeyError\u001b[0m                                  Traceback (most recent call last)",
      "\u001b[1;32m~\\AppData\\Local\\Temp\\ipykernel_18108\\528525047.py\u001b[0m in \u001b[0;36m<module>\u001b[1;34m\u001b[0m\n\u001b[1;32m----> 1\u001b[1;33m \u001b[0mdata2betested\u001b[0m\u001b[1;33m.\u001b[0m\u001b[0mloc\u001b[0m\u001b[1;33m[\u001b[0m\u001b[1;34m\"2020\"\u001b[0m\u001b[1;33m]\u001b[0m\u001b[1;33m.\u001b[0m\u001b[0mhead\u001b[0m\u001b[1;33m(\u001b[0m\u001b[1;36m2\u001b[0m\u001b[1;33m)\u001b[0m\u001b[1;33m\u001b[0m\u001b[1;33m\u001b[0m\u001b[0m\n\u001b[0m\u001b[0;32m      2\u001b[0m \u001b[1;31m#data2betested.loc[\"2021-10-31\":\"2021-11-30\"].head(2)\u001b[0m\u001b[1;33m\u001b[0m\u001b[1;33m\u001b[0m\u001b[1;33m\u001b[0m\u001b[0m\n",
      "\u001b[1;32mC:\\ProgramData\\Anaconda3\\envs\\gogo_gis\\lib\\site-packages\\pandas\\core\\indexing.py\u001b[0m in \u001b[0;36m__getitem__\u001b[1;34m(self, key)\u001b[0m\n\u001b[0;32m    929\u001b[0m \u001b[1;33m\u001b[0m\u001b[0m\n\u001b[0;32m    930\u001b[0m             \u001b[0mmaybe_callable\u001b[0m \u001b[1;33m=\u001b[0m \u001b[0mcom\u001b[0m\u001b[1;33m.\u001b[0m\u001b[0mapply_if_callable\u001b[0m\u001b[1;33m(\u001b[0m\u001b[0mkey\u001b[0m\u001b[1;33m,\u001b[0m \u001b[0mself\u001b[0m\u001b[1;33m.\u001b[0m\u001b[0mobj\u001b[0m\u001b[1;33m)\u001b[0m\u001b[1;33m\u001b[0m\u001b[1;33m\u001b[0m\u001b[0m\n\u001b[1;32m--> 931\u001b[1;33m             \u001b[1;32mreturn\u001b[0m \u001b[0mself\u001b[0m\u001b[1;33m.\u001b[0m\u001b[0m_getitem_axis\u001b[0m\u001b[1;33m(\u001b[0m\u001b[0mmaybe_callable\u001b[0m\u001b[1;33m,\u001b[0m \u001b[0maxis\u001b[0m\u001b[1;33m=\u001b[0m\u001b[0maxis\u001b[0m\u001b[1;33m)\u001b[0m\u001b[1;33m\u001b[0m\u001b[1;33m\u001b[0m\u001b[0m\n\u001b[0m\u001b[0;32m    932\u001b[0m \u001b[1;33m\u001b[0m\u001b[0m\n\u001b[0;32m    933\u001b[0m     \u001b[1;32mdef\u001b[0m \u001b[0m_is_scalar_access\u001b[0m\u001b[1;33m(\u001b[0m\u001b[0mself\u001b[0m\u001b[1;33m,\u001b[0m \u001b[0mkey\u001b[0m\u001b[1;33m:\u001b[0m \u001b[0mtuple\u001b[0m\u001b[1;33m)\u001b[0m\u001b[1;33m:\u001b[0m\u001b[1;33m\u001b[0m\u001b[1;33m\u001b[0m\u001b[0m\n",
      "\u001b[1;32mC:\\ProgramData\\Anaconda3\\envs\\gogo_gis\\lib\\site-packages\\pandas\\core\\indexing.py\u001b[0m in \u001b[0;36m_getitem_axis\u001b[1;34m(self, key, axis)\u001b[0m\n\u001b[0;32m   1162\u001b[0m         \u001b[1;31m# fall thru to straight lookup\u001b[0m\u001b[1;33m\u001b[0m\u001b[1;33m\u001b[0m\u001b[1;33m\u001b[0m\u001b[0m\n\u001b[0;32m   1163\u001b[0m         \u001b[0mself\u001b[0m\u001b[1;33m.\u001b[0m\u001b[0m_validate_key\u001b[0m\u001b[1;33m(\u001b[0m\u001b[0mkey\u001b[0m\u001b[1;33m,\u001b[0m \u001b[0maxis\u001b[0m\u001b[1;33m)\u001b[0m\u001b[1;33m\u001b[0m\u001b[1;33m\u001b[0m\u001b[0m\n\u001b[1;32m-> 1164\u001b[1;33m         \u001b[1;32mreturn\u001b[0m \u001b[0mself\u001b[0m\u001b[1;33m.\u001b[0m\u001b[0m_get_label\u001b[0m\u001b[1;33m(\u001b[0m\u001b[0mkey\u001b[0m\u001b[1;33m,\u001b[0m \u001b[0maxis\u001b[0m\u001b[1;33m=\u001b[0m\u001b[0maxis\u001b[0m\u001b[1;33m)\u001b[0m\u001b[1;33m\u001b[0m\u001b[1;33m\u001b[0m\u001b[0m\n\u001b[0m\u001b[0;32m   1165\u001b[0m \u001b[1;33m\u001b[0m\u001b[0m\n\u001b[0;32m   1166\u001b[0m     \u001b[1;32mdef\u001b[0m \u001b[0m_get_slice_axis\u001b[0m\u001b[1;33m(\u001b[0m\u001b[0mself\u001b[0m\u001b[1;33m,\u001b[0m \u001b[0mslice_obj\u001b[0m\u001b[1;33m:\u001b[0m \u001b[0mslice\u001b[0m\u001b[1;33m,\u001b[0m \u001b[0maxis\u001b[0m\u001b[1;33m:\u001b[0m \u001b[0mint\u001b[0m\u001b[1;33m)\u001b[0m\u001b[1;33m:\u001b[0m\u001b[1;33m\u001b[0m\u001b[1;33m\u001b[0m\u001b[0m\n",
      "\u001b[1;32mC:\\ProgramData\\Anaconda3\\envs\\gogo_gis\\lib\\site-packages\\pandas\\core\\indexing.py\u001b[0m in \u001b[0;36m_get_label\u001b[1;34m(self, label, axis)\u001b[0m\n\u001b[0;32m   1111\u001b[0m     \u001b[1;32mdef\u001b[0m \u001b[0m_get_label\u001b[0m\u001b[1;33m(\u001b[0m\u001b[0mself\u001b[0m\u001b[1;33m,\u001b[0m \u001b[0mlabel\u001b[0m\u001b[1;33m,\u001b[0m \u001b[0maxis\u001b[0m\u001b[1;33m:\u001b[0m \u001b[0mint\u001b[0m\u001b[1;33m)\u001b[0m\u001b[1;33m:\u001b[0m\u001b[1;33m\u001b[0m\u001b[1;33m\u001b[0m\u001b[0m\n\u001b[0;32m   1112\u001b[0m         \u001b[1;31m# GH#5667 this will fail if the label is not present in the axis.\u001b[0m\u001b[1;33m\u001b[0m\u001b[1;33m\u001b[0m\u001b[1;33m\u001b[0m\u001b[0m\n\u001b[1;32m-> 1113\u001b[1;33m         \u001b[1;32mreturn\u001b[0m \u001b[0mself\u001b[0m\u001b[1;33m.\u001b[0m\u001b[0mobj\u001b[0m\u001b[1;33m.\u001b[0m\u001b[0mxs\u001b[0m\u001b[1;33m(\u001b[0m\u001b[0mlabel\u001b[0m\u001b[1;33m,\u001b[0m \u001b[0maxis\u001b[0m\u001b[1;33m=\u001b[0m\u001b[0maxis\u001b[0m\u001b[1;33m)\u001b[0m\u001b[1;33m\u001b[0m\u001b[1;33m\u001b[0m\u001b[0m\n\u001b[0m\u001b[0;32m   1114\u001b[0m \u001b[1;33m\u001b[0m\u001b[0m\n\u001b[0;32m   1115\u001b[0m     \u001b[1;32mdef\u001b[0m \u001b[0m_handle_lowerdim_multi_index_axis0\u001b[0m\u001b[1;33m(\u001b[0m\u001b[0mself\u001b[0m\u001b[1;33m,\u001b[0m \u001b[0mtup\u001b[0m\u001b[1;33m:\u001b[0m \u001b[0mtuple\u001b[0m\u001b[1;33m)\u001b[0m\u001b[1;33m:\u001b[0m\u001b[1;33m\u001b[0m\u001b[1;33m\u001b[0m\u001b[0m\n",
      "\u001b[1;32mC:\\ProgramData\\Anaconda3\\envs\\gogo_gis\\lib\\site-packages\\pandas\\core\\generic.py\u001b[0m in \u001b[0;36mxs\u001b[1;34m(self, key, axis, level, drop_level)\u001b[0m\n\u001b[0;32m   3774\u001b[0m                 \u001b[1;32mraise\u001b[0m \u001b[0mTypeError\u001b[0m\u001b[1;33m(\u001b[0m\u001b[1;34mf\"Expected label or tuple of labels, got {key}\"\u001b[0m\u001b[1;33m)\u001b[0m \u001b[1;32mfrom\u001b[0m \u001b[0me\u001b[0m\u001b[1;33m\u001b[0m\u001b[1;33m\u001b[0m\u001b[0m\n\u001b[0;32m   3775\u001b[0m         \u001b[1;32melse\u001b[0m\u001b[1;33m:\u001b[0m\u001b[1;33m\u001b[0m\u001b[1;33m\u001b[0m\u001b[0m\n\u001b[1;32m-> 3776\u001b[1;33m             \u001b[0mloc\u001b[0m \u001b[1;33m=\u001b[0m \u001b[0mindex\u001b[0m\u001b[1;33m.\u001b[0m\u001b[0mget_loc\u001b[0m\u001b[1;33m(\u001b[0m\u001b[0mkey\u001b[0m\u001b[1;33m)\u001b[0m\u001b[1;33m\u001b[0m\u001b[1;33m\u001b[0m\u001b[0m\n\u001b[0m\u001b[0;32m   3777\u001b[0m \u001b[1;33m\u001b[0m\u001b[0m\n\u001b[0;32m   3778\u001b[0m             \u001b[1;32mif\u001b[0m \u001b[0misinstance\u001b[0m\u001b[1;33m(\u001b[0m\u001b[0mloc\u001b[0m\u001b[1;33m,\u001b[0m \u001b[0mnp\u001b[0m\u001b[1;33m.\u001b[0m\u001b[0mndarray\u001b[0m\u001b[1;33m)\u001b[0m\u001b[1;33m:\u001b[0m\u001b[1;33m\u001b[0m\u001b[1;33m\u001b[0m\u001b[0m\n",
      "\u001b[1;32mC:\\ProgramData\\Anaconda3\\envs\\gogo_gis\\lib\\site-packages\\pandas\\core\\indexes\\range.py\u001b[0m in \u001b[0;36mget_loc\u001b[1;34m(self, key, method, tolerance)\u001b[0m\n\u001b[0;32m    386\u001b[0m                 \u001b[1;32mexcept\u001b[0m \u001b[0mValueError\u001b[0m \u001b[1;32mas\u001b[0m \u001b[0merr\u001b[0m\u001b[1;33m:\u001b[0m\u001b[1;33m\u001b[0m\u001b[1;33m\u001b[0m\u001b[0m\n\u001b[0;32m    387\u001b[0m                     \u001b[1;32mraise\u001b[0m \u001b[0mKeyError\u001b[0m\u001b[1;33m(\u001b[0m\u001b[0mkey\u001b[0m\u001b[1;33m)\u001b[0m \u001b[1;32mfrom\u001b[0m \u001b[0merr\u001b[0m\u001b[1;33m\u001b[0m\u001b[1;33m\u001b[0m\u001b[0m\n\u001b[1;32m--> 388\u001b[1;33m             \u001b[1;32mraise\u001b[0m \u001b[0mKeyError\u001b[0m\u001b[1;33m(\u001b[0m\u001b[0mkey\u001b[0m\u001b[1;33m)\u001b[0m\u001b[1;33m\u001b[0m\u001b[1;33m\u001b[0m\u001b[0m\n\u001b[0m\u001b[0;32m    389\u001b[0m         \u001b[1;32mreturn\u001b[0m \u001b[0msuper\u001b[0m\u001b[1;33m(\u001b[0m\u001b[1;33m)\u001b[0m\u001b[1;33m.\u001b[0m\u001b[0mget_loc\u001b[0m\u001b[1;33m(\u001b[0m\u001b[0mkey\u001b[0m\u001b[1;33m,\u001b[0m \u001b[0mmethod\u001b[0m\u001b[1;33m=\u001b[0m\u001b[0mmethod\u001b[0m\u001b[1;33m,\u001b[0m \u001b[0mtolerance\u001b[0m\u001b[1;33m=\u001b[0m\u001b[0mtolerance\u001b[0m\u001b[1;33m)\u001b[0m\u001b[1;33m\u001b[0m\u001b[1;33m\u001b[0m\u001b[0m\n\u001b[0;32m    390\u001b[0m \u001b[1;33m\u001b[0m\u001b[0m\n",
      "\u001b[1;31mKeyError\u001b[0m: '2020'"
     ]
    }
   ],
   "source": [
    "data2betested.loc[\"2020\"].head(2)\n",
    "#data2betested.loc[\"2021-10-31\":\"2021-11-30\"].head(2)"
   ]
  },
  {
   "cell_type": "markdown",
   "metadata": {},
   "source": [
    "### Visualisierungen nach Zeitausschnitten"
   ]
  },
  {
   "cell_type": "markdown",
   "metadata": {
    "tags": []
   },
   "source": [
    "#### Entwicklung Bildungsstand"
   ]
  },
  {
   "cell_type": "code",
   "execution_count": 74,
   "metadata": {},
   "outputs": [
    {
     "data": {
      "text/plain": [
       "Index(['RaumSort', 'RaumLang', 'Bildungsstand', 'AntBev', 'untAntBevKI', 'obAntBevKI'], dtype='object')"
      ]
     },
     "execution_count": 74,
     "metadata": {},
     "output_type": "execute_result"
    }
   ],
   "source": [
    "data2betested.columns"
   ]
  },
  {
   "cell_type": "code",
   "execution_count": 78,
   "metadata": {},
   "outputs": [
    {
     "data": {
      "text/html": [
       "\n",
       "<div id=\"altair-viz-a5751d6ecfb442d69c7314266622d0fd\"></div>\n",
       "<script type=\"text/javascript\">\n",
       "  (function(spec, embedOpt){\n",
       "    let outputDiv = document.currentScript.previousElementSibling;\n",
       "    if (outputDiv.id !== \"altair-viz-a5751d6ecfb442d69c7314266622d0fd\") {\n",
       "      outputDiv = document.getElementById(\"altair-viz-a5751d6ecfb442d69c7314266622d0fd\");\n",
       "    }\n",
       "    const paths = {\n",
       "      \"vega\": \"https://cdn.jsdelivr.net/npm//vega@5?noext\",\n",
       "      \"vega-lib\": \"https://cdn.jsdelivr.net/npm//vega-lib?noext\",\n",
       "      \"vega-lite\": \"https://cdn.jsdelivr.net/npm//vega-lite@4.8.1?noext\",\n",
       "      \"vega-embed\": \"https://cdn.jsdelivr.net/npm//vega-embed@6?noext\",\n",
       "    };\n",
       "\n",
       "    function loadScript(lib) {\n",
       "      return new Promise(function(resolve, reject) {\n",
       "        var s = document.createElement('script');\n",
       "        s.src = paths[lib];\n",
       "        s.async = true;\n",
       "        s.onload = () => resolve(paths[lib]);\n",
       "        s.onerror = () => reject(`Error loading script: ${paths[lib]}`);\n",
       "        document.getElementsByTagName(\"head\")[0].appendChild(s);\n",
       "      });\n",
       "    }\n",
       "\n",
       "    function showError(err) {\n",
       "      outputDiv.innerHTML = `<div class=\"error\" style=\"color:red;\">${err}</div>`;\n",
       "      throw err;\n",
       "    }\n",
       "\n",
       "    function displayChart(vegaEmbed) {\n",
       "      vegaEmbed(outputDiv, spec, embedOpt)\n",
       "        .catch(err => showError(`Javascript Error: ${err.message}<br>This usually means there's a typo in your chart specification. See the javascript console for the full traceback.`));\n",
       "    }\n",
       "\n",
       "    if(typeof define === \"function\" && define.amd) {\n",
       "      requirejs.config({paths});\n",
       "      require([\"vega-embed\"], displayChart, err => showError(`Error loading script: ${err.message}`));\n",
       "    } else if (typeof vegaEmbed === \"function\") {\n",
       "      displayChart(vegaEmbed);\n",
       "    } else {\n",
       "      loadScript(\"vega\")\n",
       "        .then(() => loadScript(\"vega-lite\"))\n",
       "        .then(() => loadScript(\"vega-embed\"))\n",
       "        .catch(showError)\n",
       "        .then(() => displayChart(vegaEmbed));\n",
       "    }\n",
       "  })({\"config\": {\"view\": {\"continuousWidth\": 400, \"continuousHeight\": 300}}, \"layer\": [{\"mark\": \"line\", \"encoding\": {\"color\": {\"type\": \"nominal\", \"field\": \"Bildungsstand\", \"legend\": {\"orient\": \"right\", \"title\": \"Altersgruppen\"}}, \"size\": {\"condition\": {\"value\": 0.5, \"selection\": {\"not\": \"selector006\"}}, \"value\": 4}, \"tooltip\": [{\"type\": \"nominal\", \"field\": \"RaumLang\"}, {\"type\": \"nominal\", \"field\": \"Bildungsstand\"}, {\"type\": \"quantitative\", \"field\": \"AntBev\"}], \"x\": {\"type\": \"quantitative\", \"axis\": {\"title\": \"Jahr\"}, \"field\": \"RaumSort\"}, \"y\": {\"type\": \"quantitative\", \"axis\": {\"title\": \"Ant. Personen\"}, \"field\": \"AntBev\"}}, \"selection\": {\"selector007\": {\"type\": \"interval\", \"bind\": \"scales\", \"encodings\": [\"x\", \"y\"]}}, \"title\": \"Bildungsstand nach Raumeinheiten\"}, {\"mark\": \"circle\", \"encoding\": {\"color\": {\"type\": \"nominal\", \"field\": \"Bildungsstand\", \"legend\": {\"orient\": \"right\", \"title\": \"Altersgruppen\"}}, \"opacity\": {\"value\": 0.75}, \"tooltip\": [{\"type\": \"nominal\", \"field\": \"RaumLang\"}, {\"type\": \"nominal\", \"field\": \"Bildungsstand\"}, {\"type\": \"quantitative\", \"field\": \"AntBev\"}], \"x\": {\"type\": \"quantitative\", \"axis\": {\"title\": \"Jahr\"}, \"field\": \"RaumSort\"}, \"y\": {\"type\": \"quantitative\", \"axis\": {\"title\": \"Ant. Personen\"}, \"field\": \"AntBev\"}}, \"height\": 350, \"selection\": {\"selector006\": {\"type\": \"single\", \"on\": \"mouseover\", \"fields\": [\"Bildungsstand\"], \"nearest\": true}}, \"title\": \"Bildungsstand nach Raumeinheiten\", \"width\": 750}], \"data\": {\"name\": \"data-48784afcceb73da22cd37a908afa8b42\"}, \"$schema\": \"https://vega.github.io/schema/vega-lite/v4.8.1.json\", \"datasets\": {\"data-48784afcceb73da22cd37a908afa8b42\": [{\"index\": 0, \"RaumSort\": 10, \"RaumLang\": \"Kreis 1\", \"Bildungsstand\": \"Obligatorische Schule\", \"AntBev\": 8.2, \"untAntBevKI\": 5.3, \"obAntBevKI\": 11.1}, {\"index\": 1, \"RaumSort\": 10, \"RaumLang\": \"Kreis 1\", \"Bildungsstand\": \"Sekundarstufe II\", \"AntBev\": 25.6, \"untAntBevKI\": 21.1, \"obAntBevKI\": 30.0}, {\"index\": 2, \"RaumSort\": 10, \"RaumLang\": \"Kreis 1\", \"Bildungsstand\": \"Terti\\u00e4rstufe\", \"AntBev\": 66.2, \"untAntBevKI\": 61.4, \"obAntBevKI\": 71.1}, {\"index\": 3, \"RaumSort\": 11, \"RaumLang\": \"Rathaus\", \"Bildungsstand\": \"Obligatorische Schule\", \"AntBev\": 9.6, \"untAntBevKI\": 5.7, \"obAntBevKI\": 13.5}, {\"index\": 4, \"RaumSort\": 11, \"RaumLang\": \"Rathaus\", \"Bildungsstand\": \"Sekundarstufe II\", \"AntBev\": 28.5, \"untAntBevKI\": 22.7, \"obAntBevKI\": 34.3}, {\"index\": 5, \"RaumSort\": 11, \"RaumLang\": \"Rathaus\", \"Bildungsstand\": \"Terti\\u00e4rstufe\", \"AntBev\": 61.9, \"untAntBevKI\": 55.7, \"obAntBevKI\": 68.1}, {\"index\": 6, \"RaumSort\": 12, \"RaumLang\": \"Hochschulen\", \"Bildungsstand\": \"Obligatorische Schule\", \"AntBev\": 8.6, \"untAntBevKI\": 0.0, \"obAntBevKI\": 19.5}, {\"index\": 7, \"RaumSort\": 12, \"RaumLang\": \"Hochschulen\", \"Bildungsstand\": \"Sekundarstufe II\", \"AntBev\": 32.4, \"untAntBevKI\": 15.0, \"obAntBevKI\": 49.9}, {\"index\": 8, \"RaumSort\": 12, \"RaumLang\": \"Hochschulen\", \"Bildungsstand\": \"Terti\\u00e4rstufe\", \"AntBev\": 58.9, \"untAntBevKI\": 40.7, \"obAntBevKI\": 77.2}, {\"index\": 9, \"RaumSort\": 13, \"RaumLang\": \"Lindenhof\", \"Bildungsstand\": \"Obligatorische Schule\", \"AntBev\": 1.6, \"untAntBevKI\": 0.0, \"obAntBevKI\": 4.5}, {\"index\": 10, \"RaumSort\": 13, \"RaumLang\": \"Lindenhof\", \"Bildungsstand\": \"Sekundarstufe II\", \"AntBev\": 15.8, \"untAntBevKI\": 7.2, \"obAntBevKI\": 24.4}, {\"index\": 11, \"RaumSort\": 13, \"RaumLang\": \"Lindenhof\", \"Bildungsstand\": \"Terti\\u00e4rstufe\", \"AntBev\": 82.6, \"untAntBevKI\": 73.7, \"obAntBevKI\": 91.6}, {\"index\": 12, \"RaumSort\": 14, \"RaumLang\": \"City\", \"Bildungsstand\": \"Obligatorische Schule\", \"AntBev\": 10.0, \"untAntBevKI\": 0.0, \"obAntBevKI\": 20.4}, {\"index\": 13, \"RaumSort\": 14, \"RaumLang\": \"City\", \"Bildungsstand\": \"Sekundarstufe II\", \"AntBev\": 19.2, \"untAntBevKI\": 6.6, \"obAntBevKI\": 31.8}, {\"index\": 14, \"RaumSort\": 14, \"RaumLang\": \"City\", \"Bildungsstand\": \"Terti\\u00e4rstufe\", \"AntBev\": 70.8, \"untAntBevKI\": 56.1, \"obAntBevKI\": 85.4}, {\"index\": 15, \"RaumSort\": 20, \"RaumLang\": \"Kreis 2\", \"Bildungsstand\": \"Obligatorische Schule\", \"AntBev\": 13.3, \"untAntBevKI\": 11.9, \"obAntBevKI\": 14.6}, {\"index\": 16, \"RaumSort\": 20, \"RaumLang\": \"Kreis 2\", \"Bildungsstand\": \"Sekundarstufe II\", \"AntBev\": 30.6, \"untAntBevKI\": 28.8, \"obAntBevKI\": 32.4}, {\"index\": 17, \"RaumSort\": 20, \"RaumLang\": \"Kreis 2\", \"Bildungsstand\": \"Terti\\u00e4rstufe\", \"AntBev\": 56.1, \"untAntBevKI\": 54.2, \"obAntBevKI\": 58.1}, {\"index\": 18, \"RaumSort\": 21, \"RaumLang\": \"Wollishofen\", \"Bildungsstand\": \"Obligatorische Schule\", \"AntBev\": 13.6, \"untAntBevKI\": 11.8, \"obAntBevKI\": 15.4}, {\"index\": 19, \"RaumSort\": 21, \"RaumLang\": \"Wollishofen\", \"Bildungsstand\": \"Sekundarstufe II\", \"AntBev\": 32.0, \"untAntBevKI\": 29.6, \"obAntBevKI\": 34.5}, {\"index\": 20, \"RaumSort\": 21, \"RaumLang\": \"Wollishofen\", \"Bildungsstand\": \"Terti\\u00e4rstufe\", \"AntBev\": 54.4, \"untAntBevKI\": 51.8, \"obAntBevKI\": 57.0}, {\"index\": 21, \"RaumSort\": 23, \"RaumLang\": \"Leimbach\", \"Bildungsstand\": \"Obligatorische Schule\", \"AntBev\": 20.7, \"untAntBevKI\": 16.6, \"obAntBevKI\": 24.9}, {\"index\": 22, \"RaumSort\": 23, \"RaumLang\": \"Leimbach\", \"Bildungsstand\": \"Sekundarstufe II\", \"AntBev\": 39.7, \"untAntBevKI\": 34.9, \"obAntBevKI\": 44.5}, {\"index\": 23, \"RaumSort\": 23, \"RaumLang\": \"Leimbach\", \"Bildungsstand\": \"Terti\\u00e4rstufe\", \"AntBev\": 39.6, \"untAntBevKI\": 34.9, \"obAntBevKI\": 44.4}, {\"index\": 24, \"RaumSort\": 24, \"RaumLang\": \"Enge\", \"Bildungsstand\": \"Obligatorische Schule\", \"AntBev\": 8.5, \"untAntBevKI\": 6.4, \"obAntBevKI\": 10.6}, {\"index\": 25, \"RaumSort\": 24, \"RaumLang\": \"Enge\", \"Bildungsstand\": \"Sekundarstufe II\", \"AntBev\": 22.8, \"untAntBevKI\": 19.7, \"obAntBevKI\": 25.8}, {\"index\": 26, \"RaumSort\": 24, \"RaumLang\": \"Enge\", \"Bildungsstand\": \"Terti\\u00e4rstufe\", \"AntBev\": 68.7, \"untAntBevKI\": 65.3, \"obAntBevKI\": 72.1}, {\"index\": 27, \"RaumSort\": 30, \"RaumLang\": \"Kreis 3\", \"Bildungsstand\": \"Obligatorische Schule\", \"AntBev\": 15.3, \"untAntBevKI\": 14.1, \"obAntBevKI\": 16.5}, {\"index\": 28, \"RaumSort\": 30, \"RaumLang\": \"Kreis 3\", \"Bildungsstand\": \"Sekundarstufe II\", \"AntBev\": 30.5, \"untAntBevKI\": 29.0, \"obAntBevKI\": 32.0}, {\"index\": 29, \"RaumSort\": 30, \"RaumLang\": \"Kreis 3\", \"Bildungsstand\": \"Terti\\u00e4rstufe\", \"AntBev\": 54.2, \"untAntBevKI\": 52.6, \"obAntBevKI\": 55.8}, {\"index\": 30, \"RaumSort\": 31, \"RaumLang\": \"Alt-Wiedikon\", \"Bildungsstand\": \"Obligatorische Schule\", \"AntBev\": 12.5, \"untAntBevKI\": 10.7, \"obAntBevKI\": 14.4}, {\"index\": 31, \"RaumSort\": 31, \"RaumLang\": \"Alt-Wiedikon\", \"Bildungsstand\": \"Sekundarstufe II\", \"AntBev\": 26.5, \"untAntBevKI\": 24.1, \"obAntBevKI\": 28.9}, {\"index\": 32, \"RaumSort\": 31, \"RaumLang\": \"Alt-Wiedikon\", \"Bildungsstand\": \"Terti\\u00e4rstufe\", \"AntBev\": 60.9, \"untAntBevKI\": 58.3, \"obAntBevKI\": 63.6}, {\"index\": 33, \"RaumSort\": 33, \"RaumLang\": \"Friesenberg\", \"Bildungsstand\": \"Obligatorische Schule\", \"AntBev\": 23.1, \"untAntBevKI\": 20.0, \"obAntBevKI\": 26.1}, {\"index\": 34, \"RaumSort\": 33, \"RaumLang\": \"Friesenberg\", \"Bildungsstand\": \"Sekundarstufe II\", \"AntBev\": 39.3, \"untAntBevKI\": 35.8, \"obAntBevKI\": 42.7}, {\"index\": 35, \"RaumSort\": 33, \"RaumLang\": \"Friesenberg\", \"Bildungsstand\": \"Terti\\u00e4rstufe\", \"AntBev\": 37.7, \"untAntBevKI\": 34.2, \"obAntBevKI\": 41.1}, {\"index\": 36, \"RaumSort\": 34, \"RaumLang\": \"Sihlfeld\", \"Bildungsstand\": \"Obligatorische Schule\", \"AntBev\": 14.1, \"untAntBevKI\": 12.3, \"obAntBevKI\": 15.8}, {\"index\": 37, \"RaumSort\": 34, \"RaumLang\": \"Sihlfeld\", \"Bildungsstand\": \"Sekundarstufe II\", \"AntBev\": 29.7, \"untAntBevKI\": 27.5, \"obAntBevKI\": 31.9}, {\"index\": 38, \"RaumSort\": 34, \"RaumLang\": \"Sihlfeld\", \"Bildungsstand\": \"Terti\\u00e4rstufe\", \"AntBev\": 56.2, \"untAntBevKI\": 53.8, \"obAntBevKI\": 58.7}, {\"index\": 39, \"RaumSort\": 40, \"RaumLang\": \"Kreis 4\", \"Bildungsstand\": \"Obligatorische Schule\", \"AntBev\": 16.9, \"untAntBevKI\": 15.3, \"obAntBevKI\": 18.6}, {\"index\": 40, \"RaumSort\": 40, \"RaumLang\": \"Kreis 4\", \"Bildungsstand\": \"Sekundarstufe II\", \"AntBev\": 26.7, \"untAntBevKI\": 24.8, \"obAntBevKI\": 28.7}, {\"index\": 41, \"RaumSort\": 40, \"RaumLang\": \"Kreis 4\", \"Bildungsstand\": \"Terti\\u00e4rstufe\", \"AntBev\": 56.3, \"untAntBevKI\": 54.2, \"obAntBevKI\": 58.5}, {\"index\": 42, \"RaumSort\": 41, \"RaumLang\": \"Werd\", \"Bildungsstand\": \"Obligatorische Schule\", \"AntBev\": 13.4, \"untAntBevKI\": 9.3, \"obAntBevKI\": 17.4}, {\"index\": 43, \"RaumSort\": 41, \"RaumLang\": \"Werd\", \"Bildungsstand\": \"Sekundarstufe II\", \"AntBev\": 21.5, \"untAntBevKI\": 16.8, \"obAntBevKI\": 26.3}, {\"index\": 44, \"RaumSort\": 41, \"RaumLang\": \"Werd\", \"Bildungsstand\": \"Terti\\u00e4rstufe\", \"AntBev\": 65.1, \"untAntBevKI\": 59.5, \"obAntBevKI\": 70.7}, {\"index\": 45, \"RaumSort\": 42, \"RaumLang\": \"Langstrasse\", \"Bildungsstand\": \"Obligatorische Schule\", \"AntBev\": 11.7, \"untAntBevKI\": 9.5, \"obAntBevKI\": 14.0}, {\"index\": 46, \"RaumSort\": 42, \"RaumLang\": \"Langstrasse\", \"Bildungsstand\": \"Sekundarstufe II\", \"AntBev\": 25.6, \"untAntBevKI\": 22.6, \"obAntBevKI\": 28.6}, {\"index\": 47, \"RaumSort\": 42, \"RaumLang\": \"Langstrasse\", \"Bildungsstand\": \"Terti\\u00e4rstufe\", \"AntBev\": 62.7, \"untAntBevKI\": 59.4, \"obAntBevKI\": 66.0}, {\"index\": 48, \"RaumSort\": 44, \"RaumLang\": \"Hard\", \"Bildungsstand\": \"Obligatorische Schule\", \"AntBev\": 22.7, \"untAntBevKI\": 19.9, \"obAntBevKI\": 25.4}, {\"index\": 49, \"RaumSort\": 44, \"RaumLang\": \"Hard\", \"Bildungsstand\": \"Sekundarstufe II\", \"AntBev\": 29.4, \"untAntBevKI\": 26.4, \"obAntBevKI\": 32.3}, {\"index\": 50, \"RaumSort\": 44, \"RaumLang\": \"Hard\", \"Bildungsstand\": \"Terti\\u00e4rstufe\", \"AntBev\": 48.0, \"untAntBevKI\": 44.7, \"obAntBevKI\": 51.2}, {\"index\": 51, \"RaumSort\": 50, \"RaumLang\": \"Kreis 5\", \"Bildungsstand\": \"Obligatorische Schule\", \"AntBev\": 11.6, \"untAntBevKI\": 9.7, \"obAntBevKI\": 13.4}, {\"index\": 52, \"RaumSort\": 50, \"RaumLang\": \"Kreis 5\", \"Bildungsstand\": \"Sekundarstufe II\", \"AntBev\": 23.6, \"untAntBevKI\": 21.2, \"obAntBevKI\": 26.1}, {\"index\": 53, \"RaumSort\": 50, \"RaumLang\": \"Kreis 5\", \"Bildungsstand\": \"Terti\\u00e4rstufe\", \"AntBev\": 64.8, \"untAntBevKI\": 62.1, \"obAntBevKI\": 67.6}, {\"index\": 54, \"RaumSort\": 51, \"RaumLang\": \"Gewerbeschule\", \"Bildungsstand\": \"Obligatorische Schule\", \"AntBev\": 15.7, \"untAntBevKI\": 13.0, \"obAntBevKI\": 18.5}, {\"index\": 55, \"RaumSort\": 51, \"RaumLang\": \"Gewerbeschule\", \"Bildungsstand\": \"Sekundarstufe II\", \"AntBev\": 26.2, \"untAntBevKI\": 22.9, \"obAntBevKI\": 29.5}, {\"index\": 56, \"RaumSort\": 51, \"RaumLang\": \"Gewerbeschule\", \"Bildungsstand\": \"Terti\\u00e4rstufe\", \"AntBev\": 58.1, \"untAntBevKI\": 54.4, \"obAntBevKI\": 61.7}, {\"index\": 57, \"RaumSort\": 52, \"RaumLang\": \"Escher Wyss\", \"Bildungsstand\": \"Obligatorische Schule\", \"AntBev\": 5.3, \"untAntBevKI\": 3.2, \"obAntBevKI\": 7.3}, {\"index\": 58, \"RaumSort\": 52, \"RaumLang\": \"Escher Wyss\", \"Bildungsstand\": \"Sekundarstufe II\", \"AntBev\": 19.8, \"untAntBevKI\": 16.1, \"obAntBevKI\": 23.4}, {\"index\": 59, \"RaumSort\": 52, \"RaumLang\": \"Escher Wyss\", \"Bildungsstand\": \"Terti\\u00e4rstufe\", \"AntBev\": 75.0, \"untAntBevKI\": 71.0, \"obAntBevKI\": 78.9}, {\"index\": 60, \"RaumSort\": 60, \"RaumLang\": \"Kreis 6\", \"Bildungsstand\": \"Obligatorische Schule\", \"AntBev\": 10.5, \"untAntBevKI\": 9.3, \"obAntBevKI\": 11.7}, {\"index\": 61, \"RaumSort\": 60, \"RaumLang\": \"Kreis 6\", \"Bildungsstand\": \"Sekundarstufe II\", \"AntBev\": 24.5, \"untAntBevKI\": 22.9, \"obAntBevKI\": 26.2}, {\"index\": 62, \"RaumSort\": 60, \"RaumLang\": \"Kreis 6\", \"Bildungsstand\": \"Terti\\u00e4rstufe\", \"AntBev\": 64.9, \"untAntBevKI\": 63.1, \"obAntBevKI\": 66.8}, {\"index\": 63, \"RaumSort\": 61, \"RaumLang\": \"Unterstrass\", \"Bildungsstand\": \"Obligatorische Schule\", \"AntBev\": 12.0, \"untAntBevKI\": 10.5, \"obAntBevKI\": 13.5}, {\"index\": 64, \"RaumSort\": 61, \"RaumLang\": \"Unterstrass\", \"Bildungsstand\": \"Sekundarstufe II\", \"AntBev\": 25.8, \"untAntBevKI\": 23.7, \"obAntBevKI\": 27.8}, {\"index\": 65, \"RaumSort\": 61, \"RaumLang\": \"Unterstrass\", \"Bildungsstand\": \"Terti\\u00e4rstufe\", \"AntBev\": 62.2, \"untAntBevKI\": 60.0, \"obAntBevKI\": 64.5}, {\"index\": 66, \"RaumSort\": 63, \"RaumLang\": \"Oberstrass\", \"Bildungsstand\": \"Obligatorische Schule\", \"AntBev\": 7.1, \"untAntBevKI\": 5.3, \"obAntBevKI\": 9.0}, {\"index\": 67, \"RaumSort\": 63, \"RaumLang\": \"Oberstrass\", \"Bildungsstand\": \"Sekundarstufe II\", \"AntBev\": 21.8, \"untAntBevKI\": 18.9, \"obAntBevKI\": 24.7}, {\"index\": 68, \"RaumSort\": 63, \"RaumLang\": \"Oberstrass\", \"Bildungsstand\": \"Terti\\u00e4rstufe\", \"AntBev\": 71.1, \"untAntBevKI\": 67.9, \"obAntBevKI\": 74.3}, {\"index\": 69, \"RaumSort\": 70, \"RaumLang\": \"Kreis 7\", \"Bildungsstand\": \"Obligatorische Schule\", \"AntBev\": 8.1, \"untAntBevKI\": 7.1, \"obAntBevKI\": 9.1}, {\"index\": 70, \"RaumSort\": 70, \"RaumLang\": \"Kreis 7\", \"Bildungsstand\": \"Sekundarstufe II\", \"AntBev\": 28.2, \"untAntBevKI\": 26.5, \"obAntBevKI\": 29.8}, {\"index\": 71, \"RaumSort\": 70, \"RaumLang\": \"Kreis 7\", \"Bildungsstand\": \"Terti\\u00e4rstufe\", \"AntBev\": 63.7, \"untAntBevKI\": 62.0, \"obAntBevKI\": 65.5}, {\"index\": 72, \"RaumSort\": 71, \"RaumLang\": \"Fluntern\", \"Bildungsstand\": \"Obligatorische Schule\", \"AntBev\": 6.5, \"untAntBevKI\": 4.5, \"obAntBevKI\": 8.4}, {\"index\": 73, \"RaumSort\": 71, \"RaumLang\": \"Fluntern\", \"Bildungsstand\": \"Sekundarstufe II\", \"AntBev\": 24.9, \"untAntBevKI\": 21.6, \"obAntBevKI\": 28.2}, {\"index\": 74, \"RaumSort\": 71, \"RaumLang\": \"Fluntern\", \"Bildungsstand\": \"Terti\\u00e4rstufe\", \"AntBev\": 68.6, \"untAntBevKI\": 65.1, \"obAntBevKI\": 72.2}, {\"index\": 75, \"RaumSort\": 72, \"RaumLang\": \"Hottingen\", \"Bildungsstand\": \"Obligatorische Schule\", \"AntBev\": 7.8, \"untAntBevKI\": 5.9, \"obAntBevKI\": 9.7}, {\"index\": 76, \"RaumSort\": 72, \"RaumLang\": \"Hottingen\", \"Bildungsstand\": \"Sekundarstufe II\", \"AntBev\": 24.7, \"untAntBevKI\": 21.8, \"obAntBevKI\": 27.6}, {\"index\": 77, \"RaumSort\": 72, \"RaumLang\": \"Hottingen\", \"Bildungsstand\": \"Terti\\u00e4rstufe\", \"AntBev\": 67.5, \"untAntBevKI\": 64.3, \"obAntBevKI\": 70.7}, {\"index\": 78, \"RaumSort\": 73, \"RaumLang\": \"Hirslanden\", \"Bildungsstand\": \"Obligatorische Schule\", \"AntBev\": 6.5, \"untAntBevKI\": 4.3, \"obAntBevKI\": 8.6}, {\"index\": 79, \"RaumSort\": 73, \"RaumLang\": \"Hirslanden\", \"Bildungsstand\": \"Sekundarstufe II\", \"AntBev\": 23.1, \"untAntBevKI\": 19.5, \"obAntBevKI\": 26.7}, {\"index\": 80, \"RaumSort\": 73, \"RaumLang\": \"Hirslanden\", \"Bildungsstand\": \"Terti\\u00e4rstufe\", \"AntBev\": 70.4, \"untAntBevKI\": 66.5, \"obAntBevKI\": 74.4}, {\"index\": 81, \"RaumSort\": 74, \"RaumLang\": \"Witikon\", \"Bildungsstand\": \"Obligatorische Schule\", \"AntBev\": 10.7, \"untAntBevKI\": 8.6, \"obAntBevKI\": 12.9}, {\"index\": 82, \"RaumSort\": 74, \"RaumLang\": \"Witikon\", \"Bildungsstand\": \"Sekundarstufe II\", \"AntBev\": 37.6, \"untAntBevKI\": 34.3, \"obAntBevKI\": 40.9}, {\"index\": 83, \"RaumSort\": 74, \"RaumLang\": \"Witikon\", \"Bildungsstand\": \"Terti\\u00e4rstufe\", \"AntBev\": 51.7, \"untAntBevKI\": 48.3, \"obAntBevKI\": 55.1}, {\"index\": 84, \"RaumSort\": 80, \"RaumLang\": \"Kreis 8\", \"Bildungsstand\": \"Obligatorische Schule\", \"AntBev\": 7.9, \"untAntBevKI\": 6.3, \"obAntBevKI\": 9.4}, {\"index\": 85, \"RaumSort\": 80, \"RaumLang\": \"Kreis 8\", \"Bildungsstand\": \"Sekundarstufe II\", \"AntBev\": 23.7, \"untAntBevKI\": 21.4, \"obAntBevKI\": 26.0}, {\"index\": 86, \"RaumSort\": 80, \"RaumLang\": \"Kreis 8\", \"Bildungsstand\": \"Terti\\u00e4rstufe\", \"AntBev\": 68.4, \"untAntBevKI\": 65.9, \"obAntBevKI\": 71.0}, {\"index\": 87, \"RaumSort\": 81, \"RaumLang\": \"Seefeld\", \"Bildungsstand\": \"Obligatorische Schule\", \"AntBev\": 5.6, \"untAntBevKI\": 3.2, \"obAntBevKI\": 8.0}, {\"index\": 88, \"RaumSort\": 81, \"RaumLang\": \"Seefeld\", \"Bildungsstand\": \"Sekundarstufe II\", \"AntBev\": 21.3, \"untAntBevKI\": 17.2, \"obAntBevKI\": 25.3}, {\"index\": 89, \"RaumSort\": 81, \"RaumLang\": \"Seefeld\", \"Bildungsstand\": \"Terti\\u00e4rstufe\", \"AntBev\": 73.1, \"untAntBevKI\": 68.7, \"obAntBevKI\": 77.5}, {\"index\": 90, \"RaumSort\": 82, \"RaumLang\": \"M\\u00fchlebach\", \"Bildungsstand\": \"Obligatorische Schule\", \"AntBev\": 8.6, \"untAntBevKI\": 6.1, \"obAntBevKI\": 11.2}, {\"index\": 91, \"RaumSort\": 82, \"RaumLang\": \"M\\u00fchlebach\", \"Bildungsstand\": \"Sekundarstufe II\", \"AntBev\": 22.1, \"untAntBevKI\": 18.5, \"obAntBevKI\": 25.8}, {\"index\": 92, \"RaumSort\": 82, \"RaumLang\": \"M\\u00fchlebach\", \"Bildungsstand\": \"Terti\\u00e4rstufe\", \"AntBev\": 69.3, \"untAntBevKI\": 65.2, \"obAntBevKI\": 73.3}, {\"index\": 93, \"RaumSort\": 83, \"RaumLang\": \"Weinegg\", \"Bildungsstand\": \"Obligatorische Schule\", \"AntBev\": 9.1, \"untAntBevKI\": 6.2, \"obAntBevKI\": 12.0}, {\"index\": 94, \"RaumSort\": 83, \"RaumLang\": \"Weinegg\", \"Bildungsstand\": \"Sekundarstufe II\", \"AntBev\": 28.1, \"untAntBevKI\": 23.7, \"obAntBevKI\": 32.5}, {\"index\": 95, \"RaumSort\": 83, \"RaumLang\": \"Weinegg\", \"Bildungsstand\": \"Terti\\u00e4rstufe\", \"AntBev\": 62.8, \"untAntBevKI\": 58.1, \"obAntBevKI\": 67.5}, {\"index\": 96, \"RaumSort\": 90, \"RaumLang\": \"Kreis 9\", \"Bildungsstand\": \"Obligatorische Schule\", \"AntBev\": 19.8, \"untAntBevKI\": 18.6, \"obAntBevKI\": 21.0}, {\"index\": 97, \"RaumSort\": 90, \"RaumLang\": \"Kreis 9\", \"Bildungsstand\": \"Sekundarstufe II\", \"AntBev\": 36.2, \"untAntBevKI\": 34.7, \"obAntBevKI\": 37.6}, {\"index\": 98, \"RaumSort\": 90, \"RaumLang\": \"Kreis 9\", \"Bildungsstand\": \"Terti\\u00e4rstufe\", \"AntBev\": 44.0, \"untAntBevKI\": 42.5, \"obAntBevKI\": 45.5}, {\"index\": 99, \"RaumSort\": 91, \"RaumLang\": \"Albisrieden\", \"Bildungsstand\": \"Obligatorische Schule\", \"AntBev\": 15.7, \"untAntBevKI\": 14.0, \"obAntBevKI\": 17.4}, {\"index\": 100, \"RaumSort\": 91, \"RaumLang\": \"Albisrieden\", \"Bildungsstand\": \"Sekundarstufe II\", \"AntBev\": 34.0, \"untAntBevKI\": 31.8, \"obAntBevKI\": 36.2}, {\"index\": 101, \"RaumSort\": 91, \"RaumLang\": \"Albisrieden\", \"Bildungsstand\": \"Terti\\u00e4rstufe\", \"AntBev\": 50.3, \"untAntBevKI\": 48.0, \"obAntBevKI\": 52.7}, {\"index\": 102, \"RaumSort\": 92, \"RaumLang\": \"Altstetten\", \"Bildungsstand\": \"Obligatorische Schule\", \"AntBev\": 22.6, \"untAntBevKI\": 20.9, \"obAntBevKI\": 24.3}, {\"index\": 103, \"RaumSort\": 92, \"RaumLang\": \"Altstetten\", \"Bildungsstand\": \"Sekundarstufe II\", \"AntBev\": 37.7, \"untAntBevKI\": 35.8, \"obAntBevKI\": 39.6}, {\"index\": 104, \"RaumSort\": 92, \"RaumLang\": \"Altstetten\", \"Bildungsstand\": \"Terti\\u00e4rstufe\", \"AntBev\": 39.7, \"untAntBevKI\": 37.7, \"obAntBevKI\": 41.6}, {\"index\": 105, \"RaumSort\": 100, \"RaumLang\": \"Kreis 10\", \"Bildungsstand\": \"Obligatorische Schule\", \"AntBev\": 11.7, \"untAntBevKI\": 10.5, \"obAntBevKI\": 12.8}, {\"index\": 106, \"RaumSort\": 100, \"RaumLang\": \"Kreis 10\", \"Bildungsstand\": \"Sekundarstufe II\", \"AntBev\": 30.2, \"untAntBevKI\": 28.6, \"obAntBevKI\": 31.9}, {\"index\": 107, \"RaumSort\": 100, \"RaumLang\": \"Kreis 10\", \"Bildungsstand\": \"Terti\\u00e4rstufe\", \"AntBev\": 58.1, \"untAntBevKI\": 56.4, \"obAntBevKI\": 59.9}, {\"index\": 108, \"RaumSort\": 101, \"RaumLang\": \"H\\u00f6ngg\", \"Bildungsstand\": \"Obligatorische Schule\", \"AntBev\": 11.8, \"untAntBevKI\": 10.3, \"obAntBevKI\": 13.4}, {\"index\": 109, \"RaumSort\": 101, \"RaumLang\": \"H\\u00f6ngg\", \"Bildungsstand\": \"Sekundarstufe II\", \"AntBev\": 32.9, \"untAntBevKI\": 30.7, \"obAntBevKI\": 35.1}, {\"index\": 110, \"RaumSort\": 101, \"RaumLang\": \"H\\u00f6ngg\", \"Bildungsstand\": \"Terti\\u00e4rstufe\", \"AntBev\": 55.3, \"untAntBevKI\": 53.0, \"obAntBevKI\": 57.6}, {\"index\": 111, \"RaumSort\": 102, \"RaumLang\": \"Wipkingen\", \"Bildungsstand\": \"Obligatorische Schule\", \"AntBev\": 11.4, \"untAntBevKI\": 9.6, \"obAntBevKI\": 13.3}, {\"index\": 112, \"RaumSort\": 102, \"RaumLang\": \"Wipkingen\", \"Bildungsstand\": \"Sekundarstufe II\", \"AntBev\": 26.4, \"untAntBevKI\": 23.9, \"obAntBevKI\": 28.8}, {\"index\": 113, \"RaumSort\": 102, \"RaumLang\": \"Wipkingen\", \"Bildungsstand\": \"Terti\\u00e4rstufe\", \"AntBev\": 62.2, \"untAntBevKI\": 59.5, \"obAntBevKI\": 65.0}, {\"index\": 114, \"RaumSort\": 110, \"RaumLang\": \"Kreis 11\", \"Bildungsstand\": \"Obligatorische Schule\", \"AntBev\": 20.1, \"untAntBevKI\": 19.0, \"obAntBevKI\": 21.2}, {\"index\": 115, \"RaumSort\": 110, \"RaumLang\": \"Kreis 11\", \"Bildungsstand\": \"Sekundarstufe II\", \"AntBev\": 34.7, \"untAntBevKI\": 33.4, \"obAntBevKI\": 35.9}, {\"index\": 116, \"RaumSort\": 110, \"RaumLang\": \"Kreis 11\", \"Bildungsstand\": \"Terti\\u00e4rstufe\", \"AntBev\": 45.2, \"untAntBevKI\": 43.9, \"obAntBevKI\": 46.6}, {\"index\": 117, \"RaumSort\": 111, \"RaumLang\": \"Affoltern\", \"Bildungsstand\": \"Obligatorische Schule\", \"AntBev\": 23.9, \"untAntBevKI\": 21.9, \"obAntBevKI\": 25.9}, {\"index\": 118, \"RaumSort\": 111, \"RaumLang\": \"Affoltern\", \"Bildungsstand\": \"Sekundarstufe II\", \"AntBev\": 38.7, \"untAntBevKI\": 36.5, \"obAntBevKI\": 40.9}, {\"index\": 119, \"RaumSort\": 111, \"RaumLang\": \"Affoltern\", \"Bildungsstand\": \"Terti\\u00e4rstufe\", \"AntBev\": 37.4, \"untAntBevKI\": 35.2, \"obAntBevKI\": 39.6}, {\"index\": 120, \"RaumSort\": 115, \"RaumLang\": \"Oerlikon\", \"Bildungsstand\": \"Obligatorische Schule\", \"AntBev\": 12.6, \"untAntBevKI\": 11.0, \"obAntBevKI\": 14.2}, {\"index\": 121, \"RaumSort\": 115, \"RaumLang\": \"Oerlikon\", \"Bildungsstand\": \"Sekundarstufe II\", \"AntBev\": 28.0, \"untAntBevKI\": 25.8, \"obAntBevKI\": 30.2}, {\"index\": 122, \"RaumSort\": 115, \"RaumLang\": \"Oerlikon\", \"Bildungsstand\": \"Terti\\u00e4rstufe\", \"AntBev\": 59.4, \"untAntBevKI\": 57.0, \"obAntBevKI\": 61.8}, {\"index\": 123, \"RaumSort\": 119, \"RaumLang\": \"Seebach\", \"Bildungsstand\": \"Obligatorische Schule\", \"AntBev\": 23.0, \"untAntBevKI\": 21.0, \"obAntBevKI\": 25.0}, {\"index\": 124, \"RaumSort\": 119, \"RaumLang\": \"Seebach\", \"Bildungsstand\": \"Sekundarstufe II\", \"AntBev\": 36.6, \"untAntBevKI\": 34.3, \"obAntBevKI\": 38.8}, {\"index\": 125, \"RaumSort\": 119, \"RaumLang\": \"Seebach\", \"Bildungsstand\": \"Terti\\u00e4rstufe\", \"AntBev\": 40.4, \"untAntBevKI\": 38.2, \"obAntBevKI\": 42.7}, {\"index\": 126, \"RaumSort\": 120, \"RaumLang\": \"Kreis 12\", \"Bildungsstand\": \"Obligatorische Schule\", \"AntBev\": 27.4, \"untAntBevKI\": 25.5, \"obAntBevKI\": 29.3}, {\"index\": 127, \"RaumSort\": 120, \"RaumLang\": \"Kreis 12\", \"Bildungsstand\": \"Sekundarstufe II\", \"AntBev\": 38.9, \"untAntBevKI\": 36.9, \"obAntBevKI\": 40.9}, {\"index\": 128, \"RaumSort\": 120, \"RaumLang\": \"Kreis 12\", \"Bildungsstand\": \"Terti\\u00e4rstufe\", \"AntBev\": 33.7, \"untAntBevKI\": 31.7, \"obAntBevKI\": 35.6}, {\"index\": 129, \"RaumSort\": 121, \"RaumLang\": \"Saatlen\", \"Bildungsstand\": \"Obligatorische Schule\", \"AntBev\": 28.0, \"untAntBevKI\": 24.3, \"obAntBevKI\": 31.7}, {\"index\": 130, \"RaumSort\": 121, \"RaumLang\": \"Saatlen\", \"Bildungsstand\": \"Sekundarstufe II\", \"AntBev\": 39.2, \"untAntBevKI\": 35.2, \"obAntBevKI\": 43.1}, {\"index\": 131, \"RaumSort\": 121, \"RaumLang\": \"Saatlen\", \"Bildungsstand\": \"Terti\\u00e4rstufe\", \"AntBev\": 32.8, \"untAntBevKI\": 29.0, \"obAntBevKI\": 36.6}, {\"index\": 132, \"RaumSort\": 122, \"RaumLang\": \"Schwamendingen-Mitte\", \"Bildungsstand\": \"Obligatorische Schule\", \"AntBev\": 27.7, \"untAntBevKI\": 24.5, \"obAntBevKI\": 30.9}, {\"index\": 133, \"RaumSort\": 122, \"RaumLang\": \"Schwamendingen-Mitte\", \"Bildungsstand\": \"Sekundarstufe II\", \"AntBev\": 34.5, \"untAntBevKI\": 31.2, \"obAntBevKI\": 37.9}, {\"index\": 134, \"RaumSort\": 122, \"RaumLang\": \"Schwamendingen-Mitte\", \"Bildungsstand\": \"Terti\\u00e4rstufe\", \"AntBev\": 37.7, \"untAntBevKI\": 34.3, \"obAntBevKI\": 41.2}, {\"index\": 135, \"RaumSort\": 123, \"RaumLang\": \"Hirzenbach\", \"Bildungsstand\": \"Obligatorische Schule\", \"AntBev\": 26.7, \"untAntBevKI\": 23.8, \"obAntBevKI\": 29.7}, {\"index\": 136, \"RaumSort\": 123, \"RaumLang\": \"Hirzenbach\", \"Bildungsstand\": \"Sekundarstufe II\", \"AntBev\": 42.6, \"untAntBevKI\": 39.3, \"obAntBevKI\": 45.9}, {\"index\": 137, \"RaumSort\": 123, \"RaumLang\": \"Hirzenbach\", \"Bildungsstand\": \"Terti\\u00e4rstufe\", \"AntBev\": 30.7, \"untAntBevKI\": 27.6, \"obAntBevKI\": 33.7}]}}, {\"mode\": \"vega-lite\"});\n",
       "</script>"
      ],
      "text/plain": [
       "alt.LayerChart(...)"
      ]
     },
     "execution_count": 78,
     "metadata": {},
     "output_type": "execute_result"
    }
   ],
   "source": [
    "myTitle=\"Bildungsstand nach Raumeinheiten\"\n",
    "\n",
    "highlight = alt.selection(type='single', on='mouseover',\n",
    "                          fields=['Bildungsstand'], nearest=True)\n",
    "#x='date:StichtagDatJahr',\n",
    "base = alt.Chart(data2betested.reset_index().query('AntBev>0'), title=myTitle).encode(\n",
    "    x=alt.X('RaumSort', axis=alt.Axis(title='Jahr'))# , axis=alt.Axis(format='%', title='percentage')\n",
    "    , y=alt.X('AntBev', axis=alt.Axis(title='Ant. Personen'))\n",
    "    , color=alt.Color('Bildungsstand', legend=alt.Legend(title=\"Altersgruppen\", orient=\"right\"))  \n",
    "    ,tooltip=['RaumLang', 'Bildungsstand','AntBev']    \n",
    ")\n",
    "points = base.mark_circle().encode(\n",
    "    opacity=alt.value(0.75)\n",
    ").add_selection(\n",
    "    highlight\n",
    ").properties(\n",
    "    width=750 , height=350\n",
    ")\n",
    "lines = base.mark_line().encode(\n",
    "    size=alt.condition(~highlight, alt.value(0.5), alt.value(4))\n",
    ").interactive()\n",
    "\n",
    "lines + points"
   ]
  },
  {
   "cell_type": "markdown",
   "metadata": {
    "tags": []
   },
   "source": [
    "#### Barcharts mit Seaborn"
   ]
  },
  {
   "cell_type": "code",
   "execution_count": 79,
   "metadata": {},
   "outputs": [
    {
     "data": {
      "text/plain": [
       "Index(['RaumSort', 'RaumLang', 'Bildungsstand', 'AntBev', 'untAntBevKI', 'obAntBevKI'], dtype='object')"
      ]
     },
     "execution_count": 79,
     "metadata": {},
     "output_type": "execute_result"
    }
   ],
   "source": [
    "data2betested.columns"
   ]
  },
  {
   "cell_type": "code",
   "execution_count": 82,
   "metadata": {},
   "outputs": [
    {
     "data": {
      "text/html": [
       "<div>\n",
       "<style scoped>\n",
       "    .dataframe tbody tr th:only-of-type {\n",
       "        vertical-align: middle;\n",
       "    }\n",
       "\n",
       "    .dataframe tbody tr th {\n",
       "        vertical-align: top;\n",
       "    }\n",
       "\n",
       "    .dataframe thead th {\n",
       "        text-align: right;\n",
       "    }\n",
       "</style>\n",
       "<table border=\"1\" class=\"dataframe\">\n",
       "  <thead>\n",
       "    <tr style=\"text-align: right;\">\n",
       "      <th></th>\n",
       "      <th>RaumSort</th>\n",
       "      <th>RaumLang</th>\n",
       "      <th>mean_AntBev</th>\n",
       "      <th>median_AntBev</th>\n",
       "    </tr>\n",
       "  </thead>\n",
       "  <tbody>\n",
       "    <tr>\n",
       "      <th>0</th>\n",
       "      <td>10</td>\n",
       "      <td>Kreis 1</td>\n",
       "      <td>33</td>\n",
       "      <td>26</td>\n",
       "    </tr>\n",
       "    <tr>\n",
       "      <th>1</th>\n",
       "      <td>11</td>\n",
       "      <td>Rathaus</td>\n",
       "      <td>33</td>\n",
       "      <td>28</td>\n",
       "    </tr>\n",
       "    <tr>\n",
       "      <th>2</th>\n",
       "      <td>12</td>\n",
       "      <td>Hochschulen</td>\n",
       "      <td>33</td>\n",
       "      <td>32</td>\n",
       "    </tr>\n",
       "  </tbody>\n",
       "</table>\n",
       "</div>"
      ],
      "text/plain": [
       "   RaumSort     RaumLang  mean_AntBev  median_AntBev\n",
       "0        10      Kreis 1           33             26\n",
       "1        11      Rathaus           33             28\n",
       "2        12  Hochschulen           33             32"
      ]
     },
     "execution_count": 82,
     "metadata": {},
     "output_type": "execute_result"
    }
   ],
   "source": [
    "myAggBar = data2betested\\\n",
    "    .groupby(['RaumSort', 'RaumLang']) \\\n",
    "    .agg(mean_AntBev=('AntBev', 'mean')\n",
    "        ,median_AntBev=('AntBev', 'median')\n",
    "        ) \\\n",
    "    .sort_values('RaumSort', ascending=True) \n",
    "\n",
    "myAggBar.reset_index().head(3)"
   ]
  },
  {
   "cell_type": "code",
   "execution_count": 108,
   "metadata": {},
   "outputs": [],
   "source": [
    "#help(sns.catplot)     "
   ]
  },
  {
   "cell_type": "code",
   "execution_count": 109,
   "metadata": {},
   "outputs": [],
   "source": [
    "#Stile for the following sns graphs\n",
    "sns.set_theme(style=\"whitegrid\")"
   ]
  },
  {
   "cell_type": "code",
   "execution_count": 85,
   "metadata": {},
   "outputs": [
    {
     "data": {
      "text/plain": [
       "<seaborn.axisgrid.FacetGrid at 0x18ff5820d08>"
      ]
     },
     "execution_count": 85,
     "metadata": {},
     "output_type": "execute_result"
    },
    {
     "data": {
      "image/png": "[encoded data removed]",
      "text/plain": [
       "<Figure size 865x360 with 1 Axes>"
      ]
     },
     "metadata": {
      "needs_background": "light"
     },
     "output_type": "display_data"
    }
   ],
   "source": [
    "#sns.color_palette(\"flare\", as_cmap=True)\n",
    "myHist = sns.catplot(x=\"RaumLang\"\n",
    "            , y=\"AntBev\"\n",
    "            , hue=\"Bildungsstand\"\n",
    "            , kind=\"bar\" #boxen, violin, --> wenn die aggregation nicht genau den werten in der grafik entspricht\n",
    "            , palette=\"pastel\" #, color=\"green\"\n",
    "            , height=5\n",
    "            , aspect=2\n",
    "            , order=None, legend_out=True\n",
    "            ,data=data2betested.query('RaumSort > 80').reset_index()\n",
    "           )\n",
    "myHist.set_xlabels('Altersgruppe', fontsize=11) # not set_label\n",
    "myHist.set_ylabels('Ant. Pers.', fontsize=11)\n"
   ]
  },
  {
   "cell_type": "code",
   "execution_count": 87,
   "metadata": {},
   "outputs": [
    {
     "data": {
      "text/plain": [
       "Index(['RaumSort', 'RaumLang', 'Bildungsstand', 'AntBev', 'untAntBevKI', 'obAntBevKI'], dtype='object')"
      ]
     },
     "execution_count": 87,
     "metadata": {},
     "output_type": "execute_result"
    }
   ],
   "source": [
    "data2betested.columns"
   ]
  },
  {
   "cell_type": "code",
   "execution_count": 90,
   "metadata": {},
   "outputs": [
    {
     "data": {
      "text/plain": [
       "<seaborn.axisgrid.FacetGrid at 0x18ff932f6c8>"
      ]
     },
     "execution_count": 90,
     "metadata": {},
     "output_type": "execute_result"
    },
    {
     "data": {
      "image/png": "[encoded data removed]",
      "text/plain": [
       "<Figure size 1009x2592 with 46 Axes>"
      ]
     },
     "metadata": {
      "needs_background": "light"
     },
     "output_type": "display_data"
    }
   ],
   "source": [
    "g2 = sns.FacetGrid(data2betested.sort_values('RaumSort', ascending=True).reset_index(), col=\"RaumLang\", hue=\"Bildungsstand\", col_wrap=4, height=3,)\n",
    "#g2.map(sns.lineplot, \"Jahr_str\",\"AntBev\",alpha=.8)\n",
    "g2.map(sns.scatterplot, \"untAntBevKI\", \"obAntBevKI\", alpha=.8)\n",
    "g2.add_legend()\n"
   ]
  },
  {
   "cell_type": "markdown",
   "metadata": {},
   "source": [
    "## ---------------------- hier Plausi beendet\n",
    "\n",
    "**Sharepoint als gecheckt markieren!**"
   ]
  },
  {
   "cell_type": "markdown",
   "metadata": {
    "tags": []
   },
   "source": [
    "Record auf Sharepoint: **[Link](https://kollaboration.intranet.stzh.ch/orga/ssz-produkte/Lists/SASA_Outputs/DispForm.aspx?ID=363&ContentTypeId=0x0100988EAF029F1EFE4CA675F53C32A5D53D01006DBC563E6FBE9E4EB6FDC780799752E1)**\n",
    "\n",
    "---------------------------------------------------------------------------"
   ]
  },
  {
   "cell_type": "markdown",
   "metadata": {},
   "source": [
    "### Daten in interaktiver Treemap zeigen\n",
    "Dazu gibt es eine sehr nützliche Webseite https://plotly.com/python/treemaps/\n",
    "Zu Farbskalen, siehe: https://plotly.com/python/builtin-colorscales/"
   ]
  },
  {
   "cell_type": "markdown",
   "metadata": {},
   "source": [
    "#### Aktueller Bestand "
   ]
  },
  {
   "cell_type": "code",
   "execution_count": 114,
   "metadata": {},
   "outputs": [
    {
     "data": {
      "text/plain": [
       "Index(['SexLang', 'AlterLang', 'Bildungsstand', 'AntBev', 'untAntBevKI', 'obAntBevKI', 'Jahr_str'], dtype='object')"
      ]
     },
     "execution_count": 114,
     "metadata": {},
     "output_type": "execute_result"
    }
   ],
   "source": [
    "data2betested.columns"
   ]
  },
  {
   "cell_type": "code",
   "execution_count": 115,
   "metadata": {
    "tags": []
   },
   "outputs": [
    {
     "data": {
      "text/html": [
       "<div>\n",
       "<style scoped>\n",
       "    .dataframe tbody tr th:only-of-type {\n",
       "        vertical-align: middle;\n",
       "    }\n",
       "\n",
       "    .dataframe tbody tr th {\n",
       "        vertical-align: top;\n",
       "    }\n",
       "\n",
       "    .dataframe thead th {\n",
       "        text-align: right;\n",
       "    }\n",
       "</style>\n",
       "<table border=\"1\" class=\"dataframe\">\n",
       "  <thead>\n",
       "    <tr style=\"text-align: right;\">\n",
       "      <th></th>\n",
       "      <th>Jahr</th>\n",
       "      <th>Jahr_str</th>\n",
       "      <th>SexLang</th>\n",
       "      <th>AlterLang</th>\n",
       "      <th>Bildungsstand</th>\n",
       "      <th>mean_AntBev</th>\n",
       "      <th>median_AntBev</th>\n",
       "    </tr>\n",
       "  </thead>\n",
       "  <tbody>\n",
       "    <tr>\n",
       "      <th>0</th>\n",
       "      <td>2020-01-01</td>\n",
       "      <td>2020-01-01</td>\n",
       "      <td>Frauen</td>\n",
       "      <td>15 bis 24</td>\n",
       "      <td>Obligatorische Schule</td>\n",
       "      <td>37</td>\n",
       "      <td>37</td>\n",
       "    </tr>\n",
       "    <tr>\n",
       "      <th>1</th>\n",
       "      <td>2020-01-01</td>\n",
       "      <td>2020-01-01</td>\n",
       "      <td>Männer</td>\n",
       "      <td>55 bis 64</td>\n",
       "      <td>Obligatorische Schule</td>\n",
       "      <td>21</td>\n",
       "      <td>21</td>\n",
       "    </tr>\n",
       "    <tr>\n",
       "      <th>2</th>\n",
       "      <td>2020-01-01</td>\n",
       "      <td>2020-01-01</td>\n",
       "      <td>Männer</td>\n",
       "      <td>55 bis 64</td>\n",
       "      <td>Sekundarstufe II</td>\n",
       "      <td>28</td>\n",
       "      <td>28</td>\n",
       "    </tr>\n",
       "  </tbody>\n",
       "</table>\n",
       "</div>"
      ],
      "text/plain": [
       "        Jahr    Jahr_str SexLang  AlterLang          Bildungsstand  mean_AntBev  median_AntBev\n",
       "0 2020-01-01  2020-01-01  Frauen  15 bis 24  Obligatorische Schule           37             37\n",
       "1 2020-01-01  2020-01-01  Männer  55 bis 64  Obligatorische Schule           21             21\n",
       "2 2020-01-01  2020-01-01  Männer  55 bis 64       Sekundarstufe II           28             28"
      ]
     },
     "execution_count": 115,
     "metadata": {},
     "output_type": "execute_result"
    }
   ],
   "source": [
    "myTreemapAgg = data2betested.loc[\"2020\"]  \\\n",
    "    .groupby(['Jahr', 'Jahr_str','SexLang', 'AlterLang', 'Bildungsstand']) \\\n",
    "    .agg(mean_AntBev=('AntBev', 'mean')\n",
    "        ,median_AntBev=('AntBev', 'median')\n",
    "        ) \\\n",
    "    .sort_values('Jahr', ascending=True) \n",
    "\n",
    "myTreemapAgg.reset_index().head(3)"
   ]
  },
  {
   "cell_type": "code",
   "execution_count": 116,
   "metadata": {},
   "outputs": [
    {
     "data": {
      "application/vnd.plotly.v1+json": {
       "config": {
        "plotlyServerURL": "https://plot.ly"
       },
       "data": [
        {
         "branchvalues": "total",
         "customdata": [
          [
           37.1
          ],
          [
           41.1
          ],
          [
           39.2
          ],
          [
           6
          ],
          [
           6.8
          ],
          [
           6.400000000000001
          ],
          [
           7.8
          ],
          [
           9.3
          ],
          [
           8.5
          ],
          [
           17.2
          ],
          [
           13.7
          ],
          [
           15.400000000000002
          ],
          [
           21.3
          ],
          [
           21.2
          ],
          [
           21.2
          ],
          [
           22.6
          ],
          [
           12.4
          ],
          [
           17.9
          ],
          [
           30
          ],
          [
           13.4
          ],
          [
           23.5
          ],
          [
           45.9
          ],
          [
           43.2
          ],
          [
           44.5
          ],
          [
           17
          ],
          [
           17.2
          ],
          [
           17.1
          ],
          [
           20.6
          ],
          [
           20.7
          ],
          [
           20.7
          ],
          [
           24.4
          ],
          [
           25.2
          ],
          [
           24.899999999999995
          ],
          [
           34.9
          ],
          [
           28.2
          ],
          [
           31.6
          ],
          [
           45.8
          ],
          [
           39.8
          ],
          [
           43
          ],
          [
           49.2
          ],
          [
           47.8
          ],
          [
           48.699999999999996
          ],
          [
           17
          ],
          [
           15.6
          ],
          [
           16.3
          ],
          [
           77
          ],
          [
           76
          ],
          [
           76.5
          ],
          [
           71.6
          ],
          [
           70
          ],
          [
           70.8
          ],
          [
           58.4
          ],
          [
           61
          ],
          [
           59.8
          ],
          [
           43.7
          ],
          [
           50.6
          ],
          [
           47.2
          ],
          [
           31.6
          ],
          [
           47.8
          ],
          [
           39.1
          ],
          [
           20.7
          ],
          [
           38.8
          ],
          [
           27.8
          ],
          [
           37.7222
          ],
          [
           38.02612612612613
          ],
          [
           37.8258
          ],
          [
           62.54
          ],
          [
           61.1808
          ],
          [
           61.8562
          ],
          [
           56.117599999999996
          ],
          [
           54.1498
          ],
          [
           55.133799999999994
          ],
          [
           43.0176
          ],
          [
           45.48278278278278
          ],
          [
           44.28781218781218
          ],
          [
           35.84974974974975
          ],
          [
           38.050399999999996
          ],
          [
           36.7584
          ],
          [
           36.0696
          ],
          [
           40.22639999999999
          ],
          [
           36.982200000000006
          ],
          [
           37.52882882882883
          ],
          [
           39.69839999999999
          ],
          [
           36.967800000000004
          ],
          [
           44.12292083452414
          ],
          [
           45.26024578450987
          ],
          [
           44.258863019568636
          ],
          [
           44.54730199552318
          ],
          [
           44.54730199552318
          ]
         ],
         "domain": {
          "x": [
           0,
           1
          ],
          "y": [
           0,
           1
          ]
         },
         "hovertemplate": "labels=%{label}<br>mean_AntBev_sum=%{value}<br>parent=%{parent}<br>id=%{id}<br>mean_AntBev=%{color}<extra></extra>",
         "ids": [
          "Bildungsstand seit 1970/2020-01-01/Frauen/15 bis 24/Obligatorische Schule",
          "Bildungsstand seit 1970/2020-01-01/Männer/15 bis 24/Obligatorische Schule",
          "Bildungsstand seit 1970/2020-01-01/Total/15 bis 24/Obligatorische Schule",
          "Bildungsstand seit 1970/2020-01-01/Frauen/25 bis 34/Obligatorische Schule",
          "Bildungsstand seit 1970/2020-01-01/Männer/25 bis 34/Obligatorische Schule",
          "Bildungsstand seit 1970/2020-01-01/Total/25 bis 34/Obligatorische Schule",
          "Bildungsstand seit 1970/2020-01-01/Frauen/35 bis 44/Obligatorische Schule",
          "Bildungsstand seit 1970/2020-01-01/Männer/35 bis 44/Obligatorische Schule",
          "Bildungsstand seit 1970/2020-01-01/Total/35 bis 44/Obligatorische Schule",
          "Bildungsstand seit 1970/2020-01-01/Frauen/45 bis 54/Obligatorische Schule",
          "Bildungsstand seit 1970/2020-01-01/Männer/45 bis 54/Obligatorische Schule",
          "Bildungsstand seit 1970/2020-01-01/Total/45 bis 54/Obligatorische Schule",
          "Bildungsstand seit 1970/2020-01-01/Frauen/55 bis 64/Obligatorische Schule",
          "Bildungsstand seit 1970/2020-01-01/Männer/55 bis 64/Obligatorische Schule",
          "Bildungsstand seit 1970/2020-01-01/Total/55 bis 64/Obligatorische Schule",
          "Bildungsstand seit 1970/2020-01-01/Frauen/65 bis 74/Obligatorische Schule",
          "Bildungsstand seit 1970/2020-01-01/Männer/65 bis 74/Obligatorische Schule",
          "Bildungsstand seit 1970/2020-01-01/Total/65 bis 74/Obligatorische Schule",
          "Bildungsstand seit 1970/2020-01-01/Frauen/75 und älter/Obligatorische Schule",
          "Bildungsstand seit 1970/2020-01-01/Männer/75 und älter/Obligatorische Schule",
          "Bildungsstand seit 1970/2020-01-01/Total/75 und älter/Obligatorische Schule",
          "Bildungsstand seit 1970/2020-01-01/Frauen/15 bis 24/Sekundarstufe II",
          "Bildungsstand seit 1970/2020-01-01/Männer/15 bis 24/Sekundarstufe II",
          "Bildungsstand seit 1970/2020-01-01/Total/15 bis 24/Sekundarstufe II",
          "Bildungsstand seit 1970/2020-01-01/Frauen/25 bis 34/Sekundarstufe II",
          "Bildungsstand seit 1970/2020-01-01/Männer/25 bis 34/Sekundarstufe II",
          "Bildungsstand seit 1970/2020-01-01/Total/25 bis 34/Sekundarstufe II",
          "Bildungsstand seit 1970/2020-01-01/Frauen/35 bis 44/Sekundarstufe II",
          "Bildungsstand seit 1970/2020-01-01/Männer/35 bis 44/Sekundarstufe II",
          "Bildungsstand seit 1970/2020-01-01/Total/35 bis 44/Sekundarstufe II",
          "Bildungsstand seit 1970/2020-01-01/Frauen/45 bis 54/Sekundarstufe II",
          "Bildungsstand seit 1970/2020-01-01/Männer/45 bis 54/Sekundarstufe II",
          "Bildungsstand seit 1970/2020-01-01/Total/45 bis 54/Sekundarstufe II",
          "Bildungsstand seit 1970/2020-01-01/Frauen/55 bis 64/Sekundarstufe II",
          "Bildungsstand seit 1970/2020-01-01/Männer/55 bis 64/Sekundarstufe II",
          "Bildungsstand seit 1970/2020-01-01/Total/55 bis 64/Sekundarstufe II",
          "Bildungsstand seit 1970/2020-01-01/Frauen/65 bis 74/Sekundarstufe II",
          "Bildungsstand seit 1970/2020-01-01/Männer/65 bis 74/Sekundarstufe II",
          "Bildungsstand seit 1970/2020-01-01/Total/65 bis 74/Sekundarstufe II",
          "Bildungsstand seit 1970/2020-01-01/Frauen/75 und älter/Sekundarstufe II",
          "Bildungsstand seit 1970/2020-01-01/Männer/75 und älter/Sekundarstufe II",
          "Bildungsstand seit 1970/2020-01-01/Total/75 und älter/Sekundarstufe II",
          "Bildungsstand seit 1970/2020-01-01/Frauen/15 bis 24/Tertiärstufe",
          "Bildungsstand seit 1970/2020-01-01/Männer/15 bis 24/Tertiärstufe",
          "Bildungsstand seit 1970/2020-01-01/Total/15 bis 24/Tertiärstufe",
          "Bildungsstand seit 1970/2020-01-01/Frauen/25 bis 34/Tertiärstufe",
          "Bildungsstand seit 1970/2020-01-01/Männer/25 bis 34/Tertiärstufe",
          "Bildungsstand seit 1970/2020-01-01/Total/25 bis 34/Tertiärstufe",
          "Bildungsstand seit 1970/2020-01-01/Frauen/35 bis 44/Tertiärstufe",
          "Bildungsstand seit 1970/2020-01-01/Männer/35 bis 44/Tertiärstufe",
          "Bildungsstand seit 1970/2020-01-01/Total/35 bis 44/Tertiärstufe",
          "Bildungsstand seit 1970/2020-01-01/Frauen/45 bis 54/Tertiärstufe",
          "Bildungsstand seit 1970/2020-01-01/Männer/45 bis 54/Tertiärstufe",
          "Bildungsstand seit 1970/2020-01-01/Total/45 bis 54/Tertiärstufe",
          "Bildungsstand seit 1970/2020-01-01/Frauen/55 bis 64/Tertiärstufe",
          "Bildungsstand seit 1970/2020-01-01/Männer/55 bis 64/Tertiärstufe",
          "Bildungsstand seit 1970/2020-01-01/Total/55 bis 64/Tertiärstufe",
          "Bildungsstand seit 1970/2020-01-01/Frauen/65 bis 74/Tertiärstufe",
          "Bildungsstand seit 1970/2020-01-01/Männer/65 bis 74/Tertiärstufe",
          "Bildungsstand seit 1970/2020-01-01/Total/65 bis 74/Tertiärstufe",
          "Bildungsstand seit 1970/2020-01-01/Frauen/75 und älter/Tertiärstufe",
          "Bildungsstand seit 1970/2020-01-01/Männer/75 und älter/Tertiärstufe",
          "Bildungsstand seit 1970/2020-01-01/Total/75 und älter/Tertiärstufe",
          "Bildungsstand seit 1970/2020-01-01/Frauen/15 bis 24",
          "Bildungsstand seit 1970/2020-01-01/Männer/15 bis 24",
          "Bildungsstand seit 1970/2020-01-01/Total/15 bis 24",
          "Bildungsstand seit 1970/2020-01-01/Frauen/25 bis 34",
          "Bildungsstand seit 1970/2020-01-01/Männer/25 bis 34",
          "Bildungsstand seit 1970/2020-01-01/Total/25 bis 34",
          "Bildungsstand seit 1970/2020-01-01/Frauen/35 bis 44",
          "Bildungsstand seit 1970/2020-01-01/Männer/35 bis 44",
          "Bildungsstand seit 1970/2020-01-01/Total/35 bis 44",
          "Bildungsstand seit 1970/2020-01-01/Frauen/45 bis 54",
          "Bildungsstand seit 1970/2020-01-01/Männer/45 bis 54",
          "Bildungsstand seit 1970/2020-01-01/Total/45 bis 54",
          "Bildungsstand seit 1970/2020-01-01/Frauen/55 bis 64",
          "Bildungsstand seit 1970/2020-01-01/Männer/55 bis 64",
          "Bildungsstand seit 1970/2020-01-01/Total/55 bis 64",
          "Bildungsstand seit 1970/2020-01-01/Frauen/65 bis 74",
          "Bildungsstand seit 1970/2020-01-01/Männer/65 bis 74",
          "Bildungsstand seit 1970/2020-01-01/Total/65 bis 74",
          "Bildungsstand seit 1970/2020-01-01/Frauen/75 und älter",
          "Bildungsstand seit 1970/2020-01-01/Männer/75 und älter",
          "Bildungsstand seit 1970/2020-01-01/Total/75 und älter",
          "Bildungsstand seit 1970/2020-01-01/Frauen",
          "Bildungsstand seit 1970/2020-01-01/Männer",
          "Bildungsstand seit 1970/2020-01-01/Total",
          "Bildungsstand seit 1970/2020-01-01",
          "Bildungsstand seit 1970"
         ],
         "labels": [
          "Obligatorische Schule",
          "Obligatorische Schule",
          "Obligatorische Schule",
          "Obligatorische Schule",
          "Obligatorische Schule",
          "Obligatorische Schule",
          "Obligatorische Schule",
          "Obligatorische Schule",
          "Obligatorische Schule",
          "Obligatorische Schule",
          "Obligatorische Schule",
          "Obligatorische Schule",
          "Obligatorische Schule",
          "Obligatorische Schule",
          "Obligatorische Schule",
          "Obligatorische Schule",
          "Obligatorische Schule",
          "Obligatorische Schule",
          "Obligatorische Schule",
          "Obligatorische Schule",
          "Obligatorische Schule",
          "Sekundarstufe II",
          "Sekundarstufe II",
          "Sekundarstufe II",
          "Sekundarstufe II",
          "Sekundarstufe II",
          "Sekundarstufe II",
          "Sekundarstufe II",
          "Sekundarstufe II",
          "Sekundarstufe II",
          "Sekundarstufe II",
          "Sekundarstufe II",
          "Sekundarstufe II",
          "Sekundarstufe II",
          "Sekundarstufe II",
          "Sekundarstufe II",
          "Sekundarstufe II",
          "Sekundarstufe II",
          "Sekundarstufe II",
          "Sekundarstufe II",
          "Sekundarstufe II",
          "Sekundarstufe II",
          "Tertiärstufe",
          "Tertiärstufe",
          "Tertiärstufe",
          "Tertiärstufe",
          "Tertiärstufe",
          "Tertiärstufe",
          "Tertiärstufe",
          "Tertiärstufe",
          "Tertiärstufe",
          "Tertiärstufe",
          "Tertiärstufe",
          "Tertiärstufe",
          "Tertiärstufe",
          "Tertiärstufe",
          "Tertiärstufe",
          "Tertiärstufe",
          "Tertiärstufe",
          "Tertiärstufe",
          "Tertiärstufe",
          "Tertiärstufe",
          "Tertiärstufe",
          "15 bis 24",
          "15 bis 24",
          "15 bis 24",
          "25 bis 34",
          "25 bis 34",
          "25 bis 34",
          "35 bis 44",
          "35 bis 44",
          "35 bis 44",
          "45 bis 54",
          "45 bis 54",
          "45 bis 54",
          "55 bis 64",
          "55 bis 64",
          "55 bis 64",
          "65 bis 74",
          "65 bis 74",
          "65 bis 74",
          "75 und älter",
          "75 und älter",
          "75 und älter",
          "Frauen",
          "Männer",
          "Total",
          "2020-01-01",
          "Bildungsstand seit 1970"
         ],
         "marker": {
          "coloraxis": "coloraxis",
          "colors": [
           37.1,
           41.1,
           39.2,
           6,
           6.8,
           6.400000000000001,
           7.8,
           9.3,
           8.5,
           17.2,
           13.7,
           15.400000000000002,
           21.3,
           21.2,
           21.2,
           22.6,
           12.4,
           17.9,
           30,
           13.4,
           23.5,
           45.9,
           43.2,
           44.5,
           17,
           17.2,
           17.1,
           20.6,
           20.7,
           20.7,
           24.4,
           25.2,
           24.899999999999995,
           34.9,
           28.2,
           31.6,
           45.8,
           39.8,
           43,
           49.2,
           47.8,
           48.699999999999996,
           17,
           15.6,
           16.3,
           77,
           76,
           76.5,
           71.6,
           70,
           70.8,
           58.4,
           61,
           59.8,
           43.7,
           50.6,
           47.2,
           31.6,
           47.8,
           39.1,
           20.7,
           38.8,
           27.8,
           37.7222,
           38.02612612612613,
           37.8258,
           62.54,
           61.1808,
           61.8562,
           56.117599999999996,
           54.1498,
           55.133799999999994,
           43.0176,
           45.48278278278278,
           44.28781218781218,
           35.84974974974975,
           38.050399999999996,
           36.7584,
           36.0696,
           40.22639999999999,
           36.982200000000006,
           37.52882882882883,
           39.69839999999999,
           36.967800000000004,
           44.12292083452414,
           45.26024578450987,
           44.258863019568636,
           44.54730199552318,
           44.54730199552318
          ]
         },
         "name": "",
         "parents": [
          "Bildungsstand seit 1970/2020-01-01/Frauen/15 bis 24",
          "Bildungsstand seit 1970/2020-01-01/Männer/15 bis 24",
          "Bildungsstand seit 1970/2020-01-01/Total/15 bis 24",
          "Bildungsstand seit 1970/2020-01-01/Frauen/25 bis 34",
          "Bildungsstand seit 1970/2020-01-01/Männer/25 bis 34",
          "Bildungsstand seit 1970/2020-01-01/Total/25 bis 34",
          "Bildungsstand seit 1970/2020-01-01/Frauen/35 bis 44",
          "Bildungsstand seit 1970/2020-01-01/Männer/35 bis 44",
          "Bildungsstand seit 1970/2020-01-01/Total/35 bis 44",
          "Bildungsstand seit 1970/2020-01-01/Frauen/45 bis 54",
          "Bildungsstand seit 1970/2020-01-01/Männer/45 bis 54",
          "Bildungsstand seit 1970/2020-01-01/Total/45 bis 54",
          "Bildungsstand seit 1970/2020-01-01/Frauen/55 bis 64",
          "Bildungsstand seit 1970/2020-01-01/Männer/55 bis 64",
          "Bildungsstand seit 1970/2020-01-01/Total/55 bis 64",
          "Bildungsstand seit 1970/2020-01-01/Frauen/65 bis 74",
          "Bildungsstand seit 1970/2020-01-01/Männer/65 bis 74",
          "Bildungsstand seit 1970/2020-01-01/Total/65 bis 74",
          "Bildungsstand seit 1970/2020-01-01/Frauen/75 und älter",
          "Bildungsstand seit 1970/2020-01-01/Männer/75 und älter",
          "Bildungsstand seit 1970/2020-01-01/Total/75 und älter",
          "Bildungsstand seit 1970/2020-01-01/Frauen/15 bis 24",
          "Bildungsstand seit 1970/2020-01-01/Männer/15 bis 24",
          "Bildungsstand seit 1970/2020-01-01/Total/15 bis 24",
          "Bildungsstand seit 1970/2020-01-01/Frauen/25 bis 34",
          "Bildungsstand seit 1970/2020-01-01/Männer/25 bis 34",
          "Bildungsstand seit 1970/2020-01-01/Total/25 bis 34",
          "Bildungsstand seit 1970/2020-01-01/Frauen/35 bis 44",
          "Bildungsstand seit 1970/2020-01-01/Männer/35 bis 44",
          "Bildungsstand seit 1970/2020-01-01/Total/35 bis 44",
          "Bildungsstand seit 1970/2020-01-01/Frauen/45 bis 54",
          "Bildungsstand seit 1970/2020-01-01/Männer/45 bis 54",
          "Bildungsstand seit 1970/2020-01-01/Total/45 bis 54",
          "Bildungsstand seit 1970/2020-01-01/Frauen/55 bis 64",
          "Bildungsstand seit 1970/2020-01-01/Männer/55 bis 64",
          "Bildungsstand seit 1970/2020-01-01/Total/55 bis 64",
          "Bildungsstand seit 1970/2020-01-01/Frauen/65 bis 74",
          "Bildungsstand seit 1970/2020-01-01/Männer/65 bis 74",
          "Bildungsstand seit 1970/2020-01-01/Total/65 bis 74",
          "Bildungsstand seit 1970/2020-01-01/Frauen/75 und älter",
          "Bildungsstand seit 1970/2020-01-01/Männer/75 und älter",
          "Bildungsstand seit 1970/2020-01-01/Total/75 und älter",
          "Bildungsstand seit 1970/2020-01-01/Frauen/15 bis 24",
          "Bildungsstand seit 1970/2020-01-01/Männer/15 bis 24",
          "Bildungsstand seit 1970/2020-01-01/Total/15 bis 24",
          "Bildungsstand seit 1970/2020-01-01/Frauen/25 bis 34",
          "Bildungsstand seit 1970/2020-01-01/Männer/25 bis 34",
          "Bildungsstand seit 1970/2020-01-01/Total/25 bis 34",
          "Bildungsstand seit 1970/2020-01-01/Frauen/35 bis 44",
          "Bildungsstand seit 1970/2020-01-01/Männer/35 bis 44",
          "Bildungsstand seit 1970/2020-01-01/Total/35 bis 44",
          "Bildungsstand seit 1970/2020-01-01/Frauen/45 bis 54",
          "Bildungsstand seit 1970/2020-01-01/Männer/45 bis 54",
          "Bildungsstand seit 1970/2020-01-01/Total/45 bis 54",
          "Bildungsstand seit 1970/2020-01-01/Frauen/55 bis 64",
          "Bildungsstand seit 1970/2020-01-01/Männer/55 bis 64",
          "Bildungsstand seit 1970/2020-01-01/Total/55 bis 64",
          "Bildungsstand seit 1970/2020-01-01/Frauen/65 bis 74",
          "Bildungsstand seit 1970/2020-01-01/Männer/65 bis 74",
          "Bildungsstand seit 1970/2020-01-01/Total/65 bis 74",
          "Bildungsstand seit 1970/2020-01-01/Frauen/75 und älter",
          "Bildungsstand seit 1970/2020-01-01/Männer/75 und älter",
          "Bildungsstand seit 1970/2020-01-01/Total/75 und älter",
          "Bildungsstand seit 1970/2020-01-01/Frauen",
          "Bildungsstand seit 1970/2020-01-01/Männer",
          "Bildungsstand seit 1970/2020-01-01/Total",
          "Bildungsstand seit 1970/2020-01-01/Frauen",
          "Bildungsstand seit 1970/2020-01-01/Männer",
          "Bildungsstand seit 1970/2020-01-01/Total",
          "Bildungsstand seit 1970/2020-01-01/Frauen",
          "Bildungsstand seit 1970/2020-01-01/Männer",
          "Bildungsstand seit 1970/2020-01-01/Total",
          "Bildungsstand seit 1970/2020-01-01/Frauen",
          "Bildungsstand seit 1970/2020-01-01/Männer",
          "Bildungsstand seit 1970/2020-01-01/Total",
          "Bildungsstand seit 1970/2020-01-01/Frauen",
          "Bildungsstand seit 1970/2020-01-01/Männer",
          "Bildungsstand seit 1970/2020-01-01/Total",
          "Bildungsstand seit 1970/2020-01-01/Frauen",
          "Bildungsstand seit 1970/2020-01-01/Männer",
          "Bildungsstand seit 1970/2020-01-01/Total",
          "Bildungsstand seit 1970/2020-01-01/Frauen",
          "Bildungsstand seit 1970/2020-01-01/Männer",
          "Bildungsstand seit 1970/2020-01-01/Total",
          "Bildungsstand seit 1970/2020-01-01",
          "Bildungsstand seit 1970/2020-01-01",
          "Bildungsstand seit 1970/2020-01-01",
          "Bildungsstand seit 1970",
          ""
         ],
         "root": {
          "color": "grey"
         },
         "type": "treemap",
         "values": [
          37.1,
          41.1,
          39.2,
          6,
          6.8,
          6.4,
          7.8,
          9.3,
          8.5,
          17.2,
          13.7,
          15.4,
          21.3,
          21.2,
          21.2,
          22.6,
          12.4,
          17.9,
          30,
          13.4,
          23.5,
          45.9,
          43.2,
          44.5,
          17,
          17.2,
          17.1,
          20.6,
          20.7,
          20.7,
          24.4,
          25.2,
          24.9,
          34.9,
          28.2,
          31.6,
          45.8,
          39.8,
          43,
          49.2,
          47.8,
          48.7,
          17,
          15.6,
          16.3,
          77,
          76,
          76.5,
          71.6,
          70,
          70.8,
          58.4,
          61,
          59.8,
          43.7,
          50.6,
          47.2,
          31.6,
          47.8,
          39.1,
          20.7,
          38.8,
          27.8,
          100,
          99.9,
          100,
          100,
          100,
          100,
          100,
          100,
          100,
          100,
          99.9,
          100.1,
          99.9,
          100,
          100,
          100,
          100,
          100,
          99.9,
          100,
          100,
          699.8,
          699.8,
          700.1,
          2099.7,
          2099.7
         ]
        }
       ],
       "layout": {
        "coloraxis": {
         "colorbar": {
          "title": {
           "text": "mean_AntBev"
          }
         },
         "colorscale": [
          [
           0,
           "rgb(247,251,255)"
          ],
          [
           0.125,
           "rgb(222,235,247)"
          ],
          [
           0.25,
           "rgb(198,219,239)"
          ],
          [
           0.375,
           "rgb(158,202,225)"
          ],
          [
           0.5,
           "rgb(107,174,214)"
          ],
          [
           0.625,
           "rgb(66,146,198)"
          ],
          [
           0.75,
           "rgb(33,113,181)"
          ],
          [
           0.875,
           "rgb(8,81,156)"
          ],
          [
           1,
           "rgb(8,48,107)"
          ]
         ]
        },
        "height": 400,
        "legend": {
         "tracegroupgap": 0
        },
        "margin": {
         "b": 25,
         "l": 25,
         "r": 250,
         "t": 50
        },
        "template": {
         "data": {
          "bar": [
           {
            "error_x": {
             "color": "#2a3f5f"
            },
            "error_y": {
             "color": "#2a3f5f"
            },
            "marker": {
             "line": {
              "color": "#E5ECF6",
              "width": 0.5
             },
             "pattern": {
              "fillmode": "overlay",
              "size": 10,
              "solidity": 0.2
             }
            },
            "type": "bar"
           }
          ],
          "barpolar": [
           {
            "marker": {
             "line": {
              "color": "#E5ECF6",
              "width": 0.5
             },
             "pattern": {
              "fillmode": "overlay",
              "size": 10,
              "solidity": 0.2
             }
            },
            "type": "barpolar"
           }
          ],
          "carpet": [
           {
            "aaxis": {
             "endlinecolor": "#2a3f5f",
             "gridcolor": "white",
             "linecolor": "white",
             "minorgridcolor": "white",
             "startlinecolor": "#2a3f5f"
            },
            "baxis": {
             "endlinecolor": "#2a3f5f",
             "gridcolor": "white",
             "linecolor": "white",
             "minorgridcolor": "white",
             "startlinecolor": "#2a3f5f"
            },
            "type": "carpet"
           }
          ],
          "choropleth": [
           {
            "colorbar": {
             "outlinewidth": 0,
             "ticks": ""
            },
            "type": "choropleth"
           }
          ],
          "contour": [
           {
            "colorbar": {
             "outlinewidth": 0,
             "ticks": ""
            },
            "colorscale": [
             [
              0,
              "#0d0887"
             ],
             [
              0.1111111111111111,
              "#46039f"
             ],
             [
              0.2222222222222222,
              "#7201a8"
             ],
             [
              0.3333333333333333,
              "#9c179e"
             ],
             [
              0.4444444444444444,
              "#bd3786"
             ],
             [
              0.5555555555555556,
              "#d8576b"
             ],
             [
              0.6666666666666666,
              "#ed7953"
             ],
             [
              0.7777777777777778,
              "#fb9f3a"
             ],
             [
              0.8888888888888888,
              "#fdca26"
             ],
             [
              1,
              "#f0f921"
             ]
            ],
            "type": "contour"
           }
          ],
          "contourcarpet": [
           {
            "colorbar": {
             "outlinewidth": 0,
             "ticks": ""
            },
            "type": "contourcarpet"
           }
          ],
          "heatmap": [
           {
            "colorbar": {
             "outlinewidth": 0,
             "ticks": ""
            },
            "colorscale": [
             [
              0,
              "#0d0887"
             ],
             [
              0.1111111111111111,
              "#46039f"
             ],
             [
              0.2222222222222222,
              "#7201a8"
             ],
             [
              0.3333333333333333,
              "#9c179e"
             ],
             [
              0.4444444444444444,
              "#bd3786"
             ],
             [
              0.5555555555555556,
              "#d8576b"
             ],
             [
              0.6666666666666666,
              "#ed7953"
             ],
             [
              0.7777777777777778,
              "#fb9f3a"
             ],
             [
              0.8888888888888888,
              "#fdca26"
             ],
             [
              1,
              "#f0f921"
             ]
            ],
            "type": "heatmap"
           }
          ],
          "heatmapgl": [
           {
            "colorbar": {
             "outlinewidth": 0,
             "ticks": ""
            },
            "colorscale": [
             [
              0,
              "#0d0887"
             ],
             [
              0.1111111111111111,
              "#46039f"
             ],
             [
              0.2222222222222222,
              "#7201a8"
             ],
             [
              0.3333333333333333,
              "#9c179e"
             ],
             [
              0.4444444444444444,
              "#bd3786"
             ],
             [
              0.5555555555555556,
              "#d8576b"
             ],
             [
              0.6666666666666666,
              "#ed7953"
             ],
             [
              0.7777777777777778,
              "#fb9f3a"
             ],
             [
              0.8888888888888888,
              "#fdca26"
             ],
             [
              1,
              "#f0f921"
             ]
            ],
            "type": "heatmapgl"
           }
          ],
          "histogram": [
           {
            "marker": {
             "pattern": {
              "fillmode": "overlay",
              "size": 10,
              "solidity": 0.2
             }
            },
            "type": "histogram"
           }
          ],
          "histogram2d": [
           {
            "colorbar": {
             "outlinewidth": 0,
             "ticks": ""
            },
            "colorscale": [
             [
              0,
              "#0d0887"
             ],
             [
              0.1111111111111111,
              "#46039f"
             ],
             [
              0.2222222222222222,
              "#7201a8"
             ],
             [
              0.3333333333333333,
              "#9c179e"
             ],
             [
              0.4444444444444444,
              "#bd3786"
             ],
             [
              0.5555555555555556,
              "#d8576b"
             ],
             [
              0.6666666666666666,
              "#ed7953"
             ],
             [
              0.7777777777777778,
              "#fb9f3a"
             ],
             [
              0.8888888888888888,
              "#fdca26"
             ],
             [
              1,
              "#f0f921"
             ]
            ],
            "type": "histogram2d"
           }
          ],
          "histogram2dcontour": [
           {
            "colorbar": {
             "outlinewidth": 0,
             "ticks": ""
            },
            "colorscale": [
             [
              0,
              "#0d0887"
             ],
             [
              0.1111111111111111,
              "#46039f"
             ],
             [
              0.2222222222222222,
              "#7201a8"
             ],
             [
              0.3333333333333333,
              "#9c179e"
             ],
             [
              0.4444444444444444,
              "#bd3786"
             ],
             [
              0.5555555555555556,
              "#d8576b"
             ],
             [
              0.6666666666666666,
              "#ed7953"
             ],
             [
              0.7777777777777778,
              "#fb9f3a"
             ],
             [
              0.8888888888888888,
              "#fdca26"
             ],
             [
              1,
              "#f0f921"
             ]
            ],
            "type": "histogram2dcontour"
           }
          ],
          "mesh3d": [
           {
            "colorbar": {
             "outlinewidth": 0,
             "ticks": ""
            },
            "type": "mesh3d"
           }
          ],
          "parcoords": [
           {
            "line": {
             "colorbar": {
              "outlinewidth": 0,
              "ticks": ""
             }
            },
            "type": "parcoords"
           }
          ],
          "pie": [
           {
            "automargin": true,
            "type": "pie"
           }
          ],
          "scatter": [
           {
            "marker": {
             "colorbar": {
              "outlinewidth": 0,
              "ticks": ""
             }
            },
            "type": "scatter"
           }
          ],
          "scatter3d": [
           {
            "line": {
             "colorbar": {
              "outlinewidth": 0,
              "ticks": ""
             }
            },
            "marker": {
             "colorbar": {
              "outlinewidth": 0,
              "ticks": ""
             }
            },
            "type": "scatter3d"
           }
          ],
          "scattercarpet": [
           {
            "marker": {
             "colorbar": {
              "outlinewidth": 0,
              "ticks": ""
             }
            },
            "type": "scattercarpet"
           }
          ],
          "scattergeo": [
           {
            "marker": {
             "colorbar": {
              "outlinewidth": 0,
              "ticks": ""
             }
            },
            "type": "scattergeo"
           }
          ],
          "scattergl": [
           {
            "marker": {
             "colorbar": {
              "outlinewidth": 0,
              "ticks": ""
             }
            },
            "type": "scattergl"
           }
          ],
          "scattermapbox": [
           {
            "marker": {
             "colorbar": {
              "outlinewidth": 0,
              "ticks": ""
             }
            },
            "type": "scattermapbox"
           }
          ],
          "scatterpolar": [
           {
            "marker": {
             "colorbar": {
              "outlinewidth": 0,
              "ticks": ""
             }
            },
            "type": "scatterpolar"
           }
          ],
          "scatterpolargl": [
           {
            "marker": {
             "colorbar": {
              "outlinewidth": 0,
              "ticks": ""
             }
            },
            "type": "scatterpolargl"
           }
          ],
          "scatterternary": [
           {
            "marker": {
             "colorbar": {
              "outlinewidth": 0,
              "ticks": ""
             }
            },
            "type": "scatterternary"
           }
          ],
          "surface": [
           {
            "colorbar": {
             "outlinewidth": 0,
             "ticks": ""
            },
            "colorscale": [
             [
              0,
              "#0d0887"
             ],
             [
              0.1111111111111111,
              "#46039f"
             ],
             [
              0.2222222222222222,
              "#7201a8"
             ],
             [
              0.3333333333333333,
              "#9c179e"
             ],
             [
              0.4444444444444444,
              "#bd3786"
             ],
             [
              0.5555555555555556,
              "#d8576b"
             ],
             [
              0.6666666666666666,
              "#ed7953"
             ],
             [
              0.7777777777777778,
              "#fb9f3a"
             ],
             [
              0.8888888888888888,
              "#fdca26"
             ],
             [
              1,
              "#f0f921"
             ]
            ],
            "type": "surface"
           }
          ],
          "table": [
           {
            "cells": {
             "fill": {
              "color": "#EBF0F8"
             },
             "line": {
              "color": "white"
             }
            },
            "header": {
             "fill": {
              "color": "#C8D4E3"
             },
             "line": {
              "color": "white"
             }
            },
            "type": "table"
           }
          ]
         },
         "layout": {
          "annotationdefaults": {
           "arrowcolor": "#2a3f5f",
           "arrowhead": 0,
           "arrowwidth": 1
          },
          "autotypenumbers": "strict",
          "coloraxis": {
           "colorbar": {
            "outlinewidth": 0,
            "ticks": ""
           }
          },
          "colorscale": {
           "diverging": [
            [
             0,
             "#8e0152"
            ],
            [
             0.1,
             "#c51b7d"
            ],
            [
             0.2,
             "#de77ae"
            ],
            [
             0.3,
             "#f1b6da"
            ],
            [
             0.4,
             "#fde0ef"
            ],
            [
             0.5,
             "#f7f7f7"
            ],
            [
             0.6,
             "#e6f5d0"
            ],
            [
             0.7,
             "#b8e186"
            ],
            [
             0.8,
             "#7fbc41"
            ],
            [
             0.9,
             "#4d9221"
            ],
            [
             1,
             "#276419"
            ]
           ],
           "sequential": [
            [
             0,
             "#0d0887"
            ],
            [
             0.1111111111111111,
             "#46039f"
            ],
            [
             0.2222222222222222,
             "#7201a8"
            ],
            [
             0.3333333333333333,
             "#9c179e"
            ],
            [
             0.4444444444444444,
             "#bd3786"
            ],
            [
             0.5555555555555556,
             "#d8576b"
            ],
            [
             0.6666666666666666,
             "#ed7953"
            ],
            [
             0.7777777777777778,
             "#fb9f3a"
            ],
            [
             0.8888888888888888,
             "#fdca26"
            ],
            [
             1,
             "#f0f921"
            ]
           ],
           "sequentialminus": [
            [
             0,
             "#0d0887"
            ],
            [
             0.1111111111111111,
             "#46039f"
            ],
            [
             0.2222222222222222,
             "#7201a8"
            ],
            [
             0.3333333333333333,
             "#9c179e"
            ],
            [
             0.4444444444444444,
             "#bd3786"
            ],
            [
             0.5555555555555556,
             "#d8576b"
            ],
            [
             0.6666666666666666,
             "#ed7953"
            ],
            [
             0.7777777777777778,
             "#fb9f3a"
            ],
            [
             0.8888888888888888,
             "#fdca26"
            ],
            [
             1,
             "#f0f921"
            ]
           ]
          },
          "colorway": [
           "#636efa",
           "#EF553B",
           "#00cc96",
           "#ab63fa",
           "#FFA15A",
           "#19d3f3",
           "#FF6692",
           "#B6E880",
           "#FF97FF",
           "#FECB52"
          ],
          "font": {
           "color": "#2a3f5f"
          },
          "geo": {
           "bgcolor": "white",
           "lakecolor": "white",
           "landcolor": "#E5ECF6",
           "showlakes": true,
           "showland": true,
           "subunitcolor": "white"
          },
          "hoverlabel": {
           "align": "left"
          },
          "hovermode": "closest",
          "mapbox": {
           "style": "light"
          },
          "paper_bgcolor": "white",
          "plot_bgcolor": "#E5ECF6",
          "polar": {
           "angularaxis": {
            "gridcolor": "white",
            "linecolor": "white",
            "ticks": ""
           },
           "bgcolor": "#E5ECF6",
           "radialaxis": {
            "gridcolor": "white",
            "linecolor": "white",
            "ticks": ""
           }
          },
          "scene": {
           "xaxis": {
            "backgroundcolor": "#E5ECF6",
            "gridcolor": "white",
            "gridwidth": 2,
            "linecolor": "white",
            "showbackground": true,
            "ticks": "",
            "zerolinecolor": "white"
           },
           "yaxis": {
            "backgroundcolor": "#E5ECF6",
            "gridcolor": "white",
            "gridwidth": 2,
            "linecolor": "white",
            "showbackground": true,
            "ticks": "",
            "zerolinecolor": "white"
           },
           "zaxis": {
            "backgroundcolor": "#E5ECF6",
            "gridcolor": "white",
            "gridwidth": 2,
            "linecolor": "white",
            "showbackground": true,
            "ticks": "",
            "zerolinecolor": "white"
           }
          },
          "shapedefaults": {
           "line": {
            "color": "#2a3f5f"
           }
          },
          "ternary": {
           "aaxis": {
            "gridcolor": "white",
            "linecolor": "white",
            "ticks": ""
           },
           "baxis": {
            "gridcolor": "white",
            "linecolor": "white",
            "ticks": ""
           },
           "bgcolor": "#E5ECF6",
           "caxis": {
            "gridcolor": "white",
            "linecolor": "white",
            "ticks": ""
           }
          },
          "title": {
           "x": 0.05
          },
          "xaxis": {
           "automargin": true,
           "gridcolor": "white",
           "linecolor": "white",
           "ticks": "",
           "title": {
            "standoff": 15
           },
           "zerolinecolor": "white",
           "zerolinewidth": 2
          },
          "yaxis": {
           "automargin": true,
           "gridcolor": "white",
           "linecolor": "white",
           "ticks": "",
           "title": {
            "standoff": 15
           },
           "zerolinecolor": "white",
           "zerolinewidth": 2
          }
         }
        },
        "width": 1100
       }
      },
      "image/png": "[encoded data removed]",
      "text/html": [
       "<div>                            <div id=\"37dddc37-8777-4a73-ad60-31574ef7a6ce\" class=\"plotly-graph-div\" style=\"height:400px; width:1100px;\"></div>            <script type=\"text/javascript\">                require([\"plotly\"], function(Plotly) {                    window.PLOTLYENV=window.PLOTLYENV || {};                                    if (document.getElementById(\"37dddc37-8777-4a73-ad60-31574ef7a6ce\")) {                    Plotly.newPlot(                        \"37dddc37-8777-4a73-ad60-31574ef7a6ce\",                        [{\"branchvalues\":\"total\",\"customdata\":[[37.1],[41.1],[39.2],[6.0],[6.8],[6.400000000000001],[7.8],[9.3],[8.5],[17.2],[13.7],[15.400000000000002],[21.3],[21.2],[21.2],[22.6],[12.4],[17.9],[30.0],[13.4],[23.5],[45.9],[43.2],[44.5],[17.0],[17.2],[17.1],[20.6],[20.7],[20.7],[24.4],[25.2],[24.899999999999995],[34.9],[28.2],[31.6],[45.8],[39.8],[43.0],[49.2],[47.8],[48.699999999999996],[17.0],[15.6],[16.3],[77.0],[76.0],[76.5],[71.6],[70.0],[70.8],[58.4],[61.0],[59.8],[43.7],[50.6],[47.2],[31.6],[47.8],[39.1],[20.7],[38.8],[27.8],[37.7222],[38.02612612612613],[37.8258],[62.54],[61.1808],[61.8562],[56.117599999999996],[54.1498],[55.133799999999994],[43.0176],[45.48278278278278],[44.28781218781218],[35.84974974974975],[38.050399999999996],[36.7584],[36.0696],[40.22639999999999],[36.982200000000006],[37.52882882882883],[39.69839999999999],[36.967800000000004],[44.12292083452414],[45.26024578450987],[44.258863019568636],[44.54730199552318],[44.54730199552318]],\"domain\":{\"x\":[0.0,1.0],\"y\":[0.0,1.0]},\"hovertemplate\":\"labels=%{label}<br>mean_AntBev_sum=%{value}<br>parent=%{parent}<br>id=%{id}<br>mean_AntBev=%{color}<extra></extra>\",\"ids\":[\"Bildungsstand seit 1970/2020-01-01/Frauen/15 bis 24/Obligatorische Schule\",\"Bildungsstand seit 1970/2020-01-01/M\\u00e4nner/15 bis 24/Obligatorische Schule\",\"Bildungsstand seit 1970/2020-01-01/Total/15 bis 24/Obligatorische Schule\",\"Bildungsstand seit 1970/2020-01-01/Frauen/25 bis 34/Obligatorische Schule\",\"Bildungsstand seit 1970/2020-01-01/M\\u00e4nner/25 bis 34/Obligatorische Schule\",\"Bildungsstand seit 1970/2020-01-01/Total/25 bis 34/Obligatorische Schule\",\"Bildungsstand seit 1970/2020-01-01/Frauen/35 bis 44/Obligatorische Schule\",\"Bildungsstand seit 1970/2020-01-01/M\\u00e4nner/35 bis 44/Obligatorische Schule\",\"Bildungsstand seit 1970/2020-01-01/Total/35 bis 44/Obligatorische Schule\",\"Bildungsstand seit 1970/2020-01-01/Frauen/45 bis 54/Obligatorische Schule\",\"Bildungsstand seit 1970/2020-01-01/M\\u00e4nner/45 bis 54/Obligatorische Schule\",\"Bildungsstand seit 1970/2020-01-01/Total/45 bis 54/Obligatorische Schule\",\"Bildungsstand seit 1970/2020-01-01/Frauen/55 bis 64/Obligatorische Schule\",\"Bildungsstand seit 1970/2020-01-01/M\\u00e4nner/55 bis 64/Obligatorische Schule\",\"Bildungsstand seit 1970/2020-01-01/Total/55 bis 64/Obligatorische Schule\",\"Bildungsstand seit 1970/2020-01-01/Frauen/65 bis 74/Obligatorische Schule\",\"Bildungsstand seit 1970/2020-01-01/M\\u00e4nner/65 bis 74/Obligatorische Schule\",\"Bildungsstand seit 1970/2020-01-01/Total/65 bis 74/Obligatorische Schule\",\"Bildungsstand seit 1970/2020-01-01/Frauen/75 und \\u00e4lter/Obligatorische Schule\",\"Bildungsstand seit 1970/2020-01-01/M\\u00e4nner/75 und \\u00e4lter/Obligatorische Schule\",\"Bildungsstand seit 1970/2020-01-01/Total/75 und \\u00e4lter/Obligatorische Schule\",\"Bildungsstand seit 1970/2020-01-01/Frauen/15 bis 24/Sekundarstufe II\",\"Bildungsstand seit 1970/2020-01-01/M\\u00e4nner/15 bis 24/Sekundarstufe II\",\"Bildungsstand seit 1970/2020-01-01/Total/15 bis 24/Sekundarstufe II\",\"Bildungsstand seit 1970/2020-01-01/Frauen/25 bis 34/Sekundarstufe II\",\"Bildungsstand seit 1970/2020-01-01/M\\u00e4nner/25 bis 34/Sekundarstufe II\",\"Bildungsstand seit 1970/2020-01-01/Total/25 bis 34/Sekundarstufe II\",\"Bildungsstand seit 1970/2020-01-01/Frauen/35 bis 44/Sekundarstufe II\",\"Bildungsstand seit 1970/2020-01-01/M\\u00e4nner/35 bis 44/Sekundarstufe II\",\"Bildungsstand seit 1970/2020-01-01/Total/35 bis 44/Sekundarstufe II\",\"Bildungsstand seit 1970/2020-01-01/Frauen/45 bis 54/Sekundarstufe II\",\"Bildungsstand seit 1970/2020-01-01/M\\u00e4nner/45 bis 54/Sekundarstufe II\",\"Bildungsstand seit 1970/2020-01-01/Total/45 bis 54/Sekundarstufe II\",\"Bildungsstand seit 1970/2020-01-01/Frauen/55 bis 64/Sekundarstufe II\",\"Bildungsstand seit 1970/2020-01-01/M\\u00e4nner/55 bis 64/Sekundarstufe II\",\"Bildungsstand seit 1970/2020-01-01/Total/55 bis 64/Sekundarstufe II\",\"Bildungsstand seit 1970/2020-01-01/Frauen/65 bis 74/Sekundarstufe II\",\"Bildungsstand seit 1970/2020-01-01/M\\u00e4nner/65 bis 74/Sekundarstufe II\",\"Bildungsstand seit 1970/2020-01-01/Total/65 bis 74/Sekundarstufe II\",\"Bildungsstand seit 1970/2020-01-01/Frauen/75 und \\u00e4lter/Sekundarstufe II\",\"Bildungsstand seit 1970/2020-01-01/M\\u00e4nner/75 und \\u00e4lter/Sekundarstufe II\",\"Bildungsstand seit 1970/2020-01-01/Total/75 und \\u00e4lter/Sekundarstufe II\",\"Bildungsstand seit 1970/2020-01-01/Frauen/15 bis 24/Terti\\u00e4rstufe\",\"Bildungsstand seit 1970/2020-01-01/M\\u00e4nner/15 bis 24/Terti\\u00e4rstufe\",\"Bildungsstand seit 1970/2020-01-01/Total/15 bis 24/Terti\\u00e4rstufe\",\"Bildungsstand seit 1970/2020-01-01/Frauen/25 bis 34/Terti\\u00e4rstufe\",\"Bildungsstand seit 1970/2020-01-01/M\\u00e4nner/25 bis 34/Terti\\u00e4rstufe\",\"Bildungsstand seit 1970/2020-01-01/Total/25 bis 34/Terti\\u00e4rstufe\",\"Bildungsstand seit 1970/2020-01-01/Frauen/35 bis 44/Terti\\u00e4rstufe\",\"Bildungsstand seit 1970/2020-01-01/M\\u00e4nner/35 bis 44/Terti\\u00e4rstufe\",\"Bildungsstand seit 1970/2020-01-01/Total/35 bis 44/Terti\\u00e4rstufe\",\"Bildungsstand seit 1970/2020-01-01/Frauen/45 bis 54/Terti\\u00e4rstufe\",\"Bildungsstand seit 1970/2020-01-01/M\\u00e4nner/45 bis 54/Terti\\u00e4rstufe\",\"Bildungsstand seit 1970/2020-01-01/Total/45 bis 54/Terti\\u00e4rstufe\",\"Bildungsstand seit 1970/2020-01-01/Frauen/55 bis 64/Terti\\u00e4rstufe\",\"Bildungsstand seit 1970/2020-01-01/M\\u00e4nner/55 bis 64/Terti\\u00e4rstufe\",\"Bildungsstand seit 1970/2020-01-01/Total/55 bis 64/Terti\\u00e4rstufe\",\"Bildungsstand seit 1970/2020-01-01/Frauen/65 bis 74/Terti\\u00e4rstufe\",\"Bildungsstand seit 1970/2020-01-01/M\\u00e4nner/65 bis 74/Terti\\u00e4rstufe\",\"Bildungsstand seit 1970/2020-01-01/Total/65 bis 74/Terti\\u00e4rstufe\",\"Bildungsstand seit 1970/2020-01-01/Frauen/75 und \\u00e4lter/Terti\\u00e4rstufe\",\"Bildungsstand seit 1970/2020-01-01/M\\u00e4nner/75 und \\u00e4lter/Terti\\u00e4rstufe\",\"Bildungsstand seit 1970/2020-01-01/Total/75 und \\u00e4lter/Terti\\u00e4rstufe\",\"Bildungsstand seit 1970/2020-01-01/Frauen/15 bis 24\",\"Bildungsstand seit 1970/2020-01-01/M\\u00e4nner/15 bis 24\",\"Bildungsstand seit 1970/2020-01-01/Total/15 bis 24\",\"Bildungsstand seit 1970/2020-01-01/Frauen/25 bis 34\",\"Bildungsstand seit 1970/2020-01-01/M\\u00e4nner/25 bis 34\",\"Bildungsstand seit 1970/2020-01-01/Total/25 bis 34\",\"Bildungsstand seit 1970/2020-01-01/Frauen/35 bis 44\",\"Bildungsstand seit 1970/2020-01-01/M\\u00e4nner/35 bis 44\",\"Bildungsstand seit 1970/2020-01-01/Total/35 bis 44\",\"Bildungsstand seit 1970/2020-01-01/Frauen/45 bis 54\",\"Bildungsstand seit 1970/2020-01-01/M\\u00e4nner/45 bis 54\",\"Bildungsstand seit 1970/2020-01-01/Total/45 bis 54\",\"Bildungsstand seit 1970/2020-01-01/Frauen/55 bis 64\",\"Bildungsstand seit 1970/2020-01-01/M\\u00e4nner/55 bis 64\",\"Bildungsstand seit 1970/2020-01-01/Total/55 bis 64\",\"Bildungsstand seit 1970/2020-01-01/Frauen/65 bis 74\",\"Bildungsstand seit 1970/2020-01-01/M\\u00e4nner/65 bis 74\",\"Bildungsstand seit 1970/2020-01-01/Total/65 bis 74\",\"Bildungsstand seit 1970/2020-01-01/Frauen/75 und \\u00e4lter\",\"Bildungsstand seit 1970/2020-01-01/M\\u00e4nner/75 und \\u00e4lter\",\"Bildungsstand seit 1970/2020-01-01/Total/75 und \\u00e4lter\",\"Bildungsstand seit 1970/2020-01-01/Frauen\",\"Bildungsstand seit 1970/2020-01-01/M\\u00e4nner\",\"Bildungsstand seit 1970/2020-01-01/Total\",\"Bildungsstand seit 1970/2020-01-01\",\"Bildungsstand seit 1970\"],\"labels\":[\"Obligatorische Schule\",\"Obligatorische Schule\",\"Obligatorische Schule\",\"Obligatorische Schule\",\"Obligatorische Schule\",\"Obligatorische Schule\",\"Obligatorische Schule\",\"Obligatorische Schule\",\"Obligatorische Schule\",\"Obligatorische Schule\",\"Obligatorische Schule\",\"Obligatorische Schule\",\"Obligatorische Schule\",\"Obligatorische Schule\",\"Obligatorische Schule\",\"Obligatorische Schule\",\"Obligatorische Schule\",\"Obligatorische Schule\",\"Obligatorische Schule\",\"Obligatorische Schule\",\"Obligatorische Schule\",\"Sekundarstufe II\",\"Sekundarstufe II\",\"Sekundarstufe II\",\"Sekundarstufe II\",\"Sekundarstufe II\",\"Sekundarstufe II\",\"Sekundarstufe II\",\"Sekundarstufe II\",\"Sekundarstufe II\",\"Sekundarstufe II\",\"Sekundarstufe II\",\"Sekundarstufe II\",\"Sekundarstufe II\",\"Sekundarstufe II\",\"Sekundarstufe II\",\"Sekundarstufe II\",\"Sekundarstufe II\",\"Sekundarstufe II\",\"Sekundarstufe II\",\"Sekundarstufe II\",\"Sekundarstufe II\",\"Terti\\u00e4rstufe\",\"Terti\\u00e4rstufe\",\"Terti\\u00e4rstufe\",\"Terti\\u00e4rstufe\",\"Terti\\u00e4rstufe\",\"Terti\\u00e4rstufe\",\"Terti\\u00e4rstufe\",\"Terti\\u00e4rstufe\",\"Terti\\u00e4rstufe\",\"Terti\\u00e4rstufe\",\"Terti\\u00e4rstufe\",\"Terti\\u00e4rstufe\",\"Terti\\u00e4rstufe\",\"Terti\\u00e4rstufe\",\"Terti\\u00e4rstufe\",\"Terti\\u00e4rstufe\",\"Terti\\u00e4rstufe\",\"Terti\\u00e4rstufe\",\"Terti\\u00e4rstufe\",\"Terti\\u00e4rstufe\",\"Terti\\u00e4rstufe\",\"15 bis 24\",\"15 bis 24\",\"15 bis 24\",\"25 bis 34\",\"25 bis 34\",\"25 bis 34\",\"35 bis 44\",\"35 bis 44\",\"35 bis 44\",\"45 bis 54\",\"45 bis 54\",\"45 bis 54\",\"55 bis 64\",\"55 bis 64\",\"55 bis 64\",\"65 bis 74\",\"65 bis 74\",\"65 bis 74\",\"75 und \\u00e4lter\",\"75 und \\u00e4lter\",\"75 und \\u00e4lter\",\"Frauen\",\"M\\u00e4nner\",\"Total\",\"2020-01-01\",\"Bildungsstand seit 1970\"],\"marker\":{\"coloraxis\":\"coloraxis\",\"colors\":[37.1,41.1,39.2,6.0,6.8,6.400000000000001,7.8,9.3,8.5,17.2,13.7,15.400000000000002,21.3,21.2,21.2,22.6,12.4,17.9,30.0,13.4,23.5,45.9,43.2,44.5,17.0,17.2,17.1,20.6,20.7,20.7,24.4,25.2,24.899999999999995,34.9,28.2,31.6,45.8,39.8,43.0,49.2,47.8,48.699999999999996,17.0,15.6,16.3,77.0,76.0,76.5,71.6,70.0,70.8,58.4,61.0,59.8,43.7,50.6,47.2,31.6,47.8,39.1,20.7,38.8,27.8,37.7222,38.02612612612613,37.8258,62.54,61.1808,61.8562,56.117599999999996,54.1498,55.133799999999994,43.0176,45.48278278278278,44.28781218781218,35.84974974974975,38.050399999999996,36.7584,36.0696,40.22639999999999,36.982200000000006,37.52882882882883,39.69839999999999,36.967800000000004,44.12292083452414,45.26024578450987,44.258863019568636,44.54730199552318,44.54730199552318]},\"name\":\"\",\"parents\":[\"Bildungsstand seit 1970/2020-01-01/Frauen/15 bis 24\",\"Bildungsstand seit 1970/2020-01-01/M\\u00e4nner/15 bis 24\",\"Bildungsstand seit 1970/2020-01-01/Total/15 bis 24\",\"Bildungsstand seit 1970/2020-01-01/Frauen/25 bis 34\",\"Bildungsstand seit 1970/2020-01-01/M\\u00e4nner/25 bis 34\",\"Bildungsstand seit 1970/2020-01-01/Total/25 bis 34\",\"Bildungsstand seit 1970/2020-01-01/Frauen/35 bis 44\",\"Bildungsstand seit 1970/2020-01-01/M\\u00e4nner/35 bis 44\",\"Bildungsstand seit 1970/2020-01-01/Total/35 bis 44\",\"Bildungsstand seit 1970/2020-01-01/Frauen/45 bis 54\",\"Bildungsstand seit 1970/2020-01-01/M\\u00e4nner/45 bis 54\",\"Bildungsstand seit 1970/2020-01-01/Total/45 bis 54\",\"Bildungsstand seit 1970/2020-01-01/Frauen/55 bis 64\",\"Bildungsstand seit 1970/2020-01-01/M\\u00e4nner/55 bis 64\",\"Bildungsstand seit 1970/2020-01-01/Total/55 bis 64\",\"Bildungsstand seit 1970/2020-01-01/Frauen/65 bis 74\",\"Bildungsstand seit 1970/2020-01-01/M\\u00e4nner/65 bis 74\",\"Bildungsstand seit 1970/2020-01-01/Total/65 bis 74\",\"Bildungsstand seit 1970/2020-01-01/Frauen/75 und \\u00e4lter\",\"Bildungsstand seit 1970/2020-01-01/M\\u00e4nner/75 und \\u00e4lter\",\"Bildungsstand seit 1970/2020-01-01/Total/75 und \\u00e4lter\",\"Bildungsstand seit 1970/2020-01-01/Frauen/15 bis 24\",\"Bildungsstand seit 1970/2020-01-01/M\\u00e4nner/15 bis 24\",\"Bildungsstand seit 1970/2020-01-01/Total/15 bis 24\",\"Bildungsstand seit 1970/2020-01-01/Frauen/25 bis 34\",\"Bildungsstand seit 1970/2020-01-01/M\\u00e4nner/25 bis 34\",\"Bildungsstand seit 1970/2020-01-01/Total/25 bis 34\",\"Bildungsstand seit 1970/2020-01-01/Frauen/35 bis 44\",\"Bildungsstand seit 1970/2020-01-01/M\\u00e4nner/35 bis 44\",\"Bildungsstand seit 1970/2020-01-01/Total/35 bis 44\",\"Bildungsstand seit 1970/2020-01-01/Frauen/45 bis 54\",\"Bildungsstand seit 1970/2020-01-01/M\\u00e4nner/45 bis 54\",\"Bildungsstand seit 1970/2020-01-01/Total/45 bis 54\",\"Bildungsstand seit 1970/2020-01-01/Frauen/55 bis 64\",\"Bildungsstand seit 1970/2020-01-01/M\\u00e4nner/55 bis 64\",\"Bildungsstand seit 1970/2020-01-01/Total/55 bis 64\",\"Bildungsstand seit 1970/2020-01-01/Frauen/65 bis 74\",\"Bildungsstand seit 1970/2020-01-01/M\\u00e4nner/65 bis 74\",\"Bildungsstand seit 1970/2020-01-01/Total/65 bis 74\",\"Bildungsstand seit 1970/2020-01-01/Frauen/75 und \\u00e4lter\",\"Bildungsstand seit 1970/2020-01-01/M\\u00e4nner/75 und \\u00e4lter\",\"Bildungsstand seit 1970/2020-01-01/Total/75 und \\u00e4lter\",\"Bildungsstand seit 1970/2020-01-01/Frauen/15 bis 24\",\"Bildungsstand seit 1970/2020-01-01/M\\u00e4nner/15 bis 24\",\"Bildungsstand seit 1970/2020-01-01/Total/15 bis 24\",\"Bildungsstand seit 1970/2020-01-01/Frauen/25 bis 34\",\"Bildungsstand seit 1970/2020-01-01/M\\u00e4nner/25 bis 34\",\"Bildungsstand seit 1970/2020-01-01/Total/25 bis 34\",\"Bildungsstand seit 1970/2020-01-01/Frauen/35 bis 44\",\"Bildungsstand seit 1970/2020-01-01/M\\u00e4nner/35 bis 44\",\"Bildungsstand seit 1970/2020-01-01/Total/35 bis 44\",\"Bildungsstand seit 1970/2020-01-01/Frauen/45 bis 54\",\"Bildungsstand seit 1970/2020-01-01/M\\u00e4nner/45 bis 54\",\"Bildungsstand seit 1970/2020-01-01/Total/45 bis 54\",\"Bildungsstand seit 1970/2020-01-01/Frauen/55 bis 64\",\"Bildungsstand seit 1970/2020-01-01/M\\u00e4nner/55 bis 64\",\"Bildungsstand seit 1970/2020-01-01/Total/55 bis 64\",\"Bildungsstand seit 1970/2020-01-01/Frauen/65 bis 74\",\"Bildungsstand seit 1970/2020-01-01/M\\u00e4nner/65 bis 74\",\"Bildungsstand seit 1970/2020-01-01/Total/65 bis 74\",\"Bildungsstand seit 1970/2020-01-01/Frauen/75 und \\u00e4lter\",\"Bildungsstand seit 1970/2020-01-01/M\\u00e4nner/75 und \\u00e4lter\",\"Bildungsstand seit 1970/2020-01-01/Total/75 und \\u00e4lter\",\"Bildungsstand seit 1970/2020-01-01/Frauen\",\"Bildungsstand seit 1970/2020-01-01/M\\u00e4nner\",\"Bildungsstand seit 1970/2020-01-01/Total\",\"Bildungsstand seit 1970/2020-01-01/Frauen\",\"Bildungsstand seit 1970/2020-01-01/M\\u00e4nner\",\"Bildungsstand seit 1970/2020-01-01/Total\",\"Bildungsstand seit 1970/2020-01-01/Frauen\",\"Bildungsstand seit 1970/2020-01-01/M\\u00e4nner\",\"Bildungsstand seit 1970/2020-01-01/Total\",\"Bildungsstand seit 1970/2020-01-01/Frauen\",\"Bildungsstand seit 1970/2020-01-01/M\\u00e4nner\",\"Bildungsstand seit 1970/2020-01-01/Total\",\"Bildungsstand seit 1970/2020-01-01/Frauen\",\"Bildungsstand seit 1970/2020-01-01/M\\u00e4nner\",\"Bildungsstand seit 1970/2020-01-01/Total\",\"Bildungsstand seit 1970/2020-01-01/Frauen\",\"Bildungsstand seit 1970/2020-01-01/M\\u00e4nner\",\"Bildungsstand seit 1970/2020-01-01/Total\",\"Bildungsstand seit 1970/2020-01-01/Frauen\",\"Bildungsstand seit 1970/2020-01-01/M\\u00e4nner\",\"Bildungsstand seit 1970/2020-01-01/Total\",\"Bildungsstand seit 1970/2020-01-01\",\"Bildungsstand seit 1970/2020-01-01\",\"Bildungsstand seit 1970/2020-01-01\",\"Bildungsstand seit 1970\",\"\"],\"values\":[37.1,41.1,39.2,6.0,6.8,6.4,7.8,9.3,8.5,17.2,13.7,15.4,21.3,21.2,21.2,22.6,12.4,17.9,30.0,13.4,23.5,45.9,43.2,44.5,17.0,17.2,17.1,20.6,20.7,20.7,24.4,25.2,24.9,34.9,28.2,31.6,45.8,39.8,43.0,49.2,47.8,48.7,17.0,15.6,16.3,77.0,76.0,76.5,71.6,70.0,70.8,58.4,61.0,59.8,43.7,50.6,47.2,31.6,47.8,39.1,20.7,38.8,27.8,100.0,99.9,100.0,100.0,100.0,100.0,100.0,100.0,100.0,100.0,99.9,100.1,99.9,100.0,100.0,100.0,100.0,100.0,99.9,100.0,100.0,699.8,699.8,700.1,2099.7,2099.7],\"type\":\"treemap\",\"root\":{\"color\":\"grey\"}}],                        {\"template\":{\"data\":{\"bar\":[{\"error_x\":{\"color\":\"#2a3f5f\"},\"error_y\":{\"color\":\"#2a3f5f\"},\"marker\":{\"line\":{\"color\":\"#E5ECF6\",\"width\":0.5},\"pattern\":{\"fillmode\":\"overlay\",\"size\":10,\"solidity\":0.2}},\"type\":\"bar\"}],\"barpolar\":[{\"marker\":{\"line\":{\"color\":\"#E5ECF6\",\"width\":0.5},\"pattern\":{\"fillmode\":\"overlay\",\"size\":10,\"solidity\":0.2}},\"type\":\"barpolar\"}],\"carpet\":[{\"aaxis\":{\"endlinecolor\":\"#2a3f5f\",\"gridcolor\":\"white\",\"linecolor\":\"white\",\"minorgridcolor\":\"white\",\"startlinecolor\":\"#2a3f5f\"},\"baxis\":{\"endlinecolor\":\"#2a3f5f\",\"gridcolor\":\"white\",\"linecolor\":\"white\",\"minorgridcolor\":\"white\",\"startlinecolor\":\"#2a3f5f\"},\"type\":\"carpet\"}],\"choropleth\":[{\"colorbar\":{\"outlinewidth\":0,\"ticks\":\"\"},\"type\":\"choropleth\"}],\"contour\":[{\"colorbar\":{\"outlinewidth\":0,\"ticks\":\"\"},\"colorscale\":[[0.0,\"#0d0887\"],[0.1111111111111111,\"#46039f\"],[0.2222222222222222,\"#7201a8\"],[0.3333333333333333,\"#9c179e\"],[0.4444444444444444,\"#bd3786\"],[0.5555555555555556,\"#d8576b\"],[0.6666666666666666,\"#ed7953\"],[0.7777777777777778,\"#fb9f3a\"],[0.8888888888888888,\"#fdca26\"],[1.0,\"#f0f921\"]],\"type\":\"contour\"}],\"contourcarpet\":[{\"colorbar\":{\"outlinewidth\":0,\"ticks\":\"\"},\"type\":\"contourcarpet\"}],\"heatmap\":[{\"colorbar\":{\"outlinewidth\":0,\"ticks\":\"\"},\"colorscale\":[[0.0,\"#0d0887\"],[0.1111111111111111,\"#46039f\"],[0.2222222222222222,\"#7201a8\"],[0.3333333333333333,\"#9c179e\"],[0.4444444444444444,\"#bd3786\"],[0.5555555555555556,\"#d8576b\"],[0.6666666666666666,\"#ed7953\"],[0.7777777777777778,\"#fb9f3a\"],[0.8888888888888888,\"#fdca26\"],[1.0,\"#f0f921\"]],\"type\":\"heatmap\"}],\"heatmapgl\":[{\"colorbar\":{\"outlinewidth\":0,\"ticks\":\"\"},\"colorscale\":[[0.0,\"#0d0887\"],[0.1111111111111111,\"#46039f\"],[0.2222222222222222,\"#7201a8\"],[0.3333333333333333,\"#9c179e\"],[0.4444444444444444,\"#bd3786\"],[0.5555555555555556,\"#d8576b\"],[0.6666666666666666,\"#ed7953\"],[0.7777777777777778,\"#fb9f3a\"],[0.8888888888888888,\"#fdca26\"],[1.0,\"#f0f921\"]],\"type\":\"heatmapgl\"}],\"histogram\":[{\"marker\":{\"pattern\":{\"fillmode\":\"overlay\",\"size\":10,\"solidity\":0.2}},\"type\":\"histogram\"}],\"histogram2d\":[{\"colorbar\":{\"outlinewidth\":0,\"ticks\":\"\"},\"colorscale\":[[0.0,\"#0d0887\"],[0.1111111111111111,\"#46039f\"],[0.2222222222222222,\"#7201a8\"],[0.3333333333333333,\"#9c179e\"],[0.4444444444444444,\"#bd3786\"],[0.5555555555555556,\"#d8576b\"],[0.6666666666666666,\"#ed7953\"],[0.7777777777777778,\"#fb9f3a\"],[0.8888888888888888,\"#fdca26\"],[1.0,\"#f0f921\"]],\"type\":\"histogram2d\"}],\"histogram2dcontour\":[{\"colorbar\":{\"outlinewidth\":0,\"ticks\":\"\"},\"colorscale\":[[0.0,\"#0d0887\"],[0.1111111111111111,\"#46039f\"],[0.2222222222222222,\"#7201a8\"],[0.3333333333333333,\"#9c179e\"],[0.4444444444444444,\"#bd3786\"],[0.5555555555555556,\"#d8576b\"],[0.6666666666666666,\"#ed7953\"],[0.7777777777777778,\"#fb9f3a\"],[0.8888888888888888,\"#fdca26\"],[1.0,\"#f0f921\"]],\"type\":\"histogram2dcontour\"}],\"mesh3d\":[{\"colorbar\":{\"outlinewidth\":0,\"ticks\":\"\"},\"type\":\"mesh3d\"}],\"parcoords\":[{\"line\":{\"colorbar\":{\"outlinewidth\":0,\"ticks\":\"\"}},\"type\":\"parcoords\"}],\"pie\":[{\"automargin\":true,\"type\":\"pie\"}],\"scatter\":[{\"marker\":{\"colorbar\":{\"outlinewidth\":0,\"ticks\":\"\"}},\"type\":\"scatter\"}],\"scatter3d\":[{\"line\":{\"colorbar\":{\"outlinewidth\":0,\"ticks\":\"\"}},\"marker\":{\"colorbar\":{\"outlinewidth\":0,\"ticks\":\"\"}},\"type\":\"scatter3d\"}],\"scattercarpet\":[{\"marker\":{\"colorbar\":{\"outlinewidth\":0,\"ticks\":\"\"}},\"type\":\"scattercarpet\"}],\"scattergeo\":[{\"marker\":{\"colorbar\":{\"outlinewidth\":0,\"ticks\":\"\"}},\"type\":\"scattergeo\"}],\"scattergl\":[{\"marker\":{\"colorbar\":{\"outlinewidth\":0,\"ticks\":\"\"}},\"type\":\"scattergl\"}],\"scattermapbox\":[{\"marker\":{\"colorbar\":{\"outlinewidth\":0,\"ticks\":\"\"}},\"type\":\"scattermapbox\"}],\"scatterpolar\":[{\"marker\":{\"colorbar\":{\"outlinewidth\":0,\"ticks\":\"\"}},\"type\":\"scatterpolar\"}],\"scatterpolargl\":[{\"marker\":{\"colorbar\":{\"outlinewidth\":0,\"ticks\":\"\"}},\"type\":\"scatterpolargl\"}],\"scatterternary\":[{\"marker\":{\"colorbar\":{\"outlinewidth\":0,\"ticks\":\"\"}},\"type\":\"scatterternary\"}],\"surface\":[{\"colorbar\":{\"outlinewidth\":0,\"ticks\":\"\"},\"colorscale\":[[0.0,\"#0d0887\"],[0.1111111111111111,\"#46039f\"],[0.2222222222222222,\"#7201a8\"],[0.3333333333333333,\"#9c179e\"],[0.4444444444444444,\"#bd3786\"],[0.5555555555555556,\"#d8576b\"],[0.6666666666666666,\"#ed7953\"],[0.7777777777777778,\"#fb9f3a\"],[0.8888888888888888,\"#fdca26\"],[1.0,\"#f0f921\"]],\"type\":\"surface\"}],\"table\":[{\"cells\":{\"fill\":{\"color\":\"#EBF0F8\"},\"line\":{\"color\":\"white\"}},\"header\":{\"fill\":{\"color\":\"#C8D4E3\"},\"line\":{\"color\":\"white\"}},\"type\":\"table\"}]},\"layout\":{\"annotationdefaults\":{\"arrowcolor\":\"#2a3f5f\",\"arrowhead\":0,\"arrowwidth\":1},\"autotypenumbers\":\"strict\",\"coloraxis\":{\"colorbar\":{\"outlinewidth\":0,\"ticks\":\"\"}},\"colorscale\":{\"diverging\":[[0,\"#8e0152\"],[0.1,\"#c51b7d\"],[0.2,\"#de77ae\"],[0.3,\"#f1b6da\"],[0.4,\"#fde0ef\"],[0.5,\"#f7f7f7\"],[0.6,\"#e6f5d0\"],[0.7,\"#b8e186\"],[0.8,\"#7fbc41\"],[0.9,\"#4d9221\"],[1,\"#276419\"]],\"sequential\":[[0.0,\"#0d0887\"],[0.1111111111111111,\"#46039f\"],[0.2222222222222222,\"#7201a8\"],[0.3333333333333333,\"#9c179e\"],[0.4444444444444444,\"#bd3786\"],[0.5555555555555556,\"#d8576b\"],[0.6666666666666666,\"#ed7953\"],[0.7777777777777778,\"#fb9f3a\"],[0.8888888888888888,\"#fdca26\"],[1.0,\"#f0f921\"]],\"sequentialminus\":[[0.0,\"#0d0887\"],[0.1111111111111111,\"#46039f\"],[0.2222222222222222,\"#7201a8\"],[0.3333333333333333,\"#9c179e\"],[0.4444444444444444,\"#bd3786\"],[0.5555555555555556,\"#d8576b\"],[0.6666666666666666,\"#ed7953\"],[0.7777777777777778,\"#fb9f3a\"],[0.8888888888888888,\"#fdca26\"],[1.0,\"#f0f921\"]]},\"colorway\":[\"#636efa\",\"#EF553B\",\"#00cc96\",\"#ab63fa\",\"#FFA15A\",\"#19d3f3\",\"#FF6692\",\"#B6E880\",\"#FF97FF\",\"#FECB52\"],\"font\":{\"color\":\"#2a3f5f\"},\"geo\":{\"bgcolor\":\"white\",\"lakecolor\":\"white\",\"landcolor\":\"#E5ECF6\",\"showlakes\":true,\"showland\":true,\"subunitcolor\":\"white\"},\"hoverlabel\":{\"align\":\"left\"},\"hovermode\":\"closest\",\"mapbox\":{\"style\":\"light\"},\"paper_bgcolor\":\"white\",\"plot_bgcolor\":\"#E5ECF6\",\"polar\":{\"angularaxis\":{\"gridcolor\":\"white\",\"linecolor\":\"white\",\"ticks\":\"\"},\"bgcolor\":\"#E5ECF6\",\"radialaxis\":{\"gridcolor\":\"white\",\"linecolor\":\"white\",\"ticks\":\"\"}},\"scene\":{\"xaxis\":{\"backgroundcolor\":\"#E5ECF6\",\"gridcolor\":\"white\",\"gridwidth\":2,\"linecolor\":\"white\",\"showbackground\":true,\"ticks\":\"\",\"zerolinecolor\":\"white\"},\"yaxis\":{\"backgroundcolor\":\"#E5ECF6\",\"gridcolor\":\"white\",\"gridwidth\":2,\"linecolor\":\"white\",\"showbackground\":true,\"ticks\":\"\",\"zerolinecolor\":\"white\"},\"zaxis\":{\"backgroundcolor\":\"#E5ECF6\",\"gridcolor\":\"white\",\"gridwidth\":2,\"linecolor\":\"white\",\"showbackground\":true,\"ticks\":\"\",\"zerolinecolor\":\"white\"}},\"shapedefaults\":{\"line\":{\"color\":\"#2a3f5f\"}},\"ternary\":{\"aaxis\":{\"gridcolor\":\"white\",\"linecolor\":\"white\",\"ticks\":\"\"},\"baxis\":{\"gridcolor\":\"white\",\"linecolor\":\"white\",\"ticks\":\"\"},\"bgcolor\":\"#E5ECF6\",\"caxis\":{\"gridcolor\":\"white\",\"linecolor\":\"white\",\"ticks\":\"\"}},\"title\":{\"x\":0.05},\"xaxis\":{\"automargin\":true,\"gridcolor\":\"white\",\"linecolor\":\"white\",\"ticks\":\"\",\"title\":{\"standoff\":15},\"zerolinecolor\":\"white\",\"zerolinewidth\":2},\"yaxis\":{\"automargin\":true,\"gridcolor\":\"white\",\"linecolor\":\"white\",\"ticks\":\"\",\"title\":{\"standoff\":15},\"zerolinecolor\":\"white\",\"zerolinewidth\":2}}},\"coloraxis\":{\"colorbar\":{\"title\":{\"text\":\"mean_AntBev\"}},\"colorscale\":[[0.0,\"rgb(247,251,255)\"],[0.125,\"rgb(222,235,247)\"],[0.25,\"rgb(198,219,239)\"],[0.375,\"rgb(158,202,225)\"],[0.5,\"rgb(107,174,214)\"],[0.625,\"rgb(66,146,198)\"],[0.75,\"rgb(33,113,181)\"],[0.875,\"rgb(8,81,156)\"],[1.0,\"rgb(8,48,107)\"]]},\"legend\":{\"tracegroupgap\":0},\"margin\":{\"t\":50,\"l\":25,\"r\":250,\"b\":25},\"height\":400,\"width\":1100},                        {\"responsive\": true}                    ).then(function(){\n",
       "                            \n",
       "var gd = document.getElementById('37dddc37-8777-4a73-ad60-31574ef7a6ce');\n",
       "var x = new MutationObserver(function (mutations, observer) {{\n",
       "        var display = window.getComputedStyle(gd).display;\n",
       "        if (!display || display === 'none') {{\n",
       "            console.log([gd, 'removed!']);\n",
       "            Plotly.purge(gd);\n",
       "            observer.disconnect();\n",
       "        }}\n",
       "}});\n",
       "\n",
       "// Listen for the removal of the full notebook cells\n",
       "var notebookContainer = gd.closest('#notebook-container');\n",
       "if (notebookContainer) {{\n",
       "    x.observe(notebookContainer, {childList: true});\n",
       "}}\n",
       "\n",
       "// Listen for the clearing of the current output cell\n",
       "var outputEl = gd.closest('.output');\n",
       "if (outputEl) {{\n",
       "    x.observe(outputEl, {childList: true});\n",
       "}}\n",
       "\n",
       "                        })                };                });            </script>        </div>"
      ]
     },
     "metadata": {},
     "output_type": "display_data"
    }
   ],
   "source": [
    "#myTitle=\"Bildungsstand nach Aufenthaltsart\"\n",
    "\n",
    "fig = px.treemap(myTreemapAgg.reset_index(), path=[px.Constant(myTitle), 'Jahr_str','SexLang', 'AlterLang', 'Bildungsstand']\n",
    "                 , values='mean_AntBev'\n",
    "                 , color='mean_AntBev'\n",
    "                 ## bei discrete scales (bei Klassen und Strings):                 \n",
    "                 #, color_discrete_map={'(?)':'lightgrey','EVP':'gold', 'SP':'#FF3030', 'PdA':'#EE3B3B', 'Grüne':'#A2CD5A','GLP':'#CAFF70','Die Mitte':'orange','FDP':'#104E8B','AL':'deeppink','SVP':'forestgreen', 'FL ZÜRI':'#8B864E','Volt':'#lightblue' }                \n",
    "                 ## bei continuous scales (bei Zahlenwerten):\n",
    "                , color_continuous_scale='Blues'\n",
    "                #, color_continuous_midpoint=np.average(df['AnzBestWir'], weights=df['AnzBestWir'])  \n",
    "                 ,height=400\n",
    "                 ,width=1100                 \n",
    "                )\n",
    "fig.update_traces(root_color=\"grey\")\n",
    "fig.update_layout(margin = dict(t=50, l=25, r=250, b=25))\n",
    "fig.show()"
   ]
  },
  {
   "cell_type": "markdown",
   "metadata": {},
   "source": [
    "#### Aktueller Bestand der WBev nach Quartier und Herkunft"
   ]
  },
  {
   "cell_type": "code",
   "execution_count": 117,
   "metadata": {},
   "outputs": [],
   "source": [
    "#data2betested.dtypes"
   ]
  },
  {
   "cell_type": "code",
   "execution_count": 119,
   "metadata": {},
   "outputs": [
    {
     "data": {
      "application/vnd.plotly.v1+json": {
       "config": {
        "plotlyServerURL": "https://plot.ly"
       },
       "data": [
        {
         "branchvalues": "total",
         "customdata": [
          [
           "15 bis 24"
          ],
          [
           "55 bis 64"
          ],
          [
           "55 bis 64"
          ],
          [
           "55 bis 64"
          ],
          [
           "55 bis 64"
          ],
          [
           "45 bis 54"
          ],
          [
           "45 bis 54"
          ],
          [
           "45 bis 54"
          ],
          [
           "55 bis 64"
          ],
          [
           "55 bis 64"
          ],
          [
           "65 bis 74"
          ],
          [
           "65 bis 74"
          ],
          [
           "35 bis 44"
          ],
          [
           "65 bis 74"
          ],
          [
           "65 bis 74"
          ],
          [
           "65 bis 74"
          ],
          [
           "55 bis 64"
          ],
          [
           "55 bis 64"
          ],
          [
           "75 und älter"
          ],
          [
           "75 und älter"
          ],
          [
           "65 bis 74"
          ],
          [
           "65 bis 74"
          ],
          [
           "45 bis 54"
          ],
          [
           "75 und älter"
          ],
          [
           "65 bis 74"
          ],
          [
           "65 bis 74"
          ],
          [
           "75 und älter"
          ],
          [
           "75 und älter"
          ],
          [
           "15 bis 24"
          ],
          [
           "25 bis 34"
          ],
          [
           "15 bis 24"
          ],
          [
           "45 bis 54"
          ],
          [
           "75 und älter"
          ],
          [
           "55 bis 64"
          ],
          [
           "75 und älter"
          ],
          [
           "15 bis 24"
          ],
          [
           "25 bis 34"
          ],
          [
           "15 bis 24"
          ],
          [
           "25 bis 34"
          ],
          [
           "15 bis 24"
          ],
          [
           "25 bis 34"
          ],
          [
           "15 bis 24"
          ],
          [
           "25 bis 34"
          ],
          [
           "15 bis 24"
          ],
          [
           "15 bis 24"
          ],
          [
           "25 bis 34"
          ],
          [
           "25 bis 34"
          ],
          [
           "25 bis 34"
          ],
          [
           "35 bis 44"
          ],
          [
           "75 und älter"
          ],
          [
           "35 bis 44"
          ],
          [
           "35 bis 44"
          ],
          [
           "25 bis 34"
          ],
          [
           "35 bis 44"
          ],
          [
           "45 bis 54"
          ],
          [
           "35 bis 44"
          ],
          [
           "45 bis 54"
          ],
          [
           "45 bis 54"
          ],
          [
           "35 bis 44"
          ],
          [
           "45 bis 54"
          ],
          [
           "35 bis 44"
          ],
          [
           "35 bis 44"
          ],
          [
           "75 und älter"
          ],
          [
           "15 bis 24"
          ],
          [
           "15 bis 24"
          ],
          [
           "15 bis 24"
          ],
          [
           "25 bis 34"
          ],
          [
           "25 bis 34"
          ],
          [
           "25 bis 34"
          ],
          [
           "35 bis 44"
          ],
          [
           "35 bis 44"
          ],
          [
           "35 bis 44"
          ],
          [
           "45 bis 54"
          ],
          [
           "45 bis 54"
          ],
          [
           "45 bis 54"
          ],
          [
           "55 bis 64"
          ],
          [
           "55 bis 64"
          ],
          [
           "55 bis 64"
          ],
          [
           "65 bis 74"
          ],
          [
           "65 bis 74"
          ],
          [
           "65 bis 74"
          ],
          [
           "75 und älter"
          ],
          [
           "75 und älter"
          ],
          [
           "75 und älter"
          ],
          [
           "(?)"
          ],
          [
           "(?)"
          ],
          [
           "(?)"
          ],
          [
           "(?)"
          ],
          [
           "(?)"
          ]
         ],
         "domain": {
          "x": [
           0,
           1
          ],
          "y": [
           0,
           1
          ]
         },
         "hovertemplate": "labels=%{label}<br>mean_AntBev=%{value}<br>parent=%{parent}<br>id=%{id}<br>AlterLang=%{customdata[0]}<extra></extra>",
         "ids": [
          "Bildungsstand nach Aufenthaltsart/2020-01-01/Frauen/15 bis 24/Obligatorische Schule",
          "Bildungsstand nach Aufenthaltsart/2020-01-01/Frauen/55 bis 64/Sekundarstufe II",
          "Bildungsstand nach Aufenthaltsart/2020-01-01/Männer/55 bis 64/Sekundarstufe II",
          "Bildungsstand nach Aufenthaltsart/2020-01-01/Männer/55 bis 64/Tertiärstufe",
          "Bildungsstand nach Aufenthaltsart/2020-01-01/Frauen/55 bis 64/Tertiärstufe",
          "Bildungsstand nach Aufenthaltsart/2020-01-01/Total/45 bis 54/Tertiärstufe",
          "Bildungsstand nach Aufenthaltsart/2020-01-01/Männer/45 bis 54/Obligatorische Schule",
          "Bildungsstand nach Aufenthaltsart/2020-01-01/Total/45 bis 54/Obligatorische Schule",
          "Bildungsstand nach Aufenthaltsart/2020-01-01/Frauen/55 bis 64/Obligatorische Schule",
          "Bildungsstand nach Aufenthaltsart/2020-01-01/Total/55 bis 64/Sekundarstufe II",
          "Bildungsstand nach Aufenthaltsart/2020-01-01/Frauen/65 bis 74/Sekundarstufe II",
          "Bildungsstand nach Aufenthaltsart/2020-01-01/Männer/65 bis 74/Sekundarstufe II",
          "Bildungsstand nach Aufenthaltsart/2020-01-01/Total/35 bis 44/Sekundarstufe II",
          "Bildungsstand nach Aufenthaltsart/2020-01-01/Frauen/65 bis 74/Obligatorische Schule",
          "Bildungsstand nach Aufenthaltsart/2020-01-01/Männer/65 bis 74/Tertiärstufe",
          "Bildungsstand nach Aufenthaltsart/2020-01-01/Frauen/65 bis 74/Tertiärstufe",
          "Bildungsstand nach Aufenthaltsart/2020-01-01/Total/55 bis 64/Tertiärstufe",
          "Bildungsstand nach Aufenthaltsart/2020-01-01/Männer/55 bis 64/Obligatorische Schule",
          "Bildungsstand nach Aufenthaltsart/2020-01-01/Frauen/75 und älter/Sekundarstufe II",
          "Bildungsstand nach Aufenthaltsart/2020-01-01/Frauen/75 und älter/Tertiärstufe",
          "Bildungsstand nach Aufenthaltsart/2020-01-01/Total/65 bis 74/Tertiärstufe",
          "Bildungsstand nach Aufenthaltsart/2020-01-01/Total/65 bis 74/Sekundarstufe II",
          "Bildungsstand nach Aufenthaltsart/2020-01-01/Total/45 bis 54/Sekundarstufe II",
          "Bildungsstand nach Aufenthaltsart/2020-01-01/Frauen/75 und älter/Obligatorische Schule",
          "Bildungsstand nach Aufenthaltsart/2020-01-01/Total/65 bis 74/Obligatorische Schule",
          "Bildungsstand nach Aufenthaltsart/2020-01-01/Männer/65 bis 74/Obligatorische Schule",
          "Bildungsstand nach Aufenthaltsart/2020-01-01/Männer/75 und älter/Sekundarstufe II",
          "Bildungsstand nach Aufenthaltsart/2020-01-01/Total/75 und älter/Sekundarstufe II",
          "Bildungsstand nach Aufenthaltsart/2020-01-01/Frauen/15 bis 24/Tertiärstufe",
          "Bildungsstand nach Aufenthaltsart/2020-01-01/Männer/25 bis 34/Tertiärstufe",
          "Bildungsstand nach Aufenthaltsart/2020-01-01/Männer/15 bis 24/Tertiärstufe",
          "Bildungsstand nach Aufenthaltsart/2020-01-01/Männer/45 bis 54/Sekundarstufe II",
          "Bildungsstand nach Aufenthaltsart/2020-01-01/Männer/75 und älter/Obligatorische Schule",
          "Bildungsstand nach Aufenthaltsart/2020-01-01/Total/55 bis 64/Obligatorische Schule",
          "Bildungsstand nach Aufenthaltsart/2020-01-01/Total/75 und älter/Obligatorische Schule",
          "Bildungsstand nach Aufenthaltsart/2020-01-01/Frauen/15 bis 24/Sekundarstufe II",
          "Bildungsstand nach Aufenthaltsart/2020-01-01/Frauen/25 bis 34/Obligatorische Schule",
          "Bildungsstand nach Aufenthaltsart/2020-01-01/Total/15 bis 24/Obligatorische Schule",
          "Bildungsstand nach Aufenthaltsart/2020-01-01/Frauen/25 bis 34/Tertiärstufe",
          "Bildungsstand nach Aufenthaltsart/2020-01-01/Total/15 bis 24/Tertiärstufe",
          "Bildungsstand nach Aufenthaltsart/2020-01-01/Total/25 bis 34/Tertiärstufe",
          "Bildungsstand nach Aufenthaltsart/2020-01-01/Total/15 bis 24/Sekundarstufe II",
          "Bildungsstand nach Aufenthaltsart/2020-01-01/Frauen/25 bis 34/Sekundarstufe II",
          "Bildungsstand nach Aufenthaltsart/2020-01-01/Männer/15 bis 24/Obligatorische Schule",
          "Bildungsstand nach Aufenthaltsart/2020-01-01/Männer/15 bis 24/Sekundarstufe II",
          "Bildungsstand nach Aufenthaltsart/2020-01-01/Total/25 bis 34/Obligatorische Schule",
          "Bildungsstand nach Aufenthaltsart/2020-01-01/Männer/25 bis 34/Sekundarstufe II",
          "Bildungsstand nach Aufenthaltsart/2020-01-01/Total/25 bis 34/Sekundarstufe II",
          "Bildungsstand nach Aufenthaltsart/2020-01-01/Frauen/35 bis 44/Sekundarstufe II",
          "Bildungsstand nach Aufenthaltsart/2020-01-01/Männer/75 und älter/Tertiärstufe",
          "Bildungsstand nach Aufenthaltsart/2020-01-01/Frauen/35 bis 44/Tertiärstufe",
          "Bildungsstand nach Aufenthaltsart/2020-01-01/Männer/35 bis 44/Tertiärstufe",
          "Bildungsstand nach Aufenthaltsart/2020-01-01/Männer/25 bis 34/Obligatorische Schule",
          "Bildungsstand nach Aufenthaltsart/2020-01-01/Frauen/35 bis 44/Obligatorische Schule",
          "Bildungsstand nach Aufenthaltsart/2020-01-01/Frauen/45 bis 54/Sekundarstufe II",
          "Bildungsstand nach Aufenthaltsart/2020-01-01/Total/35 bis 44/Obligatorische Schule",
          "Bildungsstand nach Aufenthaltsart/2020-01-01/Männer/45 bis 54/Tertiärstufe",
          "Bildungsstand nach Aufenthaltsart/2020-01-01/Frauen/45 bis 54/Tertiärstufe",
          "Bildungsstand nach Aufenthaltsart/2020-01-01/Total/35 bis 44/Tertiärstufe",
          "Bildungsstand nach Aufenthaltsart/2020-01-01/Frauen/45 bis 54/Obligatorische Schule",
          "Bildungsstand nach Aufenthaltsart/2020-01-01/Männer/35 bis 44/Sekundarstufe II",
          "Bildungsstand nach Aufenthaltsart/2020-01-01/Männer/35 bis 44/Obligatorische Schule",
          "Bildungsstand nach Aufenthaltsart/2020-01-01/Total/75 und älter/Tertiärstufe",
          "Bildungsstand nach Aufenthaltsart/2020-01-01/Frauen/15 bis 24",
          "Bildungsstand nach Aufenthaltsart/2020-01-01/Männer/15 bis 24",
          "Bildungsstand nach Aufenthaltsart/2020-01-01/Total/15 bis 24",
          "Bildungsstand nach Aufenthaltsart/2020-01-01/Frauen/25 bis 34",
          "Bildungsstand nach Aufenthaltsart/2020-01-01/Männer/25 bis 34",
          "Bildungsstand nach Aufenthaltsart/2020-01-01/Total/25 bis 34",
          "Bildungsstand nach Aufenthaltsart/2020-01-01/Frauen/35 bis 44",
          "Bildungsstand nach Aufenthaltsart/2020-01-01/Männer/35 bis 44",
          "Bildungsstand nach Aufenthaltsart/2020-01-01/Total/35 bis 44",
          "Bildungsstand nach Aufenthaltsart/2020-01-01/Frauen/45 bis 54",
          "Bildungsstand nach Aufenthaltsart/2020-01-01/Männer/45 bis 54",
          "Bildungsstand nach Aufenthaltsart/2020-01-01/Total/45 bis 54",
          "Bildungsstand nach Aufenthaltsart/2020-01-01/Frauen/55 bis 64",
          "Bildungsstand nach Aufenthaltsart/2020-01-01/Männer/55 bis 64",
          "Bildungsstand nach Aufenthaltsart/2020-01-01/Total/55 bis 64",
          "Bildungsstand nach Aufenthaltsart/2020-01-01/Frauen/65 bis 74",
          "Bildungsstand nach Aufenthaltsart/2020-01-01/Männer/65 bis 74",
          "Bildungsstand nach Aufenthaltsart/2020-01-01/Total/65 bis 74",
          "Bildungsstand nach Aufenthaltsart/2020-01-01/Frauen/75 und älter",
          "Bildungsstand nach Aufenthaltsart/2020-01-01/Männer/75 und älter",
          "Bildungsstand nach Aufenthaltsart/2020-01-01/Total/75 und älter",
          "Bildungsstand nach Aufenthaltsart/2020-01-01/Frauen",
          "Bildungsstand nach Aufenthaltsart/2020-01-01/Männer",
          "Bildungsstand nach Aufenthaltsart/2020-01-01/Total",
          "Bildungsstand nach Aufenthaltsart/2020-01-01",
          "Bildungsstand nach Aufenthaltsart"
         ],
         "labels": [
          "Obligatorische Schule",
          "Sekundarstufe II",
          "Sekundarstufe II",
          "Tertiärstufe",
          "Tertiärstufe",
          "Tertiärstufe",
          "Obligatorische Schule",
          "Obligatorische Schule",
          "Obligatorische Schule",
          "Sekundarstufe II",
          "Sekundarstufe II",
          "Sekundarstufe II",
          "Sekundarstufe II",
          "Obligatorische Schule",
          "Tertiärstufe",
          "Tertiärstufe",
          "Tertiärstufe",
          "Obligatorische Schule",
          "Sekundarstufe II",
          "Tertiärstufe",
          "Tertiärstufe",
          "Sekundarstufe II",
          "Sekundarstufe II",
          "Obligatorische Schule",
          "Obligatorische Schule",
          "Obligatorische Schule",
          "Sekundarstufe II",
          "Sekundarstufe II",
          "Tertiärstufe",
          "Tertiärstufe",
          "Tertiärstufe",
          "Sekundarstufe II",
          "Obligatorische Schule",
          "Obligatorische Schule",
          "Obligatorische Schule",
          "Sekundarstufe II",
          "Obligatorische Schule",
          "Obligatorische Schule",
          "Tertiärstufe",
          "Tertiärstufe",
          "Tertiärstufe",
          "Sekundarstufe II",
          "Sekundarstufe II",
          "Obligatorische Schule",
          "Sekundarstufe II",
          "Obligatorische Schule",
          "Sekundarstufe II",
          "Sekundarstufe II",
          "Sekundarstufe II",
          "Tertiärstufe",
          "Tertiärstufe",
          "Tertiärstufe",
          "Obligatorische Schule",
          "Obligatorische Schule",
          "Sekundarstufe II",
          "Obligatorische Schule",
          "Tertiärstufe",
          "Tertiärstufe",
          "Tertiärstufe",
          "Obligatorische Schule",
          "Sekundarstufe II",
          "Obligatorische Schule",
          "Tertiärstufe",
          "15 bis 24",
          "15 bis 24",
          "15 bis 24",
          "25 bis 34",
          "25 bis 34",
          "25 bis 34",
          "35 bis 44",
          "35 bis 44",
          "35 bis 44",
          "45 bis 54",
          "45 bis 54",
          "45 bis 54",
          "55 bis 64",
          "55 bis 64",
          "55 bis 64",
          "65 bis 74",
          "65 bis 74",
          "65 bis 74",
          "75 und älter",
          "75 und älter",
          "75 und älter",
          "Frauen",
          "Männer",
          "Total",
          "2020-01-01",
          "Bildungsstand nach Aufenthaltsart"
         ],
         "marker": {
          "colors": [
           "#00cc96",
           "#ab63fa",
           "#ab63fa",
           "#ab63fa",
           "#ab63fa",
           "#FFA15A",
           "#FFA15A",
           "#FFA15A",
           "#ab63fa",
           "#ab63fa",
           "#19d3f3",
           "#19d3f3",
           "#FF6692",
           "#19d3f3",
           "#19d3f3",
           "#19d3f3",
           "#ab63fa",
           "#ab63fa",
           "#B6E880",
           "#B6E880",
           "#19d3f3",
           "#19d3f3",
           "#FFA15A",
           "#B6E880",
           "#19d3f3",
           "#19d3f3",
           "#B6E880",
           "#B6E880",
           "#00cc96",
           "#FF97FF",
           "#00cc96",
           "#FFA15A",
           "#B6E880",
           "#ab63fa",
           "#B6E880",
           "#00cc96",
           "#FF97FF",
           "#00cc96",
           "#FF97FF",
           "#00cc96",
           "#FF97FF",
           "#00cc96",
           "#FF97FF",
           "#00cc96",
           "#00cc96",
           "#FF97FF",
           "#FF97FF",
           "#FF97FF",
           "#FF6692",
           "#B6E880",
           "#FF6692",
           "#FF6692",
           "#FF97FF",
           "#FF6692",
           "#FFA15A",
           "#FF6692",
           "#FFA15A",
           "#FFA15A",
           "#FF6692",
           "#FFA15A",
           "#FF6692",
           "#FF6692",
           "#B6E880",
           "#00cc96",
           "#00cc96",
           "#00cc96",
           "#FF97FF",
           "#FF97FF",
           "#FF97FF",
           "#FF6692",
           "#FF6692",
           "#FF6692",
           "#FFA15A",
           "#FFA15A",
           "#FFA15A",
           "#ab63fa",
           "#ab63fa",
           "#ab63fa",
           "#19d3f3",
           "#19d3f3",
           "#19d3f3",
           "#B6E880",
           "#B6E880",
           "#B6E880",
           "lightgrey",
           "lightgrey",
           "lightgrey",
           "lightgrey",
           "lightgrey"
          ]
         },
         "name": "",
         "parents": [
          "Bildungsstand nach Aufenthaltsart/2020-01-01/Frauen/15 bis 24",
          "Bildungsstand nach Aufenthaltsart/2020-01-01/Frauen/55 bis 64",
          "Bildungsstand nach Aufenthaltsart/2020-01-01/Männer/55 bis 64",
          "Bildungsstand nach Aufenthaltsart/2020-01-01/Männer/55 bis 64",
          "Bildungsstand nach Aufenthaltsart/2020-01-01/Frauen/55 bis 64",
          "Bildungsstand nach Aufenthaltsart/2020-01-01/Total/45 bis 54",
          "Bildungsstand nach Aufenthaltsart/2020-01-01/Männer/45 bis 54",
          "Bildungsstand nach Aufenthaltsart/2020-01-01/Total/45 bis 54",
          "Bildungsstand nach Aufenthaltsart/2020-01-01/Frauen/55 bis 64",
          "Bildungsstand nach Aufenthaltsart/2020-01-01/Total/55 bis 64",
          "Bildungsstand nach Aufenthaltsart/2020-01-01/Frauen/65 bis 74",
          "Bildungsstand nach Aufenthaltsart/2020-01-01/Männer/65 bis 74",
          "Bildungsstand nach Aufenthaltsart/2020-01-01/Total/35 bis 44",
          "Bildungsstand nach Aufenthaltsart/2020-01-01/Frauen/65 bis 74",
          "Bildungsstand nach Aufenthaltsart/2020-01-01/Männer/65 bis 74",
          "Bildungsstand nach Aufenthaltsart/2020-01-01/Frauen/65 bis 74",
          "Bildungsstand nach Aufenthaltsart/2020-01-01/Total/55 bis 64",
          "Bildungsstand nach Aufenthaltsart/2020-01-01/Männer/55 bis 64",
          "Bildungsstand nach Aufenthaltsart/2020-01-01/Frauen/75 und älter",
          "Bildungsstand nach Aufenthaltsart/2020-01-01/Frauen/75 und älter",
          "Bildungsstand nach Aufenthaltsart/2020-01-01/Total/65 bis 74",
          "Bildungsstand nach Aufenthaltsart/2020-01-01/Total/65 bis 74",
          "Bildungsstand nach Aufenthaltsart/2020-01-01/Total/45 bis 54",
          "Bildungsstand nach Aufenthaltsart/2020-01-01/Frauen/75 und älter",
          "Bildungsstand nach Aufenthaltsart/2020-01-01/Total/65 bis 74",
          "Bildungsstand nach Aufenthaltsart/2020-01-01/Männer/65 bis 74",
          "Bildungsstand nach Aufenthaltsart/2020-01-01/Männer/75 und älter",
          "Bildungsstand nach Aufenthaltsart/2020-01-01/Total/75 und älter",
          "Bildungsstand nach Aufenthaltsart/2020-01-01/Frauen/15 bis 24",
          "Bildungsstand nach Aufenthaltsart/2020-01-01/Männer/25 bis 34",
          "Bildungsstand nach Aufenthaltsart/2020-01-01/Männer/15 bis 24",
          "Bildungsstand nach Aufenthaltsart/2020-01-01/Männer/45 bis 54",
          "Bildungsstand nach Aufenthaltsart/2020-01-01/Männer/75 und älter",
          "Bildungsstand nach Aufenthaltsart/2020-01-01/Total/55 bis 64",
          "Bildungsstand nach Aufenthaltsart/2020-01-01/Total/75 und älter",
          "Bildungsstand nach Aufenthaltsart/2020-01-01/Frauen/15 bis 24",
          "Bildungsstand nach Aufenthaltsart/2020-01-01/Frauen/25 bis 34",
          "Bildungsstand nach Aufenthaltsart/2020-01-01/Total/15 bis 24",
          "Bildungsstand nach Aufenthaltsart/2020-01-01/Frauen/25 bis 34",
          "Bildungsstand nach Aufenthaltsart/2020-01-01/Total/15 bis 24",
          "Bildungsstand nach Aufenthaltsart/2020-01-01/Total/25 bis 34",
          "Bildungsstand nach Aufenthaltsart/2020-01-01/Total/15 bis 24",
          "Bildungsstand nach Aufenthaltsart/2020-01-01/Frauen/25 bis 34",
          "Bildungsstand nach Aufenthaltsart/2020-01-01/Männer/15 bis 24",
          "Bildungsstand nach Aufenthaltsart/2020-01-01/Männer/15 bis 24",
          "Bildungsstand nach Aufenthaltsart/2020-01-01/Total/25 bis 34",
          "Bildungsstand nach Aufenthaltsart/2020-01-01/Männer/25 bis 34",
          "Bildungsstand nach Aufenthaltsart/2020-01-01/Total/25 bis 34",
          "Bildungsstand nach Aufenthaltsart/2020-01-01/Frauen/35 bis 44",
          "Bildungsstand nach Aufenthaltsart/2020-01-01/Männer/75 und älter",
          "Bildungsstand nach Aufenthaltsart/2020-01-01/Frauen/35 bis 44",
          "Bildungsstand nach Aufenthaltsart/2020-01-01/Männer/35 bis 44",
          "Bildungsstand nach Aufenthaltsart/2020-01-01/Männer/25 bis 34",
          "Bildungsstand nach Aufenthaltsart/2020-01-01/Frauen/35 bis 44",
          "Bildungsstand nach Aufenthaltsart/2020-01-01/Frauen/45 bis 54",
          "Bildungsstand nach Aufenthaltsart/2020-01-01/Total/35 bis 44",
          "Bildungsstand nach Aufenthaltsart/2020-01-01/Männer/45 bis 54",
          "Bildungsstand nach Aufenthaltsart/2020-01-01/Frauen/45 bis 54",
          "Bildungsstand nach Aufenthaltsart/2020-01-01/Total/35 bis 44",
          "Bildungsstand nach Aufenthaltsart/2020-01-01/Frauen/45 bis 54",
          "Bildungsstand nach Aufenthaltsart/2020-01-01/Männer/35 bis 44",
          "Bildungsstand nach Aufenthaltsart/2020-01-01/Männer/35 bis 44",
          "Bildungsstand nach Aufenthaltsart/2020-01-01/Total/75 und älter",
          "Bildungsstand nach Aufenthaltsart/2020-01-01/Frauen",
          "Bildungsstand nach Aufenthaltsart/2020-01-01/Männer",
          "Bildungsstand nach Aufenthaltsart/2020-01-01/Total",
          "Bildungsstand nach Aufenthaltsart/2020-01-01/Frauen",
          "Bildungsstand nach Aufenthaltsart/2020-01-01/Männer",
          "Bildungsstand nach Aufenthaltsart/2020-01-01/Total",
          "Bildungsstand nach Aufenthaltsart/2020-01-01/Frauen",
          "Bildungsstand nach Aufenthaltsart/2020-01-01/Männer",
          "Bildungsstand nach Aufenthaltsart/2020-01-01/Total",
          "Bildungsstand nach Aufenthaltsart/2020-01-01/Frauen",
          "Bildungsstand nach Aufenthaltsart/2020-01-01/Männer",
          "Bildungsstand nach Aufenthaltsart/2020-01-01/Total",
          "Bildungsstand nach Aufenthaltsart/2020-01-01/Frauen",
          "Bildungsstand nach Aufenthaltsart/2020-01-01/Männer",
          "Bildungsstand nach Aufenthaltsart/2020-01-01/Total",
          "Bildungsstand nach Aufenthaltsart/2020-01-01/Frauen",
          "Bildungsstand nach Aufenthaltsart/2020-01-01/Männer",
          "Bildungsstand nach Aufenthaltsart/2020-01-01/Total",
          "Bildungsstand nach Aufenthaltsart/2020-01-01/Frauen",
          "Bildungsstand nach Aufenthaltsart/2020-01-01/Männer",
          "Bildungsstand nach Aufenthaltsart/2020-01-01/Total",
          "Bildungsstand nach Aufenthaltsart/2020-01-01",
          "Bildungsstand nach Aufenthaltsart/2020-01-01",
          "Bildungsstand nach Aufenthaltsart/2020-01-01",
          "Bildungsstand nach Aufenthaltsart",
          ""
         ],
         "root": {
          "color": "grey"
         },
         "type": "treemap",
         "values": [
          37.1,
          34.9,
          28.2,
          50.6,
          43.7,
          59.8,
          13.7,
          15.4,
          21.3,
          31.6,
          45.8,
          39.8,
          20.7,
          22.6,
          47.8,
          31.6,
          47.2,
          21.2,
          49.2,
          20.7,
          39.1,
          43,
          24.9,
          30,
          17.9,
          12.4,
          47.8,
          48.7,
          17,
          76,
          15.6,
          25.2,
          13.4,
          21.2,
          23.5,
          45.9,
          6,
          39.2,
          77,
          16.3,
          76.5,
          44.5,
          17,
          41.1,
          43.2,
          6.4,
          17.2,
          17.1,
          20.6,
          38.8,
          71.6,
          70,
          6.8,
          7.8,
          24.4,
          8.5,
          61,
          58.4,
          70.8,
          17.2,
          20.7,
          9.3,
          27.8,
          100,
          99.9,
          100,
          100,
          100,
          100,
          100,
          100,
          100,
          100,
          99.9,
          100.1,
          99.9,
          100,
          100,
          100,
          100,
          100,
          99.9,
          100,
          100,
          699.8,
          699.8,
          700.1,
          2099.7,
          2099.7
         ]
        }
       ],
       "layout": {
        "height": 400,
        "legend": {
         "tracegroupgap": 0
        },
        "margin": {
         "b": 25,
         "l": 25,
         "r": 250,
         "t": 50
        },
        "template": {
         "data": {
          "bar": [
           {
            "error_x": {
             "color": "#2a3f5f"
            },
            "error_y": {
             "color": "#2a3f5f"
            },
            "marker": {
             "line": {
              "color": "#E5ECF6",
              "width": 0.5
             },
             "pattern": {
              "fillmode": "overlay",
              "size": 10,
              "solidity": 0.2
             }
            },
            "type": "bar"
           }
          ],
          "barpolar": [
           {
            "marker": {
             "line": {
              "color": "#E5ECF6",
              "width": 0.5
             },
             "pattern": {
              "fillmode": "overlay",
              "size": 10,
              "solidity": 0.2
             }
            },
            "type": "barpolar"
           }
          ],
          "carpet": [
           {
            "aaxis": {
             "endlinecolor": "#2a3f5f",
             "gridcolor": "white",
             "linecolor": "white",
             "minorgridcolor": "white",
             "startlinecolor": "#2a3f5f"
            },
            "baxis": {
             "endlinecolor": "#2a3f5f",
             "gridcolor": "white",
             "linecolor": "white",
             "minorgridcolor": "white",
             "startlinecolor": "#2a3f5f"
            },
            "type": "carpet"
           }
          ],
          "choropleth": [
           {
            "colorbar": {
             "outlinewidth": 0,
             "ticks": ""
            },
            "type": "choropleth"
           }
          ],
          "contour": [
           {
            "colorbar": {
             "outlinewidth": 0,
             "ticks": ""
            },
            "colorscale": [
             [
              0,
              "#0d0887"
             ],
             [
              0.1111111111111111,
              "#46039f"
             ],
             [
              0.2222222222222222,
              "#7201a8"
             ],
             [
              0.3333333333333333,
              "#9c179e"
             ],
             [
              0.4444444444444444,
              "#bd3786"
             ],
             [
              0.5555555555555556,
              "#d8576b"
             ],
             [
              0.6666666666666666,
              "#ed7953"
             ],
             [
              0.7777777777777778,
              "#fb9f3a"
             ],
             [
              0.8888888888888888,
              "#fdca26"
             ],
             [
              1,
              "#f0f921"
             ]
            ],
            "type": "contour"
           }
          ],
          "contourcarpet": [
           {
            "colorbar": {
             "outlinewidth": 0,
             "ticks": ""
            },
            "type": "contourcarpet"
           }
          ],
          "heatmap": [
           {
            "colorbar": {
             "outlinewidth": 0,
             "ticks": ""
            },
            "colorscale": [
             [
              0,
              "#0d0887"
             ],
             [
              0.1111111111111111,
              "#46039f"
             ],
             [
              0.2222222222222222,
              "#7201a8"
             ],
             [
              0.3333333333333333,
              "#9c179e"
             ],
             [
              0.4444444444444444,
              "#bd3786"
             ],
             [
              0.5555555555555556,
              "#d8576b"
             ],
             [
              0.6666666666666666,
              "#ed7953"
             ],
             [
              0.7777777777777778,
              "#fb9f3a"
             ],
             [
              0.8888888888888888,
              "#fdca26"
             ],
             [
              1,
              "#f0f921"
             ]
            ],
            "type": "heatmap"
           }
          ],
          "heatmapgl": [
           {
            "colorbar": {
             "outlinewidth": 0,
             "ticks": ""
            },
            "colorscale": [
             [
              0,
              "#0d0887"
             ],
             [
              0.1111111111111111,
              "#46039f"
             ],
             [
              0.2222222222222222,
              "#7201a8"
             ],
             [
              0.3333333333333333,
              "#9c179e"
             ],
             [
              0.4444444444444444,
              "#bd3786"
             ],
             [
              0.5555555555555556,
              "#d8576b"
             ],
             [
              0.6666666666666666,
              "#ed7953"
             ],
             [
              0.7777777777777778,
              "#fb9f3a"
             ],
             [
              0.8888888888888888,
              "#fdca26"
             ],
             [
              1,
              "#f0f921"
             ]
            ],
            "type": "heatmapgl"
           }
          ],
          "histogram": [
           {
            "marker": {
             "pattern": {
              "fillmode": "overlay",
              "size": 10,
              "solidity": 0.2
             }
            },
            "type": "histogram"
           }
          ],
          "histogram2d": [
           {
            "colorbar": {
             "outlinewidth": 0,
             "ticks": ""
            },
            "colorscale": [
             [
              0,
              "#0d0887"
             ],
             [
              0.1111111111111111,
              "#46039f"
             ],
             [
              0.2222222222222222,
              "#7201a8"
             ],
             [
              0.3333333333333333,
              "#9c179e"
             ],
             [
              0.4444444444444444,
              "#bd3786"
             ],
             [
              0.5555555555555556,
              "#d8576b"
             ],
             [
              0.6666666666666666,
              "#ed7953"
             ],
             [
              0.7777777777777778,
              "#fb9f3a"
             ],
             [
              0.8888888888888888,
              "#fdca26"
             ],
             [
              1,
              "#f0f921"
             ]
            ],
            "type": "histogram2d"
           }
          ],
          "histogram2dcontour": [
           {
            "colorbar": {
             "outlinewidth": 0,
             "ticks": ""
            },
            "colorscale": [
             [
              0,
              "#0d0887"
             ],
             [
              0.1111111111111111,
              "#46039f"
             ],
             [
              0.2222222222222222,
              "#7201a8"
             ],
             [
              0.3333333333333333,
              "#9c179e"
             ],
             [
              0.4444444444444444,
              "#bd3786"
             ],
             [
              0.5555555555555556,
              "#d8576b"
             ],
             [
              0.6666666666666666,
              "#ed7953"
             ],
             [
              0.7777777777777778,
              "#fb9f3a"
             ],
             [
              0.8888888888888888,
              "#fdca26"
             ],
             [
              1,
              "#f0f921"
             ]
            ],
            "type": "histogram2dcontour"
           }
          ],
          "mesh3d": [
           {
            "colorbar": {
             "outlinewidth": 0,
             "ticks": ""
            },
            "type": "mesh3d"
           }
          ],
          "parcoords": [
           {
            "line": {
             "colorbar": {
              "outlinewidth": 0,
              "ticks": ""
             }
            },
            "type": "parcoords"
           }
          ],
          "pie": [
           {
            "automargin": true,
            "type": "pie"
           }
          ],
          "scatter": [
           {
            "marker": {
             "colorbar": {
              "outlinewidth": 0,
              "ticks": ""
             }
            },
            "type": "scatter"
           }
          ],
          "scatter3d": [
           {
            "line": {
             "colorbar": {
              "outlinewidth": 0,
              "ticks": ""
             }
            },
            "marker": {
             "colorbar": {
              "outlinewidth": 0,
              "ticks": ""
             }
            },
            "type": "scatter3d"
           }
          ],
          "scattercarpet": [
           {
            "marker": {
             "colorbar": {
              "outlinewidth": 0,
              "ticks": ""
             }
            },
            "type": "scattercarpet"
           }
          ],
          "scattergeo": [
           {
            "marker": {
             "colorbar": {
              "outlinewidth": 0,
              "ticks": ""
             }
            },
            "type": "scattergeo"
           }
          ],
          "scattergl": [
           {
            "marker": {
             "colorbar": {
              "outlinewidth": 0,
              "ticks": ""
             }
            },
            "type": "scattergl"
           }
          ],
          "scattermapbox": [
           {
            "marker": {
             "colorbar": {
              "outlinewidth": 0,
              "ticks": ""
             }
            },
            "type": "scattermapbox"
           }
          ],
          "scatterpolar": [
           {
            "marker": {
             "colorbar": {
              "outlinewidth": 0,
              "ticks": ""
             }
            },
            "type": "scatterpolar"
           }
          ],
          "scatterpolargl": [
           {
            "marker": {
             "colorbar": {
              "outlinewidth": 0,
              "ticks": ""
             }
            },
            "type": "scatterpolargl"
           }
          ],
          "scatterternary": [
           {
            "marker": {
             "colorbar": {
              "outlinewidth": 0,
              "ticks": ""
             }
            },
            "type": "scatterternary"
           }
          ],
          "surface": [
           {
            "colorbar": {
             "outlinewidth": 0,
             "ticks": ""
            },
            "colorscale": [
             [
              0,
              "#0d0887"
             ],
             [
              0.1111111111111111,
              "#46039f"
             ],
             [
              0.2222222222222222,
              "#7201a8"
             ],
             [
              0.3333333333333333,
              "#9c179e"
             ],
             [
              0.4444444444444444,
              "#bd3786"
             ],
             [
              0.5555555555555556,
              "#d8576b"
             ],
             [
              0.6666666666666666,
              "#ed7953"
             ],
             [
              0.7777777777777778,
              "#fb9f3a"
             ],
             [
              0.8888888888888888,
              "#fdca26"
             ],
             [
              1,
              "#f0f921"
             ]
            ],
            "type": "surface"
           }
          ],
          "table": [
           {
            "cells": {
             "fill": {
              "color": "#EBF0F8"
             },
             "line": {
              "color": "white"
             }
            },
            "header": {
             "fill": {
              "color": "#C8D4E3"
             },
             "line": {
              "color": "white"
             }
            },
            "type": "table"
           }
          ]
         },
         "layout": {
          "annotationdefaults": {
           "arrowcolor": "#2a3f5f",
           "arrowhead": 0,
           "arrowwidth": 1
          },
          "autotypenumbers": "strict",
          "coloraxis": {
           "colorbar": {
            "outlinewidth": 0,
            "ticks": ""
           }
          },
          "colorscale": {
           "diverging": [
            [
             0,
             "#8e0152"
            ],
            [
             0.1,
             "#c51b7d"
            ],
            [
             0.2,
             "#de77ae"
            ],
            [
             0.3,
             "#f1b6da"
            ],
            [
             0.4,
             "#fde0ef"
            ],
            [
             0.5,
             "#f7f7f7"
            ],
            [
             0.6,
             "#e6f5d0"
            ],
            [
             0.7,
             "#b8e186"
            ],
            [
             0.8,
             "#7fbc41"
            ],
            [
             0.9,
             "#4d9221"
            ],
            [
             1,
             "#276419"
            ]
           ],
           "sequential": [
            [
             0,
             "#0d0887"
            ],
            [
             0.1111111111111111,
             "#46039f"
            ],
            [
             0.2222222222222222,
             "#7201a8"
            ],
            [
             0.3333333333333333,
             "#9c179e"
            ],
            [
             0.4444444444444444,
             "#bd3786"
            ],
            [
             0.5555555555555556,
             "#d8576b"
            ],
            [
             0.6666666666666666,
             "#ed7953"
            ],
            [
             0.7777777777777778,
             "#fb9f3a"
            ],
            [
             0.8888888888888888,
             "#fdca26"
            ],
            [
             1,
             "#f0f921"
            ]
           ],
           "sequentialminus": [
            [
             0,
             "#0d0887"
            ],
            [
             0.1111111111111111,
             "#46039f"
            ],
            [
             0.2222222222222222,
             "#7201a8"
            ],
            [
             0.3333333333333333,
             "#9c179e"
            ],
            [
             0.4444444444444444,
             "#bd3786"
            ],
            [
             0.5555555555555556,
             "#d8576b"
            ],
            [
             0.6666666666666666,
             "#ed7953"
            ],
            [
             0.7777777777777778,
             "#fb9f3a"
            ],
            [
             0.8888888888888888,
             "#fdca26"
            ],
            [
             1,
             "#f0f921"
            ]
           ]
          },
          "colorway": [
           "#636efa",
           "#EF553B",
           "#00cc96",
           "#ab63fa",
           "#FFA15A",
           "#19d3f3",
           "#FF6692",
           "#B6E880",
           "#FF97FF",
           "#FECB52"
          ],
          "font": {
           "color": "#2a3f5f"
          },
          "geo": {
           "bgcolor": "white",
           "lakecolor": "white",
           "landcolor": "#E5ECF6",
           "showlakes": true,
           "showland": true,
           "subunitcolor": "white"
          },
          "hoverlabel": {
           "align": "left"
          },
          "hovermode": "closest",
          "mapbox": {
           "style": "light"
          },
          "paper_bgcolor": "white",
          "plot_bgcolor": "#E5ECF6",
          "polar": {
           "angularaxis": {
            "gridcolor": "white",
            "linecolor": "white",
            "ticks": ""
           },
           "bgcolor": "#E5ECF6",
           "radialaxis": {
            "gridcolor": "white",
            "linecolor": "white",
            "ticks": ""
           }
          },
          "scene": {
           "xaxis": {
            "backgroundcolor": "#E5ECF6",
            "gridcolor": "white",
            "gridwidth": 2,
            "linecolor": "white",
            "showbackground": true,
            "ticks": "",
            "zerolinecolor": "white"
           },
           "yaxis": {
            "backgroundcolor": "#E5ECF6",
            "gridcolor": "white",
            "gridwidth": 2,
            "linecolor": "white",
            "showbackground": true,
            "ticks": "",
            "zerolinecolor": "white"
           },
           "zaxis": {
            "backgroundcolor": "#E5ECF6",
            "gridcolor": "white",
            "gridwidth": 2,
            "linecolor": "white",
            "showbackground": true,
            "ticks": "",
            "zerolinecolor": "white"
           }
          },
          "shapedefaults": {
           "line": {
            "color": "#2a3f5f"
           }
          },
          "ternary": {
           "aaxis": {
            "gridcolor": "white",
            "linecolor": "white",
            "ticks": ""
           },
           "baxis": {
            "gridcolor": "white",
            "linecolor": "white",
            "ticks": ""
           },
           "bgcolor": "#E5ECF6",
           "caxis": {
            "gridcolor": "white",
            "linecolor": "white",
            "ticks": ""
           }
          },
          "title": {
           "x": 0.05
          },
          "xaxis": {
           "automargin": true,
           "gridcolor": "white",
           "linecolor": "white",
           "ticks": "",
           "title": {
            "standoff": 15
           },
           "zerolinecolor": "white",
           "zerolinewidth": 2
          },
          "yaxis": {
           "automargin": true,
           "gridcolor": "white",
           "linecolor": "white",
           "ticks": "",
           "title": {
            "standoff": 15
           },
           "zerolinecolor": "white",
           "zerolinewidth": 2
          }
         }
        },
        "width": 1100
       }
      },
      "image/png": "[encoded data removed]",
      "text/html": [
       "<div>                            <div id=\"5308008a-6ce3-4a50-8035-3be0fcb468da\" class=\"plotly-graph-div\" style=\"height:400px; width:1100px;\"></div>            <script type=\"text/javascript\">                require([\"plotly\"], function(Plotly) {                    window.PLOTLYENV=window.PLOTLYENV || {};                                    if (document.getElementById(\"5308008a-6ce3-4a50-8035-3be0fcb468da\")) {                    Plotly.newPlot(                        \"5308008a-6ce3-4a50-8035-3be0fcb468da\",                        [{\"branchvalues\":\"total\",\"customdata\":[[\"15 bis 24\"],[\"55 bis 64\"],[\"55 bis 64\"],[\"55 bis 64\"],[\"55 bis 64\"],[\"45 bis 54\"],[\"45 bis 54\"],[\"45 bis 54\"],[\"55 bis 64\"],[\"55 bis 64\"],[\"65 bis 74\"],[\"65 bis 74\"],[\"35 bis 44\"],[\"65 bis 74\"],[\"65 bis 74\"],[\"65 bis 74\"],[\"55 bis 64\"],[\"55 bis 64\"],[\"75 und \\u00e4lter\"],[\"75 und \\u00e4lter\"],[\"65 bis 74\"],[\"65 bis 74\"],[\"45 bis 54\"],[\"75 und \\u00e4lter\"],[\"65 bis 74\"],[\"65 bis 74\"],[\"75 und \\u00e4lter\"],[\"75 und \\u00e4lter\"],[\"15 bis 24\"],[\"25 bis 34\"],[\"15 bis 24\"],[\"45 bis 54\"],[\"75 und \\u00e4lter\"],[\"55 bis 64\"],[\"75 und \\u00e4lter\"],[\"15 bis 24\"],[\"25 bis 34\"],[\"15 bis 24\"],[\"25 bis 34\"],[\"15 bis 24\"],[\"25 bis 34\"],[\"15 bis 24\"],[\"25 bis 34\"],[\"15 bis 24\"],[\"15 bis 24\"],[\"25 bis 34\"],[\"25 bis 34\"],[\"25 bis 34\"],[\"35 bis 44\"],[\"75 und \\u00e4lter\"],[\"35 bis 44\"],[\"35 bis 44\"],[\"25 bis 34\"],[\"35 bis 44\"],[\"45 bis 54\"],[\"35 bis 44\"],[\"45 bis 54\"],[\"45 bis 54\"],[\"35 bis 44\"],[\"45 bis 54\"],[\"35 bis 44\"],[\"35 bis 44\"],[\"75 und \\u00e4lter\"],[\"15 bis 24\"],[\"15 bis 24\"],[\"15 bis 24\"],[\"25 bis 34\"],[\"25 bis 34\"],[\"25 bis 34\"],[\"35 bis 44\"],[\"35 bis 44\"],[\"35 bis 44\"],[\"45 bis 54\"],[\"45 bis 54\"],[\"45 bis 54\"],[\"55 bis 64\"],[\"55 bis 64\"],[\"55 bis 64\"],[\"65 bis 74\"],[\"65 bis 74\"],[\"65 bis 74\"],[\"75 und \\u00e4lter\"],[\"75 und \\u00e4lter\"],[\"75 und \\u00e4lter\"],[\"(?)\"],[\"(?)\"],[\"(?)\"],[\"(?)\"],[\"(?)\"]],\"domain\":{\"x\":[0.0,1.0],\"y\":[0.0,1.0]},\"hovertemplate\":\"labels=%{label}<br>mean_AntBev=%{value}<br>parent=%{parent}<br>id=%{id}<br>AlterLang=%{customdata[0]}<extra></extra>\",\"ids\":[\"Bildungsstand nach Aufenthaltsart/2020-01-01/Frauen/15 bis 24/Obligatorische Schule\",\"Bildungsstand nach Aufenthaltsart/2020-01-01/Frauen/55 bis 64/Sekundarstufe II\",\"Bildungsstand nach Aufenthaltsart/2020-01-01/M\\u00e4nner/55 bis 64/Sekundarstufe II\",\"Bildungsstand nach Aufenthaltsart/2020-01-01/M\\u00e4nner/55 bis 64/Terti\\u00e4rstufe\",\"Bildungsstand nach Aufenthaltsart/2020-01-01/Frauen/55 bis 64/Terti\\u00e4rstufe\",\"Bildungsstand nach Aufenthaltsart/2020-01-01/Total/45 bis 54/Terti\\u00e4rstufe\",\"Bildungsstand nach Aufenthaltsart/2020-01-01/M\\u00e4nner/45 bis 54/Obligatorische Schule\",\"Bildungsstand nach Aufenthaltsart/2020-01-01/Total/45 bis 54/Obligatorische Schule\",\"Bildungsstand nach Aufenthaltsart/2020-01-01/Frauen/55 bis 64/Obligatorische Schule\",\"Bildungsstand nach Aufenthaltsart/2020-01-01/Total/55 bis 64/Sekundarstufe II\",\"Bildungsstand nach Aufenthaltsart/2020-01-01/Frauen/65 bis 74/Sekundarstufe II\",\"Bildungsstand nach Aufenthaltsart/2020-01-01/M\\u00e4nner/65 bis 74/Sekundarstufe II\",\"Bildungsstand nach Aufenthaltsart/2020-01-01/Total/35 bis 44/Sekundarstufe II\",\"Bildungsstand nach Aufenthaltsart/2020-01-01/Frauen/65 bis 74/Obligatorische Schule\",\"Bildungsstand nach Aufenthaltsart/2020-01-01/M\\u00e4nner/65 bis 74/Terti\\u00e4rstufe\",\"Bildungsstand nach Aufenthaltsart/2020-01-01/Frauen/65 bis 74/Terti\\u00e4rstufe\",\"Bildungsstand nach Aufenthaltsart/2020-01-01/Total/55 bis 64/Terti\\u00e4rstufe\",\"Bildungsstand nach Aufenthaltsart/2020-01-01/M\\u00e4nner/55 bis 64/Obligatorische Schule\",\"Bildungsstand nach Aufenthaltsart/2020-01-01/Frauen/75 und \\u00e4lter/Sekundarstufe II\",\"Bildungsstand nach Aufenthaltsart/2020-01-01/Frauen/75 und \\u00e4lter/Terti\\u00e4rstufe\",\"Bildungsstand nach Aufenthaltsart/2020-01-01/Total/65 bis 74/Terti\\u00e4rstufe\",\"Bildungsstand nach Aufenthaltsart/2020-01-01/Total/65 bis 74/Sekundarstufe II\",\"Bildungsstand nach Aufenthaltsart/2020-01-01/Total/45 bis 54/Sekundarstufe II\",\"Bildungsstand nach Aufenthaltsart/2020-01-01/Frauen/75 und \\u00e4lter/Obligatorische Schule\",\"Bildungsstand nach Aufenthaltsart/2020-01-01/Total/65 bis 74/Obligatorische Schule\",\"Bildungsstand nach Aufenthaltsart/2020-01-01/M\\u00e4nner/65 bis 74/Obligatorische Schule\",\"Bildungsstand nach Aufenthaltsart/2020-01-01/M\\u00e4nner/75 und \\u00e4lter/Sekundarstufe II\",\"Bildungsstand nach Aufenthaltsart/2020-01-01/Total/75 und \\u00e4lter/Sekundarstufe II\",\"Bildungsstand nach Aufenthaltsart/2020-01-01/Frauen/15 bis 24/Terti\\u00e4rstufe\",\"Bildungsstand nach Aufenthaltsart/2020-01-01/M\\u00e4nner/25 bis 34/Terti\\u00e4rstufe\",\"Bildungsstand nach Aufenthaltsart/2020-01-01/M\\u00e4nner/15 bis 24/Terti\\u00e4rstufe\",\"Bildungsstand nach Aufenthaltsart/2020-01-01/M\\u00e4nner/45 bis 54/Sekundarstufe II\",\"Bildungsstand nach Aufenthaltsart/2020-01-01/M\\u00e4nner/75 und \\u00e4lter/Obligatorische Schule\",\"Bildungsstand nach Aufenthaltsart/2020-01-01/Total/55 bis 64/Obligatorische Schule\",\"Bildungsstand nach Aufenthaltsart/2020-01-01/Total/75 und \\u00e4lter/Obligatorische Schule\",\"Bildungsstand nach Aufenthaltsart/2020-01-01/Frauen/15 bis 24/Sekundarstufe II\",\"Bildungsstand nach Aufenthaltsart/2020-01-01/Frauen/25 bis 34/Obligatorische Schule\",\"Bildungsstand nach Aufenthaltsart/2020-01-01/Total/15 bis 24/Obligatorische Schule\",\"Bildungsstand nach Aufenthaltsart/2020-01-01/Frauen/25 bis 34/Terti\\u00e4rstufe\",\"Bildungsstand nach Aufenthaltsart/2020-01-01/Total/15 bis 24/Terti\\u00e4rstufe\",\"Bildungsstand nach Aufenthaltsart/2020-01-01/Total/25 bis 34/Terti\\u00e4rstufe\",\"Bildungsstand nach Aufenthaltsart/2020-01-01/Total/15 bis 24/Sekundarstufe II\",\"Bildungsstand nach Aufenthaltsart/2020-01-01/Frauen/25 bis 34/Sekundarstufe II\",\"Bildungsstand nach Aufenthaltsart/2020-01-01/M\\u00e4nner/15 bis 24/Obligatorische Schule\",\"Bildungsstand nach Aufenthaltsart/2020-01-01/M\\u00e4nner/15 bis 24/Sekundarstufe II\",\"Bildungsstand nach Aufenthaltsart/2020-01-01/Total/25 bis 34/Obligatorische Schule\",\"Bildungsstand nach Aufenthaltsart/2020-01-01/M\\u00e4nner/25 bis 34/Sekundarstufe II\",\"Bildungsstand nach Aufenthaltsart/2020-01-01/Total/25 bis 34/Sekundarstufe II\",\"Bildungsstand nach Aufenthaltsart/2020-01-01/Frauen/35 bis 44/Sekundarstufe II\",\"Bildungsstand nach Aufenthaltsart/2020-01-01/M\\u00e4nner/75 und \\u00e4lter/Terti\\u00e4rstufe\",\"Bildungsstand nach Aufenthaltsart/2020-01-01/Frauen/35 bis 44/Terti\\u00e4rstufe\",\"Bildungsstand nach Aufenthaltsart/2020-01-01/M\\u00e4nner/35 bis 44/Terti\\u00e4rstufe\",\"Bildungsstand nach Aufenthaltsart/2020-01-01/M\\u00e4nner/25 bis 34/Obligatorische Schule\",\"Bildungsstand nach Aufenthaltsart/2020-01-01/Frauen/35 bis 44/Obligatorische Schule\",\"Bildungsstand nach Aufenthaltsart/2020-01-01/Frauen/45 bis 54/Sekundarstufe II\",\"Bildungsstand nach Aufenthaltsart/2020-01-01/Total/35 bis 44/Obligatorische Schule\",\"Bildungsstand nach Aufenthaltsart/2020-01-01/M\\u00e4nner/45 bis 54/Terti\\u00e4rstufe\",\"Bildungsstand nach Aufenthaltsart/2020-01-01/Frauen/45 bis 54/Terti\\u00e4rstufe\",\"Bildungsstand nach Aufenthaltsart/2020-01-01/Total/35 bis 44/Terti\\u00e4rstufe\",\"Bildungsstand nach Aufenthaltsart/2020-01-01/Frauen/45 bis 54/Obligatorische Schule\",\"Bildungsstand nach Aufenthaltsart/2020-01-01/M\\u00e4nner/35 bis 44/Sekundarstufe II\",\"Bildungsstand nach Aufenthaltsart/2020-01-01/M\\u00e4nner/35 bis 44/Obligatorische Schule\",\"Bildungsstand nach Aufenthaltsart/2020-01-01/Total/75 und \\u00e4lter/Terti\\u00e4rstufe\",\"Bildungsstand nach Aufenthaltsart/2020-01-01/Frauen/15 bis 24\",\"Bildungsstand nach Aufenthaltsart/2020-01-01/M\\u00e4nner/15 bis 24\",\"Bildungsstand nach Aufenthaltsart/2020-01-01/Total/15 bis 24\",\"Bildungsstand nach Aufenthaltsart/2020-01-01/Frauen/25 bis 34\",\"Bildungsstand nach Aufenthaltsart/2020-01-01/M\\u00e4nner/25 bis 34\",\"Bildungsstand nach Aufenthaltsart/2020-01-01/Total/25 bis 34\",\"Bildungsstand nach Aufenthaltsart/2020-01-01/Frauen/35 bis 44\",\"Bildungsstand nach Aufenthaltsart/2020-01-01/M\\u00e4nner/35 bis 44\",\"Bildungsstand nach Aufenthaltsart/2020-01-01/Total/35 bis 44\",\"Bildungsstand nach Aufenthaltsart/2020-01-01/Frauen/45 bis 54\",\"Bildungsstand nach Aufenthaltsart/2020-01-01/M\\u00e4nner/45 bis 54\",\"Bildungsstand nach Aufenthaltsart/2020-01-01/Total/45 bis 54\",\"Bildungsstand nach Aufenthaltsart/2020-01-01/Frauen/55 bis 64\",\"Bildungsstand nach Aufenthaltsart/2020-01-01/M\\u00e4nner/55 bis 64\",\"Bildungsstand nach Aufenthaltsart/2020-01-01/Total/55 bis 64\",\"Bildungsstand nach Aufenthaltsart/2020-01-01/Frauen/65 bis 74\",\"Bildungsstand nach Aufenthaltsart/2020-01-01/M\\u00e4nner/65 bis 74\",\"Bildungsstand nach Aufenthaltsart/2020-01-01/Total/65 bis 74\",\"Bildungsstand nach Aufenthaltsart/2020-01-01/Frauen/75 und \\u00e4lter\",\"Bildungsstand nach Aufenthaltsart/2020-01-01/M\\u00e4nner/75 und \\u00e4lter\",\"Bildungsstand nach Aufenthaltsart/2020-01-01/Total/75 und \\u00e4lter\",\"Bildungsstand nach Aufenthaltsart/2020-01-01/Frauen\",\"Bildungsstand nach Aufenthaltsart/2020-01-01/M\\u00e4nner\",\"Bildungsstand nach Aufenthaltsart/2020-01-01/Total\",\"Bildungsstand nach Aufenthaltsart/2020-01-01\",\"Bildungsstand nach Aufenthaltsart\"],\"labels\":[\"Obligatorische Schule\",\"Sekundarstufe II\",\"Sekundarstufe II\",\"Terti\\u00e4rstufe\",\"Terti\\u00e4rstufe\",\"Terti\\u00e4rstufe\",\"Obligatorische Schule\",\"Obligatorische Schule\",\"Obligatorische Schule\",\"Sekundarstufe II\",\"Sekundarstufe II\",\"Sekundarstufe II\",\"Sekundarstufe II\",\"Obligatorische Schule\",\"Terti\\u00e4rstufe\",\"Terti\\u00e4rstufe\",\"Terti\\u00e4rstufe\",\"Obligatorische Schule\",\"Sekundarstufe II\",\"Terti\\u00e4rstufe\",\"Terti\\u00e4rstufe\",\"Sekundarstufe II\",\"Sekundarstufe II\",\"Obligatorische Schule\",\"Obligatorische Schule\",\"Obligatorische Schule\",\"Sekundarstufe II\",\"Sekundarstufe II\",\"Terti\\u00e4rstufe\",\"Terti\\u00e4rstufe\",\"Terti\\u00e4rstufe\",\"Sekundarstufe II\",\"Obligatorische Schule\",\"Obligatorische Schule\",\"Obligatorische Schule\",\"Sekundarstufe II\",\"Obligatorische Schule\",\"Obligatorische Schule\",\"Terti\\u00e4rstufe\",\"Terti\\u00e4rstufe\",\"Terti\\u00e4rstufe\",\"Sekundarstufe II\",\"Sekundarstufe II\",\"Obligatorische Schule\",\"Sekundarstufe II\",\"Obligatorische Schule\",\"Sekundarstufe II\",\"Sekundarstufe II\",\"Sekundarstufe II\",\"Terti\\u00e4rstufe\",\"Terti\\u00e4rstufe\",\"Terti\\u00e4rstufe\",\"Obligatorische Schule\",\"Obligatorische Schule\",\"Sekundarstufe II\",\"Obligatorische Schule\",\"Terti\\u00e4rstufe\",\"Terti\\u00e4rstufe\",\"Terti\\u00e4rstufe\",\"Obligatorische Schule\",\"Sekundarstufe II\",\"Obligatorische Schule\",\"Terti\\u00e4rstufe\",\"15 bis 24\",\"15 bis 24\",\"15 bis 24\",\"25 bis 34\",\"25 bis 34\",\"25 bis 34\",\"35 bis 44\",\"35 bis 44\",\"35 bis 44\",\"45 bis 54\",\"45 bis 54\",\"45 bis 54\",\"55 bis 64\",\"55 bis 64\",\"55 bis 64\",\"65 bis 74\",\"65 bis 74\",\"65 bis 74\",\"75 und \\u00e4lter\",\"75 und \\u00e4lter\",\"75 und \\u00e4lter\",\"Frauen\",\"M\\u00e4nner\",\"Total\",\"2020-01-01\",\"Bildungsstand nach Aufenthaltsart\"],\"marker\":{\"colors\":[\"#00cc96\",\"#ab63fa\",\"#ab63fa\",\"#ab63fa\",\"#ab63fa\",\"#FFA15A\",\"#FFA15A\",\"#FFA15A\",\"#ab63fa\",\"#ab63fa\",\"#19d3f3\",\"#19d3f3\",\"#FF6692\",\"#19d3f3\",\"#19d3f3\",\"#19d3f3\",\"#ab63fa\",\"#ab63fa\",\"#B6E880\",\"#B6E880\",\"#19d3f3\",\"#19d3f3\",\"#FFA15A\",\"#B6E880\",\"#19d3f3\",\"#19d3f3\",\"#B6E880\",\"#B6E880\",\"#00cc96\",\"#FF97FF\",\"#00cc96\",\"#FFA15A\",\"#B6E880\",\"#ab63fa\",\"#B6E880\",\"#00cc96\",\"#FF97FF\",\"#00cc96\",\"#FF97FF\",\"#00cc96\",\"#FF97FF\",\"#00cc96\",\"#FF97FF\",\"#00cc96\",\"#00cc96\",\"#FF97FF\",\"#FF97FF\",\"#FF97FF\",\"#FF6692\",\"#B6E880\",\"#FF6692\",\"#FF6692\",\"#FF97FF\",\"#FF6692\",\"#FFA15A\",\"#FF6692\",\"#FFA15A\",\"#FFA15A\",\"#FF6692\",\"#FFA15A\",\"#FF6692\",\"#FF6692\",\"#B6E880\",\"#00cc96\",\"#00cc96\",\"#00cc96\",\"#FF97FF\",\"#FF97FF\",\"#FF97FF\",\"#FF6692\",\"#FF6692\",\"#FF6692\",\"#FFA15A\",\"#FFA15A\",\"#FFA15A\",\"#ab63fa\",\"#ab63fa\",\"#ab63fa\",\"#19d3f3\",\"#19d3f3\",\"#19d3f3\",\"#B6E880\",\"#B6E880\",\"#B6E880\",\"lightgrey\",\"lightgrey\",\"lightgrey\",\"lightgrey\",\"lightgrey\"]},\"name\":\"\",\"parents\":[\"Bildungsstand nach Aufenthaltsart/2020-01-01/Frauen/15 bis 24\",\"Bildungsstand nach Aufenthaltsart/2020-01-01/Frauen/55 bis 64\",\"Bildungsstand nach Aufenthaltsart/2020-01-01/M\\u00e4nner/55 bis 64\",\"Bildungsstand nach Aufenthaltsart/2020-01-01/M\\u00e4nner/55 bis 64\",\"Bildungsstand nach Aufenthaltsart/2020-01-01/Frauen/55 bis 64\",\"Bildungsstand nach Aufenthaltsart/2020-01-01/Total/45 bis 54\",\"Bildungsstand nach Aufenthaltsart/2020-01-01/M\\u00e4nner/45 bis 54\",\"Bildungsstand nach Aufenthaltsart/2020-01-01/Total/45 bis 54\",\"Bildungsstand nach Aufenthaltsart/2020-01-01/Frauen/55 bis 64\",\"Bildungsstand nach Aufenthaltsart/2020-01-01/Total/55 bis 64\",\"Bildungsstand nach Aufenthaltsart/2020-01-01/Frauen/65 bis 74\",\"Bildungsstand nach Aufenthaltsart/2020-01-01/M\\u00e4nner/65 bis 74\",\"Bildungsstand nach Aufenthaltsart/2020-01-01/Total/35 bis 44\",\"Bildungsstand nach Aufenthaltsart/2020-01-01/Frauen/65 bis 74\",\"Bildungsstand nach Aufenthaltsart/2020-01-01/M\\u00e4nner/65 bis 74\",\"Bildungsstand nach Aufenthaltsart/2020-01-01/Frauen/65 bis 74\",\"Bildungsstand nach Aufenthaltsart/2020-01-01/Total/55 bis 64\",\"Bildungsstand nach Aufenthaltsart/2020-01-01/M\\u00e4nner/55 bis 64\",\"Bildungsstand nach Aufenthaltsart/2020-01-01/Frauen/75 und \\u00e4lter\",\"Bildungsstand nach Aufenthaltsart/2020-01-01/Frauen/75 und \\u00e4lter\",\"Bildungsstand nach Aufenthaltsart/2020-01-01/Total/65 bis 74\",\"Bildungsstand nach Aufenthaltsart/2020-01-01/Total/65 bis 74\",\"Bildungsstand nach Aufenthaltsart/2020-01-01/Total/45 bis 54\",\"Bildungsstand nach Aufenthaltsart/2020-01-01/Frauen/75 und \\u00e4lter\",\"Bildungsstand nach Aufenthaltsart/2020-01-01/Total/65 bis 74\",\"Bildungsstand nach Aufenthaltsart/2020-01-01/M\\u00e4nner/65 bis 74\",\"Bildungsstand nach Aufenthaltsart/2020-01-01/M\\u00e4nner/75 und \\u00e4lter\",\"Bildungsstand nach Aufenthaltsart/2020-01-01/Total/75 und \\u00e4lter\",\"Bildungsstand nach Aufenthaltsart/2020-01-01/Frauen/15 bis 24\",\"Bildungsstand nach Aufenthaltsart/2020-01-01/M\\u00e4nner/25 bis 34\",\"Bildungsstand nach Aufenthaltsart/2020-01-01/M\\u00e4nner/15 bis 24\",\"Bildungsstand nach Aufenthaltsart/2020-01-01/M\\u00e4nner/45 bis 54\",\"Bildungsstand nach Aufenthaltsart/2020-01-01/M\\u00e4nner/75 und \\u00e4lter\",\"Bildungsstand nach Aufenthaltsart/2020-01-01/Total/55 bis 64\",\"Bildungsstand nach Aufenthaltsart/2020-01-01/Total/75 und \\u00e4lter\",\"Bildungsstand nach Aufenthaltsart/2020-01-01/Frauen/15 bis 24\",\"Bildungsstand nach Aufenthaltsart/2020-01-01/Frauen/25 bis 34\",\"Bildungsstand nach Aufenthaltsart/2020-01-01/Total/15 bis 24\",\"Bildungsstand nach Aufenthaltsart/2020-01-01/Frauen/25 bis 34\",\"Bildungsstand nach Aufenthaltsart/2020-01-01/Total/15 bis 24\",\"Bildungsstand nach Aufenthaltsart/2020-01-01/Total/25 bis 34\",\"Bildungsstand nach Aufenthaltsart/2020-01-01/Total/15 bis 24\",\"Bildungsstand nach Aufenthaltsart/2020-01-01/Frauen/25 bis 34\",\"Bildungsstand nach Aufenthaltsart/2020-01-01/M\\u00e4nner/15 bis 24\",\"Bildungsstand nach Aufenthaltsart/2020-01-01/M\\u00e4nner/15 bis 24\",\"Bildungsstand nach Aufenthaltsart/2020-01-01/Total/25 bis 34\",\"Bildungsstand nach Aufenthaltsart/2020-01-01/M\\u00e4nner/25 bis 34\",\"Bildungsstand nach Aufenthaltsart/2020-01-01/Total/25 bis 34\",\"Bildungsstand nach Aufenthaltsart/2020-01-01/Frauen/35 bis 44\",\"Bildungsstand nach Aufenthaltsart/2020-01-01/M\\u00e4nner/75 und \\u00e4lter\",\"Bildungsstand nach Aufenthaltsart/2020-01-01/Frauen/35 bis 44\",\"Bildungsstand nach Aufenthaltsart/2020-01-01/M\\u00e4nner/35 bis 44\",\"Bildungsstand nach Aufenthaltsart/2020-01-01/M\\u00e4nner/25 bis 34\",\"Bildungsstand nach Aufenthaltsart/2020-01-01/Frauen/35 bis 44\",\"Bildungsstand nach Aufenthaltsart/2020-01-01/Frauen/45 bis 54\",\"Bildungsstand nach Aufenthaltsart/2020-01-01/Total/35 bis 44\",\"Bildungsstand nach Aufenthaltsart/2020-01-01/M\\u00e4nner/45 bis 54\",\"Bildungsstand nach Aufenthaltsart/2020-01-01/Frauen/45 bis 54\",\"Bildungsstand nach Aufenthaltsart/2020-01-01/Total/35 bis 44\",\"Bildungsstand nach Aufenthaltsart/2020-01-01/Frauen/45 bis 54\",\"Bildungsstand nach Aufenthaltsart/2020-01-01/M\\u00e4nner/35 bis 44\",\"Bildungsstand nach Aufenthaltsart/2020-01-01/M\\u00e4nner/35 bis 44\",\"Bildungsstand nach Aufenthaltsart/2020-01-01/Total/75 und \\u00e4lter\",\"Bildungsstand nach Aufenthaltsart/2020-01-01/Frauen\",\"Bildungsstand nach Aufenthaltsart/2020-01-01/M\\u00e4nner\",\"Bildungsstand nach Aufenthaltsart/2020-01-01/Total\",\"Bildungsstand nach Aufenthaltsart/2020-01-01/Frauen\",\"Bildungsstand nach Aufenthaltsart/2020-01-01/M\\u00e4nner\",\"Bildungsstand nach Aufenthaltsart/2020-01-01/Total\",\"Bildungsstand nach Aufenthaltsart/2020-01-01/Frauen\",\"Bildungsstand nach Aufenthaltsart/2020-01-01/M\\u00e4nner\",\"Bildungsstand nach Aufenthaltsart/2020-01-01/Total\",\"Bildungsstand nach Aufenthaltsart/2020-01-01/Frauen\",\"Bildungsstand nach Aufenthaltsart/2020-01-01/M\\u00e4nner\",\"Bildungsstand nach Aufenthaltsart/2020-01-01/Total\",\"Bildungsstand nach Aufenthaltsart/2020-01-01/Frauen\",\"Bildungsstand nach Aufenthaltsart/2020-01-01/M\\u00e4nner\",\"Bildungsstand nach Aufenthaltsart/2020-01-01/Total\",\"Bildungsstand nach Aufenthaltsart/2020-01-01/Frauen\",\"Bildungsstand nach Aufenthaltsart/2020-01-01/M\\u00e4nner\",\"Bildungsstand nach Aufenthaltsart/2020-01-01/Total\",\"Bildungsstand nach Aufenthaltsart/2020-01-01/Frauen\",\"Bildungsstand nach Aufenthaltsart/2020-01-01/M\\u00e4nner\",\"Bildungsstand nach Aufenthaltsart/2020-01-01/Total\",\"Bildungsstand nach Aufenthaltsart/2020-01-01\",\"Bildungsstand nach Aufenthaltsart/2020-01-01\",\"Bildungsstand nach Aufenthaltsart/2020-01-01\",\"Bildungsstand nach Aufenthaltsart\",\"\"],\"values\":[37.1,34.9,28.2,50.6,43.7,59.8,13.7,15.4,21.3,31.6,45.8,39.8,20.7,22.6,47.8,31.6,47.2,21.2,49.2,20.7,39.1,43.0,24.9,30.0,17.9,12.4,47.8,48.7,17.0,76.0,15.6,25.2,13.4,21.2,23.5,45.9,6.0,39.2,77.0,16.3,76.5,44.5,17.0,41.1,43.2,6.4,17.2,17.1,20.6,38.8,71.6,70.0,6.8,7.8,24.4,8.5,61.0,58.4,70.8,17.2,20.7,9.3,27.8,100.0,99.9,100.0,100.0,100.0,100.0,100.0,100.0,100.0,100.0,99.9,100.1,99.9,100.0,100.0,100.0,100.0,100.0,99.9,100.0,100.0,699.8,699.8,700.1,2099.7,2099.7],\"type\":\"treemap\",\"root\":{\"color\":\"grey\"}}],                        {\"template\":{\"data\":{\"bar\":[{\"error_x\":{\"color\":\"#2a3f5f\"},\"error_y\":{\"color\":\"#2a3f5f\"},\"marker\":{\"line\":{\"color\":\"#E5ECF6\",\"width\":0.5},\"pattern\":{\"fillmode\":\"overlay\",\"size\":10,\"solidity\":0.2}},\"type\":\"bar\"}],\"barpolar\":[{\"marker\":{\"line\":{\"color\":\"#E5ECF6\",\"width\":0.5},\"pattern\":{\"fillmode\":\"overlay\",\"size\":10,\"solidity\":0.2}},\"type\":\"barpolar\"}],\"carpet\":[{\"aaxis\":{\"endlinecolor\":\"#2a3f5f\",\"gridcolor\":\"white\",\"linecolor\":\"white\",\"minorgridcolor\":\"white\",\"startlinecolor\":\"#2a3f5f\"},\"baxis\":{\"endlinecolor\":\"#2a3f5f\",\"gridcolor\":\"white\",\"linecolor\":\"white\",\"minorgridcolor\":\"white\",\"startlinecolor\":\"#2a3f5f\"},\"type\":\"carpet\"}],\"choropleth\":[{\"colorbar\":{\"outlinewidth\":0,\"ticks\":\"\"},\"type\":\"choropleth\"}],\"contour\":[{\"colorbar\":{\"outlinewidth\":0,\"ticks\":\"\"},\"colorscale\":[[0.0,\"#0d0887\"],[0.1111111111111111,\"#46039f\"],[0.2222222222222222,\"#7201a8\"],[0.3333333333333333,\"#9c179e\"],[0.4444444444444444,\"#bd3786\"],[0.5555555555555556,\"#d8576b\"],[0.6666666666666666,\"#ed7953\"],[0.7777777777777778,\"#fb9f3a\"],[0.8888888888888888,\"#fdca26\"],[1.0,\"#f0f921\"]],\"type\":\"contour\"}],\"contourcarpet\":[{\"colorbar\":{\"outlinewidth\":0,\"ticks\":\"\"},\"type\":\"contourcarpet\"}],\"heatmap\":[{\"colorbar\":{\"outlinewidth\":0,\"ticks\":\"\"},\"colorscale\":[[0.0,\"#0d0887\"],[0.1111111111111111,\"#46039f\"],[0.2222222222222222,\"#7201a8\"],[0.3333333333333333,\"#9c179e\"],[0.4444444444444444,\"#bd3786\"],[0.5555555555555556,\"#d8576b\"],[0.6666666666666666,\"#ed7953\"],[0.7777777777777778,\"#fb9f3a\"],[0.8888888888888888,\"#fdca26\"],[1.0,\"#f0f921\"]],\"type\":\"heatmap\"}],\"heatmapgl\":[{\"colorbar\":{\"outlinewidth\":0,\"ticks\":\"\"},\"colorscale\":[[0.0,\"#0d0887\"],[0.1111111111111111,\"#46039f\"],[0.2222222222222222,\"#7201a8\"],[0.3333333333333333,\"#9c179e\"],[0.4444444444444444,\"#bd3786\"],[0.5555555555555556,\"#d8576b\"],[0.6666666666666666,\"#ed7953\"],[0.7777777777777778,\"#fb9f3a\"],[0.8888888888888888,\"#fdca26\"],[1.0,\"#f0f921\"]],\"type\":\"heatmapgl\"}],\"histogram\":[{\"marker\":{\"pattern\":{\"fillmode\":\"overlay\",\"size\":10,\"solidity\":0.2}},\"type\":\"histogram\"}],\"histogram2d\":[{\"colorbar\":{\"outlinewidth\":0,\"ticks\":\"\"},\"colorscale\":[[0.0,\"#0d0887\"],[0.1111111111111111,\"#46039f\"],[0.2222222222222222,\"#7201a8\"],[0.3333333333333333,\"#9c179e\"],[0.4444444444444444,\"#bd3786\"],[0.5555555555555556,\"#d8576b\"],[0.6666666666666666,\"#ed7953\"],[0.7777777777777778,\"#fb9f3a\"],[0.8888888888888888,\"#fdca26\"],[1.0,\"#f0f921\"]],\"type\":\"histogram2d\"}],\"histogram2dcontour\":[{\"colorbar\":{\"outlinewidth\":0,\"ticks\":\"\"},\"colorscale\":[[0.0,\"#0d0887\"],[0.1111111111111111,\"#46039f\"],[0.2222222222222222,\"#7201a8\"],[0.3333333333333333,\"#9c179e\"],[0.4444444444444444,\"#bd3786\"],[0.5555555555555556,\"#d8576b\"],[0.6666666666666666,\"#ed7953\"],[0.7777777777777778,\"#fb9f3a\"],[0.8888888888888888,\"#fdca26\"],[1.0,\"#f0f921\"]],\"type\":\"histogram2dcontour\"}],\"mesh3d\":[{\"colorbar\":{\"outlinewidth\":0,\"ticks\":\"\"},\"type\":\"mesh3d\"}],\"parcoords\":[{\"line\":{\"colorbar\":{\"outlinewidth\":0,\"ticks\":\"\"}},\"type\":\"parcoords\"}],\"pie\":[{\"automargin\":true,\"type\":\"pie\"}],\"scatter\":[{\"marker\":{\"colorbar\":{\"outlinewidth\":0,\"ticks\":\"\"}},\"type\":\"scatter\"}],\"scatter3d\":[{\"line\":{\"colorbar\":{\"outlinewidth\":0,\"ticks\":\"\"}},\"marker\":{\"colorbar\":{\"outlinewidth\":0,\"ticks\":\"\"}},\"type\":\"scatter3d\"}],\"scattercarpet\":[{\"marker\":{\"colorbar\":{\"outlinewidth\":0,\"ticks\":\"\"}},\"type\":\"scattercarpet\"}],\"scattergeo\":[{\"marker\":{\"colorbar\":{\"outlinewidth\":0,\"ticks\":\"\"}},\"type\":\"scattergeo\"}],\"scattergl\":[{\"marker\":{\"colorbar\":{\"outlinewidth\":0,\"ticks\":\"\"}},\"type\":\"scattergl\"}],\"scattermapbox\":[{\"marker\":{\"colorbar\":{\"outlinewidth\":0,\"ticks\":\"\"}},\"type\":\"scattermapbox\"}],\"scatterpolar\":[{\"marker\":{\"colorbar\":{\"outlinewidth\":0,\"ticks\":\"\"}},\"type\":\"scatterpolar\"}],\"scatterpolargl\":[{\"marker\":{\"colorbar\":{\"outlinewidth\":0,\"ticks\":\"\"}},\"type\":\"scatterpolargl\"}],\"scatterternary\":[{\"marker\":{\"colorbar\":{\"outlinewidth\":0,\"ticks\":\"\"}},\"type\":\"scatterternary\"}],\"surface\":[{\"colorbar\":{\"outlinewidth\":0,\"ticks\":\"\"},\"colorscale\":[[0.0,\"#0d0887\"],[0.1111111111111111,\"#46039f\"],[0.2222222222222222,\"#7201a8\"],[0.3333333333333333,\"#9c179e\"],[0.4444444444444444,\"#bd3786\"],[0.5555555555555556,\"#d8576b\"],[0.6666666666666666,\"#ed7953\"],[0.7777777777777778,\"#fb9f3a\"],[0.8888888888888888,\"#fdca26\"],[1.0,\"#f0f921\"]],\"type\":\"surface\"}],\"table\":[{\"cells\":{\"fill\":{\"color\":\"#EBF0F8\"},\"line\":{\"color\":\"white\"}},\"header\":{\"fill\":{\"color\":\"#C8D4E3\"},\"line\":{\"color\":\"white\"}},\"type\":\"table\"}]},\"layout\":{\"annotationdefaults\":{\"arrowcolor\":\"#2a3f5f\",\"arrowhead\":0,\"arrowwidth\":1},\"autotypenumbers\":\"strict\",\"coloraxis\":{\"colorbar\":{\"outlinewidth\":0,\"ticks\":\"\"}},\"colorscale\":{\"diverging\":[[0,\"#8e0152\"],[0.1,\"#c51b7d\"],[0.2,\"#de77ae\"],[0.3,\"#f1b6da\"],[0.4,\"#fde0ef\"],[0.5,\"#f7f7f7\"],[0.6,\"#e6f5d0\"],[0.7,\"#b8e186\"],[0.8,\"#7fbc41\"],[0.9,\"#4d9221\"],[1,\"#276419\"]],\"sequential\":[[0.0,\"#0d0887\"],[0.1111111111111111,\"#46039f\"],[0.2222222222222222,\"#7201a8\"],[0.3333333333333333,\"#9c179e\"],[0.4444444444444444,\"#bd3786\"],[0.5555555555555556,\"#d8576b\"],[0.6666666666666666,\"#ed7953\"],[0.7777777777777778,\"#fb9f3a\"],[0.8888888888888888,\"#fdca26\"],[1.0,\"#f0f921\"]],\"sequentialminus\":[[0.0,\"#0d0887\"],[0.1111111111111111,\"#46039f\"],[0.2222222222222222,\"#7201a8\"],[0.3333333333333333,\"#9c179e\"],[0.4444444444444444,\"#bd3786\"],[0.5555555555555556,\"#d8576b\"],[0.6666666666666666,\"#ed7953\"],[0.7777777777777778,\"#fb9f3a\"],[0.8888888888888888,\"#fdca26\"],[1.0,\"#f0f921\"]]},\"colorway\":[\"#636efa\",\"#EF553B\",\"#00cc96\",\"#ab63fa\",\"#FFA15A\",\"#19d3f3\",\"#FF6692\",\"#B6E880\",\"#FF97FF\",\"#FECB52\"],\"font\":{\"color\":\"#2a3f5f\"},\"geo\":{\"bgcolor\":\"white\",\"lakecolor\":\"white\",\"landcolor\":\"#E5ECF6\",\"showlakes\":true,\"showland\":true,\"subunitcolor\":\"white\"},\"hoverlabel\":{\"align\":\"left\"},\"hovermode\":\"closest\",\"mapbox\":{\"style\":\"light\"},\"paper_bgcolor\":\"white\",\"plot_bgcolor\":\"#E5ECF6\",\"polar\":{\"angularaxis\":{\"gridcolor\":\"white\",\"linecolor\":\"white\",\"ticks\":\"\"},\"bgcolor\":\"#E5ECF6\",\"radialaxis\":{\"gridcolor\":\"white\",\"linecolor\":\"white\",\"ticks\":\"\"}},\"scene\":{\"xaxis\":{\"backgroundcolor\":\"#E5ECF6\",\"gridcolor\":\"white\",\"gridwidth\":2,\"linecolor\":\"white\",\"showbackground\":true,\"ticks\":\"\",\"zerolinecolor\":\"white\"},\"yaxis\":{\"backgroundcolor\":\"#E5ECF6\",\"gridcolor\":\"white\",\"gridwidth\":2,\"linecolor\":\"white\",\"showbackground\":true,\"ticks\":\"\",\"zerolinecolor\":\"white\"},\"zaxis\":{\"backgroundcolor\":\"#E5ECF6\",\"gridcolor\":\"white\",\"gridwidth\":2,\"linecolor\":\"white\",\"showbackground\":true,\"ticks\":\"\",\"zerolinecolor\":\"white\"}},\"shapedefaults\":{\"line\":{\"color\":\"#2a3f5f\"}},\"ternary\":{\"aaxis\":{\"gridcolor\":\"white\",\"linecolor\":\"white\",\"ticks\":\"\"},\"baxis\":{\"gridcolor\":\"white\",\"linecolor\":\"white\",\"ticks\":\"\"},\"bgcolor\":\"#E5ECF6\",\"caxis\":{\"gridcolor\":\"white\",\"linecolor\":\"white\",\"ticks\":\"\"}},\"title\":{\"x\":0.05},\"xaxis\":{\"automargin\":true,\"gridcolor\":\"white\",\"linecolor\":\"white\",\"ticks\":\"\",\"title\":{\"standoff\":15},\"zerolinecolor\":\"white\",\"zerolinewidth\":2},\"yaxis\":{\"automargin\":true,\"gridcolor\":\"white\",\"linecolor\":\"white\",\"ticks\":\"\",\"title\":{\"standoff\":15},\"zerolinecolor\":\"white\",\"zerolinewidth\":2}}},\"legend\":{\"tracegroupgap\":0},\"margin\":{\"t\":50,\"l\":25,\"r\":250,\"b\":25},\"height\":400,\"width\":1100},                        {\"responsive\": true}                    ).then(function(){\n",
       "                            \n",
       "var gd = document.getElementById('5308008a-6ce3-4a50-8035-3be0fcb468da');\n",
       "var x = new MutationObserver(function (mutations, observer) {{\n",
       "        var display = window.getComputedStyle(gd).display;\n",
       "        if (!display || display === 'none') {{\n",
       "            console.log([gd, 'removed!']);\n",
       "            Plotly.purge(gd);\n",
       "            observer.disconnect();\n",
       "        }}\n",
       "}});\n",
       "\n",
       "// Listen for the removal of the full notebook cells\n",
       "var notebookContainer = gd.closest('#notebook-container');\n",
       "if (notebookContainer) {{\n",
       "    x.observe(notebookContainer, {childList: true});\n",
       "}}\n",
       "\n",
       "// Listen for the clearing of the current output cell\n",
       "var outputEl = gd.closest('.output');\n",
       "if (outputEl) {{\n",
       "    x.observe(outputEl, {childList: true});\n",
       "}}\n",
       "\n",
       "                        })                };                });            </script>        </div>"
      ]
     },
     "metadata": {},
     "output_type": "display_data"
    }
   ],
   "source": [
    "#myTitle=\"Bildungsstand nach ...\"\n",
    "\n",
    "fig = px.treemap(myTreemapAgg.reset_index(), path=[px.Constant(myTitle), 'Jahr_str','SexLang', 'AlterLang', 'Bildungsstand']\n",
    "                 , values='mean_AntBev'\n",
    "                 , color='AlterLang'\n",
    "                 ## bei discrete scales (bei Klassen und Strings):                 \n",
    "                 , color_discrete_map={'(?)':'lightgrey','EVP':'gold', 'SP':'#FF3030', 'PdA':'#EE3B3B', 'Grüne':'#A2CD5A','GLP':'#CAFF70','Die Mitte':'orange','FDP':'#104E8B','AL':'deeppink','SVP':'forestgreen', 'FL ZÜRI':'#8B864E','Volt':'#lightblue' }                \n",
    "                 ## bei continuous scales (bei Zahlenwerten):\n",
    "                , color_continuous_scale='Blues'\n",
    "                #, color_continuous_midpoint=np.average(df['AnzBestWir'], weights=df['AnzBestWir'])  \n",
    "                 ,height=400\n",
    "                 ,width=1100                 \n",
    "                )\n",
    "fig.update_traces(root_color=\"grey\")\n",
    "fig.update_layout(margin = dict(t=50, l=25, r=250, b=25))\n",
    "fig.show()"
   ]
  },
  {
   "cell_type": "markdown",
   "metadata": {
    "tags": []
   },
   "source": [
    "\n",
    "\n"
   ]
  },
  {
   "cell_type": "code",
   "execution_count": null,
   "metadata": {},
   "outputs": [],
   "source": []
  }
 ],
 "metadata": {
  "kernelspec": {
   "display_name": "Python 3 (ipykernel)",
   "language": "python",
   "name": "python3"
  },
  "language_info": {
   "codemirror_mode": {
    "name": "ipython",
    "version": 3
   },
   "file_extension": ".py",
   "mimetype": "text/x-python",
   "name": "python",
   "nbconvert_exporter": "python",
   "pygments_lexer": "ipython3",
   "version": "3.7.11"
  }
 },
 "nbformat": 4,
 "nbformat_minor": 4
}
