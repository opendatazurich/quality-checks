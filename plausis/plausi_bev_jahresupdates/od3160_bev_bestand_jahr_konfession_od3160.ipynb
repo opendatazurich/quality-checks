{
 "cells": [
  {
   "cell_type": "markdown",
   "metadata": {},
   "source": [
    "**Importiere die notwendigen Packages**"
   ]
  },
  {
   "cell_type": "code",
   "execution_count": 1,
   "metadata": {},
   "outputs": [],
   "source": [
    "import pandas as pd\n",
    "import pivottablejs\n",
    "from pivottablejs import pivot_ui\n",
    "import numpy as np\n",
    "import altair as alt\n",
    "import matplotlib.pyplot as plt\n",
    "from datetime import datetime\n",
    "import geopandas as gpd\n",
    "import folium \n",
    "\n"
   ]
  },
  {
   "cell_type": "markdown",
   "metadata": {},
   "source": [
    "Definiere Settings. Hier das Zahlenformat von Float-Werten (z.B. *'{:,.2f}'.format* mit Komma als Tausenderzeichen), "
   ]
  },
  {
   "cell_type": "code",
   "execution_count": 2,
   "metadata": {},
   "outputs": [],
   "source": [
    "pd.options.display.float_format = '{:.0f}'.format\n",
    "pd.set_option('display.width', 100)\n",
    "pd.set_option('display.max_columns', 15)"
   ]
  },
  {
   "cell_type": "markdown",
   "metadata": {},
   "source": [
    "Importiere einen Datensatz von der **DWH_INT** Dropzone.\n",
    "\n",
    "- Beachte dabei die Notation des Pfades...\n",
    "- Definiere mal aktuell noch keine weiteren Parameter beim Import"
   ]
  },
  {
   "cell_type": "markdown",
   "metadata": {},
   "source": [
    "**Dataset auf INTEG Datenkatalog**: https://data.integ.stadt-zuerich.ch/dataset/int_dwh_bev_bestand_jahr_konfession_od3160\n",
    "\n",
    "(int_dwh)"
   ]
  },
  {
   "cell_type": "code",
   "execution_count": 3,
   "metadata": {},
   "outputs": [],
   "source": [
    "# Filepath\n",
    "fp = r\"//szh.loc/ssz/applikationen/OGD_Dropzone/INT_DWH/bev_bestand_jahr_konfession_OD3160/BEV316OD3160.csv\"\n",
    "\n",
    "\n",
    "# Read the data\n",
    "data2betested = pd.read_csv(\n",
    "    fp, \n",
    "    sep=',',\n",
    "   #usecols=[0,1,2,3,4,6],\n",
    "   #names=['stationid','year','month','avgtemp','latitude','longitude','elevation','station','countryid','country'],\n",
    "   #skiprows=1,\n",
    "   # parse_dates=[0],\n",
    "    parse_dates=True,\n",
    "    #date_parser=lambda x: pd.to_datetime(x, format=\"%Y\"), \n",
    "    #index_col=\"date_time\",\n",
    "    low_memory=False    \n",
    "    )\n"
   ]
  },
  {
   "cell_type": "markdown",
   "metadata": {},
   "source": [
    "In der Folge ein paar erste Tests:"
   ]
  },
  {
   "cell_type": "code",
   "execution_count": 4,
   "metadata": {},
   "outputs": [
    {
     "data": {
      "text/plain": [
       "pandas.core.frame.DataFrame"
      ]
     },
     "execution_count": 4,
     "metadata": {},
     "output_type": "execute_result"
    }
   ],
   "source": [
    "type(data2betested)"
   ]
  },
  {
   "cell_type": "markdown",
   "metadata": {},
   "source": [
    " - 1) Zeige eine kurze Vorschau der importierten Daten\n",
    " - 2) Weise die Datentypen aus\n",
    " - 3) Zeige die Shape (Umfang) des Datensatzes an"
   ]
  },
  {
   "cell_type": "code",
   "execution_count": 5,
   "metadata": {},
   "outputs": [
    {
     "data": {
      "text/html": [
       "<div>\n",
       "<style scoped>\n",
       "    .dataframe tbody tr th:only-of-type {\n",
       "        vertical-align: middle;\n",
       "    }\n",
       "\n",
       "    .dataframe tbody tr th {\n",
       "        vertical-align: top;\n",
       "    }\n",
       "\n",
       "    .dataframe thead th {\n",
       "        text-align: right;\n",
       "    }\n",
       "</style>\n",
       "<table border=\"1\" class=\"dataframe\">\n",
       "  <thead>\n",
       "    <tr style=\"text-align: right;\">\n",
       "      <th></th>\n",
       "      <th>StichtagDatJahr</th>\n",
       "      <th>KonOGDSort</th>\n",
       "      <th>KonOGDKurz</th>\n",
       "      <th>AnzBestWir</th>\n",
       "    </tr>\n",
       "  </thead>\n",
       "  <tbody>\n",
       "    <tr>\n",
       "      <th>0</th>\n",
       "      <td>1934</td>\n",
       "      <td>4</td>\n",
       "      <td>andere Konf.</td>\n",
       "      <td>14767</td>\n",
       "    </tr>\n",
       "    <tr>\n",
       "      <th>1</th>\n",
       "      <td>1934</td>\n",
       "      <td>1</td>\n",
       "      <td>EV-REF</td>\n",
       "      <td>208357</td>\n",
       "    </tr>\n",
       "    <tr>\n",
       "      <th>2</th>\n",
       "      <td>1934</td>\n",
       "      <td>2</td>\n",
       "      <td>RK</td>\n",
       "      <td>92740</td>\n",
       "    </tr>\n",
       "  </tbody>\n",
       "</table>\n",
       "</div>"
      ],
      "text/plain": [
       "   StichtagDatJahr  KonOGDSort    KonOGDKurz  AnzBestWir\n",
       "0             1934           4  andere Konf.       14767\n",
       "1             1934           1        EV-REF      208357\n",
       "2             1934           2            RK       92740"
      ]
     },
     "execution_count": 5,
     "metadata": {},
     "output_type": "execute_result"
    }
   ],
   "source": [
    "data2betested.head(3)"
   ]
  },
  {
   "cell_type": "code",
   "execution_count": 6,
   "metadata": {},
   "outputs": [
    {
     "data": {
      "text/plain": [
       "StichtagDatJahr     int64\n",
       "KonOGDSort          int64\n",
       "KonOGDKurz         object\n",
       "AnzBestWir          int64\n",
       "dtype: object"
      ]
     },
     "execution_count": 6,
     "metadata": {},
     "output_type": "execute_result"
    }
   ],
   "source": [
    "data2betested.dtypes"
   ]
  },
  {
   "cell_type": "code",
   "execution_count": 7,
   "metadata": {},
   "outputs": [
    {
     "data": {
      "text/plain": [
       "(261, 4)"
      ]
     },
     "execution_count": 7,
     "metadata": {},
     "output_type": "execute_result"
    }
   ],
   "source": [
    "data2betested.shape"
   ]
  },
  {
   "cell_type": "markdown",
   "metadata": {},
   "source": [
    "Beschreibe einzelne Attribute"
   ]
  },
  {
   "cell_type": "code",
   "execution_count": 8,
   "metadata": {},
   "outputs": [
    {
     "data": {
      "text/html": [
       "<div>\n",
       "<style scoped>\n",
       "    .dataframe tbody tr th:only-of-type {\n",
       "        vertical-align: middle;\n",
       "    }\n",
       "\n",
       "    .dataframe tbody tr th {\n",
       "        vertical-align: top;\n",
       "    }\n",
       "\n",
       "    .dataframe thead th {\n",
       "        text-align: right;\n",
       "    }\n",
       "</style>\n",
       "<table border=\"1\" class=\"dataframe\">\n",
       "  <thead>\n",
       "    <tr style=\"text-align: right;\">\n",
       "      <th></th>\n",
       "      <th>StichtagDatJahr</th>\n",
       "      <th>KonOGDSort</th>\n",
       "      <th>AnzBestWir</th>\n",
       "    </tr>\n",
       "  </thead>\n",
       "  <tbody>\n",
       "    <tr>\n",
       "      <th>count</th>\n",
       "      <td>261</td>\n",
       "      <td>261</td>\n",
       "      <td>261</td>\n",
       "    </tr>\n",
       "    <tr>\n",
       "      <th>mean</th>\n",
       "      <td>1977</td>\n",
       "      <td>2</td>\n",
       "      <td>127833</td>\n",
       "    </tr>\n",
       "    <tr>\n",
       "      <th>std</th>\n",
       "      <td>25</td>\n",
       "      <td>1</td>\n",
       "      <td>70869</td>\n",
       "    </tr>\n",
       "    <tr>\n",
       "      <th>min</th>\n",
       "      <td>1934</td>\n",
       "      <td>1</td>\n",
       "      <td>13634</td>\n",
       "    </tr>\n",
       "    <tr>\n",
       "      <th>25%</th>\n",
       "      <td>1955</td>\n",
       "      <td>1</td>\n",
       "      <td>91710</td>\n",
       "    </tr>\n",
       "    <tr>\n",
       "      <th>50%</th>\n",
       "      <td>1977</td>\n",
       "      <td>2</td>\n",
       "      <td>123908</td>\n",
       "    </tr>\n",
       "    <tr>\n",
       "      <th>75%</th>\n",
       "      <td>1999</td>\n",
       "      <td>4</td>\n",
       "      <td>163530</td>\n",
       "    </tr>\n",
       "    <tr>\n",
       "      <th>max</th>\n",
       "      <td>2020</td>\n",
       "      <td>4</td>\n",
       "      <td>266818</td>\n",
       "    </tr>\n",
       "  </tbody>\n",
       "</table>\n",
       "</div>"
      ],
      "text/plain": [
       "       StichtagDatJahr  KonOGDSort  AnzBestWir\n",
       "count              261         261         261\n",
       "mean              1977           2      127833\n",
       "std                 25           1       70869\n",
       "min               1934           1       13634\n",
       "25%               1955           1       91710\n",
       "50%               1977           2      123908\n",
       "75%               1999           4      163530\n",
       "max               2020           4      266818"
      ]
     },
     "execution_count": 8,
     "metadata": {},
     "output_type": "execute_result"
    }
   ],
   "source": [
    "data2betested.describe()"
   ]
  },
  {
   "cell_type": "markdown",
   "metadata": {},
   "source": [
    "Wie viele Nullwerte gibt es im Datensatz?"
   ]
  },
  {
   "cell_type": "code",
   "execution_count": 9,
   "metadata": {
    "scrolled": true
   },
   "outputs": [
    {
     "data": {
      "text/plain": [
       "StichtagDatJahr    0\n",
       "KonOGDSort         0\n",
       "KonOGDKurz         0\n",
       "AnzBestWir         0\n",
       "dtype: int64"
      ]
     },
     "execution_count": 9,
     "metadata": {},
     "output_type": "execute_result"
    }
   ],
   "source": [
    "data2betested.isnull().sum()"
   ]
  },
  {
   "cell_type": "markdown",
   "metadata": {},
   "source": [
    "Wandle die Spalte Jahr von Int zu **Datetime** um. Dies wird in den meisten Grafiken so benötigt."
   ]
  },
  {
   "cell_type": "code",
   "execution_count": 10,
   "metadata": {
    "scrolled": true
   },
   "outputs": [
    {
     "data": {
      "text/html": [
       "<div>\n",
       "<style scoped>\n",
       "    .dataframe tbody tr th:only-of-type {\n",
       "        vertical-align: middle;\n",
       "    }\n",
       "\n",
       "    .dataframe tbody tr th {\n",
       "        vertical-align: top;\n",
       "    }\n",
       "\n",
       "    .dataframe thead th {\n",
       "        text-align: right;\n",
       "    }\n",
       "</style>\n",
       "<table border=\"1\" class=\"dataframe\">\n",
       "  <thead>\n",
       "    <tr style=\"text-align: right;\">\n",
       "      <th></th>\n",
       "      <th>StichtagDatJahr</th>\n",
       "      <th>KonOGDSort</th>\n",
       "      <th>KonOGDKurz</th>\n",
       "      <th>AnzBestWir</th>\n",
       "    </tr>\n",
       "  </thead>\n",
       "  <tbody>\n",
       "    <tr>\n",
       "      <th>0</th>\n",
       "      <td>1934-01-01</td>\n",
       "      <td>4</td>\n",
       "      <td>andere Konf.</td>\n",
       "      <td>14767</td>\n",
       "    </tr>\n",
       "    <tr>\n",
       "      <th>1</th>\n",
       "      <td>1934-01-01</td>\n",
       "      <td>1</td>\n",
       "      <td>EV-REF</td>\n",
       "      <td>208357</td>\n",
       "    </tr>\n",
       "    <tr>\n",
       "      <th>2</th>\n",
       "      <td>1934-01-01</td>\n",
       "      <td>2</td>\n",
       "      <td>RK</td>\n",
       "      <td>92740</td>\n",
       "    </tr>\n",
       "    <tr>\n",
       "      <th>3</th>\n",
       "      <td>1935-01-01</td>\n",
       "      <td>4</td>\n",
       "      <td>andere Konf.</td>\n",
       "      <td>14504</td>\n",
       "    </tr>\n",
       "    <tr>\n",
       "      <th>4</th>\n",
       "      <td>1935-01-01</td>\n",
       "      <td>2</td>\n",
       "      <td>RK</td>\n",
       "      <td>93184</td>\n",
       "    </tr>\n",
       "    <tr>\n",
       "      <th>...</th>\n",
       "      <td>...</td>\n",
       "      <td>...</td>\n",
       "      <td>...</td>\n",
       "      <td>...</td>\n",
       "    </tr>\n",
       "    <tr>\n",
       "      <th>256</th>\n",
       "      <td>2019-01-01</td>\n",
       "      <td>1</td>\n",
       "      <td>EV-REF</td>\n",
       "      <td>84059</td>\n",
       "    </tr>\n",
       "    <tr>\n",
       "      <th>257</th>\n",
       "      <td>2019-01-01</td>\n",
       "      <td>4</td>\n",
       "      <td>andere Konf.</td>\n",
       "      <td>239320</td>\n",
       "    </tr>\n",
       "    <tr>\n",
       "      <th>258</th>\n",
       "      <td>2020-01-01</td>\n",
       "      <td>2</td>\n",
       "      <td>RK</td>\n",
       "      <td>108020</td>\n",
       "    </tr>\n",
       "    <tr>\n",
       "      <th>259</th>\n",
       "      <td>2020-01-01</td>\n",
       "      <td>1</td>\n",
       "      <td>EV-REF</td>\n",
       "      <td>81727</td>\n",
       "    </tr>\n",
       "    <tr>\n",
       "      <th>260</th>\n",
       "      <td>2020-01-01</td>\n",
       "      <td>4</td>\n",
       "      <td>andere Konf.</td>\n",
       "      <td>244989</td>\n",
       "    </tr>\n",
       "  </tbody>\n",
       "</table>\n",
       "<p>261 rows × 4 columns</p>\n",
       "</div>"
      ],
      "text/plain": [
       "    StichtagDatJahr  KonOGDSort    KonOGDKurz  AnzBestWir\n",
       "0        1934-01-01           4  andere Konf.       14767\n",
       "1        1934-01-01           1        EV-REF      208357\n",
       "2        1934-01-01           2            RK       92740\n",
       "3        1935-01-01           4  andere Konf.       14504\n",
       "4        1935-01-01           2            RK       93184\n",
       "..              ...         ...           ...         ...\n",
       "256      2019-01-01           1        EV-REF       84059\n",
       "257      2019-01-01           4  andere Konf.      239320\n",
       "258      2020-01-01           2            RK      108020\n",
       "259      2020-01-01           1        EV-REF       81727\n",
       "260      2020-01-01           4  andere Konf.      244989\n",
       "\n",
       "[261 rows x 4 columns]"
      ]
     },
     "execution_count": 10,
     "metadata": {},
     "output_type": "execute_result"
    }
   ],
   "source": [
    "data2betested['StichtagDatJahr']=pd.to_datetime(data2betested['StichtagDatJahr'], format='%Y')\n",
    "\n",
    "#TO DO --> setze das Datum auf den 31.12. der Jahres.\n",
    "#test=data2betested[['StichtagDatJahr']].date().replace(month=12, day=31)\n",
    "\n",
    "data2betested"
   ]
  },
  {
   "cell_type": "markdown",
   "metadata": {},
   "source": [
    "Bereite die Daten für die Grafik unten vor"
   ]
  },
  {
   "cell_type": "code",
   "execution_count": 11,
   "metadata": {},
   "outputs": [
    {
     "data": {
      "text/plain": [
       "87"
      ]
     },
     "execution_count": 11,
     "metadata": {},
     "output_type": "execute_result"
    }
   ],
   "source": [
    "Jahre = data2betested.groupby(\"StichtagDatJahr\")\n",
    "len(Jahre)"
   ]
  },
  {
   "cell_type": "code",
   "execution_count": 15,
   "metadata": {},
   "outputs": [
    {
     "name": "stdout",
     "output_type": "stream",
     "text": [
      "1934-01-01 00:00:00 3\n",
      "1935-01-01 00:00:00 3\n",
      "1936-01-01 00:00:00 3\n",
      "1937-01-01 00:00:00 3\n",
      "1938-01-01 00:00:00 3\n",
      "1939-01-01 00:00:00 3\n",
      "1940-01-01 00:00:00 3\n",
      "1941-01-01 00:00:00 3\n",
      "1942-01-01 00:00:00 3\n",
      "1943-01-01 00:00:00 3\n",
      "1944-01-01 00:00:00 3\n",
      "1945-01-01 00:00:00 3\n",
      "1946-01-01 00:00:00 3\n",
      "1947-01-01 00:00:00 3\n",
      "1948-01-01 00:00:00 3\n",
      "1949-01-01 00:00:00 3\n",
      "1950-01-01 00:00:00 3\n",
      "1951-01-01 00:00:00 3\n",
      "1952-01-01 00:00:00 3\n",
      "1953-01-01 00:00:00 3\n",
      "1954-01-01 00:00:00 3\n",
      "1955-01-01 00:00:00 3\n",
      "1956-01-01 00:00:00 3\n",
      "1957-01-01 00:00:00 3\n",
      "1958-01-01 00:00:00 3\n",
      "1959-01-01 00:00:00 3\n",
      "1960-01-01 00:00:00 3\n",
      "1961-01-01 00:00:00 3\n",
      "1962-01-01 00:00:00 3\n",
      "1963-01-01 00:00:00 3\n",
      "1964-01-01 00:00:00 3\n",
      "1965-01-01 00:00:00 3\n",
      "1966-01-01 00:00:00 3\n",
      "1967-01-01 00:00:00 3\n",
      "1968-01-01 00:00:00 3\n",
      "1969-01-01 00:00:00 3\n",
      "1970-01-01 00:00:00 3\n",
      "1971-01-01 00:00:00 3\n",
      "1972-01-01 00:00:00 3\n",
      "1973-01-01 00:00:00 3\n",
      "1974-01-01 00:00:00 3\n",
      "1975-01-01 00:00:00 3\n",
      "1976-01-01 00:00:00 3\n",
      "1977-01-01 00:00:00 3\n",
      "1978-01-01 00:00:00 3\n",
      "1979-01-01 00:00:00 3\n",
      "1980-01-01 00:00:00 3\n",
      "1981-01-01 00:00:00 3\n",
      "1982-01-01 00:00:00 3\n",
      "1983-01-01 00:00:00 3\n",
      "1984-01-01 00:00:00 3\n",
      "1985-01-01 00:00:00 3\n",
      "1986-01-01 00:00:00 3\n",
      "1987-01-01 00:00:00 3\n",
      "1988-01-01 00:00:00 3\n",
      "1989-01-01 00:00:00 3\n",
      "1990-01-01 00:00:00 3\n",
      "1991-01-01 00:00:00 3\n",
      "1992-01-01 00:00:00 3\n",
      "1993-01-01 00:00:00 3\n",
      "1994-01-01 00:00:00 3\n",
      "1995-01-01 00:00:00 3\n",
      "1996-01-01 00:00:00 3\n",
      "1997-01-01 00:00:00 3\n",
      "1998-01-01 00:00:00 3\n",
      "1999-01-01 00:00:00 3\n",
      "2000-01-01 00:00:00 3\n",
      "2001-01-01 00:00:00 3\n",
      "2002-01-01 00:00:00 3\n",
      "2003-01-01 00:00:00 3\n",
      "2004-01-01 00:00:00 3\n",
      "2005-01-01 00:00:00 3\n",
      "2006-01-01 00:00:00 3\n",
      "2007-01-01 00:00:00 3\n",
      "2008-01-01 00:00:00 3\n",
      "2009-01-01 00:00:00 3\n",
      "2010-01-01 00:00:00 3\n",
      "2011-01-01 00:00:00 3\n",
      "2012-01-01 00:00:00 3\n",
      "2013-01-01 00:00:00 3\n",
      "2014-01-01 00:00:00 3\n",
      "2015-01-01 00:00:00 3\n",
      "2016-01-01 00:00:00 3\n",
      "2017-01-01 00:00:00 3\n",
      "2018-01-01 00:00:00 3\n",
      "2019-01-01 00:00:00 3\n",
      "2020-01-01 00:00:00 3\n"
     ]
    }
   ],
   "source": [
    "for key, group in Jahre:\n",
    "    print(key, len(group))"
   ]
  },
  {
   "cell_type": "code",
   "execution_count": 16,
   "metadata": {},
   "outputs": [
    {
     "data": {
      "text/html": [
       "<div>\n",
       "<style scoped>\n",
       "    .dataframe tbody tr th:only-of-type {\n",
       "        vertical-align: middle;\n",
       "    }\n",
       "\n",
       "    .dataframe tbody tr th {\n",
       "        vertical-align: top;\n",
       "    }\n",
       "\n",
       "    .dataframe thead th {\n",
       "        text-align: right;\n",
       "    }\n",
       "</style>\n",
       "<table border=\"1\" class=\"dataframe\">\n",
       "  <thead>\n",
       "    <tr style=\"text-align: right;\">\n",
       "      <th></th>\n",
       "      <th>StichtagDatJahr</th>\n",
       "      <th>KonOGDSort</th>\n",
       "      <th>KonOGDKurz</th>\n",
       "      <th>AnzBestWir</th>\n",
       "    </tr>\n",
       "  </thead>\n",
       "  <tbody>\n",
       "    <tr>\n",
       "      <th>258</th>\n",
       "      <td>2020-01-01</td>\n",
       "      <td>2</td>\n",
       "      <td>RK</td>\n",
       "      <td>108020</td>\n",
       "    </tr>\n",
       "    <tr>\n",
       "      <th>259</th>\n",
       "      <td>2020-01-01</td>\n",
       "      <td>1</td>\n",
       "      <td>EV-REF</td>\n",
       "      <td>81727</td>\n",
       "    </tr>\n",
       "    <tr>\n",
       "      <th>260</th>\n",
       "      <td>2020-01-01</td>\n",
       "      <td>4</td>\n",
       "      <td>andere Konf.</td>\n",
       "      <td>244989</td>\n",
       "    </tr>\n",
       "  </tbody>\n",
       "</table>\n",
       "</div>"
      ],
      "text/plain": [
       "    StichtagDatJahr  KonOGDSort    KonOGDKurz  AnzBestWir\n",
       "258      2020-01-01           2            RK      108020\n",
       "259      2020-01-01           1        EV-REF       81727\n",
       "260      2020-01-01           4  andere Konf.      244989"
      ]
     },
     "execution_count": 16,
     "metadata": {},
     "output_type": "execute_result"
    }
   ],
   "source": [
    "myJahr = \"2020-01-01\"\n",
    "aktuellesJahr=Jahre.get_group(myJahr)   \n",
    "aktuellesJahr.head(3)"
   ]
  },
  {
   "cell_type": "markdown",
   "metadata": {},
   "source": [
    "**Selektionen und Aggregationen**\n",
    "\n",
    "Check this [Doku](https://www.shanelynn.ie/summarising-aggregation-and-grouping-data-in-python-pandas/)"
   ]
  },
  {
   "cell_type": "code",
   "execution_count": 17,
   "metadata": {},
   "outputs": [],
   "source": [
    "#test = data2betested.groupby(['StichtagDatJahr', 'AlterV20Kurz'])[['AnzBestWir']].agg()\n",
    "\n",
    "# produces Pandas Series\n",
    "    #data2betested.groupby(['StichtagDatJahr', 'KonOGDSort'])['AnzBestWir'].sum()\n",
    "# Produces Pandas DataFrame\n",
    "    #data2betested.groupby(['StichtagDatJahr', 'KonOGDSort'])[['AnzBestWir']].sum()\n",
    "\n",
    "    "
   ]
  },
  {
   "cell_type": "markdown",
   "metadata": {},
   "source": [
    "**Einfache Visualisierungen zur Plausi**"
   ]
  },
  {
   "cell_type": "markdown",
   "metadata": {},
   "source": [
    "Exploriere die Daten mit Pivottable.JS"
   ]
  },
  {
   "cell_type": "code",
   "execution_count": 18,
   "metadata": {},
   "outputs": [
    {
     "data": {
      "text/html": [
       "\n",
       "        <iframe\n",
       "            width=\"100%\"\n",
       "            height=\"500\"\n",
       "            src=\"pivottablejs.html\"\n",
       "            frameborder=\"0\"\n",
       "            allowfullscreen\n",
       "        ></iframe>\n",
       "        "
      ],
      "text/plain": [
       "<IPython.lib.display.IFrame at 0x12414e61790>"
      ]
     },
     "execution_count": 18,
     "metadata": {},
     "output_type": "execute_result"
    }
   ],
   "source": [
    "from pivottablejs import pivot_ui\n",
    "\n",
    "pivot_ui(data2betested)"
   ]
  },
  {
   "cell_type": "markdown",
   "metadata": {},
   "source": [
    "Liniendiagramm \n",
    "[Link zur Doku](https://altair-viz.github.io/gallery/multiline_highlight.html)"
   ]
  },
  {
   "cell_type": "code",
   "execution_count": 19,
   "metadata": {},
   "outputs": [
    {
     "data": {
      "text/html": [
       "<div>\n",
       "<style scoped>\n",
       "    .dataframe tbody tr th:only-of-type {\n",
       "        vertical-align: middle;\n",
       "    }\n",
       "\n",
       "    .dataframe tbody tr th {\n",
       "        vertical-align: top;\n",
       "    }\n",
       "\n",
       "    .dataframe thead th {\n",
       "        text-align: right;\n",
       "    }\n",
       "</style>\n",
       "<table border=\"1\" class=\"dataframe\">\n",
       "  <thead>\n",
       "    <tr style=\"text-align: right;\">\n",
       "      <th></th>\n",
       "      <th>StichtagDatJahr</th>\n",
       "      <th>KonOGDSort</th>\n",
       "      <th>KonOGDKurz</th>\n",
       "      <th>AnzBestWir</th>\n",
       "    </tr>\n",
       "  </thead>\n",
       "  <tbody>\n",
       "    <tr>\n",
       "      <th>0</th>\n",
       "      <td>1934-01-01</td>\n",
       "      <td>4</td>\n",
       "      <td>andere Konf.</td>\n",
       "      <td>14767</td>\n",
       "    </tr>\n",
       "    <tr>\n",
       "      <th>1</th>\n",
       "      <td>1934-01-01</td>\n",
       "      <td>1</td>\n",
       "      <td>EV-REF</td>\n",
       "      <td>208357</td>\n",
       "    </tr>\n",
       "    <tr>\n",
       "      <th>2</th>\n",
       "      <td>1934-01-01</td>\n",
       "      <td>2</td>\n",
       "      <td>RK</td>\n",
       "      <td>92740</td>\n",
       "    </tr>\n",
       "    <tr>\n",
       "      <th>3</th>\n",
       "      <td>1935-01-01</td>\n",
       "      <td>4</td>\n",
       "      <td>andere Konf.</td>\n",
       "      <td>14504</td>\n",
       "    </tr>\n",
       "    <tr>\n",
       "      <th>4</th>\n",
       "      <td>1935-01-01</td>\n",
       "      <td>2</td>\n",
       "      <td>RK</td>\n",
       "      <td>93184</td>\n",
       "    </tr>\n",
       "  </tbody>\n",
       "</table>\n",
       "</div>"
      ],
      "text/plain": [
       "  StichtagDatJahr  KonOGDSort    KonOGDKurz  AnzBestWir\n",
       "0      1934-01-01           4  andere Konf.       14767\n",
       "1      1934-01-01           1        EV-REF      208357\n",
       "2      1934-01-01           2            RK       92740\n",
       "3      1935-01-01           4  andere Konf.       14504\n",
       "4      1935-01-01           2            RK       93184"
      ]
     },
     "execution_count": 19,
     "metadata": {},
     "output_type": "execute_result"
    }
   ],
   "source": [
    "mySelection = data2betested[(data2betested.StichtagDatJahr>\"1900-01-01\")]\n",
    "#mySelection = data2betested[(data2betested.StichtagDatJahr>\"2011-01-01\") & (data2betested.QuarSort<70)]\n",
    "mySelection.head()\n",
    "\n"
   ]
  },
  {
   "cell_type": "code",
   "execution_count": 20,
   "metadata": {},
   "outputs": [],
   "source": [
    "#mySelection = aktuellesJahr[[\"StatZoneSort\",\"AnzBestWir\"]]\n",
    "#mySelection"
   ]
  },
  {
   "cell_type": "code",
   "execution_count": 24,
   "metadata": {},
   "outputs": [
    {
     "data": {
      "text/html": [
       "\n",
       "<div id=\"altair-viz-d75dad7d3d8945438dcdd1f6c12a6c30\"></div>\n",
       "<script type=\"text/javascript\">\n",
       "  (function(spec, embedOpt){\n",
       "    let outputDiv = document.currentScript.previousElementSibling;\n",
       "    if (outputDiv.id !== \"altair-viz-d75dad7d3d8945438dcdd1f6c12a6c30\") {\n",
       "      outputDiv = document.getElementById(\"altair-viz-d75dad7d3d8945438dcdd1f6c12a6c30\");\n",
       "    }\n",
       "    const paths = {\n",
       "      \"vega\": \"https://cdn.jsdelivr.net/npm//vega@5?noext\",\n",
       "      \"vega-lib\": \"https://cdn.jsdelivr.net/npm//vega-lib?noext\",\n",
       "      \"vega-lite\": \"https://cdn.jsdelivr.net/npm//vega-lite@4.8.1?noext\",\n",
       "      \"vega-embed\": \"https://cdn.jsdelivr.net/npm//vega-embed@6?noext\",\n",
       "    };\n",
       "\n",
       "    function loadScript(lib) {\n",
       "      return new Promise(function(resolve, reject) {\n",
       "        var s = document.createElement('script');\n",
       "        s.src = paths[lib];\n",
       "        s.async = true;\n",
       "        s.onload = () => resolve(paths[lib]);\n",
       "        s.onerror = () => reject(`Error loading script: ${paths[lib]}`);\n",
       "        document.getElementsByTagName(\"head\")[0].appendChild(s);\n",
       "      });\n",
       "    }\n",
       "\n",
       "    function showError(err) {\n",
       "      outputDiv.innerHTML = `<div class=\"error\" style=\"color:red;\">${err}</div>`;\n",
       "      throw err;\n",
       "    }\n",
       "\n",
       "    function displayChart(vegaEmbed) {\n",
       "      vegaEmbed(outputDiv, spec, embedOpt)\n",
       "        .catch(err => showError(`Javascript Error: ${err.message}<br>This usually means there's a typo in your chart specification. See the javascript console for the full traceback.`));\n",
       "    }\n",
       "\n",
       "    if(typeof define === \"function\" && define.amd) {\n",
       "      requirejs.config({paths});\n",
       "      require([\"vega-embed\"], displayChart, err => showError(`Error loading script: ${err.message}`));\n",
       "    } else if (typeof vegaEmbed === \"function\") {\n",
       "      displayChart(vegaEmbed);\n",
       "    } else {\n",
       "      loadScript(\"vega\")\n",
       "        .then(() => loadScript(\"vega-lite\"))\n",
       "        .then(() => loadScript(\"vega-embed\"))\n",
       "        .catch(showError)\n",
       "        .then(() => displayChart(vegaEmbed));\n",
       "    }\n",
       "  })({\"config\": {\"view\": {\"continuousWidth\": 400, \"continuousHeight\": 300}}, \"layer\": [{\"mark\": \"circle\", \"encoding\": {\"color\": {\"type\": \"nominal\", \"field\": \"KonOGDKurz\"}, \"opacity\": {\"value\": 0}, \"x\": {\"type\": \"temporal\", \"field\": \"StichtagDatJahr\"}, \"y\": {\"type\": \"quantitative\", \"field\": \"AnzBestWir\"}}, \"height\": 300, \"selection\": {\"selector006\": {\"type\": \"single\", \"on\": \"mouseover\", \"fields\": [\"KonOGDKurz\"], \"nearest\": true}}, \"width\": 700}, {\"mark\": \"line\", \"encoding\": {\"color\": {\"type\": \"nominal\", \"field\": \"KonOGDKurz\"}, \"size\": {\"condition\": {\"value\": 1.5, \"selection\": {\"not\": \"selector006\"}}, \"value\": 4}, \"x\": {\"type\": \"temporal\", \"field\": \"StichtagDatJahr\"}, \"y\": {\"type\": \"quantitative\", \"field\": \"AnzBestWir\"}}, \"selection\": {\"selector007\": {\"type\": \"interval\", \"bind\": \"scales\", \"encodings\": [\"x\", \"y\"]}}}], \"data\": {\"name\": \"data-a9da50e09aae35790519eb1ea4315f36\"}, \"$schema\": \"https://vega.github.io/schema/vega-lite/v4.8.1.json\", \"datasets\": {\"data-a9da50e09aae35790519eb1ea4315f36\": [{\"StichtagDatJahr\": \"1934-01-01T00:00:00\", \"KonOGDSort\": 4, \"KonOGDKurz\": \"andere Konf.\", \"AnzBestWir\": 14767}, {\"StichtagDatJahr\": \"1934-01-01T00:00:00\", \"KonOGDSort\": 1, \"KonOGDKurz\": \"EV-REF\", \"AnzBestWir\": 208357}, {\"StichtagDatJahr\": \"1934-01-01T00:00:00\", \"KonOGDSort\": 2, \"KonOGDKurz\": \"RK\", \"AnzBestWir\": 92740}, {\"StichtagDatJahr\": \"1935-01-01T00:00:00\", \"KonOGDSort\": 4, \"KonOGDKurz\": \"andere Konf.\", \"AnzBestWir\": 14504}, {\"StichtagDatJahr\": \"1935-01-01T00:00:00\", \"KonOGDSort\": 2, \"KonOGDKurz\": \"RK\", \"AnzBestWir\": 93184}, {\"StichtagDatJahr\": \"1935-01-01T00:00:00\", \"KonOGDSort\": 1, \"KonOGDKurz\": \"EV-REF\", \"AnzBestWir\": 209469}, {\"StichtagDatJahr\": \"1936-01-01T00:00:00\", \"KonOGDSort\": 1, \"KonOGDKurz\": \"EV-REF\", \"AnzBestWir\": 210177}, {\"StichtagDatJahr\": \"1936-01-01T00:00:00\", \"KonOGDSort\": 4, \"KonOGDKurz\": \"andere Konf.\", \"AnzBestWir\": 14299}, {\"StichtagDatJahr\": \"1936-01-01T00:00:00\", \"KonOGDSort\": 2, \"KonOGDKurz\": \"RK\", \"AnzBestWir\": 93236}, {\"StichtagDatJahr\": \"1937-01-01T00:00:00\", \"KonOGDSort\": 4, \"KonOGDKurz\": \"andere Konf.\", \"AnzBestWir\": 14154}, {\"StichtagDatJahr\": \"1937-01-01T00:00:00\", \"KonOGDSort\": 2, \"KonOGDKurz\": \"RK\", \"AnzBestWir\": 93420}, {\"StichtagDatJahr\": \"1937-01-01T00:00:00\", \"KonOGDSort\": 1, \"KonOGDKurz\": \"EV-REF\", \"AnzBestWir\": 211352}, {\"StichtagDatJahr\": \"1938-01-01T00:00:00\", \"KonOGDSort\": 4, \"KonOGDKurz\": \"andere Konf.\", \"AnzBestWir\": 16456}, {\"StichtagDatJahr\": \"1938-01-01T00:00:00\", \"KonOGDSort\": 2, \"KonOGDKurz\": \"RK\", \"AnzBestWir\": 95216}, {\"StichtagDatJahr\": \"1938-01-01T00:00:00\", \"KonOGDSort\": 1, \"KonOGDKurz\": \"EV-REF\", \"AnzBestWir\": 215307}, {\"StichtagDatJahr\": \"1939-01-01T00:00:00\", \"KonOGDSort\": 4, \"KonOGDKurz\": \"andere Konf.\", \"AnzBestWir\": 15301}, {\"StichtagDatJahr\": \"1939-01-01T00:00:00\", \"KonOGDSort\": 2, \"KonOGDKurz\": \"RK\", \"AnzBestWir\": 97672}, {\"StichtagDatJahr\": \"1939-01-01T00:00:00\", \"KonOGDSort\": 1, \"KonOGDKurz\": \"EV-REF\", \"AnzBestWir\": 221011}, {\"StichtagDatJahr\": \"1940-01-01T00:00:00\", \"KonOGDSort\": 4, \"KonOGDKurz\": \"andere Konf.\", \"AnzBestWir\": 14166}, {\"StichtagDatJahr\": \"1940-01-01T00:00:00\", \"KonOGDSort\": 2, \"KonOGDKurz\": \"RK\", \"AnzBestWir\": 97358}, {\"StichtagDatJahr\": \"1940-01-01T00:00:00\", \"KonOGDSort\": 1, \"KonOGDKurz\": \"EV-REF\", \"AnzBestWir\": 222502}, {\"StichtagDatJahr\": \"1941-01-01T00:00:00\", \"KonOGDSort\": 4, \"KonOGDKurz\": \"andere Konf.\", \"AnzBestWir\": 13634}, {\"StichtagDatJahr\": \"1941-01-01T00:00:00\", \"KonOGDSort\": 2, \"KonOGDKurz\": \"RK\", \"AnzBestWir\": 98302}, {\"StichtagDatJahr\": \"1941-01-01T00:00:00\", \"KonOGDSort\": 1, \"KonOGDKurz\": \"EV-REF\", \"AnzBestWir\": 224595}, {\"StichtagDatJahr\": \"1942-01-01T00:00:00\", \"KonOGDSort\": 4, \"KonOGDKurz\": \"andere Konf.\", \"AnzBestWir\": 13860}, {\"StichtagDatJahr\": \"1942-01-01T00:00:00\", \"KonOGDSort\": 2, \"KonOGDKurz\": \"RK\", \"AnzBestWir\": 98962}, {\"StichtagDatJahr\": \"1942-01-01T00:00:00\", \"KonOGDSort\": 1, \"KonOGDKurz\": \"EV-REF\", \"AnzBestWir\": 226899}, {\"StichtagDatJahr\": \"1943-01-01T00:00:00\", \"KonOGDSort\": 4, \"KonOGDKurz\": \"andere Konf.\", \"AnzBestWir\": 14818}, {\"StichtagDatJahr\": \"1943-01-01T00:00:00\", \"KonOGDSort\": 2, \"KonOGDKurz\": \"RK\", \"AnzBestWir\": 100628}, {\"StichtagDatJahr\": \"1943-01-01T00:00:00\", \"KonOGDSort\": 1, \"KonOGDKurz\": \"EV-REF\", \"AnzBestWir\": 230373}, {\"StichtagDatJahr\": \"1944-01-01T00:00:00\", \"KonOGDSort\": 1, \"KonOGDKurz\": \"EV-REF\", \"AnzBestWir\": 233633}, {\"StichtagDatJahr\": \"1944-01-01T00:00:00\", \"KonOGDSort\": 4, \"KonOGDKurz\": \"andere Konf.\", \"AnzBestWir\": 15282}, {\"StichtagDatJahr\": \"1944-01-01T00:00:00\", \"KonOGDSort\": 2, \"KonOGDKurz\": \"RK\", \"AnzBestWir\": 102764}, {\"StichtagDatJahr\": \"1945-01-01T00:00:00\", \"KonOGDSort\": 4, \"KonOGDKurz\": \"andere Konf.\", \"AnzBestWir\": 15109}, {\"StichtagDatJahr\": \"1945-01-01T00:00:00\", \"KonOGDSort\": 2, \"KonOGDKurz\": \"RK\", \"AnzBestWir\": 104506}, {\"StichtagDatJahr\": \"1945-01-01T00:00:00\", \"KonOGDSort\": 1, \"KonOGDKurz\": \"EV-REF\", \"AnzBestWir\": 237766}, {\"StichtagDatJahr\": \"1946-01-01T00:00:00\", \"KonOGDSort\": 4, \"KonOGDKurz\": \"andere Konf.\", \"AnzBestWir\": 15518}, {\"StichtagDatJahr\": \"1946-01-01T00:00:00\", \"KonOGDSort\": 2, \"KonOGDKurz\": \"RK\", \"AnzBestWir\": 109171}, {\"StichtagDatJahr\": \"1946-01-01T00:00:00\", \"KonOGDSort\": 1, \"KonOGDKurz\": \"EV-REF\", \"AnzBestWir\": 242482}, {\"StichtagDatJahr\": \"1947-01-01T00:00:00\", \"KonOGDSort\": 4, \"KonOGDKurz\": \"andere Konf.\", \"AnzBestWir\": 15904}, {\"StichtagDatJahr\": \"1947-01-01T00:00:00\", \"KonOGDSort\": 2, \"KonOGDKurz\": \"RK\", \"AnzBestWir\": 114981}, {\"StichtagDatJahr\": \"1947-01-01T00:00:00\", \"KonOGDSort\": 1, \"KonOGDKurz\": \"EV-REF\", \"AnzBestWir\": 246202}, {\"StichtagDatJahr\": \"1948-01-01T00:00:00\", \"KonOGDSort\": 4, \"KonOGDKurz\": \"andere Konf.\", \"AnzBestWir\": 15857}, {\"StichtagDatJahr\": \"1948-01-01T00:00:00\", \"KonOGDSort\": 2, \"KonOGDKurz\": \"RK\", \"AnzBestWir\": 118700}, {\"StichtagDatJahr\": \"1948-01-01T00:00:00\", \"KonOGDSort\": 1, \"KonOGDKurz\": \"EV-REF\", \"AnzBestWir\": 249011}, {\"StichtagDatJahr\": \"1949-01-01T00:00:00\", \"KonOGDSort\": 4, \"KonOGDKurz\": \"andere Konf.\", \"AnzBestWir\": 15776}, {\"StichtagDatJahr\": \"1949-01-01T00:00:00\", \"KonOGDSort\": 2, \"KonOGDKurz\": \"RK\", \"AnzBestWir\": 119247}, {\"StichtagDatJahr\": \"1949-01-01T00:00:00\", \"KonOGDSort\": 1, \"KonOGDKurz\": \"EV-REF\", \"AnzBestWir\": 250980}, {\"StichtagDatJahr\": \"1950-01-01T00:00:00\", \"KonOGDSort\": 4, \"KonOGDKurz\": \"andere Konf.\", \"AnzBestWir\": 19409}, {\"StichtagDatJahr\": \"1950-01-01T00:00:00\", \"KonOGDSort\": 2, \"KonOGDKurz\": \"RK\", \"AnzBestWir\": 117102}, {\"StichtagDatJahr\": \"1950-01-01T00:00:00\", \"KonOGDSort\": 1, \"KonOGDKurz\": \"EV-REF\", \"AnzBestWir\": 253062}, {\"StichtagDatJahr\": \"1951-01-01T00:00:00\", \"KonOGDSort\": 4, \"KonOGDKurz\": \"andere Konf.\", \"AnzBestWir\": 19217}, {\"StichtagDatJahr\": \"1951-01-01T00:00:00\", \"KonOGDSort\": 2, \"KonOGDKurz\": \"RK\", \"AnzBestWir\": 121706}, {\"StichtagDatJahr\": \"1951-01-01T00:00:00\", \"KonOGDSort\": 1, \"KonOGDKurz\": \"EV-REF\", \"AnzBestWir\": 255337}, {\"StichtagDatJahr\": \"1952-01-01T00:00:00\", \"KonOGDSort\": 4, \"KonOGDKurz\": \"andere Konf.\", \"AnzBestWir\": 19053}, {\"StichtagDatJahr\": \"1952-01-01T00:00:00\", \"KonOGDSort\": 2, \"KonOGDKurz\": \"RK\", \"AnzBestWir\": 125744}, {\"StichtagDatJahr\": \"1952-01-01T00:00:00\", \"KonOGDSort\": 1, \"KonOGDKurz\": \"EV-REF\", \"AnzBestWir\": 258828}, {\"StichtagDatJahr\": \"1953-01-01T00:00:00\", \"KonOGDSort\": 4, \"KonOGDKurz\": \"andere Konf.\", \"AnzBestWir\": 18801}, {\"StichtagDatJahr\": \"1953-01-01T00:00:00\", \"KonOGDSort\": 2, \"KonOGDKurz\": \"RK\", \"AnzBestWir\": 128511}, {\"StichtagDatJahr\": \"1953-01-01T00:00:00\", \"KonOGDSort\": 1, \"KonOGDKurz\": \"EV-REF\", \"AnzBestWir\": 261232}, {\"StichtagDatJahr\": \"1954-01-01T00:00:00\", \"KonOGDSort\": 4, \"KonOGDKurz\": \"andere Konf.\", \"AnzBestWir\": 18498}, {\"StichtagDatJahr\": \"1954-01-01T00:00:00\", \"KonOGDSort\": 2, \"KonOGDKurz\": \"RK\", \"AnzBestWir\": 131654}, {\"StichtagDatJahr\": \"1954-01-01T00:00:00\", \"KonOGDSort\": 1, \"KonOGDKurz\": \"EV-REF\", \"AnzBestWir\": 262892}, {\"StichtagDatJahr\": \"1955-01-01T00:00:00\", \"KonOGDSort\": 4, \"KonOGDKurz\": \"andere Konf.\", \"AnzBestWir\": 18235}, {\"StichtagDatJahr\": \"1955-01-01T00:00:00\", \"KonOGDSort\": 2, \"KonOGDKurz\": \"RK\", \"AnzBestWir\": 135025}, {\"StichtagDatJahr\": \"1955-01-01T00:00:00\", \"KonOGDSort\": 1, \"KonOGDKurz\": \"EV-REF\", \"AnzBestWir\": 264091}, {\"StichtagDatJahr\": \"1956-01-01T00:00:00\", \"KonOGDSort\": 4, \"KonOGDKurz\": \"andere Konf.\", \"AnzBestWir\": 17989}, {\"StichtagDatJahr\": \"1956-01-01T00:00:00\", \"KonOGDSort\": 2, \"KonOGDKurz\": \"RK\", \"AnzBestWir\": 138869}, {\"StichtagDatJahr\": \"1956-01-01T00:00:00\", \"KonOGDSort\": 1, \"KonOGDKurz\": \"EV-REF\", \"AnzBestWir\": 263631}, {\"StichtagDatJahr\": \"1957-01-01T00:00:00\", \"KonOGDSort\": 4, \"KonOGDKurz\": \"andere Konf.\", \"AnzBestWir\": 17836}, {\"StichtagDatJahr\": \"1957-01-01T00:00:00\", \"KonOGDSort\": 2, \"KonOGDKurz\": \"RK\", \"AnzBestWir\": 143962}, {\"StichtagDatJahr\": \"1957-01-01T00:00:00\", \"KonOGDSort\": 1, \"KonOGDKurz\": \"EV-REF\", \"AnzBestWir\": 264551}, {\"StichtagDatJahr\": \"1958-01-01T00:00:00\", \"KonOGDSort\": 4, \"KonOGDKurz\": \"andere Konf.\", \"AnzBestWir\": 17751}, {\"StichtagDatJahr\": \"1958-01-01T00:00:00\", \"KonOGDSort\": 2, \"KonOGDKurz\": \"RK\", \"AnzBestWir\": 147228}, {\"StichtagDatJahr\": \"1958-01-01T00:00:00\", \"KonOGDSort\": 1, \"KonOGDKurz\": \"EV-REF\", \"AnzBestWir\": 266263}, {\"StichtagDatJahr\": \"1959-01-01T00:00:00\", \"KonOGDSort\": 4, \"KonOGDKurz\": \"andere Konf.\", \"AnzBestWir\": 17533}, {\"StichtagDatJahr\": \"1959-01-01T00:00:00\", \"KonOGDSort\": 2, \"KonOGDKurz\": \"RK\", \"AnzBestWir\": 149729}, {\"StichtagDatJahr\": \"1959-01-01T00:00:00\", \"KonOGDSort\": 1, \"KonOGDKurz\": \"EV-REF\", \"AnzBestWir\": 266818}, {\"StichtagDatJahr\": \"1960-01-01T00:00:00\", \"KonOGDSort\": 4, \"KonOGDKurz\": \"andere Konf.\", \"AnzBestWir\": 17575}, {\"StichtagDatJahr\": \"1960-01-01T00:00:00\", \"KonOGDSort\": 2, \"KonOGDKurz\": \"RK\", \"AnzBestWir\": 153839}, {\"StichtagDatJahr\": \"1960-01-01T00:00:00\", \"KonOGDSort\": 1, \"KonOGDKurz\": \"EV-REF\", \"AnzBestWir\": 265859}, {\"StichtagDatJahr\": \"1961-01-01T00:00:00\", \"KonOGDSort\": 4, \"KonOGDKurz\": \"andere Konf.\", \"AnzBestWir\": 18516}, {\"StichtagDatJahr\": \"1961-01-01T00:00:00\", \"KonOGDSort\": 2, \"KonOGDKurz\": \"RK\", \"AnzBestWir\": 157991}, {\"StichtagDatJahr\": \"1961-01-01T00:00:00\", \"KonOGDSort\": 1, \"KonOGDKurz\": \"EV-REF\", \"AnzBestWir\": 262815}, {\"StichtagDatJahr\": \"1962-01-01T00:00:00\", \"KonOGDSort\": 4, \"KonOGDKurz\": \"andere Konf.\", \"AnzBestWir\": 19134}, {\"StichtagDatJahr\": \"1962-01-01T00:00:00\", \"KonOGDSort\": 2, \"KonOGDKurz\": \"RK\", \"AnzBestWir\": 160828}, {\"StichtagDatJahr\": \"1962-01-01T00:00:00\", \"KonOGDSort\": 1, \"KonOGDKurz\": \"EV-REF\", \"AnzBestWir\": 260218}, {\"StichtagDatJahr\": \"1963-01-01T00:00:00\", \"KonOGDSort\": 4, \"KonOGDKurz\": \"andere Konf.\", \"AnzBestWir\": 19939}, {\"StichtagDatJahr\": \"1963-01-01T00:00:00\", \"KonOGDSort\": 2, \"KonOGDKurz\": \"RK\", \"AnzBestWir\": 161976}, {\"StichtagDatJahr\": \"1963-01-01T00:00:00\", \"KonOGDSort\": 1, \"KonOGDKurz\": \"EV-REF\", \"AnzBestWir\": 257175}, {\"StichtagDatJahr\": \"1964-01-01T00:00:00\", \"KonOGDSort\": 4, \"KonOGDKurz\": \"andere Konf.\", \"AnzBestWir\": 20286}, {\"StichtagDatJahr\": \"1964-01-01T00:00:00\", \"KonOGDSort\": 2, \"KonOGDKurz\": \"RK\", \"AnzBestWir\": 163413}, {\"StichtagDatJahr\": \"1964-01-01T00:00:00\", \"KonOGDSort\": 1, \"KonOGDKurz\": \"EV-REF\", \"AnzBestWir\": 253931}, {\"StichtagDatJahr\": \"1965-01-01T00:00:00\", \"KonOGDSort\": 4, \"KonOGDKurz\": \"andere Konf.\", \"AnzBestWir\": 20268}, {\"StichtagDatJahr\": \"1965-01-01T00:00:00\", \"KonOGDSort\": 2, \"KonOGDKurz\": \"RK\", \"AnzBestWir\": 162972}, {\"StichtagDatJahr\": \"1965-01-01T00:00:00\", \"KonOGDSort\": 1, \"KonOGDKurz\": \"EV-REF\", \"AnzBestWir\": 250625}, {\"StichtagDatJahr\": \"1966-01-01T00:00:00\", \"KonOGDSort\": 4, \"KonOGDKurz\": \"andere Konf.\", \"AnzBestWir\": 20425}, {\"StichtagDatJahr\": \"1966-01-01T00:00:00\", \"KonOGDSort\": 2, \"KonOGDKurz\": \"RK\", \"AnzBestWir\": 163934}, {\"StichtagDatJahr\": \"1966-01-01T00:00:00\", \"KonOGDSort\": 1, \"KonOGDKurz\": \"EV-REF\", \"AnzBestWir\": 247174}, {\"StichtagDatJahr\": \"1967-01-01T00:00:00\", \"KonOGDSort\": 4, \"KonOGDKurz\": \"andere Konf.\", \"AnzBestWir\": 20977}, {\"StichtagDatJahr\": \"1967-01-01T00:00:00\", \"KonOGDSort\": 2, \"KonOGDKurz\": \"RK\", \"AnzBestWir\": 165526}, {\"StichtagDatJahr\": \"1967-01-01T00:00:00\", \"KonOGDSort\": 1, \"KonOGDKurz\": \"EV-REF\", \"AnzBestWir\": 244091}, {\"StichtagDatJahr\": \"1968-01-01T00:00:00\", \"KonOGDSort\": 4, \"KonOGDKurz\": \"andere Konf.\", \"AnzBestWir\": 21862}, {\"StichtagDatJahr\": \"1968-01-01T00:00:00\", \"KonOGDSort\": 2, \"KonOGDKurz\": \"RK\", \"AnzBestWir\": 167874}, {\"StichtagDatJahr\": \"1968-01-01T00:00:00\", \"KonOGDSort\": 1, \"KonOGDKurz\": \"EV-REF\", \"AnzBestWir\": 240419}, {\"StichtagDatJahr\": \"1969-01-01T00:00:00\", \"KonOGDSort\": 4, \"KonOGDKurz\": \"andere Konf.\", \"AnzBestWir\": 22503}, {\"StichtagDatJahr\": \"1969-01-01T00:00:00\", \"KonOGDSort\": 2, \"KonOGDKurz\": \"RK\", \"AnzBestWir\": 165869}, {\"StichtagDatJahr\": \"1969-01-01T00:00:00\", \"KonOGDSort\": 1, \"KonOGDKurz\": \"EV-REF\", \"AnzBestWir\": 236745}, {\"StichtagDatJahr\": \"1970-01-01T00:00:00\", \"KonOGDSort\": 4, \"KonOGDKurz\": \"andere Konf.\", \"AnzBestWir\": 22723}, {\"StichtagDatJahr\": \"1970-01-01T00:00:00\", \"KonOGDSort\": 2, \"KonOGDKurz\": \"RK\", \"AnzBestWir\": 163530}, {\"StichtagDatJahr\": \"1970-01-01T00:00:00\", \"KonOGDSort\": 1, \"KonOGDKurz\": \"EV-REF\", \"AnzBestWir\": 231719}, {\"StichtagDatJahr\": \"1971-01-01T00:00:00\", \"KonOGDSort\": 4, \"KonOGDKurz\": \"andere Konf.\", \"AnzBestWir\": 23605}, {\"StichtagDatJahr\": \"1971-01-01T00:00:00\", \"KonOGDSort\": 2, \"KonOGDKurz\": \"RK\", \"AnzBestWir\": 162336}, {\"StichtagDatJahr\": \"1971-01-01T00:00:00\", \"KonOGDSort\": 1, \"KonOGDKurz\": \"EV-REF\", \"AnzBestWir\": 226228}, {\"StichtagDatJahr\": \"1972-01-01T00:00:00\", \"KonOGDSort\": 4, \"KonOGDKurz\": \"andere Konf.\", \"AnzBestWir\": 24786}, {\"StichtagDatJahr\": \"1972-01-01T00:00:00\", \"KonOGDSort\": 2, \"KonOGDKurz\": \"RK\", \"AnzBestWir\": 162209}, {\"StichtagDatJahr\": \"1972-01-01T00:00:00\", \"KonOGDSort\": 1, \"KonOGDKurz\": \"EV-REF\", \"AnzBestWir\": 220652}, {\"StichtagDatJahr\": \"1973-01-01T00:00:00\", \"KonOGDSort\": 4, \"KonOGDKurz\": \"andere Konf.\", \"AnzBestWir\": 26403}, {\"StichtagDatJahr\": \"1973-01-01T00:00:00\", \"KonOGDSort\": 2, \"KonOGDKurz\": \"RK\", \"AnzBestWir\": 161036}, {\"StichtagDatJahr\": \"1973-01-01T00:00:00\", \"KonOGDSort\": 1, \"KonOGDKurz\": \"EV-REF\", \"AnzBestWir\": 214138}, {\"StichtagDatJahr\": \"1974-01-01T00:00:00\", \"KonOGDSort\": 4, \"KonOGDKurz\": \"andere Konf.\", \"AnzBestWir\": 28327}, {\"StichtagDatJahr\": \"1974-01-01T00:00:00\", \"KonOGDSort\": 2, \"KonOGDKurz\": \"RK\", \"AnzBestWir\": 159648}, {\"StichtagDatJahr\": \"1974-01-01T00:00:00\", \"KonOGDSort\": 1, \"KonOGDKurz\": \"EV-REF\", \"AnzBestWir\": 208286}, {\"StichtagDatJahr\": \"1975-01-01T00:00:00\", \"KonOGDSort\": 4, \"KonOGDKurz\": \"andere Konf.\", \"AnzBestWir\": 29211}, {\"StichtagDatJahr\": \"1975-01-01T00:00:00\", \"KonOGDSort\": 2, \"KonOGDKurz\": \"RK\", \"AnzBestWir\": 156151}, {\"StichtagDatJahr\": \"1975-01-01T00:00:00\", \"KonOGDSort\": 1, \"KonOGDKurz\": \"EV-REF\", \"AnzBestWir\": 204251}, {\"StichtagDatJahr\": \"1976-01-01T00:00:00\", \"KonOGDSort\": 1, \"KonOGDKurz\": \"EV-REF\", \"AnzBestWir\": 200259}, {\"StichtagDatJahr\": \"1976-01-01T00:00:00\", \"KonOGDSort\": 4, \"KonOGDKurz\": \"andere Konf.\", \"AnzBestWir\": 30226}, {\"StichtagDatJahr\": \"1976-01-01T00:00:00\", \"KonOGDSort\": 2, \"KonOGDKurz\": \"RK\", \"AnzBestWir\": 152514}, {\"StichtagDatJahr\": \"1977-01-01T00:00:00\", \"KonOGDSort\": 4, \"KonOGDKurz\": \"andere Konf.\", \"AnzBestWir\": 31707}, {\"StichtagDatJahr\": \"1977-01-01T00:00:00\", \"KonOGDSort\": 2, \"KonOGDKurz\": \"RK\", \"AnzBestWir\": 150577}, {\"StichtagDatJahr\": \"1977-01-01T00:00:00\", \"KonOGDSort\": 1, \"KonOGDKurz\": \"EV-REF\", \"AnzBestWir\": 197351}, {\"StichtagDatJahr\": \"1978-01-01T00:00:00\", \"KonOGDSort\": 4, \"KonOGDKurz\": \"andere Konf.\", \"AnzBestWir\": 33636}, {\"StichtagDatJahr\": \"1978-01-01T00:00:00\", \"KonOGDSort\": 2, \"KonOGDKurz\": \"RK\", \"AnzBestWir\": 149089}, {\"StichtagDatJahr\": \"1978-01-01T00:00:00\", \"KonOGDSort\": 1, \"KonOGDKurz\": \"EV-REF\", \"AnzBestWir\": 193722}, {\"StichtagDatJahr\": \"1979-01-01T00:00:00\", \"KonOGDSort\": 4, \"KonOGDKurz\": \"andere Konf.\", \"AnzBestWir\": 35550}, {\"StichtagDatJahr\": \"1979-01-01T00:00:00\", \"KonOGDSort\": 2, \"KonOGDKurz\": \"RK\", \"AnzBestWir\": 148621}, {\"StichtagDatJahr\": \"1979-01-01T00:00:00\", \"KonOGDSort\": 1, \"KonOGDKurz\": \"EV-REF\", \"AnzBestWir\": 190050}, {\"StichtagDatJahr\": \"1980-01-01T00:00:00\", \"KonOGDSort\": 1, \"KonOGDKurz\": \"EV-REF\", \"AnzBestWir\": 175136}, {\"StichtagDatJahr\": \"1980-01-01T00:00:00\", \"KonOGDSort\": 4, \"KonOGDKurz\": \"andere Konf.\", \"AnzBestWir\": 48924}, {\"StichtagDatJahr\": \"1980-01-01T00:00:00\", \"KonOGDSort\": 2, \"KonOGDKurz\": \"RK\", \"AnzBestWir\": 146558}, {\"StichtagDatJahr\": \"1981-01-01T00:00:00\", \"KonOGDSort\": 2, \"KonOGDKurz\": \"RK\", \"AnzBestWir\": 145838}, {\"StichtagDatJahr\": \"1981-01-01T00:00:00\", \"KonOGDSort\": 4, \"KonOGDKurz\": \"andere Konf.\", \"AnzBestWir\": 51377}, {\"StichtagDatJahr\": \"1981-01-01T00:00:00\", \"KonOGDSort\": 1, \"KonOGDKurz\": \"EV-REF\", \"AnzBestWir\": 170956}, {\"StichtagDatJahr\": \"1982-01-01T00:00:00\", \"KonOGDSort\": 4, \"KonOGDKurz\": \"andere Konf.\", \"AnzBestWir\": 54388}, {\"StichtagDatJahr\": \"1982-01-01T00:00:00\", \"KonOGDSort\": 2, \"KonOGDKurz\": \"RK\", \"AnzBestWir\": 145447}, {\"StichtagDatJahr\": \"1982-01-01T00:00:00\", \"KonOGDSort\": 1, \"KonOGDKurz\": \"EV-REF\", \"AnzBestWir\": 166505}, {\"StichtagDatJahr\": \"1983-01-01T00:00:00\", \"KonOGDSort\": 4, \"KonOGDKurz\": \"andere Konf.\", \"AnzBestWir\": 56586}, {\"StichtagDatJahr\": \"1983-01-01T00:00:00\", \"KonOGDSort\": 2, \"KonOGDKurz\": \"RK\", \"AnzBestWir\": 144690}, {\"StichtagDatJahr\": \"1983-01-01T00:00:00\", \"KonOGDSort\": 1, \"KonOGDKurz\": \"EV-REF\", \"AnzBestWir\": 162376}, {\"StichtagDatJahr\": \"1984-01-01T00:00:00\", \"KonOGDSort\": 1, \"KonOGDKurz\": \"EV-REF\", \"AnzBestWir\": 159392}, {\"StichtagDatJahr\": \"1984-01-01T00:00:00\", \"KonOGDSort\": 4, \"KonOGDKurz\": \"andere Konf.\", \"AnzBestWir\": 58488}, {\"StichtagDatJahr\": \"1984-01-01T00:00:00\", \"KonOGDSort\": 2, \"KonOGDKurz\": \"RK\", \"AnzBestWir\": 143613}, {\"StichtagDatJahr\": \"1985-01-01T00:00:00\", \"KonOGDSort\": 2, \"KonOGDKurz\": \"RK\", \"AnzBestWir\": 142716}, {\"StichtagDatJahr\": \"1985-01-01T00:00:00\", \"KonOGDSort\": 4, \"KonOGDKurz\": \"andere Konf.\", \"AnzBestWir\": 60252}, {\"StichtagDatJahr\": \"1985-01-01T00:00:00\", \"KonOGDSort\": 1, \"KonOGDKurz\": \"EV-REF\", \"AnzBestWir\": 156116}, {\"StichtagDatJahr\": \"1986-01-01T00:00:00\", \"KonOGDSort\": 4, \"KonOGDKurz\": \"andere Konf.\", \"AnzBestWir\": 63116}, {\"StichtagDatJahr\": \"1986-01-01T00:00:00\", \"KonOGDSort\": 2, \"KonOGDKurz\": \"RK\", \"AnzBestWir\": 142616}, {\"StichtagDatJahr\": \"1986-01-01T00:00:00\", \"KonOGDSort\": 1, \"KonOGDKurz\": \"EV-REF\", \"AnzBestWir\": 153141}, {\"StichtagDatJahr\": \"1987-01-01T00:00:00\", \"KonOGDSort\": 4, \"KonOGDKurz\": \"andere Konf.\", \"AnzBestWir\": 65980}, {\"StichtagDatJahr\": \"1987-01-01T00:00:00\", \"KonOGDSort\": 2, \"KonOGDKurz\": \"RK\", \"AnzBestWir\": 142271}, {\"StichtagDatJahr\": \"1987-01-01T00:00:00\", \"KonOGDSort\": 1, \"KonOGDKurz\": \"EV-REF\", \"AnzBestWir\": 149791}, {\"StichtagDatJahr\": \"1988-01-01T00:00:00\", \"KonOGDSort\": 4, \"KonOGDKurz\": \"andere Konf.\", \"AnzBestWir\": 68824}, {\"StichtagDatJahr\": \"1988-01-01T00:00:00\", \"KonOGDSort\": 2, \"KonOGDKurz\": \"RK\", \"AnzBestWir\": 141816}, {\"StichtagDatJahr\": \"1988-01-01T00:00:00\", \"KonOGDSort\": 1, \"KonOGDKurz\": \"EV-REF\", \"AnzBestWir\": 146720}, {\"StichtagDatJahr\": \"1989-01-01T00:00:00\", \"KonOGDSort\": 2, \"KonOGDKurz\": \"RK\", \"AnzBestWir\": 140908}, {\"StichtagDatJahr\": \"1989-01-01T00:00:00\", \"KonOGDSort\": 4, \"KonOGDKurz\": \"andere Konf.\", \"AnzBestWir\": 71602}, {\"StichtagDatJahr\": \"1989-01-01T00:00:00\", \"KonOGDSort\": 1, \"KonOGDKurz\": \"EV-REF\", \"AnzBestWir\": 143391}, {\"StichtagDatJahr\": \"1990-01-01T00:00:00\", \"KonOGDSort\": 4, \"KonOGDKurz\": \"andere Konf.\", \"AnzBestWir\": 76114}, {\"StichtagDatJahr\": \"1990-01-01T00:00:00\", \"KonOGDSort\": 1, \"KonOGDKurz\": \"EV-REF\", \"AnzBestWir\": 140044}, {\"StichtagDatJahr\": \"1990-01-01T00:00:00\", \"KonOGDSort\": 2, \"KonOGDKurz\": \"RK\", \"AnzBestWir\": 140194}, {\"StichtagDatJahr\": \"1991-01-01T00:00:00\", \"KonOGDSort\": 2, \"KonOGDKurz\": \"RK\", \"AnzBestWir\": 138479}, {\"StichtagDatJahr\": \"1991-01-01T00:00:00\", \"KonOGDSort\": 4, \"KonOGDKurz\": \"andere Konf.\", \"AnzBestWir\": 87312}, {\"StichtagDatJahr\": \"1991-01-01T00:00:00\", \"KonOGDSort\": 1, \"KonOGDKurz\": \"EV-REF\", \"AnzBestWir\": 135084}, {\"StichtagDatJahr\": \"1992-01-01T00:00:00\", \"KonOGDSort\": 4, \"KonOGDKurz\": \"andere Konf.\", \"AnzBestWir\": 86439}, {\"StichtagDatJahr\": \"1992-01-01T00:00:00\", \"KonOGDSort\": 2, \"KonOGDKurz\": \"RK\", \"AnzBestWir\": 138969}, {\"StichtagDatJahr\": \"1992-01-01T00:00:00\", \"KonOGDSort\": 1, \"KonOGDKurz\": \"EV-REF\", \"AnzBestWir\": 134256}, {\"StichtagDatJahr\": \"1993-01-01T00:00:00\", \"KonOGDSort\": 2, \"KonOGDKurz\": \"RK\", \"AnzBestWir\": 134612}, {\"StichtagDatJahr\": \"1993-01-01T00:00:00\", \"KonOGDSort\": 1, \"KonOGDKurz\": \"EV-REF\", \"AnzBestWir\": 129157}, {\"StichtagDatJahr\": \"1993-01-01T00:00:00\", \"KonOGDSort\": 4, \"KonOGDKurz\": \"andere Konf.\", \"AnzBestWir\": 97129}, {\"StichtagDatJahr\": \"1994-01-01T00:00:00\", \"KonOGDSort\": 2, \"KonOGDKurz\": \"RK\", \"AnzBestWir\": 132975}, {\"StichtagDatJahr\": \"1994-01-01T00:00:00\", \"KonOGDSort\": 1, \"KonOGDKurz\": \"EV-REF\", \"AnzBestWir\": 126379}, {\"StichtagDatJahr\": \"1994-01-01T00:00:00\", \"KonOGDSort\": 4, \"KonOGDKurz\": \"andere Konf.\", \"AnzBestWir\": 101494}, {\"StichtagDatJahr\": \"1995-01-01T00:00:00\", \"KonOGDSort\": 2, \"KonOGDKurz\": \"RK\", \"AnzBestWir\": 131477}, {\"StichtagDatJahr\": \"1995-01-01T00:00:00\", \"KonOGDSort\": 1, \"KonOGDKurz\": \"EV-REF\", \"AnzBestWir\": 123481}, {\"StichtagDatJahr\": \"1995-01-01T00:00:00\", \"KonOGDSort\": 4, \"KonOGDKurz\": \"andere Konf.\", \"AnzBestWir\": 105868}, {\"StichtagDatJahr\": \"1996-01-01T00:00:00\", \"KonOGDSort\": 2, \"KonOGDKurz\": \"RK\", \"AnzBestWir\": 129522}, {\"StichtagDatJahr\": \"1996-01-01T00:00:00\", \"KonOGDSort\": 1, \"KonOGDKurz\": \"EV-REF\", \"AnzBestWir\": 120784}, {\"StichtagDatJahr\": \"1996-01-01T00:00:00\", \"KonOGDSort\": 4, \"KonOGDKurz\": \"andere Konf.\", \"AnzBestWir\": 109342}, {\"StichtagDatJahr\": \"1997-01-01T00:00:00\", \"KonOGDSort\": 2, \"KonOGDKurz\": \"RK\", \"AnzBestWir\": 127136}, {\"StichtagDatJahr\": \"1997-01-01T00:00:00\", \"KonOGDSort\": 1, \"KonOGDKurz\": \"EV-REF\", \"AnzBestWir\": 118295}, {\"StichtagDatJahr\": \"1997-01-01T00:00:00\", \"KonOGDSort\": 4, \"KonOGDKurz\": \"andere Konf.\", \"AnzBestWir\": 113163}, {\"StichtagDatJahr\": \"1998-01-01T00:00:00\", \"KonOGDSort\": 2, \"KonOGDKurz\": \"RK\", \"AnzBestWir\": 125744}, {\"StichtagDatJahr\": \"1998-01-01T00:00:00\", \"KonOGDSort\": 1, \"KonOGDKurz\": \"EV-REF\", \"AnzBestWir\": 116352}, {\"StichtagDatJahr\": \"1998-01-01T00:00:00\", \"KonOGDSort\": 4, \"KonOGDKurz\": \"andere Konf.\", \"AnzBestWir\": 116977}, {\"StichtagDatJahr\": \"1999-01-01T00:00:00\", \"KonOGDSort\": 2, \"KonOGDKurz\": \"RK\", \"AnzBestWir\": 124729}, {\"StichtagDatJahr\": \"1999-01-01T00:00:00\", \"KonOGDSort\": 1, \"KonOGDKurz\": \"EV-REF\", \"AnzBestWir\": 114276}, {\"StichtagDatJahr\": \"1999-01-01T00:00:00\", \"KonOGDSort\": 4, \"KonOGDKurz\": \"andere Konf.\", \"AnzBestWir\": 121699}, {\"StichtagDatJahr\": \"2000-01-01T00:00:00\", \"KonOGDSort\": 2, \"KonOGDKurz\": \"RK\", \"AnzBestWir\": 123908}, {\"StichtagDatJahr\": \"2000-01-01T00:00:00\", \"KonOGDSort\": 1, \"KonOGDKurz\": \"EV-REF\", \"AnzBestWir\": 112513}, {\"StichtagDatJahr\": \"2000-01-01T00:00:00\", \"KonOGDSort\": 4, \"KonOGDKurz\": \"andere Konf.\", \"AnzBestWir\": 124559}, {\"StichtagDatJahr\": \"2001-01-01T00:00:00\", \"KonOGDSort\": 2, \"KonOGDKurz\": \"RK\", \"AnzBestWir\": 123085}, {\"StichtagDatJahr\": \"2001-01-01T00:00:00\", \"KonOGDSort\": 1, \"KonOGDKurz\": \"EV-REF\", \"AnzBestWir\": 110801}, {\"StichtagDatJahr\": \"2001-01-01T00:00:00\", \"KonOGDSort\": 4, \"KonOGDKurz\": \"andere Konf.\", \"AnzBestWir\": 128156}, {\"StichtagDatJahr\": \"2002-01-01T00:00:00\", \"KonOGDSort\": 2, \"KonOGDKurz\": \"RK\", \"AnzBestWir\": 123217}, {\"StichtagDatJahr\": \"2002-01-01T00:00:00\", \"KonOGDSort\": 1, \"KonOGDKurz\": \"EV-REF\", \"AnzBestWir\": 109027}, {\"StichtagDatJahr\": \"2002-01-01T00:00:00\", \"KonOGDSort\": 4, \"KonOGDKurz\": \"andere Konf.\", \"AnzBestWir\": 132314}, {\"StichtagDatJahr\": \"2003-01-01T00:00:00\", \"KonOGDSort\": 2, \"KonOGDKurz\": \"RK\", \"AnzBestWir\": 121938}, {\"StichtagDatJahr\": \"2003-01-01T00:00:00\", \"KonOGDSort\": 1, \"KonOGDKurz\": \"EV-REF\", \"AnzBestWir\": 106504}, {\"StichtagDatJahr\": \"2003-01-01T00:00:00\", \"KonOGDSort\": 4, \"KonOGDKurz\": \"andere Konf.\", \"AnzBestWir\": 136086}, {\"StichtagDatJahr\": \"2004-01-01T00:00:00\", \"KonOGDSort\": 2, \"KonOGDKurz\": \"RK\", \"AnzBestWir\": 120497}, {\"StichtagDatJahr\": \"2004-01-01T00:00:00\", \"KonOGDSort\": 1, \"KonOGDKurz\": \"EV-REF\", \"AnzBestWir\": 104376}, {\"StichtagDatJahr\": \"2004-01-01T00:00:00\", \"KonOGDSort\": 4, \"KonOGDKurz\": \"andere Konf.\", \"AnzBestWir\": 140104}, {\"StichtagDatJahr\": \"2005-01-01T00:00:00\", \"KonOGDSort\": 2, \"KonOGDKurz\": \"RK\", \"AnzBestWir\": 119838}, {\"StichtagDatJahr\": \"2005-01-01T00:00:00\", \"KonOGDSort\": 1, \"KonOGDKurz\": \"EV-REF\", \"AnzBestWir\": 102863}, {\"StichtagDatJahr\": \"2005-01-01T00:00:00\", \"KonOGDSort\": 4, \"KonOGDKurz\": \"andere Konf.\", \"AnzBestWir\": 144108}, {\"StichtagDatJahr\": \"2006-01-01T00:00:00\", \"KonOGDSort\": 2, \"KonOGDKurz\": \"RK\", \"AnzBestWir\": 119517}, {\"StichtagDatJahr\": \"2006-01-01T00:00:00\", \"KonOGDSort\": 1, \"KonOGDKurz\": \"EV-REF\", \"AnzBestWir\": 101698}, {\"StichtagDatJahr\": \"2006-01-01T00:00:00\", \"KonOGDSort\": 4, \"KonOGDKurz\": \"andere Konf.\", \"AnzBestWir\": 148847}, {\"StichtagDatJahr\": \"2007-01-01T00:00:00\", \"KonOGDSort\": 2, \"KonOGDKurz\": \"RK\", \"AnzBestWir\": 120170}, {\"StichtagDatJahr\": \"2007-01-01T00:00:00\", \"KonOGDSort\": 1, \"KonOGDKurz\": \"EV-REF\", \"AnzBestWir\": 101587}, {\"StichtagDatJahr\": \"2007-01-01T00:00:00\", \"KonOGDSort\": 4, \"KonOGDKurz\": \"andere Konf.\", \"AnzBestWir\": 155058}, {\"StichtagDatJahr\": \"2008-01-01T00:00:00\", \"KonOGDSort\": 2, \"KonOGDKurz\": \"RK\", \"AnzBestWir\": 120322}, {\"StichtagDatJahr\": \"2008-01-01T00:00:00\", \"KonOGDSort\": 1, \"KonOGDKurz\": \"EV-REF\", \"AnzBestWir\": 100514}, {\"StichtagDatJahr\": \"2008-01-01T00:00:00\", \"KonOGDSort\": 4, \"KonOGDKurz\": \"andere Konf.\", \"AnzBestWir\": 159663}, {\"StichtagDatJahr\": \"2009-01-01T00:00:00\", \"KonOGDSort\": 2, \"KonOGDKurz\": \"RK\", \"AnzBestWir\": 119076}, {\"StichtagDatJahr\": \"2009-01-01T00:00:00\", \"KonOGDSort\": 1, \"KonOGDKurz\": \"EV-REF\", \"AnzBestWir\": 99008}, {\"StichtagDatJahr\": \"2009-01-01T00:00:00\", \"KonOGDSort\": 4, \"KonOGDKurz\": \"andere Konf.\", \"AnzBestWir\": 164822}, {\"StichtagDatJahr\": \"2010-01-01T00:00:00\", \"KonOGDSort\": 2, \"KonOGDKurz\": \"RK\", \"AnzBestWir\": 117615}, {\"StichtagDatJahr\": \"2010-01-01T00:00:00\", \"KonOGDSort\": 1, \"KonOGDKurz\": \"EV-REF\", \"AnzBestWir\": 97072}, {\"StichtagDatJahr\": \"2010-01-01T00:00:00\", \"KonOGDSort\": 4, \"KonOGDKurz\": \"andere Konf.\", \"AnzBestWir\": 170781}, {\"StichtagDatJahr\": \"2011-01-01T00:00:00\", \"KonOGDSort\": 2, \"KonOGDKurz\": \"RK\", \"AnzBestWir\": 117410}, {\"StichtagDatJahr\": \"2011-01-01T00:00:00\", \"KonOGDSort\": 1, \"KonOGDKurz\": \"EV-REF\", \"AnzBestWir\": 95625}, {\"StichtagDatJahr\": \"2011-01-01T00:00:00\", \"KonOGDSort\": 4, \"KonOGDKurz\": \"andere Konf.\", \"AnzBestWir\": 177047}, {\"StichtagDatJahr\": \"2012-01-01T00:00:00\", \"KonOGDSort\": 2, \"KonOGDKurz\": \"RK\", \"AnzBestWir\": 117095}, {\"StichtagDatJahr\": \"2012-01-01T00:00:00\", \"KonOGDSort\": 1, \"KonOGDKurz\": \"EV-REF\", \"AnzBestWir\": 94152}, {\"StichtagDatJahr\": \"2012-01-01T00:00:00\", \"KonOGDSort\": 4, \"KonOGDKurz\": \"andere Konf.\", \"AnzBestWir\": 182765}, {\"StichtagDatJahr\": \"2013-01-01T00:00:00\", \"KonOGDSort\": 2, \"KonOGDKurz\": \"RK\", \"AnzBestWir\": 117294}, {\"StichtagDatJahr\": \"2013-01-01T00:00:00\", \"KonOGDSort\": 1, \"KonOGDKurz\": \"EV-REF\", \"AnzBestWir\": 92629}, {\"StichtagDatJahr\": \"2013-01-01T00:00:00\", \"KonOGDSort\": 4, \"KonOGDKurz\": \"andere Konf.\", \"AnzBestWir\": 188652}, {\"StichtagDatJahr\": \"2014-01-01T00:00:00\", \"KonOGDSort\": 2, \"KonOGDKurz\": \"RK\", \"AnzBestWir\": 117314}, {\"StichtagDatJahr\": \"2014-01-01T00:00:00\", \"KonOGDSort\": 1, \"KonOGDKurz\": \"EV-REF\", \"AnzBestWir\": 91710}, {\"StichtagDatJahr\": \"2014-01-01T00:00:00\", \"KonOGDSort\": 4, \"KonOGDKurz\": \"andere Konf.\", \"AnzBestWir\": 195759}, {\"StichtagDatJahr\": \"2015-01-01T00:00:00\", \"KonOGDSort\": 2, \"KonOGDKurz\": \"RK\", \"AnzBestWir\": 117068}, {\"StichtagDatJahr\": \"2015-01-01T00:00:00\", \"KonOGDSort\": 1, \"KonOGDKurz\": \"EV-REF\", \"AnzBestWir\": 90793}, {\"StichtagDatJahr\": \"2015-01-01T00:00:00\", \"KonOGDSort\": 4, \"KonOGDKurz\": \"andere Konf.\", \"AnzBestWir\": 202543}, {\"StichtagDatJahr\": \"2016-01-01T00:00:00\", \"KonOGDSort\": 2, \"KonOGDKurz\": \"RK\", \"AnzBestWir\": 116353}, {\"StichtagDatJahr\": \"2016-01-01T00:00:00\", \"KonOGDSort\": 1, \"KonOGDKurz\": \"EV-REF\", \"AnzBestWir\": 89694}, {\"StichtagDatJahr\": \"2016-01-01T00:00:00\", \"KonOGDSort\": 4, \"KonOGDKurz\": \"andere Konf.\", \"AnzBestWir\": 209635}, {\"StichtagDatJahr\": \"2017-01-01T00:00:00\", \"KonOGDSort\": 2, \"KonOGDKurz\": \"RK\", \"AnzBestWir\": 115085}, {\"StichtagDatJahr\": \"2017-01-01T00:00:00\", \"KonOGDSort\": 1, \"KonOGDKurz\": \"EV-REF\", \"AnzBestWir\": 88011}, {\"StichtagDatJahr\": \"2017-01-01T00:00:00\", \"KonOGDSort\": 4, \"KonOGDKurz\": \"andere Konf.\", \"AnzBestWir\": 220214}, {\"StichtagDatJahr\": \"2018-01-01T00:00:00\", \"KonOGDSort\": 2, \"KonOGDKurz\": \"RK\", \"AnzBestWir\": 113073}, {\"StichtagDatJahr\": \"2018-01-01T00:00:00\", \"KonOGDSort\": 1, \"KonOGDKurz\": \"EV-REF\", \"AnzBestWir\": 86063}, {\"StichtagDatJahr\": \"2018-01-01T00:00:00\", \"KonOGDSort\": 4, \"KonOGDKurz\": \"andere Konf.\", \"AnzBestWir\": 229601}, {\"StichtagDatJahr\": \"2019-01-01T00:00:00\", \"KonOGDSort\": 2, \"KonOGDKurz\": \"RK\", \"AnzBestWir\": 110629}, {\"StichtagDatJahr\": \"2019-01-01T00:00:00\", \"KonOGDSort\": 1, \"KonOGDKurz\": \"EV-REF\", \"AnzBestWir\": 84059}, {\"StichtagDatJahr\": \"2019-01-01T00:00:00\", \"KonOGDSort\": 4, \"KonOGDKurz\": \"andere Konf.\", \"AnzBestWir\": 239320}, {\"StichtagDatJahr\": \"2020-01-01T00:00:00\", \"KonOGDSort\": 2, \"KonOGDKurz\": \"RK\", \"AnzBestWir\": 108020}, {\"StichtagDatJahr\": \"2020-01-01T00:00:00\", \"KonOGDSort\": 1, \"KonOGDKurz\": \"EV-REF\", \"AnzBestWir\": 81727}, {\"StichtagDatJahr\": \"2020-01-01T00:00:00\", \"KonOGDSort\": 4, \"KonOGDKurz\": \"andere Konf.\", \"AnzBestWir\": 244989}]}}, {\"mode\": \"vega-lite\"});\n",
       "</script>"
      ],
      "text/plain": [
       "alt.LayerChart(...)"
      ]
     },
     "execution_count": 24,
     "metadata": {},
     "output_type": "execute_result"
    }
   ],
   "source": [
    "# df_statzonen = df_statzonen[(df_statzonen.knr>0) & (df_statzonen.qname!=\"Hirslanden\")]\n",
    "#aktuellesJahr[[aktuellesJahr.KreisSort =7]])\n",
    "highlight = alt.selection(type='single', on='mouseover',\n",
    "                          fields=['KonOGDKurz'], nearest=True)\n",
    "#x='date:StichtagDatJahr',\n",
    "base = alt.Chart(mySelection).encode(\n",
    "    x='StichtagDatJahr:T',\n",
    "    y='AnzBestWir',\n",
    "    color='KonOGDKurz'\n",
    ")\n",
    "\n",
    "points = base.mark_circle().encode(\n",
    "    opacity=alt.value(0)\n",
    ").add_selection(\n",
    "    highlight\n",
    ").properties(\n",
    "    width=700 , height=300\n",
    ")\n",
    "lines = base.mark_line().encode(\n",
    "    size=alt.condition(~highlight, alt.value(1.5), alt.value(4))\n",
    ").interactive()\n",
    "\n",
    "points + lines"
   ]
  },
  {
   "cell_type": "code",
   "execution_count": 25,
   "metadata": {},
   "outputs": [
    {
     "data": {
      "text/html": [
       "\n",
       "<div id=\"altair-viz-1a20bdd6510441d1b9ef94d91c7b886b\"></div>\n",
       "<script type=\"text/javascript\">\n",
       "  (function(spec, embedOpt){\n",
       "    let outputDiv = document.currentScript.previousElementSibling;\n",
       "    if (outputDiv.id !== \"altair-viz-1a20bdd6510441d1b9ef94d91c7b886b\") {\n",
       "      outputDiv = document.getElementById(\"altair-viz-1a20bdd6510441d1b9ef94d91c7b886b\");\n",
       "    }\n",
       "    const paths = {\n",
       "      \"vega\": \"https://cdn.jsdelivr.net/npm//vega@5?noext\",\n",
       "      \"vega-lib\": \"https://cdn.jsdelivr.net/npm//vega-lib?noext\",\n",
       "      \"vega-lite\": \"https://cdn.jsdelivr.net/npm//vega-lite@4.8.1?noext\",\n",
       "      \"vega-embed\": \"https://cdn.jsdelivr.net/npm//vega-embed@6?noext\",\n",
       "    };\n",
       "\n",
       "    function loadScript(lib) {\n",
       "      return new Promise(function(resolve, reject) {\n",
       "        var s = document.createElement('script');\n",
       "        s.src = paths[lib];\n",
       "        s.async = true;\n",
       "        s.onload = () => resolve(paths[lib]);\n",
       "        s.onerror = () => reject(`Error loading script: ${paths[lib]}`);\n",
       "        document.getElementsByTagName(\"head\")[0].appendChild(s);\n",
       "      });\n",
       "    }\n",
       "\n",
       "    function showError(err) {\n",
       "      outputDiv.innerHTML = `<div class=\"error\" style=\"color:red;\">${err}</div>`;\n",
       "      throw err;\n",
       "    }\n",
       "\n",
       "    function displayChart(vegaEmbed) {\n",
       "      vegaEmbed(outputDiv, spec, embedOpt)\n",
       "        .catch(err => showError(`Javascript Error: ${err.message}<br>This usually means there's a typo in your chart specification. See the javascript console for the full traceback.`));\n",
       "    }\n",
       "\n",
       "    if(typeof define === \"function\" && define.amd) {\n",
       "      requirejs.config({paths});\n",
       "      require([\"vega-embed\"], displayChart, err => showError(`Error loading script: ${err.message}`));\n",
       "    } else if (typeof vegaEmbed === \"function\") {\n",
       "      displayChart(vegaEmbed);\n",
       "    } else {\n",
       "      loadScript(\"vega\")\n",
       "        .then(() => loadScript(\"vega-lite\"))\n",
       "        .then(() => loadScript(\"vega-embed\"))\n",
       "        .catch(showError)\n",
       "        .then(() => displayChart(vegaEmbed));\n",
       "    }\n",
       "  })({\"config\": {\"view\": {\"continuousWidth\": 400, \"continuousHeight\": 300}}, \"data\": {\"name\": \"data-a9da50e09aae35790519eb1ea4315f36\"}, \"mark\": {\"type\": \"circle\", \"size\": 60}, \"encoding\": {\"color\": {\"type\": \"nominal\", \"field\": \"KonOGDKurz\", \"scale\": {\"scheme\": \"greens\"}}, \"tooltip\": [{\"type\": \"quantitative\", \"field\": \"AnzBestWir\"}, {\"type\": \"temporal\", \"field\": \"StichtagDatJahr\"}, {\"type\": \"nominal\", \"field\": \"KonOGDKurz\"}], \"x\": {\"type\": \"quantitative\", \"field\": \"AnzBestWir\"}, \"y\": {\"type\": \"temporal\", \"field\": \"StichtagDatJahr\"}}, \"selection\": {\"selector008\": {\"type\": \"interval\", \"bind\": \"scales\", \"encodings\": [\"x\", \"y\"]}}, \"$schema\": \"https://vega.github.io/schema/vega-lite/v4.8.1.json\", \"datasets\": {\"data-a9da50e09aae35790519eb1ea4315f36\": [{\"StichtagDatJahr\": \"1934-01-01T00:00:00\", \"KonOGDSort\": 4, \"KonOGDKurz\": \"andere Konf.\", \"AnzBestWir\": 14767}, {\"StichtagDatJahr\": \"1934-01-01T00:00:00\", \"KonOGDSort\": 1, \"KonOGDKurz\": \"EV-REF\", \"AnzBestWir\": 208357}, {\"StichtagDatJahr\": \"1934-01-01T00:00:00\", \"KonOGDSort\": 2, \"KonOGDKurz\": \"RK\", \"AnzBestWir\": 92740}, {\"StichtagDatJahr\": \"1935-01-01T00:00:00\", \"KonOGDSort\": 4, \"KonOGDKurz\": \"andere Konf.\", \"AnzBestWir\": 14504}, {\"StichtagDatJahr\": \"1935-01-01T00:00:00\", \"KonOGDSort\": 2, \"KonOGDKurz\": \"RK\", \"AnzBestWir\": 93184}, {\"StichtagDatJahr\": \"1935-01-01T00:00:00\", \"KonOGDSort\": 1, \"KonOGDKurz\": \"EV-REF\", \"AnzBestWir\": 209469}, {\"StichtagDatJahr\": \"1936-01-01T00:00:00\", \"KonOGDSort\": 1, \"KonOGDKurz\": \"EV-REF\", \"AnzBestWir\": 210177}, {\"StichtagDatJahr\": \"1936-01-01T00:00:00\", \"KonOGDSort\": 4, \"KonOGDKurz\": \"andere Konf.\", \"AnzBestWir\": 14299}, {\"StichtagDatJahr\": \"1936-01-01T00:00:00\", \"KonOGDSort\": 2, \"KonOGDKurz\": \"RK\", \"AnzBestWir\": 93236}, {\"StichtagDatJahr\": \"1937-01-01T00:00:00\", \"KonOGDSort\": 4, \"KonOGDKurz\": \"andere Konf.\", \"AnzBestWir\": 14154}, {\"StichtagDatJahr\": \"1937-01-01T00:00:00\", \"KonOGDSort\": 2, \"KonOGDKurz\": \"RK\", \"AnzBestWir\": 93420}, {\"StichtagDatJahr\": \"1937-01-01T00:00:00\", \"KonOGDSort\": 1, \"KonOGDKurz\": \"EV-REF\", \"AnzBestWir\": 211352}, {\"StichtagDatJahr\": \"1938-01-01T00:00:00\", \"KonOGDSort\": 4, \"KonOGDKurz\": \"andere Konf.\", \"AnzBestWir\": 16456}, {\"StichtagDatJahr\": \"1938-01-01T00:00:00\", \"KonOGDSort\": 2, \"KonOGDKurz\": \"RK\", \"AnzBestWir\": 95216}, {\"StichtagDatJahr\": \"1938-01-01T00:00:00\", \"KonOGDSort\": 1, \"KonOGDKurz\": \"EV-REF\", \"AnzBestWir\": 215307}, {\"StichtagDatJahr\": \"1939-01-01T00:00:00\", \"KonOGDSort\": 4, \"KonOGDKurz\": \"andere Konf.\", \"AnzBestWir\": 15301}, {\"StichtagDatJahr\": \"1939-01-01T00:00:00\", \"KonOGDSort\": 2, \"KonOGDKurz\": \"RK\", \"AnzBestWir\": 97672}, {\"StichtagDatJahr\": \"1939-01-01T00:00:00\", \"KonOGDSort\": 1, \"KonOGDKurz\": \"EV-REF\", \"AnzBestWir\": 221011}, {\"StichtagDatJahr\": \"1940-01-01T00:00:00\", \"KonOGDSort\": 4, \"KonOGDKurz\": \"andere Konf.\", \"AnzBestWir\": 14166}, {\"StichtagDatJahr\": \"1940-01-01T00:00:00\", \"KonOGDSort\": 2, \"KonOGDKurz\": \"RK\", \"AnzBestWir\": 97358}, {\"StichtagDatJahr\": \"1940-01-01T00:00:00\", \"KonOGDSort\": 1, \"KonOGDKurz\": \"EV-REF\", \"AnzBestWir\": 222502}, {\"StichtagDatJahr\": \"1941-01-01T00:00:00\", \"KonOGDSort\": 4, \"KonOGDKurz\": \"andere Konf.\", \"AnzBestWir\": 13634}, {\"StichtagDatJahr\": \"1941-01-01T00:00:00\", \"KonOGDSort\": 2, \"KonOGDKurz\": \"RK\", \"AnzBestWir\": 98302}, {\"StichtagDatJahr\": \"1941-01-01T00:00:00\", \"KonOGDSort\": 1, \"KonOGDKurz\": \"EV-REF\", \"AnzBestWir\": 224595}, {\"StichtagDatJahr\": \"1942-01-01T00:00:00\", \"KonOGDSort\": 4, \"KonOGDKurz\": \"andere Konf.\", \"AnzBestWir\": 13860}, {\"StichtagDatJahr\": \"1942-01-01T00:00:00\", \"KonOGDSort\": 2, \"KonOGDKurz\": \"RK\", \"AnzBestWir\": 98962}, {\"StichtagDatJahr\": \"1942-01-01T00:00:00\", \"KonOGDSort\": 1, \"KonOGDKurz\": \"EV-REF\", \"AnzBestWir\": 226899}, {\"StichtagDatJahr\": \"1943-01-01T00:00:00\", \"KonOGDSort\": 4, \"KonOGDKurz\": \"andere Konf.\", \"AnzBestWir\": 14818}, {\"StichtagDatJahr\": \"1943-01-01T00:00:00\", \"KonOGDSort\": 2, \"KonOGDKurz\": \"RK\", \"AnzBestWir\": 100628}, {\"StichtagDatJahr\": \"1943-01-01T00:00:00\", \"KonOGDSort\": 1, \"KonOGDKurz\": \"EV-REF\", \"AnzBestWir\": 230373}, {\"StichtagDatJahr\": \"1944-01-01T00:00:00\", \"KonOGDSort\": 1, \"KonOGDKurz\": \"EV-REF\", \"AnzBestWir\": 233633}, {\"StichtagDatJahr\": \"1944-01-01T00:00:00\", \"KonOGDSort\": 4, \"KonOGDKurz\": \"andere Konf.\", \"AnzBestWir\": 15282}, {\"StichtagDatJahr\": \"1944-01-01T00:00:00\", \"KonOGDSort\": 2, \"KonOGDKurz\": \"RK\", \"AnzBestWir\": 102764}, {\"StichtagDatJahr\": \"1945-01-01T00:00:00\", \"KonOGDSort\": 4, \"KonOGDKurz\": \"andere Konf.\", \"AnzBestWir\": 15109}, {\"StichtagDatJahr\": \"1945-01-01T00:00:00\", \"KonOGDSort\": 2, \"KonOGDKurz\": \"RK\", \"AnzBestWir\": 104506}, {\"StichtagDatJahr\": \"1945-01-01T00:00:00\", \"KonOGDSort\": 1, \"KonOGDKurz\": \"EV-REF\", \"AnzBestWir\": 237766}, {\"StichtagDatJahr\": \"1946-01-01T00:00:00\", \"KonOGDSort\": 4, \"KonOGDKurz\": \"andere Konf.\", \"AnzBestWir\": 15518}, {\"StichtagDatJahr\": \"1946-01-01T00:00:00\", \"KonOGDSort\": 2, \"KonOGDKurz\": \"RK\", \"AnzBestWir\": 109171}, {\"StichtagDatJahr\": \"1946-01-01T00:00:00\", \"KonOGDSort\": 1, \"KonOGDKurz\": \"EV-REF\", \"AnzBestWir\": 242482}, {\"StichtagDatJahr\": \"1947-01-01T00:00:00\", \"KonOGDSort\": 4, \"KonOGDKurz\": \"andere Konf.\", \"AnzBestWir\": 15904}, {\"StichtagDatJahr\": \"1947-01-01T00:00:00\", \"KonOGDSort\": 2, \"KonOGDKurz\": \"RK\", \"AnzBestWir\": 114981}, {\"StichtagDatJahr\": \"1947-01-01T00:00:00\", \"KonOGDSort\": 1, \"KonOGDKurz\": \"EV-REF\", \"AnzBestWir\": 246202}, {\"StichtagDatJahr\": \"1948-01-01T00:00:00\", \"KonOGDSort\": 4, \"KonOGDKurz\": \"andere Konf.\", \"AnzBestWir\": 15857}, {\"StichtagDatJahr\": \"1948-01-01T00:00:00\", \"KonOGDSort\": 2, \"KonOGDKurz\": \"RK\", \"AnzBestWir\": 118700}, {\"StichtagDatJahr\": \"1948-01-01T00:00:00\", \"KonOGDSort\": 1, \"KonOGDKurz\": \"EV-REF\", \"AnzBestWir\": 249011}, {\"StichtagDatJahr\": \"1949-01-01T00:00:00\", \"KonOGDSort\": 4, \"KonOGDKurz\": \"andere Konf.\", \"AnzBestWir\": 15776}, {\"StichtagDatJahr\": \"1949-01-01T00:00:00\", \"KonOGDSort\": 2, \"KonOGDKurz\": \"RK\", \"AnzBestWir\": 119247}, {\"StichtagDatJahr\": \"1949-01-01T00:00:00\", \"KonOGDSort\": 1, \"KonOGDKurz\": \"EV-REF\", \"AnzBestWir\": 250980}, {\"StichtagDatJahr\": \"1950-01-01T00:00:00\", \"KonOGDSort\": 4, \"KonOGDKurz\": \"andere Konf.\", \"AnzBestWir\": 19409}, {\"StichtagDatJahr\": \"1950-01-01T00:00:00\", \"KonOGDSort\": 2, \"KonOGDKurz\": \"RK\", \"AnzBestWir\": 117102}, {\"StichtagDatJahr\": \"1950-01-01T00:00:00\", \"KonOGDSort\": 1, \"KonOGDKurz\": \"EV-REF\", \"AnzBestWir\": 253062}, {\"StichtagDatJahr\": \"1951-01-01T00:00:00\", \"KonOGDSort\": 4, \"KonOGDKurz\": \"andere Konf.\", \"AnzBestWir\": 19217}, {\"StichtagDatJahr\": \"1951-01-01T00:00:00\", \"KonOGDSort\": 2, \"KonOGDKurz\": \"RK\", \"AnzBestWir\": 121706}, {\"StichtagDatJahr\": \"1951-01-01T00:00:00\", \"KonOGDSort\": 1, \"KonOGDKurz\": \"EV-REF\", \"AnzBestWir\": 255337}, {\"StichtagDatJahr\": \"1952-01-01T00:00:00\", \"KonOGDSort\": 4, \"KonOGDKurz\": \"andere Konf.\", \"AnzBestWir\": 19053}, {\"StichtagDatJahr\": \"1952-01-01T00:00:00\", \"KonOGDSort\": 2, \"KonOGDKurz\": \"RK\", \"AnzBestWir\": 125744}, {\"StichtagDatJahr\": \"1952-01-01T00:00:00\", \"KonOGDSort\": 1, \"KonOGDKurz\": \"EV-REF\", \"AnzBestWir\": 258828}, {\"StichtagDatJahr\": \"1953-01-01T00:00:00\", \"KonOGDSort\": 4, \"KonOGDKurz\": \"andere Konf.\", \"AnzBestWir\": 18801}, {\"StichtagDatJahr\": \"1953-01-01T00:00:00\", \"KonOGDSort\": 2, \"KonOGDKurz\": \"RK\", \"AnzBestWir\": 128511}, {\"StichtagDatJahr\": \"1953-01-01T00:00:00\", \"KonOGDSort\": 1, \"KonOGDKurz\": \"EV-REF\", \"AnzBestWir\": 261232}, {\"StichtagDatJahr\": \"1954-01-01T00:00:00\", \"KonOGDSort\": 4, \"KonOGDKurz\": \"andere Konf.\", \"AnzBestWir\": 18498}, {\"StichtagDatJahr\": \"1954-01-01T00:00:00\", \"KonOGDSort\": 2, \"KonOGDKurz\": \"RK\", \"AnzBestWir\": 131654}, {\"StichtagDatJahr\": \"1954-01-01T00:00:00\", \"KonOGDSort\": 1, \"KonOGDKurz\": \"EV-REF\", \"AnzBestWir\": 262892}, {\"StichtagDatJahr\": \"1955-01-01T00:00:00\", \"KonOGDSort\": 4, \"KonOGDKurz\": \"andere Konf.\", \"AnzBestWir\": 18235}, {\"StichtagDatJahr\": \"1955-01-01T00:00:00\", \"KonOGDSort\": 2, \"KonOGDKurz\": \"RK\", \"AnzBestWir\": 135025}, {\"StichtagDatJahr\": \"1955-01-01T00:00:00\", \"KonOGDSort\": 1, \"KonOGDKurz\": \"EV-REF\", \"AnzBestWir\": 264091}, {\"StichtagDatJahr\": \"1956-01-01T00:00:00\", \"KonOGDSort\": 4, \"KonOGDKurz\": \"andere Konf.\", \"AnzBestWir\": 17989}, {\"StichtagDatJahr\": \"1956-01-01T00:00:00\", \"KonOGDSort\": 2, \"KonOGDKurz\": \"RK\", \"AnzBestWir\": 138869}, {\"StichtagDatJahr\": \"1956-01-01T00:00:00\", \"KonOGDSort\": 1, \"KonOGDKurz\": \"EV-REF\", \"AnzBestWir\": 263631}, {\"StichtagDatJahr\": \"1957-01-01T00:00:00\", \"KonOGDSort\": 4, \"KonOGDKurz\": \"andere Konf.\", \"AnzBestWir\": 17836}, {\"StichtagDatJahr\": \"1957-01-01T00:00:00\", \"KonOGDSort\": 2, \"KonOGDKurz\": \"RK\", \"AnzBestWir\": 143962}, {\"StichtagDatJahr\": \"1957-01-01T00:00:00\", \"KonOGDSort\": 1, \"KonOGDKurz\": \"EV-REF\", \"AnzBestWir\": 264551}, {\"StichtagDatJahr\": \"1958-01-01T00:00:00\", \"KonOGDSort\": 4, \"KonOGDKurz\": \"andere Konf.\", \"AnzBestWir\": 17751}, {\"StichtagDatJahr\": \"1958-01-01T00:00:00\", \"KonOGDSort\": 2, \"KonOGDKurz\": \"RK\", \"AnzBestWir\": 147228}, {\"StichtagDatJahr\": \"1958-01-01T00:00:00\", \"KonOGDSort\": 1, \"KonOGDKurz\": \"EV-REF\", \"AnzBestWir\": 266263}, {\"StichtagDatJahr\": \"1959-01-01T00:00:00\", \"KonOGDSort\": 4, \"KonOGDKurz\": \"andere Konf.\", \"AnzBestWir\": 17533}, {\"StichtagDatJahr\": \"1959-01-01T00:00:00\", \"KonOGDSort\": 2, \"KonOGDKurz\": \"RK\", \"AnzBestWir\": 149729}, {\"StichtagDatJahr\": \"1959-01-01T00:00:00\", \"KonOGDSort\": 1, \"KonOGDKurz\": \"EV-REF\", \"AnzBestWir\": 266818}, {\"StichtagDatJahr\": \"1960-01-01T00:00:00\", \"KonOGDSort\": 4, \"KonOGDKurz\": \"andere Konf.\", \"AnzBestWir\": 17575}, {\"StichtagDatJahr\": \"1960-01-01T00:00:00\", \"KonOGDSort\": 2, \"KonOGDKurz\": \"RK\", \"AnzBestWir\": 153839}, {\"StichtagDatJahr\": \"1960-01-01T00:00:00\", \"KonOGDSort\": 1, \"KonOGDKurz\": \"EV-REF\", \"AnzBestWir\": 265859}, {\"StichtagDatJahr\": \"1961-01-01T00:00:00\", \"KonOGDSort\": 4, \"KonOGDKurz\": \"andere Konf.\", \"AnzBestWir\": 18516}, {\"StichtagDatJahr\": \"1961-01-01T00:00:00\", \"KonOGDSort\": 2, \"KonOGDKurz\": \"RK\", \"AnzBestWir\": 157991}, {\"StichtagDatJahr\": \"1961-01-01T00:00:00\", \"KonOGDSort\": 1, \"KonOGDKurz\": \"EV-REF\", \"AnzBestWir\": 262815}, {\"StichtagDatJahr\": \"1962-01-01T00:00:00\", \"KonOGDSort\": 4, \"KonOGDKurz\": \"andere Konf.\", \"AnzBestWir\": 19134}, {\"StichtagDatJahr\": \"1962-01-01T00:00:00\", \"KonOGDSort\": 2, \"KonOGDKurz\": \"RK\", \"AnzBestWir\": 160828}, {\"StichtagDatJahr\": \"1962-01-01T00:00:00\", \"KonOGDSort\": 1, \"KonOGDKurz\": \"EV-REF\", \"AnzBestWir\": 260218}, {\"StichtagDatJahr\": \"1963-01-01T00:00:00\", \"KonOGDSort\": 4, \"KonOGDKurz\": \"andere Konf.\", \"AnzBestWir\": 19939}, {\"StichtagDatJahr\": \"1963-01-01T00:00:00\", \"KonOGDSort\": 2, \"KonOGDKurz\": \"RK\", \"AnzBestWir\": 161976}, {\"StichtagDatJahr\": \"1963-01-01T00:00:00\", \"KonOGDSort\": 1, \"KonOGDKurz\": \"EV-REF\", \"AnzBestWir\": 257175}, {\"StichtagDatJahr\": \"1964-01-01T00:00:00\", \"KonOGDSort\": 4, \"KonOGDKurz\": \"andere Konf.\", \"AnzBestWir\": 20286}, {\"StichtagDatJahr\": \"1964-01-01T00:00:00\", \"KonOGDSort\": 2, \"KonOGDKurz\": \"RK\", \"AnzBestWir\": 163413}, {\"StichtagDatJahr\": \"1964-01-01T00:00:00\", \"KonOGDSort\": 1, \"KonOGDKurz\": \"EV-REF\", \"AnzBestWir\": 253931}, {\"StichtagDatJahr\": \"1965-01-01T00:00:00\", \"KonOGDSort\": 4, \"KonOGDKurz\": \"andere Konf.\", \"AnzBestWir\": 20268}, {\"StichtagDatJahr\": \"1965-01-01T00:00:00\", \"KonOGDSort\": 2, \"KonOGDKurz\": \"RK\", \"AnzBestWir\": 162972}, {\"StichtagDatJahr\": \"1965-01-01T00:00:00\", \"KonOGDSort\": 1, \"KonOGDKurz\": \"EV-REF\", \"AnzBestWir\": 250625}, {\"StichtagDatJahr\": \"1966-01-01T00:00:00\", \"KonOGDSort\": 4, \"KonOGDKurz\": \"andere Konf.\", \"AnzBestWir\": 20425}, {\"StichtagDatJahr\": \"1966-01-01T00:00:00\", \"KonOGDSort\": 2, \"KonOGDKurz\": \"RK\", \"AnzBestWir\": 163934}, {\"StichtagDatJahr\": \"1966-01-01T00:00:00\", \"KonOGDSort\": 1, \"KonOGDKurz\": \"EV-REF\", \"AnzBestWir\": 247174}, {\"StichtagDatJahr\": \"1967-01-01T00:00:00\", \"KonOGDSort\": 4, \"KonOGDKurz\": \"andere Konf.\", \"AnzBestWir\": 20977}, {\"StichtagDatJahr\": \"1967-01-01T00:00:00\", \"KonOGDSort\": 2, \"KonOGDKurz\": \"RK\", \"AnzBestWir\": 165526}, {\"StichtagDatJahr\": \"1967-01-01T00:00:00\", \"KonOGDSort\": 1, \"KonOGDKurz\": \"EV-REF\", \"AnzBestWir\": 244091}, {\"StichtagDatJahr\": \"1968-01-01T00:00:00\", \"KonOGDSort\": 4, \"KonOGDKurz\": \"andere Konf.\", \"AnzBestWir\": 21862}, {\"StichtagDatJahr\": \"1968-01-01T00:00:00\", \"KonOGDSort\": 2, \"KonOGDKurz\": \"RK\", \"AnzBestWir\": 167874}, {\"StichtagDatJahr\": \"1968-01-01T00:00:00\", \"KonOGDSort\": 1, \"KonOGDKurz\": \"EV-REF\", \"AnzBestWir\": 240419}, {\"StichtagDatJahr\": \"1969-01-01T00:00:00\", \"KonOGDSort\": 4, \"KonOGDKurz\": \"andere Konf.\", \"AnzBestWir\": 22503}, {\"StichtagDatJahr\": \"1969-01-01T00:00:00\", \"KonOGDSort\": 2, \"KonOGDKurz\": \"RK\", \"AnzBestWir\": 165869}, {\"StichtagDatJahr\": \"1969-01-01T00:00:00\", \"KonOGDSort\": 1, \"KonOGDKurz\": \"EV-REF\", \"AnzBestWir\": 236745}, {\"StichtagDatJahr\": \"1970-01-01T00:00:00\", \"KonOGDSort\": 4, \"KonOGDKurz\": \"andere Konf.\", \"AnzBestWir\": 22723}, {\"StichtagDatJahr\": \"1970-01-01T00:00:00\", \"KonOGDSort\": 2, \"KonOGDKurz\": \"RK\", \"AnzBestWir\": 163530}, {\"StichtagDatJahr\": \"1970-01-01T00:00:00\", \"KonOGDSort\": 1, \"KonOGDKurz\": \"EV-REF\", \"AnzBestWir\": 231719}, {\"StichtagDatJahr\": \"1971-01-01T00:00:00\", \"KonOGDSort\": 4, \"KonOGDKurz\": \"andere Konf.\", \"AnzBestWir\": 23605}, {\"StichtagDatJahr\": \"1971-01-01T00:00:00\", \"KonOGDSort\": 2, \"KonOGDKurz\": \"RK\", \"AnzBestWir\": 162336}, {\"StichtagDatJahr\": \"1971-01-01T00:00:00\", \"KonOGDSort\": 1, \"KonOGDKurz\": \"EV-REF\", \"AnzBestWir\": 226228}, {\"StichtagDatJahr\": \"1972-01-01T00:00:00\", \"KonOGDSort\": 4, \"KonOGDKurz\": \"andere Konf.\", \"AnzBestWir\": 24786}, {\"StichtagDatJahr\": \"1972-01-01T00:00:00\", \"KonOGDSort\": 2, \"KonOGDKurz\": \"RK\", \"AnzBestWir\": 162209}, {\"StichtagDatJahr\": \"1972-01-01T00:00:00\", \"KonOGDSort\": 1, \"KonOGDKurz\": \"EV-REF\", \"AnzBestWir\": 220652}, {\"StichtagDatJahr\": \"1973-01-01T00:00:00\", \"KonOGDSort\": 4, \"KonOGDKurz\": \"andere Konf.\", \"AnzBestWir\": 26403}, {\"StichtagDatJahr\": \"1973-01-01T00:00:00\", \"KonOGDSort\": 2, \"KonOGDKurz\": \"RK\", \"AnzBestWir\": 161036}, {\"StichtagDatJahr\": \"1973-01-01T00:00:00\", \"KonOGDSort\": 1, \"KonOGDKurz\": \"EV-REF\", \"AnzBestWir\": 214138}, {\"StichtagDatJahr\": \"1974-01-01T00:00:00\", \"KonOGDSort\": 4, \"KonOGDKurz\": \"andere Konf.\", \"AnzBestWir\": 28327}, {\"StichtagDatJahr\": \"1974-01-01T00:00:00\", \"KonOGDSort\": 2, \"KonOGDKurz\": \"RK\", \"AnzBestWir\": 159648}, {\"StichtagDatJahr\": \"1974-01-01T00:00:00\", \"KonOGDSort\": 1, \"KonOGDKurz\": \"EV-REF\", \"AnzBestWir\": 208286}, {\"StichtagDatJahr\": \"1975-01-01T00:00:00\", \"KonOGDSort\": 4, \"KonOGDKurz\": \"andere Konf.\", \"AnzBestWir\": 29211}, {\"StichtagDatJahr\": \"1975-01-01T00:00:00\", \"KonOGDSort\": 2, \"KonOGDKurz\": \"RK\", \"AnzBestWir\": 156151}, {\"StichtagDatJahr\": \"1975-01-01T00:00:00\", \"KonOGDSort\": 1, \"KonOGDKurz\": \"EV-REF\", \"AnzBestWir\": 204251}, {\"StichtagDatJahr\": \"1976-01-01T00:00:00\", \"KonOGDSort\": 1, \"KonOGDKurz\": \"EV-REF\", \"AnzBestWir\": 200259}, {\"StichtagDatJahr\": \"1976-01-01T00:00:00\", \"KonOGDSort\": 4, \"KonOGDKurz\": \"andere Konf.\", \"AnzBestWir\": 30226}, {\"StichtagDatJahr\": \"1976-01-01T00:00:00\", \"KonOGDSort\": 2, \"KonOGDKurz\": \"RK\", \"AnzBestWir\": 152514}, {\"StichtagDatJahr\": \"1977-01-01T00:00:00\", \"KonOGDSort\": 4, \"KonOGDKurz\": \"andere Konf.\", \"AnzBestWir\": 31707}, {\"StichtagDatJahr\": \"1977-01-01T00:00:00\", \"KonOGDSort\": 2, \"KonOGDKurz\": \"RK\", \"AnzBestWir\": 150577}, {\"StichtagDatJahr\": \"1977-01-01T00:00:00\", \"KonOGDSort\": 1, \"KonOGDKurz\": \"EV-REF\", \"AnzBestWir\": 197351}, {\"StichtagDatJahr\": \"1978-01-01T00:00:00\", \"KonOGDSort\": 4, \"KonOGDKurz\": \"andere Konf.\", \"AnzBestWir\": 33636}, {\"StichtagDatJahr\": \"1978-01-01T00:00:00\", \"KonOGDSort\": 2, \"KonOGDKurz\": \"RK\", \"AnzBestWir\": 149089}, {\"StichtagDatJahr\": \"1978-01-01T00:00:00\", \"KonOGDSort\": 1, \"KonOGDKurz\": \"EV-REF\", \"AnzBestWir\": 193722}, {\"StichtagDatJahr\": \"1979-01-01T00:00:00\", \"KonOGDSort\": 4, \"KonOGDKurz\": \"andere Konf.\", \"AnzBestWir\": 35550}, {\"StichtagDatJahr\": \"1979-01-01T00:00:00\", \"KonOGDSort\": 2, \"KonOGDKurz\": \"RK\", \"AnzBestWir\": 148621}, {\"StichtagDatJahr\": \"1979-01-01T00:00:00\", \"KonOGDSort\": 1, \"KonOGDKurz\": \"EV-REF\", \"AnzBestWir\": 190050}, {\"StichtagDatJahr\": \"1980-01-01T00:00:00\", \"KonOGDSort\": 1, \"KonOGDKurz\": \"EV-REF\", \"AnzBestWir\": 175136}, {\"StichtagDatJahr\": \"1980-01-01T00:00:00\", \"KonOGDSort\": 4, \"KonOGDKurz\": \"andere Konf.\", \"AnzBestWir\": 48924}, {\"StichtagDatJahr\": \"1980-01-01T00:00:00\", \"KonOGDSort\": 2, \"KonOGDKurz\": \"RK\", \"AnzBestWir\": 146558}, {\"StichtagDatJahr\": \"1981-01-01T00:00:00\", \"KonOGDSort\": 2, \"KonOGDKurz\": \"RK\", \"AnzBestWir\": 145838}, {\"StichtagDatJahr\": \"1981-01-01T00:00:00\", \"KonOGDSort\": 4, \"KonOGDKurz\": \"andere Konf.\", \"AnzBestWir\": 51377}, {\"StichtagDatJahr\": \"1981-01-01T00:00:00\", \"KonOGDSort\": 1, \"KonOGDKurz\": \"EV-REF\", \"AnzBestWir\": 170956}, {\"StichtagDatJahr\": \"1982-01-01T00:00:00\", \"KonOGDSort\": 4, \"KonOGDKurz\": \"andere Konf.\", \"AnzBestWir\": 54388}, {\"StichtagDatJahr\": \"1982-01-01T00:00:00\", \"KonOGDSort\": 2, \"KonOGDKurz\": \"RK\", \"AnzBestWir\": 145447}, {\"StichtagDatJahr\": \"1982-01-01T00:00:00\", \"KonOGDSort\": 1, \"KonOGDKurz\": \"EV-REF\", \"AnzBestWir\": 166505}, {\"StichtagDatJahr\": \"1983-01-01T00:00:00\", \"KonOGDSort\": 4, \"KonOGDKurz\": \"andere Konf.\", \"AnzBestWir\": 56586}, {\"StichtagDatJahr\": \"1983-01-01T00:00:00\", \"KonOGDSort\": 2, \"KonOGDKurz\": \"RK\", \"AnzBestWir\": 144690}, {\"StichtagDatJahr\": \"1983-01-01T00:00:00\", \"KonOGDSort\": 1, \"KonOGDKurz\": \"EV-REF\", \"AnzBestWir\": 162376}, {\"StichtagDatJahr\": \"1984-01-01T00:00:00\", \"KonOGDSort\": 1, \"KonOGDKurz\": \"EV-REF\", \"AnzBestWir\": 159392}, {\"StichtagDatJahr\": \"1984-01-01T00:00:00\", \"KonOGDSort\": 4, \"KonOGDKurz\": \"andere Konf.\", \"AnzBestWir\": 58488}, {\"StichtagDatJahr\": \"1984-01-01T00:00:00\", \"KonOGDSort\": 2, \"KonOGDKurz\": \"RK\", \"AnzBestWir\": 143613}, {\"StichtagDatJahr\": \"1985-01-01T00:00:00\", \"KonOGDSort\": 2, \"KonOGDKurz\": \"RK\", \"AnzBestWir\": 142716}, {\"StichtagDatJahr\": \"1985-01-01T00:00:00\", \"KonOGDSort\": 4, \"KonOGDKurz\": \"andere Konf.\", \"AnzBestWir\": 60252}, {\"StichtagDatJahr\": \"1985-01-01T00:00:00\", \"KonOGDSort\": 1, \"KonOGDKurz\": \"EV-REF\", \"AnzBestWir\": 156116}, {\"StichtagDatJahr\": \"1986-01-01T00:00:00\", \"KonOGDSort\": 4, \"KonOGDKurz\": \"andere Konf.\", \"AnzBestWir\": 63116}, {\"StichtagDatJahr\": \"1986-01-01T00:00:00\", \"KonOGDSort\": 2, \"KonOGDKurz\": \"RK\", \"AnzBestWir\": 142616}, {\"StichtagDatJahr\": \"1986-01-01T00:00:00\", \"KonOGDSort\": 1, \"KonOGDKurz\": \"EV-REF\", \"AnzBestWir\": 153141}, {\"StichtagDatJahr\": \"1987-01-01T00:00:00\", \"KonOGDSort\": 4, \"KonOGDKurz\": \"andere Konf.\", \"AnzBestWir\": 65980}, {\"StichtagDatJahr\": \"1987-01-01T00:00:00\", \"KonOGDSort\": 2, \"KonOGDKurz\": \"RK\", \"AnzBestWir\": 142271}, {\"StichtagDatJahr\": \"1987-01-01T00:00:00\", \"KonOGDSort\": 1, \"KonOGDKurz\": \"EV-REF\", \"AnzBestWir\": 149791}, {\"StichtagDatJahr\": \"1988-01-01T00:00:00\", \"KonOGDSort\": 4, \"KonOGDKurz\": \"andere Konf.\", \"AnzBestWir\": 68824}, {\"StichtagDatJahr\": \"1988-01-01T00:00:00\", \"KonOGDSort\": 2, \"KonOGDKurz\": \"RK\", \"AnzBestWir\": 141816}, {\"StichtagDatJahr\": \"1988-01-01T00:00:00\", \"KonOGDSort\": 1, \"KonOGDKurz\": \"EV-REF\", \"AnzBestWir\": 146720}, {\"StichtagDatJahr\": \"1989-01-01T00:00:00\", \"KonOGDSort\": 2, \"KonOGDKurz\": \"RK\", \"AnzBestWir\": 140908}, {\"StichtagDatJahr\": \"1989-01-01T00:00:00\", \"KonOGDSort\": 4, \"KonOGDKurz\": \"andere Konf.\", \"AnzBestWir\": 71602}, {\"StichtagDatJahr\": \"1989-01-01T00:00:00\", \"KonOGDSort\": 1, \"KonOGDKurz\": \"EV-REF\", \"AnzBestWir\": 143391}, {\"StichtagDatJahr\": \"1990-01-01T00:00:00\", \"KonOGDSort\": 4, \"KonOGDKurz\": \"andere Konf.\", \"AnzBestWir\": 76114}, {\"StichtagDatJahr\": \"1990-01-01T00:00:00\", \"KonOGDSort\": 1, \"KonOGDKurz\": \"EV-REF\", \"AnzBestWir\": 140044}, {\"StichtagDatJahr\": \"1990-01-01T00:00:00\", \"KonOGDSort\": 2, \"KonOGDKurz\": \"RK\", \"AnzBestWir\": 140194}, {\"StichtagDatJahr\": \"1991-01-01T00:00:00\", \"KonOGDSort\": 2, \"KonOGDKurz\": \"RK\", \"AnzBestWir\": 138479}, {\"StichtagDatJahr\": \"1991-01-01T00:00:00\", \"KonOGDSort\": 4, \"KonOGDKurz\": \"andere Konf.\", \"AnzBestWir\": 87312}, {\"StichtagDatJahr\": \"1991-01-01T00:00:00\", \"KonOGDSort\": 1, \"KonOGDKurz\": \"EV-REF\", \"AnzBestWir\": 135084}, {\"StichtagDatJahr\": \"1992-01-01T00:00:00\", \"KonOGDSort\": 4, \"KonOGDKurz\": \"andere Konf.\", \"AnzBestWir\": 86439}, {\"StichtagDatJahr\": \"1992-01-01T00:00:00\", \"KonOGDSort\": 2, \"KonOGDKurz\": \"RK\", \"AnzBestWir\": 138969}, {\"StichtagDatJahr\": \"1992-01-01T00:00:00\", \"KonOGDSort\": 1, \"KonOGDKurz\": \"EV-REF\", \"AnzBestWir\": 134256}, {\"StichtagDatJahr\": \"1993-01-01T00:00:00\", \"KonOGDSort\": 2, \"KonOGDKurz\": \"RK\", \"AnzBestWir\": 134612}, {\"StichtagDatJahr\": \"1993-01-01T00:00:00\", \"KonOGDSort\": 1, \"KonOGDKurz\": \"EV-REF\", \"AnzBestWir\": 129157}, {\"StichtagDatJahr\": \"1993-01-01T00:00:00\", \"KonOGDSort\": 4, \"KonOGDKurz\": \"andere Konf.\", \"AnzBestWir\": 97129}, {\"StichtagDatJahr\": \"1994-01-01T00:00:00\", \"KonOGDSort\": 2, \"KonOGDKurz\": \"RK\", \"AnzBestWir\": 132975}, {\"StichtagDatJahr\": \"1994-01-01T00:00:00\", \"KonOGDSort\": 1, \"KonOGDKurz\": \"EV-REF\", \"AnzBestWir\": 126379}, {\"StichtagDatJahr\": \"1994-01-01T00:00:00\", \"KonOGDSort\": 4, \"KonOGDKurz\": \"andere Konf.\", \"AnzBestWir\": 101494}, {\"StichtagDatJahr\": \"1995-01-01T00:00:00\", \"KonOGDSort\": 2, \"KonOGDKurz\": \"RK\", \"AnzBestWir\": 131477}, {\"StichtagDatJahr\": \"1995-01-01T00:00:00\", \"KonOGDSort\": 1, \"KonOGDKurz\": \"EV-REF\", \"AnzBestWir\": 123481}, {\"StichtagDatJahr\": \"1995-01-01T00:00:00\", \"KonOGDSort\": 4, \"KonOGDKurz\": \"andere Konf.\", \"AnzBestWir\": 105868}, {\"StichtagDatJahr\": \"1996-01-01T00:00:00\", \"KonOGDSort\": 2, \"KonOGDKurz\": \"RK\", \"AnzBestWir\": 129522}, {\"StichtagDatJahr\": \"1996-01-01T00:00:00\", \"KonOGDSort\": 1, \"KonOGDKurz\": \"EV-REF\", \"AnzBestWir\": 120784}, {\"StichtagDatJahr\": \"1996-01-01T00:00:00\", \"KonOGDSort\": 4, \"KonOGDKurz\": \"andere Konf.\", \"AnzBestWir\": 109342}, {\"StichtagDatJahr\": \"1997-01-01T00:00:00\", \"KonOGDSort\": 2, \"KonOGDKurz\": \"RK\", \"AnzBestWir\": 127136}, {\"StichtagDatJahr\": \"1997-01-01T00:00:00\", \"KonOGDSort\": 1, \"KonOGDKurz\": \"EV-REF\", \"AnzBestWir\": 118295}, {\"StichtagDatJahr\": \"1997-01-01T00:00:00\", \"KonOGDSort\": 4, \"KonOGDKurz\": \"andere Konf.\", \"AnzBestWir\": 113163}, {\"StichtagDatJahr\": \"1998-01-01T00:00:00\", \"KonOGDSort\": 2, \"KonOGDKurz\": \"RK\", \"AnzBestWir\": 125744}, {\"StichtagDatJahr\": \"1998-01-01T00:00:00\", \"KonOGDSort\": 1, \"KonOGDKurz\": \"EV-REF\", \"AnzBestWir\": 116352}, {\"StichtagDatJahr\": \"1998-01-01T00:00:00\", \"KonOGDSort\": 4, \"KonOGDKurz\": \"andere Konf.\", \"AnzBestWir\": 116977}, {\"StichtagDatJahr\": \"1999-01-01T00:00:00\", \"KonOGDSort\": 2, \"KonOGDKurz\": \"RK\", \"AnzBestWir\": 124729}, {\"StichtagDatJahr\": \"1999-01-01T00:00:00\", \"KonOGDSort\": 1, \"KonOGDKurz\": \"EV-REF\", \"AnzBestWir\": 114276}, {\"StichtagDatJahr\": \"1999-01-01T00:00:00\", \"KonOGDSort\": 4, \"KonOGDKurz\": \"andere Konf.\", \"AnzBestWir\": 121699}, {\"StichtagDatJahr\": \"2000-01-01T00:00:00\", \"KonOGDSort\": 2, \"KonOGDKurz\": \"RK\", \"AnzBestWir\": 123908}, {\"StichtagDatJahr\": \"2000-01-01T00:00:00\", \"KonOGDSort\": 1, \"KonOGDKurz\": \"EV-REF\", \"AnzBestWir\": 112513}, {\"StichtagDatJahr\": \"2000-01-01T00:00:00\", \"KonOGDSort\": 4, \"KonOGDKurz\": \"andere Konf.\", \"AnzBestWir\": 124559}, {\"StichtagDatJahr\": \"2001-01-01T00:00:00\", \"KonOGDSort\": 2, \"KonOGDKurz\": \"RK\", \"AnzBestWir\": 123085}, {\"StichtagDatJahr\": \"2001-01-01T00:00:00\", \"KonOGDSort\": 1, \"KonOGDKurz\": \"EV-REF\", \"AnzBestWir\": 110801}, {\"StichtagDatJahr\": \"2001-01-01T00:00:00\", \"KonOGDSort\": 4, \"KonOGDKurz\": \"andere Konf.\", \"AnzBestWir\": 128156}, {\"StichtagDatJahr\": \"2002-01-01T00:00:00\", \"KonOGDSort\": 2, \"KonOGDKurz\": \"RK\", \"AnzBestWir\": 123217}, {\"StichtagDatJahr\": \"2002-01-01T00:00:00\", \"KonOGDSort\": 1, \"KonOGDKurz\": \"EV-REF\", \"AnzBestWir\": 109027}, {\"StichtagDatJahr\": \"2002-01-01T00:00:00\", \"KonOGDSort\": 4, \"KonOGDKurz\": \"andere Konf.\", \"AnzBestWir\": 132314}, {\"StichtagDatJahr\": \"2003-01-01T00:00:00\", \"KonOGDSort\": 2, \"KonOGDKurz\": \"RK\", \"AnzBestWir\": 121938}, {\"StichtagDatJahr\": \"2003-01-01T00:00:00\", \"KonOGDSort\": 1, \"KonOGDKurz\": \"EV-REF\", \"AnzBestWir\": 106504}, {\"StichtagDatJahr\": \"2003-01-01T00:00:00\", \"KonOGDSort\": 4, \"KonOGDKurz\": \"andere Konf.\", \"AnzBestWir\": 136086}, {\"StichtagDatJahr\": \"2004-01-01T00:00:00\", \"KonOGDSort\": 2, \"KonOGDKurz\": \"RK\", \"AnzBestWir\": 120497}, {\"StichtagDatJahr\": \"2004-01-01T00:00:00\", \"KonOGDSort\": 1, \"KonOGDKurz\": \"EV-REF\", \"AnzBestWir\": 104376}, {\"StichtagDatJahr\": \"2004-01-01T00:00:00\", \"KonOGDSort\": 4, \"KonOGDKurz\": \"andere Konf.\", \"AnzBestWir\": 140104}, {\"StichtagDatJahr\": \"2005-01-01T00:00:00\", \"KonOGDSort\": 2, \"KonOGDKurz\": \"RK\", \"AnzBestWir\": 119838}, {\"StichtagDatJahr\": \"2005-01-01T00:00:00\", \"KonOGDSort\": 1, \"KonOGDKurz\": \"EV-REF\", \"AnzBestWir\": 102863}, {\"StichtagDatJahr\": \"2005-01-01T00:00:00\", \"KonOGDSort\": 4, \"KonOGDKurz\": \"andere Konf.\", \"AnzBestWir\": 144108}, {\"StichtagDatJahr\": \"2006-01-01T00:00:00\", \"KonOGDSort\": 2, \"KonOGDKurz\": \"RK\", \"AnzBestWir\": 119517}, {\"StichtagDatJahr\": \"2006-01-01T00:00:00\", \"KonOGDSort\": 1, \"KonOGDKurz\": \"EV-REF\", \"AnzBestWir\": 101698}, {\"StichtagDatJahr\": \"2006-01-01T00:00:00\", \"KonOGDSort\": 4, \"KonOGDKurz\": \"andere Konf.\", \"AnzBestWir\": 148847}, {\"StichtagDatJahr\": \"2007-01-01T00:00:00\", \"KonOGDSort\": 2, \"KonOGDKurz\": \"RK\", \"AnzBestWir\": 120170}, {\"StichtagDatJahr\": \"2007-01-01T00:00:00\", \"KonOGDSort\": 1, \"KonOGDKurz\": \"EV-REF\", \"AnzBestWir\": 101587}, {\"StichtagDatJahr\": \"2007-01-01T00:00:00\", \"KonOGDSort\": 4, \"KonOGDKurz\": \"andere Konf.\", \"AnzBestWir\": 155058}, {\"StichtagDatJahr\": \"2008-01-01T00:00:00\", \"KonOGDSort\": 2, \"KonOGDKurz\": \"RK\", \"AnzBestWir\": 120322}, {\"StichtagDatJahr\": \"2008-01-01T00:00:00\", \"KonOGDSort\": 1, \"KonOGDKurz\": \"EV-REF\", \"AnzBestWir\": 100514}, {\"StichtagDatJahr\": \"2008-01-01T00:00:00\", \"KonOGDSort\": 4, \"KonOGDKurz\": \"andere Konf.\", \"AnzBestWir\": 159663}, {\"StichtagDatJahr\": \"2009-01-01T00:00:00\", \"KonOGDSort\": 2, \"KonOGDKurz\": \"RK\", \"AnzBestWir\": 119076}, {\"StichtagDatJahr\": \"2009-01-01T00:00:00\", \"KonOGDSort\": 1, \"KonOGDKurz\": \"EV-REF\", \"AnzBestWir\": 99008}, {\"StichtagDatJahr\": \"2009-01-01T00:00:00\", \"KonOGDSort\": 4, \"KonOGDKurz\": \"andere Konf.\", \"AnzBestWir\": 164822}, {\"StichtagDatJahr\": \"2010-01-01T00:00:00\", \"KonOGDSort\": 2, \"KonOGDKurz\": \"RK\", \"AnzBestWir\": 117615}, {\"StichtagDatJahr\": \"2010-01-01T00:00:00\", \"KonOGDSort\": 1, \"KonOGDKurz\": \"EV-REF\", \"AnzBestWir\": 97072}, {\"StichtagDatJahr\": \"2010-01-01T00:00:00\", \"KonOGDSort\": 4, \"KonOGDKurz\": \"andere Konf.\", \"AnzBestWir\": 170781}, {\"StichtagDatJahr\": \"2011-01-01T00:00:00\", \"KonOGDSort\": 2, \"KonOGDKurz\": \"RK\", \"AnzBestWir\": 117410}, {\"StichtagDatJahr\": \"2011-01-01T00:00:00\", \"KonOGDSort\": 1, \"KonOGDKurz\": \"EV-REF\", \"AnzBestWir\": 95625}, {\"StichtagDatJahr\": \"2011-01-01T00:00:00\", \"KonOGDSort\": 4, \"KonOGDKurz\": \"andere Konf.\", \"AnzBestWir\": 177047}, {\"StichtagDatJahr\": \"2012-01-01T00:00:00\", \"KonOGDSort\": 2, \"KonOGDKurz\": \"RK\", \"AnzBestWir\": 117095}, {\"StichtagDatJahr\": \"2012-01-01T00:00:00\", \"KonOGDSort\": 1, \"KonOGDKurz\": \"EV-REF\", \"AnzBestWir\": 94152}, {\"StichtagDatJahr\": \"2012-01-01T00:00:00\", \"KonOGDSort\": 4, \"KonOGDKurz\": \"andere Konf.\", \"AnzBestWir\": 182765}, {\"StichtagDatJahr\": \"2013-01-01T00:00:00\", \"KonOGDSort\": 2, \"KonOGDKurz\": \"RK\", \"AnzBestWir\": 117294}, {\"StichtagDatJahr\": \"2013-01-01T00:00:00\", \"KonOGDSort\": 1, \"KonOGDKurz\": \"EV-REF\", \"AnzBestWir\": 92629}, {\"StichtagDatJahr\": \"2013-01-01T00:00:00\", \"KonOGDSort\": 4, \"KonOGDKurz\": \"andere Konf.\", \"AnzBestWir\": 188652}, {\"StichtagDatJahr\": \"2014-01-01T00:00:00\", \"KonOGDSort\": 2, \"KonOGDKurz\": \"RK\", \"AnzBestWir\": 117314}, {\"StichtagDatJahr\": \"2014-01-01T00:00:00\", \"KonOGDSort\": 1, \"KonOGDKurz\": \"EV-REF\", \"AnzBestWir\": 91710}, {\"StichtagDatJahr\": \"2014-01-01T00:00:00\", \"KonOGDSort\": 4, \"KonOGDKurz\": \"andere Konf.\", \"AnzBestWir\": 195759}, {\"StichtagDatJahr\": \"2015-01-01T00:00:00\", \"KonOGDSort\": 2, \"KonOGDKurz\": \"RK\", \"AnzBestWir\": 117068}, {\"StichtagDatJahr\": \"2015-01-01T00:00:00\", \"KonOGDSort\": 1, \"KonOGDKurz\": \"EV-REF\", \"AnzBestWir\": 90793}, {\"StichtagDatJahr\": \"2015-01-01T00:00:00\", \"KonOGDSort\": 4, \"KonOGDKurz\": \"andere Konf.\", \"AnzBestWir\": 202543}, {\"StichtagDatJahr\": \"2016-01-01T00:00:00\", \"KonOGDSort\": 2, \"KonOGDKurz\": \"RK\", \"AnzBestWir\": 116353}, {\"StichtagDatJahr\": \"2016-01-01T00:00:00\", \"KonOGDSort\": 1, \"KonOGDKurz\": \"EV-REF\", \"AnzBestWir\": 89694}, {\"StichtagDatJahr\": \"2016-01-01T00:00:00\", \"KonOGDSort\": 4, \"KonOGDKurz\": \"andere Konf.\", \"AnzBestWir\": 209635}, {\"StichtagDatJahr\": \"2017-01-01T00:00:00\", \"KonOGDSort\": 2, \"KonOGDKurz\": \"RK\", \"AnzBestWir\": 115085}, {\"StichtagDatJahr\": \"2017-01-01T00:00:00\", \"KonOGDSort\": 1, \"KonOGDKurz\": \"EV-REF\", \"AnzBestWir\": 88011}, {\"StichtagDatJahr\": \"2017-01-01T00:00:00\", \"KonOGDSort\": 4, \"KonOGDKurz\": \"andere Konf.\", \"AnzBestWir\": 220214}, {\"StichtagDatJahr\": \"2018-01-01T00:00:00\", \"KonOGDSort\": 2, \"KonOGDKurz\": \"RK\", \"AnzBestWir\": 113073}, {\"StichtagDatJahr\": \"2018-01-01T00:00:00\", \"KonOGDSort\": 1, \"KonOGDKurz\": \"EV-REF\", \"AnzBestWir\": 86063}, {\"StichtagDatJahr\": \"2018-01-01T00:00:00\", \"KonOGDSort\": 4, \"KonOGDKurz\": \"andere Konf.\", \"AnzBestWir\": 229601}, {\"StichtagDatJahr\": \"2019-01-01T00:00:00\", \"KonOGDSort\": 2, \"KonOGDKurz\": \"RK\", \"AnzBestWir\": 110629}, {\"StichtagDatJahr\": \"2019-01-01T00:00:00\", \"KonOGDSort\": 1, \"KonOGDKurz\": \"EV-REF\", \"AnzBestWir\": 84059}, {\"StichtagDatJahr\": \"2019-01-01T00:00:00\", \"KonOGDSort\": 4, \"KonOGDKurz\": \"andere Konf.\", \"AnzBestWir\": 239320}, {\"StichtagDatJahr\": \"2020-01-01T00:00:00\", \"KonOGDSort\": 2, \"KonOGDKurz\": \"RK\", \"AnzBestWir\": 108020}, {\"StichtagDatJahr\": \"2020-01-01T00:00:00\", \"KonOGDSort\": 1, \"KonOGDKurz\": \"EV-REF\", \"AnzBestWir\": 81727}, {\"StichtagDatJahr\": \"2020-01-01T00:00:00\", \"KonOGDSort\": 4, \"KonOGDKurz\": \"andere Konf.\", \"AnzBestWir\": 244989}]}}, {\"mode\": \"vega-lite\"});\n",
       "</script>"
      ],
      "text/plain": [
       "alt.Chart(...)"
      ]
     },
     "execution_count": 25,
     "metadata": {},
     "output_type": "execute_result"
    }
   ],
   "source": [
    "alt.Chart(data2betested).mark_circle(size=60).encode(\n",
    "    x='AnzBestWir',\n",
    "    y='StichtagDatJahr:T',\n",
    "    #color='AnzNat',\n",
    "    #color=alt.Color('AnzNat', scale=alt.Scale(scheme='dark2')),\n",
    "    color=alt.Color('KonOGDKurz', scale=alt.Scale(scheme='greens')),\n",
    "    tooltip=['AnzBestWir','StichtagDatJahr','KonOGDKurz']\n",
    ").interactive() # this makes the axes interactive: now you can zoom & pan\n",
    "\n",
    "\n"
   ]
  },
  {
   "cell_type": "markdown",
   "metadata": {},
   "source": [
    "**Sharepoint als gecheckt markieren!**"
   ]
  },
  {
   "cell_type": "markdown",
   "metadata": {},
   "source": [
    "Record auf Sharepoint: **[Link](http://kollaboration.intranet.stzh.ch/orga/ssz-produkte/Lists/SASA_Outputs/EditForm.aspx?ID=52&Source=%2Forga%2Fssz%2Dprodukte%2FLists%2FSASA%5FOutputs)**"
   ]
  },
  {
   "cell_type": "raw",
   "metadata": {},
   "source": []
  },
  {
   "cell_type": "code",
   "execution_count": null,
   "metadata": {},
   "outputs": [],
   "source": []
  }
 ],
 "metadata": {
  "kernelspec": {
   "display_name": "Python 3",
   "language": "python",
   "name": "python3"
  },
  "language_info": {
   "codemirror_mode": {
    "name": "ipython",
    "version": 3
   },
   "file_extension": ".py",
   "mimetype": "text/x-python",
   "name": "python",
   "nbconvert_exporter": "python",
   "pygments_lexer": "ipython3",
   "version": "3.8.3"
  }
 },
 "nbformat": 4,
 "nbformat_minor": 4
}
