{
 "cells": [
  {
   "cell_type": "markdown",
   "metadata": {},
   "source": [
    "# Testing\n",
    "### Daten der Bevölkerungsbefragung der Stadt Zürich 1999 bis 2021\n",
    "Datum: 10.12.2021"
   ]
  },
  {
   "cell_type": "markdown",
   "metadata": {},
   "source": [
    "### Importiere die notwendigen Packages"
   ]
  },
  {
   "cell_type": "code",
   "execution_count": 1,
   "metadata": {},
   "outputs": [],
   "source": [
    "#%pip install geopandas altair fiona requests folium mplleaflet contextily seaborn datetime plotly leafmap"
   ]
  },
  {
   "cell_type": "code",
   "execution_count": 2,
   "metadata": {},
   "outputs": [],
   "source": [
    "import pandas as pd\n",
    "import pivottablejs\n",
    "from pivottablejs import pivot_ui\n",
    "import numpy as np\n",
    "import altair as alt\n",
    "import matplotlib.pyplot as plt\n",
    "\n",
    "import datetime\n",
    "import geopandas as gpd\n",
    "import folium \n",
    "import plotly.express as px\n",
    "import seaborn as sns\n",
    "import leafmap\n",
    "\n",
    "import requests\n",
    "import io\n",
    "\n",
    "import plotly.express as px\n"
   ]
  },
  {
   "cell_type": "code",
   "execution_count": 3,
   "metadata": {},
   "outputs": [],
   "source": [
    "SSL_VERIFY = False\n",
    "# evtl. SSL_VERIFY auf False setzen wenn die Verbindung zu https://www.gemeinderat-zuerich.ch nicht klappt (z.B. wegen Proxy)\n",
    "# Um die SSL Verifikation auszustellen, bitte die nächste Zeile einkommentieren (\"#\" entfernen)\n",
    "# SSL_VERIFY = False"
   ]
  },
  {
   "cell_type": "code",
   "execution_count": 4,
   "metadata": {},
   "outputs": [],
   "source": [
    "if not SSL_VERIFY:\n",
    "    import urllib3\n",
    "    urllib3.disable_warnings()"
   ]
  },
  {
   "cell_type": "markdown",
   "metadata": {},
   "source": [
    "Definiere Settings. Hier das Zahlenformat von Float-Werten (z.B. *'{:,.2f}'.format* mit Komma als Tausenderzeichen), "
   ]
  },
  {
   "cell_type": "code",
   "execution_count": 5,
   "metadata": {},
   "outputs": [],
   "source": [
    "#pd.options.display.float_format = lambda x : '{:,.1f}'.format(x) if (np.isnan(x) | np.isinf(x)) else '{:,.0f}'.format(x) if int(x) == x else '{:,.1f}'.format(x)\n",
    "pd.options.display.float_format = '{:.0f}'.format\n",
    "pd.set_option('display.width', 100)\n",
    "pd.set_option('display.max_columns', 15)"
   ]
  },
  {
   "cell_type": "markdown",
   "metadata": {},
   "source": [
    "### Zeitvariabeln\n",
    "Bestimme den aktuellst geladenen Monat. Hier ist es der Stand vor 2 Monaten. \n",
    "Bestimme noch weitere evt. sinnvolle Zeitvariabeln.\n",
    "\n",
    "Zum Unterschied zwischen import datetime und from datedtime import datetime, siehe https://stackoverflow.com/questions/15707532/import-datetime-v-s-from-datetime-import-datetime\n",
    "\n",
    "Zuerst die Zeitvariabeln als Strings"
   ]
  },
  {
   "cell_type": "code",
   "execution_count": 6,
   "metadata": {},
   "outputs": [],
   "source": [
    "#today_date = datetime.date.today()\n",
    "#date_time = datetime.datetime.strptime(date_time_string, '%Y-%m-%d %H:%M')\n",
    "now = datetime.date.today()\n",
    "date_today = now.strftime(\"%Y-%m-%d\")\n",
    "year_today = now.strftime(\"%Y\")\n",
    "month_today = now.strftime(\"%m\")\n",
    "day_today = now.strftime(\"%d\")\n"
   ]
  },
  {
   "cell_type": "markdown",
   "metadata": {},
   "source": [
    "Und hier noch die Zeitvariabeln als Integers:\n",
    "- `aktuellesJahr`\n",
    "- `aktuellerMonat`: Der gerade jetzt aktuelle Monat\n",
    "- `selectedMonat`: Der aktuellste Monat in den Daten. In der Regel zwei Monate her."
   ]
  },
  {
   "cell_type": "code",
   "execution_count": 7,
   "metadata": {},
   "outputs": [
    {
     "name": "stdout",
     "output_type": "stream",
     "text": [
      "2022 9 datenstand:  7 time.struct_time(tm_year=2022, tm_mon=9, tm_mday=27, tm_hour=0, tm_min=0, tm_sec=0, tm_wday=1, tm_yday=270, tm_isdst=-1)\n"
     ]
    }
   ],
   "source": [
    "#now = datetime.now() \n",
    "int_times = now.timetuple()\n",
    "\n",
    "aktuellesJahr = int_times[0]\n",
    "aktuellerMonat = int_times[1]\n",
    "selectedMonat = int_times[1]-2\n",
    "\n",
    "print(aktuellesJahr, \n",
    "      aktuellerMonat,\n",
    "    'datenstand: ', selectedMonat,\n",
    "     int_times)\n"
   ]
  },
  {
   "cell_type": "markdown",
   "metadata": {},
   "source": [
    "Berechne die Variable Epoche um später das SAS-Datum in ein Unix-Datum umzuwandeln. Bei SAS beginnt die Epoche am 1.1.1960. Bei Unix am 1.1.1970.\n",
    "Diese Variable wird beim CSV-Import benötigt."
   ]
  },
  {
   "cell_type": "code",
   "execution_count": 8,
   "metadata": {},
   "outputs": [],
   "source": [
    "epoch = datetime.datetime(1960, 1, 1)"
   ]
  },
  {
   "cell_type": "markdown",
   "metadata": {},
   "source": [
    "### Setze einige Pfadvariabeln"
   ]
  },
  {
   "cell_type": "markdown",
   "metadata": {
    "tags": []
   },
   "source": [
    "- Der Packagename ist eigentlich der **Verzeichnisname** unter dem die Daten und Metadaten auf der Dropzone abgelegt werden.\n",
    "- Definiert wird er bei SASA-Prozessen auf dem **Produkte-Sharepoint ([Link](https://kollaboration.intranet.stzh.ch/orga/ssz-produkte/Lists/SASA_Outputs/PersonalViews.aspx?PageView=Personal&ShowWebPart={6087A3E7-8AC8-40BA-8278-DECFACE124FF}))**.\n",
    "- Der Packagename wird auf CKAN teil der URL, daher ist die exakte Schreibweise wichtig.\n",
    "\n",
    "Beachte: im Packagename müssen alle Buchstaben **klein** geschrieben werden. Dies weil CKAN aus grossen kleine Buchstaben macht."
   ]
  },
  {
   "cell_type": "markdown",
   "metadata": {},
   "source": [
    "**BITTE HIER ANPASSEN**"
   ]
  },
  {
   "cell_type": "code",
   "execution_count": 9,
   "metadata": {},
   "outputs": [],
   "source": [
    "package_name = \"prd_stez_bevoelkerungsbefragungen_seit1999_od4731\""
   ]
  },
  {
   "cell_type": "code",
   "execution_count": 10,
   "metadata": {
    "tags": []
   },
   "outputs": [],
   "source": [
    "dataset_name = \"BEV473OD4731.csv\"\n",
    "metadata_name =\"codeliste_bvb_ogd.csv\""
   ]
  },
  {
   "cell_type": "markdown",
   "metadata": {},
   "source": [
    "**Statische Pfade in DWH-Dropzones**"
   ]
  },
  {
   "cell_type": "code",
   "execution_count": 11,
   "metadata": {},
   "outputs": [],
   "source": [
    "dropzone_path_integ = r\"\\\\szh\\ssz\\applikationen\\OGD_Dropzone\\INT_DWH\""
   ]
  },
  {
   "cell_type": "code",
   "execution_count": 12,
   "metadata": {
    "tags": []
   },
   "outputs": [],
   "source": [
    "dropzone_path_prod = r\"\\\\szh\\ssz\\applikationen\\OGD_Dropzone\\DWH\""
   ]
  },
  {
   "cell_type": "markdown",
   "metadata": {},
   "source": [
    "**Statische Pfade CKAN-URLs**"
   ]
  },
  {
   "cell_type": "code",
   "execution_count": 13,
   "metadata": {
    "tags": []
   },
   "outputs": [],
   "source": [
    "ckan_integ_url =\"https://data.integ.stadt-zuerich.ch/dataset/int_dwh_\""
   ]
  },
  {
   "cell_type": "code",
   "execution_count": 14,
   "metadata": {},
   "outputs": [],
   "source": [
    "ckan_prod_url =\"https://data.stadt-zuerich.ch/dataset/\""
   ]
  },
  {
   "cell_type": "markdown",
   "metadata": {},
   "source": [
    "### Checke die Metadaten auf der CKAN INTEG- oder PROD-Webseite\n",
    "\n",
    "Offenbar lassen sich aktuell im Markdownteil keine Variabeln ausführen, daher gehen wir wie unten gezeigt vor. Siehe dazu: https://data-dive.com/jupyterlab-markdown-cells-include-variables\n",
    "Instead of setting the cell to Markdown, create Markdown from withnin a code cell! We can just use python variable replacement syntax to make the text dynamic"
   ]
  },
  {
   "cell_type": "code",
   "execution_count": 15,
   "metadata": {},
   "outputs": [],
   "source": [
    "from IPython.display import Markdown as md"
   ]
  },
  {
   "cell_type": "code",
   "execution_count": 16,
   "metadata": {},
   "outputs": [
    {
     "data": {
      "text/markdown": [
       " **1. Dataset auf INTEG-Datakatalog:** Link https://data.integ.stadt-zuerich.ch/dataset/int_dwh_prd_stez_bevoelkerungsbefragungen_seit1999_od4731 "
      ],
      "text/plain": [
       "<IPython.core.display.Markdown object>"
      ]
     },
     "execution_count": 16,
     "metadata": {},
     "output_type": "execute_result"
    }
   ],
   "source": [
    "md(\" **1. Dataset auf INTEG-Datakatalog:** Link {} \".format(ckan_integ_url+package_name))"
   ]
  },
  {
   "cell_type": "code",
   "execution_count": 17,
   "metadata": {
    "tags": []
   },
   "outputs": [
    {
     "data": {
      "text/markdown": [
       " **2. Dataset auf PROD-Datakatalog:** Link https://data.stadt-zuerich.ch/dataset/prd_stez_bevoelkerungsbefragungen_seit1999_od4731 "
      ],
      "text/plain": [
       "<IPython.core.display.Markdown object>"
      ]
     },
     "execution_count": 17,
     "metadata": {},
     "output_type": "execute_result"
    }
   ],
   "source": [
    "md(\" **2. Dataset auf PROD-Datakatalog:** Link {} \".format(ckan_prod_url+package_name))"
   ]
  },
  {
   "cell_type": "markdown",
   "metadata": {
    "tags": []
   },
   "source": [
    "### Importiere einen Datensatz \n",
    "\n",
    "Definiere zuerst folgende Werte:\n",
    "1) Kommt der Datensatz von PROD oder INTEG?\n",
    "2) Beziehst Du den Datensatz direkt ab der DROPZONE oder aus dem INTERNET?"
   ]
  },
  {
   "cell_type": "code",
   "execution_count": 18,
   "metadata": {},
   "outputs": [
    {
     "name": "stdout",
     "output_type": "stream",
     "text": [
      "prod - dropzone\n"
     ]
    }
   ],
   "source": [
    "#Die Datasets sind nur zum Testen auf INT-DWH-Dropzone. Wenn der Test vorbei ist, sind sie auf PROD. \n",
    "# Über den Status kann man einfach switchen\n",
    "\n",
    "status = \"prod\"; #prod vs something else\n",
    "data_source = \"dropzone\"; #dropzone vs something else\n",
    "print(status+\" - \"+ data_source)"
   ]
  },
  {
   "cell_type": "code",
   "execution_count": 19,
   "metadata": {
    "tags": []
   },
   "outputs": [
    {
     "name": "stdout",
     "output_type": "stream",
     "text": [
      "fp lautet:\\\\szh\\ssz\\applikationen\\OGD_Dropzone\\DWH\\prd_stez_bevoelkerungsbefragungen_seit1999_od4731\\BEV473OD4731.csv\n"
     ]
    }
   ],
   "source": [
    "# Filepath\n",
    "if status == \"prod\":\n",
    "    if data_source == \"dropzone\":\n",
    "            fp = dropzone_path_prod+\"\\\\\"+ package_name +\"\\\\\"+dataset_name\n",
    "            fp_meta = dropzone_path_prod+\"\\\\\"+ package_name +\"\\\\\"+metadata_name\n",
    "            print(\"fp lautet:\"+fp)\n",
    "    else:\n",
    "        #fp = r\"https://data.stadt-zuerich.ch/dataset/bau_neubau_whg_bausm_rinh_geb_projstatus_quartier_seit2009_od5011/download/BAU501OD5011.csv\"\n",
    "        fp = ckan_prod_url+package_name+'/download/'+dataset_name\n",
    "        fp_meta = ckan_prod_url+package_name+'/download/'+metadata_name\n",
    "        print(\"fp lautet:\"+fp)\n",
    "else:\n",
    "    if data_source == \"dropzone\":\n",
    "        fp = dropzone_path_integ+\"\\\\\"+ package_name +\"\\\\\"+dataset_name\n",
    "        fp_meta = dropzone_path_integ+\"\\\\\"+ package_name +\"\\\\\"+metadata_name      \n",
    "        print(\"fp lautet:\"+fp)\n",
    "    else:\n",
    "        #fp = r\"https://data.stadt-zuerich.ch/dataset/bau_neubau_whg_bausm_rinh_geb_projstatus_quartier_seit2009_od5011/download/BAU501OD5011.csv\"\n",
    "        fp = ckan_integ_url+package_name+'/download/'+dataset_name\n",
    "        fp_meta = dropzone_path_integ+\"\\\\\"+ package_name +\"\\\\\"+metadata_name       \n",
    "        print(\"fp lautet:\"+fp)\n"
   ]
  },
  {
   "cell_type": "markdown",
   "metadata": {},
   "source": [
    "Beachte, wie das SAS Datum (ohne Format) in ein UNIX Datum umgerechnet und als Datumsformat dargestellt wird! Siehe dazu `https://stackoverflow.com/questions/26923564/convert-sas-numeric-to-python-datetime`"
   ]
  },
  {
   "cell_type": "code",
   "execution_count": 20,
   "metadata": {},
   "outputs": [
    {
     "name": "stdout",
     "output_type": "stream",
     "text": [
      "dropzone\n"
     ]
    }
   ],
   "source": [
    "# Read the data\n",
    "if data_source == \"dropzone\":\n",
    "    data2betested = pd.read_csv(\n",
    "        fp\n",
    "        , sep=','\n",
    "        ,parse_dates=['Jahr']\n",
    "        , encoding = \"UTF-8\"\n",
    "        ,low_memory=False\n",
    "    )\n",
    "    \n",
    "    meta2betested = pd.read_csv(\n",
    "        fp_meta\n",
    "        , sep=','\n",
    "        , encoding = \"UTF-8\"\n",
    "        ,low_memory=False\n",
    "    )\n",
    "    print(\"dropzone\")\n",
    "else:\n",
    "    r = requests.get(fp, verify=False)  \n",
    "    r.encoding = 'utf-8'\n",
    "    data2betested = pd.read_csv(\n",
    "        io.StringIO(r.text)\n",
    "        ,parse_dates=['Jahr']\n",
    "        # KONVERTIERE DAS SAS DATUM IN EIN UNIXDATUM UND FORMATIERE ES\n",
    "        #, date_parser=lambda s: epoch + datetime.timedelta(days=int(s))\n",
    "        ,low_memory=False)\n",
    "    \n",
    "    r = requests.get(fp_meta, verify=False)  \n",
    "    r.encoding = 'utf-8'\n",
    "    meta2betested = pd.read_csv(\n",
    "        io.StringIO(r.text)\n",
    "        ,low_memory=False)\n",
    "    \n",
    "       \n",
    "    print(\"web\")\n",
    "\n",
    "#data2betested.dtypes"
   ]
  },
  {
   "cell_type": "code",
   "execution_count": 21,
   "metadata": {},
   "outputs": [
    {
     "data": {
      "text/html": [
       "<div>\n",
       "<style scoped>\n",
       "    .dataframe tbody tr th:only-of-type {\n",
       "        vertical-align: middle;\n",
       "    }\n",
       "\n",
       "    .dataframe tbody tr th {\n",
       "        vertical-align: top;\n",
       "    }\n",
       "\n",
       "    .dataframe thead th {\n",
       "        text-align: right;\n",
       "    }\n",
       "</style>\n",
       "<table border=\"1\" class=\"dataframe\">\n",
       "  <thead>\n",
       "    <tr style=\"text-align: right;\">\n",
       "      <th></th>\n",
       "      <th>Code</th>\n",
       "      <th>Beschreibung</th>\n",
       "      <th>Variable</th>\n",
       "      <th>Frage</th>\n",
       "      <th>Titel</th>\n",
       "    </tr>\n",
       "  </thead>\n",
       "  <tbody>\n",
       "    <tr>\n",
       "      <th>0</th>\n",
       "      <td>1</td>\n",
       "      <td>Überhaupt nicht sinnvoll</td>\n",
       "      <td>A1027aa01</td>\n",
       "      <td>S10</td>\n",
       "      <td>Sinnhaftigkeit Bevölkerungsbefragung</td>\n",
       "    </tr>\n",
       "    <tr>\n",
       "      <th>1</th>\n",
       "      <td>2</td>\n",
       "      <td>Wenig sinnvoll</td>\n",
       "      <td>A1027aa01</td>\n",
       "      <td>S10</td>\n",
       "      <td>Sinnhaftigkeit Bevölkerungsbefragung</td>\n",
       "    </tr>\n",
       "    <tr>\n",
       "      <th>2</th>\n",
       "      <td>3</td>\n",
       "      <td>Sinnvoll</td>\n",
       "      <td>A1027aa01</td>\n",
       "      <td>S10</td>\n",
       "      <td>Sinnhaftigkeit Bevölkerungsbefragung</td>\n",
       "    </tr>\n",
       "    <tr>\n",
       "      <th>3</th>\n",
       "      <td>4</td>\n",
       "      <td>Sehr sinnvoll</td>\n",
       "      <td>A1027aa01</td>\n",
       "      <td>S10</td>\n",
       "      <td>Sinnhaftigkeit Bevölkerungsbefragung</td>\n",
       "    </tr>\n",
       "    <tr>\n",
       "      <th>4</th>\n",
       "      <td>99</td>\n",
       "      <td>Keine Angabe</td>\n",
       "      <td>A1027aa01</td>\n",
       "      <td>S10</td>\n",
       "      <td>Sinnhaftigkeit Bevölkerungsbefragung</td>\n",
       "    </tr>\n",
       "    <tr>\n",
       "      <th>...</th>\n",
       "      <td>...</td>\n",
       "      <td>...</td>\n",
       "      <td>...</td>\n",
       "      <td>...</td>\n",
       "      <td>...</td>\n",
       "    </tr>\n",
       "    <tr>\n",
       "      <th>5007</th>\n",
       "      <td>2</td>\n",
       "      <td>V2</td>\n",
       "      <td>fbversion</td>\n",
       "      <td>Fragebogenversion</td>\n",
       "      <td>Fragebogenversion</td>\n",
       "    </tr>\n",
       "    <tr>\n",
       "      <th>5008</th>\n",
       "      <td>99</td>\n",
       "      <td>Keine Angabe</td>\n",
       "      <td>fbversion</td>\n",
       "      <td>Fragebogenversion</td>\n",
       "      <td>Fragebogenversion</td>\n",
       "    </tr>\n",
       "    <tr>\n",
       "      <th>5009</th>\n",
       "      <td>1</td>\n",
       "      <td>Cati</td>\n",
       "      <td>methode</td>\n",
       "      <td>Methode</td>\n",
       "      <td>Methode</td>\n",
       "    </tr>\n",
       "    <tr>\n",
       "      <th>5010</th>\n",
       "      <td>2</td>\n",
       "      <td>Online</td>\n",
       "      <td>methode</td>\n",
       "      <td>Methode</td>\n",
       "      <td>Methode</td>\n",
       "    </tr>\n",
       "    <tr>\n",
       "      <th>5011</th>\n",
       "      <td>3</td>\n",
       "      <td>Papier</td>\n",
       "      <td>methode</td>\n",
       "      <td>Methode</td>\n",
       "      <td>Methode</td>\n",
       "    </tr>\n",
       "  </tbody>\n",
       "</table>\n",
       "<p>5012 rows × 5 columns</p>\n",
       "</div>"
      ],
      "text/plain": [
       "     Code              Beschreibung   Variable              Frage  \\\n",
       "0       1  Überhaupt nicht sinnvoll  A1027aa01                S10   \n",
       "1       2            Wenig sinnvoll  A1027aa01                S10   \n",
       "2       3                  Sinnvoll  A1027aa01                S10   \n",
       "3       4             Sehr sinnvoll  A1027aa01                S10   \n",
       "4      99              Keine Angabe  A1027aa01                S10   \n",
       "...   ...                       ...        ...                ...   \n",
       "5007    2                        V2  fbversion  Fragebogenversion   \n",
       "5008   99              Keine Angabe  fbversion  Fragebogenversion   \n",
       "5009    1                      Cati    methode            Methode   \n",
       "5010    2                    Online    methode            Methode   \n",
       "5011    3                    Papier    methode            Methode   \n",
       "\n",
       "                                     Titel  \n",
       "0     Sinnhaftigkeit Bevölkerungsbefragung  \n",
       "1     Sinnhaftigkeit Bevölkerungsbefragung  \n",
       "2     Sinnhaftigkeit Bevölkerungsbefragung  \n",
       "3     Sinnhaftigkeit Bevölkerungsbefragung  \n",
       "4     Sinnhaftigkeit Bevölkerungsbefragung  \n",
       "...                                    ...  \n",
       "5007                     Fragebogenversion  \n",
       "5008                     Fragebogenversion  \n",
       "5009                               Methode  \n",
       "5010                               Methode  \n",
       "5011                               Methode  \n",
       "\n",
       "[5012 rows x 5 columns]"
      ]
     },
     "execution_count": 21,
     "metadata": {},
     "output_type": "execute_result"
    }
   ],
   "source": [
    "meta2betested"
   ]
  },
  {
   "cell_type": "markdown",
   "metadata": {
    "tags": []
   },
   "source": [
    "#### Parsing & Formatting Strings to Dataframes\n",
    "- [**Cheat Sheet**](https://strftime.org/)\n",
    "- Python documentation for **strptime**: [string **parse** time, Python 3](https://docs.python.org/3/library/datetime.html#datetime.datetime.strptime)\n",
    "- Python documentation for strptime/**strftime**: [string **format** time,Python 3](https://docs.python.org/3/library/datetime.html#strftime-and-strptime-behavior)\n",
    "\n"
   ]
  },
  {
   "cell_type": "markdown",
   "metadata": {},
   "source": [
    "Berechne weitere Attribute falls notwendig"
   ]
  },
  {
   "cell_type": "code",
   "execution_count": 22,
   "metadata": {},
   "outputs": [
    {
     "data": {
      "text/plain": [
       "Jahr         datetime64[ns]\n",
       "intnr                 int64\n",
       "methode              object\n",
       "fbversion            object\n",
       "sgewicht            float64\n",
       "                  ...      \n",
       "A9005aa01            object\n",
       "A9005ab01            object\n",
       "A9005ac01            object\n",
       "A1027aa01            object\n",
       "Jahr_str             object\n",
       "Length: 361, dtype: object"
      ]
     },
     "execution_count": 22,
     "metadata": {},
     "output_type": "execute_result"
    }
   ],
   "source": [
    "data2betested = (\n",
    "    data2betested\n",
    "    .copy()\n",
    "    .assign(\n",
    "        #Aktualisierungs_Datum_str= lambda x: x.Aktualisierungs_Datum.astype(str),\n",
    "        Jahr_str = lambda x: x.Jahr.astype(str),\n",
    "    )\n",
    "    .sort_values('Jahr', ascending=False)\n",
    "    )\n",
    "data2betested.dtypes"
   ]
  },
  {
   "cell_type": "markdown",
   "metadata": {},
   "source": [
    "In der Folge ein paar erste Tests:"
   ]
  },
  {
   "cell_type": "code",
   "execution_count": 23,
   "metadata": {},
   "outputs": [
    {
     "data": {
      "text/html": [
       "<div>\n",
       "<style scoped>\n",
       "    .dataframe tbody tr th:only-of-type {\n",
       "        vertical-align: middle;\n",
       "    }\n",
       "\n",
       "    .dataframe tbody tr th {\n",
       "        vertical-align: top;\n",
       "    }\n",
       "\n",
       "    .dataframe thead th {\n",
       "        text-align: right;\n",
       "    }\n",
       "</style>\n",
       "<table border=\"1\" class=\"dataframe\">\n",
       "  <thead>\n",
       "    <tr style=\"text-align: right;\">\n",
       "      <th></th>\n",
       "      <th>Jahr</th>\n",
       "      <th>intnr</th>\n",
       "      <th>methode</th>\n",
       "      <th>fbversion</th>\n",
       "      <th>sgewicht</th>\n",
       "      <th>pgewicht</th>\n",
       "      <th>schichtCd</th>\n",
       "      <th>...</th>\n",
       "      <th>A9003aa01</th>\n",
       "      <th>A9004aa01</th>\n",
       "      <th>A9005aa01</th>\n",
       "      <th>A9005ab01</th>\n",
       "      <th>A9005ac01</th>\n",
       "      <th>A1027aa01</th>\n",
       "      <th>Jahr_str</th>\n",
       "    </tr>\n",
       "  </thead>\n",
       "  <tbody>\n",
       "    <tr>\n",
       "      <th>33751</th>\n",
       "      <td>2021-01-01</td>\n",
       "      <td>1113034</td>\n",
       "      <td>Papier</td>\n",
       "      <td>Keine Angabe</td>\n",
       "      <td>1</td>\n",
       "      <td>87</td>\n",
       "      <td>845</td>\n",
       "      <td>...</td>\n",
       "      <td>Eher locker bebaut</td>\n",
       "      <td>Gerade richtig</td>\n",
       "      <td>Keine Angabe</td>\n",
       "      <td>Trifft eher zu</td>\n",
       "      <td>Keine Angabe</td>\n",
       "      <td>Sinnvoll</td>\n",
       "      <td>2021-01-01</td>\n",
       "    </tr>\n",
       "    <tr>\n",
       "      <th>30166</th>\n",
       "      <td>2021-01-01</td>\n",
       "      <td>1110563</td>\n",
       "      <td>Online</td>\n",
       "      <td>Keine Angabe</td>\n",
       "      <td>1</td>\n",
       "      <td>47</td>\n",
       "      <td>1005</td>\n",
       "      <td>...</td>\n",
       "      <td>Eher locker bebaut</td>\n",
       "      <td>Gerade richtig</td>\n",
       "      <td>Trifft eher zu</td>\n",
       "      <td>Trifft überhaupt nicht zu</td>\n",
       "      <td>Trifft eher nicht zu</td>\n",
       "      <td>Sinnvoll</td>\n",
       "      <td>2021-01-01</td>\n",
       "    </tr>\n",
       "    <tr>\n",
       "      <th>30158</th>\n",
       "      <td>2021-01-01</td>\n",
       "      <td>1111573</td>\n",
       "      <td>Online</td>\n",
       "      <td>Keine Angabe</td>\n",
       "      <td>1</td>\n",
       "      <td>84</td>\n",
       "      <td>713</td>\n",
       "      <td>...</td>\n",
       "      <td>Eher locker bebaut</td>\n",
       "      <td>Gerade richtig</td>\n",
       "      <td>Trifft sehr zu</td>\n",
       "      <td>Trifft eher nicht zu</td>\n",
       "      <td>Trifft eher zu</td>\n",
       "      <td>Sinnvoll</td>\n",
       "      <td>2021-01-01</td>\n",
       "    </tr>\n",
       "  </tbody>\n",
       "</table>\n",
       "<p>3 rows × 361 columns</p>\n",
       "</div>"
      ],
      "text/plain": [
       "            Jahr    intnr methode     fbversion  sgewicht  pgewicht  schichtCd  ...  \\\n",
       "33751 2021-01-01  1113034  Papier  Keine Angabe         1        87        845  ...   \n",
       "30166 2021-01-01  1110563  Online  Keine Angabe         1        47       1005  ...   \n",
       "30158 2021-01-01  1111573  Online  Keine Angabe         1        84        713  ...   \n",
       "\n",
       "                A9003aa01       A9004aa01       A9005aa01                  A9005ab01  \\\n",
       "33751  Eher locker bebaut  Gerade richtig    Keine Angabe             Trifft eher zu   \n",
       "30166  Eher locker bebaut  Gerade richtig  Trifft eher zu  Trifft überhaupt nicht zu   \n",
       "30158  Eher locker bebaut  Gerade richtig  Trifft sehr zu       Trifft eher nicht zu   \n",
       "\n",
       "                  A9005ac01 A1027aa01    Jahr_str  \n",
       "33751          Keine Angabe  Sinnvoll  2021-01-01  \n",
       "30166  Trifft eher nicht zu  Sinnvoll  2021-01-01  \n",
       "30158        Trifft eher zu  Sinnvoll  2021-01-01  \n",
       "\n",
       "[3 rows x 361 columns]"
      ]
     },
     "execution_count": 23,
     "metadata": {},
     "output_type": "execute_result"
    }
   ],
   "source": [
    "data2betested.head(3)"
   ]
  },
  {
   "cell_type": "code",
   "execution_count": 24,
   "metadata": {},
   "outputs": [
    {
     "data": {
      "text/plain": [
       "(33752, 361)"
      ]
     },
     "execution_count": 24,
     "metadata": {},
     "output_type": "execute_result"
    }
   ],
   "source": [
    "data2betested.shape"
   ]
  },
  {
   "cell_type": "markdown",
   "metadata": {},
   "source": [
    "Beschreibe einzelne Attribute"
   ]
  },
  {
   "cell_type": "code",
   "execution_count": 25,
   "metadata": {},
   "outputs": [
    {
     "data": {
      "text/html": [
       "<div>\n",
       "<style scoped>\n",
       "    .dataframe tbody tr th:only-of-type {\n",
       "        vertical-align: middle;\n",
       "    }\n",
       "\n",
       "    .dataframe tbody tr th {\n",
       "        vertical-align: top;\n",
       "    }\n",
       "\n",
       "    .dataframe thead th {\n",
       "        text-align: right;\n",
       "    }\n",
       "</style>\n",
       "<table border=\"1\" class=\"dataframe\">\n",
       "  <thead>\n",
       "    <tr style=\"text-align: right;\">\n",
       "      <th></th>\n",
       "      <th>intnr</th>\n",
       "      <th>sgewicht</th>\n",
       "      <th>pgewicht</th>\n",
       "      <th>schichtCd</th>\n",
       "    </tr>\n",
       "  </thead>\n",
       "  <tbody>\n",
       "    <tr>\n",
       "      <th>count</th>\n",
       "      <td>33752</td>\n",
       "      <td>33752</td>\n",
       "      <td>33752</td>\n",
       "      <td>33752</td>\n",
       "    </tr>\n",
       "    <tr>\n",
       "      <th>mean</th>\n",
       "      <td>7577148</td>\n",
       "      <td>1</td>\n",
       "      <td>98</td>\n",
       "      <td>1405</td>\n",
       "    </tr>\n",
       "    <tr>\n",
       "      <th>std</th>\n",
       "      <td>4417919</td>\n",
       "      <td>0</td>\n",
       "      <td>37</td>\n",
       "      <td>3073</td>\n",
       "    </tr>\n",
       "    <tr>\n",
       "      <th>min</th>\n",
       "      <td>1101</td>\n",
       "      <td>0</td>\n",
       "      <td>2</td>\n",
       "      <td>11</td>\n",
       "    </tr>\n",
       "    <tr>\n",
       "      <th>25%</th>\n",
       "      <td>1113322</td>\n",
       "      <td>1</td>\n",
       "      <td>70</td>\n",
       "      <td>103</td>\n",
       "    </tr>\n",
       "    <tr>\n",
       "      <th>50%</th>\n",
       "      <td>10304966</td>\n",
       "      <td>1</td>\n",
       "      <td>97</td>\n",
       "      <td>203</td>\n",
       "    </tr>\n",
       "    <tr>\n",
       "      <th>75%</th>\n",
       "      <td>10710466</td>\n",
       "      <td>1</td>\n",
       "      <td>124</td>\n",
       "      <td>709</td>\n",
       "    </tr>\n",
       "    <tr>\n",
       "      <th>max</th>\n",
       "      <td>10919103</td>\n",
       "      <td>6</td>\n",
       "      <td>696</td>\n",
       "      <td>9999</td>\n",
       "    </tr>\n",
       "  </tbody>\n",
       "</table>\n",
       "</div>"
      ],
      "text/plain": [
       "         intnr  sgewicht  pgewicht  schichtCd\n",
       "count    33752     33752     33752      33752\n",
       "mean   7577148         1        98       1405\n",
       "std    4417919         0        37       3073\n",
       "min       1101         0         2         11\n",
       "25%    1113322         1        70        103\n",
       "50%   10304966         1        97        203\n",
       "75%   10710466         1       124        709\n",
       "max   10919103         6       696       9999"
      ]
     },
     "execution_count": 25,
     "metadata": {},
     "output_type": "execute_result"
    }
   ],
   "source": [
    "data2betested.describe()"
   ]
  },
  {
   "cell_type": "markdown",
   "metadata": {},
   "source": [
    "Wie viele Nullwerte gibt es im Datensatz?"
   ]
  },
  {
   "cell_type": "code",
   "execution_count": 26,
   "metadata": {
    "scrolled": true
   },
   "outputs": [
    {
     "data": {
      "text/plain": [
       "Jahr         0\n",
       "intnr        0\n",
       "methode      0\n",
       "fbversion    0\n",
       "sgewicht     0\n",
       "            ..\n",
       "A9005aa01    0\n",
       "A9005ab01    0\n",
       "A9005ac01    0\n",
       "A1027aa01    0\n",
       "Jahr_str     0\n",
       "Length: 361, dtype: int64"
      ]
     },
     "execution_count": 26,
     "metadata": {},
     "output_type": "execute_result"
    }
   ],
   "source": [
    "data2betested.isnull().sum()"
   ]
  },
  {
   "cell_type": "markdown",
   "metadata": {
    "colab_type": "text",
    "id": "1dTPVmmsgOVx"
   },
   "source": [
    "### Verwende das Datum als Index\n",
    "\n",
    "While we did already parse the `datetime` column into the respective datetime type, it currently is just a regular column. \n",
    "**To enable quick and convenient queries and aggregations, we need to turn it into the index of the DataFrame**"
   ]
  },
  {
   "cell_type": "code",
   "execution_count": 27,
   "metadata": {},
   "outputs": [],
   "source": [
    "data2betested = data2betested.set_index(\"Jahr\")"
   ]
  },
  {
   "cell_type": "code",
   "execution_count": 28,
   "metadata": {},
   "outputs": [
    {
     "name": "stdout",
     "output_type": "stream",
     "text": [
      "<class 'pandas.core.frame.DataFrame'>\n",
      "DatetimeIndex: 33752 entries, 2021-01-01 to 1999-01-01\n",
      "Columns: 360 entries, intnr to Jahr_str\n",
      "dtypes: float64(2), int64(2), object(356)\n",
      "memory usage: 93.0+ MB\n"
     ]
    },
    {
     "data": {
      "text/plain": [
       "Int64Index([2021, 2019, 2015, 2013, 2011, 2009, 2007, 2005, 2003, 2001, 1999], dtype='int64', name='Jahr')"
      ]
     },
     "execution_count": 28,
     "metadata": {},
     "output_type": "execute_result"
    }
   ],
   "source": [
    "data2betested.info()\n",
    "data2betested.index.year.unique()"
   ]
  },
  {
   "cell_type": "markdown",
   "metadata": {},
   "source": [
    "### Einfache Visualisierungen zur Plausi"
   ]
  },
  {
   "cell_type": "markdown",
   "metadata": {},
   "source": [
    "Exploriere die Daten mit Pivottable.JS"
   ]
  },
  {
   "cell_type": "code",
   "execution_count": 29,
   "metadata": {},
   "outputs": [],
   "source": [
    "#from pivottablejs import pivot_ui\n",
    "\n",
    "#pivot_ui(data2betested)"
   ]
  },
  {
   "cell_type": "markdown",
   "metadata": {},
   "source": [
    "### Zeitpunkte und Zeiträume abfragen\n",
    "\n",
    "A particular powerful feature of the Pandas DataFrame is its indexing capability that also works using time-based entities, such as dates and times. We have already created the index above, so let's put it to use."
   ]
  },
  {
   "cell_type": "code",
   "execution_count": 30,
   "metadata": {},
   "outputs": [
    {
     "data": {
      "text/html": [
       "<div>\n",
       "<style scoped>\n",
       "    .dataframe tbody tr th:only-of-type {\n",
       "        vertical-align: middle;\n",
       "    }\n",
       "\n",
       "    .dataframe tbody tr th {\n",
       "        vertical-align: top;\n",
       "    }\n",
       "\n",
       "    .dataframe thead th {\n",
       "        text-align: right;\n",
       "    }\n",
       "</style>\n",
       "<table border=\"1\" class=\"dataframe\">\n",
       "  <thead>\n",
       "    <tr style=\"text-align: right;\">\n",
       "      <th></th>\n",
       "      <th>intnr</th>\n",
       "      <th>methode</th>\n",
       "      <th>fbversion</th>\n",
       "      <th>sgewicht</th>\n",
       "      <th>pgewicht</th>\n",
       "      <th>schichtCd</th>\n",
       "      <th>A1BVSKreis01</th>\n",
       "      <th>...</th>\n",
       "      <th>A9003aa01</th>\n",
       "      <th>A9004aa01</th>\n",
       "      <th>A9005aa01</th>\n",
       "      <th>A9005ab01</th>\n",
       "      <th>A9005ac01</th>\n",
       "      <th>A1027aa01</th>\n",
       "      <th>Jahr_str</th>\n",
       "    </tr>\n",
       "    <tr>\n",
       "      <th>Jahr</th>\n",
       "      <th></th>\n",
       "      <th></th>\n",
       "      <th></th>\n",
       "      <th></th>\n",
       "      <th></th>\n",
       "      <th></th>\n",
       "      <th></th>\n",
       "      <th></th>\n",
       "      <th></th>\n",
       "      <th></th>\n",
       "      <th></th>\n",
       "      <th></th>\n",
       "      <th></th>\n",
       "      <th></th>\n",
       "      <th></th>\n",
       "    </tr>\n",
       "  </thead>\n",
       "  <tbody>\n",
       "    <tr>\n",
       "      <th>2009-01-01</th>\n",
       "      <td>10611719</td>\n",
       "      <td>Cati</td>\n",
       "      <td>Keine Angabe</td>\n",
       "      <td>1</td>\n",
       "      <td>119</td>\n",
       "      <td>191</td>\n",
       "      <td>Kreis 11</td>\n",
       "      <td>...</td>\n",
       "      <td>Keine Angabe</td>\n",
       "      <td>Keine Angabe</td>\n",
       "      <td>Keine Angabe</td>\n",
       "      <td>Keine Angabe</td>\n",
       "      <td>Keine Angabe</td>\n",
       "      <td>Wenig sinnvoll</td>\n",
       "      <td>2009-01-01</td>\n",
       "    </tr>\n",
       "    <tr>\n",
       "      <th>2009-01-01</th>\n",
       "      <td>10611906</td>\n",
       "      <td>Cati</td>\n",
       "      <td>Keine Angabe</td>\n",
       "      <td>1</td>\n",
       "      <td>149</td>\n",
       "      <td>163</td>\n",
       "      <td>Kreis 9</td>\n",
       "      <td>...</td>\n",
       "      <td>Keine Angabe</td>\n",
       "      <td>Keine Angabe</td>\n",
       "      <td>Keine Angabe</td>\n",
       "      <td>Keine Angabe</td>\n",
       "      <td>Keine Angabe</td>\n",
       "      <td>Sinnvoll</td>\n",
       "      <td>2009-01-01</td>\n",
       "    </tr>\n",
       "  </tbody>\n",
       "</table>\n",
       "<p>2 rows × 360 columns</p>\n",
       "</div>"
      ],
      "text/plain": [
       "               intnr methode     fbversion  sgewicht  pgewicht  schichtCd A1BVSKreis01  ...  \\\n",
       "Jahr                                                                                    ...   \n",
       "2009-01-01  10611719    Cati  Keine Angabe         1       119        191     Kreis 11  ...   \n",
       "2009-01-01  10611906    Cati  Keine Angabe         1       149        163      Kreis 9  ...   \n",
       "\n",
       "               A9003aa01     A9004aa01     A9005aa01     A9005ab01     A9005ac01       A1027aa01  \\\n",
       "Jahr                                                                                               \n",
       "2009-01-01  Keine Angabe  Keine Angabe  Keine Angabe  Keine Angabe  Keine Angabe  Wenig sinnvoll   \n",
       "2009-01-01  Keine Angabe  Keine Angabe  Keine Angabe  Keine Angabe  Keine Angabe        Sinnvoll   \n",
       "\n",
       "              Jahr_str  \n",
       "Jahr                    \n",
       "2009-01-01  2009-01-01  \n",
       "2009-01-01  2009-01-01  \n",
       "\n",
       "[2 rows x 360 columns]"
      ]
     },
     "execution_count": 30,
     "metadata": {},
     "output_type": "execute_result"
    }
   ],
   "source": [
    "data2betested.loc[\"2009\"].head(2)\n",
    "#data2betested.loc[\"2021-10-31\":\"2021-11-30\"].head(2)"
   ]
  },
  {
   "cell_type": "markdown",
   "metadata": {},
   "source": [
    "### Visualisierungen nach Zeitausschnitten"
   ]
  },
  {
   "cell_type": "code",
   "execution_count": 31,
   "metadata": {},
   "outputs": [],
   "source": [
    "#data2betested.columns"
   ]
  },
  {
   "cell_type": "code",
   "execution_count": 32,
   "metadata": {},
   "outputs": [
    {
     "data": {
      "text/html": [
       "<div>\n",
       "<style scoped>\n",
       "    .dataframe tbody tr th:only-of-type {\n",
       "        vertical-align: middle;\n",
       "    }\n",
       "\n",
       "    .dataframe tbody tr th {\n",
       "        vertical-align: top;\n",
       "    }\n",
       "\n",
       "    .dataframe thead th {\n",
       "        text-align: right;\n",
       "    }\n",
       "</style>\n",
       "<table border=\"1\" class=\"dataframe\">\n",
       "  <thead>\n",
       "    <tr style=\"text-align: right;\">\n",
       "      <th></th>\n",
       "      <th></th>\n",
       "      <th></th>\n",
       "      <th></th>\n",
       "      <th>sgewicht</th>\n",
       "    </tr>\n",
       "    <tr>\n",
       "      <th>Jahr</th>\n",
       "      <th>intnr</th>\n",
       "      <th>methode</th>\n",
       "      <th>fbversion</th>\n",
       "      <th></th>\n",
       "    </tr>\n",
       "  </thead>\n",
       "  <tbody>\n",
       "    <tr>\n",
       "      <th rowspan=\"11\" valign=\"top\">2019-01-01</th>\n",
       "      <th>1102595</th>\n",
       "      <th>Online</th>\n",
       "      <th>Keine Angabe</th>\n",
       "      <td>2</td>\n",
       "    </tr>\n",
       "    <tr>\n",
       "      <th>1104831</th>\n",
       "      <th>Papier</th>\n",
       "      <th>Keine Angabe</th>\n",
       "      <td>2</td>\n",
       "    </tr>\n",
       "    <tr>\n",
       "      <th>1102087</th>\n",
       "      <th>Online</th>\n",
       "      <th>Keine Angabe</th>\n",
       "      <td>2</td>\n",
       "    </tr>\n",
       "    <tr>\n",
       "      <th>1105056</th>\n",
       "      <th>Papier</th>\n",
       "      <th>Keine Angabe</th>\n",
       "      <td>2</td>\n",
       "    </tr>\n",
       "    <tr>\n",
       "      <th>1101567</th>\n",
       "      <th>Online</th>\n",
       "      <th>Keine Angabe</th>\n",
       "      <td>2</td>\n",
       "    </tr>\n",
       "    <tr>\n",
       "      <th>...</th>\n",
       "      <th>...</th>\n",
       "      <th>...</th>\n",
       "      <td>...</td>\n",
       "    </tr>\n",
       "    <tr>\n",
       "      <th>1103548</th>\n",
       "      <th>Online</th>\n",
       "      <th>Keine Angabe</th>\n",
       "      <td>0</td>\n",
       "    </tr>\n",
       "    <tr>\n",
       "      <th>1105165</th>\n",
       "      <th>Papier</th>\n",
       "      <th>Keine Angabe</th>\n",
       "      <td>0</td>\n",
       "    </tr>\n",
       "    <tr>\n",
       "      <th>110104</th>\n",
       "      <th>Online</th>\n",
       "      <th>Keine Angabe</th>\n",
       "      <td>0</td>\n",
       "    </tr>\n",
       "    <tr>\n",
       "      <th>110826</th>\n",
       "      <th>Online</th>\n",
       "      <th>Keine Angabe</th>\n",
       "      <td>0</td>\n",
       "    </tr>\n",
       "    <tr>\n",
       "      <th>1101693</th>\n",
       "      <th>Online</th>\n",
       "      <th>Keine Angabe</th>\n",
       "      <td>0</td>\n",
       "    </tr>\n",
       "  </tbody>\n",
       "</table>\n",
       "<p>5117 rows × 1 columns</p>\n",
       "</div>"
      ],
      "text/plain": [
       "                                         sgewicht\n",
       "Jahr       intnr   methode fbversion             \n",
       "2019-01-01 1102595 Online  Keine Angabe         2\n",
       "           1104831 Papier  Keine Angabe         2\n",
       "           1102087 Online  Keine Angabe         2\n",
       "           1105056 Papier  Keine Angabe         2\n",
       "           1101567 Online  Keine Angabe         2\n",
       "...                                           ...\n",
       "           1103548 Online  Keine Angabe         0\n",
       "           1105165 Papier  Keine Angabe         0\n",
       "           110104  Online  Keine Angabe         0\n",
       "           110826  Online  Keine Angabe         0\n",
       "           1101693 Online  Keine Angabe         0\n",
       "\n",
       "[5117 rows x 1 columns]"
      ]
     },
     "execution_count": 32,
     "metadata": {},
     "output_type": "execute_result"
    }
   ],
   "source": [
    "frage_A9004aa01 = data2betested[\"2019\"].groupby(['Jahr', 'intnr', 'methode','fbversion'])[['sgewicht']].sum().sort_values('sgewicht', ascending=False)\n",
    "frage_A9004aa01"
   ]
  },
  {
   "cell_type": "markdown",
   "metadata": {
    "tags": []
   },
   "source": [
    "#### Wusel Gusel"
   ]
  },
  {
   "cell_type": "code",
   "execution_count": 33,
   "metadata": {},
   "outputs": [
    {
     "data": {
      "text/plain": [
       "Index(['Code', 'Beschreibung', 'Variable', 'Frage', 'Titel'], dtype='object')"
      ]
     },
     "execution_count": 33,
     "metadata": {},
     "output_type": "execute_result"
    }
   ],
   "source": [
    "meta2betested.columns"
   ]
  },
  {
   "cell_type": "code",
   "execution_count": 34,
   "metadata": {},
   "outputs": [
    {
     "data": {
      "text/html": [
       "<div>\n",
       "<style scoped>\n",
       "    .dataframe tbody tr th:only-of-type {\n",
       "        vertical-align: middle;\n",
       "    }\n",
       "\n",
       "    .dataframe tbody tr th {\n",
       "        vertical-align: top;\n",
       "    }\n",
       "\n",
       "    .dataframe thead th {\n",
       "        text-align: right;\n",
       "    }\n",
       "</style>\n",
       "<table border=\"1\" class=\"dataframe\">\n",
       "  <thead>\n",
       "    <tr style=\"text-align: right;\">\n",
       "      <th></th>\n",
       "      <th>Code</th>\n",
       "      <th>Beschreibung</th>\n",
       "      <th>Variable</th>\n",
       "      <th>Frage</th>\n",
       "      <th>Titel</th>\n",
       "    </tr>\n",
       "  </thead>\n",
       "  <tbody>\n",
       "    <tr>\n",
       "      <th>3676</th>\n",
       "      <td>1</td>\n",
       "      <td>Ja</td>\n",
       "      <td>A4003aa01</td>\n",
       "      <td>F29</td>\n",
       "      <td>Meidung Orte in der Stadt, ausserhalb Quartier</td>\n",
       "    </tr>\n",
       "    <tr>\n",
       "      <th>3677</th>\n",
       "      <td>2</td>\n",
       "      <td>Nein</td>\n",
       "      <td>A4003aa01</td>\n",
       "      <td>F29</td>\n",
       "      <td>Meidung Orte in der Stadt, ausserhalb Quartier</td>\n",
       "    </tr>\n",
       "    <tr>\n",
       "      <th>3678</th>\n",
       "      <td>3</td>\n",
       "      <td>Bin nachts nie allein unterwegs</td>\n",
       "      <td>A4003aa01</td>\n",
       "      <td>F29</td>\n",
       "      <td>Meidung Orte in der Stadt, ausserhalb Quartier</td>\n",
       "    </tr>\n",
       "    <tr>\n",
       "      <th>3679</th>\n",
       "      <td>99</td>\n",
       "      <td>Keine Angabe</td>\n",
       "      <td>A4003aa01</td>\n",
       "      <td>F29</td>\n",
       "      <td>Meidung Orte in der Stadt, ausserhalb Quartier</td>\n",
       "    </tr>\n",
       "  </tbody>\n",
       "</table>\n",
       "</div>"
      ],
      "text/plain": [
       "     Code                     Beschreibung   Variable Frage  \\\n",
       "3676    1                               Ja  A4003aa01   F29   \n",
       "3677    2                             Nein  A4003aa01   F29   \n",
       "3678    3  Bin nachts nie allein unterwegs  A4003aa01   F29   \n",
       "3679   99                     Keine Angabe  A4003aa01   F29   \n",
       "\n",
       "                                               Titel  \n",
       "3676  Meidung Orte in der Stadt, ausserhalb Quartier  \n",
       "3677  Meidung Orte in der Stadt, ausserhalb Quartier  \n",
       "3678  Meidung Orte in der Stadt, ausserhalb Quartier  \n",
       "3679  Meidung Orte in der Stadt, ausserhalb Quartier  "
      ]
     },
     "execution_count": 34,
     "metadata": {},
     "output_type": "execute_result"
    }
   ],
   "source": [
    "#Scanne durch die Auswahl von FXY durch die Fragen\n",
    "meta2betested.query('Frage ==\"F29\"').head(30).sort_values('Variable', ascending = False)"
   ]
  },
  {
   "cell_type": "code",
   "execution_count": 35,
   "metadata": {},
   "outputs": [
    {
     "data": {
      "text/plain": [
       "Index(['intnr', 'methode', 'fbversion', 'sgewicht', 'pgewicht', 'schichtCd', 'A1BVSKreis01',\n",
       "       'A1BVSSex01', 'A2001aa01', 'A2002aa01',\n",
       "       ...\n",
       "       'A9001ad01', 'A9001ae01', 'A9002aa01', 'A9003aa01', 'A9004aa01', 'A9005aa01', 'A9005ab01',\n",
       "       'A9005ac01', 'A1027aa01', 'Jahr_str'],\n",
       "      dtype='object', length=360)"
      ]
     },
     "execution_count": 35,
     "metadata": {},
     "output_type": "execute_result"
    }
   ],
   "source": [
    "data2betested.columns"
   ]
  },
  {
   "cell_type": "code",
   "execution_count": 36,
   "metadata": {
    "tags": []
   },
   "outputs": [
    {
     "data": {
      "text/html": [
       "<div>\n",
       "<style scoped>\n",
       "    .dataframe tbody tr th:only-of-type {\n",
       "        vertical-align: middle;\n",
       "    }\n",
       "\n",
       "    .dataframe tbody tr th {\n",
       "        vertical-align: top;\n",
       "    }\n",
       "\n",
       "    .dataframe thead th {\n",
       "        text-align: right;\n",
       "    }\n",
       "</style>\n",
       "<table border=\"1\" class=\"dataframe\">\n",
       "  <thead>\n",
       "    <tr style=\"text-align: right;\">\n",
       "      <th></th>\n",
       "      <th>Jahr</th>\n",
       "      <th>A3009aa01</th>\n",
       "      <th>fbversion</th>\n",
       "      <th>sum_sgewicht</th>\n",
       "    </tr>\n",
       "  </thead>\n",
       "  <tbody>\n",
       "    <tr>\n",
       "      <th>0</th>\n",
       "      <td>2021-01-01</td>\n",
       "      <td>Angemessen</td>\n",
       "      <td>Keine Angabe</td>\n",
       "      <td>2059</td>\n",
       "    </tr>\n",
       "    <tr>\n",
       "      <th>1</th>\n",
       "      <td>2019-01-01</td>\n",
       "      <td>Angemessen</td>\n",
       "      <td>Keine Angabe</td>\n",
       "      <td>2030</td>\n",
       "    </tr>\n",
       "    <tr>\n",
       "      <th>2</th>\n",
       "      <td>2015-01-01</td>\n",
       "      <td>Angemessen</td>\n",
       "      <td>Keine Angabe</td>\n",
       "      <td>1515</td>\n",
       "    </tr>\n",
       "  </tbody>\n",
       "</table>\n",
       "</div>"
      ],
      "text/plain": [
       "        Jahr   A3009aa01     fbversion  sum_sgewicht\n",
       "0 2021-01-01  Angemessen  Keine Angabe          2059\n",
       "1 2019-01-01  Angemessen  Keine Angabe          2030\n",
       "2 2015-01-01  Angemessen  Keine Angabe          1515"
      ]
     },
     "execution_count": 36,
     "metadata": {},
     "output_type": "execute_result"
    }
   ],
   "source": [
    "#mit Kreisen 'A1BVSKreis01',\n",
    "myAgg = data2betested.loc[\"2009\":\"2021\"]\\\n",
    "    .groupby(['Jahr', 'A3009aa01','fbversion']) \\\n",
    "    .agg(sum_sgewicht=('sgewicht', 'sum')) \\\n",
    "    .sort_values('sum_sgewicht', ascending=False) \n",
    "\n",
    "myAgg.reset_index().head(3)"
   ]
  },
  {
   "cell_type": "code",
   "execution_count": 37,
   "metadata": {},
   "outputs": [
    {
     "data": {
      "text/html": [
       "\n",
       "<div id=\"altair-viz-58296427a16f4be299220a2185c70fc5\"></div>\n",
       "<script type=\"text/javascript\">\n",
       "  (function(spec, embedOpt){\n",
       "    let outputDiv = document.currentScript.previousElementSibling;\n",
       "    if (outputDiv.id !== \"altair-viz-58296427a16f4be299220a2185c70fc5\") {\n",
       "      outputDiv = document.getElementById(\"altair-viz-58296427a16f4be299220a2185c70fc5\");\n",
       "    }\n",
       "    const paths = {\n",
       "      \"vega\": \"https://cdn.jsdelivr.net/npm//vega@5?noext\",\n",
       "      \"vega-lib\": \"https://cdn.jsdelivr.net/npm//vega-lib?noext\",\n",
       "      \"vega-lite\": \"https://cdn.jsdelivr.net/npm//vega-lite@4.8.1?noext\",\n",
       "      \"vega-embed\": \"https://cdn.jsdelivr.net/npm//vega-embed@6?noext\",\n",
       "    };\n",
       "\n",
       "    function loadScript(lib) {\n",
       "      return new Promise(function(resolve, reject) {\n",
       "        var s = document.createElement('script');\n",
       "        s.src = paths[lib];\n",
       "        s.async = true;\n",
       "        s.onload = () => resolve(paths[lib]);\n",
       "        s.onerror = () => reject(`Error loading script: ${paths[lib]}`);\n",
       "        document.getElementsByTagName(\"head\")[0].appendChild(s);\n",
       "      });\n",
       "    }\n",
       "\n",
       "    function showError(err) {\n",
       "      outputDiv.innerHTML = `<div class=\"error\" style=\"color:red;\">${err}</div>`;\n",
       "      throw err;\n",
       "    }\n",
       "\n",
       "    function displayChart(vegaEmbed) {\n",
       "      vegaEmbed(outputDiv, spec, embedOpt)\n",
       "        .catch(err => showError(`Javascript Error: ${err.message}<br>This usually means there's a typo in your chart specification. See the javascript console for the full traceback.`));\n",
       "    }\n",
       "\n",
       "    if(typeof define === \"function\" && define.amd) {\n",
       "      requirejs.config({paths});\n",
       "      require([\"vega-embed\"], displayChart, err => showError(`Error loading script: ${err.message}`));\n",
       "    } else if (typeof vegaEmbed === \"function\") {\n",
       "      displayChart(vegaEmbed);\n",
       "    } else {\n",
       "      loadScript(\"vega\")\n",
       "        .then(() => loadScript(\"vega-lite\"))\n",
       "        .then(() => loadScript(\"vega-embed\"))\n",
       "        .catch(showError)\n",
       "        .then(() => displayChart(vegaEmbed));\n",
       "    }\n",
       "  })({\"config\": {\"view\": {\"continuousWidth\": 400, \"continuousHeight\": 300}}, \"layer\": [{\"mark\": \"line\", \"encoding\": {\"color\": {\"type\": \"nominal\", \"field\": \"A3009aa01\", \"legend\": {\"orient\": \"right\", \"title\": \"Antwort\"}}, \"size\": {\"condition\": {\"value\": 0.5, \"selection\": {\"not\": \"selector001\"}}, \"value\": 4}, \"tooltip\": [{\"type\": \"temporal\", \"field\": \"Jahr\"}, {\"type\": \"nominal\", \"field\": \"A3009aa01\"}, {\"type\": \"quantitative\", \"field\": \"sum_sgewicht\"}], \"x\": {\"type\": \"temporal\", \"axis\": {\"title\": \"Jahr\"}, \"field\": \"Jahr\"}, \"y\": {\"type\": \"quantitative\", \"axis\": {\"title\": \"Anz. Personen\"}, \"field\": \"sum_sgewicht\"}}, \"selection\": {\"selector002\": {\"type\": \"interval\", \"bind\": \"scales\", \"encodings\": [\"x\", \"y\"]}}, \"title\": \"Frage 20: Mietzins im Vergleich zur Wohnungsqualit\\u00e4t 2021 \"}, {\"mark\": \"circle\", \"encoding\": {\"color\": {\"type\": \"nominal\", \"field\": \"A3009aa01\", \"legend\": {\"orient\": \"right\", \"title\": \"Antwort\"}}, \"opacity\": {\"value\": 0.75}, \"tooltip\": [{\"type\": \"temporal\", \"field\": \"Jahr\"}, {\"type\": \"nominal\", \"field\": \"A3009aa01\"}, {\"type\": \"quantitative\", \"field\": \"sum_sgewicht\"}], \"x\": {\"type\": \"temporal\", \"axis\": {\"title\": \"Jahr\"}, \"field\": \"Jahr\"}, \"y\": {\"type\": \"quantitative\", \"axis\": {\"title\": \"Anz. Personen\"}, \"field\": \"sum_sgewicht\"}}, \"height\": 350, \"selection\": {\"selector001\": {\"type\": \"single\", \"on\": \"mouseover\", \"fields\": [\"A3009aa01\"], \"nearest\": true}}, \"title\": \"Frage 20: Mietzins im Vergleich zur Wohnungsqualit\\u00e4t 2021 \", \"width\": 750}], \"data\": {\"name\": \"data-7ef5c13a857b9753e2e99b1b627105c9\"}, \"$schema\": \"https://vega.github.io/schema/vega-lite/v4.8.1.json\", \"datasets\": {\"data-7ef5c13a857b9753e2e99b1b627105c9\": [{\"Jahr\": \"2021-01-01T00:00:00\", \"A3009aa01\": \"Angemessen\", \"fbversion\": \"Keine Angabe\", \"sum_sgewicht\": 2058.95184127}, {\"Jahr\": \"2019-01-01T00:00:00\", \"A3009aa01\": \"Angemessen\", \"fbversion\": \"Keine Angabe\", \"sum_sgewicht\": 2029.78740314}, {\"Jahr\": \"2015-01-01T00:00:00\", \"A3009aa01\": \"Angemessen\", \"fbversion\": \"Keine Angabe\", \"sum_sgewicht\": 1514.737559}, {\"Jahr\": \"2021-01-01T00:00:00\", \"A3009aa01\": \"Eher hoch\", \"fbversion\": \"Keine Angabe\", \"sum_sgewicht\": 1235.3746974}, {\"Jahr\": \"2013-01-01T00:00:00\", \"A3009aa01\": \"Angemessen\", \"fbversion\": \"Keine Angabe\", \"sum_sgewicht\": 1180.667502}, {\"Jahr\": \"2011-01-01T00:00:00\", \"A3009aa01\": \"Angemessen\", \"fbversion\": \"Keine Angabe\", \"sum_sgewicht\": 1173.4974}, {\"Jahr\": \"2019-01-01T00:00:00\", \"A3009aa01\": \"Eher hoch\", \"fbversion\": \"Keine Angabe\", \"sum_sgewicht\": 1137.41215959}, {\"Jahr\": \"2009-01-01T00:00:00\", \"A3009aa01\": \"Angemessen\", \"fbversion\": \"Keine Angabe\", \"sum_sgewicht\": 1116.4837}, {\"Jahr\": \"2019-01-01T00:00:00\", \"A3009aa01\": \"Keine Angabe\", \"fbversion\": \"Keine Angabe\", \"sum_sgewicht\": 785.60753584}, {\"Jahr\": \"2021-01-01T00:00:00\", \"A3009aa01\": \"Keine Angabe\", \"fbversion\": \"Keine Angabe\", \"sum_sgewicht\": 716.02981467}, {\"Jahr\": \"2015-01-01T00:00:00\", \"A3009aa01\": \"Eher hoch\", \"fbversion\": \"Keine Angabe\", \"sum_sgewicht\": 581.120082}, {\"Jahr\": \"2021-01-01T00:00:00\", \"A3009aa01\": \"Eher niedrig\", \"fbversion\": \"Keine Angabe\", \"sum_sgewicht\": 545.21698627}, {\"Jahr\": \"2015-01-01T00:00:00\", \"A3009aa01\": \"Keine Angabe\", \"fbversion\": \"Keine Angabe\", \"sum_sgewicht\": 511.258905}, {\"Jahr\": \"2019-01-01T00:00:00\", \"A3009aa01\": \"Eher niedrig\", \"fbversion\": \"Keine Angabe\", \"sum_sgewicht\": 487.82412012000003}, {\"Jahr\": \"2021-01-01T00:00:00\", \"A3009aa01\": \"Sehr hoch\", \"fbversion\": \"Keine Angabe\", \"sum_sgewicht\": 463.22045429}, {\"Jahr\": \"2009-01-01T00:00:00\", \"A3009aa01\": \"Eher hoch\", \"fbversion\": \"Keine Angabe\", \"sum_sgewicht\": 430.6962}, {\"Jahr\": \"2013-01-01T00:00:00\", \"A3009aa01\": \"Keine Angabe\", \"fbversion\": \"Keine Angabe\", \"sum_sgewicht\": 414.93844}, {\"Jahr\": \"2015-01-01T00:00:00\", \"A3009aa01\": \"Eher niedrig\", \"fbversion\": \"Keine Angabe\", \"sum_sgewicht\": 407.123128}, {\"Jahr\": \"2011-01-01T00:00:00\", \"A3009aa01\": \"Keine Angabe\", \"fbversion\": \"Keine Angabe\", \"sum_sgewicht\": 393.5698}, {\"Jahr\": \"2009-01-01T00:00:00\", \"A3009aa01\": \"Keine Angabe\", \"fbversion\": \"Keine Angabe\", \"sum_sgewicht\": 392.22}, {\"Jahr\": \"2019-01-01T00:00:00\", \"A3009aa01\": \"Sehr hoch\", \"fbversion\": \"Keine Angabe\", \"sum_sgewicht\": 388.75837937}, {\"Jahr\": \"2011-01-01T00:00:00\", \"A3009aa01\": \"Eher hoch\", \"fbversion\": \"Keine Angabe\", \"sum_sgewicht\": 384.1613}, {\"Jahr\": \"2013-01-01T00:00:00\", \"A3009aa01\": \"Eher hoch\", \"fbversion\": \"Keine Angabe\", \"sum_sgewicht\": 339.268685}, {\"Jahr\": \"2011-01-01T00:00:00\", \"A3009aa01\": \"Eher niedrig\", \"fbversion\": \"Keine Angabe\", \"sum_sgewicht\": 303.6304}, {\"Jahr\": \"2013-01-01T00:00:00\", \"A3009aa01\": \"Eher niedrig\", \"fbversion\": \"Keine Angabe\", \"sum_sgewicht\": 295.36649}, {\"Jahr\": \"2021-01-01T00:00:00\", \"A3009aa01\": \"Sehr niedrig\", \"fbversion\": \"Keine Angabe\", \"sum_sgewicht\": 295.13182952}, {\"Jahr\": \"2009-01-01T00:00:00\", \"A3009aa01\": \"Eher niedrig\", \"fbversion\": \"Keine Angabe\", \"sum_sgewicht\": 275.2828}, {\"Jahr\": \"2019-01-01T00:00:00\", \"A3009aa01\": \"Sehr niedrig\", \"fbversion\": \"Keine Angabe\", \"sum_sgewicht\": 245.20632721}, {\"Jahr\": \"2015-01-01T00:00:00\", \"A3009aa01\": \"Sehr hoch\", \"fbversion\": \"Keine Angabe\", \"sum_sgewicht\": 224.37822500000001}, {\"Jahr\": \"2015-01-01T00:00:00\", \"A3009aa01\": \"Sehr niedrig\", \"fbversion\": \"Keine Angabe\", \"sum_sgewicht\": 180.155061}, {\"Jahr\": \"2009-01-01T00:00:00\", \"A3009aa01\": \"Sehr hoch\", \"fbversion\": \"Keine Angabe\", \"sum_sgewicht\": 171.274}, {\"Jahr\": \"2013-01-01T00:00:00\", \"A3009aa01\": \"Sehr niedrig\", \"fbversion\": \"Keine Angabe\", \"sum_sgewicht\": 152.838633}, {\"Jahr\": \"2011-01-01T00:00:00\", \"A3009aa01\": \"Sehr hoch\", \"fbversion\": \"Keine Angabe\", \"sum_sgewicht\": 130.4229}, {\"Jahr\": \"2013-01-01T00:00:00\", \"A3009aa01\": \"Sehr hoch\", \"fbversion\": \"Keine Angabe\", \"sum_sgewicht\": 121.920739}, {\"Jahr\": \"2009-01-01T00:00:00\", \"A3009aa01\": \"Sehr niedrig\", \"fbversion\": \"Keine Angabe\", \"sum_sgewicht\": 115.0613}, {\"Jahr\": \"2011-01-01T00:00:00\", \"A3009aa01\": \"Sehr niedrig\", \"fbversion\": \"Keine Angabe\", \"sum_sgewicht\": 114.73140000000001}, {\"Jahr\": \"2021-01-01T00:00:00\", \"A3009aa01\": \"Weiss nicht\", \"fbversion\": \"Keine Angabe\", \"sum_sgewicht\": 68.07437739}, {\"Jahr\": \"2015-01-01T00:00:00\", \"A3009aa01\": \"Angemessen\", \"fbversion\": \"V2\", \"sum_sgewicht\": 63.604748}, {\"Jahr\": \"2015-01-01T00:00:00\", \"A3009aa01\": \"Angemessen\", \"fbversion\": \"V1\", \"sum_sgewicht\": 60.964631}, {\"Jahr\": \"2019-01-01T00:00:00\", \"A3009aa01\": \"Weiss nicht\", \"fbversion\": \"Keine Angabe\", \"sum_sgewicht\": 42.40407507}, {\"Jahr\": \"2015-01-01T00:00:00\", \"A3009aa01\": \"Eher hoch\", \"fbversion\": \"V1\", \"sum_sgewicht\": 27.551922}, {\"Jahr\": \"2015-01-01T00:00:00\", \"A3009aa01\": \"Eher hoch\", \"fbversion\": \"V2\", \"sum_sgewicht\": 19.645431000000002}, {\"Jahr\": \"2015-01-01T00:00:00\", \"A3009aa01\": \"Keine Angabe\", \"fbversion\": \"V1\", \"sum_sgewicht\": 18.77779}, {\"Jahr\": \"2015-01-01T00:00:00\", \"A3009aa01\": \"Eher niedrig\", \"fbversion\": \"V1\", \"sum_sgewicht\": 14.864364}, {\"Jahr\": \"2015-01-01T00:00:00\", \"A3009aa01\": \"Keine Angabe\", \"fbversion\": \"V2\", \"sum_sgewicht\": 13.568176000000001}, {\"Jahr\": \"2015-01-01T00:00:00\", \"A3009aa01\": \"Sehr hoch\", \"fbversion\": \"V1\", \"sum_sgewicht\": 13.039199}, {\"Jahr\": \"2015-01-01T00:00:00\", \"A3009aa01\": \"Eher niedrig\", \"fbversion\": \"V2\", \"sum_sgewicht\": 10.18412}, {\"Jahr\": \"2015-01-01T00:00:00\", \"A3009aa01\": \"Sehr hoch\", \"fbversion\": \"V2\", \"sum_sgewicht\": 5.029537}, {\"Jahr\": \"2015-01-01T00:00:00\", \"A3009aa01\": \"Sehr niedrig\", \"fbversion\": \"V2\", \"sum_sgewicht\": 3.207163}, {\"Jahr\": \"2015-01-01T00:00:00\", \"A3009aa01\": \"Sehr niedrig\", \"fbversion\": \"V1\", \"sum_sgewicht\": 2.7907100000000002}]}}, {\"mode\": \"vega-lite\"});\n",
       "</script>"
      ],
      "text/plain": [
       "alt.LayerChart(...)"
      ]
     },
     "execution_count": 37,
     "metadata": {},
     "output_type": "execute_result"
    }
   ],
   "source": [
    "myTitle=\"Frage 20: Mietzins im Vergleich zur Wohnungsqualität 2021 \"\n",
    "\n",
    "highlight = alt.selection(type='single', on='mouseover',\n",
    "                          fields=['A3009aa01'], nearest=True)\n",
    "#x='date:StichtagDatJahr',\n",
    "base = alt.Chart(myAgg.reset_index().query('sum_sgewicht>0'), title=myTitle).encode(\n",
    "    x=alt.X('Jahr', axis=alt.Axis(title='Jahr'))# , axis=alt.Axis(format='%', title='percentage')\n",
    "    , y=alt.X('sum_sgewicht', axis=alt.Axis(title='Anz. Personen'))\n",
    "    , color=alt.Color('A3009aa01', legend=alt.Legend(title=\"Antwort\", orient=\"right\"))  \n",
    "    ,tooltip=['Jahr', 'A3009aa01','sum_sgewicht']    \n",
    ")\n",
    "points = base.mark_circle().encode(\n",
    "    opacity=alt.value(0.75)\n",
    ").add_selection(\n",
    "    highlight\n",
    ").properties(\n",
    "    width=750 , height=350\n",
    ")\n",
    "lines = base.mark_line().encode(\n",
    "    size=alt.condition(~highlight, alt.value(0.5), alt.value(4))\n",
    ").interactive()\n",
    "\n",
    "lines + points"
   ]
  },
  {
   "cell_type": "markdown",
   "metadata": {},
   "source": [
    "### Entwicklung Sicherheit"
   ]
  },
  {
   "cell_type": "code",
   "execution_count": 38,
   "metadata": {},
   "outputs": [
    {
     "data": {
      "text/html": [
       "<div>\n",
       "<style scoped>\n",
       "    .dataframe tbody tr th:only-of-type {\n",
       "        vertical-align: middle;\n",
       "    }\n",
       "\n",
       "    .dataframe tbody tr th {\n",
       "        vertical-align: top;\n",
       "    }\n",
       "\n",
       "    .dataframe thead th {\n",
       "        text-align: right;\n",
       "    }\n",
       "</style>\n",
       "<table border=\"1\" class=\"dataframe\">\n",
       "  <thead>\n",
       "    <tr style=\"text-align: right;\">\n",
       "      <th></th>\n",
       "      <th>Jahr</th>\n",
       "      <th>A4003aa01</th>\n",
       "      <th>fbversion</th>\n",
       "      <th>sum_sgewicht</th>\n",
       "    </tr>\n",
       "  </thead>\n",
       "  <tbody>\n",
       "    <tr>\n",
       "      <th>0</th>\n",
       "      <td>2019-01-01</td>\n",
       "      <td>Nein</td>\n",
       "      <td>Keine Angabe</td>\n",
       "      <td>2507</td>\n",
       "    </tr>\n",
       "    <tr>\n",
       "      <th>1</th>\n",
       "      <td>2021-01-01</td>\n",
       "      <td>Nein</td>\n",
       "      <td>Keine Angabe</td>\n",
       "      <td>2447</td>\n",
       "    </tr>\n",
       "    <tr>\n",
       "      <th>2</th>\n",
       "      <td>2021-01-01</td>\n",
       "      <td>Ja</td>\n",
       "      <td>Keine Angabe</td>\n",
       "      <td>2188</td>\n",
       "    </tr>\n",
       "  </tbody>\n",
       "</table>\n",
       "</div>"
      ],
      "text/plain": [
       "        Jahr A4003aa01     fbversion  sum_sgewicht\n",
       "0 2019-01-01      Nein  Keine Angabe          2507\n",
       "1 2021-01-01      Nein  Keine Angabe          2447\n",
       "2 2021-01-01        Ja  Keine Angabe          2188"
      ]
     },
     "execution_count": 38,
     "metadata": {},
     "output_type": "execute_result"
    }
   ],
   "source": [
    "#mit Kreisen 'A1BVSKreis01',\n",
    "myAgg = data2betested.loc[\"2009\":\"2021\"]\\\n",
    "    .groupby(['Jahr', 'A4003aa01','fbversion']) \\\n",
    "    .agg(sum_sgewicht=('sgewicht', 'sum')) \\\n",
    "    .sort_values('sum_sgewicht', ascending=False) \n",
    "\n",
    "myAgg.reset_index().head(3)"
   ]
  },
  {
   "cell_type": "code",
   "execution_count": 39,
   "metadata": {},
   "outputs": [
    {
     "data": {
      "text/html": [
       "\n",
       "<div id=\"altair-viz-0167863a084c4b27b82c124171d03564\"></div>\n",
       "<script type=\"text/javascript\">\n",
       "  (function(spec, embedOpt){\n",
       "    let outputDiv = document.currentScript.previousElementSibling;\n",
       "    if (outputDiv.id !== \"altair-viz-0167863a084c4b27b82c124171d03564\") {\n",
       "      outputDiv = document.getElementById(\"altair-viz-0167863a084c4b27b82c124171d03564\");\n",
       "    }\n",
       "    const paths = {\n",
       "      \"vega\": \"https://cdn.jsdelivr.net/npm//vega@5?noext\",\n",
       "      \"vega-lib\": \"https://cdn.jsdelivr.net/npm//vega-lib?noext\",\n",
       "      \"vega-lite\": \"https://cdn.jsdelivr.net/npm//vega-lite@4.8.1?noext\",\n",
       "      \"vega-embed\": \"https://cdn.jsdelivr.net/npm//vega-embed@6?noext\",\n",
       "    };\n",
       "\n",
       "    function loadScript(lib) {\n",
       "      return new Promise(function(resolve, reject) {\n",
       "        var s = document.createElement('script');\n",
       "        s.src = paths[lib];\n",
       "        s.async = true;\n",
       "        s.onload = () => resolve(paths[lib]);\n",
       "        s.onerror = () => reject(`Error loading script: ${paths[lib]}`);\n",
       "        document.getElementsByTagName(\"head\")[0].appendChild(s);\n",
       "      });\n",
       "    }\n",
       "\n",
       "    function showError(err) {\n",
       "      outputDiv.innerHTML = `<div class=\"error\" style=\"color:red;\">${err}</div>`;\n",
       "      throw err;\n",
       "    }\n",
       "\n",
       "    function displayChart(vegaEmbed) {\n",
       "      vegaEmbed(outputDiv, spec, embedOpt)\n",
       "        .catch(err => showError(`Javascript Error: ${err.message}<br>This usually means there's a typo in your chart specification. See the javascript console for the full traceback.`));\n",
       "    }\n",
       "\n",
       "    if(typeof define === \"function\" && define.amd) {\n",
       "      requirejs.config({paths});\n",
       "      require([\"vega-embed\"], displayChart, err => showError(`Error loading script: ${err.message}`));\n",
       "    } else if (typeof vegaEmbed === \"function\") {\n",
       "      displayChart(vegaEmbed);\n",
       "    } else {\n",
       "      loadScript(\"vega\")\n",
       "        .then(() => loadScript(\"vega-lite\"))\n",
       "        .then(() => loadScript(\"vega-embed\"))\n",
       "        .catch(showError)\n",
       "        .then(() => displayChart(vegaEmbed));\n",
       "    }\n",
       "  })({\"config\": {\"view\": {\"continuousWidth\": 400, \"continuousHeight\": 300}}, \"layer\": [{\"mark\": \"line\", \"encoding\": {\"color\": {\"type\": \"nominal\", \"field\": \"A4003aa01\", \"legend\": {\"orient\": \"right\", \"title\": \"Antwort\"}}, \"size\": {\"condition\": {\"value\": 0.5, \"selection\": {\"not\": \"selector003\"}}, \"value\": 4}, \"tooltip\": [{\"type\": \"temporal\", \"field\": \"Jahr\"}, {\"type\": \"nominal\", \"field\": \"A4003aa01\"}, {\"type\": \"quantitative\", \"field\": \"sum_sgewicht\"}], \"x\": {\"type\": \"temporal\", \"axis\": {\"title\": \"Jahr\"}, \"field\": \"Jahr\"}, \"y\": {\"type\": \"quantitative\", \"axis\": {\"title\": \"Anz. Personen\"}, \"field\": \"sum_sgewicht\"}}, \"selection\": {\"selector004\": {\"type\": \"interval\", \"bind\": \"scales\", \"encodings\": [\"x\", \"y\"]}}, \"title\": \"Frage 29: Meidung Orte in der Stadt, ausserhalb Quartier\"}, {\"mark\": \"circle\", \"encoding\": {\"color\": {\"type\": \"nominal\", \"field\": \"A4003aa01\", \"legend\": {\"orient\": \"right\", \"title\": \"Antwort\"}}, \"opacity\": {\"value\": 0.75}, \"tooltip\": [{\"type\": \"temporal\", \"field\": \"Jahr\"}, {\"type\": \"nominal\", \"field\": \"A4003aa01\"}, {\"type\": \"quantitative\", \"field\": \"sum_sgewicht\"}], \"x\": {\"type\": \"temporal\", \"axis\": {\"title\": \"Jahr\"}, \"field\": \"Jahr\"}, \"y\": {\"type\": \"quantitative\", \"axis\": {\"title\": \"Anz. Personen\"}, \"field\": \"sum_sgewicht\"}}, \"height\": 350, \"selection\": {\"selector003\": {\"type\": \"single\", \"on\": \"mouseover\", \"fields\": [\"A4003aa01\"], \"nearest\": true}}, \"title\": \"Frage 29: Meidung Orte in der Stadt, ausserhalb Quartier\", \"width\": 750}], \"data\": {\"name\": \"data-bed793cb498154d083b589cb7fd51310\"}, \"$schema\": \"https://vega.github.io/schema/vega-lite/v4.8.1.json\", \"datasets\": {\"data-bed793cb498154d083b589cb7fd51310\": [{\"Jahr\": \"2019-01-01T00:00:00\", \"A4003aa01\": \"Nein\", \"fbversion\": \"Keine Angabe\", \"sum_sgewicht\": 2506.89103863}, {\"Jahr\": \"2021-01-01T00:00:00\", \"A4003aa01\": \"Nein\", \"fbversion\": \"Keine Angabe\", \"sum_sgewicht\": 2446.68123655}, {\"Jahr\": \"2021-01-01T00:00:00\", \"A4003aa01\": \"Ja\", \"fbversion\": \"Keine Angabe\", \"sum_sgewicht\": 2187.96992328}, {\"Jahr\": \"2019-01-01T00:00:00\", \"A4003aa01\": \"Ja\", \"fbversion\": \"Keine Angabe\", \"sum_sgewicht\": 2109.17978373}, {\"Jahr\": \"2015-01-01T00:00:00\", \"A4003aa01\": \"Ja\", \"fbversion\": \"Keine Angabe\", \"sum_sgewicht\": 1822.665261}, {\"Jahr\": \"2009-01-01T00:00:00\", \"A4003aa01\": \"Ja\", \"fbversion\": \"Keine Angabe\", \"sum_sgewicht\": 1534.1556}, {\"Jahr\": \"2011-01-01T00:00:00\", \"A4003aa01\": \"Ja\", \"fbversion\": \"Keine Angabe\", \"sum_sgewicht\": 1526.7689}, {\"Jahr\": \"2013-01-01T00:00:00\", \"A4003aa01\": \"Ja\", \"fbversion\": \"Keine Angabe\", \"sum_sgewicht\": 1508.440091}, {\"Jahr\": \"2015-01-01T00:00:00\", \"A4003aa01\": \"Nein\", \"fbversion\": \"Keine Angabe\", \"sum_sgewicht\": 1231.986007}, {\"Jahr\": \"2013-01-01T00:00:00\", \"A4003aa01\": \"Nein\", \"fbversion\": \"Keine Angabe\", \"sum_sgewicht\": 683.013265}, {\"Jahr\": \"2011-01-01T00:00:00\", \"A4003aa01\": \"Nein\", \"fbversion\": \"Keine Angabe\", \"sum_sgewicht\": 668.6328}, {\"Jahr\": \"2009-01-01T00:00:00\", \"A4003aa01\": \"Nein\", \"fbversion\": \"Keine Angabe\", \"sum_sgewicht\": 628.7096}, {\"Jahr\": \"2021-01-01T00:00:00\", \"A4003aa01\": \"Keine Angabe\", \"fbversion\": \"Keine Angabe\", \"sum_sgewicht\": 578.83302061}, {\"Jahr\": \"2019-01-01T00:00:00\", \"A4003aa01\": \"Keine Angabe\", \"fbversion\": \"Keine Angabe\", \"sum_sgewicht\": 372.38657648000003}, {\"Jahr\": \"2015-01-01T00:00:00\", \"A4003aa01\": \"Keine Angabe\", \"fbversion\": \"Keine Angabe\", \"sum_sgewicht\": 303.003178}, {\"Jahr\": \"2009-01-01T00:00:00\", \"A4003aa01\": \"Keine Angabe\", \"fbversion\": \"Keine Angabe\", \"sum_sgewicht\": 292.7476}, {\"Jahr\": \"2011-01-01T00:00:00\", \"A4003aa01\": \"Keine Angabe\", \"fbversion\": \"Keine Angabe\", \"sum_sgewicht\": 247.8817}, {\"Jahr\": \"2013-01-01T00:00:00\", \"A4003aa01\": \"Keine Angabe\", \"fbversion\": \"Keine Angabe\", \"sum_sgewicht\": 241.738266}, {\"Jahr\": \"2021-01-01T00:00:00\", \"A4003aa01\": \"Bin nachts nie allein unterwegs\", \"fbversion\": \"Keine Angabe\", \"sum_sgewicht\": 168.51582037}, {\"Jahr\": \"2019-01-01T00:00:00\", \"A4003aa01\": \"Bin nachts nie allein unterwegs\", \"fbversion\": \"Keine Angabe\", \"sum_sgewicht\": 128.5426015}, {\"Jahr\": \"2013-01-01T00:00:00\", \"A4003aa01\": \"Bin nachts nie allein unterwegs\", \"fbversion\": \"Keine Angabe\", \"sum_sgewicht\": 71.80886699999999}, {\"Jahr\": \"2015-01-01T00:00:00\", \"A4003aa01\": \"Bin nachts nie allein unterwegs\", \"fbversion\": \"Keine Angabe\", \"sum_sgewicht\": 61.118514}, {\"Jahr\": \"2011-01-01T00:00:00\", \"A4003aa01\": \"Bin nachts nie allein unterwegs\", \"fbversion\": \"Keine Angabe\", \"sum_sgewicht\": 56.7298}, {\"Jahr\": \"2015-01-01T00:00:00\", \"A4003aa01\": \"Ja\", \"fbversion\": \"V1\", \"sum_sgewicht\": 55.050547}, {\"Jahr\": \"2015-01-01T00:00:00\", \"A4003aa01\": \"Ja\", \"fbversion\": \"V2\", \"sum_sgewicht\": 49.977138000000004}, {\"Jahr\": \"2009-01-01T00:00:00\", \"A4003aa01\": \"Bin nachts nie allein unterwegs\", \"fbversion\": \"Keine Angabe\", \"sum_sgewicht\": 45.4052}, {\"Jahr\": \"2015-01-01T00:00:00\", \"A4003aa01\": \"Nein\", \"fbversion\": \"V1\", \"sum_sgewicht\": 43.620246}, {\"Jahr\": \"2015-01-01T00:00:00\", \"A4003aa01\": \"Nein\", \"fbversion\": \"V2\", \"sum_sgewicht\": 36.378173}, {\"Jahr\": \"2015-01-01T00:00:00\", \"A4003aa01\": \"Keine Angabe\", \"fbversion\": \"V1\", \"sum_sgewicht\": 35.82219}, {\"Jahr\": \"2015-01-01T00:00:00\", \"A4003aa01\": \"Keine Angabe\", \"fbversion\": \"V2\", \"sum_sgewicht\": 21.701506000000002}, {\"Jahr\": \"2015-01-01T00:00:00\", \"A4003aa01\": \"Bin nachts nie allein unterwegs\", \"fbversion\": \"V2\", \"sum_sgewicht\": 7.182358}, {\"Jahr\": \"2015-01-01T00:00:00\", \"A4003aa01\": \"Bin nachts nie allein unterwegs\", \"fbversion\": \"V1\", \"sum_sgewicht\": 3.495633}]}}, {\"mode\": \"vega-lite\"});\n",
       "</script>"
      ],
      "text/plain": [
       "alt.LayerChart(...)"
      ]
     },
     "execution_count": 39,
     "metadata": {},
     "output_type": "execute_result"
    }
   ],
   "source": [
    "myTitle=\"Frage 29: Meidung Orte in der Stadt, ausserhalb Quartier\"\n",
    "\n",
    "highlight = alt.selection(type='single', on='mouseover',\n",
    "                          fields=['A4003aa01'], nearest=True)\n",
    "#x='date:StichtagDatJahr',\n",
    "base = alt.Chart(myAgg.reset_index().query('sum_sgewicht>0'), title=myTitle).encode(\n",
    "    x=alt.X('Jahr', axis=alt.Axis(title='Jahr'))# , axis=alt.Axis(format='%', title='percentage')\n",
    "    , y=alt.X('sum_sgewicht', axis=alt.Axis(title='Anz. Personen'))\n",
    "    , color=alt.Color('A4003aa01', legend=alt.Legend(title=\"Antwort\", orient=\"right\"))  \n",
    "    ,tooltip=['Jahr', 'A4003aa01','sum_sgewicht']    \n",
    ")\n",
    "points = base.mark_circle().encode(\n",
    "    opacity=alt.value(0.75)\n",
    ").add_selection(\n",
    "    highlight\n",
    ").properties(\n",
    "    width=750 , height=350\n",
    ")\n",
    "lines = base.mark_line().encode(\n",
    "    size=alt.condition(~highlight, alt.value(0.5), alt.value(4))\n",
    ").interactive()\n",
    "\n",
    "lines + points"
   ]
  },
  {
   "cell_type": "code",
   "execution_count": 40,
   "metadata": {},
   "outputs": [
    {
     "data": {
      "text/html": [
       "<div>\n",
       "<style scoped>\n",
       "    .dataframe tbody tr th:only-of-type {\n",
       "        vertical-align: middle;\n",
       "    }\n",
       "\n",
       "    .dataframe tbody tr th {\n",
       "        vertical-align: top;\n",
       "    }\n",
       "\n",
       "    .dataframe thead th {\n",
       "        text-align: right;\n",
       "    }\n",
       "</style>\n",
       "<table border=\"1\" class=\"dataframe\">\n",
       "  <thead>\n",
       "    <tr style=\"text-align: right;\">\n",
       "      <th></th>\n",
       "      <th>Jahr</th>\n",
       "      <th>A1BVSKreis01</th>\n",
       "      <th>A4003aa01</th>\n",
       "      <th>fbversion</th>\n",
       "      <th>sum_sgewicht</th>\n",
       "    </tr>\n",
       "  </thead>\n",
       "  <tbody>\n",
       "    <tr>\n",
       "      <th>0</th>\n",
       "      <td>2019-01-01</td>\n",
       "      <td>Kreis 11</td>\n",
       "      <td>Ja</td>\n",
       "      <td>Keine Angabe</td>\n",
       "      <td>400</td>\n",
       "    </tr>\n",
       "    <tr>\n",
       "      <th>1</th>\n",
       "      <td>2021-01-01</td>\n",
       "      <td>Kreis 11</td>\n",
       "      <td>Ja</td>\n",
       "      <td>Keine Angabe</td>\n",
       "      <td>380</td>\n",
       "    </tr>\n",
       "    <tr>\n",
       "      <th>2</th>\n",
       "      <td>2021-01-01</td>\n",
       "      <td>Kreis 11</td>\n",
       "      <td>Nein</td>\n",
       "      <td>Keine Angabe</td>\n",
       "      <td>375</td>\n",
       "    </tr>\n",
       "  </tbody>\n",
       "</table>\n",
       "</div>"
      ],
      "text/plain": [
       "        Jahr A1BVSKreis01 A4003aa01     fbversion  sum_sgewicht\n",
       "0 2019-01-01     Kreis 11        Ja  Keine Angabe           400\n",
       "1 2021-01-01     Kreis 11        Ja  Keine Angabe           380\n",
       "2 2021-01-01     Kreis 11      Nein  Keine Angabe           375"
      ]
     },
     "execution_count": 40,
     "metadata": {},
     "output_type": "execute_result"
    }
   ],
   "source": [
    "#mit Kreisen 'A1BVSKreis01',\n",
    "myAggBar = data2betested.loc[\"2009\":\"2021\"]\\\n",
    "    .groupby(['Jahr', 'A1BVSKreis01','A4003aa01','fbversion']) \\\n",
    "    .agg(sum_sgewicht=('sgewicht', 'sum')) \\\n",
    "    .sort_values('sum_sgewicht', ascending=False) \n",
    "\n",
    "myAggBar.reset_index().head(3)"
   ]
  },
  {
   "cell_type": "code",
   "execution_count": 41,
   "metadata": {},
   "outputs": [
    {
     "data": {
      "text/plain": [
       "<seaborn.axisgrid.FacetGrid at 0x24684ff2448>"
      ]
     },
     "execution_count": 41,
     "metadata": {},
     "output_type": "execute_result"
    },
    {
     "data": {
      "image/png": "[encoded data removed]",
      "text/plain": [
       "<Figure size 1057.5x648 with 12 Axes>"
      ]
     },
     "metadata": {
      "needs_background": "light"
     },
     "output_type": "display_data"
    }
   ],
   "source": [
    "g2 = sns.FacetGrid(myAggBar.reset_index().sort_values('A1BVSKreis01',ascending=True), col=\"A1BVSKreis01\", hue=\"A4003aa01\", col_wrap=4, height=3,)\n",
    "g2.map(sns.lineplot, \"Jahr\",\"sum_sgewicht\",alpha=.8)\n",
    "\n",
    "g2.set_xticklabels(rotation=45, fontsize=6) \n",
    "g2.add_legend()"
   ]
  },
  {
   "cell_type": "code",
   "execution_count": 42,
   "metadata": {},
   "outputs": [
    {
     "data": {
      "text/html": [
       "<div>\n",
       "<style scoped>\n",
       "    .dataframe tbody tr th:only-of-type {\n",
       "        vertical-align: middle;\n",
       "    }\n",
       "\n",
       "    .dataframe tbody tr th {\n",
       "        vertical-align: top;\n",
       "    }\n",
       "\n",
       "    .dataframe thead th {\n",
       "        text-align: right;\n",
       "    }\n",
       "</style>\n",
       "<table border=\"1\" class=\"dataframe\">\n",
       "  <thead>\n",
       "    <tr style=\"text-align: right;\">\n",
       "      <th></th>\n",
       "      <th>A1BVSKreis01</th>\n",
       "      <th>sum_sgewicht</th>\n",
       "    </tr>\n",
       "  </thead>\n",
       "  <tbody>\n",
       "    <tr>\n",
       "      <th>0</th>\n",
       "      <td>Kreis 9</td>\n",
       "      <td>708</td>\n",
       "    </tr>\n",
       "    <tr>\n",
       "      <th>1</th>\n",
       "      <td>Kreis 8</td>\n",
       "      <td>218</td>\n",
       "    </tr>\n",
       "    <tr>\n",
       "      <th>2</th>\n",
       "      <td>Kreis 7</td>\n",
       "      <td>478</td>\n",
       "    </tr>\n",
       "    <tr>\n",
       "      <th>3</th>\n",
       "      <td>Kreis 6</td>\n",
       "      <td>433</td>\n",
       "    </tr>\n",
       "    <tr>\n",
       "      <th>4</th>\n",
       "      <td>Kreis 5</td>\n",
       "      <td>201</td>\n",
       "    </tr>\n",
       "    <tr>\n",
       "      <th>5</th>\n",
       "      <td>Kreis 4</td>\n",
       "      <td>376</td>\n",
       "    </tr>\n",
       "    <tr>\n",
       "      <th>6</th>\n",
       "      <td>Kreis 3</td>\n",
       "      <td>627</td>\n",
       "    </tr>\n",
       "    <tr>\n",
       "      <th>7</th>\n",
       "      <td>Kreis 2</td>\n",
       "      <td>426</td>\n",
       "    </tr>\n",
       "    <tr>\n",
       "      <th>8</th>\n",
       "      <td>Kreis 12</td>\n",
       "      <td>399</td>\n",
       "    </tr>\n",
       "    <tr>\n",
       "      <th>9</th>\n",
       "      <td>Kreis 11</td>\n",
       "      <td>924</td>\n",
       "    </tr>\n",
       "    <tr>\n",
       "      <th>10</th>\n",
       "      <td>Kreis 10</td>\n",
       "      <td>519</td>\n",
       "    </tr>\n",
       "    <tr>\n",
       "      <th>11</th>\n",
       "      <td>Kreis 1</td>\n",
       "      <td>74</td>\n",
       "    </tr>\n",
       "  </tbody>\n",
       "</table>\n",
       "</div>"
      ],
      "text/plain": [
       "   A1BVSKreis01  sum_sgewicht\n",
       "0       Kreis 9           708\n",
       "1       Kreis 8           218\n",
       "2       Kreis 7           478\n",
       "3       Kreis 6           433\n",
       "4       Kreis 5           201\n",
       "5       Kreis 4           376\n",
       "6       Kreis 3           627\n",
       "7       Kreis 2           426\n",
       "8      Kreis 12           399\n",
       "9      Kreis 11           924\n",
       "10     Kreis 10           519\n",
       "11      Kreis 1            74"
      ]
     },
     "execution_count": 42,
     "metadata": {},
     "output_type": "execute_result"
    }
   ],
   "source": [
    "test=data2betested.loc[\"2021\"]\\\n",
    "    .groupby(['A1BVSKreis01']) \\\n",
    "    .agg(sum_sgewicht=('sgewicht', 'sum')) \\\n",
    "    .sort_values('A1BVSKreis01', ascending=False) \n",
    "\n",
    "test.reset_index()"
   ]
  },
  {
   "cell_type": "code",
   "execution_count": 43,
   "metadata": {},
   "outputs": [
    {
     "data": {
      "text/html": [
       "<div>\n",
       "<style scoped>\n",
       "    .dataframe tbody tr th:only-of-type {\n",
       "        vertical-align: middle;\n",
       "    }\n",
       "\n",
       "    .dataframe tbody tr th {\n",
       "        vertical-align: top;\n",
       "    }\n",
       "\n",
       "    .dataframe thead th {\n",
       "        text-align: right;\n",
       "    }\n",
       "</style>\n",
       "<table border=\"1\" class=\"dataframe\">\n",
       "  <thead>\n",
       "    <tr style=\"text-align: right;\">\n",
       "      <th></th>\n",
       "      <th>Jahr</th>\n",
       "      <th>A1BVSKreis01</th>\n",
       "      <th>A3009aa01</th>\n",
       "      <th>fbversion</th>\n",
       "      <th>sum_sgewicht</th>\n",
       "    </tr>\n",
       "  </thead>\n",
       "  <tbody>\n",
       "    <tr>\n",
       "      <th>0</th>\n",
       "      <td>2021-01-01</td>\n",
       "      <td>Kreis 11</td>\n",
       "      <td>Angemessen</td>\n",
       "      <td>Keine Angabe</td>\n",
       "      <td>387</td>\n",
       "    </tr>\n",
       "    <tr>\n",
       "      <th>1</th>\n",
       "      <td>2019-01-01</td>\n",
       "      <td>Kreis 11</td>\n",
       "      <td>Angemessen</td>\n",
       "      <td>Keine Angabe</td>\n",
       "      <td>360</td>\n",
       "    </tr>\n",
       "    <tr>\n",
       "      <th>2</th>\n",
       "      <td>2021-01-01</td>\n",
       "      <td>Kreis 9</td>\n",
       "      <td>Angemessen</td>\n",
       "      <td>Keine Angabe</td>\n",
       "      <td>299</td>\n",
       "    </tr>\n",
       "  </tbody>\n",
       "</table>\n",
       "</div>"
      ],
      "text/plain": [
       "        Jahr A1BVSKreis01   A3009aa01     fbversion  sum_sgewicht\n",
       "0 2021-01-01     Kreis 11  Angemessen  Keine Angabe           387\n",
       "1 2019-01-01     Kreis 11  Angemessen  Keine Angabe           360\n",
       "2 2021-01-01      Kreis 9  Angemessen  Keine Angabe           299"
      ]
     },
     "execution_count": 43,
     "metadata": {},
     "output_type": "execute_result"
    }
   ],
   "source": [
    "#mit Kreisen 'A1BVSKreis01',\n",
    "myAggBar2 = data2betested.loc[\"2009\":\"2021\"]\\\n",
    "    .groupby(['Jahr','A1BVSKreis01', 'A3009aa01','fbversion']) \\\n",
    "    .agg(sum_sgewicht=('sgewicht', 'sum')) \\\n",
    "    .sort_values('sum_sgewicht', ascending=False) \n",
    "\n",
    "myAggBar2.reset_index().head(3)"
   ]
  },
  {
   "cell_type": "code",
   "execution_count": 44,
   "metadata": {},
   "outputs": [
    {
     "data": {
      "text/plain": [
       "<seaborn.axisgrid.FacetGrid at 0x246866f4288>"
      ]
     },
     "execution_count": 44,
     "metadata": {},
     "output_type": "execute_result"
    },
    {
     "data": {
      "image/png": "[encoded data removed]",
      "text/plain": [
       "<Figure size 968.75x648 with 12 Axes>"
      ]
     },
     "metadata": {
      "needs_background": "light"
     },
     "output_type": "display_data"
    }
   ],
   "source": [
    "#myTitle=\"Frage 20: Mietzins im Vergleich zur Wohnungsqualität 2021 \"\n",
    "g3 = sns.FacetGrid(myAggBar2.reset_index().sort_values('A1BVSKreis01',ascending=True), col=\"A1BVSKreis01\", hue=\"A3009aa01\", col_wrap=4, height=3,)\n",
    "g3.map(sns.lineplot, \"Jahr\",\"sum_sgewicht\",alpha=.8)\n",
    "\n",
    "g3.set_xticklabels(rotation=45, fontsize=6) \n",
    "g3.add_legend()"
   ]
  },
  {
   "cell_type": "markdown",
   "metadata": {},
   "source": [
    "----------------------------------------------------------"
   ]
  }
 ],
 "metadata": {
  "kernelspec": {
   "display_name": "Python 3 (ipykernel)",
   "language": "python",
   "name": "python3"
  },
  "language_info": {
   "codemirror_mode": {
    "name": "ipython",
    "version": 3
   },
   "file_extension": ".py",
   "mimetype": "text/x-python",
   "name": "python",
   "nbconvert_exporter": "python",
   "pygments_lexer": "ipython3",
   "version": "3.7.11"
  }
 },
 "nbformat": 4,
 "nbformat_minor": 4
}
