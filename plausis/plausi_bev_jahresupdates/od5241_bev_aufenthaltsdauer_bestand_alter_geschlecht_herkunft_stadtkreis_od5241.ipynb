{
 "cells": [
  {
   "cell_type": "markdown",
   "metadata": {},
   "source": [
    "# Testing\n",
    "### Aufenthaltsdauer, nach Alter, Geschlecht, Herkunft, Stadtkreis, seit 1993\n",
    "Datum: 11.01.2022\n",
    "\n",
    "Mit Colab kann **dieses Jupyter-Notebook interaktiv im Browser** gestartet werden:\n",
    "[![Open In Colab](https://colab.research.google.com/assets/colab-badge.svg)](https://colab.research.google.com/github/DonGoginho/myPy/blob/main/plausis/plausi_bev_jahresupdates/od3582_bev_bestand_woauha_jahr_quartier_herk_ag_zzgsgebiet_OD3582.ipynb)\n",
    "\n"
   ]
  },
  {
   "cell_type": "markdown",
   "metadata": {},
   "source": [
    "**Importiere die notwendigen Packages**"
   ]
  },
  {
   "cell_type": "code",
   "execution_count": 8,
   "metadata": {},
   "outputs": [],
   "source": [
    "#%pip install geopandas altair fiona requests folium mplleaflet contextily seaborn datetime plotly"
   ]
  },
  {
   "cell_type": "code",
   "execution_count": 9,
   "metadata": {
    "tags": []
   },
   "outputs": [],
   "source": [
    "import pandas as pd\n",
    "import pivottablejs\n",
    "from pivottablejs import pivot_ui\n",
    "import numpy as np\n",
    "import altair as alt\n",
    "import matplotlib.pyplot as plt\n",
    "from datetime import datetime\n",
    "import geopandas as gpd\n",
    "import folium \n",
    "import requests"
   ]
  },
  {
   "cell_type": "code",
   "execution_count": 10,
   "metadata": {},
   "outputs": [],
   "source": [
    "import plotly.express as px\n"
   ]
  },
  {
   "cell_type": "markdown",
   "metadata": {},
   "source": [
    "Definiere Settings. Hier das Zahlenformat von Float-Werten (z.B. *'{:,.2f}'.format* mit Komma als Tausenderzeichen), "
   ]
  },
  {
   "cell_type": "code",
   "execution_count": 11,
   "metadata": {},
   "outputs": [],
   "source": [
    "pd.options.display.float_format = '{:.0f}'.format\n",
    "pd.set_option('display.width', 100)\n",
    "pd.set_option('display.max_columns', 15)"
   ]
  },
  {
   "cell_type": "markdown",
   "metadata": {},
   "source": [
    "Importiere einen Datensatz von der **DWH_INT** Dropzone.\n",
    "\n",
    "- Beachte dabei die Notation des Pfades...\n",
    "- Definiere mal aktuell noch keine weiteren Parameter beim Import"
   ]
  },
  {
   "cell_type": "markdown",
   "metadata": {},
   "source": [
    "**Dataset auf INTEG Datenkatalog**: https://data.integ.stadt-zuerich.ch/dataset/int_dwh_bev_aufenthaltsdauer_bestand_alter_geschlecht_herkunft_stadtkreis_od5241\n",
    "\n",
    "**Dataset auf PROD Datenkatalog**: https://data.stadt-zuerich.ch/dataset/bev_aufenthaltsdauer_bestand_alter_geschlecht_herkunft_stadtkreis_od5241"
   ]
  },
  {
   "cell_type": "code",
   "execution_count": 13,
   "metadata": {},
   "outputs": [
    {
     "name": "stdout",
     "output_type": "stream",
     "text": [
      "prod\n"
     ]
    }
   ],
   "source": [
    "#Die Datasets sind nur zum Testen auf INT-DWH-Dropzone. Wenn der Test vorbei ist, sind sie auf PROD. \n",
    "# Über den Status kann man einfach switchen\n",
    "\n",
    "status = \"prod\";\n",
    "print(status)"
   ]
  },
  {
   "cell_type": "code",
   "execution_count": 14,
   "metadata": {
    "tags": []
   },
   "outputs": [
    {
     "name": "stdout",
     "output_type": "stream",
     "text": [
      "https://data.stadt-zuerich.ch/dataset/bev_aufenthaltsdauer_bestand_alter_geschlecht_herkunft_stadtkreis_od5241/download/BEV524OD5241.csv\n"
     ]
    }
   ],
   "source": [
    "# Filepath\n",
    "if status == \"prod\":\n",
    "    fp = r\"https://data.stadt-zuerich.ch/dataset/bev_aufenthaltsdauer_bestand_alter_geschlecht_herkunft_stadtkreis_od5241/download/BEV524OD5241.csv\"\n",
    "else:\n",
    "    fp = r\"//szh.loc/ssz/applikationen/OGD_Dropzone/INT_DWH/bev_aufenthaltsdauer_bestand_alter_geschlecht_herkunft_stadtkreis_od5241/BEV524OD5241.csv\"\n",
    "\n",
    "print(fp)"
   ]
  },
  {
   "cell_type": "code",
   "execution_count": 15,
   "metadata": {},
   "outputs": [],
   "source": [
    "# Read the data\n",
    "data2betested = pd.read_csv(\n",
    "    fp, \n",
    "    sep=',',\n",
    "   #usecols=[0,1,2,3,4,6],\n",
    "   #names=['stationid','year','month','avgtemp','latitude','longitude','elevation','station','countryid','country'],\n",
    "   #skiprows=1,\n",
    "   # parse_dates=[0],\n",
    "    parse_dates=True,\n",
    "    #date_parser=lambda x: pd.to_datetime(x, format=\"%Y\"), \n",
    "    #index_col=\"date_time\",\n",
    "    low_memory=False    \n",
    "    )"
   ]
  },
  {
   "cell_type": "markdown",
   "metadata": {},
   "source": [
    "In der Folge ein paar erste Tests:"
   ]
  },
  {
   "cell_type": "code",
   "execution_count": 16,
   "metadata": {},
   "outputs": [
    {
     "data": {
      "text/plain": [
       "pandas.core.frame.DataFrame"
      ]
     },
     "execution_count": 16,
     "metadata": {},
     "output_type": "execute_result"
    }
   ],
   "source": [
    "type(data2betested)"
   ]
  },
  {
   "cell_type": "markdown",
   "metadata": {},
   "source": [
    " - 1) Zeige eine kurze Vorschau der importierten Daten\n",
    " - 2) Weise die Datentypen aus\n",
    " - 3) Zeige die Shape (Umfang) des Datensatzes an"
   ]
  },
  {
   "cell_type": "code",
   "execution_count": 17,
   "metadata": {},
   "outputs": [
    {
     "data": {
      "text/html": [
       "<div>\n",
       "<style scoped>\n",
       "    .dataframe tbody tr th:only-of-type {\n",
       "        vertical-align: middle;\n",
       "    }\n",
       "\n",
       "    .dataframe tbody tr th {\n",
       "        vertical-align: top;\n",
       "    }\n",
       "\n",
       "    .dataframe thead th {\n",
       "        text-align: right;\n",
       "    }\n",
       "</style>\n",
       "<table border=\"1\" class=\"dataframe\">\n",
       "  <thead>\n",
       "    <tr style=\"text-align: right;\">\n",
       "      <th></th>\n",
       "      <th>StichtagDatJahr</th>\n",
       "      <th>AlterV20Kurz</th>\n",
       "      <th>AlterV20Sort</th>\n",
       "      <th>SexCd</th>\n",
       "      <th>SexKurz</th>\n",
       "      <th>HerkunftCd</th>\n",
       "      <th>HerkunftLang</th>\n",
       "      <th>KreisCd</th>\n",
       "      <th>KreisLang</th>\n",
       "      <th>AufDauerP25</th>\n",
       "      <th>AufDauerMedian</th>\n",
       "      <th>AufDauerP75</th>\n",
       "      <th>AufDauerMittel</th>\n",
       "    </tr>\n",
       "  </thead>\n",
       "  <tbody>\n",
       "    <tr>\n",
       "      <th>0</th>\n",
       "      <td>2020</td>\n",
       "      <td>0-19</td>\n",
       "      <td>1</td>\n",
       "      <td>1</td>\n",
       "      <td>M</td>\n",
       "      <td>1</td>\n",
       "      <td>Schweizer/in</td>\n",
       "      <td>1</td>\n",
       "      <td>Kreis 1</td>\n",
       "      <td>4</td>\n",
       "      <td>9</td>\n",
       "      <td>13</td>\n",
       "      <td>9</td>\n",
       "    </tr>\n",
       "    <tr>\n",
       "      <th>1</th>\n",
       "      <td>2020</td>\n",
       "      <td>0-19</td>\n",
       "      <td>1</td>\n",
       "      <td>1</td>\n",
       "      <td>M</td>\n",
       "      <td>1</td>\n",
       "      <td>Schweizer/in</td>\n",
       "      <td>2</td>\n",
       "      <td>Kreis 2</td>\n",
       "      <td>4</td>\n",
       "      <td>8</td>\n",
       "      <td>13</td>\n",
       "      <td>8</td>\n",
       "    </tr>\n",
       "    <tr>\n",
       "      <th>2</th>\n",
       "      <td>2020</td>\n",
       "      <td>0-19</td>\n",
       "      <td>1</td>\n",
       "      <td>1</td>\n",
       "      <td>M</td>\n",
       "      <td>1</td>\n",
       "      <td>Schweizer/in</td>\n",
       "      <td>3</td>\n",
       "      <td>Kreis 3</td>\n",
       "      <td>4</td>\n",
       "      <td>9</td>\n",
       "      <td>13</td>\n",
       "      <td>9</td>\n",
       "    </tr>\n",
       "  </tbody>\n",
       "</table>\n",
       "</div>"
      ],
      "text/plain": [
       "   StichtagDatJahr AlterV20Kurz  AlterV20Sort  SexCd SexKurz  HerkunftCd  HerkunftLang  KreisCd  \\\n",
       "0             2020         0-19             1      1       M           1  Schweizer/in        1   \n",
       "1             2020         0-19             1      1       M           1  Schweizer/in        2   \n",
       "2             2020         0-19             1      1       M           1  Schweizer/in        3   \n",
       "\n",
       "  KreisLang  AufDauerP25  AufDauerMedian  AufDauerP75  AufDauerMittel  \n",
       "0   Kreis 1            4               9           13               9  \n",
       "1   Kreis 2            4               8           13               8  \n",
       "2   Kreis 3            4               9           13               9  "
      ]
     },
     "execution_count": 17,
     "metadata": {},
     "output_type": "execute_result"
    }
   ],
   "source": [
    "data2betested.head(3)"
   ]
  },
  {
   "cell_type": "code",
   "execution_count": 18,
   "metadata": {},
   "outputs": [
    {
     "data": {
      "text/plain": [
       "StichtagDatJahr      int64\n",
       "AlterV20Kurz        object\n",
       "AlterV20Sort         int64\n",
       "SexCd                int64\n",
       "SexKurz             object\n",
       "HerkunftCd           int64\n",
       "HerkunftLang        object\n",
       "KreisCd              int64\n",
       "KreisLang           object\n",
       "AufDauerP25        float64\n",
       "AufDauerMedian     float64\n",
       "AufDauerP75        float64\n",
       "AufDauerMittel     float64\n",
       "dtype: object"
      ]
     },
     "execution_count": 18,
     "metadata": {},
     "output_type": "execute_result"
    }
   ],
   "source": [
    "data2betested.dtypes"
   ]
  },
  {
   "cell_type": "code",
   "execution_count": 19,
   "metadata": {},
   "outputs": [
    {
     "data": {
      "text/plain": [
       "(265, 13)"
      ]
     },
     "execution_count": 19,
     "metadata": {},
     "output_type": "execute_result"
    }
   ],
   "source": [
    "data2betested.shape"
   ]
  },
  {
   "cell_type": "markdown",
   "metadata": {},
   "source": [
    "Beschreibe einzelne Attribute"
   ]
  },
  {
   "cell_type": "code",
   "execution_count": 20,
   "metadata": {},
   "outputs": [
    {
     "data": {
      "text/html": [
       "<div>\n",
       "<style scoped>\n",
       "    .dataframe tbody tr th:only-of-type {\n",
       "        vertical-align: middle;\n",
       "    }\n",
       "\n",
       "    .dataframe tbody tr th {\n",
       "        vertical-align: top;\n",
       "    }\n",
       "\n",
       "    .dataframe thead th {\n",
       "        text-align: right;\n",
       "    }\n",
       "</style>\n",
       "<table border=\"1\" class=\"dataframe\">\n",
       "  <thead>\n",
       "    <tr style=\"text-align: right;\">\n",
       "      <th></th>\n",
       "      <th>StichtagDatJahr</th>\n",
       "      <th>AlterV20Sort</th>\n",
       "      <th>SexCd</th>\n",
       "      <th>HerkunftCd</th>\n",
       "      <th>KreisCd</th>\n",
       "      <th>AufDauerP25</th>\n",
       "      <th>AufDauerMedian</th>\n",
       "      <th>AufDauerP75</th>\n",
       "      <th>AufDauerMittel</th>\n",
       "    </tr>\n",
       "  </thead>\n",
       "  <tbody>\n",
       "    <tr>\n",
       "      <th>count</th>\n",
       "      <td>265</td>\n",
       "      <td>265</td>\n",
       "      <td>265</td>\n",
       "      <td>265</td>\n",
       "      <td>265</td>\n",
       "      <td>265</td>\n",
       "      <td>265</td>\n",
       "      <td>265</td>\n",
       "      <td>265</td>\n",
       "    </tr>\n",
       "    <tr>\n",
       "      <th>mean</th>\n",
       "      <td>2020</td>\n",
       "      <td>3</td>\n",
       "      <td>2</td>\n",
       "      <td>1</td>\n",
       "      <td>7</td>\n",
       "      <td>16</td>\n",
       "      <td>26</td>\n",
       "      <td>34</td>\n",
       "      <td>26</td>\n",
       "    </tr>\n",
       "    <tr>\n",
       "      <th>std</th>\n",
       "      <td>0</td>\n",
       "      <td>2</td>\n",
       "      <td>1</td>\n",
       "      <td>1</td>\n",
       "      <td>3</td>\n",
       "      <td>17</td>\n",
       "      <td>22</td>\n",
       "      <td>24</td>\n",
       "      <td>20</td>\n",
       "    </tr>\n",
       "    <tr>\n",
       "      <th>min</th>\n",
       "      <td>2020</td>\n",
       "      <td>1</td>\n",
       "      <td>1</td>\n",
       "      <td>1</td>\n",
       "      <td>1</td>\n",
       "      <td>0</td>\n",
       "      <td>1</td>\n",
       "      <td>3</td>\n",
       "      <td>3</td>\n",
       "    </tr>\n",
       "    <tr>\n",
       "      <th>25%</th>\n",
       "      <td>2020</td>\n",
       "      <td>2</td>\n",
       "      <td>1</td>\n",
       "      <td>1</td>\n",
       "      <td>3</td>\n",
       "      <td>3</td>\n",
       "      <td>8</td>\n",
       "      <td>13</td>\n",
       "      <td>9</td>\n",
       "    </tr>\n",
       "    <tr>\n",
       "      <th>50%</th>\n",
       "      <td>2020</td>\n",
       "      <td>3</td>\n",
       "      <td>2</td>\n",
       "      <td>1</td>\n",
       "      <td>7</td>\n",
       "      <td>10</td>\n",
       "      <td>19</td>\n",
       "      <td>28</td>\n",
       "      <td>21</td>\n",
       "    </tr>\n",
       "    <tr>\n",
       "      <th>75%</th>\n",
       "      <td>2020</td>\n",
       "      <td>5</td>\n",
       "      <td>2</td>\n",
       "      <td>2</td>\n",
       "      <td>10</td>\n",
       "      <td>25</td>\n",
       "      <td>40</td>\n",
       "      <td>56</td>\n",
       "      <td>39</td>\n",
       "    </tr>\n",
       "    <tr>\n",
       "      <th>max</th>\n",
       "      <td>2020</td>\n",
       "      <td>6</td>\n",
       "      <td>2</td>\n",
       "      <td>2</td>\n",
       "      <td>12</td>\n",
       "      <td>101</td>\n",
       "      <td>101</td>\n",
       "      <td>104</td>\n",
       "      <td>101</td>\n",
       "    </tr>\n",
       "  </tbody>\n",
       "</table>\n",
       "</div>"
      ],
      "text/plain": [
       "       StichtagDatJahr  AlterV20Sort  SexCd  HerkunftCd  KreisCd  AufDauerP25  AufDauerMedian  \\\n",
       "count              265           265    265         265      265          265             265   \n",
       "mean              2020             3      2           1        7           16              26   \n",
       "std                  0             2      1           1        3           17              22   \n",
       "min               2020             1      1           1        1            0               1   \n",
       "25%               2020             2      1           1        3            3               8   \n",
       "50%               2020             3      2           1        7           10              19   \n",
       "75%               2020             5      2           2       10           25              40   \n",
       "max               2020             6      2           2       12          101             101   \n",
       "\n",
       "       AufDauerP75  AufDauerMittel  \n",
       "count          265             265  \n",
       "mean            34              26  \n",
       "std             24              20  \n",
       "min              3               3  \n",
       "25%             13               9  \n",
       "50%             28              21  \n",
       "75%             56              39  \n",
       "max            104             101  "
      ]
     },
     "execution_count": 20,
     "metadata": {},
     "output_type": "execute_result"
    }
   ],
   "source": [
    "data2betested.describe()"
   ]
  },
  {
   "cell_type": "markdown",
   "metadata": {},
   "source": [
    "Wie viele Nullwerte gibt es im Datensatz?"
   ]
  },
  {
   "cell_type": "code",
   "execution_count": 21,
   "metadata": {
    "scrolled": true
   },
   "outputs": [
    {
     "data": {
      "text/plain": [
       "StichtagDatJahr    0\n",
       "AlterV20Kurz       0\n",
       "AlterV20Sort       0\n",
       "SexCd              0\n",
       "SexKurz            0\n",
       "HerkunftCd         0\n",
       "HerkunftLang       0\n",
       "KreisCd            0\n",
       "KreisLang          0\n",
       "AufDauerP25        0\n",
       "AufDauerMedian     0\n",
       "AufDauerP75        0\n",
       "AufDauerMittel     0\n",
       "dtype: int64"
      ]
     },
     "execution_count": 21,
     "metadata": {},
     "output_type": "execute_result"
    }
   ],
   "source": [
    "data2betested.isnull().sum()"
   ]
  },
  {
   "cell_type": "markdown",
   "metadata": {},
   "source": [
    "Wandle die Spalte Jahr von Int zu **Datetime** um. Dies wird in den meisten Grafiken so benötigt."
   ]
  },
  {
   "cell_type": "code",
   "execution_count": 22,
   "metadata": {
    "scrolled": true
   },
   "outputs": [
    {
     "data": {
      "text/html": [
       "<div>\n",
       "<style scoped>\n",
       "    .dataframe tbody tr th:only-of-type {\n",
       "        vertical-align: middle;\n",
       "    }\n",
       "\n",
       "    .dataframe tbody tr th {\n",
       "        vertical-align: top;\n",
       "    }\n",
       "\n",
       "    .dataframe thead th {\n",
       "        text-align: right;\n",
       "    }\n",
       "</style>\n",
       "<table border=\"1\" class=\"dataframe\">\n",
       "  <thead>\n",
       "    <tr style=\"text-align: right;\">\n",
       "      <th></th>\n",
       "      <th>StichtagDatJahr</th>\n",
       "      <th>AlterV20Kurz</th>\n",
       "      <th>AlterV20Sort</th>\n",
       "      <th>SexCd</th>\n",
       "      <th>SexKurz</th>\n",
       "      <th>HerkunftCd</th>\n",
       "      <th>HerkunftLang</th>\n",
       "      <th>KreisCd</th>\n",
       "      <th>KreisLang</th>\n",
       "      <th>AufDauerP25</th>\n",
       "      <th>AufDauerMedian</th>\n",
       "      <th>AufDauerP75</th>\n",
       "      <th>AufDauerMittel</th>\n",
       "    </tr>\n",
       "  </thead>\n",
       "  <tbody>\n",
       "    <tr>\n",
       "      <th>0</th>\n",
       "      <td>2020-01-01</td>\n",
       "      <td>0-19</td>\n",
       "      <td>1</td>\n",
       "      <td>1</td>\n",
       "      <td>M</td>\n",
       "      <td>1</td>\n",
       "      <td>Schweizer/in</td>\n",
       "      <td>1</td>\n",
       "      <td>Kreis 1</td>\n",
       "      <td>4</td>\n",
       "      <td>9</td>\n",
       "      <td>13</td>\n",
       "      <td>9</td>\n",
       "    </tr>\n",
       "    <tr>\n",
       "      <th>1</th>\n",
       "      <td>2020-01-01</td>\n",
       "      <td>0-19</td>\n",
       "      <td>1</td>\n",
       "      <td>1</td>\n",
       "      <td>M</td>\n",
       "      <td>1</td>\n",
       "      <td>Schweizer/in</td>\n",
       "      <td>2</td>\n",
       "      <td>Kreis 2</td>\n",
       "      <td>4</td>\n",
       "      <td>8</td>\n",
       "      <td>13</td>\n",
       "      <td>8</td>\n",
       "    </tr>\n",
       "    <tr>\n",
       "      <th>2</th>\n",
       "      <td>2020-01-01</td>\n",
       "      <td>0-19</td>\n",
       "      <td>1</td>\n",
       "      <td>1</td>\n",
       "      <td>M</td>\n",
       "      <td>1</td>\n",
       "      <td>Schweizer/in</td>\n",
       "      <td>3</td>\n",
       "      <td>Kreis 3</td>\n",
       "      <td>4</td>\n",
       "      <td>9</td>\n",
       "      <td>13</td>\n",
       "      <td>9</td>\n",
       "    </tr>\n",
       "    <tr>\n",
       "      <th>3</th>\n",
       "      <td>2020-01-01</td>\n",
       "      <td>0-19</td>\n",
       "      <td>1</td>\n",
       "      <td>1</td>\n",
       "      <td>M</td>\n",
       "      <td>1</td>\n",
       "      <td>Schweizer/in</td>\n",
       "      <td>4</td>\n",
       "      <td>Kreis 4</td>\n",
       "      <td>3</td>\n",
       "      <td>7</td>\n",
       "      <td>13</td>\n",
       "      <td>8</td>\n",
       "    </tr>\n",
       "    <tr>\n",
       "      <th>4</th>\n",
       "      <td>2020-01-01</td>\n",
       "      <td>0-19</td>\n",
       "      <td>1</td>\n",
       "      <td>1</td>\n",
       "      <td>M</td>\n",
       "      <td>1</td>\n",
       "      <td>Schweizer/in</td>\n",
       "      <td>5</td>\n",
       "      <td>Kreis 5</td>\n",
       "      <td>3</td>\n",
       "      <td>7</td>\n",
       "      <td>13</td>\n",
       "      <td>8</td>\n",
       "    </tr>\n",
       "    <tr>\n",
       "      <th>...</th>\n",
       "      <td>...</td>\n",
       "      <td>...</td>\n",
       "      <td>...</td>\n",
       "      <td>...</td>\n",
       "      <td>...</td>\n",
       "      <td>...</td>\n",
       "      <td>...</td>\n",
       "      <td>...</td>\n",
       "      <td>...</td>\n",
       "      <td>...</td>\n",
       "      <td>...</td>\n",
       "      <td>...</td>\n",
       "      <td>...</td>\n",
       "    </tr>\n",
       "    <tr>\n",
       "      <th>260</th>\n",
       "      <td>2020-01-01</td>\n",
       "      <td>100 u. älter</td>\n",
       "      <td>6</td>\n",
       "      <td>2</td>\n",
       "      <td>W</td>\n",
       "      <td>2</td>\n",
       "      <td>Ausländer/in</td>\n",
       "      <td>3</td>\n",
       "      <td>Kreis 3</td>\n",
       "      <td>9</td>\n",
       "      <td>39</td>\n",
       "      <td>68</td>\n",
       "      <td>39</td>\n",
       "    </tr>\n",
       "    <tr>\n",
       "      <th>261</th>\n",
       "      <td>2020-01-01</td>\n",
       "      <td>100 u. älter</td>\n",
       "      <td>6</td>\n",
       "      <td>2</td>\n",
       "      <td>W</td>\n",
       "      <td>2</td>\n",
       "      <td>Ausländer/in</td>\n",
       "      <td>4</td>\n",
       "      <td>Kreis 4</td>\n",
       "      <td>40</td>\n",
       "      <td>40</td>\n",
       "      <td>40</td>\n",
       "      <td>40</td>\n",
       "    </tr>\n",
       "    <tr>\n",
       "      <th>262</th>\n",
       "      <td>2020-01-01</td>\n",
       "      <td>100 u. älter</td>\n",
       "      <td>6</td>\n",
       "      <td>2</td>\n",
       "      <td>W</td>\n",
       "      <td>2</td>\n",
       "      <td>Ausländer/in</td>\n",
       "      <td>6</td>\n",
       "      <td>Kreis 6</td>\n",
       "      <td>39</td>\n",
       "      <td>39</td>\n",
       "      <td>39</td>\n",
       "      <td>39</td>\n",
       "    </tr>\n",
       "    <tr>\n",
       "      <th>263</th>\n",
       "      <td>2020-01-01</td>\n",
       "      <td>100 u. älter</td>\n",
       "      <td>6</td>\n",
       "      <td>2</td>\n",
       "      <td>W</td>\n",
       "      <td>2</td>\n",
       "      <td>Ausländer/in</td>\n",
       "      <td>8</td>\n",
       "      <td>Kreis 8</td>\n",
       "      <td>20</td>\n",
       "      <td>20</td>\n",
       "      <td>20</td>\n",
       "      <td>20</td>\n",
       "    </tr>\n",
       "    <tr>\n",
       "      <th>264</th>\n",
       "      <td>2020-01-01</td>\n",
       "      <td>100 u. älter</td>\n",
       "      <td>6</td>\n",
       "      <td>2</td>\n",
       "      <td>W</td>\n",
       "      <td>2</td>\n",
       "      <td>Ausländer/in</td>\n",
       "      <td>10</td>\n",
       "      <td>Kreis 10</td>\n",
       "      <td>33</td>\n",
       "      <td>33</td>\n",
       "      <td>33</td>\n",
       "      <td>33</td>\n",
       "    </tr>\n",
       "  </tbody>\n",
       "</table>\n",
       "<p>265 rows × 13 columns</p>\n",
       "</div>"
      ],
      "text/plain": [
       "    StichtagDatJahr  AlterV20Kurz  AlterV20Sort  SexCd SexKurz  HerkunftCd  HerkunftLang  KreisCd  \\\n",
       "0        2020-01-01          0-19             1      1       M           1  Schweizer/in        1   \n",
       "1        2020-01-01          0-19             1      1       M           1  Schweizer/in        2   \n",
       "2        2020-01-01          0-19             1      1       M           1  Schweizer/in        3   \n",
       "3        2020-01-01          0-19             1      1       M           1  Schweizer/in        4   \n",
       "4        2020-01-01          0-19             1      1       M           1  Schweizer/in        5   \n",
       "..              ...           ...           ...    ...     ...         ...           ...      ...   \n",
       "260      2020-01-01  100 u. älter             6      2       W           2  Ausländer/in        3   \n",
       "261      2020-01-01  100 u. älter             6      2       W           2  Ausländer/in        4   \n",
       "262      2020-01-01  100 u. älter             6      2       W           2  Ausländer/in        6   \n",
       "263      2020-01-01  100 u. älter             6      2       W           2  Ausländer/in        8   \n",
       "264      2020-01-01  100 u. älter             6      2       W           2  Ausländer/in       10   \n",
       "\n",
       "    KreisLang  AufDauerP25  AufDauerMedian  AufDauerP75  AufDauerMittel  \n",
       "0     Kreis 1            4               9           13               9  \n",
       "1     Kreis 2            4               8           13               8  \n",
       "2     Kreis 3            4               9           13               9  \n",
       "3     Kreis 4            3               7           13               8  \n",
       "4     Kreis 5            3               7           13               8  \n",
       "..        ...          ...             ...          ...             ...  \n",
       "260   Kreis 3            9              39           68              39  \n",
       "261   Kreis 4           40              40           40              40  \n",
       "262   Kreis 6           39              39           39              39  \n",
       "263   Kreis 8           20              20           20              20  \n",
       "264  Kreis 10           33              33           33              33  \n",
       "\n",
       "[265 rows x 13 columns]"
      ]
     },
     "execution_count": 22,
     "metadata": {},
     "output_type": "execute_result"
    }
   ],
   "source": [
    "data2betested['StichtagDatJahr']=pd.to_datetime(data2betested['StichtagDatJahr'], format='%Y')\n",
    "\n",
    "#TO DO --> setze das Datum auf den 31.12. der Jahres.\n",
    "#test=data2betested[['StichtagDatJahr']].date().replace(month=12, day=31)\n",
    "\n",
    "data2betested"
   ]
  },
  {
   "cell_type": "markdown",
   "metadata": {},
   "source": [
    "Bereite die Daten für die Grafik unten vor"
   ]
  },
  {
   "cell_type": "code",
   "execution_count": 23,
   "metadata": {},
   "outputs": [
    {
     "data": {
      "text/plain": [
       "1"
      ]
     },
     "execution_count": 23,
     "metadata": {},
     "output_type": "execute_result"
    }
   ],
   "source": [
    "Jahre = data2betested.groupby(\"StichtagDatJahr\")\n",
    "len(Jahre)"
   ]
  },
  {
   "cell_type": "code",
   "execution_count": 24,
   "metadata": {},
   "outputs": [
    {
     "name": "stdout",
     "output_type": "stream",
     "text": [
      "2020-01-01 00:00:00 265\n"
     ]
    }
   ],
   "source": [
    "for key, group in Jahre:\n",
    "    print(key, len(group))"
   ]
  },
  {
   "cell_type": "code",
   "execution_count": 25,
   "metadata": {},
   "outputs": [
    {
     "data": {
      "text/html": [
       "<div>\n",
       "<style scoped>\n",
       "    .dataframe tbody tr th:only-of-type {\n",
       "        vertical-align: middle;\n",
       "    }\n",
       "\n",
       "    .dataframe tbody tr th {\n",
       "        vertical-align: top;\n",
       "    }\n",
       "\n",
       "    .dataframe thead th {\n",
       "        text-align: right;\n",
       "    }\n",
       "</style>\n",
       "<table border=\"1\" class=\"dataframe\">\n",
       "  <thead>\n",
       "    <tr style=\"text-align: right;\">\n",
       "      <th></th>\n",
       "      <th>StichtagDatJahr</th>\n",
       "      <th>AlterV20Kurz</th>\n",
       "      <th>AlterV20Sort</th>\n",
       "      <th>SexCd</th>\n",
       "      <th>SexKurz</th>\n",
       "      <th>HerkunftCd</th>\n",
       "      <th>HerkunftLang</th>\n",
       "      <th>KreisCd</th>\n",
       "      <th>KreisLang</th>\n",
       "      <th>AufDauerP25</th>\n",
       "      <th>AufDauerMedian</th>\n",
       "      <th>AufDauerP75</th>\n",
       "      <th>AufDauerMittel</th>\n",
       "    </tr>\n",
       "  </thead>\n",
       "  <tbody>\n",
       "    <tr>\n",
       "      <th>0</th>\n",
       "      <td>2020-01-01</td>\n",
       "      <td>0-19</td>\n",
       "      <td>1</td>\n",
       "      <td>1</td>\n",
       "      <td>M</td>\n",
       "      <td>1</td>\n",
       "      <td>Schweizer/in</td>\n",
       "      <td>1</td>\n",
       "      <td>Kreis 1</td>\n",
       "      <td>4</td>\n",
       "      <td>9</td>\n",
       "      <td>13</td>\n",
       "      <td>9</td>\n",
       "    </tr>\n",
       "    <tr>\n",
       "      <th>1</th>\n",
       "      <td>2020-01-01</td>\n",
       "      <td>0-19</td>\n",
       "      <td>1</td>\n",
       "      <td>1</td>\n",
       "      <td>M</td>\n",
       "      <td>1</td>\n",
       "      <td>Schweizer/in</td>\n",
       "      <td>2</td>\n",
       "      <td>Kreis 2</td>\n",
       "      <td>4</td>\n",
       "      <td>8</td>\n",
       "      <td>13</td>\n",
       "      <td>8</td>\n",
       "    </tr>\n",
       "    <tr>\n",
       "      <th>2</th>\n",
       "      <td>2020-01-01</td>\n",
       "      <td>0-19</td>\n",
       "      <td>1</td>\n",
       "      <td>1</td>\n",
       "      <td>M</td>\n",
       "      <td>1</td>\n",
       "      <td>Schweizer/in</td>\n",
       "      <td>3</td>\n",
       "      <td>Kreis 3</td>\n",
       "      <td>4</td>\n",
       "      <td>9</td>\n",
       "      <td>13</td>\n",
       "      <td>9</td>\n",
       "    </tr>\n",
       "    <tr>\n",
       "      <th>3</th>\n",
       "      <td>2020-01-01</td>\n",
       "      <td>0-19</td>\n",
       "      <td>1</td>\n",
       "      <td>1</td>\n",
       "      <td>M</td>\n",
       "      <td>1</td>\n",
       "      <td>Schweizer/in</td>\n",
       "      <td>4</td>\n",
       "      <td>Kreis 4</td>\n",
       "      <td>3</td>\n",
       "      <td>7</td>\n",
       "      <td>13</td>\n",
       "      <td>8</td>\n",
       "    </tr>\n",
       "    <tr>\n",
       "      <th>4</th>\n",
       "      <td>2020-01-01</td>\n",
       "      <td>0-19</td>\n",
       "      <td>1</td>\n",
       "      <td>1</td>\n",
       "      <td>M</td>\n",
       "      <td>1</td>\n",
       "      <td>Schweizer/in</td>\n",
       "      <td>5</td>\n",
       "      <td>Kreis 5</td>\n",
       "      <td>3</td>\n",
       "      <td>7</td>\n",
       "      <td>13</td>\n",
       "      <td>8</td>\n",
       "    </tr>\n",
       "    <tr>\n",
       "      <th>...</th>\n",
       "      <td>...</td>\n",
       "      <td>...</td>\n",
       "      <td>...</td>\n",
       "      <td>...</td>\n",
       "      <td>...</td>\n",
       "      <td>...</td>\n",
       "      <td>...</td>\n",
       "      <td>...</td>\n",
       "      <td>...</td>\n",
       "      <td>...</td>\n",
       "      <td>...</td>\n",
       "      <td>...</td>\n",
       "      <td>...</td>\n",
       "    </tr>\n",
       "    <tr>\n",
       "      <th>260</th>\n",
       "      <td>2020-01-01</td>\n",
       "      <td>100 u. älter</td>\n",
       "      <td>6</td>\n",
       "      <td>2</td>\n",
       "      <td>W</td>\n",
       "      <td>2</td>\n",
       "      <td>Ausländer/in</td>\n",
       "      <td>3</td>\n",
       "      <td>Kreis 3</td>\n",
       "      <td>9</td>\n",
       "      <td>39</td>\n",
       "      <td>68</td>\n",
       "      <td>39</td>\n",
       "    </tr>\n",
       "    <tr>\n",
       "      <th>261</th>\n",
       "      <td>2020-01-01</td>\n",
       "      <td>100 u. älter</td>\n",
       "      <td>6</td>\n",
       "      <td>2</td>\n",
       "      <td>W</td>\n",
       "      <td>2</td>\n",
       "      <td>Ausländer/in</td>\n",
       "      <td>4</td>\n",
       "      <td>Kreis 4</td>\n",
       "      <td>40</td>\n",
       "      <td>40</td>\n",
       "      <td>40</td>\n",
       "      <td>40</td>\n",
       "    </tr>\n",
       "    <tr>\n",
       "      <th>262</th>\n",
       "      <td>2020-01-01</td>\n",
       "      <td>100 u. älter</td>\n",
       "      <td>6</td>\n",
       "      <td>2</td>\n",
       "      <td>W</td>\n",
       "      <td>2</td>\n",
       "      <td>Ausländer/in</td>\n",
       "      <td>6</td>\n",
       "      <td>Kreis 6</td>\n",
       "      <td>39</td>\n",
       "      <td>39</td>\n",
       "      <td>39</td>\n",
       "      <td>39</td>\n",
       "    </tr>\n",
       "    <tr>\n",
       "      <th>263</th>\n",
       "      <td>2020-01-01</td>\n",
       "      <td>100 u. älter</td>\n",
       "      <td>6</td>\n",
       "      <td>2</td>\n",
       "      <td>W</td>\n",
       "      <td>2</td>\n",
       "      <td>Ausländer/in</td>\n",
       "      <td>8</td>\n",
       "      <td>Kreis 8</td>\n",
       "      <td>20</td>\n",
       "      <td>20</td>\n",
       "      <td>20</td>\n",
       "      <td>20</td>\n",
       "    </tr>\n",
       "    <tr>\n",
       "      <th>264</th>\n",
       "      <td>2020-01-01</td>\n",
       "      <td>100 u. älter</td>\n",
       "      <td>6</td>\n",
       "      <td>2</td>\n",
       "      <td>W</td>\n",
       "      <td>2</td>\n",
       "      <td>Ausländer/in</td>\n",
       "      <td>10</td>\n",
       "      <td>Kreis 10</td>\n",
       "      <td>33</td>\n",
       "      <td>33</td>\n",
       "      <td>33</td>\n",
       "      <td>33</td>\n",
       "    </tr>\n",
       "  </tbody>\n",
       "</table>\n",
       "<p>265 rows × 13 columns</p>\n",
       "</div>"
      ],
      "text/plain": [
       "    StichtagDatJahr  AlterV20Kurz  AlterV20Sort  SexCd SexKurz  HerkunftCd  HerkunftLang  KreisCd  \\\n",
       "0        2020-01-01          0-19             1      1       M           1  Schweizer/in        1   \n",
       "1        2020-01-01          0-19             1      1       M           1  Schweizer/in        2   \n",
       "2        2020-01-01          0-19             1      1       M           1  Schweizer/in        3   \n",
       "3        2020-01-01          0-19             1      1       M           1  Schweizer/in        4   \n",
       "4        2020-01-01          0-19             1      1       M           1  Schweizer/in        5   \n",
       "..              ...           ...           ...    ...     ...         ...           ...      ...   \n",
       "260      2020-01-01  100 u. älter             6      2       W           2  Ausländer/in        3   \n",
       "261      2020-01-01  100 u. älter             6      2       W           2  Ausländer/in        4   \n",
       "262      2020-01-01  100 u. älter             6      2       W           2  Ausländer/in        6   \n",
       "263      2020-01-01  100 u. älter             6      2       W           2  Ausländer/in        8   \n",
       "264      2020-01-01  100 u. älter             6      2       W           2  Ausländer/in       10   \n",
       "\n",
       "    KreisLang  AufDauerP25  AufDauerMedian  AufDauerP75  AufDauerMittel  \n",
       "0     Kreis 1            4               9           13               9  \n",
       "1     Kreis 2            4               8           13               8  \n",
       "2     Kreis 3            4               9           13               9  \n",
       "3     Kreis 4            3               7           13               8  \n",
       "4     Kreis 5            3               7           13               8  \n",
       "..        ...          ...             ...          ...             ...  \n",
       "260   Kreis 3            9              39           68              39  \n",
       "261   Kreis 4           40              40           40              40  \n",
       "262   Kreis 6           39              39           39              39  \n",
       "263   Kreis 8           20              20           20              20  \n",
       "264  Kreis 10           33              33           33              33  \n",
       "\n",
       "[265 rows x 13 columns]"
      ]
     },
     "execution_count": 25,
     "metadata": {},
     "output_type": "execute_result"
    }
   ],
   "source": [
    "myJahr = \"2020-01-01\"\n",
    "aktuellesJahr=Jahre.get_group(myJahr)   \n",
    "aktuellesJahr"
   ]
  },
  {
   "cell_type": "markdown",
   "metadata": {},
   "source": [
    "**Selektionen und Aggregationen**\n",
    "\n",
    "Check this [Doku](https://www.shanelynn.ie/summarising-aggregation-and-grouping-data-in-python-pandas/)"
   ]
  },
  {
   "cell_type": "code",
   "execution_count": 26,
   "metadata": {},
   "outputs": [
    {
     "data": {
      "text/html": [
       "<div>\n",
       "<style scoped>\n",
       "    .dataframe tbody tr th:only-of-type {\n",
       "        vertical-align: middle;\n",
       "    }\n",
       "\n",
       "    .dataframe tbody tr th {\n",
       "        vertical-align: top;\n",
       "    }\n",
       "\n",
       "    .dataframe thead th {\n",
       "        text-align: right;\n",
       "    }\n",
       "</style>\n",
       "<table border=\"1\" class=\"dataframe\">\n",
       "  <thead>\n",
       "    <tr style=\"text-align: right;\">\n",
       "      <th></th>\n",
       "      <th></th>\n",
       "      <th></th>\n",
       "      <th>AufDauerMittel</th>\n",
       "      <th>AufDauerP25</th>\n",
       "      <th>AufDauerP75</th>\n",
       "    </tr>\n",
       "    <tr>\n",
       "      <th>StichtagDatJahr</th>\n",
       "      <th>AlterV20Sort</th>\n",
       "      <th>AlterV20Kurz</th>\n",
       "      <th></th>\n",
       "      <th></th>\n",
       "      <th></th>\n",
       "    </tr>\n",
       "  </thead>\n",
       "  <tbody>\n",
       "    <tr>\n",
       "      <th rowspan=\"6\" valign=\"top\">2020-01-01</th>\n",
       "      <th>1</th>\n",
       "      <th>0-19</th>\n",
       "      <td>328</td>\n",
       "      <td>48</td>\n",
       "      <td>48</td>\n",
       "    </tr>\n",
       "    <tr>\n",
       "      <th>2</th>\n",
       "      <th>20-39</th>\n",
       "      <td>420</td>\n",
       "      <td>48</td>\n",
       "      <td>48</td>\n",
       "    </tr>\n",
       "    <tr>\n",
       "      <th>3</th>\n",
       "      <th>40-59</th>\n",
       "      <td>792</td>\n",
       "      <td>48</td>\n",
       "      <td>48</td>\n",
       "    </tr>\n",
       "    <tr>\n",
       "      <th>4</th>\n",
       "      <th>60-79</th>\n",
       "      <td>1490</td>\n",
       "      <td>48</td>\n",
       "      <td>48</td>\n",
       "    </tr>\n",
       "    <tr>\n",
       "      <th>5</th>\n",
       "      <th>80-99</th>\n",
       "      <td>2316</td>\n",
       "      <td>48</td>\n",
       "      <td>48</td>\n",
       "    </tr>\n",
       "    <tr>\n",
       "      <th>6</th>\n",
       "      <th>100 u. älter</th>\n",
       "      <td>1452</td>\n",
       "      <td>25</td>\n",
       "      <td>25</td>\n",
       "    </tr>\n",
       "  </tbody>\n",
       "</table>\n",
       "</div>"
      ],
      "text/plain": [
       "                                           AufDauerMittel  AufDauerP25  AufDauerP75\n",
       "StichtagDatJahr AlterV20Sort AlterV20Kurz                                          \n",
       "2020-01-01      1            0-19                     328           48           48\n",
       "                2            20-39                    420           48           48\n",
       "                3            40-59                    792           48           48\n",
       "                4            60-79                   1490           48           48\n",
       "                5            80-99                   2316           48           48\n",
       "                6            100 u. älter            1452           25           25"
      ]
     },
     "execution_count": 26,
     "metadata": {},
     "output_type": "execute_result"
    }
   ],
   "source": [
    "#test = data2betested.groupby(['StichtagDatJahr', 'AlterV20Kurz'])[['AnzBestWir']].agg()\n",
    "\n",
    "# produces Pandas Series\n",
    "    #data2betested.groupby(['StichtagDatJahr', 'KonOGDSort'])['AnzBestWir'].sum()\n",
    "# Produces Pandas DataFrame\n",
    "    #data2betested.groupby(['StichtagDatJahr', 'KonOGDSort'])[['AnzBestWir']].sum()\n",
    "    \n",
    "test = data2betested.groupby(\n",
    "   ['StichtagDatJahr', 'AlterV20Sort', 'AlterV20Kurz']\n",
    ").agg(\n",
    "    {\n",
    "         'AufDauerMittel':(sum),    # Sum duration per group\n",
    "         'AufDauerP25': \"count\",  # get the count of networks\n",
    "         'AufDauerP75': 'count'  # get the first date per group\n",
    "    }\n",
    ")\n",
    "test\n",
    "    "
   ]
  },
  {
   "cell_type": "markdown",
   "metadata": {},
   "source": [
    "**Einfache Visualisierungen zur Plausi**"
   ]
  },
  {
   "cell_type": "markdown",
   "metadata": {},
   "source": [
    "Exploriere die Daten mit Pivottable.JS"
   ]
  },
  {
   "cell_type": "code",
   "execution_count": 27,
   "metadata": {},
   "outputs": [
    {
     "data": {
      "text/html": [
       "\n",
       "        <iframe\n",
       "            width=\"100%\"\n",
       "            height=\"500\"\n",
       "            src=\"pivottablejs.html\"\n",
       "            frameborder=\"0\"\n",
       "            allowfullscreen\n",
       "        ></iframe>\n",
       "        "
      ],
      "text/plain": [
       "<IPython.lib.display.IFrame at 0x1b066121520>"
      ]
     },
     "execution_count": 27,
     "metadata": {},
     "output_type": "execute_result"
    }
   ],
   "source": [
    "from pivottablejs import pivot_ui\n",
    "\n",
    "pivot_ui(data2betested)"
   ]
  },
  {
   "cell_type": "markdown",
   "metadata": {},
   "source": [
    "Liniendiagramm \n",
    "[Link zur Doku](https://altair-viz.github.io/gallery/multiline_highlight.html)"
   ]
  },
  {
   "cell_type": "code",
   "execution_count": 31,
   "metadata": {},
   "outputs": [
    {
     "data": {
      "text/html": [
       "<div>\n",
       "<style scoped>\n",
       "    .dataframe tbody tr th:only-of-type {\n",
       "        vertical-align: middle;\n",
       "    }\n",
       "\n",
       "    .dataframe tbody tr th {\n",
       "        vertical-align: top;\n",
       "    }\n",
       "\n",
       "    .dataframe thead th {\n",
       "        text-align: right;\n",
       "    }\n",
       "</style>\n",
       "<table border=\"1\" class=\"dataframe\">\n",
       "  <thead>\n",
       "    <tr style=\"text-align: right;\">\n",
       "      <th></th>\n",
       "      <th>StichtagDatJahr</th>\n",
       "      <th>AlterV20Kurz</th>\n",
       "      <th>AlterV20Sort</th>\n",
       "      <th>SexCd</th>\n",
       "      <th>SexKurz</th>\n",
       "      <th>HerkunftCd</th>\n",
       "      <th>HerkunftLang</th>\n",
       "      <th>KreisCd</th>\n",
       "      <th>KreisLang</th>\n",
       "      <th>AufDauerP25</th>\n",
       "      <th>AufDauerMedian</th>\n",
       "      <th>AufDauerP75</th>\n",
       "      <th>AufDauerMittel</th>\n",
       "    </tr>\n",
       "  </thead>\n",
       "  <tbody>\n",
       "    <tr>\n",
       "      <th>2</th>\n",
       "      <td>2020-01-01</td>\n",
       "      <td>0-19</td>\n",
       "      <td>1</td>\n",
       "      <td>1</td>\n",
       "      <td>M</td>\n",
       "      <td>1</td>\n",
       "      <td>Schweizer/in</td>\n",
       "      <td>3</td>\n",
       "      <td>Kreis 3</td>\n",
       "      <td>4</td>\n",
       "      <td>9</td>\n",
       "      <td>13</td>\n",
       "      <td>9</td>\n",
       "    </tr>\n",
       "    <tr>\n",
       "      <th>3</th>\n",
       "      <td>2020-01-01</td>\n",
       "      <td>0-19</td>\n",
       "      <td>1</td>\n",
       "      <td>1</td>\n",
       "      <td>M</td>\n",
       "      <td>1</td>\n",
       "      <td>Schweizer/in</td>\n",
       "      <td>4</td>\n",
       "      <td>Kreis 4</td>\n",
       "      <td>3</td>\n",
       "      <td>7</td>\n",
       "      <td>13</td>\n",
       "      <td>8</td>\n",
       "    </tr>\n",
       "    <tr>\n",
       "      <th>4</th>\n",
       "      <td>2020-01-01</td>\n",
       "      <td>0-19</td>\n",
       "      <td>1</td>\n",
       "      <td>1</td>\n",
       "      <td>M</td>\n",
       "      <td>1</td>\n",
       "      <td>Schweizer/in</td>\n",
       "      <td>5</td>\n",
       "      <td>Kreis 5</td>\n",
       "      <td>3</td>\n",
       "      <td>7</td>\n",
       "      <td>13</td>\n",
       "      <td>8</td>\n",
       "    </tr>\n",
       "    <tr>\n",
       "      <th>5</th>\n",
       "      <td>2020-01-01</td>\n",
       "      <td>0-19</td>\n",
       "      <td>1</td>\n",
       "      <td>1</td>\n",
       "      <td>M</td>\n",
       "      <td>1</td>\n",
       "      <td>Schweizer/in</td>\n",
       "      <td>6</td>\n",
       "      <td>Kreis 6</td>\n",
       "      <td>4</td>\n",
       "      <td>8</td>\n",
       "      <td>13</td>\n",
       "      <td>9</td>\n",
       "    </tr>\n",
       "    <tr>\n",
       "      <th>6</th>\n",
       "      <td>2020-01-01</td>\n",
       "      <td>0-19</td>\n",
       "      <td>1</td>\n",
       "      <td>1</td>\n",
       "      <td>M</td>\n",
       "      <td>1</td>\n",
       "      <td>Schweizer/in</td>\n",
       "      <td>7</td>\n",
       "      <td>Kreis 7</td>\n",
       "      <td>4</td>\n",
       "      <td>8</td>\n",
       "      <td>13</td>\n",
       "      <td>9</td>\n",
       "    </tr>\n",
       "  </tbody>\n",
       "</table>\n",
       "</div>"
      ],
      "text/plain": [
       "  StichtagDatJahr AlterV20Kurz  AlterV20Sort  SexCd SexKurz  HerkunftCd  HerkunftLang  KreisCd  \\\n",
       "2      2020-01-01         0-19             1      1       M           1  Schweizer/in        3   \n",
       "3      2020-01-01         0-19             1      1       M           1  Schweizer/in        4   \n",
       "4      2020-01-01         0-19             1      1       M           1  Schweizer/in        5   \n",
       "5      2020-01-01         0-19             1      1       M           1  Schweizer/in        6   \n",
       "6      2020-01-01         0-19             1      1       M           1  Schweizer/in        7   \n",
       "\n",
       "  KreisLang  AufDauerP25  AufDauerMedian  AufDauerP75  AufDauerMittel  \n",
       "2   Kreis 3            4               9           13               9  \n",
       "3   Kreis 4            3               7           13               8  \n",
       "4   Kreis 5            3               7           13               8  \n",
       "5   Kreis 6            4               8           13               9  \n",
       "6   Kreis 7            4               8           13               9  "
      ]
     },
     "execution_count": 31,
     "metadata": {},
     "output_type": "execute_result"
    }
   ],
   "source": [
    "mySelection = data2betested[(aktuellesJahr.KreisCd>2) & (aktuellesJahr.SexCd==1)]\n",
    "mySelection.head()\n"
   ]
  },
  {
   "cell_type": "code",
   "execution_count": 32,
   "metadata": {},
   "outputs": [],
   "source": [
    "#mySelection = aktuellesJahr[[\"StatZoneSort\",\"AnzBestWir\"]]\n",
    "#mySelection"
   ]
  },
  {
   "cell_type": "code",
   "execution_count": 33,
   "metadata": {},
   "outputs": [
    {
     "data": {
      "text/html": [
       "\n",
       "<div id=\"altair-viz-704bc9677c1d49949c9cfc02b2d30f2f\"></div>\n",
       "<script type=\"text/javascript\">\n",
       "  (function(spec, embedOpt){\n",
       "    let outputDiv = document.currentScript.previousElementSibling;\n",
       "    if (outputDiv.id !== \"altair-viz-704bc9677c1d49949c9cfc02b2d30f2f\") {\n",
       "      outputDiv = document.getElementById(\"altair-viz-704bc9677c1d49949c9cfc02b2d30f2f\");\n",
       "    }\n",
       "    const paths = {\n",
       "      \"vega\": \"https://cdn.jsdelivr.net/npm//vega@5?noext\",\n",
       "      \"vega-lib\": \"https://cdn.jsdelivr.net/npm//vega-lib?noext\",\n",
       "      \"vega-lite\": \"https://cdn.jsdelivr.net/npm//vega-lite@4.8.1?noext\",\n",
       "      \"vega-embed\": \"https://cdn.jsdelivr.net/npm//vega-embed@6?noext\",\n",
       "    };\n",
       "\n",
       "    function loadScript(lib) {\n",
       "      return new Promise(function(resolve, reject) {\n",
       "        var s = document.createElement('script');\n",
       "        s.src = paths[lib];\n",
       "        s.async = true;\n",
       "        s.onload = () => resolve(paths[lib]);\n",
       "        s.onerror = () => reject(`Error loading script: ${paths[lib]}`);\n",
       "        document.getElementsByTagName(\"head\")[0].appendChild(s);\n",
       "      });\n",
       "    }\n",
       "\n",
       "    function showError(err) {\n",
       "      outputDiv.innerHTML = `<div class=\"error\" style=\"color:red;\">${err}</div>`;\n",
       "      throw err;\n",
       "    }\n",
       "\n",
       "    function displayChart(vegaEmbed) {\n",
       "      vegaEmbed(outputDiv, spec, embedOpt)\n",
       "        .catch(err => showError(`Javascript Error: ${err.message}<br>This usually means there's a typo in your chart specification. See the javascript console for the full traceback.`));\n",
       "    }\n",
       "\n",
       "    if(typeof define === \"function\" && define.amd) {\n",
       "      requirejs.config({paths});\n",
       "      require([\"vega-embed\"], displayChart, err => showError(`Error loading script: ${err.message}`));\n",
       "    } else if (typeof vegaEmbed === \"function\") {\n",
       "      displayChart(vegaEmbed);\n",
       "    } else {\n",
       "      loadScript(\"vega\")\n",
       "        .then(() => loadScript(\"vega-lite\"))\n",
       "        .then(() => loadScript(\"vega-embed\"))\n",
       "        .catch(showError)\n",
       "        .then(() => displayChart(vegaEmbed));\n",
       "    }\n",
       "  })({\"config\": {\"view\": {\"continuousWidth\": 400, \"continuousHeight\": 300}}, \"layer\": [{\"mark\": \"circle\", \"encoding\": {\"color\": {\"type\": \"nominal\", \"field\": \"AlterV20Kurz\"}, \"opacity\": {\"value\": 0}, \"x\": {\"type\": \"nominal\", \"field\": \"KreisLang\"}, \"y\": {\"type\": \"quantitative\", \"field\": \"AufDauerMedian\"}}, \"height\": 300, \"selection\": {\"selector003\": {\"type\": \"single\", \"on\": \"mouseover\", \"fields\": [\"AlterV20Kurz\"], \"nearest\": true}}, \"width\": 700}, {\"mark\": \"line\", \"encoding\": {\"color\": {\"type\": \"nominal\", \"field\": \"AlterV20Kurz\"}, \"size\": {\"condition\": {\"value\": 1.5, \"selection\": {\"not\": \"selector003\"}}, \"value\": 4}, \"x\": {\"type\": \"nominal\", \"field\": \"KreisLang\"}, \"y\": {\"type\": \"quantitative\", \"field\": \"AufDauerMedian\"}}, \"selection\": {\"selector004\": {\"type\": \"interval\", \"bind\": \"scales\", \"encodings\": [\"x\", \"y\"]}}}], \"data\": {\"name\": \"data-2287d66c585d6f3baedd4ded6826aab5\"}, \"$schema\": \"https://vega.github.io/schema/vega-lite/v4.8.1.json\", \"datasets\": {\"data-2287d66c585d6f3baedd4ded6826aab5\": [{\"StichtagDatJahr\": \"2020-01-01T00:00:00\", \"AlterV20Kurz\": \"0-19\", \"AlterV20Sort\": 1, \"SexCd\": 1, \"SexKurz\": \"M\", \"HerkunftCd\": 1, \"HerkunftLang\": \"Schweizer/in\", \"KreisCd\": 3, \"KreisLang\": \"Kreis 3\", \"AufDauerP25\": 4.2, \"AufDauerMedian\": 8.6, \"AufDauerP75\": 13.2, \"AufDauerMittel\": 8.9}, {\"StichtagDatJahr\": \"2020-01-01T00:00:00\", \"AlterV20Kurz\": \"0-19\", \"AlterV20Sort\": 1, \"SexCd\": 1, \"SexKurz\": \"M\", \"HerkunftCd\": 1, \"HerkunftLang\": \"Schweizer/in\", \"KreisCd\": 4, \"KreisLang\": \"Kreis 4\", \"AufDauerP25\": 2.9, \"AufDauerMedian\": 7.3, \"AufDauerP75\": 12.6, \"AufDauerMittel\": 8.0}, {\"StichtagDatJahr\": \"2020-01-01T00:00:00\", \"AlterV20Kurz\": \"0-19\", \"AlterV20Sort\": 1, \"SexCd\": 1, \"SexKurz\": \"M\", \"HerkunftCd\": 1, \"HerkunftLang\": \"Schweizer/in\", \"KreisCd\": 5, \"KreisLang\": \"Kreis 5\", \"AufDauerP25\": 3.1, \"AufDauerMedian\": 7.2, \"AufDauerP75\": 13.0, \"AufDauerMittel\": 8.2}, {\"StichtagDatJahr\": \"2020-01-01T00:00:00\", \"AlterV20Kurz\": \"0-19\", \"AlterV20Sort\": 1, \"SexCd\": 1, \"SexKurz\": \"M\", \"HerkunftCd\": 1, \"HerkunftLang\": \"Schweizer/in\", \"KreisCd\": 6, \"KreisLang\": \"Kreis 6\", \"AufDauerP25\": 3.5, \"AufDauerMedian\": 8.3, \"AufDauerP75\": 13.1, \"AufDauerMittel\": 8.6}, {\"StichtagDatJahr\": \"2020-01-01T00:00:00\", \"AlterV20Kurz\": \"0-19\", \"AlterV20Sort\": 1, \"SexCd\": 1, \"SexKurz\": \"M\", \"HerkunftCd\": 1, \"HerkunftLang\": \"Schweizer/in\", \"KreisCd\": 7, \"KreisLang\": \"Kreis 7\", \"AufDauerP25\": 3.6, \"AufDauerMedian\": 8.3, \"AufDauerP75\": 13.3, \"AufDauerMittel\": 8.7}, {\"StichtagDatJahr\": \"2020-01-01T00:00:00\", \"AlterV20Kurz\": \"0-19\", \"AlterV20Sort\": 1, \"SexCd\": 1, \"SexKurz\": \"M\", \"HerkunftCd\": 1, \"HerkunftLang\": \"Schweizer/in\", \"KreisCd\": 8, \"KreisLang\": \"Kreis 8\", \"AufDauerP25\": 3.0, \"AufDauerMedian\": 7.7, \"AufDauerP75\": 13.2, \"AufDauerMittel\": 8.4}, {\"StichtagDatJahr\": \"2020-01-01T00:00:00\", \"AlterV20Kurz\": \"0-19\", \"AlterV20Sort\": 1, \"SexCd\": 1, \"SexKurz\": \"M\", \"HerkunftCd\": 1, \"HerkunftLang\": \"Schweizer/in\", \"KreisCd\": 9, \"KreisLang\": \"Kreis 9\", \"AufDauerP25\": 3.6, \"AufDauerMedian\": 7.8, \"AufDauerP75\": 13.2, \"AufDauerMittel\": 8.5}, {\"StichtagDatJahr\": \"2020-01-01T00:00:00\", \"AlterV20Kurz\": \"0-19\", \"AlterV20Sort\": 1, \"SexCd\": 1, \"SexKurz\": \"M\", \"HerkunftCd\": 1, \"HerkunftLang\": \"Schweizer/in\", \"KreisCd\": 10, \"KreisLang\": \"Kreis 10\", \"AufDauerP25\": 3.5, \"AufDauerMedian\": 7.7, \"AufDauerP75\": 13.0, \"AufDauerMittel\": 8.4}, {\"StichtagDatJahr\": \"2020-01-01T00:00:00\", \"AlterV20Kurz\": \"0-19\", \"AlterV20Sort\": 1, \"SexCd\": 1, \"SexKurz\": \"M\", \"HerkunftCd\": 1, \"HerkunftLang\": \"Schweizer/in\", \"KreisCd\": 11, \"KreisLang\": \"Kreis 11\", \"AufDauerP25\": 4.0, \"AufDauerMedian\": 8.6, \"AufDauerP75\": 13.4, \"AufDauerMittel\": 8.9}, {\"StichtagDatJahr\": \"2020-01-01T00:00:00\", \"AlterV20Kurz\": \"0-19\", \"AlterV20Sort\": 1, \"SexCd\": 1, \"SexKurz\": \"M\", \"HerkunftCd\": 1, \"HerkunftLang\": \"Schweizer/in\", \"KreisCd\": 12, \"KreisLang\": \"Kreis 12\", \"AufDauerP25\": 4.3, \"AufDauerMedian\": 8.9, \"AufDauerP75\": 14.3, \"AufDauerMittel\": 9.2}, {\"StichtagDatJahr\": \"2020-01-01T00:00:00\", \"AlterV20Kurz\": \"0-19\", \"AlterV20Sort\": 1, \"SexCd\": 1, \"SexKurz\": \"M\", \"HerkunftCd\": 2, \"HerkunftLang\": \"Ausl\\u00e4nder/in\", \"KreisCd\": 3, \"KreisLang\": \"Kreis 3\", \"AufDauerP25\": 2.2, \"AufDauerMedian\": 4.6, \"AufDauerP75\": 8.6, \"AufDauerMittel\": 5.9}, {\"StichtagDatJahr\": \"2020-01-01T00:00:00\", \"AlterV20Kurz\": \"0-19\", \"AlterV20Sort\": 1, \"SexCd\": 1, \"SexKurz\": \"M\", \"HerkunftCd\": 2, \"HerkunftLang\": \"Ausl\\u00e4nder/in\", \"KreisCd\": 4, \"KreisLang\": \"Kreis 4\", \"AufDauerP25\": 1.6, \"AufDauerMedian\": 4.5, \"AufDauerP75\": 9.0, \"AufDauerMittel\": 5.9}, {\"StichtagDatJahr\": \"2020-01-01T00:00:00\", \"AlterV20Kurz\": \"0-19\", \"AlterV20Sort\": 1, \"SexCd\": 1, \"SexKurz\": \"M\", \"HerkunftCd\": 2, \"HerkunftLang\": \"Ausl\\u00e4nder/in\", \"KreisCd\": 5, \"KreisLang\": \"Kreis 5\", \"AufDauerP25\": 1.6, \"AufDauerMedian\": 3.8, \"AufDauerP75\": 7.4, \"AufDauerMittel\": 5.1}, {\"StichtagDatJahr\": \"2020-01-01T00:00:00\", \"AlterV20Kurz\": \"0-19\", \"AlterV20Sort\": 1, \"SexCd\": 1, \"SexKurz\": \"M\", \"HerkunftCd\": 2, \"HerkunftLang\": \"Ausl\\u00e4nder/in\", \"KreisCd\": 6, \"KreisLang\": \"Kreis 6\", \"AufDauerP25\": 1.3, \"AufDauerMedian\": 3.5, \"AufDauerP75\": 7.0, \"AufDauerMittel\": 4.7}, {\"StichtagDatJahr\": \"2020-01-01T00:00:00\", \"AlterV20Kurz\": \"0-19\", \"AlterV20Sort\": 1, \"SexCd\": 1, \"SexKurz\": \"M\", \"HerkunftCd\": 2, \"HerkunftLang\": \"Ausl\\u00e4nder/in\", \"KreisCd\": 7, \"KreisLang\": \"Kreis 7\", \"AufDauerP25\": 1.5, \"AufDauerMedian\": 3.4, \"AufDauerP75\": 6.7, \"AufDauerMittel\": 4.6}, {\"StichtagDatJahr\": \"2020-01-01T00:00:00\", \"AlterV20Kurz\": \"0-19\", \"AlterV20Sort\": 1, \"SexCd\": 1, \"SexKurz\": \"M\", \"HerkunftCd\": 2, \"HerkunftLang\": \"Ausl\\u00e4nder/in\", \"KreisCd\": 8, \"KreisLang\": \"Kreis 8\", \"AufDauerP25\": 1.3, \"AufDauerMedian\": 2.85, \"AufDauerP75\": 6.1, \"AufDauerMittel\": 4.3}, {\"StichtagDatJahr\": \"2020-01-01T00:00:00\", \"AlterV20Kurz\": \"0-19\", \"AlterV20Sort\": 1, \"SexCd\": 1, \"SexKurz\": \"M\", \"HerkunftCd\": 2, \"HerkunftLang\": \"Ausl\\u00e4nder/in\", \"KreisCd\": 9, \"KreisLang\": \"Kreis 9\", \"AufDauerP25\": 1.8, \"AufDauerMedian\": 4.4, \"AufDauerP75\": 8.8, \"AufDauerMittel\": 5.8}, {\"StichtagDatJahr\": \"2020-01-01T00:00:00\", \"AlterV20Kurz\": \"0-19\", \"AlterV20Sort\": 1, \"SexCd\": 1, \"SexKurz\": \"M\", \"HerkunftCd\": 2, \"HerkunftLang\": \"Ausl\\u00e4nder/in\", \"KreisCd\": 10, \"KreisLang\": \"Kreis 10\", \"AufDauerP25\": 1.5, \"AufDauerMedian\": 3.7, \"AufDauerP75\": 7.4, \"AufDauerMittel\": 5.0}, {\"StichtagDatJahr\": \"2020-01-01T00:00:00\", \"AlterV20Kurz\": \"0-19\", \"AlterV20Sort\": 1, \"SexCd\": 1, \"SexKurz\": \"M\", \"HerkunftCd\": 2, \"HerkunftLang\": \"Ausl\\u00e4nder/in\", \"KreisCd\": 11, \"KreisLang\": \"Kreis 11\", \"AufDauerP25\": 2.0, \"AufDauerMedian\": 4.5, \"AufDauerP75\": 8.4, \"AufDauerMittel\": 5.7}, {\"StichtagDatJahr\": \"2020-01-01T00:00:00\", \"AlterV20Kurz\": \"0-19\", \"AlterV20Sort\": 1, \"SexCd\": 1, \"SexKurz\": \"M\", \"HerkunftCd\": 2, \"HerkunftLang\": \"Ausl\\u00e4nder/in\", \"KreisCd\": 12, \"KreisLang\": \"Kreis 12\", \"AufDauerP25\": 2.2, \"AufDauerMedian\": 5.0, \"AufDauerP75\": 8.8, \"AufDauerMittel\": 6.1}, {\"StichtagDatJahr\": \"2020-01-01T00:00:00\", \"AlterV20Kurz\": \"20-39\", \"AlterV20Sort\": 2, \"SexCd\": 1, \"SexKurz\": \"M\", \"HerkunftCd\": 1, \"HerkunftLang\": \"Schweizer/in\", \"KreisCd\": 3, \"KreisLang\": \"Kreis 3\", \"AufDauerP25\": 3.5, \"AufDauerMedian\": 10.4, \"AufDauerP75\": 23.05, \"AufDauerMittel\": 13.7}, {\"StichtagDatJahr\": \"2020-01-01T00:00:00\", \"AlterV20Kurz\": \"20-39\", \"AlterV20Sort\": 2, \"SexCd\": 1, \"SexKurz\": \"M\", \"HerkunftCd\": 1, \"HerkunftLang\": \"Schweizer/in\", \"KreisCd\": 4, \"KreisLang\": \"Kreis 4\", \"AufDauerP25\": 2.8, \"AufDauerMedian\": 7.2, \"AufDauerP75\": 20.4, \"AufDauerMittel\": 11.5}, {\"StichtagDatJahr\": \"2020-01-01T00:00:00\", \"AlterV20Kurz\": \"20-39\", \"AlterV20Sort\": 2, \"SexCd\": 1, \"SexKurz\": \"M\", \"HerkunftCd\": 1, \"HerkunftLang\": \"Schweizer/in\", \"KreisCd\": 5, \"KreisLang\": \"Kreis 5\", \"AufDauerP25\": 2.4, \"AufDauerMedian\": 6.6, \"AufDauerP75\": 16.2, \"AufDauerMittel\": 10.6}, {\"StichtagDatJahr\": \"2020-01-01T00:00:00\", \"AlterV20Kurz\": \"20-39\", \"AlterV20Sort\": 2, \"SexCd\": 1, \"SexKurz\": \"M\", \"HerkunftCd\": 1, \"HerkunftLang\": \"Schweizer/in\", \"KreisCd\": 6, \"KreisLang\": \"Kreis 6\", \"AufDauerP25\": 3.0, \"AufDauerMedian\": 9.3, \"AufDauerP75\": 22.8, \"AufDauerMittel\": 13.0}, {\"StichtagDatJahr\": \"2020-01-01T00:00:00\", \"AlterV20Kurz\": \"20-39\", \"AlterV20Sort\": 2, \"SexCd\": 1, \"SexKurz\": \"M\", \"HerkunftCd\": 1, \"HerkunftLang\": \"Schweizer/in\", \"KreisCd\": 7, \"KreisLang\": \"Kreis 7\", \"AufDauerP25\": 2.9, \"AufDauerMedian\": 8.7, \"AufDauerP75\": 22.4, \"AufDauerMittel\": 12.8}, {\"StichtagDatJahr\": \"2020-01-01T00:00:00\", \"AlterV20Kurz\": \"20-39\", \"AlterV20Sort\": 2, \"SexCd\": 1, \"SexKurz\": \"M\", \"HerkunftCd\": 1, \"HerkunftLang\": \"Schweizer/in\", \"KreisCd\": 8, \"KreisLang\": \"Kreis 8\", \"AufDauerP25\": 2.3, \"AufDauerMedian\": 6.5, \"AufDauerP75\": 19.05, \"AufDauerMittel\": 10.8}, {\"StichtagDatJahr\": \"2020-01-01T00:00:00\", \"AlterV20Kurz\": \"20-39\", \"AlterV20Sort\": 2, \"SexCd\": 1, \"SexKurz\": \"M\", \"HerkunftCd\": 1, \"HerkunftLang\": \"Schweizer/in\", \"KreisCd\": 9, \"KreisLang\": \"Kreis 9\", \"AufDauerP25\": 3.9, \"AufDauerMedian\": 11.85, \"AufDauerP75\": 25.1, \"AufDauerMittel\": 14.9}, {\"StichtagDatJahr\": \"2020-01-01T00:00:00\", \"AlterV20Kurz\": \"20-39\", \"AlterV20Sort\": 2, \"SexCd\": 1, \"SexKurz\": \"M\", \"HerkunftCd\": 1, \"HerkunftLang\": \"Schweizer/in\", \"KreisCd\": 10, \"KreisLang\": \"Kreis 10\", \"AufDauerP25\": 3.6, \"AufDauerMedian\": 9.8, \"AufDauerP75\": 23.4, \"AufDauerMittel\": 13.7}, {\"StichtagDatJahr\": \"2020-01-01T00:00:00\", \"AlterV20Kurz\": \"20-39\", \"AlterV20Sort\": 2, \"SexCd\": 1, \"SexKurz\": \"M\", \"HerkunftCd\": 1, \"HerkunftLang\": \"Schweizer/in\", \"KreisCd\": 11, \"KreisLang\": \"Kreis 11\", \"AufDauerP25\": 3.5, \"AufDauerMedian\": 11.5, \"AufDauerP75\": 24.0, \"AufDauerMittel\": 14.3}, {\"StichtagDatJahr\": \"2020-01-01T00:00:00\", \"AlterV20Kurz\": \"20-39\", \"AlterV20Sort\": 2, \"SexCd\": 1, \"SexKurz\": \"M\", \"HerkunftCd\": 1, \"HerkunftLang\": \"Schweizer/in\", \"KreisCd\": 12, \"KreisLang\": \"Kreis 12\", \"AufDauerP25\": 3.4, \"AufDauerMedian\": 11.4, \"AufDauerP75\": 23.6, \"AufDauerMittel\": 14.2}, {\"StichtagDatJahr\": \"2020-01-01T00:00:00\", \"AlterV20Kurz\": \"20-39\", \"AlterV20Sort\": 2, \"SexCd\": 1, \"SexKurz\": \"M\", \"HerkunftCd\": 2, \"HerkunftLang\": \"Ausl\\u00e4nder/in\", \"KreisCd\": 3, \"KreisLang\": \"Kreis 3\", \"AufDauerP25\": 1.8, \"AufDauerMedian\": 4.0, \"AufDauerP75\": 7.55, \"AufDauerMittel\": 5.8}, {\"StichtagDatJahr\": \"2020-01-01T00:00:00\", \"AlterV20Kurz\": \"20-39\", \"AlterV20Sort\": 2, \"SexCd\": 1, \"SexKurz\": \"M\", \"HerkunftCd\": 2, \"HerkunftLang\": \"Ausl\\u00e4nder/in\", \"KreisCd\": 4, \"KreisLang\": \"Kreis 4\", \"AufDauerP25\": 1.5, \"AufDauerMedian\": 3.8, \"AufDauerP75\": 7.3, \"AufDauerMittel\": 5.6}, {\"StichtagDatJahr\": \"2020-01-01T00:00:00\", \"AlterV20Kurz\": \"20-39\", \"AlterV20Sort\": 2, \"SexCd\": 1, \"SexKurz\": \"M\", \"HerkunftCd\": 2, \"HerkunftLang\": \"Ausl\\u00e4nder/in\", \"KreisCd\": 5, \"KreisLang\": \"Kreis 5\", \"AufDauerP25\": 1.5, \"AufDauerMedian\": 3.5, \"AufDauerP75\": 6.4, \"AufDauerMittel\": 5.0}, {\"StichtagDatJahr\": \"2020-01-01T00:00:00\", \"AlterV20Kurz\": \"20-39\", \"AlterV20Sort\": 2, \"SexCd\": 1, \"SexKurz\": \"M\", \"HerkunftCd\": 2, \"HerkunftLang\": \"Ausl\\u00e4nder/in\", \"KreisCd\": 6, \"KreisLang\": \"Kreis 6\", \"AufDauerP25\": 1.5, \"AufDauerMedian\": 3.5, \"AufDauerP75\": 7.0, \"AufDauerMittel\": 5.0}, {\"StichtagDatJahr\": \"2020-01-01T00:00:00\", \"AlterV20Kurz\": \"20-39\", \"AlterV20Sort\": 2, \"SexCd\": 1, \"SexKurz\": \"M\", \"HerkunftCd\": 2, \"HerkunftLang\": \"Ausl\\u00e4nder/in\", \"KreisCd\": 7, \"KreisLang\": \"Kreis 7\", \"AufDauerP25\": 1.4, \"AufDauerMedian\": 3.3, \"AufDauerP75\": 6.3, \"AufDauerMittel\": 4.4}, {\"StichtagDatJahr\": \"2020-01-01T00:00:00\", \"AlterV20Kurz\": \"20-39\", \"AlterV20Sort\": 2, \"SexCd\": 1, \"SexKurz\": \"M\", \"HerkunftCd\": 2, \"HerkunftLang\": \"Ausl\\u00e4nder/in\", \"KreisCd\": 8, \"KreisLang\": \"Kreis 8\", \"AufDauerP25\": 1.3, \"AufDauerMedian\": 3.0, \"AufDauerP75\": 5.6, \"AufDauerMittel\": 4.1}, {\"StichtagDatJahr\": \"2020-01-01T00:00:00\", \"AlterV20Kurz\": \"20-39\", \"AlterV20Sort\": 2, \"SexCd\": 1, \"SexKurz\": \"M\", \"HerkunftCd\": 2, \"HerkunftLang\": \"Ausl\\u00e4nder/in\", \"KreisCd\": 9, \"KreisLang\": \"Kreis 9\", \"AufDauerP25\": 2.0, \"AufDauerMedian\": 4.3, \"AufDauerP75\": 8.2, \"AufDauerMittel\": 6.3}, {\"StichtagDatJahr\": \"2020-01-01T00:00:00\", \"AlterV20Kurz\": \"20-39\", \"AlterV20Sort\": 2, \"SexCd\": 1, \"SexKurz\": \"M\", \"HerkunftCd\": 2, \"HerkunftLang\": \"Ausl\\u00e4nder/in\", \"KreisCd\": 10, \"KreisLang\": \"Kreis 10\", \"AufDauerP25\": 1.9, \"AufDauerMedian\": 4.2, \"AufDauerP75\": 7.5, \"AufDauerMittel\": 5.6}, {\"StichtagDatJahr\": \"2020-01-01T00:00:00\", \"AlterV20Kurz\": \"20-39\", \"AlterV20Sort\": 2, \"SexCd\": 1, \"SexKurz\": \"M\", \"HerkunftCd\": 2, \"HerkunftLang\": \"Ausl\\u00e4nder/in\", \"KreisCd\": 11, \"KreisLang\": \"Kreis 11\", \"AufDauerP25\": 1.8, \"AufDauerMedian\": 4.3, \"AufDauerP75\": 8.2, \"AufDauerMittel\": 6.3}, {\"StichtagDatJahr\": \"2020-01-01T00:00:00\", \"AlterV20Kurz\": \"20-39\", \"AlterV20Sort\": 2, \"SexCd\": 1, \"SexKurz\": \"M\", \"HerkunftCd\": 2, \"HerkunftLang\": \"Ausl\\u00e4nder/in\", \"KreisCd\": 12, \"KreisLang\": \"Kreis 12\", \"AufDauerP25\": 1.8, \"AufDauerMedian\": 4.3, \"AufDauerP75\": 8.5, \"AufDauerMittel\": 6.5}, {\"StichtagDatJahr\": \"2020-01-01T00:00:00\", \"AlterV20Kurz\": \"40-59\", \"AlterV20Sort\": 3, \"SexCd\": 1, \"SexKurz\": \"M\", \"HerkunftCd\": 1, \"HerkunftLang\": \"Schweizer/in\", \"KreisCd\": 3, \"KreisLang\": \"Kreis 3\", \"AufDauerP25\": 12.3, \"AufDauerMedian\": 19.8, \"AufDauerP75\": 28.4, \"AufDauerMittel\": 21.6}, {\"StichtagDatJahr\": \"2020-01-01T00:00:00\", \"AlterV20Kurz\": \"40-59\", \"AlterV20Sort\": 3, \"SexCd\": 1, \"SexKurz\": \"M\", \"HerkunftCd\": 1, \"HerkunftLang\": \"Schweizer/in\", \"KreisCd\": 4, \"KreisLang\": \"Kreis 4\", \"AufDauerP25\": 10.8, \"AufDauerMedian\": 18.4, \"AufDauerP75\": 27.0, \"AufDauerMittel\": 20.0}, {\"StichtagDatJahr\": \"2020-01-01T00:00:00\", \"AlterV20Kurz\": \"40-59\", \"AlterV20Sort\": 3, \"SexCd\": 1, \"SexKurz\": \"M\", \"HerkunftCd\": 1, \"HerkunftLang\": \"Schweizer/in\", \"KreisCd\": 5, \"KreisLang\": \"Kreis 5\", \"AufDauerP25\": 10.7, \"AufDauerMedian\": 18.3, \"AufDauerP75\": 26.9, \"AufDauerMittel\": 19.9}, {\"StichtagDatJahr\": \"2020-01-01T00:00:00\", \"AlterV20Kurz\": \"40-59\", \"AlterV20Sort\": 3, \"SexCd\": 1, \"SexKurz\": \"M\", \"HerkunftCd\": 1, \"HerkunftLang\": \"Schweizer/in\", \"KreisCd\": 6, \"KreisLang\": \"Kreis 6\", \"AufDauerP25\": 11.4, \"AufDauerMedian\": 19.35, \"AufDauerP75\": 29.1, \"AufDauerMittel\": 21.7}, {\"StichtagDatJahr\": \"2020-01-01T00:00:00\", \"AlterV20Kurz\": \"40-59\", \"AlterV20Sort\": 3, \"SexCd\": 1, \"SexKurz\": \"M\", \"HerkunftCd\": 1, \"HerkunftLang\": \"Schweizer/in\", \"KreisCd\": 7, \"KreisLang\": \"Kreis 7\", \"AufDauerP25\": 10.3, \"AufDauerMedian\": 18.0, \"AufDauerP75\": 27.2, \"AufDauerMittel\": 20.3}, {\"StichtagDatJahr\": \"2020-01-01T00:00:00\", \"AlterV20Kurz\": \"40-59\", \"AlterV20Sort\": 3, \"SexCd\": 1, \"SexKurz\": \"M\", \"HerkunftCd\": 1, \"HerkunftLang\": \"Schweizer/in\", \"KreisCd\": 8, \"KreisLang\": \"Kreis 8\", \"AufDauerP25\": 9.5, \"AufDauerMedian\": 17.1, \"AufDauerP75\": 25.5, \"AufDauerMittel\": 19.0}, {\"StichtagDatJahr\": \"2020-01-01T00:00:00\", \"AlterV20Kurz\": \"40-59\", \"AlterV20Sort\": 3, \"SexCd\": 1, \"SexKurz\": \"M\", \"HerkunftCd\": 1, \"HerkunftLang\": \"Schweizer/in\", \"KreisCd\": 9, \"KreisLang\": \"Kreis 9\", \"AufDauerP25\": 12.1, \"AufDauerMedian\": 21.0, \"AufDauerP75\": 31.2, \"AufDauerMittel\": 23.2}, {\"StichtagDatJahr\": \"2020-01-01T00:00:00\", \"AlterV20Kurz\": \"40-59\", \"AlterV20Sort\": 3, \"SexCd\": 1, \"SexKurz\": \"M\", \"HerkunftCd\": 1, \"HerkunftLang\": \"Schweizer/in\", \"KreisCd\": 10, \"KreisLang\": \"Kreis 10\", \"AufDauerP25\": 12.1, \"AufDauerMedian\": 19.8, \"AufDauerP75\": 29.2, \"AufDauerMittel\": 22.0}, {\"StichtagDatJahr\": \"2020-01-01T00:00:00\", \"AlterV20Kurz\": \"40-59\", \"AlterV20Sort\": 3, \"SexCd\": 1, \"SexKurz\": \"M\", \"HerkunftCd\": 1, \"HerkunftLang\": \"Schweizer/in\", \"KreisCd\": 11, \"KreisLang\": \"Kreis 11\", \"AufDauerP25\": 12.1, \"AufDauerMedian\": 20.4, \"AufDauerP75\": 29.8, \"AufDauerMittel\": 22.4}, {\"StichtagDatJahr\": \"2020-01-01T00:00:00\", \"AlterV20Kurz\": \"40-59\", \"AlterV20Sort\": 3, \"SexCd\": 1, \"SexKurz\": \"M\", \"HerkunftCd\": 1, \"HerkunftLang\": \"Schweizer/in\", \"KreisCd\": 12, \"KreisLang\": \"Kreis 12\", \"AufDauerP25\": 13.0, \"AufDauerMedian\": 20.9, \"AufDauerP75\": 29.5, \"AufDauerMittel\": 22.5}, {\"StichtagDatJahr\": \"2020-01-01T00:00:00\", \"AlterV20Kurz\": \"40-59\", \"AlterV20Sort\": 3, \"SexCd\": 1, \"SexKurz\": \"M\", \"HerkunftCd\": 2, \"HerkunftLang\": \"Ausl\\u00e4nder/in\", \"KreisCd\": 3, \"KreisLang\": \"Kreis 3\", \"AufDauerP25\": 5.0, \"AufDauerMedian\": 10.5, \"AufDauerP75\": 17.8, \"AufDauerMittel\": 12.6}, {\"StichtagDatJahr\": \"2020-01-01T00:00:00\", \"AlterV20Kurz\": \"40-59\", \"AlterV20Sort\": 3, \"SexCd\": 1, \"SexKurz\": \"M\", \"HerkunftCd\": 2, \"HerkunftLang\": \"Ausl\\u00e4nder/in\", \"KreisCd\": 4, \"KreisLang\": \"Kreis 4\", \"AufDauerP25\": 4.2, \"AufDauerMedian\": 9.85, \"AufDauerP75\": 17.45, \"AufDauerMittel\": 12.4}, {\"StichtagDatJahr\": \"2020-01-01T00:00:00\", \"AlterV20Kurz\": \"40-59\", \"AlterV20Sort\": 3, \"SexCd\": 1, \"SexKurz\": \"M\", \"HerkunftCd\": 2, \"HerkunftLang\": \"Ausl\\u00e4nder/in\", \"KreisCd\": 5, \"KreisLang\": \"Kreis 5\", \"AufDauerP25\": 3.6, \"AufDauerMedian\": 8.2, \"AufDauerP75\": 14.3, \"AufDauerMittel\": 10.5}, {\"StichtagDatJahr\": \"2020-01-01T00:00:00\", \"AlterV20Kurz\": \"40-59\", \"AlterV20Sort\": 3, \"SexCd\": 1, \"SexKurz\": \"M\", \"HerkunftCd\": 2, \"HerkunftLang\": \"Ausl\\u00e4nder/in\", \"KreisCd\": 6, \"KreisLang\": \"Kreis 6\", \"AufDauerP25\": 3.8, \"AufDauerMedian\": 8.8, \"AufDauerP75\": 14.25, \"AufDauerMittel\": 10.3}, {\"StichtagDatJahr\": \"2020-01-01T00:00:00\", \"AlterV20Kurz\": \"40-59\", \"AlterV20Sort\": 3, \"SexCd\": 1, \"SexKurz\": \"M\", \"HerkunftCd\": 2, \"HerkunftLang\": \"Ausl\\u00e4nder/in\", \"KreisCd\": 7, \"KreisLang\": \"Kreis 7\", \"AufDauerP25\": 3.1, \"AufDauerMedian\": 7.4, \"AufDauerP75\": 12.6, \"AufDauerMittel\": 9.0}, {\"StichtagDatJahr\": \"2020-01-01T00:00:00\", \"AlterV20Kurz\": \"40-59\", \"AlterV20Sort\": 3, \"SexCd\": 1, \"SexKurz\": \"M\", \"HerkunftCd\": 2, \"HerkunftLang\": \"Ausl\\u00e4nder/in\", \"KreisCd\": 8, \"KreisLang\": \"Kreis 8\", \"AufDauerP25\": 2.6, \"AufDauerMedian\": 6.0, \"AufDauerP75\": 11.2, \"AufDauerMittel\": 8.0}, {\"StichtagDatJahr\": \"2020-01-01T00:00:00\", \"AlterV20Kurz\": \"40-59\", \"AlterV20Sort\": 3, \"SexCd\": 1, \"SexKurz\": \"M\", \"HerkunftCd\": 2, \"HerkunftLang\": \"Ausl\\u00e4nder/in\", \"KreisCd\": 9, \"KreisLang\": \"Kreis 9\", \"AufDauerP25\": 5.2, \"AufDauerMedian\": 10.8, \"AufDauerP75\": 18.9, \"AufDauerMittel\": 13.5}, {\"StichtagDatJahr\": \"2020-01-01T00:00:00\", \"AlterV20Kurz\": \"40-59\", \"AlterV20Sort\": 3, \"SexCd\": 1, \"SexKurz\": \"M\", \"HerkunftCd\": 2, \"HerkunftLang\": \"Ausl\\u00e4nder/in\", \"KreisCd\": 10, \"KreisLang\": \"Kreis 10\", \"AufDauerP25\": 4.85, \"AufDauerMedian\": 9.5, \"AufDauerP75\": 15.2, \"AufDauerMittel\": 11.5}, {\"StichtagDatJahr\": \"2020-01-01T00:00:00\", \"AlterV20Kurz\": \"40-59\", \"AlterV20Sort\": 3, \"SexCd\": 1, \"SexKurz\": \"M\", \"HerkunftCd\": 2, \"HerkunftLang\": \"Ausl\\u00e4nder/in\", \"KreisCd\": 11, \"KreisLang\": \"Kreis 11\", \"AufDauerP25\": 4.8, \"AufDauerMedian\": 10.1, \"AufDauerP75\": 17.7, \"AufDauerMittel\": 12.4}, {\"StichtagDatJahr\": \"2020-01-01T00:00:00\", \"AlterV20Kurz\": \"40-59\", \"AlterV20Sort\": 3, \"SexCd\": 1, \"SexKurz\": \"M\", \"HerkunftCd\": 2, \"HerkunftLang\": \"Ausl\\u00e4nder/in\", \"KreisCd\": 12, \"KreisLang\": \"Kreis 12\", \"AufDauerP25\": 5.6, \"AufDauerMedian\": 11.4, \"AufDauerP75\": 20.0, \"AufDauerMittel\": 13.7}, {\"StichtagDatJahr\": \"2020-01-01T00:00:00\", \"AlterV20Kurz\": \"60-79\", \"AlterV20Sort\": 4, \"SexCd\": 1, \"SexKurz\": \"M\", \"HerkunftCd\": 1, \"HerkunftLang\": \"Schweizer/in\", \"KreisCd\": 3, \"KreisLang\": \"Kreis 3\", \"AufDauerP25\": 24.3, \"AufDauerMedian\": 36.7, \"AufDauerP75\": 46.7, \"AufDauerMittel\": 36.5}, {\"StichtagDatJahr\": \"2020-01-01T00:00:00\", \"AlterV20Kurz\": \"60-79\", \"AlterV20Sort\": 4, \"SexCd\": 1, \"SexKurz\": \"M\", \"HerkunftCd\": 1, \"HerkunftLang\": \"Schweizer/in\", \"KreisCd\": 4, \"KreisLang\": \"Kreis 4\", \"AufDauerP25\": 19.4, \"AufDauerMedian\": 32.5, \"AufDauerP75\": 42.2, \"AufDauerMittel\": 31.9}, {\"StichtagDatJahr\": \"2020-01-01T00:00:00\", \"AlterV20Kurz\": \"60-79\", \"AlterV20Sort\": 4, \"SexCd\": 1, \"SexKurz\": \"M\", \"HerkunftCd\": 1, \"HerkunftLang\": \"Schweizer/in\", \"KreisCd\": 5, \"KreisLang\": \"Kreis 5\", \"AufDauerP25\": 18.2, \"AufDauerMedian\": 31.0, \"AufDauerP75\": 42.2, \"AufDauerMittel\": 31.0}, {\"StichtagDatJahr\": \"2020-01-01T00:00:00\", \"AlterV20Kurz\": \"60-79\", \"AlterV20Sort\": 4, \"SexCd\": 1, \"SexKurz\": \"M\", \"HerkunftCd\": 1, \"HerkunftLang\": \"Schweizer/in\", \"KreisCd\": 6, \"KreisLang\": \"Kreis 6\", \"AufDauerP25\": 24.7, \"AufDauerMedian\": 36.5, \"AufDauerP75\": 47.6, \"AufDauerMittel\": 36.8}, {\"StichtagDatJahr\": \"2020-01-01T00:00:00\", \"AlterV20Kurz\": \"60-79\", \"AlterV20Sort\": 4, \"SexCd\": 1, \"SexKurz\": \"M\", \"HerkunftCd\": 1, \"HerkunftLang\": \"Schweizer/in\", \"KreisCd\": 7, \"KreisLang\": \"Kreis 7\", \"AufDauerP25\": 19.9, \"AufDauerMedian\": 34.2, \"AufDauerP75\": 44.8, \"AufDauerMittel\": 33.9}, {\"StichtagDatJahr\": \"2020-01-01T00:00:00\", \"AlterV20Kurz\": \"60-79\", \"AlterV20Sort\": 4, \"SexCd\": 1, \"SexKurz\": \"M\", \"HerkunftCd\": 1, \"HerkunftLang\": \"Schweizer/in\", \"KreisCd\": 8, \"KreisLang\": \"Kreis 8\", \"AufDauerP25\": 18.7, \"AufDauerMedian\": 33.8, \"AufDauerP75\": 43.2, \"AufDauerMittel\": 32.4}, {\"StichtagDatJahr\": \"2020-01-01T00:00:00\", \"AlterV20Kurz\": \"60-79\", \"AlterV20Sort\": 4, \"SexCd\": 1, \"SexKurz\": \"M\", \"HerkunftCd\": 1, \"HerkunftLang\": \"Schweizer/in\", \"KreisCd\": 9, \"KreisLang\": \"Kreis 9\", \"AufDauerP25\": 25.1, \"AufDauerMedian\": 38.0, \"AufDauerP75\": 51.4, \"AufDauerMittel\": 38.5}, {\"StichtagDatJahr\": \"2020-01-01T00:00:00\", \"AlterV20Kurz\": \"60-79\", \"AlterV20Sort\": 4, \"SexCd\": 1, \"SexKurz\": \"M\", \"HerkunftCd\": 1, \"HerkunftLang\": \"Schweizer/in\", \"KreisCd\": 10, \"KreisLang\": \"Kreis 10\", \"AufDauerP25\": 24.8, \"AufDauerMedian\": 37.8, \"AufDauerP75\": 49.4, \"AufDauerMittel\": 38.0}, {\"StichtagDatJahr\": \"2020-01-01T00:00:00\", \"AlterV20Kurz\": \"60-79\", \"AlterV20Sort\": 4, \"SexCd\": 1, \"SexKurz\": \"M\", \"HerkunftCd\": 1, \"HerkunftLang\": \"Schweizer/in\", \"KreisCd\": 11, \"KreisLang\": \"Kreis 11\", \"AufDauerP25\": 22.8, \"AufDauerMedian\": 36.6, \"AufDauerP75\": 48.5, \"AufDauerMittel\": 36.6}, {\"StichtagDatJahr\": \"2020-01-01T00:00:00\", \"AlterV20Kurz\": \"60-79\", \"AlterV20Sort\": 4, \"SexCd\": 1, \"SexKurz\": \"M\", \"HerkunftCd\": 1, \"HerkunftLang\": \"Schweizer/in\", \"KreisCd\": 12, \"KreisLang\": \"Kreis 12\", \"AufDauerP25\": 22.45, \"AufDauerMedian\": 36.55, \"AufDauerP75\": 49.25, \"AufDauerMittel\": 37.1}, {\"StichtagDatJahr\": \"2020-01-01T00:00:00\", \"AlterV20Kurz\": \"60-79\", \"AlterV20Sort\": 4, \"SexCd\": 1, \"SexKurz\": \"M\", \"HerkunftCd\": 2, \"HerkunftLang\": \"Ausl\\u00e4nder/in\", \"KreisCd\": 3, \"KreisLang\": \"Kreis 3\", \"AufDauerP25\": 15.6, \"AufDauerMedian\": 30.9, \"AufDauerP75\": 40.8, \"AufDauerMittel\": 29.0}, {\"StichtagDatJahr\": \"2020-01-01T00:00:00\", \"AlterV20Kurz\": \"60-79\", \"AlterV20Sort\": 4, \"SexCd\": 1, \"SexKurz\": \"M\", \"HerkunftCd\": 2, \"HerkunftLang\": \"Ausl\\u00e4nder/in\", \"KreisCd\": 4, \"KreisLang\": \"Kreis 4\", \"AufDauerP25\": 17.15, \"AufDauerMedian\": 29.8, \"AufDauerP75\": 39.85, \"AufDauerMittel\": 28.7}, {\"StichtagDatJahr\": \"2020-01-01T00:00:00\", \"AlterV20Kurz\": \"60-79\", \"AlterV20Sort\": 4, \"SexCd\": 1, \"SexKurz\": \"M\", \"HerkunftCd\": 2, \"HerkunftLang\": \"Ausl\\u00e4nder/in\", \"KreisCd\": 5, \"KreisLang\": \"Kreis 5\", \"AufDauerP25\": 12.2, \"AufDauerMedian\": 29.8, \"AufDauerP75\": 39.8, \"AufDauerMittel\": 27.7}, {\"StichtagDatJahr\": \"2020-01-01T00:00:00\", \"AlterV20Kurz\": \"60-79\", \"AlterV20Sort\": 4, \"SexCd\": 1, \"SexKurz\": \"M\", \"HerkunftCd\": 2, \"HerkunftLang\": \"Ausl\\u00e4nder/in\", \"KreisCd\": 6, \"KreisLang\": \"Kreis 6\", \"AufDauerP25\": 11.0, \"AufDauerMedian\": 27.3, \"AufDauerP75\": 40.6, \"AufDauerMittel\": 26.5}, {\"StichtagDatJahr\": \"2020-01-01T00:00:00\", \"AlterV20Kurz\": \"60-79\", \"AlterV20Sort\": 4, \"SexCd\": 1, \"SexKurz\": \"M\", \"HerkunftCd\": 2, \"HerkunftLang\": \"Ausl\\u00e4nder/in\", \"KreisCd\": 7, \"KreisLang\": \"Kreis 7\", \"AufDauerP25\": 7.0, \"AufDauerMedian\": 16.75, \"AufDauerP75\": 33.9, \"AufDauerMittel\": 21.0}, {\"StichtagDatJahr\": \"2020-01-01T00:00:00\", \"AlterV20Kurz\": \"60-79\", \"AlterV20Sort\": 4, \"SexCd\": 1, \"SexKurz\": \"M\", \"HerkunftCd\": 2, \"HerkunftLang\": \"Ausl\\u00e4nder/in\", \"KreisCd\": 8, \"KreisLang\": \"Kreis 8\", \"AufDauerP25\": 7.0, \"AufDauerMedian\": 16.1, \"AufDauerP75\": 36.8, \"AufDauerMittel\": 22.0}, {\"StichtagDatJahr\": \"2020-01-01T00:00:00\", \"AlterV20Kurz\": \"60-79\", \"AlterV20Sort\": 4, \"SexCd\": 1, \"SexKurz\": \"M\", \"HerkunftCd\": 2, \"HerkunftLang\": \"Ausl\\u00e4nder/in\", \"KreisCd\": 9, \"KreisLang\": \"Kreis 9\", \"AufDauerP25\": 16.1, \"AufDauerMedian\": 31.25, \"AufDauerP75\": 43.05, \"AufDauerMittel\": 30.1}, {\"StichtagDatJahr\": \"2020-01-01T00:00:00\", \"AlterV20Kurz\": \"60-79\", \"AlterV20Sort\": 4, \"SexCd\": 1, \"SexKurz\": \"M\", \"HerkunftCd\": 2, \"HerkunftLang\": \"Ausl\\u00e4nder/in\", \"KreisCd\": 10, \"KreisLang\": \"Kreis 10\", \"AufDauerP25\": 14.55, \"AufDauerMedian\": 29.55, \"AufDauerP75\": 42.6, \"AufDauerMittel\": 28.9}, {\"StichtagDatJahr\": \"2020-01-01T00:00:00\", \"AlterV20Kurz\": \"60-79\", \"AlterV20Sort\": 4, \"SexCd\": 1, \"SexKurz\": \"M\", \"HerkunftCd\": 2, \"HerkunftLang\": \"Ausl\\u00e4nder/in\", \"KreisCd\": 11, \"KreisLang\": \"Kreis 11\", \"AufDauerP25\": 13.0, \"AufDauerMedian\": 28.7, \"AufDauerP75\": 39.8, \"AufDauerMittel\": 27.3}, {\"StichtagDatJahr\": \"2020-01-01T00:00:00\", \"AlterV20Kurz\": \"60-79\", \"AlterV20Sort\": 4, \"SexCd\": 1, \"SexKurz\": \"M\", \"HerkunftCd\": 2, \"HerkunftLang\": \"Ausl\\u00e4nder/in\", \"KreisCd\": 12, \"KreisLang\": \"Kreis 12\", \"AufDauerP25\": 13.9, \"AufDauerMedian\": 29.1, \"AufDauerP75\": 40.8, \"AufDauerMittel\": 28.1}, {\"StichtagDatJahr\": \"2020-01-01T00:00:00\", \"AlterV20Kurz\": \"80-99\", \"AlterV20Sort\": 5, \"SexCd\": 1, \"SexKurz\": \"M\", \"HerkunftCd\": 1, \"HerkunftLang\": \"Schweizer/in\", \"KreisCd\": 3, \"KreisLang\": \"Kreis 3\", \"AufDauerP25\": 46.8, \"AufDauerMedian\": 59.9, \"AufDauerP75\": 68.5, \"AufDauerMittel\": 56.4}, {\"StichtagDatJahr\": \"2020-01-01T00:00:00\", \"AlterV20Kurz\": \"80-99\", \"AlterV20Sort\": 5, \"SexCd\": 1, \"SexKurz\": \"M\", \"HerkunftCd\": 1, \"HerkunftLang\": \"Schweizer/in\", \"KreisCd\": 4, \"KreisLang\": \"Kreis 4\", \"AufDauerP25\": 34.2, \"AufDauerMedian\": 54.35, \"AufDauerP75\": 65.0, \"AufDauerMittel\": 49.9}, {\"StichtagDatJahr\": \"2020-01-01T00:00:00\", \"AlterV20Kurz\": \"80-99\", \"AlterV20Sort\": 5, \"SexCd\": 1, \"SexKurz\": \"M\", \"HerkunftCd\": 1, \"HerkunftLang\": \"Schweizer/in\", \"KreisCd\": 5, \"KreisLang\": \"Kreis 5\", \"AufDauerP25\": 29.6, \"AufDauerMedian\": 49.1, \"AufDauerP75\": 62.4, \"AufDauerMittel\": 46.6}, {\"StichtagDatJahr\": \"2020-01-01T00:00:00\", \"AlterV20Kurz\": \"80-99\", \"AlterV20Sort\": 5, \"SexCd\": 1, \"SexKurz\": \"M\", \"HerkunftCd\": 1, \"HerkunftLang\": \"Schweizer/in\", \"KreisCd\": 6, \"KreisLang\": \"Kreis 6\", \"AufDauerP25\": 38.2, \"AufDauerMedian\": 56.15, \"AufDauerP75\": 64.55, \"AufDauerMittel\": 52.3}, {\"StichtagDatJahr\": \"2020-01-01T00:00:00\", \"AlterV20Kurz\": \"80-99\", \"AlterV20Sort\": 5, \"SexCd\": 1, \"SexKurz\": \"M\", \"HerkunftCd\": 1, \"HerkunftLang\": \"Schweizer/in\", \"KreisCd\": 7, \"KreisLang\": \"Kreis 7\", \"AufDauerP25\": 34.7, \"AufDauerMedian\": 51.5, \"AufDauerP75\": 61.1, \"AufDauerMittel\": 47.5}, {\"StichtagDatJahr\": \"2020-01-01T00:00:00\", \"AlterV20Kurz\": \"80-99\", \"AlterV20Sort\": 5, \"SexCd\": 1, \"SexKurz\": \"M\", \"HerkunftCd\": 1, \"HerkunftLang\": \"Schweizer/in\", \"KreisCd\": 8, \"KreisLang\": \"Kreis 8\", \"AufDauerP25\": 26.55, \"AufDauerMedian\": 52.4, \"AufDauerP75\": 63.1, \"AufDauerMittel\": 47.0}, {\"StichtagDatJahr\": \"2020-01-01T00:00:00\", \"AlterV20Kurz\": \"80-99\", \"AlterV20Sort\": 5, \"SexCd\": 1, \"SexKurz\": \"M\", \"HerkunftCd\": 1, \"HerkunftLang\": \"Schweizer/in\", \"KreisCd\": 9, \"KreisLang\": \"Kreis 9\", \"AufDauerP25\": 46.8, \"AufDauerMedian\": 59.6, \"AufDauerP75\": 68.8, \"AufDauerMittel\": 56.7}, {\"StichtagDatJahr\": \"2020-01-01T00:00:00\", \"AlterV20Kurz\": \"80-99\", \"AlterV20Sort\": 5, \"SexCd\": 1, \"SexKurz\": \"M\", \"HerkunftCd\": 1, \"HerkunftLang\": \"Schweizer/in\", \"KreisCd\": 10, \"KreisLang\": \"Kreis 10\", \"AufDauerP25\": 36.2, \"AufDauerMedian\": 55.9, \"AufDauerP75\": 64.9, \"AufDauerMittel\": 51.6}, {\"StichtagDatJahr\": \"2020-01-01T00:00:00\", \"AlterV20Kurz\": \"80-99\", \"AlterV20Sort\": 5, \"SexCd\": 1, \"SexKurz\": \"M\", \"HerkunftCd\": 1, \"HerkunftLang\": \"Schweizer/in\", \"KreisCd\": 11, \"KreisLang\": \"Kreis 11\", \"AufDauerP25\": 44.7, \"AufDauerMedian\": 58.8, \"AufDauerP75\": 67.1, \"AufDauerMittel\": 55.2}, {\"StichtagDatJahr\": \"2020-01-01T00:00:00\", \"AlterV20Kurz\": \"80-99\", \"AlterV20Sort\": 5, \"SexCd\": 1, \"SexKurz\": \"M\", \"HerkunftCd\": 1, \"HerkunftLang\": \"Schweizer/in\", \"KreisCd\": 12, \"KreisLang\": \"Kreis 12\", \"AufDauerP25\": 49.5, \"AufDauerMedian\": 61.7, \"AufDauerP75\": 69.5, \"AufDauerMittel\": 58.1}, {\"StichtagDatJahr\": \"2020-01-01T00:00:00\", \"AlterV20Kurz\": \"80-99\", \"AlterV20Sort\": 5, \"SexCd\": 1, \"SexKurz\": \"M\", \"HerkunftCd\": 2, \"HerkunftLang\": \"Ausl\\u00e4nder/in\", \"KreisCd\": 3, \"KreisLang\": \"Kreis 3\", \"AufDauerP25\": 38.65, \"AufDauerMedian\": 51.05, \"AufDauerP75\": 56.7, \"AufDauerMittel\": 45.1}, {\"StichtagDatJahr\": \"2020-01-01T00:00:00\", \"AlterV20Kurz\": \"80-99\", \"AlterV20Sort\": 5, \"SexCd\": 1, \"SexKurz\": \"M\", \"HerkunftCd\": 2, \"HerkunftLang\": \"Ausl\\u00e4nder/in\", \"KreisCd\": 4, \"KreisLang\": \"Kreis 4\", \"AufDauerP25\": 40.2, \"AufDauerMedian\": 50.5, \"AufDauerP75\": 55.8, \"AufDauerMittel\": 46.8}, {\"StichtagDatJahr\": \"2020-01-01T00:00:00\", \"AlterV20Kurz\": \"80-99\", \"AlterV20Sort\": 5, \"SexCd\": 1, \"SexKurz\": \"M\", \"HerkunftCd\": 2, \"HerkunftLang\": \"Ausl\\u00e4nder/in\", \"KreisCd\": 5, \"KreisLang\": \"Kreis 5\", \"AufDauerP25\": 48.3, \"AufDauerMedian\": 52.0, \"AufDauerP75\": 55.6, \"AufDauerMittel\": 47.9}, {\"StichtagDatJahr\": \"2020-01-01T00:00:00\", \"AlterV20Kurz\": \"80-99\", \"AlterV20Sort\": 5, \"SexCd\": 1, \"SexKurz\": \"M\", \"HerkunftCd\": 2, \"HerkunftLang\": \"Ausl\\u00e4nder/in\", \"KreisCd\": 6, \"KreisLang\": \"Kreis 6\", \"AufDauerP25\": 35.1, \"AufDauerMedian\": 45.75, \"AufDauerP75\": 56.0, \"AufDauerMittel\": 43.0}, {\"StichtagDatJahr\": \"2020-01-01T00:00:00\", \"AlterV20Kurz\": \"80-99\", \"AlterV20Sort\": 5, \"SexCd\": 1, \"SexKurz\": \"M\", \"HerkunftCd\": 2, \"HerkunftLang\": \"Ausl\\u00e4nder/in\", \"KreisCd\": 7, \"KreisLang\": \"Kreis 7\", \"AufDauerP25\": 27.0, \"AufDauerMedian\": 44.35, \"AufDauerP75\": 57.0, \"AufDauerMittel\": 41.1}, {\"StichtagDatJahr\": \"2020-01-01T00:00:00\", \"AlterV20Kurz\": \"80-99\", \"AlterV20Sort\": 5, \"SexCd\": 1, \"SexKurz\": \"M\", \"HerkunftCd\": 2, \"HerkunftLang\": \"Ausl\\u00e4nder/in\", \"KreisCd\": 8, \"KreisLang\": \"Kreis 8\", \"AufDauerP25\": 26.15, \"AufDauerMedian\": 47.8, \"AufDauerP75\": 57.6, \"AufDauerMittel\": 41.2}, {\"StichtagDatJahr\": \"2020-01-01T00:00:00\", \"AlterV20Kurz\": \"80-99\", \"AlterV20Sort\": 5, \"SexCd\": 1, \"SexKurz\": \"M\", \"HerkunftCd\": 2, \"HerkunftLang\": \"Ausl\\u00e4nder/in\", \"KreisCd\": 9, \"KreisLang\": \"Kreis 9\", \"AufDauerP25\": 39.9, \"AufDauerMedian\": 50.8, \"AufDauerP75\": 57.4, \"AufDauerMittel\": 46.0}, {\"StichtagDatJahr\": \"2020-01-01T00:00:00\", \"AlterV20Kurz\": \"80-99\", \"AlterV20Sort\": 5, \"SexCd\": 1, \"SexKurz\": \"M\", \"HerkunftCd\": 2, \"HerkunftLang\": \"Ausl\\u00e4nder/in\", \"KreisCd\": 10, \"KreisLang\": \"Kreis 10\", \"AufDauerP25\": 29.3, \"AufDauerMedian\": 50.9, \"AufDauerP75\": 57.7, \"AufDauerMittel\": 43.3}, {\"StichtagDatJahr\": \"2020-01-01T00:00:00\", \"AlterV20Kurz\": \"80-99\", \"AlterV20Sort\": 5, \"SexCd\": 1, \"SexKurz\": \"M\", \"HerkunftCd\": 2, \"HerkunftLang\": \"Ausl\\u00e4nder/in\", \"KreisCd\": 11, \"KreisLang\": \"Kreis 11\", \"AufDauerP25\": 40.9, \"AufDauerMedian\": 52.3, \"AufDauerP75\": 58.2, \"AufDauerMittel\": 47.3}, {\"StichtagDatJahr\": \"2020-01-01T00:00:00\", \"AlterV20Kurz\": \"80-99\", \"AlterV20Sort\": 5, \"SexCd\": 1, \"SexKurz\": \"M\", \"HerkunftCd\": 2, \"HerkunftLang\": \"Ausl\\u00e4nder/in\", \"KreisCd\": 12, \"KreisLang\": \"Kreis 12\", \"AufDauerP25\": 36.8, \"AufDauerMedian\": 50.85, \"AufDauerP75\": 57.8, \"AufDauerMittel\": 45.8}, {\"StichtagDatJahr\": \"2020-01-01T00:00:00\", \"AlterV20Kurz\": \"100 u. \\u00e4lter\", \"AlterV20Sort\": 6, \"SexCd\": 1, \"SexKurz\": \"M\", \"HerkunftCd\": 1, \"HerkunftLang\": \"Schweizer/in\", \"KreisCd\": 3, \"KreisLang\": \"Kreis 3\", \"AufDauerP25\": 58.5, \"AufDauerMedian\": 69.8, \"AufDauerP75\": 81.4, \"AufDauerMittel\": 65.5}, {\"StichtagDatJahr\": \"2020-01-01T00:00:00\", \"AlterV20Kurz\": \"100 u. \\u00e4lter\", \"AlterV20Sort\": 6, \"SexCd\": 1, \"SexKurz\": \"M\", \"HerkunftCd\": 1, \"HerkunftLang\": \"Schweizer/in\", \"KreisCd\": 6, \"KreisLang\": \"Kreis 6\", \"AufDauerP25\": 53.2, \"AufDauerMedian\": 63.9, \"AufDauerP75\": 74.9, \"AufDauerMittel\": 64.0}, {\"StichtagDatJahr\": \"2020-01-01T00:00:00\", \"AlterV20Kurz\": \"100 u. \\u00e4lter\", \"AlterV20Sort\": 6, \"SexCd\": 1, \"SexKurz\": \"M\", \"HerkunftCd\": 1, \"HerkunftLang\": \"Schweizer/in\", \"KreisCd\": 7, \"KreisLang\": \"Kreis 7\", \"AufDauerP25\": 8.7, \"AufDauerMedian\": 32.45, \"AufDauerP75\": 56.2, \"AufDauerMittel\": 32.5}, {\"StichtagDatJahr\": \"2020-01-01T00:00:00\", \"AlterV20Kurz\": \"100 u. \\u00e4lter\", \"AlterV20Sort\": 6, \"SexCd\": 1, \"SexKurz\": \"M\", \"HerkunftCd\": 1, \"HerkunftLang\": \"Schweizer/in\", \"KreisCd\": 8, \"KreisLang\": \"Kreis 8\", \"AufDauerP25\": 33.5, \"AufDauerMedian\": 33.5, \"AufDauerP75\": 33.5, \"AufDauerMittel\": 33.5}, {\"StichtagDatJahr\": \"2020-01-01T00:00:00\", \"AlterV20Kurz\": \"100 u. \\u00e4lter\", \"AlterV20Sort\": 6, \"SexCd\": 1, \"SexKurz\": \"M\", \"HerkunftCd\": 1, \"HerkunftLang\": \"Schweizer/in\", \"KreisCd\": 10, \"KreisLang\": \"Kreis 10\", \"AufDauerP25\": 83.6, \"AufDauerMedian\": 84.15, \"AufDauerP75\": 84.7, \"AufDauerMittel\": 84.2}, {\"StichtagDatJahr\": \"2020-01-01T00:00:00\", \"AlterV20Kurz\": \"100 u. \\u00e4lter\", \"AlterV20Sort\": 6, \"SexCd\": 1, \"SexKurz\": \"M\", \"HerkunftCd\": 1, \"HerkunftLang\": \"Schweizer/in\", \"KreisCd\": 11, \"KreisLang\": \"Kreis 11\", \"AufDauerP25\": 58.9, \"AufDauerMedian\": 68.85, \"AufDauerP75\": 78.8, \"AufDauerMittel\": 68.9}, {\"StichtagDatJahr\": \"2020-01-01T00:00:00\", \"AlterV20Kurz\": \"100 u. \\u00e4lter\", \"AlterV20Sort\": 6, \"SexCd\": 1, \"SexKurz\": \"M\", \"HerkunftCd\": 1, \"HerkunftLang\": \"Schweizer/in\", \"KreisCd\": 12, \"KreisLang\": \"Kreis 12\", \"AufDauerP25\": 72.5, \"AufDauerMedian\": 87.35, \"AufDauerP75\": 102.2, \"AufDauerMittel\": 87.4}]}}, {\"mode\": \"vega-lite\"});\n",
       "</script>"
      ],
      "text/plain": [
       "alt.LayerChart(...)"
      ]
     },
     "execution_count": 33,
     "metadata": {},
     "output_type": "execute_result"
    }
   ],
   "source": [
    "# df_statzonen = df_statzonen[(df_statzonen.knr>0) & (df_statzonen.qname!=\"Hirslanden\")]\n",
    "#aktuellesJahr[[aktuellesJahr.KreisSort =7]])\n",
    "highlight = alt.selection(type='single', on='mouseover',\n",
    "                          fields=['AlterV20Kurz'], nearest=True)\n",
    "#x='date:StichtagDatJahr',\n",
    "base = alt.Chart(mySelection).encode(\n",
    "    x='KreisLang',\n",
    "    y='AufDauerMedian',\n",
    "    color='AlterV20Kurz'\n",
    ")\n",
    "\n",
    "points = base.mark_circle().encode(\n",
    "    opacity=alt.value(0)\n",
    ").add_selection(\n",
    "    highlight\n",
    ").properties(\n",
    "    width=700 , height=300\n",
    ")\n",
    "lines = base.mark_line().encode(\n",
    "    size=alt.condition(~highlight, alt.value(1.5), alt.value(4))\n",
    ").interactive()\n",
    "\n",
    "points + lines"
   ]
  },
  {
   "cell_type": "code",
   "execution_count": 34,
   "metadata": {},
   "outputs": [
    {
     "data": {
      "text/html": [
       "\n",
       "<div id=\"altair-viz-4a79c5ce584c460e864decbcfd44dc2f\"></div>\n",
       "<script type=\"text/javascript\">\n",
       "  (function(spec, embedOpt){\n",
       "    let outputDiv = document.currentScript.previousElementSibling;\n",
       "    if (outputDiv.id !== \"altair-viz-4a79c5ce584c460e864decbcfd44dc2f\") {\n",
       "      outputDiv = document.getElementById(\"altair-viz-4a79c5ce584c460e864decbcfd44dc2f\");\n",
       "    }\n",
       "    const paths = {\n",
       "      \"vega\": \"https://cdn.jsdelivr.net/npm//vega@5?noext\",\n",
       "      \"vega-lib\": \"https://cdn.jsdelivr.net/npm//vega-lib?noext\",\n",
       "      \"vega-lite\": \"https://cdn.jsdelivr.net/npm//vega-lite@4.8.1?noext\",\n",
       "      \"vega-embed\": \"https://cdn.jsdelivr.net/npm//vega-embed@6?noext\",\n",
       "    };\n",
       "\n",
       "    function loadScript(lib) {\n",
       "      return new Promise(function(resolve, reject) {\n",
       "        var s = document.createElement('script');\n",
       "        s.src = paths[lib];\n",
       "        s.async = true;\n",
       "        s.onload = () => resolve(paths[lib]);\n",
       "        s.onerror = () => reject(`Error loading script: ${paths[lib]}`);\n",
       "        document.getElementsByTagName(\"head\")[0].appendChild(s);\n",
       "      });\n",
       "    }\n",
       "\n",
       "    function showError(err) {\n",
       "      outputDiv.innerHTML = `<div class=\"error\" style=\"color:red;\">${err}</div>`;\n",
       "      throw err;\n",
       "    }\n",
       "\n",
       "    function displayChart(vegaEmbed) {\n",
       "      vegaEmbed(outputDiv, spec, embedOpt)\n",
       "        .catch(err => showError(`Javascript Error: ${err.message}<br>This usually means there's a typo in your chart specification. See the javascript console for the full traceback.`));\n",
       "    }\n",
       "\n",
       "    if(typeof define === \"function\" && define.amd) {\n",
       "      requirejs.config({paths});\n",
       "      require([\"vega-embed\"], displayChart, err => showError(`Error loading script: ${err.message}`));\n",
       "    } else if (typeof vegaEmbed === \"function\") {\n",
       "      displayChart(vegaEmbed);\n",
       "    } else {\n",
       "      loadScript(\"vega\")\n",
       "        .then(() => loadScript(\"vega-lite\"))\n",
       "        .then(() => loadScript(\"vega-embed\"))\n",
       "        .catch(showError)\n",
       "        .then(() => displayChart(vegaEmbed));\n",
       "    }\n",
       "  })({\"config\": {\"view\": {\"continuousWidth\": 400, \"continuousHeight\": 300}}, \"data\": {\"name\": \"data-66ac47c8d57695abddbbcc77315f972a\"}, \"mark\": {\"type\": \"circle\", \"size\": 60}, \"encoding\": {\"color\": {\"type\": \"quantitative\", \"field\": \"AufDauerMedian\"}, \"tooltip\": [{\"type\": \"nominal\", \"field\": \"KreisLang\"}, {\"type\": \"nominal\", \"field\": \"AlterV20Kurz\"}, {\"type\": \"quantitative\", \"field\": \"AufDauerMedian\"}], \"x\": {\"type\": \"nominal\", \"field\": \"KreisLang\"}, \"y\": {\"type\": \"nominal\", \"field\": \"AlterV20Kurz\"}}, \"selection\": {\"selector005\": {\"type\": \"interval\", \"bind\": \"scales\", \"encodings\": [\"x\", \"y\"]}}, \"$schema\": \"https://vega.github.io/schema/vega-lite/v4.8.1.json\", \"datasets\": {\"data-66ac47c8d57695abddbbcc77315f972a\": [{\"StichtagDatJahr\": \"2020-01-01T00:00:00\", \"AlterV20Kurz\": \"0-19\", \"AlterV20Sort\": 1, \"SexCd\": 1, \"SexKurz\": \"M\", \"HerkunftCd\": 1, \"HerkunftLang\": \"Schweizer/in\", \"KreisCd\": 1, \"KreisLang\": \"Kreis 1\", \"AufDauerP25\": 3.8, \"AufDauerMedian\": 8.8, \"AufDauerP75\": 13.1, \"AufDauerMittel\": 8.8}, {\"StichtagDatJahr\": \"2020-01-01T00:00:00\", \"AlterV20Kurz\": \"0-19\", \"AlterV20Sort\": 1, \"SexCd\": 1, \"SexKurz\": \"M\", \"HerkunftCd\": 1, \"HerkunftLang\": \"Schweizer/in\", \"KreisCd\": 2, \"KreisLang\": \"Kreis 2\", \"AufDauerP25\": 3.6, \"AufDauerMedian\": 7.9, \"AufDauerP75\": 12.8, \"AufDauerMittel\": 8.5}, {\"StichtagDatJahr\": \"2020-01-01T00:00:00\", \"AlterV20Kurz\": \"0-19\", \"AlterV20Sort\": 1, \"SexCd\": 1, \"SexKurz\": \"M\", \"HerkunftCd\": 1, \"HerkunftLang\": \"Schweizer/in\", \"KreisCd\": 3, \"KreisLang\": \"Kreis 3\", \"AufDauerP25\": 4.2, \"AufDauerMedian\": 8.6, \"AufDauerP75\": 13.2, \"AufDauerMittel\": 8.9}, {\"StichtagDatJahr\": \"2020-01-01T00:00:00\", \"AlterV20Kurz\": \"0-19\", \"AlterV20Sort\": 1, \"SexCd\": 1, \"SexKurz\": \"M\", \"HerkunftCd\": 1, \"HerkunftLang\": \"Schweizer/in\", \"KreisCd\": 4, \"KreisLang\": \"Kreis 4\", \"AufDauerP25\": 2.9, \"AufDauerMedian\": 7.3, \"AufDauerP75\": 12.6, \"AufDauerMittel\": 8.0}, {\"StichtagDatJahr\": \"2020-01-01T00:00:00\", \"AlterV20Kurz\": \"0-19\", \"AlterV20Sort\": 1, \"SexCd\": 1, \"SexKurz\": \"M\", \"HerkunftCd\": 1, \"HerkunftLang\": \"Schweizer/in\", \"KreisCd\": 5, \"KreisLang\": \"Kreis 5\", \"AufDauerP25\": 3.1, \"AufDauerMedian\": 7.2, \"AufDauerP75\": 13.0, \"AufDauerMittel\": 8.2}, {\"StichtagDatJahr\": \"2020-01-01T00:00:00\", \"AlterV20Kurz\": \"0-19\", \"AlterV20Sort\": 1, \"SexCd\": 1, \"SexKurz\": \"M\", \"HerkunftCd\": 1, \"HerkunftLang\": \"Schweizer/in\", \"KreisCd\": 6, \"KreisLang\": \"Kreis 6\", \"AufDauerP25\": 3.5, \"AufDauerMedian\": 8.3, \"AufDauerP75\": 13.1, \"AufDauerMittel\": 8.6}, {\"StichtagDatJahr\": \"2020-01-01T00:00:00\", \"AlterV20Kurz\": \"0-19\", \"AlterV20Sort\": 1, \"SexCd\": 1, \"SexKurz\": \"M\", \"HerkunftCd\": 1, \"HerkunftLang\": \"Schweizer/in\", \"KreisCd\": 7, \"KreisLang\": \"Kreis 7\", \"AufDauerP25\": 3.6, \"AufDauerMedian\": 8.3, \"AufDauerP75\": 13.3, \"AufDauerMittel\": 8.7}, {\"StichtagDatJahr\": \"2020-01-01T00:00:00\", \"AlterV20Kurz\": \"0-19\", \"AlterV20Sort\": 1, \"SexCd\": 1, \"SexKurz\": \"M\", \"HerkunftCd\": 1, \"HerkunftLang\": \"Schweizer/in\", \"KreisCd\": 8, \"KreisLang\": \"Kreis 8\", \"AufDauerP25\": 3.0, \"AufDauerMedian\": 7.7, \"AufDauerP75\": 13.2, \"AufDauerMittel\": 8.4}, {\"StichtagDatJahr\": \"2020-01-01T00:00:00\", \"AlterV20Kurz\": \"0-19\", \"AlterV20Sort\": 1, \"SexCd\": 1, \"SexKurz\": \"M\", \"HerkunftCd\": 1, \"HerkunftLang\": \"Schweizer/in\", \"KreisCd\": 9, \"KreisLang\": \"Kreis 9\", \"AufDauerP25\": 3.6, \"AufDauerMedian\": 7.8, \"AufDauerP75\": 13.2, \"AufDauerMittel\": 8.5}, {\"StichtagDatJahr\": \"2020-01-01T00:00:00\", \"AlterV20Kurz\": \"0-19\", \"AlterV20Sort\": 1, \"SexCd\": 1, \"SexKurz\": \"M\", \"HerkunftCd\": 1, \"HerkunftLang\": \"Schweizer/in\", \"KreisCd\": 10, \"KreisLang\": \"Kreis 10\", \"AufDauerP25\": 3.5, \"AufDauerMedian\": 7.7, \"AufDauerP75\": 13.0, \"AufDauerMittel\": 8.4}, {\"StichtagDatJahr\": \"2020-01-01T00:00:00\", \"AlterV20Kurz\": \"0-19\", \"AlterV20Sort\": 1, \"SexCd\": 1, \"SexKurz\": \"M\", \"HerkunftCd\": 1, \"HerkunftLang\": \"Schweizer/in\", \"KreisCd\": 11, \"KreisLang\": \"Kreis 11\", \"AufDauerP25\": 4.0, \"AufDauerMedian\": 8.6, \"AufDauerP75\": 13.4, \"AufDauerMittel\": 8.9}, {\"StichtagDatJahr\": \"2020-01-01T00:00:00\", \"AlterV20Kurz\": \"0-19\", \"AlterV20Sort\": 1, \"SexCd\": 1, \"SexKurz\": \"M\", \"HerkunftCd\": 1, \"HerkunftLang\": \"Schweizer/in\", \"KreisCd\": 12, \"KreisLang\": \"Kreis 12\", \"AufDauerP25\": 4.3, \"AufDauerMedian\": 8.9, \"AufDauerP75\": 14.3, \"AufDauerMittel\": 9.2}, {\"StichtagDatJahr\": \"2020-01-01T00:00:00\", \"AlterV20Kurz\": \"0-19\", \"AlterV20Sort\": 1, \"SexCd\": 1, \"SexKurz\": \"M\", \"HerkunftCd\": 2, \"HerkunftLang\": \"Ausl\\u00e4nder/in\", \"KreisCd\": 1, \"KreisLang\": \"Kreis 1\", \"AufDauerP25\": 0.3, \"AufDauerMedian\": 1.4, \"AufDauerP75\": 3.45, \"AufDauerMittel\": 2.6}, {\"StichtagDatJahr\": \"2020-01-01T00:00:00\", \"AlterV20Kurz\": \"0-19\", \"AlterV20Sort\": 1, \"SexCd\": 1, \"SexKurz\": \"M\", \"HerkunftCd\": 2, \"HerkunftLang\": \"Ausl\\u00e4nder/in\", \"KreisCd\": 2, \"KreisLang\": \"Kreis 2\", \"AufDauerP25\": 1.8, \"AufDauerMedian\": 3.7, \"AufDauerP75\": 6.7, \"AufDauerMittel\": 4.7}, {\"StichtagDatJahr\": \"2020-01-01T00:00:00\", \"AlterV20Kurz\": \"0-19\", \"AlterV20Sort\": 1, \"SexCd\": 1, \"SexKurz\": \"M\", \"HerkunftCd\": 2, \"HerkunftLang\": \"Ausl\\u00e4nder/in\", \"KreisCd\": 3, \"KreisLang\": \"Kreis 3\", \"AufDauerP25\": 2.2, \"AufDauerMedian\": 4.6, \"AufDauerP75\": 8.6, \"AufDauerMittel\": 5.9}, {\"StichtagDatJahr\": \"2020-01-01T00:00:00\", \"AlterV20Kurz\": \"0-19\", \"AlterV20Sort\": 1, \"SexCd\": 1, \"SexKurz\": \"M\", \"HerkunftCd\": 2, \"HerkunftLang\": \"Ausl\\u00e4nder/in\", \"KreisCd\": 4, \"KreisLang\": \"Kreis 4\", \"AufDauerP25\": 1.6, \"AufDauerMedian\": 4.5, \"AufDauerP75\": 9.0, \"AufDauerMittel\": 5.9}, {\"StichtagDatJahr\": \"2020-01-01T00:00:00\", \"AlterV20Kurz\": \"0-19\", \"AlterV20Sort\": 1, \"SexCd\": 1, \"SexKurz\": \"M\", \"HerkunftCd\": 2, \"HerkunftLang\": \"Ausl\\u00e4nder/in\", \"KreisCd\": 5, \"KreisLang\": \"Kreis 5\", \"AufDauerP25\": 1.6, \"AufDauerMedian\": 3.8, \"AufDauerP75\": 7.4, \"AufDauerMittel\": 5.1}, {\"StichtagDatJahr\": \"2020-01-01T00:00:00\", \"AlterV20Kurz\": \"0-19\", \"AlterV20Sort\": 1, \"SexCd\": 1, \"SexKurz\": \"M\", \"HerkunftCd\": 2, \"HerkunftLang\": \"Ausl\\u00e4nder/in\", \"KreisCd\": 6, \"KreisLang\": \"Kreis 6\", \"AufDauerP25\": 1.3, \"AufDauerMedian\": 3.5, \"AufDauerP75\": 7.0, \"AufDauerMittel\": 4.7}, {\"StichtagDatJahr\": \"2020-01-01T00:00:00\", \"AlterV20Kurz\": \"0-19\", \"AlterV20Sort\": 1, \"SexCd\": 1, \"SexKurz\": \"M\", \"HerkunftCd\": 2, \"HerkunftLang\": \"Ausl\\u00e4nder/in\", \"KreisCd\": 7, \"KreisLang\": \"Kreis 7\", \"AufDauerP25\": 1.5, \"AufDauerMedian\": 3.4, \"AufDauerP75\": 6.7, \"AufDauerMittel\": 4.6}, {\"StichtagDatJahr\": \"2020-01-01T00:00:00\", \"AlterV20Kurz\": \"0-19\", \"AlterV20Sort\": 1, \"SexCd\": 1, \"SexKurz\": \"M\", \"HerkunftCd\": 2, \"HerkunftLang\": \"Ausl\\u00e4nder/in\", \"KreisCd\": 8, \"KreisLang\": \"Kreis 8\", \"AufDauerP25\": 1.3, \"AufDauerMedian\": 2.85, \"AufDauerP75\": 6.1, \"AufDauerMittel\": 4.3}, {\"StichtagDatJahr\": \"2020-01-01T00:00:00\", \"AlterV20Kurz\": \"0-19\", \"AlterV20Sort\": 1, \"SexCd\": 1, \"SexKurz\": \"M\", \"HerkunftCd\": 2, \"HerkunftLang\": \"Ausl\\u00e4nder/in\", \"KreisCd\": 9, \"KreisLang\": \"Kreis 9\", \"AufDauerP25\": 1.8, \"AufDauerMedian\": 4.4, \"AufDauerP75\": 8.8, \"AufDauerMittel\": 5.8}, {\"StichtagDatJahr\": \"2020-01-01T00:00:00\", \"AlterV20Kurz\": \"0-19\", \"AlterV20Sort\": 1, \"SexCd\": 1, \"SexKurz\": \"M\", \"HerkunftCd\": 2, \"HerkunftLang\": \"Ausl\\u00e4nder/in\", \"KreisCd\": 10, \"KreisLang\": \"Kreis 10\", \"AufDauerP25\": 1.5, \"AufDauerMedian\": 3.7, \"AufDauerP75\": 7.4, \"AufDauerMittel\": 5.0}, {\"StichtagDatJahr\": \"2020-01-01T00:00:00\", \"AlterV20Kurz\": \"0-19\", \"AlterV20Sort\": 1, \"SexCd\": 1, \"SexKurz\": \"M\", \"HerkunftCd\": 2, \"HerkunftLang\": \"Ausl\\u00e4nder/in\", \"KreisCd\": 11, \"KreisLang\": \"Kreis 11\", \"AufDauerP25\": 2.0, \"AufDauerMedian\": 4.5, \"AufDauerP75\": 8.4, \"AufDauerMittel\": 5.7}, {\"StichtagDatJahr\": \"2020-01-01T00:00:00\", \"AlterV20Kurz\": \"0-19\", \"AlterV20Sort\": 1, \"SexCd\": 1, \"SexKurz\": \"M\", \"HerkunftCd\": 2, \"HerkunftLang\": \"Ausl\\u00e4nder/in\", \"KreisCd\": 12, \"KreisLang\": \"Kreis 12\", \"AufDauerP25\": 2.2, \"AufDauerMedian\": 5.0, \"AufDauerP75\": 8.8, \"AufDauerMittel\": 6.1}, {\"StichtagDatJahr\": \"2020-01-01T00:00:00\", \"AlterV20Kurz\": \"0-19\", \"AlterV20Sort\": 1, \"SexCd\": 2, \"SexKurz\": \"W\", \"HerkunftCd\": 1, \"HerkunftLang\": \"Schweizer/in\", \"KreisCd\": 1, \"KreisLang\": \"Kreis 1\", \"AufDauerP25\": 3.4, \"AufDauerMedian\": 7.4, \"AufDauerP75\": 13.2, \"AufDauerMittel\": 8.4}, {\"StichtagDatJahr\": \"2020-01-01T00:00:00\", \"AlterV20Kurz\": \"0-19\", \"AlterV20Sort\": 1, \"SexCd\": 2, \"SexKurz\": \"W\", \"HerkunftCd\": 1, \"HerkunftLang\": \"Schweizer/in\", \"KreisCd\": 2, \"KreisLang\": \"Kreis 2\", \"AufDauerP25\": 3.4, \"AufDauerMedian\": 7.7, \"AufDauerP75\": 12.9, \"AufDauerMittel\": 8.4}, {\"StichtagDatJahr\": \"2020-01-01T00:00:00\", \"AlterV20Kurz\": \"0-19\", \"AlterV20Sort\": 1, \"SexCd\": 2, \"SexKurz\": \"W\", \"HerkunftCd\": 1, \"HerkunftLang\": \"Schweizer/in\", \"KreisCd\": 3, \"KreisLang\": \"Kreis 3\", \"AufDauerP25\": 4.1, \"AufDauerMedian\": 8.6, \"AufDauerP75\": 13.3, \"AufDauerMittel\": 8.9}, {\"StichtagDatJahr\": \"2020-01-01T00:00:00\", \"AlterV20Kurz\": \"0-19\", \"AlterV20Sort\": 1, \"SexCd\": 2, \"SexKurz\": \"W\", \"HerkunftCd\": 1, \"HerkunftLang\": \"Schweizer/in\", \"KreisCd\": 4, \"KreisLang\": \"Kreis 4\", \"AufDauerP25\": 2.8, \"AufDauerMedian\": 7.2, \"AufDauerP75\": 12.6, \"AufDauerMittel\": 8.0}, {\"StichtagDatJahr\": \"2020-01-01T00:00:00\", \"AlterV20Kurz\": \"0-19\", \"AlterV20Sort\": 1, \"SexCd\": 2, \"SexKurz\": \"W\", \"HerkunftCd\": 1, \"HerkunftLang\": \"Schweizer/in\", \"KreisCd\": 5, \"KreisLang\": \"Kreis 5\", \"AufDauerP25\": 3.4, \"AufDauerMedian\": 7.65, \"AufDauerP75\": 12.9, \"AufDauerMittel\": 8.3}, {\"StichtagDatJahr\": \"2020-01-01T00:00:00\", \"AlterV20Kurz\": \"0-19\", \"AlterV20Sort\": 1, \"SexCd\": 2, \"SexKurz\": \"W\", \"HerkunftCd\": 1, \"HerkunftLang\": \"Schweizer/in\", \"KreisCd\": 6, \"KreisLang\": \"Kreis 6\", \"AufDauerP25\": 4.0, \"AufDauerMedian\": 8.3, \"AufDauerP75\": 13.2, \"AufDauerMittel\": 8.7}, {\"StichtagDatJahr\": \"2020-01-01T00:00:00\", \"AlterV20Kurz\": \"0-19\", \"AlterV20Sort\": 1, \"SexCd\": 2, \"SexKurz\": \"W\", \"HerkunftCd\": 1, \"HerkunftLang\": \"Schweizer/in\", \"KreisCd\": 7, \"KreisLang\": \"Kreis 7\", \"AufDauerP25\": 3.9, \"AufDauerMedian\": 8.7, \"AufDauerP75\": 13.2, \"AufDauerMittel\": 8.8}, {\"StichtagDatJahr\": \"2020-01-01T00:00:00\", \"AlterV20Kurz\": \"0-19\", \"AlterV20Sort\": 1, \"SexCd\": 2, \"SexKurz\": \"W\", \"HerkunftCd\": 1, \"HerkunftLang\": \"Schweizer/in\", \"KreisCd\": 8, \"KreisLang\": \"Kreis 8\", \"AufDauerP25\": 2.7, \"AufDauerMedian\": 7.3, \"AufDauerP75\": 13.5, \"AufDauerMittel\": 8.2}, {\"StichtagDatJahr\": \"2020-01-01T00:00:00\", \"AlterV20Kurz\": \"0-19\", \"AlterV20Sort\": 1, \"SexCd\": 2, \"SexKurz\": \"W\", \"HerkunftCd\": 1, \"HerkunftLang\": \"Schweizer/in\", \"KreisCd\": 9, \"KreisLang\": \"Kreis 9\", \"AufDauerP25\": 3.6, \"AufDauerMedian\": 8.0, \"AufDauerP75\": 12.9, \"AufDauerMittel\": 8.5}, {\"StichtagDatJahr\": \"2020-01-01T00:00:00\", \"AlterV20Kurz\": \"0-19\", \"AlterV20Sort\": 1, \"SexCd\": 2, \"SexKurz\": \"W\", \"HerkunftCd\": 1, \"HerkunftLang\": \"Schweizer/in\", \"KreisCd\": 10, \"KreisLang\": \"Kreis 10\", \"AufDauerP25\": 3.4, \"AufDauerMedian\": 7.7, \"AufDauerP75\": 12.9, \"AufDauerMittel\": 8.4}, {\"StichtagDatJahr\": \"2020-01-01T00:00:00\", \"AlterV20Kurz\": \"0-19\", \"AlterV20Sort\": 1, \"SexCd\": 2, \"SexKurz\": \"W\", \"HerkunftCd\": 1, \"HerkunftLang\": \"Schweizer/in\", \"KreisCd\": 11, \"KreisLang\": \"Kreis 11\", \"AufDauerP25\": 4.0, \"AufDauerMedian\": 8.6, \"AufDauerP75\": 13.5, \"AufDauerMittel\": 9.0}, {\"StichtagDatJahr\": \"2020-01-01T00:00:00\", \"AlterV20Kurz\": \"0-19\", \"AlterV20Sort\": 1, \"SexCd\": 2, \"SexKurz\": \"W\", \"HerkunftCd\": 1, \"HerkunftLang\": \"Schweizer/in\", \"KreisCd\": 12, \"KreisLang\": \"Kreis 12\", \"AufDauerP25\": 3.8, \"AufDauerMedian\": 8.4, \"AufDauerP75\": 14.1, \"AufDauerMittel\": 9.0}, {\"StichtagDatJahr\": \"2020-01-01T00:00:00\", \"AlterV20Kurz\": \"0-19\", \"AlterV20Sort\": 1, \"SexCd\": 2, \"SexKurz\": \"W\", \"HerkunftCd\": 2, \"HerkunftLang\": \"Ausl\\u00e4nder/in\", \"KreisCd\": 1, \"KreisLang\": \"Kreis 1\", \"AufDauerP25\": 0.75, \"AufDauerMedian\": 2.4, \"AufDauerP75\": 6.45, \"AufDauerMittel\": 4.2}, {\"StichtagDatJahr\": \"2020-01-01T00:00:00\", \"AlterV20Kurz\": \"0-19\", \"AlterV20Sort\": 1, \"SexCd\": 2, \"SexKurz\": \"W\", \"HerkunftCd\": 2, \"HerkunftLang\": \"Ausl\\u00e4nder/in\", \"KreisCd\": 2, \"KreisLang\": \"Kreis 2\", \"AufDauerP25\": 1.5, \"AufDauerMedian\": 3.3, \"AufDauerP75\": 6.0, \"AufDauerMittel\": 4.3}, {\"StichtagDatJahr\": \"2020-01-01T00:00:00\", \"AlterV20Kurz\": \"0-19\", \"AlterV20Sort\": 1, \"SexCd\": 2, \"SexKurz\": \"W\", \"HerkunftCd\": 2, \"HerkunftLang\": \"Ausl\\u00e4nder/in\", \"KreisCd\": 3, \"KreisLang\": \"Kreis 3\", \"AufDauerP25\": 1.8, \"AufDauerMedian\": 4.5, \"AufDauerP75\": 8.45, \"AufDauerMittel\": 5.6}, {\"StichtagDatJahr\": \"2020-01-01T00:00:00\", \"AlterV20Kurz\": \"0-19\", \"AlterV20Sort\": 1, \"SexCd\": 2, \"SexKurz\": \"W\", \"HerkunftCd\": 2, \"HerkunftLang\": \"Ausl\\u00e4nder/in\", \"KreisCd\": 4, \"KreisLang\": \"Kreis 4\", \"AufDauerP25\": 2.7, \"AufDauerMedian\": 5.6, \"AufDauerP75\": 10.3, \"AufDauerMittel\": 6.7}, {\"StichtagDatJahr\": \"2020-01-01T00:00:00\", \"AlterV20Kurz\": \"0-19\", \"AlterV20Sort\": 1, \"SexCd\": 2, \"SexKurz\": \"W\", \"HerkunftCd\": 2, \"HerkunftLang\": \"Ausl\\u00e4nder/in\", \"KreisCd\": 5, \"KreisLang\": \"Kreis 5\", \"AufDauerP25\": 1.7, \"AufDauerMedian\": 3.8, \"AufDauerP75\": 7.85, \"AufDauerMittel\": 5.3}, {\"StichtagDatJahr\": \"2020-01-01T00:00:00\", \"AlterV20Kurz\": \"0-19\", \"AlterV20Sort\": 1, \"SexCd\": 2, \"SexKurz\": \"W\", \"HerkunftCd\": 2, \"HerkunftLang\": \"Ausl\\u00e4nder/in\", \"KreisCd\": 6, \"KreisLang\": \"Kreis 6\", \"AufDauerP25\": 1.3, \"AufDauerMedian\": 3.55, \"AufDauerP75\": 6.85, \"AufDauerMittel\": 4.6}, {\"StichtagDatJahr\": \"2020-01-01T00:00:00\", \"AlterV20Kurz\": \"0-19\", \"AlterV20Sort\": 1, \"SexCd\": 2, \"SexKurz\": \"W\", \"HerkunftCd\": 2, \"HerkunftLang\": \"Ausl\\u00e4nder/in\", \"KreisCd\": 7, \"KreisLang\": \"Kreis 7\", \"AufDauerP25\": 1.7, \"AufDauerMedian\": 3.8, \"AufDauerP75\": 6.7, \"AufDauerMittel\": 4.7}, {\"StichtagDatJahr\": \"2020-01-01T00:00:00\", \"AlterV20Kurz\": \"0-19\", \"AlterV20Sort\": 1, \"SexCd\": 2, \"SexKurz\": \"W\", \"HerkunftCd\": 2, \"HerkunftLang\": \"Ausl\\u00e4nder/in\", \"KreisCd\": 8, \"KreisLang\": \"Kreis 8\", \"AufDauerP25\": 0.9, \"AufDauerMedian\": 2.5, \"AufDauerP75\": 5.0, \"AufDauerMittel\": 3.5}, {\"StichtagDatJahr\": \"2020-01-01T00:00:00\", \"AlterV20Kurz\": \"0-19\", \"AlterV20Sort\": 1, \"SexCd\": 2, \"SexKurz\": \"W\", \"HerkunftCd\": 2, \"HerkunftLang\": \"Ausl\\u00e4nder/in\", \"KreisCd\": 9, \"KreisLang\": \"Kreis 9\", \"AufDauerP25\": 1.8, \"AufDauerMedian\": 4.3, \"AufDauerP75\": 8.4, \"AufDauerMittel\": 5.6}, {\"StichtagDatJahr\": \"2020-01-01T00:00:00\", \"AlterV20Kurz\": \"0-19\", \"AlterV20Sort\": 1, \"SexCd\": 2, \"SexKurz\": \"W\", \"HerkunftCd\": 2, \"HerkunftLang\": \"Ausl\\u00e4nder/in\", \"KreisCd\": 10, \"KreisLang\": \"Kreis 10\", \"AufDauerP25\": 2.0, \"AufDauerMedian\": 4.4, \"AufDauerP75\": 7.7, \"AufDauerMittel\": 5.4}, {\"StichtagDatJahr\": \"2020-01-01T00:00:00\", \"AlterV20Kurz\": \"0-19\", \"AlterV20Sort\": 1, \"SexCd\": 2, \"SexKurz\": \"W\", \"HerkunftCd\": 2, \"HerkunftLang\": \"Ausl\\u00e4nder/in\", \"KreisCd\": 11, \"KreisLang\": \"Kreis 11\", \"AufDauerP25\": 1.9, \"AufDauerMedian\": 4.4, \"AufDauerP75\": 8.0, \"AufDauerMittel\": 5.5}, {\"StichtagDatJahr\": \"2020-01-01T00:00:00\", \"AlterV20Kurz\": \"0-19\", \"AlterV20Sort\": 1, \"SexCd\": 2, \"SexKurz\": \"W\", \"HerkunftCd\": 2, \"HerkunftLang\": \"Ausl\\u00e4nder/in\", \"KreisCd\": 12, \"KreisLang\": \"Kreis 12\", \"AufDauerP25\": 2.4, \"AufDauerMedian\": 5.1, \"AufDauerP75\": 9.3, \"AufDauerMittel\": 6.4}, {\"StichtagDatJahr\": \"2020-01-01T00:00:00\", \"AlterV20Kurz\": \"20-39\", \"AlterV20Sort\": 2, \"SexCd\": 1, \"SexKurz\": \"M\", \"HerkunftCd\": 1, \"HerkunftLang\": \"Schweizer/in\", \"KreisCd\": 1, \"KreisLang\": \"Kreis 1\", \"AufDauerP25\": 1.9, \"AufDauerMedian\": 5.2, \"AufDauerP75\": 20.0, \"AufDauerMittel\": 10.5}, {\"StichtagDatJahr\": \"2020-01-01T00:00:00\", \"AlterV20Kurz\": \"20-39\", \"AlterV20Sort\": 2, \"SexCd\": 1, \"SexKurz\": \"M\", \"HerkunftCd\": 1, \"HerkunftLang\": \"Schweizer/in\", \"KreisCd\": 2, \"KreisLang\": \"Kreis 2\", \"AufDauerP25\": 3.3, \"AufDauerMedian\": 10.2, \"AufDauerP75\": 22.9, \"AufDauerMittel\": 13.6}, {\"StichtagDatJahr\": \"2020-01-01T00:00:00\", \"AlterV20Kurz\": \"20-39\", \"AlterV20Sort\": 2, \"SexCd\": 1, \"SexKurz\": \"M\", \"HerkunftCd\": 1, \"HerkunftLang\": \"Schweizer/in\", \"KreisCd\": 3, \"KreisLang\": \"Kreis 3\", \"AufDauerP25\": 3.5, \"AufDauerMedian\": 10.4, \"AufDauerP75\": 23.05, \"AufDauerMittel\": 13.7}, {\"StichtagDatJahr\": \"2020-01-01T00:00:00\", \"AlterV20Kurz\": \"20-39\", \"AlterV20Sort\": 2, \"SexCd\": 1, \"SexKurz\": \"M\", \"HerkunftCd\": 1, \"HerkunftLang\": \"Schweizer/in\", \"KreisCd\": 4, \"KreisLang\": \"Kreis 4\", \"AufDauerP25\": 2.8, \"AufDauerMedian\": 7.2, \"AufDauerP75\": 20.4, \"AufDauerMittel\": 11.5}, {\"StichtagDatJahr\": \"2020-01-01T00:00:00\", \"AlterV20Kurz\": \"20-39\", \"AlterV20Sort\": 2, \"SexCd\": 1, \"SexKurz\": \"M\", \"HerkunftCd\": 1, \"HerkunftLang\": \"Schweizer/in\", \"KreisCd\": 5, \"KreisLang\": \"Kreis 5\", \"AufDauerP25\": 2.4, \"AufDauerMedian\": 6.6, \"AufDauerP75\": 16.2, \"AufDauerMittel\": 10.6}, {\"StichtagDatJahr\": \"2020-01-01T00:00:00\", \"AlterV20Kurz\": \"20-39\", \"AlterV20Sort\": 2, \"SexCd\": 1, \"SexKurz\": \"M\", \"HerkunftCd\": 1, \"HerkunftLang\": \"Schweizer/in\", \"KreisCd\": 6, \"KreisLang\": \"Kreis 6\", \"AufDauerP25\": 3.0, \"AufDauerMedian\": 9.3, \"AufDauerP75\": 22.8, \"AufDauerMittel\": 13.0}, {\"StichtagDatJahr\": \"2020-01-01T00:00:00\", \"AlterV20Kurz\": \"20-39\", \"AlterV20Sort\": 2, \"SexCd\": 1, \"SexKurz\": \"M\", \"HerkunftCd\": 1, \"HerkunftLang\": \"Schweizer/in\", \"KreisCd\": 7, \"KreisLang\": \"Kreis 7\", \"AufDauerP25\": 2.9, \"AufDauerMedian\": 8.7, \"AufDauerP75\": 22.4, \"AufDauerMittel\": 12.8}, {\"StichtagDatJahr\": \"2020-01-01T00:00:00\", \"AlterV20Kurz\": \"20-39\", \"AlterV20Sort\": 2, \"SexCd\": 1, \"SexKurz\": \"M\", \"HerkunftCd\": 1, \"HerkunftLang\": \"Schweizer/in\", \"KreisCd\": 8, \"KreisLang\": \"Kreis 8\", \"AufDauerP25\": 2.3, \"AufDauerMedian\": 6.5, \"AufDauerP75\": 19.05, \"AufDauerMittel\": 10.8}, {\"StichtagDatJahr\": \"2020-01-01T00:00:00\", \"AlterV20Kurz\": \"20-39\", \"AlterV20Sort\": 2, \"SexCd\": 1, \"SexKurz\": \"M\", \"HerkunftCd\": 1, \"HerkunftLang\": \"Schweizer/in\", \"KreisCd\": 9, \"KreisLang\": \"Kreis 9\", \"AufDauerP25\": 3.9, \"AufDauerMedian\": 11.85, \"AufDauerP75\": 25.1, \"AufDauerMittel\": 14.9}, {\"StichtagDatJahr\": \"2020-01-01T00:00:00\", \"AlterV20Kurz\": \"20-39\", \"AlterV20Sort\": 2, \"SexCd\": 1, \"SexKurz\": \"M\", \"HerkunftCd\": 1, \"HerkunftLang\": \"Schweizer/in\", \"KreisCd\": 10, \"KreisLang\": \"Kreis 10\", \"AufDauerP25\": 3.6, \"AufDauerMedian\": 9.8, \"AufDauerP75\": 23.4, \"AufDauerMittel\": 13.7}, {\"StichtagDatJahr\": \"2020-01-01T00:00:00\", \"AlterV20Kurz\": \"20-39\", \"AlterV20Sort\": 2, \"SexCd\": 1, \"SexKurz\": \"M\", \"HerkunftCd\": 1, \"HerkunftLang\": \"Schweizer/in\", \"KreisCd\": 11, \"KreisLang\": \"Kreis 11\", \"AufDauerP25\": 3.5, \"AufDauerMedian\": 11.5, \"AufDauerP75\": 24.0, \"AufDauerMittel\": 14.3}, {\"StichtagDatJahr\": \"2020-01-01T00:00:00\", \"AlterV20Kurz\": \"20-39\", \"AlterV20Sort\": 2, \"SexCd\": 1, \"SexKurz\": \"M\", \"HerkunftCd\": 1, \"HerkunftLang\": \"Schweizer/in\", \"KreisCd\": 12, \"KreisLang\": \"Kreis 12\", \"AufDauerP25\": 3.4, \"AufDauerMedian\": 11.4, \"AufDauerP75\": 23.6, \"AufDauerMittel\": 14.2}, {\"StichtagDatJahr\": \"2020-01-01T00:00:00\", \"AlterV20Kurz\": \"20-39\", \"AlterV20Sort\": 2, \"SexCd\": 1, \"SexKurz\": \"M\", \"HerkunftCd\": 2, \"HerkunftLang\": \"Ausl\\u00e4nder/in\", \"KreisCd\": 1, \"KreisLang\": \"Kreis 1\", \"AufDauerP25\": 1.1, \"AufDauerMedian\": 2.4, \"AufDauerP75\": 4.9, \"AufDauerMittel\": 3.7}, {\"StichtagDatJahr\": \"2020-01-01T00:00:00\", \"AlterV20Kurz\": \"20-39\", \"AlterV20Sort\": 2, \"SexCd\": 1, \"SexKurz\": \"M\", \"HerkunftCd\": 2, \"HerkunftLang\": \"Ausl\\u00e4nder/in\", \"KreisCd\": 2, \"KreisLang\": \"Kreis 2\", \"AufDauerP25\": 1.6, \"AufDauerMedian\": 3.5, \"AufDauerP75\": 6.5, \"AufDauerMittel\": 4.9}, {\"StichtagDatJahr\": \"2020-01-01T00:00:00\", \"AlterV20Kurz\": \"20-39\", \"AlterV20Sort\": 2, \"SexCd\": 1, \"SexKurz\": \"M\", \"HerkunftCd\": 2, \"HerkunftLang\": \"Ausl\\u00e4nder/in\", \"KreisCd\": 3, \"KreisLang\": \"Kreis 3\", \"AufDauerP25\": 1.8, \"AufDauerMedian\": 4.0, \"AufDauerP75\": 7.55, \"AufDauerMittel\": 5.8}, {\"StichtagDatJahr\": \"2020-01-01T00:00:00\", \"AlterV20Kurz\": \"20-39\", \"AlterV20Sort\": 2, \"SexCd\": 1, \"SexKurz\": \"M\", \"HerkunftCd\": 2, \"HerkunftLang\": \"Ausl\\u00e4nder/in\", \"KreisCd\": 4, \"KreisLang\": \"Kreis 4\", \"AufDauerP25\": 1.5, \"AufDauerMedian\": 3.8, \"AufDauerP75\": 7.3, \"AufDauerMittel\": 5.6}, {\"StichtagDatJahr\": \"2020-01-01T00:00:00\", \"AlterV20Kurz\": \"20-39\", \"AlterV20Sort\": 2, \"SexCd\": 1, \"SexKurz\": \"M\", \"HerkunftCd\": 2, \"HerkunftLang\": \"Ausl\\u00e4nder/in\", \"KreisCd\": 5, \"KreisLang\": \"Kreis 5\", \"AufDauerP25\": 1.5, \"AufDauerMedian\": 3.5, \"AufDauerP75\": 6.4, \"AufDauerMittel\": 5.0}, {\"StichtagDatJahr\": \"2020-01-01T00:00:00\", \"AlterV20Kurz\": \"20-39\", \"AlterV20Sort\": 2, \"SexCd\": 1, \"SexKurz\": \"M\", \"HerkunftCd\": 2, \"HerkunftLang\": \"Ausl\\u00e4nder/in\", \"KreisCd\": 6, \"KreisLang\": \"Kreis 6\", \"AufDauerP25\": 1.5, \"AufDauerMedian\": 3.5, \"AufDauerP75\": 7.0, \"AufDauerMittel\": 5.0}, {\"StichtagDatJahr\": \"2020-01-01T00:00:00\", \"AlterV20Kurz\": \"20-39\", \"AlterV20Sort\": 2, \"SexCd\": 1, \"SexKurz\": \"M\", \"HerkunftCd\": 2, \"HerkunftLang\": \"Ausl\\u00e4nder/in\", \"KreisCd\": 7, \"KreisLang\": \"Kreis 7\", \"AufDauerP25\": 1.4, \"AufDauerMedian\": 3.3, \"AufDauerP75\": 6.3, \"AufDauerMittel\": 4.4}, {\"StichtagDatJahr\": \"2020-01-01T00:00:00\", \"AlterV20Kurz\": \"20-39\", \"AlterV20Sort\": 2, \"SexCd\": 1, \"SexKurz\": \"M\", \"HerkunftCd\": 2, \"HerkunftLang\": \"Ausl\\u00e4nder/in\", \"KreisCd\": 8, \"KreisLang\": \"Kreis 8\", \"AufDauerP25\": 1.3, \"AufDauerMedian\": 3.0, \"AufDauerP75\": 5.6, \"AufDauerMittel\": 4.1}, {\"StichtagDatJahr\": \"2020-01-01T00:00:00\", \"AlterV20Kurz\": \"20-39\", \"AlterV20Sort\": 2, \"SexCd\": 1, \"SexKurz\": \"M\", \"HerkunftCd\": 2, \"HerkunftLang\": \"Ausl\\u00e4nder/in\", \"KreisCd\": 9, \"KreisLang\": \"Kreis 9\", \"AufDauerP25\": 2.0, \"AufDauerMedian\": 4.3, \"AufDauerP75\": 8.2, \"AufDauerMittel\": 6.3}, {\"StichtagDatJahr\": \"2020-01-01T00:00:00\", \"AlterV20Kurz\": \"20-39\", \"AlterV20Sort\": 2, \"SexCd\": 1, \"SexKurz\": \"M\", \"HerkunftCd\": 2, \"HerkunftLang\": \"Ausl\\u00e4nder/in\", \"KreisCd\": 10, \"KreisLang\": \"Kreis 10\", \"AufDauerP25\": 1.9, \"AufDauerMedian\": 4.2, \"AufDauerP75\": 7.5, \"AufDauerMittel\": 5.6}, {\"StichtagDatJahr\": \"2020-01-01T00:00:00\", \"AlterV20Kurz\": \"20-39\", \"AlterV20Sort\": 2, \"SexCd\": 1, \"SexKurz\": \"M\", \"HerkunftCd\": 2, \"HerkunftLang\": \"Ausl\\u00e4nder/in\", \"KreisCd\": 11, \"KreisLang\": \"Kreis 11\", \"AufDauerP25\": 1.8, \"AufDauerMedian\": 4.3, \"AufDauerP75\": 8.2, \"AufDauerMittel\": 6.3}, {\"StichtagDatJahr\": \"2020-01-01T00:00:00\", \"AlterV20Kurz\": \"20-39\", \"AlterV20Sort\": 2, \"SexCd\": 1, \"SexKurz\": \"M\", \"HerkunftCd\": 2, \"HerkunftLang\": \"Ausl\\u00e4nder/in\", \"KreisCd\": 12, \"KreisLang\": \"Kreis 12\", \"AufDauerP25\": 1.8, \"AufDauerMedian\": 4.3, \"AufDauerP75\": 8.5, \"AufDauerMittel\": 6.5}, {\"StichtagDatJahr\": \"2020-01-01T00:00:00\", \"AlterV20Kurz\": \"20-39\", \"AlterV20Sort\": 2, \"SexCd\": 2, \"SexKurz\": \"W\", \"HerkunftCd\": 1, \"HerkunftLang\": \"Schweizer/in\", \"KreisCd\": 1, \"KreisLang\": \"Kreis 1\", \"AufDauerP25\": 1.8, \"AufDauerMedian\": 5.1, \"AufDauerP75\": 14.6, \"AufDauerMittel\": 9.8}, {\"StichtagDatJahr\": \"2020-01-01T00:00:00\", \"AlterV20Kurz\": \"20-39\", \"AlterV20Sort\": 2, \"SexCd\": 2, \"SexKurz\": \"W\", \"HerkunftCd\": 1, \"HerkunftLang\": \"Schweizer/in\", \"KreisCd\": 2, \"KreisLang\": \"Kreis 2\", \"AufDauerP25\": 3.3, \"AufDauerMedian\": 9.4, \"AufDauerP75\": 21.6, \"AufDauerMittel\": 12.6}, {\"StichtagDatJahr\": \"2020-01-01T00:00:00\", \"AlterV20Kurz\": \"20-39\", \"AlterV20Sort\": 2, \"SexCd\": 2, \"SexKurz\": \"W\", \"HerkunftCd\": 1, \"HerkunftLang\": \"Schweizer/in\", \"KreisCd\": 3, \"KreisLang\": \"Kreis 3\", \"AufDauerP25\": 3.4, \"AufDauerMedian\": 9.5, \"AufDauerP75\": 22.0, \"AufDauerMittel\": 12.9}, {\"StichtagDatJahr\": \"2020-01-01T00:00:00\", \"AlterV20Kurz\": \"20-39\", \"AlterV20Sort\": 2, \"SexCd\": 2, \"SexKurz\": \"W\", \"HerkunftCd\": 1, \"HerkunftLang\": \"Schweizer/in\", \"KreisCd\": 4, \"KreisLang\": \"Kreis 4\", \"AufDauerP25\": 2.4, \"AufDauerMedian\": 6.7, \"AufDauerP75\": 17.8, \"AufDauerMittel\": 10.9}, {\"StichtagDatJahr\": \"2020-01-01T00:00:00\", \"AlterV20Kurz\": \"20-39\", \"AlterV20Sort\": 2, \"SexCd\": 2, \"SexKurz\": \"W\", \"HerkunftCd\": 1, \"HerkunftLang\": \"Schweizer/in\", \"KreisCd\": 5, \"KreisLang\": \"Kreis 5\", \"AufDauerP25\": 2.7, \"AufDauerMedian\": 6.7, \"AufDauerP75\": 15.0, \"AufDauerMittel\": 10.5}, {\"StichtagDatJahr\": \"2020-01-01T00:00:00\", \"AlterV20Kurz\": \"20-39\", \"AlterV20Sort\": 2, \"SexCd\": 2, \"SexKurz\": \"W\", \"HerkunftCd\": 1, \"HerkunftLang\": \"Schweizer/in\", \"KreisCd\": 6, \"KreisLang\": \"Kreis 6\", \"AufDauerP25\": 2.7, \"AufDauerMedian\": 8.1, \"AufDauerP75\": 21.6, \"AufDauerMittel\": 12.2}, {\"StichtagDatJahr\": \"2020-01-01T00:00:00\", \"AlterV20Kurz\": \"20-39\", \"AlterV20Sort\": 2, \"SexCd\": 2, \"SexKurz\": \"W\", \"HerkunftCd\": 1, \"HerkunftLang\": \"Schweizer/in\", \"KreisCd\": 7, \"KreisLang\": \"Kreis 7\", \"AufDauerP25\": 3.2, \"AufDauerMedian\": 9.1, \"AufDauerP75\": 21.4, \"AufDauerMittel\": 12.5}, {\"StichtagDatJahr\": \"2020-01-01T00:00:00\", \"AlterV20Kurz\": \"20-39\", \"AlterV20Sort\": 2, \"SexCd\": 2, \"SexKurz\": \"W\", \"HerkunftCd\": 1, \"HerkunftLang\": \"Schweizer/in\", \"KreisCd\": 8, \"KreisLang\": \"Kreis 8\", \"AufDauerP25\": 2.1, \"AufDauerMedian\": 5.3, \"AufDauerP75\": 12.5, \"AufDauerMittel\": 9.2}, {\"StichtagDatJahr\": \"2020-01-01T00:00:00\", \"AlterV20Kurz\": \"20-39\", \"AlterV20Sort\": 2, \"SexCd\": 2, \"SexKurz\": \"W\", \"HerkunftCd\": 1, \"HerkunftLang\": \"Schweizer/in\", \"KreisCd\": 9, \"KreisLang\": \"Kreis 9\", \"AufDauerP25\": 4.2, \"AufDauerMedian\": 11.5, \"AufDauerP75\": 24.0, \"AufDauerMittel\": 14.5}, {\"StichtagDatJahr\": \"2020-01-01T00:00:00\", \"AlterV20Kurz\": \"20-39\", \"AlterV20Sort\": 2, \"SexCd\": 2, \"SexKurz\": \"W\", \"HerkunftCd\": 1, \"HerkunftLang\": \"Schweizer/in\", \"KreisCd\": 10, \"KreisLang\": \"Kreis 10\", \"AufDauerP25\": 3.4, \"AufDauerMedian\": 9.8, \"AufDauerP75\": 21.9, \"AufDauerMittel\": 13.2}, {\"StichtagDatJahr\": \"2020-01-01T00:00:00\", \"AlterV20Kurz\": \"20-39\", \"AlterV20Sort\": 2, \"SexCd\": 2, \"SexKurz\": \"W\", \"HerkunftCd\": 1, \"HerkunftLang\": \"Schweizer/in\", \"KreisCd\": 11, \"KreisLang\": \"Kreis 11\", \"AufDauerP25\": 3.2, \"AufDauerMedian\": 10.3, \"AufDauerP75\": 22.7, \"AufDauerMittel\": 13.4}, {\"StichtagDatJahr\": \"2020-01-01T00:00:00\", \"AlterV20Kurz\": \"20-39\", \"AlterV20Sort\": 2, \"SexCd\": 2, \"SexKurz\": \"W\", \"HerkunftCd\": 1, \"HerkunftLang\": \"Schweizer/in\", \"KreisCd\": 12, \"KreisLang\": \"Kreis 12\", \"AufDauerP25\": 3.4, \"AufDauerMedian\": 11.3, \"AufDauerP75\": 22.9, \"AufDauerMittel\": 13.8}, {\"StichtagDatJahr\": \"2020-01-01T00:00:00\", \"AlterV20Kurz\": \"20-39\", \"AlterV20Sort\": 2, \"SexCd\": 2, \"SexKurz\": \"W\", \"HerkunftCd\": 2, \"HerkunftLang\": \"Ausl\\u00e4nder/in\", \"KreisCd\": 1, \"KreisLang\": \"Kreis 1\", \"AufDauerP25\": 0.9, \"AufDauerMedian\": 2.2, \"AufDauerP75\": 4.25, \"AufDauerMittel\": 3.1}, {\"StichtagDatJahr\": \"2020-01-01T00:00:00\", \"AlterV20Kurz\": \"20-39\", \"AlterV20Sort\": 2, \"SexCd\": 2, \"SexKurz\": \"W\", \"HerkunftCd\": 2, \"HerkunftLang\": \"Ausl\\u00e4nder/in\", \"KreisCd\": 2, \"KreisLang\": \"Kreis 2\", \"AufDauerP25\": 1.6, \"AufDauerMedian\": 3.4, \"AufDauerP75\": 6.5, \"AufDauerMittel\": 4.6}, {\"StichtagDatJahr\": \"2020-01-01T00:00:00\", \"AlterV20Kurz\": \"20-39\", \"AlterV20Sort\": 2, \"SexCd\": 2, \"SexKurz\": \"W\", \"HerkunftCd\": 2, \"HerkunftLang\": \"Ausl\\u00e4nder/in\", \"KreisCd\": 3, \"KreisLang\": \"Kreis 3\", \"AufDauerP25\": 1.8, \"AufDauerMedian\": 4.0, \"AufDauerP75\": 7.4, \"AufDauerMittel\": 5.4}, {\"StichtagDatJahr\": \"2020-01-01T00:00:00\", \"AlterV20Kurz\": \"20-39\", \"AlterV20Sort\": 2, \"SexCd\": 2, \"SexKurz\": \"W\", \"HerkunftCd\": 2, \"HerkunftLang\": \"Ausl\\u00e4nder/in\", \"KreisCd\": 4, \"KreisLang\": \"Kreis 4\", \"AufDauerP25\": 1.5, \"AufDauerMedian\": 3.7, \"AufDauerP75\": 7.2, \"AufDauerMittel\": 5.1}, {\"StichtagDatJahr\": \"2020-01-01T00:00:00\", \"AlterV20Kurz\": \"20-39\", \"AlterV20Sort\": 2, \"SexCd\": 2, \"SexKurz\": \"W\", \"HerkunftCd\": 2, \"HerkunftLang\": \"Ausl\\u00e4nder/in\", \"KreisCd\": 5, \"KreisLang\": \"Kreis 5\", \"AufDauerP25\": 1.5, \"AufDauerMedian\": 3.5, \"AufDauerP75\": 6.4, \"AufDauerMittel\": 4.5}, {\"StichtagDatJahr\": \"2020-01-01T00:00:00\", \"AlterV20Kurz\": \"20-39\", \"AlterV20Sort\": 2, \"SexCd\": 2, \"SexKurz\": \"W\", \"HerkunftCd\": 2, \"HerkunftLang\": \"Ausl\\u00e4nder/in\", \"KreisCd\": 6, \"KreisLang\": \"Kreis 6\", \"AufDauerP25\": 1.5, \"AufDauerMedian\": 3.6, \"AufDauerP75\": 6.5, \"AufDauerMittel\": 4.6}, {\"StichtagDatJahr\": \"2020-01-01T00:00:00\", \"AlterV20Kurz\": \"20-39\", \"AlterV20Sort\": 2, \"SexCd\": 2, \"SexKurz\": \"W\", \"HerkunftCd\": 2, \"HerkunftLang\": \"Ausl\\u00e4nder/in\", \"KreisCd\": 7, \"KreisLang\": \"Kreis 7\", \"AufDauerP25\": 1.4, \"AufDauerMedian\": 3.3, \"AufDauerP75\": 6.2, \"AufDauerMittel\": 4.2}, {\"StichtagDatJahr\": \"2020-01-01T00:00:00\", \"AlterV20Kurz\": \"20-39\", \"AlterV20Sort\": 2, \"SexCd\": 2, \"SexKurz\": \"W\", \"HerkunftCd\": 2, \"HerkunftLang\": \"Ausl\\u00e4nder/in\", \"KreisCd\": 8, \"KreisLang\": \"Kreis 8\", \"AufDauerP25\": 1.3, \"AufDauerMedian\": 3.0, \"AufDauerP75\": 5.5, \"AufDauerMittel\": 3.9}, {\"StichtagDatJahr\": \"2020-01-01T00:00:00\", \"AlterV20Kurz\": \"20-39\", \"AlterV20Sort\": 2, \"SexCd\": 2, \"SexKurz\": \"W\", \"HerkunftCd\": 2, \"HerkunftLang\": \"Ausl\\u00e4nder/in\", \"KreisCd\": 9, \"KreisLang\": \"Kreis 9\", \"AufDauerP25\": 2.0, \"AufDauerMedian\": 4.3, \"AufDauerP75\": 8.2, \"AufDauerMittel\": 5.9}, {\"StichtagDatJahr\": \"2020-01-01T00:00:00\", \"AlterV20Kurz\": \"20-39\", \"AlterV20Sort\": 2, \"SexCd\": 2, \"SexKurz\": \"W\", \"HerkunftCd\": 2, \"HerkunftLang\": \"Ausl\\u00e4nder/in\", \"KreisCd\": 10, \"KreisLang\": \"Kreis 10\", \"AufDauerP25\": 1.8, \"AufDauerMedian\": 4.0, \"AufDauerP75\": 7.4, \"AufDauerMittel\": 5.2}, {\"StichtagDatJahr\": \"2020-01-01T00:00:00\", \"AlterV20Kurz\": \"20-39\", \"AlterV20Sort\": 2, \"SexCd\": 2, \"SexKurz\": \"W\", \"HerkunftCd\": 2, \"HerkunftLang\": \"Ausl\\u00e4nder/in\", \"KreisCd\": 11, \"KreisLang\": \"Kreis 11\", \"AufDauerP25\": 1.9, \"AufDauerMedian\": 4.3, \"AufDauerP75\": 7.9, \"AufDauerMittel\": 5.6}, {\"StichtagDatJahr\": \"2020-01-01T00:00:00\", \"AlterV20Kurz\": \"20-39\", \"AlterV20Sort\": 2, \"SexCd\": 2, \"SexKurz\": \"W\", \"HerkunftCd\": 2, \"HerkunftLang\": \"Ausl\\u00e4nder/in\", \"KreisCd\": 12, \"KreisLang\": \"Kreis 12\", \"AufDauerP25\": 1.8, \"AufDauerMedian\": 4.3, \"AufDauerP75\": 7.9, \"AufDauerMittel\": 5.8}, {\"StichtagDatJahr\": \"2020-01-01T00:00:00\", \"AlterV20Kurz\": \"40-59\", \"AlterV20Sort\": 3, \"SexCd\": 1, \"SexKurz\": \"M\", \"HerkunftCd\": 1, \"HerkunftLang\": \"Schweizer/in\", \"KreisCd\": 1, \"KreisLang\": \"Kreis 1\", \"AufDauerP25\": 9.6, \"AufDauerMedian\": 18.6, \"AufDauerP75\": 28.2, \"AufDauerMittel\": 20.9}, {\"StichtagDatJahr\": \"2020-01-01T00:00:00\", \"AlterV20Kurz\": \"40-59\", \"AlterV20Sort\": 3, \"SexCd\": 1, \"SexKurz\": \"M\", \"HerkunftCd\": 1, \"HerkunftLang\": \"Schweizer/in\", \"KreisCd\": 2, \"KreisLang\": \"Kreis 2\", \"AufDauerP25\": 11.0, \"AufDauerMedian\": 18.75, \"AufDauerP75\": 27.5, \"AufDauerMittel\": 20.8}, {\"StichtagDatJahr\": \"2020-01-01T00:00:00\", \"AlterV20Kurz\": \"40-59\", \"AlterV20Sort\": 3, \"SexCd\": 1, \"SexKurz\": \"M\", \"HerkunftCd\": 1, \"HerkunftLang\": \"Schweizer/in\", \"KreisCd\": 3, \"KreisLang\": \"Kreis 3\", \"AufDauerP25\": 12.3, \"AufDauerMedian\": 19.8, \"AufDauerP75\": 28.4, \"AufDauerMittel\": 21.6}, {\"StichtagDatJahr\": \"2020-01-01T00:00:00\", \"AlterV20Kurz\": \"40-59\", \"AlterV20Sort\": 3, \"SexCd\": 1, \"SexKurz\": \"M\", \"HerkunftCd\": 1, \"HerkunftLang\": \"Schweizer/in\", \"KreisCd\": 4, \"KreisLang\": \"Kreis 4\", \"AufDauerP25\": 10.8, \"AufDauerMedian\": 18.4, \"AufDauerP75\": 27.0, \"AufDauerMittel\": 20.0}, {\"StichtagDatJahr\": \"2020-01-01T00:00:00\", \"AlterV20Kurz\": \"40-59\", \"AlterV20Sort\": 3, \"SexCd\": 1, \"SexKurz\": \"M\", \"HerkunftCd\": 1, \"HerkunftLang\": \"Schweizer/in\", \"KreisCd\": 5, \"KreisLang\": \"Kreis 5\", \"AufDauerP25\": 10.7, \"AufDauerMedian\": 18.3, \"AufDauerP75\": 26.9, \"AufDauerMittel\": 19.9}, {\"StichtagDatJahr\": \"2020-01-01T00:00:00\", \"AlterV20Kurz\": \"40-59\", \"AlterV20Sort\": 3, \"SexCd\": 1, \"SexKurz\": \"M\", \"HerkunftCd\": 1, \"HerkunftLang\": \"Schweizer/in\", \"KreisCd\": 6, \"KreisLang\": \"Kreis 6\", \"AufDauerP25\": 11.4, \"AufDauerMedian\": 19.35, \"AufDauerP75\": 29.1, \"AufDauerMittel\": 21.7}, {\"StichtagDatJahr\": \"2020-01-01T00:00:00\", \"AlterV20Kurz\": \"40-59\", \"AlterV20Sort\": 3, \"SexCd\": 1, \"SexKurz\": \"M\", \"HerkunftCd\": 1, \"HerkunftLang\": \"Schweizer/in\", \"KreisCd\": 7, \"KreisLang\": \"Kreis 7\", \"AufDauerP25\": 10.3, \"AufDauerMedian\": 18.0, \"AufDauerP75\": 27.2, \"AufDauerMittel\": 20.3}, {\"StichtagDatJahr\": \"2020-01-01T00:00:00\", \"AlterV20Kurz\": \"40-59\", \"AlterV20Sort\": 3, \"SexCd\": 1, \"SexKurz\": \"M\", \"HerkunftCd\": 1, \"HerkunftLang\": \"Schweizer/in\", \"KreisCd\": 8, \"KreisLang\": \"Kreis 8\", \"AufDauerP25\": 9.5, \"AufDauerMedian\": 17.1, \"AufDauerP75\": 25.5, \"AufDauerMittel\": 19.0}, {\"StichtagDatJahr\": \"2020-01-01T00:00:00\", \"AlterV20Kurz\": \"40-59\", \"AlterV20Sort\": 3, \"SexCd\": 1, \"SexKurz\": \"M\", \"HerkunftCd\": 1, \"HerkunftLang\": \"Schweizer/in\", \"KreisCd\": 9, \"KreisLang\": \"Kreis 9\", \"AufDauerP25\": 12.1, \"AufDauerMedian\": 21.0, \"AufDauerP75\": 31.2, \"AufDauerMittel\": 23.2}, {\"StichtagDatJahr\": \"2020-01-01T00:00:00\", \"AlterV20Kurz\": \"40-59\", \"AlterV20Sort\": 3, \"SexCd\": 1, \"SexKurz\": \"M\", \"HerkunftCd\": 1, \"HerkunftLang\": \"Schweizer/in\", \"KreisCd\": 10, \"KreisLang\": \"Kreis 10\", \"AufDauerP25\": 12.1, \"AufDauerMedian\": 19.8, \"AufDauerP75\": 29.2, \"AufDauerMittel\": 22.0}, {\"StichtagDatJahr\": \"2020-01-01T00:00:00\", \"AlterV20Kurz\": \"40-59\", \"AlterV20Sort\": 3, \"SexCd\": 1, \"SexKurz\": \"M\", \"HerkunftCd\": 1, \"HerkunftLang\": \"Schweizer/in\", \"KreisCd\": 11, \"KreisLang\": \"Kreis 11\", \"AufDauerP25\": 12.1, \"AufDauerMedian\": 20.4, \"AufDauerP75\": 29.8, \"AufDauerMittel\": 22.4}, {\"StichtagDatJahr\": \"2020-01-01T00:00:00\", \"AlterV20Kurz\": \"40-59\", \"AlterV20Sort\": 3, \"SexCd\": 1, \"SexKurz\": \"M\", \"HerkunftCd\": 1, \"HerkunftLang\": \"Schweizer/in\", \"KreisCd\": 12, \"KreisLang\": \"Kreis 12\", \"AufDauerP25\": 13.0, \"AufDauerMedian\": 20.9, \"AufDauerP75\": 29.5, \"AufDauerMittel\": 22.5}, {\"StichtagDatJahr\": \"2020-01-01T00:00:00\", \"AlterV20Kurz\": \"40-59\", \"AlterV20Sort\": 3, \"SexCd\": 1, \"SexKurz\": \"M\", \"HerkunftCd\": 2, \"HerkunftLang\": \"Ausl\\u00e4nder/in\", \"KreisCd\": 1, \"KreisLang\": \"Kreis 1\", \"AufDauerP25\": 1.8, \"AufDauerMedian\": 6.2, \"AufDauerP75\": 12.6, \"AufDauerMittel\": 9.4}, {\"StichtagDatJahr\": \"2020-01-01T00:00:00\", \"AlterV20Kurz\": \"40-59\", \"AlterV20Sort\": 3, \"SexCd\": 1, \"SexKurz\": \"M\", \"HerkunftCd\": 2, \"HerkunftLang\": \"Ausl\\u00e4nder/in\", \"KreisCd\": 2, \"KreisLang\": \"Kreis 2\", \"AufDauerP25\": 3.3, \"AufDauerMedian\": 7.5, \"AufDauerP75\": 13.2, \"AufDauerMittel\": 9.5}, {\"StichtagDatJahr\": \"2020-01-01T00:00:00\", \"AlterV20Kurz\": \"40-59\", \"AlterV20Sort\": 3, \"SexCd\": 1, \"SexKurz\": \"M\", \"HerkunftCd\": 2, \"HerkunftLang\": \"Ausl\\u00e4nder/in\", \"KreisCd\": 3, \"KreisLang\": \"Kreis 3\", \"AufDauerP25\": 5.0, \"AufDauerMedian\": 10.5, \"AufDauerP75\": 17.8, \"AufDauerMittel\": 12.6}, {\"StichtagDatJahr\": \"2020-01-01T00:00:00\", \"AlterV20Kurz\": \"40-59\", \"AlterV20Sort\": 3, \"SexCd\": 1, \"SexKurz\": \"M\", \"HerkunftCd\": 2, \"HerkunftLang\": \"Ausl\\u00e4nder/in\", \"KreisCd\": 4, \"KreisLang\": \"Kreis 4\", \"AufDauerP25\": 4.2, \"AufDauerMedian\": 9.85, \"AufDauerP75\": 17.45, \"AufDauerMittel\": 12.4}, {\"StichtagDatJahr\": \"2020-01-01T00:00:00\", \"AlterV20Kurz\": \"40-59\", \"AlterV20Sort\": 3, \"SexCd\": 1, \"SexKurz\": \"M\", \"HerkunftCd\": 2, \"HerkunftLang\": \"Ausl\\u00e4nder/in\", \"KreisCd\": 5, \"KreisLang\": \"Kreis 5\", \"AufDauerP25\": 3.6, \"AufDauerMedian\": 8.2, \"AufDauerP75\": 14.3, \"AufDauerMittel\": 10.5}, {\"StichtagDatJahr\": \"2020-01-01T00:00:00\", \"AlterV20Kurz\": \"40-59\", \"AlterV20Sort\": 3, \"SexCd\": 1, \"SexKurz\": \"M\", \"HerkunftCd\": 2, \"HerkunftLang\": \"Ausl\\u00e4nder/in\", \"KreisCd\": 6, \"KreisLang\": \"Kreis 6\", \"AufDauerP25\": 3.8, \"AufDauerMedian\": 8.8, \"AufDauerP75\": 14.25, \"AufDauerMittel\": 10.3}, {\"StichtagDatJahr\": \"2020-01-01T00:00:00\", \"AlterV20Kurz\": \"40-59\", \"AlterV20Sort\": 3, \"SexCd\": 1, \"SexKurz\": \"M\", \"HerkunftCd\": 2, \"HerkunftLang\": \"Ausl\\u00e4nder/in\", \"KreisCd\": 7, \"KreisLang\": \"Kreis 7\", \"AufDauerP25\": 3.1, \"AufDauerMedian\": 7.4, \"AufDauerP75\": 12.6, \"AufDauerMittel\": 9.0}, {\"StichtagDatJahr\": \"2020-01-01T00:00:00\", \"AlterV20Kurz\": \"40-59\", \"AlterV20Sort\": 3, \"SexCd\": 1, \"SexKurz\": \"M\", \"HerkunftCd\": 2, \"HerkunftLang\": \"Ausl\\u00e4nder/in\", \"KreisCd\": 8, \"KreisLang\": \"Kreis 8\", \"AufDauerP25\": 2.6, \"AufDauerMedian\": 6.0, \"AufDauerP75\": 11.2, \"AufDauerMittel\": 8.0}, {\"StichtagDatJahr\": \"2020-01-01T00:00:00\", \"AlterV20Kurz\": \"40-59\", \"AlterV20Sort\": 3, \"SexCd\": 1, \"SexKurz\": \"M\", \"HerkunftCd\": 2, \"HerkunftLang\": \"Ausl\\u00e4nder/in\", \"KreisCd\": 9, \"KreisLang\": \"Kreis 9\", \"AufDauerP25\": 5.2, \"AufDauerMedian\": 10.8, \"AufDauerP75\": 18.9, \"AufDauerMittel\": 13.5}, {\"StichtagDatJahr\": \"2020-01-01T00:00:00\", \"AlterV20Kurz\": \"40-59\", \"AlterV20Sort\": 3, \"SexCd\": 1, \"SexKurz\": \"M\", \"HerkunftCd\": 2, \"HerkunftLang\": \"Ausl\\u00e4nder/in\", \"KreisCd\": 10, \"KreisLang\": \"Kreis 10\", \"AufDauerP25\": 4.85, \"AufDauerMedian\": 9.5, \"AufDauerP75\": 15.2, \"AufDauerMittel\": 11.5}, {\"StichtagDatJahr\": \"2020-01-01T00:00:00\", \"AlterV20Kurz\": \"40-59\", \"AlterV20Sort\": 3, \"SexCd\": 1, \"SexKurz\": \"M\", \"HerkunftCd\": 2, \"HerkunftLang\": \"Ausl\\u00e4nder/in\", \"KreisCd\": 11, \"KreisLang\": \"Kreis 11\", \"AufDauerP25\": 4.8, \"AufDauerMedian\": 10.1, \"AufDauerP75\": 17.7, \"AufDauerMittel\": 12.4}, {\"StichtagDatJahr\": \"2020-01-01T00:00:00\", \"AlterV20Kurz\": \"40-59\", \"AlterV20Sort\": 3, \"SexCd\": 1, \"SexKurz\": \"M\", \"HerkunftCd\": 2, \"HerkunftLang\": \"Ausl\\u00e4nder/in\", \"KreisCd\": 12, \"KreisLang\": \"Kreis 12\", \"AufDauerP25\": 5.6, \"AufDauerMedian\": 11.4, \"AufDauerP75\": 20.0, \"AufDauerMittel\": 13.7}, {\"StichtagDatJahr\": \"2020-01-01T00:00:00\", \"AlterV20Kurz\": \"40-59\", \"AlterV20Sort\": 3, \"SexCd\": 2, \"SexKurz\": \"W\", \"HerkunftCd\": 1, \"HerkunftLang\": \"Schweizer/in\", \"KreisCd\": 1, \"KreisLang\": \"Kreis 1\", \"AufDauerP25\": 10.1, \"AufDauerMedian\": 19.1, \"AufDauerP75\": 29.4, \"AufDauerMittel\": 21.4}, {\"StichtagDatJahr\": \"2020-01-01T00:00:00\", \"AlterV20Kurz\": \"40-59\", \"AlterV20Sort\": 3, \"SexCd\": 2, \"SexKurz\": \"W\", \"HerkunftCd\": 1, \"HerkunftLang\": \"Schweizer/in\", \"KreisCd\": 2, \"KreisLang\": \"Kreis 2\", \"AufDauerP25\": 12.6, \"AufDauerMedian\": 20.1, \"AufDauerP75\": 28.5, \"AufDauerMittel\": 21.8}, {\"StichtagDatJahr\": \"2020-01-01T00:00:00\", \"AlterV20Kurz\": \"40-59\", \"AlterV20Sort\": 3, \"SexCd\": 2, \"SexKurz\": \"W\", \"HerkunftCd\": 1, \"HerkunftLang\": \"Schweizer/in\", \"KreisCd\": 3, \"KreisLang\": \"Kreis 3\", \"AufDauerP25\": 13.6, \"AufDauerMedian\": 21.2, \"AufDauerP75\": 29.8, \"AufDauerMittel\": 23.0}, {\"StichtagDatJahr\": \"2020-01-01T00:00:00\", \"AlterV20Kurz\": \"40-59\", \"AlterV20Sort\": 3, \"SexCd\": 2, \"SexKurz\": \"W\", \"HerkunftCd\": 1, \"HerkunftLang\": \"Schweizer/in\", \"KreisCd\": 4, \"KreisLang\": \"Kreis 4\", \"AufDauerP25\": 12.5, \"AufDauerMedian\": 20.5, \"AufDauerP75\": 28.4, \"AufDauerMittel\": 21.4}, {\"StichtagDatJahr\": \"2020-01-01T00:00:00\", \"AlterV20Kurz\": \"40-59\", \"AlterV20Sort\": 3, \"SexCd\": 2, \"SexKurz\": \"W\", \"HerkunftCd\": 1, \"HerkunftLang\": \"Schweizer/in\", \"KreisCd\": 5, \"KreisLang\": \"Kreis 5\", \"AufDauerP25\": 12.5, \"AufDauerMedian\": 20.45, \"AufDauerP75\": 28.4, \"AufDauerMittel\": 21.3}, {\"StichtagDatJahr\": \"2020-01-01T00:00:00\", \"AlterV20Kurz\": \"40-59\", \"AlterV20Sort\": 3, \"SexCd\": 2, \"SexKurz\": \"W\", \"HerkunftCd\": 1, \"HerkunftLang\": \"Schweizer/in\", \"KreisCd\": 6, \"KreisLang\": \"Kreis 6\", \"AufDauerP25\": 12.8, \"AufDauerMedian\": 20.3, \"AufDauerP75\": 29.8, \"AufDauerMittel\": 22.4}, {\"StichtagDatJahr\": \"2020-01-01T00:00:00\", \"AlterV20Kurz\": \"40-59\", \"AlterV20Sort\": 3, \"SexCd\": 2, \"SexKurz\": \"W\", \"HerkunftCd\": 1, \"HerkunftLang\": \"Schweizer/in\", \"KreisCd\": 7, \"KreisLang\": \"Kreis 7\", \"AufDauerP25\": 11.3, \"AufDauerMedian\": 19.0, \"AufDauerP75\": 28.0, \"AufDauerMittel\": 21.0}, {\"StichtagDatJahr\": \"2020-01-01T00:00:00\", \"AlterV20Kurz\": \"40-59\", \"AlterV20Sort\": 3, \"SexCd\": 2, \"SexKurz\": \"W\", \"HerkunftCd\": 1, \"HerkunftLang\": \"Schweizer/in\", \"KreisCd\": 8, \"KreisLang\": \"Kreis 8\", \"AufDauerP25\": 10.1, \"AufDauerMedian\": 18.3, \"AufDauerP75\": 27.7, \"AufDauerMittel\": 20.0}, {\"StichtagDatJahr\": \"2020-01-01T00:00:00\", \"AlterV20Kurz\": \"40-59\", \"AlterV20Sort\": 3, \"SexCd\": 2, \"SexKurz\": \"W\", \"HerkunftCd\": 1, \"HerkunftLang\": \"Schweizer/in\", \"KreisCd\": 9, \"KreisLang\": \"Kreis 9\", \"AufDauerP25\": 13.7, \"AufDauerMedian\": 22.2, \"AufDauerP75\": 31.4, \"AufDauerMittel\": 24.1}, {\"StichtagDatJahr\": \"2020-01-01T00:00:00\", \"AlterV20Kurz\": \"40-59\", \"AlterV20Sort\": 3, \"SexCd\": 2, \"SexKurz\": \"W\", \"HerkunftCd\": 1, \"HerkunftLang\": \"Schweizer/in\", \"KreisCd\": 10, \"KreisLang\": \"Kreis 10\", \"AufDauerP25\": 13.05, \"AufDauerMedian\": 20.85, \"AufDauerP75\": 30.4, \"AufDauerMittel\": 22.9}, {\"StichtagDatJahr\": \"2020-01-01T00:00:00\", \"AlterV20Kurz\": \"40-59\", \"AlterV20Sort\": 3, \"SexCd\": 2, \"SexKurz\": \"W\", \"HerkunftCd\": 1, \"HerkunftLang\": \"Schweizer/in\", \"KreisCd\": 11, \"KreisLang\": \"Kreis 11\", \"AufDauerP25\": 13.4, \"AufDauerMedian\": 21.8, \"AufDauerP75\": 30.3, \"AufDauerMittel\": 23.4}, {\"StichtagDatJahr\": \"2020-01-01T00:00:00\", \"AlterV20Kurz\": \"40-59\", \"AlterV20Sort\": 3, \"SexCd\": 2, \"SexKurz\": \"W\", \"HerkunftCd\": 1, \"HerkunftLang\": \"Schweizer/in\", \"KreisCd\": 12, \"KreisLang\": \"Kreis 12\", \"AufDauerP25\": 14.2, \"AufDauerMedian\": 22.2, \"AufDauerP75\": 30.4, \"AufDauerMittel\": 23.6}, {\"StichtagDatJahr\": \"2020-01-01T00:00:00\", \"AlterV20Kurz\": \"40-59\", \"AlterV20Sort\": 3, \"SexCd\": 2, \"SexKurz\": \"W\", \"HerkunftCd\": 2, \"HerkunftLang\": \"Ausl\\u00e4nder/in\", \"KreisCd\": 1, \"KreisLang\": \"Kreis 1\", \"AufDauerP25\": 1.7, \"AufDauerMedian\": 5.6, \"AufDauerP75\": 12.4, \"AufDauerMittel\": 8.3}, {\"StichtagDatJahr\": \"2020-01-01T00:00:00\", \"AlterV20Kurz\": \"40-59\", \"AlterV20Sort\": 3, \"SexCd\": 2, \"SexKurz\": \"W\", \"HerkunftCd\": 2, \"HerkunftLang\": \"Ausl\\u00e4nder/in\", \"KreisCd\": 2, \"KreisLang\": \"Kreis 2\", \"AufDauerP25\": 3.7, \"AufDauerMedian\": 8.1, \"AufDauerP75\": 13.6, \"AufDauerMittel\": 10.1}, {\"StichtagDatJahr\": \"2020-01-01T00:00:00\", \"AlterV20Kurz\": \"40-59\", \"AlterV20Sort\": 3, \"SexCd\": 2, \"SexKurz\": \"W\", \"HerkunftCd\": 2, \"HerkunftLang\": \"Ausl\\u00e4nder/in\", \"KreisCd\": 3, \"KreisLang\": \"Kreis 3\", \"AufDauerP25\": 5.7, \"AufDauerMedian\": 11.6, \"AufDauerP75\": 19.2, \"AufDauerMittel\": 13.5}, {\"StichtagDatJahr\": \"2020-01-01T00:00:00\", \"AlterV20Kurz\": \"40-59\", \"AlterV20Sort\": 3, \"SexCd\": 2, \"SexKurz\": \"W\", \"HerkunftCd\": 2, \"HerkunftLang\": \"Ausl\\u00e4nder/in\", \"KreisCd\": 4, \"KreisLang\": \"Kreis 4\", \"AufDauerP25\": 4.7, \"AufDauerMedian\": 11.6, \"AufDauerP75\": 19.2, \"AufDauerMittel\": 13.3}, {\"StichtagDatJahr\": \"2020-01-01T00:00:00\", \"AlterV20Kurz\": \"40-59\", \"AlterV20Sort\": 3, \"SexCd\": 2, \"SexKurz\": \"W\", \"HerkunftCd\": 2, \"HerkunftLang\": \"Ausl\\u00e4nder/in\", \"KreisCd\": 5, \"KreisLang\": \"Kreis 5\", \"AufDauerP25\": 4.7, \"AufDauerMedian\": 9.5, \"AufDauerP75\": 15.6, \"AufDauerMittel\": 11.8}, {\"StichtagDatJahr\": \"2020-01-01T00:00:00\", \"AlterV20Kurz\": \"40-59\", \"AlterV20Sort\": 3, \"SexCd\": 2, \"SexKurz\": \"W\", \"HerkunftCd\": 2, \"HerkunftLang\": \"Ausl\\u00e4nder/in\", \"KreisCd\": 6, \"KreisLang\": \"Kreis 6\", \"AufDauerP25\": 4.2, \"AufDauerMedian\": 9.0, \"AufDauerP75\": 14.5, \"AufDauerMittel\": 10.7}, {\"StichtagDatJahr\": \"2020-01-01T00:00:00\", \"AlterV20Kurz\": \"40-59\", \"AlterV20Sort\": 3, \"SexCd\": 2, \"SexKurz\": \"W\", \"HerkunftCd\": 2, \"HerkunftLang\": \"Ausl\\u00e4nder/in\", \"KreisCd\": 7, \"KreisLang\": \"Kreis 7\", \"AufDauerP25\": 3.4, \"AufDauerMedian\": 7.6, \"AufDauerP75\": 12.6, \"AufDauerMittel\": 9.0}, {\"StichtagDatJahr\": \"2020-01-01T00:00:00\", \"AlterV20Kurz\": \"40-59\", \"AlterV20Sort\": 3, \"SexCd\": 2, \"SexKurz\": \"W\", \"HerkunftCd\": 2, \"HerkunftLang\": \"Ausl\\u00e4nder/in\", \"KreisCd\": 8, \"KreisLang\": \"Kreis 8\", \"AufDauerP25\": 2.9, \"AufDauerMedian\": 6.3, \"AufDauerP75\": 11.4, \"AufDauerMittel\": 8.2}, {\"StichtagDatJahr\": \"2020-01-01T00:00:00\", \"AlterV20Kurz\": \"40-59\", \"AlterV20Sort\": 3, \"SexCd\": 2, \"SexKurz\": \"W\", \"HerkunftCd\": 2, \"HerkunftLang\": \"Ausl\\u00e4nder/in\", \"KreisCd\": 9, \"KreisLang\": \"Kreis 9\", \"AufDauerP25\": 5.8, \"AufDauerMedian\": 12.1, \"AufDauerP75\": 19.95, \"AufDauerMittel\": 14.0}, {\"StichtagDatJahr\": \"2020-01-01T00:00:00\", \"AlterV20Kurz\": \"40-59\", \"AlterV20Sort\": 3, \"SexCd\": 2, \"SexKurz\": \"W\", \"HerkunftCd\": 2, \"HerkunftLang\": \"Ausl\\u00e4nder/in\", \"KreisCd\": 10, \"KreisLang\": \"Kreis 10\", \"AufDauerP25\": 5.4, \"AufDauerMedian\": 10.3, \"AufDauerP75\": 16.2, \"AufDauerMittel\": 12.0}, {\"StichtagDatJahr\": \"2020-01-01T00:00:00\", \"AlterV20Kurz\": \"40-59\", \"AlterV20Sort\": 3, \"SexCd\": 2, \"SexKurz\": \"W\", \"HerkunftCd\": 2, \"HerkunftLang\": \"Ausl\\u00e4nder/in\", \"KreisCd\": 11, \"KreisLang\": \"Kreis 11\", \"AufDauerP25\": 5.5, \"AufDauerMedian\": 11.1, \"AufDauerP75\": 18.4, \"AufDauerMittel\": 13.1}, {\"StichtagDatJahr\": \"2020-01-01T00:00:00\", \"AlterV20Kurz\": \"40-59\", \"AlterV20Sort\": 3, \"SexCd\": 2, \"SexKurz\": \"W\", \"HerkunftCd\": 2, \"HerkunftLang\": \"Ausl\\u00e4nder/in\", \"KreisCd\": 12, \"KreisLang\": \"Kreis 12\", \"AufDauerP25\": 6.2, \"AufDauerMedian\": 13.2, \"AufDauerP75\": 20.7, \"AufDauerMittel\": 14.3}, {\"StichtagDatJahr\": \"2020-01-01T00:00:00\", \"AlterV20Kurz\": \"60-79\", \"AlterV20Sort\": 4, \"SexCd\": 1, \"SexKurz\": \"M\", \"HerkunftCd\": 1, \"HerkunftLang\": \"Schweizer/in\", \"KreisCd\": 1, \"KreisLang\": \"Kreis 1\", \"AufDauerP25\": 19.7, \"AufDauerMedian\": 35.6, \"AufDauerP75\": 46.1, \"AufDauerMittel\": 34.4}, {\"StichtagDatJahr\": \"2020-01-01T00:00:00\", \"AlterV20Kurz\": \"60-79\", \"AlterV20Sort\": 4, \"SexCd\": 1, \"SexKurz\": \"M\", \"HerkunftCd\": 1, \"HerkunftLang\": \"Schweizer/in\", \"KreisCd\": 2, \"KreisLang\": \"Kreis 2\", \"AufDauerP25\": 23.4, \"AufDauerMedian\": 36.1, \"AufDauerP75\": 46.7, \"AufDauerMittel\": 36.3}, {\"StichtagDatJahr\": \"2020-01-01T00:00:00\", \"AlterV20Kurz\": \"60-79\", \"AlterV20Sort\": 4, \"SexCd\": 1, \"SexKurz\": \"M\", \"HerkunftCd\": 1, \"HerkunftLang\": \"Schweizer/in\", \"KreisCd\": 3, \"KreisLang\": \"Kreis 3\", \"AufDauerP25\": 24.3, \"AufDauerMedian\": 36.7, \"AufDauerP75\": 46.7, \"AufDauerMittel\": 36.5}, {\"StichtagDatJahr\": \"2020-01-01T00:00:00\", \"AlterV20Kurz\": \"60-79\", \"AlterV20Sort\": 4, \"SexCd\": 1, \"SexKurz\": \"M\", \"HerkunftCd\": 1, \"HerkunftLang\": \"Schweizer/in\", \"KreisCd\": 4, \"KreisLang\": \"Kreis 4\", \"AufDauerP25\": 19.4, \"AufDauerMedian\": 32.5, \"AufDauerP75\": 42.2, \"AufDauerMittel\": 31.9}, {\"StichtagDatJahr\": \"2020-01-01T00:00:00\", \"AlterV20Kurz\": \"60-79\", \"AlterV20Sort\": 4, \"SexCd\": 1, \"SexKurz\": \"M\", \"HerkunftCd\": 1, \"HerkunftLang\": \"Schweizer/in\", \"KreisCd\": 5, \"KreisLang\": \"Kreis 5\", \"AufDauerP25\": 18.2, \"AufDauerMedian\": 31.0, \"AufDauerP75\": 42.2, \"AufDauerMittel\": 31.0}, {\"StichtagDatJahr\": \"2020-01-01T00:00:00\", \"AlterV20Kurz\": \"60-79\", \"AlterV20Sort\": 4, \"SexCd\": 1, \"SexKurz\": \"M\", \"HerkunftCd\": 1, \"HerkunftLang\": \"Schweizer/in\", \"KreisCd\": 6, \"KreisLang\": \"Kreis 6\", \"AufDauerP25\": 24.7, \"AufDauerMedian\": 36.5, \"AufDauerP75\": 47.6, \"AufDauerMittel\": 36.8}, {\"StichtagDatJahr\": \"2020-01-01T00:00:00\", \"AlterV20Kurz\": \"60-79\", \"AlterV20Sort\": 4, \"SexCd\": 1, \"SexKurz\": \"M\", \"HerkunftCd\": 1, \"HerkunftLang\": \"Schweizer/in\", \"KreisCd\": 7, \"KreisLang\": \"Kreis 7\", \"AufDauerP25\": 19.9, \"AufDauerMedian\": 34.2, \"AufDauerP75\": 44.8, \"AufDauerMittel\": 33.9}, {\"StichtagDatJahr\": \"2020-01-01T00:00:00\", \"AlterV20Kurz\": \"60-79\", \"AlterV20Sort\": 4, \"SexCd\": 1, \"SexKurz\": \"M\", \"HerkunftCd\": 1, \"HerkunftLang\": \"Schweizer/in\", \"KreisCd\": 8, \"KreisLang\": \"Kreis 8\", \"AufDauerP25\": 18.7, \"AufDauerMedian\": 33.8, \"AufDauerP75\": 43.2, \"AufDauerMittel\": 32.4}, {\"StichtagDatJahr\": \"2020-01-01T00:00:00\", \"AlterV20Kurz\": \"60-79\", \"AlterV20Sort\": 4, \"SexCd\": 1, \"SexKurz\": \"M\", \"HerkunftCd\": 1, \"HerkunftLang\": \"Schweizer/in\", \"KreisCd\": 9, \"KreisLang\": \"Kreis 9\", \"AufDauerP25\": 25.1, \"AufDauerMedian\": 38.0, \"AufDauerP75\": 51.4, \"AufDauerMittel\": 38.5}, {\"StichtagDatJahr\": \"2020-01-01T00:00:00\", \"AlterV20Kurz\": \"60-79\", \"AlterV20Sort\": 4, \"SexCd\": 1, \"SexKurz\": \"M\", \"HerkunftCd\": 1, \"HerkunftLang\": \"Schweizer/in\", \"KreisCd\": 10, \"KreisLang\": \"Kreis 10\", \"AufDauerP25\": 24.8, \"AufDauerMedian\": 37.8, \"AufDauerP75\": 49.4, \"AufDauerMittel\": 38.0}, {\"StichtagDatJahr\": \"2020-01-01T00:00:00\", \"AlterV20Kurz\": \"60-79\", \"AlterV20Sort\": 4, \"SexCd\": 1, \"SexKurz\": \"M\", \"HerkunftCd\": 1, \"HerkunftLang\": \"Schweizer/in\", \"KreisCd\": 11, \"KreisLang\": \"Kreis 11\", \"AufDauerP25\": 22.8, \"AufDauerMedian\": 36.6, \"AufDauerP75\": 48.5, \"AufDauerMittel\": 36.6}, {\"StichtagDatJahr\": \"2020-01-01T00:00:00\", \"AlterV20Kurz\": \"60-79\", \"AlterV20Sort\": 4, \"SexCd\": 1, \"SexKurz\": \"M\", \"HerkunftCd\": 1, \"HerkunftLang\": \"Schweizer/in\", \"KreisCd\": 12, \"KreisLang\": \"Kreis 12\", \"AufDauerP25\": 22.45, \"AufDauerMedian\": 36.55, \"AufDauerP75\": 49.25, \"AufDauerMittel\": 37.1}, {\"StichtagDatJahr\": \"2020-01-01T00:00:00\", \"AlterV20Kurz\": \"60-79\", \"AlterV20Sort\": 4, \"SexCd\": 1, \"SexKurz\": \"M\", \"HerkunftCd\": 2, \"HerkunftLang\": \"Ausl\\u00e4nder/in\", \"KreisCd\": 1, \"KreisLang\": \"Kreis 1\", \"AufDauerP25\": 5.5, \"AufDauerMedian\": 16.45, \"AufDauerP75\": 29.8, \"AufDauerMittel\": 20.3}, {\"StichtagDatJahr\": \"2020-01-01T00:00:00\", \"AlterV20Kurz\": \"60-79\", \"AlterV20Sort\": 4, \"SexCd\": 1, \"SexKurz\": \"M\", \"HerkunftCd\": 2, \"HerkunftLang\": \"Ausl\\u00e4nder/in\", \"KreisCd\": 2, \"KreisLang\": \"Kreis 2\", \"AufDauerP25\": 6.6, \"AufDauerMedian\": 22.45, \"AufDauerP75\": 36.8, \"AufDauerMittel\": 23.2}, {\"StichtagDatJahr\": \"2020-01-01T00:00:00\", \"AlterV20Kurz\": \"60-79\", \"AlterV20Sort\": 4, \"SexCd\": 1, \"SexKurz\": \"M\", \"HerkunftCd\": 2, \"HerkunftLang\": \"Ausl\\u00e4nder/in\", \"KreisCd\": 3, \"KreisLang\": \"Kreis 3\", \"AufDauerP25\": 15.6, \"AufDauerMedian\": 30.9, \"AufDauerP75\": 40.8, \"AufDauerMittel\": 29.0}, {\"StichtagDatJahr\": \"2020-01-01T00:00:00\", \"AlterV20Kurz\": \"60-79\", \"AlterV20Sort\": 4, \"SexCd\": 1, \"SexKurz\": \"M\", \"HerkunftCd\": 2, \"HerkunftLang\": \"Ausl\\u00e4nder/in\", \"KreisCd\": 4, \"KreisLang\": \"Kreis 4\", \"AufDauerP25\": 17.15, \"AufDauerMedian\": 29.8, \"AufDauerP75\": 39.85, \"AufDauerMittel\": 28.7}, {\"StichtagDatJahr\": \"2020-01-01T00:00:00\", \"AlterV20Kurz\": \"60-79\", \"AlterV20Sort\": 4, \"SexCd\": 1, \"SexKurz\": \"M\", \"HerkunftCd\": 2, \"HerkunftLang\": \"Ausl\\u00e4nder/in\", \"KreisCd\": 5, \"KreisLang\": \"Kreis 5\", \"AufDauerP25\": 12.2, \"AufDauerMedian\": 29.8, \"AufDauerP75\": 39.8, \"AufDauerMittel\": 27.7}, {\"StichtagDatJahr\": \"2020-01-01T00:00:00\", \"AlterV20Kurz\": \"60-79\", \"AlterV20Sort\": 4, \"SexCd\": 1, \"SexKurz\": \"M\", \"HerkunftCd\": 2, \"HerkunftLang\": \"Ausl\\u00e4nder/in\", \"KreisCd\": 6, \"KreisLang\": \"Kreis 6\", \"AufDauerP25\": 11.0, \"AufDauerMedian\": 27.3, \"AufDauerP75\": 40.6, \"AufDauerMittel\": 26.5}, {\"StichtagDatJahr\": \"2020-01-01T00:00:00\", \"AlterV20Kurz\": \"60-79\", \"AlterV20Sort\": 4, \"SexCd\": 1, \"SexKurz\": \"M\", \"HerkunftCd\": 2, \"HerkunftLang\": \"Ausl\\u00e4nder/in\", \"KreisCd\": 7, \"KreisLang\": \"Kreis 7\", \"AufDauerP25\": 7.0, \"AufDauerMedian\": 16.75, \"AufDauerP75\": 33.9, \"AufDauerMittel\": 21.0}, {\"StichtagDatJahr\": \"2020-01-01T00:00:00\", \"AlterV20Kurz\": \"60-79\", \"AlterV20Sort\": 4, \"SexCd\": 1, \"SexKurz\": \"M\", \"HerkunftCd\": 2, \"HerkunftLang\": \"Ausl\\u00e4nder/in\", \"KreisCd\": 8, \"KreisLang\": \"Kreis 8\", \"AufDauerP25\": 7.0, \"AufDauerMedian\": 16.1, \"AufDauerP75\": 36.8, \"AufDauerMittel\": 22.0}, {\"StichtagDatJahr\": \"2020-01-01T00:00:00\", \"AlterV20Kurz\": \"60-79\", \"AlterV20Sort\": 4, \"SexCd\": 1, \"SexKurz\": \"M\", \"HerkunftCd\": 2, \"HerkunftLang\": \"Ausl\\u00e4nder/in\", \"KreisCd\": 9, \"KreisLang\": \"Kreis 9\", \"AufDauerP25\": 16.1, \"AufDauerMedian\": 31.25, \"AufDauerP75\": 43.05, \"AufDauerMittel\": 30.1}, {\"StichtagDatJahr\": \"2020-01-01T00:00:00\", \"AlterV20Kurz\": \"60-79\", \"AlterV20Sort\": 4, \"SexCd\": 1, \"SexKurz\": \"M\", \"HerkunftCd\": 2, \"HerkunftLang\": \"Ausl\\u00e4nder/in\", \"KreisCd\": 10, \"KreisLang\": \"Kreis 10\", \"AufDauerP25\": 14.55, \"AufDauerMedian\": 29.55, \"AufDauerP75\": 42.6, \"AufDauerMittel\": 28.9}, {\"StichtagDatJahr\": \"2020-01-01T00:00:00\", \"AlterV20Kurz\": \"60-79\", \"AlterV20Sort\": 4, \"SexCd\": 1, \"SexKurz\": \"M\", \"HerkunftCd\": 2, \"HerkunftLang\": \"Ausl\\u00e4nder/in\", \"KreisCd\": 11, \"KreisLang\": \"Kreis 11\", \"AufDauerP25\": 13.0, \"AufDauerMedian\": 28.7, \"AufDauerP75\": 39.8, \"AufDauerMittel\": 27.3}, {\"StichtagDatJahr\": \"2020-01-01T00:00:00\", \"AlterV20Kurz\": \"60-79\", \"AlterV20Sort\": 4, \"SexCd\": 1, \"SexKurz\": \"M\", \"HerkunftCd\": 2, \"HerkunftLang\": \"Ausl\\u00e4nder/in\", \"KreisCd\": 12, \"KreisLang\": \"Kreis 12\", \"AufDauerP25\": 13.9, \"AufDauerMedian\": 29.1, \"AufDauerP75\": 40.8, \"AufDauerMittel\": 28.1}, {\"StichtagDatJahr\": \"2020-01-01T00:00:00\", \"AlterV20Kurz\": \"60-79\", \"AlterV20Sort\": 4, \"SexCd\": 2, \"SexKurz\": \"W\", \"HerkunftCd\": 1, \"HerkunftLang\": \"Schweizer/in\", \"KreisCd\": 1, \"KreisLang\": \"Kreis 1\", \"AufDauerP25\": 23.9, \"AufDauerMedian\": 37.2, \"AufDauerP75\": 46.7, \"AufDauerMittel\": 36.0}, {\"StichtagDatJahr\": \"2020-01-01T00:00:00\", \"AlterV20Kurz\": \"60-79\", \"AlterV20Sort\": 4, \"SexCd\": 2, \"SexKurz\": \"W\", \"HerkunftCd\": 1, \"HerkunftLang\": \"Schweizer/in\", \"KreisCd\": 2, \"KreisLang\": \"Kreis 2\", \"AufDauerP25\": 24.3, \"AufDauerMedian\": 37.5, \"AufDauerP75\": 47.5, \"AufDauerMittel\": 36.2}, {\"StichtagDatJahr\": \"2020-01-01T00:00:00\", \"AlterV20Kurz\": \"60-79\", \"AlterV20Sort\": 4, \"SexCd\": 2, \"SexKurz\": \"W\", \"HerkunftCd\": 1, \"HerkunftLang\": \"Schweizer/in\", \"KreisCd\": 3, \"KreisLang\": \"Kreis 3\", \"AufDauerP25\": 26.5, \"AufDauerMedian\": 38.0, \"AufDauerP75\": 47.2, \"AufDauerMittel\": 37.2}, {\"StichtagDatJahr\": \"2020-01-01T00:00:00\", \"AlterV20Kurz\": \"60-79\", \"AlterV20Sort\": 4, \"SexCd\": 2, \"SexKurz\": \"W\", \"HerkunftCd\": 1, \"HerkunftLang\": \"Schweizer/in\", \"KreisCd\": 4, \"KreisLang\": \"Kreis 4\", \"AufDauerP25\": 21.8, \"AufDauerMedian\": 33.7, \"AufDauerP75\": 43.2, \"AufDauerMittel\": 33.1}, {\"StichtagDatJahr\": \"2020-01-01T00:00:00\", \"AlterV20Kurz\": \"60-79\", \"AlterV20Sort\": 4, \"SexCd\": 2, \"SexKurz\": \"W\", \"HerkunftCd\": 1, \"HerkunftLang\": \"Schweizer/in\", \"KreisCd\": 5, \"KreisLang\": \"Kreis 5\", \"AufDauerP25\": 21.0, \"AufDauerMedian\": 33.8, \"AufDauerP75\": 43.3, \"AufDauerMittel\": 32.5}, {\"StichtagDatJahr\": \"2020-01-01T00:00:00\", \"AlterV20Kurz\": \"60-79\", \"AlterV20Sort\": 4, \"SexCd\": 2, \"SexKurz\": \"W\", \"HerkunftCd\": 1, \"HerkunftLang\": \"Schweizer/in\", \"KreisCd\": 6, \"KreisLang\": \"Kreis 6\", \"AufDauerP25\": 24.7, \"AufDauerMedian\": 36.8, \"AufDauerP75\": 45.7, \"AufDauerMittel\": 36.0}, {\"StichtagDatJahr\": \"2020-01-01T00:00:00\", \"AlterV20Kurz\": \"60-79\", \"AlterV20Sort\": 4, \"SexCd\": 2, \"SexKurz\": \"W\", \"HerkunftCd\": 1, \"HerkunftLang\": \"Schweizer/in\", \"KreisCd\": 7, \"KreisLang\": \"Kreis 7\", \"AufDauerP25\": 22.0, \"AufDauerMedian\": 36.0, \"AufDauerP75\": 45.5, \"AufDauerMittel\": 34.5}, {\"StichtagDatJahr\": \"2020-01-01T00:00:00\", \"AlterV20Kurz\": \"60-79\", \"AlterV20Sort\": 4, \"SexCd\": 2, \"SexKurz\": \"W\", \"HerkunftCd\": 1, \"HerkunftLang\": \"Schweizer/in\", \"KreisCd\": 8, \"KreisLang\": \"Kreis 8\", \"AufDauerP25\": 19.7, \"AufDauerMedian\": 34.5, \"AufDauerP75\": 43.6, \"AufDauerMittel\": 32.6}, {\"StichtagDatJahr\": \"2020-01-01T00:00:00\", \"AlterV20Kurz\": \"60-79\", \"AlterV20Sort\": 4, \"SexCd\": 2, \"SexKurz\": \"W\", \"HerkunftCd\": 1, \"HerkunftLang\": \"Schweizer/in\", \"KreisCd\": 9, \"KreisLang\": \"Kreis 9\", \"AufDauerP25\": 27.2, \"AufDauerMedian\": 39.6, \"AufDauerP75\": 50.5, \"AufDauerMittel\": 38.6}, {\"StichtagDatJahr\": \"2020-01-01T00:00:00\", \"AlterV20Kurz\": \"60-79\", \"AlterV20Sort\": 4, \"SexCd\": 2, \"SexKurz\": \"W\", \"HerkunftCd\": 1, \"HerkunftLang\": \"Schweizer/in\", \"KreisCd\": 10, \"KreisLang\": \"Kreis 10\", \"AufDauerP25\": 24.6, \"AufDauerMedian\": 37.55, \"AufDauerP75\": 47.2, \"AufDauerMittel\": 36.8}, {\"StichtagDatJahr\": \"2020-01-01T00:00:00\", \"AlterV20Kurz\": \"60-79\", \"AlterV20Sort\": 4, \"SexCd\": 2, \"SexKurz\": \"W\", \"HerkunftCd\": 1, \"HerkunftLang\": \"Schweizer/in\", \"KreisCd\": 11, \"KreisLang\": \"Kreis 11\", \"AufDauerP25\": 23.4, \"AufDauerMedian\": 37.5, \"AufDauerP75\": 48.1, \"AufDauerMittel\": 36.5}, {\"StichtagDatJahr\": \"2020-01-01T00:00:00\", \"AlterV20Kurz\": \"60-79\", \"AlterV20Sort\": 4, \"SexCd\": 2, \"SexKurz\": \"W\", \"HerkunftCd\": 1, \"HerkunftLang\": \"Schweizer/in\", \"KreisCd\": 12, \"KreisLang\": \"Kreis 12\", \"AufDauerP25\": 25.3, \"AufDauerMedian\": 38.3, \"AufDauerP75\": 49.7, \"AufDauerMittel\": 37.8}, {\"StichtagDatJahr\": \"2020-01-01T00:00:00\", \"AlterV20Kurz\": \"60-79\", \"AlterV20Sort\": 4, \"SexCd\": 2, \"SexKurz\": \"W\", \"HerkunftCd\": 2, \"HerkunftLang\": \"Ausl\\u00e4nder/in\", \"KreisCd\": 1, \"KreisLang\": \"Kreis 1\", \"AufDauerP25\": 4.3, \"AufDauerMedian\": 12.8, \"AufDauerP75\": 31.5, \"AufDauerMittel\": 17.3}, {\"StichtagDatJahr\": \"2020-01-01T00:00:00\", \"AlterV20Kurz\": \"60-79\", \"AlterV20Sort\": 4, \"SexCd\": 2, \"SexKurz\": \"W\", \"HerkunftCd\": 2, \"HerkunftLang\": \"Ausl\\u00e4nder/in\", \"KreisCd\": 2, \"KreisLang\": \"Kreis 2\", \"AufDauerP25\": 8.7, \"AufDauerMedian\": 23.0, \"AufDauerP75\": 38.95, \"AufDauerMittel\": 24.6}, {\"StichtagDatJahr\": \"2020-01-01T00:00:00\", \"AlterV20Kurz\": \"60-79\", \"AlterV20Sort\": 4, \"SexCd\": 2, \"SexKurz\": \"W\", \"HerkunftCd\": 2, \"HerkunftLang\": \"Ausl\\u00e4nder/in\", \"KreisCd\": 3, \"KreisLang\": \"Kreis 3\", \"AufDauerP25\": 16.2, \"AufDauerMedian\": 30.9, \"AufDauerP75\": 44.2, \"AufDauerMittel\": 30.2}, {\"StichtagDatJahr\": \"2020-01-01T00:00:00\", \"AlterV20Kurz\": \"60-79\", \"AlterV20Sort\": 4, \"SexCd\": 2, \"SexKurz\": \"W\", \"HerkunftCd\": 2, \"HerkunftLang\": \"Ausl\\u00e4nder/in\", \"KreisCd\": 4, \"KreisLang\": \"Kreis 4\", \"AufDauerP25\": 18.4, \"AufDauerMedian\": 29.4, \"AufDauerP75\": 43.5, \"AufDauerMittel\": 30.1}, {\"StichtagDatJahr\": \"2020-01-01T00:00:00\", \"AlterV20Kurz\": \"60-79\", \"AlterV20Sort\": 4, \"SexCd\": 2, \"SexKurz\": \"W\", \"HerkunftCd\": 2, \"HerkunftLang\": \"Ausl\\u00e4nder/in\", \"KreisCd\": 5, \"KreisLang\": \"Kreis 5\", \"AufDauerP25\": 18.9, \"AufDauerMedian\": 31.8, \"AufDauerP75\": 46.4, \"AufDauerMittel\": 31.3}, {\"StichtagDatJahr\": \"2020-01-01T00:00:00\", \"AlterV20Kurz\": \"60-79\", \"AlterV20Sort\": 4, \"SexCd\": 2, \"SexKurz\": \"W\", \"HerkunftCd\": 2, \"HerkunftLang\": \"Ausl\\u00e4nder/in\", \"KreisCd\": 6, \"KreisLang\": \"Kreis 6\", \"AufDauerP25\": 12.2, \"AufDauerMedian\": 26.8, \"AufDauerP75\": 42.5, \"AufDauerMittel\": 27.3}, {\"StichtagDatJahr\": \"2020-01-01T00:00:00\", \"AlterV20Kurz\": \"60-79\", \"AlterV20Sort\": 4, \"SexCd\": 2, \"SexKurz\": \"W\", \"HerkunftCd\": 2, \"HerkunftLang\": \"Ausl\\u00e4nder/in\", \"KreisCd\": 7, \"KreisLang\": \"Kreis 7\", \"AufDauerP25\": 7.0, \"AufDauerMedian\": 17.65, \"AufDauerP75\": 35.75, \"AufDauerMittel\": 22.1}, {\"StichtagDatJahr\": \"2020-01-01T00:00:00\", \"AlterV20Kurz\": \"60-79\", \"AlterV20Sort\": 4, \"SexCd\": 2, \"SexKurz\": \"W\", \"HerkunftCd\": 2, \"HerkunftLang\": \"Ausl\\u00e4nder/in\", \"KreisCd\": 8, \"KreisLang\": \"Kreis 8\", \"AufDauerP25\": 6.7, \"AufDauerMedian\": 21.0, \"AufDauerP75\": 40.2, \"AufDauerMittel\": 23.6}, {\"StichtagDatJahr\": \"2020-01-01T00:00:00\", \"AlterV20Kurz\": \"60-79\", \"AlterV20Sort\": 4, \"SexCd\": 2, \"SexKurz\": \"W\", \"HerkunftCd\": 2, \"HerkunftLang\": \"Ausl\\u00e4nder/in\", \"KreisCd\": 9, \"KreisLang\": \"Kreis 9\", \"AufDauerP25\": 16.4, \"AufDauerMedian\": 31.9, \"AufDauerP75\": 46.7, \"AufDauerMittel\": 31.2}, {\"StichtagDatJahr\": \"2020-01-01T00:00:00\", \"AlterV20Kurz\": \"60-79\", \"AlterV20Sort\": 4, \"SexCd\": 2, \"SexKurz\": \"W\", \"HerkunftCd\": 2, \"HerkunftLang\": \"Ausl\\u00e4nder/in\", \"KreisCd\": 10, \"KreisLang\": \"Kreis 10\", \"AufDauerP25\": 13.3, \"AufDauerMedian\": 31.4, \"AufDauerP75\": 46.4, \"AufDauerMittel\": 30.3}, {\"StichtagDatJahr\": \"2020-01-01T00:00:00\", \"AlterV20Kurz\": \"60-79\", \"AlterV20Sort\": 4, \"SexCd\": 2, \"SexKurz\": \"W\", \"HerkunftCd\": 2, \"HerkunftLang\": \"Ausl\\u00e4nder/in\", \"KreisCd\": 11, \"KreisLang\": \"Kreis 11\", \"AufDauerP25\": 12.7, \"AufDauerMedian\": 27.2, \"AufDauerP75\": 42.8, \"AufDauerMittel\": 28.0}, {\"StichtagDatJahr\": \"2020-01-01T00:00:00\", \"AlterV20Kurz\": \"60-79\", \"AlterV20Sort\": 4, \"SexCd\": 2, \"SexKurz\": \"W\", \"HerkunftCd\": 2, \"HerkunftLang\": \"Ausl\\u00e4nder/in\", \"KreisCd\": 12, \"KreisLang\": \"Kreis 12\", \"AufDauerP25\": 16.6, \"AufDauerMedian\": 30.5, \"AufDauerP75\": 44.0, \"AufDauerMittel\": 30.2}, {\"StichtagDatJahr\": \"2020-01-01T00:00:00\", \"AlterV20Kurz\": \"80-99\", \"AlterV20Sort\": 5, \"SexCd\": 1, \"SexKurz\": \"M\", \"HerkunftCd\": 1, \"HerkunftLang\": \"Schweizer/in\", \"KreisCd\": 1, \"KreisLang\": \"Kreis 1\", \"AufDauerP25\": 31.3, \"AufDauerMedian\": 55.2, \"AufDauerP75\": 65.2, \"AufDauerMittel\": 50.3}, {\"StichtagDatJahr\": \"2020-01-01T00:00:00\", \"AlterV20Kurz\": \"80-99\", \"AlterV20Sort\": 5, \"SexCd\": 1, \"SexKurz\": \"M\", \"HerkunftCd\": 1, \"HerkunftLang\": \"Schweizer/in\", \"KreisCd\": 2, \"KreisLang\": \"Kreis 2\", \"AufDauerP25\": 38.7, \"AufDauerMedian\": 56.2, \"AufDauerP75\": 65.8, \"AufDauerMittel\": 51.9}, {\"StichtagDatJahr\": \"2020-01-01T00:00:00\", \"AlterV20Kurz\": \"80-99\", \"AlterV20Sort\": 5, \"SexCd\": 1, \"SexKurz\": \"M\", \"HerkunftCd\": 1, \"HerkunftLang\": \"Schweizer/in\", \"KreisCd\": 3, \"KreisLang\": \"Kreis 3\", \"AufDauerP25\": 46.8, \"AufDauerMedian\": 59.9, \"AufDauerP75\": 68.5, \"AufDauerMittel\": 56.4}, {\"StichtagDatJahr\": \"2020-01-01T00:00:00\", \"AlterV20Kurz\": \"80-99\", \"AlterV20Sort\": 5, \"SexCd\": 1, \"SexKurz\": \"M\", \"HerkunftCd\": 1, \"HerkunftLang\": \"Schweizer/in\", \"KreisCd\": 4, \"KreisLang\": \"Kreis 4\", \"AufDauerP25\": 34.2, \"AufDauerMedian\": 54.35, \"AufDauerP75\": 65.0, \"AufDauerMittel\": 49.9}, {\"StichtagDatJahr\": \"2020-01-01T00:00:00\", \"AlterV20Kurz\": \"80-99\", \"AlterV20Sort\": 5, \"SexCd\": 1, \"SexKurz\": \"M\", \"HerkunftCd\": 1, \"HerkunftLang\": \"Schweizer/in\", \"KreisCd\": 5, \"KreisLang\": \"Kreis 5\", \"AufDauerP25\": 29.6, \"AufDauerMedian\": 49.1, \"AufDauerP75\": 62.4, \"AufDauerMittel\": 46.6}, {\"StichtagDatJahr\": \"2020-01-01T00:00:00\", \"AlterV20Kurz\": \"80-99\", \"AlterV20Sort\": 5, \"SexCd\": 1, \"SexKurz\": \"M\", \"HerkunftCd\": 1, \"HerkunftLang\": \"Schweizer/in\", \"KreisCd\": 6, \"KreisLang\": \"Kreis 6\", \"AufDauerP25\": 38.2, \"AufDauerMedian\": 56.15, \"AufDauerP75\": 64.55, \"AufDauerMittel\": 52.3}, {\"StichtagDatJahr\": \"2020-01-01T00:00:00\", \"AlterV20Kurz\": \"80-99\", \"AlterV20Sort\": 5, \"SexCd\": 1, \"SexKurz\": \"M\", \"HerkunftCd\": 1, \"HerkunftLang\": \"Schweizer/in\", \"KreisCd\": 7, \"KreisLang\": \"Kreis 7\", \"AufDauerP25\": 34.7, \"AufDauerMedian\": 51.5, \"AufDauerP75\": 61.1, \"AufDauerMittel\": 47.5}, {\"StichtagDatJahr\": \"2020-01-01T00:00:00\", \"AlterV20Kurz\": \"80-99\", \"AlterV20Sort\": 5, \"SexCd\": 1, \"SexKurz\": \"M\", \"HerkunftCd\": 1, \"HerkunftLang\": \"Schweizer/in\", \"KreisCd\": 8, \"KreisLang\": \"Kreis 8\", \"AufDauerP25\": 26.55, \"AufDauerMedian\": 52.4, \"AufDauerP75\": 63.1, \"AufDauerMittel\": 47.0}, {\"StichtagDatJahr\": \"2020-01-01T00:00:00\", \"AlterV20Kurz\": \"80-99\", \"AlterV20Sort\": 5, \"SexCd\": 1, \"SexKurz\": \"M\", \"HerkunftCd\": 1, \"HerkunftLang\": \"Schweizer/in\", \"KreisCd\": 9, \"KreisLang\": \"Kreis 9\", \"AufDauerP25\": 46.8, \"AufDauerMedian\": 59.6, \"AufDauerP75\": 68.8, \"AufDauerMittel\": 56.7}, {\"StichtagDatJahr\": \"2020-01-01T00:00:00\", \"AlterV20Kurz\": \"80-99\", \"AlterV20Sort\": 5, \"SexCd\": 1, \"SexKurz\": \"M\", \"HerkunftCd\": 1, \"HerkunftLang\": \"Schweizer/in\", \"KreisCd\": 10, \"KreisLang\": \"Kreis 10\", \"AufDauerP25\": 36.2, \"AufDauerMedian\": 55.9, \"AufDauerP75\": 64.9, \"AufDauerMittel\": 51.6}, {\"StichtagDatJahr\": \"2020-01-01T00:00:00\", \"AlterV20Kurz\": \"80-99\", \"AlterV20Sort\": 5, \"SexCd\": 1, \"SexKurz\": \"M\", \"HerkunftCd\": 1, \"HerkunftLang\": \"Schweizer/in\", \"KreisCd\": 11, \"KreisLang\": \"Kreis 11\", \"AufDauerP25\": 44.7, \"AufDauerMedian\": 58.8, \"AufDauerP75\": 67.1, \"AufDauerMittel\": 55.2}, {\"StichtagDatJahr\": \"2020-01-01T00:00:00\", \"AlterV20Kurz\": \"80-99\", \"AlterV20Sort\": 5, \"SexCd\": 1, \"SexKurz\": \"M\", \"HerkunftCd\": 1, \"HerkunftLang\": \"Schweizer/in\", \"KreisCd\": 12, \"KreisLang\": \"Kreis 12\", \"AufDauerP25\": 49.5, \"AufDauerMedian\": 61.7, \"AufDauerP75\": 69.5, \"AufDauerMittel\": 58.1}, {\"StichtagDatJahr\": \"2020-01-01T00:00:00\", \"AlterV20Kurz\": \"80-99\", \"AlterV20Sort\": 5, \"SexCd\": 1, \"SexKurz\": \"M\", \"HerkunftCd\": 2, \"HerkunftLang\": \"Ausl\\u00e4nder/in\", \"KreisCd\": 1, \"KreisLang\": \"Kreis 1\", \"AufDauerP25\": 23.0, \"AufDauerMedian\": 48.7, \"AufDauerP75\": 56.6, \"AufDauerMittel\": 40.6}, {\"StichtagDatJahr\": \"2020-01-01T00:00:00\", \"AlterV20Kurz\": \"80-99\", \"AlterV20Sort\": 5, \"SexCd\": 1, \"SexKurz\": \"M\", \"HerkunftCd\": 2, \"HerkunftLang\": \"Ausl\\u00e4nder/in\", \"KreisCd\": 2, \"KreisLang\": \"Kreis 2\", \"AufDauerP25\": 29.8, \"AufDauerMedian\": 47.0, \"AufDauerP75\": 55.8, \"AufDauerMittel\": 42.4}, {\"StichtagDatJahr\": \"2020-01-01T00:00:00\", \"AlterV20Kurz\": \"80-99\", \"AlterV20Sort\": 5, \"SexCd\": 1, \"SexKurz\": \"M\", \"HerkunftCd\": 2, \"HerkunftLang\": \"Ausl\\u00e4nder/in\", \"KreisCd\": 3, \"KreisLang\": \"Kreis 3\", \"AufDauerP25\": 38.65, \"AufDauerMedian\": 51.05, \"AufDauerP75\": 56.7, \"AufDauerMittel\": 45.1}, {\"StichtagDatJahr\": \"2020-01-01T00:00:00\", \"AlterV20Kurz\": \"80-99\", \"AlterV20Sort\": 5, \"SexCd\": 1, \"SexKurz\": \"M\", \"HerkunftCd\": 2, \"HerkunftLang\": \"Ausl\\u00e4nder/in\", \"KreisCd\": 4, \"KreisLang\": \"Kreis 4\", \"AufDauerP25\": 40.2, \"AufDauerMedian\": 50.5, \"AufDauerP75\": 55.8, \"AufDauerMittel\": 46.8}, {\"StichtagDatJahr\": \"2020-01-01T00:00:00\", \"AlterV20Kurz\": \"80-99\", \"AlterV20Sort\": 5, \"SexCd\": 1, \"SexKurz\": \"M\", \"HerkunftCd\": 2, \"HerkunftLang\": \"Ausl\\u00e4nder/in\", \"KreisCd\": 5, \"KreisLang\": \"Kreis 5\", \"AufDauerP25\": 48.3, \"AufDauerMedian\": 52.0, \"AufDauerP75\": 55.6, \"AufDauerMittel\": 47.9}, {\"StichtagDatJahr\": \"2020-01-01T00:00:00\", \"AlterV20Kurz\": \"80-99\", \"AlterV20Sort\": 5, \"SexCd\": 1, \"SexKurz\": \"M\", \"HerkunftCd\": 2, \"HerkunftLang\": \"Ausl\\u00e4nder/in\", \"KreisCd\": 6, \"KreisLang\": \"Kreis 6\", \"AufDauerP25\": 35.1, \"AufDauerMedian\": 45.75, \"AufDauerP75\": 56.0, \"AufDauerMittel\": 43.0}, {\"StichtagDatJahr\": \"2020-01-01T00:00:00\", \"AlterV20Kurz\": \"80-99\", \"AlterV20Sort\": 5, \"SexCd\": 1, \"SexKurz\": \"M\", \"HerkunftCd\": 2, \"HerkunftLang\": \"Ausl\\u00e4nder/in\", \"KreisCd\": 7, \"KreisLang\": \"Kreis 7\", \"AufDauerP25\": 27.0, \"AufDauerMedian\": 44.35, \"AufDauerP75\": 57.0, \"AufDauerMittel\": 41.1}, {\"StichtagDatJahr\": \"2020-01-01T00:00:00\", \"AlterV20Kurz\": \"80-99\", \"AlterV20Sort\": 5, \"SexCd\": 1, \"SexKurz\": \"M\", \"HerkunftCd\": 2, \"HerkunftLang\": \"Ausl\\u00e4nder/in\", \"KreisCd\": 8, \"KreisLang\": \"Kreis 8\", \"AufDauerP25\": 26.15, \"AufDauerMedian\": 47.8, \"AufDauerP75\": 57.6, \"AufDauerMittel\": 41.2}, {\"StichtagDatJahr\": \"2020-01-01T00:00:00\", \"AlterV20Kurz\": \"80-99\", \"AlterV20Sort\": 5, \"SexCd\": 1, \"SexKurz\": \"M\", \"HerkunftCd\": 2, \"HerkunftLang\": \"Ausl\\u00e4nder/in\", \"KreisCd\": 9, \"KreisLang\": \"Kreis 9\", \"AufDauerP25\": 39.9, \"AufDauerMedian\": 50.8, \"AufDauerP75\": 57.4, \"AufDauerMittel\": 46.0}, {\"StichtagDatJahr\": \"2020-01-01T00:00:00\", \"AlterV20Kurz\": \"80-99\", \"AlterV20Sort\": 5, \"SexCd\": 1, \"SexKurz\": \"M\", \"HerkunftCd\": 2, \"HerkunftLang\": \"Ausl\\u00e4nder/in\", \"KreisCd\": 10, \"KreisLang\": \"Kreis 10\", \"AufDauerP25\": 29.3, \"AufDauerMedian\": 50.9, \"AufDauerP75\": 57.7, \"AufDauerMittel\": 43.3}, {\"StichtagDatJahr\": \"2020-01-01T00:00:00\", \"AlterV20Kurz\": \"80-99\", \"AlterV20Sort\": 5, \"SexCd\": 1, \"SexKurz\": \"M\", \"HerkunftCd\": 2, \"HerkunftLang\": \"Ausl\\u00e4nder/in\", \"KreisCd\": 11, \"KreisLang\": \"Kreis 11\", \"AufDauerP25\": 40.9, \"AufDauerMedian\": 52.3, \"AufDauerP75\": 58.2, \"AufDauerMittel\": 47.3}, {\"StichtagDatJahr\": \"2020-01-01T00:00:00\", \"AlterV20Kurz\": \"80-99\", \"AlterV20Sort\": 5, \"SexCd\": 1, \"SexKurz\": \"M\", \"HerkunftCd\": 2, \"HerkunftLang\": \"Ausl\\u00e4nder/in\", \"KreisCd\": 12, \"KreisLang\": \"Kreis 12\", \"AufDauerP25\": 36.8, \"AufDauerMedian\": 50.85, \"AufDauerP75\": 57.8, \"AufDauerMittel\": 45.8}, {\"StichtagDatJahr\": \"2020-01-01T00:00:00\", \"AlterV20Kurz\": \"80-99\", \"AlterV20Sort\": 5, \"SexCd\": 2, \"SexKurz\": \"W\", \"HerkunftCd\": 1, \"HerkunftLang\": \"Schweizer/in\", \"KreisCd\": 1, \"KreisLang\": \"Kreis 1\", \"AufDauerP25\": 39.2, \"AufDauerMedian\": 54.5, \"AufDauerP75\": 65.8, \"AufDauerMittel\": 51.9}, {\"StichtagDatJahr\": \"2020-01-01T00:00:00\", \"AlterV20Kurz\": \"80-99\", \"AlterV20Sort\": 5, \"SexCd\": 2, \"SexKurz\": \"W\", \"HerkunftCd\": 1, \"HerkunftLang\": \"Schweizer/in\", \"KreisCd\": 2, \"KreisLang\": \"Kreis 2\", \"AufDauerP25\": 36.8, \"AufDauerMedian\": 56.2, \"AufDauerP75\": 65.9, \"AufDauerMittel\": 51.3}, {\"StichtagDatJahr\": \"2020-01-01T00:00:00\", \"AlterV20Kurz\": \"80-99\", \"AlterV20Sort\": 5, \"SexCd\": 2, \"SexKurz\": \"W\", \"HerkunftCd\": 1, \"HerkunftLang\": \"Schweizer/in\", \"KreisCd\": 3, \"KreisLang\": \"Kreis 3\", \"AufDauerP25\": 41.7, \"AufDauerMedian\": 57.5, \"AufDauerP75\": 66.8, \"AufDauerMittel\": 54.4}, {\"StichtagDatJahr\": \"2020-01-01T00:00:00\", \"AlterV20Kurz\": \"80-99\", \"AlterV20Sort\": 5, \"SexCd\": 2, \"SexKurz\": \"W\", \"HerkunftCd\": 1, \"HerkunftLang\": \"Schweizer/in\", \"KreisCd\": 4, \"KreisLang\": \"Kreis 4\", \"AufDauerP25\": 37.1, \"AufDauerMedian\": 54.7, \"AufDauerP75\": 64.7, \"AufDauerMittel\": 50.9}, {\"StichtagDatJahr\": \"2020-01-01T00:00:00\", \"AlterV20Kurz\": \"80-99\", \"AlterV20Sort\": 5, \"SexCd\": 2, \"SexKurz\": \"W\", \"HerkunftCd\": 1, \"HerkunftLang\": \"Schweizer/in\", \"KreisCd\": 5, \"KreisLang\": \"Kreis 5\", \"AufDauerP25\": 33.0, \"AufDauerMedian\": 55.3, \"AufDauerP75\": 64.1, \"AufDauerMittel\": 48.6}, {\"StichtagDatJahr\": \"2020-01-01T00:00:00\", \"AlterV20Kurz\": \"80-99\", \"AlterV20Sort\": 5, \"SexCd\": 2, \"SexKurz\": \"W\", \"HerkunftCd\": 1, \"HerkunftLang\": \"Schweizer/in\", \"KreisCd\": 6, \"KreisLang\": \"Kreis 6\", \"AufDauerP25\": 37.7, \"AufDauerMedian\": 54.9, \"AufDauerP75\": 65.5, \"AufDauerMittel\": 52.4}, {\"StichtagDatJahr\": \"2020-01-01T00:00:00\", \"AlterV20Kurz\": \"80-99\", \"AlterV20Sort\": 5, \"SexCd\": 2, \"SexKurz\": \"W\", \"HerkunftCd\": 1, \"HerkunftLang\": \"Schweizer/in\", \"KreisCd\": 7, \"KreisLang\": \"Kreis 7\", \"AufDauerP25\": 28.4, \"AufDauerMedian\": 49.85, \"AufDauerP75\": 61.8, \"AufDauerMittel\": 46.1}, {\"StichtagDatJahr\": \"2020-01-01T00:00:00\", \"AlterV20Kurz\": \"80-99\", \"AlterV20Sort\": 5, \"SexCd\": 2, \"SexKurz\": \"W\", \"HerkunftCd\": 1, \"HerkunftLang\": \"Schweizer/in\", \"KreisCd\": 8, \"KreisLang\": \"Kreis 8\", \"AufDauerP25\": 29.2, \"AufDauerMedian\": 50.8, \"AufDauerP75\": 61.0, \"AufDauerMittel\": 45.8}, {\"StichtagDatJahr\": \"2020-01-01T00:00:00\", \"AlterV20Kurz\": \"80-99\", \"AlterV20Sort\": 5, \"SexCd\": 2, \"SexKurz\": \"W\", \"HerkunftCd\": 1, \"HerkunftLang\": \"Schweizer/in\", \"KreisCd\": 9, \"KreisLang\": \"Kreis 9\", \"AufDauerP25\": 43.5, \"AufDauerMedian\": 58.5, \"AufDauerP75\": 67.3, \"AufDauerMittel\": 54.9}, {\"StichtagDatJahr\": \"2020-01-01T00:00:00\", \"AlterV20Kurz\": \"80-99\", \"AlterV20Sort\": 5, \"SexCd\": 2, \"SexKurz\": \"W\", \"HerkunftCd\": 1, \"HerkunftLang\": \"Schweizer/in\", \"KreisCd\": 10, \"KreisLang\": \"Kreis 10\", \"AufDauerP25\": 38.8, \"AufDauerMedian\": 55.5, \"AufDauerP75\": 66.2, \"AufDauerMittel\": 52.2}, {\"StichtagDatJahr\": \"2020-01-01T00:00:00\", \"AlterV20Kurz\": \"80-99\", \"AlterV20Sort\": 5, \"SexCd\": 2, \"SexKurz\": \"W\", \"HerkunftCd\": 1, \"HerkunftLang\": \"Schweizer/in\", \"KreisCd\": 11, \"KreisLang\": \"Kreis 11\", \"AufDauerP25\": 42.2, \"AufDauerMedian\": 58.3, \"AufDauerP75\": 67.2, \"AufDauerMittel\": 54.3}, {\"StichtagDatJahr\": \"2020-01-01T00:00:00\", \"AlterV20Kurz\": \"80-99\", \"AlterV20Sort\": 5, \"SexCd\": 2, \"SexKurz\": \"W\", \"HerkunftCd\": 1, \"HerkunftLang\": \"Schweizer/in\", \"KreisCd\": 12, \"KreisLang\": \"Kreis 12\", \"AufDauerP25\": 46.5, \"AufDauerMedian\": 60.2, \"AufDauerP75\": 67.25, \"AufDauerMittel\": 56.1}, {\"StichtagDatJahr\": \"2020-01-01T00:00:00\", \"AlterV20Kurz\": \"80-99\", \"AlterV20Sort\": 5, \"SexCd\": 2, \"SexKurz\": \"W\", \"HerkunftCd\": 2, \"HerkunftLang\": \"Ausl\\u00e4nder/in\", \"KreisCd\": 1, \"KreisLang\": \"Kreis 1\", \"AufDauerP25\": 17.8, \"AufDauerMedian\": 41.2, \"AufDauerP75\": 54.8, \"AufDauerMittel\": 38.7}, {\"StichtagDatJahr\": \"2020-01-01T00:00:00\", \"AlterV20Kurz\": \"80-99\", \"AlterV20Sort\": 5, \"SexCd\": 2, \"SexKurz\": \"W\", \"HerkunftCd\": 2, \"HerkunftLang\": \"Ausl\\u00e4nder/in\", \"KreisCd\": 2, \"KreisLang\": \"Kreis 2\", \"AufDauerP25\": 33.05, \"AufDauerMedian\": 51.3, \"AufDauerP75\": 57.4, \"AufDauerMittel\": 45.0}, {\"StichtagDatJahr\": \"2020-01-01T00:00:00\", \"AlterV20Kurz\": \"80-99\", \"AlterV20Sort\": 5, \"SexCd\": 2, \"SexKurz\": \"W\", \"HerkunftCd\": 2, \"HerkunftLang\": \"Ausl\\u00e4nder/in\", \"KreisCd\": 3, \"KreisLang\": \"Kreis 3\", \"AufDauerP25\": 38.3, \"AufDauerMedian\": 53.35, \"AufDauerP75\": 58.9, \"AufDauerMittel\": 46.7}, {\"StichtagDatJahr\": \"2020-01-01T00:00:00\", \"AlterV20Kurz\": \"80-99\", \"AlterV20Sort\": 5, \"SexCd\": 2, \"SexKurz\": \"W\", \"HerkunftCd\": 2, \"HerkunftLang\": \"Ausl\\u00e4nder/in\", \"KreisCd\": 4, \"KreisLang\": \"Kreis 4\", \"AufDauerP25\": 42.85, \"AufDauerMedian\": 54.05, \"AufDauerP75\": 60.85, \"AufDauerMittel\": 49.8}, {\"StichtagDatJahr\": \"2020-01-01T00:00:00\", \"AlterV20Kurz\": \"80-99\", \"AlterV20Sort\": 5, \"SexCd\": 2, \"SexKurz\": \"W\", \"HerkunftCd\": 2, \"HerkunftLang\": \"Ausl\\u00e4nder/in\", \"KreisCd\": 5, \"KreisLang\": \"Kreis 5\", \"AufDauerP25\": 30.2, \"AufDauerMedian\": 51.75, \"AufDauerP75\": 58.8, \"AufDauerMittel\": 43.5}, {\"StichtagDatJahr\": \"2020-01-01T00:00:00\", \"AlterV20Kurz\": \"80-99\", \"AlterV20Sort\": 5, \"SexCd\": 2, \"SexKurz\": \"W\", \"HerkunftCd\": 2, \"HerkunftLang\": \"Ausl\\u00e4nder/in\", \"KreisCd\": 6, \"KreisLang\": \"Kreis 6\", \"AufDauerP25\": 40.9, \"AufDauerMedian\": 51.0, \"AufDauerP75\": 58.2, \"AufDauerMittel\": 45.8}, {\"StichtagDatJahr\": \"2020-01-01T00:00:00\", \"AlterV20Kurz\": \"80-99\", \"AlterV20Sort\": 5, \"SexCd\": 2, \"SexKurz\": \"W\", \"HerkunftCd\": 2, \"HerkunftLang\": \"Ausl\\u00e4nder/in\", \"KreisCd\": 7, \"KreisLang\": \"Kreis 7\", \"AufDauerP25\": 20.2, \"AufDauerMedian\": 47.35, \"AufDauerP75\": 58.75, \"AufDauerMittel\": 40.4}, {\"StichtagDatJahr\": \"2020-01-01T00:00:00\", \"AlterV20Kurz\": \"80-99\", \"AlterV20Sort\": 5, \"SexCd\": 2, \"SexKurz\": \"W\", \"HerkunftCd\": 2, \"HerkunftLang\": \"Ausl\\u00e4nder/in\", \"KreisCd\": 8, \"KreisLang\": \"Kreis 8\", \"AufDauerP25\": 34.1, \"AufDauerMedian\": 54.5, \"AufDauerP75\": 58.4, \"AufDauerMittel\": 45.7}, {\"StichtagDatJahr\": \"2020-01-01T00:00:00\", \"AlterV20Kurz\": \"80-99\", \"AlterV20Sort\": 5, \"SexCd\": 2, \"SexKurz\": \"W\", \"HerkunftCd\": 2, \"HerkunftLang\": \"Ausl\\u00e4nder/in\", \"KreisCd\": 9, \"KreisLang\": \"Kreis 9\", \"AufDauerP25\": 37.9, \"AufDauerMedian\": 52.1, \"AufDauerP75\": 58.2, \"AufDauerMittel\": 45.9}, {\"StichtagDatJahr\": \"2020-01-01T00:00:00\", \"AlterV20Kurz\": \"80-99\", \"AlterV20Sort\": 5, \"SexCd\": 2, \"SexKurz\": \"W\", \"HerkunftCd\": 2, \"HerkunftLang\": \"Ausl\\u00e4nder/in\", \"KreisCd\": 10, \"KreisLang\": \"Kreis 10\", \"AufDauerP25\": 39.9, \"AufDauerMedian\": 54.2, \"AufDauerP75\": 60.1, \"AufDauerMittel\": 49.3}, {\"StichtagDatJahr\": \"2020-01-01T00:00:00\", \"AlterV20Kurz\": \"80-99\", \"AlterV20Sort\": 5, \"SexCd\": 2, \"SexKurz\": \"W\", \"HerkunftCd\": 2, \"HerkunftLang\": \"Ausl\\u00e4nder/in\", \"KreisCd\": 11, \"KreisLang\": \"Kreis 11\", \"AufDauerP25\": 39.0, \"AufDauerMedian\": 54.0, \"AufDauerP75\": 59.2, \"AufDauerMittel\": 46.9}, {\"StichtagDatJahr\": \"2020-01-01T00:00:00\", \"AlterV20Kurz\": \"80-99\", \"AlterV20Sort\": 5, \"SexCd\": 2, \"SexKurz\": \"W\", \"HerkunftCd\": 2, \"HerkunftLang\": \"Ausl\\u00e4nder/in\", \"KreisCd\": 12, \"KreisLang\": \"Kreis 12\", \"AufDauerP25\": 34.2, \"AufDauerMedian\": 51.5, \"AufDauerP75\": 58.8, \"AufDauerMittel\": 45.7}, {\"StichtagDatJahr\": \"2020-01-01T00:00:00\", \"AlterV20Kurz\": \"100 u. \\u00e4lter\", \"AlterV20Sort\": 6, \"SexCd\": 1, \"SexKurz\": \"M\", \"HerkunftCd\": 1, \"HerkunftLang\": \"Schweizer/in\", \"KreisCd\": 1, \"KreisLang\": \"Kreis 1\", \"AufDauerP25\": 100.8, \"AufDauerMedian\": 100.8, \"AufDauerP75\": 100.8, \"AufDauerMittel\": 100.8}, {\"StichtagDatJahr\": \"2020-01-01T00:00:00\", \"AlterV20Kurz\": \"100 u. \\u00e4lter\", \"AlterV20Sort\": 6, \"SexCd\": 1, \"SexKurz\": \"M\", \"HerkunftCd\": 1, \"HerkunftLang\": \"Schweizer/in\", \"KreisCd\": 2, \"KreisLang\": \"Kreis 2\", \"AufDauerP25\": 5.2, \"AufDauerMedian\": 59.6, \"AufDauerP75\": 76.1, \"AufDauerMittel\": 47.0}, {\"StichtagDatJahr\": \"2020-01-01T00:00:00\", \"AlterV20Kurz\": \"100 u. \\u00e4lter\", \"AlterV20Sort\": 6, \"SexCd\": 1, \"SexKurz\": \"M\", \"HerkunftCd\": 1, \"HerkunftLang\": \"Schweizer/in\", \"KreisCd\": 3, \"KreisLang\": \"Kreis 3\", \"AufDauerP25\": 58.5, \"AufDauerMedian\": 69.8, \"AufDauerP75\": 81.4, \"AufDauerMittel\": 65.5}, {\"StichtagDatJahr\": \"2020-01-01T00:00:00\", \"AlterV20Kurz\": \"100 u. \\u00e4lter\", \"AlterV20Sort\": 6, \"SexCd\": 1, \"SexKurz\": \"M\", \"HerkunftCd\": 1, \"HerkunftLang\": \"Schweizer/in\", \"KreisCd\": 6, \"KreisLang\": \"Kreis 6\", \"AufDauerP25\": 53.2, \"AufDauerMedian\": 63.9, \"AufDauerP75\": 74.9, \"AufDauerMittel\": 64.0}, {\"StichtagDatJahr\": \"2020-01-01T00:00:00\", \"AlterV20Kurz\": \"100 u. \\u00e4lter\", \"AlterV20Sort\": 6, \"SexCd\": 1, \"SexKurz\": \"M\", \"HerkunftCd\": 1, \"HerkunftLang\": \"Schweizer/in\", \"KreisCd\": 7, \"KreisLang\": \"Kreis 7\", \"AufDauerP25\": 8.7, \"AufDauerMedian\": 32.45, \"AufDauerP75\": 56.2, \"AufDauerMittel\": 32.5}, {\"StichtagDatJahr\": \"2020-01-01T00:00:00\", \"AlterV20Kurz\": \"100 u. \\u00e4lter\", \"AlterV20Sort\": 6, \"SexCd\": 1, \"SexKurz\": \"M\", \"HerkunftCd\": 1, \"HerkunftLang\": \"Schweizer/in\", \"KreisCd\": 8, \"KreisLang\": \"Kreis 8\", \"AufDauerP25\": 33.5, \"AufDauerMedian\": 33.5, \"AufDauerP75\": 33.5, \"AufDauerMittel\": 33.5}, {\"StichtagDatJahr\": \"2020-01-01T00:00:00\", \"AlterV20Kurz\": \"100 u. \\u00e4lter\", \"AlterV20Sort\": 6, \"SexCd\": 1, \"SexKurz\": \"M\", \"HerkunftCd\": 1, \"HerkunftLang\": \"Schweizer/in\", \"KreisCd\": 10, \"KreisLang\": \"Kreis 10\", \"AufDauerP25\": 83.6, \"AufDauerMedian\": 84.15, \"AufDauerP75\": 84.7, \"AufDauerMittel\": 84.2}, {\"StichtagDatJahr\": \"2020-01-01T00:00:00\", \"AlterV20Kurz\": \"100 u. \\u00e4lter\", \"AlterV20Sort\": 6, \"SexCd\": 1, \"SexKurz\": \"M\", \"HerkunftCd\": 1, \"HerkunftLang\": \"Schweizer/in\", \"KreisCd\": 11, \"KreisLang\": \"Kreis 11\", \"AufDauerP25\": 58.9, \"AufDauerMedian\": 68.85, \"AufDauerP75\": 78.8, \"AufDauerMittel\": 68.9}, {\"StichtagDatJahr\": \"2020-01-01T00:00:00\", \"AlterV20Kurz\": \"100 u. \\u00e4lter\", \"AlterV20Sort\": 6, \"SexCd\": 1, \"SexKurz\": \"M\", \"HerkunftCd\": 1, \"HerkunftLang\": \"Schweizer/in\", \"KreisCd\": 12, \"KreisLang\": \"Kreis 12\", \"AufDauerP25\": 72.5, \"AufDauerMedian\": 87.35, \"AufDauerP75\": 102.2, \"AufDauerMittel\": 87.4}, {\"StichtagDatJahr\": \"2020-01-01T00:00:00\", \"AlterV20Kurz\": \"100 u. \\u00e4lter\", \"AlterV20Sort\": 6, \"SexCd\": 2, \"SexKurz\": \"W\", \"HerkunftCd\": 1, \"HerkunftLang\": \"Schweizer/in\", \"KreisCd\": 1, \"KreisLang\": \"Kreis 1\", \"AufDauerP25\": 53.5, \"AufDauerMedian\": 68.0, \"AufDauerP75\": 74.8, \"AufDauerMittel\": 65.4}, {\"StichtagDatJahr\": \"2020-01-01T00:00:00\", \"AlterV20Kurz\": \"100 u. \\u00e4lter\", \"AlterV20Sort\": 6, \"SexCd\": 2, \"SexKurz\": \"W\", \"HerkunftCd\": 1, \"HerkunftLang\": \"Schweizer/in\", \"KreisCd\": 2, \"KreisLang\": \"Kreis 2\", \"AufDauerP25\": 35.2, \"AufDauerMedian\": 66.5, \"AufDauerP75\": 86.6, \"AufDauerMittel\": 57.5}, {\"StichtagDatJahr\": \"2020-01-01T00:00:00\", \"AlterV20Kurz\": \"100 u. \\u00e4lter\", \"AlterV20Sort\": 6, \"SexCd\": 2, \"SexKurz\": \"W\", \"HerkunftCd\": 1, \"HerkunftLang\": \"Schweizer/in\", \"KreisCd\": 3, \"KreisLang\": \"Kreis 3\", \"AufDauerP25\": 71.9, \"AufDauerMedian\": 86.7, \"AufDauerP75\": 103.9, \"AufDauerMittel\": 87.5}, {\"StichtagDatJahr\": \"2020-01-01T00:00:00\", \"AlterV20Kurz\": \"100 u. \\u00e4lter\", \"AlterV20Sort\": 6, \"SexCd\": 2, \"SexKurz\": \"W\", \"HerkunftCd\": 1, \"HerkunftLang\": \"Schweizer/in\", \"KreisCd\": 4, \"KreisLang\": \"Kreis 4\", \"AufDauerP25\": 1.1, \"AufDauerMedian\": 35.8, \"AufDauerP75\": 102.8, \"AufDauerMittel\": 46.6}, {\"StichtagDatJahr\": \"2020-01-01T00:00:00\", \"AlterV20Kurz\": \"100 u. \\u00e4lter\", \"AlterV20Sort\": 6, \"SexCd\": 2, \"SexKurz\": \"W\", \"HerkunftCd\": 1, \"HerkunftLang\": \"Schweizer/in\", \"KreisCd\": 6, \"KreisLang\": \"Kreis 6\", \"AufDauerP25\": 54.8, \"AufDauerMedian\": 74.2, \"AufDauerP75\": 100.1, \"AufDauerMittel\": 73.5}, {\"StichtagDatJahr\": \"2020-01-01T00:00:00\", \"AlterV20Kurz\": \"100 u. \\u00e4lter\", \"AlterV20Sort\": 6, \"SexCd\": 2, \"SexKurz\": \"W\", \"HerkunftCd\": 1, \"HerkunftLang\": \"Schweizer/in\", \"KreisCd\": 7, \"KreisLang\": \"Kreis 7\", \"AufDauerP25\": 59.7, \"AufDauerMedian\": 70.45, \"AufDauerP75\": 76.2, \"AufDauerMittel\": 66.0}, {\"StichtagDatJahr\": \"2020-01-01T00:00:00\", \"AlterV20Kurz\": \"100 u. \\u00e4lter\", \"AlterV20Sort\": 6, \"SexCd\": 2, \"SexKurz\": \"W\", \"HerkunftCd\": 1, \"HerkunftLang\": \"Schweizer/in\", \"KreisCd\": 8, \"KreisLang\": \"Kreis 8\", \"AufDauerP25\": 22.7, \"AufDauerMedian\": 66.3, \"AufDauerP75\": 100.6, \"AufDauerMittel\": 60.2}, {\"StichtagDatJahr\": \"2020-01-01T00:00:00\", \"AlterV20Kurz\": \"100 u. \\u00e4lter\", \"AlterV20Sort\": 6, \"SexCd\": 2, \"SexKurz\": \"W\", \"HerkunftCd\": 1, \"HerkunftLang\": \"Schweizer/in\", \"KreisCd\": 9, \"KreisLang\": \"Kreis 9\", \"AufDauerP25\": 59.1, \"AufDauerMedian\": 72.0, \"AufDauerP75\": 75.1, \"AufDauerMittel\": 67.1}, {\"StichtagDatJahr\": \"2020-01-01T00:00:00\", \"AlterV20Kurz\": \"100 u. \\u00e4lter\", \"AlterV20Sort\": 6, \"SexCd\": 2, \"SexKurz\": \"W\", \"HerkunftCd\": 1, \"HerkunftLang\": \"Schweizer/in\", \"KreisCd\": 10, \"KreisLang\": \"Kreis 10\", \"AufDauerP25\": 52.1, \"AufDauerMedian\": 68.5, \"AufDauerP75\": 75.6, \"AufDauerMittel\": 57.4}, {\"StichtagDatJahr\": \"2020-01-01T00:00:00\", \"AlterV20Kurz\": \"100 u. \\u00e4lter\", \"AlterV20Sort\": 6, \"SexCd\": 2, \"SexKurz\": \"W\", \"HerkunftCd\": 1, \"HerkunftLang\": \"Schweizer/in\", \"KreisCd\": 11, \"KreisLang\": \"Kreis 11\", \"AufDauerP25\": 13.2, \"AufDauerMedian\": 63.8, \"AufDauerP75\": 74.3, \"AufDauerMittel\": 54.8}, {\"StichtagDatJahr\": \"2020-01-01T00:00:00\", \"AlterV20Kurz\": \"100 u. \\u00e4lter\", \"AlterV20Sort\": 6, \"SexCd\": 2, \"SexKurz\": \"W\", \"HerkunftCd\": 1, \"HerkunftLang\": \"Schweizer/in\", \"KreisCd\": 12, \"KreisLang\": \"Kreis 12\", \"AufDauerP25\": 42.95, \"AufDauerMedian\": 59.5, \"AufDauerP75\": 81.75, \"AufDauerMittel\": 62.4}, {\"StichtagDatJahr\": \"2020-01-01T00:00:00\", \"AlterV20Kurz\": \"100 u. \\u00e4lter\", \"AlterV20Sort\": 6, \"SexCd\": 2, \"SexKurz\": \"W\", \"HerkunftCd\": 2, \"HerkunftLang\": \"Ausl\\u00e4nder/in\", \"KreisCd\": 3, \"KreisLang\": \"Kreis 3\", \"AufDauerP25\": 9.0, \"AufDauerMedian\": 38.65, \"AufDauerP75\": 68.3, \"AufDauerMittel\": 38.7}, {\"StichtagDatJahr\": \"2020-01-01T00:00:00\", \"AlterV20Kurz\": \"100 u. \\u00e4lter\", \"AlterV20Sort\": 6, \"SexCd\": 2, \"SexKurz\": \"W\", \"HerkunftCd\": 2, \"HerkunftLang\": \"Ausl\\u00e4nder/in\", \"KreisCd\": 4, \"KreisLang\": \"Kreis 4\", \"AufDauerP25\": 39.5, \"AufDauerMedian\": 39.5, \"AufDauerP75\": 39.5, \"AufDauerMittel\": 39.5}, {\"StichtagDatJahr\": \"2020-01-01T00:00:00\", \"AlterV20Kurz\": \"100 u. \\u00e4lter\", \"AlterV20Sort\": 6, \"SexCd\": 2, \"SexKurz\": \"W\", \"HerkunftCd\": 2, \"HerkunftLang\": \"Ausl\\u00e4nder/in\", \"KreisCd\": 6, \"KreisLang\": \"Kreis 6\", \"AufDauerP25\": 38.8, \"AufDauerMedian\": 38.8, \"AufDauerP75\": 38.8, \"AufDauerMittel\": 38.8}, {\"StichtagDatJahr\": \"2020-01-01T00:00:00\", \"AlterV20Kurz\": \"100 u. \\u00e4lter\", \"AlterV20Sort\": 6, \"SexCd\": 2, \"SexKurz\": \"W\", \"HerkunftCd\": 2, \"HerkunftLang\": \"Ausl\\u00e4nder/in\", \"KreisCd\": 8, \"KreisLang\": \"Kreis 8\", \"AufDauerP25\": 20.2, \"AufDauerMedian\": 20.2, \"AufDauerP75\": 20.2, \"AufDauerMittel\": 20.2}, {\"StichtagDatJahr\": \"2020-01-01T00:00:00\", \"AlterV20Kurz\": \"100 u. \\u00e4lter\", \"AlterV20Sort\": 6, \"SexCd\": 2, \"SexKurz\": \"W\", \"HerkunftCd\": 2, \"HerkunftLang\": \"Ausl\\u00e4nder/in\", \"KreisCd\": 10, \"KreisLang\": \"Kreis 10\", \"AufDauerP25\": 32.7, \"AufDauerMedian\": 32.7, \"AufDauerP75\": 32.7, \"AufDauerMittel\": 32.7}]}}, {\"mode\": \"vega-lite\"});\n",
       "</script>"
      ],
      "text/plain": [
       "alt.Chart(...)"
      ]
     },
     "execution_count": 34,
     "metadata": {},
     "output_type": "execute_result"
    }
   ],
   "source": [
    "alt.Chart(data2betested).mark_circle(size=60).encode(\n",
    "    x='KreisLang',\n",
    "    y='AlterV20Kurz',\n",
    "    color='AufDauerMedian',\n",
    "    tooltip=['KreisLang','AlterV20Kurz','AufDauerMedian']\n",
    ").interactive() # this makes the axes interactive: now you can zoom & pan\n",
    "\n"
   ]
  },
  {
   "cell_type": "code",
   "execution_count": null,
   "metadata": {},
   "outputs": [],
   "source": [
    "import seaborn as sns\n",
    "sns.set(style=\"darkgrid\")\n",
    "sns.histplot(data=mySelection, x=\"AufDauerMedian\") #, y=\"KonOGDKurz\")\n",
    "plt.show();"
   ]
  },
  {
   "cell_type": "markdown",
   "metadata": {},
   "source": [
    "Test: Choroplethenkarte"
   ]
  },
  {
   "cell_type": "markdown",
   "metadata": {},
   "source": [
    "**Test: Choroplethenkarte**\n",
    "Importiere die Geodaten als GeoJSON"
   ]
  },
  {
   "cell_type": "code",
   "execution_count": null,
   "metadata": {},
   "outputs": [],
   "source": [
    "# Read abt. Geopandas https://geopandas.org/docs/user_guide/io.html\n",
    "# Filepath statzonen\n",
    "input_stadtkreise = r\"//szh.loc/ssz/data/GIS/Daten/Vektor/_aktuell/stzh.adm_stadtkreise_a.json\"\n",
    "df_stadtkreise = gpd.read_file(input_stadtkreise)\n",
    "df_stadtkreise.head(2)\n",
    "#df_stadtkreise.dtypes\n"
   ]
  },
  {
   "cell_type": "markdown",
   "metadata": {},
   "source": [
    "Joine die importierten statistischen Daten des aktuellen Jahres zum Geodatensatz:\n",
    "\n",
    "*Siehe dazu Doku zu [Geopandas](https://geopandas.org/docs/user_guide/mergingdata.html)*"
   ]
  },
  {
   "cell_type": "code",
   "execution_count": 22,
   "metadata": {},
   "outputs": [
    {
     "data": {
      "text/plain": [
       "KreisLang  SexKurz  HerkunftLang\n",
       "Kreis 1    M        Ausländer/in    75\n",
       "                    Schweizer/in   224\n",
       "           W        Ausländer/in    64\n",
       "                    Schweizer/in   191\n",
       "Kreis 10   M        Ausländer/in    98\n",
       "Name: AufDauerMedian, dtype: float64"
      ]
     },
     "execution_count": 22,
     "metadata": {},
     "output_type": "execute_result"
    }
   ],
   "source": [
    "stats_agg_kreis=aktuellesJahr.groupby(['KreisLang','SexKurz','HerkunftLang'])['AufDauerMedian'].sum()\n",
    "#test = data2betested.groupby(['StichtagDatJahr', 'AlterV20Kurz'])[['AnzBestWir']].agg()\n",
    "stats_agg_kreis.head()\n",
    "#test = data2betested.groupby(['StichtagDatJahr', 'AlterV20Kurz'])[['AnzBestWir']].agg()"
   ]
  },
  {
   "cell_type": "code",
   "execution_count": 23,
   "metadata": {},
   "outputs": [
    {
     "data": {
      "text/html": [
       "<div>\n",
       "<style scoped>\n",
       "    .dataframe tbody tr th:only-of-type {\n",
       "        vertical-align: middle;\n",
       "    }\n",
       "\n",
       "    .dataframe tbody tr th {\n",
       "        vertical-align: top;\n",
       "    }\n",
       "\n",
       "    .dataframe thead th {\n",
       "        text-align: right;\n",
       "    }\n",
       "</style>\n",
       "<table border=\"1\" class=\"dataframe\">\n",
       "  <thead>\n",
       "    <tr style=\"text-align: right;\">\n",
       "      <th></th>\n",
       "      <th>geometry</th>\n",
       "      <th>name</th>\n",
       "      <th>KreisLang</th>\n",
       "      <th>AufDauerMedian</th>\n",
       "    </tr>\n",
       "  </thead>\n",
       "  <tbody>\n",
       "    <tr>\n",
       "      <th>0</th>\n",
       "      <td>POLYGON ((8.54885 47.36602, 8.54901 47.36601, ...</td>\n",
       "      <td>7</td>\n",
       "      <td>Kreis 7</td>\n",
       "      <td>75</td>\n",
       "    </tr>\n",
       "    <tr>\n",
       "      <th>1</th>\n",
       "      <td>POLYGON ((8.54885 47.36602, 8.54901 47.36601, ...</td>\n",
       "      <td>7</td>\n",
       "      <td>Kreis 7</td>\n",
       "      <td>153</td>\n",
       "    </tr>\n",
       "    <tr>\n",
       "      <th>2</th>\n",
       "      <td>POLYGON ((8.54885 47.36602, 8.54901 47.36601, ...</td>\n",
       "      <td>7</td>\n",
       "      <td>Kreis 7</td>\n",
       "      <td>80</td>\n",
       "    </tr>\n",
       "  </tbody>\n",
       "</table>\n",
       "</div>"
      ],
      "text/plain": [
       "                                            geometry name KreisLang  AufDauerMedian\n",
       "0  POLYGON ((8.54885 47.36602, 8.54901 47.36601, ...    7   Kreis 7              75\n",
       "1  POLYGON ((8.54885 47.36602, 8.54901 47.36601, ...    7   Kreis 7             153\n",
       "2  POLYGON ((8.54885 47.36602, 8.54901 47.36601, ...    7   Kreis 7              80"
      ]
     },
     "execution_count": 23,
     "metadata": {},
     "output_type": "execute_result"
    }
   ],
   "source": [
    "# Rename attribute stznr to StatZoneSort, so the IDs have the same name\n",
    "\n",
    "stadtkreise_shapes = df_stadtkreise[['geometry', 'name', 'bezeichnung']].rename(columns={'bezeichnung': 'KreisLang'})\n",
    "\n",
    "# Merge with `merge` method on shared variable (stznr und StatZoneSort):\n",
    "stadtkreise_shapes_aktJahr = stadtkreise_shapes.merge(stats_agg_kreis, on='KreisLang')\n",
    "\n",
    "stadtkreise_shapes_aktJahr.head(3)\n"
   ]
  },
  {
   "cell_type": "code",
   "execution_count": 24,
   "metadata": {},
   "outputs": [
    {
     "data": {
      "text/plain": [
       "<AxesSubplot:>"
      ]
     },
     "execution_count": 24,
     "metadata": {},
     "output_type": "execute_result"
    },
    {
     "data": {
      "image/png": "[encoded data removed]",
      "text/plain": [
       "<Figure size 432x288 with 1 Axes>"
      ]
     },
     "metadata": {},
     "output_type": "display_data"
    }
   ],
   "source": [
    "# Plot by StatZonen\n",
    "\n",
    "stadtkreise_shapes_aktJahr.plot(column='AufDauerMedian', cmap='viridis', scheme='quantiles', legend=True )\n",
    "#scheme werte: https://matplotlib.org/2.0.2/users/colormaps.html\n",
    "\n"
   ]
  },
  {
   "cell_type": "raw",
   "metadata": {},
   "source": [
    "fig, ax = plt.subplots(1, 1)\n",
    "\n",
    "statzonen_shapes_aktJahr.plot(column='AnzBestWir', ax=ax, legend=True, legend_kwds={'label': \"Anzahl Personen\",'orientation': \"horizontal\"})\n"
   ]
  },
  {
   "cell_type": "markdown",
   "metadata": {},
   "source": [
    "Noch zu prüfen, folgendes schöne Beispiel: https://docs.bokeh.org/en/latest/docs/user_guide/interaction/legends.html\n",
    "\n",
    "Konkrete Beispiele von Bookeh in Jupyter NB: https://docs.bokeh.org/en/latest/docs/user_guide/jupyter.html"
   ]
  },
  {
   "cell_type": "markdown",
   "metadata": {},
   "source": [
    "**Sharepoint als gecheckt markieren!**"
   ]
  },
  {
   "cell_type": "markdown",
   "metadata": {},
   "source": [
    "Record auf Sharepoint: **[Link](http://kollaboration.intranet.stzh.ch/orga/ssz-produkte/Lists/SASA_Outputs/EditForm.aspx?ID=464&Source=http%3A%2F%2Fkollaboration%2Eintranet%2Estzh%2Ech%2Forga%2Fssz%2Dprodukte%2FLists%2FSASA%5FOutputs%2FPersonalViews%2Easpx%3FPageView%3DPersonal%26ShowWebPart%3D%7B6087A3E7%2D8AC8%2D40BA%2D8278%2DDECFACE124FF%7D%23InplviewHash6087a3e7%2D8ac8%2D40ba%2D8278%2Ddecface124ff%3DSortField%253DPackagename%2DSortDir%253DAsc%2DFilterField1%253DDiffusionsereignis%2DFilterValue1%253DBev%2525C3%2525B6lkerung%2525202020)**"
   ]
  },
  {
   "cell_type": "code",
   "execution_count": null,
   "metadata": {},
   "outputs": [],
   "source": []
  },
  {
   "cell_type": "raw",
   "metadata": {},
   "source": []
  },
  {
   "cell_type": "code",
   "execution_count": null,
   "metadata": {},
   "outputs": [],
   "source": []
  }
 ],
 "metadata": {
  "kernelspec": {
   "display_name": "Python 3 (ipykernel)",
   "language": "python",
   "name": "python3"
  },
  "language_info": {
   "codemirror_mode": {
    "name": "ipython",
    "version": 3
   },
   "file_extension": ".py",
   "mimetype": "text/x-python",
   "name": "python",
   "nbconvert_exporter": "python",
   "pygments_lexer": "ipython3",
   "version": "3.9.7"
  }
 },
 "nbformat": 4,
 "nbformat_minor": 4
}
