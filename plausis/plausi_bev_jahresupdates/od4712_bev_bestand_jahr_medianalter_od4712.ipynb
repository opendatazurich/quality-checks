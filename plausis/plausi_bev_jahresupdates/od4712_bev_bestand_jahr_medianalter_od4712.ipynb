{
 "cells": [
  {
   "cell_type": "markdown",
   "metadata": {},
   "source": [
    "**Importiere die notwendigen Packages**"
   ]
  },
  {
   "cell_type": "code",
   "execution_count": 1,
   "metadata": {},
   "outputs": [],
   "source": [
    "import pandas as pd\n",
    "import pivottablejs\n",
    "from pivottablejs import pivot_ui\n",
    "import numpy as np\n",
    "import altair as alt\n",
    "import matplotlib.pyplot as plt\n",
    "from datetime import datetime\n",
    "import geopandas as gpd\n",
    "import folium \n",
    "\n"
   ]
  },
  {
   "cell_type": "markdown",
   "metadata": {},
   "source": [
    "Definiere Settings. Hier das Zahlenformat von Float-Werten (z.B. *'{:,.2f}'.format* mit Komma als Tausenderzeichen), "
   ]
  },
  {
   "cell_type": "code",
   "execution_count": 2,
   "metadata": {},
   "outputs": [],
   "source": [
    "pd.options.display.float_format = '{:.0f}'.format\n",
    "pd.set_option('display.width', 100)\n",
    "pd.set_option('display.max_columns', 15)"
   ]
  },
  {
   "cell_type": "markdown",
   "metadata": {},
   "source": [
    "Importiere einen Datensatz von der **DWH_INT** Dropzone.\n",
    "\n",
    "- Beachte dabei die Notation des Pfades...\n",
    "- Definiere mal aktuell noch keine weiteren Parameter beim Import"
   ]
  },
  {
   "cell_type": "markdown",
   "metadata": {},
   "source": [
    "**Dataset auf INTEG Datenkatalog**: https://data.integ.stadt-zuerich.ch/dataset/int_dwh_bev_bestand_jahr_medianalter_od4712\n",
    "\n",
    "(int_dwh)"
   ]
  },
  {
   "cell_type": "code",
   "execution_count": 3,
   "metadata": {},
   "outputs": [],
   "source": [
    "# Filepath\n",
    "fp = r\"//szh.loc/ssz/applikationen/OGD_Dropzone/INT_DWH/bev_bestand_jahr_medianalter_OD4712/BEV471OD4712.csv\"\n",
    "\n",
    "# Read the data\n",
    "data2betested = pd.read_csv(\n",
    "    fp, \n",
    "    sep=',',\n",
    "   #usecols=[0,1,2,3,4,6],\n",
    "   #names=['stationid','year','month','avgtemp','latitude','longitude','elevation','station','countryid','country'],\n",
    "   #skiprows=1,\n",
    "   # parse_dates=[0],\n",
    "    parse_dates=True,\n",
    "    #date_parser=lambda x: pd.to_datetime(x, format=\"%Y\"), \n",
    "    #index_col=\"date_time\",\n",
    "    low_memory=False    \n",
    "    )"
   ]
  },
  {
   "cell_type": "markdown",
   "metadata": {},
   "source": [
    "In der Folge ein paar erste Tests:"
   ]
  },
  {
   "cell_type": "code",
   "execution_count": 4,
   "metadata": {},
   "outputs": [
    {
     "data": {
      "text/plain": [
       "pandas.core.frame.DataFrame"
      ]
     },
     "execution_count": 4,
     "metadata": {},
     "output_type": "execute_result"
    }
   ],
   "source": [
    "type(data2betested)"
   ]
  },
  {
   "cell_type": "markdown",
   "metadata": {},
   "source": [
    " - 1) Zeige eine kurze Vorschau der importierten Daten\n",
    " - 2) Weise die Datentypen aus\n",
    " - 3) Zeige die Shape (Umfang) des Datensatzes an"
   ]
  },
  {
   "cell_type": "code",
   "execution_count": 5,
   "metadata": {},
   "outputs": [
    {
     "data": {
      "text/html": [
       "<div>\n",
       "<style scoped>\n",
       "    .dataframe tbody tr th:only-of-type {\n",
       "        vertical-align: middle;\n",
       "    }\n",
       "\n",
       "    .dataframe tbody tr th {\n",
       "        vertical-align: top;\n",
       "    }\n",
       "\n",
       "    .dataframe thead th {\n",
       "        text-align: right;\n",
       "    }\n",
       "</style>\n",
       "<table border=\"1\" class=\"dataframe\">\n",
       "  <thead>\n",
       "    <tr style=\"text-align: right;\">\n",
       "      <th></th>\n",
       "      <th>StichtagDatJahr</th>\n",
       "      <th>KategorieLang</th>\n",
       "      <th>RaumSort</th>\n",
       "      <th>RaumLang</th>\n",
       "      <th>Medianalter</th>\n",
       "    </tr>\n",
       "  </thead>\n",
       "  <tbody>\n",
       "    <tr>\n",
       "      <th>0</th>\n",
       "      <td>1993</td>\n",
       "      <td>Ganze Stadt</td>\n",
       "      <td>0</td>\n",
       "      <td>Ganze Stadt</td>\n",
       "      <td>40</td>\n",
       "    </tr>\n",
       "    <tr>\n",
       "      <th>1</th>\n",
       "      <td>1994</td>\n",
       "      <td>Ganze Stadt</td>\n",
       "      <td>0</td>\n",
       "      <td>Ganze Stadt</td>\n",
       "      <td>40</td>\n",
       "    </tr>\n",
       "    <tr>\n",
       "      <th>2</th>\n",
       "      <td>1995</td>\n",
       "      <td>Ganze Stadt</td>\n",
       "      <td>0</td>\n",
       "      <td>Ganze Stadt</td>\n",
       "      <td>40</td>\n",
       "    </tr>\n",
       "  </tbody>\n",
       "</table>\n",
       "</div>"
      ],
      "text/plain": [
       "   StichtagDatJahr KategorieLang  RaumSort     RaumLang  Medianalter\n",
       "0             1993   Ganze Stadt         0  Ganze Stadt           40\n",
       "1             1994   Ganze Stadt         0  Ganze Stadt           40\n",
       "2             1995   Ganze Stadt         0  Ganze Stadt           40"
      ]
     },
     "execution_count": 5,
     "metadata": {},
     "output_type": "execute_result"
    }
   ],
   "source": [
    "data2betested.head(3)"
   ]
  },
  {
   "cell_type": "code",
   "execution_count": 6,
   "metadata": {},
   "outputs": [
    {
     "data": {
      "text/plain": [
       "StichtagDatJahr      int64\n",
       "KategorieLang       object\n",
       "RaumSort             int64\n",
       "RaumLang            object\n",
       "Medianalter        float64\n",
       "dtype: object"
      ]
     },
     "execution_count": 6,
     "metadata": {},
     "output_type": "execute_result"
    }
   ],
   "source": [
    "data2betested.dtypes"
   ]
  },
  {
   "cell_type": "code",
   "execution_count": 7,
   "metadata": {},
   "outputs": [
    {
     "data": {
      "text/plain": [
       "(1316, 5)"
      ]
     },
     "execution_count": 7,
     "metadata": {},
     "output_type": "execute_result"
    }
   ],
   "source": [
    "data2betested.shape"
   ]
  },
  {
   "cell_type": "markdown",
   "metadata": {},
   "source": [
    "Beschreibe einzelne Attribute"
   ]
  },
  {
   "cell_type": "code",
   "execution_count": 8,
   "metadata": {},
   "outputs": [
    {
     "data": {
      "text/html": [
       "<div>\n",
       "<style scoped>\n",
       "    .dataframe tbody tr th:only-of-type {\n",
       "        vertical-align: middle;\n",
       "    }\n",
       "\n",
       "    .dataframe tbody tr th {\n",
       "        vertical-align: top;\n",
       "    }\n",
       "\n",
       "    .dataframe thead th {\n",
       "        text-align: right;\n",
       "    }\n",
       "</style>\n",
       "<table border=\"1\" class=\"dataframe\">\n",
       "  <thead>\n",
       "    <tr style=\"text-align: right;\">\n",
       "      <th></th>\n",
       "      <th>StichtagDatJahr</th>\n",
       "      <th>RaumSort</th>\n",
       "      <th>Medianalter</th>\n",
       "    </tr>\n",
       "  </thead>\n",
       "  <tbody>\n",
       "    <tr>\n",
       "      <th>count</th>\n",
       "      <td>1316</td>\n",
       "      <td>1316</td>\n",
       "      <td>1316</td>\n",
       "    </tr>\n",
       "    <tr>\n",
       "      <th>mean</th>\n",
       "      <td>2006</td>\n",
       "      <td>49</td>\n",
       "      <td>39</td>\n",
       "    </tr>\n",
       "    <tr>\n",
       "      <th>std</th>\n",
       "      <td>8</td>\n",
       "      <td>40</td>\n",
       "      <td>3</td>\n",
       "    </tr>\n",
       "    <tr>\n",
       "      <th>min</th>\n",
       "      <td>1993</td>\n",
       "      <td>0</td>\n",
       "      <td>33</td>\n",
       "    </tr>\n",
       "    <tr>\n",
       "      <th>25%</th>\n",
       "      <td>2000</td>\n",
       "      <td>11</td>\n",
       "      <td>36</td>\n",
       "    </tr>\n",
       "    <tr>\n",
       "      <th>50%</th>\n",
       "      <td>2006</td>\n",
       "      <td>41</td>\n",
       "      <td>39</td>\n",
       "    </tr>\n",
       "    <tr>\n",
       "      <th>75%</th>\n",
       "      <td>2013</td>\n",
       "      <td>82</td>\n",
       "      <td>41</td>\n",
       "    </tr>\n",
       "    <tr>\n",
       "      <th>max</th>\n",
       "      <td>2020</td>\n",
       "      <td>123</td>\n",
       "      <td>49</td>\n",
       "    </tr>\n",
       "  </tbody>\n",
       "</table>\n",
       "</div>"
      ],
      "text/plain": [
       "       StichtagDatJahr  RaumSort  Medianalter\n",
       "count             1316      1316         1316\n",
       "mean              2006        49           39\n",
       "std                  8        40            3\n",
       "min               1993         0           33\n",
       "25%               2000        11           36\n",
       "50%               2006        41           39\n",
       "75%               2013        82           41\n",
       "max               2020       123           49"
      ]
     },
     "execution_count": 8,
     "metadata": {},
     "output_type": "execute_result"
    }
   ],
   "source": [
    "data2betested.describe()"
   ]
  },
  {
   "cell_type": "markdown",
   "metadata": {},
   "source": [
    "Wie viele Nullwerte gibt es im Datensatz?"
   ]
  },
  {
   "cell_type": "code",
   "execution_count": 9,
   "metadata": {
    "scrolled": true
   },
   "outputs": [
    {
     "data": {
      "text/plain": [
       "StichtagDatJahr    0\n",
       "KategorieLang      0\n",
       "RaumSort           0\n",
       "RaumLang           0\n",
       "Medianalter        0\n",
       "dtype: int64"
      ]
     },
     "execution_count": 9,
     "metadata": {},
     "output_type": "execute_result"
    }
   ],
   "source": [
    "data2betested.isnull().sum()"
   ]
  },
  {
   "cell_type": "markdown",
   "metadata": {},
   "source": [
    "Wandle die Spalte Jahr von Int zu **Datetime** um. Dies wird in den meisten Grafiken so benötigt."
   ]
  },
  {
   "cell_type": "code",
   "execution_count": 10,
   "metadata": {
    "scrolled": true
   },
   "outputs": [
    {
     "data": {
      "text/html": [
       "<div>\n",
       "<style scoped>\n",
       "    .dataframe tbody tr th:only-of-type {\n",
       "        vertical-align: middle;\n",
       "    }\n",
       "\n",
       "    .dataframe tbody tr th {\n",
       "        vertical-align: top;\n",
       "    }\n",
       "\n",
       "    .dataframe thead th {\n",
       "        text-align: right;\n",
       "    }\n",
       "</style>\n",
       "<table border=\"1\" class=\"dataframe\">\n",
       "  <thead>\n",
       "    <tr style=\"text-align: right;\">\n",
       "      <th></th>\n",
       "      <th>StichtagDatJahr</th>\n",
       "      <th>KategorieLang</th>\n",
       "      <th>RaumSort</th>\n",
       "      <th>RaumLang</th>\n",
       "      <th>Medianalter</th>\n",
       "    </tr>\n",
       "  </thead>\n",
       "  <tbody>\n",
       "    <tr>\n",
       "      <th>0</th>\n",
       "      <td>1993-01-01</td>\n",
       "      <td>Ganze Stadt</td>\n",
       "      <td>0</td>\n",
       "      <td>Ganze Stadt</td>\n",
       "      <td>40</td>\n",
       "    </tr>\n",
       "    <tr>\n",
       "      <th>1</th>\n",
       "      <td>1994-01-01</td>\n",
       "      <td>Ganze Stadt</td>\n",
       "      <td>0</td>\n",
       "      <td>Ganze Stadt</td>\n",
       "      <td>40</td>\n",
       "    </tr>\n",
       "    <tr>\n",
       "      <th>2</th>\n",
       "      <td>1995-01-01</td>\n",
       "      <td>Ganze Stadt</td>\n",
       "      <td>0</td>\n",
       "      <td>Ganze Stadt</td>\n",
       "      <td>40</td>\n",
       "    </tr>\n",
       "    <tr>\n",
       "      <th>3</th>\n",
       "      <td>1996-01-01</td>\n",
       "      <td>Ganze Stadt</td>\n",
       "      <td>0</td>\n",
       "      <td>Ganze Stadt</td>\n",
       "      <td>39</td>\n",
       "    </tr>\n",
       "    <tr>\n",
       "      <th>4</th>\n",
       "      <td>1997-01-01</td>\n",
       "      <td>Ganze Stadt</td>\n",
       "      <td>0</td>\n",
       "      <td>Ganze Stadt</td>\n",
       "      <td>39</td>\n",
       "    </tr>\n",
       "    <tr>\n",
       "      <th>...</th>\n",
       "      <td>...</td>\n",
       "      <td>...</td>\n",
       "      <td>...</td>\n",
       "      <td>...</td>\n",
       "      <td>...</td>\n",
       "    </tr>\n",
       "    <tr>\n",
       "      <th>1311</th>\n",
       "      <td>2016-01-01</td>\n",
       "      <td>Stadtquartier</td>\n",
       "      <td>123</td>\n",
       "      <td>Hirzenbach</td>\n",
       "      <td>36</td>\n",
       "    </tr>\n",
       "    <tr>\n",
       "      <th>1312</th>\n",
       "      <td>2017-01-01</td>\n",
       "      <td>Stadtquartier</td>\n",
       "      <td>123</td>\n",
       "      <td>Hirzenbach</td>\n",
       "      <td>36</td>\n",
       "    </tr>\n",
       "    <tr>\n",
       "      <th>1313</th>\n",
       "      <td>2018-01-01</td>\n",
       "      <td>Stadtquartier</td>\n",
       "      <td>123</td>\n",
       "      <td>Hirzenbach</td>\n",
       "      <td>36</td>\n",
       "    </tr>\n",
       "    <tr>\n",
       "      <th>1314</th>\n",
       "      <td>2019-01-01</td>\n",
       "      <td>Stadtquartier</td>\n",
       "      <td>123</td>\n",
       "      <td>Hirzenbach</td>\n",
       "      <td>36</td>\n",
       "    </tr>\n",
       "    <tr>\n",
       "      <th>1315</th>\n",
       "      <td>2020-01-01</td>\n",
       "      <td>Stadtquartier</td>\n",
       "      <td>123</td>\n",
       "      <td>Hirzenbach</td>\n",
       "      <td>36</td>\n",
       "    </tr>\n",
       "  </tbody>\n",
       "</table>\n",
       "<p>1316 rows × 5 columns</p>\n",
       "</div>"
      ],
      "text/plain": [
       "     StichtagDatJahr  KategorieLang  RaumSort     RaumLang  Medianalter\n",
       "0         1993-01-01    Ganze Stadt         0  Ganze Stadt           40\n",
       "1         1994-01-01    Ganze Stadt         0  Ganze Stadt           40\n",
       "2         1995-01-01    Ganze Stadt         0  Ganze Stadt           40\n",
       "3         1996-01-01    Ganze Stadt         0  Ganze Stadt           39\n",
       "4         1997-01-01    Ganze Stadt         0  Ganze Stadt           39\n",
       "...              ...            ...       ...          ...          ...\n",
       "1311      2016-01-01  Stadtquartier       123   Hirzenbach           36\n",
       "1312      2017-01-01  Stadtquartier       123   Hirzenbach           36\n",
       "1313      2018-01-01  Stadtquartier       123   Hirzenbach           36\n",
       "1314      2019-01-01  Stadtquartier       123   Hirzenbach           36\n",
       "1315      2020-01-01  Stadtquartier       123   Hirzenbach           36\n",
       "\n",
       "[1316 rows x 5 columns]"
      ]
     },
     "execution_count": 10,
     "metadata": {},
     "output_type": "execute_result"
    }
   ],
   "source": [
    "data2betested['StichtagDatJahr']=pd.to_datetime(data2betested['StichtagDatJahr'], format='%Y')\n",
    "\n",
    "#TO DO --> setze das Datum auf den 31.12. der Jahres.\n",
    "#test=data2betested[['StichtagDatJahr']].date().replace(month=12, day=31)\n",
    "\n",
    "data2betested"
   ]
  },
  {
   "cell_type": "markdown",
   "metadata": {},
   "source": [
    "Bereite die Daten für die Grafik unten vor"
   ]
  },
  {
   "cell_type": "code",
   "execution_count": 11,
   "metadata": {},
   "outputs": [
    {
     "data": {
      "text/plain": [
       "28"
      ]
     },
     "execution_count": 11,
     "metadata": {},
     "output_type": "execute_result"
    }
   ],
   "source": [
    "Jahre = data2betested.groupby(\"StichtagDatJahr\")\n",
    "len(Jahre)"
   ]
  },
  {
   "cell_type": "code",
   "execution_count": 12,
   "metadata": {},
   "outputs": [
    {
     "name": "stdout",
     "output_type": "stream",
     "text": [
      "1993-01-01 00:00:00 47\n",
      "1994-01-01 00:00:00 47\n",
      "1995-01-01 00:00:00 47\n",
      "1996-01-01 00:00:00 47\n",
      "1997-01-01 00:00:00 47\n",
      "1998-01-01 00:00:00 47\n",
      "1999-01-01 00:00:00 47\n",
      "2000-01-01 00:00:00 47\n",
      "2001-01-01 00:00:00 47\n",
      "2002-01-01 00:00:00 47\n",
      "2003-01-01 00:00:00 47\n",
      "2004-01-01 00:00:00 47\n",
      "2005-01-01 00:00:00 47\n",
      "2006-01-01 00:00:00 47\n",
      "2007-01-01 00:00:00 47\n",
      "2008-01-01 00:00:00 47\n",
      "2009-01-01 00:00:00 47\n",
      "2010-01-01 00:00:00 47\n",
      "2011-01-01 00:00:00 47\n",
      "2012-01-01 00:00:00 47\n",
      "2013-01-01 00:00:00 47\n",
      "2014-01-01 00:00:00 47\n",
      "2015-01-01 00:00:00 47\n",
      "2016-01-01 00:00:00 47\n",
      "2017-01-01 00:00:00 47\n",
      "2018-01-01 00:00:00 47\n",
      "2019-01-01 00:00:00 47\n",
      "2020-01-01 00:00:00 47\n"
     ]
    }
   ],
   "source": [
    "for key, group in Jahre:\n",
    "    print(key, len(group))"
   ]
  },
  {
   "cell_type": "code",
   "execution_count": 13,
   "metadata": {},
   "outputs": [
    {
     "data": {
      "text/html": [
       "<div>\n",
       "<style scoped>\n",
       "    .dataframe tbody tr th:only-of-type {\n",
       "        vertical-align: middle;\n",
       "    }\n",
       "\n",
       "    .dataframe tbody tr th {\n",
       "        vertical-align: top;\n",
       "    }\n",
       "\n",
       "    .dataframe thead th {\n",
       "        text-align: right;\n",
       "    }\n",
       "</style>\n",
       "<table border=\"1\" class=\"dataframe\">\n",
       "  <thead>\n",
       "    <tr style=\"text-align: right;\">\n",
       "      <th></th>\n",
       "      <th>StichtagDatJahr</th>\n",
       "      <th>KategorieLang</th>\n",
       "      <th>RaumSort</th>\n",
       "      <th>RaumLang</th>\n",
       "      <th>Medianalter</th>\n",
       "    </tr>\n",
       "  </thead>\n",
       "  <tbody>\n",
       "    <tr>\n",
       "      <th>27</th>\n",
       "      <td>2020-01-01</td>\n",
       "      <td>Ganze Stadt</td>\n",
       "      <td>0</td>\n",
       "      <td>Ganze Stadt</td>\n",
       "      <td>38</td>\n",
       "    </tr>\n",
       "    <tr>\n",
       "      <th>55</th>\n",
       "      <td>2020-01-01</td>\n",
       "      <td>Stadtkreis</td>\n",
       "      <td>1</td>\n",
       "      <td>Kreis 1</td>\n",
       "      <td>41</td>\n",
       "    </tr>\n",
       "    <tr>\n",
       "      <th>83</th>\n",
       "      <td>2020-01-01</td>\n",
       "      <td>Stadtkreis</td>\n",
       "      <td>2</td>\n",
       "      <td>Kreis 2</td>\n",
       "      <td>38</td>\n",
       "    </tr>\n",
       "  </tbody>\n",
       "</table>\n",
       "</div>"
      ],
      "text/plain": [
       "   StichtagDatJahr KategorieLang  RaumSort     RaumLang  Medianalter\n",
       "27      2020-01-01   Ganze Stadt         0  Ganze Stadt           38\n",
       "55      2020-01-01    Stadtkreis         1      Kreis 1           41\n",
       "83      2020-01-01    Stadtkreis         2      Kreis 2           38"
      ]
     },
     "execution_count": 13,
     "metadata": {},
     "output_type": "execute_result"
    }
   ],
   "source": [
    "myJahr = \"2020-01-01\"\n",
    "aktuellesJahr=Jahre.get_group(myJahr)   \n",
    "aktuellesJahr.head(3)"
   ]
  },
  {
   "cell_type": "markdown",
   "metadata": {},
   "source": [
    "**Selektionen und Aggregationen**\n",
    "\n",
    "Check this [Doku](https://www.shanelynn.ie/summarising-aggregation-and-grouping-data-in-python-pandas/)"
   ]
  },
  {
   "cell_type": "code",
   "execution_count": 15,
   "metadata": {},
   "outputs": [
    {
     "data": {
      "text/plain": [
       "\"    \\ntest = data2betested.groupby(\\n   ['QuarSort', 'QuarLang']\\n).agg(\\n    {\\n         'AnzBestWir':(sum),    # Sum --> (sum)\\n         'AnzNat': 'max'  # get the first date per group\\n    }\\n)\\ntest.head()\\n\""
      ]
     },
     "execution_count": 15,
     "metadata": {},
     "output_type": "execute_result"
    }
   ],
   "source": [
    "#test = data2betested.groupby(['StichtagDatJahr', 'AlterV20Kurz'])[['AnzBestWir']].agg()\n",
    "\n",
    "# produces Pandas Series\n",
    "    #data2betested.groupby(['StichtagDatJahr', 'KonOGDSort'])['AnzBestWir'].sum()\n",
    "# Produces Pandas DataFrame\n",
    "    #data2betested.groupby(['StichtagDatJahr', 'KonOGDSort'])[['AnzBestWir']].sum()\n",
    "'''    \n",
    "test = data2betested.groupby(\n",
    "   ['QuarSort', 'QuarLang']\n",
    ").agg(\n",
    "    {\n",
    "         'AnzBestWir':(sum),    # Sum --> (sum)\n",
    "         'AnzNat': 'max'  # get the first date per group\n",
    "    }\n",
    ")\n",
    "test.head()\n",
    "'''    "
   ]
  },
  {
   "cell_type": "markdown",
   "metadata": {},
   "source": [
    "**Einfache Visualisierungen zur Plausi**"
   ]
  },
  {
   "cell_type": "markdown",
   "metadata": {},
   "source": [
    "Exploriere die Daten mit Pivottable.JS"
   ]
  },
  {
   "cell_type": "code",
   "execution_count": 16,
   "metadata": {},
   "outputs": [
    {
     "data": {
      "text/html": [
       "\n",
       "        <iframe\n",
       "            width=\"100%\"\n",
       "            height=\"500\"\n",
       "            src=\"pivottablejs.html\"\n",
       "            frameborder=\"0\"\n",
       "            allowfullscreen\n",
       "        ></iframe>\n",
       "        "
      ],
      "text/plain": [
       "<IPython.lib.display.IFrame at 0x1bb787ef400>"
      ]
     },
     "execution_count": 16,
     "metadata": {},
     "output_type": "execute_result"
    }
   ],
   "source": [
    "from pivottablejs import pivot_ui\n",
    "\n",
    "pivot_ui(data2betested)"
   ]
  },
  {
   "cell_type": "markdown",
   "metadata": {},
   "source": [
    "Liniendiagramm \n",
    "[Link zur Doku](https://altair-viz.github.io/gallery/multiline_highlight.html)"
   ]
  },
  {
   "cell_type": "code",
   "execution_count": 18,
   "metadata": {},
   "outputs": [
    {
     "data": {
      "text/html": [
       "<div>\n",
       "<style scoped>\n",
       "    .dataframe tbody tr th:only-of-type {\n",
       "        vertical-align: middle;\n",
       "    }\n",
       "\n",
       "    .dataframe tbody tr th {\n",
       "        vertical-align: top;\n",
       "    }\n",
       "\n",
       "    .dataframe thead th {\n",
       "        text-align: right;\n",
       "    }\n",
       "</style>\n",
       "<table border=\"1\" class=\"dataframe\">\n",
       "  <thead>\n",
       "    <tr style=\"text-align: right;\">\n",
       "      <th></th>\n",
       "      <th>StichtagDatJahr</th>\n",
       "      <th>KategorieLang</th>\n",
       "      <th>RaumSort</th>\n",
       "      <th>RaumLang</th>\n",
       "      <th>Medianalter</th>\n",
       "    </tr>\n",
       "  </thead>\n",
       "  <tbody>\n",
       "    <tr>\n",
       "      <th>0</th>\n",
       "      <td>1993-01-01</td>\n",
       "      <td>Ganze Stadt</td>\n",
       "      <td>0</td>\n",
       "      <td>Ganze Stadt</td>\n",
       "      <td>40</td>\n",
       "    </tr>\n",
       "    <tr>\n",
       "      <th>1</th>\n",
       "      <td>1994-01-01</td>\n",
       "      <td>Ganze Stadt</td>\n",
       "      <td>0</td>\n",
       "      <td>Ganze Stadt</td>\n",
       "      <td>40</td>\n",
       "    </tr>\n",
       "    <tr>\n",
       "      <th>2</th>\n",
       "      <td>1995-01-01</td>\n",
       "      <td>Ganze Stadt</td>\n",
       "      <td>0</td>\n",
       "      <td>Ganze Stadt</td>\n",
       "      <td>40</td>\n",
       "    </tr>\n",
       "    <tr>\n",
       "      <th>3</th>\n",
       "      <td>1996-01-01</td>\n",
       "      <td>Ganze Stadt</td>\n",
       "      <td>0</td>\n",
       "      <td>Ganze Stadt</td>\n",
       "      <td>39</td>\n",
       "    </tr>\n",
       "    <tr>\n",
       "      <th>4</th>\n",
       "      <td>1997-01-01</td>\n",
       "      <td>Ganze Stadt</td>\n",
       "      <td>0</td>\n",
       "      <td>Ganze Stadt</td>\n",
       "      <td>39</td>\n",
       "    </tr>\n",
       "  </tbody>\n",
       "</table>\n",
       "</div>"
      ],
      "text/plain": [
       "  StichtagDatJahr KategorieLang  RaumSort     RaumLang  Medianalter\n",
       "0      1993-01-01   Ganze Stadt         0  Ganze Stadt           40\n",
       "1      1994-01-01   Ganze Stadt         0  Ganze Stadt           40\n",
       "2      1995-01-01   Ganze Stadt         0  Ganze Stadt           40\n",
       "3      1996-01-01   Ganze Stadt         0  Ganze Stadt           39\n",
       "4      1997-01-01   Ganze Stadt         0  Ganze Stadt           39"
      ]
     },
     "execution_count": 18,
     "metadata": {},
     "output_type": "execute_result"
    }
   ],
   "source": [
    "#mySelection = data2betested[(data2betested.StichtagDatJahr>\"2011-01-01\") & (data2betested.QuarSort<70)]\n",
    "mySelection = data2betested\n",
    "mySelection.head()\n",
    "\n"
   ]
  },
  {
   "cell_type": "code",
   "execution_count": 24,
   "metadata": {},
   "outputs": [],
   "source": [
    "mySelection = data2betested[(data2betested.KategorieLang ==\"Stadtkreis\") & (data2betested.RaumSort<200)]\n",
    "#mySelection"
   ]
  },
  {
   "cell_type": "code",
   "execution_count": 25,
   "metadata": {},
   "outputs": [
    {
     "data": {
      "text/html": [
       "\n",
       "<div id=\"altair-viz-07e5993bbf2f44ee91ea88bf5aae4278\"></div>\n",
       "<script type=\"text/javascript\">\n",
       "  (function(spec, embedOpt){\n",
       "    let outputDiv = document.currentScript.previousElementSibling;\n",
       "    if (outputDiv.id !== \"altair-viz-07e5993bbf2f44ee91ea88bf5aae4278\") {\n",
       "      outputDiv = document.getElementById(\"altair-viz-07e5993bbf2f44ee91ea88bf5aae4278\");\n",
       "    }\n",
       "    const paths = {\n",
       "      \"vega\": \"https://cdn.jsdelivr.net/npm//vega@5?noext\",\n",
       "      \"vega-lib\": \"https://cdn.jsdelivr.net/npm//vega-lib?noext\",\n",
       "      \"vega-lite\": \"https://cdn.jsdelivr.net/npm//vega-lite@4.8.1?noext\",\n",
       "      \"vega-embed\": \"https://cdn.jsdelivr.net/npm//vega-embed@6?noext\",\n",
       "    };\n",
       "\n",
       "    function loadScript(lib) {\n",
       "      return new Promise(function(resolve, reject) {\n",
       "        var s = document.createElement('script');\n",
       "        s.src = paths[lib];\n",
       "        s.async = true;\n",
       "        s.onload = () => resolve(paths[lib]);\n",
       "        s.onerror = () => reject(`Error loading script: ${paths[lib]}`);\n",
       "        document.getElementsByTagName(\"head\")[0].appendChild(s);\n",
       "      });\n",
       "    }\n",
       "\n",
       "    function showError(err) {\n",
       "      outputDiv.innerHTML = `<div class=\"error\" style=\"color:red;\">${err}</div>`;\n",
       "      throw err;\n",
       "    }\n",
       "\n",
       "    function displayChart(vegaEmbed) {\n",
       "      vegaEmbed(outputDiv, spec, embedOpt)\n",
       "        .catch(err => showError(`Javascript Error: ${err.message}<br>This usually means there's a typo in your chart specification. See the javascript console for the full traceback.`));\n",
       "    }\n",
       "\n",
       "    if(typeof define === \"function\" && define.amd) {\n",
       "      requirejs.config({paths});\n",
       "      require([\"vega-embed\"], displayChart, err => showError(`Error loading script: ${err.message}`));\n",
       "    } else if (typeof vegaEmbed === \"function\") {\n",
       "      displayChart(vegaEmbed);\n",
       "    } else {\n",
       "      loadScript(\"vega\")\n",
       "        .then(() => loadScript(\"vega-lite\"))\n",
       "        .then(() => loadScript(\"vega-embed\"))\n",
       "        .catch(showError)\n",
       "        .then(() => displayChart(vegaEmbed));\n",
       "    }\n",
       "  })({\"config\": {\"view\": {\"continuousWidth\": 400, \"continuousHeight\": 300}}, \"layer\": [{\"mark\": \"circle\", \"encoding\": {\"color\": {\"type\": \"nominal\", \"field\": \"RaumLang\"}, \"opacity\": {\"value\": 0}, \"x\": {\"type\": \"nominal\", \"field\": \"StichtagDatJahr\"}, \"y\": {\"type\": \"quantitative\", \"field\": \"Medianalter\"}}, \"height\": 300, \"selection\": {\"selector007\": {\"type\": \"single\", \"on\": \"mouseover\", \"fields\": [\"RaumLang\"], \"nearest\": true}}, \"width\": 700}, {\"mark\": \"line\", \"encoding\": {\"color\": {\"type\": \"nominal\", \"field\": \"RaumLang\"}, \"size\": {\"condition\": {\"value\": 1.5, \"selection\": {\"not\": \"selector007\"}}, \"value\": 4}, \"x\": {\"type\": \"nominal\", \"field\": \"StichtagDatJahr\"}, \"y\": {\"type\": \"quantitative\", \"field\": \"Medianalter\"}}, \"selection\": {\"selector008\": {\"type\": \"interval\", \"bind\": \"scales\", \"encodings\": [\"x\", \"y\"]}}}], \"data\": {\"name\": \"data-9640cad05433a07a8d1f2f79d1401087\"}, \"$schema\": \"https://vega.github.io/schema/vega-lite/v4.8.1.json\", \"datasets\": {\"data-9640cad05433a07a8d1f2f79d1401087\": [{\"StichtagDatJahr\": \"1993-01-01T00:00:00\", \"KategorieLang\": \"Stadtkreis\", \"RaumSort\": 1, \"RaumLang\": \"Kreis 1\", \"Medianalter\": 38.8}, {\"StichtagDatJahr\": \"1994-01-01T00:00:00\", \"KategorieLang\": \"Stadtkreis\", \"RaumSort\": 1, \"RaumLang\": \"Kreis 1\", \"Medianalter\": 38.7}, {\"StichtagDatJahr\": \"1995-01-01T00:00:00\", \"KategorieLang\": \"Stadtkreis\", \"RaumSort\": 1, \"RaumLang\": \"Kreis 1\", \"Medianalter\": 38.6}, {\"StichtagDatJahr\": \"1996-01-01T00:00:00\", \"KategorieLang\": \"Stadtkreis\", \"RaumSort\": 1, \"RaumLang\": \"Kreis 1\", \"Medianalter\": 38.4}, {\"StichtagDatJahr\": \"1997-01-01T00:00:00\", \"KategorieLang\": \"Stadtkreis\", \"RaumSort\": 1, \"RaumLang\": \"Kreis 1\", \"Medianalter\": 38.7}, {\"StichtagDatJahr\": \"1998-01-01T00:00:00\", \"KategorieLang\": \"Stadtkreis\", \"RaumSort\": 1, \"RaumLang\": \"Kreis 1\", \"Medianalter\": 39.3}, {\"StichtagDatJahr\": \"1999-01-01T00:00:00\", \"KategorieLang\": \"Stadtkreis\", \"RaumSort\": 1, \"RaumLang\": \"Kreis 1\", \"Medianalter\": 39.5}, {\"StichtagDatJahr\": \"2000-01-01T00:00:00\", \"KategorieLang\": \"Stadtkreis\", \"RaumSort\": 1, \"RaumLang\": \"Kreis 1\", \"Medianalter\": 39.5}, {\"StichtagDatJahr\": \"2001-01-01T00:00:00\", \"KategorieLang\": \"Stadtkreis\", \"RaumSort\": 1, \"RaumLang\": \"Kreis 1\", \"Medianalter\": 39.7}, {\"StichtagDatJahr\": \"2002-01-01T00:00:00\", \"KategorieLang\": \"Stadtkreis\", \"RaumSort\": 1, \"RaumLang\": \"Kreis 1\", \"Medianalter\": 40.0}, {\"StichtagDatJahr\": \"2003-01-01T00:00:00\", \"KategorieLang\": \"Stadtkreis\", \"RaumSort\": 1, \"RaumLang\": \"Kreis 1\", \"Medianalter\": 40.2}, {\"StichtagDatJahr\": \"2004-01-01T00:00:00\", \"KategorieLang\": \"Stadtkreis\", \"RaumSort\": 1, \"RaumLang\": \"Kreis 1\", \"Medianalter\": 40.2}, {\"StichtagDatJahr\": \"2005-01-01T00:00:00\", \"KategorieLang\": \"Stadtkreis\", \"RaumSort\": 1, \"RaumLang\": \"Kreis 1\", \"Medianalter\": 40.9}, {\"StichtagDatJahr\": \"2006-01-01T00:00:00\", \"KategorieLang\": \"Stadtkreis\", \"RaumSort\": 1, \"RaumLang\": \"Kreis 1\", \"Medianalter\": 40.8}, {\"StichtagDatJahr\": \"2007-01-01T00:00:00\", \"KategorieLang\": \"Stadtkreis\", \"RaumSort\": 1, \"RaumLang\": \"Kreis 1\", \"Medianalter\": 41.2}, {\"StichtagDatJahr\": \"2008-01-01T00:00:00\", \"KategorieLang\": \"Stadtkreis\", \"RaumSort\": 1, \"RaumLang\": \"Kreis 1\", \"Medianalter\": 41.7}, {\"StichtagDatJahr\": \"2009-01-01T00:00:00\", \"KategorieLang\": \"Stadtkreis\", \"RaumSort\": 1, \"RaumLang\": \"Kreis 1\", \"Medianalter\": 41.7}, {\"StichtagDatJahr\": \"2010-01-01T00:00:00\", \"KategorieLang\": \"Stadtkreis\", \"RaumSort\": 1, \"RaumLang\": \"Kreis 1\", \"Medianalter\": 41.5}, {\"StichtagDatJahr\": \"2011-01-01T00:00:00\", \"KategorieLang\": \"Stadtkreis\", \"RaumSort\": 1, \"RaumLang\": \"Kreis 1\", \"Medianalter\": 41.8}, {\"StichtagDatJahr\": \"2012-01-01T00:00:00\", \"KategorieLang\": \"Stadtkreis\", \"RaumSort\": 1, \"RaumLang\": \"Kreis 1\", \"Medianalter\": 41.7}, {\"StichtagDatJahr\": \"2013-01-01T00:00:00\", \"KategorieLang\": \"Stadtkreis\", \"RaumSort\": 1, \"RaumLang\": \"Kreis 1\", \"Medianalter\": 41.7}, {\"StichtagDatJahr\": \"2014-01-01T00:00:00\", \"KategorieLang\": \"Stadtkreis\", \"RaumSort\": 1, \"RaumLang\": \"Kreis 1\", \"Medianalter\": 41.4}, {\"StichtagDatJahr\": \"2015-01-01T00:00:00\", \"KategorieLang\": \"Stadtkreis\", \"RaumSort\": 1, \"RaumLang\": \"Kreis 1\", \"Medianalter\": 41.3}, {\"StichtagDatJahr\": \"2016-01-01T00:00:00\", \"KategorieLang\": \"Stadtkreis\", \"RaumSort\": 1, \"RaumLang\": \"Kreis 1\", \"Medianalter\": 41.7}, {\"StichtagDatJahr\": \"2017-01-01T00:00:00\", \"KategorieLang\": \"Stadtkreis\", \"RaumSort\": 1, \"RaumLang\": \"Kreis 1\", \"Medianalter\": 41.3}, {\"StichtagDatJahr\": \"2018-01-01T00:00:00\", \"KategorieLang\": \"Stadtkreis\", \"RaumSort\": 1, \"RaumLang\": \"Kreis 1\", \"Medianalter\": 40.9}, {\"StichtagDatJahr\": \"2019-01-01T00:00:00\", \"KategorieLang\": \"Stadtkreis\", \"RaumSort\": 1, \"RaumLang\": \"Kreis 1\", \"Medianalter\": 40.7}, {\"StichtagDatJahr\": \"2020-01-01T00:00:00\", \"KategorieLang\": \"Stadtkreis\", \"RaumSort\": 1, \"RaumLang\": \"Kreis 1\", \"Medianalter\": 40.8}, {\"StichtagDatJahr\": \"1993-01-01T00:00:00\", \"KategorieLang\": \"Stadtkreis\", \"RaumSort\": 2, \"RaumLang\": \"Kreis 2\", \"Medianalter\": 43.1}, {\"StichtagDatJahr\": \"1994-01-01T00:00:00\", \"KategorieLang\": \"Stadtkreis\", \"RaumSort\": 2, \"RaumLang\": \"Kreis 2\", \"Medianalter\": 42.9}, {\"StichtagDatJahr\": \"1995-01-01T00:00:00\", \"KategorieLang\": \"Stadtkreis\", \"RaumSort\": 2, \"RaumLang\": \"Kreis 2\", \"Medianalter\": 42.5}, {\"StichtagDatJahr\": \"1996-01-01T00:00:00\", \"KategorieLang\": \"Stadtkreis\", \"RaumSort\": 2, \"RaumLang\": \"Kreis 2\", \"Medianalter\": 42.4}, {\"StichtagDatJahr\": \"1997-01-01T00:00:00\", \"KategorieLang\": \"Stadtkreis\", \"RaumSort\": 2, \"RaumLang\": \"Kreis 2\", \"Medianalter\": 42.0}, {\"StichtagDatJahr\": \"1998-01-01T00:00:00\", \"KategorieLang\": \"Stadtkreis\", \"RaumSort\": 2, \"RaumLang\": \"Kreis 2\", \"Medianalter\": 41.7}, {\"StichtagDatJahr\": \"1999-01-01T00:00:00\", \"KategorieLang\": \"Stadtkreis\", \"RaumSort\": 2, \"RaumLang\": \"Kreis 2\", \"Medianalter\": 41.3}, {\"StichtagDatJahr\": \"2000-01-01T00:00:00\", \"KategorieLang\": \"Stadtkreis\", \"RaumSort\": 2, \"RaumLang\": \"Kreis 2\", \"Medianalter\": 41.0}, {\"StichtagDatJahr\": \"2001-01-01T00:00:00\", \"KategorieLang\": \"Stadtkreis\", \"RaumSort\": 2, \"RaumLang\": \"Kreis 2\", \"Medianalter\": 41.0}, {\"StichtagDatJahr\": \"2002-01-01T00:00:00\", \"KategorieLang\": \"Stadtkreis\", \"RaumSort\": 2, \"RaumLang\": \"Kreis 2\", \"Medianalter\": 40.6}, {\"StichtagDatJahr\": \"2003-01-01T00:00:00\", \"KategorieLang\": \"Stadtkreis\", \"RaumSort\": 2, \"RaumLang\": \"Kreis 2\", \"Medianalter\": 40.8}, {\"StichtagDatJahr\": \"2004-01-01T00:00:00\", \"KategorieLang\": \"Stadtkreis\", \"RaumSort\": 2, \"RaumLang\": \"Kreis 2\", \"Medianalter\": 40.8}, {\"StichtagDatJahr\": \"2005-01-01T00:00:00\", \"KategorieLang\": \"Stadtkreis\", \"RaumSort\": 2, \"RaumLang\": \"Kreis 2\", \"Medianalter\": 40.8}, {\"StichtagDatJahr\": \"2006-01-01T00:00:00\", \"KategorieLang\": \"Stadtkreis\", \"RaumSort\": 2, \"RaumLang\": \"Kreis 2\", \"Medianalter\": 40.9}, {\"StichtagDatJahr\": \"2007-01-01T00:00:00\", \"KategorieLang\": \"Stadtkreis\", \"RaumSort\": 2, \"RaumLang\": \"Kreis 2\", \"Medianalter\": 40.6}, {\"StichtagDatJahr\": \"2008-01-01T00:00:00\", \"KategorieLang\": \"Stadtkreis\", \"RaumSort\": 2, \"RaumLang\": \"Kreis 2\", \"Medianalter\": 40.8}, {\"StichtagDatJahr\": \"2009-01-01T00:00:00\", \"KategorieLang\": \"Stadtkreis\", \"RaumSort\": 2, \"RaumLang\": \"Kreis 2\", \"Medianalter\": 40.5}, {\"StichtagDatJahr\": \"2010-01-01T00:00:00\", \"KategorieLang\": \"Stadtkreis\", \"RaumSort\": 2, \"RaumLang\": \"Kreis 2\", \"Medianalter\": 40.2}, {\"StichtagDatJahr\": \"2011-01-01T00:00:00\", \"KategorieLang\": \"Stadtkreis\", \"RaumSort\": 2, \"RaumLang\": \"Kreis 2\", \"Medianalter\": 40.1}, {\"StichtagDatJahr\": \"2012-01-01T00:00:00\", \"KategorieLang\": \"Stadtkreis\", \"RaumSort\": 2, \"RaumLang\": \"Kreis 2\", \"Medianalter\": 40.1}, {\"StichtagDatJahr\": \"2013-01-01T00:00:00\", \"KategorieLang\": \"Stadtkreis\", \"RaumSort\": 2, \"RaumLang\": \"Kreis 2\", \"Medianalter\": 39.8}, {\"StichtagDatJahr\": \"2014-01-01T00:00:00\", \"KategorieLang\": \"Stadtkreis\", \"RaumSort\": 2, \"RaumLang\": \"Kreis 2\", \"Medianalter\": 39.5}, {\"StichtagDatJahr\": \"2015-01-01T00:00:00\", \"KategorieLang\": \"Stadtkreis\", \"RaumSort\": 2, \"RaumLang\": \"Kreis 2\", \"Medianalter\": 39.0}, {\"StichtagDatJahr\": \"2016-01-01T00:00:00\", \"KategorieLang\": \"Stadtkreis\", \"RaumSort\": 2, \"RaumLang\": \"Kreis 2\", \"Medianalter\": 38.8}, {\"StichtagDatJahr\": \"2017-01-01T00:00:00\", \"KategorieLang\": \"Stadtkreis\", \"RaumSort\": 2, \"RaumLang\": \"Kreis 2\", \"Medianalter\": 38.3}, {\"StichtagDatJahr\": \"2018-01-01T00:00:00\", \"KategorieLang\": \"Stadtkreis\", \"RaumSort\": 2, \"RaumLang\": \"Kreis 2\", \"Medianalter\": 38.0}, {\"StichtagDatJahr\": \"2019-01-01T00:00:00\", \"KategorieLang\": \"Stadtkreis\", \"RaumSort\": 2, \"RaumLang\": \"Kreis 2\", \"Medianalter\": 38.1}, {\"StichtagDatJahr\": \"2020-01-01T00:00:00\", \"KategorieLang\": \"Stadtkreis\", \"RaumSort\": 2, \"RaumLang\": \"Kreis 2\", \"Medianalter\": 38.1}, {\"StichtagDatJahr\": \"1993-01-01T00:00:00\", \"KategorieLang\": \"Stadtkreis\", \"RaumSort\": 3, \"RaumLang\": \"Kreis 3\", \"Medianalter\": 37.7}, {\"StichtagDatJahr\": \"1994-01-01T00:00:00\", \"KategorieLang\": \"Stadtkreis\", \"RaumSort\": 3, \"RaumLang\": \"Kreis 3\", \"Medianalter\": 37.5}, {\"StichtagDatJahr\": \"1995-01-01T00:00:00\", \"KategorieLang\": \"Stadtkreis\", \"RaumSort\": 3, \"RaumLang\": \"Kreis 3\", \"Medianalter\": 37.3}, {\"StichtagDatJahr\": \"1996-01-01T00:00:00\", \"KategorieLang\": \"Stadtkreis\", \"RaumSort\": 3, \"RaumLang\": \"Kreis 3\", \"Medianalter\": 37.2}, {\"StichtagDatJahr\": \"1997-01-01T00:00:00\", \"KategorieLang\": \"Stadtkreis\", \"RaumSort\": 3, \"RaumLang\": \"Kreis 3\", \"Medianalter\": 37.0}, {\"StichtagDatJahr\": \"1998-01-01T00:00:00\", \"KategorieLang\": \"Stadtkreis\", \"RaumSort\": 3, \"RaumLang\": \"Kreis 3\", \"Medianalter\": 36.7}, {\"StichtagDatJahr\": \"1999-01-01T00:00:00\", \"KategorieLang\": \"Stadtkreis\", \"RaumSort\": 3, \"RaumLang\": \"Kreis 3\", \"Medianalter\": 36.6}, {\"StichtagDatJahr\": \"2000-01-01T00:00:00\", \"KategorieLang\": \"Stadtkreis\", \"RaumSort\": 3, \"RaumLang\": \"Kreis 3\", \"Medianalter\": 36.5}, {\"StichtagDatJahr\": \"2001-01-01T00:00:00\", \"KategorieLang\": \"Stadtkreis\", \"RaumSort\": 3, \"RaumLang\": \"Kreis 3\", \"Medianalter\": 36.7}, {\"StichtagDatJahr\": \"2002-01-01T00:00:00\", \"KategorieLang\": \"Stadtkreis\", \"RaumSort\": 3, \"RaumLang\": \"Kreis 3\", \"Medianalter\": 36.7}, {\"StichtagDatJahr\": \"2003-01-01T00:00:00\", \"KategorieLang\": \"Stadtkreis\", \"RaumSort\": 3, \"RaumLang\": \"Kreis 3\", \"Medianalter\": 36.9}, {\"StichtagDatJahr\": \"2004-01-01T00:00:00\", \"KategorieLang\": \"Stadtkreis\", \"RaumSort\": 3, \"RaumLang\": \"Kreis 3\", \"Medianalter\": 37.0}, {\"StichtagDatJahr\": \"2005-01-01T00:00:00\", \"KategorieLang\": \"Stadtkreis\", \"RaumSort\": 3, \"RaumLang\": \"Kreis 3\", \"Medianalter\": 36.7}, {\"StichtagDatJahr\": \"2006-01-01T00:00:00\", \"KategorieLang\": \"Stadtkreis\", \"RaumSort\": 3, \"RaumLang\": \"Kreis 3\", \"Medianalter\": 36.7}, {\"StichtagDatJahr\": \"2007-01-01T00:00:00\", \"KategorieLang\": \"Stadtkreis\", \"RaumSort\": 3, \"RaumLang\": \"Kreis 3\", \"Medianalter\": 36.5}, {\"StichtagDatJahr\": \"2008-01-01T00:00:00\", \"KategorieLang\": \"Stadtkreis\", \"RaumSort\": 3, \"RaumLang\": \"Kreis 3\", \"Medianalter\": 36.4}, {\"StichtagDatJahr\": \"2009-01-01T00:00:00\", \"KategorieLang\": \"Stadtkreis\", \"RaumSort\": 3, \"RaumLang\": \"Kreis 3\", \"Medianalter\": 36.3}, {\"StichtagDatJahr\": \"2010-01-01T00:00:00\", \"KategorieLang\": \"Stadtkreis\", \"RaumSort\": 3, \"RaumLang\": \"Kreis 3\", \"Medianalter\": 36.6}, {\"StichtagDatJahr\": \"2011-01-01T00:00:00\", \"KategorieLang\": \"Stadtkreis\", \"RaumSort\": 3, \"RaumLang\": \"Kreis 3\", \"Medianalter\": 36.6}, {\"StichtagDatJahr\": \"2012-01-01T00:00:00\", \"KategorieLang\": \"Stadtkreis\", \"RaumSort\": 3, \"RaumLang\": \"Kreis 3\", \"Medianalter\": 36.4}, {\"StichtagDatJahr\": \"2013-01-01T00:00:00\", \"KategorieLang\": \"Stadtkreis\", \"RaumSort\": 3, \"RaumLang\": \"Kreis 3\", \"Medianalter\": 36.5}, {\"StichtagDatJahr\": \"2014-01-01T00:00:00\", \"KategorieLang\": \"Stadtkreis\", \"RaumSort\": 3, \"RaumLang\": \"Kreis 3\", \"Medianalter\": 36.6}, {\"StichtagDatJahr\": \"2015-01-01T00:00:00\", \"KategorieLang\": \"Stadtkreis\", \"RaumSort\": 3, \"RaumLang\": \"Kreis 3\", \"Medianalter\": 36.6}, {\"StichtagDatJahr\": \"2016-01-01T00:00:00\", \"KategorieLang\": \"Stadtkreis\", \"RaumSort\": 3, \"RaumLang\": \"Kreis 3\", \"Medianalter\": 36.7}, {\"StichtagDatJahr\": \"2017-01-01T00:00:00\", \"KategorieLang\": \"Stadtkreis\", \"RaumSort\": 3, \"RaumLang\": \"Kreis 3\", \"Medianalter\": 36.7}, {\"StichtagDatJahr\": \"2018-01-01T00:00:00\", \"KategorieLang\": \"Stadtkreis\", \"RaumSort\": 3, \"RaumLang\": \"Kreis 3\", \"Medianalter\": 36.7}, {\"StichtagDatJahr\": \"2019-01-01T00:00:00\", \"KategorieLang\": \"Stadtkreis\", \"RaumSort\": 3, \"RaumLang\": \"Kreis 3\", \"Medianalter\": 36.8}, {\"StichtagDatJahr\": \"2020-01-01T00:00:00\", \"KategorieLang\": \"Stadtkreis\", \"RaumSort\": 3, \"RaumLang\": \"Kreis 3\", \"Medianalter\": 36.9}, {\"StichtagDatJahr\": \"1993-01-01T00:00:00\", \"KategorieLang\": \"Stadtkreis\", \"RaumSort\": 4, \"RaumLang\": \"Kreis 4\", \"Medianalter\": 35.9}, {\"StichtagDatJahr\": \"1994-01-01T00:00:00\", \"KategorieLang\": \"Stadtkreis\", \"RaumSort\": 4, \"RaumLang\": \"Kreis 4\", \"Medianalter\": 35.7}, {\"StichtagDatJahr\": \"1995-01-01T00:00:00\", \"KategorieLang\": \"Stadtkreis\", \"RaumSort\": 4, \"RaumLang\": \"Kreis 4\", \"Medianalter\": 35.8}, {\"StichtagDatJahr\": \"1996-01-01T00:00:00\", \"KategorieLang\": \"Stadtkreis\", \"RaumSort\": 4, \"RaumLang\": \"Kreis 4\", \"Medianalter\": 35.7}, {\"StichtagDatJahr\": \"1997-01-01T00:00:00\", \"KategorieLang\": \"Stadtkreis\", \"RaumSort\": 4, \"RaumLang\": \"Kreis 4\", \"Medianalter\": 35.6}, {\"StichtagDatJahr\": \"1998-01-01T00:00:00\", \"KategorieLang\": \"Stadtkreis\", \"RaumSort\": 4, \"RaumLang\": \"Kreis 4\", \"Medianalter\": 35.4}, {\"StichtagDatJahr\": \"1999-01-01T00:00:00\", \"KategorieLang\": \"Stadtkreis\", \"RaumSort\": 4, \"RaumLang\": \"Kreis 4\", \"Medianalter\": 35.2}, {\"StichtagDatJahr\": \"2000-01-01T00:00:00\", \"KategorieLang\": \"Stadtkreis\", \"RaumSort\": 4, \"RaumLang\": \"Kreis 4\", \"Medianalter\": 35.3}, {\"StichtagDatJahr\": \"2001-01-01T00:00:00\", \"KategorieLang\": \"Stadtkreis\", \"RaumSort\": 4, \"RaumLang\": \"Kreis 4\", \"Medianalter\": 35.3}, {\"StichtagDatJahr\": \"2002-01-01T00:00:00\", \"KategorieLang\": \"Stadtkreis\", \"RaumSort\": 4, \"RaumLang\": \"Kreis 4\", \"Medianalter\": 35.3}, {\"StichtagDatJahr\": \"2003-01-01T00:00:00\", \"KategorieLang\": \"Stadtkreis\", \"RaumSort\": 4, \"RaumLang\": \"Kreis 4\", \"Medianalter\": 35.5}, {\"StichtagDatJahr\": \"2004-01-01T00:00:00\", \"KategorieLang\": \"Stadtkreis\", \"RaumSort\": 4, \"RaumLang\": \"Kreis 4\", \"Medianalter\": 35.5}, {\"StichtagDatJahr\": \"2005-01-01T00:00:00\", \"KategorieLang\": \"Stadtkreis\", \"RaumSort\": 4, \"RaumLang\": \"Kreis 4\", \"Medianalter\": 35.5}, {\"StichtagDatJahr\": \"2006-01-01T00:00:00\", \"KategorieLang\": \"Stadtkreis\", \"RaumSort\": 4, \"RaumLang\": \"Kreis 4\", \"Medianalter\": 35.7}, {\"StichtagDatJahr\": \"2007-01-01T00:00:00\", \"KategorieLang\": \"Stadtkreis\", \"RaumSort\": 4, \"RaumLang\": \"Kreis 4\", \"Medianalter\": 35.5}, {\"StichtagDatJahr\": \"2008-01-01T00:00:00\", \"KategorieLang\": \"Stadtkreis\", \"RaumSort\": 4, \"RaumLang\": \"Kreis 4\", \"Medianalter\": 35.5}, {\"StichtagDatJahr\": \"2009-01-01T00:00:00\", \"KategorieLang\": \"Stadtkreis\", \"RaumSort\": 4, \"RaumLang\": \"Kreis 4\", \"Medianalter\": 35.5}, {\"StichtagDatJahr\": \"2010-01-01T00:00:00\", \"KategorieLang\": \"Stadtkreis\", \"RaumSort\": 4, \"RaumLang\": \"Kreis 4\", \"Medianalter\": 35.7}, {\"StichtagDatJahr\": \"2011-01-01T00:00:00\", \"KategorieLang\": \"Stadtkreis\", \"RaumSort\": 4, \"RaumLang\": \"Kreis 4\", \"Medianalter\": 35.9}, {\"StichtagDatJahr\": \"2012-01-01T00:00:00\", \"KategorieLang\": \"Stadtkreis\", \"RaumSort\": 4, \"RaumLang\": \"Kreis 4\", \"Medianalter\": 35.9}, {\"StichtagDatJahr\": \"2013-01-01T00:00:00\", \"KategorieLang\": \"Stadtkreis\", \"RaumSort\": 4, \"RaumLang\": \"Kreis 4\", \"Medianalter\": 35.9}, {\"StichtagDatJahr\": \"2014-01-01T00:00:00\", \"KategorieLang\": \"Stadtkreis\", \"RaumSort\": 4, \"RaumLang\": \"Kreis 4\", \"Medianalter\": 36.0}, {\"StichtagDatJahr\": \"2015-01-01T00:00:00\", \"KategorieLang\": \"Stadtkreis\", \"RaumSort\": 4, \"RaumLang\": \"Kreis 4\", \"Medianalter\": 36.2}, {\"StichtagDatJahr\": \"2016-01-01T00:00:00\", \"KategorieLang\": \"Stadtkreis\", \"RaumSort\": 4, \"RaumLang\": \"Kreis 4\", \"Medianalter\": 36.3}, {\"StichtagDatJahr\": \"2017-01-01T00:00:00\", \"KategorieLang\": \"Stadtkreis\", \"RaumSort\": 4, \"RaumLang\": \"Kreis 4\", \"Medianalter\": 36.2}, {\"StichtagDatJahr\": \"2018-01-01T00:00:00\", \"KategorieLang\": \"Stadtkreis\", \"RaumSort\": 4, \"RaumLang\": \"Kreis 4\", \"Medianalter\": 36.1}, {\"StichtagDatJahr\": \"2019-01-01T00:00:00\", \"KategorieLang\": \"Stadtkreis\", \"RaumSort\": 4, \"RaumLang\": \"Kreis 4\", \"Medianalter\": 35.7}, {\"StichtagDatJahr\": \"2020-01-01T00:00:00\", \"KategorieLang\": \"Stadtkreis\", \"RaumSort\": 4, \"RaumLang\": \"Kreis 4\", \"Medianalter\": 35.9}, {\"StichtagDatJahr\": \"1993-01-01T00:00:00\", \"KategorieLang\": \"Stadtkreis\", \"RaumSort\": 5, \"RaumLang\": \"Kreis 5\", \"Medianalter\": 33.9}, {\"StichtagDatJahr\": \"1994-01-01T00:00:00\", \"KategorieLang\": \"Stadtkreis\", \"RaumSort\": 5, \"RaumLang\": \"Kreis 5\", \"Medianalter\": 34.2}, {\"StichtagDatJahr\": \"1995-01-01T00:00:00\", \"KategorieLang\": \"Stadtkreis\", \"RaumSort\": 5, \"RaumLang\": \"Kreis 5\", \"Medianalter\": 34.1}, {\"StichtagDatJahr\": \"1996-01-01T00:00:00\", \"KategorieLang\": \"Stadtkreis\", \"RaumSort\": 5, \"RaumLang\": \"Kreis 5\", \"Medianalter\": 34.0}, {\"StichtagDatJahr\": \"1997-01-01T00:00:00\", \"KategorieLang\": \"Stadtkreis\", \"RaumSort\": 5, \"RaumLang\": \"Kreis 5\", \"Medianalter\": 34.2}, {\"StichtagDatJahr\": \"1998-01-01T00:00:00\", \"KategorieLang\": \"Stadtkreis\", \"RaumSort\": 5, \"RaumLang\": \"Kreis 5\", \"Medianalter\": 34.4}, {\"StichtagDatJahr\": \"1999-01-01T00:00:00\", \"KategorieLang\": \"Stadtkreis\", \"RaumSort\": 5, \"RaumLang\": \"Kreis 5\", \"Medianalter\": 34.0}, {\"StichtagDatJahr\": \"2000-01-01T00:00:00\", \"KategorieLang\": \"Stadtkreis\", \"RaumSort\": 5, \"RaumLang\": \"Kreis 5\", \"Medianalter\": 33.9}, {\"StichtagDatJahr\": \"2001-01-01T00:00:00\", \"KategorieLang\": \"Stadtkreis\", \"RaumSort\": 5, \"RaumLang\": \"Kreis 5\", \"Medianalter\": 34.4}, {\"StichtagDatJahr\": \"2002-01-01T00:00:00\", \"KategorieLang\": \"Stadtkreis\", \"RaumSort\": 5, \"RaumLang\": \"Kreis 5\", \"Medianalter\": 34.5}, {\"StichtagDatJahr\": \"2003-01-01T00:00:00\", \"KategorieLang\": \"Stadtkreis\", \"RaumSort\": 5, \"RaumLang\": \"Kreis 5\", \"Medianalter\": 34.7}, {\"StichtagDatJahr\": \"2004-01-01T00:00:00\", \"KategorieLang\": \"Stadtkreis\", \"RaumSort\": 5, \"RaumLang\": \"Kreis 5\", \"Medianalter\": 34.8}, {\"StichtagDatJahr\": \"2005-01-01T00:00:00\", \"KategorieLang\": \"Stadtkreis\", \"RaumSort\": 5, \"RaumLang\": \"Kreis 5\", \"Medianalter\": 35.2}, {\"StichtagDatJahr\": \"2006-01-01T00:00:00\", \"KategorieLang\": \"Stadtkreis\", \"RaumSort\": 5, \"RaumLang\": \"Kreis 5\", \"Medianalter\": 35.3}, {\"StichtagDatJahr\": \"2007-01-01T00:00:00\", \"KategorieLang\": \"Stadtkreis\", \"RaumSort\": 5, \"RaumLang\": \"Kreis 5\", \"Medianalter\": 35.6}, {\"StichtagDatJahr\": \"2008-01-01T00:00:00\", \"KategorieLang\": \"Stadtkreis\", \"RaumSort\": 5, \"RaumLang\": \"Kreis 5\", \"Medianalter\": 36.2}, {\"StichtagDatJahr\": \"2009-01-01T00:00:00\", \"KategorieLang\": \"Stadtkreis\", \"RaumSort\": 5, \"RaumLang\": \"Kreis 5\", \"Medianalter\": 36.3}, {\"StichtagDatJahr\": \"2010-01-01T00:00:00\", \"KategorieLang\": \"Stadtkreis\", \"RaumSort\": 5, \"RaumLang\": \"Kreis 5\", \"Medianalter\": 36.5}, {\"StichtagDatJahr\": \"2011-01-01T00:00:00\", \"KategorieLang\": \"Stadtkreis\", \"RaumSort\": 5, \"RaumLang\": \"Kreis 5\", \"Medianalter\": 36.2}, {\"StichtagDatJahr\": \"2012-01-01T00:00:00\", \"KategorieLang\": \"Stadtkreis\", \"RaumSort\": 5, \"RaumLang\": \"Kreis 5\", \"Medianalter\": 36.2}, {\"StichtagDatJahr\": \"2013-01-01T00:00:00\", \"KategorieLang\": \"Stadtkreis\", \"RaumSort\": 5, \"RaumLang\": \"Kreis 5\", \"Medianalter\": 36.2}, {\"StichtagDatJahr\": \"2014-01-01T00:00:00\", \"KategorieLang\": \"Stadtkreis\", \"RaumSort\": 5, \"RaumLang\": \"Kreis 5\", \"Medianalter\": 36.3}, {\"StichtagDatJahr\": \"2015-01-01T00:00:00\", \"KategorieLang\": \"Stadtkreis\", \"RaumSort\": 5, \"RaumLang\": \"Kreis 5\", \"Medianalter\": 36.0}, {\"StichtagDatJahr\": \"2016-01-01T00:00:00\", \"KategorieLang\": \"Stadtkreis\", \"RaumSort\": 5, \"RaumLang\": \"Kreis 5\", \"Medianalter\": 36.2}, {\"StichtagDatJahr\": \"2017-01-01T00:00:00\", \"KategorieLang\": \"Stadtkreis\", \"RaumSort\": 5, \"RaumLang\": \"Kreis 5\", \"Medianalter\": 36.3}, {\"StichtagDatJahr\": \"2018-01-01T00:00:00\", \"KategorieLang\": \"Stadtkreis\", \"RaumSort\": 5, \"RaumLang\": \"Kreis 5\", \"Medianalter\": 36.4}, {\"StichtagDatJahr\": \"2019-01-01T00:00:00\", \"KategorieLang\": \"Stadtkreis\", \"RaumSort\": 5, \"RaumLang\": \"Kreis 5\", \"Medianalter\": 36.5}, {\"StichtagDatJahr\": \"2020-01-01T00:00:00\", \"KategorieLang\": \"Stadtkreis\", \"RaumSort\": 5, \"RaumLang\": \"Kreis 5\", \"Medianalter\": 36.8}, {\"StichtagDatJahr\": \"1993-01-01T00:00:00\", \"KategorieLang\": \"Stadtkreis\", \"RaumSort\": 6, \"RaumLang\": \"Kreis 6\", \"Medianalter\": 39.3}, {\"StichtagDatJahr\": \"1994-01-01T00:00:00\", \"KategorieLang\": \"Stadtkreis\", \"RaumSort\": 6, \"RaumLang\": \"Kreis 6\", \"Medianalter\": 38.9}, {\"StichtagDatJahr\": \"1995-01-01T00:00:00\", \"KategorieLang\": \"Stadtkreis\", \"RaumSort\": 6, \"RaumLang\": \"Kreis 6\", \"Medianalter\": 38.9}, {\"StichtagDatJahr\": \"1996-01-01T00:00:00\", \"KategorieLang\": \"Stadtkreis\", \"RaumSort\": 6, \"RaumLang\": \"Kreis 6\", \"Medianalter\": 38.6}, {\"StichtagDatJahr\": \"1997-01-01T00:00:00\", \"KategorieLang\": \"Stadtkreis\", \"RaumSort\": 6, \"RaumLang\": \"Kreis 6\", \"Medianalter\": 38.3}, {\"StichtagDatJahr\": \"1998-01-01T00:00:00\", \"KategorieLang\": \"Stadtkreis\", \"RaumSort\": 6, \"RaumLang\": \"Kreis 6\", \"Medianalter\": 38.1}, {\"StichtagDatJahr\": \"1999-01-01T00:00:00\", \"KategorieLang\": \"Stadtkreis\", \"RaumSort\": 6, \"RaumLang\": \"Kreis 6\", \"Medianalter\": 38.0}, {\"StichtagDatJahr\": \"2000-01-01T00:00:00\", \"KategorieLang\": \"Stadtkreis\", \"RaumSort\": 6, \"RaumLang\": \"Kreis 6\", \"Medianalter\": 37.9}, {\"StichtagDatJahr\": \"2001-01-01T00:00:00\", \"KategorieLang\": \"Stadtkreis\", \"RaumSort\": 6, \"RaumLang\": \"Kreis 6\", \"Medianalter\": 38.0}, {\"StichtagDatJahr\": \"2002-01-01T00:00:00\", \"KategorieLang\": \"Stadtkreis\", \"RaumSort\": 6, \"RaumLang\": \"Kreis 6\", \"Medianalter\": 37.9}, {\"StichtagDatJahr\": \"2003-01-01T00:00:00\", \"KategorieLang\": \"Stadtkreis\", \"RaumSort\": 6, \"RaumLang\": \"Kreis 6\", \"Medianalter\": 37.9}, {\"StichtagDatJahr\": \"2004-01-01T00:00:00\", \"KategorieLang\": \"Stadtkreis\", \"RaumSort\": 6, \"RaumLang\": \"Kreis 6\", \"Medianalter\": 38.1}, {\"StichtagDatJahr\": \"2005-01-01T00:00:00\", \"KategorieLang\": \"Stadtkreis\", \"RaumSort\": 6, \"RaumLang\": \"Kreis 6\", \"Medianalter\": 38.0}, {\"StichtagDatJahr\": \"2006-01-01T00:00:00\", \"KategorieLang\": \"Stadtkreis\", \"RaumSort\": 6, \"RaumLang\": \"Kreis 6\", \"Medianalter\": 38.0}, {\"StichtagDatJahr\": \"2007-01-01T00:00:00\", \"KategorieLang\": \"Stadtkreis\", \"RaumSort\": 6, \"RaumLang\": \"Kreis 6\", \"Medianalter\": 37.8}, {\"StichtagDatJahr\": \"2008-01-01T00:00:00\", \"KategorieLang\": \"Stadtkreis\", \"RaumSort\": 6, \"RaumLang\": \"Kreis 6\", \"Medianalter\": 37.6}, {\"StichtagDatJahr\": \"2009-01-01T00:00:00\", \"KategorieLang\": \"Stadtkreis\", \"RaumSort\": 6, \"RaumLang\": \"Kreis 6\", \"Medianalter\": 37.6}, {\"StichtagDatJahr\": \"2010-01-01T00:00:00\", \"KategorieLang\": \"Stadtkreis\", \"RaumSort\": 6, \"RaumLang\": \"Kreis 6\", \"Medianalter\": 37.5}, {\"StichtagDatJahr\": \"2011-01-01T00:00:00\", \"KategorieLang\": \"Stadtkreis\", \"RaumSort\": 6, \"RaumLang\": \"Kreis 6\", \"Medianalter\": 37.5}, {\"StichtagDatJahr\": \"2012-01-01T00:00:00\", \"KategorieLang\": \"Stadtkreis\", \"RaumSort\": 6, \"RaumLang\": \"Kreis 6\", \"Medianalter\": 37.6}, {\"StichtagDatJahr\": \"2013-01-01T00:00:00\", \"KategorieLang\": \"Stadtkreis\", \"RaumSort\": 6, \"RaumLang\": \"Kreis 6\", \"Medianalter\": 37.3}, {\"StichtagDatJahr\": \"2014-01-01T00:00:00\", \"KategorieLang\": \"Stadtkreis\", \"RaumSort\": 6, \"RaumLang\": \"Kreis 6\", \"Medianalter\": 37.1}, {\"StichtagDatJahr\": \"2015-01-01T00:00:00\", \"KategorieLang\": \"Stadtkreis\", \"RaumSort\": 6, \"RaumLang\": \"Kreis 6\", \"Medianalter\": 37.2}, {\"StichtagDatJahr\": \"2016-01-01T00:00:00\", \"KategorieLang\": \"Stadtkreis\", \"RaumSort\": 6, \"RaumLang\": \"Kreis 6\", \"Medianalter\": 37.3}, {\"StichtagDatJahr\": \"2017-01-01T00:00:00\", \"KategorieLang\": \"Stadtkreis\", \"RaumSort\": 6, \"RaumLang\": \"Kreis 6\", \"Medianalter\": 37.3}, {\"StichtagDatJahr\": \"2018-01-01T00:00:00\", \"KategorieLang\": \"Stadtkreis\", \"RaumSort\": 6, \"RaumLang\": \"Kreis 6\", \"Medianalter\": 37.3}, {\"StichtagDatJahr\": \"2019-01-01T00:00:00\", \"KategorieLang\": \"Stadtkreis\", \"RaumSort\": 6, \"RaumLang\": \"Kreis 6\", \"Medianalter\": 36.9}, {\"StichtagDatJahr\": \"2020-01-01T00:00:00\", \"KategorieLang\": \"Stadtkreis\", \"RaumSort\": 6, \"RaumLang\": \"Kreis 6\", \"Medianalter\": 36.8}, {\"StichtagDatJahr\": \"1993-01-01T00:00:00\", \"KategorieLang\": \"Stadtkreis\", \"RaumSort\": 7, \"RaumLang\": \"Kreis 7\", \"Medianalter\": 43.2}, {\"StichtagDatJahr\": \"1994-01-01T00:00:00\", \"KategorieLang\": \"Stadtkreis\", \"RaumSort\": 7, \"RaumLang\": \"Kreis 7\", \"Medianalter\": 43.3}, {\"StichtagDatJahr\": \"1995-01-01T00:00:00\", \"KategorieLang\": \"Stadtkreis\", \"RaumSort\": 7, \"RaumLang\": \"Kreis 7\", \"Medianalter\": 43.3}, {\"StichtagDatJahr\": \"1996-01-01T00:00:00\", \"KategorieLang\": \"Stadtkreis\", \"RaumSort\": 7, \"RaumLang\": \"Kreis 7\", \"Medianalter\": 43.0}, {\"StichtagDatJahr\": \"1997-01-01T00:00:00\", \"KategorieLang\": \"Stadtkreis\", \"RaumSort\": 7, \"RaumLang\": \"Kreis 7\", \"Medianalter\": 42.9}, {\"StichtagDatJahr\": \"1998-01-01T00:00:00\", \"KategorieLang\": \"Stadtkreis\", \"RaumSort\": 7, \"RaumLang\": \"Kreis 7\", \"Medianalter\": 43.0}, {\"StichtagDatJahr\": \"1999-01-01T00:00:00\", \"KategorieLang\": \"Stadtkreis\", \"RaumSort\": 7, \"RaumLang\": \"Kreis 7\", \"Medianalter\": 42.8}, {\"StichtagDatJahr\": \"2000-01-01T00:00:00\", \"KategorieLang\": \"Stadtkreis\", \"RaumSort\": 7, \"RaumLang\": \"Kreis 7\", \"Medianalter\": 43.1}, {\"StichtagDatJahr\": \"2001-01-01T00:00:00\", \"KategorieLang\": \"Stadtkreis\", \"RaumSort\": 7, \"RaumLang\": \"Kreis 7\", \"Medianalter\": 43.0}, {\"StichtagDatJahr\": \"2002-01-01T00:00:00\", \"KategorieLang\": \"Stadtkreis\", \"RaumSort\": 7, \"RaumLang\": \"Kreis 7\", \"Medianalter\": 43.4}, {\"StichtagDatJahr\": \"2003-01-01T00:00:00\", \"KategorieLang\": \"Stadtkreis\", \"RaumSort\": 7, \"RaumLang\": \"Kreis 7\", \"Medianalter\": 43.5}, {\"StichtagDatJahr\": \"2004-01-01T00:00:00\", \"KategorieLang\": \"Stadtkreis\", \"RaumSort\": 7, \"RaumLang\": \"Kreis 7\", \"Medianalter\": 43.4}, {\"StichtagDatJahr\": \"2005-01-01T00:00:00\", \"KategorieLang\": \"Stadtkreis\", \"RaumSort\": 7, \"RaumLang\": \"Kreis 7\", \"Medianalter\": 43.4}, {\"StichtagDatJahr\": \"2006-01-01T00:00:00\", \"KategorieLang\": \"Stadtkreis\", \"RaumSort\": 7, \"RaumLang\": \"Kreis 7\", \"Medianalter\": 43.5}, {\"StichtagDatJahr\": \"2007-01-01T00:00:00\", \"KategorieLang\": \"Stadtkreis\", \"RaumSort\": 7, \"RaumLang\": \"Kreis 7\", \"Medianalter\": 43.1}, {\"StichtagDatJahr\": \"2008-01-01T00:00:00\", \"KategorieLang\": \"Stadtkreis\", \"RaumSort\": 7, \"RaumLang\": \"Kreis 7\", \"Medianalter\": 43.0}, {\"StichtagDatJahr\": \"2009-01-01T00:00:00\", \"KategorieLang\": \"Stadtkreis\", \"RaumSort\": 7, \"RaumLang\": \"Kreis 7\", \"Medianalter\": 43.1}, {\"StichtagDatJahr\": \"2010-01-01T00:00:00\", \"KategorieLang\": \"Stadtkreis\", \"RaumSort\": 7, \"RaumLang\": \"Kreis 7\", \"Medianalter\": 42.9}, {\"StichtagDatJahr\": \"2011-01-01T00:00:00\", \"KategorieLang\": \"Stadtkreis\", \"RaumSort\": 7, \"RaumLang\": \"Kreis 7\", \"Medianalter\": 42.9}, {\"StichtagDatJahr\": \"2012-01-01T00:00:00\", \"KategorieLang\": \"Stadtkreis\", \"RaumSort\": 7, \"RaumLang\": \"Kreis 7\", \"Medianalter\": 43.0}, {\"StichtagDatJahr\": \"2013-01-01T00:00:00\", \"KategorieLang\": \"Stadtkreis\", \"RaumSort\": 7, \"RaumLang\": \"Kreis 7\", \"Medianalter\": 42.9}, {\"StichtagDatJahr\": \"2014-01-01T00:00:00\", \"KategorieLang\": \"Stadtkreis\", \"RaumSort\": 7, \"RaumLang\": \"Kreis 7\", \"Medianalter\": 42.8}, {\"StichtagDatJahr\": \"2015-01-01T00:00:00\", \"KategorieLang\": \"Stadtkreis\", \"RaumSort\": 7, \"RaumLang\": \"Kreis 7\", \"Medianalter\": 42.6}, {\"StichtagDatJahr\": \"2016-01-01T00:00:00\", \"KategorieLang\": \"Stadtkreis\", \"RaumSort\": 7, \"RaumLang\": \"Kreis 7\", \"Medianalter\": 42.8}, {\"StichtagDatJahr\": \"2017-01-01T00:00:00\", \"KategorieLang\": \"Stadtkreis\", \"RaumSort\": 7, \"RaumLang\": \"Kreis 7\", \"Medianalter\": 42.6}, {\"StichtagDatJahr\": \"2018-01-01T00:00:00\", \"KategorieLang\": \"Stadtkreis\", \"RaumSort\": 7, \"RaumLang\": \"Kreis 7\", \"Medianalter\": 42.6}, {\"StichtagDatJahr\": \"2019-01-01T00:00:00\", \"KategorieLang\": \"Stadtkreis\", \"RaumSort\": 7, \"RaumLang\": \"Kreis 7\", \"Medianalter\": 42.5}, {\"StichtagDatJahr\": \"2020-01-01T00:00:00\", \"KategorieLang\": \"Stadtkreis\", \"RaumSort\": 7, \"RaumLang\": \"Kreis 7\", \"Medianalter\": 42.5}, {\"StichtagDatJahr\": \"1993-01-01T00:00:00\", \"KategorieLang\": \"Stadtkreis\", \"RaumSort\": 8, \"RaumLang\": \"Kreis 8\", \"Medianalter\": 39.4}, {\"StichtagDatJahr\": \"1994-01-01T00:00:00\", \"KategorieLang\": \"Stadtkreis\", \"RaumSort\": 8, \"RaumLang\": \"Kreis 8\", \"Medianalter\": 39.3}, {\"StichtagDatJahr\": \"1995-01-01T00:00:00\", \"KategorieLang\": \"Stadtkreis\", \"RaumSort\": 8, \"RaumLang\": \"Kreis 8\", \"Medianalter\": 39.1}, {\"StichtagDatJahr\": \"1996-01-01T00:00:00\", \"KategorieLang\": \"Stadtkreis\", \"RaumSort\": 8, \"RaumLang\": \"Kreis 8\", \"Medianalter\": 39.1}, {\"StichtagDatJahr\": \"1997-01-01T00:00:00\", \"KategorieLang\": \"Stadtkreis\", \"RaumSort\": 8, \"RaumLang\": \"Kreis 8\", \"Medianalter\": 39.2}, {\"StichtagDatJahr\": \"1998-01-01T00:00:00\", \"KategorieLang\": \"Stadtkreis\", \"RaumSort\": 8, \"RaumLang\": \"Kreis 8\", \"Medianalter\": 38.9}, {\"StichtagDatJahr\": \"1999-01-01T00:00:00\", \"KategorieLang\": \"Stadtkreis\", \"RaumSort\": 8, \"RaumLang\": \"Kreis 8\", \"Medianalter\": 39.1}, {\"StichtagDatJahr\": \"2000-01-01T00:00:00\", \"KategorieLang\": \"Stadtkreis\", \"RaumSort\": 8, \"RaumLang\": \"Kreis 8\", \"Medianalter\": 39.0}, {\"StichtagDatJahr\": \"2001-01-01T00:00:00\", \"KategorieLang\": \"Stadtkreis\", \"RaumSort\": 8, \"RaumLang\": \"Kreis 8\", \"Medianalter\": 39.0}, {\"StichtagDatJahr\": \"2002-01-01T00:00:00\", \"KategorieLang\": \"Stadtkreis\", \"RaumSort\": 8, \"RaumLang\": \"Kreis 8\", \"Medianalter\": 39.0}, {\"StichtagDatJahr\": \"2003-01-01T00:00:00\", \"KategorieLang\": \"Stadtkreis\", \"RaumSort\": 8, \"RaumLang\": \"Kreis 8\", \"Medianalter\": 39.2}, {\"StichtagDatJahr\": \"2004-01-01T00:00:00\", \"KategorieLang\": \"Stadtkreis\", \"RaumSort\": 8, \"RaumLang\": \"Kreis 8\", \"Medianalter\": 39.4}, {\"StichtagDatJahr\": \"2005-01-01T00:00:00\", \"KategorieLang\": \"Stadtkreis\", \"RaumSort\": 8, \"RaumLang\": \"Kreis 8\", \"Medianalter\": 39.6}, {\"StichtagDatJahr\": \"2006-01-01T00:00:00\", \"KategorieLang\": \"Stadtkreis\", \"RaumSort\": 8, \"RaumLang\": \"Kreis 8\", \"Medianalter\": 39.7}, {\"StichtagDatJahr\": \"2007-01-01T00:00:00\", \"KategorieLang\": \"Stadtkreis\", \"RaumSort\": 8, \"RaumLang\": \"Kreis 8\", \"Medianalter\": 39.5}, {\"StichtagDatJahr\": \"2008-01-01T00:00:00\", \"KategorieLang\": \"Stadtkreis\", \"RaumSort\": 8, \"RaumLang\": \"Kreis 8\", \"Medianalter\": 39.6}, {\"StichtagDatJahr\": \"2009-01-01T00:00:00\", \"KategorieLang\": \"Stadtkreis\", \"RaumSort\": 8, \"RaumLang\": \"Kreis 8\", \"Medianalter\": 40.2}, {\"StichtagDatJahr\": \"2010-01-01T00:00:00\", \"KategorieLang\": \"Stadtkreis\", \"RaumSort\": 8, \"RaumLang\": \"Kreis 8\", \"Medianalter\": 39.8}, {\"StichtagDatJahr\": \"2011-01-01T00:00:00\", \"KategorieLang\": \"Stadtkreis\", \"RaumSort\": 8, \"RaumLang\": \"Kreis 8\", \"Medianalter\": 40.0}, {\"StichtagDatJahr\": \"2012-01-01T00:00:00\", \"KategorieLang\": \"Stadtkreis\", \"RaumSort\": 8, \"RaumLang\": \"Kreis 8\", \"Medianalter\": 40.2}, {\"StichtagDatJahr\": \"2013-01-01T00:00:00\", \"KategorieLang\": \"Stadtkreis\", \"RaumSort\": 8, \"RaumLang\": \"Kreis 8\", \"Medianalter\": 40.1}, {\"StichtagDatJahr\": \"2014-01-01T00:00:00\", \"KategorieLang\": \"Stadtkreis\", \"RaumSort\": 8, \"RaumLang\": \"Kreis 8\", \"Medianalter\": 40.1}, {\"StichtagDatJahr\": \"2015-01-01T00:00:00\", \"KategorieLang\": \"Stadtkreis\", \"RaumSort\": 8, \"RaumLang\": \"Kreis 8\", \"Medianalter\": 40.3}, {\"StichtagDatJahr\": \"2016-01-01T00:00:00\", \"KategorieLang\": \"Stadtkreis\", \"RaumSort\": 8, \"RaumLang\": \"Kreis 8\", \"Medianalter\": 40.1}, {\"StichtagDatJahr\": \"2017-01-01T00:00:00\", \"KategorieLang\": \"Stadtkreis\", \"RaumSort\": 8, \"RaumLang\": \"Kreis 8\", \"Medianalter\": 40.5}, {\"StichtagDatJahr\": \"2018-01-01T00:00:00\", \"KategorieLang\": \"Stadtkreis\", \"RaumSort\": 8, \"RaumLang\": \"Kreis 8\", \"Medianalter\": 40.2}, {\"StichtagDatJahr\": \"2019-01-01T00:00:00\", \"KategorieLang\": \"Stadtkreis\", \"RaumSort\": 8, \"RaumLang\": \"Kreis 8\", \"Medianalter\": 40.2}, {\"StichtagDatJahr\": \"2020-01-01T00:00:00\", \"KategorieLang\": \"Stadtkreis\", \"RaumSort\": 8, \"RaumLang\": \"Kreis 8\", \"Medianalter\": 40.0}, {\"StichtagDatJahr\": \"1993-01-01T00:00:00\", \"KategorieLang\": \"Stadtkreis\", \"RaumSort\": 9, \"RaumLang\": \"Kreis 9\", \"Medianalter\": 42.7}, {\"StichtagDatJahr\": \"1994-01-01T00:00:00\", \"KategorieLang\": \"Stadtkreis\", \"RaumSort\": 9, \"RaumLang\": \"Kreis 9\", \"Medianalter\": 42.5}, {\"StichtagDatJahr\": \"1995-01-01T00:00:00\", \"KategorieLang\": \"Stadtkreis\", \"RaumSort\": 9, \"RaumLang\": \"Kreis 9\", \"Medianalter\": 42.4}, {\"StichtagDatJahr\": \"1996-01-01T00:00:00\", \"KategorieLang\": \"Stadtkreis\", \"RaumSort\": 9, \"RaumLang\": \"Kreis 9\", \"Medianalter\": 42.5}, {\"StichtagDatJahr\": \"1997-01-01T00:00:00\", \"KategorieLang\": \"Stadtkreis\", \"RaumSort\": 9, \"RaumLang\": \"Kreis 9\", \"Medianalter\": 42.3}, {\"StichtagDatJahr\": \"1998-01-01T00:00:00\", \"KategorieLang\": \"Stadtkreis\", \"RaumSort\": 9, \"RaumLang\": \"Kreis 9\", \"Medianalter\": 42.1}, {\"StichtagDatJahr\": \"1999-01-01T00:00:00\", \"KategorieLang\": \"Stadtkreis\", \"RaumSort\": 9, \"RaumLang\": \"Kreis 9\", \"Medianalter\": 42.1}, {\"StichtagDatJahr\": \"2000-01-01T00:00:00\", \"KategorieLang\": \"Stadtkreis\", \"RaumSort\": 9, \"RaumLang\": \"Kreis 9\", \"Medianalter\": 41.7}, {\"StichtagDatJahr\": \"2001-01-01T00:00:00\", \"KategorieLang\": \"Stadtkreis\", \"RaumSort\": 9, \"RaumLang\": \"Kreis 9\", \"Medianalter\": 41.3}, {\"StichtagDatJahr\": \"2002-01-01T00:00:00\", \"KategorieLang\": \"Stadtkreis\", \"RaumSort\": 9, \"RaumLang\": \"Kreis 9\", \"Medianalter\": 41.1}, {\"StichtagDatJahr\": \"2003-01-01T00:00:00\", \"KategorieLang\": \"Stadtkreis\", \"RaumSort\": 9, \"RaumLang\": \"Kreis 9\", \"Medianalter\": 41.3}, {\"StichtagDatJahr\": \"2004-01-01T00:00:00\", \"KategorieLang\": \"Stadtkreis\", \"RaumSort\": 9, \"RaumLang\": \"Kreis 9\", \"Medianalter\": 41.4}, {\"StichtagDatJahr\": \"2005-01-01T00:00:00\", \"KategorieLang\": \"Stadtkreis\", \"RaumSort\": 9, \"RaumLang\": \"Kreis 9\", \"Medianalter\": 41.4}, {\"StichtagDatJahr\": \"2006-01-01T00:00:00\", \"KategorieLang\": \"Stadtkreis\", \"RaumSort\": 9, \"RaumLang\": \"Kreis 9\", \"Medianalter\": 41.2}, {\"StichtagDatJahr\": \"2007-01-01T00:00:00\", \"KategorieLang\": \"Stadtkreis\", \"RaumSort\": 9, \"RaumLang\": \"Kreis 9\", \"Medianalter\": 40.9}, {\"StichtagDatJahr\": \"2008-01-01T00:00:00\", \"KategorieLang\": \"Stadtkreis\", \"RaumSort\": 9, \"RaumLang\": \"Kreis 9\", \"Medianalter\": 40.5}, {\"StichtagDatJahr\": \"2009-01-01T00:00:00\", \"KategorieLang\": \"Stadtkreis\", \"RaumSort\": 9, \"RaumLang\": \"Kreis 9\", \"Medianalter\": 40.3}, {\"StichtagDatJahr\": \"2010-01-01T00:00:00\", \"KategorieLang\": \"Stadtkreis\", \"RaumSort\": 9, \"RaumLang\": \"Kreis 9\", \"Medianalter\": 40.0}, {\"StichtagDatJahr\": \"2011-01-01T00:00:00\", \"KategorieLang\": \"Stadtkreis\", \"RaumSort\": 9, \"RaumLang\": \"Kreis 9\", \"Medianalter\": 39.4}, {\"StichtagDatJahr\": \"2012-01-01T00:00:00\", \"KategorieLang\": \"Stadtkreis\", \"RaumSort\": 9, \"RaumLang\": \"Kreis 9\", \"Medianalter\": 39.3}, {\"StichtagDatJahr\": \"2013-01-01T00:00:00\", \"KategorieLang\": \"Stadtkreis\", \"RaumSort\": 9, \"RaumLang\": \"Kreis 9\", \"Medianalter\": 39.4}, {\"StichtagDatJahr\": \"2014-01-01T00:00:00\", \"KategorieLang\": \"Stadtkreis\", \"RaumSort\": 9, \"RaumLang\": \"Kreis 9\", \"Medianalter\": 39.4}, {\"StichtagDatJahr\": \"2015-01-01T00:00:00\", \"KategorieLang\": \"Stadtkreis\", \"RaumSort\": 9, \"RaumLang\": \"Kreis 9\", \"Medianalter\": 39.4}, {\"StichtagDatJahr\": \"2016-01-01T00:00:00\", \"KategorieLang\": \"Stadtkreis\", \"RaumSort\": 9, \"RaumLang\": \"Kreis 9\", \"Medianalter\": 38.9}, {\"StichtagDatJahr\": \"2017-01-01T00:00:00\", \"KategorieLang\": \"Stadtkreis\", \"RaumSort\": 9, \"RaumLang\": \"Kreis 9\", \"Medianalter\": 38.5}, {\"StichtagDatJahr\": \"2018-01-01T00:00:00\", \"KategorieLang\": \"Stadtkreis\", \"RaumSort\": 9, \"RaumLang\": \"Kreis 9\", \"Medianalter\": 38.3}, {\"StichtagDatJahr\": \"2019-01-01T00:00:00\", \"KategorieLang\": \"Stadtkreis\", \"RaumSort\": 9, \"RaumLang\": \"Kreis 9\", \"Medianalter\": 38.1}, {\"StichtagDatJahr\": \"2020-01-01T00:00:00\", \"KategorieLang\": \"Stadtkreis\", \"RaumSort\": 9, \"RaumLang\": \"Kreis 9\", \"Medianalter\": 38.3}, {\"StichtagDatJahr\": \"1993-01-01T00:00:00\", \"KategorieLang\": \"Stadtkreis\", \"RaumSort\": 10, \"RaumLang\": \"Kreis 10\", \"Medianalter\": 40.7}, {\"StichtagDatJahr\": \"1994-01-01T00:00:00\", \"KategorieLang\": \"Stadtkreis\", \"RaumSort\": 10, \"RaumLang\": \"Kreis 10\", \"Medianalter\": 40.8}, {\"StichtagDatJahr\": \"1995-01-01T00:00:00\", \"KategorieLang\": \"Stadtkreis\", \"RaumSort\": 10, \"RaumLang\": \"Kreis 10\", \"Medianalter\": 40.9}, {\"StichtagDatJahr\": \"1996-01-01T00:00:00\", \"KategorieLang\": \"Stadtkreis\", \"RaumSort\": 10, \"RaumLang\": \"Kreis 10\", \"Medianalter\": 40.6}, {\"StichtagDatJahr\": \"1997-01-01T00:00:00\", \"KategorieLang\": \"Stadtkreis\", \"RaumSort\": 10, \"RaumLang\": \"Kreis 10\", \"Medianalter\": 40.6}, {\"StichtagDatJahr\": \"1998-01-01T00:00:00\", \"KategorieLang\": \"Stadtkreis\", \"RaumSort\": 10, \"RaumLang\": \"Kreis 10\", \"Medianalter\": 40.4}, {\"StichtagDatJahr\": \"1999-01-01T00:00:00\", \"KategorieLang\": \"Stadtkreis\", \"RaumSort\": 10, \"RaumLang\": \"Kreis 10\", \"Medianalter\": 40.0}, {\"StichtagDatJahr\": \"2000-01-01T00:00:00\", \"KategorieLang\": \"Stadtkreis\", \"RaumSort\": 10, \"RaumLang\": \"Kreis 10\", \"Medianalter\": 39.8}, {\"StichtagDatJahr\": \"2001-01-01T00:00:00\", \"KategorieLang\": \"Stadtkreis\", \"RaumSort\": 10, \"RaumLang\": \"Kreis 10\", \"Medianalter\": 39.7}, {\"StichtagDatJahr\": \"2002-01-01T00:00:00\", \"KategorieLang\": \"Stadtkreis\", \"RaumSort\": 10, \"RaumLang\": \"Kreis 10\", \"Medianalter\": 39.8}, {\"StichtagDatJahr\": \"2003-01-01T00:00:00\", \"KategorieLang\": \"Stadtkreis\", \"RaumSort\": 10, \"RaumLang\": \"Kreis 10\", \"Medianalter\": 39.8}, {\"StichtagDatJahr\": \"2004-01-01T00:00:00\", \"KategorieLang\": \"Stadtkreis\", \"RaumSort\": 10, \"RaumLang\": \"Kreis 10\", \"Medianalter\": 39.9}, {\"StichtagDatJahr\": \"2005-01-01T00:00:00\", \"KategorieLang\": \"Stadtkreis\", \"RaumSort\": 10, \"RaumLang\": \"Kreis 10\", \"Medianalter\": 39.9}, {\"StichtagDatJahr\": \"2006-01-01T00:00:00\", \"KategorieLang\": \"Stadtkreis\", \"RaumSort\": 10, \"RaumLang\": \"Kreis 10\", \"Medianalter\": 40.0}, {\"StichtagDatJahr\": \"2007-01-01T00:00:00\", \"KategorieLang\": \"Stadtkreis\", \"RaumSort\": 10, \"RaumLang\": \"Kreis 10\", \"Medianalter\": 40.1}, {\"StichtagDatJahr\": \"2008-01-01T00:00:00\", \"KategorieLang\": \"Stadtkreis\", \"RaumSort\": 10, \"RaumLang\": \"Kreis 10\", \"Medianalter\": 40.0}, {\"StichtagDatJahr\": \"2009-01-01T00:00:00\", \"KategorieLang\": \"Stadtkreis\", \"RaumSort\": 10, \"RaumLang\": \"Kreis 10\", \"Medianalter\": 40.0}, {\"StichtagDatJahr\": \"2010-01-01T00:00:00\", \"KategorieLang\": \"Stadtkreis\", \"RaumSort\": 10, \"RaumLang\": \"Kreis 10\", \"Medianalter\": 40.0}, {\"StichtagDatJahr\": \"2011-01-01T00:00:00\", \"KategorieLang\": \"Stadtkreis\", \"RaumSort\": 10, \"RaumLang\": \"Kreis 10\", \"Medianalter\": 39.9}, {\"StichtagDatJahr\": \"2012-01-01T00:00:00\", \"KategorieLang\": \"Stadtkreis\", \"RaumSort\": 10, \"RaumLang\": \"Kreis 10\", \"Medianalter\": 39.8}, {\"StichtagDatJahr\": \"2013-01-01T00:00:00\", \"KategorieLang\": \"Stadtkreis\", \"RaumSort\": 10, \"RaumLang\": \"Kreis 10\", \"Medianalter\": 39.9}, {\"StichtagDatJahr\": \"2014-01-01T00:00:00\", \"KategorieLang\": \"Stadtkreis\", \"RaumSort\": 10, \"RaumLang\": \"Kreis 10\", \"Medianalter\": 39.8}, {\"StichtagDatJahr\": \"2015-01-01T00:00:00\", \"KategorieLang\": \"Stadtkreis\", \"RaumSort\": 10, \"RaumLang\": \"Kreis 10\", \"Medianalter\": 39.4}, {\"StichtagDatJahr\": \"2016-01-01T00:00:00\", \"KategorieLang\": \"Stadtkreis\", \"RaumSort\": 10, \"RaumLang\": \"Kreis 10\", \"Medianalter\": 38.9}, {\"StichtagDatJahr\": \"2017-01-01T00:00:00\", \"KategorieLang\": \"Stadtkreis\", \"RaumSort\": 10, \"RaumLang\": \"Kreis 10\", \"Medianalter\": 38.7}, {\"StichtagDatJahr\": \"2018-01-01T00:00:00\", \"KategorieLang\": \"Stadtkreis\", \"RaumSort\": 10, \"RaumLang\": \"Kreis 10\", \"Medianalter\": 38.9}, {\"StichtagDatJahr\": \"2019-01-01T00:00:00\", \"KategorieLang\": \"Stadtkreis\", \"RaumSort\": 10, \"RaumLang\": \"Kreis 10\", \"Medianalter\": 39.1}, {\"StichtagDatJahr\": \"2020-01-01T00:00:00\", \"KategorieLang\": \"Stadtkreis\", \"RaumSort\": 10, \"RaumLang\": \"Kreis 10\", \"Medianalter\": 39.1}, {\"StichtagDatJahr\": \"1993-01-01T00:00:00\", \"KategorieLang\": \"Stadtkreis\", \"RaumSort\": 11, \"RaumLang\": \"Kreis 11\", \"Medianalter\": 39.5}, {\"StichtagDatJahr\": \"1994-01-01T00:00:00\", \"KategorieLang\": \"Stadtkreis\", \"RaumSort\": 11, \"RaumLang\": \"Kreis 11\", \"Medianalter\": 39.4}, {\"StichtagDatJahr\": \"1995-01-01T00:00:00\", \"KategorieLang\": \"Stadtkreis\", \"RaumSort\": 11, \"RaumLang\": \"Kreis 11\", \"Medianalter\": 39.0}, {\"StichtagDatJahr\": \"1996-01-01T00:00:00\", \"KategorieLang\": \"Stadtkreis\", \"RaumSort\": 11, \"RaumLang\": \"Kreis 11\", \"Medianalter\": 39.0}, {\"StichtagDatJahr\": \"1997-01-01T00:00:00\", \"KategorieLang\": \"Stadtkreis\", \"RaumSort\": 11, \"RaumLang\": \"Kreis 11\", \"Medianalter\": 38.7}, {\"StichtagDatJahr\": \"1998-01-01T00:00:00\", \"KategorieLang\": \"Stadtkreis\", \"RaumSort\": 11, \"RaumLang\": \"Kreis 11\", \"Medianalter\": 38.2}, {\"StichtagDatJahr\": \"1999-01-01T00:00:00\", \"KategorieLang\": \"Stadtkreis\", \"RaumSort\": 11, \"RaumLang\": \"Kreis 11\", \"Medianalter\": 37.9}, {\"StichtagDatJahr\": \"2000-01-01T00:00:00\", \"KategorieLang\": \"Stadtkreis\", \"RaumSort\": 11, \"RaumLang\": \"Kreis 11\", \"Medianalter\": 37.8}, {\"StichtagDatJahr\": \"2001-01-01T00:00:00\", \"KategorieLang\": \"Stadtkreis\", \"RaumSort\": 11, \"RaumLang\": \"Kreis 11\", \"Medianalter\": 37.4}, {\"StichtagDatJahr\": \"2002-01-01T00:00:00\", \"KategorieLang\": \"Stadtkreis\", \"RaumSort\": 11, \"RaumLang\": \"Kreis 11\", \"Medianalter\": 37.2}, {\"StichtagDatJahr\": \"2003-01-01T00:00:00\", \"KategorieLang\": \"Stadtkreis\", \"RaumSort\": 11, \"RaumLang\": \"Kreis 11\", \"Medianalter\": 37.0}, {\"StichtagDatJahr\": \"2004-01-01T00:00:00\", \"KategorieLang\": \"Stadtkreis\", \"RaumSort\": 11, \"RaumLang\": \"Kreis 11\", \"Medianalter\": 37.1}, {\"StichtagDatJahr\": \"2005-01-01T00:00:00\", \"KategorieLang\": \"Stadtkreis\", \"RaumSort\": 11, \"RaumLang\": \"Kreis 11\", \"Medianalter\": 37.1}, {\"StichtagDatJahr\": \"2006-01-01T00:00:00\", \"KategorieLang\": \"Stadtkreis\", \"RaumSort\": 11, \"RaumLang\": \"Kreis 11\", \"Medianalter\": 36.8}, {\"StichtagDatJahr\": \"2007-01-01T00:00:00\", \"KategorieLang\": \"Stadtkreis\", \"RaumSort\": 11, \"RaumLang\": \"Kreis 11\", \"Medianalter\": 36.0}, {\"StichtagDatJahr\": \"2008-01-01T00:00:00\", \"KategorieLang\": \"Stadtkreis\", \"RaumSort\": 11, \"RaumLang\": \"Kreis 11\", \"Medianalter\": 35.8}, {\"StichtagDatJahr\": \"2009-01-01T00:00:00\", \"KategorieLang\": \"Stadtkreis\", \"RaumSort\": 11, \"RaumLang\": \"Kreis 11\", \"Medianalter\": 36.0}, {\"StichtagDatJahr\": \"2010-01-01T00:00:00\", \"KategorieLang\": \"Stadtkreis\", \"RaumSort\": 11, \"RaumLang\": \"Kreis 11\", \"Medianalter\": 35.9}, {\"StichtagDatJahr\": \"2011-01-01T00:00:00\", \"KategorieLang\": \"Stadtkreis\", \"RaumSort\": 11, \"RaumLang\": \"Kreis 11\", \"Medianalter\": 35.7}, {\"StichtagDatJahr\": \"2012-01-01T00:00:00\", \"KategorieLang\": \"Stadtkreis\", \"RaumSort\": 11, \"RaumLang\": \"Kreis 11\", \"Medianalter\": 35.6}, {\"StichtagDatJahr\": \"2013-01-01T00:00:00\", \"KategorieLang\": \"Stadtkreis\", \"RaumSort\": 11, \"RaumLang\": \"Kreis 11\", \"Medianalter\": 35.6}, {\"StichtagDatJahr\": \"2014-01-01T00:00:00\", \"KategorieLang\": \"Stadtkreis\", \"RaumSort\": 11, \"RaumLang\": \"Kreis 11\", \"Medianalter\": 35.5}, {\"StichtagDatJahr\": \"2015-01-01T00:00:00\", \"KategorieLang\": \"Stadtkreis\", \"RaumSort\": 11, \"RaumLang\": \"Kreis 11\", \"Medianalter\": 35.6}, {\"StichtagDatJahr\": \"2016-01-01T00:00:00\", \"KategorieLang\": \"Stadtkreis\", \"RaumSort\": 11, \"RaumLang\": \"Kreis 11\", \"Medianalter\": 35.8}, {\"StichtagDatJahr\": \"2017-01-01T00:00:00\", \"KategorieLang\": \"Stadtkreis\", \"RaumSort\": 11, \"RaumLang\": \"Kreis 11\", \"Medianalter\": 35.7}, {\"StichtagDatJahr\": \"2018-01-01T00:00:00\", \"KategorieLang\": \"Stadtkreis\", \"RaumSort\": 11, \"RaumLang\": \"Kreis 11\", \"Medianalter\": 35.8}, {\"StichtagDatJahr\": \"2019-01-01T00:00:00\", \"KategorieLang\": \"Stadtkreis\", \"RaumSort\": 11, \"RaumLang\": \"Kreis 11\", \"Medianalter\": 35.9}, {\"StichtagDatJahr\": \"2020-01-01T00:00:00\", \"KategorieLang\": \"Stadtkreis\", \"RaumSort\": 11, \"RaumLang\": \"Kreis 11\", \"Medianalter\": 36.0}, {\"StichtagDatJahr\": \"1993-01-01T00:00:00\", \"KategorieLang\": \"Stadtkreis\", \"RaumSort\": 12, \"RaumLang\": \"Kreis 12\", \"Medianalter\": 40.4}, {\"StichtagDatJahr\": \"1994-01-01T00:00:00\", \"KategorieLang\": \"Stadtkreis\", \"RaumSort\": 12, \"RaumLang\": \"Kreis 12\", \"Medianalter\": 40.2}, {\"StichtagDatJahr\": \"1995-01-01T00:00:00\", \"KategorieLang\": \"Stadtkreis\", \"RaumSort\": 12, \"RaumLang\": \"Kreis 12\", \"Medianalter\": 39.9}, {\"StichtagDatJahr\": \"1996-01-01T00:00:00\", \"KategorieLang\": \"Stadtkreis\", \"RaumSort\": 12, \"RaumLang\": \"Kreis 12\", \"Medianalter\": 40.0}, {\"StichtagDatJahr\": \"1997-01-01T00:00:00\", \"KategorieLang\": \"Stadtkreis\", \"RaumSort\": 12, \"RaumLang\": \"Kreis 12\", \"Medianalter\": 39.6}, {\"StichtagDatJahr\": \"1998-01-01T00:00:00\", \"KategorieLang\": \"Stadtkreis\", \"RaumSort\": 12, \"RaumLang\": \"Kreis 12\", \"Medianalter\": 39.3}, {\"StichtagDatJahr\": \"1999-01-01T00:00:00\", \"KategorieLang\": \"Stadtkreis\", \"RaumSort\": 12, \"RaumLang\": \"Kreis 12\", \"Medianalter\": 39.0}, {\"StichtagDatJahr\": \"2000-01-01T00:00:00\", \"KategorieLang\": \"Stadtkreis\", \"RaumSort\": 12, \"RaumLang\": \"Kreis 12\", \"Medianalter\": 38.8}, {\"StichtagDatJahr\": \"2001-01-01T00:00:00\", \"KategorieLang\": \"Stadtkreis\", \"RaumSort\": 12, \"RaumLang\": \"Kreis 12\", \"Medianalter\": 38.7}, {\"StichtagDatJahr\": \"2002-01-01T00:00:00\", \"KategorieLang\": \"Stadtkreis\", \"RaumSort\": 12, \"RaumLang\": \"Kreis 12\", \"Medianalter\": 38.5}, {\"StichtagDatJahr\": \"2003-01-01T00:00:00\", \"KategorieLang\": \"Stadtkreis\", \"RaumSort\": 12, \"RaumLang\": \"Kreis 12\", \"Medianalter\": 38.6}, {\"StichtagDatJahr\": \"2004-01-01T00:00:00\", \"KategorieLang\": \"Stadtkreis\", \"RaumSort\": 12, \"RaumLang\": \"Kreis 12\", \"Medianalter\": 38.2}, {\"StichtagDatJahr\": \"2005-01-01T00:00:00\", \"KategorieLang\": \"Stadtkreis\", \"RaumSort\": 12, \"RaumLang\": \"Kreis 12\", \"Medianalter\": 38.0}, {\"StichtagDatJahr\": \"2006-01-01T00:00:00\", \"KategorieLang\": \"Stadtkreis\", \"RaumSort\": 12, \"RaumLang\": \"Kreis 12\", \"Medianalter\": 37.7}, {\"StichtagDatJahr\": \"2007-01-01T00:00:00\", \"KategorieLang\": \"Stadtkreis\", \"RaumSort\": 12, \"RaumLang\": \"Kreis 12\", \"Medianalter\": 36.9}, {\"StichtagDatJahr\": \"2008-01-01T00:00:00\", \"KategorieLang\": \"Stadtkreis\", \"RaumSort\": 12, \"RaumLang\": \"Kreis 12\", \"Medianalter\": 36.7}, {\"StichtagDatJahr\": \"2009-01-01T00:00:00\", \"KategorieLang\": \"Stadtkreis\", \"RaumSort\": 12, \"RaumLang\": \"Kreis 12\", \"Medianalter\": 36.4}, {\"StichtagDatJahr\": \"2010-01-01T00:00:00\", \"KategorieLang\": \"Stadtkreis\", \"RaumSort\": 12, \"RaumLang\": \"Kreis 12\", \"Medianalter\": 36.7}, {\"StichtagDatJahr\": \"2011-01-01T00:00:00\", \"KategorieLang\": \"Stadtkreis\", \"RaumSort\": 12, \"RaumLang\": \"Kreis 12\", \"Medianalter\": 36.5}, {\"StichtagDatJahr\": \"2012-01-01T00:00:00\", \"KategorieLang\": \"Stadtkreis\", \"RaumSort\": 12, \"RaumLang\": \"Kreis 12\", \"Medianalter\": 36.6}, {\"StichtagDatJahr\": \"2013-01-01T00:00:00\", \"KategorieLang\": \"Stadtkreis\", \"RaumSort\": 12, \"RaumLang\": \"Kreis 12\", \"Medianalter\": 36.6}, {\"StichtagDatJahr\": \"2014-01-01T00:00:00\", \"KategorieLang\": \"Stadtkreis\", \"RaumSort\": 12, \"RaumLang\": \"Kreis 12\", \"Medianalter\": 36.0}, {\"StichtagDatJahr\": \"2015-01-01T00:00:00\", \"KategorieLang\": \"Stadtkreis\", \"RaumSort\": 12, \"RaumLang\": \"Kreis 12\", \"Medianalter\": 35.7}, {\"StichtagDatJahr\": \"2016-01-01T00:00:00\", \"KategorieLang\": \"Stadtkreis\", \"RaumSort\": 12, \"RaumLang\": \"Kreis 12\", \"Medianalter\": 35.8}, {\"StichtagDatJahr\": \"2017-01-01T00:00:00\", \"KategorieLang\": \"Stadtkreis\", \"RaumSort\": 12, \"RaumLang\": \"Kreis 12\", \"Medianalter\": 36.0}, {\"StichtagDatJahr\": \"2018-01-01T00:00:00\", \"KategorieLang\": \"Stadtkreis\", \"RaumSort\": 12, \"RaumLang\": \"Kreis 12\", \"Medianalter\": 35.7}, {\"StichtagDatJahr\": \"2019-01-01T00:00:00\", \"KategorieLang\": \"Stadtkreis\", \"RaumSort\": 12, \"RaumLang\": \"Kreis 12\", \"Medianalter\": 35.5}, {\"StichtagDatJahr\": \"2020-01-01T00:00:00\", \"KategorieLang\": \"Stadtkreis\", \"RaumSort\": 12, \"RaumLang\": \"Kreis 12\", \"Medianalter\": 36.0}]}}, {\"mode\": \"vega-lite\"});\n",
       "</script>"
      ],
      "text/plain": [
       "alt.LayerChart(...)"
      ]
     },
     "execution_count": 25,
     "metadata": {},
     "output_type": "execute_result"
    }
   ],
   "source": [
    "# df_statzonen = df_statzonen[(df_statzonen.knr>0) & (df_statzonen.qname!=\"Hirslanden\")]\n",
    "#aktuellesJahr[[aktuellesJahr.KreisSort =7]])\n",
    "highlight = alt.selection(type='single', on='mouseover',\n",
    "                          fields=['RaumLang'], nearest=True)\n",
    "#x='date:StichtagDatJahr',\n",
    "base = alt.Chart(mySelection).encode(\n",
    "    x='StichtagDatJahr:N',\n",
    "    y='Medianalter',\n",
    "    color='RaumLang'\n",
    ")\n",
    "\n",
    "points = base.mark_circle().encode(\n",
    "    opacity=alt.value(0)\n",
    ").add_selection(\n",
    "    highlight\n",
    ").properties(\n",
    "    width=700 , height=300\n",
    ")\n",
    "lines = base.mark_line().encode(\n",
    "    size=alt.condition(~highlight, alt.value(1.5), alt.value(4))\n",
    ").interactive()\n",
    "\n",
    "points + lines"
   ]
  },
  {
   "cell_type": "code",
   "execution_count": 27,
   "metadata": {},
   "outputs": [
    {
     "data": {
      "text/html": [
       "\n",
       "<div id=\"altair-viz-a30e485ca4134030a4b3d7b5a902f5db\"></div>\n",
       "<script type=\"text/javascript\">\n",
       "  (function(spec, embedOpt){\n",
       "    let outputDiv = document.currentScript.previousElementSibling;\n",
       "    if (outputDiv.id !== \"altair-viz-a30e485ca4134030a4b3d7b5a902f5db\") {\n",
       "      outputDiv = document.getElementById(\"altair-viz-a30e485ca4134030a4b3d7b5a902f5db\");\n",
       "    }\n",
       "    const paths = {\n",
       "      \"vega\": \"https://cdn.jsdelivr.net/npm//vega@5?noext\",\n",
       "      \"vega-lib\": \"https://cdn.jsdelivr.net/npm//vega-lib?noext\",\n",
       "      \"vega-lite\": \"https://cdn.jsdelivr.net/npm//vega-lite@4.8.1?noext\",\n",
       "      \"vega-embed\": \"https://cdn.jsdelivr.net/npm//vega-embed@6?noext\",\n",
       "    };\n",
       "\n",
       "    function loadScript(lib) {\n",
       "      return new Promise(function(resolve, reject) {\n",
       "        var s = document.createElement('script');\n",
       "        s.src = paths[lib];\n",
       "        s.async = true;\n",
       "        s.onload = () => resolve(paths[lib]);\n",
       "        s.onerror = () => reject(`Error loading script: ${paths[lib]}`);\n",
       "        document.getElementsByTagName(\"head\")[0].appendChild(s);\n",
       "      });\n",
       "    }\n",
       "\n",
       "    function showError(err) {\n",
       "      outputDiv.innerHTML = `<div class=\"error\" style=\"color:red;\">${err}</div>`;\n",
       "      throw err;\n",
       "    }\n",
       "\n",
       "    function displayChart(vegaEmbed) {\n",
       "      vegaEmbed(outputDiv, spec, embedOpt)\n",
       "        .catch(err => showError(`Javascript Error: ${err.message}<br>This usually means there's a typo in your chart specification. See the javascript console for the full traceback.`));\n",
       "    }\n",
       "\n",
       "    if(typeof define === \"function\" && define.amd) {\n",
       "      requirejs.config({paths});\n",
       "      require([\"vega-embed\"], displayChart, err => showError(`Error loading script: ${err.message}`));\n",
       "    } else if (typeof vegaEmbed === \"function\") {\n",
       "      displayChart(vegaEmbed);\n",
       "    } else {\n",
       "      loadScript(\"vega\")\n",
       "        .then(() => loadScript(\"vega-lite\"))\n",
       "        .then(() => loadScript(\"vega-embed\"))\n",
       "        .catch(showError)\n",
       "        .then(() => displayChart(vegaEmbed));\n",
       "    }\n",
       "  })({\"config\": {\"view\": {\"continuousWidth\": 400, \"continuousHeight\": 300}}, \"data\": {\"name\": \"data-9640cad05433a07a8d1f2f79d1401087\"}, \"mark\": {\"type\": \"circle\", \"size\": 60}, \"encoding\": {\"color\": {\"type\": \"quantitative\", \"field\": \"Medianalter\", \"scale\": {\"scheme\": \"greens\"}}, \"tooltip\": [{\"type\": \"nominal\", \"field\": \"RaumLang\"}, {\"type\": \"temporal\", \"field\": \"StichtagDatJahr\"}, {\"type\": \"quantitative\", \"field\": \"Medianalter\"}], \"x\": {\"type\": \"nominal\", \"field\": \"RaumLang\"}, \"y\": {\"type\": \"temporal\", \"field\": \"StichtagDatJahr\"}}, \"selection\": {\"selector010\": {\"type\": \"interval\", \"bind\": \"scales\", \"encodings\": [\"x\", \"y\"]}}, \"$schema\": \"https://vega.github.io/schema/vega-lite/v4.8.1.json\", \"datasets\": {\"data-9640cad05433a07a8d1f2f79d1401087\": [{\"StichtagDatJahr\": \"1993-01-01T00:00:00\", \"KategorieLang\": \"Stadtkreis\", \"RaumSort\": 1, \"RaumLang\": \"Kreis 1\", \"Medianalter\": 38.8}, {\"StichtagDatJahr\": \"1994-01-01T00:00:00\", \"KategorieLang\": \"Stadtkreis\", \"RaumSort\": 1, \"RaumLang\": \"Kreis 1\", \"Medianalter\": 38.7}, {\"StichtagDatJahr\": \"1995-01-01T00:00:00\", \"KategorieLang\": \"Stadtkreis\", \"RaumSort\": 1, \"RaumLang\": \"Kreis 1\", \"Medianalter\": 38.6}, {\"StichtagDatJahr\": \"1996-01-01T00:00:00\", \"KategorieLang\": \"Stadtkreis\", \"RaumSort\": 1, \"RaumLang\": \"Kreis 1\", \"Medianalter\": 38.4}, {\"StichtagDatJahr\": \"1997-01-01T00:00:00\", \"KategorieLang\": \"Stadtkreis\", \"RaumSort\": 1, \"RaumLang\": \"Kreis 1\", \"Medianalter\": 38.7}, {\"StichtagDatJahr\": \"1998-01-01T00:00:00\", \"KategorieLang\": \"Stadtkreis\", \"RaumSort\": 1, \"RaumLang\": \"Kreis 1\", \"Medianalter\": 39.3}, {\"StichtagDatJahr\": \"1999-01-01T00:00:00\", \"KategorieLang\": \"Stadtkreis\", \"RaumSort\": 1, \"RaumLang\": \"Kreis 1\", \"Medianalter\": 39.5}, {\"StichtagDatJahr\": \"2000-01-01T00:00:00\", \"KategorieLang\": \"Stadtkreis\", \"RaumSort\": 1, \"RaumLang\": \"Kreis 1\", \"Medianalter\": 39.5}, {\"StichtagDatJahr\": \"2001-01-01T00:00:00\", \"KategorieLang\": \"Stadtkreis\", \"RaumSort\": 1, \"RaumLang\": \"Kreis 1\", \"Medianalter\": 39.7}, {\"StichtagDatJahr\": \"2002-01-01T00:00:00\", \"KategorieLang\": \"Stadtkreis\", \"RaumSort\": 1, \"RaumLang\": \"Kreis 1\", \"Medianalter\": 40.0}, {\"StichtagDatJahr\": \"2003-01-01T00:00:00\", \"KategorieLang\": \"Stadtkreis\", \"RaumSort\": 1, \"RaumLang\": \"Kreis 1\", \"Medianalter\": 40.2}, {\"StichtagDatJahr\": \"2004-01-01T00:00:00\", \"KategorieLang\": \"Stadtkreis\", \"RaumSort\": 1, \"RaumLang\": \"Kreis 1\", \"Medianalter\": 40.2}, {\"StichtagDatJahr\": \"2005-01-01T00:00:00\", \"KategorieLang\": \"Stadtkreis\", \"RaumSort\": 1, \"RaumLang\": \"Kreis 1\", \"Medianalter\": 40.9}, {\"StichtagDatJahr\": \"2006-01-01T00:00:00\", \"KategorieLang\": \"Stadtkreis\", \"RaumSort\": 1, \"RaumLang\": \"Kreis 1\", \"Medianalter\": 40.8}, {\"StichtagDatJahr\": \"2007-01-01T00:00:00\", \"KategorieLang\": \"Stadtkreis\", \"RaumSort\": 1, \"RaumLang\": \"Kreis 1\", \"Medianalter\": 41.2}, {\"StichtagDatJahr\": \"2008-01-01T00:00:00\", \"KategorieLang\": \"Stadtkreis\", \"RaumSort\": 1, \"RaumLang\": \"Kreis 1\", \"Medianalter\": 41.7}, {\"StichtagDatJahr\": \"2009-01-01T00:00:00\", \"KategorieLang\": \"Stadtkreis\", \"RaumSort\": 1, \"RaumLang\": \"Kreis 1\", \"Medianalter\": 41.7}, {\"StichtagDatJahr\": \"2010-01-01T00:00:00\", \"KategorieLang\": \"Stadtkreis\", \"RaumSort\": 1, \"RaumLang\": \"Kreis 1\", \"Medianalter\": 41.5}, {\"StichtagDatJahr\": \"2011-01-01T00:00:00\", \"KategorieLang\": \"Stadtkreis\", \"RaumSort\": 1, \"RaumLang\": \"Kreis 1\", \"Medianalter\": 41.8}, {\"StichtagDatJahr\": \"2012-01-01T00:00:00\", \"KategorieLang\": \"Stadtkreis\", \"RaumSort\": 1, \"RaumLang\": \"Kreis 1\", \"Medianalter\": 41.7}, {\"StichtagDatJahr\": \"2013-01-01T00:00:00\", \"KategorieLang\": \"Stadtkreis\", \"RaumSort\": 1, \"RaumLang\": \"Kreis 1\", \"Medianalter\": 41.7}, {\"StichtagDatJahr\": \"2014-01-01T00:00:00\", \"KategorieLang\": \"Stadtkreis\", \"RaumSort\": 1, \"RaumLang\": \"Kreis 1\", \"Medianalter\": 41.4}, {\"StichtagDatJahr\": \"2015-01-01T00:00:00\", \"KategorieLang\": \"Stadtkreis\", \"RaumSort\": 1, \"RaumLang\": \"Kreis 1\", \"Medianalter\": 41.3}, {\"StichtagDatJahr\": \"2016-01-01T00:00:00\", \"KategorieLang\": \"Stadtkreis\", \"RaumSort\": 1, \"RaumLang\": \"Kreis 1\", \"Medianalter\": 41.7}, {\"StichtagDatJahr\": \"2017-01-01T00:00:00\", \"KategorieLang\": \"Stadtkreis\", \"RaumSort\": 1, \"RaumLang\": \"Kreis 1\", \"Medianalter\": 41.3}, {\"StichtagDatJahr\": \"2018-01-01T00:00:00\", \"KategorieLang\": \"Stadtkreis\", \"RaumSort\": 1, \"RaumLang\": \"Kreis 1\", \"Medianalter\": 40.9}, {\"StichtagDatJahr\": \"2019-01-01T00:00:00\", \"KategorieLang\": \"Stadtkreis\", \"RaumSort\": 1, \"RaumLang\": \"Kreis 1\", \"Medianalter\": 40.7}, {\"StichtagDatJahr\": \"2020-01-01T00:00:00\", \"KategorieLang\": \"Stadtkreis\", \"RaumSort\": 1, \"RaumLang\": \"Kreis 1\", \"Medianalter\": 40.8}, {\"StichtagDatJahr\": \"1993-01-01T00:00:00\", \"KategorieLang\": \"Stadtkreis\", \"RaumSort\": 2, \"RaumLang\": \"Kreis 2\", \"Medianalter\": 43.1}, {\"StichtagDatJahr\": \"1994-01-01T00:00:00\", \"KategorieLang\": \"Stadtkreis\", \"RaumSort\": 2, \"RaumLang\": \"Kreis 2\", \"Medianalter\": 42.9}, {\"StichtagDatJahr\": \"1995-01-01T00:00:00\", \"KategorieLang\": \"Stadtkreis\", \"RaumSort\": 2, \"RaumLang\": \"Kreis 2\", \"Medianalter\": 42.5}, {\"StichtagDatJahr\": \"1996-01-01T00:00:00\", \"KategorieLang\": \"Stadtkreis\", \"RaumSort\": 2, \"RaumLang\": \"Kreis 2\", \"Medianalter\": 42.4}, {\"StichtagDatJahr\": \"1997-01-01T00:00:00\", \"KategorieLang\": \"Stadtkreis\", \"RaumSort\": 2, \"RaumLang\": \"Kreis 2\", \"Medianalter\": 42.0}, {\"StichtagDatJahr\": \"1998-01-01T00:00:00\", \"KategorieLang\": \"Stadtkreis\", \"RaumSort\": 2, \"RaumLang\": \"Kreis 2\", \"Medianalter\": 41.7}, {\"StichtagDatJahr\": \"1999-01-01T00:00:00\", \"KategorieLang\": \"Stadtkreis\", \"RaumSort\": 2, \"RaumLang\": \"Kreis 2\", \"Medianalter\": 41.3}, {\"StichtagDatJahr\": \"2000-01-01T00:00:00\", \"KategorieLang\": \"Stadtkreis\", \"RaumSort\": 2, \"RaumLang\": \"Kreis 2\", \"Medianalter\": 41.0}, {\"StichtagDatJahr\": \"2001-01-01T00:00:00\", \"KategorieLang\": \"Stadtkreis\", \"RaumSort\": 2, \"RaumLang\": \"Kreis 2\", \"Medianalter\": 41.0}, {\"StichtagDatJahr\": \"2002-01-01T00:00:00\", \"KategorieLang\": \"Stadtkreis\", \"RaumSort\": 2, \"RaumLang\": \"Kreis 2\", \"Medianalter\": 40.6}, {\"StichtagDatJahr\": \"2003-01-01T00:00:00\", \"KategorieLang\": \"Stadtkreis\", \"RaumSort\": 2, \"RaumLang\": \"Kreis 2\", \"Medianalter\": 40.8}, {\"StichtagDatJahr\": \"2004-01-01T00:00:00\", \"KategorieLang\": \"Stadtkreis\", \"RaumSort\": 2, \"RaumLang\": \"Kreis 2\", \"Medianalter\": 40.8}, {\"StichtagDatJahr\": \"2005-01-01T00:00:00\", \"KategorieLang\": \"Stadtkreis\", \"RaumSort\": 2, \"RaumLang\": \"Kreis 2\", \"Medianalter\": 40.8}, {\"StichtagDatJahr\": \"2006-01-01T00:00:00\", \"KategorieLang\": \"Stadtkreis\", \"RaumSort\": 2, \"RaumLang\": \"Kreis 2\", \"Medianalter\": 40.9}, {\"StichtagDatJahr\": \"2007-01-01T00:00:00\", \"KategorieLang\": \"Stadtkreis\", \"RaumSort\": 2, \"RaumLang\": \"Kreis 2\", \"Medianalter\": 40.6}, {\"StichtagDatJahr\": \"2008-01-01T00:00:00\", \"KategorieLang\": \"Stadtkreis\", \"RaumSort\": 2, \"RaumLang\": \"Kreis 2\", \"Medianalter\": 40.8}, {\"StichtagDatJahr\": \"2009-01-01T00:00:00\", \"KategorieLang\": \"Stadtkreis\", \"RaumSort\": 2, \"RaumLang\": \"Kreis 2\", \"Medianalter\": 40.5}, {\"StichtagDatJahr\": \"2010-01-01T00:00:00\", \"KategorieLang\": \"Stadtkreis\", \"RaumSort\": 2, \"RaumLang\": \"Kreis 2\", \"Medianalter\": 40.2}, {\"StichtagDatJahr\": \"2011-01-01T00:00:00\", \"KategorieLang\": \"Stadtkreis\", \"RaumSort\": 2, \"RaumLang\": \"Kreis 2\", \"Medianalter\": 40.1}, {\"StichtagDatJahr\": \"2012-01-01T00:00:00\", \"KategorieLang\": \"Stadtkreis\", \"RaumSort\": 2, \"RaumLang\": \"Kreis 2\", \"Medianalter\": 40.1}, {\"StichtagDatJahr\": \"2013-01-01T00:00:00\", \"KategorieLang\": \"Stadtkreis\", \"RaumSort\": 2, \"RaumLang\": \"Kreis 2\", \"Medianalter\": 39.8}, {\"StichtagDatJahr\": \"2014-01-01T00:00:00\", \"KategorieLang\": \"Stadtkreis\", \"RaumSort\": 2, \"RaumLang\": \"Kreis 2\", \"Medianalter\": 39.5}, {\"StichtagDatJahr\": \"2015-01-01T00:00:00\", \"KategorieLang\": \"Stadtkreis\", \"RaumSort\": 2, \"RaumLang\": \"Kreis 2\", \"Medianalter\": 39.0}, {\"StichtagDatJahr\": \"2016-01-01T00:00:00\", \"KategorieLang\": \"Stadtkreis\", \"RaumSort\": 2, \"RaumLang\": \"Kreis 2\", \"Medianalter\": 38.8}, {\"StichtagDatJahr\": \"2017-01-01T00:00:00\", \"KategorieLang\": \"Stadtkreis\", \"RaumSort\": 2, \"RaumLang\": \"Kreis 2\", \"Medianalter\": 38.3}, {\"StichtagDatJahr\": \"2018-01-01T00:00:00\", \"KategorieLang\": \"Stadtkreis\", \"RaumSort\": 2, \"RaumLang\": \"Kreis 2\", \"Medianalter\": 38.0}, {\"StichtagDatJahr\": \"2019-01-01T00:00:00\", \"KategorieLang\": \"Stadtkreis\", \"RaumSort\": 2, \"RaumLang\": \"Kreis 2\", \"Medianalter\": 38.1}, {\"StichtagDatJahr\": \"2020-01-01T00:00:00\", \"KategorieLang\": \"Stadtkreis\", \"RaumSort\": 2, \"RaumLang\": \"Kreis 2\", \"Medianalter\": 38.1}, {\"StichtagDatJahr\": \"1993-01-01T00:00:00\", \"KategorieLang\": \"Stadtkreis\", \"RaumSort\": 3, \"RaumLang\": \"Kreis 3\", \"Medianalter\": 37.7}, {\"StichtagDatJahr\": \"1994-01-01T00:00:00\", \"KategorieLang\": \"Stadtkreis\", \"RaumSort\": 3, \"RaumLang\": \"Kreis 3\", \"Medianalter\": 37.5}, {\"StichtagDatJahr\": \"1995-01-01T00:00:00\", \"KategorieLang\": \"Stadtkreis\", \"RaumSort\": 3, \"RaumLang\": \"Kreis 3\", \"Medianalter\": 37.3}, {\"StichtagDatJahr\": \"1996-01-01T00:00:00\", \"KategorieLang\": \"Stadtkreis\", \"RaumSort\": 3, \"RaumLang\": \"Kreis 3\", \"Medianalter\": 37.2}, {\"StichtagDatJahr\": \"1997-01-01T00:00:00\", \"KategorieLang\": \"Stadtkreis\", \"RaumSort\": 3, \"RaumLang\": \"Kreis 3\", \"Medianalter\": 37.0}, {\"StichtagDatJahr\": \"1998-01-01T00:00:00\", \"KategorieLang\": \"Stadtkreis\", \"RaumSort\": 3, \"RaumLang\": \"Kreis 3\", \"Medianalter\": 36.7}, {\"StichtagDatJahr\": \"1999-01-01T00:00:00\", \"KategorieLang\": \"Stadtkreis\", \"RaumSort\": 3, \"RaumLang\": \"Kreis 3\", \"Medianalter\": 36.6}, {\"StichtagDatJahr\": \"2000-01-01T00:00:00\", \"KategorieLang\": \"Stadtkreis\", \"RaumSort\": 3, \"RaumLang\": \"Kreis 3\", \"Medianalter\": 36.5}, {\"StichtagDatJahr\": \"2001-01-01T00:00:00\", \"KategorieLang\": \"Stadtkreis\", \"RaumSort\": 3, \"RaumLang\": \"Kreis 3\", \"Medianalter\": 36.7}, {\"StichtagDatJahr\": \"2002-01-01T00:00:00\", \"KategorieLang\": \"Stadtkreis\", \"RaumSort\": 3, \"RaumLang\": \"Kreis 3\", \"Medianalter\": 36.7}, {\"StichtagDatJahr\": \"2003-01-01T00:00:00\", \"KategorieLang\": \"Stadtkreis\", \"RaumSort\": 3, \"RaumLang\": \"Kreis 3\", \"Medianalter\": 36.9}, {\"StichtagDatJahr\": \"2004-01-01T00:00:00\", \"KategorieLang\": \"Stadtkreis\", \"RaumSort\": 3, \"RaumLang\": \"Kreis 3\", \"Medianalter\": 37.0}, {\"StichtagDatJahr\": \"2005-01-01T00:00:00\", \"KategorieLang\": \"Stadtkreis\", \"RaumSort\": 3, \"RaumLang\": \"Kreis 3\", \"Medianalter\": 36.7}, {\"StichtagDatJahr\": \"2006-01-01T00:00:00\", \"KategorieLang\": \"Stadtkreis\", \"RaumSort\": 3, \"RaumLang\": \"Kreis 3\", \"Medianalter\": 36.7}, {\"StichtagDatJahr\": \"2007-01-01T00:00:00\", \"KategorieLang\": \"Stadtkreis\", \"RaumSort\": 3, \"RaumLang\": \"Kreis 3\", \"Medianalter\": 36.5}, {\"StichtagDatJahr\": \"2008-01-01T00:00:00\", \"KategorieLang\": \"Stadtkreis\", \"RaumSort\": 3, \"RaumLang\": \"Kreis 3\", \"Medianalter\": 36.4}, {\"StichtagDatJahr\": \"2009-01-01T00:00:00\", \"KategorieLang\": \"Stadtkreis\", \"RaumSort\": 3, \"RaumLang\": \"Kreis 3\", \"Medianalter\": 36.3}, {\"StichtagDatJahr\": \"2010-01-01T00:00:00\", \"KategorieLang\": \"Stadtkreis\", \"RaumSort\": 3, \"RaumLang\": \"Kreis 3\", \"Medianalter\": 36.6}, {\"StichtagDatJahr\": \"2011-01-01T00:00:00\", \"KategorieLang\": \"Stadtkreis\", \"RaumSort\": 3, \"RaumLang\": \"Kreis 3\", \"Medianalter\": 36.6}, {\"StichtagDatJahr\": \"2012-01-01T00:00:00\", \"KategorieLang\": \"Stadtkreis\", \"RaumSort\": 3, \"RaumLang\": \"Kreis 3\", \"Medianalter\": 36.4}, {\"StichtagDatJahr\": \"2013-01-01T00:00:00\", \"KategorieLang\": \"Stadtkreis\", \"RaumSort\": 3, \"RaumLang\": \"Kreis 3\", \"Medianalter\": 36.5}, {\"StichtagDatJahr\": \"2014-01-01T00:00:00\", \"KategorieLang\": \"Stadtkreis\", \"RaumSort\": 3, \"RaumLang\": \"Kreis 3\", \"Medianalter\": 36.6}, {\"StichtagDatJahr\": \"2015-01-01T00:00:00\", \"KategorieLang\": \"Stadtkreis\", \"RaumSort\": 3, \"RaumLang\": \"Kreis 3\", \"Medianalter\": 36.6}, {\"StichtagDatJahr\": \"2016-01-01T00:00:00\", \"KategorieLang\": \"Stadtkreis\", \"RaumSort\": 3, \"RaumLang\": \"Kreis 3\", \"Medianalter\": 36.7}, {\"StichtagDatJahr\": \"2017-01-01T00:00:00\", \"KategorieLang\": \"Stadtkreis\", \"RaumSort\": 3, \"RaumLang\": \"Kreis 3\", \"Medianalter\": 36.7}, {\"StichtagDatJahr\": \"2018-01-01T00:00:00\", \"KategorieLang\": \"Stadtkreis\", \"RaumSort\": 3, \"RaumLang\": \"Kreis 3\", \"Medianalter\": 36.7}, {\"StichtagDatJahr\": \"2019-01-01T00:00:00\", \"KategorieLang\": \"Stadtkreis\", \"RaumSort\": 3, \"RaumLang\": \"Kreis 3\", \"Medianalter\": 36.8}, {\"StichtagDatJahr\": \"2020-01-01T00:00:00\", \"KategorieLang\": \"Stadtkreis\", \"RaumSort\": 3, \"RaumLang\": \"Kreis 3\", \"Medianalter\": 36.9}, {\"StichtagDatJahr\": \"1993-01-01T00:00:00\", \"KategorieLang\": \"Stadtkreis\", \"RaumSort\": 4, \"RaumLang\": \"Kreis 4\", \"Medianalter\": 35.9}, {\"StichtagDatJahr\": \"1994-01-01T00:00:00\", \"KategorieLang\": \"Stadtkreis\", \"RaumSort\": 4, \"RaumLang\": \"Kreis 4\", \"Medianalter\": 35.7}, {\"StichtagDatJahr\": \"1995-01-01T00:00:00\", \"KategorieLang\": \"Stadtkreis\", \"RaumSort\": 4, \"RaumLang\": \"Kreis 4\", \"Medianalter\": 35.8}, {\"StichtagDatJahr\": \"1996-01-01T00:00:00\", \"KategorieLang\": \"Stadtkreis\", \"RaumSort\": 4, \"RaumLang\": \"Kreis 4\", \"Medianalter\": 35.7}, {\"StichtagDatJahr\": \"1997-01-01T00:00:00\", \"KategorieLang\": \"Stadtkreis\", \"RaumSort\": 4, \"RaumLang\": \"Kreis 4\", \"Medianalter\": 35.6}, {\"StichtagDatJahr\": \"1998-01-01T00:00:00\", \"KategorieLang\": \"Stadtkreis\", \"RaumSort\": 4, \"RaumLang\": \"Kreis 4\", \"Medianalter\": 35.4}, {\"StichtagDatJahr\": \"1999-01-01T00:00:00\", \"KategorieLang\": \"Stadtkreis\", \"RaumSort\": 4, \"RaumLang\": \"Kreis 4\", \"Medianalter\": 35.2}, {\"StichtagDatJahr\": \"2000-01-01T00:00:00\", \"KategorieLang\": \"Stadtkreis\", \"RaumSort\": 4, \"RaumLang\": \"Kreis 4\", \"Medianalter\": 35.3}, {\"StichtagDatJahr\": \"2001-01-01T00:00:00\", \"KategorieLang\": \"Stadtkreis\", \"RaumSort\": 4, \"RaumLang\": \"Kreis 4\", \"Medianalter\": 35.3}, {\"StichtagDatJahr\": \"2002-01-01T00:00:00\", \"KategorieLang\": \"Stadtkreis\", \"RaumSort\": 4, \"RaumLang\": \"Kreis 4\", \"Medianalter\": 35.3}, {\"StichtagDatJahr\": \"2003-01-01T00:00:00\", \"KategorieLang\": \"Stadtkreis\", \"RaumSort\": 4, \"RaumLang\": \"Kreis 4\", \"Medianalter\": 35.5}, {\"StichtagDatJahr\": \"2004-01-01T00:00:00\", \"KategorieLang\": \"Stadtkreis\", \"RaumSort\": 4, \"RaumLang\": \"Kreis 4\", \"Medianalter\": 35.5}, {\"StichtagDatJahr\": \"2005-01-01T00:00:00\", \"KategorieLang\": \"Stadtkreis\", \"RaumSort\": 4, \"RaumLang\": \"Kreis 4\", \"Medianalter\": 35.5}, {\"StichtagDatJahr\": \"2006-01-01T00:00:00\", \"KategorieLang\": \"Stadtkreis\", \"RaumSort\": 4, \"RaumLang\": \"Kreis 4\", \"Medianalter\": 35.7}, {\"StichtagDatJahr\": \"2007-01-01T00:00:00\", \"KategorieLang\": \"Stadtkreis\", \"RaumSort\": 4, \"RaumLang\": \"Kreis 4\", \"Medianalter\": 35.5}, {\"StichtagDatJahr\": \"2008-01-01T00:00:00\", \"KategorieLang\": \"Stadtkreis\", \"RaumSort\": 4, \"RaumLang\": \"Kreis 4\", \"Medianalter\": 35.5}, {\"StichtagDatJahr\": \"2009-01-01T00:00:00\", \"KategorieLang\": \"Stadtkreis\", \"RaumSort\": 4, \"RaumLang\": \"Kreis 4\", \"Medianalter\": 35.5}, {\"StichtagDatJahr\": \"2010-01-01T00:00:00\", \"KategorieLang\": \"Stadtkreis\", \"RaumSort\": 4, \"RaumLang\": \"Kreis 4\", \"Medianalter\": 35.7}, {\"StichtagDatJahr\": \"2011-01-01T00:00:00\", \"KategorieLang\": \"Stadtkreis\", \"RaumSort\": 4, \"RaumLang\": \"Kreis 4\", \"Medianalter\": 35.9}, {\"StichtagDatJahr\": \"2012-01-01T00:00:00\", \"KategorieLang\": \"Stadtkreis\", \"RaumSort\": 4, \"RaumLang\": \"Kreis 4\", \"Medianalter\": 35.9}, {\"StichtagDatJahr\": \"2013-01-01T00:00:00\", \"KategorieLang\": \"Stadtkreis\", \"RaumSort\": 4, \"RaumLang\": \"Kreis 4\", \"Medianalter\": 35.9}, {\"StichtagDatJahr\": \"2014-01-01T00:00:00\", \"KategorieLang\": \"Stadtkreis\", \"RaumSort\": 4, \"RaumLang\": \"Kreis 4\", \"Medianalter\": 36.0}, {\"StichtagDatJahr\": \"2015-01-01T00:00:00\", \"KategorieLang\": \"Stadtkreis\", \"RaumSort\": 4, \"RaumLang\": \"Kreis 4\", \"Medianalter\": 36.2}, {\"StichtagDatJahr\": \"2016-01-01T00:00:00\", \"KategorieLang\": \"Stadtkreis\", \"RaumSort\": 4, \"RaumLang\": \"Kreis 4\", \"Medianalter\": 36.3}, {\"StichtagDatJahr\": \"2017-01-01T00:00:00\", \"KategorieLang\": \"Stadtkreis\", \"RaumSort\": 4, \"RaumLang\": \"Kreis 4\", \"Medianalter\": 36.2}, {\"StichtagDatJahr\": \"2018-01-01T00:00:00\", \"KategorieLang\": \"Stadtkreis\", \"RaumSort\": 4, \"RaumLang\": \"Kreis 4\", \"Medianalter\": 36.1}, {\"StichtagDatJahr\": \"2019-01-01T00:00:00\", \"KategorieLang\": \"Stadtkreis\", \"RaumSort\": 4, \"RaumLang\": \"Kreis 4\", \"Medianalter\": 35.7}, {\"StichtagDatJahr\": \"2020-01-01T00:00:00\", \"KategorieLang\": \"Stadtkreis\", \"RaumSort\": 4, \"RaumLang\": \"Kreis 4\", \"Medianalter\": 35.9}, {\"StichtagDatJahr\": \"1993-01-01T00:00:00\", \"KategorieLang\": \"Stadtkreis\", \"RaumSort\": 5, \"RaumLang\": \"Kreis 5\", \"Medianalter\": 33.9}, {\"StichtagDatJahr\": \"1994-01-01T00:00:00\", \"KategorieLang\": \"Stadtkreis\", \"RaumSort\": 5, \"RaumLang\": \"Kreis 5\", \"Medianalter\": 34.2}, {\"StichtagDatJahr\": \"1995-01-01T00:00:00\", \"KategorieLang\": \"Stadtkreis\", \"RaumSort\": 5, \"RaumLang\": \"Kreis 5\", \"Medianalter\": 34.1}, {\"StichtagDatJahr\": \"1996-01-01T00:00:00\", \"KategorieLang\": \"Stadtkreis\", \"RaumSort\": 5, \"RaumLang\": \"Kreis 5\", \"Medianalter\": 34.0}, {\"StichtagDatJahr\": \"1997-01-01T00:00:00\", \"KategorieLang\": \"Stadtkreis\", \"RaumSort\": 5, \"RaumLang\": \"Kreis 5\", \"Medianalter\": 34.2}, {\"StichtagDatJahr\": \"1998-01-01T00:00:00\", \"KategorieLang\": \"Stadtkreis\", \"RaumSort\": 5, \"RaumLang\": \"Kreis 5\", \"Medianalter\": 34.4}, {\"StichtagDatJahr\": \"1999-01-01T00:00:00\", \"KategorieLang\": \"Stadtkreis\", \"RaumSort\": 5, \"RaumLang\": \"Kreis 5\", \"Medianalter\": 34.0}, {\"StichtagDatJahr\": \"2000-01-01T00:00:00\", \"KategorieLang\": \"Stadtkreis\", \"RaumSort\": 5, \"RaumLang\": \"Kreis 5\", \"Medianalter\": 33.9}, {\"StichtagDatJahr\": \"2001-01-01T00:00:00\", \"KategorieLang\": \"Stadtkreis\", \"RaumSort\": 5, \"RaumLang\": \"Kreis 5\", \"Medianalter\": 34.4}, {\"StichtagDatJahr\": \"2002-01-01T00:00:00\", \"KategorieLang\": \"Stadtkreis\", \"RaumSort\": 5, \"RaumLang\": \"Kreis 5\", \"Medianalter\": 34.5}, {\"StichtagDatJahr\": \"2003-01-01T00:00:00\", \"KategorieLang\": \"Stadtkreis\", \"RaumSort\": 5, \"RaumLang\": \"Kreis 5\", \"Medianalter\": 34.7}, {\"StichtagDatJahr\": \"2004-01-01T00:00:00\", \"KategorieLang\": \"Stadtkreis\", \"RaumSort\": 5, \"RaumLang\": \"Kreis 5\", \"Medianalter\": 34.8}, {\"StichtagDatJahr\": \"2005-01-01T00:00:00\", \"KategorieLang\": \"Stadtkreis\", \"RaumSort\": 5, \"RaumLang\": \"Kreis 5\", \"Medianalter\": 35.2}, {\"StichtagDatJahr\": \"2006-01-01T00:00:00\", \"KategorieLang\": \"Stadtkreis\", \"RaumSort\": 5, \"RaumLang\": \"Kreis 5\", \"Medianalter\": 35.3}, {\"StichtagDatJahr\": \"2007-01-01T00:00:00\", \"KategorieLang\": \"Stadtkreis\", \"RaumSort\": 5, \"RaumLang\": \"Kreis 5\", \"Medianalter\": 35.6}, {\"StichtagDatJahr\": \"2008-01-01T00:00:00\", \"KategorieLang\": \"Stadtkreis\", \"RaumSort\": 5, \"RaumLang\": \"Kreis 5\", \"Medianalter\": 36.2}, {\"StichtagDatJahr\": \"2009-01-01T00:00:00\", \"KategorieLang\": \"Stadtkreis\", \"RaumSort\": 5, \"RaumLang\": \"Kreis 5\", \"Medianalter\": 36.3}, {\"StichtagDatJahr\": \"2010-01-01T00:00:00\", \"KategorieLang\": \"Stadtkreis\", \"RaumSort\": 5, \"RaumLang\": \"Kreis 5\", \"Medianalter\": 36.5}, {\"StichtagDatJahr\": \"2011-01-01T00:00:00\", \"KategorieLang\": \"Stadtkreis\", \"RaumSort\": 5, \"RaumLang\": \"Kreis 5\", \"Medianalter\": 36.2}, {\"StichtagDatJahr\": \"2012-01-01T00:00:00\", \"KategorieLang\": \"Stadtkreis\", \"RaumSort\": 5, \"RaumLang\": \"Kreis 5\", \"Medianalter\": 36.2}, {\"StichtagDatJahr\": \"2013-01-01T00:00:00\", \"KategorieLang\": \"Stadtkreis\", \"RaumSort\": 5, \"RaumLang\": \"Kreis 5\", \"Medianalter\": 36.2}, {\"StichtagDatJahr\": \"2014-01-01T00:00:00\", \"KategorieLang\": \"Stadtkreis\", \"RaumSort\": 5, \"RaumLang\": \"Kreis 5\", \"Medianalter\": 36.3}, {\"StichtagDatJahr\": \"2015-01-01T00:00:00\", \"KategorieLang\": \"Stadtkreis\", \"RaumSort\": 5, \"RaumLang\": \"Kreis 5\", \"Medianalter\": 36.0}, {\"StichtagDatJahr\": \"2016-01-01T00:00:00\", \"KategorieLang\": \"Stadtkreis\", \"RaumSort\": 5, \"RaumLang\": \"Kreis 5\", \"Medianalter\": 36.2}, {\"StichtagDatJahr\": \"2017-01-01T00:00:00\", \"KategorieLang\": \"Stadtkreis\", \"RaumSort\": 5, \"RaumLang\": \"Kreis 5\", \"Medianalter\": 36.3}, {\"StichtagDatJahr\": \"2018-01-01T00:00:00\", \"KategorieLang\": \"Stadtkreis\", \"RaumSort\": 5, \"RaumLang\": \"Kreis 5\", \"Medianalter\": 36.4}, {\"StichtagDatJahr\": \"2019-01-01T00:00:00\", \"KategorieLang\": \"Stadtkreis\", \"RaumSort\": 5, \"RaumLang\": \"Kreis 5\", \"Medianalter\": 36.5}, {\"StichtagDatJahr\": \"2020-01-01T00:00:00\", \"KategorieLang\": \"Stadtkreis\", \"RaumSort\": 5, \"RaumLang\": \"Kreis 5\", \"Medianalter\": 36.8}, {\"StichtagDatJahr\": \"1993-01-01T00:00:00\", \"KategorieLang\": \"Stadtkreis\", \"RaumSort\": 6, \"RaumLang\": \"Kreis 6\", \"Medianalter\": 39.3}, {\"StichtagDatJahr\": \"1994-01-01T00:00:00\", \"KategorieLang\": \"Stadtkreis\", \"RaumSort\": 6, \"RaumLang\": \"Kreis 6\", \"Medianalter\": 38.9}, {\"StichtagDatJahr\": \"1995-01-01T00:00:00\", \"KategorieLang\": \"Stadtkreis\", \"RaumSort\": 6, \"RaumLang\": \"Kreis 6\", \"Medianalter\": 38.9}, {\"StichtagDatJahr\": \"1996-01-01T00:00:00\", \"KategorieLang\": \"Stadtkreis\", \"RaumSort\": 6, \"RaumLang\": \"Kreis 6\", \"Medianalter\": 38.6}, {\"StichtagDatJahr\": \"1997-01-01T00:00:00\", \"KategorieLang\": \"Stadtkreis\", \"RaumSort\": 6, \"RaumLang\": \"Kreis 6\", \"Medianalter\": 38.3}, {\"StichtagDatJahr\": \"1998-01-01T00:00:00\", \"KategorieLang\": \"Stadtkreis\", \"RaumSort\": 6, \"RaumLang\": \"Kreis 6\", \"Medianalter\": 38.1}, {\"StichtagDatJahr\": \"1999-01-01T00:00:00\", \"KategorieLang\": \"Stadtkreis\", \"RaumSort\": 6, \"RaumLang\": \"Kreis 6\", \"Medianalter\": 38.0}, {\"StichtagDatJahr\": \"2000-01-01T00:00:00\", \"KategorieLang\": \"Stadtkreis\", \"RaumSort\": 6, \"RaumLang\": \"Kreis 6\", \"Medianalter\": 37.9}, {\"StichtagDatJahr\": \"2001-01-01T00:00:00\", \"KategorieLang\": \"Stadtkreis\", \"RaumSort\": 6, \"RaumLang\": \"Kreis 6\", \"Medianalter\": 38.0}, {\"StichtagDatJahr\": \"2002-01-01T00:00:00\", \"KategorieLang\": \"Stadtkreis\", \"RaumSort\": 6, \"RaumLang\": \"Kreis 6\", \"Medianalter\": 37.9}, {\"StichtagDatJahr\": \"2003-01-01T00:00:00\", \"KategorieLang\": \"Stadtkreis\", \"RaumSort\": 6, \"RaumLang\": \"Kreis 6\", \"Medianalter\": 37.9}, {\"StichtagDatJahr\": \"2004-01-01T00:00:00\", \"KategorieLang\": \"Stadtkreis\", \"RaumSort\": 6, \"RaumLang\": \"Kreis 6\", \"Medianalter\": 38.1}, {\"StichtagDatJahr\": \"2005-01-01T00:00:00\", \"KategorieLang\": \"Stadtkreis\", \"RaumSort\": 6, \"RaumLang\": \"Kreis 6\", \"Medianalter\": 38.0}, {\"StichtagDatJahr\": \"2006-01-01T00:00:00\", \"KategorieLang\": \"Stadtkreis\", \"RaumSort\": 6, \"RaumLang\": \"Kreis 6\", \"Medianalter\": 38.0}, {\"StichtagDatJahr\": \"2007-01-01T00:00:00\", \"KategorieLang\": \"Stadtkreis\", \"RaumSort\": 6, \"RaumLang\": \"Kreis 6\", \"Medianalter\": 37.8}, {\"StichtagDatJahr\": \"2008-01-01T00:00:00\", \"KategorieLang\": \"Stadtkreis\", \"RaumSort\": 6, \"RaumLang\": \"Kreis 6\", \"Medianalter\": 37.6}, {\"StichtagDatJahr\": \"2009-01-01T00:00:00\", \"KategorieLang\": \"Stadtkreis\", \"RaumSort\": 6, \"RaumLang\": \"Kreis 6\", \"Medianalter\": 37.6}, {\"StichtagDatJahr\": \"2010-01-01T00:00:00\", \"KategorieLang\": \"Stadtkreis\", \"RaumSort\": 6, \"RaumLang\": \"Kreis 6\", \"Medianalter\": 37.5}, {\"StichtagDatJahr\": \"2011-01-01T00:00:00\", \"KategorieLang\": \"Stadtkreis\", \"RaumSort\": 6, \"RaumLang\": \"Kreis 6\", \"Medianalter\": 37.5}, {\"StichtagDatJahr\": \"2012-01-01T00:00:00\", \"KategorieLang\": \"Stadtkreis\", \"RaumSort\": 6, \"RaumLang\": \"Kreis 6\", \"Medianalter\": 37.6}, {\"StichtagDatJahr\": \"2013-01-01T00:00:00\", \"KategorieLang\": \"Stadtkreis\", \"RaumSort\": 6, \"RaumLang\": \"Kreis 6\", \"Medianalter\": 37.3}, {\"StichtagDatJahr\": \"2014-01-01T00:00:00\", \"KategorieLang\": \"Stadtkreis\", \"RaumSort\": 6, \"RaumLang\": \"Kreis 6\", \"Medianalter\": 37.1}, {\"StichtagDatJahr\": \"2015-01-01T00:00:00\", \"KategorieLang\": \"Stadtkreis\", \"RaumSort\": 6, \"RaumLang\": \"Kreis 6\", \"Medianalter\": 37.2}, {\"StichtagDatJahr\": \"2016-01-01T00:00:00\", \"KategorieLang\": \"Stadtkreis\", \"RaumSort\": 6, \"RaumLang\": \"Kreis 6\", \"Medianalter\": 37.3}, {\"StichtagDatJahr\": \"2017-01-01T00:00:00\", \"KategorieLang\": \"Stadtkreis\", \"RaumSort\": 6, \"RaumLang\": \"Kreis 6\", \"Medianalter\": 37.3}, {\"StichtagDatJahr\": \"2018-01-01T00:00:00\", \"KategorieLang\": \"Stadtkreis\", \"RaumSort\": 6, \"RaumLang\": \"Kreis 6\", \"Medianalter\": 37.3}, {\"StichtagDatJahr\": \"2019-01-01T00:00:00\", \"KategorieLang\": \"Stadtkreis\", \"RaumSort\": 6, \"RaumLang\": \"Kreis 6\", \"Medianalter\": 36.9}, {\"StichtagDatJahr\": \"2020-01-01T00:00:00\", \"KategorieLang\": \"Stadtkreis\", \"RaumSort\": 6, \"RaumLang\": \"Kreis 6\", \"Medianalter\": 36.8}, {\"StichtagDatJahr\": \"1993-01-01T00:00:00\", \"KategorieLang\": \"Stadtkreis\", \"RaumSort\": 7, \"RaumLang\": \"Kreis 7\", \"Medianalter\": 43.2}, {\"StichtagDatJahr\": \"1994-01-01T00:00:00\", \"KategorieLang\": \"Stadtkreis\", \"RaumSort\": 7, \"RaumLang\": \"Kreis 7\", \"Medianalter\": 43.3}, {\"StichtagDatJahr\": \"1995-01-01T00:00:00\", \"KategorieLang\": \"Stadtkreis\", \"RaumSort\": 7, \"RaumLang\": \"Kreis 7\", \"Medianalter\": 43.3}, {\"StichtagDatJahr\": \"1996-01-01T00:00:00\", \"KategorieLang\": \"Stadtkreis\", \"RaumSort\": 7, \"RaumLang\": \"Kreis 7\", \"Medianalter\": 43.0}, {\"StichtagDatJahr\": \"1997-01-01T00:00:00\", \"KategorieLang\": \"Stadtkreis\", \"RaumSort\": 7, \"RaumLang\": \"Kreis 7\", \"Medianalter\": 42.9}, {\"StichtagDatJahr\": \"1998-01-01T00:00:00\", \"KategorieLang\": \"Stadtkreis\", \"RaumSort\": 7, \"RaumLang\": \"Kreis 7\", \"Medianalter\": 43.0}, {\"StichtagDatJahr\": \"1999-01-01T00:00:00\", \"KategorieLang\": \"Stadtkreis\", \"RaumSort\": 7, \"RaumLang\": \"Kreis 7\", \"Medianalter\": 42.8}, {\"StichtagDatJahr\": \"2000-01-01T00:00:00\", \"KategorieLang\": \"Stadtkreis\", \"RaumSort\": 7, \"RaumLang\": \"Kreis 7\", \"Medianalter\": 43.1}, {\"StichtagDatJahr\": \"2001-01-01T00:00:00\", \"KategorieLang\": \"Stadtkreis\", \"RaumSort\": 7, \"RaumLang\": \"Kreis 7\", \"Medianalter\": 43.0}, {\"StichtagDatJahr\": \"2002-01-01T00:00:00\", \"KategorieLang\": \"Stadtkreis\", \"RaumSort\": 7, \"RaumLang\": \"Kreis 7\", \"Medianalter\": 43.4}, {\"StichtagDatJahr\": \"2003-01-01T00:00:00\", \"KategorieLang\": \"Stadtkreis\", \"RaumSort\": 7, \"RaumLang\": \"Kreis 7\", \"Medianalter\": 43.5}, {\"StichtagDatJahr\": \"2004-01-01T00:00:00\", \"KategorieLang\": \"Stadtkreis\", \"RaumSort\": 7, \"RaumLang\": \"Kreis 7\", \"Medianalter\": 43.4}, {\"StichtagDatJahr\": \"2005-01-01T00:00:00\", \"KategorieLang\": \"Stadtkreis\", \"RaumSort\": 7, \"RaumLang\": \"Kreis 7\", \"Medianalter\": 43.4}, {\"StichtagDatJahr\": \"2006-01-01T00:00:00\", \"KategorieLang\": \"Stadtkreis\", \"RaumSort\": 7, \"RaumLang\": \"Kreis 7\", \"Medianalter\": 43.5}, {\"StichtagDatJahr\": \"2007-01-01T00:00:00\", \"KategorieLang\": \"Stadtkreis\", \"RaumSort\": 7, \"RaumLang\": \"Kreis 7\", \"Medianalter\": 43.1}, {\"StichtagDatJahr\": \"2008-01-01T00:00:00\", \"KategorieLang\": \"Stadtkreis\", \"RaumSort\": 7, \"RaumLang\": \"Kreis 7\", \"Medianalter\": 43.0}, {\"StichtagDatJahr\": \"2009-01-01T00:00:00\", \"KategorieLang\": \"Stadtkreis\", \"RaumSort\": 7, \"RaumLang\": \"Kreis 7\", \"Medianalter\": 43.1}, {\"StichtagDatJahr\": \"2010-01-01T00:00:00\", \"KategorieLang\": \"Stadtkreis\", \"RaumSort\": 7, \"RaumLang\": \"Kreis 7\", \"Medianalter\": 42.9}, {\"StichtagDatJahr\": \"2011-01-01T00:00:00\", \"KategorieLang\": \"Stadtkreis\", \"RaumSort\": 7, \"RaumLang\": \"Kreis 7\", \"Medianalter\": 42.9}, {\"StichtagDatJahr\": \"2012-01-01T00:00:00\", \"KategorieLang\": \"Stadtkreis\", \"RaumSort\": 7, \"RaumLang\": \"Kreis 7\", \"Medianalter\": 43.0}, {\"StichtagDatJahr\": \"2013-01-01T00:00:00\", \"KategorieLang\": \"Stadtkreis\", \"RaumSort\": 7, \"RaumLang\": \"Kreis 7\", \"Medianalter\": 42.9}, {\"StichtagDatJahr\": \"2014-01-01T00:00:00\", \"KategorieLang\": \"Stadtkreis\", \"RaumSort\": 7, \"RaumLang\": \"Kreis 7\", \"Medianalter\": 42.8}, {\"StichtagDatJahr\": \"2015-01-01T00:00:00\", \"KategorieLang\": \"Stadtkreis\", \"RaumSort\": 7, \"RaumLang\": \"Kreis 7\", \"Medianalter\": 42.6}, {\"StichtagDatJahr\": \"2016-01-01T00:00:00\", \"KategorieLang\": \"Stadtkreis\", \"RaumSort\": 7, \"RaumLang\": \"Kreis 7\", \"Medianalter\": 42.8}, {\"StichtagDatJahr\": \"2017-01-01T00:00:00\", \"KategorieLang\": \"Stadtkreis\", \"RaumSort\": 7, \"RaumLang\": \"Kreis 7\", \"Medianalter\": 42.6}, {\"StichtagDatJahr\": \"2018-01-01T00:00:00\", \"KategorieLang\": \"Stadtkreis\", \"RaumSort\": 7, \"RaumLang\": \"Kreis 7\", \"Medianalter\": 42.6}, {\"StichtagDatJahr\": \"2019-01-01T00:00:00\", \"KategorieLang\": \"Stadtkreis\", \"RaumSort\": 7, \"RaumLang\": \"Kreis 7\", \"Medianalter\": 42.5}, {\"StichtagDatJahr\": \"2020-01-01T00:00:00\", \"KategorieLang\": \"Stadtkreis\", \"RaumSort\": 7, \"RaumLang\": \"Kreis 7\", \"Medianalter\": 42.5}, {\"StichtagDatJahr\": \"1993-01-01T00:00:00\", \"KategorieLang\": \"Stadtkreis\", \"RaumSort\": 8, \"RaumLang\": \"Kreis 8\", \"Medianalter\": 39.4}, {\"StichtagDatJahr\": \"1994-01-01T00:00:00\", \"KategorieLang\": \"Stadtkreis\", \"RaumSort\": 8, \"RaumLang\": \"Kreis 8\", \"Medianalter\": 39.3}, {\"StichtagDatJahr\": \"1995-01-01T00:00:00\", \"KategorieLang\": \"Stadtkreis\", \"RaumSort\": 8, \"RaumLang\": \"Kreis 8\", \"Medianalter\": 39.1}, {\"StichtagDatJahr\": \"1996-01-01T00:00:00\", \"KategorieLang\": \"Stadtkreis\", \"RaumSort\": 8, \"RaumLang\": \"Kreis 8\", \"Medianalter\": 39.1}, {\"StichtagDatJahr\": \"1997-01-01T00:00:00\", \"KategorieLang\": \"Stadtkreis\", \"RaumSort\": 8, \"RaumLang\": \"Kreis 8\", \"Medianalter\": 39.2}, {\"StichtagDatJahr\": \"1998-01-01T00:00:00\", \"KategorieLang\": \"Stadtkreis\", \"RaumSort\": 8, \"RaumLang\": \"Kreis 8\", \"Medianalter\": 38.9}, {\"StichtagDatJahr\": \"1999-01-01T00:00:00\", \"KategorieLang\": \"Stadtkreis\", \"RaumSort\": 8, \"RaumLang\": \"Kreis 8\", \"Medianalter\": 39.1}, {\"StichtagDatJahr\": \"2000-01-01T00:00:00\", \"KategorieLang\": \"Stadtkreis\", \"RaumSort\": 8, \"RaumLang\": \"Kreis 8\", \"Medianalter\": 39.0}, {\"StichtagDatJahr\": \"2001-01-01T00:00:00\", \"KategorieLang\": \"Stadtkreis\", \"RaumSort\": 8, \"RaumLang\": \"Kreis 8\", \"Medianalter\": 39.0}, {\"StichtagDatJahr\": \"2002-01-01T00:00:00\", \"KategorieLang\": \"Stadtkreis\", \"RaumSort\": 8, \"RaumLang\": \"Kreis 8\", \"Medianalter\": 39.0}, {\"StichtagDatJahr\": \"2003-01-01T00:00:00\", \"KategorieLang\": \"Stadtkreis\", \"RaumSort\": 8, \"RaumLang\": \"Kreis 8\", \"Medianalter\": 39.2}, {\"StichtagDatJahr\": \"2004-01-01T00:00:00\", \"KategorieLang\": \"Stadtkreis\", \"RaumSort\": 8, \"RaumLang\": \"Kreis 8\", \"Medianalter\": 39.4}, {\"StichtagDatJahr\": \"2005-01-01T00:00:00\", \"KategorieLang\": \"Stadtkreis\", \"RaumSort\": 8, \"RaumLang\": \"Kreis 8\", \"Medianalter\": 39.6}, {\"StichtagDatJahr\": \"2006-01-01T00:00:00\", \"KategorieLang\": \"Stadtkreis\", \"RaumSort\": 8, \"RaumLang\": \"Kreis 8\", \"Medianalter\": 39.7}, {\"StichtagDatJahr\": \"2007-01-01T00:00:00\", \"KategorieLang\": \"Stadtkreis\", \"RaumSort\": 8, \"RaumLang\": \"Kreis 8\", \"Medianalter\": 39.5}, {\"StichtagDatJahr\": \"2008-01-01T00:00:00\", \"KategorieLang\": \"Stadtkreis\", \"RaumSort\": 8, \"RaumLang\": \"Kreis 8\", \"Medianalter\": 39.6}, {\"StichtagDatJahr\": \"2009-01-01T00:00:00\", \"KategorieLang\": \"Stadtkreis\", \"RaumSort\": 8, \"RaumLang\": \"Kreis 8\", \"Medianalter\": 40.2}, {\"StichtagDatJahr\": \"2010-01-01T00:00:00\", \"KategorieLang\": \"Stadtkreis\", \"RaumSort\": 8, \"RaumLang\": \"Kreis 8\", \"Medianalter\": 39.8}, {\"StichtagDatJahr\": \"2011-01-01T00:00:00\", \"KategorieLang\": \"Stadtkreis\", \"RaumSort\": 8, \"RaumLang\": \"Kreis 8\", \"Medianalter\": 40.0}, {\"StichtagDatJahr\": \"2012-01-01T00:00:00\", \"KategorieLang\": \"Stadtkreis\", \"RaumSort\": 8, \"RaumLang\": \"Kreis 8\", \"Medianalter\": 40.2}, {\"StichtagDatJahr\": \"2013-01-01T00:00:00\", \"KategorieLang\": \"Stadtkreis\", \"RaumSort\": 8, \"RaumLang\": \"Kreis 8\", \"Medianalter\": 40.1}, {\"StichtagDatJahr\": \"2014-01-01T00:00:00\", \"KategorieLang\": \"Stadtkreis\", \"RaumSort\": 8, \"RaumLang\": \"Kreis 8\", \"Medianalter\": 40.1}, {\"StichtagDatJahr\": \"2015-01-01T00:00:00\", \"KategorieLang\": \"Stadtkreis\", \"RaumSort\": 8, \"RaumLang\": \"Kreis 8\", \"Medianalter\": 40.3}, {\"StichtagDatJahr\": \"2016-01-01T00:00:00\", \"KategorieLang\": \"Stadtkreis\", \"RaumSort\": 8, \"RaumLang\": \"Kreis 8\", \"Medianalter\": 40.1}, {\"StichtagDatJahr\": \"2017-01-01T00:00:00\", \"KategorieLang\": \"Stadtkreis\", \"RaumSort\": 8, \"RaumLang\": \"Kreis 8\", \"Medianalter\": 40.5}, {\"StichtagDatJahr\": \"2018-01-01T00:00:00\", \"KategorieLang\": \"Stadtkreis\", \"RaumSort\": 8, \"RaumLang\": \"Kreis 8\", \"Medianalter\": 40.2}, {\"StichtagDatJahr\": \"2019-01-01T00:00:00\", \"KategorieLang\": \"Stadtkreis\", \"RaumSort\": 8, \"RaumLang\": \"Kreis 8\", \"Medianalter\": 40.2}, {\"StichtagDatJahr\": \"2020-01-01T00:00:00\", \"KategorieLang\": \"Stadtkreis\", \"RaumSort\": 8, \"RaumLang\": \"Kreis 8\", \"Medianalter\": 40.0}, {\"StichtagDatJahr\": \"1993-01-01T00:00:00\", \"KategorieLang\": \"Stadtkreis\", \"RaumSort\": 9, \"RaumLang\": \"Kreis 9\", \"Medianalter\": 42.7}, {\"StichtagDatJahr\": \"1994-01-01T00:00:00\", \"KategorieLang\": \"Stadtkreis\", \"RaumSort\": 9, \"RaumLang\": \"Kreis 9\", \"Medianalter\": 42.5}, {\"StichtagDatJahr\": \"1995-01-01T00:00:00\", \"KategorieLang\": \"Stadtkreis\", \"RaumSort\": 9, \"RaumLang\": \"Kreis 9\", \"Medianalter\": 42.4}, {\"StichtagDatJahr\": \"1996-01-01T00:00:00\", \"KategorieLang\": \"Stadtkreis\", \"RaumSort\": 9, \"RaumLang\": \"Kreis 9\", \"Medianalter\": 42.5}, {\"StichtagDatJahr\": \"1997-01-01T00:00:00\", \"KategorieLang\": \"Stadtkreis\", \"RaumSort\": 9, \"RaumLang\": \"Kreis 9\", \"Medianalter\": 42.3}, {\"StichtagDatJahr\": \"1998-01-01T00:00:00\", \"KategorieLang\": \"Stadtkreis\", \"RaumSort\": 9, \"RaumLang\": \"Kreis 9\", \"Medianalter\": 42.1}, {\"StichtagDatJahr\": \"1999-01-01T00:00:00\", \"KategorieLang\": \"Stadtkreis\", \"RaumSort\": 9, \"RaumLang\": \"Kreis 9\", \"Medianalter\": 42.1}, {\"StichtagDatJahr\": \"2000-01-01T00:00:00\", \"KategorieLang\": \"Stadtkreis\", \"RaumSort\": 9, \"RaumLang\": \"Kreis 9\", \"Medianalter\": 41.7}, {\"StichtagDatJahr\": \"2001-01-01T00:00:00\", \"KategorieLang\": \"Stadtkreis\", \"RaumSort\": 9, \"RaumLang\": \"Kreis 9\", \"Medianalter\": 41.3}, {\"StichtagDatJahr\": \"2002-01-01T00:00:00\", \"KategorieLang\": \"Stadtkreis\", \"RaumSort\": 9, \"RaumLang\": \"Kreis 9\", \"Medianalter\": 41.1}, {\"StichtagDatJahr\": \"2003-01-01T00:00:00\", \"KategorieLang\": \"Stadtkreis\", \"RaumSort\": 9, \"RaumLang\": \"Kreis 9\", \"Medianalter\": 41.3}, {\"StichtagDatJahr\": \"2004-01-01T00:00:00\", \"KategorieLang\": \"Stadtkreis\", \"RaumSort\": 9, \"RaumLang\": \"Kreis 9\", \"Medianalter\": 41.4}, {\"StichtagDatJahr\": \"2005-01-01T00:00:00\", \"KategorieLang\": \"Stadtkreis\", \"RaumSort\": 9, \"RaumLang\": \"Kreis 9\", \"Medianalter\": 41.4}, {\"StichtagDatJahr\": \"2006-01-01T00:00:00\", \"KategorieLang\": \"Stadtkreis\", \"RaumSort\": 9, \"RaumLang\": \"Kreis 9\", \"Medianalter\": 41.2}, {\"StichtagDatJahr\": \"2007-01-01T00:00:00\", \"KategorieLang\": \"Stadtkreis\", \"RaumSort\": 9, \"RaumLang\": \"Kreis 9\", \"Medianalter\": 40.9}, {\"StichtagDatJahr\": \"2008-01-01T00:00:00\", \"KategorieLang\": \"Stadtkreis\", \"RaumSort\": 9, \"RaumLang\": \"Kreis 9\", \"Medianalter\": 40.5}, {\"StichtagDatJahr\": \"2009-01-01T00:00:00\", \"KategorieLang\": \"Stadtkreis\", \"RaumSort\": 9, \"RaumLang\": \"Kreis 9\", \"Medianalter\": 40.3}, {\"StichtagDatJahr\": \"2010-01-01T00:00:00\", \"KategorieLang\": \"Stadtkreis\", \"RaumSort\": 9, \"RaumLang\": \"Kreis 9\", \"Medianalter\": 40.0}, {\"StichtagDatJahr\": \"2011-01-01T00:00:00\", \"KategorieLang\": \"Stadtkreis\", \"RaumSort\": 9, \"RaumLang\": \"Kreis 9\", \"Medianalter\": 39.4}, {\"StichtagDatJahr\": \"2012-01-01T00:00:00\", \"KategorieLang\": \"Stadtkreis\", \"RaumSort\": 9, \"RaumLang\": \"Kreis 9\", \"Medianalter\": 39.3}, {\"StichtagDatJahr\": \"2013-01-01T00:00:00\", \"KategorieLang\": \"Stadtkreis\", \"RaumSort\": 9, \"RaumLang\": \"Kreis 9\", \"Medianalter\": 39.4}, {\"StichtagDatJahr\": \"2014-01-01T00:00:00\", \"KategorieLang\": \"Stadtkreis\", \"RaumSort\": 9, \"RaumLang\": \"Kreis 9\", \"Medianalter\": 39.4}, {\"StichtagDatJahr\": \"2015-01-01T00:00:00\", \"KategorieLang\": \"Stadtkreis\", \"RaumSort\": 9, \"RaumLang\": \"Kreis 9\", \"Medianalter\": 39.4}, {\"StichtagDatJahr\": \"2016-01-01T00:00:00\", \"KategorieLang\": \"Stadtkreis\", \"RaumSort\": 9, \"RaumLang\": \"Kreis 9\", \"Medianalter\": 38.9}, {\"StichtagDatJahr\": \"2017-01-01T00:00:00\", \"KategorieLang\": \"Stadtkreis\", \"RaumSort\": 9, \"RaumLang\": \"Kreis 9\", \"Medianalter\": 38.5}, {\"StichtagDatJahr\": \"2018-01-01T00:00:00\", \"KategorieLang\": \"Stadtkreis\", \"RaumSort\": 9, \"RaumLang\": \"Kreis 9\", \"Medianalter\": 38.3}, {\"StichtagDatJahr\": \"2019-01-01T00:00:00\", \"KategorieLang\": \"Stadtkreis\", \"RaumSort\": 9, \"RaumLang\": \"Kreis 9\", \"Medianalter\": 38.1}, {\"StichtagDatJahr\": \"2020-01-01T00:00:00\", \"KategorieLang\": \"Stadtkreis\", \"RaumSort\": 9, \"RaumLang\": \"Kreis 9\", \"Medianalter\": 38.3}, {\"StichtagDatJahr\": \"1993-01-01T00:00:00\", \"KategorieLang\": \"Stadtkreis\", \"RaumSort\": 10, \"RaumLang\": \"Kreis 10\", \"Medianalter\": 40.7}, {\"StichtagDatJahr\": \"1994-01-01T00:00:00\", \"KategorieLang\": \"Stadtkreis\", \"RaumSort\": 10, \"RaumLang\": \"Kreis 10\", \"Medianalter\": 40.8}, {\"StichtagDatJahr\": \"1995-01-01T00:00:00\", \"KategorieLang\": \"Stadtkreis\", \"RaumSort\": 10, \"RaumLang\": \"Kreis 10\", \"Medianalter\": 40.9}, {\"StichtagDatJahr\": \"1996-01-01T00:00:00\", \"KategorieLang\": \"Stadtkreis\", \"RaumSort\": 10, \"RaumLang\": \"Kreis 10\", \"Medianalter\": 40.6}, {\"StichtagDatJahr\": \"1997-01-01T00:00:00\", \"KategorieLang\": \"Stadtkreis\", \"RaumSort\": 10, \"RaumLang\": \"Kreis 10\", \"Medianalter\": 40.6}, {\"StichtagDatJahr\": \"1998-01-01T00:00:00\", \"KategorieLang\": \"Stadtkreis\", \"RaumSort\": 10, \"RaumLang\": \"Kreis 10\", \"Medianalter\": 40.4}, {\"StichtagDatJahr\": \"1999-01-01T00:00:00\", \"KategorieLang\": \"Stadtkreis\", \"RaumSort\": 10, \"RaumLang\": \"Kreis 10\", \"Medianalter\": 40.0}, {\"StichtagDatJahr\": \"2000-01-01T00:00:00\", \"KategorieLang\": \"Stadtkreis\", \"RaumSort\": 10, \"RaumLang\": \"Kreis 10\", \"Medianalter\": 39.8}, {\"StichtagDatJahr\": \"2001-01-01T00:00:00\", \"KategorieLang\": \"Stadtkreis\", \"RaumSort\": 10, \"RaumLang\": \"Kreis 10\", \"Medianalter\": 39.7}, {\"StichtagDatJahr\": \"2002-01-01T00:00:00\", \"KategorieLang\": \"Stadtkreis\", \"RaumSort\": 10, \"RaumLang\": \"Kreis 10\", \"Medianalter\": 39.8}, {\"StichtagDatJahr\": \"2003-01-01T00:00:00\", \"KategorieLang\": \"Stadtkreis\", \"RaumSort\": 10, \"RaumLang\": \"Kreis 10\", \"Medianalter\": 39.8}, {\"StichtagDatJahr\": \"2004-01-01T00:00:00\", \"KategorieLang\": \"Stadtkreis\", \"RaumSort\": 10, \"RaumLang\": \"Kreis 10\", \"Medianalter\": 39.9}, {\"StichtagDatJahr\": \"2005-01-01T00:00:00\", \"KategorieLang\": \"Stadtkreis\", \"RaumSort\": 10, \"RaumLang\": \"Kreis 10\", \"Medianalter\": 39.9}, {\"StichtagDatJahr\": \"2006-01-01T00:00:00\", \"KategorieLang\": \"Stadtkreis\", \"RaumSort\": 10, \"RaumLang\": \"Kreis 10\", \"Medianalter\": 40.0}, {\"StichtagDatJahr\": \"2007-01-01T00:00:00\", \"KategorieLang\": \"Stadtkreis\", \"RaumSort\": 10, \"RaumLang\": \"Kreis 10\", \"Medianalter\": 40.1}, {\"StichtagDatJahr\": \"2008-01-01T00:00:00\", \"KategorieLang\": \"Stadtkreis\", \"RaumSort\": 10, \"RaumLang\": \"Kreis 10\", \"Medianalter\": 40.0}, {\"StichtagDatJahr\": \"2009-01-01T00:00:00\", \"KategorieLang\": \"Stadtkreis\", \"RaumSort\": 10, \"RaumLang\": \"Kreis 10\", \"Medianalter\": 40.0}, {\"StichtagDatJahr\": \"2010-01-01T00:00:00\", \"KategorieLang\": \"Stadtkreis\", \"RaumSort\": 10, \"RaumLang\": \"Kreis 10\", \"Medianalter\": 40.0}, {\"StichtagDatJahr\": \"2011-01-01T00:00:00\", \"KategorieLang\": \"Stadtkreis\", \"RaumSort\": 10, \"RaumLang\": \"Kreis 10\", \"Medianalter\": 39.9}, {\"StichtagDatJahr\": \"2012-01-01T00:00:00\", \"KategorieLang\": \"Stadtkreis\", \"RaumSort\": 10, \"RaumLang\": \"Kreis 10\", \"Medianalter\": 39.8}, {\"StichtagDatJahr\": \"2013-01-01T00:00:00\", \"KategorieLang\": \"Stadtkreis\", \"RaumSort\": 10, \"RaumLang\": \"Kreis 10\", \"Medianalter\": 39.9}, {\"StichtagDatJahr\": \"2014-01-01T00:00:00\", \"KategorieLang\": \"Stadtkreis\", \"RaumSort\": 10, \"RaumLang\": \"Kreis 10\", \"Medianalter\": 39.8}, {\"StichtagDatJahr\": \"2015-01-01T00:00:00\", \"KategorieLang\": \"Stadtkreis\", \"RaumSort\": 10, \"RaumLang\": \"Kreis 10\", \"Medianalter\": 39.4}, {\"StichtagDatJahr\": \"2016-01-01T00:00:00\", \"KategorieLang\": \"Stadtkreis\", \"RaumSort\": 10, \"RaumLang\": \"Kreis 10\", \"Medianalter\": 38.9}, {\"StichtagDatJahr\": \"2017-01-01T00:00:00\", \"KategorieLang\": \"Stadtkreis\", \"RaumSort\": 10, \"RaumLang\": \"Kreis 10\", \"Medianalter\": 38.7}, {\"StichtagDatJahr\": \"2018-01-01T00:00:00\", \"KategorieLang\": \"Stadtkreis\", \"RaumSort\": 10, \"RaumLang\": \"Kreis 10\", \"Medianalter\": 38.9}, {\"StichtagDatJahr\": \"2019-01-01T00:00:00\", \"KategorieLang\": \"Stadtkreis\", \"RaumSort\": 10, \"RaumLang\": \"Kreis 10\", \"Medianalter\": 39.1}, {\"StichtagDatJahr\": \"2020-01-01T00:00:00\", \"KategorieLang\": \"Stadtkreis\", \"RaumSort\": 10, \"RaumLang\": \"Kreis 10\", \"Medianalter\": 39.1}, {\"StichtagDatJahr\": \"1993-01-01T00:00:00\", \"KategorieLang\": \"Stadtkreis\", \"RaumSort\": 11, \"RaumLang\": \"Kreis 11\", \"Medianalter\": 39.5}, {\"StichtagDatJahr\": \"1994-01-01T00:00:00\", \"KategorieLang\": \"Stadtkreis\", \"RaumSort\": 11, \"RaumLang\": \"Kreis 11\", \"Medianalter\": 39.4}, {\"StichtagDatJahr\": \"1995-01-01T00:00:00\", \"KategorieLang\": \"Stadtkreis\", \"RaumSort\": 11, \"RaumLang\": \"Kreis 11\", \"Medianalter\": 39.0}, {\"StichtagDatJahr\": \"1996-01-01T00:00:00\", \"KategorieLang\": \"Stadtkreis\", \"RaumSort\": 11, \"RaumLang\": \"Kreis 11\", \"Medianalter\": 39.0}, {\"StichtagDatJahr\": \"1997-01-01T00:00:00\", \"KategorieLang\": \"Stadtkreis\", \"RaumSort\": 11, \"RaumLang\": \"Kreis 11\", \"Medianalter\": 38.7}, {\"StichtagDatJahr\": \"1998-01-01T00:00:00\", \"KategorieLang\": \"Stadtkreis\", \"RaumSort\": 11, \"RaumLang\": \"Kreis 11\", \"Medianalter\": 38.2}, {\"StichtagDatJahr\": \"1999-01-01T00:00:00\", \"KategorieLang\": \"Stadtkreis\", \"RaumSort\": 11, \"RaumLang\": \"Kreis 11\", \"Medianalter\": 37.9}, {\"StichtagDatJahr\": \"2000-01-01T00:00:00\", \"KategorieLang\": \"Stadtkreis\", \"RaumSort\": 11, \"RaumLang\": \"Kreis 11\", \"Medianalter\": 37.8}, {\"StichtagDatJahr\": \"2001-01-01T00:00:00\", \"KategorieLang\": \"Stadtkreis\", \"RaumSort\": 11, \"RaumLang\": \"Kreis 11\", \"Medianalter\": 37.4}, {\"StichtagDatJahr\": \"2002-01-01T00:00:00\", \"KategorieLang\": \"Stadtkreis\", \"RaumSort\": 11, \"RaumLang\": \"Kreis 11\", \"Medianalter\": 37.2}, {\"StichtagDatJahr\": \"2003-01-01T00:00:00\", \"KategorieLang\": \"Stadtkreis\", \"RaumSort\": 11, \"RaumLang\": \"Kreis 11\", \"Medianalter\": 37.0}, {\"StichtagDatJahr\": \"2004-01-01T00:00:00\", \"KategorieLang\": \"Stadtkreis\", \"RaumSort\": 11, \"RaumLang\": \"Kreis 11\", \"Medianalter\": 37.1}, {\"StichtagDatJahr\": \"2005-01-01T00:00:00\", \"KategorieLang\": \"Stadtkreis\", \"RaumSort\": 11, \"RaumLang\": \"Kreis 11\", \"Medianalter\": 37.1}, {\"StichtagDatJahr\": \"2006-01-01T00:00:00\", \"KategorieLang\": \"Stadtkreis\", \"RaumSort\": 11, \"RaumLang\": \"Kreis 11\", \"Medianalter\": 36.8}, {\"StichtagDatJahr\": \"2007-01-01T00:00:00\", \"KategorieLang\": \"Stadtkreis\", \"RaumSort\": 11, \"RaumLang\": \"Kreis 11\", \"Medianalter\": 36.0}, {\"StichtagDatJahr\": \"2008-01-01T00:00:00\", \"KategorieLang\": \"Stadtkreis\", \"RaumSort\": 11, \"RaumLang\": \"Kreis 11\", \"Medianalter\": 35.8}, {\"StichtagDatJahr\": \"2009-01-01T00:00:00\", \"KategorieLang\": \"Stadtkreis\", \"RaumSort\": 11, \"RaumLang\": \"Kreis 11\", \"Medianalter\": 36.0}, {\"StichtagDatJahr\": \"2010-01-01T00:00:00\", \"KategorieLang\": \"Stadtkreis\", \"RaumSort\": 11, \"RaumLang\": \"Kreis 11\", \"Medianalter\": 35.9}, {\"StichtagDatJahr\": \"2011-01-01T00:00:00\", \"KategorieLang\": \"Stadtkreis\", \"RaumSort\": 11, \"RaumLang\": \"Kreis 11\", \"Medianalter\": 35.7}, {\"StichtagDatJahr\": \"2012-01-01T00:00:00\", \"KategorieLang\": \"Stadtkreis\", \"RaumSort\": 11, \"RaumLang\": \"Kreis 11\", \"Medianalter\": 35.6}, {\"StichtagDatJahr\": \"2013-01-01T00:00:00\", \"KategorieLang\": \"Stadtkreis\", \"RaumSort\": 11, \"RaumLang\": \"Kreis 11\", \"Medianalter\": 35.6}, {\"StichtagDatJahr\": \"2014-01-01T00:00:00\", \"KategorieLang\": \"Stadtkreis\", \"RaumSort\": 11, \"RaumLang\": \"Kreis 11\", \"Medianalter\": 35.5}, {\"StichtagDatJahr\": \"2015-01-01T00:00:00\", \"KategorieLang\": \"Stadtkreis\", \"RaumSort\": 11, \"RaumLang\": \"Kreis 11\", \"Medianalter\": 35.6}, {\"StichtagDatJahr\": \"2016-01-01T00:00:00\", \"KategorieLang\": \"Stadtkreis\", \"RaumSort\": 11, \"RaumLang\": \"Kreis 11\", \"Medianalter\": 35.8}, {\"StichtagDatJahr\": \"2017-01-01T00:00:00\", \"KategorieLang\": \"Stadtkreis\", \"RaumSort\": 11, \"RaumLang\": \"Kreis 11\", \"Medianalter\": 35.7}, {\"StichtagDatJahr\": \"2018-01-01T00:00:00\", \"KategorieLang\": \"Stadtkreis\", \"RaumSort\": 11, \"RaumLang\": \"Kreis 11\", \"Medianalter\": 35.8}, {\"StichtagDatJahr\": \"2019-01-01T00:00:00\", \"KategorieLang\": \"Stadtkreis\", \"RaumSort\": 11, \"RaumLang\": \"Kreis 11\", \"Medianalter\": 35.9}, {\"StichtagDatJahr\": \"2020-01-01T00:00:00\", \"KategorieLang\": \"Stadtkreis\", \"RaumSort\": 11, \"RaumLang\": \"Kreis 11\", \"Medianalter\": 36.0}, {\"StichtagDatJahr\": \"1993-01-01T00:00:00\", \"KategorieLang\": \"Stadtkreis\", \"RaumSort\": 12, \"RaumLang\": \"Kreis 12\", \"Medianalter\": 40.4}, {\"StichtagDatJahr\": \"1994-01-01T00:00:00\", \"KategorieLang\": \"Stadtkreis\", \"RaumSort\": 12, \"RaumLang\": \"Kreis 12\", \"Medianalter\": 40.2}, {\"StichtagDatJahr\": \"1995-01-01T00:00:00\", \"KategorieLang\": \"Stadtkreis\", \"RaumSort\": 12, \"RaumLang\": \"Kreis 12\", \"Medianalter\": 39.9}, {\"StichtagDatJahr\": \"1996-01-01T00:00:00\", \"KategorieLang\": \"Stadtkreis\", \"RaumSort\": 12, \"RaumLang\": \"Kreis 12\", \"Medianalter\": 40.0}, {\"StichtagDatJahr\": \"1997-01-01T00:00:00\", \"KategorieLang\": \"Stadtkreis\", \"RaumSort\": 12, \"RaumLang\": \"Kreis 12\", \"Medianalter\": 39.6}, {\"StichtagDatJahr\": \"1998-01-01T00:00:00\", \"KategorieLang\": \"Stadtkreis\", \"RaumSort\": 12, \"RaumLang\": \"Kreis 12\", \"Medianalter\": 39.3}, {\"StichtagDatJahr\": \"1999-01-01T00:00:00\", \"KategorieLang\": \"Stadtkreis\", \"RaumSort\": 12, \"RaumLang\": \"Kreis 12\", \"Medianalter\": 39.0}, {\"StichtagDatJahr\": \"2000-01-01T00:00:00\", \"KategorieLang\": \"Stadtkreis\", \"RaumSort\": 12, \"RaumLang\": \"Kreis 12\", \"Medianalter\": 38.8}, {\"StichtagDatJahr\": \"2001-01-01T00:00:00\", \"KategorieLang\": \"Stadtkreis\", \"RaumSort\": 12, \"RaumLang\": \"Kreis 12\", \"Medianalter\": 38.7}, {\"StichtagDatJahr\": \"2002-01-01T00:00:00\", \"KategorieLang\": \"Stadtkreis\", \"RaumSort\": 12, \"RaumLang\": \"Kreis 12\", \"Medianalter\": 38.5}, {\"StichtagDatJahr\": \"2003-01-01T00:00:00\", \"KategorieLang\": \"Stadtkreis\", \"RaumSort\": 12, \"RaumLang\": \"Kreis 12\", \"Medianalter\": 38.6}, {\"StichtagDatJahr\": \"2004-01-01T00:00:00\", \"KategorieLang\": \"Stadtkreis\", \"RaumSort\": 12, \"RaumLang\": \"Kreis 12\", \"Medianalter\": 38.2}, {\"StichtagDatJahr\": \"2005-01-01T00:00:00\", \"KategorieLang\": \"Stadtkreis\", \"RaumSort\": 12, \"RaumLang\": \"Kreis 12\", \"Medianalter\": 38.0}, {\"StichtagDatJahr\": \"2006-01-01T00:00:00\", \"KategorieLang\": \"Stadtkreis\", \"RaumSort\": 12, \"RaumLang\": \"Kreis 12\", \"Medianalter\": 37.7}, {\"StichtagDatJahr\": \"2007-01-01T00:00:00\", \"KategorieLang\": \"Stadtkreis\", \"RaumSort\": 12, \"RaumLang\": \"Kreis 12\", \"Medianalter\": 36.9}, {\"StichtagDatJahr\": \"2008-01-01T00:00:00\", \"KategorieLang\": \"Stadtkreis\", \"RaumSort\": 12, \"RaumLang\": \"Kreis 12\", \"Medianalter\": 36.7}, {\"StichtagDatJahr\": \"2009-01-01T00:00:00\", \"KategorieLang\": \"Stadtkreis\", \"RaumSort\": 12, \"RaumLang\": \"Kreis 12\", \"Medianalter\": 36.4}, {\"StichtagDatJahr\": \"2010-01-01T00:00:00\", \"KategorieLang\": \"Stadtkreis\", \"RaumSort\": 12, \"RaumLang\": \"Kreis 12\", \"Medianalter\": 36.7}, {\"StichtagDatJahr\": \"2011-01-01T00:00:00\", \"KategorieLang\": \"Stadtkreis\", \"RaumSort\": 12, \"RaumLang\": \"Kreis 12\", \"Medianalter\": 36.5}, {\"StichtagDatJahr\": \"2012-01-01T00:00:00\", \"KategorieLang\": \"Stadtkreis\", \"RaumSort\": 12, \"RaumLang\": \"Kreis 12\", \"Medianalter\": 36.6}, {\"StichtagDatJahr\": \"2013-01-01T00:00:00\", \"KategorieLang\": \"Stadtkreis\", \"RaumSort\": 12, \"RaumLang\": \"Kreis 12\", \"Medianalter\": 36.6}, {\"StichtagDatJahr\": \"2014-01-01T00:00:00\", \"KategorieLang\": \"Stadtkreis\", \"RaumSort\": 12, \"RaumLang\": \"Kreis 12\", \"Medianalter\": 36.0}, {\"StichtagDatJahr\": \"2015-01-01T00:00:00\", \"KategorieLang\": \"Stadtkreis\", \"RaumSort\": 12, \"RaumLang\": \"Kreis 12\", \"Medianalter\": 35.7}, {\"StichtagDatJahr\": \"2016-01-01T00:00:00\", \"KategorieLang\": \"Stadtkreis\", \"RaumSort\": 12, \"RaumLang\": \"Kreis 12\", \"Medianalter\": 35.8}, {\"StichtagDatJahr\": \"2017-01-01T00:00:00\", \"KategorieLang\": \"Stadtkreis\", \"RaumSort\": 12, \"RaumLang\": \"Kreis 12\", \"Medianalter\": 36.0}, {\"StichtagDatJahr\": \"2018-01-01T00:00:00\", \"KategorieLang\": \"Stadtkreis\", \"RaumSort\": 12, \"RaumLang\": \"Kreis 12\", \"Medianalter\": 35.7}, {\"StichtagDatJahr\": \"2019-01-01T00:00:00\", \"KategorieLang\": \"Stadtkreis\", \"RaumSort\": 12, \"RaumLang\": \"Kreis 12\", \"Medianalter\": 35.5}, {\"StichtagDatJahr\": \"2020-01-01T00:00:00\", \"KategorieLang\": \"Stadtkreis\", \"RaumSort\": 12, \"RaumLang\": \"Kreis 12\", \"Medianalter\": 36.0}]}}, {\"mode\": \"vega-lite\"});\n",
       "</script>"
      ],
      "text/plain": [
       "alt.Chart(...)"
      ]
     },
     "execution_count": 27,
     "metadata": {},
     "output_type": "execute_result"
    }
   ],
   "source": [
    "alt.Chart(mySelection).mark_circle(size=60).encode(\n",
    "    x='RaumLang',\n",
    "    y='StichtagDatJahr',\n",
    "    #color='AnzNat',\n",
    "    #color=alt.Color('AnzNat', scale=alt.Scale(scheme='dark2')),\n",
    "    color=alt.Color('Medianalter', scale=alt.Scale(scheme='greens')),\n",
    "    tooltip=['RaumLang','StichtagDatJahr','Medianalter']\n",
    ").interactive() # this makes the axes interactive: now you can zoom & pan\n",
    "\n",
    "\n"
   ]
  },
  {
   "cell_type": "markdown",
   "metadata": {},
   "source": [
    "Test: Choroplethenkarte"
   ]
  },
  {
   "cell_type": "markdown",
   "metadata": {},
   "source": [
    "**Test: Choroplethenkarte**\n",
    "Importiere die Geodaten als GeoJSON"
   ]
  },
  {
   "cell_type": "code",
   "execution_count": 54,
   "metadata": {},
   "outputs": [
    {
     "data": {
      "text/html": [
       "<div>\n",
       "<style scoped>\n",
       "    .dataframe tbody tr th:only-of-type {\n",
       "        vertical-align: middle;\n",
       "    }\n",
       "\n",
       "    .dataframe tbody tr th {\n",
       "        vertical-align: top;\n",
       "    }\n",
       "\n",
       "    .dataframe thead th {\n",
       "        text-align: right;\n",
       "    }\n",
       "</style>\n",
       "<table border=\"1\" class=\"dataframe\">\n",
       "  <thead>\n",
       "    <tr style=\"text-align: right;\">\n",
       "      <th></th>\n",
       "      <th>objectid</th>\n",
       "      <th>objid</th>\n",
       "      <th>qnr</th>\n",
       "      <th>qname</th>\n",
       "      <th>knr</th>\n",
       "      <th>kname</th>\n",
       "      <th>geometry</th>\n",
       "    </tr>\n",
       "  </thead>\n",
       "  <tbody>\n",
       "    <tr>\n",
       "      <th>0</th>\n",
       "      <td>1</td>\n",
       "      <td>34</td>\n",
       "      <td>73</td>\n",
       "      <td>Hirslanden</td>\n",
       "      <td>7</td>\n",
       "      <td>Kreis 7</td>\n",
       "      <td>POLYGON ((8.55670 47.36407, 8.55670 47.36406, ...</td>\n",
       "    </tr>\n",
       "    <tr>\n",
       "      <th>1</th>\n",
       "      <td>2</td>\n",
       "      <td>33</td>\n",
       "      <td>83</td>\n",
       "      <td>Weinegg</td>\n",
       "      <td>8</td>\n",
       "      <td>Kreis 8</td>\n",
       "      <td>POLYGON ((8.55671 47.36405, 8.55670 47.36405, ...</td>\n",
       "    </tr>\n",
       "  </tbody>\n",
       "</table>\n",
       "</div>"
      ],
      "text/plain": [
       "   objectid objid  qnr       qname  knr    kname  \\\n",
       "0         1    34   73  Hirslanden    7  Kreis 7   \n",
       "1         2    33   83     Weinegg    8  Kreis 8   \n",
       "\n",
       "                                            geometry  \n",
       "0  POLYGON ((8.55670 47.36407, 8.55670 47.36406, ...  \n",
       "1  POLYGON ((8.55671 47.36405, 8.55670 47.36405, ...  "
      ]
     },
     "execution_count": 54,
     "metadata": {},
     "output_type": "execute_result"
    }
   ],
   "source": [
    "# Read abt. Geopandas https://geopandas.org/docs/user_guide/io.html\n",
    "# Filepath statzonen\n",
    "input_stadtquartiere = r\"//szh.loc/ssz/data/GIS/Daten/Vektor/_aktuell/stzh.adm_statistische_quartiere_map.json\"\n",
    "df_stadtquartiere = gpd.read_file(input_stadtquartiere)\n",
    "df_stadtquartiere.head(2)\n",
    "#df_stadtkreise.dtypes\n"
   ]
  },
  {
   "cell_type": "markdown",
   "metadata": {},
   "source": [
    "Joine die importierten statistischen Daten des aktuellen Jahres zum Geodatensatz:\n",
    "\n",
    "*Siehe dazu Doku zu [Geopandas](https://geopandas.org/docs/user_guide/mergingdata.html)*"
   ]
  },
  {
   "cell_type": "code",
   "execution_count": 58,
   "metadata": {},
   "outputs": [],
   "source": [
    "#aktuellesJahr.head(2)"
   ]
  },
  {
   "cell_type": "code",
   "execution_count": 61,
   "metadata": {},
   "outputs": [
    {
     "data": {
      "text/plain": [
       "StichtagDatJahr  QuarSort  AnzBestWir\n",
       "2020-01-01       11        3317           79\n",
       "                 12        675            42\n",
       "                 13        1010           52\n",
       "                 14        829            51\n",
       "                 21        19757         120\n",
       "Name: AnzNat, dtype: int64"
      ]
     },
     "execution_count": 61,
     "metadata": {},
     "output_type": "execute_result"
    }
   ],
   "source": [
    "stats_agg_quartiere=aktuellesJahr.groupby(['StichtagDatJahr', 'QuarSort', 'AnzBestWir'])['AnzNat'].sum()\n",
    "#test = data2betested.groupby(['StichtagDatJahr', 'AlterV20Kurz'])[['AnzBestWir']].agg()\n",
    "stats_agg_quartiere.head()\n",
    "#test = data2betested.groupby(['StichtagDatJahr', 'AlterV20Kurz'])[['AnzBestWir']].agg()"
   ]
  },
  {
   "cell_type": "code",
   "execution_count": 62,
   "metadata": {},
   "outputs": [
    {
     "data": {
      "text/html": [
       "<div>\n",
       "<style scoped>\n",
       "    .dataframe tbody tr th:only-of-type {\n",
       "        vertical-align: middle;\n",
       "    }\n",
       "\n",
       "    .dataframe tbody tr th {\n",
       "        vertical-align: top;\n",
       "    }\n",
       "\n",
       "    .dataframe thead th {\n",
       "        text-align: right;\n",
       "    }\n",
       "</style>\n",
       "<table border=\"1\" class=\"dataframe\">\n",
       "  <thead>\n",
       "    <tr style=\"text-align: right;\">\n",
       "      <th></th>\n",
       "      <th>geometry</th>\n",
       "      <th>QuarSort</th>\n",
       "      <th>qname</th>\n",
       "      <th>knr</th>\n",
       "      <th>AnzNat</th>\n",
       "    </tr>\n",
       "  </thead>\n",
       "  <tbody>\n",
       "    <tr>\n",
       "      <th>0</th>\n",
       "      <td>POLYGON ((8.55670 47.36407, 8.55670 47.36406, ...</td>\n",
       "      <td>73</td>\n",
       "      <td>Hirslanden</td>\n",
       "      <td>7</td>\n",
       "      <td>92</td>\n",
       "    </tr>\n",
       "    <tr>\n",
       "      <th>1</th>\n",
       "      <td>POLYGON ((8.55671 47.36405, 8.55670 47.36405, ...</td>\n",
       "      <td>83</td>\n",
       "      <td>Weinegg</td>\n",
       "      <td>8</td>\n",
       "      <td>94</td>\n",
       "    </tr>\n",
       "    <tr>\n",
       "      <th>2</th>\n",
       "      <td>POLYGON ((8.55423 47.36456, 8.55422 47.36458, ...</td>\n",
       "      <td>82</td>\n",
       "      <td>Mühlebach</td>\n",
       "      <td>8</td>\n",
       "      <td>87</td>\n",
       "    </tr>\n",
       "  </tbody>\n",
       "</table>\n",
       "</div>"
      ],
      "text/plain": [
       "                                            geometry  QuarSort       qname  knr  AnzNat\n",
       "0  POLYGON ((8.55670 47.36407, 8.55670 47.36406, ...        73  Hirslanden    7      92\n",
       "1  POLYGON ((8.55671 47.36405, 8.55670 47.36405, ...        83     Weinegg    8      94\n",
       "2  POLYGON ((8.55423 47.36456, 8.55422 47.36458, ...        82   Mühlebach    8      87"
      ]
     },
     "execution_count": 62,
     "metadata": {},
     "output_type": "execute_result"
    }
   ],
   "source": [
    "# Rename attribute stznr to StatZoneSort, so the IDs have the same name\n",
    "\n",
    "stadtquartiere_shapes = df_stadtquartiere[['geometry', 'qnr', 'qname', 'knr']].rename(columns={'qnr': 'QuarSort'})\n",
    "\n",
    "# Merge with `merge` method on shared variable (stznr und StatZoneSort):\n",
    "stadtquartiere_shapes_joined = stadtquartiere_shapes.merge(stats_agg_quartiere, on='QuarSort')\n",
    "\n",
    "stadtquartiere_shapes_joined.head(3)\n"
   ]
  },
  {
   "cell_type": "code",
   "execution_count": 73,
   "metadata": {},
   "outputs": [
    {
     "data": {
      "text/plain": [
       "<AxesSubplot:>"
      ]
     },
     "execution_count": 73,
     "metadata": {},
     "output_type": "execute_result"
    },
    {
     "data": {
      "image/png": "[encoded data removed]",
      "text/plain": [
       "<Figure size 432x288 with 1 Axes>"
      ]
     },
     "metadata": {},
     "output_type": "display_data"
    },
    {
     "data": {
      "image/png": "[encoded data removed]",
      "text/plain": [
       "<Figure size 432x288 with 1 Axes>"
      ]
     },
     "metadata": {},
     "output_type": "display_data"
    },
    {
     "data": {
      "image/png": "[encoded data removed]",
      "text/plain": [
       "<Figure size 432x288 with 1 Axes>"
      ]
     },
     "metadata": {},
     "output_type": "display_data"
    }
   ],
   "source": [
    "# Plot by StatZonen\n",
    "\n",
    "stadtquartiere_shapes_joined.plot(column='AnzNat', cmap='viridis', scheme='natural_breaks', legend=True )\n",
    "#scheme werte: https://matplotlib.org/2.0.2/users/colormaps.html\n",
    "\n",
    "stadtquartiere_shapes_joined.plot(column='AnzNat', cmap='inferno', scheme='quantiles', legend=True )\n",
    "#scheme werte: https://matplotlib.org/2.0.2/users/colormaps.html\n",
    "stadtquartiere_shapes_joined.plot(column='AnzNat', cmap='magma', scheme='fisherjenks', legend=True )\n",
    "#scheme werte: https://matplotlib.org/2.0.2/users/colormaps.html"
   ]
  },
  {
   "cell_type": "raw",
   "metadata": {},
   "source": [
    "fig, ax = plt.subplots(1, 1)\n",
    "\n",
    "statzonen_shapes_aktJahr.plot(column='AnzBestWir', ax=ax, legend=True, legend_kwds={'label': \"Anzahl Personen\",'orientation': \"horizontal\"})\n"
   ]
  },
  {
   "cell_type": "markdown",
   "metadata": {},
   "source": [
    "Noch zu prüfen, folgendes schöne Beispiel: https://docs.bokeh.org/en/latest/docs/user_guide/interaction/legends.html\n",
    "\n",
    "Konkrete Beispiele von Bookeh in Jupyter NB: https://docs.bokeh.org/en/latest/docs/user_guide/jupyter.html"
   ]
  },
  {
   "cell_type": "markdown",
   "metadata": {},
   "source": [
    "**Sharepoint als gecheckt markieren!**"
   ]
  },
  {
   "cell_type": "markdown",
   "metadata": {},
   "source": [
    "Record auf Sharepoint: **[Link](http://kollaboration.intranet.stzh.ch/orga/ssz-produkte/Lists/SASA_Outputs/EditForm.aspx?ID=157&Source=%2Forga%2Fssz%2Dprodukte%2FLists%2FSASA%5FOutputs)**"
   ]
  },
  {
   "cell_type": "code",
   "execution_count": null,
   "metadata": {},
   "outputs": [],
   "source": []
  },
  {
   "cell_type": "raw",
   "metadata": {},
   "source": []
  },
  {
   "cell_type": "code",
   "execution_count": null,
   "metadata": {},
   "outputs": [],
   "source": []
  }
 ],
 "metadata": {
  "kernelspec": {
   "display_name": "Python 3",
   "language": "python",
   "name": "python3"
  },
  "language_info": {
   "codemirror_mode": {
    "name": "ipython",
    "version": 3
   },
   "file_extension": ".py",
   "mimetype": "text/x-python",
   "name": "python",
   "nbconvert_exporter": "python",
   "pygments_lexer": "ipython3",
   "version": "3.8.3"
  }
 },
 "nbformat": 4,
 "nbformat_minor": 4
}
