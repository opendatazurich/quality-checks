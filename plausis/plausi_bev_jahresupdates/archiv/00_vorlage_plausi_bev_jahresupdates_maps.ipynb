{
 "cells": [
  {
   "cell_type": "markdown",
   "metadata": {},
   "source": [
    "# Testing\n",
    "### *Titel*\n",
    "Datum: DD.MM.YYYY"
   ]
  },
  {
   "cell_type": "markdown",
   "metadata": {},
   "source": [
    "**Importiere die notwendigen Packages**"
   ]
  },
  {
   "cell_type": "code",
   "execution_count": 2,
   "metadata": {},
   "outputs": [],
   "source": [
    "#pip install geopandas fiona requests folium mplleaflet contextily"
   ]
  },
  {
   "cell_type": "code",
   "execution_count": 2,
   "metadata": {},
   "outputs": [],
   "source": [
    "import pandas as pd\n",
    "import pivottablejs\n",
    "from pivottablejs import pivot_ui\n",
    "import numpy as np\n",
    "import altair as alt\n",
    "import matplotlib.pyplot as plt\n",
    "from datetime import datetime\n",
    "import geopandas as gpd\n",
    "import folium \n",
    "\n"
   ]
  },
  {
   "cell_type": "markdown",
   "metadata": {},
   "source": [
    "Definiere Settings. Hier das Zahlenformat von Float-Werten (z.B. *'{:,.2f}'.format* mit Komma als Tausenderzeichen), "
   ]
  },
  {
   "cell_type": "code",
   "execution_count": 3,
   "metadata": {},
   "outputs": [],
   "source": [
    "pd.options.display.float_format = '{:.0f}'.format\n",
    "pd.set_option('display.width', 100)\n",
    "pd.set_option('display.max_columns', 15)"
   ]
  },
  {
   "cell_type": "markdown",
   "metadata": {},
   "source": [
    "Importiere einen Datensatz von der **DWH_INT** Dropzone.\n",
    "\n",
    "- Beachte dabei die Notation des Pfades...\n",
    "- Definiere mal aktuell noch keine weiteren Parameter beim Import"
   ]
  },
  {
   "cell_type": "markdown",
   "metadata": {},
   "source": [
    "**Dataset auf INTEG Datenkatalog**: https://data.integ.stadt-zuerich.ch/dataset/bev_bestand_jahr_statzone_herkunft_konfession_od3161"
   ]
  },
  {
   "cell_type": "code",
   "execution_count": 19,
   "metadata": {},
   "outputs": [
    {
     "name": "stdout",
     "output_type": "stream",
     "text": [
      "prod\n"
     ]
    }
   ],
   "source": [
    "#Die Datasets sind nur zum Testen auf INT-DWH-Dropzone. Wenn der Test vorbei ist, sind sie auf PROD. \n",
    "# Über den Status kann man einfach switchen\n",
    "\n",
    "status = \"prod\";\n",
    "print(status)"
   ]
  },
  {
   "cell_type": "code",
   "execution_count": 22,
   "metadata": {},
   "outputs": [
    {
     "name": "stdout",
     "output_type": "stream",
     "text": [
      "\\\\szh\\ssz\\applikationen\\OGD_Dropzone\\DWH\\bev_bestand_jahr_statzone_herkunft_konfession_OD3161/BEV316OD3161.csv\n"
     ]
    }
   ],
   "source": [
    "# Filepath\n",
    "if status == \"prod\":\n",
    "    fp = r\"\\\\szh\\ssz\\applikationen\\OGD_Dropzone\\DWH\\bev_bestand_jahr_statzone_herkunft_konfession_OD3161/BEV316OD3161.csv\"\n",
    "\n",
    "else:\n",
    "    fp = r\"\\\\szh\\ssz\\applikationen\\OGD_Dropzone\\INT_DWH\\bev_bestand_jahr_statzone_herkunft_konfession_OD3161/BEV316OD3161.csv\"\n",
    "    \n",
    "print(fp)"
   ]
  },
  {
   "cell_type": "code",
   "execution_count": 23,
   "metadata": {},
   "outputs": [],
   "source": [
    "\n",
    "# Read the data\n",
    "data2betested = pd.read_csv(\n",
    "    fp, \n",
    "    sep=',',\n",
    "   #usecols=[0,1,2,3,4,6],\n",
    "   #names=['stationid','year','month','avgtemp','latitude','longitude','elevation','station','countryid','country'],\n",
    "   #skiprows=1,\n",
    "   # parse_dates=[0],\n",
    "    parse_dates=True,\n",
    "    #date_parser=lambda x: pd.to_datetime(x, format=\"%Y\"), \n",
    "    #index_col=\"date_time\",\n",
    "    low_memory=False    \n",
    "    )"
   ]
  },
  {
   "cell_type": "markdown",
   "metadata": {},
   "source": [
    "In der Folge ein paar erste Tests:"
   ]
  },
  {
   "cell_type": "code",
   "execution_count": 24,
   "metadata": {},
   "outputs": [
    {
     "data": {
      "text/plain": [
       "pandas.core.frame.DataFrame"
      ]
     },
     "execution_count": 24,
     "metadata": {},
     "output_type": "execute_result"
    }
   ],
   "source": [
    "type(data2betested)"
   ]
  },
  {
   "cell_type": "markdown",
   "metadata": {},
   "source": [
    " - 1) Zeige eine kurze Vorschau der importierten Daten\n",
    " - 2) Weise die Datentypen aus\n",
    " - 3) Zeige die Shape (Umfang) des Datensatzes an"
   ]
  },
  {
   "cell_type": "code",
   "execution_count": 25,
   "metadata": {},
   "outputs": [
    {
     "data": {
      "text/html": [
       "<div>\n",
       "<style scoped>\n",
       "    .dataframe tbody tr th:only-of-type {\n",
       "        vertical-align: middle;\n",
       "    }\n",
       "\n",
       "    .dataframe tbody tr th {\n",
       "        vertical-align: top;\n",
       "    }\n",
       "\n",
       "    .dataframe thead th {\n",
       "        text-align: right;\n",
       "    }\n",
       "</style>\n",
       "<table border=\"1\" class=\"dataframe\">\n",
       "  <thead>\n",
       "    <tr style=\"text-align: right;\">\n",
       "      <th></th>\n",
       "      <th>StichtagDatJahr</th>\n",
       "      <th>StatZoneSort</th>\n",
       "      <th>StatZoneLang</th>\n",
       "      <th>QuarSort</th>\n",
       "      <th>QuarLang</th>\n",
       "      <th>KreisSort</th>\n",
       "      <th>herkunftSort</th>\n",
       "      <th>KonOGDSort</th>\n",
       "      <th>KonOGDKurz</th>\n",
       "      <th>AnzBestWir</th>\n",
       "    </tr>\n",
       "  </thead>\n",
       "  <tbody>\n",
       "    <tr>\n",
       "      <th>0</th>\n",
       "      <td>1993</td>\n",
       "      <td>1101</td>\n",
       "      <td>Zähringerstrasse</td>\n",
       "      <td>11</td>\n",
       "      <td>Rathaus</td>\n",
       "      <td>1</td>\n",
       "      <td>1</td>\n",
       "      <td>1</td>\n",
       "      <td>EV-REF</td>\n",
       "      <td>157</td>\n",
       "    </tr>\n",
       "    <tr>\n",
       "      <th>1</th>\n",
       "      <td>1993</td>\n",
       "      <td>1101</td>\n",
       "      <td>Zähringerstrasse</td>\n",
       "      <td>11</td>\n",
       "      <td>Rathaus</td>\n",
       "      <td>1</td>\n",
       "      <td>1</td>\n",
       "      <td>2</td>\n",
       "      <td>RK</td>\n",
       "      <td>122</td>\n",
       "    </tr>\n",
       "    <tr>\n",
       "      <th>2</th>\n",
       "      <td>1993</td>\n",
       "      <td>1101</td>\n",
       "      <td>Zähringerstrasse</td>\n",
       "      <td>11</td>\n",
       "      <td>Rathaus</td>\n",
       "      <td>1</td>\n",
       "      <td>1</td>\n",
       "      <td>4</td>\n",
       "      <td>andere Konf.</td>\n",
       "      <td>129</td>\n",
       "    </tr>\n",
       "  </tbody>\n",
       "</table>\n",
       "</div>"
      ],
      "text/plain": [
       "   StichtagDatJahr  StatZoneSort      StatZoneLang  QuarSort QuarLang  KreisSort  herkunftSort  \\\n",
       "0             1993          1101  Zähringerstrasse        11  Rathaus          1             1   \n",
       "1             1993          1101  Zähringerstrasse        11  Rathaus          1             1   \n",
       "2             1993          1101  Zähringerstrasse        11  Rathaus          1             1   \n",
       "\n",
       "   KonOGDSort    KonOGDKurz  AnzBestWir  \n",
       "0           1        EV-REF         157  \n",
       "1           2            RK         122  \n",
       "2           4  andere Konf.         129  "
      ]
     },
     "execution_count": 25,
     "metadata": {},
     "output_type": "execute_result"
    }
   ],
   "source": [
    "data2betested.head(3)"
   ]
  },
  {
   "cell_type": "code",
   "execution_count": 26,
   "metadata": {},
   "outputs": [
    {
     "data": {
      "text/plain": [
       "StichtagDatJahr     int64\n",
       "StatZoneSort        int64\n",
       "StatZoneLang       object\n",
       "QuarSort            int64\n",
       "QuarLang           object\n",
       "KreisSort           int64\n",
       "herkunftSort        int64\n",
       "KonOGDSort          int64\n",
       "KonOGDKurz         object\n",
       "AnzBestWir          int64\n",
       "dtype: object"
      ]
     },
     "execution_count": 26,
     "metadata": {},
     "output_type": "execute_result"
    }
   ],
   "source": [
    "data2betested.dtypes"
   ]
  },
  {
   "cell_type": "code",
   "execution_count": 27,
   "metadata": {},
   "outputs": [
    {
     "data": {
      "text/plain": [
       "(35499, 10)"
      ]
     },
     "execution_count": 27,
     "metadata": {},
     "output_type": "execute_result"
    }
   ],
   "source": [
    "data2betested.shape"
   ]
  },
  {
   "cell_type": "markdown",
   "metadata": {},
   "source": [
    "Beschreibe einzelne Attribute"
   ]
  },
  {
   "cell_type": "code",
   "execution_count": 28,
   "metadata": {},
   "outputs": [
    {
     "data": {
      "text/html": [
       "<div>\n",
       "<style scoped>\n",
       "    .dataframe tbody tr th:only-of-type {\n",
       "        vertical-align: middle;\n",
       "    }\n",
       "\n",
       "    .dataframe tbody tr th {\n",
       "        vertical-align: top;\n",
       "    }\n",
       "\n",
       "    .dataframe thead th {\n",
       "        text-align: right;\n",
       "    }\n",
       "</style>\n",
       "<table border=\"1\" class=\"dataframe\">\n",
       "  <thead>\n",
       "    <tr style=\"text-align: right;\">\n",
       "      <th></th>\n",
       "      <th>StichtagDatJahr</th>\n",
       "      <th>StatZoneSort</th>\n",
       "      <th>QuarSort</th>\n",
       "      <th>KreisSort</th>\n",
       "      <th>herkunftSort</th>\n",
       "      <th>KonOGDSort</th>\n",
       "      <th>AnzBestWir</th>\n",
       "    </tr>\n",
       "  </thead>\n",
       "  <tbody>\n",
       "    <tr>\n",
       "      <th>count</th>\n",
       "      <td>35499</td>\n",
       "      <td>35499</td>\n",
       "      <td>35499</td>\n",
       "      <td>35499</td>\n",
       "      <td>35499</td>\n",
       "      <td>35499</td>\n",
       "      <td>35499</td>\n",
       "    </tr>\n",
       "    <tr>\n",
       "      <th>mean</th>\n",
       "      <td>2007</td>\n",
       "      <td>6919</td>\n",
       "      <td>69</td>\n",
       "      <td>7</td>\n",
       "      <td>1</td>\n",
       "      <td>2</td>\n",
       "      <td>302</td>\n",
       "    </tr>\n",
       "    <tr>\n",
       "      <th>std</th>\n",
       "      <td>8</td>\n",
       "      <td>3445</td>\n",
       "      <td>34</td>\n",
       "      <td>3</td>\n",
       "      <td>1</td>\n",
       "      <td>1</td>\n",
       "      <td>267</td>\n",
       "    </tr>\n",
       "    <tr>\n",
       "      <th>min</th>\n",
       "      <td>1993</td>\n",
       "      <td>1101</td>\n",
       "      <td>11</td>\n",
       "      <td>1</td>\n",
       "      <td>1</td>\n",
       "      <td>1</td>\n",
       "      <td>0</td>\n",
       "    </tr>\n",
       "    <tr>\n",
       "      <th>25%</th>\n",
       "      <td>2000</td>\n",
       "      <td>3407</td>\n",
       "      <td>34</td>\n",
       "      <td>3</td>\n",
       "      <td>1</td>\n",
       "      <td>1</td>\n",
       "      <td>78</td>\n",
       "    </tr>\n",
       "    <tr>\n",
       "      <th>50%</th>\n",
       "      <td>2007</td>\n",
       "      <td>7202</td>\n",
       "      <td>72</td>\n",
       "      <td>7</td>\n",
       "      <td>1</td>\n",
       "      <td>2</td>\n",
       "      <td>247</td>\n",
       "    </tr>\n",
       "    <tr>\n",
       "      <th>75%</th>\n",
       "      <td>2014</td>\n",
       "      <td>10102</td>\n",
       "      <td>101</td>\n",
       "      <td>10</td>\n",
       "      <td>2</td>\n",
       "      <td>4</td>\n",
       "      <td>446</td>\n",
       "    </tr>\n",
       "    <tr>\n",
       "      <th>max</th>\n",
       "      <td>2020</td>\n",
       "      <td>12304</td>\n",
       "      <td>123</td>\n",
       "      <td>12</td>\n",
       "      <td>2</td>\n",
       "      <td>4</td>\n",
       "      <td>2258</td>\n",
       "    </tr>\n",
       "  </tbody>\n",
       "</table>\n",
       "</div>"
      ],
      "text/plain": [
       "       StichtagDatJahr  StatZoneSort  QuarSort  KreisSort  herkunftSort  KonOGDSort  AnzBestWir\n",
       "count            35499         35499     35499      35499         35499       35499       35499\n",
       "mean              2007          6919        69          7             1           2         302\n",
       "std                  8          3445        34          3             1           1         267\n",
       "min               1993          1101        11          1             1           1           0\n",
       "25%               2000          3407        34          3             1           1          78\n",
       "50%               2007          7202        72          7             1           2         247\n",
       "75%               2014         10102       101         10             2           4         446\n",
       "max               2020         12304       123         12             2           4        2258"
      ]
     },
     "execution_count": 28,
     "metadata": {},
     "output_type": "execute_result"
    }
   ],
   "source": [
    "data2betested.describe()"
   ]
  },
  {
   "cell_type": "markdown",
   "metadata": {},
   "source": [
    "Wie viele Nullwerte gibt es im Datensatz?"
   ]
  },
  {
   "cell_type": "code",
   "execution_count": 29,
   "metadata": {
    "scrolled": true
   },
   "outputs": [
    {
     "data": {
      "text/plain": [
       "StichtagDatJahr    0\n",
       "StatZoneSort       0\n",
       "StatZoneLang       0\n",
       "QuarSort           0\n",
       "QuarLang           0\n",
       "KreisSort          0\n",
       "herkunftSort       0\n",
       "KonOGDSort         0\n",
       "KonOGDKurz         0\n",
       "AnzBestWir         0\n",
       "dtype: int64"
      ]
     },
     "execution_count": 29,
     "metadata": {},
     "output_type": "execute_result"
    }
   ],
   "source": [
    "data2betested.isnull().sum()"
   ]
  },
  {
   "cell_type": "code",
   "execution_count": null,
   "metadata": {},
   "outputs": [],
   "source": []
  },
  {
   "cell_type": "markdown",
   "metadata": {},
   "source": [
    "Wandle die Spalte Jahr von Int zu **Datetime** um. Dies wird in den meisten Grafiken so benötigt."
   ]
  },
  {
   "cell_type": "code",
   "execution_count": 30,
   "metadata": {
    "scrolled": true
   },
   "outputs": [
    {
     "data": {
      "text/html": [
       "<div>\n",
       "<style scoped>\n",
       "    .dataframe tbody tr th:only-of-type {\n",
       "        vertical-align: middle;\n",
       "    }\n",
       "\n",
       "    .dataframe tbody tr th {\n",
       "        vertical-align: top;\n",
       "    }\n",
       "\n",
       "    .dataframe thead th {\n",
       "        text-align: right;\n",
       "    }\n",
       "</style>\n",
       "<table border=\"1\" class=\"dataframe\">\n",
       "  <thead>\n",
       "    <tr style=\"text-align: right;\">\n",
       "      <th></th>\n",
       "      <th>StichtagDatJahr</th>\n",
       "      <th>StatZoneSort</th>\n",
       "      <th>StatZoneLang</th>\n",
       "      <th>QuarSort</th>\n",
       "      <th>QuarLang</th>\n",
       "      <th>KreisSort</th>\n",
       "      <th>herkunftSort</th>\n",
       "      <th>KonOGDSort</th>\n",
       "      <th>KonOGDKurz</th>\n",
       "      <th>AnzBestWir</th>\n",
       "    </tr>\n",
       "  </thead>\n",
       "  <tbody>\n",
       "    <tr>\n",
       "      <th>0</th>\n",
       "      <td>1993-01-01</td>\n",
       "      <td>1101</td>\n",
       "      <td>Zähringerstrasse</td>\n",
       "      <td>11</td>\n",
       "      <td>Rathaus</td>\n",
       "      <td>1</td>\n",
       "      <td>1</td>\n",
       "      <td>1</td>\n",
       "      <td>EV-REF</td>\n",
       "      <td>157</td>\n",
       "    </tr>\n",
       "    <tr>\n",
       "      <th>1</th>\n",
       "      <td>1993-01-01</td>\n",
       "      <td>1101</td>\n",
       "      <td>Zähringerstrasse</td>\n",
       "      <td>11</td>\n",
       "      <td>Rathaus</td>\n",
       "      <td>1</td>\n",
       "      <td>1</td>\n",
       "      <td>2</td>\n",
       "      <td>RK</td>\n",
       "      <td>122</td>\n",
       "    </tr>\n",
       "    <tr>\n",
       "      <th>2</th>\n",
       "      <td>1993-01-01</td>\n",
       "      <td>1101</td>\n",
       "      <td>Zähringerstrasse</td>\n",
       "      <td>11</td>\n",
       "      <td>Rathaus</td>\n",
       "      <td>1</td>\n",
       "      <td>1</td>\n",
       "      <td>4</td>\n",
       "      <td>andere Konf.</td>\n",
       "      <td>129</td>\n",
       "    </tr>\n",
       "    <tr>\n",
       "      <th>3</th>\n",
       "      <td>1993-01-01</td>\n",
       "      <td>1101</td>\n",
       "      <td>Zähringerstrasse</td>\n",
       "      <td>11</td>\n",
       "      <td>Rathaus</td>\n",
       "      <td>1</td>\n",
       "      <td>2</td>\n",
       "      <td>1</td>\n",
       "      <td>EV-REF</td>\n",
       "      <td>8</td>\n",
       "    </tr>\n",
       "    <tr>\n",
       "      <th>4</th>\n",
       "      <td>1993-01-01</td>\n",
       "      <td>1101</td>\n",
       "      <td>Zähringerstrasse</td>\n",
       "      <td>11</td>\n",
       "      <td>Rathaus</td>\n",
       "      <td>1</td>\n",
       "      <td>2</td>\n",
       "      <td>2</td>\n",
       "      <td>RK</td>\n",
       "      <td>73</td>\n",
       "    </tr>\n",
       "    <tr>\n",
       "      <th>...</th>\n",
       "      <td>...</td>\n",
       "      <td>...</td>\n",
       "      <td>...</td>\n",
       "      <td>...</td>\n",
       "      <td>...</td>\n",
       "      <td>...</td>\n",
       "      <td>...</td>\n",
       "      <td>...</td>\n",
       "      <td>...</td>\n",
       "      <td>...</td>\n",
       "    </tr>\n",
       "    <tr>\n",
       "      <th>35494</th>\n",
       "      <td>2020-01-01</td>\n",
       "      <td>12304</td>\n",
       "      <td>Probsteistrasse</td>\n",
       "      <td>123</td>\n",
       "      <td>Hirzenbach</td>\n",
       "      <td>12</td>\n",
       "      <td>1</td>\n",
       "      <td>2</td>\n",
       "      <td>RK</td>\n",
       "      <td>422</td>\n",
       "    </tr>\n",
       "    <tr>\n",
       "      <th>35495</th>\n",
       "      <td>2020-01-01</td>\n",
       "      <td>12304</td>\n",
       "      <td>Probsteistrasse</td>\n",
       "      <td>123</td>\n",
       "      <td>Hirzenbach</td>\n",
       "      <td>12</td>\n",
       "      <td>1</td>\n",
       "      <td>4</td>\n",
       "      <td>andere Konf.</td>\n",
       "      <td>601</td>\n",
       "    </tr>\n",
       "    <tr>\n",
       "      <th>35496</th>\n",
       "      <td>2020-01-01</td>\n",
       "      <td>12304</td>\n",
       "      <td>Probsteistrasse</td>\n",
       "      <td>123</td>\n",
       "      <td>Hirzenbach</td>\n",
       "      <td>12</td>\n",
       "      <td>2</td>\n",
       "      <td>1</td>\n",
       "      <td>EV-REF</td>\n",
       "      <td>22</td>\n",
       "    </tr>\n",
       "    <tr>\n",
       "      <th>35497</th>\n",
       "      <td>2020-01-01</td>\n",
       "      <td>12304</td>\n",
       "      <td>Probsteistrasse</td>\n",
       "      <td>123</td>\n",
       "      <td>Hirzenbach</td>\n",
       "      <td>12</td>\n",
       "      <td>2</td>\n",
       "      <td>2</td>\n",
       "      <td>RK</td>\n",
       "      <td>165</td>\n",
       "    </tr>\n",
       "    <tr>\n",
       "      <th>35498</th>\n",
       "      <td>2020-01-01</td>\n",
       "      <td>12304</td>\n",
       "      <td>Probsteistrasse</td>\n",
       "      <td>123</td>\n",
       "      <td>Hirzenbach</td>\n",
       "      <td>12</td>\n",
       "      <td>2</td>\n",
       "      <td>4</td>\n",
       "      <td>andere Konf.</td>\n",
       "      <td>209</td>\n",
       "    </tr>\n",
       "  </tbody>\n",
       "</table>\n",
       "<p>35499 rows × 10 columns</p>\n",
       "</div>"
      ],
      "text/plain": [
       "      StichtagDatJahr  StatZoneSort      StatZoneLang  QuarSort    QuarLang  KreisSort  \\\n",
       "0          1993-01-01          1101  Zähringerstrasse        11     Rathaus          1   \n",
       "1          1993-01-01          1101  Zähringerstrasse        11     Rathaus          1   \n",
       "2          1993-01-01          1101  Zähringerstrasse        11     Rathaus          1   \n",
       "3          1993-01-01          1101  Zähringerstrasse        11     Rathaus          1   \n",
       "4          1993-01-01          1101  Zähringerstrasse        11     Rathaus          1   \n",
       "...               ...           ...               ...       ...         ...        ...   \n",
       "35494      2020-01-01         12304   Probsteistrasse       123  Hirzenbach         12   \n",
       "35495      2020-01-01         12304   Probsteistrasse       123  Hirzenbach         12   \n",
       "35496      2020-01-01         12304   Probsteistrasse       123  Hirzenbach         12   \n",
       "35497      2020-01-01         12304   Probsteistrasse       123  Hirzenbach         12   \n",
       "35498      2020-01-01         12304   Probsteistrasse       123  Hirzenbach         12   \n",
       "\n",
       "       herkunftSort  KonOGDSort    KonOGDKurz  AnzBestWir  \n",
       "0                 1           1        EV-REF         157  \n",
       "1                 1           2            RK         122  \n",
       "2                 1           4  andere Konf.         129  \n",
       "3                 2           1        EV-REF           8  \n",
       "4                 2           2            RK          73  \n",
       "...             ...         ...           ...         ...  \n",
       "35494             1           2            RK         422  \n",
       "35495             1           4  andere Konf.         601  \n",
       "35496             2           1        EV-REF          22  \n",
       "35497             2           2            RK         165  \n",
       "35498             2           4  andere Konf.         209  \n",
       "\n",
       "[35499 rows x 10 columns]"
      ]
     },
     "execution_count": 30,
     "metadata": {},
     "output_type": "execute_result"
    }
   ],
   "source": [
    "data2betested['StichtagDatJahr']=pd.to_datetime(data2betested['StichtagDatJahr'], format='%Y')\n",
    "\n",
    "#TO DO --> setze das Datum auf den 31.12. der Jahres.\n",
    "#test=data2betested[['StichtagDatJahr']].date().replace(month=12, day=31)\n",
    "\n",
    "data2betested"
   ]
  },
  {
   "cell_type": "markdown",
   "metadata": {},
   "source": [
    "Bereite die Daten für die Grafik unten vor"
   ]
  },
  {
   "cell_type": "code",
   "execution_count": 31,
   "metadata": {},
   "outputs": [
    {
     "data": {
      "text/plain": [
       "28"
      ]
     },
     "execution_count": 31,
     "metadata": {},
     "output_type": "execute_result"
    }
   ],
   "source": [
    "Jahre = data2betested.groupby(\"StichtagDatJahr\")\n",
    "len(Jahre)"
   ]
  },
  {
   "cell_type": "code",
   "execution_count": 32,
   "metadata": {},
   "outputs": [
    {
     "name": "stdout",
     "output_type": "stream",
     "text": [
      "1993-01-01 00:00:00 1264\n",
      "1994-01-01 00:00:00 1263\n",
      "1995-01-01 00:00:00 1263\n",
      "1996-01-01 00:00:00 1262\n",
      "1997-01-01 00:00:00 1263\n",
      "1998-01-01 00:00:00 1264\n",
      "1999-01-01 00:00:00 1267\n",
      "2000-01-01 00:00:00 1270\n",
      "2001-01-01 00:00:00 1271\n",
      "2002-01-01 00:00:00 1270\n",
      "2003-01-01 00:00:00 1269\n",
      "2004-01-01 00:00:00 1269\n",
      "2005-01-01 00:00:00 1269\n",
      "2006-01-01 00:00:00 1269\n",
      "2007-01-01 00:00:00 1270\n",
      "2008-01-01 00:00:00 1270\n",
      "2009-01-01 00:00:00 1272\n",
      "2010-01-01 00:00:00 1268\n",
      "2011-01-01 00:00:00 1268\n",
      "2012-01-01 00:00:00 1267\n",
      "2013-01-01 00:00:00 1266\n",
      "2014-01-01 00:00:00 1265\n",
      "2015-01-01 00:00:00 1267\n",
      "2016-01-01 00:00:00 1270\n",
      "2017-01-01 00:00:00 1271\n",
      "2018-01-01 00:00:00 1271\n",
      "2019-01-01 00:00:00 1271\n",
      "2020-01-01 00:00:00 1270\n"
     ]
    }
   ],
   "source": [
    "for key, group in Jahre:\n",
    "    print(key, len(group))"
   ]
  },
  {
   "cell_type": "code",
   "execution_count": 33,
   "metadata": {},
   "outputs": [
    {
     "data": {
      "text/html": [
       "<div>\n",
       "<style scoped>\n",
       "    .dataframe tbody tr th:only-of-type {\n",
       "        vertical-align: middle;\n",
       "    }\n",
       "\n",
       "    .dataframe tbody tr th {\n",
       "        vertical-align: top;\n",
       "    }\n",
       "\n",
       "    .dataframe thead th {\n",
       "        text-align: right;\n",
       "    }\n",
       "</style>\n",
       "<table border=\"1\" class=\"dataframe\">\n",
       "  <thead>\n",
       "    <tr style=\"text-align: right;\">\n",
       "      <th></th>\n",
       "      <th>StichtagDatJahr</th>\n",
       "      <th>StatZoneSort</th>\n",
       "      <th>StatZoneLang</th>\n",
       "      <th>QuarSort</th>\n",
       "      <th>QuarLang</th>\n",
       "      <th>KreisSort</th>\n",
       "      <th>herkunftSort</th>\n",
       "      <th>KonOGDSort</th>\n",
       "      <th>KonOGDKurz</th>\n",
       "      <th>AnzBestWir</th>\n",
       "    </tr>\n",
       "  </thead>\n",
       "  <tbody>\n",
       "    <tr>\n",
       "      <th>34229</th>\n",
       "      <td>2020-01-01</td>\n",
       "      <td>1101</td>\n",
       "      <td>Zähringerstrasse</td>\n",
       "      <td>11</td>\n",
       "      <td>Rathaus</td>\n",
       "      <td>1</td>\n",
       "      <td>1</td>\n",
       "      <td>1</td>\n",
       "      <td>EV-REF</td>\n",
       "      <td>79</td>\n",
       "    </tr>\n",
       "    <tr>\n",
       "      <th>34230</th>\n",
       "      <td>2020-01-01</td>\n",
       "      <td>1101</td>\n",
       "      <td>Zähringerstrasse</td>\n",
       "      <td>11</td>\n",
       "      <td>Rathaus</td>\n",
       "      <td>1</td>\n",
       "      <td>1</td>\n",
       "      <td>2</td>\n",
       "      <td>RK</td>\n",
       "      <td>70</td>\n",
       "    </tr>\n",
       "    <tr>\n",
       "      <th>34231</th>\n",
       "      <td>2020-01-01</td>\n",
       "      <td>1101</td>\n",
       "      <td>Zähringerstrasse</td>\n",
       "      <td>11</td>\n",
       "      <td>Rathaus</td>\n",
       "      <td>1</td>\n",
       "      <td>1</td>\n",
       "      <td>4</td>\n",
       "      <td>andere Konf.</td>\n",
       "      <td>171</td>\n",
       "    </tr>\n",
       "    <tr>\n",
       "      <th>34232</th>\n",
       "      <td>2020-01-01</td>\n",
       "      <td>1101</td>\n",
       "      <td>Zähringerstrasse</td>\n",
       "      <td>11</td>\n",
       "      <td>Rathaus</td>\n",
       "      <td>1</td>\n",
       "      <td>2</td>\n",
       "      <td>1</td>\n",
       "      <td>EV-REF</td>\n",
       "      <td>14</td>\n",
       "    </tr>\n",
       "    <tr>\n",
       "      <th>34233</th>\n",
       "      <td>2020-01-01</td>\n",
       "      <td>1101</td>\n",
       "      <td>Zähringerstrasse</td>\n",
       "      <td>11</td>\n",
       "      <td>Rathaus</td>\n",
       "      <td>1</td>\n",
       "      <td>2</td>\n",
       "      <td>2</td>\n",
       "      <td>RK</td>\n",
       "      <td>57</td>\n",
       "    </tr>\n",
       "    <tr>\n",
       "      <th>...</th>\n",
       "      <td>...</td>\n",
       "      <td>...</td>\n",
       "      <td>...</td>\n",
       "      <td>...</td>\n",
       "      <td>...</td>\n",
       "      <td>...</td>\n",
       "      <td>...</td>\n",
       "      <td>...</td>\n",
       "      <td>...</td>\n",
       "      <td>...</td>\n",
       "    </tr>\n",
       "    <tr>\n",
       "      <th>35494</th>\n",
       "      <td>2020-01-01</td>\n",
       "      <td>12304</td>\n",
       "      <td>Probsteistrasse</td>\n",
       "      <td>123</td>\n",
       "      <td>Hirzenbach</td>\n",
       "      <td>12</td>\n",
       "      <td>1</td>\n",
       "      <td>2</td>\n",
       "      <td>RK</td>\n",
       "      <td>422</td>\n",
       "    </tr>\n",
       "    <tr>\n",
       "      <th>35495</th>\n",
       "      <td>2020-01-01</td>\n",
       "      <td>12304</td>\n",
       "      <td>Probsteistrasse</td>\n",
       "      <td>123</td>\n",
       "      <td>Hirzenbach</td>\n",
       "      <td>12</td>\n",
       "      <td>1</td>\n",
       "      <td>4</td>\n",
       "      <td>andere Konf.</td>\n",
       "      <td>601</td>\n",
       "    </tr>\n",
       "    <tr>\n",
       "      <th>35496</th>\n",
       "      <td>2020-01-01</td>\n",
       "      <td>12304</td>\n",
       "      <td>Probsteistrasse</td>\n",
       "      <td>123</td>\n",
       "      <td>Hirzenbach</td>\n",
       "      <td>12</td>\n",
       "      <td>2</td>\n",
       "      <td>1</td>\n",
       "      <td>EV-REF</td>\n",
       "      <td>22</td>\n",
       "    </tr>\n",
       "    <tr>\n",
       "      <th>35497</th>\n",
       "      <td>2020-01-01</td>\n",
       "      <td>12304</td>\n",
       "      <td>Probsteistrasse</td>\n",
       "      <td>123</td>\n",
       "      <td>Hirzenbach</td>\n",
       "      <td>12</td>\n",
       "      <td>2</td>\n",
       "      <td>2</td>\n",
       "      <td>RK</td>\n",
       "      <td>165</td>\n",
       "    </tr>\n",
       "    <tr>\n",
       "      <th>35498</th>\n",
       "      <td>2020-01-01</td>\n",
       "      <td>12304</td>\n",
       "      <td>Probsteistrasse</td>\n",
       "      <td>123</td>\n",
       "      <td>Hirzenbach</td>\n",
       "      <td>12</td>\n",
       "      <td>2</td>\n",
       "      <td>4</td>\n",
       "      <td>andere Konf.</td>\n",
       "      <td>209</td>\n",
       "    </tr>\n",
       "  </tbody>\n",
       "</table>\n",
       "<p>1270 rows × 10 columns</p>\n",
       "</div>"
      ],
      "text/plain": [
       "      StichtagDatJahr  StatZoneSort      StatZoneLang  QuarSort    QuarLang  KreisSort  \\\n",
       "34229      2020-01-01          1101  Zähringerstrasse        11     Rathaus          1   \n",
       "34230      2020-01-01          1101  Zähringerstrasse        11     Rathaus          1   \n",
       "34231      2020-01-01          1101  Zähringerstrasse        11     Rathaus          1   \n",
       "34232      2020-01-01          1101  Zähringerstrasse        11     Rathaus          1   \n",
       "34233      2020-01-01          1101  Zähringerstrasse        11     Rathaus          1   \n",
       "...               ...           ...               ...       ...         ...        ...   \n",
       "35494      2020-01-01         12304   Probsteistrasse       123  Hirzenbach         12   \n",
       "35495      2020-01-01         12304   Probsteistrasse       123  Hirzenbach         12   \n",
       "35496      2020-01-01         12304   Probsteistrasse       123  Hirzenbach         12   \n",
       "35497      2020-01-01         12304   Probsteistrasse       123  Hirzenbach         12   \n",
       "35498      2020-01-01         12304   Probsteistrasse       123  Hirzenbach         12   \n",
       "\n",
       "       herkunftSort  KonOGDSort    KonOGDKurz  AnzBestWir  \n",
       "34229             1           1        EV-REF          79  \n",
       "34230             1           2            RK          70  \n",
       "34231             1           4  andere Konf.         171  \n",
       "34232             2           1        EV-REF          14  \n",
       "34233             2           2            RK          57  \n",
       "...             ...         ...           ...         ...  \n",
       "35494             1           2            RK         422  \n",
       "35495             1           4  andere Konf.         601  \n",
       "35496             2           1        EV-REF          22  \n",
       "35497             2           2            RK         165  \n",
       "35498             2           4  andere Konf.         209  \n",
       "\n",
       "[1270 rows x 10 columns]"
      ]
     },
     "execution_count": 33,
     "metadata": {},
     "output_type": "execute_result"
    }
   ],
   "source": [
    "myJahr = \"2020-01-01\"\n",
    "aktuellesJahr=Jahre.get_group(myJahr)   \n",
    "aktuellesJahr"
   ]
  },
  {
   "cell_type": "markdown",
   "metadata": {},
   "source": [
    "**Selektionen und Aggregationen**\n",
    "\n",
    "Check this [Doku](https://www.shanelynn.ie/summarising-aggregation-and-grouping-data-in-python-pandas/)"
   ]
  },
  {
   "cell_type": "code",
   "execution_count": 34,
   "metadata": {},
   "outputs": [],
   "source": [
    "test = data2betested.groupby(['StichtagDatJahr', 'KonOGDSort'])[['AnzBestWir']].sum()\n",
    "test\n",
    "# produces Pandas Series\n",
    "    #data2betested.groupby(['StichtagDatJahr', 'KonOGDSort'])['AnzBestWir'].sum()\n",
    "# Produces Pandas DataFrame\n",
    "    #data2betested.groupby(['StichtagDatJahr', 'KonOGDSort'])[['AnzBestWir']].sum()\n",
    "    "
   ]
  },
  {
   "cell_type": "code",
   "execution_count": 37,
   "metadata": {},
   "outputs": [
    {
     "data": {
      "text/html": [
       "<div>\n",
       "<style scoped>\n",
       "    .dataframe tbody tr th:only-of-type {\n",
       "        vertical-align: middle;\n",
       "    }\n",
       "\n",
       "    .dataframe tbody tr th {\n",
       "        vertical-align: top;\n",
       "    }\n",
       "\n",
       "    .dataframe thead th {\n",
       "        text-align: right;\n",
       "    }\n",
       "</style>\n",
       "<table border=\"1\" class=\"dataframe\">\n",
       "  <thead>\n",
       "    <tr style=\"text-align: right;\">\n",
       "      <th></th>\n",
       "      <th></th>\n",
       "      <th></th>\n",
       "      <th></th>\n",
       "      <th></th>\n",
       "      <th>sum_AnzBestWir</th>\n",
       "    </tr>\n",
       "    <tr>\n",
       "      <th>QuarLang</th>\n",
       "      <th>KreisSort</th>\n",
       "      <th>herkunftSort</th>\n",
       "      <th>KonOGDKurz</th>\n",
       "      <th>AnzBestWir</th>\n",
       "      <th></th>\n",
       "    </tr>\n",
       "  </thead>\n",
       "  <tbody>\n",
       "    <tr>\n",
       "      <th rowspan=\"3\" valign=\"top\">Affoltern</th>\n",
       "      <th rowspan=\"3\" valign=\"top\">11</th>\n",
       "      <th rowspan=\"3\" valign=\"top\">1</th>\n",
       "      <th rowspan=\"3\" valign=\"top\">EV-REF</th>\n",
       "      <th>2258</th>\n",
       "      <td>2258</td>\n",
       "    </tr>\n",
       "    <tr>\n",
       "      <th>2197</th>\n",
       "      <td>2197</td>\n",
       "    </tr>\n",
       "    <tr>\n",
       "      <th>2092</th>\n",
       "      <td>2092</td>\n",
       "    </tr>\n",
       "  </tbody>\n",
       "</table>\n",
       "</div>"
      ],
      "text/plain": [
       "                                                        sum_AnzBestWir\n",
       "QuarLang  KreisSort herkunftSort KonOGDKurz AnzBestWir                \n",
       "Affoltern 11        1            EV-REF     2258                  2258\n",
       "                                            2197                  2197\n",
       "                                            2092                  2092"
      ]
     },
     "execution_count": 37,
     "metadata": {},
     "output_type": "execute_result"
    }
   ],
   "source": [
    "sel_forpivot =data2betested[(data2betested.AnzBestWir>0)&(data2betested.KonOGDKurz != \"Andere\")]\n",
    "\n",
    "forpivot = sel_forpivot\n",
    "forpivot \\\n",
    "    .groupby(['QuarLang','KreisSort','herkunftSort', 'KonOGDKurz', 'AnzBestWir']) \\\n",
    "    .agg(sum_AnzBestWir=('AnzBestWir', 'sum')) \\\n",
    "    .query('AnzBestWir > 0') \\\n",
    "    .sort_values('AnzBestWir', ascending=False) \\\n",
    "    .head(3)"
   ]
  },
  {
   "cell_type": "markdown",
   "metadata": {},
   "source": [
    "**Einfache Visualisierungen zur Plausi**"
   ]
  },
  {
   "cell_type": "markdown",
   "metadata": {},
   "source": [
    "Exploriere die Daten mit Pivottable.JS"
   ]
  },
  {
   "cell_type": "code",
   "execution_count": 38,
   "metadata": {},
   "outputs": [
    {
     "data": {
      "text/html": [
       "\n",
       "        <iframe\n",
       "            width=\"100%\"\n",
       "            height=\"500\"\n",
       "            src=\"pivottablejs.html\"\n",
       "            frameborder=\"0\"\n",
       "            allowfullscreen\n",
       "        ></iframe>\n",
       "        "
      ],
      "text/plain": [
       "<IPython.lib.display.IFrame at 0x243d1e72310>"
      ]
     },
     "execution_count": 38,
     "metadata": {},
     "output_type": "execute_result"
    }
   ],
   "source": [
    "from pivottablejs import pivot_ui\n",
    "\n",
    "pivot_ui(data2betested)"
   ]
  },
  {
   "cell_type": "markdown",
   "metadata": {},
   "source": [
    "Liniendiagramm \n",
    "[Link zur Doku](https://altair-viz.github.io/gallery/multiline_highlight.html)"
   ]
  },
  {
   "cell_type": "code",
   "execution_count": 44,
   "metadata": {},
   "outputs": [
    {
     "data": {
      "text/html": [
       "<div>\n",
       "<style scoped>\n",
       "    .dataframe tbody tr th:only-of-type {\n",
       "        vertical-align: middle;\n",
       "    }\n",
       "\n",
       "    .dataframe tbody tr th {\n",
       "        vertical-align: top;\n",
       "    }\n",
       "\n",
       "    .dataframe thead th {\n",
       "        text-align: right;\n",
       "    }\n",
       "</style>\n",
       "<table border=\"1\" class=\"dataframe\">\n",
       "  <thead>\n",
       "    <tr style=\"text-align: right;\">\n",
       "      <th></th>\n",
       "      <th>StichtagDatJahr</th>\n",
       "      <th>StatZoneSort</th>\n",
       "      <th>StatZoneLang</th>\n",
       "      <th>QuarSort</th>\n",
       "      <th>QuarLang</th>\n",
       "      <th>KreisSort</th>\n",
       "      <th>herkunftSort</th>\n",
       "      <th>KonOGDSort</th>\n",
       "      <th>KonOGDKurz</th>\n",
       "      <th>AnzBestWir</th>\n",
       "    </tr>\n",
       "  </thead>\n",
       "  <tbody>\n",
       "    <tr>\n",
       "      <th>34229</th>\n",
       "      <td>2020-01-01</td>\n",
       "      <td>1101</td>\n",
       "      <td>Zähringerstrasse</td>\n",
       "      <td>11</td>\n",
       "      <td>Rathaus</td>\n",
       "      <td>1</td>\n",
       "      <td>1</td>\n",
       "      <td>1</td>\n",
       "      <td>EV-REF</td>\n",
       "      <td>79</td>\n",
       "    </tr>\n",
       "    <tr>\n",
       "      <th>34230</th>\n",
       "      <td>2020-01-01</td>\n",
       "      <td>1101</td>\n",
       "      <td>Zähringerstrasse</td>\n",
       "      <td>11</td>\n",
       "      <td>Rathaus</td>\n",
       "      <td>1</td>\n",
       "      <td>1</td>\n",
       "      <td>2</td>\n",
       "      <td>RK</td>\n",
       "      <td>70</td>\n",
       "    </tr>\n",
       "    <tr>\n",
       "      <th>34231</th>\n",
       "      <td>2020-01-01</td>\n",
       "      <td>1101</td>\n",
       "      <td>Zähringerstrasse</td>\n",
       "      <td>11</td>\n",
       "      <td>Rathaus</td>\n",
       "      <td>1</td>\n",
       "      <td>1</td>\n",
       "      <td>4</td>\n",
       "      <td>andere Konf.</td>\n",
       "      <td>171</td>\n",
       "    </tr>\n",
       "    <tr>\n",
       "      <th>34232</th>\n",
       "      <td>2020-01-01</td>\n",
       "      <td>1101</td>\n",
       "      <td>Zähringerstrasse</td>\n",
       "      <td>11</td>\n",
       "      <td>Rathaus</td>\n",
       "      <td>1</td>\n",
       "      <td>2</td>\n",
       "      <td>1</td>\n",
       "      <td>EV-REF</td>\n",
       "      <td>14</td>\n",
       "    </tr>\n",
       "    <tr>\n",
       "      <th>34233</th>\n",
       "      <td>2020-01-01</td>\n",
       "      <td>1101</td>\n",
       "      <td>Zähringerstrasse</td>\n",
       "      <td>11</td>\n",
       "      <td>Rathaus</td>\n",
       "      <td>1</td>\n",
       "      <td>2</td>\n",
       "      <td>2</td>\n",
       "      <td>RK</td>\n",
       "      <td>57</td>\n",
       "    </tr>\n",
       "  </tbody>\n",
       "</table>\n",
       "</div>"
      ],
      "text/plain": [
       "      StichtagDatJahr  StatZoneSort      StatZoneLang  QuarSort QuarLang  KreisSort  herkunftSort  \\\n",
       "34229      2020-01-01          1101  Zähringerstrasse        11  Rathaus          1             1   \n",
       "34230      2020-01-01          1101  Zähringerstrasse        11  Rathaus          1             1   \n",
       "34231      2020-01-01          1101  Zähringerstrasse        11  Rathaus          1             1   \n",
       "34232      2020-01-01          1101  Zähringerstrasse        11  Rathaus          1             2   \n",
       "34233      2020-01-01          1101  Zähringerstrasse        11  Rathaus          1             2   \n",
       "\n",
       "       KonOGDSort    KonOGDKurz  AnzBestWir  \n",
       "34229           1        EV-REF          79  \n",
       "34230           2            RK          70  \n",
       "34231           4  andere Konf.         171  \n",
       "34232           1        EV-REF          14  \n",
       "34233           2            RK          57  "
      ]
     },
     "execution_count": 44,
     "metadata": {},
     "output_type": "execute_result"
    }
   ],
   "source": [
    "mySelection = aktuellesJahr[(aktuellesJahr.KreisSort<2) & (aktuellesJahr.KonOGDSort!=5)]\n",
    "mySelection.head()\n"
   ]
  },
  {
   "cell_type": "code",
   "execution_count": 45,
   "metadata": {},
   "outputs": [],
   "source": [
    "#mySelection = aktuellesJahr[[\"StatZoneSort\",\"AnzBestWir\"]]\n",
    "#mySelection"
   ]
  },
  {
   "cell_type": "code",
   "execution_count": 46,
   "metadata": {},
   "outputs": [
    {
     "data": {
      "text/html": [
       "\n",
       "<div id=\"altair-viz-aa71daee0d814d87813c49128377eb57\"></div>\n",
       "<script type=\"text/javascript\">\n",
       "  (function(spec, embedOpt){\n",
       "    let outputDiv = document.currentScript.previousElementSibling;\n",
       "    if (outputDiv.id !== \"altair-viz-aa71daee0d814d87813c49128377eb57\") {\n",
       "      outputDiv = document.getElementById(\"altair-viz-aa71daee0d814d87813c49128377eb57\");\n",
       "    }\n",
       "    const paths = {\n",
       "      \"vega\": \"https://cdn.jsdelivr.net/npm//vega@5?noext\",\n",
       "      \"vega-lib\": \"https://cdn.jsdelivr.net/npm//vega-lib?noext\",\n",
       "      \"vega-lite\": \"https://cdn.jsdelivr.net/npm//vega-lite@4.8.1?noext\",\n",
       "      \"vega-embed\": \"https://cdn.jsdelivr.net/npm//vega-embed@6?noext\",\n",
       "    };\n",
       "\n",
       "    function loadScript(lib) {\n",
       "      return new Promise(function(resolve, reject) {\n",
       "        var s = document.createElement('script');\n",
       "        s.src = paths[lib];\n",
       "        s.async = true;\n",
       "        s.onload = () => resolve(paths[lib]);\n",
       "        s.onerror = () => reject(`Error loading script: ${paths[lib]}`);\n",
       "        document.getElementsByTagName(\"head\")[0].appendChild(s);\n",
       "      });\n",
       "    }\n",
       "\n",
       "    function showError(err) {\n",
       "      outputDiv.innerHTML = `<div class=\"error\" style=\"color:red;\">${err}</div>`;\n",
       "      throw err;\n",
       "    }\n",
       "\n",
       "    function displayChart(vegaEmbed) {\n",
       "      vegaEmbed(outputDiv, spec, embedOpt)\n",
       "        .catch(err => showError(`Javascript Error: ${err.message}<br>This usually means there's a typo in your chart specification. See the javascript console for the full traceback.`));\n",
       "    }\n",
       "\n",
       "    if(typeof define === \"function\" && define.amd) {\n",
       "      requirejs.config({paths});\n",
       "      require([\"vega-embed\"], displayChart, err => showError(`Error loading script: ${err.message}`));\n",
       "    } else if (typeof vegaEmbed === \"function\") {\n",
       "      displayChart(vegaEmbed);\n",
       "    } else {\n",
       "      loadScript(\"vega\")\n",
       "        .then(() => loadScript(\"vega-lite\"))\n",
       "        .then(() => loadScript(\"vega-embed\"))\n",
       "        .catch(showError)\n",
       "        .then(() => displayChart(vegaEmbed));\n",
       "    }\n",
       "  })({\"config\": {\"view\": {\"continuousWidth\": 400, \"continuousHeight\": 300}}, \"layer\": [{\"mark\": \"circle\", \"encoding\": {\"color\": {\"type\": \"nominal\", \"field\": \"KonOGDKurz\"}, \"opacity\": {\"value\": 0}, \"x\": {\"type\": \"nominal\", \"field\": \"StatZoneLang\"}, \"y\": {\"type\": \"quantitative\", \"field\": \"AnzBestWir\"}}, \"height\": 300, \"selection\": {\"selector004\": {\"type\": \"single\", \"on\": \"mouseover\", \"fields\": [\"KonOGDKurz\"], \"nearest\": true}}, \"width\": 700}, {\"mark\": \"line\", \"encoding\": {\"color\": {\"type\": \"nominal\", \"field\": \"KonOGDKurz\"}, \"size\": {\"condition\": {\"value\": 1.5, \"selection\": {\"not\": \"selector004\"}}, \"value\": 4}, \"x\": {\"type\": \"nominal\", \"field\": \"StatZoneLang\"}, \"y\": {\"type\": \"quantitative\", \"field\": \"AnzBestWir\"}}, \"selection\": {\"selector005\": {\"type\": \"interval\", \"bind\": \"scales\", \"encodings\": [\"x\", \"y\"]}}}], \"data\": {\"name\": \"data-578fb64d44ada5e0c7ce60f40e037a4f\"}, \"$schema\": \"https://vega.github.io/schema/vega-lite/v4.8.1.json\", \"datasets\": {\"data-578fb64d44ada5e0c7ce60f40e037a4f\": [{\"StichtagDatJahr\": \"2020-01-01T00:00:00\", \"StatZoneSort\": 1101, \"StatZoneLang\": \"Z\\u00e4hringerstrasse\", \"QuarSort\": 11, \"QuarLang\": \"Rathaus\", \"KreisSort\": 1, \"herkunftSort\": 1, \"KonOGDSort\": 1, \"KonOGDKurz\": \"EV-REF\", \"AnzBestWir\": 79}, {\"StichtagDatJahr\": \"2020-01-01T00:00:00\", \"StatZoneSort\": 1101, \"StatZoneLang\": \"Z\\u00e4hringerstrasse\", \"QuarSort\": 11, \"QuarLang\": \"Rathaus\", \"KreisSort\": 1, \"herkunftSort\": 1, \"KonOGDSort\": 2, \"KonOGDKurz\": \"RK\", \"AnzBestWir\": 70}, {\"StichtagDatJahr\": \"2020-01-01T00:00:00\", \"StatZoneSort\": 1101, \"StatZoneLang\": \"Z\\u00e4hringerstrasse\", \"QuarSort\": 11, \"QuarLang\": \"Rathaus\", \"KreisSort\": 1, \"herkunftSort\": 1, \"KonOGDSort\": 4, \"KonOGDKurz\": \"andere Konf.\", \"AnzBestWir\": 171}, {\"StichtagDatJahr\": \"2020-01-01T00:00:00\", \"StatZoneSort\": 1101, \"StatZoneLang\": \"Z\\u00e4hringerstrasse\", \"QuarSort\": 11, \"QuarLang\": \"Rathaus\", \"KreisSort\": 1, \"herkunftSort\": 2, \"KonOGDSort\": 1, \"KonOGDKurz\": \"EV-REF\", \"AnzBestWir\": 14}, {\"StichtagDatJahr\": \"2020-01-01T00:00:00\", \"StatZoneSort\": 1101, \"StatZoneLang\": \"Z\\u00e4hringerstrasse\", \"QuarSort\": 11, \"QuarLang\": \"Rathaus\", \"KreisSort\": 1, \"herkunftSort\": 2, \"KonOGDSort\": 2, \"KonOGDKurz\": \"RK\", \"AnzBestWir\": 57}, {\"StichtagDatJahr\": \"2020-01-01T00:00:00\", \"StatZoneSort\": 1101, \"StatZoneLang\": \"Z\\u00e4hringerstrasse\", \"QuarSort\": 11, \"QuarLang\": \"Rathaus\", \"KreisSort\": 1, \"herkunftSort\": 2, \"KonOGDSort\": 4, \"KonOGDKurz\": \"andere Konf.\", \"AnzBestWir\": 207}, {\"StichtagDatJahr\": \"2020-01-01T00:00:00\", \"StatZoneSort\": 1102, \"StatZoneLang\": \"Prediger\", \"QuarSort\": 11, \"QuarLang\": \"Rathaus\", \"KreisSort\": 1, \"herkunftSort\": 1, \"KonOGDSort\": 1, \"KonOGDKurz\": \"EV-REF\", \"AnzBestWir\": 247}, {\"StichtagDatJahr\": \"2020-01-01T00:00:00\", \"StatZoneSort\": 1102, \"StatZoneLang\": \"Prediger\", \"QuarSort\": 11, \"QuarLang\": \"Rathaus\", \"KreisSort\": 1, \"herkunftSort\": 1, \"KonOGDSort\": 2, \"KonOGDKurz\": \"RK\", \"AnzBestWir\": 145}, {\"StichtagDatJahr\": \"2020-01-01T00:00:00\", \"StatZoneSort\": 1102, \"StatZoneLang\": \"Prediger\", \"QuarSort\": 11, \"QuarLang\": \"Rathaus\", \"KreisSort\": 1, \"herkunftSort\": 1, \"KonOGDSort\": 4, \"KonOGDKurz\": \"andere Konf.\", \"AnzBestWir\": 378}, {\"StichtagDatJahr\": \"2020-01-01T00:00:00\", \"StatZoneSort\": 1102, \"StatZoneLang\": \"Prediger\", \"QuarSort\": 11, \"QuarLang\": \"Rathaus\", \"KreisSort\": 1, \"herkunftSort\": 2, \"KonOGDSort\": 1, \"KonOGDKurz\": \"EV-REF\", \"AnzBestWir\": 24}, {\"StichtagDatJahr\": \"2020-01-01T00:00:00\", \"StatZoneSort\": 1102, \"StatZoneLang\": \"Prediger\", \"QuarSort\": 11, \"QuarLang\": \"Rathaus\", \"KreisSort\": 1, \"herkunftSort\": 2, \"KonOGDSort\": 2, \"KonOGDKurz\": \"RK\", \"AnzBestWir\": 43}, {\"StichtagDatJahr\": \"2020-01-01T00:00:00\", \"StatZoneSort\": 1102, \"StatZoneLang\": \"Prediger\", \"QuarSort\": 11, \"QuarLang\": \"Rathaus\", \"KreisSort\": 1, \"herkunftSort\": 2, \"KonOGDSort\": 4, \"KonOGDKurz\": \"andere Konf.\", \"AnzBestWir\": 188}, {\"StichtagDatJahr\": \"2020-01-01T00:00:00\", \"StatZoneSort\": 1103, \"StatZoneLang\": \"Grossm\\u00fcnster\", \"QuarSort\": 11, \"QuarLang\": \"Rathaus\", \"KreisSort\": 1, \"herkunftSort\": 1, \"KonOGDSort\": 1, \"KonOGDKurz\": \"EV-REF\", \"AnzBestWir\": 241}, {\"StichtagDatJahr\": \"2020-01-01T00:00:00\", \"StatZoneSort\": 1103, \"StatZoneLang\": \"Grossm\\u00fcnster\", \"QuarSort\": 11, \"QuarLang\": \"Rathaus\", \"KreisSort\": 1, \"herkunftSort\": 1, \"KonOGDSort\": 2, \"KonOGDKurz\": \"RK\", \"AnzBestWir\": 136}, {\"StichtagDatJahr\": \"2020-01-01T00:00:00\", \"StatZoneSort\": 1103, \"StatZoneLang\": \"Grossm\\u00fcnster\", \"QuarSort\": 11, \"QuarLang\": \"Rathaus\", \"KreisSort\": 1, \"herkunftSort\": 1, \"KonOGDSort\": 4, \"KonOGDKurz\": \"andere Konf.\", \"AnzBestWir\": 282}, {\"StichtagDatJahr\": \"2020-01-01T00:00:00\", \"StatZoneSort\": 1103, \"StatZoneLang\": \"Grossm\\u00fcnster\", \"QuarSort\": 11, \"QuarLang\": \"Rathaus\", \"KreisSort\": 1, \"herkunftSort\": 2, \"KonOGDSort\": 1, \"KonOGDKurz\": \"EV-REF\", \"AnzBestWir\": 17}, {\"StichtagDatJahr\": \"2020-01-01T00:00:00\", \"StatZoneSort\": 1103, \"StatZoneLang\": \"Grossm\\u00fcnster\", \"QuarSort\": 11, \"QuarLang\": \"Rathaus\", \"KreisSort\": 1, \"herkunftSort\": 2, \"KonOGDSort\": 2, \"KonOGDKurz\": \"RK\", \"AnzBestWir\": 73}, {\"StichtagDatJahr\": \"2020-01-01T00:00:00\", \"StatZoneSort\": 1103, \"StatZoneLang\": \"Grossm\\u00fcnster\", \"QuarSort\": 11, \"QuarLang\": \"Rathaus\", \"KreisSort\": 1, \"herkunftSort\": 2, \"KonOGDSort\": 4, \"KonOGDKurz\": \"andere Konf.\", \"AnzBestWir\": 199}, {\"StichtagDatJahr\": \"2020-01-01T00:00:00\", \"StatZoneSort\": 1104, \"StatZoneLang\": \"Oberdorf\", \"QuarSort\": 11, \"QuarLang\": \"Rathaus\", \"KreisSort\": 1, \"herkunftSort\": 1, \"KonOGDSort\": 1, \"KonOGDKurz\": \"EV-REF\", \"AnzBestWir\": 158}, {\"StichtagDatJahr\": \"2020-01-01T00:00:00\", \"StatZoneSort\": 1104, \"StatZoneLang\": \"Oberdorf\", \"QuarSort\": 11, \"QuarLang\": \"Rathaus\", \"KreisSort\": 1, \"herkunftSort\": 1, \"KonOGDSort\": 2, \"KonOGDKurz\": \"RK\", \"AnzBestWir\": 126}, {\"StichtagDatJahr\": \"2020-01-01T00:00:00\", \"StatZoneSort\": 1104, \"StatZoneLang\": \"Oberdorf\", \"QuarSort\": 11, \"QuarLang\": \"Rathaus\", \"KreisSort\": 1, \"herkunftSort\": 1, \"KonOGDSort\": 4, \"KonOGDKurz\": \"andere Konf.\", \"AnzBestWir\": 263}, {\"StichtagDatJahr\": \"2020-01-01T00:00:00\", \"StatZoneSort\": 1104, \"StatZoneLang\": \"Oberdorf\", \"QuarSort\": 11, \"QuarLang\": \"Rathaus\", \"KreisSort\": 1, \"herkunftSort\": 2, \"KonOGDSort\": 1, \"KonOGDKurz\": \"EV-REF\", \"AnzBestWir\": 16}, {\"StichtagDatJahr\": \"2020-01-01T00:00:00\", \"StatZoneSort\": 1104, \"StatZoneLang\": \"Oberdorf\", \"QuarSort\": 11, \"QuarLang\": \"Rathaus\", \"KreisSort\": 1, \"herkunftSort\": 2, \"KonOGDSort\": 2, \"KonOGDKurz\": \"RK\", \"AnzBestWir\": 37}, {\"StichtagDatJahr\": \"2020-01-01T00:00:00\", \"StatZoneSort\": 1104, \"StatZoneLang\": \"Oberdorf\", \"QuarSort\": 11, \"QuarLang\": \"Rathaus\", \"KreisSort\": 1, \"herkunftSort\": 2, \"KonOGDSort\": 4, \"KonOGDKurz\": \"andere Konf.\", \"AnzBestWir\": 146}, {\"StichtagDatJahr\": \"2020-01-01T00:00:00\", \"StatZoneSort\": 1201, \"StatZoneLang\": \"Central\", \"QuarSort\": 12, \"QuarLang\": \"Hochschulen\", \"KreisSort\": 1, \"herkunftSort\": 1, \"KonOGDSort\": 1, \"KonOGDKurz\": \"EV-REF\", \"AnzBestWir\": 91}, {\"StichtagDatJahr\": \"2020-01-01T00:00:00\", \"StatZoneSort\": 1201, \"StatZoneLang\": \"Central\", \"QuarSort\": 12, \"QuarLang\": \"Hochschulen\", \"KreisSort\": 1, \"herkunftSort\": 1, \"KonOGDSort\": 2, \"KonOGDKurz\": \"RK\", \"AnzBestWir\": 72}, {\"StichtagDatJahr\": \"2020-01-01T00:00:00\", \"StatZoneSort\": 1201, \"StatZoneLang\": \"Central\", \"QuarSort\": 12, \"QuarLang\": \"Hochschulen\", \"KreisSort\": 1, \"herkunftSort\": 1, \"KonOGDSort\": 4, \"KonOGDKurz\": \"andere Konf.\", \"AnzBestWir\": 74}, {\"StichtagDatJahr\": \"2020-01-01T00:00:00\", \"StatZoneSort\": 1201, \"StatZoneLang\": \"Central\", \"QuarSort\": 12, \"QuarLang\": \"Hochschulen\", \"KreisSort\": 1, \"herkunftSort\": 2, \"KonOGDSort\": 1, \"KonOGDKurz\": \"EV-REF\", \"AnzBestWir\": 11}, {\"StichtagDatJahr\": \"2020-01-01T00:00:00\", \"StatZoneSort\": 1201, \"StatZoneLang\": \"Central\", \"QuarSort\": 12, \"QuarLang\": \"Hochschulen\", \"KreisSort\": 1, \"herkunftSort\": 2, \"KonOGDSort\": 2, \"KonOGDKurz\": \"RK\", \"AnzBestWir\": 27}, {\"StichtagDatJahr\": \"2020-01-01T00:00:00\", \"StatZoneSort\": 1201, \"StatZoneLang\": \"Central\", \"QuarSort\": 12, \"QuarLang\": \"Hochschulen\", \"KreisSort\": 1, \"herkunftSort\": 2, \"KonOGDSort\": 4, \"KonOGDKurz\": \"andere Konf.\", \"AnzBestWir\": 82}, {\"StichtagDatJahr\": \"2020-01-01T00:00:00\", \"StatZoneSort\": 1202, \"StatZoneLang\": \"ETH / Universit\\u00e4t\", \"QuarSort\": 12, \"QuarLang\": \"Hochschulen\", \"KreisSort\": 1, \"herkunftSort\": 1, \"KonOGDSort\": 1, \"KonOGDKurz\": \"EV-REF\", \"AnzBestWir\": 11}, {\"StichtagDatJahr\": \"2020-01-01T00:00:00\", \"StatZoneSort\": 1202, \"StatZoneLang\": \"ETH / Universit\\u00e4t\", \"QuarSort\": 12, \"QuarLang\": \"Hochschulen\", \"KreisSort\": 1, \"herkunftSort\": 1, \"KonOGDSort\": 2, \"KonOGDKurz\": \"RK\", \"AnzBestWir\": 19}, {\"StichtagDatJahr\": \"2020-01-01T00:00:00\", \"StatZoneSort\": 1202, \"StatZoneLang\": \"ETH / Universit\\u00e4t\", \"QuarSort\": 12, \"QuarLang\": \"Hochschulen\", \"KreisSort\": 1, \"herkunftSort\": 1, \"KonOGDSort\": 4, \"KonOGDKurz\": \"andere Konf.\", \"AnzBestWir\": 18}, {\"StichtagDatJahr\": \"2020-01-01T00:00:00\", \"StatZoneSort\": 1202, \"StatZoneLang\": \"ETH / Universit\\u00e4t\", \"QuarSort\": 12, \"QuarLang\": \"Hochschulen\", \"KreisSort\": 1, \"herkunftSort\": 2, \"KonOGDSort\": 1, \"KonOGDKurz\": \"EV-REF\", \"AnzBestWir\": 2}, {\"StichtagDatJahr\": \"2020-01-01T00:00:00\", \"StatZoneSort\": 1202, \"StatZoneLang\": \"ETH / Universit\\u00e4t\", \"QuarSort\": 12, \"QuarLang\": \"Hochschulen\", \"KreisSort\": 1, \"herkunftSort\": 2, \"KonOGDSort\": 2, \"KonOGDKurz\": \"RK\", \"AnzBestWir\": 4}, {\"StichtagDatJahr\": \"2020-01-01T00:00:00\", \"StatZoneSort\": 1202, \"StatZoneLang\": \"ETH / Universit\\u00e4t\", \"QuarSort\": 12, \"QuarLang\": \"Hochschulen\", \"KreisSort\": 1, \"herkunftSort\": 2, \"KonOGDSort\": 4, \"KonOGDKurz\": \"andere Konf.\", \"AnzBestWir\": 7}, {\"StichtagDatJahr\": \"2020-01-01T00:00:00\", \"StatZoneSort\": 1203, \"StatZoneLang\": \"Bellevue\", \"QuarSort\": 12, \"QuarLang\": \"Hochschulen\", \"KreisSort\": 1, \"herkunftSort\": 1, \"KonOGDSort\": 1, \"KonOGDKurz\": \"EV-REF\", \"AnzBestWir\": 47}, {\"StichtagDatJahr\": \"2020-01-01T00:00:00\", \"StatZoneSort\": 1203, \"StatZoneLang\": \"Bellevue\", \"QuarSort\": 12, \"QuarLang\": \"Hochschulen\", \"KreisSort\": 1, \"herkunftSort\": 1, \"KonOGDSort\": 2, \"KonOGDKurz\": \"RK\", \"AnzBestWir\": 31}, {\"StichtagDatJahr\": \"2020-01-01T00:00:00\", \"StatZoneSort\": 1203, \"StatZoneLang\": \"Bellevue\", \"QuarSort\": 12, \"QuarLang\": \"Hochschulen\", \"KreisSort\": 1, \"herkunftSort\": 1, \"KonOGDSort\": 4, \"KonOGDKurz\": \"andere Konf.\", \"AnzBestWir\": 101}, {\"StichtagDatJahr\": \"2020-01-01T00:00:00\", \"StatZoneSort\": 1203, \"StatZoneLang\": \"Bellevue\", \"QuarSort\": 12, \"QuarLang\": \"Hochschulen\", \"KreisSort\": 1, \"herkunftSort\": 2, \"KonOGDSort\": 1, \"KonOGDKurz\": \"EV-REF\", \"AnzBestWir\": 1}, {\"StichtagDatJahr\": \"2020-01-01T00:00:00\", \"StatZoneSort\": 1203, \"StatZoneLang\": \"Bellevue\", \"QuarSort\": 12, \"QuarLang\": \"Hochschulen\", \"KreisSort\": 1, \"herkunftSort\": 2, \"KonOGDSort\": 2, \"KonOGDKurz\": \"RK\", \"AnzBestWir\": 8}, {\"StichtagDatJahr\": \"2020-01-01T00:00:00\", \"StatZoneSort\": 1203, \"StatZoneLang\": \"Bellevue\", \"QuarSort\": 12, \"QuarLang\": \"Hochschulen\", \"KreisSort\": 1, \"herkunftSort\": 2, \"KonOGDSort\": 4, \"KonOGDKurz\": \"andere Konf.\", \"AnzBestWir\": 69}, {\"StichtagDatJahr\": \"2020-01-01T00:00:00\", \"StatZoneSort\": 1301, \"StatZoneLang\": \"Schipfe\", \"QuarSort\": 13, \"QuarLang\": \"Lindenhof\", \"KreisSort\": 1, \"herkunftSort\": 1, \"KonOGDSort\": 1, \"KonOGDKurz\": \"EV-REF\", \"AnzBestWir\": 107}, {\"StichtagDatJahr\": \"2020-01-01T00:00:00\", \"StatZoneSort\": 1301, \"StatZoneLang\": \"Schipfe\", \"QuarSort\": 13, \"QuarLang\": \"Lindenhof\", \"KreisSort\": 1, \"herkunftSort\": 1, \"KonOGDSort\": 2, \"KonOGDKurz\": \"RK\", \"AnzBestWir\": 82}, {\"StichtagDatJahr\": \"2020-01-01T00:00:00\", \"StatZoneSort\": 1301, \"StatZoneLang\": \"Schipfe\", \"QuarSort\": 13, \"QuarLang\": \"Lindenhof\", \"KreisSort\": 1, \"herkunftSort\": 1, \"KonOGDSort\": 4, \"KonOGDKurz\": \"andere Konf.\", \"AnzBestWir\": 185}, {\"StichtagDatJahr\": \"2020-01-01T00:00:00\", \"StatZoneSort\": 1301, \"StatZoneLang\": \"Schipfe\", \"QuarSort\": 13, \"QuarLang\": \"Lindenhof\", \"KreisSort\": 1, \"herkunftSort\": 2, \"KonOGDSort\": 1, \"KonOGDKurz\": \"EV-REF\", \"AnzBestWir\": 12}, {\"StichtagDatJahr\": \"2020-01-01T00:00:00\", \"StatZoneSort\": 1301, \"StatZoneLang\": \"Schipfe\", \"QuarSort\": 13, \"QuarLang\": \"Lindenhof\", \"KreisSort\": 1, \"herkunftSort\": 2, \"KonOGDSort\": 2, \"KonOGDKurz\": \"RK\", \"AnzBestWir\": 25}, {\"StichtagDatJahr\": \"2020-01-01T00:00:00\", \"StatZoneSort\": 1301, \"StatZoneLang\": \"Schipfe\", \"QuarSort\": 13, \"QuarLang\": \"Lindenhof\", \"KreisSort\": 1, \"herkunftSort\": 2, \"KonOGDSort\": 4, \"KonOGDKurz\": \"andere Konf.\", \"AnzBestWir\": 88}, {\"StichtagDatJahr\": \"2020-01-01T00:00:00\", \"StatZoneSort\": 1302, \"StatZoneLang\": \"M\\u00fcnsterhof\", \"QuarSort\": 13, \"QuarLang\": \"Lindenhof\", \"KreisSort\": 1, \"herkunftSort\": 1, \"KonOGDSort\": 1, \"KonOGDKurz\": \"EV-REF\", \"AnzBestWir\": 131}, {\"StichtagDatJahr\": \"2020-01-01T00:00:00\", \"StatZoneSort\": 1302, \"StatZoneLang\": \"M\\u00fcnsterhof\", \"QuarSort\": 13, \"QuarLang\": \"Lindenhof\", \"KreisSort\": 1, \"herkunftSort\": 1, \"KonOGDSort\": 2, \"KonOGDKurz\": \"RK\", \"AnzBestWir\": 50}, {\"StichtagDatJahr\": \"2020-01-01T00:00:00\", \"StatZoneSort\": 1302, \"StatZoneLang\": \"M\\u00fcnsterhof\", \"QuarSort\": 13, \"QuarLang\": \"Lindenhof\", \"KreisSort\": 1, \"herkunftSort\": 1, \"KonOGDSort\": 4, \"KonOGDKurz\": \"andere Konf.\", \"AnzBestWir\": 120}, {\"StichtagDatJahr\": \"2020-01-01T00:00:00\", \"StatZoneSort\": 1302, \"StatZoneLang\": \"M\\u00fcnsterhof\", \"QuarSort\": 13, \"QuarLang\": \"Lindenhof\", \"KreisSort\": 1, \"herkunftSort\": 2, \"KonOGDSort\": 1, \"KonOGDKurz\": \"EV-REF\", \"AnzBestWir\": 9}, {\"StichtagDatJahr\": \"2020-01-01T00:00:00\", \"StatZoneSort\": 1302, \"StatZoneLang\": \"M\\u00fcnsterhof\", \"QuarSort\": 13, \"QuarLang\": \"Lindenhof\", \"KreisSort\": 1, \"herkunftSort\": 2, \"KonOGDSort\": 2, \"KonOGDKurz\": \"RK\", \"AnzBestWir\": 38}, {\"StichtagDatJahr\": \"2020-01-01T00:00:00\", \"StatZoneSort\": 1302, \"StatZoneLang\": \"M\\u00fcnsterhof\", \"QuarSort\": 13, \"QuarLang\": \"Lindenhof\", \"KreisSort\": 1, \"herkunftSort\": 2, \"KonOGDSort\": 4, \"KonOGDKurz\": \"andere Konf.\", \"AnzBestWir\": 116}, {\"StichtagDatJahr\": \"2020-01-01T00:00:00\", \"StatZoneSort\": 1303, \"StatZoneLang\": \"Stadthaus\", \"QuarSort\": 13, \"QuarLang\": \"Lindenhof\", \"KreisSort\": 1, \"herkunftSort\": 1, \"KonOGDSort\": 1, \"KonOGDKurz\": \"EV-REF\", \"AnzBestWir\": 16}, {\"StichtagDatJahr\": \"2020-01-01T00:00:00\", \"StatZoneSort\": 1303, \"StatZoneLang\": \"Stadthaus\", \"QuarSort\": 13, \"QuarLang\": \"Lindenhof\", \"KreisSort\": 1, \"herkunftSort\": 1, \"KonOGDSort\": 2, \"KonOGDKurz\": \"RK\", \"AnzBestWir\": 14}, {\"StichtagDatJahr\": \"2020-01-01T00:00:00\", \"StatZoneSort\": 1303, \"StatZoneLang\": \"Stadthaus\", \"QuarSort\": 13, \"QuarLang\": \"Lindenhof\", \"KreisSort\": 1, \"herkunftSort\": 1, \"KonOGDSort\": 4, \"KonOGDKurz\": \"andere Konf.\", \"AnzBestWir\": 10}, {\"StichtagDatJahr\": \"2020-01-01T00:00:00\", \"StatZoneSort\": 1303, \"StatZoneLang\": \"Stadthaus\", \"QuarSort\": 13, \"QuarLang\": \"Lindenhof\", \"KreisSort\": 1, \"herkunftSort\": 2, \"KonOGDSort\": 1, \"KonOGDKurz\": \"EV-REF\", \"AnzBestWir\": 0}, {\"StichtagDatJahr\": \"2020-01-01T00:00:00\", \"StatZoneSort\": 1303, \"StatZoneLang\": \"Stadthaus\", \"QuarSort\": 13, \"QuarLang\": \"Lindenhof\", \"KreisSort\": 1, \"herkunftSort\": 2, \"KonOGDSort\": 2, \"KonOGDKurz\": \"RK\", \"AnzBestWir\": 4}, {\"StichtagDatJahr\": \"2020-01-01T00:00:00\", \"StatZoneSort\": 1303, \"StatZoneLang\": \"Stadthaus\", \"QuarSort\": 13, \"QuarLang\": \"Lindenhof\", \"KreisSort\": 1, \"herkunftSort\": 2, \"KonOGDSort\": 4, \"KonOGDKurz\": \"andere Konf.\", \"AnzBestWir\": 3}, {\"StichtagDatJahr\": \"2020-01-01T00:00:00\", \"StatZoneSort\": 1401, \"StatZoneLang\": \"Bahnhofplatz\", \"QuarSort\": 14, \"QuarLang\": \"City\", \"KreisSort\": 1, \"herkunftSort\": 1, \"KonOGDSort\": 1, \"KonOGDKurz\": \"EV-REF\", \"AnzBestWir\": 5}, {\"StichtagDatJahr\": \"2020-01-01T00:00:00\", \"StatZoneSort\": 1401, \"StatZoneLang\": \"Bahnhofplatz\", \"QuarSort\": 14, \"QuarLang\": \"City\", \"KreisSort\": 1, \"herkunftSort\": 1, \"KonOGDSort\": 2, \"KonOGDKurz\": \"RK\", \"AnzBestWir\": 3}, {\"StichtagDatJahr\": \"2020-01-01T00:00:00\", \"StatZoneSort\": 1401, \"StatZoneLang\": \"Bahnhofplatz\", \"QuarSort\": 14, \"QuarLang\": \"City\", \"KreisSort\": 1, \"herkunftSort\": 1, \"KonOGDSort\": 4, \"KonOGDKurz\": \"andere Konf.\", \"AnzBestWir\": 18}, {\"StichtagDatJahr\": \"2020-01-01T00:00:00\", \"StatZoneSort\": 1401, \"StatZoneLang\": \"Bahnhofplatz\", \"QuarSort\": 14, \"QuarLang\": \"City\", \"KreisSort\": 1, \"herkunftSort\": 2, \"KonOGDSort\": 2, \"KonOGDKurz\": \"RK\", \"AnzBestWir\": 2}, {\"StichtagDatJahr\": \"2020-01-01T00:00:00\", \"StatZoneSort\": 1401, \"StatZoneLang\": \"Bahnhofplatz\", \"QuarSort\": 14, \"QuarLang\": \"City\", \"KreisSort\": 1, \"herkunftSort\": 2, \"KonOGDSort\": 4, \"KonOGDKurz\": \"andere Konf.\", \"AnzBestWir\": 5}, {\"StichtagDatJahr\": \"2020-01-01T00:00:00\", \"StatZoneSort\": 1402, \"StatZoneLang\": \"Sihlporte\", \"QuarSort\": 14, \"QuarLang\": \"City\", \"KreisSort\": 1, \"herkunftSort\": 1, \"KonOGDSort\": 1, \"KonOGDKurz\": \"EV-REF\", \"AnzBestWir\": 19}, {\"StichtagDatJahr\": \"2020-01-01T00:00:00\", \"StatZoneSort\": 1402, \"StatZoneLang\": \"Sihlporte\", \"QuarSort\": 14, \"QuarLang\": \"City\", \"KreisSort\": 1, \"herkunftSort\": 1, \"KonOGDSort\": 2, \"KonOGDKurz\": \"RK\", \"AnzBestWir\": 14}, {\"StichtagDatJahr\": \"2020-01-01T00:00:00\", \"StatZoneSort\": 1402, \"StatZoneLang\": \"Sihlporte\", \"QuarSort\": 14, \"QuarLang\": \"City\", \"KreisSort\": 1, \"herkunftSort\": 1, \"KonOGDSort\": 4, \"KonOGDKurz\": \"andere Konf.\", \"AnzBestWir\": 38}, {\"StichtagDatJahr\": \"2020-01-01T00:00:00\", \"StatZoneSort\": 1402, \"StatZoneLang\": \"Sihlporte\", \"QuarSort\": 14, \"QuarLang\": \"City\", \"KreisSort\": 1, \"herkunftSort\": 2, \"KonOGDSort\": 1, \"KonOGDKurz\": \"EV-REF\", \"AnzBestWir\": 6}, {\"StichtagDatJahr\": \"2020-01-01T00:00:00\", \"StatZoneSort\": 1402, \"StatZoneLang\": \"Sihlporte\", \"QuarSort\": 14, \"QuarLang\": \"City\", \"KreisSort\": 1, \"herkunftSort\": 2, \"KonOGDSort\": 2, \"KonOGDKurz\": \"RK\", \"AnzBestWir\": 18}, {\"StichtagDatJahr\": \"2020-01-01T00:00:00\", \"StatZoneSort\": 1402, \"StatZoneLang\": \"Sihlporte\", \"QuarSort\": 14, \"QuarLang\": \"City\", \"KreisSort\": 1, \"herkunftSort\": 2, \"KonOGDSort\": 4, \"KonOGDKurz\": \"andere Konf.\", \"AnzBestWir\": 45}, {\"StichtagDatJahr\": \"2020-01-01T00:00:00\", \"StatZoneSort\": 1403, \"StatZoneLang\": \"Selnaustrasse\", \"QuarSort\": 14, \"QuarLang\": \"City\", \"KreisSort\": 1, \"herkunftSort\": 1, \"KonOGDSort\": 1, \"KonOGDKurz\": \"EV-REF\", \"AnzBestWir\": 103}, {\"StichtagDatJahr\": \"2020-01-01T00:00:00\", \"StatZoneSort\": 1403, \"StatZoneLang\": \"Selnaustrasse\", \"QuarSort\": 14, \"QuarLang\": \"City\", \"KreisSort\": 1, \"herkunftSort\": 1, \"KonOGDSort\": 2, \"KonOGDKurz\": \"RK\", \"AnzBestWir\": 109}, {\"StichtagDatJahr\": \"2020-01-01T00:00:00\", \"StatZoneSort\": 1403, \"StatZoneLang\": \"Selnaustrasse\", \"QuarSort\": 14, \"QuarLang\": \"City\", \"KreisSort\": 1, \"herkunftSort\": 1, \"KonOGDSort\": 4, \"KonOGDKurz\": \"andere Konf.\", \"AnzBestWir\": 232}, {\"StichtagDatJahr\": \"2020-01-01T00:00:00\", \"StatZoneSort\": 1403, \"StatZoneLang\": \"Selnaustrasse\", \"QuarSort\": 14, \"QuarLang\": \"City\", \"KreisSort\": 1, \"herkunftSort\": 2, \"KonOGDSort\": 1, \"KonOGDKurz\": \"EV-REF\", \"AnzBestWir\": 14}, {\"StichtagDatJahr\": \"2020-01-01T00:00:00\", \"StatZoneSort\": 1403, \"StatZoneLang\": \"Selnaustrasse\", \"QuarSort\": 14, \"QuarLang\": \"City\", \"KreisSort\": 1, \"herkunftSort\": 2, \"KonOGDSort\": 2, \"KonOGDKurz\": \"RK\", \"AnzBestWir\": 39}, {\"StichtagDatJahr\": \"2020-01-01T00:00:00\", \"StatZoneSort\": 1403, \"StatZoneLang\": \"Selnaustrasse\", \"QuarSort\": 14, \"QuarLang\": \"City\", \"KreisSort\": 1, \"herkunftSort\": 2, \"KonOGDSort\": 4, \"KonOGDKurz\": \"andere Konf.\", \"AnzBestWir\": 119}, {\"StichtagDatJahr\": \"2020-01-01T00:00:00\", \"StatZoneSort\": 1404, \"StatZoneLang\": \"Paradeplatz\", \"QuarSort\": 14, \"QuarLang\": \"City\", \"KreisSort\": 1, \"herkunftSort\": 1, \"KonOGDSort\": 1, \"KonOGDKurz\": \"EV-REF\", \"AnzBestWir\": 6}, {\"StichtagDatJahr\": \"2020-01-01T00:00:00\", \"StatZoneSort\": 1404, \"StatZoneLang\": \"Paradeplatz\", \"QuarSort\": 14, \"QuarLang\": \"City\", \"KreisSort\": 1, \"herkunftSort\": 1, \"KonOGDSort\": 2, \"KonOGDKurz\": \"RK\", \"AnzBestWir\": 6}, {\"StichtagDatJahr\": \"2020-01-01T00:00:00\", \"StatZoneSort\": 1404, \"StatZoneLang\": \"Paradeplatz\", \"QuarSort\": 14, \"QuarLang\": \"City\", \"KreisSort\": 1, \"herkunftSort\": 1, \"KonOGDSort\": 4, \"KonOGDKurz\": \"andere Konf.\", \"AnzBestWir\": 14}, {\"StichtagDatJahr\": \"2020-01-01T00:00:00\", \"StatZoneSort\": 1404, \"StatZoneLang\": \"Paradeplatz\", \"QuarSort\": 14, \"QuarLang\": \"City\", \"KreisSort\": 1, \"herkunftSort\": 2, \"KonOGDSort\": 2, \"KonOGDKurz\": \"RK\", \"AnzBestWir\": 7}, {\"StichtagDatJahr\": \"2020-01-01T00:00:00\", \"StatZoneSort\": 1404, \"StatZoneLang\": \"Paradeplatz\", \"QuarSort\": 14, \"QuarLang\": \"City\", \"KreisSort\": 1, \"herkunftSort\": 2, \"KonOGDSort\": 4, \"KonOGDKurz\": \"andere Konf.\", \"AnzBestWir\": 7}]}}, {\"mode\": \"vega-lite\"});\n",
       "</script>"
      ],
      "text/plain": [
       "alt.LayerChart(...)"
      ]
     },
     "execution_count": 46,
     "metadata": {},
     "output_type": "execute_result"
    }
   ],
   "source": [
    "# df_statzonen = df_statzonen[(df_statzonen.knr>0) & (df_statzonen.qname!=\"Hirslanden\")]\n",
    "#aktuellesJahr[[aktuellesJahr.KreisSort =7]])\n",
    "highlight = alt.selection(type='single', on='mouseover',\n",
    "                          fields=['KonOGDKurz'], nearest=True)\n",
    "#x='date:StichtagDatJahr',\n",
    "base = alt.Chart(mySelection).encode(\n",
    "    x='StatZoneLang',\n",
    "    y='AnzBestWir',\n",
    "    color='KonOGDKurz'\n",
    ")\n",
    "\n",
    "points = base.mark_circle().encode(\n",
    "    opacity=alt.value(0)\n",
    ").add_selection(\n",
    "    highlight\n",
    ").properties(\n",
    "    width=700 , height=300\n",
    ")\n",
    "lines = base.mark_line().encode(\n",
    "    size=alt.condition(~highlight, alt.value(1.5), alt.value(4))\n",
    ").interactive()\n",
    "\n",
    "points + lines"
   ]
  },
  {
   "cell_type": "code",
   "execution_count": 47,
   "metadata": {},
   "outputs": [
    {
     "data": {
      "text/html": [
       "\n",
       "<div id=\"altair-viz-caaa2d347cf7416094935dea9e2bdc64\"></div>\n",
       "<script type=\"text/javascript\">\n",
       "  (function(spec, embedOpt){\n",
       "    let outputDiv = document.currentScript.previousElementSibling;\n",
       "    if (outputDiv.id !== \"altair-viz-caaa2d347cf7416094935dea9e2bdc64\") {\n",
       "      outputDiv = document.getElementById(\"altair-viz-caaa2d347cf7416094935dea9e2bdc64\");\n",
       "    }\n",
       "    const paths = {\n",
       "      \"vega\": \"https://cdn.jsdelivr.net/npm//vega@5?noext\",\n",
       "      \"vega-lib\": \"https://cdn.jsdelivr.net/npm//vega-lib?noext\",\n",
       "      \"vega-lite\": \"https://cdn.jsdelivr.net/npm//vega-lite@4.8.1?noext\",\n",
       "      \"vega-embed\": \"https://cdn.jsdelivr.net/npm//vega-embed@6?noext\",\n",
       "    };\n",
       "\n",
       "    function loadScript(lib) {\n",
       "      return new Promise(function(resolve, reject) {\n",
       "        var s = document.createElement('script');\n",
       "        s.src = paths[lib];\n",
       "        s.async = true;\n",
       "        s.onload = () => resolve(paths[lib]);\n",
       "        s.onerror = () => reject(`Error loading script: ${paths[lib]}`);\n",
       "        document.getElementsByTagName(\"head\")[0].appendChild(s);\n",
       "      });\n",
       "    }\n",
       "\n",
       "    function showError(err) {\n",
       "      outputDiv.innerHTML = `<div class=\"error\" style=\"color:red;\">${err}</div>`;\n",
       "      throw err;\n",
       "    }\n",
       "\n",
       "    function displayChart(vegaEmbed) {\n",
       "      vegaEmbed(outputDiv, spec, embedOpt)\n",
       "        .catch(err => showError(`Javascript Error: ${err.message}<br>This usually means there's a typo in your chart specification. See the javascript console for the full traceback.`));\n",
       "    }\n",
       "\n",
       "    if(typeof define === \"function\" && define.amd) {\n",
       "      requirejs.config({paths});\n",
       "      require([\"vega-embed\"], displayChart, err => showError(`Error loading script: ${err.message}`));\n",
       "    } else if (typeof vegaEmbed === \"function\") {\n",
       "      displayChart(vegaEmbed);\n",
       "    } else {\n",
       "      loadScript(\"vega\")\n",
       "        .then(() => loadScript(\"vega-lite\"))\n",
       "        .then(() => loadScript(\"vega-embed\"))\n",
       "        .catch(showError)\n",
       "        .then(() => displayChart(vegaEmbed));\n",
       "    }\n",
       "  })({\"config\": {\"view\": {\"continuousWidth\": 400, \"continuousHeight\": 300}}, \"data\": {\"name\": \"data-578fb64d44ada5e0c7ce60f40e037a4f\"}, \"mark\": {\"type\": \"circle\", \"size\": 60}, \"encoding\": {\"color\": {\"type\": \"quantitative\", \"field\": \"AnzBestWir\"}, \"tooltip\": [{\"type\": \"nominal\", \"field\": \"KonOGDKurz\"}, {\"type\": \"temporal\", \"field\": \"StichtagDatJahr\"}, {\"type\": \"quantitative\", \"field\": \"AnzBestWir\"}], \"x\": {\"type\": \"nominal\", \"field\": \"StatZoneLang\"}, \"y\": {\"type\": \"nominal\", \"field\": \"KonOGDKurz\"}}, \"selection\": {\"selector006\": {\"type\": \"interval\", \"bind\": \"scales\", \"encodings\": [\"x\", \"y\"]}}, \"$schema\": \"https://vega.github.io/schema/vega-lite/v4.8.1.json\", \"datasets\": {\"data-578fb64d44ada5e0c7ce60f40e037a4f\": [{\"StichtagDatJahr\": \"2020-01-01T00:00:00\", \"StatZoneSort\": 1101, \"StatZoneLang\": \"Z\\u00e4hringerstrasse\", \"QuarSort\": 11, \"QuarLang\": \"Rathaus\", \"KreisSort\": 1, \"herkunftSort\": 1, \"KonOGDSort\": 1, \"KonOGDKurz\": \"EV-REF\", \"AnzBestWir\": 79}, {\"StichtagDatJahr\": \"2020-01-01T00:00:00\", \"StatZoneSort\": 1101, \"StatZoneLang\": \"Z\\u00e4hringerstrasse\", \"QuarSort\": 11, \"QuarLang\": \"Rathaus\", \"KreisSort\": 1, \"herkunftSort\": 1, \"KonOGDSort\": 2, \"KonOGDKurz\": \"RK\", \"AnzBestWir\": 70}, {\"StichtagDatJahr\": \"2020-01-01T00:00:00\", \"StatZoneSort\": 1101, \"StatZoneLang\": \"Z\\u00e4hringerstrasse\", \"QuarSort\": 11, \"QuarLang\": \"Rathaus\", \"KreisSort\": 1, \"herkunftSort\": 1, \"KonOGDSort\": 4, \"KonOGDKurz\": \"andere Konf.\", \"AnzBestWir\": 171}, {\"StichtagDatJahr\": \"2020-01-01T00:00:00\", \"StatZoneSort\": 1101, \"StatZoneLang\": \"Z\\u00e4hringerstrasse\", \"QuarSort\": 11, \"QuarLang\": \"Rathaus\", \"KreisSort\": 1, \"herkunftSort\": 2, \"KonOGDSort\": 1, \"KonOGDKurz\": \"EV-REF\", \"AnzBestWir\": 14}, {\"StichtagDatJahr\": \"2020-01-01T00:00:00\", \"StatZoneSort\": 1101, \"StatZoneLang\": \"Z\\u00e4hringerstrasse\", \"QuarSort\": 11, \"QuarLang\": \"Rathaus\", \"KreisSort\": 1, \"herkunftSort\": 2, \"KonOGDSort\": 2, \"KonOGDKurz\": \"RK\", \"AnzBestWir\": 57}, {\"StichtagDatJahr\": \"2020-01-01T00:00:00\", \"StatZoneSort\": 1101, \"StatZoneLang\": \"Z\\u00e4hringerstrasse\", \"QuarSort\": 11, \"QuarLang\": \"Rathaus\", \"KreisSort\": 1, \"herkunftSort\": 2, \"KonOGDSort\": 4, \"KonOGDKurz\": \"andere Konf.\", \"AnzBestWir\": 207}, {\"StichtagDatJahr\": \"2020-01-01T00:00:00\", \"StatZoneSort\": 1102, \"StatZoneLang\": \"Prediger\", \"QuarSort\": 11, \"QuarLang\": \"Rathaus\", \"KreisSort\": 1, \"herkunftSort\": 1, \"KonOGDSort\": 1, \"KonOGDKurz\": \"EV-REF\", \"AnzBestWir\": 247}, {\"StichtagDatJahr\": \"2020-01-01T00:00:00\", \"StatZoneSort\": 1102, \"StatZoneLang\": \"Prediger\", \"QuarSort\": 11, \"QuarLang\": \"Rathaus\", \"KreisSort\": 1, \"herkunftSort\": 1, \"KonOGDSort\": 2, \"KonOGDKurz\": \"RK\", \"AnzBestWir\": 145}, {\"StichtagDatJahr\": \"2020-01-01T00:00:00\", \"StatZoneSort\": 1102, \"StatZoneLang\": \"Prediger\", \"QuarSort\": 11, \"QuarLang\": \"Rathaus\", \"KreisSort\": 1, \"herkunftSort\": 1, \"KonOGDSort\": 4, \"KonOGDKurz\": \"andere Konf.\", \"AnzBestWir\": 378}, {\"StichtagDatJahr\": \"2020-01-01T00:00:00\", \"StatZoneSort\": 1102, \"StatZoneLang\": \"Prediger\", \"QuarSort\": 11, \"QuarLang\": \"Rathaus\", \"KreisSort\": 1, \"herkunftSort\": 2, \"KonOGDSort\": 1, \"KonOGDKurz\": \"EV-REF\", \"AnzBestWir\": 24}, {\"StichtagDatJahr\": \"2020-01-01T00:00:00\", \"StatZoneSort\": 1102, \"StatZoneLang\": \"Prediger\", \"QuarSort\": 11, \"QuarLang\": \"Rathaus\", \"KreisSort\": 1, \"herkunftSort\": 2, \"KonOGDSort\": 2, \"KonOGDKurz\": \"RK\", \"AnzBestWir\": 43}, {\"StichtagDatJahr\": \"2020-01-01T00:00:00\", \"StatZoneSort\": 1102, \"StatZoneLang\": \"Prediger\", \"QuarSort\": 11, \"QuarLang\": \"Rathaus\", \"KreisSort\": 1, \"herkunftSort\": 2, \"KonOGDSort\": 4, \"KonOGDKurz\": \"andere Konf.\", \"AnzBestWir\": 188}, {\"StichtagDatJahr\": \"2020-01-01T00:00:00\", \"StatZoneSort\": 1103, \"StatZoneLang\": \"Grossm\\u00fcnster\", \"QuarSort\": 11, \"QuarLang\": \"Rathaus\", \"KreisSort\": 1, \"herkunftSort\": 1, \"KonOGDSort\": 1, \"KonOGDKurz\": \"EV-REF\", \"AnzBestWir\": 241}, {\"StichtagDatJahr\": \"2020-01-01T00:00:00\", \"StatZoneSort\": 1103, \"StatZoneLang\": \"Grossm\\u00fcnster\", \"QuarSort\": 11, \"QuarLang\": \"Rathaus\", \"KreisSort\": 1, \"herkunftSort\": 1, \"KonOGDSort\": 2, \"KonOGDKurz\": \"RK\", \"AnzBestWir\": 136}, {\"StichtagDatJahr\": \"2020-01-01T00:00:00\", \"StatZoneSort\": 1103, \"StatZoneLang\": \"Grossm\\u00fcnster\", \"QuarSort\": 11, \"QuarLang\": \"Rathaus\", \"KreisSort\": 1, \"herkunftSort\": 1, \"KonOGDSort\": 4, \"KonOGDKurz\": \"andere Konf.\", \"AnzBestWir\": 282}, {\"StichtagDatJahr\": \"2020-01-01T00:00:00\", \"StatZoneSort\": 1103, \"StatZoneLang\": \"Grossm\\u00fcnster\", \"QuarSort\": 11, \"QuarLang\": \"Rathaus\", \"KreisSort\": 1, \"herkunftSort\": 2, \"KonOGDSort\": 1, \"KonOGDKurz\": \"EV-REF\", \"AnzBestWir\": 17}, {\"StichtagDatJahr\": \"2020-01-01T00:00:00\", \"StatZoneSort\": 1103, \"StatZoneLang\": \"Grossm\\u00fcnster\", \"QuarSort\": 11, \"QuarLang\": \"Rathaus\", \"KreisSort\": 1, \"herkunftSort\": 2, \"KonOGDSort\": 2, \"KonOGDKurz\": \"RK\", \"AnzBestWir\": 73}, {\"StichtagDatJahr\": \"2020-01-01T00:00:00\", \"StatZoneSort\": 1103, \"StatZoneLang\": \"Grossm\\u00fcnster\", \"QuarSort\": 11, \"QuarLang\": \"Rathaus\", \"KreisSort\": 1, \"herkunftSort\": 2, \"KonOGDSort\": 4, \"KonOGDKurz\": \"andere Konf.\", \"AnzBestWir\": 199}, {\"StichtagDatJahr\": \"2020-01-01T00:00:00\", \"StatZoneSort\": 1104, \"StatZoneLang\": \"Oberdorf\", \"QuarSort\": 11, \"QuarLang\": \"Rathaus\", \"KreisSort\": 1, \"herkunftSort\": 1, \"KonOGDSort\": 1, \"KonOGDKurz\": \"EV-REF\", \"AnzBestWir\": 158}, {\"StichtagDatJahr\": \"2020-01-01T00:00:00\", \"StatZoneSort\": 1104, \"StatZoneLang\": \"Oberdorf\", \"QuarSort\": 11, \"QuarLang\": \"Rathaus\", \"KreisSort\": 1, \"herkunftSort\": 1, \"KonOGDSort\": 2, \"KonOGDKurz\": \"RK\", \"AnzBestWir\": 126}, {\"StichtagDatJahr\": \"2020-01-01T00:00:00\", \"StatZoneSort\": 1104, \"StatZoneLang\": \"Oberdorf\", \"QuarSort\": 11, \"QuarLang\": \"Rathaus\", \"KreisSort\": 1, \"herkunftSort\": 1, \"KonOGDSort\": 4, \"KonOGDKurz\": \"andere Konf.\", \"AnzBestWir\": 263}, {\"StichtagDatJahr\": \"2020-01-01T00:00:00\", \"StatZoneSort\": 1104, \"StatZoneLang\": \"Oberdorf\", \"QuarSort\": 11, \"QuarLang\": \"Rathaus\", \"KreisSort\": 1, \"herkunftSort\": 2, \"KonOGDSort\": 1, \"KonOGDKurz\": \"EV-REF\", \"AnzBestWir\": 16}, {\"StichtagDatJahr\": \"2020-01-01T00:00:00\", \"StatZoneSort\": 1104, \"StatZoneLang\": \"Oberdorf\", \"QuarSort\": 11, \"QuarLang\": \"Rathaus\", \"KreisSort\": 1, \"herkunftSort\": 2, \"KonOGDSort\": 2, \"KonOGDKurz\": \"RK\", \"AnzBestWir\": 37}, {\"StichtagDatJahr\": \"2020-01-01T00:00:00\", \"StatZoneSort\": 1104, \"StatZoneLang\": \"Oberdorf\", \"QuarSort\": 11, \"QuarLang\": \"Rathaus\", \"KreisSort\": 1, \"herkunftSort\": 2, \"KonOGDSort\": 4, \"KonOGDKurz\": \"andere Konf.\", \"AnzBestWir\": 146}, {\"StichtagDatJahr\": \"2020-01-01T00:00:00\", \"StatZoneSort\": 1201, \"StatZoneLang\": \"Central\", \"QuarSort\": 12, \"QuarLang\": \"Hochschulen\", \"KreisSort\": 1, \"herkunftSort\": 1, \"KonOGDSort\": 1, \"KonOGDKurz\": \"EV-REF\", \"AnzBestWir\": 91}, {\"StichtagDatJahr\": \"2020-01-01T00:00:00\", \"StatZoneSort\": 1201, \"StatZoneLang\": \"Central\", \"QuarSort\": 12, \"QuarLang\": \"Hochschulen\", \"KreisSort\": 1, \"herkunftSort\": 1, \"KonOGDSort\": 2, \"KonOGDKurz\": \"RK\", \"AnzBestWir\": 72}, {\"StichtagDatJahr\": \"2020-01-01T00:00:00\", \"StatZoneSort\": 1201, \"StatZoneLang\": \"Central\", \"QuarSort\": 12, \"QuarLang\": \"Hochschulen\", \"KreisSort\": 1, \"herkunftSort\": 1, \"KonOGDSort\": 4, \"KonOGDKurz\": \"andere Konf.\", \"AnzBestWir\": 74}, {\"StichtagDatJahr\": \"2020-01-01T00:00:00\", \"StatZoneSort\": 1201, \"StatZoneLang\": \"Central\", \"QuarSort\": 12, \"QuarLang\": \"Hochschulen\", \"KreisSort\": 1, \"herkunftSort\": 2, \"KonOGDSort\": 1, \"KonOGDKurz\": \"EV-REF\", \"AnzBestWir\": 11}, {\"StichtagDatJahr\": \"2020-01-01T00:00:00\", \"StatZoneSort\": 1201, \"StatZoneLang\": \"Central\", \"QuarSort\": 12, \"QuarLang\": \"Hochschulen\", \"KreisSort\": 1, \"herkunftSort\": 2, \"KonOGDSort\": 2, \"KonOGDKurz\": \"RK\", \"AnzBestWir\": 27}, {\"StichtagDatJahr\": \"2020-01-01T00:00:00\", \"StatZoneSort\": 1201, \"StatZoneLang\": \"Central\", \"QuarSort\": 12, \"QuarLang\": \"Hochschulen\", \"KreisSort\": 1, \"herkunftSort\": 2, \"KonOGDSort\": 4, \"KonOGDKurz\": \"andere Konf.\", \"AnzBestWir\": 82}, {\"StichtagDatJahr\": \"2020-01-01T00:00:00\", \"StatZoneSort\": 1202, \"StatZoneLang\": \"ETH / Universit\\u00e4t\", \"QuarSort\": 12, \"QuarLang\": \"Hochschulen\", \"KreisSort\": 1, \"herkunftSort\": 1, \"KonOGDSort\": 1, \"KonOGDKurz\": \"EV-REF\", \"AnzBestWir\": 11}, {\"StichtagDatJahr\": \"2020-01-01T00:00:00\", \"StatZoneSort\": 1202, \"StatZoneLang\": \"ETH / Universit\\u00e4t\", \"QuarSort\": 12, \"QuarLang\": \"Hochschulen\", \"KreisSort\": 1, \"herkunftSort\": 1, \"KonOGDSort\": 2, \"KonOGDKurz\": \"RK\", \"AnzBestWir\": 19}, {\"StichtagDatJahr\": \"2020-01-01T00:00:00\", \"StatZoneSort\": 1202, \"StatZoneLang\": \"ETH / Universit\\u00e4t\", \"QuarSort\": 12, \"QuarLang\": \"Hochschulen\", \"KreisSort\": 1, \"herkunftSort\": 1, \"KonOGDSort\": 4, \"KonOGDKurz\": \"andere Konf.\", \"AnzBestWir\": 18}, {\"StichtagDatJahr\": \"2020-01-01T00:00:00\", \"StatZoneSort\": 1202, \"StatZoneLang\": \"ETH / Universit\\u00e4t\", \"QuarSort\": 12, \"QuarLang\": \"Hochschulen\", \"KreisSort\": 1, \"herkunftSort\": 2, \"KonOGDSort\": 1, \"KonOGDKurz\": \"EV-REF\", \"AnzBestWir\": 2}, {\"StichtagDatJahr\": \"2020-01-01T00:00:00\", \"StatZoneSort\": 1202, \"StatZoneLang\": \"ETH / Universit\\u00e4t\", \"QuarSort\": 12, \"QuarLang\": \"Hochschulen\", \"KreisSort\": 1, \"herkunftSort\": 2, \"KonOGDSort\": 2, \"KonOGDKurz\": \"RK\", \"AnzBestWir\": 4}, {\"StichtagDatJahr\": \"2020-01-01T00:00:00\", \"StatZoneSort\": 1202, \"StatZoneLang\": \"ETH / Universit\\u00e4t\", \"QuarSort\": 12, \"QuarLang\": \"Hochschulen\", \"KreisSort\": 1, \"herkunftSort\": 2, \"KonOGDSort\": 4, \"KonOGDKurz\": \"andere Konf.\", \"AnzBestWir\": 7}, {\"StichtagDatJahr\": \"2020-01-01T00:00:00\", \"StatZoneSort\": 1203, \"StatZoneLang\": \"Bellevue\", \"QuarSort\": 12, \"QuarLang\": \"Hochschulen\", \"KreisSort\": 1, \"herkunftSort\": 1, \"KonOGDSort\": 1, \"KonOGDKurz\": \"EV-REF\", \"AnzBestWir\": 47}, {\"StichtagDatJahr\": \"2020-01-01T00:00:00\", \"StatZoneSort\": 1203, \"StatZoneLang\": \"Bellevue\", \"QuarSort\": 12, \"QuarLang\": \"Hochschulen\", \"KreisSort\": 1, \"herkunftSort\": 1, \"KonOGDSort\": 2, \"KonOGDKurz\": \"RK\", \"AnzBestWir\": 31}, {\"StichtagDatJahr\": \"2020-01-01T00:00:00\", \"StatZoneSort\": 1203, \"StatZoneLang\": \"Bellevue\", \"QuarSort\": 12, \"QuarLang\": \"Hochschulen\", \"KreisSort\": 1, \"herkunftSort\": 1, \"KonOGDSort\": 4, \"KonOGDKurz\": \"andere Konf.\", \"AnzBestWir\": 101}, {\"StichtagDatJahr\": \"2020-01-01T00:00:00\", \"StatZoneSort\": 1203, \"StatZoneLang\": \"Bellevue\", \"QuarSort\": 12, \"QuarLang\": \"Hochschulen\", \"KreisSort\": 1, \"herkunftSort\": 2, \"KonOGDSort\": 1, \"KonOGDKurz\": \"EV-REF\", \"AnzBestWir\": 1}, {\"StichtagDatJahr\": \"2020-01-01T00:00:00\", \"StatZoneSort\": 1203, \"StatZoneLang\": \"Bellevue\", \"QuarSort\": 12, \"QuarLang\": \"Hochschulen\", \"KreisSort\": 1, \"herkunftSort\": 2, \"KonOGDSort\": 2, \"KonOGDKurz\": \"RK\", \"AnzBestWir\": 8}, {\"StichtagDatJahr\": \"2020-01-01T00:00:00\", \"StatZoneSort\": 1203, \"StatZoneLang\": \"Bellevue\", \"QuarSort\": 12, \"QuarLang\": \"Hochschulen\", \"KreisSort\": 1, \"herkunftSort\": 2, \"KonOGDSort\": 4, \"KonOGDKurz\": \"andere Konf.\", \"AnzBestWir\": 69}, {\"StichtagDatJahr\": \"2020-01-01T00:00:00\", \"StatZoneSort\": 1301, \"StatZoneLang\": \"Schipfe\", \"QuarSort\": 13, \"QuarLang\": \"Lindenhof\", \"KreisSort\": 1, \"herkunftSort\": 1, \"KonOGDSort\": 1, \"KonOGDKurz\": \"EV-REF\", \"AnzBestWir\": 107}, {\"StichtagDatJahr\": \"2020-01-01T00:00:00\", \"StatZoneSort\": 1301, \"StatZoneLang\": \"Schipfe\", \"QuarSort\": 13, \"QuarLang\": \"Lindenhof\", \"KreisSort\": 1, \"herkunftSort\": 1, \"KonOGDSort\": 2, \"KonOGDKurz\": \"RK\", \"AnzBestWir\": 82}, {\"StichtagDatJahr\": \"2020-01-01T00:00:00\", \"StatZoneSort\": 1301, \"StatZoneLang\": \"Schipfe\", \"QuarSort\": 13, \"QuarLang\": \"Lindenhof\", \"KreisSort\": 1, \"herkunftSort\": 1, \"KonOGDSort\": 4, \"KonOGDKurz\": \"andere Konf.\", \"AnzBestWir\": 185}, {\"StichtagDatJahr\": \"2020-01-01T00:00:00\", \"StatZoneSort\": 1301, \"StatZoneLang\": \"Schipfe\", \"QuarSort\": 13, \"QuarLang\": \"Lindenhof\", \"KreisSort\": 1, \"herkunftSort\": 2, \"KonOGDSort\": 1, \"KonOGDKurz\": \"EV-REF\", \"AnzBestWir\": 12}, {\"StichtagDatJahr\": \"2020-01-01T00:00:00\", \"StatZoneSort\": 1301, \"StatZoneLang\": \"Schipfe\", \"QuarSort\": 13, \"QuarLang\": \"Lindenhof\", \"KreisSort\": 1, \"herkunftSort\": 2, \"KonOGDSort\": 2, \"KonOGDKurz\": \"RK\", \"AnzBestWir\": 25}, {\"StichtagDatJahr\": \"2020-01-01T00:00:00\", \"StatZoneSort\": 1301, \"StatZoneLang\": \"Schipfe\", \"QuarSort\": 13, \"QuarLang\": \"Lindenhof\", \"KreisSort\": 1, \"herkunftSort\": 2, \"KonOGDSort\": 4, \"KonOGDKurz\": \"andere Konf.\", \"AnzBestWir\": 88}, {\"StichtagDatJahr\": \"2020-01-01T00:00:00\", \"StatZoneSort\": 1302, \"StatZoneLang\": \"M\\u00fcnsterhof\", \"QuarSort\": 13, \"QuarLang\": \"Lindenhof\", \"KreisSort\": 1, \"herkunftSort\": 1, \"KonOGDSort\": 1, \"KonOGDKurz\": \"EV-REF\", \"AnzBestWir\": 131}, {\"StichtagDatJahr\": \"2020-01-01T00:00:00\", \"StatZoneSort\": 1302, \"StatZoneLang\": \"M\\u00fcnsterhof\", \"QuarSort\": 13, \"QuarLang\": \"Lindenhof\", \"KreisSort\": 1, \"herkunftSort\": 1, \"KonOGDSort\": 2, \"KonOGDKurz\": \"RK\", \"AnzBestWir\": 50}, {\"StichtagDatJahr\": \"2020-01-01T00:00:00\", \"StatZoneSort\": 1302, \"StatZoneLang\": \"M\\u00fcnsterhof\", \"QuarSort\": 13, \"QuarLang\": \"Lindenhof\", \"KreisSort\": 1, \"herkunftSort\": 1, \"KonOGDSort\": 4, \"KonOGDKurz\": \"andere Konf.\", \"AnzBestWir\": 120}, {\"StichtagDatJahr\": \"2020-01-01T00:00:00\", \"StatZoneSort\": 1302, \"StatZoneLang\": \"M\\u00fcnsterhof\", \"QuarSort\": 13, \"QuarLang\": \"Lindenhof\", \"KreisSort\": 1, \"herkunftSort\": 2, \"KonOGDSort\": 1, \"KonOGDKurz\": \"EV-REF\", \"AnzBestWir\": 9}, {\"StichtagDatJahr\": \"2020-01-01T00:00:00\", \"StatZoneSort\": 1302, \"StatZoneLang\": \"M\\u00fcnsterhof\", \"QuarSort\": 13, \"QuarLang\": \"Lindenhof\", \"KreisSort\": 1, \"herkunftSort\": 2, \"KonOGDSort\": 2, \"KonOGDKurz\": \"RK\", \"AnzBestWir\": 38}, {\"StichtagDatJahr\": \"2020-01-01T00:00:00\", \"StatZoneSort\": 1302, \"StatZoneLang\": \"M\\u00fcnsterhof\", \"QuarSort\": 13, \"QuarLang\": \"Lindenhof\", \"KreisSort\": 1, \"herkunftSort\": 2, \"KonOGDSort\": 4, \"KonOGDKurz\": \"andere Konf.\", \"AnzBestWir\": 116}, {\"StichtagDatJahr\": \"2020-01-01T00:00:00\", \"StatZoneSort\": 1303, \"StatZoneLang\": \"Stadthaus\", \"QuarSort\": 13, \"QuarLang\": \"Lindenhof\", \"KreisSort\": 1, \"herkunftSort\": 1, \"KonOGDSort\": 1, \"KonOGDKurz\": \"EV-REF\", \"AnzBestWir\": 16}, {\"StichtagDatJahr\": \"2020-01-01T00:00:00\", \"StatZoneSort\": 1303, \"StatZoneLang\": \"Stadthaus\", \"QuarSort\": 13, \"QuarLang\": \"Lindenhof\", \"KreisSort\": 1, \"herkunftSort\": 1, \"KonOGDSort\": 2, \"KonOGDKurz\": \"RK\", \"AnzBestWir\": 14}, {\"StichtagDatJahr\": \"2020-01-01T00:00:00\", \"StatZoneSort\": 1303, \"StatZoneLang\": \"Stadthaus\", \"QuarSort\": 13, \"QuarLang\": \"Lindenhof\", \"KreisSort\": 1, \"herkunftSort\": 1, \"KonOGDSort\": 4, \"KonOGDKurz\": \"andere Konf.\", \"AnzBestWir\": 10}, {\"StichtagDatJahr\": \"2020-01-01T00:00:00\", \"StatZoneSort\": 1303, \"StatZoneLang\": \"Stadthaus\", \"QuarSort\": 13, \"QuarLang\": \"Lindenhof\", \"KreisSort\": 1, \"herkunftSort\": 2, \"KonOGDSort\": 1, \"KonOGDKurz\": \"EV-REF\", \"AnzBestWir\": 0}, {\"StichtagDatJahr\": \"2020-01-01T00:00:00\", \"StatZoneSort\": 1303, \"StatZoneLang\": \"Stadthaus\", \"QuarSort\": 13, \"QuarLang\": \"Lindenhof\", \"KreisSort\": 1, \"herkunftSort\": 2, \"KonOGDSort\": 2, \"KonOGDKurz\": \"RK\", \"AnzBestWir\": 4}, {\"StichtagDatJahr\": \"2020-01-01T00:00:00\", \"StatZoneSort\": 1303, \"StatZoneLang\": \"Stadthaus\", \"QuarSort\": 13, \"QuarLang\": \"Lindenhof\", \"KreisSort\": 1, \"herkunftSort\": 2, \"KonOGDSort\": 4, \"KonOGDKurz\": \"andere Konf.\", \"AnzBestWir\": 3}, {\"StichtagDatJahr\": \"2020-01-01T00:00:00\", \"StatZoneSort\": 1401, \"StatZoneLang\": \"Bahnhofplatz\", \"QuarSort\": 14, \"QuarLang\": \"City\", \"KreisSort\": 1, \"herkunftSort\": 1, \"KonOGDSort\": 1, \"KonOGDKurz\": \"EV-REF\", \"AnzBestWir\": 5}, {\"StichtagDatJahr\": \"2020-01-01T00:00:00\", \"StatZoneSort\": 1401, \"StatZoneLang\": \"Bahnhofplatz\", \"QuarSort\": 14, \"QuarLang\": \"City\", \"KreisSort\": 1, \"herkunftSort\": 1, \"KonOGDSort\": 2, \"KonOGDKurz\": \"RK\", \"AnzBestWir\": 3}, {\"StichtagDatJahr\": \"2020-01-01T00:00:00\", \"StatZoneSort\": 1401, \"StatZoneLang\": \"Bahnhofplatz\", \"QuarSort\": 14, \"QuarLang\": \"City\", \"KreisSort\": 1, \"herkunftSort\": 1, \"KonOGDSort\": 4, \"KonOGDKurz\": \"andere Konf.\", \"AnzBestWir\": 18}, {\"StichtagDatJahr\": \"2020-01-01T00:00:00\", \"StatZoneSort\": 1401, \"StatZoneLang\": \"Bahnhofplatz\", \"QuarSort\": 14, \"QuarLang\": \"City\", \"KreisSort\": 1, \"herkunftSort\": 2, \"KonOGDSort\": 2, \"KonOGDKurz\": \"RK\", \"AnzBestWir\": 2}, {\"StichtagDatJahr\": \"2020-01-01T00:00:00\", \"StatZoneSort\": 1401, \"StatZoneLang\": \"Bahnhofplatz\", \"QuarSort\": 14, \"QuarLang\": \"City\", \"KreisSort\": 1, \"herkunftSort\": 2, \"KonOGDSort\": 4, \"KonOGDKurz\": \"andere Konf.\", \"AnzBestWir\": 5}, {\"StichtagDatJahr\": \"2020-01-01T00:00:00\", \"StatZoneSort\": 1402, \"StatZoneLang\": \"Sihlporte\", \"QuarSort\": 14, \"QuarLang\": \"City\", \"KreisSort\": 1, \"herkunftSort\": 1, \"KonOGDSort\": 1, \"KonOGDKurz\": \"EV-REF\", \"AnzBestWir\": 19}, {\"StichtagDatJahr\": \"2020-01-01T00:00:00\", \"StatZoneSort\": 1402, \"StatZoneLang\": \"Sihlporte\", \"QuarSort\": 14, \"QuarLang\": \"City\", \"KreisSort\": 1, \"herkunftSort\": 1, \"KonOGDSort\": 2, \"KonOGDKurz\": \"RK\", \"AnzBestWir\": 14}, {\"StichtagDatJahr\": \"2020-01-01T00:00:00\", \"StatZoneSort\": 1402, \"StatZoneLang\": \"Sihlporte\", \"QuarSort\": 14, \"QuarLang\": \"City\", \"KreisSort\": 1, \"herkunftSort\": 1, \"KonOGDSort\": 4, \"KonOGDKurz\": \"andere Konf.\", \"AnzBestWir\": 38}, {\"StichtagDatJahr\": \"2020-01-01T00:00:00\", \"StatZoneSort\": 1402, \"StatZoneLang\": \"Sihlporte\", \"QuarSort\": 14, \"QuarLang\": \"City\", \"KreisSort\": 1, \"herkunftSort\": 2, \"KonOGDSort\": 1, \"KonOGDKurz\": \"EV-REF\", \"AnzBestWir\": 6}, {\"StichtagDatJahr\": \"2020-01-01T00:00:00\", \"StatZoneSort\": 1402, \"StatZoneLang\": \"Sihlporte\", \"QuarSort\": 14, \"QuarLang\": \"City\", \"KreisSort\": 1, \"herkunftSort\": 2, \"KonOGDSort\": 2, \"KonOGDKurz\": \"RK\", \"AnzBestWir\": 18}, {\"StichtagDatJahr\": \"2020-01-01T00:00:00\", \"StatZoneSort\": 1402, \"StatZoneLang\": \"Sihlporte\", \"QuarSort\": 14, \"QuarLang\": \"City\", \"KreisSort\": 1, \"herkunftSort\": 2, \"KonOGDSort\": 4, \"KonOGDKurz\": \"andere Konf.\", \"AnzBestWir\": 45}, {\"StichtagDatJahr\": \"2020-01-01T00:00:00\", \"StatZoneSort\": 1403, \"StatZoneLang\": \"Selnaustrasse\", \"QuarSort\": 14, \"QuarLang\": \"City\", \"KreisSort\": 1, \"herkunftSort\": 1, \"KonOGDSort\": 1, \"KonOGDKurz\": \"EV-REF\", \"AnzBestWir\": 103}, {\"StichtagDatJahr\": \"2020-01-01T00:00:00\", \"StatZoneSort\": 1403, \"StatZoneLang\": \"Selnaustrasse\", \"QuarSort\": 14, \"QuarLang\": \"City\", \"KreisSort\": 1, \"herkunftSort\": 1, \"KonOGDSort\": 2, \"KonOGDKurz\": \"RK\", \"AnzBestWir\": 109}, {\"StichtagDatJahr\": \"2020-01-01T00:00:00\", \"StatZoneSort\": 1403, \"StatZoneLang\": \"Selnaustrasse\", \"QuarSort\": 14, \"QuarLang\": \"City\", \"KreisSort\": 1, \"herkunftSort\": 1, \"KonOGDSort\": 4, \"KonOGDKurz\": \"andere Konf.\", \"AnzBestWir\": 232}, {\"StichtagDatJahr\": \"2020-01-01T00:00:00\", \"StatZoneSort\": 1403, \"StatZoneLang\": \"Selnaustrasse\", \"QuarSort\": 14, \"QuarLang\": \"City\", \"KreisSort\": 1, \"herkunftSort\": 2, \"KonOGDSort\": 1, \"KonOGDKurz\": \"EV-REF\", \"AnzBestWir\": 14}, {\"StichtagDatJahr\": \"2020-01-01T00:00:00\", \"StatZoneSort\": 1403, \"StatZoneLang\": \"Selnaustrasse\", \"QuarSort\": 14, \"QuarLang\": \"City\", \"KreisSort\": 1, \"herkunftSort\": 2, \"KonOGDSort\": 2, \"KonOGDKurz\": \"RK\", \"AnzBestWir\": 39}, {\"StichtagDatJahr\": \"2020-01-01T00:00:00\", \"StatZoneSort\": 1403, \"StatZoneLang\": \"Selnaustrasse\", \"QuarSort\": 14, \"QuarLang\": \"City\", \"KreisSort\": 1, \"herkunftSort\": 2, \"KonOGDSort\": 4, \"KonOGDKurz\": \"andere Konf.\", \"AnzBestWir\": 119}, {\"StichtagDatJahr\": \"2020-01-01T00:00:00\", \"StatZoneSort\": 1404, \"StatZoneLang\": \"Paradeplatz\", \"QuarSort\": 14, \"QuarLang\": \"City\", \"KreisSort\": 1, \"herkunftSort\": 1, \"KonOGDSort\": 1, \"KonOGDKurz\": \"EV-REF\", \"AnzBestWir\": 6}, {\"StichtagDatJahr\": \"2020-01-01T00:00:00\", \"StatZoneSort\": 1404, \"StatZoneLang\": \"Paradeplatz\", \"QuarSort\": 14, \"QuarLang\": \"City\", \"KreisSort\": 1, \"herkunftSort\": 1, \"KonOGDSort\": 2, \"KonOGDKurz\": \"RK\", \"AnzBestWir\": 6}, {\"StichtagDatJahr\": \"2020-01-01T00:00:00\", \"StatZoneSort\": 1404, \"StatZoneLang\": \"Paradeplatz\", \"QuarSort\": 14, \"QuarLang\": \"City\", \"KreisSort\": 1, \"herkunftSort\": 1, \"KonOGDSort\": 4, \"KonOGDKurz\": \"andere Konf.\", \"AnzBestWir\": 14}, {\"StichtagDatJahr\": \"2020-01-01T00:00:00\", \"StatZoneSort\": 1404, \"StatZoneLang\": \"Paradeplatz\", \"QuarSort\": 14, \"QuarLang\": \"City\", \"KreisSort\": 1, \"herkunftSort\": 2, \"KonOGDSort\": 2, \"KonOGDKurz\": \"RK\", \"AnzBestWir\": 7}, {\"StichtagDatJahr\": \"2020-01-01T00:00:00\", \"StatZoneSort\": 1404, \"StatZoneLang\": \"Paradeplatz\", \"QuarSort\": 14, \"QuarLang\": \"City\", \"KreisSort\": 1, \"herkunftSort\": 2, \"KonOGDSort\": 4, \"KonOGDKurz\": \"andere Konf.\", \"AnzBestWir\": 7}]}}, {\"mode\": \"vega-lite\"});\n",
       "</script>"
      ],
      "text/plain": [
       "alt.Chart(...)"
      ]
     },
     "execution_count": 47,
     "metadata": {},
     "output_type": "execute_result"
    }
   ],
   "source": [
    "alt.Chart(mySelection).mark_circle(size=60).encode(\n",
    "    x='StatZoneLang',\n",
    "    y='KonOGDKurz',\n",
    "    color='AnzBestWir',\n",
    "    tooltip=['KonOGDKurz','StichtagDatJahr','AnzBestWir']\n",
    ").interactive() # this makes the axes interactive: now you can zoom & pan\n",
    "\n"
   ]
  },
  {
   "cell_type": "code",
   "execution_count": 48,
   "metadata": {},
   "outputs": [
    {
     "data": {
      "image/png": "[encoded data removed]",
      "text/plain": [
       "<Figure size 432x288 with 1 Axes>"
      ]
     },
     "metadata": {},
     "output_type": "display_data"
    }
   ],
   "source": [
    "import seaborn as sns\n",
    "sns.set(style=\"darkgrid\")\n",
    "sns.histplot(data=mySelection, x=\"AnzBestWir\") #, y=\"KonOGDKurz\")\n",
    "plt.show();"
   ]
  },
  {
   "cell_type": "markdown",
   "metadata": {},
   "source": [
    "Test: Choroplethenkarte"
   ]
  },
  {
   "cell_type": "markdown",
   "metadata": {},
   "source": [
    "**Test: Choroplethenkarte**\n",
    "Importiere die Geodaten als GeoJSON"
   ]
  },
  {
   "cell_type": "code",
   "execution_count": 49,
   "metadata": {},
   "outputs": [
    {
     "data": {
      "text/html": [
       "<div>\n",
       "<style scoped>\n",
       "    .dataframe tbody tr th:only-of-type {\n",
       "        vertical-align: middle;\n",
       "    }\n",
       "\n",
       "    .dataframe tbody tr th {\n",
       "        vertical-align: top;\n",
       "    }\n",
       "\n",
       "    .dataframe thead th {\n",
       "        text-align: right;\n",
       "    }\n",
       "</style>\n",
       "<table border=\"1\" class=\"dataframe\">\n",
       "  <thead>\n",
       "    <tr style=\"text-align: right;\">\n",
       "      <th></th>\n",
       "      <th>id</th>\n",
       "      <th>kname</th>\n",
       "      <th>knr</th>\n",
       "      <th>objectid</th>\n",
       "      <th>objid</th>\n",
       "      <th>qname</th>\n",
       "      <th>qnr</th>\n",
       "      <th>stzname</th>\n",
       "      <th>stznr</th>\n",
       "      <th>geometry</th>\n",
       "    </tr>\n",
       "  </thead>\n",
       "  <tbody>\n",
       "    <tr>\n",
       "      <th>0</th>\n",
       "      <td>adm_statzonen_map.1</td>\n",
       "      <td>Kreis 7</td>\n",
       "      <td>7</td>\n",
       "      <td>1</td>\n",
       "      <td>154</td>\n",
       "      <td>Hirslanden</td>\n",
       "      <td>73</td>\n",
       "      <td>Hegibach</td>\n",
       "      <td>7303</td>\n",
       "      <td>POLYGON ((8.55670 47.36406, 8.55682 47.36410, ...</td>\n",
       "    </tr>\n",
       "    <tr>\n",
       "      <th>1</th>\n",
       "      <td>adm_statzonen_map.2</td>\n",
       "      <td>Kreis 7</td>\n",
       "      <td>7</td>\n",
       "      <td>2</td>\n",
       "      <td>89</td>\n",
       "      <td>Hirslanden</td>\n",
       "      <td>73</td>\n",
       "      <td>Klus</td>\n",
       "      <td>7302</td>\n",
       "      <td>POLYGON ((8.57281 47.35806, 8.57278 47.35807, ...</td>\n",
       "    </tr>\n",
       "    <tr>\n",
       "      <th>2</th>\n",
       "      <td>adm_statzonen_map.3</td>\n",
       "      <td>Kreis 7</td>\n",
       "      <td>7</td>\n",
       "      <td>3</td>\n",
       "      <td>88</td>\n",
       "      <td>Hirslanden</td>\n",
       "      <td>73</td>\n",
       "      <td>Degenried</td>\n",
       "      <td>7301</td>\n",
       "      <td>POLYGON ((8.59087 47.36850, 8.59066 47.36823, ...</td>\n",
       "    </tr>\n",
       "    <tr>\n",
       "      <th>3</th>\n",
       "      <td>adm_statzonen_map.37</td>\n",
       "      <td>Kreis 2</td>\n",
       "      <td>2</td>\n",
       "      <td>37</td>\n",
       "      <td>153</td>\n",
       "      <td>Enge</td>\n",
       "      <td>24</td>\n",
       "      <td>Gartenstrasse</td>\n",
       "      <td>2406</td>\n",
       "      <td>POLYGON ((8.53741 47.36846, 8.53731 47.36841, ...</td>\n",
       "    </tr>\n",
       "    <tr>\n",
       "      <th>4</th>\n",
       "      <td>adm_statzonen_map.4</td>\n",
       "      <td>Kreis 8</td>\n",
       "      <td>8</td>\n",
       "      <td>4</td>\n",
       "      <td>105</td>\n",
       "      <td>Weinegg</td>\n",
       "      <td>83</td>\n",
       "      <td>Neumünster</td>\n",
       "      <td>8301</td>\n",
       "      <td>POLYGON ((8.55670 47.36405, 8.55672 47.36403, ...</td>\n",
       "    </tr>\n",
       "  </tbody>\n",
       "</table>\n",
       "</div>"
      ],
      "text/plain": [
       "                     id    kname  knr  objectid objid       qname  qnr        stzname  stznr  \\\n",
       "0   adm_statzonen_map.1  Kreis 7    7         1   154  Hirslanden   73       Hegibach   7303   \n",
       "1   adm_statzonen_map.2  Kreis 7    7         2    89  Hirslanden   73           Klus   7302   \n",
       "2   adm_statzonen_map.3  Kreis 7    7         3    88  Hirslanden   73      Degenried   7301   \n",
       "3  adm_statzonen_map.37  Kreis 2    2        37   153        Enge   24  Gartenstrasse   2406   \n",
       "4   adm_statzonen_map.4  Kreis 8    8         4   105     Weinegg   83     Neumünster   8301   \n",
       "\n",
       "                                            geometry  \n",
       "0  POLYGON ((8.55670 47.36406, 8.55682 47.36410, ...  \n",
       "1  POLYGON ((8.57281 47.35806, 8.57278 47.35807, ...  \n",
       "2  POLYGON ((8.59087 47.36850, 8.59066 47.36823, ...  \n",
       "3  POLYGON ((8.53741 47.36846, 8.53731 47.36841, ...  \n",
       "4  POLYGON ((8.55670 47.36405, 8.55672 47.36403, ...  "
      ]
     },
     "execution_count": 49,
     "metadata": {},
     "output_type": "execute_result"
    }
   ],
   "source": [
    "# Read abt. Geopandas https://geopandas.org/docs/user_guide/io.html\n",
    "# Wenn die Daten lokal agelegt sind, dann kannst Du folgendes machen:\n",
    "##input_stadtquartiere = r\"//szh.loc/ssz/data/GIS/Daten/Vektor/_aktuell/stzh.adm_statistische_quartiere_map.json\"\n",
    "##df_stadtquartiere = gpd.read_file(input_stadtquartiere)\n",
    "##df_stadtquartiere.head(2)\n",
    "#df_stadtkreise.dtypes\n",
    "\n",
    "quart_geojson_url = \"https://www.ogd.stadt-zuerich.ch/wfs/geoportal/Statistische_Quartiere?service=WFS&version=1.1.0&request=GetFeature&outputFormat=GeoJSON&typename=adm_statistische_quartiere_map\"\n",
    "df_adm_statistische_quartiere_map = gpd.read_file(quart_geojson_url)\n",
    "\n",
    "statz_geojson_url = \"https://www.ogd.stadt-zuerich.ch/wfs/geoportal/Statistische_Zonen?service=WFS&version=1.1.0&request=GetFeature&outputFormat=GeoJSON&typename=adm_statzonen_map\"\n",
    "df_adm_statzonen_map = gpd.read_file(statz_geojson_url)\n",
    "\n",
    "\n",
    "#df_adm_statistische_quartiere_map.head(5)\n",
    "df_adm_statzonen_map.head(5)\n"
   ]
  },
  {
   "cell_type": "markdown",
   "metadata": {},
   "source": [
    "Joine die importierten statistischen Daten des aktuellen Jahres zum Geodatensatz:\n",
    "\n",
    "*Siehe dazu Doku zu [Geopandas](https://geopandas.org/docs/user_guide/mergingdata.html)*"
   ]
  },
  {
   "cell_type": "code",
   "execution_count": 25,
   "metadata": {},
   "outputs": [
    {
     "data": {
      "text/html": [
       "<div>\n",
       "<style scoped>\n",
       "    .dataframe tbody tr th:only-of-type {\n",
       "        vertical-align: middle;\n",
       "    }\n",
       "\n",
       "    .dataframe tbody tr th {\n",
       "        vertical-align: top;\n",
       "    }\n",
       "\n",
       "    .dataframe thead th {\n",
       "        text-align: right;\n",
       "    }\n",
       "</style>\n",
       "<table border=\"1\" class=\"dataframe\">\n",
       "  <thead>\n",
       "    <tr style=\"text-align: right;\">\n",
       "      <th></th>\n",
       "      <th>geometry</th>\n",
       "      <th>StatZoneSort</th>\n",
       "      <th>StichtagDatJahr</th>\n",
       "      <th>StatZoneLang</th>\n",
       "      <th>QuarSort</th>\n",
       "      <th>QuarLang</th>\n",
       "      <th>KreisSort</th>\n",
       "      <th>herkunftSort</th>\n",
       "      <th>KonOGDSort</th>\n",
       "      <th>KonOGDKurz</th>\n",
       "      <th>AnzBestWir</th>\n",
       "    </tr>\n",
       "  </thead>\n",
       "  <tbody>\n",
       "    <tr>\n",
       "      <th>0</th>\n",
       "      <td>POLYGON ((8.55670 47.36406, 8.55682 47.36410, ...</td>\n",
       "      <td>7303</td>\n",
       "      <td>2020-01-01</td>\n",
       "      <td>Hegibach</td>\n",
       "      <td>73</td>\n",
       "      <td>Hirslanden</td>\n",
       "      <td>7</td>\n",
       "      <td>1</td>\n",
       "      <td>1</td>\n",
       "      <td>EV-REF</td>\n",
       "      <td>815</td>\n",
       "    </tr>\n",
       "    <tr>\n",
       "      <th>1</th>\n",
       "      <td>POLYGON ((8.55670 47.36406, 8.55682 47.36410, ...</td>\n",
       "      <td>7303</td>\n",
       "      <td>2020-01-01</td>\n",
       "      <td>Hegibach</td>\n",
       "      <td>73</td>\n",
       "      <td>Hirslanden</td>\n",
       "      <td>7</td>\n",
       "      <td>1</td>\n",
       "      <td>2</td>\n",
       "      <td>RK</td>\n",
       "      <td>578</td>\n",
       "    </tr>\n",
       "    <tr>\n",
       "      <th>2</th>\n",
       "      <td>POLYGON ((8.55670 47.36406, 8.55682 47.36410, ...</td>\n",
       "      <td>7303</td>\n",
       "      <td>2020-01-01</td>\n",
       "      <td>Hegibach</td>\n",
       "      <td>73</td>\n",
       "      <td>Hirslanden</td>\n",
       "      <td>7</td>\n",
       "      <td>1</td>\n",
       "      <td>4</td>\n",
       "      <td>andere Konf.</td>\n",
       "      <td>1170</td>\n",
       "    </tr>\n",
       "  </tbody>\n",
       "</table>\n",
       "</div>"
      ],
      "text/plain": [
       "                                            geometry  StatZoneSort StichtagDatJahr StatZoneLang  \\\n",
       "0  POLYGON ((8.55670 47.36406, 8.55682 47.36410, ...          7303      2020-01-01     Hegibach   \n",
       "1  POLYGON ((8.55670 47.36406, 8.55682 47.36410, ...          7303      2020-01-01     Hegibach   \n",
       "2  POLYGON ((8.55670 47.36406, 8.55682 47.36410, ...          7303      2020-01-01     Hegibach   \n",
       "\n",
       "   QuarSort    QuarLang  KreisSort  herkunftSort  KonOGDSort    KonOGDKurz  AnzBestWir  \n",
       "0        73  Hirslanden          7             1           1        EV-REF         815  \n",
       "1        73  Hirslanden          7             1           2            RK         578  \n",
       "2        73  Hirslanden          7             1           4  andere Konf.        1170  "
      ]
     },
     "execution_count": 25,
     "metadata": {},
     "output_type": "execute_result"
    }
   ],
   "source": [
    "# Rename attribute stznr to StatZoneSort, so the IDs have the same name\n",
    "\n",
    "statzonen_shapes = df_adm_statzonen_map[['geometry', 'stznr']].rename(columns={'stznr': 'StatZoneSort'})\n",
    "\n",
    "# Merge with `merge` method on shared variable (stznr und StatZoneSort):\n",
    "statzonen_shapes_aktJahr = statzonen_shapes.merge(aktuellesJahr, on='StatZoneSort')\n",
    "\n",
    "statzonen_shapes_aktJahr.head(3)\n"
   ]
  },
  {
   "cell_type": "code",
   "execution_count": 26,
   "metadata": {},
   "outputs": [
    {
     "data": {
      "text/plain": [
       "<AxesSubplot:>"
      ]
     },
     "execution_count": 26,
     "metadata": {},
     "output_type": "execute_result"
    },
    {
     "data": {
      "image/png": "[encoded data removed]",
      "text/plain": [
       "<Figure size 432x288 with 1 Axes>"
      ]
     },
     "metadata": {},
     "output_type": "display_data"
    }
   ],
   "source": [
    "# Plot by StatZonen\n",
    "\n",
    "statzonen_shapes_aktJahr.plot(column='AnzBestWir', cmap='viridis', scheme='quantiles', legend=True )\n",
    "#scheme werte: https://matplotlib.org/2.0.2/users/colormaps.html\n",
    "\n"
   ]
  },
  {
   "cell_type": "code",
   "execution_count": 27,
   "metadata": {},
   "outputs": [
    {
     "data": {
      "text/plain": [
       "<AxesSubplot:>"
      ]
     },
     "execution_count": 27,
     "metadata": {},
     "output_type": "execute_result"
    },
    {
     "data": {
      "image/png": "[encoded data removed]",
      "text/plain": [
       "<Figure size 432x288 with 2 Axes>"
      ]
     },
     "metadata": {},
     "output_type": "display_data"
    }
   ],
   "source": [
    "fig, ax = plt.subplots(1, 1)\n",
    "\n",
    "statzonen_shapes_aktJahr.plot(column='AnzBestWir', ax=ax, legend=True, legend_kwds={'label': \"Anzahl Personen\",'orientation': \"horizontal\"})\n"
   ]
  },
  {
   "cell_type": "code",
   "execution_count": 28,
   "metadata": {},
   "outputs": [
    {
     "data": {
      "text/html": [
       "<div>\n",
       "<style scoped>\n",
       "    .dataframe tbody tr th:only-of-type {\n",
       "        vertical-align: middle;\n",
       "    }\n",
       "\n",
       "    .dataframe tbody tr th {\n",
       "        vertical-align: top;\n",
       "    }\n",
       "\n",
       "    .dataframe thead th {\n",
       "        text-align: right;\n",
       "    }\n",
       "</style>\n",
       "<table border=\"1\" class=\"dataframe\">\n",
       "  <thead>\n",
       "    <tr style=\"text-align: right;\">\n",
       "      <th></th>\n",
       "      <th>geometry</th>\n",
       "      <th>StatZoneSort</th>\n",
       "      <th>KonOGDKurz</th>\n",
       "      <th>AnzBestWir</th>\n",
       "    </tr>\n",
       "  </thead>\n",
       "  <tbody>\n",
       "    <tr>\n",
       "      <th>0</th>\n",
       "      <td>POLYGON ((8.55670 47.36406, 8.55682 47.36410, ...</td>\n",
       "      <td>7303</td>\n",
       "      <td>EV-REF</td>\n",
       "      <td>815</td>\n",
       "    </tr>\n",
       "    <tr>\n",
       "      <th>1</th>\n",
       "      <td>POLYGON ((8.55670 47.36406, 8.55682 47.36410, ...</td>\n",
       "      <td>7303</td>\n",
       "      <td>RK</td>\n",
       "      <td>578</td>\n",
       "    </tr>\n",
       "    <tr>\n",
       "      <th>2</th>\n",
       "      <td>POLYGON ((8.55670 47.36406, 8.55682 47.36410, ...</td>\n",
       "      <td>7303</td>\n",
       "      <td>andere Konf.</td>\n",
       "      <td>1170</td>\n",
       "    </tr>\n",
       "    <tr>\n",
       "      <th>3</th>\n",
       "      <td>POLYGON ((8.55670 47.36406, 8.55682 47.36410, ...</td>\n",
       "      <td>7303</td>\n",
       "      <td>EV-REF</td>\n",
       "      <td>66</td>\n",
       "    </tr>\n",
       "    <tr>\n",
       "      <th>4</th>\n",
       "      <td>POLYGON ((8.55670 47.36406, 8.55682 47.36410, ...</td>\n",
       "      <td>7303</td>\n",
       "      <td>RK</td>\n",
       "      <td>201</td>\n",
       "    </tr>\n",
       "    <tr>\n",
       "      <th>...</th>\n",
       "      <td>...</td>\n",
       "      <td>...</td>\n",
       "      <td>...</td>\n",
       "      <td>...</td>\n",
       "    </tr>\n",
       "    <tr>\n",
       "      <th>1265</th>\n",
       "      <td>POLYGON ((8.52688 47.38273, 8.52685 47.38273, ...</td>\n",
       "      <td>5101</td>\n",
       "      <td>RK</td>\n",
       "      <td>428</td>\n",
       "    </tr>\n",
       "    <tr>\n",
       "      <th>1266</th>\n",
       "      <td>POLYGON ((8.52688 47.38273, 8.52685 47.38273, ...</td>\n",
       "      <td>5101</td>\n",
       "      <td>andere Konf.</td>\n",
       "      <td>1232</td>\n",
       "    </tr>\n",
       "    <tr>\n",
       "      <th>1267</th>\n",
       "      <td>POLYGON ((8.52688 47.38273, 8.52685 47.38273, ...</td>\n",
       "      <td>5101</td>\n",
       "      <td>EV-REF</td>\n",
       "      <td>29</td>\n",
       "    </tr>\n",
       "    <tr>\n",
       "      <th>1268</th>\n",
       "      <td>POLYGON ((8.52688 47.38273, 8.52685 47.38273, ...</td>\n",
       "      <td>5101</td>\n",
       "      <td>RK</td>\n",
       "      <td>191</td>\n",
       "    </tr>\n",
       "    <tr>\n",
       "      <th>1269</th>\n",
       "      <td>POLYGON ((8.52688 47.38273, 8.52685 47.38273, ...</td>\n",
       "      <td>5101</td>\n",
       "      <td>andere Konf.</td>\n",
       "      <td>367</td>\n",
       "    </tr>\n",
       "  </tbody>\n",
       "</table>\n",
       "<p>1270 rows × 4 columns</p>\n",
       "</div>"
      ],
      "text/plain": [
       "                                               geometry  StatZoneSort    KonOGDKurz  AnzBestWir\n",
       "0     POLYGON ((8.55670 47.36406, 8.55682 47.36410, ...          7303        EV-REF         815\n",
       "1     POLYGON ((8.55670 47.36406, 8.55682 47.36410, ...          7303            RK         578\n",
       "2     POLYGON ((8.55670 47.36406, 8.55682 47.36410, ...          7303  andere Konf.        1170\n",
       "3     POLYGON ((8.55670 47.36406, 8.55682 47.36410, ...          7303        EV-REF          66\n",
       "4     POLYGON ((8.55670 47.36406, 8.55682 47.36410, ...          7303            RK         201\n",
       "...                                                 ...           ...           ...         ...\n",
       "1265  POLYGON ((8.52688 47.38273, 8.52685 47.38273, ...          5101            RK         428\n",
       "1266  POLYGON ((8.52688 47.38273, 8.52685 47.38273, ...          5101  andere Konf.        1232\n",
       "1267  POLYGON ((8.52688 47.38273, 8.52685 47.38273, ...          5101        EV-REF          29\n",
       "1268  POLYGON ((8.52688 47.38273, 8.52685 47.38273, ...          5101            RK         191\n",
       "1269  POLYGON ((8.52688 47.38273, 8.52685 47.38273, ...          5101  andere Konf.         367\n",
       "\n",
       "[1270 rows x 4 columns]"
      ]
     },
     "execution_count": 28,
     "metadata": {},
     "output_type": "execute_result"
    }
   ],
   "source": [
    "\n",
    "    \n",
    "#Bsp. Filter\n",
    "    # df_statzonen = df_statzonen[(df_statzonen.knr>0) & (df_statzonen.qname!=\"Hirslanden\")]\n",
    "#Bsp. Berechne Attribut\n",
    "    #world['gdp_per_cap'] = world.gdp_md_est / world.pop_est\n",
    "\n",
    "statzonen_shapes_aktJahr[['geometry','StatZoneSort', 'KonOGDKurz', 'AnzBestWir']].agg(sum)\n",
    "statzonen_shapes_aktJahr[['geometry','StatZoneSort', 'KonOGDKurz', 'AnzBestWir']]\n",
    "\n",
    "    "
   ]
  },
  {
   "cell_type": "markdown",
   "metadata": {},
   "source": [
    "#Link https://automating-gis-processes.github.io/site/notebooks/L5/interactive-map-folium.html\n",
    "\n",
    "# Create a Map instance\n",
    "m = folium.Map(location=[60.25, 24.8], tiles = 'cartodbpositron', zoom_start=10, control_scale=True)\n",
    "\n",
    "# Plot a choropleth map\n",
    "# Notice: 'geoid' column that we created earlier needs to be assigned always as the first column\n",
    "folium.Choropleth(\n",
    "    geo_data=data,\n",
    "    name='Population in 2018',\n",
    "    data=data,\n",
    "    columns=['geoid', 'pop18'],\n",
    "    key_on='feature.id',\n",
    "    fill_color='YlOrRd',\n",
    "    fill_opacity=0.7,\n",
    "    line_opacity=0.2,\n",
    "    line_color='white',\n",
    "    line_weight=0,\n",
    "    highlight=False,\n",
    "    smooth_factor=1.0,\n",
    "    #threshold_scale=[100, 250, 500, 1000, 2000],\n",
    "    legend_name= 'Population in Helsinki').add_to(m)\n",
    "\n",
    "#Show map\n",
    "m"
   ]
  },
  {
   "cell_type": "markdown",
   "metadata": {},
   "source": [
    "Noch zu prüfen, folgendes schöne Beispiel: https://docs.bokeh.org/en/latest/docs/user_guide/interaction/legends.html\n",
    "\n",
    "Konkrete Beispiele von Bookeh in Jupyter NB: https://docs.bokeh.org/en/latest/docs/user_guide/jupyter.html"
   ]
  },
  {
   "cell_type": "code",
   "execution_count": null,
   "metadata": {},
   "outputs": [],
   "source": [
    "\n"
   ]
  },
  {
   "cell_type": "code",
   "execution_count": null,
   "metadata": {},
   "outputs": [],
   "source": []
  },
  {
   "cell_type": "code",
   "execution_count": null,
   "metadata": {},
   "outputs": [],
   "source": []
  }
 ],
 "metadata": {
  "kernelspec": {
   "display_name": "Python 3 (ipykernel)",
   "language": "python",
   "name": "python3"
  },
  "language_info": {
   "codemirror_mode": {
    "name": "ipython",
    "version": 3
   },
   "file_extension": ".py",
   "mimetype": "text/x-python",
   "name": "python",
   "nbconvert_exporter": "python",
   "pygments_lexer": "ipython3",
   "version": "3.9.7"
  }
 },
 "nbformat": 4,
 "nbformat_minor": 4
}
