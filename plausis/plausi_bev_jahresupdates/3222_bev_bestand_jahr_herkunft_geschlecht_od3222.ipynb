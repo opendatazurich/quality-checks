{
 "cells": [
  {
   "cell_type": "markdown",
   "metadata": {},
   "source": [
    "# Testing\n",
    "### Bevölkerung nach Herkunft und Geschlecht, seit 1901\n",
    "Beschreibung\n",
    "Wirtschaftliche Wohnbevölkerung der Stadt Zürich nach Herkunft, Geschlecht und Jahr, seit 1901.\n",
    "\n",
    "Datum: 15.03.2022\n"
   ]
  },
  {
   "cell_type": "markdown",
   "metadata": {},
   "source": [
    "### Importiere die notwendigen Packages"
   ]
  },
  {
   "cell_type": "code",
   "execution_count": 1,
   "metadata": {},
   "outputs": [],
   "source": [
    "#%pip install geopandas altair fiona requests folium mplleaflet contextily seaborn datetime plotly leafmap"
   ]
  },
  {
   "cell_type": "code",
   "execution_count": 2,
   "metadata": {},
   "outputs": [],
   "source": [
    "import pandas as pd\n",
    "import pivottablejs\n",
    "from pivottablejs import pivot_ui\n",
    "import numpy as np\n",
    "import altair as alt\n",
    "import matplotlib.pyplot as plt\n",
    "\n",
    "import datetime\n",
    "import geopandas as gpd\n",
    "import folium \n",
    "import plotly.express as px\n",
    "import seaborn as sns\n",
    "import leafmap\n",
    "\n",
    "import requests\n",
    "import io\n"
   ]
  },
  {
   "cell_type": "code",
   "execution_count": 3,
   "metadata": {},
   "outputs": [],
   "source": [
    "SSL_VERIFY = False\n",
    "# evtl. SSL_VERIFY auf False setzen wenn die Verbindung zu https://www.gemeinderat-zuerich.ch nicht klappt (z.B. wegen Proxy)\n",
    "# Um die SSL Verifikation auszustellen, bitte die nächste Zeile einkommentieren (\"#\" entfernen)\n",
    "# SSL_VERIFY = False"
   ]
  },
  {
   "cell_type": "code",
   "execution_count": 4,
   "metadata": {},
   "outputs": [],
   "source": [
    "if not SSL_VERIFY:\n",
    "    import urllib3\n",
    "    urllib3.disable_warnings()"
   ]
  },
  {
   "cell_type": "markdown",
   "metadata": {},
   "source": [
    "Definiere Settings. Hier das Zahlenformat von Float-Werten (z.B. *'{:,.2f}'.format* mit Komma als Tausenderzeichen), "
   ]
  },
  {
   "cell_type": "code",
   "execution_count": 5,
   "metadata": {},
   "outputs": [],
   "source": [
    "#pd.options.display.float_format = lambda x : '{:,.1f}'.format(x) if (np.isnan(x) | np.isinf(x)) else '{:,.0f}'.format(x) if int(x) == x else '{:,.1f}'.format(x)\n",
    "pd.options.display.float_format = '{:.0f}'.format\n",
    "pd.set_option('display.width', 100)\n",
    "pd.set_option('display.max_columns', 15)"
   ]
  },
  {
   "cell_type": "markdown",
   "metadata": {},
   "source": [
    "### Zeitvariabeln\n",
    "Bestimme den aktuellst geladenen Monat. Hier ist es der Stand vor 2 Monaten. \n",
    "Bestimme noch weitere evt. sinnvolle Zeitvariabeln.\n",
    "\n",
    "Zum Unterschied zwischen import datetime und from datedtime import datetime, siehe https://stackoverflow.com/questions/15707532/import-datetime-v-s-from-datetime-import-datetime\n",
    "\n",
    "Zuerst die Zeitvariabeln als Strings"
   ]
  },
  {
   "cell_type": "code",
   "execution_count": 6,
   "metadata": {},
   "outputs": [],
   "source": [
    "#today_date = datetime.date.today()\n",
    "#date_time = datetime.datetime.strptime(date_time_string, '%Y-%m-%d %H:%M')\n",
    "now = datetime.date.today()\n",
    "date_today = now.strftime(\"%Y-%m-%d\")\n",
    "year_today = now.strftime(\"%Y\")\n",
    "month_today = now.strftime(\"%m\")\n",
    "day_today = now.strftime(\"%d\")\n"
   ]
  },
  {
   "cell_type": "markdown",
   "metadata": {},
   "source": [
    "Und hier noch die Zeitvariabeln als Integers:\n",
    "- `aktuellesJahr`\n",
    "- `aktuellerMonat`: Der gerade jetzt aktuelle Monat\n",
    "- `selectedMonat`: Der aktuellste Monat in den Daten. In der Regel zwei Monate her."
   ]
  },
  {
   "cell_type": "code",
   "execution_count": 7,
   "metadata": {},
   "outputs": [
    {
     "name": "stdout",
     "output_type": "stream",
     "text": [
      "2022 3 datenstand:  1 time.struct_time(tm_year=2022, tm_mon=3, tm_mday=16, tm_hour=0, tm_min=0, tm_sec=0, tm_wday=2, tm_yday=75, tm_isdst=-1)\n"
     ]
    }
   ],
   "source": [
    "#now = datetime.now() \n",
    "int_times = now.timetuple()\n",
    "\n",
    "aktuellesJahr = int_times[0]\n",
    "aktuellerMonat = int_times[1]\n",
    "selectedMonat = int_times[1]-2\n",
    "\n",
    "print(aktuellesJahr, \n",
    "      aktuellerMonat,\n",
    "    'datenstand: ', selectedMonat,\n",
    "     int_times)\n"
   ]
  },
  {
   "cell_type": "markdown",
   "metadata": {},
   "source": [
    "Berechne die Variable Epoche um später das SAS-Datum in ein Unix-Datum umzuwandeln. Bei SAS beginnt die Epoche am 1.1.1960. Bei Unix am 1.1.1970.\n",
    "Diese Variable wird beim CSV-Import benötigt."
   ]
  },
  {
   "cell_type": "code",
   "execution_count": 8,
   "metadata": {},
   "outputs": [],
   "source": [
    "epoch = datetime.datetime(1960, 1, 1)"
   ]
  },
  {
   "cell_type": "markdown",
   "metadata": {},
   "source": [
    "### Setze einige Pfadvariabeln"
   ]
  },
  {
   "cell_type": "markdown",
   "metadata": {
    "tags": []
   },
   "source": [
    "- Der Packagename ist eigentlich der **Verzeichnisname** unter dem die Daten und Metadaten auf der Dropzone abgelegt werden.\n",
    "- Definiert wird er bei SASA-Prozessen auf dem **Produkte-Sharepoint ([Link](https://kollaboration.intranet.stzh.ch/orga/ssz-produkte/Lists/SASA_Outputs/PersonalViews.aspx?PageView=Personal&ShowWebPart={6087A3E7-8AC8-40BA-8278-DECFACE124FF}))**.\n",
    "- Der Packagename wird auf CKAN teil der URL, daher ist die exakte Schreibweise wichtig.\n",
    "\n",
    "Beachte: im Packagename müssen alle Buchstaben **klein** geschrieben werden. Dies weil CKAN aus grossen kleine Buchstaben macht."
   ]
  },
  {
   "cell_type": "markdown",
   "metadata": {},
   "source": [
    "**BITTE HIER ANPASSEN**"
   ]
  },
  {
   "cell_type": "code",
   "execution_count": 9,
   "metadata": {},
   "outputs": [],
   "source": [
    "package_name = \"bev_bestand_jahr_herkunft_geschlecht_od3222\""
   ]
  },
  {
   "cell_type": "code",
   "execution_count": 10,
   "metadata": {
    "tags": []
   },
   "outputs": [],
   "source": [
    "dataset_name = \"BEV322OD3222.csv\""
   ]
  },
  {
   "cell_type": "markdown",
   "metadata": {},
   "source": [
    "**Statische Pfade in DWH-Dropzones**"
   ]
  },
  {
   "cell_type": "code",
   "execution_count": 11,
   "metadata": {},
   "outputs": [],
   "source": [
    "dropzone_path_integ = r\"\\\\szh\\ssz\\applikationen\\OGD_Dropzone\\INT_DWH\""
   ]
  },
  {
   "cell_type": "code",
   "execution_count": 12,
   "metadata": {
    "tags": []
   },
   "outputs": [],
   "source": [
    "dropzone_path_prod = r\"\\\\szh\\ssz\\applikationen\\OGD_Dropzone\\DWH\""
   ]
  },
  {
   "cell_type": "markdown",
   "metadata": {},
   "source": [
    "**Statische Pfade CKAN-URLs**"
   ]
  },
  {
   "cell_type": "code",
   "execution_count": 13,
   "metadata": {
    "tags": []
   },
   "outputs": [],
   "source": [
    "ckan_integ_url =\"https://data.integ.stadt-zuerich.ch/dataset/int_dwh_\""
   ]
  },
  {
   "cell_type": "code",
   "execution_count": 14,
   "metadata": {},
   "outputs": [],
   "source": [
    "ckan_prod_url =\"https://data.stadt-zuerich.ch/dataset/\""
   ]
  },
  {
   "cell_type": "markdown",
   "metadata": {},
   "source": [
    "### Checke die Metadaten auf der CKAN INTEG- oder PROD-Webseite\n",
    "\n",
    "Offenbar lassen sich aktuell im Markdownteil keine Variabeln ausführen, daher gehen wir wie unten gezeigt vor. Siehe dazu: https://data-dive.com/jupyterlab-markdown-cells-include-variables\n",
    "Instead of setting the cell to Markdown, create Markdown from withnin a code cell! We can just use python variable replacement syntax to make the text dynamic"
   ]
  },
  {
   "cell_type": "code",
   "execution_count": 15,
   "metadata": {},
   "outputs": [],
   "source": [
    "from IPython.display import Markdown as md"
   ]
  },
  {
   "cell_type": "code",
   "execution_count": 16,
   "metadata": {},
   "outputs": [
    {
     "data": {
      "text/markdown": [
       " **1. Dataset auf INTEG-Datakatalog:** Link https://data.integ.stadt-zuerich.ch/dataset/int_dwh_bev_bestand_jahr_herkunft_geschlecht_od3222 "
      ],
      "text/plain": [
       "<IPython.core.display.Markdown object>"
      ]
     },
     "execution_count": 16,
     "metadata": {},
     "output_type": "execute_result"
    }
   ],
   "source": [
    "md(\" **1. Dataset auf INTEG-Datakatalog:** Link {} \".format(ckan_integ_url+package_name))"
   ]
  },
  {
   "cell_type": "code",
   "execution_count": 39,
   "metadata": {
    "tags": []
   },
   "outputs": [
    {
     "data": {
      "text/markdown": [
       " **2. Dataset auf PROD-Datakatalog:** Link https://data.stadt-zuerich.ch/dataset/bev_bestand_jahr_herkunft_geschlecht_od3222 "
      ],
      "text/plain": [
       "<IPython.core.display.Markdown object>"
      ]
     },
     "execution_count": 39,
     "metadata": {},
     "output_type": "execute_result"
    }
   ],
   "source": [
    "md(\" **2. Dataset auf PROD-Datakatalog:** Link {} \".format(ckan_prod_url+package_name))"
   ]
  },
  {
   "cell_type": "markdown",
   "metadata": {
    "tags": []
   },
   "source": [
    "### Importiere einen Datensatz \n",
    "\n",
    "Definiere zuerst folgende Werte:\n",
    "1) Kommt der Datensatz von PROD oder INTEG?\n",
    "2) Beziehst Du den Datensatz direkt ab der DROPZONE oder aus dem INTERNET?"
   ]
  },
  {
   "cell_type": "code",
   "execution_count": 40,
   "metadata": {},
   "outputs": [
    {
     "name": "stdout",
     "output_type": "stream",
     "text": [
      "integ - web\n"
     ]
    }
   ],
   "source": [
    "#Die Datasets sind nur zum Testen auf INT-DWH-Dropzone. Wenn der Test vorbei ist, sind sie auf PROD. \n",
    "# Über den Status kann man einfach switchen\n",
    "\n",
    "status = \"integ\"; #prod vs something else\n",
    "data_source = \"web\"; #dropzone vs something else\n",
    "print(status+\" - \"+ data_source)"
   ]
  },
  {
   "cell_type": "code",
   "execution_count": 41,
   "metadata": {
    "tags": []
   },
   "outputs": [
    {
     "name": "stdout",
     "output_type": "stream",
     "text": [
      "fp lautet:https://data.integ.stadt-zuerich.ch/dataset/int_dwh_bev_bestand_jahr_herkunft_geschlecht_od3222/download/BEV322OD3222.csv\n"
     ]
    }
   ],
   "source": [
    "# Filepath\n",
    "if status == \"prod\":\n",
    "    if data_source == \"dropzone\":\n",
    "            fp = dropzone_path_prod+\"\\\\\"+ package_name +\"\\\\\"+dataset_name\n",
    "            print(\"fp lautet:\"+fp)\n",
    "    else:\n",
    "        #fp = r\"https://data.stadt-zuerich.ch/dataset/bau_neubau_whg_bausm_rinh_geb_projstatus_quartier_seit2009_od5011/download/BAU501OD5011.csv\"\n",
    "        fp = ckan_prod_url+package_name+'/download/'+dataset_name\n",
    "        print(\"fp lautet:\"+fp)\n",
    "else:\n",
    "    if data_source == \"dropzone\":\n",
    "        fp = dropzone_path_integ+\"\\\\\"+ package_name +\"\\\\\"+dataset_name\n",
    "        print(\"fp lautet:\"+fp)\n",
    "    else:\n",
    "        #fp = r\"https://data.stadt-zuerich.ch/dataset/bau_neubau_whg_bausm_rinh_geb_projstatus_quartier_seit2009_od5011/download/BAU501OD5011.csv\"\n",
    "        fp = ckan_integ_url+package_name+'/download/'+dataset_name\n",
    "        print(\"fp lautet:\"+fp)\n"
   ]
  },
  {
   "cell_type": "markdown",
   "metadata": {},
   "source": [
    "Beachte, wie das SAS Datum (ohne Format) in ein UNIX Datum umgerechnet und als Datumsformat dargestellt wird! Siehe dazu `https://stackoverflow.com/questions/26923564/convert-sas-numeric-to-python-datetime`"
   ]
  },
  {
   "cell_type": "code",
   "execution_count": 44,
   "metadata": {},
   "outputs": [
    {
     "name": "stdout",
     "output_type": "stream",
     "text": [
      "web\n"
     ]
    },
    {
     "data": {
      "text/plain": [
       "StichtagDatJahr    datetime64[ns]\n",
       "AnzBestWir                  int64\n",
       "AnzBestWirCH                int64\n",
       "AnzBestWirCHW             float64\n",
       "AnzBestWirCHM             float64\n",
       "AnzBestWirAUSL              int64\n",
       "AnzBestWirAUSLW           float64\n",
       "AnzBestWirAUSLM           float64\n",
       "AuslAnt                   float64\n",
       "dtype: object"
      ]
     },
     "execution_count": 44,
     "metadata": {},
     "output_type": "execute_result"
    }
   ],
   "source": [
    "# Read the data\n",
    "if data_source == \"dropzone\":\n",
    "    data2betested = pd.read_csv(\n",
    "        fp\n",
    "        , sep=','\n",
    "        ,parse_dates=['StichtagDatJahr']\n",
    "        ,low_memory=False\n",
    "    )\n",
    "    print(\"dropzone\")\n",
    "else:\n",
    "    r = requests.get(fp, verify=False)  \n",
    "    r.encoding = 'utf-8'\n",
    "    data2betested = pd.read_csv(\n",
    "        io.StringIO(r.text)\n",
    "        ,parse_dates=['StichtagDatJahr']\n",
    "        # KONVERTIERE DAS SAS DATUM IN EIN UNIXDATUM UND FORMATIERE ES\n",
    "        #, date_parser=lambda s: epoch + datetime.timedelta(days=int(s))\n",
    "        ,low_memory=False)\n",
    "    print(\"web\")\n",
    "\n",
    "data2betested.dtypes"
   ]
  },
  {
   "cell_type": "markdown",
   "metadata": {},
   "source": [
    "Berechne weitere Attribute falls notwendig"
   ]
  },
  {
   "cell_type": "code",
   "execution_count": 45,
   "metadata": {},
   "outputs": [
    {
     "data": {
      "text/plain": [
       "StichtagDatJahr    datetime64[ns]\n",
       "AnzBestWir                  int64\n",
       "AnzBestWirCH                int64\n",
       "AnzBestWirCHW             float64\n",
       "AnzBestWirCHM             float64\n",
       "AnzBestWirAUSL              int64\n",
       "AnzBestWirAUSLW           float64\n",
       "AnzBestWirAUSLM           float64\n",
       "AuslAnt                   float64\n",
       "Jahr               datetime64[ns]\n",
       "Jahr_str                   object\n",
       "dtype: object"
      ]
     },
     "execution_count": 45,
     "metadata": {},
     "output_type": "execute_result"
    }
   ],
   "source": [
    "data2betested = (\n",
    "    data2betested\n",
    "    .copy()\n",
    "    .assign(\n",
    "        #Aktualisierungs_Datum_str= lambda x: x.Aktualisierungs_Datum.astype(str),\n",
    "        Jahr = lambda x: x.StichtagDatJahr,\n",
    "        Jahr_str = lambda x: x.Jahr.astype(str),\n",
    "    )\n",
    "    .sort_values('Jahr', ascending=False)\n",
    "    )\n",
    "data2betested.dtypes"
   ]
  },
  {
   "cell_type": "markdown",
   "metadata": {},
   "source": [
    "### Einfache Datentests"
   ]
  },
  {
   "cell_type": "markdown",
   "metadata": {},
   "source": [
    " - 1) Zeige eine kurze Vorschau der importierten Daten\n",
    " - 2) Weise die Datentypen aus\n",
    " - 3) Zeige die Shape (Umfang) des Datensatzes an"
   ]
  },
  {
   "cell_type": "code",
   "execution_count": 46,
   "metadata": {},
   "outputs": [],
   "source": [
    "#data2betested.head(6)"
   ]
  },
  {
   "cell_type": "code",
   "execution_count": 47,
   "metadata": {},
   "outputs": [
    {
     "data": {
      "text/plain": [
       "StichtagDatJahr    datetime64[ns]\n",
       "AnzBestWir                  int64\n",
       "AnzBestWirCH                int64\n",
       "AnzBestWirCHW             float64\n",
       "AnzBestWirCHM             float64\n",
       "AnzBestWirAUSL              int64\n",
       "AnzBestWirAUSLW           float64\n",
       "AnzBestWirAUSLM           float64\n",
       "AuslAnt                   float64\n",
       "Jahr               datetime64[ns]\n",
       "Jahr_str                   object\n",
       "dtype: object"
      ]
     },
     "execution_count": 47,
     "metadata": {},
     "output_type": "execute_result"
    }
   ],
   "source": [
    "data2betested.dtypes"
   ]
  },
  {
   "cell_type": "code",
   "execution_count": 48,
   "metadata": {},
   "outputs": [
    {
     "data": {
      "text/plain": [
       "(121, 11)"
      ]
     },
     "execution_count": 48,
     "metadata": {},
     "output_type": "execute_result"
    }
   ],
   "source": [
    "data2betested.shape"
   ]
  },
  {
   "cell_type": "markdown",
   "metadata": {},
   "source": [
    "Beschreibe einzelne Attribute"
   ]
  },
  {
   "cell_type": "code",
   "execution_count": 49,
   "metadata": {},
   "outputs": [
    {
     "data": {
      "text/html": [
       "<div>\n",
       "<style scoped>\n",
       "    .dataframe tbody tr th:only-of-type {\n",
       "        vertical-align: middle;\n",
       "    }\n",
       "\n",
       "    .dataframe tbody tr th {\n",
       "        vertical-align: top;\n",
       "    }\n",
       "\n",
       "    .dataframe thead th {\n",
       "        text-align: right;\n",
       "    }\n",
       "</style>\n",
       "<table border=\"1\" class=\"dataframe\">\n",
       "  <thead>\n",
       "    <tr style=\"text-align: right;\">\n",
       "      <th></th>\n",
       "      <th>AnzBestWir</th>\n",
       "      <th>AnzBestWirCH</th>\n",
       "      <th>AnzBestWirCHW</th>\n",
       "      <th>AnzBestWirCHM</th>\n",
       "      <th>AnzBestWirAUSL</th>\n",
       "      <th>AnzBestWirAUSLW</th>\n",
       "      <th>AnzBestWirAUSLM</th>\n",
       "      <th>AuslAnt</th>\n",
       "    </tr>\n",
       "  </thead>\n",
       "  <tbody>\n",
       "    <tr>\n",
       "      <th>count</th>\n",
       "      <td>121</td>\n",
       "      <td>121</td>\n",
       "      <td>88</td>\n",
       "      <td>88</td>\n",
       "      <td>121</td>\n",
       "      <td>88</td>\n",
       "      <td>88</td>\n",
       "      <td>121</td>\n",
       "    </tr>\n",
       "    <tr>\n",
       "      <th>mean</th>\n",
       "      <td>334743</td>\n",
       "      <td>266842</td>\n",
       "      <td>166411</td>\n",
       "      <td>142333</td>\n",
       "      <td>67901</td>\n",
       "      <td>35728</td>\n",
       "      <td>39648</td>\n",
       "      <td>21</td>\n",
       "    </tr>\n",
       "    <tr>\n",
       "      <th>std</th>\n",
       "      <td>87335</td>\n",
       "      <td>79872</td>\n",
       "      <td>23081</td>\n",
       "      <td>20160</td>\n",
       "      <td>32526</td>\n",
       "      <td>14551</td>\n",
       "      <td>20415</td>\n",
       "      <td>9</td>\n",
       "    </tr>\n",
       "    <tr>\n",
       "      <th>min</th>\n",
       "      <td>150301</td>\n",
       "      <td>108291</td>\n",
       "      <td>136041</td>\n",
       "      <td>116422</td>\n",
       "      <td>24306</td>\n",
       "      <td>14326</td>\n",
       "      <td>9980</td>\n",
       "      <td>7</td>\n",
       "    </tr>\n",
       "    <tr>\n",
       "      <th>25%</th>\n",
       "      <td>257478</td>\n",
       "      <td>219833</td>\n",
       "      <td>145897</td>\n",
       "      <td>125401</td>\n",
       "      <td>37809</td>\n",
       "      <td>22691</td>\n",
       "      <td>16920</td>\n",
       "      <td>14</td>\n",
       "    </tr>\n",
       "    <tr>\n",
       "      <th>50%</th>\n",
       "      <td>361488</td>\n",
       "      <td>279120</td>\n",
       "      <td>161666</td>\n",
       "      <td>138215</td>\n",
       "      <td>66504</td>\n",
       "      <td>32390</td>\n",
       "      <td>38634</td>\n",
       "      <td>20</td>\n",
       "    </tr>\n",
       "    <tr>\n",
       "      <th>75%</th>\n",
       "      <td>398575</td>\n",
       "      <td>322198</td>\n",
       "      <td>187274</td>\n",
       "      <td>161530</td>\n",
       "      <td>91265</td>\n",
       "      <td>48390</td>\n",
       "      <td>56978</td>\n",
       "      <td>30</td>\n",
       "    </tr>\n",
       "    <tr>\n",
       "      <th>max</th>\n",
       "      <td>440180</td>\n",
       "      <td>386147</td>\n",
       "      <td>207251</td>\n",
       "      <td>178896</td>\n",
       "      <td>140343</td>\n",
       "      <td>65155</td>\n",
       "      <td>75188</td>\n",
       "      <td>34</td>\n",
       "    </tr>\n",
       "  </tbody>\n",
       "</table>\n",
       "</div>"
      ],
      "text/plain": [
       "       AnzBestWir  AnzBestWirCH  AnzBestWirCHW  AnzBestWirCHM  AnzBestWirAUSL  AnzBestWirAUSLW  \\\n",
       "count         121           121             88             88             121               88   \n",
       "mean       334743        266842         166411         142333           67901            35728   \n",
       "std         87335         79872          23081          20160           32526            14551   \n",
       "min        150301        108291         136041         116422           24306            14326   \n",
       "25%        257478        219833         145897         125401           37809            22691   \n",
       "50%        361488        279120         161666         138215           66504            32390   \n",
       "75%        398575        322198         187274         161530           91265            48390   \n",
       "max        440180        386147         207251         178896          140343            65155   \n",
       "\n",
       "       AnzBestWirAUSLM  AuslAnt  \n",
       "count               88      121  \n",
       "mean             39648       21  \n",
       "std              20415        9  \n",
       "min               9980        7  \n",
       "25%              16920       14  \n",
       "50%              38634       20  \n",
       "75%              56978       30  \n",
       "max              75188       34  "
      ]
     },
     "execution_count": 49,
     "metadata": {},
     "output_type": "execute_result"
    }
   ],
   "source": [
    "data2betested.describe()"
   ]
  },
  {
   "cell_type": "markdown",
   "metadata": {},
   "source": [
    "Wie viele Nullwerte gibt es im Datensatz?"
   ]
  },
  {
   "cell_type": "code",
   "execution_count": 50,
   "metadata": {
    "scrolled": true
   },
   "outputs": [
    {
     "data": {
      "text/plain": [
       "StichtagDatJahr     0\n",
       "AnzBestWir          0\n",
       "AnzBestWirCH        0\n",
       "AnzBestWirCHW      33\n",
       "AnzBestWirCHM      33\n",
       "AnzBestWirAUSL      0\n",
       "AnzBestWirAUSLW    33\n",
       "AnzBestWirAUSLM    33\n",
       "AuslAnt             0\n",
       "Jahr                0\n",
       "Jahr_str            0\n",
       "dtype: int64"
      ]
     },
     "execution_count": 50,
     "metadata": {},
     "output_type": "execute_result"
    }
   ],
   "source": [
    "data2betested.isnull().sum()"
   ]
  },
  {
   "cell_type": "markdown",
   "metadata": {},
   "source": [
    "Welches sind die Quartiere ohne Werte bei AnzBestWir?"
   ]
  },
  {
   "cell_type": "code",
   "execution_count": 53,
   "metadata": {},
   "outputs": [
    {
     "data": {
      "text/html": [
       "<div>\n",
       "<style scoped>\n",
       "    .dataframe tbody tr th:only-of-type {\n",
       "        vertical-align: middle;\n",
       "    }\n",
       "\n",
       "    .dataframe tbody tr th {\n",
       "        vertical-align: top;\n",
       "    }\n",
       "\n",
       "    .dataframe thead th {\n",
       "        text-align: right;\n",
       "    }\n",
       "</style>\n",
       "<table border=\"1\" class=\"dataframe\">\n",
       "  <thead>\n",
       "    <tr style=\"text-align: right;\">\n",
       "      <th></th>\n",
       "      <th>StichtagDatJahr</th>\n",
       "      <th>AnzBestWir</th>\n",
       "      <th>AnzBestWirCH</th>\n",
       "      <th>AnzBestWirCHW</th>\n",
       "      <th>AnzBestWirCHM</th>\n",
       "      <th>AnzBestWirAUSL</th>\n",
       "      <th>AnzBestWirAUSLW</th>\n",
       "      <th>AnzBestWirAUSLM</th>\n",
       "      <th>AuslAnt</th>\n",
       "      <th>Jahr</th>\n",
       "      <th>Jahr_str</th>\n",
       "    </tr>\n",
       "  </thead>\n",
       "  <tbody>\n",
       "    <tr>\n",
       "      <th>88</th>\n",
       "      <td>1933-01-01</td>\n",
       "      <td>264043</td>\n",
       "      <td>230254</td>\n",
       "      <td>NaN</td>\n",
       "      <td>NaN</td>\n",
       "      <td>33789</td>\n",
       "      <td>NaN</td>\n",
       "      <td>NaN</td>\n",
       "      <td>13</td>\n",
       "      <td>1933-01-01</td>\n",
       "      <td>1933-01-01</td>\n",
       "    </tr>\n",
       "    <tr>\n",
       "      <th>89</th>\n",
       "      <td>1932-01-01</td>\n",
       "      <td>260694</td>\n",
       "      <td>225226</td>\n",
       "      <td>NaN</td>\n",
       "      <td>NaN</td>\n",
       "      <td>35468</td>\n",
       "      <td>NaN</td>\n",
       "      <td>NaN</td>\n",
       "      <td>14</td>\n",
       "      <td>1932-01-01</td>\n",
       "      <td>1932-01-01</td>\n",
       "    </tr>\n",
       "    <tr>\n",
       "      <th>90</th>\n",
       "      <td>1931-01-01</td>\n",
       "      <td>257478</td>\n",
       "      <td>219833</td>\n",
       "      <td>NaN</td>\n",
       "      <td>NaN</td>\n",
       "      <td>37645</td>\n",
       "      <td>NaN</td>\n",
       "      <td>NaN</td>\n",
       "      <td>15</td>\n",
       "      <td>1931-01-01</td>\n",
       "      <td>1931-01-01</td>\n",
       "    </tr>\n",
       "    <tr>\n",
       "      <th>91</th>\n",
       "      <td>1930-01-01</td>\n",
       "      <td>249067</td>\n",
       "      <td>211211</td>\n",
       "      <td>NaN</td>\n",
       "      <td>NaN</td>\n",
       "      <td>37856</td>\n",
       "      <td>NaN</td>\n",
       "      <td>NaN</td>\n",
       "      <td>15</td>\n",
       "      <td>1930-01-01</td>\n",
       "      <td>1930-01-01</td>\n",
       "    </tr>\n",
       "    <tr>\n",
       "      <th>92</th>\n",
       "      <td>1929-01-01</td>\n",
       "      <td>240202</td>\n",
       "      <td>203263</td>\n",
       "      <td>NaN</td>\n",
       "      <td>NaN</td>\n",
       "      <td>36939</td>\n",
       "      <td>NaN</td>\n",
       "      <td>NaN</td>\n",
       "      <td>15</td>\n",
       "      <td>1929-01-01</td>\n",
       "      <td>1929-01-01</td>\n",
       "    </tr>\n",
       "  </tbody>\n",
       "</table>\n",
       "</div>"
      ],
      "text/plain": [
       "   StichtagDatJahr  AnzBestWir  AnzBestWirCH  AnzBestWirCHW  AnzBestWirCHM  AnzBestWirAUSL  \\\n",
       "88      1933-01-01      264043        230254            NaN            NaN           33789   \n",
       "89      1932-01-01      260694        225226            NaN            NaN           35468   \n",
       "90      1931-01-01      257478        219833            NaN            NaN           37645   \n",
       "91      1930-01-01      249067        211211            NaN            NaN           37856   \n",
       "92      1929-01-01      240202        203263            NaN            NaN           36939   \n",
       "\n",
       "    AnzBestWirAUSLW  AnzBestWirAUSLM  AuslAnt       Jahr    Jahr_str  \n",
       "88              NaN              NaN       13 1933-01-01  1933-01-01  \n",
       "89              NaN              NaN       14 1932-01-01  1932-01-01  \n",
       "90              NaN              NaN       15 1931-01-01  1931-01-01  \n",
       "91              NaN              NaN       15 1930-01-01  1930-01-01  \n",
       "92              NaN              NaN       15 1929-01-01  1929-01-01  "
      ]
     },
     "execution_count": 53,
     "metadata": {},
     "output_type": "execute_result"
    }
   ],
   "source": [
    "data2betested[np.isnan(data2betested.AnzBestWirCHM)].head()"
   ]
  },
  {
   "cell_type": "markdown",
   "metadata": {
    "colab_type": "text",
    "id": "1dTPVmmsgOVx"
   },
   "source": [
    "### Verwende das Datum als Index\n",
    "\n",
    "While we did already parse the `datetime` column into the respective datetime type, it currently is just a regular column. \n",
    "**To enable quick and convenient queries and aggregations, we need to turn it into the index of the DataFrame**"
   ]
  },
  {
   "cell_type": "code",
   "execution_count": 54,
   "metadata": {},
   "outputs": [],
   "source": [
    "data2betested = data2betested.set_index(\"Jahr\")"
   ]
  },
  {
   "cell_type": "code",
   "execution_count": 55,
   "metadata": {},
   "outputs": [
    {
     "name": "stdout",
     "output_type": "stream",
     "text": [
      "<class 'pandas.core.frame.DataFrame'>\n",
      "DatetimeIndex: 121 entries, 2021-01-01 to 1901-01-01\n",
      "Data columns (total 10 columns):\n",
      " #   Column           Non-Null Count  Dtype         \n",
      "---  ------           --------------  -----         \n",
      " 0   StichtagDatJahr  121 non-null    datetime64[ns]\n",
      " 1   AnzBestWir       121 non-null    int64         \n",
      " 2   AnzBestWirCH     121 non-null    int64         \n",
      " 3   AnzBestWirCHW    88 non-null     float64       \n",
      " 4   AnzBestWirCHM    88 non-null     float64       \n",
      " 5   AnzBestWirAUSL   121 non-null    int64         \n",
      " 6   AnzBestWirAUSLW  88 non-null     float64       \n",
      " 7   AnzBestWirAUSLM  88 non-null     float64       \n",
      " 8   AuslAnt          121 non-null    float64       \n",
      " 9   Jahr_str         121 non-null    object        \n",
      "dtypes: datetime64[ns](1), float64(5), int64(3), object(1)\n",
      "memory usage: 10.4+ KB\n"
     ]
    },
    {
     "data": {
      "text/plain": [
       "Int64Index([2021, 2020, 2019, 2018, 2017, 2016, 2015, 2014, 2013, 2012,\n",
       "            ...\n",
       "            1910, 1909, 1908, 1907, 1906, 1905, 1904, 1903, 1902, 1901],\n",
       "           dtype='int64', name='Jahr', length=121)"
      ]
     },
     "execution_count": 55,
     "metadata": {},
     "output_type": "execute_result"
    }
   ],
   "source": [
    "data2betested.info()\n",
    "data2betested.index.year.unique()"
   ]
  },
  {
   "cell_type": "markdown",
   "metadata": {},
   "source": [
    "### Einfache Visualisierungen zur Plausi"
   ]
  },
  {
   "cell_type": "markdown",
   "metadata": {},
   "source": [
    "Exploriere die Daten mit Pivottable.JS"
   ]
  },
  {
   "cell_type": "code",
   "execution_count": 56,
   "metadata": {},
   "outputs": [
    {
     "data": {
      "text/html": [
       "\n",
       "        <iframe\n",
       "            width=\"100%\"\n",
       "            height=\"500\"\n",
       "            src=\"pivottablejs.html\"\n",
       "            frameborder=\"0\"\n",
       "            allowfullscreen\n",
       "            \n",
       "        ></iframe>\n",
       "        "
      ],
      "text/plain": [
       "<IPython.lib.display.IFrame at 0x1e0dcdf3c48>"
      ]
     },
     "execution_count": 56,
     "metadata": {},
     "output_type": "execute_result"
    }
   ],
   "source": [
    "from pivottablejs import pivot_ui\n",
    "\n",
    "pivot_ui(data2betested)"
   ]
  },
  {
   "cell_type": "markdown",
   "metadata": {},
   "source": [
    "### Zeitpunkte und Zeiträume abfragen\n",
    "\n",
    "A particular powerful feature of the Pandas DataFrame is its indexing capability that also works using time-based entities, such as dates and times. We have already created the index above, so let's put it to use."
   ]
  },
  {
   "cell_type": "code",
   "execution_count": 57,
   "metadata": {},
   "outputs": [
    {
     "data": {
      "text/html": [
       "<div>\n",
       "<style scoped>\n",
       "    .dataframe tbody tr th:only-of-type {\n",
       "        vertical-align: middle;\n",
       "    }\n",
       "\n",
       "    .dataframe tbody tr th {\n",
       "        vertical-align: top;\n",
       "    }\n",
       "\n",
       "    .dataframe thead th {\n",
       "        text-align: right;\n",
       "    }\n",
       "</style>\n",
       "<table border=\"1\" class=\"dataframe\">\n",
       "  <thead>\n",
       "    <tr style=\"text-align: right;\">\n",
       "      <th></th>\n",
       "      <th>StichtagDatJahr</th>\n",
       "      <th>AnzBestWir</th>\n",
       "      <th>AnzBestWirCH</th>\n",
       "      <th>AnzBestWirCHW</th>\n",
       "      <th>AnzBestWirCHM</th>\n",
       "      <th>AnzBestWirAUSL</th>\n",
       "      <th>AnzBestWirAUSLW</th>\n",
       "      <th>AnzBestWirAUSLM</th>\n",
       "      <th>AuslAnt</th>\n",
       "      <th>Jahr_str</th>\n",
       "    </tr>\n",
       "    <tr>\n",
       "      <th>Jahr</th>\n",
       "      <th></th>\n",
       "      <th></th>\n",
       "      <th></th>\n",
       "      <th></th>\n",
       "      <th></th>\n",
       "      <th></th>\n",
       "      <th></th>\n",
       "      <th></th>\n",
       "      <th></th>\n",
       "      <th></th>\n",
       "    </tr>\n",
       "  </thead>\n",
       "  <tbody>\n",
       "    <tr>\n",
       "      <th>2021-01-01</th>\n",
       "      <td>2021-01-01</td>\n",
       "      <td>436332</td>\n",
       "      <td>295989</td>\n",
       "      <td>152516</td>\n",
       "      <td>143473</td>\n",
       "      <td>140343</td>\n",
       "      <td>65155</td>\n",
       "      <td>75188</td>\n",
       "      <td>32</td>\n",
       "      <td>2021-01-01</td>\n",
       "    </tr>\n",
       "  </tbody>\n",
       "</table>\n",
       "</div>"
      ],
      "text/plain": [
       "           StichtagDatJahr  AnzBestWir  AnzBestWirCH  AnzBestWirCHW  AnzBestWirCHM  \\\n",
       "Jahr                                                                                 \n",
       "2021-01-01      2021-01-01      436332        295989         152516         143473   \n",
       "\n",
       "            AnzBestWirAUSL  AnzBestWirAUSLW  AnzBestWirAUSLM  AuslAnt    Jahr_str  \n",
       "Jahr                                                                               \n",
       "2021-01-01          140343            65155            75188       32  2021-01-01  "
      ]
     },
     "execution_count": 57,
     "metadata": {},
     "output_type": "execute_result"
    }
   ],
   "source": [
    "data2betested.loc[\"2021\"].head(2)\n",
    "#data2betested.loc[\"2021-10-31\":\"2021-11-30\"].head(2)"
   ]
  },
  {
   "cell_type": "markdown",
   "metadata": {},
   "source": [
    "### Visualisierungen nach Zeitausschnitten"
   ]
  },
  {
   "cell_type": "markdown",
   "metadata": {
    "tags": []
   },
   "source": [
    "#### Entwicklung Bildungsstand"
   ]
  },
  {
   "cell_type": "code",
   "execution_count": 58,
   "metadata": {},
   "outputs": [
    {
     "data": {
      "text/plain": [
       "Index(['StichtagDatJahr', 'AnzBestWir', 'AnzBestWirCH', 'AnzBestWirCHW', 'AnzBestWirCHM',\n",
       "       'AnzBestWirAUSL', 'AnzBestWirAUSLW', 'AnzBestWirAUSLM', 'AuslAnt', 'Jahr_str'],\n",
       "      dtype='object')"
      ]
     },
     "execution_count": 58,
     "metadata": {},
     "output_type": "execute_result"
    }
   ],
   "source": [
    "data2betested.columns"
   ]
  },
  {
   "cell_type": "code",
   "execution_count": 60,
   "metadata": {
    "tags": []
   },
   "outputs": [
    {
     "data": {
      "text/html": [
       "<div>\n",
       "<style scoped>\n",
       "    .dataframe tbody tr th:only-of-type {\n",
       "        vertical-align: middle;\n",
       "    }\n",
       "\n",
       "    .dataframe tbody tr th {\n",
       "        vertical-align: top;\n",
       "    }\n",
       "\n",
       "    .dataframe thead th {\n",
       "        text-align: right;\n",
       "    }\n",
       "</style>\n",
       "<table border=\"1\" class=\"dataframe\">\n",
       "  <thead>\n",
       "    <tr style=\"text-align: right;\">\n",
       "      <th></th>\n",
       "      <th>Jahr</th>\n",
       "      <th>Jahr_str</th>\n",
       "      <th>sum_AnzBestWir</th>\n",
       "      <th>sum_AuslAnt</th>\n",
       "    </tr>\n",
       "  </thead>\n",
       "  <tbody>\n",
       "    <tr>\n",
       "      <th>0</th>\n",
       "      <td>1902-01-01</td>\n",
       "      <td>1902-01-01</td>\n",
       "      <td>153741</td>\n",
       "      <td>28</td>\n",
       "    </tr>\n",
       "    <tr>\n",
       "      <th>1</th>\n",
       "      <td>1903-01-01</td>\n",
       "      <td>1903-01-01</td>\n",
       "      <td>158719</td>\n",
       "      <td>29</td>\n",
       "    </tr>\n",
       "    <tr>\n",
       "      <th>2</th>\n",
       "      <td>1904-01-01</td>\n",
       "      <td>1904-01-01</td>\n",
       "      <td>164060</td>\n",
       "      <td>30</td>\n",
       "    </tr>\n",
       "  </tbody>\n",
       "</table>\n",
       "</div>"
      ],
      "text/plain": [
       "        Jahr    Jahr_str  sum_AnzBestWir  sum_AuslAnt\n",
       "0 1902-01-01  1902-01-01          153741           28\n",
       "1 1903-01-01  1903-01-01          158719           29\n",
       "2 1904-01-01  1904-01-01          164060           30"
      ]
     },
     "execution_count": 60,
     "metadata": {},
     "output_type": "execute_result"
    }
   ],
   "source": [
    "#myAgg = data2betested.loc[\"2008-11-30\":\"2021-10-31\"]\n",
    "myAgg = data2betested.loc[\"1901\":\"2021\"]\\\n",
    "    .groupby(['Jahr', 'Jahr_str']) \\\n",
    "    .agg(sum_AnzBestWir=('AnzBestWir', 'sum'), sum_AuslAnt=('AuslAnt', 'sum')) \\\n",
    "    .sort_values('Jahr', ascending=True) \n",
    "\n",
    "myAgg.reset_index().head(3)"
   ]
  },
  {
   "cell_type": "code",
   "execution_count": 66,
   "metadata": {},
   "outputs": [
    {
     "data": {
      "text/html": [
       "\n",
       "<div id=\"altair-viz-e172060439d44a5da3c94f8afef3e97f\"></div>\n",
       "<script type=\"text/javascript\">\n",
       "  (function(spec, embedOpt){\n",
       "    let outputDiv = document.currentScript.previousElementSibling;\n",
       "    if (outputDiv.id !== \"altair-viz-e172060439d44a5da3c94f8afef3e97f\") {\n",
       "      outputDiv = document.getElementById(\"altair-viz-e172060439d44a5da3c94f8afef3e97f\");\n",
       "    }\n",
       "    const paths = {\n",
       "      \"vega\": \"https://cdn.jsdelivr.net/npm//vega@5?noext\",\n",
       "      \"vega-lib\": \"https://cdn.jsdelivr.net/npm//vega-lib?noext\",\n",
       "      \"vega-lite\": \"https://cdn.jsdelivr.net/npm//vega-lite@4.8.1?noext\",\n",
       "      \"vega-embed\": \"https://cdn.jsdelivr.net/npm//vega-embed@6?noext\",\n",
       "    };\n",
       "\n",
       "    function loadScript(lib) {\n",
       "      return new Promise(function(resolve, reject) {\n",
       "        var s = document.createElement('script');\n",
       "        s.src = paths[lib];\n",
       "        s.async = true;\n",
       "        s.onload = () => resolve(paths[lib]);\n",
       "        s.onerror = () => reject(`Error loading script: ${paths[lib]}`);\n",
       "        document.getElementsByTagName(\"head\")[0].appendChild(s);\n",
       "      });\n",
       "    }\n",
       "\n",
       "    function showError(err) {\n",
       "      outputDiv.innerHTML = `<div class=\"error\" style=\"color:red;\">${err}</div>`;\n",
       "      throw err;\n",
       "    }\n",
       "\n",
       "    function displayChart(vegaEmbed) {\n",
       "      vegaEmbed(outputDiv, spec, embedOpt)\n",
       "        .catch(err => showError(`Javascript Error: ${err.message}<br>This usually means there's a typo in your chart specification. See the javascript console for the full traceback.`));\n",
       "    }\n",
       "\n",
       "    if(typeof define === \"function\" && define.amd) {\n",
       "      requirejs.config({paths});\n",
       "      require([\"vega-embed\"], displayChart, err => showError(`Error loading script: ${err.message}`));\n",
       "    } else if (typeof vegaEmbed === \"function\") {\n",
       "      displayChart(vegaEmbed);\n",
       "    } else {\n",
       "      loadScript(\"vega\")\n",
       "        .then(() => loadScript(\"vega-lite\"))\n",
       "        .then(() => loadScript(\"vega-embed\"))\n",
       "        .catch(showError)\n",
       "        .then(() => displayChart(vegaEmbed));\n",
       "    }\n",
       "  })({\"config\": {\"view\": {\"continuousWidth\": 400, \"continuousHeight\": 300}}, \"layer\": [{\"mark\": \"line\", \"encoding\": {\"color\": {\"type\": \"quantitative\", \"field\": \"sum_AuslAnt\", \"legend\": {\"orient\": \"right\", \"title\": \"\"}}, \"size\": {\"condition\": {\"value\": 0.5, \"selection\": {\"not\": \"selector009\"}}, \"value\": 4}, \"tooltip\": [{\"type\": \"nominal\", \"field\": \"Jahr_str\"}, {\"type\": \"quantitative\", \"field\": \"sum_AnzBestWir\"}, {\"type\": \"quantitative\", \"field\": \"sum_AuslAnt\"}], \"x\": {\"type\": \"temporal\", \"axis\": {\"title\": \"Jahr\"}, \"field\": \"Jahr\"}, \"y\": {\"type\": \"quantitative\", \"axis\": {\"title\": \"Anz. Personen\"}, \"field\": \"sum_AuslAnt\"}}, \"selection\": {\"selector010\": {\"type\": \"interval\", \"bind\": \"scales\", \"encodings\": [\"x\", \"y\"]}}, \"title\": \"Ausl\\u00e4nderanteil seit 1901\"}, {\"mark\": \"circle\", \"encoding\": {\"color\": {\"type\": \"quantitative\", \"field\": \"sum_AuslAnt\", \"legend\": {\"orient\": \"right\", \"title\": \"\"}}, \"opacity\": {\"value\": 0.75}, \"tooltip\": [{\"type\": \"nominal\", \"field\": \"Jahr_str\"}, {\"type\": \"quantitative\", \"field\": \"sum_AnzBestWir\"}, {\"type\": \"quantitative\", \"field\": \"sum_AuslAnt\"}], \"x\": {\"type\": \"temporal\", \"axis\": {\"title\": \"Jahr\"}, \"field\": \"Jahr\"}, \"y\": {\"type\": \"quantitative\", \"axis\": {\"title\": \"Anz. Personen\"}, \"field\": \"sum_AuslAnt\"}}, \"height\": 350, \"selection\": {\"selector009\": {\"type\": \"single\", \"on\": \"mouseover\", \"fields\": [\"sum_AuslAnt\"], \"nearest\": true}}, \"title\": \"Ausl\\u00e4nderanteil seit 1901\", \"width\": 750}], \"data\": {\"name\": \"data-e0fcfcc2e0872d7317862363c4b58c71\"}, \"$schema\": \"https://vega.github.io/schema/vega-lite/v4.8.1.json\", \"datasets\": {\"data-e0fcfcc2e0872d7317862363c4b58c71\": [{\"Jahr\": \"1902-01-01T00:00:00\", \"Jahr_str\": \"1902-01-01\", \"sum_AnzBestWir\": 153741, \"sum_AuslAnt\": 28.0}, {\"Jahr\": \"1903-01-01T00:00:00\", \"Jahr_str\": \"1903-01-01\", \"sum_AnzBestWir\": 158719, \"sum_AuslAnt\": 28.9}, {\"Jahr\": \"1904-01-01T00:00:00\", \"Jahr_str\": \"1904-01-01\", \"sum_AnzBestWir\": 164060, \"sum_AuslAnt\": 29.5}, {\"Jahr\": \"1905-01-01T00:00:00\", \"Jahr_str\": \"1905-01-01\", \"sum_AnzBestWir\": 168877, \"sum_AuslAnt\": 30.6}, {\"Jahr\": \"1906-01-01T00:00:00\", \"Jahr_str\": \"1906-01-01\", \"sum_AnzBestWir\": 173283, \"sum_AuslAnt\": 31.6}, {\"Jahr\": \"1907-01-01T00:00:00\", \"Jahr_str\": \"1907-01-01\", \"sum_AnzBestWir\": 177899, \"sum_AuslAnt\": 32.1}, {\"Jahr\": \"1908-01-01T00:00:00\", \"Jahr_str\": \"1908-01-01\", \"sum_AnzBestWir\": 180722, \"sum_AuslAnt\": 32.1}, {\"Jahr\": \"1909-01-01T00:00:00\", \"Jahr_str\": \"1909-01-01\", \"sum_AnzBestWir\": 185041, \"sum_AuslAnt\": 32.4}, {\"Jahr\": \"1910-01-01T00:00:00\", \"Jahr_str\": \"1910-01-01\", \"sum_AnzBestWir\": 190092, \"sum_AuslAnt\": 33.5}, {\"Jahr\": \"1911-01-01T00:00:00\", \"Jahr_str\": \"1911-01-01\", \"sum_AnzBestWir\": 195525, \"sum_AuslAnt\": 33.8}, {\"Jahr\": \"1912-01-01T00:00:00\", \"Jahr_str\": \"1912-01-01\", \"sum_AnzBestWir\": 200462, \"sum_AuslAnt\": 34.2}, {\"Jahr\": \"1913-01-01T00:00:00\", \"Jahr_str\": \"1913-01-01\", \"sum_AnzBestWir\": 200632, \"sum_AuslAnt\": 33.4}, {\"Jahr\": \"1914-01-01T00:00:00\", \"Jahr_str\": \"1914-01-01\", \"sum_AnzBestWir\": 195867, \"sum_AuslAnt\": 30.1}, {\"Jahr\": \"1915-01-01T00:00:00\", \"Jahr_str\": \"1915-01-01\", \"sum_AnzBestWir\": 199726, \"sum_AuslAnt\": 28.6}, {\"Jahr\": \"1916-01-01T00:00:00\", \"Jahr_str\": \"1916-01-01\", \"sum_AnzBestWir\": 206073, \"sum_AuslAnt\": 27.8}, {\"Jahr\": \"1917-01-01T00:00:00\", \"Jahr_str\": \"1917-01-01\", \"sum_AnzBestWir\": 213193, \"sum_AuslAnt\": 26.4}, {\"Jahr\": \"1918-01-01T00:00:00\", \"Jahr_str\": \"1918-01-01\", \"sum_AnzBestWir\": 211421, \"sum_AuslAnt\": 24.6}, {\"Jahr\": \"1919-01-01T00:00:00\", \"Jahr_str\": \"1919-01-01\", \"sum_AnzBestWir\": 210151, \"sum_AuslAnt\": 23.1}, {\"Jahr\": \"1920-01-01T00:00:00\", \"Jahr_str\": \"1920-01-01\", \"sum_AnzBestWir\": 206299, \"sum_AuslAnt\": 21.8}, {\"Jahr\": \"1921-01-01T00:00:00\", \"Jahr_str\": \"1921-01-01\", \"sum_AnzBestWir\": 201242, \"sum_AuslAnt\": 19.8}, {\"Jahr\": \"1922-01-01T00:00:00\", \"Jahr_str\": \"1922-01-01\", \"sum_AnzBestWir\": 200289, \"sum_AuslAnt\": 19.2}, {\"Jahr\": \"1923-01-01T00:00:00\", \"Jahr_str\": \"1923-01-01\", \"sum_AnzBestWir\": 204049, \"sum_AuslAnt\": 19.3}, {\"Jahr\": \"1924-01-01T00:00:00\", \"Jahr_str\": \"1924-01-01\", \"sum_AnzBestWir\": 206719, \"sum_AuslAnt\": 18.3}, {\"Jahr\": \"1925-01-01T00:00:00\", \"Jahr_str\": \"1925-01-01\", \"sum_AnzBestWir\": 209327, \"sum_AuslAnt\": 17.4}, {\"Jahr\": \"1926-01-01T00:00:00\", \"Jahr_str\": \"1926-01-01\", \"sum_AnzBestWir\": 214959, \"sum_AuslAnt\": 16.9}, {\"Jahr\": \"1927-01-01T00:00:00\", \"Jahr_str\": \"1927-01-01\", \"sum_AnzBestWir\": 220613, \"sum_AuslAnt\": 16.2}, {\"Jahr\": \"1928-01-01T00:00:00\", \"Jahr_str\": \"1928-01-01\", \"sum_AnzBestWir\": 230476, \"sum_AuslAnt\": 15.6}, {\"Jahr\": \"1929-01-01T00:00:00\", \"Jahr_str\": \"1929-01-01\", \"sum_AnzBestWir\": 240202, \"sum_AuslAnt\": 15.4}, {\"Jahr\": \"1930-01-01T00:00:00\", \"Jahr_str\": \"1930-01-01\", \"sum_AnzBestWir\": 249067, \"sum_AuslAnt\": 15.2}, {\"Jahr\": \"1931-01-01T00:00:00\", \"Jahr_str\": \"1931-01-01\", \"sum_AnzBestWir\": 257478, \"sum_AuslAnt\": 14.6}, {\"Jahr\": \"1932-01-01T00:00:00\", \"Jahr_str\": \"1932-01-01\", \"sum_AnzBestWir\": 260694, \"sum_AuslAnt\": 13.6}, {\"Jahr\": \"1933-01-01T00:00:00\", \"Jahr_str\": \"1933-01-01\", \"sum_AnzBestWir\": 264043, \"sum_AuslAnt\": 12.8}, {\"Jahr\": \"1934-01-01T00:00:00\", \"Jahr_str\": \"1934-01-01\", \"sum_AnzBestWir\": 315864, \"sum_AuslAnt\": 11.8}, {\"Jahr\": \"1935-01-01T00:00:00\", \"Jahr_str\": \"1935-01-01\", \"sum_AnzBestWir\": 317157, \"sum_AuslAnt\": 11.1}, {\"Jahr\": \"1936-01-01T00:00:00\", \"Jahr_str\": \"1936-01-01\", \"sum_AnzBestWir\": 317712, \"sum_AuslAnt\": 10.4}, {\"Jahr\": \"1937-01-01T00:00:00\", \"Jahr_str\": \"1937-01-01\", \"sum_AnzBestWir\": 318926, \"sum_AuslAnt\": 9.9}, {\"Jahr\": \"1938-01-01T00:00:00\", \"Jahr_str\": \"1938-01-01\", \"sum_AnzBestWir\": 326979, \"sum_AuslAnt\": 10.3}, {\"Jahr\": \"1939-01-01T00:00:00\", \"Jahr_str\": \"1939-01-01\", \"sum_AnzBestWir\": 333984, \"sum_AuslAnt\": 9.6}, {\"Jahr\": \"1940-01-01T00:00:00\", \"Jahr_str\": \"1940-01-01\", \"sum_AnzBestWir\": 334026, \"sum_AuslAnt\": 8.6}, {\"Jahr\": \"1941-01-01T00:00:00\", \"Jahr_str\": \"1941-01-01\", \"sum_AnzBestWir\": 336531, \"sum_AuslAnt\": 7.9}, {\"Jahr\": \"1942-01-01T00:00:00\", \"Jahr_str\": \"1942-01-01\", \"sum_AnzBestWir\": 339721, \"sum_AuslAnt\": 7.4}, {\"Jahr\": \"1943-01-01T00:00:00\", \"Jahr_str\": \"1943-01-01\", \"sum_AnzBestWir\": 345819, \"sum_AuslAnt\": 7.3}, {\"Jahr\": \"1944-01-01T00:00:00\", \"Jahr_str\": \"1944-01-01\", \"sum_AnzBestWir\": 351679, \"sum_AuslAnt\": 7.1}, {\"Jahr\": \"1945-01-01T00:00:00\", \"Jahr_str\": \"1945-01-01\", \"sum_AnzBestWir\": 357381, \"sum_AuslAnt\": 6.8}, {\"Jahr\": \"1946-01-01T00:00:00\", \"Jahr_str\": \"1946-01-01\", \"sum_AnzBestWir\": 367171, \"sum_AuslAnt\": 7.3}, {\"Jahr\": \"1947-01-01T00:00:00\", \"Jahr_str\": \"1947-01-01\", \"sum_AnzBestWir\": 377087, \"sum_AuslAnt\": 8.5}, {\"Jahr\": \"1948-01-01T00:00:00\", \"Jahr_str\": \"1948-01-01\", \"sum_AnzBestWir\": 383568, \"sum_AuslAnt\": 9.0}, {\"Jahr\": \"1949-01-01T00:00:00\", \"Jahr_str\": \"1949-01-01\", \"sum_AnzBestWir\": 386003, \"sum_AuslAnt\": 8.4}, {\"Jahr\": \"1950-01-01T00:00:00\", \"Jahr_str\": \"1950-01-01\", \"sum_AnzBestWir\": 389573, \"sum_AuslAnt\": 8.1}, {\"Jahr\": \"1951-01-01T00:00:00\", \"Jahr_str\": \"1951-01-01\", \"sum_AnzBestWir\": 396260, \"sum_AuslAnt\": 8.6}, {\"Jahr\": \"1952-01-01T00:00:00\", \"Jahr_str\": \"1952-01-01\", \"sum_AnzBestWir\": 403625, \"sum_AuslAnt\": 8.9}, {\"Jahr\": \"1953-01-01T00:00:00\", \"Jahr_str\": \"1953-01-01\", \"sum_AnzBestWir\": 408544, \"sum_AuslAnt\": 8.8}, {\"Jahr\": \"1954-01-01T00:00:00\", \"Jahr_str\": \"1954-01-01\", \"sum_AnzBestWir\": 413044, \"sum_AuslAnt\": 8.5}, {\"Jahr\": \"1955-01-01T00:00:00\", \"Jahr_str\": \"1955-01-01\", \"sum_AnzBestWir\": 417351, \"sum_AuslAnt\": 8.8}, {\"Jahr\": \"1956-01-01T00:00:00\", \"Jahr_str\": \"1956-01-01\", \"sum_AnzBestWir\": 420489, \"sum_AuslAnt\": 9.4}, {\"Jahr\": \"1957-01-01T00:00:00\", \"Jahr_str\": \"1957-01-01\", \"sum_AnzBestWir\": 426349, \"sum_AuslAnt\": 10.4}, {\"Jahr\": \"1958-01-01T00:00:00\", \"Jahr_str\": \"1958-01-01\", \"sum_AnzBestWir\": 431242, \"sum_AuslAnt\": 10.8}, {\"Jahr\": \"1959-01-01T00:00:00\", \"Jahr_str\": \"1959-01-01\", \"sum_AnzBestWir\": 434080, \"sum_AuslAnt\": 11.0}, {\"Jahr\": \"1960-01-01T00:00:00\", \"Jahr_str\": \"1960-01-01\", \"sum_AnzBestWir\": 437273, \"sum_AuslAnt\": 12.1}, {\"Jahr\": \"1961-01-01T00:00:00\", \"Jahr_str\": \"1961-01-01\", \"sum_AnzBestWir\": 439322, \"sum_AuslAnt\": 13.5}, {\"Jahr\": \"1962-01-01T00:00:00\", \"Jahr_str\": \"1962-01-01\", \"sum_AnzBestWir\": 440180, \"sum_AuslAnt\": 14.5}, {\"Jahr\": \"1963-01-01T00:00:00\", \"Jahr_str\": \"1963-01-01\", \"sum_AnzBestWir\": 439090, \"sum_AuslAnt\": 15.3}, {\"Jahr\": \"1964-01-01T00:00:00\", \"Jahr_str\": \"1964-01-01\", \"sum_AnzBestWir\": 437630, \"sum_AuslAnt\": 15.7}, {\"Jahr\": \"1965-01-01T00:00:00\", \"Jahr_str\": \"1965-01-01\", \"sum_AnzBestWir\": 433865, \"sum_AuslAnt\": 15.5}, {\"Jahr\": \"1966-01-01T00:00:00\", \"Jahr_str\": \"1966-01-01\", \"sum_AnzBestWir\": 431533, \"sum_AuslAnt\": 15.6}, {\"Jahr\": \"1967-01-01T00:00:00\", \"Jahr_str\": \"1967-01-01\", \"sum_AnzBestWir\": 430594, \"sum_AuslAnt\": 16.1}, {\"Jahr\": \"1968-01-01T00:00:00\", \"Jahr_str\": \"1968-01-01\", \"sum_AnzBestWir\": 430155, \"sum_AuslAnt\": 16.9}, {\"Jahr\": \"1969-01-01T00:00:00\", \"Jahr_str\": \"1969-01-01\", \"sum_AnzBestWir\": 425117, \"sum_AuslAnt\": 16.8}, {\"Jahr\": \"1970-01-01T00:00:00\", \"Jahr_str\": \"1970-01-01\", \"sum_AnzBestWir\": 417972, \"sum_AuslAnt\": 16.7}, {\"Jahr\": \"1971-01-01T00:00:00\", \"Jahr_str\": \"1971-01-01\", \"sum_AnzBestWir\": 412169, \"sum_AuslAnt\": 17.0}, {\"Jahr\": \"1972-01-01T00:00:00\", \"Jahr_str\": \"1972-01-01\", \"sum_AnzBestWir\": 407647, \"sum_AuslAnt\": 17.7}, {\"Jahr\": \"1973-01-01T00:00:00\", \"Jahr_str\": \"1973-01-01\", \"sum_AnzBestWir\": 401577, \"sum_AuslAnt\": 18.3}, {\"Jahr\": \"1974-01-01T00:00:00\", \"Jahr_str\": \"1974-01-01\", \"sum_AnzBestWir\": 396261, \"sum_AuslAnt\": 18.7}, {\"Jahr\": \"1975-01-01T00:00:00\", \"Jahr_str\": \"1975-01-01\", \"sum_AnzBestWir\": 389613, \"sum_AuslAnt\": 18.1}, {\"Jahr\": \"1976-01-01T00:00:00\", \"Jahr_str\": \"1976-01-01\", \"sum_AnzBestWir\": 382999, \"sum_AuslAnt\": 17.6}, {\"Jahr\": \"1977-01-01T00:00:00\", \"Jahr_str\": \"1977-01-01\", \"sum_AnzBestWir\": 379635, \"sum_AuslAnt\": 17.5}, {\"Jahr\": \"1978-01-01T00:00:00\", \"Jahr_str\": \"1978-01-01\", \"sum_AnzBestWir\": 376447, \"sum_AuslAnt\": 17.7}, {\"Jahr\": \"1979-01-01T00:00:00\", \"Jahr_str\": \"1979-01-01\", \"sum_AnzBestWir\": 374221, \"sum_AuslAnt\": 18.1}, {\"Jahr\": \"1980-01-01T00:00:00\", \"Jahr_str\": \"1980-01-01\", \"sum_AnzBestWir\": 370618, \"sum_AuslAnt\": 18.1}, {\"Jahr\": \"1981-01-01T00:00:00\", \"Jahr_str\": \"1981-01-01\", \"sum_AnzBestWir\": 368171, \"sum_AuslAnt\": 18.7}, {\"Jahr\": \"1982-01-01T00:00:00\", \"Jahr_str\": \"1982-01-01\", \"sum_AnzBestWir\": 366340, \"sum_AuslAnt\": 19.5}, {\"Jahr\": \"1983-01-01T00:00:00\", \"Jahr_str\": \"1983-01-01\", \"sum_AnzBestWir\": 363652, \"sum_AuslAnt\": 20.0}, {\"Jahr\": \"1984-01-01T00:00:00\", \"Jahr_str\": \"1984-01-01\", \"sum_AnzBestWir\": 361493, \"sum_AuslAnt\": 20.0}, {\"Jahr\": \"1985-01-01T00:00:00\", \"Jahr_str\": \"1985-01-01\", \"sum_AnzBestWir\": 359084, \"sum_AuslAnt\": 20.2}, {\"Jahr\": \"1986-01-01T00:00:00\", \"Jahr_str\": \"1986-01-01\", \"sum_AnzBestWir\": 358873, \"sum_AuslAnt\": 20.6}, {\"Jahr\": \"1987-01-01T00:00:00\", \"Jahr_str\": \"1987-01-01\", \"sum_AnzBestWir\": 358042, \"sum_AuslAnt\": 21.2}, {\"Jahr\": \"1988-01-01T00:00:00\", \"Jahr_str\": \"1988-01-01\", \"sum_AnzBestWir\": 357360, \"sum_AuslAnt\": 21.9}, {\"Jahr\": \"1989-01-01T00:00:00\", \"Jahr_str\": \"1989-01-01\", \"sum_AnzBestWir\": 355901, \"sum_AuslAnt\": 22.7}, {\"Jahr\": \"1990-01-01T00:00:00\", \"Jahr_str\": \"1990-01-01\", \"sum_AnzBestWir\": 356352, \"sum_AuslAnt\": 23.8}, {\"Jahr\": \"1991-01-01T00:00:00\", \"Jahr_str\": \"1991-01-01\", \"sum_AnzBestWir\": 360875, \"sum_AuslAnt\": 25.3}, {\"Jahr\": \"1992-01-01T00:00:00\", \"Jahr_str\": \"1992-01-01\", \"sum_AnzBestWir\": 361488, \"sum_AuslAnt\": 25.9}, {\"Jahr\": \"1993-01-01T00:00:00\", \"Jahr_str\": \"1993-01-01\", \"sum_AnzBestWir\": 360898, \"sum_AuslAnt\": 26.8}, {\"Jahr\": \"1994-01-01T00:00:00\", \"Jahr_str\": \"1994-01-01\", \"sum_AnzBestWir\": 360848, \"sum_AuslAnt\": 27.5}, {\"Jahr\": \"1995-01-01T00:00:00\", \"Jahr_str\": \"1995-01-01\", \"sum_AnzBestWir\": 360826, \"sum_AuslAnt\": 28.1}, {\"Jahr\": \"1996-01-01T00:00:00\", \"Jahr_str\": \"1996-01-01\", \"sum_AnzBestWir\": 359648, \"sum_AuslAnt\": 28.4}, {\"Jahr\": \"1997-01-01T00:00:00\", \"Jahr_str\": \"1997-01-01\", \"sum_AnzBestWir\": 358594, \"sum_AuslAnt\": 28.6}, {\"Jahr\": \"1998-01-01T00:00:00\", \"Jahr_str\": \"1998-01-01\", \"sum_AnzBestWir\": 359073, \"sum_AuslAnt\": 28.8}, {\"Jahr\": \"1999-01-01T00:00:00\", \"Jahr_str\": \"1999-01-01\", \"sum_AnzBestWir\": 360704, \"sum_AuslAnt\": 29.3}, {\"Jahr\": \"2000-01-01T00:00:00\", \"Jahr_str\": \"2000-01-01\", \"sum_AnzBestWir\": 360980, \"sum_AuslAnt\": 29.2}, {\"Jahr\": \"2001-01-01T00:00:00\", \"Jahr_str\": \"2001-01-01\", \"sum_AnzBestWir\": 362042, \"sum_AuslAnt\": 29.3}, {\"Jahr\": \"2002-01-01T00:00:00\", \"Jahr_str\": \"2002-01-01\", \"sum_AnzBestWir\": 364558, \"sum_AuslAnt\": 29.8}, {\"Jahr\": \"2003-01-01T00:00:00\", \"Jahr_str\": \"2003-01-01\", \"sum_AnzBestWir\": 364528, \"sum_AuslAnt\": 29.9}, {\"Jahr\": \"2004-01-01T00:00:00\", \"Jahr_str\": \"2004-01-01\", \"sum_AnzBestWir\": 364977, \"sum_AuslAnt\": 30.2}, {\"Jahr\": \"2005-01-01T00:00:00\", \"Jahr_str\": \"2005-01-01\", \"sum_AnzBestWir\": 366809, \"sum_AuslAnt\": 30.2}, {\"Jahr\": \"2006-01-01T00:00:00\", \"Jahr_str\": \"2006-01-01\", \"sum_AnzBestWir\": 370062, \"sum_AuslAnt\": 30.0}, {\"Jahr\": \"2007-01-01T00:00:00\", \"Jahr_str\": \"2007-01-01\", \"sum_AnzBestWir\": 376815, \"sum_AuslAnt\": 30.6}, {\"Jahr\": \"2008-01-01T00:00:00\", \"Jahr_str\": \"2008-01-01\", \"sum_AnzBestWir\": 380499, \"sum_AuslAnt\": 31.0}, {\"Jahr\": \"2009-01-01T00:00:00\", \"Jahr_str\": \"2009-01-01\", \"sum_AnzBestWir\": 382906, \"sum_AuslAnt\": 30.7}, {\"Jahr\": \"2010-01-01T00:00:00\", \"Jahr_str\": \"2010-01-01\", \"sum_AnzBestWir\": 385468, \"sum_AuslAnt\": 30.5}, {\"Jahr\": \"2011-01-01T00:00:00\", \"Jahr_str\": \"2011-01-01\", \"sum_AnzBestWir\": 390082, \"sum_AuslAnt\": 31.0}, {\"Jahr\": \"2012-01-01T00:00:00\", \"Jahr_str\": \"2012-01-01\", \"sum_AnzBestWir\": 394012, \"sum_AuslAnt\": 31.3}, {\"Jahr\": \"2013-01-01T00:00:00\", \"Jahr_str\": \"2013-01-01\", \"sum_AnzBestWir\": 398575, \"sum_AuslAnt\": 31.6}, {\"Jahr\": \"2014-01-01T00:00:00\", \"Jahr_str\": \"2014-01-01\", \"sum_AnzBestWir\": 404783, \"sum_AuslAnt\": 31.9}, {\"Jahr\": \"2015-01-01T00:00:00\", \"Jahr_str\": \"2015-01-01\", \"sum_AnzBestWir\": 410404, \"sum_AuslAnt\": 32.0}, {\"Jahr\": \"2016-01-01T00:00:00\", \"Jahr_str\": \"2016-01-01\", \"sum_AnzBestWir\": 415682, \"sum_AuslAnt\": 32.1}, {\"Jahr\": \"2017-01-01T00:00:00\", \"Jahr_str\": \"2017-01-01\", \"sum_AnzBestWir\": 423310, \"sum_AuslAnt\": 32.4}, {\"Jahr\": \"2018-01-01T00:00:00\", \"Jahr_str\": \"2018-01-01\", \"sum_AnzBestWir\": 428737, \"sum_AuslAnt\": 32.3}, {\"Jahr\": \"2019-01-01T00:00:00\", \"Jahr_str\": \"2019-01-01\", \"sum_AnzBestWir\": 434008, \"sum_AuslAnt\": 32.2}, {\"Jahr\": \"2020-01-01T00:00:00\", \"Jahr_str\": \"2020-01-01\", \"sum_AnzBestWir\": 434736, \"sum_AuslAnt\": 32.1}, {\"Jahr\": \"2021-01-01T00:00:00\", \"Jahr_str\": \"2021-01-01\", \"sum_AnzBestWir\": 436332, \"sum_AuslAnt\": 32.2}]}}, {\"mode\": \"vega-lite\"});\n",
       "</script>"
      ],
      "text/plain": [
       "alt.LayerChart(...)"
      ]
     },
     "execution_count": 66,
     "metadata": {},
     "output_type": "execute_result"
    }
   ],
   "source": [
    "myTitle=\"Ausländeranteil seit 1901\"\n",
    "\n",
    "highlight = alt.selection(type='single', on='mouseover',\n",
    "                          fields=['sum_AuslAnt'], nearest=True)\n",
    "#x='date:StichtagDatJahr',\n",
    "base = alt.Chart(myAgg.reset_index().query('sum_AnzBestWir>0'), title=myTitle).encode(\n",
    "    x=alt.X('Jahr', axis=alt.Axis(title='Jahr'))# , axis=alt.Axis(format='%', title='percentage')\n",
    "    , y=alt.X('sum_AuslAnt', axis=alt.Axis(title='Anz. Personen'))\n",
    "    , color=alt.Color('sum_AuslAnt', legend=alt.Legend(title=\"\", orient=\"right\"))  \n",
    "    ,tooltip=['Jahr_str', 'sum_AnzBestWir', 'sum_AuslAnt']    \n",
    ")\n",
    "points = base.mark_circle().encode(\n",
    "    opacity=alt.value(0.75)\n",
    ").add_selection(\n",
    "    highlight\n",
    ").properties(\n",
    "    width=750 , height=350\n",
    ")\n",
    "lines = base.mark_line().encode(\n",
    "    size=alt.condition(~highlight, alt.value(0.5), alt.value(4))\n",
    ").interactive()\n",
    "\n",
    "lines + points"
   ]
  },
  {
   "cell_type": "markdown",
   "metadata": {
    "tags": []
   },
   "source": [
    "#### Barcharts mit Seaborn"
   ]
  },
  {
   "cell_type": "code",
   "execution_count": 64,
   "metadata": {},
   "outputs": [],
   "source": [
    "#help(sns.catplot)     "
   ]
  },
  {
   "cell_type": "code",
   "execution_count": 70,
   "metadata": {},
   "outputs": [],
   "source": [
    "#Stile for the following sns graphs\n",
    "sns.set_theme(style=\"whitegrid\")"
   ]
  },
  {
   "cell_type": "code",
   "execution_count": 71,
   "metadata": {},
   "outputs": [
    {
     "data": {
      "text/plain": [
       "Index(['StichtagDatJahr', 'AnzBestWir', 'AnzBestWirCH', 'AnzBestWirCHW', 'AnzBestWirCHM',\n",
       "       'AnzBestWirAUSL', 'AnzBestWirAUSLW', 'AnzBestWirAUSLM', 'AuslAnt', 'Jahr_str'],\n",
       "      dtype='object')"
      ]
     },
     "execution_count": 71,
     "metadata": {},
     "output_type": "execute_result"
    }
   ],
   "source": [
    "data2betested.columns"
   ]
  },
  {
   "cell_type": "code",
   "execution_count": 80,
   "metadata": {},
   "outputs": [
    {
     "data": {
      "text/plain": [
       "<seaborn.axisgrid.FacetGrid at 0x1e0989a17c8>"
      ]
     },
     "execution_count": 80,
     "metadata": {},
     "output_type": "execute_result"
    },
    {
     "data": {
      "image/png": "[encoded data removed]",
      "text/plain": [
       "<Figure size 720x360 with 1 Axes>"
      ]
     },
     "metadata": {},
     "output_type": "display_data"
    }
   ],
   "source": [
    "#sns.color_palette(\"flare\", as_cmap=True)\n",
    "myHist = sns.catplot(x=\"Jahr_str\"\n",
    "            , y=\"AuslAnt\"\n",
    "            #, hue=\"AuslAnt\"\n",
    "            , kind=\"bar\" #boxen, violin, --> wenn die aggregation nicht genau den werten in der grafik entspricht\n",
    "            , palette=\"pastel\" #, color=\"green\"\n",
    "            , height=5\n",
    "            , aspect=2\n",
    "            , order=None, legend_out=True\n",
    "            ,data=data2betested.loc[\"1910\":\"2021\"].reset_index()\n",
    "           )\n",
    "myHist.set_xlabels('Jahr', fontsize=11) # not set_label\n",
    "myHist.set_ylabels('Anz. Pers.', fontsize=11)\n"
   ]
  },
  {
   "cell_type": "code",
   "execution_count": 78,
   "metadata": {},
   "outputs": [
    {
     "data": {
      "text/plain": [
       "Index(['StichtagDatJahr', 'AnzBestWir', 'AnzBestWirCH', 'AnzBestWirCHW', 'AnzBestWirCHM',\n",
       "       'AnzBestWirAUSL', 'AnzBestWirAUSLW', 'AnzBestWirAUSLM', 'AuslAnt', 'Jahr_str'],\n",
       "      dtype='object')"
      ]
     },
     "execution_count": 78,
     "metadata": {},
     "output_type": "execute_result"
    }
   ],
   "source": [
    "data2betested.columns"
   ]
  },
  {
   "cell_type": "markdown",
   "metadata": {},
   "source": [
    "## ---------------------- hier Plausi beendet\n",
    "\n",
    "**Sharepoint als gecheckt markieren!**"
   ]
  },
  {
   "cell_type": "markdown",
   "metadata": {
    "tags": []
   },
   "source": [
    "Record auf Sharepoint: **[Link](https://kollaboration.intranet.stzh.ch/orga/ssz-produkte/Lists/SASA_Outputs/DispForm.aspx?ID=41&ContentTypeId=0x0100988EAF029F1EFE4CA675F53C32A5D53D01006DBC563E6FBE9E4EB6FDC780799752E1)**\n",
    "\n",
    "---------------------------------------------------------------------------"
   ]
  },
  {
   "cell_type": "code",
   "execution_count": null,
   "metadata": {},
   "outputs": [],
   "source": []
  }
 ],
 "metadata": {
  "kernelspec": {
   "display_name": "Python 3 (ipykernel)",
   "language": "python",
   "name": "python3"
  },
  "language_info": {
   "codemirror_mode": {
    "name": "ipython",
    "version": 3
   },
   "file_extension": ".py",
   "mimetype": "text/x-python",
   "name": "python",
   "nbconvert_exporter": "python",
   "pygments_lexer": "ipython3",
   "version": "3.7.11"
  }
 },
 "nbformat": 4,
 "nbformat_minor": 4
}
