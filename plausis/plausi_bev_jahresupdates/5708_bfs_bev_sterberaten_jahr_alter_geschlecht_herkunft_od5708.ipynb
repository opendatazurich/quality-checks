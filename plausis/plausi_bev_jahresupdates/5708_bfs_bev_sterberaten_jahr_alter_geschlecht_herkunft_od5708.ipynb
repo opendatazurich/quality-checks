{
 "cells": [
  {
   "cell_type": "markdown",
   "metadata": {
    "tags": []
   },
   "source": [
    "# Testing\n",
    "### Bevölkerung \n",
    "Datum: 15.03.2022\n"
   ]
  },
  {
   "cell_type": "markdown",
   "metadata": {},
   "source": [
    "### Importiere die notwendigen Packages"
   ]
  },
  {
   "cell_type": "code",
   "execution_count": 1,
   "metadata": {},
   "outputs": [],
   "source": [
    "#%pip install geopandas altair fiona requests folium mplleaflet contextily seaborn datetime plotly leafmap"
   ]
  },
  {
   "cell_type": "code",
   "execution_count": 2,
   "metadata": {},
   "outputs": [],
   "source": [
    "import pandas as pd\n",
    "import pivottablejs\n",
    "from pivottablejs import pivot_ui\n",
    "import numpy as np\n",
    "import altair as alt\n",
    "import matplotlib.pyplot as plt\n",
    "\n",
    "import datetime\n",
    "import geopandas as gpd\n",
    "import folium \n",
    "import plotly.express as px\n",
    "import seaborn as sns\n",
    "import leafmap\n",
    "\n",
    "import requests\n",
    "import io\n",
    "\n",
    "import plotly.express as px\n"
   ]
  },
  {
   "cell_type": "code",
   "execution_count": 3,
   "metadata": {},
   "outputs": [],
   "source": [
    "SSL_VERIFY = False\n",
    "# evtl. SSL_VERIFY auf False setzen wenn die Verbindung zu https://www.gemeinderat-zuerich.ch nicht klappt (z.B. wegen Proxy)\n",
    "# Um die SSL Verifikation auszustellen, bitte die nächste Zeile einkommentieren (\"#\" entfernen)\n",
    "# SSL_VERIFY = False"
   ]
  },
  {
   "cell_type": "code",
   "execution_count": 4,
   "metadata": {},
   "outputs": [],
   "source": [
    "if not SSL_VERIFY:\n",
    "    import urllib3\n",
    "    urllib3.disable_warnings()"
   ]
  },
  {
   "cell_type": "markdown",
   "metadata": {},
   "source": [
    "Definiere Settings. Hier das Zahlenformat von Float-Werten (z.B. *'{:,.2f}'.format* mit Komma als Tausenderzeichen), "
   ]
  },
  {
   "cell_type": "code",
   "execution_count": 50,
   "metadata": {},
   "outputs": [],
   "source": [
    "#pd.options.display.float_format = lambda x : '{:,.1f}'.format(x) if (np.isnan(x) | np.isinf(x)) else '{:,.0f}'.format(x) if int(x) == x else '{:,.1f}'.format(x)\n",
    "pd.options.display.float_format = '{:.2f}'.format\n",
    "pd.set_option('display.width', 100)\n",
    "pd.set_option('display.max_columns', 15)"
   ]
  },
  {
   "cell_type": "markdown",
   "metadata": {},
   "source": [
    "### Zeitvariabeln\n",
    "Bestimme den aktuellst geladenen Monat. Hier ist es der Stand vor 2 Monaten. \n",
    "Bestimme noch weitere evt. sinnvolle Zeitvariabeln.\n",
    "\n",
    "Zum Unterschied zwischen import datetime und from datedtime import datetime, siehe https://stackoverflow.com/questions/15707532/import-datetime-v-s-from-datetime-import-datetime\n",
    "\n",
    "Zuerst die Zeitvariabeln als Strings"
   ]
  },
  {
   "cell_type": "code",
   "execution_count": 51,
   "metadata": {},
   "outputs": [],
   "source": [
    "#today_date = datetime.date.today()\n",
    "#date_time = datetime.datetime.strptime(date_time_string, '%Y-%m-%d %H:%M')\n",
    "now = datetime.date.today()\n",
    "date_today = now.strftime(\"%Y-%m-%d\")\n",
    "year_today = now.strftime(\"%Y\")\n",
    "month_today = now.strftime(\"%m\")\n",
    "day_today = now.strftime(\"%d\")\n"
   ]
  },
  {
   "cell_type": "markdown",
   "metadata": {},
   "source": [
    "Und hier noch die Zeitvariabeln als Integers:\n",
    "- `aktuellesJahr`\n",
    "- `aktuellerMonat`: Der gerade jetzt aktuelle Monat\n",
    "- `selectedMonat`: Der aktuellste Monat in den Daten. In der Regel zwei Monate her."
   ]
  },
  {
   "cell_type": "code",
   "execution_count": 52,
   "metadata": {},
   "outputs": [
    {
     "name": "stdout",
     "output_type": "stream",
     "text": [
      "2022 4 datenstand:  2 time.struct_time(tm_year=2022, tm_mon=4, tm_mday=5, tm_hour=0, tm_min=0, tm_sec=0, tm_wday=1, tm_yday=95, tm_isdst=-1)\n"
     ]
    }
   ],
   "source": [
    "#now = datetime.now() \n",
    "int_times = now.timetuple()\n",
    "\n",
    "aktuellesJahr = int_times[0]\n",
    "aktuellerMonat = int_times[1]\n",
    "selectedMonat = int_times[1]-2\n",
    "\n",
    "print(aktuellesJahr, \n",
    "      aktuellerMonat,\n",
    "    'datenstand: ', selectedMonat,\n",
    "     int_times)\n"
   ]
  },
  {
   "cell_type": "markdown",
   "metadata": {},
   "source": [
    "Berechne die Variable Epoche um später das SAS-Datum in ein Unix-Datum umzuwandeln. Bei SAS beginnt die Epoche am 1.1.1960. Bei Unix am 1.1.1970.\n",
    "Diese Variable wird beim CSV-Import benötigt."
   ]
  },
  {
   "cell_type": "code",
   "execution_count": 53,
   "metadata": {},
   "outputs": [],
   "source": [
    "epoch = datetime.datetime(1960, 1, 1)"
   ]
  },
  {
   "cell_type": "markdown",
   "metadata": {},
   "source": [
    "### Setze einige Pfadvariabeln"
   ]
  },
  {
   "cell_type": "markdown",
   "metadata": {
    "tags": []
   },
   "source": [
    "- Der Packagename ist eigentlich der **Verzeichnisname** unter dem die Daten und Metadaten auf der Dropzone abgelegt werden.\n",
    "- Definiert wird er bei SASA-Prozessen auf dem **Produkte-Sharepoint ([Link](https://kollaboration.intranet.stzh.ch/orga/ssz-produkte/Lists/SASA_Outputs/PersonalViews.aspx?PageView=Personal&ShowWebPart={6087A3E7-8AC8-40BA-8278-DECFACE124FF}))**.\n",
    "- Der Packagename wird auf CKAN teil der URL, daher ist die exakte Schreibweise wichtig.\n",
    "\n",
    "Beachte: im Packagename müssen alle Buchstaben **klein** geschrieben werden. Dies weil CKAN aus grossen kleine Buchstaben macht."
   ]
  },
  {
   "cell_type": "markdown",
   "metadata": {},
   "source": [
    "**BITTE HIER ANPASSEN**"
   ]
  },
  {
   "cell_type": "code",
   "execution_count": 54,
   "metadata": {},
   "outputs": [],
   "source": [
    "package_name = \"bfs_bev_sterberaten_jahr_alter_geschlecht_herkunft_od5708\""
   ]
  },
  {
   "cell_type": "code",
   "execution_count": 55,
   "metadata": {
    "tags": []
   },
   "outputs": [],
   "source": [
    "dataset_name = \"BEV570OD5708.csv\""
   ]
  },
  {
   "cell_type": "markdown",
   "metadata": {},
   "source": [
    "**Statische Pfade in DWH-Dropzones**"
   ]
  },
  {
   "cell_type": "code",
   "execution_count": 56,
   "metadata": {},
   "outputs": [],
   "source": [
    "dropzone_path_integ = r\"\\\\szh\\ssz\\applikationen\\OGD_Dropzone\\INT_DWH\""
   ]
  },
  {
   "cell_type": "code",
   "execution_count": 57,
   "metadata": {
    "tags": []
   },
   "outputs": [],
   "source": [
    "dropzone_path_prod = r\"\\\\szh\\ssz\\applikationen\\OGD_Dropzone\\DWH\""
   ]
  },
  {
   "cell_type": "markdown",
   "metadata": {},
   "source": [
    "**Statische Pfade CKAN-URLs**"
   ]
  },
  {
   "cell_type": "code",
   "execution_count": 58,
   "metadata": {
    "tags": []
   },
   "outputs": [],
   "source": [
    "ckan_integ_url =\"https://data.integ.stadt-zuerich.ch/dataset/int_dwh_\""
   ]
  },
  {
   "cell_type": "code",
   "execution_count": 59,
   "metadata": {},
   "outputs": [],
   "source": [
    "ckan_prod_url =\"https://data.stadt-zuerich.ch/dataset/\""
   ]
  },
  {
   "cell_type": "markdown",
   "metadata": {},
   "source": [
    "### Checke die Metadaten auf der CKAN INTEG- oder PROD-Webseite\n",
    "\n",
    "Offenbar lassen sich aktuell im Markdownteil keine Variabeln ausführen, daher gehen wir wie unten gezeigt vor. Siehe dazu: https://data-dive.com/jupyterlab-markdown-cells-include-variables\n",
    "Instead of setting the cell to Markdown, create Markdown from withnin a code cell! We can just use python variable replacement syntax to make the text dynamic"
   ]
  },
  {
   "cell_type": "code",
   "execution_count": 60,
   "metadata": {},
   "outputs": [],
   "source": [
    "from IPython.display import Markdown as md"
   ]
  },
  {
   "cell_type": "code",
   "execution_count": 61,
   "metadata": {},
   "outputs": [
    {
     "data": {
      "text/markdown": [
       " **1. Dataset auf INTEG-Datakatalog:** Link https://data.integ.stadt-zuerich.ch/dataset/int_dwh_bfs_bev_sterberaten_jahr_alter_geschlecht_herkunft_od5708 "
      ],
      "text/plain": [
       "<IPython.core.display.Markdown object>"
      ]
     },
     "execution_count": 61,
     "metadata": {},
     "output_type": "execute_result"
    }
   ],
   "source": [
    "md(\" **1. Dataset auf INTEG-Datakatalog:** Link {} \".format(ckan_integ_url+package_name))"
   ]
  },
  {
   "cell_type": "code",
   "execution_count": 62,
   "metadata": {
    "tags": []
   },
   "outputs": [
    {
     "data": {
      "text/markdown": [
       " **2. Dataset auf PROD-Datakatalog:** Link https://data.stadt-zuerich.ch/dataset/bfs_bev_sterberaten_jahr_alter_geschlecht_herkunft_od5708 "
      ],
      "text/plain": [
       "<IPython.core.display.Markdown object>"
      ]
     },
     "execution_count": 62,
     "metadata": {},
     "output_type": "execute_result"
    }
   ],
   "source": [
    "md(\" **2. Dataset auf PROD-Datakatalog:** Link {} \".format(ckan_prod_url+package_name))"
   ]
  },
  {
   "cell_type": "markdown",
   "metadata": {
    "tags": []
   },
   "source": [
    "### Importiere einen Datensatz \n",
    "\n",
    "Definiere zuerst folgende Werte:\n",
    "1) Kommt der Datensatz von PROD oder INTEG?\n",
    "2) Beziehst Du den Datensatz direkt ab der DROPZONE oder aus dem INTERNET?"
   ]
  },
  {
   "cell_type": "code",
   "execution_count": 63,
   "metadata": {},
   "outputs": [
    {
     "name": "stdout",
     "output_type": "stream",
     "text": [
      "prod - web\n"
     ]
    }
   ],
   "source": [
    "#Die Datasets sind nur zum Testen auf INT-DWH-Dropzone. Wenn der Test vorbei ist, sind sie auf PROD. \n",
    "# Über den Status kann man einfach switchen\n",
    "\n",
    "status = \"prod\"; #prod vs something else\n",
    "data_source = \"web\"; #dropzone vs something else\n",
    "print(status+\" - \"+ data_source)"
   ]
  },
  {
   "cell_type": "code",
   "execution_count": 64,
   "metadata": {
    "tags": []
   },
   "outputs": [
    {
     "name": "stdout",
     "output_type": "stream",
     "text": [
      "fp lautet:https://data.stadt-zuerich.ch/dataset/bfs_bev_sterberaten_jahr_alter_geschlecht_herkunft_od5708/download/BEV570OD5708.csv\n"
     ]
    }
   ],
   "source": [
    "# Filepath\n",
    "if status == \"prod\":\n",
    "    if data_source == \"dropzone\":\n",
    "            fp = dropzone_path_prod+\"\\\\\"+ package_name +\"\\\\\"+dataset_name\n",
    "            print(\"fp lautet:\"+fp)\n",
    "    else:\n",
    "        #fp = r\"https://data.stadt-zuerich.ch/dataset/bau_neubau_whg_bausm_rinh_geb_projstatus_quartier_seit2009_od5011/download/BAU501OD5011.csv\"\n",
    "        fp = ckan_prod_url+package_name+'/download/'+dataset_name\n",
    "        print(\"fp lautet:\"+fp)\n",
    "else:\n",
    "    if data_source == \"dropzone\":\n",
    "        fp = dropzone_path_integ+\"\\\\\"+ package_name +\"\\\\\"+dataset_name\n",
    "        print(\"fp lautet:\"+fp)\n",
    "    else:\n",
    "        #fp = r\"https://data.stadt-zuerich.ch/dataset/bau_neubau_whg_bausm_rinh_geb_projstatus_quartier_seit2009_od5011/download/BAU501OD5011.csv\"\n",
    "        fp = ckan_integ_url+package_name+'/download/'+dataset_name\n",
    "        print(\"fp lautet:\"+fp)\n"
   ]
  },
  {
   "cell_type": "markdown",
   "metadata": {},
   "source": [
    "Beachte, wie das SAS Datum (ohne Format) in ein UNIX Datum umgerechnet und als Datumsformat dargestellt wird! Siehe dazu `https://stackoverflow.com/questions/26923564/convert-sas-numeric-to-python-datetime`"
   ]
  },
  {
   "cell_type": "code",
   "execution_count": 65,
   "metadata": {},
   "outputs": [
    {
     "name": "stdout",
     "output_type": "stream",
     "text": [
      "web\n"
     ]
    },
    {
     "data": {
      "text/plain": [
       "EreignisDatJahr    datetime64[ns]\n",
       "AlterVCd                    int64\n",
       "SexCd                       int64\n",
       "HerkunftCd                  int64\n",
       "KategorieCd                 int64\n",
       "KategorieLang              object\n",
       "BemerkungenLang            object\n",
       "RateSterSta               float64\n",
       "dtype: object"
      ]
     },
     "execution_count": 65,
     "metadata": {},
     "output_type": "execute_result"
    }
   ],
   "source": [
    "# Read the data\n",
    "if data_source == \"dropzone\":\n",
    "    data2betested = pd.read_csv(\n",
    "        fp\n",
    "        , sep=','\n",
    "        ,parse_dates=['EreignisDatJahr']\n",
    "        ,low_memory=False\n",
    "    )\n",
    "    print(\"dropzone\")\n",
    "else:\n",
    "    r = requests.get(fp, verify=False)  \n",
    "    r.encoding = 'utf-8'\n",
    "    data2betested = pd.read_csv(\n",
    "        io.StringIO(r.text)\n",
    "        ,parse_dates=['EreignisDatJahr']\n",
    "        # KONVERTIERE DAS SAS DATUM IN EIN UNIXDATUM UND FORMATIERE ES\n",
    "        #, date_parser=lambda s: epoch + datetime.timedelta(days=int(s))\n",
    "        ,low_memory=False)\n",
    "    print(\"web\")\n",
    "\n",
    "data2betested.dtypes"
   ]
  },
  {
   "cell_type": "markdown",
   "metadata": {},
   "source": [
    "Berechne weitere Attribute falls notwendig"
   ]
  },
  {
   "cell_type": "code",
   "execution_count": 66,
   "metadata": {},
   "outputs": [
    {
     "data": {
      "text/plain": [
       "EreignisDatJahr        datetime64[ns]\n",
       "AlterVCd                        int64\n",
       "SexCd                           int64\n",
       "HerkunftCd                      int64\n",
       "KategorieCd                     int64\n",
       "KategorieLang                  object\n",
       "BemerkungenLang                object\n",
       "RateSterSta                   float64\n",
       "EreignisDatJahr_str            object\n",
       "dtype: object"
      ]
     },
     "execution_count": 66,
     "metadata": {},
     "output_type": "execute_result"
    }
   ],
   "source": [
    "data2betested = (\n",
    "    data2betested\n",
    "    .copy()\n",
    "    .assign(\n",
    "        #Aktualisierungs_Datum_str= lambda x: x.Aktualisierungs_Datum.astype(str),\n",
    "        EreignisDatJahr_str = lambda x: x.EreignisDatJahr.astype(str),\n",
    "    )\n",
    "    .sort_values('EreignisDatJahr', ascending=False)\n",
    "    )\n",
    "data2betested.dtypes"
   ]
  },
  {
   "cell_type": "markdown",
   "metadata": {},
   "source": [
    "### Einfache Datentests"
   ]
  },
  {
   "cell_type": "markdown",
   "metadata": {},
   "source": [
    " - 1) Zeige eine kurze Vorschau der importierten Daten\n",
    " - 2) Weise die Datentypen aus\n",
    " - 3) Zeige die Shape (Umfang) des Datensatzes an"
   ]
  },
  {
   "cell_type": "code",
   "execution_count": 67,
   "metadata": {},
   "outputs": [],
   "source": [
    "#data2betested.head(6)"
   ]
  },
  {
   "cell_type": "code",
   "execution_count": 68,
   "metadata": {},
   "outputs": [
    {
     "data": {
      "text/plain": [
       "EreignisDatJahr        datetime64[ns]\n",
       "AlterVCd                        int64\n",
       "SexCd                           int64\n",
       "HerkunftCd                      int64\n",
       "KategorieCd                     int64\n",
       "KategorieLang                  object\n",
       "BemerkungenLang                object\n",
       "RateSterSta                   float64\n",
       "EreignisDatJahr_str            object\n",
       "dtype: object"
      ]
     },
     "execution_count": 68,
     "metadata": {},
     "output_type": "execute_result"
    }
   ],
   "source": [
    "data2betested.dtypes"
   ]
  },
  {
   "cell_type": "code",
   "execution_count": 69,
   "metadata": {},
   "outputs": [
    {
     "data": {
      "text/plain": [
       "(56832, 9)"
      ]
     },
     "execution_count": 69,
     "metadata": {},
     "output_type": "execute_result"
    }
   ],
   "source": [
    "data2betested.shape"
   ]
  },
  {
   "cell_type": "markdown",
   "metadata": {},
   "source": [
    "Beschreibe einzelne Attribute"
   ]
  },
  {
   "cell_type": "code",
   "execution_count": 70,
   "metadata": {},
   "outputs": [
    {
     "data": {
      "text/html": [
       "<div>\n",
       "<style scoped>\n",
       "    .dataframe tbody tr th:only-of-type {\n",
       "        vertical-align: middle;\n",
       "    }\n",
       "\n",
       "    .dataframe tbody tr th {\n",
       "        vertical-align: top;\n",
       "    }\n",
       "\n",
       "    .dataframe thead th {\n",
       "        text-align: right;\n",
       "    }\n",
       "</style>\n",
       "<table border=\"1\" class=\"dataframe\">\n",
       "  <thead>\n",
       "    <tr style=\"text-align: right;\">\n",
       "      <th></th>\n",
       "      <th>AlterVCd</th>\n",
       "      <th>SexCd</th>\n",
       "      <th>HerkunftCd</th>\n",
       "      <th>KategorieCd</th>\n",
       "      <th>RateSterSta</th>\n",
       "    </tr>\n",
       "  </thead>\n",
       "  <tbody>\n",
       "    <tr>\n",
       "      <th>count</th>\n",
       "      <td>56832.00</td>\n",
       "      <td>56832.00</td>\n",
       "      <td>56832.00</td>\n",
       "      <td>56832.00</td>\n",
       "      <td>56683.00</td>\n",
       "    </tr>\n",
       "    <tr>\n",
       "      <th>mean</th>\n",
       "      <td>54.94</td>\n",
       "      <td>1.50</td>\n",
       "      <td>1.00</td>\n",
       "      <td>2.07</td>\n",
       "      <td>0.09</td>\n",
       "    </tr>\n",
       "    <tr>\n",
       "      <th>std</th>\n",
       "      <td>32.43</td>\n",
       "      <td>0.50</td>\n",
       "      <td>0.82</td>\n",
       "      <td>0.83</td>\n",
       "      <td>0.22</td>\n",
       "    </tr>\n",
       "    <tr>\n",
       "      <th>min</th>\n",
       "      <td>0.00</td>\n",
       "      <td>1.00</td>\n",
       "      <td>0.00</td>\n",
       "      <td>1.00</td>\n",
       "      <td>0.00</td>\n",
       "    </tr>\n",
       "    <tr>\n",
       "      <th>25%</th>\n",
       "      <td>27.00</td>\n",
       "      <td>1.00</td>\n",
       "      <td>0.00</td>\n",
       "      <td>1.00</td>\n",
       "      <td>0.00</td>\n",
       "    </tr>\n",
       "    <tr>\n",
       "      <th>50%</th>\n",
       "      <td>55.00</td>\n",
       "      <td>1.50</td>\n",
       "      <td>1.00</td>\n",
       "      <td>2.00</td>\n",
       "      <td>0.00</td>\n",
       "    </tr>\n",
       "    <tr>\n",
       "      <th>75%</th>\n",
       "      <td>82.00</td>\n",
       "      <td>2.00</td>\n",
       "      <td>2.00</td>\n",
       "      <td>3.00</td>\n",
       "      <td>0.04</td>\n",
       "    </tr>\n",
       "    <tr>\n",
       "      <th>max</th>\n",
       "      <td>120.00</td>\n",
       "      <td>2.00</td>\n",
       "      <td>2.00</td>\n",
       "      <td>3.00</td>\n",
       "      <td>1.02</td>\n",
       "    </tr>\n",
       "  </tbody>\n",
       "</table>\n",
       "</div>"
      ],
      "text/plain": [
       "       AlterVCd    SexCd  HerkunftCd  KategorieCd  RateSterSta\n",
       "count  56832.00 56832.00    56832.00     56832.00     56683.00\n",
       "mean      54.94     1.50        1.00         2.07         0.09\n",
       "std       32.43     0.50        0.82         0.83         0.22\n",
       "min        0.00     1.00        0.00         1.00         0.00\n",
       "25%       27.00     1.00        0.00         1.00         0.00\n",
       "50%       55.00     1.50        1.00         2.00         0.00\n",
       "75%       82.00     2.00        2.00         3.00         0.04\n",
       "max      120.00     2.00        2.00         3.00         1.02"
      ]
     },
     "execution_count": 70,
     "metadata": {},
     "output_type": "execute_result"
    }
   ],
   "source": [
    "data2betested.describe()"
   ]
  },
  {
   "cell_type": "markdown",
   "metadata": {},
   "source": [
    "Wie viele Nullwerte gibt es im Datensatz?"
   ]
  },
  {
   "cell_type": "code",
   "execution_count": 71,
   "metadata": {
    "scrolled": true
   },
   "outputs": [
    {
     "data": {
      "text/plain": [
       "EreignisDatJahr          0\n",
       "AlterVCd                 0\n",
       "SexCd                    0\n",
       "HerkunftCd               0\n",
       "KategorieCd              0\n",
       "KategorieLang            0\n",
       "BemerkungenLang          0\n",
       "RateSterSta            149\n",
       "EreignisDatJahr_str      0\n",
       "dtype: int64"
      ]
     },
     "execution_count": 71,
     "metadata": {},
     "output_type": "execute_result"
    }
   ],
   "source": [
    "data2betested.isnull().sum()"
   ]
  },
  {
   "cell_type": "markdown",
   "metadata": {},
   "source": [
    "Welches sind die Quartiere ohne Werte bei AnzBestWir?"
   ]
  },
  {
   "cell_type": "code",
   "execution_count": 76,
   "metadata": {},
   "outputs": [
    {
     "data": {
      "text/html": [
       "<div>\n",
       "<style scoped>\n",
       "    .dataframe tbody tr th:only-of-type {\n",
       "        vertical-align: middle;\n",
       "    }\n",
       "\n",
       "    .dataframe tbody tr th {\n",
       "        vertical-align: top;\n",
       "    }\n",
       "\n",
       "    .dataframe thead th {\n",
       "        text-align: right;\n",
       "    }\n",
       "</style>\n",
       "<table border=\"1\" class=\"dataframe\">\n",
       "  <thead>\n",
       "    <tr style=\"text-align: right;\">\n",
       "      <th></th>\n",
       "      <th>EreignisDatJahr</th>\n",
       "      <th>AlterVCd</th>\n",
       "      <th>SexCd</th>\n",
       "      <th>HerkunftCd</th>\n",
       "      <th>KategorieCd</th>\n",
       "      <th>KategorieLang</th>\n",
       "      <th>BemerkungenLang</th>\n",
       "      <th>RateSterSta</th>\n",
       "      <th>EreignisDatJahr_str</th>\n",
       "    </tr>\n",
       "  </thead>\n",
       "  <tbody>\n",
       "    <tr>\n",
       "      <th>33674</th>\n",
       "      <td>2018-01-01</td>\n",
       "      <td>103</td>\n",
       "      <td>1</td>\n",
       "      <td>2</td>\n",
       "      <td>2</td>\n",
       "      <td>Vergangenheit, geglättete Daten</td>\n",
       "      <td>Keine Bemerkungen</td>\n",
       "      <td>NaN</td>\n",
       "      <td>2018-01-01</td>\n",
       "    </tr>\n",
       "    <tr>\n",
       "      <th>33701</th>\n",
       "      <td>2018-01-01</td>\n",
       "      <td>107</td>\n",
       "      <td>2</td>\n",
       "      <td>2</td>\n",
       "      <td>2</td>\n",
       "      <td>Vergangenheit, geglättete Daten</td>\n",
       "      <td>Keine Bemerkungen</td>\n",
       "      <td>NaN</td>\n",
       "      <td>2018-01-01</td>\n",
       "    </tr>\n",
       "    <tr>\n",
       "      <th>33698</th>\n",
       "      <td>2018-01-01</td>\n",
       "      <td>107</td>\n",
       "      <td>1</td>\n",
       "      <td>2</td>\n",
       "      <td>2</td>\n",
       "      <td>Vergangenheit, geglättete Daten</td>\n",
       "      <td>Keine Bemerkungen</td>\n",
       "      <td>NaN</td>\n",
       "      <td>2018-01-01</td>\n",
       "    </tr>\n",
       "    <tr>\n",
       "      <th>33691</th>\n",
       "      <td>2018-01-01</td>\n",
       "      <td>106</td>\n",
       "      <td>1</td>\n",
       "      <td>1</td>\n",
       "      <td>2</td>\n",
       "      <td>Vergangenheit, geglättete Daten</td>\n",
       "      <td>Keine Bemerkungen</td>\n",
       "      <td>NaN</td>\n",
       "      <td>2018-01-01</td>\n",
       "    </tr>\n",
       "    <tr>\n",
       "      <th>33703</th>\n",
       "      <td>2018-01-01</td>\n",
       "      <td>108</td>\n",
       "      <td>1</td>\n",
       "      <td>1</td>\n",
       "      <td>2</td>\n",
       "      <td>Vergangenheit, geglättete Daten</td>\n",
       "      <td>Keine Bemerkungen</td>\n",
       "      <td>NaN</td>\n",
       "      <td>2018-01-01</td>\n",
       "    </tr>\n",
       "    <tr>\n",
       "      <th>...</th>\n",
       "      <td>...</td>\n",
       "      <td>...</td>\n",
       "      <td>...</td>\n",
       "      <td>...</td>\n",
       "      <td>...</td>\n",
       "      <td>...</td>\n",
       "      <td>...</td>\n",
       "      <td>...</td>\n",
       "      <td>...</td>\n",
       "    </tr>\n",
       "    <tr>\n",
       "      <th>28336</th>\n",
       "      <td>2010-01-01</td>\n",
       "      <td>101</td>\n",
       "      <td>2</td>\n",
       "      <td>1</td>\n",
       "      <td>2</td>\n",
       "      <td>Vergangenheit, geglättete Daten</td>\n",
       "      <td>Keine Bemerkungen</td>\n",
       "      <td>NaN</td>\n",
       "      <td>2010-01-01</td>\n",
       "    </tr>\n",
       "    <tr>\n",
       "      <th>28334</th>\n",
       "      <td>2010-01-01</td>\n",
       "      <td>101</td>\n",
       "      <td>1</td>\n",
       "      <td>2</td>\n",
       "      <td>2</td>\n",
       "      <td>Vergangenheit, geglättete Daten</td>\n",
       "      <td>Keine Bemerkungen</td>\n",
       "      <td>NaN</td>\n",
       "      <td>2010-01-01</td>\n",
       "    </tr>\n",
       "    <tr>\n",
       "      <th>28333</th>\n",
       "      <td>2010-01-01</td>\n",
       "      <td>101</td>\n",
       "      <td>1</td>\n",
       "      <td>1</td>\n",
       "      <td>2</td>\n",
       "      <td>Vergangenheit, geglättete Daten</td>\n",
       "      <td>Keine Bemerkungen</td>\n",
       "      <td>NaN</td>\n",
       "      <td>2010-01-01</td>\n",
       "    </tr>\n",
       "    <tr>\n",
       "      <th>28357</th>\n",
       "      <td>2010-01-01</td>\n",
       "      <td>105</td>\n",
       "      <td>1</td>\n",
       "      <td>1</td>\n",
       "      <td>2</td>\n",
       "      <td>Vergangenheit, geglättete Daten</td>\n",
       "      <td>Keine Bemerkungen</td>\n",
       "      <td>NaN</td>\n",
       "      <td>2010-01-01</td>\n",
       "    </tr>\n",
       "    <tr>\n",
       "      <th>28391</th>\n",
       "      <td>2010-01-01</td>\n",
       "      <td>110</td>\n",
       "      <td>2</td>\n",
       "      <td>2</td>\n",
       "      <td>2</td>\n",
       "      <td>Vergangenheit, geglättete Daten</td>\n",
       "      <td>Keine Bemerkungen</td>\n",
       "      <td>NaN</td>\n",
       "      <td>2010-01-01</td>\n",
       "    </tr>\n",
       "  </tbody>\n",
       "</table>\n",
       "<p>149 rows × 9 columns</p>\n",
       "</div>"
      ],
      "text/plain": [
       "      EreignisDatJahr  AlterVCd  SexCd  HerkunftCd  KategorieCd                    KategorieLang  \\\n",
       "33674      2018-01-01       103      1           2            2  Vergangenheit, geglättete Daten   \n",
       "33701      2018-01-01       107      2           2            2  Vergangenheit, geglättete Daten   \n",
       "33698      2018-01-01       107      1           2            2  Vergangenheit, geglättete Daten   \n",
       "33691      2018-01-01       106      1           1            2  Vergangenheit, geglättete Daten   \n",
       "33703      2018-01-01       108      1           1            2  Vergangenheit, geglättete Daten   \n",
       "...               ...       ...    ...         ...          ...                              ...   \n",
       "28336      2010-01-01       101      2           1            2  Vergangenheit, geglättete Daten   \n",
       "28334      2010-01-01       101      1           2            2  Vergangenheit, geglättete Daten   \n",
       "28333      2010-01-01       101      1           1            2  Vergangenheit, geglättete Daten   \n",
       "28357      2010-01-01       105      1           1            2  Vergangenheit, geglättete Daten   \n",
       "28391      2010-01-01       110      2           2            2  Vergangenheit, geglättete Daten   \n",
       "\n",
       "         BemerkungenLang  RateSterSta EreignisDatJahr_str  \n",
       "33674  Keine Bemerkungen          NaN          2018-01-01  \n",
       "33701  Keine Bemerkungen          NaN          2018-01-01  \n",
       "33698  Keine Bemerkungen          NaN          2018-01-01  \n",
       "33691  Keine Bemerkungen          NaN          2018-01-01  \n",
       "33703  Keine Bemerkungen          NaN          2018-01-01  \n",
       "...                  ...          ...                 ...  \n",
       "28336  Keine Bemerkungen          NaN          2010-01-01  \n",
       "28334  Keine Bemerkungen          NaN          2010-01-01  \n",
       "28333  Keine Bemerkungen          NaN          2010-01-01  \n",
       "28357  Keine Bemerkungen          NaN          2010-01-01  \n",
       "28391  Keine Bemerkungen          NaN          2010-01-01  \n",
       "\n",
       "[149 rows x 9 columns]"
      ]
     },
     "execution_count": 76,
     "metadata": {},
     "output_type": "execute_result"
    }
   ],
   "source": [
    "data2betested[np.isnan(data2betested.RateSterSta )]"
   ]
  },
  {
   "cell_type": "markdown",
   "metadata": {
    "colab_type": "text",
    "id": "1dTPVmmsgOVx"
   },
   "source": [
    "### Verwende das Datum als Index\n",
    "\n",
    "While we did already parse the `datetime` column into the respective datetime type, it currently is just a regular column. \n",
    "**To enable quick and convenient queries and aggregations, we need to turn it into the index of the DataFrame**"
   ]
  },
  {
   "cell_type": "code",
   "execution_count": 77,
   "metadata": {},
   "outputs": [],
   "source": [
    "data2betested = data2betested.set_index(\"EreignisDatJahr\")"
   ]
  },
  {
   "cell_type": "code",
   "execution_count": 78,
   "metadata": {},
   "outputs": [
    {
     "name": "stdout",
     "output_type": "stream",
     "text": [
      "<class 'pandas.core.frame.DataFrame'>\n",
      "DatetimeIndex: 56832 entries, 2050-01-01 to 1993-01-01\n",
      "Data columns (total 8 columns):\n",
      " #   Column               Non-Null Count  Dtype  \n",
      "---  ------               --------------  -----  \n",
      " 0   AlterVCd             56832 non-null  int64  \n",
      " 1   SexCd                56832 non-null  int64  \n",
      " 2   HerkunftCd           56832 non-null  int64  \n",
      " 3   KategorieCd          56832 non-null  int64  \n",
      " 4   KategorieLang        56832 non-null  object \n",
      " 5   BemerkungenLang      56832 non-null  object \n",
      " 6   RateSterSta          56683 non-null  float64\n",
      " 7   EreignisDatJahr_str  56832 non-null  object \n",
      "dtypes: float64(1), int64(4), object(3)\n",
      "memory usage: 3.9+ MB\n"
     ]
    },
    {
     "data": {
      "text/plain": [
       "Int64Index([2050, 2049, 2048, 2047, 2046, 2045, 2044, 2043, 2042, 2041, 2040, 2039, 2038, 2037,\n",
       "            2036, 2035, 2034, 2033, 2032, 2031, 2030, 2029, 2028, 2027, 2026, 2025, 2024, 2023,\n",
       "            2022, 2021, 2020, 2019, 2018, 2017, 2016, 2015, 2014, 2013, 2012, 2011, 2010, 2009,\n",
       "            2008, 2007, 2006, 2005, 2004, 2003, 2002, 2001, 2000, 1999, 1998, 1997, 1996, 1995,\n",
       "            1994, 1993],\n",
       "           dtype='int64', name='EreignisDatJahr')"
      ]
     },
     "execution_count": 78,
     "metadata": {},
     "output_type": "execute_result"
    }
   ],
   "source": [
    "data2betested.info()\n",
    "data2betested.index.year.unique()"
   ]
  },
  {
   "cell_type": "markdown",
   "metadata": {},
   "source": [
    "### Einfache Visualisierungen zur Plausi"
   ]
  },
  {
   "cell_type": "markdown",
   "metadata": {},
   "source": [
    "Exploriere die Daten mit Pivottable.JS"
   ]
  },
  {
   "cell_type": "code",
   "execution_count": 79,
   "metadata": {},
   "outputs": [
    {
     "data": {
      "text/html": [
       "\n",
       "        <iframe\n",
       "            width=\"100%\"\n",
       "            height=\"500\"\n",
       "            src=\"pivottablejs.html\"\n",
       "            frameborder=\"0\"\n",
       "            allowfullscreen\n",
       "            \n",
       "        ></iframe>\n",
       "        "
      ],
      "text/plain": [
       "<IPython.lib.display.IFrame at 0x2418a6e4c48>"
      ]
     },
     "execution_count": 79,
     "metadata": {},
     "output_type": "execute_result"
    }
   ],
   "source": [
    "from pivottablejs import pivot_ui\n",
    "\n",
    "pivot_ui(data2betested)"
   ]
  },
  {
   "cell_type": "markdown",
   "metadata": {},
   "source": [
    "### Zeitpunkte und Zeiträume abfragen\n",
    "\n",
    "A particular powerful feature of the Pandas DataFrame is its indexing capability that also works using time-based entities, such as dates and times. We have already created the index above, so let's put it to use."
   ]
  },
  {
   "cell_type": "code",
   "execution_count": 80,
   "metadata": {},
   "outputs": [
    {
     "data": {
      "text/html": [
       "<div>\n",
       "<style scoped>\n",
       "    .dataframe tbody tr th:only-of-type {\n",
       "        vertical-align: middle;\n",
       "    }\n",
       "\n",
       "    .dataframe tbody tr th {\n",
       "        vertical-align: top;\n",
       "    }\n",
       "\n",
       "    .dataframe thead th {\n",
       "        text-align: right;\n",
       "    }\n",
       "</style>\n",
       "<table border=\"1\" class=\"dataframe\">\n",
       "  <thead>\n",
       "    <tr style=\"text-align: right;\">\n",
       "      <th></th>\n",
       "      <th>AlterVCd</th>\n",
       "      <th>SexCd</th>\n",
       "      <th>HerkunftCd</th>\n",
       "      <th>KategorieCd</th>\n",
       "      <th>KategorieLang</th>\n",
       "      <th>BemerkungenLang</th>\n",
       "      <th>RateSterSta</th>\n",
       "      <th>EreignisDatJahr_str</th>\n",
       "    </tr>\n",
       "    <tr>\n",
       "      <th>EreignisDatJahr</th>\n",
       "      <th></th>\n",
       "      <th></th>\n",
       "      <th></th>\n",
       "      <th></th>\n",
       "      <th></th>\n",
       "      <th></th>\n",
       "      <th></th>\n",
       "      <th></th>\n",
       "    </tr>\n",
       "  </thead>\n",
       "  <tbody>\n",
       "    <tr>\n",
       "      <th>2009-01-01</th>\n",
       "      <td>83</td>\n",
       "      <td>1</td>\n",
       "      <td>2</td>\n",
       "      <td>1</td>\n",
       "      <td>Vergangenheit, Originaldaten</td>\n",
       "      <td>Keine Bemerkungen</td>\n",
       "      <td>0.06</td>\n",
       "      <td>2009-01-01</td>\n",
       "    </tr>\n",
       "    <tr>\n",
       "      <th>2009-01-01</th>\n",
       "      <td>83</td>\n",
       "      <td>2</td>\n",
       "      <td>0</td>\n",
       "      <td>1</td>\n",
       "      <td>Vergangenheit, Originaldaten</td>\n",
       "      <td>Keine Bemerkungen</td>\n",
       "      <td>0.05</td>\n",
       "      <td>2009-01-01</td>\n",
       "    </tr>\n",
       "  </tbody>\n",
       "</table>\n",
       "</div>"
      ],
      "text/plain": [
       "                 AlterVCd  SexCd  HerkunftCd  KategorieCd                 KategorieLang  \\\n",
       "EreignisDatJahr                                                                           \n",
       "2009-01-01             83      1           2            1  Vergangenheit, Originaldaten   \n",
       "2009-01-01             83      2           0            1  Vergangenheit, Originaldaten   \n",
       "\n",
       "                   BemerkungenLang  RateSterSta EreignisDatJahr_str  \n",
       "EreignisDatJahr                                                      \n",
       "2009-01-01       Keine Bemerkungen         0.06          2009-01-01  \n",
       "2009-01-01       Keine Bemerkungen         0.05          2009-01-01  "
      ]
     },
     "execution_count": 80,
     "metadata": {},
     "output_type": "execute_result"
    }
   ],
   "source": [
    "data2betested.loc[\"2009\"].head(2)\n",
    "#data2betested.loc[\"2021-10-31\":\"2021-11-30\"].head(2)"
   ]
  },
  {
   "cell_type": "markdown",
   "metadata": {},
   "source": [
    "### Visualisierungen nach Zeitausschnitten"
   ]
  },
  {
   "cell_type": "code",
   "execution_count": 83,
   "metadata": {},
   "outputs": [
    {
     "data": {
      "text/plain": [
       "Index(['AlterVCd', 'SexCd', 'HerkunftCd', 'KategorieCd', 'KategorieLang', 'BemerkungenLang',\n",
       "       'RateSterSta', 'EreignisDatJahr_str'],\n",
       "      dtype='object')"
      ]
     },
     "execution_count": 83,
     "metadata": {},
     "output_type": "execute_result"
    }
   ],
   "source": [
    "data2betested.columns"
   ]
  },
  {
   "cell_type": "markdown",
   "metadata": {
    "tags": []
   },
   "source": [
    "#### Barcharts mit Seaborn"
   ]
  },
  {
   "cell_type": "code",
   "execution_count": null,
   "metadata": {},
   "outputs": [],
   "source": [
    "#help(sns.catplot)     "
   ]
  },
  {
   "cell_type": "code",
   "execution_count": 39,
   "metadata": {},
   "outputs": [],
   "source": [
    "#Stile for the following sns graphs\n",
    "sns.set_theme(style=\"whitegrid\")"
   ]
  },
  {
   "cell_type": "code",
   "execution_count": 92,
   "metadata": {},
   "outputs": [
    {
     "data": {
      "text/plain": [
       "Index(['AlterVCd', 'SexCd', 'HerkunftCd', 'KategorieCd', 'KategorieLang', 'BemerkungenLang',\n",
       "       'RateSterSta', 'EreignisDatJahr_str'],\n",
       "      dtype='object')"
      ]
     },
     "execution_count": 92,
     "metadata": {},
     "output_type": "execute_result"
    }
   ],
   "source": [
    "data2betested.columns"
   ]
  },
  {
   "cell_type": "code",
   "execution_count": 103,
   "metadata": {},
   "outputs": [],
   "source": [
    "myAggBar = data2betested.loc[\"1993\":\"2050\"].query('AlterVCd > 74 & AlterVCd < 100')\\\n",
    "    .groupby(['AlterVCd', 'SexCd', 'HerkunftCd', 'KategorieCd', 'KategorieLang','EreignisDatJahr_str']) \\\n",
    "    .agg(RateSterSta=('RateSterSta', 'mean')) \\\n",
    "    .sort_values('AlterVCd', ascending=True) "
   ]
  },
  {
   "cell_type": "code",
   "execution_count": 104,
   "metadata": {},
   "outputs": [
    {
     "data": {
      "text/plain": [
       "<seaborn.axisgrid.FacetGrid at 0x241ae4a0a48>"
      ]
     },
     "execution_count": 104,
     "metadata": {},
     "output_type": "execute_result"
    },
    {
     "data": {
      "image/png": "[encoded data removed]",
      "text/plain": [
       "<Figure size 1338.38x1080 with 25 Axes>"
      ]
     },
     "metadata": {
      "needs_background": "light"
     },
     "output_type": "display_data"
    }
   ],
   "source": [
    "#g = sns.FacetGrid(myAggBar.reset_index(), col=\"QuarLang\", hue=\"HerkunftLang\", col_wrap=6, height=3,)\n",
    "#g.map(sns.scatterplot, \"AlterV05Sort\", \"sum_WBev\", alpha=.8)\n",
    "#g.add_legend()\n",
    "\n",
    "g2 = sns.FacetGrid(myAggBar.reset_index(), col=\"AlterVCd\", hue=\"SexCd\", col_wrap=6, height=3,)\n",
    "g2.map(sns.lineplot, \"EreignisDatJahr_str\",\"RateSterSta\",alpha=.8)\n",
    "\n",
    "g2.set_xticklabels(rotation=45, fontsize=6) \n",
    "g2.add_legend()\n",
    "\n"
   ]
  },
  {
   "cell_type": "code",
   "execution_count": null,
   "metadata": {},
   "outputs": [],
   "source": []
  },
  {
   "cell_type": "markdown",
   "metadata": {
    "tags": []
   },
   "source": [
    "## ---------------------- hier Plausi beendet\n",
    "\n",
    "**Sharepoint als gecheckt markieren!**"
   ]
  },
  {
   "cell_type": "markdown",
   "metadata": {},
   "source": [
    "Record auf Sharepoint: **[Link](https://kollaboration.intranet.stzh.ch/orga/ssz-produkte/Lists/SASA_Outputs/DispForm.aspx?ID=115&ContentTypeId=0x0100988EAF029F1EFE4CA675F53C32A5D53D01006DBC563E6FBE9E4EB6FDC780799752E1)**\n",
    "\n",
    "---------------------------------------------------------------------------"
   ]
  },
  {
   "cell_type": "markdown",
   "metadata": {},
   "source": [
    "### Daten in interaktiver Treemap zeigen\n",
    "Dazu gibt es eine sehr nützliche Webseite https://plotly.com/python/treemaps/\n",
    "Zu Farbskalen, siehe: https://plotly.com/python/builtin-colorscales/"
   ]
  },
  {
   "cell_type": "markdown",
   "metadata": {},
   "source": [
    "#### Aktueller Bestand der WBev nach Quartier, Herkunft und Geschlecht"
   ]
  },
  {
   "cell_type": "code",
   "execution_count": 65,
   "metadata": {},
   "outputs": [
    {
     "data": {
      "text/plain": [
       "Index(['QuarSort', 'QuarCd', 'QuarLang', 'AlterVSort', 'AlterVCd', 'AlterVKurz', 'AlterV05Sort',\n",
       "       'AlterV05Kurz', 'HerkunftLang', 'HerkunftCd', 'HerkunftSort', 'SexCd', 'SexKurz',\n",
       "       'AnzBestWir', 'StichtagDatJahr_str'],\n",
       "      dtype='object')"
      ]
     },
     "execution_count": 65,
     "metadata": {},
     "output_type": "execute_result"
    }
   ],
   "source": [
    "data2betested.columns"
   ]
  },
  {
   "cell_type": "code",
   "execution_count": 66,
   "metadata": {
    "tags": []
   },
   "outputs": [
    {
     "data": {
      "text/html": [
       "<div>\n",
       "<style scoped>\n",
       "    .dataframe tbody tr th:only-of-type {\n",
       "        vertical-align: middle;\n",
       "    }\n",
       "\n",
       "    .dataframe tbody tr th {\n",
       "        vertical-align: top;\n",
       "    }\n",
       "\n",
       "    .dataframe thead th {\n",
       "        text-align: right;\n",
       "    }\n",
       "</style>\n",
       "<table border=\"1\" class=\"dataframe\">\n",
       "  <thead>\n",
       "    <tr style=\"text-align: right;\">\n",
       "      <th></th>\n",
       "      <th>StichtagDatJahr</th>\n",
       "      <th>QuarLang</th>\n",
       "      <th>HerkunftLang</th>\n",
       "      <th>SexKurz</th>\n",
       "      <th>sum_WBev</th>\n",
       "    </tr>\n",
       "  </thead>\n",
       "  <tbody>\n",
       "    <tr>\n",
       "      <th>0</th>\n",
       "      <td>2021-01-01</td>\n",
       "      <td>Hochschulen</td>\n",
       "      <td>Ausländer/in</td>\n",
       "      <td>W</td>\n",
       "      <td>100</td>\n",
       "    </tr>\n",
       "    <tr>\n",
       "      <th>1</th>\n",
       "      <td>2021-01-01</td>\n",
       "      <td>City</td>\n",
       "      <td>Ausländer/in</td>\n",
       "      <td>W</td>\n",
       "      <td>121</td>\n",
       "    </tr>\n",
       "    <tr>\n",
       "      <th>2</th>\n",
       "      <td>2021-01-01</td>\n",
       "      <td>Lindenhof</td>\n",
       "      <td>Ausländer/in</td>\n",
       "      <td>W</td>\n",
       "      <td>136</td>\n",
       "    </tr>\n",
       "  </tbody>\n",
       "</table>\n",
       "</div>"
      ],
      "text/plain": [
       "  StichtagDatJahr     QuarLang  HerkunftLang SexKurz  sum_WBev\n",
       "0      2021-01-01  Hochschulen  Ausländer/in       W       100\n",
       "1      2021-01-01         City  Ausländer/in       W       121\n",
       "2      2021-01-01    Lindenhof  Ausländer/in       W       136"
      ]
     },
     "execution_count": 66,
     "metadata": {},
     "output_type": "execute_result"
    }
   ],
   "source": [
    "myTreemapAgg = data2betested.loc[\"2021\"]  \\\n",
    "    .groupby(['EreignisDatJahr', 'QuarLang', 'HerkunftLang', 'SexKurz']) \\\n",
    "    .agg(sum_WBev=('AnzBestWir', 'sum')) \\\n",
    "    .sort_values('sum_WBev', ascending=True) \n",
    "\n",
    "myTreemapAgg.reset_index().head(3)"
   ]
  },
  {
   "cell_type": "code",
   "execution_count": 67,
   "metadata": {},
   "outputs": [
    {
     "data": {
      "application/vnd.plotly.v1+json": {
       "config": {
        "plotlyServerURL": "https://plot.ly"
       },
       "data": [
        {
         "branchvalues": "total",
         "customdata": [
          [
           4637
          ],
          [
           3168
          ],
          [
           3221
          ],
          [
           6871
          ],
          [
           138
          ],
          [
           1915
          ],
          [
           1125
          ],
          [
           1344
          ],
          [
           1021
          ],
          [
           1755
          ],
          [
           2369
          ],
          [
           950
          ],
          [
           2392
          ],
          [
           142
          ],
          [
           1611
          ],
          [
           3316
          ],
          [
           2670
          ],
          [
           1111
          ],
          [
           165
          ],
          [
           1173
          ],
          [
           1730
          ],
          [
           5134
          ],
          [
           584
          ],
          [
           1249
          ],
          [
           2567
          ],
          [
           5709
          ],
          [
           1169
          ],
          [
           3526
          ],
          [
           3589
          ],
          [
           997
          ],
          [
           843
          ],
          [
           2348
          ],
          [
           1560
          ],
          [
           3089
          ],
          [
           8654
          ],
          [
           7883
          ],
          [
           5801
          ],
          [
           10887
          ],
          [
           301
          ],
          [
           2934
          ],
          [
           2311
          ],
          [
           2826
          ],
          [
           4266
          ],
          [
           3393
          ],
          [
           4091
          ],
          [
           2477
          ],
          [
           3945
          ],
          [
           217
          ],
          [
           3830
          ],
          [
           8702
          ],
          [
           4018
          ],
          [
           2046
          ],
          [
           365
          ],
          [
           1900
          ],
          [
           3617
          ],
          [
           7201
          ],
          [
           1208
          ],
          [
           3124
          ],
          [
           2981
          ],
          [
           8035
          ],
          [
           1615
          ],
          [
           7093
          ],
          [
           8483
          ],
          [
           1759
          ],
          [
           1553
          ],
          [
           5763
          ],
          [
           3663
          ],
          [
           6531
          ],
          [
           4119
          ],
          [
           2746
          ],
          [
           2713
          ],
          [
           5678
          ],
          [
           121
          ],
          [
           1743
          ],
          [
           885
          ],
          [
           1341
          ],
          [
           973
          ],
          [
           1286
          ],
          [
           2009
          ],
          [
           970
          ],
          [
           2144
          ],
          [
           100
          ],
          [
           1566
          ],
          [
           2808
          ],
          [
           1794
          ],
          [
           1047
          ],
          [
           136
          ],
          [
           1107
          ],
          [
           1547
          ],
          [
           4161
          ],
          [
           442
          ],
          [
           1145
          ],
          [
           2217
          ],
          [
           4854
          ],
          [
           1181
          ],
          [
           3072
          ],
          [
           3138
          ],
          [
           880
          ],
          [
           680
          ],
          [
           2056
          ],
          [
           1520
          ],
          [
           2976
          ],
          [
           9144
          ],
          [
           8615
          ],
          [
           5896
          ],
          [
           11229
          ],
          [
           257
          ],
          [
           3158
          ],
          [
           1900
          ],
          [
           3266
          ],
          [
           4697
          ],
          [
           3149
          ],
          [
           4165
          ],
          [
           2941
          ],
          [
           4410
          ],
          [
           242
          ],
          [
           4286
          ],
          [
           9684
          ],
          [
           3333
          ],
          [
           2134
          ],
          [
           358
          ],
          [
           2228
          ],
          [
           3972
          ],
          [
           7384
          ],
          [
           1041
          ],
          [
           3270
          ],
          [
           3210
          ],
          [
           7943
          ],
          [
           1897
          ],
          [
           7825
          ],
          [
           9279
          ],
          [
           1912
          ],
          [
           1498
          ],
          [
           6340
          ],
          [
           4512
          ],
          [
           7341
          ],
          [
           4393.322293284605
          ],
          [
           2972.05613797768
          ],
          [
           2988.7445230872936
          ],
          [
           6331.207665949478
          ],
          [
           130.05791505791507
          ],
          [
           1833.0437397484964
          ],
          [
           1019.3283582089553
          ],
          [
           1342.5016759776536
          ],
          [
           997.5777331995988
          ],
          [
           1556.6658993752055
          ],
          [
           2203.801279122887
          ],
          [
           960.1041666666666
          ],
          [
           2274.779541446208
          ],
          [
           124.64462809917356
          ],
          [
           1588.8186968838527
          ],
          [
           3083.069888961463
          ],
          [
           2317.951612903226
          ],
          [
           1079.9490268767377
          ],
          [
           151.8970099667774
          ],
          [
           1140.9552631578947
          ],
          [
           1643.6097039975587
          ],
          [
           4698.426788596019
          ],
          [
           522.8265107212476
          ],
          [
           1199.2589807852967
          ],
          [
           2404.8030936454848
          ],
          [
           5316.103095711445
          ],
          [
           1175.0306382978724
          ],
          [
           3314.6195816914214
          ],
          [
           3378.6182547941135
          ],
          [
           942.1465103889185
          ],
          [
           770.2225869993434
          ],
          [
           2211.6802906448684
          ],
          [
           1540.2597402597403
          ],
          [
           3033.552679307502
          ],
          [
           8905.74513990336
          ],
          [
           8265.239059279913
          ],
          [
           5848.885782679319
          ],
          [
           11060.644329896908
          ],
          [
           280.7347670250896
          ],
          [
           3050.118187787262
          ],
          [
           2125.5571123248633
          ],
          [
           3061.8896913985554
          ],
          [
           4491.862657592324
          ],
          [
           3275.550290431061
          ],
          [
           4128.331637596899
          ],
          [
           2728.8685861941676
          ],
          [
           4190.439856373429
          ],
          [
           230.18082788671023
          ],
          [
           4070.8102513553476
          ],
          [
           9219.22440987708
          ],
          [
           3707.4157257515985
          ],
          [
           2090.926315789474
          ],
          [
           361.53388658367913
          ],
          [
           2077.031007751938
          ],
          [
           3802.8031361180656
          ],
          [
           7293.648063078505
          ],
          [
           1130.7003112494442
          ],
          [
           3198.666875195496
          ],
          [
           3099.7352608625424
          ],
          [
           7989.264864188259
          ],
          [
           1767.3217539863326
          ],
          [
           7476.958975734013
          ],
          [
           8898.836279698233
          ],
          [
           1838.6883682920186
          ],
          [
           1525.9957391019339
          ],
          [
           6065.253986614889
          ],
          [
           4131.5856880733945
          ],
          [
           6959.648356401384
          ],
          [
           7417.8045492204565
          ],
          [
           6868.492504015706
          ],
          [
           4886.258692076456
          ],
          [
           9348.551420741382
          ],
          [
           232.96817625458996
          ],
          [
           2593.4968205128207
          ],
          [
           1768.1355087606494
          ],
          [
           2535.90623219779
          ],
          [
           3855.9582915031488
          ],
          [
           2730.091933632474
          ],
          [
           3461.433275288903
          ],
          [
           2266.0684110111747
          ],
          [
           3516.369948025754
          ],
          [
           193.74750356633382
          ],
          [
           3372.5646860887277
          ],
          [
           7686.062015503876
          ],
          [
           3182.441726618705
          ],
          [
           1746.7027453455348
          ],
          [
           299.912109375
          ],
          [
           1743.9703495630463
          ],
          [
           3151.627277747101
          ],
          [
           6283.489698492463
          ],
          [
           940.2641221374046
          ],
          [
           2653.9943104233043
          ],
          [
           2796.8144874715263
          ],
          [
           6925.378508722354
          ],
          [
           1529.8799044694642
          ],
          [
           6200.554656999442
          ],
          [
           7382.461309159215
          ],
          [
           1535.3702235039655
          ],
          [
           1274.3467424573678
          ],
          [
           5037.136305809657
          ],
          [
           3422.45339848956
          ],
          [
           5765.297637558308
          ],
          [
           5225.490828085036
          ]
         ],
         "domain": {
          "x": [
           0,
           1
          ],
          "y": [
           0,
           1
          ]
         },
         "hovertemplate": "labels=%{label}<br>sum_WBev_sum=%{value}<br>parent=%{parent}<br>id=%{id}<br>sum_WBev=%{color}<extra></extra>",
         "ids": [
          "WBev nach Quartier, Herkunft und Geschlecht, 2021/Affoltern/Ausländer/in/M",
          "WBev nach Quartier, Herkunft und Geschlecht, 2021/Albisrieden/Ausländer/in/M",
          "WBev nach Quartier, Herkunft und Geschlecht, 2021/Alt-Wiedikon/Ausländer/in/M",
          "WBev nach Quartier, Herkunft und Geschlecht, 2021/Altstetten/Ausländer/in/M",
          "WBev nach Quartier, Herkunft und Geschlecht, 2021/City/Ausländer/in/M",
          "WBev nach Quartier, Herkunft und Geschlecht, 2021/Enge/Ausländer/in/M",
          "WBev nach Quartier, Herkunft und Geschlecht, 2021/Escher Wyss/Ausländer/in/M",
          "WBev nach Quartier, Herkunft und Geschlecht, 2021/Fluntern/Ausländer/in/M",
          "WBev nach Quartier, Herkunft und Geschlecht, 2021/Friesenberg/Ausländer/in/M",
          "WBev nach Quartier, Herkunft und Geschlecht, 2021/Gewerbeschule/Ausländer/in/M",
          "WBev nach Quartier, Herkunft und Geschlecht, 2021/Hard/Ausländer/in/M",
          "WBev nach Quartier, Herkunft und Geschlecht, 2021/Hirslanden/Ausländer/in/M",
          "WBev nach Quartier, Herkunft und Geschlecht, 2021/Hirzenbach/Ausländer/in/M",
          "WBev nach Quartier, Herkunft und Geschlecht, 2021/Hochschulen/Ausländer/in/M",
          "WBev nach Quartier, Herkunft und Geschlecht, 2021/Hottingen/Ausländer/in/M",
          "WBev nach Quartier, Herkunft und Geschlecht, 2021/Höngg/Ausländer/in/M",
          "WBev nach Quartier, Herkunft und Geschlecht, 2021/Langstrasse/Ausländer/in/M",
          "WBev nach Quartier, Herkunft und Geschlecht, 2021/Leimbach/Ausländer/in/M",
          "WBev nach Quartier, Herkunft und Geschlecht, 2021/Lindenhof/Ausländer/in/M",
          "WBev nach Quartier, Herkunft und Geschlecht, 2021/Mühlebach/Ausländer/in/M",
          "WBev nach Quartier, Herkunft und Geschlecht, 2021/Oberstrass/Ausländer/in/M",
          "WBev nach Quartier, Herkunft und Geschlecht, 2021/Oerlikon/Ausländer/in/M",
          "WBev nach Quartier, Herkunft und Geschlecht, 2021/Rathaus/Ausländer/in/M",
          "WBev nach Quartier, Herkunft und Geschlecht, 2021/Saatlen/Ausländer/in/M",
          "WBev nach Quartier, Herkunft und Geschlecht, 2021/Schwamendingen-Mitte/Ausländer/in/M",
          "WBev nach Quartier, Herkunft und Geschlecht, 2021/Seebach/Ausländer/in/M",
          "WBev nach Quartier, Herkunft und Geschlecht, 2021/Seefeld/Ausländer/in/M",
          "WBev nach Quartier, Herkunft und Geschlecht, 2021/Sihlfeld/Ausländer/in/M",
          "WBev nach Quartier, Herkunft und Geschlecht, 2021/Unterstrass/Ausländer/in/M",
          "WBev nach Quartier, Herkunft und Geschlecht, 2021/Weinegg/Ausländer/in/M",
          "WBev nach Quartier, Herkunft und Geschlecht, 2021/Werd/Ausländer/in/M",
          "WBev nach Quartier, Herkunft und Geschlecht, 2021/Wipkingen/Ausländer/in/M",
          "WBev nach Quartier, Herkunft und Geschlecht, 2021/Witikon/Ausländer/in/M",
          "WBev nach Quartier, Herkunft und Geschlecht, 2021/Wollishofen/Ausländer/in/M",
          "WBev nach Quartier, Herkunft und Geschlecht, 2021/Affoltern/Schweizer/in/M",
          "WBev nach Quartier, Herkunft und Geschlecht, 2021/Albisrieden/Schweizer/in/M",
          "WBev nach Quartier, Herkunft und Geschlecht, 2021/Alt-Wiedikon/Schweizer/in/M",
          "WBev nach Quartier, Herkunft und Geschlecht, 2021/Altstetten/Schweizer/in/M",
          "WBev nach Quartier, Herkunft und Geschlecht, 2021/City/Schweizer/in/M",
          "WBev nach Quartier, Herkunft und Geschlecht, 2021/Enge/Schweizer/in/M",
          "WBev nach Quartier, Herkunft und Geschlecht, 2021/Escher Wyss/Schweizer/in/M",
          "WBev nach Quartier, Herkunft und Geschlecht, 2021/Fluntern/Schweizer/in/M",
          "WBev nach Quartier, Herkunft und Geschlecht, 2021/Friesenberg/Schweizer/in/M",
          "WBev nach Quartier, Herkunft und Geschlecht, 2021/Gewerbeschule/Schweizer/in/M",
          "WBev nach Quartier, Herkunft und Geschlecht, 2021/Hard/Schweizer/in/M",
          "WBev nach Quartier, Herkunft und Geschlecht, 2021/Hirslanden/Schweizer/in/M",
          "WBev nach Quartier, Herkunft und Geschlecht, 2021/Hirzenbach/Schweizer/in/M",
          "WBev nach Quartier, Herkunft und Geschlecht, 2021/Hochschulen/Schweizer/in/M",
          "WBev nach Quartier, Herkunft und Geschlecht, 2021/Hottingen/Schweizer/in/M",
          "WBev nach Quartier, Herkunft und Geschlecht, 2021/Höngg/Schweizer/in/M",
          "WBev nach Quartier, Herkunft und Geschlecht, 2021/Langstrasse/Schweizer/in/M",
          "WBev nach Quartier, Herkunft und Geschlecht, 2021/Leimbach/Schweizer/in/M",
          "WBev nach Quartier, Herkunft und Geschlecht, 2021/Lindenhof/Schweizer/in/M",
          "WBev nach Quartier, Herkunft und Geschlecht, 2021/Mühlebach/Schweizer/in/M",
          "WBev nach Quartier, Herkunft und Geschlecht, 2021/Oberstrass/Schweizer/in/M",
          "WBev nach Quartier, Herkunft und Geschlecht, 2021/Oerlikon/Schweizer/in/M",
          "WBev nach Quartier, Herkunft und Geschlecht, 2021/Rathaus/Schweizer/in/M",
          "WBev nach Quartier, Herkunft und Geschlecht, 2021/Saatlen/Schweizer/in/M",
          "WBev nach Quartier, Herkunft und Geschlecht, 2021/Schwamendingen-Mitte/Schweizer/in/M",
          "WBev nach Quartier, Herkunft und Geschlecht, 2021/Seebach/Schweizer/in/M",
          "WBev nach Quartier, Herkunft und Geschlecht, 2021/Seefeld/Schweizer/in/M",
          "WBev nach Quartier, Herkunft und Geschlecht, 2021/Sihlfeld/Schweizer/in/M",
          "WBev nach Quartier, Herkunft und Geschlecht, 2021/Unterstrass/Schweizer/in/M",
          "WBev nach Quartier, Herkunft und Geschlecht, 2021/Weinegg/Schweizer/in/M",
          "WBev nach Quartier, Herkunft und Geschlecht, 2021/Werd/Schweizer/in/M",
          "WBev nach Quartier, Herkunft und Geschlecht, 2021/Wipkingen/Schweizer/in/M",
          "WBev nach Quartier, Herkunft und Geschlecht, 2021/Witikon/Schweizer/in/M",
          "WBev nach Quartier, Herkunft und Geschlecht, 2021/Wollishofen/Schweizer/in/M",
          "WBev nach Quartier, Herkunft und Geschlecht, 2021/Affoltern/Ausländer/in/W",
          "WBev nach Quartier, Herkunft und Geschlecht, 2021/Albisrieden/Ausländer/in/W",
          "WBev nach Quartier, Herkunft und Geschlecht, 2021/Alt-Wiedikon/Ausländer/in/W",
          "WBev nach Quartier, Herkunft und Geschlecht, 2021/Altstetten/Ausländer/in/W",
          "WBev nach Quartier, Herkunft und Geschlecht, 2021/City/Ausländer/in/W",
          "WBev nach Quartier, Herkunft und Geschlecht, 2021/Enge/Ausländer/in/W",
          "WBev nach Quartier, Herkunft und Geschlecht, 2021/Escher Wyss/Ausländer/in/W",
          "WBev nach Quartier, Herkunft und Geschlecht, 2021/Fluntern/Ausländer/in/W",
          "WBev nach Quartier, Herkunft und Geschlecht, 2021/Friesenberg/Ausländer/in/W",
          "WBev nach Quartier, Herkunft und Geschlecht, 2021/Gewerbeschule/Ausländer/in/W",
          "WBev nach Quartier, Herkunft und Geschlecht, 2021/Hard/Ausländer/in/W",
          "WBev nach Quartier, Herkunft und Geschlecht, 2021/Hirslanden/Ausländer/in/W",
          "WBev nach Quartier, Herkunft und Geschlecht, 2021/Hirzenbach/Ausländer/in/W",
          "WBev nach Quartier, Herkunft und Geschlecht, 2021/Hochschulen/Ausländer/in/W",
          "WBev nach Quartier, Herkunft und Geschlecht, 2021/Hottingen/Ausländer/in/W",
          "WBev nach Quartier, Herkunft und Geschlecht, 2021/Höngg/Ausländer/in/W",
          "WBev nach Quartier, Herkunft und Geschlecht, 2021/Langstrasse/Ausländer/in/W",
          "WBev nach Quartier, Herkunft und Geschlecht, 2021/Leimbach/Ausländer/in/W",
          "WBev nach Quartier, Herkunft und Geschlecht, 2021/Lindenhof/Ausländer/in/W",
          "WBev nach Quartier, Herkunft und Geschlecht, 2021/Mühlebach/Ausländer/in/W",
          "WBev nach Quartier, Herkunft und Geschlecht, 2021/Oberstrass/Ausländer/in/W",
          "WBev nach Quartier, Herkunft und Geschlecht, 2021/Oerlikon/Ausländer/in/W",
          "WBev nach Quartier, Herkunft und Geschlecht, 2021/Rathaus/Ausländer/in/W",
          "WBev nach Quartier, Herkunft und Geschlecht, 2021/Saatlen/Ausländer/in/W",
          "WBev nach Quartier, Herkunft und Geschlecht, 2021/Schwamendingen-Mitte/Ausländer/in/W",
          "WBev nach Quartier, Herkunft und Geschlecht, 2021/Seebach/Ausländer/in/W",
          "WBev nach Quartier, Herkunft und Geschlecht, 2021/Seefeld/Ausländer/in/W",
          "WBev nach Quartier, Herkunft und Geschlecht, 2021/Sihlfeld/Ausländer/in/W",
          "WBev nach Quartier, Herkunft und Geschlecht, 2021/Unterstrass/Ausländer/in/W",
          "WBev nach Quartier, Herkunft und Geschlecht, 2021/Weinegg/Ausländer/in/W",
          "WBev nach Quartier, Herkunft und Geschlecht, 2021/Werd/Ausländer/in/W",
          "WBev nach Quartier, Herkunft und Geschlecht, 2021/Wipkingen/Ausländer/in/W",
          "WBev nach Quartier, Herkunft und Geschlecht, 2021/Witikon/Ausländer/in/W",
          "WBev nach Quartier, Herkunft und Geschlecht, 2021/Wollishofen/Ausländer/in/W",
          "WBev nach Quartier, Herkunft und Geschlecht, 2021/Affoltern/Schweizer/in/W",
          "WBev nach Quartier, Herkunft und Geschlecht, 2021/Albisrieden/Schweizer/in/W",
          "WBev nach Quartier, Herkunft und Geschlecht, 2021/Alt-Wiedikon/Schweizer/in/W",
          "WBev nach Quartier, Herkunft und Geschlecht, 2021/Altstetten/Schweizer/in/W",
          "WBev nach Quartier, Herkunft und Geschlecht, 2021/City/Schweizer/in/W",
          "WBev nach Quartier, Herkunft und Geschlecht, 2021/Enge/Schweizer/in/W",
          "WBev nach Quartier, Herkunft und Geschlecht, 2021/Escher Wyss/Schweizer/in/W",
          "WBev nach Quartier, Herkunft und Geschlecht, 2021/Fluntern/Schweizer/in/W",
          "WBev nach Quartier, Herkunft und Geschlecht, 2021/Friesenberg/Schweizer/in/W",
          "WBev nach Quartier, Herkunft und Geschlecht, 2021/Gewerbeschule/Schweizer/in/W",
          "WBev nach Quartier, Herkunft und Geschlecht, 2021/Hard/Schweizer/in/W",
          "WBev nach Quartier, Herkunft und Geschlecht, 2021/Hirslanden/Schweizer/in/W",
          "WBev nach Quartier, Herkunft und Geschlecht, 2021/Hirzenbach/Schweizer/in/W",
          "WBev nach Quartier, Herkunft und Geschlecht, 2021/Hochschulen/Schweizer/in/W",
          "WBev nach Quartier, Herkunft und Geschlecht, 2021/Hottingen/Schweizer/in/W",
          "WBev nach Quartier, Herkunft und Geschlecht, 2021/Höngg/Schweizer/in/W",
          "WBev nach Quartier, Herkunft und Geschlecht, 2021/Langstrasse/Schweizer/in/W",
          "WBev nach Quartier, Herkunft und Geschlecht, 2021/Leimbach/Schweizer/in/W",
          "WBev nach Quartier, Herkunft und Geschlecht, 2021/Lindenhof/Schweizer/in/W",
          "WBev nach Quartier, Herkunft und Geschlecht, 2021/Mühlebach/Schweizer/in/W",
          "WBev nach Quartier, Herkunft und Geschlecht, 2021/Oberstrass/Schweizer/in/W",
          "WBev nach Quartier, Herkunft und Geschlecht, 2021/Oerlikon/Schweizer/in/W",
          "WBev nach Quartier, Herkunft und Geschlecht, 2021/Rathaus/Schweizer/in/W",
          "WBev nach Quartier, Herkunft und Geschlecht, 2021/Saatlen/Schweizer/in/W",
          "WBev nach Quartier, Herkunft und Geschlecht, 2021/Schwamendingen-Mitte/Schweizer/in/W",
          "WBev nach Quartier, Herkunft und Geschlecht, 2021/Seebach/Schweizer/in/W",
          "WBev nach Quartier, Herkunft und Geschlecht, 2021/Seefeld/Schweizer/in/W",
          "WBev nach Quartier, Herkunft und Geschlecht, 2021/Sihlfeld/Schweizer/in/W",
          "WBev nach Quartier, Herkunft und Geschlecht, 2021/Unterstrass/Schweizer/in/W",
          "WBev nach Quartier, Herkunft und Geschlecht, 2021/Weinegg/Schweizer/in/W",
          "WBev nach Quartier, Herkunft und Geschlecht, 2021/Werd/Schweizer/in/W",
          "WBev nach Quartier, Herkunft und Geschlecht, 2021/Wipkingen/Schweizer/in/W",
          "WBev nach Quartier, Herkunft und Geschlecht, 2021/Witikon/Schweizer/in/W",
          "WBev nach Quartier, Herkunft und Geschlecht, 2021/Wollishofen/Schweizer/in/W",
          "WBev nach Quartier, Herkunft und Geschlecht, 2021/Affoltern/Ausländer/in",
          "WBev nach Quartier, Herkunft und Geschlecht, 2021/Albisrieden/Ausländer/in",
          "WBev nach Quartier, Herkunft und Geschlecht, 2021/Alt-Wiedikon/Ausländer/in",
          "WBev nach Quartier, Herkunft und Geschlecht, 2021/Altstetten/Ausländer/in",
          "WBev nach Quartier, Herkunft und Geschlecht, 2021/City/Ausländer/in",
          "WBev nach Quartier, Herkunft und Geschlecht, 2021/Enge/Ausländer/in",
          "WBev nach Quartier, Herkunft und Geschlecht, 2021/Escher Wyss/Ausländer/in",
          "WBev nach Quartier, Herkunft und Geschlecht, 2021/Fluntern/Ausländer/in",
          "WBev nach Quartier, Herkunft und Geschlecht, 2021/Friesenberg/Ausländer/in",
          "WBev nach Quartier, Herkunft und Geschlecht, 2021/Gewerbeschule/Ausländer/in",
          "WBev nach Quartier, Herkunft und Geschlecht, 2021/Hard/Ausländer/in",
          "WBev nach Quartier, Herkunft und Geschlecht, 2021/Hirslanden/Ausländer/in",
          "WBev nach Quartier, Herkunft und Geschlecht, 2021/Hirzenbach/Ausländer/in",
          "WBev nach Quartier, Herkunft und Geschlecht, 2021/Hochschulen/Ausländer/in",
          "WBev nach Quartier, Herkunft und Geschlecht, 2021/Hottingen/Ausländer/in",
          "WBev nach Quartier, Herkunft und Geschlecht, 2021/Höngg/Ausländer/in",
          "WBev nach Quartier, Herkunft und Geschlecht, 2021/Langstrasse/Ausländer/in",
          "WBev nach Quartier, Herkunft und Geschlecht, 2021/Leimbach/Ausländer/in",
          "WBev nach Quartier, Herkunft und Geschlecht, 2021/Lindenhof/Ausländer/in",
          "WBev nach Quartier, Herkunft und Geschlecht, 2021/Mühlebach/Ausländer/in",
          "WBev nach Quartier, Herkunft und Geschlecht, 2021/Oberstrass/Ausländer/in",
          "WBev nach Quartier, Herkunft und Geschlecht, 2021/Oerlikon/Ausländer/in",
          "WBev nach Quartier, Herkunft und Geschlecht, 2021/Rathaus/Ausländer/in",
          "WBev nach Quartier, Herkunft und Geschlecht, 2021/Saatlen/Ausländer/in",
          "WBev nach Quartier, Herkunft und Geschlecht, 2021/Schwamendingen-Mitte/Ausländer/in",
          "WBev nach Quartier, Herkunft und Geschlecht, 2021/Seebach/Ausländer/in",
          "WBev nach Quartier, Herkunft und Geschlecht, 2021/Seefeld/Ausländer/in",
          "WBev nach Quartier, Herkunft und Geschlecht, 2021/Sihlfeld/Ausländer/in",
          "WBev nach Quartier, Herkunft und Geschlecht, 2021/Unterstrass/Ausländer/in",
          "WBev nach Quartier, Herkunft und Geschlecht, 2021/Weinegg/Ausländer/in",
          "WBev nach Quartier, Herkunft und Geschlecht, 2021/Werd/Ausländer/in",
          "WBev nach Quartier, Herkunft und Geschlecht, 2021/Wipkingen/Ausländer/in",
          "WBev nach Quartier, Herkunft und Geschlecht, 2021/Witikon/Ausländer/in",
          "WBev nach Quartier, Herkunft und Geschlecht, 2021/Wollishofen/Ausländer/in",
          "WBev nach Quartier, Herkunft und Geschlecht, 2021/Affoltern/Schweizer/in",
          "WBev nach Quartier, Herkunft und Geschlecht, 2021/Albisrieden/Schweizer/in",
          "WBev nach Quartier, Herkunft und Geschlecht, 2021/Alt-Wiedikon/Schweizer/in",
          "WBev nach Quartier, Herkunft und Geschlecht, 2021/Altstetten/Schweizer/in",
          "WBev nach Quartier, Herkunft und Geschlecht, 2021/City/Schweizer/in",
          "WBev nach Quartier, Herkunft und Geschlecht, 2021/Enge/Schweizer/in",
          "WBev nach Quartier, Herkunft und Geschlecht, 2021/Escher Wyss/Schweizer/in",
          "WBev nach Quartier, Herkunft und Geschlecht, 2021/Fluntern/Schweizer/in",
          "WBev nach Quartier, Herkunft und Geschlecht, 2021/Friesenberg/Schweizer/in",
          "WBev nach Quartier, Herkunft und Geschlecht, 2021/Gewerbeschule/Schweizer/in",
          "WBev nach Quartier, Herkunft und Geschlecht, 2021/Hard/Schweizer/in",
          "WBev nach Quartier, Herkunft und Geschlecht, 2021/Hirslanden/Schweizer/in",
          "WBev nach Quartier, Herkunft und Geschlecht, 2021/Hirzenbach/Schweizer/in",
          "WBev nach Quartier, Herkunft und Geschlecht, 2021/Hochschulen/Schweizer/in",
          "WBev nach Quartier, Herkunft und Geschlecht, 2021/Hottingen/Schweizer/in",
          "WBev nach Quartier, Herkunft und Geschlecht, 2021/Höngg/Schweizer/in",
          "WBev nach Quartier, Herkunft und Geschlecht, 2021/Langstrasse/Schweizer/in",
          "WBev nach Quartier, Herkunft und Geschlecht, 2021/Leimbach/Schweizer/in",
          "WBev nach Quartier, Herkunft und Geschlecht, 2021/Lindenhof/Schweizer/in",
          "WBev nach Quartier, Herkunft und Geschlecht, 2021/Mühlebach/Schweizer/in",
          "WBev nach Quartier, Herkunft und Geschlecht, 2021/Oberstrass/Schweizer/in",
          "WBev nach Quartier, Herkunft und Geschlecht, 2021/Oerlikon/Schweizer/in",
          "WBev nach Quartier, Herkunft und Geschlecht, 2021/Rathaus/Schweizer/in",
          "WBev nach Quartier, Herkunft und Geschlecht, 2021/Saatlen/Schweizer/in",
          "WBev nach Quartier, Herkunft und Geschlecht, 2021/Schwamendingen-Mitte/Schweizer/in",
          "WBev nach Quartier, Herkunft und Geschlecht, 2021/Seebach/Schweizer/in",
          "WBev nach Quartier, Herkunft und Geschlecht, 2021/Seefeld/Schweizer/in",
          "WBev nach Quartier, Herkunft und Geschlecht, 2021/Sihlfeld/Schweizer/in",
          "WBev nach Quartier, Herkunft und Geschlecht, 2021/Unterstrass/Schweizer/in",
          "WBev nach Quartier, Herkunft und Geschlecht, 2021/Weinegg/Schweizer/in",
          "WBev nach Quartier, Herkunft und Geschlecht, 2021/Werd/Schweizer/in",
          "WBev nach Quartier, Herkunft und Geschlecht, 2021/Wipkingen/Schweizer/in",
          "WBev nach Quartier, Herkunft und Geschlecht, 2021/Witikon/Schweizer/in",
          "WBev nach Quartier, Herkunft und Geschlecht, 2021/Wollishofen/Schweizer/in",
          "WBev nach Quartier, Herkunft und Geschlecht, 2021/Affoltern",
          "WBev nach Quartier, Herkunft und Geschlecht, 2021/Albisrieden",
          "WBev nach Quartier, Herkunft und Geschlecht, 2021/Alt-Wiedikon",
          "WBev nach Quartier, Herkunft und Geschlecht, 2021/Altstetten",
          "WBev nach Quartier, Herkunft und Geschlecht, 2021/City",
          "WBev nach Quartier, Herkunft und Geschlecht, 2021/Enge",
          "WBev nach Quartier, Herkunft und Geschlecht, 2021/Escher Wyss",
          "WBev nach Quartier, Herkunft und Geschlecht, 2021/Fluntern",
          "WBev nach Quartier, Herkunft und Geschlecht, 2021/Friesenberg",
          "WBev nach Quartier, Herkunft und Geschlecht, 2021/Gewerbeschule",
          "WBev nach Quartier, Herkunft und Geschlecht, 2021/Hard",
          "WBev nach Quartier, Herkunft und Geschlecht, 2021/Hirslanden",
          "WBev nach Quartier, Herkunft und Geschlecht, 2021/Hirzenbach",
          "WBev nach Quartier, Herkunft und Geschlecht, 2021/Hochschulen",
          "WBev nach Quartier, Herkunft und Geschlecht, 2021/Hottingen",
          "WBev nach Quartier, Herkunft und Geschlecht, 2021/Höngg",
          "WBev nach Quartier, Herkunft und Geschlecht, 2021/Langstrasse",
          "WBev nach Quartier, Herkunft und Geschlecht, 2021/Leimbach",
          "WBev nach Quartier, Herkunft und Geschlecht, 2021/Lindenhof",
          "WBev nach Quartier, Herkunft und Geschlecht, 2021/Mühlebach",
          "WBev nach Quartier, Herkunft und Geschlecht, 2021/Oberstrass",
          "WBev nach Quartier, Herkunft und Geschlecht, 2021/Oerlikon",
          "WBev nach Quartier, Herkunft und Geschlecht, 2021/Rathaus",
          "WBev nach Quartier, Herkunft und Geschlecht, 2021/Saatlen",
          "WBev nach Quartier, Herkunft und Geschlecht, 2021/Schwamendingen-Mitte",
          "WBev nach Quartier, Herkunft und Geschlecht, 2021/Seebach",
          "WBev nach Quartier, Herkunft und Geschlecht, 2021/Seefeld",
          "WBev nach Quartier, Herkunft und Geschlecht, 2021/Sihlfeld",
          "WBev nach Quartier, Herkunft und Geschlecht, 2021/Unterstrass",
          "WBev nach Quartier, Herkunft und Geschlecht, 2021/Weinegg",
          "WBev nach Quartier, Herkunft und Geschlecht, 2021/Werd",
          "WBev nach Quartier, Herkunft und Geschlecht, 2021/Wipkingen",
          "WBev nach Quartier, Herkunft und Geschlecht, 2021/Witikon",
          "WBev nach Quartier, Herkunft und Geschlecht, 2021/Wollishofen",
          "WBev nach Quartier, Herkunft und Geschlecht, 2021"
         ],
         "labels": [
          "M",
          "M",
          "M",
          "M",
          "M",
          "M",
          "M",
          "M",
          "M",
          "M",
          "M",
          "M",
          "M",
          "M",
          "M",
          "M",
          "M",
          "M",
          "M",
          "M",
          "M",
          "M",
          "M",
          "M",
          "M",
          "M",
          "M",
          "M",
          "M",
          "M",
          "M",
          "M",
          "M",
          "M",
          "M",
          "M",
          "M",
          "M",
          "M",
          "M",
          "M",
          "M",
          "M",
          "M",
          "M",
          "M",
          "M",
          "M",
          "M",
          "M",
          "M",
          "M",
          "M",
          "M",
          "M",
          "M",
          "M",
          "M",
          "M",
          "M",
          "M",
          "M",
          "M",
          "M",
          "M",
          "M",
          "M",
          "M",
          "W",
          "W",
          "W",
          "W",
          "W",
          "W",
          "W",
          "W",
          "W",
          "W",
          "W",
          "W",
          "W",
          "W",
          "W",
          "W",
          "W",
          "W",
          "W",
          "W",
          "W",
          "W",
          "W",
          "W",
          "W",
          "W",
          "W",
          "W",
          "W",
          "W",
          "W",
          "W",
          "W",
          "W",
          "W",
          "W",
          "W",
          "W",
          "W",
          "W",
          "W",
          "W",
          "W",
          "W",
          "W",
          "W",
          "W",
          "W",
          "W",
          "W",
          "W",
          "W",
          "W",
          "W",
          "W",
          "W",
          "W",
          "W",
          "W",
          "W",
          "W",
          "W",
          "W",
          "W",
          "W",
          "W",
          "W",
          "W",
          "Ausländer/in",
          "Ausländer/in",
          "Ausländer/in",
          "Ausländer/in",
          "Ausländer/in",
          "Ausländer/in",
          "Ausländer/in",
          "Ausländer/in",
          "Ausländer/in",
          "Ausländer/in",
          "Ausländer/in",
          "Ausländer/in",
          "Ausländer/in",
          "Ausländer/in",
          "Ausländer/in",
          "Ausländer/in",
          "Ausländer/in",
          "Ausländer/in",
          "Ausländer/in",
          "Ausländer/in",
          "Ausländer/in",
          "Ausländer/in",
          "Ausländer/in",
          "Ausländer/in",
          "Ausländer/in",
          "Ausländer/in",
          "Ausländer/in",
          "Ausländer/in",
          "Ausländer/in",
          "Ausländer/in",
          "Ausländer/in",
          "Ausländer/in",
          "Ausländer/in",
          "Ausländer/in",
          "Schweizer/in",
          "Schweizer/in",
          "Schweizer/in",
          "Schweizer/in",
          "Schweizer/in",
          "Schweizer/in",
          "Schweizer/in",
          "Schweizer/in",
          "Schweizer/in",
          "Schweizer/in",
          "Schweizer/in",
          "Schweizer/in",
          "Schweizer/in",
          "Schweizer/in",
          "Schweizer/in",
          "Schweizer/in",
          "Schweizer/in",
          "Schweizer/in",
          "Schweizer/in",
          "Schweizer/in",
          "Schweizer/in",
          "Schweizer/in",
          "Schweizer/in",
          "Schweizer/in",
          "Schweizer/in",
          "Schweizer/in",
          "Schweizer/in",
          "Schweizer/in",
          "Schweizer/in",
          "Schweizer/in",
          "Schweizer/in",
          "Schweizer/in",
          "Schweizer/in",
          "Schweizer/in",
          "Affoltern",
          "Albisrieden",
          "Alt-Wiedikon",
          "Altstetten",
          "City",
          "Enge",
          "Escher Wyss",
          "Fluntern",
          "Friesenberg",
          "Gewerbeschule",
          "Hard",
          "Hirslanden",
          "Hirzenbach",
          "Hochschulen",
          "Hottingen",
          "Höngg",
          "Langstrasse",
          "Leimbach",
          "Lindenhof",
          "Mühlebach",
          "Oberstrass",
          "Oerlikon",
          "Rathaus",
          "Saatlen",
          "Schwamendingen-Mitte",
          "Seebach",
          "Seefeld",
          "Sihlfeld",
          "Unterstrass",
          "Weinegg",
          "Werd",
          "Wipkingen",
          "Witikon",
          "Wollishofen",
          "WBev nach Quartier, Herkunft und Geschlecht, 2021"
         ],
         "marker": {
          "coloraxis": "coloraxis",
          "colors": [
           4637,
           3168,
           3221,
           6871,
           138,
           1915,
           1125,
           1344,
           1021,
           1755,
           2369,
           950,
           2392,
           142,
           1611,
           3316,
           2670,
           1111,
           165,
           1173,
           1730,
           5134,
           584,
           1249,
           2567,
           5709,
           1169,
           3526,
           3589,
           997,
           843,
           2348,
           1560,
           3089,
           8654,
           7883,
           5801,
           10887,
           301,
           2934,
           2311,
           2826,
           4266,
           3393,
           4091,
           2477,
           3945,
           217,
           3830,
           8702,
           4018,
           2046,
           365,
           1900,
           3617,
           7201,
           1208,
           3124,
           2981,
           8035,
           1615,
           7093,
           8483,
           1759,
           1553,
           5763,
           3663,
           6531,
           4119,
           2746,
           2713,
           5678,
           121,
           1743,
           885,
           1341,
           973,
           1286,
           2009,
           970,
           2144,
           100,
           1566,
           2808,
           1794,
           1047,
           136,
           1107,
           1547,
           4161,
           442,
           1145,
           2217,
           4854,
           1181,
           3072,
           3138,
           880,
           680,
           2056,
           1520,
           2976,
           9144,
           8615,
           5896,
           11229,
           257,
           3158,
           1900,
           3266,
           4697,
           3149,
           4165,
           2941,
           4410,
           242,
           4286,
           9684,
           3333,
           2134,
           358,
           2228,
           3972,
           7384,
           1041,
           3270,
           3210,
           7943,
           1897,
           7825,
           9279,
           1912,
           1498,
           6340,
           4512,
           7341,
           4393.322293284605,
           2972.05613797768,
           2988.7445230872936,
           6331.207665949478,
           130.05791505791507,
           1833.0437397484964,
           1019.3283582089553,
           1342.5016759776536,
           997.5777331995988,
           1556.6658993752055,
           2203.801279122887,
           960.1041666666666,
           2274.779541446208,
           124.64462809917356,
           1588.8186968838527,
           3083.069888961463,
           2317.951612903226,
           1079.9490268767377,
           151.8970099667774,
           1140.9552631578947,
           1643.6097039975587,
           4698.426788596019,
           522.8265107212476,
           1199.2589807852967,
           2404.8030936454848,
           5316.103095711445,
           1175.0306382978724,
           3314.6195816914214,
           3378.6182547941135,
           942.1465103889185,
           770.2225869993434,
           2211.6802906448684,
           1540.2597402597403,
           3033.552679307502,
           8905.74513990336,
           8265.239059279913,
           5848.885782679319,
           11060.644329896908,
           280.7347670250896,
           3050.118187787262,
           2125.5571123248633,
           3061.8896913985554,
           4491.862657592324,
           3275.550290431061,
           4128.331637596899,
           2728.8685861941676,
           4190.439856373429,
           230.18082788671023,
           4070.8102513553476,
           9219.22440987708,
           3707.4157257515985,
           2090.926315789474,
           361.53388658367913,
           2077.031007751938,
           3802.8031361180656,
           7293.648063078505,
           1130.7003112494442,
           3198.666875195496,
           3099.7352608625424,
           7989.264864188259,
           1767.3217539863326,
           7476.958975734013,
           8898.836279698233,
           1838.6883682920186,
           1525.9957391019339,
           6065.253986614889,
           4131.5856880733945,
           6959.648356401384,
           7417.8045492204565,
           6868.492504015706,
           4886.258692076456,
           9348.551420741382,
           232.96817625458996,
           2593.4968205128207,
           1768.1355087606494,
           2535.90623219779,
           3855.9582915031488,
           2730.091933632474,
           3461.433275288903,
           2266.0684110111747,
           3516.369948025754,
           193.74750356633382,
           3372.5646860887277,
           7686.062015503876,
           3182.441726618705,
           1746.7027453455348,
           299.912109375,
           1743.9703495630463,
           3151.627277747101,
           6283.489698492463,
           940.2641221374046,
           2653.9943104233043,
           2796.8144874715263,
           6925.378508722354,
           1529.8799044694642,
           6200.554656999442,
           7382.461309159215,
           1535.3702235039655,
           1274.3467424573678,
           5037.136305809657,
           3422.45339848956,
           5765.297637558308,
           5225.490828085036
          ]
         },
         "name": "",
         "parents": [
          "WBev nach Quartier, Herkunft und Geschlecht, 2021/Affoltern/Ausländer/in",
          "WBev nach Quartier, Herkunft und Geschlecht, 2021/Albisrieden/Ausländer/in",
          "WBev nach Quartier, Herkunft und Geschlecht, 2021/Alt-Wiedikon/Ausländer/in",
          "WBev nach Quartier, Herkunft und Geschlecht, 2021/Altstetten/Ausländer/in",
          "WBev nach Quartier, Herkunft und Geschlecht, 2021/City/Ausländer/in",
          "WBev nach Quartier, Herkunft und Geschlecht, 2021/Enge/Ausländer/in",
          "WBev nach Quartier, Herkunft und Geschlecht, 2021/Escher Wyss/Ausländer/in",
          "WBev nach Quartier, Herkunft und Geschlecht, 2021/Fluntern/Ausländer/in",
          "WBev nach Quartier, Herkunft und Geschlecht, 2021/Friesenberg/Ausländer/in",
          "WBev nach Quartier, Herkunft und Geschlecht, 2021/Gewerbeschule/Ausländer/in",
          "WBev nach Quartier, Herkunft und Geschlecht, 2021/Hard/Ausländer/in",
          "WBev nach Quartier, Herkunft und Geschlecht, 2021/Hirslanden/Ausländer/in",
          "WBev nach Quartier, Herkunft und Geschlecht, 2021/Hirzenbach/Ausländer/in",
          "WBev nach Quartier, Herkunft und Geschlecht, 2021/Hochschulen/Ausländer/in",
          "WBev nach Quartier, Herkunft und Geschlecht, 2021/Hottingen/Ausländer/in",
          "WBev nach Quartier, Herkunft und Geschlecht, 2021/Höngg/Ausländer/in",
          "WBev nach Quartier, Herkunft und Geschlecht, 2021/Langstrasse/Ausländer/in",
          "WBev nach Quartier, Herkunft und Geschlecht, 2021/Leimbach/Ausländer/in",
          "WBev nach Quartier, Herkunft und Geschlecht, 2021/Lindenhof/Ausländer/in",
          "WBev nach Quartier, Herkunft und Geschlecht, 2021/Mühlebach/Ausländer/in",
          "WBev nach Quartier, Herkunft und Geschlecht, 2021/Oberstrass/Ausländer/in",
          "WBev nach Quartier, Herkunft und Geschlecht, 2021/Oerlikon/Ausländer/in",
          "WBev nach Quartier, Herkunft und Geschlecht, 2021/Rathaus/Ausländer/in",
          "WBev nach Quartier, Herkunft und Geschlecht, 2021/Saatlen/Ausländer/in",
          "WBev nach Quartier, Herkunft und Geschlecht, 2021/Schwamendingen-Mitte/Ausländer/in",
          "WBev nach Quartier, Herkunft und Geschlecht, 2021/Seebach/Ausländer/in",
          "WBev nach Quartier, Herkunft und Geschlecht, 2021/Seefeld/Ausländer/in",
          "WBev nach Quartier, Herkunft und Geschlecht, 2021/Sihlfeld/Ausländer/in",
          "WBev nach Quartier, Herkunft und Geschlecht, 2021/Unterstrass/Ausländer/in",
          "WBev nach Quartier, Herkunft und Geschlecht, 2021/Weinegg/Ausländer/in",
          "WBev nach Quartier, Herkunft und Geschlecht, 2021/Werd/Ausländer/in",
          "WBev nach Quartier, Herkunft und Geschlecht, 2021/Wipkingen/Ausländer/in",
          "WBev nach Quartier, Herkunft und Geschlecht, 2021/Witikon/Ausländer/in",
          "WBev nach Quartier, Herkunft und Geschlecht, 2021/Wollishofen/Ausländer/in",
          "WBev nach Quartier, Herkunft und Geschlecht, 2021/Affoltern/Schweizer/in",
          "WBev nach Quartier, Herkunft und Geschlecht, 2021/Albisrieden/Schweizer/in",
          "WBev nach Quartier, Herkunft und Geschlecht, 2021/Alt-Wiedikon/Schweizer/in",
          "WBev nach Quartier, Herkunft und Geschlecht, 2021/Altstetten/Schweizer/in",
          "WBev nach Quartier, Herkunft und Geschlecht, 2021/City/Schweizer/in",
          "WBev nach Quartier, Herkunft und Geschlecht, 2021/Enge/Schweizer/in",
          "WBev nach Quartier, Herkunft und Geschlecht, 2021/Escher Wyss/Schweizer/in",
          "WBev nach Quartier, Herkunft und Geschlecht, 2021/Fluntern/Schweizer/in",
          "WBev nach Quartier, Herkunft und Geschlecht, 2021/Friesenberg/Schweizer/in",
          "WBev nach Quartier, Herkunft und Geschlecht, 2021/Gewerbeschule/Schweizer/in",
          "WBev nach Quartier, Herkunft und Geschlecht, 2021/Hard/Schweizer/in",
          "WBev nach Quartier, Herkunft und Geschlecht, 2021/Hirslanden/Schweizer/in",
          "WBev nach Quartier, Herkunft und Geschlecht, 2021/Hirzenbach/Schweizer/in",
          "WBev nach Quartier, Herkunft und Geschlecht, 2021/Hochschulen/Schweizer/in",
          "WBev nach Quartier, Herkunft und Geschlecht, 2021/Hottingen/Schweizer/in",
          "WBev nach Quartier, Herkunft und Geschlecht, 2021/Höngg/Schweizer/in",
          "WBev nach Quartier, Herkunft und Geschlecht, 2021/Langstrasse/Schweizer/in",
          "WBev nach Quartier, Herkunft und Geschlecht, 2021/Leimbach/Schweizer/in",
          "WBev nach Quartier, Herkunft und Geschlecht, 2021/Lindenhof/Schweizer/in",
          "WBev nach Quartier, Herkunft und Geschlecht, 2021/Mühlebach/Schweizer/in",
          "WBev nach Quartier, Herkunft und Geschlecht, 2021/Oberstrass/Schweizer/in",
          "WBev nach Quartier, Herkunft und Geschlecht, 2021/Oerlikon/Schweizer/in",
          "WBev nach Quartier, Herkunft und Geschlecht, 2021/Rathaus/Schweizer/in",
          "WBev nach Quartier, Herkunft und Geschlecht, 2021/Saatlen/Schweizer/in",
          "WBev nach Quartier, Herkunft und Geschlecht, 2021/Schwamendingen-Mitte/Schweizer/in",
          "WBev nach Quartier, Herkunft und Geschlecht, 2021/Seebach/Schweizer/in",
          "WBev nach Quartier, Herkunft und Geschlecht, 2021/Seefeld/Schweizer/in",
          "WBev nach Quartier, Herkunft und Geschlecht, 2021/Sihlfeld/Schweizer/in",
          "WBev nach Quartier, Herkunft und Geschlecht, 2021/Unterstrass/Schweizer/in",
          "WBev nach Quartier, Herkunft und Geschlecht, 2021/Weinegg/Schweizer/in",
          "WBev nach Quartier, Herkunft und Geschlecht, 2021/Werd/Schweizer/in",
          "WBev nach Quartier, Herkunft und Geschlecht, 2021/Wipkingen/Schweizer/in",
          "WBev nach Quartier, Herkunft und Geschlecht, 2021/Witikon/Schweizer/in",
          "WBev nach Quartier, Herkunft und Geschlecht, 2021/Wollishofen/Schweizer/in",
          "WBev nach Quartier, Herkunft und Geschlecht, 2021/Affoltern/Ausländer/in",
          "WBev nach Quartier, Herkunft und Geschlecht, 2021/Albisrieden/Ausländer/in",
          "WBev nach Quartier, Herkunft und Geschlecht, 2021/Alt-Wiedikon/Ausländer/in",
          "WBev nach Quartier, Herkunft und Geschlecht, 2021/Altstetten/Ausländer/in",
          "WBev nach Quartier, Herkunft und Geschlecht, 2021/City/Ausländer/in",
          "WBev nach Quartier, Herkunft und Geschlecht, 2021/Enge/Ausländer/in",
          "WBev nach Quartier, Herkunft und Geschlecht, 2021/Escher Wyss/Ausländer/in",
          "WBev nach Quartier, Herkunft und Geschlecht, 2021/Fluntern/Ausländer/in",
          "WBev nach Quartier, Herkunft und Geschlecht, 2021/Friesenberg/Ausländer/in",
          "WBev nach Quartier, Herkunft und Geschlecht, 2021/Gewerbeschule/Ausländer/in",
          "WBev nach Quartier, Herkunft und Geschlecht, 2021/Hard/Ausländer/in",
          "WBev nach Quartier, Herkunft und Geschlecht, 2021/Hirslanden/Ausländer/in",
          "WBev nach Quartier, Herkunft und Geschlecht, 2021/Hirzenbach/Ausländer/in",
          "WBev nach Quartier, Herkunft und Geschlecht, 2021/Hochschulen/Ausländer/in",
          "WBev nach Quartier, Herkunft und Geschlecht, 2021/Hottingen/Ausländer/in",
          "WBev nach Quartier, Herkunft und Geschlecht, 2021/Höngg/Ausländer/in",
          "WBev nach Quartier, Herkunft und Geschlecht, 2021/Langstrasse/Ausländer/in",
          "WBev nach Quartier, Herkunft und Geschlecht, 2021/Leimbach/Ausländer/in",
          "WBev nach Quartier, Herkunft und Geschlecht, 2021/Lindenhof/Ausländer/in",
          "WBev nach Quartier, Herkunft und Geschlecht, 2021/Mühlebach/Ausländer/in",
          "WBev nach Quartier, Herkunft und Geschlecht, 2021/Oberstrass/Ausländer/in",
          "WBev nach Quartier, Herkunft und Geschlecht, 2021/Oerlikon/Ausländer/in",
          "WBev nach Quartier, Herkunft und Geschlecht, 2021/Rathaus/Ausländer/in",
          "WBev nach Quartier, Herkunft und Geschlecht, 2021/Saatlen/Ausländer/in",
          "WBev nach Quartier, Herkunft und Geschlecht, 2021/Schwamendingen-Mitte/Ausländer/in",
          "WBev nach Quartier, Herkunft und Geschlecht, 2021/Seebach/Ausländer/in",
          "WBev nach Quartier, Herkunft und Geschlecht, 2021/Seefeld/Ausländer/in",
          "WBev nach Quartier, Herkunft und Geschlecht, 2021/Sihlfeld/Ausländer/in",
          "WBev nach Quartier, Herkunft und Geschlecht, 2021/Unterstrass/Ausländer/in",
          "WBev nach Quartier, Herkunft und Geschlecht, 2021/Weinegg/Ausländer/in",
          "WBev nach Quartier, Herkunft und Geschlecht, 2021/Werd/Ausländer/in",
          "WBev nach Quartier, Herkunft und Geschlecht, 2021/Wipkingen/Ausländer/in",
          "WBev nach Quartier, Herkunft und Geschlecht, 2021/Witikon/Ausländer/in",
          "WBev nach Quartier, Herkunft und Geschlecht, 2021/Wollishofen/Ausländer/in",
          "WBev nach Quartier, Herkunft und Geschlecht, 2021/Affoltern/Schweizer/in",
          "WBev nach Quartier, Herkunft und Geschlecht, 2021/Albisrieden/Schweizer/in",
          "WBev nach Quartier, Herkunft und Geschlecht, 2021/Alt-Wiedikon/Schweizer/in",
          "WBev nach Quartier, Herkunft und Geschlecht, 2021/Altstetten/Schweizer/in",
          "WBev nach Quartier, Herkunft und Geschlecht, 2021/City/Schweizer/in",
          "WBev nach Quartier, Herkunft und Geschlecht, 2021/Enge/Schweizer/in",
          "WBev nach Quartier, Herkunft und Geschlecht, 2021/Escher Wyss/Schweizer/in",
          "WBev nach Quartier, Herkunft und Geschlecht, 2021/Fluntern/Schweizer/in",
          "WBev nach Quartier, Herkunft und Geschlecht, 2021/Friesenberg/Schweizer/in",
          "WBev nach Quartier, Herkunft und Geschlecht, 2021/Gewerbeschule/Schweizer/in",
          "WBev nach Quartier, Herkunft und Geschlecht, 2021/Hard/Schweizer/in",
          "WBev nach Quartier, Herkunft und Geschlecht, 2021/Hirslanden/Schweizer/in",
          "WBev nach Quartier, Herkunft und Geschlecht, 2021/Hirzenbach/Schweizer/in",
          "WBev nach Quartier, Herkunft und Geschlecht, 2021/Hochschulen/Schweizer/in",
          "WBev nach Quartier, Herkunft und Geschlecht, 2021/Hottingen/Schweizer/in",
          "WBev nach Quartier, Herkunft und Geschlecht, 2021/Höngg/Schweizer/in",
          "WBev nach Quartier, Herkunft und Geschlecht, 2021/Langstrasse/Schweizer/in",
          "WBev nach Quartier, Herkunft und Geschlecht, 2021/Leimbach/Schweizer/in",
          "WBev nach Quartier, Herkunft und Geschlecht, 2021/Lindenhof/Schweizer/in",
          "WBev nach Quartier, Herkunft und Geschlecht, 2021/Mühlebach/Schweizer/in",
          "WBev nach Quartier, Herkunft und Geschlecht, 2021/Oberstrass/Schweizer/in",
          "WBev nach Quartier, Herkunft und Geschlecht, 2021/Oerlikon/Schweizer/in",
          "WBev nach Quartier, Herkunft und Geschlecht, 2021/Rathaus/Schweizer/in",
          "WBev nach Quartier, Herkunft und Geschlecht, 2021/Saatlen/Schweizer/in",
          "WBev nach Quartier, Herkunft und Geschlecht, 2021/Schwamendingen-Mitte/Schweizer/in",
          "WBev nach Quartier, Herkunft und Geschlecht, 2021/Seebach/Schweizer/in",
          "WBev nach Quartier, Herkunft und Geschlecht, 2021/Seefeld/Schweizer/in",
          "WBev nach Quartier, Herkunft und Geschlecht, 2021/Sihlfeld/Schweizer/in",
          "WBev nach Quartier, Herkunft und Geschlecht, 2021/Unterstrass/Schweizer/in",
          "WBev nach Quartier, Herkunft und Geschlecht, 2021/Weinegg/Schweizer/in",
          "WBev nach Quartier, Herkunft und Geschlecht, 2021/Werd/Schweizer/in",
          "WBev nach Quartier, Herkunft und Geschlecht, 2021/Wipkingen/Schweizer/in",
          "WBev nach Quartier, Herkunft und Geschlecht, 2021/Witikon/Schweizer/in",
          "WBev nach Quartier, Herkunft und Geschlecht, 2021/Wollishofen/Schweizer/in",
          "WBev nach Quartier, Herkunft und Geschlecht, 2021/Affoltern",
          "WBev nach Quartier, Herkunft und Geschlecht, 2021/Albisrieden",
          "WBev nach Quartier, Herkunft und Geschlecht, 2021/Alt-Wiedikon",
          "WBev nach Quartier, Herkunft und Geschlecht, 2021/Altstetten",
          "WBev nach Quartier, Herkunft und Geschlecht, 2021/City",
          "WBev nach Quartier, Herkunft und Geschlecht, 2021/Enge",
          "WBev nach Quartier, Herkunft und Geschlecht, 2021/Escher Wyss",
          "WBev nach Quartier, Herkunft und Geschlecht, 2021/Fluntern",
          "WBev nach Quartier, Herkunft und Geschlecht, 2021/Friesenberg",
          "WBev nach Quartier, Herkunft und Geschlecht, 2021/Gewerbeschule",
          "WBev nach Quartier, Herkunft und Geschlecht, 2021/Hard",
          "WBev nach Quartier, Herkunft und Geschlecht, 2021/Hirslanden",
          "WBev nach Quartier, Herkunft und Geschlecht, 2021/Hirzenbach",
          "WBev nach Quartier, Herkunft und Geschlecht, 2021/Hochschulen",
          "WBev nach Quartier, Herkunft und Geschlecht, 2021/Hottingen",
          "WBev nach Quartier, Herkunft und Geschlecht, 2021/Höngg",
          "WBev nach Quartier, Herkunft und Geschlecht, 2021/Langstrasse",
          "WBev nach Quartier, Herkunft und Geschlecht, 2021/Leimbach",
          "WBev nach Quartier, Herkunft und Geschlecht, 2021/Lindenhof",
          "WBev nach Quartier, Herkunft und Geschlecht, 2021/Mühlebach",
          "WBev nach Quartier, Herkunft und Geschlecht, 2021/Oberstrass",
          "WBev nach Quartier, Herkunft und Geschlecht, 2021/Oerlikon",
          "WBev nach Quartier, Herkunft und Geschlecht, 2021/Rathaus",
          "WBev nach Quartier, Herkunft und Geschlecht, 2021/Saatlen",
          "WBev nach Quartier, Herkunft und Geschlecht, 2021/Schwamendingen-Mitte",
          "WBev nach Quartier, Herkunft und Geschlecht, 2021/Seebach",
          "WBev nach Quartier, Herkunft und Geschlecht, 2021/Seefeld",
          "WBev nach Quartier, Herkunft und Geschlecht, 2021/Sihlfeld",
          "WBev nach Quartier, Herkunft und Geschlecht, 2021/Unterstrass",
          "WBev nach Quartier, Herkunft und Geschlecht, 2021/Weinegg",
          "WBev nach Quartier, Herkunft und Geschlecht, 2021/Werd",
          "WBev nach Quartier, Herkunft und Geschlecht, 2021/Wipkingen",
          "WBev nach Quartier, Herkunft und Geschlecht, 2021/Witikon",
          "WBev nach Quartier, Herkunft und Geschlecht, 2021/Wollishofen",
          "WBev nach Quartier, Herkunft und Geschlecht, 2021/Affoltern",
          "WBev nach Quartier, Herkunft und Geschlecht, 2021/Albisrieden",
          "WBev nach Quartier, Herkunft und Geschlecht, 2021/Alt-Wiedikon",
          "WBev nach Quartier, Herkunft und Geschlecht, 2021/Altstetten",
          "WBev nach Quartier, Herkunft und Geschlecht, 2021/City",
          "WBev nach Quartier, Herkunft und Geschlecht, 2021/Enge",
          "WBev nach Quartier, Herkunft und Geschlecht, 2021/Escher Wyss",
          "WBev nach Quartier, Herkunft und Geschlecht, 2021/Fluntern",
          "WBev nach Quartier, Herkunft und Geschlecht, 2021/Friesenberg",
          "WBev nach Quartier, Herkunft und Geschlecht, 2021/Gewerbeschule",
          "WBev nach Quartier, Herkunft und Geschlecht, 2021/Hard",
          "WBev nach Quartier, Herkunft und Geschlecht, 2021/Hirslanden",
          "WBev nach Quartier, Herkunft und Geschlecht, 2021/Hirzenbach",
          "WBev nach Quartier, Herkunft und Geschlecht, 2021/Hochschulen",
          "WBev nach Quartier, Herkunft und Geschlecht, 2021/Hottingen",
          "WBev nach Quartier, Herkunft und Geschlecht, 2021/Höngg",
          "WBev nach Quartier, Herkunft und Geschlecht, 2021/Langstrasse",
          "WBev nach Quartier, Herkunft und Geschlecht, 2021/Leimbach",
          "WBev nach Quartier, Herkunft und Geschlecht, 2021/Lindenhof",
          "WBev nach Quartier, Herkunft und Geschlecht, 2021/Mühlebach",
          "WBev nach Quartier, Herkunft und Geschlecht, 2021/Oberstrass",
          "WBev nach Quartier, Herkunft und Geschlecht, 2021/Oerlikon",
          "WBev nach Quartier, Herkunft und Geschlecht, 2021/Rathaus",
          "WBev nach Quartier, Herkunft und Geschlecht, 2021/Saatlen",
          "WBev nach Quartier, Herkunft und Geschlecht, 2021/Schwamendingen-Mitte",
          "WBev nach Quartier, Herkunft und Geschlecht, 2021/Seebach",
          "WBev nach Quartier, Herkunft und Geschlecht, 2021/Seefeld",
          "WBev nach Quartier, Herkunft und Geschlecht, 2021/Sihlfeld",
          "WBev nach Quartier, Herkunft und Geschlecht, 2021/Unterstrass",
          "WBev nach Quartier, Herkunft und Geschlecht, 2021/Weinegg",
          "WBev nach Quartier, Herkunft und Geschlecht, 2021/Werd",
          "WBev nach Quartier, Herkunft und Geschlecht, 2021/Wipkingen",
          "WBev nach Quartier, Herkunft und Geschlecht, 2021/Witikon",
          "WBev nach Quartier, Herkunft und Geschlecht, 2021/Wollishofen",
          "WBev nach Quartier, Herkunft und Geschlecht, 2021",
          "WBev nach Quartier, Herkunft und Geschlecht, 2021",
          "WBev nach Quartier, Herkunft und Geschlecht, 2021",
          "WBev nach Quartier, Herkunft und Geschlecht, 2021",
          "WBev nach Quartier, Herkunft und Geschlecht, 2021",
          "WBev nach Quartier, Herkunft und Geschlecht, 2021",
          "WBev nach Quartier, Herkunft und Geschlecht, 2021",
          "WBev nach Quartier, Herkunft und Geschlecht, 2021",
          "WBev nach Quartier, Herkunft und Geschlecht, 2021",
          "WBev nach Quartier, Herkunft und Geschlecht, 2021",
          "WBev nach Quartier, Herkunft und Geschlecht, 2021",
          "WBev nach Quartier, Herkunft und Geschlecht, 2021",
          "WBev nach Quartier, Herkunft und Geschlecht, 2021",
          "WBev nach Quartier, Herkunft und Geschlecht, 2021",
          "WBev nach Quartier, Herkunft und Geschlecht, 2021",
          "WBev nach Quartier, Herkunft und Geschlecht, 2021",
          "WBev nach Quartier, Herkunft und Geschlecht, 2021",
          "WBev nach Quartier, Herkunft und Geschlecht, 2021",
          "WBev nach Quartier, Herkunft und Geschlecht, 2021",
          "WBev nach Quartier, Herkunft und Geschlecht, 2021",
          "WBev nach Quartier, Herkunft und Geschlecht, 2021",
          "WBev nach Quartier, Herkunft und Geschlecht, 2021",
          "WBev nach Quartier, Herkunft und Geschlecht, 2021",
          "WBev nach Quartier, Herkunft und Geschlecht, 2021",
          "WBev nach Quartier, Herkunft und Geschlecht, 2021",
          "WBev nach Quartier, Herkunft und Geschlecht, 2021",
          "WBev nach Quartier, Herkunft und Geschlecht, 2021",
          "WBev nach Quartier, Herkunft und Geschlecht, 2021",
          "WBev nach Quartier, Herkunft und Geschlecht, 2021",
          "WBev nach Quartier, Herkunft und Geschlecht, 2021",
          "WBev nach Quartier, Herkunft und Geschlecht, 2021",
          "WBev nach Quartier, Herkunft und Geschlecht, 2021",
          "WBev nach Quartier, Herkunft und Geschlecht, 2021",
          "WBev nach Quartier, Herkunft und Geschlecht, 2021",
          ""
         ],
         "root": {
          "color": "grey"
         },
         "type": "treemap",
         "values": [
          4637,
          3168,
          3221,
          6871,
          138,
          1915,
          1125,
          1344,
          1021,
          1755,
          2369,
          950,
          2392,
          142,
          1611,
          3316,
          2670,
          1111,
          165,
          1173,
          1730,
          5134,
          584,
          1249,
          2567,
          5709,
          1169,
          3526,
          3589,
          997,
          843,
          2348,
          1560,
          3089,
          8654,
          7883,
          5801,
          10887,
          301,
          2934,
          2311,
          2826,
          4266,
          3393,
          4091,
          2477,
          3945,
          217,
          3830,
          8702,
          4018,
          2046,
          365,
          1900,
          3617,
          7201,
          1208,
          3124,
          2981,
          8035,
          1615,
          7093,
          8483,
          1759,
          1553,
          5763,
          3663,
          6531,
          4119,
          2746,
          2713,
          5678,
          121,
          1743,
          885,
          1341,
          973,
          1286,
          2009,
          970,
          2144,
          100,
          1566,
          2808,
          1794,
          1047,
          136,
          1107,
          1547,
          4161,
          442,
          1145,
          2217,
          4854,
          1181,
          3072,
          3138,
          880,
          680,
          2056,
          1520,
          2976,
          9144,
          8615,
          5896,
          11229,
          257,
          3158,
          1900,
          3266,
          4697,
          3149,
          4165,
          2941,
          4410,
          242,
          4286,
          9684,
          3333,
          2134,
          358,
          2228,
          3972,
          7384,
          1041,
          3270,
          3210,
          7943,
          1897,
          7825,
          9279,
          1912,
          1498,
          6340,
          4512,
          7341,
          8756,
          5914,
          5934,
          12549,
          259,
          3658,
          2010,
          2685,
          1994,
          3041,
          4378,
          1920,
          4536,
          242,
          3177,
          6124,
          4464,
          2158,
          301,
          2280,
          3277,
          9295,
          1026,
          2394,
          4784,
          10563,
          2350,
          6598,
          6727,
          1877,
          1523,
          4404,
          3080,
          6065,
          17798,
          16498,
          11697,
          22116,
          558,
          6092,
          4211,
          6092,
          8963,
          6542,
          8256,
          5418,
          8355,
          459,
          8116,
          18386,
          7351,
          4180,
          723,
          4128,
          7589,
          14585,
          2249,
          6394,
          6191,
          15978,
          3512,
          14918,
          17762,
          3671,
          3051,
          12103,
          8175,
          13872,
          26554,
          22412,
          17631,
          34665,
          817,
          9750,
          6221,
          8777,
          10957,
          9583,
          12634,
          7338,
          12891,
          701,
          11293,
          24510,
          11815,
          6338,
          1024,
          6408,
          10866,
          23880,
          3275,
          8788,
          10975,
          26541,
          5862,
          21516,
          24489,
          5548,
          4574,
          16507,
          11255,
          19937,
          436332
         ]
        }
       ],
       "layout": {
        "coloraxis": {
         "colorbar": {
          "title": {
           "text": "sum_WBev"
          }
         },
         "colorscale": [
          [
           0,
           "rgb(247,251,255)"
          ],
          [
           0.125,
           "rgb(222,235,247)"
          ],
          [
           0.25,
           "rgb(198,219,239)"
          ],
          [
           0.375,
           "rgb(158,202,225)"
          ],
          [
           0.5,
           "rgb(107,174,214)"
          ],
          [
           0.625,
           "rgb(66,146,198)"
          ],
          [
           0.75,
           "rgb(33,113,181)"
          ],
          [
           0.875,
           "rgb(8,81,156)"
          ],
          [
           1,
           "rgb(8,48,107)"
          ]
         ]
        },
        "height": 400,
        "legend": {
         "tracegroupgap": 0
        },
        "margin": {
         "b": 25,
         "l": 25,
         "r": 250,
         "t": 50
        },
        "template": {
         "data": {
          "bar": [
           {
            "error_x": {
             "color": "#2a3f5f"
            },
            "error_y": {
             "color": "#2a3f5f"
            },
            "marker": {
             "line": {
              "color": "#E5ECF6",
              "width": 0.5
             },
             "pattern": {
              "fillmode": "overlay",
              "size": 10,
              "solidity": 0.2
             }
            },
            "type": "bar"
           }
          ],
          "barpolar": [
           {
            "marker": {
             "line": {
              "color": "#E5ECF6",
              "width": 0.5
             },
             "pattern": {
              "fillmode": "overlay",
              "size": 10,
              "solidity": 0.2
             }
            },
            "type": "barpolar"
           }
          ],
          "carpet": [
           {
            "aaxis": {
             "endlinecolor": "#2a3f5f",
             "gridcolor": "white",
             "linecolor": "white",
             "minorgridcolor": "white",
             "startlinecolor": "#2a3f5f"
            },
            "baxis": {
             "endlinecolor": "#2a3f5f",
             "gridcolor": "white",
             "linecolor": "white",
             "minorgridcolor": "white",
             "startlinecolor": "#2a3f5f"
            },
            "type": "carpet"
           }
          ],
          "choropleth": [
           {
            "colorbar": {
             "outlinewidth": 0,
             "ticks": ""
            },
            "type": "choropleth"
           }
          ],
          "contour": [
           {
            "colorbar": {
             "outlinewidth": 0,
             "ticks": ""
            },
            "colorscale": [
             [
              0,
              "#0d0887"
             ],
             [
              0.1111111111111111,
              "#46039f"
             ],
             [
              0.2222222222222222,
              "#7201a8"
             ],
             [
              0.3333333333333333,
              "#9c179e"
             ],
             [
              0.4444444444444444,
              "#bd3786"
             ],
             [
              0.5555555555555556,
              "#d8576b"
             ],
             [
              0.6666666666666666,
              "#ed7953"
             ],
             [
              0.7777777777777778,
              "#fb9f3a"
             ],
             [
              0.8888888888888888,
              "#fdca26"
             ],
             [
              1,
              "#f0f921"
             ]
            ],
            "type": "contour"
           }
          ],
          "contourcarpet": [
           {
            "colorbar": {
             "outlinewidth": 0,
             "ticks": ""
            },
            "type": "contourcarpet"
           }
          ],
          "heatmap": [
           {
            "colorbar": {
             "outlinewidth": 0,
             "ticks": ""
            },
            "colorscale": [
             [
              0,
              "#0d0887"
             ],
             [
              0.1111111111111111,
              "#46039f"
             ],
             [
              0.2222222222222222,
              "#7201a8"
             ],
             [
              0.3333333333333333,
              "#9c179e"
             ],
             [
              0.4444444444444444,
              "#bd3786"
             ],
             [
              0.5555555555555556,
              "#d8576b"
             ],
             [
              0.6666666666666666,
              "#ed7953"
             ],
             [
              0.7777777777777778,
              "#fb9f3a"
             ],
             [
              0.8888888888888888,
              "#fdca26"
             ],
             [
              1,
              "#f0f921"
             ]
            ],
            "type": "heatmap"
           }
          ],
          "heatmapgl": [
           {
            "colorbar": {
             "outlinewidth": 0,
             "ticks": ""
            },
            "colorscale": [
             [
              0,
              "#0d0887"
             ],
             [
              0.1111111111111111,
              "#46039f"
             ],
             [
              0.2222222222222222,
              "#7201a8"
             ],
             [
              0.3333333333333333,
              "#9c179e"
             ],
             [
              0.4444444444444444,
              "#bd3786"
             ],
             [
              0.5555555555555556,
              "#d8576b"
             ],
             [
              0.6666666666666666,
              "#ed7953"
             ],
             [
              0.7777777777777778,
              "#fb9f3a"
             ],
             [
              0.8888888888888888,
              "#fdca26"
             ],
             [
              1,
              "#f0f921"
             ]
            ],
            "type": "heatmapgl"
           }
          ],
          "histogram": [
           {
            "marker": {
             "pattern": {
              "fillmode": "overlay",
              "size": 10,
              "solidity": 0.2
             }
            },
            "type": "histogram"
           }
          ],
          "histogram2d": [
           {
            "colorbar": {
             "outlinewidth": 0,
             "ticks": ""
            },
            "colorscale": [
             [
              0,
              "#0d0887"
             ],
             [
              0.1111111111111111,
              "#46039f"
             ],
             [
              0.2222222222222222,
              "#7201a8"
             ],
             [
              0.3333333333333333,
              "#9c179e"
             ],
             [
              0.4444444444444444,
              "#bd3786"
             ],
             [
              0.5555555555555556,
              "#d8576b"
             ],
             [
              0.6666666666666666,
              "#ed7953"
             ],
             [
              0.7777777777777778,
              "#fb9f3a"
             ],
             [
              0.8888888888888888,
              "#fdca26"
             ],
             [
              1,
              "#f0f921"
             ]
            ],
            "type": "histogram2d"
           }
          ],
          "histogram2dcontour": [
           {
            "colorbar": {
             "outlinewidth": 0,
             "ticks": ""
            },
            "colorscale": [
             [
              0,
              "#0d0887"
             ],
             [
              0.1111111111111111,
              "#46039f"
             ],
             [
              0.2222222222222222,
              "#7201a8"
             ],
             [
              0.3333333333333333,
              "#9c179e"
             ],
             [
              0.4444444444444444,
              "#bd3786"
             ],
             [
              0.5555555555555556,
              "#d8576b"
             ],
             [
              0.6666666666666666,
              "#ed7953"
             ],
             [
              0.7777777777777778,
              "#fb9f3a"
             ],
             [
              0.8888888888888888,
              "#fdca26"
             ],
             [
              1,
              "#f0f921"
             ]
            ],
            "type": "histogram2dcontour"
           }
          ],
          "mesh3d": [
           {
            "colorbar": {
             "outlinewidth": 0,
             "ticks": ""
            },
            "type": "mesh3d"
           }
          ],
          "parcoords": [
           {
            "line": {
             "colorbar": {
              "outlinewidth": 0,
              "ticks": ""
             }
            },
            "type": "parcoords"
           }
          ],
          "pie": [
           {
            "automargin": true,
            "type": "pie"
           }
          ],
          "scatter": [
           {
            "marker": {
             "colorbar": {
              "outlinewidth": 0,
              "ticks": ""
             }
            },
            "type": "scatter"
           }
          ],
          "scatter3d": [
           {
            "line": {
             "colorbar": {
              "outlinewidth": 0,
              "ticks": ""
             }
            },
            "marker": {
             "colorbar": {
              "outlinewidth": 0,
              "ticks": ""
             }
            },
            "type": "scatter3d"
           }
          ],
          "scattercarpet": [
           {
            "marker": {
             "colorbar": {
              "outlinewidth": 0,
              "ticks": ""
             }
            },
            "type": "scattercarpet"
           }
          ],
          "scattergeo": [
           {
            "marker": {
             "colorbar": {
              "outlinewidth": 0,
              "ticks": ""
             }
            },
            "type": "scattergeo"
           }
          ],
          "scattergl": [
           {
            "marker": {
             "colorbar": {
              "outlinewidth": 0,
              "ticks": ""
             }
            },
            "type": "scattergl"
           }
          ],
          "scattermapbox": [
           {
            "marker": {
             "colorbar": {
              "outlinewidth": 0,
              "ticks": ""
             }
            },
            "type": "scattermapbox"
           }
          ],
          "scatterpolar": [
           {
            "marker": {
             "colorbar": {
              "outlinewidth": 0,
              "ticks": ""
             }
            },
            "type": "scatterpolar"
           }
          ],
          "scatterpolargl": [
           {
            "marker": {
             "colorbar": {
              "outlinewidth": 0,
              "ticks": ""
             }
            },
            "type": "scatterpolargl"
           }
          ],
          "scatterternary": [
           {
            "marker": {
             "colorbar": {
              "outlinewidth": 0,
              "ticks": ""
             }
            },
            "type": "scatterternary"
           }
          ],
          "surface": [
           {
            "colorbar": {
             "outlinewidth": 0,
             "ticks": ""
            },
            "colorscale": [
             [
              0,
              "#0d0887"
             ],
             [
              0.1111111111111111,
              "#46039f"
             ],
             [
              0.2222222222222222,
              "#7201a8"
             ],
             [
              0.3333333333333333,
              "#9c179e"
             ],
             [
              0.4444444444444444,
              "#bd3786"
             ],
             [
              0.5555555555555556,
              "#d8576b"
             ],
             [
              0.6666666666666666,
              "#ed7953"
             ],
             [
              0.7777777777777778,
              "#fb9f3a"
             ],
             [
              0.8888888888888888,
              "#fdca26"
             ],
             [
              1,
              "#f0f921"
             ]
            ],
            "type": "surface"
           }
          ],
          "table": [
           {
            "cells": {
             "fill": {
              "color": "#EBF0F8"
             },
             "line": {
              "color": "white"
             }
            },
            "header": {
             "fill": {
              "color": "#C8D4E3"
             },
             "line": {
              "color": "white"
             }
            },
            "type": "table"
           }
          ]
         },
         "layout": {
          "annotationdefaults": {
           "arrowcolor": "#2a3f5f",
           "arrowhead": 0,
           "arrowwidth": 1
          },
          "autotypenumbers": "strict",
          "coloraxis": {
           "colorbar": {
            "outlinewidth": 0,
            "ticks": ""
           }
          },
          "colorscale": {
           "diverging": [
            [
             0,
             "#8e0152"
            ],
            [
             0.1,
             "#c51b7d"
            ],
            [
             0.2,
             "#de77ae"
            ],
            [
             0.3,
             "#f1b6da"
            ],
            [
             0.4,
             "#fde0ef"
            ],
            [
             0.5,
             "#f7f7f7"
            ],
            [
             0.6,
             "#e6f5d0"
            ],
            [
             0.7,
             "#b8e186"
            ],
            [
             0.8,
             "#7fbc41"
            ],
            [
             0.9,
             "#4d9221"
            ],
            [
             1,
             "#276419"
            ]
           ],
           "sequential": [
            [
             0,
             "#0d0887"
            ],
            [
             0.1111111111111111,
             "#46039f"
            ],
            [
             0.2222222222222222,
             "#7201a8"
            ],
            [
             0.3333333333333333,
             "#9c179e"
            ],
            [
             0.4444444444444444,
             "#bd3786"
            ],
            [
             0.5555555555555556,
             "#d8576b"
            ],
            [
             0.6666666666666666,
             "#ed7953"
            ],
            [
             0.7777777777777778,
             "#fb9f3a"
            ],
            [
             0.8888888888888888,
             "#fdca26"
            ],
            [
             1,
             "#f0f921"
            ]
           ],
           "sequentialminus": [
            [
             0,
             "#0d0887"
            ],
            [
             0.1111111111111111,
             "#46039f"
            ],
            [
             0.2222222222222222,
             "#7201a8"
            ],
            [
             0.3333333333333333,
             "#9c179e"
            ],
            [
             0.4444444444444444,
             "#bd3786"
            ],
            [
             0.5555555555555556,
             "#d8576b"
            ],
            [
             0.6666666666666666,
             "#ed7953"
            ],
            [
             0.7777777777777778,
             "#fb9f3a"
            ],
            [
             0.8888888888888888,
             "#fdca26"
            ],
            [
             1,
             "#f0f921"
            ]
           ]
          },
          "colorway": [
           "#636efa",
           "#EF553B",
           "#00cc96",
           "#ab63fa",
           "#FFA15A",
           "#19d3f3",
           "#FF6692",
           "#B6E880",
           "#FF97FF",
           "#FECB52"
          ],
          "font": {
           "color": "#2a3f5f"
          },
          "geo": {
           "bgcolor": "white",
           "lakecolor": "white",
           "landcolor": "#E5ECF6",
           "showlakes": true,
           "showland": true,
           "subunitcolor": "white"
          },
          "hoverlabel": {
           "align": "left"
          },
          "hovermode": "closest",
          "mapbox": {
           "style": "light"
          },
          "paper_bgcolor": "white",
          "plot_bgcolor": "#E5ECF6",
          "polar": {
           "angularaxis": {
            "gridcolor": "white",
            "linecolor": "white",
            "ticks": ""
           },
           "bgcolor": "#E5ECF6",
           "radialaxis": {
            "gridcolor": "white",
            "linecolor": "white",
            "ticks": ""
           }
          },
          "scene": {
           "xaxis": {
            "backgroundcolor": "#E5ECF6",
            "gridcolor": "white",
            "gridwidth": 2,
            "linecolor": "white",
            "showbackground": true,
            "ticks": "",
            "zerolinecolor": "white"
           },
           "yaxis": {
            "backgroundcolor": "#E5ECF6",
            "gridcolor": "white",
            "gridwidth": 2,
            "linecolor": "white",
            "showbackground": true,
            "ticks": "",
            "zerolinecolor": "white"
           },
           "zaxis": {
            "backgroundcolor": "#E5ECF6",
            "gridcolor": "white",
            "gridwidth": 2,
            "linecolor": "white",
            "showbackground": true,
            "ticks": "",
            "zerolinecolor": "white"
           }
          },
          "shapedefaults": {
           "line": {
            "color": "#2a3f5f"
           }
          },
          "ternary": {
           "aaxis": {
            "gridcolor": "white",
            "linecolor": "white",
            "ticks": ""
           },
           "baxis": {
            "gridcolor": "white",
            "linecolor": "white",
            "ticks": ""
           },
           "bgcolor": "#E5ECF6",
           "caxis": {
            "gridcolor": "white",
            "linecolor": "white",
            "ticks": ""
           }
          },
          "title": {
           "x": 0.05
          },
          "xaxis": {
           "automargin": true,
           "gridcolor": "white",
           "linecolor": "white",
           "ticks": "",
           "title": {
            "standoff": 15
           },
           "zerolinecolor": "white",
           "zerolinewidth": 2
          },
          "yaxis": {
           "automargin": true,
           "gridcolor": "white",
           "linecolor": "white",
           "ticks": "",
           "title": {
            "standoff": 15
           },
           "zerolinecolor": "white",
           "zerolinewidth": 2
          }
         }
        },
        "width": 1100
       }
      },
      "image/png": "[encoded data removed]",
      "text/html": [
       "<div>                            <div id=\"fd0af6ae-701c-446e-8b4a-ae68973492b6\" class=\"plotly-graph-div\" style=\"height:400px; width:1100px;\"></div>            <script type=\"text/javascript\">                require([\"plotly\"], function(Plotly) {                    window.PLOTLYENV=window.PLOTLYENV || {};                                    if (document.getElementById(\"fd0af6ae-701c-446e-8b4a-ae68973492b6\")) {                    Plotly.newPlot(                        \"fd0af6ae-701c-446e-8b4a-ae68973492b6\",                        [{\"branchvalues\":\"total\",\"customdata\":[[4637.0],[3168.0],[3221.0],[6871.0],[138.0],[1915.0],[1125.0],[1344.0],[1021.0],[1755.0],[2369.0],[950.0],[2392.0],[142.0],[1611.0],[3316.0],[2670.0],[1111.0],[165.0],[1173.0],[1730.0],[5134.0],[584.0],[1249.0],[2567.0],[5709.0],[1169.0],[3526.0],[3589.0],[997.0],[843.0],[2348.0],[1560.0],[3089.0],[8654.0],[7883.0],[5801.0],[10887.0],[301.0],[2934.0],[2311.0],[2826.0],[4266.0],[3393.0],[4091.0],[2477.0],[3945.0],[217.0],[3830.0],[8702.0],[4018.0],[2046.0],[365.0],[1900.0],[3617.0],[7201.0],[1208.0],[3124.0],[2981.0],[8035.0],[1615.0],[7093.0],[8483.0],[1759.0],[1553.0],[5763.0],[3663.0],[6531.0],[4119.0],[2746.0],[2713.0],[5678.0],[121.0],[1743.0],[885.0],[1341.0],[973.0],[1286.0],[2009.0],[970.0],[2144.0],[100.0],[1566.0],[2808.0],[1794.0],[1047.0],[136.0],[1107.0],[1547.0],[4161.0],[442.0],[1145.0],[2217.0],[4854.0],[1181.0],[3072.0],[3138.0],[880.0],[680.0],[2056.0],[1520.0],[2976.0],[9144.0],[8615.0],[5896.0],[11229.0],[257.0],[3158.0],[1900.0],[3266.0],[4697.0],[3149.0],[4165.0],[2941.0],[4410.0],[242.0],[4286.0],[9684.0],[3333.0],[2134.0],[358.0],[2228.0],[3972.0],[7384.0],[1041.0],[3270.0],[3210.0],[7943.0],[1897.0],[7825.0],[9279.0],[1912.0],[1498.0],[6340.0],[4512.0],[7341.0],[4393.322293284605],[2972.05613797768],[2988.7445230872936],[6331.207665949478],[130.05791505791507],[1833.0437397484964],[1019.3283582089553],[1342.5016759776536],[997.5777331995988],[1556.6658993752055],[2203.801279122887],[960.1041666666666],[2274.779541446208],[124.64462809917356],[1588.8186968838527],[3083.069888961463],[2317.951612903226],[1079.9490268767377],[151.8970099667774],[1140.9552631578947],[1643.6097039975587],[4698.426788596019],[522.8265107212476],[1199.2589807852967],[2404.8030936454848],[5316.103095711445],[1175.0306382978724],[3314.6195816914214],[3378.6182547941135],[942.1465103889185],[770.2225869993434],[2211.6802906448684],[1540.2597402597403],[3033.552679307502],[8905.74513990336],[8265.239059279913],[5848.885782679319],[11060.644329896908],[280.7347670250896],[3050.118187787262],[2125.5571123248633],[3061.8896913985554],[4491.862657592324],[3275.550290431061],[4128.331637596899],[2728.8685861941676],[4190.439856373429],[230.18082788671023],[4070.8102513553476],[9219.22440987708],[3707.4157257515985],[2090.926315789474],[361.53388658367913],[2077.031007751938],[3802.8031361180656],[7293.648063078505],[1130.7003112494442],[3198.666875195496],[3099.7352608625424],[7989.264864188259],[1767.3217539863326],[7476.958975734013],[8898.836279698233],[1838.6883682920186],[1525.9957391019339],[6065.253986614889],[4131.5856880733945],[6959.648356401384],[7417.8045492204565],[6868.492504015706],[4886.258692076456],[9348.551420741382],[232.96817625458996],[2593.4968205128207],[1768.1355087606494],[2535.90623219779],[3855.9582915031488],[2730.091933632474],[3461.433275288903],[2266.0684110111747],[3516.369948025754],[193.74750356633382],[3372.5646860887277],[7686.062015503876],[3182.441726618705],[1746.7027453455348],[299.912109375],[1743.9703495630463],[3151.627277747101],[6283.489698492463],[940.2641221374046],[2653.9943104233043],[2796.8144874715263],[6925.378508722354],[1529.8799044694642],[6200.554656999442],[7382.461309159215],[1535.3702235039655],[1274.3467424573678],[5037.136305809657],[3422.45339848956],[5765.297637558308],[5225.490828085036]],\"domain\":{\"x\":[0.0,1.0],\"y\":[0.0,1.0]},\"hovertemplate\":\"labels=%{label}<br>sum_WBev_sum=%{value}<br>parent=%{parent}<br>id=%{id}<br>sum_WBev=%{color}<extra></extra>\",\"ids\":[\"WBev nach Quartier, Herkunft und Geschlecht, 2021/Affoltern/Ausl\\u00e4nder/in/M\",\"WBev nach Quartier, Herkunft und Geschlecht, 2021/Albisrieden/Ausl\\u00e4nder/in/M\",\"WBev nach Quartier, Herkunft und Geschlecht, 2021/Alt-Wiedikon/Ausl\\u00e4nder/in/M\",\"WBev nach Quartier, Herkunft und Geschlecht, 2021/Altstetten/Ausl\\u00e4nder/in/M\",\"WBev nach Quartier, Herkunft und Geschlecht, 2021/City/Ausl\\u00e4nder/in/M\",\"WBev nach Quartier, Herkunft und Geschlecht, 2021/Enge/Ausl\\u00e4nder/in/M\",\"WBev nach Quartier, Herkunft und Geschlecht, 2021/Escher Wyss/Ausl\\u00e4nder/in/M\",\"WBev nach Quartier, Herkunft und Geschlecht, 2021/Fluntern/Ausl\\u00e4nder/in/M\",\"WBev nach Quartier, Herkunft und Geschlecht, 2021/Friesenberg/Ausl\\u00e4nder/in/M\",\"WBev nach Quartier, Herkunft und Geschlecht, 2021/Gewerbeschule/Ausl\\u00e4nder/in/M\",\"WBev nach Quartier, Herkunft und Geschlecht, 2021/Hard/Ausl\\u00e4nder/in/M\",\"WBev nach Quartier, Herkunft und Geschlecht, 2021/Hirslanden/Ausl\\u00e4nder/in/M\",\"WBev nach Quartier, Herkunft und Geschlecht, 2021/Hirzenbach/Ausl\\u00e4nder/in/M\",\"WBev nach Quartier, Herkunft und Geschlecht, 2021/Hochschulen/Ausl\\u00e4nder/in/M\",\"WBev nach Quartier, Herkunft und Geschlecht, 2021/Hottingen/Ausl\\u00e4nder/in/M\",\"WBev nach Quartier, Herkunft und Geschlecht, 2021/H\\u00f6ngg/Ausl\\u00e4nder/in/M\",\"WBev nach Quartier, Herkunft und Geschlecht, 2021/Langstrasse/Ausl\\u00e4nder/in/M\",\"WBev nach Quartier, Herkunft und Geschlecht, 2021/Leimbach/Ausl\\u00e4nder/in/M\",\"WBev nach Quartier, Herkunft und Geschlecht, 2021/Lindenhof/Ausl\\u00e4nder/in/M\",\"WBev nach Quartier, Herkunft und Geschlecht, 2021/M\\u00fchlebach/Ausl\\u00e4nder/in/M\",\"WBev nach Quartier, Herkunft und Geschlecht, 2021/Oberstrass/Ausl\\u00e4nder/in/M\",\"WBev nach Quartier, Herkunft und Geschlecht, 2021/Oerlikon/Ausl\\u00e4nder/in/M\",\"WBev nach Quartier, Herkunft und Geschlecht, 2021/Rathaus/Ausl\\u00e4nder/in/M\",\"WBev nach Quartier, Herkunft und Geschlecht, 2021/Saatlen/Ausl\\u00e4nder/in/M\",\"WBev nach Quartier, Herkunft und Geschlecht, 2021/Schwamendingen-Mitte/Ausl\\u00e4nder/in/M\",\"WBev nach Quartier, Herkunft und Geschlecht, 2021/Seebach/Ausl\\u00e4nder/in/M\",\"WBev nach Quartier, Herkunft und Geschlecht, 2021/Seefeld/Ausl\\u00e4nder/in/M\",\"WBev nach Quartier, Herkunft und Geschlecht, 2021/Sihlfeld/Ausl\\u00e4nder/in/M\",\"WBev nach Quartier, Herkunft und Geschlecht, 2021/Unterstrass/Ausl\\u00e4nder/in/M\",\"WBev nach Quartier, Herkunft und Geschlecht, 2021/Weinegg/Ausl\\u00e4nder/in/M\",\"WBev nach Quartier, Herkunft und Geschlecht, 2021/Werd/Ausl\\u00e4nder/in/M\",\"WBev nach Quartier, Herkunft und Geschlecht, 2021/Wipkingen/Ausl\\u00e4nder/in/M\",\"WBev nach Quartier, Herkunft und Geschlecht, 2021/Witikon/Ausl\\u00e4nder/in/M\",\"WBev nach Quartier, Herkunft und Geschlecht, 2021/Wollishofen/Ausl\\u00e4nder/in/M\",\"WBev nach Quartier, Herkunft und Geschlecht, 2021/Affoltern/Schweizer/in/M\",\"WBev nach Quartier, Herkunft und Geschlecht, 2021/Albisrieden/Schweizer/in/M\",\"WBev nach Quartier, Herkunft und Geschlecht, 2021/Alt-Wiedikon/Schweizer/in/M\",\"WBev nach Quartier, Herkunft und Geschlecht, 2021/Altstetten/Schweizer/in/M\",\"WBev nach Quartier, Herkunft und Geschlecht, 2021/City/Schweizer/in/M\",\"WBev nach Quartier, Herkunft und Geschlecht, 2021/Enge/Schweizer/in/M\",\"WBev nach Quartier, Herkunft und Geschlecht, 2021/Escher Wyss/Schweizer/in/M\",\"WBev nach Quartier, Herkunft und Geschlecht, 2021/Fluntern/Schweizer/in/M\",\"WBev nach Quartier, Herkunft und Geschlecht, 2021/Friesenberg/Schweizer/in/M\",\"WBev nach Quartier, Herkunft und Geschlecht, 2021/Gewerbeschule/Schweizer/in/M\",\"WBev nach Quartier, Herkunft und Geschlecht, 2021/Hard/Schweizer/in/M\",\"WBev nach Quartier, Herkunft und Geschlecht, 2021/Hirslanden/Schweizer/in/M\",\"WBev nach Quartier, Herkunft und Geschlecht, 2021/Hirzenbach/Schweizer/in/M\",\"WBev nach Quartier, Herkunft und Geschlecht, 2021/Hochschulen/Schweizer/in/M\",\"WBev nach Quartier, Herkunft und Geschlecht, 2021/Hottingen/Schweizer/in/M\",\"WBev nach Quartier, Herkunft und Geschlecht, 2021/H\\u00f6ngg/Schweizer/in/M\",\"WBev nach Quartier, Herkunft und Geschlecht, 2021/Langstrasse/Schweizer/in/M\",\"WBev nach Quartier, Herkunft und Geschlecht, 2021/Leimbach/Schweizer/in/M\",\"WBev nach Quartier, Herkunft und Geschlecht, 2021/Lindenhof/Schweizer/in/M\",\"WBev nach Quartier, Herkunft und Geschlecht, 2021/M\\u00fchlebach/Schweizer/in/M\",\"WBev nach Quartier, Herkunft und Geschlecht, 2021/Oberstrass/Schweizer/in/M\",\"WBev nach Quartier, Herkunft und Geschlecht, 2021/Oerlikon/Schweizer/in/M\",\"WBev nach Quartier, Herkunft und Geschlecht, 2021/Rathaus/Schweizer/in/M\",\"WBev nach Quartier, Herkunft und Geschlecht, 2021/Saatlen/Schweizer/in/M\",\"WBev nach Quartier, Herkunft und Geschlecht, 2021/Schwamendingen-Mitte/Schweizer/in/M\",\"WBev nach Quartier, Herkunft und Geschlecht, 2021/Seebach/Schweizer/in/M\",\"WBev nach Quartier, Herkunft und Geschlecht, 2021/Seefeld/Schweizer/in/M\",\"WBev nach Quartier, Herkunft und Geschlecht, 2021/Sihlfeld/Schweizer/in/M\",\"WBev nach Quartier, Herkunft und Geschlecht, 2021/Unterstrass/Schweizer/in/M\",\"WBev nach Quartier, Herkunft und Geschlecht, 2021/Weinegg/Schweizer/in/M\",\"WBev nach Quartier, Herkunft und Geschlecht, 2021/Werd/Schweizer/in/M\",\"WBev nach Quartier, Herkunft und Geschlecht, 2021/Wipkingen/Schweizer/in/M\",\"WBev nach Quartier, Herkunft und Geschlecht, 2021/Witikon/Schweizer/in/M\",\"WBev nach Quartier, Herkunft und Geschlecht, 2021/Wollishofen/Schweizer/in/M\",\"WBev nach Quartier, Herkunft und Geschlecht, 2021/Affoltern/Ausl\\u00e4nder/in/W\",\"WBev nach Quartier, Herkunft und Geschlecht, 2021/Albisrieden/Ausl\\u00e4nder/in/W\",\"WBev nach Quartier, Herkunft und Geschlecht, 2021/Alt-Wiedikon/Ausl\\u00e4nder/in/W\",\"WBev nach Quartier, Herkunft und Geschlecht, 2021/Altstetten/Ausl\\u00e4nder/in/W\",\"WBev nach Quartier, Herkunft und Geschlecht, 2021/City/Ausl\\u00e4nder/in/W\",\"WBev nach Quartier, Herkunft und Geschlecht, 2021/Enge/Ausl\\u00e4nder/in/W\",\"WBev nach Quartier, Herkunft und Geschlecht, 2021/Escher Wyss/Ausl\\u00e4nder/in/W\",\"WBev nach Quartier, Herkunft und Geschlecht, 2021/Fluntern/Ausl\\u00e4nder/in/W\",\"WBev nach Quartier, Herkunft und Geschlecht, 2021/Friesenberg/Ausl\\u00e4nder/in/W\",\"WBev nach Quartier, Herkunft und Geschlecht, 2021/Gewerbeschule/Ausl\\u00e4nder/in/W\",\"WBev nach Quartier, Herkunft und Geschlecht, 2021/Hard/Ausl\\u00e4nder/in/W\",\"WBev nach Quartier, Herkunft und Geschlecht, 2021/Hirslanden/Ausl\\u00e4nder/in/W\",\"WBev nach Quartier, Herkunft und Geschlecht, 2021/Hirzenbach/Ausl\\u00e4nder/in/W\",\"WBev nach Quartier, Herkunft und Geschlecht, 2021/Hochschulen/Ausl\\u00e4nder/in/W\",\"WBev nach Quartier, Herkunft und Geschlecht, 2021/Hottingen/Ausl\\u00e4nder/in/W\",\"WBev nach Quartier, Herkunft und Geschlecht, 2021/H\\u00f6ngg/Ausl\\u00e4nder/in/W\",\"WBev nach Quartier, Herkunft und Geschlecht, 2021/Langstrasse/Ausl\\u00e4nder/in/W\",\"WBev nach Quartier, Herkunft und Geschlecht, 2021/Leimbach/Ausl\\u00e4nder/in/W\",\"WBev nach Quartier, Herkunft und Geschlecht, 2021/Lindenhof/Ausl\\u00e4nder/in/W\",\"WBev nach Quartier, Herkunft und Geschlecht, 2021/M\\u00fchlebach/Ausl\\u00e4nder/in/W\",\"WBev nach Quartier, Herkunft und Geschlecht, 2021/Oberstrass/Ausl\\u00e4nder/in/W\",\"WBev nach Quartier, Herkunft und Geschlecht, 2021/Oerlikon/Ausl\\u00e4nder/in/W\",\"WBev nach Quartier, Herkunft und Geschlecht, 2021/Rathaus/Ausl\\u00e4nder/in/W\",\"WBev nach Quartier, Herkunft und Geschlecht, 2021/Saatlen/Ausl\\u00e4nder/in/W\",\"WBev nach Quartier, Herkunft und Geschlecht, 2021/Schwamendingen-Mitte/Ausl\\u00e4nder/in/W\",\"WBev nach Quartier, Herkunft und Geschlecht, 2021/Seebach/Ausl\\u00e4nder/in/W\",\"WBev nach Quartier, Herkunft und Geschlecht, 2021/Seefeld/Ausl\\u00e4nder/in/W\",\"WBev nach Quartier, Herkunft und Geschlecht, 2021/Sihlfeld/Ausl\\u00e4nder/in/W\",\"WBev nach Quartier, Herkunft und Geschlecht, 2021/Unterstrass/Ausl\\u00e4nder/in/W\",\"WBev nach Quartier, Herkunft und Geschlecht, 2021/Weinegg/Ausl\\u00e4nder/in/W\",\"WBev nach Quartier, Herkunft und Geschlecht, 2021/Werd/Ausl\\u00e4nder/in/W\",\"WBev nach Quartier, Herkunft und Geschlecht, 2021/Wipkingen/Ausl\\u00e4nder/in/W\",\"WBev nach Quartier, Herkunft und Geschlecht, 2021/Witikon/Ausl\\u00e4nder/in/W\",\"WBev nach Quartier, Herkunft und Geschlecht, 2021/Wollishofen/Ausl\\u00e4nder/in/W\",\"WBev nach Quartier, Herkunft und Geschlecht, 2021/Affoltern/Schweizer/in/W\",\"WBev nach Quartier, Herkunft und Geschlecht, 2021/Albisrieden/Schweizer/in/W\",\"WBev nach Quartier, Herkunft und Geschlecht, 2021/Alt-Wiedikon/Schweizer/in/W\",\"WBev nach Quartier, Herkunft und Geschlecht, 2021/Altstetten/Schweizer/in/W\",\"WBev nach Quartier, Herkunft und Geschlecht, 2021/City/Schweizer/in/W\",\"WBev nach Quartier, Herkunft und Geschlecht, 2021/Enge/Schweizer/in/W\",\"WBev nach Quartier, Herkunft und Geschlecht, 2021/Escher Wyss/Schweizer/in/W\",\"WBev nach Quartier, Herkunft und Geschlecht, 2021/Fluntern/Schweizer/in/W\",\"WBev nach Quartier, Herkunft und Geschlecht, 2021/Friesenberg/Schweizer/in/W\",\"WBev nach Quartier, Herkunft und Geschlecht, 2021/Gewerbeschule/Schweizer/in/W\",\"WBev nach Quartier, Herkunft und Geschlecht, 2021/Hard/Schweizer/in/W\",\"WBev nach Quartier, Herkunft und Geschlecht, 2021/Hirslanden/Schweizer/in/W\",\"WBev nach Quartier, Herkunft und Geschlecht, 2021/Hirzenbach/Schweizer/in/W\",\"WBev nach Quartier, Herkunft und Geschlecht, 2021/Hochschulen/Schweizer/in/W\",\"WBev nach Quartier, Herkunft und Geschlecht, 2021/Hottingen/Schweizer/in/W\",\"WBev nach Quartier, Herkunft und Geschlecht, 2021/H\\u00f6ngg/Schweizer/in/W\",\"WBev nach Quartier, Herkunft und Geschlecht, 2021/Langstrasse/Schweizer/in/W\",\"WBev nach Quartier, Herkunft und Geschlecht, 2021/Leimbach/Schweizer/in/W\",\"WBev nach Quartier, Herkunft und Geschlecht, 2021/Lindenhof/Schweizer/in/W\",\"WBev nach Quartier, Herkunft und Geschlecht, 2021/M\\u00fchlebach/Schweizer/in/W\",\"WBev nach Quartier, Herkunft und Geschlecht, 2021/Oberstrass/Schweizer/in/W\",\"WBev nach Quartier, Herkunft und Geschlecht, 2021/Oerlikon/Schweizer/in/W\",\"WBev nach Quartier, Herkunft und Geschlecht, 2021/Rathaus/Schweizer/in/W\",\"WBev nach Quartier, Herkunft und Geschlecht, 2021/Saatlen/Schweizer/in/W\",\"WBev nach Quartier, Herkunft und Geschlecht, 2021/Schwamendingen-Mitte/Schweizer/in/W\",\"WBev nach Quartier, Herkunft und Geschlecht, 2021/Seebach/Schweizer/in/W\",\"WBev nach Quartier, Herkunft und Geschlecht, 2021/Seefeld/Schweizer/in/W\",\"WBev nach Quartier, Herkunft und Geschlecht, 2021/Sihlfeld/Schweizer/in/W\",\"WBev nach Quartier, Herkunft und Geschlecht, 2021/Unterstrass/Schweizer/in/W\",\"WBev nach Quartier, Herkunft und Geschlecht, 2021/Weinegg/Schweizer/in/W\",\"WBev nach Quartier, Herkunft und Geschlecht, 2021/Werd/Schweizer/in/W\",\"WBev nach Quartier, Herkunft und Geschlecht, 2021/Wipkingen/Schweizer/in/W\",\"WBev nach Quartier, Herkunft und Geschlecht, 2021/Witikon/Schweizer/in/W\",\"WBev nach Quartier, Herkunft und Geschlecht, 2021/Wollishofen/Schweizer/in/W\",\"WBev nach Quartier, Herkunft und Geschlecht, 2021/Affoltern/Ausl\\u00e4nder/in\",\"WBev nach Quartier, Herkunft und Geschlecht, 2021/Albisrieden/Ausl\\u00e4nder/in\",\"WBev nach Quartier, Herkunft und Geschlecht, 2021/Alt-Wiedikon/Ausl\\u00e4nder/in\",\"WBev nach Quartier, Herkunft und Geschlecht, 2021/Altstetten/Ausl\\u00e4nder/in\",\"WBev nach Quartier, Herkunft und Geschlecht, 2021/City/Ausl\\u00e4nder/in\",\"WBev nach Quartier, Herkunft und Geschlecht, 2021/Enge/Ausl\\u00e4nder/in\",\"WBev nach Quartier, Herkunft und Geschlecht, 2021/Escher Wyss/Ausl\\u00e4nder/in\",\"WBev nach Quartier, Herkunft und Geschlecht, 2021/Fluntern/Ausl\\u00e4nder/in\",\"WBev nach Quartier, Herkunft und Geschlecht, 2021/Friesenberg/Ausl\\u00e4nder/in\",\"WBev nach Quartier, Herkunft und Geschlecht, 2021/Gewerbeschule/Ausl\\u00e4nder/in\",\"WBev nach Quartier, Herkunft und Geschlecht, 2021/Hard/Ausl\\u00e4nder/in\",\"WBev nach Quartier, Herkunft und Geschlecht, 2021/Hirslanden/Ausl\\u00e4nder/in\",\"WBev nach Quartier, Herkunft und Geschlecht, 2021/Hirzenbach/Ausl\\u00e4nder/in\",\"WBev nach Quartier, Herkunft und Geschlecht, 2021/Hochschulen/Ausl\\u00e4nder/in\",\"WBev nach Quartier, Herkunft und Geschlecht, 2021/Hottingen/Ausl\\u00e4nder/in\",\"WBev nach Quartier, Herkunft und Geschlecht, 2021/H\\u00f6ngg/Ausl\\u00e4nder/in\",\"WBev nach Quartier, Herkunft und Geschlecht, 2021/Langstrasse/Ausl\\u00e4nder/in\",\"WBev nach Quartier, Herkunft und Geschlecht, 2021/Leimbach/Ausl\\u00e4nder/in\",\"WBev nach Quartier, Herkunft und Geschlecht, 2021/Lindenhof/Ausl\\u00e4nder/in\",\"WBev nach Quartier, Herkunft und Geschlecht, 2021/M\\u00fchlebach/Ausl\\u00e4nder/in\",\"WBev nach Quartier, Herkunft und Geschlecht, 2021/Oberstrass/Ausl\\u00e4nder/in\",\"WBev nach Quartier, Herkunft und Geschlecht, 2021/Oerlikon/Ausl\\u00e4nder/in\",\"WBev nach Quartier, Herkunft und Geschlecht, 2021/Rathaus/Ausl\\u00e4nder/in\",\"WBev nach Quartier, Herkunft und Geschlecht, 2021/Saatlen/Ausl\\u00e4nder/in\",\"WBev nach Quartier, Herkunft und Geschlecht, 2021/Schwamendingen-Mitte/Ausl\\u00e4nder/in\",\"WBev nach Quartier, Herkunft und Geschlecht, 2021/Seebach/Ausl\\u00e4nder/in\",\"WBev nach Quartier, Herkunft und Geschlecht, 2021/Seefeld/Ausl\\u00e4nder/in\",\"WBev nach Quartier, Herkunft und Geschlecht, 2021/Sihlfeld/Ausl\\u00e4nder/in\",\"WBev nach Quartier, Herkunft und Geschlecht, 2021/Unterstrass/Ausl\\u00e4nder/in\",\"WBev nach Quartier, Herkunft und Geschlecht, 2021/Weinegg/Ausl\\u00e4nder/in\",\"WBev nach Quartier, Herkunft und Geschlecht, 2021/Werd/Ausl\\u00e4nder/in\",\"WBev nach Quartier, Herkunft und Geschlecht, 2021/Wipkingen/Ausl\\u00e4nder/in\",\"WBev nach Quartier, Herkunft und Geschlecht, 2021/Witikon/Ausl\\u00e4nder/in\",\"WBev nach Quartier, Herkunft und Geschlecht, 2021/Wollishofen/Ausl\\u00e4nder/in\",\"WBev nach Quartier, Herkunft und Geschlecht, 2021/Affoltern/Schweizer/in\",\"WBev nach Quartier, Herkunft und Geschlecht, 2021/Albisrieden/Schweizer/in\",\"WBev nach Quartier, Herkunft und Geschlecht, 2021/Alt-Wiedikon/Schweizer/in\",\"WBev nach Quartier, Herkunft und Geschlecht, 2021/Altstetten/Schweizer/in\",\"WBev nach Quartier, Herkunft und Geschlecht, 2021/City/Schweizer/in\",\"WBev nach Quartier, Herkunft und Geschlecht, 2021/Enge/Schweizer/in\",\"WBev nach Quartier, Herkunft und Geschlecht, 2021/Escher Wyss/Schweizer/in\",\"WBev nach Quartier, Herkunft und Geschlecht, 2021/Fluntern/Schweizer/in\",\"WBev nach Quartier, Herkunft und Geschlecht, 2021/Friesenberg/Schweizer/in\",\"WBev nach Quartier, Herkunft und Geschlecht, 2021/Gewerbeschule/Schweizer/in\",\"WBev nach Quartier, Herkunft und Geschlecht, 2021/Hard/Schweizer/in\",\"WBev nach Quartier, Herkunft und Geschlecht, 2021/Hirslanden/Schweizer/in\",\"WBev nach Quartier, Herkunft und Geschlecht, 2021/Hirzenbach/Schweizer/in\",\"WBev nach Quartier, Herkunft und Geschlecht, 2021/Hochschulen/Schweizer/in\",\"WBev nach Quartier, Herkunft und Geschlecht, 2021/Hottingen/Schweizer/in\",\"WBev nach Quartier, Herkunft und Geschlecht, 2021/H\\u00f6ngg/Schweizer/in\",\"WBev nach Quartier, Herkunft und Geschlecht, 2021/Langstrasse/Schweizer/in\",\"WBev nach Quartier, Herkunft und Geschlecht, 2021/Leimbach/Schweizer/in\",\"WBev nach Quartier, Herkunft und Geschlecht, 2021/Lindenhof/Schweizer/in\",\"WBev nach Quartier, Herkunft und Geschlecht, 2021/M\\u00fchlebach/Schweizer/in\",\"WBev nach Quartier, Herkunft und Geschlecht, 2021/Oberstrass/Schweizer/in\",\"WBev nach Quartier, Herkunft und Geschlecht, 2021/Oerlikon/Schweizer/in\",\"WBev nach Quartier, Herkunft und Geschlecht, 2021/Rathaus/Schweizer/in\",\"WBev nach Quartier, Herkunft und Geschlecht, 2021/Saatlen/Schweizer/in\",\"WBev nach Quartier, Herkunft und Geschlecht, 2021/Schwamendingen-Mitte/Schweizer/in\",\"WBev nach Quartier, Herkunft und Geschlecht, 2021/Seebach/Schweizer/in\",\"WBev nach Quartier, Herkunft und Geschlecht, 2021/Seefeld/Schweizer/in\",\"WBev nach Quartier, Herkunft und Geschlecht, 2021/Sihlfeld/Schweizer/in\",\"WBev nach Quartier, Herkunft und Geschlecht, 2021/Unterstrass/Schweizer/in\",\"WBev nach Quartier, Herkunft und Geschlecht, 2021/Weinegg/Schweizer/in\",\"WBev nach Quartier, Herkunft und Geschlecht, 2021/Werd/Schweizer/in\",\"WBev nach Quartier, Herkunft und Geschlecht, 2021/Wipkingen/Schweizer/in\",\"WBev nach Quartier, Herkunft und Geschlecht, 2021/Witikon/Schweizer/in\",\"WBev nach Quartier, Herkunft und Geschlecht, 2021/Wollishofen/Schweizer/in\",\"WBev nach Quartier, Herkunft und Geschlecht, 2021/Affoltern\",\"WBev nach Quartier, Herkunft und Geschlecht, 2021/Albisrieden\",\"WBev nach Quartier, Herkunft und Geschlecht, 2021/Alt-Wiedikon\",\"WBev nach Quartier, Herkunft und Geschlecht, 2021/Altstetten\",\"WBev nach Quartier, Herkunft und Geschlecht, 2021/City\",\"WBev nach Quartier, Herkunft und Geschlecht, 2021/Enge\",\"WBev nach Quartier, Herkunft und Geschlecht, 2021/Escher Wyss\",\"WBev nach Quartier, Herkunft und Geschlecht, 2021/Fluntern\",\"WBev nach Quartier, Herkunft und Geschlecht, 2021/Friesenberg\",\"WBev nach Quartier, Herkunft und Geschlecht, 2021/Gewerbeschule\",\"WBev nach Quartier, Herkunft und Geschlecht, 2021/Hard\",\"WBev nach Quartier, Herkunft und Geschlecht, 2021/Hirslanden\",\"WBev nach Quartier, Herkunft und Geschlecht, 2021/Hirzenbach\",\"WBev nach Quartier, Herkunft und Geschlecht, 2021/Hochschulen\",\"WBev nach Quartier, Herkunft und Geschlecht, 2021/Hottingen\",\"WBev nach Quartier, Herkunft und Geschlecht, 2021/H\\u00f6ngg\",\"WBev nach Quartier, Herkunft und Geschlecht, 2021/Langstrasse\",\"WBev nach Quartier, Herkunft und Geschlecht, 2021/Leimbach\",\"WBev nach Quartier, Herkunft und Geschlecht, 2021/Lindenhof\",\"WBev nach Quartier, Herkunft und Geschlecht, 2021/M\\u00fchlebach\",\"WBev nach Quartier, Herkunft und Geschlecht, 2021/Oberstrass\",\"WBev nach Quartier, Herkunft und Geschlecht, 2021/Oerlikon\",\"WBev nach Quartier, Herkunft und Geschlecht, 2021/Rathaus\",\"WBev nach Quartier, Herkunft und Geschlecht, 2021/Saatlen\",\"WBev nach Quartier, Herkunft und Geschlecht, 2021/Schwamendingen-Mitte\",\"WBev nach Quartier, Herkunft und Geschlecht, 2021/Seebach\",\"WBev nach Quartier, Herkunft und Geschlecht, 2021/Seefeld\",\"WBev nach Quartier, Herkunft und Geschlecht, 2021/Sihlfeld\",\"WBev nach Quartier, Herkunft und Geschlecht, 2021/Unterstrass\",\"WBev nach Quartier, Herkunft und Geschlecht, 2021/Weinegg\",\"WBev nach Quartier, Herkunft und Geschlecht, 2021/Werd\",\"WBev nach Quartier, Herkunft und Geschlecht, 2021/Wipkingen\",\"WBev nach Quartier, Herkunft und Geschlecht, 2021/Witikon\",\"WBev nach Quartier, Herkunft und Geschlecht, 2021/Wollishofen\",\"WBev nach Quartier, Herkunft und Geschlecht, 2021\"],\"labels\":[\"M\",\"M\",\"M\",\"M\",\"M\",\"M\",\"M\",\"M\",\"M\",\"M\",\"M\",\"M\",\"M\",\"M\",\"M\",\"M\",\"M\",\"M\",\"M\",\"M\",\"M\",\"M\",\"M\",\"M\",\"M\",\"M\",\"M\",\"M\",\"M\",\"M\",\"M\",\"M\",\"M\",\"M\",\"M\",\"M\",\"M\",\"M\",\"M\",\"M\",\"M\",\"M\",\"M\",\"M\",\"M\",\"M\",\"M\",\"M\",\"M\",\"M\",\"M\",\"M\",\"M\",\"M\",\"M\",\"M\",\"M\",\"M\",\"M\",\"M\",\"M\",\"M\",\"M\",\"M\",\"M\",\"M\",\"M\",\"M\",\"W\",\"W\",\"W\",\"W\",\"W\",\"W\",\"W\",\"W\",\"W\",\"W\",\"W\",\"W\",\"W\",\"W\",\"W\",\"W\",\"W\",\"W\",\"W\",\"W\",\"W\",\"W\",\"W\",\"W\",\"W\",\"W\",\"W\",\"W\",\"W\",\"W\",\"W\",\"W\",\"W\",\"W\",\"W\",\"W\",\"W\",\"W\",\"W\",\"W\",\"W\",\"W\",\"W\",\"W\",\"W\",\"W\",\"W\",\"W\",\"W\",\"W\",\"W\",\"W\",\"W\",\"W\",\"W\",\"W\",\"W\",\"W\",\"W\",\"W\",\"W\",\"W\",\"W\",\"W\",\"W\",\"W\",\"W\",\"W\",\"Ausl\\u00e4nder/in\",\"Ausl\\u00e4nder/in\",\"Ausl\\u00e4nder/in\",\"Ausl\\u00e4nder/in\",\"Ausl\\u00e4nder/in\",\"Ausl\\u00e4nder/in\",\"Ausl\\u00e4nder/in\",\"Ausl\\u00e4nder/in\",\"Ausl\\u00e4nder/in\",\"Ausl\\u00e4nder/in\",\"Ausl\\u00e4nder/in\",\"Ausl\\u00e4nder/in\",\"Ausl\\u00e4nder/in\",\"Ausl\\u00e4nder/in\",\"Ausl\\u00e4nder/in\",\"Ausl\\u00e4nder/in\",\"Ausl\\u00e4nder/in\",\"Ausl\\u00e4nder/in\",\"Ausl\\u00e4nder/in\",\"Ausl\\u00e4nder/in\",\"Ausl\\u00e4nder/in\",\"Ausl\\u00e4nder/in\",\"Ausl\\u00e4nder/in\",\"Ausl\\u00e4nder/in\",\"Ausl\\u00e4nder/in\",\"Ausl\\u00e4nder/in\",\"Ausl\\u00e4nder/in\",\"Ausl\\u00e4nder/in\",\"Ausl\\u00e4nder/in\",\"Ausl\\u00e4nder/in\",\"Ausl\\u00e4nder/in\",\"Ausl\\u00e4nder/in\",\"Ausl\\u00e4nder/in\",\"Ausl\\u00e4nder/in\",\"Schweizer/in\",\"Schweizer/in\",\"Schweizer/in\",\"Schweizer/in\",\"Schweizer/in\",\"Schweizer/in\",\"Schweizer/in\",\"Schweizer/in\",\"Schweizer/in\",\"Schweizer/in\",\"Schweizer/in\",\"Schweizer/in\",\"Schweizer/in\",\"Schweizer/in\",\"Schweizer/in\",\"Schweizer/in\",\"Schweizer/in\",\"Schweizer/in\",\"Schweizer/in\",\"Schweizer/in\",\"Schweizer/in\",\"Schweizer/in\",\"Schweizer/in\",\"Schweizer/in\",\"Schweizer/in\",\"Schweizer/in\",\"Schweizer/in\",\"Schweizer/in\",\"Schweizer/in\",\"Schweizer/in\",\"Schweizer/in\",\"Schweizer/in\",\"Schweizer/in\",\"Schweizer/in\",\"Affoltern\",\"Albisrieden\",\"Alt-Wiedikon\",\"Altstetten\",\"City\",\"Enge\",\"Escher Wyss\",\"Fluntern\",\"Friesenberg\",\"Gewerbeschule\",\"Hard\",\"Hirslanden\",\"Hirzenbach\",\"Hochschulen\",\"Hottingen\",\"H\\u00f6ngg\",\"Langstrasse\",\"Leimbach\",\"Lindenhof\",\"M\\u00fchlebach\",\"Oberstrass\",\"Oerlikon\",\"Rathaus\",\"Saatlen\",\"Schwamendingen-Mitte\",\"Seebach\",\"Seefeld\",\"Sihlfeld\",\"Unterstrass\",\"Weinegg\",\"Werd\",\"Wipkingen\",\"Witikon\",\"Wollishofen\",\"WBev nach Quartier, Herkunft und Geschlecht, 2021\"],\"marker\":{\"coloraxis\":\"coloraxis\",\"colors\":[4637.0,3168.0,3221.0,6871.0,138.0,1915.0,1125.0,1344.0,1021.0,1755.0,2369.0,950.0,2392.0,142.0,1611.0,3316.0,2670.0,1111.0,165.0,1173.0,1730.0,5134.0,584.0,1249.0,2567.0,5709.0,1169.0,3526.0,3589.0,997.0,843.0,2348.0,1560.0,3089.0,8654.0,7883.0,5801.0,10887.0,301.0,2934.0,2311.0,2826.0,4266.0,3393.0,4091.0,2477.0,3945.0,217.0,3830.0,8702.0,4018.0,2046.0,365.0,1900.0,3617.0,7201.0,1208.0,3124.0,2981.0,8035.0,1615.0,7093.0,8483.0,1759.0,1553.0,5763.0,3663.0,6531.0,4119.0,2746.0,2713.0,5678.0,121.0,1743.0,885.0,1341.0,973.0,1286.0,2009.0,970.0,2144.0,100.0,1566.0,2808.0,1794.0,1047.0,136.0,1107.0,1547.0,4161.0,442.0,1145.0,2217.0,4854.0,1181.0,3072.0,3138.0,880.0,680.0,2056.0,1520.0,2976.0,9144.0,8615.0,5896.0,11229.0,257.0,3158.0,1900.0,3266.0,4697.0,3149.0,4165.0,2941.0,4410.0,242.0,4286.0,9684.0,3333.0,2134.0,358.0,2228.0,3972.0,7384.0,1041.0,3270.0,3210.0,7943.0,1897.0,7825.0,9279.0,1912.0,1498.0,6340.0,4512.0,7341.0,4393.322293284605,2972.05613797768,2988.7445230872936,6331.207665949478,130.05791505791507,1833.0437397484964,1019.3283582089553,1342.5016759776536,997.5777331995988,1556.6658993752055,2203.801279122887,960.1041666666666,2274.779541446208,124.64462809917356,1588.8186968838527,3083.069888961463,2317.951612903226,1079.9490268767377,151.8970099667774,1140.9552631578947,1643.6097039975587,4698.426788596019,522.8265107212476,1199.2589807852967,2404.8030936454848,5316.103095711445,1175.0306382978724,3314.6195816914214,3378.6182547941135,942.1465103889185,770.2225869993434,2211.6802906448684,1540.2597402597403,3033.552679307502,8905.74513990336,8265.239059279913,5848.885782679319,11060.644329896908,280.7347670250896,3050.118187787262,2125.5571123248633,3061.8896913985554,4491.862657592324,3275.550290431061,4128.331637596899,2728.8685861941676,4190.439856373429,230.18082788671023,4070.8102513553476,9219.22440987708,3707.4157257515985,2090.926315789474,361.53388658367913,2077.031007751938,3802.8031361180656,7293.648063078505,1130.7003112494442,3198.666875195496,3099.7352608625424,7989.264864188259,1767.3217539863326,7476.958975734013,8898.836279698233,1838.6883682920186,1525.9957391019339,6065.253986614889,4131.5856880733945,6959.648356401384,7417.8045492204565,6868.492504015706,4886.258692076456,9348.551420741382,232.96817625458996,2593.4968205128207,1768.1355087606494,2535.90623219779,3855.9582915031488,2730.091933632474,3461.433275288903,2266.0684110111747,3516.369948025754,193.74750356633382,3372.5646860887277,7686.062015503876,3182.441726618705,1746.7027453455348,299.912109375,1743.9703495630463,3151.627277747101,6283.489698492463,940.2641221374046,2653.9943104233043,2796.8144874715263,6925.378508722354,1529.8799044694642,6200.554656999442,7382.461309159215,1535.3702235039655,1274.3467424573678,5037.136305809657,3422.45339848956,5765.297637558308,5225.490828085036]},\"name\":\"\",\"parents\":[\"WBev nach Quartier, Herkunft und Geschlecht, 2021/Affoltern/Ausl\\u00e4nder/in\",\"WBev nach Quartier, Herkunft und Geschlecht, 2021/Albisrieden/Ausl\\u00e4nder/in\",\"WBev nach Quartier, Herkunft und Geschlecht, 2021/Alt-Wiedikon/Ausl\\u00e4nder/in\",\"WBev nach Quartier, Herkunft und Geschlecht, 2021/Altstetten/Ausl\\u00e4nder/in\",\"WBev nach Quartier, Herkunft und Geschlecht, 2021/City/Ausl\\u00e4nder/in\",\"WBev nach Quartier, Herkunft und Geschlecht, 2021/Enge/Ausl\\u00e4nder/in\",\"WBev nach Quartier, Herkunft und Geschlecht, 2021/Escher Wyss/Ausl\\u00e4nder/in\",\"WBev nach Quartier, Herkunft und Geschlecht, 2021/Fluntern/Ausl\\u00e4nder/in\",\"WBev nach Quartier, Herkunft und Geschlecht, 2021/Friesenberg/Ausl\\u00e4nder/in\",\"WBev nach Quartier, Herkunft und Geschlecht, 2021/Gewerbeschule/Ausl\\u00e4nder/in\",\"WBev nach Quartier, Herkunft und Geschlecht, 2021/Hard/Ausl\\u00e4nder/in\",\"WBev nach Quartier, Herkunft und Geschlecht, 2021/Hirslanden/Ausl\\u00e4nder/in\",\"WBev nach Quartier, Herkunft und Geschlecht, 2021/Hirzenbach/Ausl\\u00e4nder/in\",\"WBev nach Quartier, Herkunft und Geschlecht, 2021/Hochschulen/Ausl\\u00e4nder/in\",\"WBev nach Quartier, Herkunft und Geschlecht, 2021/Hottingen/Ausl\\u00e4nder/in\",\"WBev nach Quartier, Herkunft und Geschlecht, 2021/H\\u00f6ngg/Ausl\\u00e4nder/in\",\"WBev nach Quartier, Herkunft und Geschlecht, 2021/Langstrasse/Ausl\\u00e4nder/in\",\"WBev nach Quartier, Herkunft und Geschlecht, 2021/Leimbach/Ausl\\u00e4nder/in\",\"WBev nach Quartier, Herkunft und Geschlecht, 2021/Lindenhof/Ausl\\u00e4nder/in\",\"WBev nach Quartier, Herkunft und Geschlecht, 2021/M\\u00fchlebach/Ausl\\u00e4nder/in\",\"WBev nach Quartier, Herkunft und Geschlecht, 2021/Oberstrass/Ausl\\u00e4nder/in\",\"WBev nach Quartier, Herkunft und Geschlecht, 2021/Oerlikon/Ausl\\u00e4nder/in\",\"WBev nach Quartier, Herkunft und Geschlecht, 2021/Rathaus/Ausl\\u00e4nder/in\",\"WBev nach Quartier, Herkunft und Geschlecht, 2021/Saatlen/Ausl\\u00e4nder/in\",\"WBev nach Quartier, Herkunft und Geschlecht, 2021/Schwamendingen-Mitte/Ausl\\u00e4nder/in\",\"WBev nach Quartier, Herkunft und Geschlecht, 2021/Seebach/Ausl\\u00e4nder/in\",\"WBev nach Quartier, Herkunft und Geschlecht, 2021/Seefeld/Ausl\\u00e4nder/in\",\"WBev nach Quartier, Herkunft und Geschlecht, 2021/Sihlfeld/Ausl\\u00e4nder/in\",\"WBev nach Quartier, Herkunft und Geschlecht, 2021/Unterstrass/Ausl\\u00e4nder/in\",\"WBev nach Quartier, Herkunft und Geschlecht, 2021/Weinegg/Ausl\\u00e4nder/in\",\"WBev nach Quartier, Herkunft und Geschlecht, 2021/Werd/Ausl\\u00e4nder/in\",\"WBev nach Quartier, Herkunft und Geschlecht, 2021/Wipkingen/Ausl\\u00e4nder/in\",\"WBev nach Quartier, Herkunft und Geschlecht, 2021/Witikon/Ausl\\u00e4nder/in\",\"WBev nach Quartier, Herkunft und Geschlecht, 2021/Wollishofen/Ausl\\u00e4nder/in\",\"WBev nach Quartier, Herkunft und Geschlecht, 2021/Affoltern/Schweizer/in\",\"WBev nach Quartier, Herkunft und Geschlecht, 2021/Albisrieden/Schweizer/in\",\"WBev nach Quartier, Herkunft und Geschlecht, 2021/Alt-Wiedikon/Schweizer/in\",\"WBev nach Quartier, Herkunft und Geschlecht, 2021/Altstetten/Schweizer/in\",\"WBev nach Quartier, Herkunft und Geschlecht, 2021/City/Schweizer/in\",\"WBev nach Quartier, Herkunft und Geschlecht, 2021/Enge/Schweizer/in\",\"WBev nach Quartier, Herkunft und Geschlecht, 2021/Escher Wyss/Schweizer/in\",\"WBev nach Quartier, Herkunft und Geschlecht, 2021/Fluntern/Schweizer/in\",\"WBev nach Quartier, Herkunft und Geschlecht, 2021/Friesenberg/Schweizer/in\",\"WBev nach Quartier, Herkunft und Geschlecht, 2021/Gewerbeschule/Schweizer/in\",\"WBev nach Quartier, Herkunft und Geschlecht, 2021/Hard/Schweizer/in\",\"WBev nach Quartier, Herkunft und Geschlecht, 2021/Hirslanden/Schweizer/in\",\"WBev nach Quartier, Herkunft und Geschlecht, 2021/Hirzenbach/Schweizer/in\",\"WBev nach Quartier, Herkunft und Geschlecht, 2021/Hochschulen/Schweizer/in\",\"WBev nach Quartier, Herkunft und Geschlecht, 2021/Hottingen/Schweizer/in\",\"WBev nach Quartier, Herkunft und Geschlecht, 2021/H\\u00f6ngg/Schweizer/in\",\"WBev nach Quartier, Herkunft und Geschlecht, 2021/Langstrasse/Schweizer/in\",\"WBev nach Quartier, Herkunft und Geschlecht, 2021/Leimbach/Schweizer/in\",\"WBev nach Quartier, Herkunft und Geschlecht, 2021/Lindenhof/Schweizer/in\",\"WBev nach Quartier, Herkunft und Geschlecht, 2021/M\\u00fchlebach/Schweizer/in\",\"WBev nach Quartier, Herkunft und Geschlecht, 2021/Oberstrass/Schweizer/in\",\"WBev nach Quartier, Herkunft und Geschlecht, 2021/Oerlikon/Schweizer/in\",\"WBev nach Quartier, Herkunft und Geschlecht, 2021/Rathaus/Schweizer/in\",\"WBev nach Quartier, Herkunft und Geschlecht, 2021/Saatlen/Schweizer/in\",\"WBev nach Quartier, Herkunft und Geschlecht, 2021/Schwamendingen-Mitte/Schweizer/in\",\"WBev nach Quartier, Herkunft und Geschlecht, 2021/Seebach/Schweizer/in\",\"WBev nach Quartier, Herkunft und Geschlecht, 2021/Seefeld/Schweizer/in\",\"WBev nach Quartier, Herkunft und Geschlecht, 2021/Sihlfeld/Schweizer/in\",\"WBev nach Quartier, Herkunft und Geschlecht, 2021/Unterstrass/Schweizer/in\",\"WBev nach Quartier, Herkunft und Geschlecht, 2021/Weinegg/Schweizer/in\",\"WBev nach Quartier, Herkunft und Geschlecht, 2021/Werd/Schweizer/in\",\"WBev nach Quartier, Herkunft und Geschlecht, 2021/Wipkingen/Schweizer/in\",\"WBev nach Quartier, Herkunft und Geschlecht, 2021/Witikon/Schweizer/in\",\"WBev nach Quartier, Herkunft und Geschlecht, 2021/Wollishofen/Schweizer/in\",\"WBev nach Quartier, Herkunft und Geschlecht, 2021/Affoltern/Ausl\\u00e4nder/in\",\"WBev nach Quartier, Herkunft und Geschlecht, 2021/Albisrieden/Ausl\\u00e4nder/in\",\"WBev nach Quartier, Herkunft und Geschlecht, 2021/Alt-Wiedikon/Ausl\\u00e4nder/in\",\"WBev nach Quartier, Herkunft und Geschlecht, 2021/Altstetten/Ausl\\u00e4nder/in\",\"WBev nach Quartier, Herkunft und Geschlecht, 2021/City/Ausl\\u00e4nder/in\",\"WBev nach Quartier, Herkunft und Geschlecht, 2021/Enge/Ausl\\u00e4nder/in\",\"WBev nach Quartier, Herkunft und Geschlecht, 2021/Escher Wyss/Ausl\\u00e4nder/in\",\"WBev nach Quartier, Herkunft und Geschlecht, 2021/Fluntern/Ausl\\u00e4nder/in\",\"WBev nach Quartier, Herkunft und Geschlecht, 2021/Friesenberg/Ausl\\u00e4nder/in\",\"WBev nach Quartier, Herkunft und Geschlecht, 2021/Gewerbeschule/Ausl\\u00e4nder/in\",\"WBev nach Quartier, Herkunft und Geschlecht, 2021/Hard/Ausl\\u00e4nder/in\",\"WBev nach Quartier, Herkunft und Geschlecht, 2021/Hirslanden/Ausl\\u00e4nder/in\",\"WBev nach Quartier, Herkunft und Geschlecht, 2021/Hirzenbach/Ausl\\u00e4nder/in\",\"WBev nach Quartier, Herkunft und Geschlecht, 2021/Hochschulen/Ausl\\u00e4nder/in\",\"WBev nach Quartier, Herkunft und Geschlecht, 2021/Hottingen/Ausl\\u00e4nder/in\",\"WBev nach Quartier, Herkunft und Geschlecht, 2021/H\\u00f6ngg/Ausl\\u00e4nder/in\",\"WBev nach Quartier, Herkunft und Geschlecht, 2021/Langstrasse/Ausl\\u00e4nder/in\",\"WBev nach Quartier, Herkunft und Geschlecht, 2021/Leimbach/Ausl\\u00e4nder/in\",\"WBev nach Quartier, Herkunft und Geschlecht, 2021/Lindenhof/Ausl\\u00e4nder/in\",\"WBev nach Quartier, Herkunft und Geschlecht, 2021/M\\u00fchlebach/Ausl\\u00e4nder/in\",\"WBev nach Quartier, Herkunft und Geschlecht, 2021/Oberstrass/Ausl\\u00e4nder/in\",\"WBev nach Quartier, Herkunft und Geschlecht, 2021/Oerlikon/Ausl\\u00e4nder/in\",\"WBev nach Quartier, Herkunft und Geschlecht, 2021/Rathaus/Ausl\\u00e4nder/in\",\"WBev nach Quartier, Herkunft und Geschlecht, 2021/Saatlen/Ausl\\u00e4nder/in\",\"WBev nach Quartier, Herkunft und Geschlecht, 2021/Schwamendingen-Mitte/Ausl\\u00e4nder/in\",\"WBev nach Quartier, Herkunft und Geschlecht, 2021/Seebach/Ausl\\u00e4nder/in\",\"WBev nach Quartier, Herkunft und Geschlecht, 2021/Seefeld/Ausl\\u00e4nder/in\",\"WBev nach Quartier, Herkunft und Geschlecht, 2021/Sihlfeld/Ausl\\u00e4nder/in\",\"WBev nach Quartier, Herkunft und Geschlecht, 2021/Unterstrass/Ausl\\u00e4nder/in\",\"WBev nach Quartier, Herkunft und Geschlecht, 2021/Weinegg/Ausl\\u00e4nder/in\",\"WBev nach Quartier, Herkunft und Geschlecht, 2021/Werd/Ausl\\u00e4nder/in\",\"WBev nach Quartier, Herkunft und Geschlecht, 2021/Wipkingen/Ausl\\u00e4nder/in\",\"WBev nach Quartier, Herkunft und Geschlecht, 2021/Witikon/Ausl\\u00e4nder/in\",\"WBev nach Quartier, Herkunft und Geschlecht, 2021/Wollishofen/Ausl\\u00e4nder/in\",\"WBev nach Quartier, Herkunft und Geschlecht, 2021/Affoltern/Schweizer/in\",\"WBev nach Quartier, Herkunft und Geschlecht, 2021/Albisrieden/Schweizer/in\",\"WBev nach Quartier, Herkunft und Geschlecht, 2021/Alt-Wiedikon/Schweizer/in\",\"WBev nach Quartier, Herkunft und Geschlecht, 2021/Altstetten/Schweizer/in\",\"WBev nach Quartier, Herkunft und Geschlecht, 2021/City/Schweizer/in\",\"WBev nach Quartier, Herkunft und Geschlecht, 2021/Enge/Schweizer/in\",\"WBev nach Quartier, Herkunft und Geschlecht, 2021/Escher Wyss/Schweizer/in\",\"WBev nach Quartier, Herkunft und Geschlecht, 2021/Fluntern/Schweizer/in\",\"WBev nach Quartier, Herkunft und Geschlecht, 2021/Friesenberg/Schweizer/in\",\"WBev nach Quartier, Herkunft und Geschlecht, 2021/Gewerbeschule/Schweizer/in\",\"WBev nach Quartier, Herkunft und Geschlecht, 2021/Hard/Schweizer/in\",\"WBev nach Quartier, Herkunft und Geschlecht, 2021/Hirslanden/Schweizer/in\",\"WBev nach Quartier, Herkunft und Geschlecht, 2021/Hirzenbach/Schweizer/in\",\"WBev nach Quartier, Herkunft und Geschlecht, 2021/Hochschulen/Schweizer/in\",\"WBev nach Quartier, Herkunft und Geschlecht, 2021/Hottingen/Schweizer/in\",\"WBev nach Quartier, Herkunft und Geschlecht, 2021/H\\u00f6ngg/Schweizer/in\",\"WBev nach Quartier, Herkunft und Geschlecht, 2021/Langstrasse/Schweizer/in\",\"WBev nach Quartier, Herkunft und Geschlecht, 2021/Leimbach/Schweizer/in\",\"WBev nach Quartier, Herkunft und Geschlecht, 2021/Lindenhof/Schweizer/in\",\"WBev nach Quartier, Herkunft und Geschlecht, 2021/M\\u00fchlebach/Schweizer/in\",\"WBev nach Quartier, Herkunft und Geschlecht, 2021/Oberstrass/Schweizer/in\",\"WBev nach Quartier, Herkunft und Geschlecht, 2021/Oerlikon/Schweizer/in\",\"WBev nach Quartier, Herkunft und Geschlecht, 2021/Rathaus/Schweizer/in\",\"WBev nach Quartier, Herkunft und Geschlecht, 2021/Saatlen/Schweizer/in\",\"WBev nach Quartier, Herkunft und Geschlecht, 2021/Schwamendingen-Mitte/Schweizer/in\",\"WBev nach Quartier, Herkunft und Geschlecht, 2021/Seebach/Schweizer/in\",\"WBev nach Quartier, Herkunft und Geschlecht, 2021/Seefeld/Schweizer/in\",\"WBev nach Quartier, Herkunft und Geschlecht, 2021/Sihlfeld/Schweizer/in\",\"WBev nach Quartier, Herkunft und Geschlecht, 2021/Unterstrass/Schweizer/in\",\"WBev nach Quartier, Herkunft und Geschlecht, 2021/Weinegg/Schweizer/in\",\"WBev nach Quartier, Herkunft und Geschlecht, 2021/Werd/Schweizer/in\",\"WBev nach Quartier, Herkunft und Geschlecht, 2021/Wipkingen/Schweizer/in\",\"WBev nach Quartier, Herkunft und Geschlecht, 2021/Witikon/Schweizer/in\",\"WBev nach Quartier, Herkunft und Geschlecht, 2021/Wollishofen/Schweizer/in\",\"WBev nach Quartier, Herkunft und Geschlecht, 2021/Affoltern\",\"WBev nach Quartier, Herkunft und Geschlecht, 2021/Albisrieden\",\"WBev nach Quartier, Herkunft und Geschlecht, 2021/Alt-Wiedikon\",\"WBev nach Quartier, Herkunft und Geschlecht, 2021/Altstetten\",\"WBev nach Quartier, Herkunft und Geschlecht, 2021/City\",\"WBev nach Quartier, Herkunft und Geschlecht, 2021/Enge\",\"WBev nach Quartier, Herkunft und Geschlecht, 2021/Escher Wyss\",\"WBev nach Quartier, Herkunft und Geschlecht, 2021/Fluntern\",\"WBev nach Quartier, Herkunft und Geschlecht, 2021/Friesenberg\",\"WBev nach Quartier, Herkunft und Geschlecht, 2021/Gewerbeschule\",\"WBev nach Quartier, Herkunft und Geschlecht, 2021/Hard\",\"WBev nach Quartier, Herkunft und Geschlecht, 2021/Hirslanden\",\"WBev nach Quartier, Herkunft und Geschlecht, 2021/Hirzenbach\",\"WBev nach Quartier, Herkunft und Geschlecht, 2021/Hochschulen\",\"WBev nach Quartier, Herkunft und Geschlecht, 2021/Hottingen\",\"WBev nach Quartier, Herkunft und Geschlecht, 2021/H\\u00f6ngg\",\"WBev nach Quartier, Herkunft und Geschlecht, 2021/Langstrasse\",\"WBev nach Quartier, Herkunft und Geschlecht, 2021/Leimbach\",\"WBev nach Quartier, Herkunft und Geschlecht, 2021/Lindenhof\",\"WBev nach Quartier, Herkunft und Geschlecht, 2021/M\\u00fchlebach\",\"WBev nach Quartier, Herkunft und Geschlecht, 2021/Oberstrass\",\"WBev nach Quartier, Herkunft und Geschlecht, 2021/Oerlikon\",\"WBev nach Quartier, Herkunft und Geschlecht, 2021/Rathaus\",\"WBev nach Quartier, Herkunft und Geschlecht, 2021/Saatlen\",\"WBev nach Quartier, Herkunft und Geschlecht, 2021/Schwamendingen-Mitte\",\"WBev nach Quartier, Herkunft und Geschlecht, 2021/Seebach\",\"WBev nach Quartier, Herkunft und Geschlecht, 2021/Seefeld\",\"WBev nach Quartier, Herkunft und Geschlecht, 2021/Sihlfeld\",\"WBev nach Quartier, Herkunft und Geschlecht, 2021/Unterstrass\",\"WBev nach Quartier, Herkunft und Geschlecht, 2021/Weinegg\",\"WBev nach Quartier, Herkunft und Geschlecht, 2021/Werd\",\"WBev nach Quartier, Herkunft und Geschlecht, 2021/Wipkingen\",\"WBev nach Quartier, Herkunft und Geschlecht, 2021/Witikon\",\"WBev nach Quartier, Herkunft und Geschlecht, 2021/Wollishofen\",\"WBev nach Quartier, Herkunft und Geschlecht, 2021/Affoltern\",\"WBev nach Quartier, Herkunft und Geschlecht, 2021/Albisrieden\",\"WBev nach Quartier, Herkunft und Geschlecht, 2021/Alt-Wiedikon\",\"WBev nach Quartier, Herkunft und Geschlecht, 2021/Altstetten\",\"WBev nach Quartier, Herkunft und Geschlecht, 2021/City\",\"WBev nach Quartier, Herkunft und Geschlecht, 2021/Enge\",\"WBev nach Quartier, Herkunft und Geschlecht, 2021/Escher Wyss\",\"WBev nach Quartier, Herkunft und Geschlecht, 2021/Fluntern\",\"WBev nach Quartier, Herkunft und Geschlecht, 2021/Friesenberg\",\"WBev nach Quartier, Herkunft und Geschlecht, 2021/Gewerbeschule\",\"WBev nach Quartier, Herkunft und Geschlecht, 2021/Hard\",\"WBev nach Quartier, Herkunft und Geschlecht, 2021/Hirslanden\",\"WBev nach Quartier, Herkunft und Geschlecht, 2021/Hirzenbach\",\"WBev nach Quartier, Herkunft und Geschlecht, 2021/Hochschulen\",\"WBev nach Quartier, Herkunft und Geschlecht, 2021/Hottingen\",\"WBev nach Quartier, Herkunft und Geschlecht, 2021/H\\u00f6ngg\",\"WBev nach Quartier, Herkunft und Geschlecht, 2021/Langstrasse\",\"WBev nach Quartier, Herkunft und Geschlecht, 2021/Leimbach\",\"WBev nach Quartier, Herkunft und Geschlecht, 2021/Lindenhof\",\"WBev nach Quartier, Herkunft und Geschlecht, 2021/M\\u00fchlebach\",\"WBev nach Quartier, Herkunft und Geschlecht, 2021/Oberstrass\",\"WBev nach Quartier, Herkunft und Geschlecht, 2021/Oerlikon\",\"WBev nach Quartier, Herkunft und Geschlecht, 2021/Rathaus\",\"WBev nach Quartier, Herkunft und Geschlecht, 2021/Saatlen\",\"WBev nach Quartier, Herkunft und Geschlecht, 2021/Schwamendingen-Mitte\",\"WBev nach Quartier, Herkunft und Geschlecht, 2021/Seebach\",\"WBev nach Quartier, Herkunft und Geschlecht, 2021/Seefeld\",\"WBev nach Quartier, Herkunft und Geschlecht, 2021/Sihlfeld\",\"WBev nach Quartier, Herkunft und Geschlecht, 2021/Unterstrass\",\"WBev nach Quartier, Herkunft und Geschlecht, 2021/Weinegg\",\"WBev nach Quartier, Herkunft und Geschlecht, 2021/Werd\",\"WBev nach Quartier, Herkunft und Geschlecht, 2021/Wipkingen\",\"WBev nach Quartier, Herkunft und Geschlecht, 2021/Witikon\",\"WBev nach Quartier, Herkunft und Geschlecht, 2021/Wollishofen\",\"WBev nach Quartier, Herkunft und Geschlecht, 2021\",\"WBev nach Quartier, Herkunft und Geschlecht, 2021\",\"WBev nach Quartier, Herkunft und Geschlecht, 2021\",\"WBev nach Quartier, Herkunft und Geschlecht, 2021\",\"WBev nach Quartier, Herkunft und Geschlecht, 2021\",\"WBev nach Quartier, Herkunft und Geschlecht, 2021\",\"WBev nach Quartier, Herkunft und Geschlecht, 2021\",\"WBev nach Quartier, Herkunft und Geschlecht, 2021\",\"WBev nach Quartier, Herkunft und Geschlecht, 2021\",\"WBev nach Quartier, Herkunft und Geschlecht, 2021\",\"WBev nach Quartier, Herkunft und Geschlecht, 2021\",\"WBev nach Quartier, Herkunft und Geschlecht, 2021\",\"WBev nach Quartier, Herkunft und Geschlecht, 2021\",\"WBev nach Quartier, Herkunft und Geschlecht, 2021\",\"WBev nach Quartier, Herkunft und Geschlecht, 2021\",\"WBev nach Quartier, Herkunft und Geschlecht, 2021\",\"WBev nach Quartier, Herkunft und Geschlecht, 2021\",\"WBev nach Quartier, Herkunft und Geschlecht, 2021\",\"WBev nach Quartier, Herkunft und Geschlecht, 2021\",\"WBev nach Quartier, Herkunft und Geschlecht, 2021\",\"WBev nach Quartier, Herkunft und Geschlecht, 2021\",\"WBev nach Quartier, Herkunft und Geschlecht, 2021\",\"WBev nach Quartier, Herkunft und Geschlecht, 2021\",\"WBev nach Quartier, Herkunft und Geschlecht, 2021\",\"WBev nach Quartier, Herkunft und Geschlecht, 2021\",\"WBev nach Quartier, Herkunft und Geschlecht, 2021\",\"WBev nach Quartier, Herkunft und Geschlecht, 2021\",\"WBev nach Quartier, Herkunft und Geschlecht, 2021\",\"WBev nach Quartier, Herkunft und Geschlecht, 2021\",\"WBev nach Quartier, Herkunft und Geschlecht, 2021\",\"WBev nach Quartier, Herkunft und Geschlecht, 2021\",\"WBev nach Quartier, Herkunft und Geschlecht, 2021\",\"WBev nach Quartier, Herkunft und Geschlecht, 2021\",\"WBev nach Quartier, Herkunft und Geschlecht, 2021\",\"\"],\"values\":[4637,3168,3221,6871,138,1915,1125,1344,1021,1755,2369,950,2392,142,1611,3316,2670,1111,165,1173,1730,5134,584,1249,2567,5709,1169,3526,3589,997,843,2348,1560,3089,8654,7883,5801,10887,301,2934,2311,2826,4266,3393,4091,2477,3945,217,3830,8702,4018,2046,365,1900,3617,7201,1208,3124,2981,8035,1615,7093,8483,1759,1553,5763,3663,6531,4119,2746,2713,5678,121,1743,885,1341,973,1286,2009,970,2144,100,1566,2808,1794,1047,136,1107,1547,4161,442,1145,2217,4854,1181,3072,3138,880,680,2056,1520,2976,9144,8615,5896,11229,257,3158,1900,3266,4697,3149,4165,2941,4410,242,4286,9684,3333,2134,358,2228,3972,7384,1041,3270,3210,7943,1897,7825,9279,1912,1498,6340,4512,7341,8756,5914,5934,12549,259,3658,2010,2685,1994,3041,4378,1920,4536,242,3177,6124,4464,2158,301,2280,3277,9295,1026,2394,4784,10563,2350,6598,6727,1877,1523,4404,3080,6065,17798,16498,11697,22116,558,6092,4211,6092,8963,6542,8256,5418,8355,459,8116,18386,7351,4180,723,4128,7589,14585,2249,6394,6191,15978,3512,14918,17762,3671,3051,12103,8175,13872,26554,22412,17631,34665,817,9750,6221,8777,10957,9583,12634,7338,12891,701,11293,24510,11815,6338,1024,6408,10866,23880,3275,8788,10975,26541,5862,21516,24489,5548,4574,16507,11255,19937,436332],\"type\":\"treemap\",\"root\":{\"color\":\"grey\"}}],                        {\"template\":{\"data\":{\"bar\":[{\"error_x\":{\"color\":\"#2a3f5f\"},\"error_y\":{\"color\":\"#2a3f5f\"},\"marker\":{\"line\":{\"color\":\"#E5ECF6\",\"width\":0.5},\"pattern\":{\"fillmode\":\"overlay\",\"size\":10,\"solidity\":0.2}},\"type\":\"bar\"}],\"barpolar\":[{\"marker\":{\"line\":{\"color\":\"#E5ECF6\",\"width\":0.5},\"pattern\":{\"fillmode\":\"overlay\",\"size\":10,\"solidity\":0.2}},\"type\":\"barpolar\"}],\"carpet\":[{\"aaxis\":{\"endlinecolor\":\"#2a3f5f\",\"gridcolor\":\"white\",\"linecolor\":\"white\",\"minorgridcolor\":\"white\",\"startlinecolor\":\"#2a3f5f\"},\"baxis\":{\"endlinecolor\":\"#2a3f5f\",\"gridcolor\":\"white\",\"linecolor\":\"white\",\"minorgridcolor\":\"white\",\"startlinecolor\":\"#2a3f5f\"},\"type\":\"carpet\"}],\"choropleth\":[{\"colorbar\":{\"outlinewidth\":0,\"ticks\":\"\"},\"type\":\"choropleth\"}],\"contour\":[{\"colorbar\":{\"outlinewidth\":0,\"ticks\":\"\"},\"colorscale\":[[0.0,\"#0d0887\"],[0.1111111111111111,\"#46039f\"],[0.2222222222222222,\"#7201a8\"],[0.3333333333333333,\"#9c179e\"],[0.4444444444444444,\"#bd3786\"],[0.5555555555555556,\"#d8576b\"],[0.6666666666666666,\"#ed7953\"],[0.7777777777777778,\"#fb9f3a\"],[0.8888888888888888,\"#fdca26\"],[1.0,\"#f0f921\"]],\"type\":\"contour\"}],\"contourcarpet\":[{\"colorbar\":{\"outlinewidth\":0,\"ticks\":\"\"},\"type\":\"contourcarpet\"}],\"heatmap\":[{\"colorbar\":{\"outlinewidth\":0,\"ticks\":\"\"},\"colorscale\":[[0.0,\"#0d0887\"],[0.1111111111111111,\"#46039f\"],[0.2222222222222222,\"#7201a8\"],[0.3333333333333333,\"#9c179e\"],[0.4444444444444444,\"#bd3786\"],[0.5555555555555556,\"#d8576b\"],[0.6666666666666666,\"#ed7953\"],[0.7777777777777778,\"#fb9f3a\"],[0.8888888888888888,\"#fdca26\"],[1.0,\"#f0f921\"]],\"type\":\"heatmap\"}],\"heatmapgl\":[{\"colorbar\":{\"outlinewidth\":0,\"ticks\":\"\"},\"colorscale\":[[0.0,\"#0d0887\"],[0.1111111111111111,\"#46039f\"],[0.2222222222222222,\"#7201a8\"],[0.3333333333333333,\"#9c179e\"],[0.4444444444444444,\"#bd3786\"],[0.5555555555555556,\"#d8576b\"],[0.6666666666666666,\"#ed7953\"],[0.7777777777777778,\"#fb9f3a\"],[0.8888888888888888,\"#fdca26\"],[1.0,\"#f0f921\"]],\"type\":\"heatmapgl\"}],\"histogram\":[{\"marker\":{\"pattern\":{\"fillmode\":\"overlay\",\"size\":10,\"solidity\":0.2}},\"type\":\"histogram\"}],\"histogram2d\":[{\"colorbar\":{\"outlinewidth\":0,\"ticks\":\"\"},\"colorscale\":[[0.0,\"#0d0887\"],[0.1111111111111111,\"#46039f\"],[0.2222222222222222,\"#7201a8\"],[0.3333333333333333,\"#9c179e\"],[0.4444444444444444,\"#bd3786\"],[0.5555555555555556,\"#d8576b\"],[0.6666666666666666,\"#ed7953\"],[0.7777777777777778,\"#fb9f3a\"],[0.8888888888888888,\"#fdca26\"],[1.0,\"#f0f921\"]],\"type\":\"histogram2d\"}],\"histogram2dcontour\":[{\"colorbar\":{\"outlinewidth\":0,\"ticks\":\"\"},\"colorscale\":[[0.0,\"#0d0887\"],[0.1111111111111111,\"#46039f\"],[0.2222222222222222,\"#7201a8\"],[0.3333333333333333,\"#9c179e\"],[0.4444444444444444,\"#bd3786\"],[0.5555555555555556,\"#d8576b\"],[0.6666666666666666,\"#ed7953\"],[0.7777777777777778,\"#fb9f3a\"],[0.8888888888888888,\"#fdca26\"],[1.0,\"#f0f921\"]],\"type\":\"histogram2dcontour\"}],\"mesh3d\":[{\"colorbar\":{\"outlinewidth\":0,\"ticks\":\"\"},\"type\":\"mesh3d\"}],\"parcoords\":[{\"line\":{\"colorbar\":{\"outlinewidth\":0,\"ticks\":\"\"}},\"type\":\"parcoords\"}],\"pie\":[{\"automargin\":true,\"type\":\"pie\"}],\"scatter\":[{\"marker\":{\"colorbar\":{\"outlinewidth\":0,\"ticks\":\"\"}},\"type\":\"scatter\"}],\"scatter3d\":[{\"line\":{\"colorbar\":{\"outlinewidth\":0,\"ticks\":\"\"}},\"marker\":{\"colorbar\":{\"outlinewidth\":0,\"ticks\":\"\"}},\"type\":\"scatter3d\"}],\"scattercarpet\":[{\"marker\":{\"colorbar\":{\"outlinewidth\":0,\"ticks\":\"\"}},\"type\":\"scattercarpet\"}],\"scattergeo\":[{\"marker\":{\"colorbar\":{\"outlinewidth\":0,\"ticks\":\"\"}},\"type\":\"scattergeo\"}],\"scattergl\":[{\"marker\":{\"colorbar\":{\"outlinewidth\":0,\"ticks\":\"\"}},\"type\":\"scattergl\"}],\"scattermapbox\":[{\"marker\":{\"colorbar\":{\"outlinewidth\":0,\"ticks\":\"\"}},\"type\":\"scattermapbox\"}],\"scatterpolar\":[{\"marker\":{\"colorbar\":{\"outlinewidth\":0,\"ticks\":\"\"}},\"type\":\"scatterpolar\"}],\"scatterpolargl\":[{\"marker\":{\"colorbar\":{\"outlinewidth\":0,\"ticks\":\"\"}},\"type\":\"scatterpolargl\"}],\"scatterternary\":[{\"marker\":{\"colorbar\":{\"outlinewidth\":0,\"ticks\":\"\"}},\"type\":\"scatterternary\"}],\"surface\":[{\"colorbar\":{\"outlinewidth\":0,\"ticks\":\"\"},\"colorscale\":[[0.0,\"#0d0887\"],[0.1111111111111111,\"#46039f\"],[0.2222222222222222,\"#7201a8\"],[0.3333333333333333,\"#9c179e\"],[0.4444444444444444,\"#bd3786\"],[0.5555555555555556,\"#d8576b\"],[0.6666666666666666,\"#ed7953\"],[0.7777777777777778,\"#fb9f3a\"],[0.8888888888888888,\"#fdca26\"],[1.0,\"#f0f921\"]],\"type\":\"surface\"}],\"table\":[{\"cells\":{\"fill\":{\"color\":\"#EBF0F8\"},\"line\":{\"color\":\"white\"}},\"header\":{\"fill\":{\"color\":\"#C8D4E3\"},\"line\":{\"color\":\"white\"}},\"type\":\"table\"}]},\"layout\":{\"annotationdefaults\":{\"arrowcolor\":\"#2a3f5f\",\"arrowhead\":0,\"arrowwidth\":1},\"autotypenumbers\":\"strict\",\"coloraxis\":{\"colorbar\":{\"outlinewidth\":0,\"ticks\":\"\"}},\"colorscale\":{\"diverging\":[[0,\"#8e0152\"],[0.1,\"#c51b7d\"],[0.2,\"#de77ae\"],[0.3,\"#f1b6da\"],[0.4,\"#fde0ef\"],[0.5,\"#f7f7f7\"],[0.6,\"#e6f5d0\"],[0.7,\"#b8e186\"],[0.8,\"#7fbc41\"],[0.9,\"#4d9221\"],[1,\"#276419\"]],\"sequential\":[[0.0,\"#0d0887\"],[0.1111111111111111,\"#46039f\"],[0.2222222222222222,\"#7201a8\"],[0.3333333333333333,\"#9c179e\"],[0.4444444444444444,\"#bd3786\"],[0.5555555555555556,\"#d8576b\"],[0.6666666666666666,\"#ed7953\"],[0.7777777777777778,\"#fb9f3a\"],[0.8888888888888888,\"#fdca26\"],[1.0,\"#f0f921\"]],\"sequentialminus\":[[0.0,\"#0d0887\"],[0.1111111111111111,\"#46039f\"],[0.2222222222222222,\"#7201a8\"],[0.3333333333333333,\"#9c179e\"],[0.4444444444444444,\"#bd3786\"],[0.5555555555555556,\"#d8576b\"],[0.6666666666666666,\"#ed7953\"],[0.7777777777777778,\"#fb9f3a\"],[0.8888888888888888,\"#fdca26\"],[1.0,\"#f0f921\"]]},\"colorway\":[\"#636efa\",\"#EF553B\",\"#00cc96\",\"#ab63fa\",\"#FFA15A\",\"#19d3f3\",\"#FF6692\",\"#B6E880\",\"#FF97FF\",\"#FECB52\"],\"font\":{\"color\":\"#2a3f5f\"},\"geo\":{\"bgcolor\":\"white\",\"lakecolor\":\"white\",\"landcolor\":\"#E5ECF6\",\"showlakes\":true,\"showland\":true,\"subunitcolor\":\"white\"},\"hoverlabel\":{\"align\":\"left\"},\"hovermode\":\"closest\",\"mapbox\":{\"style\":\"light\"},\"paper_bgcolor\":\"white\",\"plot_bgcolor\":\"#E5ECF6\",\"polar\":{\"angularaxis\":{\"gridcolor\":\"white\",\"linecolor\":\"white\",\"ticks\":\"\"},\"bgcolor\":\"#E5ECF6\",\"radialaxis\":{\"gridcolor\":\"white\",\"linecolor\":\"white\",\"ticks\":\"\"}},\"scene\":{\"xaxis\":{\"backgroundcolor\":\"#E5ECF6\",\"gridcolor\":\"white\",\"gridwidth\":2,\"linecolor\":\"white\",\"showbackground\":true,\"ticks\":\"\",\"zerolinecolor\":\"white\"},\"yaxis\":{\"backgroundcolor\":\"#E5ECF6\",\"gridcolor\":\"white\",\"gridwidth\":2,\"linecolor\":\"white\",\"showbackground\":true,\"ticks\":\"\",\"zerolinecolor\":\"white\"},\"zaxis\":{\"backgroundcolor\":\"#E5ECF6\",\"gridcolor\":\"white\",\"gridwidth\":2,\"linecolor\":\"white\",\"showbackground\":true,\"ticks\":\"\",\"zerolinecolor\":\"white\"}},\"shapedefaults\":{\"line\":{\"color\":\"#2a3f5f\"}},\"ternary\":{\"aaxis\":{\"gridcolor\":\"white\",\"linecolor\":\"white\",\"ticks\":\"\"},\"baxis\":{\"gridcolor\":\"white\",\"linecolor\":\"white\",\"ticks\":\"\"},\"bgcolor\":\"#E5ECF6\",\"caxis\":{\"gridcolor\":\"white\",\"linecolor\":\"white\",\"ticks\":\"\"}},\"title\":{\"x\":0.05},\"xaxis\":{\"automargin\":true,\"gridcolor\":\"white\",\"linecolor\":\"white\",\"ticks\":\"\",\"title\":{\"standoff\":15},\"zerolinecolor\":\"white\",\"zerolinewidth\":2},\"yaxis\":{\"automargin\":true,\"gridcolor\":\"white\",\"linecolor\":\"white\",\"ticks\":\"\",\"title\":{\"standoff\":15},\"zerolinecolor\":\"white\",\"zerolinewidth\":2}}},\"coloraxis\":{\"colorbar\":{\"title\":{\"text\":\"sum_WBev\"}},\"colorscale\":[[0.0,\"rgb(247,251,255)\"],[0.125,\"rgb(222,235,247)\"],[0.25,\"rgb(198,219,239)\"],[0.375,\"rgb(158,202,225)\"],[0.5,\"rgb(107,174,214)\"],[0.625,\"rgb(66,146,198)\"],[0.75,\"rgb(33,113,181)\"],[0.875,\"rgb(8,81,156)\"],[1.0,\"rgb(8,48,107)\"]]},\"legend\":{\"tracegroupgap\":0},\"margin\":{\"t\":50,\"l\":25,\"r\":250,\"b\":25},\"height\":400,\"width\":1100},                        {\"responsive\": true}                    ).then(function(){\n",
       "                            \n",
       "var gd = document.getElementById('fd0af6ae-701c-446e-8b4a-ae68973492b6');\n",
       "var x = new MutationObserver(function (mutations, observer) {{\n",
       "        var display = window.getComputedStyle(gd).display;\n",
       "        if (!display || display === 'none') {{\n",
       "            console.log([gd, 'removed!']);\n",
       "            Plotly.purge(gd);\n",
       "            observer.disconnect();\n",
       "        }}\n",
       "}});\n",
       "\n",
       "// Listen for the removal of the full notebook cells\n",
       "var notebookContainer = gd.closest('#notebook-container');\n",
       "if (notebookContainer) {{\n",
       "    x.observe(notebookContainer, {childList: true});\n",
       "}}\n",
       "\n",
       "// Listen for the clearing of the current output cell\n",
       "var outputEl = gd.closest('.output');\n",
       "if (outputEl) {{\n",
       "    x.observe(outputEl, {childList: true});\n",
       "}}\n",
       "\n",
       "                        })                };                });            </script>        </div>"
      ]
     },
     "metadata": {},
     "output_type": "display_data"
    }
   ],
   "source": [
    "myTitle = \"WBev nach Quartier, Herkunft und Geschlecht, 2021\"\n",
    "\n",
    "fig = px.treemap(myTreemapAgg.reset_index(), path=[px.Constant(myTitle), 'QuarLang', 'HerkunftLang', 'SexKurz']\n",
    "                 , values='sum_WBev'\n",
    "                 , color='sum_WBev'\n",
    "                 ## bei discrete scales (bei Klassen und Strings):                 \n",
    "                 #, color_discrete_map={'(?)':'lightgrey','EVP':'gold', 'SP':'#FF3030', 'PdA':'#EE3B3B', 'Grüne':'#A2CD5A','GLP':'#CAFF70','Die Mitte':'orange','FDP':'#104E8B','AL':'deeppink','SVP':'forestgreen', 'FL ZÜRI':'#8B864E','Volt':'#lightblue' }                \n",
    "                 ## bei continuous scales (bei Zahlenwerten):\n",
    "                , color_continuous_scale='Blues'\n",
    "                #, color_continuous_midpoint=np.average(df['AnzBestWir'], weights=df['AnzBestWir'])  \n",
    "                 ,height=400\n",
    "                 ,width=1100                 \n",
    "                )\n",
    "fig.update_traces(root_color=\"grey\")\n",
    "fig.update_layout(margin = dict(t=50, l=25, r=250, b=25))\n",
    "fig.show()"
   ]
  },
  {
   "cell_type": "markdown",
   "metadata": {},
   "source": [
    "#### Aktueller Bestand der WBev nach Quartier und Herkunft"
   ]
  },
  {
   "cell_type": "code",
   "execution_count": 68,
   "metadata": {},
   "outputs": [],
   "source": [
    "#data2betested.columns"
   ]
  },
  {
   "cell_type": "code",
   "execution_count": 69,
   "metadata": {
    "tags": []
   },
   "outputs": [
    {
     "data": {
      "text/html": [
       "<div>\n",
       "<style scoped>\n",
       "    .dataframe tbody tr th:only-of-type {\n",
       "        vertical-align: middle;\n",
       "    }\n",
       "\n",
       "    .dataframe tbody tr th {\n",
       "        vertical-align: top;\n",
       "    }\n",
       "\n",
       "    .dataframe thead th {\n",
       "        text-align: right;\n",
       "    }\n",
       "</style>\n",
       "<table border=\"1\" class=\"dataframe\">\n",
       "  <thead>\n",
       "    <tr style=\"text-align: right;\">\n",
       "      <th></th>\n",
       "      <th>StichtagDatJahr</th>\n",
       "      <th>QuarLang</th>\n",
       "      <th>HerkunftLang</th>\n",
       "      <th>sum_WBev</th>\n",
       "    </tr>\n",
       "  </thead>\n",
       "  <tbody>\n",
       "    <tr>\n",
       "      <th>0</th>\n",
       "      <td>2021-01-01</td>\n",
       "      <td>Hochschulen</td>\n",
       "      <td>Ausländer/in</td>\n",
       "      <td>242</td>\n",
       "    </tr>\n",
       "    <tr>\n",
       "      <th>1</th>\n",
       "      <td>2021-01-01</td>\n",
       "      <td>City</td>\n",
       "      <td>Ausländer/in</td>\n",
       "      <td>259</td>\n",
       "    </tr>\n",
       "    <tr>\n",
       "      <th>2</th>\n",
       "      <td>2021-01-01</td>\n",
       "      <td>Lindenhof</td>\n",
       "      <td>Ausländer/in</td>\n",
       "      <td>301</td>\n",
       "    </tr>\n",
       "  </tbody>\n",
       "</table>\n",
       "</div>"
      ],
      "text/plain": [
       "  StichtagDatJahr     QuarLang  HerkunftLang  sum_WBev\n",
       "0      2021-01-01  Hochschulen  Ausländer/in       242\n",
       "1      2021-01-01         City  Ausländer/in       259\n",
       "2      2021-01-01    Lindenhof  Ausländer/in       301"
      ]
     },
     "execution_count": 69,
     "metadata": {},
     "output_type": "execute_result"
    }
   ],
   "source": [
    "myTreemapAgg = data2betested.loc['2021']  \\\n",
    "    .groupby(['EreignisDatJahr', 'QuarLang', 'HerkunftLang']) \\\n",
    "    .agg(sum_WBev=('AnzBestWir', 'sum')) \\\n",
    "    .sort_values('sum_WBev', ascending=True) \n",
    "\n",
    "myTreemapAgg.reset_index().head(3)"
   ]
  },
  {
   "cell_type": "code",
   "execution_count": 70,
   "metadata": {},
   "outputs": [
    {
     "data": {
      "application/vnd.plotly.v1+json": {
       "config": {
        "plotlyServerURL": "https://plot.ly"
       },
       "data": [
        {
         "branchvalues": "total",
         "customdata": [
          [
           "Ausländer/in"
          ],
          [
           "Ausländer/in"
          ],
          [
           "Ausländer/in"
          ],
          [
           "Ausländer/in"
          ],
          [
           "Ausländer/in"
          ],
          [
           "Ausländer/in"
          ],
          [
           "Ausländer/in"
          ],
          [
           "Schweizer/in"
          ],
          [
           "Ausländer/in"
          ],
          [
           "Schweizer/in"
          ],
          [
           "Schweizer/in"
          ],
          [
           "Schweizer/in"
          ],
          [
           "Schweizer/in"
          ],
          [
           "Schweizer/in"
          ],
          [
           "Schweizer/in"
          ],
          [
           "Schweizer/in"
          ],
          [
           "Schweizer/in"
          ],
          [
           "Schweizer/in"
          ],
          [
           "Ausländer/in"
          ],
          [
           "Ausländer/in"
          ],
          [
           "Ausländer/in"
          ],
          [
           "Ausländer/in"
          ],
          [
           "Ausländer/in"
          ],
          [
           "Ausländer/in"
          ],
          [
           "Ausländer/in"
          ],
          [
           "Ausländer/in"
          ],
          [
           "Ausländer/in"
          ],
          [
           "Ausländer/in"
          ],
          [
           "Ausländer/in"
          ],
          [
           "Ausländer/in"
          ],
          [
           "Ausländer/in"
          ],
          [
           "Ausländer/in"
          ],
          [
           "Ausländer/in"
          ],
          [
           "Ausländer/in"
          ],
          [
           "Schweizer/in"
          ],
          [
           "Schweizer/in"
          ],
          [
           "Ausländer/in"
          ],
          [
           "Schweizer/in"
          ],
          [
           "Ausländer/in"
          ],
          [
           "Schweizer/in"
          ],
          [
           "Schweizer/in"
          ],
          [
           "Schweizer/in"
          ],
          [
           "Schweizer/in"
          ],
          [
           "Schweizer/in"
          ],
          [
           "Schweizer/in"
          ],
          [
           "Schweizer/in"
          ],
          [
           "Schweizer/in"
          ],
          [
           "Schweizer/in"
          ],
          [
           "Schweizer/in"
          ],
          [
           "Schweizer/in"
          ],
          [
           "Schweizer/in"
          ],
          [
           "Ausländer/in"
          ],
          [
           "Ausländer/in"
          ],
          [
           "Ausländer/in"
          ],
          [
           "Ausländer/in"
          ],
          [
           "Ausländer/in"
          ],
          [
           "Ausländer/in"
          ],
          [
           "Schweizer/in"
          ],
          [
           "Schweizer/in"
          ],
          [
           "Schweizer/in"
          ],
          [
           "Schweizer/in"
          ],
          [
           "Schweizer/in"
          ],
          [
           "Schweizer/in"
          ],
          [
           "Ausländer/in"
          ],
          [
           "Ausländer/in"
          ],
          [
           "Schweizer/in"
          ],
          [
           "Schweizer/in"
          ],
          [
           "Schweizer/in"
          ],
          [
           "(?)"
          ],
          [
           "(?)"
          ],
          [
           "(?)"
          ],
          [
           "(?)"
          ],
          [
           "(?)"
          ],
          [
           "(?)"
          ],
          [
           "(?)"
          ],
          [
           "(?)"
          ],
          [
           "(?)"
          ],
          [
           "(?)"
          ],
          [
           "(?)"
          ],
          [
           "(?)"
          ],
          [
           "(?)"
          ],
          [
           "(?)"
          ],
          [
           "(?)"
          ],
          [
           "(?)"
          ],
          [
           "(?)"
          ],
          [
           "(?)"
          ],
          [
           "(?)"
          ],
          [
           "(?)"
          ],
          [
           "(?)"
          ],
          [
           "(?)"
          ],
          [
           "(?)"
          ],
          [
           "(?)"
          ],
          [
           "(?)"
          ],
          [
           "(?)"
          ],
          [
           "(?)"
          ],
          [
           "(?)"
          ],
          [
           "(?)"
          ],
          [
           "(?)"
          ],
          [
           "(?)"
          ],
          [
           "(?)"
          ],
          [
           "(?)"
          ],
          [
           "(?)"
          ],
          [
           "(?)"
          ],
          [
           "(?)"
          ]
         ],
         "domain": {
          "x": [
           0,
           1
          ],
          "y": [
           0,
           1
          ]
         },
         "hovertemplate": "labels=%{label}<br>sum_WBev=%{value}<br>parent=%{parent}<br>id=%{id}<br>HerkunftLang=%{customdata[0]}<extra></extra>",
         "ids": [
          "WBev nach Quartier und Herkunft, 2021/2021-01-01/Affoltern/Ausländer/in",
          "WBev nach Quartier und Herkunft, 2021/2021-01-01/Rathaus/Ausländer/in",
          "WBev nach Quartier und Herkunft, 2021/2021-01-01/Schwamendingen-Mitte/Ausländer/in",
          "WBev nach Quartier und Herkunft, 2021/2021-01-01/Weinegg/Ausländer/in",
          "WBev nach Quartier und Herkunft, 2021/2021-01-01/Werd/Ausländer/in",
          "WBev nach Quartier und Herkunft, 2021/2021-01-01/Wipkingen/Ausländer/in",
          "WBev nach Quartier und Herkunft, 2021/2021-01-01/Witikon/Ausländer/in",
          "WBev nach Quartier und Herkunft, 2021/2021-01-01/Albisrieden/Schweizer/in",
          "WBev nach Quartier und Herkunft, 2021/2021-01-01/Oerlikon/Ausländer/in",
          "WBev nach Quartier und Herkunft, 2021/2021-01-01/Alt-Wiedikon/Schweizer/in",
          "WBev nach Quartier und Herkunft, 2021/2021-01-01/Escher Wyss/Schweizer/in",
          "WBev nach Quartier und Herkunft, 2021/2021-01-01/Hard/Schweizer/in",
          "WBev nach Quartier und Herkunft, 2021/2021-01-01/Hirslanden/Schweizer/in",
          "WBev nach Quartier und Herkunft, 2021/2021-01-01/Lindenhof/Schweizer/in",
          "WBev nach Quartier und Herkunft, 2021/2021-01-01/Oberstrass/Schweizer/in",
          "WBev nach Quartier und Herkunft, 2021/2021-01-01/Oerlikon/Schweizer/in",
          "WBev nach Quartier und Herkunft, 2021/2021-01-01/Schwamendingen-Mitte/Schweizer/in",
          "WBev nach Quartier und Herkunft, 2021/2021-01-01/Altstetten/Schweizer/in",
          "WBev nach Quartier und Herkunft, 2021/2021-01-01/Oberstrass/Ausländer/in",
          "WBev nach Quartier und Herkunft, 2021/2021-01-01/Wollishofen/Ausländer/in",
          "WBev nach Quartier und Herkunft, 2021/2021-01-01/Lindenhof/Ausländer/in",
          "WBev nach Quartier und Herkunft, 2021/2021-01-01/Escher Wyss/Ausländer/in",
          "WBev nach Quartier und Herkunft, 2021/2021-01-01/Alt-Wiedikon/Ausländer/in",
          "WBev nach Quartier und Herkunft, 2021/2021-01-01/Fluntern/Ausländer/in",
          "WBev nach Quartier und Herkunft, 2021/2021-01-01/Friesenberg/Ausländer/in",
          "WBev nach Quartier und Herkunft, 2021/2021-01-01/Gewerbeschule/Ausländer/in",
          "WBev nach Quartier und Herkunft, 2021/2021-01-01/Hard/Ausländer/in",
          "WBev nach Quartier und Herkunft, 2021/2021-01-01/Hirslanden/Ausländer/in",
          "WBev nach Quartier und Herkunft, 2021/2021-01-01/Hirzenbach/Ausländer/in",
          "WBev nach Quartier und Herkunft, 2021/2021-01-01/Albisrieden/Ausländer/in",
          "WBev nach Quartier und Herkunft, 2021/2021-01-01/Leimbach/Ausländer/in",
          "WBev nach Quartier und Herkunft, 2021/2021-01-01/Langstrasse/Ausländer/in",
          "WBev nach Quartier und Herkunft, 2021/2021-01-01/Höngg/Ausländer/in",
          "WBev nach Quartier und Herkunft, 2021/2021-01-01/Hottingen/Ausländer/in",
          "WBev nach Quartier und Herkunft, 2021/2021-01-01/Seefeld/Schweizer/in",
          "WBev nach Quartier und Herkunft, 2021/2021-01-01/Leimbach/Schweizer/in",
          "WBev nach Quartier und Herkunft, 2021/2021-01-01/City/Ausländer/in",
          "WBev nach Quartier und Herkunft, 2021/2021-01-01/Mühlebach/Schweizer/in",
          "WBev nach Quartier und Herkunft, 2021/2021-01-01/Altstetten/Ausländer/in",
          "WBev nach Quartier und Herkunft, 2021/2021-01-01/Wipkingen/Schweizer/in",
          "WBev nach Quartier und Herkunft, 2021/2021-01-01/Rathaus/Schweizer/in",
          "WBev nach Quartier und Herkunft, 2021/2021-01-01/Werd/Schweizer/in",
          "WBev nach Quartier und Herkunft, 2021/2021-01-01/Weinegg/Schweizer/in",
          "WBev nach Quartier und Herkunft, 2021/2021-01-01/Langstrasse/Schweizer/in",
          "WBev nach Quartier und Herkunft, 2021/2021-01-01/Seebach/Schweizer/in",
          "WBev nach Quartier und Herkunft, 2021/2021-01-01/Unterstrass/Schweizer/in",
          "WBev nach Quartier und Herkunft, 2021/2021-01-01/Sihlfeld/Schweizer/in",
          "WBev nach Quartier und Herkunft, 2021/2021-01-01/Saatlen/Schweizer/in",
          "WBev nach Quartier und Herkunft, 2021/2021-01-01/Höngg/Schweizer/in",
          "WBev nach Quartier und Herkunft, 2021/2021-01-01/Gewerbeschule/Schweizer/in",
          "WBev nach Quartier und Herkunft, 2021/2021-01-01/Hochschulen/Schweizer/in",
          "WBev nach Quartier und Herkunft, 2021/2021-01-01/Saatlen/Ausländer/in",
          "WBev nach Quartier und Herkunft, 2021/2021-01-01/Seebach/Ausländer/in",
          "WBev nach Quartier und Herkunft, 2021/2021-01-01/Seefeld/Ausländer/in",
          "WBev nach Quartier und Herkunft, 2021/2021-01-01/Sihlfeld/Ausländer/in",
          "WBev nach Quartier und Herkunft, 2021/2021-01-01/Unterstrass/Ausländer/in",
          "WBev nach Quartier und Herkunft, 2021/2021-01-01/Hochschulen/Ausländer/in",
          "WBev nach Quartier und Herkunft, 2021/2021-01-01/Witikon/Schweizer/in",
          "WBev nach Quartier und Herkunft, 2021/2021-01-01/Affoltern/Schweizer/in",
          "WBev nach Quartier und Herkunft, 2021/2021-01-01/City/Schweizer/in",
          "WBev nach Quartier und Herkunft, 2021/2021-01-01/Enge/Schweizer/in",
          "WBev nach Quartier und Herkunft, 2021/2021-01-01/Fluntern/Schweizer/in",
          "WBev nach Quartier und Herkunft, 2021/2021-01-01/Friesenberg/Schweizer/in",
          "WBev nach Quartier und Herkunft, 2021/2021-01-01/Mühlebach/Ausländer/in",
          "WBev nach Quartier und Herkunft, 2021/2021-01-01/Enge/Ausländer/in",
          "WBev nach Quartier und Herkunft, 2021/2021-01-01/Hirzenbach/Schweizer/in",
          "WBev nach Quartier und Herkunft, 2021/2021-01-01/Hottingen/Schweizer/in",
          "WBev nach Quartier und Herkunft, 2021/2021-01-01/Wollishofen/Schweizer/in",
          "WBev nach Quartier und Herkunft, 2021/2021-01-01/Affoltern",
          "WBev nach Quartier und Herkunft, 2021/2021-01-01/Albisrieden",
          "WBev nach Quartier und Herkunft, 2021/2021-01-01/Alt-Wiedikon",
          "WBev nach Quartier und Herkunft, 2021/2021-01-01/Altstetten",
          "WBev nach Quartier und Herkunft, 2021/2021-01-01/City",
          "WBev nach Quartier und Herkunft, 2021/2021-01-01/Enge",
          "WBev nach Quartier und Herkunft, 2021/2021-01-01/Escher Wyss",
          "WBev nach Quartier und Herkunft, 2021/2021-01-01/Fluntern",
          "WBev nach Quartier und Herkunft, 2021/2021-01-01/Friesenberg",
          "WBev nach Quartier und Herkunft, 2021/2021-01-01/Gewerbeschule",
          "WBev nach Quartier und Herkunft, 2021/2021-01-01/Hard",
          "WBev nach Quartier und Herkunft, 2021/2021-01-01/Hirslanden",
          "WBev nach Quartier und Herkunft, 2021/2021-01-01/Hirzenbach",
          "WBev nach Quartier und Herkunft, 2021/2021-01-01/Hochschulen",
          "WBev nach Quartier und Herkunft, 2021/2021-01-01/Hottingen",
          "WBev nach Quartier und Herkunft, 2021/2021-01-01/Höngg",
          "WBev nach Quartier und Herkunft, 2021/2021-01-01/Langstrasse",
          "WBev nach Quartier und Herkunft, 2021/2021-01-01/Leimbach",
          "WBev nach Quartier und Herkunft, 2021/2021-01-01/Lindenhof",
          "WBev nach Quartier und Herkunft, 2021/2021-01-01/Mühlebach",
          "WBev nach Quartier und Herkunft, 2021/2021-01-01/Oberstrass",
          "WBev nach Quartier und Herkunft, 2021/2021-01-01/Oerlikon",
          "WBev nach Quartier und Herkunft, 2021/2021-01-01/Rathaus",
          "WBev nach Quartier und Herkunft, 2021/2021-01-01/Saatlen",
          "WBev nach Quartier und Herkunft, 2021/2021-01-01/Schwamendingen-Mitte",
          "WBev nach Quartier und Herkunft, 2021/2021-01-01/Seebach",
          "WBev nach Quartier und Herkunft, 2021/2021-01-01/Seefeld",
          "WBev nach Quartier und Herkunft, 2021/2021-01-01/Sihlfeld",
          "WBev nach Quartier und Herkunft, 2021/2021-01-01/Unterstrass",
          "WBev nach Quartier und Herkunft, 2021/2021-01-01/Weinegg",
          "WBev nach Quartier und Herkunft, 2021/2021-01-01/Werd",
          "WBev nach Quartier und Herkunft, 2021/2021-01-01/Wipkingen",
          "WBev nach Quartier und Herkunft, 2021/2021-01-01/Witikon",
          "WBev nach Quartier und Herkunft, 2021/2021-01-01/Wollishofen",
          "WBev nach Quartier und Herkunft, 2021/2021-01-01",
          "WBev nach Quartier und Herkunft, 2021"
         ],
         "labels": [
          "Ausländer/in",
          "Ausländer/in",
          "Ausländer/in",
          "Ausländer/in",
          "Ausländer/in",
          "Ausländer/in",
          "Ausländer/in",
          "Schweizer/in",
          "Ausländer/in",
          "Schweizer/in",
          "Schweizer/in",
          "Schweizer/in",
          "Schweizer/in",
          "Schweizer/in",
          "Schweizer/in",
          "Schweizer/in",
          "Schweizer/in",
          "Schweizer/in",
          "Ausländer/in",
          "Ausländer/in",
          "Ausländer/in",
          "Ausländer/in",
          "Ausländer/in",
          "Ausländer/in",
          "Ausländer/in",
          "Ausländer/in",
          "Ausländer/in",
          "Ausländer/in",
          "Ausländer/in",
          "Ausländer/in",
          "Ausländer/in",
          "Ausländer/in",
          "Ausländer/in",
          "Ausländer/in",
          "Schweizer/in",
          "Schweizer/in",
          "Ausländer/in",
          "Schweizer/in",
          "Ausländer/in",
          "Schweizer/in",
          "Schweizer/in",
          "Schweizer/in",
          "Schweizer/in",
          "Schweizer/in",
          "Schweizer/in",
          "Schweizer/in",
          "Schweizer/in",
          "Schweizer/in",
          "Schweizer/in",
          "Schweizer/in",
          "Schweizer/in",
          "Ausländer/in",
          "Ausländer/in",
          "Ausländer/in",
          "Ausländer/in",
          "Ausländer/in",
          "Ausländer/in",
          "Schweizer/in",
          "Schweizer/in",
          "Schweizer/in",
          "Schweizer/in",
          "Schweizer/in",
          "Schweizer/in",
          "Ausländer/in",
          "Ausländer/in",
          "Schweizer/in",
          "Schweizer/in",
          "Schweizer/in",
          "Affoltern",
          "Albisrieden",
          "Alt-Wiedikon",
          "Altstetten",
          "City",
          "Enge",
          "Escher Wyss",
          "Fluntern",
          "Friesenberg",
          "Gewerbeschule",
          "Hard",
          "Hirslanden",
          "Hirzenbach",
          "Hochschulen",
          "Hottingen",
          "Höngg",
          "Langstrasse",
          "Leimbach",
          "Lindenhof",
          "Mühlebach",
          "Oberstrass",
          "Oerlikon",
          "Rathaus",
          "Saatlen",
          "Schwamendingen-Mitte",
          "Seebach",
          "Seefeld",
          "Sihlfeld",
          "Unterstrass",
          "Weinegg",
          "Werd",
          "Wipkingen",
          "Witikon",
          "Wollishofen",
          "2021-01-01",
          "WBev nach Quartier und Herkunft, 2021"
         ],
         "marker": {
          "colors": [
           "#ab63fa",
           "#ab63fa",
           "#ab63fa",
           "#ab63fa",
           "#ab63fa",
           "#ab63fa",
           "#ab63fa",
           "gold",
           "#ab63fa",
           "gold",
           "gold",
           "gold",
           "gold",
           "gold",
           "gold",
           "gold",
           "gold",
           "gold",
           "#ab63fa",
           "#ab63fa",
           "#ab63fa",
           "#ab63fa",
           "#ab63fa",
           "#ab63fa",
           "#ab63fa",
           "#ab63fa",
           "#ab63fa",
           "#ab63fa",
           "#ab63fa",
           "#ab63fa",
           "#ab63fa",
           "#ab63fa",
           "#ab63fa",
           "#ab63fa",
           "gold",
           "gold",
           "#ab63fa",
           "gold",
           "#ab63fa",
           "gold",
           "gold",
           "gold",
           "gold",
           "gold",
           "gold",
           "gold",
           "gold",
           "gold",
           "gold",
           "gold",
           "gold",
           "#ab63fa",
           "#ab63fa",
           "#ab63fa",
           "#ab63fa",
           "#ab63fa",
           "#ab63fa",
           "gold",
           "gold",
           "gold",
           "gold",
           "gold",
           "gold",
           "#ab63fa",
           "#ab63fa",
           "gold",
           "gold",
           "gold",
           "lightgrey",
           "lightgrey",
           "lightgrey",
           "lightgrey",
           "lightgrey",
           "lightgrey",
           "lightgrey",
           "lightgrey",
           "lightgrey",
           "lightgrey",
           "lightgrey",
           "lightgrey",
           "lightgrey",
           "lightgrey",
           "lightgrey",
           "lightgrey",
           "lightgrey",
           "lightgrey",
           "lightgrey",
           "lightgrey",
           "lightgrey",
           "lightgrey",
           "lightgrey",
           "lightgrey",
           "lightgrey",
           "lightgrey",
           "lightgrey",
           "lightgrey",
           "lightgrey",
           "lightgrey",
           "lightgrey",
           "lightgrey",
           "lightgrey",
           "lightgrey",
           "lightgrey",
           "lightgrey"
          ]
         },
         "name": "",
         "parents": [
          "WBev nach Quartier und Herkunft, 2021/2021-01-01/Affoltern",
          "WBev nach Quartier und Herkunft, 2021/2021-01-01/Rathaus",
          "WBev nach Quartier und Herkunft, 2021/2021-01-01/Schwamendingen-Mitte",
          "WBev nach Quartier und Herkunft, 2021/2021-01-01/Weinegg",
          "WBev nach Quartier und Herkunft, 2021/2021-01-01/Werd",
          "WBev nach Quartier und Herkunft, 2021/2021-01-01/Wipkingen",
          "WBev nach Quartier und Herkunft, 2021/2021-01-01/Witikon",
          "WBev nach Quartier und Herkunft, 2021/2021-01-01/Albisrieden",
          "WBev nach Quartier und Herkunft, 2021/2021-01-01/Oerlikon",
          "WBev nach Quartier und Herkunft, 2021/2021-01-01/Alt-Wiedikon",
          "WBev nach Quartier und Herkunft, 2021/2021-01-01/Escher Wyss",
          "WBev nach Quartier und Herkunft, 2021/2021-01-01/Hard",
          "WBev nach Quartier und Herkunft, 2021/2021-01-01/Hirslanden",
          "WBev nach Quartier und Herkunft, 2021/2021-01-01/Lindenhof",
          "WBev nach Quartier und Herkunft, 2021/2021-01-01/Oberstrass",
          "WBev nach Quartier und Herkunft, 2021/2021-01-01/Oerlikon",
          "WBev nach Quartier und Herkunft, 2021/2021-01-01/Schwamendingen-Mitte",
          "WBev nach Quartier und Herkunft, 2021/2021-01-01/Altstetten",
          "WBev nach Quartier und Herkunft, 2021/2021-01-01/Oberstrass",
          "WBev nach Quartier und Herkunft, 2021/2021-01-01/Wollishofen",
          "WBev nach Quartier und Herkunft, 2021/2021-01-01/Lindenhof",
          "WBev nach Quartier und Herkunft, 2021/2021-01-01/Escher Wyss",
          "WBev nach Quartier und Herkunft, 2021/2021-01-01/Alt-Wiedikon",
          "WBev nach Quartier und Herkunft, 2021/2021-01-01/Fluntern",
          "WBev nach Quartier und Herkunft, 2021/2021-01-01/Friesenberg",
          "WBev nach Quartier und Herkunft, 2021/2021-01-01/Gewerbeschule",
          "WBev nach Quartier und Herkunft, 2021/2021-01-01/Hard",
          "WBev nach Quartier und Herkunft, 2021/2021-01-01/Hirslanden",
          "WBev nach Quartier und Herkunft, 2021/2021-01-01/Hirzenbach",
          "WBev nach Quartier und Herkunft, 2021/2021-01-01/Albisrieden",
          "WBev nach Quartier und Herkunft, 2021/2021-01-01/Leimbach",
          "WBev nach Quartier und Herkunft, 2021/2021-01-01/Langstrasse",
          "WBev nach Quartier und Herkunft, 2021/2021-01-01/Höngg",
          "WBev nach Quartier und Herkunft, 2021/2021-01-01/Hottingen",
          "WBev nach Quartier und Herkunft, 2021/2021-01-01/Seefeld",
          "WBev nach Quartier und Herkunft, 2021/2021-01-01/Leimbach",
          "WBev nach Quartier und Herkunft, 2021/2021-01-01/City",
          "WBev nach Quartier und Herkunft, 2021/2021-01-01/Mühlebach",
          "WBev nach Quartier und Herkunft, 2021/2021-01-01/Altstetten",
          "WBev nach Quartier und Herkunft, 2021/2021-01-01/Wipkingen",
          "WBev nach Quartier und Herkunft, 2021/2021-01-01/Rathaus",
          "WBev nach Quartier und Herkunft, 2021/2021-01-01/Werd",
          "WBev nach Quartier und Herkunft, 2021/2021-01-01/Weinegg",
          "WBev nach Quartier und Herkunft, 2021/2021-01-01/Langstrasse",
          "WBev nach Quartier und Herkunft, 2021/2021-01-01/Seebach",
          "WBev nach Quartier und Herkunft, 2021/2021-01-01/Unterstrass",
          "WBev nach Quartier und Herkunft, 2021/2021-01-01/Sihlfeld",
          "WBev nach Quartier und Herkunft, 2021/2021-01-01/Saatlen",
          "WBev nach Quartier und Herkunft, 2021/2021-01-01/Höngg",
          "WBev nach Quartier und Herkunft, 2021/2021-01-01/Gewerbeschule",
          "WBev nach Quartier und Herkunft, 2021/2021-01-01/Hochschulen",
          "WBev nach Quartier und Herkunft, 2021/2021-01-01/Saatlen",
          "WBev nach Quartier und Herkunft, 2021/2021-01-01/Seebach",
          "WBev nach Quartier und Herkunft, 2021/2021-01-01/Seefeld",
          "WBev nach Quartier und Herkunft, 2021/2021-01-01/Sihlfeld",
          "WBev nach Quartier und Herkunft, 2021/2021-01-01/Unterstrass",
          "WBev nach Quartier und Herkunft, 2021/2021-01-01/Hochschulen",
          "WBev nach Quartier und Herkunft, 2021/2021-01-01/Witikon",
          "WBev nach Quartier und Herkunft, 2021/2021-01-01/Affoltern",
          "WBev nach Quartier und Herkunft, 2021/2021-01-01/City",
          "WBev nach Quartier und Herkunft, 2021/2021-01-01/Enge",
          "WBev nach Quartier und Herkunft, 2021/2021-01-01/Fluntern",
          "WBev nach Quartier und Herkunft, 2021/2021-01-01/Friesenberg",
          "WBev nach Quartier und Herkunft, 2021/2021-01-01/Mühlebach",
          "WBev nach Quartier und Herkunft, 2021/2021-01-01/Enge",
          "WBev nach Quartier und Herkunft, 2021/2021-01-01/Hirzenbach",
          "WBev nach Quartier und Herkunft, 2021/2021-01-01/Hottingen",
          "WBev nach Quartier und Herkunft, 2021/2021-01-01/Wollishofen",
          "WBev nach Quartier und Herkunft, 2021/2021-01-01",
          "WBev nach Quartier und Herkunft, 2021/2021-01-01",
          "WBev nach Quartier und Herkunft, 2021/2021-01-01",
          "WBev nach Quartier und Herkunft, 2021/2021-01-01",
          "WBev nach Quartier und Herkunft, 2021/2021-01-01",
          "WBev nach Quartier und Herkunft, 2021/2021-01-01",
          "WBev nach Quartier und Herkunft, 2021/2021-01-01",
          "WBev nach Quartier und Herkunft, 2021/2021-01-01",
          "WBev nach Quartier und Herkunft, 2021/2021-01-01",
          "WBev nach Quartier und Herkunft, 2021/2021-01-01",
          "WBev nach Quartier und Herkunft, 2021/2021-01-01",
          "WBev nach Quartier und Herkunft, 2021/2021-01-01",
          "WBev nach Quartier und Herkunft, 2021/2021-01-01",
          "WBev nach Quartier und Herkunft, 2021/2021-01-01",
          "WBev nach Quartier und Herkunft, 2021/2021-01-01",
          "WBev nach Quartier und Herkunft, 2021/2021-01-01",
          "WBev nach Quartier und Herkunft, 2021/2021-01-01",
          "WBev nach Quartier und Herkunft, 2021/2021-01-01",
          "WBev nach Quartier und Herkunft, 2021/2021-01-01",
          "WBev nach Quartier und Herkunft, 2021/2021-01-01",
          "WBev nach Quartier und Herkunft, 2021/2021-01-01",
          "WBev nach Quartier und Herkunft, 2021/2021-01-01",
          "WBev nach Quartier und Herkunft, 2021/2021-01-01",
          "WBev nach Quartier und Herkunft, 2021/2021-01-01",
          "WBev nach Quartier und Herkunft, 2021/2021-01-01",
          "WBev nach Quartier und Herkunft, 2021/2021-01-01",
          "WBev nach Quartier und Herkunft, 2021/2021-01-01",
          "WBev nach Quartier und Herkunft, 2021/2021-01-01",
          "WBev nach Quartier und Herkunft, 2021/2021-01-01",
          "WBev nach Quartier und Herkunft, 2021/2021-01-01",
          "WBev nach Quartier und Herkunft, 2021/2021-01-01",
          "WBev nach Quartier und Herkunft, 2021/2021-01-01",
          "WBev nach Quartier und Herkunft, 2021/2021-01-01",
          "WBev nach Quartier und Herkunft, 2021/2021-01-01",
          "WBev nach Quartier und Herkunft, 2021",
          ""
         ],
         "root": {
          "color": "grey"
         },
         "type": "treemap",
         "values": [
          8756,
          1026,
          4784,
          1877,
          1523,
          4404,
          3080,
          16498,
          9295,
          11697,
          4211,
          8256,
          5418,
          723,
          7589,
          14585,
          6191,
          22116,
          3277,
          6065,
          301,
          2010,
          5934,
          2685,
          1994,
          3041,
          4378,
          1920,
          4536,
          5914,
          2158,
          4464,
          6124,
          3177,
          3512,
          4180,
          259,
          4128,
          12549,
          12103,
          2249,
          3051,
          3671,
          7351,
          15978,
          17762,
          14918,
          6394,
          18386,
          6542,
          459,
          2394,
          10563,
          2350,
          6598,
          6727,
          242,
          8175,
          17798,
          558,
          6092,
          6092,
          8963,
          2280,
          3658,
          8355,
          8116,
          13872,
          26554,
          22412,
          17631,
          34665,
          817,
          9750,
          6221,
          8777,
          10957,
          9583,
          12634,
          7338,
          12891,
          701,
          11293,
          24510,
          11815,
          6338,
          1024,
          6408,
          10866,
          23880,
          3275,
          8788,
          10975,
          26541,
          5862,
          21516,
          24489,
          5548,
          4574,
          16507,
          11255,
          19937,
          436332,
          436332
         ]
        }
       ],
       "layout": {
        "height": 400,
        "legend": {
         "tracegroupgap": 0
        },
        "margin": {
         "b": 25,
         "l": 25,
         "r": 250,
         "t": 50
        },
        "template": {
         "data": {
          "bar": [
           {
            "error_x": {
             "color": "#2a3f5f"
            },
            "error_y": {
             "color": "#2a3f5f"
            },
            "marker": {
             "line": {
              "color": "#E5ECF6",
              "width": 0.5
             },
             "pattern": {
              "fillmode": "overlay",
              "size": 10,
              "solidity": 0.2
             }
            },
            "type": "bar"
           }
          ],
          "barpolar": [
           {
            "marker": {
             "line": {
              "color": "#E5ECF6",
              "width": 0.5
             },
             "pattern": {
              "fillmode": "overlay",
              "size": 10,
              "solidity": 0.2
             }
            },
            "type": "barpolar"
           }
          ],
          "carpet": [
           {
            "aaxis": {
             "endlinecolor": "#2a3f5f",
             "gridcolor": "white",
             "linecolor": "white",
             "minorgridcolor": "white",
             "startlinecolor": "#2a3f5f"
            },
            "baxis": {
             "endlinecolor": "#2a3f5f",
             "gridcolor": "white",
             "linecolor": "white",
             "minorgridcolor": "white",
             "startlinecolor": "#2a3f5f"
            },
            "type": "carpet"
           }
          ],
          "choropleth": [
           {
            "colorbar": {
             "outlinewidth": 0,
             "ticks": ""
            },
            "type": "choropleth"
           }
          ],
          "contour": [
           {
            "colorbar": {
             "outlinewidth": 0,
             "ticks": ""
            },
            "colorscale": [
             [
              0,
              "#0d0887"
             ],
             [
              0.1111111111111111,
              "#46039f"
             ],
             [
              0.2222222222222222,
              "#7201a8"
             ],
             [
              0.3333333333333333,
              "#9c179e"
             ],
             [
              0.4444444444444444,
              "#bd3786"
             ],
             [
              0.5555555555555556,
              "#d8576b"
             ],
             [
              0.6666666666666666,
              "#ed7953"
             ],
             [
              0.7777777777777778,
              "#fb9f3a"
             ],
             [
              0.8888888888888888,
              "#fdca26"
             ],
             [
              1,
              "#f0f921"
             ]
            ],
            "type": "contour"
           }
          ],
          "contourcarpet": [
           {
            "colorbar": {
             "outlinewidth": 0,
             "ticks": ""
            },
            "type": "contourcarpet"
           }
          ],
          "heatmap": [
           {
            "colorbar": {
             "outlinewidth": 0,
             "ticks": ""
            },
            "colorscale": [
             [
              0,
              "#0d0887"
             ],
             [
              0.1111111111111111,
              "#46039f"
             ],
             [
              0.2222222222222222,
              "#7201a8"
             ],
             [
              0.3333333333333333,
              "#9c179e"
             ],
             [
              0.4444444444444444,
              "#bd3786"
             ],
             [
              0.5555555555555556,
              "#d8576b"
             ],
             [
              0.6666666666666666,
              "#ed7953"
             ],
             [
              0.7777777777777778,
              "#fb9f3a"
             ],
             [
              0.8888888888888888,
              "#fdca26"
             ],
             [
              1,
              "#f0f921"
             ]
            ],
            "type": "heatmap"
           }
          ],
          "heatmapgl": [
           {
            "colorbar": {
             "outlinewidth": 0,
             "ticks": ""
            },
            "colorscale": [
             [
              0,
              "#0d0887"
             ],
             [
              0.1111111111111111,
              "#46039f"
             ],
             [
              0.2222222222222222,
              "#7201a8"
             ],
             [
              0.3333333333333333,
              "#9c179e"
             ],
             [
              0.4444444444444444,
              "#bd3786"
             ],
             [
              0.5555555555555556,
              "#d8576b"
             ],
             [
              0.6666666666666666,
              "#ed7953"
             ],
             [
              0.7777777777777778,
              "#fb9f3a"
             ],
             [
              0.8888888888888888,
              "#fdca26"
             ],
             [
              1,
              "#f0f921"
             ]
            ],
            "type": "heatmapgl"
           }
          ],
          "histogram": [
           {
            "marker": {
             "pattern": {
              "fillmode": "overlay",
              "size": 10,
              "solidity": 0.2
             }
            },
            "type": "histogram"
           }
          ],
          "histogram2d": [
           {
            "colorbar": {
             "outlinewidth": 0,
             "ticks": ""
            },
            "colorscale": [
             [
              0,
              "#0d0887"
             ],
             [
              0.1111111111111111,
              "#46039f"
             ],
             [
              0.2222222222222222,
              "#7201a8"
             ],
             [
              0.3333333333333333,
              "#9c179e"
             ],
             [
              0.4444444444444444,
              "#bd3786"
             ],
             [
              0.5555555555555556,
              "#d8576b"
             ],
             [
              0.6666666666666666,
              "#ed7953"
             ],
             [
              0.7777777777777778,
              "#fb9f3a"
             ],
             [
              0.8888888888888888,
              "#fdca26"
             ],
             [
              1,
              "#f0f921"
             ]
            ],
            "type": "histogram2d"
           }
          ],
          "histogram2dcontour": [
           {
            "colorbar": {
             "outlinewidth": 0,
             "ticks": ""
            },
            "colorscale": [
             [
              0,
              "#0d0887"
             ],
             [
              0.1111111111111111,
              "#46039f"
             ],
             [
              0.2222222222222222,
              "#7201a8"
             ],
             [
              0.3333333333333333,
              "#9c179e"
             ],
             [
              0.4444444444444444,
              "#bd3786"
             ],
             [
              0.5555555555555556,
              "#d8576b"
             ],
             [
              0.6666666666666666,
              "#ed7953"
             ],
             [
              0.7777777777777778,
              "#fb9f3a"
             ],
             [
              0.8888888888888888,
              "#fdca26"
             ],
             [
              1,
              "#f0f921"
             ]
            ],
            "type": "histogram2dcontour"
           }
          ],
          "mesh3d": [
           {
            "colorbar": {
             "outlinewidth": 0,
             "ticks": ""
            },
            "type": "mesh3d"
           }
          ],
          "parcoords": [
           {
            "line": {
             "colorbar": {
              "outlinewidth": 0,
              "ticks": ""
             }
            },
            "type": "parcoords"
           }
          ],
          "pie": [
           {
            "automargin": true,
            "type": "pie"
           }
          ],
          "scatter": [
           {
            "marker": {
             "colorbar": {
              "outlinewidth": 0,
              "ticks": ""
             }
            },
            "type": "scatter"
           }
          ],
          "scatter3d": [
           {
            "line": {
             "colorbar": {
              "outlinewidth": 0,
              "ticks": ""
             }
            },
            "marker": {
             "colorbar": {
              "outlinewidth": 0,
              "ticks": ""
             }
            },
            "type": "scatter3d"
           }
          ],
          "scattercarpet": [
           {
            "marker": {
             "colorbar": {
              "outlinewidth": 0,
              "ticks": ""
             }
            },
            "type": "scattercarpet"
           }
          ],
          "scattergeo": [
           {
            "marker": {
             "colorbar": {
              "outlinewidth": 0,
              "ticks": ""
             }
            },
            "type": "scattergeo"
           }
          ],
          "scattergl": [
           {
            "marker": {
             "colorbar": {
              "outlinewidth": 0,
              "ticks": ""
             }
            },
            "type": "scattergl"
           }
          ],
          "scattermapbox": [
           {
            "marker": {
             "colorbar": {
              "outlinewidth": 0,
              "ticks": ""
             }
            },
            "type": "scattermapbox"
           }
          ],
          "scatterpolar": [
           {
            "marker": {
             "colorbar": {
              "outlinewidth": 0,
              "ticks": ""
             }
            },
            "type": "scatterpolar"
           }
          ],
          "scatterpolargl": [
           {
            "marker": {
             "colorbar": {
              "outlinewidth": 0,
              "ticks": ""
             }
            },
            "type": "scatterpolargl"
           }
          ],
          "scatterternary": [
           {
            "marker": {
             "colorbar": {
              "outlinewidth": 0,
              "ticks": ""
             }
            },
            "type": "scatterternary"
           }
          ],
          "surface": [
           {
            "colorbar": {
             "outlinewidth": 0,
             "ticks": ""
            },
            "colorscale": [
             [
              0,
              "#0d0887"
             ],
             [
              0.1111111111111111,
              "#46039f"
             ],
             [
              0.2222222222222222,
              "#7201a8"
             ],
             [
              0.3333333333333333,
              "#9c179e"
             ],
             [
              0.4444444444444444,
              "#bd3786"
             ],
             [
              0.5555555555555556,
              "#d8576b"
             ],
             [
              0.6666666666666666,
              "#ed7953"
             ],
             [
              0.7777777777777778,
              "#fb9f3a"
             ],
             [
              0.8888888888888888,
              "#fdca26"
             ],
             [
              1,
              "#f0f921"
             ]
            ],
            "type": "surface"
           }
          ],
          "table": [
           {
            "cells": {
             "fill": {
              "color": "#EBF0F8"
             },
             "line": {
              "color": "white"
             }
            },
            "header": {
             "fill": {
              "color": "#C8D4E3"
             },
             "line": {
              "color": "white"
             }
            },
            "type": "table"
           }
          ]
         },
         "layout": {
          "annotationdefaults": {
           "arrowcolor": "#2a3f5f",
           "arrowhead": 0,
           "arrowwidth": 1
          },
          "autotypenumbers": "strict",
          "coloraxis": {
           "colorbar": {
            "outlinewidth": 0,
            "ticks": ""
           }
          },
          "colorscale": {
           "diverging": [
            [
             0,
             "#8e0152"
            ],
            [
             0.1,
             "#c51b7d"
            ],
            [
             0.2,
             "#de77ae"
            ],
            [
             0.3,
             "#f1b6da"
            ],
            [
             0.4,
             "#fde0ef"
            ],
            [
             0.5,
             "#f7f7f7"
            ],
            [
             0.6,
             "#e6f5d0"
            ],
            [
             0.7,
             "#b8e186"
            ],
            [
             0.8,
             "#7fbc41"
            ],
            [
             0.9,
             "#4d9221"
            ],
            [
             1,
             "#276419"
            ]
           ],
           "sequential": [
            [
             0,
             "#0d0887"
            ],
            [
             0.1111111111111111,
             "#46039f"
            ],
            [
             0.2222222222222222,
             "#7201a8"
            ],
            [
             0.3333333333333333,
             "#9c179e"
            ],
            [
             0.4444444444444444,
             "#bd3786"
            ],
            [
             0.5555555555555556,
             "#d8576b"
            ],
            [
             0.6666666666666666,
             "#ed7953"
            ],
            [
             0.7777777777777778,
             "#fb9f3a"
            ],
            [
             0.8888888888888888,
             "#fdca26"
            ],
            [
             1,
             "#f0f921"
            ]
           ],
           "sequentialminus": [
            [
             0,
             "#0d0887"
            ],
            [
             0.1111111111111111,
             "#46039f"
            ],
            [
             0.2222222222222222,
             "#7201a8"
            ],
            [
             0.3333333333333333,
             "#9c179e"
            ],
            [
             0.4444444444444444,
             "#bd3786"
            ],
            [
             0.5555555555555556,
             "#d8576b"
            ],
            [
             0.6666666666666666,
             "#ed7953"
            ],
            [
             0.7777777777777778,
             "#fb9f3a"
            ],
            [
             0.8888888888888888,
             "#fdca26"
            ],
            [
             1,
             "#f0f921"
            ]
           ]
          },
          "colorway": [
           "#636efa",
           "#EF553B",
           "#00cc96",
           "#ab63fa",
           "#FFA15A",
           "#19d3f3",
           "#FF6692",
           "#B6E880",
           "#FF97FF",
           "#FECB52"
          ],
          "font": {
           "color": "#2a3f5f"
          },
          "geo": {
           "bgcolor": "white",
           "lakecolor": "white",
           "landcolor": "#E5ECF6",
           "showlakes": true,
           "showland": true,
           "subunitcolor": "white"
          },
          "hoverlabel": {
           "align": "left"
          },
          "hovermode": "closest",
          "mapbox": {
           "style": "light"
          },
          "paper_bgcolor": "white",
          "plot_bgcolor": "#E5ECF6",
          "polar": {
           "angularaxis": {
            "gridcolor": "white",
            "linecolor": "white",
            "ticks": ""
           },
           "bgcolor": "#E5ECF6",
           "radialaxis": {
            "gridcolor": "white",
            "linecolor": "white",
            "ticks": ""
           }
          },
          "scene": {
           "xaxis": {
            "backgroundcolor": "#E5ECF6",
            "gridcolor": "white",
            "gridwidth": 2,
            "linecolor": "white",
            "showbackground": true,
            "ticks": "",
            "zerolinecolor": "white"
           },
           "yaxis": {
            "backgroundcolor": "#E5ECF6",
            "gridcolor": "white",
            "gridwidth": 2,
            "linecolor": "white",
            "showbackground": true,
            "ticks": "",
            "zerolinecolor": "white"
           },
           "zaxis": {
            "backgroundcolor": "#E5ECF6",
            "gridcolor": "white",
            "gridwidth": 2,
            "linecolor": "white",
            "showbackground": true,
            "ticks": "",
            "zerolinecolor": "white"
           }
          },
          "shapedefaults": {
           "line": {
            "color": "#2a3f5f"
           }
          },
          "ternary": {
           "aaxis": {
            "gridcolor": "white",
            "linecolor": "white",
            "ticks": ""
           },
           "baxis": {
            "gridcolor": "white",
            "linecolor": "white",
            "ticks": ""
           },
           "bgcolor": "#E5ECF6",
           "caxis": {
            "gridcolor": "white",
            "linecolor": "white",
            "ticks": ""
           }
          },
          "title": {
           "x": 0.05
          },
          "xaxis": {
           "automargin": true,
           "gridcolor": "white",
           "linecolor": "white",
           "ticks": "",
           "title": {
            "standoff": 15
           },
           "zerolinecolor": "white",
           "zerolinewidth": 2
          },
          "yaxis": {
           "automargin": true,
           "gridcolor": "white",
           "linecolor": "white",
           "ticks": "",
           "title": {
            "standoff": 15
           },
           "zerolinecolor": "white",
           "zerolinewidth": 2
          }
         }
        },
        "width": 1100
       }
      },
      "image/png": "[encoded data removed]",
      "text/html": [
       "<div>                            <div id=\"43e469ca-0ee2-408e-ad26-f56ccbfc1b28\" class=\"plotly-graph-div\" style=\"height:400px; width:1100px;\"></div>            <script type=\"text/javascript\">                require([\"plotly\"], function(Plotly) {                    window.PLOTLYENV=window.PLOTLYENV || {};                                    if (document.getElementById(\"43e469ca-0ee2-408e-ad26-f56ccbfc1b28\")) {                    Plotly.newPlot(                        \"43e469ca-0ee2-408e-ad26-f56ccbfc1b28\",                        [{\"branchvalues\":\"total\",\"customdata\":[[\"Ausl\\u00e4nder/in\"],[\"Ausl\\u00e4nder/in\"],[\"Ausl\\u00e4nder/in\"],[\"Ausl\\u00e4nder/in\"],[\"Ausl\\u00e4nder/in\"],[\"Ausl\\u00e4nder/in\"],[\"Ausl\\u00e4nder/in\"],[\"Schweizer/in\"],[\"Ausl\\u00e4nder/in\"],[\"Schweizer/in\"],[\"Schweizer/in\"],[\"Schweizer/in\"],[\"Schweizer/in\"],[\"Schweizer/in\"],[\"Schweizer/in\"],[\"Schweizer/in\"],[\"Schweizer/in\"],[\"Schweizer/in\"],[\"Ausl\\u00e4nder/in\"],[\"Ausl\\u00e4nder/in\"],[\"Ausl\\u00e4nder/in\"],[\"Ausl\\u00e4nder/in\"],[\"Ausl\\u00e4nder/in\"],[\"Ausl\\u00e4nder/in\"],[\"Ausl\\u00e4nder/in\"],[\"Ausl\\u00e4nder/in\"],[\"Ausl\\u00e4nder/in\"],[\"Ausl\\u00e4nder/in\"],[\"Ausl\\u00e4nder/in\"],[\"Ausl\\u00e4nder/in\"],[\"Ausl\\u00e4nder/in\"],[\"Ausl\\u00e4nder/in\"],[\"Ausl\\u00e4nder/in\"],[\"Ausl\\u00e4nder/in\"],[\"Schweizer/in\"],[\"Schweizer/in\"],[\"Ausl\\u00e4nder/in\"],[\"Schweizer/in\"],[\"Ausl\\u00e4nder/in\"],[\"Schweizer/in\"],[\"Schweizer/in\"],[\"Schweizer/in\"],[\"Schweizer/in\"],[\"Schweizer/in\"],[\"Schweizer/in\"],[\"Schweizer/in\"],[\"Schweizer/in\"],[\"Schweizer/in\"],[\"Schweizer/in\"],[\"Schweizer/in\"],[\"Schweizer/in\"],[\"Ausl\\u00e4nder/in\"],[\"Ausl\\u00e4nder/in\"],[\"Ausl\\u00e4nder/in\"],[\"Ausl\\u00e4nder/in\"],[\"Ausl\\u00e4nder/in\"],[\"Ausl\\u00e4nder/in\"],[\"Schweizer/in\"],[\"Schweizer/in\"],[\"Schweizer/in\"],[\"Schweizer/in\"],[\"Schweizer/in\"],[\"Schweizer/in\"],[\"Ausl\\u00e4nder/in\"],[\"Ausl\\u00e4nder/in\"],[\"Schweizer/in\"],[\"Schweizer/in\"],[\"Schweizer/in\"],[\"(?)\"],[\"(?)\"],[\"(?)\"],[\"(?)\"],[\"(?)\"],[\"(?)\"],[\"(?)\"],[\"(?)\"],[\"(?)\"],[\"(?)\"],[\"(?)\"],[\"(?)\"],[\"(?)\"],[\"(?)\"],[\"(?)\"],[\"(?)\"],[\"(?)\"],[\"(?)\"],[\"(?)\"],[\"(?)\"],[\"(?)\"],[\"(?)\"],[\"(?)\"],[\"(?)\"],[\"(?)\"],[\"(?)\"],[\"(?)\"],[\"(?)\"],[\"(?)\"],[\"(?)\"],[\"(?)\"],[\"(?)\"],[\"(?)\"],[\"(?)\"],[\"(?)\"],[\"(?)\"]],\"domain\":{\"x\":[0.0,1.0],\"y\":[0.0,1.0]},\"hovertemplate\":\"labels=%{label}<br>sum_WBev=%{value}<br>parent=%{parent}<br>id=%{id}<br>HerkunftLang=%{customdata[0]}<extra></extra>\",\"ids\":[\"WBev nach Quartier und Herkunft, 2021/2021-01-01/Affoltern/Ausl\\u00e4nder/in\",\"WBev nach Quartier und Herkunft, 2021/2021-01-01/Rathaus/Ausl\\u00e4nder/in\",\"WBev nach Quartier und Herkunft, 2021/2021-01-01/Schwamendingen-Mitte/Ausl\\u00e4nder/in\",\"WBev nach Quartier und Herkunft, 2021/2021-01-01/Weinegg/Ausl\\u00e4nder/in\",\"WBev nach Quartier und Herkunft, 2021/2021-01-01/Werd/Ausl\\u00e4nder/in\",\"WBev nach Quartier und Herkunft, 2021/2021-01-01/Wipkingen/Ausl\\u00e4nder/in\",\"WBev nach Quartier und Herkunft, 2021/2021-01-01/Witikon/Ausl\\u00e4nder/in\",\"WBev nach Quartier und Herkunft, 2021/2021-01-01/Albisrieden/Schweizer/in\",\"WBev nach Quartier und Herkunft, 2021/2021-01-01/Oerlikon/Ausl\\u00e4nder/in\",\"WBev nach Quartier und Herkunft, 2021/2021-01-01/Alt-Wiedikon/Schweizer/in\",\"WBev nach Quartier und Herkunft, 2021/2021-01-01/Escher Wyss/Schweizer/in\",\"WBev nach Quartier und Herkunft, 2021/2021-01-01/Hard/Schweizer/in\",\"WBev nach Quartier und Herkunft, 2021/2021-01-01/Hirslanden/Schweizer/in\",\"WBev nach Quartier und Herkunft, 2021/2021-01-01/Lindenhof/Schweizer/in\",\"WBev nach Quartier und Herkunft, 2021/2021-01-01/Oberstrass/Schweizer/in\",\"WBev nach Quartier und Herkunft, 2021/2021-01-01/Oerlikon/Schweizer/in\",\"WBev nach Quartier und Herkunft, 2021/2021-01-01/Schwamendingen-Mitte/Schweizer/in\",\"WBev nach Quartier und Herkunft, 2021/2021-01-01/Altstetten/Schweizer/in\",\"WBev nach Quartier und Herkunft, 2021/2021-01-01/Oberstrass/Ausl\\u00e4nder/in\",\"WBev nach Quartier und Herkunft, 2021/2021-01-01/Wollishofen/Ausl\\u00e4nder/in\",\"WBev nach Quartier und Herkunft, 2021/2021-01-01/Lindenhof/Ausl\\u00e4nder/in\",\"WBev nach Quartier und Herkunft, 2021/2021-01-01/Escher Wyss/Ausl\\u00e4nder/in\",\"WBev nach Quartier und Herkunft, 2021/2021-01-01/Alt-Wiedikon/Ausl\\u00e4nder/in\",\"WBev nach Quartier und Herkunft, 2021/2021-01-01/Fluntern/Ausl\\u00e4nder/in\",\"WBev nach Quartier und Herkunft, 2021/2021-01-01/Friesenberg/Ausl\\u00e4nder/in\",\"WBev nach Quartier und Herkunft, 2021/2021-01-01/Gewerbeschule/Ausl\\u00e4nder/in\",\"WBev nach Quartier und Herkunft, 2021/2021-01-01/Hard/Ausl\\u00e4nder/in\",\"WBev nach Quartier und Herkunft, 2021/2021-01-01/Hirslanden/Ausl\\u00e4nder/in\",\"WBev nach Quartier und Herkunft, 2021/2021-01-01/Hirzenbach/Ausl\\u00e4nder/in\",\"WBev nach Quartier und Herkunft, 2021/2021-01-01/Albisrieden/Ausl\\u00e4nder/in\",\"WBev nach Quartier und Herkunft, 2021/2021-01-01/Leimbach/Ausl\\u00e4nder/in\",\"WBev nach Quartier und Herkunft, 2021/2021-01-01/Langstrasse/Ausl\\u00e4nder/in\",\"WBev nach Quartier und Herkunft, 2021/2021-01-01/H\\u00f6ngg/Ausl\\u00e4nder/in\",\"WBev nach Quartier und Herkunft, 2021/2021-01-01/Hottingen/Ausl\\u00e4nder/in\",\"WBev nach Quartier und Herkunft, 2021/2021-01-01/Seefeld/Schweizer/in\",\"WBev nach Quartier und Herkunft, 2021/2021-01-01/Leimbach/Schweizer/in\",\"WBev nach Quartier und Herkunft, 2021/2021-01-01/City/Ausl\\u00e4nder/in\",\"WBev nach Quartier und Herkunft, 2021/2021-01-01/M\\u00fchlebach/Schweizer/in\",\"WBev nach Quartier und Herkunft, 2021/2021-01-01/Altstetten/Ausl\\u00e4nder/in\",\"WBev nach Quartier und Herkunft, 2021/2021-01-01/Wipkingen/Schweizer/in\",\"WBev nach Quartier und Herkunft, 2021/2021-01-01/Rathaus/Schweizer/in\",\"WBev nach Quartier und Herkunft, 2021/2021-01-01/Werd/Schweizer/in\",\"WBev nach Quartier und Herkunft, 2021/2021-01-01/Weinegg/Schweizer/in\",\"WBev nach Quartier und Herkunft, 2021/2021-01-01/Langstrasse/Schweizer/in\",\"WBev nach Quartier und Herkunft, 2021/2021-01-01/Seebach/Schweizer/in\",\"WBev nach Quartier und Herkunft, 2021/2021-01-01/Unterstrass/Schweizer/in\",\"WBev nach Quartier und Herkunft, 2021/2021-01-01/Sihlfeld/Schweizer/in\",\"WBev nach Quartier und Herkunft, 2021/2021-01-01/Saatlen/Schweizer/in\",\"WBev nach Quartier und Herkunft, 2021/2021-01-01/H\\u00f6ngg/Schweizer/in\",\"WBev nach Quartier und Herkunft, 2021/2021-01-01/Gewerbeschule/Schweizer/in\",\"WBev nach Quartier und Herkunft, 2021/2021-01-01/Hochschulen/Schweizer/in\",\"WBev nach Quartier und Herkunft, 2021/2021-01-01/Saatlen/Ausl\\u00e4nder/in\",\"WBev nach Quartier und Herkunft, 2021/2021-01-01/Seebach/Ausl\\u00e4nder/in\",\"WBev nach Quartier und Herkunft, 2021/2021-01-01/Seefeld/Ausl\\u00e4nder/in\",\"WBev nach Quartier und Herkunft, 2021/2021-01-01/Sihlfeld/Ausl\\u00e4nder/in\",\"WBev nach Quartier und Herkunft, 2021/2021-01-01/Unterstrass/Ausl\\u00e4nder/in\",\"WBev nach Quartier und Herkunft, 2021/2021-01-01/Hochschulen/Ausl\\u00e4nder/in\",\"WBev nach Quartier und Herkunft, 2021/2021-01-01/Witikon/Schweizer/in\",\"WBev nach Quartier und Herkunft, 2021/2021-01-01/Affoltern/Schweizer/in\",\"WBev nach Quartier und Herkunft, 2021/2021-01-01/City/Schweizer/in\",\"WBev nach Quartier und Herkunft, 2021/2021-01-01/Enge/Schweizer/in\",\"WBev nach Quartier und Herkunft, 2021/2021-01-01/Fluntern/Schweizer/in\",\"WBev nach Quartier und Herkunft, 2021/2021-01-01/Friesenberg/Schweizer/in\",\"WBev nach Quartier und Herkunft, 2021/2021-01-01/M\\u00fchlebach/Ausl\\u00e4nder/in\",\"WBev nach Quartier und Herkunft, 2021/2021-01-01/Enge/Ausl\\u00e4nder/in\",\"WBev nach Quartier und Herkunft, 2021/2021-01-01/Hirzenbach/Schweizer/in\",\"WBev nach Quartier und Herkunft, 2021/2021-01-01/Hottingen/Schweizer/in\",\"WBev nach Quartier und Herkunft, 2021/2021-01-01/Wollishofen/Schweizer/in\",\"WBev nach Quartier und Herkunft, 2021/2021-01-01/Affoltern\",\"WBev nach Quartier und Herkunft, 2021/2021-01-01/Albisrieden\",\"WBev nach Quartier und Herkunft, 2021/2021-01-01/Alt-Wiedikon\",\"WBev nach Quartier und Herkunft, 2021/2021-01-01/Altstetten\",\"WBev nach Quartier und Herkunft, 2021/2021-01-01/City\",\"WBev nach Quartier und Herkunft, 2021/2021-01-01/Enge\",\"WBev nach Quartier und Herkunft, 2021/2021-01-01/Escher Wyss\",\"WBev nach Quartier und Herkunft, 2021/2021-01-01/Fluntern\",\"WBev nach Quartier und Herkunft, 2021/2021-01-01/Friesenberg\",\"WBev nach Quartier und Herkunft, 2021/2021-01-01/Gewerbeschule\",\"WBev nach Quartier und Herkunft, 2021/2021-01-01/Hard\",\"WBev nach Quartier und Herkunft, 2021/2021-01-01/Hirslanden\",\"WBev nach Quartier und Herkunft, 2021/2021-01-01/Hirzenbach\",\"WBev nach Quartier und Herkunft, 2021/2021-01-01/Hochschulen\",\"WBev nach Quartier und Herkunft, 2021/2021-01-01/Hottingen\",\"WBev nach Quartier und Herkunft, 2021/2021-01-01/H\\u00f6ngg\",\"WBev nach Quartier und Herkunft, 2021/2021-01-01/Langstrasse\",\"WBev nach Quartier und Herkunft, 2021/2021-01-01/Leimbach\",\"WBev nach Quartier und Herkunft, 2021/2021-01-01/Lindenhof\",\"WBev nach Quartier und Herkunft, 2021/2021-01-01/M\\u00fchlebach\",\"WBev nach Quartier und Herkunft, 2021/2021-01-01/Oberstrass\",\"WBev nach Quartier und Herkunft, 2021/2021-01-01/Oerlikon\",\"WBev nach Quartier und Herkunft, 2021/2021-01-01/Rathaus\",\"WBev nach Quartier und Herkunft, 2021/2021-01-01/Saatlen\",\"WBev nach Quartier und Herkunft, 2021/2021-01-01/Schwamendingen-Mitte\",\"WBev nach Quartier und Herkunft, 2021/2021-01-01/Seebach\",\"WBev nach Quartier und Herkunft, 2021/2021-01-01/Seefeld\",\"WBev nach Quartier und Herkunft, 2021/2021-01-01/Sihlfeld\",\"WBev nach Quartier und Herkunft, 2021/2021-01-01/Unterstrass\",\"WBev nach Quartier und Herkunft, 2021/2021-01-01/Weinegg\",\"WBev nach Quartier und Herkunft, 2021/2021-01-01/Werd\",\"WBev nach Quartier und Herkunft, 2021/2021-01-01/Wipkingen\",\"WBev nach Quartier und Herkunft, 2021/2021-01-01/Witikon\",\"WBev nach Quartier und Herkunft, 2021/2021-01-01/Wollishofen\",\"WBev nach Quartier und Herkunft, 2021/2021-01-01\",\"WBev nach Quartier und Herkunft, 2021\"],\"labels\":[\"Ausl\\u00e4nder/in\",\"Ausl\\u00e4nder/in\",\"Ausl\\u00e4nder/in\",\"Ausl\\u00e4nder/in\",\"Ausl\\u00e4nder/in\",\"Ausl\\u00e4nder/in\",\"Ausl\\u00e4nder/in\",\"Schweizer/in\",\"Ausl\\u00e4nder/in\",\"Schweizer/in\",\"Schweizer/in\",\"Schweizer/in\",\"Schweizer/in\",\"Schweizer/in\",\"Schweizer/in\",\"Schweizer/in\",\"Schweizer/in\",\"Schweizer/in\",\"Ausl\\u00e4nder/in\",\"Ausl\\u00e4nder/in\",\"Ausl\\u00e4nder/in\",\"Ausl\\u00e4nder/in\",\"Ausl\\u00e4nder/in\",\"Ausl\\u00e4nder/in\",\"Ausl\\u00e4nder/in\",\"Ausl\\u00e4nder/in\",\"Ausl\\u00e4nder/in\",\"Ausl\\u00e4nder/in\",\"Ausl\\u00e4nder/in\",\"Ausl\\u00e4nder/in\",\"Ausl\\u00e4nder/in\",\"Ausl\\u00e4nder/in\",\"Ausl\\u00e4nder/in\",\"Ausl\\u00e4nder/in\",\"Schweizer/in\",\"Schweizer/in\",\"Ausl\\u00e4nder/in\",\"Schweizer/in\",\"Ausl\\u00e4nder/in\",\"Schweizer/in\",\"Schweizer/in\",\"Schweizer/in\",\"Schweizer/in\",\"Schweizer/in\",\"Schweizer/in\",\"Schweizer/in\",\"Schweizer/in\",\"Schweizer/in\",\"Schweizer/in\",\"Schweizer/in\",\"Schweizer/in\",\"Ausl\\u00e4nder/in\",\"Ausl\\u00e4nder/in\",\"Ausl\\u00e4nder/in\",\"Ausl\\u00e4nder/in\",\"Ausl\\u00e4nder/in\",\"Ausl\\u00e4nder/in\",\"Schweizer/in\",\"Schweizer/in\",\"Schweizer/in\",\"Schweizer/in\",\"Schweizer/in\",\"Schweizer/in\",\"Ausl\\u00e4nder/in\",\"Ausl\\u00e4nder/in\",\"Schweizer/in\",\"Schweizer/in\",\"Schweizer/in\",\"Affoltern\",\"Albisrieden\",\"Alt-Wiedikon\",\"Altstetten\",\"City\",\"Enge\",\"Escher Wyss\",\"Fluntern\",\"Friesenberg\",\"Gewerbeschule\",\"Hard\",\"Hirslanden\",\"Hirzenbach\",\"Hochschulen\",\"Hottingen\",\"H\\u00f6ngg\",\"Langstrasse\",\"Leimbach\",\"Lindenhof\",\"M\\u00fchlebach\",\"Oberstrass\",\"Oerlikon\",\"Rathaus\",\"Saatlen\",\"Schwamendingen-Mitte\",\"Seebach\",\"Seefeld\",\"Sihlfeld\",\"Unterstrass\",\"Weinegg\",\"Werd\",\"Wipkingen\",\"Witikon\",\"Wollishofen\",\"2021-01-01\",\"WBev nach Quartier und Herkunft, 2021\"],\"marker\":{\"colors\":[\"#ab63fa\",\"#ab63fa\",\"#ab63fa\",\"#ab63fa\",\"#ab63fa\",\"#ab63fa\",\"#ab63fa\",\"gold\",\"#ab63fa\",\"gold\",\"gold\",\"gold\",\"gold\",\"gold\",\"gold\",\"gold\",\"gold\",\"gold\",\"#ab63fa\",\"#ab63fa\",\"#ab63fa\",\"#ab63fa\",\"#ab63fa\",\"#ab63fa\",\"#ab63fa\",\"#ab63fa\",\"#ab63fa\",\"#ab63fa\",\"#ab63fa\",\"#ab63fa\",\"#ab63fa\",\"#ab63fa\",\"#ab63fa\",\"#ab63fa\",\"gold\",\"gold\",\"#ab63fa\",\"gold\",\"#ab63fa\",\"gold\",\"gold\",\"gold\",\"gold\",\"gold\",\"gold\",\"gold\",\"gold\",\"gold\",\"gold\",\"gold\",\"gold\",\"#ab63fa\",\"#ab63fa\",\"#ab63fa\",\"#ab63fa\",\"#ab63fa\",\"#ab63fa\",\"gold\",\"gold\",\"gold\",\"gold\",\"gold\",\"gold\",\"#ab63fa\",\"#ab63fa\",\"gold\",\"gold\",\"gold\",\"lightgrey\",\"lightgrey\",\"lightgrey\",\"lightgrey\",\"lightgrey\",\"lightgrey\",\"lightgrey\",\"lightgrey\",\"lightgrey\",\"lightgrey\",\"lightgrey\",\"lightgrey\",\"lightgrey\",\"lightgrey\",\"lightgrey\",\"lightgrey\",\"lightgrey\",\"lightgrey\",\"lightgrey\",\"lightgrey\",\"lightgrey\",\"lightgrey\",\"lightgrey\",\"lightgrey\",\"lightgrey\",\"lightgrey\",\"lightgrey\",\"lightgrey\",\"lightgrey\",\"lightgrey\",\"lightgrey\",\"lightgrey\",\"lightgrey\",\"lightgrey\",\"lightgrey\",\"lightgrey\"]},\"name\":\"\",\"parents\":[\"WBev nach Quartier und Herkunft, 2021/2021-01-01/Affoltern\",\"WBev nach Quartier und Herkunft, 2021/2021-01-01/Rathaus\",\"WBev nach Quartier und Herkunft, 2021/2021-01-01/Schwamendingen-Mitte\",\"WBev nach Quartier und Herkunft, 2021/2021-01-01/Weinegg\",\"WBev nach Quartier und Herkunft, 2021/2021-01-01/Werd\",\"WBev nach Quartier und Herkunft, 2021/2021-01-01/Wipkingen\",\"WBev nach Quartier und Herkunft, 2021/2021-01-01/Witikon\",\"WBev nach Quartier und Herkunft, 2021/2021-01-01/Albisrieden\",\"WBev nach Quartier und Herkunft, 2021/2021-01-01/Oerlikon\",\"WBev nach Quartier und Herkunft, 2021/2021-01-01/Alt-Wiedikon\",\"WBev nach Quartier und Herkunft, 2021/2021-01-01/Escher Wyss\",\"WBev nach Quartier und Herkunft, 2021/2021-01-01/Hard\",\"WBev nach Quartier und Herkunft, 2021/2021-01-01/Hirslanden\",\"WBev nach Quartier und Herkunft, 2021/2021-01-01/Lindenhof\",\"WBev nach Quartier und Herkunft, 2021/2021-01-01/Oberstrass\",\"WBev nach Quartier und Herkunft, 2021/2021-01-01/Oerlikon\",\"WBev nach Quartier und Herkunft, 2021/2021-01-01/Schwamendingen-Mitte\",\"WBev nach Quartier und Herkunft, 2021/2021-01-01/Altstetten\",\"WBev nach Quartier und Herkunft, 2021/2021-01-01/Oberstrass\",\"WBev nach Quartier und Herkunft, 2021/2021-01-01/Wollishofen\",\"WBev nach Quartier und Herkunft, 2021/2021-01-01/Lindenhof\",\"WBev nach Quartier und Herkunft, 2021/2021-01-01/Escher Wyss\",\"WBev nach Quartier und Herkunft, 2021/2021-01-01/Alt-Wiedikon\",\"WBev nach Quartier und Herkunft, 2021/2021-01-01/Fluntern\",\"WBev nach Quartier und Herkunft, 2021/2021-01-01/Friesenberg\",\"WBev nach Quartier und Herkunft, 2021/2021-01-01/Gewerbeschule\",\"WBev nach Quartier und Herkunft, 2021/2021-01-01/Hard\",\"WBev nach Quartier und Herkunft, 2021/2021-01-01/Hirslanden\",\"WBev nach Quartier und Herkunft, 2021/2021-01-01/Hirzenbach\",\"WBev nach Quartier und Herkunft, 2021/2021-01-01/Albisrieden\",\"WBev nach Quartier und Herkunft, 2021/2021-01-01/Leimbach\",\"WBev nach Quartier und Herkunft, 2021/2021-01-01/Langstrasse\",\"WBev nach Quartier und Herkunft, 2021/2021-01-01/H\\u00f6ngg\",\"WBev nach Quartier und Herkunft, 2021/2021-01-01/Hottingen\",\"WBev nach Quartier und Herkunft, 2021/2021-01-01/Seefeld\",\"WBev nach Quartier und Herkunft, 2021/2021-01-01/Leimbach\",\"WBev nach Quartier und Herkunft, 2021/2021-01-01/City\",\"WBev nach Quartier und Herkunft, 2021/2021-01-01/M\\u00fchlebach\",\"WBev nach Quartier und Herkunft, 2021/2021-01-01/Altstetten\",\"WBev nach Quartier und Herkunft, 2021/2021-01-01/Wipkingen\",\"WBev nach Quartier und Herkunft, 2021/2021-01-01/Rathaus\",\"WBev nach Quartier und Herkunft, 2021/2021-01-01/Werd\",\"WBev nach Quartier und Herkunft, 2021/2021-01-01/Weinegg\",\"WBev nach Quartier und Herkunft, 2021/2021-01-01/Langstrasse\",\"WBev nach Quartier und Herkunft, 2021/2021-01-01/Seebach\",\"WBev nach Quartier und Herkunft, 2021/2021-01-01/Unterstrass\",\"WBev nach Quartier und Herkunft, 2021/2021-01-01/Sihlfeld\",\"WBev nach Quartier und Herkunft, 2021/2021-01-01/Saatlen\",\"WBev nach Quartier und Herkunft, 2021/2021-01-01/H\\u00f6ngg\",\"WBev nach Quartier und Herkunft, 2021/2021-01-01/Gewerbeschule\",\"WBev nach Quartier und Herkunft, 2021/2021-01-01/Hochschulen\",\"WBev nach Quartier und Herkunft, 2021/2021-01-01/Saatlen\",\"WBev nach Quartier und Herkunft, 2021/2021-01-01/Seebach\",\"WBev nach Quartier und Herkunft, 2021/2021-01-01/Seefeld\",\"WBev nach Quartier und Herkunft, 2021/2021-01-01/Sihlfeld\",\"WBev nach Quartier und Herkunft, 2021/2021-01-01/Unterstrass\",\"WBev nach Quartier und Herkunft, 2021/2021-01-01/Hochschulen\",\"WBev nach Quartier und Herkunft, 2021/2021-01-01/Witikon\",\"WBev nach Quartier und Herkunft, 2021/2021-01-01/Affoltern\",\"WBev nach Quartier und Herkunft, 2021/2021-01-01/City\",\"WBev nach Quartier und Herkunft, 2021/2021-01-01/Enge\",\"WBev nach Quartier und Herkunft, 2021/2021-01-01/Fluntern\",\"WBev nach Quartier und Herkunft, 2021/2021-01-01/Friesenberg\",\"WBev nach Quartier und Herkunft, 2021/2021-01-01/M\\u00fchlebach\",\"WBev nach Quartier und Herkunft, 2021/2021-01-01/Enge\",\"WBev nach Quartier und Herkunft, 2021/2021-01-01/Hirzenbach\",\"WBev nach Quartier und Herkunft, 2021/2021-01-01/Hottingen\",\"WBev nach Quartier und Herkunft, 2021/2021-01-01/Wollishofen\",\"WBev nach Quartier und Herkunft, 2021/2021-01-01\",\"WBev nach Quartier und Herkunft, 2021/2021-01-01\",\"WBev nach Quartier und Herkunft, 2021/2021-01-01\",\"WBev nach Quartier und Herkunft, 2021/2021-01-01\",\"WBev nach Quartier und Herkunft, 2021/2021-01-01\",\"WBev nach Quartier und Herkunft, 2021/2021-01-01\",\"WBev nach Quartier und Herkunft, 2021/2021-01-01\",\"WBev nach Quartier und Herkunft, 2021/2021-01-01\",\"WBev nach Quartier und Herkunft, 2021/2021-01-01\",\"WBev nach Quartier und Herkunft, 2021/2021-01-01\",\"WBev nach Quartier und Herkunft, 2021/2021-01-01\",\"WBev nach Quartier und Herkunft, 2021/2021-01-01\",\"WBev nach Quartier und Herkunft, 2021/2021-01-01\",\"WBev nach Quartier und Herkunft, 2021/2021-01-01\",\"WBev nach Quartier und Herkunft, 2021/2021-01-01\",\"WBev nach Quartier und Herkunft, 2021/2021-01-01\",\"WBev nach Quartier und Herkunft, 2021/2021-01-01\",\"WBev nach Quartier und Herkunft, 2021/2021-01-01\",\"WBev nach Quartier und Herkunft, 2021/2021-01-01\",\"WBev nach Quartier und Herkunft, 2021/2021-01-01\",\"WBev nach Quartier und Herkunft, 2021/2021-01-01\",\"WBev nach Quartier und Herkunft, 2021/2021-01-01\",\"WBev nach Quartier und Herkunft, 2021/2021-01-01\",\"WBev nach Quartier und Herkunft, 2021/2021-01-01\",\"WBev nach Quartier und Herkunft, 2021/2021-01-01\",\"WBev nach Quartier und Herkunft, 2021/2021-01-01\",\"WBev nach Quartier und Herkunft, 2021/2021-01-01\",\"WBev nach Quartier und Herkunft, 2021/2021-01-01\",\"WBev nach Quartier und Herkunft, 2021/2021-01-01\",\"WBev nach Quartier und Herkunft, 2021/2021-01-01\",\"WBev nach Quartier und Herkunft, 2021/2021-01-01\",\"WBev nach Quartier und Herkunft, 2021/2021-01-01\",\"WBev nach Quartier und Herkunft, 2021/2021-01-01\",\"WBev nach Quartier und Herkunft, 2021/2021-01-01\",\"WBev nach Quartier und Herkunft, 2021\",\"\"],\"values\":[8756,1026,4784,1877,1523,4404,3080,16498,9295,11697,4211,8256,5418,723,7589,14585,6191,22116,3277,6065,301,2010,5934,2685,1994,3041,4378,1920,4536,5914,2158,4464,6124,3177,3512,4180,259,4128,12549,12103,2249,3051,3671,7351,15978,17762,14918,6394,18386,6542,459,2394,10563,2350,6598,6727,242,8175,17798,558,6092,6092,8963,2280,3658,8355,8116,13872,26554,22412,17631,34665,817,9750,6221,8777,10957,9583,12634,7338,12891,701,11293,24510,11815,6338,1024,6408,10866,23880,3275,8788,10975,26541,5862,21516,24489,5548,4574,16507,11255,19937,436332,436332],\"type\":\"treemap\",\"root\":{\"color\":\"grey\"}}],                        {\"template\":{\"data\":{\"bar\":[{\"error_x\":{\"color\":\"#2a3f5f\"},\"error_y\":{\"color\":\"#2a3f5f\"},\"marker\":{\"line\":{\"color\":\"#E5ECF6\",\"width\":0.5},\"pattern\":{\"fillmode\":\"overlay\",\"size\":10,\"solidity\":0.2}},\"type\":\"bar\"}],\"barpolar\":[{\"marker\":{\"line\":{\"color\":\"#E5ECF6\",\"width\":0.5},\"pattern\":{\"fillmode\":\"overlay\",\"size\":10,\"solidity\":0.2}},\"type\":\"barpolar\"}],\"carpet\":[{\"aaxis\":{\"endlinecolor\":\"#2a3f5f\",\"gridcolor\":\"white\",\"linecolor\":\"white\",\"minorgridcolor\":\"white\",\"startlinecolor\":\"#2a3f5f\"},\"baxis\":{\"endlinecolor\":\"#2a3f5f\",\"gridcolor\":\"white\",\"linecolor\":\"white\",\"minorgridcolor\":\"white\",\"startlinecolor\":\"#2a3f5f\"},\"type\":\"carpet\"}],\"choropleth\":[{\"colorbar\":{\"outlinewidth\":0,\"ticks\":\"\"},\"type\":\"choropleth\"}],\"contour\":[{\"colorbar\":{\"outlinewidth\":0,\"ticks\":\"\"},\"colorscale\":[[0.0,\"#0d0887\"],[0.1111111111111111,\"#46039f\"],[0.2222222222222222,\"#7201a8\"],[0.3333333333333333,\"#9c179e\"],[0.4444444444444444,\"#bd3786\"],[0.5555555555555556,\"#d8576b\"],[0.6666666666666666,\"#ed7953\"],[0.7777777777777778,\"#fb9f3a\"],[0.8888888888888888,\"#fdca26\"],[1.0,\"#f0f921\"]],\"type\":\"contour\"}],\"contourcarpet\":[{\"colorbar\":{\"outlinewidth\":0,\"ticks\":\"\"},\"type\":\"contourcarpet\"}],\"heatmap\":[{\"colorbar\":{\"outlinewidth\":0,\"ticks\":\"\"},\"colorscale\":[[0.0,\"#0d0887\"],[0.1111111111111111,\"#46039f\"],[0.2222222222222222,\"#7201a8\"],[0.3333333333333333,\"#9c179e\"],[0.4444444444444444,\"#bd3786\"],[0.5555555555555556,\"#d8576b\"],[0.6666666666666666,\"#ed7953\"],[0.7777777777777778,\"#fb9f3a\"],[0.8888888888888888,\"#fdca26\"],[1.0,\"#f0f921\"]],\"type\":\"heatmap\"}],\"heatmapgl\":[{\"colorbar\":{\"outlinewidth\":0,\"ticks\":\"\"},\"colorscale\":[[0.0,\"#0d0887\"],[0.1111111111111111,\"#46039f\"],[0.2222222222222222,\"#7201a8\"],[0.3333333333333333,\"#9c179e\"],[0.4444444444444444,\"#bd3786\"],[0.5555555555555556,\"#d8576b\"],[0.6666666666666666,\"#ed7953\"],[0.7777777777777778,\"#fb9f3a\"],[0.8888888888888888,\"#fdca26\"],[1.0,\"#f0f921\"]],\"type\":\"heatmapgl\"}],\"histogram\":[{\"marker\":{\"pattern\":{\"fillmode\":\"overlay\",\"size\":10,\"solidity\":0.2}},\"type\":\"histogram\"}],\"histogram2d\":[{\"colorbar\":{\"outlinewidth\":0,\"ticks\":\"\"},\"colorscale\":[[0.0,\"#0d0887\"],[0.1111111111111111,\"#46039f\"],[0.2222222222222222,\"#7201a8\"],[0.3333333333333333,\"#9c179e\"],[0.4444444444444444,\"#bd3786\"],[0.5555555555555556,\"#d8576b\"],[0.6666666666666666,\"#ed7953\"],[0.7777777777777778,\"#fb9f3a\"],[0.8888888888888888,\"#fdca26\"],[1.0,\"#f0f921\"]],\"type\":\"histogram2d\"}],\"histogram2dcontour\":[{\"colorbar\":{\"outlinewidth\":0,\"ticks\":\"\"},\"colorscale\":[[0.0,\"#0d0887\"],[0.1111111111111111,\"#46039f\"],[0.2222222222222222,\"#7201a8\"],[0.3333333333333333,\"#9c179e\"],[0.4444444444444444,\"#bd3786\"],[0.5555555555555556,\"#d8576b\"],[0.6666666666666666,\"#ed7953\"],[0.7777777777777778,\"#fb9f3a\"],[0.8888888888888888,\"#fdca26\"],[1.0,\"#f0f921\"]],\"type\":\"histogram2dcontour\"}],\"mesh3d\":[{\"colorbar\":{\"outlinewidth\":0,\"ticks\":\"\"},\"type\":\"mesh3d\"}],\"parcoords\":[{\"line\":{\"colorbar\":{\"outlinewidth\":0,\"ticks\":\"\"}},\"type\":\"parcoords\"}],\"pie\":[{\"automargin\":true,\"type\":\"pie\"}],\"scatter\":[{\"marker\":{\"colorbar\":{\"outlinewidth\":0,\"ticks\":\"\"}},\"type\":\"scatter\"}],\"scatter3d\":[{\"line\":{\"colorbar\":{\"outlinewidth\":0,\"ticks\":\"\"}},\"marker\":{\"colorbar\":{\"outlinewidth\":0,\"ticks\":\"\"}},\"type\":\"scatter3d\"}],\"scattercarpet\":[{\"marker\":{\"colorbar\":{\"outlinewidth\":0,\"ticks\":\"\"}},\"type\":\"scattercarpet\"}],\"scattergeo\":[{\"marker\":{\"colorbar\":{\"outlinewidth\":0,\"ticks\":\"\"}},\"type\":\"scattergeo\"}],\"scattergl\":[{\"marker\":{\"colorbar\":{\"outlinewidth\":0,\"ticks\":\"\"}},\"type\":\"scattergl\"}],\"scattermapbox\":[{\"marker\":{\"colorbar\":{\"outlinewidth\":0,\"ticks\":\"\"}},\"type\":\"scattermapbox\"}],\"scatterpolar\":[{\"marker\":{\"colorbar\":{\"outlinewidth\":0,\"ticks\":\"\"}},\"type\":\"scatterpolar\"}],\"scatterpolargl\":[{\"marker\":{\"colorbar\":{\"outlinewidth\":0,\"ticks\":\"\"}},\"type\":\"scatterpolargl\"}],\"scatterternary\":[{\"marker\":{\"colorbar\":{\"outlinewidth\":0,\"ticks\":\"\"}},\"type\":\"scatterternary\"}],\"surface\":[{\"colorbar\":{\"outlinewidth\":0,\"ticks\":\"\"},\"colorscale\":[[0.0,\"#0d0887\"],[0.1111111111111111,\"#46039f\"],[0.2222222222222222,\"#7201a8\"],[0.3333333333333333,\"#9c179e\"],[0.4444444444444444,\"#bd3786\"],[0.5555555555555556,\"#d8576b\"],[0.6666666666666666,\"#ed7953\"],[0.7777777777777778,\"#fb9f3a\"],[0.8888888888888888,\"#fdca26\"],[1.0,\"#f0f921\"]],\"type\":\"surface\"}],\"table\":[{\"cells\":{\"fill\":{\"color\":\"#EBF0F8\"},\"line\":{\"color\":\"white\"}},\"header\":{\"fill\":{\"color\":\"#C8D4E3\"},\"line\":{\"color\":\"white\"}},\"type\":\"table\"}]},\"layout\":{\"annotationdefaults\":{\"arrowcolor\":\"#2a3f5f\",\"arrowhead\":0,\"arrowwidth\":1},\"autotypenumbers\":\"strict\",\"coloraxis\":{\"colorbar\":{\"outlinewidth\":0,\"ticks\":\"\"}},\"colorscale\":{\"diverging\":[[0,\"#8e0152\"],[0.1,\"#c51b7d\"],[0.2,\"#de77ae\"],[0.3,\"#f1b6da\"],[0.4,\"#fde0ef\"],[0.5,\"#f7f7f7\"],[0.6,\"#e6f5d0\"],[0.7,\"#b8e186\"],[0.8,\"#7fbc41\"],[0.9,\"#4d9221\"],[1,\"#276419\"]],\"sequential\":[[0.0,\"#0d0887\"],[0.1111111111111111,\"#46039f\"],[0.2222222222222222,\"#7201a8\"],[0.3333333333333333,\"#9c179e\"],[0.4444444444444444,\"#bd3786\"],[0.5555555555555556,\"#d8576b\"],[0.6666666666666666,\"#ed7953\"],[0.7777777777777778,\"#fb9f3a\"],[0.8888888888888888,\"#fdca26\"],[1.0,\"#f0f921\"]],\"sequentialminus\":[[0.0,\"#0d0887\"],[0.1111111111111111,\"#46039f\"],[0.2222222222222222,\"#7201a8\"],[0.3333333333333333,\"#9c179e\"],[0.4444444444444444,\"#bd3786\"],[0.5555555555555556,\"#d8576b\"],[0.6666666666666666,\"#ed7953\"],[0.7777777777777778,\"#fb9f3a\"],[0.8888888888888888,\"#fdca26\"],[1.0,\"#f0f921\"]]},\"colorway\":[\"#636efa\",\"#EF553B\",\"#00cc96\",\"#ab63fa\",\"#FFA15A\",\"#19d3f3\",\"#FF6692\",\"#B6E880\",\"#FF97FF\",\"#FECB52\"],\"font\":{\"color\":\"#2a3f5f\"},\"geo\":{\"bgcolor\":\"white\",\"lakecolor\":\"white\",\"landcolor\":\"#E5ECF6\",\"showlakes\":true,\"showland\":true,\"subunitcolor\":\"white\"},\"hoverlabel\":{\"align\":\"left\"},\"hovermode\":\"closest\",\"mapbox\":{\"style\":\"light\"},\"paper_bgcolor\":\"white\",\"plot_bgcolor\":\"#E5ECF6\",\"polar\":{\"angularaxis\":{\"gridcolor\":\"white\",\"linecolor\":\"white\",\"ticks\":\"\"},\"bgcolor\":\"#E5ECF6\",\"radialaxis\":{\"gridcolor\":\"white\",\"linecolor\":\"white\",\"ticks\":\"\"}},\"scene\":{\"xaxis\":{\"backgroundcolor\":\"#E5ECF6\",\"gridcolor\":\"white\",\"gridwidth\":2,\"linecolor\":\"white\",\"showbackground\":true,\"ticks\":\"\",\"zerolinecolor\":\"white\"},\"yaxis\":{\"backgroundcolor\":\"#E5ECF6\",\"gridcolor\":\"white\",\"gridwidth\":2,\"linecolor\":\"white\",\"showbackground\":true,\"ticks\":\"\",\"zerolinecolor\":\"white\"},\"zaxis\":{\"backgroundcolor\":\"#E5ECF6\",\"gridcolor\":\"white\",\"gridwidth\":2,\"linecolor\":\"white\",\"showbackground\":true,\"ticks\":\"\",\"zerolinecolor\":\"white\"}},\"shapedefaults\":{\"line\":{\"color\":\"#2a3f5f\"}},\"ternary\":{\"aaxis\":{\"gridcolor\":\"white\",\"linecolor\":\"white\",\"ticks\":\"\"},\"baxis\":{\"gridcolor\":\"white\",\"linecolor\":\"white\",\"ticks\":\"\"},\"bgcolor\":\"#E5ECF6\",\"caxis\":{\"gridcolor\":\"white\",\"linecolor\":\"white\",\"ticks\":\"\"}},\"title\":{\"x\":0.05},\"xaxis\":{\"automargin\":true,\"gridcolor\":\"white\",\"linecolor\":\"white\",\"ticks\":\"\",\"title\":{\"standoff\":15},\"zerolinecolor\":\"white\",\"zerolinewidth\":2},\"yaxis\":{\"automargin\":true,\"gridcolor\":\"white\",\"linecolor\":\"white\",\"ticks\":\"\",\"title\":{\"standoff\":15},\"zerolinecolor\":\"white\",\"zerolinewidth\":2}}},\"legend\":{\"tracegroupgap\":0},\"margin\":{\"t\":50,\"l\":25,\"r\":250,\"b\":25},\"height\":400,\"width\":1100},                        {\"responsive\": true}                    ).then(function(){\n",
       "                            \n",
       "var gd = document.getElementById('43e469ca-0ee2-408e-ad26-f56ccbfc1b28');\n",
       "var x = new MutationObserver(function (mutations, observer) {{\n",
       "        var display = window.getComputedStyle(gd).display;\n",
       "        if (!display || display === 'none') {{\n",
       "            console.log([gd, 'removed!']);\n",
       "            Plotly.purge(gd);\n",
       "            observer.disconnect();\n",
       "        }}\n",
       "}});\n",
       "\n",
       "// Listen for the removal of the full notebook cells\n",
       "var notebookContainer = gd.closest('#notebook-container');\n",
       "if (notebookContainer) {{\n",
       "    x.observe(notebookContainer, {childList: true});\n",
       "}}\n",
       "\n",
       "// Listen for the clearing of the current output cell\n",
       "var outputEl = gd.closest('.output');\n",
       "if (outputEl) {{\n",
       "    x.observe(outputEl, {childList: true});\n",
       "}}\n",
       "\n",
       "                        })                };                });            </script>        </div>"
      ]
     },
     "metadata": {},
     "output_type": "display_data"
    }
   ],
   "source": [
    "myTitle = \"WBev nach Quartier und Herkunft, 2021\"\n",
    "\n",
    "fig = px.treemap(myTreemapAgg.reset_index(), path=[px.Constant(myTitle), 'EreignisDatJahr', 'QuarLang', 'HerkunftLang']\n",
    "                 , values='sum_WBev'\n",
    "                 , color='HerkunftLang'\n",
    "                 ## bei discrete scales (bei Klassen und Strings):                 \n",
    "                 #, color_discrete_map={'(?)':'lightgrey','EVP':'gold', 'Ausländer/in':'#FF3030', 'PdA':'#EE3B3B', 'Grüne':'#A2CD5A','GLP':'#CAFF70','Die Mitte':'orange','FDP':'#104E8B','AL':'deeppink','SVP':'forestgreen', 'FL ZÜRI':'#8B864E','Volt':'#lightblue' }         \n",
    "                 , color_discrete_map={'(?)':'lightgrey','Schweizer/in':'gold', 'SP':'#FF3030' }               \n",
    "                 ## bei continuous scales (bei Zahlenwerten):\n",
    "                , color_continuous_scale='blues'\n",
    "                #, color_continuous_midpoint=np.average(df['AnzBestWir'], weights=df['AnzBestWir'])   \n",
    "                 ,height=400\n",
    "                 ,width=1100\n",
    "                )\n",
    "fig.update_traces(root_color=\"grey\")\n",
    "fig.update_layout(margin = dict(t=50, l=25, r=250, b=25))\n",
    "fig.show()"
   ]
  },
  {
   "cell_type": "code",
   "execution_count": 51,
   "metadata": {},
   "outputs": [],
   "source": [
    "#data2betested.dtypes"
   ]
  },
  {
   "cell_type": "markdown",
   "metadata": {
    "tags": []
   },
   "source": [
    "\n",
    "\n"
   ]
  },
  {
   "cell_type": "markdown",
   "metadata": {
    "tags": []
   },
   "source": [
    "## ---------------------- hier Plausi beendet\n",
    "\n",
    "**Sharepoint als gecheckt markieren!**"
   ]
  },
  {
   "cell_type": "markdown",
   "metadata": {},
   "source": [
    "Record auf Sharepoint: **[Link](https://kollaboration.intranet.stzh.ch/orga/ssz-produkte/Lists/SASA_Outputs/DispForm.aspx?ID=115&ContentTypeId=0x0100988EAF029F1EFE4CA675F53C32A5D53D01006DBC563E6FBE9E4EB6FDC780799752E1)**\n",
    "\n",
    "---------------------------------------------------------------------------"
   ]
  },
  {
   "cell_type": "markdown",
   "metadata": {
    "tags": []
   },
   "source": [
    "### Test: Choroplethenkarte\n",
    "Importiere die Geodaten als GeoJSON"
   ]
  },
  {
   "cell_type": "markdown",
   "metadata": {},
   "source": [
    "#### Stadtkreise"
   ]
  },
  {
   "cell_type": "code",
   "execution_count": 94,
   "metadata": {},
   "outputs": [
    {
     "data": {
      "text/html": [
       "<div>\n",
       "<style scoped>\n",
       "    .dataframe tbody tr th:only-of-type {\n",
       "        vertical-align: middle;\n",
       "    }\n",
       "\n",
       "    .dataframe tbody tr th {\n",
       "        vertical-align: top;\n",
       "    }\n",
       "\n",
       "    .dataframe thead th {\n",
       "        text-align: right;\n",
       "    }\n",
       "</style>\n",
       "<table border=\"1\" class=\"dataframe\">\n",
       "  <thead>\n",
       "    <tr style=\"text-align: right;\">\n",
       "      <th></th>\n",
       "      <th>id</th>\n",
       "      <th>kname</th>\n",
       "      <th>knr</th>\n",
       "      <th>objid</th>\n",
       "      <th>geometry</th>\n",
       "    </tr>\n",
       "  </thead>\n",
       "  <tbody>\n",
       "    <tr>\n",
       "      <th>0</th>\n",
       "      <td>adm_stadtkreise_v.6</td>\n",
       "      <td>Kreis 7</td>\n",
       "      <td>7</td>\n",
       "      <td>6</td>\n",
       "      <td>POLYGON ((8.54885 47.36602, 8.54901 47.36601, ...</td>\n",
       "    </tr>\n",
       "  </tbody>\n",
       "</table>\n",
       "</div>"
      ],
      "text/plain": [
       "                    id    kname  knr objid                                           geometry\n",
       "0  adm_stadtkreise_v.6  Kreis 7    7     6  POLYGON ((8.54885 47.36602, 8.54901 47.36601, ..."
      ]
     },
     "execution_count": 94,
     "metadata": {},
     "output_type": "execute_result"
    }
   ],
   "source": [
    "# Read abt. Geopandas https://geopandas.org/docs/user_guide/io.html\n",
    "geojson_url_kreise = \"https://www.ogd.stadt-zuerich.ch/wfs/geoportal/Stadtkreise?service=WFS&version=1.1.0&request=GetFeature&outputFormat=GeoJSON&typename=adm_stadtkreise_v\"\n",
    "adm_stadtkreise_v = gpd.read_file(geojson_url_kreise)\n",
    "\n",
    "adm_stadtkreise_v.head(1)\n"
   ]
  },
  {
   "cell_type": "markdown",
   "metadata": {},
   "source": [
    "#### Statistische Zonen"
   ]
  },
  {
   "cell_type": "code",
   "execution_count": 95,
   "metadata": {},
   "outputs": [
    {
     "data": {
      "text/html": [
       "<div>\n",
       "<style scoped>\n",
       "    .dataframe tbody tr th:only-of-type {\n",
       "        vertical-align: middle;\n",
       "    }\n",
       "\n",
       "    .dataframe tbody tr th {\n",
       "        vertical-align: top;\n",
       "    }\n",
       "\n",
       "    .dataframe thead th {\n",
       "        text-align: right;\n",
       "    }\n",
       "</style>\n",
       "<table border=\"1\" class=\"dataframe\">\n",
       "  <thead>\n",
       "    <tr style=\"text-align: right;\">\n",
       "      <th></th>\n",
       "      <th>id</th>\n",
       "      <th>kname</th>\n",
       "      <th>knr</th>\n",
       "      <th>objectid</th>\n",
       "      <th>objid</th>\n",
       "      <th>qname</th>\n",
       "      <th>qnr</th>\n",
       "      <th>stzname</th>\n",
       "      <th>stznr</th>\n",
       "      <th>geometry</th>\n",
       "    </tr>\n",
       "  </thead>\n",
       "  <tbody>\n",
       "    <tr>\n",
       "      <th>0</th>\n",
       "      <td>adm_statzonen_map.1</td>\n",
       "      <td>Kreis 7</td>\n",
       "      <td>7</td>\n",
       "      <td>1</td>\n",
       "      <td>154</td>\n",
       "      <td>Hirslanden</td>\n",
       "      <td>73</td>\n",
       "      <td>Hegibach</td>\n",
       "      <td>7303</td>\n",
       "      <td>POLYGON ((8.55670 47.36406, 8.55682 47.36410, ...</td>\n",
       "    </tr>\n",
       "    <tr>\n",
       "      <th>1</th>\n",
       "      <td>adm_statzonen_map.2</td>\n",
       "      <td>Kreis 7</td>\n",
       "      <td>7</td>\n",
       "      <td>2</td>\n",
       "      <td>89</td>\n",
       "      <td>Hirslanden</td>\n",
       "      <td>73</td>\n",
       "      <td>Klus</td>\n",
       "      <td>7302</td>\n",
       "      <td>POLYGON ((8.57281 47.35806, 8.57278 47.35807, ...</td>\n",
       "    </tr>\n",
       "  </tbody>\n",
       "</table>\n",
       "</div>"
      ],
      "text/plain": [
       "                    id    kname  knr  objectid objid       qname  qnr   stzname  stznr  \\\n",
       "0  adm_statzonen_map.1  Kreis 7    7         1   154  Hirslanden   73  Hegibach   7303   \n",
       "1  adm_statzonen_map.2  Kreis 7    7         2    89  Hirslanden   73      Klus   7302   \n",
       "\n",
       "                                            geometry  \n",
       "0  POLYGON ((8.55670 47.36406, 8.55682 47.36410, ...  \n",
       "1  POLYGON ((8.57281 47.35806, 8.57278 47.35807, ...  "
      ]
     },
     "execution_count": 95,
     "metadata": {},
     "output_type": "execute_result"
    }
   ],
   "source": [
    "# Read abt. Geopandas https://geopandas.org/docs/user_guide/io.html\n",
    "geojson_url_statzonen = \"https://www.ogd.stadt-zuerich.ch/wfs/geoportal/Statistische_Zonen?service=WFS&version=1.1.0&request=GetFeature&outputFormat=GeoJSON&typename=adm_statzonen_map\"\n",
    "adm_statzonen_map = gpd.read_file(geojson_url_statzonen)\n",
    "\n",
    "adm_statzonen_map.head(2)\n"
   ]
  },
  {
   "cell_type": "markdown",
   "metadata": {},
   "source": [
    "#### Statistische Quartiere"
   ]
  },
  {
   "cell_type": "code",
   "execution_count": 96,
   "metadata": {},
   "outputs": [
    {
     "data": {
      "text/html": [
       "<div>\n",
       "<style scoped>\n",
       "    .dataframe tbody tr th:only-of-type {\n",
       "        vertical-align: middle;\n",
       "    }\n",
       "\n",
       "    .dataframe tbody tr th {\n",
       "        vertical-align: top;\n",
       "    }\n",
       "\n",
       "    .dataframe thead th {\n",
       "        text-align: right;\n",
       "    }\n",
       "</style>\n",
       "<table border=\"1\" class=\"dataframe\">\n",
       "  <thead>\n",
       "    <tr style=\"text-align: right;\">\n",
       "      <th></th>\n",
       "      <th>id</th>\n",
       "      <th>kname</th>\n",
       "      <th>knr</th>\n",
       "      <th>objectid</th>\n",
       "      <th>objid</th>\n",
       "      <th>qname</th>\n",
       "      <th>qnr</th>\n",
       "      <th>geometry</th>\n",
       "    </tr>\n",
       "  </thead>\n",
       "  <tbody>\n",
       "    <tr>\n",
       "      <th>0</th>\n",
       "      <td>adm_statistische_quartiere_map.1</td>\n",
       "      <td>Kreis 7</td>\n",
       "      <td>7</td>\n",
       "      <td>1</td>\n",
       "      <td>34</td>\n",
       "      <td>Hirslanden</td>\n",
       "      <td>73</td>\n",
       "      <td>POLYGON ((8.55670 47.36406, 8.55682 47.36410, ...</td>\n",
       "    </tr>\n",
       "    <tr>\n",
       "      <th>1</th>\n",
       "      <td>adm_statistische_quartiere_map.2</td>\n",
       "      <td>Kreis 8</td>\n",
       "      <td>8</td>\n",
       "      <td>2</td>\n",
       "      <td>33</td>\n",
       "      <td>Weinegg</td>\n",
       "      <td>83</td>\n",
       "      <td>POLYGON ((8.55670 47.36405, 8.55672 47.36403, ...</td>\n",
       "    </tr>\n",
       "  </tbody>\n",
       "</table>\n",
       "</div>"
      ],
      "text/plain": [
       "                                 id    kname  knr  objectid objid       qname  qnr  \\\n",
       "0  adm_statistische_quartiere_map.1  Kreis 7    7         1    34  Hirslanden   73   \n",
       "1  adm_statistische_quartiere_map.2  Kreis 8    8         2    33     Weinegg   83   \n",
       "\n",
       "                                            geometry  \n",
       "0  POLYGON ((8.55670 47.36406, 8.55682 47.36410, ...  \n",
       "1  POLYGON ((8.55670 47.36405, 8.55672 47.36403, ...  "
      ]
     },
     "execution_count": 96,
     "metadata": {},
     "output_type": "execute_result"
    }
   ],
   "source": [
    "geojson_url_quartiere = \"https://www.ogd.stadt-zuerich.ch/wfs/geoportal/Statistische_Quartiere?service=WFS&version=1.1.0&request=GetFeature&outputFormat=GeoJSON&typename=adm_statistische_quartiere_map\"\n",
    "df_adm_statistische_quartiere_map = gpd.read_file(geojson_url_quartiere)\n",
    "\n",
    "df_adm_statistische_quartiere_map.head(2)\n"
   ]
  },
  {
   "cell_type": "markdown",
   "metadata": {},
   "source": [
    "### Teste LeafMap\n",
    "\n",
    "Mehr Infos: https://leafmap.org/leafmap/"
   ]
  },
  {
   "cell_type": "code",
   "execution_count": 98,
   "metadata": {},
   "outputs": [
    {
     "data": {
      "application/vnd.jupyter.widget-view+json": {
       "model_id": "5c32d7c8a6254d02b67cee68e91d66ac",
       "version_major": 2,
       "version_minor": 0
      },
      "text/plain": [
       "Map(center=[20, 0], controls=(ZoomControl(options=['position', 'zoom_in_text', 'zoom_in_title', 'zoom_out_text…"
      ]
     },
     "metadata": {},
     "output_type": "display_data"
    }
   ],
   "source": [
    "m = leafmap.Map()\n",
    "\n",
    "#m.add_geojson(geojson_url_kreise, layer_name=\"adm_stadtkreise_v\", fill_colors=['red', 'yellow', 'green', 'orange'], info_mode=True)\n",
    "m.add_gdf(df_adm_statistische_quartiere_map, layer_name='adm_statistische_quartiere_map', style={}, hover_style={}, style_callback=None, fill_colors=['black'], info_mode='on_hover', zoom_to_layer=True)\n",
    "m.add_gdf(adm_stadtkreise_v, layer_name='adm_stadtkreise_v', style={}, hover_style={}, style_callback=None, fill_colors=['none'], info_mode='on_hover', zoom_to_layer=False)\n",
    "\n",
    "m.add_legend(title='Legende', legend_dict=None, labels=None, colors=None, position='bottomright', builtin_legend=None, layer_name='adm_statistische_quartiere_map')\n",
    "m"
   ]
  },
  {
   "cell_type": "markdown",
   "metadata": {},
   "source": [
    "### Joins\n",
    "Joine die importierten statistischen Daten des aktuellen Jahres zum Geodatensatz:\n",
    "\n",
    "*Siehe dazu Doku zu [Geopandas](https://geopandas.org/docs/user_guide/mergingdata.html)*"
   ]
  },
  {
   "cell_type": "code",
   "execution_count": 109,
   "metadata": {},
   "outputs": [
    {
     "data": {
      "text/html": [
       "<div>\n",
       "<style scoped>\n",
       "    .dataframe tbody tr th:only-of-type {\n",
       "        vertical-align: middle;\n",
       "    }\n",
       "\n",
       "    .dataframe tbody tr th {\n",
       "        vertical-align: top;\n",
       "    }\n",
       "\n",
       "    .dataframe thead th {\n",
       "        text-align: right;\n",
       "    }\n",
       "</style>\n",
       "<table border=\"1\" class=\"dataframe\">\n",
       "  <thead>\n",
       "    <tr style=\"text-align: right;\">\n",
       "      <th></th>\n",
       "      <th>QuarSort</th>\n",
       "      <th>QuarCd</th>\n",
       "      <th>QuarLang</th>\n",
       "      <th>AlterVSort</th>\n",
       "      <th>AlterVCd</th>\n",
       "      <th>AlterVKurz</th>\n",
       "      <th>AlterV05Sort</th>\n",
       "      <th>AlterV05Kurz</th>\n",
       "      <th>HerkunftLang</th>\n",
       "      <th>HerkunftCd</th>\n",
       "      <th>HerkunftSort</th>\n",
       "      <th>SexCd</th>\n",
       "      <th>SexKurz</th>\n",
       "      <th>AnzBestWir</th>\n",
       "    </tr>\n",
       "    <tr>\n",
       "      <th>StichtagDatJahr</th>\n",
       "      <th></th>\n",
       "      <th></th>\n",
       "      <th></th>\n",
       "      <th></th>\n",
       "      <th></th>\n",
       "      <th></th>\n",
       "      <th></th>\n",
       "      <th></th>\n",
       "      <th></th>\n",
       "      <th></th>\n",
       "      <th></th>\n",
       "      <th></th>\n",
       "      <th></th>\n",
       "      <th></th>\n",
       "    </tr>\n",
       "  </thead>\n",
       "  <tbody>\n",
       "    <tr>\n",
       "      <th>1993-01-01</th>\n",
       "      <td>11</td>\n",
       "      <td>11</td>\n",
       "      <td>Rathaus</td>\n",
       "      <td>0</td>\n",
       "      <td>0</td>\n",
       "      <td>0</td>\n",
       "      <td>1</td>\n",
       "      <td>0-4</td>\n",
       "      <td>Schweizer/in</td>\n",
       "      <td>1</td>\n",
       "      <td>1</td>\n",
       "      <td>1</td>\n",
       "      <td>M</td>\n",
       "      <td>11</td>\n",
       "    </tr>\n",
       "    <tr>\n",
       "      <th>1993-01-01</th>\n",
       "      <td>11</td>\n",
       "      <td>11</td>\n",
       "      <td>Rathaus</td>\n",
       "      <td>0</td>\n",
       "      <td>0</td>\n",
       "      <td>0</td>\n",
       "      <td>1</td>\n",
       "      <td>0-4</td>\n",
       "      <td>Schweizer/in</td>\n",
       "      <td>1</td>\n",
       "      <td>1</td>\n",
       "      <td>2</td>\n",
       "      <td>W</td>\n",
       "      <td>8</td>\n",
       "    </tr>\n",
       "    <tr>\n",
       "      <th>1993-01-01</th>\n",
       "      <td>11</td>\n",
       "      <td>11</td>\n",
       "      <td>Rathaus</td>\n",
       "      <td>0</td>\n",
       "      <td>0</td>\n",
       "      <td>0</td>\n",
       "      <td>1</td>\n",
       "      <td>0-4</td>\n",
       "      <td>Ausländer/in</td>\n",
       "      <td>2</td>\n",
       "      <td>2</td>\n",
       "      <td>1</td>\n",
       "      <td>M</td>\n",
       "      <td>1</td>\n",
       "    </tr>\n",
       "    <tr>\n",
       "      <th>1993-01-01</th>\n",
       "      <td>11</td>\n",
       "      <td>11</td>\n",
       "      <td>Rathaus</td>\n",
       "      <td>0</td>\n",
       "      <td>0</td>\n",
       "      <td>0</td>\n",
       "      <td>1</td>\n",
       "      <td>0-4</td>\n",
       "      <td>Ausländer/in</td>\n",
       "      <td>2</td>\n",
       "      <td>2</td>\n",
       "      <td>2</td>\n",
       "      <td>W</td>\n",
       "      <td>6</td>\n",
       "    </tr>\n",
       "    <tr>\n",
       "      <th>1993-01-01</th>\n",
       "      <td>11</td>\n",
       "      <td>11</td>\n",
       "      <td>Rathaus</td>\n",
       "      <td>1</td>\n",
       "      <td>1</td>\n",
       "      <td>1</td>\n",
       "      <td>1</td>\n",
       "      <td>0-4</td>\n",
       "      <td>Schweizer/in</td>\n",
       "      <td>1</td>\n",
       "      <td>1</td>\n",
       "      <td>1</td>\n",
       "      <td>M</td>\n",
       "      <td>11</td>\n",
       "    </tr>\n",
       "  </tbody>\n",
       "</table>\n",
       "</div>"
      ],
      "text/plain": [
       "                 QuarSort  QuarCd QuarLang  AlterVSort  AlterVCd  AlterVKurz  AlterV05Sort  \\\n",
       "StichtagDatJahr                                                                              \n",
       "1993-01-01             11      11  Rathaus           0         0           0             1   \n",
       "1993-01-01             11      11  Rathaus           0         0           0             1   \n",
       "1993-01-01             11      11  Rathaus           0         0           0             1   \n",
       "1993-01-01             11      11  Rathaus           0         0           0             1   \n",
       "1993-01-01             11      11  Rathaus           1         1           1             1   \n",
       "\n",
       "                AlterV05Kurz  HerkunftLang  HerkunftCd  HerkunftSort  SexCd SexKurz  AnzBestWir  \n",
       "StichtagDatJahr                                                                                  \n",
       "1993-01-01               0-4  Schweizer/in           1             1      1       M          11  \n",
       "1993-01-01               0-4  Schweizer/in           1             1      2       W           8  \n",
       "1993-01-01               0-4  Ausländer/in           2             2      1       M           1  \n",
       "1993-01-01               0-4  Ausländer/in           2             2      2       W           6  \n",
       "1993-01-01               0-4  Schweizer/in           1             1      1       M          11  "
      ]
     },
     "execution_count": 109,
     "metadata": {},
     "output_type": "execute_result"
    }
   ],
   "source": [
    "#data2betested.dtypes\n",
    "data2betested.head()"
   ]
  },
  {
   "cell_type": "code",
   "execution_count": 123,
   "metadata": {},
   "outputs": [],
   "source": [
    "myAgg = data2betested.loc[\"2020\"]  \\\n",
    "    .copy() \\\n",
    "    .groupby(['QuarLang', 'QuarCd']) \\\n",
    "    .agg(sum_AnzBestWir=('AnzBestWir', 'sum')) \\\n",
    "    .assign() \\\n",
    "    .sort_values('QuarCd', ascending=False) \n",
    "\n",
    "#myAgg.reset_index()\n"
   ]
  },
  {
   "cell_type": "code",
   "execution_count": 124,
   "metadata": {},
   "outputs": [
    {
     "data": {
      "text/html": [
       "<div>\n",
       "<style scoped>\n",
       "    .dataframe tbody tr th:only-of-type {\n",
       "        vertical-align: middle;\n",
       "    }\n",
       "\n",
       "    .dataframe tbody tr th {\n",
       "        vertical-align: top;\n",
       "    }\n",
       "\n",
       "    .dataframe thead th {\n",
       "        text-align: right;\n",
       "    }\n",
       "</style>\n",
       "<table border=\"1\" class=\"dataframe\">\n",
       "  <thead>\n",
       "    <tr style=\"text-align: right;\">\n",
       "      <th></th>\n",
       "      <th>geometry</th>\n",
       "      <th>QuarCd</th>\n",
       "      <th>qname</th>\n",
       "      <th>knr</th>\n",
       "    </tr>\n",
       "  </thead>\n",
       "  <tbody>\n",
       "    <tr>\n",
       "      <th>0</th>\n",
       "      <td>POLYGON ((8.55670 47.36406, 8.55682 47.36410, ...</td>\n",
       "      <td>73</td>\n",
       "      <td>Hirslanden</td>\n",
       "      <td>7</td>\n",
       "    </tr>\n",
       "  </tbody>\n",
       "</table>\n",
       "</div>"
      ],
      "text/plain": [
       "                                            geometry  QuarCd       qname  knr\n",
       "0  POLYGON ((8.55670 47.36406, 8.55682 47.36410, ...      73  Hirslanden    7"
      ]
     },
     "execution_count": 124,
     "metadata": {},
     "output_type": "execute_result"
    }
   ],
   "source": [
    "# Rename attribute stznr to StatZoneSort, so the IDs have the same name\n",
    "gdf_adm_statistische_quartiere_map = df_adm_statistische_quartiere_map[['geometry', 'qnr', 'qname', 'knr']].rename(columns={'qnr': 'QuarCd'})\n",
    "gdf_adm_statistische_quartiere_map.head(1)"
   ]
  },
  {
   "cell_type": "markdown",
   "metadata": {},
   "source": [
    "#### Leftjoin \n",
    "Matche die statistischen Daten mit den Geodaten"
   ]
  },
  {
   "cell_type": "code",
   "execution_count": 131,
   "metadata": {},
   "outputs": [
    {
     "data": {
      "text/html": [
       "<div>\n",
       "<style scoped>\n",
       "    .dataframe tbody tr th:only-of-type {\n",
       "        vertical-align: middle;\n",
       "    }\n",
       "\n",
       "    .dataframe tbody tr th {\n",
       "        vertical-align: top;\n",
       "    }\n",
       "\n",
       "    .dataframe thead th {\n",
       "        text-align: right;\n",
       "    }\n",
       "</style>\n",
       "<table border=\"1\" class=\"dataframe\">\n",
       "  <thead>\n",
       "    <tr style=\"text-align: right;\">\n",
       "      <th></th>\n",
       "      <th>geometry</th>\n",
       "      <th>QuarCd</th>\n",
       "      <th>qname</th>\n",
       "      <th>knr</th>\n",
       "      <th>sum_AnzBestWir</th>\n",
       "    </tr>\n",
       "  </thead>\n",
       "  <tbody>\n",
       "    <tr>\n",
       "      <th>0</th>\n",
       "      <td>POLYGON ((8.55670 47.36406, 8.55682 47.36410, ...</td>\n",
       "      <td>73</td>\n",
       "      <td>Hirslanden</td>\n",
       "      <td>7</td>\n",
       "      <td>7396</td>\n",
       "    </tr>\n",
       "    <tr>\n",
       "      <th>1</th>\n",
       "      <td>POLYGON ((8.55670 47.36405, 8.55672 47.36403, ...</td>\n",
       "      <td>83</td>\n",
       "      <td>Weinegg</td>\n",
       "      <td>8</td>\n",
       "      <td>5562</td>\n",
       "    </tr>\n",
       "  </tbody>\n",
       "</table>\n",
       "</div>"
      ],
      "text/plain": [
       "                                            geometry  QuarCd       qname  knr  sum_AnzBestWir\n",
       "0  POLYGON ((8.55670 47.36406, 8.55682 47.36410, ...      73  Hirslanden    7            7396\n",
       "1  POLYGON ((8.55670 47.36405, 8.55672 47.36403, ...      83     Weinegg    8            5562"
      ]
     },
     "execution_count": 131,
     "metadata": {},
     "output_type": "execute_result"
    }
   ],
   "source": [
    "# Merge with `merge` method on shared variable (stznr und StatZoneSort):\n",
    "gdf_adm_statistische_quartiere_map_joined = gdf_adm_statistische_quartiere_map.merge(myAgg, on='QuarCd', how=\"left\") #'right', 'inner', 'left'\n",
    "gdf_adm_statistische_quartiere_map_joined.head(2)\n"
   ]
  },
  {
   "cell_type": "code",
   "execution_count": 133,
   "metadata": {},
   "outputs": [
    {
     "data": {
      "text/plain": [
       "geometry          0\n",
       "QuarCd            0\n",
       "qname             0\n",
       "knr               0\n",
       "sum_AnzBestWir    0\n",
       "dtype: int64"
      ]
     },
     "execution_count": 133,
     "metadata": {},
     "output_type": "execute_result"
    }
   ],
   "source": [
    "#does all match?\n",
    "gdf_adm_statistische_quartiere_map_joined.isnull().sum()"
   ]
  },
  {
   "cell_type": "code",
   "execution_count": 137,
   "metadata": {},
   "outputs": [
    {
     "data": {
      "text/plain": [
       "<AxesSubplot:>"
      ]
     },
     "execution_count": 137,
     "metadata": {},
     "output_type": "execute_result"
    },
    {
     "data": {
      "image/png": "[encoded data removed]",
      "text/plain": [
       "<Figure size 432x288 with 1 Axes>"
      ]
     },
     "metadata": {
      "needs_background": "light"
     },
     "output_type": "display_data"
    },
    {
     "data": {
      "image/png": "[encoded data removed]",
      "text/plain": [
       "<Figure size 432x288 with 1 Axes>"
      ]
     },
     "metadata": {
      "needs_background": "light"
     },
     "output_type": "display_data"
    }
   ],
   "source": [
    "# Plot by StatQuartiere\n",
    "# Weitere Schemes: scheme='quantiles', scheme='fisherjenks', scheme='natural_breaks',\n",
    "\n",
    "gdf_adm_statistische_quartiere_map_joined.plot(column='sum_AnzBestWir', cmap='viridis', scheme='natural_breaks', legend=True )\n",
    "gdf_adm_statistische_quartiere_map_joined.plot(column='sum_AnzBestWir', cmap='viridis', scheme='fisherjenks', legend=True )\n",
    "\n",
    "#scheme werte: https://matplotlib.org/2.0.2/users/colormaps.html\n",
    "\n",
    "#\n",
    "#Neuere Gallerie: https://matplotlib.org/stable/gallery/index.html"
   ]
  },
  {
   "cell_type": "code",
   "execution_count": 141,
   "metadata": {},
   "outputs": [
    {
     "data": {
      "text/plain": [
       "<AxesSubplot:>"
      ]
     },
     "execution_count": 141,
     "metadata": {},
     "output_type": "execute_result"
    },
    {
     "data": {
      "image/png": "[encoded data removed]",
      "text/plain": [
       "<Figure size 432x288 with 2 Axes>"
      ]
     },
     "metadata": {
      "needs_background": "light"
     },
     "output_type": "display_data"
    }
   ],
   "source": [
    "fig, ax = plt.subplots(1, 1)\n",
    "\n",
    "gdf_adm_statistische_quartiere_map_joined.plot(column='sum_AnzBestWir', ax=ax, legend=True, legend_kwds={'label': \"Anzahl WBev 2020\",'orientation': \"horizontal\"})\n",
    "#gdf_adm_statistische_quartiere_map_joined.plot(column='sum_AnzBestWir', ax=ax, legend=False, legend_kwds={'label': \"Anzahl WBev 2020\",'orientation': \"horizontal\"})\n",
    "\n",
    "#gdf_adm_statistische_quartiere_map_joined.plot(column='sum_Whg_abgebrochen', cmap='viridis', scheme='natural_breaks', legend=True , ax=ax, legend_kwds={'label': \"Anzahl Personen\",'orientation': \"horizontal\"})"
   ]
  },
  {
   "cell_type": "markdown",
   "metadata": {},
   "source": [
    "Noch zu prüfen, folgendes schöne Beispiel: https://docs.bokeh.org/en/latest/docs/user_guide/interaction/legends.html\n",
    "\n",
    "Konkrete Beispiele von Bookeh in Jupyter NB: https://docs.bokeh.org/en/latest/docs/user_guide/jupyter.html"
   ]
  },
  {
   "cell_type": "markdown",
   "metadata": {},
   "source": [
    "Noch zu prüfen, folgendes schöne Beispiel: https://docs.bokeh.org/en/latest/docs/user_guide/interaction/legends.html\n",
    "\n",
    "Konkrete Beispiele von Bookeh in Jupyter NB: https://docs.bokeh.org/en/latest/docs/user_guide/jupyter.html"
   ]
  },
  {
   "cell_type": "markdown",
   "metadata": {},
   "source": [
    "**Sharepoint als gecheckt markieren!**"
   ]
  },
  {
   "cell_type": "markdown",
   "metadata": {},
   "source": [
    "Record auf Sharepoint: **[Link](https://kollaboration.intranet.stzh.ch/orga/ssz-produkte/Lists/SASA_Outputs/DispForm.aspx?ID=115&ContentTypeId=0x0100988EAF029F1EFE4CA675F53C32A5D53D01006DBC563E6FBE9E4EB6FDC780799752E1)**"
   ]
  },
  {
   "cell_type": "code",
   "execution_count": null,
   "metadata": {},
   "outputs": [],
   "source": []
  },
  {
   "cell_type": "raw",
   "metadata": {},
   "source": []
  },
  {
   "cell_type": "code",
   "execution_count": null,
   "metadata": {},
   "outputs": [],
   "source": []
  }
 ],
 "metadata": {
  "kernelspec": {
   "display_name": "Python 3 (ipykernel)",
   "language": "python",
   "name": "python3"
  },
  "language_info": {
   "codemirror_mode": {
    "name": "ipython",
    "version": 3
   },
   "file_extension": ".py",
   "mimetype": "text/x-python",
   "name": "python",
   "nbconvert_exporter": "python",
   "pygments_lexer": "ipython3",
   "version": "3.7.11"
  }
 },
 "nbformat": 4,
 "nbformat_minor": 4
}
