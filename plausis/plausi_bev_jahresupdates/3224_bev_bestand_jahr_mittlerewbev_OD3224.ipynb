{
 "cells": [
  {
   "cell_type": "markdown",
   "metadata": {},
   "source": [
    "# Testing\n",
    "### Mittlere Wohnbevölkerung\n",
    "\n",
    "Datum: 15.03.2022\n"
   ]
  },
  {
   "cell_type": "markdown",
   "metadata": {},
   "source": [
    "### Importiere die notwendigen Packages"
   ]
  },
  {
   "cell_type": "code",
   "execution_count": 1,
   "metadata": {},
   "outputs": [],
   "source": [
    "#%pip install geopandas altair fiona requests folium mplleaflet contextily seaborn datetime plotly leafmap"
   ]
  },
  {
   "cell_type": "code",
   "execution_count": 2,
   "metadata": {},
   "outputs": [],
   "source": [
    "import pandas as pd\n",
    "import pivottablejs\n",
    "from pivottablejs import pivot_ui\n",
    "import numpy as np\n",
    "import altair as alt\n",
    "import matplotlib.pyplot as plt\n",
    "\n",
    "import datetime\n",
    "import geopandas as gpd\n",
    "import folium \n",
    "import plotly.express as px\n",
    "import seaborn as sns\n",
    "import leafmap\n",
    "\n",
    "import requests\n",
    "import io\n"
   ]
  },
  {
   "cell_type": "code",
   "execution_count": 3,
   "metadata": {},
   "outputs": [],
   "source": [
    "SSL_VERIFY = False\n",
    "# evtl. SSL_VERIFY auf False setzen wenn die Verbindung zu https://www.gemeinderat-zuerich.ch nicht klappt (z.B. wegen Proxy)\n",
    "# Um die SSL Verifikation auszustellen, bitte die nächste Zeile einkommentieren (\"#\" entfernen)\n",
    "# SSL_VERIFY = False"
   ]
  },
  {
   "cell_type": "code",
   "execution_count": 4,
   "metadata": {},
   "outputs": [],
   "source": [
    "if not SSL_VERIFY:\n",
    "    import urllib3\n",
    "    urllib3.disable_warnings()"
   ]
  },
  {
   "cell_type": "markdown",
   "metadata": {},
   "source": [
    "Definiere Settings. Hier das Zahlenformat von Float-Werten (z.B. *'{:,.2f}'.format* mit Komma als Tausenderzeichen), "
   ]
  },
  {
   "cell_type": "code",
   "execution_count": 5,
   "metadata": {},
   "outputs": [],
   "source": [
    "#pd.options.display.float_format = lambda x : '{:,.1f}'.format(x) if (np.isnan(x) | np.isinf(x)) else '{:,.0f}'.format(x) if int(x) == x else '{:,.1f}'.format(x)\n",
    "pd.options.display.float_format = '{:.0f}'.format\n",
    "pd.set_option('display.width', 100)\n",
    "pd.set_option('display.max_columns', 15)"
   ]
  },
  {
   "cell_type": "markdown",
   "metadata": {},
   "source": [
    "### Zeitvariabeln\n",
    "Bestimme den aktuellst geladenen Monat. Hier ist es der Stand vor 2 Monaten. \n",
    "Bestimme noch weitere evt. sinnvolle Zeitvariabeln.\n",
    "\n",
    "Zum Unterschied zwischen import datetime und from datedtime import datetime, siehe https://stackoverflow.com/questions/15707532/import-datetime-v-s-from-datetime-import-datetime\n",
    "\n",
    "Zuerst die Zeitvariabeln als Strings"
   ]
  },
  {
   "cell_type": "code",
   "execution_count": 6,
   "metadata": {},
   "outputs": [],
   "source": [
    "#today_date = datetime.date.today()\n",
    "#date_time = datetime.datetime.strptime(date_time_string, '%Y-%m-%d %H:%M')\n",
    "now = datetime.date.today()\n",
    "date_today = now.strftime(\"%Y-%m-%d\")\n",
    "year_today = now.strftime(\"%Y\")\n",
    "month_today = now.strftime(\"%m\")\n",
    "day_today = now.strftime(\"%d\")\n"
   ]
  },
  {
   "cell_type": "markdown",
   "metadata": {},
   "source": [
    "Und hier noch die Zeitvariabeln als Integers:\n",
    "- `aktuellesJahr`\n",
    "- `aktuellerMonat`: Der gerade jetzt aktuelle Monat\n",
    "- `selectedMonat`: Der aktuellste Monat in den Daten. In der Regel zwei Monate her."
   ]
  },
  {
   "cell_type": "code",
   "execution_count": 7,
   "metadata": {},
   "outputs": [
    {
     "name": "stdout",
     "output_type": "stream",
     "text": [
      "2022 3 datenstand:  1 time.struct_time(tm_year=2022, tm_mon=3, tm_mday=16, tm_hour=0, tm_min=0, tm_sec=0, tm_wday=2, tm_yday=75, tm_isdst=-1)\n"
     ]
    }
   ],
   "source": [
    "#now = datetime.now() \n",
    "int_times = now.timetuple()\n",
    "\n",
    "aktuellesJahr = int_times[0]\n",
    "aktuellerMonat = int_times[1]\n",
    "selectedMonat = int_times[1]-2\n",
    "\n",
    "print(aktuellesJahr, \n",
    "      aktuellerMonat,\n",
    "    'datenstand: ', selectedMonat,\n",
    "     int_times)\n"
   ]
  },
  {
   "cell_type": "markdown",
   "metadata": {},
   "source": [
    "Berechne die Variable Epoche um später das SAS-Datum in ein Unix-Datum umzuwandeln. Bei SAS beginnt die Epoche am 1.1.1960. Bei Unix am 1.1.1970.\n",
    "Diese Variable wird beim CSV-Import benötigt."
   ]
  },
  {
   "cell_type": "code",
   "execution_count": 8,
   "metadata": {},
   "outputs": [],
   "source": [
    "epoch = datetime.datetime(1960, 1, 1)"
   ]
  },
  {
   "cell_type": "markdown",
   "metadata": {},
   "source": [
    "### Setze einige Pfadvariabeln"
   ]
  },
  {
   "cell_type": "markdown",
   "metadata": {
    "tags": []
   },
   "source": [
    "- Der Packagename ist eigentlich der **Verzeichnisname** unter dem die Daten und Metadaten auf der Dropzone abgelegt werden.\n",
    "- Definiert wird er bei SASA-Prozessen auf dem **Produkte-Sharepoint ([Link](https://kollaboration.intranet.stzh.ch/orga/ssz-produkte/Lists/SASA_Outputs/PersonalViews.aspx?PageView=Personal&ShowWebPart={6087A3E7-8AC8-40BA-8278-DECFACE124FF}))**.\n",
    "- Der Packagename wird auf CKAN teil der URL, daher ist die exakte Schreibweise wichtig.\n",
    "\n",
    "Beachte: im Packagename müssen alle Buchstaben **klein** geschrieben werden. Dies weil CKAN aus grossen kleine Buchstaben macht."
   ]
  },
  {
   "cell_type": "markdown",
   "metadata": {},
   "source": [
    "**BITTE HIER ANPASSEN**"
   ]
  },
  {
   "cell_type": "code",
   "execution_count": 21,
   "metadata": {},
   "outputs": [],
   "source": [
    "package_name = \"bev_bestand_jahr_mittlerewbev_od3224\""
   ]
  },
  {
   "cell_type": "code",
   "execution_count": 22,
   "metadata": {
    "tags": []
   },
   "outputs": [],
   "source": [
    "dataset_name = \"BEV322OD3224.csv\""
   ]
  },
  {
   "cell_type": "markdown",
   "metadata": {},
   "source": [
    "**Statische Pfade in DWH-Dropzones**"
   ]
  },
  {
   "cell_type": "code",
   "execution_count": 23,
   "metadata": {},
   "outputs": [],
   "source": [
    "dropzone_path_integ = r\"\\\\szh\\ssz\\applikationen\\OGD_Dropzone\\INT_DWH\""
   ]
  },
  {
   "cell_type": "code",
   "execution_count": 24,
   "metadata": {
    "tags": []
   },
   "outputs": [],
   "source": [
    "dropzone_path_prod = r\"\\\\szh\\ssz\\applikationen\\OGD_Dropzone\\DWH\""
   ]
  },
  {
   "cell_type": "markdown",
   "metadata": {},
   "source": [
    "**Statische Pfade CKAN-URLs**"
   ]
  },
  {
   "cell_type": "code",
   "execution_count": 25,
   "metadata": {
    "tags": []
   },
   "outputs": [],
   "source": [
    "ckan_integ_url =\"https://data.integ.stadt-zuerich.ch/dataset/int_dwh_\""
   ]
  },
  {
   "cell_type": "code",
   "execution_count": 26,
   "metadata": {},
   "outputs": [],
   "source": [
    "ckan_prod_url =\"https://data.stadt-zuerich.ch/dataset/\""
   ]
  },
  {
   "cell_type": "markdown",
   "metadata": {},
   "source": [
    "### Checke die Metadaten auf der CKAN INTEG- oder PROD-Webseite\n",
    "\n",
    "Offenbar lassen sich aktuell im Markdownteil keine Variabeln ausführen, daher gehen wir wie unten gezeigt vor. Siehe dazu: https://data-dive.com/jupyterlab-markdown-cells-include-variables\n",
    "Instead of setting the cell to Markdown, create Markdown from withnin a code cell! We can just use python variable replacement syntax to make the text dynamic"
   ]
  },
  {
   "cell_type": "code",
   "execution_count": 27,
   "metadata": {},
   "outputs": [],
   "source": [
    "from IPython.display import Markdown as md"
   ]
  },
  {
   "cell_type": "code",
   "execution_count": 28,
   "metadata": {},
   "outputs": [
    {
     "data": {
      "text/markdown": [
       " **1. Dataset auf INTEG-Datakatalog:** Link https://data.integ.stadt-zuerich.ch/dataset/int_dwh_bev_bestand_jahr_mittlerewbev_od3224 "
      ],
      "text/plain": [
       "<IPython.core.display.Markdown object>"
      ]
     },
     "execution_count": 28,
     "metadata": {},
     "output_type": "execute_result"
    }
   ],
   "source": [
    "md(\" **1. Dataset auf INTEG-Datakatalog:** Link {} \".format(ckan_integ_url+package_name))"
   ]
  },
  {
   "cell_type": "code",
   "execution_count": 29,
   "metadata": {
    "tags": []
   },
   "outputs": [
    {
     "data": {
      "text/markdown": [
       " **2. Dataset auf PROD-Datakatalog:** Link https://data.stadt-zuerich.ch/dataset/bev_bestand_jahr_mittlerewbev_od3224 "
      ],
      "text/plain": [
       "<IPython.core.display.Markdown object>"
      ]
     },
     "execution_count": 29,
     "metadata": {},
     "output_type": "execute_result"
    }
   ],
   "source": [
    "md(\" **2. Dataset auf PROD-Datakatalog:** Link {} \".format(ckan_prod_url+package_name))"
   ]
  },
  {
   "cell_type": "markdown",
   "metadata": {
    "tags": []
   },
   "source": [
    "### Importiere einen Datensatz \n",
    "\n",
    "Definiere zuerst folgende Werte:\n",
    "1) Kommt der Datensatz von PROD oder INTEG?\n",
    "2) Beziehst Du den Datensatz direkt ab der DROPZONE oder aus dem INTERNET?"
   ]
  },
  {
   "cell_type": "code",
   "execution_count": 30,
   "metadata": {},
   "outputs": [
    {
     "name": "stdout",
     "output_type": "stream",
     "text": [
      "integ - web\n"
     ]
    }
   ],
   "source": [
    "#Die Datasets sind nur zum Testen auf INT-DWH-Dropzone. Wenn der Test vorbei ist, sind sie auf PROD. \n",
    "# Über den Status kann man einfach switchen\n",
    "\n",
    "status = \"integ\"; #prod vs something else\n",
    "data_source = \"web\"; #dropzone vs something else\n",
    "print(status+\" - \"+ data_source)"
   ]
  },
  {
   "cell_type": "code",
   "execution_count": 31,
   "metadata": {
    "tags": []
   },
   "outputs": [
    {
     "name": "stdout",
     "output_type": "stream",
     "text": [
      "fp lautet:https://data.integ.stadt-zuerich.ch/dataset/int_dwh_bev_bestand_jahr_mittlerewbev_od3224/download/BEV322OD3224.csv\n"
     ]
    }
   ],
   "source": [
    "# Filepath\n",
    "if status == \"prod\":\n",
    "    if data_source == \"dropzone\":\n",
    "            fp = dropzone_path_prod+\"\\\\\"+ package_name +\"\\\\\"+dataset_name\n",
    "            print(\"fp lautet:\"+fp)\n",
    "    else:\n",
    "        #fp = r\"https://data.stadt-zuerich.ch/dataset/bau_neubau_whg_bausm_rinh_geb_projstatus_quartier_seit2009_od5011/download/BAU501OD5011.csv\"\n",
    "        fp = ckan_prod_url+package_name+'/download/'+dataset_name\n",
    "        print(\"fp lautet:\"+fp)\n",
    "else:\n",
    "    if data_source == \"dropzone\":\n",
    "        fp = dropzone_path_integ+\"\\\\\"+ package_name +\"\\\\\"+dataset_name\n",
    "        print(\"fp lautet:\"+fp)\n",
    "    else:\n",
    "        #fp = r\"https://data.stadt-zuerich.ch/dataset/bau_neubau_whg_bausm_rinh_geb_projstatus_quartier_seit2009_od5011/download/BAU501OD5011.csv\"\n",
    "        fp = ckan_integ_url+package_name+'/download/'+dataset_name\n",
    "        print(\"fp lautet:\"+fp)\n"
   ]
  },
  {
   "cell_type": "markdown",
   "metadata": {},
   "source": [
    "Beachte, wie das SAS Datum (ohne Format) in ein UNIX Datum umgerechnet und als Datumsformat dargestellt wird! Siehe dazu `https://stackoverflow.com/questions/26923564/convert-sas-numeric-to-python-datetime`"
   ]
  },
  {
   "cell_type": "code",
   "execution_count": 32,
   "metadata": {},
   "outputs": [
    {
     "name": "stdout",
     "output_type": "stream",
     "text": [
      "web\n"
     ]
    },
    {
     "data": {
      "text/plain": [
       "StichtagDatJahr    datetime64[ns]\n",
       "AnzMittelBest               int64\n",
       "dtype: object"
      ]
     },
     "execution_count": 32,
     "metadata": {},
     "output_type": "execute_result"
    }
   ],
   "source": [
    "# Read the data\n",
    "if data_source == \"dropzone\":\n",
    "    data2betested = pd.read_csv(\n",
    "        fp\n",
    "        , sep=','\n",
    "        ,parse_dates=['StichtagDatJahr']\n",
    "        ,low_memory=False\n",
    "    )\n",
    "    print(\"dropzone\")\n",
    "else:\n",
    "    r = requests.get(fp, verify=False)  \n",
    "    r.encoding = 'utf-8'\n",
    "    data2betested = pd.read_csv(\n",
    "        io.StringIO(r.text)\n",
    "        ,parse_dates=['StichtagDatJahr']\n",
    "        # KONVERTIERE DAS SAS DATUM IN EIN UNIXDATUM UND FORMATIERE ES\n",
    "        #, date_parser=lambda s: epoch + datetime.timedelta(days=int(s))\n",
    "        ,low_memory=False)\n",
    "    print(\"web\")\n",
    "\n",
    "data2betested.dtypes"
   ]
  },
  {
   "cell_type": "markdown",
   "metadata": {},
   "source": [
    "Berechne weitere Attribute falls notwendig"
   ]
  },
  {
   "cell_type": "code",
   "execution_count": 38,
   "metadata": {},
   "outputs": [
    {
     "data": {
      "text/plain": [
       "StichtagDatJahr    datetime64[ns]\n",
       "AnzMittelBest               int64\n",
       "Jahr               datetime64[ns]\n",
       "Jahr_str                   object\n",
       "dtype: object"
      ]
     },
     "execution_count": 38,
     "metadata": {},
     "output_type": "execute_result"
    }
   ],
   "source": [
    "data2betested = (\n",
    "    data2betested\n",
    "    .copy()\n",
    "    .assign(\n",
    "        #Aktualisierungs_Datum_str= lambda x: x.Aktualisierungs_Datum.astype(str),\n",
    "        Jahr = lambda x: x.StichtagDatJahr,\n",
    "        Jahr_str = lambda x: x.Jahr.astype(str),\n",
    "    )\n",
    "    .sort_values('Jahr', ascending=False)\n",
    "    )\n",
    "data2betested.dtypes"
   ]
  },
  {
   "cell_type": "markdown",
   "metadata": {},
   "source": [
    "### Einfache Datentests"
   ]
  },
  {
   "cell_type": "markdown",
   "metadata": {},
   "source": [
    " - 1) Zeige eine kurze Vorschau der importierten Daten\n",
    " - 2) Weise die Datentypen aus\n",
    " - 3) Zeige die Shape (Umfang) des Datensatzes an"
   ]
  },
  {
   "cell_type": "code",
   "execution_count": 39,
   "metadata": {},
   "outputs": [],
   "source": [
    "#data2betested.head(6)"
   ]
  },
  {
   "cell_type": "code",
   "execution_count": 40,
   "metadata": {},
   "outputs": [
    {
     "data": {
      "text/plain": [
       "StichtagDatJahr    datetime64[ns]\n",
       "AnzMittelBest               int64\n",
       "Jahr               datetime64[ns]\n",
       "Jahr_str                   object\n",
       "dtype: object"
      ]
     },
     "execution_count": 40,
     "metadata": {},
     "output_type": "execute_result"
    }
   ],
   "source": [
    "data2betested.dtypes"
   ]
  },
  {
   "cell_type": "code",
   "execution_count": 41,
   "metadata": {},
   "outputs": [
    {
     "data": {
      "text/plain": [
       "(88, 4)"
      ]
     },
     "execution_count": 41,
     "metadata": {},
     "output_type": "execute_result"
    }
   ],
   "source": [
    "data2betested.shape"
   ]
  },
  {
   "cell_type": "markdown",
   "metadata": {},
   "source": [
    "Beschreibe einzelne Attribute"
   ]
  },
  {
   "cell_type": "code",
   "execution_count": 42,
   "metadata": {},
   "outputs": [
    {
     "data": {
      "text/html": [
       "<div>\n",
       "<style scoped>\n",
       "    .dataframe tbody tr th:only-of-type {\n",
       "        vertical-align: middle;\n",
       "    }\n",
       "\n",
       "    .dataframe tbody tr th {\n",
       "        vertical-align: top;\n",
       "    }\n",
       "\n",
       "    .dataframe thead th {\n",
       "        text-align: right;\n",
       "    }\n",
       "</style>\n",
       "<table border=\"1\" class=\"dataframe\">\n",
       "  <thead>\n",
       "    <tr style=\"text-align: right;\">\n",
       "      <th></th>\n",
       "      <th>AnzMittelBest</th>\n",
       "    </tr>\n",
       "  </thead>\n",
       "  <tbody>\n",
       "    <tr>\n",
       "      <th>count</th>\n",
       "      <td>88</td>\n",
       "    </tr>\n",
       "    <tr>\n",
       "      <th>mean</th>\n",
       "      <td>384582</td>\n",
       "    </tr>\n",
       "    <tr>\n",
       "      <th>std</th>\n",
       "      <td>34921</td>\n",
       "    </tr>\n",
       "    <tr>\n",
       "      <th>min</th>\n",
       "      <td>313680</td>\n",
       "    </tr>\n",
       "    <tr>\n",
       "      <th>25%</th>\n",
       "      <td>361465</td>\n",
       "    </tr>\n",
       "    <tr>\n",
       "      <th>50%</th>\n",
       "      <td>379630</td>\n",
       "    </tr>\n",
       "    <tr>\n",
       "      <th>75%</th>\n",
       "      <td>415828</td>\n",
       "    </tr>\n",
       "    <tr>\n",
       "      <th>max</th>\n",
       "      <td>443500</td>\n",
       "    </tr>\n",
       "  </tbody>\n",
       "</table>\n",
       "</div>"
      ],
      "text/plain": [
       "       AnzMittelBest\n",
       "count             88\n",
       "mean          384582\n",
       "std            34921\n",
       "min           313680\n",
       "25%           361465\n",
       "50%           379630\n",
       "75%           415828\n",
       "max           443500"
      ]
     },
     "execution_count": 42,
     "metadata": {},
     "output_type": "execute_result"
    }
   ],
   "source": [
    "data2betested.describe()"
   ]
  },
  {
   "cell_type": "markdown",
   "metadata": {},
   "source": [
    "Wie viele Nullwerte gibt es im Datensatz?"
   ]
  },
  {
   "cell_type": "code",
   "execution_count": 43,
   "metadata": {
    "scrolled": true
   },
   "outputs": [
    {
     "data": {
      "text/plain": [
       "StichtagDatJahr    0\n",
       "AnzMittelBest      0\n",
       "Jahr               0\n",
       "Jahr_str           0\n",
       "dtype: int64"
      ]
     },
     "execution_count": 43,
     "metadata": {},
     "output_type": "execute_result"
    }
   ],
   "source": [
    "data2betested.isnull().sum()"
   ]
  },
  {
   "cell_type": "markdown",
   "metadata": {},
   "source": [
    "Welches sind die Quartiere ohne Werte bei AnzBestWir?"
   ]
  },
  {
   "cell_type": "code",
   "execution_count": 46,
   "metadata": {},
   "outputs": [
    {
     "data": {
      "text/html": [
       "<div>\n",
       "<style scoped>\n",
       "    .dataframe tbody tr th:only-of-type {\n",
       "        vertical-align: middle;\n",
       "    }\n",
       "\n",
       "    .dataframe tbody tr th {\n",
       "        vertical-align: top;\n",
       "    }\n",
       "\n",
       "    .dataframe thead th {\n",
       "        text-align: right;\n",
       "    }\n",
       "</style>\n",
       "<table border=\"1\" class=\"dataframe\">\n",
       "  <thead>\n",
       "    <tr style=\"text-align: right;\">\n",
       "      <th></th>\n",
       "      <th>StichtagDatJahr</th>\n",
       "      <th>AnzMittelBest</th>\n",
       "      <th>Jahr</th>\n",
       "      <th>Jahr_str</th>\n",
       "    </tr>\n",
       "  </thead>\n",
       "  <tbody>\n",
       "  </tbody>\n",
       "</table>\n",
       "</div>"
      ],
      "text/plain": [
       "Empty DataFrame\n",
       "Columns: [StichtagDatJahr, AnzMittelBest, Jahr, Jahr_str]\n",
       "Index: []"
      ]
     },
     "execution_count": 46,
     "metadata": {},
     "output_type": "execute_result"
    }
   ],
   "source": [
    "data2betested[np.isnan(data2betested.AnzMittelBest)]"
   ]
  },
  {
   "cell_type": "markdown",
   "metadata": {
    "colab_type": "text",
    "id": "1dTPVmmsgOVx"
   },
   "source": [
    "### Verwende das Datum als Index\n",
    "\n",
    "While we did already parse the `datetime` column into the respective datetime type, it currently is just a regular column. \n",
    "**To enable quick and convenient queries and aggregations, we need to turn it into the index of the DataFrame**"
   ]
  },
  {
   "cell_type": "code",
   "execution_count": 47,
   "metadata": {},
   "outputs": [],
   "source": [
    "data2betested = data2betested.set_index(\"Jahr\")"
   ]
  },
  {
   "cell_type": "code",
   "execution_count": 48,
   "metadata": {},
   "outputs": [
    {
     "name": "stdout",
     "output_type": "stream",
     "text": [
      "<class 'pandas.core.frame.DataFrame'>\n",
      "DatetimeIndex: 88 entries, 2021-01-01 to 1934-01-01\n",
      "Data columns (total 3 columns):\n",
      " #   Column           Non-Null Count  Dtype         \n",
      "---  ------           --------------  -----         \n",
      " 0   StichtagDatJahr  88 non-null     datetime64[ns]\n",
      " 1   AnzMittelBest    88 non-null     int64         \n",
      " 2   Jahr_str         88 non-null     object        \n",
      "dtypes: datetime64[ns](1), int64(1), object(1)\n",
      "memory usage: 2.8+ KB\n"
     ]
    },
    {
     "data": {
      "text/plain": [
       "Int64Index([2021, 2020, 2019, 2018, 2017, 2016, 2015, 2014, 2013, 2012, 2011, 2010, 2009, 2008,\n",
       "            2007, 2006, 2005, 2004, 2003, 2002, 2001, 2000, 1999, 1998, 1997, 1996, 1995, 1994,\n",
       "            1993, 1992, 1991, 1990, 1989, 1988, 1987, 1986, 1985, 1984, 1983, 1982, 1981, 1980,\n",
       "            1979, 1978, 1977, 1976, 1975, 1974, 1973, 1972, 1971, 1970, 1969, 1968, 1967, 1966,\n",
       "            1965, 1964, 1963, 1962, 1961, 1960, 1959, 1958, 1957, 1956, 1955, 1954, 1953, 1952,\n",
       "            1951, 1950, 1949, 1948, 1947, 1946, 1945, 1944, 1943, 1942, 1941, 1940, 1939, 1938,\n",
       "            1937, 1936, 1935, 1934],\n",
       "           dtype='int64', name='Jahr')"
      ]
     },
     "execution_count": 48,
     "metadata": {},
     "output_type": "execute_result"
    }
   ],
   "source": [
    "data2betested.info()\n",
    "data2betested.index.year.unique()"
   ]
  },
  {
   "cell_type": "markdown",
   "metadata": {},
   "source": [
    "### Einfache Visualisierungen zur Plausi"
   ]
  },
  {
   "cell_type": "markdown",
   "metadata": {},
   "source": [
    "Exploriere die Daten mit Pivottable.JS"
   ]
  },
  {
   "cell_type": "code",
   "execution_count": 49,
   "metadata": {},
   "outputs": [
    {
     "data": {
      "text/html": [
       "\n",
       "        <iframe\n",
       "            width=\"100%\"\n",
       "            height=\"500\"\n",
       "            src=\"pivottablejs.html\"\n",
       "            frameborder=\"0\"\n",
       "            allowfullscreen\n",
       "            \n",
       "        ></iframe>\n",
       "        "
      ],
      "text/plain": [
       "<IPython.lib.display.IFrame at 0x1c55e8bce88>"
      ]
     },
     "execution_count": 49,
     "metadata": {},
     "output_type": "execute_result"
    }
   ],
   "source": [
    "from pivottablejs import pivot_ui\n",
    "\n",
    "pivot_ui(data2betested)"
   ]
  },
  {
   "cell_type": "markdown",
   "metadata": {},
   "source": [
    "### Zeitpunkte und Zeiträume abfragen\n",
    "\n",
    "A particular powerful feature of the Pandas DataFrame is its indexing capability that also works using time-based entities, such as dates and times. We have already created the index above, so let's put it to use."
   ]
  },
  {
   "cell_type": "code",
   "execution_count": 50,
   "metadata": {},
   "outputs": [
    {
     "data": {
      "text/html": [
       "<div>\n",
       "<style scoped>\n",
       "    .dataframe tbody tr th:only-of-type {\n",
       "        vertical-align: middle;\n",
       "    }\n",
       "\n",
       "    .dataframe tbody tr th {\n",
       "        vertical-align: top;\n",
       "    }\n",
       "\n",
       "    .dataframe thead th {\n",
       "        text-align: right;\n",
       "    }\n",
       "</style>\n",
       "<table border=\"1\" class=\"dataframe\">\n",
       "  <thead>\n",
       "    <tr style=\"text-align: right;\">\n",
       "      <th></th>\n",
       "      <th>StichtagDatJahr</th>\n",
       "      <th>AnzMittelBest</th>\n",
       "      <th>Jahr_str</th>\n",
       "    </tr>\n",
       "    <tr>\n",
       "      <th>Jahr</th>\n",
       "      <th></th>\n",
       "      <th></th>\n",
       "      <th></th>\n",
       "    </tr>\n",
       "  </thead>\n",
       "  <tbody>\n",
       "    <tr>\n",
       "      <th>2021-01-01</th>\n",
       "      <td>2021-01-01</td>\n",
       "      <td>434516</td>\n",
       "      <td>2021-01-01</td>\n",
       "    </tr>\n",
       "  </tbody>\n",
       "</table>\n",
       "</div>"
      ],
      "text/plain": [
       "           StichtagDatJahr  AnzMittelBest    Jahr_str\n",
       "Jahr                                                 \n",
       "2021-01-01      2021-01-01         434516  2021-01-01"
      ]
     },
     "execution_count": 50,
     "metadata": {},
     "output_type": "execute_result"
    }
   ],
   "source": [
    "data2betested.loc[\"2021\"].head(2)\n",
    "#data2betested.loc[\"2021-10-31\":\"2021-11-30\"].head(2)"
   ]
  },
  {
   "cell_type": "markdown",
   "metadata": {},
   "source": [
    "### Visualisierungen nach Zeitausschnitten"
   ]
  },
  {
   "cell_type": "markdown",
   "metadata": {
    "tags": []
   },
   "source": [
    "#### Entwicklung Bildungsstand"
   ]
  },
  {
   "cell_type": "code",
   "execution_count": 51,
   "metadata": {},
   "outputs": [
    {
     "data": {
      "text/plain": [
       "Index(['StichtagDatJahr', 'AnzMittelBest', 'Jahr_str'], dtype='object')"
      ]
     },
     "execution_count": 51,
     "metadata": {},
     "output_type": "execute_result"
    }
   ],
   "source": [
    "data2betested.columns"
   ]
  },
  {
   "cell_type": "code",
   "execution_count": 54,
   "metadata": {},
   "outputs": [
    {
     "data": {
      "text/html": [
       "\n",
       "<div id=\"altair-viz-e3e4c09bc44d45f59867de81d55977d9\"></div>\n",
       "<script type=\"text/javascript\">\n",
       "  (function(spec, embedOpt){\n",
       "    let outputDiv = document.currentScript.previousElementSibling;\n",
       "    if (outputDiv.id !== \"altair-viz-e3e4c09bc44d45f59867de81d55977d9\") {\n",
       "      outputDiv = document.getElementById(\"altair-viz-e3e4c09bc44d45f59867de81d55977d9\");\n",
       "    }\n",
       "    const paths = {\n",
       "      \"vega\": \"https://cdn.jsdelivr.net/npm//vega@5?noext\",\n",
       "      \"vega-lib\": \"https://cdn.jsdelivr.net/npm//vega-lib?noext\",\n",
       "      \"vega-lite\": \"https://cdn.jsdelivr.net/npm//vega-lite@4.8.1?noext\",\n",
       "      \"vega-embed\": \"https://cdn.jsdelivr.net/npm//vega-embed@6?noext\",\n",
       "    };\n",
       "\n",
       "    function loadScript(lib) {\n",
       "      return new Promise(function(resolve, reject) {\n",
       "        var s = document.createElement('script');\n",
       "        s.src = paths[lib];\n",
       "        s.async = true;\n",
       "        s.onload = () => resolve(paths[lib]);\n",
       "        s.onerror = () => reject(`Error loading script: ${paths[lib]}`);\n",
       "        document.getElementsByTagName(\"head\")[0].appendChild(s);\n",
       "      });\n",
       "    }\n",
       "\n",
       "    function showError(err) {\n",
       "      outputDiv.innerHTML = `<div class=\"error\" style=\"color:red;\">${err}</div>`;\n",
       "      throw err;\n",
       "    }\n",
       "\n",
       "    function displayChart(vegaEmbed) {\n",
       "      vegaEmbed(outputDiv, spec, embedOpt)\n",
       "        .catch(err => showError(`Javascript Error: ${err.message}<br>This usually means there's a typo in your chart specification. See the javascript console for the full traceback.`));\n",
       "    }\n",
       "\n",
       "    if(typeof define === \"function\" && define.amd) {\n",
       "      requirejs.config({paths});\n",
       "      require([\"vega-embed\"], displayChart, err => showError(`Error loading script: ${err.message}`));\n",
       "    } else if (typeof vegaEmbed === \"function\") {\n",
       "      displayChart(vegaEmbed);\n",
       "    } else {\n",
       "      loadScript(\"vega\")\n",
       "        .then(() => loadScript(\"vega-lite\"))\n",
       "        .then(() => loadScript(\"vega-embed\"))\n",
       "        .catch(showError)\n",
       "        .then(() => displayChart(vegaEmbed));\n",
       "    }\n",
       "  })({\"config\": {\"view\": {\"continuousWidth\": 400, \"continuousHeight\": 300}}, \"layer\": [{\"mark\": \"line\", \"encoding\": {\"size\": {\"condition\": {\"value\": 0.5, \"selection\": {\"not\": \"selector002\"}}, \"value\": 4}, \"tooltip\": [{\"type\": \"nominal\", \"field\": \"Jahr_str\"}, {\"type\": \"quantitative\", \"field\": \"AnzMittelBest\"}], \"x\": {\"type\": \"temporal\", \"axis\": {\"title\": \"Jahr\"}, \"field\": \"Jahr\"}, \"y\": {\"type\": \"quantitative\", \"axis\": {\"title\": \"Anz. Personen\"}, \"field\": \"AnzMittelBest\"}}, \"selection\": {\"selector003\": {\"type\": \"interval\", \"bind\": \"scales\", \"encodings\": [\"x\", \"y\"]}}, \"title\": \"Mittlere Wohnbev\\u00f6lkerung\"}, {\"mark\": \"circle\", \"encoding\": {\"opacity\": {\"value\": 0.75}, \"tooltip\": [{\"type\": \"nominal\", \"field\": \"Jahr_str\"}, {\"type\": \"quantitative\", \"field\": \"AnzMittelBest\"}], \"x\": {\"type\": \"temporal\", \"axis\": {\"title\": \"Jahr\"}, \"field\": \"Jahr\"}, \"y\": {\"type\": \"quantitative\", \"axis\": {\"title\": \"Anz. Personen\"}, \"field\": \"AnzMittelBest\"}}, \"height\": 350, \"selection\": {\"selector002\": {\"type\": \"single\", \"on\": \"mouseover\", \"fields\": [\"sum_AuslAnt\"], \"nearest\": true}}, \"title\": \"Mittlere Wohnbev\\u00f6lkerung\", \"width\": 750}], \"data\": {\"name\": \"data-af959c954f5223913de67ae7e2fccb71\"}, \"$schema\": \"https://vega.github.io/schema/vega-lite/v4.8.1.json\", \"datasets\": {\"data-af959c954f5223913de67ae7e2fccb71\": [{\"Jahr\": \"2021-01-01T00:00:00\", \"StichtagDatJahr\": \"2021-01-01T00:00:00\", \"AnzMittelBest\": 434516, \"Jahr_str\": \"2021-01-01\"}, {\"Jahr\": \"2020-01-01T00:00:00\", \"StichtagDatJahr\": \"2020-01-01T00:00:00\", \"AnzMittelBest\": 433963, \"Jahr_str\": \"2020-01-01\"}, {\"Jahr\": \"2019-01-01T00:00:00\", \"StichtagDatJahr\": \"2019-01-01T00:00:00\", \"AnzMittelBest\": 431322, \"Jahr_str\": \"2019-01-01\"}, {\"Jahr\": \"2018-01-01T00:00:00\", \"StichtagDatJahr\": \"2018-01-01T00:00:00\", \"AnzMittelBest\": 425593, \"Jahr_str\": \"2018-01-01\"}, {\"Jahr\": \"2017-01-01T00:00:00\", \"StichtagDatJahr\": \"2017-01-01T00:00:00\", \"AnzMittelBest\": 419549, \"Jahr_str\": \"2017-01-01\"}, {\"Jahr\": \"2016-01-01T00:00:00\", \"StichtagDatJahr\": \"2016-01-01T00:00:00\", \"AnzMittelBest\": 412820, \"Jahr_str\": \"2016-01-01\"}, {\"Jahr\": \"2015-01-01T00:00:00\", \"StichtagDatJahr\": \"2015-01-01T00:00:00\", \"AnzMittelBest\": 407629, \"Jahr_str\": \"2015-01-01\"}, {\"Jahr\": \"2014-01-01T00:00:00\", \"StichtagDatJahr\": \"2014-01-01T00:00:00\", \"AnzMittelBest\": 401267, \"Jahr_str\": \"2014-01-01\"}, {\"Jahr\": \"2013-01-01T00:00:00\", \"StichtagDatJahr\": \"2013-01-01T00:00:00\", \"AnzMittelBest\": 396342, \"Jahr_str\": \"2013-01-01\"}, {\"Jahr\": \"2012-01-01T00:00:00\", \"StichtagDatJahr\": \"2012-01-01T00:00:00\", \"AnzMittelBest\": 391729, \"Jahr_str\": \"2012-01-01\"}, {\"Jahr\": \"2011-01-01T00:00:00\", \"StichtagDatJahr\": \"2011-01-01T00:00:00\", \"AnzMittelBest\": 388057, \"Jahr_str\": \"2011-01-01\"}, {\"Jahr\": \"2010-01-01T00:00:00\", \"StichtagDatJahr\": \"2010-01-01T00:00:00\", \"AnzMittelBest\": 384246, \"Jahr_str\": \"2010-01-01\"}, {\"Jahr\": \"2009-01-01T00:00:00\", \"StichtagDatJahr\": \"2009-01-01T00:00:00\", \"AnzMittelBest\": 382453, \"Jahr_str\": \"2009-01-01\"}, {\"Jahr\": \"2008-01-01T00:00:00\", \"StichtagDatJahr\": \"2008-01-01T00:00:00\", \"AnzMittelBest\": 379500, \"Jahr_str\": \"2008-01-01\"}, {\"Jahr\": \"2007-01-01T00:00:00\", \"StichtagDatJahr\": \"2007-01-01T00:00:00\", \"AnzMittelBest\": 373762, \"Jahr_str\": \"2007-01-01\"}, {\"Jahr\": \"2006-01-01T00:00:00\", \"StichtagDatJahr\": \"2006-01-01T00:00:00\", \"AnzMittelBest\": 368917, \"Jahr_str\": \"2006-01-01\"}, {\"Jahr\": \"2005-01-01T00:00:00\", \"StichtagDatJahr\": \"2005-01-01T00:00:00\", \"AnzMittelBest\": 366418, \"Jahr_str\": \"2005-01-01\"}, {\"Jahr\": \"2004-01-01T00:00:00\", \"StichtagDatJahr\": \"2004-01-01T00:00:00\", \"AnzMittelBest\": 365209, \"Jahr_str\": \"2004-01-01\"}, {\"Jahr\": \"2003-01-01T00:00:00\", \"StichtagDatJahr\": \"2003-01-01T00:00:00\", \"AnzMittelBest\": 364884, \"Jahr_str\": \"2003-01-01\"}, {\"Jahr\": \"2002-01-01T00:00:00\", \"StichtagDatJahr\": \"2002-01-01T00:00:00\", \"AnzMittelBest\": 363944, \"Jahr_str\": \"2002-01-01\"}, {\"Jahr\": \"2001-01-01T00:00:00\", \"StichtagDatJahr\": \"2001-01-01T00:00:00\", \"AnzMittelBest\": 362664, \"Jahr_str\": \"2001-01-01\"}, {\"Jahr\": \"2000-01-01T00:00:00\", \"StichtagDatJahr\": \"2000-01-01T00:00:00\", \"AnzMittelBest\": 361301, \"Jahr_str\": \"2000-01-01\"}, {\"Jahr\": \"1999-01-01T00:00:00\", \"StichtagDatJahr\": \"1999-01-01T00:00:00\", \"AnzMittelBest\": 360974, \"Jahr_str\": \"1999-01-01\"}, {\"Jahr\": \"1998-01-01T00:00:00\", \"StichtagDatJahr\": \"1998-01-01T00:00:00\", \"AnzMittelBest\": 359728, \"Jahr_str\": \"1998-01-01\"}, {\"Jahr\": \"1997-01-01T00:00:00\", \"StichtagDatJahr\": \"1997-01-01T00:00:00\", \"AnzMittelBest\": 359970, \"Jahr_str\": \"1997-01-01\"}, {\"Jahr\": \"1996-01-01T00:00:00\", \"StichtagDatJahr\": \"1996-01-01T00:00:00\", \"AnzMittelBest\": 361789, \"Jahr_str\": \"1996-01-01\"}, {\"Jahr\": \"1995-01-01T00:00:00\", \"StichtagDatJahr\": \"1995-01-01T00:00:00\", \"AnzMittelBest\": 362445, \"Jahr_str\": \"1995-01-01\"}, {\"Jahr\": \"1994-01-01T00:00:00\", \"StichtagDatJahr\": \"1994-01-01T00:00:00\", \"AnzMittelBest\": 363062, \"Jahr_str\": \"1994-01-01\"}, {\"Jahr\": \"1993-01-01T00:00:00\", \"StichtagDatJahr\": \"1993-01-01T00:00:00\", \"AnzMittelBest\": 363278, \"Jahr_str\": \"1993-01-01\"}, {\"Jahr\": \"1992-01-01T00:00:00\", \"StichtagDatJahr\": \"1992-01-01T00:00:00\", \"AnzMittelBest\": 362450, \"Jahr_str\": \"1992-01-01\"}, {\"Jahr\": \"1991-01-01T00:00:00\", \"StichtagDatJahr\": \"1991-01-01T00:00:00\", \"AnzMittelBest\": 360730, \"Jahr_str\": \"1991-01-01\"}, {\"Jahr\": \"1990-01-01T00:00:00\", \"StichtagDatJahr\": \"1990-01-01T00:00:00\", \"AnzMittelBest\": 359050, \"Jahr_str\": \"1990-01-01\"}, {\"Jahr\": \"1989-01-01T00:00:00\", \"StichtagDatJahr\": \"1989-01-01T00:00:00\", \"AnzMittelBest\": 360030, \"Jahr_str\": \"1989-01-01\"}, {\"Jahr\": \"1988-01-01T00:00:00\", \"StichtagDatJahr\": \"1988-01-01T00:00:00\", \"AnzMittelBest\": 360810, \"Jahr_str\": \"1988-01-01\"}, {\"Jahr\": \"1987-01-01T00:00:00\", \"StichtagDatJahr\": \"1987-01-01T00:00:00\", \"AnzMittelBest\": 361450, \"Jahr_str\": \"1987-01-01\"}, {\"Jahr\": \"1986-01-01T00:00:00\", \"StichtagDatJahr\": \"1986-01-01T00:00:00\", \"AnzMittelBest\": 361470, \"Jahr_str\": \"1986-01-01\"}, {\"Jahr\": \"1985-01-01T00:00:00\", \"StichtagDatJahr\": \"1985-01-01T00:00:00\", \"AnzMittelBest\": 362480, \"Jahr_str\": \"1985-01-01\"}, {\"Jahr\": \"1984-01-01T00:00:00\", \"StichtagDatJahr\": \"1984-01-01T00:00:00\", \"AnzMittelBest\": 364070, \"Jahr_str\": \"1984-01-01\"}, {\"Jahr\": \"1983-01-01T00:00:00\", \"StichtagDatJahr\": \"1983-01-01T00:00:00\", \"AnzMittelBest\": 366820, \"Jahr_str\": \"1983-01-01\"}, {\"Jahr\": \"1982-01-01T00:00:00\", \"StichtagDatJahr\": \"1982-01-01T00:00:00\", \"AnzMittelBest\": 369400, \"Jahr_str\": \"1982-01-01\"}, {\"Jahr\": \"1981-01-01T00:00:00\", \"StichtagDatJahr\": \"1981-01-01T00:00:00\", \"AnzMittelBest\": 372040, \"Jahr_str\": \"1981-01-01\"}, {\"Jahr\": \"1980-01-01T00:00:00\", \"StichtagDatJahr\": \"1980-01-01T00:00:00\", \"AnzMittelBest\": 374210, \"Jahr_str\": \"1980-01-01\"}, {\"Jahr\": \"1979-01-01T00:00:00\", \"StichtagDatJahr\": \"1979-01-01T00:00:00\", \"AnzMittelBest\": 377300, \"Jahr_str\": \"1979-01-01\"}, {\"Jahr\": \"1978-01-01T00:00:00\", \"StichtagDatJahr\": \"1978-01-01T00:00:00\", \"AnzMittelBest\": 379760, \"Jahr_str\": \"1978-01-01\"}, {\"Jahr\": \"1977-01-01T00:00:00\", \"StichtagDatJahr\": \"1977-01-01T00:00:00\", \"AnzMittelBest\": 382640, \"Jahr_str\": \"1977-01-01\"}, {\"Jahr\": \"1976-01-01T00:00:00\", \"StichtagDatJahr\": \"1976-01-01T00:00:00\", \"AnzMittelBest\": 386940, \"Jahr_str\": \"1976-01-01\"}, {\"Jahr\": \"1975-01-01T00:00:00\", \"StichtagDatJahr\": \"1975-01-01T00:00:00\", \"AnzMittelBest\": 395390, \"Jahr_str\": \"1975-01-01\"}, {\"Jahr\": \"1974-01-01T00:00:00\", \"StichtagDatJahr\": \"1974-01-01T00:00:00\", \"AnzMittelBest\": 404370, \"Jahr_str\": \"1974-01-01\"}, {\"Jahr\": \"1973-01-01T00:00:00\", \"StichtagDatJahr\": \"1973-01-01T00:00:00\", \"AnzMittelBest\": 410110, \"Jahr_str\": \"1973-01-01\"}, {\"Jahr\": \"1972-01-01T00:00:00\", \"StichtagDatJahr\": \"1972-01-01T00:00:00\", \"AnzMittelBest\": 416120, \"Jahr_str\": \"1972-01-01\"}, {\"Jahr\": \"1971-01-01T00:00:00\", \"StichtagDatJahr\": \"1971-01-01T00:00:00\", \"AnzMittelBest\": 420880, \"Jahr_str\": \"1971-01-01\"}, {\"Jahr\": \"1970-01-01T00:00:00\", \"StichtagDatJahr\": \"1970-01-01T00:00:00\", \"AnzMittelBest\": 426930, \"Jahr_str\": \"1970-01-01\"}, {\"Jahr\": \"1969-01-01T00:00:00\", \"StichtagDatJahr\": \"1969-01-01T00:00:00\", \"AnzMittelBest\": 431200, \"Jahr_str\": \"1969-01-01\"}, {\"Jahr\": \"1968-01-01T00:00:00\", \"StichtagDatJahr\": \"1968-01-01T00:00:00\", \"AnzMittelBest\": 432600, \"Jahr_str\": \"1968-01-01\"}, {\"Jahr\": \"1967-01-01T00:00:00\", \"StichtagDatJahr\": \"1967-01-01T00:00:00\", \"AnzMittelBest\": 434340, \"Jahr_str\": \"1967-01-01\"}, {\"Jahr\": \"1966-01-01T00:00:00\", \"StichtagDatJahr\": \"1966-01-01T00:00:00\", \"AnzMittelBest\": 435420, \"Jahr_str\": \"1966-01-01\"}, {\"Jahr\": \"1965-01-01T00:00:00\", \"StichtagDatJahr\": \"1965-01-01T00:00:00\", \"AnzMittelBest\": 438520, \"Jahr_str\": \"1965-01-01\"}, {\"Jahr\": \"1964-01-01T00:00:00\", \"StichtagDatJahr\": \"1964-01-01T00:00:00\", \"AnzMittelBest\": 441380, \"Jahr_str\": \"1964-01-01\"}, {\"Jahr\": \"1963-01-01T00:00:00\", \"StichtagDatJahr\": \"1963-01-01T00:00:00\", \"AnzMittelBest\": 443170, \"Jahr_str\": \"1963-01-01\"}, {\"Jahr\": \"1962-01-01T00:00:00\", \"StichtagDatJahr\": \"1962-01-01T00:00:00\", \"AnzMittelBest\": 443500, \"Jahr_str\": \"1962-01-01\"}, {\"Jahr\": \"1961-01-01T00:00:00\", \"StichtagDatJahr\": \"1961-01-01T00:00:00\", \"AnzMittelBest\": 441590, \"Jahr_str\": \"1961-01-01\"}, {\"Jahr\": \"1960-01-01T00:00:00\", \"StichtagDatJahr\": \"1960-01-01T00:00:00\", \"AnzMittelBest\": 437780, \"Jahr_str\": \"1960-01-01\"}, {\"Jahr\": \"1959-01-01T00:00:00\", \"StichtagDatJahr\": \"1959-01-01T00:00:00\", \"AnzMittelBest\": 434410, \"Jahr_str\": \"1959-01-01\"}, {\"Jahr\": \"1958-01-01T00:00:00\", \"StichtagDatJahr\": \"1958-01-01T00:00:00\", \"AnzMittelBest\": 429840, \"Jahr_str\": \"1958-01-01\"}, {\"Jahr\": \"1957-01-01T00:00:00\", \"StichtagDatJahr\": \"1957-01-01T00:00:00\", \"AnzMittelBest\": 425450, \"Jahr_str\": \"1957-01-01\"}, {\"Jahr\": \"1956-01-01T00:00:00\", \"StichtagDatJahr\": \"1956-01-01T00:00:00\", \"AnzMittelBest\": 419730, \"Jahr_str\": \"1956-01-01\"}, {\"Jahr\": \"1955-01-01T00:00:00\", \"StichtagDatJahr\": \"1955-01-01T00:00:00\", \"AnzMittelBest\": 415730, \"Jahr_str\": \"1955-01-01\"}, {\"Jahr\": \"1954-01-01T00:00:00\", \"StichtagDatJahr\": \"1954-01-01T00:00:00\", \"AnzMittelBest\": 410900, \"Jahr_str\": \"1954-01-01\"}, {\"Jahr\": \"1953-01-01T00:00:00\", \"StichtagDatJahr\": \"1953-01-01T00:00:00\", \"AnzMittelBest\": 405770, \"Jahr_str\": \"1953-01-01\"}, {\"Jahr\": \"1952-01-01T00:00:00\", \"StichtagDatJahr\": \"1952-01-01T00:00:00\", \"AnzMittelBest\": 399580, \"Jahr_str\": \"1952-01-01\"}, {\"Jahr\": \"1951-01-01T00:00:00\", \"StichtagDatJahr\": \"1951-01-01T00:00:00\", \"AnzMittelBest\": 392690, \"Jahr_str\": \"1951-01-01\"}, {\"Jahr\": \"1950-01-01T00:00:00\", \"StichtagDatJahr\": \"1950-01-01T00:00:00\", \"AnzMittelBest\": 386860, \"Jahr_str\": \"1950-01-01\"}, {\"Jahr\": \"1949-01-01T00:00:00\", \"StichtagDatJahr\": \"1949-01-01T00:00:00\", \"AnzMittelBest\": 384070, \"Jahr_str\": \"1949-01-01\"}, {\"Jahr\": \"1948-01-01T00:00:00\", \"StichtagDatJahr\": \"1948-01-01T00:00:00\", \"AnzMittelBest\": 380250, \"Jahr_str\": \"1948-01-01\"}, {\"Jahr\": \"1947-01-01T00:00:00\", \"StichtagDatJahr\": \"1947-01-01T00:00:00\", \"AnzMittelBest\": 371330, \"Jahr_str\": \"1947-01-01\"}, {\"Jahr\": \"1946-01-01T00:00:00\", \"StichtagDatJahr\": \"1946-01-01T00:00:00\", \"AnzMittelBest\": 360910, \"Jahr_str\": \"1946-01-01\"}, {\"Jahr\": \"1945-01-01T00:00:00\", \"StichtagDatJahr\": \"1945-01-01T00:00:00\", \"AnzMittelBest\": 353800, \"Jahr_str\": \"1945-01-01\"}, {\"Jahr\": \"1944-01-01T00:00:00\", \"StichtagDatJahr\": \"1944-01-01T00:00:00\", \"AnzMittelBest\": 347750, \"Jahr_str\": \"1944-01-01\"}, {\"Jahr\": \"1943-01-01T00:00:00\", \"StichtagDatJahr\": \"1943-01-01T00:00:00\", \"AnzMittelBest\": 341660, \"Jahr_str\": \"1943-01-01\"}, {\"Jahr\": \"1942-01-01T00:00:00\", \"StichtagDatJahr\": \"1942-01-01T00:00:00\", \"AnzMittelBest\": 337370, \"Jahr_str\": \"1942-01-01\"}, {\"Jahr\": \"1941-01-01T00:00:00\", \"StichtagDatJahr\": \"1941-01-01T00:00:00\", \"AnzMittelBest\": 334290, \"Jahr_str\": \"1941-01-01\"}, {\"Jahr\": \"1940-01-01T00:00:00\", \"StichtagDatJahr\": \"1940-01-01T00:00:00\", \"AnzMittelBest\": 332430, \"Jahr_str\": \"1940-01-01\"}, {\"Jahr\": \"1939-01-01T00:00:00\", \"StichtagDatJahr\": \"1939-01-01T00:00:00\", \"AnzMittelBest\": 330620, \"Jahr_str\": \"1939-01-01\"}, {\"Jahr\": \"1938-01-01T00:00:00\", \"StichtagDatJahr\": \"1938-01-01T00:00:00\", \"AnzMittelBest\": 321800, \"Jahr_str\": \"1938-01-01\"}, {\"Jahr\": \"1937-01-01T00:00:00\", \"StichtagDatJahr\": \"1937-01-01T00:00:00\", \"AnzMittelBest\": 317310, \"Jahr_str\": \"1937-01-01\"}, {\"Jahr\": \"1936-01-01T00:00:00\", \"StichtagDatJahr\": \"1936-01-01T00:00:00\", \"AnzMittelBest\": 316630, \"Jahr_str\": \"1936-01-01\"}, {\"Jahr\": \"1935-01-01T00:00:00\", \"StichtagDatJahr\": \"1935-01-01T00:00:00\", \"AnzMittelBest\": 316050, \"Jahr_str\": \"1935-01-01\"}, {\"Jahr\": \"1934-01-01T00:00:00\", \"StichtagDatJahr\": \"1934-01-01T00:00:00\", \"AnzMittelBest\": 313680, \"Jahr_str\": \"1934-01-01\"}]}}, {\"mode\": \"vega-lite\"});\n",
       "</script>"
      ],
      "text/plain": [
       "alt.LayerChart(...)"
      ]
     },
     "execution_count": 54,
     "metadata": {},
     "output_type": "execute_result"
    }
   ],
   "source": [
    "myTitle=\"Mittlere Wohnbevölkerung\"\n",
    "\n",
    "highlight = alt.selection(type='single', on='mouseover',\n",
    "                          fields=['sum_AuslAnt'], nearest=True)\n",
    "#x='date:StichtagDatJahr',\n",
    "base = alt.Chart(data2betested.reset_index().query('AnzMittelBest>0'), title=myTitle).encode(\n",
    "    x=alt.X('Jahr', axis=alt.Axis(title='Jahr'))# , axis=alt.Axis(format='%', title='percentage')\n",
    "    , y=alt.X('AnzMittelBest', axis=alt.Axis(title='Anz. Personen'))\n",
    "    #, color=alt.Color('sum_AuslAnt', legend=alt.Legend(title=\"\", orient=\"right\"))  \n",
    "    ,tooltip=['Jahr_str', 'AnzMittelBest']    \n",
    ")\n",
    "points = base.mark_circle().encode(\n",
    "    opacity=alt.value(0.75)\n",
    ").add_selection(\n",
    "    highlight\n",
    ").properties(\n",
    "    width=750 , height=350\n",
    ")\n",
    "lines = base.mark_line().encode(\n",
    "    size=alt.condition(~highlight, alt.value(0.5), alt.value(4))\n",
    ").interactive()\n",
    "\n",
    "lines + points"
   ]
  },
  {
   "cell_type": "markdown",
   "metadata": {
    "tags": []
   },
   "source": [
    "#### Barcharts mit Seaborn"
   ]
  },
  {
   "cell_type": "code",
   "execution_count": 55,
   "metadata": {},
   "outputs": [],
   "source": [
    "#help(sns.catplot)     "
   ]
  },
  {
   "cell_type": "code",
   "execution_count": 56,
   "metadata": {},
   "outputs": [],
   "source": [
    "#Stile for the following sns graphs\n",
    "sns.set_theme(style=\"whitegrid\")"
   ]
  },
  {
   "cell_type": "code",
   "execution_count": 57,
   "metadata": {},
   "outputs": [
    {
     "data": {
      "text/plain": [
       "Index(['StichtagDatJahr', 'AnzMittelBest', 'Jahr_str'], dtype='object')"
      ]
     },
     "execution_count": 57,
     "metadata": {},
     "output_type": "execute_result"
    }
   ],
   "source": [
    "data2betested.columns"
   ]
  },
  {
   "cell_type": "code",
   "execution_count": 63,
   "metadata": {},
   "outputs": [
    {
     "data": {
      "text/plain": [
       "<seaborn.axisgrid.FacetGrid at 0x1c560e8ac48>"
      ]
     },
     "execution_count": 63,
     "metadata": {},
     "output_type": "execute_result"
    },
    {
     "data": {
      "image/png": "[encoded data removed]",
      "text/plain": [
       "<Figure size 720x360 with 1 Axes>"
      ]
     },
     "metadata": {},
     "output_type": "display_data"
    }
   ],
   "source": [
    "#sns.color_palette(\"flare\", as_cmap=True)\n",
    "myHist = sns.catplot(x=\"Jahr\"\n",
    "            , y=\"AnzMittelBest\"\n",
    "            #, hue=\"AuslAnt\"\n",
    "            , kind=\"bar\" #boxen, violin, --> wenn die aggregation nicht genau den werten in der grafik entspricht\n",
    "            , palette=\"pastel\" #, color=\"green\"\n",
    "            , height=5\n",
    "            , aspect=2\n",
    "            , order=None, legend_out=True\n",
    "            ,data=data2betested.sort_values('Jahr', ascending=True).reset_index()\n",
    "           )\n",
    "myHist.set_xlabels('Jahr', fontsize=11) # not set_label\n",
    "myHist.set_ylabels('Anz. Pers.', fontsize=11)\n"
   ]
  },
  {
   "cell_type": "code",
   "execution_count": 60,
   "metadata": {},
   "outputs": [
    {
     "data": {
      "text/plain": [
       "Index(['StichtagDatJahr', 'AnzMittelBest', 'Jahr_str'], dtype='object')"
      ]
     },
     "execution_count": 60,
     "metadata": {},
     "output_type": "execute_result"
    }
   ],
   "source": [
    "data2betested.columns"
   ]
  },
  {
   "cell_type": "markdown",
   "metadata": {},
   "source": [
    "## ---------------------- hier Plausi beendet\n",
    "\n",
    "**Sharepoint als gecheckt markieren!**"
   ]
  },
  {
   "cell_type": "markdown",
   "metadata": {
    "tags": []
   },
   "source": [
    "Record auf Sharepoint: **[Link](https://kollaboration.intranet.stzh.ch/orga/ssz-produkte/Lists/SASA_Outputs/DispForm.aspx?ID=626&ContentTypeId=0x0100988EAF029F1EFE4CA675F53C32A5D53D01006DBC563E6FBE9E4EB6FDC780799752E1)**\n",
    "\n",
    "---------------------------------------------------------------------------"
   ]
  },
  {
   "cell_type": "code",
   "execution_count": null,
   "metadata": {},
   "outputs": [],
   "source": []
  }
 ],
 "metadata": {
  "kernelspec": {
   "display_name": "Python 3 (ipykernel)",
   "language": "python",
   "name": "python3"
  },
  "language_info": {
   "codemirror_mode": {
    "name": "ipython",
    "version": 3
   },
   "file_extension": ".py",
   "mimetype": "text/x-python",
   "name": "python",
   "nbconvert_exporter": "python",
   "pygments_lexer": "ipython3",
   "version": "3.7.11"
  }
 },
 "nbformat": 4,
 "nbformat_minor": 4
}
