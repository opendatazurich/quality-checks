{
 "cells": [
  {
   "cell_type": "markdown",
   "metadata": {},
   "source": [
    "# Testing\n",
    "### Zähldaten der Passagiere an der Hardbrücke\n",
    "Datum: 04.01.2022"
   ]
  },
  {
   "cell_type": "markdown",
   "metadata": {},
   "source": [
    "### Importiere die notwendigen Packages"
   ]
  },
  {
   "cell_type": "code",
   "execution_count": 1,
   "metadata": {},
   "outputs": [],
   "source": [
    "#%pip install openpyxl geopandas altair fiona requests folium mplleaflet contextily seaborn datetime plotly"
   ]
  },
  {
   "cell_type": "code",
   "execution_count": 2,
   "metadata": {},
   "outputs": [],
   "source": [
    "import pandas as pd\n",
    "import pivottablejs\n",
    "from pivottablejs import pivot_ui\n",
    "import numpy as np\n",
    "import altair as alt\n",
    "import matplotlib.pyplot as plt\n",
    "#from datetime import datetime\n",
    "import datetime\n",
    "import geopandas as gpd\n",
    "import folium \n",
    "import time\n"
   ]
  },
  {
   "cell_type": "markdown",
   "metadata": {},
   "source": [
    "Definiere Settings. Hier das Zahlenformat von Float-Werten (z.B. *'{:,.2f}'.format* mit Komma als Tausenderzeichen), "
   ]
  },
  {
   "cell_type": "code",
   "execution_count": 3,
   "metadata": {},
   "outputs": [],
   "source": [
    "pd.options.display.float_format = '{:.1f}'.format\n",
    "pd.set_option('display.width', 100)\n",
    "pd.set_option('display.max_columns', 15)"
   ]
  },
  {
   "cell_type": "markdown",
   "metadata": {},
   "source": [
    "### Zeitvariabeln\n",
    "Bestimme den aktuellst geladenen Monat. Hier ist es der Stand vor 2 Monaten. \n",
    "Bestimme noch weitere evt. sinnvolle Zeitvariabeln.\n",
    "\n",
    "Zum Unterschied zwischen import datetime und from datedtime import datetime, siehe https://stackoverflow.com/questions/15707532/import-datetime-v-s-from-datetime-import-datetime\n",
    "\n",
    "Zuerst die Zeitvariabeln als Strings"
   ]
  },
  {
   "cell_type": "code",
   "execution_count": 4,
   "metadata": {},
   "outputs": [],
   "source": [
    "#today_date = datetime.date.today()\n",
    "#date_time = datetime.datetime.strptime(date_time_string, '%Y-%m-%d %H:%M')\n",
    "now = datetime.date.today()\n",
    "date_today = now.strftime(\"%Y-%m-%d\")\n",
    "year_today = now.strftime(\"%Y\")\n",
    "month_today = now.strftime(\"%m\")\n",
    "day_today = now.strftime(\"%d\")\n",
    "\n"
   ]
  },
  {
   "cell_type": "markdown",
   "metadata": {},
   "source": [
    "Und hier noch die Zeitvariabeln als Integers:\n",
    "- `aktuellesJahr`\n",
    "- `aktuellerMonat`: Der gerade jetzt aktuelle Monat\n",
    "- `selectedMonat`: Der aktuellste Monat in den Daten. In der Regel zwei Monate her."
   ]
  },
  {
   "cell_type": "code",
   "execution_count": 5,
   "metadata": {},
   "outputs": [
    {
     "name": "stdout",
     "output_type": "stream",
     "text": [
      "2022 1 datenstand:  -1 time.struct_time(tm_year=2022, tm_mon=1, tm_mday=18, tm_hour=0, tm_min=0, tm_sec=0, tm_wday=1, tm_yday=18, tm_isdst=-1)\n"
     ]
    }
   ],
   "source": [
    "#now = datetime.now() \n",
    "int_times = now.timetuple()\n",
    "\n",
    "aktuellesJahr = int_times[0]\n",
    "aktuellerMonat = int_times[1]\n",
    "selectedMonat = int_times[1]-2\n",
    "\n",
    "print(aktuellesJahr, \n",
    "      aktuellerMonat,\n",
    "    'datenstand: ', selectedMonat,\n",
    "     int_times)\n"
   ]
  },
  {
   "cell_type": "code",
   "execution_count": null,
   "metadata": {},
   "outputs": [],
   "source": []
  },
  {
   "cell_type": "markdown",
   "metadata": {
    "tags": []
   },
   "source": [
    "### Importiere einen Datensatz \n",
    "\n",
    "- Beachte dabei die Notation des Pfades...\n",
    "- Definiere mal aktuell noch keine weiteren Parameter beim Import"
   ]
  },
  {
   "cell_type": "markdown",
   "metadata": {},
   "source": [
    "**Dataset auf INTEG Datenkatalog**:  https://data.integ.stadt-zuerich.ch/dataset/vbz_frequenzen_hardbruecke/\n",
    "\n",
    "**Dataset auf PROD Datenkatalog**:  https://data.stadt-zuerich.ch/dataset/vbz_frequenzen_hardbruecke/"
   ]
  },
  {
   "cell_type": "code",
   "execution_count": 6,
   "metadata": {},
   "outputs": [
    {
     "name": "stdout",
     "output_type": "stream",
     "text": [
      "prod\n"
     ]
    }
   ],
   "source": [
    "#Die Datasets sind nur zum Testen auf INT-DWH-Dropzone. Wenn der Test vorbei ist, sind sie auf PROD. \n",
    "# Über den Status kann man einfach switchen\n",
    "\n",
    "status = \"prod\";\n",
    "print(status)"
   ]
  },
  {
   "cell_type": "code",
   "execution_count": 7,
   "metadata": {
    "tags": []
   },
   "outputs": [
    {
     "name": "stdout",
     "output_type": "stream",
     "text": [
      "https://data.stadt-zuerich.ch/dataset/vbz_frequenzen_hardbruecke/download/frequenzen_hardbruecke_2021.csv\n"
     ]
    }
   ],
   "source": [
    "# Filepath\n",
    "if status == \"prod\":\n",
    "    #fp = r\"//szh.loc/ssz/applikationen/OGD_Dropzone/DWH/bev_monat_bestand_quartier_geschl_ag_herkunft_od3250/BEV325OD3250.csv\"\n",
    "    fp = r\"https://data.stadt-zuerich.ch/dataset/vbz_frequenzen_hardbruecke/download/frequenzen_hardbruecke_2021.csv\"\n",
    "\n",
    "else:\n",
    "    fp = r\"\"\n",
    "\n",
    "\n",
    "print(fp)"
   ]
  },
  {
   "cell_type": "markdown",
   "metadata": {
    "tags": []
   },
   "source": [
    "#### Parsing & Formatting Strings to Dataframes\n",
    "- [**Cheat Sheet**](https://strftime.org/)\n",
    "- Python documentation for **strptime**: [string **parse** time, Python 3](https://docs.python.org/3/library/datetime.html#datetime.datetime.strptime)\n",
    "- Python documentation for strptime/**strftime**: [string **format** time,Python 3](https://docs.python.org/3/library/datetime.html#strftime-and-strptime-behavior)\n",
    "\n"
   ]
  },
  {
   "cell_type": "code",
   "execution_count": 8,
   "metadata": {},
   "outputs": [
    {
     "name": "stdout",
     "output_type": "stream",
     "text": [
      "done\n"
     ]
    }
   ],
   "source": [
    "# Read the data\n",
    "data2betested = pd.read_csv(\n",
    "    fp, \n",
    "    sep=',',\n",
    "    parse_dates=['Timestamp'],\n",
    "    # KONVERTIERE DAS SAS DATUM IN EIN UNIXDATUM UND FORMATIERE ES\n",
    "    #date_parser=lambda x: datetime.datetime.strptime(x, '%Y-%m-%dT%H:%M:%S'),\n",
    "    low_memory=False    \n",
    "    )\n",
    "\n",
    "print('done')"
   ]
  },
  {
   "cell_type": "markdown",
   "metadata": {},
   "source": [
    "In der Folge ein paar erste Tests:"
   ]
  },
  {
   "cell_type": "markdown",
   "metadata": {},
   "source": [
    " - 1) Zeige eine kurze Vorschau der importierten Daten\n",
    " - 2) Weise die Datentypen aus\n",
    " - 3) Zeige die Shape (Umfang) des Datensatzes an"
   ]
  },
  {
   "cell_type": "code",
   "execution_count": 9,
   "metadata": {},
   "outputs": [
    {
     "data": {
      "text/html": [
       "<div>\n",
       "<style scoped>\n",
       "    .dataframe tbody tr th:only-of-type {\n",
       "        vertical-align: middle;\n",
       "    }\n",
       "\n",
       "    .dataframe tbody tr th {\n",
       "        vertical-align: top;\n",
       "    }\n",
       "\n",
       "    .dataframe thead th {\n",
       "        text-align: right;\n",
       "    }\n",
       "</style>\n",
       "<table border=\"1\" class=\"dataframe\">\n",
       "  <thead>\n",
       "    <tr style=\"text-align: right;\">\n",
       "      <th></th>\n",
       "      <th>In</th>\n",
       "      <th>Out</th>\n",
       "      <th>Timestamp</th>\n",
       "      <th>Name</th>\n",
       "    </tr>\n",
       "  </thead>\n",
       "  <tbody>\n",
       "    <tr>\n",
       "      <th>0</th>\n",
       "      <td>1</td>\n",
       "      <td>1</td>\n",
       "      <td>2021-01-01 23:55:00</td>\n",
       "      <td>Ost-Nord total</td>\n",
       "    </tr>\n",
       "    <tr>\n",
       "      <th>1</th>\n",
       "      <td>2</td>\n",
       "      <td>0</td>\n",
       "      <td>2021-01-01 23:35:00</td>\n",
       "      <td>Ost-Nord total</td>\n",
       "    </tr>\n",
       "    <tr>\n",
       "      <th>2</th>\n",
       "      <td>0</td>\n",
       "      <td>1</td>\n",
       "      <td>2021-01-01 23:30:00</td>\n",
       "      <td>Ost-Nord total</td>\n",
       "    </tr>\n",
       "    <tr>\n",
       "      <th>3</th>\n",
       "      <td>3</td>\n",
       "      <td>6</td>\n",
       "      <td>2021-01-01 23:20:00</td>\n",
       "      <td>Ost-Nord total</td>\n",
       "    </tr>\n",
       "    <tr>\n",
       "      <th>4</th>\n",
       "      <td>0</td>\n",
       "      <td>2</td>\n",
       "      <td>2021-01-01 23:05:00</td>\n",
       "      <td>Ost-Nord total</td>\n",
       "    </tr>\n",
       "    <tr>\n",
       "      <th>...</th>\n",
       "      <td>...</td>\n",
       "      <td>...</td>\n",
       "      <td>...</td>\n",
       "      <td>...</td>\n",
       "    </tr>\n",
       "    <tr>\n",
       "      <th>725851</th>\n",
       "      <td>4</td>\n",
       "      <td>10</td>\n",
       "      <td>2022-01-01 00:20:00</td>\n",
       "      <td>West-VBZ total</td>\n",
       "    </tr>\n",
       "    <tr>\n",
       "      <th>725852</th>\n",
       "      <td>14</td>\n",
       "      <td>9</td>\n",
       "      <td>2022-01-01 00:15:00</td>\n",
       "      <td>West-VBZ total</td>\n",
       "    </tr>\n",
       "    <tr>\n",
       "      <th>725853</th>\n",
       "      <td>1</td>\n",
       "      <td>3</td>\n",
       "      <td>2022-01-01 00:10:00</td>\n",
       "      <td>West-VBZ total</td>\n",
       "    </tr>\n",
       "    <tr>\n",
       "      <th>725854</th>\n",
       "      <td>0</td>\n",
       "      <td>2</td>\n",
       "      <td>2022-01-01 00:05:00</td>\n",
       "      <td>West-VBZ total</td>\n",
       "    </tr>\n",
       "    <tr>\n",
       "      <th>725855</th>\n",
       "      <td>5</td>\n",
       "      <td>3</td>\n",
       "      <td>2022-01-01 00:00:00</td>\n",
       "      <td>West-VBZ total</td>\n",
       "    </tr>\n",
       "  </tbody>\n",
       "</table>\n",
       "<p>725856 rows × 4 columns</p>\n",
       "</div>"
      ],
      "text/plain": [
       "        In  Out           Timestamp            Name\n",
       "0        1    1 2021-01-01 23:55:00  Ost-Nord total\n",
       "1        2    0 2021-01-01 23:35:00  Ost-Nord total\n",
       "2        0    1 2021-01-01 23:30:00  Ost-Nord total\n",
       "3        3    6 2021-01-01 23:20:00  Ost-Nord total\n",
       "4        0    2 2021-01-01 23:05:00  Ost-Nord total\n",
       "...     ..  ...                 ...             ...\n",
       "725851   4   10 2022-01-01 00:20:00  West-VBZ total\n",
       "725852  14    9 2022-01-01 00:15:00  West-VBZ total\n",
       "725853   1    3 2022-01-01 00:10:00  West-VBZ total\n",
       "725854   0    2 2022-01-01 00:05:00  West-VBZ total\n",
       "725855   5    3 2022-01-01 00:00:00  West-VBZ total\n",
       "\n",
       "[725856 rows x 4 columns]"
      ]
     },
     "execution_count": 9,
     "metadata": {},
     "output_type": "execute_result"
    }
   ],
   "source": [
    "data2betested"
   ]
  },
  {
   "cell_type": "code",
   "execution_count": 10,
   "metadata": {},
   "outputs": [
    {
     "data": {
      "text/plain": [
       "In                    int64\n",
       "Out                   int64\n",
       "Timestamp    datetime64[ns]\n",
       "Name                 object\n",
       "dtype: object"
      ]
     },
     "execution_count": 10,
     "metadata": {},
     "output_type": "execute_result"
    }
   ],
   "source": [
    "data2betested.dtypes"
   ]
  },
  {
   "cell_type": "code",
   "execution_count": null,
   "metadata": {},
   "outputs": [],
   "source": []
  },
  {
   "cell_type": "code",
   "execution_count": null,
   "metadata": {},
   "outputs": [],
   "source": []
  },
  {
   "cell_type": "markdown",
   "metadata": {},
   "source": [
    "Beschreibe einzelne Attribute"
   ]
  },
  {
   "cell_type": "code",
   "execution_count": 11,
   "metadata": {},
   "outputs": [
    {
     "data": {
      "text/html": [
       "<div>\n",
       "<style scoped>\n",
       "    .dataframe tbody tr th:only-of-type {\n",
       "        vertical-align: middle;\n",
       "    }\n",
       "\n",
       "    .dataframe tbody tr th {\n",
       "        vertical-align: top;\n",
       "    }\n",
       "\n",
       "    .dataframe thead th {\n",
       "        text-align: right;\n",
       "    }\n",
       "</style>\n",
       "<table border=\"1\" class=\"dataframe\">\n",
       "  <thead>\n",
       "    <tr style=\"text-align: right;\">\n",
       "      <th></th>\n",
       "      <th>In</th>\n",
       "      <th>Out</th>\n",
       "    </tr>\n",
       "  </thead>\n",
       "  <tbody>\n",
       "    <tr>\n",
       "      <th>count</th>\n",
       "      <td>725856.0</td>\n",
       "      <td>725856.0</td>\n",
       "    </tr>\n",
       "    <tr>\n",
       "      <th>mean</th>\n",
       "      <td>12.7</td>\n",
       "      <td>10.6</td>\n",
       "    </tr>\n",
       "    <tr>\n",
       "      <th>std</th>\n",
       "      <td>15.4</td>\n",
       "      <td>12.3</td>\n",
       "    </tr>\n",
       "    <tr>\n",
       "      <th>min</th>\n",
       "      <td>0.0</td>\n",
       "      <td>0.0</td>\n",
       "    </tr>\n",
       "    <tr>\n",
       "      <th>25%</th>\n",
       "      <td>3.0</td>\n",
       "      <td>3.0</td>\n",
       "    </tr>\n",
       "    <tr>\n",
       "      <th>50%</th>\n",
       "      <td>7.0</td>\n",
       "      <td>7.0</td>\n",
       "    </tr>\n",
       "    <tr>\n",
       "      <th>75%</th>\n",
       "      <td>17.0</td>\n",
       "      <td>14.0</td>\n",
       "    </tr>\n",
       "    <tr>\n",
       "      <th>max</th>\n",
       "      <td>422.0</td>\n",
       "      <td>445.0</td>\n",
       "    </tr>\n",
       "  </tbody>\n",
       "</table>\n",
       "</div>"
      ],
      "text/plain": [
       "            In      Out\n",
       "count 725856.0 725856.0\n",
       "mean      12.7     10.6\n",
       "std       15.4     12.3\n",
       "min        0.0      0.0\n",
       "25%        3.0      3.0\n",
       "50%        7.0      7.0\n",
       "75%       17.0     14.0\n",
       "max      422.0    445.0"
      ]
     },
     "execution_count": 11,
     "metadata": {},
     "output_type": "execute_result"
    }
   ],
   "source": [
    "data2betested.describe()"
   ]
  },
  {
   "cell_type": "markdown",
   "metadata": {},
   "source": [
    "Wie viele Nullwerte gibt es im Datensatz?"
   ]
  },
  {
   "cell_type": "code",
   "execution_count": 12,
   "metadata": {
    "scrolled": true
   },
   "outputs": [
    {
     "data": {
      "text/plain": [
       "In           0\n",
       "Out          0\n",
       "Timestamp    0\n",
       "Name         0\n",
       "dtype: int64"
      ]
     },
     "execution_count": 12,
     "metadata": {},
     "output_type": "execute_result"
    }
   ],
   "source": [
    "data2betested.isnull().sum()"
   ]
  },
  {
   "cell_type": "markdown",
   "metadata": {
    "colab_type": "text",
    "id": "1dTPVmmsgOVx"
   },
   "source": [
    "### Verwende das Datum als Index\n",
    "\n",
    "While we did already parse the `datetime` column into the respective datetime type, it currently is just a regular column. \n",
    "**To enable quick and convenient queries and aggregations, we need to turn it into the index of the DataFrame**"
   ]
  },
  {
   "cell_type": "code",
   "execution_count": 13,
   "metadata": {},
   "outputs": [],
   "source": [
    "data2betested = data2betested.set_index(\"Timestamp\")\n",
    "#data2betested = data2betested.drop(columns=[\"StichtagDatMM\"])"
   ]
  },
  {
   "cell_type": "code",
   "execution_count": 14,
   "metadata": {},
   "outputs": [
    {
     "name": "stdout",
     "output_type": "stream",
     "text": [
      "<class 'pandas.core.frame.DataFrame'>\n",
      "DatetimeIndex: 725856 entries, 2021-01-01 23:55:00 to 2022-01-01 00:00:00\n",
      "Data columns (total 3 columns):\n",
      " #   Column  Non-Null Count   Dtype \n",
      "---  ------  --------------   ----- \n",
      " 0   In      725856 non-null  int64 \n",
      " 1   Out     725856 non-null  int64 \n",
      " 2   Name    725856 non-null  object\n",
      "dtypes: int64(2), object(1)\n",
      "memory usage: 22.2+ MB\n"
     ]
    },
    {
     "data": {
      "text/plain": [
       "Int64Index([ 1,  2,  3,  4,  5,  6,  7,  8,  9, 10, 11, 12, 13, 14, 15, 16, 17, 18, 19, 20, 21, 22,\n",
       "            23, 24, 25, 26, 27, 28, 29, 30, 31],\n",
       "           dtype='int64', name='Timestamp')"
      ]
     },
     "execution_count": 14,
     "metadata": {},
     "output_type": "execute_result"
    }
   ],
   "source": [
    "data2betested.info()\n",
    "data2betested.index.day.unique()"
   ]
  },
  {
   "cell_type": "markdown",
   "metadata": {},
   "source": [
    "### Einfache Visualisierungen zur Plausi"
   ]
  },
  {
   "cell_type": "markdown",
   "metadata": {},
   "source": [
    "Exploriere die Daten mit Pivottable.JS"
   ]
  },
  {
   "cell_type": "code",
   "execution_count": 15,
   "metadata": {},
   "outputs": [],
   "source": [
    "#from pivottablejs import pivot_ui\n",
    "\n",
    "#pivot_ui(data2betested)"
   ]
  },
  {
   "cell_type": "markdown",
   "metadata": {},
   "source": [
    "### Zeitpunkte und Zeiträume abfragen\n",
    "\n",
    "A particular powerful feature of the Pandas DataFrame is its indexing capability that also works using time-based entities, such as dates and times. We have already created the index above, so let's put it to use."
   ]
  },
  {
   "cell_type": "code",
   "execution_count": 16,
   "metadata": {},
   "outputs": [
    {
     "data": {
      "text/html": [
       "<div>\n",
       "<style scoped>\n",
       "    .dataframe tbody tr th:only-of-type {\n",
       "        vertical-align: middle;\n",
       "    }\n",
       "\n",
       "    .dataframe tbody tr th {\n",
       "        vertical-align: top;\n",
       "    }\n",
       "\n",
       "    .dataframe thead th {\n",
       "        text-align: right;\n",
       "    }\n",
       "</style>\n",
       "<table border=\"1\" class=\"dataframe\">\n",
       "  <thead>\n",
       "    <tr style=\"text-align: right;\">\n",
       "      <th></th>\n",
       "      <th>In</th>\n",
       "      <th>Out</th>\n",
       "      <th>Name</th>\n",
       "    </tr>\n",
       "    <tr>\n",
       "      <th>Timestamp</th>\n",
       "      <th></th>\n",
       "      <th></th>\n",
       "      <th></th>\n",
       "    </tr>\n",
       "  </thead>\n",
       "  <tbody>\n",
       "    <tr>\n",
       "      <th>2021-06-30 23:05:00</th>\n",
       "      <td>6</td>\n",
       "      <td>0</td>\n",
       "      <td>Ost-Nord total</td>\n",
       "    </tr>\n",
       "    <tr>\n",
       "      <th>2021-06-30 23:05:00</th>\n",
       "      <td>13</td>\n",
       "      <td>9</td>\n",
       "      <td>Ost-SBB total</td>\n",
       "    </tr>\n",
       "    <tr>\n",
       "      <th>2021-06-30 23:05:00</th>\n",
       "      <td>6</td>\n",
       "      <td>3</td>\n",
       "      <td>Ost-Süd total</td>\n",
       "    </tr>\n",
       "    <tr>\n",
       "      <th>2021-06-30 23:05:00</th>\n",
       "      <td>3</td>\n",
       "      <td>1</td>\n",
       "      <td>Ost-VBZ Total</td>\n",
       "    </tr>\n",
       "    <tr>\n",
       "      <th>2021-06-30 23:05:00</th>\n",
       "      <td>5</td>\n",
       "      <td>0</td>\n",
       "      <td>West-Nord total</td>\n",
       "    </tr>\n",
       "    <tr>\n",
       "      <th>2021-06-30 23:05:00</th>\n",
       "      <td>12</td>\n",
       "      <td>11</td>\n",
       "      <td>West-SBB total</td>\n",
       "    </tr>\n",
       "    <tr>\n",
       "      <th>2021-06-30 23:05:00</th>\n",
       "      <td>2</td>\n",
       "      <td>4</td>\n",
       "      <td>West-Süd total</td>\n",
       "    </tr>\n",
       "    <tr>\n",
       "      <th>2021-06-30 23:05:00</th>\n",
       "      <td>4</td>\n",
       "      <td>10</td>\n",
       "      <td>West-VBZ total</td>\n",
       "    </tr>\n",
       "  </tbody>\n",
       "</table>\n",
       "</div>"
      ],
      "text/plain": [
       "                     In  Out             Name\n",
       "Timestamp                                    \n",
       "2021-06-30 23:05:00   6    0   Ost-Nord total\n",
       "2021-06-30 23:05:00  13    9    Ost-SBB total\n",
       "2021-06-30 23:05:00   6    3    Ost-Süd total\n",
       "2021-06-30 23:05:00   3    1    Ost-VBZ Total\n",
       "2021-06-30 23:05:00   5    0  West-Nord total\n",
       "2021-06-30 23:05:00  12   11   West-SBB total\n",
       "2021-06-30 23:05:00   2    4   West-Süd total\n",
       "2021-06-30 23:05:00   4   10   West-VBZ total"
      ]
     },
     "execution_count": 16,
     "metadata": {},
     "output_type": "execute_result"
    }
   ],
   "source": [
    "data2betested.loc[\"2021-06-30 23:05:00\"]\n",
    "#data2betested.loc[\"2021-12-04\":\"2021-12-06\"]\n"
   ]
  },
  {
   "cell_type": "markdown",
   "metadata": {},
   "source": [
    "### Aggegiere Werte nach Zeitausschnitten mit RESAMPLE()\n",
    "\n",
    "Mit den Funktionen zur Zeit kann einfach zwischen Stunden, Tagen, Monaten, etc. gewechselt und aggregiert werden.\n",
    "\n",
    "Wenn ich nicht explizit groupby() für die Kategorien (hier die Zählorte) verwende, summiert resample() einfach nur die numerischen Werte, also alle Zählwerte, egal bei welchem Ort.\n"
   ]
  },
  {
   "cell_type": "code",
   "execution_count": 17,
   "metadata": {},
   "outputs": [
    {
     "data": {
      "text/html": [
       "<div>\n",
       "<style scoped>\n",
       "    .dataframe tbody tr th:only-of-type {\n",
       "        vertical-align: middle;\n",
       "    }\n",
       "\n",
       "    .dataframe tbody tr th {\n",
       "        vertical-align: top;\n",
       "    }\n",
       "\n",
       "    .dataframe thead th {\n",
       "        text-align: right;\n",
       "    }\n",
       "</style>\n",
       "<table border=\"1\" class=\"dataframe\">\n",
       "  <thead>\n",
       "    <tr style=\"text-align: right;\">\n",
       "      <th></th>\n",
       "      <th>Name</th>\n",
       "      <th>In</th>\n",
       "      <th>Out</th>\n",
       "    </tr>\n",
       "    <tr>\n",
       "      <th>Timestamp</th>\n",
       "      <th></th>\n",
       "      <th></th>\n",
       "      <th></th>\n",
       "    </tr>\n",
       "  </thead>\n",
       "  <tbody>\n",
       "    <tr>\n",
       "      <th>2021-01-31</th>\n",
       "      <td>Ost-Nord total</td>\n",
       "      <td>27859</td>\n",
       "      <td>43073</td>\n",
       "    </tr>\n",
       "    <tr>\n",
       "      <th>2021-02-28</th>\n",
       "      <td>Ost-Nord total</td>\n",
       "      <td>30064</td>\n",
       "      <td>42679</td>\n",
       "    </tr>\n",
       "    <tr>\n",
       "      <th>2021-03-31</th>\n",
       "      <td>Ost-Nord total</td>\n",
       "      <td>42508</td>\n",
       "      <td>57257</td>\n",
       "    </tr>\n",
       "    <tr>\n",
       "      <th>2021-04-30</th>\n",
       "      <td>Ost-Nord total</td>\n",
       "      <td>46931</td>\n",
       "      <td>61949</td>\n",
       "    </tr>\n",
       "    <tr>\n",
       "      <th>2021-05-31</th>\n",
       "      <td>Ost-Nord total</td>\n",
       "      <td>48509</td>\n",
       "      <td>65014</td>\n",
       "    </tr>\n",
       "    <tr>\n",
       "      <th>2021-06-30</th>\n",
       "      <td>Ost-Nord total</td>\n",
       "      <td>60170</td>\n",
       "      <td>80258</td>\n",
       "    </tr>\n",
       "    <tr>\n",
       "      <th>2021-07-31</th>\n",
       "      <td>Ost-Nord total</td>\n",
       "      <td>54166</td>\n",
       "      <td>77585</td>\n",
       "    </tr>\n",
       "    <tr>\n",
       "      <th>2021-08-31</th>\n",
       "      <td>Ost-Nord total</td>\n",
       "      <td>53978</td>\n",
       "      <td>75458</td>\n",
       "    </tr>\n",
       "    <tr>\n",
       "      <th>2021-09-30</th>\n",
       "      <td>Ost-Nord total</td>\n",
       "      <td>61147</td>\n",
       "      <td>88986</td>\n",
       "    </tr>\n",
       "    <tr>\n",
       "      <th>2021-10-31</th>\n",
       "      <td>Ost-Nord total</td>\n",
       "      <td>56545</td>\n",
       "      <td>89523</td>\n",
       "    </tr>\n",
       "    <tr>\n",
       "      <th>2021-11-30</th>\n",
       "      <td>Ost-Nord total</td>\n",
       "      <td>49022</td>\n",
       "      <td>82471</td>\n",
       "    </tr>\n",
       "    <tr>\n",
       "      <th>2021-12-31</th>\n",
       "      <td>Ost-Nord total</td>\n",
       "      <td>37189</td>\n",
       "      <td>65022</td>\n",
       "    </tr>\n",
       "    <tr>\n",
       "      <th>2022-01-31</th>\n",
       "      <td>Ost-Nord total</td>\n",
       "      <td>1360</td>\n",
       "      <td>2178</td>\n",
       "    </tr>\n",
       "  </tbody>\n",
       "</table>\n",
       "</div>"
      ],
      "text/plain": [
       "                      Name     In    Out\n",
       "Timestamp                               \n",
       "2021-01-31  Ost-Nord total  27859  43073\n",
       "2021-02-28  Ost-Nord total  30064  42679\n",
       "2021-03-31  Ost-Nord total  42508  57257\n",
       "2021-04-30  Ost-Nord total  46931  61949\n",
       "2021-05-31  Ost-Nord total  48509  65014\n",
       "2021-06-30  Ost-Nord total  60170  80258\n",
       "2021-07-31  Ost-Nord total  54166  77585\n",
       "2021-08-31  Ost-Nord total  53978  75458\n",
       "2021-09-30  Ost-Nord total  61147  88986\n",
       "2021-10-31  Ost-Nord total  56545  89523\n",
       "2021-11-30  Ost-Nord total  49022  82471\n",
       "2021-12-31  Ost-Nord total  37189  65022\n",
       "2022-01-31  Ost-Nord total   1360   2178"
      ]
     },
     "execution_count": 17,
     "metadata": {},
     "output_type": "execute_result"
    }
   ],
   "source": [
    "\n",
    "bsp_sum = data2betested.groupby('Name').resample(\"M\").sum().head(13)\n",
    "#Um die DataFrameGroup zurück zu setzen verwende ich reset_index()\n",
    "bsp_sum  = bsp_sum.reset_index()\n",
    "#Um die Zeitangabe wieder als Index zu verwenden muss ich nochmals set_index() anwenden\n",
    "bsp_sum  = bsp_sum.set_index('Timestamp')\n",
    "bsp_sum "
   ]
  },
  {
   "cell_type": "code",
   "execution_count": 18,
   "metadata": {},
   "outputs": [
    {
     "data": {
      "text/html": [
       "<div>\n",
       "<style scoped>\n",
       "    .dataframe tbody tr th:only-of-type {\n",
       "        vertical-align: middle;\n",
       "    }\n",
       "\n",
       "    .dataframe tbody tr th {\n",
       "        vertical-align: top;\n",
       "    }\n",
       "\n",
       "    .dataframe thead th {\n",
       "        text-align: right;\n",
       "    }\n",
       "</style>\n",
       "<table border=\"1\" class=\"dataframe\">\n",
       "  <thead>\n",
       "    <tr style=\"text-align: right;\">\n",
       "      <th></th>\n",
       "      <th>In</th>\n",
       "      <th>Out</th>\n",
       "    </tr>\n",
       "    <tr>\n",
       "      <th>Timestamp</th>\n",
       "      <th></th>\n",
       "      <th></th>\n",
       "    </tr>\n",
       "  </thead>\n",
       "  <tbody>\n",
       "    <tr>\n",
       "      <th>2021-01-03</th>\n",
       "      <td>29814</td>\n",
       "      <td>25225</td>\n",
       "    </tr>\n",
       "    <tr>\n",
       "      <th>2021-01-10</th>\n",
       "      <td>133245</td>\n",
       "      <td>106920</td>\n",
       "    </tr>\n",
       "    <tr>\n",
       "      <th>2021-01-17</th>\n",
       "      <td>148006</td>\n",
       "      <td>125984</td>\n",
       "    </tr>\n",
       "    <tr>\n",
       "      <th>2021-01-24</th>\n",
       "      <td>136580</td>\n",
       "      <td>114336</td>\n",
       "    </tr>\n",
       "    <tr>\n",
       "      <th>2021-01-31</th>\n",
       "      <td>131532</td>\n",
       "      <td>106527</td>\n",
       "    </tr>\n",
       "  </tbody>\n",
       "</table>\n",
       "</div>"
      ],
      "text/plain": [
       "                In     Out\n",
       "Timestamp                 \n",
       "2021-01-03   29814   25225\n",
       "2021-01-10  133245  106920\n",
       "2021-01-17  148006  125984\n",
       "2021-01-24  136580  114336\n",
       "2021-01-31  131532  106527"
      ]
     },
     "execution_count": 18,
     "metadata": {},
     "output_type": "execute_result"
    }
   ],
   "source": [
    "# first we create the sums per week\n",
    "weekly_sums = data2betested.resample(\"W\").sum()\n",
    "# then we generate the weekly means for each quarter\n",
    "quarterly_sums = data2betested.resample(\"Q\").sum()\n",
    "# for readability we'll revert the values back to integers\n",
    "weekly_sums.dropna().astype(int).head(5)"
   ]
  },
  {
   "cell_type": "markdown",
   "metadata": {
    "tags": []
   },
   "source": [
    "### Visualisierungen nach Zeitausschnitten"
   ]
  },
  {
   "cell_type": "markdown",
   "metadata": {},
   "source": [
    "Liniendiagramm \n",
    "[Link zur Doku](https://altair-viz.github.io/gallery/multiline_highlight.html)"
   ]
  },
  {
   "cell_type": "code",
   "execution_count": 19,
   "metadata": {},
   "outputs": [
    {
     "data": {
      "text/html": [
       "<div>\n",
       "<style scoped>\n",
       "    .dataframe tbody tr th:only-of-type {\n",
       "        vertical-align: middle;\n",
       "    }\n",
       "\n",
       "    .dataframe tbody tr th {\n",
       "        vertical-align: top;\n",
       "    }\n",
       "\n",
       "    .dataframe thead th {\n",
       "        text-align: right;\n",
       "    }\n",
       "</style>\n",
       "<table border=\"1\" class=\"dataframe\">\n",
       "  <thead>\n",
       "    <tr style=\"text-align: right;\">\n",
       "      <th></th>\n",
       "      <th>In</th>\n",
       "      <th>Out</th>\n",
       "    </tr>\n",
       "    <tr>\n",
       "      <th>Timestamp</th>\n",
       "      <th></th>\n",
       "      <th></th>\n",
       "    </tr>\n",
       "  </thead>\n",
       "  <tbody>\n",
       "    <tr>\n",
       "      <th>2021-10-10</th>\n",
       "      <td>226372</td>\n",
       "      <td>193536</td>\n",
       "    </tr>\n",
       "    <tr>\n",
       "      <th>2021-10-17</th>\n",
       "      <td>199191</td>\n",
       "      <td>161766</td>\n",
       "    </tr>\n",
       "    <tr>\n",
       "      <th>2021-10-24</th>\n",
       "      <td>212025</td>\n",
       "      <td>174148</td>\n",
       "    </tr>\n",
       "    <tr>\n",
       "      <th>2021-10-31</th>\n",
       "      <td>231163</td>\n",
       "      <td>199954</td>\n",
       "    </tr>\n",
       "    <tr>\n",
       "      <th>2021-11-07</th>\n",
       "      <td>220905</td>\n",
       "      <td>190681</td>\n",
       "    </tr>\n",
       "    <tr>\n",
       "      <th>2021-11-14</th>\n",
       "      <td>215369</td>\n",
       "      <td>185536</td>\n",
       "    </tr>\n",
       "    <tr>\n",
       "      <th>2021-11-21</th>\n",
       "      <td>216899</td>\n",
       "      <td>187518</td>\n",
       "    </tr>\n",
       "    <tr>\n",
       "      <th>2021-11-28</th>\n",
       "      <td>215294</td>\n",
       "      <td>184358</td>\n",
       "    </tr>\n",
       "    <tr>\n",
       "      <th>2021-12-05</th>\n",
       "      <td>208231</td>\n",
       "      <td>178654</td>\n",
       "    </tr>\n",
       "  </tbody>\n",
       "</table>\n",
       "</div>"
      ],
      "text/plain": [
       "                In     Out\n",
       "Timestamp                 \n",
       "2021-10-10  226372  193536\n",
       "2021-10-17  199191  161766\n",
       "2021-10-24  212025  174148\n",
       "2021-10-31  231163  199954\n",
       "2021-11-07  220905  190681\n",
       "2021-11-14  215369  185536\n",
       "2021-11-21  216899  187518\n",
       "2021-11-28  215294  184358\n",
       "2021-12-05  208231  178654"
      ]
     },
     "execution_count": 19,
     "metadata": {},
     "output_type": "execute_result"
    }
   ],
   "source": [
    "weekly_sums.dtypes\n",
    "weekly_sums.loc[\"2021-10-04\":\"2021-12-06\"]\n",
    "#weekly_sums.info()"
   ]
  },
  {
   "cell_type": "code",
   "execution_count": 20,
   "metadata": {},
   "outputs": [
    {
     "data": {
      "text/html": [
       "<div>\n",
       "<style scoped>\n",
       "    .dataframe tbody tr th:only-of-type {\n",
       "        vertical-align: middle;\n",
       "    }\n",
       "\n",
       "    .dataframe tbody tr th {\n",
       "        vertical-align: top;\n",
       "    }\n",
       "\n",
       "    .dataframe thead th {\n",
       "        text-align: right;\n",
       "    }\n",
       "</style>\n",
       "<table border=\"1\" class=\"dataframe\">\n",
       "  <thead>\n",
       "    <tr style=\"text-align: right;\">\n",
       "      <th></th>\n",
       "      <th>Timestamp</th>\n",
       "      <th>variable</th>\n",
       "      <th>value</th>\n",
       "    </tr>\n",
       "  </thead>\n",
       "  <tbody>\n",
       "    <tr>\n",
       "      <th>0</th>\n",
       "      <td>2021-01-03</td>\n",
       "      <td>In</td>\n",
       "      <td>29814</td>\n",
       "    </tr>\n",
       "    <tr>\n",
       "      <th>1</th>\n",
       "      <td>2021-01-10</td>\n",
       "      <td>In</td>\n",
       "      <td>133245</td>\n",
       "    </tr>\n",
       "    <tr>\n",
       "      <th>2</th>\n",
       "      <td>2021-01-17</td>\n",
       "      <td>In</td>\n",
       "      <td>148006</td>\n",
       "    </tr>\n",
       "    <tr>\n",
       "      <th>3</th>\n",
       "      <td>2021-01-24</td>\n",
       "      <td>In</td>\n",
       "      <td>136580</td>\n",
       "    </tr>\n",
       "    <tr>\n",
       "      <th>4</th>\n",
       "      <td>2021-01-31</td>\n",
       "      <td>In</td>\n",
       "      <td>131532</td>\n",
       "    </tr>\n",
       "    <tr>\n",
       "      <th>...</th>\n",
       "      <td>...</td>\n",
       "      <td>...</td>\n",
       "      <td>...</td>\n",
       "    </tr>\n",
       "    <tr>\n",
       "      <th>101</th>\n",
       "      <td>2021-12-05</td>\n",
       "      <td>Out</td>\n",
       "      <td>178654</td>\n",
       "    </tr>\n",
       "    <tr>\n",
       "      <th>102</th>\n",
       "      <td>2021-12-12</td>\n",
       "      <td>Out</td>\n",
       "      <td>167535</td>\n",
       "    </tr>\n",
       "    <tr>\n",
       "      <th>103</th>\n",
       "      <td>2021-12-19</td>\n",
       "      <td>Out</td>\n",
       "      <td>170294</td>\n",
       "    </tr>\n",
       "    <tr>\n",
       "      <th>104</th>\n",
       "      <td>2021-12-26</td>\n",
       "      <td>Out</td>\n",
       "      <td>105752</td>\n",
       "    </tr>\n",
       "    <tr>\n",
       "      <th>105</th>\n",
       "      <td>2022-01-02</td>\n",
       "      <td>Out</td>\n",
       "      <td>81683</td>\n",
       "    </tr>\n",
       "  </tbody>\n",
       "</table>\n",
       "<p>106 rows × 3 columns</p>\n",
       "</div>"
      ],
      "text/plain": [
       "     Timestamp variable   value\n",
       "0   2021-01-03       In   29814\n",
       "1   2021-01-10       In  133245\n",
       "2   2021-01-17       In  148006\n",
       "3   2021-01-24       In  136580\n",
       "4   2021-01-31       In  131532\n",
       "..         ...      ...     ...\n",
       "101 2021-12-05      Out  178654\n",
       "102 2021-12-12      Out  167535\n",
       "103 2021-12-19      Out  170294\n",
       "104 2021-12-26      Out  105752\n",
       "105 2022-01-02      Out   81683\n",
       "\n",
       "[106 rows x 3 columns]"
      ]
     },
     "execution_count": 20,
     "metadata": {},
     "output_type": "execute_result"
    }
   ],
   "source": [
    "test = weekly_sums.reset_index().melt(\"Timestamp\")\n",
    "test"
   ]
  },
  {
   "cell_type": "code",
   "execution_count": 21,
   "metadata": {},
   "outputs": [
    {
     "data": {
      "text/html": [
       "\n",
       "<div id=\"altair-viz-d00c661b86794e8f88d8c4b243ebc952\"></div>\n",
       "<script type=\"text/javascript\">\n",
       "  (function(spec, embedOpt){\n",
       "    let outputDiv = document.currentScript.previousElementSibling;\n",
       "    if (outputDiv.id !== \"altair-viz-d00c661b86794e8f88d8c4b243ebc952\") {\n",
       "      outputDiv = document.getElementById(\"altair-viz-d00c661b86794e8f88d8c4b243ebc952\");\n",
       "    }\n",
       "    const paths = {\n",
       "      \"vega\": \"https://cdn.jsdelivr.net/npm//vega@5?noext\",\n",
       "      \"vega-lib\": \"https://cdn.jsdelivr.net/npm//vega-lib?noext\",\n",
       "      \"vega-lite\": \"https://cdn.jsdelivr.net/npm//vega-lite@4.8.1?noext\",\n",
       "      \"vega-embed\": \"https://cdn.jsdelivr.net/npm//vega-embed@6?noext\",\n",
       "    };\n",
       "\n",
       "    function loadScript(lib) {\n",
       "      return new Promise(function(resolve, reject) {\n",
       "        var s = document.createElement('script');\n",
       "        s.src = paths[lib];\n",
       "        s.async = true;\n",
       "        s.onload = () => resolve(paths[lib]);\n",
       "        s.onerror = () => reject(`Error loading script: ${paths[lib]}`);\n",
       "        document.getElementsByTagName(\"head\")[0].appendChild(s);\n",
       "      });\n",
       "    }\n",
       "\n",
       "    function showError(err) {\n",
       "      outputDiv.innerHTML = `<div class=\"error\" style=\"color:red;\">${err}</div>`;\n",
       "      throw err;\n",
       "    }\n",
       "\n",
       "    function displayChart(vegaEmbed) {\n",
       "      vegaEmbed(outputDiv, spec, embedOpt)\n",
       "        .catch(err => showError(`Javascript Error: ${err.message}<br>This usually means there's a typo in your chart specification. See the javascript console for the full traceback.`));\n",
       "    }\n",
       "\n",
       "    if(typeof define === \"function\" && define.amd) {\n",
       "      requirejs.config({paths});\n",
       "      require([\"vega-embed\"], displayChart, err => showError(`Error loading script: ${err.message}`));\n",
       "    } else if (typeof vegaEmbed === \"function\") {\n",
       "      displayChart(vegaEmbed);\n",
       "    } else {\n",
       "      loadScript(\"vega\")\n",
       "        .then(() => loadScript(\"vega-lite\"))\n",
       "        .then(() => loadScript(\"vega-embed\"))\n",
       "        .catch(showError)\n",
       "        .then(() => displayChart(vegaEmbed));\n",
       "    }\n",
       "  })({\"config\": {\"view\": {\"continuousWidth\": 400, \"continuousHeight\": 300}}, \"data\": {\"name\": \"data-80134a4c0d9e5f9277be3416d7e451bd\"}, \"mark\": {\"type\": \"circle\", \"size\": 40}, \"encoding\": {\"color\": {\"type\": \"nominal\", \"field\": \"variable\"}, \"tooltip\": [{\"type\": \"nominal\", \"field\": \"variable\"}, {\"type\": \"quantitative\", \"field\": \"value\"}], \"x\": {\"type\": \"temporal\", \"field\": \"Timestamp\"}, \"y\": {\"type\": \"quantitative\", \"field\": \"value\"}}, \"height\": 400, \"selection\": {\"selector001\": {\"type\": \"interval\", \"bind\": \"scales\", \"encodings\": [\"x\", \"y\"]}}, \"width\": 800, \"$schema\": \"https://vega.github.io/schema/vega-lite/v4.8.1.json\", \"datasets\": {\"data-80134a4c0d9e5f9277be3416d7e451bd\": [{\"Timestamp\": \"2021-01-03T00:00:00\", \"variable\": \"In\", \"value\": 29814}, {\"Timestamp\": \"2021-01-10T00:00:00\", \"variable\": \"In\", \"value\": 133245}, {\"Timestamp\": \"2021-01-17T00:00:00\", \"variable\": \"In\", \"value\": 148006}, {\"Timestamp\": \"2021-01-24T00:00:00\", \"variable\": \"In\", \"value\": 136580}, {\"Timestamp\": \"2021-01-31T00:00:00\", \"variable\": \"In\", \"value\": 131532}, {\"Timestamp\": \"2021-02-07T00:00:00\", \"variable\": \"In\", \"value\": 135773}, {\"Timestamp\": \"2021-02-14T00:00:00\", \"variable\": \"In\", \"value\": 131522}, {\"Timestamp\": \"2021-02-21T00:00:00\", \"variable\": \"In\", \"value\": 132835}, {\"Timestamp\": \"2021-02-28T00:00:00\", \"variable\": \"In\", \"value\": 137287}, {\"Timestamp\": \"2021-03-07T00:00:00\", \"variable\": \"In\", \"value\": 150064}, {\"Timestamp\": \"2021-03-14T00:00:00\", \"variable\": \"In\", \"value\": 151054}, {\"Timestamp\": \"2021-03-21T00:00:00\", \"variable\": \"In\", \"value\": 148504}, {\"Timestamp\": \"2021-03-28T00:00:00\", \"variable\": \"In\", \"value\": 162966}, {\"Timestamp\": \"2021-04-04T00:00:00\", \"variable\": \"In\", \"value\": 150309}, {\"Timestamp\": \"2021-04-11T00:00:00\", \"variable\": \"In\", \"value\": 148134}, {\"Timestamp\": \"2021-04-18T00:00:00\", \"variable\": \"In\", \"value\": 160533}, {\"Timestamp\": \"2021-04-25T00:00:00\", \"variable\": \"In\", \"value\": 179395}, {\"Timestamp\": \"2021-05-02T00:00:00\", \"variable\": \"In\", \"value\": 149759}, {\"Timestamp\": \"2021-05-09T00:00:00\", \"variable\": \"In\", \"value\": 167021}, {\"Timestamp\": \"2021-05-16T00:00:00\", \"variable\": \"In\", \"value\": 147043}, {\"Timestamp\": \"2021-05-23T00:00:00\", \"variable\": \"In\", \"value\": 171989}, {\"Timestamp\": \"2021-05-30T00:00:00\", \"variable\": \"In\", \"value\": 175571}, {\"Timestamp\": \"2021-06-06T00:00:00\", \"variable\": \"In\", \"value\": 189284}, {\"Timestamp\": \"2021-06-13T00:00:00\", \"variable\": \"In\", \"value\": 195634}, {\"Timestamp\": \"2021-06-20T00:00:00\", \"variable\": \"In\", \"value\": 198409}, {\"Timestamp\": \"2021-06-27T00:00:00\", \"variable\": \"In\", \"value\": 189355}, {\"Timestamp\": \"2021-07-04T00:00:00\", \"variable\": \"In\", \"value\": 198151}, {\"Timestamp\": \"2021-07-11T00:00:00\", \"variable\": \"In\", \"value\": 197196}, {\"Timestamp\": \"2021-07-18T00:00:00\", \"variable\": \"In\", \"value\": 188041}, {\"Timestamp\": \"2021-07-25T00:00:00\", \"variable\": \"In\", \"value\": 174631}, {\"Timestamp\": \"2021-08-01T00:00:00\", \"variable\": \"In\", \"value\": 155280}, {\"Timestamp\": \"2021-08-08T00:00:00\", \"variable\": \"In\", \"value\": 155152}, {\"Timestamp\": \"2021-08-15T00:00:00\", \"variable\": \"In\", \"value\": 171745}, {\"Timestamp\": \"2021-08-22T00:00:00\", \"variable\": \"In\", \"value\": 191627}, {\"Timestamp\": \"2021-08-29T00:00:00\", \"variable\": \"In\", \"value\": 198653}, {\"Timestamp\": \"2021-09-05T00:00:00\", \"variable\": \"In\", \"value\": 209291}, {\"Timestamp\": \"2021-09-12T00:00:00\", \"variable\": \"In\", \"value\": 217315}, {\"Timestamp\": \"2021-09-19T00:00:00\", \"variable\": \"In\", \"value\": 202375}, {\"Timestamp\": \"2021-09-26T00:00:00\", \"variable\": \"In\", \"value\": 223673}, {\"Timestamp\": \"2021-10-03T00:00:00\", \"variable\": \"In\", \"value\": 233903}, {\"Timestamp\": \"2021-10-10T00:00:00\", \"variable\": \"In\", \"value\": 226372}, {\"Timestamp\": \"2021-10-17T00:00:00\", \"variable\": \"In\", \"value\": 199191}, {\"Timestamp\": \"2021-10-24T00:00:00\", \"variable\": \"In\", \"value\": 212025}, {\"Timestamp\": \"2021-10-31T00:00:00\", \"variable\": \"In\", \"value\": 231163}, {\"Timestamp\": \"2021-11-07T00:00:00\", \"variable\": \"In\", \"value\": 220905}, {\"Timestamp\": \"2021-11-14T00:00:00\", \"variable\": \"In\", \"value\": 215369}, {\"Timestamp\": \"2021-11-21T00:00:00\", \"variable\": \"In\", \"value\": 216899}, {\"Timestamp\": \"2021-11-28T00:00:00\", \"variable\": \"In\", \"value\": 215294}, {\"Timestamp\": \"2021-12-05T00:00:00\", \"variable\": \"In\", \"value\": 208231}, {\"Timestamp\": \"2021-12-12T00:00:00\", \"variable\": \"In\", \"value\": 196232}, {\"Timestamp\": \"2021-12-19T00:00:00\", \"variable\": \"In\", \"value\": 198589}, {\"Timestamp\": \"2021-12-26T00:00:00\", \"variable\": \"In\", \"value\": 132411}, {\"Timestamp\": \"2022-01-02T00:00:00\", \"variable\": \"In\", \"value\": 98986}, {\"Timestamp\": \"2021-01-03T00:00:00\", \"variable\": \"Out\", \"value\": 25225}, {\"Timestamp\": \"2021-01-10T00:00:00\", \"variable\": \"Out\", \"value\": 106920}, {\"Timestamp\": \"2021-01-17T00:00:00\", \"variable\": \"Out\", \"value\": 125984}, {\"Timestamp\": \"2021-01-24T00:00:00\", \"variable\": \"Out\", \"value\": 114336}, {\"Timestamp\": \"2021-01-31T00:00:00\", \"variable\": \"Out\", \"value\": 106527}, {\"Timestamp\": \"2021-02-07T00:00:00\", \"variable\": \"Out\", \"value\": 110230}, {\"Timestamp\": \"2021-02-14T00:00:00\", \"variable\": \"Out\", \"value\": 107036}, {\"Timestamp\": \"2021-02-21T00:00:00\", \"variable\": \"Out\", \"value\": 108512}, {\"Timestamp\": \"2021-02-28T00:00:00\", \"variable\": \"Out\", \"value\": 110673}, {\"Timestamp\": \"2021-03-07T00:00:00\", \"variable\": \"Out\", \"value\": 124282}, {\"Timestamp\": \"2021-03-14T00:00:00\", \"variable\": \"Out\", \"value\": 124055}, {\"Timestamp\": \"2021-03-21T00:00:00\", \"variable\": \"Out\", \"value\": 121032}, {\"Timestamp\": \"2021-03-28T00:00:00\", \"variable\": \"Out\", \"value\": 134766}, {\"Timestamp\": \"2021-04-04T00:00:00\", \"variable\": \"Out\", \"value\": 124746}, {\"Timestamp\": \"2021-04-11T00:00:00\", \"variable\": \"Out\", \"value\": 122980}, {\"Timestamp\": \"2021-04-18T00:00:00\", \"variable\": \"Out\", \"value\": 131634}, {\"Timestamp\": \"2021-04-25T00:00:00\", \"variable\": \"Out\", \"value\": 149189}, {\"Timestamp\": \"2021-05-02T00:00:00\", \"variable\": \"Out\", \"value\": 119171}, {\"Timestamp\": \"2021-05-09T00:00:00\", \"variable\": \"Out\", \"value\": 136813}, {\"Timestamp\": \"2021-05-16T00:00:00\", \"variable\": \"Out\", \"value\": 120795}, {\"Timestamp\": \"2021-05-23T00:00:00\", \"variable\": \"Out\", \"value\": 141571}, {\"Timestamp\": \"2021-05-30T00:00:00\", \"variable\": \"Out\", \"value\": 147098}, {\"Timestamp\": \"2021-06-06T00:00:00\", \"variable\": \"Out\", \"value\": 157265}, {\"Timestamp\": \"2021-06-13T00:00:00\", \"variable\": \"Out\", \"value\": 163281}, {\"Timestamp\": \"2021-06-20T00:00:00\", \"variable\": \"Out\", \"value\": 165011}, {\"Timestamp\": \"2021-06-27T00:00:00\", \"variable\": \"Out\", \"value\": 153273}, {\"Timestamp\": \"2021-07-04T00:00:00\", \"variable\": \"Out\", \"value\": 164077}, {\"Timestamp\": \"2021-07-11T00:00:00\", \"variable\": \"Out\", \"value\": 162206}, {\"Timestamp\": \"2021-07-18T00:00:00\", \"variable\": \"Out\", \"value\": 154196}, {\"Timestamp\": \"2021-07-25T00:00:00\", \"variable\": \"Out\", \"value\": 139997}, {\"Timestamp\": \"2021-08-01T00:00:00\", \"variable\": \"Out\", \"value\": 123922}, {\"Timestamp\": \"2021-08-08T00:00:00\", \"variable\": \"Out\", \"value\": 125854}, {\"Timestamp\": \"2021-08-15T00:00:00\", \"variable\": \"Out\", \"value\": 141475}, {\"Timestamp\": \"2021-08-22T00:00:00\", \"variable\": \"Out\", \"value\": 157601}, {\"Timestamp\": \"2021-08-29T00:00:00\", \"variable\": \"Out\", \"value\": 165929}, {\"Timestamp\": \"2021-09-05T00:00:00\", \"variable\": \"Out\", \"value\": 177638}, {\"Timestamp\": \"2021-09-12T00:00:00\", \"variable\": \"Out\", \"value\": 185066}, {\"Timestamp\": \"2021-09-19T00:00:00\", \"variable\": \"Out\", \"value\": 173102}, {\"Timestamp\": \"2021-09-26T00:00:00\", \"variable\": \"Out\", \"value\": 193747}, {\"Timestamp\": \"2021-10-03T00:00:00\", \"variable\": \"Out\", \"value\": 203290}, {\"Timestamp\": \"2021-10-10T00:00:00\", \"variable\": \"Out\", \"value\": 193536}, {\"Timestamp\": \"2021-10-17T00:00:00\", \"variable\": \"Out\", \"value\": 161766}, {\"Timestamp\": \"2021-10-24T00:00:00\", \"variable\": \"Out\", \"value\": 174148}, {\"Timestamp\": \"2021-10-31T00:00:00\", \"variable\": \"Out\", \"value\": 199954}, {\"Timestamp\": \"2021-11-07T00:00:00\", \"variable\": \"Out\", \"value\": 190681}, {\"Timestamp\": \"2021-11-14T00:00:00\", \"variable\": \"Out\", \"value\": 185536}, {\"Timestamp\": \"2021-11-21T00:00:00\", \"variable\": \"Out\", \"value\": 187518}, {\"Timestamp\": \"2021-11-28T00:00:00\", \"variable\": \"Out\", \"value\": 184358}, {\"Timestamp\": \"2021-12-05T00:00:00\", \"variable\": \"Out\", \"value\": 178654}, {\"Timestamp\": \"2021-12-12T00:00:00\", \"variable\": \"Out\", \"value\": 167535}, {\"Timestamp\": \"2021-12-19T00:00:00\", \"variable\": \"Out\", \"value\": 170294}, {\"Timestamp\": \"2021-12-26T00:00:00\", \"variable\": \"Out\", \"value\": 105752}, {\"Timestamp\": \"2022-01-02T00:00:00\", \"variable\": \"Out\", \"value\": 81683}]}}, {\"mode\": \"vega-lite\"});\n",
       "</script>"
      ],
      "text/plain": [
       "alt.Chart(...)"
      ]
     },
     "execution_count": 21,
     "metadata": {},
     "output_type": "execute_result"
    }
   ],
   "source": [
    "alt.Chart(weekly_sums.reset_index().melt(\"Timestamp\")).mark_circle(size=40).encode(\n",
    "    x='Timestamp',\n",
    "    y='value',\n",
    "    color = 'variable',\n",
    "    #color=alt.Color('value', scale=alt.Scale(scheme='blues')),\n",
    "    tooltip=['variable','value']\n",
    ").interactive().properties(width=800, height=400)"
   ]
  },
  {
   "cell_type": "code",
   "execution_count": 22,
   "metadata": {},
   "outputs": [
    {
     "data": {
      "text/html": [
       "\n",
       "<div id=\"altair-viz-6f94bc6bf5a04dd6b555ded6218cdda8\"></div>\n",
       "<script type=\"text/javascript\">\n",
       "  (function(spec, embedOpt){\n",
       "    let outputDiv = document.currentScript.previousElementSibling;\n",
       "    if (outputDiv.id !== \"altair-viz-6f94bc6bf5a04dd6b555ded6218cdda8\") {\n",
       "      outputDiv = document.getElementById(\"altair-viz-6f94bc6bf5a04dd6b555ded6218cdda8\");\n",
       "    }\n",
       "    const paths = {\n",
       "      \"vega\": \"https://cdn.jsdelivr.net/npm//vega@5?noext\",\n",
       "      \"vega-lib\": \"https://cdn.jsdelivr.net/npm//vega-lib?noext\",\n",
       "      \"vega-lite\": \"https://cdn.jsdelivr.net/npm//vega-lite@4.8.1?noext\",\n",
       "      \"vega-embed\": \"https://cdn.jsdelivr.net/npm//vega-embed@6?noext\",\n",
       "    };\n",
       "\n",
       "    function loadScript(lib) {\n",
       "      return new Promise(function(resolve, reject) {\n",
       "        var s = document.createElement('script');\n",
       "        s.src = paths[lib];\n",
       "        s.async = true;\n",
       "        s.onload = () => resolve(paths[lib]);\n",
       "        s.onerror = () => reject(`Error loading script: ${paths[lib]}`);\n",
       "        document.getElementsByTagName(\"head\")[0].appendChild(s);\n",
       "      });\n",
       "    }\n",
       "\n",
       "    function showError(err) {\n",
       "      outputDiv.innerHTML = `<div class=\"error\" style=\"color:red;\">${err}</div>`;\n",
       "      throw err;\n",
       "    }\n",
       "\n",
       "    function displayChart(vegaEmbed) {\n",
       "      vegaEmbed(outputDiv, spec, embedOpt)\n",
       "        .catch(err => showError(`Javascript Error: ${err.message}<br>This usually means there's a typo in your chart specification. See the javascript console for the full traceback.`));\n",
       "    }\n",
       "\n",
       "    if(typeof define === \"function\" && define.amd) {\n",
       "      requirejs.config({paths});\n",
       "      require([\"vega-embed\"], displayChart, err => showError(`Error loading script: ${err.message}`));\n",
       "    } else if (typeof vegaEmbed === \"function\") {\n",
       "      displayChart(vegaEmbed);\n",
       "    } else {\n",
       "      loadScript(\"vega\")\n",
       "        .then(() => loadScript(\"vega-lite\"))\n",
       "        .then(() => loadScript(\"vega-embed\"))\n",
       "        .catch(showError)\n",
       "        .then(() => displayChart(vegaEmbed));\n",
       "    }\n",
       "  })({\"config\": {\"view\": {\"continuousWidth\": 400, \"continuousHeight\": 300}}, \"data\": {\"name\": \"data-80134a4c0d9e5f9277be3416d7e451bd\"}, \"mark\": {\"type\": \"line\", \"strokeWidth\": 1}, \"encoding\": {\"color\": {\"type\": \"nominal\", \"field\": \"variable\"}, \"tooltip\": [{\"type\": \"nominal\", \"field\": \"variable\"}, {\"type\": \"quantitative\", \"field\": \"value\"}], \"x\": {\"type\": \"temporal\", \"field\": \"Timestamp\"}, \"y\": {\"type\": \"quantitative\", \"field\": \"value\"}}, \"height\": 400, \"selection\": {\"selector002\": {\"type\": \"interval\", \"bind\": \"scales\", \"encodings\": [\"x\", \"y\"]}}, \"width\": 800, \"$schema\": \"https://vega.github.io/schema/vega-lite/v4.8.1.json\", \"datasets\": {\"data-80134a4c0d9e5f9277be3416d7e451bd\": [{\"Timestamp\": \"2021-01-03T00:00:00\", \"variable\": \"In\", \"value\": 29814}, {\"Timestamp\": \"2021-01-10T00:00:00\", \"variable\": \"In\", \"value\": 133245}, {\"Timestamp\": \"2021-01-17T00:00:00\", \"variable\": \"In\", \"value\": 148006}, {\"Timestamp\": \"2021-01-24T00:00:00\", \"variable\": \"In\", \"value\": 136580}, {\"Timestamp\": \"2021-01-31T00:00:00\", \"variable\": \"In\", \"value\": 131532}, {\"Timestamp\": \"2021-02-07T00:00:00\", \"variable\": \"In\", \"value\": 135773}, {\"Timestamp\": \"2021-02-14T00:00:00\", \"variable\": \"In\", \"value\": 131522}, {\"Timestamp\": \"2021-02-21T00:00:00\", \"variable\": \"In\", \"value\": 132835}, {\"Timestamp\": \"2021-02-28T00:00:00\", \"variable\": \"In\", \"value\": 137287}, {\"Timestamp\": \"2021-03-07T00:00:00\", \"variable\": \"In\", \"value\": 150064}, {\"Timestamp\": \"2021-03-14T00:00:00\", \"variable\": \"In\", \"value\": 151054}, {\"Timestamp\": \"2021-03-21T00:00:00\", \"variable\": \"In\", \"value\": 148504}, {\"Timestamp\": \"2021-03-28T00:00:00\", \"variable\": \"In\", \"value\": 162966}, {\"Timestamp\": \"2021-04-04T00:00:00\", \"variable\": \"In\", \"value\": 150309}, {\"Timestamp\": \"2021-04-11T00:00:00\", \"variable\": \"In\", \"value\": 148134}, {\"Timestamp\": \"2021-04-18T00:00:00\", \"variable\": \"In\", \"value\": 160533}, {\"Timestamp\": \"2021-04-25T00:00:00\", \"variable\": \"In\", \"value\": 179395}, {\"Timestamp\": \"2021-05-02T00:00:00\", \"variable\": \"In\", \"value\": 149759}, {\"Timestamp\": \"2021-05-09T00:00:00\", \"variable\": \"In\", \"value\": 167021}, {\"Timestamp\": \"2021-05-16T00:00:00\", \"variable\": \"In\", \"value\": 147043}, {\"Timestamp\": \"2021-05-23T00:00:00\", \"variable\": \"In\", \"value\": 171989}, {\"Timestamp\": \"2021-05-30T00:00:00\", \"variable\": \"In\", \"value\": 175571}, {\"Timestamp\": \"2021-06-06T00:00:00\", \"variable\": \"In\", \"value\": 189284}, {\"Timestamp\": \"2021-06-13T00:00:00\", \"variable\": \"In\", \"value\": 195634}, {\"Timestamp\": \"2021-06-20T00:00:00\", \"variable\": \"In\", \"value\": 198409}, {\"Timestamp\": \"2021-06-27T00:00:00\", \"variable\": \"In\", \"value\": 189355}, {\"Timestamp\": \"2021-07-04T00:00:00\", \"variable\": \"In\", \"value\": 198151}, {\"Timestamp\": \"2021-07-11T00:00:00\", \"variable\": \"In\", \"value\": 197196}, {\"Timestamp\": \"2021-07-18T00:00:00\", \"variable\": \"In\", \"value\": 188041}, {\"Timestamp\": \"2021-07-25T00:00:00\", \"variable\": \"In\", \"value\": 174631}, {\"Timestamp\": \"2021-08-01T00:00:00\", \"variable\": \"In\", \"value\": 155280}, {\"Timestamp\": \"2021-08-08T00:00:00\", \"variable\": \"In\", \"value\": 155152}, {\"Timestamp\": \"2021-08-15T00:00:00\", \"variable\": \"In\", \"value\": 171745}, {\"Timestamp\": \"2021-08-22T00:00:00\", \"variable\": \"In\", \"value\": 191627}, {\"Timestamp\": \"2021-08-29T00:00:00\", \"variable\": \"In\", \"value\": 198653}, {\"Timestamp\": \"2021-09-05T00:00:00\", \"variable\": \"In\", \"value\": 209291}, {\"Timestamp\": \"2021-09-12T00:00:00\", \"variable\": \"In\", \"value\": 217315}, {\"Timestamp\": \"2021-09-19T00:00:00\", \"variable\": \"In\", \"value\": 202375}, {\"Timestamp\": \"2021-09-26T00:00:00\", \"variable\": \"In\", \"value\": 223673}, {\"Timestamp\": \"2021-10-03T00:00:00\", \"variable\": \"In\", \"value\": 233903}, {\"Timestamp\": \"2021-10-10T00:00:00\", \"variable\": \"In\", \"value\": 226372}, {\"Timestamp\": \"2021-10-17T00:00:00\", \"variable\": \"In\", \"value\": 199191}, {\"Timestamp\": \"2021-10-24T00:00:00\", \"variable\": \"In\", \"value\": 212025}, {\"Timestamp\": \"2021-10-31T00:00:00\", \"variable\": \"In\", \"value\": 231163}, {\"Timestamp\": \"2021-11-07T00:00:00\", \"variable\": \"In\", \"value\": 220905}, {\"Timestamp\": \"2021-11-14T00:00:00\", \"variable\": \"In\", \"value\": 215369}, {\"Timestamp\": \"2021-11-21T00:00:00\", \"variable\": \"In\", \"value\": 216899}, {\"Timestamp\": \"2021-11-28T00:00:00\", \"variable\": \"In\", \"value\": 215294}, {\"Timestamp\": \"2021-12-05T00:00:00\", \"variable\": \"In\", \"value\": 208231}, {\"Timestamp\": \"2021-12-12T00:00:00\", \"variable\": \"In\", \"value\": 196232}, {\"Timestamp\": \"2021-12-19T00:00:00\", \"variable\": \"In\", \"value\": 198589}, {\"Timestamp\": \"2021-12-26T00:00:00\", \"variable\": \"In\", \"value\": 132411}, {\"Timestamp\": \"2022-01-02T00:00:00\", \"variable\": \"In\", \"value\": 98986}, {\"Timestamp\": \"2021-01-03T00:00:00\", \"variable\": \"Out\", \"value\": 25225}, {\"Timestamp\": \"2021-01-10T00:00:00\", \"variable\": \"Out\", \"value\": 106920}, {\"Timestamp\": \"2021-01-17T00:00:00\", \"variable\": \"Out\", \"value\": 125984}, {\"Timestamp\": \"2021-01-24T00:00:00\", \"variable\": \"Out\", \"value\": 114336}, {\"Timestamp\": \"2021-01-31T00:00:00\", \"variable\": \"Out\", \"value\": 106527}, {\"Timestamp\": \"2021-02-07T00:00:00\", \"variable\": \"Out\", \"value\": 110230}, {\"Timestamp\": \"2021-02-14T00:00:00\", \"variable\": \"Out\", \"value\": 107036}, {\"Timestamp\": \"2021-02-21T00:00:00\", \"variable\": \"Out\", \"value\": 108512}, {\"Timestamp\": \"2021-02-28T00:00:00\", \"variable\": \"Out\", \"value\": 110673}, {\"Timestamp\": \"2021-03-07T00:00:00\", \"variable\": \"Out\", \"value\": 124282}, {\"Timestamp\": \"2021-03-14T00:00:00\", \"variable\": \"Out\", \"value\": 124055}, {\"Timestamp\": \"2021-03-21T00:00:00\", \"variable\": \"Out\", \"value\": 121032}, {\"Timestamp\": \"2021-03-28T00:00:00\", \"variable\": \"Out\", \"value\": 134766}, {\"Timestamp\": \"2021-04-04T00:00:00\", \"variable\": \"Out\", \"value\": 124746}, {\"Timestamp\": \"2021-04-11T00:00:00\", \"variable\": \"Out\", \"value\": 122980}, {\"Timestamp\": \"2021-04-18T00:00:00\", \"variable\": \"Out\", \"value\": 131634}, {\"Timestamp\": \"2021-04-25T00:00:00\", \"variable\": \"Out\", \"value\": 149189}, {\"Timestamp\": \"2021-05-02T00:00:00\", \"variable\": \"Out\", \"value\": 119171}, {\"Timestamp\": \"2021-05-09T00:00:00\", \"variable\": \"Out\", \"value\": 136813}, {\"Timestamp\": \"2021-05-16T00:00:00\", \"variable\": \"Out\", \"value\": 120795}, {\"Timestamp\": \"2021-05-23T00:00:00\", \"variable\": \"Out\", \"value\": 141571}, {\"Timestamp\": \"2021-05-30T00:00:00\", \"variable\": \"Out\", \"value\": 147098}, {\"Timestamp\": \"2021-06-06T00:00:00\", \"variable\": \"Out\", \"value\": 157265}, {\"Timestamp\": \"2021-06-13T00:00:00\", \"variable\": \"Out\", \"value\": 163281}, {\"Timestamp\": \"2021-06-20T00:00:00\", \"variable\": \"Out\", \"value\": 165011}, {\"Timestamp\": \"2021-06-27T00:00:00\", \"variable\": \"Out\", \"value\": 153273}, {\"Timestamp\": \"2021-07-04T00:00:00\", \"variable\": \"Out\", \"value\": 164077}, {\"Timestamp\": \"2021-07-11T00:00:00\", \"variable\": \"Out\", \"value\": 162206}, {\"Timestamp\": \"2021-07-18T00:00:00\", \"variable\": \"Out\", \"value\": 154196}, {\"Timestamp\": \"2021-07-25T00:00:00\", \"variable\": \"Out\", \"value\": 139997}, {\"Timestamp\": \"2021-08-01T00:00:00\", \"variable\": \"Out\", \"value\": 123922}, {\"Timestamp\": \"2021-08-08T00:00:00\", \"variable\": \"Out\", \"value\": 125854}, {\"Timestamp\": \"2021-08-15T00:00:00\", \"variable\": \"Out\", \"value\": 141475}, {\"Timestamp\": \"2021-08-22T00:00:00\", \"variable\": \"Out\", \"value\": 157601}, {\"Timestamp\": \"2021-08-29T00:00:00\", \"variable\": \"Out\", \"value\": 165929}, {\"Timestamp\": \"2021-09-05T00:00:00\", \"variable\": \"Out\", \"value\": 177638}, {\"Timestamp\": \"2021-09-12T00:00:00\", \"variable\": \"Out\", \"value\": 185066}, {\"Timestamp\": \"2021-09-19T00:00:00\", \"variable\": \"Out\", \"value\": 173102}, {\"Timestamp\": \"2021-09-26T00:00:00\", \"variable\": \"Out\", \"value\": 193747}, {\"Timestamp\": \"2021-10-03T00:00:00\", \"variable\": \"Out\", \"value\": 203290}, {\"Timestamp\": \"2021-10-10T00:00:00\", \"variable\": \"Out\", \"value\": 193536}, {\"Timestamp\": \"2021-10-17T00:00:00\", \"variable\": \"Out\", \"value\": 161766}, {\"Timestamp\": \"2021-10-24T00:00:00\", \"variable\": \"Out\", \"value\": 174148}, {\"Timestamp\": \"2021-10-31T00:00:00\", \"variable\": \"Out\", \"value\": 199954}, {\"Timestamp\": \"2021-11-07T00:00:00\", \"variable\": \"Out\", \"value\": 190681}, {\"Timestamp\": \"2021-11-14T00:00:00\", \"variable\": \"Out\", \"value\": 185536}, {\"Timestamp\": \"2021-11-21T00:00:00\", \"variable\": \"Out\", \"value\": 187518}, {\"Timestamp\": \"2021-11-28T00:00:00\", \"variable\": \"Out\", \"value\": 184358}, {\"Timestamp\": \"2021-12-05T00:00:00\", \"variable\": \"Out\", \"value\": 178654}, {\"Timestamp\": \"2021-12-12T00:00:00\", \"variable\": \"Out\", \"value\": 167535}, {\"Timestamp\": \"2021-12-19T00:00:00\", \"variable\": \"Out\", \"value\": 170294}, {\"Timestamp\": \"2021-12-26T00:00:00\", \"variable\": \"Out\", \"value\": 105752}, {\"Timestamp\": \"2022-01-02T00:00:00\", \"variable\": \"Out\", \"value\": 81683}]}}, {\"mode\": \"vega-lite\"});\n",
       "</script>"
      ],
      "text/plain": [
       "alt.Chart(...)"
      ]
     },
     "execution_count": 22,
     "metadata": {},
     "output_type": "execute_result"
    }
   ],
   "source": [
    "alt.Chart(weekly_sums.reset_index().melt(\"Timestamp\")).mark_line(strokeWidth=1).encode(\n",
    "    x='Timestamp',\n",
    "    y='value',\n",
    "    color='variable',\n",
    "    tooltip=['variable','value']    \n",
    ").properties(width=800, height=400).interactive()"
   ]
  },
  {
   "cell_type": "code",
   "execution_count": 23,
   "metadata": {},
   "outputs": [
    {
     "data": {
      "text/html": [
       "\n",
       "<div id=\"altair-viz-f0cce37968ea4aa4bc69b0ff9caf1967\"></div>\n",
       "<script type=\"text/javascript\">\n",
       "  (function(spec, embedOpt){\n",
       "    let outputDiv = document.currentScript.previousElementSibling;\n",
       "    if (outputDiv.id !== \"altair-viz-f0cce37968ea4aa4bc69b0ff9caf1967\") {\n",
       "      outputDiv = document.getElementById(\"altair-viz-f0cce37968ea4aa4bc69b0ff9caf1967\");\n",
       "    }\n",
       "    const paths = {\n",
       "      \"vega\": \"https://cdn.jsdelivr.net/npm//vega@5?noext\",\n",
       "      \"vega-lib\": \"https://cdn.jsdelivr.net/npm//vega-lib?noext\",\n",
       "      \"vega-lite\": \"https://cdn.jsdelivr.net/npm//vega-lite@4.8.1?noext\",\n",
       "      \"vega-embed\": \"https://cdn.jsdelivr.net/npm//vega-embed@6?noext\",\n",
       "    };\n",
       "\n",
       "    function loadScript(lib) {\n",
       "      return new Promise(function(resolve, reject) {\n",
       "        var s = document.createElement('script');\n",
       "        s.src = paths[lib];\n",
       "        s.async = true;\n",
       "        s.onload = () => resolve(paths[lib]);\n",
       "        s.onerror = () => reject(`Error loading script: ${paths[lib]}`);\n",
       "        document.getElementsByTagName(\"head\")[0].appendChild(s);\n",
       "      });\n",
       "    }\n",
       "\n",
       "    function showError(err) {\n",
       "      outputDiv.innerHTML = `<div class=\"error\" style=\"color:red;\">${err}</div>`;\n",
       "      throw err;\n",
       "    }\n",
       "\n",
       "    function displayChart(vegaEmbed) {\n",
       "      vegaEmbed(outputDiv, spec, embedOpt)\n",
       "        .catch(err => showError(`Javascript Error: ${err.message}<br>This usually means there's a typo in your chart specification. See the javascript console for the full traceback.`));\n",
       "    }\n",
       "\n",
       "    if(typeof define === \"function\" && define.amd) {\n",
       "      requirejs.config({paths});\n",
       "      require([\"vega-embed\"], displayChart, err => showError(`Error loading script: ${err.message}`));\n",
       "    } else if (typeof vegaEmbed === \"function\") {\n",
       "      displayChart(vegaEmbed);\n",
       "    } else {\n",
       "      loadScript(\"vega\")\n",
       "        .then(() => loadScript(\"vega-lite\"))\n",
       "        .then(() => loadScript(\"vega-embed\"))\n",
       "        .catch(showError)\n",
       "        .then(() => displayChart(vegaEmbed));\n",
       "    }\n",
       "  })({\"config\": {\"view\": {\"continuousWidth\": 400, \"continuousHeight\": 300}}, \"layer\": [{\"mark\": \"circle\", \"encoding\": {\"color\": {\"type\": \"quantitative\", \"field\": \"In\"}, \"opacity\": {\"value\": 1}, \"x\": {\"type\": \"quantitative\", \"field\": \"Out\"}, \"y\": {\"type\": \"quantitative\", \"field\": \"In\"}}, \"height\": 300, \"selection\": {\"selector003\": {\"type\": \"single\", \"on\": \"mouseover\", \"fields\": [\"In\"], \"nearest\": true}}, \"width\": 700}, {\"mark\": \"line\", \"encoding\": {\"color\": {\"type\": \"quantitative\", \"field\": \"In\"}, \"size\": {\"condition\": {\"value\": 1.5, \"selection\": {\"not\": \"selector003\"}}, \"value\": 4}, \"x\": {\"type\": \"quantitative\", \"field\": \"Out\"}, \"y\": {\"type\": \"quantitative\", \"field\": \"In\"}}, \"selection\": {\"selector004\": {\"type\": \"interval\", \"bind\": \"scales\", \"encodings\": [\"x\", \"y\"]}}}], \"data\": {\"name\": \"data-957ad6666b6b11cf44cc2b665d3b26d5\"}, \"$schema\": \"https://vega.github.io/schema/vega-lite/v4.8.1.json\", \"datasets\": {\"data-957ad6666b6b11cf44cc2b665d3b26d5\": [{\"In\": 29814, \"Out\": 25225}, {\"In\": 133245, \"Out\": 106920}, {\"In\": 148006, \"Out\": 125984}, {\"In\": 136580, \"Out\": 114336}, {\"In\": 131532, \"Out\": 106527}, {\"In\": 135773, \"Out\": 110230}, {\"In\": 131522, \"Out\": 107036}, {\"In\": 132835, \"Out\": 108512}, {\"In\": 137287, \"Out\": 110673}, {\"In\": 150064, \"Out\": 124282}, {\"In\": 151054, \"Out\": 124055}, {\"In\": 148504, \"Out\": 121032}, {\"In\": 162966, \"Out\": 134766}, {\"In\": 150309, \"Out\": 124746}, {\"In\": 148134, \"Out\": 122980}, {\"In\": 160533, \"Out\": 131634}, {\"In\": 179395, \"Out\": 149189}, {\"In\": 149759, \"Out\": 119171}, {\"In\": 167021, \"Out\": 136813}, {\"In\": 147043, \"Out\": 120795}, {\"In\": 171989, \"Out\": 141571}, {\"In\": 175571, \"Out\": 147098}, {\"In\": 189284, \"Out\": 157265}, {\"In\": 195634, \"Out\": 163281}, {\"In\": 198409, \"Out\": 165011}, {\"In\": 189355, \"Out\": 153273}, {\"In\": 198151, \"Out\": 164077}, {\"In\": 197196, \"Out\": 162206}, {\"In\": 188041, \"Out\": 154196}, {\"In\": 174631, \"Out\": 139997}, {\"In\": 155280, \"Out\": 123922}, {\"In\": 155152, \"Out\": 125854}, {\"In\": 171745, \"Out\": 141475}, {\"In\": 191627, \"Out\": 157601}, {\"In\": 198653, \"Out\": 165929}, {\"In\": 209291, \"Out\": 177638}, {\"In\": 217315, \"Out\": 185066}, {\"In\": 202375, \"Out\": 173102}, {\"In\": 223673, \"Out\": 193747}, {\"In\": 233903, \"Out\": 203290}, {\"In\": 226372, \"Out\": 193536}, {\"In\": 199191, \"Out\": 161766}, {\"In\": 212025, \"Out\": 174148}, {\"In\": 231163, \"Out\": 199954}, {\"In\": 220905, \"Out\": 190681}, {\"In\": 215369, \"Out\": 185536}, {\"In\": 216899, \"Out\": 187518}, {\"In\": 215294, \"Out\": 184358}, {\"In\": 208231, \"Out\": 178654}, {\"In\": 196232, \"Out\": 167535}, {\"In\": 198589, \"Out\": 170294}, {\"In\": 132411, \"Out\": 105752}, {\"In\": 98986, \"Out\": 81683}]}}, {\"mode\": \"vega-lite\"});\n",
       "</script>"
      ],
      "text/plain": [
       "alt.LayerChart(...)"
      ]
     },
     "execution_count": 23,
     "metadata": {},
     "output_type": "execute_result"
    }
   ],
   "source": [
    "# df_statzonen = df_statzonen[(df_statzonen.knr>0) & (df_statzonen.qname!=\"Hirslanden\")]\n",
    "\n",
    "highlight = alt.selection(type='single', on='mouseover', fields=['In'], nearest=True)\n",
    "#x='date:StichtagDatJahr',\n",
    "base = alt.Chart(weekly_sums).encode(\n",
    "    x='Out',\n",
    "    y='In',\n",
    "    color='In'\n",
    ")\n",
    "\n",
    "points = base.mark_circle().encode(\n",
    "    opacity=alt.value(1)\n",
    ").add_selection(\n",
    "    highlight\n",
    ").properties(\n",
    "    width=700 , height=300\n",
    ")\n",
    "lines = base.mark_line().encode(\n",
    "    size=alt.condition(~highlight, alt.value(1.5), alt.value(4))\n",
    ").interactive()\n",
    "\n",
    "points + lines"
   ]
  },
  {
   "cell_type": "markdown",
   "metadata": {},
   "source": [
    "---------------------------------------------------------- hier habe ich nicht mehr weiter gemacht"
   ]
  },
  {
   "cell_type": "code",
   "execution_count": 24,
   "metadata": {},
   "outputs": [
    {
     "ename": "NameError",
     "evalue": "name 'mySelection' is not defined",
     "output_type": "error",
     "traceback": [
      "\u001b[1;31m---------------------------------------------------------------------------\u001b[0m",
      "\u001b[1;31mNameError\u001b[0m                                 Traceback (most recent call last)",
      "\u001b[1;32m~\\AppData\\Local\\Temp/ipykernel_11316/2051505962.py\u001b[0m in \u001b[0;36m<module>\u001b[1;34m\u001b[0m\n\u001b[1;32m----> 1\u001b[1;33m alt.Chart(mySelection).mark_circle(size=60).encode(\n\u001b[0m\u001b[0;32m      2\u001b[0m     \u001b[0mx\u001b[0m\u001b[1;33m=\u001b[0m\u001b[1;34m'StichtagDatJahr'\u001b[0m\u001b[1;33m,\u001b[0m\u001b[1;33m\u001b[0m\u001b[1;33m\u001b[0m\u001b[0m\n\u001b[0;32m      3\u001b[0m     \u001b[0my\u001b[0m\u001b[1;33m=\u001b[0m\u001b[1;34m'AlterV20Kurz'\u001b[0m\u001b[1;33m,\u001b[0m\u001b[1;33m\u001b[0m\u001b[1;33m\u001b[0m\u001b[0m\n\u001b[0;32m      4\u001b[0m     \u001b[1;31m#color='AnzNat',\u001b[0m\u001b[1;33m\u001b[0m\u001b[1;33m\u001b[0m\u001b[0m\n\u001b[0;32m      5\u001b[0m     \u001b[1;31m#color=alt.Color('AnzNat', scale=alt.Scale(scheme='dark2')),\u001b[0m\u001b[1;33m\u001b[0m\u001b[1;33m\u001b[0m\u001b[0m\n",
      "\u001b[1;31mNameError\u001b[0m: name 'mySelection' is not defined"
     ]
    }
   ],
   "source": [
    "alt.Chart(mySelection).mark_circle(size=60).encode(\n",
    "    x='StichtagDatJahr',\n",
    "    y='AlterV20Kurz',\n",
    "    #color='AnzNat',\n",
    "    #color=alt.Color('AnzNat', scale=alt.Scale(scheme='dark2')),\n",
    "    color=alt.Color('AlterV20Kurz', scale=alt.Scale(scheme='greens')),\n",
    "    tooltip=['StichtagDatJahr','AlterV20Kurz','AnzBestWir']\n",
    ").interactive() # this makes the axes interactive: now you can zoom & pan\n",
    "\n",
    "\n"
   ]
  },
  {
   "cell_type": "markdown",
   "metadata": {},
   "source": [
    "**Test: Choroplethenkarte**\n",
    "Importiere die Geodaten als GeoJSON"
   ]
  },
  {
   "cell_type": "markdown",
   "metadata": {},
   "source": [
    "Joine die importierten statistischen Daten des aktuellen Jahres zum Geodatensatz:\n",
    "\n",
    "*Siehe dazu Doku zu [Geopandas](https://geopandas.org/docs/user_guide/mergingdata.html)*"
   ]
  },
  {
   "cell_type": "code",
   "execution_count": null,
   "metadata": {},
   "outputs": [],
   "source": []
  },
  {
   "cell_type": "raw",
   "metadata": {},
   "source": []
  },
  {
   "cell_type": "code",
   "execution_count": null,
   "metadata": {},
   "outputs": [],
   "source": []
  }
 ],
 "metadata": {
  "kernelspec": {
   "display_name": "Python 3 (ipykernel)",
   "language": "python",
   "name": "python3"
  },
  "language_info": {
   "codemirror_mode": {
    "name": "ipython",
    "version": 3
   },
   "file_extension": ".py",
   "mimetype": "text/x-python",
   "name": "python",
   "nbconvert_exporter": "python",
   "pygments_lexer": "ipython3",
   "version": "3.9.7"
  }
 },
 "nbformat": 4,
 "nbformat_minor": 4
}
