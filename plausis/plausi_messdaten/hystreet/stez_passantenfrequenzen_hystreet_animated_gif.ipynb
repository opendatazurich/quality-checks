{
 "cells": [
  {
   "cell_type": "markdown",
   "metadata": {
    "tags": []
   },
   "source": [
    "# Testing\n",
    "### Passantenfrequenzen an der Bahnhofstrasse - Stundenwerte\n",
    "\n",
    "Hier nur der Ausschnitt, wo ich eine animierte Grafik als GIF erstelle.\n",
    "\n",
    "https://data.stadt-zuerich.ch/dataset/hystreet_fussgaengerfrequenzen\n",
    "\n",
    "Datum: 12.07.2022\n"
   ]
  },
  {
   "cell_type": "markdown",
   "metadata": {},
   "source": [
    "### Importiere die notwendigen Packages"
   ]
  },
  {
   "cell_type": "code",
   "execution_count": 1,
   "metadata": {},
   "outputs": [],
   "source": [
    "#%pip install geopandas altair fiona requests folium mplleaflet contextily seaborn datetime plotly leafmap\n"
   ]
  },
  {
   "cell_type": "code",
   "execution_count": 2,
   "metadata": {},
   "outputs": [],
   "source": [
    "import pandas as pd\n",
    "import pivottablejs\n",
    "from pivottablejs import pivot_ui\n",
    "import numpy as np\n",
    "import altair as alt\n",
    "import matplotlib.pyplot as plt\n",
    "\n",
    "import datetime\n",
    "import geopandas as gpd\n",
    "import folium \n",
    "import plotly.express as px\n",
    "import seaborn as sns\n",
    "import leafmap\n",
    "\n",
    "import requests\n",
    "import io\n",
    "\n",
    "import plotly.express as px\n"
   ]
  },
  {
   "cell_type": "code",
   "execution_count": 3,
   "metadata": {},
   "outputs": [],
   "source": [
    "SSL_VERIFY = False\n",
    "# evtl. SSL_VERIFY auf False setzen wenn die Verbindung zu https://www.gemeinderat-zuerich.ch nicht klappt (z.B. wegen Proxy)\n",
    "# Um die SSL Verifikation auszustellen, bitte die nächste Zeile einkommentieren (\"#\" entfernen)\n",
    "# SSL_VERIFY = False"
   ]
  },
  {
   "cell_type": "code",
   "execution_count": 4,
   "metadata": {},
   "outputs": [],
   "source": [
    "if not SSL_VERIFY:\n",
    "    import urllib3\n",
    "    urllib3.disable_warnings()"
   ]
  },
  {
   "cell_type": "markdown",
   "metadata": {},
   "source": [
    "Definiere Settings. Hier das Zahlenformat von Float-Werten (z.B. *'{:,.2f}'.format* mit Komma als Tausenderzeichen), "
   ]
  },
  {
   "cell_type": "code",
   "execution_count": 5,
   "metadata": {},
   "outputs": [],
   "source": [
    "#pd.options.display.float_format = lambda x : '{:,.1f}'.format(x) if (np.isnan(x) | np.isinf(x)) else '{:,.0f}'.format(x) if int(x) == x else '{:,.1f}'.format(x)\n",
    "pd.options.display.float_format = '{:.0f}'.format\n",
    "pd.set_option('display.width', 100)\n",
    "pd.set_option('display.max_columns', 15)"
   ]
  },
  {
   "cell_type": "markdown",
   "metadata": {},
   "source": [
    "### Zeitvariabeln\n",
    "Bestimme den aktuellst geladenen Monat. Hier ist es der Stand vor 2 Monaten. \n",
    "Bestimme noch weitere evt. sinnvolle Zeitvariabeln.\n",
    "\n",
    "Zum Unterschied zwischen import datetime und from datedtime import datetime, siehe https://stackoverflow.com/questions/15707532/import-datetime-v-s-from-datetime-import-datetime\n",
    "\n",
    "Zuerst die Zeitvariabeln als Strings"
   ]
  },
  {
   "cell_type": "code",
   "execution_count": 6,
   "metadata": {},
   "outputs": [],
   "source": [
    "#today_date = datetime.date.today()\n",
    "#date_time = datetime.datetime.strptime(date_time_string, '%Y-%m-%d %H:%M')\n",
    "now = datetime.date.today()\n",
    "date_today = now.strftime(\"%Y-%m-%d\")\n",
    "year_today = now.strftime(\"%Y\")\n",
    "month_today = now.strftime(\"%m\")\n",
    "day_today = now.strftime(\"%d\")\n",
    "\n"
   ]
  },
  {
   "cell_type": "markdown",
   "metadata": {},
   "source": [
    "Und hier noch die Zeitvariabeln als Integers:\n",
    "- `aktuellesJahr`\n",
    "- `aktuellerMonat`: Der gerade jetzt aktuelle Monat\n",
    "- `selectedMonat`: Der aktuellste Monat in den Daten. In der Regel zwei Monate her."
   ]
  },
  {
   "cell_type": "code",
   "execution_count": 7,
   "metadata": {},
   "outputs": [
    {
     "name": "stdout",
     "output_type": "stream",
     "text": [
      "2022 12 datenstand:  10 time.struct_time(tm_year=2022, tm_mon=12, tm_mday=12, tm_hour=0, tm_min=0, tm_sec=0, tm_wday=0, tm_yday=346, tm_isdst=-1)\n"
     ]
    }
   ],
   "source": [
    "#now = datetime.now() \n",
    "int_times = now.timetuple()\n",
    "\n",
    "aktuellesJahr = int_times[0]\n",
    "aktuellerMonat = int_times[1]\n",
    "selectedMonat = int_times[1]-2\n",
    "\n",
    "print(aktuellesJahr, \n",
    "      aktuellerMonat,\n",
    "    'datenstand: ', selectedMonat,\n",
    "     int_times)\n"
   ]
  },
  {
   "cell_type": "markdown",
   "metadata": {},
   "source": [
    "### Setze einige Pfadvariabeln"
   ]
  },
  {
   "cell_type": "markdown",
   "metadata": {
    "tags": []
   },
   "source": [
    "- Der Packagename ist eigentlich der **Verzeichnisname** unter dem die Daten und Metadaten auf der Dropzone abgelegt werden.\n",
    "- Definiert wird er bei SASA-Prozessen auf dem **Produkte-Sharepoint ([Link](https://kollaboration.intranet.stzh.ch/orga/ssz-produkte/Lists/SASA_Outputs/PersonalViews.aspx?PageView=Personal&ShowWebPart={6087A3E7-8AC8-40BA-8278-DECFACE124FF}))**.\n",
    "- Der Packagename wird auf CKAN teil der URL, daher ist die exakte Schreibweise wichtig.\n",
    "\n",
    "Beachte: im Packagename müssen alle Buchstaben **klein** geschrieben werden. Dies weil CKAN aus grossen kleine Buchstaben macht."
   ]
  },
  {
   "cell_type": "markdown",
   "metadata": {},
   "source": [
    "**BITTE HIER ANPASSEN**"
   ]
  },
  {
   "cell_type": "code",
   "execution_count": 8,
   "metadata": {},
   "outputs": [],
   "source": [
    "package_name = \"hystreet_fussgaengerfrequenzen\""
   ]
  },
  {
   "cell_type": "code",
   "execution_count": 9,
   "metadata": {
    "tags": []
   },
   "outputs": [],
   "source": [
    "dataset_name = \"hystreet_fussgaengerfrequenzen_seit2021.csv\""
   ]
  },
  {
   "cell_type": "markdown",
   "metadata": {},
   "source": [
    "**Statische Pfade in DWH-Dropzones**"
   ]
  },
  {
   "cell_type": "code",
   "execution_count": 10,
   "metadata": {},
   "outputs": [],
   "source": [
    "dropzone_path_integ = r\"\\\\szh\\ssz\\applikationen\\OGD_Dropzone\\INT_DWH\""
   ]
  },
  {
   "cell_type": "code",
   "execution_count": 11,
   "metadata": {
    "tags": []
   },
   "outputs": [],
   "source": [
    "dropzone_path_prod = r\"\\\\szh\\ssz\\applikationen\\OGD_Dropzone\\DWH\""
   ]
  },
  {
   "cell_type": "markdown",
   "metadata": {},
   "source": [
    "**Statische Pfade CKAN-URLs**"
   ]
  },
  {
   "cell_type": "code",
   "execution_count": 12,
   "metadata": {
    "tags": []
   },
   "outputs": [],
   "source": [
    "ckan_integ_url =\"https://data.integ.stadt-zuerich.ch/dataset/\""
   ]
  },
  {
   "cell_type": "code",
   "execution_count": 13,
   "metadata": {},
   "outputs": [],
   "source": [
    "ckan_prod_url =\"https://data.stadt-zuerich.ch/dataset/\""
   ]
  },
  {
   "cell_type": "markdown",
   "metadata": {
    "tags": []
   },
   "source": [
    "### Checke die Metadaten auf der CKAN INTEG- oder PROD-Webseite\n",
    "\n",
    "Offenbar lassen sich aktuell im Markdownteil keine Variabeln ausführen, daher gehen wir wie unten gezeigt vor. Siehe dazu: https://data-dive.com/jupyterlab-markdown-cells-include-variables\n",
    "Instead of setting the cell to Markdown, create Markdown from withnin a code cell! We can just use python variable replacement syntax to make the text dynamic"
   ]
  },
  {
   "cell_type": "code",
   "execution_count": 14,
   "metadata": {},
   "outputs": [],
   "source": [
    "from IPython.display import Markdown as md"
   ]
  },
  {
   "cell_type": "code",
   "execution_count": 15,
   "metadata": {},
   "outputs": [
    {
     "data": {
      "text/markdown": [
       " **1. Dataset auf INTEG-Datakatalog:** Link https://data.integ.stadt-zuerich.ch/dataset/hystreet_fussgaengerfrequenzen "
      ],
      "text/plain": [
       "<IPython.core.display.Markdown object>"
      ]
     },
     "execution_count": 15,
     "metadata": {},
     "output_type": "execute_result"
    }
   ],
   "source": [
    "md(\" **1. Dataset auf INTEG-Datakatalog:** Link {} \".format(ckan_integ_url+package_name))"
   ]
  },
  {
   "cell_type": "code",
   "execution_count": 16,
   "metadata": {
    "tags": []
   },
   "outputs": [
    {
     "data": {
      "text/markdown": [
       " **2. Dataset auf PROD-Datakatalog:** Link https://data.stadt-zuerich.ch/dataset/hystreet_fussgaengerfrequenzen "
      ],
      "text/plain": [
       "<IPython.core.display.Markdown object>"
      ]
     },
     "execution_count": 16,
     "metadata": {},
     "output_type": "execute_result"
    }
   ],
   "source": [
    "md(\" **2. Dataset auf PROD-Datakatalog:** Link {} \".format(ckan_prod_url+package_name))"
   ]
  },
  {
   "cell_type": "markdown",
   "metadata": {
    "tags": []
   },
   "source": [
    "### Importiere einen Datensatz \n",
    "\n",
    "Definiere zuerst folgende Werte:\n",
    "1) Kommt der Datensatz von PROD oder INTEG?\n",
    "2) Beziehst Du den Datensatz direkt ab der DROPZONE oder aus dem INTERNET?"
   ]
  },
  {
   "cell_type": "code",
   "execution_count": 17,
   "metadata": {},
   "outputs": [
    {
     "name": "stdout",
     "output_type": "stream",
     "text": [
      "prod - web\n"
     ]
    }
   ],
   "source": [
    "#Die Datasets sind nur zum Testen auf INT-DWH-Dropzone. Wenn der Test vorbei ist, sind sie auf PROD. \n",
    "# Über den Status kann man einfach switchen\n",
    "\n",
    "status = \"prod\"; #prod vs something else\n",
    "data_source = \"web\"; #dropzone vs something else\n",
    "print(status+\" - \"+ data_source)"
   ]
  },
  {
   "cell_type": "code",
   "execution_count": 18,
   "metadata": {
    "tags": []
   },
   "outputs": [
    {
     "name": "stdout",
     "output_type": "stream",
     "text": [
      "fp lautet:https://data.stadt-zuerich.ch/dataset/hystreet_fussgaengerfrequenzen/download/hystreet_fussgaengerfrequenzen_seit2021.csv\n"
     ]
    }
   ],
   "source": [
    "# Filepath\n",
    "if status == \"prod\":\n",
    "    if data_source == \"dropzone\":\n",
    "            fp = dropzone_path_prod+\"\\\\\"+ package_name +\"\\\\\"+dataset_name\n",
    "            print(\"fp lautet:\"+fp)\n",
    "    else:\n",
    "        #fp = r\"https://data.stadt-zuerich.ch/dataset/bau_neubau_whg_bausm_rinh_geb_projstatus_quartier_seit2009_od5011/download/BAU501OD5011.csv\"\n",
    "        fp = ckan_prod_url+package_name+'/download/'+dataset_name\n",
    "        print(\"fp lautet:\"+fp)\n",
    "else:\n",
    "    if data_source == \"dropzone\":\n",
    "        fp = dropzone_path_integ+\"\\\\\"+ package_name +\"\\\\\"+dataset_name\n",
    "        print(\"fp lautet:\"+fp)\n",
    "    else:\n",
    "        #fp = r\"https://data.stadt-zuerich.ch/dataset/bau_neubau_whg_bausm_rinh_geb_projstatus_quartier_seit2009_od5011/download/BAU501OD5011.csv\"\n",
    "        fp = ckan_integ_url+package_name+'/download/'+dataset_name\n",
    "        print(\"fp lautet:\"+fp)\n"
   ]
  },
  {
   "cell_type": "markdown",
   "metadata": {},
   "source": [
    "Beachte, wie das SAS Datum (ohne Format) in ein UNIX Datum umgerechnet und als Datumsformat dargestellt wird! Siehe dazu `https://stackoverflow.com/questions/26923564/convert-sas-numeric-to-python-datetime`"
   ]
  },
  {
   "cell_type": "code",
   "execution_count": 19,
   "metadata": {},
   "outputs": [
    {
     "name": "stdout",
     "output_type": "stream",
     "text": [
      "web\n"
     ]
    },
    {
     "data": {
      "text/plain": [
       "timestamp                          datetime64[ns, UTC]\n",
       "location_id                                      int64\n",
       "location_name                                   object\n",
       "ltr_label                                       object\n",
       "rtl_label                                       object\n",
       "weather_condition                               object\n",
       "temperature                                    float64\n",
       "pedestrians_count                                int64\n",
       "unverified                                        bool\n",
       "ltr_pedestrians_count                            int64\n",
       "rtl_pedestrians_count                            int64\n",
       "adult_pedestrians_count                          int64\n",
       "child_pedestrians_count                          int64\n",
       "adult_ltr_pedestrians_count                      int64\n",
       "adult_rtl_pedestrians_count                      int64\n",
       "child_ltr_pedestrians_count                      int64\n",
       "child_rtl_pedestrians_count                      int64\n",
       "zone_1_pedestrians_count                       float64\n",
       "zone_1_ltr_pedestrians_count                   float64\n",
       "zone_1_rtl_pedestrians_count                   float64\n",
       "zone_1_adult_pedestrians_count                 float64\n",
       "zone_1_child_pedestrians_count                 float64\n",
       "zone_2_pedestrians_count                       float64\n",
       "zone_2_ltr_pedestrians_count                   float64\n",
       "zone_2_rtl_pedestrians_count                   float64\n",
       "zone_2_adult_pedestrians_count                 float64\n",
       "zone_2_child_pedestrians_count                 float64\n",
       "zone_3_pedestrians_count                       float64\n",
       "zone_3_ltr_pedestrians_count                   float64\n",
       "zone_3_rtl_pedestrians_count                   float64\n",
       "zone_3_adult_pedestrians_count                 float64\n",
       "zone_3_child_pedestrians_count                 float64\n",
       "zone_99_pedestrians_count                      float64\n",
       "zone_99_ltr_pedestrians_count                  float64\n",
       "zone_99_rtl_pedestrians_count                  float64\n",
       "zone_99_adult_pedestrians_count                float64\n",
       "zone_99_child_pedestrians_count                float64\n",
       "dtype: object"
      ]
     },
     "execution_count": 19,
     "metadata": {},
     "output_type": "execute_result"
    }
   ],
   "source": [
    "# Read the data\n",
    "if data_source == \"dropzone\":\n",
    "    data2betested = pd.read_csv(\n",
    "        fp\n",
    "        , sep=','\n",
    "        ,parse_dates=['timestamp']\n",
    "        ,low_memory=False\n",
    "    )\n",
    "    print(\"dropzone\")\n",
    "else:\n",
    "    r = requests.get(fp, verify=False)  \n",
    "    r.encoding = 'utf-8'\n",
    "    data2betested = pd.read_csv(\n",
    "        io.StringIO(r.text)\n",
    "        ,parse_dates=['timestamp']\n",
    "        # KONVERTIERE DAS SAS DATUM IN EIN UNIXDATUM UND FORMATIERE ES\n",
    "        #, date_parser=lambda s: epoch + datetime.timedelta(days=int(s))\n",
    "        ,low_memory=False)\n",
    "    print(\"web\")\n",
    "\n",
    "data2betested.dtypes"
   ]
  },
  {
   "cell_type": "code",
   "execution_count": 20,
   "metadata": {},
   "outputs": [],
   "source": [
    "date_today = now.strftime(\"%Y-%m-%d\")\n",
    "year_today = now.strftime(\"%Y\")\n",
    "month_today = now.strftime(\"%m\")\n",
    "day_today = now.strftime(\"%d\")"
   ]
  },
  {
   "cell_type": "markdown",
   "metadata": {},
   "source": [
    "Berechne weitere Attribute falls notwendig"
   ]
  },
  {
   "cell_type": "code",
   "execution_count": 21,
   "metadata": {},
   "outputs": [
    {
     "data": {
      "text/html": [
       "<div>\n",
       "<style scoped>\n",
       "    .dataframe tbody tr th:only-of-type {\n",
       "        vertical-align: middle;\n",
       "    }\n",
       "\n",
       "    .dataframe tbody tr th {\n",
       "        vertical-align: top;\n",
       "    }\n",
       "\n",
       "    .dataframe thead th {\n",
       "        text-align: right;\n",
       "    }\n",
       "</style>\n",
       "<table border=\"1\" class=\"dataframe\">\n",
       "  <thead>\n",
       "    <tr style=\"text-align: right;\">\n",
       "      <th></th>\n",
       "      <th>timestamp</th>\n",
       "      <th>location_id</th>\n",
       "      <th>location_name</th>\n",
       "      <th>ltr_label</th>\n",
       "      <th>rtl_label</th>\n",
       "      <th>weather_condition</th>\n",
       "      <th>temperature</th>\n",
       "      <th>...</th>\n",
       "      <th>day_str</th>\n",
       "      <th>hour_str</th>\n",
       "      <th>weekday</th>\n",
       "      <th>weekday_name</th>\n",
       "      <th>year</th>\n",
       "      <th>month</th>\n",
       "      <th>day</th>\n",
       "    </tr>\n",
       "  </thead>\n",
       "  <tbody>\n",
       "    <tr>\n",
       "      <th>31643</th>\n",
       "      <td>2022-12-12 09:00:00+00:00</td>\n",
       "      <td>330</td>\n",
       "      <td>Bahnhofstrasse (Süd)</td>\n",
       "      <td>Bürkliplatz</td>\n",
       "      <td>Hauptbahnhof</td>\n",
       "      <td>cloudy</td>\n",
       "      <td>-6</td>\n",
       "      <td>...</td>\n",
       "      <td>2022-12-12 09:00</td>\n",
       "      <td>09:00</td>\n",
       "      <td>0</td>\n",
       "      <td>Monday</td>\n",
       "      <td>2022</td>\n",
       "      <td>12</td>\n",
       "      <td>12</td>\n",
       "    </tr>\n",
       "    <tr>\n",
       "      <th>31642</th>\n",
       "      <td>2022-12-12 09:00:00+00:00</td>\n",
       "      <td>331</td>\n",
       "      <td>Bahnhofstrasse (Nord)</td>\n",
       "      <td>Bürkliplatz</td>\n",
       "      <td>Hauptbahnhof</td>\n",
       "      <td>cloudy</td>\n",
       "      <td>-6</td>\n",
       "      <td>...</td>\n",
       "      <td>2022-12-12 09:00</td>\n",
       "      <td>09:00</td>\n",
       "      <td>0</td>\n",
       "      <td>Monday</td>\n",
       "      <td>2022</td>\n",
       "      <td>12</td>\n",
       "      <td>12</td>\n",
       "    </tr>\n",
       "    <tr>\n",
       "      <th>31641</th>\n",
       "      <td>2022-12-12 09:00:00+00:00</td>\n",
       "      <td>329</td>\n",
       "      <td>Bahnhofstrasse (Mitte)</td>\n",
       "      <td>Hauptbahnhof</td>\n",
       "      <td>Bürkliplatz</td>\n",
       "      <td>cloudy</td>\n",
       "      <td>-6</td>\n",
       "      <td>...</td>\n",
       "      <td>2022-12-12 09:00</td>\n",
       "      <td>09:00</td>\n",
       "      <td>0</td>\n",
       "      <td>Monday</td>\n",
       "      <td>2022</td>\n",
       "      <td>12</td>\n",
       "      <td>12</td>\n",
       "    </tr>\n",
       "    <tr>\n",
       "      <th>31640</th>\n",
       "      <td>2022-12-12 08:00:00+00:00</td>\n",
       "      <td>330</td>\n",
       "      <td>Bahnhofstrasse (Süd)</td>\n",
       "      <td>Bürkliplatz</td>\n",
       "      <td>Hauptbahnhof</td>\n",
       "      <td>cloudy</td>\n",
       "      <td>-7</td>\n",
       "      <td>...</td>\n",
       "      <td>2022-12-12 08:00</td>\n",
       "      <td>08:00</td>\n",
       "      <td>0</td>\n",
       "      <td>Monday</td>\n",
       "      <td>2022</td>\n",
       "      <td>12</td>\n",
       "      <td>12</td>\n",
       "    </tr>\n",
       "    <tr>\n",
       "      <th>31639</th>\n",
       "      <td>2022-12-12 08:00:00+00:00</td>\n",
       "      <td>331</td>\n",
       "      <td>Bahnhofstrasse (Nord)</td>\n",
       "      <td>Bürkliplatz</td>\n",
       "      <td>Hauptbahnhof</td>\n",
       "      <td>cloudy</td>\n",
       "      <td>-7</td>\n",
       "      <td>...</td>\n",
       "      <td>2022-12-12 08:00</td>\n",
       "      <td>08:00</td>\n",
       "      <td>0</td>\n",
       "      <td>Monday</td>\n",
       "      <td>2022</td>\n",
       "      <td>12</td>\n",
       "      <td>12</td>\n",
       "    </tr>\n",
       "    <tr>\n",
       "      <th>...</th>\n",
       "      <td>...</td>\n",
       "      <td>...</td>\n",
       "      <td>...</td>\n",
       "      <td>...</td>\n",
       "      <td>...</td>\n",
       "      <td>...</td>\n",
       "      <td>...</td>\n",
       "      <td>...</td>\n",
       "      <td>...</td>\n",
       "      <td>...</td>\n",
       "      <td>...</td>\n",
       "      <td>...</td>\n",
       "      <td>...</td>\n",
       "      <td>...</td>\n",
       "      <td>...</td>\n",
       "    </tr>\n",
       "    <tr>\n",
       "      <th>3</th>\n",
       "      <td>2021-09-28 23:00:00+00:00</td>\n",
       "      <td>329</td>\n",
       "      <td>Bahnhofstrasse (Mitte)</td>\n",
       "      <td>Hauptbahnhof</td>\n",
       "      <td>Bürkliplatz</td>\n",
       "      <td>cloudy</td>\n",
       "      <td>13</td>\n",
       "      <td>...</td>\n",
       "      <td>2021-09-28 23:00</td>\n",
       "      <td>23:00</td>\n",
       "      <td>1</td>\n",
       "      <td>Tuesday</td>\n",
       "      <td>2021</td>\n",
       "      <td>9</td>\n",
       "      <td>28</td>\n",
       "    </tr>\n",
       "    <tr>\n",
       "      <th>5</th>\n",
       "      <td>2021-09-28 23:00:00+00:00</td>\n",
       "      <td>330</td>\n",
       "      <td>Bahnhofstrasse (Süd)</td>\n",
       "      <td>Bürkliplatz</td>\n",
       "      <td>Hauptbahnhof</td>\n",
       "      <td>cloudy</td>\n",
       "      <td>13</td>\n",
       "      <td>...</td>\n",
       "      <td>2021-09-28 23:00</td>\n",
       "      <td>23:00</td>\n",
       "      <td>1</td>\n",
       "      <td>Tuesday</td>\n",
       "      <td>2021</td>\n",
       "      <td>9</td>\n",
       "      <td>28</td>\n",
       "    </tr>\n",
       "    <tr>\n",
       "      <th>2</th>\n",
       "      <td>2021-09-28 22:00:00+00:00</td>\n",
       "      <td>330</td>\n",
       "      <td>Bahnhofstrasse (Süd)</td>\n",
       "      <td>Bürkliplatz</td>\n",
       "      <td>Hauptbahnhof</td>\n",
       "      <td>cloudy</td>\n",
       "      <td>14</td>\n",
       "      <td>...</td>\n",
       "      <td>2021-09-28 22:00</td>\n",
       "      <td>22:00</td>\n",
       "      <td>1</td>\n",
       "      <td>Tuesday</td>\n",
       "      <td>2021</td>\n",
       "      <td>9</td>\n",
       "      <td>28</td>\n",
       "    </tr>\n",
       "    <tr>\n",
       "      <th>1</th>\n",
       "      <td>2021-09-28 22:00:00+00:00</td>\n",
       "      <td>331</td>\n",
       "      <td>Bahnhofstrasse (Nord)</td>\n",
       "      <td>Bürkliplatz</td>\n",
       "      <td>Hauptbahnhof</td>\n",
       "      <td>cloudy</td>\n",
       "      <td>14</td>\n",
       "      <td>...</td>\n",
       "      <td>2021-09-28 22:00</td>\n",
       "      <td>22:00</td>\n",
       "      <td>1</td>\n",
       "      <td>Tuesday</td>\n",
       "      <td>2021</td>\n",
       "      <td>9</td>\n",
       "      <td>28</td>\n",
       "    </tr>\n",
       "    <tr>\n",
       "      <th>0</th>\n",
       "      <td>2021-09-28 22:00:00+00:00</td>\n",
       "      <td>329</td>\n",
       "      <td>Bahnhofstrasse (Mitte)</td>\n",
       "      <td>Hauptbahnhof</td>\n",
       "      <td>Bürkliplatz</td>\n",
       "      <td>cloudy</td>\n",
       "      <td>14</td>\n",
       "      <td>...</td>\n",
       "      <td>2021-09-28 22:00</td>\n",
       "      <td>22:00</td>\n",
       "      <td>1</td>\n",
       "      <td>Tuesday</td>\n",
       "      <td>2021</td>\n",
       "      <td>9</td>\n",
       "      <td>28</td>\n",
       "    </tr>\n",
       "  </tbody>\n",
       "</table>\n",
       "<p>31644 rows × 45 columns</p>\n",
       "</div>"
      ],
      "text/plain": [
       "                      timestamp  location_id           location_name     ltr_label     rtl_label  \\\n",
       "31643 2022-12-12 09:00:00+00:00          330    Bahnhofstrasse (Süd)   Bürkliplatz  Hauptbahnhof   \n",
       "31642 2022-12-12 09:00:00+00:00          331   Bahnhofstrasse (Nord)   Bürkliplatz  Hauptbahnhof   \n",
       "31641 2022-12-12 09:00:00+00:00          329  Bahnhofstrasse (Mitte)  Hauptbahnhof   Bürkliplatz   \n",
       "31640 2022-12-12 08:00:00+00:00          330    Bahnhofstrasse (Süd)   Bürkliplatz  Hauptbahnhof   \n",
       "31639 2022-12-12 08:00:00+00:00          331   Bahnhofstrasse (Nord)   Bürkliplatz  Hauptbahnhof   \n",
       "...                         ...          ...                     ...           ...           ...   \n",
       "3     2021-09-28 23:00:00+00:00          329  Bahnhofstrasse (Mitte)  Hauptbahnhof   Bürkliplatz   \n",
       "5     2021-09-28 23:00:00+00:00          330    Bahnhofstrasse (Süd)   Bürkliplatz  Hauptbahnhof   \n",
       "2     2021-09-28 22:00:00+00:00          330    Bahnhofstrasse (Süd)   Bürkliplatz  Hauptbahnhof   \n",
       "1     2021-09-28 22:00:00+00:00          331   Bahnhofstrasse (Nord)   Bürkliplatz  Hauptbahnhof   \n",
       "0     2021-09-28 22:00:00+00:00          329  Bahnhofstrasse (Mitte)  Hauptbahnhof   Bürkliplatz   \n",
       "\n",
       "      weather_condition  temperature  ...           day_str  hour_str  weekday  weekday_name  \\\n",
       "31643            cloudy           -6  ...  2022-12-12 09:00     09:00        0        Monday   \n",
       "31642            cloudy           -6  ...  2022-12-12 09:00     09:00        0        Monday   \n",
       "31641            cloudy           -6  ...  2022-12-12 09:00     09:00        0        Monday   \n",
       "31640            cloudy           -7  ...  2022-12-12 08:00     08:00        0        Monday   \n",
       "31639            cloudy           -7  ...  2022-12-12 08:00     08:00        0        Monday   \n",
       "...                 ...          ...  ...               ...       ...      ...           ...   \n",
       "3                cloudy           13  ...  2021-09-28 23:00     23:00        1       Tuesday   \n",
       "5                cloudy           13  ...  2021-09-28 23:00     23:00        1       Tuesday   \n",
       "2                cloudy           14  ...  2021-09-28 22:00     22:00        1       Tuesday   \n",
       "1                cloudy           14  ...  2021-09-28 22:00     22:00        1       Tuesday   \n",
       "0                cloudy           14  ...  2021-09-28 22:00     22:00        1       Tuesday   \n",
       "\n",
       "       year  month  day  \n",
       "31643  2022     12   12  \n",
       "31642  2022     12   12  \n",
       "31641  2022     12   12  \n",
       "31640  2022     12   12  \n",
       "31639  2022     12   12  \n",
       "...     ...    ...  ...  \n",
       "3      2021      9   28  \n",
       "5      2021      9   28  \n",
       "2      2021      9   28  \n",
       "1      2021      9   28  \n",
       "0      2021      9   28  \n",
       "\n",
       "[31644 rows x 45 columns]"
      ]
     },
     "execution_count": 21,
     "metadata": {},
     "output_type": "execute_result"
    }
   ],
   "source": [
    "data2betested = (\n",
    "    data2betested\n",
    "    .copy()\n",
    "    .assign(\n",
    "        #Aktualisierungs_Datum_str= lambda x: x.Aktualisierungs_Datum.astype(str),\n",
    "        timestamp_str = lambda x: x.timestamp.astype(str),\n",
    "        day_str = lambda x: x.timestamp.dt.strftime(\"%Y-%m-%d %H:%M\"),       \n",
    "        hour_str = lambda x: x.timestamp.dt.strftime(\"%H:%M\"),  \n",
    "        weekday = lambda x: x.timestamp.dt.dayofweek,\n",
    "        weekday_name = lambda x: x.timestamp.dt.day_name(),\n",
    "        year = lambda x: x.timestamp.dt.year,\n",
    "        month = lambda x: x.timestamp.dt.month,\n",
    "        day = lambda x: x.timestamp.dt.day\n",
    "    )\n",
    "    .sort_values('timestamp', ascending=False)\n",
    "    )\n",
    "data2betested.columns\n",
    "#data2betested.dtypes\n",
    "data2betested"
   ]
  },
  {
   "cell_type": "markdown",
   "metadata": {
    "colab_type": "text",
    "id": "1dTPVmmsgOVx"
   },
   "source": [
    "### Verwende das Datum als Index\n",
    "\n",
    "While we did already parse the `datetime` column into the respective datetime type, it currently is just a regular column. \n",
    "**To enable quick and convenient queries and aggregations, we need to turn it into the index of the DataFrame**"
   ]
  },
  {
   "cell_type": "code",
   "execution_count": 22,
   "metadata": {},
   "outputs": [],
   "source": [
    "data2betested = data2betested.set_index(\"timestamp\")"
   ]
  },
  {
   "cell_type": "code",
   "execution_count": 23,
   "metadata": {},
   "outputs": [
    {
     "name": "stdout",
     "output_type": "stream",
     "text": [
      "<class 'pandas.core.frame.DataFrame'>\n",
      "DatetimeIndex: 31644 entries, 2022-12-12 09:00:00+00:00 to 2021-09-28 22:00:00+00:00\n",
      "Data columns (total 44 columns):\n",
      " #   Column                           Non-Null Count  Dtype  \n",
      "---  ------                           --------------  -----  \n",
      " 0   location_id                      31644 non-null  int64  \n",
      " 1   location_name                    31644 non-null  object \n",
      " 2   ltr_label                        31644 non-null  object \n",
      " 3   rtl_label                        31644 non-null  object \n",
      " 4   weather_condition                31644 non-null  object \n",
      " 5   temperature                      31644 non-null  float64\n",
      " 6   pedestrians_count                31644 non-null  int64  \n",
      " 7   unverified                       31644 non-null  bool   \n",
      " 8   ltr_pedestrians_count            31644 non-null  int64  \n",
      " 9   rtl_pedestrians_count            31644 non-null  int64  \n",
      " 10  adult_pedestrians_count          31644 non-null  int64  \n",
      " 11  child_pedestrians_count          31644 non-null  int64  \n",
      " 12  adult_ltr_pedestrians_count      31644 non-null  int64  \n",
      " 13  adult_rtl_pedestrians_count      31644 non-null  int64  \n",
      " 14  child_ltr_pedestrians_count      31644 non-null  int64  \n",
      " 15  child_rtl_pedestrians_count      31644 non-null  int64  \n",
      " 16  zone_1_pedestrians_count         29832 non-null  float64\n",
      " 17  zone_1_ltr_pedestrians_count     29832 non-null  float64\n",
      " 18  zone_1_rtl_pedestrians_count     29832 non-null  float64\n",
      " 19  zone_1_adult_pedestrians_count   29832 non-null  float64\n",
      " 20  zone_1_child_pedestrians_count   29832 non-null  float64\n",
      " 21  zone_2_pedestrians_count         29832 non-null  float64\n",
      " 22  zone_2_ltr_pedestrians_count     29832 non-null  float64\n",
      " 23  zone_2_rtl_pedestrians_count     29832 non-null  float64\n",
      " 24  zone_2_adult_pedestrians_count   29832 non-null  float64\n",
      " 25  zone_2_child_pedestrians_count   29832 non-null  float64\n",
      " 26  zone_3_pedestrians_count         29832 non-null  float64\n",
      " 27  zone_3_ltr_pedestrians_count     29832 non-null  float64\n",
      " 28  zone_3_rtl_pedestrians_count     29832 non-null  float64\n",
      " 29  zone_3_adult_pedestrians_count   29832 non-null  float64\n",
      " 30  zone_3_child_pedestrians_count   29832 non-null  float64\n",
      " 31  zone_99_pedestrians_count        336 non-null    float64\n",
      " 32  zone_99_ltr_pedestrians_count    336 non-null    float64\n",
      " 33  zone_99_rtl_pedestrians_count    336 non-null    float64\n",
      " 34  zone_99_adult_pedestrians_count  336 non-null    float64\n",
      " 35  zone_99_child_pedestrians_count  336 non-null    float64\n",
      " 36  timestamp_str                    31644 non-null  object \n",
      " 37  day_str                          31644 non-null  object \n",
      " 38  hour_str                         31644 non-null  object \n",
      " 39  weekday                          31644 non-null  int64  \n",
      " 40  weekday_name                     31644 non-null  object \n",
      " 41  year                             31644 non-null  int64  \n",
      " 42  month                            31644 non-null  int64  \n",
      " 43  day                              31644 non-null  int64  \n",
      "dtypes: bool(1), float64(21), int64(14), object(8)\n",
      "memory usage: 10.7+ MB\n"
     ]
    },
    {
     "data": {
      "text/plain": [
       "Int64Index([2022, 2021], dtype='int64', name='timestamp')"
      ]
     },
     "execution_count": 23,
     "metadata": {},
     "output_type": "execute_result"
    }
   ],
   "source": [
    "data2betested.info()\n",
    "data2betested.index.year.unique()"
   ]
  },
  {
   "cell_type": "markdown",
   "metadata": {},
   "source": [
    "### Test mit animierten Grafiken\n",
    "\n",
    "Inspiration von:\n",
    " - https://jackmckew.dev/creating-animated-plots-with-pandas_alive.html resp. Github-Page: https://github.com/JackMcKew/pandas_alive\n",
    " - Details zu Paramtern:  https://jackmckew.github.io/pandas_alive/_modules/pandas_alive/plotting.html\n",
    " \n",
    "Default figsize is (6.5, 3.5). It is in inches. Calculator for in-->px under https://www.ninjaunits.com/converters/pixels/inches-pixels/#:~:text=To%20convert%20inches%20to%20pixels%2C%20you%20have%20to%20multiply%20inches,pixels%20on%20a%20computer%20screen."
   ]
  },
  {
   "cell_type": "code",
   "execution_count": 24,
   "metadata": {},
   "outputs": [
    {
     "data": {
      "text/plain": [
       "Index(['location_id', 'location_name', 'ltr_label', 'rtl_label', 'weather_condition',\n",
       "       'temperature', 'pedestrians_count', 'unverified', 'ltr_pedestrians_count',\n",
       "       'rtl_pedestrians_count', 'adult_pedestrians_count', 'child_pedestrians_count',\n",
       "       'adult_ltr_pedestrians_count', 'adult_rtl_pedestrians_count', 'child_ltr_pedestrians_count',\n",
       "       'child_rtl_pedestrians_count', 'zone_1_pedestrians_count', 'zone_1_ltr_pedestrians_count',\n",
       "       'zone_1_rtl_pedestrians_count', 'zone_1_adult_pedestrians_count',\n",
       "       'zone_1_child_pedestrians_count', 'zone_2_pedestrians_count',\n",
       "       'zone_2_ltr_pedestrians_count', 'zone_2_rtl_pedestrians_count',\n",
       "       'zone_2_adult_pedestrians_count', 'zone_2_child_pedestrians_count',\n",
       "       'zone_3_pedestrians_count', 'zone_3_ltr_pedestrians_count', 'zone_3_rtl_pedestrians_count',\n",
       "       'zone_3_adult_pedestrians_count', 'zone_3_child_pedestrians_count',\n",
       "       'zone_99_pedestrians_count', 'zone_99_ltr_pedestrians_count',\n",
       "       'zone_99_rtl_pedestrians_count', 'zone_99_adult_pedestrians_count',\n",
       "       'zone_99_child_pedestrians_count', 'timestamp_str', 'day_str', 'hour_str', 'weekday',\n",
       "       'weekday_name', 'year', 'month', 'day'],\n",
       "      dtype='object')"
      ]
     },
     "execution_count": 24,
     "metadata": {},
     "output_type": "execute_result"
    }
   ],
   "source": [
    "data2betested.columns"
   ]
  },
  {
   "cell_type": "code",
   "execution_count": 25,
   "metadata": {},
   "outputs": [
    {
     "data": {
      "text/plain": [
       "Index(['timestamp_str', 'location_name', 'pedestrians_count', 'ltr_pedestrians_count',\n",
       "       'rtl_pedestrians_count'],\n",
       "      dtype='object')"
      ]
     },
     "execution_count": 25,
     "metadata": {},
     "output_type": "execute_result"
    }
   ],
   "source": [
    "myAnimation = data2betested.loc[\"2022-11-26 12\":date_today]\n",
    "#myAnimation= myAnimation[['timestamp_str', 'location_name', 'pedestrians_count', 'ltr_pedestrians_count', 'rtl_pedestrians_count']].query('location_name== \"Bahnhofstrasse (Mitte)\"').rename(columns=rename_cols)\n",
    "myAnimation= myAnimation[['timestamp_str', 'location_name', 'pedestrians_count', 'ltr_pedestrians_count', 'rtl_pedestrians_count']].query('location_name!= \"Bahnhofstrasse (Nord)\"')\n",
    "myAnimation.head(3)\n",
    "myAnimation.columns"
   ]
  },
  {
   "cell_type": "code",
   "execution_count": 26,
   "metadata": {},
   "outputs": [
    {
     "data": {
      "text/html": [
       "<div>\n",
       "<style scoped>\n",
       "    .dataframe tbody tr th:only-of-type {\n",
       "        vertical-align: middle;\n",
       "    }\n",
       "\n",
       "    .dataframe tbody tr th {\n",
       "        vertical-align: top;\n",
       "    }\n",
       "\n",
       "    .dataframe thead th {\n",
       "        text-align: right;\n",
       "    }\n",
       "</style>\n",
       "<table border=\"1\" class=\"dataframe\">\n",
       "  <thead>\n",
       "    <tr style=\"text-align: right;\">\n",
       "      <th>location_name</th>\n",
       "      <th>Bahnhofstrasse (Mitte)</th>\n",
       "      <th>Bahnhofstrasse (Süd)</th>\n",
       "    </tr>\n",
       "    <tr>\n",
       "      <th>timestamp</th>\n",
       "      <th></th>\n",
       "      <th></th>\n",
       "    </tr>\n",
       "  </thead>\n",
       "  <tbody>\n",
       "    <tr>\n",
       "      <th>2022-11-26 12:00:00+00:00</th>\n",
       "      <td>6331</td>\n",
       "      <td>3016</td>\n",
       "    </tr>\n",
       "    <tr>\n",
       "      <th>2022-11-26 13:00:00+00:00</th>\n",
       "      <td>7220</td>\n",
       "      <td>3459</td>\n",
       "    </tr>\n",
       "  </tbody>\n",
       "</table>\n",
       "</div>"
      ],
      "text/plain": [
       "location_name              Bahnhofstrasse (Mitte)  Bahnhofstrasse (Süd)\n",
       "timestamp                                                              \n",
       "2022-11-26 12:00:00+00:00                    6331                  3016\n",
       "2022-11-26 13:00:00+00:00                    7220                  3459"
      ]
     },
     "execution_count": 26,
     "metadata": {},
     "output_type": "execute_result"
    }
   ],
   "source": [
    "#myAnimation_wide=pd.pivot_table(myAnimation, values=['pedestrians_count','ltr_pedestrians_count', 'rtl_pedestrians_count'], index='timestamp', columns='location_name')\n",
    "myAnimation_wide=pd.pivot_table(myAnimation, values='pedestrians_count', index='timestamp', columns='location_name')\n",
    "myAnimation_wide.head(2)"
   ]
  },
  {
   "cell_type": "code",
   "execution_count": 27,
   "metadata": {},
   "outputs": [
    {
     "name": "stdout",
     "output_type": "stream",
     "text": [
      "{'1. Sonntagsverkauf': datetime.datetime(2022, 11, 27, 0, 0), '2. Sonntagsverkauf': datetime.datetime(2022, 12, 4, 0, 0)}\n"
     ]
    }
   ],
   "source": [
    "myLabelEvents = {'1. Sonntagsverkauf':datetime.datetime.strptime(\"27/11/2022\", \"%d/%m/%Y\"),\n",
    "                 '2. Sonntagsverkauf':datetime.datetime.strptime(\"04/12/2022\", \"%d/%m/%Y\")\n",
    "                }\n",
    "\n",
    "print(myLabelEvents)"
   ]
  },
  {
   "cell_type": "code",
   "execution_count": 28,
   "metadata": {},
   "outputs": [
    {
     "name": "stdout",
     "output_type": "stream",
     "text": [
      "Generating LineChart, plotting ['Bahnhofstrasse (Mitte)', 'Bahnhofstrasse (Süd)']\n"
     ]
    },
    {
     "data": {
      "application/vnd.jupyter.widget-view+json": {
       "model_id": "e5a4d76c03f14725bd81ebd3df01b5d4",
       "version_major": 2,
       "version_minor": 0
      },
      "text/plain": [
       "  0%|          | 0/1906 [00:00<?, ?it/s]"
      ]
     },
     "metadata": {},
     "output_type": "display_data"
    },
    {
     "name": "stdout",
     "output_type": "stream",
     "text": [
      "terminée\n"
     ]
    }
   ],
   "source": [
    "import pandas_alive\n",
    "\n",
    "myTitle=\"Passantenfrequenzen seit dem 26. November 2022\"\n",
    "myZeitformat = '%a: %H:00 Uhr'\n",
    "\n",
    "\n",
    "myAnimation_wide.plot_animated(filename='./output_hystreet/hystreet_xmas_shopping_bhfstr_mitte_sued_notFixedMax.gif'\n",
    "                               , kind='line'\n",
    "                               , steps_per_period = 5\n",
    "                               , period_length = 100\n",
    "                               , period_fmt = myZeitformat\n",
    "                               , title=myTitle\n",
    "                               , cmap='dark24'\n",
    "                               , tick_label_size=8\n",
    "                               , period_label={'x':0.75,'y':0.6}\n",
    "                               , period_summary_func=None\n",
    "                               , fixed_max=False\n",
    "                               , figsize=(8.53, 4.8)                                \n",
    "                               , dpi=150\n",
    "                               , writer=None\n",
    "                               , enable_progress_bar=True\n",
    "                               , line_width=2\n",
    "                               , fill_under_line_color=None\n",
    "                               , add_legend=True                                   \n",
    "                               #, label_events={'1. Sonntagsverkauf':datetime.datetime.strptime(\"27/11/2022\", \"%d/%m/%Y\"),'2. Sonntagsverkauf':datetime.datetime.strptime(\"04/12/2022\", \"%d/%m/%Y\")}\n",
    "                               #, kwargs={}\n",
    "                               #, fig=<Figure size 936x504 with 1 Axes>                         \n",
    "                              )\n",
    "print('terminée')"
   ]
  },
  {
   "cell_type": "code",
   "execution_count": 29,
   "metadata": {},
   "outputs": [
    {
     "name": "stdout",
     "output_type": "stream",
     "text": [
      "Generating LineChart, plotting ['Bahnhofstrasse (Mitte)', 'Bahnhofstrasse (Süd)']\n"
     ]
    },
    {
     "data": {
      "application/vnd.jupyter.widget-view+json": {
       "model_id": "9c0b4abd8f7d49bfbeea988c40ac5e81",
       "version_major": 2,
       "version_minor": 0
      },
      "text/plain": [
       "  0%|          | 0/1906 [00:00<?, ?it/s]"
      ]
     },
     "metadata": {},
     "output_type": "display_data"
    },
    {
     "name": "stdout",
     "output_type": "stream",
     "text": [
      "terminée\n"
     ]
    }
   ],
   "source": [
    "#mit fixed Maximums\n",
    "myZeitformat = \"%H Uhr: %a %d.%m.%y\"\n",
    "\n",
    "myAnimation_wide.plot_animated(filename='./output_hystreet/hystreet_xmas_shopping_bhfstr_mitte_sued_FixedMax_gross.gif'\n",
    "                               , kind='line'\n",
    "                               , steps_per_period = 5\n",
    "                               , period_length = 100\n",
    "                               , period_fmt = myZeitformat\n",
    "                               , title=myTitle\n",
    "                               , cmap='dark24'\n",
    "                               , tick_label_size=9\n",
    "                               , period_label={'x':0.35,'y':0.7}\n",
    "                               , period_summary_func=None\n",
    "                               , fixed_max=True\n",
    "                               , dpi=150\n",
    "                               , figsize=(8.53, 4.8)\n",
    "                               , writer=None\n",
    "                               , enable_progress_bar=True\n",
    "                               , line_width=2\n",
    "                               , fill_under_line_color=None\n",
    "                               , add_legend=True\n",
    "                               #, label_events={'1. Sonntagsverkauf':datetime.datetime.strptime(\"27/11/2022\", \"%d/%m/%Y\"),'2. Sonntagsverkauf':datetime.datetime.strptime(\"04/12/2022\", \"%d/%m/%Y\")}\n",
    "                               #, kwargs={}\n",
    "                               #, fig=<Figure size 936x504 with 1 Axes>                              \n",
    "                              )\n",
    "print('terminée')\n",
    "#default figsize is (6.5, 3.5). It is in inches. Calculator for in-->px under https://www.ninjaunits.com/converters/pixels/inches-pixels/#:~:text=To%20convert%20inches%20to%20pixels%2C%20you%20have%20to%20multiply%20inches,pixels%20on%20a%20computer%20screen."
   ]
  },
  {
   "cell_type": "code",
   "execution_count": 40,
   "metadata": {},
   "outputs": [
    {
     "name": "stdout",
     "output_type": "stream",
     "text": [
      "Generating LineChart, plotting ['Bahnhofstrasse (Mitte)', 'Bahnhofstrasse (Süd)']\n"
     ]
    },
    {
     "data": {
      "application/vnd.jupyter.widget-view+json": {
       "model_id": "32daad4b65d1467bbb308192409f7cfc",
       "version_major": 2,
       "version_minor": 0
      },
      "text/plain": [
       "  0%|          | 0/1201 [00:00<?, ?it/s]"
      ]
     },
     "metadata": {},
     "output_type": "display_data"
    },
    {
     "name": "stdout",
     "output_type": "stream",
     "text": [
      "terminée\n"
     ]
    }
   ],
   "source": [
    "#mit fixed Maximums\n",
    "myZeitformat = \"%H Uhr: %a %d.%m.%y\"\n",
    "\n",
    "myAnimation_wide.plot_animated(filename='./output_hystreet/hystreet_xmas_shopping_bhfstr_mitte_sued_FixedMax_klein.gif'\n",
    "                               , kind='line'\n",
    "                               , steps_per_period = 5\n",
    "                               , period_length = 100\n",
    "                               , period_fmt = myZeitformat\n",
    "                               , title=myTitle\n",
    "                               , cmap='dark24'\n",
    "                               , tick_label_size=7\n",
    "                               , period_label={'x':0.35,'y':0.7}\n",
    "                               , period_summary_func=None\n",
    "                               , fixed_max=True\n",
    "                               , dpi=144\n",
    "                               , writer=None\n",
    "                               , enable_progress_bar=True\n",
    "                               , line_width=2\n",
    "                               , fill_under_line_color=None\n",
    "                               , add_legend=True\n",
    "                               #, label_events={'1. Sonntagsverkauf':datetime.datetime.strptime(\"27/11/2022\", \"%d/%m/%Y\"),'2. Sonntagsverkauf':datetime.datetime.strptime(\"04/12/2022\", \"%d/%m/%Y\")}\n",
    "                               #, kwargs={}\n",
    "                               #, fig=<Figure size 936x504 with 1 Axes>\n",
    "                               #, figsize=array([6.5, 3.5])                               \n",
    "                              )\n",
    "print('terminée')"
   ]
  },
  {
   "cell_type": "markdown",
   "metadata": {},
   "source": [
    "-------------------------------\n",
    "\n",
    "### Test via mapplotlib animation\n",
    " - https://towardsdatascience.com/how-to-create-animated-graphs-in-python-bb619cc2dec1 und\n"
   ]
  },
  {
   "cell_type": "code",
   "execution_count": 31,
   "metadata": {},
   "outputs": [],
   "source": [
    "import matplotlib\n",
    "import matplotlib.pyplot as plt\n",
    "import matplotlib.animation as animation"
   ]
  },
  {
   "cell_type": "code",
   "execution_count": 32,
   "metadata": {},
   "outputs": [],
   "source": [
    "plt.rcParams['animation.ffmpeg_path'] = 'C:Users/sszsim/.conda/pkgs/ffmpeg'\n",
    "#plt.rcParams"
   ]
  },
  {
   "cell_type": "code",
   "execution_count": 33,
   "metadata": {},
   "outputs": [
    {
     "data": {
      "text/plain": [
       "['pillow', 'html']"
      ]
     },
     "execution_count": 33,
     "metadata": {},
     "output_type": "execute_result"
    }
   ],
   "source": [
    "#welche Writer stehen mir zur Verfügung?\n",
    "myWriters=animation.writers.list()\n",
    "myWriters"
   ]
  },
  {
   "cell_type": "code",
   "execution_count": 34,
   "metadata": {},
   "outputs": [],
   "source": [
    "#nitialize a writer which uses ffmpeg and records at 20 fps with a bitrate of 1800.\n",
    "\n",
    "Writer = animation.writers['pillow']\n",
    "writer = Writer(fps=20, metadata=dict(artist='Me'), bitrate=1800)"
   ]
  },
  {
   "cell_type": "code",
   "execution_count": null,
   "metadata": {},
   "outputs": [],
   "source": []
  },
  {
   "cell_type": "markdown",
   "metadata": {},
   "source": [
    "---------\n",
    "test anhand von https://matplotlib.org/stable/api/_as_gen/matplotlib.animation.FuncAnimation.html"
   ]
  },
  {
   "cell_type": "code",
   "execution_count": null,
   "metadata": {},
   "outputs": [],
   "source": [
    "plt.rcParams[\"figure.figsize\"] = [7.50, 3.50]\n",
    "plt.rcParams[\"figure.autolayout\"] = True\n",
    "plt.rcParams['animation.ffmpeg_path'] = 'ffmpeg'\n",
    "\n",
    "fig = plt.figure()\n",
    "ax = fig.add_subplot(111)\n",
    "#div = make_axes_locatable(ax)\n",
    "#cax = div.append_axes('right', '5%', '5%')\n",
    "data = np.random.rand(5, 5)\n",
    "im = ax.imshow(data)\n",
    "#cb = fig.colorbar(im, cax=cax)\n",
    "tx = ax.set_title('Frame 0')"
   ]
  },
  {
   "cell_type": "code",
   "execution_count": null,
   "metadata": {},
   "outputs": [],
   "source": [
    "cmap = [\"copper\", 'RdBu_r', 'Oranges', 'cividis', 'hot', 'plasma']\n",
    "\n",
    "def animate(i):\n",
    "   #cax.cla()\n",
    "   data = np.random.rand(5, 5)\n",
    "   im = ax.imshow(data, cmap=cmap[i%len(cmap)])\n",
    "   #fig.colorbar(im, cax=ax)\n",
    "   tx.set_text('Frame {0}'.format(i))\n",
    "\n",
    "ani = animation.FuncAnimation(fig, animate, frames=10)\n",
    "FFwriter = animation.FFMpegWriter()\n",
    "ani.save('hystreet_plot.mp4', writer=FFwriter)\n"
   ]
  },
  {
   "cell_type": "markdown",
   "metadata": {},
   "source": [
    "---------"
   ]
  }
 ],
 "metadata": {
  "kernelspec": {
   "display_name": "Python 3 (ipykernel)",
   "language": "python",
   "name": "python3"
  },
  "language_info": {
   "codemirror_mode": {
    "name": "ipython",
    "version": 3
   },
   "file_extension": ".py",
   "mimetype": "text/x-python",
   "name": "python",
   "nbconvert_exporter": "python",
   "pygments_lexer": "ipython3",
   "version": "3.7.11"
  }
 },
 "nbformat": 4,
 "nbformat_minor": 4
}
