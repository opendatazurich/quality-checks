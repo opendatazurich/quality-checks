{
 "cells": [
  {
   "cell_type": "markdown",
   "id": "bac9bddc-752b-4df2-8c9a-e8d661ccbbbc",
   "metadata": {},
   "source": [
    "# Fetch CSV from Hystreet API\n",
    "\n",
    "Usage:\n",
    "  fetch_from_api.py --file <path-to-file> [--no-verify]\n",
    "  fetch_from_api.py (-h | --help)\n",
    "  fetch_from_api.py --version\n",
    "\n",
    "Options:\n",
    "    \n",
    "    -h, --help                   Show this screen.\n",
    "    --version                    Show version.\n",
    "    -f, --file <path-to-file>    Path to CSV file, prints to stdout if not specified.\n",
    "    --no-verify                  Option to disable SSL verification for requests.\n",
    "\n"
   ]
  },
  {
   "cell_type": "code",
   "execution_count": 1,
   "id": "90cdbbf6-5e88-438c-8eab-5f12aa7a7548",
   "metadata": {},
   "outputs": [],
   "source": [
    "import pandas as pd\n",
    "import requests\n",
    "import os\n",
    "from datetime import datetime, timedelta\n",
    "import pytz\n",
    "from docopt import docopt\n",
    "from dotenv import load_dotenv, find_dotenv"
   ]
  },
  {
   "cell_type": "code",
   "execution_count": 5,
   "id": "4032a076-c817-4b35-824c-fc3691630e96",
   "metadata": {},
   "outputs": [
    {
     "ename": "DocoptLanguageError",
     "evalue": "\"usage:\" (case-insensitive) not found.",
     "output_type": "error",
     "traceback": [
      "\u001b[1;31m---------------------------------------------------------------------------\u001b[0m",
      "\u001b[1;31mDocoptLanguageError\u001b[0m                       Traceback (most recent call last)",
      "Cell \u001b[1;32mIn[5], line 2\u001b[0m\n\u001b[0;32m      1\u001b[0m load_dotenv(find_dotenv())\n\u001b[1;32m----> 2\u001b[0m arguments \u001b[38;5;241m=\u001b[39m \u001b[43mdocopt\u001b[49m\u001b[43m(\u001b[49m\u001b[38;5;18;43m__doc__\u001b[39;49m\u001b[43m,\u001b[49m\u001b[43m \u001b[49m\u001b[43mversion\u001b[49m\u001b[38;5;241;43m=\u001b[39;49m\u001b[38;5;124;43m'\u001b[39;49m\u001b[38;5;124;43mFetch CSV from hystreet API 1.0\u001b[39;49m\u001b[38;5;124;43m'\u001b[39;49m\u001b[43m)\u001b[49m\n\u001b[0;32m      5\u001b[0m __location__ \u001b[38;5;241m=\u001b[39m os\u001b[38;5;241m.\u001b[39mpath\u001b[38;5;241m.\u001b[39mrealpath(os\u001b[38;5;241m.\u001b[39mgetcwd())\n\u001b[0;32m      6\u001b[0m path \u001b[38;5;241m=\u001b[39m os\u001b[38;5;241m.\u001b[39mpath\u001b[38;5;241m.\u001b[39mjoin(__location__, \u001b[38;5;124m\"\u001b[39m\u001b[38;5;124mdata\u001b[39m\u001b[38;5;124m\"\u001b[39m)\n",
      "File \u001b[1;32mC:\\ProgramData\\Anaconda3\\envs\\odi_env\\lib\\site-packages\\docopt.py:558\u001b[0m, in \u001b[0;36mdocopt\u001b[1;34m(doc, argv, help, version, options_first)\u001b[0m\n\u001b[0;32m    556\u001b[0m \u001b[38;5;28;01mif\u001b[39;00m argv \u001b[38;5;129;01mis\u001b[39;00m \u001b[38;5;28;01mNone\u001b[39;00m:\n\u001b[0;32m    557\u001b[0m     argv \u001b[38;5;241m=\u001b[39m sys\u001b[38;5;241m.\u001b[39margv[\u001b[38;5;241m1\u001b[39m:]\n\u001b[1;32m--> 558\u001b[0m DocoptExit\u001b[38;5;241m.\u001b[39musage \u001b[38;5;241m=\u001b[39m \u001b[43mprintable_usage\u001b[49m\u001b[43m(\u001b[49m\u001b[43mdoc\u001b[49m\u001b[43m)\u001b[49m\n\u001b[0;32m    559\u001b[0m options \u001b[38;5;241m=\u001b[39m parse_defaults(doc)\n\u001b[0;32m    560\u001b[0m pattern \u001b[38;5;241m=\u001b[39m parse_pattern(formal_usage(DocoptExit\u001b[38;5;241m.\u001b[39musage), options)\n",
      "File \u001b[1;32mC:\\ProgramData\\Anaconda3\\envs\\odi_env\\lib\\site-packages\\docopt.py:468\u001b[0m, in \u001b[0;36mprintable_usage\u001b[1;34m(doc)\u001b[0m\n\u001b[0;32m    466\u001b[0m usage_split \u001b[38;5;241m=\u001b[39m re\u001b[38;5;241m.\u001b[39msplit(\u001b[38;5;124mr\u001b[39m\u001b[38;5;124m'\u001b[39m\u001b[38;5;124m([Uu][Ss][Aa][Gg][Ee]:)\u001b[39m\u001b[38;5;124m'\u001b[39m, doc)\n\u001b[0;32m    467\u001b[0m \u001b[38;5;28;01mif\u001b[39;00m \u001b[38;5;28mlen\u001b[39m(usage_split) \u001b[38;5;241m<\u001b[39m \u001b[38;5;241m3\u001b[39m:\n\u001b[1;32m--> 468\u001b[0m     \u001b[38;5;28;01mraise\u001b[39;00m DocoptLanguageError(\u001b[38;5;124m'\u001b[39m\u001b[38;5;124m\"\u001b[39m\u001b[38;5;124musage:\u001b[39m\u001b[38;5;124m\"\u001b[39m\u001b[38;5;124m (case-insensitive) not found.\u001b[39m\u001b[38;5;124m'\u001b[39m)\n\u001b[0;32m    469\u001b[0m \u001b[38;5;28;01mif\u001b[39;00m \u001b[38;5;28mlen\u001b[39m(usage_split) \u001b[38;5;241m>\u001b[39m \u001b[38;5;241m3\u001b[39m:\n\u001b[0;32m    470\u001b[0m     \u001b[38;5;28;01mraise\u001b[39;00m DocoptLanguageError(\u001b[38;5;124m'\u001b[39m\u001b[38;5;124mMore than one \u001b[39m\u001b[38;5;124m\"\u001b[39m\u001b[38;5;124musage:\u001b[39m\u001b[38;5;124m\"\u001b[39m\u001b[38;5;124m (case-insensitive).\u001b[39m\u001b[38;5;124m'\u001b[39m)\n",
      "\u001b[1;31mDocoptLanguageError\u001b[0m: \"usage:\" (case-insensitive) not found."
     ]
    }
   ],
   "source": [
    "load_dotenv(find_dotenv())\n",
    "arguments = docopt(__doc__, version='Fetch CSV from hystreet API 1.0')\n",
    "\n",
    "\n",
    "__location__ = os.path.realpath(os.getcwd())\n",
    "path = os.path.join(__location__, \"data\")"
   ]
  },
  {
   "cell_type": "code",
   "execution_count": 6,
   "id": "ba96f801-dd76-426a-9e35-d8d2323d81f5",
   "metadata": {},
   "outputs": [],
   "source": [
    "location_api = 'https://api.hystreet.com/locations'\n",
    "API_KEY = os.getenv('HYSTREET_API_KEY')"
   ]
  },
  {
   "cell_type": "code",
   "execution_count": 7,
   "id": "cbccfe03-7515-4bc5-8ad2-e449bdfafac7",
   "metadata": {},
   "outputs": [
    {
     "name": "stdout",
     "output_type": "stream",
     "text": [
      "None\n"
     ]
    }
   ],
   "source": [
    "print(API_KEY)"
   ]
  },
  {
   "cell_type": "code",
   "execution_count": 8,
   "id": "ead38987-536d-4fc4-ad60-d454b3efd67b",
   "metadata": {},
   "outputs": [],
   "source": [
    "# requests to hystreet API (incl. API KEY)\n",
    "def hystreet_request(api, params={}):\n",
    "    headers = {\n",
    "        'X-API-Token': API_KEY,\n",
    "    }\n",
    "    if arguments['--no-verify']:\n",
    "        r = requests.get(api, headers=headers, params=params, verify=False)\n",
    "    else:\n",
    "        r = requests.get(api, headers=headers, params=params)\n",
    "    r.raise_for_status()\n",
    "    data = r.json()\n",
    "    return data"
   ]
  },
  {
   "cell_type": "code",
   "execution_count": null,
   "id": "3b8ae456-7046-4a36-b403-4714c8503815",
   "metadata": {},
   "outputs": [],
   "source": []
  },
  {
   "cell_type": "code",
   "execution_count": 9,
   "id": "49567690-6a82-4355-891d-32099ef9de4c",
   "metadata": {},
   "outputs": [],
   "source": [
    "# generator for date ranges\n",
    "def daterange(start_date, end_date, step=1):\n",
    "    tz = pytz.timezone('Europe/Zurich')\n",
    "    total_days = int((end_date - start_date).days)\n",
    "    local_start = tz.localize(start_date)\n",
    "    for n in range(0, total_days, step):\n",
    "        yield (local_start + timedelta(n), local_start + timedelta(n + step - 1))"
   ]
  },
  {
   "cell_type": "code",
   "execution_count": null,
   "id": "5ba672e9-5257-42f2-b798-d7fe154919f7",
   "metadata": {},
   "outputs": [],
   "source": []
  },
  {
   "cell_type": "code",
   "execution_count": 10,
   "id": "99634409-be68-45ec-85d1-33c5e4877536",
   "metadata": {},
   "outputs": [],
   "source": [
    "def convert_to_df(data, location_id):\n",
    "    # create records for Pandas\n",
    "    records = []\n",
    "    for row in data['measurements']:\n",
    "        record = {}\n",
    "        record['timestamp'] = ''\n",
    "        record['location_id'] = location_id\n",
    "        record['location_name'] = data['name']\n",
    "        record['ltr_label'] = data['metadata']['ltr_label']\n",
    "        record['rtl_label'] = data['metadata']['rtl_label']\n",
    "        record.update(row)\n",
    "        record.update(record['details'])\n",
    "        del record['details']\n",
    "        del record['min_temperature']\n",
    "        \n",
    "        for zone in (record['zones'] or []):\n",
    "            for k, v in zone.items():\n",
    "                if k == 'id':\n",
    "                    continue\n",
    "                record[f\"zone_{zone['id']}_{k}\"] = v\n",
    "\n",
    "        del record['zones']\n",
    "        \n",
    "        records.append(record)\n",
    "    df = pd.DataFrame(records)\n",
    "    return df\n"
   ]
  },
  {
   "cell_type": "code",
   "execution_count": 11,
   "id": "c8858220-81ff-48e0-a240-2b038131004f",
   "metadata": {},
   "outputs": [],
   "source": [
    "# save measurements and save as pickled DataFrame\n",
    "def save_measurements(location_id, start_date, end_date, df_path='.'):\n",
    "    if not os.path.exists(df_path):\n",
    "        os.mkdir(df_path)\n",
    "        \n",
    "    params = {\n",
    "        'resolution': 'hour',\n",
    "        'from': start_date.isoformat(),\n",
    "        'to': end_date.replace(hour=23, minute=59, second=59).isoformat()\n",
    "    }\n",
    "    data = hystreet_request(f\"{location_api}/{location_id}\", params=params)\n",
    "    print(f\"{data['statistics']['timerange_count']} rows loaded.\")\n",
    "    df = convert_to_df(data, location_id)\n",
    "    pickle_path = os.path.join(df_path, f'{location_id}_{start_date.date().isoformat()}_{end_date.date().isoformat()}.pks')\n",
    "    df.to_pickle(pickle_path)\n",
    "    print(f\"Saved pickle at {pickle_path}\")\n",
    "\n"
   ]
  },
  {
   "cell_type": "code",
   "execution_count": 13,
   "id": "9cc64230-9373-4b4c-b7c5-025bc7d09dba",
   "metadata": {},
   "outputs": [],
   "source": [
    "def save_to_csv(df, csv_path):\n",
    "    df_save = df.copy()\n",
    "    df_save\n"
   ]
  },
  {
   "cell_type": "code",
   "execution_count": 16,
   "id": "4dfb0159-6a98-494c-8929-d5ea16b16850",
   "metadata": {},
   "outputs": [
    {
     "ename": "NameError",
     "evalue": "name 'df_save' is not defined",
     "output_type": "error",
     "traceback": [
      "\u001b[1;31m---------------------------------------------------------------------------\u001b[0m",
      "\u001b[1;31mNameError\u001b[0m                                 Traceback (most recent call last)",
      "Cell \u001b[1;32mIn[16], line 1\u001b[0m\n\u001b[1;32m----> 1\u001b[0m \u001b[43mdf_save\u001b[49m\n",
      "\u001b[1;31mNameError\u001b[0m: name 'df_save' is not defined"
     ]
    }
   ],
   "source": [
    "df_save.head()"
   ]
  },
  {
   "cell_type": "code",
   "execution_count": null,
   "id": "6d946c7b-de50-4b7a-8321-77098be0b5aa",
   "metadata": {},
   "outputs": [],
   "source": []
  },
  {
   "cell_type": "code",
   "execution_count": 12,
   "id": "35ab8ec8-a6d2-4b5b-95fa-d98373394d96",
   "metadata": {},
   "outputs": [
    {
     "ename": "NameError",
     "evalue": "name 'arguments' is not defined",
     "output_type": "error",
     "traceback": [
      "\u001b[1;31m---------------------------------------------------------------------------\u001b[0m",
      "\u001b[1;31mNameError\u001b[0m                                 Traceback (most recent call last)",
      "Cell \u001b[1;32mIn[12], line 1\u001b[0m\n\u001b[1;32m----> 1\u001b[0m locations \u001b[38;5;241m=\u001b[39m \u001b[43mhystreet_request\u001b[49m\u001b[43m(\u001b[49m\u001b[43mlocation_api\u001b[49m\u001b[43m)\u001b[49m\n\u001b[0;32m      2\u001b[0m \u001b[38;5;28;01mfor\u001b[39;00m loc \u001b[38;5;129;01min\u001b[39;00m locations:\n\u001b[0;32m      3\u001b[0m     start_date \u001b[38;5;241m=\u001b[39m datetime(\u001b[38;5;241m2021\u001b[39m, \u001b[38;5;241m9\u001b[39m, \u001b[38;5;241m29\u001b[39m) \u001b[38;5;66;03m# first day with measurements\u001b[39;00m\n",
      "Cell \u001b[1;32mIn[8], line 6\u001b[0m, in \u001b[0;36mhystreet_request\u001b[1;34m(api, params)\u001b[0m\n\u001b[0;32m      2\u001b[0m \u001b[38;5;28;01mdef\u001b[39;00m \u001b[38;5;21mhystreet_request\u001b[39m(api, params\u001b[38;5;241m=\u001b[39m{}):\n\u001b[0;32m      3\u001b[0m     headers \u001b[38;5;241m=\u001b[39m {\n\u001b[0;32m      4\u001b[0m         \u001b[38;5;124m'\u001b[39m\u001b[38;5;124mX-API-Token\u001b[39m\u001b[38;5;124m'\u001b[39m: API_KEY,\n\u001b[0;32m      5\u001b[0m     }\n\u001b[1;32m----> 6\u001b[0m     \u001b[38;5;28;01mif\u001b[39;00m \u001b[43marguments\u001b[49m[\u001b[38;5;124m'\u001b[39m\u001b[38;5;124m--no-verify\u001b[39m\u001b[38;5;124m'\u001b[39m]:\n\u001b[0;32m      7\u001b[0m         r \u001b[38;5;241m=\u001b[39m requests\u001b[38;5;241m.\u001b[39mget(api, headers\u001b[38;5;241m=\u001b[39mheaders, params\u001b[38;5;241m=\u001b[39mparams, verify\u001b[38;5;241m=\u001b[39m\u001b[38;5;28;01mFalse\u001b[39;00m)\n\u001b[0;32m      8\u001b[0m     \u001b[38;5;28;01melse\u001b[39;00m:\n",
      "\u001b[1;31mNameError\u001b[0m: name 'arguments' is not defined"
     ]
    }
   ],
   "source": [
    "locations = hystreet_request(location_api)\n",
    "for loc in locations:\n",
    "    start_date = datetime(2021, 9, 29) # first day with measurements\n",
    "    end_date = datetime.now() + timedelta(1) # tomorrow\n",
    "    for cur_date, cur_end_date in daterange(start_date, end_date, step=14):\n",
    "        save_measurements(loc['id'], cur_date, cur_end_date, path)\n",
    "\n",
    "df = pd.concat([pd.read_pickle(os.path.join(path, x)) for x in os.listdir(path) if x.endswith('.pks')])\n",
    "df['timestamp'] = pd.to_datetime(df['timestamp'], utc=True)\n",
    "df = df.sort_values(by=['timestamp', 'location_name'])\n",
    "\n",
    "csv_path =  arguments['--file']\n",
    "df_today = df[df.timestamp <= 'today'].reset_index(drop=True)\n",
    "df_today.to_csv(csv_path, index=False, encoding='utf-8', date_format='%Y-%m-%dT%H:%M:%SZ')\n"
   ]
  },
  {
   "cell_type": "code",
   "execution_count": null,
   "id": "6cd298a1-5044-4d45-9475-1117aa52acfb",
   "metadata": {},
   "outputs": [],
   "source": []
  }
 ],
 "metadata": {
  "kernelspec": {
   "display_name": "Python 3 (ipykernel)",
   "language": "python",
   "name": "python3"
  },
  "language_info": {
   "codemirror_mode": {
    "name": "ipython",
    "version": 3
   },
   "file_extension": ".py",
   "mimetype": "text/x-python",
   "name": "python",
   "nbconvert_exporter": "python",
   "pygments_lexer": "ipython3",
   "version": "3.10.8"
  }
 },
 "nbformat": 4,
 "nbformat_minor": 5
}
