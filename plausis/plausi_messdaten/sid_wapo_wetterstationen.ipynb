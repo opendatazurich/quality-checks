{
 "cells": [
  {
   "cell_type": "markdown",
   "metadata": {},
   "source": [
    "# Testing\n",
    "## Messwerte der Wetterstationen der Wasserschutzpolizei Zürich\n",
    "Datum: 21.12.2021"
   ]
  },
  {
   "cell_type": "markdown",
   "metadata": {},
   "source": [
    "### Importiere die notwendigen Packages"
   ]
  },
  {
   "cell_type": "code",
   "execution_count": 3,
   "metadata": {},
   "outputs": [],
   "source": [
    "#%pip install openpyxl geopandas altair fiona requests folium mplleaflet contextily seaborn datetime plotly"
   ]
  },
  {
   "cell_type": "code",
   "execution_count": 4,
   "metadata": {},
   "outputs": [],
   "source": [
    "import pandas as pd\n",
    "import pivottablejs\n",
    "from pivottablejs import pivot_ui\n",
    "import numpy as np\n",
    "import altair as alt\n",
    "import matplotlib.pyplot as plt\n",
    "#from datetime import datetime\n",
    "import datetime\n",
    "import geopandas as gpd\n",
    "import folium \n",
    "import time\n"
   ]
  },
  {
   "cell_type": "markdown",
   "metadata": {},
   "source": [
    "Definiere Settings. Hier das Zahlenformat von Float-Werten (z.B. *'{:,.2f}'.format* mit Komma als Tausenderzeichen), "
   ]
  },
  {
   "cell_type": "code",
   "execution_count": 70,
   "metadata": {},
   "outputs": [],
   "source": [
    "pd.options.display.float_format = '{:.1f}'.format\n",
    "pd.set_option('display.width', 100)\n",
    "pd.set_option('display.max_columns', 15)"
   ]
  },
  {
   "cell_type": "markdown",
   "metadata": {},
   "source": [
    "### Zeitvariabeln\n",
    "Bestimme den aktuellst geladenen Monat. Hier ist es der Stand vor 2 Monaten. \n",
    "Bestimme noch weitere evt. sinnvolle Zeitvariabeln.\n",
    "\n",
    "Zum Unterschied zwischen import datetime und from datedtime import datetime, siehe https://stackoverflow.com/questions/15707532/import-datetime-v-s-from-datetime-import-datetime\n",
    "\n",
    "Zuerst die Zeitvariabeln als Strings"
   ]
  },
  {
   "cell_type": "code",
   "execution_count": 71,
   "metadata": {},
   "outputs": [],
   "source": [
    "#today_date = datetime.date.today()\n",
    "#date_time = datetime.datetime.strptime(date_time_string, '%Y-%m-%d %H:%M')\n",
    "now = datetime.date.today()\n",
    "date_today = now.strftime(\"%Y-%m-%d\")\n",
    "year_today = now.strftime(\"%Y\")\n",
    "month_today = now.strftime(\"%m\")\n",
    "day_today = now.strftime(\"%d\")\n",
    "\n"
   ]
  },
  {
   "cell_type": "markdown",
   "metadata": {},
   "source": [
    "Und hier noch die Zeitvariabeln als Integers:\n",
    "- `aktuellesJahr`\n",
    "- `aktuellerMonat`: Der gerade jetzt aktuelle Monat\n",
    "- `selectedMonat`: Der aktuellste Monat in den Daten. In der Regel zwei Monate her."
   ]
  },
  {
   "cell_type": "code",
   "execution_count": 72,
   "metadata": {},
   "outputs": [
    {
     "name": "stdout",
     "output_type": "stream",
     "text": [
      "2021 12 datenstand:  10 time.struct_time(tm_year=2021, tm_mon=12, tm_mday=21, tm_hour=0, tm_min=0, tm_sec=0, tm_wday=1, tm_yday=355, tm_isdst=-1)\n"
     ]
    }
   ],
   "source": [
    "#now = datetime.now() \n",
    "int_times = now.timetuple()\n",
    "\n",
    "aktuellesJahr = int_times[0]\n",
    "aktuellerMonat = int_times[1]\n",
    "selectedMonat = int_times[1]-2\n",
    "\n",
    "print(aktuellesJahr, \n",
    "      aktuellerMonat,\n",
    "    'datenstand: ', selectedMonat,\n",
    "     int_times)\n"
   ]
  },
  {
   "cell_type": "code",
   "execution_count": null,
   "metadata": {},
   "outputs": [],
   "source": []
  },
  {
   "cell_type": "markdown",
   "metadata": {
    "tags": []
   },
   "source": [
    "### Importiere einen Datensatz \n",
    "\n",
    "- Beachte dabei die Notation des Pfades...\n",
    "- Definiere mal aktuell noch keine weiteren Parameter beim Import"
   ]
  },
  {
   "cell_type": "markdown",
   "metadata": {},
   "source": [
    "**Dataset auf INTEG Datenkatalog**:  https://data.integ.stadt-zuerich.ch/dataset/sid_wapo_wetterstationen\n",
    "\n",
    "**Dataset auf PROD Datenkatalog**:  https://data.stadt-zuerich.ch/dataset/sid_wapo_wetterstationen"
   ]
  },
  {
   "cell_type": "code",
   "execution_count": 73,
   "metadata": {},
   "outputs": [
    {
     "name": "stdout",
     "output_type": "stream",
     "text": [
      "prod\n"
     ]
    }
   ],
   "source": [
    "#Die Datasets sind nur zum Testen auf INT-DWH-Dropzone. Wenn der Test vorbei ist, sind sie auf PROD. \n",
    "# Über den Status kann man einfach switchen\n",
    "\n",
    "status = \"prod\";\n",
    "print(status)"
   ]
  },
  {
   "cell_type": "code",
   "execution_count": 74,
   "metadata": {
    "tags": []
   },
   "outputs": [
    {
     "name": "stdout",
     "output_type": "stream",
     "text": [
      "https://data.stadt-zuerich.ch/dataset/sid_wapo_wetterstationen/download/messwerte_mythenquai_2007-2020.csv https://data.stadt-zuerich.ch/dataset/sid_wapo_wetterstationen/download/messwerte_tiefenbrunnen_2007-2020.csv\n"
     ]
    }
   ],
   "source": [
    "# Filepath\n",
    "if status == \"prod\":\n",
    "    #fp = r\"//szh.loc/ssz/applikationen/OGD_Dropzone/DWH/bev_monat_bestand_quartier_geschl_ag_herkunft_od3250/BEV325OD3250.csv\"\n",
    "    fp_my = r\"https://data.stadt-zuerich.ch/dataset/sid_wapo_wetterstationen/download/messwerte_mythenquai_2007-2020.csv\"\n",
    "    fp_tb = r\"https://data.stadt-zuerich.ch/dataset/sid_wapo_wetterstationen/download/messwerte_tiefenbrunnen_2007-2020.csv\"\n",
    "else:\n",
    "    fp_my = r\"https://data.stadt-zuerich.ch/dataset/sid_wapo_wetterstationen/download/messwerte_mythenquai_2007-2020.csv\"\n",
    "    fp_tb = r\"https://data.stadt-zuerich.ch/dataset/sid_wapo_wetterstationen/download/messwerte_tiefenbrunnen_2007-2020.csv\"\n",
    "\n",
    "\n",
    "print(fp_my, fp_tb)"
   ]
  },
  {
   "cell_type": "markdown",
   "metadata": {
    "tags": []
   },
   "source": [
    "#### Parsing & Formatting Strings to Dataframes\n",
    "- [**Cheat Sheet**](https://strftime.org/)\n",
    "- Python documentation for **strptime**: [string **parse** time, Python 3](https://docs.python.org/3/library/datetime.html#datetime.datetime.strptime)\n",
    "- Python documentation for strptime/**strftime**: [string **format** time,Python 3](https://docs.python.org/3/library/datetime.html#strftime-and-strptime-behavior)\n",
    "\n"
   ]
  },
  {
   "cell_type": "code",
   "execution_count": 75,
   "metadata": {},
   "outputs": [
    {
     "name": "stdout",
     "output_type": "stream",
     "text": [
      "done\n"
     ]
    }
   ],
   "source": [
    "# Read the data\n",
    "data2betested_my = pd.read_csv(\n",
    "    fp_my, \n",
    "    sep=',',\n",
    "    parse_dates=['timestamp_utc', 'timestamp_cet'],\n",
    "    # KONVERTIERE DAS SAS DATUM IN EIN UNIXDATUM UND FORMATIERE ES\n",
    "    #date_parser=lambda x: datetime.datetime.strptime(x, '%Y-%m-%dT%H:%M:%S'),\n",
    "    low_memory=False    \n",
    "    )\n",
    "\n",
    "print('done')"
   ]
  },
  {
   "cell_type": "code",
   "execution_count": 76,
   "metadata": {},
   "outputs": [
    {
     "name": "stdout",
     "output_type": "stream",
     "text": [
      "done\n"
     ]
    }
   ],
   "source": [
    "# Read the data\n",
    "data2betested_tb = pd.read_csv(\n",
    "    fp_tb, \n",
    "    sep=',',\n",
    "    parse_dates=['timestamp_utc'],\n",
    "    # KONVERTIERE DAS SAS DATUM IN EIN UNIXDATUM UND FORMATIERE ES\n",
    "    #date_parser=lambda x: datetime.datetime.strptime(x, '%Y-%m-%dT%H:%M:%S'),\n",
    "    low_memory=False    \n",
    "    )\n",
    "\n",
    "print('done')"
   ]
  },
  {
   "cell_type": "markdown",
   "metadata": {},
   "source": [
    "In der Folge ein paar erste Tests:"
   ]
  },
  {
   "cell_type": "markdown",
   "metadata": {},
   "source": [
    " - 1) Zeige eine kurze Vorschau der importierten Daten\n",
    " - 2) Weise die Datentypen aus\n",
    " - 3) Zeige die Shape (Umfang) des Datensatzes an"
   ]
  },
  {
   "cell_type": "code",
   "execution_count": null,
   "metadata": {},
   "outputs": [],
   "source": []
  },
  {
   "cell_type": "code",
   "execution_count": 77,
   "metadata": {},
   "outputs": [
    {
     "data": {
      "text/plain": [
       "timestamp_utc              datetime64[ns, UTC]\n",
       "timestamp_cet                           object\n",
       "air_temperature                        float64\n",
       "water_temperature                      float64\n",
       "wind_gust_max_10min                    float64\n",
       "wind_speed_avg_10min                   float64\n",
       "wind_force_avg_10min                   float64\n",
       "wind_direction                           int64\n",
       "windchill                              float64\n",
       "barometric_pressure_qfe                float64\n",
       "precipitation                          float64\n",
       "dew_point                              float64\n",
       "global_radiation                       float64\n",
       "humidity                                 int64\n",
       "water_level                            float64\n",
       "dtype: object"
      ]
     },
     "execution_count": 77,
     "metadata": {},
     "output_type": "execute_result"
    }
   ],
   "source": [
    "data2betested_my.head(2)\n",
    "data2betested_my.dtypes"
   ]
  },
  {
   "cell_type": "code",
   "execution_count": 78,
   "metadata": {},
   "outputs": [
    {
     "data": {
      "text/plain": [
       "timestamp_utc              datetime64[ns, UTC]\n",
       "timestamp_cet                           object\n",
       "air_temperature                        float64\n",
       "water_temperature                      float64\n",
       "wind_gust_max_10min                    float64\n",
       "wind_speed_avg_10min                   float64\n",
       "wind_force_avg_10min                   float64\n",
       "wind_direction                           int64\n",
       "windchill                              float64\n",
       "barometric_pressure_qfe                float64\n",
       "precipitation                          float64\n",
       "dew_point                              float64\n",
       "global_radiation                       float64\n",
       "humidity                                 int64\n",
       "water_level                            float64\n",
       "dtype: object"
      ]
     },
     "execution_count": 78,
     "metadata": {},
     "output_type": "execute_result"
    }
   ],
   "source": [
    "data2betested_tb.head(2)\n",
    "data2betested_tb.dtypes"
   ]
  },
  {
   "cell_type": "code",
   "execution_count": 82,
   "metadata": {},
   "outputs": [
    {
     "data": {
      "text/plain": [
       "(704988, 15)"
      ]
     },
     "execution_count": 82,
     "metadata": {},
     "output_type": "execute_result"
    }
   ],
   "source": [
    "#data2betested_my.shape\n",
    "data2betested_tb.shape"
   ]
  },
  {
   "cell_type": "markdown",
   "metadata": {},
   "source": [
    "Beschreibe einzelne Attribute"
   ]
  },
  {
   "cell_type": "code",
   "execution_count": 83,
   "metadata": {},
   "outputs": [
    {
     "data": {
      "text/html": [
       "<div>\n",
       "<style scoped>\n",
       "    .dataframe tbody tr th:only-of-type {\n",
       "        vertical-align: middle;\n",
       "    }\n",
       "\n",
       "    .dataframe tbody tr th {\n",
       "        vertical-align: top;\n",
       "    }\n",
       "\n",
       "    .dataframe thead th {\n",
       "        text-align: right;\n",
       "    }\n",
       "</style>\n",
       "<table border=\"1\" class=\"dataframe\">\n",
       "  <thead>\n",
       "    <tr style=\"text-align: right;\">\n",
       "      <th></th>\n",
       "      <th>air_temperature</th>\n",
       "      <th>water_temperature</th>\n",
       "      <th>wind_gust_max_10min</th>\n",
       "      <th>wind_speed_avg_10min</th>\n",
       "      <th>wind_force_avg_10min</th>\n",
       "      <th>wind_direction</th>\n",
       "      <th>windchill</th>\n",
       "      <th>barometric_pressure_qfe</th>\n",
       "      <th>precipitation</th>\n",
       "      <th>dew_point</th>\n",
       "      <th>global_radiation</th>\n",
       "      <th>humidity</th>\n",
       "      <th>water_level</th>\n",
       "    </tr>\n",
       "  </thead>\n",
       "  <tbody>\n",
       "    <tr>\n",
       "      <th>count</th>\n",
       "      <td>704988.0</td>\n",
       "      <td>704988.0</td>\n",
       "      <td>704988.0</td>\n",
       "      <td>704988.0</td>\n",
       "      <td>704988.0</td>\n",
       "      <td>704988.0</td>\n",
       "      <td>704988.0</td>\n",
       "      <td>704988.0</td>\n",
       "      <td>0.0</td>\n",
       "      <td>704988.0</td>\n",
       "      <td>0.0</td>\n",
       "      <td>704988.0</td>\n",
       "      <td>0.0</td>\n",
       "    </tr>\n",
       "    <tr>\n",
       "      <th>mean</th>\n",
       "      <td>11.5</td>\n",
       "      <td>13.3</td>\n",
       "      <td>2.6</td>\n",
       "      <td>1.2</td>\n",
       "      <td>1.1</td>\n",
       "      <td>157.5</td>\n",
       "      <td>10.8</td>\n",
       "      <td>970.1</td>\n",
       "      <td>NaN</td>\n",
       "      <td>6.9</td>\n",
       "      <td>NaN</td>\n",
       "      <td>75.6</td>\n",
       "      <td>NaN</td>\n",
       "    </tr>\n",
       "    <tr>\n",
       "      <th>std</th>\n",
       "      <td>7.9</td>\n",
       "      <td>6.7</td>\n",
       "      <td>2.7</td>\n",
       "      <td>1.5</td>\n",
       "      <td>1.4</td>\n",
       "      <td>107.4</td>\n",
       "      <td>8.2</td>\n",
       "      <td>7.9</td>\n",
       "      <td>NaN</td>\n",
       "      <td>6.4</td>\n",
       "      <td>NaN</td>\n",
       "      <td>15.2</td>\n",
       "      <td>NaN</td>\n",
       "    </tr>\n",
       "    <tr>\n",
       "      <th>min</th>\n",
       "      <td>-14.0</td>\n",
       "      <td>0.0</td>\n",
       "      <td>0.0</td>\n",
       "      <td>0.0</td>\n",
       "      <td>0.0</td>\n",
       "      <td>0.0</td>\n",
       "      <td>-20.5</td>\n",
       "      <td>930.7</td>\n",
       "      <td>NaN</td>\n",
       "      <td>-17.5</td>\n",
       "      <td>NaN</td>\n",
       "      <td>17.0</td>\n",
       "      <td>NaN</td>\n",
       "    </tr>\n",
       "    <tr>\n",
       "      <th>25%</th>\n",
       "      <td>5.2</td>\n",
       "      <td>6.6</td>\n",
       "      <td>0.9</td>\n",
       "      <td>0.1</td>\n",
       "      <td>0.1</td>\n",
       "      <td>55.0</td>\n",
       "      <td>4.1</td>\n",
       "      <td>965.9</td>\n",
       "      <td>NaN</td>\n",
       "      <td>2.1</td>\n",
       "      <td>NaN</td>\n",
       "      <td>66.0</td>\n",
       "      <td>NaN</td>\n",
       "    </tr>\n",
       "    <tr>\n",
       "      <th>50%</th>\n",
       "      <td>11.4</td>\n",
       "      <td>13.0</td>\n",
       "      <td>1.8</td>\n",
       "      <td>0.7</td>\n",
       "      <td>0.8</td>\n",
       "      <td>153.0</td>\n",
       "      <td>10.8</td>\n",
       "      <td>970.3</td>\n",
       "      <td>NaN</td>\n",
       "      <td>7.0</td>\n",
       "      <td>NaN</td>\n",
       "      <td>78.0</td>\n",
       "      <td>NaN</td>\n",
       "    </tr>\n",
       "    <tr>\n",
       "      <th>75%</th>\n",
       "      <td>17.5</td>\n",
       "      <td>19.4</td>\n",
       "      <td>3.5</td>\n",
       "      <td>1.6</td>\n",
       "      <td>1.6</td>\n",
       "      <td>255.0</td>\n",
       "      <td>17.1</td>\n",
       "      <td>974.8</td>\n",
       "      <td>NaN</td>\n",
       "      <td>12.1</td>\n",
       "      <td>NaN</td>\n",
       "      <td>87.0</td>\n",
       "      <td>NaN</td>\n",
       "    </tr>\n",
       "    <tr>\n",
       "      <th>max</th>\n",
       "      <td>35.8</td>\n",
       "      <td>70.0</td>\n",
       "      <td>35.0</td>\n",
       "      <td>21.9</td>\n",
       "      <td>21.9</td>\n",
       "      <td>360.0</td>\n",
       "      <td>92.6</td>\n",
       "      <td>1024.0</td>\n",
       "      <td>NaN</td>\n",
       "      <td>70.0</td>\n",
       "      <td>NaN</td>\n",
       "      <td>104.0</td>\n",
       "      <td>NaN</td>\n",
       "    </tr>\n",
       "  </tbody>\n",
       "</table>\n",
       "</div>"
      ],
      "text/plain": [
       "       air_temperature  water_temperature  wind_gust_max_10min  wind_speed_avg_10min  \\\n",
       "count         704988.0           704988.0             704988.0              704988.0   \n",
       "mean              11.5               13.3                  2.6                   1.2   \n",
       "std                7.9                6.7                  2.7                   1.5   \n",
       "min              -14.0                0.0                  0.0                   0.0   \n",
       "25%                5.2                6.6                  0.9                   0.1   \n",
       "50%               11.4               13.0                  1.8                   0.7   \n",
       "75%               17.5               19.4                  3.5                   1.6   \n",
       "max               35.8               70.0                 35.0                  21.9   \n",
       "\n",
       "       wind_force_avg_10min  wind_direction  windchill  barometric_pressure_qfe  precipitation  \\\n",
       "count              704988.0        704988.0   704988.0                 704988.0            0.0   \n",
       "mean                    1.1           157.5       10.8                    970.1            NaN   \n",
       "std                     1.4           107.4        8.2                      7.9            NaN   \n",
       "min                     0.0             0.0      -20.5                    930.7            NaN   \n",
       "25%                     0.1            55.0        4.1                    965.9            NaN   \n",
       "50%                     0.8           153.0       10.8                    970.3            NaN   \n",
       "75%                     1.6           255.0       17.1                    974.8            NaN   \n",
       "max                    21.9           360.0       92.6                   1024.0            NaN   \n",
       "\n",
       "       dew_point  global_radiation  humidity  water_level  \n",
       "count   704988.0               0.0  704988.0          0.0  \n",
       "mean         6.9               NaN      75.6          NaN  \n",
       "std          6.4               NaN      15.2          NaN  \n",
       "min        -17.5               NaN      17.0          NaN  \n",
       "25%          2.1               NaN      66.0          NaN  \n",
       "50%          7.0               NaN      78.0          NaN  \n",
       "75%         12.1               NaN      87.0          NaN  \n",
       "max         70.0               NaN     104.0          NaN  "
      ]
     },
     "execution_count": 83,
     "metadata": {},
     "output_type": "execute_result"
    }
   ],
   "source": [
    "data2betested_my.describe()\n",
    "data2betested_tb.describe()"
   ]
  },
  {
   "cell_type": "markdown",
   "metadata": {},
   "source": [
    "Wie viele Nullwerte gibt es im Datensatz?"
   ]
  },
  {
   "cell_type": "code",
   "execution_count": 84,
   "metadata": {
    "scrolled": true
   },
   "outputs": [
    {
     "data": {
      "text/plain": [
       "timestamp_utc                  0\n",
       "timestamp_cet                  0\n",
       "air_temperature                0\n",
       "water_temperature          49642\n",
       "wind_gust_max_10min            0\n",
       "wind_speed_avg_10min           0\n",
       "wind_force_avg_10min           0\n",
       "wind_direction                 0\n",
       "windchill                      0\n",
       "barometric_pressure_qfe     4741\n",
       "precipitation              49642\n",
       "dew_point                      0\n",
       "global_radiation           49642\n",
       "humidity                       0\n",
       "water_level                49642\n",
       "dtype: int64"
      ]
     },
     "execution_count": 84,
     "metadata": {},
     "output_type": "execute_result"
    }
   ],
   "source": [
    "data2betested_my.isnull().sum()"
   ]
  },
  {
   "cell_type": "code",
   "execution_count": 85,
   "metadata": {},
   "outputs": [
    {
     "data": {
      "text/plain": [
       "timestamp_utc                   0\n",
       "timestamp_cet                   0\n",
       "air_temperature                 0\n",
       "water_temperature               0\n",
       "wind_gust_max_10min             0\n",
       "wind_speed_avg_10min            0\n",
       "wind_force_avg_10min            0\n",
       "wind_direction                  0\n",
       "windchill                       0\n",
       "barometric_pressure_qfe         0\n",
       "precipitation              704988\n",
       "dew_point                       0\n",
       "global_radiation           704988\n",
       "humidity                        0\n",
       "water_level                704988\n",
       "dtype: int64"
      ]
     },
     "execution_count": 85,
     "metadata": {},
     "output_type": "execute_result"
    }
   ],
   "source": [
    "data2betested_tb.isnull().sum()"
   ]
  },
  {
   "cell_type": "markdown",
   "metadata": {
    "colab_type": "text",
    "id": "1dTPVmmsgOVx"
   },
   "source": [
    "### Verwende das Datum als Index\n",
    "\n",
    "While we did already parse the `datetime` column into the respective datetime type, it currently is just a regular column. \n",
    "**To enable quick and convenient queries and aggregations, we need to turn it into the index of the DataFrame**"
   ]
  },
  {
   "cell_type": "code",
   "execution_count": 86,
   "metadata": {},
   "outputs": [],
   "source": [
    "data2betested_my = data2betested_my.set_index(\"timestamp_utc\")\n",
    "#data2betested = data2betested.drop(columns=[\"StichtagDatMM\"])"
   ]
  },
  {
   "cell_type": "code",
   "execution_count": 87,
   "metadata": {},
   "outputs": [
    {
     "name": "stdout",
     "output_type": "stream",
     "text": [
      "<class 'pandas.core.frame.DataFrame'>\n",
      "DatetimeIndex: 708364 entries, 2007-04-22 19:20:00+00:00 to 2020-12-31 23:00:00+00:00\n",
      "Data columns (total 14 columns):\n",
      " #   Column                   Non-Null Count   Dtype  \n",
      "---  ------                   --------------   -----  \n",
      " 0   timestamp_cet            708364 non-null  object \n",
      " 1   air_temperature          708364 non-null  float64\n",
      " 2   water_temperature        658722 non-null  float64\n",
      " 3   wind_gust_max_10min      708364 non-null  float64\n",
      " 4   wind_speed_avg_10min     708364 non-null  float64\n",
      " 5   wind_force_avg_10min     708364 non-null  float64\n",
      " 6   wind_direction           708364 non-null  int64  \n",
      " 7   windchill                708364 non-null  float64\n",
      " 8   barometric_pressure_qfe  703623 non-null  float64\n",
      " 9   precipitation            658722 non-null  float64\n",
      " 10  dew_point                708364 non-null  float64\n",
      " 11  global_radiation         658722 non-null  float64\n",
      " 12  humidity                 708364 non-null  int64  \n",
      " 13  water_level              658722 non-null  float64\n",
      "dtypes: float64(11), int64(2), object(1)\n",
      "memory usage: 81.1+ MB\n"
     ]
    },
    {
     "data": {
      "text/plain": [
       "Int64Index([22, 23, 24, 25, 26, 27, 28, 29, 30,  1,  2,  3,  4,  5,  6,  7,  8,  9, 10, 11, 12, 13,\n",
       "            14, 15, 16, 17, 18, 19, 20, 21, 31],\n",
       "           dtype='int64', name='timestamp_utc')"
      ]
     },
     "execution_count": 87,
     "metadata": {},
     "output_type": "execute_result"
    }
   ],
   "source": [
    "data2betested_my.info()\n",
    "data2betested_my.index.day.unique()"
   ]
  },
  {
   "cell_type": "markdown",
   "metadata": {},
   "source": [
    "### Einfache Visualisierungen zur Plausi"
   ]
  },
  {
   "cell_type": "markdown",
   "metadata": {},
   "source": [
    "Exploriere die Daten mit Pivottable.JS"
   ]
  },
  {
   "cell_type": "code",
   "execution_count": 88,
   "metadata": {},
   "outputs": [
    {
     "ename": "NameError",
     "evalue": "name 'data2betested' is not defined",
     "output_type": "error",
     "traceback": [
      "\u001b[1;31m---------------------------------------------------------------------------\u001b[0m",
      "\u001b[1;31mNameError\u001b[0m                                 Traceback (most recent call last)",
      "\u001b[1;32m~\\AppData\\Local\\Temp/ipykernel_3740/3292501968.py\u001b[0m in \u001b[0;36m<module>\u001b[1;34m\u001b[0m\n\u001b[0;32m      1\u001b[0m \u001b[1;32mfrom\u001b[0m \u001b[0mpivottablejs\u001b[0m \u001b[1;32mimport\u001b[0m \u001b[0mpivot_ui\u001b[0m\u001b[1;33m\u001b[0m\u001b[1;33m\u001b[0m\u001b[0m\n\u001b[0;32m      2\u001b[0m \u001b[1;33m\u001b[0m\u001b[0m\n\u001b[1;32m----> 3\u001b[1;33m \u001b[0mpivot_ui\u001b[0m\u001b[1;33m(\u001b[0m\u001b[0mdata2betested\u001b[0m\u001b[1;33m)\u001b[0m\u001b[1;33m\u001b[0m\u001b[1;33m\u001b[0m\u001b[0m\n\u001b[0m",
      "\u001b[1;31mNameError\u001b[0m: name 'data2betested' is not defined"
     ]
    }
   ],
   "source": [
    "from pivottablejs import pivot_ui\n",
    "\n",
    "pivot_ui(data2betested)"
   ]
  },
  {
   "cell_type": "markdown",
   "metadata": {},
   "source": [
    "### Zeitpunkte und Zeiträume abfragen\n",
    "\n",
    "A particular powerful feature of the Pandas DataFrame is its indexing capability that also works using time-based entities, such as dates and times. We have already created the index above, so let's put it to use."
   ]
  },
  {
   "cell_type": "code",
   "execution_count": 89,
   "metadata": {},
   "outputs": [
    {
     "data": {
      "text/html": [
       "<div>\n",
       "<style scoped>\n",
       "    .dataframe tbody tr th:only-of-type {\n",
       "        vertical-align: middle;\n",
       "    }\n",
       "\n",
       "    .dataframe tbody tr th {\n",
       "        vertical-align: top;\n",
       "    }\n",
       "\n",
       "    .dataframe thead th {\n",
       "        text-align: right;\n",
       "    }\n",
       "</style>\n",
       "<table border=\"1\" class=\"dataframe\">\n",
       "  <thead>\n",
       "    <tr style=\"text-align: right;\">\n",
       "      <th></th>\n",
       "      <th>timestamp_cet</th>\n",
       "      <th>air_temperature</th>\n",
       "      <th>water_temperature</th>\n",
       "      <th>wind_gust_max_10min</th>\n",
       "      <th>wind_speed_avg_10min</th>\n",
       "      <th>wind_force_avg_10min</th>\n",
       "      <th>wind_direction</th>\n",
       "      <th>windchill</th>\n",
       "      <th>barometric_pressure_qfe</th>\n",
       "      <th>precipitation</th>\n",
       "      <th>dew_point</th>\n",
       "      <th>global_radiation</th>\n",
       "      <th>humidity</th>\n",
       "      <th>water_level</th>\n",
       "    </tr>\n",
       "    <tr>\n",
       "      <th>timestamp_utc</th>\n",
       "      <th></th>\n",
       "      <th></th>\n",
       "      <th></th>\n",
       "      <th></th>\n",
       "      <th></th>\n",
       "      <th></th>\n",
       "      <th></th>\n",
       "      <th></th>\n",
       "      <th></th>\n",
       "      <th></th>\n",
       "      <th></th>\n",
       "      <th></th>\n",
       "      <th></th>\n",
       "      <th></th>\n",
       "    </tr>\n",
       "  </thead>\n",
       "  <tbody>\n",
       "    <tr>\n",
       "      <th>2017-10-04 00:00:00+00:00</th>\n",
       "      <td>2017-10-04 02:00:00+02:00</td>\n",
       "      <td>11.7</td>\n",
       "      <td>17.3</td>\n",
       "      <td>4.5</td>\n",
       "      <td>3.1</td>\n",
       "      <td>3.1</td>\n",
       "      <td>320</td>\n",
       "      <td>8.8</td>\n",
       "      <td>978.0</td>\n",
       "      <td>0.0</td>\n",
       "      <td>7.7</td>\n",
       "      <td>0.0</td>\n",
       "      <td>76</td>\n",
       "      <td>406.0</td>\n",
       "    </tr>\n",
       "    <tr>\n",
       "      <th>2017-10-04 00:10:00+00:00</th>\n",
       "      <td>2017-10-04 02:10:00+02:00</td>\n",
       "      <td>11.7</td>\n",
       "      <td>17.3</td>\n",
       "      <td>3.8</td>\n",
       "      <td>2.3</td>\n",
       "      <td>2.3</td>\n",
       "      <td>324</td>\n",
       "      <td>10.3</td>\n",
       "      <td>977.9</td>\n",
       "      <td>0.0</td>\n",
       "      <td>7.6</td>\n",
       "      <td>0.0</td>\n",
       "      <td>76</td>\n",
       "      <td>406.0</td>\n",
       "    </tr>\n",
       "  </tbody>\n",
       "</table>\n",
       "</div>"
      ],
      "text/plain": [
       "                                       timestamp_cet  air_temperature  water_temperature  \\\n",
       "timestamp_utc                                                                              \n",
       "2017-10-04 00:00:00+00:00  2017-10-04 02:00:00+02:00             11.7               17.3   \n",
       "2017-10-04 00:10:00+00:00  2017-10-04 02:10:00+02:00             11.7               17.3   \n",
       "\n",
       "                           wind_gust_max_10min  wind_speed_avg_10min  wind_force_avg_10min  \\\n",
       "timestamp_utc                                                                                \n",
       "2017-10-04 00:00:00+00:00                  4.5                   3.1                   3.1   \n",
       "2017-10-04 00:10:00+00:00                  3.8                   2.3                   2.3   \n",
       "\n",
       "                           wind_direction  windchill  barometric_pressure_qfe  precipitation  \\\n",
       "timestamp_utc                                                                                  \n",
       "2017-10-04 00:00:00+00:00             320        8.8                    978.0            0.0   \n",
       "2017-10-04 00:10:00+00:00             324       10.3                    977.9            0.0   \n",
       "\n",
       "                           dew_point  global_radiation  humidity  water_level  \n",
       "timestamp_utc                                                                  \n",
       "2017-10-04 00:00:00+00:00        7.7               0.0        76        406.0  \n",
       "2017-10-04 00:10:00+00:00        7.6               0.0        76        406.0  "
      ]
     },
     "execution_count": 89,
     "metadata": {},
     "output_type": "execute_result"
    }
   ],
   "source": [
    "data2betested_my.loc[\"2017-06-30\"]\n",
    "data2betested_my.loc[\"2017-10-04\":\"2017-12-06\"].head(2)"
   ]
  },
  {
   "cell_type": "markdown",
   "metadata": {},
   "source": [
    "### Aggriere Werte nach Zeitausschnitten\n",
    "\n",
    "Mit den Funktionen zur Zeit kann einfach zwischen Stunden, Tagen, Monaten, etc. gewechselt und aggregiert werden.\n"
   ]
  },
  {
   "cell_type": "code",
   "execution_count": 93,
   "metadata": {},
   "outputs": [
    {
     "data": {
      "text/html": [
       "<div>\n",
       "<style scoped>\n",
       "    .dataframe tbody tr th:only-of-type {\n",
       "        vertical-align: middle;\n",
       "    }\n",
       "\n",
       "    .dataframe tbody tr th {\n",
       "        vertical-align: top;\n",
       "    }\n",
       "\n",
       "    .dataframe thead th {\n",
       "        text-align: right;\n",
       "    }\n",
       "</style>\n",
       "<table border=\"1\" class=\"dataframe\">\n",
       "  <thead>\n",
       "    <tr style=\"text-align: right;\">\n",
       "      <th></th>\n",
       "      <th>air_temperature</th>\n",
       "      <th>water_temperature</th>\n",
       "      <th>wind_gust_max_10min</th>\n",
       "      <th>wind_speed_avg_10min</th>\n",
       "      <th>wind_force_avg_10min</th>\n",
       "      <th>wind_direction</th>\n",
       "      <th>windchill</th>\n",
       "      <th>barometric_pressure_qfe</th>\n",
       "      <th>precipitation</th>\n",
       "      <th>dew_point</th>\n",
       "      <th>global_radiation</th>\n",
       "      <th>humidity</th>\n",
       "      <th>water_level</th>\n",
       "    </tr>\n",
       "    <tr>\n",
       "      <th>timestamp_utc</th>\n",
       "      <th></th>\n",
       "      <th></th>\n",
       "      <th></th>\n",
       "      <th></th>\n",
       "      <th></th>\n",
       "      <th></th>\n",
       "      <th></th>\n",
       "      <th></th>\n",
       "      <th></th>\n",
       "      <th></th>\n",
       "      <th></th>\n",
       "      <th></th>\n",
       "      <th></th>\n",
       "    </tr>\n",
       "  </thead>\n",
       "  <tbody>\n",
       "    <tr>\n",
       "      <th>2007-04-30 00:00:00+00:00</th>\n",
       "      <td>17.8</td>\n",
       "      <td>17.4</td>\n",
       "      <td>2.5</td>\n",
       "      <td>1.4</td>\n",
       "      <td>1.4</td>\n",
       "      <td>162.5</td>\n",
       "      <td>17.0</td>\n",
       "      <td>970.1</td>\n",
       "      <td>0.0</td>\n",
       "      <td>8.2</td>\n",
       "      <td>31.5</td>\n",
       "      <td>55.0</td>\n",
       "      <td>405.9</td>\n",
       "    </tr>\n",
       "    <tr>\n",
       "      <th>2007-05-31 00:00:00+00:00</th>\n",
       "      <td>15.6</td>\n",
       "      <td>15.9</td>\n",
       "      <td>3.7</td>\n",
       "      <td>1.9</td>\n",
       "      <td>1.9</td>\n",
       "      <td>203.0</td>\n",
       "      <td>14.5</td>\n",
       "      <td>965.9</td>\n",
       "      <td>0.0</td>\n",
       "      <td>8.2</td>\n",
       "      <td>36.5</td>\n",
       "      <td>65.0</td>\n",
       "      <td>406.0</td>\n",
       "    </tr>\n",
       "    <tr>\n",
       "      <th>2007-06-30 00:00:00+00:00</th>\n",
       "      <td>18.3</td>\n",
       "      <td>20.6</td>\n",
       "      <td>3.2</td>\n",
       "      <td>1.7</td>\n",
       "      <td>1.7</td>\n",
       "      <td>198.0</td>\n",
       "      <td>17.8</td>\n",
       "      <td>966.8</td>\n",
       "      <td>0.0</td>\n",
       "      <td>12.1</td>\n",
       "      <td>49.0</td>\n",
       "      <td>70.0</td>\n",
       "      <td>406.1</td>\n",
       "    </tr>\n",
       "    <tr>\n",
       "      <th>2007-07-31 00:00:00+00:00</th>\n",
       "      <td>18.3</td>\n",
       "      <td>19.9</td>\n",
       "      <td>3.3</td>\n",
       "      <td>1.7</td>\n",
       "      <td>1.7</td>\n",
       "      <td>216.0</td>\n",
       "      <td>17.6</td>\n",
       "      <td>969.8</td>\n",
       "      <td>0.0</td>\n",
       "      <td>12.0</td>\n",
       "      <td>38.0</td>\n",
       "      <td>70.0</td>\n",
       "      <td>406.1</td>\n",
       "    </tr>\n",
       "    <tr>\n",
       "      <th>2007-08-31 00:00:00+00:00</th>\n",
       "      <td>17.8</td>\n",
       "      <td>21.1</td>\n",
       "      <td>2.6</td>\n",
       "      <td>1.3</td>\n",
       "      <td>1.3</td>\n",
       "      <td>214.0</td>\n",
       "      <td>17.3</td>\n",
       "      <td>967.1</td>\n",
       "      <td>0.0</td>\n",
       "      <td>12.6</td>\n",
       "      <td>21.0</td>\n",
       "      <td>78.0</td>\n",
       "      <td>406.1</td>\n",
       "    </tr>\n",
       "    <tr>\n",
       "      <th>2007-09-30 00:00:00+00:00</th>\n",
       "      <td>14.0</td>\n",
       "      <td>18.5</td>\n",
       "      <td>2.6</td>\n",
       "      <td>1.4</td>\n",
       "      <td>1.4</td>\n",
       "      <td>256.5</td>\n",
       "      <td>13.5</td>\n",
       "      <td>973.8</td>\n",
       "      <td>0.0</td>\n",
       "      <td>8.6</td>\n",
       "      <td>9.0</td>\n",
       "      <td>75.0</td>\n",
       "      <td>406.1</td>\n",
       "    </tr>\n",
       "    <tr>\n",
       "      <th>2007-10-31 00:00:00+00:00</th>\n",
       "      <td>9.7</td>\n",
       "      <td>15.9</td>\n",
       "      <td>2.7</td>\n",
       "      <td>1.5</td>\n",
       "      <td>1.5</td>\n",
       "      <td>168.0</td>\n",
       "      <td>9.3</td>\n",
       "      <td>974.6</td>\n",
       "      <td>0.0</td>\n",
       "      <td>6.2</td>\n",
       "      <td>5.0</td>\n",
       "      <td>79.0</td>\n",
       "      <td>405.9</td>\n",
       "    </tr>\n",
       "    <tr>\n",
       "      <th>2007-11-30 00:00:00+00:00</th>\n",
       "      <td>4.9</td>\n",
       "      <td>8.2</td>\n",
       "      <td>3.4</td>\n",
       "      <td>1.7</td>\n",
       "      <td>1.7</td>\n",
       "      <td>235.0</td>\n",
       "      <td>3.1</td>\n",
       "      <td>973.2</td>\n",
       "      <td>0.0</td>\n",
       "      <td>0.3</td>\n",
       "      <td>5.0</td>\n",
       "      <td>79.0</td>\n",
       "      <td>405.9</td>\n",
       "    </tr>\n",
       "    <tr>\n",
       "      <th>2007-12-31 00:00:00+00:00</th>\n",
       "      <td>0.9</td>\n",
       "      <td>6.4</td>\n",
       "      <td>3.5</td>\n",
       "      <td>1.8</td>\n",
       "      <td>1.8</td>\n",
       "      <td>199.0</td>\n",
       "      <td>-0.7</td>\n",
       "      <td>980.0</td>\n",
       "      <td>0.0</td>\n",
       "      <td>-1.4</td>\n",
       "      <td>5.0</td>\n",
       "      <td>83.0</td>\n",
       "      <td>405.9</td>\n",
       "    </tr>\n",
       "    <tr>\n",
       "      <th>2008-01-31 00:00:00+00:00</th>\n",
       "      <td>3.7</td>\n",
       "      <td>5.2</td>\n",
       "      <td>2.9</td>\n",
       "      <td>1.6</td>\n",
       "      <td>1.6</td>\n",
       "      <td>191.5</td>\n",
       "      <td>2.3</td>\n",
       "      <td>973.0</td>\n",
       "      <td>0.0</td>\n",
       "      <td>0.0</td>\n",
       "      <td>3.0</td>\n",
       "      <td>79.0</td>\n",
       "      <td>405.8</td>\n",
       "    </tr>\n",
       "  </tbody>\n",
       "</table>\n",
       "</div>"
      ],
      "text/plain": [
       "                           air_temperature  water_temperature  wind_gust_max_10min  \\\n",
       "timestamp_utc                                                                        \n",
       "2007-04-30 00:00:00+00:00             17.8               17.4                  2.5   \n",
       "2007-05-31 00:00:00+00:00             15.6               15.9                  3.7   \n",
       "2007-06-30 00:00:00+00:00             18.3               20.6                  3.2   \n",
       "2007-07-31 00:00:00+00:00             18.3               19.9                  3.3   \n",
       "2007-08-31 00:00:00+00:00             17.8               21.1                  2.6   \n",
       "2007-09-30 00:00:00+00:00             14.0               18.5                  2.6   \n",
       "2007-10-31 00:00:00+00:00              9.7               15.9                  2.7   \n",
       "2007-11-30 00:00:00+00:00              4.9                8.2                  3.4   \n",
       "2007-12-31 00:00:00+00:00              0.9                6.4                  3.5   \n",
       "2008-01-31 00:00:00+00:00              3.7                5.2                  2.9   \n",
       "\n",
       "                           wind_speed_avg_10min  wind_force_avg_10min  wind_direction  windchill  \\\n",
       "timestamp_utc                                                                                      \n",
       "2007-04-30 00:00:00+00:00                   1.4                   1.4           162.5       17.0   \n",
       "2007-05-31 00:00:00+00:00                   1.9                   1.9           203.0       14.5   \n",
       "2007-06-30 00:00:00+00:00                   1.7                   1.7           198.0       17.8   \n",
       "2007-07-31 00:00:00+00:00                   1.7                   1.7           216.0       17.6   \n",
       "2007-08-31 00:00:00+00:00                   1.3                   1.3           214.0       17.3   \n",
       "2007-09-30 00:00:00+00:00                   1.4                   1.4           256.5       13.5   \n",
       "2007-10-31 00:00:00+00:00                   1.5                   1.5           168.0        9.3   \n",
       "2007-11-30 00:00:00+00:00                   1.7                   1.7           235.0        3.1   \n",
       "2007-12-31 00:00:00+00:00                   1.8                   1.8           199.0       -0.7   \n",
       "2008-01-31 00:00:00+00:00                   1.6                   1.6           191.5        2.3   \n",
       "\n",
       "                           barometric_pressure_qfe  precipitation  dew_point  global_radiation  \\\n",
       "timestamp_utc                                                                                    \n",
       "2007-04-30 00:00:00+00:00                    970.1            0.0        8.2              31.5   \n",
       "2007-05-31 00:00:00+00:00                    965.9            0.0        8.2              36.5   \n",
       "2007-06-30 00:00:00+00:00                    966.8            0.0       12.1              49.0   \n",
       "2007-07-31 00:00:00+00:00                    969.8            0.0       12.0              38.0   \n",
       "2007-08-31 00:00:00+00:00                    967.1            0.0       12.6              21.0   \n",
       "2007-09-30 00:00:00+00:00                    973.8            0.0        8.6               9.0   \n",
       "2007-10-31 00:00:00+00:00                    974.6            0.0        6.2               5.0   \n",
       "2007-11-30 00:00:00+00:00                    973.2            0.0        0.3               5.0   \n",
       "2007-12-31 00:00:00+00:00                    980.0            0.0       -1.4               5.0   \n",
       "2008-01-31 00:00:00+00:00                    973.0            0.0        0.0               3.0   \n",
       "\n",
       "                           humidity  water_level  \n",
       "timestamp_utc                                     \n",
       "2007-04-30 00:00:00+00:00      55.0        405.9  \n",
       "2007-05-31 00:00:00+00:00      65.0        406.0  \n",
       "2007-06-30 00:00:00+00:00      70.0        406.1  \n",
       "2007-07-31 00:00:00+00:00      70.0        406.1  \n",
       "2007-08-31 00:00:00+00:00      78.0        406.1  \n",
       "2007-09-30 00:00:00+00:00      75.0        406.1  \n",
       "2007-10-31 00:00:00+00:00      79.0        405.9  \n",
       "2007-11-30 00:00:00+00:00      79.0        405.9  \n",
       "2007-12-31 00:00:00+00:00      83.0        405.9  \n",
       "2008-01-31 00:00:00+00:00      79.0        405.8  "
      ]
     },
     "execution_count": 93,
     "metadata": {},
     "output_type": "execute_result"
    }
   ],
   "source": [
    "bsp_median = data2betested_my.resample(\"M\").median().head(10)\n",
    "bsp_median"
   ]
  },
  {
   "cell_type": "code",
   "execution_count": 91,
   "metadata": {},
   "outputs": [
    {
     "data": {
      "text/html": [
       "<div>\n",
       "<style scoped>\n",
       "    .dataframe tbody tr th:only-of-type {\n",
       "        vertical-align: middle;\n",
       "    }\n",
       "\n",
       "    .dataframe tbody tr th {\n",
       "        vertical-align: top;\n",
       "    }\n",
       "\n",
       "    .dataframe thead th {\n",
       "        text-align: right;\n",
       "    }\n",
       "</style>\n",
       "<table border=\"1\" class=\"dataframe\">\n",
       "  <thead>\n",
       "    <tr style=\"text-align: right;\">\n",
       "      <th></th>\n",
       "      <th>air_temperature</th>\n",
       "      <th>water_temperature</th>\n",
       "      <th>wind_gust_max_10min</th>\n",
       "      <th>wind_speed_avg_10min</th>\n",
       "      <th>wind_force_avg_10min</th>\n",
       "      <th>wind_direction</th>\n",
       "      <th>windchill</th>\n",
       "      <th>barometric_pressure_qfe</th>\n",
       "      <th>precipitation</th>\n",
       "      <th>dew_point</th>\n",
       "      <th>global_radiation</th>\n",
       "      <th>humidity</th>\n",
       "      <th>water_level</th>\n",
       "    </tr>\n",
       "    <tr>\n",
       "      <th>timestamp_utc</th>\n",
       "      <th></th>\n",
       "      <th></th>\n",
       "      <th></th>\n",
       "      <th></th>\n",
       "      <th></th>\n",
       "      <th></th>\n",
       "      <th></th>\n",
       "      <th></th>\n",
       "      <th></th>\n",
       "      <th></th>\n",
       "      <th></th>\n",
       "      <th></th>\n",
       "      <th></th>\n",
       "    </tr>\n",
       "  </thead>\n",
       "  <tbody>\n",
       "    <tr>\n",
       "      <th>2007-06-30 00:00:00+00:00</th>\n",
       "      <td>17</td>\n",
       "      <td>17</td>\n",
       "      <td>3</td>\n",
       "      <td>1</td>\n",
       "      <td>1</td>\n",
       "      <td>195</td>\n",
       "      <td>16</td>\n",
       "      <td>966</td>\n",
       "      <td>0</td>\n",
       "      <td>9</td>\n",
       "      <td>43</td>\n",
       "      <td>65</td>\n",
       "      <td>406</td>\n",
       "    </tr>\n",
       "    <tr>\n",
       "      <th>2007-09-30 00:00:00+00:00</th>\n",
       "      <td>16</td>\n",
       "      <td>19</td>\n",
       "      <td>2</td>\n",
       "      <td>1</td>\n",
       "      <td>1</td>\n",
       "      <td>225</td>\n",
       "      <td>16</td>\n",
       "      <td>970</td>\n",
       "      <td>0</td>\n",
       "      <td>11</td>\n",
       "      <td>23</td>\n",
       "      <td>75</td>\n",
       "      <td>406</td>\n",
       "    </tr>\n",
       "  </tbody>\n",
       "</table>\n",
       "</div>"
      ],
      "text/plain": [
       "                           air_temperature  water_temperature  wind_gust_max_10min  \\\n",
       "timestamp_utc                                                                        \n",
       "2007-06-30 00:00:00+00:00               17                 17                    3   \n",
       "2007-09-30 00:00:00+00:00               16                 19                    2   \n",
       "\n",
       "                           wind_speed_avg_10min  wind_force_avg_10min  wind_direction  windchill  \\\n",
       "timestamp_utc                                                                                      \n",
       "2007-06-30 00:00:00+00:00                     1                     1             195         16   \n",
       "2007-09-30 00:00:00+00:00                     1                     1             225         16   \n",
       "\n",
       "                           barometric_pressure_qfe  precipitation  dew_point  global_radiation  \\\n",
       "timestamp_utc                                                                                    \n",
       "2007-06-30 00:00:00+00:00                      966              0          9                43   \n",
       "2007-09-30 00:00:00+00:00                      970              0         11                23   \n",
       "\n",
       "                           humidity  water_level  \n",
       "timestamp_utc                                     \n",
       "2007-06-30 00:00:00+00:00        65          406  \n",
       "2007-09-30 00:00:00+00:00        75          406  "
      ]
     },
     "execution_count": 91,
     "metadata": {},
     "output_type": "execute_result"
    }
   ],
   "source": [
    "# first we create the sums per week\n",
    "weekly_medians = data2betested_my.resample(\"W\").median()\n",
    "# then we generate the weekly means for each quarter\n",
    "quarterly_medians = data2betested_my.resample(\"Q\").median()\n",
    "# for readability we'll revert the values back to integers\n",
    "quarterly_medians.dropna().astype(int).head(2)"
   ]
  },
  {
   "cell_type": "markdown",
   "metadata": {
    "tags": []
   },
   "source": [
    "### Visualisierungen nach Zeitausschnitten"
   ]
  },
  {
   "cell_type": "markdown",
   "metadata": {},
   "source": [
    "Liniendiagramm \n",
    "[Link zur Doku](https://altair-viz.github.io/gallery/multiline_highlight.html)"
   ]
  },
  {
   "cell_type": "code",
   "execution_count": 105,
   "metadata": {},
   "outputs": [
    {
     "data": {
      "text/html": [
       "<div>\n",
       "<style scoped>\n",
       "    .dataframe tbody tr th:only-of-type {\n",
       "        vertical-align: middle;\n",
       "    }\n",
       "\n",
       "    .dataframe tbody tr th {\n",
       "        vertical-align: top;\n",
       "    }\n",
       "\n",
       "    .dataframe thead th {\n",
       "        text-align: right;\n",
       "    }\n",
       "</style>\n",
       "<table border=\"1\" class=\"dataframe\">\n",
       "  <thead>\n",
       "    <tr style=\"text-align: right;\">\n",
       "      <th></th>\n",
       "      <th>air_temperature</th>\n",
       "      <th>water_temperature</th>\n",
       "      <th>wind_gust_max_10min</th>\n",
       "      <th>wind_speed_avg_10min</th>\n",
       "      <th>wind_force_avg_10min</th>\n",
       "      <th>wind_direction</th>\n",
       "      <th>windchill</th>\n",
       "      <th>barometric_pressure_qfe</th>\n",
       "      <th>precipitation</th>\n",
       "      <th>dew_point</th>\n",
       "      <th>global_radiation</th>\n",
       "      <th>humidity</th>\n",
       "      <th>water_level</th>\n",
       "    </tr>\n",
       "    <tr>\n",
       "      <th>timestamp_utc</th>\n",
       "      <th></th>\n",
       "      <th></th>\n",
       "      <th></th>\n",
       "      <th></th>\n",
       "      <th></th>\n",
       "      <th></th>\n",
       "      <th></th>\n",
       "      <th></th>\n",
       "      <th></th>\n",
       "      <th></th>\n",
       "      <th></th>\n",
       "      <th></th>\n",
       "      <th></th>\n",
       "    </tr>\n",
       "  </thead>\n",
       "  <tbody>\n",
       "    <tr>\n",
       "      <th>2017-10-08 00:00:00+00:00</th>\n",
       "      <td>12.4</td>\n",
       "      <td>17.1</td>\n",
       "      <td>3.3</td>\n",
       "      <td>1.8</td>\n",
       "      <td>1.8</td>\n",
       "      <td>220.0</td>\n",
       "      <td>11.9</td>\n",
       "      <td>973.0</td>\n",
       "      <td>0.0</td>\n",
       "      <td>9.0</td>\n",
       "      <td>0.0</td>\n",
       "      <td>77.0</td>\n",
       "      <td>406.0</td>\n",
       "    </tr>\n",
       "    <tr>\n",
       "      <th>2017-10-15 00:00:00+00:00</th>\n",
       "      <td>13.2</td>\n",
       "      <td>16.3</td>\n",
       "      <td>2.0</td>\n",
       "      <td>1.3</td>\n",
       "      <td>1.3</td>\n",
       "      <td>169.0</td>\n",
       "      <td>12.9</td>\n",
       "      <td>977.6</td>\n",
       "      <td>0.0</td>\n",
       "      <td>10.5</td>\n",
       "      <td>0.0</td>\n",
       "      <td>87.0</td>\n",
       "      <td>406.0</td>\n",
       "    </tr>\n",
       "    <tr>\n",
       "      <th>2017-10-22 00:00:00+00:00</th>\n",
       "      <td>13.1</td>\n",
       "      <td>16.2</td>\n",
       "      <td>2.3</td>\n",
       "      <td>1.6</td>\n",
       "      <td>1.6</td>\n",
       "      <td>165.0</td>\n",
       "      <td>12.6</td>\n",
       "      <td>970.3</td>\n",
       "      <td>0.0</td>\n",
       "      <td>9.8</td>\n",
       "      <td>0.0</td>\n",
       "      <td>78.0</td>\n",
       "      <td>405.9</td>\n",
       "    </tr>\n",
       "    <tr>\n",
       "      <th>2017-10-29 00:00:00+00:00</th>\n",
       "      <td>9.9</td>\n",
       "      <td>15.0</td>\n",
       "      <td>2.9</td>\n",
       "      <td>1.8</td>\n",
       "      <td>1.8</td>\n",
       "      <td>166.0</td>\n",
       "      <td>9.1</td>\n",
       "      <td>977.2</td>\n",
       "      <td>0.0</td>\n",
       "      <td>7.6</td>\n",
       "      <td>0.0</td>\n",
       "      <td>84.0</td>\n",
       "      <td>405.9</td>\n",
       "    </tr>\n",
       "    <tr>\n",
       "      <th>2017-11-05 00:00:00+00:00</th>\n",
       "      <td>8.6</td>\n",
       "      <td>13.0</td>\n",
       "      <td>2.8</td>\n",
       "      <td>1.8</td>\n",
       "      <td>1.8</td>\n",
       "      <td>159.0</td>\n",
       "      <td>7.6</td>\n",
       "      <td>969.9</td>\n",
       "      <td>0.0</td>\n",
       "      <td>5.4</td>\n",
       "      <td>0.0</td>\n",
       "      <td>82.0</td>\n",
       "      <td>405.9</td>\n",
       "    </tr>\n",
       "    <tr>\n",
       "      <th>...</th>\n",
       "      <td>...</td>\n",
       "      <td>...</td>\n",
       "      <td>...</td>\n",
       "      <td>...</td>\n",
       "      <td>...</td>\n",
       "      <td>...</td>\n",
       "      <td>...</td>\n",
       "      <td>...</td>\n",
       "      <td>...</td>\n",
       "      <td>...</td>\n",
       "      <td>...</td>\n",
       "      <td>...</td>\n",
       "      <td>...</td>\n",
       "    </tr>\n",
       "    <tr>\n",
       "      <th>2020-11-08 00:00:00+00:00</th>\n",
       "      <td>9.3</td>\n",
       "      <td>NaN</td>\n",
       "      <td>3.4</td>\n",
       "      <td>2.1</td>\n",
       "      <td>2.0</td>\n",
       "      <td>155.5</td>\n",
       "      <td>7.9</td>\n",
       "      <td>1029.0</td>\n",
       "      <td>NaN</td>\n",
       "      <td>7.0</td>\n",
       "      <td>NaN</td>\n",
       "      <td>86.0</td>\n",
       "      <td>NaN</td>\n",
       "    </tr>\n",
       "    <tr>\n",
       "      <th>2020-11-15 00:00:00+00:00</th>\n",
       "      <td>8.3</td>\n",
       "      <td>NaN</td>\n",
       "      <td>2.0</td>\n",
       "      <td>1.3</td>\n",
       "      <td>1.0</td>\n",
       "      <td>172.0</td>\n",
       "      <td>7.9</td>\n",
       "      <td>1024.0</td>\n",
       "      <td>NaN</td>\n",
       "      <td>7.0</td>\n",
       "      <td>NaN</td>\n",
       "      <td>92.0</td>\n",
       "      <td>NaN</td>\n",
       "    </tr>\n",
       "    <tr>\n",
       "      <th>2020-11-22 00:00:00+00:00</th>\n",
       "      <td>6.7</td>\n",
       "      <td>NaN</td>\n",
       "      <td>2.7</td>\n",
       "      <td>1.7</td>\n",
       "      <td>2.0</td>\n",
       "      <td>270.0</td>\n",
       "      <td>6.0</td>\n",
       "      <td>1030.0</td>\n",
       "      <td>NaN</td>\n",
       "      <td>4.2</td>\n",
       "      <td>NaN</td>\n",
       "      <td>82.0</td>\n",
       "      <td>NaN</td>\n",
       "    </tr>\n",
       "    <tr>\n",
       "      <th>2020-11-29 00:00:00+00:00</th>\n",
       "      <td>2.7</td>\n",
       "      <td>NaN</td>\n",
       "      <td>2.9</td>\n",
       "      <td>1.9</td>\n",
       "      <td>2.0</td>\n",
       "      <td>122.5</td>\n",
       "      <td>2.0</td>\n",
       "      <td>1023.0</td>\n",
       "      <td>NaN</td>\n",
       "      <td>1.7</td>\n",
       "      <td>NaN</td>\n",
       "      <td>90.0</td>\n",
       "      <td>NaN</td>\n",
       "    </tr>\n",
       "    <tr>\n",
       "      <th>2020-12-06 00:00:00+00:00</th>\n",
       "      <td>2.1</td>\n",
       "      <td>NaN</td>\n",
       "      <td>2.9</td>\n",
       "      <td>1.8</td>\n",
       "      <td>2.0</td>\n",
       "      <td>153.0</td>\n",
       "      <td>1.2</td>\n",
       "      <td>1007.0</td>\n",
       "      <td>NaN</td>\n",
       "      <td>0.4</td>\n",
       "      <td>NaN</td>\n",
       "      <td>88.0</td>\n",
       "      <td>NaN</td>\n",
       "    </tr>\n",
       "  </tbody>\n",
       "</table>\n",
       "<p>166 rows × 13 columns</p>\n",
       "</div>"
      ],
      "text/plain": [
       "                           air_temperature  water_temperature  wind_gust_max_10min  \\\n",
       "timestamp_utc                                                                        \n",
       "2017-10-08 00:00:00+00:00             12.4               17.1                  3.3   \n",
       "2017-10-15 00:00:00+00:00             13.2               16.3                  2.0   \n",
       "2017-10-22 00:00:00+00:00             13.1               16.2                  2.3   \n",
       "2017-10-29 00:00:00+00:00              9.9               15.0                  2.9   \n",
       "2017-11-05 00:00:00+00:00              8.6               13.0                  2.8   \n",
       "...                                    ...                ...                  ...   \n",
       "2020-11-08 00:00:00+00:00              9.3                NaN                  3.4   \n",
       "2020-11-15 00:00:00+00:00              8.3                NaN                  2.0   \n",
       "2020-11-22 00:00:00+00:00              6.7                NaN                  2.7   \n",
       "2020-11-29 00:00:00+00:00              2.7                NaN                  2.9   \n",
       "2020-12-06 00:00:00+00:00              2.1                NaN                  2.9   \n",
       "\n",
       "                           wind_speed_avg_10min  wind_force_avg_10min  wind_direction  windchill  \\\n",
       "timestamp_utc                                                                                      \n",
       "2017-10-08 00:00:00+00:00                   1.8                   1.8           220.0       11.9   \n",
       "2017-10-15 00:00:00+00:00                   1.3                   1.3           169.0       12.9   \n",
       "2017-10-22 00:00:00+00:00                   1.6                   1.6           165.0       12.6   \n",
       "2017-10-29 00:00:00+00:00                   1.8                   1.8           166.0        9.1   \n",
       "2017-11-05 00:00:00+00:00                   1.8                   1.8           159.0        7.6   \n",
       "...                                         ...                   ...             ...        ...   \n",
       "2020-11-08 00:00:00+00:00                   2.1                   2.0           155.5        7.9   \n",
       "2020-11-15 00:00:00+00:00                   1.3                   1.0           172.0        7.9   \n",
       "2020-11-22 00:00:00+00:00                   1.7                   2.0           270.0        6.0   \n",
       "2020-11-29 00:00:00+00:00                   1.9                   2.0           122.5        2.0   \n",
       "2020-12-06 00:00:00+00:00                   1.8                   2.0           153.0        1.2   \n",
       "\n",
       "                           barometric_pressure_qfe  precipitation  dew_point  global_radiation  \\\n",
       "timestamp_utc                                                                                    \n",
       "2017-10-08 00:00:00+00:00                    973.0            0.0        9.0               0.0   \n",
       "2017-10-15 00:00:00+00:00                    977.6            0.0       10.5               0.0   \n",
       "2017-10-22 00:00:00+00:00                    970.3            0.0        9.8               0.0   \n",
       "2017-10-29 00:00:00+00:00                    977.2            0.0        7.6               0.0   \n",
       "2017-11-05 00:00:00+00:00                    969.9            0.0        5.4               0.0   \n",
       "...                                            ...            ...        ...               ...   \n",
       "2020-11-08 00:00:00+00:00                   1029.0            NaN        7.0               NaN   \n",
       "2020-11-15 00:00:00+00:00                   1024.0            NaN        7.0               NaN   \n",
       "2020-11-22 00:00:00+00:00                   1030.0            NaN        4.2               NaN   \n",
       "2020-11-29 00:00:00+00:00                   1023.0            NaN        1.7               NaN   \n",
       "2020-12-06 00:00:00+00:00                   1007.0            NaN        0.4               NaN   \n",
       "\n",
       "                           humidity  water_level  \n",
       "timestamp_utc                                     \n",
       "2017-10-08 00:00:00+00:00      77.0        406.0  \n",
       "2017-10-15 00:00:00+00:00      87.0        406.0  \n",
       "2017-10-22 00:00:00+00:00      78.0        405.9  \n",
       "2017-10-29 00:00:00+00:00      84.0        405.9  \n",
       "2017-11-05 00:00:00+00:00      82.0        405.9  \n",
       "...                             ...          ...  \n",
       "2020-11-08 00:00:00+00:00      86.0          NaN  \n",
       "2020-11-15 00:00:00+00:00      92.0          NaN  \n",
       "2020-11-22 00:00:00+00:00      82.0          NaN  \n",
       "2020-11-29 00:00:00+00:00      90.0          NaN  \n",
       "2020-12-06 00:00:00+00:00      88.0          NaN  \n",
       "\n",
       "[166 rows x 13 columns]"
      ]
     },
     "execution_count": 105,
     "metadata": {},
     "output_type": "execute_result"
    }
   ],
   "source": [
    "weekly_medians.dtypes\n",
    "weekly_medians.loc[\"2017-10-04\":\"2020-12-06\"]"
   ]
  },
  {
   "cell_type": "code",
   "execution_count": 110,
   "metadata": {},
   "outputs": [
    {
     "data": {
      "text/html": [
       "\n",
       "<div id=\"altair-viz-13dcde47f3f246c98469b6ea491b174e\"></div>\n",
       "<script type=\"text/javascript\">\n",
       "  (function(spec, embedOpt){\n",
       "    let outputDiv = document.currentScript.previousElementSibling;\n",
       "    if (outputDiv.id !== \"altair-viz-13dcde47f3f246c98469b6ea491b174e\") {\n",
       "      outputDiv = document.getElementById(\"altair-viz-13dcde47f3f246c98469b6ea491b174e\");\n",
       "    }\n",
       "    const paths = {\n",
       "      \"vega\": \"https://cdn.jsdelivr.net/npm//vega@5?noext\",\n",
       "      \"vega-lib\": \"https://cdn.jsdelivr.net/npm//vega-lib?noext\",\n",
       "      \"vega-lite\": \"https://cdn.jsdelivr.net/npm//vega-lite@4.8.1?noext\",\n",
       "      \"vega-embed\": \"https://cdn.jsdelivr.net/npm//vega-embed@6?noext\",\n",
       "    };\n",
       "\n",
       "    function loadScript(lib) {\n",
       "      return new Promise(function(resolve, reject) {\n",
       "        var s = document.createElement('script');\n",
       "        s.src = paths[lib];\n",
       "        s.async = true;\n",
       "        s.onload = () => resolve(paths[lib]);\n",
       "        s.onerror = () => reject(`Error loading script: ${paths[lib]}`);\n",
       "        document.getElementsByTagName(\"head\")[0].appendChild(s);\n",
       "      });\n",
       "    }\n",
       "\n",
       "    function showError(err) {\n",
       "      outputDiv.innerHTML = `<div class=\"error\" style=\"color:red;\">${err}</div>`;\n",
       "      throw err;\n",
       "    }\n",
       "\n",
       "    function displayChart(vegaEmbed) {\n",
       "      vegaEmbed(outputDiv, spec, embedOpt)\n",
       "        .catch(err => showError(`Javascript Error: ${err.message}<br>This usually means there's a typo in your chart specification. See the javascript console for the full traceback.`));\n",
       "    }\n",
       "\n",
       "    if(typeof define === \"function\" && define.amd) {\n",
       "      requirejs.config({paths});\n",
       "      require([\"vega-embed\"], displayChart, err => showError(`Error loading script: ${err.message}`));\n",
       "    } else if (typeof vegaEmbed === \"function\") {\n",
       "      displayChart(vegaEmbed);\n",
       "    } else {\n",
       "      loadScript(\"vega\")\n",
       "        .then(() => loadScript(\"vega-lite\"))\n",
       "        .then(() => loadScript(\"vega-embed\"))\n",
       "        .catch(showError)\n",
       "        .then(() => displayChart(vegaEmbed));\n",
       "    }\n",
       "  })({\"config\": {\"view\": {\"continuousWidth\": 400, \"continuousHeight\": 300}}, \"layer\": [{\"mark\": \"circle\", \"encoding\": {\"color\": {\"type\": \"quantitative\", \"field\": \"air_temperature\"}, \"opacity\": {\"value\": 0}, \"y\": {\"type\": \"quantitative\", \"field\": \"water_temperature\"}}, \"height\": 300, \"selection\": {\"selector019\": {\"type\": \"single\", \"on\": \"mouseover\", \"fields\": [\"air_temperature\"], \"nearest\": true}}, \"width\": 700}, {\"mark\": \"line\", \"encoding\": {\"color\": {\"type\": \"quantitative\", \"field\": \"air_temperature\"}, \"size\": {\"condition\": {\"value\": 1.5, \"selection\": {\"not\": \"selector019\"}}, \"value\": 4}, \"y\": {\"type\": \"quantitative\", \"field\": \"water_temperature\"}}, \"selection\": {\"selector020\": {\"type\": \"interval\", \"bind\": \"scales\", \"encodings\": [\"x\", \"y\"]}}}], \"data\": {\"name\": \"data-0dacc556667b04686ea1bf714c467751\"}, \"$schema\": \"https://vega.github.io/schema/vega-lite/v4.8.1.json\", \"datasets\": {\"data-0dacc556667b04686ea1bf714c467751\": [{\"air_temperature\": 15.149999999999999, \"water_temperature\": 15.2, \"wind_gust_max_10min\": 1.4, \"wind_speed_avg_10min\": 1.05, \"wind_force_avg_10min\": 1.05, \"wind_direction\": 170.5, \"windchill\": 15.149999999999999, \"barometric_pressure_qfe\": 974.6, \"precipitation\": 0.0, \"dew_point\": 7.6, \"global_radiation\": 3.0, \"humidity\": 61.5, \"water_level\": 405.94}, {\"air_temperature\": 18.3, \"water_temperature\": 17.3, \"wind_gust_max_10min\": 2.3, \"wind_speed_avg_10min\": 1.3, \"wind_force_avg_10min\": 1.3, \"wind_direction\": 163.0, \"windchill\": 17.95, \"barometric_pressure_qfe\": 970.7, \"precipitation\": 0.0, \"dew_point\": 8.5, \"global_radiation\": 36.0, \"humidity\": 55.0, \"water_level\": 405.95}, {\"air_temperature\": 13.4, \"water_temperature\": 16.2, \"wind_gust_max_10min\": 3.5, \"wind_speed_avg_10min\": 1.8, \"wind_force_avg_10min\": 1.8, \"wind_direction\": 191.5, \"windchill\": 12.3, \"barometric_pressure_qfe\": 962.2, \"precipitation\": 0.0, \"dew_point\": 7.3, \"global_radiation\": 25.0, \"humidity\": 60.0, \"water_level\": 405.96}, {\"air_temperature\": 16.2, \"water_temperature\": 12.8, \"wind_gust_max_10min\": 5.3, \"wind_speed_avg_10min\": 2.2, \"wind_force_avg_10min\": 2.2, \"wind_direction\": 237.0, \"windchill\": 14.9, \"barometric_pressure_qfe\": 969.1, \"precipitation\": 0.0, \"dew_point\": 7.7, \"global_radiation\": 46.0, \"humidity\": 56.0, \"water_level\": 405.97}, {\"air_temperature\": 12.8, \"water_temperature\": 13.3, \"wind_gust_max_10min\": 3.6, \"wind_speed_avg_10min\": 1.8, \"wind_force_avg_10min\": 1.8, \"wind_direction\": 216.0, \"windchill\": 12.2, \"barometric_pressure_qfe\": 967.4, \"precipitation\": 0.0, \"dew_point\": 7.7, \"global_radiation\": 33.5, \"humidity\": 73.0, \"water_level\": 406.03}, {\"air_temperature\": 20.1, \"water_temperature\": 19.8, \"wind_gust_max_10min\": 3.25, \"wind_speed_avg_10min\": 1.9, \"wind_force_avg_10min\": 1.9, \"wind_direction\": 163.0, \"windchill\": 19.35, \"barometric_pressure_qfe\": 967.2, \"precipitation\": 0.0, \"dew_point\": 13.2, \"global_radiation\": 53.0, \"humidity\": 63.0, \"water_level\": 406.04}, {\"air_temperature\": 11.6, \"water_temperature\": 16.1, \"wind_gust_max_10min\": 3.1, \"wind_speed_avg_10min\": 1.6, \"wind_force_avg_10min\": 1.6, \"wind_direction\": 203.0, \"windchill\": 11.0, \"barometric_pressure_qfe\": 966.7, \"precipitation\": 0.0, \"dew_point\": 7.5, \"global_radiation\": 34.0, \"humidity\": 83.0, \"water_level\": 406.07}, {\"air_temperature\": 19.6, \"water_temperature\": 17.9, \"wind_gust_max_10min\": 2.7, \"wind_speed_avg_10min\": 1.5, \"wind_force_avg_10min\": 1.5, \"wind_direction\": 161.0, \"windchill\": 19.0, \"barometric_pressure_qfe\": 968.3, \"precipitation\": 0.0, \"dew_point\": 14.0, \"global_radiation\": 55.0, \"humidity\": 77.0, \"water_level\": 406.04}, {\"air_temperature\": 19.2, \"water_temperature\": 20.9, \"wind_gust_max_10min\": 3.0, \"wind_speed_avg_10min\": 1.7, \"wind_force_avg_10min\": 1.7, \"wind_direction\": 191.0, \"windchill\": 18.75, \"barometric_pressure_qfe\": 963.9, \"precipitation\": 0.0, \"dew_point\": 13.1, \"global_radiation\": 55.0, \"humidity\": 71.0, \"water_level\": 406.05}, {\"air_temperature\": 20.0, \"water_temperature\": 21.6, \"wind_gust_max_10min\": 3.4, \"wind_speed_avg_10min\": 1.8, \"wind_force_avg_10min\": 1.8, \"wind_direction\": 208.0, \"windchill\": 19.2, \"barometric_pressure_qfe\": 967.1, \"precipitation\": 0.0, \"dew_point\": 12.45, \"global_radiation\": 58.0, \"humidity\": 61.0, \"water_level\": 406.05}, {\"air_temperature\": 16.05, \"water_temperature\": 18.5, \"wind_gust_max_10min\": 4.6, \"wind_speed_avg_10min\": 2.1, \"wind_force_avg_10min\": 2.1, \"wind_direction\": 221.0, \"windchill\": 15.0, \"barometric_pressure_qfe\": 966.8, \"precipitation\": 0.0, \"dew_point\": 9.3, \"global_radiation\": 40.0, \"humidity\": 66.0, \"water_level\": 406.06}, {\"air_temperature\": 15.6, \"water_temperature\": 18.5, \"wind_gust_max_10min\": 5.1, \"wind_speed_avg_10min\": 2.45, \"wind_force_avg_10min\": 2.45, \"wind_direction\": 220.0, \"windchill\": 14.75, \"barometric_pressure_qfe\": 969.3, \"precipitation\": 0.0, \"dew_point\": 11.45, \"global_radiation\": 38.0, \"humidity\": 75.0, \"water_level\": 406.09}, {\"air_temperature\": 16.0, \"water_temperature\": 18.2, \"wind_gust_max_10min\": 2.6, \"wind_speed_avg_10min\": 1.4, \"wind_force_avg_10min\": 1.4, \"wind_direction\": 198.5, \"windchill\": 15.7, \"barometric_pressure_qfe\": 970.6, \"precipitation\": 0.0, \"dew_point\": 11.2, \"global_radiation\": 35.0, \"humidity\": 77.0, \"water_level\": 406.12}, {\"air_temperature\": 21.2, \"water_temperature\": 21.8, \"wind_gust_max_10min\": 2.7, \"wind_speed_avg_10min\": 1.4, \"wind_force_avg_10min\": 1.4, \"wind_direction\": 203.0, \"windchill\": 20.6, \"barometric_pressure_qfe\": 969.4, \"precipitation\": 0.0, \"dew_point\": 14.6, \"global_radiation\": 35.0, \"humidity\": 67.0, \"water_level\": 406.06}, {\"air_temperature\": 19.5, \"water_temperature\": 20.9, \"wind_gust_max_10min\": 3.2, \"wind_speed_avg_10min\": 1.5, \"wind_force_avg_10min\": 1.5, \"wind_direction\": 242.0, \"windchill\": 19.2, \"barometric_pressure_qfe\": 969.7, \"precipitation\": 0.0, \"dew_point\": 12.0, \"global_radiation\": 43.0, \"humidity\": 64.0, \"water_level\": 406.05}, {\"air_temperature\": 18.1, \"water_temperature\": 20.8, \"wind_gust_max_10min\": 3.1, \"wind_speed_avg_10min\": 1.6, \"wind_force_avg_10min\": 1.6, \"wind_direction\": 186.0, \"windchill\": 17.1, \"barometric_pressure_qfe\": 971.1, \"precipitation\": 0.0, \"dew_point\": 10.7, \"global_radiation\": 40.0, \"humidity\": 62.0, \"water_level\": 406.06}, {\"air_temperature\": 16.2, \"water_temperature\": 19.8, \"wind_gust_max_10min\": 2.6, \"wind_speed_avg_10min\": 1.3, \"wind_force_avg_10min\": 1.3, \"wind_direction\": 241.5, \"windchill\": 15.9, \"barometric_pressure_qfe\": 965.7, \"precipitation\": 0.0, \"dew_point\": 12.8, \"global_radiation\": 20.0, \"humidity\": 83.0, \"water_level\": 406.21}, {\"air_temperature\": 19.3, \"water_temperature\": 21.4, \"wind_gust_max_10min\": 3.0, \"wind_speed_avg_10min\": 1.6, \"wind_force_avg_10min\": 1.6, \"wind_direction\": 202.5, \"windchill\": 18.5, \"barometric_pressure_qfe\": 966.5, \"precipitation\": 0.0, \"dew_point\": 13.05, \"global_radiation\": 24.0, \"humidity\": 75.0, \"water_level\": 406.07}, {\"air_temperature\": 16.9, \"water_temperature\": 21.0, \"wind_gust_max_10min\": 1.9, \"wind_speed_avg_10min\": 1.1, \"wind_force_avg_10min\": 1.1, \"wind_direction\": 212.5, \"windchill\": 16.7, \"barometric_pressure_qfe\": 967.3, \"precipitation\": 0.0, \"dew_point\": 12.0, \"global_radiation\": 24.0, \"humidity\": 77.0, \"water_level\": 406.07}, {\"air_temperature\": 17.5, \"water_temperature\": 21.1, \"wind_gust_max_10min\": 2.7, \"wind_speed_avg_10min\": 1.4, \"wind_force_avg_10min\": 1.4, \"wind_direction\": 269.0, \"windchill\": 17.2, \"barometric_pressure_qfe\": 971.5, \"precipitation\": 0.0, \"dew_point\": 12.0, \"global_radiation\": 10.0, \"humidity\": 82.0, \"water_level\": 406.07}, {\"air_temperature\": 14.0, \"water_temperature\": 18.7, \"wind_gust_max_10min\": 2.8499999999999996, \"wind_speed_avg_10min\": 1.5, \"wind_force_avg_10min\": 1.5, \"wind_direction\": 286.0, \"windchill\": 13.1, \"barometric_pressure_qfe\": 977.1, \"precipitation\": 0.0, \"dew_point\": 8.3, \"global_radiation\": 16.0, \"humidity\": 76.0, \"water_level\": 406.08}, {\"air_temperature\": 15.9, \"water_temperature\": 18.3, \"wind_gust_max_10min\": 2.7, \"wind_speed_avg_10min\": 1.5, \"wind_force_avg_10min\": 1.5, \"wind_direction\": 247.5, \"windchill\": 15.0, \"barometric_pressure_qfe\": 973.9, \"precipitation\": 0.0, \"dew_point\": 9.2, \"global_radiation\": 13.0, \"humidity\": 70.5, \"water_level\": 406.04}, {\"air_temperature\": 14.3, \"water_temperature\": 18.5, \"wind_gust_max_10min\": 2.2, \"wind_speed_avg_10min\": 1.3, \"wind_force_avg_10min\": 1.3, \"wind_direction\": 257.5, \"windchill\": 13.649999999999999, \"barometric_pressure_qfe\": 975.9, \"precipitation\": 0.0, \"dew_point\": 8.55, \"global_radiation\": 8.0, \"humidity\": 80.0, \"water_level\": 406.05}, {\"air_temperature\": 12.0, \"water_temperature\": 17.7, \"wind_gust_max_10min\": 2.8, \"wind_speed_avg_10min\": 1.5, \"wind_force_avg_10min\": 1.5, \"wind_direction\": 212.0, \"windchill\": 11.350000000000001, \"barometric_pressure_qfe\": 969.0, \"precipitation\": 0.0, \"dew_point\": 6.6, \"global_radiation\": 5.0, \"humidity\": 78.0, \"water_level\": 406.03}, {\"air_temperature\": 16.3, \"water_temperature\": 17.8, \"wind_gust_max_10min\": 1.9, \"wind_speed_avg_10min\": 1.1, \"wind_force_avg_10min\": 1.1, \"wind_direction\": 170.0, \"windchill\": 15.9, \"barometric_pressure_qfe\": 972.8, \"precipitation\": 0.0, \"dew_point\": 12.649999999999999, \"global_radiation\": 6.0, \"humidity\": 82.0, \"water_level\": 406.0}, {\"air_temperature\": 11.1, \"water_temperature\": 16.3, \"wind_gust_max_10min\": 2.6, \"wind_speed_avg_10min\": 1.3, \"wind_force_avg_10min\": 1.3, \"wind_direction\": 272.0, \"windchill\": 10.3, \"barometric_pressure_qfe\": 975.6, \"precipitation\": 0.0, \"dew_point\": 6.9, \"global_radiation\": 5.0, \"humidity\": 81.0, \"water_level\": 405.96}, {\"air_temperature\": 8.8, \"water_temperature\": 15.7, \"wind_gust_max_10min\": 2.8, \"wind_speed_avg_10min\": 1.5, \"wind_force_avg_10min\": 1.5, \"wind_direction\": 199.0, \"windchill\": 8.3, \"barometric_pressure_qfe\": 976.8, \"precipitation\": 0.0, \"dew_point\": 3.1, \"global_radiation\": 5.0, \"humidity\": 76.0, \"water_level\": 405.94}, {\"air_temperature\": 6.7, \"water_temperature\": 13.1, \"wind_gust_max_10min\": 4.35, \"wind_speed_avg_10min\": 2.4, \"wind_force_avg_10min\": 2.4, \"wind_direction\": 48.0, \"windchill\": 4.8, \"barometric_pressure_qfe\": 971.4, \"precipitation\": 0.0, \"dew_point\": 3.1, \"global_radiation\": 5.0, \"humidity\": 75.0, \"water_level\": 405.92}, {\"air_temperature\": 7.6, \"water_temperature\": 12.1, \"wind_gust_max_10min\": 2.8, \"wind_speed_avg_10min\": 1.5, \"wind_force_avg_10min\": 1.5, \"wind_direction\": 120.0, \"windchill\": 6.8, \"barometric_pressure_qfe\": 978.0, \"precipitation\": 0.0, \"dew_point\": 4.2, \"global_radiation\": 5.0, \"humidity\": 85.0, \"water_level\": 405.91}, {\"air_temperature\": 7.0, \"water_temperature\": 11.0, \"wind_gust_max_10min\": 6.1, \"wind_speed_avg_10min\": 2.4, \"wind_force_avg_10min\": 2.4, \"wind_direction\": 247.0, \"windchill\": 5.0, \"barometric_pressure_qfe\": 976.5, \"precipitation\": 0.0, \"dew_point\": 1.7, \"global_radiation\": 5.0, \"humidity\": 70.0, \"water_level\": 405.9}, {\"air_temperature\": 0.7, \"water_temperature\": 8.3, \"wind_gust_max_10min\": 4.4, \"wind_speed_avg_10min\": 2.1, \"wind_force_avg_10min\": 2.1, \"wind_direction\": 190.5, \"windchill\": -1.7, \"barometric_pressure_qfe\": 971.6, \"precipitation\": 0.0, \"dew_point\": -4.3, \"global_radiation\": 3.0, \"humidity\": 75.5, \"water_level\": 405.97}, {\"air_temperature\": 5.05, \"water_temperature\": 7.9, \"wind_gust_max_10min\": 2.4, \"wind_speed_avg_10min\": 1.4, \"wind_force_avg_10min\": 1.4, \"wind_direction\": 286.0, \"windchill\": 4.6, \"barometric_pressure_qfe\": 965.4, \"precipitation\": 0.0, \"dew_point\": 2.3, \"global_radiation\": 5.0, \"humidity\": 85.0, \"water_level\": 405.95}, {\"air_temperature\": 4.2, \"water_temperature\": 7.4, \"wind_gust_max_10min\": 2.9, \"wind_speed_avg_10min\": 1.5, \"wind_force_avg_10min\": 1.5, \"wind_direction\": 247.0, \"windchill\": 2.3, \"barometric_pressure_qfe\": 968.6, \"precipitation\": 0.0, \"dew_point\": -1.7, \"global_radiation\": 3.0, \"humidity\": 78.0, \"water_level\": 405.95}, {\"air_temperature\": 6.4, \"water_temperature\": 7.3, \"wind_gust_max_10min\": 6.35, \"wind_speed_avg_10min\": 2.8, \"wind_force_avg_10min\": 2.8, \"wind_direction\": 211.0, \"windchill\": 4.1, \"barometric_pressure_qfe\": 964.4, \"precipitation\": 0.0, \"dew_point\": 2.3, \"global_radiation\": 6.0, \"humidity\": 76.0, \"water_level\": 405.99}, {\"air_temperature\": 2.8, \"water_temperature\": 6.9, \"wind_gust_max_10min\": 5.7, \"wind_speed_avg_10min\": 2.8, \"wind_force_avg_10min\": 2.8, \"wind_direction\": 62.5, \"windchill\": -0.2, \"barometric_pressure_qfe\": 981.5, \"precipitation\": 0.0, \"dew_point\": -0.5, \"global_radiation\": 5.0, \"humidity\": 77.0, \"water_level\": 406.0}, {\"air_temperature\": -2.2, \"water_temperature\": 5.9, \"wind_gust_max_10min\": 2.4, \"wind_speed_avg_10min\": 1.3, \"wind_force_avg_10min\": 1.3, \"wind_direction\": 196.0, \"windchill\": -2.6, \"barometric_pressure_qfe\": 982.2, \"precipitation\": 0.0, \"dew_point\": -4.9, \"global_radiation\": 5.0, \"humidity\": 85.0, \"water_level\": 405.93}, {\"air_temperature\": -1.15, \"water_temperature\": 5.5, \"wind_gust_max_10min\": 2.2, \"wind_speed_avg_10min\": 1.2, \"wind_force_avg_10min\": 1.2, \"wind_direction\": 192.0, \"windchill\": -1.8, \"barometric_pressure_qfe\": 980.3, \"precipitation\": 0.0, \"dew_point\": -3.6, \"global_radiation\": 5.0, \"humidity\": 87.0, \"water_level\": 405.86}, {\"air_temperature\": 0.7, \"water_temperature\": 5.2, \"wind_gust_max_10min\": 3.3, \"wind_speed_avg_10min\": 1.8, \"wind_force_avg_10min\": 1.8, \"wind_direction\": 229.5, \"windchill\": -0.3, \"barometric_pressure_qfe\": 966.7, \"precipitation\": 0.0, \"dew_point\": -3.5, \"global_radiation\": 3.0, \"humidity\": 74.0, \"water_level\": 405.81}, {\"air_temperature\": 3.7, \"water_temperature\": 5.1, \"wind_gust_max_10min\": 3.3, \"wind_speed_avg_10min\": 1.9, \"wind_force_avg_10min\": 1.9, \"wind_direction\": 172.0, \"windchill\": 2.5, \"barometric_pressure_qfe\": 971.3, \"precipitation\": 0.0, \"dew_point\": 0.4, \"global_radiation\": 3.0, \"humidity\": 81.0, \"water_level\": 405.83}, {\"air_temperature\": 5.9, \"water_temperature\": 5.2, \"wind_gust_max_10min\": 3.8, \"wind_speed_avg_10min\": 1.8, \"wind_force_avg_10min\": 1.8, \"wind_direction\": 190.0, \"windchill\": 4.8, \"barometric_pressure_qfe\": 967.4, \"precipitation\": 0.0, \"dew_point\": 1.8, \"global_radiation\": 5.0, \"humidity\": 76.0, \"water_level\": 405.79}, {\"air_temperature\": 3.25, \"water_temperature\": 5.2, \"wind_gust_max_10min\": 2.2, \"wind_speed_avg_10min\": 1.3, \"wind_force_avg_10min\": 1.3, \"wind_direction\": 199.0, \"windchill\": 2.3, \"barometric_pressure_qfe\": 984.4, \"precipitation\": 0.0, \"dew_point\": -0.5, \"global_radiation\": 3.0, \"humidity\": 81.0, \"water_level\": 405.8}, {\"air_temperature\": 2.3499999999999996, \"water_temperature\": 5.0, \"wind_gust_max_10min\": 2.1, \"wind_speed_avg_10min\": 1.2, \"wind_force_avg_10min\": 1.2, \"wind_direction\": 246.0, \"windchill\": 1.5, \"barometric_pressure_qfe\": 975.1, \"precipitation\": 0.0, \"dew_point\": -1.9, \"global_radiation\": 3.0, \"humidity\": 79.0, \"water_level\": 405.74}, {\"air_temperature\": 4.3, \"water_temperature\": 5.0, \"wind_gust_max_10min\": 3.2, \"wind_speed_avg_10min\": 1.7, \"wind_force_avg_10min\": 1.7, \"wind_direction\": 182.0, \"windchill\": 2.55, \"barometric_pressure_qfe\": 984.1, \"precipitation\": 0.0, \"dew_point\": -2.2, \"global_radiation\": 3.0, \"humidity\": 72.0, \"water_level\": 405.73}, {\"air_temperature\": 0.4, \"water_temperature\": 4.9, \"wind_gust_max_10min\": 2.5, \"wind_speed_avg_10min\": 1.4, \"wind_force_avg_10min\": 1.4, \"wind_direction\": 172.0, \"windchill\": -0.7, \"barometric_pressure_qfe\": 984.5, \"precipitation\": 0.0, \"dew_point\": -3.7, \"global_radiation\": 3.0, \"humidity\": 70.0, \"water_level\": 405.7}, {\"air_temperature\": 5.7, \"water_temperature\": 4.8, \"wind_gust_max_10min\": 1.7, \"wind_speed_avg_10min\": 1.1, \"wind_force_avg_10min\": 1.1, \"wind_direction\": 167.5, \"windchill\": 4.65, \"barometric_pressure_qfe\": 979.0, \"precipitation\": 0.0, \"dew_point\": 2.2, \"global_radiation\": 5.0, \"humidity\": 83.0, \"water_level\": 405.67}, {\"air_temperature\": 10.3, \"water_temperature\": 6.1, \"wind_gust_max_10min\": 4.6, \"wind_speed_avg_10min\": 1.9, \"wind_force_avg_10min\": 1.9, \"wind_direction\": 219.0, \"windchill\": 8.1, \"barometric_pressure_qfe\": 972.3, \"precipitation\": 0.0, \"dew_point\": 3.2, \"global_radiation\": 6.0, \"humidity\": 67.0, \"water_level\": 405.66}, {\"air_temperature\": 2.3, \"water_temperature\": 5.1, \"wind_gust_max_10min\": 3.3, \"wind_speed_avg_10min\": 1.8, \"wind_force_avg_10min\": 1.8, \"wind_direction\": 165.0, \"windchill\": 1.5, \"barometric_pressure_qfe\": 966.6, \"precipitation\": 0.0, \"dew_point\": -2.3, \"global_radiation\": 5.0, \"humidity\": 60.0, \"water_level\": 405.74}, {\"air_temperature\": 9.0, \"water_temperature\": 5.4, \"wind_gust_max_10min\": 6.4, \"wind_speed_avg_10min\": 2.5, \"wind_force_avg_10min\": 2.5, \"wind_direction\": 228.0, \"windchill\": 6.5, \"barometric_pressure_qfe\": 959.6, \"precipitation\": 0.0, \"dew_point\": 2.6, \"global_radiation\": 8.0, \"humidity\": 61.0, \"water_level\": 405.79}, {\"air_temperature\": 3.2, \"water_temperature\": 5.4, \"wind_gust_max_10min\": 4.3, \"wind_speed_avg_10min\": 2.0, \"wind_force_avg_10min\": 2.0, \"wind_direction\": 227.0, \"windchill\": 1.3, \"barometric_pressure_qfe\": 962.0, \"precipitation\": 0.0, \"dew_point\": -3.0, \"global_radiation\": 8.0, \"humidity\": 72.0, \"water_level\": 405.9}, {\"air_temperature\": 4.1, \"water_temperature\": 5.2, \"wind_gust_max_10min\": 4.2, \"wind_speed_avg_10min\": 2.0, \"wind_force_avg_10min\": 2.0, \"wind_direction\": 219.0, \"windchill\": 2.6, \"barometric_pressure_qfe\": 960.5, \"precipitation\": 0.0, \"dew_point\": -1.5, \"global_radiation\": 8.0, \"humidity\": 71.0, \"water_level\": 405.87}, {\"air_temperature\": 7.3, \"water_temperature\": 6.3, \"wind_gust_max_10min\": 3.8, \"wind_speed_avg_10min\": 2.2, \"wind_force_avg_10min\": 2.2, \"wind_direction\": 176.0, \"windchill\": 5.5, \"barometric_pressure_qfe\": 974.3, \"precipitation\": 0.0, \"dew_point\": 2.3, \"global_radiation\": 8.0, \"humidity\": 77.0, \"water_level\": 405.9}, {\"air_temperature\": 6.9, \"water_temperature\": 6.5, \"wind_gust_max_10min\": 2.8, \"wind_speed_avg_10min\": 1.6, \"wind_force_avg_10min\": 1.6, \"wind_direction\": 184.0, \"windchill\": 6.1, \"barometric_pressure_qfe\": 956.6, \"precipitation\": 0.0, \"dew_point\": 2.5, \"global_radiation\": 14.0, \"humidity\": 75.0, \"water_level\": 405.96}, {\"air_temperature\": 7.2, \"water_temperature\": 7.5, \"wind_gust_max_10min\": 3.4, \"wind_speed_avg_10min\": 1.7, \"wind_force_avg_10min\": 1.7, \"wind_direction\": 205.5, \"windchill\": 6.1, \"barometric_pressure_qfe\": 956.7, \"precipitation\": 0.0, \"dew_point\": 2.4, \"global_radiation\": 18.0, \"humidity\": 74.0, \"water_level\": 405.96}, {\"air_temperature\": 9.7, \"water_temperature\": 7.9, \"wind_gust_max_10min\": 3.3, \"wind_speed_avg_10min\": 1.8, \"wind_force_avg_10min\": 1.8, \"wind_direction\": 177.0, \"windchill\": 9.1, \"barometric_pressure_qfe\": 974.3499999999999, \"precipitation\": 0.0, \"dew_point\": 6.0, \"global_radiation\": 17.0, \"humidity\": 85.0, \"water_level\": 406.01}, {\"air_temperature\": 12.4, \"water_temperature\": 11.0, \"wind_gust_max_10min\": 3.0, \"wind_speed_avg_10min\": 1.6, \"wind_force_avg_10min\": 1.6, \"wind_direction\": 174.0, \"windchill\": 11.3, \"barometric_pressure_qfe\": 967.8, \"precipitation\": 0.0, \"dew_point\": 5.3, \"global_radiation\": 34.0, \"humidity\": 67.0, \"water_level\": 406.01}, {\"air_temperature\": 16.5, \"water_temperature\": 13.1, \"wind_gust_max_10min\": 4.1, \"wind_speed_avg_10min\": 2.1, \"wind_force_avg_10min\": 2.1, \"wind_direction\": 54.0, \"windchill\": 14.9, \"barometric_pressure_qfe\": 968.8499999999999, \"precipitation\": 0.0, \"dew_point\": 4.2, \"global_radiation\": 54.0, \"humidity\": 43.5, \"water_level\": 406.03}, {\"air_temperature\": 15.6, \"water_temperature\": 17.2, \"wind_gust_max_10min\": 2.3, \"wind_speed_avg_10min\": 1.4, \"wind_force_avg_10min\": 1.4, \"wind_direction\": 43.5, \"windchill\": 15.0, \"barometric_pressure_qfe\": 963.9, \"precipitation\": 0.0, \"dew_point\": 8.350000000000001, \"global_radiation\": 36.0, \"humidity\": 67.0, \"water_level\": 406.05}, {\"air_temperature\": 13.8, \"water_temperature\": 15.8, \"wind_gust_max_10min\": 3.9, \"wind_speed_avg_10min\": 2.1, \"wind_force_avg_10min\": 2.1, \"wind_direction\": 57.0, \"windchill\": 12.4, \"barometric_pressure_qfe\": 964.0, \"precipitation\": 0.0, \"dew_point\": 8.5, \"global_radiation\": 34.0, \"humidity\": 68.0, \"water_level\": 406.05}, {\"air_temperature\": 20.1, \"water_temperature\": 17.7, \"wind_gust_max_10min\": 3.1, \"wind_speed_avg_10min\": 1.6, \"wind_force_avg_10min\": 1.6, \"wind_direction\": 192.0, \"windchill\": 19.4, \"barometric_pressure_qfe\": 963.7, \"precipitation\": 0.0, \"dew_point\": 13.0, \"global_radiation\": 57.0, \"humidity\": 64.0, \"water_level\": 406.08}, {\"air_temperature\": 14.6, \"water_temperature\": 17.7, \"wind_gust_max_10min\": 2.3, \"wind_speed_avg_10min\": 1.2, \"wind_force_avg_10min\": 1.2, \"wind_direction\": 272.0, \"windchill\": 14.3, \"barometric_pressure_qfe\": 967.7, \"precipitation\": 0.0, \"dew_point\": 11.4, \"global_radiation\": 26.0, \"humidity\": 86.0, \"water_level\": 406.1}, {\"air_temperature\": 14.9, \"water_temperature\": 17.9, \"wind_gust_max_10min\": 3.2, \"wind_speed_avg_10min\": 1.7, \"wind_force_avg_10min\": 1.7, \"wind_direction\": 184.0, \"windchill\": 14.3, \"barometric_pressure_qfe\": 968.5, \"precipitation\": 0.0, \"dew_point\": 9.4, \"global_radiation\": 57.0, \"humidity\": 74.0, \"water_level\": 406.11}, {\"air_temperature\": 18.4, \"water_temperature\": 18.7, \"wind_gust_max_10min\": 1.9, \"wind_speed_avg_10min\": 1.1, \"wind_force_avg_10min\": 1.1, \"wind_direction\": 188.0, \"windchill\": 18.0, \"barometric_pressure_qfe\": 970.1, \"precipitation\": 0.0, \"dew_point\": 12.0, \"global_radiation\": 53.0, \"humidity\": 72.0, \"water_level\": 406.07}, {\"air_temperature\": 23.6, \"water_temperature\": 20.8, \"wind_gust_max_10min\": 3.3, \"wind_speed_avg_10min\": 1.7, \"wind_force_avg_10min\": 1.7, \"wind_direction\": 237.5, \"windchill\": 23.1, \"barometric_pressure_qfe\": 972.2, \"precipitation\": 0.0, \"dew_point\": 14.4, \"global_radiation\": 68.0, \"humidity\": 57.0, \"water_level\": 406.05}, {\"air_temperature\": 20.8, \"water_temperature\": 23.5, \"wind_gust_max_10min\": 2.8, \"wind_speed_avg_10min\": 1.5, \"wind_force_avg_10min\": 1.5, \"wind_direction\": 204.5, \"windchill\": 20.35, \"barometric_pressure_qfe\": 967.9, \"precipitation\": 0.0, \"dew_point\": 14.149999999999999, \"global_radiation\": 50.0, \"humidity\": 64.0, \"water_level\": 406.07}, {\"air_temperature\": 17.2, \"water_temperature\": 21.9, \"wind_gust_max_10min\": 3.3, \"wind_speed_avg_10min\": 1.6, \"wind_force_avg_10min\": 1.6, \"wind_direction\": 221.0, \"windchill\": 16.7, \"barometric_pressure_qfe\": 966.8, \"precipitation\": 0.0, \"dew_point\": 11.3, \"global_radiation\": 36.0, \"humidity\": 68.0, \"water_level\": 406.07}, {\"air_temperature\": 17.7, \"water_temperature\": 21.0, \"wind_gust_max_10min\": 2.8, \"wind_speed_avg_10min\": 1.5, \"wind_force_avg_10min\": 1.5, \"wind_direction\": 209.0, \"windchill\": 17.4, \"barometric_pressure_qfe\": 969.4, \"precipitation\": 0.0, \"dew_point\": 11.2, \"global_radiation\": 37.0, \"humidity\": 71.0, \"water_level\": 406.15}, {\"air_temperature\": 18.9, \"water_temperature\": 20.7, \"wind_gust_max_10min\": 3.3, \"wind_speed_avg_10min\": 1.7, \"wind_force_avg_10min\": 1.7, \"wind_direction\": 190.5, \"windchill\": 17.7, \"barometric_pressure_qfe\": 969.6, \"precipitation\": 0.0, \"dew_point\": 9.3, \"global_radiation\": 52.0, \"humidity\": 55.0, \"water_level\": 406.11}, {\"air_temperature\": 22.0, \"water_temperature\": 23.5, \"wind_gust_max_10min\": 2.5, \"wind_speed_avg_10min\": 1.4, \"wind_force_avg_10min\": 1.4, \"wind_direction\": 186.5, \"windchill\": 21.6, \"barometric_pressure_qfe\": 971.3, \"precipitation\": 0.0, \"dew_point\": 15.9, \"global_radiation\": 36.5, \"humidity\": 67.0, \"water_level\": 406.08}, {\"air_temperature\": 20.1, \"water_temperature\": 22.9, \"wind_gust_max_10min\": 2.9, \"wind_speed_avg_10min\": 1.5, \"wind_force_avg_10min\": 1.5, \"wind_direction\": 216.5, \"windchill\": 19.7, \"barometric_pressure_qfe\": 967.9, \"precipitation\": 0.0, \"dew_point\": 13.8, \"global_radiation\": 31.0, \"humidity\": 69.0, \"water_level\": 406.06}, {\"air_temperature\": 17.4, \"water_temperature\": 21.9, \"wind_gust_max_10min\": 2.8, \"wind_speed_avg_10min\": 1.5, \"wind_force_avg_10min\": 1.5, \"wind_direction\": 235.0, \"windchill\": 17.1, \"barometric_pressure_qfe\": 965.6, \"precipitation\": 0.0, \"dew_point\": 11.2, \"global_radiation\": 18.0, \"humidity\": 80.0, \"water_level\": 406.03}, {\"air_temperature\": 17.2, \"water_temperature\": 21.0, \"wind_gust_max_10min\": 2.6, \"wind_speed_avg_10min\": 1.4, \"wind_force_avg_10min\": 1.4, \"wind_direction\": 221.0, \"windchill\": 16.5, \"barometric_pressure_qfe\": 969.1, \"precipitation\": 0.0, \"dew_point\": 11.8, \"global_radiation\": 23.0, \"humidity\": 75.0, \"water_level\": 406.08}, {\"air_temperature\": 18.9, \"water_temperature\": 21.0, \"wind_gust_max_10min\": 2.0, \"wind_speed_avg_10min\": 1.2, \"wind_force_avg_10min\": 1.2, \"wind_direction\": 194.0, \"windchill\": 18.8, \"barometric_pressure_qfe\": 972.4, \"precipitation\": 0.0, \"dew_point\": 13.2, \"global_radiation\": 29.0, \"humidity\": 76.0, \"water_level\": 406.05}, {\"air_temperature\": 17.7, \"water_temperature\": 21.5, \"wind_gust_max_10min\": 2.5, \"wind_speed_avg_10min\": 1.4, \"wind_force_avg_10min\": 1.4, \"wind_direction\": 208.0, \"windchill\": 17.2, \"barometric_pressure_qfe\": 964.6, \"precipitation\": 0.0, \"dew_point\": 13.9, \"global_radiation\": 10.0, \"humidity\": 86.0, \"water_level\": 406.02}, {\"air_temperature\": 15.850000000000001, \"water_temperature\": 20.9, \"wind_gust_max_10min\": 2.3, \"wind_speed_avg_10min\": 1.3, \"wind_force_avg_10min\": 1.3, \"wind_direction\": 243.0, \"windchill\": 15.3, \"barometric_pressure_qfe\": 969.8, \"precipitation\": 0.0, \"dew_point\": 11.45, \"global_radiation\": 7.0, \"humidity\": 85.0, \"water_level\": 406.08}, {\"air_temperature\": 10.0, \"water_temperature\": 17.3, \"wind_gust_max_10min\": 3.7, \"wind_speed_avg_10min\": 2.0, \"wind_force_avg_10min\": 2.0, \"wind_direction\": 117.5, \"windchill\": 8.4, \"barometric_pressure_qfe\": 973.2, \"precipitation\": 0.0, \"dew_point\": 5.0, \"global_radiation\": 6.0, \"humidity\": 77.0, \"water_level\": 406.09}, {\"air_temperature\": 10.8, \"water_temperature\": 15.8, \"wind_gust_max_10min\": 3.7, \"wind_speed_avg_10min\": 1.9, \"wind_force_avg_10min\": 1.9, \"wind_direction\": 61.0, \"windchill\": 8.9, \"barometric_pressure_qfe\": 975.7, \"precipitation\": 0.0, \"dew_point\": 5.6, \"global_radiation\": 6.0, \"humidity\": 79.0, \"water_level\": 406.05}, {\"air_temperature\": 12.0, \"water_temperature\": 14.7, \"wind_gust_max_10min\": 4.6, \"wind_speed_avg_10min\": 2.0, \"wind_force_avg_10min\": 2.0, \"wind_direction\": 255.5, \"windchill\": 9.649999999999999, \"barometric_pressure_qfe\": 967.0, \"precipitation\": 0.0, \"dew_point\": 5.1, \"global_radiation\": 5.0, \"humidity\": 68.0, \"water_level\": 405.98}, {\"air_temperature\": 14.0, \"water_temperature\": 14.6, \"wind_gust_max_10min\": 2.3, \"wind_speed_avg_10min\": 1.4, \"wind_force_avg_10min\": 1.4, \"wind_direction\": 181.0, \"windchill\": 13.8, \"barometric_pressure_qfe\": 979.4, \"precipitation\": 0.0, \"dew_point\": 11.0, \"global_radiation\": 5.0, \"humidity\": 86.0, \"water_level\": 405.96}, {\"air_temperature\": 12.9, \"water_temperature\": 15.0, \"wind_gust_max_10min\": 1.9, \"wind_speed_avg_10min\": 1.2, \"wind_force_avg_10min\": 1.2, \"wind_direction\": 200.0, \"windchill\": 12.7, \"barometric_pressure_qfe\": 973.5, \"precipitation\": 0.0, \"dew_point\": 9.2, \"global_radiation\": 5.0, \"humidity\": 86.0, \"water_level\": 405.93}, {\"air_temperature\": 8.8, \"water_temperature\": 13.8, \"wind_gust_max_10min\": 2.8, \"wind_speed_avg_10min\": 1.6, \"wind_force_avg_10min\": 1.6, \"wind_direction\": 173.0, \"windchill\": 8.2, \"barometric_pressure_qfe\": 977.0, \"precipitation\": 0.0, \"dew_point\": 5.8, \"global_radiation\": 5.0, \"humidity\": 84.0, \"water_level\": 405.93}, {\"air_temperature\": 4.7, \"water_temperature\": 12.4, \"wind_gust_max_10min\": 2.6, \"wind_speed_avg_10min\": 1.3, \"wind_force_avg_10min\": 1.3, \"wind_direction\": 258.5, \"windchill\": 4.4, \"barometric_pressure_qfe\": 960.1, \"precipitation\": 0.0, \"dew_point\": 2.7, \"global_radiation\": 5.0, \"humidity\": 87.0, \"water_level\": 405.95}, {\"air_temperature\": 8.7, \"water_temperature\": 11.6, \"wind_gust_max_10min\": 2.1, \"wind_speed_avg_10min\": 1.2, \"wind_force_avg_10min\": 1.2, \"wind_direction\": 230.0, \"windchill\": 8.3, \"barometric_pressure_qfe\": 968.2, \"precipitation\": 0.0, \"dew_point\": 5.9, \"global_radiation\": 5.0, \"humidity\": 87.0, \"water_level\": 405.93}, {\"air_temperature\": 6.9, \"water_temperature\": 11.0, \"wind_gust_max_10min\": 2.7, \"wind_speed_avg_10min\": 1.6, \"wind_force_avg_10min\": 1.6, \"wind_direction\": 180.0, \"windchill\": 6.1, \"barometric_pressure_qfe\": 977.6, \"precipitation\": 0.0, \"dew_point\": 3.7, \"global_radiation\": 5.0, \"humidity\": 84.0, \"water_level\": 405.9}, {\"air_temperature\": 6.0, \"water_temperature\": 10.2, \"wind_gust_max_10min\": 4.6, \"wind_speed_avg_10min\": 2.05, \"wind_force_avg_10min\": 2.05, \"wind_direction\": 244.0, \"windchill\": 4.35, \"barometric_pressure_qfe\": 969.7, \"precipitation\": 0.0, \"dew_point\": 1.9, \"global_radiation\": 5.0, \"humidity\": 77.0, \"water_level\": 405.91}, {\"air_temperature\": 0.5, \"water_temperature\": 7.4, \"wind_gust_max_10min\": 2.4, \"wind_speed_avg_10min\": 1.4, \"wind_force_avg_10min\": 1.4, \"wind_direction\": 287.5, \"windchill\": -0.6, \"barometric_pressure_qfe\": 954.6, \"precipitation\": 0.0, \"dew_point\": -3.0, \"global_radiation\": 5.0, \"humidity\": 85.0, \"water_level\": 405.92}, {\"air_temperature\": 4.2, \"water_temperature\": 7.1, \"wind_gust_max_10min\": 4.2, \"wind_speed_avg_10min\": 2.0, \"wind_force_avg_10min\": 2.0, \"wind_direction\": 213.0, \"windchill\": 2.3, \"barometric_pressure_qfe\": 958.4, \"precipitation\": 0.0, \"dew_point\": 0.3, \"global_radiation\": 5.0, \"humidity\": 77.0, \"water_level\": 405.91}, {\"air_temperature\": 0.6, \"water_temperature\": 6.6, \"wind_gust_max_10min\": 3.0, \"wind_speed_avg_10min\": 1.6, \"wind_force_avg_10min\": 1.6, \"wind_direction\": 304.0, \"windchill\": 0.2, \"barometric_pressure_qfe\": 964.5, \"precipitation\": 0.0, \"dew_point\": -1.6, \"global_radiation\": 3.0, \"humidity\": 87.0, \"water_level\": 405.9}, {\"air_temperature\": 1.3, \"water_temperature\": 6.2, \"wind_gust_max_10min\": 2.6, \"wind_speed_avg_10min\": 1.3, \"wind_force_avg_10min\": 1.3, \"wind_direction\": 237.0, \"windchill\": 1.0, \"barometric_pressure_qfe\": 973.55, \"precipitation\": 0.0, \"dew_point\": -0.8, \"global_radiation\": 5.0, \"humidity\": 87.0, \"water_level\": 405.89}, {\"air_temperature\": 2.3, \"water_temperature\": 6.2, \"wind_gust_max_10min\": 4.0, \"wind_speed_avg_10min\": 2.2, \"wind_force_avg_10min\": 2.2, \"wind_direction\": 60.0, \"windchill\": 0.0, \"barometric_pressure_qfe\": 980.1, \"precipitation\": 0.0, \"dew_point\": -0.1, \"global_radiation\": 3.0, \"humidity\": 74.0, \"water_level\": 405.88}, {\"air_temperature\": -2.4, \"water_temperature\": 5.1, \"wind_gust_max_10min\": 2.7, \"wind_speed_avg_10min\": 1.5, \"wind_force_avg_10min\": 1.5, \"wind_direction\": 162.5, \"windchill\": -3.0, \"barometric_pressure_qfe\": 976.6, \"precipitation\": 0.0, \"dew_point\": -4.7, \"global_radiation\": 3.0, \"humidity\": 85.0, \"water_level\": 405.81}, {\"air_temperature\": -3.9, \"water_temperature\": 4.4, \"wind_gust_max_10min\": 3.1, \"wind_speed_avg_10min\": 1.8, \"wind_force_avg_10min\": 1.8, \"wind_direction\": 105.0, \"windchill\": -5.0, \"barometric_pressure_qfe\": 975.5, \"precipitation\": 0.0, \"dew_point\": -6.3, \"global_radiation\": 3.0, \"humidity\": 83.0, \"water_level\": 405.78}, {\"air_temperature\": -0.8, \"water_temperature\": 4.3, \"wind_gust_max_10min\": 2.1, \"wind_speed_avg_10min\": 1.2, \"wind_force_avg_10min\": 1.2, \"wind_direction\": 252.0, \"windchill\": -1.85, \"barometric_pressure_qfe\": 972.6500000000001, \"precipitation\": 0.0, \"dew_point\": -3.3499999999999996, \"global_radiation\": 3.0, \"humidity\": 87.0, \"water_level\": 405.76}, {\"air_temperature\": 2.6, \"water_temperature\": 4.6, \"wind_gust_max_10min\": 2.7, \"wind_speed_avg_10min\": 1.6, \"wind_force_avg_10min\": 1.6, \"wind_direction\": 183.5, \"windchill\": 1.5, \"barometric_pressure_qfe\": 952.4, \"precipitation\": 0.0, \"dew_point\": -0.4, \"global_radiation\": 5.0, \"humidity\": 86.0, \"water_level\": 405.79}, {\"air_temperature\": 0.5, \"water_temperature\": 4.3, \"wind_gust_max_10min\": 4.2, \"wind_speed_avg_10min\": 2.4, \"wind_force_avg_10min\": 2.4, \"wind_direction\": 48.0, \"windchill\": -2.2, \"barometric_pressure_qfe\": 967.1, \"precipitation\": 0.0, \"dew_point\": -3.1, \"global_radiation\": 5.0, \"humidity\": 75.0, \"water_level\": 405.72}, {\"air_temperature\": 2.6, \"water_temperature\": 4.3, \"wind_gust_max_10min\": 2.0, \"wind_speed_avg_10min\": 1.1, \"wind_force_avg_10min\": 1.1, \"wind_direction\": 242.0, \"windchill\": 2.5, \"barometric_pressure_qfe\": 950.8, \"precipitation\": 0.0, \"dew_point\": -0.6, \"global_radiation\": 5.0, \"humidity\": 83.0, \"water_level\": 405.67}, {\"air_temperature\": 0.2, \"water_temperature\": 4.2, \"wind_gust_max_10min\": 3.5, \"wind_speed_avg_10min\": 1.8, \"wind_force_avg_10min\": 1.8, \"wind_direction\": 225.0, \"windchill\": -2.0, \"barometric_pressure_qfe\": 968.8, \"precipitation\": 0.0, \"dew_point\": -4.1, \"global_radiation\": 5.0, \"humidity\": 79.0, \"water_level\": 405.68}, {\"air_temperature\": 0.6, \"water_temperature\": 4.0, \"wind_gust_max_10min\": 3.1, \"wind_speed_avg_10min\": 1.6, \"wind_force_avg_10min\": 1.6, \"wind_direction\": 187.0, \"windchill\": -1.9, \"barometric_pressure_qfe\": 976.8, \"precipitation\": 0.0, \"dew_point\": -2.9, \"global_radiation\": 5.0, \"humidity\": 81.0, \"water_level\": 405.68}, {\"air_temperature\": 3.8, \"water_temperature\": 4.4, \"wind_gust_max_10min\": 2.7, \"wind_speed_avg_10min\": 1.6, \"wind_force_avg_10min\": 1.6, \"wind_direction\": 170.0, \"windchill\": 2.75, \"barometric_pressure_qfe\": 973.5, \"precipitation\": 0.0, \"dew_point\": -0.2, \"global_radiation\": 5.0, \"humidity\": 81.0, \"water_level\": 405.66}, {\"air_temperature\": 2.8, \"water_temperature\": 4.6, \"wind_gust_max_10min\": 2.7, \"wind_speed_avg_10min\": 1.6, \"wind_force_avg_10min\": 1.6, \"wind_direction\": 176.0, \"windchill\": 2.0, \"barometric_pressure_qfe\": 962.5, \"precipitation\": 0.0, \"dew_point\": 0.3, \"global_radiation\": 5.0, \"humidity\": 87.0, \"water_level\": 405.73}, {\"air_temperature\": 5.4, \"water_temperature\": 4.6, \"wind_gust_max_10min\": 4.0, \"wind_speed_avg_10min\": 2.0, \"wind_force_avg_10min\": 2.0, \"wind_direction\": 210.0, \"windchill\": 3.4, \"barometric_pressure_qfe\": 973.3, \"precipitation\": 0.0, \"dew_point\": 0.6, \"global_radiation\": 6.0, \"humidity\": 71.0, \"water_level\": 405.79}, {\"air_temperature\": 4.6, \"water_temperature\": 5.4, \"wind_gust_max_10min\": 3.3, \"wind_speed_avg_10min\": 1.8, \"wind_force_avg_10min\": 1.8, \"wind_direction\": 105.0, \"windchill\": 3.5, \"barometric_pressure_qfe\": 978.7, \"precipitation\": 0.0, \"dew_point\": -3.4, \"global_radiation\": 6.0, \"humidity\": 57.0, \"water_level\": 405.79}, {\"air_temperature\": 5.1, \"water_temperature\": 4.9, \"wind_gust_max_10min\": 5.2, \"wind_speed_avg_10min\": 2.4, \"wind_force_avg_10min\": 2.4, \"wind_direction\": 222.0, \"windchill\": 3.3, \"barometric_pressure_qfe\": 960.8499999999999, \"precipitation\": 0.0, \"dew_point\": 0.9, \"global_radiation\": 7.0, \"humidity\": 81.0, \"water_level\": 405.83}, {\"air_temperature\": 7.8, \"water_temperature\": 5.3, \"wind_gust_max_10min\": 3.2, \"wind_speed_avg_10min\": 1.9, \"wind_force_avg_10min\": 1.9, \"wind_direction\": 119.0, \"windchill\": 7.15, \"barometric_pressure_qfe\": 970.3, \"precipitation\": 0.0, \"dew_point\": 4.4, \"global_radiation\": 10.0, \"humidity\": 77.0, \"water_level\": 405.86}, {\"air_temperature\": 12.6, \"water_temperature\": 9.5, \"wind_gust_max_10min\": 1.9, \"wind_speed_avg_10min\": 1.2, \"wind_force_avg_10min\": 1.2, \"wind_direction\": 168.0, \"windchill\": 11.8, \"barometric_pressure_qfe\": 964.6, \"precipitation\": 0.0, \"dew_point\": 4.35, \"global_radiation\": 24.0, \"humidity\": 57.0, \"water_level\": 405.96}, {\"air_temperature\": 12.149999999999999, \"water_temperature\": 10.5, \"wind_gust_max_10min\": 3.0, \"wind_speed_avg_10min\": 1.5, \"wind_force_avg_10min\": 1.5, \"wind_direction\": 188.0, \"windchill\": 11.2, \"barometric_pressure_qfe\": 961.7, \"precipitation\": 0.0, \"dew_point\": 4.95, \"global_radiation\": 26.0, \"humidity\": 64.0, \"water_level\": 406.0}, {\"air_temperature\": 13.3, \"water_temperature\": 11.5, \"wind_gust_max_10min\": 3.5, \"wind_speed_avg_10min\": 1.9, \"wind_force_avg_10min\": 1.9, \"wind_direction\": 158.0, \"windchill\": 12.4, \"barometric_pressure_qfe\": 970.2, \"precipitation\": 0.0, \"dew_point\": 3.3, \"global_radiation\": 34.0, \"humidity\": 48.5, \"water_level\": 406.04}, {\"air_temperature\": 11.0, \"water_temperature\": 13.0, \"wind_gust_max_10min\": 2.8, \"wind_speed_avg_10min\": 1.5, \"wind_force_avg_10min\": 1.5, \"wind_direction\": 201.0, \"windchill\": 10.3, \"barometric_pressure_qfe\": 970.2, \"precipitation\": 0.0, \"dew_point\": 5.8, \"global_radiation\": 23.0, \"humidity\": 82.0, \"water_level\": 406.06}, {\"air_temperature\": 13.75, \"water_temperature\": 13.7, \"wind_gust_max_10min\": 2.6, \"wind_speed_avg_10min\": 1.5, \"wind_force_avg_10min\": 1.5, \"wind_direction\": 172.0, \"windchill\": 13.0, \"barometric_pressure_qfe\": 972.7, \"precipitation\": 0.0, \"dew_point\": 7.3, \"global_radiation\": 34.5, \"humidity\": 68.0, \"water_level\": 406.18}, {\"air_temperature\": 15.8, \"water_temperature\": 15.6, \"wind_gust_max_10min\": 2.2, \"wind_speed_avg_10min\": 1.2, \"wind_force_avg_10min\": 1.2, \"wind_direction\": 182.0, \"windchill\": 15.3, \"barometric_pressure_qfe\": 967.6, \"precipitation\": 0.0, \"dew_point\": 11.7, \"global_radiation\": 36.0, \"humidity\": 82.0, \"water_level\": 406.22}, {\"air_temperature\": 19.1, \"water_temperature\": 17.1, \"wind_gust_max_10min\": 2.6, \"wind_speed_avg_10min\": 1.5, \"wind_force_avg_10min\": 1.5, \"wind_direction\": 174.5, \"windchill\": 18.6, \"barometric_pressure_qfe\": 971.5, \"precipitation\": 0.0, \"dew_point\": 11.1, \"global_radiation\": 54.5, \"humidity\": 64.0, \"water_level\": 405.22}, {\"air_temperature\": 16.4, \"water_temperature\": 17.8, \"wind_gust_max_10min\": 4.3, \"wind_speed_avg_10min\": 2.2, \"wind_force_avg_10min\": 2.2, \"wind_direction\": 155.0, \"windchill\": 14.2, \"barometric_pressure_qfe\": 972.8, \"precipitation\": 0.0, \"dew_point\": 7.0, \"global_radiation\": 39.0, \"humidity\": 53.0, \"water_level\": 406.01}, {\"air_temperature\": 16.6, \"water_temperature\": 17.7, \"wind_gust_max_10min\": 4.2, \"wind_speed_avg_10min\": 2.1, \"wind_force_avg_10min\": 2.1, \"wind_direction\": 244.0, \"windchill\": 15.2, \"barometric_pressure_qfe\": 965.75, \"precipitation\": 0.0, \"dew_point\": 7.5, \"global_radiation\": 40.0, \"humidity\": 55.0, \"water_level\": 406.0}, {\"air_temperature\": 18.0, \"water_temperature\": 18.4, \"wind_gust_max_10min\": 3.2, \"wind_speed_avg_10min\": 1.7, \"wind_force_avg_10min\": 1.7, \"wind_direction\": 204.0, \"windchill\": 16.8, \"barometric_pressure_qfe\": 971.5, \"precipitation\": 0.0, \"dew_point\": 10.2, \"global_radiation\": 58.0, \"humidity\": 62.0, \"water_level\": 406.0}, {\"air_temperature\": 17.8, \"water_temperature\": 20.2, \"wind_gust_max_10min\": 3.5, \"wind_speed_avg_10min\": 1.85, \"wind_force_avg_10min\": 1.85, \"wind_direction\": 200.0, \"windchill\": 16.8, \"barometric_pressure_qfe\": 973.4, \"precipitation\": 0.0, \"dew_point\": 11.55, \"global_radiation\": 36.0, \"humidity\": 77.0, \"water_level\": 406.07}, {\"air_temperature\": 16.8, \"water_temperature\": 19.5, \"wind_gust_max_10min\": 2.6, \"wind_speed_avg_10min\": 1.4, \"wind_force_avg_10min\": 1.4, \"wind_direction\": 168.0, \"windchill\": 16.6, \"barometric_pressure_qfe\": 967.7, \"precipitation\": 0.0, \"dew_point\": 12.5, \"global_radiation\": 38.0, \"humidity\": 82.0, \"water_level\": 406.06}, {\"air_temperature\": 22.1, \"water_temperature\": 22.6, \"wind_gust_max_10min\": 2.6, \"wind_speed_avg_10min\": 1.4, \"wind_force_avg_10min\": 1.4, \"wind_direction\": 163.0, \"windchill\": 21.75, \"barometric_pressure_qfe\": 969.0, \"precipitation\": 0.0, \"dew_point\": 15.8, \"global_radiation\": 68.5, \"humidity\": 74.0, \"water_level\": 406.05}, {\"air_temperature\": 17.0, \"water_temperature\": 21.1, \"wind_gust_max_10min\": 3.1, \"wind_speed_avg_10min\": 1.5, \"wind_force_avg_10min\": 1.5, \"wind_direction\": 234.0, \"windchill\": 16.1, \"barometric_pressure_qfe\": 969.05, \"precipitation\": 0.0, \"dew_point\": 10.8, \"global_radiation\": 34.0, \"humidity\": 70.0, \"water_level\": 406.05}, {\"air_temperature\": 19.8, \"water_temperature\": 21.4, \"wind_gust_max_10min\": 3.6, \"wind_speed_avg_10min\": 1.9, \"wind_force_avg_10min\": 1.9, \"wind_direction\": 207.0, \"windchill\": 18.9, \"barometric_pressure_qfe\": 969.6, \"precipitation\": 0.0, \"dew_point\": 16.05, \"global_radiation\": 26.0, \"humidity\": 78.0, \"water_level\": 406.01}, {\"air_temperature\": 19.9, \"water_temperature\": 21.4, \"wind_gust_max_10min\": 2.9, \"wind_speed_avg_10min\": 1.4, \"wind_force_avg_10min\": 1.4, \"wind_direction\": 227.0, \"windchill\": 19.4, \"barometric_pressure_qfe\": 970.7, \"precipitation\": 0.0, \"dew_point\": 13.2, \"global_radiation\": 35.0, \"humidity\": 70.0, \"water_level\": 406.08}, {\"air_temperature\": 20.4, \"water_temperature\": 22.0, \"wind_gust_max_10min\": 2.6, \"wind_speed_avg_10min\": 1.4, \"wind_force_avg_10min\": 1.4, \"wind_direction\": 194.5, \"windchill\": 19.9, \"barometric_pressure_qfe\": 971.0, \"precipitation\": 0.0, \"dew_point\": 13.2, \"global_radiation\": 39.0, \"humidity\": 62.0, \"water_level\": 406.05}, {\"air_temperature\": 19.45, \"water_temperature\": 22.1, \"wind_gust_max_10min\": 2.4, \"wind_speed_avg_10min\": 1.3, \"wind_force_avg_10min\": 1.3, \"wind_direction\": 219.0, \"windchill\": 19.2, \"barometric_pressure_qfe\": 970.3, \"precipitation\": 0.0, \"dew_point\": 14.2, \"global_radiation\": 30.0, \"humidity\": 79.0, \"water_level\": 406.03}, {\"air_temperature\": 21.7, \"water_temperature\": 22.7, \"wind_gust_max_10min\": 2.3, \"wind_speed_avg_10min\": 1.3, \"wind_force_avg_10min\": 1.3, \"wind_direction\": 235.5, \"windchill\": 21.5, \"barometric_pressure_qfe\": 971.5, \"precipitation\": 0.0, \"dew_point\": 15.3, \"global_radiation\": 42.0, \"humidity\": 69.0, \"water_level\": 406.03}, {\"air_temperature\": 22.0, \"water_temperature\": 25.0, \"wind_gust_max_10min\": 2.9, \"wind_speed_avg_10min\": 1.75, \"wind_force_avg_10min\": 1.75, \"wind_direction\": 170.0, \"windchill\": 21.4, \"barometric_pressure_qfe\": 973.3, \"precipitation\": 0.0, \"dew_point\": 16.2, \"global_radiation\": 31.0, \"humidity\": 67.0, \"water_level\": 406.02}, {\"air_temperature\": 20.2, \"water_temperature\": 23.4, \"wind_gust_max_10min\": 2.6, \"wind_speed_avg_10min\": 1.5, \"wind_force_avg_10min\": 1.5, \"wind_direction\": 245.0, \"windchill\": 19.6, \"barometric_pressure_qfe\": 970.2, \"precipitation\": 0.0, \"dew_point\": 15.1, \"global_radiation\": 21.0, \"humidity\": 67.0, \"water_level\": 405.98}, {\"air_temperature\": 17.5, \"water_temperature\": 22.4, \"wind_gust_max_10min\": 2.7, \"wind_speed_avg_10min\": 1.6, \"wind_force_avg_10min\": 1.6, \"wind_direction\": 224.0, \"windchill\": 16.9, \"barometric_pressure_qfe\": 970.1, \"precipitation\": 0.0, \"dew_point\": 12.8, \"global_radiation\": 15.0, \"humidity\": 79.0, \"water_level\": 405.98}, {\"air_temperature\": 16.7, \"water_temperature\": 20.7, \"wind_gust_max_10min\": 3.1, \"wind_speed_avg_10min\": 1.7, \"wind_force_avg_10min\": 1.7, \"wind_direction\": 161.5, \"windchill\": 15.649999999999999, \"barometric_pressure_qfe\": 975.7, \"precipitation\": 0.0, \"dew_point\": 9.9, \"global_radiation\": 13.0, \"humidity\": 68.0, \"water_level\": 405.97}, {\"air_temperature\": 16.1, \"water_temperature\": 19.3, \"wind_gust_max_10min\": 3.0, \"wind_speed_avg_10min\": 1.5, \"wind_force_avg_10min\": 1.5, \"wind_direction\": 184.0, \"windchill\": 15.9, \"barometric_pressure_qfe\": 967.4, \"precipitation\": 0.0, \"dew_point\": 13.5, \"global_radiation\": 8.0, \"humidity\": 85.0, \"water_level\": 405.93}, {\"air_temperature\": 16.2, \"water_temperature\": 19.3, \"wind_gust_max_10min\": 2.3, \"wind_speed_avg_10min\": 1.4, \"wind_force_avg_10min\": 1.4, \"wind_direction\": 280.0, \"windchill\": 15.9, \"barometric_pressure_qfe\": 976.1, \"precipitation\": 0.0, \"dew_point\": 13.05, \"global_radiation\": 6.0, \"humidity\": 85.0, \"water_level\": 405.92}, {\"air_temperature\": 14.3, \"water_temperature\": 19.0, \"wind_gust_max_10min\": 2.1, \"wind_speed_avg_10min\": 1.3, \"wind_force_avg_10min\": 1.3, \"wind_direction\": 291.0, \"windchill\": 14.0, \"barometric_pressure_qfe\": 970.3, \"precipitation\": 0.0, \"dew_point\": 8.8, \"global_radiation\": 5.0, \"humidity\": 70.0, \"water_level\": 405.9}, {\"air_temperature\": 16.0, \"water_temperature\": 18.3, \"wind_gust_max_10min\": 2.8, \"wind_speed_avg_10min\": 1.55, \"wind_force_avg_10min\": 1.55, \"wind_direction\": 188.5, \"windchill\": 15.3, \"barometric_pressure_qfe\": 970.1, \"precipitation\": 0.0, \"dew_point\": 12.9, \"global_radiation\": 5.0, \"humidity\": 84.0, \"water_level\": 405.9}, {\"air_temperature\": 5.8, \"water_temperature\": 15.1, \"wind_gust_max_10min\": 4.4, \"wind_speed_avg_10min\": 1.85, \"wind_force_avg_10min\": 1.85, \"wind_direction\": 278.0, \"windchill\": 5.0, \"barometric_pressure_qfe\": 976.55, \"precipitation\": 0.0, \"dew_point\": 1.6, \"global_radiation\": 5.0, \"humidity\": 73.0, \"water_level\": 405.92}, {\"air_temperature\": 9.25, \"water_temperature\": 13.6, \"wind_gust_max_10min\": 2.5, \"wind_speed_avg_10min\": 1.3, \"wind_force_avg_10min\": 1.3, \"wind_direction\": 288.0, \"windchill\": 8.8, \"barometric_pressure_qfe\": 965.9, \"precipitation\": 0.0, \"dew_point\": 6.2, \"global_radiation\": 5.0, \"humidity\": 87.0, \"water_level\": 405.92}, {\"air_temperature\": 9.3, \"water_temperature\": 13.3, \"wind_gust_max_10min\": 1.8, \"wind_speed_avg_10min\": 1.1, \"wind_force_avg_10min\": 1.1, \"wind_direction\": 228.5, \"windchill\": 9.2, \"barometric_pressure_qfe\": 974.6, \"precipitation\": 0.0, \"dew_point\": 5.9, \"global_radiation\": 5.0, \"humidity\": 85.0, \"water_level\": 405.85}, {\"air_temperature\": 7.5, \"water_temperature\": 12.2, \"wind_gust_max_10min\": 4.1, \"wind_speed_avg_10min\": 1.8, \"wind_force_avg_10min\": 1.8, \"wind_direction\": 216.0, \"windchill\": 6.1, \"barometric_pressure_qfe\": 956.2, \"precipitation\": 0.0, \"dew_point\": 2.9, \"global_radiation\": 4050.0, \"humidity\": 81.0, \"water_level\": 405.86}, {\"air_temperature\": 6.1, \"water_temperature\": 11.0, \"wind_gust_max_10min\": 2.2, \"wind_speed_avg_10min\": 1.1, \"wind_force_avg_10min\": 1.1, \"wind_direction\": 220.0, \"windchill\": 5.6, \"barometric_pressure_qfe\": 966.0, \"precipitation\": 0.0, \"dew_point\": 3.2, \"global_radiation\": 4121.0, \"humidity\": 86.0, \"water_level\": 405.85}, {\"air_temperature\": 8.9, \"water_temperature\": 10.9, \"wind_gust_max_10min\": 0.0, \"wind_speed_avg_10min\": 0.0, \"wind_force_avg_10min\": 0.0, \"wind_direction\": 0.0, \"windchill\": 8.5, \"barometric_pressure_qfe\": 976.3, \"precipitation\": 0.0, \"dew_point\": 6.3, \"global_radiation\": 11.0, \"humidity\": 87.0, \"water_level\": 405.93}, {\"air_temperature\": 9.6, \"water_temperature\": 10.0, \"wind_gust_max_10min\": 2.7, \"wind_speed_avg_10min\": 0.1, \"wind_force_avg_10min\": 0.1, \"wind_direction\": 206.0, \"windchill\": 8.2, \"barometric_pressure_qfe\": 967.3, \"precipitation\": 0.0, \"dew_point\": 3.3, \"global_radiation\": 5.0, \"humidity\": 73.0, \"water_level\": 405.93}, {\"air_temperature\": 3.1, \"water_temperature\": 8.8, \"wind_gust_max_10min\": 1.3, \"wind_speed_avg_10min\": 0.0, \"wind_force_avg_10min\": 0.0, \"wind_direction\": 244.5, \"windchill\": 2.8, \"barometric_pressure_qfe\": 965.0, \"precipitation\": 0.0, \"dew_point\": 0.4, \"global_radiation\": 5.0, \"humidity\": 87.0, \"water_level\": 405.95}, {\"air_temperature\": 4.7, \"water_temperature\": 8.2, \"wind_gust_max_10min\": 3.5, \"wind_speed_avg_10min\": 0.15000000000000002, \"wind_force_avg_10min\": 0.15000000000000002, \"wind_direction\": 175.0, \"windchill\": 3.3, \"barometric_pressure_qfe\": 972.4, \"precipitation\": 0.0, \"dew_point\": 0.2, \"global_radiation\": 5.0, \"humidity\": 83.0, \"water_level\": 405.94}, {\"air_temperature\": -2.3, \"water_temperature\": 6.5, \"wind_gust_max_10min\": 3.6, \"wind_speed_avg_10min\": 0.3, \"wind_force_avg_10min\": 0.3, \"wind_direction\": 56.0, \"windchill\": -3.7, \"barometric_pressure_qfe\": 960.0, \"precipitation\": 0.0, \"dew_point\": -8.1, \"global_radiation\": 5.0, \"humidity\": 70.0, \"water_level\": 405.88}, {\"air_temperature\": 3.3, \"water_temperature\": 5.8, \"wind_gust_max_10min\": 0.4, \"wind_speed_avg_10min\": 0.0, \"wind_force_avg_10min\": 0.0, \"wind_direction\": 219.5, \"windchill\": 3.2, \"barometric_pressure_qfe\": 951.9, \"precipitation\": 0.0, \"dew_point\": -0.5, \"global_radiation\": 5.0, \"humidity\": 85.0, \"water_level\": 405.84}, {\"air_temperature\": 3.9, \"water_temperature\": 5.6, \"wind_gust_max_10min\": 0.8, \"wind_speed_avg_10min\": 0.0, \"wind_force_avg_10min\": 0.0, \"wind_direction\": 199.0, \"windchill\": 3.6, \"barometric_pressure_qfe\": 956.4, \"precipitation\": 0.0, \"dew_point\": 0.2, \"global_radiation\": 7.0, \"humidity\": 85.0, \"water_level\": 405.86}, {\"air_temperature\": -3.1, \"water_temperature\": 4.8, \"wind_gust_max_10min\": 0.3, \"wind_speed_avg_10min\": 0.0, \"wind_force_avg_10min\": 0.0, \"wind_direction\": 237.5, \"windchill\": -3.6, \"barometric_pressure_qfe\": 958.6, \"precipitation\": 0.0, \"dew_point\": -5.6, \"global_radiation\": 5.0, \"humidity\": 84.0, \"water_level\": 405.81}, {\"air_temperature\": 0.8, \"water_temperature\": 4.5, \"wind_gust_max_10min\": 0.1, \"wind_speed_avg_10min\": 0.0, \"wind_force_avg_10min\": 0.0, \"wind_direction\": 183.0, \"windchill\": 0.6, \"barometric_pressure_qfe\": 967.6, \"precipitation\": 0.0, \"dew_point\": -1.5, \"global_radiation\": 7.0, \"humidity\": 84.0, \"water_level\": 405.77}, {\"air_temperature\": 0.7, \"water_temperature\": 4.5, \"wind_gust_max_10min\": 0.0, \"wind_speed_avg_10min\": 0.0, \"wind_force_avg_10min\": 0.0, \"wind_direction\": 187.0, \"windchill\": 0.7, \"barometric_pressure_qfe\": 974.5, \"precipitation\": 0.0, \"dew_point\": -2.0, \"global_radiation\": 5.0, \"humidity\": 86.5, \"water_level\": 405.74}, {\"air_temperature\": -0.3, \"water_temperature\": 4.0, \"wind_gust_max_10min\": 3.3, \"wind_speed_avg_10min\": 0.7, \"wind_force_avg_10min\": 0.7, \"wind_direction\": 222.0, \"windchill\": -2.1, \"barometric_pressure_qfe\": 964.0, \"precipitation\": 0.0, \"dew_point\": -4.5, \"global_radiation\": 7.0, \"humidity\": 81.0, \"water_level\": 405.71}, {\"air_temperature\": 2.6, \"water_temperature\": 4.0, \"wind_gust_max_10min\": 2.2, \"wind_speed_avg_10min\": 0.2, \"wind_force_avg_10min\": 0.2, \"wind_direction\": 219.5, \"windchill\": 1.9, \"barometric_pressure_qfe\": 966.8, \"precipitation\": 0.0, \"dew_point\": -0.9, \"global_radiation\": 5.0, \"humidity\": 84.0, \"water_level\": 405.69}, {\"air_temperature\": -2.5, \"water_temperature\": 3.6, \"wind_gust_max_10min\": 0.9, \"wind_speed_avg_10min\": 0.0, \"wind_force_avg_10min\": 0.0, \"wind_direction\": 65.5, \"windchill\": -2.5, \"barometric_pressure_qfe\": 958.7, \"precipitation\": 0.0, \"dew_point\": -7.2, \"global_radiation\": 7.0, \"humidity\": 77.0, \"water_level\": 405.69}, {\"air_temperature\": 1.4, \"water_temperature\": 3.9, \"wind_gust_max_10min\": 0.1, \"wind_speed_avg_10min\": 0.0, \"wind_force_avg_10min\": 0.0, \"wind_direction\": 205.0, \"windchill\": 1.3, \"barometric_pressure_qfe\": 953.6, \"precipitation\": 0.0, \"dew_point\": -4.0, \"global_radiation\": 7.0, \"humidity\": 75.0, \"water_level\": 405.65}, {\"air_temperature\": 6.8, \"water_temperature\": 4.5, \"wind_gust_max_10min\": 1.1, \"wind_speed_avg_10min\": 0.0, \"wind_force_avg_10min\": 0.0, \"wind_direction\": 188.0, \"windchill\": 6.3, \"barometric_pressure_qfe\": 953.1, \"precipitation\": 0.0, \"dew_point\": 0.6, \"global_radiation\": 7.0, \"humidity\": 65.0, \"water_level\": 405.67}, {\"air_temperature\": 2.5, \"water_temperature\": 4.4, \"wind_gust_max_10min\": 3.4, \"wind_speed_avg_10min\": 0.2, \"wind_force_avg_10min\": 0.2, \"wind_direction\": 169.0, \"windchill\": 1.7, \"barometric_pressure_qfe\": 970.9, \"precipitation\": 0.0, \"dew_point\": -3.9, \"global_radiation\": 7.0, \"humidity\": 61.0, \"water_level\": 405.64}, {\"air_temperature\": -1.4, \"water_temperature\": 3.6, \"wind_gust_max_10min\": 0.9, \"wind_speed_avg_10min\": 0.0, \"wind_force_avg_10min\": 0.0, \"wind_direction\": 152.0, \"windchill\": -1.7, \"barometric_pressure_qfe\": 969.4, \"precipitation\": 0.0, \"dew_point\": -5.9, \"global_radiation\": 7.0, \"humidity\": 65.0, \"water_level\": 405.63}, {\"air_temperature\": 7.0, \"water_temperature\": 4.6, \"wind_gust_max_10min\": 0.4, \"wind_speed_avg_10min\": 0.0, \"wind_force_avg_10min\": 0.0, \"wind_direction\": 165.0, \"windchill\": 6.9, \"barometric_pressure_qfe\": 977.1, \"precipitation\": 0.0, \"dew_point\": 0.9, \"global_radiation\": 9.0, \"humidity\": 74.0, \"water_level\": 405.62}, {\"air_temperature\": 8.4, \"water_temperature\": 6.4, \"wind_gust_max_10min\": 0.1, \"wind_speed_avg_10min\": 0.0, \"wind_force_avg_10min\": 0.0, \"wind_direction\": 184.0, \"windchill\": 8.2, \"barometric_pressure_qfe\": 966.8, \"precipitation\": 0.0, \"dew_point\": 4.1, \"global_radiation\": 13.0, \"humidity\": 79.0, \"water_level\": 405.76}, {\"air_temperature\": 7.4, \"water_temperature\": 6.0, \"wind_gust_max_10min\": 1.2, \"wind_speed_avg_10min\": 0.0, \"wind_force_avg_10min\": 0.0, \"wind_direction\": 179.0, \"windchill\": 7.1, \"barometric_pressure_qfe\": 964.6, \"precipitation\": 0.0, \"dew_point\": 1.1, \"global_radiation\": 16.0, \"humidity\": 71.0, \"water_level\": 405.85}, {\"air_temperature\": 9.45, \"water_temperature\": 6.7, \"wind_gust_max_10min\": 1.8, \"wind_speed_avg_10min\": 0.1, \"wind_force_avg_10min\": 0.1, \"wind_direction\": 160.0, \"windchill\": 9.0, \"barometric_pressure_qfe\": 975.2, \"precipitation\": 0.0, \"dew_point\": 1.2, \"global_radiation\": 33.0, \"humidity\": 60.0, \"water_level\": 405.85}, {\"air_temperature\": 7.9, \"water_temperature\": 6.5, \"wind_gust_max_10min\": 2.4, \"wind_speed_avg_10min\": 0.1, \"wind_force_avg_10min\": 0.1, \"wind_direction\": 64.0, \"windchill\": 7.1, \"barometric_pressure_qfe\": 966.6, \"precipitation\": 0.0, \"dew_point\": 2.1, \"global_radiation\": 40.0, \"humidity\": 71.0, \"water_level\": 405.88}, {\"air_temperature\": 12.7, \"water_temperature\": 8.3, \"wind_gust_max_10min\": 1.0, \"wind_speed_avg_10min\": 0.0, \"wind_force_avg_10min\": 0.0, \"wind_direction\": 166.0, \"windchill\": 12.3, \"barometric_pressure_qfe\": 968.1, \"precipitation\": 0.0, \"dew_point\": 3.1, \"global_radiation\": 67.0, \"humidity\": 47.0, \"water_level\": 405.89}, {\"air_temperature\": 13.649999999999999, \"water_temperature\": 13.1, \"wind_gust_max_10min\": 0.1, \"wind_speed_avg_10min\": 0.0, \"wind_force_avg_10min\": 0.0, \"wind_direction\": 174.0, \"windchill\": 13.2, \"barometric_pressure_qfe\": 969.1, \"precipitation\": 0.0, \"dew_point\": 8.5, \"global_radiation\": 28.0, \"humidity\": 81.0, \"water_level\": 405.92}, {\"air_temperature\": 9.5, \"water_temperature\": 11.8, \"wind_gust_max_10min\": 0.8, \"wind_speed_avg_10min\": 0.0, \"wind_force_avg_10min\": 0.0, \"wind_direction\": 166.0, \"windchill\": 9.2, \"barometric_pressure_qfe\": 961.0, \"precipitation\": 0.0, \"dew_point\": 6.5, \"global_radiation\": 22.0, \"humidity\": 86.0, \"water_level\": 405.96}, {\"air_temperature\": 10.2, \"water_temperature\": 11.8, \"wind_gust_max_10min\": 0.6, \"wind_speed_avg_10min\": 0.0, \"wind_force_avg_10min\": 0.0, \"wind_direction\": 187.0, \"windchill\": 10.0, \"barometric_pressure_qfe\": 961.2, \"precipitation\": 0.0, \"dew_point\": 6.45, \"global_radiation\": 27.0, \"humidity\": 86.0, \"water_level\": 405.98}, {\"air_temperature\": 12.0, \"water_temperature\": 12.4, \"wind_gust_max_10min\": 0.2, \"wind_speed_avg_10min\": 0.0, \"wind_force_avg_10min\": 0.0, \"wind_direction\": 153.0, \"windchill\": 11.7, \"barometric_pressure_qfe\": 977.5, \"precipitation\": 0.0, \"dew_point\": 6.5, \"global_radiation\": 58.0, \"humidity\": 73.0, \"water_level\": 405.97}, {\"air_temperature\": 16.5, \"water_temperature\": 15.5, \"wind_gust_max_10min\": 1.9, \"wind_speed_avg_10min\": 0.1, \"wind_force_avg_10min\": 0.1, \"wind_direction\": 225.5, \"windchill\": 16.1, \"barometric_pressure_qfe\": 966.1, \"precipitation\": 0.0, \"dew_point\": 10.149999999999999, \"global_radiation\": 79.5, \"humidity\": 70.0, \"water_level\": 405.98}, {\"air_temperature\": 14.2, \"water_temperature\": 14.6, \"wind_gust_max_10min\": 0.3, \"wind_speed_avg_10min\": 0.0, \"wind_force_avg_10min\": 0.0, \"wind_direction\": 186.5, \"windchill\": 13.9, \"barometric_pressure_qfe\": 969.6, \"precipitation\": 0.0, \"dew_point\": 9.9, \"global_radiation\": 55.0, \"humidity\": 74.0, \"water_level\": 406.07}, {\"air_temperature\": 19.8, \"water_temperature\": 18.3, \"wind_gust_max_10min\": 0.8, \"wind_speed_avg_10min\": 0.0, \"wind_force_avg_10min\": 0.0, \"wind_direction\": 207.5, \"windchill\": 19.7, \"barometric_pressure_qfe\": 963.5, \"precipitation\": 0.0, \"dew_point\": 13.5, \"global_radiation\": 67.0, \"humidity\": 71.0, \"water_level\": 406.05}, {\"air_temperature\": 14.8, \"water_temperature\": 16.8, \"wind_gust_max_10min\": 1.4, \"wind_speed_avg_10min\": 0.0, \"wind_force_avg_10min\": 0.0, \"wind_direction\": 166.0, \"windchill\": 14.3, \"barometric_pressure_qfe\": 966.1, \"precipitation\": 0.0, \"dew_point\": 12.3, \"global_radiation\": 38.0, \"humidity\": 84.0, \"water_level\": 406.05}, {\"air_temperature\": 17.5, \"water_temperature\": 17.5, \"wind_gust_max_10min\": 0.2, \"wind_speed_avg_10min\": 0.0, \"wind_force_avg_10min\": 0.0, \"wind_direction\": 80.5, \"windchill\": 17.2, \"barometric_pressure_qfe\": 970.8, \"precipitation\": 0.0, \"dew_point\": 9.2, \"global_radiation\": 101.5, \"humidity\": 63.0, \"water_level\": 406.01}, {\"air_temperature\": 23.25, \"water_temperature\": 21.8, \"wind_gust_max_10min\": 0.0, \"wind_speed_avg_10min\": 0.0, \"wind_force_avg_10min\": 0.0, \"wind_direction\": 160.0, \"windchill\": 23.2, \"barometric_pressure_qfe\": 971.4, \"precipitation\": 0.0, \"dew_point\": 15.3, \"global_radiation\": 92.0, \"humidity\": 68.0, \"water_level\": 406.0}, {\"air_temperature\": 23.1, \"water_temperature\": 23.4, \"wind_gust_max_10min\": 0.2, \"wind_speed_avg_10min\": 0.0, \"wind_force_avg_10min\": 0.0, \"wind_direction\": 183.0, \"windchill\": 22.9, \"barometric_pressure_qfe\": 973.6, \"precipitation\": 0.0, \"dew_point\": 15.2, \"global_radiation\": 100.0, \"humidity\": 57.0, \"water_level\": 405.98}, {\"air_temperature\": 22.3, \"water_temperature\": 25.4, \"wind_gust_max_10min\": 0.2, \"wind_speed_avg_10min\": 0.0, \"wind_force_avg_10min\": 0.0, \"wind_direction\": 185.0, \"windchill\": 22.1, \"barometric_pressure_qfe\": 969.6, \"precipitation\": 0.0, \"dew_point\": 16.9, \"global_radiation\": 65.0, \"humidity\": 70.0, \"water_level\": 406.0}, {\"air_temperature\": 19.1, \"water_temperature\": 24.4, \"wind_gust_max_10min\": 0.3, \"wind_speed_avg_10min\": 0.0, \"wind_force_avg_10min\": 0.0, \"wind_direction\": 232.0, \"windchill\": 19.1, \"barometric_pressure_qfe\": 970.3, \"precipitation\": 0.0, \"dew_point\": 13.6, \"global_radiation\": 50.5, \"humidity\": 75.0, \"water_level\": 406.01}, {\"air_temperature\": 17.3, \"water_temperature\": 22.4, \"wind_gust_max_10min\": 0.1, \"wind_speed_avg_10min\": 0.0, \"wind_force_avg_10min\": 0.0, \"wind_direction\": 185.5, \"windchill\": 17.3, \"barometric_pressure_qfe\": 969.9, \"precipitation\": 0.0, \"dew_point\": 13.3, \"global_radiation\": 46.0, \"humidity\": 82.0, \"water_level\": 406.16}, {\"air_temperature\": 17.6, \"water_temperature\": 21.7, \"wind_gust_max_10min\": 2.0, \"wind_speed_avg_10min\": 0.6, \"wind_force_avg_10min\": 0.6, \"wind_direction\": 212.5, \"windchill\": 17.1, \"barometric_pressure_qfe\": 969.8, \"precipitation\": 0.0, \"dew_point\": 13.3, \"global_radiation\": 41.5, \"humidity\": 81.0, \"water_level\": 406.3}, {\"air_temperature\": 19.2, \"water_temperature\": 21.8, \"wind_gust_max_10min\": 3.3, \"wind_speed_avg_10min\": 1.9, \"wind_force_avg_10min\": 1.9, \"wind_direction\": 204.0, \"windchill\": 17.8, \"barometric_pressure_qfe\": 968.9, \"precipitation\": 0.0, \"dew_point\": 14.3, \"global_radiation\": 49.0, \"humidity\": 74.0, \"water_level\": 406.22}, {\"air_temperature\": 18.6, \"water_temperature\": 19.7, \"wind_gust_max_10min\": 2.6, \"wind_speed_avg_10min\": 1.35, \"wind_force_avg_10min\": 1.35, \"wind_direction\": 187.0, \"windchill\": 18.1, \"barometric_pressure_qfe\": 970.4, \"precipitation\": 0.0, \"dew_point\": 15.4, \"global_radiation\": 34.0, \"humidity\": 80.0, \"water_level\": 406.1}, {\"air_temperature\": 19.0, \"water_temperature\": 20.4, \"wind_gust_max_10min\": 3.8, \"wind_speed_avg_10min\": 2.0, \"wind_force_avg_10min\": 2.0, \"wind_direction\": 214.5, \"windchill\": 17.7, \"barometric_pressure_qfe\": 968.25, \"precipitation\": 0.0, \"dew_point\": 14.850000000000001, \"global_radiation\": 35.5, \"humidity\": 73.5, \"water_level\": 406.07}, {\"air_temperature\": 14.6, \"water_temperature\": 18.3, \"wind_gust_max_10min\": 3.6, \"wind_speed_avg_10min\": 2.0, \"wind_force_avg_10min\": 2.0, \"wind_direction\": 240.0, \"windchill\": 13.5, \"barometric_pressure_qfe\": 970.8, \"precipitation\": 0.0, \"dew_point\": 9.8, \"global_radiation\": 31.0, \"humidity\": 72.0, \"water_level\": 406.12}, {\"air_temperature\": 16.0, \"water_temperature\": 17.9, \"wind_gust_max_10min\": 3.0, \"wind_speed_avg_10min\": 1.7, \"wind_force_avg_10min\": 1.7, \"wind_direction\": 193.5, \"windchill\": 15.4, \"barometric_pressure_qfe\": 970.1500000000001, \"precipitation\": 0.0, \"dew_point\": 11.3, \"global_radiation\": 21.0, \"humidity\": 80.0, \"water_level\": 406.06}, {\"air_temperature\": 14.2, \"water_temperature\": 17.8, \"wind_gust_max_10min\": 3.0, \"wind_speed_avg_10min\": 1.8, \"wind_force_avg_10min\": 1.8, \"wind_direction\": 237.0, \"windchill\": 13.3, \"barometric_pressure_qfe\": 970.4, \"precipitation\": 0.0, \"dew_point\": 9.9, \"global_radiation\": 13.0, \"humidity\": 74.0, \"water_level\": 406.06}, {\"air_temperature\": 12.8, \"water_temperature\": 17.8, \"wind_gust_max_10min\": 2.4, \"wind_speed_avg_10min\": 1.5, \"wind_force_avg_10min\": 1.5, \"wind_direction\": 215.5, \"windchill\": 12.3, \"barometric_pressure_qfe\": 968.05, \"precipitation\": 0.0, \"dew_point\": 10.8, \"global_radiation\": 9.0, \"humidity\": 86.0, \"water_level\": 406.01}, {\"air_temperature\": 12.2, \"water_temperature\": 16.5, \"wind_gust_max_10min\": 2.2, \"wind_speed_avg_10min\": 1.3, \"wind_force_avg_10min\": 1.3, \"wind_direction\": 218.0, \"windchill\": 11.9, \"barometric_pressure_qfe\": 968.5, \"precipitation\": 0.0, \"dew_point\": 9.4, \"global_radiation\": 6.0, \"humidity\": 81.5, \"water_level\": 406.04}, {\"air_temperature\": 14.5, \"water_temperature\": 16.6, \"wind_gust_max_10min\": 2.9, \"wind_speed_avg_10min\": 1.7, \"wind_force_avg_10min\": 1.7, \"wind_direction\": 163.0, \"windchill\": 13.9, \"barometric_pressure_qfe\": 967.1, \"precipitation\": 0.0, \"dew_point\": 12.4, \"global_radiation\": 6.0, \"humidity\": 87.0, \"water_level\": 405.99}, {\"air_temperature\": 8.6, \"water_temperature\": 14.4, \"wind_gust_max_10min\": 3.8, \"wind_speed_avg_10min\": 2.2, \"wind_force_avg_10min\": 2.2, \"wind_direction\": 144.0, \"windchill\": 7.2, \"barometric_pressure_qfe\": 965.3, \"precipitation\": 0.0, \"dew_point\": 6.0, \"global_radiation\": 7.0, \"humidity\": 83.0, \"water_level\": 405.95}, {\"air_temperature\": 7.55, \"water_temperature\": 12.4, \"wind_gust_max_10min\": 4.2, \"wind_speed_avg_10min\": 2.2, \"wind_force_avg_10min\": 2.2, \"wind_direction\": 241.0, \"windchill\": 5.1, \"barometric_pressure_qfe\": 970.3499999999999, \"precipitation\": 0.0, \"dew_point\": 4.3, \"global_radiation\": 6.0, \"humidity\": 83.0, \"water_level\": 405.93}, {\"air_temperature\": 7.1, \"water_temperature\": 11.8, \"wind_gust_max_10min\": 2.6, \"wind_speed_avg_10min\": 1.7, \"wind_force_avg_10min\": 1.7, \"wind_direction\": 206.5, \"windchill\": 6.3, \"barometric_pressure_qfe\": 972.2, \"precipitation\": 0.0, \"dew_point\": 4.0, \"global_radiation\": 5.0, \"humidity\": 80.0, \"water_level\": 405.95}, {\"air_temperature\": 11.8, \"water_temperature\": 11.7, \"wind_gust_max_10min\": 3.8, \"wind_speed_avg_10min\": 2.1, \"wind_force_avg_10min\": 2.1, \"wind_direction\": 215.0, \"windchill\": 10.5, \"barometric_pressure_qfe\": 972.5, \"precipitation\": 0.0, \"dew_point\": 8.3, \"global_radiation\": 6.0, \"humidity\": 82.0, \"water_level\": 405.89}, {\"air_temperature\": 5.2, \"water_temperature\": 11.3, \"wind_gust_max_10min\": 2.7, \"wind_speed_avg_10min\": 1.7, \"wind_force_avg_10min\": 1.7, \"wind_direction\": 228.5, \"windchill\": 4.6, \"barometric_pressure_qfe\": 935.05, \"precipitation\": 0.0, \"dew_point\": 3.4, \"global_radiation\": 5.0, \"humidity\": 86.0, \"water_level\": 405.9}, {\"air_temperature\": null, \"water_temperature\": null, \"wind_gust_max_10min\": null, \"wind_speed_avg_10min\": null, \"wind_force_avg_10min\": null, \"wind_direction\": null, \"windchill\": null, \"barometric_pressure_qfe\": null, \"precipitation\": null, \"dew_point\": null, \"global_radiation\": null, \"humidity\": null, \"water_level\": null}, {\"air_temperature\": null, \"water_temperature\": null, \"wind_gust_max_10min\": null, \"wind_speed_avg_10min\": null, \"wind_force_avg_10min\": null, \"wind_direction\": null, \"windchill\": null, \"barometric_pressure_qfe\": null, \"precipitation\": null, \"dew_point\": null, \"global_radiation\": null, \"humidity\": null, \"water_level\": null}, {\"air_temperature\": null, \"water_temperature\": null, \"wind_gust_max_10min\": null, \"wind_speed_avg_10min\": null, \"wind_force_avg_10min\": null, \"wind_direction\": null, \"windchill\": null, \"barometric_pressure_qfe\": null, \"precipitation\": null, \"dew_point\": null, \"global_radiation\": null, \"humidity\": null, \"water_level\": null}, {\"air_temperature\": null, \"water_temperature\": null, \"wind_gust_max_10min\": null, \"wind_speed_avg_10min\": null, \"wind_force_avg_10min\": null, \"wind_direction\": null, \"windchill\": null, \"barometric_pressure_qfe\": null, \"precipitation\": null, \"dew_point\": null, \"global_radiation\": null, \"humidity\": null, \"water_level\": null}, {\"air_temperature\": null, \"water_temperature\": null, \"wind_gust_max_10min\": null, \"wind_speed_avg_10min\": null, \"wind_force_avg_10min\": null, \"wind_direction\": null, \"windchill\": null, \"barometric_pressure_qfe\": null, \"precipitation\": null, \"dew_point\": null, \"global_radiation\": null, \"humidity\": null, \"water_level\": null}, {\"air_temperature\": null, \"water_temperature\": null, \"wind_gust_max_10min\": null, \"wind_speed_avg_10min\": null, \"wind_force_avg_10min\": null, \"wind_direction\": null, \"windchill\": null, \"barometric_pressure_qfe\": null, \"precipitation\": null, \"dew_point\": null, \"global_radiation\": null, \"humidity\": null, \"water_level\": null}, {\"air_temperature\": 2.0, \"water_temperature\": 5.0, \"wind_gust_max_10min\": 2.2, \"wind_speed_avg_10min\": 1.3, \"wind_force_avg_10min\": 1.3, \"wind_direction\": 289.0, \"windchill\": 1.7, \"barometric_pressure_qfe\": 974.0, \"precipitation\": 0.0, \"dew_point\": 1.0, \"global_radiation\": 2.0, \"humidity\": 94.0, \"water_level\": 405.81}, {\"air_temperature\": 4.25, \"water_temperature\": 4.7, \"wind_gust_max_10min\": 3.9, \"wind_speed_avg_10min\": 2.25, \"wind_force_avg_10min\": 2.25, \"wind_direction\": 177.0, \"windchill\": 1.75, \"barometric_pressure_qfe\": 966.1, \"precipitation\": 0.0, \"dew_point\": 1.75, \"global_radiation\": 2.0, \"humidity\": 85.0, \"water_level\": 405.79}, {\"air_temperature\": 6.05, \"water_temperature\": 5.2, \"wind_gust_max_10min\": 3.3, \"wind_speed_avg_10min\": 1.5, \"wind_force_avg_10min\": 1.5, \"wind_direction\": 205.0, \"windchill\": 5.15, \"barometric_pressure_qfe\": 973.4, \"precipitation\": 0.0, \"dew_point\": 4.0, \"global_radiation\": 0.0, \"humidity\": 89.0, \"water_level\": 405.83}, {\"air_temperature\": -0.15000000000000002, \"water_temperature\": 4.8, \"wind_gust_max_10min\": 4.75, \"wind_speed_avg_10min\": 2.6, \"wind_force_avg_10min\": 2.6, \"wind_direction\": 155.0, \"windchill\": -3.65, \"barometric_pressure_qfe\": 978.5, \"precipitation\": 0.0, \"dew_point\": -1.2, \"global_radiation\": 0.0, \"humidity\": 84.0, \"water_level\": 405.81}, {\"air_temperature\": 0.3, \"water_temperature\": 4.2, \"wind_gust_max_10min\": 5.8, \"wind_speed_avg_10min\": 3.2, \"wind_force_avg_10min\": 3.2, \"wind_direction\": 168.0, \"windchill\": -6.0, \"barometric_pressure_qfe\": 966.7, \"precipitation\": 0.0, \"dew_point\": -2.8, \"global_radiation\": 0.0, \"humidity\": 84.0, \"water_level\": 405.74}, {\"air_temperature\": 0.0, \"water_temperature\": 3.9, \"wind_gust_max_10min\": 2.1, \"wind_speed_avg_10min\": 1.3, \"wind_force_avg_10min\": 1.3, \"wind_direction\": 195.0, \"windchill\": -1.35, \"barometric_pressure_qfe\": 982.1, \"precipitation\": 0.0, \"dew_point\": -2.5, \"global_radiation\": 0.0, \"humidity\": 86.0, \"water_level\": 405.71}, {\"air_temperature\": 4.5, \"water_temperature\": 4.4, \"wind_gust_max_10min\": 1.65, \"wind_speed_avg_10min\": 1.0, \"wind_force_avg_10min\": 1.0, \"wind_direction\": 176.0, \"windchill\": 4.4, \"barometric_pressure_qfe\": 974.2, \"precipitation\": 0.0, \"dew_point\": 0.6499999999999999, \"global_radiation\": 0.0, \"humidity\": 80.0, \"water_level\": 405.68}, {\"air_temperature\": 4.6, \"water_temperature\": 5.0, \"wind_gust_max_10min\": 1.8, \"wind_speed_avg_10min\": 1.0, \"wind_force_avg_10min\": 1.0, \"wind_direction\": 179.0, \"windchill\": 4.7, \"barometric_pressure_qfe\": 959.8, \"precipitation\": 0.0, \"dew_point\": 2.2, \"global_radiation\": 0.0, \"humidity\": 85.0, \"water_level\": 405.65}, {\"air_temperature\": 2.4, \"water_temperature\": 4.6, \"wind_gust_max_10min\": 1.7, \"wind_speed_avg_10min\": 1.0, \"wind_force_avg_10min\": 1.0, \"wind_direction\": 187.0, \"windchill\": 3.7, \"barometric_pressure_qfe\": 972.05, \"precipitation\": 0.0, \"dew_point\": 1.9, \"global_radiation\": 0.0, \"humidity\": 92.0, \"water_level\": 405.67}, {\"air_temperature\": 2.7, \"water_temperature\": 4.5, \"wind_gust_max_10min\": 2.4, \"wind_speed_avg_10min\": 1.3, \"wind_force_avg_10min\": 1.3, \"wind_direction\": 122.0, \"windchill\": 2.2, \"barometric_pressure_qfe\": 975.3, \"precipitation\": 0.0, \"dew_point\": -1.2, \"global_radiation\": 0.0, \"humidity\": 78.0, \"water_level\": 405.65}, {\"air_temperature\": 7.2, \"water_temperature\": 4.8, \"wind_gust_max_10min\": 2.1, \"wind_speed_avg_10min\": 1.1, \"wind_force_avg_10min\": 1.1, \"wind_direction\": 210.5, \"windchill\": 7.1, \"barometric_pressure_qfe\": 973.1, \"precipitation\": 0.0, \"dew_point\": 2.2, \"global_radiation\": 9.0, \"humidity\": 68.0, \"water_level\": 405.66}, {\"air_temperature\": 7.8, \"water_temperature\": 5.4, \"wind_gust_max_10min\": 2.6, \"wind_speed_avg_10min\": 1.3, \"wind_force_avg_10min\": 1.3, \"wind_direction\": 168.0, \"windchill\": 7.2, \"barometric_pressure_qfe\": 967.55, \"precipitation\": 0.0, \"dew_point\": 4.3, \"global_radiation\": 0.0, \"humidity\": 80.0, \"water_level\": 405.33}, {\"air_temperature\": 9.6, \"water_temperature\": 6.1, \"wind_gust_max_10min\": 1.8, \"wind_speed_avg_10min\": 1.0, \"wind_force_avg_10min\": 1.0, \"wind_direction\": 162.0, \"windchill\": 9.0, \"barometric_pressure_qfe\": 982.5, \"precipitation\": 0.0, \"dew_point\": 2.1, \"global_radiation\": 3.0, \"humidity\": 65.0, \"water_level\": 405.33}, {\"air_temperature\": 11.6, \"water_temperature\": 8.8, \"wind_gust_max_10min\": 1.8, \"wind_speed_avg_10min\": 1.0, \"wind_force_avg_10min\": 1.0, \"wind_direction\": 171.0, \"windchill\": 11.2, \"barometric_pressure_qfe\": 969.0, \"precipitation\": 0.0, \"dew_point\": 7.7, \"global_radiation\": 9.0, \"humidity\": 81.0, \"water_level\": 405.33}, {\"air_temperature\": 13.8, \"water_temperature\": 11.8, \"wind_gust_max_10min\": 2.1, \"wind_speed_avg_10min\": 1.2, \"wind_force_avg_10min\": 1.2, \"wind_direction\": 168.0, \"windchill\": 13.5, \"barometric_pressure_qfe\": 977.0, \"precipitation\": 0.0, \"dew_point\": 6.9, \"global_radiation\": 17.0, \"humidity\": 65.0, \"water_level\": 405.9}, {\"air_temperature\": 9.9, \"water_temperature\": 10.2, \"wind_gust_max_10min\": 3.2, \"wind_speed_avg_10min\": 1.7, \"wind_force_avg_10min\": 1.7, \"wind_direction\": 172.0, \"windchill\": 7.8, \"barometric_pressure_qfe\": 972.9, \"precipitation\": 0.0, \"dew_point\": 1.0, \"global_radiation\": 34.0, \"humidity\": 58.0, \"water_level\": 405.92}, {\"air_temperature\": 15.1, \"water_temperature\": 13.9, \"wind_gust_max_10min\": 1.5, \"wind_speed_avg_10min\": 0.8, \"wind_force_avg_10min\": 0.8, \"wind_direction\": 165.0, \"windchill\": 15.1, \"barometric_pressure_qfe\": 967.9, \"precipitation\": 0.0, \"dew_point\": 5.2, \"global_radiation\": 52.5, \"humidity\": 58.0, \"water_level\": 405.92}, {\"air_temperature\": 13.0, \"water_temperature\": 14.2, \"wind_gust_max_10min\": 2.4, \"wind_speed_avg_10min\": 1.3, \"wind_force_avg_10min\": 1.3, \"wind_direction\": 163.0, \"windchill\": 12.3, \"barometric_pressure_qfe\": 964.0, \"precipitation\": 0.0, \"dew_point\": 8.0, \"global_radiation\": 42.0, \"humidity\": 70.0, \"water_level\": 405.93}, {\"air_temperature\": 13.9, \"water_temperature\": 15.4, \"wind_gust_max_10min\": 2.8, \"wind_speed_avg_10min\": 1.4, \"wind_force_avg_10min\": 1.4, \"wind_direction\": 151.0, \"windchill\": 13.6, \"barometric_pressure_qfe\": 971.6, \"precipitation\": 0.0, \"dew_point\": 5.65, \"global_radiation\": 61.0, \"humidity\": 57.5, \"water_level\": 405.95}, {\"air_temperature\": 15.8, \"water_temperature\": 17.5, \"wind_gust_max_10min\": 2.7, \"wind_speed_avg_10min\": 1.3, \"wind_force_avg_10min\": 1.3, \"wind_direction\": 170.0, \"windchill\": 15.4, \"barometric_pressure_qfe\": 974.1, \"precipitation\": 0.0, \"dew_point\": 9.7, \"global_radiation\": 41.0, \"humidity\": 70.0, \"water_level\": 405.98}, {\"air_temperature\": 17.4, \"water_temperature\": 18.4, \"wind_gust_max_10min\": 1.9, \"wind_speed_avg_10min\": 1.0, \"wind_force_avg_10min\": 1.0, \"wind_direction\": 170.0, \"windchill\": 17.2, \"barometric_pressure_qfe\": 972.6, \"precipitation\": 0.0, \"dew_point\": 10.1, \"global_radiation\": 95.0, \"humidity\": 65.0, \"water_level\": 405.96}, {\"air_temperature\": 17.4, \"water_temperature\": 18.6, \"wind_gust_max_10min\": 2.4, \"wind_speed_avg_10min\": 1.3, \"wind_force_avg_10min\": 1.3, \"wind_direction\": 189.0, \"windchill\": 17.0, \"barometric_pressure_qfe\": 972.3, \"precipitation\": 0.0, \"dew_point\": 9.5, \"global_radiation\": 54.0, \"humidity\": 61.0, \"water_level\": 405.95}, {\"air_temperature\": 17.5, \"water_temperature\": 19.0, \"wind_gust_max_10min\": 2.7, \"wind_speed_avg_10min\": 1.45, \"wind_force_avg_10min\": 1.45, \"wind_direction\": 151.0, \"windchill\": 16.85, \"barometric_pressure_qfe\": 970.2, \"precipitation\": 0.0, \"dew_point\": 12.6, \"global_radiation\": 47.5, \"humidity\": 76.0, \"water_level\": 405.95}, {\"air_temperature\": 16.1, \"water_temperature\": 19.3, \"wind_gust_max_10min\": 2.3, \"wind_speed_avg_10min\": 1.1, \"wind_force_avg_10min\": 1.1, \"wind_direction\": 201.0, \"windchill\": 15.6, \"barometric_pressure_qfe\": 968.5, \"precipitation\": 0.0, \"dew_point\": 10.350000000000001, \"global_radiation\": 65.0, \"humidity\": 73.0, \"water_level\": 405.94}, {\"air_temperature\": 17.5, \"water_temperature\": 20.0, \"wind_gust_max_10min\": 2.6, \"wind_speed_avg_10min\": 1.5, \"wind_force_avg_10min\": 1.5, \"wind_direction\": 205.0, \"windchill\": 17.1, \"barometric_pressure_qfe\": 970.8, \"precipitation\": 0.0, \"dew_point\": 13.5, \"global_radiation\": 71.0, \"humidity\": 74.0, \"water_level\": 405.95}, {\"air_temperature\": 18.4, \"water_temperature\": 19.6, \"wind_gust_max_10min\": 2.4, \"wind_speed_avg_10min\": 1.3, \"wind_force_avg_10min\": 1.3, \"wind_direction\": 199.0, \"windchill\": 18.0, \"barometric_pressure_qfe\": 972.7, \"precipitation\": 0.0, \"dew_point\": 13.1, \"global_radiation\": 69.0, \"humidity\": 69.0, \"water_level\": 405.99}, {\"air_temperature\": 19.7, \"water_temperature\": 20.85, \"wind_gust_max_10min\": 2.4, \"wind_speed_avg_10min\": 1.3, \"wind_force_avg_10min\": 1.3, \"wind_direction\": 212.0, \"windchill\": 18.8, \"barometric_pressure_qfe\": 970.75, \"precipitation\": 0.0, \"dew_point\": 12.8, \"global_radiation\": 95.0, \"humidity\": 65.0, \"water_level\": 405.99}, {\"air_temperature\": 20.1, \"water_temperature\": 21.6, \"wind_gust_max_10min\": 2.2, \"wind_speed_avg_10min\": 1.2, \"wind_force_avg_10min\": 1.2, \"wind_direction\": 183.0, \"windchill\": 19.75, \"barometric_pressure_qfe\": 967.5, \"precipitation\": 0.0, \"dew_point\": 13.3, \"global_radiation\": 91.5, \"humidity\": 67.0, \"water_level\": 405.98}, {\"air_temperature\": 18.4, \"water_temperature\": 22.0, \"wind_gust_max_10min\": 2.7, \"wind_speed_avg_10min\": 1.4, \"wind_force_avg_10min\": 1.4, \"wind_direction\": 213.0, \"windchill\": 18.1, \"barometric_pressure_qfe\": 969.1, \"precipitation\": 0.0, \"dew_point\": 13.4, \"global_radiation\": 57.0, \"humidity\": 71.0, \"water_level\": 406.01}, {\"air_temperature\": 14.9, \"water_temperature\": 20.3, \"wind_gust_max_10min\": 3.0, \"wind_speed_avg_10min\": 1.4, \"wind_force_avg_10min\": 1.4, \"wind_direction\": 225.0, \"windchill\": 14.5, \"barometric_pressure_qfe\": 964.6, \"precipitation\": 0.0, \"dew_point\": 11.0, \"global_radiation\": 44.5, \"humidity\": 79.0, \"water_level\": 406.05}, {\"air_temperature\": 17.3, \"water_temperature\": 20.3, \"wind_gust_max_10min\": 2.2, \"wind_speed_avg_10min\": 1.1, \"wind_force_avg_10min\": 1.1, \"wind_direction\": 210.0, \"windchill\": 17.0, \"barometric_pressure_qfe\": 969.1, \"precipitation\": 0.0, \"dew_point\": 12.3, \"global_radiation\": 59.0, \"humidity\": 71.0, \"water_level\": 406.03}, {\"air_temperature\": 19.8, \"water_temperature\": 21.35, \"wind_gust_max_10min\": 2.2, \"wind_speed_avg_10min\": 1.3, \"wind_force_avg_10min\": 1.3, \"wind_direction\": 171.0, \"windchill\": 19.2, \"barometric_pressure_qfe\": 968.9, \"precipitation\": 0.0, \"dew_point\": 16.9, \"global_radiation\": 38.5, \"humidity\": 83.0, \"water_level\": 406.0}, {\"air_temperature\": 18.0, \"water_temperature\": 20.5, \"wind_gust_max_10min\": 2.4, \"wind_speed_avg_10min\": 1.2, \"wind_force_avg_10min\": 1.2, \"wind_direction\": 245.0, \"windchill\": 17.3, \"barometric_pressure_qfe\": 969.2, \"precipitation\": 0.0, \"dew_point\": 11.9, \"global_radiation\": 63.5, \"humidity\": 70.0, \"water_level\": 406.03}, {\"air_temperature\": 22.6, \"water_temperature\": 22.9, \"wind_gust_max_10min\": 1.75, \"wind_speed_avg_10min\": 1.0, \"wind_force_avg_10min\": 1.0, \"wind_direction\": 172.0, \"windchill\": 22.3, \"barometric_pressure_qfe\": 971.7, \"precipitation\": 0.0, \"dew_point\": 17.6, \"global_radiation\": 49.5, \"humidity\": 76.0, \"water_level\": 406.02}, {\"air_temperature\": 21.4, \"water_temperature\": 25.3, \"wind_gust_max_10min\": 0.0, \"wind_speed_avg_10min\": 0.0, \"wind_force_avg_10min\": 0.0, \"wind_direction\": 179.0, \"windchill\": 21.4, \"barometric_pressure_qfe\": 969.7, \"precipitation\": 0.0, \"dew_point\": 17.1, \"global_radiation\": 34.0, \"humidity\": 73.0, \"water_level\": 405.98}, {\"air_temperature\": 19.1, \"water_temperature\": 22.6, \"wind_gust_max_10min\": 1.5, \"wind_speed_avg_10min\": 0.8, \"wind_force_avg_10min\": 0.8, \"wind_direction\": 228.0, \"windchill\": 18.95, \"barometric_pressure_qfe\": 967.5, \"precipitation\": 0.0, \"dew_point\": 15.4, \"global_radiation\": 15.5, \"humidity\": 73.0, \"water_level\": 405.96}, {\"air_temperature\": 19.0, \"water_temperature\": 21.8, \"wind_gust_max_10min\": 2.6, \"wind_speed_avg_10min\": 1.4, \"wind_force_avg_10min\": 1.4, \"wind_direction\": 221.5, \"windchill\": 18.3, \"barometric_pressure_qfe\": 969.7, \"precipitation\": 0.0, \"dew_point\": 13.0, \"global_radiation\": 11.5, \"humidity\": 70.0, \"water_level\": 405.97}, {\"air_temperature\": 17.3, \"water_temperature\": 21.6, \"wind_gust_max_10min\": 2.5, \"wind_speed_avg_10min\": 1.3, \"wind_force_avg_10min\": 1.3, \"wind_direction\": 214.5, \"windchill\": 17.0, \"barometric_pressure_qfe\": 971.0, \"precipitation\": 0.0, \"dew_point\": 13.6, \"global_radiation\": 8.5, \"humidity\": 81.0, \"water_level\": 405.97}, {\"air_temperature\": 14.0, \"water_temperature\": 19.8, \"wind_gust_max_10min\": 1.7, \"wind_speed_avg_10min\": 0.9, \"wind_force_avg_10min\": 0.9, \"wind_direction\": 235.5, \"windchill\": 13.850000000000001, \"barometric_pressure_qfe\": 973.2, \"precipitation\": 0.0, \"dew_point\": 11.6, \"global_radiation\": 3.5, \"humidity\": 84.0, \"water_level\": 406.0}, {\"air_temperature\": 15.9, \"water_temperature\": 19.5, \"wind_gust_max_10min\": 1.7, \"wind_speed_avg_10min\": 0.9, \"wind_force_avg_10min\": 0.9, \"wind_direction\": 284.0, \"windchill\": 15.8, \"barometric_pressure_qfe\": 979.7, \"precipitation\": 0.0, \"dew_point\": 13.7, \"global_radiation\": 0.0, \"humidity\": 86.0, \"water_level\": 405.94}, {\"air_temperature\": 12.9, \"water_temperature\": 19.0, \"wind_gust_max_10min\": 2.4, \"wind_speed_avg_10min\": 1.1, \"wind_force_avg_10min\": 1.1, \"wind_direction\": 236.0, \"windchill\": 12.8, \"barometric_pressure_qfe\": 976.0, \"precipitation\": 0.0, \"dew_point\": 11.3, \"global_radiation\": 2.0, \"humidity\": 85.0, \"water_level\": 405.92}, {\"air_temperature\": 12.4, \"water_temperature\": 16.5, \"wind_gust_max_10min\": 2.9, \"wind_speed_avg_10min\": 1.5, \"wind_force_avg_10min\": 1.5, \"wind_direction\": 186.5, \"windchill\": 10.350000000000001, \"barometric_pressure_qfe\": 978.4, \"precipitation\": 0.0, \"dew_point\": 9.4, \"global_radiation\": 0.0, \"humidity\": 84.0, \"water_level\": 406.04}, {\"air_temperature\": 7.0, \"water_temperature\": 14.6, \"wind_gust_max_10min\": 2.0, \"wind_speed_avg_10min\": 1.0, \"wind_force_avg_10min\": 1.0, \"wind_direction\": 234.0, \"windchill\": 6.1, \"barometric_pressure_qfe\": 975.7, \"precipitation\": 0.0, \"dew_point\": 4.2, \"global_radiation\": 0.0, \"humidity\": 89.0, \"water_level\": 406.0}, {\"air_temperature\": 9.1, \"water_temperature\": 13.3, \"wind_gust_max_10min\": 1.6, \"wind_speed_avg_10min\": 0.8, \"wind_force_avg_10min\": 0.8, \"wind_direction\": 271.0, \"windchill\": 8.8, \"barometric_pressure_qfe\": 969.0, \"precipitation\": 0.0, \"dew_point\": 6.6, \"global_radiation\": 0.0, \"humidity\": 86.0, \"water_level\": 405.92}, {\"air_temperature\": 10.2, \"water_temperature\": 12.7, \"wind_gust_max_10min\": 2.3, \"wind_speed_avg_10min\": 1.2, \"wind_force_avg_10min\": 1.2, \"wind_direction\": 306.0, \"windchill\": 10.0, \"barometric_pressure_qfe\": 963.5, \"precipitation\": 0.0, \"dew_point\": 8.3, \"global_radiation\": 0.0, \"humidity\": 88.0, \"water_level\": 405.89}, {\"air_temperature\": 7.9, \"water_temperature\": 12.0, \"wind_gust_max_10min\": 2.0, \"wind_speed_avg_10min\": 1.0, \"wind_force_avg_10min\": 1.0, \"wind_direction\": 170.0, \"windchill\": 7.75, \"barometric_pressure_qfe\": 974.2, \"precipitation\": 0.0, \"dew_point\": 6.0, \"global_radiation\": 0.0, \"humidity\": 90.0, \"water_level\": 405.89}, {\"air_temperature\": 3.9, \"water_temperature\": 10.9, \"wind_gust_max_10min\": 0.7, \"wind_speed_avg_10min\": 0.3, \"wind_force_avg_10min\": 0.3, \"wind_direction\": 283.0, \"windchill\": 4.2, \"barometric_pressure_qfe\": 975.4, \"precipitation\": 0.0, \"dew_point\": 2.0, \"global_radiation\": 0.0, \"humidity\": 88.0, \"water_level\": 405.88}, {\"air_temperature\": 2.5, \"water_temperature\": 9.8, \"wind_gust_max_10min\": 0.5, \"wind_speed_avg_10min\": 0.3, \"wind_force_avg_10min\": 0.3, \"wind_direction\": 269.5, \"windchill\": 3.3, \"barometric_pressure_qfe\": 981.45, \"precipitation\": 0.0, \"dew_point\": 2.1, \"global_radiation\": 0.0, \"humidity\": 96.0, \"water_level\": 405.88}, {\"air_temperature\": 7.4, \"water_temperature\": 9.1, \"wind_gust_max_10min\": 2.6, \"wind_speed_avg_10min\": 1.3, \"wind_force_avg_10min\": 1.3, \"wind_direction\": 184.0, \"windchill\": 6.5, \"barometric_pressure_qfe\": 974.2, \"precipitation\": 0.0, \"dew_point\": 4.9, \"global_radiation\": 0.0, \"humidity\": 84.0, \"water_level\": 405.88}, {\"air_temperature\": 6.5, \"water_temperature\": 7.8, \"wind_gust_max_10min\": 5.0, \"wind_speed_avg_10min\": 1.8, \"wind_force_avg_10min\": 1.8, \"wind_direction\": 234.0, \"windchill\": 5.1, \"barometric_pressure_qfe\": 968.2, \"precipitation\": 0.0, \"dew_point\": 3.5, \"global_radiation\": 0.0, \"humidity\": 77.0, \"water_level\": 405.89}, {\"air_temperature\": 5.0, \"water_temperature\": 7.0, \"wind_gust_max_10min\": 3.4, \"wind_speed_avg_10min\": 1.7, \"wind_force_avg_10min\": 1.7, \"wind_direction\": 214.0, \"windchill\": 4.3, \"barometric_pressure_qfe\": 964.1, \"precipitation\": 0.0, \"dew_point\": 1.6, \"global_radiation\": 0.0, \"humidity\": 83.0, \"water_level\": 405.88}, {\"air_temperature\": 3.0, \"water_temperature\": 6.1, \"wind_gust_max_10min\": 0.8, \"wind_speed_avg_10min\": 0.4, \"wind_force_avg_10min\": 0.4, \"wind_direction\": 191.0, \"windchill\": 3.1, \"barometric_pressure_qfe\": 974.6, \"precipitation\": 0.0, \"dew_point\": 0.7, \"global_radiation\": 0.0, \"humidity\": 88.0, \"water_level\": 405.9}, {\"air_temperature\": 2.7, \"water_temperature\": 5.9, \"wind_gust_max_10min\": 1.0, \"wind_speed_avg_10min\": 0.5, \"wind_force_avg_10min\": 0.5, \"wind_direction\": 211.5, \"windchill\": 2.7, \"barometric_pressure_qfe\": 979.2, \"precipitation\": 0.0, \"dew_point\": 0.6, \"global_radiation\": 0.0, \"humidity\": 93.0, \"water_level\": 405.86}, {\"air_temperature\": 4.9, \"water_temperature\": 5.7, \"wind_gust_max_10min\": 4.75, \"wind_speed_avg_10min\": 1.8, \"wind_force_avg_10min\": 1.8, \"wind_direction\": 243.0, \"windchill\": 4.1, \"barometric_pressure_qfe\": 975.0, \"precipitation\": 0.0, \"dew_point\": 1.8, \"global_radiation\": 0.0, \"humidity\": 83.0, \"water_level\": 405.92}, {\"air_temperature\": 2.5, \"water_temperature\": 5.3, \"wind_gust_max_10min\": 0.5, \"wind_speed_avg_10min\": 0.3, \"wind_force_avg_10min\": 0.3, \"wind_direction\": 180.0, \"windchill\": 3.0, \"barometric_pressure_qfe\": 981.4, \"precipitation\": 0.0, \"dew_point\": 0.8, \"global_radiation\": 0.0, \"humidity\": 88.0, \"water_level\": 405.86}, {\"air_temperature\": 3.8, \"water_temperature\": 5.0, \"wind_gust_max_10min\": 1.75, \"wind_speed_avg_10min\": 0.6499999999999999, \"wind_force_avg_10min\": 0.6499999999999999, \"wind_direction\": 245.5, \"windchill\": 2.3, \"barometric_pressure_qfe\": 975.0, \"precipitation\": 0.0, \"dew_point\": 0.1, \"global_radiation\": 0.0, \"humidity\": 79.0, \"water_level\": 405.81}, {\"air_temperature\": 3.1, \"water_temperature\": 5.0, \"wind_gust_max_10min\": 0.9, \"wind_speed_avg_10min\": 0.5, \"wind_force_avg_10min\": 0.5, \"wind_direction\": 180.0, \"windchill\": 3.8, \"barometric_pressure_qfe\": 973.7, \"precipitation\": 0.0, \"dew_point\": 1.4, \"global_radiation\": 0.0, \"humidity\": 89.0, \"water_level\": 405.83}, {\"air_temperature\": -7.4, \"water_temperature\": 4.1, \"wind_gust_max_10min\": 1.0, \"wind_speed_avg_10min\": 0.6, \"wind_force_avg_10min\": 0.6, \"wind_direction\": 39.0, \"windchill\": -1.9, \"barometric_pressure_qfe\": 974.9, \"precipitation\": 0.0, \"dew_point\": -9.7, \"global_radiation\": 0.0, \"humidity\": 80.0, \"water_level\": 405.78}, {\"air_temperature\": -8.6, \"water_temperature\": 3.0, \"wind_gust_max_10min\": 1.1, \"wind_speed_avg_10min\": 0.6, \"wind_force_avg_10min\": 0.6, \"wind_direction\": 38.0, \"windchill\": -3.9, \"barometric_pressure_qfe\": 980.6, \"precipitation\": 0.0, \"dew_point\": -11.9, \"global_radiation\": 0.0, \"humidity\": 77.0, \"water_level\": 405.75}, {\"air_temperature\": 1.1, \"water_temperature\": 3.7, \"wind_gust_max_10min\": 1.6, \"wind_speed_avg_10min\": 0.8, \"wind_force_avg_10min\": 0.8, \"wind_direction\": 203.0, \"windchill\": 0.4, \"barometric_pressure_qfe\": 973.5, \"precipitation\": 0.0, \"dew_point\": -1.0, \"global_radiation\": 0.0, \"humidity\": 86.0, \"water_level\": 405.72}, {\"air_temperature\": 3.1, \"water_temperature\": 4.2, \"wind_gust_max_10min\": 1.9, \"wind_speed_avg_10min\": 1.1, \"wind_force_avg_10min\": 1.1, \"wind_direction\": 165.0, \"windchill\": 1.7, \"barometric_pressure_qfe\": 980.9, \"precipitation\": 0.0, \"dew_point\": -0.4, \"global_radiation\": 0.0, \"humidity\": 82.0, \"water_level\": 405.66}, {\"air_temperature\": 6.2, \"water_temperature\": 4.8, \"wind_gust_max_10min\": 1.4, \"wind_speed_avg_10min\": 0.9, \"wind_force_avg_10min\": 0.9, \"wind_direction\": 166.0, \"windchill\": 6.0, \"barometric_pressure_qfe\": 976.8, \"precipitation\": 0.0, \"dew_point\": 3.3, \"global_radiation\": 0.0, \"humidity\": 81.0, \"water_level\": 405.65}, {\"air_temperature\": 4.5, \"water_temperature\": 4.7, \"wind_gust_max_10min\": 2.6, \"wind_speed_avg_10min\": 1.4, \"wind_force_avg_10min\": 1.4, \"wind_direction\": 175.0, \"windchill\": 2.9, \"barometric_pressure_qfe\": 979.6500000000001, \"precipitation\": 0.0, \"dew_point\": -1.2, \"global_radiation\": 0.0, \"humidity\": 72.0, \"water_level\": 405.73}, {\"air_temperature\": 7.6, \"water_temperature\": 6.1, \"wind_gust_max_10min\": 1.8, \"wind_speed_avg_10min\": 1.0, \"wind_force_avg_10min\": 1.0, \"wind_direction\": 165.0, \"windchill\": 7.0, \"barometric_pressure_qfe\": 979.8, \"precipitation\": 0.0, \"dew_point\": 3.5, \"global_radiation\": 0.0, \"humidity\": 76.0, \"water_level\": 405.74}, {\"air_temperature\": 8.5, \"water_temperature\": 7.2, \"wind_gust_max_10min\": 1.9, \"wind_speed_avg_10min\": 1.0, \"wind_force_avg_10min\": 1.0, \"wind_direction\": 160.0, \"windchill\": 8.4, \"barometric_pressure_qfe\": 980.0, \"precipitation\": 0.0, \"dew_point\": 4.3, \"global_radiation\": 3.0, \"humidity\": 80.0, \"water_level\": 405.75}, {\"air_temperature\": 11.1, \"water_temperature\": 7.7, \"wind_gust_max_10min\": 3.1, \"wind_speed_avg_10min\": 1.6, \"wind_force_avg_10min\": 1.6, \"wind_direction\": 169.5, \"windchill\": 10.6, \"barometric_pressure_qfe\": 974.25, \"precipitation\": 0.0, \"dew_point\": 3.0, \"global_radiation\": 11.5, \"humidity\": 56.0, \"water_level\": 405.74}, {\"air_temperature\": 9.3, \"water_temperature\": 7.2, \"wind_gust_max_10min\": 2.8, \"wind_speed_avg_10min\": 1.5, \"wind_force_avg_10min\": 1.5, \"wind_direction\": 193.0, \"windchill\": 8.7, \"barometric_pressure_qfe\": 961.5, \"precipitation\": 0.0, \"dew_point\": 7.2, \"global_radiation\": 4.0, \"humidity\": 85.0, \"water_level\": 405.79}, {\"air_temperature\": 7.8, \"water_temperature\": 8.6, \"wind_gust_max_10min\": 3.7, \"wind_speed_avg_10min\": 2.0, \"wind_force_avg_10min\": 2.0, \"wind_direction\": 168.0, \"windchill\": 5.8, \"barometric_pressure_qfe\": 956.7, \"precipitation\": 0.0, \"dew_point\": 4.5, \"global_radiation\": 14.5, \"humidity\": 81.0, \"water_level\": 405.78}, {\"air_temperature\": 7.1, \"water_temperature\": 7.9, \"wind_gust_max_10min\": 4.3, \"wind_speed_avg_10min\": 2.3, \"wind_force_avg_10min\": 2.3, \"wind_direction\": 180.0, \"windchill\": 5.0, \"barometric_pressure_qfe\": 957.7, \"precipitation\": 0.0, \"dew_point\": 3.4, \"global_radiation\": 31.0, \"humidity\": 78.0, \"water_level\": 405.77}, {\"air_temperature\": 13.0, \"water_temperature\": 9.3, \"wind_gust_max_10min\": 3.3, \"wind_speed_avg_10min\": 1.7, \"wind_force_avg_10min\": 1.7, \"wind_direction\": 179.0, \"windchill\": 12.4, \"barometric_pressure_qfe\": 961.3, \"precipitation\": 0.0, \"dew_point\": 5.5, \"global_radiation\": 48.0, \"humidity\": 64.0, \"water_level\": 405.8}, {\"air_temperature\": 13.3, \"water_temperature\": 11.0, \"wind_gust_max_10min\": 3.0, \"wind_speed_avg_10min\": 1.6, \"wind_force_avg_10min\": 1.6, \"wind_direction\": 181.0, \"windchill\": 12.7, \"barometric_pressure_qfe\": 964.8, \"precipitation\": 0.0, \"dew_point\": 8.3, \"global_radiation\": 44.0, \"humidity\": 72.0, \"water_level\": 405.82}, {\"air_temperature\": 13.95, \"water_temperature\": 13.5, \"wind_gust_max_10min\": 2.3499999999999996, \"wind_speed_avg_10min\": 1.3, \"wind_force_avg_10min\": 1.3, \"wind_direction\": 169.0, \"windchill\": 13.6, \"barometric_pressure_qfe\": 975.2, \"precipitation\": 0.0, \"dew_point\": 10.7, \"global_radiation\": 41.0, \"humidity\": 79.0, \"water_level\": 405.83}, {\"air_temperature\": 12.5, \"water_temperature\": 11.8, \"wind_gust_max_10min\": 3.1, \"wind_speed_avg_10min\": 1.6, \"wind_force_avg_10min\": 1.6, \"wind_direction\": 176.0, \"windchill\": 11.7, \"barometric_pressure_qfe\": 966.6, \"precipitation\": 0.0, \"dew_point\": 3.9, \"global_radiation\": 71.5, \"humidity\": 67.0, \"water_level\": 405.83}, {\"air_temperature\": 17.0, \"water_temperature\": 15.2, \"wind_gust_max_10min\": 3.3, \"wind_speed_avg_10min\": 1.6, \"wind_force_avg_10min\": 1.6, \"wind_direction\": 164.5, \"windchill\": 16.1, \"barometric_pressure_qfe\": 970.6, \"precipitation\": 0.0, \"dew_point\": 11.2, \"global_radiation\": 54.0, \"humidity\": 68.5, \"water_level\": 405.85}, {\"air_temperature\": 18.4, \"water_temperature\": 18.8, \"wind_gust_max_10min\": 2.9, \"wind_speed_avg_10min\": 1.7, \"wind_force_avg_10min\": 1.7, \"wind_direction\": 180.0, \"windchill\": 17.7, \"barometric_pressure_qfe\": 969.8, \"precipitation\": 0.0, \"dew_point\": 12.4, \"global_radiation\": 51.5, \"humidity\": 70.0, \"water_level\": 405.88}, {\"air_temperature\": 15.8, \"water_temperature\": 18.3, \"wind_gust_max_10min\": 3.2, \"wind_speed_avg_10min\": 1.7, \"wind_force_avg_10min\": 1.7, \"wind_direction\": 178.0, \"windchill\": 14.3, \"barometric_pressure_qfe\": 966.6, \"precipitation\": 0.0, \"dew_point\": 12.1, \"global_radiation\": 49.5, \"humidity\": 83.0, \"water_level\": 406.05}, {\"air_temperature\": 16.6, \"water_temperature\": 18.0, \"wind_gust_max_10min\": 3.1, \"wind_speed_avg_10min\": 1.5, \"wind_force_avg_10min\": 1.5, \"wind_direction\": 201.5, \"windchill\": 15.9, \"barometric_pressure_qfe\": 970.3, \"precipitation\": 0.0, \"dew_point\": 11.8, \"global_radiation\": 62.0, \"humidity\": 77.0, \"water_level\": 406.28}, {\"air_temperature\": 21.0, \"water_temperature\": 19.7, \"wind_gust_max_10min\": 2.9, \"wind_speed_avg_10min\": 1.4, \"wind_force_avg_10min\": 1.4, \"wind_direction\": 274.0, \"windchill\": 20.4, \"barometric_pressure_qfe\": 970.7, \"precipitation\": 0.0, \"dew_point\": 15.8, \"global_radiation\": 84.5, \"humidity\": 65.5, \"water_level\": 406.07}, {\"air_temperature\": 20.6, \"water_temperature\": 20.2, \"wind_gust_max_10min\": 3.0, \"wind_speed_avg_10min\": 1.6, \"wind_force_avg_10min\": 1.6, \"wind_direction\": 223.0, \"windchill\": 19.65, \"barometric_pressure_qfe\": 970.1500000000001, \"precipitation\": 0.0, \"dew_point\": 16.4, \"global_radiation\": 52.0, \"humidity\": 75.0, \"water_level\": 406.07}, {\"air_temperature\": 19.1, \"water_temperature\": 21.0, \"wind_gust_max_10min\": 2.3, \"wind_speed_avg_10min\": 1.1, \"wind_force_avg_10min\": 1.1, \"wind_direction\": 245.0, \"windchill\": 18.8, \"barometric_pressure_qfe\": 967.6, \"precipitation\": 0.0, \"dew_point\": 15.9, \"global_radiation\": 36.0, \"humidity\": 85.0, \"water_level\": 406.05}, {\"air_temperature\": 18.1, \"water_temperature\": 20.9, \"wind_gust_max_10min\": 3.2, \"wind_speed_avg_10min\": 1.5, \"wind_force_avg_10min\": 1.5, \"wind_direction\": 249.0, \"windchill\": 17.7, \"barometric_pressure_qfe\": 969.0, \"precipitation\": 0.0, \"dew_point\": 11.9, \"global_radiation\": 59.0, \"humidity\": 67.0, \"water_level\": 406.02}, {\"air_temperature\": 18.2, \"water_temperature\": 19.7, \"wind_gust_max_10min\": 3.45, \"wind_speed_avg_10min\": 1.7, \"wind_force_avg_10min\": 1.7, \"wind_direction\": 237.0, \"windchill\": 17.15, \"barometric_pressure_qfe\": 975.8499999999999, \"precipitation\": 0.0, \"dew_point\": 12.5, \"global_radiation\": 53.0, \"humidity\": 69.0, \"water_level\": 406.0}, {\"air_temperature\": 20.9, \"water_temperature\": 22.5, \"wind_gust_max_10min\": 2.4, \"wind_speed_avg_10min\": 1.4, \"wind_force_avg_10min\": 1.4, \"wind_direction\": 167.0, \"windchill\": 20.3, \"barometric_pressure_qfe\": 969.6, \"precipitation\": 0.0, \"dew_point\": 16.1, \"global_radiation\": 63.5, \"humidity\": 70.0, \"water_level\": 405.99}, {\"air_temperature\": 22.2, \"water_temperature\": 23.3, \"wind_gust_max_10min\": 2.3, \"wind_speed_avg_10min\": 1.2, \"wind_force_avg_10min\": 1.2, \"wind_direction\": 262.0, \"windchill\": 21.65, \"barometric_pressure_qfe\": 969.8, \"precipitation\": 0.0, \"dew_point\": 15.2, \"global_radiation\": 74.0, \"humidity\": 65.0, \"water_level\": 405.98}, {\"air_temperature\": 19.6, \"water_temperature\": 22.6, \"wind_gust_max_10min\": 3.2, \"wind_speed_avg_10min\": 1.6, \"wind_force_avg_10min\": 1.6, \"wind_direction\": 290.0, \"windchill\": 19.3, \"barometric_pressure_qfe\": 975.3, \"precipitation\": 0.0, \"dew_point\": 12.9, \"global_radiation\": 50.0, \"humidity\": 65.0, \"water_level\": 405.99}, {\"air_temperature\": 22.2, \"water_temperature\": 23.8, \"wind_gust_max_10min\": 1.7, \"wind_speed_avg_10min\": 0.8, \"wind_force_avg_10min\": 0.8, \"wind_direction\": 148.5, \"windchill\": 22.1, \"barometric_pressure_qfe\": 973.0, \"precipitation\": 0.0, \"dew_point\": 16.05, \"global_radiation\": 54.5, \"humidity\": 70.0, \"water_level\": 405.97}, {\"air_temperature\": 21.8, \"water_temperature\": 25.2, \"wind_gust_max_10min\": 0.0, \"wind_speed_avg_10min\": 0.0, \"wind_force_avg_10min\": 0.0, \"wind_direction\": 0.0, \"windchill\": 21.8, \"barometric_pressure_qfe\": 970.3, \"precipitation\": 0.0, \"dew_point\": 18.0, \"global_radiation\": 32.0, \"humidity\": 73.0, \"water_level\": 405.98}, {\"air_temperature\": 16.1, \"water_temperature\": 23.2, \"wind_gust_max_10min\": 0.0, \"wind_speed_avg_10min\": 0.0, \"wind_force_avg_10min\": 0.0, \"wind_direction\": 0.0, \"windchill\": 16.1, \"barometric_pressure_qfe\": 973.9, \"precipitation\": 0.0, \"dew_point\": 12.8, \"global_radiation\": 10.0, \"humidity\": 85.0, \"water_level\": 406.03}, {\"air_temperature\": 18.5, \"water_temperature\": 20.9, \"wind_gust_max_10min\": 1.9, \"wind_speed_avg_10min\": 1.1, \"wind_force_avg_10min\": 1.1, \"wind_direction\": 143.0, \"windchill\": 18.1, \"barometric_pressure_qfe\": 973.3, \"precipitation\": 0.0, \"dew_point\": 14.4, \"global_radiation\": 9.0, \"humidity\": 81.0, \"water_level\": 406.06}, {\"air_temperature\": 15.0, \"water_temperature\": 20.5, \"wind_gust_max_10min\": 2.1, \"wind_speed_avg_10min\": 1.1, \"wind_force_avg_10min\": 1.1, \"wind_direction\": 204.0, \"windchill\": 14.6, \"barometric_pressure_qfe\": 970.6, \"precipitation\": 0.0, \"dew_point\": 10.6, \"global_radiation\": 7.0, \"humidity\": 81.0, \"water_level\": 406.04}, {\"air_temperature\": 14.8, \"water_temperature\": 19.3, \"wind_gust_max_10min\": 2.5, \"wind_speed_avg_10min\": 1.4, \"wind_force_avg_10min\": 1.4, \"wind_direction\": 245.5, \"windchill\": 14.2, \"barometric_pressure_qfe\": 969.4, \"precipitation\": 0.0, \"dew_point\": 12.3, \"global_radiation\": 2.5, \"humidity\": 88.0, \"water_level\": 406.08}, {\"air_temperature\": 13.2, \"water_temperature\": 18.0, \"wind_gust_max_10min\": 2.7, \"wind_speed_avg_10min\": 1.4, \"wind_force_avg_10min\": 1.4, \"wind_direction\": 261.5, \"windchill\": 12.9, \"barometric_pressure_qfe\": 965.95, \"precipitation\": 0.0, \"dew_point\": 10.6, \"global_radiation\": 2.0, \"humidity\": 86.0, \"water_level\": 406.07}, {\"air_temperature\": 14.7, \"water_temperature\": 17.3, \"wind_gust_max_10min\": 2.8, \"wind_speed_avg_10min\": 1.5, \"wind_force_avg_10min\": 1.5, \"wind_direction\": 193.0, \"windchill\": 14.1, \"barometric_pressure_qfe\": 971.7, \"precipitation\": 0.0, \"dew_point\": 11.8, \"global_radiation\": 0.0, \"humidity\": 84.0, \"water_level\": 406.05}, {\"air_temperature\": 13.5, \"water_temperature\": 16.7, \"wind_gust_max_10min\": 2.6, \"wind_speed_avg_10min\": 1.4, \"wind_force_avg_10min\": 1.4, \"wind_direction\": 211.0, \"windchill\": 13.0, \"barometric_pressure_qfe\": 966.2, \"precipitation\": 0.0, \"dew_point\": 12.4, \"global_radiation\": 0.0, \"humidity\": 91.0, \"water_level\": 406.37}, {\"air_temperature\": 10.649999999999999, \"water_temperature\": 15.4, \"wind_gust_max_10min\": 2.1, \"wind_speed_avg_10min\": 1.2, \"wind_force_avg_10min\": 1.2, \"wind_direction\": 258.5, \"windchill\": 10.4, \"barometric_pressure_qfe\": 967.8, \"precipitation\": 0.0, \"dew_point\": 9.4, \"global_radiation\": 0.0, \"humidity\": 88.0, \"water_level\": 406.14}, {\"air_temperature\": 9.3, \"water_temperature\": 14.1, \"wind_gust_max_10min\": 3.3, \"wind_speed_avg_10min\": 2.0, \"wind_force_avg_10min\": 2.0, \"wind_direction\": 152.0, \"windchill\": 8.6, \"barometric_pressure_qfe\": 968.9, \"precipitation\": 0.0, \"dew_point\": 8.2, \"global_radiation\": 1.0, \"humidity\": 95.0, \"water_level\": 406.01}, {\"air_temperature\": 7.3, \"water_temperature\": 11.9, \"wind_gust_max_10min\": 3.0, \"wind_speed_avg_10min\": 1.7, \"wind_force_avg_10min\": 1.7, \"wind_direction\": 221.0, \"windchill\": 5.6, \"barometric_pressure_qfe\": 958.8, \"precipitation\": 0.0, \"dew_point\": 4.2, \"global_radiation\": 1.0, \"humidity\": 82.0, \"water_level\": 405.97}, {\"air_temperature\": 8.2, \"water_temperature\": 11.2, \"wind_gust_max_10min\": 2.1, \"wind_speed_avg_10min\": 1.3, \"wind_force_avg_10min\": 1.3, \"wind_direction\": 225.0, \"windchill\": 7.1, \"barometric_pressure_qfe\": 969.3, \"precipitation\": 0.0, \"dew_point\": 4.8, \"global_radiation\": 0.0, \"humidity\": 91.0, \"water_level\": 405.97}, {\"air_temperature\": 6.9, \"water_temperature\": 10.6, \"wind_gust_max_10min\": 2.6, \"wind_speed_avg_10min\": 1.5, \"wind_force_avg_10min\": 1.5, \"wind_direction\": 233.0, \"windchill\": 5.4, \"barometric_pressure_qfe\": 974.1, \"precipitation\": 0.0, \"dew_point\": 4.9, \"global_radiation\": 0.0, \"humidity\": 94.0, \"water_level\": 405.95}, {\"air_temperature\": 6.3, \"water_temperature\": 10.0, \"wind_gust_max_10min\": 2.4, \"wind_speed_avg_10min\": 1.4, \"wind_force_avg_10min\": 1.4, \"wind_direction\": 171.0, \"windchill\": 5.6, \"barometric_pressure_qfe\": 972.1, \"precipitation\": 0.0, \"dew_point\": 4.9, \"global_radiation\": 0.0, \"humidity\": 89.0, \"water_level\": 405.92}, {\"air_temperature\": 2.3, \"water_temperature\": 9.1, \"wind_gust_max_10min\": 3.1, \"wind_speed_avg_10min\": 1.6, \"wind_force_avg_10min\": 1.6, \"wind_direction\": 262.0, \"windchill\": 1.3, \"barometric_pressure_qfe\": 960.5, \"precipitation\": 0.0, \"dew_point\": 1.3, \"global_radiation\": 0.0, \"humidity\": 89.0, \"water_level\": 405.91}, {\"air_temperature\": 0.0, \"water_temperature\": 7.6, \"wind_gust_max_10min\": 4.0, \"wind_speed_avg_10min\": 1.9, \"wind_force_avg_10min\": 1.9, \"wind_direction\": 218.5, \"windchill\": -1.7, \"barometric_pressure_qfe\": 964.95, \"precipitation\": 0.0, \"dew_point\": -1.6, \"global_radiation\": 1.0, \"humidity\": 90.0, \"water_level\": 405.95}, {\"air_temperature\": 1.1, \"water_temperature\": 6.6, \"wind_gust_max_10min\": 3.6, \"wind_speed_avg_10min\": 1.9, \"wind_force_avg_10min\": 1.9, \"wind_direction\": 263.0, \"windchill\": -1.4, \"barometric_pressure_qfe\": 965.9, \"precipitation\": 0.0, \"dew_point\": -0.7, \"global_radiation\": 1.0, \"humidity\": 87.0, \"water_level\": 405.91}, {\"air_temperature\": 5.1, \"water_temperature\": 6.5, \"wind_gust_max_10min\": 3.8, \"wind_speed_avg_10min\": 2.0, \"wind_force_avg_10min\": 2.0, \"wind_direction\": 181.0, \"windchill\": 2.9, \"barometric_pressure_qfe\": 969.6, \"precipitation\": 0.0, \"dew_point\": 3.5, \"global_radiation\": 1.0, \"humidity\": 91.0, \"water_level\": 405.95}, {\"air_temperature\": 7.2, \"water_temperature\": 6.5, \"wind_gust_max_10min\": 5.0, \"wind_speed_avg_10min\": 2.3, \"wind_force_avg_10min\": 2.3, \"wind_direction\": 202.0, \"windchill\": 4.6, \"barometric_pressure_qfe\": 971.0, \"precipitation\": 0.0, \"dew_point\": 3.0, \"global_radiation\": 0.0, \"humidity\": 77.0, \"water_level\": 405.94}, {\"air_temperature\": 5.2, \"water_temperature\": 6.1, \"wind_gust_max_10min\": 2.4, \"wind_speed_avg_10min\": 1.4, \"wind_force_avg_10min\": 1.4, \"wind_direction\": 187.0, \"windchill\": 4.2, \"barometric_pressure_qfe\": 984.0, \"precipitation\": 0.0, \"dew_point\": 2.7, \"global_radiation\": 0.0, \"humidity\": 87.0, \"water_level\": 405.86}, {\"air_temperature\": 2.4, \"water_temperature\": 5.8, \"wind_gust_max_10min\": 2.1, \"wind_speed_avg_10min\": 1.2, \"wind_force_avg_10min\": 1.2, \"wind_direction\": 189.0, \"windchill\": 1.9, \"barometric_pressure_qfe\": 970.1, \"precipitation\": 0.0, \"dew_point\": 0.9, \"global_radiation\": 0.0, \"humidity\": 91.0, \"water_level\": 405.85}, {\"air_temperature\": -1.5, \"water_temperature\": 5.2, \"wind_gust_max_10min\": 2.9, \"wind_speed_avg_10min\": 1.6, \"wind_force_avg_10min\": 1.6, \"wind_direction\": 290.0, \"windchill\": -2.4, \"barometric_pressure_qfe\": 959.45, \"precipitation\": 0.0, \"dew_point\": -3.6, \"global_radiation\": 1.0, \"humidity\": 86.0, \"water_level\": 405.82}, {\"air_temperature\": -0.3, \"water_temperature\": 4.9, \"wind_gust_max_10min\": 3.1, \"wind_speed_avg_10min\": 1.8, \"wind_force_avg_10min\": 1.8, \"wind_direction\": 180.5, \"windchill\": -1.9, \"barometric_pressure_qfe\": 961.0, \"precipitation\": 0.0, \"dew_point\": -2.5, \"global_radiation\": 0.0, \"humidity\": 84.0, \"water_level\": 405.77}, {\"air_temperature\": 5.5, \"water_temperature\": 5.1, \"wind_gust_max_10min\": 5.9, \"wind_speed_avg_10min\": 2.8, \"wind_force_avg_10min\": 2.8, \"wind_direction\": 211.0, \"windchill\": 2.4, \"barometric_pressure_qfe\": 973.0, \"precipitation\": 0.0, \"dew_point\": 2.4, \"global_radiation\": 1.0, \"humidity\": 81.0, \"water_level\": 405.83}, {\"air_temperature\": 0.3, \"water_temperature\": 4.6, \"wind_gust_max_10min\": 4.3, \"wind_speed_avg_10min\": 2.0, \"wind_force_avg_10min\": 2.0, \"wind_direction\": 224.0, \"windchill\": -1.4, \"barometric_pressure_qfe\": 966.1, \"precipitation\": 0.0, \"dew_point\": -2.2, \"global_radiation\": 0.0, \"humidity\": 83.0, \"water_level\": 405.85}, {\"air_temperature\": -0.6, \"water_temperature\": 4.3, \"wind_gust_max_10min\": 3.2, \"wind_speed_avg_10min\": 1.8, \"wind_force_avg_10min\": 1.8, \"wind_direction\": 169.0, \"windchill\": -2.2, \"barometric_pressure_qfe\": 971.7, \"precipitation\": 0.0, \"dew_point\": -3.4, \"global_radiation\": 0.0, \"humidity\": 85.0, \"water_level\": 405.77}, {\"air_temperature\": -2.2, \"water_temperature\": 4.2, \"wind_gust_max_10min\": 4.3, \"wind_speed_avg_10min\": 2.4, \"wind_force_avg_10min\": 2.4, \"wind_direction\": 49.0, \"windchill\": -4.2, \"barometric_pressure_qfe\": 967.0, \"precipitation\": 0.0, \"dew_point\": -5.3, \"global_radiation\": 1.0, \"humidity\": 79.0, \"water_level\": 405.72}, {\"air_temperature\": 1.0, \"water_temperature\": 4.0, \"wind_gust_max_10min\": 2.95, \"wind_speed_avg_10min\": 1.7, \"wind_force_avg_10min\": 1.7, \"wind_direction\": 50.0, \"windchill\": -0.5, \"barometric_pressure_qfe\": 974.2, \"precipitation\": 0.0, \"dew_point\": -1.5, \"global_radiation\": 0.0, \"humidity\": 83.0, \"water_level\": 405.71}, {\"air_temperature\": 6.8, \"water_temperature\": 4.7, \"wind_gust_max_10min\": 2.1, \"wind_speed_avg_10min\": 1.2, \"wind_force_avg_10min\": 1.2, \"wind_direction\": 183.5, \"windchill\": 6.1, \"barometric_pressure_qfe\": 956.2, \"precipitation\": 0.0, \"dew_point\": 2.8, \"global_radiation\": 0.0, \"humidity\": 79.0, \"water_level\": 405.74}, {\"air_temperature\": 2.9, \"water_temperature\": 4.9, \"wind_gust_max_10min\": 3.2, \"wind_speed_avg_10min\": 1.8, \"wind_force_avg_10min\": 1.8, \"wind_direction\": 276.5, \"windchill\": 1.2, \"barometric_pressure_qfe\": 957.45, \"precipitation\": 0.0, \"dew_point\": -1.55, \"global_radiation\": 0.0, \"humidity\": 78.0, \"water_level\": 405.78}, {\"air_temperature\": 4.4, \"water_temperature\": 4.7, \"wind_gust_max_10min\": 4.5, \"wind_speed_avg_10min\": 2.1, \"wind_force_avg_10min\": 2.1, \"wind_direction\": 182.0, \"windchill\": 3.6, \"barometric_pressure_qfe\": 960.6, \"precipitation\": 0.0, \"dew_point\": 0.6, \"global_radiation\": 2.0, \"humidity\": 75.0, \"water_level\": 405.78}, {\"air_temperature\": 1.3, \"water_temperature\": 4.4, \"wind_gust_max_10min\": 3.2, \"wind_speed_avg_10min\": 1.7, \"wind_force_avg_10min\": 1.7, \"wind_direction\": 171.0, \"windchill\": 0.35, \"barometric_pressure_qfe\": 959.3, \"precipitation\": 0.0, \"dew_point\": -0.9, \"global_radiation\": 4.0, \"humidity\": 90.0, \"water_level\": 405.86}, {\"air_temperature\": 3.7, \"water_temperature\": 4.7, \"wind_gust_max_10min\": 4.4, \"wind_speed_avg_10min\": 2.5, \"wind_force_avg_10min\": 2.5, \"wind_direction\": 47.0, \"windchill\": 1.35, \"barometric_pressure_qfe\": 960.6500000000001, \"precipitation\": 0.0, \"dew_point\": -0.2, \"global_radiation\": 13.0, \"humidity\": 76.0, \"water_level\": 405.86}, {\"air_temperature\": 8.9, \"water_temperature\": 5.0, \"wind_gust_max_10min\": 4.2, \"wind_speed_avg_10min\": 2.1, \"wind_force_avg_10min\": 2.1, \"wind_direction\": 194.0, \"windchill\": 7.1, \"barometric_pressure_qfe\": 962.8, \"precipitation\": 0.0, \"dew_point\": 4.5, \"global_radiation\": 21.0, \"humidity\": 77.0, \"water_level\": 405.89}, {\"air_temperature\": 11.6, \"water_temperature\": 8.3, \"wind_gust_max_10min\": 2.3, \"wind_speed_avg_10min\": 1.5, \"wind_force_avg_10min\": 1.5, \"wind_direction\": 163.0, \"windchill\": 10.5, \"barometric_pressure_qfe\": 973.6, \"precipitation\": 0.0, \"dew_point\": 7.5, \"global_radiation\": 18.0, \"humidity\": 83.0, \"water_level\": 405.96}, {\"air_temperature\": 11.4, \"water_temperature\": 8.9, \"wind_gust_max_10min\": 1.9, \"wind_speed_avg_10min\": 1.2, \"wind_force_avg_10min\": 1.2, \"wind_direction\": 166.0, \"windchill\": 10.9, \"barometric_pressure_qfe\": 970.6, \"precipitation\": 0.0, \"dew_point\": 7.4, \"global_radiation\": 25.0, \"humidity\": 79.0, \"water_level\": 405.98}, {\"air_temperature\": 12.2, \"water_temperature\": 8.9, \"wind_gust_max_10min\": 3.2, \"wind_speed_avg_10min\": 1.6, \"wind_force_avg_10min\": 1.6, \"wind_direction\": 169.0, \"windchill\": 11.6, \"barometric_pressure_qfe\": 970.7, \"precipitation\": 0.0, \"dew_point\": 9.55, \"global_radiation\": 30.0, \"humidity\": 84.0, \"water_level\": 405.99}, {\"air_temperature\": 12.9, \"water_temperature\": 12.9, \"wind_gust_max_10min\": 3.0, \"wind_speed_avg_10min\": 1.7, \"wind_force_avg_10min\": 1.7, \"wind_direction\": 212.0, \"windchill\": 12.5, \"barometric_pressure_qfe\": 969.9, \"precipitation\": 0.0, \"dew_point\": 9.4, \"global_radiation\": 51.5, \"humidity\": 81.0, \"water_level\": 406.05}, {\"air_temperature\": 12.9, \"water_temperature\": 12.8, \"wind_gust_max_10min\": 3.6, \"wind_speed_avg_10min\": 1.8, \"wind_force_avg_10min\": 1.8, \"wind_direction\": 240.0, \"windchill\": 12.3, \"barometric_pressure_qfe\": 959.6, \"precipitation\": 0.0, \"dew_point\": 8.5, \"global_radiation\": 58.0, \"humidity\": 73.0, \"water_level\": 406.04}, {\"air_temperature\": 9.7, \"water_temperature\": 12.4, \"wind_gust_max_10min\": 4.4, \"wind_speed_avg_10min\": 2.0, \"wind_force_avg_10min\": 2.0, \"wind_direction\": 245.0, \"windchill\": 7.6, \"barometric_pressure_qfe\": 965.9, \"precipitation\": 0.0, \"dew_point\": 4.7, \"global_radiation\": 44.5, \"humidity\": 80.0, \"water_level\": 406.04}, {\"air_temperature\": 11.1, \"water_temperature\": 12.3, \"wind_gust_max_10min\": 3.4, \"wind_speed_avg_10min\": 1.6, \"wind_force_avg_10min\": 1.6, \"wind_direction\": 204.0, \"windchill\": 10.2, \"barometric_pressure_qfe\": 961.7, \"precipitation\": 0.0, \"dew_point\": 7.5, \"global_radiation\": 33.0, \"humidity\": 87.0, \"water_level\": 406.05}, {\"air_temperature\": 16.6, \"water_temperature\": 14.1, \"wind_gust_max_10min\": 3.8, \"wind_speed_avg_10min\": 2.0, \"wind_force_avg_10min\": 2.0, \"wind_direction\": 59.5, \"windchill\": 15.7, \"barometric_pressure_qfe\": 970.5, \"precipitation\": 0.0, \"dew_point\": 10.1, \"global_radiation\": 96.0, \"humidity\": 67.0, \"water_level\": 406.38}, {\"air_temperature\": 16.9, \"water_temperature\": 16.9, \"wind_gust_max_10min\": 2.4, \"wind_speed_avg_10min\": 1.3, \"wind_force_avg_10min\": 1.3, \"wind_direction\": 168.0, \"windchill\": 16.2, \"barometric_pressure_qfe\": 971.1, \"precipitation\": 0.0, \"dew_point\": 12.4, \"global_radiation\": 68.0, \"humidity\": 80.0, \"water_level\": 406.12}, {\"air_temperature\": 21.4, \"water_temperature\": 20.1, \"wind_gust_max_10min\": 2.6, \"wind_speed_avg_10min\": 1.5, \"wind_force_avg_10min\": 1.5, \"wind_direction\": 185.0, \"windchill\": 20.9, \"barometric_pressure_qfe\": 968.9, \"precipitation\": 0.0, \"dew_point\": 15.4, \"global_radiation\": 65.0, \"humidity\": 71.0, \"water_level\": 406.08}, {\"air_temperature\": 14.0, \"water_temperature\": 18.0, \"wind_gust_max_10min\": 3.3, \"wind_speed_avg_10min\": 1.7, \"wind_force_avg_10min\": 1.7, \"wind_direction\": 244.0, \"windchill\": 13.0, \"barometric_pressure_qfe\": 976.7, \"precipitation\": 0.0, \"dew_point\": 8.9, \"global_radiation\": 73.5, \"humidity\": 73.0, \"water_level\": 406.06}, {\"air_temperature\": 19.15, \"water_temperature\": 19.2, \"wind_gust_max_10min\": 0.0, \"wind_speed_avg_10min\": 0.0, \"wind_force_avg_10min\": 0.0, \"wind_direction\": 0.0, \"windchill\": 18.95, \"barometric_pressure_qfe\": 975.7, \"precipitation\": 0.0, \"dew_point\": 14.6, \"global_radiation\": 63.0, \"humidity\": 74.0, \"water_level\": 406.06}, {\"air_temperature\": 21.8, \"water_temperature\": 21.15, \"wind_gust_max_10min\": 3.7, \"wind_speed_avg_10min\": 2.0, \"wind_force_avg_10min\": 2.0, \"wind_direction\": 54.0, \"windchill\": 21.15, \"barometric_pressure_qfe\": 972.5, \"precipitation\": 0.0, \"dew_point\": 13.2, \"global_radiation\": 125.5, \"humidity\": 60.0, \"water_level\": 406.04}, {\"air_temperature\": 23.1, \"water_temperature\": 22.8, \"wind_gust_max_10min\": 3.2, \"wind_speed_avg_10min\": 1.7, \"wind_force_avg_10min\": 1.7, \"wind_direction\": 154.0, \"windchill\": 22.4, \"barometric_pressure_qfe\": 973.1, \"precipitation\": 0.0, \"dew_point\": 15.2, \"global_radiation\": 133.0, \"humidity\": 58.0, \"water_level\": 406.03}, {\"air_temperature\": 24.2, \"water_temperature\": 25.3, \"wind_gust_max_10min\": 2.3, \"wind_speed_avg_10min\": 1.4, \"wind_force_avg_10min\": 1.4, \"wind_direction\": 160.0, \"windchill\": 23.9, \"barometric_pressure_qfe\": 969.2, \"precipitation\": 0.0, \"dew_point\": 17.7, \"global_radiation\": 88.5, \"humidity\": 68.0, \"water_level\": 406.02}, {\"air_temperature\": 22.5, \"water_temperature\": 24.6, \"wind_gust_max_10min\": 2.4, \"wind_speed_avg_10min\": 1.3, \"wind_force_avg_10min\": 1.3, \"wind_direction\": 180.0, \"windchill\": 22.3, \"barometric_pressure_qfe\": 973.2, \"precipitation\": 0.0, \"dew_point\": 16.4, \"global_radiation\": 38.0, \"humidity\": 70.0, \"water_level\": 406.03}, {\"air_temperature\": 19.9, \"water_temperature\": 24.7, \"wind_gust_max_10min\": 2.8, \"wind_speed_avg_10min\": 1.6, \"wind_force_avg_10min\": 1.6, \"wind_direction\": 222.5, \"windchill\": 19.6, \"barometric_pressure_qfe\": 971.9, \"precipitation\": 0.0, \"dew_point\": 16.3, \"global_radiation\": 39.0, \"humidity\": 76.0, \"water_level\": 406.02}, {\"air_temperature\": 20.4, \"water_temperature\": 22.8, \"wind_gust_max_10min\": 3.2, \"wind_speed_avg_10min\": 1.7, \"wind_force_avg_10min\": 1.7, \"wind_direction\": 245.0, \"windchill\": 19.9, \"barometric_pressure_qfe\": 972.2, \"precipitation\": 0.0, \"dew_point\": 12.6, \"global_radiation\": 61.0, \"humidity\": 60.0, \"water_level\": 406.0}, {\"air_temperature\": 18.6, \"water_temperature\": 22.9, \"wind_gust_max_10min\": 3.5, \"wind_speed_avg_10min\": 1.8, \"wind_force_avg_10min\": 1.8, \"wind_direction\": 199.0, \"windchill\": 17.6, \"barometric_pressure_qfe\": 970.6, \"precipitation\": 0.0, \"dew_point\": 12.3, \"global_radiation\": 43.5, \"humidity\": 72.0, \"water_level\": 406.0}, {\"air_temperature\": 17.2, \"water_temperature\": 21.6, \"wind_gust_max_10min\": 2.4, \"wind_speed_avg_10min\": 1.3, \"wind_force_avg_10min\": 1.3, \"wind_direction\": 264.0, \"windchill\": 16.8, \"barometric_pressure_qfe\": 973.7, \"precipitation\": 0.0, \"dew_point\": 12.6, \"global_radiation\": 20.0, \"humidity\": 78.0, \"water_level\": 406.02}, {\"air_temperature\": 19.5, \"water_temperature\": 22.0, \"wind_gust_max_10min\": 2.2, \"wind_speed_avg_10min\": 1.3, \"wind_force_avg_10min\": 1.3, \"wind_direction\": 174.0, \"windchill\": 19.3, \"barometric_pressure_qfe\": 972.7, \"precipitation\": 0.0, \"dew_point\": 14.9, \"global_radiation\": 15.5, \"humidity\": 71.0, \"water_level\": 405.98}, {\"air_temperature\": 14.55, \"water_temperature\": 20.0, \"wind_gust_max_10min\": 3.95, \"wind_speed_avg_10min\": 1.9, \"wind_force_avg_10min\": 1.9, \"wind_direction\": 218.0, \"windchill\": 13.4, \"barometric_pressure_qfe\": 971.7, \"precipitation\": 0.0, \"dew_point\": 9.9, \"global_radiation\": 10.0, \"humidity\": 77.0, \"water_level\": 406.02}, {\"air_temperature\": 13.0, \"water_temperature\": 17.9, \"wind_gust_max_10min\": 3.7, \"wind_speed_avg_10min\": 1.7, \"wind_force_avg_10min\": 1.7, \"wind_direction\": 245.5, \"windchill\": 12.1, \"barometric_pressure_qfe\": 969.3, \"precipitation\": 0.0, \"dew_point\": 10.0, \"global_radiation\": 8.0, \"humidity\": 81.0, \"water_level\": 406.09}, {\"air_temperature\": 16.3, \"water_temperature\": 18.0, \"wind_gust_max_10min\": 2.5, \"wind_speed_avg_10min\": 1.5, \"wind_force_avg_10min\": 1.5, \"wind_direction\": 158.0, \"windchill\": 15.8, \"barometric_pressure_qfe\": 967.8, \"precipitation\": 0.0, \"dew_point\": 14.5, \"global_radiation\": 5.0, \"humidity\": 89.0, \"water_level\": 406.07}, {\"air_temperature\": 13.5, \"water_temperature\": 16.6, \"wind_gust_max_10min\": 2.9, \"wind_speed_avg_10min\": 1.6, \"wind_force_avg_10min\": 1.6, \"wind_direction\": 171.0, \"windchill\": 12.8, \"barometric_pressure_qfe\": 971.2, \"precipitation\": 0.0, \"dew_point\": 10.7, \"global_radiation\": 3.0, \"humidity\": 85.0, \"water_level\": 406.03}, {\"air_temperature\": 12.1, \"water_temperature\": 15.6, \"wind_gust_max_10min\": 2.7, \"wind_speed_avg_10min\": 1.5, \"wind_force_avg_10min\": 1.5, \"wind_direction\": 223.0, \"windchill\": 11.1, \"barometric_pressure_qfe\": 972.1, \"precipitation\": 0.0, \"dew_point\": 8.3, \"global_radiation\": 3.0, \"humidity\": 86.0, \"water_level\": 406.0}, {\"air_temperature\": 12.9, \"water_temperature\": 15.0, \"wind_gust_max_10min\": 2.7, \"wind_speed_avg_10min\": 1.5, \"wind_force_avg_10min\": 1.5, \"wind_direction\": 179.0, \"windchill\": 12.2, \"barometric_pressure_qfe\": 970.8, \"precipitation\": 0.0, \"dew_point\": 9.6, \"global_radiation\": 3.0, \"humidity\": 83.5, \"water_level\": 406.01}, {\"air_temperature\": 13.5, \"water_temperature\": 14.9, \"wind_gust_max_10min\": 2.2, \"wind_speed_avg_10min\": 1.2, \"wind_force_avg_10min\": 1.2, \"wind_direction\": 234.0, \"windchill\": 13.0, \"barometric_pressure_qfe\": 970.8, \"precipitation\": 0.0, \"dew_point\": 12.1, \"global_radiation\": 2.0, \"humidity\": 93.0, \"water_level\": 405.98}, {\"air_temperature\": 10.4, \"water_temperature\": 13.9, \"wind_gust_max_10min\": 3.2, \"wind_speed_avg_10min\": 1.7, \"wind_force_avg_10min\": 1.7, \"wind_direction\": 230.0, \"windchill\": 9.8, \"barometric_pressure_qfe\": 970.5, \"precipitation\": 0.0, \"dew_point\": 7.7, \"global_radiation\": 3.0, \"humidity\": 83.0, \"water_level\": 405.96}, {\"air_temperature\": 9.8, \"water_temperature\": 12.3, \"wind_gust_max_10min\": 5.7, \"wind_speed_avg_10min\": 2.7, \"wind_force_avg_10min\": 2.7, \"wind_direction\": 230.0, \"windchill\": 7.25, \"barometric_pressure_qfe\": 964.7, \"precipitation\": 0.0, \"dew_point\": 6.8, \"global_radiation\": 4.0, \"humidity\": 82.0, \"water_level\": 406.0}, {\"air_temperature\": 4.9, \"water_temperature\": 10.4, \"wind_gust_max_10min\": 3.5, \"wind_speed_avg_10min\": 2.0, \"wind_force_avg_10min\": 2.0, \"wind_direction\": 58.0, \"windchill\": 3.0, \"barometric_pressure_qfe\": 978.0, \"precipitation\": 0.0, \"dew_point\": 2.2, \"global_radiation\": 3.0, \"humidity\": 83.0, \"water_level\": 405.98}, {\"air_temperature\": 3.6, \"water_temperature\": 9.5, \"wind_gust_max_10min\": 2.4, \"wind_speed_avg_10min\": 1.3, \"wind_force_avg_10min\": 1.3, \"wind_direction\": 281.0, \"windchill\": 3.0, \"barometric_pressure_qfe\": 959.5, \"precipitation\": 0.0, \"dew_point\": 2.5, \"global_radiation\": 3.0, \"humidity\": 94.0, \"water_level\": 405.96}, {\"air_temperature\": 0.6, \"water_temperature\": 8.3, \"wind_gust_max_10min\": 3.1, \"wind_speed_avg_10min\": 1.8, \"wind_force_avg_10min\": 1.8, \"wind_direction\": 91.5, \"windchill\": -0.6, \"barometric_pressure_qfe\": 981.2, \"precipitation\": 0.0, \"dew_point\": -2.6, \"global_radiation\": 4.0, \"humidity\": 79.0, \"water_level\": 405.94}, {\"air_temperature\": 2.1, \"water_temperature\": 7.3, \"wind_gust_max_10min\": 2.4, \"wind_speed_avg_10min\": 1.4, \"wind_force_avg_10min\": 1.4, \"wind_direction\": 214.0, \"windchill\": -0.1, \"barometric_pressure_qfe\": 981.2, \"precipitation\": 0.0, \"dew_point\": -1.1, \"global_radiation\": 2.0, \"humidity\": 82.0, \"water_level\": 405.91}, {\"air_temperature\": -0.6, \"water_temperature\": 6.5, \"wind_gust_max_10min\": 1.9, \"wind_speed_avg_10min\": 1.2, \"wind_force_avg_10min\": 1.2, \"wind_direction\": 260.5, \"windchill\": -0.8, \"barometric_pressure_qfe\": 985.3, \"precipitation\": 0.0, \"dew_point\": -1.3, \"global_radiation\": 2.0, \"humidity\": 95.0, \"water_level\": 405.9}, {\"air_temperature\": 2.0, \"water_temperature\": 6.1, \"wind_gust_max_10min\": 2.0, \"wind_speed_avg_10min\": 1.2, \"wind_force_avg_10min\": 1.2, \"wind_direction\": 240.5, \"windchill\": 1.5, \"barometric_pressure_qfe\": 979.9, \"precipitation\": 0.0, \"dew_point\": 1.2, \"global_radiation\": 2.0, \"humidity\": 95.0, \"water_level\": 405.86}, {\"air_temperature\": 4.7, \"water_temperature\": 6.1, \"wind_gust_max_10min\": 2.6, \"wind_speed_avg_10min\": 1.4, \"wind_force_avg_10min\": 1.4, \"wind_direction\": 206.0, \"windchill\": 3.7, \"barometric_pressure_qfe\": 962.3, \"precipitation\": 0.0, \"dew_point\": 2.4, \"global_radiation\": 1.0, \"humidity\": 89.0, \"water_level\": 405.83}, {\"air_temperature\": 3.8, \"water_temperature\": 5.75, \"wind_gust_max_10min\": 2.4, \"wind_speed_avg_10min\": 1.4, \"wind_force_avg_10min\": 1.4, \"wind_direction\": 199.0, \"windchill\": 2.5, \"barometric_pressure_qfe\": 967.9, \"precipitation\": 0.0, \"dew_point\": 1.4, \"global_radiation\": 1.0, \"humidity\": 90.0, \"water_level\": 405.8}, {\"air_temperature\": 6.0, \"water_temperature\": 5.9, \"wind_gust_max_10min\": 2.4, \"wind_speed_avg_10min\": 1.6, \"wind_force_avg_10min\": 1.6, \"wind_direction\": 163.0, \"windchill\": 5.2, \"barometric_pressure_qfe\": 972.8, \"precipitation\": 0.0, \"dew_point\": 4.1, \"global_radiation\": 1.0, \"humidity\": 88.0, \"water_level\": 405.75}, {\"air_temperature\": 4.2, \"water_temperature\": 5.9, \"wind_gust_max_10min\": 2.3, \"wind_speed_avg_10min\": 1.4, \"wind_force_avg_10min\": 1.4, \"wind_direction\": 168.0, \"windchill\": 3.4, \"barometric_pressure_qfe\": 960.2, \"precipitation\": 0.0, \"dew_point\": 2.5, \"global_radiation\": 1.0, \"humidity\": 92.0, \"water_level\": 405.82}, {\"air_temperature\": 4.0, \"water_temperature\": 5.6, \"wind_gust_max_10min\": 2.7, \"wind_speed_avg_10min\": 1.3, \"wind_force_avg_10min\": 1.3, \"wind_direction\": 218.0, \"windchill\": 2.8, \"barometric_pressure_qfe\": 966.3, \"precipitation\": 0.0, \"dew_point\": 1.3, \"global_radiation\": 2.0, \"humidity\": 87.0, \"water_level\": 405.77}, {\"air_temperature\": 2.3, \"water_temperature\": 5.3, \"wind_gust_max_10min\": 2.3, \"wind_speed_avg_10min\": 1.3, \"wind_force_avg_10min\": 1.3, \"wind_direction\": 203.0, \"windchill\": 1.3, \"barometric_pressure_qfe\": 958.0, \"precipitation\": 0.0, \"dew_point\": -1.0, \"global_radiation\": 2.0, \"humidity\": 85.0, \"water_level\": 405.73}, {\"air_temperature\": 4.3, \"water_temperature\": 5.2, \"wind_gust_max_10min\": 2.7, \"wind_speed_avg_10min\": 1.5, \"wind_force_avg_10min\": 1.5, \"wind_direction\": 197.0, \"windchill\": 2.9, \"barometric_pressure_qfe\": 960.4, \"precipitation\": 0.0, \"dew_point\": 1.6, \"global_radiation\": 2.0, \"humidity\": 85.0, \"water_level\": 405.69}, {\"air_temperature\": 4.9, \"water_temperature\": 5.3, \"wind_gust_max_10min\": 3.7, \"wind_speed_avg_10min\": 2.0, \"wind_force_avg_10min\": 2.0, \"wind_direction\": 220.0, \"windchill\": 3.3, \"barometric_pressure_qfe\": 961.2, \"precipitation\": 0.0, \"dew_point\": 2.0, \"global_radiation\": 2.0, \"humidity\": 82.0, \"water_level\": 405.68}, {\"air_temperature\": 5.4, \"water_temperature\": 5.4, \"wind_gust_max_10min\": 2.2, \"wind_speed_avg_10min\": 1.3, \"wind_force_avg_10min\": 1.3, \"wind_direction\": 165.0, \"windchill\": 4.7, \"barometric_pressure_qfe\": 969.4, \"precipitation\": 0.0, \"dew_point\": 3.1, \"global_radiation\": 2.0, \"humidity\": 88.0, \"water_level\": 405.67}, {\"air_temperature\": 5.0, \"water_temperature\": 6.0, \"wind_gust_max_10min\": 2.3, \"wind_speed_avg_10min\": 1.4, \"wind_force_avg_10min\": 1.4, \"wind_direction\": 173.5, \"windchill\": 4.1, \"barometric_pressure_qfe\": 967.3, \"precipitation\": 0.0, \"dew_point\": 2.3, \"global_radiation\": 2.0, \"humidity\": 83.0, \"water_level\": 405.64}, {\"air_temperature\": 5.1, \"water_temperature\": 6.1, \"wind_gust_max_10min\": 2.2, \"wind_speed_avg_10min\": 1.3, \"wind_force_avg_10min\": 1.3, \"wind_direction\": 165.0, \"windchill\": 4.2, \"barometric_pressure_qfe\": 977.9, \"precipitation\": 0.0, \"dew_point\": 2.4, \"global_radiation\": 2.0, \"humidity\": 83.0, \"water_level\": 405.66}, {\"air_temperature\": 8.6, \"water_temperature\": 6.9, \"wind_gust_max_10min\": 1.8, \"wind_speed_avg_10min\": 1.0, \"wind_force_avg_10min\": 1.0, \"wind_direction\": 163.0, \"windchill\": 7.6, \"barometric_pressure_qfe\": 977.6, \"precipitation\": 0.0, \"dew_point\": 3.4, \"global_radiation\": 2.0, \"humidity\": 71.0, \"water_level\": 405.69}, {\"air_temperature\": 9.6, \"water_temperature\": 7.4, \"wind_gust_max_10min\": 2.7, \"wind_speed_avg_10min\": 1.7, \"wind_force_avg_10min\": 1.7, \"wind_direction\": 171.0, \"windchill\": 8.8, \"barometric_pressure_qfe\": 970.3499999999999, \"precipitation\": 0.0, \"dew_point\": 4.35, \"global_radiation\": 9.0, \"humidity\": 74.0, \"water_level\": 405.73}, {\"air_temperature\": 5.9, \"water_temperature\": 8.0, \"wind_gust_max_10min\": 1.9, \"wind_speed_avg_10min\": 1.1, \"wind_force_avg_10min\": 1.1, \"wind_direction\": 166.0, \"windchill\": 5.2, \"barometric_pressure_qfe\": 965.5, \"precipitation\": 0.0, \"dew_point\": 1.6, \"global_radiation\": 10.0, \"humidity\": 75.0, \"water_level\": 405.85}, {\"air_temperature\": 12.45, \"water_temperature\": 11.2, \"wind_gust_max_10min\": 1.6, \"wind_speed_avg_10min\": 1.0, \"wind_force_avg_10min\": 1.0, \"wind_direction\": 166.5, \"windchill\": 12.4, \"barometric_pressure_qfe\": 963.6, \"precipitation\": 0.0, \"dew_point\": 7.5, \"global_radiation\": 17.5, \"humidity\": 75.0, \"water_level\": 405.85}, {\"air_temperature\": 13.2, \"water_temperature\": 11.8, \"wind_gust_max_10min\": 2.9, \"wind_speed_avg_10min\": 1.5, \"wind_force_avg_10min\": 1.5, \"wind_direction\": 239.5, \"windchill\": 12.4, \"barometric_pressure_qfe\": 970.7, \"precipitation\": 0.0, \"dew_point\": 6.0, \"global_radiation\": 20.5, \"humidity\": 63.0, \"water_level\": 405.91}, {\"air_temperature\": 8.2, \"water_temperature\": 10.0, \"wind_gust_max_10min\": 3.9, \"wind_speed_avg_10min\": 2.1, \"wind_force_avg_10min\": 2.1, \"wind_direction\": 72.0, \"windchill\": 6.3, \"barometric_pressure_qfe\": 969.1, \"precipitation\": 0.0, \"dew_point\": 1.55, \"global_radiation\": 25.0, \"humidity\": 61.0, \"water_level\": 405.91}, {\"air_temperature\": 13.25, \"water_temperature\": 12.8, \"wind_gust_max_10min\": 2.5, \"wind_speed_avg_10min\": 1.2, \"wind_force_avg_10min\": 1.2, \"wind_direction\": 147.0, \"windchill\": 13.1, \"barometric_pressure_qfe\": 963.2, \"precipitation\": 0.0, \"dew_point\": 8.3, \"global_radiation\": 35.0, \"humidity\": 77.0, \"water_level\": 405.91}, {\"air_temperature\": 10.0, \"water_temperature\": 13.0, \"wind_gust_max_10min\": 2.6500000000000004, \"wind_speed_avg_10min\": 1.5, \"wind_force_avg_10min\": 1.5, \"wind_direction\": 157.5, \"windchill\": 9.3, \"barometric_pressure_qfe\": 965.2, \"precipitation\": 0.0, \"dew_point\": 8.3, \"global_radiation\": 18.0, \"humidity\": 89.0, \"water_level\": 405.97}, {\"air_temperature\": 14.6, \"water_temperature\": 13.5, \"wind_gust_max_10min\": 5.05, \"wind_speed_avg_10min\": 2.3, \"wind_force_avg_10min\": 2.3, \"wind_direction\": 230.0, \"windchill\": 13.05, \"barometric_pressure_qfe\": 968.1, \"precipitation\": 0.0, \"dew_point\": 8.6, \"global_radiation\": 46.0, \"humidity\": 70.0, \"water_level\": 405.97}, {\"air_temperature\": 9.8, \"water_temperature\": 12.1, \"wind_gust_max_10min\": 4.0, \"wind_speed_avg_10min\": 2.0, \"wind_force_avg_10min\": 2.0, \"wind_direction\": 172.5, \"windchill\": 8.2, \"barometric_pressure_qfe\": 972.0, \"precipitation\": 0.0, \"dew_point\": 5.4, \"global_radiation\": 48.0, \"humidity\": 72.0, \"water_level\": 406.0}, {\"air_temperature\": 17.5, \"water_temperature\": 16.8, \"wind_gust_max_10min\": 3.0, \"wind_speed_avg_10min\": 1.7, \"wind_force_avg_10min\": 1.7, \"wind_direction\": 167.0, \"windchill\": 16.4, \"barometric_pressure_qfe\": 964.9, \"precipitation\": 0.0, \"dew_point\": 9.4, \"global_radiation\": 65.0, \"humidity\": 59.0, \"water_level\": 405.98}, {\"air_temperature\": 14.5, \"water_temperature\": 16.4, \"wind_gust_max_10min\": 3.0, \"wind_speed_avg_10min\": 1.5, \"wind_force_avg_10min\": 1.5, \"wind_direction\": 228.0, \"windchill\": 14.0, \"barometric_pressure_qfe\": 968.2, \"precipitation\": 0.0, \"dew_point\": 9.649999999999999, \"global_radiation\": 71.0, \"humidity\": 75.0, \"water_level\": 406.0}, {\"air_temperature\": 17.9, \"water_temperature\": 17.7, \"wind_gust_max_10min\": 2.0, \"wind_speed_avg_10min\": 1.3, \"wind_force_avg_10min\": 1.3, \"wind_direction\": 163.0, \"windchill\": 17.4, \"barometric_pressure_qfe\": 968.6, \"precipitation\": 0.0, \"dew_point\": 11.1, \"global_radiation\": 93.5, \"humidity\": 69.0, \"water_level\": 405.99}, {\"air_temperature\": 21.4, \"water_temperature\": 22.4, \"wind_gust_max_10min\": 4.1, \"wind_speed_avg_10min\": 2.3, \"wind_force_avg_10min\": 2.3, \"wind_direction\": 142.0, \"windchill\": 20.75, \"barometric_pressure_qfe\": 970.7, \"precipitation\": 0.0, \"dew_point\": 15.3, \"global_radiation\": 119.5, \"humidity\": 61.0, \"water_level\": 405.99}, {\"air_temperature\": 19.1, \"water_temperature\": 20.3, \"wind_gust_max_10min\": 4.3, \"wind_speed_avg_10min\": 2.2, \"wind_force_avg_10min\": 2.2, \"wind_direction\": 152.5, \"windchill\": 17.5, \"barometric_pressure_qfe\": 969.2, \"precipitation\": 0.0, \"dew_point\": 9.3, \"global_radiation\": 132.0, \"humidity\": 56.0, \"water_level\": 405.97}, {\"air_temperature\": 18.1, \"water_temperature\": 21.5, \"wind_gust_max_10min\": 3.2, \"wind_speed_avg_10min\": 1.7, \"wind_force_avg_10min\": 1.7, \"wind_direction\": 194.0, \"windchill\": 17.65, \"barometric_pressure_qfe\": 966.4, \"precipitation\": 0.0, \"dew_point\": 13.1, \"global_radiation\": 56.0, \"humidity\": 69.5, \"water_level\": 405.99}, {\"air_temperature\": 17.5, \"water_temperature\": 21.1, \"wind_gust_max_10min\": 2.6, \"wind_speed_avg_10min\": 1.5, \"wind_force_avg_10min\": 1.5, \"wind_direction\": 184.5, \"windchill\": 16.9, \"barometric_pressure_qfe\": 969.0, \"precipitation\": 0.0, \"dew_point\": 14.0, \"global_radiation\": 68.0, \"humidity\": 80.0, \"water_level\": 406.02}, {\"air_temperature\": 15.7, \"water_temperature\": 19.6, \"wind_gust_max_10min\": 3.3, \"wind_speed_avg_10min\": 1.7, \"wind_force_avg_10min\": 1.7, \"wind_direction\": 219.0, \"windchill\": 15.4, \"barometric_pressure_qfe\": 965.45, \"precipitation\": 0.0, \"dew_point\": 14.7, \"global_radiation\": 38.0, \"humidity\": 87.0, \"water_level\": 406.11}, {\"air_temperature\": 21.8, \"water_temperature\": 21.8, \"wind_gust_max_10min\": 0.3, \"wind_speed_avg_10min\": 0.1, \"wind_force_avg_10min\": 0.1, \"wind_direction\": 128.0, \"windchill\": 21.4, \"barometric_pressure_qfe\": 971.5, \"precipitation\": 0.0, \"dew_point\": 14.8, \"global_radiation\": 107.5, \"humidity\": 68.0, \"water_level\": 406.07}, {\"air_temperature\": 18.7, \"water_temperature\": 21.7, \"wind_gust_max_10min\": 2.6, \"wind_speed_avg_10min\": 1.4, \"wind_force_avg_10min\": 1.4, \"wind_direction\": 189.0, \"windchill\": 18.4, \"barometric_pressure_qfe\": 966.2, \"precipitation\": 0.0, \"dew_point\": 15.8, \"global_radiation\": 48.0, \"humidity\": 83.0, \"water_level\": 406.1}, {\"air_temperature\": 18.8, \"water_temperature\": 21.7, \"wind_gust_max_10min\": 2.5, \"wind_speed_avg_10min\": 1.3, \"wind_force_avg_10min\": 1.3, \"wind_direction\": 193.0, \"windchill\": 18.5, \"barometric_pressure_qfe\": 964.2, \"precipitation\": 0.0, \"dew_point\": 16.0, \"global_radiation\": 40.0, \"humidity\": 85.0, \"water_level\": 406.11}, {\"air_temperature\": 21.2, \"water_temperature\": 22.4, \"wind_gust_max_10min\": 2.6, \"wind_speed_avg_10min\": 1.5, \"wind_force_avg_10min\": 1.5, \"wind_direction\": 198.0, \"windchill\": 20.5, \"barometric_pressure_qfe\": 968.3, \"precipitation\": 0.0, \"dew_point\": 15.7, \"global_radiation\": 47.5, \"humidity\": 74.0, \"water_level\": 406.07}, {\"air_temperature\": 16.1, \"water_temperature\": 20.8, \"wind_gust_max_10min\": 3.1, \"wind_speed_avg_10min\": 1.5, \"wind_force_avg_10min\": 1.5, \"wind_direction\": 225.0, \"windchill\": 15.6, \"barometric_pressure_qfe\": 968.05, \"precipitation\": 0.0, \"dew_point\": 11.3, \"global_radiation\": 24.0, \"humidity\": 78.0, \"water_level\": 406.07}, {\"air_temperature\": 16.2, \"water_temperature\": 19.6, \"wind_gust_max_10min\": 2.5, \"wind_speed_avg_10min\": 1.4, \"wind_force_avg_10min\": 1.4, \"wind_direction\": 236.5, \"windchill\": 16.0, \"barometric_pressure_qfe\": 968.5, \"precipitation\": 0.0, \"dew_point\": 10.1, \"global_radiation\": 41.0, \"humidity\": 68.0, \"water_level\": 406.04}, {\"air_temperature\": 17.3, \"water_temperature\": 19.7, \"wind_gust_max_10min\": 2.45, \"wind_speed_avg_10min\": 1.4, \"wind_force_avg_10min\": 1.4, \"wind_direction\": 210.0, \"windchill\": 16.7, \"barometric_pressure_qfe\": 969.8, \"precipitation\": 0.0, \"dew_point\": 14.0, \"global_radiation\": 17.0, \"humidity\": 85.0, \"water_level\": 406.06}, {\"air_temperature\": 17.3, \"water_temperature\": 19.4, \"wind_gust_max_10min\": 2.0, \"wind_speed_avg_10min\": 1.1, \"wind_force_avg_10min\": 1.1, \"wind_direction\": 112.5, \"windchill\": 16.5, \"barometric_pressure_qfe\": 968.3, \"precipitation\": 0.0, \"dew_point\": 14.0, \"global_radiation\": 20.0, \"humidity\": 79.0, \"water_level\": 406.08}, {\"air_temperature\": 16.7, \"water_temperature\": 20.4, \"wind_gust_max_10min\": 2.6, \"wind_speed_avg_10min\": 1.3, \"wind_force_avg_10min\": 1.3, \"wind_direction\": 169.0, \"windchill\": 16.0, \"barometric_pressure_qfe\": 968.9, \"precipitation\": 0.0, \"dew_point\": 13.1, \"global_radiation\": 9.0, \"humidity\": 82.0, \"water_level\": 406.05}, {\"air_temperature\": 17.95, \"water_temperature\": 19.7, \"wind_gust_max_10min\": 2.1, \"wind_speed_avg_10min\": 1.2, \"wind_force_avg_10min\": 1.2, \"wind_direction\": 187.0, \"windchill\": 17.7, \"barometric_pressure_qfe\": 967.3, \"precipitation\": 0.0, \"dew_point\": 15.2, \"global_radiation\": 4.0, \"humidity\": 86.0, \"water_level\": 406.02}, {\"air_temperature\": 13.4, \"water_temperature\": 18.5, \"wind_gust_max_10min\": 2.45, \"wind_speed_avg_10min\": 1.4, \"wind_force_avg_10min\": 1.4, \"wind_direction\": 239.0, \"windchill\": 12.9, \"barometric_pressure_qfe\": 973.7, \"precipitation\": 0.0, \"dew_point\": 10.4, \"global_radiation\": 3.0, \"humidity\": 82.0, \"water_level\": 406.07}, {\"air_temperature\": 15.9, \"water_temperature\": 18.6, \"wind_gust_max_10min\": 2.1, \"wind_speed_avg_10min\": 1.3, \"wind_force_avg_10min\": 1.3, \"wind_direction\": 164.0, \"windchill\": 15.6, \"barometric_pressure_qfe\": 977.4, \"precipitation\": 0.0, \"dew_point\": 13.5, \"global_radiation\": 0.0, \"humidity\": 88.0, \"water_level\": 406.02}, {\"air_temperature\": 16.0, \"water_temperature\": 18.1, \"wind_gust_max_10min\": 1.9, \"wind_speed_avg_10min\": 1.0, \"wind_force_avg_10min\": 1.0, \"wind_direction\": 199.5, \"windchill\": 15.8, \"barometric_pressure_qfe\": 965.1, \"precipitation\": 0.0, \"dew_point\": 13.649999999999999, \"global_radiation\": 0.0, \"humidity\": 89.0, \"water_level\": 405.98}, {\"air_temperature\": 15.0, \"water_temperature\": 17.6, \"wind_gust_max_10min\": 2.3, \"wind_speed_avg_10min\": 1.3, \"wind_force_avg_10min\": 1.3, \"wind_direction\": 180.0, \"windchill\": 14.3, \"barometric_pressure_qfe\": 964.0, \"precipitation\": 0.0, \"dew_point\": 13.1, \"global_radiation\": 0.0, \"humidity\": 90.0, \"water_level\": 405.96}, {\"air_temperature\": 10.4, \"water_temperature\": 14.3, \"wind_gust_max_10min\": 2.9, \"wind_speed_avg_10min\": 1.6, \"wind_force_avg_10min\": 1.6, \"wind_direction\": 218.0, \"windchill\": 9.8, \"barometric_pressure_qfe\": 973.8, \"precipitation\": 0.0, \"dew_point\": 7.6, \"global_radiation\": 2.0, \"humidity\": 84.0, \"water_level\": 405.99}, {\"air_temperature\": 9.5, \"water_temperature\": 14.1, \"wind_gust_max_10min\": 1.7, \"wind_speed_avg_10min\": 1.1, \"wind_force_avg_10min\": 1.1, \"wind_direction\": 198.0, \"windchill\": 9.1, \"barometric_pressure_qfe\": 974.5, \"precipitation\": 0.0, \"dew_point\": 8.0, \"global_radiation\": 0.0, \"humidity\": 90.0, \"water_level\": 406.0}, {\"air_temperature\": 7.3, \"water_temperature\": 13.0, \"wind_gust_max_10min\": 2.8, \"wind_speed_avg_10min\": 1.6, \"wind_force_avg_10min\": 1.6, \"wind_direction\": 216.5, \"windchill\": 6.3, \"barometric_pressure_qfe\": 962.3, \"precipitation\": 0.0, \"dew_point\": 5.9, \"global_radiation\": 1.0, \"humidity\": 88.0, \"water_level\": 405.97}, {\"air_temperature\": 8.5, \"water_temperature\": 12.3, \"wind_gust_max_10min\": 2.2, \"wind_speed_avg_10min\": 1.3, \"wind_force_avg_10min\": 1.3, \"wind_direction\": 186.0, \"windchill\": 8.3, \"barometric_pressure_qfe\": 959.5, \"precipitation\": 0.0, \"dew_point\": 7.2, \"global_radiation\": 1.0, \"humidity\": 93.0, \"water_level\": 405.98}, {\"air_temperature\": 7.1, \"water_temperature\": 11.7, \"wind_gust_max_10min\": 2.1, \"wind_speed_avg_10min\": 1.1, \"wind_force_avg_10min\": 1.1, \"wind_direction\": 251.0, \"windchill\": 6.9, \"barometric_pressure_qfe\": 972.6, \"precipitation\": 0.0, \"dew_point\": 5.6, \"global_radiation\": 1.0, \"humidity\": 91.0, \"water_level\": 406.0}, {\"air_temperature\": 7.55, \"water_temperature\": 11.1, \"wind_gust_max_10min\": 3.2, \"wind_speed_avg_10min\": 1.9, \"wind_force_avg_10min\": 1.9, \"wind_direction\": 50.0, \"windchill\": 6.2, \"barometric_pressure_qfe\": 964.3, \"precipitation\": 0.0, \"dew_point\": 6.9, \"global_radiation\": 2.0, \"humidity\": 94.0, \"water_level\": 405.96}, {\"air_temperature\": 4.2, \"water_temperature\": 9.7, \"wind_gust_max_10min\": 3.1, \"wind_speed_avg_10min\": 1.7, \"wind_force_avg_10min\": 1.7, \"wind_direction\": 221.0, \"windchill\": 3.45, \"barometric_pressure_qfe\": 966.0, \"precipitation\": 0.0, \"dew_point\": 2.9, \"global_radiation\": 2.0, \"humidity\": 91.0, \"water_level\": 405.93}, {\"air_temperature\": 5.7, \"water_temperature\": 8.6, \"wind_gust_max_10min\": 3.6, \"wind_speed_avg_10min\": 1.9, \"wind_force_avg_10min\": 1.9, \"wind_direction\": 196.0, \"windchill\": 3.6, \"barometric_pressure_qfe\": 971.1, \"precipitation\": 0.0, \"dew_point\": 1.7, \"global_radiation\": 2.0, \"humidity\": 79.0, \"water_level\": 405.91}, {\"air_temperature\": 7.7, \"water_temperature\": 8.4, \"wind_gust_max_10min\": 4.1, \"wind_speed_avg_10min\": 1.9, \"wind_force_avg_10min\": 1.9, \"wind_direction\": 224.0, \"windchill\": 6.2, \"barometric_pressure_qfe\": 972.0, \"precipitation\": 0.0, \"dew_point\": 5.5, \"global_radiation\": 1.0, \"humidity\": 85.0, \"water_level\": 405.91}, {\"air_temperature\": 2.6, \"water_temperature\": 7.7, \"wind_gust_max_10min\": 3.1, \"wind_speed_avg_10min\": 1.6, \"wind_force_avg_10min\": 1.6, \"wind_direction\": 197.0, \"windchill\": 1.5, \"barometric_pressure_qfe\": 977.3, \"precipitation\": 0.0, \"dew_point\": 0.4, \"global_radiation\": 2.0, \"humidity\": 86.0, \"water_level\": 405.85}, {\"air_temperature\": -0.35, \"water_temperature\": 6.4, \"wind_gust_max_10min\": 2.4, \"wind_speed_avg_10min\": 1.4, \"wind_force_avg_10min\": 1.4, \"wind_direction\": 250.0, \"windchill\": -0.8, \"barometric_pressure_qfe\": 985.6, \"precipitation\": 0.0, \"dew_point\": -1.4, \"global_radiation\": 2.0, \"humidity\": 92.0, \"water_level\": 405.85}, {\"air_temperature\": 4.4, \"water_temperature\": 6.4, \"wind_gust_max_10min\": 4.95, \"wind_speed_avg_10min\": 1.9, \"wind_force_avg_10min\": 1.9, \"wind_direction\": 256.0, \"windchill\": 1.7, \"barometric_pressure_qfe\": 980.9, \"precipitation\": 0.0, \"dew_point\": 0.5, \"global_radiation\": 0.0, \"humidity\": 78.0, \"water_level\": 405.89}, {\"air_temperature\": 4.0, \"water_temperature\": 6.0, \"wind_gust_max_10min\": 3.1, \"wind_speed_avg_10min\": 1.7, \"wind_force_avg_10min\": 1.7, \"wind_direction\": 182.0, \"windchill\": 2.5, \"barometric_pressure_qfe\": 968.1, \"precipitation\": 0.0, \"dew_point\": 1.3, \"global_radiation\": 1.0, \"humidity\": 83.0, \"water_level\": 405.91}, {\"air_temperature\": 1.6, \"water_temperature\": 5.9, \"wind_gust_max_10min\": 2.6, \"wind_speed_avg_10min\": 1.5, \"wind_force_avg_10min\": 1.5, \"wind_direction\": 202.0, \"windchill\": 1.0, \"barometric_pressure_qfe\": 964.45, \"precipitation\": 0.0, \"dew_point\": -0.8, \"global_radiation\": 1.0, \"humidity\": 86.0, \"water_level\": 405.83}, {\"air_temperature\": 1.7, \"water_temperature\": 5.4, \"wind_gust_max_10min\": 4.6, \"wind_speed_avg_10min\": 2.1, \"wind_force_avg_10min\": 2.1, \"wind_direction\": 215.0, \"windchill\": -0.5, \"barometric_pressure_qfe\": 951.4, \"precipitation\": 0.0, \"dew_point\": -1.1, \"global_radiation\": 2.0, \"humidity\": 84.0, \"water_level\": 405.79}, {\"air_temperature\": -1.6, \"water_temperature\": 4.9, \"wind_gust_max_10min\": 6.0, \"wind_speed_avg_10min\": 3.1, \"wind_force_avg_10min\": 3.1, \"wind_direction\": 48.0, \"windchill\": -6.1, \"barometric_pressure_qfe\": 962.7, \"precipitation\": 0.0, \"dew_point\": -4.7, \"global_radiation\": 2.0, \"humidity\": 80.0, \"water_level\": 405.73}, {\"air_temperature\": -0.4, \"water_temperature\": 4.7, \"wind_gust_max_10min\": 2.1, \"wind_speed_avg_10min\": 1.3, \"wind_force_avg_10min\": 1.3, \"wind_direction\": 188.0, \"windchill\": -1.0, \"barometric_pressure_qfe\": 974.5, \"precipitation\": 0.0, \"dew_point\": -1.6, \"global_radiation\": 2.0, \"humidity\": 91.0, \"water_level\": 405.7}, {\"air_temperature\": 1.0, \"water_temperature\": 4.9, \"wind_gust_max_10min\": 2.7, \"wind_speed_avg_10min\": 1.6, \"wind_force_avg_10min\": 1.6, \"wind_direction\": 157.0, \"windchill\": 0.4, \"barometric_pressure_qfe\": 972.3499999999999, \"precipitation\": 0.0, \"dew_point\": -0.9, \"global_radiation\": 2.0, \"humidity\": 86.0, \"water_level\": 405.68}, {\"air_temperature\": 3.1, \"water_temperature\": 4.9, \"wind_gust_max_10min\": 2.9, \"wind_speed_avg_10min\": 1.7, \"wind_force_avg_10min\": 1.7, \"wind_direction\": 175.0, \"windchill\": 2.3, \"barometric_pressure_qfe\": 967.0, \"precipitation\": 0.0, \"dew_point\": 0.5, \"global_radiation\": 2.0, \"humidity\": 85.0, \"water_level\": 405.7}, {\"air_temperature\": 4.7, \"water_temperature\": 5.1, \"wind_gust_max_10min\": 3.2, \"wind_speed_avg_10min\": 1.8, \"wind_force_avg_10min\": 1.8, \"wind_direction\": 190.0, \"windchill\": 2.4, \"barometric_pressure_qfe\": 978.6, \"precipitation\": 0.0, \"dew_point\": 0.1, \"global_radiation\": 2.0, \"humidity\": 75.0, \"water_level\": 405.76}, {\"air_temperature\": 6.3, \"water_temperature\": 6.2, \"wind_gust_max_10min\": 3.4, \"wind_speed_avg_10min\": 1.8, \"wind_force_avg_10min\": 1.8, \"wind_direction\": 152.0, \"windchill\": 3.9, \"barometric_pressure_qfe\": 975.3, \"precipitation\": 0.0, \"dew_point\": 0.45, \"global_radiation\": 0.0, \"humidity\": 68.0, \"water_level\": 405.74}, {\"air_temperature\": 7.6, \"water_temperature\": 6.7, \"wind_gust_max_10min\": 2.7, \"wind_speed_avg_10min\": 1.5, \"wind_force_avg_10min\": 1.5, \"wind_direction\": 153.0, \"windchill\": 7.1, \"barometric_pressure_qfe\": 972.4, \"precipitation\": 0.0, \"dew_point\": 3.2, \"global_radiation\": 2.0, \"humidity\": 76.0, \"water_level\": 405.78}, {\"air_temperature\": 7.5, \"water_temperature\": 6.6, \"wind_gust_max_10min\": 2.8, \"wind_speed_avg_10min\": 1.4, \"wind_force_avg_10min\": 1.4, \"wind_direction\": 214.0, \"windchill\": 6.4, \"barometric_pressure_qfe\": 964.1, \"precipitation\": 0.0, \"dew_point\": 3.7, \"global_radiation\": 4.0, \"humidity\": 78.0, \"water_level\": 405.84}, {\"air_temperature\": 6.15, \"water_temperature\": 5.35, \"wind_gust_max_10min\": 7.1, \"wind_speed_avg_10min\": 3.3, \"wind_force_avg_10min\": 3.3, \"wind_direction\": 221.0, \"windchill\": 3.0, \"barometric_pressure_qfe\": 968.9, \"precipitation\": 0.0, \"dew_point\": 2.7, \"global_radiation\": 8.0, \"humidity\": 76.0, \"water_level\": 406.0}, {\"air_temperature\": 9.4, \"water_temperature\": 7.6, \"wind_gust_max_10min\": 2.6, \"wind_speed_avg_10min\": 1.7, \"wind_force_avg_10min\": 1.7, \"wind_direction\": 164.0, \"windchill\": 8.6, \"barometric_pressure_qfe\": 979.4, \"precipitation\": 0.0, \"dew_point\": 1.3, \"global_radiation\": 27.5, \"humidity\": 61.5, \"water_level\": 405.96}, {\"air_temperature\": 12.5, \"water_temperature\": 10.3, \"wind_gust_max_10min\": 3.2, \"wind_speed_avg_10min\": 2.0, \"wind_force_avg_10min\": 2.0, \"wind_direction\": 160.5, \"windchill\": 11.1, \"barometric_pressure_qfe\": 971.1, \"precipitation\": 0.0, \"dew_point\": 5.6, \"global_radiation\": 31.0, \"humidity\": 66.0, \"water_level\": 405.95}, {\"air_temperature\": 13.4, \"water_temperature\": 11.6, \"wind_gust_max_10min\": 3.2, \"wind_speed_avg_10min\": 1.8, \"wind_force_avg_10min\": 1.8, \"wind_direction\": 166.0, \"windchill\": 12.3, \"barometric_pressure_qfe\": 968.7, \"precipitation\": 0.0, \"dew_point\": 3.7, \"global_radiation\": 68.5, \"humidity\": 57.0, \"water_level\": 405.96}, {\"air_temperature\": 12.5, \"water_temperature\": 12.4, \"wind_gust_max_10min\": 4.1, \"wind_speed_avg_10min\": 2.3, \"wind_force_avg_10min\": 2.3, \"wind_direction\": 187.0, \"windchill\": 11.1, \"barometric_pressure_qfe\": 963.6, \"precipitation\": 0.0, \"dew_point\": 10.3, \"global_radiation\": 25.0, \"humidity\": 89.0, \"water_level\": 406.01}, {\"air_temperature\": 15.2, \"water_temperature\": 14.3, \"wind_gust_max_10min\": 3.1, \"wind_speed_avg_10min\": 1.8, \"wind_force_avg_10min\": 1.8, \"wind_direction\": 175.0, \"windchill\": 14.4, \"barometric_pressure_qfe\": 969.6, \"precipitation\": 0.0, \"dew_point\": 10.5, \"global_radiation\": 42.0, \"humidity\": 75.0, \"water_level\": 406.17}, {\"air_temperature\": 18.3, \"water_temperature\": 15.6, \"wind_gust_max_10min\": 3.0, \"wind_speed_avg_10min\": 1.7, \"wind_force_avg_10min\": 1.7, \"wind_direction\": 239.0, \"windchill\": 17.2, \"barometric_pressure_qfe\": 972.9, \"precipitation\": 0.0, \"dew_point\": 10.0, \"global_radiation\": 44.0, \"humidity\": 66.0, \"water_level\": 406.06}, {\"air_temperature\": 12.7, \"water_temperature\": 15.4, \"wind_gust_max_10min\": 3.4, \"wind_speed_avg_10min\": 2.1, \"wind_force_avg_10min\": 2.1, \"wind_direction\": 180.5, \"windchill\": 10.9, \"barometric_pressure_qfe\": 969.5, \"precipitation\": 0.0, \"dew_point\": 7.5, \"global_radiation\": 45.5, \"humidity\": 74.0, \"water_level\": 406.06}, {\"air_temperature\": 15.1, \"water_temperature\": 16.1, \"wind_gust_max_10min\": 2.9, \"wind_speed_avg_10min\": 1.8, \"wind_force_avg_10min\": 1.8, \"wind_direction\": 203.0, \"windchill\": 14.5, \"barometric_pressure_qfe\": 968.5, \"precipitation\": 0.0, \"dew_point\": 9.3, \"global_radiation\": 65.0, \"humidity\": 69.0, \"water_level\": 406.04}, {\"air_temperature\": 22.3, \"water_temperature\": 19.0, \"wind_gust_max_10min\": 3.3, \"wind_speed_avg_10min\": 1.9, \"wind_force_avg_10min\": 1.9, \"wind_direction\": 169.5, \"windchill\": 21.7, \"barometric_pressure_qfe\": 973.7, \"precipitation\": 0.0, \"dew_point\": 15.1, \"global_radiation\": 122.0, \"humidity\": 65.0, \"water_level\": 406.02}, {\"air_temperature\": 18.3, \"water_temperature\": 20.5, \"wind_gust_max_10min\": 4.2, \"wind_speed_avg_10min\": 2.2, \"wind_force_avg_10min\": 2.2, \"wind_direction\": 126.0, \"windchill\": 17.4, \"barometric_pressure_qfe\": 969.05, \"precipitation\": 0.0, \"dew_point\": 14.4, \"global_radiation\": 55.0, \"humidity\": 78.0, \"water_level\": 406.02}, {\"air_temperature\": 16.5, \"water_temperature\": 19.6, \"wind_gust_max_10min\": 3.9, \"wind_speed_avg_10min\": 2.2, \"wind_force_avg_10min\": 2.2, \"wind_direction\": 232.0, \"windchill\": 15.4, \"barometric_pressure_qfe\": 970.8, \"precipitation\": 0.0, \"dew_point\": 12.0, \"global_radiation\": 46.0, \"humidity\": 79.0, \"water_level\": 406.05}, {\"air_temperature\": 19.0, \"water_temperature\": 19.3, \"wind_gust_max_10min\": 3.4, \"wind_speed_avg_10min\": 1.8, \"wind_force_avg_10min\": 1.8, \"wind_direction\": 236.0, \"windchill\": 18.2, \"barometric_pressure_qfe\": 972.2, \"precipitation\": 0.0, \"dew_point\": 11.2, \"global_radiation\": 106.0, \"humidity\": 63.0, \"water_level\": 406.08}, {\"air_temperature\": 26.8, \"water_temperature\": 24.0, \"wind_gust_max_10min\": 1.9, \"wind_speed_avg_10min\": 1.2, \"wind_force_avg_10min\": 1.2, \"wind_direction\": 155.0, \"windchill\": 26.7, \"barometric_pressure_qfe\": 972.8, \"precipitation\": 0.0, \"dew_point\": 17.6, \"global_radiation\": 118.0, \"humidity\": 62.0, \"water_level\": 406.03}, {\"air_temperature\": 22.8, \"water_temperature\": 23.2, \"wind_gust_max_10min\": 4.5, \"wind_speed_avg_10min\": 2.4, \"wind_force_avg_10min\": 2.4, \"wind_direction\": 258.0, \"windchill\": 22.5, \"barometric_pressure_qfe\": 970.7, \"precipitation\": 0.0, \"dew_point\": 12.4, \"global_radiation\": 81.0, \"humidity\": 55.0, \"water_level\": 406.01}, {\"air_temperature\": 24.5, \"water_temperature\": 24.5, \"wind_gust_max_10min\": 3.2, \"wind_speed_avg_10min\": 1.8, \"wind_force_avg_10min\": 1.8, \"wind_direction\": 180.0, \"windchill\": 24.0, \"barometric_pressure_qfe\": 970.4, \"precipitation\": 0.0, \"dew_point\": 15.4, \"global_radiation\": 79.0, \"humidity\": 58.0, \"water_level\": 405.98}, {\"air_temperature\": 22.2, \"water_temperature\": 26.0, \"wind_gust_max_10min\": 3.3, \"wind_speed_avg_10min\": 2.0, \"wind_force_avg_10min\": 2.0, \"wind_direction\": 182.0, \"windchill\": 21.8, \"barometric_pressure_qfe\": 967.5, \"precipitation\": 0.0, \"dew_point\": 17.1, \"global_radiation\": 41.5, \"humidity\": 65.0, \"water_level\": 405.97}, {\"air_temperature\": 18.7, \"water_temperature\": 22.0, \"wind_gust_max_10min\": 3.75, \"wind_speed_avg_10min\": 2.1, \"wind_force_avg_10min\": 2.1, \"wind_direction\": 263.0, \"windchill\": 17.9, \"barometric_pressure_qfe\": 967.0, \"precipitation\": 0.0, \"dew_point\": 11.6, \"global_radiation\": 58.0, \"humidity\": 65.0, \"water_level\": 405.96}, {\"air_temperature\": 24.8, \"water_temperature\": 23.8, \"wind_gust_max_10min\": 2.6500000000000004, \"wind_speed_avg_10min\": 1.7, \"wind_force_avg_10min\": 1.7, \"wind_direction\": 177.0, \"windchill\": 24.6, \"barometric_pressure_qfe\": 969.3, \"precipitation\": 0.0, \"dew_point\": 17.1, \"global_radiation\": 55.0, \"humidity\": 63.0, \"water_level\": 405.93}, {\"air_temperature\": 21.0, \"water_temperature\": 24.3, \"wind_gust_max_10min\": 2.8, \"wind_speed_avg_10min\": 1.6, \"wind_force_avg_10min\": 1.6, \"wind_direction\": 226.0, \"windchill\": 20.8, \"barometric_pressure_qfe\": 966.6, \"precipitation\": 0.0, \"dew_point\": 16.5, \"global_radiation\": 33.5, \"humidity\": 78.0, \"water_level\": 405.89}, {\"air_temperature\": 17.5, \"water_temperature\": 22.6, \"wind_gust_max_10min\": 2.8, \"wind_speed_avg_10min\": 1.7, \"wind_force_avg_10min\": 1.7, \"wind_direction\": 271.5, \"windchill\": 17.2, \"barometric_pressure_qfe\": 969.7, \"precipitation\": 0.0, \"dew_point\": 12.6, \"global_radiation\": 27.0, \"humidity\": 75.0, \"water_level\": 405.92}, {\"air_temperature\": 21.9, \"water_temperature\": 22.75, \"wind_gust_max_10min\": 2.9, \"wind_speed_avg_10min\": 1.8, \"wind_force_avg_10min\": 1.8, \"wind_direction\": 179.5, \"windchill\": 21.15, \"barometric_pressure_qfe\": 970.5, \"precipitation\": 0.0, \"dew_point\": 15.2, \"global_radiation\": 27.0, \"humidity\": 70.0, \"water_level\": 405.95}, {\"air_temperature\": 17.1, \"water_temperature\": 23.0, \"wind_gust_max_10min\": 3.6, \"wind_speed_avg_10min\": 2.1, \"wind_force_avg_10min\": 2.1, \"wind_direction\": 240.0, \"windchill\": 16.0, \"barometric_pressure_qfe\": 968.7, \"precipitation\": 0.0, \"dew_point\": 12.45, \"global_radiation\": 15.0, \"humidity\": 72.0, \"water_level\": 405.97}, {\"air_temperature\": 16.2, \"water_temperature\": 20.4, \"wind_gust_max_10min\": 3.8, \"wind_speed_avg_10min\": 2.2, \"wind_force_avg_10min\": 2.2, \"wind_direction\": 160.0, \"windchill\": 14.4, \"barometric_pressure_qfe\": 969.9, \"precipitation\": 0.0, \"dew_point\": 9.0, \"global_radiation\": 15.5, \"humidity\": 72.0, \"water_level\": 405.89}, {\"air_temperature\": 15.0, \"water_temperature\": 19.6, \"wind_gust_max_10min\": 3.2, \"wind_speed_avg_10min\": 1.9, \"wind_force_avg_10min\": 1.9, \"wind_direction\": 177.0, \"windchill\": 14.4, \"barometric_pressure_qfe\": 964.3, \"precipitation\": 0.0, \"dew_point\": 10.9, \"global_radiation\": 7.0, \"humidity\": 78.0, \"water_level\": 405.85}, {\"air_temperature\": 12.6, \"water_temperature\": 18.3, \"wind_gust_max_10min\": 3.8, \"wind_speed_avg_10min\": 2.2, \"wind_force_avg_10min\": 2.2, \"wind_direction\": 142.5, \"windchill\": 11.1, \"barometric_pressure_qfe\": 972.6, \"precipitation\": 0.0, \"dew_point\": 8.8, \"global_radiation\": 3.0, \"humidity\": 80.0, \"water_level\": 405.92}, {\"air_temperature\": 12.25, \"water_temperature\": 16.7, \"wind_gust_max_10min\": 4.1, \"wind_speed_avg_10min\": 2.1, \"wind_force_avg_10min\": 2.1, \"wind_direction\": 73.5, \"windchill\": 10.0, \"barometric_pressure_qfe\": 975.3499999999999, \"precipitation\": 0.0, \"dew_point\": 6.0, \"global_radiation\": 1.0, \"humidity\": 70.0, \"water_level\": 405.97}, {\"air_temperature\": 12.9, \"water_temperature\": 16.7, \"wind_gust_max_10min\": 3.3, \"wind_speed_avg_10min\": 1.9, \"wind_force_avg_10min\": 1.9, \"wind_direction\": 150.0, \"windchill\": 12.2, \"barometric_pressure_qfe\": 966.95, \"precipitation\": 0.0, \"dew_point\": 9.7, \"global_radiation\": 1.0, \"humidity\": 84.0, \"water_level\": 405.95}, {\"air_temperature\": 7.2, \"water_temperature\": 14.9, \"wind_gust_max_10min\": 3.0, \"wind_speed_avg_10min\": 1.8, \"wind_force_avg_10min\": 1.8, \"wind_direction\": 300.0, \"windchill\": 6.4, \"barometric_pressure_qfe\": 967.55, \"precipitation\": 0.0, \"dew_point\": 4.8, \"global_radiation\": 1.0, \"humidity\": 85.0, \"water_level\": 405.95}, {\"air_temperature\": 10.0, \"water_temperature\": 13.5, \"wind_gust_max_10min\": 2.6, \"wind_speed_avg_10min\": 1.6, \"wind_force_avg_10min\": 1.6, \"wind_direction\": 151.0, \"windchill\": 9.2, \"barometric_pressure_qfe\": 972.6, \"precipitation\": 0.0, \"dew_point\": 5.8, \"global_radiation\": 1.0, \"humidity\": 83.0, \"water_level\": 405.97}, {\"air_temperature\": 10.6, \"water_temperature\": 13.3, \"wind_gust_max_10min\": 2.9, \"wind_speed_avg_10min\": 1.7, \"wind_force_avg_10min\": 1.7, \"wind_direction\": 130.0, \"windchill\": 9.9, \"barometric_pressure_qfe\": 972.5, \"precipitation\": 0.0, \"dew_point\": 8.6, \"global_radiation\": 0.0, \"humidity\": 88.0, \"water_level\": 405.91}, {\"air_temperature\": 9.9, \"water_temperature\": 12.9, \"wind_gust_max_10min\": 2.1, \"wind_speed_avg_10min\": 1.4, \"wind_force_avg_10min\": 1.4, \"wind_direction\": 164.0, \"windchill\": 9.7, \"barometric_pressure_qfe\": 977.2, \"precipitation\": 0.0, \"dew_point\": 8.2, \"global_radiation\": 0.0, \"humidity\": 89.0, \"water_level\": 405.88}, {\"air_temperature\": 10.6, \"water_temperature\": 12.8, \"wind_gust_max_10min\": 2.5, \"wind_speed_avg_10min\": 1.6, \"wind_force_avg_10min\": 1.6, \"wind_direction\": 161.0, \"windchill\": 9.8, \"barometric_pressure_qfe\": 979.5, \"precipitation\": 0.0, \"dew_point\": 7.3, \"global_radiation\": 0.0, \"humidity\": 86.0, \"water_level\": 405.86}, {\"air_temperature\": 12.8, \"water_temperature\": 12.0, \"wind_gust_max_10min\": 6.7, \"wind_speed_avg_10min\": 2.8, \"wind_force_avg_10min\": 2.8, \"wind_direction\": 176.0, \"windchill\": 9.0, \"barometric_pressure_qfe\": 971.3, \"precipitation\": 0.0, \"dew_point\": 6.7, \"global_radiation\": 0.0, \"humidity\": 74.0, \"water_level\": 405.83}, {\"air_temperature\": 3.0, \"water_temperature\": 9.8, \"wind_gust_max_10min\": 4.2, \"wind_speed_avg_10min\": 2.2, \"wind_force_avg_10min\": 2.2, \"wind_direction\": 131.0, \"windchill\": 0.9, \"barometric_pressure_qfe\": 970.4, \"precipitation\": 0.0, \"dew_point\": -0.7, \"global_radiation\": 0.0, \"humidity\": 82.0, \"water_level\": 405.94}, {\"air_temperature\": 5.4, \"water_temperature\": 8.6, \"wind_gust_max_10min\": 2.9, \"wind_speed_avg_10min\": 1.7, \"wind_force_avg_10min\": 1.7, \"wind_direction\": 169.0, \"windchill\": 4.5, \"barometric_pressure_qfe\": 982.3, \"precipitation\": 0.0, \"dew_point\": 4.1, \"global_radiation\": 0.0, \"humidity\": 94.0, \"water_level\": 405.93}, {\"air_temperature\": 3.4, \"water_temperature\": 8.2, \"wind_gust_max_10min\": 2.5, \"wind_speed_avg_10min\": 1.6, \"wind_force_avg_10min\": 1.6, \"wind_direction\": 173.0, \"windchill\": 2.4, \"barometric_pressure_qfe\": 984.0, \"precipitation\": 0.0, \"dew_point\": 2.1, \"global_radiation\": 0.0, \"humidity\": 95.0, \"water_level\": 405.91}, {\"air_temperature\": 5.5, \"water_temperature\": 7.8, \"wind_gust_max_10min\": 2.2, \"wind_speed_avg_10min\": 1.4, \"wind_force_avg_10min\": 1.4, \"wind_direction\": 179.0, \"windchill\": 4.8, \"barometric_pressure_qfe\": 977.8, \"precipitation\": 0.0, \"dew_point\": 5.0, \"global_radiation\": 0.0, \"humidity\": 96.5, \"water_level\": 405.89}, {\"air_temperature\": 7.1, \"water_temperature\": 7.7, \"wind_gust_max_10min\": 2.4, \"wind_speed_avg_10min\": 1.6, \"wind_force_avg_10min\": 1.6, \"wind_direction\": 154.0, \"windchill\": 4.8, \"barometric_pressure_qfe\": 982.5, \"precipitation\": 0.0, \"dew_point\": 4.7, \"global_radiation\": 0.0, \"humidity\": 88.0, \"water_level\": 405.85}, {\"air_temperature\": 4.6, \"water_temperature\": 7.2, \"wind_gust_max_10min\": 2.6, \"wind_speed_avg_10min\": 1.7, \"wind_force_avg_10min\": 1.7, \"wind_direction\": 165.0, \"windchill\": 2.7, \"barometric_pressure_qfe\": 976.8, \"precipitation\": 0.0, \"dew_point\": 3.1, \"global_radiation\": 0.0, \"humidity\": 94.0, \"water_level\": 405.79}, {\"air_temperature\": 5.3, \"water_temperature\": 6.9, \"wind_gust_max_10min\": 4.4, \"wind_speed_avg_10min\": 2.5, \"wind_force_avg_10min\": 2.5, \"wind_direction\": 158.0, \"windchill\": 2.7, \"barometric_pressure_qfe\": 953.05, \"precipitation\": 0.0, \"dew_point\": 3.3, \"global_radiation\": 0.0, \"humidity\": 93.0, \"water_level\": 405.81}, {\"air_temperature\": 2.0, \"water_temperature\": 6.3, \"wind_gust_max_10min\": 6.9, \"wind_speed_avg_10min\": 2.6, \"wind_force_avg_10min\": 2.6, \"wind_direction\": 169.5, \"windchill\": -1.5, \"barometric_pressure_qfe\": 966.4, \"precipitation\": 0.0, \"dew_point\": -1.1, \"global_radiation\": 0.0, \"humidity\": 81.0, \"water_level\": 405.83}, {\"air_temperature\": 0.6, \"water_temperature\": 5.5, \"wind_gust_max_10min\": 3.1, \"wind_speed_avg_10min\": 2.0, \"wind_force_avg_10min\": 2.0, \"wind_direction\": 171.0, \"windchill\": -1.2, \"barometric_pressure_qfe\": 975.3, \"precipitation\": 0.0, \"dew_point\": -1.3, \"global_radiation\": 0.0, \"humidity\": 85.0, \"water_level\": 405.77}, {\"air_temperature\": 6.7, \"water_temperature\": 5.9, \"wind_gust_max_10min\": 2.9, \"wind_speed_avg_10min\": 1.8, \"wind_force_avg_10min\": 1.8, \"wind_direction\": 161.0, \"windchill\": 4.9, \"barometric_pressure_qfe\": 978.9, \"precipitation\": 0.0, \"dew_point\": 4.2, \"global_radiation\": 0.0, \"humidity\": 88.0, \"water_level\": 405.77}, {\"air_temperature\": 5.7, \"water_temperature\": 5.9, \"wind_gust_max_10min\": 5.2, \"wind_speed_avg_10min\": 2.5, \"wind_force_avg_10min\": 2.5, \"wind_direction\": 184.5, \"windchill\": 3.25, \"barometric_pressure_qfe\": 975.7, \"precipitation\": 0.0, \"dew_point\": 3.75, \"global_radiation\": 0.0, \"humidity\": 87.0, \"water_level\": 405.91}, {\"air_temperature\": 4.6, \"water_temperature\": 5.7, \"wind_gust_max_10min\": 5.9, \"wind_speed_avg_10min\": 2.9, \"wind_force_avg_10min\": 2.9, \"wind_direction\": 154.0, \"windchill\": 1.7, \"barometric_pressure_qfe\": 953.95, \"precipitation\": 0.0, \"dew_point\": 2.2, \"global_radiation\": 0.0, \"humidity\": 79.0, \"water_level\": 405.8}, {\"air_temperature\": 3.2, \"water_temperature\": 5.5, \"wind_gust_max_10min\": 4.3, \"wind_speed_avg_10min\": 2.5, \"wind_force_avg_10min\": 2.5, \"wind_direction\": 149.5, \"windchill\": 1.8, \"barometric_pressure_qfe\": 972.6, \"precipitation\": 0.0, \"dew_point\": 0.8, \"global_radiation\": 0.0, \"humidity\": 83.0, \"water_level\": 405.75}, {\"air_temperature\": 3.25, \"water_temperature\": 5.7, \"wind_gust_max_10min\": 3.8, \"wind_speed_avg_10min\": 2.0, \"wind_force_avg_10min\": 2.0, \"wind_direction\": 170.0, \"windchill\": 1.8, \"barometric_pressure_qfe\": 963.8, \"precipitation\": 0.0, \"dew_point\": 0.9, \"global_radiation\": 0.0, \"humidity\": 82.0, \"water_level\": 405.78}, {\"air_temperature\": 2.8, \"water_temperature\": 5.3, \"wind_gust_max_10min\": 4.5, \"wind_speed_avg_10min\": 2.4, \"wind_force_avg_10min\": 2.4, \"wind_direction\": 164.0, \"windchill\": 0.4, \"barometric_pressure_qfe\": 957.7, \"precipitation\": 0.0, \"dew_point\": 0.9, \"global_radiation\": 0.0, \"humidity\": 88.0, \"water_level\": 405.78}, {\"air_temperature\": 4.6, \"water_temperature\": 5.5, \"wind_gust_max_10min\": 3.9, \"wind_speed_avg_10min\": 2.3, \"wind_force_avg_10min\": 2.3, \"wind_direction\": 82.5, \"windchill\": 1.0, \"barometric_pressure_qfe\": 968.75, \"precipitation\": 0.0, \"dew_point\": 0.3, \"global_radiation\": 0.0, \"humidity\": 76.5, \"water_level\": 405.76}, {\"air_temperature\": 4.6, \"water_temperature\": 5.9, \"wind_gust_max_10min\": 3.6500000000000004, \"wind_speed_avg_10min\": 2.1, \"wind_force_avg_10min\": 2.1, \"wind_direction\": 90.0, \"windchill\": 2.8, \"barometric_pressure_qfe\": 971.1, \"precipitation\": 0.0, \"dew_point\": 0.5, \"global_radiation\": 0.0, \"humidity\": 74.5, \"water_level\": 405.78}, {\"air_temperature\": 6.6, \"water_temperature\": 6.0, \"wind_gust_max_10min\": 3.4, \"wind_speed_avg_10min\": 2.0, \"wind_force_avg_10min\": 2.0, \"wind_direction\": 160.0, \"windchill\": 4.9, \"barometric_pressure_qfe\": 967.0, \"precipitation\": 0.0, \"dew_point\": 2.2, \"global_radiation\": 3.0, \"humidity\": 77.0, \"water_level\": 405.79}, {\"air_temperature\": 11.9, \"water_temperature\": 7.35, \"wind_gust_max_10min\": 3.7, \"wind_speed_avg_10min\": 2.1, \"wind_force_avg_10min\": 2.1, \"wind_direction\": 168.0, \"windchill\": 10.1, \"barometric_pressure_qfe\": 964.7, \"precipitation\": 0.0, \"dew_point\": 6.7, \"global_radiation\": 6.0, \"humidity\": 72.0, \"water_level\": 405.83}, {\"air_temperature\": 9.3, \"water_temperature\": 7.8, \"wind_gust_max_10min\": 3.2, \"wind_speed_avg_10min\": 1.95, \"wind_force_avg_10min\": 1.95, \"wind_direction\": 157.0, \"windchill\": 8.55, \"barometric_pressure_qfe\": 962.4, \"precipitation\": 0.0, \"dew_point\": 5.7, \"global_radiation\": 6.5, \"humidity\": 81.0, \"water_level\": 405.93}, {\"air_temperature\": 10.6, \"water_temperature\": 10.1, \"wind_gust_max_10min\": 3.3499999999999996, \"wind_speed_avg_10min\": 2.0, \"wind_force_avg_10min\": 2.0, \"wind_direction\": 159.0, \"windchill\": 9.4, \"barometric_pressure_qfe\": 962.5, \"precipitation\": 0.0, \"dew_point\": 7.9, \"global_radiation\": 13.0, \"humidity\": 84.0, \"water_level\": 405.94}, {\"air_temperature\": 8.9, \"water_temperature\": 10.5, \"wind_gust_max_10min\": 3.4, \"wind_speed_avg_10min\": 2.0, \"wind_force_avg_10min\": 2.0, \"wind_direction\": 156.0, \"windchill\": 7.65, \"barometric_pressure_qfe\": 970.1, \"precipitation\": 0.0, \"dew_point\": 4.9, \"global_radiation\": 19.0, \"humidity\": 82.0, \"water_level\": 405.98}, {\"air_temperature\": 6.6, \"water_temperature\": 9.1, \"wind_gust_max_10min\": 4.0, \"wind_speed_avg_10min\": 2.2, \"wind_force_avg_10min\": 2.2, \"wind_direction\": 160.0, \"windchill\": 4.6, \"barometric_pressure_qfe\": 966.7, \"precipitation\": 0.0, \"dew_point\": 1.3, \"global_radiation\": 26.0, \"humidity\": 75.0, \"water_level\": 405.98}, {\"air_temperature\": 12.1, \"water_temperature\": 12.1, \"wind_gust_max_10min\": 2.9, \"wind_speed_avg_10min\": 1.7, \"wind_force_avg_10min\": 1.7, \"wind_direction\": 149.0, \"windchill\": 10.25, \"barometric_pressure_qfe\": 971.2, \"precipitation\": 0.0, \"dew_point\": 5.9, \"global_radiation\": 64.0, \"humidity\": 65.0, \"water_level\": 405.98}, {\"air_temperature\": 12.6, \"water_temperature\": 13.2, \"wind_gust_max_10min\": 3.8, \"wind_speed_avg_10min\": 2.2, \"wind_force_avg_10min\": 2.2, \"wind_direction\": 173.0, \"windchill\": 11.6, \"barometric_pressure_qfe\": 960.3, \"precipitation\": 0.0, \"dew_point\": 10.2, \"global_radiation\": 27.0, \"humidity\": 77.0, \"water_level\": 406.01}, {\"air_temperature\": 12.4, \"water_temperature\": 13.3, \"wind_gust_max_10min\": 2.8, \"wind_speed_avg_10min\": 1.8, \"wind_force_avg_10min\": 1.8, \"wind_direction\": 156.0, \"windchill\": 11.8, \"barometric_pressure_qfe\": 969.7, \"precipitation\": 0.0, \"dew_point\": 7.8, \"global_radiation\": 73.0, \"humidity\": 72.0, \"water_level\": 406.16}, {\"air_temperature\": 16.1, \"water_temperature\": 15.3, \"wind_gust_max_10min\": 3.2, \"wind_speed_avg_10min\": 1.8, \"wind_force_avg_10min\": 1.8, \"wind_direction\": 150.0, \"windchill\": 15.5, \"barometric_pressure_qfe\": 966.3, \"precipitation\": 0.0, \"dew_point\": 12.2, \"global_radiation\": 50.0, \"humidity\": 84.0, \"water_level\": 406.06}, {\"air_temperature\": 15.9, \"water_temperature\": 16.4, \"wind_gust_max_10min\": 3.5, \"wind_speed_avg_10min\": 2.0, \"wind_force_avg_10min\": 2.0, \"wind_direction\": 164.0, \"windchill\": 15.2, \"barometric_pressure_qfe\": 964.5, \"precipitation\": 0.0, \"dew_point\": 13.0, \"global_radiation\": 44.0, \"humidity\": 85.0, \"water_level\": 406.08}, {\"air_temperature\": 17.1, \"water_temperature\": 18.4, \"wind_gust_max_10min\": 3.2, \"wind_speed_avg_10min\": 1.9, \"wind_force_avg_10min\": 1.9, \"wind_direction\": 160.0, \"windchill\": 16.1, \"barometric_pressure_qfe\": 969.05, \"precipitation\": 0.0, \"dew_point\": 14.0, \"global_radiation\": 44.0, \"humidity\": 80.0, \"water_level\": 406.14}, {\"air_temperature\": 14.6, \"water_temperature\": 17.6, \"wind_gust_max_10min\": 3.6, \"wind_speed_avg_10min\": 2.0, \"wind_force_avg_10min\": 2.0, \"wind_direction\": 157.0, \"windchill\": 13.8, \"barometric_pressure_qfe\": 959.0, \"precipitation\": 0.0, \"dew_point\": 12.1, \"global_radiation\": 45.0, \"humidity\": 87.0, \"water_level\": 406.17}, {\"air_temperature\": 19.7, \"water_temperature\": 20.0, \"wind_gust_max_10min\": 2.7, \"wind_speed_avg_10min\": 1.7, \"wind_force_avg_10min\": 1.7, \"wind_direction\": 155.0, \"windchill\": 19.15, \"barometric_pressure_qfe\": 972.1, \"precipitation\": 0.0, \"dew_point\": 17.0, \"global_radiation\": 67.0, \"humidity\": 83.0, \"water_level\": 406.24}, {\"air_temperature\": 19.3, \"water_temperature\": 20.8, \"wind_gust_max_10min\": 0.0, \"wind_speed_avg_10min\": 0.0, \"wind_force_avg_10min\": 0.0, \"wind_direction\": 0.0, \"windchill\": 19.2, \"barometric_pressure_qfe\": 970.5, \"precipitation\": 0.0, \"dew_point\": 15.0, \"global_radiation\": 57.0, \"humidity\": 75.0, \"water_level\": 406.05}, {\"air_temperature\": 22.6, \"water_temperature\": 20.9, \"wind_gust_max_10min\": 3.1, \"wind_speed_avg_10min\": 1.7, \"wind_force_avg_10min\": 1.7, \"wind_direction\": 258.0, \"windchill\": 22.1, \"barometric_pressure_qfe\": 971.4, \"precipitation\": 0.0, \"dew_point\": 13.9, \"global_radiation\": 114.0, \"humidity\": 60.0, \"water_level\": 406.01}, {\"air_temperature\": 16.3, \"water_temperature\": 21.7, \"wind_gust_max_10min\": 2.8, \"wind_speed_avg_10min\": 1.6, \"wind_force_avg_10min\": 1.6, \"wind_direction\": 168.0, \"windchill\": 15.5, \"barometric_pressure_qfe\": 972.8499999999999, \"precipitation\": 0.0, \"dew_point\": 11.4, \"global_radiation\": 44.5, \"humidity\": 84.0, \"water_level\": 406.08}, {\"air_temperature\": 22.9, \"water_temperature\": 24.4, \"wind_gust_max_10min\": 2.6, \"wind_speed_avg_10min\": 1.5, \"wind_force_avg_10min\": 1.5, \"wind_direction\": 153.5, \"windchill\": 22.55, \"barometric_pressure_qfe\": 970.25, \"precipitation\": 0.0, \"dew_point\": 17.1, \"global_radiation\": 83.5, \"humidity\": 73.0, \"water_level\": 406.06}, {\"air_temperature\": 21.5, \"water_temperature\": 24.3, \"wind_gust_max_10min\": 3.2, \"wind_speed_avg_10min\": 1.8, \"wind_force_avg_10min\": 1.8, \"wind_direction\": 166.0, \"windchill\": 21.2, \"barometric_pressure_qfe\": 970.1, \"precipitation\": 0.0, \"dew_point\": 16.6, \"global_radiation\": 54.0, \"humidity\": 73.0, \"water_level\": 406.05}, {\"air_temperature\": 18.7, \"water_temperature\": 23.3, \"wind_gust_max_10min\": 2.9, \"wind_speed_avg_10min\": 1.7, \"wind_force_avg_10min\": 1.7, \"wind_direction\": 161.0, \"windchill\": 18.2, \"barometric_pressure_qfe\": 972.05, \"precipitation\": 0.0, \"dew_point\": 13.7, \"global_radiation\": 45.0, \"humidity\": 76.0, \"water_level\": 406.03}, {\"air_temperature\": 17.9, \"water_temperature\": 22.2, \"wind_gust_max_10min\": 3.0, \"wind_speed_avg_10min\": 1.8, \"wind_force_avg_10min\": 1.8, \"wind_direction\": 158.0, \"windchill\": 16.9, \"barometric_pressure_qfe\": 975.2, \"precipitation\": 0.0, \"dew_point\": 13.6, \"global_radiation\": 34.5, \"humidity\": 74.0, \"water_level\": 406.06}, {\"air_temperature\": 20.0, \"water_temperature\": 23.7, \"wind_gust_max_10min\": 2.6, \"wind_speed_avg_10min\": 1.6, \"wind_force_avg_10min\": 1.6, \"wind_direction\": 151.0, \"windchill\": 19.4, \"barometric_pressure_qfe\": 966.6, \"precipitation\": 0.0, \"dew_point\": 16.7, \"global_radiation\": 31.5, \"humidity\": 79.0, \"water_level\": 406.03}, {\"air_temperature\": 23.1, \"water_temperature\": 23.2, \"wind_gust_max_10min\": 2.6, \"wind_speed_avg_10min\": 1.6, \"wind_force_avg_10min\": 1.6, \"wind_direction\": 144.0, \"windchill\": 22.7, \"barometric_pressure_qfe\": 971.6, \"precipitation\": 0.0, \"dew_point\": 16.9, \"global_radiation\": 53.0, \"humidity\": 71.0, \"water_level\": 406.02}, {\"air_temperature\": 21.05, \"water_temperature\": 23.9, \"wind_gust_max_10min\": 2.6, \"wind_speed_avg_10min\": 1.6, \"wind_force_avg_10min\": 1.6, \"wind_direction\": 153.0, \"windchill\": 20.6, \"barometric_pressure_qfe\": 972.9, \"precipitation\": 0.0, \"dew_point\": 15.2, \"global_radiation\": 27.0, \"humidity\": 72.0, \"water_level\": 405.99}, {\"air_temperature\": 19.1, \"water_temperature\": 22.9, \"wind_gust_max_10min\": 2.3, \"wind_speed_avg_10min\": 1.4, \"wind_force_avg_10min\": 1.4, \"wind_direction\": 123.0, \"windchill\": 18.5, \"barometric_pressure_qfe\": 969.9, \"precipitation\": 0.0, \"dew_point\": 15.1, \"global_radiation\": 12.0, \"humidity\": 77.0, \"water_level\": 406.03}, {\"air_temperature\": 17.7, \"water_temperature\": 23.5, \"wind_gust_max_10min\": 2.5, \"wind_speed_avg_10min\": 1.4, \"wind_force_avg_10min\": 1.4, \"wind_direction\": 178.0, \"windchill\": 17.2, \"barometric_pressure_qfe\": 967.3, \"precipitation\": 0.0, \"dew_point\": 14.8, \"global_radiation\": 7.0, \"humidity\": 78.0, \"water_level\": 405.98}, {\"air_temperature\": 14.3, \"water_temperature\": 20.3, \"wind_gust_max_10min\": 2.7, \"wind_speed_avg_10min\": 1.7, \"wind_force_avg_10min\": 1.7, \"wind_direction\": 271.0, \"windchill\": 13.7, \"barometric_pressure_qfe\": 972.4, \"precipitation\": 0.0, \"dew_point\": 11.6, \"global_radiation\": 2.0, \"humidity\": 85.5, \"water_level\": 406.01}, {\"air_temperature\": 16.4, \"water_temperature\": 19.8, \"wind_gust_max_10min\": 3.1, \"wind_speed_avg_10min\": 1.8, \"wind_force_avg_10min\": 1.8, \"wind_direction\": 159.0, \"windchill\": 15.4, \"barometric_pressure_qfe\": 973.0, \"precipitation\": 0.0, \"dew_point\": 12.3, \"global_radiation\": 0.0, \"humidity\": 78.0, \"water_level\": 405.99}, {\"air_temperature\": 10.0, \"water_temperature\": 17.4, \"wind_gust_max_10min\": 4.0, \"wind_speed_avg_10min\": 2.2, \"wind_force_avg_10min\": 2.2, \"wind_direction\": 99.0, \"windchill\": 7.8, \"barometric_pressure_qfe\": 973.8, \"precipitation\": 0.0, \"dew_point\": 6.6, \"global_radiation\": 0.0, \"humidity\": 79.0, \"water_level\": 405.94}, {\"air_temperature\": 8.5, \"water_temperature\": 15.1, \"wind_gust_max_10min\": 3.4, \"wind_speed_avg_10min\": 2.0, \"wind_force_avg_10min\": 2.0, \"wind_direction\": 161.5, \"windchill\": 7.1, \"barometric_pressure_qfe\": 968.2, \"precipitation\": 0.0, \"dew_point\": 5.1, \"global_radiation\": 0.0, \"humidity\": 84.0, \"water_level\": 405.92}, {\"air_temperature\": 9.2, \"water_temperature\": 14.3, \"wind_gust_max_10min\": 2.7, \"wind_speed_avg_10min\": 1.6, \"wind_force_avg_10min\": 1.6, \"wind_direction\": 243.0, \"windchill\": 8.6, \"barometric_pressure_qfe\": 968.5, \"precipitation\": 0.0, \"dew_point\": 6.5, \"global_radiation\": 0.0, \"humidity\": 89.0, \"water_level\": 405.87}, {\"air_temperature\": 10.2, \"water_temperature\": 13.6, \"wind_gust_max_10min\": 2.7, \"wind_speed_avg_10min\": 1.6, \"wind_force_avg_10min\": 1.6, \"wind_direction\": 291.0, \"windchill\": 9.3, \"barometric_pressure_qfe\": 980.55, \"precipitation\": 0.0, \"dew_point\": 8.1, \"global_radiation\": 0.0, \"humidity\": 95.0, \"water_level\": 405.91}, {\"air_temperature\": 8.7, \"water_temperature\": 12.7, \"wind_gust_max_10min\": 3.1, \"wind_speed_avg_10min\": 1.8, \"wind_force_avg_10min\": 1.8, \"wind_direction\": 161.0, \"windchill\": 7.4, \"barometric_pressure_qfe\": 971.4, \"precipitation\": 0.0, \"dew_point\": 6.2, \"global_radiation\": 0.0, \"humidity\": 88.0, \"water_level\": 405.88}, {\"air_temperature\": 4.2, \"water_temperature\": 11.2, \"wind_gust_max_10min\": 3.3, \"wind_speed_avg_10min\": 1.9, \"wind_force_avg_10min\": 1.9, \"wind_direction\": 167.0, \"windchill\": 2.3, \"barometric_pressure_qfe\": 963.3, \"precipitation\": 0.0, \"dew_point\": 1.8, \"global_radiation\": 0.0, \"humidity\": 87.0, \"water_level\": 405.93}, {\"air_temperature\": 7.2, \"water_temperature\": 10.2, \"wind_gust_max_10min\": 3.5, \"wind_speed_avg_10min\": 2.2, \"wind_force_avg_10min\": 2.2, \"wind_direction\": 161.0, \"windchill\": 5.4, \"barometric_pressure_qfe\": 967.6, \"precipitation\": 0.0, \"dew_point\": 4.3, \"global_radiation\": 0.0, \"humidity\": 85.0, \"water_level\": 405.9}, {\"air_temperature\": 8.1, \"water_temperature\": 9.6, \"wind_gust_max_10min\": 3.5, \"wind_speed_avg_10min\": 2.1, \"wind_force_avg_10min\": 2.1, \"wind_direction\": 314.0, \"windchill\": 7.1, \"barometric_pressure_qfe\": 966.1, \"precipitation\": 0.0, \"dew_point\": 5.8, \"global_radiation\": 0.0, \"humidity\": 87.0, \"water_level\": 405.91}, {\"air_temperature\": 1.7, \"water_temperature\": 8.1, \"wind_gust_max_10min\": 3.0, \"wind_speed_avg_10min\": 1.9, \"wind_force_avg_10min\": 1.9, \"wind_direction\": 147.0, \"windchill\": -0.4, \"barometric_pressure_qfe\": 976.1500000000001, \"precipitation\": 0.0, \"dew_point\": -0.9, \"global_radiation\": 0.0, \"humidity\": 80.0, \"water_level\": 405.9}, {\"air_temperature\": 0.5, \"water_temperature\": 7.5, \"wind_gust_max_10min\": 2.3, \"wind_speed_avg_10min\": 1.5, \"wind_force_avg_10min\": 1.5, \"wind_direction\": 287.0, \"windchill\": 0.2, \"barometric_pressure_qfe\": 981.55, \"precipitation\": 0.0, \"dew_point\": -0.45, \"global_radiation\": 0.0, \"humidity\": 93.0, \"water_level\": 405.89}, {\"air_temperature\": 0.55, \"water_temperature\": 6.9, \"wind_gust_max_10min\": 2.4, \"wind_speed_avg_10min\": 1.5, \"wind_force_avg_10min\": 1.5, \"wind_direction\": 271.0, \"windchill\": 0.3, \"barometric_pressure_qfe\": 978.4, \"precipitation\": 0.0, \"dew_point\": -0.1, \"global_radiation\": 0.0, \"humidity\": 95.0, \"water_level\": 405.88}, {\"air_temperature\": 2.3, \"water_temperature\": 6.6, \"wind_gust_max_10min\": 2.8, \"wind_speed_avg_10min\": 1.7, \"wind_force_avg_10min\": 1.7, \"wind_direction\": 169.5, \"windchill\": 1.3, \"barometric_pressure_qfe\": 982.9, \"precipitation\": 0.0, \"dew_point\": 1.1, \"global_radiation\": 0.0, \"humidity\": 90.0, \"water_level\": 405.86}, {\"air_temperature\": 0.3, \"water_temperature\": 6.3, \"wind_gust_max_10min\": 2.6, \"wind_speed_avg_10min\": 1.7, \"wind_force_avg_10min\": 1.7, \"wind_direction\": 178.0, \"windchill\": -0.3, \"barometric_pressure_qfe\": 987.8, \"precipitation\": 0.0, \"dew_point\": -1.3, \"global_radiation\": 0.0, \"humidity\": 91.0, \"water_level\": 405.79}, {\"air_temperature\": -1.6, \"water_temperature\": 5.6, \"wind_gust_max_10min\": 2.8, \"wind_speed_avg_10min\": 1.7, \"wind_force_avg_10min\": 1.7, \"wind_direction\": 291.0, \"windchill\": -2.5, \"barometric_pressure_qfe\": 978.6, \"precipitation\": 0.0, \"dew_point\": -2.7, \"global_radiation\": 0.0, \"humidity\": 87.0, \"water_level\": 405.71}, {\"air_temperature\": 0.7, \"water_temperature\": 5.1, \"wind_gust_max_10min\": 4.5, \"wind_speed_avg_10min\": 2.3, \"wind_force_avg_10min\": 2.3, \"wind_direction\": 172.0, \"windchill\": -1.5, \"barometric_pressure_qfe\": 967.6, \"precipitation\": 0.0, \"dew_point\": -1.4, \"global_radiation\": 0.0, \"humidity\": 84.0, \"water_level\": 405.67}, {\"air_temperature\": -3.9, \"water_temperature\": 4.5, \"wind_gust_max_10min\": 4.4, \"wind_speed_avg_10min\": 2.8, \"wind_force_avg_10min\": 2.8, \"wind_direction\": 51.0, \"windchill\": -8.4, \"barometric_pressure_qfe\": 979.2, \"precipitation\": 0.0, \"dew_point\": -6.3, \"global_radiation\": 0.0, \"humidity\": 85.0, \"water_level\": 405.67}, {\"air_temperature\": -4.5, \"water_temperature\": 3.9, \"wind_gust_max_10min\": 3.2, \"wind_speed_avg_10min\": 2.0, \"wind_force_avg_10min\": 2.0, \"wind_direction\": 122.0, \"windchill\": -5.3, \"barometric_pressure_qfe\": 974.6, \"precipitation\": 0.0, \"dew_point\": -5.8, \"global_radiation\": 0.0, \"humidity\": 88.0, \"water_level\": 405.65}, {\"air_temperature\": 4.7, \"water_temperature\": 4.9, \"wind_gust_max_10min\": 4.1, \"wind_speed_avg_10min\": 2.4, \"wind_force_avg_10min\": 2.4, \"wind_direction\": 153.0, \"windchill\": 2.0, \"barometric_pressure_qfe\": 963.3, \"precipitation\": 0.0, \"dew_point\": 3.8, \"global_radiation\": 0.0, \"humidity\": 96.0, \"water_level\": 405.87}, {\"air_temperature\": 2.1, \"water_temperature\": 4.7, \"wind_gust_max_10min\": 3.1, \"wind_speed_avg_10min\": 2.0, \"wind_force_avg_10min\": 2.0, \"wind_direction\": 148.0, \"windchill\": 0.7, \"barometric_pressure_qfe\": 970.6, \"precipitation\": 0.0, \"dew_point\": 0.35, \"global_radiation\": 0.0, \"humidity\": 89.0, \"water_level\": 405.74}, {\"air_temperature\": 2.9, \"water_temperature\": 4.8, \"wind_gust_max_10min\": 2.4, \"wind_speed_avg_10min\": 1.6, \"wind_force_avg_10min\": 1.6, \"wind_direction\": 148.0, \"windchill\": 1.8, \"barometric_pressure_qfe\": 978.5, \"precipitation\": 0.0, \"dew_point\": 1.6, \"global_radiation\": 0.0, \"humidity\": 89.0, \"water_level\": 405.67}, {\"air_temperature\": 7.4, \"water_temperature\": 5.3, \"wind_gust_max_10min\": 4.3, \"wind_speed_avg_10min\": 2.2, \"wind_force_avg_10min\": 2.2, \"wind_direction\": 171.0, \"windchill\": 5.2, \"barometric_pressure_qfe\": 970.9, \"precipitation\": 0.0, \"dew_point\": 2.25, \"global_radiation\": 0.0, \"humidity\": 77.0, \"water_level\": 405.67}, {\"air_temperature\": 6.5, \"water_temperature\": 5.2, \"wind_gust_max_10min\": 5.3, \"wind_speed_avg_10min\": 2.5, \"wind_force_avg_10min\": 2.5, \"wind_direction\": 166.0, \"windchill\": 3.4, \"barometric_pressure_qfe\": 959.0, \"precipitation\": 0.0, \"dew_point\": 2.0, \"global_radiation\": 0.0, \"humidity\": 75.0, \"water_level\": 405.69}, {\"air_temperature\": 6.4, \"water_temperature\": 5.3, \"wind_gust_max_10min\": 3.7, \"wind_speed_avg_10min\": 2.0, \"wind_force_avg_10min\": 2.0, \"wind_direction\": 162.0, \"windchill\": 4.6, \"barometric_pressure_qfe\": 973.7, \"precipitation\": 0.0, \"dew_point\": 2.6, \"global_radiation\": 0.0, \"humidity\": 86.0, \"water_level\": 405.8}, {\"air_temperature\": 9.7, \"water_temperature\": 6.65, \"wind_gust_max_10min\": 3.4, \"wind_speed_avg_10min\": 1.9, \"wind_force_avg_10min\": 1.9, \"wind_direction\": 177.0, \"windchill\": 8.149999999999999, \"barometric_pressure_qfe\": 972.6500000000001, \"precipitation\": 0.0, \"dew_point\": 4.6, \"global_radiation\": 0.0, \"humidity\": 74.0, \"water_level\": 405.82}, {\"air_temperature\": 9.4, \"water_temperature\": 6.3, \"wind_gust_max_10min\": 4.1, \"wind_speed_avg_10min\": 2.4, \"wind_force_avg_10min\": 2.4, \"wind_direction\": 151.0, \"windchill\": 7.5, \"barometric_pressure_qfe\": 966.6, \"precipitation\": 0.0, \"dew_point\": 5.6, \"global_radiation\": 1.0, \"humidity\": 78.0, \"water_level\": 405.89}, {\"air_temperature\": 12.0, \"water_temperature\": 10.0, \"wind_gust_max_10min\": 2.4, \"wind_speed_avg_10min\": 1.5, \"wind_force_avg_10min\": 1.5, \"wind_direction\": 159.0, \"windchill\": 11.3, \"barometric_pressure_qfe\": 973.5, \"precipitation\": 0.0, \"dew_point\": 5.95, \"global_radiation\": 12.0, \"humidity\": 68.0, \"water_level\": 405.89}, {\"air_temperature\": 11.9, \"water_temperature\": 10.8, \"wind_gust_max_10min\": 3.0, \"wind_speed_avg_10min\": 1.9, \"wind_force_avg_10min\": 1.9, \"wind_direction\": 159.0, \"windchill\": 10.8, \"barometric_pressure_qfe\": 974.0, \"precipitation\": 0.0, \"dew_point\": 5.7, \"global_radiation\": 20.0, \"humidity\": 67.0, \"water_level\": 405.91}, {\"air_temperature\": 13.4, \"water_temperature\": 10.5, \"wind_gust_max_10min\": 4.5, \"wind_speed_avg_10min\": 2.3, \"wind_force_avg_10min\": 2.3, \"wind_direction\": 277.0, \"windchill\": 11.9, \"barometric_pressure_qfe\": 969.4, \"precipitation\": 0.0, \"dew_point\": 4.8, \"global_radiation\": 30.0, \"humidity\": 57.0, \"water_level\": 405.91}, {\"air_temperature\": 6.0, \"water_temperature\": 9.6, \"wind_gust_max_10min\": 4.3, \"wind_speed_avg_10min\": 2.6, \"wind_force_avg_10min\": 2.6, \"wind_direction\": 150.0, \"windchill\": 3.4, \"barometric_pressure_qfe\": 977.1, \"precipitation\": 0.0, \"dew_point\": 0.5, \"global_radiation\": 39.0, \"humidity\": 65.0, \"water_level\": 405.94}, {\"air_temperature\": 5.25, \"water_temperature\": 10.9, \"wind_gust_max_10min\": 3.3, \"wind_speed_avg_10min\": 2.0, \"wind_force_avg_10min\": 2.0, \"wind_direction\": 164.0, \"windchill\": 4.1, \"barometric_pressure_qfe\": 964.7, \"precipitation\": 0.0, \"dew_point\": 2.9, \"global_radiation\": 18.0, \"humidity\": 88.0, \"water_level\": 405.96}, {\"air_temperature\": 10.6, \"water_temperature\": 12.1, \"wind_gust_max_10min\": 3.6, \"wind_speed_avg_10min\": 2.1, \"wind_force_avg_10min\": 2.1, \"wind_direction\": 154.0, \"windchill\": 9.4, \"barometric_pressure_qfe\": 967.6, \"precipitation\": 0.0, \"dew_point\": 6.7, \"global_radiation\": 31.0, \"humidity\": 80.0, \"water_level\": 405.97}, {\"air_temperature\": 13.4, \"water_temperature\": 13.8, \"wind_gust_max_10min\": 3.4, \"wind_speed_avg_10min\": 2.0, \"wind_force_avg_10min\": 2.0, \"wind_direction\": 154.0, \"windchill\": 12.2, \"barometric_pressure_qfe\": 965.5, \"precipitation\": 0.0, \"dew_point\": 9.2, \"global_radiation\": 31.5, \"humidity\": 80.0, \"water_level\": 406.01}, {\"air_temperature\": 15.9, \"water_temperature\": 15.6, \"wind_gust_max_10min\": 3.1, \"wind_speed_avg_10min\": 1.9, \"wind_force_avg_10min\": 1.9, \"wind_direction\": 159.0, \"windchill\": 14.7, \"barometric_pressure_qfe\": 974.3, \"precipitation\": 0.0, \"dew_point\": 8.6, \"global_radiation\": 60.0, \"humidity\": 71.0, \"water_level\": 406.03}, {\"air_temperature\": 20.1, \"water_temperature\": 17.4, \"wind_gust_max_10min\": 3.2, \"wind_speed_avg_10min\": 2.0, \"wind_force_avg_10min\": 2.0, \"wind_direction\": 152.0, \"windchill\": 19.2, \"barometric_pressure_qfe\": 971.6, \"precipitation\": 0.0, \"dew_point\": 11.3, \"global_radiation\": 94.0, \"humidity\": 59.0, \"water_level\": 406.01}, {\"air_temperature\": 20.4, \"water_temperature\": 21.7, \"wind_gust_max_10min\": 4.0, \"wind_speed_avg_10min\": 2.4, \"wind_force_avg_10min\": 2.4, \"wind_direction\": 160.0, \"windchill\": 19.5, \"barometric_pressure_qfe\": 969.2, \"precipitation\": 0.0, \"dew_point\": 15.2, \"global_radiation\": 80.5, \"humidity\": 72.0, \"water_level\": 405.93}, {\"air_temperature\": 17.1, \"water_temperature\": 19.1, \"wind_gust_max_10min\": 3.1, \"wind_speed_avg_10min\": 1.8, \"wind_force_avg_10min\": 1.8, \"wind_direction\": 175.0, \"windchill\": 15.9, \"barometric_pressure_qfe\": 969.0, \"precipitation\": 0.0, \"dew_point\": 11.350000000000001, \"global_radiation\": 70.5, \"humidity\": 66.0, \"water_level\": 405.93}, {\"air_temperature\": 22.0, \"water_temperature\": 20.8, \"wind_gust_max_10min\": 4.4, \"wind_speed_avg_10min\": 2.3, \"wind_force_avg_10min\": 2.3, \"wind_direction\": 162.0, \"windchill\": 20.9, \"barometric_pressure_qfe\": 970.5, \"precipitation\": 0.0, \"dew_point\": 13.2, \"global_radiation\": 90.0, \"humidity\": 58.0, \"water_level\": 405.9}, {\"air_temperature\": 24.9, \"water_temperature\": 24.1, \"wind_gust_max_10min\": 3.5, \"wind_speed_avg_10min\": 2.0, \"wind_force_avg_10min\": 2.0, \"wind_direction\": 163.0, \"windchill\": 24.6, \"barometric_pressure_qfe\": 969.2, \"precipitation\": 0.0, \"dew_point\": 17.1, \"global_radiation\": 81.0, \"humidity\": 62.0, \"water_level\": 405.89}, {\"air_temperature\": 18.3, \"water_temperature\": 23.7, \"wind_gust_max_10min\": 4.5, \"wind_speed_avg_10min\": 2.2, \"wind_force_avg_10min\": 2.2, \"wind_direction\": 155.0, \"windchill\": 16.7, \"barometric_pressure_qfe\": 962.3499999999999, \"precipitation\": 0.0, \"dew_point\": 12.9, \"global_radiation\": 39.0, \"humidity\": 69.0, \"water_level\": 405.91}, {\"air_temperature\": 23.2, \"water_temperature\": 23.7, \"wind_gust_max_10min\": 2.6, \"wind_speed_avg_10min\": 1.6, \"wind_force_avg_10min\": 1.6, \"wind_direction\": 157.5, \"windchill\": 22.9, \"barometric_pressure_qfe\": 970.9, \"precipitation\": 0.0, \"dew_point\": 15.55, \"global_radiation\": 72.5, \"humidity\": 67.0, \"water_level\": 405.92}, {\"air_temperature\": 20.1, \"water_temperature\": 23.0, \"wind_gust_max_10min\": 3.9, \"wind_speed_avg_10min\": 2.1, \"wind_force_avg_10min\": 2.1, \"wind_direction\": 200.0, \"windchill\": 19.1, \"barometric_pressure_qfe\": 970.0, \"precipitation\": 0.0, \"dew_point\": 14.4, \"global_radiation\": 64.0, \"humidity\": 65.0, \"water_level\": 405.93}, {\"air_temperature\": 21.2, \"water_temperature\": 23.7, \"wind_gust_max_10min\": 3.3, \"wind_speed_avg_10min\": 2.0, \"wind_force_avg_10min\": 2.0, \"wind_direction\": 155.0, \"windchill\": 20.3, \"barometric_pressure_qfe\": 967.8, \"precipitation\": 0.0, \"dew_point\": 16.0, \"global_radiation\": 60.0, \"humidity\": 71.0, \"water_level\": 405.98}, {\"air_temperature\": 17.7, \"water_temperature\": 21.9, \"wind_gust_max_10min\": 4.0, \"wind_speed_avg_10min\": 2.3, \"wind_force_avg_10min\": 2.3, \"wind_direction\": 161.0, \"windchill\": 16.45, \"barometric_pressure_qfe\": 965.9, \"precipitation\": 0.0, \"dew_point\": 14.2, \"global_radiation\": 40.0, \"humidity\": 81.0, \"water_level\": 406.04}, {\"air_temperature\": 23.1, \"water_temperature\": 23.0, \"wind_gust_max_10min\": 3.4, \"wind_speed_avg_10min\": 1.9, \"wind_force_avg_10min\": 1.9, \"wind_direction\": 167.0, \"windchill\": 22.6, \"barometric_pressure_qfe\": 969.1, \"precipitation\": 0.0, \"dew_point\": 18.0, \"global_radiation\": 55.0, \"humidity\": 70.0, \"water_level\": 406.01}, {\"air_temperature\": 16.5, \"water_temperature\": 21.9, \"wind_gust_max_10min\": 2.9, \"wind_speed_avg_10min\": 1.6, \"wind_force_avg_10min\": 1.6, \"wind_direction\": 160.5, \"windchill\": 16.2, \"barometric_pressure_qfe\": 971.0, \"precipitation\": 0.0, \"dew_point\": 13.2, \"global_radiation\": 25.5, \"humidity\": 85.0, \"water_level\": 406.0}, {\"air_temperature\": 21.1, \"water_temperature\": 22.7, \"wind_gust_max_10min\": 2.9, \"wind_speed_avg_10min\": 1.8, \"wind_force_avg_10min\": 1.8, \"wind_direction\": 167.0, \"windchill\": 20.3, \"barometric_pressure_qfe\": 971.8, \"precipitation\": 0.0, \"dew_point\": 16.5, \"global_radiation\": 50.0, \"humidity\": 71.0, \"water_level\": 406.01}, {\"air_temperature\": 20.8, \"water_temperature\": 22.9, \"wind_gust_max_10min\": 2.3499999999999996, \"wind_speed_avg_10min\": 1.6, \"wind_force_avg_10min\": 1.6, \"wind_direction\": 156.0, \"windchill\": 20.6, \"barometric_pressure_qfe\": 970.4, \"precipitation\": 0.0, \"dew_point\": 16.7, \"global_radiation\": 31.0, \"humidity\": 73.0, \"water_level\": 406.01}, {\"air_temperature\": 17.1, \"water_temperature\": 23.4, \"wind_gust_max_10min\": 2.8, \"wind_speed_avg_10min\": 1.7, \"wind_force_avg_10min\": 1.7, \"wind_direction\": 179.5, \"windchill\": 16.5, \"barometric_pressure_qfe\": 969.8499999999999, \"precipitation\": 0.0, \"dew_point\": 14.0, \"global_radiation\": 20.5, \"humidity\": 87.0, \"water_level\": 405.99}, {\"air_temperature\": 16.3, \"water_temperature\": 21.0, \"wind_gust_max_10min\": 3.4, \"wind_speed_avg_10min\": 2.0, \"wind_force_avg_10min\": 2.0, \"wind_direction\": 160.5, \"windchill\": 15.3, \"barometric_pressure_qfe\": 969.0, \"precipitation\": 0.0, \"dew_point\": 11.0, \"global_radiation\": 10.0, \"humidity\": 74.0, \"water_level\": 406.06}, {\"air_temperature\": 12.9, \"water_temperature\": 18.5, \"wind_gust_max_10min\": 4.1, \"wind_speed_avg_10min\": 2.1500000000000004, \"wind_force_avg_10min\": 2.1500000000000004, \"wind_direction\": 147.0, \"windchill\": 11.350000000000001, \"barometric_pressure_qfe\": 965.45, \"precipitation\": 0.0, \"dew_point\": 8.5, \"global_radiation\": 5.0, \"humidity\": 73.0, \"water_level\": 406.05}, {\"air_temperature\": 13.3, \"water_temperature\": 17.4, \"wind_gust_max_10min\": 2.6, \"wind_speed_avg_10min\": 1.6, \"wind_force_avg_10min\": 1.6, \"wind_direction\": 174.0, \"windchill\": 12.3, \"barometric_pressure_qfe\": 972.3, \"precipitation\": 0.0, \"dew_point\": 8.8, \"global_radiation\": 18.0, \"humidity\": 77.0, \"water_level\": 406.05}, {\"air_temperature\": 15.1, \"water_temperature\": 17.8, \"wind_gust_max_10min\": 2.1, \"wind_speed_avg_10min\": 1.4, \"wind_force_avg_10min\": 1.4, \"wind_direction\": 169.0, \"windchill\": 14.9, \"barometric_pressure_qfe\": 973.6, \"precipitation\": 0.0, \"dew_point\": 12.7, \"global_radiation\": 0.0, \"humidity\": 85.0, \"water_level\": 406.01}, {\"air_temperature\": 12.4, \"water_temperature\": 17.1, \"wind_gust_max_10min\": 3.3, \"wind_speed_avg_10min\": 1.8, \"wind_force_avg_10min\": 1.8, \"wind_direction\": 220.0, \"windchill\": 11.9, \"barometric_pressure_qfe\": 973.0, \"precipitation\": 0.0, \"dew_point\": 9.0, \"global_radiation\": 0.0, \"humidity\": 77.0, \"water_level\": 406.04}, {\"air_temperature\": 13.2, \"water_temperature\": 16.3, \"wind_gust_max_10min\": 2.0, \"wind_speed_avg_10min\": 1.3, \"wind_force_avg_10min\": 1.3, \"wind_direction\": 169.0, \"windchill\": 12.9, \"barometric_pressure_qfe\": 977.6, \"precipitation\": 0.0, \"dew_point\": 10.5, \"global_radiation\": 0.0, \"humidity\": 87.0, \"water_level\": 406.0}, {\"air_temperature\": 13.1, \"water_temperature\": 16.2, \"wind_gust_max_10min\": 2.3, \"wind_speed_avg_10min\": 1.6, \"wind_force_avg_10min\": 1.6, \"wind_direction\": 165.0, \"windchill\": 12.6, \"barometric_pressure_qfe\": 970.3, \"precipitation\": 0.0, \"dew_point\": 9.8, \"global_radiation\": 0.0, \"humidity\": 78.0, \"water_level\": 405.94}, {\"air_temperature\": 9.9, \"water_temperature\": 15.0, \"wind_gust_max_10min\": 2.9, \"wind_speed_avg_10min\": 1.8, \"wind_force_avg_10min\": 1.8, \"wind_direction\": 166.0, \"windchill\": 9.1, \"barometric_pressure_qfe\": 977.2, \"precipitation\": 0.0, \"dew_point\": 7.6, \"global_radiation\": 0.0, \"humidity\": 84.0, \"water_level\": 405.92}, {\"air_temperature\": 8.6, \"water_temperature\": 13.0, \"wind_gust_max_10min\": 2.8, \"wind_speed_avg_10min\": 1.8, \"wind_force_avg_10min\": 1.8, \"wind_direction\": 159.0, \"windchill\": 7.6, \"barometric_pressure_qfe\": 969.9, \"precipitation\": 0.0, \"dew_point\": 5.4, \"global_radiation\": 0.0, \"humidity\": 82.0, \"water_level\": 405.92}, {\"air_temperature\": 6.4, \"water_temperature\": 11.9, \"wind_gust_max_10min\": 4.85, \"wind_speed_avg_10min\": 2.3, \"wind_force_avg_10min\": 2.3, \"wind_direction\": 160.0, \"windchill\": 4.7, \"barometric_pressure_qfe\": 970.1, \"precipitation\": 0.0, \"dew_point\": 4.2, \"global_radiation\": 0.0, \"humidity\": 87.0, \"water_level\": 405.96}, {\"air_temperature\": 3.2, \"water_temperature\": 10.2, \"wind_gust_max_10min\": 3.3, \"wind_speed_avg_10min\": 1.9, \"wind_force_avg_10min\": 1.9, \"wind_direction\": 166.5, \"windchill\": 1.8, \"barometric_pressure_qfe\": 975.1, \"precipitation\": 0.0, \"dew_point\": 0.95, \"global_radiation\": 0.0, \"humidity\": 86.0, \"water_level\": 405.98}, {\"air_temperature\": 6.2, \"water_temperature\": 9.5, \"wind_gust_max_10min\": 4.1, \"wind_speed_avg_10min\": 2.2, \"wind_force_avg_10min\": 2.2, \"wind_direction\": 157.0, \"windchill\": 3.8, \"barometric_pressure_qfe\": 968.8, \"precipitation\": 0.0, \"dew_point\": 3.1, \"global_radiation\": 0.0, \"humidity\": 80.0, \"water_level\": 405.94}, {\"air_temperature\": 1.6, \"water_temperature\": 8.3, \"wind_gust_max_10min\": 4.85, \"wind_speed_avg_10min\": 2.5, \"wind_force_avg_10min\": 2.5, \"wind_direction\": 112.5, \"windchill\": -0.5, \"barometric_pressure_qfe\": 965.7, \"precipitation\": 0.0, \"dew_point\": -2.1, \"global_radiation\": 0.0, \"humidity\": 76.0, \"water_level\": 405.94}, {\"air_temperature\": 1.7, \"water_temperature\": 7.5, \"wind_gust_max_10min\": 3.6, \"wind_speed_avg_10min\": 2.1, \"wind_force_avg_10min\": 2.1, \"wind_direction\": 151.0, \"windchill\": -0.6, \"barometric_pressure_qfe\": 972.5, \"precipitation\": 0.0, \"dew_point\": 0.0, \"global_radiation\": 1.0, \"humidity\": 88.0, \"water_level\": 405.92}, {\"air_temperature\": 2.9, \"water_temperature\": 6.5, \"wind_gust_max_10min\": 4.55, \"wind_speed_avg_10min\": 2.2, \"wind_force_avg_10min\": 2.2, \"wind_direction\": 168.0, \"windchill\": 0.6, \"barometric_pressure_qfe\": 958.3499999999999, \"precipitation\": 0.0, \"dew_point\": 0.3, \"global_radiation\": 0.0, \"humidity\": 85.0, \"water_level\": 405.95}, {\"air_temperature\": 2.7, \"water_temperature\": 6.3, \"wind_gust_max_10min\": 2.5, \"wind_speed_avg_10min\": 1.6, \"wind_force_avg_10min\": 1.6, \"wind_direction\": 154.0, \"windchill\": 2.2, \"barometric_pressure_qfe\": 985.2, \"precipitation\": 0.0, \"dew_point\": 1.1, \"global_radiation\": 0.0, \"humidity\": 93.0, \"water_level\": 405.89}, {\"air_temperature\": 2.3, \"water_temperature\": 6.0, \"wind_gust_max_10min\": 5.3, \"wind_speed_avg_10min\": 2.8, \"wind_force_avg_10min\": 2.8, \"wind_direction\": 150.0, \"windchill\": 0.1, \"barometric_pressure_qfe\": 963.0, \"precipitation\": 0.0, \"dew_point\": 0.3, \"global_radiation\": 0.0, \"humidity\": 83.0, \"water_level\": 405.83}, {\"air_temperature\": 6.7, \"water_temperature\": 6.2, \"wind_gust_max_10min\": 6.6, \"wind_speed_avg_10min\": 2.8, \"wind_force_avg_10min\": 2.8, \"wind_direction\": 155.0, \"windchill\": 4.2, \"barometric_pressure_qfe\": 961.55, \"precipitation\": 0.0, \"dew_point\": 4.0, \"global_radiation\": 1.0, \"humidity\": 85.0, \"water_level\": 405.91}, {\"air_temperature\": 4.4, \"water_temperature\": 6.0, \"wind_gust_max_10min\": 3.2, \"wind_speed_avg_10min\": 1.8, \"wind_force_avg_10min\": 1.8, \"wind_direction\": 159.0, \"windchill\": 3.3, \"barometric_pressure_qfe\": 969.5, \"precipitation\": 0.0, \"dew_point\": 2.7, \"global_radiation\": 0.0, \"humidity\": 86.0, \"water_level\": 405.92}, {\"air_temperature\": 4.3, \"water_temperature\": 5.5, \"wind_gust_max_10min\": 3.1, \"wind_speed_avg_10min\": 1.9, \"wind_force_avg_10min\": 1.9, \"wind_direction\": 55.5, \"windchill\": 2.3, \"barometric_pressure_qfe\": 963.6, \"precipitation\": 0.0, \"dew_point\": 1.1, \"global_radiation\": 1.0, \"humidity\": 80.0, \"water_level\": 405.86}, {\"air_temperature\": 6.6, \"water_temperature\": 5.6, \"wind_gust_max_10min\": 3.7, \"wind_speed_avg_10min\": 2.3, \"wind_force_avg_10min\": 2.3, \"wind_direction\": 161.0, \"windchill\": 4.8, \"barometric_pressure_qfe\": 974.55, \"precipitation\": 0.0, \"dew_point\": 4.1, \"global_radiation\": 0.0, \"humidity\": 87.0, \"water_level\": 405.94}, {\"air_temperature\": 4.1, \"water_temperature\": 5.7, \"wind_gust_max_10min\": 3.2, \"wind_speed_avg_10min\": 1.8, \"wind_force_avg_10min\": 1.8, \"wind_direction\": 163.0, \"windchill\": 2.4, \"barometric_pressure_qfe\": 962.8, \"precipitation\": 0.0, \"dew_point\": 1.75, \"global_radiation\": 0.0, \"humidity\": 81.0, \"water_level\": 405.81}, {\"air_temperature\": 1.2, \"water_temperature\": 5.1, \"wind_gust_max_10min\": 3.2, \"wind_speed_avg_10min\": 1.9, \"wind_force_avg_10min\": 1.9, \"wind_direction\": 189.5, \"windchill\": 0.1, \"barometric_pressure_qfe\": 966.8, \"precipitation\": 0.0, \"dew_point\": -1.6, \"global_radiation\": 0.0, \"humidity\": 83.0, \"water_level\": 405.73}, {\"air_temperature\": 1.6, \"water_temperature\": 5.0, \"wind_gust_max_10min\": 3.3, \"wind_speed_avg_10min\": 2.0, \"wind_force_avg_10min\": 2.0, \"wind_direction\": 161.0, \"windchill\": -0.9, \"barometric_pressure_qfe\": 969.8, \"precipitation\": 0.0, \"dew_point\": -0.7, \"global_radiation\": 0.0, \"humidity\": 89.0, \"water_level\": 405.71}, {\"air_temperature\": -0.9, \"water_temperature\": 4.6, \"wind_gust_max_10min\": 7.7, \"wind_speed_avg_10min\": 4.7, \"wind_force_avg_10min\": 4.7, \"wind_direction\": 39.0, \"windchill\": -9.6, \"barometric_pressure_qfe\": 966.2, \"precipitation\": 0.0, \"dew_point\": -4.0, \"global_radiation\": 0.0, \"humidity\": 79.0, \"water_level\": 405.73}, {\"air_temperature\": -4.75, \"water_temperature\": 3.8, \"wind_gust_max_10min\": 5.0, \"wind_speed_avg_10min\": 2.7, \"wind_force_avg_10min\": 2.7, \"wind_direction\": 69.5, \"windchill\": -8.850000000000001, \"barometric_pressure_qfe\": 954.6, \"precipitation\": 0.0, \"dew_point\": -8.8, \"global_radiation\": 0.0, \"humidity\": 75.0, \"water_level\": 405.7}, {\"air_temperature\": 7.0, \"water_temperature\": 5.0, \"wind_gust_max_10min\": 3.8, \"wind_speed_avg_10min\": 2.2, \"wind_force_avg_10min\": 2.2, \"wind_direction\": 158.0, \"windchill\": 4.8, \"barometric_pressure_qfe\": 953.5, \"precipitation\": 0.0, \"dew_point\": 2.9, \"global_radiation\": 1.0, \"humidity\": 82.0, \"water_level\": 405.71}, {\"air_temperature\": 6.5, \"water_temperature\": 5.2, \"wind_gust_max_10min\": 4.9, \"wind_speed_avg_10min\": 2.5, \"wind_force_avg_10min\": 2.5, \"wind_direction\": 160.0, \"windchill\": 4.4, \"barometric_pressure_qfe\": 954.0, \"precipitation\": 0.0, \"dew_point\": 3.3, \"global_radiation\": 2.0, \"humidity\": 83.0, \"water_level\": 405.75}, {\"air_temperature\": 1.6, \"water_temperature\": 4.9, \"wind_gust_max_10min\": 3.4, \"wind_speed_avg_10min\": 2.1, \"wind_force_avg_10min\": 2.1, \"wind_direction\": 133.0, \"windchill\": -0.8, \"barometric_pressure_qfe\": 961.0, \"precipitation\": 0.0, \"dew_point\": -2.1, \"global_radiation\": 3.0, \"humidity\": 79.0, \"water_level\": 405.77}, {\"air_temperature\": 6.2, \"water_temperature\": 6.1, \"wind_gust_max_10min\": 4.4, \"wind_speed_avg_10min\": 2.6, \"wind_force_avg_10min\": 2.6, \"wind_direction\": 159.0, \"windchill\": 4.2, \"barometric_pressure_qfe\": 961.0, \"precipitation\": 0.0, \"dew_point\": 3.8, \"global_radiation\": 7.0, \"humidity\": 87.0, \"water_level\": 405.85}, {\"air_temperature\": 9.7, \"water_temperature\": 6.3, \"wind_gust_max_10min\": 3.0, \"wind_speed_avg_10min\": 1.7, \"wind_force_avg_10min\": 1.7, \"wind_direction\": 159.0, \"windchill\": 8.1, \"barometric_pressure_qfe\": 963.5, \"precipitation\": 0.0, \"dew_point\": 3.9, \"global_radiation\": 12.0, \"humidity\": 69.0, \"water_level\": 405.9}, {\"air_temperature\": 12.7, \"water_temperature\": 8.6, \"wind_gust_max_10min\": 2.7, \"wind_speed_avg_10min\": 1.7, \"wind_force_avg_10min\": 1.7, \"wind_direction\": 165.0, \"windchill\": 11.0, \"barometric_pressure_qfe\": 958.3, \"precipitation\": 0.0, \"dew_point\": 5.2, \"global_radiation\": 40.0, \"humidity\": 63.0, \"water_level\": 405.95}, {\"air_temperature\": 15.5, \"water_temperature\": 11.9, \"wind_gust_max_10min\": 2.3, \"wind_speed_avg_10min\": 1.7, \"wind_force_avg_10min\": 1.7, \"wind_direction\": 156.0, \"windchill\": 14.6, \"barometric_pressure_qfe\": 973.8, \"precipitation\": 0.0, \"dew_point\": 9.1, \"global_radiation\": 46.0, \"humidity\": 68.0, \"water_level\": 405.96}, {\"air_temperature\": 15.5, \"water_temperature\": 15.2, \"wind_gust_max_10min\": 3.9, \"wind_speed_avg_10min\": 2.2, \"wind_force_avg_10min\": 2.2, \"wind_direction\": 169.0, \"windchill\": 14.4, \"barometric_pressure_qfe\": 967.8, \"precipitation\": 0.0, \"dew_point\": 9.2, \"global_radiation\": 41.0, \"humidity\": 63.0, \"water_level\": 406.01}, {\"air_temperature\": 14.4, \"water_temperature\": 12.8, \"wind_gust_max_10min\": 4.4, \"wind_speed_avg_10min\": 2.4, \"wind_force_avg_10min\": 2.4, \"wind_direction\": 81.0, \"windchill\": 12.8, \"barometric_pressure_qfe\": 965.7, \"precipitation\": 0.0, \"dew_point\": 8.4, \"global_radiation\": 33.5, \"humidity\": 70.0, \"water_level\": 406.0}, {\"air_temperature\": 15.7, \"water_temperature\": 16.4, \"wind_gust_max_10min\": 3.4, \"wind_speed_avg_10min\": 1.9, \"wind_force_avg_10min\": 1.9, \"wind_direction\": 152.0, \"windchill\": 15.2, \"barometric_pressure_qfe\": 963.8, \"precipitation\": 0.0, \"dew_point\": 10.3, \"global_radiation\": 52.5, \"humidity\": 69.0, \"water_level\": 406.02}, {\"air_temperature\": 13.0, \"water_temperature\": 15.0, \"wind_gust_max_10min\": 3.2, \"wind_speed_avg_10min\": 1.9, \"wind_force_avg_10min\": 1.9, \"wind_direction\": 153.0, \"windchill\": 12.3, \"barometric_pressure_qfe\": 968.7, \"precipitation\": 0.0, \"dew_point\": 10.5, \"global_radiation\": 38.0, \"humidity\": 84.0, \"water_level\": 406.04}, {\"air_temperature\": 19.5, \"water_temperature\": 18.5, \"wind_gust_max_10min\": 2.5, \"wind_speed_avg_10min\": 1.6, \"wind_force_avg_10min\": 1.6, \"wind_direction\": 144.0, \"windchill\": 19.1, \"barometric_pressure_qfe\": 969.3, \"precipitation\": 0.0, \"dew_point\": 13.1, \"global_radiation\": 85.0, \"humidity\": 69.0, \"water_level\": 406.02}, {\"air_temperature\": 20.4, \"water_temperature\": 20.9, \"wind_gust_max_10min\": 3.2, \"wind_speed_avg_10min\": 1.8, \"wind_force_avg_10min\": 1.8, \"wind_direction\": 161.0, \"windchill\": 20.2, \"barometric_pressure_qfe\": 968.2, \"precipitation\": 0.0, \"dew_point\": 14.5, \"global_radiation\": 103.5, \"humidity\": 70.0, \"water_level\": 406.04}, {\"air_temperature\": 21.15, \"water_temperature\": 22.6, \"wind_gust_max_10min\": 3.2, \"wind_speed_avg_10min\": 1.9, \"wind_force_avg_10min\": 1.9, \"wind_direction\": 156.0, \"windchill\": 21.1, \"barometric_pressure_qfe\": 964.6, \"precipitation\": 0.0, \"dew_point\": 16.2, \"global_radiation\": 61.0, \"humidity\": 73.0, \"water_level\": 406.05}, {\"air_temperature\": 18.8, \"water_temperature\": 21.5, \"wind_gust_max_10min\": 3.1, \"wind_speed_avg_10min\": 1.8, \"wind_force_avg_10min\": 1.8, \"wind_direction\": 198.5, \"windchill\": 18.6, \"barometric_pressure_qfe\": 967.8, \"precipitation\": 0.0, \"dew_point\": 12.7, \"global_radiation\": 63.5, \"humidity\": 76.0, \"water_level\": 406.04}, {\"air_temperature\": 19.9, \"water_temperature\": 21.4, \"wind_gust_max_10min\": 4.1, \"wind_speed_avg_10min\": 2.2, \"wind_force_avg_10min\": 2.2, \"wind_direction\": 170.0, \"windchill\": 19.0, \"barometric_pressure_qfe\": 974.1, \"precipitation\": 0.0, \"dew_point\": 12.45, \"global_radiation\": 120.5, \"humidity\": 55.0, \"water_level\": 406.01}, {\"air_temperature\": 20.3, \"water_temperature\": 21.4, \"wind_gust_max_10min\": 5.3, \"wind_speed_avg_10min\": 3.1, \"wind_force_avg_10min\": 3.1, \"wind_direction\": 51.0, \"windchill\": 18.6, \"barometric_pressure_qfe\": 969.8, \"precipitation\": 0.0, \"dew_point\": 12.6, \"global_radiation\": 97.0, \"humidity\": 61.0, \"water_level\": 406.0}, {\"air_temperature\": 20.5, \"water_temperature\": 22.9, \"wind_gust_max_10min\": 3.0, \"wind_speed_avg_10min\": 1.7, \"wind_force_avg_10min\": 1.7, \"wind_direction\": 147.0, \"windchill\": 20.6, \"barometric_pressure_qfe\": 969.6, \"precipitation\": 0.0, \"dew_point\": 15.7, \"global_radiation\": 70.0, \"humidity\": 73.0, \"water_level\": 405.99}, {\"air_temperature\": 22.0, \"water_temperature\": 23.1, \"wind_gust_max_10min\": 3.8, \"wind_speed_avg_10min\": 2.0, \"wind_force_avg_10min\": 2.0, \"wind_direction\": 272.0, \"windchill\": 21.1, \"barometric_pressure_qfe\": 969.4, \"precipitation\": 0.0, \"dew_point\": 11.7, \"global_radiation\": 100.0, \"humidity\": 54.0, \"water_level\": 405.98}, {\"air_temperature\": 21.7, \"water_temperature\": 24.2, \"wind_gust_max_10min\": 3.1, \"wind_speed_avg_10min\": 1.8, \"wind_force_avg_10min\": 1.8, \"wind_direction\": 159.0, \"windchill\": 21.4, \"barometric_pressure_qfe\": 967.2, \"precipitation\": 0.0, \"dew_point\": 14.4, \"global_radiation\": 72.5, \"humidity\": 64.0, \"water_level\": 405.93}, {\"air_temperature\": 23.7, \"water_temperature\": 24.9, \"wind_gust_max_10min\": 2.7, \"wind_speed_avg_10min\": 1.5, \"wind_force_avg_10min\": 1.5, \"wind_direction\": 154.0, \"windchill\": 23.7, \"barometric_pressure_qfe\": 967.0, \"precipitation\": 0.0, \"dew_point\": 15.0, \"global_radiation\": 76.0, \"humidity\": 60.0, \"water_level\": 405.91}, {\"air_temperature\": 26.8, \"water_temperature\": 26.1, \"wind_gust_max_10min\": 3.3, \"wind_speed_avg_10min\": 1.9, \"wind_force_avg_10min\": 1.9, \"wind_direction\": 124.5, \"windchill\": 27.0, \"barometric_pressure_qfe\": 969.8, \"precipitation\": 0.0, \"dew_point\": 17.25, \"global_radiation\": 83.5, \"humidity\": 56.0, \"water_level\": 405.87}, {\"air_temperature\": 23.2, \"water_temperature\": 26.2, \"wind_gust_max_10min\": 3.1, \"wind_speed_avg_10min\": 1.9, \"wind_force_avg_10min\": 1.9, \"wind_direction\": 158.0, \"windchill\": 23.2, \"barometric_pressure_qfe\": 968.55, \"precipitation\": 0.0, \"dew_point\": 15.45, \"global_radiation\": 40.0, \"humidity\": 60.0, \"water_level\": 405.86}, {\"air_temperature\": 21.5, \"water_temperature\": 25.1, \"wind_gust_max_10min\": 2.9, \"wind_speed_avg_10min\": 1.6, \"wind_force_avg_10min\": 1.6, \"wind_direction\": 162.0, \"windchill\": 21.2, \"barometric_pressure_qfe\": 970.8, \"precipitation\": 0.0, \"dew_point\": 15.5, \"global_radiation\": 46.0, \"humidity\": 69.0, \"water_level\": 405.82}, {\"air_temperature\": 20.5, \"water_temperature\": 25.2, \"wind_gust_max_10min\": 3.3, \"wind_speed_avg_10min\": 2.0, \"wind_force_avg_10min\": 2.0, \"wind_direction\": 158.0, \"windchill\": 20.5, \"barometric_pressure_qfe\": 969.0, \"precipitation\": 0.0, \"dew_point\": 15.4, \"global_radiation\": 36.5, \"humidity\": 67.5, \"water_level\": 405.81}, {\"air_temperature\": 16.8, \"water_temperature\": 23.2, \"wind_gust_max_10min\": 3.5, \"wind_speed_avg_10min\": 2.0, \"wind_force_avg_10min\": 2.0, \"wind_direction\": 203.0, \"windchill\": 16.5, \"barometric_pressure_qfe\": 971.25, \"precipitation\": 0.0, \"dew_point\": 12.9, \"global_radiation\": 11.5, \"humidity\": 80.0, \"water_level\": 405.87}, {\"air_temperature\": 18.5, \"water_temperature\": 21.7, \"wind_gust_max_10min\": 2.4, \"wind_speed_avg_10min\": 1.5, \"wind_force_avg_10min\": 1.5, \"wind_direction\": 197.0, \"windchill\": 18.4, \"barometric_pressure_qfe\": 968.7, \"precipitation\": 0.0, \"dew_point\": 13.2, \"global_radiation\": 18.5, \"humidity\": 73.0, \"water_level\": 405.99}, {\"air_temperature\": 19.3, \"water_temperature\": 22.6, \"wind_gust_max_10min\": 2.5, \"wind_speed_avg_10min\": 1.5, \"wind_force_avg_10min\": 1.5, \"wind_direction\": 165.0, \"windchill\": 19.3, \"barometric_pressure_qfe\": 974.6, \"precipitation\": 0.0, \"dew_point\": 14.6, \"global_radiation\": 11.5, \"humidity\": 73.0, \"water_level\": 405.97}, {\"air_temperature\": 19.0, \"water_temperature\": 22.2, \"wind_gust_max_10min\": 2.55, \"wind_speed_avg_10min\": 1.7, \"wind_force_avg_10min\": 1.7, \"wind_direction\": 164.0, \"windchill\": 18.6, \"barometric_pressure_qfe\": 972.0, \"precipitation\": 0.0, \"dew_point\": 14.4, \"global_radiation\": 4.0, \"humidity\": 73.0, \"water_level\": 405.95}, {\"air_temperature\": 13.2, \"water_temperature\": 19.8, \"wind_gust_max_10min\": 3.5, \"wind_speed_avg_10min\": 2.2, \"wind_force_avg_10min\": 2.2, \"wind_direction\": 117.0, \"windchill\": 11.2, \"barometric_pressure_qfe\": 977.5, \"precipitation\": 0.0, \"dew_point\": 8.8, \"global_radiation\": 2.0, \"humidity\": 70.0, \"water_level\": 405.95}, {\"air_temperature\": 12.9, \"water_temperature\": 18.5, \"wind_gust_max_10min\": 2.7, \"wind_speed_avg_10min\": 1.6, \"wind_force_avg_10min\": 1.6, \"wind_direction\": 273.0, \"windchill\": 12.2, \"barometric_pressure_qfe\": 974.1, \"precipitation\": 0.0, \"dew_point\": 10.2, \"global_radiation\": 1.0, \"humidity\": 77.0, \"water_level\": 405.95}, {\"air_temperature\": 14.5, \"water_temperature\": 18.3, \"wind_gust_max_10min\": 2.4, \"wind_speed_avg_10min\": 1.5, \"wind_force_avg_10min\": 1.5, \"wind_direction\": 271.0, \"windchill\": 14.3, \"barometric_pressure_qfe\": 971.0, \"precipitation\": 0.0, \"dew_point\": 12.4, \"global_radiation\": 0.0, \"humidity\": 86.0, \"water_level\": 405.92}, {\"air_temperature\": 12.4, \"water_temperature\": 17.6, \"wind_gust_max_10min\": 2.8, \"wind_speed_avg_10min\": 1.8, \"wind_force_avg_10min\": 1.8, \"wind_direction\": 286.0, \"windchill\": 11.9, \"barometric_pressure_qfe\": 971.1, \"precipitation\": 0.0, \"dew_point\": 9.1, \"global_radiation\": 0.0, \"humidity\": 79.0, \"water_level\": 405.91}, {\"air_temperature\": 9.9, \"water_temperature\": 16.3, \"wind_gust_max_10min\": 3.2, \"wind_speed_avg_10min\": 1.9, \"wind_force_avg_10min\": 1.9, \"wind_direction\": 171.0, \"windchill\": 9.149999999999999, \"barometric_pressure_qfe\": 972.1, \"precipitation\": 0.0, \"dew_point\": 6.0, \"global_radiation\": 0.0, \"humidity\": 80.0, \"water_level\": 405.85}, {\"air_temperature\": 8.8, \"water_temperature\": 13.7, \"wind_gust_max_10min\": 3.8, \"wind_speed_avg_10min\": 2.2, \"wind_force_avg_10min\": 2.2, \"wind_direction\": 178.0, \"windchill\": 7.1, \"barometric_pressure_qfe\": 965.0, \"precipitation\": 0.0, \"dew_point\": 6.5, \"global_radiation\": 0.0, \"humidity\": 85.0, \"water_level\": 405.86}, {\"air_temperature\": 10.1, \"water_temperature\": 13.1, \"wind_gust_max_10min\": 2.45, \"wind_speed_avg_10min\": 1.5, \"wind_force_avg_10min\": 1.5, \"wind_direction\": 206.5, \"windchill\": 9.7, \"barometric_pressure_qfe\": 964.0, \"precipitation\": 0.0, \"dew_point\": 8.1, \"global_radiation\": 0.0, \"humidity\": 89.0, \"water_level\": 405.84}, {\"air_temperature\": 7.4, \"water_temperature\": 12.6, \"wind_gust_max_10min\": 3.4, \"wind_speed_avg_10min\": 2.0, \"wind_force_avg_10min\": 2.0, \"wind_direction\": 96.0, \"windchill\": 6.2, \"barometric_pressure_qfe\": 976.6, \"precipitation\": 0.0, \"dew_point\": 6.4, \"global_radiation\": 0.0, \"humidity\": 90.0, \"water_level\": 405.8}, {\"air_temperature\": 2.4, \"water_temperature\": 10.3, \"wind_gust_max_10min\": 0.0, \"wind_speed_avg_10min\": 0.0, \"wind_force_avg_10min\": 0.0, \"wind_direction\": 0.0, \"windchill\": 2.3, \"barometric_pressure_qfe\": 964.6500000000001, \"precipitation\": 0.0, \"dew_point\": 1.6, \"global_radiation\": 0.0, \"humidity\": 92.0, \"water_level\": 405.73}, {\"air_temperature\": 4.4, \"water_temperature\": 9.4, \"wind_gust_max_10min\": 0.0, \"wind_speed_avg_10min\": 0.0, \"wind_force_avg_10min\": 0.0, \"wind_direction\": 0.0, \"windchill\": 4.4, \"barometric_pressure_qfe\": 969.0, \"precipitation\": 0.0, \"dew_point\": 3.4, \"global_radiation\": 0.0, \"humidity\": 94.0, \"water_level\": 405.72}, {\"air_temperature\": 9.1, \"water_temperature\": 9.3, \"wind_gust_max_10min\": 6.1, \"wind_speed_avg_10min\": 2.6, \"wind_force_avg_10min\": 2.6, \"wind_direction\": 146.0, \"windchill\": 7.6, \"barometric_pressure_qfe\": 969.6, \"precipitation\": 0.0, \"dew_point\": 7.0, \"global_radiation\": 1.0, \"humidity\": 84.0, \"water_level\": 405.93}, {\"air_temperature\": 1.1, \"water_temperature\": 7.7, \"wind_gust_max_10min\": 4.0, \"wind_speed_avg_10min\": 2.2, \"wind_force_avg_10min\": 2.2, \"wind_direction\": 150.5, \"windchill\": -1.5, \"barometric_pressure_qfe\": 972.05, \"precipitation\": 0.0, \"dew_point\": -2.0, \"global_radiation\": 0.0, \"humidity\": 78.0, \"water_level\": 405.92}, {\"air_temperature\": 5.9, \"water_temperature\": 7.1, \"wind_gust_max_10min\": 4.7, \"wind_speed_avg_10min\": 2.2, \"wind_force_avg_10min\": 2.2, \"wind_direction\": 159.5, \"windchill\": 3.9, \"barometric_pressure_qfe\": 972.4, \"precipitation\": 0.0, \"dew_point\": 3.0, \"global_radiation\": 1.0, \"humidity\": 88.0, \"water_level\": 405.88}, {\"air_temperature\": 1.9, \"water_temperature\": 6.6, \"wind_gust_max_10min\": 2.7, \"wind_speed_avg_10min\": 1.6, \"wind_force_avg_10min\": 1.6, \"wind_direction\": 175.0, \"windchill\": 1.3, \"barometric_pressure_qfe\": 983.4, \"precipitation\": 0.0, \"dew_point\": 0.0, \"global_radiation\": 0.0, \"humidity\": 88.0, \"water_level\": 405.945}, {\"air_temperature\": 2.8, \"water_temperature\": 6.3, \"wind_gust_max_10min\": 2.6, \"wind_speed_avg_10min\": 1.5, \"wind_force_avg_10min\": 1.0, \"wind_direction\": 162.0, \"windchill\": 1.7, \"barometric_pressure_qfe\": 984.5, \"precipitation\": 0.0, \"dew_point\": 0.9, \"global_radiation\": 0.0, \"humidity\": 89.0, \"water_level\": 405.83}, {\"air_temperature\": 2.3, \"water_temperature\": 5.8, \"wind_gust_max_10min\": 3.8, \"wind_speed_avg_10min\": 2.1, \"wind_force_avg_10min\": 2.0, \"wind_direction\": 218.0, \"windchill\": -0.4, \"barometric_pressure_qfe\": 973.7, \"precipitation\": 0.0, \"dew_point\": 0.4, \"global_radiation\": 0.0, \"humidity\": 90.0, \"water_level\": 405.84}, {\"air_temperature\": 2.2, \"water_temperature\": 5.5, \"wind_gust_max_10min\": 0.0, \"wind_speed_avg_10min\": 0.0, \"wind_force_avg_10min\": 0.0, \"wind_direction\": 0.0, \"windchill\": 1.6, \"barometric_pressure_qfe\": 967.1, \"precipitation\": 0.0, \"dew_point\": -0.4, \"global_radiation\": 0.0, \"humidity\": 81.0, \"water_level\": 405.88}, {\"air_temperature\": 0.0, \"water_temperature\": 5.0, \"wind_gust_max_10min\": 0.0, \"wind_speed_avg_10min\": 0.0, \"wind_force_avg_10min\": 0.0, \"wind_direction\": 0.0, \"windchill\": -0.9, \"barometric_pressure_qfe\": 962.6, \"precipitation\": 0.0, \"dew_point\": -3.4, \"global_radiation\": 0.0, \"humidity\": 81.0, \"water_level\": 405.78}, {\"air_temperature\": 1.7, \"water_temperature\": 4.8, \"wind_gust_max_10min\": 3.1, \"wind_speed_avg_10min\": 1.8, \"wind_force_avg_10min\": 2.0, \"wind_direction\": 174.0, \"windchill\": 0.2, \"barometric_pressure_qfe\": 952.0, \"precipitation\": 0.0, \"dew_point\": -1.2, \"global_radiation\": 0.0, \"humidity\": 83.0, \"water_level\": 405.74}, {\"air_temperature\": 1.2, \"water_temperature\": 4.7, \"wind_gust_max_10min\": 3.3, \"wind_speed_avg_10min\": 1.9, \"wind_force_avg_10min\": 2.0, \"wind_direction\": 157.0, \"windchill\": -0.4, \"barometric_pressure_qfe\": 973.1500000000001, \"precipitation\": 0.0, \"dew_point\": -0.4, \"global_radiation\": 0.0, \"humidity\": 89.0, \"water_level\": 405.74}, {\"air_temperature\": 2.9, \"water_temperature\": 5.0, \"wind_gust_max_10min\": 1.9, \"wind_speed_avg_10min\": 1.3, \"wind_force_avg_10min\": 1.0, \"wind_direction\": 169.0, \"windchill\": 2.2, \"barometric_pressure_qfe\": 983.0, \"precipitation\": 0.0, \"dew_point\": 0.0, \"global_radiation\": 0.0, \"humidity\": 81.0, \"water_level\": 405.72}, {\"air_temperature\": 6.1, \"water_temperature\": 5.5, \"wind_gust_max_10min\": 2.5, \"wind_speed_avg_10min\": 1.8, \"wind_force_avg_10min\": 2.0, \"wind_direction\": 149.0, \"windchill\": 4.3, \"barometric_pressure_qfe\": 980.1, \"precipitation\": 0.0, \"dew_point\": 1.8, \"global_radiation\": 0.0, \"humidity\": 74.0, \"water_level\": 405.69}, {\"air_temperature\": 7.6, \"water_temperature\": 5.7, \"wind_gust_max_10min\": 3.6, \"wind_speed_avg_10min\": 2.05, \"wind_force_avg_10min\": 2.0, \"wind_direction\": 162.0, \"windchill\": 5.8, \"barometric_pressure_qfe\": 973.5, \"precipitation\": 0.0, \"dew_point\": 3.4, \"global_radiation\": 0.0, \"humidity\": 74.0, \"water_level\": 405.67}, {\"air_temperature\": 8.3, \"water_temperature\": 5.3, \"wind_gust_max_10min\": 7.1, \"wind_speed_avg_10min\": 3.0, \"wind_force_avg_10min\": 2.0, \"wind_direction\": 172.0, \"windchill\": 5.4, \"barometric_pressure_qfe\": 965.0, \"precipitation\": 0.0, \"dew_point\": 2.4, \"global_radiation\": 1.0, \"humidity\": 69.0, \"water_level\": 405.71}, {\"air_temperature\": 6.2, \"water_temperature\": 5.3, \"wind_gust_max_10min\": 7.7, \"wind_speed_avg_10min\": 3.3, \"wind_force_avg_10min\": 2.0, \"wind_direction\": 166.0, \"windchill\": 2.4, \"barometric_pressure_qfe\": 968.2, \"precipitation\": 0.0, \"dew_point\": 1.8, \"global_radiation\": 3.0, \"humidity\": 74.0, \"water_level\": 405.76}, {\"air_temperature\": 6.4, \"water_temperature\": 6.1, \"wind_gust_max_10min\": 2.6, \"wind_speed_avg_10min\": 1.7, \"wind_force_avg_10min\": 2.0, \"wind_direction\": 149.0, \"windchill\": 4.0, \"barometric_pressure_qfe\": 979.3, \"precipitation\": 0.0, \"dew_point\": 0.9, \"global_radiation\": 4.0, \"humidity\": 68.0, \"water_level\": 405.89}, {\"air_temperature\": 8.2, \"water_temperature\": 6.5, \"wind_gust_max_10min\": 4.0, \"wind_speed_avg_10min\": 2.5, \"wind_force_avg_10min\": 2.0, \"wind_direction\": 70.0, \"windchill\": 5.0, \"barometric_pressure_qfe\": 977.75, \"precipitation\": 0.0, \"dew_point\": 1.4, \"global_radiation\": 11.5, \"humidity\": 65.0, \"water_level\": 405.86}, {\"air_temperature\": 8.5, \"water_temperature\": 7.9, \"wind_gust_max_10min\": 3.1500000000000004, \"wind_speed_avg_10min\": 1.9, \"wind_force_avg_10min\": 2.0, \"wind_direction\": 160.0, \"windchill\": 7.15, \"barometric_pressure_qfe\": 957.0, \"precipitation\": 0.0, \"dew_point\": 3.6, \"global_radiation\": 12.5, \"humidity\": 76.0, \"water_level\": 405.91}, {\"air_temperature\": 8.8, \"water_temperature\": 8.3, \"wind_gust_max_10min\": 3.8, \"wind_speed_avg_10min\": 2.2, \"wind_force_avg_10min\": 2.0, \"wind_direction\": 177.5, \"windchill\": 6.6, \"barometric_pressure_qfe\": 966.9, \"precipitation\": 0.0, \"dew_point\": 4.5, \"global_radiation\": 14.0, \"humidity\": 76.0, \"water_level\": 405.94}, {\"air_temperature\": 12.7, \"water_temperature\": 10.7, \"wind_gust_max_10min\": 2.6, \"wind_speed_avg_10min\": 1.6, \"wind_force_avg_10min\": 2.0, \"wind_direction\": 140.0, \"windchill\": 11.9, \"barometric_pressure_qfe\": 972.6, \"precipitation\": 0.0, \"dew_point\": 5.3, \"global_radiation\": 50.0, \"humidity\": 64.0, \"water_level\": 405.94}, {\"air_temperature\": 10.3, \"water_temperature\": 12.6, \"wind_gust_max_10min\": 3.9, \"wind_speed_avg_10min\": 2.1, \"wind_force_avg_10min\": 2.0, \"wind_direction\": 166.0, \"windchill\": 9.25, \"barometric_pressure_qfe\": 961.7, \"precipitation\": 0.0, \"dew_point\": 5.6, \"global_radiation\": 33.0, \"humidity\": 71.0, \"water_level\": 405.96}, {\"air_temperature\": 8.7, \"water_temperature\": 11.3, \"wind_gust_max_10min\": 3.4, \"wind_speed_avg_10min\": 2.0, \"wind_force_avg_10min\": 2.0, \"wind_direction\": 169.0, \"windchill\": 7.6, \"barometric_pressure_qfe\": 965.9, \"precipitation\": 0.0, \"dew_point\": 5.7, \"global_radiation\": 37.0, \"humidity\": 83.0, \"water_level\": 405.98}, {\"air_temperature\": 9.9, \"water_temperature\": 11.5, \"wind_gust_max_10min\": 3.7, \"wind_speed_avg_10min\": 2.3, \"wind_force_avg_10min\": 2.0, \"wind_direction\": 156.0, \"windchill\": 8.5, \"barometric_pressure_qfe\": 965.1, \"precipitation\": 0.0, \"dew_point\": 5.9, \"global_radiation\": 51.5, \"humidity\": 74.0, \"water_level\": 406.0}, {\"air_temperature\": 11.2, \"water_temperature\": 11.4, \"wind_gust_max_10min\": 4.6, \"wind_speed_avg_10min\": 2.6, \"wind_force_avg_10min\": 2.0, \"wind_direction\": 66.0, \"windchill\": 7.75, \"barometric_pressure_qfe\": 965.1500000000001, \"precipitation\": 0.0, \"dew_point\": 4.5, \"global_radiation\": 73.5, \"humidity\": 66.5, \"water_level\": 405.99}, {\"air_temperature\": 13.9, \"water_temperature\": 14.1, \"wind_gust_max_10min\": 3.2, \"wind_speed_avg_10min\": 1.8, \"wind_force_avg_10min\": 2.0, \"wind_direction\": 162.0, \"windchill\": 13.45, \"barometric_pressure_qfe\": 967.75, \"precipitation\": 0.0, \"dew_point\": 10.7, \"global_radiation\": 43.0, \"humidity\": 82.0, \"water_level\": 406.12}, {\"air_temperature\": 15.5, \"water_temperature\": 15.5, \"wind_gust_max_10min\": 2.8, \"wind_speed_avg_10min\": 1.7, \"wind_force_avg_10min\": 2.0, \"wind_direction\": 157.0, \"windchill\": 15.3, \"barometric_pressure_qfe\": 971.7, \"precipitation\": 0.0, \"dew_point\": 9.8, \"global_radiation\": 82.0, \"humidity\": 73.0, \"water_level\": 406.06}, {\"air_temperature\": 18.0, \"water_temperature\": 17.8, \"wind_gust_max_10min\": 3.5, \"wind_speed_avg_10min\": 2.0, \"wind_force_avg_10min\": 2.0, \"wind_direction\": 172.0, \"windchill\": 17.25, \"barometric_pressure_qfe\": 967.5, \"precipitation\": 0.0, \"dew_point\": 11.6, \"global_radiation\": 90.5, \"humidity\": 63.0, \"water_level\": 406.07}, {\"air_temperature\": 16.6, \"water_temperature\": 18.0, \"wind_gust_max_10min\": 3.3, \"wind_speed_avg_10min\": 1.8, \"wind_force_avg_10min\": 2.0, \"wind_direction\": 167.0, \"windchill\": 16.5, \"barometric_pressure_qfe\": 967.0, \"precipitation\": 0.0, \"dew_point\": 12.6, \"global_radiation\": 57.0, \"humidity\": 77.0, \"water_level\": 406.14}, {\"air_temperature\": 20.0, \"water_temperature\": 20.5, \"wind_gust_max_10min\": 3.1, \"wind_speed_avg_10min\": 1.9, \"wind_force_avg_10min\": 2.0, \"wind_direction\": 152.5, \"windchill\": 19.8, \"barometric_pressure_qfe\": 968.7, \"precipitation\": 0.0, \"dew_point\": 15.4, \"global_radiation\": 84.5, \"humidity\": 75.0, \"water_level\": 406.11}, {\"air_temperature\": 26.2, \"water_temperature\": 22.9, \"wind_gust_max_10min\": 2.6, \"wind_speed_avg_10min\": 1.6, \"wind_force_avg_10min\": 2.0, \"wind_direction\": 139.0, \"windchill\": 26.1, \"barometric_pressure_qfe\": 971.9, \"precipitation\": 0.0, \"dew_point\": 18.0, \"global_radiation\": 148.5, \"humidity\": 61.0, \"water_level\": 406.06}, {\"air_temperature\": 23.3, \"water_temperature\": 24.2, \"wind_gust_max_10min\": 4.1, \"wind_speed_avg_10min\": 2.2, \"wind_force_avg_10min\": 2.0, \"wind_direction\": 155.0, \"windchill\": 23.2, \"barometric_pressure_qfe\": 970.3, \"precipitation\": 0.0, \"dew_point\": 15.6, \"global_radiation\": 86.5, \"humidity\": 60.0, \"water_level\": 406.03}, {\"air_temperature\": 18.9, \"water_temperature\": 22.9, \"wind_gust_max_10min\": 4.3, \"wind_speed_avg_10min\": 2.3, \"wind_force_avg_10min\": 2.0, \"wind_direction\": 173.5, \"windchill\": 18.2, \"barometric_pressure_qfe\": 968.3, \"precipitation\": 0.0, \"dew_point\": 11.8, \"global_radiation\": 85.0, \"humidity\": 66.0, \"water_level\": 406.02}, {\"air_temperature\": 22.2, \"water_temperature\": 22.9, \"wind_gust_max_10min\": 2.95, \"wind_speed_avg_10min\": 1.7, \"wind_force_avg_10min\": 2.0, \"wind_direction\": 176.0, \"windchill\": 22.1, \"barometric_pressure_qfe\": 967.8, \"precipitation\": 0.0, \"dew_point\": 13.3, \"global_radiation\": 79.5, \"humidity\": 62.0, \"water_level\": 406.01}, {\"air_temperature\": 24.5, \"water_temperature\": 26.3, \"wind_gust_max_10min\": 2.8, \"wind_speed_avg_10min\": 1.55, \"wind_force_avg_10min\": 1.5, \"wind_direction\": 164.0, \"windchill\": 24.55, \"barometric_pressure_qfe\": 967.45, \"precipitation\": 0.0, \"dew_point\": 16.7, \"global_radiation\": 59.0, \"humidity\": 65.0, \"water_level\": 406.0}, {\"air_temperature\": 20.7, \"water_temperature\": 24.1, \"wind_gust_max_10min\": 2.9, \"wind_speed_avg_10min\": 1.7, \"wind_force_avg_10min\": 2.0, \"wind_direction\": 155.0, \"windchill\": 20.3, \"barometric_pressure_qfe\": 968.3499999999999, \"precipitation\": 0.0, \"dew_point\": 13.9, \"global_radiation\": 68.5, \"humidity\": 65.0, \"water_level\": 406.02}, {\"air_temperature\": 20.7, \"water_temperature\": 24.3, \"wind_gust_max_10min\": 2.9, \"wind_speed_avg_10min\": 1.7, \"wind_force_avg_10min\": 2.0, \"wind_direction\": 148.0, \"windchill\": 20.95, \"barometric_pressure_qfe\": 966.4, \"precipitation\": 0.0, \"dew_point\": 17.0, \"global_radiation\": 36.5, \"humidity\": 81.0, \"water_level\": 406.03}, {\"air_temperature\": 18.5, \"water_temperature\": 23.0, \"wind_gust_max_10min\": 2.7, \"wind_speed_avg_10min\": 1.5, \"wind_force_avg_10min\": 1.0, \"wind_direction\": 168.5, \"windchill\": 18.3, \"barometric_pressure_qfe\": 969.5, \"precipitation\": 0.0, \"dew_point\": 13.6, \"global_radiation\": 33.0, \"humidity\": 73.0, \"water_level\": 406.08}, {\"air_temperature\": 17.1, \"water_temperature\": 21.9, \"wind_gust_max_10min\": 0.4, \"wind_speed_avg_10min\": 0.0, \"wind_force_avg_10min\": 0.0, \"wind_direction\": 3.0, \"windchill\": 16.8, \"barometric_pressure_qfe\": 974.0, \"precipitation\": 0.0, \"dew_point\": 14.4, \"global_radiation\": 23.5, \"humidity\": 87.0, \"water_level\": 406.12}, {\"air_temperature\": 22.1, \"water_temperature\": 23.5, \"wind_gust_max_10min\": 0.4, \"wind_speed_avg_10min\": 0.0, \"wind_force_avg_10min\": 0.0, \"wind_direction\": 2.0, \"windchill\": 22.1, \"barometric_pressure_qfe\": 970.3, \"precipitation\": 0.0, \"dew_point\": 16.9, \"global_radiation\": 31.5, \"humidity\": 73.0, \"water_level\": 406.09}, {\"air_temperature\": 14.8, \"water_temperature\": 21.8, \"wind_gust_max_10min\": 2.4, \"wind_speed_avg_10min\": 1.1, \"wind_force_avg_10min\": 1.0, \"wind_direction\": 94.0, \"windchill\": 14.1, \"barometric_pressure_qfe\": 972.6, \"precipitation\": 0.0, \"dew_point\": 11.1, \"global_radiation\": 9.0, \"humidity\": 82.0, \"water_level\": 406.05}, {\"air_temperature\": 17.4, \"water_temperature\": 20.3, \"wind_gust_max_10min\": 2.2, \"wind_speed_avg_10min\": 1.1, \"wind_force_avg_10min\": 1.0, \"wind_direction\": 80.5, \"windchill\": 17.2, \"barometric_pressure_qfe\": 978.0, \"precipitation\": 0.0, \"dew_point\": 12.1, \"global_radiation\": 12.0, \"humidity\": 78.0, \"water_level\": 406.08}, {\"air_temperature\": 16.4, \"water_temperature\": 19.3, \"wind_gust_max_10min\": 3.8499999999999996, \"wind_speed_avg_10min\": 2.1, \"wind_force_avg_10min\": 2.0, \"wind_direction\": 154.0, \"windchill\": 14.7, \"barometric_pressure_qfe\": 973.2, \"precipitation\": 0.0, \"dew_point\": 10.7, \"global_radiation\": 6.0, \"humidity\": 67.0, \"water_level\": 406.01}, {\"air_temperature\": 15.4, \"water_temperature\": 18.8, \"wind_gust_max_10min\": 4.2, \"wind_speed_avg_10min\": 2.3, \"wind_force_avg_10min\": 2.0, \"wind_direction\": 164.0, \"windchill\": 14.6, \"barometric_pressure_qfe\": 967.8499999999999, \"precipitation\": 0.0, \"dew_point\": 12.6, \"global_radiation\": 2.0, \"humidity\": 86.0, \"water_level\": 406.0}, {\"air_temperature\": 12.9, \"water_temperature\": 17.7, \"wind_gust_max_10min\": 4.35, \"wind_speed_avg_10min\": 2.1, \"wind_force_avg_10min\": 2.0, \"wind_direction\": 222.5, \"windchill\": 12.0, \"barometric_pressure_qfe\": 966.1, \"precipitation\": 0.0, \"dew_point\": 10.350000000000001, \"global_radiation\": 1.0, \"humidity\": 83.0, \"water_level\": 406.02}, {\"air_temperature\": 13.1, \"water_temperature\": 16.3, \"wind_gust_max_10min\": 3.5, \"wind_speed_avg_10min\": 2.0, \"wind_force_avg_10min\": 2.0, \"wind_direction\": 154.5, \"windchill\": 11.8, \"barometric_pressure_qfe\": 969.9, \"precipitation\": 0.0, \"dew_point\": 9.1, \"global_radiation\": 0.0, \"humidity\": 81.0, \"water_level\": 406.09}, {\"air_temperature\": 12.9, \"water_temperature\": 15.9, \"wind_gust_max_10min\": 2.7, \"wind_speed_avg_10min\": 1.7, \"wind_force_avg_10min\": 2.0, \"wind_direction\": 168.0, \"windchill\": 12.7, \"barometric_pressure_qfe\": 965.9, \"precipitation\": 0.0, \"dew_point\": 11.5, \"global_radiation\": 0.0, \"humidity\": 89.0, \"water_level\": 406.04}, {\"air_temperature\": 13.9, \"water_temperature\": 15.5, \"wind_gust_max_10min\": 2.4, \"wind_speed_avg_10min\": 1.4, \"wind_force_avg_10min\": 1.0, \"wind_direction\": 171.0, \"windchill\": 13.7, \"barometric_pressure_qfe\": 972.7, \"precipitation\": 0.0, \"dew_point\": 12.2, \"global_radiation\": 0.0, \"humidity\": 89.0, \"water_level\": 405.97}, {\"air_temperature\": 9.5, \"water_temperature\": 14.2, \"wind_gust_max_10min\": 3.6, \"wind_speed_avg_10min\": 2.1, \"wind_force_avg_10min\": 2.0, \"wind_direction\": 172.0, \"windchill\": 8.5, \"barometric_pressure_qfe\": 970.0, \"precipitation\": 0.0, \"dew_point\": 8.1, \"global_radiation\": 0.0, \"humidity\": 94.0, \"water_level\": 405.98}, {\"air_temperature\": 7.6, \"water_temperature\": 13.3, \"wind_gust_max_10min\": 3.1, \"wind_speed_avg_10min\": 1.8, \"wind_force_avg_10min\": 2.0, \"wind_direction\": 162.0, \"windchill\": 6.3, \"barometric_pressure_qfe\": 957.4, \"precipitation\": 0.0, \"dew_point\": 4.7, \"global_radiation\": 0.0, \"humidity\": 87.0, \"water_level\": 406.0}, {\"air_temperature\": 4.7, \"water_temperature\": 11.8, \"wind_gust_max_10min\": 3.0, \"wind_speed_avg_10min\": 1.7, \"wind_force_avg_10min\": 2.0, \"wind_direction\": 286.0, \"windchill\": 3.7, \"barometric_pressure_qfe\": 957.6, \"precipitation\": 0.0, \"dew_point\": 1.8, \"global_radiation\": 0.0, \"humidity\": 82.0, \"water_level\": 405.97}, {\"air_temperature\": 5.4, \"water_temperature\": 10.5, \"wind_gust_max_10min\": 3.0, \"wind_speed_avg_10min\": 1.8, \"wind_force_avg_10min\": 2.0, \"wind_direction\": 207.5, \"windchill\": 4.5, \"barometric_pressure_qfe\": 961.3, \"precipitation\": 0.0, \"dew_point\": 2.7, \"global_radiation\": 0.0, \"humidity\": 84.0, \"water_level\": 405.96}, {\"air_temperature\": 7.4, \"water_temperature\": 10.1, \"wind_gust_max_10min\": 3.5, \"wind_speed_avg_10min\": 1.9, \"wind_force_avg_10min\": 2.0, \"wind_direction\": 155.0, \"windchill\": 5.8, \"barometric_pressure_qfe\": 962.3, \"precipitation\": 0.0, \"dew_point\": 5.4, \"global_radiation\": 0.0, \"humidity\": 85.0, \"water_level\": 405.96}, {\"air_temperature\": 2.9, \"water_temperature\": 8.7, \"wind_gust_max_10min\": 3.7, \"wind_speed_avg_10min\": 2.0, \"wind_force_avg_10min\": 2.0, \"wind_direction\": 164.0, \"windchill\": 0.8, \"barometric_pressure_qfe\": 973.3, \"precipitation\": 0.0, \"dew_point\": 0.1, \"global_radiation\": 0.0, \"humidity\": 83.0, \"water_level\": 405.95}, {\"air_temperature\": 4.9, \"water_temperature\": 7.9, \"wind_gust_max_10min\": 5.6, \"wind_speed_avg_10min\": 2.7, \"wind_force_avg_10min\": 2.0, \"wind_direction\": 141.0, \"windchill\": 1.9, \"barometric_pressure_qfe\": 960.2, \"precipitation\": 0.0, \"dew_point\": 1.6, \"global_radiation\": 0.0, \"humidity\": 80.0, \"water_level\": 405.93}, {\"air_temperature\": 6.2, \"water_temperature\": 7.7, \"wind_gust_max_10min\": 3.2, \"wind_speed_avg_10min\": 2.0, \"wind_force_avg_10min\": 2.0, \"wind_direction\": 274.0, \"windchill\": 4.8, \"barometric_pressure_qfe\": 959.1500000000001, \"precipitation\": 0.0, \"dew_point\": 4.7, \"global_radiation\": 0.0, \"humidity\": 92.0, \"water_level\": 405.91}, {\"air_temperature\": 5.4, \"water_temperature\": 7.3, \"wind_gust_max_10min\": 5.2, \"wind_speed_avg_10min\": 2.6, \"wind_force_avg_10min\": 2.0, \"wind_direction\": 155.0, \"windchill\": 2.8, \"barometric_pressure_qfe\": 976.0, \"precipitation\": 0.0, \"dew_point\": 3.5, \"global_radiation\": 0.0, \"humidity\": 87.0, \"water_level\": 405.91}, {\"air_temperature\": 0.8, \"water_temperature\": 6.7, \"wind_gust_max_10min\": 2.7, \"wind_speed_avg_10min\": 1.6, \"wind_force_avg_10min\": 2.0, \"wind_direction\": 150.0, \"windchill\": 0.5, \"barometric_pressure_qfe\": 984.5, \"precipitation\": 0.0, \"dew_point\": -0.1, \"global_radiation\": 0.0, \"humidity\": 92.0, \"water_level\": 405.88}, {\"air_temperature\": 4.7, \"water_temperature\": null, \"wind_gust_max_10min\": 2.3, \"wind_speed_avg_10min\": 1.4, \"wind_force_avg_10min\": 1.0, \"wind_direction\": 162.0, \"windchill\": 3.8499999999999996, \"barometric_pressure_qfe\": null, \"precipitation\": null, \"dew_point\": 1.7, \"global_radiation\": null, \"humidity\": 84.0, \"water_level\": null}, {\"air_temperature\": 4.3, \"water_temperature\": null, \"wind_gust_max_10min\": 3.55, \"wind_speed_avg_10min\": 2.1, \"wind_force_avg_10min\": 2.0, \"wind_direction\": 156.5, \"windchill\": 2.0, \"barometric_pressure_qfe\": null, \"precipitation\": null, \"dew_point\": 0.9, \"global_radiation\": null, \"humidity\": 81.0, \"water_level\": null}, {\"air_temperature\": 0.1, \"water_temperature\": null, \"wind_gust_max_10min\": 2.7, \"wind_speed_avg_10min\": 1.8, \"wind_force_avg_10min\": 2.0, \"wind_direction\": 153.0, \"windchill\": -1.2, \"barometric_pressure_qfe\": null, \"precipitation\": null, \"dew_point\": -1.8, \"global_radiation\": null, \"humidity\": 92.0, \"water_level\": null}, {\"air_temperature\": 5.9, \"water_temperature\": null, \"wind_gust_max_10min\": 0.0, \"wind_speed_avg_10min\": 0.0, \"wind_force_avg_10min\": 0.0, \"wind_direction\": 0.0, \"windchill\": 5.0, \"barometric_pressure_qfe\": null, \"precipitation\": null, \"dew_point\": 3.1, \"global_radiation\": null, \"humidity\": 84.0, \"water_level\": null}, {\"air_temperature\": null, \"water_temperature\": null, \"wind_gust_max_10min\": null, \"wind_speed_avg_10min\": null, \"wind_force_avg_10min\": null, \"wind_direction\": null, \"windchill\": null, \"barometric_pressure_qfe\": null, \"precipitation\": null, \"dew_point\": null, \"global_radiation\": null, \"humidity\": null, \"water_level\": null}, {\"air_temperature\": null, \"water_temperature\": null, \"wind_gust_max_10min\": null, \"wind_speed_avg_10min\": null, \"wind_force_avg_10min\": null, \"wind_direction\": null, \"windchill\": null, \"barometric_pressure_qfe\": null, \"precipitation\": null, \"dew_point\": null, \"global_radiation\": null, \"humidity\": null, \"water_level\": null}, {\"air_temperature\": 8.5, \"water_temperature\": null, \"wind_gust_max_10min\": 4.2, \"wind_speed_avg_10min\": 2.3, \"wind_force_avg_10min\": 2.0, \"wind_direction\": 189.0, \"windchill\": 5.8, \"barometric_pressure_qfe\": 1028.0, \"precipitation\": null, \"dew_point\": 1.3, \"global_radiation\": null, \"humidity\": 63.0, \"water_level\": null}, {\"air_temperature\": 6.2, \"water_temperature\": null, \"wind_gust_max_10min\": 6.4, \"wind_speed_avg_10min\": 3.3, \"wind_force_avg_10min\": 2.0, \"wind_direction\": 218.0, \"windchill\": 2.6, \"barometric_pressure_qfe\": 1008.0, \"precipitation\": null, \"dew_point\": 1.7, \"global_radiation\": null, \"humidity\": 69.0, \"water_level\": null}, {\"air_temperature\": 5.6, \"water_temperature\": null, \"wind_gust_max_10min\": 4.0, \"wind_speed_avg_10min\": 2.4, \"wind_force_avg_10min\": 2.0, \"wind_direction\": 200.0, \"windchill\": 3.2, \"barometric_pressure_qfe\": 1008.0, \"precipitation\": null, \"dew_point\": 1.1, \"global_radiation\": null, \"humidity\": 75.0, \"water_level\": null}, {\"air_temperature\": 7.65, \"water_temperature\": null, \"wind_gust_max_10min\": 4.8, \"wind_speed_avg_10min\": 2.5, \"wind_force_avg_10min\": 2.0, \"wind_direction\": 201.0, \"windchill\": 5.5, \"barometric_pressure_qfe\": 1020.0, \"precipitation\": null, \"dew_point\": 3.3, \"global_radiation\": null, \"humidity\": 75.0, \"water_level\": null}, {\"air_temperature\": 9.3, \"water_temperature\": null, \"wind_gust_max_10min\": 2.3, \"wind_speed_avg_10min\": 1.6, \"wind_force_avg_10min\": 2.0, \"wind_direction\": 157.0, \"windchill\": 9.0, \"barometric_pressure_qfe\": 1022.0, \"precipitation\": null, \"dew_point\": 5.8, \"global_radiation\": null, \"humidity\": 79.0, \"water_level\": null}, {\"air_temperature\": 4.1, \"water_temperature\": null, \"wind_gust_max_10min\": 5.4, \"wind_speed_avg_10min\": 2.9, \"wind_force_avg_10min\": 2.0, \"wind_direction\": 56.0, \"windchill\": -0.8, \"barometric_pressure_qfe\": 1017.0, \"precipitation\": null, \"dew_point\": -3.6, \"global_radiation\": null, \"humidity\": 61.0, \"water_level\": null}, {\"air_temperature\": 6.7, \"water_temperature\": null, \"wind_gust_max_10min\": 4.05, \"wind_speed_avg_10min\": 2.3, \"wind_force_avg_10min\": 2.0, \"wind_direction\": 151.0, \"windchill\": 5.4, \"barometric_pressure_qfe\": 1021.0, \"precipitation\": null, \"dew_point\": -1.7, \"global_radiation\": null, \"humidity\": 56.0, \"water_level\": null}, {\"air_temperature\": 13.8, \"water_temperature\": null, \"wind_gust_max_10min\": 1.8, \"wind_speed_avg_10min\": 1.3, \"wind_force_avg_10min\": 1.0, \"wind_direction\": 161.0, \"windchill\": 13.4, \"barometric_pressure_qfe\": 1023.0, \"precipitation\": null, \"dew_point\": 5.0, \"global_radiation\": null, \"humidity\": 62.0, \"water_level\": null}, {\"air_temperature\": 14.2, \"water_temperature\": null, \"wind_gust_max_10min\": 3.2, \"wind_speed_avg_10min\": 2.1, \"wind_force_avg_10min\": 2.0, \"wind_direction\": 152.5, \"windchill\": 13.2, \"barometric_pressure_qfe\": 1017.0, \"precipitation\": null, \"dew_point\": 7.2, \"global_radiation\": null, \"humidity\": 57.0, \"water_level\": null}, {\"air_temperature\": 14.7, \"water_temperature\": null, \"wind_gust_max_10min\": 4.5, \"wind_speed_avg_10min\": 2.3, \"wind_force_avg_10min\": 2.0, \"wind_direction\": 157.0, \"windchill\": 13.2, \"barometric_pressure_qfe\": 1011.0, \"precipitation\": null, \"dew_point\": 5.1, \"global_radiation\": null, \"humidity\": 51.0, \"water_level\": null}, {\"air_temperature\": 11.7, \"water_temperature\": null, \"wind_gust_max_10min\": 3.8, \"wind_speed_avg_10min\": 2.0, \"wind_force_avg_10min\": 2.0, \"wind_direction\": 209.0, \"windchill\": 10.649999999999999, \"barometric_pressure_qfe\": 1010.0, \"precipitation\": null, \"dew_point\": 8.0, \"global_radiation\": null, \"humidity\": 81.0, \"water_level\": null}, {\"air_temperature\": 16.15, \"water_temperature\": null, \"wind_gust_max_10min\": 2.9, \"wind_speed_avg_10min\": 1.8, \"wind_force_avg_10min\": 2.0, \"wind_direction\": 176.0, \"windchill\": 15.8, \"barometric_pressure_qfe\": 1016.0, \"precipitation\": null, \"dew_point\": 10.3, \"global_radiation\": null, \"humidity\": 71.0, \"water_level\": null}, {\"air_temperature\": 10.8, \"water_temperature\": null, \"wind_gust_max_10min\": 4.7, \"wind_speed_avg_10min\": 2.6, \"wind_force_avg_10min\": 2.0, \"wind_direction\": 74.5, \"windchill\": 8.9, \"barometric_pressure_qfe\": 1013.0, \"precipitation\": null, \"dew_point\": 7.2, \"global_radiation\": null, \"humidity\": 79.0, \"water_level\": null}, {\"air_temperature\": 18.7, \"water_temperature\": null, \"wind_gust_max_10min\": 3.3, \"wind_speed_avg_10min\": 2.0, \"wind_force_avg_10min\": 2.0, \"wind_direction\": 162.0, \"windchill\": 17.7, \"barometric_pressure_qfe\": 1023.0, \"precipitation\": null, \"dew_point\": 9.4, \"global_radiation\": null, \"humidity\": 59.0, \"water_level\": null}, {\"air_temperature\": 16.0, \"water_temperature\": null, \"wind_gust_max_10min\": 5.55, \"wind_speed_avg_10min\": 3.2, \"wind_force_avg_10min\": 2.0, \"wind_direction\": 49.0, \"windchill\": 13.3, \"barometric_pressure_qfe\": 1027.5, \"precipitation\": null, \"dew_point\": 6.8, \"global_radiation\": null, \"humidity\": 56.0, \"water_level\": null}, {\"air_temperature\": 15.9, \"water_temperature\": null, \"wind_gust_max_10min\": 4.4, \"wind_speed_avg_10min\": 2.2, \"wind_force_avg_10min\": 2.0, \"wind_direction\": 196.0, \"windchill\": 15.1, \"barometric_pressure_qfe\": 1008.0, \"precipitation\": null, \"dew_point\": 10.0, \"global_radiation\": null, \"humidity\": 68.0, \"water_level\": null}, {\"air_temperature\": 14.8, \"water_temperature\": null, \"wind_gust_max_10min\": 3.7, \"wind_speed_avg_10min\": 2.1, \"wind_force_avg_10min\": 2.0, \"wind_direction\": 188.5, \"windchill\": 14.1, \"barometric_pressure_qfe\": 1013.0, \"precipitation\": null, \"dew_point\": 11.9, \"global_radiation\": null, \"humidity\": 82.0, \"water_level\": null}, {\"air_temperature\": 16.2, \"water_temperature\": null, \"wind_gust_max_10min\": 3.05, \"wind_speed_avg_10min\": 1.9, \"wind_force_avg_10min\": 2.0, \"wind_direction\": 180.0, \"windchill\": 15.9, \"barometric_pressure_qfe\": 1019.0, \"precipitation\": null, \"dew_point\": 12.7, \"global_radiation\": null, \"humidity\": 80.0, \"water_level\": null}, {\"air_temperature\": 21.2, \"water_temperature\": null, \"wind_gust_max_10min\": 3.7, \"wind_speed_avg_10min\": 2.1, \"wind_force_avg_10min\": 2.0, \"wind_direction\": 160.0, \"windchill\": 20.9, \"barometric_pressure_qfe\": 1020.0, \"precipitation\": null, \"dew_point\": 14.0, \"global_radiation\": null, \"humidity\": 63.0, \"water_level\": null}, {\"air_temperature\": 20.3, \"water_temperature\": null, \"wind_gust_max_10min\": 3.2, \"wind_speed_avg_10min\": 1.7, \"wind_force_avg_10min\": 2.0, \"wind_direction\": 210.0, \"windchill\": 19.9, \"barometric_pressure_qfe\": 1018.0, \"precipitation\": null, \"dew_point\": 14.4, \"global_radiation\": null, \"humidity\": 72.0, \"water_level\": null}, {\"air_temperature\": 20.5, \"water_temperature\": null, \"wind_gust_max_10min\": 3.9, \"wind_speed_avg_10min\": 2.1, \"wind_force_avg_10min\": 2.0, \"wind_direction\": 230.0, \"windchill\": 19.0, \"barometric_pressure_qfe\": 1020.0, \"precipitation\": null, \"dew_point\": 12.4, \"global_radiation\": null, \"humidity\": 59.5, \"water_level\": null}, {\"air_temperature\": 18.5, \"water_temperature\": null, \"wind_gust_max_10min\": 2.8, \"wind_speed_avg_10min\": 1.6, \"wind_force_avg_10min\": 2.0, \"wind_direction\": 201.0, \"windchill\": 18.2, \"barometric_pressure_qfe\": 1020.0, \"precipitation\": null, \"dew_point\": 13.4, \"global_radiation\": null, \"humidity\": 70.0, \"water_level\": null}, {\"air_temperature\": 22.3, \"water_temperature\": null, \"wind_gust_max_10min\": 2.7, \"wind_speed_avg_10min\": 1.6, \"wind_force_avg_10min\": 2.0, \"wind_direction\": 161.0, \"windchill\": 22.2, \"barometric_pressure_qfe\": 1018.0, \"precipitation\": null, \"dew_point\": 14.9, \"global_radiation\": null, \"humidity\": 66.0, \"water_level\": null}, {\"air_temperature\": 24.8, \"water_temperature\": null, \"wind_gust_max_10min\": 3.0, \"wind_speed_avg_10min\": 1.9, \"wind_force_avg_10min\": 2.0, \"wind_direction\": 161.0, \"windchill\": 25.1, \"barometric_pressure_qfe\": 1018.0, \"precipitation\": null, \"dew_point\": 17.4, \"global_radiation\": null, \"humidity\": 64.0, \"water_level\": null}, {\"air_temperature\": 20.0, \"water_temperature\": null, \"wind_gust_max_10min\": 2.5, \"wind_speed_avg_10min\": 1.4, \"wind_force_avg_10min\": 1.0, \"wind_direction\": 148.5, \"windchill\": 19.7, \"barometric_pressure_qfe\": 1020.0, \"precipitation\": null, \"dew_point\": 15.1, \"global_radiation\": null, \"humidity\": 73.0, \"water_level\": null}, {\"air_temperature\": 23.7, \"water_temperature\": null, \"wind_gust_max_10min\": 2.7, \"wind_speed_avg_10min\": 1.7, \"wind_force_avg_10min\": 2.0, \"wind_direction\": 156.0, \"windchill\": 23.9, \"barometric_pressure_qfe\": 1017.0, \"precipitation\": null, \"dew_point\": 17.1, \"global_radiation\": null, \"humidity\": 69.0, \"water_level\": null}, {\"air_temperature\": 22.0, \"water_temperature\": null, \"wind_gust_max_10min\": 2.8, \"wind_speed_avg_10min\": 1.9, \"wind_force_avg_10min\": 2.0, \"wind_direction\": 160.0, \"windchill\": 21.9, \"barometric_pressure_qfe\": 1015.0, \"precipitation\": null, \"dew_point\": 15.9, \"global_radiation\": null, \"humidity\": 68.0, \"water_level\": null}, {\"air_temperature\": 18.7, \"water_temperature\": null, \"wind_gust_max_10min\": 3.2, \"wind_speed_avg_10min\": 1.8, \"wind_force_avg_10min\": 2.0, \"wind_direction\": 178.0, \"windchill\": 18.4, \"barometric_pressure_qfe\": 1015.0, \"precipitation\": null, \"dew_point\": 12.8, \"global_radiation\": null, \"humidity\": 70.0, \"water_level\": null}, {\"air_temperature\": 17.4, \"water_temperature\": null, \"wind_gust_max_10min\": 2.6, \"wind_speed_avg_10min\": 1.6, \"wind_force_avg_10min\": 2.0, \"wind_direction\": 205.0, \"windchill\": 17.0, \"barometric_pressure_qfe\": 1020.0, \"precipitation\": null, \"dew_point\": 12.350000000000001, \"global_radiation\": null, \"humidity\": 75.0, \"water_level\": null}, {\"air_temperature\": 19.2, \"water_temperature\": null, \"wind_gust_max_10min\": 2.5, \"wind_speed_avg_10min\": 1.6, \"wind_force_avg_10min\": 2.0, \"wind_direction\": 155.0, \"windchill\": 19.1, \"barometric_pressure_qfe\": 1023.0, \"precipitation\": null, \"dew_point\": 14.6, \"global_radiation\": null, \"humidity\": 74.5, \"water_level\": null}, {\"air_temperature\": 20.6, \"water_temperature\": null, \"wind_gust_max_10min\": 2.5, \"wind_speed_avg_10min\": 1.5, \"wind_force_avg_10min\": 1.0, \"wind_direction\": 156.0, \"windchill\": 20.5, \"barometric_pressure_qfe\": 1022.0, \"precipitation\": null, \"dew_point\": 16.1, \"global_radiation\": null, \"humidity\": 79.0, \"water_level\": null}, {\"air_temperature\": 16.65, \"water_temperature\": null, \"wind_gust_max_10min\": 3.8, \"wind_speed_avg_10min\": 2.0, \"wind_force_avg_10min\": 2.0, \"wind_direction\": 151.0, \"windchill\": 16.35, \"barometric_pressure_qfe\": 1010.0, \"precipitation\": null, \"dew_point\": 13.7, \"global_radiation\": null, \"humidity\": 77.0, \"water_level\": null}, {\"air_temperature\": 12.8, \"water_temperature\": null, \"wind_gust_max_10min\": 3.2, \"wind_speed_avg_10min\": 1.8, \"wind_force_avg_10min\": 2.0, \"wind_direction\": 179.5, \"windchill\": 12.3, \"barometric_pressure_qfe\": 1007.0, \"precipitation\": null, \"dew_point\": 9.6, \"global_radiation\": null, \"humidity\": 81.0, \"water_level\": null}, {\"air_temperature\": 12.3, \"water_temperature\": null, \"wind_gust_max_10min\": 4.1, \"wind_speed_avg_10min\": 2.1, \"wind_force_avg_10min\": 2.0, \"wind_direction\": 160.5, \"windchill\": 10.9, \"barometric_pressure_qfe\": 1022.0, \"precipitation\": null, \"dew_point\": 8.05, \"global_radiation\": null, \"humidity\": 77.0, \"water_level\": null}, {\"air_temperature\": 8.5, \"water_temperature\": null, \"wind_gust_max_10min\": 3.2, \"wind_speed_avg_10min\": 1.9, \"wind_force_avg_10min\": 2.0, \"wind_direction\": 288.0, \"windchill\": 7.6, \"barometric_pressure_qfe\": 1018.0, \"precipitation\": null, \"dew_point\": 5.5, \"global_radiation\": null, \"humidity\": 83.0, \"water_level\": null}, {\"air_temperature\": 12.7, \"water_temperature\": null, \"wind_gust_max_10min\": 2.4, \"wind_speed_avg_10min\": 1.4, \"wind_force_avg_10min\": 1.0, \"wind_direction\": 173.0, \"windchill\": 12.2, \"barometric_pressure_qfe\": 1018.0, \"precipitation\": null, \"dew_point\": 9.4, \"global_radiation\": null, \"humidity\": 88.0, \"water_level\": null}, {\"air_temperature\": 10.5, \"water_temperature\": null, \"wind_gust_max_10min\": 3.9, \"wind_speed_avg_10min\": 2.0, \"wind_force_avg_10min\": 2.0, \"wind_direction\": 161.0, \"windchill\": 9.2, \"barometric_pressure_qfe\": 1022.0, \"precipitation\": null, \"dew_point\": 8.3, \"global_radiation\": null, \"humidity\": 86.0, \"water_level\": null}, {\"air_temperature\": 9.3, \"water_temperature\": null, \"wind_gust_max_10min\": 3.4, \"wind_speed_avg_10min\": 2.1, \"wind_force_avg_10min\": 2.0, \"wind_direction\": 155.5, \"windchill\": 7.9, \"barometric_pressure_qfe\": 1029.0, \"precipitation\": null, \"dew_point\": 7.0, \"global_radiation\": null, \"humidity\": 86.0, \"water_level\": null}, {\"air_temperature\": 8.3, \"water_temperature\": null, \"wind_gust_max_10min\": 2.0, \"wind_speed_avg_10min\": 1.3, \"wind_force_avg_10min\": 1.0, \"wind_direction\": 172.0, \"windchill\": 7.9, \"barometric_pressure_qfe\": 1024.0, \"precipitation\": null, \"dew_point\": 7.0, \"global_radiation\": null, \"humidity\": 92.0, \"water_level\": null}, {\"air_temperature\": 6.7, \"water_temperature\": null, \"wind_gust_max_10min\": 2.7, \"wind_speed_avg_10min\": 1.7, \"wind_force_avg_10min\": 2.0, \"wind_direction\": 270.0, \"windchill\": 6.0, \"barometric_pressure_qfe\": 1030.0, \"precipitation\": null, \"dew_point\": 4.2, \"global_radiation\": null, \"humidity\": 82.0, \"water_level\": null}, {\"air_temperature\": 2.7, \"water_temperature\": null, \"wind_gust_max_10min\": 2.9, \"wind_speed_avg_10min\": 1.9, \"wind_force_avg_10min\": 2.0, \"wind_direction\": 122.5, \"windchill\": 2.0, \"barometric_pressure_qfe\": 1023.0, \"precipitation\": null, \"dew_point\": 1.7, \"global_radiation\": null, \"humidity\": 90.0, \"water_level\": null}, {\"air_temperature\": 2.1, \"water_temperature\": null, \"wind_gust_max_10min\": 2.9, \"wind_speed_avg_10min\": 1.8, \"wind_force_avg_10min\": 2.0, \"wind_direction\": 153.0, \"windchill\": 1.2, \"barometric_pressure_qfe\": 1007.0, \"precipitation\": null, \"dew_point\": 0.4, \"global_radiation\": null, \"humidity\": 88.0, \"water_level\": null}, {\"air_temperature\": 2.3, \"water_temperature\": null, \"wind_gust_max_10min\": 2.9, \"wind_speed_avg_10min\": 1.65, \"wind_force_avg_10min\": 2.0, \"wind_direction\": 156.0, \"windchill\": 1.9, \"barometric_pressure_qfe\": 1006.0, \"precipitation\": null, \"dew_point\": 1.05, \"global_radiation\": null, \"humidity\": 89.0, \"water_level\": null}, {\"air_temperature\": 4.3, \"water_temperature\": null, \"wind_gust_max_10min\": 2.3, \"wind_speed_avg_10min\": 1.5, \"wind_force_avg_10min\": 1.0, \"wind_direction\": 168.0, \"windchill\": 3.5, \"barometric_pressure_qfe\": 1021.0, \"precipitation\": null, \"dew_point\": 3.6, \"global_radiation\": null, \"humidity\": 96.0, \"water_level\": null}, {\"air_temperature\": 5.6, \"water_temperature\": null, \"wind_gust_max_10min\": 4.7, \"wind_speed_avg_10min\": 2.7, \"wind_force_avg_10min\": 2.0, \"wind_direction\": 158.0, \"windchill\": 3.3, \"barometric_pressure_qfe\": 1020.0, \"precipitation\": null, \"dew_point\": 3.7, \"global_radiation\": null, \"humidity\": 82.0, \"water_level\": null}, {\"air_temperature\": 3.2, \"water_temperature\": null, \"wind_gust_max_10min\": 3.6, \"wind_speed_avg_10min\": 2.1, \"wind_force_avg_10min\": 2.0, \"wind_direction\": 150.0, \"windchill\": 1.4, \"barometric_pressure_qfe\": 1000.0, \"precipitation\": null, \"dew_point\": 0.6, \"global_radiation\": null, \"humidity\": 83.0, \"water_level\": null}]}}, {\"mode\": \"vega-lite\"});\n",
       "</script>"
      ],
      "text/plain": [
       "alt.LayerChart(...)"
      ]
     },
     "execution_count": 110,
     "metadata": {},
     "output_type": "execute_result"
    }
   ],
   "source": [
    "# df_statzonen = df_statzonen[(df_statzonen.knr>0) & (df_statzonen.qname!=\"Hirslanden\")]\n",
    "#aktuellesJahr[[aktuellesJahr.KreisSort =7]])\n",
    "highlight = alt.selection(type='single', on='mouseover',\n",
    "                          fields=['air_temperature'], nearest=True)\n",
    "#x='date:StichtagDatJahr',\n",
    "base = alt.Chart(weekly_medians).encode(\n",
    "    #x=weekly_medians.loc[\"2017-10-04\":\"2020-12-06\"],\n",
    "    y='water_temperature',\n",
    "    color='air_temperature'\n",
    ")\n",
    "\n",
    "points = base.mark_circle().encode(\n",
    "    opacity=alt.value(0)\n",
    ").add_selection(\n",
    "    highlight\n",
    ").properties(\n",
    "    width=700 , height=300\n",
    ")\n",
    "lines = base.mark_line().encode(\n",
    "    size=alt.condition(~highlight, alt.value(1.5), alt.value(4))\n",
    ").interactive()\n",
    "\n",
    "points + lines"
   ]
  },
  {
   "cell_type": "code",
   "execution_count": null,
   "metadata": {},
   "outputs": [],
   "source": []
  },
  {
   "cell_type": "code",
   "execution_count": 69,
   "metadata": {},
   "outputs": [
    {
     "ename": "ValueError",
     "evalue": "Hierarchical indices not supported",
     "output_type": "error",
     "traceback": [
      "\u001b[1;31m---------------------------------------------------------------------------\u001b[0m",
      "\u001b[1;31mValueError\u001b[0m                                Traceback (most recent call last)",
      "\u001b[1;32mC:\\ProgramData\\Anaconda3\\envs\\gis_env\\lib\\site-packages\\altair\\vegalite\\v4\\api.py\u001b[0m in \u001b[0;36mto_dict\u001b[1;34m(self, *args, **kwargs)\u001b[0m\n\u001b[0;32m    361\u001b[0m         \u001b[0mcopy\u001b[0m \u001b[1;33m=\u001b[0m \u001b[0mself\u001b[0m\u001b[1;33m.\u001b[0m\u001b[0mcopy\u001b[0m\u001b[1;33m(\u001b[0m\u001b[0mdeep\u001b[0m\u001b[1;33m=\u001b[0m\u001b[1;32mFalse\u001b[0m\u001b[1;33m)\u001b[0m\u001b[1;33m\u001b[0m\u001b[1;33m\u001b[0m\u001b[0m\n\u001b[0;32m    362\u001b[0m         \u001b[0moriginal_data\u001b[0m \u001b[1;33m=\u001b[0m \u001b[0mgetattr\u001b[0m\u001b[1;33m(\u001b[0m\u001b[0mcopy\u001b[0m\u001b[1;33m,\u001b[0m \u001b[1;34m\"data\"\u001b[0m\u001b[1;33m,\u001b[0m \u001b[0mUndefined\u001b[0m\u001b[1;33m)\u001b[0m\u001b[1;33m\u001b[0m\u001b[1;33m\u001b[0m\u001b[0m\n\u001b[1;32m--> 363\u001b[1;33m         \u001b[0mcopy\u001b[0m\u001b[1;33m.\u001b[0m\u001b[0mdata\u001b[0m \u001b[1;33m=\u001b[0m \u001b[0m_prepare_data\u001b[0m\u001b[1;33m(\u001b[0m\u001b[0moriginal_data\u001b[0m\u001b[1;33m,\u001b[0m \u001b[0mcontext\u001b[0m\u001b[1;33m)\u001b[0m\u001b[1;33m\u001b[0m\u001b[1;33m\u001b[0m\u001b[0m\n\u001b[0m\u001b[0;32m    364\u001b[0m \u001b[1;33m\u001b[0m\u001b[0m\n\u001b[0;32m    365\u001b[0m         \u001b[1;32mif\u001b[0m \u001b[0moriginal_data\u001b[0m \u001b[1;32mis\u001b[0m \u001b[1;32mnot\u001b[0m \u001b[0mUndefined\u001b[0m\u001b[1;33m:\u001b[0m\u001b[1;33m\u001b[0m\u001b[1;33m\u001b[0m\u001b[0m\n",
      "\u001b[1;32mC:\\ProgramData\\Anaconda3\\envs\\gis_env\\lib\\site-packages\\altair\\vegalite\\v4\\api.py\u001b[0m in \u001b[0;36m_prepare_data\u001b[1;34m(data, context)\u001b[0m\n\u001b[0;32m     82\u001b[0m     \u001b[1;31m# convert dataframes  or objects with __geo_interface__ to dict\u001b[0m\u001b[1;33m\u001b[0m\u001b[1;33m\u001b[0m\u001b[0m\n\u001b[0;32m     83\u001b[0m     \u001b[1;32mif\u001b[0m \u001b[0misinstance\u001b[0m\u001b[1;33m(\u001b[0m\u001b[0mdata\u001b[0m\u001b[1;33m,\u001b[0m \u001b[0mpd\u001b[0m\u001b[1;33m.\u001b[0m\u001b[0mDataFrame\u001b[0m\u001b[1;33m)\u001b[0m \u001b[1;32mor\u001b[0m \u001b[0mhasattr\u001b[0m\u001b[1;33m(\u001b[0m\u001b[0mdata\u001b[0m\u001b[1;33m,\u001b[0m \u001b[1;34m\"__geo_interface__\"\u001b[0m\u001b[1;33m)\u001b[0m\u001b[1;33m:\u001b[0m\u001b[1;33m\u001b[0m\u001b[1;33m\u001b[0m\u001b[0m\n\u001b[1;32m---> 84\u001b[1;33m         \u001b[0mdata\u001b[0m \u001b[1;33m=\u001b[0m \u001b[0m_pipe\u001b[0m\u001b[1;33m(\u001b[0m\u001b[0mdata\u001b[0m\u001b[1;33m,\u001b[0m \u001b[0mdata_transformers\u001b[0m\u001b[1;33m.\u001b[0m\u001b[0mget\u001b[0m\u001b[1;33m(\u001b[0m\u001b[1;33m)\u001b[0m\u001b[1;33m)\u001b[0m\u001b[1;33m\u001b[0m\u001b[1;33m\u001b[0m\u001b[0m\n\u001b[0m\u001b[0;32m     85\u001b[0m \u001b[1;33m\u001b[0m\u001b[0m\n\u001b[0;32m     86\u001b[0m     \u001b[1;31m# convert string input to a URLData\u001b[0m\u001b[1;33m\u001b[0m\u001b[1;33m\u001b[0m\u001b[0m\n",
      "\u001b[1;32mC:\\ProgramData\\Anaconda3\\envs\\gis_env\\lib\\site-packages\\toolz\\functoolz.py\u001b[0m in \u001b[0;36mpipe\u001b[1;34m(data, *funcs)\u001b[0m\n\u001b[0;32m    625\u001b[0m     \"\"\"\n\u001b[0;32m    626\u001b[0m     \u001b[1;32mfor\u001b[0m \u001b[0mfunc\u001b[0m \u001b[1;32min\u001b[0m \u001b[0mfuncs\u001b[0m\u001b[1;33m:\u001b[0m\u001b[1;33m\u001b[0m\u001b[1;33m\u001b[0m\u001b[0m\n\u001b[1;32m--> 627\u001b[1;33m         \u001b[0mdata\u001b[0m \u001b[1;33m=\u001b[0m \u001b[0mfunc\u001b[0m\u001b[1;33m(\u001b[0m\u001b[0mdata\u001b[0m\u001b[1;33m)\u001b[0m\u001b[1;33m\u001b[0m\u001b[1;33m\u001b[0m\u001b[0m\n\u001b[0m\u001b[0;32m    628\u001b[0m     \u001b[1;32mreturn\u001b[0m \u001b[0mdata\u001b[0m\u001b[1;33m\u001b[0m\u001b[1;33m\u001b[0m\u001b[0m\n\u001b[0;32m    629\u001b[0m \u001b[1;33m\u001b[0m\u001b[0m\n",
      "\u001b[1;32mC:\\ProgramData\\Anaconda3\\envs\\gis_env\\lib\\site-packages\\toolz\\functoolz.py\u001b[0m in \u001b[0;36m__call__\u001b[1;34m(self, *args, **kwargs)\u001b[0m\n\u001b[0;32m    301\u001b[0m     \u001b[1;32mdef\u001b[0m \u001b[0m__call__\u001b[0m\u001b[1;33m(\u001b[0m\u001b[0mself\u001b[0m\u001b[1;33m,\u001b[0m \u001b[1;33m*\u001b[0m\u001b[0margs\u001b[0m\u001b[1;33m,\u001b[0m \u001b[1;33m**\u001b[0m\u001b[0mkwargs\u001b[0m\u001b[1;33m)\u001b[0m\u001b[1;33m:\u001b[0m\u001b[1;33m\u001b[0m\u001b[1;33m\u001b[0m\u001b[0m\n\u001b[0;32m    302\u001b[0m         \u001b[1;32mtry\u001b[0m\u001b[1;33m:\u001b[0m\u001b[1;33m\u001b[0m\u001b[1;33m\u001b[0m\u001b[0m\n\u001b[1;32m--> 303\u001b[1;33m             \u001b[1;32mreturn\u001b[0m \u001b[0mself\u001b[0m\u001b[1;33m.\u001b[0m\u001b[0m_partial\u001b[0m\u001b[1;33m(\u001b[0m\u001b[1;33m*\u001b[0m\u001b[0margs\u001b[0m\u001b[1;33m,\u001b[0m \u001b[1;33m**\u001b[0m\u001b[0mkwargs\u001b[0m\u001b[1;33m)\u001b[0m\u001b[1;33m\u001b[0m\u001b[1;33m\u001b[0m\u001b[0m\n\u001b[0m\u001b[0;32m    304\u001b[0m         \u001b[1;32mexcept\u001b[0m \u001b[0mTypeError\u001b[0m \u001b[1;32mas\u001b[0m \u001b[0mexc\u001b[0m\u001b[1;33m:\u001b[0m\u001b[1;33m\u001b[0m\u001b[1;33m\u001b[0m\u001b[0m\n\u001b[0;32m    305\u001b[0m             \u001b[1;32mif\u001b[0m \u001b[0mself\u001b[0m\u001b[1;33m.\u001b[0m\u001b[0m_should_curry\u001b[0m\u001b[1;33m(\u001b[0m\u001b[0margs\u001b[0m\u001b[1;33m,\u001b[0m \u001b[0mkwargs\u001b[0m\u001b[1;33m,\u001b[0m \u001b[0mexc\u001b[0m\u001b[1;33m)\u001b[0m\u001b[1;33m:\u001b[0m\u001b[1;33m\u001b[0m\u001b[1;33m\u001b[0m\u001b[0m\n",
      "\u001b[1;32mC:\\ProgramData\\Anaconda3\\envs\\gis_env\\lib\\site-packages\\altair\\vegalite\\data.py\u001b[0m in \u001b[0;36mdefault_data_transformer\u001b[1;34m(data, max_rows)\u001b[0m\n\u001b[0;32m     17\u001b[0m \u001b[1;33m@\u001b[0m\u001b[0mcurried\u001b[0m\u001b[1;33m.\u001b[0m\u001b[0mcurry\u001b[0m\u001b[1;33m\u001b[0m\u001b[1;33m\u001b[0m\u001b[0m\n\u001b[0;32m     18\u001b[0m \u001b[1;32mdef\u001b[0m \u001b[0mdefault_data_transformer\u001b[0m\u001b[1;33m(\u001b[0m\u001b[0mdata\u001b[0m\u001b[1;33m,\u001b[0m \u001b[0mmax_rows\u001b[0m\u001b[1;33m=\u001b[0m\u001b[1;36m5000\u001b[0m\u001b[1;33m)\u001b[0m\u001b[1;33m:\u001b[0m\u001b[1;33m\u001b[0m\u001b[1;33m\u001b[0m\u001b[0m\n\u001b[1;32m---> 19\u001b[1;33m     \u001b[1;32mreturn\u001b[0m \u001b[0mcurried\u001b[0m\u001b[1;33m.\u001b[0m\u001b[0mpipe\u001b[0m\u001b[1;33m(\u001b[0m\u001b[0mdata\u001b[0m\u001b[1;33m,\u001b[0m \u001b[0mlimit_rows\u001b[0m\u001b[1;33m(\u001b[0m\u001b[0mmax_rows\u001b[0m\u001b[1;33m=\u001b[0m\u001b[0mmax_rows\u001b[0m\u001b[1;33m)\u001b[0m\u001b[1;33m,\u001b[0m \u001b[0mto_values\u001b[0m\u001b[1;33m)\u001b[0m\u001b[1;33m\u001b[0m\u001b[1;33m\u001b[0m\u001b[0m\n\u001b[0m\u001b[0;32m     20\u001b[0m \u001b[1;33m\u001b[0m\u001b[0m\n\u001b[0;32m     21\u001b[0m \u001b[1;33m\u001b[0m\u001b[0m\n",
      "\u001b[1;32mC:\\ProgramData\\Anaconda3\\envs\\gis_env\\lib\\site-packages\\toolz\\functoolz.py\u001b[0m in \u001b[0;36mpipe\u001b[1;34m(data, *funcs)\u001b[0m\n\u001b[0;32m    625\u001b[0m     \"\"\"\n\u001b[0;32m    626\u001b[0m     \u001b[1;32mfor\u001b[0m \u001b[0mfunc\u001b[0m \u001b[1;32min\u001b[0m \u001b[0mfuncs\u001b[0m\u001b[1;33m:\u001b[0m\u001b[1;33m\u001b[0m\u001b[1;33m\u001b[0m\u001b[0m\n\u001b[1;32m--> 627\u001b[1;33m         \u001b[0mdata\u001b[0m \u001b[1;33m=\u001b[0m \u001b[0mfunc\u001b[0m\u001b[1;33m(\u001b[0m\u001b[0mdata\u001b[0m\u001b[1;33m)\u001b[0m\u001b[1;33m\u001b[0m\u001b[1;33m\u001b[0m\u001b[0m\n\u001b[0m\u001b[0;32m    628\u001b[0m     \u001b[1;32mreturn\u001b[0m \u001b[0mdata\u001b[0m\u001b[1;33m\u001b[0m\u001b[1;33m\u001b[0m\u001b[0m\n\u001b[0;32m    629\u001b[0m \u001b[1;33m\u001b[0m\u001b[0m\n",
      "\u001b[1;32mC:\\ProgramData\\Anaconda3\\envs\\gis_env\\lib\\site-packages\\toolz\\functoolz.py\u001b[0m in \u001b[0;36m__call__\u001b[1;34m(self, *args, **kwargs)\u001b[0m\n\u001b[0;32m    301\u001b[0m     \u001b[1;32mdef\u001b[0m \u001b[0m__call__\u001b[0m\u001b[1;33m(\u001b[0m\u001b[0mself\u001b[0m\u001b[1;33m,\u001b[0m \u001b[1;33m*\u001b[0m\u001b[0margs\u001b[0m\u001b[1;33m,\u001b[0m \u001b[1;33m**\u001b[0m\u001b[0mkwargs\u001b[0m\u001b[1;33m)\u001b[0m\u001b[1;33m:\u001b[0m\u001b[1;33m\u001b[0m\u001b[1;33m\u001b[0m\u001b[0m\n\u001b[0;32m    302\u001b[0m         \u001b[1;32mtry\u001b[0m\u001b[1;33m:\u001b[0m\u001b[1;33m\u001b[0m\u001b[1;33m\u001b[0m\u001b[0m\n\u001b[1;32m--> 303\u001b[1;33m             \u001b[1;32mreturn\u001b[0m \u001b[0mself\u001b[0m\u001b[1;33m.\u001b[0m\u001b[0m_partial\u001b[0m\u001b[1;33m(\u001b[0m\u001b[1;33m*\u001b[0m\u001b[0margs\u001b[0m\u001b[1;33m,\u001b[0m \u001b[1;33m**\u001b[0m\u001b[0mkwargs\u001b[0m\u001b[1;33m)\u001b[0m\u001b[1;33m\u001b[0m\u001b[1;33m\u001b[0m\u001b[0m\n\u001b[0m\u001b[0;32m    304\u001b[0m         \u001b[1;32mexcept\u001b[0m \u001b[0mTypeError\u001b[0m \u001b[1;32mas\u001b[0m \u001b[0mexc\u001b[0m\u001b[1;33m:\u001b[0m\u001b[1;33m\u001b[0m\u001b[1;33m\u001b[0m\u001b[0m\n\u001b[0;32m    305\u001b[0m             \u001b[1;32mif\u001b[0m \u001b[0mself\u001b[0m\u001b[1;33m.\u001b[0m\u001b[0m_should_curry\u001b[0m\u001b[1;33m(\u001b[0m\u001b[0margs\u001b[0m\u001b[1;33m,\u001b[0m \u001b[0mkwargs\u001b[0m\u001b[1;33m,\u001b[0m \u001b[0mexc\u001b[0m\u001b[1;33m)\u001b[0m\u001b[1;33m:\u001b[0m\u001b[1;33m\u001b[0m\u001b[1;33m\u001b[0m\u001b[0m\n",
      "\u001b[1;32mC:\\ProgramData\\Anaconda3\\envs\\gis_env\\lib\\site-packages\\altair\\utils\\data.py\u001b[0m in \u001b[0;36mto_values\u001b[1;34m(data)\u001b[0m\n\u001b[0;32m    147\u001b[0m         \u001b[1;32mreturn\u001b[0m \u001b[1;33m{\u001b[0m\u001b[1;34m\"values\"\u001b[0m\u001b[1;33m:\u001b[0m \u001b[0mdata\u001b[0m\u001b[1;33m}\u001b[0m\u001b[1;33m\u001b[0m\u001b[1;33m\u001b[0m\u001b[0m\n\u001b[0;32m    148\u001b[0m     \u001b[1;32melif\u001b[0m \u001b[0misinstance\u001b[0m\u001b[1;33m(\u001b[0m\u001b[0mdata\u001b[0m\u001b[1;33m,\u001b[0m \u001b[0mpd\u001b[0m\u001b[1;33m.\u001b[0m\u001b[0mDataFrame\u001b[0m\u001b[1;33m)\u001b[0m\u001b[1;33m:\u001b[0m\u001b[1;33m\u001b[0m\u001b[1;33m\u001b[0m\u001b[0m\n\u001b[1;32m--> 149\u001b[1;33m         \u001b[0mdata\u001b[0m \u001b[1;33m=\u001b[0m \u001b[0msanitize_dataframe\u001b[0m\u001b[1;33m(\u001b[0m\u001b[0mdata\u001b[0m\u001b[1;33m)\u001b[0m\u001b[1;33m\u001b[0m\u001b[1;33m\u001b[0m\u001b[0m\n\u001b[0m\u001b[0;32m    150\u001b[0m         \u001b[1;32mreturn\u001b[0m \u001b[1;33m{\u001b[0m\u001b[1;34m\"values\"\u001b[0m\u001b[1;33m:\u001b[0m \u001b[0mdata\u001b[0m\u001b[1;33m.\u001b[0m\u001b[0mto_dict\u001b[0m\u001b[1;33m(\u001b[0m\u001b[0morient\u001b[0m\u001b[1;33m=\u001b[0m\u001b[1;34m\"records\"\u001b[0m\u001b[1;33m)\u001b[0m\u001b[1;33m}\u001b[0m\u001b[1;33m\u001b[0m\u001b[1;33m\u001b[0m\u001b[0m\n\u001b[0;32m    151\u001b[0m     \u001b[1;32melif\u001b[0m \u001b[0misinstance\u001b[0m\u001b[1;33m(\u001b[0m\u001b[0mdata\u001b[0m\u001b[1;33m,\u001b[0m \u001b[0mdict\u001b[0m\u001b[1;33m)\u001b[0m\u001b[1;33m:\u001b[0m\u001b[1;33m\u001b[0m\u001b[1;33m\u001b[0m\u001b[0m\n",
      "\u001b[1;32mC:\\ProgramData\\Anaconda3\\envs\\gis_env\\lib\\site-packages\\altair\\utils\\core.py\u001b[0m in \u001b[0;36msanitize_dataframe\u001b[1;34m(df)\u001b[0m\n\u001b[0;32m    271\u001b[0m \u001b[1;33m\u001b[0m\u001b[0m\n\u001b[0;32m    272\u001b[0m     \u001b[1;32mif\u001b[0m \u001b[0misinstance\u001b[0m\u001b[1;33m(\u001b[0m\u001b[0mdf\u001b[0m\u001b[1;33m.\u001b[0m\u001b[0mindex\u001b[0m\u001b[1;33m,\u001b[0m \u001b[0mpd\u001b[0m\u001b[1;33m.\u001b[0m\u001b[0mMultiIndex\u001b[0m\u001b[1;33m)\u001b[0m\u001b[1;33m:\u001b[0m\u001b[1;33m\u001b[0m\u001b[1;33m\u001b[0m\u001b[0m\n\u001b[1;32m--> 273\u001b[1;33m         \u001b[1;32mraise\u001b[0m \u001b[0mValueError\u001b[0m\u001b[1;33m(\u001b[0m\u001b[1;34m\"Hierarchical indices not supported\"\u001b[0m\u001b[1;33m)\u001b[0m\u001b[1;33m\u001b[0m\u001b[1;33m\u001b[0m\u001b[0m\n\u001b[0m\u001b[0;32m    274\u001b[0m     \u001b[1;32mif\u001b[0m \u001b[0misinstance\u001b[0m\u001b[1;33m(\u001b[0m\u001b[0mdf\u001b[0m\u001b[1;33m.\u001b[0m\u001b[0mcolumns\u001b[0m\u001b[1;33m,\u001b[0m \u001b[0mpd\u001b[0m\u001b[1;33m.\u001b[0m\u001b[0mMultiIndex\u001b[0m\u001b[1;33m)\u001b[0m\u001b[1;33m:\u001b[0m\u001b[1;33m\u001b[0m\u001b[1;33m\u001b[0m\u001b[0m\n\u001b[0;32m    275\u001b[0m         \u001b[1;32mraise\u001b[0m \u001b[0mValueError\u001b[0m\u001b[1;33m(\u001b[0m\u001b[1;34m\"Hierarchical indices not supported\"\u001b[0m\u001b[1;33m)\u001b[0m\u001b[1;33m\u001b[0m\u001b[1;33m\u001b[0m\u001b[0m\n",
      "\u001b[1;31mValueError\u001b[0m: Hierarchical indices not supported"
     ]
    },
    {
     "data": {
      "text/plain": [
       "alt.Chart(...)"
      ]
     },
     "execution_count": 69,
     "metadata": {},
     "output_type": "execute_result"
    }
   ],
   "source": [
    "alt.Chart(mySelection).mark_circle(size=60).encode(\n",
    "    x='StichtagDatJahr',\n",
    "    y='AlterV20Kurz',\n",
    "    #color='AnzNat',\n",
    "    #color=alt.Color('AnzNat', scale=alt.Scale(scheme='dark2')),\n",
    "    color=alt.Color('AlterV20Kurz', scale=alt.Scale(scheme='greens')),\n",
    "    tooltip=['StichtagDatJahr','AlterV20Kurz','AnzBestWir']\n",
    ").interactive() # this makes the axes interactive: now you can zoom & pan\n",
    "\n",
    "\n"
   ]
  },
  {
   "cell_type": "markdown",
   "metadata": {},
   "source": [
    "**Test: Choroplethenkarte**\n",
    "Importiere die Geodaten als GeoJSON"
   ]
  },
  {
   "cell_type": "markdown",
   "metadata": {},
   "source": [
    "Joine die importierten statistischen Daten des aktuellen Jahres zum Geodatensatz:\n",
    "\n",
    "*Siehe dazu Doku zu [Geopandas](https://geopandas.org/docs/user_guide/mergingdata.html)*"
   ]
  },
  {
   "cell_type": "code",
   "execution_count": 25,
   "metadata": {},
   "outputs": [
    {
     "data": {
      "text/html": [
       "<div>\n",
       "<style scoped>\n",
       "    .dataframe tbody tr th:only-of-type {\n",
       "        vertical-align: middle;\n",
       "    }\n",
       "\n",
       "    .dataframe tbody tr th {\n",
       "        vertical-align: top;\n",
       "    }\n",
       "\n",
       "    .dataframe thead th {\n",
       "        text-align: right;\n",
       "    }\n",
       "</style>\n",
       "<table border=\"1\" class=\"dataframe\">\n",
       "  <thead>\n",
       "    <tr style=\"text-align: right;\">\n",
       "      <th></th>\n",
       "      <th></th>\n",
       "      <th></th>\n",
       "      <th></th>\n",
       "      <th>AnzBestWir</th>\n",
       "    </tr>\n",
       "    <tr>\n",
       "      <th>StichtagDatJahr</th>\n",
       "      <th>StichtagDatMM</th>\n",
       "      <th>QuarCd</th>\n",
       "      <th>QuarLang</th>\n",
       "      <th></th>\n",
       "    </tr>\n",
       "  </thead>\n",
       "  <tbody>\n",
       "    <tr>\n",
       "      <th rowspan=\"5\" valign=\"top\">2021</th>\n",
       "      <th rowspan=\"5\" valign=\"top\">7</th>\n",
       "      <th>11</th>\n",
       "      <th>Rathaus</th>\n",
       "      <td>3238</td>\n",
       "    </tr>\n",
       "    <tr>\n",
       "      <th>12</th>\n",
       "      <th>Hochschulen</th>\n",
       "      <td>677</td>\n",
       "    </tr>\n",
       "    <tr>\n",
       "      <th>13</th>\n",
       "      <th>Lindenhof</th>\n",
       "      <td>1020</td>\n",
       "    </tr>\n",
       "    <tr>\n",
       "      <th>14</th>\n",
       "      <th>City</th>\n",
       "      <td>818</td>\n",
       "    </tr>\n",
       "    <tr>\n",
       "      <th>21</th>\n",
       "      <th>Wollishofen</th>\n",
       "      <td>20020</td>\n",
       "    </tr>\n",
       "  </tbody>\n",
       "</table>\n",
       "</div>"
      ],
      "text/plain": [
       "                                                  AnzBestWir\n",
       "StichtagDatJahr StichtagDatMM QuarCd QuarLang               \n",
       "2021            7             11     Rathaus            3238\n",
       "                              12     Hochschulen         677\n",
       "                              13     Lindenhof          1020\n",
       "                              14     City                818\n",
       "                              21     Wollishofen       20020"
      ]
     },
     "execution_count": 25,
     "metadata": {},
     "output_type": "execute_result"
    }
   ],
   "source": [
    "myGraph = myTimeSelection.groupby(\n",
    "    ['StichtagDatJahr','StichtagDatMM','QuarCd','QuarLang']\n",
    ").agg(\n",
    "\n",
    "    {\n",
    "        'AnzBestWir':'sum',\n",
    "    }\n",
    ")\n",
    "myGraph.head()\n",
    "\n",
    "\n",
    "#myTimeSelection\n",
    "\n"
   ]
  },
  {
   "cell_type": "code",
   "execution_count": 26,
   "metadata": {},
   "outputs": [
    {
     "data": {
      "text/html": [
       "<div>\n",
       "<style scoped>\n",
       "    .dataframe tbody tr th:only-of-type {\n",
       "        vertical-align: middle;\n",
       "    }\n",
       "\n",
       "    .dataframe tbody tr th {\n",
       "        vertical-align: top;\n",
       "    }\n",
       "\n",
       "    .dataframe thead th {\n",
       "        text-align: right;\n",
       "    }\n",
       "</style>\n",
       "<table border=\"1\" class=\"dataframe\">\n",
       "  <thead>\n",
       "    <tr style=\"text-align: right;\">\n",
       "      <th></th>\n",
       "      <th></th>\n",
       "      <th></th>\n",
       "      <th>AnzBestWir</th>\n",
       "    </tr>\n",
       "    <tr>\n",
       "      <th>StichtagDatJahr</th>\n",
       "      <th>QuarCd</th>\n",
       "      <th>QuarLang</th>\n",
       "      <th></th>\n",
       "    </tr>\n",
       "  </thead>\n",
       "  <tbody>\n",
       "    <tr>\n",
       "      <th rowspan=\"3\" valign=\"top\">2021</th>\n",
       "      <th>11</th>\n",
       "      <th>Rathaus</th>\n",
       "      <td>3238</td>\n",
       "    </tr>\n",
       "    <tr>\n",
       "      <th>12</th>\n",
       "      <th>Hochschulen</th>\n",
       "      <td>677</td>\n",
       "    </tr>\n",
       "    <tr>\n",
       "      <th>13</th>\n",
       "      <th>Lindenhof</th>\n",
       "      <td>1020</td>\n",
       "    </tr>\n",
       "  </tbody>\n",
       "</table>\n",
       "</div>"
      ],
      "text/plain": [
       "                                    AnzBestWir\n",
       "StichtagDatJahr QuarCd QuarLang               \n",
       "2021            11     Rathaus            3238\n",
       "                12     Hochschulen         677\n",
       "                13     Lindenhof          1020"
      ]
     },
     "execution_count": 26,
     "metadata": {},
     "output_type": "execute_result"
    }
   ],
   "source": [
    "stats_agg_quartiere = myGraph.groupby(['StichtagDatJahr', 'QuarCd','QuarLang'])[['AnzBestWir']].sum()\n",
    "#stats_agg_quartiere=aktuellesJahr.groupby(['Jahr', 'QuarSort'])['AnzWhg','Wohnungsfl', 'PersInGeb'].sum()\n",
    "#test = data2betested.groupby(['StichtagDatJahr', 'AlterV20Kurz'])[['AnzBestWir']].agg()\n",
    "#stats_agg_quartiere.head()\n",
    "stats_agg_quartiere.head(3)"
   ]
  },
  {
   "cell_type": "code",
   "execution_count": 27,
   "metadata": {},
   "outputs": [
    {
     "data": {
      "text/html": [
       "<div>\n",
       "<style scoped>\n",
       "    .dataframe tbody tr th:only-of-type {\n",
       "        vertical-align: middle;\n",
       "    }\n",
       "\n",
       "    .dataframe tbody tr th {\n",
       "        vertical-align: top;\n",
       "    }\n",
       "\n",
       "    .dataframe thead th {\n",
       "        text-align: right;\n",
       "    }\n",
       "</style>\n",
       "<table border=\"1\" class=\"dataframe\">\n",
       "  <thead>\n",
       "    <tr style=\"text-align: right;\">\n",
       "      <th></th>\n",
       "      <th>geometry</th>\n",
       "      <th>QuarCd</th>\n",
       "      <th>qname</th>\n",
       "      <th>knr</th>\n",
       "      <th>AnzBestWir</th>\n",
       "    </tr>\n",
       "  </thead>\n",
       "  <tbody>\n",
       "    <tr>\n",
       "      <th>0</th>\n",
       "      <td>POLYGON ((8.55670 47.36406, 8.55682 47.36410, ...</td>\n",
       "      <td>73</td>\n",
       "      <td>Hirslanden</td>\n",
       "      <td>7</td>\n",
       "      <td>7396</td>\n",
       "    </tr>\n",
       "    <tr>\n",
       "      <th>1</th>\n",
       "      <td>POLYGON ((8.55670 47.36405, 8.55672 47.36403, ...</td>\n",
       "      <td>83</td>\n",
       "      <td>Weinegg</td>\n",
       "      <td>8</td>\n",
       "      <td>5540</td>\n",
       "    </tr>\n",
       "    <tr>\n",
       "      <th>2</th>\n",
       "      <td>POLYGON ((8.55423 47.36456, 8.55426 47.36452, ...</td>\n",
       "      <td>82</td>\n",
       "      <td>Mühlebach</td>\n",
       "      <td>8</td>\n",
       "      <td>6404</td>\n",
       "    </tr>\n",
       "    <tr>\n",
       "      <th>3</th>\n",
       "      <td>POLYGON ((8.54795 47.36500, 8.54805 47.36489, ...</td>\n",
       "      <td>81</td>\n",
       "      <td>Seefeld</td>\n",
       "      <td>8</td>\n",
       "      <td>5811</td>\n",
       "    </tr>\n",
       "    <tr>\n",
       "      <th>4</th>\n",
       "      <td>POLYGON ((8.53300 47.37394, 8.53299 47.37392, ...</td>\n",
       "      <td>41</td>\n",
       "      <td>Werd</td>\n",
       "      <td>4</td>\n",
       "      <td>4603</td>\n",
       "    </tr>\n",
       "    <tr>\n",
       "      <th>5</th>\n",
       "      <td>POLYGON ((8.51937 47.37478, 8.51946 47.37465, ...</td>\n",
       "      <td>34</td>\n",
       "      <td>Sihlfeld</td>\n",
       "      <td>3</td>\n",
       "      <td>21580</td>\n",
       "    </tr>\n",
       "    <tr>\n",
       "      <th>6</th>\n",
       "      <td>POLYGON ((8.50127 47.37961, 8.50121 47.37957, ...</td>\n",
       "      <td>91</td>\n",
       "      <td>Albisrieden</td>\n",
       "      <td>9</td>\n",
       "      <td>22236</td>\n",
       "    </tr>\n",
       "    <tr>\n",
       "      <th>7</th>\n",
       "      <td>POLYGON ((8.58346 47.38831, 8.58418 47.38833, ...</td>\n",
       "      <td>72</td>\n",
       "      <td>Hottingen</td>\n",
       "      <td>7</td>\n",
       "      <td>11213</td>\n",
       "    </tr>\n",
       "    <tr>\n",
       "      <th>8</th>\n",
       "      <td>POLYGON ((8.54297 47.33543, 8.54285 47.33537, ...</td>\n",
       "      <td>21</td>\n",
       "      <td>Wollishofen</td>\n",
       "      <td>2</td>\n",
       "      <td>20020</td>\n",
       "    </tr>\n",
       "    <tr>\n",
       "      <th>9</th>\n",
       "      <td>POLYGON ((8.52688 47.40709, 8.52687 47.40711, ...</td>\n",
       "      <td>61</td>\n",
       "      <td>Unterstrass</td>\n",
       "      <td>6</td>\n",
       "      <td>24368</td>\n",
       "    </tr>\n",
       "    <tr>\n",
       "      <th>10</th>\n",
       "      <td>POLYGON ((8.52541 47.40617, 8.52548 47.40590, ...</td>\n",
       "      <td>101</td>\n",
       "      <td>Höngg</td>\n",
       "      <td>10</td>\n",
       "      <td>24379</td>\n",
       "    </tr>\n",
       "    <tr>\n",
       "      <th>11</th>\n",
       "      <td>POLYGON ((8.54746 47.39938, 8.54747 47.39939, ...</td>\n",
       "      <td>115</td>\n",
       "      <td>Oerlikon</td>\n",
       "      <td>11</td>\n",
       "      <td>23518</td>\n",
       "    </tr>\n",
       "    <tr>\n",
       "      <th>12</th>\n",
       "      <td>POLYGON ((8.53261 47.41622, 8.53249 47.41580, ...</td>\n",
       "      <td>111</td>\n",
       "      <td>Affoltern</td>\n",
       "      <td>11</td>\n",
       "      <td>26253</td>\n",
       "    </tr>\n",
       "  </tbody>\n",
       "</table>\n",
       "</div>"
      ],
      "text/plain": [
       "                                             geometry  QuarCd        qname  knr  AnzBestWir\n",
       "0   POLYGON ((8.55670 47.36406, 8.55682 47.36410, ...      73   Hirslanden    7        7396\n",
       "1   POLYGON ((8.55670 47.36405, 8.55672 47.36403, ...      83      Weinegg    8        5540\n",
       "2   POLYGON ((8.55423 47.36456, 8.55426 47.36452, ...      82    Mühlebach    8        6404\n",
       "3   POLYGON ((8.54795 47.36500, 8.54805 47.36489, ...      81      Seefeld    8        5811\n",
       "4   POLYGON ((8.53300 47.37394, 8.53299 47.37392, ...      41         Werd    4        4603\n",
       "5   POLYGON ((8.51937 47.37478, 8.51946 47.37465, ...      34     Sihlfeld    3       21580\n",
       "6   POLYGON ((8.50127 47.37961, 8.50121 47.37957, ...      91  Albisrieden    9       22236\n",
       "7   POLYGON ((8.58346 47.38831, 8.58418 47.38833, ...      72    Hottingen    7       11213\n",
       "8   POLYGON ((8.54297 47.33543, 8.54285 47.33537, ...      21  Wollishofen    2       20020\n",
       "9   POLYGON ((8.52688 47.40709, 8.52687 47.40711, ...      61  Unterstrass    6       24368\n",
       "10  POLYGON ((8.52541 47.40617, 8.52548 47.40590, ...     101        Höngg   10       24379\n",
       "11  POLYGON ((8.54746 47.39938, 8.54747 47.39939, ...     115     Oerlikon   11       23518\n",
       "12  POLYGON ((8.53261 47.41622, 8.53249 47.41580, ...     111    Affoltern   11       26253"
      ]
     },
     "execution_count": 27,
     "metadata": {},
     "output_type": "execute_result"
    }
   ],
   "source": [
    "# Rename attribute stznr to StatZoneSort, so the IDs have the same name\n",
    "\n",
    "stadtquartiere_shapes = df_adm_statistische_quartiere_map[['geometry', 'qnr', 'qname', 'knr']].rename(columns={'qnr': 'QuarCd'})\n",
    "\n",
    "# Merge with `merge` method on shared variable (stznr und StatZoneSort):\n",
    "stadtquartiere_shapes_joined = stadtquartiere_shapes.merge(stats_agg_quartiere, on='QuarCd')\n",
    "\n",
    "stadtquartiere_shapes_joined.head(13)\n"
   ]
  },
  {
   "cell_type": "code",
   "execution_count": 28,
   "metadata": {},
   "outputs": [
    {
     "data": {
      "text/plain": [
       "<AxesSubplot:>"
      ]
     },
     "execution_count": 28,
     "metadata": {},
     "output_type": "execute_result"
    },
    {
     "data": {
      "image/png": "[encoded data removed]",
      "text/plain": [
       "<Figure size 432x288 with 1 Axes>"
      ]
     },
     "metadata": {
      "needs_background": "light"
     },
     "output_type": "display_data"
    },
    {
     "data": {
      "image/png": "[encoded data removed]",
      "text/plain": [
       "<Figure size 432x288 with 1 Axes>"
      ]
     },
     "metadata": {
      "needs_background": "light"
     },
     "output_type": "display_data"
    },
    {
     "data": {
      "image/png": "[encoded data removed]",
      "text/plain": [
       "<Figure size 432x288 with 1 Axes>"
      ]
     },
     "metadata": {
      "needs_background": "light"
     },
     "output_type": "display_data"
    }
   ],
   "source": [
    "# Plot by StatQuartiere\n",
    "# Weitere Schemes: scheme='quantiles', scheme='fisherjenks', scheme='natural_breaks',\n",
    "\n",
    "stadtquartiere_shapes_joined.plot(column='AnzBestWir', cmap='viridis', scheme='natural_breaks', legend=True )\n",
    "#scheme werte: https://matplotlib.org/2.0.2/users/colormaps.html\n",
    "\n",
    "stadtquartiere_shapes_joined.plot(column='AnzBestWir', cmap='plasma', scheme='fisherjenks', legend=True )\n",
    "#scheme werte: https://matplotlib.org/2.0.2/users/colormaps.html\n",
    "stadtquartiere_shapes_joined.plot(column='AnzBestWir', cmap='cool', scheme='quantiles', legend=True )\n",
    "#scheme werte: https://matplotlib.org/2.0.2/users/colormaps.html\n",
    "\n",
    "#\n",
    "#Neuere Gallerie: https://matplotlib.org/stable/gallery/index.html"
   ]
  },
  {
   "cell_type": "raw",
   "metadata": {},
   "source": [
    "fig, ax = plt.subplots(1, 1)\n",
    "\n",
    "statzonen_shapes_aktJahr.plot(column='AnzWhg', ax=ax, legend=True, legend_kwds={'label': \"Anzahl Personen\",'orientation': \"horizontal\"})\n"
   ]
  },
  {
   "cell_type": "markdown",
   "metadata": {},
   "source": [
    "Noch zu prüfen, folgendes schöne Beispiel: https://docs.bokeh.org/en/latest/docs/user_guide/interaction/legends.html\n",
    "\n",
    "Konkrete Beispiele von Bookeh in Jupyter NB: https://docs.bokeh.org/en/latest/docs/user_guide/jupyter.html"
   ]
  },
  {
   "cell_type": "markdown",
   "metadata": {},
   "source": [
    "**Sharepoint als gecheckt markieren!**"
   ]
  },
  {
   "cell_type": "markdown",
   "metadata": {},
   "source": [
    "Record auf Sharepoint: **[Link](http://kollaboration.intranet.stzh.ch/orga/ssz-produkte/Lists/SASA_Outputs/EditForm.aspx?ID=157&Source=%2Forga%2Fssz%2Dprodukte%2FLists%2FSASA%5FOutputs)**"
   ]
  },
  {
   "cell_type": "code",
   "execution_count": null,
   "metadata": {},
   "outputs": [],
   "source": []
  },
  {
   "cell_type": "raw",
   "metadata": {},
   "source": []
  },
  {
   "cell_type": "code",
   "execution_count": null,
   "metadata": {},
   "outputs": [],
   "source": []
  }
 ],
 "metadata": {
  "kernelspec": {
   "display_name": "Python 3 (ipykernel)",
   "language": "python",
   "name": "python3"
  },
  "language_info": {
   "codemirror_mode": {
    "name": "ipython",
    "version": 3
   },
   "file_extension": ".py",
   "mimetype": "text/x-python",
   "name": "python",
   "nbconvert_exporter": "python",
   "pygments_lexer": "ipython3",
   "version": "3.9.7"
  }
 },
 "nbformat": 4,
 "nbformat_minor": 4
}
