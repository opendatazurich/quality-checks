{
 "cells": [
  {
   "cell_type": "markdown",
   "metadata": {},
   "source": [
    "# Plausi der Messwerte der Velo- und Fussgaengerzaehlung\n",
    "Datum: 15.08.2022\n",
    "\n",
    "**Ausgangslage:**\n",
    "\n",
    "Das TAZ liefert wöchentlich die Zähldaten auf die OGD-Dropzone. \n",
    "\n",
    "Auf OGD sind sie unter folgender URL zu finden: https://data.stadt-zuerich.ch/dataset/ted_taz_verkehrszaehlungen_werte_fussgaenger_velo\n",
    "\n",
    "Abgeschlossene Jahre sind als einzelne Ressource downloadbar. Das aktuelle Jahr wird laufend nachgeführt.\n",
    "\n"
   ]
  },
  {
   "cell_type": "markdown",
   "metadata": {},
   "source": [
    "## Einstellungen\n",
    "### Importiere die notwendigen Packages"
   ]
  },
  {
   "cell_type": "code",
   "execution_count": 1,
   "metadata": {},
   "outputs": [],
   "source": [
    "#%pip install openpyxl geopandas altair fiona requests folium mplleaflet contextily seaborn datetime plotly"
   ]
  },
  {
   "cell_type": "code",
   "execution_count": 48,
   "metadata": {},
   "outputs": [],
   "source": [
    "import numpy as np\n",
    "import pandas as pd\n",
    "import geopandas as gpd\n",
    "import fiona; \n",
    "import mplleaflet\n",
    "import pivottablejs\n",
    "from pivottablejs import pivot_ui\n",
    "\n",
    "import altair as alt\n",
    "import datetime\n",
    "import folium \n",
    "import plotly.express as px\n",
    "\n",
    "import requests\n",
    "import io\n",
    "import matplotlib.pyplot as plt\n",
    "import matplotlib.ticker as mtick\n",
    "\n",
    "import seaborn as sns\n",
    "\n",
    "plt.rcParams['figure.figsize'] = [10, 6]\n",
    "plt.rcParams['figure.dpi'] = 100\n"
   ]
  },
  {
   "cell_type": "markdown",
   "metadata": {},
   "source": [
    "Definiere Settings. Hier das Zahlenformat von Float-Werten (z.B. *'{:,.2f}'.format* mit Komma als Tausenderzeichen), "
   ]
  },
  {
   "cell_type": "code",
   "execution_count": 49,
   "metadata": {},
   "outputs": [],
   "source": [
    "pd.options.display.float_format = '{:.1f}'.format\n",
    "pd.set_option('display.width', 100)\n",
    "pd.set_option('display.max_columns', 15)"
   ]
  },
  {
   "cell_type": "code",
   "execution_count": 50,
   "metadata": {},
   "outputs": [],
   "source": [
    "SSL_VERIFY = False\n",
    "# evtl. SSL_VERIFY auf False setzen wenn die Verbindung zu https://www.gemeinderat-zuerich.ch nicht klappt (z.B. wegen Proxy)\n",
    "# Um die SSL Verifikation auszustellen, bitte die nächste Zeile einkommentieren (\"#\" entfernen)\n",
    "# SSL_VERIFY = False"
   ]
  },
  {
   "cell_type": "code",
   "execution_count": 51,
   "metadata": {},
   "outputs": [],
   "source": [
    "if not SSL_VERIFY:\n",
    "    import urllib3\n",
    "    urllib3.disable_warnings()"
   ]
  },
  {
   "cell_type": "markdown",
   "metadata": {},
   "source": [
    "### Zeitvariabeln\n",
    "Bestimme den aktuellst geladenen Monat. Hier ist es der Stand vor 2 Monaten. \n",
    "Bestimme noch weitere evt. sinnvolle Zeitvariabeln.\n",
    "\n",
    "Zum Unterschied zwischen import `datetime` und `from datetime import datetime`, siehe https://stackoverflow.com/questions/15707532/import-datetime-v-s-from-datetime-import-datetime\n",
    "\n",
    "Zuerst die Zeitvariabeln als Strings"
   ]
  },
  {
   "cell_type": "code",
   "execution_count": 52,
   "metadata": {},
   "outputs": [],
   "source": [
    "geojson_url = \"https://www.ogd.stadt-zuerich.ch/wfs/geoportal/Move_and_Chill?service=WFS&version=1.1.0&request=GetFeature&outputFormat=GeoJSON&typename=view_moveandchill\"\n"
   ]
  },
  {
   "cell_type": "code",
   "execution_count": 53,
   "metadata": {},
   "outputs": [
    {
     "data": {
      "text/plain": [
       "humidity        float64\n",
       "id                int64\n",
       "latitude        float64\n",
       "longitude       float64\n",
       "noise           float64\n",
       "objectid        float64\n",
       "sensor_eui       object\n",
       "sit             float64\n",
       "temperature     float64\n",
       "zeitpunkt        object\n",
       "geometry       geometry\n",
       "dtype: object"
      ]
     },
     "execution_count": 53,
     "metadata": {},
     "output_type": "execute_result"
    }
   ],
   "source": [
    "    r = requests.get(geojson_url, verify=False)  \n",
    "    r.encoding = 'utf-8'\n",
    "    \n",
    "    gdf_data2betested = gpd.read_file(\n",
    "        io.StringIO(r.text), convert_dates=True, keep_default_dates=True, lines=True\n",
    "    )\n",
    "\n",
    "gdf_data2betested.dtypes\n",
    "#gdf_data2betested.columns\n",
    "#gdf_data2betested"
   ]
  },
  {
   "cell_type": "code",
   "execution_count": 54,
   "metadata": {},
   "outputs": [
    {
     "name": "stdout",
     "output_type": "stream",
     "text": [
      "2022-08-26 2022-08-26 2022 08 26\n"
     ]
    }
   ],
   "source": [
    "now = datetime.date.today()\n",
    "date_today = now.strftime(\"%Y-%m-%d\")\n",
    "year_today = now.strftime(\"%Y\")\n",
    "month_today = now.strftime(\"%m\")\n",
    "day_today = now.strftime(\"%d\")\n",
    "print(now, date_today, year_today, month_today,day_today )"
   ]
  },
  {
   "cell_type": "markdown",
   "metadata": {},
   "source": [
    "Und hier noch die Zeitvariabeln als Integers:\n",
    "- `aktuellesJahr`\n",
    "- `aktuellerMonat`: Der gerade jetzt aktuelle Monat\n",
    "- `selectedMonat`: Der aktuellste Monat in den Daten. In der Regel zwei Monate her."
   ]
  },
  {
   "cell_type": "code",
   "execution_count": 55,
   "metadata": {},
   "outputs": [
    {
     "name": "stdout",
     "output_type": "stream",
     "text": [
      "2022 8 datenstand:  6 time.struct_time(tm_year=2022, tm_mon=8, tm_mday=26, tm_hour=0, tm_min=0, tm_sec=0, tm_wday=4, tm_yday=238, tm_isdst=-1)\n"
     ]
    }
   ],
   "source": [
    "int_times = now.timetuple()\n",
    "\n",
    "aktuellesJahr = int_times[0]\n",
    "aktuellerMonat = int_times[1]\n",
    "selectedMonat = int_times[1]-2\n",
    "\n",
    "print(aktuellesJahr, \n",
    "      aktuellerMonat,\n",
    "      'datenstand: ', \n",
    "      selectedMonat,\n",
    "     int_times)\n"
   ]
  },
  {
   "cell_type": "markdown",
   "metadata": {},
   "source": [
    "## Importiere die Geodaten und Identifikatoren zu den Messdaten\n",
    "\n",
    "- URL zu den Zählstellenstandorten: https://data.stadt-zuerich.ch/dataset/geo_standorte_der_automatischen_fuss__und_velozaehlungen\n",
    "- Für den Datenimport dieser Geodaten verwenden wir den GeoJSON-Service unter: \n",
    "https://www.ogd.stadt-zuerich.ch/wfs/geoportal/Standorte_der_automatischen_Fuss__und_Velozaehlungen?service=WFS&version=1.1.0&request=GetFeature&outputFormat=GeoJSON&typename=view_eco_standorte\n",
    "\n",
    "Attribute:\n",
    "\n",
    "- KORREKTURFAKTOR\tDer Faktor mit dem aus den Gerätewerten die effektiven Frequenzen berechnet werden können. Wertebereiche sind zwischen 0 und 2. Typ NUMBER.\n",
    "- ID1\t. Typ NUMBER.\n",
    "- FK_ZAEHLER\tGeräte-ID. Typ VARCHAR2.\n",
    "- ABKUERZUNG\tAbkürzung des Zählstandorts. Typ VARCHAR2.\n",
    "- BEZEICHNUNG\tBezeichnung des Zählstandorts. Typ VARCHAR2.\n",
    "- VON\tStandort gültig von. Typ DATE.\n",
    "- BIS\tStandort gütlig bis (falls NULL ist der Standort aktuell). Typ DATE.\n",
    "- RICHTUNG_IN\tRichtungsangabe für Feld IN (gilt für Fuss- und Veloverkehr). Typ VARCHAR2.\n",
    "- RICHTUNG_OUT\tRichtungsangabe für Feld OUT (gilt für Fuss- und Veloverkehr). Typ VARCHAR2.\n",
    "- GEOMETRIE\t. Typ SDO_GEOMETRY."
   ]
  },
  {
   "cell_type": "code",
   "execution_count": 56,
   "metadata": {},
   "outputs": [],
   "source": [
    "geojson_url = \"https://www.ogd.stadt-zuerich.ch/wfs/geoportal/Standorte_der_automatischen_Fuss__und_Velozaehlungen?service=WFS&version=1.1.0&request=GetFeature&outputFormat=GeoJSON&typename=view_eco_standorte\"\n"
   ]
  },
  {
   "cell_type": "code",
   "execution_count": 57,
   "metadata": {},
   "outputs": [
    {
     "data": {
      "text/plain": [
       "id                   object\n",
       "abkuerzung           object\n",
       "bezeichnung          object\n",
       "bis                  object\n",
       "fk_zaehler           object\n",
       "id1                   int64\n",
       "korrekturfaktor     float64\n",
       "objectid            float64\n",
       "richtung_in          object\n",
       "richtung_out         object\n",
       "von                  object\n",
       "geometry           geometry\n",
       "dtype: object"
      ]
     },
     "execution_count": 57,
     "metadata": {},
     "output_type": "execute_result"
    }
   ],
   "source": [
    "    r = requests.get(geojson_url, verify=False)  \n",
    "    r.encoding = 'utf-8'\n",
    "    \n",
    "    gdf_zaehler_standorte = gpd.read_file(\n",
    "        io.StringIO(r.text)\n",
    "        , convert_dates=True    \n",
    "        , keep_default_dates=True\n",
    "        , lines=True\n",
    "    )\n",
    "\n",
    "gdf_zaehler_standorte.dtypes\n",
    "#gdf_zaehler_standorte.columns\n",
    "#gdf_zaehler_standorte"
   ]
  },
  {
   "cell_type": "code",
   "execution_count": 58,
   "metadata": {},
   "outputs": [
    {
     "data": {
      "text/plain": [
       "id                         object\n",
       "abkuerzung                 object\n",
       "bezeichnung                object\n",
       "bis                        object\n",
       "fk_zaehler                 object\n",
       "id1                         int64\n",
       "korrekturfaktor           float64\n",
       "objectid                  float64\n",
       "richtung_in                object\n",
       "richtung_out               object\n",
       "von                        object\n",
       "geometry                 geometry\n",
       "timestamp_von      datetime64[ns]\n",
       "timestamp_bis      datetime64[ns]\n",
       "dtype: object"
      ]
     },
     "execution_count": 58,
     "metadata": {},
     "output_type": "execute_result"
    }
   ],
   "source": [
    "gdf_zaehler_standorte=gdf_zaehler_standorte \\\n",
    "    .copy() \\\n",
    "    .assign(\n",
    "        timestamp_von = lambda x: pd.to_datetime(gdf_zaehler_standorte['von'])\n",
    "        ,timestamp_bis = lambda x: pd.to_datetime(gdf_zaehler_standorte['bis'])    \n",
    "    )\n",
    "gdf_zaehler_standorte.dtypes"
   ]
  },
  {
   "cell_type": "code",
   "execution_count": 59,
   "metadata": {},
   "outputs": [],
   "source": [
    "#gdf_zaehler_standorte.plot()\n",
    "#gdf_zaehler_standorte.fk_zaehler.unique()"
   ]
  },
  {
   "cell_type": "markdown",
   "metadata": {},
   "source": [
    "## Importiere die bereits veröffentlichten Zeitreihen der Messstationen \n",
    "\n",
    "- Beachte dabei die Notation des Pfades...\n",
    "- Definiere mal aktuell noch keine weiteren Parameter beim Import"
   ]
  },
  {
   "cell_type": "markdown",
   "metadata": {},
   "source": [
    "### Setze einige Pfadvariabeln"
   ]
  },
  {
   "cell_type": "markdown",
   "metadata": {
    "tags": []
   },
   "source": [
    "- Der Packagename ist eigentlich der **Verzeichnisname** unter dem die Daten und Metadaten auf der Dropzone abgelegt werden.\n",
    "- Definiert wird er bei SASA-Prozessen auf dem **Produkte-Sharepoint ([Link](https://kollaboration.intranet.stzh.ch/orga/ssz-produkte/Lists/SASA_Outputs/PersonalViews.aspx?PageView=Personal&ShowWebPart={6087A3E7-8AC8-40BA-8278-DECFACE124FF}))**.\n",
    "- Der Packagename wird auf CKAN teil der URL, daher ist die exakte Schreibweise wichtig.\n",
    "\n",
    "Beachte: im Packagename müssen alle Buchstaben **klein** geschrieben werden. Dies weil CKAN aus grossen kleine Buchstaben macht."
   ]
  },
  {
   "cell_type": "markdown",
   "metadata": {},
   "source": [
    "**BITTE HIER ANPASSEN**"
   ]
  },
  {
   "cell_type": "code",
   "execution_count": 61,
   "metadata": {},
   "outputs": [],
   "source": [
    "package_name = \"ted_taz_verkehrszaehlungen_werte_fussgaenger_velo\""
   ]
  },
  {
   "cell_type": "markdown",
   "metadata": {},
   "source": [
    "Datensatz NUR für das aktuelle Jahr"
   ]
  },
  {
   "cell_type": "code",
   "execution_count": 62,
   "metadata": {
    "tags": []
   },
   "outputs": [],
   "source": [
    "#Datasetname für das aktuelle Jahr\n",
    "dataset_name = year_today+\"_verkehrszaehlungen_werte_fussgaenger_velo.csv\""
   ]
  },
  {
   "cell_type": "markdown",
   "metadata": {},
   "source": [
    "**Statische Pfade in DWH-Dropzones**"
   ]
  },
  {
   "cell_type": "code",
   "execution_count": 63,
   "metadata": {},
   "outputs": [],
   "source": [
    "dropzone_path_integ = r\"\\\\szh\\ssz\\applikationen\\OGD_Dropzone\\INT_TAZ\""
   ]
  },
  {
   "cell_type": "code",
   "execution_count": 64,
   "metadata": {
    "tags": []
   },
   "outputs": [],
   "source": [
    "dropzone_path_prod = r\"\\\\szh\\ssz\\applikationen\\OGD_Dropzone\\TAZ\""
   ]
  },
  {
   "cell_type": "markdown",
   "metadata": {},
   "source": [
    "**Statische Pfade CKAN-URLs**"
   ]
  },
  {
   "cell_type": "code",
   "execution_count": 65,
   "metadata": {
    "tags": []
   },
   "outputs": [],
   "source": [
    "ckan_integ_url =\"https://data.integ.stadt-zuerich.ch/dataset/\""
   ]
  },
  {
   "cell_type": "code",
   "execution_count": 66,
   "metadata": {},
   "outputs": [],
   "source": [
    "ckan_prod_url =\"https://data.stadt-zuerich.ch/dataset/\""
   ]
  },
  {
   "cell_type": "markdown",
   "metadata": {
    "tags": []
   },
   "source": [
    "### Checke die Metadaten auf der CKAN INTEG- oder PROD-Webseite\n",
    "\n",
    "Offenbar lassen sich aktuell im Markdownteil keine Variabeln ausführen, daher gehen wir wie unten gezeigt vor. Siehe dazu: https://data-dive.com/jupyterlab-markdown-cells-include-variables\n",
    "Instead of setting the cell to Markdown, create Markdown from withnin a code cell! We can just use python variable replacement syntax to make the text dynamic"
   ]
  },
  {
   "cell_type": "markdown",
   "metadata": {},
   "source": [
    "**Dataset auf INTEG Datenkatalog**:   https://data.integ.stadt-zuerich.ch/dataset/ted_taz_verkehrszaehlungen_werte_fussgaenger_velo/\n",
    "download/2022_verkehrszaehlungen_werte_fussgaenger_velo.csv\n",
    "\n",
    "**Dataset auf PROD Datenkatalog**:  https://data.stadt-zuerich.ch/dataset/ted_taz_verkehrszaehlungen_werte_fussgaenger_velo/\n",
    "download/2022_verkehrszaehlungen_werte_fussgaenger_velo.csv"
   ]
  },
  {
   "cell_type": "code",
   "execution_count": 67,
   "metadata": {},
   "outputs": [
    {
     "name": "stdout",
     "output_type": "stream",
     "text": [
      "prod - web\n"
     ]
    }
   ],
   "source": [
    "#Die Datasets sind nur zum Testen auf INT-DWH-Dropzone. Wenn der Test vorbei ist, sind sie auf PROD. \n",
    "# Über den Status kann man einfach switchen\n",
    "\n",
    "status = \"prod\"; #prod vs something else\n",
    "data_source = \"web\"; #dropzone vs something else\n",
    "print(status+\" - \"+ data_source)"
   ]
  },
  {
   "cell_type": "code",
   "execution_count": 68,
   "metadata": {
    "tags": []
   },
   "outputs": [
    {
     "name": "stdout",
     "output_type": "stream",
     "text": [
      "fp lautet:https://data.stadt-zuerich.ch/dataset/ted_taz_verkehrszaehlungen_werte_fussgaenger_velo/download/2022_verkehrszaehlungen_werte_fussgaenger_velo.csv\n"
     ]
    }
   ],
   "source": [
    "# Filepath\n",
    "if status == \"prod\":\n",
    "    if data_source == \"dropzone\":\n",
    "            fp = dropzone_path_prod+\"\\\\\"+ package_name +\"\\\\\"+dataset_name\n",
    "            print(\"fp lautet:\"+fp)\n",
    "    else:\n",
    "        #fp = r\"https://data.stadt-zuerich.ch/dataset/bau_neubau_whg_bausm_rinh_geb_projstatus_quartier_seit2009_od5011/download/BAU501OD5011.csv\"\n",
    "        fp = ckan_prod_url+package_name+'/download/'+dataset_name\n",
    "        print(\"fp lautet:\"+fp)\n",
    "else:\n",
    "    if data_source == \"dropzone\":\n",
    "        fp = dropzone_path_integ+\"\\\\\"+ package_name +\"\\\\\"+dataset_name\n",
    "        print(\"fp lautet:\"+fp)\n",
    "    else:\n",
    "        #fp = r\"https://data.stadt-zuerich.ch/dataset/bau_neubau_whg_bausm_rinh_geb_projstatus_quartier_seit2009_od5011/download/BAU501OD5011.csv\"\n",
    "        fp = ckan_integ_url+package_name+'/download/'+dataset_name\n",
    "        print(\"fp lautet:\"+fp)\n"
   ]
  },
  {
   "cell_type": "markdown",
   "metadata": {},
   "source": [
    "Beachte, wie das SAS Datum (ohne Format) in ein UNIX Datum umgerechnet und als Datumsformat dargestellt wird! Siehe dazu `https://stackoverflow.com/questions/26923564/convert-sas-numeric-to-python-datetime`"
   ]
  },
  {
   "cell_type": "code",
   "execution_count": 69,
   "metadata": {},
   "outputs": [
    {
     "name": "stdout",
     "output_type": "stream",
     "text": [
      "web\n"
     ]
    },
    {
     "data": {
      "text/plain": [
       "FK_ZAEHLER             object\n",
       "FK_STANDORT             int64\n",
       "DATUM          datetime64[ns]\n",
       "VELO_IN               float64\n",
       "VELO_OUT              float64\n",
       "FUSS_IN               float64\n",
       "FUSS_OUT              float64\n",
       "OST                     int64\n",
       "NORD                    int64\n",
       "dtype: object"
      ]
     },
     "execution_count": 69,
     "metadata": {},
     "output_type": "execute_result"
    }
   ],
   "source": [
    "# Read the data\n",
    "if data_source == \"dropzone\":\n",
    "    data2betested = pd.read_csv(\n",
    "        fp\n",
    "        , sep=','\n",
    "        ,parse_dates=['DATUM']\n",
    "        ,low_memory=False\n",
    "    )\n",
    "    print(\"dropzone\")\n",
    "else:\n",
    "    r = requests.get(fp, verify=False)  \n",
    "    r.encoding = 'utf-8'\n",
    "    df_data2betested = pd.read_csv(\n",
    "        io.StringIO(r.text)\n",
    "        ,parse_dates=['DATUM']\n",
    "        # KONVERTIERE DAS SAS DATUM IN EIN UNIXDATUM UND FORMATIERE ES\n",
    "        #, date_parser=lambda s: epoch + datetime.timedelta(days=int(s))\n",
    "        ,low_memory=False)\n",
    "    print(\"web\")\n",
    "\n",
    "df_data2betested.dtypes"
   ]
  },
  {
   "cell_type": "markdown",
   "metadata": {},
   "source": [
    "Ich importiere die Datumsfelder bewussts als STRINGS. Nicht im Datumsformat.\n",
    "Dies erlaubt später ein einfaches zusammmensetzen der neuen zu den bestehenden Daten.\n",
    "\n",
    "- [**Cheat Sheet**](https://strftime.org/)\n",
    "- Python documentation for **strptime**: [string **parse** time, Python 3](https://docs.python.org/3/library/datetime.html#datetime.datetime.strptime)\n",
    "- Python documentation for strptime/**strftime**: [string **format** time,Python 3](https://docs.python.org/3/library/datetime.html#strftime-and-strptime-behavior)"
   ]
  },
  {
   "cell_type": "markdown",
   "metadata": {},
   "source": [
    "Wandle timestamp_utc noch in ein Datetime-Format um. Könnte auch beim einlesen gemacht werden."
   ]
  },
  {
   "cell_type": "code",
   "execution_count": 70,
   "metadata": {},
   "outputs": [],
   "source": [
    "df_data2betested['timestamp_utc'] = pd.to_datetime(df_data2betested['DATUM'], utc=True)"
   ]
  },
  {
   "cell_type": "code",
   "execution_count": 71,
   "metadata": {},
   "outputs": [
    {
     "data": {
      "text/plain": [
       "FK_ZAEHLER                    object\n",
       "FK_STANDORT                    int64\n",
       "DATUM                 datetime64[ns]\n",
       "VELO_IN                      float64\n",
       "VELO_OUT                     float64\n",
       "FUSS_IN                      float64\n",
       "FUSS_OUT                     float64\n",
       "OST                            int64\n",
       "NORD                           int64\n",
       "timestamp_utc    datetime64[ns, UTC]\n",
       "dtype: object"
      ]
     },
     "execution_count": 71,
     "metadata": {},
     "output_type": "execute_result"
    }
   ],
   "source": [
    "df_data2betested.sort_values('DATUM', ascending=False).head(1)\n",
    "df_data2betested.dtypes"
   ]
  },
  {
   "cell_type": "markdown",
   "metadata": {},
   "source": [
    "## Joine die Standortinformationen zu den Messwerten\n",
    "\n",
    "Wichtig zu wissen ist, dass \n",
    "- das Attribut `FK_STANDORT`in den Zählwerten (df_data2betested), der `id1`in den Standortdaten (gdf_zaehler_standorte) entspricht. Ist unschön, aber ist so...\n",
    "- die räumlichen Standorte über die Zeit ändern können. "
   ]
  },
  {
   "cell_type": "markdown",
   "metadata": {},
   "source": [
    "Rename id1 mit 'FK_STANDORT'  für den Join..."
   ]
  },
  {
   "cell_type": "code",
   "execution_count": 72,
   "metadata": {},
   "outputs": [],
   "source": [
    "gdf_zaehler_standorte = gdf_zaehler_standorte.rename(columns={'id1': 'FK_STANDORT'})\n",
    "#gdf_zaehler_standorte.columns"
   ]
  },
  {
   "cell_type": "code",
   "execution_count": 73,
   "metadata": {},
   "outputs": [],
   "source": [
    "df_data2betested = df_data2betested.merge(gdf_zaehler_standorte, on='FK_STANDORT', how=\"left\") #'right', 'inner', 'left'\n",
    "#df_data2betested.columns\n",
    "#df_data2betested.sort_values('DATUM', ascending=True)"
   ]
  },
  {
   "cell_type": "markdown",
   "metadata": {},
   "source": [
    "In der Folge ein paar erste Tests:\n",
    " - 1) Zeige eine kurze Vorschau der importierten Daten\n",
    " - 2) Weise die Datentypen aus\n",
    " - 3) Zeige die Shape (Umfang) des Datensatzes an"
   ]
  },
  {
   "cell_type": "code",
   "execution_count": 74,
   "metadata": {},
   "outputs": [
    {
     "data": {
      "text/plain": [
       "FK_ZAEHLER                      object\n",
       "FK_STANDORT                      int64\n",
       "DATUM                   datetime64[ns]\n",
       "VELO_IN                        float64\n",
       "VELO_OUT                       float64\n",
       "FUSS_IN                        float64\n",
       "FUSS_OUT                       float64\n",
       "OST                              int64\n",
       "NORD                             int64\n",
       "timestamp_utc      datetime64[ns, UTC]\n",
       "id                              object\n",
       "abkuerzung                      object\n",
       "bezeichnung                     object\n",
       "bis                             object\n",
       "fk_zaehler                      object\n",
       "korrekturfaktor                float64\n",
       "objectid                       float64\n",
       "richtung_in                     object\n",
       "richtung_out                    object\n",
       "von                             object\n",
       "geometry                      geometry\n",
       "timestamp_von           datetime64[ns]\n",
       "timestamp_bis           datetime64[ns]\n",
       "dtype: object"
      ]
     },
     "execution_count": 74,
     "metadata": {},
     "output_type": "execute_result"
    }
   ],
   "source": [
    "#data2bextended_my.head(2)\n",
    "df_data2betested.dtypes"
   ]
  },
  {
   "cell_type": "code",
   "execution_count": 75,
   "metadata": {},
   "outputs": [
    {
     "data": {
      "text/plain": [
       "(786194, 23)"
      ]
     },
     "execution_count": 75,
     "metadata": {},
     "output_type": "execute_result"
    }
   ],
   "source": [
    "df_data2betested.shape\n"
   ]
  },
  {
   "cell_type": "markdown",
   "metadata": {},
   "source": [
    "Beschreibe einzelne Attribute"
   ]
  },
  {
   "cell_type": "code",
   "execution_count": 76,
   "metadata": {},
   "outputs": [],
   "source": [
    "#df_data2betested.describe()\n"
   ]
  },
  {
   "cell_type": "markdown",
   "metadata": {},
   "source": [
    "Wie viele Nullwerte gibt es im Datensatz?"
   ]
  },
  {
   "cell_type": "code",
   "execution_count": 77,
   "metadata": {
    "scrolled": true
   },
   "outputs": [
    {
     "data": {
      "text/plain": [
       "FK_ZAEHLER              0\n",
       "FK_STANDORT             0\n",
       "DATUM                   0\n",
       "VELO_IN            322596\n",
       "VELO_OUT           384220\n",
       "FUSS_IN            463598\n",
       "FUSS_OUT           463598\n",
       "OST                     0\n",
       "NORD                    0\n",
       "timestamp_utc           0\n",
       "id                      0\n",
       "abkuerzung              0\n",
       "bezeichnung             0\n",
       "bis                764510\n",
       "fk_zaehler              0\n",
       "korrekturfaktor         0\n",
       "objectid                0\n",
       "richtung_in             0\n",
       "richtung_out        22652\n",
       "von                     0\n",
       "geometry                0\n",
       "timestamp_von           0\n",
       "timestamp_bis      764510\n",
       "dtype: int64"
      ]
     },
     "execution_count": 77,
     "metadata": {},
     "output_type": "execute_result"
    }
   ],
   "source": [
    "df_data2betested.isnull().sum()"
   ]
  },
  {
   "cell_type": "markdown",
   "metadata": {
    "colab_type": "text",
    "id": "1dTPVmmsgOVx"
   },
   "source": [
    "## Grafische Auswertungen\n",
    "### Verwende das Datum als Index\n",
    "\n",
    "While we did already parse the `datetime` column into the respective datetime type, it currently is just a regular column. \n",
    "**To enable quick and convenient queries and aggregations, we need to turn it into the index of the DataFrame**"
   ]
  },
  {
   "cell_type": "code",
   "execution_count": 78,
   "metadata": {},
   "outputs": [],
   "source": [
    "df_data2betested = df_data2betested.set_index(\"DATUM\")"
   ]
  },
  {
   "cell_type": "code",
   "execution_count": 79,
   "metadata": {},
   "outputs": [],
   "source": [
    "#df_data2betested.info()\n",
    "#df_data2betested.index.year.unique()"
   ]
  },
  {
   "cell_type": "code",
   "execution_count": 80,
   "metadata": {},
   "outputs": [
    {
     "data": {
      "text/html": [
       "<div>\n",
       "<style scoped>\n",
       "    .dataframe tbody tr th:only-of-type {\n",
       "        vertical-align: middle;\n",
       "    }\n",
       "\n",
       "    .dataframe tbody tr th {\n",
       "        vertical-align: top;\n",
       "    }\n",
       "\n",
       "    .dataframe thead th {\n",
       "        text-align: right;\n",
       "    }\n",
       "</style>\n",
       "<table border=\"1\" class=\"dataframe\">\n",
       "  <thead>\n",
       "    <tr style=\"text-align: right;\">\n",
       "      <th></th>\n",
       "      <th>FK_STANDORT</th>\n",
       "      <th>VELO_IN</th>\n",
       "      <th>VELO_OUT</th>\n",
       "      <th>FUSS_IN</th>\n",
       "      <th>FUSS_OUT</th>\n",
       "      <th>OST</th>\n",
       "      <th>NORD</th>\n",
       "      <th>korrekturfaktor</th>\n",
       "      <th>objectid</th>\n",
       "    </tr>\n",
       "    <tr>\n",
       "      <th>DATUM</th>\n",
       "      <th></th>\n",
       "      <th></th>\n",
       "      <th></th>\n",
       "      <th></th>\n",
       "      <th></th>\n",
       "      <th></th>\n",
       "      <th></th>\n",
       "      <th></th>\n",
       "      <th></th>\n",
       "    </tr>\n",
       "  </thead>\n",
       "  <tbody>\n",
       "    <tr>\n",
       "      <th>2022-03-31</th>\n",
       "      <td>2994.0</td>\n",
       "      <td>3.0</td>\n",
       "      <td>2.0</td>\n",
       "      <td>7.0</td>\n",
       "      <td>6.0</td>\n",
       "      <td>2682756.0</td>\n",
       "      <td>1248451.0</td>\n",
       "      <td>1.1</td>\n",
       "      <td>107.0</td>\n",
       "    </tr>\n",
       "    <tr>\n",
       "      <th>2022-06-30</th>\n",
       "      <td>2996.0</td>\n",
       "      <td>5.0</td>\n",
       "      <td>3.0</td>\n",
       "      <td>7.0</td>\n",
       "      <td>6.0</td>\n",
       "      <td>2682689.0</td>\n",
       "      <td>1248451.0</td>\n",
       "      <td>1.0</td>\n",
       "      <td>114.0</td>\n",
       "    </tr>\n",
       "    <tr>\n",
       "      <th>2022-09-30</th>\n",
       "      <td>2993.0</td>\n",
       "      <td>6.0</td>\n",
       "      <td>3.0</td>\n",
       "      <td>8.0</td>\n",
       "      <td>7.0</td>\n",
       "      <td>2682731.0</td>\n",
       "      <td>1248435.0</td>\n",
       "      <td>1.0</td>\n",
       "      <td>114.0</td>\n",
       "    </tr>\n",
       "  </tbody>\n",
       "</table>\n",
       "</div>"
      ],
      "text/plain": [
       "            FK_STANDORT  VELO_IN  VELO_OUT  FUSS_IN  FUSS_OUT       OST      NORD  \\\n",
       "DATUM                                                                               \n",
       "2022-03-31       2994.0      3.0       2.0      7.0       6.0 2682756.0 1248451.0   \n",
       "2022-06-30       2996.0      5.0       3.0      7.0       6.0 2682689.0 1248451.0   \n",
       "2022-09-30       2993.0      6.0       3.0      8.0       7.0 2682731.0 1248435.0   \n",
       "\n",
       "            korrekturfaktor  objectid  \n",
       "DATUM                                  \n",
       "2022-03-31              1.1     107.0  \n",
       "2022-06-30              1.0     114.0  \n",
       "2022-09-30              1.0     114.0  "
      ]
     },
     "execution_count": 80,
     "metadata": {},
     "output_type": "execute_result"
    }
   ],
   "source": [
    "# first we create the means per week\n",
    "weekly_means = df_data2betested.resample(\"W\").mean()\n",
    "# then we generate the weekly means for each quarter\n",
    "quarterly_means = df_data2betested.resample(\"Q\").mean()\n",
    "quarterly_median = df_data2betested.resample(\"Q\").median()\n",
    "# for readability we'll revert the values back to integers\n",
    "#weekly_means.dropna().astype(int).head(5)\n",
    "#weekly_means\n",
    "#quarterly_means\n",
    "quarterly_median"
   ]
  },
  {
   "cell_type": "markdown",
   "metadata": {},
   "source": [
    "### Einfache Visualisierungen zur Plausi"
   ]
  },
  {
   "cell_type": "markdown",
   "metadata": {},
   "source": [
    "Exploriere die Daten mit Pivottable.JS\n",
    "\n",
    "Daten zu gross hierfür... Stürzt ab"
   ]
  },
  {
   "cell_type": "code",
   "execution_count": 81,
   "metadata": {},
   "outputs": [],
   "source": [
    "#from pivottablejs import pivot_ui\n",
    "\n",
    "#pivot_ui(df_zeitreihe_tb)"
   ]
  },
  {
   "cell_type": "markdown",
   "metadata": {},
   "source": [
    "### Zeitpunkte und Zeiträume abfragen\n",
    "\n",
    "A particular powerful feature of the Pandas DataFrame is its indexing capability that also works using time-based entities, such as dates and times. We have already created the index above, so let's put it to use."
   ]
  },
  {
   "cell_type": "markdown",
   "metadata": {},
   "source": [
    "### Aggriere Werte nach Zeitausschnitten\n",
    "\n",
    "Mit den Funktionen zur Zeit kann einfach zwischen Stunden, Tagen, Monaten, etc. gewechselt und aggregiert werden.\n",
    "\n",
    "Hier z.B. ob es nach dem Zusammenhängen der Jahresbestände flüssige Übergänge gibt oder ob etwas verdächtig aussieht.\n"
   ]
  },
  {
   "cell_type": "code",
   "execution_count": 82,
   "metadata": {},
   "outputs": [],
   "source": [
    "#data2betested_my.loc[\"2017-06-30\"]\n",
    "#df_data2betested[['VELO_IN','VELO_OUT','FUSS_IN','FUSS_OUT']].loc[\"2022-01-01 00:00\":date_today].resample(\"H\").sum()"
   ]
  },
  {
   "cell_type": "markdown",
   "metadata": {
    "tags": []
   },
   "source": [
    "### Visualisierungen nach Zeitausschnitten"
   ]
  },
  {
   "cell_type": "markdown",
   "metadata": {},
   "source": [
    "Liniendiagramm \n",
    "[Link zur Doku](https://altair-viz.github.io/gallery/multiline_highlight.html)"
   ]
  },
  {
   "cell_type": "markdown",
   "metadata": {},
   "source": [
    "Um besser aggregieren zu können hier ein paar Zeitvariabeln, die uns helfen:"
   ]
  },
  {
   "cell_type": "code",
   "execution_count": 83,
   "metadata": {},
   "outputs": [],
   "source": [
    "df_data2betested['year_str'] = df_data2betested.index.strftime(\"%Y-%m-%d\")\n",
    "df_data2betested['year_nr'] =df_data2betested.index.year\n",
    "df_data2betested['month_nr'] = df_data2betested.index.month\n",
    "df_data2betested['year_month_str'] = df_data2betested.index.strftime(\"%Y-%m\")\n",
    "df_data2betested['month_name'] = df_data2betested.index.month_name()\n",
    "df_data2betested['year_month_day_str'] = df_data2betested.index.strftime(\"%Y-%m-%d\")\n",
    "df_data2betested['day_nr'] = df_data2betested.index.day\n",
    "df_data2betested['day_name'] = df_data2betested.index.day_name()\n",
    "df_data2betested['year_month_day_hour_str'] = df_data2betested.index.strftime(\"%Y-%m-%dT%H:00\")\n",
    "df_data2betested['hour_nr'] = df_data2betested.index.hour"
   ]
  },
  {
   "cell_type": "code",
   "execution_count": 123,
   "metadata": {},
   "outputs": [
    {
     "data": {
      "text/html": [
       "<div>\n",
       "<style scoped>\n",
       "    .dataframe tbody tr th:only-of-type {\n",
       "        vertical-align: middle;\n",
       "    }\n",
       "\n",
       "    .dataframe tbody tr th {\n",
       "        vertical-align: top;\n",
       "    }\n",
       "\n",
       "    .dataframe thead th {\n",
       "        text-align: right;\n",
       "    }\n",
       "</style>\n",
       "<table border=\"1\" class=\"dataframe\">\n",
       "  <thead>\n",
       "    <tr style=\"text-align: right;\">\n",
       "      <th></th>\n",
       "      <th>DATUM</th>\n",
       "      <th>FK_ZAEHLER</th>\n",
       "      <th>FK_STANDORT</th>\n",
       "      <th>VELO_IN</th>\n",
       "      <th>VELO_OUT</th>\n",
       "      <th>FUSS_IN</th>\n",
       "      <th>FUSS_OUT</th>\n",
       "      <th>...</th>\n",
       "      <th>year_month_str</th>\n",
       "      <th>month_name</th>\n",
       "      <th>year_month_day_str</th>\n",
       "      <th>day_nr</th>\n",
       "      <th>day_name</th>\n",
       "      <th>year_month_day_hour_str</th>\n",
       "      <th>hour_nr</th>\n",
       "    </tr>\n",
       "  </thead>\n",
       "  <tbody>\n",
       "    <tr>\n",
       "      <th>1</th>\n",
       "      <td>2022-03-31</td>\n",
       "      <td>Y2H20114444</td>\n",
       "      <td>3012</td>\n",
       "      <td>2.0</td>\n",
       "      <td>1.0</td>\n",
       "      <td>NaN</td>\n",
       "      <td>NaN</td>\n",
       "      <td>...</td>\n",
       "      <td>2022-03</td>\n",
       "      <td>March</td>\n",
       "      <td>2022-03-31</td>\n",
       "      <td>31</td>\n",
       "      <td>Thursday</td>\n",
       "      <td>2022-03-31T00:00</td>\n",
       "      <td>0</td>\n",
       "    </tr>\n",
       "    <tr>\n",
       "      <th>0</th>\n",
       "      <td>2022-03-31</td>\n",
       "      <td>U15G3063867</td>\n",
       "      <td>4252</td>\n",
       "      <td>NaN</td>\n",
       "      <td>NaN</td>\n",
       "      <td>1.0</td>\n",
       "      <td>0.0</td>\n",
       "      <td>...</td>\n",
       "      <td>2022-03</td>\n",
       "      <td>March</td>\n",
       "      <td>2022-03-31</td>\n",
       "      <td>31</td>\n",
       "      <td>Thursday</td>\n",
       "      <td>2022-03-31T00:00</td>\n",
       "      <td>0</td>\n",
       "    </tr>\n",
       "  </tbody>\n",
       "</table>\n",
       "<p>2 rows × 33 columns</p>\n",
       "</div>"
      ],
      "text/plain": [
       "       DATUM   FK_ZAEHLER  FK_STANDORT  VELO_IN  VELO_OUT  FUSS_IN  FUSS_OUT  ...  year_month_str  \\\n",
       "1 2022-03-31  Y2H20114444         3012      2.0       1.0      NaN       NaN  ...         2022-03   \n",
       "0 2022-03-31  U15G3063867         4252      NaN       NaN      1.0       0.0  ...         2022-03   \n",
       "\n",
       "   month_name year_month_day_str day_nr  day_name year_month_day_hour_str hour_nr  \n",
       "1       March         2022-03-31     31  Thursday        2022-03-31T00:00       0  \n",
       "0       March         2022-03-31     31  Thursday        2022-03-31T00:00       0  \n",
       "\n",
       "[2 rows x 33 columns]"
      ]
     },
     "execution_count": 123,
     "metadata": {},
     "output_type": "execute_result"
    }
   ],
   "source": [
    "df_data2betested.loc[\"2022-03-31\"].reset_index().head(2).sort_values([\"DATUM\",\"FK_ZAEHLER\"], ascending=False)"
   ]
  },
  {
   "cell_type": "markdown",
   "metadata": {},
   "source": [
    "#### Übersicht zu den Zählstellen"
   ]
  },
  {
   "cell_type": "code",
   "execution_count": 122,
   "metadata": {},
   "outputs": [],
   "source": [
    "df_zaehlstellen = df_data2betested.loc[\"2022-01-01\":date_today].reset_index()\\\n",
    "    .groupby(['FK_ZAEHLER', 'FK_STANDORT', 'abkuerzung', 'bezeichnung','richtung_in', 'richtung_out']) \\\n",
    "    .agg(sum_VELO_IN =('VELO_IN', 'sum')\n",
    "         , sum_VELO_OUT =( 'VELO_OUT', 'sum')\n",
    "         , sum_FUSS_IN =('FUSS_IN', 'sum')\n",
    "        , sum_FUSS_OUT=('FUSS_OUT', 'sum')\n",
    "        )\n",
    "#df_zaehlstellen.sort_values('abkuerzung',ascending=True)"
   ]
  },
  {
   "cell_type": "markdown",
   "metadata": {},
   "source": [
    "#### Stundensummen ausgewählter Zählstellen\n",
    "- Hier Fussgänger-Zählstellen am See und am Limmatquai\n",
    "- Gruppiere nach Stunden"
   ]
  },
  {
   "cell_type": "code",
   "execution_count": 187,
   "metadata": {},
   "outputs": [
    {
     "data": {
      "text/html": [
       "<div>\n",
       "<style scoped>\n",
       "    .dataframe tbody tr th:only-of-type {\n",
       "        vertical-align: middle;\n",
       "    }\n",
       "\n",
       "    .dataframe tbody tr th {\n",
       "        vertical-align: top;\n",
       "    }\n",
       "\n",
       "    .dataframe thead th {\n",
       "        text-align: right;\n",
       "    }\n",
       "</style>\n",
       "<table border=\"1\" class=\"dataframe\">\n",
       "  <thead>\n",
       "    <tr style=\"text-align: right;\">\n",
       "      <th></th>\n",
       "      <th>year_month_day_str</th>\n",
       "      <th>FK_ZAEHLER</th>\n",
       "      <th>FK_STANDORT</th>\n",
       "      <th>abkuerzung</th>\n",
       "      <th>bezeichnung</th>\n",
       "      <th>richtung_in</th>\n",
       "      <th>richtung_out</th>\n",
       "      <th>sum_VELO_IN</th>\n",
       "      <th>sum_VELO_OUT</th>\n",
       "      <th>sum_FUSS_IN</th>\n",
       "      <th>sum_FUSS_OUT</th>\n",
       "      <th>total_FUSS</th>\n",
       "      <th>total_VELO</th>\n",
       "    </tr>\n",
       "  </thead>\n",
       "  <tbody>\n",
       "    <tr>\n",
       "      <th>0</th>\n",
       "      <td>2022-08-13</td>\n",
       "      <td>YSH18065716</td>\n",
       "      <td>3279</td>\n",
       "      <td>FZS_LIMM</td>\n",
       "      <td>Limmatquai</td>\n",
       "      <td>Rathaus</td>\n",
       "      <td>Seeufer</td>\n",
       "      <td>0.0</td>\n",
       "      <td>0.0</td>\n",
       "      <td>11591.0</td>\n",
       "      <td>9065.0</td>\n",
       "      <td>20656.0</td>\n",
       "      <td>0.0</td>\n",
       "    </tr>\n",
       "    <tr>\n",
       "      <th>1</th>\n",
       "      <td>2022-08-13</td>\n",
       "      <td>U15G3063865</td>\n",
       "      <td>1357</td>\n",
       "      <td>FZS_ARBO</td>\n",
       "      <td>Arboretum</td>\n",
       "      <td>Stadtgrenze</td>\n",
       "      <td>Innenstadt</td>\n",
       "      <td>0.0</td>\n",
       "      <td>0.0</td>\n",
       "      <td>9572.0</td>\n",
       "      <td>12382.0</td>\n",
       "      <td>21954.0</td>\n",
       "      <td>0.0</td>\n",
       "    </tr>\n",
       "  </tbody>\n",
       "</table>\n",
       "</div>"
      ],
      "text/plain": [
       "  year_month_day_str   FK_ZAEHLER  FK_STANDORT abkuerzung bezeichnung  richtung_in richtung_out  \\\n",
       "0         2022-08-13  YSH18065716         3279   FZS_LIMM  Limmatquai      Rathaus      Seeufer   \n",
       "1         2022-08-13  U15G3063865         1357   FZS_ARBO   Arboretum  Stadtgrenze   Innenstadt   \n",
       "\n",
       "   sum_VELO_IN  sum_VELO_OUT  sum_FUSS_IN  sum_FUSS_OUT  total_FUSS  total_VELO  \n",
       "0          0.0           0.0      11591.0        9065.0     20656.0         0.0  \n",
       "1          0.0           0.0       9572.0       12382.0     21954.0         0.0  "
      ]
     },
     "execution_count": 187,
     "metadata": {},
     "output_type": "execute_result"
    }
   ],
   "source": [
    "#myAgg = data2betested.loc[\"2008-11-30\":\"2021-10-31\"]\n",
    "myAgg = df_data2betested.loc[\"2022-01-01\":date_today].reset_index().query('abkuerzung == \"FZS_MYTH\" or abkuerzung == \"FZS_ARBO\" or abkuerzung == \"FZS_LIMM\" or abkuerzung == \"FZS_CASS\"')\\\n",
    "    .groupby(['year_month_day_str','FK_ZAEHLER', 'FK_STANDORT', 'abkuerzung', 'bezeichnung','richtung_in', 'richtung_out']) \\\n",
    "    .agg(sum_VELO_IN =('VELO_IN', 'sum')\n",
    "         , sum_VELO_OUT =( 'VELO_OUT', 'sum')\n",
    "         , sum_FUSS_IN =('FUSS_IN', 'sum')\n",
    "        , sum_FUSS_OUT=('FUSS_OUT', 'sum')\n",
    "        )\\\n",
    "    .assign(\n",
    "        #Aktualisierungs_Datum_str= lambda x: x.Aktualisierungs_Datum.astype(str),\n",
    "        total_FUSS = lambda x: x.sum_FUSS_IN +x.sum_FUSS_OUT,\n",
    "        total_VELO = lambda x: x.sum_VELO_IN +x.sum_VELO_OUT,    \n",
    "    )\\\n",
    "    .sort_values('sum_FUSS_IN', ascending=False) \n",
    "\n",
    "myAgg2=myAgg.reset_index()\n",
    "myAgg2.head(2)"
   ]
  },
  {
   "cell_type": "code",
   "execution_count": 188,
   "metadata": {},
   "outputs": [],
   "source": [
    "#myAgg2[['year_month_day_hour_str', 'FK_ZAEHLER', 'abkuerzung', 'bezeichnung','total_FUSS','total_VELO']]"
   ]
  },
  {
   "cell_type": "markdown",
   "metadata": {},
   "source": [
    "##### Zeichne ein einfaches Liniendiagramm der Stundensummen ausgewählter Zählstellen\n",
    " - hier ohne Korrekturwerte\n",
    " - reminder: Encoding Data Types https://altair-viz.github.io/user_guide/encoding.html#encoding-data-types"
   ]
  },
  {
   "cell_type": "code",
   "execution_count": 189,
   "metadata": {},
   "outputs": [
    {
     "data": {
      "text/html": [
       "\n",
       "<div id=\"altair-viz-60582a7a8a67412dae355de7129521f2\"></div>\n",
       "<script type=\"text/javascript\">\n",
       "  (function(spec, embedOpt){\n",
       "    let outputDiv = document.currentScript.previousElementSibling;\n",
       "    if (outputDiv.id !== \"altair-viz-60582a7a8a67412dae355de7129521f2\") {\n",
       "      outputDiv = document.getElementById(\"altair-viz-60582a7a8a67412dae355de7129521f2\");\n",
       "    }\n",
       "    const paths = {\n",
       "      \"vega\": \"https://cdn.jsdelivr.net/npm//vega@5?noext\",\n",
       "      \"vega-lib\": \"https://cdn.jsdelivr.net/npm//vega-lib?noext\",\n",
       "      \"vega-lite\": \"https://cdn.jsdelivr.net/npm//vega-lite@4.8.1?noext\",\n",
       "      \"vega-embed\": \"https://cdn.jsdelivr.net/npm//vega-embed@6?noext\",\n",
       "    };\n",
       "\n",
       "    function loadScript(lib) {\n",
       "      return new Promise(function(resolve, reject) {\n",
       "        var s = document.createElement('script');\n",
       "        s.src = paths[lib];\n",
       "        s.async = true;\n",
       "        s.onload = () => resolve(paths[lib]);\n",
       "        s.onerror = () => reject(`Error loading script: ${paths[lib]}`);\n",
       "        document.getElementsByTagName(\"head\")[0].appendChild(s);\n",
       "      });\n",
       "    }\n",
       "\n",
       "    function showError(err) {\n",
       "      outputDiv.innerHTML = `<div class=\"error\" style=\"color:red;\">${err}</div>`;\n",
       "      throw err;\n",
       "    }\n",
       "\n",
       "    function displayChart(vegaEmbed) {\n",
       "      vegaEmbed(outputDiv, spec, embedOpt)\n",
       "        .catch(err => showError(`Javascript Error: ${err.message}<br>This usually means there's a typo in your chart specification. See the javascript console for the full traceback.`));\n",
       "    }\n",
       "\n",
       "    if(typeof define === \"function\" && define.amd) {\n",
       "      requirejs.config({paths});\n",
       "      require([\"vega-embed\"], displayChart, err => showError(`Error loading script: ${err.message}`));\n",
       "    } else if (typeof vegaEmbed === \"function\") {\n",
       "      displayChart(vegaEmbed);\n",
       "    } else {\n",
       "      loadScript(\"vega\")\n",
       "        .then(() => loadScript(\"vega-lite\"))\n",
       "        .then(() => loadScript(\"vega-embed\"))\n",
       "        .catch(showError)\n",
       "        .then(() => displayChart(vegaEmbed));\n",
       "    }\n",
       "  })({\"config\": {\"view\": {\"continuousWidth\": 400, \"continuousHeight\": 300}}, \"layer\": [{\"mark\": \"line\", \"encoding\": {\"color\": {\"type\": \"nominal\", \"field\": \"bezeichnung\", \"legend\": {\"orient\": \"right\", \"title\": \"Zonen\"}}, \"size\": {\"condition\": {\"value\": 0.7, \"selection\": {\"not\": \"selector044\"}}, \"value\": 2}, \"tooltip\": [{\"type\": \"nominal\", \"field\": \"year_month_day_str\"}, {\"type\": \"nominal\", \"field\": \"FK_ZAEHLER\"}, {\"type\": \"nominal\", \"field\": \"abkuerzung\"}, {\"type\": \"nominal\", \"field\": \"bezeichnung\"}, {\"type\": \"quantitative\", \"field\": \"total_FUSS\"}, {\"type\": \"quantitative\", \"field\": \"total_VELO\"}], \"x\": {\"type\": \"temporal\", \"axis\": {\"format\": \"\", \"title\": \"Datum\"}, \"field\": \"year_month_day_str\"}, \"y\": {\"type\": \"quantitative\", \"axis\": {\"title\": \"Anzahl Passanten\"}, \"field\": \"total_FUSS\"}}, \"selection\": {\"selector045\": {\"type\": \"interval\", \"bind\": \"scales\", \"encodings\": [\"x\", \"y\"]}}, \"title\": \"Stundensummen nach Z\\u00e4hlstelle\"}, {\"mark\": \"circle\", \"encoding\": {\"color\": {\"type\": \"nominal\", \"field\": \"bezeichnung\", \"legend\": {\"orient\": \"right\", \"title\": \"Zonen\"}}, \"opacity\": {\"value\": 0.4}, \"tooltip\": [{\"type\": \"nominal\", \"field\": \"year_month_day_str\"}, {\"type\": \"nominal\", \"field\": \"FK_ZAEHLER\"}, {\"type\": \"nominal\", \"field\": \"abkuerzung\"}, {\"type\": \"nominal\", \"field\": \"bezeichnung\"}, {\"type\": \"quantitative\", \"field\": \"total_FUSS\"}, {\"type\": \"quantitative\", \"field\": \"total_VELO\"}], \"x\": {\"type\": \"temporal\", \"axis\": {\"format\": \"\", \"title\": \"Datum\"}, \"field\": \"year_month_day_str\"}, \"y\": {\"type\": \"quantitative\", \"axis\": {\"title\": \"Anzahl Passanten\"}, \"field\": \"total_FUSS\"}}, \"height\": 350, \"selection\": {\"selector044\": {\"type\": \"single\", \"on\": \"mouseover\", \"fields\": [\"bezeichnung\"], \"nearest\": true}}, \"title\": \"Stundensummen nach Z\\u00e4hlstelle\", \"width\": 750}], \"data\": {\"name\": \"data-95439c13930ce0029edb66cf5734fc11\"}, \"$schema\": \"https://vega.github.io/schema/vega-lite/v4.8.1.json\", \"datasets\": {\"data-95439c13930ce0029edb66cf5734fc11\": [{\"year_month_day_str\": \"2022-08-13\", \"FK_ZAEHLER\": \"YSH18065716\", \"abkuerzung\": \"FZS_LIMM\", \"bezeichnung\": \"Limmatquai\", \"total_FUSS\": 20656.0, \"total_VELO\": 0.0}, {\"year_month_day_str\": \"2022-08-13\", \"FK_ZAEHLER\": \"U15G3063865\", \"abkuerzung\": \"FZS_ARBO\", \"bezeichnung\": \"Arboretum\", \"total_FUSS\": 21954.0, \"total_VELO\": 0.0}, {\"year_month_day_str\": \"2022-05-14\", \"FK_ZAEHLER\": \"YSH18065716\", \"abkuerzung\": \"FZS_LIMM\", \"bezeichnung\": \"Limmatquai\", \"total_FUSS\": 9738.0, \"total_VELO\": 0.0}, {\"year_month_day_str\": \"2022-03-26\", \"FK_ZAEHLER\": \"YSH18065716\", \"abkuerzung\": \"FZS_LIMM\", \"bezeichnung\": \"Limmatquai\", \"total_FUSS\": 9426.0, \"total_VELO\": 0.0}, {\"year_month_day_str\": \"2022-03-05\", \"FK_ZAEHLER\": \"YSH18065716\", \"abkuerzung\": \"FZS_LIMM\", \"bezeichnung\": \"Limmatquai\", \"total_FUSS\": 8951.0, \"total_VELO\": 0.0}, {\"year_month_day_str\": \"2022-07-02\", \"FK_ZAEHLER\": \"YSH18065716\", \"abkuerzung\": \"FZS_LIMM\", \"bezeichnung\": \"Limmatquai\", \"total_FUSS\": 8643.0, \"total_VELO\": 0.0}, {\"year_month_day_str\": \"2022-06-11\", \"FK_ZAEHLER\": \"YSH18065716\", \"abkuerzung\": \"FZS_LIMM\", \"bezeichnung\": \"Limmatquai\", \"total_FUSS\": 8878.0, \"total_VELO\": 0.0}, {\"year_month_day_str\": \"2022-05-27\", \"FK_ZAEHLER\": \"YSH18065716\", \"abkuerzung\": \"FZS_LIMM\", \"bezeichnung\": \"Limmatquai\", \"total_FUSS\": 8399.0, \"total_VELO\": 0.0}, {\"year_month_day_str\": \"2022-04-16\", \"FK_ZAEHLER\": \"YSH18065716\", \"abkuerzung\": \"FZS_LIMM\", \"bezeichnung\": \"Limmatquai\", \"total_FUSS\": 8068.0, \"total_VELO\": 0.0}, {\"year_month_day_str\": \"2022-08-14\", \"FK_ZAEHLER\": \"U15G3063865\", \"abkuerzung\": \"FZS_ARBO\", \"bezeichnung\": \"Arboretum\", \"total_FUSS\": 10701.0, \"total_VELO\": 0.0}, {\"year_month_day_str\": \"2022-06-26\", \"FK_ZAEHLER\": \"U15G3063865\", \"abkuerzung\": \"FZS_ARBO\", \"bezeichnung\": \"Arboretum\", \"total_FUSS\": 10793.0, \"total_VELO\": 0.0}, {\"year_month_day_str\": \"2022-03-19\", \"FK_ZAEHLER\": \"YSH18065716\", \"abkuerzung\": \"FZS_LIMM\", \"bezeichnung\": \"Limmatquai\", \"total_FUSS\": 8136.0, \"total_VELO\": 0.0}, {\"year_month_day_str\": \"2022-06-25\", \"FK_ZAEHLER\": \"YSH18065716\", \"abkuerzung\": \"FZS_LIMM\", \"bezeichnung\": \"Limmatquai\", \"total_FUSS\": 8402.0, \"total_VELO\": 0.0}, {\"year_month_day_str\": \"2022-06-04\", \"FK_ZAEHLER\": \"YSH18065716\", \"abkuerzung\": \"FZS_LIMM\", \"bezeichnung\": \"Limmatquai\", \"total_FUSS\": 8392.0, \"total_VELO\": 0.0}, {\"year_month_day_str\": \"2022-05-20\", \"FK_ZAEHLER\": \"U15G3063865\", \"abkuerzung\": \"FZS_ARBO\", \"bezeichnung\": \"Arboretum\", \"total_FUSS\": 10274.0, \"total_VELO\": 0.0}, {\"year_month_day_str\": \"2022-02-05\", \"FK_ZAEHLER\": \"YSH18065716\", \"abkuerzung\": \"FZS_LIMM\", \"bezeichnung\": \"Limmatquai\", \"total_FUSS\": 8417.0, \"total_VELO\": 0.0}, {\"year_month_day_str\": \"2022-05-15\", \"FK_ZAEHLER\": \"U15G3063865\", \"abkuerzung\": \"FZS_ARBO\", \"bezeichnung\": \"Arboretum\", \"total_FUSS\": 10794.0, \"total_VELO\": 0.0}, {\"year_month_day_str\": \"2022-06-11\", \"FK_ZAEHLER\": \"U15G3063865\", \"abkuerzung\": \"FZS_ARBO\", \"bezeichnung\": \"Arboretum\", \"total_FUSS\": 10543.0, \"total_VELO\": 0.0}, {\"year_month_day_str\": \"2022-06-12\", \"FK_ZAEHLER\": \"U15G3063865\", \"abkuerzung\": \"FZS_ARBO\", \"bezeichnung\": \"Arboretum\", \"total_FUSS\": 11046.0, \"total_VELO\": 0.0}, {\"year_month_day_str\": \"2022-04-25\", \"FK_ZAEHLER\": \"YSH18065716\", \"abkuerzung\": \"FZS_LIMM\", \"bezeichnung\": \"Limmatquai\", \"total_FUSS\": 8584.0, \"total_VELO\": 0.0}, {\"year_month_day_str\": \"2022-03-12\", \"FK_ZAEHLER\": \"YSH18065716\", \"abkuerzung\": \"FZS_LIMM\", \"bezeichnung\": \"Limmatquai\", \"total_FUSS\": 7538.0, \"total_VELO\": 0.0}, {\"year_month_day_str\": \"2022-08-12\", \"FK_ZAEHLER\": \"YSH18065716\", \"abkuerzung\": \"FZS_LIMM\", \"bezeichnung\": \"Limmatquai\", \"total_FUSS\": 7448.0, \"total_VELO\": 0.0}, {\"year_month_day_str\": \"2022-05-07\", \"FK_ZAEHLER\": \"YSH18065716\", \"abkuerzung\": \"FZS_LIMM\", \"bezeichnung\": \"Limmatquai\", \"total_FUSS\": 7432.0, \"total_VELO\": 0.0}, {\"year_month_day_str\": \"2022-06-25\", \"FK_ZAEHLER\": \"U15G3063865\", \"abkuerzung\": \"FZS_ARBO\", \"bezeichnung\": \"Arboretum\", \"total_FUSS\": 10113.0, \"total_VELO\": 0.0}, {\"year_month_day_str\": \"2022-08-20\", \"FK_ZAEHLER\": \"YSH18065716\", \"abkuerzung\": \"FZS_LIMM\", \"bezeichnung\": \"Limmatquai\", \"total_FUSS\": 7305.0, \"total_VELO\": 0.0}, {\"year_month_day_str\": \"2022-07-09\", \"FK_ZAEHLER\": \"YSH18065716\", \"abkuerzung\": \"FZS_LIMM\", \"bezeichnung\": \"Limmatquai\", \"total_FUSS\": 7646.0, \"total_VELO\": 0.0}, {\"year_month_day_str\": \"2022-02-12\", \"FK_ZAEHLER\": \"YSH18065716\", \"abkuerzung\": \"FZS_LIMM\", \"bezeichnung\": \"Limmatquai\", \"total_FUSS\": 7216.0, \"total_VELO\": 0.0}, {\"year_month_day_str\": \"2022-06-17\", \"FK_ZAEHLER\": \"U15G3063865\", \"abkuerzung\": \"FZS_ARBO\", \"bezeichnung\": \"Arboretum\", \"total_FUSS\": 9812.0, \"total_VELO\": 0.0}, {\"year_month_day_str\": \"2022-02-26\", \"FK_ZAEHLER\": \"YSH18065716\", \"abkuerzung\": \"FZS_LIMM\", \"bezeichnung\": \"Limmatquai\", \"total_FUSS\": 7292.0, \"total_VELO\": 0.0}, {\"year_month_day_str\": \"2022-06-04\", \"FK_ZAEHLER\": \"U15G3063865\", \"abkuerzung\": \"FZS_ARBO\", \"bezeichnung\": \"Arboretum\", \"total_FUSS\": 9400.0, \"total_VELO\": 0.0}, {\"year_month_day_str\": \"2022-07-13\", \"FK_ZAEHLER\": \"U15G3104443\", \"abkuerzung\": \"FZS_MYTH\", \"bezeichnung\": \"Mythenquai Unterf\\u00fchrung\", \"total_FUSS\": 5826.0, \"total_VELO\": 0.0}, {\"year_month_day_str\": \"2022-07-16\", \"FK_ZAEHLER\": \"YSH18065716\", \"abkuerzung\": \"FZS_LIMM\", \"bezeichnung\": \"Limmatquai\", \"total_FUSS\": 7341.0, \"total_VELO\": 0.0}, {\"year_month_day_str\": \"2022-05-28\", \"FK_ZAEHLER\": \"YSH18065716\", \"abkuerzung\": \"FZS_LIMM\", \"bezeichnung\": \"Limmatquai\", \"total_FUSS\": 7186.0, \"total_VELO\": 0.0}, {\"year_month_day_str\": \"2022-04-09\", \"FK_ZAEHLER\": \"YSH18065716\", \"abkuerzung\": \"FZS_LIMM\", \"bezeichnung\": \"Limmatquai\", \"total_FUSS\": 7072.0, \"total_VELO\": 0.0}, {\"year_month_day_str\": \"2022-06-10\", \"FK_ZAEHLER\": \"YSH18065716\", \"abkuerzung\": \"FZS_LIMM\", \"bezeichnung\": \"Limmatquai\", \"total_FUSS\": 6938.0, \"total_VELO\": 0.0}, {\"year_month_day_str\": \"2022-07-02\", \"FK_ZAEHLER\": \"U15G3063865\", \"abkuerzung\": \"FZS_ARBO\", \"bezeichnung\": \"Arboretum\", \"total_FUSS\": 9390.0, \"total_VELO\": 0.0}, {\"year_month_day_str\": \"2022-04-10\", \"FK_ZAEHLER\": \"U15G3063865\", \"abkuerzung\": \"FZS_ARBO\", \"bezeichnung\": \"Arboretum\", \"total_FUSS\": 13695.0, \"total_VELO\": 0.0}, {\"year_month_day_str\": \"2022-08-14\", \"FK_ZAEHLER\": \"YSH18065716\", \"abkuerzung\": \"FZS_LIMM\", \"bezeichnung\": \"Limmatquai\", \"total_FUSS\": 6278.0, \"total_VELO\": 0.0}, {\"year_month_day_str\": \"2022-05-14\", \"FK_ZAEHLER\": \"U15G3063865\", \"abkuerzung\": \"FZS_ARBO\", \"bezeichnung\": \"Arboretum\", \"total_FUSS\": 9344.0, \"total_VELO\": 0.0}, {\"year_month_day_str\": \"2022-07-13\", \"FK_ZAEHLER\": \"U15G3063865\", \"abkuerzung\": \"FZS_ARBO\", \"bezeichnung\": \"Arboretum\", \"total_FUSS\": 8946.0, \"total_VELO\": 0.0}, {\"year_month_day_str\": \"2022-01-29\", \"FK_ZAEHLER\": \"YSH18065716\", \"abkuerzung\": \"FZS_LIMM\", \"bezeichnung\": \"Limmatquai\", \"total_FUSS\": 7450.0, \"total_VELO\": 0.0}, {\"year_month_day_str\": \"2022-05-26\", \"FK_ZAEHLER\": \"U15G3063865\", \"abkuerzung\": \"FZS_ARBO\", \"bezeichnung\": \"Arboretum\", \"total_FUSS\": 9727.0, \"total_VELO\": 0.0}, {\"year_month_day_str\": \"2022-08-12\", \"FK_ZAEHLER\": \"U15G3063865\", \"abkuerzung\": \"FZS_ARBO\", \"bezeichnung\": \"Arboretum\", \"total_FUSS\": 8756.0, \"total_VELO\": 0.0}, {\"year_month_day_str\": \"2022-05-21\", \"FK_ZAEHLER\": \"YSH18065716\", \"abkuerzung\": \"FZS_LIMM\", \"bezeichnung\": \"Limmatquai\", \"total_FUSS\": 6894.0, \"total_VELO\": 0.0}, {\"year_month_day_str\": \"2022-07-09\", \"FK_ZAEHLER\": \"U15G3063865\", \"abkuerzung\": \"FZS_ARBO\", \"bezeichnung\": \"Arboretum\", \"total_FUSS\": 9001.0, \"total_VELO\": 0.0}, {\"year_month_day_str\": \"2022-06-18\", \"FK_ZAEHLER\": \"U15G3063865\", \"abkuerzung\": \"FZS_ARBO\", \"bezeichnung\": \"Arboretum\", \"total_FUSS\": 9136.0, \"total_VELO\": 0.0}, {\"year_month_day_str\": \"2022-07-16\", \"FK_ZAEHLER\": \"U15G3063865\", \"abkuerzung\": \"FZS_ARBO\", \"bezeichnung\": \"Arboretum\", \"total_FUSS\": 8964.0, \"total_VELO\": 0.0}, {\"year_month_day_str\": \"2022-07-03\", \"FK_ZAEHLER\": \"U15G3063865\", \"abkuerzung\": \"FZS_ARBO\", \"bezeichnung\": \"Arboretum\", \"total_FUSS\": 9328.0, \"total_VELO\": 0.0}, {\"year_month_day_str\": \"2022-03-25\", \"FK_ZAEHLER\": \"YSH18065716\", \"abkuerzung\": \"FZS_LIMM\", \"bezeichnung\": \"Limmatquai\", \"total_FUSS\": 6630.0, \"total_VELO\": 0.0}, {\"year_month_day_str\": \"2022-06-16\", \"FK_ZAEHLER\": \"U15G3063865\", \"abkuerzung\": \"FZS_ARBO\", \"bezeichnung\": \"Arboretum\", \"total_FUSS\": 9022.0, \"total_VELO\": 0.0}, {\"year_month_day_str\": \"2022-05-11\", \"FK_ZAEHLER\": \"U15G3063865\", \"abkuerzung\": \"FZS_ARBO\", \"bezeichnung\": \"Arboretum\", \"total_FUSS\": 8792.0, \"total_VELO\": 0.0}, {\"year_month_day_str\": \"2022-08-11\", \"FK_ZAEHLER\": \"YSH18065716\", \"abkuerzung\": \"FZS_LIMM\", \"bezeichnung\": \"Limmatquai\", \"total_FUSS\": 6407.0, \"total_VELO\": 0.0}, {\"year_month_day_str\": \"2022-05-21\", \"FK_ZAEHLER\": \"U15G3063865\", \"abkuerzung\": \"FZS_ARBO\", \"bezeichnung\": \"Arboretum\", \"total_FUSS\": 8522.0, \"total_VELO\": 0.0}, {\"year_month_day_str\": \"2022-06-17\", \"FK_ZAEHLER\": \"YSH18065716\", \"abkuerzung\": \"FZS_LIMM\", \"bezeichnung\": \"Limmatquai\", \"total_FUSS\": 6332.0, \"total_VELO\": 0.0}, {\"year_month_day_str\": \"2022-04-14\", \"FK_ZAEHLER\": \"YSH18065716\", \"abkuerzung\": \"FZS_LIMM\", \"bezeichnung\": \"Limmatquai\", \"total_FUSS\": 6344.0, \"total_VELO\": 0.0}, {\"year_month_day_str\": \"2022-07-30\", \"FK_ZAEHLER\": \"YSH18065716\", \"abkuerzung\": \"FZS_LIMM\", \"bezeichnung\": \"Limmatquai\", \"total_FUSS\": 6407.0, \"total_VELO\": 0.0}, {\"year_month_day_str\": \"2022-08-15\", \"FK_ZAEHLER\": \"YSH18065716\", \"abkuerzung\": \"FZS_LIMM\", \"bezeichnung\": \"Limmatquai\", \"total_FUSS\": 6198.0, \"total_VELO\": 0.0}, {\"year_month_day_str\": \"2022-06-29\", \"FK_ZAEHLER\": \"YSH18065716\", \"abkuerzung\": \"FZS_LIMM\", \"bezeichnung\": \"Limmatquai\", \"total_FUSS\": 6136.0, \"total_VELO\": 0.0}, {\"year_month_day_str\": \"2022-08-21\", \"FK_ZAEHLER\": \"U15G3063865\", \"abkuerzung\": \"FZS_ARBO\", \"bezeichnung\": \"Arboretum\", \"total_FUSS\": 8677.0, \"total_VELO\": 0.0}, {\"year_month_day_str\": \"2022-08-01\", \"FK_ZAEHLER\": \"U15G3063865\", \"abkuerzung\": \"FZS_ARBO\", \"bezeichnung\": \"Arboretum\", \"total_FUSS\": 8180.0, \"total_VELO\": 0.0}, {\"year_month_day_str\": \"2022-06-18\", \"FK_ZAEHLER\": \"YSH18065716\", \"abkuerzung\": \"FZS_LIMM\", \"bezeichnung\": \"Limmatquai\", \"total_FUSS\": 6487.0, \"total_VELO\": 0.0}, {\"year_month_day_str\": \"2022-06-16\", \"FK_ZAEHLER\": \"YSH18065716\", \"abkuerzung\": \"FZS_LIMM\", \"bezeichnung\": \"Limmatquai\", \"total_FUSS\": 6217.0, \"total_VELO\": 0.0}, {\"year_month_day_str\": \"2022-08-09\", \"FK_ZAEHLER\": \"YSH18065716\", \"abkuerzung\": \"FZS_LIMM\", \"bezeichnung\": \"Limmatquai\", \"total_FUSS\": 6297.0, \"total_VELO\": 0.0}, {\"year_month_day_str\": \"2022-07-12\", \"FK_ZAEHLER\": \"YSH18065716\", \"abkuerzung\": \"FZS_LIMM\", \"bezeichnung\": \"Limmatquai\", \"total_FUSS\": 6323.0, \"total_VELO\": 0.0}, {\"year_month_day_str\": \"2022-07-17\", \"FK_ZAEHLER\": \"U15G3063865\", \"abkuerzung\": \"FZS_ARBO\", \"bezeichnung\": \"Arboretum\", \"total_FUSS\": 8719.0, \"total_VELO\": 0.0}, {\"year_month_day_str\": \"2022-07-19\", \"FK_ZAEHLER\": \"U15G3063865\", \"abkuerzung\": \"FZS_ARBO\", \"bezeichnung\": \"Arboretum\", \"total_FUSS\": 8097.0, \"total_VELO\": 0.0}, {\"year_month_day_str\": \"2022-03-04\", \"FK_ZAEHLER\": \"YSH18065716\", \"abkuerzung\": \"FZS_LIMM\", \"bezeichnung\": \"Limmatquai\", \"total_FUSS\": 5977.0, \"total_VELO\": 0.0}, {\"year_month_day_str\": \"2022-06-26\", \"FK_ZAEHLER\": \"U15G3104443\", \"abkuerzung\": \"FZS_MYTH\", \"bezeichnung\": \"Mythenquai Unterf\\u00fchrung\", \"total_FUSS\": 7698.0, \"total_VELO\": 0.0}, {\"year_month_day_str\": \"2022-05-18\", \"FK_ZAEHLER\": \"U15G3063865\", \"abkuerzung\": \"FZS_ARBO\", \"bezeichnung\": \"Arboretum\", \"total_FUSS\": 8568.0, \"total_VELO\": 0.0}, {\"year_month_day_str\": \"2022-04-23\", \"FK_ZAEHLER\": \"YSH18065716\", \"abkuerzung\": \"FZS_LIMM\", \"bezeichnung\": \"Limmatquai\", \"total_FUSS\": 6275.0, \"total_VELO\": 0.0}, {\"year_month_day_str\": \"2022-05-26\", \"FK_ZAEHLER\": \"YSH18065716\", \"abkuerzung\": \"FZS_LIMM\", \"bezeichnung\": \"Limmatquai\", \"total_FUSS\": 5897.0, \"total_VELO\": 0.0}, {\"year_month_day_str\": \"2022-05-20\", \"FK_ZAEHLER\": \"YSH18065716\", \"abkuerzung\": \"FZS_LIMM\", \"bezeichnung\": \"Limmatquai\", \"total_FUSS\": 5960.0, \"total_VELO\": 0.0}, {\"year_month_day_str\": \"2022-07-01\", \"FK_ZAEHLER\": \"YSH18065716\", \"abkuerzung\": \"FZS_LIMM\", \"bezeichnung\": \"Limmatquai\", \"total_FUSS\": 6081.0, \"total_VELO\": 0.0}, {\"year_month_day_str\": \"2022-07-10\", \"FK_ZAEHLER\": \"U15G3063865\", \"abkuerzung\": \"FZS_ARBO\", \"bezeichnung\": \"Arboretum\", \"total_FUSS\": 8312.0, \"total_VELO\": 0.0}, {\"year_month_day_str\": \"2022-05-25\", \"FK_ZAEHLER\": \"YSH18065716\", \"abkuerzung\": \"FZS_LIMM\", \"bezeichnung\": \"Limmatquai\", \"total_FUSS\": 5589.0, \"total_VELO\": 0.0}, {\"year_month_day_str\": \"2022-04-22\", \"FK_ZAEHLER\": \"YSH18065716\", \"abkuerzung\": \"FZS_LIMM\", \"bezeichnung\": \"Limmatquai\", \"total_FUSS\": 6012.0, \"total_VELO\": 0.0}, {\"year_month_day_str\": \"2022-07-24\", \"FK_ZAEHLER\": \"U15G3063865\", \"abkuerzung\": \"FZS_ARBO\", \"bezeichnung\": \"Arboretum\", \"total_FUSS\": 8498.0, \"total_VELO\": 0.0}, {\"year_month_day_str\": \"2022-08-10\", \"FK_ZAEHLER\": \"YSH18065716\", \"abkuerzung\": \"FZS_LIMM\", \"bezeichnung\": \"Limmatquai\", \"total_FUSS\": 6240.0, \"total_VELO\": 0.0}, {\"year_month_day_str\": \"2022-03-27\", \"FK_ZAEHLER\": \"U15G3063865\", \"abkuerzung\": \"FZS_ARBO\", \"bezeichnung\": \"Arboretum\", \"total_FUSS\": 8147.0, \"total_VELO\": 0.0}, {\"year_month_day_str\": \"2022-06-15\", \"FK_ZAEHLER\": \"U15G3063865\", \"abkuerzung\": \"FZS_ARBO\", \"bezeichnung\": \"Arboretum\", \"total_FUSS\": 8191.0, \"total_VELO\": 0.0}, {\"year_month_day_str\": \"2022-07-31\", \"FK_ZAEHLER\": \"U15G3063865\", \"abkuerzung\": \"FZS_ARBO\", \"bezeichnung\": \"Arboretum\", \"total_FUSS\": 8078.0, \"total_VELO\": 0.0}, {\"year_month_day_str\": \"2022-06-02\", \"FK_ZAEHLER\": \"YSH18065716\", \"abkuerzung\": \"FZS_LIMM\", \"bezeichnung\": \"Limmatquai\", \"total_FUSS\": 5546.0, \"total_VELO\": 0.0}, {\"year_month_day_str\": \"2022-01-22\", \"FK_ZAEHLER\": \"YSH18065716\", \"abkuerzung\": \"FZS_LIMM\", \"bezeichnung\": \"Limmatquai\", \"total_FUSS\": 6311.0, \"total_VELO\": 0.0}, {\"year_month_day_str\": \"2022-06-19\", \"FK_ZAEHLER\": \"U15G3063865\", \"abkuerzung\": \"FZS_ARBO\", \"bezeichnung\": \"Arboretum\", \"total_FUSS\": 8254.0, \"total_VELO\": 0.0}, {\"year_month_day_str\": \"2022-07-03\", \"FK_ZAEHLER\": \"U15G3104443\", \"abkuerzung\": \"FZS_MYTH\", \"bezeichnung\": \"Mythenquai Unterf\\u00fchrung\", \"total_FUSS\": 6542.0, \"total_VELO\": 0.0}, {\"year_month_day_str\": \"2022-07-15\", \"FK_ZAEHLER\": \"U15G3063865\", \"abkuerzung\": \"FZS_ARBO\", \"bezeichnung\": \"Arboretum\", \"total_FUSS\": 8111.0, \"total_VELO\": 0.0}, {\"year_month_day_str\": \"2022-07-08\", \"FK_ZAEHLER\": \"YSH18065716\", \"abkuerzung\": \"FZS_LIMM\", \"bezeichnung\": \"Limmatquai\", \"total_FUSS\": 6222.0, \"total_VELO\": 0.0}, {\"year_month_day_str\": \"2022-08-08\", \"FK_ZAEHLER\": \"YSH18065716\", \"abkuerzung\": \"FZS_LIMM\", \"bezeichnung\": \"Limmatquai\", \"total_FUSS\": 6045.0, \"total_VELO\": 0.0}, {\"year_month_day_str\": \"2022-08-06\", \"FK_ZAEHLER\": \"YSH18065716\", \"abkuerzung\": \"FZS_LIMM\", \"bezeichnung\": \"Limmatquai\", \"total_FUSS\": 6346.0, \"total_VELO\": 0.0}, {\"year_month_day_str\": \"2022-04-30\", \"FK_ZAEHLER\": \"YSH18065716\", \"abkuerzung\": \"FZS_LIMM\", \"bezeichnung\": \"Limmatquai\", \"total_FUSS\": 6004.0, \"total_VELO\": 0.0}, {\"year_month_day_str\": \"2022-06-03\", \"FK_ZAEHLER\": \"YSH18065716\", \"abkuerzung\": \"FZS_LIMM\", \"bezeichnung\": \"Limmatquai\", \"total_FUSS\": 5870.0, \"total_VELO\": 0.0}, {\"year_month_day_str\": \"2022-06-14\", \"FK_ZAEHLER\": \"YSH18065716\", \"abkuerzung\": \"FZS_LIMM\", \"bezeichnung\": \"Limmatquai\", \"total_FUSS\": 5758.0, \"total_VELO\": 0.0}, {\"year_month_day_str\": \"2022-06-14\", \"FK_ZAEHLER\": \"U15G3063865\", \"abkuerzung\": \"FZS_ARBO\", \"bezeichnung\": \"Arboretum\", \"total_FUSS\": 8120.0, \"total_VELO\": 0.0}, {\"year_month_day_str\": \"2022-07-12\", \"FK_ZAEHLER\": \"U15G3063865\", \"abkuerzung\": \"FZS_ARBO\", \"bezeichnung\": \"Arboretum\", \"total_FUSS\": 7978.0, \"total_VELO\": 0.0}, {\"year_month_day_str\": \"2022-04-29\", \"FK_ZAEHLER\": \"YSH18065716\", \"abkuerzung\": \"FZS_LIMM\", \"bezeichnung\": \"Limmatquai\", \"total_FUSS\": 5669.0, \"total_VELO\": 0.0}, {\"year_month_day_str\": \"2022-08-24\", \"FK_ZAEHLER\": \"YSH18065716\", \"abkuerzung\": \"FZS_LIMM\", \"bezeichnung\": \"Limmatquai\", \"total_FUSS\": 6044.0, \"total_VELO\": 0.0}, {\"year_month_day_str\": \"2022-04-13\", \"FK_ZAEHLER\": \"YSH18065716\", \"abkuerzung\": \"FZS_LIMM\", \"bezeichnung\": \"Limmatquai\", \"total_FUSS\": 5598.0, \"total_VELO\": 0.0}, {\"year_month_day_str\": \"2022-06-23\", \"FK_ZAEHLER\": \"YSH18065716\", \"abkuerzung\": \"FZS_LIMM\", \"bezeichnung\": \"Limmatquai\", \"total_FUSS\": 5571.0, \"total_VELO\": 0.0}, {\"year_month_day_str\": \"2022-07-11\", \"FK_ZAEHLER\": \"YSH18065716\", \"abkuerzung\": \"FZS_LIMM\", \"bezeichnung\": \"Limmatquai\", \"total_FUSS\": 5828.0, \"total_VELO\": 0.0}, {\"year_month_day_str\": \"2022-07-15\", \"FK_ZAEHLER\": \"YSH18065716\", \"abkuerzung\": \"FZS_LIMM\", \"bezeichnung\": \"Limmatquai\", \"total_FUSS\": 5723.0, \"total_VELO\": 0.0}, {\"year_month_day_str\": \"2022-03-27\", \"FK_ZAEHLER\": \"YSH18065716\", \"abkuerzung\": \"FZS_LIMM\", \"bezeichnung\": \"Limmatquai\", \"total_FUSS\": 5493.0, \"total_VELO\": 0.0}, {\"year_month_day_str\": \"2022-08-23\", \"FK_ZAEHLER\": \"YSH18065716\", \"abkuerzung\": \"FZS_LIMM\", \"bezeichnung\": \"Limmatquai\", \"total_FUSS\": 5855.0, \"total_VELO\": 0.0}, {\"year_month_day_str\": \"2022-03-13\", \"FK_ZAEHLER\": \"YSH18065716\", \"abkuerzung\": \"FZS_LIMM\", \"bezeichnung\": \"Limmatquai\", \"total_FUSS\": 5467.0, \"total_VELO\": 0.0}, {\"year_month_day_str\": \"2022-06-12\", \"FK_ZAEHLER\": \"U15G3104443\", \"abkuerzung\": \"FZS_MYTH\", \"bezeichnung\": \"Mythenquai Unterf\\u00fchrung\", \"total_FUSS\": 6274.0, \"total_VELO\": 0.0}, {\"year_month_day_str\": \"2022-03-24\", \"FK_ZAEHLER\": \"YSH18065716\", \"abkuerzung\": \"FZS_LIMM\", \"bezeichnung\": \"Limmatquai\", \"total_FUSS\": 5548.0, \"total_VELO\": 0.0}, {\"year_month_day_str\": \"2022-04-21\", \"FK_ZAEHLER\": \"YSH18065716\", \"abkuerzung\": \"FZS_LIMM\", \"bezeichnung\": \"Limmatquai\", \"total_FUSS\": 5569.0, \"total_VELO\": 0.0}, {\"year_month_day_str\": \"2022-04-28\", \"FK_ZAEHLER\": \"YSH18065716\", \"abkuerzung\": \"FZS_LIMM\", \"bezeichnung\": \"Limmatquai\", \"total_FUSS\": 5854.0, \"total_VELO\": 0.0}, {\"year_month_day_str\": \"2022-04-18\", \"FK_ZAEHLER\": \"YSH18065716\", \"abkuerzung\": \"FZS_LIMM\", \"bezeichnung\": \"Limmatquai\", \"total_FUSS\": 5408.0, \"total_VELO\": 0.0}, {\"year_month_day_str\": \"2022-06-19\", \"FK_ZAEHLER\": \"U15G3104443\", \"abkuerzung\": \"FZS_MYTH\", \"bezeichnung\": \"Mythenquai Unterf\\u00fchrung\", \"total_FUSS\": 6616.0, \"total_VELO\": 0.0}, {\"year_month_day_str\": \"2022-07-06\", \"FK_ZAEHLER\": \"U15G3063865\", \"abkuerzung\": \"FZS_ARBO\", \"bezeichnung\": \"Arboretum\", \"total_FUSS\": 7894.0, \"total_VELO\": 0.0}, {\"year_month_day_str\": \"2022-07-23\", \"FK_ZAEHLER\": \"YSH18065716\", \"abkuerzung\": \"FZS_LIMM\", \"bezeichnung\": \"Limmatquai\", \"total_FUSS\": 6036.0, \"total_VELO\": 0.0}, {\"year_month_day_str\": \"2022-08-22\", \"FK_ZAEHLER\": \"YSH18065716\", \"abkuerzung\": \"FZS_LIMM\", \"bezeichnung\": \"Limmatquai\", \"total_FUSS\": 5607.0, \"total_VELO\": 0.0}, {\"year_month_day_str\": \"2022-07-08\", \"FK_ZAEHLER\": \"U15G3063865\", \"abkuerzung\": \"FZS_ARBO\", \"bezeichnung\": \"Arboretum\", \"total_FUSS\": 7682.0, \"total_VELO\": 0.0}, {\"year_month_day_str\": \"2022-08-09\", \"FK_ZAEHLER\": \"U15G3063865\", \"abkuerzung\": \"FZS_ARBO\", \"bezeichnung\": \"Arboretum\", \"total_FUSS\": 7629.0, \"total_VELO\": 0.0}, {\"year_month_day_str\": \"2022-05-17\", \"FK_ZAEHLER\": \"U15G3063865\", \"abkuerzung\": \"FZS_ARBO\", \"bezeichnung\": \"Arboretum\", \"total_FUSS\": 7581.0, \"total_VELO\": 0.0}, {\"year_month_day_str\": \"2022-04-17\", \"FK_ZAEHLER\": \"YSH18065716\", \"abkuerzung\": \"FZS_LIMM\", \"bezeichnung\": \"Limmatquai\", \"total_FUSS\": 5062.0, \"total_VELO\": 0.0}, {\"year_month_day_str\": \"2022-04-19\", \"FK_ZAEHLER\": \"YSH18065716\", \"abkuerzung\": \"FZS_LIMM\", \"bezeichnung\": \"Limmatquai\", \"total_FUSS\": 5488.0, \"total_VELO\": 0.0}, {\"year_month_day_str\": \"2022-03-13\", \"FK_ZAEHLER\": \"U15G3063865\", \"abkuerzung\": \"FZS_ARBO\", \"bezeichnung\": \"Arboretum\", \"total_FUSS\": 7495.0, \"total_VELO\": 0.0}, {\"year_month_day_str\": \"2022-06-15\", \"FK_ZAEHLER\": \"YSH18065716\", \"abkuerzung\": \"FZS_LIMM\", \"bezeichnung\": \"Limmatquai\", \"total_FUSS\": 5201.0, \"total_VELO\": 0.0}, {\"year_month_day_str\": \"2022-05-12\", \"FK_ZAEHLER\": \"YSH18065716\", \"abkuerzung\": \"FZS_LIMM\", \"bezeichnung\": \"Limmatquai\", \"total_FUSS\": 5284.0, \"total_VELO\": 0.0}, {\"year_month_day_str\": \"2022-07-14\", \"FK_ZAEHLER\": \"U15G3063865\", \"abkuerzung\": \"FZS_ARBO\", \"bezeichnung\": \"Arboretum\", \"total_FUSS\": 7590.0, \"total_VELO\": 0.0}, {\"year_month_day_str\": \"2022-03-26\", \"FK_ZAEHLER\": \"U15G3063865\", \"abkuerzung\": \"FZS_ARBO\", \"bezeichnung\": \"Arboretum\", \"total_FUSS\": 7112.0, \"total_VELO\": 0.0}, {\"year_month_day_str\": \"2022-06-18\", \"FK_ZAEHLER\": \"U15G3104443\", \"abkuerzung\": \"FZS_MYTH\", \"bezeichnung\": \"Mythenquai Unterf\\u00fchrung\", \"total_FUSS\": 6196.0, \"total_VELO\": 0.0}, {\"year_month_day_str\": \"2022-01-15\", \"FK_ZAEHLER\": \"YSH18065716\", \"abkuerzung\": \"FZS_LIMM\", \"bezeichnung\": \"Limmatquai\", \"total_FUSS\": 5641.0, \"total_VELO\": 0.0}, {\"year_month_day_str\": \"2022-07-22\", \"FK_ZAEHLER\": \"YSH18065716\", \"abkuerzung\": \"FZS_LIMM\", \"bezeichnung\": \"Limmatquai\", \"total_FUSS\": 5435.0, \"total_VELO\": 0.0}, {\"year_month_day_str\": \"2022-05-30\", \"FK_ZAEHLER\": \"YSH18065716\", \"abkuerzung\": \"FZS_LIMM\", \"bezeichnung\": \"Limmatquai\", \"total_FUSS\": 5133.0, \"total_VELO\": 0.0}, {\"year_month_day_str\": \"2022-02-19\", \"FK_ZAEHLER\": \"YSH18065716\", \"abkuerzung\": \"FZS_LIMM\", \"bezeichnung\": \"Limmatquai\", \"total_FUSS\": 5865.0, \"total_VELO\": 0.0}, {\"year_month_day_str\": \"2022-05-27\", \"FK_ZAEHLER\": \"U15G3063865\", \"abkuerzung\": \"FZS_ARBO\", \"bezeichnung\": \"Arboretum\", \"total_FUSS\": 7731.0, \"total_VELO\": 0.0}, {\"year_month_day_str\": \"2022-08-11\", \"FK_ZAEHLER\": \"U15G3063865\", \"abkuerzung\": \"FZS_ARBO\", \"bezeichnung\": \"Arboretum\", \"total_FUSS\": 7429.0, \"total_VELO\": 0.0}, {\"year_month_day_str\": \"2022-07-28\", \"FK_ZAEHLER\": \"YSH18065716\", \"abkuerzung\": \"FZS_LIMM\", \"bezeichnung\": \"Limmatquai\", \"total_FUSS\": 5369.0, \"total_VELO\": 0.0}, {\"year_month_day_str\": \"2022-07-13\", \"FK_ZAEHLER\": \"YSH18065716\", \"abkuerzung\": \"FZS_LIMM\", \"bezeichnung\": \"Limmatquai\", \"total_FUSS\": 5273.0, \"total_VELO\": 0.0}, {\"year_month_day_str\": \"2022-07-05\", \"FK_ZAEHLER\": \"YSH18065716\", \"abkuerzung\": \"FZS_LIMM\", \"bezeichnung\": \"Limmatquai\", \"total_FUSS\": 5166.0, \"total_VELO\": 0.0}, {\"year_month_day_str\": \"2022-03-11\", \"FK_ZAEHLER\": \"YSH18065716\", \"abkuerzung\": \"FZS_LIMM\", \"bezeichnung\": \"Limmatquai\", \"total_FUSS\": 5406.0, \"total_VELO\": 0.0}, {\"year_month_day_str\": \"2022-08-05\", \"FK_ZAEHLER\": \"YSH18065716\", \"abkuerzung\": \"FZS_LIMM\", \"bezeichnung\": \"Limmatquai\", \"total_FUSS\": 5403.0, \"total_VELO\": 0.0}, {\"year_month_day_str\": \"2022-08-16\", \"FK_ZAEHLER\": \"U15G3063865\", \"abkuerzung\": \"FZS_ARBO\", \"bezeichnung\": \"Arboretum\", \"total_FUSS\": 7542.0, \"total_VELO\": 0.0}, {\"year_month_day_str\": \"2022-07-18\", \"FK_ZAEHLER\": \"YSH18065716\", \"abkuerzung\": \"FZS_LIMM\", \"bezeichnung\": \"Limmatquai\", \"total_FUSS\": 5327.0, \"total_VELO\": 0.0}, {\"year_month_day_str\": \"2022-07-14\", \"FK_ZAEHLER\": \"YSH18065716\", \"abkuerzung\": \"FZS_LIMM\", \"bezeichnung\": \"Limmatquai\", \"total_FUSS\": 5291.0, \"total_VELO\": 0.0}, {\"year_month_day_str\": \"2022-08-18\", \"FK_ZAEHLER\": \"YSH18065716\", \"abkuerzung\": \"FZS_LIMM\", \"bezeichnung\": \"Limmatquai\", \"total_FUSS\": 5499.0, \"total_VELO\": 0.0}, {\"year_month_day_str\": \"2022-06-10\", \"FK_ZAEHLER\": \"U15G3063865\", \"abkuerzung\": \"FZS_ARBO\", \"bezeichnung\": \"Arboretum\", \"total_FUSS\": 7338.0, \"total_VELO\": 0.0}, {\"year_month_day_str\": \"2022-05-17\", \"FK_ZAEHLER\": \"YSH18065716\", \"abkuerzung\": \"FZS_LIMM\", \"bezeichnung\": \"Limmatquai\", \"total_FUSS\": 5133.0, \"total_VELO\": 0.0}, {\"year_month_day_str\": \"2022-03-09\", \"FK_ZAEHLER\": \"YSH18065716\", \"abkuerzung\": \"FZS_LIMM\", \"bezeichnung\": \"Limmatquai\", \"total_FUSS\": 5118.0, \"total_VELO\": 0.0}, {\"year_month_day_str\": \"2022-05-11\", \"FK_ZAEHLER\": \"YSH18065716\", \"abkuerzung\": \"FZS_LIMM\", \"bezeichnung\": \"Limmatquai\", \"total_FUSS\": 5448.0, \"total_VELO\": 0.0}, {\"year_month_day_str\": \"2022-07-27\", \"FK_ZAEHLER\": \"U15G3063865\", \"abkuerzung\": \"FZS_ARBO\", \"bezeichnung\": \"Arboretum\", \"total_FUSS\": 6727.0, \"total_VELO\": 0.0}, {\"year_month_day_str\": \"2022-05-22\", \"FK_ZAEHLER\": \"U15G3063865\", \"abkuerzung\": \"FZS_ARBO\", \"bezeichnung\": \"Arboretum\", \"total_FUSS\": 7508.0, \"total_VELO\": 0.0}, {\"year_month_day_str\": \"2022-07-21\", \"FK_ZAEHLER\": \"U15G3063865\", \"abkuerzung\": \"FZS_ARBO\", \"bezeichnung\": \"Arboretum\", \"total_FUSS\": 7235.0, \"total_VELO\": 0.0}, {\"year_month_day_str\": \"2022-05-13\", \"FK_ZAEHLER\": \"YSH18065716\", \"abkuerzung\": \"FZS_LIMM\", \"bezeichnung\": \"Limmatquai\", \"total_FUSS\": 5477.0, \"total_VELO\": 0.0}, {\"year_month_day_str\": \"2022-03-23\", \"FK_ZAEHLER\": \"YSH18065716\", \"abkuerzung\": \"FZS_LIMM\", \"bezeichnung\": \"Limmatquai\", \"total_FUSS\": 5192.0, \"total_VELO\": 0.0}, {\"year_month_day_str\": \"2022-03-03\", \"FK_ZAEHLER\": \"YSH18065716\", \"abkuerzung\": \"FZS_LIMM\", \"bezeichnung\": \"Limmatquai\", \"total_FUSS\": 5259.0, \"total_VELO\": 0.0}, {\"year_month_day_str\": \"2022-04-11\", \"FK_ZAEHLER\": \"YSH18065716\", \"abkuerzung\": \"FZS_LIMM\", \"bezeichnung\": \"Limmatquai\", \"total_FUSS\": 5101.0, \"total_VELO\": 0.0}, {\"year_month_day_str\": \"2022-08-23\", \"FK_ZAEHLER\": \"U15G3063865\", \"abkuerzung\": \"FZS_ARBO\", \"bezeichnung\": \"Arboretum\", \"total_FUSS\": 7489.0, \"total_VELO\": 0.0}, {\"year_month_day_str\": \"2022-02-28\", \"FK_ZAEHLER\": \"YSH18065716\", \"abkuerzung\": \"FZS_LIMM\", \"bezeichnung\": \"Limmatquai\", \"total_FUSS\": 5094.0, \"total_VELO\": 0.0}, {\"year_month_day_str\": \"2022-08-24\", \"FK_ZAEHLER\": \"U15G3063865\", \"abkuerzung\": \"FZS_ARBO\", \"bezeichnung\": \"Arboretum\", \"total_FUSS\": 7420.0, \"total_VELO\": 0.0}, {\"year_month_day_str\": \"2022-03-20\", \"FK_ZAEHLER\": \"YSH18065716\", \"abkuerzung\": \"FZS_LIMM\", \"bezeichnung\": \"Limmatquai\", \"total_FUSS\": 4890.0, \"total_VELO\": 0.0}, {\"year_month_day_str\": \"2022-06-06\", \"FK_ZAEHLER\": \"U15G3063865\", \"abkuerzung\": \"FZS_ARBO\", \"bezeichnung\": \"Arboretum\", \"total_FUSS\": 7512.0, \"total_VELO\": 0.0}, {\"year_month_day_str\": \"2022-07-29\", \"FK_ZAEHLER\": \"YSH18065716\", \"abkuerzung\": \"FZS_LIMM\", \"bezeichnung\": \"Limmatquai\", \"total_FUSS\": 5284.0, \"total_VELO\": 0.0}, {\"year_month_day_str\": \"2022-02-13\", \"FK_ZAEHLER\": \"YSH18065716\", \"abkuerzung\": \"FZS_LIMM\", \"bezeichnung\": \"Limmatquai\", \"total_FUSS\": 4943.0, \"total_VELO\": 0.0}, {\"year_month_day_str\": \"2022-07-11\", \"FK_ZAEHLER\": \"U15G3063865\", \"abkuerzung\": \"FZS_ARBO\", \"bezeichnung\": \"Arboretum\", \"total_FUSS\": 7153.0, \"total_VELO\": 0.0}, {\"year_month_day_str\": \"2022-08-10\", \"FK_ZAEHLER\": \"U15G3063865\", \"abkuerzung\": \"FZS_ARBO\", \"bezeichnung\": \"Arboretum\", \"total_FUSS\": 7339.0, \"total_VELO\": 0.0}, {\"year_month_day_str\": \"2022-07-22\", \"FK_ZAEHLER\": \"U15G3063865\", \"abkuerzung\": \"FZS_ARBO\", \"bezeichnung\": \"Arboretum\", \"total_FUSS\": 7209.0, \"total_VELO\": 0.0}, {\"year_month_day_str\": \"2022-06-01\", \"FK_ZAEHLER\": \"YSH18065716\", \"abkuerzung\": \"FZS_LIMM\", \"bezeichnung\": \"Limmatquai\", \"total_FUSS\": 5300.0, \"total_VELO\": 0.0}, {\"year_month_day_str\": \"2022-08-03\", \"FK_ZAEHLER\": \"YSH18065716\", \"abkuerzung\": \"FZS_LIMM\", \"bezeichnung\": \"Limmatquai\", \"total_FUSS\": 5156.0, \"total_VELO\": 0.0}, {\"year_month_day_str\": \"2022-06-06\", \"FK_ZAEHLER\": \"YSH18065716\", \"abkuerzung\": \"FZS_LIMM\", \"bezeichnung\": \"Limmatquai\", \"total_FUSS\": 4688.0, \"total_VELO\": 0.0}, {\"year_month_day_str\": \"2022-08-04\", \"FK_ZAEHLER\": \"U15G3063865\", \"abkuerzung\": \"FZS_ARBO\", \"bezeichnung\": \"Arboretum\", \"total_FUSS\": 6948.0, \"total_VELO\": 0.0}, {\"year_month_day_str\": \"2022-06-20\", \"FK_ZAEHLER\": \"U15G3063865\", \"abkuerzung\": \"FZS_ARBO\", \"bezeichnung\": \"Arboretum\", \"total_FUSS\": 7007.0, \"total_VELO\": 0.0}, {\"year_month_day_str\": \"2022-07-06\", \"FK_ZAEHLER\": \"YSH18065716\", \"abkuerzung\": \"FZS_LIMM\", \"bezeichnung\": \"Limmatquai\", \"total_FUSS\": 5195.0, \"total_VELO\": 0.0}, {\"year_month_day_str\": \"2022-04-18\", \"FK_ZAEHLER\": \"U15G3063865\", \"abkuerzung\": \"FZS_ARBO\", \"bezeichnung\": \"Arboretum\", \"total_FUSS\": 6882.0, \"total_VELO\": 0.0}, {\"year_month_day_str\": \"2022-04-27\", \"FK_ZAEHLER\": \"YSH18065716\", \"abkuerzung\": \"FZS_LIMM\", \"bezeichnung\": \"Limmatquai\", \"total_FUSS\": 5092.0, \"total_VELO\": 0.0}, {\"year_month_day_str\": \"2022-08-02\", \"FK_ZAEHLER\": \"U15G3063865\", \"abkuerzung\": \"FZS_ARBO\", \"bezeichnung\": \"Arboretum\", \"total_FUSS\": 6586.0, \"total_VELO\": 0.0}, {\"year_month_day_str\": \"2022-05-15\", \"FK_ZAEHLER\": \"YSH18065716\", \"abkuerzung\": \"FZS_LIMM\", \"bezeichnung\": \"Limmatquai\", \"total_FUSS\": 4764.0, \"total_VELO\": 0.0}, {\"year_month_day_str\": \"2022-04-20\", \"FK_ZAEHLER\": \"YSH18065716\", \"abkuerzung\": \"FZS_LIMM\", \"bezeichnung\": \"Limmatquai\", \"total_FUSS\": 4734.0, \"total_VELO\": 0.0}, {\"year_month_day_str\": \"2022-06-28\", \"FK_ZAEHLER\": \"YSH18065716\", \"abkuerzung\": \"FZS_LIMM\", \"bezeichnung\": \"Limmatquai\", \"total_FUSS\": 5325.0, \"total_VELO\": 0.0}, {\"year_month_day_str\": \"2022-03-10\", \"FK_ZAEHLER\": \"YSH18065716\", \"abkuerzung\": \"FZS_LIMM\", \"bezeichnung\": \"Limmatquai\", \"total_FUSS\": 5068.0, \"total_VELO\": 0.0}, {\"year_month_day_str\": \"2022-05-10\", \"FK_ZAEHLER\": \"U15G3063865\", \"abkuerzung\": \"FZS_ARBO\", \"bezeichnung\": \"Arboretum\", \"total_FUSS\": 7041.0, \"total_VELO\": 0.0}, {\"year_month_day_str\": \"2022-07-30\", \"FK_ZAEHLER\": \"U15G3063865\", \"abkuerzung\": \"FZS_ARBO\", \"bezeichnung\": \"Arboretum\", \"total_FUSS\": 6707.0, \"total_VELO\": 0.0}, {\"year_month_day_str\": \"2022-08-04\", \"FK_ZAEHLER\": \"YSH18065716\", \"abkuerzung\": \"FZS_LIMM\", \"bezeichnung\": \"Limmatquai\", \"total_FUSS\": 5086.0, \"total_VELO\": 0.0}, {\"year_month_day_str\": \"2022-04-15\", \"FK_ZAEHLER\": \"YSH18065716\", \"abkuerzung\": \"FZS_LIMM\", \"bezeichnung\": \"Limmatquai\", \"total_FUSS\": 4924.0, \"total_VELO\": 0.0}, {\"year_month_day_str\": \"2022-02-13\", \"FK_ZAEHLER\": \"U15G3063865\", \"abkuerzung\": \"FZS_ARBO\", \"bezeichnung\": \"Arboretum\", \"total_FUSS\": 6773.0, \"total_VELO\": 0.0}, {\"year_month_day_str\": \"2022-06-13\", \"FK_ZAEHLER\": \"YSH18065716\", \"abkuerzung\": \"FZS_LIMM\", \"bezeichnung\": \"Limmatquai\", \"total_FUSS\": 5135.0, \"total_VELO\": 0.0}, {\"year_month_day_str\": \"2022-07-27\", \"FK_ZAEHLER\": \"YSH18065716\", \"abkuerzung\": \"FZS_LIMM\", \"bezeichnung\": \"Limmatquai\", \"total_FUSS\": 4995.0, \"total_VELO\": 0.0}, {\"year_month_day_str\": \"2022-08-01\", \"FK_ZAEHLER\": \"YSH18065716\", \"abkuerzung\": \"FZS_LIMM\", \"bezeichnung\": \"Limmatquai\", \"total_FUSS\": 4727.0, \"total_VELO\": 0.0}, {\"year_month_day_str\": \"2022-03-20\", \"FK_ZAEHLER\": \"U15G3063865\", \"abkuerzung\": \"FZS_ARBO\", \"bezeichnung\": \"Arboretum\", \"total_FUSS\": 7017.0, \"total_VELO\": 0.0}, {\"year_month_day_str\": \"2022-05-10\", \"FK_ZAEHLER\": \"YSH18065716\", \"abkuerzung\": \"FZS_LIMM\", \"bezeichnung\": \"Limmatquai\", \"total_FUSS\": 3208.0, \"total_VELO\": 0.0}, {\"year_month_day_str\": \"2022-04-17\", \"FK_ZAEHLER\": \"U15G3063865\", \"abkuerzung\": \"FZS_ARBO\", \"bezeichnung\": \"Arboretum\", \"total_FUSS\": 6201.0, \"total_VELO\": 0.0}, {\"year_month_day_str\": \"2022-03-18\", \"FK_ZAEHLER\": \"YSH18065716\", \"abkuerzung\": \"FZS_LIMM\", \"bezeichnung\": \"Limmatquai\", \"total_FUSS\": 5192.0, \"total_VELO\": 0.0}, {\"year_month_day_str\": \"2022-05-18\", \"FK_ZAEHLER\": \"YSH18065716\", \"abkuerzung\": \"FZS_LIMM\", \"bezeichnung\": \"Limmatquai\", \"total_FUSS\": 4959.0, \"total_VELO\": 0.0}, {\"year_month_day_str\": \"2022-07-26\", \"FK_ZAEHLER\": \"YSH18065716\", \"abkuerzung\": \"FZS_LIMM\", \"bezeichnung\": \"Limmatquai\", \"total_FUSS\": 5093.0, \"total_VELO\": 0.0}, {\"year_month_day_str\": \"2022-04-28\", \"FK_ZAEHLER\": \"U15G3063865\", \"abkuerzung\": \"FZS_ARBO\", \"bezeichnung\": \"Arboretum\", \"total_FUSS\": 6277.0, \"total_VELO\": 0.0}, {\"year_month_day_str\": \"2022-05-04\", \"FK_ZAEHLER\": \"YSH18065716\", \"abkuerzung\": \"FZS_LIMM\", \"bezeichnung\": \"Limmatquai\", \"total_FUSS\": 5003.0, \"total_VELO\": 0.0}, {\"year_month_day_str\": \"2022-06-09\", \"FK_ZAEHLER\": \"YSH18065716\", \"abkuerzung\": \"FZS_LIMM\", \"bezeichnung\": \"Limmatquai\", \"total_FUSS\": 4998.0, \"total_VELO\": 0.0}, {\"year_month_day_str\": \"2022-05-31\", \"FK_ZAEHLER\": \"YSH18065716\", \"abkuerzung\": \"FZS_LIMM\", \"bezeichnung\": \"Limmatquai\", \"total_FUSS\": 5049.0, \"total_VELO\": 0.0}, {\"year_month_day_str\": \"2022-06-23\", \"FK_ZAEHLER\": \"U15G3063865\", \"abkuerzung\": \"FZS_ARBO\", \"bezeichnung\": \"Arboretum\", \"total_FUSS\": 6826.0, \"total_VELO\": 0.0}, {\"year_month_day_str\": \"2022-07-05\", \"FK_ZAEHLER\": \"U15G3063865\", \"abkuerzung\": \"FZS_ARBO\", \"bezeichnung\": \"Arboretum\", \"total_FUSS\": 6993.0, \"total_VELO\": 0.0}, {\"year_month_day_str\": \"2022-02-27\", \"FK_ZAEHLER\": \"U15G3063865\", \"abkuerzung\": \"FZS_ARBO\", \"bezeichnung\": \"Arboretum\", \"total_FUSS\": 6104.0, \"total_VELO\": 0.0}, {\"year_month_day_str\": \"2022-07-04\", \"FK_ZAEHLER\": \"YSH18065716\", \"abkuerzung\": \"FZS_LIMM\", \"bezeichnung\": \"Limmatquai\", \"total_FUSS\": 4564.0, \"total_VELO\": 0.0}, {\"year_month_day_str\": \"2022-06-26\", \"FK_ZAEHLER\": \"YSH18065716\", \"abkuerzung\": \"FZS_LIMM\", \"bezeichnung\": \"Limmatquai\", \"total_FUSS\": 4576.0, \"total_VELO\": 0.0}, {\"year_month_day_str\": \"2022-06-21\", \"FK_ZAEHLER\": \"U15G3063865\", \"abkuerzung\": \"FZS_ARBO\", \"bezeichnung\": \"Arboretum\", \"total_FUSS\": 6812.0, \"total_VELO\": 0.0}, {\"year_month_day_str\": \"2022-08-21\", \"FK_ZAEHLER\": \"YSH18065716\", \"abkuerzung\": \"FZS_LIMM\", \"bezeichnung\": \"Limmatquai\", \"total_FUSS\": 4836.0, \"total_VELO\": 0.0}, {\"year_month_day_str\": \"2022-07-07\", \"FK_ZAEHLER\": \"YSH18065716\", \"abkuerzung\": \"FZS_LIMM\", \"bezeichnung\": \"Limmatquai\", \"total_FUSS\": 4913.0, \"total_VELO\": 0.0}, {\"year_month_day_str\": \"2022-08-03\", \"FK_ZAEHLER\": \"U15G3063865\", \"abkuerzung\": \"FZS_ARBO\", \"bezeichnung\": \"Arboretum\", \"total_FUSS\": 6772.0, \"total_VELO\": 0.0}, {\"year_month_day_str\": \"2022-05-19\", \"FK_ZAEHLER\": \"YSH18065716\", \"abkuerzung\": \"FZS_LIMM\", \"bezeichnung\": \"Limmatquai\", \"total_FUSS\": 4452.0, \"total_VELO\": 0.0}, {\"year_month_day_str\": \"2022-08-07\", \"FK_ZAEHLER\": \"U15G3063865\", \"abkuerzung\": \"FZS_ARBO\", \"bezeichnung\": \"Arboretum\", \"total_FUSS\": 6692.0, \"total_VELO\": 0.0}, {\"year_month_day_str\": \"2022-07-20\", \"FK_ZAEHLER\": \"YSH18065716\", \"abkuerzung\": \"FZS_LIMM\", \"bezeichnung\": \"Limmatquai\", \"total_FUSS\": 4668.0, \"total_VELO\": 0.0}, {\"year_month_day_str\": \"2022-06-30\", \"FK_ZAEHLER\": \"YSH18065716\", \"abkuerzung\": \"FZS_LIMM\", \"bezeichnung\": \"Limmatquai\", \"total_FUSS\": 4743.0, \"total_VELO\": 0.0}, {\"year_month_day_str\": \"2022-06-29\", \"FK_ZAEHLER\": \"U15G3063865\", \"abkuerzung\": \"FZS_ARBO\", \"bezeichnung\": \"Arboretum\", \"total_FUSS\": 6695.0, \"total_VELO\": 0.0}, {\"year_month_day_str\": \"2022-08-07\", \"FK_ZAEHLER\": \"YSH18065716\", \"abkuerzung\": \"FZS_LIMM\", \"bezeichnung\": \"Limmatquai\", \"total_FUSS\": 4681.0, \"total_VELO\": 0.0}, {\"year_month_day_str\": \"2022-01-01\", \"FK_ZAEHLER\": \"YSH18065716\", \"abkuerzung\": \"FZS_LIMM\", \"bezeichnung\": \"Limmatquai\", \"total_FUSS\": 4583.0, \"total_VELO\": 0.0}, {\"year_month_day_str\": \"2022-01-08\", \"FK_ZAEHLER\": \"YSH18065716\", \"abkuerzung\": \"FZS_LIMM\", \"bezeichnung\": \"Limmatquai\", \"total_FUSS\": 5240.0, \"total_VELO\": 0.0}, {\"year_month_day_str\": \"2022-08-19\", \"FK_ZAEHLER\": \"YSH18065716\", \"abkuerzung\": \"FZS_LIMM\", \"bezeichnung\": \"Limmatquai\", \"total_FUSS\": 4949.0, \"total_VELO\": 0.0}, {\"year_month_day_str\": \"2022-04-08\", \"FK_ZAEHLER\": \"YSH18065716\", \"abkuerzung\": \"FZS_LIMM\", \"bezeichnung\": \"Limmatquai\", \"total_FUSS\": 4874.0, \"total_VELO\": 0.0}, {\"year_month_day_str\": \"2022-07-07\", \"FK_ZAEHLER\": \"U15G3063865\", \"abkuerzung\": \"FZS_ARBO\", \"bezeichnung\": \"Arboretum\", \"total_FUSS\": 6665.0, \"total_VELO\": 0.0}, {\"year_month_day_str\": \"2022-05-01\", \"FK_ZAEHLER\": \"U15G3063865\", \"abkuerzung\": \"FZS_ARBO\", \"bezeichnung\": \"Arboretum\", \"total_FUSS\": 6344.0, \"total_VELO\": 0.0}, {\"year_month_day_str\": \"2022-04-02\", \"FK_ZAEHLER\": \"YSH18065716\", \"abkuerzung\": \"FZS_LIMM\", \"bezeichnung\": \"Limmatquai\", \"total_FUSS\": 5463.0, \"total_VELO\": 0.0}, {\"year_month_day_str\": \"2022-08-22\", \"FK_ZAEHLER\": \"U15G3063865\", \"abkuerzung\": \"FZS_ARBO\", \"bezeichnung\": \"Arboretum\", \"total_FUSS\": 6627.0, \"total_VELO\": 0.0}, {\"year_month_day_str\": \"2022-05-29\", \"FK_ZAEHLER\": \"YSH18065716\", \"abkuerzung\": \"FZS_LIMM\", \"bezeichnung\": \"Limmatquai\", \"total_FUSS\": 4320.0, \"total_VELO\": 0.0}, {\"year_month_day_str\": \"2022-08-08\", \"FK_ZAEHLER\": \"U15G3063865\", \"abkuerzung\": \"FZS_ARBO\", \"bezeichnung\": \"Arboretum\", \"total_FUSS\": 6643.0, \"total_VELO\": 0.0}, {\"year_month_day_str\": \"2022-02-09\", \"FK_ZAEHLER\": \"YSH18065716\", \"abkuerzung\": \"FZS_LIMM\", \"bezeichnung\": \"Limmatquai\", \"total_FUSS\": 4648.0, \"total_VELO\": 0.0}, {\"year_month_day_str\": \"2022-07-24\", \"FK_ZAEHLER\": \"U15G3104443\", \"abkuerzung\": \"FZS_MYTH\", \"bezeichnung\": \"Mythenquai Unterf\\u00fchrung\", \"total_FUSS\": 5070.0, \"total_VELO\": 0.0}, {\"year_month_day_str\": \"2022-06-12\", \"FK_ZAEHLER\": \"YSH18065716\", \"abkuerzung\": \"FZS_LIMM\", \"bezeichnung\": \"Limmatquai\", \"total_FUSS\": 4328.0, \"total_VELO\": 0.0}, {\"year_month_day_str\": \"2022-04-10\", \"FK_ZAEHLER\": \"YSH18065716\", \"abkuerzung\": \"FZS_LIMM\", \"bezeichnung\": \"Limmatquai\", \"total_FUSS\": 4312.0, \"total_VELO\": 0.0}, {\"year_month_day_str\": \"2022-07-21\", \"FK_ZAEHLER\": \"YSH18065716\", \"abkuerzung\": \"FZS_LIMM\", \"bezeichnung\": \"Limmatquai\", \"total_FUSS\": 4929.0, \"total_VELO\": 0.0}, {\"year_month_day_str\": \"2022-05-19\", \"FK_ZAEHLER\": \"U15G3063865\", \"abkuerzung\": \"FZS_ARBO\", \"bezeichnung\": \"Arboretum\", \"total_FUSS\": 6590.0, \"total_VELO\": 0.0}, {\"year_month_day_str\": \"2022-06-08\", \"FK_ZAEHLER\": \"YSH18065716\", \"abkuerzung\": \"FZS_LIMM\", \"bezeichnung\": \"Limmatquai\", \"total_FUSS\": 4653.0, \"total_VELO\": 0.0}, {\"year_month_day_str\": \"2022-07-25\", \"FK_ZAEHLER\": \"YSH18065716\", \"abkuerzung\": \"FZS_LIMM\", \"bezeichnung\": \"Limmatquai\", \"total_FUSS\": 4729.0, \"total_VELO\": 0.0}, {\"year_month_day_str\": \"2022-05-09\", \"FK_ZAEHLER\": \"YSH18065716\", \"abkuerzung\": \"FZS_LIMM\", \"bezeichnung\": \"Limmatquai\", \"total_FUSS\": 4566.0, \"total_VELO\": 0.0}, {\"year_month_day_str\": \"2022-03-08\", \"FK_ZAEHLER\": \"YSH18065716\", \"abkuerzung\": \"FZS_LIMM\", \"bezeichnung\": \"Limmatquai\", \"total_FUSS\": 4700.0, \"total_VELO\": 0.0}, {\"year_month_day_str\": \"2022-03-01\", \"FK_ZAEHLER\": \"YSH18065716\", \"abkuerzung\": \"FZS_LIMM\", \"bezeichnung\": \"Limmatquai\", \"total_FUSS\": 4491.0, \"total_VELO\": 0.0}, {\"year_month_day_str\": \"2022-02-11\", \"FK_ZAEHLER\": \"YSH18065716\", \"abkuerzung\": \"FZS_LIMM\", \"bezeichnung\": \"Limmatquai\", \"total_FUSS\": 4809.0, \"total_VELO\": 0.0}, {\"year_month_day_str\": \"2022-07-17\", \"FK_ZAEHLER\": \"U15G3104443\", \"abkuerzung\": \"FZS_MYTH\", \"bezeichnung\": \"Mythenquai Unterf\\u00fchrung\", \"total_FUSS\": 4998.0, \"total_VELO\": 0.0}, {\"year_month_day_str\": \"2022-03-28\", \"FK_ZAEHLER\": \"YSH18065716\", \"abkuerzung\": \"FZS_LIMM\", \"bezeichnung\": \"Limmatquai\", \"total_FUSS\": 4538.0, \"total_VELO\": 0.0}, {\"year_month_day_str\": \"2022-05-02\", \"FK_ZAEHLER\": \"YSH18065716\", \"abkuerzung\": \"FZS_LIMM\", \"bezeichnung\": \"Limmatquai\", \"total_FUSS\": 4653.0, \"total_VELO\": 0.0}, {\"year_month_day_str\": \"2022-03-16\", \"FK_ZAEHLER\": \"YSH18065716\", \"abkuerzung\": \"FZS_LIMM\", \"bezeichnung\": \"Limmatquai\", \"total_FUSS\": 4663.0, \"total_VELO\": 0.0}, {\"year_month_day_str\": \"2022-05-06\", \"FK_ZAEHLER\": \"YSH18065716\", \"abkuerzung\": \"FZS_LIMM\", \"bezeichnung\": \"Limmatquai\", \"total_FUSS\": 5107.0, \"total_VELO\": 0.0}, {\"year_month_day_str\": \"2022-05-12\", \"FK_ZAEHLER\": \"U15G3063865\", \"abkuerzung\": \"FZS_ARBO\", \"bezeichnung\": \"Arboretum\", \"total_FUSS\": 6597.0, \"total_VELO\": 0.0}, {\"year_month_day_str\": \"2022-03-02\", \"FK_ZAEHLER\": \"YSH18065716\", \"abkuerzung\": \"FZS_LIMM\", \"bezeichnung\": \"Limmatquai\", \"total_FUSS\": 4624.0, \"total_VELO\": 0.0}, {\"year_month_day_str\": \"2022-03-22\", \"FK_ZAEHLER\": \"YSH18065716\", \"abkuerzung\": \"FZS_LIMM\", \"bezeichnung\": \"Limmatquai\", \"total_FUSS\": 4723.0, \"total_VELO\": 0.0}, {\"year_month_day_str\": \"2022-06-24\", \"FK_ZAEHLER\": \"YSH18065716\", \"abkuerzung\": \"FZS_LIMM\", \"bezeichnung\": \"Limmatquai\", \"total_FUSS\": 4760.0, \"total_VELO\": 0.0}, {\"year_month_day_str\": \"2022-04-26\", \"FK_ZAEHLER\": \"YSH18065716\", \"abkuerzung\": \"FZS_LIMM\", \"bezeichnung\": \"Limmatquai\", \"total_FUSS\": 4563.0, \"total_VELO\": 0.0}, {\"year_month_day_str\": \"2022-07-16\", \"FK_ZAEHLER\": \"U15G3104443\", \"abkuerzung\": \"FZS_MYTH\", \"bezeichnung\": \"Mythenquai Unterf\\u00fchrung\", \"total_FUSS\": 4834.0, \"total_VELO\": 0.0}, {\"year_month_day_str\": \"2022-02-10\", \"FK_ZAEHLER\": \"YSH18065716\", \"abkuerzung\": \"FZS_LIMM\", \"bezeichnung\": \"Limmatquai\", \"total_FUSS\": 4814.0, \"total_VELO\": 0.0}, {\"year_month_day_str\": \"2022-03-06\", \"FK_ZAEHLER\": \"YSH18065716\", \"abkuerzung\": \"FZS_LIMM\", \"bezeichnung\": \"Limmatquai\", \"total_FUSS\": 4223.0, \"total_VELO\": 0.0}, {\"year_month_day_str\": \"2022-03-23\", \"FK_ZAEHLER\": \"U15G3063865\", \"abkuerzung\": \"FZS_ARBO\", \"bezeichnung\": \"Arboretum\", \"total_FUSS\": 5832.0, \"total_VELO\": 0.0}, {\"year_month_day_str\": \"2022-05-29\", \"FK_ZAEHLER\": \"U15G3063865\", \"abkuerzung\": \"FZS_ARBO\", \"bezeichnung\": \"Arboretum\", \"total_FUSS\": 6225.0, \"total_VELO\": 0.0}, {\"year_month_day_str\": \"2022-01-28\", \"FK_ZAEHLER\": \"YSH18065716\", \"abkuerzung\": \"FZS_LIMM\", \"bezeichnung\": \"Limmatquai\", \"total_FUSS\": 4657.0, \"total_VELO\": 0.0}, {\"year_month_day_str\": \"2022-03-17\", \"FK_ZAEHLER\": \"YSH18065716\", \"abkuerzung\": \"FZS_LIMM\", \"bezeichnung\": \"Limmatquai\", \"total_FUSS\": 4518.0, \"total_VELO\": 0.0}, {\"year_month_day_str\": \"2022-02-04\", \"FK_ZAEHLER\": \"YSH18065716\", \"abkuerzung\": \"FZS_LIMM\", \"bezeichnung\": \"Limmatquai\", \"total_FUSS\": 4742.0, \"total_VELO\": 0.0}, {\"year_month_day_str\": \"2022-07-31\", \"FK_ZAEHLER\": \"YSH18065716\", \"abkuerzung\": \"FZS_LIMM\", \"bezeichnung\": \"Limmatquai\", \"total_FUSS\": 4134.0, \"total_VELO\": 0.0}, {\"year_month_day_str\": \"2022-07-23\", \"FK_ZAEHLER\": \"U15G3063865\", \"abkuerzung\": \"FZS_ARBO\", \"bezeichnung\": \"Arboretum\", \"total_FUSS\": 5899.0, \"total_VELO\": 0.0}, {\"year_month_day_str\": \"2022-01-02\", \"FK_ZAEHLER\": \"YSH18065716\", \"abkuerzung\": \"FZS_LIMM\", \"bezeichnung\": \"Limmatquai\", \"total_FUSS\": 4178.0, \"total_VELO\": 0.0}, {\"year_month_day_str\": \"2022-02-27\", \"FK_ZAEHLER\": \"YSH18065716\", \"abkuerzung\": \"FZS_LIMM\", \"bezeichnung\": \"Limmatquai\", \"total_FUSS\": 4328.0, \"total_VELO\": 0.0}, {\"year_month_day_str\": \"2022-04-05\", \"FK_ZAEHLER\": \"YSH18065716\", \"abkuerzung\": \"FZS_LIMM\", \"bezeichnung\": \"Limmatquai\", \"total_FUSS\": 4660.0, \"total_VELO\": 0.0}, {\"year_month_day_str\": \"2022-07-03\", \"FK_ZAEHLER\": \"YSH18065716\", \"abkuerzung\": \"FZS_LIMM\", \"bezeichnung\": \"Limmatquai\", \"total_FUSS\": 4121.0, \"total_VELO\": 0.0}, {\"year_month_day_str\": \"2022-07-17\", \"FK_ZAEHLER\": \"YSH18065716\", \"abkuerzung\": \"FZS_LIMM\", \"bezeichnung\": \"Limmatquai\", \"total_FUSS\": 4396.0, \"total_VELO\": 0.0}, {\"year_month_day_str\": \"2022-05-03\", \"FK_ZAEHLER\": \"YSH18065716\", \"abkuerzung\": \"FZS_LIMM\", \"bezeichnung\": \"Limmatquai\", \"total_FUSS\": 4193.0, \"total_VELO\": 0.0}, {\"year_month_day_str\": \"2022-04-06\", \"FK_ZAEHLER\": \"YSH18065716\", \"abkuerzung\": \"FZS_LIMM\", \"bezeichnung\": \"Limmatquai\", \"total_FUSS\": 4356.0, \"total_VELO\": 0.0}, {\"year_month_day_str\": \"2022-07-18\", \"FK_ZAEHLER\": \"U15G3063865\", \"abkuerzung\": \"FZS_ARBO\", \"bezeichnung\": \"Arboretum\", \"total_FUSS\": 6314.0, \"total_VELO\": 0.0}, {\"year_month_day_str\": \"2022-05-28\", \"FK_ZAEHLER\": \"U15G3063865\", \"abkuerzung\": \"FZS_ARBO\", \"bezeichnung\": \"Arboretum\", \"total_FUSS\": 6392.0, \"total_VELO\": 0.0}, {\"year_month_day_str\": \"2022-08-17\", \"FK_ZAEHLER\": \"YSH18065716\", \"abkuerzung\": \"FZS_LIMM\", \"bezeichnung\": \"Limmatquai\", \"total_FUSS\": 4350.0, \"total_VELO\": 0.0}, {\"year_month_day_str\": \"2022-05-01\", \"FK_ZAEHLER\": \"YSH18065716\", \"abkuerzung\": \"FZS_LIMM\", \"bezeichnung\": \"Limmatquai\", \"total_FUSS\": 4377.0, \"total_VELO\": 0.0}, {\"year_month_day_str\": \"2022-05-08\", \"FK_ZAEHLER\": \"YSH18065716\", \"abkuerzung\": \"FZS_LIMM\", \"bezeichnung\": \"Limmatquai\", \"total_FUSS\": 4245.0, \"total_VELO\": 0.0}, {\"year_month_day_str\": \"2022-04-24\", \"FK_ZAEHLER\": \"YSH18065716\", \"abkuerzung\": \"FZS_LIMM\", \"bezeichnung\": \"Limmatquai\", \"total_FUSS\": 4769.0, \"total_VELO\": 0.0}, {\"year_month_day_str\": \"2022-06-21\", \"FK_ZAEHLER\": \"YSH18065716\", \"abkuerzung\": \"FZS_LIMM\", \"bezeichnung\": \"Limmatquai\", \"total_FUSS\": 4166.0, \"total_VELO\": 0.0}, {\"year_month_day_str\": \"2022-02-08\", \"FK_ZAEHLER\": \"YSH18065716\", \"abkuerzung\": \"FZS_LIMM\", \"bezeichnung\": \"Limmatquai\", \"total_FUSS\": 4301.0, \"total_VELO\": 0.0}, {\"year_month_day_str\": \"2022-04-29\", \"FK_ZAEHLER\": \"U15G3063865\", \"abkuerzung\": \"FZS_ARBO\", \"bezeichnung\": \"Arboretum\", \"total_FUSS\": 5703.0, \"total_VELO\": 0.0}, {\"year_month_day_str\": \"2022-04-15\", \"FK_ZAEHLER\": \"U15G3063865\", \"abkuerzung\": \"FZS_ARBO\", \"bezeichnung\": \"Arboretum\", \"total_FUSS\": 5754.0, \"total_VELO\": 0.0}, {\"year_month_day_str\": \"2022-04-20\", \"FK_ZAEHLER\": \"U15G3063865\", \"abkuerzung\": \"FZS_ARBO\", \"bezeichnung\": \"Arboretum\", \"total_FUSS\": 5452.0, \"total_VELO\": 0.0}, {\"year_month_day_str\": \"2022-03-25\", \"FK_ZAEHLER\": \"U15G3063865\", \"abkuerzung\": \"FZS_ARBO\", \"bezeichnung\": \"Arboretum\", \"total_FUSS\": 5595.0, \"total_VELO\": 0.0}, {\"year_month_day_str\": \"2022-05-16\", \"FK_ZAEHLER\": \"U15G3063865\", \"abkuerzung\": \"FZS_ARBO\", \"bezeichnung\": \"Arboretum\", \"total_FUSS\": 5697.0, \"total_VELO\": 0.0}, {\"year_month_day_str\": \"2022-05-16\", \"FK_ZAEHLER\": \"YSH18065716\", \"abkuerzung\": \"FZS_LIMM\", \"bezeichnung\": \"Limmatquai\", \"total_FUSS\": 4278.0, \"total_VELO\": 0.0}, {\"year_month_day_str\": \"2022-02-25\", \"FK_ZAEHLER\": \"YSH18065716\", \"abkuerzung\": \"FZS_LIMM\", \"bezeichnung\": \"Limmatquai\", \"total_FUSS\": 4477.0, \"total_VELO\": 0.0}, {\"year_month_day_str\": \"2022-07-24\", \"FK_ZAEHLER\": \"YSH18065716\", \"abkuerzung\": \"FZS_LIMM\", \"bezeichnung\": \"Limmatquai\", \"total_FUSS\": 4102.0, \"total_VELO\": 0.0}, {\"year_month_day_str\": \"2022-06-13\", \"FK_ZAEHLER\": \"U15G3063865\", \"abkuerzung\": \"FZS_ARBO\", \"bezeichnung\": \"Arboretum\", \"total_FUSS\": 5922.0, \"total_VELO\": 0.0}, {\"year_month_day_str\": \"2022-02-18\", \"FK_ZAEHLER\": \"YSH18065716\", \"abkuerzung\": \"FZS_LIMM\", \"bezeichnung\": \"Limmatquai\", \"total_FUSS\": 4531.0, \"total_VELO\": 0.0}, {\"year_month_day_str\": \"2022-06-20\", \"FK_ZAEHLER\": \"YSH18065716\", \"abkuerzung\": \"FZS_LIMM\", \"bezeichnung\": \"Limmatquai\", \"total_FUSS\": 4173.0, \"total_VELO\": 0.0}, {\"year_month_day_str\": \"2022-06-27\", \"FK_ZAEHLER\": \"YSH18065716\", \"abkuerzung\": \"FZS_LIMM\", \"bezeichnung\": \"Limmatquai\", \"total_FUSS\": 4221.0, \"total_VELO\": 0.0}, {\"year_month_day_str\": \"2022-07-26\", \"FK_ZAEHLER\": \"U15G3063865\", \"abkuerzung\": \"FZS_ARBO\", \"bezeichnung\": \"Arboretum\", \"total_FUSS\": 5910.0, \"total_VELO\": 0.0}, {\"year_month_day_str\": \"2022-06-22\", \"FK_ZAEHLER\": \"YSH18065716\", \"abkuerzung\": \"FZS_LIMM\", \"bezeichnung\": \"Limmatquai\", \"total_FUSS\": 4197.0, \"total_VELO\": 0.0}, {\"year_month_day_str\": \"2022-07-28\", \"FK_ZAEHLER\": \"U15G3063865\", \"abkuerzung\": \"FZS_ARBO\", \"bezeichnung\": \"Arboretum\", \"total_FUSS\": 5834.0, \"total_VELO\": 0.0}, {\"year_month_day_str\": \"2022-02-03\", \"FK_ZAEHLER\": \"YSH18065716\", \"abkuerzung\": \"FZS_LIMM\", \"bezeichnung\": \"Limmatquai\", \"total_FUSS\": 4334.0, \"total_VELO\": 0.0}, {\"year_month_day_str\": \"2022-07-25\", \"FK_ZAEHLER\": \"U15G3063865\", \"abkuerzung\": \"FZS_ARBO\", \"bezeichnung\": \"Arboretum\", \"total_FUSS\": 5618.0, \"total_VELO\": 0.0}, {\"year_month_day_str\": \"2022-03-14\", \"FK_ZAEHLER\": \"YSH18065716\", \"abkuerzung\": \"FZS_LIMM\", \"bezeichnung\": \"Limmatquai\", \"total_FUSS\": 4133.0, \"total_VELO\": 0.0}, {\"year_month_day_str\": \"2022-05-08\", \"FK_ZAEHLER\": \"U15G3063865\", \"abkuerzung\": \"FZS_ARBO\", \"bezeichnung\": \"Arboretum\", \"total_FUSS\": 5414.0, \"total_VELO\": 0.0}, {\"year_month_day_str\": \"2022-05-02\", \"FK_ZAEHLER\": \"U15G3063865\", \"abkuerzung\": \"FZS_ARBO\", \"bezeichnung\": \"Arboretum\", \"total_FUSS\": 5707.0, \"total_VELO\": 0.0}, {\"year_month_day_str\": \"2022-07-10\", \"FK_ZAEHLER\": \"YSH18065716\", \"abkuerzung\": \"FZS_LIMM\", \"bezeichnung\": \"Limmatquai\", \"total_FUSS\": 3856.0, \"total_VELO\": 0.0}, {\"year_month_day_str\": \"2022-04-13\", \"FK_ZAEHLER\": \"U15G3063865\", \"abkuerzung\": \"FZS_ARBO\", \"bezeichnung\": \"Arboretum\", \"total_FUSS\": 5725.0, \"total_VELO\": 0.0}, {\"year_month_day_str\": \"2022-06-02\", \"FK_ZAEHLER\": \"U15G3063865\", \"abkuerzung\": \"FZS_ARBO\", \"bezeichnung\": \"Arboretum\", \"total_FUSS\": 5703.0, \"total_VELO\": 0.0}, {\"year_month_day_str\": \"2022-05-24\", \"FK_ZAEHLER\": \"YSH18065716\", \"abkuerzung\": \"FZS_LIMM\", \"bezeichnung\": \"Limmatquai\", \"total_FUSS\": 3935.0, \"total_VELO\": 0.0}, {\"year_month_day_str\": \"2022-04-04\", \"FK_ZAEHLER\": \"YSH18065716\", \"abkuerzung\": \"FZS_LIMM\", \"bezeichnung\": \"Limmatquai\", \"total_FUSS\": 4059.0, \"total_VELO\": 0.0}, {\"year_month_day_str\": \"2022-03-19\", \"FK_ZAEHLER\": \"U15G3063865\", \"abkuerzung\": \"FZS_ARBO\", \"bezeichnung\": \"Arboretum\", \"total_FUSS\": 5423.0, \"total_VELO\": 0.0}, {\"year_month_day_str\": \"2022-03-07\", \"FK_ZAEHLER\": \"YSH18065716\", \"abkuerzung\": \"FZS_LIMM\", \"bezeichnung\": \"Limmatquai\", \"total_FUSS\": 3917.0, \"total_VELO\": 0.0}, {\"year_month_day_str\": \"2022-03-21\", \"FK_ZAEHLER\": \"YSH18065716\", \"abkuerzung\": \"FZS_LIMM\", \"bezeichnung\": \"Limmatquai\", \"total_FUSS\": 4010.0, \"total_VELO\": 0.0}, {\"year_month_day_str\": \"2022-02-15\", \"FK_ZAEHLER\": \"YSH18065716\", \"abkuerzung\": \"FZS_LIMM\", \"bezeichnung\": \"Limmatquai\", \"total_FUSS\": 3995.0, \"total_VELO\": 0.0}, {\"year_month_day_str\": \"2022-06-05\", \"FK_ZAEHLER\": \"YSH18065716\", \"abkuerzung\": \"FZS_LIMM\", \"bezeichnung\": \"Limmatquai\", \"total_FUSS\": 4069.0, \"total_VELO\": 0.0}, {\"year_month_day_str\": \"2022-08-17\", \"FK_ZAEHLER\": \"U15G3063865\", \"abkuerzung\": \"FZS_ARBO\", \"bezeichnung\": \"Arboretum\", \"total_FUSS\": 5801.0, \"total_VELO\": 0.0}, {\"year_month_day_str\": \"2022-05-09\", \"FK_ZAEHLER\": \"U15G3063865\", \"abkuerzung\": \"FZS_ARBO\", \"bezeichnung\": \"Arboretum\", \"total_FUSS\": 5576.0, \"total_VELO\": 0.0}, {\"year_month_day_str\": \"2022-04-07\", \"FK_ZAEHLER\": \"YSH18065716\", \"abkuerzung\": \"FZS_LIMM\", \"bezeichnung\": \"Limmatquai\", \"total_FUSS\": 4062.0, \"total_VELO\": 0.0}, {\"year_month_day_str\": \"2022-05-30\", \"FK_ZAEHLER\": \"U15G3063865\", \"abkuerzung\": \"FZS_ARBO\", \"bezeichnung\": \"Arboretum\", \"total_FUSS\": 5607.0, \"total_VELO\": 0.0}, {\"year_month_day_str\": \"2022-03-24\", \"FK_ZAEHLER\": \"U15G3063865\", \"abkuerzung\": \"FZS_ARBO\", \"bezeichnung\": \"Arboretum\", \"total_FUSS\": 5518.0, \"total_VELO\": 0.0}, {\"year_month_day_str\": \"2022-05-23\", \"FK_ZAEHLER\": \"YSH18065716\", \"abkuerzung\": \"FZS_LIMM\", \"bezeichnung\": \"Limmatquai\", \"total_FUSS\": 3894.0, \"total_VELO\": 0.0}, {\"year_month_day_str\": \"2022-05-25\", \"FK_ZAEHLER\": \"U15G3063865\", \"abkuerzung\": \"FZS_ARBO\", \"bezeichnung\": \"Arboretum\", \"total_FUSS\": 5498.0, \"total_VELO\": 0.0}, {\"year_month_day_str\": \"2022-01-14\", \"FK_ZAEHLER\": \"YSH18065716\", \"abkuerzung\": \"FZS_LIMM\", \"bezeichnung\": \"Limmatquai\", \"total_FUSS\": 3976.0, \"total_VELO\": 0.0}, {\"year_month_day_str\": \"2022-06-28\", \"FK_ZAEHLER\": \"U15G3063865\", \"abkuerzung\": \"FZS_ARBO\", \"bezeichnung\": \"Arboretum\", \"total_FUSS\": 4799.0, \"total_VELO\": 0.0}, {\"year_month_day_str\": \"2022-05-13\", \"FK_ZAEHLER\": \"U15G3063865\", \"abkuerzung\": \"FZS_ARBO\", \"bezeichnung\": \"Arboretum\", \"total_FUSS\": 5260.0, \"total_VELO\": 0.0}, {\"year_month_day_str\": \"2022-04-21\", \"FK_ZAEHLER\": \"U15G3063865\", \"abkuerzung\": \"FZS_ARBO\", \"bezeichnung\": \"Arboretum\", \"total_FUSS\": 5066.0, \"total_VELO\": 0.0}, {\"year_month_day_str\": \"2022-03-03\", \"FK_ZAEHLER\": \"U15G3063865\", \"abkuerzung\": \"FZS_ARBO\", \"bezeichnung\": \"Arboretum\", \"total_FUSS\": 4689.0, \"total_VELO\": 0.0}, {\"year_month_day_str\": \"2022-06-19\", \"FK_ZAEHLER\": \"YSH18065716\", \"abkuerzung\": \"FZS_LIMM\", \"bezeichnung\": \"Limmatquai\", \"total_FUSS\": 3708.0, \"total_VELO\": 0.0}, {\"year_month_day_str\": \"2022-08-15\", \"FK_ZAEHLER\": \"U15G3063865\", \"abkuerzung\": \"FZS_ARBO\", \"bezeichnung\": \"Arboretum\", \"total_FUSS\": 5313.0, \"total_VELO\": 0.0}, {\"year_month_day_str\": \"2022-02-22\", \"FK_ZAEHLER\": \"YSH18065716\", \"abkuerzung\": \"FZS_LIMM\", \"bezeichnung\": \"Limmatquai\", \"total_FUSS\": 3876.0, \"total_VELO\": 0.0}, {\"year_month_day_str\": \"2022-04-12\", \"FK_ZAEHLER\": \"U15G3063865\", \"abkuerzung\": \"FZS_ARBO\", \"bezeichnung\": \"Arboretum\", \"total_FUSS\": 5351.0, \"total_VELO\": 0.0}, {\"year_month_day_str\": \"2022-02-02\", \"FK_ZAEHLER\": \"YSH18065716\", \"abkuerzung\": \"FZS_LIMM\", \"bezeichnung\": \"Limmatquai\", \"total_FUSS\": 3990.0, \"total_VELO\": 0.0}, {\"year_month_day_str\": \"2022-05-05\", \"FK_ZAEHLER\": \"YSH18065716\", \"abkuerzung\": \"FZS_LIMM\", \"bezeichnung\": \"Limmatquai\", \"total_FUSS\": 4169.0, \"total_VELO\": 0.0}, {\"year_month_day_str\": \"2022-04-27\", \"FK_ZAEHLER\": \"U15G3063865\", \"abkuerzung\": \"FZS_ARBO\", \"bezeichnung\": \"Arboretum\", \"total_FUSS\": 5177.0, \"total_VELO\": 0.0}, {\"year_month_day_str\": \"2022-01-04\", \"FK_ZAEHLER\": \"YSH18065716\", \"abkuerzung\": \"FZS_LIMM\", \"bezeichnung\": \"Limmatquai\", \"total_FUSS\": 3995.0, \"total_VELO\": 0.0}, {\"year_month_day_str\": \"2022-06-17\", \"FK_ZAEHLER\": \"U15G3104443\", \"abkuerzung\": \"FZS_MYTH\", \"bezeichnung\": \"Mythenquai Unterf\\u00fchrung\", \"total_FUSS\": 4051.0, \"total_VELO\": 0.0}, {\"year_month_day_str\": \"2022-03-05\", \"FK_ZAEHLER\": \"U15G3063865\", \"abkuerzung\": \"FZS_ARBO\", \"bezeichnung\": \"Arboretum\", \"total_FUSS\": 5017.0, \"total_VELO\": 0.0}, {\"year_month_day_str\": \"2022-08-06\", \"FK_ZAEHLER\": \"U15G3063865\", \"abkuerzung\": \"FZS_ARBO\", \"bezeichnung\": \"Arboretum\", \"total_FUSS\": 4966.0, \"total_VELO\": 0.0}, {\"year_month_day_str\": \"2022-03-06\", \"FK_ZAEHLER\": \"U15G3063865\", \"abkuerzung\": \"FZS_ARBO\", \"bezeichnung\": \"Arboretum\", \"total_FUSS\": 4970.0, \"total_VELO\": 0.0}, {\"year_month_day_str\": \"2022-08-05\", \"FK_ZAEHLER\": \"U15G3063865\", \"abkuerzung\": \"FZS_ARBO\", \"bezeichnung\": \"Arboretum\", \"total_FUSS\": 5014.0, \"total_VELO\": 0.0}, {\"year_month_day_str\": \"2022-02-23\", \"FK_ZAEHLER\": \"YSH18065716\", \"abkuerzung\": \"FZS_LIMM\", \"bezeichnung\": \"Limmatquai\", \"total_FUSS\": 4008.0, \"total_VELO\": 0.0}, {\"year_month_day_str\": \"2022-03-28\", \"FK_ZAEHLER\": \"U15G3063865\", \"abkuerzung\": \"FZS_ARBO\", \"bezeichnung\": \"Arboretum\", \"total_FUSS\": 5212.0, \"total_VELO\": 0.0}, {\"year_month_day_str\": \"2022-01-03\", \"FK_ZAEHLER\": \"YSH18065716\", \"abkuerzung\": \"FZS_LIMM\", \"bezeichnung\": \"Limmatquai\", \"total_FUSS\": 3878.0, \"total_VELO\": 0.0}, {\"year_month_day_str\": \"2022-07-20\", \"FK_ZAEHLER\": \"U15G3063865\", \"abkuerzung\": \"FZS_ARBO\", \"bezeichnung\": \"Arboretum\", \"total_FUSS\": 4906.0, \"total_VELO\": 0.0}, {\"year_month_day_str\": \"2022-03-31\", \"FK_ZAEHLER\": \"YSH18065716\", \"abkuerzung\": \"FZS_LIMM\", \"bezeichnung\": \"Limmatquai\", \"total_FUSS\": 3963.0, \"total_VELO\": 0.0}, {\"year_month_day_str\": \"2022-04-22\", \"FK_ZAEHLER\": \"U15G3063865\", \"abkuerzung\": \"FZS_ARBO\", \"bezeichnung\": \"Arboretum\", \"total_FUSS\": 4957.0, \"total_VELO\": 0.0}, {\"year_month_day_str\": \"2022-02-23\", \"FK_ZAEHLER\": \"U15G3063865\", \"abkuerzung\": \"FZS_ARBO\", \"bezeichnung\": \"Arboretum\", \"total_FUSS\": 4238.0, \"total_VELO\": 0.0}, {\"year_month_day_str\": \"2022-04-11\", \"FK_ZAEHLER\": \"U15G3063865\", \"abkuerzung\": \"FZS_ARBO\", \"bezeichnung\": \"Arboretum\", \"total_FUSS\": 5071.0, \"total_VELO\": 0.0}, {\"year_month_day_str\": \"2022-05-22\", \"FK_ZAEHLER\": \"YSH18065716\", \"abkuerzung\": \"FZS_LIMM\", \"bezeichnung\": \"Limmatquai\", \"total_FUSS\": 3480.0, \"total_VELO\": 0.0}, {\"year_month_day_str\": \"2022-03-22\", \"FK_ZAEHLER\": \"U15G3063865\", \"abkuerzung\": \"FZS_ARBO\", \"bezeichnung\": \"Arboretum\", \"total_FUSS\": 5241.0, \"total_VELO\": 0.0}, {\"year_month_day_str\": \"2022-07-02\", \"FK_ZAEHLER\": \"U15G3104443\", \"abkuerzung\": \"FZS_MYTH\", \"bezeichnung\": \"Mythenquai Unterf\\u00fchrung\", \"total_FUSS\": 4502.0, \"total_VELO\": 0.0}, {\"year_month_day_str\": \"2022-01-21\", \"FK_ZAEHLER\": \"YSH18065716\", \"abkuerzung\": \"FZS_LIMM\", \"bezeichnung\": \"Limmatquai\", \"total_FUSS\": 3951.0, \"total_VELO\": 0.0}, {\"year_month_day_str\": \"2022-06-25\", \"FK_ZAEHLER\": \"U15G3104443\", \"abkuerzung\": \"FZS_MYTH\", \"bezeichnung\": \"Mythenquai Unterf\\u00fchrung\", \"total_FUSS\": 3966.0, \"total_VELO\": 0.0}, {\"year_month_day_str\": \"2022-08-20\", \"FK_ZAEHLER\": \"U15G3063865\", \"abkuerzung\": \"FZS_ARBO\", \"bezeichnung\": \"Arboretum\", \"total_FUSS\": 4967.0, \"total_VELO\": 0.0}, {\"year_month_day_str\": \"2022-04-06\", \"FK_ZAEHLER\": \"U15G3063865\", \"abkuerzung\": \"FZS_ARBO\", \"bezeichnung\": \"Arboretum\", \"total_FUSS\": 4715.0, \"total_VELO\": 0.0}, {\"year_month_day_str\": \"2022-04-14\", \"FK_ZAEHLER\": \"U15G3063865\", \"abkuerzung\": \"FZS_ARBO\", \"bezeichnung\": \"Arboretum\", \"total_FUSS\": 5140.0, \"total_VELO\": 0.0}, {\"year_month_day_str\": \"2022-04-16\", \"FK_ZAEHLER\": \"U15G3063865\", \"abkuerzung\": \"FZS_ARBO\", \"bezeichnung\": \"Arboretum\", \"total_FUSS\": 4586.0, \"total_VELO\": 0.0}, {\"year_month_day_str\": \"2022-01-27\", \"FK_ZAEHLER\": \"YSH18065716\", \"abkuerzung\": \"FZS_LIMM\", \"bezeichnung\": \"Limmatquai\", \"total_FUSS\": 3962.0, \"total_VELO\": 0.0}, {\"year_month_day_str\": \"2022-06-04\", \"FK_ZAEHLER\": \"U15G3104443\", \"abkuerzung\": \"FZS_MYTH\", \"bezeichnung\": \"Mythenquai Unterf\\u00fchrung\", \"total_FUSS\": 3910.0, \"total_VELO\": 0.0}, {\"year_month_day_str\": \"2022-06-30\", \"FK_ZAEHLER\": \"U15G3063865\", \"abkuerzung\": \"FZS_ARBO\", \"bezeichnung\": \"Arboretum\", \"total_FUSS\": 5119.0, \"total_VELO\": 0.0}, {\"year_month_day_str\": \"2022-01-07\", \"FK_ZAEHLER\": \"YSH18065716\", \"abkuerzung\": \"FZS_LIMM\", \"bezeichnung\": \"Limmatquai\", \"total_FUSS\": 3877.0, \"total_VELO\": 0.0}, {\"year_month_day_str\": \"2022-04-19\", \"FK_ZAEHLER\": \"U15G3063865\", \"abkuerzung\": \"FZS_ARBO\", \"bezeichnung\": \"Arboretum\", \"total_FUSS\": 4873.0, \"total_VELO\": 0.0}, {\"year_month_day_str\": \"2022-05-04\", \"FK_ZAEHLER\": \"U15G3063865\", \"abkuerzung\": \"FZS_ARBO\", \"bezeichnung\": \"Arboretum\", \"total_FUSS\": 4880.0, \"total_VELO\": 0.0}, {\"year_month_day_str\": \"2022-03-30\", \"FK_ZAEHLER\": \"YSH18065716\", \"abkuerzung\": \"FZS_LIMM\", \"bezeichnung\": \"Limmatquai\", \"total_FUSS\": 3668.0, \"total_VELO\": 0.0}, {\"year_month_day_str\": \"2022-01-25\", \"FK_ZAEHLER\": \"YSH18065716\", \"abkuerzung\": \"FZS_LIMM\", \"bezeichnung\": \"Limmatquai\", \"total_FUSS\": 3636.0, \"total_VELO\": 0.0}, {\"year_month_day_str\": \"2022-07-19\", \"FK_ZAEHLER\": \"U15G3104443\", \"abkuerzung\": \"FZS_MYTH\", \"bezeichnung\": \"Mythenquai Unterf\\u00fchrung\", \"total_FUSS\": 3635.0, \"total_VELO\": 0.0}, {\"year_month_day_str\": \"2022-07-15\", \"FK_ZAEHLER\": \"U15G3104443\", \"abkuerzung\": \"FZS_MYTH\", \"bezeichnung\": \"Mythenquai Unterf\\u00fchrung\", \"total_FUSS\": 3783.0, \"total_VELO\": 0.0}, {\"year_month_day_str\": \"2022-02-12\", \"FK_ZAEHLER\": \"U15G3063865\", \"abkuerzung\": \"FZS_ARBO\", \"bezeichnung\": \"Arboretum\", \"total_FUSS\": 4710.0, \"total_VELO\": 0.0}, {\"year_month_day_str\": \"2022-06-03\", \"FK_ZAEHLER\": \"U15G3063865\", \"abkuerzung\": \"FZS_ARBO\", \"bezeichnung\": \"Arboretum\", \"total_FUSS\": 4799.0, \"total_VELO\": 0.0}, {\"year_month_day_str\": \"2022-06-11\", \"FK_ZAEHLER\": \"U15G3104443\", \"abkuerzung\": \"FZS_MYTH\", \"bezeichnung\": \"Mythenquai Unterf\\u00fchrung\", \"total_FUSS\": 3777.0, \"total_VELO\": 0.0}, {\"year_month_day_str\": \"2022-01-20\", \"FK_ZAEHLER\": \"YSH18065716\", \"abkuerzung\": \"FZS_LIMM\", \"bezeichnung\": \"Limmatquai\", \"total_FUSS\": 3593.0, \"total_VELO\": 0.0}, {\"year_month_day_str\": \"2022-05-03\", \"FK_ZAEHLER\": \"U15G3063865\", \"abkuerzung\": \"FZS_ARBO\", \"bezeichnung\": \"Arboretum\", \"total_FUSS\": 4717.0, \"total_VELO\": 0.0}, {\"year_month_day_str\": \"2022-01-19\", \"FK_ZAEHLER\": \"YSH18065716\", \"abkuerzung\": \"FZS_LIMM\", \"bezeichnung\": \"Limmatquai\", \"total_FUSS\": 3572.0, \"total_VELO\": 0.0}, {\"year_month_day_str\": \"2022-02-17\", \"FK_ZAEHLER\": \"YSH18065716\", \"abkuerzung\": \"FZS_LIMM\", \"bezeichnung\": \"Limmatquai\", \"total_FUSS\": 3651.0, \"total_VELO\": 0.0}, {\"year_month_day_str\": \"2022-08-16\", \"FK_ZAEHLER\": \"YSH18065716\", \"abkuerzung\": \"FZS_LIMM\", \"bezeichnung\": \"Limmatquai\", \"total_FUSS\": 2499.0, \"total_VELO\": 0.0}, {\"year_month_day_str\": \"2022-03-16\", \"FK_ZAEHLER\": \"U15G3063865\", \"abkuerzung\": \"FZS_ARBO\", \"bezeichnung\": \"Arboretum\", \"total_FUSS\": 4433.0, \"total_VELO\": 0.0}, {\"year_month_day_str\": \"2022-07-09\", \"FK_ZAEHLER\": \"U15G3104443\", \"abkuerzung\": \"FZS_MYTH\", \"bezeichnung\": \"Mythenquai Unterf\\u00fchrung\", \"total_FUSS\": 3692.0, \"total_VELO\": 0.0}, {\"year_month_day_str\": \"2022-05-07\", \"FK_ZAEHLER\": \"U15G3063865\", \"abkuerzung\": \"FZS_ARBO\", \"bezeichnung\": \"Arboretum\", \"total_FUSS\": 4551.0, \"total_VELO\": 0.0}, {\"year_month_day_str\": \"2022-02-20\", \"FK_ZAEHLER\": \"U15G3063865\", \"abkuerzung\": \"FZS_ARBO\", \"bezeichnung\": \"Arboretum\", \"total_FUSS\": 4446.0, \"total_VELO\": 0.0}, {\"year_month_day_str\": \"2022-07-22\", \"FK_ZAEHLER\": \"U15G3104443\", \"abkuerzung\": \"FZS_MYTH\", \"bezeichnung\": \"Mythenquai Unterf\\u00fchrung\", \"total_FUSS\": 3523.0, \"total_VELO\": 0.0}, {\"year_month_day_str\": \"2022-06-08\", \"FK_ZAEHLER\": \"U15G3063865\", \"abkuerzung\": \"FZS_ARBO\", \"bezeichnung\": \"Arboretum\", \"total_FUSS\": 4671.0, \"total_VELO\": 0.0}, {\"year_month_day_str\": \"2022-01-23\", \"FK_ZAEHLER\": \"YSH18065716\", \"abkuerzung\": \"FZS_LIMM\", \"bezeichnung\": \"Limmatquai\", \"total_FUSS\": 3359.0, \"total_VELO\": 0.0}, {\"year_month_day_str\": \"2022-02-26\", \"FK_ZAEHLER\": \"U15G3063865\", \"abkuerzung\": \"FZS_ARBO\", \"bezeichnung\": \"Arboretum\", \"total_FUSS\": 4155.0, \"total_VELO\": 0.0}, {\"year_month_day_str\": \"2022-01-26\", \"FK_ZAEHLER\": \"YSH18065716\", \"abkuerzung\": \"FZS_LIMM\", \"bezeichnung\": \"Limmatquai\", \"total_FUSS\": 3616.0, \"total_VELO\": 0.0}, {\"year_month_day_str\": \"2022-08-24\", \"FK_ZAEHLER\": \"U15G3104443\", \"abkuerzung\": \"FZS_MYTH\", \"bezeichnung\": \"Mythenquai Unterf\\u00fchrung\", \"total_FUSS\": 3370.0, \"total_VELO\": 0.0}, {\"year_month_day_str\": \"2022-02-24\", \"FK_ZAEHLER\": \"YSH18065716\", \"abkuerzung\": \"FZS_LIMM\", \"bezeichnung\": \"Limmatquai\", \"total_FUSS\": 3144.0, \"total_VELO\": 0.0}, {\"year_month_day_str\": \"2022-01-18\", \"FK_ZAEHLER\": \"YSH18065716\", \"abkuerzung\": \"FZS_LIMM\", \"bezeichnung\": \"Limmatquai\", \"total_FUSS\": 3437.0, \"total_VELO\": 0.0}, {\"year_month_day_str\": \"2022-01-30\", \"FK_ZAEHLER\": \"YSH18065716\", \"abkuerzung\": \"FZS_LIMM\", \"bezeichnung\": \"Limmatquai\", \"total_FUSS\": 3366.0, \"total_VELO\": 0.0}, {\"year_month_day_str\": \"2022-02-07\", \"FK_ZAEHLER\": \"YSH18065716\", \"abkuerzung\": \"FZS_LIMM\", \"bezeichnung\": \"Limmatquai\", \"total_FUSS\": 3560.0, \"total_VELO\": 0.0}, {\"year_month_day_str\": \"2022-03-12\", \"FK_ZAEHLER\": \"U15G3063865\", \"abkuerzung\": \"FZS_ARBO\", \"bezeichnung\": \"Arboretum\", \"total_FUSS\": 4397.0, \"total_VELO\": 0.0}, {\"year_month_day_str\": \"2022-03-04\", \"FK_ZAEHLER\": \"U15G3063865\", \"abkuerzung\": \"FZS_ARBO\", \"bezeichnung\": \"Arboretum\", \"total_FUSS\": 4073.0, \"total_VELO\": 0.0}, {\"year_month_day_str\": \"2022-08-16\", \"FK_ZAEHLER\": \"U15G3104443\", \"abkuerzung\": \"FZS_MYTH\", \"bezeichnung\": \"Mythenquai Unterf\\u00fchrung\", \"total_FUSS\": 3397.0, \"total_VELO\": 0.0}, {\"year_month_day_str\": \"2022-02-20\", \"FK_ZAEHLER\": \"YSH18065716\", \"abkuerzung\": \"FZS_LIMM\", \"bezeichnung\": \"Limmatquai\", \"total_FUSS\": 3349.0, \"total_VELO\": 0.0}, {\"year_month_day_str\": \"2022-05-15\", \"FK_ZAEHLER\": \"U15G3104443\", \"abkuerzung\": \"FZS_MYTH\", \"bezeichnung\": \"Mythenquai Unterf\\u00fchrung\", \"total_FUSS\": 3699.0, \"total_VELO\": 0.0}, {\"year_month_day_str\": \"2022-05-20\", \"FK_ZAEHLER\": \"U15G3104443\", \"abkuerzung\": \"FZS_MYTH\", \"bezeichnung\": \"Mythenquai Unterf\\u00fchrung\", \"total_FUSS\": 3465.0, \"total_VELO\": 0.0}, {\"year_month_day_str\": \"2022-08-21\", \"FK_ZAEHLER\": \"U15G3104443\", \"abkuerzung\": \"FZS_MYTH\", \"bezeichnung\": \"Mythenquai Unterf\\u00fchrung\", \"total_FUSS\": 3415.0, \"total_VELO\": 0.0}, {\"year_month_day_str\": \"2022-02-14\", \"FK_ZAEHLER\": \"YSH18065716\", \"abkuerzung\": \"FZS_LIMM\", \"bezeichnung\": \"Limmatquai\", \"total_FUSS\": 3430.0, \"total_VELO\": 0.0}, {\"year_month_day_str\": \"2022-01-13\", \"FK_ZAEHLER\": \"YSH18065716\", \"abkuerzung\": \"FZS_LIMM\", \"bezeichnung\": \"Limmatquai\", \"total_FUSS\": 3316.0, \"total_VELO\": 0.0}, {\"year_month_day_str\": \"2022-01-17\", \"FK_ZAEHLER\": \"YSH18065716\", \"abkuerzung\": \"FZS_LIMM\", \"bezeichnung\": \"Limmatquai\", \"total_FUSS\": 3282.0, \"total_VELO\": 0.0}, {\"year_month_day_str\": \"2022-02-16\", \"FK_ZAEHLER\": \"YSH18065716\", \"abkuerzung\": \"FZS_LIMM\", \"bezeichnung\": \"Limmatquai\", \"total_FUSS\": 3538.0, \"total_VELO\": 0.0}, {\"year_month_day_str\": \"2022-03-29\", \"FK_ZAEHLER\": \"U15G3063865\", \"abkuerzung\": \"FZS_ARBO\", \"bezeichnung\": \"Arboretum\", \"total_FUSS\": 4587.0, \"total_VELO\": 0.0}, {\"year_month_day_str\": \"2022-04-03\", \"FK_ZAEHLER\": \"YSH18065716\", \"abkuerzung\": \"FZS_LIMM\", \"bezeichnung\": \"Limmatquai\", \"total_FUSS\": 3149.0, \"total_VELO\": 0.0}, {\"year_month_day_str\": \"2022-06-22\", \"FK_ZAEHLER\": \"U15G3063865\", \"abkuerzung\": \"FZS_ARBO\", \"bezeichnung\": \"Arboretum\", \"total_FUSS\": 4416.0, \"total_VELO\": 0.0}, {\"year_month_day_str\": \"2022-01-06\", \"FK_ZAEHLER\": \"YSH18065716\", \"abkuerzung\": \"FZS_LIMM\", \"bezeichnung\": \"Limmatquai\", \"total_FUSS\": 3493.0, \"total_VELO\": 0.0}, {\"year_month_day_str\": \"2022-08-12\", \"FK_ZAEHLER\": \"U15G3104443\", \"abkuerzung\": \"FZS_MYTH\", \"bezeichnung\": \"Mythenquai Unterf\\u00fchrung\", \"total_FUSS\": 3190.0, \"total_VELO\": 0.0}, {\"year_month_day_str\": \"2022-04-09\", \"FK_ZAEHLER\": \"U15G3063865\", \"abkuerzung\": \"FZS_ARBO\", \"bezeichnung\": \"Arboretum\", \"total_FUSS\": 4189.0, \"total_VELO\": 0.0}, {\"year_month_day_str\": \"2022-03-14\", \"FK_ZAEHLER\": \"U15G3063865\", \"abkuerzung\": \"FZS_ARBO\", \"bezeichnung\": \"Arboretum\", \"total_FUSS\": 4076.0, \"total_VELO\": 0.0}, {\"year_month_day_str\": \"2022-01-12\", \"FK_ZAEHLER\": \"YSH18065716\", \"abkuerzung\": \"FZS_LIMM\", \"bezeichnung\": \"Limmatquai\", \"total_FUSS\": 3362.0, \"total_VELO\": 0.0}, {\"year_month_day_str\": \"2022-06-01\", \"FK_ZAEHLER\": \"U15G3063865\", \"abkuerzung\": \"FZS_ARBO\", \"bezeichnung\": \"Arboretum\", \"total_FUSS\": 4380.0, \"total_VELO\": 0.0}, {\"year_month_day_str\": \"2022-03-21\", \"FK_ZAEHLER\": \"U15G3063865\", \"abkuerzung\": \"FZS_ARBO\", \"bezeichnung\": \"Arboretum\", \"total_FUSS\": 4365.0, \"total_VELO\": 0.0}, {\"year_month_day_str\": \"2022-08-02\", \"FK_ZAEHLER\": \"YSH18065716\", \"abkuerzung\": \"FZS_LIMM\", \"bezeichnung\": \"Limmatquai\", \"total_FUSS\": 3300.0, \"total_VELO\": 0.0}, {\"year_month_day_str\": \"2022-07-18\", \"FK_ZAEHLER\": \"U15G3104443\", \"abkuerzung\": \"FZS_MYTH\", \"bezeichnung\": \"Mythenquai Unterf\\u00fchrung\", \"total_FUSS\": 3305.0, \"total_VELO\": 0.0}, {\"year_month_day_str\": \"2022-07-29\", \"FK_ZAEHLER\": \"U15G3063865\", \"abkuerzung\": \"FZS_ARBO\", \"bezeichnung\": \"Arboretum\", \"total_FUSS\": 3872.0, \"total_VELO\": 0.0}, {\"year_month_day_str\": \"2022-03-10\", \"FK_ZAEHLER\": \"U15G3063865\", \"abkuerzung\": \"FZS_ARBO\", \"bezeichnung\": \"Arboretum\", \"total_FUSS\": 4133.0, \"total_VELO\": 0.0}, {\"year_month_day_str\": \"2022-03-17\", \"FK_ZAEHLER\": \"U15G3063865\", \"abkuerzung\": \"FZS_ARBO\", \"bezeichnung\": \"Arboretum\", \"total_FUSS\": 4127.0, \"total_VELO\": 0.0}, {\"year_month_day_str\": \"2022-01-11\", \"FK_ZAEHLER\": \"YSH18065716\", \"abkuerzung\": \"FZS_LIMM\", \"bezeichnung\": \"Limmatquai\", \"total_FUSS\": 3285.0, \"total_VELO\": 0.0}, {\"year_month_day_str\": \"2022-08-04\", \"FK_ZAEHLER\": \"U15G3104443\", \"abkuerzung\": \"FZS_MYTH\", \"bezeichnung\": \"Mythenquai Unterf\\u00fchrung\", \"total_FUSS\": 3134.0, \"total_VELO\": 0.0}, {\"year_month_day_str\": \"2022-01-16\", \"FK_ZAEHLER\": \"YSH18065716\", \"abkuerzung\": \"FZS_LIMM\", \"bezeichnung\": \"Limmatquai\", \"total_FUSS\": 2982.0, \"total_VELO\": 0.0}, {\"year_month_day_str\": \"2022-07-01\", \"FK_ZAEHLER\": \"U15G3063865\", \"abkuerzung\": \"FZS_ARBO\", \"bezeichnung\": \"Arboretum\", \"total_FUSS\": 4098.0, \"total_VELO\": 0.0}, {\"year_month_day_str\": \"2022-03-15\", \"FK_ZAEHLER\": \"YSH18065716\", \"abkuerzung\": \"FZS_LIMM\", \"bezeichnung\": \"Limmatquai\", \"total_FUSS\": 3166.0, \"total_VELO\": 0.0}, {\"year_month_day_str\": \"2022-07-04\", \"FK_ZAEHLER\": \"U15G3063865\", \"abkuerzung\": \"FZS_ARBO\", \"bezeichnung\": \"Arboretum\", \"total_FUSS\": 4218.0, \"total_VELO\": 0.0}, {\"year_month_day_str\": \"2022-07-10\", \"FK_ZAEHLER\": \"U15G3104443\", \"abkuerzung\": \"FZS_MYTH\", \"bezeichnung\": \"Mythenquai Unterf\\u00fchrung\", \"total_FUSS\": 3382.0, \"total_VELO\": 0.0}, {\"year_month_day_str\": \"2022-06-16\", \"FK_ZAEHLER\": \"U15G3104443\", \"abkuerzung\": \"FZS_MYTH\", \"bezeichnung\": \"Mythenquai Unterf\\u00fchrung\", \"total_FUSS\": 3256.0, \"total_VELO\": 0.0}, {\"year_month_day_str\": \"2022-06-26\", \"FK_ZAEHLER\": \"YSH20124740\", \"abkuerzung\": \"FZS_CASS\", \"bezeichnung\": \"Cassiopeiasteg\", \"total_FUSS\": 3309.0, \"total_VELO\": 0.0}, {\"year_month_day_str\": \"2022-04-01\", \"FK_ZAEHLER\": \"YSH18065716\", \"abkuerzung\": \"FZS_LIMM\", \"bezeichnung\": \"Limmatquai\", \"total_FUSS\": 3342.0, \"total_VELO\": 0.0}, {\"year_month_day_str\": \"2022-03-01\", \"FK_ZAEHLER\": \"U15G3063865\", \"abkuerzung\": \"FZS_ARBO\", \"bezeichnung\": \"Arboretum\", \"total_FUSS\": 3963.0, \"total_VELO\": 0.0}, {\"year_month_day_str\": \"2022-04-23\", \"FK_ZAEHLER\": \"U15G3063865\", \"abkuerzung\": \"FZS_ARBO\", \"bezeichnung\": \"Arboretum\", \"total_FUSS\": 4077.0, \"total_VELO\": 0.0}, {\"year_month_day_str\": \"2022-08-18\", \"FK_ZAEHLER\": \"U15G3063865\", \"abkuerzung\": \"FZS_ARBO\", \"bezeichnung\": \"Arboretum\", \"total_FUSS\": 4163.0, \"total_VELO\": 0.0}, {\"year_month_day_str\": \"2022-05-31\", \"FK_ZAEHLER\": \"U15G3063865\", \"abkuerzung\": \"FZS_ARBO\", \"bezeichnung\": \"Arboretum\", \"total_FUSS\": 4213.0, \"total_VELO\": 0.0}, {\"year_month_day_str\": \"2022-01-05\", \"FK_ZAEHLER\": \"YSH18065716\", \"abkuerzung\": \"FZS_LIMM\", \"bezeichnung\": \"Limmatquai\", \"total_FUSS\": 3181.0, \"total_VELO\": 0.0}, {\"year_month_day_str\": \"2022-02-01\", \"FK_ZAEHLER\": \"YSH18065716\", \"abkuerzung\": \"FZS_LIMM\", \"bezeichnung\": \"Limmatquai\", \"total_FUSS\": 3222.0, \"total_VELO\": 0.0}, {\"year_month_day_str\": \"2022-03-11\", \"FK_ZAEHLER\": \"U15G3063865\", \"abkuerzung\": \"FZS_ARBO\", \"bezeichnung\": \"Arboretum\", \"total_FUSS\": 3860.0, \"total_VELO\": 0.0}, {\"year_month_day_str\": \"2022-02-28\", \"FK_ZAEHLER\": \"U15G3063865\", \"abkuerzung\": \"FZS_ARBO\", \"bezeichnung\": \"Arboretum\", \"total_FUSS\": 3744.0, \"total_VELO\": 0.0}, {\"year_month_day_str\": \"2022-06-27\", \"FK_ZAEHLER\": \"U15G3063865\", \"abkuerzung\": \"FZS_ARBO\", \"bezeichnung\": \"Arboretum\", \"total_FUSS\": 4047.0, \"total_VELO\": 0.0}, {\"year_month_day_str\": \"2022-03-13\", \"FK_ZAEHLER\": \"YSH20124740\", \"abkuerzung\": \"FZS_CASS\", \"bezeichnung\": \"Cassiopeiasteg\", \"total_FUSS\": 3415.0, \"total_VELO\": 0.0}, {\"year_month_day_str\": \"2022-03-09\", \"FK_ZAEHLER\": \"U15G3063865\", \"abkuerzung\": \"FZS_ARBO\", \"bezeichnung\": \"Arboretum\", \"total_FUSS\": 3930.0, \"total_VELO\": 0.0}, {\"year_month_day_str\": \"2022-01-24\", \"FK_ZAEHLER\": \"YSH18065716\", \"abkuerzung\": \"FZS_LIMM\", \"bezeichnung\": \"Limmatquai\", \"total_FUSS\": 2966.0, \"total_VELO\": 0.0}, {\"year_month_day_str\": \"2022-08-01\", \"FK_ZAEHLER\": \"U15G3104443\", \"abkuerzung\": \"FZS_MYTH\", \"bezeichnung\": \"Mythenquai Unterf\\u00fchrung\", \"total_FUSS\": 3075.0, \"total_VELO\": 0.0}, {\"year_month_day_str\": \"2022-05-23\", \"FK_ZAEHLER\": \"U15G3063865\", \"abkuerzung\": \"FZS_ARBO\", \"bezeichnung\": \"Arboretum\", \"total_FUSS\": 4016.0, \"total_VELO\": 0.0}, {\"year_month_day_str\": \"2022-06-09\", \"FK_ZAEHLER\": \"U15G3063865\", \"abkuerzung\": \"FZS_ARBO\", \"bezeichnung\": \"Arboretum\", \"total_FUSS\": 3914.0, \"total_VELO\": 0.0}, {\"year_month_day_str\": \"2022-06-20\", \"FK_ZAEHLER\": \"U15G3104443\", \"abkuerzung\": \"FZS_MYTH\", \"bezeichnung\": \"Mythenquai Unterf\\u00fchrung\", \"total_FUSS\": 3096.0, \"total_VELO\": 0.0}, {\"year_month_day_str\": \"2022-04-05\", \"FK_ZAEHLER\": \"U15G3063865\", \"abkuerzung\": \"FZS_ARBO\", \"bezeichnung\": \"Arboretum\", \"total_FUSS\": 3565.0, \"total_VELO\": 0.0}, {\"year_month_day_str\": \"2022-08-03\", \"FK_ZAEHLER\": \"U15G3104443\", \"abkuerzung\": \"FZS_MYTH\", \"bezeichnung\": \"Mythenquai Unterf\\u00fchrung\", \"total_FUSS\": 2946.0, \"total_VELO\": 0.0}, {\"year_month_day_str\": \"2022-01-10\", \"FK_ZAEHLER\": \"YSH18065716\", \"abkuerzung\": \"FZS_LIMM\", \"bezeichnung\": \"Limmatquai\", \"total_FUSS\": 2978.0, \"total_VELO\": 0.0}, {\"year_month_day_str\": \"2022-03-08\", \"FK_ZAEHLER\": \"U15G3063865\", \"abkuerzung\": \"FZS_ARBO\", \"bezeichnung\": \"Arboretum\", \"total_FUSS\": 3588.0, \"total_VELO\": 0.0}, {\"year_month_day_str\": \"2022-06-05\", \"FK_ZAEHLER\": \"U15G3063865\", \"abkuerzung\": \"FZS_ARBO\", \"bezeichnung\": \"Arboretum\", \"total_FUSS\": 3952.0, \"total_VELO\": 0.0}, {\"year_month_day_str\": \"2022-06-15\", \"FK_ZAEHLER\": \"U15G3104443\", \"abkuerzung\": \"FZS_MYTH\", \"bezeichnung\": \"Mythenquai Unterf\\u00fchrung\", \"total_FUSS\": 3094.0, \"total_VELO\": 0.0}, {\"year_month_day_str\": \"2022-04-30\", \"FK_ZAEHLER\": \"U15G3063865\", \"abkuerzung\": \"FZS_ARBO\", \"bezeichnung\": \"Arboretum\", \"total_FUSS\": 3821.0, \"total_VELO\": 0.0}, {\"year_month_day_str\": \"2022-02-13\", \"FK_ZAEHLER\": \"YSH20124740\", \"abkuerzung\": \"FZS_CASS\", \"bezeichnung\": \"Cassiopeiasteg\", \"total_FUSS\": 3295.0, \"total_VELO\": 0.0}, {\"year_month_day_str\": \"2022-03-27\", \"FK_ZAEHLER\": \"YSH20124740\", \"abkuerzung\": \"FZS_CASS\", \"bezeichnung\": \"Cassiopeiasteg\", \"total_FUSS\": 3208.0, \"total_VELO\": 0.0}, {\"year_month_day_str\": \"2022-04-03\", \"FK_ZAEHLER\": \"U15G3063865\", \"abkuerzung\": \"FZS_ARBO\", \"bezeichnung\": \"Arboretum\", \"total_FUSS\": 3418.0, \"total_VELO\": 0.0}, {\"year_month_day_str\": \"2022-03-20\", \"FK_ZAEHLER\": \"YSH20124740\", \"abkuerzung\": \"FZS_CASS\", \"bezeichnung\": \"Cassiopeiasteg\", \"total_FUSS\": 3069.0, \"total_VELO\": 0.0}, {\"year_month_day_str\": \"2022-03-07\", \"FK_ZAEHLER\": \"U15G3063865\", \"abkuerzung\": \"FZS_ARBO\", \"bezeichnung\": \"Arboretum\", \"total_FUSS\": 3200.0, \"total_VELO\": 0.0}, {\"year_month_day_str\": \"2022-02-22\", \"FK_ZAEHLER\": \"U15G3063865\", \"abkuerzung\": \"FZS_ARBO\", \"bezeichnung\": \"Arboretum\", \"total_FUSS\": 3024.0, \"total_VELO\": 0.0}, {\"year_month_day_str\": \"2022-04-04\", \"FK_ZAEHLER\": \"U15G3063865\", \"abkuerzung\": \"FZS_ARBO\", \"bezeichnung\": \"Arboretum\", \"total_FUSS\": 3629.0, \"total_VELO\": 0.0}, {\"year_month_day_str\": \"2022-08-09\", \"FK_ZAEHLER\": \"U15G3104443\", \"abkuerzung\": \"FZS_MYTH\", \"bezeichnung\": \"Mythenquai Unterf\\u00fchrung\", \"total_FUSS\": 2716.0, \"total_VELO\": 0.0}, {\"year_month_day_str\": \"2022-07-31\", \"FK_ZAEHLER\": \"U15G3104443\", \"abkuerzung\": \"FZS_MYTH\", \"bezeichnung\": \"Mythenquai Unterf\\u00fchrung\", \"total_FUSS\": 2907.0, \"total_VELO\": 0.0}, {\"year_month_day_str\": \"2022-05-18\", \"FK_ZAEHLER\": \"U15G3104443\", \"abkuerzung\": \"FZS_MYTH\", \"bezeichnung\": \"Mythenquai Unterf\\u00fchrung\", \"total_FUSS\": 2778.0, \"total_VELO\": 0.0}, {\"year_month_day_str\": \"2022-02-19\", \"FK_ZAEHLER\": \"U15G3063865\", \"abkuerzung\": \"FZS_ARBO\", \"bezeichnung\": \"Arboretum\", \"total_FUSS\": 3398.0, \"total_VELO\": 0.0}, {\"year_month_day_str\": \"2022-02-06\", \"FK_ZAEHLER\": \"YSH18065716\", \"abkuerzung\": \"FZS_LIMM\", \"bezeichnung\": \"Limmatquai\", \"total_FUSS\": 2760.0, \"total_VELO\": 0.0}, {\"year_month_day_str\": \"2022-08-21\", \"FK_ZAEHLER\": \"YSH20124740\", \"abkuerzung\": \"FZS_CASS\", \"bezeichnung\": \"Cassiopeiasteg\", \"total_FUSS\": 2824.0, \"total_VELO\": 0.0}, {\"year_month_day_str\": \"2022-03-02\", \"FK_ZAEHLER\": \"U15G3063865\", \"abkuerzung\": \"FZS_ARBO\", \"bezeichnung\": \"Arboretum\", \"total_FUSS\": 3332.0, \"total_VELO\": 0.0}, {\"year_month_day_str\": \"2022-06-07\", \"FK_ZAEHLER\": \"U15G3063865\", \"abkuerzung\": \"FZS_ARBO\", \"bezeichnung\": \"Arboretum\", \"total_FUSS\": 3417.0, \"total_VELO\": 0.0}, {\"year_month_day_str\": \"2022-06-24\", \"FK_ZAEHLER\": \"U15G3063865\", \"abkuerzung\": \"FZS_ARBO\", \"bezeichnung\": \"Arboretum\", \"total_FUSS\": 3394.0, \"total_VELO\": 0.0}, {\"year_month_day_str\": \"2022-07-21\", \"FK_ZAEHLER\": \"U15G3104443\", \"abkuerzung\": \"FZS_MYTH\", \"bezeichnung\": \"Mythenquai Unterf\\u00fchrung\", \"total_FUSS\": 2505.0, \"total_VELO\": 0.0}, {\"year_month_day_str\": \"2022-07-19\", \"FK_ZAEHLER\": \"YSH18065716\", \"abkuerzung\": \"FZS_LIMM\", \"bezeichnung\": \"Limmatquai\", \"total_FUSS\": 2362.0, \"total_VELO\": 0.0}, {\"year_month_day_str\": \"2022-07-06\", \"FK_ZAEHLER\": \"U15G3104443\", \"abkuerzung\": \"FZS_MYTH\", \"bezeichnung\": \"Mythenquai Unterf\\u00fchrung\", \"total_FUSS\": 2603.0, \"total_VELO\": 0.0}, {\"year_month_day_str\": \"2022-01-31\", \"FK_ZAEHLER\": \"YSH18065716\", \"abkuerzung\": \"FZS_LIMM\", \"bezeichnung\": \"Limmatquai\", \"total_FUSS\": 2666.0, \"total_VELO\": 0.0}, {\"year_month_day_str\": \"2022-07-14\", \"FK_ZAEHLER\": \"U15G3104443\", \"abkuerzung\": \"FZS_MYTH\", \"bezeichnung\": \"Mythenquai Unterf\\u00fchrung\", \"total_FUSS\": 2813.0, \"total_VELO\": 0.0}, {\"year_month_day_str\": \"2022-05-24\", \"FK_ZAEHLER\": \"U15G3063865\", \"abkuerzung\": \"FZS_ARBO\", \"bezeichnung\": \"Arboretum\", \"total_FUSS\": 3324.0, \"total_VELO\": 0.0}, {\"year_month_day_str\": \"2022-02-24\", \"FK_ZAEHLER\": \"U15G3063865\", \"abkuerzung\": \"FZS_ARBO\", \"bezeichnung\": \"Arboretum\", \"total_FUSS\": 3229.0, \"total_VELO\": 0.0}, {\"year_month_day_str\": \"2022-05-15\", \"FK_ZAEHLER\": \"YSH20124740\", \"abkuerzung\": \"FZS_CASS\", \"bezeichnung\": \"Cassiopeiasteg\", \"total_FUSS\": 2727.0, \"total_VELO\": 0.0}, {\"year_month_day_str\": \"2022-08-23\", \"FK_ZAEHLER\": \"U15G3104443\", \"abkuerzung\": \"FZS_MYTH\", \"bezeichnung\": \"Mythenquai Unterf\\u00fchrung\", \"total_FUSS\": 2408.0, \"total_VELO\": 0.0}, {\"year_month_day_str\": \"2022-02-21\", \"FK_ZAEHLER\": \"YSH18065716\", \"abkuerzung\": \"FZS_LIMM\", \"bezeichnung\": \"Limmatquai\", \"total_FUSS\": 2673.0, \"total_VELO\": 0.0}, {\"year_month_day_str\": \"2022-08-11\", \"FK_ZAEHLER\": \"U15G3104443\", \"abkuerzung\": \"FZS_MYTH\", \"bezeichnung\": \"Mythenquai Unterf\\u00fchrung\", \"total_FUSS\": 2427.0, \"total_VELO\": 0.0}, {\"year_month_day_str\": \"2022-05-06\", \"FK_ZAEHLER\": \"U15G3063865\", \"abkuerzung\": \"FZS_ARBO\", \"bezeichnung\": \"Arboretum\", \"total_FUSS\": 2959.0, \"total_VELO\": 0.0}, {\"year_month_day_str\": \"2022-08-19\", \"FK_ZAEHLER\": \"U15G3063865\", \"abkuerzung\": \"FZS_ARBO\", \"bezeichnung\": \"Arboretum\", \"total_FUSS\": 3020.0, \"total_VELO\": 0.0}, {\"year_month_day_str\": \"2022-05-22\", \"FK_ZAEHLER\": \"YSH20124740\", \"abkuerzung\": \"FZS_CASS\", \"bezeichnung\": \"Cassiopeiasteg\", \"total_FUSS\": 2624.0, \"total_VELO\": 0.0}, {\"year_month_day_str\": \"2022-08-10\", \"FK_ZAEHLER\": \"U15G3104443\", \"abkuerzung\": \"FZS_MYTH\", \"bezeichnung\": \"Mythenquai Unterf\\u00fchrung\", \"total_FUSS\": 2308.0, \"total_VELO\": 0.0}, {\"year_month_day_str\": \"2022-06-06\", \"FK_ZAEHLER\": \"YSH20124740\", \"abkuerzung\": \"FZS_CASS\", \"bezeichnung\": \"Cassiopeiasteg\", \"total_FUSS\": 2629.0, \"total_VELO\": 0.0}, {\"year_month_day_str\": \"2022-07-25\", \"FK_ZAEHLER\": \"U15G3104443\", \"abkuerzung\": \"FZS_MYTH\", \"bezeichnung\": \"Mythenquai Unterf\\u00fchrung\", \"total_FUSS\": 2576.0, \"total_VELO\": 0.0}, {\"year_month_day_str\": \"2022-02-25\", \"FK_ZAEHLER\": \"U15G3063865\", \"abkuerzung\": \"FZS_ARBO\", \"bezeichnung\": \"Arboretum\", \"total_FUSS\": 2982.0, \"total_VELO\": 0.0}, {\"year_month_day_str\": \"2022-08-14\", \"FK_ZAEHLER\": \"U15G3104443\", \"abkuerzung\": \"FZS_MYTH\", \"bezeichnung\": \"Mythenquai Unterf\\u00fchrung\", \"total_FUSS\": 2383.0, \"total_VELO\": 0.0}, {\"year_month_day_str\": \"2022-05-26\", \"FK_ZAEHLER\": \"YSH20124740\", \"abkuerzung\": \"FZS_CASS\", \"bezeichnung\": \"Cassiopeiasteg\", \"total_FUSS\": 2567.0, \"total_VELO\": 0.0}, {\"year_month_day_str\": \"2022-01-09\", \"FK_ZAEHLER\": \"YSH18065716\", \"abkuerzung\": \"FZS_LIMM\", \"bezeichnung\": \"Limmatquai\", \"total_FUSS\": 2455.0, \"total_VELO\": 0.0}, {\"year_month_day_str\": \"2022-08-14\", \"FK_ZAEHLER\": \"YSH20124740\", \"abkuerzung\": \"FZS_CASS\", \"bezeichnung\": \"Cassiopeiasteg\", \"total_FUSS\": 2464.0, \"total_VELO\": 0.0}, {\"year_month_day_str\": \"2022-02-18\", \"FK_ZAEHLER\": \"U15G3063865\", \"abkuerzung\": \"FZS_ARBO\", \"bezeichnung\": \"Arboretum\", \"total_FUSS\": 3009.0, \"total_VELO\": 0.0}, {\"year_month_day_str\": \"2022-04-07\", \"FK_ZAEHLER\": \"U15G3063865\", \"abkuerzung\": \"FZS_ARBO\", \"bezeichnung\": \"Arboretum\", \"total_FUSS\": 2984.0, \"total_VELO\": 0.0}, {\"year_month_day_str\": \"2022-06-21\", \"FK_ZAEHLER\": \"U15G3104443\", \"abkuerzung\": \"FZS_MYTH\", \"bezeichnung\": \"Mythenquai Unterf\\u00fchrung\", \"total_FUSS\": 2396.0, \"total_VELO\": 0.0}, {\"year_month_day_str\": \"2022-07-12\", \"FK_ZAEHLER\": \"U15G3104443\", \"abkuerzung\": \"FZS_MYTH\", \"bezeichnung\": \"Mythenquai Unterf\\u00fchrung\", \"total_FUSS\": 2374.0, \"total_VELO\": 0.0}, {\"year_month_day_str\": \"2022-02-27\", \"FK_ZAEHLER\": \"YSH20124740\", \"abkuerzung\": \"FZS_CASS\", \"bezeichnung\": \"Cassiopeiasteg\", \"total_FUSS\": 2586.0, \"total_VELO\": 0.0}, {\"year_month_day_str\": \"2022-06-12\", \"FK_ZAEHLER\": \"YSH20124740\", \"abkuerzung\": \"FZS_CASS\", \"bezeichnung\": \"Cassiopeiasteg\", \"total_FUSS\": 2452.0, \"total_VELO\": 0.0}, {\"year_month_day_str\": \"2022-04-26\", \"FK_ZAEHLER\": \"U15G3063865\", \"abkuerzung\": \"FZS_ARBO\", \"bezeichnung\": \"Arboretum\", \"total_FUSS\": 2970.0, \"total_VELO\": 0.0}, {\"year_month_day_str\": \"2022-07-24\", \"FK_ZAEHLER\": \"YSH20124740\", \"abkuerzung\": \"FZS_CASS\", \"bezeichnung\": \"Cassiopeiasteg\", \"total_FUSS\": 2263.0, \"total_VELO\": 0.0}, {\"year_month_day_str\": \"2022-04-18\", \"FK_ZAEHLER\": \"YSH20124740\", \"abkuerzung\": \"FZS_CASS\", \"bezeichnung\": \"Cassiopeiasteg\", \"total_FUSS\": 2452.0, \"total_VELO\": 0.0}, {\"year_month_day_str\": \"2022-03-29\", \"FK_ZAEHLER\": \"YSH18065716\", \"abkuerzung\": \"FZS_LIMM\", \"bezeichnung\": \"Limmatquai\", \"total_FUSS\": 2129.0, \"total_VELO\": 0.0}, {\"year_month_day_str\": \"2022-04-10\", \"FK_ZAEHLER\": \"U15G3104443\", \"abkuerzung\": \"FZS_MYTH\", \"bezeichnung\": \"Mythenquai Unterf\\u00fchrung\", \"total_FUSS\": 2839.0, \"total_VELO\": 0.0}, {\"year_month_day_str\": \"2022-05-22\", \"FK_ZAEHLER\": \"U15G3104443\", \"abkuerzung\": \"FZS_MYTH\", \"bezeichnung\": \"Mythenquai Unterf\\u00fchrung\", \"total_FUSS\": 2355.0, \"total_VELO\": 0.0}, {\"year_month_day_str\": \"2022-06-14\", \"FK_ZAEHLER\": \"U15G3104443\", \"abkuerzung\": \"FZS_MYTH\", \"bezeichnung\": \"Mythenquai Unterf\\u00fchrung\", \"total_FUSS\": 2288.0, \"total_VELO\": 0.0}, {\"year_month_day_str\": \"2022-08-05\", \"FK_ZAEHLER\": \"U15G3104443\", \"abkuerzung\": \"FZS_MYTH\", \"bezeichnung\": \"Mythenquai Unterf\\u00fchrung\", \"total_FUSS\": 2220.0, \"total_VELO\": 0.0}, {\"year_month_day_str\": \"2022-04-30\", \"FK_ZAEHLER\": \"U15G3104443\", \"abkuerzung\": \"FZS_MYTH\", \"bezeichnung\": \"Mythenquai Unterf\\u00fchrung\", \"total_FUSS\": 2152.0, \"total_VELO\": 0.0}, {\"year_month_day_str\": \"2022-07-28\", \"FK_ZAEHLER\": \"U15G3104443\", \"abkuerzung\": \"FZS_MYTH\", \"bezeichnung\": \"Mythenquai Unterf\\u00fchrung\", \"total_FUSS\": 2151.0, \"total_VELO\": 0.0}, {\"year_month_day_str\": \"2022-05-11\", \"FK_ZAEHLER\": \"YSH20124740\", \"abkuerzung\": \"FZS_CASS\", \"bezeichnung\": \"Cassiopeiasteg\", \"total_FUSS\": 2133.0, \"total_VELO\": 0.0}, {\"year_month_day_str\": \"2022-05-01\", \"FK_ZAEHLER\": \"YSH20124740\", \"abkuerzung\": \"FZS_CASS\", \"bezeichnung\": \"Cassiopeiasteg\", \"total_FUSS\": 2392.0, \"total_VELO\": 0.0}, {\"year_month_day_str\": \"2022-04-10\", \"FK_ZAEHLER\": \"YSH20124740\", \"abkuerzung\": \"FZS_CASS\", \"bezeichnung\": \"Cassiopeiasteg\", \"total_FUSS\": 2397.0, \"total_VELO\": 0.0}, {\"year_month_day_str\": \"2022-05-21\", \"FK_ZAEHLER\": \"YSH20124740\", \"abkuerzung\": \"FZS_CASS\", \"bezeichnung\": \"Cassiopeiasteg\", \"total_FUSS\": 2299.0, \"total_VELO\": 0.0}, {\"year_month_day_str\": \"2022-03-18\", \"FK_ZAEHLER\": \"U15G3063865\", \"abkuerzung\": \"FZS_ARBO\", \"bezeichnung\": \"Arboretum\", \"total_FUSS\": 2889.0, \"total_VELO\": 0.0}, {\"year_month_day_str\": \"2022-08-08\", \"FK_ZAEHLER\": \"U15G3104443\", \"abkuerzung\": \"FZS_MYTH\", \"bezeichnung\": \"Mythenquai Unterf\\u00fchrung\", \"total_FUSS\": 2098.0, \"total_VELO\": 0.0}, {\"year_month_day_str\": \"2022-01-16\", \"FK_ZAEHLER\": \"YSH20124740\", \"abkuerzung\": \"FZS_CASS\", \"bezeichnung\": \"Cassiopeiasteg\", \"total_FUSS\": 2388.0, \"total_VELO\": 0.0}, {\"year_month_day_str\": \"2022-07-20\", \"FK_ZAEHLER\": \"U15G3104443\", \"abkuerzung\": \"FZS_MYTH\", \"bezeichnung\": \"Mythenquai Unterf\\u00fchrung\", \"total_FUSS\": 2212.0, \"total_VELO\": 0.0}, {\"year_month_day_str\": \"2022-05-21\", \"FK_ZAEHLER\": \"U15G3104443\", \"abkuerzung\": \"FZS_MYTH\", \"bezeichnung\": \"Mythenquai Unterf\\u00fchrung\", \"total_FUSS\": 2088.0, \"total_VELO\": 0.0}, {\"year_month_day_str\": \"2022-08-02\", \"FK_ZAEHLER\": \"U15G3104443\", \"abkuerzung\": \"FZS_MYTH\", \"bezeichnung\": \"Mythenquai Unterf\\u00fchrung\", \"total_FUSS\": 2115.0, \"total_VELO\": 0.0}, {\"year_month_day_str\": \"2022-02-05\", \"FK_ZAEHLER\": \"YSH20124740\", \"abkuerzung\": \"FZS_CASS\", \"bezeichnung\": \"Cassiopeiasteg\", \"total_FUSS\": 2362.0, \"total_VELO\": 0.0}, {\"year_month_day_str\": \"2022-05-05\", \"FK_ZAEHLER\": \"U15G3063865\", \"abkuerzung\": \"FZS_ARBO\", \"bezeichnung\": \"Arboretum\", \"total_FUSS\": 2646.0, \"total_VELO\": 0.0}, {\"year_month_day_str\": \"2022-07-10\", \"FK_ZAEHLER\": \"YSH20124740\", \"abkuerzung\": \"FZS_CASS\", \"bezeichnung\": \"Cassiopeiasteg\", \"total_FUSS\": 2253.0, \"total_VELO\": 0.0}, {\"year_month_day_str\": \"2022-07-03\", \"FK_ZAEHLER\": \"YSH20124740\", \"abkuerzung\": \"FZS_CASS\", \"bezeichnung\": \"Cassiopeiasteg\", \"total_FUSS\": 2166.0, \"total_VELO\": 0.0}, {\"year_month_day_str\": \"2022-03-31\", \"FK_ZAEHLER\": \"U15G3063865\", \"abkuerzung\": \"FZS_ARBO\", \"bezeichnung\": \"Arboretum\", \"total_FUSS\": 2646.0, \"total_VELO\": 0.0}, {\"year_month_day_str\": \"2022-05-27\", \"FK_ZAEHLER\": \"U15G3104443\", \"abkuerzung\": \"FZS_MYTH\", \"bezeichnung\": \"Mythenquai Unterf\\u00fchrung\", \"total_FUSS\": 2072.0, \"total_VELO\": 0.0}, {\"year_month_day_str\": \"2022-06-25\", \"FK_ZAEHLER\": \"YSH20124740\", \"abkuerzung\": \"FZS_CASS\", \"bezeichnung\": \"Cassiopeiasteg\", \"total_FUSS\": 2193.0, \"total_VELO\": 0.0}, {\"year_month_day_str\": \"2022-07-17\", \"FK_ZAEHLER\": \"YSH20124740\", \"abkuerzung\": \"FZS_CASS\", \"bezeichnung\": \"Cassiopeiasteg\", \"total_FUSS\": 2197.0, \"total_VELO\": 0.0}, {\"year_month_day_str\": \"2022-06-23\", \"FK_ZAEHLER\": \"U15G3104443\", \"abkuerzung\": \"FZS_MYTH\", \"bezeichnung\": \"Mythenquai Unterf\\u00fchrung\", \"total_FUSS\": 2068.0, \"total_VELO\": 0.0}, {\"year_month_day_str\": \"2022-05-26\", \"FK_ZAEHLER\": \"U15G3104443\", \"abkuerzung\": \"FZS_MYTH\", \"bezeichnung\": \"Mythenquai Unterf\\u00fchrung\", \"total_FUSS\": 2093.0, \"total_VELO\": 0.0}, {\"year_month_day_str\": \"2022-01-23\", \"FK_ZAEHLER\": \"YSH20124740\", \"abkuerzung\": \"FZS_CASS\", \"bezeichnung\": \"Cassiopeiasteg\", \"total_FUSS\": 2253.0, \"total_VELO\": 0.0}, {\"year_month_day_str\": \"2022-03-30\", \"FK_ZAEHLER\": \"U15G3063865\", \"abkuerzung\": \"FZS_ARBO\", \"bezeichnung\": \"Arboretum\", \"total_FUSS\": 2603.0, \"total_VELO\": 0.0}, {\"year_month_day_str\": \"2022-07-31\", \"FK_ZAEHLER\": \"YSH20124740\", \"abkuerzung\": \"FZS_CASS\", \"bezeichnung\": \"Cassiopeiasteg\", \"total_FUSS\": 2019.0, \"total_VELO\": 0.0}, {\"year_month_day_str\": \"2022-03-15\", \"FK_ZAEHLER\": \"U15G3063865\", \"abkuerzung\": \"FZS_ARBO\", \"bezeichnung\": \"Arboretum\", \"total_FUSS\": 2503.0, \"total_VELO\": 0.0}, {\"year_month_day_str\": \"2022-04-08\", \"FK_ZAEHLER\": \"U15G3063865\", \"abkuerzung\": \"FZS_ARBO\", \"bezeichnung\": \"Arboretum\", \"total_FUSS\": 2497.0, \"total_VELO\": 0.0}, {\"year_month_day_str\": \"2022-03-26\", \"FK_ZAEHLER\": \"YSH20124740\", \"abkuerzung\": \"FZS_CASS\", \"bezeichnung\": \"Cassiopeiasteg\", \"total_FUSS\": 2106.0, \"total_VELO\": 0.0}, {\"year_month_day_str\": \"2022-06-07\", \"FK_ZAEHLER\": \"YSH18065716\", \"abkuerzung\": \"FZS_LIMM\", \"bezeichnung\": \"Limmatquai\", \"total_FUSS\": 1807.0, \"total_VELO\": 0.0}, {\"year_month_day_str\": \"2022-07-09\", \"FK_ZAEHLER\": \"YSH20124740\", \"abkuerzung\": \"FZS_CASS\", \"bezeichnung\": \"Cassiopeiasteg\", \"total_FUSS\": 2097.0, \"total_VELO\": 0.0}, {\"year_month_day_str\": \"2022-04-25\", \"FK_ZAEHLER\": \"U15G3063865\", \"abkuerzung\": \"FZS_ARBO\", \"bezeichnung\": \"Arboretum\", \"total_FUSS\": 2695.0, \"total_VELO\": 0.0}, {\"year_month_day_str\": \"2022-08-01\", \"FK_ZAEHLER\": \"YSH20124740\", \"abkuerzung\": \"FZS_CASS\", \"bezeichnung\": \"Cassiopeiasteg\", \"total_FUSS\": 2020.0, \"total_VELO\": 0.0}, {\"year_month_day_str\": \"2022-01-01\", \"FK_ZAEHLER\": \"YSH20124740\", \"abkuerzung\": \"FZS_CASS\", \"bezeichnung\": \"Cassiopeiasteg\", \"total_FUSS\": 2237.0, \"total_VELO\": 0.0}, {\"year_month_day_str\": \"2022-08-13\", \"FK_ZAEHLER\": \"U15G3104443\", \"abkuerzung\": \"FZS_MYTH\", \"bezeichnung\": \"Mythenquai Unterf\\u00fchrung\", \"total_FUSS\": 2001.0, \"total_VELO\": 0.0}, {\"year_month_day_str\": \"2022-05-08\", \"FK_ZAEHLER\": \"YSH20124740\", \"abkuerzung\": \"FZS_CASS\", \"bezeichnung\": \"Cassiopeiasteg\", \"total_FUSS\": 2086.0, \"total_VELO\": 0.0}, {\"year_month_day_str\": \"2022-03-06\", \"FK_ZAEHLER\": \"YSH20124740\", \"abkuerzung\": \"FZS_CASS\", \"bezeichnung\": \"Cassiopeiasteg\", \"total_FUSS\": 2142.0, \"total_VELO\": 0.0}, {\"year_month_day_str\": \"2022-01-30\", \"FK_ZAEHLER\": \"YSH20124740\", \"abkuerzung\": \"FZS_CASS\", \"bezeichnung\": \"Cassiopeiasteg\", \"total_FUSS\": 2052.0, \"total_VELO\": 0.0}, {\"year_month_day_str\": \"2022-05-14\", \"FK_ZAEHLER\": \"U15G3104443\", \"abkuerzung\": \"FZS_MYTH\", \"bezeichnung\": \"Mythenquai Unterf\\u00fchrung\", \"total_FUSS\": 1963.0, \"total_VELO\": 0.0}, {\"year_month_day_str\": \"2022-04-15\", \"FK_ZAEHLER\": \"YSH20124740\", \"abkuerzung\": \"FZS_CASS\", \"bezeichnung\": \"Cassiopeiasteg\", \"total_FUSS\": 2034.0, \"total_VELO\": 0.0}, {\"year_month_day_str\": \"2022-08-17\", \"FK_ZAEHLER\": \"U15G3104443\", \"abkuerzung\": \"FZS_MYTH\", \"bezeichnung\": \"Mythenquai Unterf\\u00fchrung\", \"total_FUSS\": 1886.0, \"total_VELO\": 0.0}, {\"year_month_day_str\": \"2022-08-07\", \"FK_ZAEHLER\": \"YSH20124740\", \"abkuerzung\": \"FZS_CASS\", \"bezeichnung\": \"Cassiopeiasteg\", \"total_FUSS\": 1945.0, \"total_VELO\": 0.0}, {\"year_month_day_str\": \"2022-05-14\", \"FK_ZAEHLER\": \"YSH20124740\", \"abkuerzung\": \"FZS_CASS\", \"bezeichnung\": \"Cassiopeiasteg\", \"total_FUSS\": 2060.0, \"total_VELO\": 0.0}, {\"year_month_day_str\": \"2022-07-08\", \"FK_ZAEHLER\": \"U15G3104443\", \"abkuerzung\": \"FZS_MYTH\", \"bezeichnung\": \"Mythenquai Unterf\\u00fchrung\", \"total_FUSS\": 1836.0, \"total_VELO\": 0.0}, {\"year_month_day_str\": \"2022-07-27\", \"FK_ZAEHLER\": \"U15G3104443\", \"abkuerzung\": \"FZS_MYTH\", \"bezeichnung\": \"Mythenquai Unterf\\u00fchrung\", \"total_FUSS\": 1845.0, \"total_VELO\": 0.0}, {\"year_month_day_str\": \"2022-02-14\", \"FK_ZAEHLER\": \"U15G3063865\", \"abkuerzung\": \"FZS_ARBO\", \"bezeichnung\": \"Arboretum\", \"total_FUSS\": 2227.0, \"total_VELO\": 0.0}, {\"year_month_day_str\": \"2022-06-04\", \"FK_ZAEHLER\": \"YSH20124740\", \"abkuerzung\": \"FZS_CASS\", \"bezeichnung\": \"Cassiopeiasteg\", \"total_FUSS\": 1916.0, \"total_VELO\": 0.0}, {\"year_month_day_str\": \"2022-04-02\", \"FK_ZAEHLER\": \"U15G3063865\", \"abkuerzung\": \"FZS_ARBO\", \"bezeichnung\": \"Arboretum\", \"total_FUSS\": 1924.0, \"total_VELO\": 0.0}, {\"year_month_day_str\": \"2022-06-29\", \"FK_ZAEHLER\": \"U15G3104443\", \"abkuerzung\": \"FZS_MYTH\", \"bezeichnung\": \"Mythenquai Unterf\\u00fchrung\", \"total_FUSS\": 1879.0, \"total_VELO\": 0.0}, {\"year_month_day_str\": \"2022-07-11\", \"FK_ZAEHLER\": \"U15G3104443\", \"abkuerzung\": \"FZS_MYTH\", \"bezeichnung\": \"Mythenquai Unterf\\u00fchrung\", \"total_FUSS\": 1779.0, \"total_VELO\": 0.0}, {\"year_month_day_str\": \"2022-06-30\", \"FK_ZAEHLER\": \"U15G3104443\", \"abkuerzung\": \"FZS_MYTH\", \"bezeichnung\": \"Mythenquai Unterf\\u00fchrung\", \"total_FUSS\": 1732.0, \"total_VELO\": 0.0}, {\"year_month_day_str\": \"2022-05-19\", \"FK_ZAEHLER\": \"U15G3104443\", \"abkuerzung\": \"FZS_MYTH\", \"bezeichnung\": \"Mythenquai Unterf\\u00fchrung\", \"total_FUSS\": 1780.0, \"total_VELO\": 0.0}, {\"year_month_day_str\": \"2022-04-24\", \"FK_ZAEHLER\": \"U15G3063865\", \"abkuerzung\": \"FZS_ARBO\", \"bezeichnung\": \"Arboretum\", \"total_FUSS\": 2320.0, \"total_VELO\": 0.0}, {\"year_month_day_str\": \"2022-06-11\", \"FK_ZAEHLER\": \"YSH20124740\", \"abkuerzung\": \"FZS_CASS\", \"bezeichnung\": \"Cassiopeiasteg\", \"total_FUSS\": 1902.0, \"total_VELO\": 0.0}, {\"year_month_day_str\": \"2022-04-17\", \"FK_ZAEHLER\": \"YSH20124740\", \"abkuerzung\": \"FZS_CASS\", \"bezeichnung\": \"Cassiopeiasteg\", \"total_FUSS\": 1912.0, \"total_VELO\": 0.0}, {\"year_month_day_str\": \"2022-04-01\", \"FK_ZAEHLER\": \"U15G3063865\", \"abkuerzung\": \"FZS_ARBO\", \"bezeichnung\": \"Arboretum\", \"total_FUSS\": 1856.0, \"total_VELO\": 0.0}, {\"year_month_day_str\": \"2022-08-12\", \"FK_ZAEHLER\": \"YSH20124740\", \"abkuerzung\": \"FZS_CASS\", \"bezeichnung\": \"Cassiopeiasteg\", \"total_FUSS\": 1881.0, \"total_VELO\": 0.0}, {\"year_month_day_str\": \"2022-06-19\", \"FK_ZAEHLER\": \"YSH20124740\", \"abkuerzung\": \"FZS_CASS\", \"bezeichnung\": \"Cassiopeiasteg\", \"total_FUSS\": 1822.0, \"total_VELO\": 0.0}, {\"year_month_day_str\": \"2022-08-22\", \"FK_ZAEHLER\": \"U15G3104443\", \"abkuerzung\": \"FZS_MYTH\", \"bezeichnung\": \"Mythenquai Unterf\\u00fchrung\", \"total_FUSS\": 1713.0, \"total_VELO\": 0.0}, {\"year_month_day_str\": \"2022-07-02\", \"FK_ZAEHLER\": \"YSH20124740\", \"abkuerzung\": \"FZS_CASS\", \"bezeichnung\": \"Cassiopeiasteg\", \"total_FUSS\": 1833.0, \"total_VELO\": 0.0}, {\"year_month_day_str\": \"2022-07-05\", \"FK_ZAEHLER\": \"U15G3104443\", \"abkuerzung\": \"FZS_MYTH\", \"bezeichnung\": \"Mythenquai Unterf\\u00fchrung\", \"total_FUSS\": 1890.0, \"total_VELO\": 0.0}, {\"year_month_day_str\": \"2022-05-29\", \"FK_ZAEHLER\": \"YSH20124740\", \"abkuerzung\": \"FZS_CASS\", \"bezeichnung\": \"Cassiopeiasteg\", \"total_FUSS\": 1831.0, \"total_VELO\": 0.0}, {\"year_month_day_str\": \"2022-02-12\", \"FK_ZAEHLER\": \"YSH20124740\", \"abkuerzung\": \"FZS_CASS\", \"bezeichnung\": \"Cassiopeiasteg\", \"total_FUSS\": 1825.0, \"total_VELO\": 0.0}, {\"year_month_day_str\": \"2022-06-06\", \"FK_ZAEHLER\": \"U15G3104443\", \"abkuerzung\": \"FZS_MYTH\", \"bezeichnung\": \"Mythenquai Unterf\\u00fchrung\", \"total_FUSS\": 1758.0, \"total_VELO\": 0.0}, {\"year_month_day_str\": \"2022-07-30\", \"FK_ZAEHLER\": \"YSH20124740\", \"abkuerzung\": \"FZS_CASS\", \"bezeichnung\": \"Cassiopeiasteg\", \"total_FUSS\": 1732.0, \"total_VELO\": 0.0}, {\"year_month_day_str\": \"2022-02-20\", \"FK_ZAEHLER\": \"YSH20124740\", \"abkuerzung\": \"FZS_CASS\", \"bezeichnung\": \"Cassiopeiasteg\", \"total_FUSS\": 1815.0, \"total_VELO\": 0.0}, {\"year_month_day_str\": \"2022-07-16\", \"FK_ZAEHLER\": \"YSH20124740\", \"abkuerzung\": \"FZS_CASS\", \"bezeichnung\": \"Cassiopeiasteg\", \"total_FUSS\": 1749.0, \"total_VELO\": 0.0}, {\"year_month_day_str\": \"2022-02-17\", \"FK_ZAEHLER\": \"U15G3063865\", \"abkuerzung\": \"FZS_ARBO\", \"bezeichnung\": \"Arboretum\", \"total_FUSS\": 2059.0, \"total_VELO\": 0.0}, {\"year_month_day_str\": \"2022-06-18\", \"FK_ZAEHLER\": \"YSH20124740\", \"abkuerzung\": \"FZS_CASS\", \"bezeichnung\": \"Cassiopeiasteg\", \"total_FUSS\": 1726.0, \"total_VELO\": 0.0}, {\"year_month_day_str\": \"2022-05-27\", \"FK_ZAEHLER\": \"YSH20124740\", \"abkuerzung\": \"FZS_CASS\", \"bezeichnung\": \"Cassiopeiasteg\", \"total_FUSS\": 1679.0, \"total_VELO\": 0.0}, {\"year_month_day_str\": \"2022-08-09\", \"FK_ZAEHLER\": \"YSH20124740\", \"abkuerzung\": \"FZS_CASS\", \"bezeichnung\": \"Cassiopeiasteg\", \"total_FUSS\": 1722.0, \"total_VELO\": 0.0}, {\"year_month_day_str\": \"2022-01-29\", \"FK_ZAEHLER\": \"YSH20124740\", \"abkuerzung\": \"FZS_CASS\", \"bezeichnung\": \"Cassiopeiasteg\", \"total_FUSS\": 1810.0, \"total_VELO\": 0.0}, {\"year_month_day_str\": \"2022-02-15\", \"FK_ZAEHLER\": \"U15G3063865\", \"abkuerzung\": \"FZS_ARBO\", \"bezeichnung\": \"Arboretum\", \"total_FUSS\": 2094.0, \"total_VELO\": 0.0}, {\"year_month_day_str\": \"2022-08-10\", \"FK_ZAEHLER\": \"YSH20124740\", \"abkuerzung\": \"FZS_CASS\", \"bezeichnung\": \"Cassiopeiasteg\", \"total_FUSS\": 1655.0, \"total_VELO\": 0.0}, {\"year_month_day_str\": \"2022-03-12\", \"FK_ZAEHLER\": \"YSH20124740\", \"abkuerzung\": \"FZS_CASS\", \"bezeichnung\": \"Cassiopeiasteg\", \"total_FUSS\": 1719.0, \"total_VELO\": 0.0}, {\"year_month_day_str\": \"2022-06-16\", \"FK_ZAEHLER\": \"YSH20124740\", \"abkuerzung\": \"FZS_CASS\", \"bezeichnung\": \"Cassiopeiasteg\", \"total_FUSS\": 1616.0, \"total_VELO\": 0.0}, {\"year_month_day_str\": \"2022-08-13\", \"FK_ZAEHLER\": \"YSH20124740\", \"abkuerzung\": \"FZS_CASS\", \"bezeichnung\": \"Cassiopeiasteg\", \"total_FUSS\": 1840.0, \"total_VELO\": 0.0}, {\"year_month_day_str\": \"2022-07-08\", \"FK_ZAEHLER\": \"YSH20124740\", \"abkuerzung\": \"FZS_CASS\", \"bezeichnung\": \"Cassiopeiasteg\", \"total_FUSS\": 1600.0, \"total_VELO\": 0.0}, {\"year_month_day_str\": \"2022-05-17\", \"FK_ZAEHLER\": \"U15G3104443\", \"abkuerzung\": \"FZS_MYTH\", \"bezeichnung\": \"Mythenquai Unterf\\u00fchrung\", \"total_FUSS\": 1603.0, \"total_VELO\": 0.0}, {\"year_month_day_str\": \"2022-01-02\", \"FK_ZAEHLER\": \"YSH20124740\", \"abkuerzung\": \"FZS_CASS\", \"bezeichnung\": \"Cassiopeiasteg\", \"total_FUSS\": 1709.0, \"total_VELO\": 0.0}, {\"year_month_day_str\": \"2022-03-05\", \"FK_ZAEHLER\": \"YSH20124740\", \"abkuerzung\": \"FZS_CASS\", \"bezeichnung\": \"Cassiopeiasteg\", \"total_FUSS\": 1718.0, \"total_VELO\": 0.0}, {\"year_month_day_str\": \"2022-05-10\", \"FK_ZAEHLER\": \"YSH20124740\", \"abkuerzung\": \"FZS_CASS\", \"bezeichnung\": \"Cassiopeiasteg\", \"total_FUSS\": 1569.0, \"total_VELO\": 0.0}, {\"year_month_day_str\": \"2022-03-19\", \"FK_ZAEHLER\": \"YSH20124740\", \"abkuerzung\": \"FZS_CASS\", \"bezeichnung\": \"Cassiopeiasteg\", \"total_FUSS\": 1645.0, \"total_VELO\": 0.0}, {\"year_month_day_str\": \"2022-06-05\", \"FK_ZAEHLER\": \"YSH20124740\", \"abkuerzung\": \"FZS_CASS\", \"bezeichnung\": \"Cassiopeiasteg\", \"total_FUSS\": 1573.0, \"total_VELO\": 0.0}, {\"year_month_day_str\": \"2022-07-30\", \"FK_ZAEHLER\": \"U15G3104443\", \"abkuerzung\": \"FZS_MYTH\", \"bezeichnung\": \"Mythenquai Unterf\\u00fchrung\", \"total_FUSS\": 1407.0, \"total_VELO\": 0.0}, {\"year_month_day_str\": \"2022-05-18\", \"FK_ZAEHLER\": \"YSH20124740\", \"abkuerzung\": \"FZS_CASS\", \"bezeichnung\": \"Cassiopeiasteg\", \"total_FUSS\": 1567.0, \"total_VELO\": 0.0}, {\"year_month_day_str\": \"2022-06-17\", \"FK_ZAEHLER\": \"YSH20124740\", \"abkuerzung\": \"FZS_CASS\", \"bezeichnung\": \"Cassiopeiasteg\", \"total_FUSS\": 1562.0, \"total_VELO\": 0.0}, {\"year_month_day_str\": \"2022-07-13\", \"FK_ZAEHLER\": \"YSH20124740\", \"abkuerzung\": \"FZS_CASS\", \"bezeichnung\": \"Cassiopeiasteg\", \"total_FUSS\": 1509.0, \"total_VELO\": 0.0}, {\"year_month_day_str\": \"2022-04-28\", \"FK_ZAEHLER\": \"YSH20124740\", \"abkuerzung\": \"FZS_CASS\", \"bezeichnung\": \"Cassiopeiasteg\", \"total_FUSS\": 1515.0, \"total_VELO\": 0.0}, {\"year_month_day_str\": \"2022-02-26\", \"FK_ZAEHLER\": \"YSH20124740\", \"abkuerzung\": \"FZS_CASS\", \"bezeichnung\": \"Cassiopeiasteg\", \"total_FUSS\": 1586.0, \"total_VELO\": 0.0}, {\"year_month_day_str\": \"2022-07-15\", \"FK_ZAEHLER\": \"YSH20124740\", \"abkuerzung\": \"FZS_CASS\", \"bezeichnung\": \"Cassiopeiasteg\", \"total_FUSS\": 1435.0, \"total_VELO\": 0.0}, {\"year_month_day_str\": \"2022-06-10\", \"FK_ZAEHLER\": \"YSH20124740\", \"abkuerzung\": \"FZS_CASS\", \"bezeichnung\": \"Cassiopeiasteg\", \"total_FUSS\": 1564.0, \"total_VELO\": 0.0}, {\"year_month_day_str\": \"2022-07-21\", \"FK_ZAEHLER\": \"YSH20124740\", \"abkuerzung\": \"FZS_CASS\", \"bezeichnung\": \"Cassiopeiasteg\", \"total_FUSS\": 1429.0, \"total_VELO\": 0.0}, {\"year_month_day_str\": \"2022-04-03\", \"FK_ZAEHLER\": \"YSH20124740\", \"abkuerzung\": \"FZS_CASS\", \"bezeichnung\": \"Cassiopeiasteg\", \"total_FUSS\": 1567.0, \"total_VELO\": 0.0}, {\"year_month_day_str\": \"2022-07-06\", \"FK_ZAEHLER\": \"YSH20124740\", \"abkuerzung\": \"FZS_CASS\", \"bezeichnung\": \"Cassiopeiasteg\", \"total_FUSS\": 1469.0, \"total_VELO\": 0.0}, {\"year_month_day_str\": \"2022-03-27\", \"FK_ZAEHLER\": \"U15G3104443\", \"abkuerzung\": \"FZS_MYTH\", \"bezeichnung\": \"Mythenquai Unterf\\u00fchrung\", \"total_FUSS\": 1679.0, \"total_VELO\": 0.0}, {\"year_month_day_str\": \"2022-07-07\", \"FK_ZAEHLER\": \"U15G3104443\", \"abkuerzung\": \"FZS_MYTH\", \"bezeichnung\": \"Mythenquai Unterf\\u00fchrung\", \"total_FUSS\": 1406.0, \"total_VELO\": 0.0}, {\"year_month_day_str\": \"2022-07-22\", \"FK_ZAEHLER\": \"YSH20124740\", \"abkuerzung\": \"FZS_CASS\", \"bezeichnung\": \"Cassiopeiasteg\", \"total_FUSS\": 1449.0, \"total_VELO\": 0.0}, {\"year_month_day_str\": \"2022-08-16\", \"FK_ZAEHLER\": \"YSH20124740\", \"abkuerzung\": \"FZS_CASS\", \"bezeichnung\": \"Cassiopeiasteg\", \"total_FUSS\": 1531.0, \"total_VELO\": 0.0}, {\"year_month_day_str\": \"2022-07-05\", \"FK_ZAEHLER\": \"YSH20124740\", \"abkuerzung\": \"FZS_CASS\", \"bezeichnung\": \"Cassiopeiasteg\", \"total_FUSS\": 1441.0, \"total_VELO\": 0.0}, {\"year_month_day_str\": \"2022-08-11\", \"FK_ZAEHLER\": \"YSH20124740\", \"abkuerzung\": \"FZS_CASS\", \"bezeichnung\": \"Cassiopeiasteg\", \"total_FUSS\": 1421.0, \"total_VELO\": 0.0}, {\"year_month_day_str\": \"2022-08-24\", \"FK_ZAEHLER\": \"YSH20124740\", \"abkuerzung\": \"FZS_CASS\", \"bezeichnung\": \"Cassiopeiasteg\", \"total_FUSS\": 1390.0, \"total_VELO\": 0.0}, {\"year_month_day_str\": \"2022-02-06\", \"FK_ZAEHLER\": \"YSH20124740\", \"abkuerzung\": \"FZS_CASS\", \"bezeichnung\": \"Cassiopeiasteg\", \"total_FUSS\": 1525.0, \"total_VELO\": 0.0}, {\"year_month_day_str\": \"2022-06-10\", \"FK_ZAEHLER\": \"U15G3104443\", \"abkuerzung\": \"FZS_MYTH\", \"bezeichnung\": \"Mythenquai Unterf\\u00fchrung\", \"total_FUSS\": 1333.0, \"total_VELO\": 0.0}, {\"year_month_day_str\": \"2022-08-08\", \"FK_ZAEHLER\": \"YSH20124740\", \"abkuerzung\": \"FZS_CASS\", \"bezeichnung\": \"Cassiopeiasteg\", \"total_FUSS\": 1369.0, \"total_VELO\": 0.0}, {\"year_month_day_str\": \"2022-05-17\", \"FK_ZAEHLER\": \"YSH20124740\", \"abkuerzung\": \"FZS_CASS\", \"bezeichnung\": \"Cassiopeiasteg\", \"total_FUSS\": 1374.0, \"total_VELO\": 0.0}, {\"year_month_day_str\": \"2022-07-14\", \"FK_ZAEHLER\": \"YSH20124740\", \"abkuerzung\": \"FZS_CASS\", \"bezeichnung\": \"Cassiopeiasteg\", \"total_FUSS\": 1425.0, \"total_VELO\": 0.0}, {\"year_month_day_str\": \"2022-05-20\", \"FK_ZAEHLER\": \"YSH20124740\", \"abkuerzung\": \"FZS_CASS\", \"bezeichnung\": \"Cassiopeiasteg\", \"total_FUSS\": 1402.0, \"total_VELO\": 0.0}, {\"year_month_day_str\": \"2022-06-29\", \"FK_ZAEHLER\": \"YSH20124740\", \"abkuerzung\": \"FZS_CASS\", \"bezeichnung\": \"Cassiopeiasteg\", \"total_FUSS\": 1369.0, \"total_VELO\": 0.0}, {\"year_month_day_str\": \"2022-03-23\", \"FK_ZAEHLER\": \"YSH20124740\", \"abkuerzung\": \"FZS_CASS\", \"bezeichnung\": \"Cassiopeiasteg\", \"total_FUSS\": 1393.0, \"total_VELO\": 0.0}, {\"year_month_day_str\": \"2022-04-13\", \"FK_ZAEHLER\": \"YSH20124740\", \"abkuerzung\": \"FZS_CASS\", \"bezeichnung\": \"Cassiopeiasteg\", \"total_FUSS\": 1412.0, \"total_VELO\": 0.0}, {\"year_month_day_str\": \"2022-02-09\", \"FK_ZAEHLER\": \"YSH20124740\", \"abkuerzung\": \"FZS_CASS\", \"bezeichnung\": \"Cassiopeiasteg\", \"total_FUSS\": 1421.0, \"total_VELO\": 0.0}, {\"year_month_day_str\": \"2022-02-10\", \"FK_ZAEHLER\": \"YSH20124740\", \"abkuerzung\": \"FZS_CASS\", \"bezeichnung\": \"Cassiopeiasteg\", \"total_FUSS\": 1411.0, \"total_VELO\": 0.0}, {\"year_month_day_str\": \"2022-07-07\", \"FK_ZAEHLER\": \"YSH20124740\", \"abkuerzung\": \"FZS_CASS\", \"bezeichnung\": \"Cassiopeiasteg\", \"total_FUSS\": 1363.0, \"total_VELO\": 0.0}, {\"year_month_day_str\": \"2022-08-23\", \"FK_ZAEHLER\": \"YSH20124740\", \"abkuerzung\": \"FZS_CASS\", \"bezeichnung\": \"Cassiopeiasteg\", \"total_FUSS\": 1370.0, \"total_VELO\": 0.0}, {\"year_month_day_str\": \"2022-04-29\", \"FK_ZAEHLER\": \"YSH20124740\", \"abkuerzung\": \"FZS_CASS\", \"bezeichnung\": \"Cassiopeiasteg\", \"total_FUSS\": 1305.0, \"total_VELO\": 0.0}, {\"year_month_day_str\": \"2022-06-14\", \"FK_ZAEHLER\": \"YSH20124740\", \"abkuerzung\": \"FZS_CASS\", \"bezeichnung\": \"Cassiopeiasteg\", \"total_FUSS\": 1329.0, \"total_VELO\": 0.0}, {\"year_month_day_str\": \"2022-03-13\", \"FK_ZAEHLER\": \"U15G3104443\", \"abkuerzung\": \"FZS_MYTH\", \"bezeichnung\": \"Mythenquai Unterf\\u00fchrung\", \"total_FUSS\": 1329.0, \"total_VELO\": 0.0}, {\"year_month_day_str\": \"2022-07-27\", \"FK_ZAEHLER\": \"YSH20124740\", \"abkuerzung\": \"FZS_CASS\", \"bezeichnung\": \"Cassiopeiasteg\", \"total_FUSS\": 1301.0, \"total_VELO\": 0.0}, {\"year_month_day_str\": \"2022-08-20\", \"FK_ZAEHLER\": \"YSH20124740\", \"abkuerzung\": \"FZS_CASS\", \"bezeichnung\": \"Cassiopeiasteg\", \"total_FUSS\": 1411.0, \"total_VELO\": 0.0}, {\"year_month_day_str\": \"2022-07-18\", \"FK_ZAEHLER\": \"YSH20124740\", \"abkuerzung\": \"FZS_CASS\", \"bezeichnung\": \"Cassiopeiasteg\", \"total_FUSS\": 1262.0, \"total_VELO\": 0.0}, {\"year_month_day_str\": \"2022-03-25\", \"FK_ZAEHLER\": \"YSH20124740\", \"abkuerzung\": \"FZS_CASS\", \"bezeichnung\": \"Cassiopeiasteg\", \"total_FUSS\": 1378.0, \"total_VELO\": 0.0}, {\"year_month_day_str\": \"2022-08-04\", \"FK_ZAEHLER\": \"YSH20124740\", \"abkuerzung\": \"FZS_CASS\", \"bezeichnung\": \"Cassiopeiasteg\", \"total_FUSS\": 1212.0, \"total_VELO\": 0.0}, {\"year_month_day_str\": \"2022-05-28\", \"FK_ZAEHLER\": \"YSH20124740\", \"abkuerzung\": \"FZS_CASS\", \"bezeichnung\": \"Cassiopeiasteg\", \"total_FUSS\": 1382.0, \"total_VELO\": 0.0}, {\"year_month_day_str\": \"2022-04-21\", \"FK_ZAEHLER\": \"YSH20124740\", \"abkuerzung\": \"FZS_CASS\", \"bezeichnung\": \"Cassiopeiasteg\", \"total_FUSS\": 1297.0, \"total_VELO\": 0.0}, {\"year_month_day_str\": \"2022-05-12\", \"FK_ZAEHLER\": \"YSH20124740\", \"abkuerzung\": \"FZS_CASS\", \"bezeichnung\": \"Cassiopeiasteg\", \"total_FUSS\": 1312.0, \"total_VELO\": 0.0}, {\"year_month_day_str\": \"2022-08-03\", \"FK_ZAEHLER\": \"YSH20124740\", \"abkuerzung\": \"FZS_CASS\", \"bezeichnung\": \"Cassiopeiasteg\", \"total_FUSS\": 1293.0, \"total_VELO\": 0.0}, {\"year_month_day_str\": \"2022-02-23\", \"FK_ZAEHLER\": \"YSH20124740\", \"abkuerzung\": \"FZS_CASS\", \"bezeichnung\": \"Cassiopeiasteg\", \"total_FUSS\": 1341.0, \"total_VELO\": 0.0}, {\"year_month_day_str\": \"2022-03-24\", \"FK_ZAEHLER\": \"YSH20124740\", \"abkuerzung\": \"FZS_CASS\", \"bezeichnung\": \"Cassiopeiasteg\", \"total_FUSS\": 1322.0, \"total_VELO\": 0.0}, {\"year_month_day_str\": \"2022-08-06\", \"FK_ZAEHLER\": \"YSH20124740\", \"abkuerzung\": \"FZS_CASS\", \"bezeichnung\": \"Cassiopeiasteg\", \"total_FUSS\": 1302.0, \"total_VELO\": 0.0}, {\"year_month_day_str\": \"2022-04-12\", \"FK_ZAEHLER\": \"YSH20124740\", \"abkuerzung\": \"FZS_CASS\", \"bezeichnung\": \"Cassiopeiasteg\", \"total_FUSS\": 1337.0, \"total_VELO\": 0.0}, {\"year_month_day_str\": \"2022-04-22\", \"FK_ZAEHLER\": \"YSH20124740\", \"abkuerzung\": \"FZS_CASS\", \"bezeichnung\": \"Cassiopeiasteg\", \"total_FUSS\": 1350.0, \"total_VELO\": 0.0}, {\"year_month_day_str\": \"2022-07-11\", \"FK_ZAEHLER\": \"YSH20124740\", \"abkuerzung\": \"FZS_CASS\", \"bezeichnung\": \"Cassiopeiasteg\", \"total_FUSS\": 1267.0, \"total_VELO\": 0.0}, {\"year_month_day_str\": \"2022-07-23\", \"FK_ZAEHLER\": \"YSH20124740\", \"abkuerzung\": \"FZS_CASS\", \"bezeichnung\": \"Cassiopeiasteg\", \"total_FUSS\": 1263.0, \"total_VELO\": 0.0}, {\"year_month_day_str\": \"2022-07-26\", \"FK_ZAEHLER\": \"YSH20124740\", \"abkuerzung\": \"FZS_CASS\", \"bezeichnung\": \"Cassiopeiasteg\", \"total_FUSS\": 1276.0, \"total_VELO\": 0.0}, {\"year_month_day_str\": \"2022-05-09\", \"FK_ZAEHLER\": \"YSH20124740\", \"abkuerzung\": \"FZS_CASS\", \"bezeichnung\": \"Cassiopeiasteg\", \"total_FUSS\": 1306.0, \"total_VELO\": 0.0}, {\"year_month_day_str\": \"2022-05-11\", \"FK_ZAEHLER\": \"U15G3104443\", \"abkuerzung\": \"FZS_MYTH\", \"bezeichnung\": \"Mythenquai Unterf\\u00fchrung\", \"total_FUSS\": 1211.0, \"total_VELO\": 0.0}, {\"year_month_day_str\": \"2022-01-09\", \"FK_ZAEHLER\": \"YSH20124740\", \"abkuerzung\": \"FZS_CASS\", \"bezeichnung\": \"Cassiopeiasteg\", \"total_FUSS\": 1275.0, \"total_VELO\": 0.0}, {\"year_month_day_str\": \"2022-06-15\", \"FK_ZAEHLER\": \"YSH20124740\", \"abkuerzung\": \"FZS_CASS\", \"bezeichnung\": \"Cassiopeiasteg\", \"total_FUSS\": 1274.0, \"total_VELO\": 0.0}, {\"year_month_day_str\": \"2022-07-12\", \"FK_ZAEHLER\": \"YSH20124740\", \"abkuerzung\": \"FZS_CASS\", \"bezeichnung\": \"Cassiopeiasteg\", \"total_FUSS\": 1302.0, \"total_VELO\": 0.0}, {\"year_month_day_str\": \"2022-04-19\", \"FK_ZAEHLER\": \"YSH20124740\", \"abkuerzung\": \"FZS_CASS\", \"bezeichnung\": \"Cassiopeiasteg\", \"total_FUSS\": 1284.0, \"total_VELO\": 0.0}, {\"year_month_day_str\": \"2022-08-22\", \"FK_ZAEHLER\": \"YSH20124740\", \"abkuerzung\": \"FZS_CASS\", \"bezeichnung\": \"Cassiopeiasteg\", \"total_FUSS\": 1273.0, \"total_VELO\": 0.0}, {\"year_month_day_str\": \"2022-03-22\", \"FK_ZAEHLER\": \"YSH20124740\", \"abkuerzung\": \"FZS_CASS\", \"bezeichnung\": \"Cassiopeiasteg\", \"total_FUSS\": 1318.0, \"total_VELO\": 0.0}, {\"year_month_day_str\": \"2022-08-15\", \"FK_ZAEHLER\": \"U15G3104443\", \"abkuerzung\": \"FZS_MYTH\", \"bezeichnung\": \"Mythenquai Unterf\\u00fchrung\", \"total_FUSS\": 1081.0, \"total_VELO\": 0.0}, {\"year_month_day_str\": \"2022-02-16\", \"FK_ZAEHLER\": \"U15G3063865\", \"abkuerzung\": \"FZS_ARBO\", \"bezeichnung\": \"Arboretum\", \"total_FUSS\": 1508.0, \"total_VELO\": 0.0}, {\"year_month_day_str\": \"2022-08-02\", \"FK_ZAEHLER\": \"YSH20124740\", \"abkuerzung\": \"FZS_CASS\", \"bezeichnung\": \"Cassiopeiasteg\", \"total_FUSS\": 1160.0, \"total_VELO\": 0.0}, {\"year_month_day_str\": \"2022-03-28\", \"FK_ZAEHLER\": \"YSH20124740\", \"abkuerzung\": \"FZS_CASS\", \"bezeichnung\": \"Cassiopeiasteg\", \"total_FUSS\": 1265.0, \"total_VELO\": 0.0}, {\"year_month_day_str\": \"2022-03-10\", \"FK_ZAEHLER\": \"YSH20124740\", \"abkuerzung\": \"FZS_CASS\", \"bezeichnung\": \"Cassiopeiasteg\", \"total_FUSS\": 1275.0, \"total_VELO\": 0.0}, {\"year_month_day_str\": \"2022-06-13\", \"FK_ZAEHLER\": \"U15G3104443\", \"abkuerzung\": \"FZS_MYTH\", \"bezeichnung\": \"Mythenquai Unterf\\u00fchrung\", \"total_FUSS\": 1199.0, \"total_VELO\": 0.0}, {\"year_month_day_str\": \"2022-07-19\", \"FK_ZAEHLER\": \"YSH20124740\", \"abkuerzung\": \"FZS_CASS\", \"bezeichnung\": \"Cassiopeiasteg\", \"total_FUSS\": 1170.0, \"total_VELO\": 0.0}, {\"year_month_day_str\": \"2022-04-27\", \"FK_ZAEHLER\": \"YSH20124740\", \"abkuerzung\": \"FZS_CASS\", \"bezeichnung\": \"Cassiopeiasteg\", \"total_FUSS\": 1263.0, \"total_VELO\": 0.0}, {\"year_month_day_str\": \"2022-05-19\", \"FK_ZAEHLER\": \"YSH20124740\", \"abkuerzung\": \"FZS_CASS\", \"bezeichnung\": \"Cassiopeiasteg\", \"total_FUSS\": 1241.0, \"total_VELO\": 0.0}, {\"year_month_day_str\": \"2022-04-14\", \"FK_ZAEHLER\": \"YSH20124740\", \"abkuerzung\": \"FZS_CASS\", \"bezeichnung\": \"Cassiopeiasteg\", \"total_FUSS\": 1213.0, \"total_VELO\": 0.0}, {\"year_month_day_str\": \"2022-05-02\", \"FK_ZAEHLER\": \"YSH20124740\", \"abkuerzung\": \"FZS_CASS\", \"bezeichnung\": \"Cassiopeiasteg\", \"total_FUSS\": 1218.0, \"total_VELO\": 0.0}, {\"year_month_day_str\": \"2022-02-08\", \"FK_ZAEHLER\": \"YSH20124740\", \"abkuerzung\": \"FZS_CASS\", \"bezeichnung\": \"Cassiopeiasteg\", \"total_FUSS\": 1258.0, \"total_VELO\": 0.0}, {\"year_month_day_str\": \"2022-03-16\", \"FK_ZAEHLER\": \"YSH20124740\", \"abkuerzung\": \"FZS_CASS\", \"bezeichnung\": \"Cassiopeiasteg\", \"total_FUSS\": 1177.0, \"total_VELO\": 0.0}, {\"year_month_day_str\": \"2022-08-17\", \"FK_ZAEHLER\": \"YSH20124740\", \"abkuerzung\": \"FZS_CASS\", \"bezeichnung\": \"Cassiopeiasteg\", \"total_FUSS\": 1197.0, \"total_VELO\": 0.0}, {\"year_month_day_str\": \"2022-04-23\", \"FK_ZAEHLER\": \"YSH20124740\", \"abkuerzung\": \"FZS_CASS\", \"bezeichnung\": \"Cassiopeiasteg\", \"total_FUSS\": 1181.0, \"total_VELO\": 0.0}, {\"year_month_day_str\": \"2022-03-03\", \"FK_ZAEHLER\": \"YSH20124740\", \"abkuerzung\": \"FZS_CASS\", \"bezeichnung\": \"Cassiopeiasteg\", \"total_FUSS\": 1241.0, \"total_VELO\": 0.0}, {\"year_month_day_str\": \"2022-04-11\", \"FK_ZAEHLER\": \"YSH20124740\", \"abkuerzung\": \"FZS_CASS\", \"bezeichnung\": \"Cassiopeiasteg\", \"total_FUSS\": 1222.0, \"total_VELO\": 0.0}, {\"year_month_day_str\": \"2022-02-21\", \"FK_ZAEHLER\": \"U15G3063865\", \"abkuerzung\": \"FZS_ARBO\", \"bezeichnung\": \"Arboretum\", \"total_FUSS\": 1393.0, \"total_VELO\": 0.0}, {\"year_month_day_str\": \"2022-03-20\", \"FK_ZAEHLER\": \"U15G3104443\", \"abkuerzung\": \"FZS_MYTH\", \"bezeichnung\": \"Mythenquai Unterf\\u00fchrung\", \"total_FUSS\": 1188.0, \"total_VELO\": 0.0}, {\"year_month_day_str\": \"2022-04-06\", \"FK_ZAEHLER\": \"YSH20124740\", \"abkuerzung\": \"FZS_CASS\", \"bezeichnung\": \"Cassiopeiasteg\", \"total_FUSS\": 1161.0, \"total_VELO\": 0.0}, {\"year_month_day_str\": \"2022-03-09\", \"FK_ZAEHLER\": \"YSH20124740\", \"abkuerzung\": \"FZS_CASS\", \"bezeichnung\": \"Cassiopeiasteg\", \"total_FUSS\": 1201.0, \"total_VELO\": 0.0}, {\"year_month_day_str\": \"2022-03-26\", \"FK_ZAEHLER\": \"U15G3104443\", \"abkuerzung\": \"FZS_MYTH\", \"bezeichnung\": \"Mythenquai Unterf\\u00fchrung\", \"total_FUSS\": 1122.0, \"total_VELO\": 0.0}, {\"year_month_day_str\": \"2022-04-20\", \"FK_ZAEHLER\": \"YSH20124740\", \"abkuerzung\": \"FZS_CASS\", \"bezeichnung\": \"Cassiopeiasteg\", \"total_FUSS\": 1185.0, \"total_VELO\": 0.0}, {\"year_month_day_str\": \"2022-05-30\", \"FK_ZAEHLER\": \"YSH20124740\", \"abkuerzung\": \"FZS_CASS\", \"bezeichnung\": \"Cassiopeiasteg\", \"total_FUSS\": 1219.0, \"total_VELO\": 0.0}, {\"year_month_day_str\": \"2022-03-14\", \"FK_ZAEHLER\": \"YSH20124740\", \"abkuerzung\": \"FZS_CASS\", \"bezeichnung\": \"Cassiopeiasteg\", \"total_FUSS\": 1166.0, \"total_VELO\": 0.0}, {\"year_month_day_str\": \"2022-06-21\", \"FK_ZAEHLER\": \"YSH20124740\", \"abkuerzung\": \"FZS_CASS\", \"bezeichnung\": \"Cassiopeiasteg\", \"total_FUSS\": 1084.0, \"total_VELO\": 0.0}, {\"year_month_day_str\": \"2022-01-15\", \"FK_ZAEHLER\": \"YSH20124740\", \"abkuerzung\": \"FZS_CASS\", \"bezeichnung\": \"Cassiopeiasteg\", \"total_FUSS\": 1150.0, \"total_VELO\": 0.0}, {\"year_month_day_str\": \"2022-07-23\", \"FK_ZAEHLER\": \"U15G3104443\", \"abkuerzung\": \"FZS_MYTH\", \"bezeichnung\": \"Mythenquai Unterf\\u00fchrung\", \"total_FUSS\": 1032.0, \"total_VELO\": 0.0}, {\"year_month_day_str\": \"2022-03-04\", \"FK_ZAEHLER\": \"YSH20124740\", \"abkuerzung\": \"FZS_CASS\", \"bezeichnung\": \"Cassiopeiasteg\", \"total_FUSS\": 1163.0, \"total_VELO\": 0.0}, {\"year_month_day_str\": \"2022-02-03\", \"FK_ZAEHLER\": \"YSH20124740\", \"abkuerzung\": \"FZS_CASS\", \"bezeichnung\": \"Cassiopeiasteg\", \"total_FUSS\": 1122.0, \"total_VELO\": 0.0}, {\"year_month_day_str\": \"2022-06-13\", \"FK_ZAEHLER\": \"YSH20124740\", \"abkuerzung\": \"FZS_CASS\", \"bezeichnung\": \"Cassiopeiasteg\", \"total_FUSS\": 1166.0, \"total_VELO\": 0.0}, {\"year_month_day_str\": \"2022-02-19\", \"FK_ZAEHLER\": \"YSH20124740\", \"abkuerzung\": \"FZS_CASS\", \"bezeichnung\": \"Cassiopeiasteg\", \"total_FUSS\": 1139.0, \"total_VELO\": 0.0}, {\"year_month_day_str\": \"2022-06-20\", \"FK_ZAEHLER\": \"YSH20124740\", \"abkuerzung\": \"FZS_CASS\", \"bezeichnung\": \"Cassiopeiasteg\", \"total_FUSS\": 1069.0, \"total_VELO\": 0.0}, {\"year_month_day_str\": \"2022-06-02\", \"FK_ZAEHLER\": \"YSH20124740\", \"abkuerzung\": \"FZS_CASS\", \"bezeichnung\": \"Cassiopeiasteg\", \"total_FUSS\": 1147.0, \"total_VELO\": 0.0}, {\"year_month_day_str\": \"2022-07-25\", \"FK_ZAEHLER\": \"YSH20124740\", \"abkuerzung\": \"FZS_CASS\", \"bezeichnung\": \"Cassiopeiasteg\", \"total_FUSS\": 1043.0, \"total_VELO\": 0.0}, {\"year_month_day_str\": \"2022-05-07\", \"FK_ZAEHLER\": \"YSH20124740\", \"abkuerzung\": \"FZS_CASS\", \"bezeichnung\": \"Cassiopeiasteg\", \"total_FUSS\": 1109.0, \"total_VELO\": 0.0}, {\"year_month_day_str\": \"2022-04-16\", \"FK_ZAEHLER\": \"YSH20124740\", \"abkuerzung\": \"FZS_CASS\", \"bezeichnung\": \"Cassiopeiasteg\", \"total_FUSS\": 1056.0, \"total_VELO\": 0.0}, {\"year_month_day_str\": \"2022-04-18\", \"FK_ZAEHLER\": \"U15G3104443\", \"abkuerzung\": \"FZS_MYTH\", \"bezeichnung\": \"Mythenquai Unterf\\u00fchrung\", \"total_FUSS\": 999.0, \"total_VELO\": 0.0}, {\"year_month_day_str\": \"2022-05-29\", \"FK_ZAEHLER\": \"U15G3104443\", \"abkuerzung\": \"FZS_MYTH\", \"bezeichnung\": \"Mythenquai Unterf\\u00fchrung\", \"total_FUSS\": 1007.0, \"total_VELO\": 0.0}, {\"year_month_day_str\": \"2022-01-25\", \"FK_ZAEHLER\": \"YSH20124740\", \"abkuerzung\": \"FZS_CASS\", \"bezeichnung\": \"Cassiopeiasteg\", \"total_FUSS\": 1102.0, \"total_VELO\": 0.0}, {\"year_month_day_str\": \"2022-07-26\", \"FK_ZAEHLER\": \"U15G3104443\", \"abkuerzung\": \"FZS_MYTH\", \"bezeichnung\": \"Mythenquai Unterf\\u00fchrung\", \"total_FUSS\": 985.0, \"total_VELO\": 0.0}, {\"year_month_day_str\": \"2022-08-15\", \"FK_ZAEHLER\": \"YSH20124740\", \"abkuerzung\": \"FZS_CASS\", \"bezeichnung\": \"Cassiopeiasteg\", \"total_FUSS\": 1072.0, \"total_VELO\": 0.0}, {\"year_month_day_str\": \"2022-01-26\", \"FK_ZAEHLER\": \"YSH20124740\", \"abkuerzung\": \"FZS_CASS\", \"bezeichnung\": \"Cassiopeiasteg\", \"total_FUSS\": 1134.0, \"total_VELO\": 0.0}, {\"year_month_day_str\": \"2022-01-21\", \"FK_ZAEHLER\": \"YSH20124740\", \"abkuerzung\": \"FZS_CASS\", \"bezeichnung\": \"Cassiopeiasteg\", \"total_FUSS\": 1073.0, \"total_VELO\": 0.0}, {\"year_month_day_str\": \"2022-03-21\", \"FK_ZAEHLER\": \"YSH20124740\", \"abkuerzung\": \"FZS_CASS\", \"bezeichnung\": \"Cassiopeiasteg\", \"total_FUSS\": 1065.0, \"total_VELO\": 0.0}, {\"year_month_day_str\": \"2022-03-01\", \"FK_ZAEHLER\": \"YSH20124740\", \"abkuerzung\": \"FZS_CASS\", \"bezeichnung\": \"Cassiopeiasteg\", \"total_FUSS\": 1100.0, \"total_VELO\": 0.0}, {\"year_month_day_str\": \"2022-06-03\", \"FK_ZAEHLER\": \"YSH20124740\", \"abkuerzung\": \"FZS_CASS\", \"bezeichnung\": \"Cassiopeiasteg\", \"total_FUSS\": 1077.0, \"total_VELO\": 0.0}, {\"year_month_day_str\": \"2022-06-23\", \"FK_ZAEHLER\": \"YSH20124740\", \"abkuerzung\": \"FZS_CASS\", \"bezeichnung\": \"Cassiopeiasteg\", \"total_FUSS\": 1024.0, \"total_VELO\": 0.0}, {\"year_month_day_str\": \"2022-08-20\", \"FK_ZAEHLER\": \"U15G3104443\", \"abkuerzung\": \"FZS_MYTH\", \"bezeichnung\": \"Mythenquai Unterf\\u00fchrung\", \"total_FUSS\": 974.0, \"total_VELO\": 0.0}, {\"year_month_day_str\": \"2022-05-28\", \"FK_ZAEHLER\": \"U15G3104443\", \"abkuerzung\": \"FZS_MYTH\", \"bezeichnung\": \"Mythenquai Unterf\\u00fchrung\", \"total_FUSS\": 907.0, \"total_VELO\": 0.0}, {\"year_month_day_str\": \"2022-08-05\", \"FK_ZAEHLER\": \"YSH20124740\", \"abkuerzung\": \"FZS_CASS\", \"bezeichnung\": \"Cassiopeiasteg\", \"total_FUSS\": 964.0, \"total_VELO\": 0.0}, {\"year_month_day_str\": \"2022-04-12\", \"FK_ZAEHLER\": \"YSH18065716\", \"abkuerzung\": \"FZS_LIMM\", \"bezeichnung\": \"Limmatquai\", \"total_FUSS\": 886.0, \"total_VELO\": 0.0}, {\"year_month_day_str\": \"2022-05-16\", \"FK_ZAEHLER\": \"U15G3104443\", \"abkuerzung\": \"FZS_MYTH\", \"bezeichnung\": \"Mythenquai Unterf\\u00fchrung\", \"total_FUSS\": 1042.0, \"total_VELO\": 0.0}, {\"year_month_day_str\": \"2022-05-25\", \"FK_ZAEHLER\": \"YSH20124740\", \"abkuerzung\": \"FZS_CASS\", \"bezeichnung\": \"Cassiopeiasteg\", \"total_FUSS\": 1057.0, \"total_VELO\": 0.0}, {\"year_month_day_str\": \"2022-04-09\", \"FK_ZAEHLER\": \"YSH20124740\", \"abkuerzung\": \"FZS_CASS\", \"bezeichnung\": \"Cassiopeiasteg\", \"total_FUSS\": 1031.0, \"total_VELO\": 0.0}, {\"year_month_day_str\": \"2022-05-16\", \"FK_ZAEHLER\": \"YSH20124740\", \"abkuerzung\": \"FZS_CASS\", \"bezeichnung\": \"Cassiopeiasteg\", \"total_FUSS\": 1022.0, \"total_VELO\": 0.0}, {\"year_month_day_str\": \"2022-06-30\", \"FK_ZAEHLER\": \"YSH20124740\", \"abkuerzung\": \"FZS_CASS\", \"bezeichnung\": \"Cassiopeiasteg\", \"total_FUSS\": 946.0, \"total_VELO\": 0.0}, {\"year_month_day_str\": \"2022-02-27\", \"FK_ZAEHLER\": \"U15G3104443\", \"abkuerzung\": \"FZS_MYTH\", \"bezeichnung\": \"Mythenquai Unterf\\u00fchrung\", \"total_FUSS\": 1047.0, \"total_VELO\": 0.0}, {\"year_month_day_str\": \"2022-03-11\", \"FK_ZAEHLER\": \"YSH20124740\", \"abkuerzung\": \"FZS_CASS\", \"bezeichnung\": \"Cassiopeiasteg\", \"total_FUSS\": 1046.0, \"total_VELO\": 0.0}, {\"year_month_day_str\": \"2022-01-22\", \"FK_ZAEHLER\": \"YSH20124740\", \"abkuerzung\": \"FZS_CASS\", \"bezeichnung\": \"Cassiopeiasteg\", \"total_FUSS\": 1095.0, \"total_VELO\": 0.0}, {\"year_month_day_str\": \"2022-07-01\", \"FK_ZAEHLER\": \"YSH20124740\", \"abkuerzung\": \"FZS_CASS\", \"bezeichnung\": \"Cassiopeiasteg\", \"total_FUSS\": 1006.0, \"total_VELO\": 0.0}, {\"year_month_day_str\": \"2022-01-28\", \"FK_ZAEHLER\": \"YSH20124740\", \"abkuerzung\": \"FZS_CASS\", \"bezeichnung\": \"Cassiopeiasteg\", \"total_FUSS\": 1051.0, \"total_VELO\": 0.0}, {\"year_month_day_str\": \"2022-05-04\", \"FK_ZAEHLER\": \"YSH20124740\", \"abkuerzung\": \"FZS_CASS\", \"bezeichnung\": \"Cassiopeiasteg\", \"total_FUSS\": 1052.0, \"total_VELO\": 0.0}, {\"year_month_day_str\": \"2022-05-10\", \"FK_ZAEHLER\": \"U15G3104443\", \"abkuerzung\": \"FZS_MYTH\", \"bezeichnung\": \"Mythenquai Unterf\\u00fchrung\", \"total_FUSS\": 928.0, \"total_VELO\": 0.0}, {\"year_month_day_str\": \"2022-03-02\", \"FK_ZAEHLER\": \"YSH20124740\", \"abkuerzung\": \"FZS_CASS\", \"bezeichnung\": \"Cassiopeiasteg\", \"total_FUSS\": 1031.0, \"total_VELO\": 0.0}, {\"year_month_day_str\": \"2022-01-19\", \"FK_ZAEHLER\": \"YSH20124740\", \"abkuerzung\": \"FZS_CASS\", \"bezeichnung\": \"Cassiopeiasteg\", \"total_FUSS\": 1007.0, \"total_VELO\": 0.0}, {\"year_month_day_str\": \"2022-07-28\", \"FK_ZAEHLER\": \"YSH20124740\", \"abkuerzung\": \"FZS_CASS\", \"bezeichnung\": \"Cassiopeiasteg\", \"total_FUSS\": 981.0, \"total_VELO\": 0.0}, {\"year_month_day_str\": \"2022-02-04\", \"FK_ZAEHLER\": \"YSH20124740\", \"abkuerzung\": \"FZS_CASS\", \"bezeichnung\": \"Cassiopeiasteg\", \"total_FUSS\": 1037.0, \"total_VELO\": 0.0}, {\"year_month_day_str\": \"2022-05-01\", \"FK_ZAEHLER\": \"U15G3104443\", \"abkuerzung\": \"FZS_MYTH\", \"bezeichnung\": \"Mythenquai Unterf\\u00fchrung\", \"total_FUSS\": 986.0, \"total_VELO\": 0.0}, {\"year_month_day_str\": \"2022-01-17\", \"FK_ZAEHLER\": \"YSH20124740\", \"abkuerzung\": \"FZS_CASS\", \"bezeichnung\": \"Cassiopeiasteg\", \"total_FUSS\": 973.0, \"total_VELO\": 0.0}, {\"year_month_day_str\": \"2022-07-29\", \"FK_ZAEHLER\": \"YSH20124740\", \"abkuerzung\": \"FZS_CASS\", \"bezeichnung\": \"Cassiopeiasteg\", \"total_FUSS\": 962.0, \"total_VELO\": 0.0}, {\"year_month_day_str\": \"2022-02-24\", \"FK_ZAEHLER\": \"YSH20124740\", \"abkuerzung\": \"FZS_CASS\", \"bezeichnung\": \"Cassiopeiasteg\", \"total_FUSS\": 965.0, \"total_VELO\": 0.0}, {\"year_month_day_str\": \"2022-03-29\", \"FK_ZAEHLER\": \"YSH20124740\", \"abkuerzung\": \"FZS_CASS\", \"bezeichnung\": \"Cassiopeiasteg\", \"total_FUSS\": 1001.0, \"total_VELO\": 0.0}, {\"year_month_day_str\": \"2022-06-08\", \"FK_ZAEHLER\": \"YSH20124740\", \"abkuerzung\": \"FZS_CASS\", \"bezeichnung\": \"Cassiopeiasteg\", \"total_FUSS\": 1024.0, \"total_VELO\": 0.0}, {\"year_month_day_str\": \"2022-06-02\", \"FK_ZAEHLER\": \"U15G3104443\", \"abkuerzung\": \"FZS_MYTH\", \"bezeichnung\": \"Mythenquai Unterf\\u00fchrung\", \"total_FUSS\": 927.0, \"total_VELO\": 0.0}, {\"year_month_day_str\": \"2022-05-08\", \"FK_ZAEHLER\": \"U15G3104443\", \"abkuerzung\": \"FZS_MYTH\", \"bezeichnung\": \"Mythenquai Unterf\\u00fchrung\", \"total_FUSS\": 911.0, \"total_VELO\": 0.0}, {\"year_month_day_str\": \"2022-01-14\", \"FK_ZAEHLER\": \"YSH20124740\", \"abkuerzung\": \"FZS_CASS\", \"bezeichnung\": \"Cassiopeiasteg\", \"total_FUSS\": 931.0, \"total_VELO\": 0.0}, {\"year_month_day_str\": \"2022-02-13\", \"FK_ZAEHLER\": \"U15G3104443\", \"abkuerzung\": \"FZS_MYTH\", \"bezeichnung\": \"Mythenquai Unterf\\u00fchrung\", \"total_FUSS\": 953.0, \"total_VELO\": 0.0}, {\"year_month_day_str\": \"2022-06-08\", \"FK_ZAEHLER\": \"U15G3104443\", \"abkuerzung\": \"FZS_MYTH\", \"bezeichnung\": \"Mythenquai Unterf\\u00fchrung\", \"total_FUSS\": 893.0, \"total_VELO\": 0.0}, {\"year_month_day_str\": \"2022-07-04\", \"FK_ZAEHLER\": \"YSH20124740\", \"abkuerzung\": \"FZS_CASS\", \"bezeichnung\": \"Cassiopeiasteg\", \"total_FUSS\": 919.0, \"total_VELO\": 0.0}, {\"year_month_day_str\": \"2022-03-06\", \"FK_ZAEHLER\": \"U15G3104443\", \"abkuerzung\": \"FZS_MYTH\", \"bezeichnung\": \"Mythenquai Unterf\\u00fchrung\", \"total_FUSS\": 944.0, \"total_VELO\": 0.0}, {\"year_month_day_str\": \"2022-06-28\", \"FK_ZAEHLER\": \"YSH20124740\", \"abkuerzung\": \"FZS_CASS\", \"bezeichnung\": \"Cassiopeiasteg\", \"total_FUSS\": 962.0, \"total_VELO\": 0.0}, {\"year_month_day_str\": \"2022-08-07\", \"FK_ZAEHLER\": \"U15G3104443\", \"abkuerzung\": \"FZS_MYTH\", \"bezeichnung\": \"Mythenquai Unterf\\u00fchrung\", \"total_FUSS\": 851.0, \"total_VELO\": 0.0}, {\"year_month_day_str\": \"2022-03-08\", \"FK_ZAEHLER\": \"YSH20124740\", \"abkuerzung\": \"FZS_CASS\", \"bezeichnung\": \"Cassiopeiasteg\", \"total_FUSS\": 977.0, \"total_VELO\": 0.0}, {\"year_month_day_str\": \"2022-02-28\", \"FK_ZAEHLER\": \"YSH20124740\", \"abkuerzung\": \"FZS_CASS\", \"bezeichnung\": \"Cassiopeiasteg\", \"total_FUSS\": 979.0, \"total_VELO\": 0.0}, {\"year_month_day_str\": \"2022-05-12\", \"FK_ZAEHLER\": \"U15G3104443\", \"abkuerzung\": \"FZS_MYTH\", \"bezeichnung\": \"Mythenquai Unterf\\u00fchrung\", \"total_FUSS\": 874.0, \"total_VELO\": 0.0}, {\"year_month_day_str\": \"2022-06-03\", \"FK_ZAEHLER\": \"U15G3104443\", \"abkuerzung\": \"FZS_MYTH\", \"bezeichnung\": \"Mythenquai Unterf\\u00fchrung\", \"total_FUSS\": 887.0, \"total_VELO\": 0.0}, {\"year_month_day_str\": \"2022-04-29\", \"FK_ZAEHLER\": \"U15G3104443\", \"abkuerzung\": \"FZS_MYTH\", \"bezeichnung\": \"Mythenquai Unterf\\u00fchrung\", \"total_FUSS\": 884.0, \"total_VELO\": 0.0}, {\"year_month_day_str\": \"2022-02-18\", \"FK_ZAEHLER\": \"YSH20124740\", \"abkuerzung\": \"FZS_CASS\", \"bezeichnung\": \"Cassiopeiasteg\", \"total_FUSS\": 935.0, \"total_VELO\": 0.0}, {\"year_month_day_str\": \"2022-04-13\", \"FK_ZAEHLER\": \"U15G3104443\", \"abkuerzung\": \"FZS_MYTH\", \"bezeichnung\": \"Mythenquai Unterf\\u00fchrung\", \"total_FUSS\": 867.0, \"total_VELO\": 0.0}, {\"year_month_day_str\": \"2022-04-04\", \"FK_ZAEHLER\": \"YSH20124740\", \"abkuerzung\": \"FZS_CASS\", \"bezeichnung\": \"Cassiopeiasteg\", \"total_FUSS\": 942.0, \"total_VELO\": 0.0}, {\"year_month_day_str\": \"2022-05-30\", \"FK_ZAEHLER\": \"U15G3104443\", \"abkuerzung\": \"FZS_MYTH\", \"bezeichnung\": \"Mythenquai Unterf\\u00fchrung\", \"total_FUSS\": 858.0, \"total_VELO\": 0.0}, {\"year_month_day_str\": \"2022-01-13\", \"FK_ZAEHLER\": \"YSH20124740\", \"abkuerzung\": \"FZS_CASS\", \"bezeichnung\": \"Cassiopeiasteg\", \"total_FUSS\": 914.0, \"total_VELO\": 0.0}, {\"year_month_day_str\": \"2022-01-08\", \"FK_ZAEHLER\": \"YSH20124740\", \"abkuerzung\": \"FZS_CASS\", \"bezeichnung\": \"Cassiopeiasteg\", \"total_FUSS\": 933.0, \"total_VELO\": 0.0}, {\"year_month_day_str\": \"2022-02-07\", \"FK_ZAEHLER\": \"YSH20124740\", \"abkuerzung\": \"FZS_CASS\", \"bezeichnung\": \"Cassiopeiasteg\", \"total_FUSS\": 915.0, \"total_VELO\": 0.0}, {\"year_month_day_str\": \"2022-08-18\", \"FK_ZAEHLER\": \"U15G3104443\", \"abkuerzung\": \"FZS_MYTH\", \"bezeichnung\": \"Mythenquai Unterf\\u00fchrung\", \"total_FUSS\": 799.0, \"total_VELO\": 0.0}, {\"year_month_day_str\": \"2022-05-13\", \"FK_ZAEHLER\": \"YSH20124740\", \"abkuerzung\": \"FZS_CASS\", \"bezeichnung\": \"Cassiopeiasteg\", \"total_FUSS\": 918.0, \"total_VELO\": 0.0}, {\"year_month_day_str\": \"2022-01-04\", \"FK_ZAEHLER\": \"YSH20124740\", \"abkuerzung\": \"FZS_CASS\", \"bezeichnung\": \"Cassiopeiasteg\", \"total_FUSS\": 912.0, \"total_VELO\": 0.0}, {\"year_month_day_str\": \"2022-01-27\", \"FK_ZAEHLER\": \"YSH20124740\", \"abkuerzung\": \"FZS_CASS\", \"bezeichnung\": \"Cassiopeiasteg\", \"total_FUSS\": 931.0, \"total_VELO\": 0.0}, {\"year_month_day_str\": \"2022-03-17\", \"FK_ZAEHLER\": \"YSH20124740\", \"abkuerzung\": \"FZS_CASS\", \"bezeichnung\": \"Cassiopeiasteg\", \"total_FUSS\": 933.0, \"total_VELO\": 0.0}, {\"year_month_day_str\": \"2022-05-02\", \"FK_ZAEHLER\": \"U15G3104443\", \"abkuerzung\": \"FZS_MYTH\", \"bezeichnung\": \"Mythenquai Unterf\\u00fchrung\", \"total_FUSS\": 819.0, \"total_VELO\": 0.0}, {\"year_month_day_str\": \"2022-01-23\", \"FK_ZAEHLER\": \"U15G3104443\", \"abkuerzung\": \"FZS_MYTH\", \"bezeichnung\": \"Mythenquai Unterf\\u00fchrung\", \"total_FUSS\": 811.0, \"total_VELO\": 0.0}, {\"year_month_day_str\": \"2022-05-25\", \"FK_ZAEHLER\": \"U15G3104443\", \"abkuerzung\": \"FZS_MYTH\", \"bezeichnung\": \"Mythenquai Unterf\\u00fchrung\", \"total_FUSS\": 852.0, \"total_VELO\": 0.0}, {\"year_month_day_str\": \"2022-06-05\", \"FK_ZAEHLER\": \"U15G3104443\", \"abkuerzung\": \"FZS_MYTH\", \"bezeichnung\": \"Mythenquai Unterf\\u00fchrung\", \"total_FUSS\": 835.0, \"total_VELO\": 0.0}, {\"year_month_day_str\": \"2022-08-18\", \"FK_ZAEHLER\": \"YSH20124740\", \"abkuerzung\": \"FZS_CASS\", \"bezeichnung\": \"Cassiopeiasteg\", \"total_FUSS\": 883.0, \"total_VELO\": 0.0}, {\"year_month_day_str\": \"2022-02-25\", \"FK_ZAEHLER\": \"YSH20124740\", \"abkuerzung\": \"FZS_CASS\", \"bezeichnung\": \"Cassiopeiasteg\", \"total_FUSS\": 865.0, \"total_VELO\": 0.0}, {\"year_month_day_str\": \"2022-01-12\", \"FK_ZAEHLER\": \"YSH20124740\", \"abkuerzung\": \"FZS_CASS\", \"bezeichnung\": \"Cassiopeiasteg\", \"total_FUSS\": 888.0, \"total_VELO\": 0.0}, {\"year_month_day_str\": \"2022-06-27\", \"FK_ZAEHLER\": \"U15G3104443\", \"abkuerzung\": \"FZS_MYTH\", \"bezeichnung\": \"Mythenquai Unterf\\u00fchrung\", \"total_FUSS\": 851.0, \"total_VELO\": 0.0}, {\"year_month_day_str\": \"2022-06-01\", \"FK_ZAEHLER\": \"YSH20124740\", \"abkuerzung\": \"FZS_CASS\", \"bezeichnung\": \"Cassiopeiasteg\", \"total_FUSS\": 883.0, \"total_VELO\": 0.0}, {\"year_month_day_str\": \"2022-01-01\", \"FK_ZAEHLER\": \"U15G3104443\", \"abkuerzung\": \"FZS_MYTH\", \"bezeichnung\": \"Mythenquai Unterf\\u00fchrung\", \"total_FUSS\": 855.0, \"total_VELO\": 0.0}, {\"year_month_day_str\": \"2022-04-17\", \"FK_ZAEHLER\": \"U15G3104443\", \"abkuerzung\": \"FZS_MYTH\", \"bezeichnung\": \"Mythenquai Unterf\\u00fchrung\", \"total_FUSS\": 815.0, \"total_VELO\": 0.0}, {\"year_month_day_str\": \"2022-01-30\", \"FK_ZAEHLER\": \"U15G3104443\", \"abkuerzung\": \"FZS_MYTH\", \"bezeichnung\": \"Mythenquai Unterf\\u00fchrung\", \"total_FUSS\": 807.0, \"total_VELO\": 0.0}, {\"year_month_day_str\": \"2022-07-20\", \"FK_ZAEHLER\": \"YSH20124740\", \"abkuerzung\": \"FZS_CASS\", \"bezeichnung\": \"Cassiopeiasteg\", \"total_FUSS\": 791.0, \"total_VELO\": 0.0}, {\"year_month_day_str\": \"2022-06-22\", \"FK_ZAEHLER\": \"U15G3104443\", \"abkuerzung\": \"FZS_MYTH\", \"bezeichnung\": \"Mythenquai Unterf\\u00fchrung\", \"total_FUSS\": 825.0, \"total_VELO\": 0.0}, {\"year_month_day_str\": \"2022-08-06\", \"FK_ZAEHLER\": \"U15G3104443\", \"abkuerzung\": \"FZS_MYTH\", \"bezeichnung\": \"Mythenquai Unterf\\u00fchrung\", \"total_FUSS\": 759.0, \"total_VELO\": 0.0}, {\"year_month_day_str\": \"2022-04-15\", \"FK_ZAEHLER\": \"U15G3104443\", \"abkuerzung\": \"FZS_MYTH\", \"bezeichnung\": \"Mythenquai Unterf\\u00fchrung\", \"total_FUSS\": 783.0, \"total_VELO\": 0.0}, {\"year_month_day_str\": \"2022-05-03\", \"FK_ZAEHLER\": \"YSH20124740\", \"abkuerzung\": \"FZS_CASS\", \"bezeichnung\": \"Cassiopeiasteg\", \"total_FUSS\": 878.0, \"total_VELO\": 0.0}, {\"year_month_day_str\": \"2022-06-09\", \"FK_ZAEHLER\": \"YSH20124740\", \"abkuerzung\": \"FZS_CASS\", \"bezeichnung\": \"Cassiopeiasteg\", \"total_FUSS\": 852.0, \"total_VELO\": 0.0}, {\"year_month_day_str\": \"2022-01-16\", \"FK_ZAEHLER\": \"U15G3104443\", \"abkuerzung\": \"FZS_MYTH\", \"bezeichnung\": \"Mythenquai Unterf\\u00fchrung\", \"total_FUSS\": 757.0, \"total_VELO\": 0.0}, {\"year_month_day_str\": \"2022-03-28\", \"FK_ZAEHLER\": \"U15G3104443\", \"abkuerzung\": \"FZS_MYTH\", \"bezeichnung\": \"Mythenquai Unterf\\u00fchrung\", \"total_FUSS\": 811.0, \"total_VELO\": 0.0}, {\"year_month_day_str\": \"2022-06-22\", \"FK_ZAEHLER\": \"YSH20124740\", \"abkuerzung\": \"FZS_CASS\", \"bezeichnung\": \"Cassiopeiasteg\", \"total_FUSS\": 792.0, \"total_VELO\": 0.0}, {\"year_month_day_str\": \"2022-04-14\", \"FK_ZAEHLER\": \"U15G3104443\", \"abkuerzung\": \"FZS_MYTH\", \"bezeichnung\": \"Mythenquai Unterf\\u00fchrung\", \"total_FUSS\": 764.0, \"total_VELO\": 0.0}, {\"year_month_day_str\": \"2022-07-04\", \"FK_ZAEHLER\": \"U15G3104443\", \"abkuerzung\": \"FZS_MYTH\", \"bezeichnung\": \"Mythenquai Unterf\\u00fchrung\", \"total_FUSS\": 789.0, \"total_VELO\": 0.0}, {\"year_month_day_str\": \"2022-04-30\", \"FK_ZAEHLER\": \"YSH20124740\", \"abkuerzung\": \"FZS_CASS\", \"bezeichnung\": \"Cassiopeiasteg\", \"total_FUSS\": 829.0, \"total_VELO\": 0.0}, {\"year_month_day_str\": \"2022-03-09\", \"FK_ZAEHLER\": \"U15G3104443\", \"abkuerzung\": \"FZS_MYTH\", \"bezeichnung\": \"Mythenquai Unterf\\u00fchrung\", \"total_FUSS\": 727.0, \"total_VELO\": 0.0}, {\"year_month_day_str\": \"2022-01-18\", \"FK_ZAEHLER\": \"YSH20124740\", \"abkuerzung\": \"FZS_CASS\", \"bezeichnung\": \"Cassiopeiasteg\", \"total_FUSS\": 812.0, \"total_VELO\": 0.0}, {\"year_month_day_str\": \"2022-05-31\", \"FK_ZAEHLER\": \"YSH20124740\", \"abkuerzung\": \"FZS_CASS\", \"bezeichnung\": \"Cassiopeiasteg\", \"total_FUSS\": 822.0, \"total_VELO\": 0.0}, {\"year_month_day_str\": \"2022-02-09\", \"FK_ZAEHLER\": \"U15G3104443\", \"abkuerzung\": \"FZS_MYTH\", \"bezeichnung\": \"Mythenquai Unterf\\u00fchrung\", \"total_FUSS\": 780.0, \"total_VELO\": 0.0}, {\"year_month_day_str\": \"2022-02-05\", \"FK_ZAEHLER\": \"U15G3104443\", \"abkuerzung\": \"FZS_MYTH\", \"bezeichnung\": \"Mythenquai Unterf\\u00fchrung\", \"total_FUSS\": 857.0, \"total_VELO\": 0.0}, {\"year_month_day_str\": \"2022-04-24\", \"FK_ZAEHLER\": \"YSH20124740\", \"abkuerzung\": \"FZS_CASS\", \"bezeichnung\": \"Cassiopeiasteg\", \"total_FUSS\": 805.0, \"total_VELO\": 0.0}, {\"year_month_day_str\": \"2022-04-28\", \"FK_ZAEHLER\": \"U15G3104443\", \"abkuerzung\": \"FZS_MYTH\", \"bezeichnung\": \"Mythenquai Unterf\\u00fchrung\", \"total_FUSS\": 757.0, \"total_VELO\": 0.0}, {\"year_month_day_str\": \"2022-02-22\", \"FK_ZAEHLER\": \"YSH20124740\", \"abkuerzung\": \"FZS_CASS\", \"bezeichnung\": \"Cassiopeiasteg\", \"total_FUSS\": 802.0, \"total_VELO\": 0.0}, {\"year_month_day_str\": \"2022-04-26\", \"FK_ZAEHLER\": \"YSH20124740\", \"abkuerzung\": \"FZS_CASS\", \"bezeichnung\": \"Cassiopeiasteg\", \"total_FUSS\": 806.0, \"total_VELO\": 0.0}, {\"year_month_day_str\": \"2022-03-24\", \"FK_ZAEHLER\": \"U15G3104443\", \"abkuerzung\": \"FZS_MYTH\", \"bezeichnung\": \"Mythenquai Unterf\\u00fchrung\", \"total_FUSS\": 822.0, \"total_VELO\": 0.0}, {\"year_month_day_str\": \"2022-04-20\", \"FK_ZAEHLER\": \"U15G3104443\", \"abkuerzung\": \"FZS_MYTH\", \"bezeichnung\": \"Mythenquai Unterf\\u00fchrung\", \"total_FUSS\": 723.0, \"total_VELO\": 0.0}, {\"year_month_day_str\": \"2022-03-19\", \"FK_ZAEHLER\": \"U15G3104443\", \"abkuerzung\": \"FZS_MYTH\", \"bezeichnung\": \"Mythenquai Unterf\\u00fchrung\", \"total_FUSS\": 770.0, \"total_VELO\": 0.0}, {\"year_month_day_str\": \"2022-04-11\", \"FK_ZAEHLER\": \"U15G3104443\", \"abkuerzung\": \"FZS_MYTH\", \"bezeichnung\": \"Mythenquai Unterf\\u00fchrung\", \"total_FUSS\": 716.0, \"total_VELO\": 0.0}, {\"year_month_day_str\": \"2022-06-24\", \"FK_ZAEHLER\": \"U15G3104443\", \"abkuerzung\": \"FZS_MYTH\", \"bezeichnung\": \"Mythenquai Unterf\\u00fchrung\", \"total_FUSS\": 702.0, \"total_VELO\": 0.0}, {\"year_month_day_str\": \"2022-05-23\", \"FK_ZAEHLER\": \"U15G3104443\", \"abkuerzung\": \"FZS_MYTH\", \"bezeichnung\": \"Mythenquai Unterf\\u00fchrung\", \"total_FUSS\": 693.0, \"total_VELO\": 0.0}, {\"year_month_day_str\": \"2022-02-20\", \"FK_ZAEHLER\": \"U15G3104443\", \"abkuerzung\": \"FZS_MYTH\", \"bezeichnung\": \"Mythenquai Unterf\\u00fchrung\", \"total_FUSS\": 686.0, \"total_VELO\": 0.0}, {\"year_month_day_str\": \"2022-03-05\", \"FK_ZAEHLER\": \"U15G3104443\", \"abkuerzung\": \"FZS_MYTH\", \"bezeichnung\": \"Mythenquai Unterf\\u00fchrung\", \"total_FUSS\": 839.0, \"total_VELO\": 0.0}, {\"year_month_day_str\": \"2022-04-25\", \"FK_ZAEHLER\": \"YSH20124740\", \"abkuerzung\": \"FZS_CASS\", \"bezeichnung\": \"Cassiopeiasteg\", \"total_FUSS\": 723.0, \"total_VELO\": 0.0}, {\"year_month_day_str\": \"2022-06-27\", \"FK_ZAEHLER\": \"YSH20124740\", \"abkuerzung\": \"FZS_CASS\", \"bezeichnung\": \"Cassiopeiasteg\", \"total_FUSS\": 798.0, \"total_VELO\": 0.0}, {\"year_month_day_str\": \"2022-08-19\", \"FK_ZAEHLER\": \"YSH20124740\", \"abkuerzung\": \"FZS_CASS\", \"bezeichnung\": \"Cassiopeiasteg\", \"total_FUSS\": 739.0, \"total_VELO\": 0.0}, {\"year_month_day_str\": \"2022-04-19\", \"FK_ZAEHLER\": \"U15G3104443\", \"abkuerzung\": \"FZS_MYTH\", \"bezeichnung\": \"Mythenquai Unterf\\u00fchrung\", \"total_FUSS\": 677.0, \"total_VELO\": 0.0}, {\"year_month_day_str\": \"2022-04-06\", \"FK_ZAEHLER\": \"U15G3104443\", \"abkuerzung\": \"FZS_MYTH\", \"bezeichnung\": \"Mythenquai Unterf\\u00fchrung\", \"total_FUSS\": 740.0, \"total_VELO\": 0.0}, {\"year_month_day_str\": \"2022-04-27\", \"FK_ZAEHLER\": \"U15G3104443\", \"abkuerzung\": \"FZS_MYTH\", \"bezeichnung\": \"Mythenquai Unterf\\u00fchrung\", \"total_FUSS\": 689.0, \"total_VELO\": 0.0}, {\"year_month_day_str\": \"2022-04-21\", \"FK_ZAEHLER\": \"U15G3104443\", \"abkuerzung\": \"FZS_MYTH\", \"bezeichnung\": \"Mythenquai Unterf\\u00fchrung\", \"total_FUSS\": 709.0, \"total_VELO\": 0.0}, {\"year_month_day_str\": \"2022-02-12\", \"FK_ZAEHLER\": \"U15G3104443\", \"abkuerzung\": \"FZS_MYTH\", \"bezeichnung\": \"Mythenquai Unterf\\u00fchrung\", \"total_FUSS\": 686.0, \"total_VELO\": 0.0}, {\"year_month_day_str\": \"2022-05-23\", \"FK_ZAEHLER\": \"YSH20124740\", \"abkuerzung\": \"FZS_CASS\", \"bezeichnung\": \"Cassiopeiasteg\", \"total_FUSS\": 761.0, \"total_VELO\": 0.0}, {\"year_month_day_str\": \"2022-04-22\", \"FK_ZAEHLER\": \"U15G3104443\", \"abkuerzung\": \"FZS_MYTH\", \"bezeichnung\": \"Mythenquai Unterf\\u00fchrung\", \"total_FUSS\": 683.0, \"total_VELO\": 0.0}, {\"year_month_day_str\": \"2022-02-17\", \"FK_ZAEHLER\": \"YSH20124740\", \"abkuerzung\": \"FZS_CASS\", \"bezeichnung\": \"Cassiopeiasteg\", \"total_FUSS\": 701.0, \"total_VELO\": 0.0}, {\"year_month_day_str\": \"2022-04-12\", \"FK_ZAEHLER\": \"U15G3104443\", \"abkuerzung\": \"FZS_MYTH\", \"bezeichnung\": \"Mythenquai Unterf\\u00fchrung\", \"total_FUSS\": 715.0, \"total_VELO\": 0.0}, {\"year_month_day_str\": \"2022-06-07\", \"FK_ZAEHLER\": \"YSH20124740\", \"abkuerzung\": \"FZS_CASS\", \"bezeichnung\": \"Cassiopeiasteg\", \"total_FUSS\": 724.0, \"total_VELO\": 0.0}, {\"year_month_day_str\": \"2022-01-29\", \"FK_ZAEHLER\": \"U15G3104443\", \"abkuerzung\": \"FZS_MYTH\", \"bezeichnung\": \"Mythenquai Unterf\\u00fchrung\", \"total_FUSS\": 685.0, \"total_VELO\": 0.0}, {\"year_month_day_str\": \"2022-03-07\", \"FK_ZAEHLER\": \"YSH20124740\", \"abkuerzung\": \"FZS_CASS\", \"bezeichnung\": \"Cassiopeiasteg\", \"total_FUSS\": 746.0, \"total_VELO\": 0.0}, {\"year_month_day_str\": \"2022-03-12\", \"FK_ZAEHLER\": \"U15G3104443\", \"abkuerzung\": \"FZS_MYTH\", \"bezeichnung\": \"Mythenquai Unterf\\u00fchrung\", \"total_FUSS\": 682.0, \"total_VELO\": 0.0}, {\"year_month_day_str\": \"2022-02-06\", \"FK_ZAEHLER\": \"U15G3104443\", \"abkuerzung\": \"FZS_MYTH\", \"bezeichnung\": \"Mythenquai Unterf\\u00fchrung\", \"total_FUSS\": 611.0, \"total_VELO\": 0.0}, {\"year_month_day_str\": \"2022-05-13\", \"FK_ZAEHLER\": \"U15G3104443\", \"abkuerzung\": \"FZS_MYTH\", \"bezeichnung\": \"Mythenquai Unterf\\u00fchrung\", \"total_FUSS\": 639.0, \"total_VELO\": 0.0}, {\"year_month_day_str\": \"2022-04-03\", \"FK_ZAEHLER\": \"U15G3104443\", \"abkuerzung\": \"FZS_MYTH\", \"bezeichnung\": \"Mythenquai Unterf\\u00fchrung\", \"total_FUSS\": 634.0, \"total_VELO\": 0.0}, {\"year_month_day_str\": \"2022-03-03\", \"FK_ZAEHLER\": \"U15G3104443\", \"abkuerzung\": \"FZS_MYTH\", \"bezeichnung\": \"Mythenquai Unterf\\u00fchrung\", \"total_FUSS\": 673.0, \"total_VELO\": 0.0}, {\"year_month_day_str\": \"2022-03-04\", \"FK_ZAEHLER\": \"U15G3104443\", \"abkuerzung\": \"FZS_MYTH\", \"bezeichnung\": \"Mythenquai Unterf\\u00fchrung\", \"total_FUSS\": 696.0, \"total_VELO\": 0.0}, {\"year_month_day_str\": \"2022-05-03\", \"FK_ZAEHLER\": \"U15G3104443\", \"abkuerzung\": \"FZS_MYTH\", \"bezeichnung\": \"Mythenquai Unterf\\u00fchrung\", \"total_FUSS\": 648.0, \"total_VELO\": 0.0}, {\"year_month_day_str\": \"2022-02-14\", \"FK_ZAEHLER\": \"YSH20124740\", \"abkuerzung\": \"FZS_CASS\", \"bezeichnung\": \"Cassiopeiasteg\", \"total_FUSS\": 682.0, \"total_VELO\": 0.0}, {\"year_month_day_str\": \"2022-05-04\", \"FK_ZAEHLER\": \"U15G3104443\", \"abkuerzung\": \"FZS_MYTH\", \"bezeichnung\": \"Mythenquai Unterf\\u00fchrung\", \"total_FUSS\": 664.0, \"total_VELO\": 0.0}, {\"year_month_day_str\": \"2022-05-09\", \"FK_ZAEHLER\": \"U15G3104443\", \"abkuerzung\": \"FZS_MYTH\", \"bezeichnung\": \"Mythenquai Unterf\\u00fchrung\", \"total_FUSS\": 697.0, \"total_VELO\": 0.0}, {\"year_month_day_str\": \"2022-05-07\", \"FK_ZAEHLER\": \"U15G3104443\", \"abkuerzung\": \"FZS_MYTH\", \"bezeichnung\": \"Mythenquai Unterf\\u00fchrung\", \"total_FUSS\": 598.0, \"total_VELO\": 0.0}, {\"year_month_day_str\": \"2022-04-16\", \"FK_ZAEHLER\": \"U15G3104443\", \"abkuerzung\": \"FZS_MYTH\", \"bezeichnung\": \"Mythenquai Unterf\\u00fchrung\", \"total_FUSS\": 587.0, \"total_VELO\": 0.0}, {\"year_month_day_str\": \"2022-06-01\", \"FK_ZAEHLER\": \"U15G3104443\", \"abkuerzung\": \"FZS_MYTH\", \"bezeichnung\": \"Mythenquai Unterf\\u00fchrung\", \"total_FUSS\": 655.0, \"total_VELO\": 0.0}, {\"year_month_day_str\": \"2022-01-02\", \"FK_ZAEHLER\": \"U15G3104443\", \"abkuerzung\": \"FZS_MYTH\", \"bezeichnung\": \"Mythenquai Unterf\\u00fchrung\", \"total_FUSS\": 646.0, \"total_VELO\": 0.0}, {\"year_month_day_str\": \"2022-01-03\", \"FK_ZAEHLER\": \"YSH20124740\", \"abkuerzung\": \"FZS_CASS\", \"bezeichnung\": \"Cassiopeiasteg\", \"total_FUSS\": 713.0, \"total_VELO\": 0.0}, {\"year_month_day_str\": \"2022-06-09\", \"FK_ZAEHLER\": \"U15G3104443\", \"abkuerzung\": \"FZS_MYTH\", \"bezeichnung\": \"Mythenquai Unterf\\u00fchrung\", \"total_FUSS\": 581.0, \"total_VELO\": 0.0}, {\"year_month_day_str\": \"2022-04-23\", \"FK_ZAEHLER\": \"U15G3104443\", \"abkuerzung\": \"FZS_MYTH\", \"bezeichnung\": \"Mythenquai Unterf\\u00fchrung\", \"total_FUSS\": 572.0, \"total_VELO\": 0.0}, {\"year_month_day_str\": \"2022-03-10\", \"FK_ZAEHLER\": \"U15G3104443\", \"abkuerzung\": \"FZS_MYTH\", \"bezeichnung\": \"Mythenquai Unterf\\u00fchrung\", \"total_FUSS\": 666.0, \"total_VELO\": 0.0}, {\"year_month_day_str\": \"2022-03-25\", \"FK_ZAEHLER\": \"U15G3104443\", \"abkuerzung\": \"FZS_MYTH\", \"bezeichnung\": \"Mythenquai Unterf\\u00fchrung\", \"total_FUSS\": 707.0, \"total_VELO\": 0.0}, {\"year_month_day_str\": \"2022-02-11\", \"FK_ZAEHLER\": \"YSH20124740\", \"abkuerzung\": \"FZS_CASS\", \"bezeichnung\": \"Cassiopeiasteg\", \"total_FUSS\": 644.0, \"total_VELO\": 0.0}, {\"year_month_day_str\": \"2022-01-25\", \"FK_ZAEHLER\": \"U15G3104443\", \"abkuerzung\": \"FZS_MYTH\", \"bezeichnung\": \"Mythenquai Unterf\\u00fchrung\", \"total_FUSS\": 593.0, \"total_VELO\": 0.0}, {\"year_month_day_str\": \"2022-05-24\", \"FK_ZAEHLER\": \"YSH20124740\", \"abkuerzung\": \"FZS_CASS\", \"bezeichnung\": \"Cassiopeiasteg\", \"total_FUSS\": 658.0, \"total_VELO\": 0.0}, {\"year_month_day_str\": \"2022-06-24\", \"FK_ZAEHLER\": \"YSH20124740\", \"abkuerzung\": \"FZS_CASS\", \"bezeichnung\": \"Cassiopeiasteg\", \"total_FUSS\": 657.0, \"total_VELO\": 0.0}, {\"year_month_day_str\": \"2022-08-19\", \"FK_ZAEHLER\": \"U15G3104443\", \"abkuerzung\": \"FZS_MYTH\", \"bezeichnung\": \"Mythenquai Unterf\\u00fchrung\", \"total_FUSS\": 590.0, \"total_VELO\": 0.0}, {\"year_month_day_str\": \"2022-01-05\", \"FK_ZAEHLER\": \"YSH20124740\", \"abkuerzung\": \"FZS_CASS\", \"bezeichnung\": \"Cassiopeiasteg\", \"total_FUSS\": 693.0, \"total_VELO\": 0.0}, {\"year_month_day_str\": \"2022-01-20\", \"FK_ZAEHLER\": \"YSH20124740\", \"abkuerzung\": \"FZS_CASS\", \"bezeichnung\": \"Cassiopeiasteg\", \"total_FUSS\": 644.0, \"total_VELO\": 0.0}, {\"year_month_day_str\": \"2022-01-04\", \"FK_ZAEHLER\": \"U15G3104443\", \"abkuerzung\": \"FZS_MYTH\", \"bezeichnung\": \"Mythenquai Unterf\\u00fchrung\", \"total_FUSS\": 584.0, \"total_VELO\": 0.0}, {\"year_month_day_str\": \"2022-01-09\", \"FK_ZAEHLER\": \"U15G3104443\", \"abkuerzung\": \"FZS_MYTH\", \"bezeichnung\": \"Mythenquai Unterf\\u00fchrung\", \"total_FUSS\": 573.0, \"total_VELO\": 0.0}, {\"year_month_day_str\": \"2022-05-06\", \"FK_ZAEHLER\": \"YSH20124740\", \"abkuerzung\": \"FZS_CASS\", \"bezeichnung\": \"Cassiopeiasteg\", \"total_FUSS\": 631.0, \"total_VELO\": 0.0}, {\"year_month_day_str\": \"2022-02-10\", \"FK_ZAEHLER\": \"U15G3104443\", \"abkuerzung\": \"FZS_MYTH\", \"bezeichnung\": \"Mythenquai Unterf\\u00fchrung\", \"total_FUSS\": 610.0, \"total_VELO\": 0.0}, {\"year_month_day_str\": \"2022-01-11\", \"FK_ZAEHLER\": \"YSH20124740\", \"abkuerzung\": \"FZS_CASS\", \"bezeichnung\": \"Cassiopeiasteg\", \"total_FUSS\": 656.0, \"total_VELO\": 0.0}, {\"year_month_day_str\": \"2022-03-16\", \"FK_ZAEHLER\": \"U15G3104443\", \"abkuerzung\": \"FZS_MYTH\", \"bezeichnung\": \"Mythenquai Unterf\\u00fchrung\", \"total_FUSS\": 627.0, \"total_VELO\": 0.0}, {\"year_month_day_str\": \"2022-01-06\", \"FK_ZAEHLER\": \"YSH20124740\", \"abkuerzung\": \"FZS_CASS\", \"bezeichnung\": \"Cassiopeiasteg\", \"total_FUSS\": 617.0, \"total_VELO\": 0.0}, {\"year_month_day_str\": \"2022-03-15\", \"FK_ZAEHLER\": \"YSH20124740\", \"abkuerzung\": \"FZS_CASS\", \"bezeichnung\": \"Cassiopeiasteg\", \"total_FUSS\": 635.0, \"total_VELO\": 0.0}, {\"year_month_day_str\": \"2022-03-22\", \"FK_ZAEHLER\": \"U15G3104443\", \"abkuerzung\": \"FZS_MYTH\", \"bezeichnung\": \"Mythenquai Unterf\\u00fchrung\", \"total_FUSS\": 611.0, \"total_VELO\": 0.0}, {\"year_month_day_str\": \"2022-01-24\", \"FK_ZAEHLER\": \"YSH20124740\", \"abkuerzung\": \"FZS_CASS\", \"bezeichnung\": \"Cassiopeiasteg\", \"total_FUSS\": 642.0, \"total_VELO\": 0.0}, {\"year_month_day_str\": \"2022-01-19\", \"FK_ZAEHLER\": \"U15G3104443\", \"abkuerzung\": \"FZS_MYTH\", \"bezeichnung\": \"Mythenquai Unterf\\u00fchrung\", \"total_FUSS\": 560.0, \"total_VELO\": 0.0}, {\"year_month_day_str\": \"2022-03-23\", \"FK_ZAEHLER\": \"U15G3104443\", \"abkuerzung\": \"FZS_MYTH\", \"bezeichnung\": \"Mythenquai Unterf\\u00fchrung\", \"total_FUSS\": 627.0, \"total_VELO\": 0.0}, {\"year_month_day_str\": \"2022-04-09\", \"FK_ZAEHLER\": \"U15G3104443\", \"abkuerzung\": \"FZS_MYTH\", \"bezeichnung\": \"Mythenquai Unterf\\u00fchrung\", \"total_FUSS\": 556.0, \"total_VELO\": 0.0}, {\"year_month_day_str\": \"2022-03-21\", \"FK_ZAEHLER\": \"U15G3104443\", \"abkuerzung\": \"FZS_MYTH\", \"bezeichnung\": \"Mythenquai Unterf\\u00fchrung\", \"total_FUSS\": 606.0, \"total_VELO\": 0.0}, {\"year_month_day_str\": \"2022-02-15\", \"FK_ZAEHLER\": \"YSH20124740\", \"abkuerzung\": \"FZS_CASS\", \"bezeichnung\": \"Cassiopeiasteg\", \"total_FUSS\": 637.0, \"total_VELO\": 0.0}, {\"year_month_day_str\": \"2022-02-08\", \"FK_ZAEHLER\": \"U15G3104443\", \"abkuerzung\": \"FZS_MYTH\", \"bezeichnung\": \"Mythenquai Unterf\\u00fchrung\", \"total_FUSS\": 563.0, \"total_VELO\": 0.0}, {\"year_month_day_str\": \"2022-03-17\", \"FK_ZAEHLER\": \"U15G3104443\", \"abkuerzung\": \"FZS_MYTH\", \"bezeichnung\": \"Mythenquai Unterf\\u00fchrung\", \"total_FUSS\": 571.0, \"total_VELO\": 0.0}, {\"year_month_day_str\": \"2022-03-18\", \"FK_ZAEHLER\": \"YSH20124740\", \"abkuerzung\": \"FZS_CASS\", \"bezeichnung\": \"Cassiopeiasteg\", \"total_FUSS\": 626.0, \"total_VELO\": 0.0}, {\"year_month_day_str\": \"2022-01-14\", \"FK_ZAEHLER\": \"U15G3104443\", \"abkuerzung\": \"FZS_MYTH\", \"bezeichnung\": \"Mythenquai Unterf\\u00fchrung\", \"total_FUSS\": 530.0, \"total_VELO\": 0.0}, {\"year_month_day_str\": \"2022-01-28\", \"FK_ZAEHLER\": \"U15G3104443\", \"abkuerzung\": \"FZS_MYTH\", \"bezeichnung\": \"Mythenquai Unterf\\u00fchrung\", \"total_FUSS\": 519.0, \"total_VELO\": 0.0}, {\"year_month_day_str\": \"2022-01-07\", \"FK_ZAEHLER\": \"YSH20124740\", \"abkuerzung\": \"FZS_CASS\", \"bezeichnung\": \"Cassiopeiasteg\", \"total_FUSS\": 596.0, \"total_VELO\": 0.0}, {\"year_month_day_str\": \"2022-02-03\", \"FK_ZAEHLER\": \"U15G3104443\", \"abkuerzung\": \"FZS_MYTH\", \"bezeichnung\": \"Mythenquai Unterf\\u00fchrung\", \"total_FUSS\": 496.0, \"total_VELO\": 0.0}, {\"year_month_day_str\": \"2022-01-22\", \"FK_ZAEHLER\": \"U15G3104443\", \"abkuerzung\": \"FZS_MYTH\", \"bezeichnung\": \"Mythenquai Unterf\\u00fchrung\", \"total_FUSS\": 517.0, \"total_VELO\": 0.0}, {\"year_month_day_str\": \"2022-03-02\", \"FK_ZAEHLER\": \"U15G3104443\", \"abkuerzung\": \"FZS_MYTH\", \"bezeichnung\": \"Mythenquai Unterf\\u00fchrung\", \"total_FUSS\": 567.0, \"total_VELO\": 0.0}, {\"year_month_day_str\": \"2022-02-28\", \"FK_ZAEHLER\": \"U15G3104443\", \"abkuerzung\": \"FZS_MYTH\", \"bezeichnung\": \"Mythenquai Unterf\\u00fchrung\", \"total_FUSS\": 585.0, \"total_VELO\": 0.0}, {\"year_month_day_str\": \"2022-02-26\", \"FK_ZAEHLER\": \"U15G3104443\", \"abkuerzung\": \"FZS_MYTH\", \"bezeichnung\": \"Mythenquai Unterf\\u00fchrung\", \"total_FUSS\": 577.0, \"total_VELO\": 0.0}, {\"year_month_day_str\": \"2022-04-08\", \"FK_ZAEHLER\": \"YSH20124740\", \"abkuerzung\": \"FZS_CASS\", \"bezeichnung\": \"Cassiopeiasteg\", \"total_FUSS\": 588.0, \"total_VELO\": 0.0}, {\"year_month_day_str\": \"2022-02-23\", \"FK_ZAEHLER\": \"U15G3104443\", \"abkuerzung\": \"FZS_MYTH\", \"bezeichnung\": \"Mythenquai Unterf\\u00fchrung\", \"total_FUSS\": 620.0, \"total_VELO\": 0.0}, {\"year_month_day_str\": \"2022-06-28\", \"FK_ZAEHLER\": \"U15G3104443\", \"abkuerzung\": \"FZS_MYTH\", \"bezeichnung\": \"Mythenquai Unterf\\u00fchrung\", \"total_FUSS\": 578.0, \"total_VELO\": 0.0}, {\"year_month_day_str\": \"2022-04-04\", \"FK_ZAEHLER\": \"U15G3104443\", \"abkuerzung\": \"FZS_MYTH\", \"bezeichnung\": \"Mythenquai Unterf\\u00fchrung\", \"total_FUSS\": 537.0, \"total_VELO\": 0.0}, {\"year_month_day_str\": \"2022-02-02\", \"FK_ZAEHLER\": \"YSH20124740\", \"abkuerzung\": \"FZS_CASS\", \"bezeichnung\": \"Cassiopeiasteg\", \"total_FUSS\": 538.0, \"total_VELO\": 0.0}, {\"year_month_day_str\": \"2022-01-21\", \"FK_ZAEHLER\": \"U15G3104443\", \"abkuerzung\": \"FZS_MYTH\", \"bezeichnung\": \"Mythenquai Unterf\\u00fchrung\", \"total_FUSS\": 547.0, \"total_VELO\": 0.0}, {\"year_month_day_str\": \"2022-04-05\", \"FK_ZAEHLER\": \"YSH20124740\", \"abkuerzung\": \"FZS_CASS\", \"bezeichnung\": \"Cassiopeiasteg\", \"total_FUSS\": 614.0, \"total_VELO\": 0.0}, {\"year_month_day_str\": \"2022-04-26\", \"FK_ZAEHLER\": \"U15G3104443\", \"abkuerzung\": \"FZS_MYTH\", \"bezeichnung\": \"Mythenquai Unterf\\u00fchrung\", \"total_FUSS\": 515.0, \"total_VELO\": 0.0}, {\"year_month_day_str\": \"2022-01-26\", \"FK_ZAEHLER\": \"U15G3104443\", \"abkuerzung\": \"FZS_MYTH\", \"bezeichnung\": \"Mythenquai Unterf\\u00fchrung\", \"total_FUSS\": 569.0, \"total_VELO\": 0.0}, {\"year_month_day_str\": \"2022-05-05\", \"FK_ZAEHLER\": \"U15G3104443\", \"abkuerzung\": \"FZS_MYTH\", \"bezeichnung\": \"Mythenquai Unterf\\u00fchrung\", \"total_FUSS\": 500.0, \"total_VELO\": 0.0}, {\"year_month_day_str\": \"2022-01-15\", \"FK_ZAEHLER\": \"U15G3104443\", \"abkuerzung\": \"FZS_MYTH\", \"bezeichnung\": \"Mythenquai Unterf\\u00fchrung\", \"total_FUSS\": 499.0, \"total_VELO\": 0.0}, {\"year_month_day_str\": \"2022-01-12\", \"FK_ZAEHLER\": \"U15G3104443\", \"abkuerzung\": \"FZS_MYTH\", \"bezeichnung\": \"Mythenquai Unterf\\u00fchrung\", \"total_FUSS\": 522.0, \"total_VELO\": 0.0}, {\"year_month_day_str\": \"2022-03-14\", \"FK_ZAEHLER\": \"U15G3104443\", \"abkuerzung\": \"FZS_MYTH\", \"bezeichnung\": \"Mythenquai Unterf\\u00fchrung\", \"total_FUSS\": 571.0, \"total_VELO\": 0.0}, {\"year_month_day_str\": \"2022-07-01\", \"FK_ZAEHLER\": \"U15G3104443\", \"abkuerzung\": \"FZS_MYTH\", \"bezeichnung\": \"Mythenquai Unterf\\u00fchrung\", \"total_FUSS\": 538.0, \"total_VELO\": 0.0}, {\"year_month_day_str\": \"2022-03-08\", \"FK_ZAEHLER\": \"U15G3104443\", \"abkuerzung\": \"FZS_MYTH\", \"bezeichnung\": \"Mythenquai Unterf\\u00fchrung\", \"total_FUSS\": 572.0, \"total_VELO\": 0.0}, {\"year_month_day_str\": \"2022-01-10\", \"FK_ZAEHLER\": \"YSH20124740\", \"abkuerzung\": \"FZS_CASS\", \"bezeichnung\": \"Cassiopeiasteg\", \"total_FUSS\": 571.0, \"total_VELO\": 0.0}, {\"year_month_day_str\": \"2022-01-08\", \"FK_ZAEHLER\": \"U15G3104443\", \"abkuerzung\": \"FZS_MYTH\", \"bezeichnung\": \"Mythenquai Unterf\\u00fchrung\", \"total_FUSS\": 504.0, \"total_VELO\": 0.0}, {\"year_month_day_str\": \"2022-04-07\", \"FK_ZAEHLER\": \"YSH20124740\", \"abkuerzung\": \"FZS_CASS\", \"bezeichnung\": \"Cassiopeiasteg\", \"total_FUSS\": 552.0, \"total_VELO\": 0.0}, {\"year_month_day_str\": \"2022-01-18\", \"FK_ZAEHLER\": \"U15G3104443\", \"abkuerzung\": \"FZS_MYTH\", \"bezeichnung\": \"Mythenquai Unterf\\u00fchrung\", \"total_FUSS\": 476.0, \"total_VELO\": 0.0}, {\"year_month_day_str\": \"2022-05-31\", \"FK_ZAEHLER\": \"U15G3104443\", \"abkuerzung\": \"FZS_MYTH\", \"bezeichnung\": \"Mythenquai Unterf\\u00fchrung\", \"total_FUSS\": 523.0, \"total_VELO\": 0.0}, {\"year_month_day_str\": \"2022-03-01\", \"FK_ZAEHLER\": \"U15G3104443\", \"abkuerzung\": \"FZS_MYTH\", \"bezeichnung\": \"Mythenquai Unterf\\u00fchrung\", \"total_FUSS\": 545.0, \"total_VELO\": 0.0}, {\"year_month_day_str\": \"2022-02-04\", \"FK_ZAEHLER\": \"U15G3104443\", \"abkuerzung\": \"FZS_MYTH\", \"bezeichnung\": \"Mythenquai Unterf\\u00fchrung\", \"total_FUSS\": 496.0, \"total_VELO\": 0.0}, {\"year_month_day_str\": \"2022-03-07\", \"FK_ZAEHLER\": \"U15G3104443\", \"abkuerzung\": \"FZS_MYTH\", \"bezeichnung\": \"Mythenquai Unterf\\u00fchrung\", \"total_FUSS\": 560.0, \"total_VELO\": 0.0}, {\"year_month_day_str\": \"2022-03-31\", \"FK_ZAEHLER\": \"YSH20124740\", \"abkuerzung\": \"FZS_CASS\", \"bezeichnung\": \"Cassiopeiasteg\", \"total_FUSS\": 528.0, \"total_VELO\": 0.0}, {\"year_month_day_str\": \"2022-02-11\", \"FK_ZAEHLER\": \"U15G3104443\", \"abkuerzung\": \"FZS_MYTH\", \"bezeichnung\": \"Mythenquai Unterf\\u00fchrung\", \"total_FUSS\": 449.0, \"total_VELO\": 0.0}, {\"year_month_day_str\": \"2022-03-11\", \"FK_ZAEHLER\": \"U15G3104443\", \"abkuerzung\": \"FZS_MYTH\", \"bezeichnung\": \"Mythenquai Unterf\\u00fchrung\", \"total_FUSS\": 506.0, \"total_VELO\": 0.0}, {\"year_month_day_str\": \"2022-04-24\", \"FK_ZAEHLER\": \"U15G3104443\", \"abkuerzung\": \"FZS_MYTH\", \"bezeichnung\": \"Mythenquai Unterf\\u00fchrung\", \"total_FUSS\": 522.0, \"total_VELO\": 0.0}, {\"year_month_day_str\": \"2022-02-24\", \"FK_ZAEHLER\": \"U15G3104443\", \"abkuerzung\": \"FZS_MYTH\", \"bezeichnung\": \"Mythenquai Unterf\\u00fchrung\", \"total_FUSS\": 479.0, \"total_VELO\": 0.0}, {\"year_month_day_str\": \"2022-03-30\", \"FK_ZAEHLER\": \"U15G3104443\", \"abkuerzung\": \"FZS_MYTH\", \"bezeichnung\": \"Mythenquai Unterf\\u00fchrung\", \"total_FUSS\": 461.0, \"total_VELO\": 0.0}, {\"year_month_day_str\": \"2022-06-07\", \"FK_ZAEHLER\": \"U15G3104443\", \"abkuerzung\": \"FZS_MYTH\", \"bezeichnung\": \"Mythenquai Unterf\\u00fchrung\", \"total_FUSS\": 467.0, \"total_VELO\": 0.0}, {\"year_month_day_str\": \"2022-04-05\", \"FK_ZAEHLER\": \"U15G3104443\", \"abkuerzung\": \"FZS_MYTH\", \"bezeichnung\": \"Mythenquai Unterf\\u00fchrung\", \"total_FUSS\": 470.0, \"total_VELO\": 0.0}, {\"year_month_day_str\": \"2022-04-08\", \"FK_ZAEHLER\": \"U15G3104443\", \"abkuerzung\": \"FZS_MYTH\", \"bezeichnung\": \"Mythenquai Unterf\\u00fchrung\", \"total_FUSS\": 439.0, \"total_VELO\": 0.0}, {\"year_month_day_str\": \"2022-03-29\", \"FK_ZAEHLER\": \"U15G3104443\", \"abkuerzung\": \"FZS_MYTH\", \"bezeichnung\": \"Mythenquai Unterf\\u00fchrung\", \"total_FUSS\": 513.0, \"total_VELO\": 0.0}, {\"year_month_day_str\": \"2022-01-11\", \"FK_ZAEHLER\": \"U15G3104443\", \"abkuerzung\": \"FZS_MYTH\", \"bezeichnung\": \"Mythenquai Unterf\\u00fchrung\", \"total_FUSS\": 461.0, \"total_VELO\": 0.0}, {\"year_month_day_str\": \"2022-01-13\", \"FK_ZAEHLER\": \"U15G3104443\", \"abkuerzung\": \"FZS_MYTH\", \"bezeichnung\": \"Mythenquai Unterf\\u00fchrung\", \"total_FUSS\": 479.0, \"total_VELO\": 0.0}, {\"year_month_day_str\": \"2022-07-29\", \"FK_ZAEHLER\": \"U15G3104443\", \"abkuerzung\": \"FZS_MYTH\", \"bezeichnung\": \"Mythenquai Unterf\\u00fchrung\", \"total_FUSS\": 439.0, \"total_VELO\": 0.0}, {\"year_month_day_str\": \"2022-01-17\", \"FK_ZAEHLER\": \"U15G3104443\", \"abkuerzung\": \"FZS_MYTH\", \"bezeichnung\": \"Mythenquai Unterf\\u00fchrung\", \"total_FUSS\": 487.0, \"total_VELO\": 0.0}, {\"year_month_day_str\": \"2022-05-06\", \"FK_ZAEHLER\": \"U15G3104443\", \"abkuerzung\": \"FZS_MYTH\", \"bezeichnung\": \"Mythenquai Unterf\\u00fchrung\", \"total_FUSS\": 422.0, \"total_VELO\": 0.0}, {\"year_month_day_str\": \"2022-03-30\", \"FK_ZAEHLER\": \"YSH20124740\", \"abkuerzung\": \"FZS_CASS\", \"bezeichnung\": \"Cassiopeiasteg\", \"total_FUSS\": 506.0, \"total_VELO\": 0.0}, {\"year_month_day_str\": \"2022-01-05\", \"FK_ZAEHLER\": \"U15G3104443\", \"abkuerzung\": \"FZS_MYTH\", \"bezeichnung\": \"Mythenquai Unterf\\u00fchrung\", \"total_FUSS\": 416.0, \"total_VELO\": 0.0}, {\"year_month_day_str\": \"2022-01-03\", \"FK_ZAEHLER\": \"U15G3104443\", \"abkuerzung\": \"FZS_MYTH\", \"bezeichnung\": \"Mythenquai Unterf\\u00fchrung\", \"total_FUSS\": 426.0, \"total_VELO\": 0.0}, {\"year_month_day_str\": \"2022-01-27\", \"FK_ZAEHLER\": \"U15G3104443\", \"abkuerzung\": \"FZS_MYTH\", \"bezeichnung\": \"Mythenquai Unterf\\u00fchrung\", \"total_FUSS\": 453.0, \"total_VELO\": 0.0}, {\"year_month_day_str\": \"2022-02-18\", \"FK_ZAEHLER\": \"U15G3104443\", \"abkuerzung\": \"FZS_MYTH\", \"bezeichnung\": \"Mythenquai Unterf\\u00fchrung\", \"total_FUSS\": 441.0, \"total_VELO\": 0.0}, {\"year_month_day_str\": \"2022-05-24\", \"FK_ZAEHLER\": \"U15G3104443\", \"abkuerzung\": \"FZS_MYTH\", \"bezeichnung\": \"Mythenquai Unterf\\u00fchrung\", \"total_FUSS\": 429.0, \"total_VELO\": 0.0}, {\"year_month_day_str\": \"2022-02-01\", \"FK_ZAEHLER\": \"YSH20124740\", \"abkuerzung\": \"FZS_CASS\", \"bezeichnung\": \"Cassiopeiasteg\", \"total_FUSS\": 468.0, \"total_VELO\": 0.0}, {\"year_month_day_str\": \"2022-04-07\", \"FK_ZAEHLER\": \"U15G3104443\", \"abkuerzung\": \"FZS_MYTH\", \"bezeichnung\": \"Mythenquai Unterf\\u00fchrung\", \"total_FUSS\": 443.0, \"total_VELO\": 0.0}, {\"year_month_day_str\": \"2022-05-05\", \"FK_ZAEHLER\": \"YSH20124740\", \"abkuerzung\": \"FZS_CASS\", \"bezeichnung\": \"Cassiopeiasteg\", \"total_FUSS\": 456.0, \"total_VELO\": 0.0}, {\"year_month_day_str\": \"2022-02-07\", \"FK_ZAEHLER\": \"U15G3104443\", \"abkuerzung\": \"FZS_MYTH\", \"bezeichnung\": \"Mythenquai Unterf\\u00fchrung\", \"total_FUSS\": 434.0, \"total_VELO\": 0.0}, {\"year_month_day_str\": \"2022-01-24\", \"FK_ZAEHLER\": \"U15G3104443\", \"abkuerzung\": \"FZS_MYTH\", \"bezeichnung\": \"Mythenquai Unterf\\u00fchrung\", \"total_FUSS\": 412.0, \"total_VELO\": 0.0}, {\"year_month_day_str\": \"2022-01-07\", \"FK_ZAEHLER\": \"U15G3104443\", \"abkuerzung\": \"FZS_MYTH\", \"bezeichnung\": \"Mythenquai Unterf\\u00fchrung\", \"total_FUSS\": 390.0, \"total_VELO\": 0.0}, {\"year_month_day_str\": \"2022-03-15\", \"FK_ZAEHLER\": \"U15G3104443\", \"abkuerzung\": \"FZS_MYTH\", \"bezeichnung\": \"Mythenquai Unterf\\u00fchrung\", \"total_FUSS\": 416.0, \"total_VELO\": 0.0}, {\"year_month_day_str\": \"2022-02-02\", \"FK_ZAEHLER\": \"U15G3104443\", \"abkuerzung\": \"FZS_MYTH\", \"bezeichnung\": \"Mythenquai Unterf\\u00fchrung\", \"total_FUSS\": 396.0, \"total_VELO\": 0.0}, {\"year_month_day_str\": \"2022-02-25\", \"FK_ZAEHLER\": \"U15G3104443\", \"abkuerzung\": \"FZS_MYTH\", \"bezeichnung\": \"Mythenquai Unterf\\u00fchrung\", \"total_FUSS\": 413.0, \"total_VELO\": 0.0}, {\"year_month_day_str\": \"2022-01-06\", \"FK_ZAEHLER\": \"U15G3104443\", \"abkuerzung\": \"FZS_MYTH\", \"bezeichnung\": \"Mythenquai Unterf\\u00fchrung\", \"total_FUSS\": 377.0, \"total_VELO\": 0.0}, {\"year_month_day_str\": \"2022-02-19\", \"FK_ZAEHLER\": \"U15G3104443\", \"abkuerzung\": \"FZS_MYTH\", \"bezeichnung\": \"Mythenquai Unterf\\u00fchrung\", \"total_FUSS\": 375.0, \"total_VELO\": 0.0}, {\"year_month_day_str\": \"2022-04-02\", \"FK_ZAEHLER\": \"YSH20124740\", \"abkuerzung\": \"FZS_CASS\", \"bezeichnung\": \"Cassiopeiasteg\", \"total_FUSS\": 404.0, \"total_VELO\": 0.0}, {\"year_month_day_str\": \"2022-03-18\", \"FK_ZAEHLER\": \"U15G3104443\", \"abkuerzung\": \"FZS_MYTH\", \"bezeichnung\": \"Mythenquai Unterf\\u00fchrung\", \"total_FUSS\": 381.0, \"total_VELO\": 0.0}, {\"year_month_day_str\": \"2022-01-10\", \"FK_ZAEHLER\": \"U15G3104443\", \"abkuerzung\": \"FZS_MYTH\", \"bezeichnung\": \"Mythenquai Unterf\\u00fchrung\", \"total_FUSS\": 392.0, \"total_VELO\": 0.0}, {\"year_month_day_str\": \"2022-02-14\", \"FK_ZAEHLER\": \"U15G3104443\", \"abkuerzung\": \"FZS_MYTH\", \"bezeichnung\": \"Mythenquai Unterf\\u00fchrung\", \"total_FUSS\": 389.0, \"total_VELO\": 0.0}, {\"year_month_day_str\": \"2022-02-16\", \"FK_ZAEHLER\": \"YSH20124740\", \"abkuerzung\": \"FZS_CASS\", \"bezeichnung\": \"Cassiopeiasteg\", \"total_FUSS\": 411.0, \"total_VELO\": 0.0}, {\"year_month_day_str\": \"2022-04-25\", \"FK_ZAEHLER\": \"U15G3104443\", \"abkuerzung\": \"FZS_MYTH\", \"bezeichnung\": \"Mythenquai Unterf\\u00fchrung\", \"total_FUSS\": 348.0, \"total_VELO\": 0.0}, {\"year_month_day_str\": \"2022-01-20\", \"FK_ZAEHLER\": \"U15G3104443\", \"abkuerzung\": \"FZS_MYTH\", \"bezeichnung\": \"Mythenquai Unterf\\u00fchrung\", \"total_FUSS\": 345.0, \"total_VELO\": 0.0}, {\"year_month_day_str\": \"2022-03-31\", \"FK_ZAEHLER\": \"U15G3104443\", \"abkuerzung\": \"FZS_MYTH\", \"bezeichnung\": \"Mythenquai Unterf\\u00fchrung\", \"total_FUSS\": 366.0, \"total_VELO\": 0.0}, {\"year_month_day_str\": \"2022-02-22\", \"FK_ZAEHLER\": \"U15G3104443\", \"abkuerzung\": \"FZS_MYTH\", \"bezeichnung\": \"Mythenquai Unterf\\u00fchrung\", \"total_FUSS\": 327.0, \"total_VELO\": 0.0}, {\"year_month_day_str\": \"2022-04-02\", \"FK_ZAEHLER\": \"U15G3104443\", \"abkuerzung\": \"FZS_MYTH\", \"bezeichnung\": \"Mythenquai Unterf\\u00fchrung\", \"total_FUSS\": 336.0, \"total_VELO\": 0.0}, {\"year_month_day_str\": \"2022-02-21\", \"FK_ZAEHLER\": \"YSH20124740\", \"abkuerzung\": \"FZS_CASS\", \"bezeichnung\": \"Cassiopeiasteg\", \"total_FUSS\": 346.0, \"total_VELO\": 0.0}, {\"year_month_day_str\": \"2022-02-15\", \"FK_ZAEHLER\": \"U15G3104443\", \"abkuerzung\": \"FZS_MYTH\", \"bezeichnung\": \"Mythenquai Unterf\\u00fchrung\", \"total_FUSS\": 315.0, \"total_VELO\": 0.0}, {\"year_month_day_str\": \"2022-02-01\", \"FK_ZAEHLER\": \"U15G3104443\", \"abkuerzung\": \"FZS_MYTH\", \"bezeichnung\": \"Mythenquai Unterf\\u00fchrung\", \"total_FUSS\": 318.0, \"total_VELO\": 0.0}, {\"year_month_day_str\": \"2022-02-17\", \"FK_ZAEHLER\": \"U15G3104443\", \"abkuerzung\": \"FZS_MYTH\", \"bezeichnung\": \"Mythenquai Unterf\\u00fchrung\", \"total_FUSS\": 315.0, \"total_VELO\": 0.0}, {\"year_month_day_str\": \"2022-02-16\", \"FK_ZAEHLER\": \"U15G3104443\", \"abkuerzung\": \"FZS_MYTH\", \"bezeichnung\": \"Mythenquai Unterf\\u00fchrung\", \"total_FUSS\": 299.0, \"total_VELO\": 0.0}, {\"year_month_day_str\": \"2022-04-01\", \"FK_ZAEHLER\": \"U15G3104443\", \"abkuerzung\": \"FZS_MYTH\", \"bezeichnung\": \"Mythenquai Unterf\\u00fchrung\", \"total_FUSS\": 287.0, \"total_VELO\": 0.0}, {\"year_month_day_str\": \"2022-01-31\", \"FK_ZAEHLER\": \"U15G3104443\", \"abkuerzung\": \"FZS_MYTH\", \"bezeichnung\": \"Mythenquai Unterf\\u00fchrung\", \"total_FUSS\": 253.0, \"total_VELO\": 0.0}, {\"year_month_day_str\": \"2022-02-21\", \"FK_ZAEHLER\": \"U15G3104443\", \"abkuerzung\": \"FZS_MYTH\", \"bezeichnung\": \"Mythenquai Unterf\\u00fchrung\", \"total_FUSS\": 272.0, \"total_VELO\": 0.0}, {\"year_month_day_str\": \"2022-04-01\", \"FK_ZAEHLER\": \"YSH20124740\", \"abkuerzung\": \"FZS_CASS\", \"bezeichnung\": \"Cassiopeiasteg\", \"total_FUSS\": 266.0, \"total_VELO\": 0.0}, {\"year_month_day_str\": \"2022-01-31\", \"FK_ZAEHLER\": \"YSH20124740\", \"abkuerzung\": \"FZS_CASS\", \"bezeichnung\": \"Cassiopeiasteg\", \"total_FUSS\": 275.0, \"total_VELO\": 0.0}]}}, {\"mode\": \"vega-lite\"});\n",
       "</script>"
      ],
      "text/plain": [
       "alt.LayerChart(...)"
      ]
     },
     "execution_count": 189,
     "metadata": {},
     "output_type": "execute_result"
    }
   ],
   "source": [
    "myTitle=\"Stundensummen nach Zählstelle\"\n",
    "\n",
    "highlight = alt.selection(type='single', on='mouseover',fields=['bezeichnung'], nearest=True)\n",
    "\n",
    "base = alt.Chart(myAgg2[['year_month_day_str', 'FK_ZAEHLER', 'abkuerzung', 'bezeichnung','total_FUSS','total_VELO']], title=myTitle).mark_line(strokeWidth=0.8).encode(\n",
    "    x=alt.X('year_month_day_str:T', axis=alt.Axis(format='', title='Datum'))\n",
    "    , y=alt.X('total_FUSS:Q', axis=alt.Axis(title='Anzahl Passanten'))\n",
    "    , color=alt.Color('bezeichnung:N', legend=alt.Legend(title=\"Zonen\", orient=\"right\"))    \n",
    "    , tooltip=['year_month_day_str', 'FK_ZAEHLER', 'abkuerzung', 'bezeichnung','total_FUSS','total_VELO']       \n",
    ")\n",
    "points = base.mark_circle().encode(\n",
    "    opacity=alt.value(0.4)\n",
    ").add_selection(\n",
    "    highlight\n",
    ").properties(\n",
    "    width=750 , height=350\n",
    ")\n",
    "lines = base.mark_line().encode(\n",
    "    size=alt.condition(~highlight, alt.value(0.7), alt.value(2))\n",
    ").interactive()\n",
    "\n",
    "lines + points"
   ]
  },
  {
   "cell_type": "markdown",
   "metadata": {},
   "source": [
    "#### Monats-und Tagessummen aller Zählstellen"
   ]
  },
  {
   "cell_type": "code",
   "execution_count": 191,
   "metadata": {},
   "outputs": [],
   "source": [
    "#df_data2betested.columns"
   ]
  },
  {
   "cell_type": "code",
   "execution_count": 192,
   "metadata": {},
   "outputs": [
    {
     "data": {
      "text/html": [
       "<div>\n",
       "<style scoped>\n",
       "    .dataframe tbody tr th:only-of-type {\n",
       "        vertical-align: middle;\n",
       "    }\n",
       "\n",
       "    .dataframe tbody tr th {\n",
       "        vertical-align: top;\n",
       "    }\n",
       "\n",
       "    .dataframe thead th {\n",
       "        text-align: right;\n",
       "    }\n",
       "</style>\n",
       "<table border=\"1\" class=\"dataframe\">\n",
       "  <thead>\n",
       "    <tr style=\"text-align: right;\">\n",
       "      <th></th>\n",
       "      <th>FK_STANDORT</th>\n",
       "      <th>VELO_IN</th>\n",
       "      <th>VELO_OUT</th>\n",
       "      <th>FUSS_IN</th>\n",
       "      <th>FUSS_OUT</th>\n",
       "      <th>OST</th>\n",
       "      <th>NORD</th>\n",
       "      <th>korrekturfaktor</th>\n",
       "      <th>objectid</th>\n",
       "      <th>year_nr</th>\n",
       "      <th>month_nr</th>\n",
       "      <th>day_nr</th>\n",
       "      <th>hour_nr</th>\n",
       "    </tr>\n",
       "    <tr>\n",
       "      <th>DATUM</th>\n",
       "      <th></th>\n",
       "      <th></th>\n",
       "      <th></th>\n",
       "      <th></th>\n",
       "      <th></th>\n",
       "      <th></th>\n",
       "      <th></th>\n",
       "      <th></th>\n",
       "      <th></th>\n",
       "      <th></th>\n",
       "      <th></th>\n",
       "      <th></th>\n",
       "      <th></th>\n",
       "    </tr>\n",
       "  </thead>\n",
       "  <tbody>\n",
       "    <tr>\n",
       "      <th>2022-01-01</th>\n",
       "      <td>8637600</td>\n",
       "      <td>5474.0</td>\n",
       "      <td>3446.0</td>\n",
       "      <td>12240.0</td>\n",
       "      <td>11379.0</td>\n",
       "      <td>8498146656</td>\n",
       "      <td>3956282304</td>\n",
       "      <td>3353.3</td>\n",
       "      <td>309984.0</td>\n",
       "      <td>6405696</td>\n",
       "      <td>3168</td>\n",
       "      <td>3168</td>\n",
       "      <td>36432</td>\n",
       "    </tr>\n",
       "    <tr>\n",
       "      <th>2022-01-02</th>\n",
       "      <td>8637600</td>\n",
       "      <td>5751.0</td>\n",
       "      <td>3623.0</td>\n",
       "      <td>12286.0</td>\n",
       "      <td>10380.0</td>\n",
       "      <td>8498146656</td>\n",
       "      <td>3956282304</td>\n",
       "      <td>3353.3</td>\n",
       "      <td>309984.0</td>\n",
       "      <td>6405696</td>\n",
       "      <td>3168</td>\n",
       "      <td>6336</td>\n",
       "      <td>36432</td>\n",
       "    </tr>\n",
       "  </tbody>\n",
       "</table>\n",
       "</div>"
      ],
      "text/plain": [
       "            FK_STANDORT  VELO_IN  VELO_OUT  FUSS_IN  FUSS_OUT         OST        NORD  \\\n",
       "DATUM                                                                                   \n",
       "2022-01-01      8637600   5474.0    3446.0  12240.0   11379.0  8498146656  3956282304   \n",
       "2022-01-02      8637600   5751.0    3623.0  12286.0   10380.0  8498146656  3956282304   \n",
       "\n",
       "            korrekturfaktor  objectid  year_nr  month_nr  day_nr  hour_nr  \n",
       "DATUM                                                                      \n",
       "2022-01-01           3353.3  309984.0  6405696      3168    3168    36432  \n",
       "2022-01-02           3353.3  309984.0  6405696      3168    6336    36432  "
      ]
     },
     "execution_count": 192,
     "metadata": {},
     "output_type": "execute_result"
    }
   ],
   "source": [
    "df_day_medians = df_data2betested.loc[\"2022-01-01 00:00\":date_today].resample(\"D\").median()\n",
    "df_day_sums = df_data2betested.loc[\"2022-01-01 00:00\":date_today].resample(\"D\").sum()\n",
    "df_month_medians = df_data2betested.loc[\"2022-01-01 00:00\":date_today].resample(\"M\").median()\n",
    "df_month_sums = df_data2betested.loc[\"2022-01-01 00:00\":date_today].resample(\"M\").sum()\n",
    "df_month_sums[['VELO_IN', 'VELO_OUT', 'FUSS_IN', 'FUSS_OUT']]\n",
    "df_day_sums.head(2)"
   ]
  },
  {
   "cell_type": "code",
   "execution_count": 193,
   "metadata": {},
   "outputs": [
    {
     "data": {
      "text/html": [
       "\n",
       "<div id=\"altair-viz-721f8741dd4b4a2eae1645b56232591a\"></div>\n",
       "<script type=\"text/javascript\">\n",
       "  (function(spec, embedOpt){\n",
       "    let outputDiv = document.currentScript.previousElementSibling;\n",
       "    if (outputDiv.id !== \"altair-viz-721f8741dd4b4a2eae1645b56232591a\") {\n",
       "      outputDiv = document.getElementById(\"altair-viz-721f8741dd4b4a2eae1645b56232591a\");\n",
       "    }\n",
       "    const paths = {\n",
       "      \"vega\": \"https://cdn.jsdelivr.net/npm//vega@5?noext\",\n",
       "      \"vega-lib\": \"https://cdn.jsdelivr.net/npm//vega-lib?noext\",\n",
       "      \"vega-lite\": \"https://cdn.jsdelivr.net/npm//vega-lite@4.8.1?noext\",\n",
       "      \"vega-embed\": \"https://cdn.jsdelivr.net/npm//vega-embed@6?noext\",\n",
       "    };\n",
       "\n",
       "    function loadScript(lib) {\n",
       "      return new Promise(function(resolve, reject) {\n",
       "        var s = document.createElement('script');\n",
       "        s.src = paths[lib];\n",
       "        s.async = true;\n",
       "        s.onload = () => resolve(paths[lib]);\n",
       "        s.onerror = () => reject(`Error loading script: ${paths[lib]}`);\n",
       "        document.getElementsByTagName(\"head\")[0].appendChild(s);\n",
       "      });\n",
       "    }\n",
       "\n",
       "    function showError(err) {\n",
       "      outputDiv.innerHTML = `<div class=\"error\" style=\"color:red;\">${err}</div>`;\n",
       "      throw err;\n",
       "    }\n",
       "\n",
       "    function displayChart(vegaEmbed) {\n",
       "      vegaEmbed(outputDiv, spec, embedOpt)\n",
       "        .catch(err => showError(`Javascript Error: ${err.message}<br>This usually means there's a typo in your chart specification. See the javascript console for the full traceback.`));\n",
       "    }\n",
       "\n",
       "    if(typeof define === \"function\" && define.amd) {\n",
       "      requirejs.config({paths});\n",
       "      require([\"vega-embed\"], displayChart, err => showError(`Error loading script: ${err.message}`));\n",
       "    } else if (typeof vegaEmbed === \"function\") {\n",
       "      displayChart(vegaEmbed);\n",
       "    } else {\n",
       "      loadScript(\"vega\")\n",
       "        .then(() => loadScript(\"vega-lite\"))\n",
       "        .then(() => loadScript(\"vega-embed\"))\n",
       "        .catch(showError)\n",
       "        .then(() => displayChart(vegaEmbed));\n",
       "    }\n",
       "  })({\"config\": {\"view\": {\"continuousWidth\": 400, \"continuousHeight\": 300}}, \"vconcat\": [{\"data\": {\"name\": \"data-d8944ac4aef0830e7e12d01adefe63c9\"}, \"mark\": {\"type\": \"area\", \"interpolate\": \"basis\"}, \"encoding\": {\"color\": {\"type\": \"nominal\", \"field\": \"variable\"}, \"x\": {\"type\": \"temporal\", \"axis\": null, \"field\": \"DATUM\"}, \"y\": {\"type\": \"quantitative\", \"axis\": null, \"field\": \"value\"}}, \"height\": 50, \"selection\": {\"selector046\": {\"type\": \"interval\", \"encodings\": [\"x\"]}}, \"width\": 800}, {\"data\": {\"name\": \"data-9241a99d7a8f95eb91ecc9d412e87182\"}, \"mark\": {\"type\": \"line\", \"strokeWidth\": 1}, \"encoding\": {\"color\": {\"type\": \"nominal\", \"field\": \"variable\"}, \"x\": {\"type\": \"temporal\", \"field\": \"DATUM\", \"scale\": {\"domain\": {\"selection\": \"selector046\"}}}, \"y\": {\"type\": \"quantitative\", \"field\": \"value\"}}, \"height\": 300, \"width\": 800}], \"$schema\": \"https://vega.github.io/schema/vega-lite/v4.8.1.json\", \"datasets\": {\"data-d8944ac4aef0830e7e12d01adefe63c9\": [{\"DATUM\": \"2022-01-31T00:00:00\", \"variable\": \"VELO_IN\", \"value\": 336799.0}, {\"DATUM\": \"2022-02-28T00:00:00\", \"variable\": \"VELO_IN\", \"value\": 331929.0}, {\"DATUM\": \"2022-03-31T00:00:00\", \"variable\": \"VELO_IN\", \"value\": 592045.0}, {\"DATUM\": \"2022-04-30T00:00:00\", \"variable\": \"VELO_IN\", \"value\": 487262.0}, {\"DATUM\": \"2022-05-31T00:00:00\", \"variable\": \"VELO_IN\", \"value\": 756558.0}, {\"DATUM\": \"2022-06-30T00:00:00\", \"variable\": \"VELO_IN\", \"value\": 730531.0}, {\"DATUM\": \"2022-07-31T00:00:00\", \"variable\": \"VELO_IN\", \"value\": 696806.0}, {\"DATUM\": \"2022-08-31T00:00:00\", \"variable\": \"VELO_IN\", \"value\": 501444.0}, {\"DATUM\": \"2022-01-31T00:00:00\", \"variable\": \"VELO_OUT\", \"value\": 211684.0}, {\"DATUM\": \"2022-02-28T00:00:00\", \"variable\": \"VELO_OUT\", \"value\": 208840.0}, {\"DATUM\": \"2022-03-31T00:00:00\", \"variable\": \"VELO_OUT\", \"value\": 341220.0}, {\"DATUM\": \"2022-04-30T00:00:00\", \"variable\": \"VELO_OUT\", \"value\": 273034.0}, {\"DATUM\": \"2022-05-31T00:00:00\", \"variable\": \"VELO_OUT\", \"value\": 413925.0}, {\"DATUM\": \"2022-06-30T00:00:00\", \"variable\": \"VELO_OUT\", \"value\": 393162.0}, {\"DATUM\": \"2022-07-31T00:00:00\", \"variable\": \"VELO_OUT\", \"value\": 338655.0}, {\"DATUM\": \"2022-08-31T00:00:00\", \"variable\": \"VELO_OUT\", \"value\": 240273.0}, {\"DATUM\": \"2022-01-31T00:00:00\", \"variable\": \"FUSS_IN\", \"value\": 447587.0}, {\"DATUM\": \"2022-02-28T00:00:00\", \"variable\": \"FUSS_IN\", \"value\": 469584.0}, {\"DATUM\": \"2022-03-31T00:00:00\", \"variable\": \"FUSS_IN\", \"value\": 769772.0}, {\"DATUM\": \"2022-04-30T00:00:00\", \"variable\": \"FUSS_IN\", \"value\": 686475.0}, {\"DATUM\": \"2022-05-31T00:00:00\", \"variable\": \"FUSS_IN\", \"value\": 772094.0}, {\"DATUM\": \"2022-06-30T00:00:00\", \"variable\": \"FUSS_IN\", \"value\": 717980.0}, {\"DATUM\": \"2022-07-31T00:00:00\", \"variable\": \"FUSS_IN\", \"value\": 675986.0}, {\"DATUM\": \"2022-08-31T00:00:00\", \"variable\": \"FUSS_IN\", \"value\": 529243.0}, {\"DATUM\": \"2022-01-31T00:00:00\", \"variable\": \"FUSS_OUT\", \"value\": 416052.0}, {\"DATUM\": \"2022-02-28T00:00:00\", \"variable\": \"FUSS_OUT\", \"value\": 434712.0}, {\"DATUM\": \"2022-03-31T00:00:00\", \"variable\": \"FUSS_OUT\", \"value\": 680840.0}, {\"DATUM\": \"2022-04-30T00:00:00\", \"variable\": \"FUSS_OUT\", \"value\": 569485.0}, {\"DATUM\": \"2022-05-31T00:00:00\", \"variable\": \"FUSS_OUT\", \"value\": 643919.0}, {\"DATUM\": \"2022-06-30T00:00:00\", \"variable\": \"FUSS_OUT\", \"value\": 608528.0}, {\"DATUM\": \"2022-07-31T00:00:00\", \"variable\": \"FUSS_OUT\", \"value\": 584497.0}, {\"DATUM\": \"2022-08-31T00:00:00\", \"variable\": \"FUSS_OUT\", \"value\": 464017.0}], \"data-9241a99d7a8f95eb91ecc9d412e87182\": [{\"DATUM\": \"2022-01-01T00:00:00\", \"variable\": \"VELO_IN\", \"value\": 5474.0}, {\"DATUM\": \"2022-01-02T00:00:00\", \"variable\": \"VELO_IN\", \"value\": 5751.0}, {\"DATUM\": \"2022-01-03T00:00:00\", \"variable\": \"VELO_IN\", \"value\": 12482.0}, {\"DATUM\": \"2022-01-04T00:00:00\", \"variable\": \"VELO_IN\", \"value\": 12531.0}, {\"DATUM\": \"2022-01-05T00:00:00\", \"variable\": \"VELO_IN\", \"value\": 10673.0}, {\"DATUM\": \"2022-01-06T00:00:00\", \"variable\": \"VELO_IN\", \"value\": 10401.0}, {\"DATUM\": \"2022-01-07T00:00:00\", \"variable\": \"VELO_IN\", \"value\": 10172.0}, {\"DATUM\": \"2022-01-08T00:00:00\", \"variable\": \"VELO_IN\", \"value\": 7780.0}, {\"DATUM\": \"2022-01-09T00:00:00\", \"variable\": \"VELO_IN\", \"value\": 4615.0}, {\"DATUM\": \"2022-01-10T00:00:00\", \"variable\": \"VELO_IN\", \"value\": 8616.0}, {\"DATUM\": \"2022-01-11T00:00:00\", \"variable\": \"VELO_IN\", \"value\": 12028.0}, {\"DATUM\": \"2022-01-12T00:00:00\", \"variable\": \"VELO_IN\", \"value\": 12522.0}, {\"DATUM\": \"2022-01-13T00:00:00\", \"variable\": \"VELO_IN\", \"value\": 13007.0}, {\"DATUM\": \"2022-01-14T00:00:00\", \"variable\": \"VELO_IN\", \"value\": 12681.0}, {\"DATUM\": \"2022-01-15T00:00:00\", \"variable\": \"VELO_IN\", \"value\": 8179.0}, {\"DATUM\": \"2022-01-16T00:00:00\", \"variable\": \"VELO_IN\", \"value\": 5968.0}, {\"DATUM\": \"2022-01-17T00:00:00\", \"variable\": \"VELO_IN\", \"value\": 13528.0}, {\"DATUM\": \"2022-01-18T00:00:00\", \"variable\": \"VELO_IN\", \"value\": 14354.0}, {\"DATUM\": \"2022-01-19T00:00:00\", \"variable\": \"VELO_IN\", \"value\": 14463.0}, {\"DATUM\": \"2022-01-20T00:00:00\", \"variable\": \"VELO_IN\", \"value\": 12780.0}, {\"DATUM\": \"2022-01-21T00:00:00\", \"variable\": \"VELO_IN\", \"value\": 13810.0}, {\"DATUM\": \"2022-01-22T00:00:00\", \"variable\": \"VELO_IN\", \"value\": 9429.0}, {\"DATUM\": \"2022-01-23T00:00:00\", \"variable\": \"VELO_IN\", \"value\": 6604.0}, {\"DATUM\": \"2022-01-24T00:00:00\", \"variable\": \"VELO_IN\", \"value\": 12994.0}, {\"DATUM\": \"2022-01-25T00:00:00\", \"variable\": \"VELO_IN\", \"value\": 14858.0}, {\"DATUM\": \"2022-01-26T00:00:00\", \"variable\": \"VELO_IN\", \"value\": 14673.0}, {\"DATUM\": \"2022-01-27T00:00:00\", \"variable\": \"VELO_IN\", \"value\": 14387.0}, {\"DATUM\": \"2022-01-28T00:00:00\", \"variable\": \"VELO_IN\", \"value\": 14150.0}, {\"DATUM\": \"2022-01-29T00:00:00\", \"variable\": \"VELO_IN\", \"value\": 10403.0}, {\"DATUM\": \"2022-01-30T00:00:00\", \"variable\": \"VELO_IN\", \"value\": 7309.0}, {\"DATUM\": \"2022-01-31T00:00:00\", \"variable\": \"VELO_IN\", \"value\": 10177.0}, {\"DATUM\": \"2022-02-01T00:00:00\", \"variable\": \"VELO_IN\", \"value\": 10031.0}, {\"DATUM\": \"2022-02-02T00:00:00\", \"variable\": \"VELO_IN\", \"value\": 10553.0}, {\"DATUM\": \"2022-02-03T00:00:00\", \"variable\": \"VELO_IN\", \"value\": 14485.0}, {\"DATUM\": \"2022-02-04T00:00:00\", \"variable\": \"VELO_IN\", \"value\": 14170.0}, {\"DATUM\": \"2022-02-05T00:00:00\", \"variable\": \"VELO_IN\", \"value\": 11068.0}, {\"DATUM\": \"2022-02-06T00:00:00\", \"variable\": \"VELO_IN\", \"value\": 5387.0}, {\"DATUM\": \"2022-02-07T00:00:00\", \"variable\": \"VELO_IN\", \"value\": 13136.0}, {\"DATUM\": \"2022-02-08T00:00:00\", \"variable\": \"VELO_IN\", \"value\": 15955.0}, {\"DATUM\": \"2022-02-09T00:00:00\", \"variable\": \"VELO_IN\", \"value\": 16819.0}, {\"DATUM\": \"2022-02-10T00:00:00\", \"variable\": \"VELO_IN\", \"value\": 17313.0}, {\"DATUM\": \"2022-02-11T00:00:00\", \"variable\": \"VELO_IN\", \"value\": 12386.0}, {\"DATUM\": \"2022-02-12T00:00:00\", \"variable\": \"VELO_IN\", \"value\": 10131.0}, {\"DATUM\": \"2022-02-13T00:00:00\", \"variable\": \"VELO_IN\", \"value\": 7986.0}, {\"DATUM\": \"2022-02-14T00:00:00\", \"variable\": \"VELO_IN\", \"value\": 11369.0}, {\"DATUM\": \"2022-02-15T00:00:00\", \"variable\": \"VELO_IN\", \"value\": 10958.0}, {\"DATUM\": \"2022-02-16T00:00:00\", \"variable\": \"VELO_IN\", \"value\": 9262.0}, {\"DATUM\": \"2022-02-17T00:00:00\", \"variable\": \"VELO_IN\", \"value\": 10925.0}, {\"DATUM\": \"2022-02-18T00:00:00\", \"variable\": \"VELO_IN\", \"value\": 12788.0}, {\"DATUM\": \"2022-02-19T00:00:00\", \"variable\": \"VELO_IN\", \"value\": 8404.0}, {\"DATUM\": \"2022-02-20T00:00:00\", \"variable\": \"VELO_IN\", \"value\": 6898.0}, {\"DATUM\": \"2022-02-21T00:00:00\", \"variable\": \"VELO_IN\", \"value\": 8293.0}, {\"DATUM\": \"2022-02-22T00:00:00\", \"variable\": \"VELO_IN\", \"value\": 12069.0}, {\"DATUM\": \"2022-02-23T00:00:00\", \"variable\": \"VELO_IN\", \"value\": 14950.0}, {\"DATUM\": \"2022-02-24T00:00:00\", \"variable\": \"VELO_IN\", \"value\": 15804.0}, {\"DATUM\": \"2022-02-25T00:00:00\", \"variable\": \"VELO_IN\", \"value\": 14519.0}, {\"DATUM\": \"2022-02-26T00:00:00\", \"variable\": \"VELO_IN\", \"value\": 10172.0}, {\"DATUM\": \"2022-02-27T00:00:00\", \"variable\": \"VELO_IN\", \"value\": 8502.0}, {\"DATUM\": \"2022-02-28T00:00:00\", \"variable\": \"VELO_IN\", \"value\": 17596.0}, {\"DATUM\": \"2022-03-01T00:00:00\", \"variable\": \"VELO_IN\", \"value\": 18925.0}, {\"DATUM\": \"2022-03-02T00:00:00\", \"variable\": \"VELO_IN\", \"value\": 18814.0}, {\"DATUM\": \"2022-03-03T00:00:00\", \"variable\": \"VELO_IN\", \"value\": 20049.0}, {\"DATUM\": \"2022-03-04T00:00:00\", \"variable\": \"VELO_IN\", \"value\": 20123.0}, {\"DATUM\": \"2022-03-05T00:00:00\", \"variable\": \"VELO_IN\", \"value\": 14346.0}, {\"DATUM\": \"2022-03-06T00:00:00\", \"variable\": \"VELO_IN\", \"value\": 9249.0}, {\"DATUM\": \"2022-03-07T00:00:00\", \"variable\": \"VELO_IN\", \"value\": 18833.0}, {\"DATUM\": \"2022-03-08T00:00:00\", \"variable\": \"VELO_IN\", \"value\": 20354.0}, {\"DATUM\": \"2022-03-09T00:00:00\", \"variable\": \"VELO_IN\", \"value\": 21293.0}, {\"DATUM\": \"2022-03-10T00:00:00\", \"variable\": \"VELO_IN\", \"value\": 22229.0}, {\"DATUM\": \"2022-03-11T00:00:00\", \"variable\": \"VELO_IN\", \"value\": 20485.0}, {\"DATUM\": \"2022-03-12T00:00:00\", \"variable\": \"VELO_IN\", \"value\": 15016.0}, {\"DATUM\": \"2022-03-13T00:00:00\", \"variable\": \"VELO_IN\", \"value\": 12479.0}, {\"DATUM\": \"2022-03-14T00:00:00\", \"variable\": \"VELO_IN\", \"value\": 21772.0}, {\"DATUM\": \"2022-03-15T00:00:00\", \"variable\": \"VELO_IN\", \"value\": 17237.0}, {\"DATUM\": \"2022-03-16T00:00:00\", \"variable\": \"VELO_IN\", \"value\": 23473.0}, {\"DATUM\": \"2022-03-17T00:00:00\", \"variable\": \"VELO_IN\", \"value\": 22144.0}, {\"DATUM\": \"2022-03-18T00:00:00\", \"variable\": \"VELO_IN\", \"value\": 17267.0}, {\"DATUM\": \"2022-03-19T00:00:00\", \"variable\": \"VELO_IN\", \"value\": 15991.0}, {\"DATUM\": \"2022-03-20T00:00:00\", \"variable\": \"VELO_IN\", \"value\": 12883.0}, {\"DATUM\": \"2022-03-21T00:00:00\", \"variable\": \"VELO_IN\", \"value\": 21633.0}, {\"DATUM\": \"2022-03-22T00:00:00\", \"variable\": \"VELO_IN\", \"value\": 24828.0}, {\"DATUM\": \"2022-03-23T00:00:00\", \"variable\": \"VELO_IN\", \"value\": 23777.0}, {\"DATUM\": \"2022-03-24T00:00:00\", \"variable\": \"VELO_IN\", \"value\": 24323.0}, {\"DATUM\": \"2022-03-25T00:00:00\", \"variable\": \"VELO_IN\", \"value\": 24462.0}, {\"DATUM\": \"2022-03-26T00:00:00\", \"variable\": \"VELO_IN\", \"value\": 18915.0}, {\"DATUM\": \"2022-03-27T00:00:00\", \"variable\": \"VELO_IN\", \"value\": 14228.0}, {\"DATUM\": \"2022-03-28T00:00:00\", \"variable\": \"VELO_IN\", \"value\": 23038.0}, {\"DATUM\": \"2022-03-29T00:00:00\", \"variable\": \"VELO_IN\", \"value\": 23628.0}, {\"DATUM\": \"2022-03-30T00:00:00\", \"variable\": \"VELO_IN\", \"value\": 15322.0}, {\"DATUM\": \"2022-03-31T00:00:00\", \"variable\": \"VELO_IN\", \"value\": 14929.0}, {\"DATUM\": \"2022-04-01T00:00:00\", \"variable\": \"VELO_IN\", \"value\": 8851.0}, {\"DATUM\": \"2022-04-02T00:00:00\", \"variable\": \"VELO_IN\", \"value\": 5033.0}, {\"DATUM\": \"2022-04-03T00:00:00\", \"variable\": \"VELO_IN\", \"value\": 5596.0}, {\"DATUM\": \"2022-04-04T00:00:00\", \"variable\": \"VELO_IN\", \"value\": 17362.0}, {\"DATUM\": \"2022-04-05T00:00:00\", \"variable\": \"VELO_IN\", \"value\": 18792.0}, {\"DATUM\": \"2022-04-06T00:00:00\", \"variable\": \"VELO_IN\", \"value\": 21129.0}, {\"DATUM\": \"2022-04-07T00:00:00\", \"variable\": \"VELO_IN\", \"value\": 16591.0}, {\"DATUM\": \"2022-04-08T00:00:00\", \"variable\": \"VELO_IN\", \"value\": 12087.0}, {\"DATUM\": \"2022-04-09T00:00:00\", \"variable\": \"VELO_IN\", \"value\": 12648.0}, {\"DATUM\": \"2022-04-10T00:00:00\", \"variable\": \"VELO_IN\", \"value\": 10830.0}, {\"DATUM\": \"2022-04-11T00:00:00\", \"variable\": \"VELO_IN\", \"value\": 22514.0}, {\"DATUM\": \"2022-04-12T00:00:00\", \"variable\": \"VELO_IN\", \"value\": 25962.0}, {\"DATUM\": \"2022-04-13T00:00:00\", \"variable\": \"VELO_IN\", \"value\": 26065.0}, {\"DATUM\": \"2022-04-14T00:00:00\", \"variable\": \"VELO_IN\", \"value\": 23506.0}, {\"DATUM\": \"2022-04-15T00:00:00\", \"variable\": \"VELO_IN\", \"value\": 11624.0}, {\"DATUM\": \"2022-04-16T00:00:00\", \"variable\": \"VELO_IN\", \"value\": 11324.0}, {\"DATUM\": \"2022-04-17T00:00:00\", \"variable\": \"VELO_IN\", \"value\": 8427.0}, {\"DATUM\": \"2022-04-18T00:00:00\", \"variable\": \"VELO_IN\", \"value\": 11094.0}, {\"DATUM\": \"2022-04-19T00:00:00\", \"variable\": \"VELO_IN\", \"value\": 20287.0}, {\"DATUM\": \"2022-04-20T00:00:00\", \"variable\": \"VELO_IN\", \"value\": 21608.0}, {\"DATUM\": \"2022-04-21T00:00:00\", \"variable\": \"VELO_IN\", \"value\": 22439.0}, {\"DATUM\": \"2022-04-22T00:00:00\", \"variable\": \"VELO_IN\", \"value\": 20875.0}, {\"DATUM\": \"2022-04-23T00:00:00\", \"variable\": \"VELO_IN\", \"value\": 15030.0}, {\"DATUM\": \"2022-04-24T00:00:00\", \"variable\": \"VELO_IN\", \"value\": 6523.0}, {\"DATUM\": \"2022-04-25T00:00:00\", \"variable\": \"VELO_IN\", \"value\": 10519.0}, {\"DATUM\": \"2022-04-26T00:00:00\", \"variable\": \"VELO_IN\", \"value\": 13742.0}, {\"DATUM\": \"2022-04-27T00:00:00\", \"variable\": \"VELO_IN\", \"value\": 23562.0}, {\"DATUM\": \"2022-04-28T00:00:00\", \"variable\": \"VELO_IN\", \"value\": 25206.0}, {\"DATUM\": \"2022-04-29T00:00:00\", \"variable\": \"VELO_IN\", \"value\": 25887.0}, {\"DATUM\": \"2022-04-30T00:00:00\", \"variable\": \"VELO_IN\", \"value\": 12149.0}, {\"DATUM\": \"2022-05-01T00:00:00\", \"variable\": \"VELO_IN\", \"value\": 14467.0}, {\"DATUM\": \"2022-05-02T00:00:00\", \"variable\": \"VELO_IN\", \"value\": 26186.0}, {\"DATUM\": \"2022-05-03T00:00:00\", \"variable\": \"VELO_IN\", \"value\": 25726.0}, {\"DATUM\": \"2022-05-04T00:00:00\", \"variable\": \"VELO_IN\", \"value\": 25064.0}, {\"DATUM\": \"2022-05-05T00:00:00\", \"variable\": \"VELO_IN\", \"value\": 16882.0}, {\"DATUM\": \"2022-05-06T00:00:00\", \"variable\": \"VELO_IN\", \"value\": 15856.0}, {\"DATUM\": \"2022-05-07T00:00:00\", \"variable\": \"VELO_IN\", \"value\": 15804.0}, {\"DATUM\": \"2022-05-08T00:00:00\", \"variable\": \"VELO_IN\", \"value\": 11962.0}, {\"DATUM\": \"2022-05-09T00:00:00\", \"variable\": \"VELO_IN\", \"value\": 27927.0}, {\"DATUM\": \"2022-05-10T00:00:00\", \"variable\": \"VELO_IN\", \"value\": 33425.0}, {\"DATUM\": \"2022-05-11T00:00:00\", \"variable\": \"VELO_IN\", \"value\": 35219.0}, {\"DATUM\": \"2022-05-12T00:00:00\", \"variable\": \"VELO_IN\", \"value\": 32323.0}, {\"DATUM\": \"2022-05-13T00:00:00\", \"variable\": \"VELO_IN\", \"value\": 24401.0}, {\"DATUM\": \"2022-05-14T00:00:00\", \"variable\": \"VELO_IN\", \"value\": 24235.0}, {\"DATUM\": \"2022-05-15T00:00:00\", \"variable\": \"VELO_IN\", \"value\": 19944.0}, {\"DATUM\": \"2022-05-16T00:00:00\", \"variable\": \"VELO_IN\", \"value\": 28778.0}, {\"DATUM\": \"2022-05-17T00:00:00\", \"variable\": \"VELO_IN\", \"value\": 35401.0}, {\"DATUM\": \"2022-05-18T00:00:00\", \"variable\": \"VELO_IN\", \"value\": 36163.0}, {\"DATUM\": \"2022-05-19T00:00:00\", \"variable\": \"VELO_IN\", \"value\": 33921.0}, {\"DATUM\": \"2022-05-20T00:00:00\", \"variable\": \"VELO_IN\", \"value\": 33436.0}, {\"DATUM\": \"2022-05-21T00:00:00\", \"variable\": \"VELO_IN\", \"value\": 22920.0}, {\"DATUM\": \"2022-05-22T00:00:00\", \"variable\": \"VELO_IN\", \"value\": 17244.0}, {\"DATUM\": \"2022-05-23T00:00:00\", \"variable\": \"VELO_IN\", \"value\": 22147.0}, {\"DATUM\": \"2022-05-24T00:00:00\", \"variable\": \"VELO_IN\", \"value\": 20817.0}, {\"DATUM\": \"2022-05-25T00:00:00\", \"variable\": \"VELO_IN\", \"value\": 28227.0}, {\"DATUM\": \"2022-05-26T00:00:00\", \"variable\": \"VELO_IN\", \"value\": 18264.0}, {\"DATUM\": \"2022-05-27T00:00:00\", \"variable\": \"VELO_IN\", \"value\": 24117.0}, {\"DATUM\": \"2022-05-28T00:00:00\", \"variable\": \"VELO_IN\", \"value\": 17421.0}, {\"DATUM\": \"2022-05-29T00:00:00\", \"variable\": \"VELO_IN\", \"value\": 13002.0}, {\"DATUM\": \"2022-05-30T00:00:00\", \"variable\": \"VELO_IN\", \"value\": 28779.0}, {\"DATUM\": \"2022-05-31T00:00:00\", \"variable\": \"VELO_IN\", \"value\": 26500.0}, {\"DATUM\": \"2022-06-01T00:00:00\", \"variable\": \"VELO_IN\", \"value\": 25839.0}, {\"DATUM\": \"2022-06-02T00:00:00\", \"variable\": \"VELO_IN\", \"value\": 30226.0}, {\"DATUM\": \"2022-06-03T00:00:00\", \"variable\": \"VELO_IN\", \"value\": 24178.0}, {\"DATUM\": \"2022-06-04T00:00:00\", \"variable\": \"VELO_IN\", \"value\": 20789.0}, {\"DATUM\": \"2022-06-05T00:00:00\", \"variable\": \"VELO_IN\", \"value\": 7839.0}, {\"DATUM\": \"2022-06-06T00:00:00\", \"variable\": \"VELO_IN\", \"value\": 15309.0}, {\"DATUM\": \"2022-06-07T00:00:00\", \"variable\": \"VELO_IN\", \"value\": 19919.0}, {\"DATUM\": \"2022-06-08T00:00:00\", \"variable\": \"VELO_IN\", \"value\": 25117.0}, {\"DATUM\": \"2022-06-09T00:00:00\", \"variable\": \"VELO_IN\", \"value\": 22146.0}, {\"DATUM\": \"2022-06-10T00:00:00\", \"variable\": \"VELO_IN\", \"value\": 28250.0}, {\"DATUM\": \"2022-06-11T00:00:00\", \"variable\": \"VELO_IN\", \"value\": 23918.0}, {\"DATUM\": \"2022-06-12T00:00:00\", \"variable\": \"VELO_IN\", \"value\": 19036.0}, {\"DATUM\": \"2022-06-13T00:00:00\", \"variable\": \"VELO_IN\", \"value\": 25436.0}, {\"DATUM\": \"2022-06-14T00:00:00\", \"variable\": \"VELO_IN\", \"value\": 34402.0}, {\"DATUM\": \"2022-06-15T00:00:00\", \"variable\": \"VELO_IN\", \"value\": 33910.0}, {\"DATUM\": \"2022-06-16T00:00:00\", \"variable\": \"VELO_IN\", \"value\": 34528.0}, {\"DATUM\": \"2022-06-17T00:00:00\", \"variable\": \"VELO_IN\", \"value\": 32028.0}, {\"DATUM\": \"2022-06-18T00:00:00\", \"variable\": \"VELO_IN\", \"value\": 23853.0}, {\"DATUM\": \"2022-06-19T00:00:00\", \"variable\": \"VELO_IN\", \"value\": 17611.0}, {\"DATUM\": \"2022-06-20T00:00:00\", \"variable\": \"VELO_IN\", \"value\": 28900.0}, {\"DATUM\": \"2022-06-21T00:00:00\", \"variable\": \"VELO_IN\", \"value\": 30474.0}, {\"DATUM\": \"2022-06-22T00:00:00\", \"variable\": \"VELO_IN\", \"value\": 21572.0}, {\"DATUM\": \"2022-06-23T00:00:00\", \"variable\": \"VELO_IN\", \"value\": 26580.0}, {\"DATUM\": \"2022-06-24T00:00:00\", \"variable\": \"VELO_IN\", \"value\": 17673.0}, {\"DATUM\": \"2022-06-25T00:00:00\", \"variable\": \"VELO_IN\", \"value\": 22655.0}, {\"DATUM\": \"2022-06-26T00:00:00\", \"variable\": \"VELO_IN\", \"value\": 17890.0}, {\"DATUM\": \"2022-06-27T00:00:00\", \"variable\": \"VELO_IN\", \"value\": 21232.0}, {\"DATUM\": \"2022-06-28T00:00:00\", \"variable\": \"VELO_IN\", \"value\": 21801.0}, {\"DATUM\": \"2022-06-29T00:00:00\", \"variable\": \"VELO_IN\", \"value\": 30091.0}, {\"DATUM\": \"2022-06-30T00:00:00\", \"variable\": \"VELO_IN\", \"value\": 27329.0}, {\"DATUM\": \"2022-07-01T00:00:00\", \"variable\": \"VELO_IN\", \"value\": 17849.0}, {\"DATUM\": \"2022-07-02T00:00:00\", \"variable\": \"VELO_IN\", \"value\": 21115.0}, {\"DATUM\": \"2022-07-03T00:00:00\", \"variable\": \"VELO_IN\", \"value\": 16852.0}, {\"DATUM\": \"2022-07-04T00:00:00\", \"variable\": \"VELO_IN\", \"value\": 19275.0}, {\"DATUM\": \"2022-07-05T00:00:00\", \"variable\": \"VELO_IN\", \"value\": 29438.0}, {\"DATUM\": \"2022-07-06T00:00:00\", \"variable\": \"VELO_IN\", \"value\": 30549.0}, {\"DATUM\": \"2022-07-07T00:00:00\", \"variable\": \"VELO_IN\", \"value\": 29156.0}, {\"DATUM\": \"2022-07-08T00:00:00\", \"variable\": \"VELO_IN\", \"value\": 27213.0}, {\"DATUM\": \"2022-07-09T00:00:00\", \"variable\": \"VELO_IN\", \"value\": 21416.0}, {\"DATUM\": \"2022-07-10T00:00:00\", \"variable\": \"VELO_IN\", \"value\": 15484.0}, {\"DATUM\": \"2022-07-11T00:00:00\", \"variable\": \"VELO_IN\", \"value\": 28253.0}, {\"DATUM\": \"2022-07-12T00:00:00\", \"variable\": \"VELO_IN\", \"value\": 31951.0}, {\"DATUM\": \"2022-07-13T00:00:00\", \"variable\": \"VELO_IN\", \"value\": 31088.0}, {\"DATUM\": \"2022-07-14T00:00:00\", \"variable\": \"VELO_IN\", \"value\": 30288.0}, {\"DATUM\": \"2022-07-15T00:00:00\", \"variable\": \"VELO_IN\", \"value\": 27635.0}, {\"DATUM\": \"2022-07-16T00:00:00\", \"variable\": \"VELO_IN\", \"value\": 20041.0}, {\"DATUM\": \"2022-07-17T00:00:00\", \"variable\": \"VELO_IN\", \"value\": 15741.0}, {\"DATUM\": \"2022-07-18T00:00:00\", \"variable\": \"VELO_IN\", \"value\": 24715.0}, {\"DATUM\": \"2022-07-19T00:00:00\", \"variable\": \"VELO_IN\", \"value\": 27553.0}, {\"DATUM\": \"2022-07-20T00:00:00\", \"variable\": \"VELO_IN\", \"value\": 21596.0}, {\"DATUM\": \"2022-07-21T00:00:00\", \"variable\": \"VELO_IN\", \"value\": 24885.0}, {\"DATUM\": \"2022-07-22T00:00:00\", \"variable\": \"VELO_IN\", \"value\": 24057.0}, {\"DATUM\": \"2022-07-23T00:00:00\", \"variable\": \"VELO_IN\", \"value\": 13821.0}, {\"DATUM\": \"2022-07-24T00:00:00\", \"variable\": \"VELO_IN\", \"value\": 14976.0}, {\"DATUM\": \"2022-07-25T00:00:00\", \"variable\": \"VELO_IN\", \"value\": 21814.0}, {\"DATUM\": \"2022-07-26T00:00:00\", \"variable\": \"VELO_IN\", \"value\": 21262.0}, {\"DATUM\": \"2022-07-27T00:00:00\", \"variable\": \"VELO_IN\", \"value\": 24606.0}, {\"DATUM\": \"2022-07-28T00:00:00\", \"variable\": \"VELO_IN\", \"value\": 22229.0}, {\"DATUM\": \"2022-07-29T00:00:00\", \"variable\": \"VELO_IN\", \"value\": 14535.0}, {\"DATUM\": \"2022-07-30T00:00:00\", \"variable\": \"VELO_IN\", \"value\": 14952.0}, {\"DATUM\": \"2022-07-31T00:00:00\", \"variable\": \"VELO_IN\", \"value\": 12461.0}, {\"DATUM\": \"2022-08-01T00:00:00\", \"variable\": \"VELO_IN\", \"value\": 13743.0}, {\"DATUM\": \"2022-08-02T00:00:00\", \"variable\": \"VELO_IN\", \"value\": 21885.0}, {\"DATUM\": \"2022-08-03T00:00:00\", \"variable\": \"VELO_IN\", \"value\": 25011.0}, {\"DATUM\": \"2022-08-04T00:00:00\", \"variable\": \"VELO_IN\", \"value\": 23912.0}, {\"DATUM\": \"2022-08-05T00:00:00\", \"variable\": \"VELO_IN\", \"value\": 18398.0}, {\"DATUM\": \"2022-08-06T00:00:00\", \"variable\": \"VELO_IN\", \"value\": 13324.0}, {\"DATUM\": \"2022-08-07T00:00:00\", \"variable\": \"VELO_IN\", \"value\": 11486.0}, {\"DATUM\": \"2022-08-08T00:00:00\", \"variable\": \"VELO_IN\", \"value\": 22717.0}, {\"DATUM\": \"2022-08-09T00:00:00\", \"variable\": \"VELO_IN\", \"value\": 24928.0}, {\"DATUM\": \"2022-08-10T00:00:00\", \"variable\": \"VELO_IN\", \"value\": 25064.0}, {\"DATUM\": \"2022-08-11T00:00:00\", \"variable\": \"VELO_IN\", \"value\": 25283.0}, {\"DATUM\": \"2022-08-12T00:00:00\", \"variable\": \"VELO_IN\", \"value\": 24664.0}, {\"DATUM\": \"2022-08-13T00:00:00\", \"variable\": \"VELO_IN\", \"value\": 14506.0}, {\"DATUM\": \"2022-08-14T00:00:00\", \"variable\": \"VELO_IN\", \"value\": 13211.0}, {\"DATUM\": \"2022-08-15T00:00:00\", \"variable\": \"VELO_IN\", \"value\": 22194.0}, {\"DATUM\": \"2022-08-16T00:00:00\", \"variable\": \"VELO_IN\", \"value\": 29461.0}, {\"DATUM\": \"2022-08-17T00:00:00\", \"variable\": \"VELO_IN\", \"value\": 25754.0}, {\"DATUM\": \"2022-08-18T00:00:00\", \"variable\": \"VELO_IN\", \"value\": 19705.0}, {\"DATUM\": \"2022-08-19T00:00:00\", \"variable\": \"VELO_IN\", \"value\": 12963.0}, {\"DATUM\": \"2022-08-20T00:00:00\", \"variable\": \"VELO_IN\", \"value\": 13577.0}, {\"DATUM\": \"2022-08-21T00:00:00\", \"variable\": \"VELO_IN\", \"value\": 15197.0}, {\"DATUM\": \"2022-08-22T00:00:00\", \"variable\": \"VELO_IN\", \"value\": 26067.0}, {\"DATUM\": \"2022-08-23T00:00:00\", \"variable\": \"VELO_IN\", \"value\": 29273.0}, {\"DATUM\": \"2022-08-24T00:00:00\", \"variable\": \"VELO_IN\", \"value\": 29121.0}, {\"DATUM\": \"2022-01-01T00:00:00\", \"variable\": \"VELO_OUT\", \"value\": 3446.0}, {\"DATUM\": \"2022-01-02T00:00:00\", \"variable\": \"VELO_OUT\", \"value\": 3623.0}, {\"DATUM\": \"2022-01-03T00:00:00\", \"variable\": \"VELO_OUT\", \"value\": 7152.0}, {\"DATUM\": \"2022-01-04T00:00:00\", \"variable\": \"VELO_OUT\", \"value\": 7167.0}, {\"DATUM\": \"2022-01-05T00:00:00\", \"variable\": \"VELO_OUT\", \"value\": 6503.0}, {\"DATUM\": \"2022-01-06T00:00:00\", \"variable\": \"VELO_OUT\", \"value\": 6350.0}, {\"DATUM\": \"2022-01-07T00:00:00\", \"variable\": \"VELO_OUT\", \"value\": 6204.0}, {\"DATUM\": \"2022-01-08T00:00:00\", \"variable\": \"VELO_OUT\", \"value\": 4649.0}, {\"DATUM\": \"2022-01-09T00:00:00\", \"variable\": \"VELO_OUT\", \"value\": 3114.0}, {\"DATUM\": \"2022-01-10T00:00:00\", \"variable\": \"VELO_OUT\", \"value\": 5163.0}, {\"DATUM\": \"2022-01-11T00:00:00\", \"variable\": \"VELO_OUT\", \"value\": 6689.0}, {\"DATUM\": \"2022-01-12T00:00:00\", \"variable\": \"VELO_OUT\", \"value\": 7252.0}, {\"DATUM\": \"2022-01-13T00:00:00\", \"variable\": \"VELO_OUT\", \"value\": 7416.0}, {\"DATUM\": \"2022-01-14T00:00:00\", \"variable\": \"VELO_OUT\", \"value\": 7154.0}, {\"DATUM\": \"2022-01-15T00:00:00\", \"variable\": \"VELO_OUT\", \"value\": 5000.0}, {\"DATUM\": \"2022-01-16T00:00:00\", \"variable\": \"VELO_OUT\", \"value\": 3711.0}, {\"DATUM\": \"2022-01-17T00:00:00\", \"variable\": \"VELO_OUT\", \"value\": 8854.0}, {\"DATUM\": \"2022-01-18T00:00:00\", \"variable\": \"VELO_OUT\", \"value\": 9042.0}, {\"DATUM\": \"2022-01-19T00:00:00\", \"variable\": \"VELO_OUT\", \"value\": 9203.0}, {\"DATUM\": \"2022-01-20T00:00:00\", \"variable\": \"VELO_OUT\", \"value\": 8559.0}, {\"DATUM\": \"2022-01-21T00:00:00\", \"variable\": \"VELO_OUT\", \"value\": 8654.0}, {\"DATUM\": \"2022-01-22T00:00:00\", \"variable\": \"VELO_OUT\", \"value\": 6301.0}, {\"DATUM\": \"2022-01-23T00:00:00\", \"variable\": \"VELO_OUT\", \"value\": 4782.0}, {\"DATUM\": \"2022-01-24T00:00:00\", \"variable\": \"VELO_OUT\", \"value\": 8552.0}, {\"DATUM\": \"2022-01-25T00:00:00\", \"variable\": \"VELO_OUT\", \"value\": 9290.0}, {\"DATUM\": \"2022-01-26T00:00:00\", \"variable\": \"VELO_OUT\", \"value\": 9281.0}, {\"DATUM\": \"2022-01-27T00:00:00\", \"variable\": \"VELO_OUT\", \"value\": 9249.0}, {\"DATUM\": \"2022-01-28T00:00:00\", \"variable\": \"VELO_OUT\", \"value\": 9259.0}, {\"DATUM\": \"2022-01-29T00:00:00\", \"variable\": \"VELO_OUT\", \"value\": 7317.0}, {\"DATUM\": \"2022-01-30T00:00:00\", \"variable\": \"VELO_OUT\", \"value\": 5476.0}, {\"DATUM\": \"2022-01-31T00:00:00\", \"variable\": \"VELO_OUT\", \"value\": 7272.0}, {\"DATUM\": \"2022-02-01T00:00:00\", \"variable\": \"VELO_OUT\", \"value\": 7227.0}, {\"DATUM\": \"2022-02-02T00:00:00\", \"variable\": \"VELO_OUT\", \"value\": 7634.0}, {\"DATUM\": \"2022-02-03T00:00:00\", \"variable\": \"VELO_OUT\", \"value\": 9359.0}, {\"DATUM\": \"2022-02-04T00:00:00\", \"variable\": \"VELO_OUT\", \"value\": 9166.0}, {\"DATUM\": \"2022-02-05T00:00:00\", \"variable\": \"VELO_OUT\", \"value\": 7799.0}, {\"DATUM\": \"2022-02-06T00:00:00\", \"variable\": \"VELO_OUT\", \"value\": 4697.0}, {\"DATUM\": \"2022-02-07T00:00:00\", \"variable\": \"VELO_OUT\", \"value\": 8195.0}, {\"DATUM\": \"2022-02-08T00:00:00\", \"variable\": \"VELO_OUT\", \"value\": 9487.0}, {\"DATUM\": \"2022-02-09T00:00:00\", \"variable\": \"VELO_OUT\", \"value\": 10284.0}, {\"DATUM\": \"2022-02-10T00:00:00\", \"variable\": \"VELO_OUT\", \"value\": 10833.0}, {\"DATUM\": \"2022-02-11T00:00:00\", \"variable\": \"VELO_OUT\", \"value\": 7338.0}, {\"DATUM\": \"2022-02-12T00:00:00\", \"variable\": \"VELO_OUT\", \"value\": 6348.0}, {\"DATUM\": \"2022-02-13T00:00:00\", \"variable\": \"VELO_OUT\", \"value\": 5241.0}, {\"DATUM\": \"2022-02-14T00:00:00\", \"variable\": \"VELO_OUT\", \"value\": 6987.0}, {\"DATUM\": \"2022-02-15T00:00:00\", \"variable\": \"VELO_OUT\", \"value\": 6720.0}, {\"DATUM\": \"2022-02-16T00:00:00\", \"variable\": \"VELO_OUT\", \"value\": 5968.0}, {\"DATUM\": \"2022-02-17T00:00:00\", \"variable\": \"VELO_OUT\", \"value\": 6652.0}, {\"DATUM\": \"2022-02-18T00:00:00\", \"variable\": \"VELO_OUT\", \"value\": 7586.0}, {\"DATUM\": \"2022-02-19T00:00:00\", \"variable\": \"VELO_OUT\", \"value\": 5248.0}, {\"DATUM\": \"2022-02-20T00:00:00\", \"variable\": \"VELO_OUT\", \"value\": 4488.0}, {\"DATUM\": \"2022-02-21T00:00:00\", \"variable\": \"VELO_OUT\", \"value\": 5556.0}, {\"DATUM\": \"2022-02-22T00:00:00\", \"variable\": \"VELO_OUT\", \"value\": 7307.0}, {\"DATUM\": \"2022-02-23T00:00:00\", \"variable\": \"VELO_OUT\", \"value\": 8782.0}, {\"DATUM\": \"2022-02-24T00:00:00\", \"variable\": \"VELO_OUT\", \"value\": 9288.0}, {\"DATUM\": \"2022-02-25T00:00:00\", \"variable\": \"VELO_OUT\", \"value\": 8486.0}, {\"DATUM\": \"2022-02-26T00:00:00\", \"variable\": \"VELO_OUT\", \"value\": 6205.0}, {\"DATUM\": \"2022-02-27T00:00:00\", \"variable\": \"VELO_OUT\", \"value\": 5495.0}, {\"DATUM\": \"2022-02-28T00:00:00\", \"variable\": \"VELO_OUT\", \"value\": 10464.0}, {\"DATUM\": \"2022-03-01T00:00:00\", \"variable\": \"VELO_OUT\", \"value\": 11181.0}, {\"DATUM\": \"2022-03-02T00:00:00\", \"variable\": \"VELO_OUT\", \"value\": 11148.0}, {\"DATUM\": \"2022-03-03T00:00:00\", \"variable\": \"VELO_OUT\", \"value\": 11615.0}, {\"DATUM\": \"2022-03-04T00:00:00\", \"variable\": \"VELO_OUT\", \"value\": 11471.0}, {\"DATUM\": \"2022-03-05T00:00:00\", \"variable\": \"VELO_OUT\", \"value\": 8328.0}, {\"DATUM\": \"2022-03-06T00:00:00\", \"variable\": \"VELO_OUT\", \"value\": 5879.0}, {\"DATUM\": \"2022-03-07T00:00:00\", \"variable\": \"VELO_OUT\", \"value\": 10989.0}, {\"DATUM\": \"2022-03-08T00:00:00\", \"variable\": \"VELO_OUT\", \"value\": 11610.0}, {\"DATUM\": \"2022-03-09T00:00:00\", \"variable\": \"VELO_OUT\", \"value\": 12182.0}, {\"DATUM\": \"2022-03-10T00:00:00\", \"variable\": \"VELO_OUT\", \"value\": 12469.0}, {\"DATUM\": \"2022-03-11T00:00:00\", \"variable\": \"VELO_OUT\", \"value\": 11596.0}, {\"DATUM\": \"2022-03-12T00:00:00\", \"variable\": \"VELO_OUT\", \"value\": 8943.0}, {\"DATUM\": \"2022-03-13T00:00:00\", \"variable\": \"VELO_OUT\", \"value\": 7795.0}, {\"DATUM\": \"2022-03-14T00:00:00\", \"variable\": \"VELO_OUT\", \"value\": 12447.0}, {\"DATUM\": \"2022-03-15T00:00:00\", \"variable\": \"VELO_OUT\", \"value\": 9772.0}, {\"DATUM\": \"2022-03-16T00:00:00\", \"variable\": \"VELO_OUT\", \"value\": 13224.0}, {\"DATUM\": \"2022-03-17T00:00:00\", \"variable\": \"VELO_OUT\", \"value\": 13143.0}, {\"DATUM\": \"2022-03-18T00:00:00\", \"variable\": \"VELO_OUT\", \"value\": 10198.0}, {\"DATUM\": \"2022-03-19T00:00:00\", \"variable\": \"VELO_OUT\", \"value\": 9385.0}, {\"DATUM\": \"2022-03-20T00:00:00\", \"variable\": \"VELO_OUT\", \"value\": 8272.0}, {\"DATUM\": \"2022-03-21T00:00:00\", \"variable\": \"VELO_OUT\", \"value\": 13036.0}, {\"DATUM\": \"2022-03-22T00:00:00\", \"variable\": \"VELO_OUT\", \"value\": 14703.0}, {\"DATUM\": \"2022-03-23T00:00:00\", \"variable\": \"VELO_OUT\", \"value\": 13134.0}, {\"DATUM\": \"2022-03-24T00:00:00\", \"variable\": \"VELO_OUT\", \"value\": 13522.0}, {\"DATUM\": \"2022-03-25T00:00:00\", \"variable\": \"VELO_OUT\", \"value\": 13197.0}, {\"DATUM\": \"2022-03-26T00:00:00\", \"variable\": \"VELO_OUT\", \"value\": 10562.0}, {\"DATUM\": \"2022-03-27T00:00:00\", \"variable\": \"VELO_OUT\", \"value\": 8457.0}, {\"DATUM\": \"2022-03-28T00:00:00\", \"variable\": \"VELO_OUT\", \"value\": 13070.0}, {\"DATUM\": \"2022-03-29T00:00:00\", \"variable\": \"VELO_OUT\", \"value\": 13027.0}, {\"DATUM\": \"2022-03-30T00:00:00\", \"variable\": \"VELO_OUT\", \"value\": 8916.0}, {\"DATUM\": \"2022-03-31T00:00:00\", \"variable\": \"VELO_OUT\", \"value\": 7949.0}, {\"DATUM\": \"2022-04-01T00:00:00\", \"variable\": \"VELO_OUT\", \"value\": 5307.0}, {\"DATUM\": \"2022-04-02T00:00:00\", \"variable\": \"VELO_OUT\", \"value\": 3483.0}, {\"DATUM\": \"2022-04-03T00:00:00\", \"variable\": \"VELO_OUT\", \"value\": 3346.0}, {\"DATUM\": \"2022-04-04T00:00:00\", \"variable\": \"VELO_OUT\", \"value\": 9137.0}, {\"DATUM\": \"2022-04-05T00:00:00\", \"variable\": \"VELO_OUT\", \"value\": 9655.0}, {\"DATUM\": \"2022-04-06T00:00:00\", \"variable\": \"VELO_OUT\", \"value\": 11161.0}, {\"DATUM\": \"2022-04-07T00:00:00\", \"variable\": \"VELO_OUT\", \"value\": 9091.0}, {\"DATUM\": \"2022-04-08T00:00:00\", \"variable\": \"VELO_OUT\", \"value\": 6821.0}, {\"DATUM\": \"2022-04-09T00:00:00\", \"variable\": \"VELO_OUT\", \"value\": 6437.0}, {\"DATUM\": \"2022-04-10T00:00:00\", \"variable\": \"VELO_OUT\", \"value\": 6276.0}, {\"DATUM\": \"2022-04-11T00:00:00\", \"variable\": \"VELO_OUT\", \"value\": 12473.0}, {\"DATUM\": \"2022-04-12T00:00:00\", \"variable\": \"VELO_OUT\", \"value\": 14389.0}, {\"DATUM\": \"2022-04-13T00:00:00\", \"variable\": \"VELO_OUT\", \"value\": 14775.0}, {\"DATUM\": \"2022-04-14T00:00:00\", \"variable\": \"VELO_OUT\", \"value\": 12853.0}, {\"DATUM\": \"2022-04-15T00:00:00\", \"variable\": \"VELO_OUT\", \"value\": 6640.0}, {\"DATUM\": \"2022-04-16T00:00:00\", \"variable\": \"VELO_OUT\", \"value\": 6364.0}, {\"DATUM\": \"2022-04-17T00:00:00\", \"variable\": \"VELO_OUT\", \"value\": 5042.0}, {\"DATUM\": \"2022-04-18T00:00:00\", \"variable\": \"VELO_OUT\", \"value\": 6501.0}, {\"DATUM\": \"2022-04-19T00:00:00\", \"variable\": \"VELO_OUT\", \"value\": 11522.0}, {\"DATUM\": \"2022-04-20T00:00:00\", \"variable\": \"VELO_OUT\", \"value\": 11948.0}, {\"DATUM\": \"2022-04-21T00:00:00\", \"variable\": \"VELO_OUT\", \"value\": 12203.0}, {\"DATUM\": \"2022-04-22T00:00:00\", \"variable\": \"VELO_OUT\", \"value\": 11834.0}, {\"DATUM\": \"2022-04-23T00:00:00\", \"variable\": \"VELO_OUT\", \"value\": 8554.0}, {\"DATUM\": \"2022-04-24T00:00:00\", \"variable\": \"VELO_OUT\", \"value\": 4354.0}, {\"DATUM\": \"2022-04-25T00:00:00\", \"variable\": \"VELO_OUT\", \"value\": 6572.0}, {\"DATUM\": \"2022-04-26T00:00:00\", \"variable\": \"VELO_OUT\", \"value\": 8070.0}, {\"DATUM\": \"2022-04-27T00:00:00\", \"variable\": \"VELO_OUT\", \"value\": 13064.0}, {\"DATUM\": \"2022-04-28T00:00:00\", \"variable\": \"VELO_OUT\", \"value\": 13977.0}, {\"DATUM\": \"2022-04-29T00:00:00\", \"variable\": \"VELO_OUT\", \"value\": 13898.0}, {\"DATUM\": \"2022-04-30T00:00:00\", \"variable\": \"VELO_OUT\", \"value\": 7287.0}, {\"DATUM\": \"2022-05-01T00:00:00\", \"variable\": \"VELO_OUT\", \"value\": 7889.0}, {\"DATUM\": \"2022-05-02T00:00:00\", \"variable\": \"VELO_OUT\", \"value\": 14846.0}, {\"DATUM\": \"2022-05-03T00:00:00\", \"variable\": \"VELO_OUT\", \"value\": 14833.0}, {\"DATUM\": \"2022-05-04T00:00:00\", \"variable\": \"VELO_OUT\", \"value\": 14405.0}, {\"DATUM\": \"2022-05-05T00:00:00\", \"variable\": \"VELO_OUT\", \"value\": 9984.0}, {\"DATUM\": \"2022-05-06T00:00:00\", \"variable\": \"VELO_OUT\", \"value\": 9297.0}, {\"DATUM\": \"2022-05-07T00:00:00\", \"variable\": \"VELO_OUT\", \"value\": 9344.0}, {\"DATUM\": \"2022-05-08T00:00:00\", \"variable\": \"VELO_OUT\", \"value\": 7277.0}, {\"DATUM\": \"2022-05-09T00:00:00\", \"variable\": \"VELO_OUT\", \"value\": 15194.0}, {\"DATUM\": \"2022-05-10T00:00:00\", \"variable\": \"VELO_OUT\", \"value\": 17958.0}, {\"DATUM\": \"2022-05-11T00:00:00\", \"variable\": \"VELO_OUT\", \"value\": 18499.0}, {\"DATUM\": \"2022-05-12T00:00:00\", \"variable\": \"VELO_OUT\", \"value\": 17925.0}, {\"DATUM\": \"2022-05-13T00:00:00\", \"variable\": \"VELO_OUT\", \"value\": 14443.0}, {\"DATUM\": \"2022-05-14T00:00:00\", \"variable\": \"VELO_OUT\", \"value\": 13559.0}, {\"DATUM\": \"2022-05-15T00:00:00\", \"variable\": \"VELO_OUT\", \"value\": 11289.0}, {\"DATUM\": \"2022-05-16T00:00:00\", \"variable\": \"VELO_OUT\", \"value\": 15798.0}, {\"DATUM\": \"2022-05-17T00:00:00\", \"variable\": \"VELO_OUT\", \"value\": 18545.0}, {\"DATUM\": \"2022-05-18T00:00:00\", \"variable\": \"VELO_OUT\", \"value\": 18946.0}, {\"DATUM\": \"2022-05-19T00:00:00\", \"variable\": \"VELO_OUT\", \"value\": 17766.0}, {\"DATUM\": \"2022-05-20T00:00:00\", \"variable\": \"VELO_OUT\", \"value\": 17005.0}, {\"DATUM\": \"2022-05-21T00:00:00\", \"variable\": \"VELO_OUT\", \"value\": 12318.0}, {\"DATUM\": \"2022-05-22T00:00:00\", \"variable\": \"VELO_OUT\", \"value\": 9664.0}, {\"DATUM\": \"2022-05-23T00:00:00\", \"variable\": \"VELO_OUT\", \"value\": 12102.0}, {\"DATUM\": \"2022-05-24T00:00:00\", \"variable\": \"VELO_OUT\", \"value\": 11540.0}, {\"DATUM\": \"2022-05-25T00:00:00\", \"variable\": \"VELO_OUT\", \"value\": 15018.0}, {\"DATUM\": \"2022-05-26T00:00:00\", \"variable\": \"VELO_OUT\", \"value\": 9964.0}, {\"DATUM\": \"2022-05-27T00:00:00\", \"variable\": \"VELO_OUT\", \"value\": 12198.0}, {\"DATUM\": \"2022-05-28T00:00:00\", \"variable\": \"VELO_OUT\", \"value\": 9467.0}, {\"DATUM\": \"2022-05-29T00:00:00\", \"variable\": \"VELO_OUT\", \"value\": 7594.0}, {\"DATUM\": \"2022-05-30T00:00:00\", \"variable\": \"VELO_OUT\", \"value\": 15576.0}, {\"DATUM\": \"2022-05-31T00:00:00\", \"variable\": \"VELO_OUT\", \"value\": 13682.0}, {\"DATUM\": \"2022-06-01T00:00:00\", \"variable\": \"VELO_OUT\", \"value\": 13886.0}, {\"DATUM\": \"2022-06-02T00:00:00\", \"variable\": \"VELO_OUT\", \"value\": 16004.0}, {\"DATUM\": \"2022-06-03T00:00:00\", \"variable\": \"VELO_OUT\", \"value\": 12783.0}, {\"DATUM\": \"2022-06-04T00:00:00\", \"variable\": \"VELO_OUT\", \"value\": 10671.0}, {\"DATUM\": \"2022-06-05T00:00:00\", \"variable\": \"VELO_OUT\", \"value\": 4727.0}, {\"DATUM\": \"2022-06-06T00:00:00\", \"variable\": \"VELO_OUT\", \"value\": 8386.0}, {\"DATUM\": \"2022-06-07T00:00:00\", \"variable\": \"VELO_OUT\", \"value\": 11076.0}, {\"DATUM\": \"2022-06-08T00:00:00\", \"variable\": \"VELO_OUT\", \"value\": 13470.0}, {\"DATUM\": \"2022-06-09T00:00:00\", \"variable\": \"VELO_OUT\", \"value\": 12341.0}, {\"DATUM\": \"2022-06-10T00:00:00\", \"variable\": \"VELO_OUT\", \"value\": 15500.0}, {\"DATUM\": \"2022-06-11T00:00:00\", \"variable\": \"VELO_OUT\", \"value\": 12586.0}, {\"DATUM\": \"2022-06-12T00:00:00\", \"variable\": \"VELO_OUT\", \"value\": 10327.0}, {\"DATUM\": \"2022-06-13T00:00:00\", \"variable\": \"VELO_OUT\", \"value\": 14069.0}, {\"DATUM\": \"2022-06-14T00:00:00\", \"variable\": \"VELO_OUT\", \"value\": 17078.0}, {\"DATUM\": \"2022-06-15T00:00:00\", \"variable\": \"VELO_OUT\", \"value\": 17459.0}, {\"DATUM\": \"2022-06-16T00:00:00\", \"variable\": \"VELO_OUT\", \"value\": 17646.0}, {\"DATUM\": \"2022-06-17T00:00:00\", \"variable\": \"VELO_OUT\", \"value\": 16452.0}, {\"DATUM\": \"2022-06-18T00:00:00\", \"variable\": \"VELO_OUT\", \"value\": 12634.0}, {\"DATUM\": \"2022-06-19T00:00:00\", \"variable\": \"VELO_OUT\", \"value\": 10147.0}, {\"DATUM\": \"2022-06-20T00:00:00\", \"variable\": \"VELO_OUT\", \"value\": 15690.0}, {\"DATUM\": \"2022-06-21T00:00:00\", \"variable\": \"VELO_OUT\", \"value\": 16185.0}, {\"DATUM\": \"2022-06-22T00:00:00\", \"variable\": \"VELO_OUT\", \"value\": 12715.0}, {\"DATUM\": \"2022-06-23T00:00:00\", \"variable\": \"VELO_OUT\", \"value\": 15402.0}, {\"DATUM\": \"2022-06-24T00:00:00\", \"variable\": \"VELO_OUT\", \"value\": 9877.0}, {\"DATUM\": \"2022-06-25T00:00:00\", \"variable\": \"VELO_OUT\", \"value\": 11967.0}, {\"DATUM\": \"2022-06-26T00:00:00\", \"variable\": \"VELO_OUT\", \"value\": 9835.0}, {\"DATUM\": \"2022-06-27T00:00:00\", \"variable\": \"VELO_OUT\", \"value\": 11525.0}, {\"DATUM\": \"2022-06-28T00:00:00\", \"variable\": \"VELO_OUT\", \"value\": 12221.0}, {\"DATUM\": \"2022-06-29T00:00:00\", \"variable\": \"VELO_OUT\", \"value\": 15982.0}, {\"DATUM\": \"2022-06-30T00:00:00\", \"variable\": \"VELO_OUT\", \"value\": 14521.0}, {\"DATUM\": \"2022-07-01T00:00:00\", \"variable\": \"VELO_OUT\", \"value\": 10117.0}, {\"DATUM\": \"2022-07-02T00:00:00\", \"variable\": \"VELO_OUT\", \"value\": 11058.0}, {\"DATUM\": \"2022-07-03T00:00:00\", \"variable\": \"VELO_OUT\", \"value\": 8533.0}, {\"DATUM\": \"2022-07-04T00:00:00\", \"variable\": \"VELO_OUT\", \"value\": 9873.0}, {\"DATUM\": \"2022-07-05T00:00:00\", \"variable\": \"VELO_OUT\", \"value\": 14029.0}, {\"DATUM\": \"2022-07-06T00:00:00\", \"variable\": \"VELO_OUT\", \"value\": 14541.0}, {\"DATUM\": \"2022-07-07T00:00:00\", \"variable\": \"VELO_OUT\", \"value\": 14205.0}, {\"DATUM\": \"2022-07-08T00:00:00\", \"variable\": \"VELO_OUT\", \"value\": 13286.0}, {\"DATUM\": \"2022-07-09T00:00:00\", \"variable\": \"VELO_OUT\", \"value\": 10524.0}, {\"DATUM\": \"2022-07-10T00:00:00\", \"variable\": \"VELO_OUT\", \"value\": 7639.0}, {\"DATUM\": \"2022-07-11T00:00:00\", \"variable\": \"VELO_OUT\", \"value\": 13981.0}, {\"DATUM\": \"2022-07-12T00:00:00\", \"variable\": \"VELO_OUT\", \"value\": 15349.0}, {\"DATUM\": \"2022-07-13T00:00:00\", \"variable\": \"VELO_OUT\", \"value\": 15051.0}, {\"DATUM\": \"2022-07-14T00:00:00\", \"variable\": \"VELO_OUT\", \"value\": 14685.0}, {\"DATUM\": \"2022-07-15T00:00:00\", \"variable\": \"VELO_OUT\", \"value\": 13145.0}, {\"DATUM\": \"2022-07-16T00:00:00\", \"variable\": \"VELO_OUT\", \"value\": 9499.0}, {\"DATUM\": \"2022-07-17T00:00:00\", \"variable\": \"VELO_OUT\", \"value\": 7913.0}, {\"DATUM\": \"2022-07-18T00:00:00\", \"variable\": \"VELO_OUT\", \"value\": 12101.0}, {\"DATUM\": \"2022-07-19T00:00:00\", \"variable\": \"VELO_OUT\", \"value\": 12772.0}, {\"DATUM\": \"2022-07-20T00:00:00\", \"variable\": \"VELO_OUT\", \"value\": 10542.0}, {\"DATUM\": \"2022-07-21T00:00:00\", \"variable\": \"VELO_OUT\", \"value\": 11991.0}, {\"DATUM\": \"2022-07-22T00:00:00\", \"variable\": \"VELO_OUT\", \"value\": 11501.0}, {\"DATUM\": \"2022-07-23T00:00:00\", \"variable\": \"VELO_OUT\", \"value\": 6845.0}, {\"DATUM\": \"2022-07-24T00:00:00\", \"variable\": \"VELO_OUT\", \"value\": 7260.0}, {\"DATUM\": \"2022-07-25T00:00:00\", \"variable\": \"VELO_OUT\", \"value\": 10322.0}, {\"DATUM\": \"2022-07-26T00:00:00\", \"variable\": \"VELO_OUT\", \"value\": 10220.0}, {\"DATUM\": \"2022-07-27T00:00:00\", \"variable\": \"VELO_OUT\", \"value\": 11601.0}, {\"DATUM\": \"2022-07-28T00:00:00\", \"variable\": \"VELO_OUT\", \"value\": 10168.0}, {\"DATUM\": \"2022-07-29T00:00:00\", \"variable\": \"VELO_OUT\", \"value\": 6846.0}, {\"DATUM\": \"2022-07-30T00:00:00\", \"variable\": \"VELO_OUT\", \"value\": 6896.0}, {\"DATUM\": \"2022-07-31T00:00:00\", \"variable\": \"VELO_OUT\", \"value\": 6162.0}, {\"DATUM\": \"2022-08-01T00:00:00\", \"variable\": \"VELO_OUT\", \"value\": 6396.0}, {\"DATUM\": \"2022-08-02T00:00:00\", \"variable\": \"VELO_OUT\", \"value\": 9898.0}, {\"DATUM\": \"2022-08-03T00:00:00\", \"variable\": \"VELO_OUT\", \"value\": 11541.0}, {\"DATUM\": \"2022-08-04T00:00:00\", \"variable\": \"VELO_OUT\", \"value\": 9948.0}, {\"DATUM\": \"2022-08-05T00:00:00\", \"variable\": \"VELO_OUT\", \"value\": 8513.0}, {\"DATUM\": \"2022-08-06T00:00:00\", \"variable\": \"VELO_OUT\", \"value\": 6223.0}, {\"DATUM\": \"2022-08-07T00:00:00\", \"variable\": \"VELO_OUT\", \"value\": 5436.0}, {\"DATUM\": \"2022-08-08T00:00:00\", \"variable\": \"VELO_OUT\", \"value\": 10078.0}, {\"DATUM\": \"2022-08-09T00:00:00\", \"variable\": \"VELO_OUT\", \"value\": 10941.0}, {\"DATUM\": \"2022-08-10T00:00:00\", \"variable\": \"VELO_OUT\", \"value\": 11092.0}, {\"DATUM\": \"2022-08-11T00:00:00\", \"variable\": \"VELO_OUT\", \"value\": 11058.0}, {\"DATUM\": \"2022-08-12T00:00:00\", \"variable\": \"VELO_OUT\", \"value\": 11464.0}, {\"DATUM\": \"2022-08-13T00:00:00\", \"variable\": \"VELO_OUT\", \"value\": 7839.0}, {\"DATUM\": \"2022-08-14T00:00:00\", \"variable\": \"VELO_OUT\", \"value\": 6913.0}, {\"DATUM\": \"2022-08-15T00:00:00\", \"variable\": \"VELO_OUT\", \"value\": 11041.0}, {\"DATUM\": \"2022-08-16T00:00:00\", \"variable\": \"VELO_OUT\", \"value\": 13446.0}, {\"DATUM\": \"2022-08-17T00:00:00\", \"variable\": \"VELO_OUT\", \"value\": 12748.0}, {\"DATUM\": \"2022-08-18T00:00:00\", \"variable\": \"VELO_OUT\", \"value\": 9959.0}, {\"DATUM\": \"2022-08-19T00:00:00\", \"variable\": \"VELO_OUT\", \"value\": 6835.0}, {\"DATUM\": \"2022-08-20T00:00:00\", \"variable\": \"VELO_OUT\", \"value\": 7221.0}, {\"DATUM\": \"2022-08-21T00:00:00\", \"variable\": \"VELO_OUT\", \"value\": 7512.0}, {\"DATUM\": \"2022-08-22T00:00:00\", \"variable\": \"VELO_OUT\", \"value\": 13647.0}, {\"DATUM\": \"2022-08-23T00:00:00\", \"variable\": \"VELO_OUT\", \"value\": 15341.0}, {\"DATUM\": \"2022-08-24T00:00:00\", \"variable\": \"VELO_OUT\", \"value\": 15183.0}, {\"DATUM\": \"2022-01-01T00:00:00\", \"variable\": \"FUSS_IN\", \"value\": 12240.0}, {\"DATUM\": \"2022-01-02T00:00:00\", \"variable\": \"FUSS_IN\", \"value\": 12286.0}, {\"DATUM\": \"2022-01-03T00:00:00\", \"variable\": \"FUSS_IN\", \"value\": 14939.0}, {\"DATUM\": \"2022-01-04T00:00:00\", \"variable\": \"FUSS_IN\", \"value\": 13726.0}, {\"DATUM\": \"2022-01-05T00:00:00\", \"variable\": \"FUSS_IN\", \"value\": 12575.0}, {\"DATUM\": \"2022-01-06T00:00:00\", \"variable\": \"FUSS_IN\", \"value\": 13589.0}, {\"DATUM\": \"2022-01-07T00:00:00\", \"variable\": \"FUSS_IN\", \"value\": 14119.0}, {\"DATUM\": \"2022-01-08T00:00:00\", \"variable\": \"FUSS_IN\", \"value\": 14961.0}, {\"DATUM\": \"2022-01-09T00:00:00\", \"variable\": \"FUSS_IN\", \"value\": 9863.0}, {\"DATUM\": \"2022-01-10T00:00:00\", \"variable\": \"FUSS_IN\", \"value\": 12818.0}, {\"DATUM\": \"2022-01-11T00:00:00\", \"variable\": \"FUSS_IN\", \"value\": 14438.0}, {\"DATUM\": \"2022-01-12T00:00:00\", \"variable\": \"FUSS_IN\", \"value\": 15361.0}, {\"DATUM\": \"2022-01-13T00:00:00\", \"variable\": \"FUSS_IN\", \"value\": 15680.0}, {\"DATUM\": \"2022-01-14T00:00:00\", \"variable\": \"FUSS_IN\", \"value\": 17050.0}, {\"DATUM\": \"2022-01-15T00:00:00\", \"variable\": \"FUSS_IN\", \"value\": 16256.0}, {\"DATUM\": \"2022-01-16T00:00:00\", \"variable\": \"FUSS_IN\", \"value\": 12924.0}, {\"DATUM\": \"2022-01-17T00:00:00\", \"variable\": \"FUSS_IN\", \"value\": 15318.0}, {\"DATUM\": \"2022-01-18T00:00:00\", \"variable\": \"FUSS_IN\", \"value\": 14982.0}, {\"DATUM\": \"2022-01-19T00:00:00\", \"variable\": \"FUSS_IN\", \"value\": 15707.0}, {\"DATUM\": \"2022-01-20T00:00:00\", \"variable\": \"FUSS_IN\", \"value\": 14352.0}, {\"DATUM\": \"2022-01-21T00:00:00\", \"variable\": \"FUSS_IN\", \"value\": 16511.0}, {\"DATUM\": \"2022-01-22T00:00:00\", \"variable\": \"FUSS_IN\", \"value\": 16248.0}, {\"DATUM\": \"2022-01-23T00:00:00\", \"variable\": \"FUSS_IN\", \"value\": 11911.0}, {\"DATUM\": \"2022-01-24T00:00:00\", \"variable\": \"FUSS_IN\", \"value\": 13772.0}, {\"DATUM\": \"2022-01-25T00:00:00\", \"variable\": \"FUSS_IN\", \"value\": 16353.0}, {\"DATUM\": \"2022-01-26T00:00:00\", \"variable\": \"FUSS_IN\", \"value\": 16180.0}, {\"DATUM\": \"2022-01-27T00:00:00\", \"variable\": \"FUSS_IN\", \"value\": 16410.0}, {\"DATUM\": \"2022-01-28T00:00:00\", \"variable\": \"FUSS_IN\", \"value\": 16325.0}, {\"DATUM\": \"2022-01-29T00:00:00\", \"variable\": \"FUSS_IN\", \"value\": 18423.0}, {\"DATUM\": \"2022-01-30T00:00:00\", \"variable\": \"FUSS_IN\", \"value\": 11903.0}, {\"DATUM\": \"2022-01-31T00:00:00\", \"variable\": \"FUSS_IN\", \"value\": 10367.0}, {\"DATUM\": \"2022-02-01T00:00:00\", \"variable\": \"FUSS_IN\", \"value\": 11412.0}, {\"DATUM\": \"2022-02-02T00:00:00\", \"variable\": \"FUSS_IN\", \"value\": 12978.0}, {\"DATUM\": \"2022-02-03T00:00:00\", \"variable\": \"FUSS_IN\", \"value\": 15439.0}, {\"DATUM\": \"2022-02-04T00:00:00\", \"variable\": \"FUSS_IN\", \"value\": 16609.0}, {\"DATUM\": \"2022-02-05T00:00:00\", \"variable\": \"FUSS_IN\", \"value\": 20025.0}, {\"DATUM\": \"2022-02-06T00:00:00\", \"variable\": \"FUSS_IN\", \"value\": 8881.0}, {\"DATUM\": \"2022-02-07T00:00:00\", \"variable\": \"FUSS_IN\", \"value\": 13737.0}, {\"DATUM\": \"2022-02-08T00:00:00\", \"variable\": \"FUSS_IN\", \"value\": 15999.0}, {\"DATUM\": \"2022-02-09T00:00:00\", \"variable\": \"FUSS_IN\", \"value\": 16825.0}, {\"DATUM\": \"2022-02-10T00:00:00\", \"variable\": \"FUSS_IN\", \"value\": 17329.0}, {\"DATUM\": \"2022-02-11T00:00:00\", \"variable\": \"FUSS_IN\", \"value\": 14345.0}, {\"DATUM\": \"2022-02-12T00:00:00\", \"variable\": \"FUSS_IN\", \"value\": 20125.0}, {\"DATUM\": \"2022-02-13T00:00:00\", \"variable\": \"FUSS_IN\", \"value\": 17534.0}, {\"DATUM\": \"2022-02-14T00:00:00\", \"variable\": \"FUSS_IN\", \"value\": 13657.0}, {\"DATUM\": \"2022-02-15T00:00:00\", \"variable\": \"FUSS_IN\", \"value\": 14134.0}, {\"DATUM\": \"2022-02-16T00:00:00\", \"variable\": \"FUSS_IN\", \"value\": 12528.0}, {\"DATUM\": \"2022-02-17T00:00:00\", \"variable\": \"FUSS_IN\", \"value\": 15056.0}, {\"DATUM\": \"2022-02-18T00:00:00\", \"variable\": \"FUSS_IN\", \"value\": 16430.0}, {\"DATUM\": \"2022-02-19T00:00:00\", \"variable\": \"FUSS_IN\", \"value\": 16894.0}, {\"DATUM\": \"2022-02-20T00:00:00\", \"variable\": \"FUSS_IN\", \"value\": 14396.0}, {\"DATUM\": \"2022-02-21T00:00:00\", \"variable\": \"FUSS_IN\", \"value\": 11353.0}, {\"DATUM\": \"2022-02-22T00:00:00\", \"variable\": \"FUSS_IN\", \"value\": 17234.0}, {\"DATUM\": \"2022-02-23T00:00:00\", \"variable\": \"FUSS_IN\", \"value\": 18959.0}, {\"DATUM\": \"2022-02-24T00:00:00\", \"variable\": \"FUSS_IN\", \"value\": 22343.0}, {\"DATUM\": \"2022-02-25T00:00:00\", \"variable\": \"FUSS_IN\", \"value\": 22740.0}, {\"DATUM\": \"2022-02-26T00:00:00\", \"variable\": \"FUSS_IN\", \"value\": 25115.0}, {\"DATUM\": \"2022-02-27T00:00:00\", \"variable\": \"FUSS_IN\", \"value\": 22599.0}, {\"DATUM\": \"2022-02-28T00:00:00\", \"variable\": \"FUSS_IN\", \"value\": 24908.0}, {\"DATUM\": \"2022-03-01T00:00:00\", \"variable\": \"FUSS_IN\", \"value\": 24709.0}, {\"DATUM\": \"2022-03-02T00:00:00\", \"variable\": \"FUSS_IN\", \"value\": 24875.0}, {\"DATUM\": \"2022-03-03T00:00:00\", \"variable\": \"FUSS_IN\", \"value\": 27494.0}, {\"DATUM\": \"2022-03-04T00:00:00\", \"variable\": \"FUSS_IN\", \"value\": 27547.0}, {\"DATUM\": \"2022-03-05T00:00:00\", \"variable\": \"FUSS_IN\", \"value\": 29836.0}, {\"DATUM\": \"2022-03-06T00:00:00\", \"variable\": \"FUSS_IN\", \"value\": 19471.0}, {\"DATUM\": \"2022-03-07T00:00:00\", \"variable\": \"FUSS_IN\", \"value\": 21976.0}, {\"DATUM\": \"2022-03-08T00:00:00\", \"variable\": \"FUSS_IN\", \"value\": 24960.0}, {\"DATUM\": \"2022-03-09T00:00:00\", \"variable\": \"FUSS_IN\", \"value\": 27020.0}, {\"DATUM\": \"2022-03-10T00:00:00\", \"variable\": \"FUSS_IN\", \"value\": 27059.0}, {\"DATUM\": \"2022-03-11T00:00:00\", \"variable\": \"FUSS_IN\", \"value\": 27048.0}, {\"DATUM\": \"2022-03-12T00:00:00\", \"variable\": \"FUSS_IN\", \"value\": 28015.0}, {\"DATUM\": \"2022-03-13T00:00:00\", \"variable\": \"FUSS_IN\", \"value\": 23178.0}, {\"DATUM\": \"2022-03-14T00:00:00\", \"variable\": \"FUSS_IN\", \"value\": 22609.0}, {\"DATUM\": \"2022-03-15T00:00:00\", \"variable\": \"FUSS_IN\", \"value\": 17708.0}, {\"DATUM\": \"2022-03-16T00:00:00\", \"variable\": \"FUSS_IN\", \"value\": 22629.0}, {\"DATUM\": \"2022-03-17T00:00:00\", \"variable\": \"FUSS_IN\", \"value\": 22008.0}, {\"DATUM\": \"2022-03-18T00:00:00\", \"variable\": \"FUSS_IN\", \"value\": 20444.0}, {\"DATUM\": \"2022-03-19T00:00:00\", \"variable\": \"FUSS_IN\", \"value\": 26175.0}, {\"DATUM\": \"2022-03-20T00:00:00\", \"variable\": \"FUSS_IN\", \"value\": 23353.0}, {\"DATUM\": \"2022-03-21T00:00:00\", \"variable\": \"FUSS_IN\", \"value\": 21910.0}, {\"DATUM\": \"2022-03-22T00:00:00\", \"variable\": \"FUSS_IN\", \"value\": 24895.0}, {\"DATUM\": \"2022-03-23T00:00:00\", \"variable\": \"FUSS_IN\", \"value\": 26522.0}, {\"DATUM\": \"2022-03-24T00:00:00\", \"variable\": \"FUSS_IN\", \"value\": 26099.0}, {\"DATUM\": \"2022-03-25T00:00:00\", \"variable\": \"FUSS_IN\", \"value\": 27881.0}, {\"DATUM\": \"2022-03-26T00:00:00\", \"variable\": \"FUSS_IN\", \"value\": 33968.0}, {\"DATUM\": \"2022-03-27T00:00:00\", \"variable\": \"FUSS_IN\", \"value\": 26691.0}, {\"DATUM\": \"2022-03-28T00:00:00\", \"variable\": \"FUSS_IN\", \"value\": 28139.0}, {\"DATUM\": \"2022-03-29T00:00:00\", \"variable\": \"FUSS_IN\", \"value\": 24798.0}, {\"DATUM\": \"2022-03-30T00:00:00\", \"variable\": \"FUSS_IN\", \"value\": 19301.0}, {\"DATUM\": \"2022-03-31T00:00:00\", \"variable\": \"FUSS_IN\", \"value\": 21454.0}, {\"DATUM\": \"2022-04-01T00:00:00\", \"variable\": \"FUSS_IN\", \"value\": 16363.0}, {\"DATUM\": \"2022-04-02T00:00:00\", \"variable\": \"FUSS_IN\", \"value\": 17695.0}, {\"DATUM\": \"2022-04-03T00:00:00\", \"variable\": \"FUSS_IN\", \"value\": 16653.0}, {\"DATUM\": \"2022-04-04T00:00:00\", \"variable\": \"FUSS_IN\", \"value\": 25349.0}, {\"DATUM\": \"2022-04-05T00:00:00\", \"variable\": \"FUSS_IN\", \"value\": 22486.0}, {\"DATUM\": \"2022-04-06T00:00:00\", \"variable\": \"FUSS_IN\", \"value\": 24731.0}, {\"DATUM\": \"2022-04-07T00:00:00\", \"variable\": \"FUSS_IN\", \"value\": 20834.0}, {\"DATUM\": \"2022-04-08T00:00:00\", \"variable\": \"FUSS_IN\", \"value\": 21286.0}, {\"DATUM\": \"2022-04-09T00:00:00\", \"variable\": \"FUSS_IN\", \"value\": 24298.0}, {\"DATUM\": \"2022-04-10T00:00:00\", \"variable\": \"FUSS_IN\", \"value\": 22932.0}, {\"DATUM\": \"2022-04-11T00:00:00\", \"variable\": \"FUSS_IN\", \"value\": 25923.0}, {\"DATUM\": \"2022-04-12T00:00:00\", \"variable\": \"FUSS_IN\", \"value\": 26664.0}, {\"DATUM\": \"2022-04-13T00:00:00\", \"variable\": \"FUSS_IN\", \"value\": 29939.0}, {\"DATUM\": \"2022-04-14T00:00:00\", \"variable\": \"FUSS_IN\", \"value\": 28993.0}, {\"DATUM\": \"2022-04-15T00:00:00\", \"variable\": \"FUSS_IN\", \"value\": 20339.0}, {\"DATUM\": \"2022-04-16T00:00:00\", \"variable\": \"FUSS_IN\", \"value\": 22980.0}, {\"DATUM\": \"2022-04-17T00:00:00\", \"variable\": \"FUSS_IN\", \"value\": 20402.0}, {\"DATUM\": \"2022-04-18T00:00:00\", \"variable\": \"FUSS_IN\", \"value\": 21143.0}, {\"DATUM\": \"2022-04-19T00:00:00\", \"variable\": \"FUSS_IN\", \"value\": 23428.0}, {\"DATUM\": \"2022-04-20T00:00:00\", \"variable\": \"FUSS_IN\", \"value\": 24930.0}, {\"DATUM\": \"2022-04-21T00:00:00\", \"variable\": \"FUSS_IN\", \"value\": 25075.0}, {\"DATUM\": \"2022-04-22T00:00:00\", \"variable\": \"FUSS_IN\", \"value\": 25845.0}, {\"DATUM\": \"2022-04-23T00:00:00\", \"variable\": \"FUSS_IN\", \"value\": 22057.0}, {\"DATUM\": \"2022-04-24T00:00:00\", \"variable\": \"FUSS_IN\", \"value\": 12378.0}, {\"DATUM\": \"2022-04-25T00:00:00\", \"variable\": \"FUSS_IN\", \"value\": 19423.0}, {\"DATUM\": \"2022-04-26T00:00:00\", \"variable\": \"FUSS_IN\", \"value\": 20413.0}, {\"DATUM\": \"2022-04-27T00:00:00\", \"variable\": \"FUSS_IN\", \"value\": 26635.0}, {\"DATUM\": \"2022-04-28T00:00:00\", \"variable\": \"FUSS_IN\", \"value\": 28907.0}, {\"DATUM\": \"2022-04-29T00:00:00\", \"variable\": \"FUSS_IN\", \"value\": 27181.0}, {\"DATUM\": \"2022-04-30T00:00:00\", \"variable\": \"FUSS_IN\", \"value\": 21193.0}, {\"DATUM\": \"2022-05-01T00:00:00\", \"variable\": \"FUSS_IN\", \"value\": 25264.0}, {\"DATUM\": \"2022-05-02T00:00:00\", \"variable\": \"FUSS_IN\", \"value\": 26351.0}, {\"DATUM\": \"2022-05-03T00:00:00\", \"variable\": \"FUSS_IN\", \"value\": 23357.0}, {\"DATUM\": \"2022-05-04T00:00:00\", \"variable\": \"FUSS_IN\", \"value\": 24657.0}, {\"DATUM\": \"2022-05-05T00:00:00\", \"variable\": \"FUSS_IN\", \"value\": 18075.0}, {\"DATUM\": \"2022-05-06T00:00:00\", \"variable\": \"FUSS_IN\", \"value\": 22931.0}, {\"DATUM\": \"2022-05-07T00:00:00\", \"variable\": \"FUSS_IN\", \"value\": 26766.0}, {\"DATUM\": \"2022-05-08T00:00:00\", \"variable\": \"FUSS_IN\", \"value\": 19473.0}, {\"DATUM\": \"2022-05-09T00:00:00\", \"variable\": \"FUSS_IN\", \"value\": 28773.0}, {\"DATUM\": \"2022-05-10T00:00:00\", \"variable\": \"FUSS_IN\", \"value\": 30141.0}, {\"DATUM\": \"2022-05-11T00:00:00\", \"variable\": \"FUSS_IN\", \"value\": 32228.0}, {\"DATUM\": \"2022-05-12T00:00:00\", \"variable\": \"FUSS_IN\", \"value\": 28131.0}, {\"DATUM\": \"2022-05-13T00:00:00\", \"variable\": \"FUSS_IN\", \"value\": 20606.0}, {\"DATUM\": \"2022-05-14T00:00:00\", \"variable\": \"FUSS_IN\", \"value\": 28464.0}, {\"DATUM\": \"2022-05-15T00:00:00\", \"variable\": \"FUSS_IN\", \"value\": 22376.0}, {\"DATUM\": \"2022-05-16T00:00:00\", \"variable\": \"FUSS_IN\", \"value\": 19828.0}, {\"DATUM\": \"2022-05-17T00:00:00\", \"variable\": \"FUSS_IN\", \"value\": 25426.0}, {\"DATUM\": \"2022-05-18T00:00:00\", \"variable\": \"FUSS_IN\", \"value\": 26292.0}, {\"DATUM\": \"2022-05-19T00:00:00\", \"variable\": \"FUSS_IN\", \"value\": 26728.0}, {\"DATUM\": \"2022-05-20T00:00:00\", \"variable\": \"FUSS_IN\", \"value\": 29768.0}, {\"DATUM\": \"2022-05-21T00:00:00\", \"variable\": \"FUSS_IN\", \"value\": 29758.0}, {\"DATUM\": \"2022-05-22T00:00:00\", \"variable\": \"FUSS_IN\", \"value\": 23745.0}, {\"DATUM\": \"2022-05-23T00:00:00\", \"variable\": \"FUSS_IN\", \"value\": 20326.0}, {\"DATUM\": \"2022-05-24T00:00:00\", \"variable\": \"FUSS_IN\", \"value\": 21413.0}, {\"DATUM\": \"2022-05-25T00:00:00\", \"variable\": \"FUSS_IN\", \"value\": 28634.0}, {\"DATUM\": \"2022-05-26T00:00:00\", \"variable\": \"FUSS_IN\", \"value\": 25644.0}, {\"DATUM\": \"2022-05-27T00:00:00\", \"variable\": \"FUSS_IN\", \"value\": 30505.0}, {\"DATUM\": \"2022-05-28T00:00:00\", \"variable\": \"FUSS_IN\", \"value\": 21188.0}, {\"DATUM\": \"2022-05-29T00:00:00\", \"variable\": \"FUSS_IN\", \"value\": 18801.0}, {\"DATUM\": \"2022-05-30T00:00:00\", \"variable\": \"FUSS_IN\", \"value\": 25568.0}, {\"DATUM\": \"2022-05-31T00:00:00\", \"variable\": \"FUSS_IN\", \"value\": 20877.0}, {\"DATUM\": \"2022-06-01T00:00:00\", \"variable\": \"FUSS_IN\", \"value\": 22965.0}, {\"DATUM\": \"2022-06-02T00:00:00\", \"variable\": \"FUSS_IN\", \"value\": 25004.0}, {\"DATUM\": \"2022-06-03T00:00:00\", \"variable\": \"FUSS_IN\", \"value\": 22431.0}, {\"DATUM\": \"2022-06-04T00:00:00\", \"variable\": \"FUSS_IN\", \"value\": 28347.0}, {\"DATUM\": \"2022-06-05T00:00:00\", \"variable\": \"FUSS_IN\", \"value\": 13354.0}, {\"DATUM\": \"2022-06-06T00:00:00\", \"variable\": \"FUSS_IN\", \"value\": 19811.0}, {\"DATUM\": \"2022-06-07T00:00:00\", \"variable\": \"FUSS_IN\", \"value\": 15325.0}, {\"DATUM\": \"2022-06-08T00:00:00\", \"variable\": \"FUSS_IN\", \"value\": 22382.0}, {\"DATUM\": \"2022-06-09T00:00:00\", \"variable\": \"FUSS_IN\", \"value\": 22126.0}, {\"DATUM\": \"2022-06-10T00:00:00\", \"variable\": \"FUSS_IN\", \"value\": 29176.0}, {\"DATUM\": \"2022-06-11T00:00:00\", \"variable\": \"FUSS_IN\", \"value\": 29702.0}, {\"DATUM\": \"2022-06-12T00:00:00\", \"variable\": \"FUSS_IN\", \"value\": 24212.0}, {\"DATUM\": \"2022-06-13T00:00:00\", \"variable\": \"FUSS_IN\", \"value\": 21290.0}, {\"DATUM\": \"2022-06-14T00:00:00\", \"variable\": \"FUSS_IN\", \"value\": 26423.0}, {\"DATUM\": \"2022-06-15T00:00:00\", \"variable\": \"FUSS_IN\", \"value\": 23800.0}, {\"DATUM\": \"2022-06-16T00:00:00\", \"variable\": \"FUSS_IN\", \"value\": 27749.0}, {\"DATUM\": \"2022-06-17T00:00:00\", \"variable\": \"FUSS_IN\", \"value\": 29837.0}, {\"DATUM\": \"2022-06-18T00:00:00\", \"variable\": \"FUSS_IN\", \"value\": 31009.0}, {\"DATUM\": \"2022-06-19T00:00:00\", \"variable\": \"FUSS_IN\", \"value\": 24295.0}, {\"DATUM\": \"2022-06-20T00:00:00\", \"variable\": \"FUSS_IN\", \"value\": 27342.0}, {\"DATUM\": \"2022-06-21T00:00:00\", \"variable\": \"FUSS_IN\", \"value\": 23134.0}, {\"DATUM\": \"2022-06-22T00:00:00\", \"variable\": \"FUSS_IN\", \"value\": 18939.0}, {\"DATUM\": \"2022-06-23T00:00:00\", \"variable\": \"FUSS_IN\", \"value\": 28199.0}, {\"DATUM\": \"2022-06-24T00:00:00\", \"variable\": \"FUSS_IN\", \"value\": 19583.0}, {\"DATUM\": \"2022-06-25T00:00:00\", \"variable\": \"FUSS_IN\", \"value\": 32455.0}, {\"DATUM\": \"2022-06-26T00:00:00\", \"variable\": \"FUSS_IN\", \"value\": 23978.0}, {\"DATUM\": \"2022-06-27T00:00:00\", \"variable\": \"FUSS_IN\", \"value\": 17032.0}, {\"DATUM\": \"2022-06-28T00:00:00\", \"variable\": \"FUSS_IN\", \"value\": 23139.0}, {\"DATUM\": \"2022-06-29T00:00:00\", \"variable\": \"FUSS_IN\", \"value\": 24271.0}, {\"DATUM\": \"2022-06-30T00:00:00\", \"variable\": \"FUSS_IN\", \"value\": 20670.0}, {\"DATUM\": \"2022-07-01T00:00:00\", \"variable\": \"FUSS_IN\", \"value\": 22096.0}, {\"DATUM\": \"2022-07-02T00:00:00\", \"variable\": \"FUSS_IN\", \"value\": 31747.0}, {\"DATUM\": \"2022-07-03T00:00:00\", \"variable\": \"FUSS_IN\", \"value\": 22074.0}, {\"DATUM\": \"2022-07-04T00:00:00\", \"variable\": \"FUSS_IN\", \"value\": 16666.0}, {\"DATUM\": \"2022-07-05T00:00:00\", \"variable\": \"FUSS_IN\", \"value\": 22079.0}, {\"DATUM\": \"2022-07-06T00:00:00\", \"variable\": \"FUSS_IN\", \"value\": 25340.0}, {\"DATUM\": \"2022-07-07T00:00:00\", \"variable\": \"FUSS_IN\", \"value\": 22599.0}, {\"DATUM\": \"2022-07-08T00:00:00\", \"variable\": \"FUSS_IN\", \"value\": 26954.0}, {\"DATUM\": \"2022-07-09T00:00:00\", \"variable\": \"FUSS_IN\", \"value\": 27219.0}, {\"DATUM\": \"2022-07-10T00:00:00\", \"variable\": \"FUSS_IN\", \"value\": 18829.0}, {\"DATUM\": \"2022-07-11T00:00:00\", \"variable\": \"FUSS_IN\", \"value\": 23585.0}, {\"DATUM\": \"2022-07-12T00:00:00\", \"variable\": \"FUSS_IN\", \"value\": 28444.0}, {\"DATUM\": \"2022-07-13T00:00:00\", \"variable\": \"FUSS_IN\", \"value\": 25589.0}, {\"DATUM\": \"2022-07-14T00:00:00\", \"variable\": \"FUSS_IN\", \"value\": 23645.0}, {\"DATUM\": \"2022-07-15T00:00:00\", \"variable\": \"FUSS_IN\", \"value\": 26358.0}, {\"DATUM\": \"2022-07-16T00:00:00\", \"variable\": \"FUSS_IN\", \"value\": 24927.0}, {\"DATUM\": \"2022-07-17T00:00:00\", \"variable\": \"FUSS_IN\", \"value\": 19647.0}, {\"DATUM\": \"2022-07-18T00:00:00\", \"variable\": \"FUSS_IN\", \"value\": 22566.0}, {\"DATUM\": \"2022-07-19T00:00:00\", \"variable\": \"FUSS_IN\", \"value\": 20209.0}, {\"DATUM\": \"2022-07-20T00:00:00\", \"variable\": \"FUSS_IN\", \"value\": 17407.0}, {\"DATUM\": \"2022-07-21T00:00:00\", \"variable\": \"FUSS_IN\", \"value\": 20682.0}, {\"DATUM\": \"2022-07-22T00:00:00\", \"variable\": \"FUSS_IN\", \"value\": 21546.0}, {\"DATUM\": \"2022-07-23T00:00:00\", \"variable\": \"FUSS_IN\", \"value\": 18297.0}, {\"DATUM\": \"2022-07-24T00:00:00\", \"variable\": \"FUSS_IN\", \"value\": 18675.0}, {\"DATUM\": \"2022-07-25T00:00:00\", \"variable\": \"FUSS_IN\", \"value\": 19199.0}, {\"DATUM\": \"2022-07-26T00:00:00\", \"variable\": \"FUSS_IN\", \"value\": 17941.0}, {\"DATUM\": \"2022-07-27T00:00:00\", \"variable\": \"FUSS_IN\", \"value\": 19441.0}, {\"DATUM\": \"2022-07-28T00:00:00\", \"variable\": \"FUSS_IN\", \"value\": 18811.0}, {\"DATUM\": \"2022-07-29T00:00:00\", \"variable\": \"FUSS_IN\", \"value\": 16674.0}, {\"DATUM\": \"2022-07-30T00:00:00\", \"variable\": \"FUSS_IN\", \"value\": 19920.0}, {\"DATUM\": \"2022-07-31T00:00:00\", \"variable\": \"FUSS_IN\", \"value\": 16820.0}, {\"DATUM\": \"2022-08-01T00:00:00\", \"variable\": \"FUSS_IN\", \"value\": 17600.0}, {\"DATUM\": \"2022-08-02T00:00:00\", \"variable\": \"FUSS_IN\", \"value\": 18598.0}, {\"DATUM\": \"2022-08-03T00:00:00\", \"variable\": \"FUSS_IN\", \"value\": 19586.0}, {\"DATUM\": \"2022-08-04T00:00:00\", \"variable\": \"FUSS_IN\", \"value\": 20680.0}, {\"DATUM\": \"2022-08-05T00:00:00\", \"variable\": \"FUSS_IN\", \"value\": 18256.0}, {\"DATUM\": \"2022-08-06T00:00:00\", \"variable\": \"FUSS_IN\", \"value\": 18041.0}, {\"DATUM\": \"2022-08-07T00:00:00\", \"variable\": \"FUSS_IN\", \"value\": 17028.0}, {\"DATUM\": \"2022-08-08T00:00:00\", \"variable\": \"FUSS_IN\", \"value\": 22405.0}, {\"DATUM\": \"2022-08-09T00:00:00\", \"variable\": \"FUSS_IN\", \"value\": 24386.0}, {\"DATUM\": \"2022-08-10T00:00:00\", \"variable\": \"FUSS_IN\", \"value\": 24949.0}, {\"DATUM\": \"2022-08-11T00:00:00\", \"variable\": \"FUSS_IN\", \"value\": 25069.0}, {\"DATUM\": \"2022-08-12T00:00:00\", \"variable\": \"FUSS_IN\", \"value\": 27605.0}, {\"DATUM\": \"2022-08-13T00:00:00\", \"variable\": \"FUSS_IN\", \"value\": 39363.0}, {\"DATUM\": \"2022-08-14T00:00:00\", \"variable\": \"FUSS_IN\", \"value\": 23493.0}, {\"DATUM\": \"2022-08-15T00:00:00\", \"variable\": \"FUSS_IN\", \"value\": 21501.0}, {\"DATUM\": \"2022-08-16T00:00:00\", \"variable\": \"FUSS_IN\", \"value\": 22220.0}, {\"DATUM\": \"2022-08-17T00:00:00\", \"variable\": \"FUSS_IN\", \"value\": 19474.0}, {\"DATUM\": \"2022-08-18T00:00:00\", \"variable\": \"FUSS_IN\", \"value\": 18556.0}, {\"DATUM\": \"2022-08-19T00:00:00\", \"variable\": \"FUSS_IN\", \"value\": 18132.0}, {\"DATUM\": \"2022-08-20T00:00:00\", \"variable\": \"FUSS_IN\", \"value\": 22502.0}, {\"DATUM\": \"2022-08-21T00:00:00\", \"variable\": \"FUSS_IN\", \"value\": 19742.0}, {\"DATUM\": \"2022-08-22T00:00:00\", \"variable\": \"FUSS_IN\", \"value\": 22076.0}, {\"DATUM\": \"2022-08-23T00:00:00\", \"variable\": \"FUSS_IN\", \"value\": 23801.0}, {\"DATUM\": \"2022-08-24T00:00:00\", \"variable\": \"FUSS_IN\", \"value\": 24180.0}, {\"DATUM\": \"2022-01-01T00:00:00\", \"variable\": \"FUSS_OUT\", \"value\": 11379.0}, {\"DATUM\": \"2022-01-02T00:00:00\", \"variable\": \"FUSS_OUT\", \"value\": 10380.0}, {\"DATUM\": \"2022-01-03T00:00:00\", \"variable\": \"FUSS_OUT\", \"value\": 13680.0}, {\"DATUM\": \"2022-01-04T00:00:00\", \"variable\": \"FUSS_OUT\", \"value\": 13185.0}, {\"DATUM\": \"2022-01-05T00:00:00\", \"variable\": \"FUSS_OUT\", \"value\": 11749.0}, {\"DATUM\": \"2022-01-06T00:00:00\", \"variable\": \"FUSS_OUT\", \"value\": 12389.0}, {\"DATUM\": \"2022-01-07T00:00:00\", \"variable\": \"FUSS_OUT\", \"value\": 12667.0}, {\"DATUM\": \"2022-01-08T00:00:00\", \"variable\": \"FUSS_OUT\", \"value\": 13498.0}, {\"DATUM\": \"2022-01-09T00:00:00\", \"variable\": \"FUSS_OUT\", \"value\": 9143.0}, {\"DATUM\": \"2022-01-10T00:00:00\", \"variable\": \"FUSS_OUT\", \"value\": 12429.0}, {\"DATUM\": \"2022-01-11T00:00:00\", \"variable\": \"FUSS_OUT\", \"value\": 13460.0}, {\"DATUM\": \"2022-01-12T00:00:00\", \"variable\": \"FUSS_OUT\", \"value\": 14295.0}, {\"DATUM\": \"2022-01-13T00:00:00\", \"variable\": \"FUSS_OUT\", \"value\": 14432.0}, {\"DATUM\": \"2022-01-14T00:00:00\", \"variable\": \"FUSS_OUT\", \"value\": 15575.0}, {\"DATUM\": \"2022-01-15T00:00:00\", \"variable\": \"FUSS_OUT\", \"value\": 14875.0}, {\"DATUM\": \"2022-01-16T00:00:00\", \"variable\": \"FUSS_OUT\", \"value\": 12243.0}, {\"DATUM\": \"2022-01-17T00:00:00\", \"variable\": \"FUSS_OUT\", \"value\": 14397.0}, {\"DATUM\": \"2022-01-18T00:00:00\", \"variable\": \"FUSS_OUT\", \"value\": 13830.0}, {\"DATUM\": \"2022-01-19T00:00:00\", \"variable\": \"FUSS_OUT\", \"value\": 14786.0}, {\"DATUM\": \"2022-01-20T00:00:00\", \"variable\": \"FUSS_OUT\", \"value\": 13273.0}, {\"DATUM\": \"2022-01-21T00:00:00\", \"variable\": \"FUSS_OUT\", \"value\": 15451.0}, {\"DATUM\": \"2022-01-22T00:00:00\", \"variable\": \"FUSS_OUT\", \"value\": 14891.0}, {\"DATUM\": \"2022-01-23T00:00:00\", \"variable\": \"FUSS_OUT\", \"value\": 11318.0}, {\"DATUM\": \"2022-01-24T00:00:00\", \"variable\": \"FUSS_OUT\", \"value\": 12906.0}, {\"DATUM\": \"2022-01-25T00:00:00\", \"variable\": \"FUSS_OUT\", \"value\": 15416.0}, {\"DATUM\": \"2022-01-26T00:00:00\", \"variable\": \"FUSS_OUT\", \"value\": 15762.0}, {\"DATUM\": \"2022-01-27T00:00:00\", \"variable\": \"FUSS_OUT\", \"value\": 15478.0}, {\"DATUM\": \"2022-01-28T00:00:00\", \"variable\": \"FUSS_OUT\", \"value\": 15352.0}, {\"DATUM\": \"2022-01-29T00:00:00\", \"variable\": \"FUSS_OUT\", \"value\": 16727.0}, {\"DATUM\": \"2022-01-30T00:00:00\", \"variable\": \"FUSS_OUT\", \"value\": 11193.0}, {\"DATUM\": \"2022-01-31T00:00:00\", \"variable\": \"FUSS_OUT\", \"value\": 9893.0}, {\"DATUM\": \"2022-02-01T00:00:00\", \"variable\": \"FUSS_OUT\", \"value\": 10978.0}, {\"DATUM\": \"2022-02-02T00:00:00\", \"variable\": \"FUSS_OUT\", \"value\": 12235.0}, {\"DATUM\": \"2022-02-03T00:00:00\", \"variable\": \"FUSS_OUT\", \"value\": 14281.0}, {\"DATUM\": \"2022-02-04T00:00:00\", \"variable\": \"FUSS_OUT\", \"value\": 15196.0}, {\"DATUM\": \"2022-02-05T00:00:00\", \"variable\": \"FUSS_OUT\", \"value\": 18171.0}, {\"DATUM\": \"2022-02-06T00:00:00\", \"variable\": \"FUSS_OUT\", \"value\": 8709.0}, {\"DATUM\": \"2022-02-07T00:00:00\", \"variable\": \"FUSS_OUT\", \"value\": 13007.0}, {\"DATUM\": \"2022-02-08T00:00:00\", \"variable\": \"FUSS_OUT\", \"value\": 15275.0}, {\"DATUM\": \"2022-02-09T00:00:00\", \"variable\": \"FUSS_OUT\", \"value\": 15851.0}, {\"DATUM\": \"2022-02-10T00:00:00\", \"variable\": \"FUSS_OUT\", \"value\": 15678.0}, {\"DATUM\": \"2022-02-11T00:00:00\", \"variable\": \"FUSS_OUT\", \"value\": 13461.0}, {\"DATUM\": \"2022-02-12T00:00:00\", \"variable\": \"FUSS_OUT\", \"value\": 18979.0}, {\"DATUM\": \"2022-02-13T00:00:00\", \"variable\": \"FUSS_OUT\", \"value\": 17225.0}, {\"DATUM\": \"2022-02-14T00:00:00\", \"variable\": \"FUSS_OUT\", \"value\": 13390.0}, {\"DATUM\": \"2022-02-15T00:00:00\", \"variable\": \"FUSS_OUT\", \"value\": 13166.0}, {\"DATUM\": \"2022-02-16T00:00:00\", \"variable\": \"FUSS_OUT\", \"value\": 12204.0}, {\"DATUM\": \"2022-02-17T00:00:00\", \"variable\": \"FUSS_OUT\", \"value\": 13622.0}, {\"DATUM\": \"2022-02-18T00:00:00\", \"variable\": \"FUSS_OUT\", \"value\": 15681.0}, {\"DATUM\": \"2022-02-19T00:00:00\", \"variable\": \"FUSS_OUT\", \"value\": 15841.0}, {\"DATUM\": \"2022-02-20T00:00:00\", \"variable\": \"FUSS_OUT\", \"value\": 14125.0}, {\"DATUM\": \"2022-02-21T00:00:00\", \"variable\": \"FUSS_OUT\", \"value\": 11090.0}, {\"DATUM\": \"2022-02-22T00:00:00\", \"variable\": \"FUSS_OUT\", \"value\": 16032.0}, {\"DATUM\": \"2022-02-23T00:00:00\", \"variable\": \"FUSS_OUT\", \"value\": 18327.0}, {\"DATUM\": \"2022-02-24T00:00:00\", \"variable\": \"FUSS_OUT\", \"value\": 20122.0}, {\"DATUM\": \"2022-02-25T00:00:00\", \"variable\": \"FUSS_OUT\", \"value\": 19937.0}, {\"DATUM\": \"2022-02-26T00:00:00\", \"variable\": \"FUSS_OUT\", \"value\": 21393.0}, {\"DATUM\": \"2022-02-27T00:00:00\", \"variable\": \"FUSS_OUT\", \"value\": 19269.0}, {\"DATUM\": \"2022-02-28T00:00:00\", \"variable\": \"FUSS_OUT\", \"value\": 21467.0}, {\"DATUM\": \"2022-03-01T00:00:00\", \"variable\": \"FUSS_OUT\", \"value\": 21814.0}, {\"DATUM\": \"2022-03-02T00:00:00\", \"variable\": \"FUSS_OUT\", \"value\": 21297.0}, {\"DATUM\": \"2022-03-03T00:00:00\", \"variable\": \"FUSS_OUT\", \"value\": 23666.0}, {\"DATUM\": \"2022-03-04T00:00:00\", \"variable\": \"FUSS_OUT\", \"value\": 23142.0}, {\"DATUM\": \"2022-03-05T00:00:00\", \"variable\": \"FUSS_OUT\", \"value\": 24191.0}, {\"DATUM\": \"2022-03-06T00:00:00\", \"variable\": \"FUSS_OUT\", \"value\": 17321.0}, {\"DATUM\": \"2022-03-07T00:00:00\", \"variable\": \"FUSS_OUT\", \"value\": 19114.0}, {\"DATUM\": \"2022-03-08T00:00:00\", \"variable\": \"FUSS_OUT\", \"value\": 21831.0}, {\"DATUM\": \"2022-03-09T00:00:00\", \"variable\": \"FUSS_OUT\", \"value\": 23630.0}, {\"DATUM\": \"2022-03-10T00:00:00\", \"variable\": \"FUSS_OUT\", \"value\": 23492.0}, {\"DATUM\": \"2022-03-11T00:00:00\", \"variable\": \"FUSS_OUT\", \"value\": 23361.0}, {\"DATUM\": \"2022-03-12T00:00:00\", \"variable\": \"FUSS_OUT\", \"value\": 23980.0}, {\"DATUM\": \"2022-03-13T00:00:00\", \"variable\": \"FUSS_OUT\", \"value\": 21293.0}, {\"DATUM\": \"2022-03-14T00:00:00\", \"variable\": \"FUSS_OUT\", \"value\": 20422.0}, {\"DATUM\": \"2022-03-15T00:00:00\", \"variable\": \"FUSS_OUT\", \"value\": 16852.0}, {\"DATUM\": \"2022-03-16T00:00:00\", \"variable\": \"FUSS_OUT\", \"value\": 21360.0}, {\"DATUM\": \"2022-03-17T00:00:00\", \"variable\": \"FUSS_OUT\", \"value\": 20739.0}, {\"DATUM\": \"2022-03-18T00:00:00\", \"variable\": \"FUSS_OUT\", \"value\": 19185.0}, {\"DATUM\": \"2022-03-19T00:00:00\", \"variable\": \"FUSS_OUT\", \"value\": 22540.0}, {\"DATUM\": \"2022-03-20T00:00:00\", \"variable\": \"FUSS_OUT\", \"value\": 21072.0}, {\"DATUM\": \"2022-03-21T00:00:00\", \"variable\": \"FUSS_OUT\", \"value\": 20675.0}, {\"DATUM\": \"2022-03-22T00:00:00\", \"variable\": \"FUSS_OUT\", \"value\": 23483.0}, {\"DATUM\": \"2022-03-23T00:00:00\", \"variable\": \"FUSS_OUT\", \"value\": 23675.0}, {\"DATUM\": \"2022-03-24T00:00:00\", \"variable\": \"FUSS_OUT\", \"value\": 24511.0}, {\"DATUM\": \"2022-03-25T00:00:00\", \"variable\": \"FUSS_OUT\", \"value\": 24776.0}, {\"DATUM\": \"2022-03-26T00:00:00\", \"variable\": \"FUSS_OUT\", \"value\": 28158.0}, {\"DATUM\": \"2022-03-27T00:00:00\", \"variable\": \"FUSS_OUT\", \"value\": 23169.0}, {\"DATUM\": \"2022-03-28T00:00:00\", \"variable\": \"FUSS_OUT\", \"value\": 24489.0}, {\"DATUM\": \"2022-03-29T00:00:00\", \"variable\": \"FUSS_OUT\", \"value\": 22081.0}, {\"DATUM\": \"2022-03-30T00:00:00\", \"variable\": \"FUSS_OUT\", \"value\": 17368.0}, {\"DATUM\": \"2022-03-31T00:00:00\", \"variable\": \"FUSS_OUT\", \"value\": 18153.0}, {\"DATUM\": \"2022-04-01T00:00:00\", \"variable\": \"FUSS_OUT\", \"value\": 14277.0}, {\"DATUM\": \"2022-04-02T00:00:00\", \"variable\": \"FUSS_OUT\", \"value\": 15598.0}, {\"DATUM\": \"2022-04-03T00:00:00\", \"variable\": \"FUSS_OUT\", \"value\": 14754.0}, {\"DATUM\": \"2022-04-04T00:00:00\", \"variable\": \"FUSS_OUT\", \"value\": 21863.0}, {\"DATUM\": \"2022-04-05T00:00:00\", \"variable\": \"FUSS_OUT\", \"value\": 19257.0}, {\"DATUM\": \"2022-04-06T00:00:00\", \"variable\": \"FUSS_OUT\", \"value\": 21880.0}, {\"DATUM\": \"2022-04-07T00:00:00\", \"variable\": \"FUSS_OUT\", \"value\": 17585.0}, {\"DATUM\": \"2022-04-08T00:00:00\", \"variable\": \"FUSS_OUT\", \"value\": 18443.0}, {\"DATUM\": \"2022-04-09T00:00:00\", \"variable\": \"FUSS_OUT\", \"value\": 19727.0}, {\"DATUM\": \"2022-04-10T00:00:00\", \"variable\": \"FUSS_OUT\", \"value\": 24692.0}, {\"DATUM\": \"2022-04-11T00:00:00\", \"variable\": \"FUSS_OUT\", \"value\": 21952.0}, {\"DATUM\": \"2022-04-12T00:00:00\", \"variable\": \"FUSS_OUT\", \"value\": 19872.0}, {\"DATUM\": \"2022-04-13T00:00:00\", \"variable\": \"FUSS_OUT\", \"value\": 22106.0}, {\"DATUM\": \"2022-04-14T00:00:00\", \"variable\": \"FUSS_OUT\", \"value\": 21894.0}, {\"DATUM\": \"2022-04-15T00:00:00\", \"variable\": \"FUSS_OUT\", \"value\": 14393.0}, {\"DATUM\": \"2022-04-16T00:00:00\", \"variable\": \"FUSS_OUT\", \"value\": 15375.0}, {\"DATUM\": \"2022-04-17T00:00:00\", \"variable\": \"FUSS_OUT\", \"value\": 13222.0}, {\"DATUM\": \"2022-04-18T00:00:00\", \"variable\": \"FUSS_OUT\", \"value\": 16142.0}, {\"DATUM\": \"2022-04-19T00:00:00\", \"variable\": \"FUSS_OUT\", \"value\": 20252.0}, {\"DATUM\": \"2022-04-20T00:00:00\", \"variable\": \"FUSS_OUT\", \"value\": 20843.0}, {\"DATUM\": \"2022-04-21T00:00:00\", \"variable\": \"FUSS_OUT\", \"value\": 21152.0}, {\"DATUM\": \"2022-04-22T00:00:00\", \"variable\": \"FUSS_OUT\", \"value\": 21418.0}, {\"DATUM\": \"2022-04-23T00:00:00\", \"variable\": \"FUSS_OUT\", \"value\": 18667.0}, {\"DATUM\": \"2022-04-24T00:00:00\", \"variable\": \"FUSS_OUT\", \"value\": 10792.0}, {\"DATUM\": \"2022-04-25T00:00:00\", \"variable\": \"FUSS_OUT\", \"value\": 17271.0}, {\"DATUM\": \"2022-04-26T00:00:00\", \"variable\": \"FUSS_OUT\", \"value\": 18062.0}, {\"DATUM\": \"2022-04-27T00:00:00\", \"variable\": \"FUSS_OUT\", \"value\": 22726.0}, {\"DATUM\": \"2022-04-28T00:00:00\", \"variable\": \"FUSS_OUT\", \"value\": 24495.0}, {\"DATUM\": \"2022-04-29T00:00:00\", \"variable\": \"FUSS_OUT\", \"value\": 23058.0}, {\"DATUM\": \"2022-04-30T00:00:00\", \"variable\": \"FUSS_OUT\", \"value\": 17717.0}, {\"DATUM\": \"2022-05-01T00:00:00\", \"variable\": \"FUSS_OUT\", \"value\": 20198.0}, {\"DATUM\": \"2022-05-02T00:00:00\", \"variable\": \"FUSS_OUT\", \"value\": 22753.0}, {\"DATUM\": \"2022-05-03T00:00:00\", \"variable\": \"FUSS_OUT\", \"value\": 19950.0}, {\"DATUM\": \"2022-05-04T00:00:00\", \"variable\": \"FUSS_OUT\", \"value\": 21702.0}, {\"DATUM\": \"2022-05-05T00:00:00\", \"variable\": \"FUSS_OUT\", \"value\": 15906.0}, {\"DATUM\": \"2022-05-06T00:00:00\", \"variable\": \"FUSS_OUT\", \"value\": 19935.0}, {\"DATUM\": \"2022-05-07T00:00:00\", \"variable\": \"FUSS_OUT\", \"value\": 22512.0}, {\"DATUM\": \"2022-05-08T00:00:00\", \"variable\": \"FUSS_OUT\", \"value\": 16644.0}, {\"DATUM\": \"2022-05-09T00:00:00\", \"variable\": \"FUSS_OUT\", \"value\": 20889.0}, {\"DATUM\": \"2022-05-10T00:00:00\", \"variable\": \"FUSS_OUT\", \"value\": 21823.0}, {\"DATUM\": \"2022-05-11T00:00:00\", \"variable\": \"FUSS_OUT\", \"value\": 25129.0}, {\"DATUM\": \"2022-05-12T00:00:00\", \"variable\": \"FUSS_OUT\", \"value\": 21638.0}, {\"DATUM\": \"2022-05-13T00:00:00\", \"variable\": \"FUSS_OUT\", \"value\": 19333.0}, {\"DATUM\": \"2022-05-14T00:00:00\", \"variable\": \"FUSS_OUT\", \"value\": 25188.0}, {\"DATUM\": \"2022-05-15T00:00:00\", \"variable\": \"FUSS_OUT\", \"value\": 20111.0}, {\"DATUM\": \"2022-05-16T00:00:00\", \"variable\": \"FUSS_OUT\", \"value\": 19063.0}, {\"DATUM\": \"2022-05-17T00:00:00\", \"variable\": \"FUSS_OUT\", \"value\": 23180.0}, {\"DATUM\": \"2022-05-18T00:00:00\", \"variable\": \"FUSS_OUT\", \"value\": 24102.0}, {\"DATUM\": \"2022-05-19T00:00:00\", \"variable\": \"FUSS_OUT\", \"value\": 20338.0}, {\"DATUM\": \"2022-05-20T00:00:00\", \"variable\": \"FUSS_OUT\", \"value\": 23054.0}, {\"DATUM\": \"2022-05-21T00:00:00\", \"variable\": \"FUSS_OUT\", \"value\": 22271.0}, {\"DATUM\": \"2022-05-22T00:00:00\", \"variable\": \"FUSS_OUT\", \"value\": 17334.0}, {\"DATUM\": \"2022-05-23T00:00:00\", \"variable\": \"FUSS_OUT\", \"value\": 16946.0}, {\"DATUM\": \"2022-05-24T00:00:00\", \"variable\": \"FUSS_OUT\", \"value\": 17996.0}, {\"DATUM\": \"2022-05-25T00:00:00\", \"variable\": \"FUSS_OUT\", \"value\": 24177.0}, {\"DATUM\": \"2022-05-26T00:00:00\", \"variable\": \"FUSS_OUT\", \"value\": 21786.0}, {\"DATUM\": \"2022-05-27T00:00:00\", \"variable\": \"FUSS_OUT\", \"value\": 24660.0}, {\"DATUM\": \"2022-05-28T00:00:00\", \"variable\": \"FUSS_OUT\", \"value\": 19132.0}, {\"DATUM\": \"2022-05-29T00:00:00\", \"variable\": \"FUSS_OUT\", \"value\": 15427.0}, {\"DATUM\": \"2022-05-30T00:00:00\", \"variable\": \"FUSS_OUT\", \"value\": 22213.0}, {\"DATUM\": \"2022-05-31T00:00:00\", \"variable\": \"FUSS_OUT\", \"value\": 18529.0}, {\"DATUM\": \"2022-06-01T00:00:00\", \"variable\": \"FUSS_OUT\", \"value\": 20093.0}, {\"DATUM\": \"2022-06-02T00:00:00\", \"variable\": \"FUSS_OUT\", \"value\": 22422.0}, {\"DATUM\": \"2022-06-03T00:00:00\", \"variable\": \"FUSS_OUT\", \"value\": 19805.0}, {\"DATUM\": \"2022-06-04T00:00:00\", \"variable\": \"FUSS_OUT\", \"value\": 24247.0}, {\"DATUM\": \"2022-06-05T00:00:00\", \"variable\": \"FUSS_OUT\", \"value\": 11958.0}, {\"DATUM\": \"2022-06-06T00:00:00\", \"variable\": \"FUSS_OUT\", \"value\": 16934.0}, {\"DATUM\": \"2022-06-07T00:00:00\", \"variable\": \"FUSS_OUT\", \"value\": 14872.0}, {\"DATUM\": \"2022-06-08T00:00:00\", \"variable\": \"FUSS_OUT\", \"value\": 18984.0}, {\"DATUM\": \"2022-06-09T00:00:00\", \"variable\": \"FUSS_OUT\", \"value\": 18381.0}, {\"DATUM\": \"2022-06-10T00:00:00\", \"variable\": \"FUSS_OUT\", \"value\": 24395.0}, {\"DATUM\": \"2022-06-11T00:00:00\", \"variable\": \"FUSS_OUT\", \"value\": 25274.0}, {\"DATUM\": \"2022-06-12T00:00:00\", \"variable\": \"FUSS_OUT\", \"value\": 21064.0}, {\"DATUM\": \"2022-06-13T00:00:00\", \"variable\": \"FUSS_OUT\", \"value\": 18994.0}, {\"DATUM\": \"2022-06-14T00:00:00\", \"variable\": \"FUSS_OUT\", \"value\": 23012.0}, {\"DATUM\": \"2022-06-15T00:00:00\", \"variable\": \"FUSS_OUT\", \"value\": 21495.0}, {\"DATUM\": \"2022-06-16T00:00:00\", \"variable\": \"FUSS_OUT\", \"value\": 23621.0}, {\"DATUM\": \"2022-06-17T00:00:00\", \"variable\": \"FUSS_OUT\", \"value\": 24837.0}, {\"DATUM\": \"2022-06-18T00:00:00\", \"variable\": \"FUSS_OUT\", \"value\": 25307.0}, {\"DATUM\": \"2022-06-19T00:00:00\", \"variable\": \"FUSS_OUT\", \"value\": 17791.0}, {\"DATUM\": \"2022-06-20T00:00:00\", \"variable\": \"FUSS_OUT\", \"value\": 18713.0}, {\"DATUM\": \"2022-06-21T00:00:00\", \"variable\": \"FUSS_OUT\", \"value\": 18209.0}, {\"DATUM\": \"2022-06-22T00:00:00\", \"variable\": \"FUSS_OUT\", \"value\": 16472.0}, {\"DATUM\": \"2022-06-23T00:00:00\", \"variable\": \"FUSS_OUT\", \"value\": 20724.0}, {\"DATUM\": \"2022-06-24T00:00:00\", \"variable\": \"FUSS_OUT\", \"value\": 15291.0}, {\"DATUM\": \"2022-06-25T00:00:00\", \"variable\": \"FUSS_OUT\", \"value\": 26129.0}, {\"DATUM\": \"2022-06-26T00:00:00\", \"variable\": \"FUSS_OUT\", \"value\": 21983.0}, {\"DATUM\": \"2022-06-27T00:00:00\", \"variable\": \"FUSS_OUT\", \"value\": 15818.0}, {\"DATUM\": \"2022-06-28T00:00:00\", \"variable\": \"FUSS_OUT\", \"value\": 19900.0}, {\"DATUM\": \"2022-06-29T00:00:00\", \"variable\": \"FUSS_OUT\", \"value\": 22329.0}, {\"DATUM\": \"2022-06-30T00:00:00\", \"variable\": \"FUSS_OUT\", \"value\": 19474.0}, {\"DATUM\": \"2022-07-01T00:00:00\", \"variable\": \"FUSS_OUT\", \"value\": 19838.0}, {\"DATUM\": \"2022-07-02T00:00:00\", \"variable\": \"FUSS_OUT\", \"value\": 27126.0}, {\"DATUM\": \"2022-07-03T00:00:00\", \"variable\": \"FUSS_OUT\", \"value\": 19493.0}, {\"DATUM\": \"2022-07-04T00:00:00\", \"variable\": \"FUSS_OUT\", \"value\": 15225.0}, {\"DATUM\": \"2022-07-05T00:00:00\", \"variable\": \"FUSS_OUT\", \"value\": 20439.0}, {\"DATUM\": \"2022-07-06T00:00:00\", \"variable\": \"FUSS_OUT\", \"value\": 22976.0}, {\"DATUM\": \"2022-07-07T00:00:00\", \"variable\": \"FUSS_OUT\", \"value\": 21034.0}, {\"DATUM\": \"2022-07-08T00:00:00\", \"variable\": \"FUSS_OUT\", \"value\": 24216.0}, {\"DATUM\": \"2022-07-09T00:00:00\", \"variable\": \"FUSS_OUT\", \"value\": 24377.0}, {\"DATUM\": \"2022-07-10T00:00:00\", \"variable\": \"FUSS_OUT\", \"value\": 16781.0}, {\"DATUM\": \"2022-07-11T00:00:00\", \"variable\": \"FUSS_OUT\", \"value\": 21349.0}, {\"DATUM\": \"2022-07-12T00:00:00\", \"variable\": \"FUSS_OUT\", \"value\": 22794.0}, {\"DATUM\": \"2022-07-13T00:00:00\", \"variable\": \"FUSS_OUT\", \"value\": 21040.0}, {\"DATUM\": \"2022-07-14T00:00:00\", \"variable\": \"FUSS_OUT\", \"value\": 18777.0}, {\"DATUM\": \"2022-07-15T00:00:00\", \"variable\": \"FUSS_OUT\", \"value\": 20287.0}, {\"DATUM\": \"2022-07-16T00:00:00\", \"variable\": \"FUSS_OUT\", \"value\": 20297.0}, {\"DATUM\": \"2022-07-17T00:00:00\", \"variable\": \"FUSS_OUT\", \"value\": 16090.0}, {\"DATUM\": \"2022-07-18T00:00:00\", \"variable\": \"FUSS_OUT\", \"value\": 16727.0}, {\"DATUM\": \"2022-07-19T00:00:00\", \"variable\": \"FUSS_OUT\", \"value\": 16468.0}, {\"DATUM\": \"2022-07-20T00:00:00\", \"variable\": \"FUSS_OUT\", \"value\": 13410.0}, {\"DATUM\": \"2022-07-21T00:00:00\", \"variable\": \"FUSS_OUT\", \"value\": 18492.0}, {\"DATUM\": \"2022-07-22T00:00:00\", \"variable\": \"FUSS_OUT\", \"value\": 19107.0}, {\"DATUM\": \"2022-07-23T00:00:00\", \"variable\": \"FUSS_OUT\", \"value\": 16573.0}, {\"DATUM\": \"2022-07-24T00:00:00\", \"variable\": \"FUSS_OUT\", \"value\": 16369.0}, {\"DATUM\": \"2022-07-25T00:00:00\", \"variable\": \"FUSS_OUT\", \"value\": 15966.0}, {\"DATUM\": \"2022-07-26T00:00:00\", \"variable\": \"FUSS_OUT\", \"value\": 16866.0}, {\"DATUM\": \"2022-07-27T00:00:00\", \"variable\": \"FUSS_OUT\", \"value\": 17860.0}, {\"DATUM\": \"2022-07-28T00:00:00\", \"variable\": \"FUSS_OUT\", \"value\": 17503.0}, {\"DATUM\": \"2022-07-29T00:00:00\", \"variable\": \"FUSS_OUT\", \"value\": 14557.0}, {\"DATUM\": \"2022-07-30T00:00:00\", \"variable\": \"FUSS_OUT\", \"value\": 17582.0}, {\"DATUM\": \"2022-07-31T00:00:00\", \"variable\": \"FUSS_OUT\", \"value\": 14878.0}, {\"DATUM\": \"2022-08-01T00:00:00\", \"variable\": \"FUSS_OUT\", \"value\": 14194.0}, {\"DATUM\": \"2022-08-02T00:00:00\", \"variable\": \"FUSS_OUT\", \"value\": 16867.0}, {\"DATUM\": \"2022-08-03T00:00:00\", \"variable\": \"FUSS_OUT\", \"value\": 18253.0}, {\"DATUM\": \"2022-08-04T00:00:00\", \"variable\": \"FUSS_OUT\", \"value\": 17865.0}, {\"DATUM\": \"2022-08-05T00:00:00\", \"variable\": \"FUSS_OUT\", \"value\": 14664.0}, {\"DATUM\": \"2022-08-06T00:00:00\", \"variable\": \"FUSS_OUT\", \"value\": 16766.0}, {\"DATUM\": \"2022-08-07T00:00:00\", \"variable\": \"FUSS_OUT\", \"value\": 15048.0}, {\"DATUM\": \"2022-08-08T00:00:00\", \"variable\": \"FUSS_OUT\", \"value\": 19987.0}, {\"DATUM\": \"2022-08-09T00:00:00\", \"variable\": \"FUSS_OUT\", \"value\": 21532.0}, {\"DATUM\": \"2022-08-10T00:00:00\", \"variable\": \"FUSS_OUT\", \"value\": 21094.0}, {\"DATUM\": \"2022-08-11T00:00:00\", \"variable\": \"FUSS_OUT\", \"value\": 21265.0}, {\"DATUM\": \"2022-08-12T00:00:00\", \"variable\": \"FUSS_OUT\", \"value\": 23107.0}, {\"DATUM\": \"2022-08-13T00:00:00\", \"variable\": \"FUSS_OUT\", \"value\": 36013.0}, {\"DATUM\": \"2022-08-14T00:00:00\", \"variable\": \"FUSS_OUT\", \"value\": 19227.0}, {\"DATUM\": \"2022-08-15T00:00:00\", \"variable\": \"FUSS_OUT\", \"value\": 18542.0}, {\"DATUM\": \"2022-08-16T00:00:00\", \"variable\": \"FUSS_OUT\", \"value\": 20386.0}, {\"DATUM\": \"2022-08-17T00:00:00\", \"variable\": \"FUSS_OUT\", \"value\": 17608.0}, {\"DATUM\": \"2022-08-18T00:00:00\", \"variable\": \"FUSS_OUT\", \"value\": 16702.0}, {\"DATUM\": \"2022-08-19T00:00:00\", \"variable\": \"FUSS_OUT\", \"value\": 15304.0}, {\"DATUM\": \"2022-08-20T00:00:00\", \"variable\": \"FUSS_OUT\", \"value\": 18808.0}, {\"DATUM\": \"2022-08-21T00:00:00\", \"variable\": \"FUSS_OUT\", \"value\": 17431.0}, {\"DATUM\": \"2022-08-22T00:00:00\", \"variable\": \"FUSS_OUT\", \"value\": 19685.0}, {\"DATUM\": \"2022-08-23T00:00:00\", \"variable\": \"FUSS_OUT\", \"value\": 21652.0}, {\"DATUM\": \"2022-08-24T00:00:00\", \"variable\": \"FUSS_OUT\", \"value\": 22017.0}]}}, {\"mode\": \"vega-lite\"});\n",
       "</script>"
      ],
      "text/plain": [
       "alt.VConcatChart(...)"
      ]
     },
     "execution_count": 193,
     "metadata": {},
     "output_type": "execute_result"
    }
   ],
   "source": [
    "#aktuell nimmt die Zeitreihe nicht das laufende Jahr auf.\n",
    "\n",
    "#months = df_zeitreihe_tb.resample(\"M\").min()\n",
    "#years = df_zeitreihe_tb.resample(\"Y\").min()\n",
    "\n",
    "brush = alt.selection(type='interval', encodings=['x'])\n",
    "\n",
    "upper = alt.Chart(df_month_sums[['VELO_IN', 'VELO_OUT', 'FUSS_IN', 'FUSS_OUT']].reset_index().melt(\"DATUM\")).mark_area(interpolate=\"basis\").encode(\n",
    "    x = alt.X('DATUM:T', axis=None),\n",
    "    y = alt.Y('value:Q', axis=None),\n",
    "    color='variable'\n",
    ").properties(width=800, height=50).add_selection(brush)\n",
    "\n",
    "lower = alt.Chart(df_day_sums[['VELO_IN', 'VELO_OUT', 'FUSS_IN', 'FUSS_OUT']].reset_index().melt(\"DATUM\")).mark_line(strokeWidth=1).encode(\n",
    "    x = alt.X('DATUM:T', scale=alt.Scale(domain=brush)),\n",
    "    y='value',\n",
    "    color='variable',\n",
    ").properties(width=800, height=300)\n",
    "\n",
    "upper & lower"
   ]
  },
  {
   "cell_type": "markdown",
   "metadata": {},
   "source": [
    "**----------------Testing----------- **\n",
    "\n",
    "**Ich möchte eine Grafik, in der die Jahre farblich eingefärbt werden und der Verlauf jedes Jahres dargestellt wird**"
   ]
  },
  {
   "cell_type": "markdown",
   "metadata": {},
   "source": [
    "Weitere custimisation, siehe https://altair-viz.github.io/user_guide/customization.html\n",
    "\n",
    "\n",
    "**--------------- end test ----------------------**"
   ]
  },
  {
   "cell_type": "code",
   "execution_count": 185,
   "metadata": {},
   "outputs": [
    {
     "ename": "NameError",
     "evalue": "name 'months_tb' is not defined",
     "output_type": "error",
     "traceback": [
      "\u001b[1;31m---------------------------------------------------------------------------\u001b[0m",
      "\u001b[1;31mNameError\u001b[0m                                 Traceback (most recent call last)",
      "\u001b[1;32m~\\AppData\\Local\\Temp\\ipykernel_10976\\3898321642.py\u001b[0m in \u001b[0;36m<module>\u001b[1;34m\u001b[0m\n\u001b[1;32m----> 1\u001b[1;33m \u001b[0mrolling\u001b[0m \u001b[1;33m=\u001b[0m \u001b[0mmonths_tb\u001b[0m\u001b[1;33m[\u001b[0m\u001b[1;33m[\u001b[0m\u001b[1;34m'air_temperature'\u001b[0m\u001b[1;33m,\u001b[0m\u001b[1;34m'water_temperature'\u001b[0m\u001b[1;33m]\u001b[0m\u001b[1;33m]\u001b[0m\u001b[1;33m.\u001b[0m\u001b[0mrolling\u001b[0m\u001b[1;33m(\u001b[0m\u001b[1;36m60\u001b[0m\u001b[1;33m,\u001b[0m \u001b[0mcenter\u001b[0m\u001b[1;33m=\u001b[0m\u001b[1;32mTrue\u001b[0m\u001b[1;33m,\u001b[0m \u001b[0mwin_type\u001b[0m\u001b[1;33m=\u001b[0m\u001b[1;34m\"triang\"\u001b[0m\u001b[1;33m)\u001b[0m\u001b[1;33m.\u001b[0m\u001b[0mmean\u001b[0m\u001b[1;33m(\u001b[0m\u001b[1;33m)\u001b[0m\u001b[1;33m\u001b[0m\u001b[1;33m\u001b[0m\u001b[0m\n\u001b[0m\u001b[0;32m      2\u001b[0m \u001b[1;33m\u001b[0m\u001b[0m\n\u001b[0;32m      3\u001b[0m chart1 = alt.Chart(rolling.reset_index().melt(\"timestamp_utc\")).mark_line(strokeWidth=1.5, opacity=1).encode(\n\u001b[0;32m      4\u001b[0m     \u001b[0mx\u001b[0m\u001b[1;33m=\u001b[0m\u001b[1;34m'timestamp_utc'\u001b[0m\u001b[1;33m,\u001b[0m \u001b[0my\u001b[0m\u001b[1;33m=\u001b[0m\u001b[1;34m'value'\u001b[0m\u001b[1;33m,\u001b[0m \u001b[0mcolor\u001b[0m\u001b[1;33m=\u001b[0m\u001b[1;34m'variable'\u001b[0m\u001b[1;33m,\u001b[0m\u001b[1;33m\u001b[0m\u001b[1;33m\u001b[0m\u001b[0m\n\u001b[0;32m      5\u001b[0m ).properties(width=800, height=400)\n",
      "\u001b[1;31mNameError\u001b[0m: name 'months_tb' is not defined"
     ]
    }
   ],
   "source": [
    "rolling = months_tb[['air_temperature','water_temperature']].rolling(60, center=True, win_type=\"triang\").mean()\n",
    "\n",
    "chart1 = alt.Chart(rolling.reset_index().melt(\"timestamp_utc\")).mark_line(strokeWidth=1.5, opacity=1).encode(\n",
    "    x='timestamp_utc', y='value', color='variable',\n",
    ").properties(width=800, height=400)\n",
    "\n",
    "# same as the two charts in previous code cell, except more transparent\n",
    "chart2 = alt.Chart(months_tb[['air_temperature','water_temperature']].reset_index().melt(\"timestamp_utc\")).mark_line(strokeWidth=1.6, opacity=0.25).encode(\n",
    "    x='timestamp_utc', y='value', color='variable',\n",
    ")\n",
    "\n",
    "chart3 = alt.Chart(years_tb[['air_temperature','water_temperature']].reset_index().melt(\"timestamp_utc\")).mark_line(interpolate=\"basis\", opacity=0.25).encode(\n",
    "    x='timestamp_utc', y='value', color='variable',\n",
    ")\n",
    "\n",
    "chart1 + chart2 + chart3"
   ]
  },
  {
   "cell_type": "code",
   "execution_count": null,
   "metadata": {},
   "outputs": [],
   "source": [
    "# add a column for month names and month number\n",
    "months_tb['month_number'] = months_tb.index.month\n",
    "months_tb['month_name'] = months_tb.index.month_name()\n",
    "months.head(2)"
   ]
  },
  {
   "cell_type": "code",
   "execution_count": null,
   "metadata": {},
   "outputs": [],
   "source": [
    "grp_months_tb = months_tb[['air_temperature','water_temperature', 'month_number', 'month_name']].groupby(\"month_name\").mean()"
   ]
  },
  {
   "cell_type": "code",
   "execution_count": null,
   "metadata": {},
   "outputs": [],
   "source": [
    "alt.Chart(grp_months_tb.reset_index()).mark_bar(width=20).encode(\n",
    "    x='month_number:O',\n",
    "    y='air_temperature:Q',\n",
    "    color='month_name:O'\n",
    ").properties(width=300, height=300).interactive()"
   ]
  },
  {
   "cell_type": "code",
   "execution_count": null,
   "metadata": {},
   "outputs": [],
   "source": [
    "months_tb = df_zeitreihe_tb.resample(\"M\").median()\n",
    "years_tb = df_zeitreihe_tb.resample(\"Y\").median()\n",
    "#months = df_zeitreihe_tb.resample(\"M\").min()\n",
    "#years = df_zeitreihe_tb.resample(\"Y\").min()\n",
    "\n",
    "brush = alt.selection(type='interval', encodings=['x'])\n",
    "\n",
    "upper = alt.Chart(years_tb[['air_temperature','water_temperature']].reset_index().melt(\"timestamp_utc\")).mark_area(interpolate=\"basis\").encode(\n",
    "    x = alt.X('timestamp_utc:T', axis=None),\n",
    "    y = alt.Y('value:Q', axis=None),\n",
    "    color='variable'\n",
    ").properties(width=800, height=50).add_selection(brush)\n",
    "\n",
    "lower = alt.Chart(months_tb[['air_temperature','water_temperature']].reset_index().melt(\"timestamp_utc\")).mark_line(strokeWidth=1).encode(\n",
    "    x = alt.X('timestamp_utc:T', scale=alt.Scale(domain=brush)),\n",
    "    y='value',\n",
    "    color='variable',\n",
    ").properties(width=800, height=300)\n",
    "\n",
    "upper & lower"
   ]
  },
  {
   "cell_type": "code",
   "execution_count": null,
   "metadata": {},
   "outputs": [],
   "source": [
    "#aktuell nimmt die Zeitreihe nicht das laufende Jahr auf.\n",
    "\n",
    "days_tb = df_zeitreihe_tb.loc[\"2017-01-01 00:00\":\"2021-12-31 00:00\"].dropna(axis=1).resample(\"D\").median()\n",
    "months_tb =df_zeitreihe_tb[['air_temperature','water_temperature']].dropna(axis=1).loc[\"2017-01-01 00:00\":\"2021-12-31 00:00\"].resample(\"M\").median()\n",
    "\n",
    "years_tb = df_zeitreihe_tb.resample(\"Y\").median()\n",
    "#months = df_zeitreihe_tb.resample(\"M\").min()\n",
    "#years = df_zeitreihe_tb.resample(\"Y\").min()\n",
    "\n",
    "brush = alt.selection(type='interval', encodings=['x'])\n",
    "\n",
    "upper = alt.Chart(months_tb[['air_temperature','water_temperature']].reset_index().melt(\"timestamp_utc\")).mark_area(interpolate=\"basis\").encode(\n",
    "    x = alt.X('timestamp_utc:T', axis=None),\n",
    "    y = alt.Y('value:Q', axis=None),\n",
    "    color='variable'\n",
    ").properties(width=800, height=50).add_selection(brush)\n",
    "\n",
    "lower = alt.Chart(days_tb[['air_temperature','water_temperature']].reset_index().melt(\"timestamp_utc\")).mark_line(strokeWidth=1).encode(\n",
    "    x = alt.X('timestamp_utc:T', scale=alt.Scale(domain=brush)),\n",
    "    y='value',\n",
    "    color='variable',\n",
    ").properties(width=800, height=300)\n",
    "\n",
    "upper & lower"
   ]
  },
  {
   "cell_type": "code",
   "execution_count": null,
   "metadata": {},
   "outputs": [],
   "source": [
    "#df_zeitreihe_tb[['air_temperature','water_temperature']].dropna(axis=1).loc[\"2018-12-31 21:50\":\"2022-01-01 04:30\"].resample(\"M\").median()"
   ]
  },
  {
   "cell_type": "code",
   "execution_count": null,
   "metadata": {},
   "outputs": [],
   "source": [
    "months_tb.reset_index().sort_values(\"timestamp_utc\", ascending=False)"
   ]
  },
  {
   "cell_type": "code",
   "execution_count": null,
   "metadata": {},
   "outputs": [],
   "source": []
  },
  {
   "cell_type": "markdown",
   "metadata": {
    "tags": []
   },
   "source": [
    "## Datenexport\n",
    "\n",
    "Wenn alle Tests positiv und plausibel sind, kann die neu updateten Datasets als csv exportiert und später veröffentlicht werden.\n",
    "\n",
    "Checke zuerst kurz, ob im Verlauf der Plausis etwas falsches reingerutscht ist"
   ]
  },
  {
   "cell_type": "code",
   "execution_count": null,
   "metadata": {},
   "outputs": [],
   "source": [
    "df_zeitreihe_tb.shape\n",
    "#df_zeitreihe_tb.describe()"
   ]
  },
  {
   "cell_type": "code",
   "execution_count": null,
   "metadata": {},
   "outputs": [],
   "source": [
    "df_zeitreihe_my.shape\n",
    "#df_zeitreihe_my.describe()"
   ]
  },
  {
   "cell_type": "markdown",
   "metadata": {},
   "source": [
    "### Exportpfade definieren:\n",
    "\n",
    "#### Dynamisch berechnete Min- und Max-Jahre"
   ]
  },
  {
   "cell_type": "code",
   "execution_count": null,
   "metadata": {},
   "outputs": [],
   "source": [
    "#years.index.year\n",
    "years = df_zeitreihe_tb.resample(\"Y\").median()\n",
    "min_year = years.index.year.min()\n",
    "max_year= years.index.year.max()\n",
    "\n",
    "print(min_year, max_year, r\"\\\\szh\\ssz\\applikationen\\OGD\\Daten\\Quelldaten\\SID\\WAPO\\02_veroeffentlichte_zeitreihe\\messwerte_mythenquai_\"+str(min_year)+\"-\"+str(max_year)+\".csv\")"
   ]
  },
  {
   "cell_type": "markdown",
   "metadata": {},
   "source": [
    "#### Pfade zusammensetzen"
   ]
  },
  {
   "cell_type": "code",
   "execution_count": null,
   "metadata": {},
   "outputs": [],
   "source": [
    "export_fp_my = r\"\\\\szh\\ssz\\applikationen\\OGD\\Daten\\Quelldaten\\SID\\WAPO\\02_veroeffentlichte_zeitreihe\\messwerte_mythenquai_\"+str(min_year)+\"-\"+str(max_year)+\".csv\" #Mythenquai\n",
    "export_fp_tb= r\"\\\\szh\\ssz\\applikationen\\OGD\\Daten\\Quelldaten\\SID\\WAPO\\02_veroeffentlichte_zeitreihe\\messwerte_tiefenbrunnen_\"+str(min_year)+\"-\"+str(max_year)+\".csv\" #Tiefenbrunnen"
   ]
  },
  {
   "cell_type": "markdown",
   "metadata": {},
   "source": [
    "#### Exportoptionen festlegen\n",
    "\n",
    "Optionen:\n",
    "`DataFrame.to_csv(path_or_buf=None, sep=',', na_rep='', float_format=None, columns=None, header=True, index=True, index_label=None, mode='w', encoding=None, compression='infer', quoting=None, quotechar='\"', line_terminator=None, chunksize=None, date_format=None, doublequote=True, escapechar=None, decimal='.', errors='strict', storage_options=None)`"
   ]
  },
  {
   "cell_type": "markdown",
   "metadata": {},
   "source": [
    "### Export ausführen\n",
    "\n",
    "1. Indexe aufheben. Dabei verliert der indexierte Wert das Iso-Datumsformat\n",
    "2. Zeitformat bei zuvor indexiertem Datum nochmals ISO-konform definieren: Dies ist nur für utc wichtig, da cet nie verwendet wurde zuvor und weiterhin als String in ISO-Format vorliegt.\n",
    "\n",
    "##### Mythenquai\n"
   ]
  },
  {
   "cell_type": "code",
   "execution_count": null,
   "metadata": {},
   "outputs": [],
   "source": [
    "df_my = df_zeitreihe_my.reset_index()\n",
    "df_my['timestamp_utc'] = df_my.timestamp_utc.apply(datetime.datetime.isoformat)\n",
    "df_my.head(2)"
   ]
  },
  {
   "cell_type": "code",
   "execution_count": null,
   "metadata": {},
   "outputs": [],
   "source": [
    "df_my.to_csv(export_fp_my\n",
    "             , sep=','\n",
    "             , encoding='utf-8-sig'\n",
    "             ,index=False\n",
    "                      )"
   ]
  },
  {
   "cell_type": "markdown",
   "metadata": {},
   "source": [
    "##### Tiefenbrunnen"
   ]
  },
  {
   "cell_type": "code",
   "execution_count": null,
   "metadata": {},
   "outputs": [],
   "source": [
    "df_tb = df_zeitreihe_tb.reset_index()\n",
    "\n",
    "# Achtung: Reihenfolge spielt hier eine Rolle. \n",
    "df_tb['timestamp_utc'] = df_tb.timestamp_utc.apply(datetime.datetime.isoformat)\n",
    "df_tb.head(2)"
   ]
  },
  {
   "cell_type": "code",
   "execution_count": null,
   "metadata": {},
   "outputs": [],
   "source": [
    "df_tb.to_csv(export_fp_tb\n",
    "             , sep=','\n",
    "             , encoding='utf-8-sig'\n",
    "             ,index=False\n",
    "            )"
   ]
  },
  {
   "cell_type": "markdown",
   "metadata": {},
   "source": [
    "### Zeitformatierungen"
   ]
  },
  {
   "cell_type": "markdown",
   "metadata": {},
   "source": [
    "Alternativ könnte man die `timestamp_cet`beim den Importen noch nicht machen, resp. bei den bestehenden Daten droppen und erst ganz am Schluss alles berechnen.\n",
    "\n",
    "Aktuell gehe ich so vor:\n",
    "1. Die neuen Daten importieren --> aus der Datumsangabe --> als utc parsen. Danach cet berechnen\n",
    "2. Die bisherigen Daten importieren --> die Datumsangaben aber nur als String importieren. Mit utc wird später gerechnet. cet nicht. Am Schluss speichere ich es eigentlich als String, aber merkt man nicht, weil der Export ohne \"\" bei Strings kommt.\n",
    "\n"
   ]
  },
  {
   "cell_type": "code",
   "execution_count": null,
   "metadata": {},
   "outputs": [],
   "source": []
  }
 ],
 "metadata": {
  "kernelspec": {
   "display_name": "Python 3 (ipykernel)",
   "language": "python",
   "name": "python3"
  },
  "language_info": {
   "codemirror_mode": {
    "name": "ipython",
    "version": 3
   },
   "file_extension": ".py",
   "mimetype": "text/x-python",
   "name": "python",
   "nbconvert_exporter": "python",
   "pygments_lexer": "ipython3",
   "version": "3.7.11"
  },
  "toc-autonumbering": true,
  "toc-showcode": false,
  "toc-showmarkdowntxt": false
 },
 "nbformat": 4,
 "nbformat_minor": 4
}
