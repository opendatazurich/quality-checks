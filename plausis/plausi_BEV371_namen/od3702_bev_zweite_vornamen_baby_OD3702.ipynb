{
 "cells": [
  {
   "cell_type": "markdown",
   "metadata": {},
   "source": [
    "**Importiere die notwendigen Packages**"
   ]
  },
  {
   "cell_type": "code",
   "execution_count": 1,
   "metadata": {},
   "outputs": [],
   "source": [
    "import pandas as pd\n",
    "import pivottablejs\n",
    "from pivottablejs import pivot_ui\n",
    "import numpy as np\n",
    "import altair as alt\n",
    "import matplotlib.pyplot as plt\n",
    "from datetime import datetime\n",
    "import geopandas as gpd\n",
    "import folium \n",
    "\n"
   ]
  },
  {
   "cell_type": "markdown",
   "metadata": {},
   "source": [
    "Definiere Settings. Hier das Zahlenformat von Float-Werten (z.B. *'{:,.2f}'.format* mit Komma als Tausenderzeichen), "
   ]
  },
  {
   "cell_type": "code",
   "execution_count": 2,
   "metadata": {},
   "outputs": [],
   "source": [
    "pd.options.display.float_format = '{:.0f}'.format\n",
    "pd.set_option('display.width', 100)\n",
    "pd.set_option('display.max_columns', 15)"
   ]
  },
  {
   "cell_type": "markdown",
   "metadata": {},
   "source": [
    "Importiere einen Datensatz von der **DWH_INT** Dropzone.\n",
    "\n",
    "- Beachte dabei die Notation des Pfades...\n",
    "- Definiere mal aktuell noch keine weiteren Parameter beim Import"
   ]
  },
  {
   "cell_type": "markdown",
   "metadata": {},
   "source": [
    "**Dataset auf INTEG Datenkatalog**: https://data.integ.stadt-zuerich.ch/dataset/int_dwh_bev_zweitevornamen_baby_od3702"
   ]
  },
  {
   "cell_type": "code",
   "execution_count": 3,
   "metadata": {},
   "outputs": [],
   "source": [
    "# Filepath\n",
    "fp = r\"//szh.loc/ssz/applikationen/OGD_Dropzone/DWH/bev_zweitevornamen_baby_OD3702/BEV370OD3702.csv\"\n",
    "#Auf INTEG\n",
    "#fp = r\"//szh.loc/ssz/applikationen/OGD_Dropzone/INT_DWH/bev_zweitevornamen_baby_OD3702/BEV370OD3702.csv\"\n",
    "\n",
    "\n",
    "# Read the data\n",
    "data2betested = pd.read_csv(\n",
    "    fp, \n",
    "    sep=',',\n",
    "   #usecols=[0,1,2,3,4,6],\n",
    "   #names=['stationid','year','month','avgtemp','latitude','longitude','elevation','station','countryid','country'],\n",
    "   #skiprows=1,\n",
    "   # parse_dates=[0],\n",
    "    parse_dates=True,\n",
    "    #date_parser=lambda x: pd.to_datetime(x, format=\"%Y\"), \n",
    "    #index_col=\"date_time\",\n",
    "    low_memory=False    \n",
    "    )"
   ]
  },
  {
   "cell_type": "markdown",
   "metadata": {},
   "source": [
    "In der Folge ein paar erste Tests:"
   ]
  },
  {
   "cell_type": "code",
   "execution_count": 4,
   "metadata": {},
   "outputs": [
    {
     "data": {
      "text/plain": [
       "pandas.core.frame.DataFrame"
      ]
     },
     "execution_count": 4,
     "metadata": {},
     "output_type": "execute_result"
    }
   ],
   "source": [
    "type(data2betested)"
   ]
  },
  {
   "cell_type": "markdown",
   "metadata": {},
   "source": [
    " - 1) Zeige eine kurze Vorschau der importierten Daten\n",
    " - 2) Weise die Datentypen aus\n",
    " - 3) Zeige die Shape (Umfang) des Datensatzes an"
   ]
  },
  {
   "cell_type": "code",
   "execution_count": 5,
   "metadata": {},
   "outputs": [
    {
     "data": {
      "text/html": [
       "<div>\n",
       "<style scoped>\n",
       "    .dataframe tbody tr th:only-of-type {\n",
       "        vertical-align: middle;\n",
       "    }\n",
       "\n",
       "    .dataframe tbody tr th {\n",
       "        vertical-align: top;\n",
       "    }\n",
       "\n",
       "    .dataframe thead th {\n",
       "        text-align: right;\n",
       "    }\n",
       "</style>\n",
       "<table border=\"1\" class=\"dataframe\">\n",
       "  <thead>\n",
       "    <tr style=\"text-align: right;\">\n",
       "      <th></th>\n",
       "      <th>StichtagDatJahr</th>\n",
       "      <th>Vorname2</th>\n",
       "      <th>SexLang</th>\n",
       "      <th>AnzGebuWir</th>\n",
       "    </tr>\n",
       "  </thead>\n",
       "  <tbody>\n",
       "    <tr>\n",
       "      <th>0</th>\n",
       "      <td>1993</td>\n",
       "      <td>Aimée</td>\n",
       "      <td>weiblich</td>\n",
       "      <td>1</td>\n",
       "    </tr>\n",
       "    <tr>\n",
       "      <th>1</th>\n",
       "      <td>1993</td>\n",
       "      <td>Alessandra</td>\n",
       "      <td>weiblich</td>\n",
       "      <td>1</td>\n",
       "    </tr>\n",
       "    <tr>\n",
       "      <th>2</th>\n",
       "      <td>1993</td>\n",
       "      <td>Alexandra</td>\n",
       "      <td>weiblich</td>\n",
       "      <td>16</td>\n",
       "    </tr>\n",
       "  </tbody>\n",
       "</table>\n",
       "</div>"
      ],
      "text/plain": [
       "   StichtagDatJahr    Vorname2   SexLang  AnzGebuWir\n",
       "0             1993       Aimée  weiblich           1\n",
       "1             1993  Alessandra  weiblich           1\n",
       "2             1993   Alexandra  weiblich          16"
      ]
     },
     "execution_count": 5,
     "metadata": {},
     "output_type": "execute_result"
    }
   ],
   "source": [
    "data2betested.head(3)"
   ]
  },
  {
   "cell_type": "code",
   "execution_count": 6,
   "metadata": {},
   "outputs": [
    {
     "data": {
      "text/plain": [
       "StichtagDatJahr     int64\n",
       "Vorname2           object\n",
       "SexLang            object\n",
       "AnzGebuWir          int64\n",
       "dtype: object"
      ]
     },
     "execution_count": 6,
     "metadata": {},
     "output_type": "execute_result"
    }
   ],
   "source": [
    "data2betested.dtypes"
   ]
  },
  {
   "cell_type": "code",
   "execution_count": 7,
   "metadata": {},
   "outputs": [
    {
     "data": {
      "text/plain": [
       "(5707, 4)"
      ]
     },
     "execution_count": 7,
     "metadata": {},
     "output_type": "execute_result"
    }
   ],
   "source": [
    "data2betested.shape"
   ]
  },
  {
   "cell_type": "markdown",
   "metadata": {},
   "source": [
    "Beschreibe einzelne Attribute"
   ]
  },
  {
   "cell_type": "code",
   "execution_count": 8,
   "metadata": {},
   "outputs": [
    {
     "data": {
      "text/html": [
       "<div>\n",
       "<style scoped>\n",
       "    .dataframe tbody tr th:only-of-type {\n",
       "        vertical-align: middle;\n",
       "    }\n",
       "\n",
       "    .dataframe tbody tr th {\n",
       "        vertical-align: top;\n",
       "    }\n",
       "\n",
       "    .dataframe thead th {\n",
       "        text-align: right;\n",
       "    }\n",
       "</style>\n",
       "<table border=\"1\" class=\"dataframe\">\n",
       "  <thead>\n",
       "    <tr style=\"text-align: right;\">\n",
       "      <th></th>\n",
       "      <th>StichtagDatJahr</th>\n",
       "      <th>AnzGebuWir</th>\n",
       "    </tr>\n",
       "  </thead>\n",
       "  <tbody>\n",
       "    <tr>\n",
       "      <th>count</th>\n",
       "      <td>5707</td>\n",
       "      <td>5707</td>\n",
       "    </tr>\n",
       "    <tr>\n",
       "      <th>mean</th>\n",
       "      <td>2007</td>\n",
       "      <td>4</td>\n",
       "    </tr>\n",
       "    <tr>\n",
       "      <th>std</th>\n",
       "      <td>8</td>\n",
       "      <td>4</td>\n",
       "    </tr>\n",
       "    <tr>\n",
       "      <th>min</th>\n",
       "      <td>1993</td>\n",
       "      <td>1</td>\n",
       "    </tr>\n",
       "    <tr>\n",
       "      <th>25%</th>\n",
       "      <td>2000</td>\n",
       "      <td>2</td>\n",
       "    </tr>\n",
       "    <tr>\n",
       "      <th>50%</th>\n",
       "      <td>2007</td>\n",
       "      <td>3</td>\n",
       "    </tr>\n",
       "    <tr>\n",
       "      <th>75%</th>\n",
       "      <td>2014</td>\n",
       "      <td>5</td>\n",
       "    </tr>\n",
       "    <tr>\n",
       "      <th>max</th>\n",
       "      <td>2020</td>\n",
       "      <td>51</td>\n",
       "    </tr>\n",
       "  </tbody>\n",
       "</table>\n",
       "</div>"
      ],
      "text/plain": [
       "       StichtagDatJahr  AnzGebuWir\n",
       "count             5707        5707\n",
       "mean              2007           4\n",
       "std                  8           4\n",
       "min               1993           1\n",
       "25%               2000           2\n",
       "50%               2007           3\n",
       "75%               2014           5\n",
       "max               2020          51"
      ]
     },
     "execution_count": 8,
     "metadata": {},
     "output_type": "execute_result"
    }
   ],
   "source": [
    "data2betested.describe()"
   ]
  },
  {
   "cell_type": "markdown",
   "metadata": {},
   "source": [
    "Wie viele Nullwerte gibt es im Datensatz?"
   ]
  },
  {
   "cell_type": "code",
   "execution_count": 9,
   "metadata": {
    "scrolled": true
   },
   "outputs": [
    {
     "data": {
      "text/plain": [
       "StichtagDatJahr    0\n",
       "Vorname2           0\n",
       "SexLang            0\n",
       "AnzGebuWir         0\n",
       "dtype: int64"
      ]
     },
     "execution_count": 9,
     "metadata": {},
     "output_type": "execute_result"
    }
   ],
   "source": [
    "data2betested.isnull().sum()"
   ]
  },
  {
   "cell_type": "markdown",
   "metadata": {},
   "source": [
    "Wandle die Spalte Jahr von Int zu **Datetime** um. Dies wird in den meisten Grafiken so benötigt."
   ]
  },
  {
   "cell_type": "code",
   "execution_count": 10,
   "metadata": {
    "scrolled": true
   },
   "outputs": [],
   "source": [
    "#data2betested['Jahrgang']=pd.to_datetime(data2betested['Jahrgang'], format='%Y')\n",
    "\n",
    "#TO DO --> setze das Datum auf den 31.12. der Jahres.\n",
    "#test=data2betested[['StichtagDatJahr']].date().replace(month=12, day=31)\n",
    "\n",
    "#data2betested"
   ]
  },
  {
   "cell_type": "markdown",
   "metadata": {},
   "source": [
    "Bereite die Daten für die Grafik unten vor"
   ]
  },
  {
   "cell_type": "code",
   "execution_count": 11,
   "metadata": {},
   "outputs": [
    {
     "data": {
      "text/html": [
       "<div>\n",
       "<style scoped>\n",
       "    .dataframe tbody tr th:only-of-type {\n",
       "        vertical-align: middle;\n",
       "    }\n",
       "\n",
       "    .dataframe tbody tr th {\n",
       "        vertical-align: top;\n",
       "    }\n",
       "\n",
       "    .dataframe thead th {\n",
       "        text-align: right;\n",
       "    }\n",
       "</style>\n",
       "<table border=\"1\" class=\"dataframe\">\n",
       "  <thead>\n",
       "    <tr style=\"text-align: right;\">\n",
       "      <th></th>\n",
       "      <th>StichtagDatJahr</th>\n",
       "      <th>Vorname2</th>\n",
       "      <th>SexLang</th>\n",
       "      <th>AnzGebuWir</th>\n",
       "    </tr>\n",
       "  </thead>\n",
       "  <tbody>\n",
       "    <tr>\n",
       "      <th>0</th>\n",
       "      <td>1993</td>\n",
       "      <td>Aimée</td>\n",
       "      <td>weiblich</td>\n",
       "      <td>1</td>\n",
       "    </tr>\n",
       "    <tr>\n",
       "      <th>1</th>\n",
       "      <td>1993</td>\n",
       "      <td>Alessandra</td>\n",
       "      <td>weiblich</td>\n",
       "      <td>1</td>\n",
       "    </tr>\n",
       "    <tr>\n",
       "      <th>2</th>\n",
       "      <td>1993</td>\n",
       "      <td>Alexandra</td>\n",
       "      <td>weiblich</td>\n",
       "      <td>16</td>\n",
       "    </tr>\n",
       "    <tr>\n",
       "      <th>3</th>\n",
       "      <td>1993</td>\n",
       "      <td>Alice</td>\n",
       "      <td>weiblich</td>\n",
       "      <td>3</td>\n",
       "    </tr>\n",
       "    <tr>\n",
       "      <th>4</th>\n",
       "      <td>1993</td>\n",
       "      <td>Andrea</td>\n",
       "      <td>weiblich</td>\n",
       "      <td>12</td>\n",
       "    </tr>\n",
       "    <tr>\n",
       "      <th>...</th>\n",
       "      <td>...</td>\n",
       "      <td>...</td>\n",
       "      <td>...</td>\n",
       "      <td>...</td>\n",
       "    </tr>\n",
       "    <tr>\n",
       "      <th>2863</th>\n",
       "      <td>2020</td>\n",
       "      <td>Aimée</td>\n",
       "      <td>weiblich</td>\n",
       "      <td>2</td>\n",
       "    </tr>\n",
       "    <tr>\n",
       "      <th>2864</th>\n",
       "      <td>2020</td>\n",
       "      <td>Alessandra</td>\n",
       "      <td>weiblich</td>\n",
       "      <td>1</td>\n",
       "    </tr>\n",
       "    <tr>\n",
       "      <th>2865</th>\n",
       "      <td>2020</td>\n",
       "      <td>Alexandra</td>\n",
       "      <td>weiblich</td>\n",
       "      <td>4</td>\n",
       "    </tr>\n",
       "    <tr>\n",
       "      <th>2866</th>\n",
       "      <td>2020</td>\n",
       "      <td>Alice</td>\n",
       "      <td>weiblich</td>\n",
       "      <td>2</td>\n",
       "    </tr>\n",
       "    <tr>\n",
       "      <th>2867</th>\n",
       "      <td>2020</td>\n",
       "      <td>Amélie</td>\n",
       "      <td>weiblich</td>\n",
       "      <td>1</td>\n",
       "    </tr>\n",
       "  </tbody>\n",
       "</table>\n",
       "<p>140 rows × 4 columns</p>\n",
       "</div>"
      ],
      "text/plain": [
       "      StichtagDatJahr    Vorname2   SexLang  AnzGebuWir\n",
       "0                1993       Aimée  weiblich           1\n",
       "1                1993  Alessandra  weiblich           1\n",
       "2                1993   Alexandra  weiblich          16\n",
       "3                1993       Alice  weiblich           3\n",
       "4                1993      Andrea  weiblich          12\n",
       "...               ...         ...       ...         ...\n",
       "2863             2020       Aimée  weiblich           2\n",
       "2864             2020  Alessandra  weiblich           1\n",
       "2865             2020   Alexandra  weiblich           4\n",
       "2866             2020       Alice  weiblich           2\n",
       "2867             2020      Amélie  weiblich           1\n",
       "\n",
       "[140 rows x 4 columns]"
      ]
     },
     "execution_count": 11,
     "metadata": {},
     "output_type": "execute_result"
    }
   ],
   "source": [
    "grp_jahr = data2betested.groupby(\"StichtagDatJahr\")\n",
    "\n",
    "len(grp_jahr)\n",
    "grp_jahr.head()\n",
    "\n"
   ]
  },
  {
   "cell_type": "code",
   "execution_count": 12,
   "metadata": {},
   "outputs": [
    {
     "name": "stdout",
     "output_type": "stream",
     "text": [
      "1993 180\n",
      "1994 192\n",
      "1995 186\n",
      "1996 191\n",
      "1997 192\n",
      "1998 196\n",
      "1999 198\n",
      "2000 192\n",
      "2001 204\n",
      "2002 203\n",
      "2003 213\n",
      "2004 209\n",
      "2005 209\n",
      "2006 216\n",
      "2007 207\n",
      "2008 219\n",
      "2009 217\n",
      "2010 215\n",
      "2011 210\n",
      "2012 207\n",
      "2013 207\n",
      "2014 216\n",
      "2015 210\n",
      "2016 209\n",
      "2017 204\n",
      "2018 197\n",
      "2019 204\n",
      "2020 204\n"
     ]
    }
   ],
   "source": [
    "for key, group in grp_jahr:\n",
    "    print(key, len(group))\n"
   ]
  },
  {
   "cell_type": "code",
   "execution_count": 13,
   "metadata": {},
   "outputs": [],
   "source": [
    "#myJahr = \"2019-01-01\"\n",
    "#aktuellesJahr=Jahre.get_group(myJahr)   \n",
    "#aktuellesJahr"
   ]
  },
  {
   "cell_type": "markdown",
   "metadata": {},
   "source": [
    "**Selektionen und Aggregationen**\n",
    "\n",
    "Check this [Doku](https://www.shanelynn.ie/summarising-aggregation-and-grouping-data-in-python-pandas/)"
   ]
  },
  {
   "cell_type": "code",
   "execution_count": 14,
   "metadata": {},
   "outputs": [],
   "source": [
    "med_gebjahr_sex = data2betested.groupby(['StichtagDatJahr','SexLang'])[['AnzGebuWir']].agg('median')\n",
    "anz_vn_gebjahr_sex = data2betested.groupby(['StichtagDatJahr', 'SexLang','Vorname2' ])[['AnzGebuWir']].sum()\n",
    "anz_vn_sex= data2betested.groupby(['SexLang','Vorname2' ])[['AnzGebuWir']].sum()\n",
    "\n",
    "# produces Pandas Series\n",
    "    #data2betested.groupby(['StichtagDatJahr', 'KonOGDSort'])['AnzBestWir'].sum()\n",
    "# Produces Pandas DataFrame\n",
    "    #data2betested.groupby(['StichtagDatJahr', 'KonOGDSort'])[['AnzBestWir']].sum()\n",
    "\n",
    "\n",
    "\n",
    " "
   ]
  },
  {
   "cell_type": "markdown",
   "metadata": {},
   "source": [
    "Sortiere einen DataFrame"
   ]
  },
  {
   "cell_type": "code",
   "execution_count": 15,
   "metadata": {},
   "outputs": [
    {
     "data": {
      "text/html": [
       "<div>\n",
       "<style scoped>\n",
       "    .dataframe tbody tr th:only-of-type {\n",
       "        vertical-align: middle;\n",
       "    }\n",
       "\n",
       "    .dataframe tbody tr th {\n",
       "        vertical-align: top;\n",
       "    }\n",
       "\n",
       "    .dataframe thead th {\n",
       "        text-align: right;\n",
       "    }\n",
       "</style>\n",
       "<table border=\"1\" class=\"dataframe\">\n",
       "  <thead>\n",
       "    <tr style=\"text-align: right;\">\n",
       "      <th></th>\n",
       "      <th></th>\n",
       "      <th></th>\n",
       "      <th>AnzGebuWir</th>\n",
       "    </tr>\n",
       "    <tr>\n",
       "      <th>StichtagDatJahr</th>\n",
       "      <th>SexLang</th>\n",
       "      <th>Vorname2</th>\n",
       "      <th></th>\n",
       "    </tr>\n",
       "  </thead>\n",
       "  <tbody>\n",
       "    <tr>\n",
       "      <th rowspan=\"2\" valign=\"top\">2014</th>\n",
       "      <th rowspan=\"2\" valign=\"top\">weiblich</th>\n",
       "      <th>Sophie</th>\n",
       "      <td>51</td>\n",
       "    </tr>\n",
       "    <tr>\n",
       "      <th>Marie</th>\n",
       "      <td>50</td>\n",
       "    </tr>\n",
       "    <tr>\n",
       "      <th>2017</th>\n",
       "      <th>weiblich</th>\n",
       "      <th>Maria</th>\n",
       "      <td>49</td>\n",
       "    </tr>\n",
       "    <tr>\n",
       "      <th>2015</th>\n",
       "      <th>männlich</th>\n",
       "      <th>Alexander</th>\n",
       "      <td>43</td>\n",
       "    </tr>\n",
       "    <tr>\n",
       "      <th>2004</th>\n",
       "      <th>weiblich</th>\n",
       "      <th>Maria</th>\n",
       "      <td>40</td>\n",
       "    </tr>\n",
       "    <tr>\n",
       "      <th>...</th>\n",
       "      <th>...</th>\n",
       "      <th>...</th>\n",
       "      <td>...</td>\n",
       "    </tr>\n",
       "    <tr>\n",
       "      <th>1998</th>\n",
       "      <th>weiblich</th>\n",
       "      <th>Luisa</th>\n",
       "      <td>1</td>\n",
       "    </tr>\n",
       "    <tr>\n",
       "      <th>1996</th>\n",
       "      <th>weiblich</th>\n",
       "      <th>Aimée</th>\n",
       "      <td>1</td>\n",
       "    </tr>\n",
       "    <tr>\n",
       "      <th>2008</th>\n",
       "      <th>weiblich</th>\n",
       "      <th>Emily</th>\n",
       "      <td>1</td>\n",
       "    </tr>\n",
       "    <tr>\n",
       "      <th>1996</th>\n",
       "      <th>weiblich</th>\n",
       "      <th>Alessandra</th>\n",
       "      <td>1</td>\n",
       "    </tr>\n",
       "    <tr>\n",
       "      <th>1999</th>\n",
       "      <th>weiblich</th>\n",
       "      <th>Claudia</th>\n",
       "      <td>1</td>\n",
       "    </tr>\n",
       "  </tbody>\n",
       "</table>\n",
       "<p>5707 rows × 1 columns</p>\n",
       "</div>"
      ],
      "text/plain": [
       "                                     AnzGebuWir\n",
       "StichtagDatJahr SexLang  Vorname2              \n",
       "2014            weiblich Sophie              51\n",
       "                         Marie               50\n",
       "2017            weiblich Maria               49\n",
       "2015            männlich Alexander           43\n",
       "2004            weiblich Maria               40\n",
       "...                                         ...\n",
       "1998            weiblich Luisa                1\n",
       "1996            weiblich Aimée                1\n",
       "2008            weiblich Emily                1\n",
       "1996            weiblich Alessandra           1\n",
       "1999            weiblich Claudia              1\n",
       "\n",
       "[5707 rows x 1 columns]"
      ]
     },
     "execution_count": 15,
     "metadata": {},
     "output_type": "execute_result"
    }
   ],
   "source": [
    "anz_vn_gebjahr_sex.sort_values(by='AnzGebuWir', ascending=False, na_position='first')"
   ]
  },
  {
   "cell_type": "markdown",
   "metadata": {},
   "source": [
    "Sortiere eine «Series»"
   ]
  },
  {
   "cell_type": "code",
   "execution_count": 16,
   "metadata": {},
   "outputs": [
    {
     "data": {
      "text/plain": [
       "SexLang   Vorname2 \n",
       "weiblich  Maria        835\n",
       "männlich  Alexander    597\n",
       "weiblich  Sophie       586\n",
       "          Marie        572\n",
       "          Sophia       506\n",
       "                      ... \n",
       "          Mirjam        25\n",
       "          Dominique     22\n",
       "          Catarina      21\n",
       "          Sabrina       19\n",
       "          Tiffany        9\n",
       "Name: AnzGebuWir, Length: 239, dtype: int64"
      ]
     },
     "execution_count": 16,
     "metadata": {},
     "output_type": "execute_result"
    }
   ],
   "source": [
    "# Diese Aggregation führt zu einem DataFrame. Dieser muss wie vorher gezeigt sortiert werden.\n",
    "# anz_vn_sex= data2betested.groupby(['SexLang','Vorname' ])[['AnzGebuWir']].sum()\n",
    "\n",
    "#Folgende Aggregation führt zu einer Series, die anders als ein DF sortiert wird:\n",
    "anz_vn_sex= data2betested.groupby(['SexLang','Vorname2' ])['AnzGebuWir'].sum()\n",
    "\n",
    "anz_vn_sex.sort_values(ascending=False, inplace=True, na_position='first')\n",
    "anz_vn_sex\n"
   ]
  },
  {
   "cell_type": "markdown",
   "metadata": {},
   "source": [
    "**Einfache Visualisierungen zur Plausi**"
   ]
  },
  {
   "cell_type": "markdown",
   "metadata": {},
   "source": [
    "Exploriere die Daten mit Pivottable.JS"
   ]
  },
  {
   "cell_type": "code",
   "execution_count": 17,
   "metadata": {},
   "outputs": [
    {
     "data": {
      "text/html": [
       "\n",
       "        <iframe\n",
       "            width=\"100%\"\n",
       "            height=\"500\"\n",
       "            src=\"pivottablejs.html\"\n",
       "            frameborder=\"0\"\n",
       "            allowfullscreen\n",
       "        ></iframe>\n",
       "        "
      ],
      "text/plain": [
       "<IPython.lib.display.IFrame at 0x230c9635760>"
      ]
     },
     "execution_count": 17,
     "metadata": {},
     "output_type": "execute_result"
    }
   ],
   "source": [
    "from pivottablejs import pivot_ui\n",
    "\n",
    "pivot_ui(data2betested)"
   ]
  },
  {
   "cell_type": "markdown",
   "metadata": {},
   "source": [
    "**Liniendiagramm Mit Altair**\n",
    "\n",
    "[Link zur Altair-Doku](https://altair-viz.github.io/gallery/multiline_highlight.html)"
   ]
  },
  {
   "cell_type": "markdown",
   "metadata": {},
   "source": [
    "Füge eine Variablen hinzu, welche den ersten, den zweiten und die ersten beiden Buchstaben des Namens angeben."
   ]
  },
  {
   "cell_type": "code",
   "execution_count": 18,
   "metadata": {},
   "outputs": [
    {
     "name": "stdout",
     "output_type": "stream",
     "text": [
      "      StichtagDatJahr    Vorname2   SexLang  AnzGebuWir FirstLetter SecondLetter FirstTwoLetters\n",
      "2330             2014      Sophie  weiblich          51           S            o              So\n",
      "2302             2014       Marie  weiblich          50           M            a              Ma\n",
      "2623             2017       Maria  weiblich          49           M            a              Ma\n",
      "5111             2015   Alexander  männlich          43           A            l              Al\n",
      "1193             2004       Maria  weiblich          40           M            a              Ma\n",
      "...               ...         ...       ...         ...         ...          ...             ...\n",
      "2868             2020       Anaïs  weiblich           1           A            n              An\n",
      "2867             2020      Amélie  weiblich           1           A            m              Am\n",
      "2864             2020  Alessandra  weiblich           1           A            l              Al\n",
      "1                1993  Alessandra  weiblich           1           A            l              Al\n",
      "2853             2019       Sofie  weiblich           1           S            o              So\n",
      "\n",
      "[5707 rows x 7 columns]\n"
     ]
    }
   ],
   "source": [
    "data2betested[\"FirstLetter\"]= data2betested[\"Vorname2\"].astype(str).str[0]\n",
    "data2betested[\"SecondLetter\"]= data2betested[\"Vorname2\"].astype(str).str[1]\n",
    "data2betested[\"FirstTwoLetters\"]= data2betested[\"Vorname2\"].str.slice(stop=2)\n",
    "data2betested.sort_values(by='AnzGebuWir', ascending=False, inplace=True, na_position='first')\n",
    "#.str[0]\n",
    "#data2betested[\"StartLetter\"]= data2betested[\"Vorname\"].str.extract(r\"(\\d{2})\")\n",
    "print(data2betested)"
   ]
  },
  {
   "cell_type": "code",
   "execution_count": 19,
   "metadata": {},
   "outputs": [
    {
     "data": {
      "text/html": [
       "<div>\n",
       "<style scoped>\n",
       "    .dataframe tbody tr th:only-of-type {\n",
       "        vertical-align: middle;\n",
       "    }\n",
       "\n",
       "    .dataframe tbody tr th {\n",
       "        vertical-align: top;\n",
       "    }\n",
       "\n",
       "    .dataframe thead th {\n",
       "        text-align: right;\n",
       "    }\n",
       "</style>\n",
       "<table border=\"1\" class=\"dataframe\">\n",
       "  <thead>\n",
       "    <tr style=\"text-align: right;\">\n",
       "      <th></th>\n",
       "      <th></th>\n",
       "      <th>AnzGebuWir</th>\n",
       "    </tr>\n",
       "    <tr>\n",
       "      <th>Vorname2</th>\n",
       "      <th>SexLang</th>\n",
       "      <th></th>\n",
       "    </tr>\n",
       "  </thead>\n",
       "  <tbody>\n",
       "    <tr>\n",
       "      <th>Sophie</th>\n",
       "      <th>weiblich</th>\n",
       "      <td>76</td>\n",
       "    </tr>\n",
       "    <tr>\n",
       "      <th>Maria</th>\n",
       "      <th>weiblich</th>\n",
       "      <td>71</td>\n",
       "    </tr>\n",
       "    <tr>\n",
       "      <th>Marie</th>\n",
       "      <th>weiblich</th>\n",
       "      <td>61</td>\n",
       "    </tr>\n",
       "    <tr>\n",
       "      <th>Sophia</th>\n",
       "      <th>weiblich</th>\n",
       "      <td>51</td>\n",
       "    </tr>\n",
       "    <tr>\n",
       "      <th>Anna</th>\n",
       "      <th>weiblich</th>\n",
       "      <td>35</td>\n",
       "    </tr>\n",
       "  </tbody>\n",
       "</table>\n",
       "</div>"
      ],
      "text/plain": [
       "                   AnzGebuWir\n",
       "Vorname2 SexLang             \n",
       "Sophie   weiblich          76\n",
       "Maria    weiblich          71\n",
       "Marie    weiblich          61\n",
       "Sophia   weiblich          51\n",
       "Anna     weiblich          35"
      ]
     },
     "execution_count": 19,
     "metadata": {},
     "output_type": "execute_result"
    }
   ],
   "source": [
    "mySelection = data2betested[(data2betested.StichtagDatJahr>2011) & (data2betested.StichtagDatJahr<2014) & (data2betested.SexLang=='weiblich')]\n",
    "agg_mySelection= mySelection.groupby(['Vorname2', 'SexLang' ])[['AnzGebuWir']].sum()\n",
    "agg_mySelection.sort_values(by='AnzGebuWir', ascending=False, inplace=True)\n",
    "agg_mySelection.head()\n",
    "#mySelection.head()\n",
    "#agg_mySelection.dtypes\n"
   ]
  },
  {
   "cell_type": "code",
   "execution_count": 20,
   "metadata": {},
   "outputs": [
    {
     "data": {
      "text/html": [
       "<div>\n",
       "<style scoped>\n",
       "    .dataframe tbody tr th:only-of-type {\n",
       "        vertical-align: middle;\n",
       "    }\n",
       "\n",
       "    .dataframe tbody tr th {\n",
       "        vertical-align: top;\n",
       "    }\n",
       "\n",
       "    .dataframe thead th {\n",
       "        text-align: right;\n",
       "    }\n",
       "</style>\n",
       "<table border=\"1\" class=\"dataframe\">\n",
       "  <thead>\n",
       "    <tr style=\"text-align: right;\">\n",
       "      <th></th>\n",
       "      <th>StichtagDatJahr</th>\n",
       "      <th>Vorname2</th>\n",
       "      <th>SexLang</th>\n",
       "      <th>AnzGebuWir</th>\n",
       "      <th>FirstLetter</th>\n",
       "      <th>SecondLetter</th>\n",
       "      <th>FirstTwoLetters</th>\n",
       "    </tr>\n",
       "  </thead>\n",
       "  <tbody>\n",
       "    <tr>\n",
       "      <th>2218</th>\n",
       "      <td>2013</td>\n",
       "      <td>Sophie</td>\n",
       "      <td>weiblich</td>\n",
       "      <td>38</td>\n",
       "      <td>S</td>\n",
       "      <td>o</td>\n",
       "      <td>So</td>\n",
       "    </tr>\n",
       "    <tr>\n",
       "      <th>2189</th>\n",
       "      <td>2013</td>\n",
       "      <td>Maria</td>\n",
       "      <td>weiblich</td>\n",
       "      <td>38</td>\n",
       "      <td>M</td>\n",
       "      <td>a</td>\n",
       "      <td>Ma</td>\n",
       "    </tr>\n",
       "    <tr>\n",
       "      <th>2105</th>\n",
       "      <td>2012</td>\n",
       "      <td>Sophie</td>\n",
       "      <td>weiblich</td>\n",
       "      <td>38</td>\n",
       "      <td>S</td>\n",
       "      <td>o</td>\n",
       "      <td>So</td>\n",
       "    </tr>\n",
       "    <tr>\n",
       "      <th>2082</th>\n",
       "      <td>2012</td>\n",
       "      <td>Maria</td>\n",
       "      <td>weiblich</td>\n",
       "      <td>33</td>\n",
       "      <td>M</td>\n",
       "      <td>a</td>\n",
       "      <td>Ma</td>\n",
       "    </tr>\n",
       "    <tr>\n",
       "      <th>2083</th>\n",
       "      <td>2012</td>\n",
       "      <td>Marie</td>\n",
       "      <td>weiblich</td>\n",
       "      <td>32</td>\n",
       "      <td>M</td>\n",
       "      <td>a</td>\n",
       "      <td>Ma</td>\n",
       "    </tr>\n",
       "    <tr>\n",
       "      <th>...</th>\n",
       "      <td>...</td>\n",
       "      <td>...</td>\n",
       "      <td>...</td>\n",
       "      <td>...</td>\n",
       "      <td>...</td>\n",
       "      <td>...</td>\n",
       "      <td>...</td>\n",
       "    </tr>\n",
       "    <tr>\n",
       "      <th>2202</th>\n",
       "      <td>2013</td>\n",
       "      <td>Nathalie</td>\n",
       "      <td>weiblich</td>\n",
       "      <td>1</td>\n",
       "      <td>N</td>\n",
       "      <td>a</td>\n",
       "      <td>Na</td>\n",
       "    </tr>\n",
       "    <tr>\n",
       "      <th>2204</th>\n",
       "      <td>2013</td>\n",
       "      <td>Noemi</td>\n",
       "      <td>weiblich</td>\n",
       "      <td>1</td>\n",
       "      <td>N</td>\n",
       "      <td>o</td>\n",
       "      <td>No</td>\n",
       "    </tr>\n",
       "    <tr>\n",
       "      <th>2214</th>\n",
       "      <td>2013</td>\n",
       "      <td>Seraina</td>\n",
       "      <td>weiblich</td>\n",
       "      <td>1</td>\n",
       "      <td>S</td>\n",
       "      <td>e</td>\n",
       "      <td>Se</td>\n",
       "    </tr>\n",
       "    <tr>\n",
       "      <th>2215</th>\n",
       "      <td>2013</td>\n",
       "      <td>Simone</td>\n",
       "      <td>weiblich</td>\n",
       "      <td>1</td>\n",
       "      <td>S</td>\n",
       "      <td>i</td>\n",
       "      <td>Si</td>\n",
       "    </tr>\n",
       "    <tr>\n",
       "      <th>2224</th>\n",
       "      <td>2013</td>\n",
       "      <td>Zoe</td>\n",
       "      <td>weiblich</td>\n",
       "      <td>1</td>\n",
       "      <td>Z</td>\n",
       "      <td>o</td>\n",
       "      <td>Zo</td>\n",
       "    </tr>\n",
       "  </tbody>\n",
       "</table>\n",
       "<p>215 rows × 7 columns</p>\n",
       "</div>"
      ],
      "text/plain": [
       "      StichtagDatJahr  Vorname2   SexLang  AnzGebuWir FirstLetter SecondLetter FirstTwoLetters\n",
       "2218             2013    Sophie  weiblich          38           S            o              So\n",
       "2189             2013     Maria  weiblich          38           M            a              Ma\n",
       "2105             2012    Sophie  weiblich          38           S            o              So\n",
       "2082             2012     Maria  weiblich          33           M            a              Ma\n",
       "2083             2012     Marie  weiblich          32           M            a              Ma\n",
       "...               ...       ...       ...         ...         ...          ...             ...\n",
       "2202             2013  Nathalie  weiblich           1           N            a              Na\n",
       "2204             2013     Noemi  weiblich           1           N            o              No\n",
       "2214             2013   Seraina  weiblich           1           S            e              Se\n",
       "2215             2013    Simone  weiblich           1           S            i              Si\n",
       "2224             2013       Zoe  weiblich           1           Z            o              Zo\n",
       "\n",
       "[215 rows x 7 columns]"
      ]
     },
     "execution_count": 20,
     "metadata": {},
     "output_type": "execute_result"
    }
   ],
   "source": [
    "mySelection\n"
   ]
  },
  {
   "cell_type": "markdown",
   "metadata": {},
   "source": [
    "**Erster Test mit Altair-Liniengrafik**\n",
    "\n",
    "[Link](https://altair-viz.github.io/gallery/multiline_highlight.html)"
   ]
  },
  {
   "cell_type": "code",
   "execution_count": 21,
   "metadata": {},
   "outputs": [],
   "source": [
    "myGraphic=data2betested[ (data2betested.StichtagDatJahr>2018) & (data2betested.FirstTwoLetters==\"La\") | (data2betested.FirstTwoLetters==\"Lo\") & (data2betested.SexLang==\"weiblich\")]\n",
    "# --> Weshalb wir die Bedingung auf die Jahre nicht übernommen? \n",
    "# --> so würde es in einem 2. Schritt gehen. \n",
    "# myGraphic=myGraphicPart[ (myGraphicPart.StichtagDatJahr>2012)]\n",
    "\n"
   ]
  },
  {
   "cell_type": "code",
   "execution_count": 22,
   "metadata": {},
   "outputs": [
    {
     "data": {
      "text/html": [
       "\n",
       "<div id=\"altair-viz-97f68e406a0945f3981c1fdc44c379bc\"></div>\n",
       "<script type=\"text/javascript\">\n",
       "  (function(spec, embedOpt){\n",
       "    let outputDiv = document.currentScript.previousElementSibling;\n",
       "    if (outputDiv.id !== \"altair-viz-97f68e406a0945f3981c1fdc44c379bc\") {\n",
       "      outputDiv = document.getElementById(\"altair-viz-97f68e406a0945f3981c1fdc44c379bc\");\n",
       "    }\n",
       "    const paths = {\n",
       "      \"vega\": \"https://cdn.jsdelivr.net/npm//vega@5?noext\",\n",
       "      \"vega-lib\": \"https://cdn.jsdelivr.net/npm//vega-lib?noext\",\n",
       "      \"vega-lite\": \"https://cdn.jsdelivr.net/npm//vega-lite@4.8.1?noext\",\n",
       "      \"vega-embed\": \"https://cdn.jsdelivr.net/npm//vega-embed@6?noext\",\n",
       "    };\n",
       "\n",
       "    function loadScript(lib) {\n",
       "      return new Promise(function(resolve, reject) {\n",
       "        var s = document.createElement('script');\n",
       "        s.src = paths[lib];\n",
       "        s.async = true;\n",
       "        s.onload = () => resolve(paths[lib]);\n",
       "        s.onerror = () => reject(`Error loading script: ${paths[lib]}`);\n",
       "        document.getElementsByTagName(\"head\")[0].appendChild(s);\n",
       "      });\n",
       "    }\n",
       "\n",
       "    function showError(err) {\n",
       "      outputDiv.innerHTML = `<div class=\"error\" style=\"color:red;\">${err}</div>`;\n",
       "      throw err;\n",
       "    }\n",
       "\n",
       "    function displayChart(vegaEmbed) {\n",
       "      vegaEmbed(outputDiv, spec, embedOpt)\n",
       "        .catch(err => showError(`Javascript Error: ${err.message}<br>This usually means there's a typo in your chart specification. See the javascript console for the full traceback.`));\n",
       "    }\n",
       "\n",
       "    if(typeof define === \"function\" && define.amd) {\n",
       "      requirejs.config({paths});\n",
       "      require([\"vega-embed\"], displayChart, err => showError(`Error loading script: ${err.message}`));\n",
       "    } else if (typeof vegaEmbed === \"function\") {\n",
       "      displayChart(vegaEmbed);\n",
       "    } else {\n",
       "      loadScript(\"vega\")\n",
       "        .then(() => loadScript(\"vega-lite\"))\n",
       "        .then(() => loadScript(\"vega-embed\"))\n",
       "        .catch(showError)\n",
       "        .then(() => displayChart(vegaEmbed));\n",
       "    }\n",
       "  })({\"config\": {\"view\": {\"continuousWidth\": 400, \"continuousHeight\": 300}}, \"layer\": [{\"mark\": \"circle\", \"encoding\": {\"color\": {\"type\": \"nominal\", \"field\": \"Vorname2\"}, \"opacity\": {\"value\": 0.75}, \"x\": {\"type\": \"nominal\", \"field\": \"StichtagDatJahr\"}, \"y\": {\"type\": \"quantitative\", \"field\": \"AnzGebuWir\"}}, \"height\": 400, \"selection\": {\"selector001\": {\"type\": \"single\", \"on\": \"mouseover\", \"fields\": [\"symbol\"], \"nearest\": true}}, \"width\": 900}, {\"mark\": \"line\", \"encoding\": {\"color\": {\"type\": \"nominal\", \"field\": \"Vorname2\"}, \"size\": {\"condition\": {\"value\": 1.5, \"selection\": {\"not\": \"selector001\"}}, \"value\": 4}, \"x\": {\"type\": \"nominal\", \"field\": \"StichtagDatJahr\"}, \"y\": {\"type\": \"quantitative\", \"field\": \"AnzGebuWir\"}}, \"selection\": {\"selector002\": {\"type\": \"interval\", \"bind\": \"scales\", \"encodings\": [\"x\", \"y\"]}}}], \"data\": {\"name\": \"data-2c8151538b95f38fe8795cd74df2a26b\"}, \"$schema\": \"https://vega.github.io/schema/vega-lite/v4.8.1.json\", \"datasets\": {\"data-2c8151538b95f38fe8795cd74df2a26b\": [{\"StichtagDatJahr\": 2014, \"Vorname2\": \"Louise\", \"SexLang\": \"weiblich\", \"AnzGebuWir\": 19, \"FirstLetter\": \"L\", \"SecondLetter\": \"o\", \"FirstTwoLetters\": \"Lo\"}, {\"StichtagDatJahr\": 2020, \"Vorname2\": \"Louise\", \"SexLang\": \"weiblich\", \"AnzGebuWir\": 18, \"FirstLetter\": \"L\", \"SecondLetter\": \"o\", \"FirstTwoLetters\": \"Lo\"}, {\"StichtagDatJahr\": 2013, \"Vorname2\": \"Lou\", \"SexLang\": \"weiblich\", \"AnzGebuWir\": 18, \"FirstLetter\": \"L\", \"SecondLetter\": \"o\", \"FirstTwoLetters\": \"Lo\"}, {\"StichtagDatJahr\": 2015, \"Vorname2\": \"Louise\", \"SexLang\": \"weiblich\", \"AnzGebuWir\": 16, \"FirstLetter\": \"L\", \"SecondLetter\": \"o\", \"FirstTwoLetters\": \"Lo\"}, {\"StichtagDatJahr\": 2014, \"Vorname2\": \"Lou\", \"SexLang\": \"weiblich\", \"AnzGebuWir\": 15, \"FirstLetter\": \"L\", \"SecondLetter\": \"o\", \"FirstTwoLetters\": \"Lo\"}, {\"StichtagDatJahr\": 2010, \"Vorname2\": \"Louise\", \"SexLang\": \"weiblich\", \"AnzGebuWir\": 15, \"FirstLetter\": \"L\", \"SecondLetter\": \"o\", \"FirstTwoLetters\": \"Lo\"}, {\"StichtagDatJahr\": 2011, \"Vorname2\": \"Lou\", \"SexLang\": \"weiblich\", \"AnzGebuWir\": 14, \"FirstLetter\": \"L\", \"SecondLetter\": \"o\", \"FirstTwoLetters\": \"Lo\"}, {\"StichtagDatJahr\": 2020, \"Vorname2\": \"Laurin\", \"SexLang\": \"m\\u00e4nnlich\", \"AnzGebuWir\": 13, \"FirstLetter\": \"L\", \"SecondLetter\": \"a\", \"FirstTwoLetters\": \"La\"}, {\"StichtagDatJahr\": 2016, \"Vorname2\": \"Lou\", \"SexLang\": \"weiblich\", \"AnzGebuWir\": 13, \"FirstLetter\": \"L\", \"SecondLetter\": \"o\", \"FirstTwoLetters\": \"Lo\"}, {\"StichtagDatJahr\": 2013, \"Vorname2\": \"Louise\", \"SexLang\": \"weiblich\", \"AnzGebuWir\": 11, \"FirstLetter\": \"L\", \"SecondLetter\": \"o\", \"FirstTwoLetters\": \"Lo\"}, {\"StichtagDatJahr\": 2019, \"Vorname2\": \"Louise\", \"SexLang\": \"weiblich\", \"AnzGebuWir\": 11, \"FirstLetter\": \"L\", \"SecondLetter\": \"o\", \"FirstTwoLetters\": \"Lo\"}, {\"StichtagDatJahr\": 2017, \"Vorname2\": \"Lou\", \"SexLang\": \"weiblich\", \"AnzGebuWir\": 10, \"FirstLetter\": \"L\", \"SecondLetter\": \"o\", \"FirstTwoLetters\": \"Lo\"}, {\"StichtagDatJahr\": 2016, \"Vorname2\": \"Louise\", \"SexLang\": \"weiblich\", \"AnzGebuWir\": 10, \"FirstLetter\": \"L\", \"SecondLetter\": \"o\", \"FirstTwoLetters\": \"Lo\"}, {\"StichtagDatJahr\": 2020, \"Vorname2\": \"Lou\", \"SexLang\": \"weiblich\", \"AnzGebuWir\": 10, \"FirstLetter\": \"L\", \"SecondLetter\": \"o\", \"FirstTwoLetters\": \"Lo\"}, {\"StichtagDatJahr\": 2018, \"Vorname2\": \"Lou\", \"SexLang\": \"weiblich\", \"AnzGebuWir\": 10, \"FirstLetter\": \"L\", \"SecondLetter\": \"o\", \"FirstTwoLetters\": \"Lo\"}, {\"StichtagDatJahr\": 2018, \"Vorname2\": \"Louise\", \"SexLang\": \"weiblich\", \"AnzGebuWir\": 10, \"FirstLetter\": \"L\", \"SecondLetter\": \"o\", \"FirstTwoLetters\": \"Lo\"}, {\"StichtagDatJahr\": 2012, \"Vorname2\": \"Lou\", \"SexLang\": \"weiblich\", \"AnzGebuWir\": 10, \"FirstLetter\": \"L\", \"SecondLetter\": \"o\", \"FirstTwoLetters\": \"Lo\"}, {\"StichtagDatJahr\": 2019, \"Vorname2\": \"Lou\", \"SexLang\": \"weiblich\", \"AnzGebuWir\": 10, \"FirstLetter\": \"L\", \"SecondLetter\": \"o\", \"FirstTwoLetters\": \"Lo\"}, {\"StichtagDatJahr\": 2015, \"Vorname2\": \"Lou\", \"SexLang\": \"weiblich\", \"AnzGebuWir\": 9, \"FirstLetter\": \"L\", \"SecondLetter\": \"o\", \"FirstTwoLetters\": \"Lo\"}, {\"StichtagDatJahr\": 2007, \"Vorname2\": \"Louise\", \"SexLang\": \"weiblich\", \"AnzGebuWir\": 9, \"FirstLetter\": \"L\", \"SecondLetter\": \"o\", \"FirstTwoLetters\": \"Lo\"}, {\"StichtagDatJahr\": 2009, \"Vorname2\": \"Lou\", \"SexLang\": \"weiblich\", \"AnzGebuWir\": 9, \"FirstLetter\": \"L\", \"SecondLetter\": \"o\", \"FirstTwoLetters\": \"Lo\"}, {\"StichtagDatJahr\": 1996, \"Vorname2\": \"Louise\", \"SexLang\": \"weiblich\", \"AnzGebuWir\": 9, \"FirstLetter\": \"L\", \"SecondLetter\": \"o\", \"FirstTwoLetters\": \"Lo\"}, {\"StichtagDatJahr\": 2005, \"Vorname2\": \"Louise\", \"SexLang\": \"weiblich\", \"AnzGebuWir\": 8, \"FirstLetter\": \"L\", \"SecondLetter\": \"o\", \"FirstTwoLetters\": \"Lo\"}, {\"StichtagDatJahr\": 2008, \"Vorname2\": \"Lou\", \"SexLang\": \"weiblich\", \"AnzGebuWir\": 8, \"FirstLetter\": \"L\", \"SecondLetter\": \"o\", \"FirstTwoLetters\": \"Lo\"}, {\"StichtagDatJahr\": 2007, \"Vorname2\": \"Lou\", \"SexLang\": \"weiblich\", \"AnzGebuWir\": 8, \"FirstLetter\": \"L\", \"SecondLetter\": \"o\", \"FirstTwoLetters\": \"Lo\"}, {\"StichtagDatJahr\": 2012, \"Vorname2\": \"Louise\", \"SexLang\": \"weiblich\", \"AnzGebuWir\": 8, \"FirstLetter\": \"L\", \"SecondLetter\": \"o\", \"FirstTwoLetters\": \"Lo\"}, {\"StichtagDatJahr\": 2016, \"Vorname2\": \"Louisa\", \"SexLang\": \"weiblich\", \"AnzGebuWir\": 8, \"FirstLetter\": \"L\", \"SecondLetter\": \"o\", \"FirstTwoLetters\": \"Lo\"}, {\"StichtagDatJahr\": 2009, \"Vorname2\": \"Louisa\", \"SexLang\": \"weiblich\", \"AnzGebuWir\": 8, \"FirstLetter\": \"L\", \"SecondLetter\": \"o\", \"FirstTwoLetters\": \"Lo\"}, {\"StichtagDatJahr\": 2010, \"Vorname2\": \"Louisa\", \"SexLang\": \"weiblich\", \"AnzGebuWir\": 8, \"FirstLetter\": \"L\", \"SecondLetter\": \"o\", \"FirstTwoLetters\": \"Lo\"}, {\"StichtagDatJahr\": 2019, \"Vorname2\": \"Laurin\", \"SexLang\": \"m\\u00e4nnlich\", \"AnzGebuWir\": 8, \"FirstLetter\": \"L\", \"SecondLetter\": \"a\", \"FirstTwoLetters\": \"La\"}, {\"StichtagDatJahr\": 2011, \"Vorname2\": \"Louise\", \"SexLang\": \"weiblich\", \"AnzGebuWir\": 7, \"FirstLetter\": \"L\", \"SecondLetter\": \"o\", \"FirstTwoLetters\": \"Lo\"}, {\"StichtagDatJahr\": 2013, \"Vorname2\": \"Louisa\", \"SexLang\": \"weiblich\", \"AnzGebuWir\": 7, \"FirstLetter\": \"L\", \"SecondLetter\": \"o\", \"FirstTwoLetters\": \"Lo\"}, {\"StichtagDatJahr\": 2012, \"Vorname2\": \"Louisa\", \"SexLang\": \"weiblich\", \"AnzGebuWir\": 7, \"FirstLetter\": \"L\", \"SecondLetter\": \"o\", \"FirstTwoLetters\": \"Lo\"}, {\"StichtagDatJahr\": 2005, \"Vorname2\": \"Lou\", \"SexLang\": \"weiblich\", \"AnzGebuWir\": 7, \"FirstLetter\": \"L\", \"SecondLetter\": \"o\", \"FirstTwoLetters\": \"Lo\"}, {\"StichtagDatJahr\": 2008, \"Vorname2\": \"Louise\", \"SexLang\": \"weiblich\", \"AnzGebuWir\": 7, \"FirstLetter\": \"L\", \"SecondLetter\": \"o\", \"FirstTwoLetters\": \"Lo\"}, {\"StichtagDatJahr\": 2020, \"Vorname2\": \"Louisa\", \"SexLang\": \"weiblich\", \"AnzGebuWir\": 6, \"FirstLetter\": \"L\", \"SecondLetter\": \"o\", \"FirstTwoLetters\": \"Lo\"}, {\"StichtagDatJahr\": 2017, \"Vorname2\": \"Louise\", \"SexLang\": \"weiblich\", \"AnzGebuWir\": 6, \"FirstLetter\": \"L\", \"SecondLetter\": \"o\", \"FirstTwoLetters\": \"Lo\"}, {\"StichtagDatJahr\": 2010, \"Vorname2\": \"Lou\", \"SexLang\": \"weiblich\", \"AnzGebuWir\": 5, \"FirstLetter\": \"L\", \"SecondLetter\": \"o\", \"FirstTwoLetters\": \"Lo\"}, {\"StichtagDatJahr\": 2000, \"Vorname2\": \"Louise\", \"SexLang\": \"weiblich\", \"AnzGebuWir\": 5, \"FirstLetter\": \"L\", \"SecondLetter\": \"o\", \"FirstTwoLetters\": \"Lo\"}, {\"StichtagDatJahr\": 1998, \"Vorname2\": \"Lorena\", \"SexLang\": \"weiblich\", \"AnzGebuWir\": 5, \"FirstLetter\": \"L\", \"SecondLetter\": \"o\", \"FirstTwoLetters\": \"Lo\"}, {\"StichtagDatJahr\": 2006, \"Vorname2\": \"Louise\", \"SexLang\": \"weiblich\", \"AnzGebuWir\": 5, \"FirstLetter\": \"L\", \"SecondLetter\": \"o\", \"FirstTwoLetters\": \"Lo\"}, {\"StichtagDatJahr\": 1994, \"Vorname2\": \"Louise\", \"SexLang\": \"weiblich\", \"AnzGebuWir\": 5, \"FirstLetter\": \"L\", \"SecondLetter\": \"o\", \"FirstTwoLetters\": \"Lo\"}, {\"StichtagDatJahr\": 2017, \"Vorname2\": \"Louisa\", \"SexLang\": \"weiblich\", \"AnzGebuWir\": 4, \"FirstLetter\": \"L\", \"SecondLetter\": \"o\", \"FirstTwoLetters\": \"Lo\"}, {\"StichtagDatJahr\": 2020, \"Vorname2\": \"Ladina\", \"SexLang\": \"weiblich\", \"AnzGebuWir\": 4, \"FirstLetter\": \"L\", \"SecondLetter\": \"a\", \"FirstTwoLetters\": \"La\"}, {\"StichtagDatJahr\": 2020, \"Vorname2\": \"Laura\", \"SexLang\": \"weiblich\", \"AnzGebuWir\": 4, \"FirstLetter\": \"L\", \"SecondLetter\": \"a\", \"FirstTwoLetters\": \"La\"}, {\"StichtagDatJahr\": 1997, \"Vorname2\": \"Lou\", \"SexLang\": \"weiblich\", \"AnzGebuWir\": 4, \"FirstLetter\": \"L\", \"SecondLetter\": \"o\", \"FirstTwoLetters\": \"Lo\"}, {\"StichtagDatJahr\": 1998, \"Vorname2\": \"Louise\", \"SexLang\": \"weiblich\", \"AnzGebuWir\": 4, \"FirstLetter\": \"L\", \"SecondLetter\": \"o\", \"FirstTwoLetters\": \"Lo\"}, {\"StichtagDatJahr\": 2007, \"Vorname2\": \"Louisa\", \"SexLang\": \"weiblich\", \"AnzGebuWir\": 4, \"FirstLetter\": \"L\", \"SecondLetter\": \"o\", \"FirstTwoLetters\": \"Lo\"}, {\"StichtagDatJahr\": 2014, \"Vorname2\": \"Louisa\", \"SexLang\": \"weiblich\", \"AnzGebuWir\": 4, \"FirstLetter\": \"L\", \"SecondLetter\": \"o\", \"FirstTwoLetters\": \"Lo\"}, {\"StichtagDatJahr\": 2008, \"Vorname2\": \"Louisa\", \"SexLang\": \"weiblich\", \"AnzGebuWir\": 4, \"FirstLetter\": \"L\", \"SecondLetter\": \"o\", \"FirstTwoLetters\": \"Lo\"}, {\"StichtagDatJahr\": 2003, \"Vorname2\": \"Louise\", \"SexLang\": \"weiblich\", \"AnzGebuWir\": 4, \"FirstLetter\": \"L\", \"SecondLetter\": \"o\", \"FirstTwoLetters\": \"Lo\"}, {\"StichtagDatJahr\": 2004, \"Vorname2\": \"Lorena\", \"SexLang\": \"weiblich\", \"AnzGebuWir\": 4, \"FirstLetter\": \"L\", \"SecondLetter\": \"o\", \"FirstTwoLetters\": \"Lo\"}, {\"StichtagDatJahr\": 2006, \"Vorname2\": \"Lou\", \"SexLang\": \"weiblich\", \"AnzGebuWir\": 4, \"FirstLetter\": \"L\", \"SecondLetter\": \"o\", \"FirstTwoLetters\": \"Lo\"}, {\"StichtagDatJahr\": 2011, \"Vorname2\": \"Louisa\", \"SexLang\": \"weiblich\", \"AnzGebuWir\": 3, \"FirstLetter\": \"L\", \"SecondLetter\": \"o\", \"FirstTwoLetters\": \"Lo\"}, {\"StichtagDatJahr\": 2003, \"Vorname2\": \"Lou\", \"SexLang\": \"weiblich\", \"AnzGebuWir\": 3, \"FirstLetter\": \"L\", \"SecondLetter\": \"o\", \"FirstTwoLetters\": \"Lo\"}, {\"StichtagDatJahr\": 2009, \"Vorname2\": \"Louise\", \"SexLang\": \"weiblich\", \"AnzGebuWir\": 3, \"FirstLetter\": \"L\", \"SecondLetter\": \"o\", \"FirstTwoLetters\": \"Lo\"}, {\"StichtagDatJahr\": 2007, \"Vorname2\": \"Lorena\", \"SexLang\": \"weiblich\", \"AnzGebuWir\": 3, \"FirstLetter\": \"L\", \"SecondLetter\": \"o\", \"FirstTwoLetters\": \"Lo\"}, {\"StichtagDatJahr\": 2004, \"Vorname2\": \"Lou\", \"SexLang\": \"weiblich\", \"AnzGebuWir\": 3, \"FirstLetter\": \"L\", \"SecondLetter\": \"o\", \"FirstTwoLetters\": \"Lo\"}, {\"StichtagDatJahr\": 1995, \"Vorname2\": \"Louise\", \"SexLang\": \"weiblich\", \"AnzGebuWir\": 3, \"FirstLetter\": \"L\", \"SecondLetter\": \"o\", \"FirstTwoLetters\": \"Lo\"}, {\"StichtagDatJahr\": 2019, \"Vorname2\": \"Louisa\", \"SexLang\": \"weiblich\", \"AnzGebuWir\": 3, \"FirstLetter\": \"L\", \"SecondLetter\": \"o\", \"FirstTwoLetters\": \"Lo\"}, {\"StichtagDatJahr\": 1999, \"Vorname2\": \"Lorena\", \"SexLang\": \"weiblich\", \"AnzGebuWir\": 3, \"FirstLetter\": \"L\", \"SecondLetter\": \"o\", \"FirstTwoLetters\": \"Lo\"}, {\"StichtagDatJahr\": 2015, \"Vorname2\": \"Louisa\", \"SexLang\": \"weiblich\", \"AnzGebuWir\": 3, \"FirstLetter\": \"L\", \"SecondLetter\": \"o\", \"FirstTwoLetters\": \"Lo\"}, {\"StichtagDatJahr\": 1998, \"Vorname2\": \"Lou\", \"SexLang\": \"weiblich\", \"AnzGebuWir\": 3, \"FirstLetter\": \"L\", \"SecondLetter\": \"o\", \"FirstTwoLetters\": \"Lo\"}, {\"StichtagDatJahr\": 2002, \"Vorname2\": \"Lorena\", \"SexLang\": \"weiblich\", \"AnzGebuWir\": 3, \"FirstLetter\": \"L\", \"SecondLetter\": \"o\", \"FirstTwoLetters\": \"Lo\"}, {\"StichtagDatJahr\": 2002, \"Vorname2\": \"Lou\", \"SexLang\": \"weiblich\", \"AnzGebuWir\": 3, \"FirstLetter\": \"L\", \"SecondLetter\": \"o\", \"FirstTwoLetters\": \"Lo\"}, {\"StichtagDatJahr\": 2002, \"Vorname2\": \"Louise\", \"SexLang\": \"weiblich\", \"AnzGebuWir\": 3, \"FirstLetter\": \"L\", \"SecondLetter\": \"o\", \"FirstTwoLetters\": \"Lo\"}, {\"StichtagDatJahr\": 2001, \"Vorname2\": \"Louise\", \"SexLang\": \"weiblich\", \"AnzGebuWir\": 3, \"FirstLetter\": \"L\", \"SecondLetter\": \"o\", \"FirstTwoLetters\": \"Lo\"}, {\"StichtagDatJahr\": 2008, \"Vorname2\": \"Lorena\", \"SexLang\": \"weiblich\", \"AnzGebuWir\": 2, \"FirstLetter\": \"L\", \"SecondLetter\": \"o\", \"FirstTwoLetters\": \"Lo\"}, {\"StichtagDatJahr\": 2018, \"Vorname2\": \"Louisa\", \"SexLang\": \"weiblich\", \"AnzGebuWir\": 2, \"FirstLetter\": \"L\", \"SecondLetter\": \"o\", \"FirstTwoLetters\": \"Lo\"}, {\"StichtagDatJahr\": 1993, \"Vorname2\": \"Louisa\", \"SexLang\": \"weiblich\", \"AnzGebuWir\": 2, \"FirstLetter\": \"L\", \"SecondLetter\": \"o\", \"FirstTwoLetters\": \"Lo\"}, {\"StichtagDatJahr\": 1993, \"Vorname2\": \"Louise\", \"SexLang\": \"weiblich\", \"AnzGebuWir\": 2, \"FirstLetter\": \"L\", \"SecondLetter\": \"o\", \"FirstTwoLetters\": \"Lo\"}, {\"StichtagDatJahr\": 2005, \"Vorname2\": \"Louisa\", \"SexLang\": \"weiblich\", \"AnzGebuWir\": 2, \"FirstLetter\": \"L\", \"SecondLetter\": \"o\", \"FirstTwoLetters\": \"Lo\"}, {\"StichtagDatJahr\": 2006, \"Vorname2\": \"Louisa\", \"SexLang\": \"weiblich\", \"AnzGebuWir\": 2, \"FirstLetter\": \"L\", \"SecondLetter\": \"o\", \"FirstTwoLetters\": \"Lo\"}, {\"StichtagDatJahr\": 1994, \"Vorname2\": \"Louisa\", \"SexLang\": \"weiblich\", \"AnzGebuWir\": 2, \"FirstLetter\": \"L\", \"SecondLetter\": \"o\", \"FirstTwoLetters\": \"Lo\"}, {\"StichtagDatJahr\": 1994, \"Vorname2\": \"Lorena\", \"SexLang\": \"weiblich\", \"AnzGebuWir\": 2, \"FirstLetter\": \"L\", \"SecondLetter\": \"o\", \"FirstTwoLetters\": \"Lo\"}, {\"StichtagDatJahr\": 2010, \"Vorname2\": \"Lorena\", \"SexLang\": \"weiblich\", \"AnzGebuWir\": 2, \"FirstLetter\": \"L\", \"SecondLetter\": \"o\", \"FirstTwoLetters\": \"Lo\"}, {\"StichtagDatJahr\": 1997, \"Vorname2\": \"Louise\", \"SexLang\": \"weiblich\", \"AnzGebuWir\": 2, \"FirstLetter\": \"L\", \"SecondLetter\": \"o\", \"FirstTwoLetters\": \"Lo\"}, {\"StichtagDatJahr\": 1997, \"Vorname2\": \"Louisa\", \"SexLang\": \"weiblich\", \"AnzGebuWir\": 2, \"FirstLetter\": \"L\", \"SecondLetter\": \"o\", \"FirstTwoLetters\": \"Lo\"}, {\"StichtagDatJahr\": 2003, \"Vorname2\": \"Louisa\", \"SexLang\": \"weiblich\", \"AnzGebuWir\": 2, \"FirstLetter\": \"L\", \"SecondLetter\": \"o\", \"FirstTwoLetters\": \"Lo\"}, {\"StichtagDatJahr\": 2019, \"Vorname2\": \"Ladina\", \"SexLang\": \"weiblich\", \"AnzGebuWir\": 2, \"FirstLetter\": \"L\", \"SecondLetter\": \"a\", \"FirstTwoLetters\": \"La\"}, {\"StichtagDatJahr\": 2004, \"Vorname2\": \"Louise\", \"SexLang\": \"weiblich\", \"AnzGebuWir\": 2, \"FirstLetter\": \"L\", \"SecondLetter\": \"o\", \"FirstTwoLetters\": \"Lo\"}, {\"StichtagDatJahr\": 2019, \"Vorname2\": \"Lara\", \"SexLang\": \"weiblich\", \"AnzGebuWir\": 2, \"FirstLetter\": \"L\", \"SecondLetter\": \"a\", \"FirstTwoLetters\": \"La\"}, {\"StichtagDatJahr\": 2013, \"Vorname2\": \"Lorena\", \"SexLang\": \"weiblich\", \"AnzGebuWir\": 2, \"FirstLetter\": \"L\", \"SecondLetter\": \"o\", \"FirstTwoLetters\": \"Lo\"}, {\"StichtagDatJahr\": 1996, \"Vorname2\": \"Lou\", \"SexLang\": \"weiblich\", \"AnzGebuWir\": 2, \"FirstLetter\": \"L\", \"SecondLetter\": \"o\", \"FirstTwoLetters\": \"Lo\"}, {\"StichtagDatJahr\": 1996, \"Vorname2\": \"Lorena\", \"SexLang\": \"weiblich\", \"AnzGebuWir\": 2, \"FirstLetter\": \"L\", \"SecondLetter\": \"o\", \"FirstTwoLetters\": \"Lo\"}, {\"StichtagDatJahr\": 2020, \"Vorname2\": \"Lara\", \"SexLang\": \"weiblich\", \"AnzGebuWir\": 2, \"FirstLetter\": \"L\", \"SecondLetter\": \"a\", \"FirstTwoLetters\": \"La\"}, {\"StichtagDatJahr\": 2009, \"Vorname2\": \"Lorena\", \"SexLang\": \"weiblich\", \"AnzGebuWir\": 2, \"FirstLetter\": \"L\", \"SecondLetter\": \"o\", \"FirstTwoLetters\": \"Lo\"}, {\"StichtagDatJahr\": 2005, \"Vorname2\": \"Lorena\", \"SexLang\": \"weiblich\", \"AnzGebuWir\": 1, \"FirstLetter\": \"L\", \"SecondLetter\": \"o\", \"FirstTwoLetters\": \"Lo\"}, {\"StichtagDatJahr\": 2003, \"Vorname2\": \"Lorena\", \"SexLang\": \"weiblich\", \"AnzGebuWir\": 1, \"FirstLetter\": \"L\", \"SecondLetter\": \"o\", \"FirstTwoLetters\": \"Lo\"}, {\"StichtagDatJahr\": 2011, \"Vorname2\": \"Lorena\", \"SexLang\": \"weiblich\", \"AnzGebuWir\": 1, \"FirstLetter\": \"L\", \"SecondLetter\": \"o\", \"FirstTwoLetters\": \"Lo\"}, {\"StichtagDatJahr\": 2002, \"Vorname2\": \"Louisa\", \"SexLang\": \"weiblich\", \"AnzGebuWir\": 1, \"FirstLetter\": \"L\", \"SecondLetter\": \"o\", \"FirstTwoLetters\": \"Lo\"}, {\"StichtagDatJahr\": 1997, \"Vorname2\": \"Lorena\", \"SexLang\": \"weiblich\", \"AnzGebuWir\": 1, \"FirstLetter\": \"L\", \"SecondLetter\": \"o\", \"FirstTwoLetters\": \"Lo\"}, {\"StichtagDatJahr\": 1993, \"Vorname2\": \"Lorena\", \"SexLang\": \"weiblich\", \"AnzGebuWir\": 1, \"FirstLetter\": \"L\", \"SecondLetter\": \"o\", \"FirstTwoLetters\": \"Lo\"}, {\"StichtagDatJahr\": 1994, \"Vorname2\": \"Lou\", \"SexLang\": \"weiblich\", \"AnzGebuWir\": 1, \"FirstLetter\": \"L\", \"SecondLetter\": \"o\", \"FirstTwoLetters\": \"Lo\"}, {\"StichtagDatJahr\": 1995, \"Vorname2\": \"Lou\", \"SexLang\": \"weiblich\", \"AnzGebuWir\": 1, \"FirstLetter\": \"L\", \"SecondLetter\": \"o\", \"FirstTwoLetters\": \"Lo\"}, {\"StichtagDatJahr\": 2001, \"Vorname2\": \"Lou\", \"SexLang\": \"weiblich\", \"AnzGebuWir\": 1, \"FirstLetter\": \"L\", \"SecondLetter\": \"o\", \"FirstTwoLetters\": \"Lo\"}, {\"StichtagDatJahr\": 2000, \"Vorname2\": \"Louisa\", \"SexLang\": \"weiblich\", \"AnzGebuWir\": 1, \"FirstLetter\": \"L\", \"SecondLetter\": \"o\", \"FirstTwoLetters\": \"Lo\"}, {\"StichtagDatJahr\": 2000, \"Vorname2\": \"Lou\", \"SexLang\": \"weiblich\", \"AnzGebuWir\": 1, \"FirstLetter\": \"L\", \"SecondLetter\": \"o\", \"FirstTwoLetters\": \"Lo\"}, {\"StichtagDatJahr\": 2000, \"Vorname2\": \"Lorena\", \"SexLang\": \"weiblich\", \"AnzGebuWir\": 1, \"FirstLetter\": \"L\", \"SecondLetter\": \"o\", \"FirstTwoLetters\": \"Lo\"}, {\"StichtagDatJahr\": 2001, \"Vorname2\": \"Louisa\", \"SexLang\": \"weiblich\", \"AnzGebuWir\": 1, \"FirstLetter\": \"L\", \"SecondLetter\": \"o\", \"FirstTwoLetters\": \"Lo\"}, {\"StichtagDatJahr\": 1999, \"Vorname2\": \"Louise\", \"SexLang\": \"weiblich\", \"AnzGebuWir\": 1, \"FirstLetter\": \"L\", \"SecondLetter\": \"o\", \"FirstTwoLetters\": \"Lo\"}, {\"StichtagDatJahr\": 2019, \"Vorname2\": \"Lorena\", \"SexLang\": \"weiblich\", \"AnzGebuWir\": 1, \"FirstLetter\": \"L\", \"SecondLetter\": \"o\", \"FirstTwoLetters\": \"Lo\"}, {\"StichtagDatJahr\": 2019, \"Vorname2\": \"Laura\", \"SexLang\": \"weiblich\", \"AnzGebuWir\": 1, \"FirstLetter\": \"L\", \"SecondLetter\": \"a\", \"FirstTwoLetters\": \"La\"}, {\"StichtagDatJahr\": 2018, \"Vorname2\": \"Lorena\", \"SexLang\": \"weiblich\", \"AnzGebuWir\": 1, \"FirstLetter\": \"L\", \"SecondLetter\": \"o\", \"FirstTwoLetters\": \"Lo\"}, {\"StichtagDatJahr\": 2020, \"Vorname2\": \"Lorena\", \"SexLang\": \"weiblich\", \"AnzGebuWir\": 1, \"FirstLetter\": \"L\", \"SecondLetter\": \"o\", \"FirstTwoLetters\": \"Lo\"}]}}, {\"mode\": \"vega-lite\"});\n",
       "</script>"
      ],
      "text/plain": [
       "alt.LayerChart(...)"
      ]
     },
     "execution_count": 22,
     "metadata": {},
     "output_type": "execute_result"
    }
   ],
   "source": [
    "# df_statzonen = df_statzonen[(df_statzonen.knr>0) & (df_statzonen.qname!=\"Hirslanden\")]\n",
    "#aktuellesJahr[[aktuellesJahr.KreisSort =7]])\n",
    "\n",
    "\n",
    "highlight = alt.selection(type='single', on='mouseover',\n",
    "                          fields=['symbol'], nearest=True)\n",
    "#x='date:StichtagDatJahr',\n",
    "base = alt.Chart(myGraphic).encode(\n",
    "    x='StichtagDatJahr:N',\n",
    "    y='AnzGebuWir',\n",
    "    color='Vorname2'\n",
    ")\n",
    "\n",
    "points = base.mark_circle().encode(\n",
    "    opacity=alt.value(0.75)\n",
    ").add_selection(\n",
    "    highlight\n",
    ").properties(\n",
    "    width=900 , height=400\n",
    ")\n",
    "lines = base.mark_line().encode(\n",
    "    size=alt.condition(~highlight, alt.value(1.5), alt.value(4))\n",
    ").interactive()\n",
    "\n",
    "points + lines"
   ]
  },
  {
   "cell_type": "code",
   "execution_count": 23,
   "metadata": {},
   "outputs": [
    {
     "data": {
      "text/html": [
       "\n",
       "<div id=\"altair-viz-2dbfb0147f9249019ea6ae27b233b782\"></div>\n",
       "<script type=\"text/javascript\">\n",
       "  (function(spec, embedOpt){\n",
       "    let outputDiv = document.currentScript.previousElementSibling;\n",
       "    if (outputDiv.id !== \"altair-viz-2dbfb0147f9249019ea6ae27b233b782\") {\n",
       "      outputDiv = document.getElementById(\"altair-viz-2dbfb0147f9249019ea6ae27b233b782\");\n",
       "    }\n",
       "    const paths = {\n",
       "      \"vega\": \"https://cdn.jsdelivr.net/npm//vega@5?noext\",\n",
       "      \"vega-lib\": \"https://cdn.jsdelivr.net/npm//vega-lib?noext\",\n",
       "      \"vega-lite\": \"https://cdn.jsdelivr.net/npm//vega-lite@4.8.1?noext\",\n",
       "      \"vega-embed\": \"https://cdn.jsdelivr.net/npm//vega-embed@6?noext\",\n",
       "    };\n",
       "\n",
       "    function loadScript(lib) {\n",
       "      return new Promise(function(resolve, reject) {\n",
       "        var s = document.createElement('script');\n",
       "        s.src = paths[lib];\n",
       "        s.async = true;\n",
       "        s.onload = () => resolve(paths[lib]);\n",
       "        s.onerror = () => reject(`Error loading script: ${paths[lib]}`);\n",
       "        document.getElementsByTagName(\"head\")[0].appendChild(s);\n",
       "      });\n",
       "    }\n",
       "\n",
       "    function showError(err) {\n",
       "      outputDiv.innerHTML = `<div class=\"error\" style=\"color:red;\">${err}</div>`;\n",
       "      throw err;\n",
       "    }\n",
       "\n",
       "    function displayChart(vegaEmbed) {\n",
       "      vegaEmbed(outputDiv, spec, embedOpt)\n",
       "        .catch(err => showError(`Javascript Error: ${err.message}<br>This usually means there's a typo in your chart specification. See the javascript console for the full traceback.`));\n",
       "    }\n",
       "\n",
       "    if(typeof define === \"function\" && define.amd) {\n",
       "      requirejs.config({paths});\n",
       "      require([\"vega-embed\"], displayChart, err => showError(`Error loading script: ${err.message}`));\n",
       "    } else if (typeof vegaEmbed === \"function\") {\n",
       "      displayChart(vegaEmbed);\n",
       "    } else {\n",
       "      loadScript(\"vega\")\n",
       "        .then(() => loadScript(\"vega-lite\"))\n",
       "        .then(() => loadScript(\"vega-embed\"))\n",
       "        .catch(showError)\n",
       "        .then(() => displayChart(vegaEmbed));\n",
       "    }\n",
       "  })({\"config\": {\"view\": {\"continuousWidth\": 400, \"continuousHeight\": 300}}, \"data\": {\"name\": \"data-2c8151538b95f38fe8795cd74df2a26b\"}, \"mark\": {\"type\": \"circle\", \"size\": 60}, \"encoding\": {\"color\": {\"type\": \"quantitative\", \"field\": \"StichtagDatJahr\"}, \"tooltip\": [{\"type\": \"quantitative\", \"field\": \"StichtagDatJahr\"}, {\"type\": \"nominal\", \"field\": \"Vorname2\"}, {\"type\": \"nominal\", \"field\": \"FirstTwoLetters\"}, {\"type\": \"quantitative\", \"field\": \"AnzGebuWir\"}], \"x\": {\"type\": \"nominal\", \"field\": \"Vorname2\"}, \"y\": {\"type\": \"quantitative\", \"field\": \"AnzGebuWir\"}}, \"selection\": {\"selector003\": {\"type\": \"interval\", \"bind\": \"scales\", \"encodings\": [\"x\", \"y\"]}}, \"$schema\": \"https://vega.github.io/schema/vega-lite/v4.8.1.json\", \"datasets\": {\"data-2c8151538b95f38fe8795cd74df2a26b\": [{\"StichtagDatJahr\": 2014, \"Vorname2\": \"Louise\", \"SexLang\": \"weiblich\", \"AnzGebuWir\": 19, \"FirstLetter\": \"L\", \"SecondLetter\": \"o\", \"FirstTwoLetters\": \"Lo\"}, {\"StichtagDatJahr\": 2020, \"Vorname2\": \"Louise\", \"SexLang\": \"weiblich\", \"AnzGebuWir\": 18, \"FirstLetter\": \"L\", \"SecondLetter\": \"o\", \"FirstTwoLetters\": \"Lo\"}, {\"StichtagDatJahr\": 2013, \"Vorname2\": \"Lou\", \"SexLang\": \"weiblich\", \"AnzGebuWir\": 18, \"FirstLetter\": \"L\", \"SecondLetter\": \"o\", \"FirstTwoLetters\": \"Lo\"}, {\"StichtagDatJahr\": 2015, \"Vorname2\": \"Louise\", \"SexLang\": \"weiblich\", \"AnzGebuWir\": 16, \"FirstLetter\": \"L\", \"SecondLetter\": \"o\", \"FirstTwoLetters\": \"Lo\"}, {\"StichtagDatJahr\": 2014, \"Vorname2\": \"Lou\", \"SexLang\": \"weiblich\", \"AnzGebuWir\": 15, \"FirstLetter\": \"L\", \"SecondLetter\": \"o\", \"FirstTwoLetters\": \"Lo\"}, {\"StichtagDatJahr\": 2010, \"Vorname2\": \"Louise\", \"SexLang\": \"weiblich\", \"AnzGebuWir\": 15, \"FirstLetter\": \"L\", \"SecondLetter\": \"o\", \"FirstTwoLetters\": \"Lo\"}, {\"StichtagDatJahr\": 2011, \"Vorname2\": \"Lou\", \"SexLang\": \"weiblich\", \"AnzGebuWir\": 14, \"FirstLetter\": \"L\", \"SecondLetter\": \"o\", \"FirstTwoLetters\": \"Lo\"}, {\"StichtagDatJahr\": 2020, \"Vorname2\": \"Laurin\", \"SexLang\": \"m\\u00e4nnlich\", \"AnzGebuWir\": 13, \"FirstLetter\": \"L\", \"SecondLetter\": \"a\", \"FirstTwoLetters\": \"La\"}, {\"StichtagDatJahr\": 2016, \"Vorname2\": \"Lou\", \"SexLang\": \"weiblich\", \"AnzGebuWir\": 13, \"FirstLetter\": \"L\", \"SecondLetter\": \"o\", \"FirstTwoLetters\": \"Lo\"}, {\"StichtagDatJahr\": 2013, \"Vorname2\": \"Louise\", \"SexLang\": \"weiblich\", \"AnzGebuWir\": 11, \"FirstLetter\": \"L\", \"SecondLetter\": \"o\", \"FirstTwoLetters\": \"Lo\"}, {\"StichtagDatJahr\": 2019, \"Vorname2\": \"Louise\", \"SexLang\": \"weiblich\", \"AnzGebuWir\": 11, \"FirstLetter\": \"L\", \"SecondLetter\": \"o\", \"FirstTwoLetters\": \"Lo\"}, {\"StichtagDatJahr\": 2017, \"Vorname2\": \"Lou\", \"SexLang\": \"weiblich\", \"AnzGebuWir\": 10, \"FirstLetter\": \"L\", \"SecondLetter\": \"o\", \"FirstTwoLetters\": \"Lo\"}, {\"StichtagDatJahr\": 2016, \"Vorname2\": \"Louise\", \"SexLang\": \"weiblich\", \"AnzGebuWir\": 10, \"FirstLetter\": \"L\", \"SecondLetter\": \"o\", \"FirstTwoLetters\": \"Lo\"}, {\"StichtagDatJahr\": 2020, \"Vorname2\": \"Lou\", \"SexLang\": \"weiblich\", \"AnzGebuWir\": 10, \"FirstLetter\": \"L\", \"SecondLetter\": \"o\", \"FirstTwoLetters\": \"Lo\"}, {\"StichtagDatJahr\": 2018, \"Vorname2\": \"Lou\", \"SexLang\": \"weiblich\", \"AnzGebuWir\": 10, \"FirstLetter\": \"L\", \"SecondLetter\": \"o\", \"FirstTwoLetters\": \"Lo\"}, {\"StichtagDatJahr\": 2018, \"Vorname2\": \"Louise\", \"SexLang\": \"weiblich\", \"AnzGebuWir\": 10, \"FirstLetter\": \"L\", \"SecondLetter\": \"o\", \"FirstTwoLetters\": \"Lo\"}, {\"StichtagDatJahr\": 2012, \"Vorname2\": \"Lou\", \"SexLang\": \"weiblich\", \"AnzGebuWir\": 10, \"FirstLetter\": \"L\", \"SecondLetter\": \"o\", \"FirstTwoLetters\": \"Lo\"}, {\"StichtagDatJahr\": 2019, \"Vorname2\": \"Lou\", \"SexLang\": \"weiblich\", \"AnzGebuWir\": 10, \"FirstLetter\": \"L\", \"SecondLetter\": \"o\", \"FirstTwoLetters\": \"Lo\"}, {\"StichtagDatJahr\": 2015, \"Vorname2\": \"Lou\", \"SexLang\": \"weiblich\", \"AnzGebuWir\": 9, \"FirstLetter\": \"L\", \"SecondLetter\": \"o\", \"FirstTwoLetters\": \"Lo\"}, {\"StichtagDatJahr\": 2007, \"Vorname2\": \"Louise\", \"SexLang\": \"weiblich\", \"AnzGebuWir\": 9, \"FirstLetter\": \"L\", \"SecondLetter\": \"o\", \"FirstTwoLetters\": \"Lo\"}, {\"StichtagDatJahr\": 2009, \"Vorname2\": \"Lou\", \"SexLang\": \"weiblich\", \"AnzGebuWir\": 9, \"FirstLetter\": \"L\", \"SecondLetter\": \"o\", \"FirstTwoLetters\": \"Lo\"}, {\"StichtagDatJahr\": 1996, \"Vorname2\": \"Louise\", \"SexLang\": \"weiblich\", \"AnzGebuWir\": 9, \"FirstLetter\": \"L\", \"SecondLetter\": \"o\", \"FirstTwoLetters\": \"Lo\"}, {\"StichtagDatJahr\": 2005, \"Vorname2\": \"Louise\", \"SexLang\": \"weiblich\", \"AnzGebuWir\": 8, \"FirstLetter\": \"L\", \"SecondLetter\": \"o\", \"FirstTwoLetters\": \"Lo\"}, {\"StichtagDatJahr\": 2008, \"Vorname2\": \"Lou\", \"SexLang\": \"weiblich\", \"AnzGebuWir\": 8, \"FirstLetter\": \"L\", \"SecondLetter\": \"o\", \"FirstTwoLetters\": \"Lo\"}, {\"StichtagDatJahr\": 2007, \"Vorname2\": \"Lou\", \"SexLang\": \"weiblich\", \"AnzGebuWir\": 8, \"FirstLetter\": \"L\", \"SecondLetter\": \"o\", \"FirstTwoLetters\": \"Lo\"}, {\"StichtagDatJahr\": 2012, \"Vorname2\": \"Louise\", \"SexLang\": \"weiblich\", \"AnzGebuWir\": 8, \"FirstLetter\": \"L\", \"SecondLetter\": \"o\", \"FirstTwoLetters\": \"Lo\"}, {\"StichtagDatJahr\": 2016, \"Vorname2\": \"Louisa\", \"SexLang\": \"weiblich\", \"AnzGebuWir\": 8, \"FirstLetter\": \"L\", \"SecondLetter\": \"o\", \"FirstTwoLetters\": \"Lo\"}, {\"StichtagDatJahr\": 2009, \"Vorname2\": \"Louisa\", \"SexLang\": \"weiblich\", \"AnzGebuWir\": 8, \"FirstLetter\": \"L\", \"SecondLetter\": \"o\", \"FirstTwoLetters\": \"Lo\"}, {\"StichtagDatJahr\": 2010, \"Vorname2\": \"Louisa\", \"SexLang\": \"weiblich\", \"AnzGebuWir\": 8, \"FirstLetter\": \"L\", \"SecondLetter\": \"o\", \"FirstTwoLetters\": \"Lo\"}, {\"StichtagDatJahr\": 2019, \"Vorname2\": \"Laurin\", \"SexLang\": \"m\\u00e4nnlich\", \"AnzGebuWir\": 8, \"FirstLetter\": \"L\", \"SecondLetter\": \"a\", \"FirstTwoLetters\": \"La\"}, {\"StichtagDatJahr\": 2011, \"Vorname2\": \"Louise\", \"SexLang\": \"weiblich\", \"AnzGebuWir\": 7, \"FirstLetter\": \"L\", \"SecondLetter\": \"o\", \"FirstTwoLetters\": \"Lo\"}, {\"StichtagDatJahr\": 2013, \"Vorname2\": \"Louisa\", \"SexLang\": \"weiblich\", \"AnzGebuWir\": 7, \"FirstLetter\": \"L\", \"SecondLetter\": \"o\", \"FirstTwoLetters\": \"Lo\"}, {\"StichtagDatJahr\": 2012, \"Vorname2\": \"Louisa\", \"SexLang\": \"weiblich\", \"AnzGebuWir\": 7, \"FirstLetter\": \"L\", \"SecondLetter\": \"o\", \"FirstTwoLetters\": \"Lo\"}, {\"StichtagDatJahr\": 2005, \"Vorname2\": \"Lou\", \"SexLang\": \"weiblich\", \"AnzGebuWir\": 7, \"FirstLetter\": \"L\", \"SecondLetter\": \"o\", \"FirstTwoLetters\": \"Lo\"}, {\"StichtagDatJahr\": 2008, \"Vorname2\": \"Louise\", \"SexLang\": \"weiblich\", \"AnzGebuWir\": 7, \"FirstLetter\": \"L\", \"SecondLetter\": \"o\", \"FirstTwoLetters\": \"Lo\"}, {\"StichtagDatJahr\": 2020, \"Vorname2\": \"Louisa\", \"SexLang\": \"weiblich\", \"AnzGebuWir\": 6, \"FirstLetter\": \"L\", \"SecondLetter\": \"o\", \"FirstTwoLetters\": \"Lo\"}, {\"StichtagDatJahr\": 2017, \"Vorname2\": \"Louise\", \"SexLang\": \"weiblich\", \"AnzGebuWir\": 6, \"FirstLetter\": \"L\", \"SecondLetter\": \"o\", \"FirstTwoLetters\": \"Lo\"}, {\"StichtagDatJahr\": 2010, \"Vorname2\": \"Lou\", \"SexLang\": \"weiblich\", \"AnzGebuWir\": 5, \"FirstLetter\": \"L\", \"SecondLetter\": \"o\", \"FirstTwoLetters\": \"Lo\"}, {\"StichtagDatJahr\": 2000, \"Vorname2\": \"Louise\", \"SexLang\": \"weiblich\", \"AnzGebuWir\": 5, \"FirstLetter\": \"L\", \"SecondLetter\": \"o\", \"FirstTwoLetters\": \"Lo\"}, {\"StichtagDatJahr\": 1998, \"Vorname2\": \"Lorena\", \"SexLang\": \"weiblich\", \"AnzGebuWir\": 5, \"FirstLetter\": \"L\", \"SecondLetter\": \"o\", \"FirstTwoLetters\": \"Lo\"}, {\"StichtagDatJahr\": 2006, \"Vorname2\": \"Louise\", \"SexLang\": \"weiblich\", \"AnzGebuWir\": 5, \"FirstLetter\": \"L\", \"SecondLetter\": \"o\", \"FirstTwoLetters\": \"Lo\"}, {\"StichtagDatJahr\": 1994, \"Vorname2\": \"Louise\", \"SexLang\": \"weiblich\", \"AnzGebuWir\": 5, \"FirstLetter\": \"L\", \"SecondLetter\": \"o\", \"FirstTwoLetters\": \"Lo\"}, {\"StichtagDatJahr\": 2017, \"Vorname2\": \"Louisa\", \"SexLang\": \"weiblich\", \"AnzGebuWir\": 4, \"FirstLetter\": \"L\", \"SecondLetter\": \"o\", \"FirstTwoLetters\": \"Lo\"}, {\"StichtagDatJahr\": 2020, \"Vorname2\": \"Ladina\", \"SexLang\": \"weiblich\", \"AnzGebuWir\": 4, \"FirstLetter\": \"L\", \"SecondLetter\": \"a\", \"FirstTwoLetters\": \"La\"}, {\"StichtagDatJahr\": 2020, \"Vorname2\": \"Laura\", \"SexLang\": \"weiblich\", \"AnzGebuWir\": 4, \"FirstLetter\": \"L\", \"SecondLetter\": \"a\", \"FirstTwoLetters\": \"La\"}, {\"StichtagDatJahr\": 1997, \"Vorname2\": \"Lou\", \"SexLang\": \"weiblich\", \"AnzGebuWir\": 4, \"FirstLetter\": \"L\", \"SecondLetter\": \"o\", \"FirstTwoLetters\": \"Lo\"}, {\"StichtagDatJahr\": 1998, \"Vorname2\": \"Louise\", \"SexLang\": \"weiblich\", \"AnzGebuWir\": 4, \"FirstLetter\": \"L\", \"SecondLetter\": \"o\", \"FirstTwoLetters\": \"Lo\"}, {\"StichtagDatJahr\": 2007, \"Vorname2\": \"Louisa\", \"SexLang\": \"weiblich\", \"AnzGebuWir\": 4, \"FirstLetter\": \"L\", \"SecondLetter\": \"o\", \"FirstTwoLetters\": \"Lo\"}, {\"StichtagDatJahr\": 2014, \"Vorname2\": \"Louisa\", \"SexLang\": \"weiblich\", \"AnzGebuWir\": 4, \"FirstLetter\": \"L\", \"SecondLetter\": \"o\", \"FirstTwoLetters\": \"Lo\"}, {\"StichtagDatJahr\": 2008, \"Vorname2\": \"Louisa\", \"SexLang\": \"weiblich\", \"AnzGebuWir\": 4, \"FirstLetter\": \"L\", \"SecondLetter\": \"o\", \"FirstTwoLetters\": \"Lo\"}, {\"StichtagDatJahr\": 2003, \"Vorname2\": \"Louise\", \"SexLang\": \"weiblich\", \"AnzGebuWir\": 4, \"FirstLetter\": \"L\", \"SecondLetter\": \"o\", \"FirstTwoLetters\": \"Lo\"}, {\"StichtagDatJahr\": 2004, \"Vorname2\": \"Lorena\", \"SexLang\": \"weiblich\", \"AnzGebuWir\": 4, \"FirstLetter\": \"L\", \"SecondLetter\": \"o\", \"FirstTwoLetters\": \"Lo\"}, {\"StichtagDatJahr\": 2006, \"Vorname2\": \"Lou\", \"SexLang\": \"weiblich\", \"AnzGebuWir\": 4, \"FirstLetter\": \"L\", \"SecondLetter\": \"o\", \"FirstTwoLetters\": \"Lo\"}, {\"StichtagDatJahr\": 2011, \"Vorname2\": \"Louisa\", \"SexLang\": \"weiblich\", \"AnzGebuWir\": 3, \"FirstLetter\": \"L\", \"SecondLetter\": \"o\", \"FirstTwoLetters\": \"Lo\"}, {\"StichtagDatJahr\": 2003, \"Vorname2\": \"Lou\", \"SexLang\": \"weiblich\", \"AnzGebuWir\": 3, \"FirstLetter\": \"L\", \"SecondLetter\": \"o\", \"FirstTwoLetters\": \"Lo\"}, {\"StichtagDatJahr\": 2009, \"Vorname2\": \"Louise\", \"SexLang\": \"weiblich\", \"AnzGebuWir\": 3, \"FirstLetter\": \"L\", \"SecondLetter\": \"o\", \"FirstTwoLetters\": \"Lo\"}, {\"StichtagDatJahr\": 2007, \"Vorname2\": \"Lorena\", \"SexLang\": \"weiblich\", \"AnzGebuWir\": 3, \"FirstLetter\": \"L\", \"SecondLetter\": \"o\", \"FirstTwoLetters\": \"Lo\"}, {\"StichtagDatJahr\": 2004, \"Vorname2\": \"Lou\", \"SexLang\": \"weiblich\", \"AnzGebuWir\": 3, \"FirstLetter\": \"L\", \"SecondLetter\": \"o\", \"FirstTwoLetters\": \"Lo\"}, {\"StichtagDatJahr\": 1995, \"Vorname2\": \"Louise\", \"SexLang\": \"weiblich\", \"AnzGebuWir\": 3, \"FirstLetter\": \"L\", \"SecondLetter\": \"o\", \"FirstTwoLetters\": \"Lo\"}, {\"StichtagDatJahr\": 2019, \"Vorname2\": \"Louisa\", \"SexLang\": \"weiblich\", \"AnzGebuWir\": 3, \"FirstLetter\": \"L\", \"SecondLetter\": \"o\", \"FirstTwoLetters\": \"Lo\"}, {\"StichtagDatJahr\": 1999, \"Vorname2\": \"Lorena\", \"SexLang\": \"weiblich\", \"AnzGebuWir\": 3, \"FirstLetter\": \"L\", \"SecondLetter\": \"o\", \"FirstTwoLetters\": \"Lo\"}, {\"StichtagDatJahr\": 2015, \"Vorname2\": \"Louisa\", \"SexLang\": \"weiblich\", \"AnzGebuWir\": 3, \"FirstLetter\": \"L\", \"SecondLetter\": \"o\", \"FirstTwoLetters\": \"Lo\"}, {\"StichtagDatJahr\": 1998, \"Vorname2\": \"Lou\", \"SexLang\": \"weiblich\", \"AnzGebuWir\": 3, \"FirstLetter\": \"L\", \"SecondLetter\": \"o\", \"FirstTwoLetters\": \"Lo\"}, {\"StichtagDatJahr\": 2002, \"Vorname2\": \"Lorena\", \"SexLang\": \"weiblich\", \"AnzGebuWir\": 3, \"FirstLetter\": \"L\", \"SecondLetter\": \"o\", \"FirstTwoLetters\": \"Lo\"}, {\"StichtagDatJahr\": 2002, \"Vorname2\": \"Lou\", \"SexLang\": \"weiblich\", \"AnzGebuWir\": 3, \"FirstLetter\": \"L\", \"SecondLetter\": \"o\", \"FirstTwoLetters\": \"Lo\"}, {\"StichtagDatJahr\": 2002, \"Vorname2\": \"Louise\", \"SexLang\": \"weiblich\", \"AnzGebuWir\": 3, \"FirstLetter\": \"L\", \"SecondLetter\": \"o\", \"FirstTwoLetters\": \"Lo\"}, {\"StichtagDatJahr\": 2001, \"Vorname2\": \"Louise\", \"SexLang\": \"weiblich\", \"AnzGebuWir\": 3, \"FirstLetter\": \"L\", \"SecondLetter\": \"o\", \"FirstTwoLetters\": \"Lo\"}, {\"StichtagDatJahr\": 2008, \"Vorname2\": \"Lorena\", \"SexLang\": \"weiblich\", \"AnzGebuWir\": 2, \"FirstLetter\": \"L\", \"SecondLetter\": \"o\", \"FirstTwoLetters\": \"Lo\"}, {\"StichtagDatJahr\": 2018, \"Vorname2\": \"Louisa\", \"SexLang\": \"weiblich\", \"AnzGebuWir\": 2, \"FirstLetter\": \"L\", \"SecondLetter\": \"o\", \"FirstTwoLetters\": \"Lo\"}, {\"StichtagDatJahr\": 1993, \"Vorname2\": \"Louisa\", \"SexLang\": \"weiblich\", \"AnzGebuWir\": 2, \"FirstLetter\": \"L\", \"SecondLetter\": \"o\", \"FirstTwoLetters\": \"Lo\"}, {\"StichtagDatJahr\": 1993, \"Vorname2\": \"Louise\", \"SexLang\": \"weiblich\", \"AnzGebuWir\": 2, \"FirstLetter\": \"L\", \"SecondLetter\": \"o\", \"FirstTwoLetters\": \"Lo\"}, {\"StichtagDatJahr\": 2005, \"Vorname2\": \"Louisa\", \"SexLang\": \"weiblich\", \"AnzGebuWir\": 2, \"FirstLetter\": \"L\", \"SecondLetter\": \"o\", \"FirstTwoLetters\": \"Lo\"}, {\"StichtagDatJahr\": 2006, \"Vorname2\": \"Louisa\", \"SexLang\": \"weiblich\", \"AnzGebuWir\": 2, \"FirstLetter\": \"L\", \"SecondLetter\": \"o\", \"FirstTwoLetters\": \"Lo\"}, {\"StichtagDatJahr\": 1994, \"Vorname2\": \"Louisa\", \"SexLang\": \"weiblich\", \"AnzGebuWir\": 2, \"FirstLetter\": \"L\", \"SecondLetter\": \"o\", \"FirstTwoLetters\": \"Lo\"}, {\"StichtagDatJahr\": 1994, \"Vorname2\": \"Lorena\", \"SexLang\": \"weiblich\", \"AnzGebuWir\": 2, \"FirstLetter\": \"L\", \"SecondLetter\": \"o\", \"FirstTwoLetters\": \"Lo\"}, {\"StichtagDatJahr\": 2010, \"Vorname2\": \"Lorena\", \"SexLang\": \"weiblich\", \"AnzGebuWir\": 2, \"FirstLetter\": \"L\", \"SecondLetter\": \"o\", \"FirstTwoLetters\": \"Lo\"}, {\"StichtagDatJahr\": 1997, \"Vorname2\": \"Louise\", \"SexLang\": \"weiblich\", \"AnzGebuWir\": 2, \"FirstLetter\": \"L\", \"SecondLetter\": \"o\", \"FirstTwoLetters\": \"Lo\"}, {\"StichtagDatJahr\": 1997, \"Vorname2\": \"Louisa\", \"SexLang\": \"weiblich\", \"AnzGebuWir\": 2, \"FirstLetter\": \"L\", \"SecondLetter\": \"o\", \"FirstTwoLetters\": \"Lo\"}, {\"StichtagDatJahr\": 2003, \"Vorname2\": \"Louisa\", \"SexLang\": \"weiblich\", \"AnzGebuWir\": 2, \"FirstLetter\": \"L\", \"SecondLetter\": \"o\", \"FirstTwoLetters\": \"Lo\"}, {\"StichtagDatJahr\": 2019, \"Vorname2\": \"Ladina\", \"SexLang\": \"weiblich\", \"AnzGebuWir\": 2, \"FirstLetter\": \"L\", \"SecondLetter\": \"a\", \"FirstTwoLetters\": \"La\"}, {\"StichtagDatJahr\": 2004, \"Vorname2\": \"Louise\", \"SexLang\": \"weiblich\", \"AnzGebuWir\": 2, \"FirstLetter\": \"L\", \"SecondLetter\": \"o\", \"FirstTwoLetters\": \"Lo\"}, {\"StichtagDatJahr\": 2019, \"Vorname2\": \"Lara\", \"SexLang\": \"weiblich\", \"AnzGebuWir\": 2, \"FirstLetter\": \"L\", \"SecondLetter\": \"a\", \"FirstTwoLetters\": \"La\"}, {\"StichtagDatJahr\": 2013, \"Vorname2\": \"Lorena\", \"SexLang\": \"weiblich\", \"AnzGebuWir\": 2, \"FirstLetter\": \"L\", \"SecondLetter\": \"o\", \"FirstTwoLetters\": \"Lo\"}, {\"StichtagDatJahr\": 1996, \"Vorname2\": \"Lou\", \"SexLang\": \"weiblich\", \"AnzGebuWir\": 2, \"FirstLetter\": \"L\", \"SecondLetter\": \"o\", \"FirstTwoLetters\": \"Lo\"}, {\"StichtagDatJahr\": 1996, \"Vorname2\": \"Lorena\", \"SexLang\": \"weiblich\", \"AnzGebuWir\": 2, \"FirstLetter\": \"L\", \"SecondLetter\": \"o\", \"FirstTwoLetters\": \"Lo\"}, {\"StichtagDatJahr\": 2020, \"Vorname2\": \"Lara\", \"SexLang\": \"weiblich\", \"AnzGebuWir\": 2, \"FirstLetter\": \"L\", \"SecondLetter\": \"a\", \"FirstTwoLetters\": \"La\"}, {\"StichtagDatJahr\": 2009, \"Vorname2\": \"Lorena\", \"SexLang\": \"weiblich\", \"AnzGebuWir\": 2, \"FirstLetter\": \"L\", \"SecondLetter\": \"o\", \"FirstTwoLetters\": \"Lo\"}, {\"StichtagDatJahr\": 2005, \"Vorname2\": \"Lorena\", \"SexLang\": \"weiblich\", \"AnzGebuWir\": 1, \"FirstLetter\": \"L\", \"SecondLetter\": \"o\", \"FirstTwoLetters\": \"Lo\"}, {\"StichtagDatJahr\": 2003, \"Vorname2\": \"Lorena\", \"SexLang\": \"weiblich\", \"AnzGebuWir\": 1, \"FirstLetter\": \"L\", \"SecondLetter\": \"o\", \"FirstTwoLetters\": \"Lo\"}, {\"StichtagDatJahr\": 2011, \"Vorname2\": \"Lorena\", \"SexLang\": \"weiblich\", \"AnzGebuWir\": 1, \"FirstLetter\": \"L\", \"SecondLetter\": \"o\", \"FirstTwoLetters\": \"Lo\"}, {\"StichtagDatJahr\": 2002, \"Vorname2\": \"Louisa\", \"SexLang\": \"weiblich\", \"AnzGebuWir\": 1, \"FirstLetter\": \"L\", \"SecondLetter\": \"o\", \"FirstTwoLetters\": \"Lo\"}, {\"StichtagDatJahr\": 1997, \"Vorname2\": \"Lorena\", \"SexLang\": \"weiblich\", \"AnzGebuWir\": 1, \"FirstLetter\": \"L\", \"SecondLetter\": \"o\", \"FirstTwoLetters\": \"Lo\"}, {\"StichtagDatJahr\": 1993, \"Vorname2\": \"Lorena\", \"SexLang\": \"weiblich\", \"AnzGebuWir\": 1, \"FirstLetter\": \"L\", \"SecondLetter\": \"o\", \"FirstTwoLetters\": \"Lo\"}, {\"StichtagDatJahr\": 1994, \"Vorname2\": \"Lou\", \"SexLang\": \"weiblich\", \"AnzGebuWir\": 1, \"FirstLetter\": \"L\", \"SecondLetter\": \"o\", \"FirstTwoLetters\": \"Lo\"}, {\"StichtagDatJahr\": 1995, \"Vorname2\": \"Lou\", \"SexLang\": \"weiblich\", \"AnzGebuWir\": 1, \"FirstLetter\": \"L\", \"SecondLetter\": \"o\", \"FirstTwoLetters\": \"Lo\"}, {\"StichtagDatJahr\": 2001, \"Vorname2\": \"Lou\", \"SexLang\": \"weiblich\", \"AnzGebuWir\": 1, \"FirstLetter\": \"L\", \"SecondLetter\": \"o\", \"FirstTwoLetters\": \"Lo\"}, {\"StichtagDatJahr\": 2000, \"Vorname2\": \"Louisa\", \"SexLang\": \"weiblich\", \"AnzGebuWir\": 1, \"FirstLetter\": \"L\", \"SecondLetter\": \"o\", \"FirstTwoLetters\": \"Lo\"}, {\"StichtagDatJahr\": 2000, \"Vorname2\": \"Lou\", \"SexLang\": \"weiblich\", \"AnzGebuWir\": 1, \"FirstLetter\": \"L\", \"SecondLetter\": \"o\", \"FirstTwoLetters\": \"Lo\"}, {\"StichtagDatJahr\": 2000, \"Vorname2\": \"Lorena\", \"SexLang\": \"weiblich\", \"AnzGebuWir\": 1, \"FirstLetter\": \"L\", \"SecondLetter\": \"o\", \"FirstTwoLetters\": \"Lo\"}, {\"StichtagDatJahr\": 2001, \"Vorname2\": \"Louisa\", \"SexLang\": \"weiblich\", \"AnzGebuWir\": 1, \"FirstLetter\": \"L\", \"SecondLetter\": \"o\", \"FirstTwoLetters\": \"Lo\"}, {\"StichtagDatJahr\": 1999, \"Vorname2\": \"Louise\", \"SexLang\": \"weiblich\", \"AnzGebuWir\": 1, \"FirstLetter\": \"L\", \"SecondLetter\": \"o\", \"FirstTwoLetters\": \"Lo\"}, {\"StichtagDatJahr\": 2019, \"Vorname2\": \"Lorena\", \"SexLang\": \"weiblich\", \"AnzGebuWir\": 1, \"FirstLetter\": \"L\", \"SecondLetter\": \"o\", \"FirstTwoLetters\": \"Lo\"}, {\"StichtagDatJahr\": 2019, \"Vorname2\": \"Laura\", \"SexLang\": \"weiblich\", \"AnzGebuWir\": 1, \"FirstLetter\": \"L\", \"SecondLetter\": \"a\", \"FirstTwoLetters\": \"La\"}, {\"StichtagDatJahr\": 2018, \"Vorname2\": \"Lorena\", \"SexLang\": \"weiblich\", \"AnzGebuWir\": 1, \"FirstLetter\": \"L\", \"SecondLetter\": \"o\", \"FirstTwoLetters\": \"Lo\"}, {\"StichtagDatJahr\": 2020, \"Vorname2\": \"Lorena\", \"SexLang\": \"weiblich\", \"AnzGebuWir\": 1, \"FirstLetter\": \"L\", \"SecondLetter\": \"o\", \"FirstTwoLetters\": \"Lo\"}]}}, {\"mode\": \"vega-lite\"});\n",
       "</script>"
      ],
      "text/plain": [
       "alt.Chart(...)"
      ]
     },
     "execution_count": 23,
     "metadata": {},
     "output_type": "execute_result"
    }
   ],
   "source": [
    "alt.Chart(myGraphic).mark_circle(size=60).encode(\n",
    "    x='Vorname2',\n",
    "    y='AnzGebuWir',\n",
    "    color='StichtagDatJahr',\n",
    "    tooltip=['StichtagDatJahr', 'Vorname2', 'FirstTwoLetters','AnzGebuWir']\n",
    ").interactive() # this makes the axes interactive: now you can zoom & pan\n",
    "\n"
   ]
  },
  {
   "cell_type": "code",
   "execution_count": 24,
   "metadata": {},
   "outputs": [
    {
     "data": {
      "text/html": [
       "<div>\n",
       "<style scoped>\n",
       "    .dataframe tbody tr th:only-of-type {\n",
       "        vertical-align: middle;\n",
       "    }\n",
       "\n",
       "    .dataframe tbody tr th {\n",
       "        vertical-align: top;\n",
       "    }\n",
       "\n",
       "    .dataframe thead th {\n",
       "        text-align: right;\n",
       "    }\n",
       "</style>\n",
       "<table border=\"1\" class=\"dataframe\">\n",
       "  <thead>\n",
       "    <tr style=\"text-align: right;\">\n",
       "      <th></th>\n",
       "      <th>StichtagDatJahr</th>\n",
       "      <th>Vorname2</th>\n",
       "      <th>SexLang</th>\n",
       "      <th>AnzGebuWir</th>\n",
       "      <th>FirstLetter</th>\n",
       "      <th>SecondLetter</th>\n",
       "      <th>FirstTwoLetters</th>\n",
       "    </tr>\n",
       "  </thead>\n",
       "  <tbody>\n",
       "    <tr>\n",
       "      <th>2293</th>\n",
       "      <td>2014</td>\n",
       "      <td>Louise</td>\n",
       "      <td>weiblich</td>\n",
       "      <td>19</td>\n",
       "      <td>L</td>\n",
       "      <td>o</td>\n",
       "      <td>Lo</td>\n",
       "    </tr>\n",
       "    <tr>\n",
       "      <th>2926</th>\n",
       "      <td>2020</td>\n",
       "      <td>Louise</td>\n",
       "      <td>weiblich</td>\n",
       "      <td>18</td>\n",
       "      <td>L</td>\n",
       "      <td>o</td>\n",
       "      <td>Lo</td>\n",
       "    </tr>\n",
       "    <tr>\n",
       "      <th>2179</th>\n",
       "      <td>2013</td>\n",
       "      <td>Lou</td>\n",
       "      <td>weiblich</td>\n",
       "      <td>18</td>\n",
       "      <td>L</td>\n",
       "      <td>o</td>\n",
       "      <td>Lo</td>\n",
       "    </tr>\n",
       "    <tr>\n",
       "      <th>2404</th>\n",
       "      <td>2015</td>\n",
       "      <td>Louise</td>\n",
       "      <td>weiblich</td>\n",
       "      <td>16</td>\n",
       "      <td>L</td>\n",
       "      <td>o</td>\n",
       "      <td>Lo</td>\n",
       "    </tr>\n",
       "    <tr>\n",
       "      <th>2291</th>\n",
       "      <td>2014</td>\n",
       "      <td>Lou</td>\n",
       "      <td>weiblich</td>\n",
       "      <td>15</td>\n",
       "      <td>L</td>\n",
       "      <td>o</td>\n",
       "      <td>Lo</td>\n",
       "    </tr>\n",
       "    <tr>\n",
       "      <th>...</th>\n",
       "      <td>...</td>\n",
       "      <td>...</td>\n",
       "      <td>...</td>\n",
       "      <td>...</td>\n",
       "      <td>...</td>\n",
       "      <td>...</td>\n",
       "      <td>...</td>\n",
       "    </tr>\n",
       "    <tr>\n",
       "      <th>653</th>\n",
       "      <td>1999</td>\n",
       "      <td>Louise</td>\n",
       "      <td>weiblich</td>\n",
       "      <td>1</td>\n",
       "      <td>L</td>\n",
       "      <td>o</td>\n",
       "      <td>Lo</td>\n",
       "    </tr>\n",
       "    <tr>\n",
       "      <th>2819</th>\n",
       "      <td>2019</td>\n",
       "      <td>Lorena</td>\n",
       "      <td>weiblich</td>\n",
       "      <td>1</td>\n",
       "      <td>L</td>\n",
       "      <td>o</td>\n",
       "      <td>Lo</td>\n",
       "    </tr>\n",
       "    <tr>\n",
       "      <th>2810</th>\n",
       "      <td>2019</td>\n",
       "      <td>Laura</td>\n",
       "      <td>weiblich</td>\n",
       "      <td>1</td>\n",
       "      <td>L</td>\n",
       "      <td>a</td>\n",
       "      <td>La</td>\n",
       "    </tr>\n",
       "    <tr>\n",
       "      <th>2718</th>\n",
       "      <td>2018</td>\n",
       "      <td>Lorena</td>\n",
       "      <td>weiblich</td>\n",
       "      <td>1</td>\n",
       "      <td>L</td>\n",
       "      <td>o</td>\n",
       "      <td>Lo</td>\n",
       "    </tr>\n",
       "    <tr>\n",
       "      <th>2923</th>\n",
       "      <td>2020</td>\n",
       "      <td>Lorena</td>\n",
       "      <td>weiblich</td>\n",
       "      <td>1</td>\n",
       "      <td>L</td>\n",
       "      <td>o</td>\n",
       "      <td>Lo</td>\n",
       "    </tr>\n",
       "  </tbody>\n",
       "</table>\n",
       "<p>105 rows × 7 columns</p>\n",
       "</div>"
      ],
      "text/plain": [
       "      StichtagDatJahr Vorname2   SexLang  AnzGebuWir FirstLetter SecondLetter FirstTwoLetters\n",
       "2293             2014   Louise  weiblich          19           L            o              Lo\n",
       "2926             2020   Louise  weiblich          18           L            o              Lo\n",
       "2179             2013      Lou  weiblich          18           L            o              Lo\n",
       "2404             2015   Louise  weiblich          16           L            o              Lo\n",
       "2291             2014      Lou  weiblich          15           L            o              Lo\n",
       "...               ...      ...       ...         ...         ...          ...             ...\n",
       "653              1999   Louise  weiblich           1           L            o              Lo\n",
       "2819             2019   Lorena  weiblich           1           L            o              Lo\n",
       "2810             2019    Laura  weiblich           1           L            a              La\n",
       "2718             2018   Lorena  weiblich           1           L            o              Lo\n",
       "2923             2020   Lorena  weiblich           1           L            o              Lo\n",
       "\n",
       "[105 rows x 7 columns]"
      ]
     },
     "execution_count": 24,
     "metadata": {},
     "output_type": "execute_result"
    }
   ],
   "source": [
    "myGraphic\n",
    "\n"
   ]
  },
  {
   "cell_type": "code",
   "execution_count": 25,
   "metadata": {},
   "outputs": [
    {
     "data": {
      "text/html": [
       "\n",
       "<div id=\"altair-viz-4f731792663c43299d0ac373204b1ab1\"></div>\n",
       "<script type=\"text/javascript\">\n",
       "  (function(spec, embedOpt){\n",
       "    let outputDiv = document.currentScript.previousElementSibling;\n",
       "    if (outputDiv.id !== \"altair-viz-4f731792663c43299d0ac373204b1ab1\") {\n",
       "      outputDiv = document.getElementById(\"altair-viz-4f731792663c43299d0ac373204b1ab1\");\n",
       "    }\n",
       "    const paths = {\n",
       "      \"vega\": \"https://cdn.jsdelivr.net/npm//vega@5?noext\",\n",
       "      \"vega-lib\": \"https://cdn.jsdelivr.net/npm//vega-lib?noext\",\n",
       "      \"vega-lite\": \"https://cdn.jsdelivr.net/npm//vega-lite@4.8.1?noext\",\n",
       "      \"vega-embed\": \"https://cdn.jsdelivr.net/npm//vega-embed@6?noext\",\n",
       "    };\n",
       "\n",
       "    function loadScript(lib) {\n",
       "      return new Promise(function(resolve, reject) {\n",
       "        var s = document.createElement('script');\n",
       "        s.src = paths[lib];\n",
       "        s.async = true;\n",
       "        s.onload = () => resolve(paths[lib]);\n",
       "        s.onerror = () => reject(`Error loading script: ${paths[lib]}`);\n",
       "        document.getElementsByTagName(\"head\")[0].appendChild(s);\n",
       "      });\n",
       "    }\n",
       "\n",
       "    function showError(err) {\n",
       "      outputDiv.innerHTML = `<div class=\"error\" style=\"color:red;\">${err}</div>`;\n",
       "      throw err;\n",
       "    }\n",
       "\n",
       "    function displayChart(vegaEmbed) {\n",
       "      vegaEmbed(outputDiv, spec, embedOpt)\n",
       "        .catch(err => showError(`Javascript Error: ${err.message}<br>This usually means there's a typo in your chart specification. See the javascript console for the full traceback.`));\n",
       "    }\n",
       "\n",
       "    if(typeof define === \"function\" && define.amd) {\n",
       "      requirejs.config({paths});\n",
       "      require([\"vega-embed\"], displayChart, err => showError(`Error loading script: ${err.message}`));\n",
       "    } else if (typeof vegaEmbed === \"function\") {\n",
       "      displayChart(vegaEmbed);\n",
       "    } else {\n",
       "      loadScript(\"vega\")\n",
       "        .then(() => loadScript(\"vega-lite\"))\n",
       "        .then(() => loadScript(\"vega-embed\"))\n",
       "        .catch(showError)\n",
       "        .then(() => displayChart(vegaEmbed));\n",
       "    }\n",
       "  })({\"config\": {\"view\": {\"continuousWidth\": 400, \"continuousHeight\": 300}}, \"repeat\": {\"column\": [\"Vorname2\", \"FirstLetter\", \"FirstTwoLetters\"], \"row\": [\"StichtagDatJahr\", \"AnzGebuWir\"]}, \"spec\": {\"data\": {\"name\": \"data-2c8151538b95f38fe8795cd74df2a26b\"}, \"mark\": \"circle\", \"encoding\": {\"color\": {\"type\": \"nominal\", \"field\": \"Vorname2\"}, \"x\": {\"type\": \"ordinal\", \"field\": {\"repeat\": \"column\"}}, \"y\": {\"type\": \"quantitative\", \"field\": {\"repeat\": \"row\"}}}, \"height\": 150, \"selection\": {\"selector004\": {\"type\": \"interval\", \"bind\": \"scales\", \"encodings\": [\"x\", \"y\"]}}, \"width\": 150}, \"$schema\": \"https://vega.github.io/schema/vega-lite/v4.8.1.json\", \"datasets\": {\"data-2c8151538b95f38fe8795cd74df2a26b\": [{\"StichtagDatJahr\": 2014, \"Vorname2\": \"Louise\", \"SexLang\": \"weiblich\", \"AnzGebuWir\": 19, \"FirstLetter\": \"L\", \"SecondLetter\": \"o\", \"FirstTwoLetters\": \"Lo\"}, {\"StichtagDatJahr\": 2020, \"Vorname2\": \"Louise\", \"SexLang\": \"weiblich\", \"AnzGebuWir\": 18, \"FirstLetter\": \"L\", \"SecondLetter\": \"o\", \"FirstTwoLetters\": \"Lo\"}, {\"StichtagDatJahr\": 2013, \"Vorname2\": \"Lou\", \"SexLang\": \"weiblich\", \"AnzGebuWir\": 18, \"FirstLetter\": \"L\", \"SecondLetter\": \"o\", \"FirstTwoLetters\": \"Lo\"}, {\"StichtagDatJahr\": 2015, \"Vorname2\": \"Louise\", \"SexLang\": \"weiblich\", \"AnzGebuWir\": 16, \"FirstLetter\": \"L\", \"SecondLetter\": \"o\", \"FirstTwoLetters\": \"Lo\"}, {\"StichtagDatJahr\": 2014, \"Vorname2\": \"Lou\", \"SexLang\": \"weiblich\", \"AnzGebuWir\": 15, \"FirstLetter\": \"L\", \"SecondLetter\": \"o\", \"FirstTwoLetters\": \"Lo\"}, {\"StichtagDatJahr\": 2010, \"Vorname2\": \"Louise\", \"SexLang\": \"weiblich\", \"AnzGebuWir\": 15, \"FirstLetter\": \"L\", \"SecondLetter\": \"o\", \"FirstTwoLetters\": \"Lo\"}, {\"StichtagDatJahr\": 2011, \"Vorname2\": \"Lou\", \"SexLang\": \"weiblich\", \"AnzGebuWir\": 14, \"FirstLetter\": \"L\", \"SecondLetter\": \"o\", \"FirstTwoLetters\": \"Lo\"}, {\"StichtagDatJahr\": 2020, \"Vorname2\": \"Laurin\", \"SexLang\": \"m\\u00e4nnlich\", \"AnzGebuWir\": 13, \"FirstLetter\": \"L\", \"SecondLetter\": \"a\", \"FirstTwoLetters\": \"La\"}, {\"StichtagDatJahr\": 2016, \"Vorname2\": \"Lou\", \"SexLang\": \"weiblich\", \"AnzGebuWir\": 13, \"FirstLetter\": \"L\", \"SecondLetter\": \"o\", \"FirstTwoLetters\": \"Lo\"}, {\"StichtagDatJahr\": 2013, \"Vorname2\": \"Louise\", \"SexLang\": \"weiblich\", \"AnzGebuWir\": 11, \"FirstLetter\": \"L\", \"SecondLetter\": \"o\", \"FirstTwoLetters\": \"Lo\"}, {\"StichtagDatJahr\": 2019, \"Vorname2\": \"Louise\", \"SexLang\": \"weiblich\", \"AnzGebuWir\": 11, \"FirstLetter\": \"L\", \"SecondLetter\": \"o\", \"FirstTwoLetters\": \"Lo\"}, {\"StichtagDatJahr\": 2017, \"Vorname2\": \"Lou\", \"SexLang\": \"weiblich\", \"AnzGebuWir\": 10, \"FirstLetter\": \"L\", \"SecondLetter\": \"o\", \"FirstTwoLetters\": \"Lo\"}, {\"StichtagDatJahr\": 2016, \"Vorname2\": \"Louise\", \"SexLang\": \"weiblich\", \"AnzGebuWir\": 10, \"FirstLetter\": \"L\", \"SecondLetter\": \"o\", \"FirstTwoLetters\": \"Lo\"}, {\"StichtagDatJahr\": 2020, \"Vorname2\": \"Lou\", \"SexLang\": \"weiblich\", \"AnzGebuWir\": 10, \"FirstLetter\": \"L\", \"SecondLetter\": \"o\", \"FirstTwoLetters\": \"Lo\"}, {\"StichtagDatJahr\": 2018, \"Vorname2\": \"Lou\", \"SexLang\": \"weiblich\", \"AnzGebuWir\": 10, \"FirstLetter\": \"L\", \"SecondLetter\": \"o\", \"FirstTwoLetters\": \"Lo\"}, {\"StichtagDatJahr\": 2018, \"Vorname2\": \"Louise\", \"SexLang\": \"weiblich\", \"AnzGebuWir\": 10, \"FirstLetter\": \"L\", \"SecondLetter\": \"o\", \"FirstTwoLetters\": \"Lo\"}, {\"StichtagDatJahr\": 2012, \"Vorname2\": \"Lou\", \"SexLang\": \"weiblich\", \"AnzGebuWir\": 10, \"FirstLetter\": \"L\", \"SecondLetter\": \"o\", \"FirstTwoLetters\": \"Lo\"}, {\"StichtagDatJahr\": 2019, \"Vorname2\": \"Lou\", \"SexLang\": \"weiblich\", \"AnzGebuWir\": 10, \"FirstLetter\": \"L\", \"SecondLetter\": \"o\", \"FirstTwoLetters\": \"Lo\"}, {\"StichtagDatJahr\": 2015, \"Vorname2\": \"Lou\", \"SexLang\": \"weiblich\", \"AnzGebuWir\": 9, \"FirstLetter\": \"L\", \"SecondLetter\": \"o\", \"FirstTwoLetters\": \"Lo\"}, {\"StichtagDatJahr\": 2007, \"Vorname2\": \"Louise\", \"SexLang\": \"weiblich\", \"AnzGebuWir\": 9, \"FirstLetter\": \"L\", \"SecondLetter\": \"o\", \"FirstTwoLetters\": \"Lo\"}, {\"StichtagDatJahr\": 2009, \"Vorname2\": \"Lou\", \"SexLang\": \"weiblich\", \"AnzGebuWir\": 9, \"FirstLetter\": \"L\", \"SecondLetter\": \"o\", \"FirstTwoLetters\": \"Lo\"}, {\"StichtagDatJahr\": 1996, \"Vorname2\": \"Louise\", \"SexLang\": \"weiblich\", \"AnzGebuWir\": 9, \"FirstLetter\": \"L\", \"SecondLetter\": \"o\", \"FirstTwoLetters\": \"Lo\"}, {\"StichtagDatJahr\": 2005, \"Vorname2\": \"Louise\", \"SexLang\": \"weiblich\", \"AnzGebuWir\": 8, \"FirstLetter\": \"L\", \"SecondLetter\": \"o\", \"FirstTwoLetters\": \"Lo\"}, {\"StichtagDatJahr\": 2008, \"Vorname2\": \"Lou\", \"SexLang\": \"weiblich\", \"AnzGebuWir\": 8, \"FirstLetter\": \"L\", \"SecondLetter\": \"o\", \"FirstTwoLetters\": \"Lo\"}, {\"StichtagDatJahr\": 2007, \"Vorname2\": \"Lou\", \"SexLang\": \"weiblich\", \"AnzGebuWir\": 8, \"FirstLetter\": \"L\", \"SecondLetter\": \"o\", \"FirstTwoLetters\": \"Lo\"}, {\"StichtagDatJahr\": 2012, \"Vorname2\": \"Louise\", \"SexLang\": \"weiblich\", \"AnzGebuWir\": 8, \"FirstLetter\": \"L\", \"SecondLetter\": \"o\", \"FirstTwoLetters\": \"Lo\"}, {\"StichtagDatJahr\": 2016, \"Vorname2\": \"Louisa\", \"SexLang\": \"weiblich\", \"AnzGebuWir\": 8, \"FirstLetter\": \"L\", \"SecondLetter\": \"o\", \"FirstTwoLetters\": \"Lo\"}, {\"StichtagDatJahr\": 2009, \"Vorname2\": \"Louisa\", \"SexLang\": \"weiblich\", \"AnzGebuWir\": 8, \"FirstLetter\": \"L\", \"SecondLetter\": \"o\", \"FirstTwoLetters\": \"Lo\"}, {\"StichtagDatJahr\": 2010, \"Vorname2\": \"Louisa\", \"SexLang\": \"weiblich\", \"AnzGebuWir\": 8, \"FirstLetter\": \"L\", \"SecondLetter\": \"o\", \"FirstTwoLetters\": \"Lo\"}, {\"StichtagDatJahr\": 2019, \"Vorname2\": \"Laurin\", \"SexLang\": \"m\\u00e4nnlich\", \"AnzGebuWir\": 8, \"FirstLetter\": \"L\", \"SecondLetter\": \"a\", \"FirstTwoLetters\": \"La\"}, {\"StichtagDatJahr\": 2011, \"Vorname2\": \"Louise\", \"SexLang\": \"weiblich\", \"AnzGebuWir\": 7, \"FirstLetter\": \"L\", \"SecondLetter\": \"o\", \"FirstTwoLetters\": \"Lo\"}, {\"StichtagDatJahr\": 2013, \"Vorname2\": \"Louisa\", \"SexLang\": \"weiblich\", \"AnzGebuWir\": 7, \"FirstLetter\": \"L\", \"SecondLetter\": \"o\", \"FirstTwoLetters\": \"Lo\"}, {\"StichtagDatJahr\": 2012, \"Vorname2\": \"Louisa\", \"SexLang\": \"weiblich\", \"AnzGebuWir\": 7, \"FirstLetter\": \"L\", \"SecondLetter\": \"o\", \"FirstTwoLetters\": \"Lo\"}, {\"StichtagDatJahr\": 2005, \"Vorname2\": \"Lou\", \"SexLang\": \"weiblich\", \"AnzGebuWir\": 7, \"FirstLetter\": \"L\", \"SecondLetter\": \"o\", \"FirstTwoLetters\": \"Lo\"}, {\"StichtagDatJahr\": 2008, \"Vorname2\": \"Louise\", \"SexLang\": \"weiblich\", \"AnzGebuWir\": 7, \"FirstLetter\": \"L\", \"SecondLetter\": \"o\", \"FirstTwoLetters\": \"Lo\"}, {\"StichtagDatJahr\": 2020, \"Vorname2\": \"Louisa\", \"SexLang\": \"weiblich\", \"AnzGebuWir\": 6, \"FirstLetter\": \"L\", \"SecondLetter\": \"o\", \"FirstTwoLetters\": \"Lo\"}, {\"StichtagDatJahr\": 2017, \"Vorname2\": \"Louise\", \"SexLang\": \"weiblich\", \"AnzGebuWir\": 6, \"FirstLetter\": \"L\", \"SecondLetter\": \"o\", \"FirstTwoLetters\": \"Lo\"}, {\"StichtagDatJahr\": 2010, \"Vorname2\": \"Lou\", \"SexLang\": \"weiblich\", \"AnzGebuWir\": 5, \"FirstLetter\": \"L\", \"SecondLetter\": \"o\", \"FirstTwoLetters\": \"Lo\"}, {\"StichtagDatJahr\": 2000, \"Vorname2\": \"Louise\", \"SexLang\": \"weiblich\", \"AnzGebuWir\": 5, \"FirstLetter\": \"L\", \"SecondLetter\": \"o\", \"FirstTwoLetters\": \"Lo\"}, {\"StichtagDatJahr\": 1998, \"Vorname2\": \"Lorena\", \"SexLang\": \"weiblich\", \"AnzGebuWir\": 5, \"FirstLetter\": \"L\", \"SecondLetter\": \"o\", \"FirstTwoLetters\": \"Lo\"}, {\"StichtagDatJahr\": 2006, \"Vorname2\": \"Louise\", \"SexLang\": \"weiblich\", \"AnzGebuWir\": 5, \"FirstLetter\": \"L\", \"SecondLetter\": \"o\", \"FirstTwoLetters\": \"Lo\"}, {\"StichtagDatJahr\": 1994, \"Vorname2\": \"Louise\", \"SexLang\": \"weiblich\", \"AnzGebuWir\": 5, \"FirstLetter\": \"L\", \"SecondLetter\": \"o\", \"FirstTwoLetters\": \"Lo\"}, {\"StichtagDatJahr\": 2017, \"Vorname2\": \"Louisa\", \"SexLang\": \"weiblich\", \"AnzGebuWir\": 4, \"FirstLetter\": \"L\", \"SecondLetter\": \"o\", \"FirstTwoLetters\": \"Lo\"}, {\"StichtagDatJahr\": 2020, \"Vorname2\": \"Ladina\", \"SexLang\": \"weiblich\", \"AnzGebuWir\": 4, \"FirstLetter\": \"L\", \"SecondLetter\": \"a\", \"FirstTwoLetters\": \"La\"}, {\"StichtagDatJahr\": 2020, \"Vorname2\": \"Laura\", \"SexLang\": \"weiblich\", \"AnzGebuWir\": 4, \"FirstLetter\": \"L\", \"SecondLetter\": \"a\", \"FirstTwoLetters\": \"La\"}, {\"StichtagDatJahr\": 1997, \"Vorname2\": \"Lou\", \"SexLang\": \"weiblich\", \"AnzGebuWir\": 4, \"FirstLetter\": \"L\", \"SecondLetter\": \"o\", \"FirstTwoLetters\": \"Lo\"}, {\"StichtagDatJahr\": 1998, \"Vorname2\": \"Louise\", \"SexLang\": \"weiblich\", \"AnzGebuWir\": 4, \"FirstLetter\": \"L\", \"SecondLetter\": \"o\", \"FirstTwoLetters\": \"Lo\"}, {\"StichtagDatJahr\": 2007, \"Vorname2\": \"Louisa\", \"SexLang\": \"weiblich\", \"AnzGebuWir\": 4, \"FirstLetter\": \"L\", \"SecondLetter\": \"o\", \"FirstTwoLetters\": \"Lo\"}, {\"StichtagDatJahr\": 2014, \"Vorname2\": \"Louisa\", \"SexLang\": \"weiblich\", \"AnzGebuWir\": 4, \"FirstLetter\": \"L\", \"SecondLetter\": \"o\", \"FirstTwoLetters\": \"Lo\"}, {\"StichtagDatJahr\": 2008, \"Vorname2\": \"Louisa\", \"SexLang\": \"weiblich\", \"AnzGebuWir\": 4, \"FirstLetter\": \"L\", \"SecondLetter\": \"o\", \"FirstTwoLetters\": \"Lo\"}, {\"StichtagDatJahr\": 2003, \"Vorname2\": \"Louise\", \"SexLang\": \"weiblich\", \"AnzGebuWir\": 4, \"FirstLetter\": \"L\", \"SecondLetter\": \"o\", \"FirstTwoLetters\": \"Lo\"}, {\"StichtagDatJahr\": 2004, \"Vorname2\": \"Lorena\", \"SexLang\": \"weiblich\", \"AnzGebuWir\": 4, \"FirstLetter\": \"L\", \"SecondLetter\": \"o\", \"FirstTwoLetters\": \"Lo\"}, {\"StichtagDatJahr\": 2006, \"Vorname2\": \"Lou\", \"SexLang\": \"weiblich\", \"AnzGebuWir\": 4, \"FirstLetter\": \"L\", \"SecondLetter\": \"o\", \"FirstTwoLetters\": \"Lo\"}, {\"StichtagDatJahr\": 2011, \"Vorname2\": \"Louisa\", \"SexLang\": \"weiblich\", \"AnzGebuWir\": 3, \"FirstLetter\": \"L\", \"SecondLetter\": \"o\", \"FirstTwoLetters\": \"Lo\"}, {\"StichtagDatJahr\": 2003, \"Vorname2\": \"Lou\", \"SexLang\": \"weiblich\", \"AnzGebuWir\": 3, \"FirstLetter\": \"L\", \"SecondLetter\": \"o\", \"FirstTwoLetters\": \"Lo\"}, {\"StichtagDatJahr\": 2009, \"Vorname2\": \"Louise\", \"SexLang\": \"weiblich\", \"AnzGebuWir\": 3, \"FirstLetter\": \"L\", \"SecondLetter\": \"o\", \"FirstTwoLetters\": \"Lo\"}, {\"StichtagDatJahr\": 2007, \"Vorname2\": \"Lorena\", \"SexLang\": \"weiblich\", \"AnzGebuWir\": 3, \"FirstLetter\": \"L\", \"SecondLetter\": \"o\", \"FirstTwoLetters\": \"Lo\"}, {\"StichtagDatJahr\": 2004, \"Vorname2\": \"Lou\", \"SexLang\": \"weiblich\", \"AnzGebuWir\": 3, \"FirstLetter\": \"L\", \"SecondLetter\": \"o\", \"FirstTwoLetters\": \"Lo\"}, {\"StichtagDatJahr\": 1995, \"Vorname2\": \"Louise\", \"SexLang\": \"weiblich\", \"AnzGebuWir\": 3, \"FirstLetter\": \"L\", \"SecondLetter\": \"o\", \"FirstTwoLetters\": \"Lo\"}, {\"StichtagDatJahr\": 2019, \"Vorname2\": \"Louisa\", \"SexLang\": \"weiblich\", \"AnzGebuWir\": 3, \"FirstLetter\": \"L\", \"SecondLetter\": \"o\", \"FirstTwoLetters\": \"Lo\"}, {\"StichtagDatJahr\": 1999, \"Vorname2\": \"Lorena\", \"SexLang\": \"weiblich\", \"AnzGebuWir\": 3, \"FirstLetter\": \"L\", \"SecondLetter\": \"o\", \"FirstTwoLetters\": \"Lo\"}, {\"StichtagDatJahr\": 2015, \"Vorname2\": \"Louisa\", \"SexLang\": \"weiblich\", \"AnzGebuWir\": 3, \"FirstLetter\": \"L\", \"SecondLetter\": \"o\", \"FirstTwoLetters\": \"Lo\"}, {\"StichtagDatJahr\": 1998, \"Vorname2\": \"Lou\", \"SexLang\": \"weiblich\", \"AnzGebuWir\": 3, \"FirstLetter\": \"L\", \"SecondLetter\": \"o\", \"FirstTwoLetters\": \"Lo\"}, {\"StichtagDatJahr\": 2002, \"Vorname2\": \"Lorena\", \"SexLang\": \"weiblich\", \"AnzGebuWir\": 3, \"FirstLetter\": \"L\", \"SecondLetter\": \"o\", \"FirstTwoLetters\": \"Lo\"}, {\"StichtagDatJahr\": 2002, \"Vorname2\": \"Lou\", \"SexLang\": \"weiblich\", \"AnzGebuWir\": 3, \"FirstLetter\": \"L\", \"SecondLetter\": \"o\", \"FirstTwoLetters\": \"Lo\"}, {\"StichtagDatJahr\": 2002, \"Vorname2\": \"Louise\", \"SexLang\": \"weiblich\", \"AnzGebuWir\": 3, \"FirstLetter\": \"L\", \"SecondLetter\": \"o\", \"FirstTwoLetters\": \"Lo\"}, {\"StichtagDatJahr\": 2001, \"Vorname2\": \"Louise\", \"SexLang\": \"weiblich\", \"AnzGebuWir\": 3, \"FirstLetter\": \"L\", \"SecondLetter\": \"o\", \"FirstTwoLetters\": \"Lo\"}, {\"StichtagDatJahr\": 2008, \"Vorname2\": \"Lorena\", \"SexLang\": \"weiblich\", \"AnzGebuWir\": 2, \"FirstLetter\": \"L\", \"SecondLetter\": \"o\", \"FirstTwoLetters\": \"Lo\"}, {\"StichtagDatJahr\": 2018, \"Vorname2\": \"Louisa\", \"SexLang\": \"weiblich\", \"AnzGebuWir\": 2, \"FirstLetter\": \"L\", \"SecondLetter\": \"o\", \"FirstTwoLetters\": \"Lo\"}, {\"StichtagDatJahr\": 1993, \"Vorname2\": \"Louisa\", \"SexLang\": \"weiblich\", \"AnzGebuWir\": 2, \"FirstLetter\": \"L\", \"SecondLetter\": \"o\", \"FirstTwoLetters\": \"Lo\"}, {\"StichtagDatJahr\": 1993, \"Vorname2\": \"Louise\", \"SexLang\": \"weiblich\", \"AnzGebuWir\": 2, \"FirstLetter\": \"L\", \"SecondLetter\": \"o\", \"FirstTwoLetters\": \"Lo\"}, {\"StichtagDatJahr\": 2005, \"Vorname2\": \"Louisa\", \"SexLang\": \"weiblich\", \"AnzGebuWir\": 2, \"FirstLetter\": \"L\", \"SecondLetter\": \"o\", \"FirstTwoLetters\": \"Lo\"}, {\"StichtagDatJahr\": 2006, \"Vorname2\": \"Louisa\", \"SexLang\": \"weiblich\", \"AnzGebuWir\": 2, \"FirstLetter\": \"L\", \"SecondLetter\": \"o\", \"FirstTwoLetters\": \"Lo\"}, {\"StichtagDatJahr\": 1994, \"Vorname2\": \"Louisa\", \"SexLang\": \"weiblich\", \"AnzGebuWir\": 2, \"FirstLetter\": \"L\", \"SecondLetter\": \"o\", \"FirstTwoLetters\": \"Lo\"}, {\"StichtagDatJahr\": 1994, \"Vorname2\": \"Lorena\", \"SexLang\": \"weiblich\", \"AnzGebuWir\": 2, \"FirstLetter\": \"L\", \"SecondLetter\": \"o\", \"FirstTwoLetters\": \"Lo\"}, {\"StichtagDatJahr\": 2010, \"Vorname2\": \"Lorena\", \"SexLang\": \"weiblich\", \"AnzGebuWir\": 2, \"FirstLetter\": \"L\", \"SecondLetter\": \"o\", \"FirstTwoLetters\": \"Lo\"}, {\"StichtagDatJahr\": 1997, \"Vorname2\": \"Louise\", \"SexLang\": \"weiblich\", \"AnzGebuWir\": 2, \"FirstLetter\": \"L\", \"SecondLetter\": \"o\", \"FirstTwoLetters\": \"Lo\"}, {\"StichtagDatJahr\": 1997, \"Vorname2\": \"Louisa\", \"SexLang\": \"weiblich\", \"AnzGebuWir\": 2, \"FirstLetter\": \"L\", \"SecondLetter\": \"o\", \"FirstTwoLetters\": \"Lo\"}, {\"StichtagDatJahr\": 2003, \"Vorname2\": \"Louisa\", \"SexLang\": \"weiblich\", \"AnzGebuWir\": 2, \"FirstLetter\": \"L\", \"SecondLetter\": \"o\", \"FirstTwoLetters\": \"Lo\"}, {\"StichtagDatJahr\": 2019, \"Vorname2\": \"Ladina\", \"SexLang\": \"weiblich\", \"AnzGebuWir\": 2, \"FirstLetter\": \"L\", \"SecondLetter\": \"a\", \"FirstTwoLetters\": \"La\"}, {\"StichtagDatJahr\": 2004, \"Vorname2\": \"Louise\", \"SexLang\": \"weiblich\", \"AnzGebuWir\": 2, \"FirstLetter\": \"L\", \"SecondLetter\": \"o\", \"FirstTwoLetters\": \"Lo\"}, {\"StichtagDatJahr\": 2019, \"Vorname2\": \"Lara\", \"SexLang\": \"weiblich\", \"AnzGebuWir\": 2, \"FirstLetter\": \"L\", \"SecondLetter\": \"a\", \"FirstTwoLetters\": \"La\"}, {\"StichtagDatJahr\": 2013, \"Vorname2\": \"Lorena\", \"SexLang\": \"weiblich\", \"AnzGebuWir\": 2, \"FirstLetter\": \"L\", \"SecondLetter\": \"o\", \"FirstTwoLetters\": \"Lo\"}, {\"StichtagDatJahr\": 1996, \"Vorname2\": \"Lou\", \"SexLang\": \"weiblich\", \"AnzGebuWir\": 2, \"FirstLetter\": \"L\", \"SecondLetter\": \"o\", \"FirstTwoLetters\": \"Lo\"}, {\"StichtagDatJahr\": 1996, \"Vorname2\": \"Lorena\", \"SexLang\": \"weiblich\", \"AnzGebuWir\": 2, \"FirstLetter\": \"L\", \"SecondLetter\": \"o\", \"FirstTwoLetters\": \"Lo\"}, {\"StichtagDatJahr\": 2020, \"Vorname2\": \"Lara\", \"SexLang\": \"weiblich\", \"AnzGebuWir\": 2, \"FirstLetter\": \"L\", \"SecondLetter\": \"a\", \"FirstTwoLetters\": \"La\"}, {\"StichtagDatJahr\": 2009, \"Vorname2\": \"Lorena\", \"SexLang\": \"weiblich\", \"AnzGebuWir\": 2, \"FirstLetter\": \"L\", \"SecondLetter\": \"o\", \"FirstTwoLetters\": \"Lo\"}, {\"StichtagDatJahr\": 2005, \"Vorname2\": \"Lorena\", \"SexLang\": \"weiblich\", \"AnzGebuWir\": 1, \"FirstLetter\": \"L\", \"SecondLetter\": \"o\", \"FirstTwoLetters\": \"Lo\"}, {\"StichtagDatJahr\": 2003, \"Vorname2\": \"Lorena\", \"SexLang\": \"weiblich\", \"AnzGebuWir\": 1, \"FirstLetter\": \"L\", \"SecondLetter\": \"o\", \"FirstTwoLetters\": \"Lo\"}, {\"StichtagDatJahr\": 2011, \"Vorname2\": \"Lorena\", \"SexLang\": \"weiblich\", \"AnzGebuWir\": 1, \"FirstLetter\": \"L\", \"SecondLetter\": \"o\", \"FirstTwoLetters\": \"Lo\"}, {\"StichtagDatJahr\": 2002, \"Vorname2\": \"Louisa\", \"SexLang\": \"weiblich\", \"AnzGebuWir\": 1, \"FirstLetter\": \"L\", \"SecondLetter\": \"o\", \"FirstTwoLetters\": \"Lo\"}, {\"StichtagDatJahr\": 1997, \"Vorname2\": \"Lorena\", \"SexLang\": \"weiblich\", \"AnzGebuWir\": 1, \"FirstLetter\": \"L\", \"SecondLetter\": \"o\", \"FirstTwoLetters\": \"Lo\"}, {\"StichtagDatJahr\": 1993, \"Vorname2\": \"Lorena\", \"SexLang\": \"weiblich\", \"AnzGebuWir\": 1, \"FirstLetter\": \"L\", \"SecondLetter\": \"o\", \"FirstTwoLetters\": \"Lo\"}, {\"StichtagDatJahr\": 1994, \"Vorname2\": \"Lou\", \"SexLang\": \"weiblich\", \"AnzGebuWir\": 1, \"FirstLetter\": \"L\", \"SecondLetter\": \"o\", \"FirstTwoLetters\": \"Lo\"}, {\"StichtagDatJahr\": 1995, \"Vorname2\": \"Lou\", \"SexLang\": \"weiblich\", \"AnzGebuWir\": 1, \"FirstLetter\": \"L\", \"SecondLetter\": \"o\", \"FirstTwoLetters\": \"Lo\"}, {\"StichtagDatJahr\": 2001, \"Vorname2\": \"Lou\", \"SexLang\": \"weiblich\", \"AnzGebuWir\": 1, \"FirstLetter\": \"L\", \"SecondLetter\": \"o\", \"FirstTwoLetters\": \"Lo\"}, {\"StichtagDatJahr\": 2000, \"Vorname2\": \"Louisa\", \"SexLang\": \"weiblich\", \"AnzGebuWir\": 1, \"FirstLetter\": \"L\", \"SecondLetter\": \"o\", \"FirstTwoLetters\": \"Lo\"}, {\"StichtagDatJahr\": 2000, \"Vorname2\": \"Lou\", \"SexLang\": \"weiblich\", \"AnzGebuWir\": 1, \"FirstLetter\": \"L\", \"SecondLetter\": \"o\", \"FirstTwoLetters\": \"Lo\"}, {\"StichtagDatJahr\": 2000, \"Vorname2\": \"Lorena\", \"SexLang\": \"weiblich\", \"AnzGebuWir\": 1, \"FirstLetter\": \"L\", \"SecondLetter\": \"o\", \"FirstTwoLetters\": \"Lo\"}, {\"StichtagDatJahr\": 2001, \"Vorname2\": \"Louisa\", \"SexLang\": \"weiblich\", \"AnzGebuWir\": 1, \"FirstLetter\": \"L\", \"SecondLetter\": \"o\", \"FirstTwoLetters\": \"Lo\"}, {\"StichtagDatJahr\": 1999, \"Vorname2\": \"Louise\", \"SexLang\": \"weiblich\", \"AnzGebuWir\": 1, \"FirstLetter\": \"L\", \"SecondLetter\": \"o\", \"FirstTwoLetters\": \"Lo\"}, {\"StichtagDatJahr\": 2019, \"Vorname2\": \"Lorena\", \"SexLang\": \"weiblich\", \"AnzGebuWir\": 1, \"FirstLetter\": \"L\", \"SecondLetter\": \"o\", \"FirstTwoLetters\": \"Lo\"}, {\"StichtagDatJahr\": 2019, \"Vorname2\": \"Laura\", \"SexLang\": \"weiblich\", \"AnzGebuWir\": 1, \"FirstLetter\": \"L\", \"SecondLetter\": \"a\", \"FirstTwoLetters\": \"La\"}, {\"StichtagDatJahr\": 2018, \"Vorname2\": \"Lorena\", \"SexLang\": \"weiblich\", \"AnzGebuWir\": 1, \"FirstLetter\": \"L\", \"SecondLetter\": \"o\", \"FirstTwoLetters\": \"Lo\"}, {\"StichtagDatJahr\": 2020, \"Vorname2\": \"Lorena\", \"SexLang\": \"weiblich\", \"AnzGebuWir\": 1, \"FirstLetter\": \"L\", \"SecondLetter\": \"o\", \"FirstTwoLetters\": \"Lo\"}]}}, {\"mode\": \"vega-lite\"});\n",
       "</script>"
      ],
      "text/plain": [
       "alt.RepeatChart(...)"
      ]
     },
     "execution_count": 25,
     "metadata": {},
     "output_type": "execute_result"
    }
   ],
   "source": [
    "#Siehe dazu Anleitung unter: https://altair-viz.github.io/gallery/scatter_matrix.html\n",
    "#Daten zu den Bsp. unter:https://altair-viz.github.io/gallery/index.html.\n",
    "\n",
    "alt.Chart(myGraphic).mark_circle().encode(\n",
    "    alt.X(alt.repeat(\"column\"), type='ordinal'), #es gibt folgende Typen (quantitative, ordinal, nominal, temporal)\n",
    "    alt.Y(alt.repeat(\"row\"), type='quantitative'),\n",
    "    color='Vorname2'\n",
    ").properties(\n",
    "    width=150,\n",
    "    height=150\n",
    ").repeat(\n",
    "    column=['Vorname2', 'FirstLetter', 'FirstTwoLetters'],\n",
    "    row=['StichtagDatJahr', 'AnzGebuWir']\n",
    ").interactive()"
   ]
  },
  {
   "cell_type": "code",
   "execution_count": 26,
   "metadata": {},
   "outputs": [
    {
     "data": {
      "image/png": "[encoded data removed]",
      "text/plain": [
       "<Figure size 432x288 with 1 Axes>"
      ]
     },
     "metadata": {},
     "output_type": "display_data"
    }
   ],
   "source": [
    "import seaborn as sns\n",
    "sns.set(style=\"darkgrid\")\n",
    "sns.histplot(data=data2betested[(data2betested.StichtagDatJahr==2020)] , x=\"FirstLetter\") #, y=\"SexLang\")\n",
    "plt.show();"
   ]
  },
  {
   "cell_type": "markdown",
   "metadata": {},
   "source": [
    "Test: Choroplethenkarte"
   ]
  },
  {
   "cell_type": "markdown",
   "metadata": {},
   "source": [
    "**Test: Choroplethenkarte**\n",
    "Importiere die Geodaten als GeoJSON"
   ]
  },
  {
   "cell_type": "code",
   "execution_count": 27,
   "metadata": {},
   "outputs": [
    {
     "data": {
      "text/html": [
       "<div>\n",
       "<style scoped>\n",
       "    .dataframe tbody tr th:only-of-type {\n",
       "        vertical-align: middle;\n",
       "    }\n",
       "\n",
       "    .dataframe tbody tr th {\n",
       "        vertical-align: top;\n",
       "    }\n",
       "\n",
       "    .dataframe thead th {\n",
       "        text-align: right;\n",
       "    }\n",
       "</style>\n",
       "<table border=\"1\" class=\"dataframe\">\n",
       "  <thead>\n",
       "    <tr style=\"text-align: right;\">\n",
       "      <th></th>\n",
       "      <th>objectid</th>\n",
       "      <th>objid</th>\n",
       "      <th>stznr</th>\n",
       "      <th>stzname</th>\n",
       "      <th>qnr</th>\n",
       "      <th>qname</th>\n",
       "      <th>knr</th>\n",
       "      <th>kname</th>\n",
       "      <th>geometry</th>\n",
       "    </tr>\n",
       "  </thead>\n",
       "  <tbody>\n",
       "    <tr>\n",
       "      <th>0</th>\n",
       "      <td>1</td>\n",
       "      <td>154</td>\n",
       "      <td>7303</td>\n",
       "      <td>Hegibach</td>\n",
       "      <td>73</td>\n",
       "      <td>Hirslanden</td>\n",
       "      <td>7</td>\n",
       "      <td>Kreis 7</td>\n",
       "      <td>POLYGON ((8.55670 47.36407, 8.55670 47.36406, ...</td>\n",
       "    </tr>\n",
       "    <tr>\n",
       "      <th>1</th>\n",
       "      <td>2</td>\n",
       "      <td>89</td>\n",
       "      <td>7302</td>\n",
       "      <td>Klus</td>\n",
       "      <td>73</td>\n",
       "      <td>Hirslanden</td>\n",
       "      <td>7</td>\n",
       "      <td>Kreis 7</td>\n",
       "      <td>POLYGON ((8.57281 47.35806, 8.57274 47.35804, ...</td>\n",
       "    </tr>\n",
       "  </tbody>\n",
       "</table>\n",
       "</div>"
      ],
      "text/plain": [
       "   objectid objid  stznr   stzname  qnr       qname  knr    kname  \\\n",
       "0         1   154   7303  Hegibach   73  Hirslanden    7  Kreis 7   \n",
       "1         2    89   7302      Klus   73  Hirslanden    7  Kreis 7   \n",
       "\n",
       "                                            geometry  \n",
       "0  POLYGON ((8.55670 47.36407, 8.55670 47.36406, ...  \n",
       "1  POLYGON ((8.57281 47.35806, 8.57274 47.35804, ...  "
      ]
     },
     "execution_count": 27,
     "metadata": {},
     "output_type": "execute_result"
    }
   ],
   "source": [
    "# Read abt. Geopandas https://geopandas.org/docs/user_guide/io.html\n",
    "# Filepath statzonen\n",
    "input_statzonen = r\"//szh.loc/ssz/data/GIS/Daten/Vektor/_aktuell/stzh.adm_statzonen_map.json\"\n",
    "df_statzonen = gpd.read_file(input_statzonen)\n",
    "df_statzonen.head(2)\n"
   ]
  },
  {
   "cell_type": "markdown",
   "metadata": {},
   "source": [
    "Joine die importierten statistischen Daten des aktuellen Jahres zum Geodatensatz:\n",
    "\n",
    "*Siehe dazu Doku zu [Geopandas](https://geopandas.org/docs/user_guide/mergingdata.html)*"
   ]
  },
  {
   "cell_type": "markdown",
   "metadata": {},
   "source": [
    "#Link https://automating-gis-processes.github.io/site/notebooks/L5/interactive-map-folium.html\n",
    "\n",
    "# Create a Map instance\n",
    "m = folium.Map(location=[60.25, 24.8], tiles = 'cartodbpositron', zoom_start=10, control_scale=True)\n",
    "\n",
    "# Plot a choropleth map\n",
    "# Notice: 'geoid' column that we created earlier needs to be assigned always as the first column\n",
    "folium.Choropleth(\n",
    "    geo_data=data,\n",
    "    name='Population in 2018',\n",
    "    data=data,\n",
    "    columns=['geoid', 'pop18'],\n",
    "    key_on='feature.id',\n",
    "    fill_color='YlOrRd',\n",
    "    fill_opacity=0.7,\n",
    "    line_opacity=0.2,\n",
    "    line_color='white',\n",
    "    line_weight=0,\n",
    "    highlight=False,\n",
    "    smooth_factor=1.0,\n",
    "    #threshold_scale=[100, 250, 500, 1000, 2000],\n",
    "    legend_name= 'Population in Helsinki').add_to(m)\n",
    "\n",
    "#Show map\n",
    "m"
   ]
  },
  {
   "cell_type": "markdown",
   "metadata": {},
   "source": [
    "Noch zu prüfen, folgendes schöne Beispiel: https://docs.bokeh.org/en/latest/docs/user_guide/interaction/legends.html\n",
    "\n",
    "Konkrete Beispiele von Bookeh in Jupyter NB: https://docs.bokeh.org/en/latest/docs/user_guide/jupyter.html"
   ]
  },
  {
   "cell_type": "code",
   "execution_count": null,
   "metadata": {},
   "outputs": [],
   "source": [
    "\n"
   ]
  },
  {
   "cell_type": "code",
   "execution_count": null,
   "metadata": {},
   "outputs": [],
   "source": []
  }
 ],
 "metadata": {
  "kernelspec": {
   "display_name": "Python 3",
   "language": "python",
   "name": "python3"
  },
  "language_info": {
   "codemirror_mode": {
    "name": "ipython",
    "version": 3
   },
   "file_extension": ".py",
   "mimetype": "text/x-python",
   "name": "python",
   "nbconvert_exporter": "python",
   "pygments_lexer": "ipython3",
   "version": "3.8.8"
  }
 },
 "nbformat": 4,
 "nbformat_minor": 4
}
