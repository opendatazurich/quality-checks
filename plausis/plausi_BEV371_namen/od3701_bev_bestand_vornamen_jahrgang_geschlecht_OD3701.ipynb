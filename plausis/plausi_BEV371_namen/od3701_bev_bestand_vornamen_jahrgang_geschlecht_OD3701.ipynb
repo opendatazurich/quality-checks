{
 "cells": [
  {
   "cell_type": "markdown",
   "metadata": {},
   "source": [
    "**Importiere die notwendigen Packages**"
   ]
  },
  {
   "cell_type": "code",
   "execution_count": 1,
   "metadata": {},
   "outputs": [],
   "source": [
    "import pandas as pd\n",
    "import pivottablejs\n",
    "from pivottablejs import pivot_ui\n",
    "import numpy as np\n",
    "import altair as alt\n",
    "import matplotlib.pyplot as plt\n",
    "from datetime import datetime\n",
    "import geopandas as gpd\n",
    "import folium \n",
    "\n"
   ]
  },
  {
   "cell_type": "markdown",
   "metadata": {},
   "source": [
    "Definiere Settings. Hier das Zahlenformat von Float-Werten (z.B. *'{:,.2f}'.format* mit Komma als Tausenderzeichen), "
   ]
  },
  {
   "cell_type": "code",
   "execution_count": 2,
   "metadata": {},
   "outputs": [],
   "source": [
    "pd.options.display.float_format = '{:.0f}'.format\n",
    "pd.set_option('display.width', 100)\n",
    "pd.set_option('display.max_columns', 15)"
   ]
  },
  {
   "cell_type": "markdown",
   "metadata": {},
   "source": [
    "Importiere einen Datensatz von der **DWH_INT** Dropzone.\n",
    "\n",
    "- Beachte dabei die Notation des Pfades...\n",
    "- Definiere mal aktuell noch keine weiteren Parameter beim Import"
   ]
  },
  {
   "cell_type": "markdown",
   "metadata": {},
   "source": [
    "**Dataset auf INTEG Datenkatalog**: https://data.integ.stadt-zuerich.ch/dataset/int_dwh_bev_bestand_vornamen_jahrgang_geschlecht_od3701"
   ]
  },
  {
   "cell_type": "code",
   "execution_count": 3,
   "metadata": {},
   "outputs": [],
   "source": [
    "# Filepath\n",
    "fp = r\"//szh.loc/ssz/applikationen/OGD_Dropzone/DWH/bev_bestand_vornamen_jahrgang_geschlecht_OD3701/BEV370OD3701.csv\"\n",
    "# Auf INTEG\n",
    "#fp = r\"//szh.loc/ssz/applikationen/OGD_Dropzone/INT_DWH/bev_bestand_vornamen_jahrgang_geschlecht_OD3701/BEV370OD3701.csv\"\n",
    "\n",
    "\n",
    "# Read the data\n",
    "data2betested = pd.read_csv(\n",
    "    fp, \n",
    "    sep=',',\n",
    "   #usecols=[0,1,2,3,4,6],\n",
    "   #names=['stationid','year','month','avgtemp','latitude','longitude','elevation','station','countryid','country'],\n",
    "   #skiprows=1,\n",
    "   # parse_dates=[0],\n",
    "    parse_dates=True,\n",
    "    #date_parser=lambda x: pd.to_datetime(x, format=\"%Y\"), \n",
    "    #index_col=\"date_time\",\n",
    "    low_memory=False    \n",
    "    )"
   ]
  },
  {
   "cell_type": "markdown",
   "metadata": {},
   "source": [
    "In der Folge ein paar erste Tests:"
   ]
  },
  {
   "cell_type": "code",
   "execution_count": 4,
   "metadata": {},
   "outputs": [
    {
     "data": {
      "text/plain": [
       "pandas.core.frame.DataFrame"
      ]
     },
     "execution_count": 4,
     "metadata": {},
     "output_type": "execute_result"
    }
   ],
   "source": [
    "type(data2betested)"
   ]
  },
  {
   "cell_type": "markdown",
   "metadata": {},
   "source": [
    " - 1) Zeige eine kurze Vorschau der importierten Daten\n",
    " - 2) Weise die Datentypen aus\n",
    " - 3) Zeige die Shape (Umfang) des Datensatzes an"
   ]
  },
  {
   "cell_type": "code",
   "execution_count": 5,
   "metadata": {},
   "outputs": [
    {
     "data": {
      "text/html": [
       "<div>\n",
       "<style scoped>\n",
       "    .dataframe tbody tr th:only-of-type {\n",
       "        vertical-align: middle;\n",
       "    }\n",
       "\n",
       "    .dataframe tbody tr th {\n",
       "        vertical-align: top;\n",
       "    }\n",
       "\n",
       "    .dataframe thead th {\n",
       "        text-align: right;\n",
       "    }\n",
       "</style>\n",
       "<table border=\"1\" class=\"dataframe\">\n",
       "  <thead>\n",
       "    <tr style=\"text-align: right;\">\n",
       "      <th></th>\n",
       "      <th>Jahrgang</th>\n",
       "      <th>Vorname</th>\n",
       "      <th>SexLang</th>\n",
       "      <th>AnzBestWir</th>\n",
       "    </tr>\n",
       "  </thead>\n",
       "  <tbody>\n",
       "    <tr>\n",
       "      <th>0</th>\n",
       "      <td>2020</td>\n",
       "      <td>Aaliyah</td>\n",
       "      <td>weiblich</td>\n",
       "      <td>2</td>\n",
       "    </tr>\n",
       "    <tr>\n",
       "      <th>1</th>\n",
       "      <td>2020</td>\n",
       "      <td>Abigail</td>\n",
       "      <td>weiblich</td>\n",
       "      <td>1</td>\n",
       "    </tr>\n",
       "    <tr>\n",
       "      <th>2</th>\n",
       "      <td>2020</td>\n",
       "      <td>Ada</td>\n",
       "      <td>weiblich</td>\n",
       "      <td>7</td>\n",
       "    </tr>\n",
       "  </tbody>\n",
       "</table>\n",
       "</div>"
      ],
      "text/plain": [
       "   Jahrgang  Vorname   SexLang  AnzBestWir\n",
       "0      2020  Aaliyah  weiblich           2\n",
       "1      2020  Abigail  weiblich           1\n",
       "2      2020      Ada  weiblich           7"
      ]
     },
     "execution_count": 5,
     "metadata": {},
     "output_type": "execute_result"
    }
   ],
   "source": [
    "data2betested.head(3)"
   ]
  },
  {
   "cell_type": "code",
   "execution_count": 6,
   "metadata": {},
   "outputs": [
    {
     "data": {
      "text/plain": [
       "Jahrgang       int64\n",
       "Vorname       object\n",
       "SexLang       object\n",
       "AnzBestWir     int64\n",
       "dtype: object"
      ]
     },
     "execution_count": 6,
     "metadata": {},
     "output_type": "execute_result"
    }
   ],
   "source": [
    "data2betested.dtypes"
   ]
  },
  {
   "cell_type": "code",
   "execution_count": 7,
   "metadata": {},
   "outputs": [
    {
     "data": {
      "text/plain": [
       "(109864, 4)"
      ]
     },
     "execution_count": 7,
     "metadata": {},
     "output_type": "execute_result"
    }
   ],
   "source": [
    "data2betested.shape"
   ]
  },
  {
   "cell_type": "markdown",
   "metadata": {},
   "source": [
    "Beschreibe einzelne Attribute"
   ]
  },
  {
   "cell_type": "code",
   "execution_count": 8,
   "metadata": {},
   "outputs": [
    {
     "data": {
      "text/html": [
       "<div>\n",
       "<style scoped>\n",
       "    .dataframe tbody tr th:only-of-type {\n",
       "        vertical-align: middle;\n",
       "    }\n",
       "\n",
       "    .dataframe tbody tr th {\n",
       "        vertical-align: top;\n",
       "    }\n",
       "\n",
       "    .dataframe thead th {\n",
       "        text-align: right;\n",
       "    }\n",
       "</style>\n",
       "<table border=\"1\" class=\"dataframe\">\n",
       "  <thead>\n",
       "    <tr style=\"text-align: right;\">\n",
       "      <th></th>\n",
       "      <th>Jahrgang</th>\n",
       "      <th>AnzBestWir</th>\n",
       "    </tr>\n",
       "  </thead>\n",
       "  <tbody>\n",
       "    <tr>\n",
       "      <th>count</th>\n",
       "      <td>109864</td>\n",
       "      <td>109864</td>\n",
       "    </tr>\n",
       "    <tr>\n",
       "      <th>mean</th>\n",
       "      <td>1981</td>\n",
       "      <td>3</td>\n",
       "    </tr>\n",
       "    <tr>\n",
       "      <th>std</th>\n",
       "      <td>23</td>\n",
       "      <td>6</td>\n",
       "    </tr>\n",
       "    <tr>\n",
       "      <th>min</th>\n",
       "      <td>1913</td>\n",
       "      <td>1</td>\n",
       "    </tr>\n",
       "    <tr>\n",
       "      <th>25%</th>\n",
       "      <td>1965</td>\n",
       "      <td>1</td>\n",
       "    </tr>\n",
       "    <tr>\n",
       "      <th>50%</th>\n",
       "      <td>1983</td>\n",
       "      <td>1</td>\n",
       "    </tr>\n",
       "    <tr>\n",
       "      <th>75%</th>\n",
       "      <td>1998</td>\n",
       "      <td>3</td>\n",
       "    </tr>\n",
       "    <tr>\n",
       "      <th>max</th>\n",
       "      <td>2020</td>\n",
       "      <td>106</td>\n",
       "    </tr>\n",
       "  </tbody>\n",
       "</table>\n",
       "</div>"
      ],
      "text/plain": [
       "       Jahrgang  AnzBestWir\n",
       "count    109864      109864\n",
       "mean       1981           3\n",
       "std          23           6\n",
       "min        1913           1\n",
       "25%        1965           1\n",
       "50%        1983           1\n",
       "75%        1998           3\n",
       "max        2020         106"
      ]
     },
     "execution_count": 8,
     "metadata": {},
     "output_type": "execute_result"
    }
   ],
   "source": [
    "data2betested.describe()"
   ]
  },
  {
   "cell_type": "markdown",
   "metadata": {},
   "source": [
    "Wie viele Nullwerte gibt es im Datensatz?"
   ]
  },
  {
   "cell_type": "code",
   "execution_count": 9,
   "metadata": {
    "scrolled": true
   },
   "outputs": [
    {
     "data": {
      "text/plain": [
       "Jahrgang      0\n",
       "Vorname       0\n",
       "SexLang       0\n",
       "AnzBestWir    0\n",
       "dtype: int64"
      ]
     },
     "execution_count": 9,
     "metadata": {},
     "output_type": "execute_result"
    }
   ],
   "source": [
    "data2betested.isnull().sum()"
   ]
  },
  {
   "cell_type": "markdown",
   "metadata": {},
   "source": [
    "Wandle die Spalte Jahr von Int zu **Datetime** um. Dies wird in den meisten Grafiken so benötigt."
   ]
  },
  {
   "cell_type": "code",
   "execution_count": 10,
   "metadata": {
    "scrolled": true
   },
   "outputs": [],
   "source": [
    "#data2betested['Jahrgang']=pd.to_datetime(data2betested['Jahrgang'], format='%Y')\n",
    "\n",
    "#TO DO --> setze das Datum auf den 31.12. der Jahres.\n",
    "#test=data2betested[['StichtagDatJahr']].date().replace(month=12, day=31)\n",
    "\n",
    "#data2betested"
   ]
  },
  {
   "cell_type": "markdown",
   "metadata": {},
   "source": [
    "Bereite die Daten für die Grafik unten vor"
   ]
  },
  {
   "cell_type": "code",
   "execution_count": 11,
   "metadata": {},
   "outputs": [
    {
     "data": {
      "text/plain": [
       "108"
      ]
     },
     "execution_count": 11,
     "metadata": {},
     "output_type": "execute_result"
    }
   ],
   "source": [
    "Jahrgang = data2betested.groupby(\"Jahrgang\")\n",
    "len(Jahrgang)"
   ]
  },
  {
   "cell_type": "code",
   "execution_count": 12,
   "metadata": {},
   "outputs": [
    {
     "name": "stdout",
     "output_type": "stream",
     "text": [
      "1913 1\n",
      "1914 1\n",
      "1915 2\n",
      "1916 3\n",
      "1917 5\n",
      "1918 14\n",
      "1919 23\n",
      "1920 42\n",
      "1921 52\n",
      "1922 79\n",
      "1923 106\n",
      "1924 136\n",
      "1925 145\n",
      "1926 183\n",
      "1927 239\n",
      "1928 248\n",
      "1929 287\n",
      "1930 330\n",
      "1931 321\n",
      "1932 363\n",
      "1933 382\n",
      "1934 450\n",
      "1935 483\n",
      "1936 505\n",
      "1937 496\n",
      "1938 544\n",
      "1939 544\n",
      "1940 557\n",
      "1941 610\n",
      "1942 613\n",
      "1943 619\n",
      "1944 645\n",
      "1945 637\n",
      "1946 677\n",
      "1947 733\n",
      "1948 713\n",
      "1949 709\n",
      "1950 813\n",
      "1951 779\n",
      "1952 815\n",
      "1953 814\n",
      "1954 826\n",
      "1955 904\n",
      "1956 916\n",
      "1957 926\n",
      "1958 956\n",
      "1959 1023\n",
      "1960 1070\n",
      "1961 1064\n",
      "1962 1111\n",
      "1963 1111\n",
      "1964 1181\n",
      "1965 1208\n",
      "1966 1231\n",
      "1967 1278\n",
      "1968 1291\n",
      "1969 1327\n",
      "1970 1325\n",
      "1971 1394\n",
      "1972 1348\n",
      "1973 1466\n",
      "1974 1496\n",
      "1975 1546\n",
      "1976 1538\n",
      "1977 1607\n",
      "1978 1691\n",
      "1979 1697\n",
      "1980 1761\n",
      "1981 1767\n",
      "1982 1830\n",
      "1983 1805\n",
      "1984 1910\n",
      "1985 1882\n",
      "1986 1984\n",
      "1987 2001\n",
      "1988 2031\n",
      "1989 2015\n",
      "1990 1986\n",
      "1991 1981\n",
      "1992 1869\n",
      "1993 1874\n",
      "1994 1754\n",
      "1995 1750\n",
      "1996 1634\n",
      "1997 1584\n",
      "1998 1411\n",
      "1999 1343\n",
      "2000 1321\n",
      "2001 1186\n",
      "2002 1075\n",
      "2003 1040\n",
      "2004 1072\n",
      "2005 1103\n",
      "2006 1138\n",
      "2007 1147\n",
      "2008 1164\n",
      "2009 1211\n",
      "2010 1233\n",
      "2011 1204\n",
      "2012 1233\n",
      "2013 1237\n",
      "2014 1311\n",
      "2015 1317\n",
      "2016 1290\n",
      "2017 1279\n",
      "2018 1277\n",
      "2019 1303\n",
      "2020 1302\n"
     ]
    }
   ],
   "source": [
    "for key, group in Jahrgang:\n",
    "    print(key, len(group))\n"
   ]
  },
  {
   "cell_type": "code",
   "execution_count": 13,
   "metadata": {},
   "outputs": [
    {
     "ename": "NameError",
     "evalue": "name 'Jahre' is not defined",
     "output_type": "error",
     "traceback": [
      "\u001b[1;31m---------------------------------------------------------------------------\u001b[0m",
      "\u001b[1;31mNameError\u001b[0m                                 Traceback (most recent call last)",
      "\u001b[1;32m<ipython-input-13-6c515dd6c41e>\u001b[0m in \u001b[0;36m<module>\u001b[1;34m\u001b[0m\n\u001b[0;32m      1\u001b[0m \u001b[0mmyJahr\u001b[0m \u001b[1;33m=\u001b[0m \u001b[1;34m\"2019-01-01\"\u001b[0m\u001b[1;33m\u001b[0m\u001b[1;33m\u001b[0m\u001b[0m\n\u001b[1;32m----> 2\u001b[1;33m \u001b[0maktuellesJahr\u001b[0m\u001b[1;33m=\u001b[0m\u001b[0mJahre\u001b[0m\u001b[1;33m.\u001b[0m\u001b[0mget_group\u001b[0m\u001b[1;33m(\u001b[0m\u001b[0mmyJahr\u001b[0m\u001b[1;33m)\u001b[0m\u001b[1;33m\u001b[0m\u001b[1;33m\u001b[0m\u001b[0m\n\u001b[0m\u001b[0;32m      3\u001b[0m \u001b[0maktuellesJahr\u001b[0m\u001b[1;33m\u001b[0m\u001b[1;33m\u001b[0m\u001b[0m\n",
      "\u001b[1;31mNameError\u001b[0m: name 'Jahre' is not defined"
     ]
    }
   ],
   "source": [
    "myJahr = \"2019-01-01\"\n",
    "aktuellesJahr=Jahre.get_group(myJahr)   \n",
    "aktuellesJahr"
   ]
  },
  {
   "cell_type": "markdown",
   "metadata": {},
   "source": [
    "**Selektionen und Aggregationen**\n",
    "\n",
    "Check this [Doku](https://www.shanelynn.ie/summarising-aggregation-and-grouping-data-in-python-pandas/)"
   ]
  },
  {
   "cell_type": "code",
   "execution_count": 14,
   "metadata": {},
   "outputs": [
    {
     "data": {
      "text/html": [
       "<div>\n",
       "<style scoped>\n",
       "    .dataframe tbody tr th:only-of-type {\n",
       "        vertical-align: middle;\n",
       "    }\n",
       "\n",
       "    .dataframe tbody tr th {\n",
       "        vertical-align: top;\n",
       "    }\n",
       "\n",
       "    .dataframe thead th {\n",
       "        text-align: right;\n",
       "    }\n",
       "</style>\n",
       "<table border=\"1\" class=\"dataframe\">\n",
       "  <thead>\n",
       "    <tr style=\"text-align: right;\">\n",
       "      <th></th>\n",
       "      <th></th>\n",
       "      <th>AnzBestWir</th>\n",
       "    </tr>\n",
       "    <tr>\n",
       "      <th>SexLang</th>\n",
       "      <th>Vorname</th>\n",
       "      <th></th>\n",
       "    </tr>\n",
       "  </thead>\n",
       "  <tbody>\n",
       "    <tr>\n",
       "      <th rowspan=\"5\" valign=\"top\">männlich</th>\n",
       "      <th>Aaron</th>\n",
       "      <td>201</td>\n",
       "    </tr>\n",
       "    <tr>\n",
       "      <th>Abbas</th>\n",
       "      <td>23</td>\n",
       "    </tr>\n",
       "    <tr>\n",
       "      <th>Abdallah</th>\n",
       "      <td>13</td>\n",
       "    </tr>\n",
       "    <tr>\n",
       "      <th>Abdel</th>\n",
       "      <td>18</td>\n",
       "    </tr>\n",
       "    <tr>\n",
       "      <th>Abdelkader</th>\n",
       "      <td>14</td>\n",
       "    </tr>\n",
       "    <tr>\n",
       "      <th>...</th>\n",
       "      <th>...</th>\n",
       "      <td>...</td>\n",
       "    </tr>\n",
       "    <tr>\n",
       "      <th rowspan=\"5\" valign=\"top\">weiblich</th>\n",
       "      <th>Çigdem</th>\n",
       "      <td>11</td>\n",
       "    </tr>\n",
       "    <tr>\n",
       "      <th>Émilie</th>\n",
       "      <td>10</td>\n",
       "    </tr>\n",
       "    <tr>\n",
       "      <th>Éva</th>\n",
       "      <td>28</td>\n",
       "    </tr>\n",
       "    <tr>\n",
       "      <th>Özge</th>\n",
       "      <td>10</td>\n",
       "    </tr>\n",
       "    <tr>\n",
       "      <th>Özlem</th>\n",
       "      <td>41</td>\n",
       "    </tr>\n",
       "  </tbody>\n",
       "</table>\n",
       "<p>4183 rows × 1 columns</p>\n",
       "</div>"
      ],
      "text/plain": [
       "                     AnzBestWir\n",
       "SexLang  Vorname               \n",
       "männlich Aaron              201\n",
       "         Abbas               23\n",
       "         Abdallah            13\n",
       "         Abdel               18\n",
       "         Abdelkader          14\n",
       "...                         ...\n",
       "weiblich Çigdem              11\n",
       "         Émilie              10\n",
       "         Éva                 28\n",
       "         Özge                10\n",
       "         Özlem               41\n",
       "\n",
       "[4183 rows x 1 columns]"
      ]
     },
     "execution_count": 14,
     "metadata": {},
     "output_type": "execute_result"
    }
   ],
   "source": [
    "med_jg_sex = data2betested.groupby(['Jahrgang','SexLang'])[['AnzBestWir']].agg('median')\n",
    "anz_vn_sex_jg= data2betested.groupby(['Jahrgang', 'SexLang','Vorname' ])[['AnzBestWir']].sum()\n",
    "anz_vn_sex= data2betested.groupby(['SexLang','Vorname' ])[['AnzBestWir']].sum()\n",
    "med_jg_sex \n",
    "anz_vn_sex_jg\n",
    "anz_vn_sex\n",
    "# produces Pandas Series\n",
    "    #data2betested.groupby(['StichtagDatJahr', 'KonOGDSort'])['AnzBestWir'].sum()\n",
    "# Produces Pandas DataFrame\n",
    "    #data2betested.groupby(['StichtagDatJahr', 'KonOGDSort'])[['AnzBestWir']].sum()\n",
    "    "
   ]
  },
  {
   "cell_type": "markdown",
   "metadata": {},
   "source": [
    "**Einfache Visualisierungen zur Plausi**"
   ]
  },
  {
   "cell_type": "markdown",
   "metadata": {},
   "source": [
    "Exploriere die Daten mit Pivottable.JS"
   ]
  },
  {
   "cell_type": "code",
   "execution_count": 15,
   "metadata": {},
   "outputs": [
    {
     "data": {
      "text/html": [
       "\n",
       "        <iframe\n",
       "            width=\"100%\"\n",
       "            height=\"500\"\n",
       "            src=\"pivottablejs.html\"\n",
       "            frameborder=\"0\"\n",
       "            allowfullscreen\n",
       "        ></iframe>\n",
       "        "
      ],
      "text/plain": [
       "<IPython.lib.display.IFrame at 0x1e7d9340a60>"
      ]
     },
     "execution_count": 15,
     "metadata": {},
     "output_type": "execute_result"
    }
   ],
   "source": [
    "from pivottablejs import pivot_ui\n",
    "\n",
    "pivot_ui(data2betested)"
   ]
  },
  {
   "cell_type": "markdown",
   "metadata": {},
   "source": [
    "Liniendiagramm \n",
    "[Link zur Doku](https://altair-viz.github.io/gallery/multiline_highlight.html)"
   ]
  },
  {
   "cell_type": "code",
   "execution_count": 16,
   "metadata": {},
   "outputs": [
    {
     "data": {
      "text/html": [
       "<div>\n",
       "<style scoped>\n",
       "    .dataframe tbody tr th:only-of-type {\n",
       "        vertical-align: middle;\n",
       "    }\n",
       "\n",
       "    .dataframe tbody tr th {\n",
       "        vertical-align: top;\n",
       "    }\n",
       "\n",
       "    .dataframe thead th {\n",
       "        text-align: right;\n",
       "    }\n",
       "</style>\n",
       "<table border=\"1\" class=\"dataframe\">\n",
       "  <thead>\n",
       "    <tr style=\"text-align: right;\">\n",
       "      <th></th>\n",
       "      <th></th>\n",
       "      <th>AnzBestWir</th>\n",
       "    </tr>\n",
       "    <tr>\n",
       "      <th>Vorname</th>\n",
       "      <th>SexLang</th>\n",
       "      <th></th>\n",
       "    </tr>\n",
       "  </thead>\n",
       "  <tbody>\n",
       "    <tr>\n",
       "      <th>Aaliyah</th>\n",
       "      <th>weiblich</th>\n",
       "      <td>7</td>\n",
       "    </tr>\n",
       "    <tr>\n",
       "      <th>Abigail</th>\n",
       "      <th>weiblich</th>\n",
       "      <td>4</td>\n",
       "    </tr>\n",
       "    <tr>\n",
       "      <th>Ada</th>\n",
       "      <th>weiblich</th>\n",
       "      <td>24</td>\n",
       "    </tr>\n",
       "    <tr>\n",
       "      <th>Adea</th>\n",
       "      <th>weiblich</th>\n",
       "      <td>3</td>\n",
       "    </tr>\n",
       "    <tr>\n",
       "      <th>Adela</th>\n",
       "      <th>weiblich</th>\n",
       "      <td>1</td>\n",
       "    </tr>\n",
       "  </tbody>\n",
       "</table>\n",
       "</div>"
      ],
      "text/plain": [
       "                  AnzBestWir\n",
       "Vorname SexLang             \n",
       "Aaliyah weiblich           7\n",
       "Abigail weiblich           4\n",
       "Ada     weiblich          24\n",
       "Adea    weiblich           3\n",
       "Adela   weiblich           1"
      ]
     },
     "execution_count": 16,
     "metadata": {},
     "output_type": "execute_result"
    }
   ],
   "source": [
    "mySelection = data2betested[(data2betested.Jahrgang>2011) & (data2betested.Jahrgang<2018) & (data2betested.SexLang=='weiblich')]\n",
    "agg_mySelection= mySelection.groupby(['Vorname', 'SexLang' ])[['AnzBestWir']].sum()\n",
    "agg_mySelection.head()\n",
    "#mySelection.head()\n",
    "#agg_mySelection.dtypes\n"
   ]
  },
  {
   "cell_type": "code",
   "execution_count": 17,
   "metadata": {},
   "outputs": [
    {
     "data": {
      "text/html": [
       "<div>\n",
       "<style scoped>\n",
       "    .dataframe tbody tr th:only-of-type {\n",
       "        vertical-align: middle;\n",
       "    }\n",
       "\n",
       "    .dataframe tbody tr th {\n",
       "        vertical-align: top;\n",
       "    }\n",
       "\n",
       "    .dataframe thead th {\n",
       "        text-align: right;\n",
       "    }\n",
       "</style>\n",
       "<table border=\"1\" class=\"dataframe\">\n",
       "  <thead>\n",
       "    <tr style=\"text-align: right;\">\n",
       "      <th></th>\n",
       "      <th>Jahrgang</th>\n",
       "      <th>Vorname</th>\n",
       "      <th>SexLang</th>\n",
       "      <th>AnzBestWir</th>\n",
       "    </tr>\n",
       "  </thead>\n",
       "  <tbody>\n",
       "    <tr>\n",
       "      <th>1874</th>\n",
       "      <td>2017</td>\n",
       "      <td>Aaliyah</td>\n",
       "      <td>weiblich</td>\n",
       "      <td>2</td>\n",
       "    </tr>\n",
       "    <tr>\n",
       "      <th>1875</th>\n",
       "      <td>2017</td>\n",
       "      <td>Abigail</td>\n",
       "      <td>weiblich</td>\n",
       "      <td>1</td>\n",
       "    </tr>\n",
       "    <tr>\n",
       "      <th>1876</th>\n",
       "      <td>2017</td>\n",
       "      <td>Ada</td>\n",
       "      <td>weiblich</td>\n",
       "      <td>11</td>\n",
       "    </tr>\n",
       "    <tr>\n",
       "      <th>1877</th>\n",
       "      <td>2017</td>\n",
       "      <td>Adea</td>\n",
       "      <td>weiblich</td>\n",
       "      <td>2</td>\n",
       "    </tr>\n",
       "    <tr>\n",
       "      <th>1878</th>\n",
       "      <td>2017</td>\n",
       "      <td>Adelina</td>\n",
       "      <td>weiblich</td>\n",
       "      <td>1</td>\n",
       "    </tr>\n",
       "    <tr>\n",
       "      <th>...</th>\n",
       "      <td>...</td>\n",
       "      <td>...</td>\n",
       "      <td>...</td>\n",
       "      <td>...</td>\n",
       "    </tr>\n",
       "    <tr>\n",
       "      <th>5529</th>\n",
       "      <td>2012</td>\n",
       "      <td>Zoé</td>\n",
       "      <td>weiblich</td>\n",
       "      <td>8</td>\n",
       "    </tr>\n",
       "    <tr>\n",
       "      <th>5530</th>\n",
       "      <td>2012</td>\n",
       "      <td>Zoë</td>\n",
       "      <td>weiblich</td>\n",
       "      <td>2</td>\n",
       "    </tr>\n",
       "    <tr>\n",
       "      <th>5531</th>\n",
       "      <td>2012</td>\n",
       "      <td>Zoey</td>\n",
       "      <td>weiblich</td>\n",
       "      <td>1</td>\n",
       "    </tr>\n",
       "    <tr>\n",
       "      <th>5532</th>\n",
       "      <td>2012</td>\n",
       "      <td>Zoi</td>\n",
       "      <td>weiblich</td>\n",
       "      <td>1</td>\n",
       "    </tr>\n",
       "    <tr>\n",
       "      <th>5533</th>\n",
       "      <td>2012</td>\n",
       "      <td>Zorka</td>\n",
       "      <td>weiblich</td>\n",
       "      <td>1</td>\n",
       "    </tr>\n",
       "  </tbody>\n",
       "</table>\n",
       "<p>3660 rows × 4 columns</p>\n",
       "</div>"
      ],
      "text/plain": [
       "      Jahrgang  Vorname   SexLang  AnzBestWir\n",
       "1874      2017  Aaliyah  weiblich           2\n",
       "1875      2017  Abigail  weiblich           1\n",
       "1876      2017      Ada  weiblich          11\n",
       "1877      2017     Adea  weiblich           2\n",
       "1878      2017  Adelina  weiblich           1\n",
       "...        ...      ...       ...         ...\n",
       "5529      2012      Zoé  weiblich           8\n",
       "5530      2012      Zoë  weiblich           2\n",
       "5531      2012     Zoey  weiblich           1\n",
       "5532      2012      Zoi  weiblich           1\n",
       "5533      2012    Zorka  weiblich           1\n",
       "\n",
       "[3660 rows x 4 columns]"
      ]
     },
     "execution_count": 17,
     "metadata": {},
     "output_type": "execute_result"
    }
   ],
   "source": [
    "agg_mySelection = agg_mySelection[[\"AnzBestWir\"]]\n",
    "agg_mySelection\n",
    "mySelection\n"
   ]
  },
  {
   "cell_type": "code",
   "execution_count": 38,
   "metadata": {},
   "outputs": [
    {
     "data": {
      "text/html": [
       "\n",
       "<div id=\"altair-viz-89695a4c17db447d8dce08d9e9c12128\"></div>\n",
       "<script type=\"text/javascript\">\n",
       "  (function(spec, embedOpt){\n",
       "    let outputDiv = document.currentScript.previousElementSibling;\n",
       "    if (outputDiv.id !== \"altair-viz-89695a4c17db447d8dce08d9e9c12128\") {\n",
       "      outputDiv = document.getElementById(\"altair-viz-89695a4c17db447d8dce08d9e9c12128\");\n",
       "    }\n",
       "    const paths = {\n",
       "      \"vega\": \"https://cdn.jsdelivr.net/npm//vega@5?noext\",\n",
       "      \"vega-lib\": \"https://cdn.jsdelivr.net/npm//vega-lib?noext\",\n",
       "      \"vega-lite\": \"https://cdn.jsdelivr.net/npm//vega-lite@4.8.1?noext\",\n",
       "      \"vega-embed\": \"https://cdn.jsdelivr.net/npm//vega-embed@6?noext\",\n",
       "    };\n",
       "\n",
       "    function loadScript(lib) {\n",
       "      return new Promise(function(resolve, reject) {\n",
       "        var s = document.createElement('script');\n",
       "        s.src = paths[lib];\n",
       "        s.async = true;\n",
       "        s.onload = () => resolve(paths[lib]);\n",
       "        s.onerror = () => reject(`Error loading script: ${paths[lib]}`);\n",
       "        document.getElementsByTagName(\"head\")[0].appendChild(s);\n",
       "      });\n",
       "    }\n",
       "\n",
       "    function showError(err) {\n",
       "      outputDiv.innerHTML = `<div class=\"error\" style=\"color:red;\">${err}</div>`;\n",
       "      throw err;\n",
       "    }\n",
       "\n",
       "    function displayChart(vegaEmbed) {\n",
       "      vegaEmbed(outputDiv, spec, embedOpt)\n",
       "        .catch(err => showError(`Javascript Error: ${err.message}<br>This usually means there's a typo in your chart specification. See the javascript console for the full traceback.`));\n",
       "    }\n",
       "\n",
       "    if(typeof define === \"function\" && define.amd) {\n",
       "      requirejs.config({paths});\n",
       "      require([\"vega-embed\"], displayChart, err => showError(`Error loading script: ${err.message}`));\n",
       "    } else if (typeof vegaEmbed === \"function\") {\n",
       "      displayChart(vegaEmbed);\n",
       "    } else {\n",
       "      loadScript(\"vega\")\n",
       "        .then(() => loadScript(\"vega-lite\"))\n",
       "        .then(() => loadScript(\"vega-embed\"))\n",
       "        .catch(showError)\n",
       "        .then(() => displayChart(vegaEmbed));\n",
       "    }\n",
       "  })({\"config\": {\"view\": {\"continuousWidth\": 400, \"continuousHeight\": 300}}, \"layer\": [{\"mark\": \"circle\", \"encoding\": {\"color\": {\"type\": \"nominal\", \"field\": \"SexLang\"}, \"opacity\": {\"value\": 0.75}, \"x\": {\"type\": \"nominal\", \"field\": \"Vorname\"}, \"y\": {\"type\": \"quantitative\", \"field\": \"AnzBestWir\"}}, \"height\": 500, \"selection\": {\"selector038\": {\"type\": \"single\", \"on\": \"mouseover\", \"fields\": [\"SexLang\"], \"nearest\": true}}, \"width\": 900}, {\"mark\": \"line\", \"encoding\": {\"color\": {\"type\": \"nominal\", \"field\": \"SexLang\"}, \"size\": {\"condition\": {\"value\": 1.5, \"selection\": {\"not\": \"selector038\"}}, \"value\": 4}, \"x\": {\"type\": \"nominal\", \"field\": \"Vorname\"}, \"y\": {\"type\": \"quantitative\", \"field\": \"AnzBestWir\"}}, \"selection\": {\"selector039\": {\"type\": \"interval\", \"bind\": \"scales\", \"encodings\": [\"x\", \"y\"]}}}], \"data\": {\"name\": \"data-a869498163219ec6db81dbaa04ae90b3\"}, \"$schema\": \"https://vega.github.io/schema/vega-lite/v4.8.1.json\", \"datasets\": {\"data-a869498163219ec6db81dbaa04ae90b3\": [{\"Jahrgang\": 1920, \"Vorname\": \"Adolf\", \"SexLang\": \"m\\u00e4nnlich\", \"AnzBestWir\": 1}, {\"Jahrgang\": 1920, \"Vorname\": \"Bruno\", \"SexLang\": \"m\\u00e4nnlich\", \"AnzBestWir\": 1}, {\"Jahrgang\": 1920, \"Vorname\": \"Emil\", \"SexLang\": \"m\\u00e4nnlich\", \"AnzBestWir\": 1}, {\"Jahrgang\": 1920, \"Vorname\": \"Ernst\", \"SexLang\": \"m\\u00e4nnlich\", \"AnzBestWir\": 2}, {\"Jahrgang\": 1920, \"Vorname\": \"Jean\", \"SexLang\": \"m\\u00e4nnlich\", \"AnzBestWir\": 1}, {\"Jahrgang\": 1920, \"Vorname\": \"Johann\", \"SexLang\": \"m\\u00e4nnlich\", \"AnzBestWir\": 1}, {\"Jahrgang\": 1920, \"Vorname\": \"Johannes\", \"SexLang\": \"m\\u00e4nnlich\", \"AnzBestWir\": 1}, {\"Jahrgang\": 1920, \"Vorname\": \"Roger\", \"SexLang\": \"m\\u00e4nnlich\", \"AnzBestWir\": 1}, {\"Jahrgang\": 1920, \"Vorname\": \"Rolf\", \"SexLang\": \"m\\u00e4nnlich\", \"AnzBestWir\": 1}, {\"Jahrgang\": 1920, \"Vorname\": \"Rudolf\", \"SexLang\": \"m\\u00e4nnlich\", \"AnzBestWir\": 1}, {\"Jahrgang\": 1920, \"Vorname\": \"Ulrich\", \"SexLang\": \"m\\u00e4nnlich\", \"AnzBestWir\": 1}, {\"Jahrgang\": 1920, \"Vorname\": \"Walter\", \"SexLang\": \"m\\u00e4nnlich\", \"AnzBestWir\": 3}, {\"Jahrgang\": 1919, \"Vorname\": \"Elio\", \"SexLang\": \"m\\u00e4nnlich\", \"AnzBestWir\": 1}, {\"Jahrgang\": 1919, \"Vorname\": \"Eugen\", \"SexLang\": \"m\\u00e4nnlich\", \"AnzBestWir\": 1}, {\"Jahrgang\": 1919, \"Vorname\": \"Leopold\", \"SexLang\": \"m\\u00e4nnlich\", \"AnzBestWir\": 1}, {\"Jahrgang\": 1919, \"Vorname\": \"Valentin\", \"SexLang\": \"m\\u00e4nnlich\", \"AnzBestWir\": 1}, {\"Jahrgang\": 1918, \"Vorname\": \"Bernhard\", \"SexLang\": \"m\\u00e4nnlich\", \"AnzBestWir\": 1}, {\"Jahrgang\": 1918, \"Vorname\": \"Hans\", \"SexLang\": \"m\\u00e4nnlich\", \"AnzBestWir\": 1}, {\"Jahrgang\": 1918, \"Vorname\": \"Robert\", \"SexLang\": \"m\\u00e4nnlich\", \"AnzBestWir\": 1}, {\"Jahrgang\": 1914, \"Vorname\": \"Walter\", \"SexLang\": \"m\\u00e4nnlich\", \"AnzBestWir\": 1}, {\"Jahrgang\": 1913, \"Vorname\": \"Alfred\", \"SexLang\": \"m\\u00e4nnlich\", \"AnzBestWir\": 1}]}}, {\"mode\": \"vega-lite\"});\n",
       "</script>"
      ],
      "text/plain": [
       "alt.LayerChart(...)"
      ]
     },
     "execution_count": 38,
     "metadata": {},
     "output_type": "execute_result"
    }
   ],
   "source": [
    "# df_statzonen = df_statzonen[(df_statzonen.knr>0) & (df_statzonen.qname!=\"Hirslanden\")]\n",
    "#aktuellesJahr[[aktuellesJahr.KreisSort =7]])\n",
    "\n",
    "myGraphic=data2betested[(data2betested.Jahrgang>1911) & (data2betested.Jahrgang<1921) & (data2betested.SexLang==\"männlich\")]\n",
    "\n",
    "highlight = alt.selection(type='single', on='mouseover',\n",
    "                          fields=['SexLang'], nearest=True)\n",
    "#x='date:StichtagDatJahr',\n",
    "base = alt.Chart(myGraphic).encode(\n",
    "    x='Vorname',\n",
    "    y='AnzBestWir',\n",
    "    color='SexLang'\n",
    ")\n",
    "\n",
    "points = base.mark_circle().encode(\n",
    "    opacity=alt.value(0.75)\n",
    ").add_selection(\n",
    "    highlight\n",
    ").properties(\n",
    "    width=900 , height=500\n",
    ")\n",
    "lines = base.mark_line().encode(\n",
    "    size=alt.condition(~highlight, alt.value(1.5), alt.value(4))\n",
    ").interactive()\n",
    "\n",
    "points + lines"
   ]
  },
  {
   "cell_type": "code",
   "execution_count": 40,
   "metadata": {},
   "outputs": [
    {
     "data": {
      "text/html": [
       "\n",
       "<div id=\"altair-viz-d2cbb55cf87f4a529ca760698c64d3d3\"></div>\n",
       "<script type=\"text/javascript\">\n",
       "  (function(spec, embedOpt){\n",
       "    let outputDiv = document.currentScript.previousElementSibling;\n",
       "    if (outputDiv.id !== \"altair-viz-d2cbb55cf87f4a529ca760698c64d3d3\") {\n",
       "      outputDiv = document.getElementById(\"altair-viz-d2cbb55cf87f4a529ca760698c64d3d3\");\n",
       "    }\n",
       "    const paths = {\n",
       "      \"vega\": \"https://cdn.jsdelivr.net/npm//vega@5?noext\",\n",
       "      \"vega-lib\": \"https://cdn.jsdelivr.net/npm//vega-lib?noext\",\n",
       "      \"vega-lite\": \"https://cdn.jsdelivr.net/npm//vega-lite@4.8.1?noext\",\n",
       "      \"vega-embed\": \"https://cdn.jsdelivr.net/npm//vega-embed@6?noext\",\n",
       "    };\n",
       "\n",
       "    function loadScript(lib) {\n",
       "      return new Promise(function(resolve, reject) {\n",
       "        var s = document.createElement('script');\n",
       "        s.src = paths[lib];\n",
       "        s.async = true;\n",
       "        s.onload = () => resolve(paths[lib]);\n",
       "        s.onerror = () => reject(`Error loading script: ${paths[lib]}`);\n",
       "        document.getElementsByTagName(\"head\")[0].appendChild(s);\n",
       "      });\n",
       "    }\n",
       "\n",
       "    function showError(err) {\n",
       "      outputDiv.innerHTML = `<div class=\"error\" style=\"color:red;\">${err}</div>`;\n",
       "      throw err;\n",
       "    }\n",
       "\n",
       "    function displayChart(vegaEmbed) {\n",
       "      vegaEmbed(outputDiv, spec, embedOpt)\n",
       "        .catch(err => showError(`Javascript Error: ${err.message}<br>This usually means there's a typo in your chart specification. See the javascript console for the full traceback.`));\n",
       "    }\n",
       "\n",
       "    if(typeof define === \"function\" && define.amd) {\n",
       "      requirejs.config({paths});\n",
       "      require([\"vega-embed\"], displayChart, err => showError(`Error loading script: ${err.message}`));\n",
       "    } else if (typeof vegaEmbed === \"function\") {\n",
       "      displayChart(vegaEmbed);\n",
       "    } else {\n",
       "      loadScript(\"vega\")\n",
       "        .then(() => loadScript(\"vega-lite\"))\n",
       "        .then(() => loadScript(\"vega-embed\"))\n",
       "        .catch(showError)\n",
       "        .then(() => displayChart(vegaEmbed));\n",
       "    }\n",
       "  })({\"config\": {\"view\": {\"continuousWidth\": 400, \"continuousHeight\": 300}}, \"data\": {\"name\": \"data-a869498163219ec6db81dbaa04ae90b3\"}, \"mark\": {\"type\": \"circle\", \"size\": 60}, \"encoding\": {\"color\": {\"type\": \"quantitative\", \"field\": \"Jahrgang\"}, \"tooltip\": [{\"type\": \"quantitative\", \"field\": \"Jahrgang\"}, {\"type\": \"nominal\", \"field\": \"Vorname\"}, {\"type\": \"quantitative\", \"field\": \"AnzBestWir\"}], \"x\": {\"type\": \"nominal\", \"field\": \"Vorname\"}, \"y\": {\"type\": \"quantitative\", \"field\": \"AnzBestWir\"}}, \"selection\": {\"selector041\": {\"type\": \"interval\", \"bind\": \"scales\", \"encodings\": [\"x\", \"y\"]}}, \"$schema\": \"https://vega.github.io/schema/vega-lite/v4.8.1.json\", \"datasets\": {\"data-a869498163219ec6db81dbaa04ae90b3\": [{\"Jahrgang\": 1920, \"Vorname\": \"Adolf\", \"SexLang\": \"m\\u00e4nnlich\", \"AnzBestWir\": 1}, {\"Jahrgang\": 1920, \"Vorname\": \"Bruno\", \"SexLang\": \"m\\u00e4nnlich\", \"AnzBestWir\": 1}, {\"Jahrgang\": 1920, \"Vorname\": \"Emil\", \"SexLang\": \"m\\u00e4nnlich\", \"AnzBestWir\": 1}, {\"Jahrgang\": 1920, \"Vorname\": \"Ernst\", \"SexLang\": \"m\\u00e4nnlich\", \"AnzBestWir\": 2}, {\"Jahrgang\": 1920, \"Vorname\": \"Jean\", \"SexLang\": \"m\\u00e4nnlich\", \"AnzBestWir\": 1}, {\"Jahrgang\": 1920, \"Vorname\": \"Johann\", \"SexLang\": \"m\\u00e4nnlich\", \"AnzBestWir\": 1}, {\"Jahrgang\": 1920, \"Vorname\": \"Johannes\", \"SexLang\": \"m\\u00e4nnlich\", \"AnzBestWir\": 1}, {\"Jahrgang\": 1920, \"Vorname\": \"Roger\", \"SexLang\": \"m\\u00e4nnlich\", \"AnzBestWir\": 1}, {\"Jahrgang\": 1920, \"Vorname\": \"Rolf\", \"SexLang\": \"m\\u00e4nnlich\", \"AnzBestWir\": 1}, {\"Jahrgang\": 1920, \"Vorname\": \"Rudolf\", \"SexLang\": \"m\\u00e4nnlich\", \"AnzBestWir\": 1}, {\"Jahrgang\": 1920, \"Vorname\": \"Ulrich\", \"SexLang\": \"m\\u00e4nnlich\", \"AnzBestWir\": 1}, {\"Jahrgang\": 1920, \"Vorname\": \"Walter\", \"SexLang\": \"m\\u00e4nnlich\", \"AnzBestWir\": 3}, {\"Jahrgang\": 1919, \"Vorname\": \"Elio\", \"SexLang\": \"m\\u00e4nnlich\", \"AnzBestWir\": 1}, {\"Jahrgang\": 1919, \"Vorname\": \"Eugen\", \"SexLang\": \"m\\u00e4nnlich\", \"AnzBestWir\": 1}, {\"Jahrgang\": 1919, \"Vorname\": \"Leopold\", \"SexLang\": \"m\\u00e4nnlich\", \"AnzBestWir\": 1}, {\"Jahrgang\": 1919, \"Vorname\": \"Valentin\", \"SexLang\": \"m\\u00e4nnlich\", \"AnzBestWir\": 1}, {\"Jahrgang\": 1918, \"Vorname\": \"Bernhard\", \"SexLang\": \"m\\u00e4nnlich\", \"AnzBestWir\": 1}, {\"Jahrgang\": 1918, \"Vorname\": \"Hans\", \"SexLang\": \"m\\u00e4nnlich\", \"AnzBestWir\": 1}, {\"Jahrgang\": 1918, \"Vorname\": \"Robert\", \"SexLang\": \"m\\u00e4nnlich\", \"AnzBestWir\": 1}, {\"Jahrgang\": 1914, \"Vorname\": \"Walter\", \"SexLang\": \"m\\u00e4nnlich\", \"AnzBestWir\": 1}, {\"Jahrgang\": 1913, \"Vorname\": \"Alfred\", \"SexLang\": \"m\\u00e4nnlich\", \"AnzBestWir\": 1}]}}, {\"mode\": \"vega-lite\"});\n",
       "</script>"
      ],
      "text/plain": [
       "alt.Chart(...)"
      ]
     },
     "execution_count": 40,
     "metadata": {},
     "output_type": "execute_result"
    }
   ],
   "source": [
    "alt.Chart(myGraphic).mark_circle(size=60).encode(\n",
    "    x='Vorname',\n",
    "    y='AnzBestWir',\n",
    "    color='Jahrgang',\n",
    "    tooltip=['Jahrgang','Vorname','AnzBestWir']\n",
    ").interactive() # this makes the axes interactive: now you can zoom & pan\n",
    "\n"
   ]
  },
  {
   "cell_type": "code",
   "execution_count": 20,
   "metadata": {},
   "outputs": [
    {
     "data": {
      "image/png": "[encoded data removed]",
      "text/plain": [
       "<Figure size 432x288 with 1 Axes>"
      ]
     },
     "metadata": {},
     "output_type": "display_data"
    }
   ],
   "source": [
    "import seaborn as sns\n",
    "sns.set(style=\"darkgrid\")\n",
    "sns.histplot(data=mySelection, x=\"Jahrgang\") # , y=\"SexLang\")\n",
    "plt.show();"
   ]
  },
  {
   "cell_type": "markdown",
   "metadata": {},
   "source": [
    "Test: Choroplethenkarte"
   ]
  },
  {
   "cell_type": "markdown",
   "metadata": {},
   "source": [
    "**Test: Choroplethenkarte**\n",
    "Importiere die Geodaten als GeoJSON"
   ]
  },
  {
   "cell_type": "code",
   "execution_count": 21,
   "metadata": {},
   "outputs": [
    {
     "data": {
      "text/html": [
       "<div>\n",
       "<style scoped>\n",
       "    .dataframe tbody tr th:only-of-type {\n",
       "        vertical-align: middle;\n",
       "    }\n",
       "\n",
       "    .dataframe tbody tr th {\n",
       "        vertical-align: top;\n",
       "    }\n",
       "\n",
       "    .dataframe thead th {\n",
       "        text-align: right;\n",
       "    }\n",
       "</style>\n",
       "<table border=\"1\" class=\"dataframe\">\n",
       "  <thead>\n",
       "    <tr style=\"text-align: right;\">\n",
       "      <th></th>\n",
       "      <th>objectid</th>\n",
       "      <th>objid</th>\n",
       "      <th>stznr</th>\n",
       "      <th>stzname</th>\n",
       "      <th>qnr</th>\n",
       "      <th>qname</th>\n",
       "      <th>knr</th>\n",
       "      <th>kname</th>\n",
       "      <th>geometry</th>\n",
       "    </tr>\n",
       "  </thead>\n",
       "  <tbody>\n",
       "    <tr>\n",
       "      <th>0</th>\n",
       "      <td>1</td>\n",
       "      <td>154</td>\n",
       "      <td>7303</td>\n",
       "      <td>Hegibach</td>\n",
       "      <td>73</td>\n",
       "      <td>Hirslanden</td>\n",
       "      <td>7</td>\n",
       "      <td>Kreis 7</td>\n",
       "      <td>POLYGON ((8.55670 47.36407, 8.55670 47.36406, ...</td>\n",
       "    </tr>\n",
       "    <tr>\n",
       "      <th>1</th>\n",
       "      <td>2</td>\n",
       "      <td>89</td>\n",
       "      <td>7302</td>\n",
       "      <td>Klus</td>\n",
       "      <td>73</td>\n",
       "      <td>Hirslanden</td>\n",
       "      <td>7</td>\n",
       "      <td>Kreis 7</td>\n",
       "      <td>POLYGON ((8.57281 47.35806, 8.57274 47.35804, ...</td>\n",
       "    </tr>\n",
       "  </tbody>\n",
       "</table>\n",
       "</div>"
      ],
      "text/plain": [
       "   objectid objid  stznr   stzname  qnr       qname  knr    kname  \\\n",
       "0         1   154   7303  Hegibach   73  Hirslanden    7  Kreis 7   \n",
       "1         2    89   7302      Klus   73  Hirslanden    7  Kreis 7   \n",
       "\n",
       "                                            geometry  \n",
       "0  POLYGON ((8.55670 47.36407, 8.55670 47.36406, ...  \n",
       "1  POLYGON ((8.57281 47.35806, 8.57274 47.35804, ...  "
      ]
     },
     "execution_count": 21,
     "metadata": {},
     "output_type": "execute_result"
    }
   ],
   "source": [
    "# Read abt. Geopandas https://geopandas.org/docs/user_guide/io.html\n",
    "# Filepath statzonen\n",
    "input_statzonen = r\"//szh.loc/ssz/data/GIS/Daten/Vektor/_aktuell/stzh.adm_statzonen_map.json\"\n",
    "df_statzonen = gpd.read_file(input_statzonen)\n",
    "df_statzonen.head(2)\n"
   ]
  },
  {
   "cell_type": "markdown",
   "metadata": {},
   "source": [
    "Joine die importierten statistischen Daten des aktuellen Jahres zum Geodatensatz:\n",
    "\n",
    "*Siehe dazu Doku zu [Geopandas](https://geopandas.org/docs/user_guide/mergingdata.html)*"
   ]
  },
  {
   "cell_type": "markdown",
   "metadata": {},
   "source": [
    "#Link https://automating-gis-processes.github.io/site/notebooks/L5/interactive-map-folium.html\n",
    "\n",
    "# Create a Map instance\n",
    "m = folium.Map(location=[60.25, 24.8], tiles = 'cartodbpositron', zoom_start=10, control_scale=True)\n",
    "\n",
    "# Plot a choropleth map\n",
    "# Notice: 'geoid' column that we created earlier needs to be assigned always as the first column\n",
    "folium.Choropleth(\n",
    "    geo_data=data,\n",
    "    name='Population in 2018',\n",
    "    data=data,\n",
    "    columns=['geoid', 'pop18'],\n",
    "    key_on='feature.id',\n",
    "    fill_color='YlOrRd',\n",
    "    fill_opacity=0.7,\n",
    "    line_opacity=0.2,\n",
    "    line_color='white',\n",
    "    line_weight=0,\n",
    "    highlight=False,\n",
    "    smooth_factor=1.0,\n",
    "    #threshold_scale=[100, 250, 500, 1000, 2000],\n",
    "    legend_name= 'Population in Helsinki').add_to(m)\n",
    "\n",
    "#Show map\n",
    "m"
   ]
  },
  {
   "cell_type": "markdown",
   "metadata": {},
   "source": [
    "Noch zu prüfen, folgendes schöne Beispiel: https://docs.bokeh.org/en/latest/docs/user_guide/interaction/legends.html\n",
    "\n",
    "Konkrete Beispiele von Bookeh in Jupyter NB: https://docs.bokeh.org/en/latest/docs/user_guide/jupyter.html"
   ]
  },
  {
   "cell_type": "code",
   "execution_count": null,
   "metadata": {},
   "outputs": [],
   "source": [
    "\n"
   ]
  },
  {
   "cell_type": "code",
   "execution_count": null,
   "metadata": {},
   "outputs": [],
   "source": []
  }
 ],
 "metadata": {
  "kernelspec": {
   "display_name": "Python 3 (ipykernel)",
   "language": "python",
   "name": "python3"
  },
  "language_info": {
   "codemirror_mode": {
    "name": "ipython",
    "version": 3
   },
   "file_extension": ".py",
   "mimetype": "text/x-python",
   "name": "python",
   "nbconvert_exporter": "python",
   "pygments_lexer": "ipython3",
   "version": "3.9.7"
  }
 },
 "nbformat": 4,
 "nbformat_minor": 4
}
