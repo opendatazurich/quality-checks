{
 "cells": [
  {
   "cell_type": "markdown",
   "metadata": {},
   "source": [
    "**Importiere die notwendigen Packages**"
   ]
  },
  {
   "cell_type": "code",
   "execution_count": 1,
   "metadata": {},
   "outputs": [],
   "source": [
    "import pandas as pd\n",
    "import pivottablejs\n",
    "from pivottablejs import pivot_ui\n",
    "import numpy as np\n",
    "import altair as alt\n",
    "import matplotlib.pyplot as plt\n",
    "from datetime import datetime\n",
    "import geopandas as gpd\n",
    "import folium \n",
    "\n"
   ]
  },
  {
   "cell_type": "markdown",
   "metadata": {},
   "source": [
    "Definiere Settings. Hier das Zahlenformat von Float-Werten (z.B. *'{:,.2f}'.format* mit Komma als Tausenderzeichen), "
   ]
  },
  {
   "cell_type": "code",
   "execution_count": 2,
   "metadata": {},
   "outputs": [],
   "source": [
    "pd.options.display.float_format = '{:.0f}'.format\n",
    "pd.set_option('display.width', 100)\n",
    "pd.set_option('display.max_columns', 15)"
   ]
  },
  {
   "cell_type": "markdown",
   "metadata": {},
   "source": [
    "Importiere einen Datensatz von der **DWH_INT** Dropzone.\n",
    "\n",
    "- Beachte dabei die Notation des Pfades...\n",
    "- Definiere mal aktuell noch keine weiteren Parameter beim Import"
   ]
  },
  {
   "cell_type": "markdown",
   "metadata": {},
   "source": [
    "**Dataset auf INTEG Datenkatalog**: https://data.integ.stadt-zuerich.ch/dataset/int_dwh_bev_vornamen_baby_od3700"
   ]
  },
  {
   "cell_type": "code",
   "execution_count": 3,
   "metadata": {},
   "outputs": [],
   "source": [
    "# Filepath\n",
    "fp = r\"//szh.loc/ssz/applikationen/OGD_Dropzone/DWH/bev_vornamen_baby_OD3700/BEV370OD3700.csv\"\n",
    "#AUf INTEG\n",
    "#fp = r\"//szh.loc/ssz/applikationen/OGD_Dropzone/INT_DWH/bev_vornamen_baby_OD3700/BEV370OD3700.csv\"\n",
    "\n",
    "\n",
    "# Read the data\n",
    "data2betested = pd.read_csv(\n",
    "    fp, \n",
    "    sep=',',\n",
    "   #usecols=[0,1,2,3,4,6],\n",
    "   #names=['stationid','year','month','avgtemp','latitude','longitude','elevation','station','countryid','country'],\n",
    "   #skiprows=1,\n",
    "   # parse_dates=[0],\n",
    "    parse_dates=True,\n",
    "    #date_parser=lambda x: pd.to_datetime(x, format=\"%Y\"), \n",
    "    #index_col=\"date_time\",\n",
    "    low_memory=False    \n",
    "    )"
   ]
  },
  {
   "cell_type": "markdown",
   "metadata": {},
   "source": [
    "In der Folge ein paar erste Tests:"
   ]
  },
  {
   "cell_type": "code",
   "execution_count": 4,
   "metadata": {},
   "outputs": [
    {
     "data": {
      "text/plain": [
       "pandas.core.frame.DataFrame"
      ]
     },
     "execution_count": 4,
     "metadata": {},
     "output_type": "execute_result"
    }
   ],
   "source": [
    "type(data2betested)"
   ]
  },
  {
   "cell_type": "markdown",
   "metadata": {},
   "source": [
    " - 1) Zeige eine kurze Vorschau der importierten Daten\n",
    " - 2) Weise die Datentypen aus\n",
    " - 3) Zeige die Shape (Umfang) des Datensatzes an"
   ]
  },
  {
   "cell_type": "code",
   "execution_count": 5,
   "metadata": {},
   "outputs": [
    {
     "data": {
      "text/html": [
       "<div>\n",
       "<style scoped>\n",
       "    .dataframe tbody tr th:only-of-type {\n",
       "        vertical-align: middle;\n",
       "    }\n",
       "\n",
       "    .dataframe tbody tr th {\n",
       "        vertical-align: top;\n",
       "    }\n",
       "\n",
       "    .dataframe thead th {\n",
       "        text-align: right;\n",
       "    }\n",
       "</style>\n",
       "<table border=\"1\" class=\"dataframe\">\n",
       "  <thead>\n",
       "    <tr style=\"text-align: right;\">\n",
       "      <th></th>\n",
       "      <th>StichtagDatJahr</th>\n",
       "      <th>Vorname</th>\n",
       "      <th>SexLang</th>\n",
       "      <th>AnzGebuWir</th>\n",
       "    </tr>\n",
       "  </thead>\n",
       "  <tbody>\n",
       "    <tr>\n",
       "      <th>0</th>\n",
       "      <td>1993</td>\n",
       "      <td>Abarna</td>\n",
       "      <td>weiblich</td>\n",
       "      <td>1</td>\n",
       "    </tr>\n",
       "    <tr>\n",
       "      <th>1</th>\n",
       "      <td>1993</td>\n",
       "      <td>Abetare</td>\n",
       "      <td>weiblich</td>\n",
       "      <td>1</td>\n",
       "    </tr>\n",
       "    <tr>\n",
       "      <th>2</th>\n",
       "      <td>1993</td>\n",
       "      <td>Abir</td>\n",
       "      <td>weiblich</td>\n",
       "      <td>1</td>\n",
       "    </tr>\n",
       "  </tbody>\n",
       "</table>\n",
       "</div>"
      ],
      "text/plain": [
       "   StichtagDatJahr  Vorname   SexLang  AnzGebuWir\n",
       "0             1993   Abarna  weiblich           1\n",
       "1             1993  Abetare  weiblich           1\n",
       "2             1993     Abir  weiblich           1"
      ]
     },
     "execution_count": 5,
     "metadata": {},
     "output_type": "execute_result"
    }
   ],
   "source": [
    "data2betested.head(3)"
   ]
  },
  {
   "cell_type": "code",
   "execution_count": 6,
   "metadata": {},
   "outputs": [
    {
     "data": {
      "text/plain": [
       "StichtagDatJahr     int64\n",
       "Vorname            object\n",
       "SexLang            object\n",
       "AnzGebuWir          int64\n",
       "dtype: object"
      ]
     },
     "execution_count": 6,
     "metadata": {},
     "output_type": "execute_result"
    }
   ],
   "source": [
    "data2betested.dtypes"
   ]
  },
  {
   "cell_type": "code",
   "execution_count": 7,
   "metadata": {},
   "outputs": [
    {
     "data": {
      "text/plain": [
       "(60412, 4)"
      ]
     },
     "execution_count": 7,
     "metadata": {},
     "output_type": "execute_result"
    }
   ],
   "source": [
    "data2betested.shape"
   ]
  },
  {
   "cell_type": "markdown",
   "metadata": {},
   "source": [
    "Beschreibe einzelne Attribute"
   ]
  },
  {
   "cell_type": "code",
   "execution_count": 8,
   "metadata": {},
   "outputs": [
    {
     "data": {
      "text/html": [
       "<div>\n",
       "<style scoped>\n",
       "    .dataframe tbody tr th:only-of-type {\n",
       "        vertical-align: middle;\n",
       "    }\n",
       "\n",
       "    .dataframe tbody tr th {\n",
       "        vertical-align: top;\n",
       "    }\n",
       "\n",
       "    .dataframe thead th {\n",
       "        text-align: right;\n",
       "    }\n",
       "</style>\n",
       "<table border=\"1\" class=\"dataframe\">\n",
       "  <thead>\n",
       "    <tr style=\"text-align: right;\">\n",
       "      <th></th>\n",
       "      <th>StichtagDatJahr</th>\n",
       "      <th>AnzGebuWir</th>\n",
       "    </tr>\n",
       "  </thead>\n",
       "  <tbody>\n",
       "    <tr>\n",
       "      <th>count</th>\n",
       "      <td>60412</td>\n",
       "      <td>60412</td>\n",
       "    </tr>\n",
       "    <tr>\n",
       "      <th>mean</th>\n",
       "      <td>2007</td>\n",
       "      <td>2</td>\n",
       "    </tr>\n",
       "    <tr>\n",
       "      <th>std</th>\n",
       "      <td>8</td>\n",
       "      <td>2</td>\n",
       "    </tr>\n",
       "    <tr>\n",
       "      <th>min</th>\n",
       "      <td>1993</td>\n",
       "      <td>1</td>\n",
       "    </tr>\n",
       "    <tr>\n",
       "      <th>25%</th>\n",
       "      <td>2001</td>\n",
       "      <td>1</td>\n",
       "    </tr>\n",
       "    <tr>\n",
       "      <th>50%</th>\n",
       "      <td>2008</td>\n",
       "      <td>1</td>\n",
       "    </tr>\n",
       "    <tr>\n",
       "      <th>75%</th>\n",
       "      <td>2014</td>\n",
       "      <td>2</td>\n",
       "    </tr>\n",
       "    <tr>\n",
       "      <th>max</th>\n",
       "      <td>2020</td>\n",
       "      <td>32</td>\n",
       "    </tr>\n",
       "  </tbody>\n",
       "</table>\n",
       "</div>"
      ],
      "text/plain": [
       "       StichtagDatJahr  AnzGebuWir\n",
       "count            60412       60412\n",
       "mean              2007           2\n",
       "std                  8           2\n",
       "min               1993           1\n",
       "25%               2001           1\n",
       "50%               2008           1\n",
       "75%               2014           2\n",
       "max               2020          32"
      ]
     },
     "execution_count": 8,
     "metadata": {},
     "output_type": "execute_result"
    }
   ],
   "source": [
    "data2betested.describe()"
   ]
  },
  {
   "cell_type": "markdown",
   "metadata": {},
   "source": [
    "Wie viele Nullwerte gibt es im Datensatz?"
   ]
  },
  {
   "cell_type": "code",
   "execution_count": 9,
   "metadata": {
    "scrolled": true
   },
   "outputs": [
    {
     "data": {
      "text/plain": [
       "StichtagDatJahr    0\n",
       "Vorname            0\n",
       "SexLang            0\n",
       "AnzGebuWir         0\n",
       "dtype: int64"
      ]
     },
     "execution_count": 9,
     "metadata": {},
     "output_type": "execute_result"
    }
   ],
   "source": [
    "data2betested.isnull().sum()"
   ]
  },
  {
   "cell_type": "markdown",
   "metadata": {},
   "source": [
    "Wandle die Spalte Jahr von Int zu **Datetime** um. Dies wird in den meisten Grafiken so benötigt."
   ]
  },
  {
   "cell_type": "code",
   "execution_count": 10,
   "metadata": {
    "scrolled": true
   },
   "outputs": [],
   "source": [
    "#data2betested['Jahrgang']=pd.to_datetime(data2betested['Jahrgang'], format='%Y')\n",
    "\n",
    "#TO DO --> setze das Datum auf den 31.12. der Jahres.\n",
    "#test=data2betested[['StichtagDatJahr']].date().replace(month=12, day=31)\n",
    "\n",
    "#data2betested"
   ]
  },
  {
   "cell_type": "markdown",
   "metadata": {},
   "source": [
    "Bereite die Daten für die Grafik unten vor"
   ]
  },
  {
   "cell_type": "code",
   "execution_count": 11,
   "metadata": {},
   "outputs": [
    {
     "data": {
      "text/html": [
       "<div>\n",
       "<style scoped>\n",
       "    .dataframe tbody tr th:only-of-type {\n",
       "        vertical-align: middle;\n",
       "    }\n",
       "\n",
       "    .dataframe tbody tr th {\n",
       "        vertical-align: top;\n",
       "    }\n",
       "\n",
       "    .dataframe thead th {\n",
       "        text-align: right;\n",
       "    }\n",
       "</style>\n",
       "<table border=\"1\" class=\"dataframe\">\n",
       "  <thead>\n",
       "    <tr style=\"text-align: right;\">\n",
       "      <th></th>\n",
       "      <th>StichtagDatJahr</th>\n",
       "      <th>Vorname</th>\n",
       "      <th>SexLang</th>\n",
       "      <th>AnzGebuWir</th>\n",
       "    </tr>\n",
       "  </thead>\n",
       "  <tbody>\n",
       "    <tr>\n",
       "      <th>0</th>\n",
       "      <td>1993</td>\n",
       "      <td>Abarna</td>\n",
       "      <td>weiblich</td>\n",
       "      <td>1</td>\n",
       "    </tr>\n",
       "    <tr>\n",
       "      <th>1</th>\n",
       "      <td>1993</td>\n",
       "      <td>Abetare</td>\n",
       "      <td>weiblich</td>\n",
       "      <td>1</td>\n",
       "    </tr>\n",
       "    <tr>\n",
       "      <th>2</th>\n",
       "      <td>1993</td>\n",
       "      <td>Abir</td>\n",
       "      <td>weiblich</td>\n",
       "      <td>1</td>\n",
       "    </tr>\n",
       "    <tr>\n",
       "      <th>3</th>\n",
       "      <td>1993</td>\n",
       "      <td>Abirami</td>\n",
       "      <td>weiblich</td>\n",
       "      <td>1</td>\n",
       "    </tr>\n",
       "    <tr>\n",
       "      <th>4</th>\n",
       "      <td>1993</td>\n",
       "      <td>Adelaide</td>\n",
       "      <td>weiblich</td>\n",
       "      <td>1</td>\n",
       "    </tr>\n",
       "    <tr>\n",
       "      <th>...</th>\n",
       "      <td>...</td>\n",
       "      <td>...</td>\n",
       "      <td>...</td>\n",
       "      <td>...</td>\n",
       "    </tr>\n",
       "    <tr>\n",
       "      <th>28724</th>\n",
       "      <td>2020</td>\n",
       "      <td>Aarna</td>\n",
       "      <td>weiblich</td>\n",
       "      <td>1</td>\n",
       "    </tr>\n",
       "    <tr>\n",
       "      <th>28725</th>\n",
       "      <td>2020</td>\n",
       "      <td>Aaruja</td>\n",
       "      <td>weiblich</td>\n",
       "      <td>1</td>\n",
       "    </tr>\n",
       "    <tr>\n",
       "      <th>28726</th>\n",
       "      <td>2020</td>\n",
       "      <td>Aavni</td>\n",
       "      <td>weiblich</td>\n",
       "      <td>1</td>\n",
       "    </tr>\n",
       "    <tr>\n",
       "      <th>28727</th>\n",
       "      <td>2020</td>\n",
       "      <td>Abby</td>\n",
       "      <td>weiblich</td>\n",
       "      <td>1</td>\n",
       "    </tr>\n",
       "    <tr>\n",
       "      <th>28728</th>\n",
       "      <td>2020</td>\n",
       "      <td>Abigail</td>\n",
       "      <td>weiblich</td>\n",
       "      <td>1</td>\n",
       "    </tr>\n",
       "  </tbody>\n",
       "</table>\n",
       "<p>140 rows × 4 columns</p>\n",
       "</div>"
      ],
      "text/plain": [
       "       StichtagDatJahr   Vorname   SexLang  AnzGebuWir\n",
       "0                 1993    Abarna  weiblich           1\n",
       "1                 1993   Abetare  weiblich           1\n",
       "2                 1993      Abir  weiblich           1\n",
       "3                 1993   Abirami  weiblich           1\n",
       "4                 1993  Adelaide  weiblich           1\n",
       "...                ...       ...       ...         ...\n",
       "28724             2020     Aarna  weiblich           1\n",
       "28725             2020    Aaruja  weiblich           1\n",
       "28726             2020     Aavni  weiblich           1\n",
       "28727             2020      Abby  weiblich           1\n",
       "28728             2020   Abigail  weiblich           1\n",
       "\n",
       "[140 rows x 4 columns]"
      ]
     },
     "execution_count": 11,
     "metadata": {},
     "output_type": "execute_result"
    }
   ],
   "source": [
    "grp_jahr = data2betested.groupby(\"StichtagDatJahr\")\n",
    "\n",
    "len(grp_jahr)\n",
    "grp_jahr.head()\n",
    "\n"
   ]
  },
  {
   "cell_type": "code",
   "execution_count": 12,
   "metadata": {},
   "outputs": [
    {
     "name": "stdout",
     "output_type": "stream",
     "text": [
      "1993 1651\n",
      "1994 1779\n",
      "1995 1774\n",
      "1996 1854\n",
      "1997 1804\n",
      "1998 1921\n",
      "1999 1932\n",
      "2000 2003\n",
      "2001 1942\n",
      "2002 2024\n",
      "2003 2061\n",
      "2004 2062\n",
      "2005 2110\n",
      "2006 2239\n",
      "2007 2149\n",
      "2008 2243\n",
      "2009 2332\n",
      "2010 2244\n",
      "2011 2361\n",
      "2012 2358\n",
      "2013 2418\n",
      "2014 2505\n",
      "2015 2504\n",
      "2016 2457\n",
      "2017 2470\n",
      "2018 2357\n",
      "2019 2413\n",
      "2020 2445\n"
     ]
    }
   ],
   "source": [
    "for key, group in grp_jahr:\n",
    "    print(key, len(group))\n"
   ]
  },
  {
   "cell_type": "code",
   "execution_count": 13,
   "metadata": {},
   "outputs": [],
   "source": [
    "#myJahr = \"2019-01-01\"\n",
    "#aktuellesJahr=Jahre.get_group(myJahr)   \n",
    "#aktuellesJahr"
   ]
  },
  {
   "cell_type": "markdown",
   "metadata": {},
   "source": [
    "**Selektionen und Aggregationen**\n",
    "\n",
    "Check this [Doku](https://www.shanelynn.ie/summarising-aggregation-and-grouping-data-in-python-pandas/)"
   ]
  },
  {
   "cell_type": "code",
   "execution_count": 14,
   "metadata": {},
   "outputs": [],
   "source": [
    "med_gebjahr_sex = data2betested.groupby(['StichtagDatJahr','SexLang'])[['AnzGebuWir']].agg('median')\n",
    "anz_vn_gebjahr_sex = data2betested.groupby(['StichtagDatJahr', 'SexLang','Vorname' ])[['AnzGebuWir']].sum()\n",
    "anz_vn_sex= data2betested.groupby(['SexLang','Vorname' ])[['AnzGebuWir']].sum()\n",
    "\n",
    "# produces Pandas Series\n",
    "    #data2betested.groupby(['StichtagDatJahr', 'KonOGDSort'])['AnzBestWir'].sum()\n",
    "# Produces Pandas DataFrame\n",
    "    #data2betested.groupby(['StichtagDatJahr', 'KonOGDSort'])[['AnzBestWir']].sum()\n",
    "\n",
    "\n",
    "\n",
    " "
   ]
  },
  {
   "cell_type": "markdown",
   "metadata": {},
   "source": [
    "Sortiere einen DataFrame"
   ]
  },
  {
   "cell_type": "code",
   "execution_count": 15,
   "metadata": {},
   "outputs": [
    {
     "data": {
      "text/html": [
       "<div>\n",
       "<style scoped>\n",
       "    .dataframe tbody tr th:only-of-type {\n",
       "        vertical-align: middle;\n",
       "    }\n",
       "\n",
       "    .dataframe tbody tr th {\n",
       "        vertical-align: top;\n",
       "    }\n",
       "\n",
       "    .dataframe thead th {\n",
       "        text-align: right;\n",
       "    }\n",
       "</style>\n",
       "<table border=\"1\" class=\"dataframe\">\n",
       "  <thead>\n",
       "    <tr style=\"text-align: right;\">\n",
       "      <th></th>\n",
       "      <th></th>\n",
       "      <th></th>\n",
       "      <th>AnzGebuWir</th>\n",
       "    </tr>\n",
       "    <tr>\n",
       "      <th>StichtagDatJahr</th>\n",
       "      <th>SexLang</th>\n",
       "      <th>Vorname</th>\n",
       "      <th></th>\n",
       "    </tr>\n",
       "  </thead>\n",
       "  <tbody>\n",
       "    <tr>\n",
       "      <th>2014</th>\n",
       "      <th>weiblich</th>\n",
       "      <th>Emma</th>\n",
       "      <td>32</td>\n",
       "    </tr>\n",
       "    <tr>\n",
       "      <th>2013</th>\n",
       "      <th>weiblich</th>\n",
       "      <th>Anna</th>\n",
       "      <td>31</td>\n",
       "    </tr>\n",
       "    <tr>\n",
       "      <th>1993</th>\n",
       "      <th>weiblich</th>\n",
       "      <th>Laura</th>\n",
       "      <td>31</td>\n",
       "    </tr>\n",
       "    <tr>\n",
       "      <th>1998</th>\n",
       "      <th>weiblich</th>\n",
       "      <th>Laura</th>\n",
       "      <td>31</td>\n",
       "    </tr>\n",
       "    <tr>\n",
       "      <th>2016</th>\n",
       "      <th>männlich</th>\n",
       "      <th>Louis</th>\n",
       "      <td>30</td>\n",
       "    </tr>\n",
       "    <tr>\n",
       "      <th>...</th>\n",
       "      <th>...</th>\n",
       "      <th>...</th>\n",
       "      <td>...</td>\n",
       "    </tr>\n",
       "    <tr>\n",
       "      <th rowspan=\"4\" valign=\"top\">2005</th>\n",
       "      <th rowspan=\"4\" valign=\"top\">männlich</th>\n",
       "      <th>Henri</th>\n",
       "      <td>1</td>\n",
       "    </tr>\n",
       "    <tr>\n",
       "      <th>Hersch</th>\n",
       "      <td>1</td>\n",
       "    </tr>\n",
       "    <tr>\n",
       "      <th>Hervé</th>\n",
       "      <td>1</td>\n",
       "    </tr>\n",
       "    <tr>\n",
       "      <th>Heschy</th>\n",
       "      <td>1</td>\n",
       "    </tr>\n",
       "    <tr>\n",
       "      <th>2020</th>\n",
       "      <th>weiblich</th>\n",
       "      <th>Íris</th>\n",
       "      <td>1</td>\n",
       "    </tr>\n",
       "  </tbody>\n",
       "</table>\n",
       "<p>60412 rows × 1 columns</p>\n",
       "</div>"
      ],
      "text/plain": [
       "                                  AnzGebuWir\n",
       "StichtagDatJahr SexLang  Vorname            \n",
       "2014            weiblich Emma             32\n",
       "2013            weiblich Anna             31\n",
       "1993            weiblich Laura            31\n",
       "1998            weiblich Laura            31\n",
       "2016            männlich Louis            30\n",
       "...                                      ...\n",
       "2005            männlich Henri             1\n",
       "                         Hersch            1\n",
       "                         Hervé             1\n",
       "                         Heschy            1\n",
       "2020            weiblich Íris              1\n",
       "\n",
       "[60412 rows x 1 columns]"
      ]
     },
     "execution_count": 15,
     "metadata": {},
     "output_type": "execute_result"
    }
   ],
   "source": [
    "anz_vn_gebjahr_sex.sort_values(by='AnzGebuWir', ascending=False, na_position='first')"
   ]
  },
  {
   "cell_type": "markdown",
   "metadata": {},
   "source": [
    "Sortiere eine «Series»"
   ]
  },
  {
   "cell_type": "code",
   "execution_count": 16,
   "metadata": {},
   "outputs": [
    {
     "data": {
      "text/plain": [
       "SexLang   Vorname  \n",
       "männlich  David        577\n",
       "weiblich  Anna         561\n",
       "          Laura        475\n",
       "          Sara         438\n",
       "männlich  Noah         422\n",
       "                      ... \n",
       "          Shreyas        1\n",
       "          Shrivatsa      1\n",
       "          Shuaib         1\n",
       "          Shuajb         1\n",
       "weiblich  Ümü            1\n",
       "Name: AnzGebuWir, Length: 20957, dtype: int64"
      ]
     },
     "execution_count": 16,
     "metadata": {},
     "output_type": "execute_result"
    }
   ],
   "source": [
    "# Diese Aggregation führt zu einem DataFrame. Dieser muss wie vorher gezeigt sortiert werden.\n",
    "# anz_vn_sex= data2betested.groupby(['SexLang','Vorname' ])[['AnzGebuWir']].sum()\n",
    "\n",
    "#Folgende Aggregation führt zu einer Series, die anders als ein DF sortiert wird:\n",
    "anz_vn_sex= data2betested.groupby(['SexLang','Vorname' ])['AnzGebuWir'].sum()\n",
    "\n",
    "anz_vn_sex.sort_values(ascending=False, inplace=True, na_position='first')\n",
    "anz_vn_sex\n"
   ]
  },
  {
   "cell_type": "markdown",
   "metadata": {},
   "source": [
    "**Einfache Visualisierungen zur Plausi**"
   ]
  },
  {
   "cell_type": "markdown",
   "metadata": {},
   "source": [
    "Exploriere die Daten mit Pivottable.JS"
   ]
  },
  {
   "cell_type": "code",
   "execution_count": 17,
   "metadata": {},
   "outputs": [
    {
     "data": {
      "text/html": [
       "\n",
       "        <iframe\n",
       "            width=\"100%\"\n",
       "            height=\"500\"\n",
       "            src=\"pivottablejs.html\"\n",
       "            frameborder=\"0\"\n",
       "            allowfullscreen\n",
       "        ></iframe>\n",
       "        "
      ],
      "text/plain": [
       "<IPython.lib.display.IFrame at 0x1f9233da130>"
      ]
     },
     "execution_count": 17,
     "metadata": {},
     "output_type": "execute_result"
    }
   ],
   "source": [
    "from pivottablejs import pivot_ui\n",
    "\n",
    "pivot_ui(data2betested)"
   ]
  },
  {
   "cell_type": "markdown",
   "metadata": {},
   "source": [
    "**Liniendiagramm Mit Altair**\n",
    "\n",
    "[Link zur Altair-Doku](https://altair-viz.github.io/gallery/multiline_highlight.html)"
   ]
  },
  {
   "cell_type": "markdown",
   "metadata": {},
   "source": [
    "Füge eine Variablen hinzu, welche den ersten, den zweiten und die ersten beiden Buchstaben des Namens angeben."
   ]
  },
  {
   "cell_type": "code",
   "execution_count": 18,
   "metadata": {},
   "outputs": [
    {
     "name": "stdout",
     "output_type": "stream",
     "text": [
      "       StichtagDatJahr  Vorname   SexLang  AnzGebuWir FirstLetter SecondLetter FirstTwoLetters\n",
      "21853             2014     Emma  weiblich          32           E            m              Em\n",
      "20412             2013     Anna  weiblich          31           A            n              An\n",
      "424               1993    Laura  weiblich          31           L            a              La\n",
      "4890              1998    Laura  weiblich          31           L            a              La\n",
      "54937             2016    Louis  männlich          30           L            o              Lo\n",
      "...                ...      ...       ...         ...         ...          ...             ...\n",
      "23283             2015     Kali  weiblich           1           K            a              Ka\n",
      "23284             2015  Kamille  weiblich           1           K            a              Ka\n",
      "23285             2015    Kaona  weiblich           1           K            a              Ka\n",
      "23286             2015    Karen  weiblich           1           K            a              Ka\n",
      "60411             2020   Zumhan  männlich           1           Z            u              Zu\n",
      "\n",
      "[60412 rows x 7 columns]\n"
     ]
    }
   ],
   "source": [
    "data2betested[\"FirstLetter\"]= data2betested[\"Vorname\"].astype(str).str[0]\n",
    "data2betested[\"SecondLetter\"]= data2betested[\"Vorname\"].astype(str).str[1]\n",
    "data2betested[\"FirstTwoLetters\"]= data2betested[\"Vorname\"].str.slice(stop=2)\n",
    "data2betested.sort_values(by='AnzGebuWir', ascending=False, inplace=True, na_position='first')\n",
    "#.str[0]\n",
    "#data2betested[\"StartLetter\"]= data2betested[\"Vorname\"].str.extract(r\"(\\d{2})\")\n",
    "print(data2betested)"
   ]
  },
  {
   "cell_type": "code",
   "execution_count": 19,
   "metadata": {},
   "outputs": [
    {
     "data": {
      "text/html": [
       "<div>\n",
       "<style scoped>\n",
       "    .dataframe tbody tr th:only-of-type {\n",
       "        vertical-align: middle;\n",
       "    }\n",
       "\n",
       "    .dataframe tbody tr th {\n",
       "        vertical-align: top;\n",
       "    }\n",
       "\n",
       "    .dataframe thead th {\n",
       "        text-align: right;\n",
       "    }\n",
       "</style>\n",
       "<table border=\"1\" class=\"dataframe\">\n",
       "  <thead>\n",
       "    <tr style=\"text-align: right;\">\n",
       "      <th></th>\n",
       "      <th></th>\n",
       "      <th>AnzGebuWir</th>\n",
       "    </tr>\n",
       "    <tr>\n",
       "      <th>Vorname</th>\n",
       "      <th>SexLang</th>\n",
       "      <th></th>\n",
       "    </tr>\n",
       "  </thead>\n",
       "  <tbody>\n",
       "    <tr>\n",
       "      <th>Anna</th>\n",
       "      <th>weiblich</th>\n",
       "      <td>60</td>\n",
       "    </tr>\n",
       "    <tr>\n",
       "      <th>Emma</th>\n",
       "      <th>weiblich</th>\n",
       "      <td>45</td>\n",
       "    </tr>\n",
       "    <tr>\n",
       "      <th>Julia</th>\n",
       "      <th>weiblich</th>\n",
       "      <td>41</td>\n",
       "    </tr>\n",
       "    <tr>\n",
       "      <th>Sara</th>\n",
       "      <th>weiblich</th>\n",
       "      <td>37</td>\n",
       "    </tr>\n",
       "    <tr>\n",
       "      <th>Elin</th>\n",
       "      <th>weiblich</th>\n",
       "      <td>36</td>\n",
       "    </tr>\n",
       "  </tbody>\n",
       "</table>\n",
       "</div>"
      ],
      "text/plain": [
       "                  AnzGebuWir\n",
       "Vorname SexLang             \n",
       "Anna    weiblich          60\n",
       "Emma    weiblich          45\n",
       "Julia   weiblich          41\n",
       "Sara    weiblich          37\n",
       "Elin    weiblich          36"
      ]
     },
     "execution_count": 19,
     "metadata": {},
     "output_type": "execute_result"
    }
   ],
   "source": [
    "mySelection = data2betested[(data2betested.StichtagDatJahr>2011) & (data2betested.StichtagDatJahr<2014) & (data2betested.SexLang=='weiblich')]\n",
    "agg_mySelection= mySelection.groupby(['Vorname', 'SexLang' ])[['AnzGebuWir']].sum()\n",
    "agg_mySelection.sort_values(by='AnzGebuWir', ascending=False, inplace=True)\n",
    "agg_mySelection.head()\n",
    "#mySelection.head()\n",
    "#agg_mySelection.dtypes\n"
   ]
  },
  {
   "cell_type": "code",
   "execution_count": 20,
   "metadata": {},
   "outputs": [
    {
     "data": {
      "text/html": [
       "<div>\n",
       "<style scoped>\n",
       "    .dataframe tbody tr th:only-of-type {\n",
       "        vertical-align: middle;\n",
       "    }\n",
       "\n",
       "    .dataframe tbody tr th {\n",
       "        vertical-align: top;\n",
       "    }\n",
       "\n",
       "    .dataframe thead th {\n",
       "        text-align: right;\n",
       "    }\n",
       "</style>\n",
       "<table border=\"1\" class=\"dataframe\">\n",
       "  <thead>\n",
       "    <tr style=\"text-align: right;\">\n",
       "      <th></th>\n",
       "      <th>StichtagDatJahr</th>\n",
       "      <th>Vorname</th>\n",
       "      <th>SexLang</th>\n",
       "      <th>AnzGebuWir</th>\n",
       "      <th>FirstLetter</th>\n",
       "      <th>SecondLetter</th>\n",
       "      <th>FirstTwoLetters</th>\n",
       "    </tr>\n",
       "  </thead>\n",
       "  <tbody>\n",
       "    <tr>\n",
       "      <th>20412</th>\n",
       "      <td>2013</td>\n",
       "      <td>Anna</td>\n",
       "      <td>weiblich</td>\n",
       "      <td>31</td>\n",
       "      <td>A</td>\n",
       "      <td>n</td>\n",
       "      <td>An</td>\n",
       "    </tr>\n",
       "    <tr>\n",
       "      <th>19274</th>\n",
       "      <td>2012</td>\n",
       "      <td>Anna</td>\n",
       "      <td>weiblich</td>\n",
       "      <td>29</td>\n",
       "      <td>A</td>\n",
       "      <td>n</td>\n",
       "      <td>An</td>\n",
       "    </tr>\n",
       "    <tr>\n",
       "      <th>19487</th>\n",
       "      <td>2012</td>\n",
       "      <td>Emma</td>\n",
       "      <td>weiblich</td>\n",
       "      <td>24</td>\n",
       "      <td>E</td>\n",
       "      <td>m</td>\n",
       "      <td>Em</td>\n",
       "    </tr>\n",
       "    <tr>\n",
       "      <th>21299</th>\n",
       "      <td>2013</td>\n",
       "      <td>Sara</td>\n",
       "      <td>weiblich</td>\n",
       "      <td>23</td>\n",
       "      <td>S</td>\n",
       "      <td>a</td>\n",
       "      <td>Sa</td>\n",
       "    </tr>\n",
       "    <tr>\n",
       "      <th>20824</th>\n",
       "      <td>2013</td>\n",
       "      <td>Julia</td>\n",
       "      <td>weiblich</td>\n",
       "      <td>21</td>\n",
       "      <td>J</td>\n",
       "      <td>u</td>\n",
       "      <td>Ju</td>\n",
       "    </tr>\n",
       "    <tr>\n",
       "      <th>...</th>\n",
       "      <td>...</td>\n",
       "      <td>...</td>\n",
       "      <td>...</td>\n",
       "      <td>...</td>\n",
       "      <td>...</td>\n",
       "      <td>...</td>\n",
       "      <td>...</td>\n",
       "    </tr>\n",
       "    <tr>\n",
       "      <th>19383</th>\n",
       "      <td>2012</td>\n",
       "      <td>Chrisbely</td>\n",
       "      <td>weiblich</td>\n",
       "      <td>1</td>\n",
       "      <td>C</td>\n",
       "      <td>h</td>\n",
       "      <td>Ch</td>\n",
       "    </tr>\n",
       "    <tr>\n",
       "      <th>19384</th>\n",
       "      <td>2012</td>\n",
       "      <td>Christiana</td>\n",
       "      <td>weiblich</td>\n",
       "      <td>1</td>\n",
       "      <td>C</td>\n",
       "      <td>h</td>\n",
       "      <td>Ch</td>\n",
       "    </tr>\n",
       "    <tr>\n",
       "      <th>19385</th>\n",
       "      <td>2012</td>\n",
       "      <td>Christina</td>\n",
       "      <td>weiblich</td>\n",
       "      <td>1</td>\n",
       "      <td>C</td>\n",
       "      <td>h</td>\n",
       "      <td>Ch</td>\n",
       "    </tr>\n",
       "    <tr>\n",
       "      <th>19386</th>\n",
       "      <td>2012</td>\n",
       "      <td>Ciara</td>\n",
       "      <td>weiblich</td>\n",
       "      <td>1</td>\n",
       "      <td>C</td>\n",
       "      <td>i</td>\n",
       "      <td>Ci</td>\n",
       "    </tr>\n",
       "    <tr>\n",
       "      <th>19387</th>\n",
       "      <td>2012</td>\n",
       "      <td>Cilgia</td>\n",
       "      <td>weiblich</td>\n",
       "      <td>1</td>\n",
       "      <td>C</td>\n",
       "      <td>i</td>\n",
       "      <td>Ci</td>\n",
       "    </tr>\n",
       "  </tbody>\n",
       "</table>\n",
       "<p>2352 rows × 7 columns</p>\n",
       "</div>"
      ],
      "text/plain": [
       "       StichtagDatJahr     Vorname   SexLang  AnzGebuWir FirstLetter SecondLetter FirstTwoLetters\n",
       "20412             2013        Anna  weiblich          31           A            n              An\n",
       "19274             2012        Anna  weiblich          29           A            n              An\n",
       "19487             2012        Emma  weiblich          24           E            m              Em\n",
       "21299             2013        Sara  weiblich          23           S            a              Sa\n",
       "20824             2013       Julia  weiblich          21           J            u              Ju\n",
       "...                ...         ...       ...         ...         ...          ...             ...\n",
       "19383             2012   Chrisbely  weiblich           1           C            h              Ch\n",
       "19384             2012  Christiana  weiblich           1           C            h              Ch\n",
       "19385             2012   Christina  weiblich           1           C            h              Ch\n",
       "19386             2012       Ciara  weiblich           1           C            i              Ci\n",
       "19387             2012      Cilgia  weiblich           1           C            i              Ci\n",
       "\n",
       "[2352 rows x 7 columns]"
      ]
     },
     "execution_count": 20,
     "metadata": {},
     "output_type": "execute_result"
    }
   ],
   "source": [
    "mySelection\n"
   ]
  },
  {
   "cell_type": "markdown",
   "metadata": {},
   "source": [
    "**Erster Test mit Altair-Liniengrafik**\n",
    "\n",
    "[Link](https://altair-viz.github.io/gallery/multiline_highlight.html)"
   ]
  },
  {
   "cell_type": "code",
   "execution_count": 21,
   "metadata": {},
   "outputs": [],
   "source": [
    "myGraphic=data2betested[ (data2betested.StichtagDatJahr>2018) & (data2betested.FirstTwoLetters==\"La\") | (data2betested.FirstTwoLetters==\"Lo\") & (data2betested.SexLang==\"weiblich\")]\n",
    "# --> Weshalb wir die Bedingung auf die Jahre nicht übernommen? \n",
    "# --> so würde es in einem 2. Schritt gehen. \n",
    "# myGraphic=myGraphicPart[ (myGraphicPart.StichtagDatJahr>2012)]\n",
    "\n"
   ]
  },
  {
   "cell_type": "code",
   "execution_count": 22,
   "metadata": {},
   "outputs": [
    {
     "data": {
      "text/html": [
       "\n",
       "<div id=\"altair-viz-678a250d8b6d494f88f67a8adf86d65e\"></div>\n",
       "<script type=\"text/javascript\">\n",
       "  (function(spec, embedOpt){\n",
       "    let outputDiv = document.currentScript.previousElementSibling;\n",
       "    if (outputDiv.id !== \"altair-viz-678a250d8b6d494f88f67a8adf86d65e\") {\n",
       "      outputDiv = document.getElementById(\"altair-viz-678a250d8b6d494f88f67a8adf86d65e\");\n",
       "    }\n",
       "    const paths = {\n",
       "      \"vega\": \"https://cdn.jsdelivr.net/npm//vega@5?noext\",\n",
       "      \"vega-lib\": \"https://cdn.jsdelivr.net/npm//vega-lib?noext\",\n",
       "      \"vega-lite\": \"https://cdn.jsdelivr.net/npm//vega-lite@4.8.1?noext\",\n",
       "      \"vega-embed\": \"https://cdn.jsdelivr.net/npm//vega-embed@6?noext\",\n",
       "    };\n",
       "\n",
       "    function loadScript(lib) {\n",
       "      return new Promise(function(resolve, reject) {\n",
       "        var s = document.createElement('script');\n",
       "        s.src = paths[lib];\n",
       "        s.async = true;\n",
       "        s.onload = () => resolve(paths[lib]);\n",
       "        s.onerror = () => reject(`Error loading script: ${paths[lib]}`);\n",
       "        document.getElementsByTagName(\"head\")[0].appendChild(s);\n",
       "      });\n",
       "    }\n",
       "\n",
       "    function showError(err) {\n",
       "      outputDiv.innerHTML = `<div class=\"error\" style=\"color:red;\">${err}</div>`;\n",
       "      throw err;\n",
       "    }\n",
       "\n",
       "    function displayChart(vegaEmbed) {\n",
       "      vegaEmbed(outputDiv, spec, embedOpt)\n",
       "        .catch(err => showError(`Javascript Error: ${err.message}<br>This usually means there's a typo in your chart specification. See the javascript console for the full traceback.`));\n",
       "    }\n",
       "\n",
       "    if(typeof define === \"function\" && define.amd) {\n",
       "      requirejs.config({paths});\n",
       "      require([\"vega-embed\"], displayChart, err => showError(`Error loading script: ${err.message}`));\n",
       "    } else if (typeof vegaEmbed === \"function\") {\n",
       "      displayChart(vegaEmbed);\n",
       "    } else {\n",
       "      loadScript(\"vega\")\n",
       "        .then(() => loadScript(\"vega-lite\"))\n",
       "        .then(() => loadScript(\"vega-embed\"))\n",
       "        .catch(showError)\n",
       "        .then(() => displayChart(vegaEmbed));\n",
       "    }\n",
       "  })({\"config\": {\"view\": {\"continuousWidth\": 400, \"continuousHeight\": 300}}, \"layer\": [{\"mark\": \"circle\", \"encoding\": {\"color\": {\"type\": \"nominal\", \"field\": \"Vorname\"}, \"opacity\": {\"value\": 0.75}, \"x\": {\"type\": \"nominal\", \"field\": \"StichtagDatJahr\"}, \"y\": {\"type\": \"quantitative\", \"field\": \"AnzGebuWir\"}}, \"height\": 400, \"selection\": {\"selector001\": {\"type\": \"single\", \"on\": \"mouseover\", \"fields\": [\"symbol\"], \"nearest\": true}}, \"width\": 900}, {\"mark\": \"line\", \"encoding\": {\"color\": {\"type\": \"nominal\", \"field\": \"Vorname\"}, \"size\": {\"condition\": {\"value\": 1.5, \"selection\": {\"not\": \"selector001\"}}, \"value\": 4}, \"x\": {\"type\": \"nominal\", \"field\": \"StichtagDatJahr\"}, \"y\": {\"type\": \"quantitative\", \"field\": \"AnzGebuWir\"}}, \"selection\": {\"selector002\": {\"type\": \"interval\", \"bind\": \"scales\", \"encodings\": [\"x\", \"y\"]}}}], \"data\": {\"name\": \"data-9b413cbbc891522139f794b24f12c4b8\"}, \"$schema\": \"https://vega.github.io/schema/vega-lite/v4.8.1.json\", \"datasets\": {\"data-9b413cbbc891522139f794b24f12c4b8\": [{\"StichtagDatJahr\": 2019, \"Vorname\": \"Lara\", \"SexLang\": \"weiblich\", \"AnzGebuWir\": 20, \"FirstLetter\": \"L\", \"SecondLetter\": \"a\", \"FirstTwoLetters\": \"La\"}, {\"StichtagDatJahr\": 2019, \"Vorname\": \"Laura\", \"SexLang\": \"weiblich\", \"AnzGebuWir\": 16, \"FirstLetter\": \"L\", \"SecondLetter\": \"a\", \"FirstTwoLetters\": \"La\"}, {\"StichtagDatJahr\": 2010, \"Vorname\": \"Lorena\", \"SexLang\": \"weiblich\", \"AnzGebuWir\": 11, \"FirstLetter\": \"L\", \"SecondLetter\": \"o\", \"FirstTwoLetters\": \"Lo\"}, {\"StichtagDatJahr\": 2020, \"Vorname\": \"Lara\", \"SexLang\": \"weiblich\", \"AnzGebuWir\": 10, \"FirstLetter\": \"L\", \"SecondLetter\": \"a\", \"FirstTwoLetters\": \"La\"}, {\"StichtagDatJahr\": 2017, \"Vorname\": \"Lou\", \"SexLang\": \"weiblich\", \"AnzGebuWir\": 9, \"FirstLetter\": \"L\", \"SecondLetter\": \"o\", \"FirstTwoLetters\": \"Lo\"}, {\"StichtagDatJahr\": 2020, \"Vorname\": \"Laurin\", \"SexLang\": \"m\\u00e4nnlich\", \"AnzGebuWir\": 9, \"FirstLetter\": \"L\", \"SecondLetter\": \"a\", \"FirstTwoLetters\": \"La\"}, {\"StichtagDatJahr\": 2020, \"Vorname\": \"Laura\", \"SexLang\": \"weiblich\", \"AnzGebuWir\": 8, \"FirstLetter\": \"L\", \"SecondLetter\": \"a\", \"FirstTwoLetters\": \"La\"}, {\"StichtagDatJahr\": 1995, \"Vorname\": \"Lorena\", \"SexLang\": \"weiblich\", \"AnzGebuWir\": 8, \"FirstLetter\": \"L\", \"SecondLetter\": \"o\", \"FirstTwoLetters\": \"Lo\"}, {\"StichtagDatJahr\": 2014, \"Vorname\": \"Louise\", \"SexLang\": \"weiblich\", \"AnzGebuWir\": 8, \"FirstLetter\": \"L\", \"SecondLetter\": \"o\", \"FirstTwoLetters\": \"Lo\"}, {\"StichtagDatJahr\": 2019, \"Vorname\": \"Laurin\", \"SexLang\": \"m\\u00e4nnlich\", \"AnzGebuWir\": 8, \"FirstLetter\": \"L\", \"SecondLetter\": \"a\", \"FirstTwoLetters\": \"La\"}, {\"StichtagDatJahr\": 2007, \"Vorname\": \"Lou\", \"SexLang\": \"weiblich\", \"AnzGebuWir\": 8, \"FirstLetter\": \"L\", \"SecondLetter\": \"o\", \"FirstTwoLetters\": \"Lo\"}, {\"StichtagDatJahr\": 2003, \"Vorname\": \"Lorena\", \"SexLang\": \"weiblich\", \"AnzGebuWir\": 8, \"FirstLetter\": \"L\", \"SecondLetter\": \"o\", \"FirstTwoLetters\": \"Lo\"}, {\"StichtagDatJahr\": 2013, \"Vorname\": \"Lorena\", \"SexLang\": \"weiblich\", \"AnzGebuWir\": 8, \"FirstLetter\": \"L\", \"SecondLetter\": \"o\", \"FirstTwoLetters\": \"Lo\"}, {\"StichtagDatJahr\": 2013, \"Vorname\": \"Louise\", \"SexLang\": \"weiblich\", \"AnzGebuWir\": 8, \"FirstLetter\": \"L\", \"SecondLetter\": \"o\", \"FirstTwoLetters\": \"Lo\"}, {\"StichtagDatJahr\": 2009, \"Vorname\": \"Louise\", \"SexLang\": \"weiblich\", \"AnzGebuWir\": 8, \"FirstLetter\": \"L\", \"SecondLetter\": \"o\", \"FirstTwoLetters\": \"Lo\"}, {\"StichtagDatJahr\": 2013, \"Vorname\": \"Louisa\", \"SexLang\": \"weiblich\", \"AnzGebuWir\": 7, \"FirstLetter\": \"L\", \"SecondLetter\": \"o\", \"FirstTwoLetters\": \"Lo\"}, {\"StichtagDatJahr\": 2020, \"Vorname\": \"Lars\", \"SexLang\": \"m\\u00e4nnlich\", \"AnzGebuWir\": 7, \"FirstLetter\": \"L\", \"SecondLetter\": \"a\", \"FirstTwoLetters\": \"La\"}, {\"StichtagDatJahr\": 2020, \"Vorname\": \"Lou\", \"SexLang\": \"weiblich\", \"AnzGebuWir\": 7, \"FirstLetter\": \"L\", \"SecondLetter\": \"o\", \"FirstTwoLetters\": \"Lo\"}, {\"StichtagDatJahr\": 2019, \"Vorname\": \"Louisa\", \"SexLang\": \"weiblich\", \"AnzGebuWir\": 7, \"FirstLetter\": \"L\", \"SecondLetter\": \"o\", \"FirstTwoLetters\": \"Lo\"}, {\"StichtagDatJahr\": 2019, \"Vorname\": \"Lotta\", \"SexLang\": \"weiblich\", \"AnzGebuWir\": 7, \"FirstLetter\": \"L\", \"SecondLetter\": \"o\", \"FirstTwoLetters\": \"Lo\"}, {\"StichtagDatJahr\": 2018, \"Vorname\": \"Lorena\", \"SexLang\": \"weiblich\", \"AnzGebuWir\": 7, \"FirstLetter\": \"L\", \"SecondLetter\": \"o\", \"FirstTwoLetters\": \"Lo\"}, {\"StichtagDatJahr\": 2018, \"Vorname\": \"Lou\", \"SexLang\": \"weiblich\", \"AnzGebuWir\": 7, \"FirstLetter\": \"L\", \"SecondLetter\": \"o\", \"FirstTwoLetters\": \"Lo\"}, {\"StichtagDatJahr\": 2019, \"Vorname\": \"Lars\", \"SexLang\": \"m\\u00e4nnlich\", \"AnzGebuWir\": 7, \"FirstLetter\": \"L\", \"SecondLetter\": \"a\", \"FirstTwoLetters\": \"La\"}, {\"StichtagDatJahr\": 2010, \"Vorname\": \"Lou\", \"SexLang\": \"weiblich\", \"AnzGebuWir\": 7, \"FirstLetter\": \"L\", \"SecondLetter\": \"o\", \"FirstTwoLetters\": \"Lo\"}, {\"StichtagDatJahr\": 2010, \"Vorname\": \"Louise\", \"SexLang\": \"weiblich\", \"AnzGebuWir\": 7, \"FirstLetter\": \"L\", \"SecondLetter\": \"o\", \"FirstTwoLetters\": \"Lo\"}, {\"StichtagDatJahr\": 2011, \"Vorname\": \"Lou\", \"SexLang\": \"weiblich\", \"AnzGebuWir\": 7, \"FirstLetter\": \"L\", \"SecondLetter\": \"o\", \"FirstTwoLetters\": \"Lo\"}, {\"StichtagDatJahr\": 2012, \"Vorname\": \"Lorena\", \"SexLang\": \"weiblich\", \"AnzGebuWir\": 7, \"FirstLetter\": \"L\", \"SecondLetter\": \"o\", \"FirstTwoLetters\": \"Lo\"}, {\"StichtagDatJahr\": 2011, \"Vorname\": \"Lotta\", \"SexLang\": \"weiblich\", \"AnzGebuWir\": 6, \"FirstLetter\": \"L\", \"SecondLetter\": \"o\", \"FirstTwoLetters\": \"Lo\"}, {\"StichtagDatJahr\": 1994, \"Vorname\": \"Lorena\", \"SexLang\": \"weiblich\", \"AnzGebuWir\": 6, \"FirstLetter\": \"L\", \"SecondLetter\": \"o\", \"FirstTwoLetters\": \"Lo\"}, {\"StichtagDatJahr\": 2015, \"Vorname\": \"Lorena\", \"SexLang\": \"weiblich\", \"AnzGebuWir\": 6, \"FirstLetter\": \"L\", \"SecondLetter\": \"o\", \"FirstTwoLetters\": \"Lo\"}, {\"StichtagDatJahr\": 2014, \"Vorname\": \"Lou\", \"SexLang\": \"weiblich\", \"AnzGebuWir\": 6, \"FirstLetter\": \"L\", \"SecondLetter\": \"o\", \"FirstTwoLetters\": \"Lo\"}, {\"StichtagDatJahr\": 2014, \"Vorname\": \"Lorena\", \"SexLang\": \"weiblich\", \"AnzGebuWir\": 6, \"FirstLetter\": \"L\", \"SecondLetter\": \"o\", \"FirstTwoLetters\": \"Lo\"}, {\"StichtagDatJahr\": 2018, \"Vorname\": \"Lotta\", \"SexLang\": \"weiblich\", \"AnzGebuWir\": 6, \"FirstLetter\": \"L\", \"SecondLetter\": \"o\", \"FirstTwoLetters\": \"Lo\"}, {\"StichtagDatJahr\": 2020, \"Vorname\": \"Lola\", \"SexLang\": \"weiblich\", \"AnzGebuWir\": 6, \"FirstLetter\": \"L\", \"SecondLetter\": \"o\", \"FirstTwoLetters\": \"Lo\"}, {\"StichtagDatJahr\": 2004, \"Vorname\": \"Lorena\", \"SexLang\": \"weiblich\", \"AnzGebuWir\": 6, \"FirstLetter\": \"L\", \"SecondLetter\": \"o\", \"FirstTwoLetters\": \"Lo\"}, {\"StichtagDatJahr\": 2018, \"Vorname\": \"Louise\", \"SexLang\": \"weiblich\", \"AnzGebuWir\": 5, \"FirstLetter\": \"L\", \"SecondLetter\": \"o\", \"FirstTwoLetters\": \"Lo\"}, {\"StichtagDatJahr\": 1999, \"Vorname\": \"Lorena\", \"SexLang\": \"weiblich\", \"AnzGebuWir\": 5, \"FirstLetter\": \"L\", \"SecondLetter\": \"o\", \"FirstTwoLetters\": \"Lo\"}, {\"StichtagDatJahr\": 2017, \"Vorname\": \"Louisa\", \"SexLang\": \"weiblich\", \"AnzGebuWir\": 5, \"FirstLetter\": \"L\", \"SecondLetter\": \"o\", \"FirstTwoLetters\": \"Lo\"}, {\"StichtagDatJahr\": 1996, \"Vorname\": \"Lorena\", \"SexLang\": \"weiblich\", \"AnzGebuWir\": 5, \"FirstLetter\": \"L\", \"SecondLetter\": \"o\", \"FirstTwoLetters\": \"Lo\"}, {\"StichtagDatJahr\": 2009, \"Vorname\": \"Lorena\", \"SexLang\": \"weiblich\", \"AnzGebuWir\": 5, \"FirstLetter\": \"L\", \"SecondLetter\": \"o\", \"FirstTwoLetters\": \"Lo\"}, {\"StichtagDatJahr\": 2009, \"Vorname\": \"Lou\", \"SexLang\": \"weiblich\", \"AnzGebuWir\": 5, \"FirstLetter\": \"L\", \"SecondLetter\": \"o\", \"FirstTwoLetters\": \"Lo\"}, {\"StichtagDatJahr\": 2005, \"Vorname\": \"Lorena\", \"SexLang\": \"weiblich\", \"AnzGebuWir\": 5, \"FirstLetter\": \"L\", \"SecondLetter\": \"o\", \"FirstTwoLetters\": \"Lo\"}, {\"StichtagDatJahr\": 2020, \"Vorname\": \"Louisa\", \"SexLang\": \"weiblich\", \"AnzGebuWir\": 5, \"FirstLetter\": \"L\", \"SecondLetter\": \"o\", \"FirstTwoLetters\": \"Lo\"}, {\"StichtagDatJahr\": 2015, \"Vorname\": \"Lotta\", \"SexLang\": \"weiblich\", \"AnzGebuWir\": 5, \"FirstLetter\": \"L\", \"SecondLetter\": \"o\", \"FirstTwoLetters\": \"Lo\"}, {\"StichtagDatJahr\": 2016, \"Vorname\": \"Louise\", \"SexLang\": \"weiblich\", \"AnzGebuWir\": 5, \"FirstLetter\": \"L\", \"SecondLetter\": \"o\", \"FirstTwoLetters\": \"Lo\"}, {\"StichtagDatJahr\": 2016, \"Vorname\": \"Lou\", \"SexLang\": \"weiblich\", \"AnzGebuWir\": 5, \"FirstLetter\": \"L\", \"SecondLetter\": \"o\", \"FirstTwoLetters\": \"Lo\"}, {\"StichtagDatJahr\": 2008, \"Vorname\": \"Louisa\", \"SexLang\": \"weiblich\", \"AnzGebuWir\": 5, \"FirstLetter\": \"L\", \"SecondLetter\": \"o\", \"FirstTwoLetters\": \"Lo\"}, {\"StichtagDatJahr\": 2013, \"Vorname\": \"Lorin\", \"SexLang\": \"weiblich\", \"AnzGebuWir\": 5, \"FirstLetter\": \"L\", \"SecondLetter\": \"o\", \"FirstTwoLetters\": \"Lo\"}, {\"StichtagDatJahr\": 2011, \"Vorname\": \"Lorena\", \"SexLang\": \"weiblich\", \"AnzGebuWir\": 5, \"FirstLetter\": \"L\", \"SecondLetter\": \"o\", \"FirstTwoLetters\": \"Lo\"}, {\"StichtagDatJahr\": 2006, \"Vorname\": \"Louise\", \"SexLang\": \"weiblich\", \"AnzGebuWir\": 5, \"FirstLetter\": \"L\", \"SecondLetter\": \"o\", \"FirstTwoLetters\": \"Lo\"}, {\"StichtagDatJahr\": 2017, \"Vorname\": \"Louise\", \"SexLang\": \"weiblich\", \"AnzGebuWir\": 5, \"FirstLetter\": \"L\", \"SecondLetter\": \"o\", \"FirstTwoLetters\": \"Lo\"}, {\"StichtagDatJahr\": 2011, \"Vorname\": \"Louise\", \"SexLang\": \"weiblich\", \"AnzGebuWir\": 5, \"FirstLetter\": \"L\", \"SecondLetter\": \"o\", \"FirstTwoLetters\": \"Lo\"}, {\"StichtagDatJahr\": 2007, \"Vorname\": \"Lorena\", \"SexLang\": \"weiblich\", \"AnzGebuWir\": 5, \"FirstLetter\": \"L\", \"SecondLetter\": \"o\", \"FirstTwoLetters\": \"Lo\"}, {\"StichtagDatJahr\": 2019, \"Vorname\": \"Lazar\", \"SexLang\": \"m\\u00e4nnlich\", \"AnzGebuWir\": 4, \"FirstLetter\": \"L\", \"SecondLetter\": \"a\", \"FirstTwoLetters\": \"La\"}, {\"StichtagDatJahr\": 1997, \"Vorname\": \"Lorena\", \"SexLang\": \"weiblich\", \"AnzGebuWir\": 4, \"FirstLetter\": \"L\", \"SecondLetter\": \"o\", \"FirstTwoLetters\": \"Lo\"}, {\"StichtagDatJahr\": 2013, \"Vorname\": \"Lou\", \"SexLang\": \"weiblich\", \"AnzGebuWir\": 4, \"FirstLetter\": \"L\", \"SecondLetter\": \"o\", \"FirstTwoLetters\": \"Lo\"}, {\"StichtagDatJahr\": 2002, \"Vorname\": \"Lorena\", \"SexLang\": \"weiblich\", \"AnzGebuWir\": 4, \"FirstLetter\": \"L\", \"SecondLetter\": \"o\", \"FirstTwoLetters\": \"Lo\"}, {\"StichtagDatJahr\": 2002, \"Vorname\": \"Lou\", \"SexLang\": \"weiblich\", \"AnzGebuWir\": 4, \"FirstLetter\": \"L\", \"SecondLetter\": \"o\", \"FirstTwoLetters\": \"Lo\"}, {\"StichtagDatJahr\": 2016, \"Vorname\": \"Lotta\", \"SexLang\": \"weiblich\", \"AnzGebuWir\": 4, \"FirstLetter\": \"L\", \"SecondLetter\": \"o\", \"FirstTwoLetters\": \"Lo\"}, {\"StichtagDatJahr\": 2016, \"Vorname\": \"Louisa\", \"SexLang\": \"weiblich\", \"AnzGebuWir\": 4, \"FirstLetter\": \"L\", \"SecondLetter\": \"o\", \"FirstTwoLetters\": \"Lo\"}, {\"StichtagDatJahr\": 2011, \"Vorname\": \"Louisa\", \"SexLang\": \"weiblich\", \"AnzGebuWir\": 4, \"FirstLetter\": \"L\", \"SecondLetter\": \"o\", \"FirstTwoLetters\": \"Lo\"}, {\"StichtagDatJahr\": 1993, \"Vorname\": \"Lorena\", \"SexLang\": \"weiblich\", \"AnzGebuWir\": 4, \"FirstLetter\": \"L\", \"SecondLetter\": \"o\", \"FirstTwoLetters\": \"Lo\"}, {\"StichtagDatJahr\": 2010, \"Vorname\": \"Lotta\", \"SexLang\": \"weiblich\", \"AnzGebuWir\": 4, \"FirstLetter\": \"L\", \"SecondLetter\": \"o\", \"FirstTwoLetters\": \"Lo\"}, {\"StichtagDatJahr\": 2012, \"Vorname\": \"Lola\", \"SexLang\": \"weiblich\", \"AnzGebuWir\": 4, \"FirstLetter\": \"L\", \"SecondLetter\": \"o\", \"FirstTwoLetters\": \"Lo\"}, {\"StichtagDatJahr\": 2020, \"Vorname\": \"Lotta\", \"SexLang\": \"weiblich\", \"AnzGebuWir\": 4, \"FirstLetter\": \"L\", \"SecondLetter\": \"o\", \"FirstTwoLetters\": \"Lo\"}, {\"StichtagDatJahr\": 2020, \"Vorname\": \"Lorena\", \"SexLang\": \"weiblich\", \"AnzGebuWir\": 4, \"FirstLetter\": \"L\", \"SecondLetter\": \"o\", \"FirstTwoLetters\": \"Lo\"}, {\"StichtagDatJahr\": 2019, \"Vorname\": \"Ladina\", \"SexLang\": \"weiblich\", \"AnzGebuWir\": 4, \"FirstLetter\": \"L\", \"SecondLetter\": \"a\", \"FirstTwoLetters\": \"La\"}, {\"StichtagDatJahr\": 2015, \"Vorname\": \"Lou\", \"SexLang\": \"weiblich\", \"AnzGebuWir\": 4, \"FirstLetter\": \"L\", \"SecondLetter\": \"o\", \"FirstTwoLetters\": \"Lo\"}, {\"StichtagDatJahr\": 2019, \"Vorname\": \"Lou\", \"SexLang\": \"weiblich\", \"AnzGebuWir\": 4, \"FirstLetter\": \"L\", \"SecondLetter\": \"o\", \"FirstTwoLetters\": \"Lo\"}, {\"StichtagDatJahr\": 2018, \"Vorname\": \"Louisa\", \"SexLang\": \"weiblich\", \"AnzGebuWir\": 4, \"FirstLetter\": \"L\", \"SecondLetter\": \"o\", \"FirstTwoLetters\": \"Lo\"}, {\"StichtagDatJahr\": 2014, \"Vorname\": \"Louisa\", \"SexLang\": \"weiblich\", \"AnzGebuWir\": 4, \"FirstLetter\": \"L\", \"SecondLetter\": \"o\", \"FirstTwoLetters\": \"Lo\"}, {\"StichtagDatJahr\": 2007, \"Vorname\": \"Louisa\", \"SexLang\": \"weiblich\", \"AnzGebuWir\": 4, \"FirstLetter\": \"L\", \"SecondLetter\": \"o\", \"FirstTwoLetters\": \"Lo\"}, {\"StichtagDatJahr\": 2008, \"Vorname\": \"Lorena\", \"SexLang\": \"weiblich\", \"AnzGebuWir\": 3, \"FirstLetter\": \"L\", \"SecondLetter\": \"o\", \"FirstTwoLetters\": \"Lo\"}, {\"StichtagDatJahr\": 2004, \"Vorname\": \"Louisa\", \"SexLang\": \"weiblich\", \"AnzGebuWir\": 3, \"FirstLetter\": \"L\", \"SecondLetter\": \"o\", \"FirstTwoLetters\": \"Lo\"}, {\"StichtagDatJahr\": 2010, \"Vorname\": \"Louisa\", \"SexLang\": \"weiblich\", \"AnzGebuWir\": 3, \"FirstLetter\": \"L\", \"SecondLetter\": \"o\", \"FirstTwoLetters\": \"Lo\"}, {\"StichtagDatJahr\": 2019, \"Vorname\": \"Lorena\", \"SexLang\": \"weiblich\", \"AnzGebuWir\": 3, \"FirstLetter\": \"L\", \"SecondLetter\": \"o\", \"FirstTwoLetters\": \"Lo\"}, {\"StichtagDatJahr\": 2013, \"Vorname\": \"Lovis\", \"SexLang\": \"weiblich\", \"AnzGebuWir\": 3, \"FirstLetter\": \"L\", \"SecondLetter\": \"o\", \"FirstTwoLetters\": \"Lo\"}, {\"StichtagDatJahr\": 2009, \"Vorname\": \"Louisa\", \"SexLang\": \"weiblich\", \"AnzGebuWir\": 3, \"FirstLetter\": \"L\", \"SecondLetter\": \"o\", \"FirstTwoLetters\": \"Lo\"}, {\"StichtagDatJahr\": 2003, \"Vorname\": \"Lou\", \"SexLang\": \"weiblich\", \"AnzGebuWir\": 3, \"FirstLetter\": \"L\", \"SecondLetter\": \"o\", \"FirstTwoLetters\": \"Lo\"}, {\"StichtagDatJahr\": 2018, \"Vorname\": \"Lola\", \"SexLang\": \"weiblich\", \"AnzGebuWir\": 3, \"FirstLetter\": \"L\", \"SecondLetter\": \"o\", \"FirstTwoLetters\": \"Lo\"}, {\"StichtagDatJahr\": 2013, \"Vorname\": \"Loresa\", \"SexLang\": \"weiblich\", \"AnzGebuWir\": 3, \"FirstLetter\": \"L\", \"SecondLetter\": \"o\", \"FirstTwoLetters\": \"Lo\"}, {\"StichtagDatJahr\": 2013, \"Vorname\": \"Lotta\", \"SexLang\": \"weiblich\", \"AnzGebuWir\": 3, \"FirstLetter\": \"L\", \"SecondLetter\": \"o\", \"FirstTwoLetters\": \"Lo\"}, {\"StichtagDatJahr\": 2019, \"Vorname\": \"Layla\", \"SexLang\": \"weiblich\", \"AnzGebuWir\": 3, \"FirstLetter\": \"L\", \"SecondLetter\": \"a\", \"FirstTwoLetters\": \"La\"}, {\"StichtagDatJahr\": 2012, \"Vorname\": \"Louise\", \"SexLang\": \"weiblich\", \"AnzGebuWir\": 3, \"FirstLetter\": \"L\", \"SecondLetter\": \"o\", \"FirstTwoLetters\": \"Lo\"}, {\"StichtagDatJahr\": 2005, \"Vorname\": \"Lou\", \"SexLang\": \"weiblich\", \"AnzGebuWir\": 3, \"FirstLetter\": \"L\", \"SecondLetter\": \"o\", \"FirstTwoLetters\": \"Lo\"}, {\"StichtagDatJahr\": 2006, \"Vorname\": \"Louisa\", \"SexLang\": \"weiblich\", \"AnzGebuWir\": 3, \"FirstLetter\": \"L\", \"SecondLetter\": \"o\", \"FirstTwoLetters\": \"Lo\"}, {\"StichtagDatJahr\": 2006, \"Vorname\": \"Lorena\", \"SexLang\": \"weiblich\", \"AnzGebuWir\": 3, \"FirstLetter\": \"L\", \"SecondLetter\": \"o\", \"FirstTwoLetters\": \"Lo\"}, {\"StichtagDatJahr\": 2006, \"Vorname\": \"Lou\", \"SexLang\": \"weiblich\", \"AnzGebuWir\": 3, \"FirstLetter\": \"L\", \"SecondLetter\": \"o\", \"FirstTwoLetters\": \"Lo\"}, {\"StichtagDatJahr\": 2000, \"Vorname\": \"Lorena\", \"SexLang\": \"weiblich\", \"AnzGebuWir\": 3, \"FirstLetter\": \"L\", \"SecondLetter\": \"o\", \"FirstTwoLetters\": \"Lo\"}, {\"StichtagDatJahr\": 1998, \"Vorname\": \"Louise\", \"SexLang\": \"weiblich\", \"AnzGebuWir\": 3, \"FirstLetter\": \"L\", \"SecondLetter\": \"o\", \"FirstTwoLetters\": \"Lo\"}, {\"StichtagDatJahr\": 1998, \"Vorname\": \"Lorena\", \"SexLang\": \"weiblich\", \"AnzGebuWir\": 3, \"FirstLetter\": \"L\", \"SecondLetter\": \"o\", \"FirstTwoLetters\": \"Lo\"}, {\"StichtagDatJahr\": 2020, \"Vorname\": \"Lasse\", \"SexLang\": \"m\\u00e4nnlich\", \"AnzGebuWir\": 3, \"FirstLetter\": \"L\", \"SecondLetter\": \"a\", \"FirstTwoLetters\": \"La\"}, {\"StichtagDatJahr\": 2015, \"Vorname\": \"Louisa\", \"SexLang\": \"weiblich\", \"AnzGebuWir\": 3, \"FirstLetter\": \"L\", \"SecondLetter\": \"o\", \"FirstTwoLetters\": \"Lo\"}, {\"StichtagDatJahr\": 2015, \"Vorname\": \"Louise\", \"SexLang\": \"weiblich\", \"AnzGebuWir\": 3, \"FirstLetter\": \"L\", \"SecondLetter\": \"o\", \"FirstTwoLetters\": \"Lo\"}, {\"StichtagDatJahr\": 2014, \"Vorname\": \"Lola\", \"SexLang\": \"weiblich\", \"AnzGebuWir\": 3, \"FirstLetter\": \"L\", \"SecondLetter\": \"o\", \"FirstTwoLetters\": \"Lo\"}, {\"StichtagDatJahr\": 2016, \"Vorname\": \"Lorena\", \"SexLang\": \"weiblich\", \"AnzGebuWir\": 3, \"FirstLetter\": \"L\", \"SecondLetter\": \"o\", \"FirstTwoLetters\": \"Lo\"}, {\"StichtagDatJahr\": 2001, \"Vorname\": \"Lou\", \"SexLang\": \"weiblich\", \"AnzGebuWir\": 3, \"FirstLetter\": \"L\", \"SecondLetter\": \"o\", \"FirstTwoLetters\": \"Lo\"}, {\"StichtagDatJahr\": 2008, \"Vorname\": \"Lou\", \"SexLang\": \"weiblich\", \"AnzGebuWir\": 2, \"FirstLetter\": \"L\", \"SecondLetter\": \"o\", \"FirstTwoLetters\": \"Lo\"}, {\"StichtagDatJahr\": 2008, \"Vorname\": \"Louise\", \"SexLang\": \"weiblich\", \"AnzGebuWir\": 2, \"FirstLetter\": \"L\", \"SecondLetter\": \"o\", \"FirstTwoLetters\": \"Lo\"}, {\"StichtagDatJahr\": 2019, \"Vorname\": \"Lasse\", \"SexLang\": \"m\\u00e4nnlich\", \"AnzGebuWir\": 2, \"FirstLetter\": \"L\", \"SecondLetter\": \"a\", \"FirstTwoLetters\": \"La\"}, {\"StichtagDatJahr\": 2019, \"Vorname\": \"Laurenz\", \"SexLang\": \"m\\u00e4nnlich\", \"AnzGebuWir\": 2, \"FirstLetter\": \"L\", \"SecondLetter\": \"a\", \"FirstTwoLetters\": \"La\"}, {\"StichtagDatJahr\": 2012, \"Vorname\": \"Louisa\", \"SexLang\": \"weiblich\", \"AnzGebuWir\": 2, \"FirstLetter\": \"L\", \"SecondLetter\": \"o\", \"FirstTwoLetters\": \"Lo\"}, {\"StichtagDatJahr\": 2012, \"Vorname\": \"Lou\", \"SexLang\": \"weiblich\", \"AnzGebuWir\": 2, \"FirstLetter\": \"L\", \"SecondLetter\": \"o\", \"FirstTwoLetters\": \"Lo\"}, {\"StichtagDatJahr\": 2012, \"Vorname\": \"Loreen\", \"SexLang\": \"weiblich\", \"AnzGebuWir\": 2, \"FirstLetter\": \"L\", \"SecondLetter\": \"o\", \"FirstTwoLetters\": \"Lo\"}, {\"StichtagDatJahr\": 2011, \"Vorname\": \"Lovis\", \"SexLang\": \"weiblich\", \"AnzGebuWir\": 2, \"FirstLetter\": \"L\", \"SecondLetter\": \"o\", \"FirstTwoLetters\": \"Lo\"}, {\"StichtagDatJahr\": 1996, \"Vorname\": \"Loredana\", \"SexLang\": \"weiblich\", \"AnzGebuWir\": 2, \"FirstLetter\": \"L\", \"SecondLetter\": \"o\", \"FirstTwoLetters\": \"Lo\"}, {\"StichtagDatJahr\": 2007, \"Vorname\": \"Loriana\", \"SexLang\": \"weiblich\", \"AnzGebuWir\": 2, \"FirstLetter\": \"L\", \"SecondLetter\": \"o\", \"FirstTwoLetters\": \"Lo\"}, {\"StichtagDatJahr\": 2007, \"Vorname\": \"Lola\", \"SexLang\": \"weiblich\", \"AnzGebuWir\": 2, \"FirstLetter\": \"L\", \"SecondLetter\": \"o\", \"FirstTwoLetters\": \"Lo\"}, {\"StichtagDatJahr\": 2007, \"Vorname\": \"Louise\", \"SexLang\": \"weiblich\", \"AnzGebuWir\": 2, \"FirstLetter\": \"L\", \"SecondLetter\": \"o\", \"FirstTwoLetters\": \"Lo\"}, {\"StichtagDatJahr\": 2019, \"Vorname\": \"Louise\", \"SexLang\": \"weiblich\", \"AnzGebuWir\": 2, \"FirstLetter\": \"L\", \"SecondLetter\": \"o\", \"FirstTwoLetters\": \"Lo\"}, {\"StichtagDatJahr\": 2019, \"Vorname\": \"Lola\", \"SexLang\": \"weiblich\", \"AnzGebuWir\": 2, \"FirstLetter\": \"L\", \"SecondLetter\": \"o\", \"FirstTwoLetters\": \"Lo\"}, {\"StichtagDatJahr\": 2017, \"Vorname\": \"Louna\", \"SexLang\": \"weiblich\", \"AnzGebuWir\": 2, \"FirstLetter\": \"L\", \"SecondLetter\": \"o\", \"FirstTwoLetters\": \"Lo\"}, {\"StichtagDatJahr\": 2015, \"Vorname\": \"Lola\", \"SexLang\": \"weiblich\", \"AnzGebuWir\": 2, \"FirstLetter\": \"L\", \"SecondLetter\": \"o\", \"FirstTwoLetters\": \"Lo\"}, {\"StichtagDatJahr\": 1993, \"Vorname\": \"Loredana\", \"SexLang\": \"weiblich\", \"AnzGebuWir\": 2, \"FirstLetter\": \"L\", \"SecondLetter\": \"o\", \"FirstTwoLetters\": \"Lo\"}, {\"StichtagDatJahr\": 2017, \"Vorname\": \"Lotta\", \"SexLang\": \"weiblich\", \"AnzGebuWir\": 2, \"FirstLetter\": \"L\", \"SecondLetter\": \"o\", \"FirstTwoLetters\": \"Lo\"}, {\"StichtagDatJahr\": 2017, \"Vorname\": \"Lorena\", \"SexLang\": \"weiblich\", \"AnzGebuWir\": 2, \"FirstLetter\": \"L\", \"SecondLetter\": \"o\", \"FirstTwoLetters\": \"Lo\"}, {\"StichtagDatJahr\": 2009, \"Vorname\": \"Lola\", \"SexLang\": \"weiblich\", \"AnzGebuWir\": 2, \"FirstLetter\": \"L\", \"SecondLetter\": \"o\", \"FirstTwoLetters\": \"Lo\"}, {\"StichtagDatJahr\": 1994, \"Vorname\": \"Loren\", \"SexLang\": \"weiblich\", \"AnzGebuWir\": 2, \"FirstLetter\": \"L\", \"SecondLetter\": \"o\", \"FirstTwoLetters\": \"Lo\"}, {\"StichtagDatJahr\": 2000, \"Vorname\": \"Loredana\", \"SexLang\": \"weiblich\", \"AnzGebuWir\": 2, \"FirstLetter\": \"L\", \"SecondLetter\": \"o\", \"FirstTwoLetters\": \"Lo\"}, {\"StichtagDatJahr\": 2000, \"Vorname\": \"Lou\", \"SexLang\": \"weiblich\", \"AnzGebuWir\": 2, \"FirstLetter\": \"L\", \"SecondLetter\": \"o\", \"FirstTwoLetters\": \"Lo\"}, {\"StichtagDatJahr\": 2003, \"Vorname\": \"Lotta\", \"SexLang\": \"weiblich\", \"AnzGebuWir\": 2, \"FirstLetter\": \"L\", \"SecondLetter\": \"o\", \"FirstTwoLetters\": \"Lo\"}, {\"StichtagDatJahr\": 2004, \"Vorname\": \"Louise\", \"SexLang\": \"weiblich\", \"AnzGebuWir\": 2, \"FirstLetter\": \"L\", \"SecondLetter\": \"o\", \"FirstTwoLetters\": \"Lo\"}, {\"StichtagDatJahr\": 2004, \"Vorname\": \"Lotta\", \"SexLang\": \"weiblich\", \"AnzGebuWir\": 2, \"FirstLetter\": \"L\", \"SecondLetter\": \"o\", \"FirstTwoLetters\": \"Lo\"}, {\"StichtagDatJahr\": 2013, \"Vorname\": \"Loredana\", \"SexLang\": \"weiblich\", \"AnzGebuWir\": 2, \"FirstLetter\": \"L\", \"SecondLetter\": \"o\", \"FirstTwoLetters\": \"Lo\"}, {\"StichtagDatJahr\": 2002, \"Vorname\": \"Lorisa\", \"SexLang\": \"weiblich\", \"AnzGebuWir\": 2, \"FirstLetter\": \"L\", \"SecondLetter\": \"o\", \"FirstTwoLetters\": \"Lo\"}, {\"StichtagDatJahr\": 2002, \"Vorname\": \"Loredana\", \"SexLang\": \"weiblich\", \"AnzGebuWir\": 2, \"FirstLetter\": \"L\", \"SecondLetter\": \"o\", \"FirstTwoLetters\": \"Lo\"}, {\"StichtagDatJahr\": 2002, \"Vorname\": \"Lotta\", \"SexLang\": \"weiblich\", \"AnzGebuWir\": 2, \"FirstLetter\": \"L\", \"SecondLetter\": \"o\", \"FirstTwoLetters\": \"Lo\"}, {\"StichtagDatJahr\": 2002, \"Vorname\": \"Louise\", \"SexLang\": \"weiblich\", \"AnzGebuWir\": 2, \"FirstLetter\": \"L\", \"SecondLetter\": \"o\", \"FirstTwoLetters\": \"Lo\"}, {\"StichtagDatJahr\": 2002, \"Vorname\": \"Louisa\", \"SexLang\": \"weiblich\", \"AnzGebuWir\": 2, \"FirstLetter\": \"L\", \"SecondLetter\": \"o\", \"FirstTwoLetters\": \"Lo\"}, {\"StichtagDatJahr\": 2001, \"Vorname\": \"Lorena\", \"SexLang\": \"weiblich\", \"AnzGebuWir\": 2, \"FirstLetter\": \"L\", \"SecondLetter\": \"o\", \"FirstTwoLetters\": \"Lo\"}, {\"StichtagDatJahr\": 2016, \"Vorname\": \"Lorina\", \"SexLang\": \"weiblich\", \"AnzGebuWir\": 2, \"FirstLetter\": \"L\", \"SecondLetter\": \"o\", \"FirstTwoLetters\": \"Lo\"}, {\"StichtagDatJahr\": 1998, \"Vorname\": \"Louisa\", \"SexLang\": \"weiblich\", \"AnzGebuWir\": 2, \"FirstLetter\": \"L\", \"SecondLetter\": \"o\", \"FirstTwoLetters\": \"Lo\"}, {\"StichtagDatJahr\": 2006, \"Vorname\": \"Lovis\", \"SexLang\": \"weiblich\", \"AnzGebuWir\": 2, \"FirstLetter\": \"L\", \"SecondLetter\": \"o\", \"FirstTwoLetters\": \"Lo\"}, {\"StichtagDatJahr\": 2006, \"Vorname\": \"Lola\", \"SexLang\": \"weiblich\", \"AnzGebuWir\": 2, \"FirstLetter\": \"L\", \"SecondLetter\": \"o\", \"FirstTwoLetters\": \"Lo\"}, {\"StichtagDatJahr\": 2014, \"Vorname\": \"Lotta\", \"SexLang\": \"weiblich\", \"AnzGebuWir\": 2, \"FirstLetter\": \"L\", \"SecondLetter\": \"o\", \"FirstTwoLetters\": \"Lo\"}, {\"StichtagDatJahr\": 2014, \"Vorname\": \"Lorin\", \"SexLang\": \"weiblich\", \"AnzGebuWir\": 2, \"FirstLetter\": \"L\", \"SecondLetter\": \"o\", \"FirstTwoLetters\": \"Lo\"}, {\"StichtagDatJahr\": 2014, \"Vorname\": \"Lois\", \"SexLang\": \"weiblich\", \"AnzGebuWir\": 2, \"FirstLetter\": \"L\", \"SecondLetter\": \"o\", \"FirstTwoLetters\": \"Lo\"}, {\"StichtagDatJahr\": 2014, \"Vorname\": \"Lotte\", \"SexLang\": \"weiblich\", \"AnzGebuWir\": 2, \"FirstLetter\": \"L\", \"SecondLetter\": \"o\", \"FirstTwoLetters\": \"Lo\"}, {\"StichtagDatJahr\": 2020, \"Vorname\": \"Louise\", \"SexLang\": \"weiblich\", \"AnzGebuWir\": 2, \"FirstLetter\": \"L\", \"SecondLetter\": \"o\", \"FirstTwoLetters\": \"Lo\"}, {\"StichtagDatJahr\": 2020, \"Vorname\": \"Larina\", \"SexLang\": \"weiblich\", \"AnzGebuWir\": 2, \"FirstLetter\": \"L\", \"SecondLetter\": \"a\", \"FirstTwoLetters\": \"La\"}, {\"StichtagDatJahr\": 2020, \"Vorname\": \"Larisa\", \"SexLang\": \"weiblich\", \"AnzGebuWir\": 2, \"FirstLetter\": \"L\", \"SecondLetter\": \"a\", \"FirstTwoLetters\": \"La\"}, {\"StichtagDatJahr\": 2020, \"Vorname\": \"Layla\", \"SexLang\": \"weiblich\", \"AnzGebuWir\": 2, \"FirstLetter\": \"L\", \"SecondLetter\": \"a\", \"FirstTwoLetters\": \"La\"}, {\"StichtagDatJahr\": 2020, \"Vorname\": \"Laia\", \"SexLang\": \"weiblich\", \"AnzGebuWir\": 2, \"FirstLetter\": \"L\", \"SecondLetter\": \"a\", \"FirstTwoLetters\": \"La\"}, {\"StichtagDatJahr\": 2020, \"Vorname\": \"Ladina\", \"SexLang\": \"weiblich\", \"AnzGebuWir\": 2, \"FirstLetter\": \"L\", \"SecondLetter\": \"a\", \"FirstTwoLetters\": \"La\"}, {\"StichtagDatJahr\": 2019, \"Vorname\": \"Laaroussi\", \"SexLang\": \"m\\u00e4nnlich\", \"AnzGebuWir\": 1, \"FirstLetter\": \"L\", \"SecondLetter\": \"a\", \"FirstTwoLetters\": \"La\"}, {\"StichtagDatJahr\": 2019, \"Vorname\": \"Lamin\", \"SexLang\": \"m\\u00e4nnlich\", \"AnzGebuWir\": 1, \"FirstLetter\": \"L\", \"SecondLetter\": \"a\", \"FirstTwoLetters\": \"La\"}, {\"StichtagDatJahr\": 2019, \"Vorname\": \"Lario\", \"SexLang\": \"m\\u00e4nnlich\", \"AnzGebuWir\": 1, \"FirstLetter\": \"L\", \"SecondLetter\": \"a\", \"FirstTwoLetters\": \"La\"}, {\"StichtagDatJahr\": 2019, \"Vorname\": \"Lauri\", \"SexLang\": \"m\\u00e4nnlich\", \"AnzGebuWir\": 1, \"FirstLetter\": \"L\", \"SecondLetter\": \"a\", \"FirstTwoLetters\": \"La\"}, {\"StichtagDatJahr\": 2019, \"Vorname\": \"Lav\", \"SexLang\": \"m\\u00e4nnlich\", \"AnzGebuWir\": 1, \"FirstLetter\": \"L\", \"SecondLetter\": \"a\", \"FirstTwoLetters\": \"La\"}, {\"StichtagDatJahr\": 2019, \"Vorname\": \"Lawrence\", \"SexLang\": \"m\\u00e4nnlich\", \"AnzGebuWir\": 1, \"FirstLetter\": \"L\", \"SecondLetter\": \"a\", \"FirstTwoLetters\": \"La\"}, {\"StichtagDatJahr\": 2020, \"Vorname\": \"Labib\", \"SexLang\": \"m\\u00e4nnlich\", \"AnzGebuWir\": 1, \"FirstLetter\": \"L\", \"SecondLetter\": \"a\", \"FirstTwoLetters\": \"La\"}, {\"StichtagDatJahr\": 2020, \"Vorname\": \"Lalo\", \"SexLang\": \"m\\u00e4nnlich\", \"AnzGebuWir\": 1, \"FirstLetter\": \"L\", \"SecondLetter\": \"a\", \"FirstTwoLetters\": \"La\"}, {\"StichtagDatJahr\": 2020, \"Vorname\": \"Lamar\", \"SexLang\": \"m\\u00e4nnlich\", \"AnzGebuWir\": 1, \"FirstLetter\": \"L\", \"SecondLetter\": \"a\", \"FirstTwoLetters\": \"La\"}, {\"StichtagDatJahr\": 2020, \"Vorname\": \"Lawin\", \"SexLang\": \"m\\u00e4nnlich\", \"AnzGebuWir\": 1, \"FirstLetter\": \"L\", \"SecondLetter\": \"a\", \"FirstTwoLetters\": \"La\"}, {\"StichtagDatJahr\": 2020, \"Vorname\": \"Lamek\", \"SexLang\": \"m\\u00e4nnlich\", \"AnzGebuWir\": 1, \"FirstLetter\": \"L\", \"SecondLetter\": \"a\", \"FirstTwoLetters\": \"La\"}, {\"StichtagDatJahr\": 2020, \"Vorname\": \"Lario\", \"SexLang\": \"m\\u00e4nnlich\", \"AnzGebuWir\": 1, \"FirstLetter\": \"L\", \"SecondLetter\": \"a\", \"FirstTwoLetters\": \"La\"}, {\"StichtagDatJahr\": 2020, \"Vorname\": \"Laui\", \"SexLang\": \"m\\u00e4nnlich\", \"AnzGebuWir\": 1, \"FirstLetter\": \"L\", \"SecondLetter\": \"a\", \"FirstTwoLetters\": \"La\"}, {\"StichtagDatJahr\": 2020, \"Vorname\": \"Lauin\", \"SexLang\": \"m\\u00e4nnlich\", \"AnzGebuWir\": 1, \"FirstLetter\": \"L\", \"SecondLetter\": \"a\", \"FirstTwoLetters\": \"La\"}, {\"StichtagDatJahr\": 2020, \"Vorname\": \"Laurens\", \"SexLang\": \"m\\u00e4nnlich\", \"AnzGebuWir\": 1, \"FirstLetter\": \"L\", \"SecondLetter\": \"a\", \"FirstTwoLetters\": \"La\"}, {\"StichtagDatJahr\": 2020, \"Vorname\": \"Laurent\", \"SexLang\": \"m\\u00e4nnlich\", \"AnzGebuWir\": 1, \"FirstLetter\": \"L\", \"SecondLetter\": \"a\", \"FirstTwoLetters\": \"La\"}, {\"StichtagDatJahr\": 2020, \"Vorname\": \"Laurenz\", \"SexLang\": \"m\\u00e4nnlich\", \"AnzGebuWir\": 1, \"FirstLetter\": \"L\", \"SecondLetter\": \"a\", \"FirstTwoLetters\": \"La\"}, {\"StichtagDatJahr\": 2020, \"Vorname\": \"Laurids\", \"SexLang\": \"m\\u00e4nnlich\", \"AnzGebuWir\": 1, \"FirstLetter\": \"L\", \"SecondLetter\": \"a\", \"FirstTwoLetters\": \"La\"}, {\"StichtagDatJahr\": 2020, \"Vorname\": \"Lazar\", \"SexLang\": \"m\\u00e4nnlich\", \"AnzGebuWir\": 1, \"FirstLetter\": \"L\", \"SecondLetter\": \"a\", \"FirstTwoLetters\": \"La\"}, {\"StichtagDatJahr\": 2020, \"Vorname\": \"Lazaros\", \"SexLang\": \"m\\u00e4nnlich\", \"AnzGebuWir\": 1, \"FirstLetter\": \"L\", \"SecondLetter\": \"a\", \"FirstTwoLetters\": \"La\"}, {\"StichtagDatJahr\": 2004, \"Vorname\": \"Lor\\u00een\", \"SexLang\": \"weiblich\", \"AnzGebuWir\": 1, \"FirstLetter\": \"L\", \"SecondLetter\": \"o\", \"FirstTwoLetters\": \"Lo\"}, {\"StichtagDatJahr\": 2004, \"Vorname\": \"Lorna\", \"SexLang\": \"weiblich\", \"AnzGebuWir\": 1, \"FirstLetter\": \"L\", \"SecondLetter\": \"o\", \"FirstTwoLetters\": \"Lo\"}, {\"StichtagDatJahr\": 2005, \"Vorname\": \"Lo\\u00e9\", \"SexLang\": \"weiblich\", \"AnzGebuWir\": 1, \"FirstLetter\": \"L\", \"SecondLetter\": \"o\", \"FirstTwoLetters\": \"Lo\"}, {\"StichtagDatJahr\": 2005, \"Vorname\": \"Lo\\u00efs\", \"SexLang\": \"weiblich\", \"AnzGebuWir\": 1, \"FirstLetter\": \"L\", \"SecondLetter\": \"o\", \"FirstTwoLetters\": \"Lo\"}, {\"StichtagDatJahr\": 2005, \"Vorname\": \"Lona\", \"SexLang\": \"weiblich\", \"AnzGebuWir\": 1, \"FirstLetter\": \"L\", \"SecondLetter\": \"o\", \"FirstTwoLetters\": \"Lo\"}, {\"StichtagDatJahr\": 2005, \"Vorname\": \"Loneda\", \"SexLang\": \"weiblich\", \"AnzGebuWir\": 1, \"FirstLetter\": \"L\", \"SecondLetter\": \"o\", \"FirstTwoLetters\": \"Lo\"}, {\"StichtagDatJahr\": 2005, \"Vorname\": \"Loni\", \"SexLang\": \"weiblich\", \"AnzGebuWir\": 1, \"FirstLetter\": \"L\", \"SecondLetter\": \"o\", \"FirstTwoLetters\": \"Lo\"}, {\"StichtagDatJahr\": 2005, \"Vorname\": \"Loreta\", \"SexLang\": \"weiblich\", \"AnzGebuWir\": 1, \"FirstLetter\": \"L\", \"SecondLetter\": \"o\", \"FirstTwoLetters\": \"Lo\"}, {\"StichtagDatJahr\": 2005, \"Vorname\": \"Lorina\", \"SexLang\": \"weiblich\", \"AnzGebuWir\": 1, \"FirstLetter\": \"L\", \"SecondLetter\": \"o\", \"FirstTwoLetters\": \"Lo\"}, {\"StichtagDatJahr\": 2005, \"Vorname\": \"Lorraine\", \"SexLang\": \"weiblich\", \"AnzGebuWir\": 1, \"FirstLetter\": \"L\", \"SecondLetter\": \"o\", \"FirstTwoLetters\": \"Lo\"}, {\"StichtagDatJahr\": 2005, \"Vorname\": \"Lotta\", \"SexLang\": \"weiblich\", \"AnzGebuWir\": 1, \"FirstLetter\": \"L\", \"SecondLetter\": \"o\", \"FirstTwoLetters\": \"Lo\"}, {\"StichtagDatJahr\": 2005, \"Vorname\": \"Lou-Anna\", \"SexLang\": \"weiblich\", \"AnzGebuWir\": 1, \"FirstLetter\": \"L\", \"SecondLetter\": \"o\", \"FirstTwoLetters\": \"Lo\"}, {\"StichtagDatJahr\": 2005, \"Vorname\": \"Louisa\", \"SexLang\": \"weiblich\", \"AnzGebuWir\": 1, \"FirstLetter\": \"L\", \"SecondLetter\": \"o\", \"FirstTwoLetters\": \"Lo\"}, {\"StichtagDatJahr\": 2005, \"Vorname\": \"Louise\", \"SexLang\": \"weiblich\", \"AnzGebuWir\": 1, \"FirstLetter\": \"L\", \"SecondLetter\": \"o\", \"FirstTwoLetters\": \"Lo\"}, {\"StichtagDatJahr\": 2005, \"Vorname\": \"Loulou\", \"SexLang\": \"weiblich\", \"AnzGebuWir\": 1, \"FirstLetter\": \"L\", \"SecondLetter\": \"o\", \"FirstTwoLetters\": \"Lo\"}, {\"StichtagDatJahr\": 2005, \"Vorname\": \"Lovis\", \"SexLang\": \"weiblich\", \"AnzGebuWir\": 1, \"FirstLetter\": \"L\", \"SecondLetter\": \"o\", \"FirstTwoLetters\": \"Lo\"}, {\"StichtagDatJahr\": 2002, \"Vorname\": \"Lola\", \"SexLang\": \"weiblich\", \"AnzGebuWir\": 1, \"FirstLetter\": \"L\", \"SecondLetter\": \"o\", \"FirstTwoLetters\": \"Lo\"}, {\"StichtagDatJahr\": 2002, \"Vorname\": \"Lorika\", \"SexLang\": \"weiblich\", \"AnzGebuWir\": 1, \"FirstLetter\": \"L\", \"SecondLetter\": \"o\", \"FirstTwoLetters\": \"Lo\"}, {\"StichtagDatJahr\": 2002, \"Vorname\": \"Lorina\", \"SexLang\": \"weiblich\", \"AnzGebuWir\": 1, \"FirstLetter\": \"L\", \"SecondLetter\": \"o\", \"FirstTwoLetters\": \"Lo\"}, {\"StichtagDatJahr\": 2002, \"Vorname\": \"Lorna\", \"SexLang\": \"weiblich\", \"AnzGebuWir\": 1, \"FirstLetter\": \"L\", \"SecondLetter\": \"o\", \"FirstTwoLetters\": \"Lo\"}, {\"StichtagDatJahr\": 2002, \"Vorname\": \"Lorraine\", \"SexLang\": \"weiblich\", \"AnzGebuWir\": 1, \"FirstLetter\": \"L\", \"SecondLetter\": \"o\", \"FirstTwoLetters\": \"Lo\"}, {\"StichtagDatJahr\": 2003, \"Vorname\": \"Loa\", \"SexLang\": \"weiblich\", \"AnzGebuWir\": 1, \"FirstLetter\": \"L\", \"SecondLetter\": \"o\", \"FirstTwoLetters\": \"Lo\"}, {\"StichtagDatJahr\": 2003, \"Vorname\": \"Lois\", \"SexLang\": \"weiblich\", \"AnzGebuWir\": 1, \"FirstLetter\": \"L\", \"SecondLetter\": \"o\", \"FirstTwoLetters\": \"Lo\"}, {\"StichtagDatJahr\": 2003, \"Vorname\": \"Lo\\u00efs\", \"SexLang\": \"weiblich\", \"AnzGebuWir\": 1, \"FirstLetter\": \"L\", \"SecondLetter\": \"o\", \"FirstTwoLetters\": \"Lo\"}, {\"StichtagDatJahr\": 2003, \"Vorname\": \"Lorijana\", \"SexLang\": \"weiblich\", \"AnzGebuWir\": 1, \"FirstLetter\": \"L\", \"SecondLetter\": \"o\", \"FirstTwoLetters\": \"Lo\"}, {\"StichtagDatJahr\": 2003, \"Vorname\": \"Loryleimis\", \"SexLang\": \"weiblich\", \"AnzGebuWir\": 1, \"FirstLetter\": \"L\", \"SecondLetter\": \"o\", \"FirstTwoLetters\": \"Lo\"}, {\"StichtagDatJahr\": 2003, \"Vorname\": \"Lou-Lara\", \"SexLang\": \"weiblich\", \"AnzGebuWir\": 1, \"FirstLetter\": \"L\", \"SecondLetter\": \"o\", \"FirstTwoLetters\": \"Lo\"}, {\"StichtagDatJahr\": 2003, \"Vorname\": \"Louine\", \"SexLang\": \"weiblich\", \"AnzGebuWir\": 1, \"FirstLetter\": \"L\", \"SecondLetter\": \"o\", \"FirstTwoLetters\": \"Lo\"}, {\"StichtagDatJahr\": 2003, \"Vorname\": \"Louisa\", \"SexLang\": \"weiblich\", \"AnzGebuWir\": 1, \"FirstLetter\": \"L\", \"SecondLetter\": \"o\", \"FirstTwoLetters\": \"Lo\"}, {\"StichtagDatJahr\": 2003, \"Vorname\": \"Loulou\", \"SexLang\": \"weiblich\", \"AnzGebuWir\": 1, \"FirstLetter\": \"L\", \"SecondLetter\": \"o\", \"FirstTwoLetters\": \"Lo\"}, {\"StichtagDatJahr\": 2003, \"Vorname\": \"Lovis\", \"SexLang\": \"weiblich\", \"AnzGebuWir\": 1, \"FirstLetter\": \"L\", \"SecondLetter\": \"o\", \"FirstTwoLetters\": \"Lo\"}, {\"StichtagDatJahr\": 2008, \"Vorname\": \"Lorine\", \"SexLang\": \"weiblich\", \"AnzGebuWir\": 1, \"FirstLetter\": \"L\", \"SecondLetter\": \"o\", \"FirstTwoLetters\": \"Lo\"}, {\"StichtagDatJahr\": 2008, \"Vorname\": \"Loan\", \"SexLang\": \"weiblich\", \"AnzGebuWir\": 1, \"FirstLetter\": \"L\", \"SecondLetter\": \"o\", \"FirstTwoLetters\": \"Lo\"}, {\"StichtagDatJahr\": 2008, \"Vorname\": \"Lois\", \"SexLang\": \"weiblich\", \"AnzGebuWir\": 1, \"FirstLetter\": \"L\", \"SecondLetter\": \"o\", \"FirstTwoLetters\": \"Lo\"}, {\"StichtagDatJahr\": 2008, \"Vorname\": \"Lora\", \"SexLang\": \"weiblich\", \"AnzGebuWir\": 1, \"FirstLetter\": \"L\", \"SecondLetter\": \"o\", \"FirstTwoLetters\": \"Lo\"}, {\"StichtagDatJahr\": 2008, \"Vorname\": \"Lorin\", \"SexLang\": \"weiblich\", \"AnzGebuWir\": 1, \"FirstLetter\": \"L\", \"SecondLetter\": \"o\", \"FirstTwoLetters\": \"Lo\"}, {\"StichtagDatJahr\": 2008, \"Vorname\": \"Lorina\", \"SexLang\": \"weiblich\", \"AnzGebuWir\": 1, \"FirstLetter\": \"L\", \"SecondLetter\": \"o\", \"FirstTwoLetters\": \"Lo\"}, {\"StichtagDatJahr\": 2008, \"Vorname\": \"Lorinda\", \"SexLang\": \"weiblich\", \"AnzGebuWir\": 1, \"FirstLetter\": \"L\", \"SecondLetter\": \"o\", \"FirstTwoLetters\": \"Lo\"}, {\"StichtagDatJahr\": 2008, \"Vorname\": \"Lorisa\", \"SexLang\": \"weiblich\", \"AnzGebuWir\": 1, \"FirstLetter\": \"L\", \"SecondLetter\": \"o\", \"FirstTwoLetters\": \"Lo\"}, {\"StichtagDatJahr\": 2008, \"Vorname\": \"Lotta\", \"SexLang\": \"weiblich\", \"AnzGebuWir\": 1, \"FirstLetter\": \"L\", \"SecondLetter\": \"o\", \"FirstTwoLetters\": \"Lo\"}, {\"StichtagDatJahr\": 2008, \"Vorname\": \"Louine\", \"SexLang\": \"weiblich\", \"AnzGebuWir\": 1, \"FirstLetter\": \"L\", \"SecondLetter\": \"o\", \"FirstTwoLetters\": \"Lo\"}, {\"StichtagDatJahr\": 2008, \"Vorname\": \"Lova\", \"SexLang\": \"weiblich\", \"AnzGebuWir\": 1, \"FirstLetter\": \"L\", \"SecondLetter\": \"o\", \"FirstTwoLetters\": \"Lo\"}, {\"StichtagDatJahr\": 2009, \"Vorname\": \"Lora\", \"SexLang\": \"weiblich\", \"AnzGebuWir\": 1, \"FirstLetter\": \"L\", \"SecondLetter\": \"o\", \"FirstTwoLetters\": \"Lo\"}, {\"StichtagDatJahr\": 2009, \"Vorname\": \"Lorana\", \"SexLang\": \"weiblich\", \"AnzGebuWir\": 1, \"FirstLetter\": \"L\", \"SecondLetter\": \"o\", \"FirstTwoLetters\": \"Lo\"}, {\"StichtagDatJahr\": 2009, \"Vorname\": \"Loreen\", \"SexLang\": \"weiblich\", \"AnzGebuWir\": 1, \"FirstLetter\": \"L\", \"SecondLetter\": \"o\", \"FirstTwoLetters\": \"Lo\"}, {\"StichtagDatJahr\": 2009, \"Vorname\": \"Lorena-Sara\", \"SexLang\": \"weiblich\", \"AnzGebuWir\": 1, \"FirstLetter\": \"L\", \"SecondLetter\": \"o\", \"FirstTwoLetters\": \"Lo\"}, {\"StichtagDatJahr\": 2009, \"Vorname\": \"Loriane\", \"SexLang\": \"weiblich\", \"AnzGebuWir\": 1, \"FirstLetter\": \"L\", \"SecondLetter\": \"o\", \"FirstTwoLetters\": \"Lo\"}, {\"StichtagDatJahr\": 2009, \"Vorname\": \"Lorin\", \"SexLang\": \"weiblich\", \"AnzGebuWir\": 1, \"FirstLetter\": \"L\", \"SecondLetter\": \"o\", \"FirstTwoLetters\": \"Lo\"}, {\"StichtagDatJahr\": 2009, \"Vorname\": \"Lorna\", \"SexLang\": \"weiblich\", \"AnzGebuWir\": 1, \"FirstLetter\": \"L\", \"SecondLetter\": \"o\", \"FirstTwoLetters\": \"Lo\"}, {\"StichtagDatJahr\": 2009, \"Vorname\": \"Loulou\", \"SexLang\": \"weiblich\", \"AnzGebuWir\": 1, \"FirstLetter\": \"L\", \"SecondLetter\": \"o\", \"FirstTwoLetters\": \"Lo\"}, {\"StichtagDatJahr\": 2009, \"Vorname\": \"Lovisa\", \"SexLang\": \"weiblich\", \"AnzGebuWir\": 1, \"FirstLetter\": \"L\", \"SecondLetter\": \"o\", \"FirstTwoLetters\": \"Lo\"}, {\"StichtagDatJahr\": 2006, \"Vorname\": \"Lora\", \"SexLang\": \"weiblich\", \"AnzGebuWir\": 1, \"FirstLetter\": \"L\", \"SecondLetter\": \"o\", \"FirstTwoLetters\": \"Lo\"}, {\"StichtagDatJahr\": 2006, \"Vorname\": \"Lochanaa\", \"SexLang\": \"weiblich\", \"AnzGebuWir\": 1, \"FirstLetter\": \"L\", \"SecondLetter\": \"o\", \"FirstTwoLetters\": \"Lo\"}, {\"StichtagDatJahr\": 2006, \"Vorname\": \"Lona\", \"SexLang\": \"weiblich\", \"AnzGebuWir\": 1, \"FirstLetter\": \"L\", \"SecondLetter\": \"o\", \"FirstTwoLetters\": \"Lo\"}, {\"StichtagDatJahr\": 2006, \"Vorname\": \"Loraine\", \"SexLang\": \"weiblich\", \"AnzGebuWir\": 1, \"FirstLetter\": \"L\", \"SecondLetter\": \"o\", \"FirstTwoLetters\": \"Lo\"}, {\"StichtagDatJahr\": 2006, \"Vorname\": \"Loresa\", \"SexLang\": \"weiblich\", \"AnzGebuWir\": 1, \"FirstLetter\": \"L\", \"SecondLetter\": \"o\", \"FirstTwoLetters\": \"Lo\"}, {\"StichtagDatJahr\": 2006, \"Vorname\": \"Lotte\", \"SexLang\": \"weiblich\", \"AnzGebuWir\": 1, \"FirstLetter\": \"L\", \"SecondLetter\": \"o\", \"FirstTwoLetters\": \"Lo\"}, {\"StichtagDatJahr\": 2006, \"Vorname\": \"Lova\", \"SexLang\": \"weiblich\", \"AnzGebuWir\": 1, \"FirstLetter\": \"L\", \"SecondLetter\": \"o\", \"FirstTwoLetters\": \"Lo\"}, {\"StichtagDatJahr\": 2007, \"Vorname\": \"Loana\", \"SexLang\": \"weiblich\", \"AnzGebuWir\": 1, \"FirstLetter\": \"L\", \"SecondLetter\": \"o\", \"FirstTwoLetters\": \"Lo\"}, {\"StichtagDatJahr\": 2007, \"Vorname\": \"Loe\", \"SexLang\": \"weiblich\", \"AnzGebuWir\": 1, \"FirstLetter\": \"L\", \"SecondLetter\": \"o\", \"FirstTwoLetters\": \"Lo\"}, {\"StichtagDatJahr\": 2007, \"Vorname\": \"Lois\", \"SexLang\": \"weiblich\", \"AnzGebuWir\": 1, \"FirstLetter\": \"L\", \"SecondLetter\": \"o\", \"FirstTwoLetters\": \"Lo\"}, {\"StichtagDatJahr\": 2007, \"Vorname\": \"Lom\\u00e9\", \"SexLang\": \"weiblich\", \"AnzGebuWir\": 1, \"FirstLetter\": \"L\", \"SecondLetter\": \"o\", \"FirstTwoLetters\": \"Lo\"}, {\"StichtagDatJahr\": 2007, \"Vorname\": \"Lorina\", \"SexLang\": \"weiblich\", \"AnzGebuWir\": 1, \"FirstLetter\": \"L\", \"SecondLetter\": \"o\", \"FirstTwoLetters\": \"Lo\"}, {\"StichtagDatJahr\": 2007, \"Vorname\": \"Lorraine\", \"SexLang\": \"weiblich\", \"AnzGebuWir\": 1, \"FirstLetter\": \"L\", \"SecondLetter\": \"o\", \"FirstTwoLetters\": \"Lo\"}, {\"StichtagDatJahr\": 2007, \"Vorname\": \"Lotta\", \"SexLang\": \"weiblich\", \"AnzGebuWir\": 1, \"FirstLetter\": \"L\", \"SecondLetter\": \"o\", \"FirstTwoLetters\": \"Lo\"}, {\"StichtagDatJahr\": 2007, \"Vorname\": \"Lotte\", \"SexLang\": \"weiblich\", \"AnzGebuWir\": 1, \"FirstLetter\": \"L\", \"SecondLetter\": \"o\", \"FirstTwoLetters\": \"Lo\"}, {\"StichtagDatJahr\": 2007, \"Vorname\": \"Lovisa\", \"SexLang\": \"weiblich\", \"AnzGebuWir\": 1, \"FirstLetter\": \"L\", \"SecondLetter\": \"o\", \"FirstTwoLetters\": \"Lo\"}, {\"StichtagDatJahr\": 1996, \"Vorname\": \"Louise\", \"SexLang\": \"weiblich\", \"AnzGebuWir\": 1, \"FirstLetter\": \"L\", \"SecondLetter\": \"o\", \"FirstTwoLetters\": \"Lo\"}, {\"StichtagDatJahr\": 1996, \"Vorname\": \"Loisa\", \"SexLang\": \"weiblich\", \"AnzGebuWir\": 1, \"FirstLetter\": \"L\", \"SecondLetter\": \"o\", \"FirstTwoLetters\": \"Lo\"}, {\"StichtagDatJahr\": 1996, \"Vorname\": \"Lola\", \"SexLang\": \"weiblich\", \"AnzGebuWir\": 1, \"FirstLetter\": \"L\", \"SecondLetter\": \"o\", \"FirstTwoLetters\": \"Lo\"}, {\"StichtagDatJahr\": 1996, \"Vorname\": \"Londina\", \"SexLang\": \"weiblich\", \"AnzGebuWir\": 1, \"FirstLetter\": \"L\", \"SecondLetter\": \"o\", \"FirstTwoLetters\": \"Lo\"}, {\"StichtagDatJahr\": 1996, \"Vorname\": \"Lorea\", \"SexLang\": \"weiblich\", \"AnzGebuWir\": 1, \"FirstLetter\": \"L\", \"SecondLetter\": \"o\", \"FirstTwoLetters\": \"Lo\"}, {\"StichtagDatJahr\": 1996, \"Vorname\": \"Loret\", \"SexLang\": \"weiblich\", \"AnzGebuWir\": 1, \"FirstLetter\": \"L\", \"SecondLetter\": \"o\", \"FirstTwoLetters\": \"Lo\"}, {\"StichtagDatJahr\": 1996, \"Vorname\": \"Loreta\", \"SexLang\": \"weiblich\", \"AnzGebuWir\": 1, \"FirstLetter\": \"L\", \"SecondLetter\": \"o\", \"FirstTwoLetters\": \"Lo\"}, {\"StichtagDatJahr\": 1996, \"Vorname\": \"Lorina\", \"SexLang\": \"weiblich\", \"AnzGebuWir\": 1, \"FirstLetter\": \"L\", \"SecondLetter\": \"o\", \"FirstTwoLetters\": \"Lo\"}, {\"StichtagDatJahr\": 1996, \"Vorname\": \"Lou\", \"SexLang\": \"weiblich\", \"AnzGebuWir\": 1, \"FirstLetter\": \"L\", \"SecondLetter\": \"o\", \"FirstTwoLetters\": \"Lo\"}, {\"StichtagDatJahr\": 1995, \"Vorname\": \"Lola\", \"SexLang\": \"weiblich\", \"AnzGebuWir\": 1, \"FirstLetter\": \"L\", \"SecondLetter\": \"o\", \"FirstTwoLetters\": \"Lo\"}, {\"StichtagDatJahr\": 1995, \"Vorname\": \"Lobsang\", \"SexLang\": \"weiblich\", \"AnzGebuWir\": 1, \"FirstLetter\": \"L\", \"SecondLetter\": \"o\", \"FirstTwoLetters\": \"Lo\"}, {\"StichtagDatJahr\": 1995, \"Vorname\": \"Long\", \"SexLang\": \"weiblich\", \"AnzGebuWir\": 1, \"FirstLetter\": \"L\", \"SecondLetter\": \"o\", \"FirstTwoLetters\": \"Lo\"}, {\"StichtagDatJahr\": 1995, \"Vorname\": \"Loredana\", \"SexLang\": \"weiblich\", \"AnzGebuWir\": 1, \"FirstLetter\": \"L\", \"SecondLetter\": \"o\", \"FirstTwoLetters\": \"Lo\"}, {\"StichtagDatJahr\": 1995, \"Vorname\": \"Lotta\", \"SexLang\": \"weiblich\", \"AnzGebuWir\": 1, \"FirstLetter\": \"L\", \"SecondLetter\": \"o\", \"FirstTwoLetters\": \"Lo\"}, {\"StichtagDatJahr\": 1995, \"Vorname\": \"Louise\", \"SexLang\": \"weiblich\", \"AnzGebuWir\": 1, \"FirstLetter\": \"L\", \"SecondLetter\": \"o\", \"FirstTwoLetters\": \"Lo\"}, {\"StichtagDatJahr\": 1997, \"Vorname\": \"Lotta\", \"SexLang\": \"weiblich\", \"AnzGebuWir\": 1, \"FirstLetter\": \"L\", \"SecondLetter\": \"o\", \"FirstTwoLetters\": \"Lo\"}, {\"StichtagDatJahr\": 1997, \"Vorname\": \"Lou\", \"SexLang\": \"weiblich\", \"AnzGebuWir\": 1, \"FirstLetter\": \"L\", \"SecondLetter\": \"o\", \"FirstTwoLetters\": \"Lo\"}, {\"StichtagDatJahr\": 1993, \"Vorname\": \"Louise\", \"SexLang\": \"weiblich\", \"AnzGebuWir\": 1, \"FirstLetter\": \"L\", \"SecondLetter\": \"o\", \"FirstTwoLetters\": \"Lo\"}, {\"StichtagDatJahr\": 1994, \"Vorname\": \"Louisa\", \"SexLang\": \"weiblich\", \"AnzGebuWir\": 1, \"FirstLetter\": \"L\", \"SecondLetter\": \"o\", \"FirstTwoLetters\": \"Lo\"}, {\"StichtagDatJahr\": 1994, \"Vorname\": \"Loretta\", \"SexLang\": \"weiblich\", \"AnzGebuWir\": 1, \"FirstLetter\": \"L\", \"SecondLetter\": \"o\", \"FirstTwoLetters\": \"Lo\"}, {\"StichtagDatJahr\": 1994, \"Vorname\": \"Lorina\", \"SexLang\": \"weiblich\", \"AnzGebuWir\": 1, \"FirstLetter\": \"L\", \"SecondLetter\": \"o\", \"FirstTwoLetters\": \"Lo\"}, {\"StichtagDatJahr\": 1994, \"Vorname\": \"Lotti\", \"SexLang\": \"weiblich\", \"AnzGebuWir\": 1, \"FirstLetter\": \"L\", \"SecondLetter\": \"o\", \"FirstTwoLetters\": \"Lo\"}, {\"StichtagDatJahr\": 1994, \"Vorname\": \"Lou\", \"SexLang\": \"weiblich\", \"AnzGebuWir\": 1, \"FirstLetter\": \"L\", \"SecondLetter\": \"o\", \"FirstTwoLetters\": \"Lo\"}, {\"StichtagDatJahr\": 1994, \"Vorname\": \"Loue\", \"SexLang\": \"weiblich\", \"AnzGebuWir\": 1, \"FirstLetter\": \"L\", \"SecondLetter\": \"o\", \"FirstTwoLetters\": \"Lo\"}, {\"StichtagDatJahr\": 2000, \"Vorname\": \"Lorenta\", \"SexLang\": \"weiblich\", \"AnzGebuWir\": 1, \"FirstLetter\": \"L\", \"SecondLetter\": \"o\", \"FirstTwoLetters\": \"Lo\"}, {\"StichtagDatJahr\": 2000, \"Vorname\": \"Loreta\", \"SexLang\": \"weiblich\", \"AnzGebuWir\": 1, \"FirstLetter\": \"L\", \"SecondLetter\": \"o\", \"FirstTwoLetters\": \"Lo\"}, {\"StichtagDatJahr\": 2000, \"Vorname\": \"Lorr\\u00e3ny\", \"SexLang\": \"weiblich\", \"AnzGebuWir\": 1, \"FirstLetter\": \"L\", \"SecondLetter\": \"o\", \"FirstTwoLetters\": \"Lo\"}, {\"StichtagDatJahr\": 2000, \"Vorname\": \"Lou-Tamara\", \"SexLang\": \"weiblich\", \"AnzGebuWir\": 1, \"FirstLetter\": \"L\", \"SecondLetter\": \"o\", \"FirstTwoLetters\": \"Lo\"}, {\"StichtagDatJahr\": 2001, \"Vorname\": \"Lola\", \"SexLang\": \"weiblich\", \"AnzGebuWir\": 1, \"FirstLetter\": \"L\", \"SecondLetter\": \"o\", \"FirstTwoLetters\": \"Lo\"}, {\"StichtagDatJahr\": 2001, \"Vorname\": \"Loredana\", \"SexLang\": \"weiblich\", \"AnzGebuWir\": 1, \"FirstLetter\": \"L\", \"SecondLetter\": \"o\", \"FirstTwoLetters\": \"Lo\"}, {\"StichtagDatJahr\": 2001, \"Vorname\": \"Lorika\", \"SexLang\": \"weiblich\", \"AnzGebuWir\": 1, \"FirstLetter\": \"L\", \"SecondLetter\": \"o\", \"FirstTwoLetters\": \"Lo\"}, {\"StichtagDatJahr\": 2001, \"Vorname\": \"Lotiane\", \"SexLang\": \"weiblich\", \"AnzGebuWir\": 1, \"FirstLetter\": \"L\", \"SecondLetter\": \"o\", \"FirstTwoLetters\": \"Lo\"}, {\"StichtagDatJahr\": 2001, \"Vorname\": \"Louisa\", \"SexLang\": \"weiblich\", \"AnzGebuWir\": 1, \"FirstLetter\": \"L\", \"SecondLetter\": \"o\", \"FirstTwoLetters\": \"Lo\"}, {\"StichtagDatJahr\": 2001, \"Vorname\": \"Louise\", \"SexLang\": \"weiblich\", \"AnzGebuWir\": 1, \"FirstLetter\": \"L\", \"SecondLetter\": \"o\", \"FirstTwoLetters\": \"Lo\"}, {\"StichtagDatJahr\": 2001, \"Vorname\": \"Lousal\\u00f4m\\u00e9\", \"SexLang\": \"weiblich\", \"AnzGebuWir\": 1, \"FirstLetter\": \"L\", \"SecondLetter\": \"o\", \"FirstTwoLetters\": \"Lo\"}, {\"StichtagDatJahr\": 1998, \"Vorname\": \"Lorinda\", \"SexLang\": \"weiblich\", \"AnzGebuWir\": 1, \"FirstLetter\": \"L\", \"SecondLetter\": \"o\", \"FirstTwoLetters\": \"Lo\"}, {\"StichtagDatJahr\": 1998, \"Vorname\": \"Lou\", \"SexLang\": \"weiblich\", \"AnzGebuWir\": 1, \"FirstLetter\": \"L\", \"SecondLetter\": \"o\", \"FirstTwoLetters\": \"Lo\"}, {\"StichtagDatJahr\": 1998, \"Vorname\": \"Lores\\u00eb\", \"SexLang\": \"weiblich\", \"AnzGebuWir\": 1, \"FirstLetter\": \"L\", \"SecondLetter\": \"o\", \"FirstTwoLetters\": \"Lo\"}, {\"StichtagDatJahr\": 1998, \"Vorname\": \"Lola\", \"SexLang\": \"weiblich\", \"AnzGebuWir\": 1, \"FirstLetter\": \"L\", \"SecondLetter\": \"o\", \"FirstTwoLetters\": \"Lo\"}, {\"StichtagDatJahr\": 1999, \"Vorname\": \"Lois\", \"SexLang\": \"weiblich\", \"AnzGebuWir\": 1, \"FirstLetter\": \"L\", \"SecondLetter\": \"o\", \"FirstTwoLetters\": \"Lo\"}, {\"StichtagDatJahr\": 1999, \"Vorname\": \"Lorentina\", \"SexLang\": \"weiblich\", \"AnzGebuWir\": 1, \"FirstLetter\": \"L\", \"SecondLetter\": \"o\", \"FirstTwoLetters\": \"Lo\"}, {\"StichtagDatJahr\": 1999, \"Vorname\": \"Lou\", \"SexLang\": \"weiblich\", \"AnzGebuWir\": 1, \"FirstLetter\": \"L\", \"SecondLetter\": \"o\", \"FirstTwoLetters\": \"Lo\"}, {\"StichtagDatJahr\": 1999, \"Vorname\": \"Louisa\", \"SexLang\": \"weiblich\", \"AnzGebuWir\": 1, \"FirstLetter\": \"L\", \"SecondLetter\": \"o\", \"FirstTwoLetters\": \"Lo\"}, {\"StichtagDatJahr\": 2020, \"Vorname\": \"Larissa\", \"SexLang\": \"weiblich\", \"AnzGebuWir\": 1, \"FirstLetter\": \"L\", \"SecondLetter\": \"a\", \"FirstTwoLetters\": \"La\"}, {\"StichtagDatJahr\": 2020, \"Vorname\": \"Lauren\", \"SexLang\": \"weiblich\", \"AnzGebuWir\": 1, \"FirstLetter\": \"L\", \"SecondLetter\": \"a\", \"FirstTwoLetters\": \"La\"}, {\"StichtagDatJahr\": 2020, \"Vorname\": \"Laurence\", \"SexLang\": \"weiblich\", \"AnzGebuWir\": 1, \"FirstLetter\": \"L\", \"SecondLetter\": \"a\", \"FirstTwoLetters\": \"La\"}, {\"StichtagDatJahr\": 2020, \"Vorname\": \"Lavinia\", \"SexLang\": \"weiblich\", \"AnzGebuWir\": 1, \"FirstLetter\": \"L\", \"SecondLetter\": \"a\", \"FirstTwoLetters\": \"La\"}, {\"StichtagDatJahr\": 2020, \"Vorname\": \"Laya\", \"SexLang\": \"weiblich\", \"AnzGebuWir\": 1, \"FirstLetter\": \"L\", \"SecondLetter\": \"a\", \"FirstTwoLetters\": \"La\"}, {\"StichtagDatJahr\": 2020, \"Vorname\": \"Layana\", \"SexLang\": \"weiblich\", \"AnzGebuWir\": 1, \"FirstLetter\": \"L\", \"SecondLetter\": \"a\", \"FirstTwoLetters\": \"La\"}, {\"StichtagDatJahr\": 2020, \"Vorname\": \"Layel\", \"SexLang\": \"weiblich\", \"AnzGebuWir\": 1, \"FirstLetter\": \"L\", \"SecondLetter\": \"a\", \"FirstTwoLetters\": \"La\"}, {\"StichtagDatJahr\": 2020, \"Vorname\": \"Laure\", \"SexLang\": \"weiblich\", \"AnzGebuWir\": 1, \"FirstLetter\": \"L\", \"SecondLetter\": \"a\", \"FirstTwoLetters\": \"La\"}, {\"StichtagDatJahr\": 2020, \"Vorname\": \"Laraina\", \"SexLang\": \"weiblich\", \"AnzGebuWir\": 1, \"FirstLetter\": \"L\", \"SecondLetter\": \"a\", \"FirstTwoLetters\": \"La\"}, {\"StichtagDatJahr\": 2020, \"Vorname\": \"Lanea\", \"SexLang\": \"weiblich\", \"AnzGebuWir\": 1, \"FirstLetter\": \"L\", \"SecondLetter\": \"a\", \"FirstTwoLetters\": \"La\"}, {\"StichtagDatJahr\": 2020, \"Vorname\": \"Lahina\", \"SexLang\": \"weiblich\", \"AnzGebuWir\": 1, \"FirstLetter\": \"L\", \"SecondLetter\": \"a\", \"FirstTwoLetters\": \"La\"}, {\"StichtagDatJahr\": 2020, \"Vorname\": \"Laila\", \"SexLang\": \"weiblich\", \"AnzGebuWir\": 1, \"FirstLetter\": \"L\", \"SecondLetter\": \"a\", \"FirstTwoLetters\": \"La\"}, {\"StichtagDatJahr\": 2020, \"Vorname\": \"Laina\", \"SexLang\": \"weiblich\", \"AnzGebuWir\": 1, \"FirstLetter\": \"L\", \"SecondLetter\": \"a\", \"FirstTwoLetters\": \"La\"}, {\"StichtagDatJahr\": 2020, \"Vorname\": \"Lale\", \"SexLang\": \"weiblich\", \"AnzGebuWir\": 1, \"FirstLetter\": \"L\", \"SecondLetter\": \"a\", \"FirstTwoLetters\": \"La\"}, {\"StichtagDatJahr\": 2020, \"Vorname\": \"Lovis\", \"SexLang\": \"weiblich\", \"AnzGebuWir\": 1, \"FirstLetter\": \"L\", \"SecondLetter\": \"o\", \"FirstTwoLetters\": \"Lo\"}, {\"StichtagDatJahr\": 2020, \"Vorname\": \"Louane\", \"SexLang\": \"weiblich\", \"AnzGebuWir\": 1, \"FirstLetter\": \"L\", \"SecondLetter\": \"o\", \"FirstTwoLetters\": \"Lo\"}, {\"StichtagDatJahr\": 2020, \"Vorname\": \"Loua\", \"SexLang\": \"weiblich\", \"AnzGebuWir\": 1, \"FirstLetter\": \"L\", \"SecondLetter\": \"o\", \"FirstTwoLetters\": \"Lo\"}, {\"StichtagDatJahr\": 2020, \"Vorname\": \"Lorina\", \"SexLang\": \"weiblich\", \"AnzGebuWir\": 1, \"FirstLetter\": \"L\", \"SecondLetter\": \"o\", \"FirstTwoLetters\": \"Lo\"}, {\"StichtagDatJahr\": 2020, \"Vorname\": \"Lorine\", \"SexLang\": \"weiblich\", \"AnzGebuWir\": 1, \"FirstLetter\": \"L\", \"SecondLetter\": \"o\", \"FirstTwoLetters\": \"Lo\"}, {\"StichtagDatJahr\": 2018, \"Vorname\": \"Loie\", \"SexLang\": \"weiblich\", \"AnzGebuWir\": 1, \"FirstLetter\": \"L\", \"SecondLetter\": \"o\", \"FirstTwoLetters\": \"Lo\"}, {\"StichtagDatJahr\": 2018, \"Vorname\": \"Loki\", \"SexLang\": \"weiblich\", \"AnzGebuWir\": 1, \"FirstLetter\": \"L\", \"SecondLetter\": \"o\", \"FirstTwoLetters\": \"Lo\"}, {\"StichtagDatJahr\": 2018, \"Vorname\": \"Loren\", \"SexLang\": \"weiblich\", \"AnzGebuWir\": 1, \"FirstLetter\": \"L\", \"SecondLetter\": \"o\", \"FirstTwoLetters\": \"Lo\"}, {\"StichtagDatJahr\": 2018, \"Vorname\": \"Lorina\", \"SexLang\": \"weiblich\", \"AnzGebuWir\": 1, \"FirstLetter\": \"L\", \"SecondLetter\": \"o\", \"FirstTwoLetters\": \"Lo\"}, {\"StichtagDatJahr\": 2018, \"Vorname\": \"Lorine\", \"SexLang\": \"weiblich\", \"AnzGebuWir\": 1, \"FirstLetter\": \"L\", \"SecondLetter\": \"o\", \"FirstTwoLetters\": \"Lo\"}, {\"StichtagDatJahr\": 2018, \"Vorname\": \"Lou-Ann\", \"SexLang\": \"weiblich\", \"AnzGebuWir\": 1, \"FirstLetter\": \"L\", \"SecondLetter\": \"o\", \"FirstTwoLetters\": \"Lo\"}, {\"StichtagDatJahr\": 2018, \"Vorname\": \"Loua\", \"SexLang\": \"weiblich\", \"AnzGebuWir\": 1, \"FirstLetter\": \"L\", \"SecondLetter\": \"o\", \"FirstTwoLetters\": \"Lo\"}, {\"StichtagDatJahr\": 2018, \"Vorname\": \"Louen\", \"SexLang\": \"weiblich\", \"AnzGebuWir\": 1, \"FirstLetter\": \"L\", \"SecondLetter\": \"o\", \"FirstTwoLetters\": \"Lo\"}, {\"StichtagDatJahr\": 2018, \"Vorname\": \"Louiza\", \"SexLang\": \"weiblich\", \"AnzGebuWir\": 1, \"FirstLetter\": \"L\", \"SecondLetter\": \"o\", \"FirstTwoLetters\": \"Lo\"}, {\"StichtagDatJahr\": 2018, \"Vorname\": \"Loulou\", \"SexLang\": \"weiblich\", \"AnzGebuWir\": 1, \"FirstLetter\": \"L\", \"SecondLetter\": \"o\", \"FirstTwoLetters\": \"Lo\"}, {\"StichtagDatJahr\": 2018, \"Vorname\": \"Lovis\", \"SexLang\": \"weiblich\", \"AnzGebuWir\": 1, \"FirstLetter\": \"L\", \"SecondLetter\": \"o\", \"FirstTwoLetters\": \"Lo\"}, {\"StichtagDatJahr\": 2019, \"Vorname\": \"Lola-Grace\", \"SexLang\": \"weiblich\", \"AnzGebuWir\": 1, \"FirstLetter\": \"L\", \"SecondLetter\": \"o\", \"FirstTwoLetters\": \"Lo\"}, {\"StichtagDatJahr\": 2019, \"Vorname\": \"Lore\", \"SexLang\": \"weiblich\", \"AnzGebuWir\": 1, \"FirstLetter\": \"L\", \"SecondLetter\": \"o\", \"FirstTwoLetters\": \"Lo\"}, {\"StichtagDatJahr\": 2019, \"Vorname\": \"Lotte\", \"SexLang\": \"weiblich\", \"AnzGebuWir\": 1, \"FirstLetter\": \"L\", \"SecondLetter\": \"o\", \"FirstTwoLetters\": \"Lo\"}, {\"StichtagDatJahr\": 2019, \"Vorname\": \"Louane\", \"SexLang\": \"weiblich\", \"AnzGebuWir\": 1, \"FirstLetter\": \"L\", \"SecondLetter\": \"o\", \"FirstTwoLetters\": \"Lo\"}, {\"StichtagDatJahr\": 2019, \"Vorname\": \"Louison\", \"SexLang\": \"weiblich\", \"AnzGebuWir\": 1, \"FirstLetter\": \"L\", \"SecondLetter\": \"o\", \"FirstTwoLetters\": \"Lo\"}, {\"StichtagDatJahr\": 2019, \"Vorname\": \"Loviel\", \"SexLang\": \"weiblich\", \"AnzGebuWir\": 1, \"FirstLetter\": \"L\", \"SecondLetter\": \"o\", \"FirstTwoLetters\": \"Lo\"}, {\"StichtagDatJahr\": 2019, \"Vorname\": \"Lovin\", \"SexLang\": \"weiblich\", \"AnzGebuWir\": 1, \"FirstLetter\": \"L\", \"SecondLetter\": \"o\", \"FirstTwoLetters\": \"Lo\"}, {\"StichtagDatJahr\": 2019, \"Vorname\": \"Lovis\", \"SexLang\": \"weiblich\", \"AnzGebuWir\": 1, \"FirstLetter\": \"L\", \"SecondLetter\": \"o\", \"FirstTwoLetters\": \"Lo\"}, {\"StichtagDatJahr\": 2019, \"Vorname\": \"Lovisa\", \"SexLang\": \"weiblich\", \"AnzGebuWir\": 1, \"FirstLetter\": \"L\", \"SecondLetter\": \"o\", \"FirstTwoLetters\": \"Lo\"}, {\"StichtagDatJahr\": 2019, \"Vorname\": \"Laila\", \"SexLang\": \"weiblich\", \"AnzGebuWir\": 1, \"FirstLetter\": \"L\", \"SecondLetter\": \"a\", \"FirstTwoLetters\": \"La\"}, {\"StichtagDatJahr\": 2019, \"Vorname\": \"Laleh\", \"SexLang\": \"weiblich\", \"AnzGebuWir\": 1, \"FirstLetter\": \"L\", \"SecondLetter\": \"a\", \"FirstTwoLetters\": \"La\"}, {\"StichtagDatJahr\": 2019, \"Vorname\": \"Lana\", \"SexLang\": \"weiblich\", \"AnzGebuWir\": 1, \"FirstLetter\": \"L\", \"SecondLetter\": \"a\", \"FirstTwoLetters\": \"La\"}, {\"StichtagDatJahr\": 2019, \"Vorname\": \"Larina\", \"SexLang\": \"weiblich\", \"AnzGebuWir\": 1, \"FirstLetter\": \"L\", \"SecondLetter\": \"a\", \"FirstTwoLetters\": \"La\"}, {\"StichtagDatJahr\": 2019, \"Vorname\": \"Lauren\", \"SexLang\": \"weiblich\", \"AnzGebuWir\": 1, \"FirstLetter\": \"L\", \"SecondLetter\": \"a\", \"FirstTwoLetters\": \"La\"}, {\"StichtagDatJahr\": 2019, \"Vorname\": \"Laya\", \"SexLang\": \"weiblich\", \"AnzGebuWir\": 1, \"FirstLetter\": \"L\", \"SecondLetter\": \"a\", \"FirstTwoLetters\": \"La\"}, {\"StichtagDatJahr\": 2012, \"Vorname\": \"Louanne\", \"SexLang\": \"weiblich\", \"AnzGebuWir\": 1, \"FirstLetter\": \"L\", \"SecondLetter\": \"o\", \"FirstTwoLetters\": \"Lo\"}, {\"StichtagDatJahr\": 2012, \"Vorname\": \"Loa\", \"SexLang\": \"weiblich\", \"AnzGebuWir\": 1, \"FirstLetter\": \"L\", \"SecondLetter\": \"o\", \"FirstTwoLetters\": \"Lo\"}, {\"StichtagDatJahr\": 2012, \"Vorname\": \"Loe\", \"SexLang\": \"weiblich\", \"AnzGebuWir\": 1, \"FirstLetter\": \"L\", \"SecondLetter\": \"o\", \"FirstTwoLetters\": \"Lo\"}, {\"StichtagDatJahr\": 2012, \"Vorname\": \"Lokwa\", \"SexLang\": \"weiblich\", \"AnzGebuWir\": 1, \"FirstLetter\": \"L\", \"SecondLetter\": \"o\", \"FirstTwoLetters\": \"Lo\"}, {\"StichtagDatJahr\": 2012, \"Vorname\": \"Lorea\", \"SexLang\": \"weiblich\", \"AnzGebuWir\": 1, \"FirstLetter\": \"L\", \"SecondLetter\": \"o\", \"FirstTwoLetters\": \"Lo\"}, {\"StichtagDatJahr\": 2012, \"Vorname\": \"Loriana\", \"SexLang\": \"weiblich\", \"AnzGebuWir\": 1, \"FirstLetter\": \"L\", \"SecondLetter\": \"o\", \"FirstTwoLetters\": \"Lo\"}, {\"StichtagDatJahr\": 2012, \"Vorname\": \"Lorina\", \"SexLang\": \"weiblich\", \"AnzGebuWir\": 1, \"FirstLetter\": \"L\", \"SecondLetter\": \"o\", \"FirstTwoLetters\": \"Lo\"}, {\"StichtagDatJahr\": 2012, \"Vorname\": \"Lorisa\", \"SexLang\": \"weiblich\", \"AnzGebuWir\": 1, \"FirstLetter\": \"L\", \"SecondLetter\": \"o\", \"FirstTwoLetters\": \"Lo\"}, {\"StichtagDatJahr\": 2012, \"Vorname\": \"Lotta\", \"SexLang\": \"weiblich\", \"AnzGebuWir\": 1, \"FirstLetter\": \"L\", \"SecondLetter\": \"o\", \"FirstTwoLetters\": \"Lo\"}, {\"StichtagDatJahr\": 2012, \"Vorname\": \"Lovina\", \"SexLang\": \"weiblich\", \"AnzGebuWir\": 1, \"FirstLetter\": \"L\", \"SecondLetter\": \"o\", \"FirstTwoLetters\": \"Lo\"}, {\"StichtagDatJahr\": 2013, \"Vorname\": \"Lois\", \"SexLang\": \"weiblich\", \"AnzGebuWir\": 1, \"FirstLetter\": \"L\", \"SecondLetter\": \"o\", \"FirstTwoLetters\": \"Lo\"}, {\"StichtagDatJahr\": 2013, \"Vorname\": \"Lo\\u00efs\", \"SexLang\": \"weiblich\", \"AnzGebuWir\": 1, \"FirstLetter\": \"L\", \"SecondLetter\": \"o\", \"FirstTwoLetters\": \"Lo\"}, {\"StichtagDatJahr\": 2013, \"Vorname\": \"Lola\", \"SexLang\": \"weiblich\", \"AnzGebuWir\": 1, \"FirstLetter\": \"L\", \"SecondLetter\": \"o\", \"FirstTwoLetters\": \"Lo\"}, {\"StichtagDatJahr\": 2013, \"Vorname\": \"Lora\", \"SexLang\": \"weiblich\", \"AnzGebuWir\": 1, \"FirstLetter\": \"L\", \"SecondLetter\": \"o\", \"FirstTwoLetters\": \"Lo\"}, {\"StichtagDatJahr\": 2013, \"Vorname\": \"Loreen\", \"SexLang\": \"weiblich\", \"AnzGebuWir\": 1, \"FirstLetter\": \"L\", \"SecondLetter\": \"o\", \"FirstTwoLetters\": \"Lo\"}, {\"StichtagDatJahr\": 2013, \"Vorname\": \"Loretta\", \"SexLang\": \"weiblich\", \"AnzGebuWir\": 1, \"FirstLetter\": \"L\", \"SecondLetter\": \"o\", \"FirstTwoLetters\": \"Lo\"}, {\"StichtagDatJahr\": 2013, \"Vorname\": \"Lorina\", \"SexLang\": \"weiblich\", \"AnzGebuWir\": 1, \"FirstLetter\": \"L\", \"SecondLetter\": \"o\", \"FirstTwoLetters\": \"Lo\"}, {\"StichtagDatJahr\": 2013, \"Vorname\": \"Lorine\", \"SexLang\": \"weiblich\", \"AnzGebuWir\": 1, \"FirstLetter\": \"L\", \"SecondLetter\": \"o\", \"FirstTwoLetters\": \"Lo\"}, {\"StichtagDatJahr\": 2013, \"Vorname\": \"Lotachi\", \"SexLang\": \"weiblich\", \"AnzGebuWir\": 1, \"FirstLetter\": \"L\", \"SecondLetter\": \"o\", \"FirstTwoLetters\": \"Lo\"}, {\"StichtagDatJahr\": 2013, \"Vorname\": \"Louison\", \"SexLang\": \"weiblich\", \"AnzGebuWir\": 1, \"FirstLetter\": \"L\", \"SecondLetter\": \"o\", \"FirstTwoLetters\": \"Lo\"}, {\"StichtagDatJahr\": 2013, \"Vorname\": \"Lovisa\", \"SexLang\": \"weiblich\", \"AnzGebuWir\": 1, \"FirstLetter\": \"L\", \"SecondLetter\": \"o\", \"FirstTwoLetters\": \"Lo\"}, {\"StichtagDatJahr\": 2013, \"Vorname\": \"Lowiese\", \"SexLang\": \"weiblich\", \"AnzGebuWir\": 1, \"FirstLetter\": \"L\", \"SecondLetter\": \"o\", \"FirstTwoLetters\": \"Lo\"}, {\"StichtagDatJahr\": 2010, \"Vorname\": \"Lonny\", \"SexLang\": \"weiblich\", \"AnzGebuWir\": 1, \"FirstLetter\": \"L\", \"SecondLetter\": \"o\", \"FirstTwoLetters\": \"Lo\"}, {\"StichtagDatJahr\": 2010, \"Vorname\": \"Loredana\", \"SexLang\": \"weiblich\", \"AnzGebuWir\": 1, \"FirstLetter\": \"L\", \"SecondLetter\": \"o\", \"FirstTwoLetters\": \"Lo\"}, {\"StichtagDatJahr\": 2010, \"Vorname\": \"Loren\", \"SexLang\": \"weiblich\", \"AnzGebuWir\": 1, \"FirstLetter\": \"L\", \"SecondLetter\": \"o\", \"FirstTwoLetters\": \"Lo\"}, {\"StichtagDatJahr\": 2010, \"Vorname\": \"Loresa\", \"SexLang\": \"weiblich\", \"AnzGebuWir\": 1, \"FirstLetter\": \"L\", \"SecondLetter\": \"o\", \"FirstTwoLetters\": \"Lo\"}, {\"StichtagDatJahr\": 2010, \"Vorname\": \"Loretta\", \"SexLang\": \"weiblich\", \"AnzGebuWir\": 1, \"FirstLetter\": \"L\", \"SecondLetter\": \"o\", \"FirstTwoLetters\": \"Lo\"}, {\"StichtagDatJahr\": 2010, \"Vorname\": \"Lotte\", \"SexLang\": \"weiblich\", \"AnzGebuWir\": 1, \"FirstLetter\": \"L\", \"SecondLetter\": \"o\", \"FirstTwoLetters\": \"Lo\"}, {\"StichtagDatJahr\": 2010, \"Vorname\": \"Lou-Marl\\u00e8ne\", \"SexLang\": \"weiblich\", \"AnzGebuWir\": 1, \"FirstLetter\": \"L\", \"SecondLetter\": \"o\", \"FirstTwoLetters\": \"Lo\"}, {\"StichtagDatJahr\": 2010, \"Vorname\": \"Loulou\", \"SexLang\": \"weiblich\", \"AnzGebuWir\": 1, \"FirstLetter\": \"L\", \"SecondLetter\": \"o\", \"FirstTwoLetters\": \"Lo\"}, {\"StichtagDatJahr\": 2010, \"Vorname\": \"Louna\", \"SexLang\": \"weiblich\", \"AnzGebuWir\": 1, \"FirstLetter\": \"L\", \"SecondLetter\": \"o\", \"FirstTwoLetters\": \"Lo\"}, {\"StichtagDatJahr\": 2010, \"Vorname\": \"Lourdes\", \"SexLang\": \"weiblich\", \"AnzGebuWir\": 1, \"FirstLetter\": \"L\", \"SecondLetter\": \"o\", \"FirstTwoLetters\": \"Lo\"}, {\"StichtagDatJahr\": 2010, \"Vorname\": \"Lola\", \"SexLang\": \"weiblich\", \"AnzGebuWir\": 1, \"FirstLetter\": \"L\", \"SecondLetter\": \"o\", \"FirstTwoLetters\": \"Lo\"}, {\"StichtagDatJahr\": 2010, \"Vorname\": \"Lo\\u00efs\", \"SexLang\": \"weiblich\", \"AnzGebuWir\": 1, \"FirstLetter\": \"L\", \"SecondLetter\": \"o\", \"FirstTwoLetters\": \"Lo\"}, {\"StichtagDatJahr\": 2010, \"Vorname\": \"Loa\", \"SexLang\": \"weiblich\", \"AnzGebuWir\": 1, \"FirstLetter\": \"L\", \"SecondLetter\": \"o\", \"FirstTwoLetters\": \"Lo\"}, {\"StichtagDatJahr\": 2011, \"Vorname\": \"Lo\\u00efse\", \"SexLang\": \"weiblich\", \"AnzGebuWir\": 1, \"FirstLetter\": \"L\", \"SecondLetter\": \"o\", \"FirstTwoLetters\": \"Lo\"}, {\"StichtagDatJahr\": 2011, \"Vorname\": \"Lola\", \"SexLang\": \"weiblich\", \"AnzGebuWir\": 1, \"FirstLetter\": \"L\", \"SecondLetter\": \"o\", \"FirstTwoLetters\": \"Lo\"}, {\"StichtagDatJahr\": 2011, \"Vorname\": \"Loraina\", \"SexLang\": \"weiblich\", \"AnzGebuWir\": 1, \"FirstLetter\": \"L\", \"SecondLetter\": \"o\", \"FirstTwoLetters\": \"Lo\"}, {\"StichtagDatJahr\": 2011, \"Vorname\": \"Loresa\", \"SexLang\": \"weiblich\", \"AnzGebuWir\": 1, \"FirstLetter\": \"L\", \"SecondLetter\": \"o\", \"FirstTwoLetters\": \"Lo\"}, {\"StichtagDatJahr\": 2011, \"Vorname\": \"Lori\", \"SexLang\": \"weiblich\", \"AnzGebuWir\": 1, \"FirstLetter\": \"L\", \"SecondLetter\": \"o\", \"FirstTwoLetters\": \"Lo\"}, {\"StichtagDatJahr\": 2011, \"Vorname\": \"Lotti\", \"SexLang\": \"weiblich\", \"AnzGebuWir\": 1, \"FirstLetter\": \"L\", \"SecondLetter\": \"o\", \"FirstTwoLetters\": \"Lo\"}, {\"StichtagDatJahr\": 2011, \"Vorname\": \"Louane\", \"SexLang\": \"weiblich\", \"AnzGebuWir\": 1, \"FirstLetter\": \"L\", \"SecondLetter\": \"o\", \"FirstTwoLetters\": \"Lo\"}, {\"StichtagDatJahr\": 2011, \"Vorname\": \"Loulou\", \"SexLang\": \"weiblich\", \"AnzGebuWir\": 1, \"FirstLetter\": \"L\", \"SecondLetter\": \"o\", \"FirstTwoLetters\": \"Lo\"}, {\"StichtagDatJahr\": 2016, \"Vorname\": \"Louana\", \"SexLang\": \"weiblich\", \"AnzGebuWir\": 1, \"FirstLetter\": \"L\", \"SecondLetter\": \"o\", \"FirstTwoLetters\": \"Lo\"}, {\"StichtagDatJahr\": 2016, \"Vorname\": \"Loa\", \"SexLang\": \"weiblich\", \"AnzGebuWir\": 1, \"FirstLetter\": \"L\", \"SecondLetter\": \"o\", \"FirstTwoLetters\": \"Lo\"}, {\"StichtagDatJahr\": 2016, \"Vorname\": \"Lola\", \"SexLang\": \"weiblich\", \"AnzGebuWir\": 1, \"FirstLetter\": \"L\", \"SecondLetter\": \"o\", \"FirstTwoLetters\": \"Lo\"}, {\"StichtagDatJahr\": 2016, \"Vorname\": \"Lone\", \"SexLang\": \"weiblich\", \"AnzGebuWir\": 1, \"FirstLetter\": \"L\", \"SecondLetter\": \"o\", \"FirstTwoLetters\": \"Lo\"}, {\"StichtagDatJahr\": 2016, \"Vorname\": \"Loni\", \"SexLang\": \"weiblich\", \"AnzGebuWir\": 1, \"FirstLetter\": \"L\", \"SecondLetter\": \"o\", \"FirstTwoLetters\": \"Lo\"}, {\"StichtagDatJahr\": 2016, \"Vorname\": \"Lorea\", \"SexLang\": \"weiblich\", \"AnzGebuWir\": 1, \"FirstLetter\": \"L\", \"SecondLetter\": \"o\", \"FirstTwoLetters\": \"Lo\"}, {\"StichtagDatJahr\": 2016, \"Vorname\": \"Loredana\", \"SexLang\": \"weiblich\", \"AnzGebuWir\": 1, \"FirstLetter\": \"L\", \"SecondLetter\": \"o\", \"FirstTwoLetters\": \"Lo\"}, {\"StichtagDatJahr\": 2016, \"Vorname\": \"Lorine\", \"SexLang\": \"weiblich\", \"AnzGebuWir\": 1, \"FirstLetter\": \"L\", \"SecondLetter\": \"o\", \"FirstTwoLetters\": \"Lo\"}, {\"StichtagDatJahr\": 2016, \"Vorname\": \"Lotte\", \"SexLang\": \"weiblich\", \"AnzGebuWir\": 1, \"FirstLetter\": \"L\", \"SecondLetter\": \"o\", \"FirstTwoLetters\": \"Lo\"}, {\"StichtagDatJahr\": 2016, \"Vorname\": \"Lou-Ann\", \"SexLang\": \"weiblich\", \"AnzGebuWir\": 1, \"FirstLetter\": \"L\", \"SecondLetter\": \"o\", \"FirstTwoLetters\": \"Lo\"}, {\"StichtagDatJahr\": 2017, \"Vorname\": \"Louanne\", \"SexLang\": \"weiblich\", \"AnzGebuWir\": 1, \"FirstLetter\": \"L\", \"SecondLetter\": \"o\", \"FirstTwoLetters\": \"Lo\"}, {\"StichtagDatJahr\": 2017, \"Vorname\": \"Louison\", \"SexLang\": \"weiblich\", \"AnzGebuWir\": 1, \"FirstLetter\": \"L\", \"SecondLetter\": \"o\", \"FirstTwoLetters\": \"Lo\"}, {\"StichtagDatJahr\": 2017, \"Vorname\": \"Lovelynn\", \"SexLang\": \"weiblich\", \"AnzGebuWir\": 1, \"FirstLetter\": \"L\", \"SecondLetter\": \"o\", \"FirstTwoLetters\": \"Lo\"}, {\"StichtagDatJahr\": 2017, \"Vorname\": \"Louane\", \"SexLang\": \"weiblich\", \"AnzGebuWir\": 1, \"FirstLetter\": \"L\", \"SecondLetter\": \"o\", \"FirstTwoLetters\": \"Lo\"}, {\"StichtagDatJahr\": 2017, \"Vorname\": \"Louana\", \"SexLang\": \"weiblich\", \"AnzGebuWir\": 1, \"FirstLetter\": \"L\", \"SecondLetter\": \"o\", \"FirstTwoLetters\": \"Lo\"}, {\"StichtagDatJahr\": 2017, \"Vorname\": \"Lottie\", \"SexLang\": \"weiblich\", \"AnzGebuWir\": 1, \"FirstLetter\": \"L\", \"SecondLetter\": \"o\", \"FirstTwoLetters\": \"Lo\"}, {\"StichtagDatJahr\": 2017, \"Vorname\": \"Lotte\", \"SexLang\": \"weiblich\", \"AnzGebuWir\": 1, \"FirstLetter\": \"L\", \"SecondLetter\": \"o\", \"FirstTwoLetters\": \"Lo\"}, {\"StichtagDatJahr\": 2017, \"Vorname\": \"Loanne\", \"SexLang\": \"weiblich\", \"AnzGebuWir\": 1, \"FirstLetter\": \"L\", \"SecondLetter\": \"o\", \"FirstTwoLetters\": \"Lo\"}, {\"StichtagDatJahr\": 2017, \"Vorname\": \"Loe\", \"SexLang\": \"weiblich\", \"AnzGebuWir\": 1, \"FirstLetter\": \"L\", \"SecondLetter\": \"o\", \"FirstTwoLetters\": \"Lo\"}, {\"StichtagDatJahr\": 2017, \"Vorname\": \"Loira\", \"SexLang\": \"weiblich\", \"AnzGebuWir\": 1, \"FirstLetter\": \"L\", \"SecondLetter\": \"o\", \"FirstTwoLetters\": \"Lo\"}, {\"StichtagDatJahr\": 2017, \"Vorname\": \"Lola\", \"SexLang\": \"weiblich\", \"AnzGebuWir\": 1, \"FirstLetter\": \"L\", \"SecondLetter\": \"o\", \"FirstTwoLetters\": \"Lo\"}, {\"StichtagDatJahr\": 2017, \"Vorname\": \"Loretta\", \"SexLang\": \"weiblich\", \"AnzGebuWir\": 1, \"FirstLetter\": \"L\", \"SecondLetter\": \"o\", \"FirstTwoLetters\": \"Lo\"}, {\"StichtagDatJahr\": 2017, \"Vorname\": \"Lorisa\", \"SexLang\": \"weiblich\", \"AnzGebuWir\": 1, \"FirstLetter\": \"L\", \"SecondLetter\": \"o\", \"FirstTwoLetters\": \"Lo\"}, {\"StichtagDatJahr\": 2014, \"Vorname\": \"Loena\", \"SexLang\": \"weiblich\", \"AnzGebuWir\": 1, \"FirstLetter\": \"L\", \"SecondLetter\": \"o\", \"FirstTwoLetters\": \"Lo\"}, {\"StichtagDatJahr\": 2014, \"Vorname\": \"Lo\\u00efse\", \"SexLang\": \"weiblich\", \"AnzGebuWir\": 1, \"FirstLetter\": \"L\", \"SecondLetter\": \"o\", \"FirstTwoLetters\": \"Lo\"}, {\"StichtagDatJahr\": 2014, \"Vorname\": \"Lorane\", \"SexLang\": \"weiblich\", \"AnzGebuWir\": 1, \"FirstLetter\": \"L\", \"SecondLetter\": \"o\", \"FirstTwoLetters\": \"Lo\"}, {\"StichtagDatJahr\": 2014, \"Vorname\": \"Loreen\", \"SexLang\": \"weiblich\", \"AnzGebuWir\": 1, \"FirstLetter\": \"L\", \"SecondLetter\": \"o\", \"FirstTwoLetters\": \"Lo\"}, {\"StichtagDatJahr\": 2014, \"Vorname\": \"Loretta\", \"SexLang\": \"weiblich\", \"AnzGebuWir\": 1, \"FirstLetter\": \"L\", \"SecondLetter\": \"o\", \"FirstTwoLetters\": \"Lo\"}, {\"StichtagDatJahr\": 2014, \"Vorname\": \"Lorisa\", \"SexLang\": \"weiblich\", \"AnzGebuWir\": 1, \"FirstLetter\": \"L\", \"SecondLetter\": \"o\", \"FirstTwoLetters\": \"Lo\"}, {\"StichtagDatJahr\": 2015, \"Vorname\": \"Lo\", \"SexLang\": \"weiblich\", \"AnzGebuWir\": 1, \"FirstLetter\": \"L\", \"SecondLetter\": \"o\", \"FirstTwoLetters\": \"Lo\"}, {\"StichtagDatJahr\": 2015, \"Vorname\": \"Lois\", \"SexLang\": \"weiblich\", \"AnzGebuWir\": 1, \"FirstLetter\": \"L\", \"SecondLetter\": \"o\", \"FirstTwoLetters\": \"Lo\"}, {\"StichtagDatJahr\": 2015, \"Vorname\": \"Loora\", \"SexLang\": \"weiblich\", \"AnzGebuWir\": 1, \"FirstLetter\": \"L\", \"SecondLetter\": \"o\", \"FirstTwoLetters\": \"Lo\"}, {\"StichtagDatJahr\": 2015, \"Vorname\": \"Lor\", \"SexLang\": \"weiblich\", \"AnzGebuWir\": 1, \"FirstLetter\": \"L\", \"SecondLetter\": \"o\", \"FirstTwoLetters\": \"Lo\"}, {\"StichtagDatJahr\": 2015, \"Vorname\": \"Lora\", \"SexLang\": \"weiblich\", \"AnzGebuWir\": 1, \"FirstLetter\": \"L\", \"SecondLetter\": \"o\", \"FirstTwoLetters\": \"Lo\"}, {\"StichtagDatJahr\": 2015, \"Vorname\": \"Loresa\", \"SexLang\": \"weiblich\", \"AnzGebuWir\": 1, \"FirstLetter\": \"L\", \"SecondLetter\": \"o\", \"FirstTwoLetters\": \"Lo\"}, {\"StichtagDatJahr\": 2015, \"Vorname\": \"Lorine\", \"SexLang\": \"weiblich\", \"AnzGebuWir\": 1, \"FirstLetter\": \"L\", \"SecondLetter\": \"o\", \"FirstTwoLetters\": \"Lo\"}, {\"StichtagDatJahr\": 2015, \"Vorname\": \"Lotte\", \"SexLang\": \"weiblich\", \"AnzGebuWir\": 1, \"FirstLetter\": \"L\", \"SecondLetter\": \"o\", \"FirstTwoLetters\": \"Lo\"}, {\"StichtagDatJahr\": 2015, \"Vorname\": \"Louane\", \"SexLang\": \"weiblich\", \"AnzGebuWir\": 1, \"FirstLetter\": \"L\", \"SecondLetter\": \"o\", \"FirstTwoLetters\": \"Lo\"}]}}, {\"mode\": \"vega-lite\"});\n",
       "</script>"
      ],
      "text/plain": [
       "alt.LayerChart(...)"
      ]
     },
     "execution_count": 22,
     "metadata": {},
     "output_type": "execute_result"
    }
   ],
   "source": [
    "# df_statzonen = df_statzonen[(df_statzonen.knr>0) & (df_statzonen.qname!=\"Hirslanden\")]\n",
    "#aktuellesJahr[[aktuellesJahr.KreisSort =7]])\n",
    "\n",
    "\n",
    "highlight = alt.selection(type='single', on='mouseover',\n",
    "                          fields=['symbol'], nearest=True)\n",
    "#x='date:StichtagDatJahr',\n",
    "base = alt.Chart(myGraphic).encode(\n",
    "    x='StichtagDatJahr:N',\n",
    "    y='AnzGebuWir',\n",
    "    color='Vorname'\n",
    ")\n",
    "\n",
    "points = base.mark_circle().encode(\n",
    "    opacity=alt.value(0.75)\n",
    ").add_selection(\n",
    "    highlight\n",
    ").properties(\n",
    "    width=900 , height=400\n",
    ")\n",
    "lines = base.mark_line().encode(\n",
    "    size=alt.condition(~highlight, alt.value(1.5), alt.value(4))\n",
    ").interactive()\n",
    "\n",
    "points + lines"
   ]
  },
  {
   "cell_type": "code",
   "execution_count": 23,
   "metadata": {},
   "outputs": [
    {
     "data": {
      "text/html": [
       "\n",
       "<div id=\"altair-viz-1749a0eb62fc4acd8fedaf476e831935\"></div>\n",
       "<script type=\"text/javascript\">\n",
       "  (function(spec, embedOpt){\n",
       "    let outputDiv = document.currentScript.previousElementSibling;\n",
       "    if (outputDiv.id !== \"altair-viz-1749a0eb62fc4acd8fedaf476e831935\") {\n",
       "      outputDiv = document.getElementById(\"altair-viz-1749a0eb62fc4acd8fedaf476e831935\");\n",
       "    }\n",
       "    const paths = {\n",
       "      \"vega\": \"https://cdn.jsdelivr.net/npm//vega@5?noext\",\n",
       "      \"vega-lib\": \"https://cdn.jsdelivr.net/npm//vega-lib?noext\",\n",
       "      \"vega-lite\": \"https://cdn.jsdelivr.net/npm//vega-lite@4.8.1?noext\",\n",
       "      \"vega-embed\": \"https://cdn.jsdelivr.net/npm//vega-embed@6?noext\",\n",
       "    };\n",
       "\n",
       "    function loadScript(lib) {\n",
       "      return new Promise(function(resolve, reject) {\n",
       "        var s = document.createElement('script');\n",
       "        s.src = paths[lib];\n",
       "        s.async = true;\n",
       "        s.onload = () => resolve(paths[lib]);\n",
       "        s.onerror = () => reject(`Error loading script: ${paths[lib]}`);\n",
       "        document.getElementsByTagName(\"head\")[0].appendChild(s);\n",
       "      });\n",
       "    }\n",
       "\n",
       "    function showError(err) {\n",
       "      outputDiv.innerHTML = `<div class=\"error\" style=\"color:red;\">${err}</div>`;\n",
       "      throw err;\n",
       "    }\n",
       "\n",
       "    function displayChart(vegaEmbed) {\n",
       "      vegaEmbed(outputDiv, spec, embedOpt)\n",
       "        .catch(err => showError(`Javascript Error: ${err.message}<br>This usually means there's a typo in your chart specification. See the javascript console for the full traceback.`));\n",
       "    }\n",
       "\n",
       "    if(typeof define === \"function\" && define.amd) {\n",
       "      requirejs.config({paths});\n",
       "      require([\"vega-embed\"], displayChart, err => showError(`Error loading script: ${err.message}`));\n",
       "    } else if (typeof vegaEmbed === \"function\") {\n",
       "      displayChart(vegaEmbed);\n",
       "    } else {\n",
       "      loadScript(\"vega\")\n",
       "        .then(() => loadScript(\"vega-lite\"))\n",
       "        .then(() => loadScript(\"vega-embed\"))\n",
       "        .catch(showError)\n",
       "        .then(() => displayChart(vegaEmbed));\n",
       "    }\n",
       "  })({\"config\": {\"view\": {\"continuousWidth\": 400, \"continuousHeight\": 300}}, \"data\": {\"name\": \"data-9b413cbbc891522139f794b24f12c4b8\"}, \"mark\": {\"type\": \"circle\", \"size\": 60}, \"encoding\": {\"color\": {\"type\": \"quantitative\", \"field\": \"StichtagDatJahr\"}, \"tooltip\": [{\"type\": \"quantitative\", \"field\": \"StichtagDatJahr\"}, {\"type\": \"nominal\", \"field\": \"Vorname\"}, {\"type\": \"nominal\", \"field\": \"FirstTwoLetters\"}, {\"type\": \"quantitative\", \"field\": \"AnzGebuWir\"}], \"x\": {\"type\": \"nominal\", \"field\": \"Vorname\"}, \"y\": {\"type\": \"quantitative\", \"field\": \"AnzGebuWir\"}}, \"selection\": {\"selector003\": {\"type\": \"interval\", \"bind\": \"scales\", \"encodings\": [\"x\", \"y\"]}}, \"$schema\": \"https://vega.github.io/schema/vega-lite/v4.8.1.json\", \"datasets\": {\"data-9b413cbbc891522139f794b24f12c4b8\": [{\"StichtagDatJahr\": 2019, \"Vorname\": \"Lara\", \"SexLang\": \"weiblich\", \"AnzGebuWir\": 20, \"FirstLetter\": \"L\", \"SecondLetter\": \"a\", \"FirstTwoLetters\": \"La\"}, {\"StichtagDatJahr\": 2019, \"Vorname\": \"Laura\", \"SexLang\": \"weiblich\", \"AnzGebuWir\": 16, \"FirstLetter\": \"L\", \"SecondLetter\": \"a\", \"FirstTwoLetters\": \"La\"}, {\"StichtagDatJahr\": 2010, \"Vorname\": \"Lorena\", \"SexLang\": \"weiblich\", \"AnzGebuWir\": 11, \"FirstLetter\": \"L\", \"SecondLetter\": \"o\", \"FirstTwoLetters\": \"Lo\"}, {\"StichtagDatJahr\": 2020, \"Vorname\": \"Lara\", \"SexLang\": \"weiblich\", \"AnzGebuWir\": 10, \"FirstLetter\": \"L\", \"SecondLetter\": \"a\", \"FirstTwoLetters\": \"La\"}, {\"StichtagDatJahr\": 2017, \"Vorname\": \"Lou\", \"SexLang\": \"weiblich\", \"AnzGebuWir\": 9, \"FirstLetter\": \"L\", \"SecondLetter\": \"o\", \"FirstTwoLetters\": \"Lo\"}, {\"StichtagDatJahr\": 2020, \"Vorname\": \"Laurin\", \"SexLang\": \"m\\u00e4nnlich\", \"AnzGebuWir\": 9, \"FirstLetter\": \"L\", \"SecondLetter\": \"a\", \"FirstTwoLetters\": \"La\"}, {\"StichtagDatJahr\": 2020, \"Vorname\": \"Laura\", \"SexLang\": \"weiblich\", \"AnzGebuWir\": 8, \"FirstLetter\": \"L\", \"SecondLetter\": \"a\", \"FirstTwoLetters\": \"La\"}, {\"StichtagDatJahr\": 1995, \"Vorname\": \"Lorena\", \"SexLang\": \"weiblich\", \"AnzGebuWir\": 8, \"FirstLetter\": \"L\", \"SecondLetter\": \"o\", \"FirstTwoLetters\": \"Lo\"}, {\"StichtagDatJahr\": 2014, \"Vorname\": \"Louise\", \"SexLang\": \"weiblich\", \"AnzGebuWir\": 8, \"FirstLetter\": \"L\", \"SecondLetter\": \"o\", \"FirstTwoLetters\": \"Lo\"}, {\"StichtagDatJahr\": 2019, \"Vorname\": \"Laurin\", \"SexLang\": \"m\\u00e4nnlich\", \"AnzGebuWir\": 8, \"FirstLetter\": \"L\", \"SecondLetter\": \"a\", \"FirstTwoLetters\": \"La\"}, {\"StichtagDatJahr\": 2007, \"Vorname\": \"Lou\", \"SexLang\": \"weiblich\", \"AnzGebuWir\": 8, \"FirstLetter\": \"L\", \"SecondLetter\": \"o\", \"FirstTwoLetters\": \"Lo\"}, {\"StichtagDatJahr\": 2003, \"Vorname\": \"Lorena\", \"SexLang\": \"weiblich\", \"AnzGebuWir\": 8, \"FirstLetter\": \"L\", \"SecondLetter\": \"o\", \"FirstTwoLetters\": \"Lo\"}, {\"StichtagDatJahr\": 2013, \"Vorname\": \"Lorena\", \"SexLang\": \"weiblich\", \"AnzGebuWir\": 8, \"FirstLetter\": \"L\", \"SecondLetter\": \"o\", \"FirstTwoLetters\": \"Lo\"}, {\"StichtagDatJahr\": 2013, \"Vorname\": \"Louise\", \"SexLang\": \"weiblich\", \"AnzGebuWir\": 8, \"FirstLetter\": \"L\", \"SecondLetter\": \"o\", \"FirstTwoLetters\": \"Lo\"}, {\"StichtagDatJahr\": 2009, \"Vorname\": \"Louise\", \"SexLang\": \"weiblich\", \"AnzGebuWir\": 8, \"FirstLetter\": \"L\", \"SecondLetter\": \"o\", \"FirstTwoLetters\": \"Lo\"}, {\"StichtagDatJahr\": 2013, \"Vorname\": \"Louisa\", \"SexLang\": \"weiblich\", \"AnzGebuWir\": 7, \"FirstLetter\": \"L\", \"SecondLetter\": \"o\", \"FirstTwoLetters\": \"Lo\"}, {\"StichtagDatJahr\": 2020, \"Vorname\": \"Lars\", \"SexLang\": \"m\\u00e4nnlich\", \"AnzGebuWir\": 7, \"FirstLetter\": \"L\", \"SecondLetter\": \"a\", \"FirstTwoLetters\": \"La\"}, {\"StichtagDatJahr\": 2020, \"Vorname\": \"Lou\", \"SexLang\": \"weiblich\", \"AnzGebuWir\": 7, \"FirstLetter\": \"L\", \"SecondLetter\": \"o\", \"FirstTwoLetters\": \"Lo\"}, {\"StichtagDatJahr\": 2019, \"Vorname\": \"Louisa\", \"SexLang\": \"weiblich\", \"AnzGebuWir\": 7, \"FirstLetter\": \"L\", \"SecondLetter\": \"o\", \"FirstTwoLetters\": \"Lo\"}, {\"StichtagDatJahr\": 2019, \"Vorname\": \"Lotta\", \"SexLang\": \"weiblich\", \"AnzGebuWir\": 7, \"FirstLetter\": \"L\", \"SecondLetter\": \"o\", \"FirstTwoLetters\": \"Lo\"}, {\"StichtagDatJahr\": 2018, \"Vorname\": \"Lorena\", \"SexLang\": \"weiblich\", \"AnzGebuWir\": 7, \"FirstLetter\": \"L\", \"SecondLetter\": \"o\", \"FirstTwoLetters\": \"Lo\"}, {\"StichtagDatJahr\": 2018, \"Vorname\": \"Lou\", \"SexLang\": \"weiblich\", \"AnzGebuWir\": 7, \"FirstLetter\": \"L\", \"SecondLetter\": \"o\", \"FirstTwoLetters\": \"Lo\"}, {\"StichtagDatJahr\": 2019, \"Vorname\": \"Lars\", \"SexLang\": \"m\\u00e4nnlich\", \"AnzGebuWir\": 7, \"FirstLetter\": \"L\", \"SecondLetter\": \"a\", \"FirstTwoLetters\": \"La\"}, {\"StichtagDatJahr\": 2010, \"Vorname\": \"Lou\", \"SexLang\": \"weiblich\", \"AnzGebuWir\": 7, \"FirstLetter\": \"L\", \"SecondLetter\": \"o\", \"FirstTwoLetters\": \"Lo\"}, {\"StichtagDatJahr\": 2010, \"Vorname\": \"Louise\", \"SexLang\": \"weiblich\", \"AnzGebuWir\": 7, \"FirstLetter\": \"L\", \"SecondLetter\": \"o\", \"FirstTwoLetters\": \"Lo\"}, {\"StichtagDatJahr\": 2011, \"Vorname\": \"Lou\", \"SexLang\": \"weiblich\", \"AnzGebuWir\": 7, \"FirstLetter\": \"L\", \"SecondLetter\": \"o\", \"FirstTwoLetters\": \"Lo\"}, {\"StichtagDatJahr\": 2012, \"Vorname\": \"Lorena\", \"SexLang\": \"weiblich\", \"AnzGebuWir\": 7, \"FirstLetter\": \"L\", \"SecondLetter\": \"o\", \"FirstTwoLetters\": \"Lo\"}, {\"StichtagDatJahr\": 2011, \"Vorname\": \"Lotta\", \"SexLang\": \"weiblich\", \"AnzGebuWir\": 6, \"FirstLetter\": \"L\", \"SecondLetter\": \"o\", \"FirstTwoLetters\": \"Lo\"}, {\"StichtagDatJahr\": 1994, \"Vorname\": \"Lorena\", \"SexLang\": \"weiblich\", \"AnzGebuWir\": 6, \"FirstLetter\": \"L\", \"SecondLetter\": \"o\", \"FirstTwoLetters\": \"Lo\"}, {\"StichtagDatJahr\": 2015, \"Vorname\": \"Lorena\", \"SexLang\": \"weiblich\", \"AnzGebuWir\": 6, \"FirstLetter\": \"L\", \"SecondLetter\": \"o\", \"FirstTwoLetters\": \"Lo\"}, {\"StichtagDatJahr\": 2014, \"Vorname\": \"Lou\", \"SexLang\": \"weiblich\", \"AnzGebuWir\": 6, \"FirstLetter\": \"L\", \"SecondLetter\": \"o\", \"FirstTwoLetters\": \"Lo\"}, {\"StichtagDatJahr\": 2014, \"Vorname\": \"Lorena\", \"SexLang\": \"weiblich\", \"AnzGebuWir\": 6, \"FirstLetter\": \"L\", \"SecondLetter\": \"o\", \"FirstTwoLetters\": \"Lo\"}, {\"StichtagDatJahr\": 2018, \"Vorname\": \"Lotta\", \"SexLang\": \"weiblich\", \"AnzGebuWir\": 6, \"FirstLetter\": \"L\", \"SecondLetter\": \"o\", \"FirstTwoLetters\": \"Lo\"}, {\"StichtagDatJahr\": 2020, \"Vorname\": \"Lola\", \"SexLang\": \"weiblich\", \"AnzGebuWir\": 6, \"FirstLetter\": \"L\", \"SecondLetter\": \"o\", \"FirstTwoLetters\": \"Lo\"}, {\"StichtagDatJahr\": 2004, \"Vorname\": \"Lorena\", \"SexLang\": \"weiblich\", \"AnzGebuWir\": 6, \"FirstLetter\": \"L\", \"SecondLetter\": \"o\", \"FirstTwoLetters\": \"Lo\"}, {\"StichtagDatJahr\": 2018, \"Vorname\": \"Louise\", \"SexLang\": \"weiblich\", \"AnzGebuWir\": 5, \"FirstLetter\": \"L\", \"SecondLetter\": \"o\", \"FirstTwoLetters\": \"Lo\"}, {\"StichtagDatJahr\": 1999, \"Vorname\": \"Lorena\", \"SexLang\": \"weiblich\", \"AnzGebuWir\": 5, \"FirstLetter\": \"L\", \"SecondLetter\": \"o\", \"FirstTwoLetters\": \"Lo\"}, {\"StichtagDatJahr\": 2017, \"Vorname\": \"Louisa\", \"SexLang\": \"weiblich\", \"AnzGebuWir\": 5, \"FirstLetter\": \"L\", \"SecondLetter\": \"o\", \"FirstTwoLetters\": \"Lo\"}, {\"StichtagDatJahr\": 1996, \"Vorname\": \"Lorena\", \"SexLang\": \"weiblich\", \"AnzGebuWir\": 5, \"FirstLetter\": \"L\", \"SecondLetter\": \"o\", \"FirstTwoLetters\": \"Lo\"}, {\"StichtagDatJahr\": 2009, \"Vorname\": \"Lorena\", \"SexLang\": \"weiblich\", \"AnzGebuWir\": 5, \"FirstLetter\": \"L\", \"SecondLetter\": \"o\", \"FirstTwoLetters\": \"Lo\"}, {\"StichtagDatJahr\": 2009, \"Vorname\": \"Lou\", \"SexLang\": \"weiblich\", \"AnzGebuWir\": 5, \"FirstLetter\": \"L\", \"SecondLetter\": \"o\", \"FirstTwoLetters\": \"Lo\"}, {\"StichtagDatJahr\": 2005, \"Vorname\": \"Lorena\", \"SexLang\": \"weiblich\", \"AnzGebuWir\": 5, \"FirstLetter\": \"L\", \"SecondLetter\": \"o\", \"FirstTwoLetters\": \"Lo\"}, {\"StichtagDatJahr\": 2020, \"Vorname\": \"Louisa\", \"SexLang\": \"weiblich\", \"AnzGebuWir\": 5, \"FirstLetter\": \"L\", \"SecondLetter\": \"o\", \"FirstTwoLetters\": \"Lo\"}, {\"StichtagDatJahr\": 2015, \"Vorname\": \"Lotta\", \"SexLang\": \"weiblich\", \"AnzGebuWir\": 5, \"FirstLetter\": \"L\", \"SecondLetter\": \"o\", \"FirstTwoLetters\": \"Lo\"}, {\"StichtagDatJahr\": 2016, \"Vorname\": \"Louise\", \"SexLang\": \"weiblich\", \"AnzGebuWir\": 5, \"FirstLetter\": \"L\", \"SecondLetter\": \"o\", \"FirstTwoLetters\": \"Lo\"}, {\"StichtagDatJahr\": 2016, \"Vorname\": \"Lou\", \"SexLang\": \"weiblich\", \"AnzGebuWir\": 5, \"FirstLetter\": \"L\", \"SecondLetter\": \"o\", \"FirstTwoLetters\": \"Lo\"}, {\"StichtagDatJahr\": 2008, \"Vorname\": \"Louisa\", \"SexLang\": \"weiblich\", \"AnzGebuWir\": 5, \"FirstLetter\": \"L\", \"SecondLetter\": \"o\", \"FirstTwoLetters\": \"Lo\"}, {\"StichtagDatJahr\": 2013, \"Vorname\": \"Lorin\", \"SexLang\": \"weiblich\", \"AnzGebuWir\": 5, \"FirstLetter\": \"L\", \"SecondLetter\": \"o\", \"FirstTwoLetters\": \"Lo\"}, {\"StichtagDatJahr\": 2011, \"Vorname\": \"Lorena\", \"SexLang\": \"weiblich\", \"AnzGebuWir\": 5, \"FirstLetter\": \"L\", \"SecondLetter\": \"o\", \"FirstTwoLetters\": \"Lo\"}, {\"StichtagDatJahr\": 2006, \"Vorname\": \"Louise\", \"SexLang\": \"weiblich\", \"AnzGebuWir\": 5, \"FirstLetter\": \"L\", \"SecondLetter\": \"o\", \"FirstTwoLetters\": \"Lo\"}, {\"StichtagDatJahr\": 2017, \"Vorname\": \"Louise\", \"SexLang\": \"weiblich\", \"AnzGebuWir\": 5, \"FirstLetter\": \"L\", \"SecondLetter\": \"o\", \"FirstTwoLetters\": \"Lo\"}, {\"StichtagDatJahr\": 2011, \"Vorname\": \"Louise\", \"SexLang\": \"weiblich\", \"AnzGebuWir\": 5, \"FirstLetter\": \"L\", \"SecondLetter\": \"o\", \"FirstTwoLetters\": \"Lo\"}, {\"StichtagDatJahr\": 2007, \"Vorname\": \"Lorena\", \"SexLang\": \"weiblich\", \"AnzGebuWir\": 5, \"FirstLetter\": \"L\", \"SecondLetter\": \"o\", \"FirstTwoLetters\": \"Lo\"}, {\"StichtagDatJahr\": 2019, \"Vorname\": \"Lazar\", \"SexLang\": \"m\\u00e4nnlich\", \"AnzGebuWir\": 4, \"FirstLetter\": \"L\", \"SecondLetter\": \"a\", \"FirstTwoLetters\": \"La\"}, {\"StichtagDatJahr\": 1997, \"Vorname\": \"Lorena\", \"SexLang\": \"weiblich\", \"AnzGebuWir\": 4, \"FirstLetter\": \"L\", \"SecondLetter\": \"o\", \"FirstTwoLetters\": \"Lo\"}, {\"StichtagDatJahr\": 2013, \"Vorname\": \"Lou\", \"SexLang\": \"weiblich\", \"AnzGebuWir\": 4, \"FirstLetter\": \"L\", \"SecondLetter\": \"o\", \"FirstTwoLetters\": \"Lo\"}, {\"StichtagDatJahr\": 2002, \"Vorname\": \"Lorena\", \"SexLang\": \"weiblich\", \"AnzGebuWir\": 4, \"FirstLetter\": \"L\", \"SecondLetter\": \"o\", \"FirstTwoLetters\": \"Lo\"}, {\"StichtagDatJahr\": 2002, \"Vorname\": \"Lou\", \"SexLang\": \"weiblich\", \"AnzGebuWir\": 4, \"FirstLetter\": \"L\", \"SecondLetter\": \"o\", \"FirstTwoLetters\": \"Lo\"}, {\"StichtagDatJahr\": 2016, \"Vorname\": \"Lotta\", \"SexLang\": \"weiblich\", \"AnzGebuWir\": 4, \"FirstLetter\": \"L\", \"SecondLetter\": \"o\", \"FirstTwoLetters\": \"Lo\"}, {\"StichtagDatJahr\": 2016, \"Vorname\": \"Louisa\", \"SexLang\": \"weiblich\", \"AnzGebuWir\": 4, \"FirstLetter\": \"L\", \"SecondLetter\": \"o\", \"FirstTwoLetters\": \"Lo\"}, {\"StichtagDatJahr\": 2011, \"Vorname\": \"Louisa\", \"SexLang\": \"weiblich\", \"AnzGebuWir\": 4, \"FirstLetter\": \"L\", \"SecondLetter\": \"o\", \"FirstTwoLetters\": \"Lo\"}, {\"StichtagDatJahr\": 1993, \"Vorname\": \"Lorena\", \"SexLang\": \"weiblich\", \"AnzGebuWir\": 4, \"FirstLetter\": \"L\", \"SecondLetter\": \"o\", \"FirstTwoLetters\": \"Lo\"}, {\"StichtagDatJahr\": 2010, \"Vorname\": \"Lotta\", \"SexLang\": \"weiblich\", \"AnzGebuWir\": 4, \"FirstLetter\": \"L\", \"SecondLetter\": \"o\", \"FirstTwoLetters\": \"Lo\"}, {\"StichtagDatJahr\": 2012, \"Vorname\": \"Lola\", \"SexLang\": \"weiblich\", \"AnzGebuWir\": 4, \"FirstLetter\": \"L\", \"SecondLetter\": \"o\", \"FirstTwoLetters\": \"Lo\"}, {\"StichtagDatJahr\": 2020, \"Vorname\": \"Lotta\", \"SexLang\": \"weiblich\", \"AnzGebuWir\": 4, \"FirstLetter\": \"L\", \"SecondLetter\": \"o\", \"FirstTwoLetters\": \"Lo\"}, {\"StichtagDatJahr\": 2020, \"Vorname\": \"Lorena\", \"SexLang\": \"weiblich\", \"AnzGebuWir\": 4, \"FirstLetter\": \"L\", \"SecondLetter\": \"o\", \"FirstTwoLetters\": \"Lo\"}, {\"StichtagDatJahr\": 2019, \"Vorname\": \"Ladina\", \"SexLang\": \"weiblich\", \"AnzGebuWir\": 4, \"FirstLetter\": \"L\", \"SecondLetter\": \"a\", \"FirstTwoLetters\": \"La\"}, {\"StichtagDatJahr\": 2015, \"Vorname\": \"Lou\", \"SexLang\": \"weiblich\", \"AnzGebuWir\": 4, \"FirstLetter\": \"L\", \"SecondLetter\": \"o\", \"FirstTwoLetters\": \"Lo\"}, {\"StichtagDatJahr\": 2019, \"Vorname\": \"Lou\", \"SexLang\": \"weiblich\", \"AnzGebuWir\": 4, \"FirstLetter\": \"L\", \"SecondLetter\": \"o\", \"FirstTwoLetters\": \"Lo\"}, {\"StichtagDatJahr\": 2018, \"Vorname\": \"Louisa\", \"SexLang\": \"weiblich\", \"AnzGebuWir\": 4, \"FirstLetter\": \"L\", \"SecondLetter\": \"o\", \"FirstTwoLetters\": \"Lo\"}, {\"StichtagDatJahr\": 2014, \"Vorname\": \"Louisa\", \"SexLang\": \"weiblich\", \"AnzGebuWir\": 4, \"FirstLetter\": \"L\", \"SecondLetter\": \"o\", \"FirstTwoLetters\": \"Lo\"}, {\"StichtagDatJahr\": 2007, \"Vorname\": \"Louisa\", \"SexLang\": \"weiblich\", \"AnzGebuWir\": 4, \"FirstLetter\": \"L\", \"SecondLetter\": \"o\", \"FirstTwoLetters\": \"Lo\"}, {\"StichtagDatJahr\": 2008, \"Vorname\": \"Lorena\", \"SexLang\": \"weiblich\", \"AnzGebuWir\": 3, \"FirstLetter\": \"L\", \"SecondLetter\": \"o\", \"FirstTwoLetters\": \"Lo\"}, {\"StichtagDatJahr\": 2004, \"Vorname\": \"Louisa\", \"SexLang\": \"weiblich\", \"AnzGebuWir\": 3, \"FirstLetter\": \"L\", \"SecondLetter\": \"o\", \"FirstTwoLetters\": \"Lo\"}, {\"StichtagDatJahr\": 2010, \"Vorname\": \"Louisa\", \"SexLang\": \"weiblich\", \"AnzGebuWir\": 3, \"FirstLetter\": \"L\", \"SecondLetter\": \"o\", \"FirstTwoLetters\": \"Lo\"}, {\"StichtagDatJahr\": 2019, \"Vorname\": \"Lorena\", \"SexLang\": \"weiblich\", \"AnzGebuWir\": 3, \"FirstLetter\": \"L\", \"SecondLetter\": \"o\", \"FirstTwoLetters\": \"Lo\"}, {\"StichtagDatJahr\": 2013, \"Vorname\": \"Lovis\", \"SexLang\": \"weiblich\", \"AnzGebuWir\": 3, \"FirstLetter\": \"L\", \"SecondLetter\": \"o\", \"FirstTwoLetters\": \"Lo\"}, {\"StichtagDatJahr\": 2009, \"Vorname\": \"Louisa\", \"SexLang\": \"weiblich\", \"AnzGebuWir\": 3, \"FirstLetter\": \"L\", \"SecondLetter\": \"o\", \"FirstTwoLetters\": \"Lo\"}, {\"StichtagDatJahr\": 2003, \"Vorname\": \"Lou\", \"SexLang\": \"weiblich\", \"AnzGebuWir\": 3, \"FirstLetter\": \"L\", \"SecondLetter\": \"o\", \"FirstTwoLetters\": \"Lo\"}, {\"StichtagDatJahr\": 2018, \"Vorname\": \"Lola\", \"SexLang\": \"weiblich\", \"AnzGebuWir\": 3, \"FirstLetter\": \"L\", \"SecondLetter\": \"o\", \"FirstTwoLetters\": \"Lo\"}, {\"StichtagDatJahr\": 2013, \"Vorname\": \"Loresa\", \"SexLang\": \"weiblich\", \"AnzGebuWir\": 3, \"FirstLetter\": \"L\", \"SecondLetter\": \"o\", \"FirstTwoLetters\": \"Lo\"}, {\"StichtagDatJahr\": 2013, \"Vorname\": \"Lotta\", \"SexLang\": \"weiblich\", \"AnzGebuWir\": 3, \"FirstLetter\": \"L\", \"SecondLetter\": \"o\", \"FirstTwoLetters\": \"Lo\"}, {\"StichtagDatJahr\": 2019, \"Vorname\": \"Layla\", \"SexLang\": \"weiblich\", \"AnzGebuWir\": 3, \"FirstLetter\": \"L\", \"SecondLetter\": \"a\", \"FirstTwoLetters\": \"La\"}, {\"StichtagDatJahr\": 2012, \"Vorname\": \"Louise\", \"SexLang\": \"weiblich\", \"AnzGebuWir\": 3, \"FirstLetter\": \"L\", \"SecondLetter\": \"o\", \"FirstTwoLetters\": \"Lo\"}, {\"StichtagDatJahr\": 2005, \"Vorname\": \"Lou\", \"SexLang\": \"weiblich\", \"AnzGebuWir\": 3, \"FirstLetter\": \"L\", \"SecondLetter\": \"o\", \"FirstTwoLetters\": \"Lo\"}, {\"StichtagDatJahr\": 2006, \"Vorname\": \"Louisa\", \"SexLang\": \"weiblich\", \"AnzGebuWir\": 3, \"FirstLetter\": \"L\", \"SecondLetter\": \"o\", \"FirstTwoLetters\": \"Lo\"}, {\"StichtagDatJahr\": 2006, \"Vorname\": \"Lorena\", \"SexLang\": \"weiblich\", \"AnzGebuWir\": 3, \"FirstLetter\": \"L\", \"SecondLetter\": \"o\", \"FirstTwoLetters\": \"Lo\"}, {\"StichtagDatJahr\": 2006, \"Vorname\": \"Lou\", \"SexLang\": \"weiblich\", \"AnzGebuWir\": 3, \"FirstLetter\": \"L\", \"SecondLetter\": \"o\", \"FirstTwoLetters\": \"Lo\"}, {\"StichtagDatJahr\": 2000, \"Vorname\": \"Lorena\", \"SexLang\": \"weiblich\", \"AnzGebuWir\": 3, \"FirstLetter\": \"L\", \"SecondLetter\": \"o\", \"FirstTwoLetters\": \"Lo\"}, {\"StichtagDatJahr\": 1998, \"Vorname\": \"Louise\", \"SexLang\": \"weiblich\", \"AnzGebuWir\": 3, \"FirstLetter\": \"L\", \"SecondLetter\": \"o\", \"FirstTwoLetters\": \"Lo\"}, {\"StichtagDatJahr\": 1998, \"Vorname\": \"Lorena\", \"SexLang\": \"weiblich\", \"AnzGebuWir\": 3, \"FirstLetter\": \"L\", \"SecondLetter\": \"o\", \"FirstTwoLetters\": \"Lo\"}, {\"StichtagDatJahr\": 2020, \"Vorname\": \"Lasse\", \"SexLang\": \"m\\u00e4nnlich\", \"AnzGebuWir\": 3, \"FirstLetter\": \"L\", \"SecondLetter\": \"a\", \"FirstTwoLetters\": \"La\"}, {\"StichtagDatJahr\": 2015, \"Vorname\": \"Louisa\", \"SexLang\": \"weiblich\", \"AnzGebuWir\": 3, \"FirstLetter\": \"L\", \"SecondLetter\": \"o\", \"FirstTwoLetters\": \"Lo\"}, {\"StichtagDatJahr\": 2015, \"Vorname\": \"Louise\", \"SexLang\": \"weiblich\", \"AnzGebuWir\": 3, \"FirstLetter\": \"L\", \"SecondLetter\": \"o\", \"FirstTwoLetters\": \"Lo\"}, {\"StichtagDatJahr\": 2014, \"Vorname\": \"Lola\", \"SexLang\": \"weiblich\", \"AnzGebuWir\": 3, \"FirstLetter\": \"L\", \"SecondLetter\": \"o\", \"FirstTwoLetters\": \"Lo\"}, {\"StichtagDatJahr\": 2016, \"Vorname\": \"Lorena\", \"SexLang\": \"weiblich\", \"AnzGebuWir\": 3, \"FirstLetter\": \"L\", \"SecondLetter\": \"o\", \"FirstTwoLetters\": \"Lo\"}, {\"StichtagDatJahr\": 2001, \"Vorname\": \"Lou\", \"SexLang\": \"weiblich\", \"AnzGebuWir\": 3, \"FirstLetter\": \"L\", \"SecondLetter\": \"o\", \"FirstTwoLetters\": \"Lo\"}, {\"StichtagDatJahr\": 2008, \"Vorname\": \"Lou\", \"SexLang\": \"weiblich\", \"AnzGebuWir\": 2, \"FirstLetter\": \"L\", \"SecondLetter\": \"o\", \"FirstTwoLetters\": \"Lo\"}, {\"StichtagDatJahr\": 2008, \"Vorname\": \"Louise\", \"SexLang\": \"weiblich\", \"AnzGebuWir\": 2, \"FirstLetter\": \"L\", \"SecondLetter\": \"o\", \"FirstTwoLetters\": \"Lo\"}, {\"StichtagDatJahr\": 2019, \"Vorname\": \"Lasse\", \"SexLang\": \"m\\u00e4nnlich\", \"AnzGebuWir\": 2, \"FirstLetter\": \"L\", \"SecondLetter\": \"a\", \"FirstTwoLetters\": \"La\"}, {\"StichtagDatJahr\": 2019, \"Vorname\": \"Laurenz\", \"SexLang\": \"m\\u00e4nnlich\", \"AnzGebuWir\": 2, \"FirstLetter\": \"L\", \"SecondLetter\": \"a\", \"FirstTwoLetters\": \"La\"}, {\"StichtagDatJahr\": 2012, \"Vorname\": \"Louisa\", \"SexLang\": \"weiblich\", \"AnzGebuWir\": 2, \"FirstLetter\": \"L\", \"SecondLetter\": \"o\", \"FirstTwoLetters\": \"Lo\"}, {\"StichtagDatJahr\": 2012, \"Vorname\": \"Lou\", \"SexLang\": \"weiblich\", \"AnzGebuWir\": 2, \"FirstLetter\": \"L\", \"SecondLetter\": \"o\", \"FirstTwoLetters\": \"Lo\"}, {\"StichtagDatJahr\": 2012, \"Vorname\": \"Loreen\", \"SexLang\": \"weiblich\", \"AnzGebuWir\": 2, \"FirstLetter\": \"L\", \"SecondLetter\": \"o\", \"FirstTwoLetters\": \"Lo\"}, {\"StichtagDatJahr\": 2011, \"Vorname\": \"Lovis\", \"SexLang\": \"weiblich\", \"AnzGebuWir\": 2, \"FirstLetter\": \"L\", \"SecondLetter\": \"o\", \"FirstTwoLetters\": \"Lo\"}, {\"StichtagDatJahr\": 1996, \"Vorname\": \"Loredana\", \"SexLang\": \"weiblich\", \"AnzGebuWir\": 2, \"FirstLetter\": \"L\", \"SecondLetter\": \"o\", \"FirstTwoLetters\": \"Lo\"}, {\"StichtagDatJahr\": 2007, \"Vorname\": \"Loriana\", \"SexLang\": \"weiblich\", \"AnzGebuWir\": 2, \"FirstLetter\": \"L\", \"SecondLetter\": \"o\", \"FirstTwoLetters\": \"Lo\"}, {\"StichtagDatJahr\": 2007, \"Vorname\": \"Lola\", \"SexLang\": \"weiblich\", \"AnzGebuWir\": 2, \"FirstLetter\": \"L\", \"SecondLetter\": \"o\", \"FirstTwoLetters\": \"Lo\"}, {\"StichtagDatJahr\": 2007, \"Vorname\": \"Louise\", \"SexLang\": \"weiblich\", \"AnzGebuWir\": 2, \"FirstLetter\": \"L\", \"SecondLetter\": \"o\", \"FirstTwoLetters\": \"Lo\"}, {\"StichtagDatJahr\": 2019, \"Vorname\": \"Louise\", \"SexLang\": \"weiblich\", \"AnzGebuWir\": 2, \"FirstLetter\": \"L\", \"SecondLetter\": \"o\", \"FirstTwoLetters\": \"Lo\"}, {\"StichtagDatJahr\": 2019, \"Vorname\": \"Lola\", \"SexLang\": \"weiblich\", \"AnzGebuWir\": 2, \"FirstLetter\": \"L\", \"SecondLetter\": \"o\", \"FirstTwoLetters\": \"Lo\"}, {\"StichtagDatJahr\": 2017, \"Vorname\": \"Louna\", \"SexLang\": \"weiblich\", \"AnzGebuWir\": 2, \"FirstLetter\": \"L\", \"SecondLetter\": \"o\", \"FirstTwoLetters\": \"Lo\"}, {\"StichtagDatJahr\": 2015, \"Vorname\": \"Lola\", \"SexLang\": \"weiblich\", \"AnzGebuWir\": 2, \"FirstLetter\": \"L\", \"SecondLetter\": \"o\", \"FirstTwoLetters\": \"Lo\"}, {\"StichtagDatJahr\": 1993, \"Vorname\": \"Loredana\", \"SexLang\": \"weiblich\", \"AnzGebuWir\": 2, \"FirstLetter\": \"L\", \"SecondLetter\": \"o\", \"FirstTwoLetters\": \"Lo\"}, {\"StichtagDatJahr\": 2017, \"Vorname\": \"Lotta\", \"SexLang\": \"weiblich\", \"AnzGebuWir\": 2, \"FirstLetter\": \"L\", \"SecondLetter\": \"o\", \"FirstTwoLetters\": \"Lo\"}, {\"StichtagDatJahr\": 2017, \"Vorname\": \"Lorena\", \"SexLang\": \"weiblich\", \"AnzGebuWir\": 2, \"FirstLetter\": \"L\", \"SecondLetter\": \"o\", \"FirstTwoLetters\": \"Lo\"}, {\"StichtagDatJahr\": 2009, \"Vorname\": \"Lola\", \"SexLang\": \"weiblich\", \"AnzGebuWir\": 2, \"FirstLetter\": \"L\", \"SecondLetter\": \"o\", \"FirstTwoLetters\": \"Lo\"}, {\"StichtagDatJahr\": 1994, \"Vorname\": \"Loren\", \"SexLang\": \"weiblich\", \"AnzGebuWir\": 2, \"FirstLetter\": \"L\", \"SecondLetter\": \"o\", \"FirstTwoLetters\": \"Lo\"}, {\"StichtagDatJahr\": 2000, \"Vorname\": \"Loredana\", \"SexLang\": \"weiblich\", \"AnzGebuWir\": 2, \"FirstLetter\": \"L\", \"SecondLetter\": \"o\", \"FirstTwoLetters\": \"Lo\"}, {\"StichtagDatJahr\": 2000, \"Vorname\": \"Lou\", \"SexLang\": \"weiblich\", \"AnzGebuWir\": 2, \"FirstLetter\": \"L\", \"SecondLetter\": \"o\", \"FirstTwoLetters\": \"Lo\"}, {\"StichtagDatJahr\": 2003, \"Vorname\": \"Lotta\", \"SexLang\": \"weiblich\", \"AnzGebuWir\": 2, \"FirstLetter\": \"L\", \"SecondLetter\": \"o\", \"FirstTwoLetters\": \"Lo\"}, {\"StichtagDatJahr\": 2004, \"Vorname\": \"Louise\", \"SexLang\": \"weiblich\", \"AnzGebuWir\": 2, \"FirstLetter\": \"L\", \"SecondLetter\": \"o\", \"FirstTwoLetters\": \"Lo\"}, {\"StichtagDatJahr\": 2004, \"Vorname\": \"Lotta\", \"SexLang\": \"weiblich\", \"AnzGebuWir\": 2, \"FirstLetter\": \"L\", \"SecondLetter\": \"o\", \"FirstTwoLetters\": \"Lo\"}, {\"StichtagDatJahr\": 2013, \"Vorname\": \"Loredana\", \"SexLang\": \"weiblich\", \"AnzGebuWir\": 2, \"FirstLetter\": \"L\", \"SecondLetter\": \"o\", \"FirstTwoLetters\": \"Lo\"}, {\"StichtagDatJahr\": 2002, \"Vorname\": \"Lorisa\", \"SexLang\": \"weiblich\", \"AnzGebuWir\": 2, \"FirstLetter\": \"L\", \"SecondLetter\": \"o\", \"FirstTwoLetters\": \"Lo\"}, {\"StichtagDatJahr\": 2002, \"Vorname\": \"Loredana\", \"SexLang\": \"weiblich\", \"AnzGebuWir\": 2, \"FirstLetter\": \"L\", \"SecondLetter\": \"o\", \"FirstTwoLetters\": \"Lo\"}, {\"StichtagDatJahr\": 2002, \"Vorname\": \"Lotta\", \"SexLang\": \"weiblich\", \"AnzGebuWir\": 2, \"FirstLetter\": \"L\", \"SecondLetter\": \"o\", \"FirstTwoLetters\": \"Lo\"}, {\"StichtagDatJahr\": 2002, \"Vorname\": \"Louise\", \"SexLang\": \"weiblich\", \"AnzGebuWir\": 2, \"FirstLetter\": \"L\", \"SecondLetter\": \"o\", \"FirstTwoLetters\": \"Lo\"}, {\"StichtagDatJahr\": 2002, \"Vorname\": \"Louisa\", \"SexLang\": \"weiblich\", \"AnzGebuWir\": 2, \"FirstLetter\": \"L\", \"SecondLetter\": \"o\", \"FirstTwoLetters\": \"Lo\"}, {\"StichtagDatJahr\": 2001, \"Vorname\": \"Lorena\", \"SexLang\": \"weiblich\", \"AnzGebuWir\": 2, \"FirstLetter\": \"L\", \"SecondLetter\": \"o\", \"FirstTwoLetters\": \"Lo\"}, {\"StichtagDatJahr\": 2016, \"Vorname\": \"Lorina\", \"SexLang\": \"weiblich\", \"AnzGebuWir\": 2, \"FirstLetter\": \"L\", \"SecondLetter\": \"o\", \"FirstTwoLetters\": \"Lo\"}, {\"StichtagDatJahr\": 1998, \"Vorname\": \"Louisa\", \"SexLang\": \"weiblich\", \"AnzGebuWir\": 2, \"FirstLetter\": \"L\", \"SecondLetter\": \"o\", \"FirstTwoLetters\": \"Lo\"}, {\"StichtagDatJahr\": 2006, \"Vorname\": \"Lovis\", \"SexLang\": \"weiblich\", \"AnzGebuWir\": 2, \"FirstLetter\": \"L\", \"SecondLetter\": \"o\", \"FirstTwoLetters\": \"Lo\"}, {\"StichtagDatJahr\": 2006, \"Vorname\": \"Lola\", \"SexLang\": \"weiblich\", \"AnzGebuWir\": 2, \"FirstLetter\": \"L\", \"SecondLetter\": \"o\", \"FirstTwoLetters\": \"Lo\"}, {\"StichtagDatJahr\": 2014, \"Vorname\": \"Lotta\", \"SexLang\": \"weiblich\", \"AnzGebuWir\": 2, \"FirstLetter\": \"L\", \"SecondLetter\": \"o\", \"FirstTwoLetters\": \"Lo\"}, {\"StichtagDatJahr\": 2014, \"Vorname\": \"Lorin\", \"SexLang\": \"weiblich\", \"AnzGebuWir\": 2, \"FirstLetter\": \"L\", \"SecondLetter\": \"o\", \"FirstTwoLetters\": \"Lo\"}, {\"StichtagDatJahr\": 2014, \"Vorname\": \"Lois\", \"SexLang\": \"weiblich\", \"AnzGebuWir\": 2, \"FirstLetter\": \"L\", \"SecondLetter\": \"o\", \"FirstTwoLetters\": \"Lo\"}, {\"StichtagDatJahr\": 2014, \"Vorname\": \"Lotte\", \"SexLang\": \"weiblich\", \"AnzGebuWir\": 2, \"FirstLetter\": \"L\", \"SecondLetter\": \"o\", \"FirstTwoLetters\": \"Lo\"}, {\"StichtagDatJahr\": 2020, \"Vorname\": \"Louise\", \"SexLang\": \"weiblich\", \"AnzGebuWir\": 2, \"FirstLetter\": \"L\", \"SecondLetter\": \"o\", \"FirstTwoLetters\": \"Lo\"}, {\"StichtagDatJahr\": 2020, \"Vorname\": \"Larina\", \"SexLang\": \"weiblich\", \"AnzGebuWir\": 2, \"FirstLetter\": \"L\", \"SecondLetter\": \"a\", \"FirstTwoLetters\": \"La\"}, {\"StichtagDatJahr\": 2020, \"Vorname\": \"Larisa\", \"SexLang\": \"weiblich\", \"AnzGebuWir\": 2, \"FirstLetter\": \"L\", \"SecondLetter\": \"a\", \"FirstTwoLetters\": \"La\"}, {\"StichtagDatJahr\": 2020, \"Vorname\": \"Layla\", \"SexLang\": \"weiblich\", \"AnzGebuWir\": 2, \"FirstLetter\": \"L\", \"SecondLetter\": \"a\", \"FirstTwoLetters\": \"La\"}, {\"StichtagDatJahr\": 2020, \"Vorname\": \"Laia\", \"SexLang\": \"weiblich\", \"AnzGebuWir\": 2, \"FirstLetter\": \"L\", \"SecondLetter\": \"a\", \"FirstTwoLetters\": \"La\"}, {\"StichtagDatJahr\": 2020, \"Vorname\": \"Ladina\", \"SexLang\": \"weiblich\", \"AnzGebuWir\": 2, \"FirstLetter\": \"L\", \"SecondLetter\": \"a\", \"FirstTwoLetters\": \"La\"}, {\"StichtagDatJahr\": 2019, \"Vorname\": \"Laaroussi\", \"SexLang\": \"m\\u00e4nnlich\", \"AnzGebuWir\": 1, \"FirstLetter\": \"L\", \"SecondLetter\": \"a\", \"FirstTwoLetters\": \"La\"}, {\"StichtagDatJahr\": 2019, \"Vorname\": \"Lamin\", \"SexLang\": \"m\\u00e4nnlich\", \"AnzGebuWir\": 1, \"FirstLetter\": \"L\", \"SecondLetter\": \"a\", \"FirstTwoLetters\": \"La\"}, {\"StichtagDatJahr\": 2019, \"Vorname\": \"Lario\", \"SexLang\": \"m\\u00e4nnlich\", \"AnzGebuWir\": 1, \"FirstLetter\": \"L\", \"SecondLetter\": \"a\", \"FirstTwoLetters\": \"La\"}, {\"StichtagDatJahr\": 2019, \"Vorname\": \"Lauri\", \"SexLang\": \"m\\u00e4nnlich\", \"AnzGebuWir\": 1, \"FirstLetter\": \"L\", \"SecondLetter\": \"a\", \"FirstTwoLetters\": \"La\"}, {\"StichtagDatJahr\": 2019, \"Vorname\": \"Lav\", \"SexLang\": \"m\\u00e4nnlich\", \"AnzGebuWir\": 1, \"FirstLetter\": \"L\", \"SecondLetter\": \"a\", \"FirstTwoLetters\": \"La\"}, {\"StichtagDatJahr\": 2019, \"Vorname\": \"Lawrence\", \"SexLang\": \"m\\u00e4nnlich\", \"AnzGebuWir\": 1, \"FirstLetter\": \"L\", \"SecondLetter\": \"a\", \"FirstTwoLetters\": \"La\"}, {\"StichtagDatJahr\": 2020, \"Vorname\": \"Labib\", \"SexLang\": \"m\\u00e4nnlich\", \"AnzGebuWir\": 1, \"FirstLetter\": \"L\", \"SecondLetter\": \"a\", \"FirstTwoLetters\": \"La\"}, {\"StichtagDatJahr\": 2020, \"Vorname\": \"Lalo\", \"SexLang\": \"m\\u00e4nnlich\", \"AnzGebuWir\": 1, \"FirstLetter\": \"L\", \"SecondLetter\": \"a\", \"FirstTwoLetters\": \"La\"}, {\"StichtagDatJahr\": 2020, \"Vorname\": \"Lamar\", \"SexLang\": \"m\\u00e4nnlich\", \"AnzGebuWir\": 1, \"FirstLetter\": \"L\", \"SecondLetter\": \"a\", \"FirstTwoLetters\": \"La\"}, {\"StichtagDatJahr\": 2020, \"Vorname\": \"Lawin\", \"SexLang\": \"m\\u00e4nnlich\", \"AnzGebuWir\": 1, \"FirstLetter\": \"L\", \"SecondLetter\": \"a\", \"FirstTwoLetters\": \"La\"}, {\"StichtagDatJahr\": 2020, \"Vorname\": \"Lamek\", \"SexLang\": \"m\\u00e4nnlich\", \"AnzGebuWir\": 1, \"FirstLetter\": \"L\", \"SecondLetter\": \"a\", \"FirstTwoLetters\": \"La\"}, {\"StichtagDatJahr\": 2020, \"Vorname\": \"Lario\", \"SexLang\": \"m\\u00e4nnlich\", \"AnzGebuWir\": 1, \"FirstLetter\": \"L\", \"SecondLetter\": \"a\", \"FirstTwoLetters\": \"La\"}, {\"StichtagDatJahr\": 2020, \"Vorname\": \"Laui\", \"SexLang\": \"m\\u00e4nnlich\", \"AnzGebuWir\": 1, \"FirstLetter\": \"L\", \"SecondLetter\": \"a\", \"FirstTwoLetters\": \"La\"}, {\"StichtagDatJahr\": 2020, \"Vorname\": \"Lauin\", \"SexLang\": \"m\\u00e4nnlich\", \"AnzGebuWir\": 1, \"FirstLetter\": \"L\", \"SecondLetter\": \"a\", \"FirstTwoLetters\": \"La\"}, {\"StichtagDatJahr\": 2020, \"Vorname\": \"Laurens\", \"SexLang\": \"m\\u00e4nnlich\", \"AnzGebuWir\": 1, \"FirstLetter\": \"L\", \"SecondLetter\": \"a\", \"FirstTwoLetters\": \"La\"}, {\"StichtagDatJahr\": 2020, \"Vorname\": \"Laurent\", \"SexLang\": \"m\\u00e4nnlich\", \"AnzGebuWir\": 1, \"FirstLetter\": \"L\", \"SecondLetter\": \"a\", \"FirstTwoLetters\": \"La\"}, {\"StichtagDatJahr\": 2020, \"Vorname\": \"Laurenz\", \"SexLang\": \"m\\u00e4nnlich\", \"AnzGebuWir\": 1, \"FirstLetter\": \"L\", \"SecondLetter\": \"a\", \"FirstTwoLetters\": \"La\"}, {\"StichtagDatJahr\": 2020, \"Vorname\": \"Laurids\", \"SexLang\": \"m\\u00e4nnlich\", \"AnzGebuWir\": 1, \"FirstLetter\": \"L\", \"SecondLetter\": \"a\", \"FirstTwoLetters\": \"La\"}, {\"StichtagDatJahr\": 2020, \"Vorname\": \"Lazar\", \"SexLang\": \"m\\u00e4nnlich\", \"AnzGebuWir\": 1, \"FirstLetter\": \"L\", \"SecondLetter\": \"a\", \"FirstTwoLetters\": \"La\"}, {\"StichtagDatJahr\": 2020, \"Vorname\": \"Lazaros\", \"SexLang\": \"m\\u00e4nnlich\", \"AnzGebuWir\": 1, \"FirstLetter\": \"L\", \"SecondLetter\": \"a\", \"FirstTwoLetters\": \"La\"}, {\"StichtagDatJahr\": 2004, \"Vorname\": \"Lor\\u00een\", \"SexLang\": \"weiblich\", \"AnzGebuWir\": 1, \"FirstLetter\": \"L\", \"SecondLetter\": \"o\", \"FirstTwoLetters\": \"Lo\"}, {\"StichtagDatJahr\": 2004, \"Vorname\": \"Lorna\", \"SexLang\": \"weiblich\", \"AnzGebuWir\": 1, \"FirstLetter\": \"L\", \"SecondLetter\": \"o\", \"FirstTwoLetters\": \"Lo\"}, {\"StichtagDatJahr\": 2005, \"Vorname\": \"Lo\\u00e9\", \"SexLang\": \"weiblich\", \"AnzGebuWir\": 1, \"FirstLetter\": \"L\", \"SecondLetter\": \"o\", \"FirstTwoLetters\": \"Lo\"}, {\"StichtagDatJahr\": 2005, \"Vorname\": \"Lo\\u00efs\", \"SexLang\": \"weiblich\", \"AnzGebuWir\": 1, \"FirstLetter\": \"L\", \"SecondLetter\": \"o\", \"FirstTwoLetters\": \"Lo\"}, {\"StichtagDatJahr\": 2005, \"Vorname\": \"Lona\", \"SexLang\": \"weiblich\", \"AnzGebuWir\": 1, \"FirstLetter\": \"L\", \"SecondLetter\": \"o\", \"FirstTwoLetters\": \"Lo\"}, {\"StichtagDatJahr\": 2005, \"Vorname\": \"Loneda\", \"SexLang\": \"weiblich\", \"AnzGebuWir\": 1, \"FirstLetter\": \"L\", \"SecondLetter\": \"o\", \"FirstTwoLetters\": \"Lo\"}, {\"StichtagDatJahr\": 2005, \"Vorname\": \"Loni\", \"SexLang\": \"weiblich\", \"AnzGebuWir\": 1, \"FirstLetter\": \"L\", \"SecondLetter\": \"o\", \"FirstTwoLetters\": \"Lo\"}, {\"StichtagDatJahr\": 2005, \"Vorname\": \"Loreta\", \"SexLang\": \"weiblich\", \"AnzGebuWir\": 1, \"FirstLetter\": \"L\", \"SecondLetter\": \"o\", \"FirstTwoLetters\": \"Lo\"}, {\"StichtagDatJahr\": 2005, \"Vorname\": \"Lorina\", \"SexLang\": \"weiblich\", \"AnzGebuWir\": 1, \"FirstLetter\": \"L\", \"SecondLetter\": \"o\", \"FirstTwoLetters\": \"Lo\"}, {\"StichtagDatJahr\": 2005, \"Vorname\": \"Lorraine\", \"SexLang\": \"weiblich\", \"AnzGebuWir\": 1, \"FirstLetter\": \"L\", \"SecondLetter\": \"o\", \"FirstTwoLetters\": \"Lo\"}, {\"StichtagDatJahr\": 2005, \"Vorname\": \"Lotta\", \"SexLang\": \"weiblich\", \"AnzGebuWir\": 1, \"FirstLetter\": \"L\", \"SecondLetter\": \"o\", \"FirstTwoLetters\": \"Lo\"}, {\"StichtagDatJahr\": 2005, \"Vorname\": \"Lou-Anna\", \"SexLang\": \"weiblich\", \"AnzGebuWir\": 1, \"FirstLetter\": \"L\", \"SecondLetter\": \"o\", \"FirstTwoLetters\": \"Lo\"}, {\"StichtagDatJahr\": 2005, \"Vorname\": \"Louisa\", \"SexLang\": \"weiblich\", \"AnzGebuWir\": 1, \"FirstLetter\": \"L\", \"SecondLetter\": \"o\", \"FirstTwoLetters\": \"Lo\"}, {\"StichtagDatJahr\": 2005, \"Vorname\": \"Louise\", \"SexLang\": \"weiblich\", \"AnzGebuWir\": 1, \"FirstLetter\": \"L\", \"SecondLetter\": \"o\", \"FirstTwoLetters\": \"Lo\"}, {\"StichtagDatJahr\": 2005, \"Vorname\": \"Loulou\", \"SexLang\": \"weiblich\", \"AnzGebuWir\": 1, \"FirstLetter\": \"L\", \"SecondLetter\": \"o\", \"FirstTwoLetters\": \"Lo\"}, {\"StichtagDatJahr\": 2005, \"Vorname\": \"Lovis\", \"SexLang\": \"weiblich\", \"AnzGebuWir\": 1, \"FirstLetter\": \"L\", \"SecondLetter\": \"o\", \"FirstTwoLetters\": \"Lo\"}, {\"StichtagDatJahr\": 2002, \"Vorname\": \"Lola\", \"SexLang\": \"weiblich\", \"AnzGebuWir\": 1, \"FirstLetter\": \"L\", \"SecondLetter\": \"o\", \"FirstTwoLetters\": \"Lo\"}, {\"StichtagDatJahr\": 2002, \"Vorname\": \"Lorika\", \"SexLang\": \"weiblich\", \"AnzGebuWir\": 1, \"FirstLetter\": \"L\", \"SecondLetter\": \"o\", \"FirstTwoLetters\": \"Lo\"}, {\"StichtagDatJahr\": 2002, \"Vorname\": \"Lorina\", \"SexLang\": \"weiblich\", \"AnzGebuWir\": 1, \"FirstLetter\": \"L\", \"SecondLetter\": \"o\", \"FirstTwoLetters\": \"Lo\"}, {\"StichtagDatJahr\": 2002, \"Vorname\": \"Lorna\", \"SexLang\": \"weiblich\", \"AnzGebuWir\": 1, \"FirstLetter\": \"L\", \"SecondLetter\": \"o\", \"FirstTwoLetters\": \"Lo\"}, {\"StichtagDatJahr\": 2002, \"Vorname\": \"Lorraine\", \"SexLang\": \"weiblich\", \"AnzGebuWir\": 1, \"FirstLetter\": \"L\", \"SecondLetter\": \"o\", \"FirstTwoLetters\": \"Lo\"}, {\"StichtagDatJahr\": 2003, \"Vorname\": \"Loa\", \"SexLang\": \"weiblich\", \"AnzGebuWir\": 1, \"FirstLetter\": \"L\", \"SecondLetter\": \"o\", \"FirstTwoLetters\": \"Lo\"}, {\"StichtagDatJahr\": 2003, \"Vorname\": \"Lois\", \"SexLang\": \"weiblich\", \"AnzGebuWir\": 1, \"FirstLetter\": \"L\", \"SecondLetter\": \"o\", \"FirstTwoLetters\": \"Lo\"}, {\"StichtagDatJahr\": 2003, \"Vorname\": \"Lo\\u00efs\", \"SexLang\": \"weiblich\", \"AnzGebuWir\": 1, \"FirstLetter\": \"L\", \"SecondLetter\": \"o\", \"FirstTwoLetters\": \"Lo\"}, {\"StichtagDatJahr\": 2003, \"Vorname\": \"Lorijana\", \"SexLang\": \"weiblich\", \"AnzGebuWir\": 1, \"FirstLetter\": \"L\", \"SecondLetter\": \"o\", \"FirstTwoLetters\": \"Lo\"}, {\"StichtagDatJahr\": 2003, \"Vorname\": \"Loryleimis\", \"SexLang\": \"weiblich\", \"AnzGebuWir\": 1, \"FirstLetter\": \"L\", \"SecondLetter\": \"o\", \"FirstTwoLetters\": \"Lo\"}, {\"StichtagDatJahr\": 2003, \"Vorname\": \"Lou-Lara\", \"SexLang\": \"weiblich\", \"AnzGebuWir\": 1, \"FirstLetter\": \"L\", \"SecondLetter\": \"o\", \"FirstTwoLetters\": \"Lo\"}, {\"StichtagDatJahr\": 2003, \"Vorname\": \"Louine\", \"SexLang\": \"weiblich\", \"AnzGebuWir\": 1, \"FirstLetter\": \"L\", \"SecondLetter\": \"o\", \"FirstTwoLetters\": \"Lo\"}, {\"StichtagDatJahr\": 2003, \"Vorname\": \"Louisa\", \"SexLang\": \"weiblich\", \"AnzGebuWir\": 1, \"FirstLetter\": \"L\", \"SecondLetter\": \"o\", \"FirstTwoLetters\": \"Lo\"}, {\"StichtagDatJahr\": 2003, \"Vorname\": \"Loulou\", \"SexLang\": \"weiblich\", \"AnzGebuWir\": 1, \"FirstLetter\": \"L\", \"SecondLetter\": \"o\", \"FirstTwoLetters\": \"Lo\"}, {\"StichtagDatJahr\": 2003, \"Vorname\": \"Lovis\", \"SexLang\": \"weiblich\", \"AnzGebuWir\": 1, \"FirstLetter\": \"L\", \"SecondLetter\": \"o\", \"FirstTwoLetters\": \"Lo\"}, {\"StichtagDatJahr\": 2008, \"Vorname\": \"Lorine\", \"SexLang\": \"weiblich\", \"AnzGebuWir\": 1, \"FirstLetter\": \"L\", \"SecondLetter\": \"o\", \"FirstTwoLetters\": \"Lo\"}, {\"StichtagDatJahr\": 2008, \"Vorname\": \"Loan\", \"SexLang\": \"weiblich\", \"AnzGebuWir\": 1, \"FirstLetter\": \"L\", \"SecondLetter\": \"o\", \"FirstTwoLetters\": \"Lo\"}, {\"StichtagDatJahr\": 2008, \"Vorname\": \"Lois\", \"SexLang\": \"weiblich\", \"AnzGebuWir\": 1, \"FirstLetter\": \"L\", \"SecondLetter\": \"o\", \"FirstTwoLetters\": \"Lo\"}, {\"StichtagDatJahr\": 2008, \"Vorname\": \"Lora\", \"SexLang\": \"weiblich\", \"AnzGebuWir\": 1, \"FirstLetter\": \"L\", \"SecondLetter\": \"o\", \"FirstTwoLetters\": \"Lo\"}, {\"StichtagDatJahr\": 2008, \"Vorname\": \"Lorin\", \"SexLang\": \"weiblich\", \"AnzGebuWir\": 1, \"FirstLetter\": \"L\", \"SecondLetter\": \"o\", \"FirstTwoLetters\": \"Lo\"}, {\"StichtagDatJahr\": 2008, \"Vorname\": \"Lorina\", \"SexLang\": \"weiblich\", \"AnzGebuWir\": 1, \"FirstLetter\": \"L\", \"SecondLetter\": \"o\", \"FirstTwoLetters\": \"Lo\"}, {\"StichtagDatJahr\": 2008, \"Vorname\": \"Lorinda\", \"SexLang\": \"weiblich\", \"AnzGebuWir\": 1, \"FirstLetter\": \"L\", \"SecondLetter\": \"o\", \"FirstTwoLetters\": \"Lo\"}, {\"StichtagDatJahr\": 2008, \"Vorname\": \"Lorisa\", \"SexLang\": \"weiblich\", \"AnzGebuWir\": 1, \"FirstLetter\": \"L\", \"SecondLetter\": \"o\", \"FirstTwoLetters\": \"Lo\"}, {\"StichtagDatJahr\": 2008, \"Vorname\": \"Lotta\", \"SexLang\": \"weiblich\", \"AnzGebuWir\": 1, \"FirstLetter\": \"L\", \"SecondLetter\": \"o\", \"FirstTwoLetters\": \"Lo\"}, {\"StichtagDatJahr\": 2008, \"Vorname\": \"Louine\", \"SexLang\": \"weiblich\", \"AnzGebuWir\": 1, \"FirstLetter\": \"L\", \"SecondLetter\": \"o\", \"FirstTwoLetters\": \"Lo\"}, {\"StichtagDatJahr\": 2008, \"Vorname\": \"Lova\", \"SexLang\": \"weiblich\", \"AnzGebuWir\": 1, \"FirstLetter\": \"L\", \"SecondLetter\": \"o\", \"FirstTwoLetters\": \"Lo\"}, {\"StichtagDatJahr\": 2009, \"Vorname\": \"Lora\", \"SexLang\": \"weiblich\", \"AnzGebuWir\": 1, \"FirstLetter\": \"L\", \"SecondLetter\": \"o\", \"FirstTwoLetters\": \"Lo\"}, {\"StichtagDatJahr\": 2009, \"Vorname\": \"Lorana\", \"SexLang\": \"weiblich\", \"AnzGebuWir\": 1, \"FirstLetter\": \"L\", \"SecondLetter\": \"o\", \"FirstTwoLetters\": \"Lo\"}, {\"StichtagDatJahr\": 2009, \"Vorname\": \"Loreen\", \"SexLang\": \"weiblich\", \"AnzGebuWir\": 1, \"FirstLetter\": \"L\", \"SecondLetter\": \"o\", \"FirstTwoLetters\": \"Lo\"}, {\"StichtagDatJahr\": 2009, \"Vorname\": \"Lorena-Sara\", \"SexLang\": \"weiblich\", \"AnzGebuWir\": 1, \"FirstLetter\": \"L\", \"SecondLetter\": \"o\", \"FirstTwoLetters\": \"Lo\"}, {\"StichtagDatJahr\": 2009, \"Vorname\": \"Loriane\", \"SexLang\": \"weiblich\", \"AnzGebuWir\": 1, \"FirstLetter\": \"L\", \"SecondLetter\": \"o\", \"FirstTwoLetters\": \"Lo\"}, {\"StichtagDatJahr\": 2009, \"Vorname\": \"Lorin\", \"SexLang\": \"weiblich\", \"AnzGebuWir\": 1, \"FirstLetter\": \"L\", \"SecondLetter\": \"o\", \"FirstTwoLetters\": \"Lo\"}, {\"StichtagDatJahr\": 2009, \"Vorname\": \"Lorna\", \"SexLang\": \"weiblich\", \"AnzGebuWir\": 1, \"FirstLetter\": \"L\", \"SecondLetter\": \"o\", \"FirstTwoLetters\": \"Lo\"}, {\"StichtagDatJahr\": 2009, \"Vorname\": \"Loulou\", \"SexLang\": \"weiblich\", \"AnzGebuWir\": 1, \"FirstLetter\": \"L\", \"SecondLetter\": \"o\", \"FirstTwoLetters\": \"Lo\"}, {\"StichtagDatJahr\": 2009, \"Vorname\": \"Lovisa\", \"SexLang\": \"weiblich\", \"AnzGebuWir\": 1, \"FirstLetter\": \"L\", \"SecondLetter\": \"o\", \"FirstTwoLetters\": \"Lo\"}, {\"StichtagDatJahr\": 2006, \"Vorname\": \"Lora\", \"SexLang\": \"weiblich\", \"AnzGebuWir\": 1, \"FirstLetter\": \"L\", \"SecondLetter\": \"o\", \"FirstTwoLetters\": \"Lo\"}, {\"StichtagDatJahr\": 2006, \"Vorname\": \"Lochanaa\", \"SexLang\": \"weiblich\", \"AnzGebuWir\": 1, \"FirstLetter\": \"L\", \"SecondLetter\": \"o\", \"FirstTwoLetters\": \"Lo\"}, {\"StichtagDatJahr\": 2006, \"Vorname\": \"Lona\", \"SexLang\": \"weiblich\", \"AnzGebuWir\": 1, \"FirstLetter\": \"L\", \"SecondLetter\": \"o\", \"FirstTwoLetters\": \"Lo\"}, {\"StichtagDatJahr\": 2006, \"Vorname\": \"Loraine\", \"SexLang\": \"weiblich\", \"AnzGebuWir\": 1, \"FirstLetter\": \"L\", \"SecondLetter\": \"o\", \"FirstTwoLetters\": \"Lo\"}, {\"StichtagDatJahr\": 2006, \"Vorname\": \"Loresa\", \"SexLang\": \"weiblich\", \"AnzGebuWir\": 1, \"FirstLetter\": \"L\", \"SecondLetter\": \"o\", \"FirstTwoLetters\": \"Lo\"}, {\"StichtagDatJahr\": 2006, \"Vorname\": \"Lotte\", \"SexLang\": \"weiblich\", \"AnzGebuWir\": 1, \"FirstLetter\": \"L\", \"SecondLetter\": \"o\", \"FirstTwoLetters\": \"Lo\"}, {\"StichtagDatJahr\": 2006, \"Vorname\": \"Lova\", \"SexLang\": \"weiblich\", \"AnzGebuWir\": 1, \"FirstLetter\": \"L\", \"SecondLetter\": \"o\", \"FirstTwoLetters\": \"Lo\"}, {\"StichtagDatJahr\": 2007, \"Vorname\": \"Loana\", \"SexLang\": \"weiblich\", \"AnzGebuWir\": 1, \"FirstLetter\": \"L\", \"SecondLetter\": \"o\", \"FirstTwoLetters\": \"Lo\"}, {\"StichtagDatJahr\": 2007, \"Vorname\": \"Loe\", \"SexLang\": \"weiblich\", \"AnzGebuWir\": 1, \"FirstLetter\": \"L\", \"SecondLetter\": \"o\", \"FirstTwoLetters\": \"Lo\"}, {\"StichtagDatJahr\": 2007, \"Vorname\": \"Lois\", \"SexLang\": \"weiblich\", \"AnzGebuWir\": 1, \"FirstLetter\": \"L\", \"SecondLetter\": \"o\", \"FirstTwoLetters\": \"Lo\"}, {\"StichtagDatJahr\": 2007, \"Vorname\": \"Lom\\u00e9\", \"SexLang\": \"weiblich\", \"AnzGebuWir\": 1, \"FirstLetter\": \"L\", \"SecondLetter\": \"o\", \"FirstTwoLetters\": \"Lo\"}, {\"StichtagDatJahr\": 2007, \"Vorname\": \"Lorina\", \"SexLang\": \"weiblich\", \"AnzGebuWir\": 1, \"FirstLetter\": \"L\", \"SecondLetter\": \"o\", \"FirstTwoLetters\": \"Lo\"}, {\"StichtagDatJahr\": 2007, \"Vorname\": \"Lorraine\", \"SexLang\": \"weiblich\", \"AnzGebuWir\": 1, \"FirstLetter\": \"L\", \"SecondLetter\": \"o\", \"FirstTwoLetters\": \"Lo\"}, {\"StichtagDatJahr\": 2007, \"Vorname\": \"Lotta\", \"SexLang\": \"weiblich\", \"AnzGebuWir\": 1, \"FirstLetter\": \"L\", \"SecondLetter\": \"o\", \"FirstTwoLetters\": \"Lo\"}, {\"StichtagDatJahr\": 2007, \"Vorname\": \"Lotte\", \"SexLang\": \"weiblich\", \"AnzGebuWir\": 1, \"FirstLetter\": \"L\", \"SecondLetter\": \"o\", \"FirstTwoLetters\": \"Lo\"}, {\"StichtagDatJahr\": 2007, \"Vorname\": \"Lovisa\", \"SexLang\": \"weiblich\", \"AnzGebuWir\": 1, \"FirstLetter\": \"L\", \"SecondLetter\": \"o\", \"FirstTwoLetters\": \"Lo\"}, {\"StichtagDatJahr\": 1996, \"Vorname\": \"Louise\", \"SexLang\": \"weiblich\", \"AnzGebuWir\": 1, \"FirstLetter\": \"L\", \"SecondLetter\": \"o\", \"FirstTwoLetters\": \"Lo\"}, {\"StichtagDatJahr\": 1996, \"Vorname\": \"Loisa\", \"SexLang\": \"weiblich\", \"AnzGebuWir\": 1, \"FirstLetter\": \"L\", \"SecondLetter\": \"o\", \"FirstTwoLetters\": \"Lo\"}, {\"StichtagDatJahr\": 1996, \"Vorname\": \"Lola\", \"SexLang\": \"weiblich\", \"AnzGebuWir\": 1, \"FirstLetter\": \"L\", \"SecondLetter\": \"o\", \"FirstTwoLetters\": \"Lo\"}, {\"StichtagDatJahr\": 1996, \"Vorname\": \"Londina\", \"SexLang\": \"weiblich\", \"AnzGebuWir\": 1, \"FirstLetter\": \"L\", \"SecondLetter\": \"o\", \"FirstTwoLetters\": \"Lo\"}, {\"StichtagDatJahr\": 1996, \"Vorname\": \"Lorea\", \"SexLang\": \"weiblich\", \"AnzGebuWir\": 1, \"FirstLetter\": \"L\", \"SecondLetter\": \"o\", \"FirstTwoLetters\": \"Lo\"}, {\"StichtagDatJahr\": 1996, \"Vorname\": \"Loret\", \"SexLang\": \"weiblich\", \"AnzGebuWir\": 1, \"FirstLetter\": \"L\", \"SecondLetter\": \"o\", \"FirstTwoLetters\": \"Lo\"}, {\"StichtagDatJahr\": 1996, \"Vorname\": \"Loreta\", \"SexLang\": \"weiblich\", \"AnzGebuWir\": 1, \"FirstLetter\": \"L\", \"SecondLetter\": \"o\", \"FirstTwoLetters\": \"Lo\"}, {\"StichtagDatJahr\": 1996, \"Vorname\": \"Lorina\", \"SexLang\": \"weiblich\", \"AnzGebuWir\": 1, \"FirstLetter\": \"L\", \"SecondLetter\": \"o\", \"FirstTwoLetters\": \"Lo\"}, {\"StichtagDatJahr\": 1996, \"Vorname\": \"Lou\", \"SexLang\": \"weiblich\", \"AnzGebuWir\": 1, \"FirstLetter\": \"L\", \"SecondLetter\": \"o\", \"FirstTwoLetters\": \"Lo\"}, {\"StichtagDatJahr\": 1995, \"Vorname\": \"Lola\", \"SexLang\": \"weiblich\", \"AnzGebuWir\": 1, \"FirstLetter\": \"L\", \"SecondLetter\": \"o\", \"FirstTwoLetters\": \"Lo\"}, {\"StichtagDatJahr\": 1995, \"Vorname\": \"Lobsang\", \"SexLang\": \"weiblich\", \"AnzGebuWir\": 1, \"FirstLetter\": \"L\", \"SecondLetter\": \"o\", \"FirstTwoLetters\": \"Lo\"}, {\"StichtagDatJahr\": 1995, \"Vorname\": \"Long\", \"SexLang\": \"weiblich\", \"AnzGebuWir\": 1, \"FirstLetter\": \"L\", \"SecondLetter\": \"o\", \"FirstTwoLetters\": \"Lo\"}, {\"StichtagDatJahr\": 1995, \"Vorname\": \"Loredana\", \"SexLang\": \"weiblich\", \"AnzGebuWir\": 1, \"FirstLetter\": \"L\", \"SecondLetter\": \"o\", \"FirstTwoLetters\": \"Lo\"}, {\"StichtagDatJahr\": 1995, \"Vorname\": \"Lotta\", \"SexLang\": \"weiblich\", \"AnzGebuWir\": 1, \"FirstLetter\": \"L\", \"SecondLetter\": \"o\", \"FirstTwoLetters\": \"Lo\"}, {\"StichtagDatJahr\": 1995, \"Vorname\": \"Louise\", \"SexLang\": \"weiblich\", \"AnzGebuWir\": 1, \"FirstLetter\": \"L\", \"SecondLetter\": \"o\", \"FirstTwoLetters\": \"Lo\"}, {\"StichtagDatJahr\": 1997, \"Vorname\": \"Lotta\", \"SexLang\": \"weiblich\", \"AnzGebuWir\": 1, \"FirstLetter\": \"L\", \"SecondLetter\": \"o\", \"FirstTwoLetters\": \"Lo\"}, {\"StichtagDatJahr\": 1997, \"Vorname\": \"Lou\", \"SexLang\": \"weiblich\", \"AnzGebuWir\": 1, \"FirstLetter\": \"L\", \"SecondLetter\": \"o\", \"FirstTwoLetters\": \"Lo\"}, {\"StichtagDatJahr\": 1993, \"Vorname\": \"Louise\", \"SexLang\": \"weiblich\", \"AnzGebuWir\": 1, \"FirstLetter\": \"L\", \"SecondLetter\": \"o\", \"FirstTwoLetters\": \"Lo\"}, {\"StichtagDatJahr\": 1994, \"Vorname\": \"Louisa\", \"SexLang\": \"weiblich\", \"AnzGebuWir\": 1, \"FirstLetter\": \"L\", \"SecondLetter\": \"o\", \"FirstTwoLetters\": \"Lo\"}, {\"StichtagDatJahr\": 1994, \"Vorname\": \"Loretta\", \"SexLang\": \"weiblich\", \"AnzGebuWir\": 1, \"FirstLetter\": \"L\", \"SecondLetter\": \"o\", \"FirstTwoLetters\": \"Lo\"}, {\"StichtagDatJahr\": 1994, \"Vorname\": \"Lorina\", \"SexLang\": \"weiblich\", \"AnzGebuWir\": 1, \"FirstLetter\": \"L\", \"SecondLetter\": \"o\", \"FirstTwoLetters\": \"Lo\"}, {\"StichtagDatJahr\": 1994, \"Vorname\": \"Lotti\", \"SexLang\": \"weiblich\", \"AnzGebuWir\": 1, \"FirstLetter\": \"L\", \"SecondLetter\": \"o\", \"FirstTwoLetters\": \"Lo\"}, {\"StichtagDatJahr\": 1994, \"Vorname\": \"Lou\", \"SexLang\": \"weiblich\", \"AnzGebuWir\": 1, \"FirstLetter\": \"L\", \"SecondLetter\": \"o\", \"FirstTwoLetters\": \"Lo\"}, {\"StichtagDatJahr\": 1994, \"Vorname\": \"Loue\", \"SexLang\": \"weiblich\", \"AnzGebuWir\": 1, \"FirstLetter\": \"L\", \"SecondLetter\": \"o\", \"FirstTwoLetters\": \"Lo\"}, {\"StichtagDatJahr\": 2000, \"Vorname\": \"Lorenta\", \"SexLang\": \"weiblich\", \"AnzGebuWir\": 1, \"FirstLetter\": \"L\", \"SecondLetter\": \"o\", \"FirstTwoLetters\": \"Lo\"}, {\"StichtagDatJahr\": 2000, \"Vorname\": \"Loreta\", \"SexLang\": \"weiblich\", \"AnzGebuWir\": 1, \"FirstLetter\": \"L\", \"SecondLetter\": \"o\", \"FirstTwoLetters\": \"Lo\"}, {\"StichtagDatJahr\": 2000, \"Vorname\": \"Lorr\\u00e3ny\", \"SexLang\": \"weiblich\", \"AnzGebuWir\": 1, \"FirstLetter\": \"L\", \"SecondLetter\": \"o\", \"FirstTwoLetters\": \"Lo\"}, {\"StichtagDatJahr\": 2000, \"Vorname\": \"Lou-Tamara\", \"SexLang\": \"weiblich\", \"AnzGebuWir\": 1, \"FirstLetter\": \"L\", \"SecondLetter\": \"o\", \"FirstTwoLetters\": \"Lo\"}, {\"StichtagDatJahr\": 2001, \"Vorname\": \"Lola\", \"SexLang\": \"weiblich\", \"AnzGebuWir\": 1, \"FirstLetter\": \"L\", \"SecondLetter\": \"o\", \"FirstTwoLetters\": \"Lo\"}, {\"StichtagDatJahr\": 2001, \"Vorname\": \"Loredana\", \"SexLang\": \"weiblich\", \"AnzGebuWir\": 1, \"FirstLetter\": \"L\", \"SecondLetter\": \"o\", \"FirstTwoLetters\": \"Lo\"}, {\"StichtagDatJahr\": 2001, \"Vorname\": \"Lorika\", \"SexLang\": \"weiblich\", \"AnzGebuWir\": 1, \"FirstLetter\": \"L\", \"SecondLetter\": \"o\", \"FirstTwoLetters\": \"Lo\"}, {\"StichtagDatJahr\": 2001, \"Vorname\": \"Lotiane\", \"SexLang\": \"weiblich\", \"AnzGebuWir\": 1, \"FirstLetter\": \"L\", \"SecondLetter\": \"o\", \"FirstTwoLetters\": \"Lo\"}, {\"StichtagDatJahr\": 2001, \"Vorname\": \"Louisa\", \"SexLang\": \"weiblich\", \"AnzGebuWir\": 1, \"FirstLetter\": \"L\", \"SecondLetter\": \"o\", \"FirstTwoLetters\": \"Lo\"}, {\"StichtagDatJahr\": 2001, \"Vorname\": \"Louise\", \"SexLang\": \"weiblich\", \"AnzGebuWir\": 1, \"FirstLetter\": \"L\", \"SecondLetter\": \"o\", \"FirstTwoLetters\": \"Lo\"}, {\"StichtagDatJahr\": 2001, \"Vorname\": \"Lousal\\u00f4m\\u00e9\", \"SexLang\": \"weiblich\", \"AnzGebuWir\": 1, \"FirstLetter\": \"L\", \"SecondLetter\": \"o\", \"FirstTwoLetters\": \"Lo\"}, {\"StichtagDatJahr\": 1998, \"Vorname\": \"Lorinda\", \"SexLang\": \"weiblich\", \"AnzGebuWir\": 1, \"FirstLetter\": \"L\", \"SecondLetter\": \"o\", \"FirstTwoLetters\": \"Lo\"}, {\"StichtagDatJahr\": 1998, \"Vorname\": \"Lou\", \"SexLang\": \"weiblich\", \"AnzGebuWir\": 1, \"FirstLetter\": \"L\", \"SecondLetter\": \"o\", \"FirstTwoLetters\": \"Lo\"}, {\"StichtagDatJahr\": 1998, \"Vorname\": \"Lores\\u00eb\", \"SexLang\": \"weiblich\", \"AnzGebuWir\": 1, \"FirstLetter\": \"L\", \"SecondLetter\": \"o\", \"FirstTwoLetters\": \"Lo\"}, {\"StichtagDatJahr\": 1998, \"Vorname\": \"Lola\", \"SexLang\": \"weiblich\", \"AnzGebuWir\": 1, \"FirstLetter\": \"L\", \"SecondLetter\": \"o\", \"FirstTwoLetters\": \"Lo\"}, {\"StichtagDatJahr\": 1999, \"Vorname\": \"Lois\", \"SexLang\": \"weiblich\", \"AnzGebuWir\": 1, \"FirstLetter\": \"L\", \"SecondLetter\": \"o\", \"FirstTwoLetters\": \"Lo\"}, {\"StichtagDatJahr\": 1999, \"Vorname\": \"Lorentina\", \"SexLang\": \"weiblich\", \"AnzGebuWir\": 1, \"FirstLetter\": \"L\", \"SecondLetter\": \"o\", \"FirstTwoLetters\": \"Lo\"}, {\"StichtagDatJahr\": 1999, \"Vorname\": \"Lou\", \"SexLang\": \"weiblich\", \"AnzGebuWir\": 1, \"FirstLetter\": \"L\", \"SecondLetter\": \"o\", \"FirstTwoLetters\": \"Lo\"}, {\"StichtagDatJahr\": 1999, \"Vorname\": \"Louisa\", \"SexLang\": \"weiblich\", \"AnzGebuWir\": 1, \"FirstLetter\": \"L\", \"SecondLetter\": \"o\", \"FirstTwoLetters\": \"Lo\"}, {\"StichtagDatJahr\": 2020, \"Vorname\": \"Larissa\", \"SexLang\": \"weiblich\", \"AnzGebuWir\": 1, \"FirstLetter\": \"L\", \"SecondLetter\": \"a\", \"FirstTwoLetters\": \"La\"}, {\"StichtagDatJahr\": 2020, \"Vorname\": \"Lauren\", \"SexLang\": \"weiblich\", \"AnzGebuWir\": 1, \"FirstLetter\": \"L\", \"SecondLetter\": \"a\", \"FirstTwoLetters\": \"La\"}, {\"StichtagDatJahr\": 2020, \"Vorname\": \"Laurence\", \"SexLang\": \"weiblich\", \"AnzGebuWir\": 1, \"FirstLetter\": \"L\", \"SecondLetter\": \"a\", \"FirstTwoLetters\": \"La\"}, {\"StichtagDatJahr\": 2020, \"Vorname\": \"Lavinia\", \"SexLang\": \"weiblich\", \"AnzGebuWir\": 1, \"FirstLetter\": \"L\", \"SecondLetter\": \"a\", \"FirstTwoLetters\": \"La\"}, {\"StichtagDatJahr\": 2020, \"Vorname\": \"Laya\", \"SexLang\": \"weiblich\", \"AnzGebuWir\": 1, \"FirstLetter\": \"L\", \"SecondLetter\": \"a\", \"FirstTwoLetters\": \"La\"}, {\"StichtagDatJahr\": 2020, \"Vorname\": \"Layana\", \"SexLang\": \"weiblich\", \"AnzGebuWir\": 1, \"FirstLetter\": \"L\", \"SecondLetter\": \"a\", \"FirstTwoLetters\": \"La\"}, {\"StichtagDatJahr\": 2020, \"Vorname\": \"Layel\", \"SexLang\": \"weiblich\", \"AnzGebuWir\": 1, \"FirstLetter\": \"L\", \"SecondLetter\": \"a\", \"FirstTwoLetters\": \"La\"}, {\"StichtagDatJahr\": 2020, \"Vorname\": \"Laure\", \"SexLang\": \"weiblich\", \"AnzGebuWir\": 1, \"FirstLetter\": \"L\", \"SecondLetter\": \"a\", \"FirstTwoLetters\": \"La\"}, {\"StichtagDatJahr\": 2020, \"Vorname\": \"Laraina\", \"SexLang\": \"weiblich\", \"AnzGebuWir\": 1, \"FirstLetter\": \"L\", \"SecondLetter\": \"a\", \"FirstTwoLetters\": \"La\"}, {\"StichtagDatJahr\": 2020, \"Vorname\": \"Lanea\", \"SexLang\": \"weiblich\", \"AnzGebuWir\": 1, \"FirstLetter\": \"L\", \"SecondLetter\": \"a\", \"FirstTwoLetters\": \"La\"}, {\"StichtagDatJahr\": 2020, \"Vorname\": \"Lahina\", \"SexLang\": \"weiblich\", \"AnzGebuWir\": 1, \"FirstLetter\": \"L\", \"SecondLetter\": \"a\", \"FirstTwoLetters\": \"La\"}, {\"StichtagDatJahr\": 2020, \"Vorname\": \"Laila\", \"SexLang\": \"weiblich\", \"AnzGebuWir\": 1, \"FirstLetter\": \"L\", \"SecondLetter\": \"a\", \"FirstTwoLetters\": \"La\"}, {\"StichtagDatJahr\": 2020, \"Vorname\": \"Laina\", \"SexLang\": \"weiblich\", \"AnzGebuWir\": 1, \"FirstLetter\": \"L\", \"SecondLetter\": \"a\", \"FirstTwoLetters\": \"La\"}, {\"StichtagDatJahr\": 2020, \"Vorname\": \"Lale\", \"SexLang\": \"weiblich\", \"AnzGebuWir\": 1, \"FirstLetter\": \"L\", \"SecondLetter\": \"a\", \"FirstTwoLetters\": \"La\"}, {\"StichtagDatJahr\": 2020, \"Vorname\": \"Lovis\", \"SexLang\": \"weiblich\", \"AnzGebuWir\": 1, \"FirstLetter\": \"L\", \"SecondLetter\": \"o\", \"FirstTwoLetters\": \"Lo\"}, {\"StichtagDatJahr\": 2020, \"Vorname\": \"Louane\", \"SexLang\": \"weiblich\", \"AnzGebuWir\": 1, \"FirstLetter\": \"L\", \"SecondLetter\": \"o\", \"FirstTwoLetters\": \"Lo\"}, {\"StichtagDatJahr\": 2020, \"Vorname\": \"Loua\", \"SexLang\": \"weiblich\", \"AnzGebuWir\": 1, \"FirstLetter\": \"L\", \"SecondLetter\": \"o\", \"FirstTwoLetters\": \"Lo\"}, {\"StichtagDatJahr\": 2020, \"Vorname\": \"Lorina\", \"SexLang\": \"weiblich\", \"AnzGebuWir\": 1, \"FirstLetter\": \"L\", \"SecondLetter\": \"o\", \"FirstTwoLetters\": \"Lo\"}, {\"StichtagDatJahr\": 2020, \"Vorname\": \"Lorine\", \"SexLang\": \"weiblich\", \"AnzGebuWir\": 1, \"FirstLetter\": \"L\", \"SecondLetter\": \"o\", \"FirstTwoLetters\": \"Lo\"}, {\"StichtagDatJahr\": 2018, \"Vorname\": \"Loie\", \"SexLang\": \"weiblich\", \"AnzGebuWir\": 1, \"FirstLetter\": \"L\", \"SecondLetter\": \"o\", \"FirstTwoLetters\": \"Lo\"}, {\"StichtagDatJahr\": 2018, \"Vorname\": \"Loki\", \"SexLang\": \"weiblich\", \"AnzGebuWir\": 1, \"FirstLetter\": \"L\", \"SecondLetter\": \"o\", \"FirstTwoLetters\": \"Lo\"}, {\"StichtagDatJahr\": 2018, \"Vorname\": \"Loren\", \"SexLang\": \"weiblich\", \"AnzGebuWir\": 1, \"FirstLetter\": \"L\", \"SecondLetter\": \"o\", \"FirstTwoLetters\": \"Lo\"}, {\"StichtagDatJahr\": 2018, \"Vorname\": \"Lorina\", \"SexLang\": \"weiblich\", \"AnzGebuWir\": 1, \"FirstLetter\": \"L\", \"SecondLetter\": \"o\", \"FirstTwoLetters\": \"Lo\"}, {\"StichtagDatJahr\": 2018, \"Vorname\": \"Lorine\", \"SexLang\": \"weiblich\", \"AnzGebuWir\": 1, \"FirstLetter\": \"L\", \"SecondLetter\": \"o\", \"FirstTwoLetters\": \"Lo\"}, {\"StichtagDatJahr\": 2018, \"Vorname\": \"Lou-Ann\", \"SexLang\": \"weiblich\", \"AnzGebuWir\": 1, \"FirstLetter\": \"L\", \"SecondLetter\": \"o\", \"FirstTwoLetters\": \"Lo\"}, {\"StichtagDatJahr\": 2018, \"Vorname\": \"Loua\", \"SexLang\": \"weiblich\", \"AnzGebuWir\": 1, \"FirstLetter\": \"L\", \"SecondLetter\": \"o\", \"FirstTwoLetters\": \"Lo\"}, {\"StichtagDatJahr\": 2018, \"Vorname\": \"Louen\", \"SexLang\": \"weiblich\", \"AnzGebuWir\": 1, \"FirstLetter\": \"L\", \"SecondLetter\": \"o\", \"FirstTwoLetters\": \"Lo\"}, {\"StichtagDatJahr\": 2018, \"Vorname\": \"Louiza\", \"SexLang\": \"weiblich\", \"AnzGebuWir\": 1, \"FirstLetter\": \"L\", \"SecondLetter\": \"o\", \"FirstTwoLetters\": \"Lo\"}, {\"StichtagDatJahr\": 2018, \"Vorname\": \"Loulou\", \"SexLang\": \"weiblich\", \"AnzGebuWir\": 1, \"FirstLetter\": \"L\", \"SecondLetter\": \"o\", \"FirstTwoLetters\": \"Lo\"}, {\"StichtagDatJahr\": 2018, \"Vorname\": \"Lovis\", \"SexLang\": \"weiblich\", \"AnzGebuWir\": 1, \"FirstLetter\": \"L\", \"SecondLetter\": \"o\", \"FirstTwoLetters\": \"Lo\"}, {\"StichtagDatJahr\": 2019, \"Vorname\": \"Lola-Grace\", \"SexLang\": \"weiblich\", \"AnzGebuWir\": 1, \"FirstLetter\": \"L\", \"SecondLetter\": \"o\", \"FirstTwoLetters\": \"Lo\"}, {\"StichtagDatJahr\": 2019, \"Vorname\": \"Lore\", \"SexLang\": \"weiblich\", \"AnzGebuWir\": 1, \"FirstLetter\": \"L\", \"SecondLetter\": \"o\", \"FirstTwoLetters\": \"Lo\"}, {\"StichtagDatJahr\": 2019, \"Vorname\": \"Lotte\", \"SexLang\": \"weiblich\", \"AnzGebuWir\": 1, \"FirstLetter\": \"L\", \"SecondLetter\": \"o\", \"FirstTwoLetters\": \"Lo\"}, {\"StichtagDatJahr\": 2019, \"Vorname\": \"Louane\", \"SexLang\": \"weiblich\", \"AnzGebuWir\": 1, \"FirstLetter\": \"L\", \"SecondLetter\": \"o\", \"FirstTwoLetters\": \"Lo\"}, {\"StichtagDatJahr\": 2019, \"Vorname\": \"Louison\", \"SexLang\": \"weiblich\", \"AnzGebuWir\": 1, \"FirstLetter\": \"L\", \"SecondLetter\": \"o\", \"FirstTwoLetters\": \"Lo\"}, {\"StichtagDatJahr\": 2019, \"Vorname\": \"Loviel\", \"SexLang\": \"weiblich\", \"AnzGebuWir\": 1, \"FirstLetter\": \"L\", \"SecondLetter\": \"o\", \"FirstTwoLetters\": \"Lo\"}, {\"StichtagDatJahr\": 2019, \"Vorname\": \"Lovin\", \"SexLang\": \"weiblich\", \"AnzGebuWir\": 1, \"FirstLetter\": \"L\", \"SecondLetter\": \"o\", \"FirstTwoLetters\": \"Lo\"}, {\"StichtagDatJahr\": 2019, \"Vorname\": \"Lovis\", \"SexLang\": \"weiblich\", \"AnzGebuWir\": 1, \"FirstLetter\": \"L\", \"SecondLetter\": \"o\", \"FirstTwoLetters\": \"Lo\"}, {\"StichtagDatJahr\": 2019, \"Vorname\": \"Lovisa\", \"SexLang\": \"weiblich\", \"AnzGebuWir\": 1, \"FirstLetter\": \"L\", \"SecondLetter\": \"o\", \"FirstTwoLetters\": \"Lo\"}, {\"StichtagDatJahr\": 2019, \"Vorname\": \"Laila\", \"SexLang\": \"weiblich\", \"AnzGebuWir\": 1, \"FirstLetter\": \"L\", \"SecondLetter\": \"a\", \"FirstTwoLetters\": \"La\"}, {\"StichtagDatJahr\": 2019, \"Vorname\": \"Laleh\", \"SexLang\": \"weiblich\", \"AnzGebuWir\": 1, \"FirstLetter\": \"L\", \"SecondLetter\": \"a\", \"FirstTwoLetters\": \"La\"}, {\"StichtagDatJahr\": 2019, \"Vorname\": \"Lana\", \"SexLang\": \"weiblich\", \"AnzGebuWir\": 1, \"FirstLetter\": \"L\", \"SecondLetter\": \"a\", \"FirstTwoLetters\": \"La\"}, {\"StichtagDatJahr\": 2019, \"Vorname\": \"Larina\", \"SexLang\": \"weiblich\", \"AnzGebuWir\": 1, \"FirstLetter\": \"L\", \"SecondLetter\": \"a\", \"FirstTwoLetters\": \"La\"}, {\"StichtagDatJahr\": 2019, \"Vorname\": \"Lauren\", \"SexLang\": \"weiblich\", \"AnzGebuWir\": 1, \"FirstLetter\": \"L\", \"SecondLetter\": \"a\", \"FirstTwoLetters\": \"La\"}, {\"StichtagDatJahr\": 2019, \"Vorname\": \"Laya\", \"SexLang\": \"weiblich\", \"AnzGebuWir\": 1, \"FirstLetter\": \"L\", \"SecondLetter\": \"a\", \"FirstTwoLetters\": \"La\"}, {\"StichtagDatJahr\": 2012, \"Vorname\": \"Louanne\", \"SexLang\": \"weiblich\", \"AnzGebuWir\": 1, \"FirstLetter\": \"L\", \"SecondLetter\": \"o\", \"FirstTwoLetters\": \"Lo\"}, {\"StichtagDatJahr\": 2012, \"Vorname\": \"Loa\", \"SexLang\": \"weiblich\", \"AnzGebuWir\": 1, \"FirstLetter\": \"L\", \"SecondLetter\": \"o\", \"FirstTwoLetters\": \"Lo\"}, {\"StichtagDatJahr\": 2012, \"Vorname\": \"Loe\", \"SexLang\": \"weiblich\", \"AnzGebuWir\": 1, \"FirstLetter\": \"L\", \"SecondLetter\": \"o\", \"FirstTwoLetters\": \"Lo\"}, {\"StichtagDatJahr\": 2012, \"Vorname\": \"Lokwa\", \"SexLang\": \"weiblich\", \"AnzGebuWir\": 1, \"FirstLetter\": \"L\", \"SecondLetter\": \"o\", \"FirstTwoLetters\": \"Lo\"}, {\"StichtagDatJahr\": 2012, \"Vorname\": \"Lorea\", \"SexLang\": \"weiblich\", \"AnzGebuWir\": 1, \"FirstLetter\": \"L\", \"SecondLetter\": \"o\", \"FirstTwoLetters\": \"Lo\"}, {\"StichtagDatJahr\": 2012, \"Vorname\": \"Loriana\", \"SexLang\": \"weiblich\", \"AnzGebuWir\": 1, \"FirstLetter\": \"L\", \"SecondLetter\": \"o\", \"FirstTwoLetters\": \"Lo\"}, {\"StichtagDatJahr\": 2012, \"Vorname\": \"Lorina\", \"SexLang\": \"weiblich\", \"AnzGebuWir\": 1, \"FirstLetter\": \"L\", \"SecondLetter\": \"o\", \"FirstTwoLetters\": \"Lo\"}, {\"StichtagDatJahr\": 2012, \"Vorname\": \"Lorisa\", \"SexLang\": \"weiblich\", \"AnzGebuWir\": 1, \"FirstLetter\": \"L\", \"SecondLetter\": \"o\", \"FirstTwoLetters\": \"Lo\"}, {\"StichtagDatJahr\": 2012, \"Vorname\": \"Lotta\", \"SexLang\": \"weiblich\", \"AnzGebuWir\": 1, \"FirstLetter\": \"L\", \"SecondLetter\": \"o\", \"FirstTwoLetters\": \"Lo\"}, {\"StichtagDatJahr\": 2012, \"Vorname\": \"Lovina\", \"SexLang\": \"weiblich\", \"AnzGebuWir\": 1, \"FirstLetter\": \"L\", \"SecondLetter\": \"o\", \"FirstTwoLetters\": \"Lo\"}, {\"StichtagDatJahr\": 2013, \"Vorname\": \"Lois\", \"SexLang\": \"weiblich\", \"AnzGebuWir\": 1, \"FirstLetter\": \"L\", \"SecondLetter\": \"o\", \"FirstTwoLetters\": \"Lo\"}, {\"StichtagDatJahr\": 2013, \"Vorname\": \"Lo\\u00efs\", \"SexLang\": \"weiblich\", \"AnzGebuWir\": 1, \"FirstLetter\": \"L\", \"SecondLetter\": \"o\", \"FirstTwoLetters\": \"Lo\"}, {\"StichtagDatJahr\": 2013, \"Vorname\": \"Lola\", \"SexLang\": \"weiblich\", \"AnzGebuWir\": 1, \"FirstLetter\": \"L\", \"SecondLetter\": \"o\", \"FirstTwoLetters\": \"Lo\"}, {\"StichtagDatJahr\": 2013, \"Vorname\": \"Lora\", \"SexLang\": \"weiblich\", \"AnzGebuWir\": 1, \"FirstLetter\": \"L\", \"SecondLetter\": \"o\", \"FirstTwoLetters\": \"Lo\"}, {\"StichtagDatJahr\": 2013, \"Vorname\": \"Loreen\", \"SexLang\": \"weiblich\", \"AnzGebuWir\": 1, \"FirstLetter\": \"L\", \"SecondLetter\": \"o\", \"FirstTwoLetters\": \"Lo\"}, {\"StichtagDatJahr\": 2013, \"Vorname\": \"Loretta\", \"SexLang\": \"weiblich\", \"AnzGebuWir\": 1, \"FirstLetter\": \"L\", \"SecondLetter\": \"o\", \"FirstTwoLetters\": \"Lo\"}, {\"StichtagDatJahr\": 2013, \"Vorname\": \"Lorina\", \"SexLang\": \"weiblich\", \"AnzGebuWir\": 1, \"FirstLetter\": \"L\", \"SecondLetter\": \"o\", \"FirstTwoLetters\": \"Lo\"}, {\"StichtagDatJahr\": 2013, \"Vorname\": \"Lorine\", \"SexLang\": \"weiblich\", \"AnzGebuWir\": 1, \"FirstLetter\": \"L\", \"SecondLetter\": \"o\", \"FirstTwoLetters\": \"Lo\"}, {\"StichtagDatJahr\": 2013, \"Vorname\": \"Lotachi\", \"SexLang\": \"weiblich\", \"AnzGebuWir\": 1, \"FirstLetter\": \"L\", \"SecondLetter\": \"o\", \"FirstTwoLetters\": \"Lo\"}, {\"StichtagDatJahr\": 2013, \"Vorname\": \"Louison\", \"SexLang\": \"weiblich\", \"AnzGebuWir\": 1, \"FirstLetter\": \"L\", \"SecondLetter\": \"o\", \"FirstTwoLetters\": \"Lo\"}, {\"StichtagDatJahr\": 2013, \"Vorname\": \"Lovisa\", \"SexLang\": \"weiblich\", \"AnzGebuWir\": 1, \"FirstLetter\": \"L\", \"SecondLetter\": \"o\", \"FirstTwoLetters\": \"Lo\"}, {\"StichtagDatJahr\": 2013, \"Vorname\": \"Lowiese\", \"SexLang\": \"weiblich\", \"AnzGebuWir\": 1, \"FirstLetter\": \"L\", \"SecondLetter\": \"o\", \"FirstTwoLetters\": \"Lo\"}, {\"StichtagDatJahr\": 2010, \"Vorname\": \"Lonny\", \"SexLang\": \"weiblich\", \"AnzGebuWir\": 1, \"FirstLetter\": \"L\", \"SecondLetter\": \"o\", \"FirstTwoLetters\": \"Lo\"}, {\"StichtagDatJahr\": 2010, \"Vorname\": \"Loredana\", \"SexLang\": \"weiblich\", \"AnzGebuWir\": 1, \"FirstLetter\": \"L\", \"SecondLetter\": \"o\", \"FirstTwoLetters\": \"Lo\"}, {\"StichtagDatJahr\": 2010, \"Vorname\": \"Loren\", \"SexLang\": \"weiblich\", \"AnzGebuWir\": 1, \"FirstLetter\": \"L\", \"SecondLetter\": \"o\", \"FirstTwoLetters\": \"Lo\"}, {\"StichtagDatJahr\": 2010, \"Vorname\": \"Loresa\", \"SexLang\": \"weiblich\", \"AnzGebuWir\": 1, \"FirstLetter\": \"L\", \"SecondLetter\": \"o\", \"FirstTwoLetters\": \"Lo\"}, {\"StichtagDatJahr\": 2010, \"Vorname\": \"Loretta\", \"SexLang\": \"weiblich\", \"AnzGebuWir\": 1, \"FirstLetter\": \"L\", \"SecondLetter\": \"o\", \"FirstTwoLetters\": \"Lo\"}, {\"StichtagDatJahr\": 2010, \"Vorname\": \"Lotte\", \"SexLang\": \"weiblich\", \"AnzGebuWir\": 1, \"FirstLetter\": \"L\", \"SecondLetter\": \"o\", \"FirstTwoLetters\": \"Lo\"}, {\"StichtagDatJahr\": 2010, \"Vorname\": \"Lou-Marl\\u00e8ne\", \"SexLang\": \"weiblich\", \"AnzGebuWir\": 1, \"FirstLetter\": \"L\", \"SecondLetter\": \"o\", \"FirstTwoLetters\": \"Lo\"}, {\"StichtagDatJahr\": 2010, \"Vorname\": \"Loulou\", \"SexLang\": \"weiblich\", \"AnzGebuWir\": 1, \"FirstLetter\": \"L\", \"SecondLetter\": \"o\", \"FirstTwoLetters\": \"Lo\"}, {\"StichtagDatJahr\": 2010, \"Vorname\": \"Louna\", \"SexLang\": \"weiblich\", \"AnzGebuWir\": 1, \"FirstLetter\": \"L\", \"SecondLetter\": \"o\", \"FirstTwoLetters\": \"Lo\"}, {\"StichtagDatJahr\": 2010, \"Vorname\": \"Lourdes\", \"SexLang\": \"weiblich\", \"AnzGebuWir\": 1, \"FirstLetter\": \"L\", \"SecondLetter\": \"o\", \"FirstTwoLetters\": \"Lo\"}, {\"StichtagDatJahr\": 2010, \"Vorname\": \"Lola\", \"SexLang\": \"weiblich\", \"AnzGebuWir\": 1, \"FirstLetter\": \"L\", \"SecondLetter\": \"o\", \"FirstTwoLetters\": \"Lo\"}, {\"StichtagDatJahr\": 2010, \"Vorname\": \"Lo\\u00efs\", \"SexLang\": \"weiblich\", \"AnzGebuWir\": 1, \"FirstLetter\": \"L\", \"SecondLetter\": \"o\", \"FirstTwoLetters\": \"Lo\"}, {\"StichtagDatJahr\": 2010, \"Vorname\": \"Loa\", \"SexLang\": \"weiblich\", \"AnzGebuWir\": 1, \"FirstLetter\": \"L\", \"SecondLetter\": \"o\", \"FirstTwoLetters\": \"Lo\"}, {\"StichtagDatJahr\": 2011, \"Vorname\": \"Lo\\u00efse\", \"SexLang\": \"weiblich\", \"AnzGebuWir\": 1, \"FirstLetter\": \"L\", \"SecondLetter\": \"o\", \"FirstTwoLetters\": \"Lo\"}, {\"StichtagDatJahr\": 2011, \"Vorname\": \"Lola\", \"SexLang\": \"weiblich\", \"AnzGebuWir\": 1, \"FirstLetter\": \"L\", \"SecondLetter\": \"o\", \"FirstTwoLetters\": \"Lo\"}, {\"StichtagDatJahr\": 2011, \"Vorname\": \"Loraina\", \"SexLang\": \"weiblich\", \"AnzGebuWir\": 1, \"FirstLetter\": \"L\", \"SecondLetter\": \"o\", \"FirstTwoLetters\": \"Lo\"}, {\"StichtagDatJahr\": 2011, \"Vorname\": \"Loresa\", \"SexLang\": \"weiblich\", \"AnzGebuWir\": 1, \"FirstLetter\": \"L\", \"SecondLetter\": \"o\", \"FirstTwoLetters\": \"Lo\"}, {\"StichtagDatJahr\": 2011, \"Vorname\": \"Lori\", \"SexLang\": \"weiblich\", \"AnzGebuWir\": 1, \"FirstLetter\": \"L\", \"SecondLetter\": \"o\", \"FirstTwoLetters\": \"Lo\"}, {\"StichtagDatJahr\": 2011, \"Vorname\": \"Lotti\", \"SexLang\": \"weiblich\", \"AnzGebuWir\": 1, \"FirstLetter\": \"L\", \"SecondLetter\": \"o\", \"FirstTwoLetters\": \"Lo\"}, {\"StichtagDatJahr\": 2011, \"Vorname\": \"Louane\", \"SexLang\": \"weiblich\", \"AnzGebuWir\": 1, \"FirstLetter\": \"L\", \"SecondLetter\": \"o\", \"FirstTwoLetters\": \"Lo\"}, {\"StichtagDatJahr\": 2011, \"Vorname\": \"Loulou\", \"SexLang\": \"weiblich\", \"AnzGebuWir\": 1, \"FirstLetter\": \"L\", \"SecondLetter\": \"o\", \"FirstTwoLetters\": \"Lo\"}, {\"StichtagDatJahr\": 2016, \"Vorname\": \"Louana\", \"SexLang\": \"weiblich\", \"AnzGebuWir\": 1, \"FirstLetter\": \"L\", \"SecondLetter\": \"o\", \"FirstTwoLetters\": \"Lo\"}, {\"StichtagDatJahr\": 2016, \"Vorname\": \"Loa\", \"SexLang\": \"weiblich\", \"AnzGebuWir\": 1, \"FirstLetter\": \"L\", \"SecondLetter\": \"o\", \"FirstTwoLetters\": \"Lo\"}, {\"StichtagDatJahr\": 2016, \"Vorname\": \"Lola\", \"SexLang\": \"weiblich\", \"AnzGebuWir\": 1, \"FirstLetter\": \"L\", \"SecondLetter\": \"o\", \"FirstTwoLetters\": \"Lo\"}, {\"StichtagDatJahr\": 2016, \"Vorname\": \"Lone\", \"SexLang\": \"weiblich\", \"AnzGebuWir\": 1, \"FirstLetter\": \"L\", \"SecondLetter\": \"o\", \"FirstTwoLetters\": \"Lo\"}, {\"StichtagDatJahr\": 2016, \"Vorname\": \"Loni\", \"SexLang\": \"weiblich\", \"AnzGebuWir\": 1, \"FirstLetter\": \"L\", \"SecondLetter\": \"o\", \"FirstTwoLetters\": \"Lo\"}, {\"StichtagDatJahr\": 2016, \"Vorname\": \"Lorea\", \"SexLang\": \"weiblich\", \"AnzGebuWir\": 1, \"FirstLetter\": \"L\", \"SecondLetter\": \"o\", \"FirstTwoLetters\": \"Lo\"}, {\"StichtagDatJahr\": 2016, \"Vorname\": \"Loredana\", \"SexLang\": \"weiblich\", \"AnzGebuWir\": 1, \"FirstLetter\": \"L\", \"SecondLetter\": \"o\", \"FirstTwoLetters\": \"Lo\"}, {\"StichtagDatJahr\": 2016, \"Vorname\": \"Lorine\", \"SexLang\": \"weiblich\", \"AnzGebuWir\": 1, \"FirstLetter\": \"L\", \"SecondLetter\": \"o\", \"FirstTwoLetters\": \"Lo\"}, {\"StichtagDatJahr\": 2016, \"Vorname\": \"Lotte\", \"SexLang\": \"weiblich\", \"AnzGebuWir\": 1, \"FirstLetter\": \"L\", \"SecondLetter\": \"o\", \"FirstTwoLetters\": \"Lo\"}, {\"StichtagDatJahr\": 2016, \"Vorname\": \"Lou-Ann\", \"SexLang\": \"weiblich\", \"AnzGebuWir\": 1, \"FirstLetter\": \"L\", \"SecondLetter\": \"o\", \"FirstTwoLetters\": \"Lo\"}, {\"StichtagDatJahr\": 2017, \"Vorname\": \"Louanne\", \"SexLang\": \"weiblich\", \"AnzGebuWir\": 1, \"FirstLetter\": \"L\", \"SecondLetter\": \"o\", \"FirstTwoLetters\": \"Lo\"}, {\"StichtagDatJahr\": 2017, \"Vorname\": \"Louison\", \"SexLang\": \"weiblich\", \"AnzGebuWir\": 1, \"FirstLetter\": \"L\", \"SecondLetter\": \"o\", \"FirstTwoLetters\": \"Lo\"}, {\"StichtagDatJahr\": 2017, \"Vorname\": \"Lovelynn\", \"SexLang\": \"weiblich\", \"AnzGebuWir\": 1, \"FirstLetter\": \"L\", \"SecondLetter\": \"o\", \"FirstTwoLetters\": \"Lo\"}, {\"StichtagDatJahr\": 2017, \"Vorname\": \"Louane\", \"SexLang\": \"weiblich\", \"AnzGebuWir\": 1, \"FirstLetter\": \"L\", \"SecondLetter\": \"o\", \"FirstTwoLetters\": \"Lo\"}, {\"StichtagDatJahr\": 2017, \"Vorname\": \"Louana\", \"SexLang\": \"weiblich\", \"AnzGebuWir\": 1, \"FirstLetter\": \"L\", \"SecondLetter\": \"o\", \"FirstTwoLetters\": \"Lo\"}, {\"StichtagDatJahr\": 2017, \"Vorname\": \"Lottie\", \"SexLang\": \"weiblich\", \"AnzGebuWir\": 1, \"FirstLetter\": \"L\", \"SecondLetter\": \"o\", \"FirstTwoLetters\": \"Lo\"}, {\"StichtagDatJahr\": 2017, \"Vorname\": \"Lotte\", \"SexLang\": \"weiblich\", \"AnzGebuWir\": 1, \"FirstLetter\": \"L\", \"SecondLetter\": \"o\", \"FirstTwoLetters\": \"Lo\"}, {\"StichtagDatJahr\": 2017, \"Vorname\": \"Loanne\", \"SexLang\": \"weiblich\", \"AnzGebuWir\": 1, \"FirstLetter\": \"L\", \"SecondLetter\": \"o\", \"FirstTwoLetters\": \"Lo\"}, {\"StichtagDatJahr\": 2017, \"Vorname\": \"Loe\", \"SexLang\": \"weiblich\", \"AnzGebuWir\": 1, \"FirstLetter\": \"L\", \"SecondLetter\": \"o\", \"FirstTwoLetters\": \"Lo\"}, {\"StichtagDatJahr\": 2017, \"Vorname\": \"Loira\", \"SexLang\": \"weiblich\", \"AnzGebuWir\": 1, \"FirstLetter\": \"L\", \"SecondLetter\": \"o\", \"FirstTwoLetters\": \"Lo\"}, {\"StichtagDatJahr\": 2017, \"Vorname\": \"Lola\", \"SexLang\": \"weiblich\", \"AnzGebuWir\": 1, \"FirstLetter\": \"L\", \"SecondLetter\": \"o\", \"FirstTwoLetters\": \"Lo\"}, {\"StichtagDatJahr\": 2017, \"Vorname\": \"Loretta\", \"SexLang\": \"weiblich\", \"AnzGebuWir\": 1, \"FirstLetter\": \"L\", \"SecondLetter\": \"o\", \"FirstTwoLetters\": \"Lo\"}, {\"StichtagDatJahr\": 2017, \"Vorname\": \"Lorisa\", \"SexLang\": \"weiblich\", \"AnzGebuWir\": 1, \"FirstLetter\": \"L\", \"SecondLetter\": \"o\", \"FirstTwoLetters\": \"Lo\"}, {\"StichtagDatJahr\": 2014, \"Vorname\": \"Loena\", \"SexLang\": \"weiblich\", \"AnzGebuWir\": 1, \"FirstLetter\": \"L\", \"SecondLetter\": \"o\", \"FirstTwoLetters\": \"Lo\"}, {\"StichtagDatJahr\": 2014, \"Vorname\": \"Lo\\u00efse\", \"SexLang\": \"weiblich\", \"AnzGebuWir\": 1, \"FirstLetter\": \"L\", \"SecondLetter\": \"o\", \"FirstTwoLetters\": \"Lo\"}, {\"StichtagDatJahr\": 2014, \"Vorname\": \"Lorane\", \"SexLang\": \"weiblich\", \"AnzGebuWir\": 1, \"FirstLetter\": \"L\", \"SecondLetter\": \"o\", \"FirstTwoLetters\": \"Lo\"}, {\"StichtagDatJahr\": 2014, \"Vorname\": \"Loreen\", \"SexLang\": \"weiblich\", \"AnzGebuWir\": 1, \"FirstLetter\": \"L\", \"SecondLetter\": \"o\", \"FirstTwoLetters\": \"Lo\"}, {\"StichtagDatJahr\": 2014, \"Vorname\": \"Loretta\", \"SexLang\": \"weiblich\", \"AnzGebuWir\": 1, \"FirstLetter\": \"L\", \"SecondLetter\": \"o\", \"FirstTwoLetters\": \"Lo\"}, {\"StichtagDatJahr\": 2014, \"Vorname\": \"Lorisa\", \"SexLang\": \"weiblich\", \"AnzGebuWir\": 1, \"FirstLetter\": \"L\", \"SecondLetter\": \"o\", \"FirstTwoLetters\": \"Lo\"}, {\"StichtagDatJahr\": 2015, \"Vorname\": \"Lo\", \"SexLang\": \"weiblich\", \"AnzGebuWir\": 1, \"FirstLetter\": \"L\", \"SecondLetter\": \"o\", \"FirstTwoLetters\": \"Lo\"}, {\"StichtagDatJahr\": 2015, \"Vorname\": \"Lois\", \"SexLang\": \"weiblich\", \"AnzGebuWir\": 1, \"FirstLetter\": \"L\", \"SecondLetter\": \"o\", \"FirstTwoLetters\": \"Lo\"}, {\"StichtagDatJahr\": 2015, \"Vorname\": \"Loora\", \"SexLang\": \"weiblich\", \"AnzGebuWir\": 1, \"FirstLetter\": \"L\", \"SecondLetter\": \"o\", \"FirstTwoLetters\": \"Lo\"}, {\"StichtagDatJahr\": 2015, \"Vorname\": \"Lor\", \"SexLang\": \"weiblich\", \"AnzGebuWir\": 1, \"FirstLetter\": \"L\", \"SecondLetter\": \"o\", \"FirstTwoLetters\": \"Lo\"}, {\"StichtagDatJahr\": 2015, \"Vorname\": \"Lora\", \"SexLang\": \"weiblich\", \"AnzGebuWir\": 1, \"FirstLetter\": \"L\", \"SecondLetter\": \"o\", \"FirstTwoLetters\": \"Lo\"}, {\"StichtagDatJahr\": 2015, \"Vorname\": \"Loresa\", \"SexLang\": \"weiblich\", \"AnzGebuWir\": 1, \"FirstLetter\": \"L\", \"SecondLetter\": \"o\", \"FirstTwoLetters\": \"Lo\"}, {\"StichtagDatJahr\": 2015, \"Vorname\": \"Lorine\", \"SexLang\": \"weiblich\", \"AnzGebuWir\": 1, \"FirstLetter\": \"L\", \"SecondLetter\": \"o\", \"FirstTwoLetters\": \"Lo\"}, {\"StichtagDatJahr\": 2015, \"Vorname\": \"Lotte\", \"SexLang\": \"weiblich\", \"AnzGebuWir\": 1, \"FirstLetter\": \"L\", \"SecondLetter\": \"o\", \"FirstTwoLetters\": \"Lo\"}, {\"StichtagDatJahr\": 2015, \"Vorname\": \"Louane\", \"SexLang\": \"weiblich\", \"AnzGebuWir\": 1, \"FirstLetter\": \"L\", \"SecondLetter\": \"o\", \"FirstTwoLetters\": \"Lo\"}]}}, {\"mode\": \"vega-lite\"});\n",
       "</script>"
      ],
      "text/plain": [
       "alt.Chart(...)"
      ]
     },
     "execution_count": 23,
     "metadata": {},
     "output_type": "execute_result"
    }
   ],
   "source": [
    "alt.Chart(myGraphic).mark_circle(size=60).encode(\n",
    "    x='Vorname',\n",
    "    y='AnzGebuWir',\n",
    "    color='StichtagDatJahr',\n",
    "    tooltip=['StichtagDatJahr', 'Vorname', 'FirstTwoLetters','AnzGebuWir']\n",
    ").interactive() # this makes the axes interactive: now you can zoom & pan\n",
    "\n"
   ]
  },
  {
   "cell_type": "code",
   "execution_count": 24,
   "metadata": {},
   "outputs": [
    {
     "data": {
      "text/html": [
       "<div>\n",
       "<style scoped>\n",
       "    .dataframe tbody tr th:only-of-type {\n",
       "        vertical-align: middle;\n",
       "    }\n",
       "\n",
       "    .dataframe tbody tr th {\n",
       "        vertical-align: top;\n",
       "    }\n",
       "\n",
       "    .dataframe thead th {\n",
       "        text-align: right;\n",
       "    }\n",
       "</style>\n",
       "<table border=\"1\" class=\"dataframe\">\n",
       "  <thead>\n",
       "    <tr style=\"text-align: right;\">\n",
       "      <th></th>\n",
       "      <th>StichtagDatJahr</th>\n",
       "      <th>Vorname</th>\n",
       "      <th>SexLang</th>\n",
       "      <th>AnzGebuWir</th>\n",
       "      <th>FirstLetter</th>\n",
       "      <th>SecondLetter</th>\n",
       "      <th>FirstTwoLetters</th>\n",
       "    </tr>\n",
       "  </thead>\n",
       "  <tbody>\n",
       "    <tr>\n",
       "      <th>28124</th>\n",
       "      <td>2019</td>\n",
       "      <td>Lara</td>\n",
       "      <td>weiblich</td>\n",
       "      <td>20</td>\n",
       "      <td>L</td>\n",
       "      <td>a</td>\n",
       "      <td>La</td>\n",
       "    </tr>\n",
       "    <tr>\n",
       "      <th>28126</th>\n",
       "      <td>2019</td>\n",
       "      <td>Laura</td>\n",
       "      <td>weiblich</td>\n",
       "      <td>16</td>\n",
       "      <td>L</td>\n",
       "      <td>a</td>\n",
       "      <td>La</td>\n",
       "    </tr>\n",
       "    <tr>\n",
       "      <th>17498</th>\n",
       "      <td>2010</td>\n",
       "      <td>Lorena</td>\n",
       "      <td>weiblich</td>\n",
       "      <td>11</td>\n",
       "      <td>L</td>\n",
       "      <td>o</td>\n",
       "      <td>Lo</td>\n",
       "    </tr>\n",
       "    <tr>\n",
       "      <th>29300</th>\n",
       "      <td>2020</td>\n",
       "      <td>Lara</td>\n",
       "      <td>weiblich</td>\n",
       "      <td>10</td>\n",
       "      <td>L</td>\n",
       "      <td>a</td>\n",
       "      <td>La</td>\n",
       "    </tr>\n",
       "    <tr>\n",
       "      <th>25827</th>\n",
       "      <td>2017</td>\n",
       "      <td>Lou</td>\n",
       "      <td>weiblich</td>\n",
       "      <td>9</td>\n",
       "      <td>L</td>\n",
       "      <td>o</td>\n",
       "      <td>Lo</td>\n",
       "    </tr>\n",
       "    <tr>\n",
       "      <th>...</th>\n",
       "      <td>...</td>\n",
       "      <td>...</td>\n",
       "      <td>...</td>\n",
       "      <td>...</td>\n",
       "      <td>...</td>\n",
       "      <td>...</td>\n",
       "      <td>...</td>\n",
       "    </tr>\n",
       "    <tr>\n",
       "      <th>23400</th>\n",
       "      <td>2015</td>\n",
       "      <td>Lora</td>\n",
       "      <td>weiblich</td>\n",
       "      <td>1</td>\n",
       "      <td>L</td>\n",
       "      <td>o</td>\n",
       "      <td>Lo</td>\n",
       "    </tr>\n",
       "    <tr>\n",
       "      <th>23402</th>\n",
       "      <td>2015</td>\n",
       "      <td>Loresa</td>\n",
       "      <td>weiblich</td>\n",
       "      <td>1</td>\n",
       "      <td>L</td>\n",
       "      <td>o</td>\n",
       "      <td>Lo</td>\n",
       "    </tr>\n",
       "    <tr>\n",
       "      <th>23403</th>\n",
       "      <td>2015</td>\n",
       "      <td>Lorine</td>\n",
       "      <td>weiblich</td>\n",
       "      <td>1</td>\n",
       "      <td>L</td>\n",
       "      <td>o</td>\n",
       "      <td>Lo</td>\n",
       "    </tr>\n",
       "    <tr>\n",
       "      <th>23405</th>\n",
       "      <td>2015</td>\n",
       "      <td>Lotte</td>\n",
       "      <td>weiblich</td>\n",
       "      <td>1</td>\n",
       "      <td>L</td>\n",
       "      <td>o</td>\n",
       "      <td>Lo</td>\n",
       "    </tr>\n",
       "    <tr>\n",
       "      <th>23407</th>\n",
       "      <td>2015</td>\n",
       "      <td>Louane</td>\n",
       "      <td>weiblich</td>\n",
       "      <td>1</td>\n",
       "      <td>L</td>\n",
       "      <td>o</td>\n",
       "      <td>Lo</td>\n",
       "    </tr>\n",
       "  </tbody>\n",
       "</table>\n",
       "<p>400 rows × 7 columns</p>\n",
       "</div>"
      ],
      "text/plain": [
       "       StichtagDatJahr Vorname   SexLang  AnzGebuWir FirstLetter SecondLetter FirstTwoLetters\n",
       "28124             2019    Lara  weiblich          20           L            a              La\n",
       "28126             2019   Laura  weiblich          16           L            a              La\n",
       "17498             2010  Lorena  weiblich          11           L            o              Lo\n",
       "29300             2020    Lara  weiblich          10           L            a              La\n",
       "25827             2017     Lou  weiblich           9           L            o              Lo\n",
       "...                ...     ...       ...         ...         ...          ...             ...\n",
       "23400             2015    Lora  weiblich           1           L            o              Lo\n",
       "23402             2015  Loresa  weiblich           1           L            o              Lo\n",
       "23403             2015  Lorine  weiblich           1           L            o              Lo\n",
       "23405             2015   Lotte  weiblich           1           L            o              Lo\n",
       "23407             2015  Louane  weiblich           1           L            o              Lo\n",
       "\n",
       "[400 rows x 7 columns]"
      ]
     },
     "execution_count": 24,
     "metadata": {},
     "output_type": "execute_result"
    }
   ],
   "source": [
    "myGraphic\n",
    "\n"
   ]
  },
  {
   "cell_type": "code",
   "execution_count": 25,
   "metadata": {},
   "outputs": [
    {
     "data": {
      "text/html": [
       "\n",
       "<div id=\"altair-viz-01804deb474e414ea2cc0650855675c7\"></div>\n",
       "<script type=\"text/javascript\">\n",
       "  (function(spec, embedOpt){\n",
       "    let outputDiv = document.currentScript.previousElementSibling;\n",
       "    if (outputDiv.id !== \"altair-viz-01804deb474e414ea2cc0650855675c7\") {\n",
       "      outputDiv = document.getElementById(\"altair-viz-01804deb474e414ea2cc0650855675c7\");\n",
       "    }\n",
       "    const paths = {\n",
       "      \"vega\": \"https://cdn.jsdelivr.net/npm//vega@5?noext\",\n",
       "      \"vega-lib\": \"https://cdn.jsdelivr.net/npm//vega-lib?noext\",\n",
       "      \"vega-lite\": \"https://cdn.jsdelivr.net/npm//vega-lite@4.8.1?noext\",\n",
       "      \"vega-embed\": \"https://cdn.jsdelivr.net/npm//vega-embed@6?noext\",\n",
       "    };\n",
       "\n",
       "    function loadScript(lib) {\n",
       "      return new Promise(function(resolve, reject) {\n",
       "        var s = document.createElement('script');\n",
       "        s.src = paths[lib];\n",
       "        s.async = true;\n",
       "        s.onload = () => resolve(paths[lib]);\n",
       "        s.onerror = () => reject(`Error loading script: ${paths[lib]}`);\n",
       "        document.getElementsByTagName(\"head\")[0].appendChild(s);\n",
       "      });\n",
       "    }\n",
       "\n",
       "    function showError(err) {\n",
       "      outputDiv.innerHTML = `<div class=\"error\" style=\"color:red;\">${err}</div>`;\n",
       "      throw err;\n",
       "    }\n",
       "\n",
       "    function displayChart(vegaEmbed) {\n",
       "      vegaEmbed(outputDiv, spec, embedOpt)\n",
       "        .catch(err => showError(`Javascript Error: ${err.message}<br>This usually means there's a typo in your chart specification. See the javascript console for the full traceback.`));\n",
       "    }\n",
       "\n",
       "    if(typeof define === \"function\" && define.amd) {\n",
       "      requirejs.config({paths});\n",
       "      require([\"vega-embed\"], displayChart, err => showError(`Error loading script: ${err.message}`));\n",
       "    } else if (typeof vegaEmbed === \"function\") {\n",
       "      displayChart(vegaEmbed);\n",
       "    } else {\n",
       "      loadScript(\"vega\")\n",
       "        .then(() => loadScript(\"vega-lite\"))\n",
       "        .then(() => loadScript(\"vega-embed\"))\n",
       "        .catch(showError)\n",
       "        .then(() => displayChart(vegaEmbed));\n",
       "    }\n",
       "  })({\"config\": {\"view\": {\"continuousWidth\": 400, \"continuousHeight\": 300}}, \"repeat\": {\"column\": [\"Vorname\", \"FirstLetter\", \"FirstTwoLetters\"], \"row\": [\"StichtagDatJahr\", \"AnzGebuWir\"]}, \"spec\": {\"data\": {\"name\": \"data-9b413cbbc891522139f794b24f12c4b8\"}, \"mark\": \"circle\", \"encoding\": {\"color\": {\"type\": \"nominal\", \"field\": \"Vorname\"}, \"x\": {\"type\": \"ordinal\", \"field\": {\"repeat\": \"column\"}}, \"y\": {\"type\": \"quantitative\", \"field\": {\"repeat\": \"row\"}}}, \"height\": 150, \"selection\": {\"selector004\": {\"type\": \"interval\", \"bind\": \"scales\", \"encodings\": [\"x\", \"y\"]}}, \"width\": 150}, \"$schema\": \"https://vega.github.io/schema/vega-lite/v4.8.1.json\", \"datasets\": {\"data-9b413cbbc891522139f794b24f12c4b8\": [{\"StichtagDatJahr\": 2019, \"Vorname\": \"Lara\", \"SexLang\": \"weiblich\", \"AnzGebuWir\": 20, \"FirstLetter\": \"L\", \"SecondLetter\": \"a\", \"FirstTwoLetters\": \"La\"}, {\"StichtagDatJahr\": 2019, \"Vorname\": \"Laura\", \"SexLang\": \"weiblich\", \"AnzGebuWir\": 16, \"FirstLetter\": \"L\", \"SecondLetter\": \"a\", \"FirstTwoLetters\": \"La\"}, {\"StichtagDatJahr\": 2010, \"Vorname\": \"Lorena\", \"SexLang\": \"weiblich\", \"AnzGebuWir\": 11, \"FirstLetter\": \"L\", \"SecondLetter\": \"o\", \"FirstTwoLetters\": \"Lo\"}, {\"StichtagDatJahr\": 2020, \"Vorname\": \"Lara\", \"SexLang\": \"weiblich\", \"AnzGebuWir\": 10, \"FirstLetter\": \"L\", \"SecondLetter\": \"a\", \"FirstTwoLetters\": \"La\"}, {\"StichtagDatJahr\": 2017, \"Vorname\": \"Lou\", \"SexLang\": \"weiblich\", \"AnzGebuWir\": 9, \"FirstLetter\": \"L\", \"SecondLetter\": \"o\", \"FirstTwoLetters\": \"Lo\"}, {\"StichtagDatJahr\": 2020, \"Vorname\": \"Laurin\", \"SexLang\": \"m\\u00e4nnlich\", \"AnzGebuWir\": 9, \"FirstLetter\": \"L\", \"SecondLetter\": \"a\", \"FirstTwoLetters\": \"La\"}, {\"StichtagDatJahr\": 2020, \"Vorname\": \"Laura\", \"SexLang\": \"weiblich\", \"AnzGebuWir\": 8, \"FirstLetter\": \"L\", \"SecondLetter\": \"a\", \"FirstTwoLetters\": \"La\"}, {\"StichtagDatJahr\": 1995, \"Vorname\": \"Lorena\", \"SexLang\": \"weiblich\", \"AnzGebuWir\": 8, \"FirstLetter\": \"L\", \"SecondLetter\": \"o\", \"FirstTwoLetters\": \"Lo\"}, {\"StichtagDatJahr\": 2014, \"Vorname\": \"Louise\", \"SexLang\": \"weiblich\", \"AnzGebuWir\": 8, \"FirstLetter\": \"L\", \"SecondLetter\": \"o\", \"FirstTwoLetters\": \"Lo\"}, {\"StichtagDatJahr\": 2019, \"Vorname\": \"Laurin\", \"SexLang\": \"m\\u00e4nnlich\", \"AnzGebuWir\": 8, \"FirstLetter\": \"L\", \"SecondLetter\": \"a\", \"FirstTwoLetters\": \"La\"}, {\"StichtagDatJahr\": 2007, \"Vorname\": \"Lou\", \"SexLang\": \"weiblich\", \"AnzGebuWir\": 8, \"FirstLetter\": \"L\", \"SecondLetter\": \"o\", \"FirstTwoLetters\": \"Lo\"}, {\"StichtagDatJahr\": 2003, \"Vorname\": \"Lorena\", \"SexLang\": \"weiblich\", \"AnzGebuWir\": 8, \"FirstLetter\": \"L\", \"SecondLetter\": \"o\", \"FirstTwoLetters\": \"Lo\"}, {\"StichtagDatJahr\": 2013, \"Vorname\": \"Lorena\", \"SexLang\": \"weiblich\", \"AnzGebuWir\": 8, \"FirstLetter\": \"L\", \"SecondLetter\": \"o\", \"FirstTwoLetters\": \"Lo\"}, {\"StichtagDatJahr\": 2013, \"Vorname\": \"Louise\", \"SexLang\": \"weiblich\", \"AnzGebuWir\": 8, \"FirstLetter\": \"L\", \"SecondLetter\": \"o\", \"FirstTwoLetters\": \"Lo\"}, {\"StichtagDatJahr\": 2009, \"Vorname\": \"Louise\", \"SexLang\": \"weiblich\", \"AnzGebuWir\": 8, \"FirstLetter\": \"L\", \"SecondLetter\": \"o\", \"FirstTwoLetters\": \"Lo\"}, {\"StichtagDatJahr\": 2013, \"Vorname\": \"Louisa\", \"SexLang\": \"weiblich\", \"AnzGebuWir\": 7, \"FirstLetter\": \"L\", \"SecondLetter\": \"o\", \"FirstTwoLetters\": \"Lo\"}, {\"StichtagDatJahr\": 2020, \"Vorname\": \"Lars\", \"SexLang\": \"m\\u00e4nnlich\", \"AnzGebuWir\": 7, \"FirstLetter\": \"L\", \"SecondLetter\": \"a\", \"FirstTwoLetters\": \"La\"}, {\"StichtagDatJahr\": 2020, \"Vorname\": \"Lou\", \"SexLang\": \"weiblich\", \"AnzGebuWir\": 7, \"FirstLetter\": \"L\", \"SecondLetter\": \"o\", \"FirstTwoLetters\": \"Lo\"}, {\"StichtagDatJahr\": 2019, \"Vorname\": \"Louisa\", \"SexLang\": \"weiblich\", \"AnzGebuWir\": 7, \"FirstLetter\": \"L\", \"SecondLetter\": \"o\", \"FirstTwoLetters\": \"Lo\"}, {\"StichtagDatJahr\": 2019, \"Vorname\": \"Lotta\", \"SexLang\": \"weiblich\", \"AnzGebuWir\": 7, \"FirstLetter\": \"L\", \"SecondLetter\": \"o\", \"FirstTwoLetters\": \"Lo\"}, {\"StichtagDatJahr\": 2018, \"Vorname\": \"Lorena\", \"SexLang\": \"weiblich\", \"AnzGebuWir\": 7, \"FirstLetter\": \"L\", \"SecondLetter\": \"o\", \"FirstTwoLetters\": \"Lo\"}, {\"StichtagDatJahr\": 2018, \"Vorname\": \"Lou\", \"SexLang\": \"weiblich\", \"AnzGebuWir\": 7, \"FirstLetter\": \"L\", \"SecondLetter\": \"o\", \"FirstTwoLetters\": \"Lo\"}, {\"StichtagDatJahr\": 2019, \"Vorname\": \"Lars\", \"SexLang\": \"m\\u00e4nnlich\", \"AnzGebuWir\": 7, \"FirstLetter\": \"L\", \"SecondLetter\": \"a\", \"FirstTwoLetters\": \"La\"}, {\"StichtagDatJahr\": 2010, \"Vorname\": \"Lou\", \"SexLang\": \"weiblich\", \"AnzGebuWir\": 7, \"FirstLetter\": \"L\", \"SecondLetter\": \"o\", \"FirstTwoLetters\": \"Lo\"}, {\"StichtagDatJahr\": 2010, \"Vorname\": \"Louise\", \"SexLang\": \"weiblich\", \"AnzGebuWir\": 7, \"FirstLetter\": \"L\", \"SecondLetter\": \"o\", \"FirstTwoLetters\": \"Lo\"}, {\"StichtagDatJahr\": 2011, \"Vorname\": \"Lou\", \"SexLang\": \"weiblich\", \"AnzGebuWir\": 7, \"FirstLetter\": \"L\", \"SecondLetter\": \"o\", \"FirstTwoLetters\": \"Lo\"}, {\"StichtagDatJahr\": 2012, \"Vorname\": \"Lorena\", \"SexLang\": \"weiblich\", \"AnzGebuWir\": 7, \"FirstLetter\": \"L\", \"SecondLetter\": \"o\", \"FirstTwoLetters\": \"Lo\"}, {\"StichtagDatJahr\": 2011, \"Vorname\": \"Lotta\", \"SexLang\": \"weiblich\", \"AnzGebuWir\": 6, \"FirstLetter\": \"L\", \"SecondLetter\": \"o\", \"FirstTwoLetters\": \"Lo\"}, {\"StichtagDatJahr\": 1994, \"Vorname\": \"Lorena\", \"SexLang\": \"weiblich\", \"AnzGebuWir\": 6, \"FirstLetter\": \"L\", \"SecondLetter\": \"o\", \"FirstTwoLetters\": \"Lo\"}, {\"StichtagDatJahr\": 2015, \"Vorname\": \"Lorena\", \"SexLang\": \"weiblich\", \"AnzGebuWir\": 6, \"FirstLetter\": \"L\", \"SecondLetter\": \"o\", \"FirstTwoLetters\": \"Lo\"}, {\"StichtagDatJahr\": 2014, \"Vorname\": \"Lou\", \"SexLang\": \"weiblich\", \"AnzGebuWir\": 6, \"FirstLetter\": \"L\", \"SecondLetter\": \"o\", \"FirstTwoLetters\": \"Lo\"}, {\"StichtagDatJahr\": 2014, \"Vorname\": \"Lorena\", \"SexLang\": \"weiblich\", \"AnzGebuWir\": 6, \"FirstLetter\": \"L\", \"SecondLetter\": \"o\", \"FirstTwoLetters\": \"Lo\"}, {\"StichtagDatJahr\": 2018, \"Vorname\": \"Lotta\", \"SexLang\": \"weiblich\", \"AnzGebuWir\": 6, \"FirstLetter\": \"L\", \"SecondLetter\": \"o\", \"FirstTwoLetters\": \"Lo\"}, {\"StichtagDatJahr\": 2020, \"Vorname\": \"Lola\", \"SexLang\": \"weiblich\", \"AnzGebuWir\": 6, \"FirstLetter\": \"L\", \"SecondLetter\": \"o\", \"FirstTwoLetters\": \"Lo\"}, {\"StichtagDatJahr\": 2004, \"Vorname\": \"Lorena\", \"SexLang\": \"weiblich\", \"AnzGebuWir\": 6, \"FirstLetter\": \"L\", \"SecondLetter\": \"o\", \"FirstTwoLetters\": \"Lo\"}, {\"StichtagDatJahr\": 2018, \"Vorname\": \"Louise\", \"SexLang\": \"weiblich\", \"AnzGebuWir\": 5, \"FirstLetter\": \"L\", \"SecondLetter\": \"o\", \"FirstTwoLetters\": \"Lo\"}, {\"StichtagDatJahr\": 1999, \"Vorname\": \"Lorena\", \"SexLang\": \"weiblich\", \"AnzGebuWir\": 5, \"FirstLetter\": \"L\", \"SecondLetter\": \"o\", \"FirstTwoLetters\": \"Lo\"}, {\"StichtagDatJahr\": 2017, \"Vorname\": \"Louisa\", \"SexLang\": \"weiblich\", \"AnzGebuWir\": 5, \"FirstLetter\": \"L\", \"SecondLetter\": \"o\", \"FirstTwoLetters\": \"Lo\"}, {\"StichtagDatJahr\": 1996, \"Vorname\": \"Lorena\", \"SexLang\": \"weiblich\", \"AnzGebuWir\": 5, \"FirstLetter\": \"L\", \"SecondLetter\": \"o\", \"FirstTwoLetters\": \"Lo\"}, {\"StichtagDatJahr\": 2009, \"Vorname\": \"Lorena\", \"SexLang\": \"weiblich\", \"AnzGebuWir\": 5, \"FirstLetter\": \"L\", \"SecondLetter\": \"o\", \"FirstTwoLetters\": \"Lo\"}, {\"StichtagDatJahr\": 2009, \"Vorname\": \"Lou\", \"SexLang\": \"weiblich\", \"AnzGebuWir\": 5, \"FirstLetter\": \"L\", \"SecondLetter\": \"o\", \"FirstTwoLetters\": \"Lo\"}, {\"StichtagDatJahr\": 2005, \"Vorname\": \"Lorena\", \"SexLang\": \"weiblich\", \"AnzGebuWir\": 5, \"FirstLetter\": \"L\", \"SecondLetter\": \"o\", \"FirstTwoLetters\": \"Lo\"}, {\"StichtagDatJahr\": 2020, \"Vorname\": \"Louisa\", \"SexLang\": \"weiblich\", \"AnzGebuWir\": 5, \"FirstLetter\": \"L\", \"SecondLetter\": \"o\", \"FirstTwoLetters\": \"Lo\"}, {\"StichtagDatJahr\": 2015, \"Vorname\": \"Lotta\", \"SexLang\": \"weiblich\", \"AnzGebuWir\": 5, \"FirstLetter\": \"L\", \"SecondLetter\": \"o\", \"FirstTwoLetters\": \"Lo\"}, {\"StichtagDatJahr\": 2016, \"Vorname\": \"Louise\", \"SexLang\": \"weiblich\", \"AnzGebuWir\": 5, \"FirstLetter\": \"L\", \"SecondLetter\": \"o\", \"FirstTwoLetters\": \"Lo\"}, {\"StichtagDatJahr\": 2016, \"Vorname\": \"Lou\", \"SexLang\": \"weiblich\", \"AnzGebuWir\": 5, \"FirstLetter\": \"L\", \"SecondLetter\": \"o\", \"FirstTwoLetters\": \"Lo\"}, {\"StichtagDatJahr\": 2008, \"Vorname\": \"Louisa\", \"SexLang\": \"weiblich\", \"AnzGebuWir\": 5, \"FirstLetter\": \"L\", \"SecondLetter\": \"o\", \"FirstTwoLetters\": \"Lo\"}, {\"StichtagDatJahr\": 2013, \"Vorname\": \"Lorin\", \"SexLang\": \"weiblich\", \"AnzGebuWir\": 5, \"FirstLetter\": \"L\", \"SecondLetter\": \"o\", \"FirstTwoLetters\": \"Lo\"}, {\"StichtagDatJahr\": 2011, \"Vorname\": \"Lorena\", \"SexLang\": \"weiblich\", \"AnzGebuWir\": 5, \"FirstLetter\": \"L\", \"SecondLetter\": \"o\", \"FirstTwoLetters\": \"Lo\"}, {\"StichtagDatJahr\": 2006, \"Vorname\": \"Louise\", \"SexLang\": \"weiblich\", \"AnzGebuWir\": 5, \"FirstLetter\": \"L\", \"SecondLetter\": \"o\", \"FirstTwoLetters\": \"Lo\"}, {\"StichtagDatJahr\": 2017, \"Vorname\": \"Louise\", \"SexLang\": \"weiblich\", \"AnzGebuWir\": 5, \"FirstLetter\": \"L\", \"SecondLetter\": \"o\", \"FirstTwoLetters\": \"Lo\"}, {\"StichtagDatJahr\": 2011, \"Vorname\": \"Louise\", \"SexLang\": \"weiblich\", \"AnzGebuWir\": 5, \"FirstLetter\": \"L\", \"SecondLetter\": \"o\", \"FirstTwoLetters\": \"Lo\"}, {\"StichtagDatJahr\": 2007, \"Vorname\": \"Lorena\", \"SexLang\": \"weiblich\", \"AnzGebuWir\": 5, \"FirstLetter\": \"L\", \"SecondLetter\": \"o\", \"FirstTwoLetters\": \"Lo\"}, {\"StichtagDatJahr\": 2019, \"Vorname\": \"Lazar\", \"SexLang\": \"m\\u00e4nnlich\", \"AnzGebuWir\": 4, \"FirstLetter\": \"L\", \"SecondLetter\": \"a\", \"FirstTwoLetters\": \"La\"}, {\"StichtagDatJahr\": 1997, \"Vorname\": \"Lorena\", \"SexLang\": \"weiblich\", \"AnzGebuWir\": 4, \"FirstLetter\": \"L\", \"SecondLetter\": \"o\", \"FirstTwoLetters\": \"Lo\"}, {\"StichtagDatJahr\": 2013, \"Vorname\": \"Lou\", \"SexLang\": \"weiblich\", \"AnzGebuWir\": 4, \"FirstLetter\": \"L\", \"SecondLetter\": \"o\", \"FirstTwoLetters\": \"Lo\"}, {\"StichtagDatJahr\": 2002, \"Vorname\": \"Lorena\", \"SexLang\": \"weiblich\", \"AnzGebuWir\": 4, \"FirstLetter\": \"L\", \"SecondLetter\": \"o\", \"FirstTwoLetters\": \"Lo\"}, {\"StichtagDatJahr\": 2002, \"Vorname\": \"Lou\", \"SexLang\": \"weiblich\", \"AnzGebuWir\": 4, \"FirstLetter\": \"L\", \"SecondLetter\": \"o\", \"FirstTwoLetters\": \"Lo\"}, {\"StichtagDatJahr\": 2016, \"Vorname\": \"Lotta\", \"SexLang\": \"weiblich\", \"AnzGebuWir\": 4, \"FirstLetter\": \"L\", \"SecondLetter\": \"o\", \"FirstTwoLetters\": \"Lo\"}, {\"StichtagDatJahr\": 2016, \"Vorname\": \"Louisa\", \"SexLang\": \"weiblich\", \"AnzGebuWir\": 4, \"FirstLetter\": \"L\", \"SecondLetter\": \"o\", \"FirstTwoLetters\": \"Lo\"}, {\"StichtagDatJahr\": 2011, \"Vorname\": \"Louisa\", \"SexLang\": \"weiblich\", \"AnzGebuWir\": 4, \"FirstLetter\": \"L\", \"SecondLetter\": \"o\", \"FirstTwoLetters\": \"Lo\"}, {\"StichtagDatJahr\": 1993, \"Vorname\": \"Lorena\", \"SexLang\": \"weiblich\", \"AnzGebuWir\": 4, \"FirstLetter\": \"L\", \"SecondLetter\": \"o\", \"FirstTwoLetters\": \"Lo\"}, {\"StichtagDatJahr\": 2010, \"Vorname\": \"Lotta\", \"SexLang\": \"weiblich\", \"AnzGebuWir\": 4, \"FirstLetter\": \"L\", \"SecondLetter\": \"o\", \"FirstTwoLetters\": \"Lo\"}, {\"StichtagDatJahr\": 2012, \"Vorname\": \"Lola\", \"SexLang\": \"weiblich\", \"AnzGebuWir\": 4, \"FirstLetter\": \"L\", \"SecondLetter\": \"o\", \"FirstTwoLetters\": \"Lo\"}, {\"StichtagDatJahr\": 2020, \"Vorname\": \"Lotta\", \"SexLang\": \"weiblich\", \"AnzGebuWir\": 4, \"FirstLetter\": \"L\", \"SecondLetter\": \"o\", \"FirstTwoLetters\": \"Lo\"}, {\"StichtagDatJahr\": 2020, \"Vorname\": \"Lorena\", \"SexLang\": \"weiblich\", \"AnzGebuWir\": 4, \"FirstLetter\": \"L\", \"SecondLetter\": \"o\", \"FirstTwoLetters\": \"Lo\"}, {\"StichtagDatJahr\": 2019, \"Vorname\": \"Ladina\", \"SexLang\": \"weiblich\", \"AnzGebuWir\": 4, \"FirstLetter\": \"L\", \"SecondLetter\": \"a\", \"FirstTwoLetters\": \"La\"}, {\"StichtagDatJahr\": 2015, \"Vorname\": \"Lou\", \"SexLang\": \"weiblich\", \"AnzGebuWir\": 4, \"FirstLetter\": \"L\", \"SecondLetter\": \"o\", \"FirstTwoLetters\": \"Lo\"}, {\"StichtagDatJahr\": 2019, \"Vorname\": \"Lou\", \"SexLang\": \"weiblich\", \"AnzGebuWir\": 4, \"FirstLetter\": \"L\", \"SecondLetter\": \"o\", \"FirstTwoLetters\": \"Lo\"}, {\"StichtagDatJahr\": 2018, \"Vorname\": \"Louisa\", \"SexLang\": \"weiblich\", \"AnzGebuWir\": 4, \"FirstLetter\": \"L\", \"SecondLetter\": \"o\", \"FirstTwoLetters\": \"Lo\"}, {\"StichtagDatJahr\": 2014, \"Vorname\": \"Louisa\", \"SexLang\": \"weiblich\", \"AnzGebuWir\": 4, \"FirstLetter\": \"L\", \"SecondLetter\": \"o\", \"FirstTwoLetters\": \"Lo\"}, {\"StichtagDatJahr\": 2007, \"Vorname\": \"Louisa\", \"SexLang\": \"weiblich\", \"AnzGebuWir\": 4, \"FirstLetter\": \"L\", \"SecondLetter\": \"o\", \"FirstTwoLetters\": \"Lo\"}, {\"StichtagDatJahr\": 2008, \"Vorname\": \"Lorena\", \"SexLang\": \"weiblich\", \"AnzGebuWir\": 3, \"FirstLetter\": \"L\", \"SecondLetter\": \"o\", \"FirstTwoLetters\": \"Lo\"}, {\"StichtagDatJahr\": 2004, \"Vorname\": \"Louisa\", \"SexLang\": \"weiblich\", \"AnzGebuWir\": 3, \"FirstLetter\": \"L\", \"SecondLetter\": \"o\", \"FirstTwoLetters\": \"Lo\"}, {\"StichtagDatJahr\": 2010, \"Vorname\": \"Louisa\", \"SexLang\": \"weiblich\", \"AnzGebuWir\": 3, \"FirstLetter\": \"L\", \"SecondLetter\": \"o\", \"FirstTwoLetters\": \"Lo\"}, {\"StichtagDatJahr\": 2019, \"Vorname\": \"Lorena\", \"SexLang\": \"weiblich\", \"AnzGebuWir\": 3, \"FirstLetter\": \"L\", \"SecondLetter\": \"o\", \"FirstTwoLetters\": \"Lo\"}, {\"StichtagDatJahr\": 2013, \"Vorname\": \"Lovis\", \"SexLang\": \"weiblich\", \"AnzGebuWir\": 3, \"FirstLetter\": \"L\", \"SecondLetter\": \"o\", \"FirstTwoLetters\": \"Lo\"}, {\"StichtagDatJahr\": 2009, \"Vorname\": \"Louisa\", \"SexLang\": \"weiblich\", \"AnzGebuWir\": 3, \"FirstLetter\": \"L\", \"SecondLetter\": \"o\", \"FirstTwoLetters\": \"Lo\"}, {\"StichtagDatJahr\": 2003, \"Vorname\": \"Lou\", \"SexLang\": \"weiblich\", \"AnzGebuWir\": 3, \"FirstLetter\": \"L\", \"SecondLetter\": \"o\", \"FirstTwoLetters\": \"Lo\"}, {\"StichtagDatJahr\": 2018, \"Vorname\": \"Lola\", \"SexLang\": \"weiblich\", \"AnzGebuWir\": 3, \"FirstLetter\": \"L\", \"SecondLetter\": \"o\", \"FirstTwoLetters\": \"Lo\"}, {\"StichtagDatJahr\": 2013, \"Vorname\": \"Loresa\", \"SexLang\": \"weiblich\", \"AnzGebuWir\": 3, \"FirstLetter\": \"L\", \"SecondLetter\": \"o\", \"FirstTwoLetters\": \"Lo\"}, {\"StichtagDatJahr\": 2013, \"Vorname\": \"Lotta\", \"SexLang\": \"weiblich\", \"AnzGebuWir\": 3, \"FirstLetter\": \"L\", \"SecondLetter\": \"o\", \"FirstTwoLetters\": \"Lo\"}, {\"StichtagDatJahr\": 2019, \"Vorname\": \"Layla\", \"SexLang\": \"weiblich\", \"AnzGebuWir\": 3, \"FirstLetter\": \"L\", \"SecondLetter\": \"a\", \"FirstTwoLetters\": \"La\"}, {\"StichtagDatJahr\": 2012, \"Vorname\": \"Louise\", \"SexLang\": \"weiblich\", \"AnzGebuWir\": 3, \"FirstLetter\": \"L\", \"SecondLetter\": \"o\", \"FirstTwoLetters\": \"Lo\"}, {\"StichtagDatJahr\": 2005, \"Vorname\": \"Lou\", \"SexLang\": \"weiblich\", \"AnzGebuWir\": 3, \"FirstLetter\": \"L\", \"SecondLetter\": \"o\", \"FirstTwoLetters\": \"Lo\"}, {\"StichtagDatJahr\": 2006, \"Vorname\": \"Louisa\", \"SexLang\": \"weiblich\", \"AnzGebuWir\": 3, \"FirstLetter\": \"L\", \"SecondLetter\": \"o\", \"FirstTwoLetters\": \"Lo\"}, {\"StichtagDatJahr\": 2006, \"Vorname\": \"Lorena\", \"SexLang\": \"weiblich\", \"AnzGebuWir\": 3, \"FirstLetter\": \"L\", \"SecondLetter\": \"o\", \"FirstTwoLetters\": \"Lo\"}, {\"StichtagDatJahr\": 2006, \"Vorname\": \"Lou\", \"SexLang\": \"weiblich\", \"AnzGebuWir\": 3, \"FirstLetter\": \"L\", \"SecondLetter\": \"o\", \"FirstTwoLetters\": \"Lo\"}, {\"StichtagDatJahr\": 2000, \"Vorname\": \"Lorena\", \"SexLang\": \"weiblich\", \"AnzGebuWir\": 3, \"FirstLetter\": \"L\", \"SecondLetter\": \"o\", \"FirstTwoLetters\": \"Lo\"}, {\"StichtagDatJahr\": 1998, \"Vorname\": \"Louise\", \"SexLang\": \"weiblich\", \"AnzGebuWir\": 3, \"FirstLetter\": \"L\", \"SecondLetter\": \"o\", \"FirstTwoLetters\": \"Lo\"}, {\"StichtagDatJahr\": 1998, \"Vorname\": \"Lorena\", \"SexLang\": \"weiblich\", \"AnzGebuWir\": 3, \"FirstLetter\": \"L\", \"SecondLetter\": \"o\", \"FirstTwoLetters\": \"Lo\"}, {\"StichtagDatJahr\": 2020, \"Vorname\": \"Lasse\", \"SexLang\": \"m\\u00e4nnlich\", \"AnzGebuWir\": 3, \"FirstLetter\": \"L\", \"SecondLetter\": \"a\", \"FirstTwoLetters\": \"La\"}, {\"StichtagDatJahr\": 2015, \"Vorname\": \"Louisa\", \"SexLang\": \"weiblich\", \"AnzGebuWir\": 3, \"FirstLetter\": \"L\", \"SecondLetter\": \"o\", \"FirstTwoLetters\": \"Lo\"}, {\"StichtagDatJahr\": 2015, \"Vorname\": \"Louise\", \"SexLang\": \"weiblich\", \"AnzGebuWir\": 3, \"FirstLetter\": \"L\", \"SecondLetter\": \"o\", \"FirstTwoLetters\": \"Lo\"}, {\"StichtagDatJahr\": 2014, \"Vorname\": \"Lola\", \"SexLang\": \"weiblich\", \"AnzGebuWir\": 3, \"FirstLetter\": \"L\", \"SecondLetter\": \"o\", \"FirstTwoLetters\": \"Lo\"}, {\"StichtagDatJahr\": 2016, \"Vorname\": \"Lorena\", \"SexLang\": \"weiblich\", \"AnzGebuWir\": 3, \"FirstLetter\": \"L\", \"SecondLetter\": \"o\", \"FirstTwoLetters\": \"Lo\"}, {\"StichtagDatJahr\": 2001, \"Vorname\": \"Lou\", \"SexLang\": \"weiblich\", \"AnzGebuWir\": 3, \"FirstLetter\": \"L\", \"SecondLetter\": \"o\", \"FirstTwoLetters\": \"Lo\"}, {\"StichtagDatJahr\": 2008, \"Vorname\": \"Lou\", \"SexLang\": \"weiblich\", \"AnzGebuWir\": 2, \"FirstLetter\": \"L\", \"SecondLetter\": \"o\", \"FirstTwoLetters\": \"Lo\"}, {\"StichtagDatJahr\": 2008, \"Vorname\": \"Louise\", \"SexLang\": \"weiblich\", \"AnzGebuWir\": 2, \"FirstLetter\": \"L\", \"SecondLetter\": \"o\", \"FirstTwoLetters\": \"Lo\"}, {\"StichtagDatJahr\": 2019, \"Vorname\": \"Lasse\", \"SexLang\": \"m\\u00e4nnlich\", \"AnzGebuWir\": 2, \"FirstLetter\": \"L\", \"SecondLetter\": \"a\", \"FirstTwoLetters\": \"La\"}, {\"StichtagDatJahr\": 2019, \"Vorname\": \"Laurenz\", \"SexLang\": \"m\\u00e4nnlich\", \"AnzGebuWir\": 2, \"FirstLetter\": \"L\", \"SecondLetter\": \"a\", \"FirstTwoLetters\": \"La\"}, {\"StichtagDatJahr\": 2012, \"Vorname\": \"Louisa\", \"SexLang\": \"weiblich\", \"AnzGebuWir\": 2, \"FirstLetter\": \"L\", \"SecondLetter\": \"o\", \"FirstTwoLetters\": \"Lo\"}, {\"StichtagDatJahr\": 2012, \"Vorname\": \"Lou\", \"SexLang\": \"weiblich\", \"AnzGebuWir\": 2, \"FirstLetter\": \"L\", \"SecondLetter\": \"o\", \"FirstTwoLetters\": \"Lo\"}, {\"StichtagDatJahr\": 2012, \"Vorname\": \"Loreen\", \"SexLang\": \"weiblich\", \"AnzGebuWir\": 2, \"FirstLetter\": \"L\", \"SecondLetter\": \"o\", \"FirstTwoLetters\": \"Lo\"}, {\"StichtagDatJahr\": 2011, \"Vorname\": \"Lovis\", \"SexLang\": \"weiblich\", \"AnzGebuWir\": 2, \"FirstLetter\": \"L\", \"SecondLetter\": \"o\", \"FirstTwoLetters\": \"Lo\"}, {\"StichtagDatJahr\": 1996, \"Vorname\": \"Loredana\", \"SexLang\": \"weiblich\", \"AnzGebuWir\": 2, \"FirstLetter\": \"L\", \"SecondLetter\": \"o\", \"FirstTwoLetters\": \"Lo\"}, {\"StichtagDatJahr\": 2007, \"Vorname\": \"Loriana\", \"SexLang\": \"weiblich\", \"AnzGebuWir\": 2, \"FirstLetter\": \"L\", \"SecondLetter\": \"o\", \"FirstTwoLetters\": \"Lo\"}, {\"StichtagDatJahr\": 2007, \"Vorname\": \"Lola\", \"SexLang\": \"weiblich\", \"AnzGebuWir\": 2, \"FirstLetter\": \"L\", \"SecondLetter\": \"o\", \"FirstTwoLetters\": \"Lo\"}, {\"StichtagDatJahr\": 2007, \"Vorname\": \"Louise\", \"SexLang\": \"weiblich\", \"AnzGebuWir\": 2, \"FirstLetter\": \"L\", \"SecondLetter\": \"o\", \"FirstTwoLetters\": \"Lo\"}, {\"StichtagDatJahr\": 2019, \"Vorname\": \"Louise\", \"SexLang\": \"weiblich\", \"AnzGebuWir\": 2, \"FirstLetter\": \"L\", \"SecondLetter\": \"o\", \"FirstTwoLetters\": \"Lo\"}, {\"StichtagDatJahr\": 2019, \"Vorname\": \"Lola\", \"SexLang\": \"weiblich\", \"AnzGebuWir\": 2, \"FirstLetter\": \"L\", \"SecondLetter\": \"o\", \"FirstTwoLetters\": \"Lo\"}, {\"StichtagDatJahr\": 2017, \"Vorname\": \"Louna\", \"SexLang\": \"weiblich\", \"AnzGebuWir\": 2, \"FirstLetter\": \"L\", \"SecondLetter\": \"o\", \"FirstTwoLetters\": \"Lo\"}, {\"StichtagDatJahr\": 2015, \"Vorname\": \"Lola\", \"SexLang\": \"weiblich\", \"AnzGebuWir\": 2, \"FirstLetter\": \"L\", \"SecondLetter\": \"o\", \"FirstTwoLetters\": \"Lo\"}, {\"StichtagDatJahr\": 1993, \"Vorname\": \"Loredana\", \"SexLang\": \"weiblich\", \"AnzGebuWir\": 2, \"FirstLetter\": \"L\", \"SecondLetter\": \"o\", \"FirstTwoLetters\": \"Lo\"}, {\"StichtagDatJahr\": 2017, \"Vorname\": \"Lotta\", \"SexLang\": \"weiblich\", \"AnzGebuWir\": 2, \"FirstLetter\": \"L\", \"SecondLetter\": \"o\", \"FirstTwoLetters\": \"Lo\"}, {\"StichtagDatJahr\": 2017, \"Vorname\": \"Lorena\", \"SexLang\": \"weiblich\", \"AnzGebuWir\": 2, \"FirstLetter\": \"L\", \"SecondLetter\": \"o\", \"FirstTwoLetters\": \"Lo\"}, {\"StichtagDatJahr\": 2009, \"Vorname\": \"Lola\", \"SexLang\": \"weiblich\", \"AnzGebuWir\": 2, \"FirstLetter\": \"L\", \"SecondLetter\": \"o\", \"FirstTwoLetters\": \"Lo\"}, {\"StichtagDatJahr\": 1994, \"Vorname\": \"Loren\", \"SexLang\": \"weiblich\", \"AnzGebuWir\": 2, \"FirstLetter\": \"L\", \"SecondLetter\": \"o\", \"FirstTwoLetters\": \"Lo\"}, {\"StichtagDatJahr\": 2000, \"Vorname\": \"Loredana\", \"SexLang\": \"weiblich\", \"AnzGebuWir\": 2, \"FirstLetter\": \"L\", \"SecondLetter\": \"o\", \"FirstTwoLetters\": \"Lo\"}, {\"StichtagDatJahr\": 2000, \"Vorname\": \"Lou\", \"SexLang\": \"weiblich\", \"AnzGebuWir\": 2, \"FirstLetter\": \"L\", \"SecondLetter\": \"o\", \"FirstTwoLetters\": \"Lo\"}, {\"StichtagDatJahr\": 2003, \"Vorname\": \"Lotta\", \"SexLang\": \"weiblich\", \"AnzGebuWir\": 2, \"FirstLetter\": \"L\", \"SecondLetter\": \"o\", \"FirstTwoLetters\": \"Lo\"}, {\"StichtagDatJahr\": 2004, \"Vorname\": \"Louise\", \"SexLang\": \"weiblich\", \"AnzGebuWir\": 2, \"FirstLetter\": \"L\", \"SecondLetter\": \"o\", \"FirstTwoLetters\": \"Lo\"}, {\"StichtagDatJahr\": 2004, \"Vorname\": \"Lotta\", \"SexLang\": \"weiblich\", \"AnzGebuWir\": 2, \"FirstLetter\": \"L\", \"SecondLetter\": \"o\", \"FirstTwoLetters\": \"Lo\"}, {\"StichtagDatJahr\": 2013, \"Vorname\": \"Loredana\", \"SexLang\": \"weiblich\", \"AnzGebuWir\": 2, \"FirstLetter\": \"L\", \"SecondLetter\": \"o\", \"FirstTwoLetters\": \"Lo\"}, {\"StichtagDatJahr\": 2002, \"Vorname\": \"Lorisa\", \"SexLang\": \"weiblich\", \"AnzGebuWir\": 2, \"FirstLetter\": \"L\", \"SecondLetter\": \"o\", \"FirstTwoLetters\": \"Lo\"}, {\"StichtagDatJahr\": 2002, \"Vorname\": \"Loredana\", \"SexLang\": \"weiblich\", \"AnzGebuWir\": 2, \"FirstLetter\": \"L\", \"SecondLetter\": \"o\", \"FirstTwoLetters\": \"Lo\"}, {\"StichtagDatJahr\": 2002, \"Vorname\": \"Lotta\", \"SexLang\": \"weiblich\", \"AnzGebuWir\": 2, \"FirstLetter\": \"L\", \"SecondLetter\": \"o\", \"FirstTwoLetters\": \"Lo\"}, {\"StichtagDatJahr\": 2002, \"Vorname\": \"Louise\", \"SexLang\": \"weiblich\", \"AnzGebuWir\": 2, \"FirstLetter\": \"L\", \"SecondLetter\": \"o\", \"FirstTwoLetters\": \"Lo\"}, {\"StichtagDatJahr\": 2002, \"Vorname\": \"Louisa\", \"SexLang\": \"weiblich\", \"AnzGebuWir\": 2, \"FirstLetter\": \"L\", \"SecondLetter\": \"o\", \"FirstTwoLetters\": \"Lo\"}, {\"StichtagDatJahr\": 2001, \"Vorname\": \"Lorena\", \"SexLang\": \"weiblich\", \"AnzGebuWir\": 2, \"FirstLetter\": \"L\", \"SecondLetter\": \"o\", \"FirstTwoLetters\": \"Lo\"}, {\"StichtagDatJahr\": 2016, \"Vorname\": \"Lorina\", \"SexLang\": \"weiblich\", \"AnzGebuWir\": 2, \"FirstLetter\": \"L\", \"SecondLetter\": \"o\", \"FirstTwoLetters\": \"Lo\"}, {\"StichtagDatJahr\": 1998, \"Vorname\": \"Louisa\", \"SexLang\": \"weiblich\", \"AnzGebuWir\": 2, \"FirstLetter\": \"L\", \"SecondLetter\": \"o\", \"FirstTwoLetters\": \"Lo\"}, {\"StichtagDatJahr\": 2006, \"Vorname\": \"Lovis\", \"SexLang\": \"weiblich\", \"AnzGebuWir\": 2, \"FirstLetter\": \"L\", \"SecondLetter\": \"o\", \"FirstTwoLetters\": \"Lo\"}, {\"StichtagDatJahr\": 2006, \"Vorname\": \"Lola\", \"SexLang\": \"weiblich\", \"AnzGebuWir\": 2, \"FirstLetter\": \"L\", \"SecondLetter\": \"o\", \"FirstTwoLetters\": \"Lo\"}, {\"StichtagDatJahr\": 2014, \"Vorname\": \"Lotta\", \"SexLang\": \"weiblich\", \"AnzGebuWir\": 2, \"FirstLetter\": \"L\", \"SecondLetter\": \"o\", \"FirstTwoLetters\": \"Lo\"}, {\"StichtagDatJahr\": 2014, \"Vorname\": \"Lorin\", \"SexLang\": \"weiblich\", \"AnzGebuWir\": 2, \"FirstLetter\": \"L\", \"SecondLetter\": \"o\", \"FirstTwoLetters\": \"Lo\"}, {\"StichtagDatJahr\": 2014, \"Vorname\": \"Lois\", \"SexLang\": \"weiblich\", \"AnzGebuWir\": 2, \"FirstLetter\": \"L\", \"SecondLetter\": \"o\", \"FirstTwoLetters\": \"Lo\"}, {\"StichtagDatJahr\": 2014, \"Vorname\": \"Lotte\", \"SexLang\": \"weiblich\", \"AnzGebuWir\": 2, \"FirstLetter\": \"L\", \"SecondLetter\": \"o\", \"FirstTwoLetters\": \"Lo\"}, {\"StichtagDatJahr\": 2020, \"Vorname\": \"Louise\", \"SexLang\": \"weiblich\", \"AnzGebuWir\": 2, \"FirstLetter\": \"L\", \"SecondLetter\": \"o\", \"FirstTwoLetters\": \"Lo\"}, {\"StichtagDatJahr\": 2020, \"Vorname\": \"Larina\", \"SexLang\": \"weiblich\", \"AnzGebuWir\": 2, \"FirstLetter\": \"L\", \"SecondLetter\": \"a\", \"FirstTwoLetters\": \"La\"}, {\"StichtagDatJahr\": 2020, \"Vorname\": \"Larisa\", \"SexLang\": \"weiblich\", \"AnzGebuWir\": 2, \"FirstLetter\": \"L\", \"SecondLetter\": \"a\", \"FirstTwoLetters\": \"La\"}, {\"StichtagDatJahr\": 2020, \"Vorname\": \"Layla\", \"SexLang\": \"weiblich\", \"AnzGebuWir\": 2, \"FirstLetter\": \"L\", \"SecondLetter\": \"a\", \"FirstTwoLetters\": \"La\"}, {\"StichtagDatJahr\": 2020, \"Vorname\": \"Laia\", \"SexLang\": \"weiblich\", \"AnzGebuWir\": 2, \"FirstLetter\": \"L\", \"SecondLetter\": \"a\", \"FirstTwoLetters\": \"La\"}, {\"StichtagDatJahr\": 2020, \"Vorname\": \"Ladina\", \"SexLang\": \"weiblich\", \"AnzGebuWir\": 2, \"FirstLetter\": \"L\", \"SecondLetter\": \"a\", \"FirstTwoLetters\": \"La\"}, {\"StichtagDatJahr\": 2019, \"Vorname\": \"Laaroussi\", \"SexLang\": \"m\\u00e4nnlich\", \"AnzGebuWir\": 1, \"FirstLetter\": \"L\", \"SecondLetter\": \"a\", \"FirstTwoLetters\": \"La\"}, {\"StichtagDatJahr\": 2019, \"Vorname\": \"Lamin\", \"SexLang\": \"m\\u00e4nnlich\", \"AnzGebuWir\": 1, \"FirstLetter\": \"L\", \"SecondLetter\": \"a\", \"FirstTwoLetters\": \"La\"}, {\"StichtagDatJahr\": 2019, \"Vorname\": \"Lario\", \"SexLang\": \"m\\u00e4nnlich\", \"AnzGebuWir\": 1, \"FirstLetter\": \"L\", \"SecondLetter\": \"a\", \"FirstTwoLetters\": \"La\"}, {\"StichtagDatJahr\": 2019, \"Vorname\": \"Lauri\", \"SexLang\": \"m\\u00e4nnlich\", \"AnzGebuWir\": 1, \"FirstLetter\": \"L\", \"SecondLetter\": \"a\", \"FirstTwoLetters\": \"La\"}, {\"StichtagDatJahr\": 2019, \"Vorname\": \"Lav\", \"SexLang\": \"m\\u00e4nnlich\", \"AnzGebuWir\": 1, \"FirstLetter\": \"L\", \"SecondLetter\": \"a\", \"FirstTwoLetters\": \"La\"}, {\"StichtagDatJahr\": 2019, \"Vorname\": \"Lawrence\", \"SexLang\": \"m\\u00e4nnlich\", \"AnzGebuWir\": 1, \"FirstLetter\": \"L\", \"SecondLetter\": \"a\", \"FirstTwoLetters\": \"La\"}, {\"StichtagDatJahr\": 2020, \"Vorname\": \"Labib\", \"SexLang\": \"m\\u00e4nnlich\", \"AnzGebuWir\": 1, \"FirstLetter\": \"L\", \"SecondLetter\": \"a\", \"FirstTwoLetters\": \"La\"}, {\"StichtagDatJahr\": 2020, \"Vorname\": \"Lalo\", \"SexLang\": \"m\\u00e4nnlich\", \"AnzGebuWir\": 1, \"FirstLetter\": \"L\", \"SecondLetter\": \"a\", \"FirstTwoLetters\": \"La\"}, {\"StichtagDatJahr\": 2020, \"Vorname\": \"Lamar\", \"SexLang\": \"m\\u00e4nnlich\", \"AnzGebuWir\": 1, \"FirstLetter\": \"L\", \"SecondLetter\": \"a\", \"FirstTwoLetters\": \"La\"}, {\"StichtagDatJahr\": 2020, \"Vorname\": \"Lawin\", \"SexLang\": \"m\\u00e4nnlich\", \"AnzGebuWir\": 1, \"FirstLetter\": \"L\", \"SecondLetter\": \"a\", \"FirstTwoLetters\": \"La\"}, {\"StichtagDatJahr\": 2020, \"Vorname\": \"Lamek\", \"SexLang\": \"m\\u00e4nnlich\", \"AnzGebuWir\": 1, \"FirstLetter\": \"L\", \"SecondLetter\": \"a\", \"FirstTwoLetters\": \"La\"}, {\"StichtagDatJahr\": 2020, \"Vorname\": \"Lario\", \"SexLang\": \"m\\u00e4nnlich\", \"AnzGebuWir\": 1, \"FirstLetter\": \"L\", \"SecondLetter\": \"a\", \"FirstTwoLetters\": \"La\"}, {\"StichtagDatJahr\": 2020, \"Vorname\": \"Laui\", \"SexLang\": \"m\\u00e4nnlich\", \"AnzGebuWir\": 1, \"FirstLetter\": \"L\", \"SecondLetter\": \"a\", \"FirstTwoLetters\": \"La\"}, {\"StichtagDatJahr\": 2020, \"Vorname\": \"Lauin\", \"SexLang\": \"m\\u00e4nnlich\", \"AnzGebuWir\": 1, \"FirstLetter\": \"L\", \"SecondLetter\": \"a\", \"FirstTwoLetters\": \"La\"}, {\"StichtagDatJahr\": 2020, \"Vorname\": \"Laurens\", \"SexLang\": \"m\\u00e4nnlich\", \"AnzGebuWir\": 1, \"FirstLetter\": \"L\", \"SecondLetter\": \"a\", \"FirstTwoLetters\": \"La\"}, {\"StichtagDatJahr\": 2020, \"Vorname\": \"Laurent\", \"SexLang\": \"m\\u00e4nnlich\", \"AnzGebuWir\": 1, \"FirstLetter\": \"L\", \"SecondLetter\": \"a\", \"FirstTwoLetters\": \"La\"}, {\"StichtagDatJahr\": 2020, \"Vorname\": \"Laurenz\", \"SexLang\": \"m\\u00e4nnlich\", \"AnzGebuWir\": 1, \"FirstLetter\": \"L\", \"SecondLetter\": \"a\", \"FirstTwoLetters\": \"La\"}, {\"StichtagDatJahr\": 2020, \"Vorname\": \"Laurids\", \"SexLang\": \"m\\u00e4nnlich\", \"AnzGebuWir\": 1, \"FirstLetter\": \"L\", \"SecondLetter\": \"a\", \"FirstTwoLetters\": \"La\"}, {\"StichtagDatJahr\": 2020, \"Vorname\": \"Lazar\", \"SexLang\": \"m\\u00e4nnlich\", \"AnzGebuWir\": 1, \"FirstLetter\": \"L\", \"SecondLetter\": \"a\", \"FirstTwoLetters\": \"La\"}, {\"StichtagDatJahr\": 2020, \"Vorname\": \"Lazaros\", \"SexLang\": \"m\\u00e4nnlich\", \"AnzGebuWir\": 1, \"FirstLetter\": \"L\", \"SecondLetter\": \"a\", \"FirstTwoLetters\": \"La\"}, {\"StichtagDatJahr\": 2004, \"Vorname\": \"Lor\\u00een\", \"SexLang\": \"weiblich\", \"AnzGebuWir\": 1, \"FirstLetter\": \"L\", \"SecondLetter\": \"o\", \"FirstTwoLetters\": \"Lo\"}, {\"StichtagDatJahr\": 2004, \"Vorname\": \"Lorna\", \"SexLang\": \"weiblich\", \"AnzGebuWir\": 1, \"FirstLetter\": \"L\", \"SecondLetter\": \"o\", \"FirstTwoLetters\": \"Lo\"}, {\"StichtagDatJahr\": 2005, \"Vorname\": \"Lo\\u00e9\", \"SexLang\": \"weiblich\", \"AnzGebuWir\": 1, \"FirstLetter\": \"L\", \"SecondLetter\": \"o\", \"FirstTwoLetters\": \"Lo\"}, {\"StichtagDatJahr\": 2005, \"Vorname\": \"Lo\\u00efs\", \"SexLang\": \"weiblich\", \"AnzGebuWir\": 1, \"FirstLetter\": \"L\", \"SecondLetter\": \"o\", \"FirstTwoLetters\": \"Lo\"}, {\"StichtagDatJahr\": 2005, \"Vorname\": \"Lona\", \"SexLang\": \"weiblich\", \"AnzGebuWir\": 1, \"FirstLetter\": \"L\", \"SecondLetter\": \"o\", \"FirstTwoLetters\": \"Lo\"}, {\"StichtagDatJahr\": 2005, \"Vorname\": \"Loneda\", \"SexLang\": \"weiblich\", \"AnzGebuWir\": 1, \"FirstLetter\": \"L\", \"SecondLetter\": \"o\", \"FirstTwoLetters\": \"Lo\"}, {\"StichtagDatJahr\": 2005, \"Vorname\": \"Loni\", \"SexLang\": \"weiblich\", \"AnzGebuWir\": 1, \"FirstLetter\": \"L\", \"SecondLetter\": \"o\", \"FirstTwoLetters\": \"Lo\"}, {\"StichtagDatJahr\": 2005, \"Vorname\": \"Loreta\", \"SexLang\": \"weiblich\", \"AnzGebuWir\": 1, \"FirstLetter\": \"L\", \"SecondLetter\": \"o\", \"FirstTwoLetters\": \"Lo\"}, {\"StichtagDatJahr\": 2005, \"Vorname\": \"Lorina\", \"SexLang\": \"weiblich\", \"AnzGebuWir\": 1, \"FirstLetter\": \"L\", \"SecondLetter\": \"o\", \"FirstTwoLetters\": \"Lo\"}, {\"StichtagDatJahr\": 2005, \"Vorname\": \"Lorraine\", \"SexLang\": \"weiblich\", \"AnzGebuWir\": 1, \"FirstLetter\": \"L\", \"SecondLetter\": \"o\", \"FirstTwoLetters\": \"Lo\"}, {\"StichtagDatJahr\": 2005, \"Vorname\": \"Lotta\", \"SexLang\": \"weiblich\", \"AnzGebuWir\": 1, \"FirstLetter\": \"L\", \"SecondLetter\": \"o\", \"FirstTwoLetters\": \"Lo\"}, {\"StichtagDatJahr\": 2005, \"Vorname\": \"Lou-Anna\", \"SexLang\": \"weiblich\", \"AnzGebuWir\": 1, \"FirstLetter\": \"L\", \"SecondLetter\": \"o\", \"FirstTwoLetters\": \"Lo\"}, {\"StichtagDatJahr\": 2005, \"Vorname\": \"Louisa\", \"SexLang\": \"weiblich\", \"AnzGebuWir\": 1, \"FirstLetter\": \"L\", \"SecondLetter\": \"o\", \"FirstTwoLetters\": \"Lo\"}, {\"StichtagDatJahr\": 2005, \"Vorname\": \"Louise\", \"SexLang\": \"weiblich\", \"AnzGebuWir\": 1, \"FirstLetter\": \"L\", \"SecondLetter\": \"o\", \"FirstTwoLetters\": \"Lo\"}, {\"StichtagDatJahr\": 2005, \"Vorname\": \"Loulou\", \"SexLang\": \"weiblich\", \"AnzGebuWir\": 1, \"FirstLetter\": \"L\", \"SecondLetter\": \"o\", \"FirstTwoLetters\": \"Lo\"}, {\"StichtagDatJahr\": 2005, \"Vorname\": \"Lovis\", \"SexLang\": \"weiblich\", \"AnzGebuWir\": 1, \"FirstLetter\": \"L\", \"SecondLetter\": \"o\", \"FirstTwoLetters\": \"Lo\"}, {\"StichtagDatJahr\": 2002, \"Vorname\": \"Lola\", \"SexLang\": \"weiblich\", \"AnzGebuWir\": 1, \"FirstLetter\": \"L\", \"SecondLetter\": \"o\", \"FirstTwoLetters\": \"Lo\"}, {\"StichtagDatJahr\": 2002, \"Vorname\": \"Lorika\", \"SexLang\": \"weiblich\", \"AnzGebuWir\": 1, \"FirstLetter\": \"L\", \"SecondLetter\": \"o\", \"FirstTwoLetters\": \"Lo\"}, {\"StichtagDatJahr\": 2002, \"Vorname\": \"Lorina\", \"SexLang\": \"weiblich\", \"AnzGebuWir\": 1, \"FirstLetter\": \"L\", \"SecondLetter\": \"o\", \"FirstTwoLetters\": \"Lo\"}, {\"StichtagDatJahr\": 2002, \"Vorname\": \"Lorna\", \"SexLang\": \"weiblich\", \"AnzGebuWir\": 1, \"FirstLetter\": \"L\", \"SecondLetter\": \"o\", \"FirstTwoLetters\": \"Lo\"}, {\"StichtagDatJahr\": 2002, \"Vorname\": \"Lorraine\", \"SexLang\": \"weiblich\", \"AnzGebuWir\": 1, \"FirstLetter\": \"L\", \"SecondLetter\": \"o\", \"FirstTwoLetters\": \"Lo\"}, {\"StichtagDatJahr\": 2003, \"Vorname\": \"Loa\", \"SexLang\": \"weiblich\", \"AnzGebuWir\": 1, \"FirstLetter\": \"L\", \"SecondLetter\": \"o\", \"FirstTwoLetters\": \"Lo\"}, {\"StichtagDatJahr\": 2003, \"Vorname\": \"Lois\", \"SexLang\": \"weiblich\", \"AnzGebuWir\": 1, \"FirstLetter\": \"L\", \"SecondLetter\": \"o\", \"FirstTwoLetters\": \"Lo\"}, {\"StichtagDatJahr\": 2003, \"Vorname\": \"Lo\\u00efs\", \"SexLang\": \"weiblich\", \"AnzGebuWir\": 1, \"FirstLetter\": \"L\", \"SecondLetter\": \"o\", \"FirstTwoLetters\": \"Lo\"}, {\"StichtagDatJahr\": 2003, \"Vorname\": \"Lorijana\", \"SexLang\": \"weiblich\", \"AnzGebuWir\": 1, \"FirstLetter\": \"L\", \"SecondLetter\": \"o\", \"FirstTwoLetters\": \"Lo\"}, {\"StichtagDatJahr\": 2003, \"Vorname\": \"Loryleimis\", \"SexLang\": \"weiblich\", \"AnzGebuWir\": 1, \"FirstLetter\": \"L\", \"SecondLetter\": \"o\", \"FirstTwoLetters\": \"Lo\"}, {\"StichtagDatJahr\": 2003, \"Vorname\": \"Lou-Lara\", \"SexLang\": \"weiblich\", \"AnzGebuWir\": 1, \"FirstLetter\": \"L\", \"SecondLetter\": \"o\", \"FirstTwoLetters\": \"Lo\"}, {\"StichtagDatJahr\": 2003, \"Vorname\": \"Louine\", \"SexLang\": \"weiblich\", \"AnzGebuWir\": 1, \"FirstLetter\": \"L\", \"SecondLetter\": \"o\", \"FirstTwoLetters\": \"Lo\"}, {\"StichtagDatJahr\": 2003, \"Vorname\": \"Louisa\", \"SexLang\": \"weiblich\", \"AnzGebuWir\": 1, \"FirstLetter\": \"L\", \"SecondLetter\": \"o\", \"FirstTwoLetters\": \"Lo\"}, {\"StichtagDatJahr\": 2003, \"Vorname\": \"Loulou\", \"SexLang\": \"weiblich\", \"AnzGebuWir\": 1, \"FirstLetter\": \"L\", \"SecondLetter\": \"o\", \"FirstTwoLetters\": \"Lo\"}, {\"StichtagDatJahr\": 2003, \"Vorname\": \"Lovis\", \"SexLang\": \"weiblich\", \"AnzGebuWir\": 1, \"FirstLetter\": \"L\", \"SecondLetter\": \"o\", \"FirstTwoLetters\": \"Lo\"}, {\"StichtagDatJahr\": 2008, \"Vorname\": \"Lorine\", \"SexLang\": \"weiblich\", \"AnzGebuWir\": 1, \"FirstLetter\": \"L\", \"SecondLetter\": \"o\", \"FirstTwoLetters\": \"Lo\"}, {\"StichtagDatJahr\": 2008, \"Vorname\": \"Loan\", \"SexLang\": \"weiblich\", \"AnzGebuWir\": 1, \"FirstLetter\": \"L\", \"SecondLetter\": \"o\", \"FirstTwoLetters\": \"Lo\"}, {\"StichtagDatJahr\": 2008, \"Vorname\": \"Lois\", \"SexLang\": \"weiblich\", \"AnzGebuWir\": 1, \"FirstLetter\": \"L\", \"SecondLetter\": \"o\", \"FirstTwoLetters\": \"Lo\"}, {\"StichtagDatJahr\": 2008, \"Vorname\": \"Lora\", \"SexLang\": \"weiblich\", \"AnzGebuWir\": 1, \"FirstLetter\": \"L\", \"SecondLetter\": \"o\", \"FirstTwoLetters\": \"Lo\"}, {\"StichtagDatJahr\": 2008, \"Vorname\": \"Lorin\", \"SexLang\": \"weiblich\", \"AnzGebuWir\": 1, \"FirstLetter\": \"L\", \"SecondLetter\": \"o\", \"FirstTwoLetters\": \"Lo\"}, {\"StichtagDatJahr\": 2008, \"Vorname\": \"Lorina\", \"SexLang\": \"weiblich\", \"AnzGebuWir\": 1, \"FirstLetter\": \"L\", \"SecondLetter\": \"o\", \"FirstTwoLetters\": \"Lo\"}, {\"StichtagDatJahr\": 2008, \"Vorname\": \"Lorinda\", \"SexLang\": \"weiblich\", \"AnzGebuWir\": 1, \"FirstLetter\": \"L\", \"SecondLetter\": \"o\", \"FirstTwoLetters\": \"Lo\"}, {\"StichtagDatJahr\": 2008, \"Vorname\": \"Lorisa\", \"SexLang\": \"weiblich\", \"AnzGebuWir\": 1, \"FirstLetter\": \"L\", \"SecondLetter\": \"o\", \"FirstTwoLetters\": \"Lo\"}, {\"StichtagDatJahr\": 2008, \"Vorname\": \"Lotta\", \"SexLang\": \"weiblich\", \"AnzGebuWir\": 1, \"FirstLetter\": \"L\", \"SecondLetter\": \"o\", \"FirstTwoLetters\": \"Lo\"}, {\"StichtagDatJahr\": 2008, \"Vorname\": \"Louine\", \"SexLang\": \"weiblich\", \"AnzGebuWir\": 1, \"FirstLetter\": \"L\", \"SecondLetter\": \"o\", \"FirstTwoLetters\": \"Lo\"}, {\"StichtagDatJahr\": 2008, \"Vorname\": \"Lova\", \"SexLang\": \"weiblich\", \"AnzGebuWir\": 1, \"FirstLetter\": \"L\", \"SecondLetter\": \"o\", \"FirstTwoLetters\": \"Lo\"}, {\"StichtagDatJahr\": 2009, \"Vorname\": \"Lora\", \"SexLang\": \"weiblich\", \"AnzGebuWir\": 1, \"FirstLetter\": \"L\", \"SecondLetter\": \"o\", \"FirstTwoLetters\": \"Lo\"}, {\"StichtagDatJahr\": 2009, \"Vorname\": \"Lorana\", \"SexLang\": \"weiblich\", \"AnzGebuWir\": 1, \"FirstLetter\": \"L\", \"SecondLetter\": \"o\", \"FirstTwoLetters\": \"Lo\"}, {\"StichtagDatJahr\": 2009, \"Vorname\": \"Loreen\", \"SexLang\": \"weiblich\", \"AnzGebuWir\": 1, \"FirstLetter\": \"L\", \"SecondLetter\": \"o\", \"FirstTwoLetters\": \"Lo\"}, {\"StichtagDatJahr\": 2009, \"Vorname\": \"Lorena-Sara\", \"SexLang\": \"weiblich\", \"AnzGebuWir\": 1, \"FirstLetter\": \"L\", \"SecondLetter\": \"o\", \"FirstTwoLetters\": \"Lo\"}, {\"StichtagDatJahr\": 2009, \"Vorname\": \"Loriane\", \"SexLang\": \"weiblich\", \"AnzGebuWir\": 1, \"FirstLetter\": \"L\", \"SecondLetter\": \"o\", \"FirstTwoLetters\": \"Lo\"}, {\"StichtagDatJahr\": 2009, \"Vorname\": \"Lorin\", \"SexLang\": \"weiblich\", \"AnzGebuWir\": 1, \"FirstLetter\": \"L\", \"SecondLetter\": \"o\", \"FirstTwoLetters\": \"Lo\"}, {\"StichtagDatJahr\": 2009, \"Vorname\": \"Lorna\", \"SexLang\": \"weiblich\", \"AnzGebuWir\": 1, \"FirstLetter\": \"L\", \"SecondLetter\": \"o\", \"FirstTwoLetters\": \"Lo\"}, {\"StichtagDatJahr\": 2009, \"Vorname\": \"Loulou\", \"SexLang\": \"weiblich\", \"AnzGebuWir\": 1, \"FirstLetter\": \"L\", \"SecondLetter\": \"o\", \"FirstTwoLetters\": \"Lo\"}, {\"StichtagDatJahr\": 2009, \"Vorname\": \"Lovisa\", \"SexLang\": \"weiblich\", \"AnzGebuWir\": 1, \"FirstLetter\": \"L\", \"SecondLetter\": \"o\", \"FirstTwoLetters\": \"Lo\"}, {\"StichtagDatJahr\": 2006, \"Vorname\": \"Lora\", \"SexLang\": \"weiblich\", \"AnzGebuWir\": 1, \"FirstLetter\": \"L\", \"SecondLetter\": \"o\", \"FirstTwoLetters\": \"Lo\"}, {\"StichtagDatJahr\": 2006, \"Vorname\": \"Lochanaa\", \"SexLang\": \"weiblich\", \"AnzGebuWir\": 1, \"FirstLetter\": \"L\", \"SecondLetter\": \"o\", \"FirstTwoLetters\": \"Lo\"}, {\"StichtagDatJahr\": 2006, \"Vorname\": \"Lona\", \"SexLang\": \"weiblich\", \"AnzGebuWir\": 1, \"FirstLetter\": \"L\", \"SecondLetter\": \"o\", \"FirstTwoLetters\": \"Lo\"}, {\"StichtagDatJahr\": 2006, \"Vorname\": \"Loraine\", \"SexLang\": \"weiblich\", \"AnzGebuWir\": 1, \"FirstLetter\": \"L\", \"SecondLetter\": \"o\", \"FirstTwoLetters\": \"Lo\"}, {\"StichtagDatJahr\": 2006, \"Vorname\": \"Loresa\", \"SexLang\": \"weiblich\", \"AnzGebuWir\": 1, \"FirstLetter\": \"L\", \"SecondLetter\": \"o\", \"FirstTwoLetters\": \"Lo\"}, {\"StichtagDatJahr\": 2006, \"Vorname\": \"Lotte\", \"SexLang\": \"weiblich\", \"AnzGebuWir\": 1, \"FirstLetter\": \"L\", \"SecondLetter\": \"o\", \"FirstTwoLetters\": \"Lo\"}, {\"StichtagDatJahr\": 2006, \"Vorname\": \"Lova\", \"SexLang\": \"weiblich\", \"AnzGebuWir\": 1, \"FirstLetter\": \"L\", \"SecondLetter\": \"o\", \"FirstTwoLetters\": \"Lo\"}, {\"StichtagDatJahr\": 2007, \"Vorname\": \"Loana\", \"SexLang\": \"weiblich\", \"AnzGebuWir\": 1, \"FirstLetter\": \"L\", \"SecondLetter\": \"o\", \"FirstTwoLetters\": \"Lo\"}, {\"StichtagDatJahr\": 2007, \"Vorname\": \"Loe\", \"SexLang\": \"weiblich\", \"AnzGebuWir\": 1, \"FirstLetter\": \"L\", \"SecondLetter\": \"o\", \"FirstTwoLetters\": \"Lo\"}, {\"StichtagDatJahr\": 2007, \"Vorname\": \"Lois\", \"SexLang\": \"weiblich\", \"AnzGebuWir\": 1, \"FirstLetter\": \"L\", \"SecondLetter\": \"o\", \"FirstTwoLetters\": \"Lo\"}, {\"StichtagDatJahr\": 2007, \"Vorname\": \"Lom\\u00e9\", \"SexLang\": \"weiblich\", \"AnzGebuWir\": 1, \"FirstLetter\": \"L\", \"SecondLetter\": \"o\", \"FirstTwoLetters\": \"Lo\"}, {\"StichtagDatJahr\": 2007, \"Vorname\": \"Lorina\", \"SexLang\": \"weiblich\", \"AnzGebuWir\": 1, \"FirstLetter\": \"L\", \"SecondLetter\": \"o\", \"FirstTwoLetters\": \"Lo\"}, {\"StichtagDatJahr\": 2007, \"Vorname\": \"Lorraine\", \"SexLang\": \"weiblich\", \"AnzGebuWir\": 1, \"FirstLetter\": \"L\", \"SecondLetter\": \"o\", \"FirstTwoLetters\": \"Lo\"}, {\"StichtagDatJahr\": 2007, \"Vorname\": \"Lotta\", \"SexLang\": \"weiblich\", \"AnzGebuWir\": 1, \"FirstLetter\": \"L\", \"SecondLetter\": \"o\", \"FirstTwoLetters\": \"Lo\"}, {\"StichtagDatJahr\": 2007, \"Vorname\": \"Lotte\", \"SexLang\": \"weiblich\", \"AnzGebuWir\": 1, \"FirstLetter\": \"L\", \"SecondLetter\": \"o\", \"FirstTwoLetters\": \"Lo\"}, {\"StichtagDatJahr\": 2007, \"Vorname\": \"Lovisa\", \"SexLang\": \"weiblich\", \"AnzGebuWir\": 1, \"FirstLetter\": \"L\", \"SecondLetter\": \"o\", \"FirstTwoLetters\": \"Lo\"}, {\"StichtagDatJahr\": 1996, \"Vorname\": \"Louise\", \"SexLang\": \"weiblich\", \"AnzGebuWir\": 1, \"FirstLetter\": \"L\", \"SecondLetter\": \"o\", \"FirstTwoLetters\": \"Lo\"}, {\"StichtagDatJahr\": 1996, \"Vorname\": \"Loisa\", \"SexLang\": \"weiblich\", \"AnzGebuWir\": 1, \"FirstLetter\": \"L\", \"SecondLetter\": \"o\", \"FirstTwoLetters\": \"Lo\"}, {\"StichtagDatJahr\": 1996, \"Vorname\": \"Lola\", \"SexLang\": \"weiblich\", \"AnzGebuWir\": 1, \"FirstLetter\": \"L\", \"SecondLetter\": \"o\", \"FirstTwoLetters\": \"Lo\"}, {\"StichtagDatJahr\": 1996, \"Vorname\": \"Londina\", \"SexLang\": \"weiblich\", \"AnzGebuWir\": 1, \"FirstLetter\": \"L\", \"SecondLetter\": \"o\", \"FirstTwoLetters\": \"Lo\"}, {\"StichtagDatJahr\": 1996, \"Vorname\": \"Lorea\", \"SexLang\": \"weiblich\", \"AnzGebuWir\": 1, \"FirstLetter\": \"L\", \"SecondLetter\": \"o\", \"FirstTwoLetters\": \"Lo\"}, {\"StichtagDatJahr\": 1996, \"Vorname\": \"Loret\", \"SexLang\": \"weiblich\", \"AnzGebuWir\": 1, \"FirstLetter\": \"L\", \"SecondLetter\": \"o\", \"FirstTwoLetters\": \"Lo\"}, {\"StichtagDatJahr\": 1996, \"Vorname\": \"Loreta\", \"SexLang\": \"weiblich\", \"AnzGebuWir\": 1, \"FirstLetter\": \"L\", \"SecondLetter\": \"o\", \"FirstTwoLetters\": \"Lo\"}, {\"StichtagDatJahr\": 1996, \"Vorname\": \"Lorina\", \"SexLang\": \"weiblich\", \"AnzGebuWir\": 1, \"FirstLetter\": \"L\", \"SecondLetter\": \"o\", \"FirstTwoLetters\": \"Lo\"}, {\"StichtagDatJahr\": 1996, \"Vorname\": \"Lou\", \"SexLang\": \"weiblich\", \"AnzGebuWir\": 1, \"FirstLetter\": \"L\", \"SecondLetter\": \"o\", \"FirstTwoLetters\": \"Lo\"}, {\"StichtagDatJahr\": 1995, \"Vorname\": \"Lola\", \"SexLang\": \"weiblich\", \"AnzGebuWir\": 1, \"FirstLetter\": \"L\", \"SecondLetter\": \"o\", \"FirstTwoLetters\": \"Lo\"}, {\"StichtagDatJahr\": 1995, \"Vorname\": \"Lobsang\", \"SexLang\": \"weiblich\", \"AnzGebuWir\": 1, \"FirstLetter\": \"L\", \"SecondLetter\": \"o\", \"FirstTwoLetters\": \"Lo\"}, {\"StichtagDatJahr\": 1995, \"Vorname\": \"Long\", \"SexLang\": \"weiblich\", \"AnzGebuWir\": 1, \"FirstLetter\": \"L\", \"SecondLetter\": \"o\", \"FirstTwoLetters\": \"Lo\"}, {\"StichtagDatJahr\": 1995, \"Vorname\": \"Loredana\", \"SexLang\": \"weiblich\", \"AnzGebuWir\": 1, \"FirstLetter\": \"L\", \"SecondLetter\": \"o\", \"FirstTwoLetters\": \"Lo\"}, {\"StichtagDatJahr\": 1995, \"Vorname\": \"Lotta\", \"SexLang\": \"weiblich\", \"AnzGebuWir\": 1, \"FirstLetter\": \"L\", \"SecondLetter\": \"o\", \"FirstTwoLetters\": \"Lo\"}, {\"StichtagDatJahr\": 1995, \"Vorname\": \"Louise\", \"SexLang\": \"weiblich\", \"AnzGebuWir\": 1, \"FirstLetter\": \"L\", \"SecondLetter\": \"o\", \"FirstTwoLetters\": \"Lo\"}, {\"StichtagDatJahr\": 1997, \"Vorname\": \"Lotta\", \"SexLang\": \"weiblich\", \"AnzGebuWir\": 1, \"FirstLetter\": \"L\", \"SecondLetter\": \"o\", \"FirstTwoLetters\": \"Lo\"}, {\"StichtagDatJahr\": 1997, \"Vorname\": \"Lou\", \"SexLang\": \"weiblich\", \"AnzGebuWir\": 1, \"FirstLetter\": \"L\", \"SecondLetter\": \"o\", \"FirstTwoLetters\": \"Lo\"}, {\"StichtagDatJahr\": 1993, \"Vorname\": \"Louise\", \"SexLang\": \"weiblich\", \"AnzGebuWir\": 1, \"FirstLetter\": \"L\", \"SecondLetter\": \"o\", \"FirstTwoLetters\": \"Lo\"}, {\"StichtagDatJahr\": 1994, \"Vorname\": \"Louisa\", \"SexLang\": \"weiblich\", \"AnzGebuWir\": 1, \"FirstLetter\": \"L\", \"SecondLetter\": \"o\", \"FirstTwoLetters\": \"Lo\"}, {\"StichtagDatJahr\": 1994, \"Vorname\": \"Loretta\", \"SexLang\": \"weiblich\", \"AnzGebuWir\": 1, \"FirstLetter\": \"L\", \"SecondLetter\": \"o\", \"FirstTwoLetters\": \"Lo\"}, {\"StichtagDatJahr\": 1994, \"Vorname\": \"Lorina\", \"SexLang\": \"weiblich\", \"AnzGebuWir\": 1, \"FirstLetter\": \"L\", \"SecondLetter\": \"o\", \"FirstTwoLetters\": \"Lo\"}, {\"StichtagDatJahr\": 1994, \"Vorname\": \"Lotti\", \"SexLang\": \"weiblich\", \"AnzGebuWir\": 1, \"FirstLetter\": \"L\", \"SecondLetter\": \"o\", \"FirstTwoLetters\": \"Lo\"}, {\"StichtagDatJahr\": 1994, \"Vorname\": \"Lou\", \"SexLang\": \"weiblich\", \"AnzGebuWir\": 1, \"FirstLetter\": \"L\", \"SecondLetter\": \"o\", \"FirstTwoLetters\": \"Lo\"}, {\"StichtagDatJahr\": 1994, \"Vorname\": \"Loue\", \"SexLang\": \"weiblich\", \"AnzGebuWir\": 1, \"FirstLetter\": \"L\", \"SecondLetter\": \"o\", \"FirstTwoLetters\": \"Lo\"}, {\"StichtagDatJahr\": 2000, \"Vorname\": \"Lorenta\", \"SexLang\": \"weiblich\", \"AnzGebuWir\": 1, \"FirstLetter\": \"L\", \"SecondLetter\": \"o\", \"FirstTwoLetters\": \"Lo\"}, {\"StichtagDatJahr\": 2000, \"Vorname\": \"Loreta\", \"SexLang\": \"weiblich\", \"AnzGebuWir\": 1, \"FirstLetter\": \"L\", \"SecondLetter\": \"o\", \"FirstTwoLetters\": \"Lo\"}, {\"StichtagDatJahr\": 2000, \"Vorname\": \"Lorr\\u00e3ny\", \"SexLang\": \"weiblich\", \"AnzGebuWir\": 1, \"FirstLetter\": \"L\", \"SecondLetter\": \"o\", \"FirstTwoLetters\": \"Lo\"}, {\"StichtagDatJahr\": 2000, \"Vorname\": \"Lou-Tamara\", \"SexLang\": \"weiblich\", \"AnzGebuWir\": 1, \"FirstLetter\": \"L\", \"SecondLetter\": \"o\", \"FirstTwoLetters\": \"Lo\"}, {\"StichtagDatJahr\": 2001, \"Vorname\": \"Lola\", \"SexLang\": \"weiblich\", \"AnzGebuWir\": 1, \"FirstLetter\": \"L\", \"SecondLetter\": \"o\", \"FirstTwoLetters\": \"Lo\"}, {\"StichtagDatJahr\": 2001, \"Vorname\": \"Loredana\", \"SexLang\": \"weiblich\", \"AnzGebuWir\": 1, \"FirstLetter\": \"L\", \"SecondLetter\": \"o\", \"FirstTwoLetters\": \"Lo\"}, {\"StichtagDatJahr\": 2001, \"Vorname\": \"Lorika\", \"SexLang\": \"weiblich\", \"AnzGebuWir\": 1, \"FirstLetter\": \"L\", \"SecondLetter\": \"o\", \"FirstTwoLetters\": \"Lo\"}, {\"StichtagDatJahr\": 2001, \"Vorname\": \"Lotiane\", \"SexLang\": \"weiblich\", \"AnzGebuWir\": 1, \"FirstLetter\": \"L\", \"SecondLetter\": \"o\", \"FirstTwoLetters\": \"Lo\"}, {\"StichtagDatJahr\": 2001, \"Vorname\": \"Louisa\", \"SexLang\": \"weiblich\", \"AnzGebuWir\": 1, \"FirstLetter\": \"L\", \"SecondLetter\": \"o\", \"FirstTwoLetters\": \"Lo\"}, {\"StichtagDatJahr\": 2001, \"Vorname\": \"Louise\", \"SexLang\": \"weiblich\", \"AnzGebuWir\": 1, \"FirstLetter\": \"L\", \"SecondLetter\": \"o\", \"FirstTwoLetters\": \"Lo\"}, {\"StichtagDatJahr\": 2001, \"Vorname\": \"Lousal\\u00f4m\\u00e9\", \"SexLang\": \"weiblich\", \"AnzGebuWir\": 1, \"FirstLetter\": \"L\", \"SecondLetter\": \"o\", \"FirstTwoLetters\": \"Lo\"}, {\"StichtagDatJahr\": 1998, \"Vorname\": \"Lorinda\", \"SexLang\": \"weiblich\", \"AnzGebuWir\": 1, \"FirstLetter\": \"L\", \"SecondLetter\": \"o\", \"FirstTwoLetters\": \"Lo\"}, {\"StichtagDatJahr\": 1998, \"Vorname\": \"Lou\", \"SexLang\": \"weiblich\", \"AnzGebuWir\": 1, \"FirstLetter\": \"L\", \"SecondLetter\": \"o\", \"FirstTwoLetters\": \"Lo\"}, {\"StichtagDatJahr\": 1998, \"Vorname\": \"Lores\\u00eb\", \"SexLang\": \"weiblich\", \"AnzGebuWir\": 1, \"FirstLetter\": \"L\", \"SecondLetter\": \"o\", \"FirstTwoLetters\": \"Lo\"}, {\"StichtagDatJahr\": 1998, \"Vorname\": \"Lola\", \"SexLang\": \"weiblich\", \"AnzGebuWir\": 1, \"FirstLetter\": \"L\", \"SecondLetter\": \"o\", \"FirstTwoLetters\": \"Lo\"}, {\"StichtagDatJahr\": 1999, \"Vorname\": \"Lois\", \"SexLang\": \"weiblich\", \"AnzGebuWir\": 1, \"FirstLetter\": \"L\", \"SecondLetter\": \"o\", \"FirstTwoLetters\": \"Lo\"}, {\"StichtagDatJahr\": 1999, \"Vorname\": \"Lorentina\", \"SexLang\": \"weiblich\", \"AnzGebuWir\": 1, \"FirstLetter\": \"L\", \"SecondLetter\": \"o\", \"FirstTwoLetters\": \"Lo\"}, {\"StichtagDatJahr\": 1999, \"Vorname\": \"Lou\", \"SexLang\": \"weiblich\", \"AnzGebuWir\": 1, \"FirstLetter\": \"L\", \"SecondLetter\": \"o\", \"FirstTwoLetters\": \"Lo\"}, {\"StichtagDatJahr\": 1999, \"Vorname\": \"Louisa\", \"SexLang\": \"weiblich\", \"AnzGebuWir\": 1, \"FirstLetter\": \"L\", \"SecondLetter\": \"o\", \"FirstTwoLetters\": \"Lo\"}, {\"StichtagDatJahr\": 2020, \"Vorname\": \"Larissa\", \"SexLang\": \"weiblich\", \"AnzGebuWir\": 1, \"FirstLetter\": \"L\", \"SecondLetter\": \"a\", \"FirstTwoLetters\": \"La\"}, {\"StichtagDatJahr\": 2020, \"Vorname\": \"Lauren\", \"SexLang\": \"weiblich\", \"AnzGebuWir\": 1, \"FirstLetter\": \"L\", \"SecondLetter\": \"a\", \"FirstTwoLetters\": \"La\"}, {\"StichtagDatJahr\": 2020, \"Vorname\": \"Laurence\", \"SexLang\": \"weiblich\", \"AnzGebuWir\": 1, \"FirstLetter\": \"L\", \"SecondLetter\": \"a\", \"FirstTwoLetters\": \"La\"}, {\"StichtagDatJahr\": 2020, \"Vorname\": \"Lavinia\", \"SexLang\": \"weiblich\", \"AnzGebuWir\": 1, \"FirstLetter\": \"L\", \"SecondLetter\": \"a\", \"FirstTwoLetters\": \"La\"}, {\"StichtagDatJahr\": 2020, \"Vorname\": \"Laya\", \"SexLang\": \"weiblich\", \"AnzGebuWir\": 1, \"FirstLetter\": \"L\", \"SecondLetter\": \"a\", \"FirstTwoLetters\": \"La\"}, {\"StichtagDatJahr\": 2020, \"Vorname\": \"Layana\", \"SexLang\": \"weiblich\", \"AnzGebuWir\": 1, \"FirstLetter\": \"L\", \"SecondLetter\": \"a\", \"FirstTwoLetters\": \"La\"}, {\"StichtagDatJahr\": 2020, \"Vorname\": \"Layel\", \"SexLang\": \"weiblich\", \"AnzGebuWir\": 1, \"FirstLetter\": \"L\", \"SecondLetter\": \"a\", \"FirstTwoLetters\": \"La\"}, {\"StichtagDatJahr\": 2020, \"Vorname\": \"Laure\", \"SexLang\": \"weiblich\", \"AnzGebuWir\": 1, \"FirstLetter\": \"L\", \"SecondLetter\": \"a\", \"FirstTwoLetters\": \"La\"}, {\"StichtagDatJahr\": 2020, \"Vorname\": \"Laraina\", \"SexLang\": \"weiblich\", \"AnzGebuWir\": 1, \"FirstLetter\": \"L\", \"SecondLetter\": \"a\", \"FirstTwoLetters\": \"La\"}, {\"StichtagDatJahr\": 2020, \"Vorname\": \"Lanea\", \"SexLang\": \"weiblich\", \"AnzGebuWir\": 1, \"FirstLetter\": \"L\", \"SecondLetter\": \"a\", \"FirstTwoLetters\": \"La\"}, {\"StichtagDatJahr\": 2020, \"Vorname\": \"Lahina\", \"SexLang\": \"weiblich\", \"AnzGebuWir\": 1, \"FirstLetter\": \"L\", \"SecondLetter\": \"a\", \"FirstTwoLetters\": \"La\"}, {\"StichtagDatJahr\": 2020, \"Vorname\": \"Laila\", \"SexLang\": \"weiblich\", \"AnzGebuWir\": 1, \"FirstLetter\": \"L\", \"SecondLetter\": \"a\", \"FirstTwoLetters\": \"La\"}, {\"StichtagDatJahr\": 2020, \"Vorname\": \"Laina\", \"SexLang\": \"weiblich\", \"AnzGebuWir\": 1, \"FirstLetter\": \"L\", \"SecondLetter\": \"a\", \"FirstTwoLetters\": \"La\"}, {\"StichtagDatJahr\": 2020, \"Vorname\": \"Lale\", \"SexLang\": \"weiblich\", \"AnzGebuWir\": 1, \"FirstLetter\": \"L\", \"SecondLetter\": \"a\", \"FirstTwoLetters\": \"La\"}, {\"StichtagDatJahr\": 2020, \"Vorname\": \"Lovis\", \"SexLang\": \"weiblich\", \"AnzGebuWir\": 1, \"FirstLetter\": \"L\", \"SecondLetter\": \"o\", \"FirstTwoLetters\": \"Lo\"}, {\"StichtagDatJahr\": 2020, \"Vorname\": \"Louane\", \"SexLang\": \"weiblich\", \"AnzGebuWir\": 1, \"FirstLetter\": \"L\", \"SecondLetter\": \"o\", \"FirstTwoLetters\": \"Lo\"}, {\"StichtagDatJahr\": 2020, \"Vorname\": \"Loua\", \"SexLang\": \"weiblich\", \"AnzGebuWir\": 1, \"FirstLetter\": \"L\", \"SecondLetter\": \"o\", \"FirstTwoLetters\": \"Lo\"}, {\"StichtagDatJahr\": 2020, \"Vorname\": \"Lorina\", \"SexLang\": \"weiblich\", \"AnzGebuWir\": 1, \"FirstLetter\": \"L\", \"SecondLetter\": \"o\", \"FirstTwoLetters\": \"Lo\"}, {\"StichtagDatJahr\": 2020, \"Vorname\": \"Lorine\", \"SexLang\": \"weiblich\", \"AnzGebuWir\": 1, \"FirstLetter\": \"L\", \"SecondLetter\": \"o\", \"FirstTwoLetters\": \"Lo\"}, {\"StichtagDatJahr\": 2018, \"Vorname\": \"Loie\", \"SexLang\": \"weiblich\", \"AnzGebuWir\": 1, \"FirstLetter\": \"L\", \"SecondLetter\": \"o\", \"FirstTwoLetters\": \"Lo\"}, {\"StichtagDatJahr\": 2018, \"Vorname\": \"Loki\", \"SexLang\": \"weiblich\", \"AnzGebuWir\": 1, \"FirstLetter\": \"L\", \"SecondLetter\": \"o\", \"FirstTwoLetters\": \"Lo\"}, {\"StichtagDatJahr\": 2018, \"Vorname\": \"Loren\", \"SexLang\": \"weiblich\", \"AnzGebuWir\": 1, \"FirstLetter\": \"L\", \"SecondLetter\": \"o\", \"FirstTwoLetters\": \"Lo\"}, {\"StichtagDatJahr\": 2018, \"Vorname\": \"Lorina\", \"SexLang\": \"weiblich\", \"AnzGebuWir\": 1, \"FirstLetter\": \"L\", \"SecondLetter\": \"o\", \"FirstTwoLetters\": \"Lo\"}, {\"StichtagDatJahr\": 2018, \"Vorname\": \"Lorine\", \"SexLang\": \"weiblich\", \"AnzGebuWir\": 1, \"FirstLetter\": \"L\", \"SecondLetter\": \"o\", \"FirstTwoLetters\": \"Lo\"}, {\"StichtagDatJahr\": 2018, \"Vorname\": \"Lou-Ann\", \"SexLang\": \"weiblich\", \"AnzGebuWir\": 1, \"FirstLetter\": \"L\", \"SecondLetter\": \"o\", \"FirstTwoLetters\": \"Lo\"}, {\"StichtagDatJahr\": 2018, \"Vorname\": \"Loua\", \"SexLang\": \"weiblich\", \"AnzGebuWir\": 1, \"FirstLetter\": \"L\", \"SecondLetter\": \"o\", \"FirstTwoLetters\": \"Lo\"}, {\"StichtagDatJahr\": 2018, \"Vorname\": \"Louen\", \"SexLang\": \"weiblich\", \"AnzGebuWir\": 1, \"FirstLetter\": \"L\", \"SecondLetter\": \"o\", \"FirstTwoLetters\": \"Lo\"}, {\"StichtagDatJahr\": 2018, \"Vorname\": \"Louiza\", \"SexLang\": \"weiblich\", \"AnzGebuWir\": 1, \"FirstLetter\": \"L\", \"SecondLetter\": \"o\", \"FirstTwoLetters\": \"Lo\"}, {\"StichtagDatJahr\": 2018, \"Vorname\": \"Loulou\", \"SexLang\": \"weiblich\", \"AnzGebuWir\": 1, \"FirstLetter\": \"L\", \"SecondLetter\": \"o\", \"FirstTwoLetters\": \"Lo\"}, {\"StichtagDatJahr\": 2018, \"Vorname\": \"Lovis\", \"SexLang\": \"weiblich\", \"AnzGebuWir\": 1, \"FirstLetter\": \"L\", \"SecondLetter\": \"o\", \"FirstTwoLetters\": \"Lo\"}, {\"StichtagDatJahr\": 2019, \"Vorname\": \"Lola-Grace\", \"SexLang\": \"weiblich\", \"AnzGebuWir\": 1, \"FirstLetter\": \"L\", \"SecondLetter\": \"o\", \"FirstTwoLetters\": \"Lo\"}, {\"StichtagDatJahr\": 2019, \"Vorname\": \"Lore\", \"SexLang\": \"weiblich\", \"AnzGebuWir\": 1, \"FirstLetter\": \"L\", \"SecondLetter\": \"o\", \"FirstTwoLetters\": \"Lo\"}, {\"StichtagDatJahr\": 2019, \"Vorname\": \"Lotte\", \"SexLang\": \"weiblich\", \"AnzGebuWir\": 1, \"FirstLetter\": \"L\", \"SecondLetter\": \"o\", \"FirstTwoLetters\": \"Lo\"}, {\"StichtagDatJahr\": 2019, \"Vorname\": \"Louane\", \"SexLang\": \"weiblich\", \"AnzGebuWir\": 1, \"FirstLetter\": \"L\", \"SecondLetter\": \"o\", \"FirstTwoLetters\": \"Lo\"}, {\"StichtagDatJahr\": 2019, \"Vorname\": \"Louison\", \"SexLang\": \"weiblich\", \"AnzGebuWir\": 1, \"FirstLetter\": \"L\", \"SecondLetter\": \"o\", \"FirstTwoLetters\": \"Lo\"}, {\"StichtagDatJahr\": 2019, \"Vorname\": \"Loviel\", \"SexLang\": \"weiblich\", \"AnzGebuWir\": 1, \"FirstLetter\": \"L\", \"SecondLetter\": \"o\", \"FirstTwoLetters\": \"Lo\"}, {\"StichtagDatJahr\": 2019, \"Vorname\": \"Lovin\", \"SexLang\": \"weiblich\", \"AnzGebuWir\": 1, \"FirstLetter\": \"L\", \"SecondLetter\": \"o\", \"FirstTwoLetters\": \"Lo\"}, {\"StichtagDatJahr\": 2019, \"Vorname\": \"Lovis\", \"SexLang\": \"weiblich\", \"AnzGebuWir\": 1, \"FirstLetter\": \"L\", \"SecondLetter\": \"o\", \"FirstTwoLetters\": \"Lo\"}, {\"StichtagDatJahr\": 2019, \"Vorname\": \"Lovisa\", \"SexLang\": \"weiblich\", \"AnzGebuWir\": 1, \"FirstLetter\": \"L\", \"SecondLetter\": \"o\", \"FirstTwoLetters\": \"Lo\"}, {\"StichtagDatJahr\": 2019, \"Vorname\": \"Laila\", \"SexLang\": \"weiblich\", \"AnzGebuWir\": 1, \"FirstLetter\": \"L\", \"SecondLetter\": \"a\", \"FirstTwoLetters\": \"La\"}, {\"StichtagDatJahr\": 2019, \"Vorname\": \"Laleh\", \"SexLang\": \"weiblich\", \"AnzGebuWir\": 1, \"FirstLetter\": \"L\", \"SecondLetter\": \"a\", \"FirstTwoLetters\": \"La\"}, {\"StichtagDatJahr\": 2019, \"Vorname\": \"Lana\", \"SexLang\": \"weiblich\", \"AnzGebuWir\": 1, \"FirstLetter\": \"L\", \"SecondLetter\": \"a\", \"FirstTwoLetters\": \"La\"}, {\"StichtagDatJahr\": 2019, \"Vorname\": \"Larina\", \"SexLang\": \"weiblich\", \"AnzGebuWir\": 1, \"FirstLetter\": \"L\", \"SecondLetter\": \"a\", \"FirstTwoLetters\": \"La\"}, {\"StichtagDatJahr\": 2019, \"Vorname\": \"Lauren\", \"SexLang\": \"weiblich\", \"AnzGebuWir\": 1, \"FirstLetter\": \"L\", \"SecondLetter\": \"a\", \"FirstTwoLetters\": \"La\"}, {\"StichtagDatJahr\": 2019, \"Vorname\": \"Laya\", \"SexLang\": \"weiblich\", \"AnzGebuWir\": 1, \"FirstLetter\": \"L\", \"SecondLetter\": \"a\", \"FirstTwoLetters\": \"La\"}, {\"StichtagDatJahr\": 2012, \"Vorname\": \"Louanne\", \"SexLang\": \"weiblich\", \"AnzGebuWir\": 1, \"FirstLetter\": \"L\", \"SecondLetter\": \"o\", \"FirstTwoLetters\": \"Lo\"}, {\"StichtagDatJahr\": 2012, \"Vorname\": \"Loa\", \"SexLang\": \"weiblich\", \"AnzGebuWir\": 1, \"FirstLetter\": \"L\", \"SecondLetter\": \"o\", \"FirstTwoLetters\": \"Lo\"}, {\"StichtagDatJahr\": 2012, \"Vorname\": \"Loe\", \"SexLang\": \"weiblich\", \"AnzGebuWir\": 1, \"FirstLetter\": \"L\", \"SecondLetter\": \"o\", \"FirstTwoLetters\": \"Lo\"}, {\"StichtagDatJahr\": 2012, \"Vorname\": \"Lokwa\", \"SexLang\": \"weiblich\", \"AnzGebuWir\": 1, \"FirstLetter\": \"L\", \"SecondLetter\": \"o\", \"FirstTwoLetters\": \"Lo\"}, {\"StichtagDatJahr\": 2012, \"Vorname\": \"Lorea\", \"SexLang\": \"weiblich\", \"AnzGebuWir\": 1, \"FirstLetter\": \"L\", \"SecondLetter\": \"o\", \"FirstTwoLetters\": \"Lo\"}, {\"StichtagDatJahr\": 2012, \"Vorname\": \"Loriana\", \"SexLang\": \"weiblich\", \"AnzGebuWir\": 1, \"FirstLetter\": \"L\", \"SecondLetter\": \"o\", \"FirstTwoLetters\": \"Lo\"}, {\"StichtagDatJahr\": 2012, \"Vorname\": \"Lorina\", \"SexLang\": \"weiblich\", \"AnzGebuWir\": 1, \"FirstLetter\": \"L\", \"SecondLetter\": \"o\", \"FirstTwoLetters\": \"Lo\"}, {\"StichtagDatJahr\": 2012, \"Vorname\": \"Lorisa\", \"SexLang\": \"weiblich\", \"AnzGebuWir\": 1, \"FirstLetter\": \"L\", \"SecondLetter\": \"o\", \"FirstTwoLetters\": \"Lo\"}, {\"StichtagDatJahr\": 2012, \"Vorname\": \"Lotta\", \"SexLang\": \"weiblich\", \"AnzGebuWir\": 1, \"FirstLetter\": \"L\", \"SecondLetter\": \"o\", \"FirstTwoLetters\": \"Lo\"}, {\"StichtagDatJahr\": 2012, \"Vorname\": \"Lovina\", \"SexLang\": \"weiblich\", \"AnzGebuWir\": 1, \"FirstLetter\": \"L\", \"SecondLetter\": \"o\", \"FirstTwoLetters\": \"Lo\"}, {\"StichtagDatJahr\": 2013, \"Vorname\": \"Lois\", \"SexLang\": \"weiblich\", \"AnzGebuWir\": 1, \"FirstLetter\": \"L\", \"SecondLetter\": \"o\", \"FirstTwoLetters\": \"Lo\"}, {\"StichtagDatJahr\": 2013, \"Vorname\": \"Lo\\u00efs\", \"SexLang\": \"weiblich\", \"AnzGebuWir\": 1, \"FirstLetter\": \"L\", \"SecondLetter\": \"o\", \"FirstTwoLetters\": \"Lo\"}, {\"StichtagDatJahr\": 2013, \"Vorname\": \"Lola\", \"SexLang\": \"weiblich\", \"AnzGebuWir\": 1, \"FirstLetter\": \"L\", \"SecondLetter\": \"o\", \"FirstTwoLetters\": \"Lo\"}, {\"StichtagDatJahr\": 2013, \"Vorname\": \"Lora\", \"SexLang\": \"weiblich\", \"AnzGebuWir\": 1, \"FirstLetter\": \"L\", \"SecondLetter\": \"o\", \"FirstTwoLetters\": \"Lo\"}, {\"StichtagDatJahr\": 2013, \"Vorname\": \"Loreen\", \"SexLang\": \"weiblich\", \"AnzGebuWir\": 1, \"FirstLetter\": \"L\", \"SecondLetter\": \"o\", \"FirstTwoLetters\": \"Lo\"}, {\"StichtagDatJahr\": 2013, \"Vorname\": \"Loretta\", \"SexLang\": \"weiblich\", \"AnzGebuWir\": 1, \"FirstLetter\": \"L\", \"SecondLetter\": \"o\", \"FirstTwoLetters\": \"Lo\"}, {\"StichtagDatJahr\": 2013, \"Vorname\": \"Lorina\", \"SexLang\": \"weiblich\", \"AnzGebuWir\": 1, \"FirstLetter\": \"L\", \"SecondLetter\": \"o\", \"FirstTwoLetters\": \"Lo\"}, {\"StichtagDatJahr\": 2013, \"Vorname\": \"Lorine\", \"SexLang\": \"weiblich\", \"AnzGebuWir\": 1, \"FirstLetter\": \"L\", \"SecondLetter\": \"o\", \"FirstTwoLetters\": \"Lo\"}, {\"StichtagDatJahr\": 2013, \"Vorname\": \"Lotachi\", \"SexLang\": \"weiblich\", \"AnzGebuWir\": 1, \"FirstLetter\": \"L\", \"SecondLetter\": \"o\", \"FirstTwoLetters\": \"Lo\"}, {\"StichtagDatJahr\": 2013, \"Vorname\": \"Louison\", \"SexLang\": \"weiblich\", \"AnzGebuWir\": 1, \"FirstLetter\": \"L\", \"SecondLetter\": \"o\", \"FirstTwoLetters\": \"Lo\"}, {\"StichtagDatJahr\": 2013, \"Vorname\": \"Lovisa\", \"SexLang\": \"weiblich\", \"AnzGebuWir\": 1, \"FirstLetter\": \"L\", \"SecondLetter\": \"o\", \"FirstTwoLetters\": \"Lo\"}, {\"StichtagDatJahr\": 2013, \"Vorname\": \"Lowiese\", \"SexLang\": \"weiblich\", \"AnzGebuWir\": 1, \"FirstLetter\": \"L\", \"SecondLetter\": \"o\", \"FirstTwoLetters\": \"Lo\"}, {\"StichtagDatJahr\": 2010, \"Vorname\": \"Lonny\", \"SexLang\": \"weiblich\", \"AnzGebuWir\": 1, \"FirstLetter\": \"L\", \"SecondLetter\": \"o\", \"FirstTwoLetters\": \"Lo\"}, {\"StichtagDatJahr\": 2010, \"Vorname\": \"Loredana\", \"SexLang\": \"weiblich\", \"AnzGebuWir\": 1, \"FirstLetter\": \"L\", \"SecondLetter\": \"o\", \"FirstTwoLetters\": \"Lo\"}, {\"StichtagDatJahr\": 2010, \"Vorname\": \"Loren\", \"SexLang\": \"weiblich\", \"AnzGebuWir\": 1, \"FirstLetter\": \"L\", \"SecondLetter\": \"o\", \"FirstTwoLetters\": \"Lo\"}, {\"StichtagDatJahr\": 2010, \"Vorname\": \"Loresa\", \"SexLang\": \"weiblich\", \"AnzGebuWir\": 1, \"FirstLetter\": \"L\", \"SecondLetter\": \"o\", \"FirstTwoLetters\": \"Lo\"}, {\"StichtagDatJahr\": 2010, \"Vorname\": \"Loretta\", \"SexLang\": \"weiblich\", \"AnzGebuWir\": 1, \"FirstLetter\": \"L\", \"SecondLetter\": \"o\", \"FirstTwoLetters\": \"Lo\"}, {\"StichtagDatJahr\": 2010, \"Vorname\": \"Lotte\", \"SexLang\": \"weiblich\", \"AnzGebuWir\": 1, \"FirstLetter\": \"L\", \"SecondLetter\": \"o\", \"FirstTwoLetters\": \"Lo\"}, {\"StichtagDatJahr\": 2010, \"Vorname\": \"Lou-Marl\\u00e8ne\", \"SexLang\": \"weiblich\", \"AnzGebuWir\": 1, \"FirstLetter\": \"L\", \"SecondLetter\": \"o\", \"FirstTwoLetters\": \"Lo\"}, {\"StichtagDatJahr\": 2010, \"Vorname\": \"Loulou\", \"SexLang\": \"weiblich\", \"AnzGebuWir\": 1, \"FirstLetter\": \"L\", \"SecondLetter\": \"o\", \"FirstTwoLetters\": \"Lo\"}, {\"StichtagDatJahr\": 2010, \"Vorname\": \"Louna\", \"SexLang\": \"weiblich\", \"AnzGebuWir\": 1, \"FirstLetter\": \"L\", \"SecondLetter\": \"o\", \"FirstTwoLetters\": \"Lo\"}, {\"StichtagDatJahr\": 2010, \"Vorname\": \"Lourdes\", \"SexLang\": \"weiblich\", \"AnzGebuWir\": 1, \"FirstLetter\": \"L\", \"SecondLetter\": \"o\", \"FirstTwoLetters\": \"Lo\"}, {\"StichtagDatJahr\": 2010, \"Vorname\": \"Lola\", \"SexLang\": \"weiblich\", \"AnzGebuWir\": 1, \"FirstLetter\": \"L\", \"SecondLetter\": \"o\", \"FirstTwoLetters\": \"Lo\"}, {\"StichtagDatJahr\": 2010, \"Vorname\": \"Lo\\u00efs\", \"SexLang\": \"weiblich\", \"AnzGebuWir\": 1, \"FirstLetter\": \"L\", \"SecondLetter\": \"o\", \"FirstTwoLetters\": \"Lo\"}, {\"StichtagDatJahr\": 2010, \"Vorname\": \"Loa\", \"SexLang\": \"weiblich\", \"AnzGebuWir\": 1, \"FirstLetter\": \"L\", \"SecondLetter\": \"o\", \"FirstTwoLetters\": \"Lo\"}, {\"StichtagDatJahr\": 2011, \"Vorname\": \"Lo\\u00efse\", \"SexLang\": \"weiblich\", \"AnzGebuWir\": 1, \"FirstLetter\": \"L\", \"SecondLetter\": \"o\", \"FirstTwoLetters\": \"Lo\"}, {\"StichtagDatJahr\": 2011, \"Vorname\": \"Lola\", \"SexLang\": \"weiblich\", \"AnzGebuWir\": 1, \"FirstLetter\": \"L\", \"SecondLetter\": \"o\", \"FirstTwoLetters\": \"Lo\"}, {\"StichtagDatJahr\": 2011, \"Vorname\": \"Loraina\", \"SexLang\": \"weiblich\", \"AnzGebuWir\": 1, \"FirstLetter\": \"L\", \"SecondLetter\": \"o\", \"FirstTwoLetters\": \"Lo\"}, {\"StichtagDatJahr\": 2011, \"Vorname\": \"Loresa\", \"SexLang\": \"weiblich\", \"AnzGebuWir\": 1, \"FirstLetter\": \"L\", \"SecondLetter\": \"o\", \"FirstTwoLetters\": \"Lo\"}, {\"StichtagDatJahr\": 2011, \"Vorname\": \"Lori\", \"SexLang\": \"weiblich\", \"AnzGebuWir\": 1, \"FirstLetter\": \"L\", \"SecondLetter\": \"o\", \"FirstTwoLetters\": \"Lo\"}, {\"StichtagDatJahr\": 2011, \"Vorname\": \"Lotti\", \"SexLang\": \"weiblich\", \"AnzGebuWir\": 1, \"FirstLetter\": \"L\", \"SecondLetter\": \"o\", \"FirstTwoLetters\": \"Lo\"}, {\"StichtagDatJahr\": 2011, \"Vorname\": \"Louane\", \"SexLang\": \"weiblich\", \"AnzGebuWir\": 1, \"FirstLetter\": \"L\", \"SecondLetter\": \"o\", \"FirstTwoLetters\": \"Lo\"}, {\"StichtagDatJahr\": 2011, \"Vorname\": \"Loulou\", \"SexLang\": \"weiblich\", \"AnzGebuWir\": 1, \"FirstLetter\": \"L\", \"SecondLetter\": \"o\", \"FirstTwoLetters\": \"Lo\"}, {\"StichtagDatJahr\": 2016, \"Vorname\": \"Louana\", \"SexLang\": \"weiblich\", \"AnzGebuWir\": 1, \"FirstLetter\": \"L\", \"SecondLetter\": \"o\", \"FirstTwoLetters\": \"Lo\"}, {\"StichtagDatJahr\": 2016, \"Vorname\": \"Loa\", \"SexLang\": \"weiblich\", \"AnzGebuWir\": 1, \"FirstLetter\": \"L\", \"SecondLetter\": \"o\", \"FirstTwoLetters\": \"Lo\"}, {\"StichtagDatJahr\": 2016, \"Vorname\": \"Lola\", \"SexLang\": \"weiblich\", \"AnzGebuWir\": 1, \"FirstLetter\": \"L\", \"SecondLetter\": \"o\", \"FirstTwoLetters\": \"Lo\"}, {\"StichtagDatJahr\": 2016, \"Vorname\": \"Lone\", \"SexLang\": \"weiblich\", \"AnzGebuWir\": 1, \"FirstLetter\": \"L\", \"SecondLetter\": \"o\", \"FirstTwoLetters\": \"Lo\"}, {\"StichtagDatJahr\": 2016, \"Vorname\": \"Loni\", \"SexLang\": \"weiblich\", \"AnzGebuWir\": 1, \"FirstLetter\": \"L\", \"SecondLetter\": \"o\", \"FirstTwoLetters\": \"Lo\"}, {\"StichtagDatJahr\": 2016, \"Vorname\": \"Lorea\", \"SexLang\": \"weiblich\", \"AnzGebuWir\": 1, \"FirstLetter\": \"L\", \"SecondLetter\": \"o\", \"FirstTwoLetters\": \"Lo\"}, {\"StichtagDatJahr\": 2016, \"Vorname\": \"Loredana\", \"SexLang\": \"weiblich\", \"AnzGebuWir\": 1, \"FirstLetter\": \"L\", \"SecondLetter\": \"o\", \"FirstTwoLetters\": \"Lo\"}, {\"StichtagDatJahr\": 2016, \"Vorname\": \"Lorine\", \"SexLang\": \"weiblich\", \"AnzGebuWir\": 1, \"FirstLetter\": \"L\", \"SecondLetter\": \"o\", \"FirstTwoLetters\": \"Lo\"}, {\"StichtagDatJahr\": 2016, \"Vorname\": \"Lotte\", \"SexLang\": \"weiblich\", \"AnzGebuWir\": 1, \"FirstLetter\": \"L\", \"SecondLetter\": \"o\", \"FirstTwoLetters\": \"Lo\"}, {\"StichtagDatJahr\": 2016, \"Vorname\": \"Lou-Ann\", \"SexLang\": \"weiblich\", \"AnzGebuWir\": 1, \"FirstLetter\": \"L\", \"SecondLetter\": \"o\", \"FirstTwoLetters\": \"Lo\"}, {\"StichtagDatJahr\": 2017, \"Vorname\": \"Louanne\", \"SexLang\": \"weiblich\", \"AnzGebuWir\": 1, \"FirstLetter\": \"L\", \"SecondLetter\": \"o\", \"FirstTwoLetters\": \"Lo\"}, {\"StichtagDatJahr\": 2017, \"Vorname\": \"Louison\", \"SexLang\": \"weiblich\", \"AnzGebuWir\": 1, \"FirstLetter\": \"L\", \"SecondLetter\": \"o\", \"FirstTwoLetters\": \"Lo\"}, {\"StichtagDatJahr\": 2017, \"Vorname\": \"Lovelynn\", \"SexLang\": \"weiblich\", \"AnzGebuWir\": 1, \"FirstLetter\": \"L\", \"SecondLetter\": \"o\", \"FirstTwoLetters\": \"Lo\"}, {\"StichtagDatJahr\": 2017, \"Vorname\": \"Louane\", \"SexLang\": \"weiblich\", \"AnzGebuWir\": 1, \"FirstLetter\": \"L\", \"SecondLetter\": \"o\", \"FirstTwoLetters\": \"Lo\"}, {\"StichtagDatJahr\": 2017, \"Vorname\": \"Louana\", \"SexLang\": \"weiblich\", \"AnzGebuWir\": 1, \"FirstLetter\": \"L\", \"SecondLetter\": \"o\", \"FirstTwoLetters\": \"Lo\"}, {\"StichtagDatJahr\": 2017, \"Vorname\": \"Lottie\", \"SexLang\": \"weiblich\", \"AnzGebuWir\": 1, \"FirstLetter\": \"L\", \"SecondLetter\": \"o\", \"FirstTwoLetters\": \"Lo\"}, {\"StichtagDatJahr\": 2017, \"Vorname\": \"Lotte\", \"SexLang\": \"weiblich\", \"AnzGebuWir\": 1, \"FirstLetter\": \"L\", \"SecondLetter\": \"o\", \"FirstTwoLetters\": \"Lo\"}, {\"StichtagDatJahr\": 2017, \"Vorname\": \"Loanne\", \"SexLang\": \"weiblich\", \"AnzGebuWir\": 1, \"FirstLetter\": \"L\", \"SecondLetter\": \"o\", \"FirstTwoLetters\": \"Lo\"}, {\"StichtagDatJahr\": 2017, \"Vorname\": \"Loe\", \"SexLang\": \"weiblich\", \"AnzGebuWir\": 1, \"FirstLetter\": \"L\", \"SecondLetter\": \"o\", \"FirstTwoLetters\": \"Lo\"}, {\"StichtagDatJahr\": 2017, \"Vorname\": \"Loira\", \"SexLang\": \"weiblich\", \"AnzGebuWir\": 1, \"FirstLetter\": \"L\", \"SecondLetter\": \"o\", \"FirstTwoLetters\": \"Lo\"}, {\"StichtagDatJahr\": 2017, \"Vorname\": \"Lola\", \"SexLang\": \"weiblich\", \"AnzGebuWir\": 1, \"FirstLetter\": \"L\", \"SecondLetter\": \"o\", \"FirstTwoLetters\": \"Lo\"}, {\"StichtagDatJahr\": 2017, \"Vorname\": \"Loretta\", \"SexLang\": \"weiblich\", \"AnzGebuWir\": 1, \"FirstLetter\": \"L\", \"SecondLetter\": \"o\", \"FirstTwoLetters\": \"Lo\"}, {\"StichtagDatJahr\": 2017, \"Vorname\": \"Lorisa\", \"SexLang\": \"weiblich\", \"AnzGebuWir\": 1, \"FirstLetter\": \"L\", \"SecondLetter\": \"o\", \"FirstTwoLetters\": \"Lo\"}, {\"StichtagDatJahr\": 2014, \"Vorname\": \"Loena\", \"SexLang\": \"weiblich\", \"AnzGebuWir\": 1, \"FirstLetter\": \"L\", \"SecondLetter\": \"o\", \"FirstTwoLetters\": \"Lo\"}, {\"StichtagDatJahr\": 2014, \"Vorname\": \"Lo\\u00efse\", \"SexLang\": \"weiblich\", \"AnzGebuWir\": 1, \"FirstLetter\": \"L\", \"SecondLetter\": \"o\", \"FirstTwoLetters\": \"Lo\"}, {\"StichtagDatJahr\": 2014, \"Vorname\": \"Lorane\", \"SexLang\": \"weiblich\", \"AnzGebuWir\": 1, \"FirstLetter\": \"L\", \"SecondLetter\": \"o\", \"FirstTwoLetters\": \"Lo\"}, {\"StichtagDatJahr\": 2014, \"Vorname\": \"Loreen\", \"SexLang\": \"weiblich\", \"AnzGebuWir\": 1, \"FirstLetter\": \"L\", \"SecondLetter\": \"o\", \"FirstTwoLetters\": \"Lo\"}, {\"StichtagDatJahr\": 2014, \"Vorname\": \"Loretta\", \"SexLang\": \"weiblich\", \"AnzGebuWir\": 1, \"FirstLetter\": \"L\", \"SecondLetter\": \"o\", \"FirstTwoLetters\": \"Lo\"}, {\"StichtagDatJahr\": 2014, \"Vorname\": \"Lorisa\", \"SexLang\": \"weiblich\", \"AnzGebuWir\": 1, \"FirstLetter\": \"L\", \"SecondLetter\": \"o\", \"FirstTwoLetters\": \"Lo\"}, {\"StichtagDatJahr\": 2015, \"Vorname\": \"Lo\", \"SexLang\": \"weiblich\", \"AnzGebuWir\": 1, \"FirstLetter\": \"L\", \"SecondLetter\": \"o\", \"FirstTwoLetters\": \"Lo\"}, {\"StichtagDatJahr\": 2015, \"Vorname\": \"Lois\", \"SexLang\": \"weiblich\", \"AnzGebuWir\": 1, \"FirstLetter\": \"L\", \"SecondLetter\": \"o\", \"FirstTwoLetters\": \"Lo\"}, {\"StichtagDatJahr\": 2015, \"Vorname\": \"Loora\", \"SexLang\": \"weiblich\", \"AnzGebuWir\": 1, \"FirstLetter\": \"L\", \"SecondLetter\": \"o\", \"FirstTwoLetters\": \"Lo\"}, {\"StichtagDatJahr\": 2015, \"Vorname\": \"Lor\", \"SexLang\": \"weiblich\", \"AnzGebuWir\": 1, \"FirstLetter\": \"L\", \"SecondLetter\": \"o\", \"FirstTwoLetters\": \"Lo\"}, {\"StichtagDatJahr\": 2015, \"Vorname\": \"Lora\", \"SexLang\": \"weiblich\", \"AnzGebuWir\": 1, \"FirstLetter\": \"L\", \"SecondLetter\": \"o\", \"FirstTwoLetters\": \"Lo\"}, {\"StichtagDatJahr\": 2015, \"Vorname\": \"Loresa\", \"SexLang\": \"weiblich\", \"AnzGebuWir\": 1, \"FirstLetter\": \"L\", \"SecondLetter\": \"o\", \"FirstTwoLetters\": \"Lo\"}, {\"StichtagDatJahr\": 2015, \"Vorname\": \"Lorine\", \"SexLang\": \"weiblich\", \"AnzGebuWir\": 1, \"FirstLetter\": \"L\", \"SecondLetter\": \"o\", \"FirstTwoLetters\": \"Lo\"}, {\"StichtagDatJahr\": 2015, \"Vorname\": \"Lotte\", \"SexLang\": \"weiblich\", \"AnzGebuWir\": 1, \"FirstLetter\": \"L\", \"SecondLetter\": \"o\", \"FirstTwoLetters\": \"Lo\"}, {\"StichtagDatJahr\": 2015, \"Vorname\": \"Louane\", \"SexLang\": \"weiblich\", \"AnzGebuWir\": 1, \"FirstLetter\": \"L\", \"SecondLetter\": \"o\", \"FirstTwoLetters\": \"Lo\"}]}}, {\"mode\": \"vega-lite\"});\n",
       "</script>"
      ],
      "text/plain": [
       "alt.RepeatChart(...)"
      ]
     },
     "execution_count": 25,
     "metadata": {},
     "output_type": "execute_result"
    }
   ],
   "source": [
    "#Siehe dazu Anleitung unter: https://altair-viz.github.io/gallery/scatter_matrix.html\n",
    "#Daten zu den Bsp. unter:https://altair-viz.github.io/gallery/index.html.\n",
    "\n",
    "alt.Chart(myGraphic).mark_circle().encode(\n",
    "    alt.X(alt.repeat(\"column\"), type='ordinal'), #es gibt folgende Typen (quantitative, ordinal, nominal, temporal)\n",
    "    alt.Y(alt.repeat(\"row\"), type='quantitative'),\n",
    "    color='Vorname'\n",
    ").properties(\n",
    "    width=150,\n",
    "    height=150\n",
    ").repeat(\n",
    "    column=['Vorname', 'FirstLetter', 'FirstTwoLetters'],\n",
    "    row=['StichtagDatJahr', 'AnzGebuWir']\n",
    ").interactive()"
   ]
  },
  {
   "cell_type": "code",
   "execution_count": 26,
   "metadata": {},
   "outputs": [
    {
     "data": {
      "image/png": "[encoded data removed]",
      "text/plain": [
       "<Figure size 432x288 with 1 Axes>"
      ]
     },
     "metadata": {},
     "output_type": "display_data"
    }
   ],
   "source": [
    "import seaborn as sns\n",
    "sns.set(style=\"darkgrid\")\n",
    "sns.histplot(data=data2betested[(data2betested.StichtagDatJahr==2020)] , x=\"FirstLetter\") #, y=\"SexLang\")\n",
    "plt.show();"
   ]
  },
  {
   "cell_type": "markdown",
   "metadata": {},
   "source": [
    "Test: Choroplethenkarte"
   ]
  },
  {
   "cell_type": "markdown",
   "metadata": {},
   "source": [
    "**Test: Choroplethenkarte**\n",
    "Importiere die Geodaten als GeoJSON"
   ]
  },
  {
   "cell_type": "code",
   "execution_count": 27,
   "metadata": {},
   "outputs": [
    {
     "data": {
      "text/html": [
       "<div>\n",
       "<style scoped>\n",
       "    .dataframe tbody tr th:only-of-type {\n",
       "        vertical-align: middle;\n",
       "    }\n",
       "\n",
       "    .dataframe tbody tr th {\n",
       "        vertical-align: top;\n",
       "    }\n",
       "\n",
       "    .dataframe thead th {\n",
       "        text-align: right;\n",
       "    }\n",
       "</style>\n",
       "<table border=\"1\" class=\"dataframe\">\n",
       "  <thead>\n",
       "    <tr style=\"text-align: right;\">\n",
       "      <th></th>\n",
       "      <th>objectid</th>\n",
       "      <th>objid</th>\n",
       "      <th>stznr</th>\n",
       "      <th>stzname</th>\n",
       "      <th>qnr</th>\n",
       "      <th>qname</th>\n",
       "      <th>knr</th>\n",
       "      <th>kname</th>\n",
       "      <th>geometry</th>\n",
       "    </tr>\n",
       "  </thead>\n",
       "  <tbody>\n",
       "    <tr>\n",
       "      <th>0</th>\n",
       "      <td>1</td>\n",
       "      <td>154</td>\n",
       "      <td>7303</td>\n",
       "      <td>Hegibach</td>\n",
       "      <td>73</td>\n",
       "      <td>Hirslanden</td>\n",
       "      <td>7</td>\n",
       "      <td>Kreis 7</td>\n",
       "      <td>POLYGON ((8.55670 47.36407, 8.55670 47.36406, ...</td>\n",
       "    </tr>\n",
       "    <tr>\n",
       "      <th>1</th>\n",
       "      <td>2</td>\n",
       "      <td>89</td>\n",
       "      <td>7302</td>\n",
       "      <td>Klus</td>\n",
       "      <td>73</td>\n",
       "      <td>Hirslanden</td>\n",
       "      <td>7</td>\n",
       "      <td>Kreis 7</td>\n",
       "      <td>POLYGON ((8.57281 47.35806, 8.57274 47.35804, ...</td>\n",
       "    </tr>\n",
       "  </tbody>\n",
       "</table>\n",
       "</div>"
      ],
      "text/plain": [
       "   objectid objid  stznr   stzname  qnr       qname  knr    kname  \\\n",
       "0         1   154   7303  Hegibach   73  Hirslanden    7  Kreis 7   \n",
       "1         2    89   7302      Klus   73  Hirslanden    7  Kreis 7   \n",
       "\n",
       "                                            geometry  \n",
       "0  POLYGON ((8.55670 47.36407, 8.55670 47.36406, ...  \n",
       "1  POLYGON ((8.57281 47.35806, 8.57274 47.35804, ...  "
      ]
     },
     "execution_count": 27,
     "metadata": {},
     "output_type": "execute_result"
    }
   ],
   "source": [
    "# Read abt. Geopandas https://geopandas.org/docs/user_guide/io.html\n",
    "# Filepath statzonen\n",
    "input_statzonen = r\"//szh.loc/ssz/data/GIS/Daten/Vektor/_aktuell/stzh.adm_statzonen_map.json\"\n",
    "df_statzonen = gpd.read_file(input_statzonen)\n",
    "df_statzonen.head(2)\n"
   ]
  },
  {
   "cell_type": "markdown",
   "metadata": {},
   "source": [
    "Joine die importierten statistischen Daten des aktuellen Jahres zum Geodatensatz:\n",
    "\n",
    "*Siehe dazu Doku zu [Geopandas](https://geopandas.org/docs/user_guide/mergingdata.html)*"
   ]
  },
  {
   "cell_type": "markdown",
   "metadata": {},
   "source": [
    "#Link https://automating-gis-processes.github.io/site/notebooks/L5/interactive-map-folium.html\n",
    "\n",
    "# Create a Map instance\n",
    "m = folium.Map(location=[60.25, 24.8], tiles = 'cartodbpositron', zoom_start=10, control_scale=True)\n",
    "\n",
    "# Plot a choropleth map\n",
    "# Notice: 'geoid' column that we created earlier needs to be assigned always as the first column\n",
    "folium.Choropleth(\n",
    "    geo_data=data,\n",
    "    name='Population in 2018',\n",
    "    data=data,\n",
    "    columns=['geoid', 'pop18'],\n",
    "    key_on='feature.id',\n",
    "    fill_color='YlOrRd',\n",
    "    fill_opacity=0.7,\n",
    "    line_opacity=0.2,\n",
    "    line_color='white',\n",
    "    line_weight=0,\n",
    "    highlight=False,\n",
    "    smooth_factor=1.0,\n",
    "    #threshold_scale=[100, 250, 500, 1000, 2000],\n",
    "    legend_name= 'Population in Helsinki').add_to(m)\n",
    "\n",
    "#Show map\n",
    "m"
   ]
  },
  {
   "cell_type": "markdown",
   "metadata": {},
   "source": [
    "Noch zu prüfen, folgendes schöne Beispiel: https://docs.bokeh.org/en/latest/docs/user_guide/interaction/legends.html\n",
    "\n",
    "Konkrete Beispiele von Bookeh in Jupyter NB: https://docs.bokeh.org/en/latest/docs/user_guide/jupyter.html"
   ]
  },
  {
   "cell_type": "code",
   "execution_count": null,
   "metadata": {},
   "outputs": [],
   "source": [
    "\n"
   ]
  },
  {
   "cell_type": "code",
   "execution_count": null,
   "metadata": {},
   "outputs": [],
   "source": []
  }
 ],
 "metadata": {
  "kernelspec": {
   "display_name": "Python 3 (ipykernel)",
   "language": "python",
   "name": "python3"
  },
  "language_info": {
   "codemirror_mode": {
    "name": "ipython",
    "version": 3
   },
   "file_extension": ".py",
   "mimetype": "text/x-python",
   "name": "python",
   "nbconvert_exporter": "python",
   "pygments_lexer": "ipython3",
   "version": "3.9.7"
  }
 },
 "nbformat": 4,
 "nbformat_minor": 4
}
