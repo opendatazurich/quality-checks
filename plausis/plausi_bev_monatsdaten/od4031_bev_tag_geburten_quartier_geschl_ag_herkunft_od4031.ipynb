{
 "cells": [
  {
   "cell_type": "markdown",
   "metadata": {},
   "source": [
    "# Testing\n",
    "## Geburten nach Tag, Stadtquartier, Geschlecht, Altersgruppe und Herkunft, seit 1998\n",
    "Datum: 20.01.2022"
   ]
  },
  {
   "cell_type": "markdown",
   "metadata": {},
   "source": [
    "### Importiere die notwendigen Packages"
   ]
  },
  {
   "cell_type": "code",
   "execution_count": 126,
   "metadata": {},
   "outputs": [],
   "source": [
    "import pandas as pd\n",
    "import pivottablejs\n",
    "from pivottablejs import pivot_ui\n",
    "import numpy as np\n",
    "import altair as alt\n",
    "import matplotlib.pyplot as plt\n",
    "#from datetime import datetime\n",
    "import datetime\n",
    "import geopandas as gpd\n",
    "import folium \n",
    "import plotly.express as px\n"
   ]
  },
  {
   "cell_type": "markdown",
   "metadata": {},
   "source": [
    "Definiere Settings. Hier das Zahlenformat von Float-Werten (z.B. *'{:,.2f}'.format* mit Komma als Tausenderzeichen), "
   ]
  },
  {
   "cell_type": "code",
   "execution_count": 127,
   "metadata": {},
   "outputs": [],
   "source": [
    "pd.options.display.float_format = '{:.0f}'.format\n",
    "pd.set_option('display.width', 100)\n",
    "pd.set_option('display.max_columns', 15)"
   ]
  },
  {
   "cell_type": "markdown",
   "metadata": {},
   "source": [
    "### Zeitvariabeln\n",
    "Bestimme den aktuellst geladenen Monat. Hier ist es der Stand vor 2 Monaten. \n",
    "Bestimme noch weitere evt. sinnvolle Zeitvariabeln.\n",
    "\n",
    "Zum Unterschied zwischen import datetime und from datedtime import datetime, siehe https://stackoverflow.com/questions/15707532/import-datetime-v-s-from-datetime-import-datetime\n",
    "\n",
    "Zuerst die Zeitvariabeln als Strings"
   ]
  },
  {
   "cell_type": "code",
   "execution_count": 128,
   "metadata": {},
   "outputs": [],
   "source": [
    "#today_date = datetime.date.today()\n",
    "#date_time = datetime.datetime.strptime(date_time_string, '%Y-%m-%d %H:%M')\n",
    "now = datetime.date.today()\n",
    "date_today = now.strftime(\"%Y-%m-%d\")\n",
    "year_today = now.strftime(\"%Y\")\n",
    "month_today = now.strftime(\"%m\")\n",
    "day_today = now.strftime(\"%d\")\n"
   ]
  },
  {
   "cell_type": "markdown",
   "metadata": {},
   "source": [
    "Und hier noch die Zeitvariabeln als Integers:\n",
    "- `aktuellesJahr`\n",
    "- `aktuellerMonat`: Der gerade jetzt aktuelle Monat\n",
    "- `selectedMonat`: Der aktuellste Monat in den Daten. In der Regel zwei Monate her."
   ]
  },
  {
   "cell_type": "code",
   "execution_count": 129,
   "metadata": {},
   "outputs": [
    {
     "name": "stdout",
     "output_type": "stream",
     "text": [
      "2022 1 datenstand:  -1 time.struct_time(tm_year=2022, tm_mon=1, tm_mday=21, tm_hour=0, tm_min=0, tm_sec=0, tm_wday=4, tm_yday=21, tm_isdst=-1)\n"
     ]
    }
   ],
   "source": [
    "#now = datetime.now() \n",
    "int_times = now.timetuple()\n",
    "\n",
    "aktuellesJahr = int_times[0]\n",
    "aktuellerMonat = int_times[1]\n",
    "selectedMonat = int_times[1]-2\n",
    "\n",
    "print(aktuellesJahr, \n",
    "      aktuellerMonat,\n",
    "    'datenstand: ', selectedMonat,\n",
    "     int_times)\n"
   ]
  },
  {
   "cell_type": "markdown",
   "metadata": {},
   "source": [
    "Berechne die Variable Epoche um später das SAS-Datum in ein Unix-Datum umzuwandeln. Bei SAS beginnt die Epoche am 1.1.1960. Bei Unix am 1.1.1970.\n",
    "Diese Variable wird beim CSV-Import benötigt."
   ]
  },
  {
   "cell_type": "code",
   "execution_count": 130,
   "metadata": {},
   "outputs": [],
   "source": [
    "epoch = datetime.datetime(1960, 1, 1)"
   ]
  },
  {
   "cell_type": "markdown",
   "metadata": {
    "tags": []
   },
   "source": [
    "### Importiere einen Datensatz \n",
    "\n",
    "- Beachte dabei die Notation des Pfades...\n",
    "- Definiere mal aktuell noch keine weiteren Parameter beim Import"
   ]
  },
  {
   "cell_type": "markdown",
   "metadata": {},
   "source": [
    "**Dataset auf INTEG Datenkatalog**:  https://data.integ.stadt-zuerich.ch/dataset/int_dwh_bev_tag_geburten_quartier_geschl_ag_herkunft_od403\n",
    "\n",
    "**Dataset auf PROD Datenkatalog**:  https://data.stadt-zuerich.ch/dataset/bev_tag_geburten_quartier_geschl_ag_herkunft_od403"
   ]
  },
  {
   "cell_type": "code",
   "execution_count": 131,
   "metadata": {},
   "outputs": [
    {
     "name": "stdout",
     "output_type": "stream",
     "text": [
      "integ\n"
     ]
    }
   ],
   "source": [
    "#Die Datasets sind nur zum Testen auf INT-DWH-Dropzone. Wenn der Test vorbei ist, sind sie auf PROD. \n",
    "# Über den Status kann man einfach switchen\n",
    "\n",
    "status = \"integ\";\n",
    "print(status)"
   ]
  },
  {
   "cell_type": "code",
   "execution_count": 132,
   "metadata": {
    "tags": []
   },
   "outputs": [
    {
     "name": "stdout",
     "output_type": "stream",
     "text": [
      "\\\\szh\\ssz\\applikationen\\OGD_Dropzone\\INT_DWH\\bev_tag_geburten_quartier_geschl_ag_herkunft_od4031\\BEV403OD4031.csv\n"
     ]
    }
   ],
   "source": [
    "# Filepath\n",
    "if status == \"prod\":\n",
    "    #fp = r\"//szh.loc/ssz/applikationen/OGD_Dropzone/DWH/bev_monat_bestand_quartier_geschl_ag_herkunft_od3250/BEV325OD3250.csv\"\n",
    "    fp = r\"https://data.stadt-zuerich.ch/dataset/bev_tag_geburten_quartier_geschl_ag_herkunft_od4031/download/BEV403OD4031.csv\"\n",
    "else:\n",
    "    fp = r\"\\\\szh\\ssz\\applikationen\\OGD_Dropzone\\INT_DWH\\bev_tag_geburten_quartier_geschl_ag_herkunft_od4031\\BEV403OD4031.csv\" #tag todesfälle\n",
    "  #fp = r\"https://data.integ.stadt-zuerich.ch/dataset/int_dwh_bev_tag_todesfaelle_quartier_geschl_ag_herkunft_od4211/download/BEV421OD4211.csv\"\n",
    "\n",
    "\n",
    "print(fp)"
   ]
  },
  {
   "cell_type": "markdown",
   "metadata": {},
   "source": [
    "Beachte, wie das SAS Datum (ohne Format) in ein UNIX Datum umgerechnet und als Datumsformat dargestellt wird! Siehe dazu `https://stackoverflow.com/questions/26923564/convert-sas-numeric-to-python-datetime`"
   ]
  },
  {
   "cell_type": "code",
   "execution_count": 133,
   "metadata": {},
   "outputs": [
    {
     "name": "stdout",
     "output_type": "stream",
     "text": [
      "done\n"
     ]
    }
   ],
   "source": [
    "# Read the data\n",
    "data2betested = pd.read_csv(\n",
    "    fp, \n",
    "    sep=',',\n",
    "    parse_dates=['GueltigAbDat'],\n",
    "    # KONVERTIERE DAS SAS DATUM IN EIN UNIXDATUM UND FORMATIERE ES\n",
    "    date_parser=lambda s: epoch + datetime.timedelta(days=int(s)),\n",
    "    low_memory=False    \n",
    "    )\n",
    "\n",
    "print('done')"
   ]
  },
  {
   "cell_type": "markdown",
   "metadata": {},
   "source": [
    "In der Folge ein paar erste Tests:"
   ]
  },
  {
   "cell_type": "markdown",
   "metadata": {},
   "source": [
    " - 1) Zeige eine kurze Vorschau der importierten Daten\n",
    " - 2) Weise die Datentypen aus\n",
    " - 3) Zeige die Shape (Umfang) des Datensatzes an"
   ]
  },
  {
   "cell_type": "code",
   "execution_count": 134,
   "metadata": {},
   "outputs": [
    {
     "data": {
      "text/html": [
       "<div>\n",
       "<style scoped>\n",
       "    .dataframe tbody tr th:only-of-type {\n",
       "        vertical-align: middle;\n",
       "    }\n",
       "\n",
       "    .dataframe tbody tr th {\n",
       "        vertical-align: top;\n",
       "    }\n",
       "\n",
       "    .dataframe thead th {\n",
       "        text-align: right;\n",
       "    }\n",
       "</style>\n",
       "<table border=\"1\" class=\"dataframe\">\n",
       "  <thead>\n",
       "    <tr style=\"text-align: right;\">\n",
       "      <th></th>\n",
       "      <th>GueltigAbDatJahr</th>\n",
       "      <th>GueltigAbDatMM</th>\n",
       "      <th>GueltigAbDatDD</th>\n",
       "      <th>GueltigAbDat</th>\n",
       "      <th>SexCd</th>\n",
       "      <th>SexLang</th>\n",
       "      <th>HerkunftCd</th>\n",
       "      <th>HerkunftLang</th>\n",
       "      <th>KreisCd</th>\n",
       "      <th>KreisLang</th>\n",
       "      <th>QuarCd</th>\n",
       "      <th>QuarLang</th>\n",
       "      <th>DatenstandCd</th>\n",
       "      <th>DatenstandLang</th>\n",
       "      <th>AnzGebuWir</th>\n",
       "    </tr>\n",
       "  </thead>\n",
       "  <tbody>\n",
       "    <tr>\n",
       "      <th>97234</th>\n",
       "      <td>2021</td>\n",
       "      <td>11</td>\n",
       "      <td>1</td>\n",
       "      <td>2021-11-01</td>\n",
       "      <td>1</td>\n",
       "      <td>männlich</td>\n",
       "      <td>1</td>\n",
       "      <td>Schweizer/in</td>\n",
       "      <td>5</td>\n",
       "      <td>Kreis 5</td>\n",
       "      <td>52</td>\n",
       "      <td>Escher Wyss</td>\n",
       "      <td>P</td>\n",
       "      <td>Provisorisch</td>\n",
       "      <td>1</td>\n",
       "    </tr>\n",
       "    <tr>\n",
       "      <th>97235</th>\n",
       "      <td>2021</td>\n",
       "      <td>11</td>\n",
       "      <td>1</td>\n",
       "      <td>2021-11-01</td>\n",
       "      <td>1</td>\n",
       "      <td>männlich</td>\n",
       "      <td>1</td>\n",
       "      <td>Schweizer/in</td>\n",
       "      <td>8</td>\n",
       "      <td>Kreis 8</td>\n",
       "      <td>81</td>\n",
       "      <td>Seefeld</td>\n",
       "      <td>P</td>\n",
       "      <td>Provisorisch</td>\n",
       "      <td>1</td>\n",
       "    </tr>\n",
       "    <tr>\n",
       "      <th>97236</th>\n",
       "      <td>2021</td>\n",
       "      <td>11</td>\n",
       "      <td>1</td>\n",
       "      <td>2021-11-01</td>\n",
       "      <td>1</td>\n",
       "      <td>männlich</td>\n",
       "      <td>1</td>\n",
       "      <td>Schweizer/in</td>\n",
       "      <td>9</td>\n",
       "      <td>Kreis 9</td>\n",
       "      <td>91</td>\n",
       "      <td>Albisrieden</td>\n",
       "      <td>P</td>\n",
       "      <td>Provisorisch</td>\n",
       "      <td>1</td>\n",
       "    </tr>\n",
       "  </tbody>\n",
       "</table>\n",
       "</div>"
      ],
      "text/plain": [
       "       GueltigAbDatJahr  GueltigAbDatMM  GueltigAbDatDD GueltigAbDat  SexCd   SexLang  HerkunftCd  \\\n",
       "97234              2021              11               1   2021-11-01      1  männlich           1   \n",
       "97235              2021              11               1   2021-11-01      1  männlich           1   \n",
       "97236              2021              11               1   2021-11-01      1  männlich           1   \n",
       "\n",
       "       HerkunftLang  KreisCd KreisLang  QuarCd     QuarLang DatenstandCd DatenstandLang  \\\n",
       "97234  Schweizer/in        5   Kreis 5      52  Escher Wyss            P   Provisorisch   \n",
       "97235  Schweizer/in        8   Kreis 8      81      Seefeld            P   Provisorisch   \n",
       "97236  Schweizer/in        9   Kreis 9      91  Albisrieden            P   Provisorisch   \n",
       "\n",
       "       AnzGebuWir  \n",
       "97234           1  \n",
       "97235           1  \n",
       "97236           1  "
      ]
     },
     "execution_count": 134,
     "metadata": {},
     "output_type": "execute_result"
    }
   ],
   "source": [
    "data2betested.sort_values(by=['GueltigAbDatJahr','GueltigAbDatMM'], ascending=False).head(3)"
   ]
  },
  {
   "cell_type": "code",
   "execution_count": 135,
   "metadata": {},
   "outputs": [
    {
     "data": {
      "text/plain": [
       "GueltigAbDatJahr             int64\n",
       "GueltigAbDatMM               int64\n",
       "GueltigAbDatDD               int64\n",
       "GueltigAbDat        datetime64[ns]\n",
       "SexCd                        int64\n",
       "SexLang                     object\n",
       "HerkunftCd                   int64\n",
       "HerkunftLang                object\n",
       "KreisCd                      int64\n",
       "KreisLang                   object\n",
       "QuarCd                       int64\n",
       "QuarLang                    object\n",
       "DatenstandCd                object\n",
       "DatenstandLang              object\n",
       "AnzGebuWir                   int64\n",
       "dtype: object"
      ]
     },
     "execution_count": 135,
     "metadata": {},
     "output_type": "execute_result"
    }
   ],
   "source": [
    "data2betested.dtypes"
   ]
  },
  {
   "cell_type": "code",
   "execution_count": 136,
   "metadata": {},
   "outputs": [
    {
     "data": {
      "text/plain": [
       "(97579, 15)"
      ]
     },
     "execution_count": 136,
     "metadata": {},
     "output_type": "execute_result"
    }
   ],
   "source": [
    "data2betested.shape"
   ]
  },
  {
   "cell_type": "markdown",
   "metadata": {},
   "source": [
    "Beschreibe einzelne Attribute"
   ]
  },
  {
   "cell_type": "code",
   "execution_count": 137,
   "metadata": {},
   "outputs": [
    {
     "data": {
      "text/html": [
       "<div>\n",
       "<style scoped>\n",
       "    .dataframe tbody tr th:only-of-type {\n",
       "        vertical-align: middle;\n",
       "    }\n",
       "\n",
       "    .dataframe tbody tr th {\n",
       "        vertical-align: top;\n",
       "    }\n",
       "\n",
       "    .dataframe thead th {\n",
       "        text-align: right;\n",
       "    }\n",
       "</style>\n",
       "<table border=\"1\" class=\"dataframe\">\n",
       "  <thead>\n",
       "    <tr style=\"text-align: right;\">\n",
       "      <th></th>\n",
       "      <th>GueltigAbDatJahr</th>\n",
       "      <th>GueltigAbDatMM</th>\n",
       "      <th>GueltigAbDatDD</th>\n",
       "      <th>SexCd</th>\n",
       "      <th>HerkunftCd</th>\n",
       "      <th>KreisCd</th>\n",
       "      <th>QuarCd</th>\n",
       "      <th>AnzGebuWir</th>\n",
       "    </tr>\n",
       "  </thead>\n",
       "  <tbody>\n",
       "    <tr>\n",
       "      <th>count</th>\n",
       "      <td>97579</td>\n",
       "      <td>97579</td>\n",
       "      <td>97579</td>\n",
       "      <td>97579</td>\n",
       "      <td>97579</td>\n",
       "      <td>97579</td>\n",
       "      <td>97579</td>\n",
       "      <td>97579</td>\n",
       "    </tr>\n",
       "    <tr>\n",
       "      <th>mean</th>\n",
       "      <td>2010</td>\n",
       "      <td>7</td>\n",
       "      <td>16</td>\n",
       "      <td>1</td>\n",
       "      <td>1</td>\n",
       "      <td>7</td>\n",
       "      <td>75</td>\n",
       "      <td>1</td>\n",
       "    </tr>\n",
       "    <tr>\n",
       "      <th>std</th>\n",
       "      <td>7</td>\n",
       "      <td>3</td>\n",
       "      <td>9</td>\n",
       "      <td>0</td>\n",
       "      <td>0</td>\n",
       "      <td>3</td>\n",
       "      <td>34</td>\n",
       "      <td>0</td>\n",
       "    </tr>\n",
       "    <tr>\n",
       "      <th>min</th>\n",
       "      <td>1998</td>\n",
       "      <td>1</td>\n",
       "      <td>1</td>\n",
       "      <td>1</td>\n",
       "      <td>1</td>\n",
       "      <td>1</td>\n",
       "      <td>11</td>\n",
       "      <td>1</td>\n",
       "    </tr>\n",
       "    <tr>\n",
       "      <th>25%</th>\n",
       "      <td>2005</td>\n",
       "      <td>4</td>\n",
       "      <td>8</td>\n",
       "      <td>1</td>\n",
       "      <td>1</td>\n",
       "      <td>4</td>\n",
       "      <td>42</td>\n",
       "      <td>1</td>\n",
       "    </tr>\n",
       "    <tr>\n",
       "      <th>50%</th>\n",
       "      <td>2011</td>\n",
       "      <td>7</td>\n",
       "      <td>16</td>\n",
       "      <td>1</td>\n",
       "      <td>1</td>\n",
       "      <td>8</td>\n",
       "      <td>81</td>\n",
       "      <td>1</td>\n",
       "    </tr>\n",
       "    <tr>\n",
       "      <th>75%</th>\n",
       "      <td>2016</td>\n",
       "      <td>9</td>\n",
       "      <td>23</td>\n",
       "      <td>2</td>\n",
       "      <td>2</td>\n",
       "      <td>10</td>\n",
       "      <td>102</td>\n",
       "      <td>1</td>\n",
       "    </tr>\n",
       "    <tr>\n",
       "      <th>max</th>\n",
       "      <td>2021</td>\n",
       "      <td>12</td>\n",
       "      <td>31</td>\n",
       "      <td>2</td>\n",
       "      <td>2</td>\n",
       "      <td>12</td>\n",
       "      <td>123</td>\n",
       "      <td>5</td>\n",
       "    </tr>\n",
       "  </tbody>\n",
       "</table>\n",
       "</div>"
      ],
      "text/plain": [
       "       GueltigAbDatJahr  GueltigAbDatMM  GueltigAbDatDD  SexCd  HerkunftCd  KreisCd  QuarCd  \\\n",
       "count             97579           97579           97579  97579       97579    97579   97579   \n",
       "mean               2010               7              16      1           1        7      75   \n",
       "std                   7               3               9      0           0        3      34   \n",
       "min                1998               1               1      1           1        1      11   \n",
       "25%                2005               4               8      1           1        4      42   \n",
       "50%                2011               7              16      1           1        8      81   \n",
       "75%                2016               9              23      2           2       10     102   \n",
       "max                2021              12              31      2           2       12     123   \n",
       "\n",
       "       AnzGebuWir  \n",
       "count       97579  \n",
       "mean            1  \n",
       "std             0  \n",
       "min             1  \n",
       "25%             1  \n",
       "50%             1  \n",
       "75%             1  \n",
       "max             5  "
      ]
     },
     "execution_count": 137,
     "metadata": {},
     "output_type": "execute_result"
    }
   ],
   "source": [
    "data2betested.describe()"
   ]
  },
  {
   "cell_type": "markdown",
   "metadata": {},
   "source": [
    "Wie viele Nullwerte gibt es im Datensatz?"
   ]
  },
  {
   "cell_type": "code",
   "execution_count": 138,
   "metadata": {
    "scrolled": true
   },
   "outputs": [
    {
     "data": {
      "text/plain": [
       "GueltigAbDatJahr    0\n",
       "GueltigAbDatMM      0\n",
       "GueltigAbDatDD      0\n",
       "GueltigAbDat        0\n",
       "SexCd               0\n",
       "SexLang             0\n",
       "HerkunftCd          0\n",
       "HerkunftLang        0\n",
       "KreisCd             0\n",
       "KreisLang           0\n",
       "QuarCd              0\n",
       "QuarLang            0\n",
       "DatenstandCd        0\n",
       "DatenstandLang      0\n",
       "AnzGebuWir          0\n",
       "dtype: int64"
      ]
     },
     "execution_count": 138,
     "metadata": {},
     "output_type": "execute_result"
    }
   ],
   "source": [
    "data2betested.isnull().sum()"
   ]
  },
  {
   "cell_type": "markdown",
   "metadata": {
    "colab_type": "text",
    "id": "1dTPVmmsgOVx"
   },
   "source": [
    "### Verwende das Datum als Index\n",
    "\n",
    "While we did already parse the `datetime` column into the respective datetime type, it currently is just a regular column. \n",
    "**To enable quick and convenient queries and aggregations, we need to turn it into the index of the DataFrame**"
   ]
  },
  {
   "cell_type": "code",
   "execution_count": 139,
   "metadata": {},
   "outputs": [],
   "source": [
    "data2betested = data2betested.set_index(\"GueltigAbDat\")\n",
    "#data2betested = data2betested.drop(columns=[\"StichtagDatMM\"])"
   ]
  },
  {
   "cell_type": "code",
   "execution_count": 140,
   "metadata": {},
   "outputs": [
    {
     "name": "stdout",
     "output_type": "stream",
     "text": [
      "<class 'pandas.core.frame.DataFrame'>\n",
      "DatetimeIndex: 97579 entries, 1998-01-01 to 2021-11-30\n",
      "Data columns (total 14 columns):\n",
      " #   Column            Non-Null Count  Dtype \n",
      "---  ------            --------------  ----- \n",
      " 0   GueltigAbDatJahr  97579 non-null  int64 \n",
      " 1   GueltigAbDatMM    97579 non-null  int64 \n",
      " 2   GueltigAbDatDD    97579 non-null  int64 \n",
      " 3   SexCd             97579 non-null  int64 \n",
      " 4   SexLang           97579 non-null  object\n",
      " 5   HerkunftCd        97579 non-null  int64 \n",
      " 6   HerkunftLang      97579 non-null  object\n",
      " 7   KreisCd           97579 non-null  int64 \n",
      " 8   KreisLang         97579 non-null  object\n",
      " 9   QuarCd            97579 non-null  int64 \n",
      " 10  QuarLang          97579 non-null  object\n",
      " 11  DatenstandCd      97579 non-null  object\n",
      " 12  DatenstandLang    97579 non-null  object\n",
      " 13  AnzGebuWir        97579 non-null  int64 \n",
      "dtypes: int64(8), object(6)\n",
      "memory usage: 11.2+ MB\n"
     ]
    },
    {
     "data": {
      "text/plain": [
       "Int64Index([ 1,  2,  3,  4,  5,  6,  7,  8,  9, 10, 11, 12, 13, 14, 15, 16, 17, 18, 19, 20, 21, 22,\n",
       "            23, 24, 25, 26, 27, 28, 29, 30, 31],\n",
       "           dtype='int64', name='GueltigAbDat')"
      ]
     },
     "execution_count": 140,
     "metadata": {},
     "output_type": "execute_result"
    }
   ],
   "source": [
    "data2betested.info()\n",
    "data2betested.index.day.unique()"
   ]
  },
  {
   "cell_type": "markdown",
   "metadata": {},
   "source": [
    "### Einfache Visualisierungen zur Plausi"
   ]
  },
  {
   "cell_type": "markdown",
   "metadata": {},
   "source": [
    "Exploriere die Daten mit Pivottable.JS"
   ]
  },
  {
   "cell_type": "code",
   "execution_count": 141,
   "metadata": {},
   "outputs": [
    {
     "data": {
      "text/html": [
       "\n",
       "        <iframe\n",
       "            width=\"100%\"\n",
       "            height=\"500\"\n",
       "            src=\"pivottablejs.html\"\n",
       "            frameborder=\"0\"\n",
       "            allowfullscreen\n",
       "        ></iframe>\n",
       "        "
      ],
      "text/plain": [
       "<IPython.lib.display.IFrame at 0x23e35db3b80>"
      ]
     },
     "execution_count": 141,
     "metadata": {},
     "output_type": "execute_result"
    }
   ],
   "source": [
    "from pivottablejs import pivot_ui\n",
    "\n",
    "pivot_ui(data2betested)"
   ]
  },
  {
   "cell_type": "markdown",
   "metadata": {},
   "source": [
    "### Zeitpunkte und Zeiträume abfragen\n",
    "\n",
    "A particular powerful feature of the Pandas DataFrame is its indexing capability that also works using time-based entities, such as dates and times. We have already created the index above, so let's put it to use."
   ]
  },
  {
   "cell_type": "code",
   "execution_count": 142,
   "metadata": {},
   "outputs": [
    {
     "data": {
      "text/html": [
       "<div>\n",
       "<style scoped>\n",
       "    .dataframe tbody tr th:only-of-type {\n",
       "        vertical-align: middle;\n",
       "    }\n",
       "\n",
       "    .dataframe tbody tr th {\n",
       "        vertical-align: top;\n",
       "    }\n",
       "\n",
       "    .dataframe thead th {\n",
       "        text-align: right;\n",
       "    }\n",
       "</style>\n",
       "<table border=\"1\" class=\"dataframe\">\n",
       "  <thead>\n",
       "    <tr style=\"text-align: right;\">\n",
       "      <th></th>\n",
       "      <th>GueltigAbDatJahr</th>\n",
       "      <th>GueltigAbDatMM</th>\n",
       "      <th>GueltigAbDatDD</th>\n",
       "      <th>SexCd</th>\n",
       "      <th>SexLang</th>\n",
       "      <th>HerkunftCd</th>\n",
       "      <th>HerkunftLang</th>\n",
       "      <th>KreisCd</th>\n",
       "      <th>KreisLang</th>\n",
       "      <th>QuarCd</th>\n",
       "      <th>QuarLang</th>\n",
       "      <th>DatenstandCd</th>\n",
       "      <th>DatenstandLang</th>\n",
       "      <th>AnzGebuWir</th>\n",
       "    </tr>\n",
       "    <tr>\n",
       "      <th>GueltigAbDat</th>\n",
       "      <th></th>\n",
       "      <th></th>\n",
       "      <th></th>\n",
       "      <th></th>\n",
       "      <th></th>\n",
       "      <th></th>\n",
       "      <th></th>\n",
       "      <th></th>\n",
       "      <th></th>\n",
       "      <th></th>\n",
       "      <th></th>\n",
       "      <th></th>\n",
       "      <th></th>\n",
       "      <th></th>\n",
       "    </tr>\n",
       "  </thead>\n",
       "  <tbody>\n",
       "    <tr>\n",
       "      <th>2021-11-01</th>\n",
       "      <td>2021</td>\n",
       "      <td>11</td>\n",
       "      <td>1</td>\n",
       "      <td>1</td>\n",
       "      <td>männlich</td>\n",
       "      <td>1</td>\n",
       "      <td>Schweizer/in</td>\n",
       "      <td>5</td>\n",
       "      <td>Kreis 5</td>\n",
       "      <td>52</td>\n",
       "      <td>Escher Wyss</td>\n",
       "      <td>P</td>\n",
       "      <td>Provisorisch</td>\n",
       "      <td>1</td>\n",
       "    </tr>\n",
       "    <tr>\n",
       "      <th>2021-11-01</th>\n",
       "      <td>2021</td>\n",
       "      <td>11</td>\n",
       "      <td>1</td>\n",
       "      <td>1</td>\n",
       "      <td>männlich</td>\n",
       "      <td>1</td>\n",
       "      <td>Schweizer/in</td>\n",
       "      <td>8</td>\n",
       "      <td>Kreis 8</td>\n",
       "      <td>81</td>\n",
       "      <td>Seefeld</td>\n",
       "      <td>P</td>\n",
       "      <td>Provisorisch</td>\n",
       "      <td>1</td>\n",
       "    </tr>\n",
       "  </tbody>\n",
       "</table>\n",
       "</div>"
      ],
      "text/plain": [
       "              GueltigAbDatJahr  GueltigAbDatMM  GueltigAbDatDD  SexCd   SexLang  HerkunftCd  \\\n",
       "GueltigAbDat                                                                                  \n",
       "2021-11-01                2021              11               1      1  männlich           1   \n",
       "2021-11-01                2021              11               1      1  männlich           1   \n",
       "\n",
       "              HerkunftLang  KreisCd KreisLang  QuarCd     QuarLang DatenstandCd DatenstandLang  \\\n",
       "GueltigAbDat                                                                                     \n",
       "2021-11-01    Schweizer/in        5   Kreis 5      52  Escher Wyss            P   Provisorisch   \n",
       "2021-11-01    Schweizer/in        8   Kreis 8      81      Seefeld            P   Provisorisch   \n",
       "\n",
       "              AnzGebuWir  \n",
       "GueltigAbDat              \n",
       "2021-11-01             1  \n",
       "2021-11-01             1  "
      ]
     },
     "execution_count": 142,
     "metadata": {},
     "output_type": "execute_result"
    }
   ],
   "source": [
    "data2betested.loc[\"2021-11\"].head(2)\n",
    "#data2betested.loc[\"2021-10-31\":\"2021-11-30\"].head(2)"
   ]
  },
  {
   "cell_type": "markdown",
   "metadata": {},
   "source": [
    "### Aggriere Werte nach Zeitausschnitten\n",
    "\n",
    "Mit den Funktionen zur Zeit kann einfach zwischen Stunden, Tagen, Monaten, etc. gewechselt und aggregiert werden.\n",
    "Da die Daten bereits aggregiert nach Monaten sind, macht das hier keinen Sinn.\n",
    "Untenstehendes also nur als BSP\n"
   ]
  },
  {
   "cell_type": "code",
   "execution_count": 145,
   "metadata": {},
   "outputs": [
    {
     "data": {
      "text/html": [
       "<div>\n",
       "<style scoped>\n",
       "    .dataframe tbody tr th:only-of-type {\n",
       "        vertical-align: middle;\n",
       "    }\n",
       "\n",
       "    .dataframe tbody tr th {\n",
       "        vertical-align: top;\n",
       "    }\n",
       "\n",
       "    .dataframe thead th {\n",
       "        text-align: right;\n",
       "    }\n",
       "</style>\n",
       "<table border=\"1\" class=\"dataframe\">\n",
       "  <thead>\n",
       "    <tr style=\"text-align: right;\">\n",
       "      <th></th>\n",
       "      <th>SexCd</th>\n",
       "      <th>AnzGebuWir</th>\n",
       "    </tr>\n",
       "    <tr>\n",
       "      <th>GueltigAbDat</th>\n",
       "      <th></th>\n",
       "      <th></th>\n",
       "    </tr>\n",
       "  </thead>\n",
       "  <tbody>\n",
       "    <tr>\n",
       "      <th>1998-03-31</th>\n",
       "      <td>1234</td>\n",
       "      <td>897</td>\n",
       "    </tr>\n",
       "  </tbody>\n",
       "</table>\n",
       "</div>"
      ],
      "text/plain": [
       "              SexCd  AnzGebuWir\n",
       "GueltigAbDat                   \n",
       "1998-03-31     1234         897"
      ]
     },
     "execution_count": 145,
     "metadata": {},
     "output_type": "execute_result"
    }
   ],
   "source": [
    "# first we create the sums per week\n",
    "weekly_sums = data2betested.resample(\"W\").sum()\n",
    "# then we generate the weekly means for each quarter\n",
    "data2betested_sel = data2betested[[\"SexCd\",\"KreisLang\",\"AnzGebuWir\"]]\n",
    "quarterly_sums = data2betested_sel.resample(\"Q\").sum()\n",
    "# for readability we'll revert the values back to integers\n",
    "quarterly_sums.astype(int).head(1)"
   ]
  },
  {
   "cell_type": "markdown",
   "metadata": {},
   "source": [
    "### Visualisierungen nach Zeitausschnitten"
   ]
  },
  {
   "cell_type": "code",
   "execution_count": null,
   "metadata": {},
   "outputs": [],
   "source": [
    "data2betested.info()\n",
    "#data2betested"
   ]
  },
  {
   "cell_type": "markdown",
   "metadata": {},
   "source": [
    "#### Entwicklung Todesfälle nach Stadtkreis"
   ]
  },
  {
   "cell_type": "code",
   "execution_count": 146,
   "metadata": {},
   "outputs": [
    {
     "data": {
      "text/html": [
       "<div>\n",
       "<style scoped>\n",
       "    .dataframe tbody tr th:only-of-type {\n",
       "        vertical-align: middle;\n",
       "    }\n",
       "\n",
       "    .dataframe tbody tr th {\n",
       "        vertical-align: top;\n",
       "    }\n",
       "\n",
       "    .dataframe thead th {\n",
       "        text-align: right;\n",
       "    }\n",
       "</style>\n",
       "<table border=\"1\" class=\"dataframe\">\n",
       "  <thead>\n",
       "    <tr style=\"text-align: right;\">\n",
       "      <th></th>\n",
       "      <th>GueltigAbDat</th>\n",
       "      <th>GueltigAbDatJahr</th>\n",
       "      <th>GueltigAbDatMM</th>\n",
       "      <th>SexLang</th>\n",
       "      <th>sum_WBev</th>\n",
       "    </tr>\n",
       "  </thead>\n",
       "  <tbody>\n",
       "    <tr>\n",
       "      <th>0</th>\n",
       "      <td>2021-07-12</td>\n",
       "      <td>2021</td>\n",
       "      <td>7</td>\n",
       "      <td>männlich</td>\n",
       "      <td>16</td>\n",
       "    </tr>\n",
       "    <tr>\n",
       "      <th>1</th>\n",
       "      <td>2021-10-14</td>\n",
       "      <td>2021</td>\n",
       "      <td>10</td>\n",
       "      <td>männlich</td>\n",
       "      <td>16</td>\n",
       "    </tr>\n",
       "  </tbody>\n",
       "</table>\n",
       "</div>"
      ],
      "text/plain": [
       "  GueltigAbDat  GueltigAbDatJahr  GueltigAbDatMM   SexLang  sum_WBev\n",
       "0   2021-07-12              2021               7  männlich        16\n",
       "1   2021-10-14              2021              10  männlich        16"
      ]
     },
     "execution_count": 146,
     "metadata": {},
     "output_type": "execute_result"
    }
   ],
   "source": [
    "#myAgg = data2betested.loc[\"2008-11-30\":\"2021-10-31\"]\n",
    "myAgg = data2betested.loc[\"2020-11\":\"2021-11\"] \\\n",
    "    .groupby(['GueltigAbDat','GueltigAbDatJahr', 'GueltigAbDatMM','SexLang']) \\\n",
    "    .agg(sum_WBev=('AnzGebuWir', 'sum')) \\\n",
    "    .sort_values('sum_WBev', ascending=False) \n",
    "\n",
    "myAgg.reset_index().head(2)"
   ]
  },
  {
   "cell_type": "code",
   "execution_count": 147,
   "metadata": {},
   "outputs": [
    {
     "data": {
      "text/html": [
       "\n",
       "<div id=\"altair-viz-e0ce3e7ad0d140cd935598b8de67e3d9\"></div>\n",
       "<script type=\"text/javascript\">\n",
       "  (function(spec, embedOpt){\n",
       "    let outputDiv = document.currentScript.previousElementSibling;\n",
       "    if (outputDiv.id !== \"altair-viz-e0ce3e7ad0d140cd935598b8de67e3d9\") {\n",
       "      outputDiv = document.getElementById(\"altair-viz-e0ce3e7ad0d140cd935598b8de67e3d9\");\n",
       "    }\n",
       "    const paths = {\n",
       "      \"vega\": \"https://cdn.jsdelivr.net/npm//vega@5?noext\",\n",
       "      \"vega-lib\": \"https://cdn.jsdelivr.net/npm//vega-lib?noext\",\n",
       "      \"vega-lite\": \"https://cdn.jsdelivr.net/npm//vega-lite@4.8.1?noext\",\n",
       "      \"vega-embed\": \"https://cdn.jsdelivr.net/npm//vega-embed@6?noext\",\n",
       "    };\n",
       "\n",
       "    function loadScript(lib) {\n",
       "      return new Promise(function(resolve, reject) {\n",
       "        var s = document.createElement('script');\n",
       "        s.src = paths[lib];\n",
       "        s.async = true;\n",
       "        s.onload = () => resolve(paths[lib]);\n",
       "        s.onerror = () => reject(`Error loading script: ${paths[lib]}`);\n",
       "        document.getElementsByTagName(\"head\")[0].appendChild(s);\n",
       "      });\n",
       "    }\n",
       "\n",
       "    function showError(err) {\n",
       "      outputDiv.innerHTML = `<div class=\"error\" style=\"color:red;\">${err}</div>`;\n",
       "      throw err;\n",
       "    }\n",
       "\n",
       "    function displayChart(vegaEmbed) {\n",
       "      vegaEmbed(outputDiv, spec, embedOpt)\n",
       "        .catch(err => showError(`Javascript Error: ${err.message}<br>This usually means there's a typo in your chart specification. See the javascript console for the full traceback.`));\n",
       "    }\n",
       "\n",
       "    if(typeof define === \"function\" && define.amd) {\n",
       "      requirejs.config({paths});\n",
       "      require([\"vega-embed\"], displayChart, err => showError(`Error loading script: ${err.message}`));\n",
       "    } else if (typeof vegaEmbed === \"function\") {\n",
       "      displayChart(vegaEmbed);\n",
       "    } else {\n",
       "      loadScript(\"vega\")\n",
       "        .then(() => loadScript(\"vega-lite\"))\n",
       "        .then(() => loadScript(\"vega-embed\"))\n",
       "        .catch(showError)\n",
       "        .then(() => displayChart(vegaEmbed));\n",
       "    }\n",
       "  })({\"config\": {\"view\": {\"continuousWidth\": 400, \"continuousHeight\": 300}}, \"layer\": [{\"mark\": \"line\", \"encoding\": {\"color\": {\"type\": \"nominal\", \"field\": \"SexLang\", \"legend\": {\"orient\": \"right\", \"title\": \"Stadtkreise\"}}, \"size\": {\"condition\": {\"value\": 0.5, \"selection\": {\"not\": \"selector047\"}}, \"value\": 4}, \"tooltip\": [{\"type\": \"temporal\", \"field\": \"GueltigAbDat\"}, {\"type\": \"nominal\", \"field\": \"SexLang\"}, {\"type\": \"quantitative\", \"field\": \"sum_WBev\"}], \"x\": {\"type\": \"temporal\", \"axis\": {\"title\": \"Jahr\"}, \"field\": \"GueltigAbDat\"}, \"y\": {\"type\": \"quantitative\", \"axis\": {\"title\": \"Anz. Personen\"}, \"field\": \"sum_WBev\"}}, \"selection\": {\"selector048\": {\"type\": \"interval\", \"bind\": \"scales\", \"encodings\": [\"x\", \"y\"]}}, \"title\": \"Title\"}, {\"mark\": \"circle\", \"encoding\": {\"color\": {\"type\": \"nominal\", \"field\": \"SexLang\", \"legend\": {\"orient\": \"right\", \"title\": \"Stadtkreise\"}}, \"opacity\": {\"value\": 0.75}, \"tooltip\": [{\"type\": \"temporal\", \"field\": \"GueltigAbDat\"}, {\"type\": \"nominal\", \"field\": \"SexLang\"}, {\"type\": \"quantitative\", \"field\": \"sum_WBev\"}], \"x\": {\"type\": \"temporal\", \"axis\": {\"title\": \"Jahr\"}, \"field\": \"GueltigAbDat\"}, \"y\": {\"type\": \"quantitative\", \"axis\": {\"title\": \"Anz. Personen\"}, \"field\": \"sum_WBev\"}}, \"height\": 350, \"selection\": {\"selector047\": {\"type\": \"single\", \"on\": \"mouseover\", \"fields\": [\"KreisLang\"], \"nearest\": true}}, \"title\": \"Title\", \"width\": 900}], \"data\": {\"name\": \"data-f109ed2dc2d290e2ee619dd7dd823910\"}, \"$schema\": \"https://vega.github.io/schema/vega-lite/v4.8.1.json\", \"datasets\": {\"data-f109ed2dc2d290e2ee619dd7dd823910\": [{\"GueltigAbDat\": \"2021-07-12T00:00:00\", \"GueltigAbDatJahr\": 2021, \"GueltigAbDatMM\": 7, \"SexLang\": \"m\\u00e4nnlich\", \"sum_WBev\": 16}, {\"GueltigAbDat\": \"2021-10-14T00:00:00\", \"GueltigAbDatJahr\": 2021, \"GueltigAbDatMM\": 10, \"SexLang\": \"m\\u00e4nnlich\", \"sum_WBev\": 16}, {\"GueltigAbDat\": \"2021-01-08T00:00:00\", \"GueltigAbDatJahr\": 2021, \"GueltigAbDatMM\": 1, \"SexLang\": \"weiblich\", \"sum_WBev\": 16}, {\"GueltigAbDat\": \"2020-11-11T00:00:00\", \"GueltigAbDatJahr\": 2020, \"GueltigAbDatMM\": 11, \"SexLang\": \"weiblich\", \"sum_WBev\": 15}, {\"GueltigAbDat\": \"2021-06-20T00:00:00\", \"GueltigAbDatJahr\": 2021, \"GueltigAbDatMM\": 6, \"SexLang\": \"m\\u00e4nnlich\", \"sum_WBev\": 15}, {\"GueltigAbDat\": \"2020-11-02T00:00:00\", \"GueltigAbDatJahr\": 2020, \"GueltigAbDatMM\": 11, \"SexLang\": \"weiblich\", \"sum_WBev\": 15}, {\"GueltigAbDat\": \"2020-12-30T00:00:00\", \"GueltigAbDatJahr\": 2020, \"GueltigAbDatMM\": 12, \"SexLang\": \"weiblich\", \"sum_WBev\": 15}, {\"GueltigAbDat\": \"2021-11-05T00:00:00\", \"GueltigAbDatJahr\": 2021, \"GueltigAbDatMM\": 11, \"SexLang\": \"m\\u00e4nnlich\", \"sum_WBev\": 15}, {\"GueltigAbDat\": \"2021-01-18T00:00:00\", \"GueltigAbDatJahr\": 2021, \"GueltigAbDatMM\": 1, \"SexLang\": \"weiblich\", \"sum_WBev\": 14}, {\"GueltigAbDat\": \"2021-06-01T00:00:00\", \"GueltigAbDatJahr\": 2021, \"GueltigAbDatMM\": 6, \"SexLang\": \"m\\u00e4nnlich\", \"sum_WBev\": 14}, {\"GueltigAbDat\": \"2021-04-01T00:00:00\", \"GueltigAbDatJahr\": 2021, \"GueltigAbDatMM\": 4, \"SexLang\": \"weiblich\", \"sum_WBev\": 14}, {\"GueltigAbDat\": \"2021-05-30T00:00:00\", \"GueltigAbDatJahr\": 2021, \"GueltigAbDatMM\": 5, \"SexLang\": \"weiblich\", \"sum_WBev\": 14}, {\"GueltigAbDat\": \"2021-03-30T00:00:00\", \"GueltigAbDatJahr\": 2021, \"GueltigAbDatMM\": 3, \"SexLang\": \"m\\u00e4nnlich\", \"sum_WBev\": 14}, {\"GueltigAbDat\": \"2021-05-17T00:00:00\", \"GueltigAbDatJahr\": 2021, \"GueltigAbDatMM\": 5, \"SexLang\": \"m\\u00e4nnlich\", \"sum_WBev\": 14}, {\"GueltigAbDat\": \"2021-10-13T00:00:00\", \"GueltigAbDatJahr\": 2021, \"GueltigAbDatMM\": 10, \"SexLang\": \"weiblich\", \"sum_WBev\": 14}, {\"GueltigAbDat\": \"2021-02-08T00:00:00\", \"GueltigAbDatJahr\": 2021, \"GueltigAbDatMM\": 2, \"SexLang\": \"m\\u00e4nnlich\", \"sum_WBev\": 14}, {\"GueltigAbDat\": \"2021-06-04T00:00:00\", \"GueltigAbDatJahr\": 2021, \"GueltigAbDatMM\": 6, \"SexLang\": \"m\\u00e4nnlich\", \"sum_WBev\": 14}, {\"GueltigAbDat\": \"2021-05-14T00:00:00\", \"GueltigAbDatJahr\": 2021, \"GueltigAbDatMM\": 5, \"SexLang\": \"weiblich\", \"sum_WBev\": 13}, {\"GueltigAbDat\": \"2021-05-15T00:00:00\", \"GueltigAbDatJahr\": 2021, \"GueltigAbDatMM\": 5, \"SexLang\": \"m\\u00e4nnlich\", \"sum_WBev\": 13}, {\"GueltigAbDat\": \"2021-03-15T00:00:00\", \"GueltigAbDatJahr\": 2021, \"GueltigAbDatMM\": 3, \"SexLang\": \"weiblich\", \"sum_WBev\": 13}, {\"GueltigAbDat\": \"2021-04-28T00:00:00\", \"GueltigAbDatJahr\": 2021, \"GueltigAbDatMM\": 4, \"SexLang\": \"weiblich\", \"sum_WBev\": 13}, {\"GueltigAbDat\": \"2021-08-25T00:00:00\", \"GueltigAbDatJahr\": 2021, \"GueltigAbDatMM\": 8, \"SexLang\": \"m\\u00e4nnlich\", \"sum_WBev\": 13}, {\"GueltigAbDat\": \"2021-05-07T00:00:00\", \"GueltigAbDatJahr\": 2021, \"GueltigAbDatMM\": 5, \"SexLang\": \"m\\u00e4nnlich\", \"sum_WBev\": 13}, {\"GueltigAbDat\": \"2021-10-16T00:00:00\", \"GueltigAbDatJahr\": 2021, \"GueltigAbDatMM\": 10, \"SexLang\": \"m\\u00e4nnlich\", \"sum_WBev\": 13}, {\"GueltigAbDat\": \"2021-08-23T00:00:00\", \"GueltigAbDatJahr\": 2021, \"GueltigAbDatMM\": 8, \"SexLang\": \"m\\u00e4nnlich\", \"sum_WBev\": 13}, {\"GueltigAbDat\": \"2021-06-03T00:00:00\", \"GueltigAbDatJahr\": 2021, \"GueltigAbDatMM\": 6, \"SexLang\": \"weiblich\", \"sum_WBev\": 13}, {\"GueltigAbDat\": \"2021-07-21T00:00:00\", \"GueltigAbDatJahr\": 2021, \"GueltigAbDatMM\": 7, \"SexLang\": \"m\\u00e4nnlich\", \"sum_WBev\": 13}, {\"GueltigAbDat\": \"2021-09-09T00:00:00\", \"GueltigAbDatJahr\": 2021, \"GueltigAbDatMM\": 9, \"SexLang\": \"m\\u00e4nnlich\", \"sum_WBev\": 13}, {\"GueltigAbDat\": \"2020-12-28T00:00:00\", \"GueltigAbDatJahr\": 2020, \"GueltigAbDatMM\": 12, \"SexLang\": \"weiblich\", \"sum_WBev\": 13}, {\"GueltigAbDat\": \"2020-11-10T00:00:00\", \"GueltigAbDatJahr\": 2020, \"GueltigAbDatMM\": 11, \"SexLang\": \"m\\u00e4nnlich\", \"sum_WBev\": 13}, {\"GueltigAbDat\": \"2021-01-25T00:00:00\", \"GueltigAbDatJahr\": 2021, \"GueltigAbDatMM\": 1, \"SexLang\": \"m\\u00e4nnlich\", \"sum_WBev\": 12}, {\"GueltigAbDat\": \"2021-01-29T00:00:00\", \"GueltigAbDatJahr\": 2021, \"GueltigAbDatMM\": 1, \"SexLang\": \"weiblich\", \"sum_WBev\": 12}, {\"GueltigAbDat\": \"2021-08-17T00:00:00\", \"GueltigAbDatJahr\": 2021, \"GueltigAbDatMM\": 8, \"SexLang\": \"m\\u00e4nnlich\", \"sum_WBev\": 12}, {\"GueltigAbDat\": \"2021-08-16T00:00:00\", \"GueltigAbDatJahr\": 2021, \"GueltigAbDatMM\": 8, \"SexLang\": \"weiblich\", \"sum_WBev\": 12}, {\"GueltigAbDat\": \"2021-02-01T00:00:00\", \"GueltigAbDatJahr\": 2021, \"GueltigAbDatMM\": 2, \"SexLang\": \"m\\u00e4nnlich\", \"sum_WBev\": 12}, {\"GueltigAbDat\": \"2020-11-27T00:00:00\", \"GueltigAbDatJahr\": 2020, \"GueltigAbDatMM\": 11, \"SexLang\": \"weiblich\", \"sum_WBev\": 12}, {\"GueltigAbDat\": \"2021-10-11T00:00:00\", \"GueltigAbDatJahr\": 2021, \"GueltigAbDatMM\": 10, \"SexLang\": \"m\\u00e4nnlich\", \"sum_WBev\": 12}, {\"GueltigAbDat\": \"2021-02-05T00:00:00\", \"GueltigAbDatJahr\": 2021, \"GueltigAbDatMM\": 2, \"SexLang\": \"m\\u00e4nnlich\", \"sum_WBev\": 12}, {\"GueltigAbDat\": \"2021-10-09T00:00:00\", \"GueltigAbDatJahr\": 2021, \"GueltigAbDatMM\": 10, \"SexLang\": \"m\\u00e4nnlich\", \"sum_WBev\": 12}, {\"GueltigAbDat\": \"2021-10-06T00:00:00\", \"GueltigAbDatJahr\": 2021, \"GueltigAbDatMM\": 10, \"SexLang\": \"m\\u00e4nnlich\", \"sum_WBev\": 12}, {\"GueltigAbDat\": \"2021-10-05T00:00:00\", \"GueltigAbDatJahr\": 2021, \"GueltigAbDatMM\": 10, \"SexLang\": \"m\\u00e4nnlich\", \"sum_WBev\": 12}, {\"GueltigAbDat\": \"2021-10-02T00:00:00\", \"GueltigAbDatJahr\": 2021, \"GueltigAbDatMM\": 10, \"SexLang\": \"m\\u00e4nnlich\", \"sum_WBev\": 12}, {\"GueltigAbDat\": \"2020-12-22T00:00:00\", \"GueltigAbDatJahr\": 2020, \"GueltigAbDatMM\": 12, \"SexLang\": \"m\\u00e4nnlich\", \"sum_WBev\": 12}, {\"GueltigAbDat\": \"2021-06-15T00:00:00\", \"GueltigAbDatJahr\": 2021, \"GueltigAbDatMM\": 6, \"SexLang\": \"weiblich\", \"sum_WBev\": 12}, {\"GueltigAbDat\": \"2021-01-05T00:00:00\", \"GueltigAbDatJahr\": 2021, \"GueltigAbDatMM\": 1, \"SexLang\": \"weiblich\", \"sum_WBev\": 12}, {\"GueltigAbDat\": \"2020-12-31T00:00:00\", \"GueltigAbDatJahr\": 2020, \"GueltigAbDatMM\": 12, \"SexLang\": \"m\\u00e4nnlich\", \"sum_WBev\": 12}, {\"GueltigAbDat\": \"2021-06-07T00:00:00\", \"GueltigAbDatJahr\": 2021, \"GueltigAbDatMM\": 6, \"SexLang\": \"m\\u00e4nnlich\", \"sum_WBev\": 12}, {\"GueltigAbDat\": \"2021-06-25T00:00:00\", \"GueltigAbDatJahr\": 2021, \"GueltigAbDatMM\": 6, \"SexLang\": \"weiblich\", \"sum_WBev\": 12}, {\"GueltigAbDat\": \"2021-06-22T00:00:00\", \"GueltigAbDatJahr\": 2021, \"GueltigAbDatMM\": 6, \"SexLang\": \"m\\u00e4nnlich\", \"sum_WBev\": 12}, {\"GueltigAbDat\": \"2021-09-21T00:00:00\", \"GueltigAbDatJahr\": 2021, \"GueltigAbDatMM\": 9, \"SexLang\": \"m\\u00e4nnlich\", \"sum_WBev\": 12}, {\"GueltigAbDat\": \"2020-11-23T00:00:00\", \"GueltigAbDatJahr\": 2020, \"GueltigAbDatMM\": 11, \"SexLang\": \"m\\u00e4nnlich\", \"sum_WBev\": 12}, {\"GueltigAbDat\": \"2021-07-06T00:00:00\", \"GueltigAbDatJahr\": 2021, \"GueltigAbDatMM\": 7, \"SexLang\": \"weiblich\", \"sum_WBev\": 12}, {\"GueltigAbDat\": \"2021-05-10T00:00:00\", \"GueltigAbDatJahr\": 2021, \"GueltigAbDatMM\": 5, \"SexLang\": \"weiblich\", \"sum_WBev\": 12}, {\"GueltigAbDat\": \"2021-11-08T00:00:00\", \"GueltigAbDatJahr\": 2021, \"GueltigAbDatMM\": 11, \"SexLang\": \"m\\u00e4nnlich\", \"sum_WBev\": 12}, {\"GueltigAbDat\": \"2021-11-24T00:00:00\", \"GueltigAbDatJahr\": 2021, \"GueltigAbDatMM\": 11, \"SexLang\": \"m\\u00e4nnlich\", \"sum_WBev\": 12}, {\"GueltigAbDat\": \"2021-07-30T00:00:00\", \"GueltigAbDatJahr\": 2021, \"GueltigAbDatMM\": 7, \"SexLang\": \"weiblich\", \"sum_WBev\": 12}, {\"GueltigAbDat\": \"2020-11-03T00:00:00\", \"GueltigAbDatJahr\": 2020, \"GueltigAbDatMM\": 11, \"SexLang\": \"m\\u00e4nnlich\", \"sum_WBev\": 12}, {\"GueltigAbDat\": \"2021-08-10T00:00:00\", \"GueltigAbDatJahr\": 2021, \"GueltigAbDatMM\": 8, \"SexLang\": \"weiblich\", \"sum_WBev\": 12}, {\"GueltigAbDat\": \"2021-05-01T00:00:00\", \"GueltigAbDatJahr\": 2021, \"GueltigAbDatMM\": 5, \"SexLang\": \"m\\u00e4nnlich\", \"sum_WBev\": 12}, {\"GueltigAbDat\": \"2021-06-27T00:00:00\", \"GueltigAbDatJahr\": 2021, \"GueltigAbDatMM\": 6, \"SexLang\": \"m\\u00e4nnlich\", \"sum_WBev\": 11}, {\"GueltigAbDat\": \"2021-08-31T00:00:00\", \"GueltigAbDatJahr\": 2021, \"GueltigAbDatMM\": 8, \"SexLang\": \"m\\u00e4nnlich\", \"sum_WBev\": 11}, {\"GueltigAbDat\": \"2021-11-17T00:00:00\", \"GueltigAbDatJahr\": 2021, \"GueltigAbDatMM\": 11, \"SexLang\": \"m\\u00e4nnlich\", \"sum_WBev\": 11}, {\"GueltigAbDat\": \"2021-01-16T00:00:00\", \"GueltigAbDatJahr\": 2021, \"GueltigAbDatMM\": 1, \"SexLang\": \"weiblich\", \"sum_WBev\": 11}, {\"GueltigAbDat\": \"2021-07-05T00:00:00\", \"GueltigAbDatJahr\": 2021, \"GueltigAbDatMM\": 7, \"SexLang\": \"m\\u00e4nnlich\", \"sum_WBev\": 11}, {\"GueltigAbDat\": \"2021-10-06T00:00:00\", \"GueltigAbDatJahr\": 2021, \"GueltigAbDatMM\": 10, \"SexLang\": \"weiblich\", \"sum_WBev\": 11}, {\"GueltigAbDat\": \"2021-02-25T00:00:00\", \"GueltigAbDatJahr\": 2021, \"GueltigAbDatMM\": 2, \"SexLang\": \"m\\u00e4nnlich\", \"sum_WBev\": 11}, {\"GueltigAbDat\": \"2021-09-06T00:00:00\", \"GueltigAbDatJahr\": 2021, \"GueltigAbDatMM\": 9, \"SexLang\": \"m\\u00e4nnlich\", \"sum_WBev\": 11}, {\"GueltigAbDat\": \"2020-12-19T00:00:00\", \"GueltigAbDatJahr\": 2020, \"GueltigAbDatMM\": 12, \"SexLang\": \"weiblich\", \"sum_WBev\": 11}, {\"GueltigAbDat\": \"2021-05-12T00:00:00\", \"GueltigAbDatJahr\": 2021, \"GueltigAbDatMM\": 5, \"SexLang\": \"weiblich\", \"sum_WBev\": 11}, {\"GueltigAbDat\": \"2021-10-04T00:00:00\", \"GueltigAbDatJahr\": 2021, \"GueltigAbDatMM\": 10, \"SexLang\": \"weiblich\", \"sum_WBev\": 11}, {\"GueltigAbDat\": \"2021-11-18T00:00:00\", \"GueltigAbDatJahr\": 2021, \"GueltigAbDatMM\": 11, \"SexLang\": \"weiblich\", \"sum_WBev\": 11}, {\"GueltigAbDat\": \"2021-05-28T00:00:00\", \"GueltigAbDatJahr\": 2021, \"GueltigAbDatMM\": 5, \"SexLang\": \"weiblich\", \"sum_WBev\": 11}, {\"GueltigAbDat\": \"2021-10-01T00:00:00\", \"GueltigAbDatJahr\": 2021, \"GueltigAbDatMM\": 10, \"SexLang\": \"weiblich\", \"sum_WBev\": 11}, {\"GueltigAbDat\": \"2021-05-11T00:00:00\", \"GueltigAbDatJahr\": 2021, \"GueltigAbDatMM\": 5, \"SexLang\": \"m\\u00e4nnlich\", \"sum_WBev\": 11}, {\"GueltigAbDat\": \"2021-04-09T00:00:00\", \"GueltigAbDatJahr\": 2021, \"GueltigAbDatMM\": 4, \"SexLang\": \"weiblich\", \"sum_WBev\": 11}, {\"GueltigAbDat\": \"2021-07-11T00:00:00\", \"GueltigAbDatJahr\": 2021, \"GueltigAbDatMM\": 7, \"SexLang\": \"m\\u00e4nnlich\", \"sum_WBev\": 11}, {\"GueltigAbDat\": \"2021-09-14T00:00:00\", \"GueltigAbDatJahr\": 2021, \"GueltigAbDatMM\": 9, \"SexLang\": \"weiblich\", \"sum_WBev\": 11}, {\"GueltigAbDat\": \"2020-12-29T00:00:00\", \"GueltigAbDatJahr\": 2020, \"GueltigAbDatMM\": 12, \"SexLang\": \"m\\u00e4nnlich\", \"sum_WBev\": 11}, {\"GueltigAbDat\": \"2020-11-04T00:00:00\", \"GueltigAbDatJahr\": 2020, \"GueltigAbDatMM\": 11, \"SexLang\": \"weiblich\", \"sum_WBev\": 11}, {\"GueltigAbDat\": \"2021-03-03T00:00:00\", \"GueltigAbDatJahr\": 2021, \"GueltigAbDatMM\": 3, \"SexLang\": \"m\\u00e4nnlich\", \"sum_WBev\": 11}, {\"GueltigAbDat\": \"2021-09-23T00:00:00\", \"GueltigAbDatJahr\": 2021, \"GueltigAbDatMM\": 9, \"SexLang\": \"m\\u00e4nnlich\", \"sum_WBev\": 11}, {\"GueltigAbDat\": \"2021-07-28T00:00:00\", \"GueltigAbDatJahr\": 2021, \"GueltigAbDatMM\": 7, \"SexLang\": \"weiblich\", \"sum_WBev\": 11}, {\"GueltigAbDat\": \"2021-08-11T00:00:00\", \"GueltigAbDatJahr\": 2021, \"GueltigAbDatMM\": 8, \"SexLang\": \"m\\u00e4nnlich\", \"sum_WBev\": 11}, {\"GueltigAbDat\": \"2020-11-12T00:00:00\", \"GueltigAbDatJahr\": 2020, \"GueltigAbDatMM\": 11, \"SexLang\": \"weiblich\", \"sum_WBev\": 11}, {\"GueltigAbDat\": \"2021-06-29T00:00:00\", \"GueltigAbDatJahr\": 2021, \"GueltigAbDatMM\": 6, \"SexLang\": \"weiblich\", \"sum_WBev\": 11}, {\"GueltigAbDat\": \"2021-06-23T00:00:00\", \"GueltigAbDatJahr\": 2021, \"GueltigAbDatMM\": 6, \"SexLang\": \"weiblich\", \"sum_WBev\": 11}, {\"GueltigAbDat\": \"2021-05-25T00:00:00\", \"GueltigAbDatJahr\": 2021, \"GueltigAbDatMM\": 5, \"SexLang\": \"m\\u00e4nnlich\", \"sum_WBev\": 11}, {\"GueltigAbDat\": \"2021-04-26T00:00:00\", \"GueltigAbDatJahr\": 2021, \"GueltigAbDatMM\": 4, \"SexLang\": \"m\\u00e4nnlich\", \"sum_WBev\": 11}, {\"GueltigAbDat\": \"2020-12-03T00:00:00\", \"GueltigAbDatJahr\": 2020, \"GueltigAbDatMM\": 12, \"SexLang\": \"weiblich\", \"sum_WBev\": 11}, {\"GueltigAbDat\": \"2021-07-01T00:00:00\", \"GueltigAbDatJahr\": 2021, \"GueltigAbDatMM\": 7, \"SexLang\": \"m\\u00e4nnlich\", \"sum_WBev\": 11}, {\"GueltigAbDat\": \"2021-02-10T00:00:00\", \"GueltigAbDatJahr\": 2021, \"GueltigAbDatMM\": 2, \"SexLang\": \"weiblich\", \"sum_WBev\": 11}, {\"GueltigAbDat\": \"2021-08-24T00:00:00\", \"GueltigAbDatJahr\": 2021, \"GueltigAbDatMM\": 8, \"SexLang\": \"weiblich\", \"sum_WBev\": 11}, {\"GueltigAbDat\": \"2021-08-07T00:00:00\", \"GueltigAbDatJahr\": 2021, \"GueltigAbDatMM\": 8, \"SexLang\": \"weiblich\", \"sum_WBev\": 11}, {\"GueltigAbDat\": \"2021-10-20T00:00:00\", \"GueltigAbDatJahr\": 2021, \"GueltigAbDatMM\": 10, \"SexLang\": \"weiblich\", \"sum_WBev\": 11}, {\"GueltigAbDat\": \"2021-01-22T00:00:00\", \"GueltigAbDatJahr\": 2021, \"GueltigAbDatMM\": 1, \"SexLang\": \"weiblich\", \"sum_WBev\": 11}, {\"GueltigAbDat\": \"2021-03-24T00:00:00\", \"GueltigAbDatJahr\": 2021, \"GueltigAbDatMM\": 3, \"SexLang\": \"weiblich\", \"sum_WBev\": 11}, {\"GueltigAbDat\": \"2021-10-26T00:00:00\", \"GueltigAbDatJahr\": 2021, \"GueltigAbDatMM\": 10, \"SexLang\": \"weiblich\", \"sum_WBev\": 11}, {\"GueltigAbDat\": \"2021-05-27T00:00:00\", \"GueltigAbDatJahr\": 2021, \"GueltigAbDatMM\": 5, \"SexLang\": \"weiblich\", \"sum_WBev\": 11}, {\"GueltigAbDat\": \"2021-05-22T00:00:00\", \"GueltigAbDatJahr\": 2021, \"GueltigAbDatMM\": 5, \"SexLang\": \"m\\u00e4nnlich\", \"sum_WBev\": 11}, {\"GueltigAbDat\": \"2021-08-02T00:00:00\", \"GueltigAbDatJahr\": 2021, \"GueltigAbDatMM\": 8, \"SexLang\": \"weiblich\", \"sum_WBev\": 11}, {\"GueltigAbDat\": \"2021-08-13T00:00:00\", \"GueltigAbDatJahr\": 2021, \"GueltigAbDatMM\": 8, \"SexLang\": \"m\\u00e4nnlich\", \"sum_WBev\": 11}, {\"GueltigAbDat\": \"2021-02-13T00:00:00\", \"GueltigAbDatJahr\": 2021, \"GueltigAbDatMM\": 2, \"SexLang\": \"weiblich\", \"sum_WBev\": 11}, {\"GueltigAbDat\": \"2020-12-10T00:00:00\", \"GueltigAbDatJahr\": 2020, \"GueltigAbDatMM\": 12, \"SexLang\": \"m\\u00e4nnlich\", \"sum_WBev\": 11}, {\"GueltigAbDat\": \"2021-10-12T00:00:00\", \"GueltigAbDatJahr\": 2021, \"GueltigAbDatMM\": 10, \"SexLang\": \"weiblich\", \"sum_WBev\": 11}, {\"GueltigAbDat\": \"2021-06-15T00:00:00\", \"GueltigAbDatJahr\": 2021, \"GueltigAbDatMM\": 6, \"SexLang\": \"m\\u00e4nnlich\", \"sum_WBev\": 10}, {\"GueltigAbDat\": \"2021-08-14T00:00:00\", \"GueltigAbDatJahr\": 2021, \"GueltigAbDatMM\": 8, \"SexLang\": \"m\\u00e4nnlich\", \"sum_WBev\": 10}, {\"GueltigAbDat\": \"2021-07-13T00:00:00\", \"GueltigAbDatJahr\": 2021, \"GueltigAbDatMM\": 7, \"SexLang\": \"m\\u00e4nnlich\", \"sum_WBev\": 10}, {\"GueltigAbDat\": \"2021-09-15T00:00:00\", \"GueltigAbDatJahr\": 2021, \"GueltigAbDatMM\": 9, \"SexLang\": \"weiblich\", \"sum_WBev\": 10}, {\"GueltigAbDat\": \"2021-01-08T00:00:00\", \"GueltigAbDatJahr\": 2021, \"GueltigAbDatMM\": 1, \"SexLang\": \"m\\u00e4nnlich\", \"sum_WBev\": 10}, {\"GueltigAbDat\": \"2021-06-29T00:00:00\", \"GueltigAbDatJahr\": 2021, \"GueltigAbDatMM\": 6, \"SexLang\": \"m\\u00e4nnlich\", \"sum_WBev\": 10}, {\"GueltigAbDat\": \"2021-07-29T00:00:00\", \"GueltigAbDatJahr\": 2021, \"GueltigAbDatMM\": 7, \"SexLang\": \"weiblich\", \"sum_WBev\": 10}, {\"GueltigAbDat\": \"2021-01-02T00:00:00\", \"GueltigAbDatJahr\": 2021, \"GueltigAbDatMM\": 1, \"SexLang\": \"weiblich\", \"sum_WBev\": 10}, {\"GueltigAbDat\": \"2021-09-11T00:00:00\", \"GueltigAbDatJahr\": 2021, \"GueltigAbDatMM\": 9, \"SexLang\": \"m\\u00e4nnlich\", \"sum_WBev\": 10}, {\"GueltigAbDat\": \"2021-09-10T00:00:00\", \"GueltigAbDatJahr\": 2021, \"GueltigAbDatMM\": 9, \"SexLang\": \"m\\u00e4nnlich\", \"sum_WBev\": 10}, {\"GueltigAbDat\": \"2021-07-18T00:00:00\", \"GueltigAbDatJahr\": 2021, \"GueltigAbDatMM\": 7, \"SexLang\": \"m\\u00e4nnlich\", \"sum_WBev\": 10}, {\"GueltigAbDat\": \"2021-01-12T00:00:00\", \"GueltigAbDatJahr\": 2021, \"GueltigAbDatMM\": 1, \"SexLang\": \"m\\u00e4nnlich\", \"sum_WBev\": 10}, {\"GueltigAbDat\": \"2021-08-27T00:00:00\", \"GueltigAbDatJahr\": 2021, \"GueltigAbDatMM\": 8, \"SexLang\": \"m\\u00e4nnlich\", \"sum_WBev\": 10}, {\"GueltigAbDat\": \"2021-08-27T00:00:00\", \"GueltigAbDatJahr\": 2021, \"GueltigAbDatMM\": 8, \"SexLang\": \"weiblich\", \"sum_WBev\": 10}, {\"GueltigAbDat\": \"2021-07-22T00:00:00\", \"GueltigAbDatJahr\": 2021, \"GueltigAbDatMM\": 7, \"SexLang\": \"weiblich\", \"sum_WBev\": 10}, {\"GueltigAbDat\": \"2021-03-18T00:00:00\", \"GueltigAbDatJahr\": 2021, \"GueltigAbDatMM\": 3, \"SexLang\": \"weiblich\", \"sum_WBev\": 10}, {\"GueltigAbDat\": \"2021-09-02T00:00:00\", \"GueltigAbDatJahr\": 2021, \"GueltigAbDatMM\": 9, \"SexLang\": \"m\\u00e4nnlich\", \"sum_WBev\": 10}, {\"GueltigAbDat\": \"2021-09-01T00:00:00\", \"GueltigAbDatJahr\": 2021, \"GueltigAbDatMM\": 9, \"SexLang\": \"m\\u00e4nnlich\", \"sum_WBev\": 10}, {\"GueltigAbDat\": \"2021-08-29T00:00:00\", \"GueltigAbDatJahr\": 2021, \"GueltigAbDatMM\": 8, \"SexLang\": \"m\\u00e4nnlich\", \"sum_WBev\": 10}, {\"GueltigAbDat\": \"2021-01-11T00:00:00\", \"GueltigAbDatJahr\": 2021, \"GueltigAbDatMM\": 1, \"SexLang\": \"weiblich\", \"sum_WBev\": 10}, {\"GueltigAbDat\": \"2021-09-21T00:00:00\", \"GueltigAbDatJahr\": 2021, \"GueltigAbDatMM\": 9, \"SexLang\": \"weiblich\", \"sum_WBev\": 10}, {\"GueltigAbDat\": \"2021-11-15T00:00:00\", \"GueltigAbDatJahr\": 2021, \"GueltigAbDatMM\": 11, \"SexLang\": \"weiblich\", \"sum_WBev\": 10}, {\"GueltigAbDat\": \"2021-09-30T00:00:00\", \"GueltigAbDatJahr\": 2021, \"GueltigAbDatMM\": 9, \"SexLang\": \"m\\u00e4nnlich\", \"sum_WBev\": 10}, {\"GueltigAbDat\": \"2021-05-24T00:00:00\", \"GueltigAbDatJahr\": 2021, \"GueltigAbDatMM\": 5, \"SexLang\": \"weiblich\", \"sum_WBev\": 10}, {\"GueltigAbDat\": \"2021-04-21T00:00:00\", \"GueltigAbDatJahr\": 2021, \"GueltigAbDatMM\": 4, \"SexLang\": \"m\\u00e4nnlich\", \"sum_WBev\": 10}, {\"GueltigAbDat\": \"2020-11-26T00:00:00\", \"GueltigAbDatJahr\": 2020, \"GueltigAbDatMM\": 11, \"SexLang\": \"m\\u00e4nnlich\", \"sum_WBev\": 10}, {\"GueltigAbDat\": \"2021-10-28T00:00:00\", \"GueltigAbDatJahr\": 2021, \"GueltigAbDatMM\": 10, \"SexLang\": \"weiblich\", \"sum_WBev\": 10}, {\"GueltigAbDat\": \"2021-11-01T00:00:00\", \"GueltigAbDatJahr\": 2021, \"GueltigAbDatMM\": 11, \"SexLang\": \"weiblich\", \"sum_WBev\": 10}, {\"GueltigAbDat\": \"2021-05-19T00:00:00\", \"GueltigAbDatJahr\": 2021, \"GueltigAbDatMM\": 5, \"SexLang\": \"weiblich\", \"sum_WBev\": 10}, {\"GueltigAbDat\": \"2021-04-17T00:00:00\", \"GueltigAbDatJahr\": 2021, \"GueltigAbDatMM\": 4, \"SexLang\": \"m\\u00e4nnlich\", \"sum_WBev\": 10}, {\"GueltigAbDat\": \"2020-11-15T00:00:00\", \"GueltigAbDatJahr\": 2020, \"GueltigAbDatMM\": 11, \"SexLang\": \"weiblich\", \"sum_WBev\": 10}, {\"GueltigAbDat\": \"2021-04-15T00:00:00\", \"GueltigAbDatJahr\": 2021, \"GueltigAbDatMM\": 4, \"SexLang\": \"weiblich\", \"sum_WBev\": 10}, {\"GueltigAbDat\": \"2021-10-10T00:00:00\", \"GueltigAbDatJahr\": 2021, \"GueltigAbDatMM\": 10, \"SexLang\": \"weiblich\", \"sum_WBev\": 10}, {\"GueltigAbDat\": \"2020-12-18T00:00:00\", \"GueltigAbDatJahr\": 2020, \"GueltigAbDatMM\": 12, \"SexLang\": \"m\\u00e4nnlich\", \"sum_WBev\": 10}, {\"GueltigAbDat\": \"2021-06-08T00:00:00\", \"GueltigAbDatJahr\": 2021, \"GueltigAbDatMM\": 6, \"SexLang\": \"weiblich\", \"sum_WBev\": 10}, {\"GueltigAbDat\": \"2021-04-07T00:00:00\", \"GueltigAbDatJahr\": 2021, \"GueltigAbDatMM\": 4, \"SexLang\": \"weiblich\", \"sum_WBev\": 10}, {\"GueltigAbDat\": \"2020-11-09T00:00:00\", \"GueltigAbDatJahr\": 2020, \"GueltigAbDatMM\": 11, \"SexLang\": \"weiblich\", \"sum_WBev\": 10}, {\"GueltigAbDat\": \"2021-11-22T00:00:00\", \"GueltigAbDatJahr\": 2021, \"GueltigAbDatMM\": 11, \"SexLang\": \"m\\u00e4nnlich\", \"sum_WBev\": 10}, {\"GueltigAbDat\": \"2021-11-17T00:00:00\", \"GueltigAbDatJahr\": 2021, \"GueltigAbDatMM\": 11, \"SexLang\": \"weiblich\", \"sum_WBev\": 10}, {\"GueltigAbDat\": \"2021-05-07T00:00:00\", \"GueltigAbDatJahr\": 2021, \"GueltigAbDatMM\": 5, \"SexLang\": \"weiblich\", \"sum_WBev\": 10}, {\"GueltigAbDat\": \"2020-11-06T00:00:00\", \"GueltigAbDatJahr\": 2020, \"GueltigAbDatMM\": 11, \"SexLang\": \"m\\u00e4nnlich\", \"sum_WBev\": 10}, {\"GueltigAbDat\": \"2021-11-19T00:00:00\", \"GueltigAbDatJahr\": 2021, \"GueltigAbDatMM\": 11, \"SexLang\": \"m\\u00e4nnlich\", \"sum_WBev\": 10}, {\"GueltigAbDat\": \"2021-04-26T00:00:00\", \"GueltigAbDatJahr\": 2021, \"GueltigAbDatMM\": 4, \"SexLang\": \"weiblich\", \"sum_WBev\": 9}, {\"GueltigAbDat\": \"2021-03-19T00:00:00\", \"GueltigAbDatJahr\": 2021, \"GueltigAbDatMM\": 3, \"SexLang\": \"m\\u00e4nnlich\", \"sum_WBev\": 9}, {\"GueltigAbDat\": \"2021-08-06T00:00:00\", \"GueltigAbDatJahr\": 2021, \"GueltigAbDatMM\": 8, \"SexLang\": \"weiblich\", \"sum_WBev\": 9}, {\"GueltigAbDat\": \"2020-11-20T00:00:00\", \"GueltigAbDatJahr\": 2020, \"GueltigAbDatMM\": 11, \"SexLang\": \"weiblich\", \"sum_WBev\": 9}, {\"GueltigAbDat\": \"2020-11-23T00:00:00\", \"GueltigAbDatJahr\": 2020, \"GueltigAbDatMM\": 11, \"SexLang\": \"weiblich\", \"sum_WBev\": 9}, {\"GueltigAbDat\": \"2021-08-10T00:00:00\", \"GueltigAbDatJahr\": 2021, \"GueltigAbDatMM\": 8, \"SexLang\": \"m\\u00e4nnlich\", \"sum_WBev\": 9}, {\"GueltigAbDat\": \"2021-03-13T00:00:00\", \"GueltigAbDatJahr\": 2021, \"GueltigAbDatMM\": 3, \"SexLang\": \"m\\u00e4nnlich\", \"sum_WBev\": 9}, {\"GueltigAbDat\": \"2021-02-07T00:00:00\", \"GueltigAbDatJahr\": 2021, \"GueltigAbDatMM\": 2, \"SexLang\": \"m\\u00e4nnlich\", \"sum_WBev\": 9}, {\"GueltigAbDat\": \"2020-11-18T00:00:00\", \"GueltigAbDatJahr\": 2020, \"GueltigAbDatMM\": 11, \"SexLang\": \"m\\u00e4nnlich\", \"sum_WBev\": 9}, {\"GueltigAbDat\": \"2021-10-29T00:00:00\", \"GueltigAbDatJahr\": 2021, \"GueltigAbDatMM\": 10, \"SexLang\": \"weiblich\", \"sum_WBev\": 9}, {\"GueltigAbDat\": \"2021-06-27T00:00:00\", \"GueltigAbDatJahr\": 2021, \"GueltigAbDatMM\": 6, \"SexLang\": \"weiblich\", \"sum_WBev\": 9}, {\"GueltigAbDat\": \"2021-03-08T00:00:00\", \"GueltigAbDatJahr\": 2021, \"GueltigAbDatMM\": 3, \"SexLang\": \"m\\u00e4nnlich\", \"sum_WBev\": 9}, {\"GueltigAbDat\": \"2021-11-29T00:00:00\", \"GueltigAbDatJahr\": 2021, \"GueltigAbDatMM\": 11, \"SexLang\": \"m\\u00e4nnlich\", \"sum_WBev\": 9}, {\"GueltigAbDat\": \"2021-10-28T00:00:00\", \"GueltigAbDatJahr\": 2021, \"GueltigAbDatMM\": 10, \"SexLang\": \"m\\u00e4nnlich\", \"sum_WBev\": 9}, {\"GueltigAbDat\": \"2020-11-27T00:00:00\", \"GueltigAbDatJahr\": 2020, \"GueltigAbDatMM\": 11, \"SexLang\": \"m\\u00e4nnlich\", \"sum_WBev\": 9}, {\"GueltigAbDat\": \"2021-06-24T00:00:00\", \"GueltigAbDatJahr\": 2021, \"GueltigAbDatMM\": 6, \"SexLang\": \"weiblich\", \"sum_WBev\": 9}, {\"GueltigAbDat\": \"2021-08-05T00:00:00\", \"GueltigAbDatJahr\": 2021, \"GueltigAbDatMM\": 8, \"SexLang\": \"m\\u00e4nnlich\", \"sum_WBev\": 9}, {\"GueltigAbDat\": \"2021-11-10T00:00:00\", \"GueltigAbDatJahr\": 2021, \"GueltigAbDatMM\": 11, \"SexLang\": \"weiblich\", \"sum_WBev\": 9}, {\"GueltigAbDat\": \"2021-07-09T00:00:00\", \"GueltigAbDatJahr\": 2021, \"GueltigAbDatMM\": 7, \"SexLang\": \"m\\u00e4nnlich\", \"sum_WBev\": 9}, {\"GueltigAbDat\": \"2021-02-24T00:00:00\", \"GueltigAbDatJahr\": 2021, \"GueltigAbDatMM\": 2, \"SexLang\": \"weiblich\", \"sum_WBev\": 9}, {\"GueltigAbDat\": \"2021-02-23T00:00:00\", \"GueltigAbDatJahr\": 2021, \"GueltigAbDatMM\": 2, \"SexLang\": \"weiblich\", \"sum_WBev\": 9}, {\"GueltigAbDat\": \"2021-07-05T00:00:00\", \"GueltigAbDatJahr\": 2021, \"GueltigAbDatMM\": 7, \"SexLang\": \"weiblich\", \"sum_WBev\": 9}, {\"GueltigAbDat\": \"2021-02-22T00:00:00\", \"GueltigAbDatJahr\": 2021, \"GueltigAbDatMM\": 2, \"SexLang\": \"weiblich\", \"sum_WBev\": 9}, {\"GueltigAbDat\": \"2020-11-12T00:00:00\", \"GueltigAbDatJahr\": 2020, \"GueltigAbDatMM\": 11, \"SexLang\": \"m\\u00e4nnlich\", \"sum_WBev\": 9}, {\"GueltigAbDat\": \"2021-07-27T00:00:00\", \"GueltigAbDatJahr\": 2021, \"GueltigAbDatMM\": 7, \"SexLang\": \"m\\u00e4nnlich\", \"sum_WBev\": 9}, {\"GueltigAbDat\": \"2021-07-27T00:00:00\", \"GueltigAbDatJahr\": 2021, \"GueltigAbDatMM\": 7, \"SexLang\": \"weiblich\", \"sum_WBev\": 9}, {\"GueltigAbDat\": \"2021-11-16T00:00:00\", \"GueltigAbDatJahr\": 2021, \"GueltigAbDatMM\": 11, \"SexLang\": \"weiblich\", \"sum_WBev\": 9}, {\"GueltigAbDat\": \"2021-02-20T00:00:00\", \"GueltigAbDatJahr\": 2021, \"GueltigAbDatMM\": 2, \"SexLang\": \"m\\u00e4nnlich\", \"sum_WBev\": 9}, {\"GueltigAbDat\": \"2021-03-14T00:00:00\", \"GueltigAbDatJahr\": 2021, \"GueltigAbDatMM\": 3, \"SexLang\": \"weiblich\", \"sum_WBev\": 9}, {\"GueltigAbDat\": \"2021-07-04T00:00:00\", \"GueltigAbDatJahr\": 2021, \"GueltigAbDatMM\": 7, \"SexLang\": \"weiblich\", \"sum_WBev\": 9}, {\"GueltigAbDat\": \"2021-02-18T00:00:00\", \"GueltigAbDatJahr\": 2021, \"GueltigAbDatMM\": 2, \"SexLang\": \"weiblich\", \"sum_WBev\": 9}, {\"GueltigAbDat\": \"2021-08-14T00:00:00\", \"GueltigAbDatJahr\": 2021, \"GueltigAbDatMM\": 8, \"SexLang\": \"weiblich\", \"sum_WBev\": 9}, {\"GueltigAbDat\": \"2021-03-16T00:00:00\", \"GueltigAbDatJahr\": 2021, \"GueltigAbDatMM\": 3, \"SexLang\": \"m\\u00e4nnlich\", \"sum_WBev\": 9}, {\"GueltigAbDat\": \"2021-04-30T00:00:00\", \"GueltigAbDatJahr\": 2021, \"GueltigAbDatMM\": 4, \"SexLang\": \"m\\u00e4nnlich\", \"sum_WBev\": 9}, {\"GueltigAbDat\": \"2021-07-20T00:00:00\", \"GueltigAbDatJahr\": 2021, \"GueltigAbDatMM\": 7, \"SexLang\": \"weiblich\", \"sum_WBev\": 9}, {\"GueltigAbDat\": \"2021-03-17T00:00:00\", \"GueltigAbDatJahr\": 2021, \"GueltigAbDatMM\": 3, \"SexLang\": \"m\\u00e4nnlich\", \"sum_WBev\": 9}, {\"GueltigAbDat\": \"2021-02-14T00:00:00\", \"GueltigAbDatJahr\": 2021, \"GueltigAbDatMM\": 2, \"SexLang\": \"m\\u00e4nnlich\", \"sum_WBev\": 9}, {\"GueltigAbDat\": \"2021-07-16T00:00:00\", \"GueltigAbDatJahr\": 2021, \"GueltigAbDatMM\": 7, \"SexLang\": \"m\\u00e4nnlich\", \"sum_WBev\": 9}, {\"GueltigAbDat\": \"2021-10-27T00:00:00\", \"GueltigAbDatJahr\": 2021, \"GueltigAbDatMM\": 10, \"SexLang\": \"weiblich\", \"sum_WBev\": 9}, {\"GueltigAbDat\": \"2021-03-23T00:00:00\", \"GueltigAbDatJahr\": 2021, \"GueltigAbDatMM\": 3, \"SexLang\": \"weiblich\", \"sum_WBev\": 9}, {\"GueltigAbDat\": \"2020-12-09T00:00:00\", \"GueltigAbDatJahr\": 2020, \"GueltigAbDatMM\": 12, \"SexLang\": \"m\\u00e4nnlich\", \"sum_WBev\": 9}, {\"GueltigAbDat\": \"2021-06-16T00:00:00\", \"GueltigAbDatJahr\": 2021, \"GueltigAbDatMM\": 6, \"SexLang\": \"weiblich\", \"sum_WBev\": 9}, {\"GueltigAbDat\": \"2021-10-09T00:00:00\", \"GueltigAbDatJahr\": 2021, \"GueltigAbDatMM\": 10, \"SexLang\": \"weiblich\", \"sum_WBev\": 9}, {\"GueltigAbDat\": \"2020-12-16T00:00:00\", \"GueltigAbDatJahr\": 2020, \"GueltigAbDatMM\": 12, \"SexLang\": \"m\\u00e4nnlich\", \"sum_WBev\": 9}, {\"GueltigAbDat\": \"2021-03-31T00:00:00\", \"GueltigAbDatJahr\": 2021, \"GueltigAbDatMM\": 3, \"SexLang\": \"weiblich\", \"sum_WBev\": 9}, {\"GueltigAbDat\": \"2020-12-16T00:00:00\", \"GueltigAbDatJahr\": 2020, \"GueltigAbDatMM\": 12, \"SexLang\": \"weiblich\", \"sum_WBev\": 9}, {\"GueltigAbDat\": \"2021-04-13T00:00:00\", \"GueltigAbDatJahr\": 2021, \"GueltigAbDatMM\": 4, \"SexLang\": \"m\\u00e4nnlich\", \"sum_WBev\": 9}, {\"GueltigAbDat\": \"2021-04-02T00:00:00\", \"GueltigAbDatJahr\": 2021, \"GueltigAbDatMM\": 4, \"SexLang\": \"m\\u00e4nnlich\", \"sum_WBev\": 9}, {\"GueltigAbDat\": \"2021-04-12T00:00:00\", \"GueltigAbDatJahr\": 2021, \"GueltigAbDatMM\": 4, \"SexLang\": \"weiblich\", \"sum_WBev\": 9}, {\"GueltigAbDat\": \"2021-04-11T00:00:00\", \"GueltigAbDatJahr\": 2021, \"GueltigAbDatMM\": 4, \"SexLang\": \"weiblich\", \"sum_WBev\": 9}, {\"GueltigAbDat\": \"2020-12-23T00:00:00\", \"GueltigAbDatJahr\": 2020, \"GueltigAbDatMM\": 12, \"SexLang\": \"m\\u00e4nnlich\", \"sum_WBev\": 9}, {\"GueltigAbDat\": \"2021-04-10T00:00:00\", \"GueltigAbDatJahr\": 2021, \"GueltigAbDatMM\": 4, \"SexLang\": \"m\\u00e4nnlich\", \"sum_WBev\": 9}, {\"GueltigAbDat\": \"2020-12-26T00:00:00\", \"GueltigAbDatJahr\": 2020, \"GueltigAbDatMM\": 12, \"SexLang\": \"m\\u00e4nnlich\", \"sum_WBev\": 9}, {\"GueltigAbDat\": \"2021-09-27T00:00:00\", \"GueltigAbDatJahr\": 2021, \"GueltigAbDatMM\": 9, \"SexLang\": \"m\\u00e4nnlich\", \"sum_WBev\": 9}, {\"GueltigAbDat\": \"2021-04-09T00:00:00\", \"GueltigAbDatJahr\": 2021, \"GueltigAbDatMM\": 4, \"SexLang\": \"m\\u00e4nnlich\", \"sum_WBev\": 9}, {\"GueltigAbDat\": \"2021-04-08T00:00:00\", \"GueltigAbDatJahr\": 2021, \"GueltigAbDatMM\": 4, \"SexLang\": \"m\\u00e4nnlich\", \"sum_WBev\": 9}, {\"GueltigAbDat\": \"2021-01-07T00:00:00\", \"GueltigAbDatJahr\": 2021, \"GueltigAbDatMM\": 1, \"SexLang\": \"weiblich\", \"sum_WBev\": 9}, {\"GueltigAbDat\": \"2021-09-24T00:00:00\", \"GueltigAbDatJahr\": 2021, \"GueltigAbDatMM\": 9, \"SexLang\": \"weiblich\", \"sum_WBev\": 9}, {\"GueltigAbDat\": \"2021-09-16T00:00:00\", \"GueltigAbDatJahr\": 2021, \"GueltigAbDatMM\": 9, \"SexLang\": \"m\\u00e4nnlich\", \"sum_WBev\": 9}, {\"GueltigAbDat\": \"2021-04-07T00:00:00\", \"GueltigAbDatJahr\": 2021, \"GueltigAbDatMM\": 4, \"SexLang\": \"m\\u00e4nnlich\", \"sum_WBev\": 9}, {\"GueltigAbDat\": \"2021-06-12T00:00:00\", \"GueltigAbDatJahr\": 2021, \"GueltigAbDatMM\": 6, \"SexLang\": \"weiblich\", \"sum_WBev\": 9}, {\"GueltigAbDat\": \"2021-06-10T00:00:00\", \"GueltigAbDatJahr\": 2021, \"GueltigAbDatMM\": 6, \"SexLang\": \"m\\u00e4nnlich\", \"sum_WBev\": 9}, {\"GueltigAbDat\": \"2021-06-19T00:00:00\", \"GueltigAbDatJahr\": 2021, \"GueltigAbDatMM\": 6, \"SexLang\": \"m\\u00e4nnlich\", \"sum_WBev\": 9}, {\"GueltigAbDat\": \"2021-10-12T00:00:00\", \"GueltigAbDatJahr\": 2021, \"GueltigAbDatMM\": 10, \"SexLang\": \"m\\u00e4nnlich\", \"sum_WBev\": 9}, {\"GueltigAbDat\": \"2021-01-25T00:00:00\", \"GueltigAbDatJahr\": 2021, \"GueltigAbDatMM\": 1, \"SexLang\": \"weiblich\", \"sum_WBev\": 9}, {\"GueltigAbDat\": \"2021-05-26T00:00:00\", \"GueltigAbDatJahr\": 2021, \"GueltigAbDatMM\": 5, \"SexLang\": \"m\\u00e4nnlich\", \"sum_WBev\": 9}, {\"GueltigAbDat\": \"2021-08-20T00:00:00\", \"GueltigAbDatJahr\": 2021, \"GueltigAbDatMM\": 8, \"SexLang\": \"m\\u00e4nnlich\", \"sum_WBev\": 9}, {\"GueltigAbDat\": \"2021-08-19T00:00:00\", \"GueltigAbDatJahr\": 2021, \"GueltigAbDatMM\": 8, \"SexLang\": \"weiblich\", \"sum_WBev\": 9}, {\"GueltigAbDat\": \"2021-04-18T00:00:00\", \"GueltigAbDatJahr\": 2021, \"GueltigAbDatMM\": 4, \"SexLang\": \"weiblich\", \"sum_WBev\": 9}, {\"GueltigAbDat\": \"2021-08-24T00:00:00\", \"GueltigAbDatJahr\": 2021, \"GueltigAbDatMM\": 8, \"SexLang\": \"m\\u00e4nnlich\", \"sum_WBev\": 9}, {\"GueltigAbDat\": \"2021-06-21T00:00:00\", \"GueltigAbDatJahr\": 2021, \"GueltigAbDatMM\": 6, \"SexLang\": \"m\\u00e4nnlich\", \"sum_WBev\": 9}, {\"GueltigAbDat\": \"2021-08-22T00:00:00\", \"GueltigAbDatJahr\": 2021, \"GueltigAbDatMM\": 8, \"SexLang\": \"m\\u00e4nnlich\", \"sum_WBev\": 9}, {\"GueltigAbDat\": \"2021-03-25T00:00:00\", \"GueltigAbDatJahr\": 2021, \"GueltigAbDatMM\": 3, \"SexLang\": \"m\\u00e4nnlich\", \"sum_WBev\": 9}, {\"GueltigAbDat\": \"2020-12-04T00:00:00\", \"GueltigAbDatJahr\": 2020, \"GueltigAbDatMM\": 12, \"SexLang\": \"weiblich\", \"sum_WBev\": 9}, {\"GueltigAbDat\": \"2021-10-25T00:00:00\", \"GueltigAbDatJahr\": 2021, \"GueltigAbDatMM\": 10, \"SexLang\": \"m\\u00e4nnlich\", \"sum_WBev\": 9}, {\"GueltigAbDat\": \"2020-12-07T00:00:00\", \"GueltigAbDatJahr\": 2020, \"GueltigAbDatMM\": 12, \"SexLang\": \"m\\u00e4nnlich\", \"sum_WBev\": 9}, {\"GueltigAbDat\": \"2021-05-28T00:00:00\", \"GueltigAbDatJahr\": 2021, \"GueltigAbDatMM\": 5, \"SexLang\": \"m\\u00e4nnlich\", \"sum_WBev\": 9}, {\"GueltigAbDat\": \"2021-03-26T00:00:00\", \"GueltigAbDatJahr\": 2021, \"GueltigAbDatMM\": 3, \"SexLang\": \"weiblich\", \"sum_WBev\": 9}, {\"GueltigAbDat\": \"2021-05-09T00:00:00\", \"GueltigAbDatJahr\": 2021, \"GueltigAbDatMM\": 5, \"SexLang\": \"m\\u00e4nnlich\", \"sum_WBev\": 8}, {\"GueltigAbDat\": \"2021-05-22T00:00:00\", \"GueltigAbDatJahr\": 2021, \"GueltigAbDatMM\": 5, \"SexLang\": \"weiblich\", \"sum_WBev\": 8}, {\"GueltigAbDat\": \"2021-07-09T00:00:00\", \"GueltigAbDatJahr\": 2021, \"GueltigAbDatMM\": 7, \"SexLang\": \"weiblich\", \"sum_WBev\": 8}, {\"GueltigAbDat\": \"2021-04-20T00:00:00\", \"GueltigAbDatJahr\": 2021, \"GueltigAbDatMM\": 4, \"SexLang\": \"weiblich\", \"sum_WBev\": 8}, {\"GueltigAbDat\": \"2021-03-10T00:00:00\", \"GueltigAbDatJahr\": 2021, \"GueltigAbDatMM\": 3, \"SexLang\": \"weiblich\", \"sum_WBev\": 8}, {\"GueltigAbDat\": \"2021-07-07T00:00:00\", \"GueltigAbDatJahr\": 2021, \"GueltigAbDatMM\": 7, \"SexLang\": \"weiblich\", \"sum_WBev\": 8}, {\"GueltigAbDat\": \"2021-03-12T00:00:00\", \"GueltigAbDatJahr\": 2021, \"GueltigAbDatMM\": 3, \"SexLang\": \"m\\u00e4nnlich\", \"sum_WBev\": 8}, {\"GueltigAbDat\": \"2021-04-22T00:00:00\", \"GueltigAbDatJahr\": 2021, \"GueltigAbDatMM\": 4, \"SexLang\": \"weiblich\", \"sum_WBev\": 8}, {\"GueltigAbDat\": \"2021-06-09T00:00:00\", \"GueltigAbDatJahr\": 2021, \"GueltigAbDatMM\": 6, \"SexLang\": \"m\\u00e4nnlich\", \"sum_WBev\": 8}, {\"GueltigAbDat\": \"2021-06-30T00:00:00\", \"GueltigAbDatJahr\": 2021, \"GueltigAbDatMM\": 6, \"SexLang\": \"m\\u00e4nnlich\", \"sum_WBev\": 8}, {\"GueltigAbDat\": \"2021-05-13T00:00:00\", \"GueltigAbDatJahr\": 2021, \"GueltigAbDatMM\": 5, \"SexLang\": \"m\\u00e4nnlich\", \"sum_WBev\": 8}, {\"GueltigAbDat\": \"2021-04-19T00:00:00\", \"GueltigAbDatJahr\": 2021, \"GueltigAbDatMM\": 4, \"SexLang\": \"m\\u00e4nnlich\", \"sum_WBev\": 8}, {\"GueltigAbDat\": \"2021-06-30T00:00:00\", \"GueltigAbDatJahr\": 2021, \"GueltigAbDatMM\": 6, \"SexLang\": \"weiblich\", \"sum_WBev\": 8}, {\"GueltigAbDat\": \"2021-06-28T00:00:00\", \"GueltigAbDatJahr\": 2021, \"GueltigAbDatMM\": 6, \"SexLang\": \"m\\u00e4nnlich\", \"sum_WBev\": 8}, {\"GueltigAbDat\": \"2021-05-21T00:00:00\", \"GueltigAbDatJahr\": 2021, \"GueltigAbDatMM\": 5, \"SexLang\": \"weiblich\", \"sum_WBev\": 8}, {\"GueltigAbDat\": \"2021-05-20T00:00:00\", \"GueltigAbDatJahr\": 2021, \"GueltigAbDatMM\": 5, \"SexLang\": \"m\\u00e4nnlich\", \"sum_WBev\": 8}, {\"GueltigAbDat\": \"2021-06-16T00:00:00\", \"GueltigAbDatJahr\": 2021, \"GueltigAbDatMM\": 6, \"SexLang\": \"m\\u00e4nnlich\", \"sum_WBev\": 8}, {\"GueltigAbDat\": \"2021-03-31T00:00:00\", \"GueltigAbDatJahr\": 2021, \"GueltigAbDatMM\": 3, \"SexLang\": \"m\\u00e4nnlich\", \"sum_WBev\": 8}, {\"GueltigAbDat\": \"2021-04-17T00:00:00\", \"GueltigAbDatJahr\": 2021, \"GueltigAbDatMM\": 4, \"SexLang\": \"weiblich\", \"sum_WBev\": 8}, {\"GueltigAbDat\": \"2021-03-28T00:00:00\", \"GueltigAbDatJahr\": 2021, \"GueltigAbDatMM\": 3, \"SexLang\": \"m\\u00e4nnlich\", \"sum_WBev\": 8}, {\"GueltigAbDat\": \"2021-04-23T00:00:00\", \"GueltigAbDatJahr\": 2021, \"GueltigAbDatMM\": 4, \"SexLang\": \"m\\u00e4nnlich\", \"sum_WBev\": 8}, {\"GueltigAbDat\": \"2021-05-16T00:00:00\", \"GueltigAbDatJahr\": 2021, \"GueltigAbDatMM\": 5, \"SexLang\": \"weiblich\", \"sum_WBev\": 8}, {\"GueltigAbDat\": \"2021-03-29T00:00:00\", \"GueltigAbDatJahr\": 2021, \"GueltigAbDatMM\": 3, \"SexLang\": \"m\\u00e4nnlich\", \"sum_WBev\": 8}, {\"GueltigAbDat\": \"2021-03-06T00:00:00\", \"GueltigAbDatJahr\": 2021, \"GueltigAbDatMM\": 3, \"SexLang\": \"weiblich\", \"sum_WBev\": 8}, {\"GueltigAbDat\": \"2021-08-16T00:00:00\", \"GueltigAbDatJahr\": 2021, \"GueltigAbDatMM\": 8, \"SexLang\": \"m\\u00e4nnlich\", \"sum_WBev\": 8}, {\"GueltigAbDat\": \"2021-03-05T00:00:00\", \"GueltigAbDatJahr\": 2021, \"GueltigAbDatMM\": 3, \"SexLang\": \"weiblich\", \"sum_WBev\": 8}, {\"GueltigAbDat\": \"2021-09-29T00:00:00\", \"GueltigAbDatJahr\": 2021, \"GueltigAbDatMM\": 9, \"SexLang\": \"m\\u00e4nnlich\", \"sum_WBev\": 8}, {\"GueltigAbDat\": \"2020-12-11T00:00:00\", \"GueltigAbDatJahr\": 2020, \"GueltigAbDatMM\": 12, \"SexLang\": \"weiblich\", \"sum_WBev\": 8}, {\"GueltigAbDat\": \"2020-12-12T00:00:00\", \"GueltigAbDatJahr\": 2020, \"GueltigAbDatMM\": 12, \"SexLang\": \"m\\u00e4nnlich\", \"sum_WBev\": 8}, {\"GueltigAbDat\": \"2021-10-11T00:00:00\", \"GueltigAbDatJahr\": 2021, \"GueltigAbDatMM\": 10, \"SexLang\": \"weiblich\", \"sum_WBev\": 8}, {\"GueltigAbDat\": \"2020-12-14T00:00:00\", \"GueltigAbDatJahr\": 2020, \"GueltigAbDatMM\": 12, \"SexLang\": \"m\\u00e4nnlich\", \"sum_WBev\": 8}, {\"GueltigAbDat\": \"2020-12-18T00:00:00\", \"GueltigAbDatJahr\": 2020, \"GueltigAbDatMM\": 12, \"SexLang\": \"weiblich\", \"sum_WBev\": 8}, {\"GueltigAbDat\": \"2021-10-03T00:00:00\", \"GueltigAbDatJahr\": 2021, \"GueltigAbDatMM\": 10, \"SexLang\": \"m\\u00e4nnlich\", \"sum_WBev\": 8}, {\"GueltigAbDat\": \"2020-12-21T00:00:00\", \"GueltigAbDatJahr\": 2020, \"GueltigAbDatMM\": 12, \"SexLang\": \"weiblich\", \"sum_WBev\": 8}, {\"GueltigAbDat\": \"2020-12-22T00:00:00\", \"GueltigAbDatJahr\": 2020, \"GueltigAbDatMM\": 12, \"SexLang\": \"weiblich\", \"sum_WBev\": 8}, {\"GueltigAbDat\": \"2020-12-24T00:00:00\", \"GueltigAbDatJahr\": 2020, \"GueltigAbDatMM\": 12, \"SexLang\": \"weiblich\", \"sum_WBev\": 8}, {\"GueltigAbDat\": \"2021-09-24T00:00:00\", \"GueltigAbDatJahr\": 2021, \"GueltigAbDatMM\": 9, \"SexLang\": \"m\\u00e4nnlich\", \"sum_WBev\": 8}, {\"GueltigAbDat\": \"2021-08-28T00:00:00\", \"GueltigAbDatJahr\": 2021, \"GueltigAbDatMM\": 8, \"SexLang\": \"weiblich\", \"sum_WBev\": 8}, {\"GueltigAbDat\": \"2020-12-30T00:00:00\", \"GueltigAbDatJahr\": 2020, \"GueltigAbDatMM\": 12, \"SexLang\": \"m\\u00e4nnlich\", \"sum_WBev\": 8}, {\"GueltigAbDat\": \"2021-09-23T00:00:00\", \"GueltigAbDatJahr\": 2021, \"GueltigAbDatMM\": 9, \"SexLang\": \"weiblich\", \"sum_WBev\": 8}, {\"GueltigAbDat\": \"2021-01-04T00:00:00\", \"GueltigAbDatJahr\": 2021, \"GueltigAbDatMM\": 1, \"SexLang\": \"m\\u00e4nnlich\", \"sum_WBev\": 8}, {\"GueltigAbDat\": \"2021-03-05T00:00:00\", \"GueltigAbDatJahr\": 2021, \"GueltigAbDatMM\": 3, \"SexLang\": \"m\\u00e4nnlich\", \"sum_WBev\": 8}, {\"GueltigAbDat\": \"2021-09-19T00:00:00\", \"GueltigAbDatJahr\": 2021, \"GueltigAbDatMM\": 9, \"SexLang\": \"m\\u00e4nnlich\", \"sum_WBev\": 8}, {\"GueltigAbDat\": \"2021-09-13T00:00:00\", \"GueltigAbDatJahr\": 2021, \"GueltigAbDatMM\": 9, \"SexLang\": \"m\\u00e4nnlich\", \"sum_WBev\": 8}, {\"GueltigAbDat\": \"2021-09-03T00:00:00\", \"GueltigAbDatJahr\": 2021, \"GueltigAbDatMM\": 9, \"SexLang\": \"m\\u00e4nnlich\", \"sum_WBev\": 8}, {\"GueltigAbDat\": \"2021-01-15T00:00:00\", \"GueltigAbDatJahr\": 2021, \"GueltigAbDatMM\": 1, \"SexLang\": \"m\\u00e4nnlich\", \"sum_WBev\": 8}, {\"GueltigAbDat\": \"2021-01-17T00:00:00\", \"GueltigAbDatJahr\": 2021, \"GueltigAbDatMM\": 1, \"SexLang\": \"weiblich\", \"sum_WBev\": 8}, {\"GueltigAbDat\": \"2021-10-15T00:00:00\", \"GueltigAbDatJahr\": 2021, \"GueltigAbDatMM\": 10, \"SexLang\": \"weiblich\", \"sum_WBev\": 8}, {\"GueltigAbDat\": \"2021-10-16T00:00:00\", \"GueltigAbDatJahr\": 2021, \"GueltigAbDatMM\": 10, \"SexLang\": \"weiblich\", \"sum_WBev\": 8}, {\"GueltigAbDat\": \"2021-10-18T00:00:00\", \"GueltigAbDatJahr\": 2021, \"GueltigAbDatMM\": 10, \"SexLang\": \"weiblich\", \"sum_WBev\": 8}, {\"GueltigAbDat\": \"2021-10-22T00:00:00\", \"GueltigAbDatJahr\": 2021, \"GueltigAbDatMM\": 10, \"SexLang\": \"weiblich\", \"sum_WBev\": 8}, {\"GueltigAbDat\": \"2021-11-26T00:00:00\", \"GueltigAbDatJahr\": 2021, \"GueltigAbDatMM\": 11, \"SexLang\": \"weiblich\", \"sum_WBev\": 8}, {\"GueltigAbDat\": \"2021-11-24T00:00:00\", \"GueltigAbDatJahr\": 2021, \"GueltigAbDatMM\": 11, \"SexLang\": \"weiblich\", \"sum_WBev\": 8}, {\"GueltigAbDat\": \"2021-11-23T00:00:00\", \"GueltigAbDatJahr\": 2021, \"GueltigAbDatMM\": 11, \"SexLang\": \"weiblich\", \"sum_WBev\": 8}, {\"GueltigAbDat\": \"2021-11-23T00:00:00\", \"GueltigAbDatJahr\": 2021, \"GueltigAbDatMM\": 11, \"SexLang\": \"m\\u00e4nnlich\", \"sum_WBev\": 8}, {\"GueltigAbDat\": \"2021-11-18T00:00:00\", \"GueltigAbDatJahr\": 2021, \"GueltigAbDatMM\": 11, \"SexLang\": \"m\\u00e4nnlich\", \"sum_WBev\": 8}, {\"GueltigAbDat\": \"2020-11-11T00:00:00\", \"GueltigAbDatJahr\": 2020, \"GueltigAbDatMM\": 11, \"SexLang\": \"m\\u00e4nnlich\", \"sum_WBev\": 8}, {\"GueltigAbDat\": \"2020-11-14T00:00:00\", \"GueltigAbDatJahr\": 2020, \"GueltigAbDatMM\": 11, \"SexLang\": \"weiblich\", \"sum_WBev\": 8}, {\"GueltigAbDat\": \"2021-11-14T00:00:00\", \"GueltigAbDatJahr\": 2021, \"GueltigAbDatMM\": 11, \"SexLang\": \"weiblich\", \"sum_WBev\": 8}, {\"GueltigAbDat\": \"2020-11-16T00:00:00\", \"GueltigAbDatJahr\": 2020, \"GueltigAbDatMM\": 11, \"SexLang\": \"m\\u00e4nnlich\", \"sum_WBev\": 8}, {\"GueltigAbDat\": \"2021-11-12T00:00:00\", \"GueltigAbDatJahr\": 2021, \"GueltigAbDatMM\": 11, \"SexLang\": \"m\\u00e4nnlich\", \"sum_WBev\": 8}, {\"GueltigAbDat\": \"2021-11-09T00:00:00\", \"GueltigAbDatJahr\": 2021, \"GueltigAbDatMM\": 11, \"SexLang\": \"weiblich\", \"sum_WBev\": 8}, {\"GueltigAbDat\": \"2021-11-04T00:00:00\", \"GueltigAbDatJahr\": 2021, \"GueltigAbDatMM\": 11, \"SexLang\": \"weiblich\", \"sum_WBev\": 8}, {\"GueltigAbDat\": \"2020-11-24T00:00:00\", \"GueltigAbDatJahr\": 2020, \"GueltigAbDatMM\": 11, \"SexLang\": \"m\\u00e4nnlich\", \"sum_WBev\": 8}, {\"GueltigAbDat\": \"2021-10-27T00:00:00\", \"GueltigAbDatJahr\": 2021, \"GueltigAbDatMM\": 10, \"SexLang\": \"m\\u00e4nnlich\", \"sum_WBev\": 8}, {\"GueltigAbDat\": \"2020-11-30T00:00:00\", \"GueltigAbDatJahr\": 2020, \"GueltigAbDatMM\": 11, \"SexLang\": \"m\\u00e4nnlich\", \"sum_WBev\": 8}, {\"GueltigAbDat\": \"2020-12-01T00:00:00\", \"GueltigAbDatJahr\": 2020, \"GueltigAbDatMM\": 12, \"SexLang\": \"m\\u00e4nnlich\", \"sum_WBev\": 8}, {\"GueltigAbDat\": \"2021-10-24T00:00:00\", \"GueltigAbDatJahr\": 2021, \"GueltigAbDatMM\": 10, \"SexLang\": \"m\\u00e4nnlich\", \"sum_WBev\": 8}, {\"GueltigAbDat\": \"2020-12-02T00:00:00\", \"GueltigAbDatJahr\": 2020, \"GueltigAbDatMM\": 12, \"SexLang\": \"m\\u00e4nnlich\", \"sum_WBev\": 8}, {\"GueltigAbDat\": \"2020-12-02T00:00:00\", \"GueltigAbDatJahr\": 2020, \"GueltigAbDatMM\": 12, \"SexLang\": \"weiblich\", \"sum_WBev\": 8}, {\"GueltigAbDat\": \"2021-08-29T00:00:00\", \"GueltigAbDatJahr\": 2021, \"GueltigAbDatMM\": 8, \"SexLang\": \"weiblich\", \"sum_WBev\": 8}, {\"GueltigAbDat\": \"2021-09-20T00:00:00\", \"GueltigAbDatJahr\": 2021, \"GueltigAbDatMM\": 9, \"SexLang\": \"m\\u00e4nnlich\", \"sum_WBev\": 8}, {\"GueltigAbDat\": \"2021-08-28T00:00:00\", \"GueltigAbDatJahr\": 2021, \"GueltigAbDatMM\": 8, \"SexLang\": \"m\\u00e4nnlich\", \"sum_WBev\": 8}, {\"GueltigAbDat\": \"2021-02-09T00:00:00\", \"GueltigAbDatJahr\": 2021, \"GueltigAbDatMM\": 2, \"SexLang\": \"m\\u00e4nnlich\", \"sum_WBev\": 8}, {\"GueltigAbDat\": \"2021-02-19T00:00:00\", \"GueltigAbDatJahr\": 2021, \"GueltigAbDatMM\": 2, \"SexLang\": \"m\\u00e4nnlich\", \"sum_WBev\": 8}, {\"GueltigAbDat\": \"2021-02-27T00:00:00\", \"GueltigAbDatJahr\": 2021, \"GueltigAbDatMM\": 2, \"SexLang\": \"weiblich\", \"sum_WBev\": 8}, {\"GueltigAbDat\": \"2021-07-21T00:00:00\", \"GueltigAbDatJahr\": 2021, \"GueltigAbDatMM\": 7, \"SexLang\": \"weiblich\", \"sum_WBev\": 8}, {\"GueltigAbDat\": \"2021-08-12T00:00:00\", \"GueltigAbDatJahr\": 2021, \"GueltigAbDatMM\": 8, \"SexLang\": \"m\\u00e4nnlich\", \"sum_WBev\": 8}, {\"GueltigAbDat\": \"2021-08-11T00:00:00\", \"GueltigAbDatJahr\": 2021, \"GueltigAbDatMM\": 8, \"SexLang\": \"weiblich\", \"sum_WBev\": 8}, {\"GueltigAbDat\": \"2021-02-05T00:00:00\", \"GueltigAbDatJahr\": 2021, \"GueltigAbDatMM\": 2, \"SexLang\": \"weiblich\", \"sum_WBev\": 8}, {\"GueltigAbDat\": \"2021-02-10T00:00:00\", \"GueltigAbDatJahr\": 2021, \"GueltigAbDatMM\": 2, \"SexLang\": \"m\\u00e4nnlich\", \"sum_WBev\": 8}, {\"GueltigAbDat\": \"2021-01-30T00:00:00\", \"GueltigAbDatJahr\": 2021, \"GueltigAbDatMM\": 1, \"SexLang\": \"weiblich\", \"sum_WBev\": 8}, {\"GueltigAbDat\": \"2021-08-06T00:00:00\", \"GueltigAbDatJahr\": 2021, \"GueltigAbDatMM\": 8, \"SexLang\": \"m\\u00e4nnlich\", \"sum_WBev\": 8}, {\"GueltigAbDat\": \"2021-08-05T00:00:00\", \"GueltigAbDatJahr\": 2021, \"GueltigAbDatMM\": 8, \"SexLang\": \"weiblich\", \"sum_WBev\": 8}, {\"GueltigAbDat\": \"2021-08-02T00:00:00\", \"GueltigAbDatJahr\": 2021, \"GueltigAbDatMM\": 8, \"SexLang\": \"m\\u00e4nnlich\", \"sum_WBev\": 8}, {\"GueltigAbDat\": \"2021-02-24T00:00:00\", \"GueltigAbDatJahr\": 2021, \"GueltigAbDatMM\": 2, \"SexLang\": \"m\\u00e4nnlich\", \"sum_WBev\": 8}, {\"GueltigAbDat\": \"2021-02-16T00:00:00\", \"GueltigAbDatJahr\": 2021, \"GueltigAbDatMM\": 2, \"SexLang\": \"weiblich\", \"sum_WBev\": 8}, {\"GueltigAbDat\": \"2021-02-19T00:00:00\", \"GueltigAbDatJahr\": 2021, \"GueltigAbDatMM\": 2, \"SexLang\": \"weiblich\", \"sum_WBev\": 8}, {\"GueltigAbDat\": \"2021-05-06T00:00:00\", \"GueltigAbDatJahr\": 2021, \"GueltigAbDatMM\": 5, \"SexLang\": \"weiblich\", \"sum_WBev\": 8}, {\"GueltigAbDat\": \"2021-08-13T00:00:00\", \"GueltigAbDatJahr\": 2021, \"GueltigAbDatMM\": 8, \"SexLang\": \"weiblich\", \"sum_WBev\": 8}, {\"GueltigAbDat\": \"2021-03-03T00:00:00\", \"GueltigAbDatJahr\": 2021, \"GueltigAbDatMM\": 3, \"SexLang\": \"weiblich\", \"sum_WBev\": 8}, {\"GueltigAbDat\": \"2021-03-01T00:00:00\", \"GueltigAbDatJahr\": 2021, \"GueltigAbDatMM\": 3, \"SexLang\": \"m\\u00e4nnlich\", \"sum_WBev\": 8}, {\"GueltigAbDat\": \"2021-08-25T00:00:00\", \"GueltigAbDatJahr\": 2021, \"GueltigAbDatMM\": 8, \"SexLang\": \"weiblich\", \"sum_WBev\": 8}, {\"GueltigAbDat\": \"2021-03-04T00:00:00\", \"GueltigAbDatJahr\": 2021, \"GueltigAbDatMM\": 3, \"SexLang\": \"weiblich\", \"sum_WBev\": 8}, {\"GueltigAbDat\": \"2021-01-24T00:00:00\", \"GueltigAbDatJahr\": 2021, \"GueltigAbDatMM\": 1, \"SexLang\": \"m\\u00e4nnlich\", \"sum_WBev\": 8}, {\"GueltigAbDat\": \"2021-01-26T00:00:00\", \"GueltigAbDatJahr\": 2021, \"GueltigAbDatMM\": 1, \"SexLang\": \"weiblich\", \"sum_WBev\": 8}, {\"GueltigAbDat\": \"2021-03-01T00:00:00\", \"GueltigAbDatJahr\": 2021, \"GueltigAbDatMM\": 3, \"SexLang\": \"weiblich\", \"sum_WBev\": 8}, {\"GueltigAbDat\": \"2021-02-18T00:00:00\", \"GueltigAbDatJahr\": 2021, \"GueltigAbDatMM\": 2, \"SexLang\": \"m\\u00e4nnlich\", \"sum_WBev\": 8}, {\"GueltigAbDat\": \"2021-08-18T00:00:00\", \"GueltigAbDatJahr\": 2021, \"GueltigAbDatMM\": 8, \"SexLang\": \"m\\u00e4nnlich\", \"sum_WBev\": 8}, {\"GueltigAbDat\": \"2021-05-20T00:00:00\", \"GueltigAbDatJahr\": 2021, \"GueltigAbDatMM\": 5, \"SexLang\": \"weiblich\", \"sum_WBev\": 7}, {\"GueltigAbDat\": \"2021-07-20T00:00:00\", \"GueltigAbDatJahr\": 2021, \"GueltigAbDatMM\": 7, \"SexLang\": \"m\\u00e4nnlich\", \"sum_WBev\": 7}, {\"GueltigAbDat\": \"2021-07-26T00:00:00\", \"GueltigAbDatJahr\": 2021, \"GueltigAbDatMM\": 7, \"SexLang\": \"m\\u00e4nnlich\", \"sum_WBev\": 7}, {\"GueltigAbDat\": \"2021-07-15T00:00:00\", \"GueltigAbDatJahr\": 2021, \"GueltigAbDatMM\": 7, \"SexLang\": \"weiblich\", \"sum_WBev\": 7}, {\"GueltigAbDat\": \"2021-10-26T00:00:00\", \"GueltigAbDatJahr\": 2021, \"GueltigAbDatMM\": 10, \"SexLang\": \"m\\u00e4nnlich\", \"sum_WBev\": 7}, {\"GueltigAbDat\": \"2021-07-24T00:00:00\", \"GueltigAbDatJahr\": 2021, \"GueltigAbDatMM\": 7, \"SexLang\": \"weiblich\", \"sum_WBev\": 7}, {\"GueltigAbDat\": \"2021-11-10T00:00:00\", \"GueltigAbDatJahr\": 2021, \"GueltigAbDatMM\": 11, \"SexLang\": \"m\\u00e4nnlich\", \"sum_WBev\": 7}, {\"GueltigAbDat\": \"2021-11-02T00:00:00\", \"GueltigAbDatJahr\": 2021, \"GueltigAbDatMM\": 11, \"SexLang\": \"m\\u00e4nnlich\", \"sum_WBev\": 7}, {\"GueltigAbDat\": \"2021-07-19T00:00:00\", \"GueltigAbDatJahr\": 2021, \"GueltigAbDatMM\": 7, \"SexLang\": \"m\\u00e4nnlich\", \"sum_WBev\": 7}, {\"GueltigAbDat\": \"2021-07-17T00:00:00\", \"GueltigAbDatJahr\": 2021, \"GueltigAbDatMM\": 7, \"SexLang\": \"m\\u00e4nnlich\", \"sum_WBev\": 7}, {\"GueltigAbDat\": \"2021-05-10T00:00:00\", \"GueltigAbDatJahr\": 2021, \"GueltigAbDatMM\": 5, \"SexLang\": \"m\\u00e4nnlich\", \"sum_WBev\": 7}, {\"GueltigAbDat\": \"2021-07-16T00:00:00\", \"GueltigAbDatJahr\": 2021, \"GueltigAbDatMM\": 7, \"SexLang\": \"weiblich\", \"sum_WBev\": 7}, {\"GueltigAbDat\": \"2021-05-19T00:00:00\", \"GueltigAbDatJahr\": 2021, \"GueltigAbDatMM\": 5, \"SexLang\": \"m\\u00e4nnlich\", \"sum_WBev\": 7}, {\"GueltigAbDat\": \"2021-11-13T00:00:00\", \"GueltigAbDatJahr\": 2021, \"GueltigAbDatMM\": 11, \"SexLang\": \"weiblich\", \"sum_WBev\": 7}, {\"GueltigAbDat\": \"2021-11-03T00:00:00\", \"GueltigAbDatJahr\": 2021, \"GueltigAbDatMM\": 11, \"SexLang\": \"m\\u00e4nnlich\", \"sum_WBev\": 7}, {\"GueltigAbDat\": \"2021-11-04T00:00:00\", \"GueltigAbDatJahr\": 2021, \"GueltigAbDatMM\": 11, \"SexLang\": \"m\\u00e4nnlich\", \"sum_WBev\": 7}, {\"GueltigAbDat\": \"2021-11-22T00:00:00\", \"GueltigAbDatJahr\": 2021, \"GueltigAbDatMM\": 11, \"SexLang\": \"weiblich\", \"sum_WBev\": 7}, {\"GueltigAbDat\": \"2021-07-08T00:00:00\", \"GueltigAbDatJahr\": 2021, \"GueltigAbDatMM\": 7, \"SexLang\": \"m\\u00e4nnlich\", \"sum_WBev\": 7}, {\"GueltigAbDat\": \"2021-07-31T00:00:00\", \"GueltigAbDatJahr\": 2021, \"GueltigAbDatMM\": 7, \"SexLang\": \"weiblich\", \"sum_WBev\": 7}, {\"GueltigAbDat\": \"2021-07-29T00:00:00\", \"GueltigAbDatJahr\": 2021, \"GueltigAbDatMM\": 7, \"SexLang\": \"m\\u00e4nnlich\", \"sum_WBev\": 7}, {\"GueltigAbDat\": \"2021-09-25T00:00:00\", \"GueltigAbDatJahr\": 2021, \"GueltigAbDatMM\": 9, \"SexLang\": \"weiblich\", \"sum_WBev\": 7}, {\"GueltigAbDat\": \"2021-09-01T00:00:00\", \"GueltigAbDatJahr\": 2021, \"GueltigAbDatMM\": 9, \"SexLang\": \"weiblich\", \"sum_WBev\": 7}, {\"GueltigAbDat\": \"2021-06-20T00:00:00\", \"GueltigAbDatJahr\": 2021, \"GueltigAbDatMM\": 6, \"SexLang\": \"weiblich\", \"sum_WBev\": 7}, {\"GueltigAbDat\": \"2021-09-05T00:00:00\", \"GueltigAbDatJahr\": 2021, \"GueltigAbDatMM\": 9, \"SexLang\": \"weiblich\", \"sum_WBev\": 7}, {\"GueltigAbDat\": \"2021-09-08T00:00:00\", \"GueltigAbDatJahr\": 2021, \"GueltigAbDatMM\": 9, \"SexLang\": \"weiblich\", \"sum_WBev\": 7}, {\"GueltigAbDat\": \"2021-09-17T00:00:00\", \"GueltigAbDatJahr\": 2021, \"GueltigAbDatMM\": 9, \"SexLang\": \"weiblich\", \"sum_WBev\": 7}, {\"GueltigAbDat\": \"2021-06-14T00:00:00\", \"GueltigAbDatJahr\": 2021, \"GueltigAbDatMM\": 6, \"SexLang\": \"m\\u00e4nnlich\", \"sum_WBev\": 7}, {\"GueltigAbDat\": \"2021-06-21T00:00:00\", \"GueltigAbDatJahr\": 2021, \"GueltigAbDatMM\": 6, \"SexLang\": \"weiblich\", \"sum_WBev\": 7}, {\"GueltigAbDat\": \"2021-06-11T00:00:00\", \"GueltigAbDatJahr\": 2021, \"GueltigAbDatMM\": 6, \"SexLang\": \"weiblich\", \"sum_WBev\": 7}, {\"GueltigAbDat\": \"2021-08-18T00:00:00\", \"GueltigAbDatJahr\": 2021, \"GueltigAbDatMM\": 8, \"SexLang\": \"weiblich\", \"sum_WBev\": 7}, {\"GueltigAbDat\": \"2021-09-22T00:00:00\", \"GueltigAbDatJahr\": 2021, \"GueltigAbDatMM\": 9, \"SexLang\": \"weiblich\", \"sum_WBev\": 7}, {\"GueltigAbDat\": \"2021-08-17T00:00:00\", \"GueltigAbDatJahr\": 2021, \"GueltigAbDatMM\": 8, \"SexLang\": \"weiblich\", \"sum_WBev\": 7}, {\"GueltigAbDat\": \"2021-06-06T00:00:00\", \"GueltigAbDatJahr\": 2021, \"GueltigAbDatMM\": 6, \"SexLang\": \"weiblich\", \"sum_WBev\": 7}, {\"GueltigAbDat\": \"2021-05-25T00:00:00\", \"GueltigAbDatJahr\": 2021, \"GueltigAbDatMM\": 5, \"SexLang\": \"weiblich\", \"sum_WBev\": 7}, {\"GueltigAbDat\": \"2021-09-26T00:00:00\", \"GueltigAbDatJahr\": 2021, \"GueltigAbDatMM\": 9, \"SexLang\": \"m\\u00e4nnlich\", \"sum_WBev\": 7}, {\"GueltigAbDat\": \"2021-09-29T00:00:00\", \"GueltigAbDatJahr\": 2021, \"GueltigAbDatMM\": 9, \"SexLang\": \"weiblich\", \"sum_WBev\": 7}, {\"GueltigAbDat\": \"2021-06-05T00:00:00\", \"GueltigAbDatJahr\": 2021, \"GueltigAbDatMM\": 6, \"SexLang\": \"weiblich\", \"sum_WBev\": 7}, {\"GueltigAbDat\": \"2021-06-25T00:00:00\", \"GueltigAbDatJahr\": 2021, \"GueltigAbDatMM\": 6, \"SexLang\": \"m\\u00e4nnlich\", \"sum_WBev\": 7}, {\"GueltigAbDat\": \"2021-08-08T00:00:00\", \"GueltigAbDatJahr\": 2021, \"GueltigAbDatMM\": 8, \"SexLang\": \"weiblich\", \"sum_WBev\": 7}, {\"GueltigAbDat\": \"2021-06-02T00:00:00\", \"GueltigAbDatJahr\": 2021, \"GueltigAbDatMM\": 6, \"SexLang\": \"weiblich\", \"sum_WBev\": 7}, {\"GueltigAbDat\": \"2021-08-30T00:00:00\", \"GueltigAbDatJahr\": 2021, \"GueltigAbDatMM\": 8, \"SexLang\": \"m\\u00e4nnlich\", \"sum_WBev\": 7}, {\"GueltigAbDat\": \"2021-10-18T00:00:00\", \"GueltigAbDatJahr\": 2021, \"GueltigAbDatMM\": 10, \"SexLang\": \"m\\u00e4nnlich\", \"sum_WBev\": 7}, {\"GueltigAbDat\": \"2021-07-31T00:00:00\", \"GueltigAbDatJahr\": 2021, \"GueltigAbDatMM\": 7, \"SexLang\": \"m\\u00e4nnlich\", \"sum_WBev\": 7}, {\"GueltigAbDat\": \"2021-10-19T00:00:00\", \"GueltigAbDatJahr\": 2021, \"GueltigAbDatMM\": 10, \"SexLang\": \"weiblich\", \"sum_WBev\": 7}, {\"GueltigAbDat\": \"2021-10-21T00:00:00\", \"GueltigAbDatJahr\": 2021, \"GueltigAbDatMM\": 10, \"SexLang\": \"weiblich\", \"sum_WBev\": 7}, {\"GueltigAbDat\": \"2020-11-01T00:00:00\", \"GueltigAbDatJahr\": 2020, \"GueltigAbDatMM\": 11, \"SexLang\": \"m\\u00e4nnlich\", \"sum_WBev\": 7}, {\"GueltigAbDat\": \"2021-11-30T00:00:00\", \"GueltigAbDatJahr\": 2021, \"GueltigAbDatMM\": 11, \"SexLang\": \"weiblich\", \"sum_WBev\": 7}, {\"GueltigAbDat\": \"2021-03-14T00:00:00\", \"GueltigAbDatJahr\": 2021, \"GueltigAbDatMM\": 3, \"SexLang\": \"m\\u00e4nnlich\", \"sum_WBev\": 7}, {\"GueltigAbDat\": \"2021-04-25T00:00:00\", \"GueltigAbDatJahr\": 2021, \"GueltigAbDatMM\": 4, \"SexLang\": \"weiblich\", \"sum_WBev\": 7}, {\"GueltigAbDat\": \"2021-02-16T00:00:00\", \"GueltigAbDatJahr\": 2021, \"GueltigAbDatMM\": 2, \"SexLang\": \"m\\u00e4nnlich\", \"sum_WBev\": 7}, {\"GueltigAbDat\": \"2020-12-07T00:00:00\", \"GueltigAbDatJahr\": 2020, \"GueltigAbDatMM\": 12, \"SexLang\": \"weiblich\", \"sum_WBev\": 7}, {\"GueltigAbDat\": \"2020-12-08T00:00:00\", \"GueltigAbDatJahr\": 2020, \"GueltigAbDatMM\": 12, \"SexLang\": \"m\\u00e4nnlich\", \"sum_WBev\": 7}, {\"GueltigAbDat\": \"2021-02-15T00:00:00\", \"GueltigAbDatJahr\": 2021, \"GueltigAbDatMM\": 2, \"SexLang\": \"m\\u00e4nnlich\", \"sum_WBev\": 7}, {\"GueltigAbDat\": \"2020-12-15T00:00:00\", \"GueltigAbDatJahr\": 2020, \"GueltigAbDatMM\": 12, \"SexLang\": \"weiblich\", \"sum_WBev\": 7}, {\"GueltigAbDat\": \"2020-12-17T00:00:00\", \"GueltigAbDatJahr\": 2020, \"GueltigAbDatMM\": 12, \"SexLang\": \"m\\u00e4nnlich\", \"sum_WBev\": 7}, {\"GueltigAbDat\": \"2020-12-20T00:00:00\", \"GueltigAbDatJahr\": 2020, \"GueltigAbDatMM\": 12, \"SexLang\": \"m\\u00e4nnlich\", \"sum_WBev\": 7}, {\"GueltigAbDat\": \"2021-02-07T00:00:00\", \"GueltigAbDatJahr\": 2021, \"GueltigAbDatMM\": 2, \"SexLang\": \"weiblich\", \"sum_WBev\": 7}, {\"GueltigAbDat\": \"2021-04-15T00:00:00\", \"GueltigAbDatJahr\": 2021, \"GueltigAbDatMM\": 4, \"SexLang\": \"m\\u00e4nnlich\", \"sum_WBev\": 7}, {\"GueltigAbDat\": \"2021-03-30T00:00:00\", \"GueltigAbDatJahr\": 2021, \"GueltigAbDatMM\": 3, \"SexLang\": \"weiblich\", \"sum_WBev\": 7}, {\"GueltigAbDat\": \"2021-04-14T00:00:00\", \"GueltigAbDatJahr\": 2021, \"GueltigAbDatMM\": 4, \"SexLang\": \"weiblich\", \"sum_WBev\": 7}, {\"GueltigAbDat\": \"2021-02-04T00:00:00\", \"GueltigAbDatJahr\": 2021, \"GueltigAbDatMM\": 2, \"SexLang\": \"m\\u00e4nnlich\", \"sum_WBev\": 7}, {\"GueltigAbDat\": \"2021-01-06T00:00:00\", \"GueltigAbDatJahr\": 2021, \"GueltigAbDatMM\": 1, \"SexLang\": \"m\\u00e4nnlich\", \"sum_WBev\": 7}, {\"GueltigAbDat\": \"2021-02-03T00:00:00\", \"GueltigAbDatJahr\": 2021, \"GueltigAbDatMM\": 2, \"SexLang\": \"m\\u00e4nnlich\", \"sum_WBev\": 7}, {\"GueltigAbDat\": \"2021-01-31T00:00:00\", \"GueltigAbDatJahr\": 2021, \"GueltigAbDatMM\": 1, \"SexLang\": \"weiblich\", \"sum_WBev\": 7}, {\"GueltigAbDat\": \"2021-01-31T00:00:00\", \"GueltigAbDatJahr\": 2021, \"GueltigAbDatMM\": 1, \"SexLang\": \"m\\u00e4nnlich\", \"sum_WBev\": 7}, {\"GueltigAbDat\": \"2021-01-30T00:00:00\", \"GueltigAbDatJahr\": 2021, \"GueltigAbDatMM\": 1, \"SexLang\": \"m\\u00e4nnlich\", \"sum_WBev\": 7}, {\"GueltigAbDat\": \"2021-01-12T00:00:00\", \"GueltigAbDatJahr\": 2021, \"GueltigAbDatMM\": 1, \"SexLang\": \"weiblich\", \"sum_WBev\": 7}, {\"GueltigAbDat\": \"2021-01-26T00:00:00\", \"GueltigAbDatJahr\": 2021, \"GueltigAbDatMM\": 1, \"SexLang\": \"m\\u00e4nnlich\", \"sum_WBev\": 7}, {\"GueltigAbDat\": \"2021-01-16T00:00:00\", \"GueltigAbDatJahr\": 2021, \"GueltigAbDatMM\": 1, \"SexLang\": \"m\\u00e4nnlich\", \"sum_WBev\": 7}, {\"GueltigAbDat\": \"2021-01-19T00:00:00\", \"GueltigAbDatJahr\": 2021, \"GueltigAbDatMM\": 1, \"SexLang\": \"weiblich\", \"sum_WBev\": 7}, {\"GueltigAbDat\": \"2021-01-22T00:00:00\", \"GueltigAbDatJahr\": 2021, \"GueltigAbDatMM\": 1, \"SexLang\": \"m\\u00e4nnlich\", \"sum_WBev\": 7}, {\"GueltigAbDat\": \"2021-01-21T00:00:00\", \"GueltigAbDatJahr\": 2021, \"GueltigAbDatMM\": 1, \"SexLang\": \"m\\u00e4nnlich\", \"sum_WBev\": 7}, {\"GueltigAbDat\": \"2021-02-20T00:00:00\", \"GueltigAbDatJahr\": 2021, \"GueltigAbDatMM\": 2, \"SexLang\": \"weiblich\", \"sum_WBev\": 7}, {\"GueltigAbDat\": \"2021-02-15T00:00:00\", \"GueltigAbDatJahr\": 2021, \"GueltigAbDatMM\": 2, \"SexLang\": \"weiblich\", \"sum_WBev\": 7}, {\"GueltigAbDat\": \"2021-03-04T00:00:00\", \"GueltigAbDatJahr\": 2021, \"GueltigAbDatMM\": 3, \"SexLang\": \"m\\u00e4nnlich\", \"sum_WBev\": 7}, {\"GueltigAbDat\": \"2021-02-28T00:00:00\", \"GueltigAbDatJahr\": 2021, \"GueltigAbDatMM\": 2, \"SexLang\": \"weiblich\", \"sum_WBev\": 7}, {\"GueltigAbDat\": \"2020-11-02T00:00:00\", \"GueltigAbDatJahr\": 2020, \"GueltigAbDatMM\": 11, \"SexLang\": \"m\\u00e4nnlich\", \"sum_WBev\": 7}, {\"GueltigAbDat\": \"2020-11-03T00:00:00\", \"GueltigAbDatJahr\": 2020, \"GueltigAbDatMM\": 11, \"SexLang\": \"weiblich\", \"sum_WBev\": 7}, {\"GueltigAbDat\": \"2021-03-11T00:00:00\", \"GueltigAbDatJahr\": 2021, \"GueltigAbDatMM\": 3, \"SexLang\": \"m\\u00e4nnlich\", \"sum_WBev\": 7}, {\"GueltigAbDat\": \"2021-03-16T00:00:00\", \"GueltigAbDatJahr\": 2021, \"GueltigAbDatMM\": 3, \"SexLang\": \"weiblich\", \"sum_WBev\": 7}, {\"GueltigAbDat\": \"2021-03-10T00:00:00\", \"GueltigAbDatJahr\": 2021, \"GueltigAbDatMM\": 3, \"SexLang\": \"m\\u00e4nnlich\", \"sum_WBev\": 7}, {\"GueltigAbDat\": \"2021-03-09T00:00:00\", \"GueltigAbDatJahr\": 2021, \"GueltigAbDatMM\": 3, \"SexLang\": \"m\\u00e4nnlich\", \"sum_WBev\": 7}, {\"GueltigAbDat\": \"2020-11-13T00:00:00\", \"GueltigAbDatJahr\": 2020, \"GueltigAbDatMM\": 11, \"SexLang\": \"weiblich\", \"sum_WBev\": 7}, {\"GueltigAbDat\": \"2021-02-23T00:00:00\", \"GueltigAbDatJahr\": 2021, \"GueltigAbDatMM\": 2, \"SexLang\": \"m\\u00e4nnlich\", \"sum_WBev\": 7}, {\"GueltigAbDat\": \"2021-04-06T00:00:00\", \"GueltigAbDatJahr\": 2021, \"GueltigAbDatMM\": 4, \"SexLang\": \"m\\u00e4nnlich\", \"sum_WBev\": 7}, {\"GueltigAbDat\": \"2020-11-29T00:00:00\", \"GueltigAbDatJahr\": 2020, \"GueltigAbDatMM\": 11, \"SexLang\": \"weiblich\", \"sum_WBev\": 7}, {\"GueltigAbDat\": \"2020-11-29T00:00:00\", \"GueltigAbDatJahr\": 2020, \"GueltigAbDatMM\": 11, \"SexLang\": \"m\\u00e4nnlich\", \"sum_WBev\": 7}, {\"GueltigAbDat\": \"2021-04-29T00:00:00\", \"GueltigAbDatJahr\": 2021, \"GueltigAbDatMM\": 4, \"SexLang\": \"m\\u00e4nnlich\", \"sum_WBev\": 7}, {\"GueltigAbDat\": \"2021-04-27T00:00:00\", \"GueltigAbDatJahr\": 2021, \"GueltigAbDatMM\": 4, \"SexLang\": \"weiblich\", \"sum_WBev\": 7}, {\"GueltigAbDat\": \"2021-03-22T00:00:00\", \"GueltigAbDatJahr\": 2021, \"GueltigAbDatMM\": 3, \"SexLang\": \"weiblich\", \"sum_WBev\": 7}, {\"GueltigAbDat\": \"2021-02-25T00:00:00\", \"GueltigAbDatJahr\": 2021, \"GueltigAbDatMM\": 2, \"SexLang\": \"weiblich\", \"sum_WBev\": 6}, {\"GueltigAbDat\": \"2021-03-08T00:00:00\", \"GueltigAbDatJahr\": 2021, \"GueltigAbDatMM\": 3, \"SexLang\": \"weiblich\", \"sum_WBev\": 6}, {\"GueltigAbDat\": \"2021-07-07T00:00:00\", \"GueltigAbDatJahr\": 2021, \"GueltigAbDatMM\": 7, \"SexLang\": \"m\\u00e4nnlich\", \"sum_WBev\": 6}, {\"GueltigAbDat\": \"2021-07-26T00:00:00\", \"GueltigAbDatJahr\": 2021, \"GueltigAbDatMM\": 7, \"SexLang\": \"weiblich\", \"sum_WBev\": 6}, {\"GueltigAbDat\": \"2021-01-23T00:00:00\", \"GueltigAbDatJahr\": 2021, \"GueltigAbDatMM\": 1, \"SexLang\": \"weiblich\", \"sum_WBev\": 6}, {\"GueltigAbDat\": \"2021-03-11T00:00:00\", \"GueltigAbDatJahr\": 2021, \"GueltigAbDatMM\": 3, \"SexLang\": \"weiblich\", \"sum_WBev\": 6}, {\"GueltigAbDat\": \"2021-08-20T00:00:00\", \"GueltigAbDatJahr\": 2021, \"GueltigAbDatMM\": 8, \"SexLang\": \"weiblich\", \"sum_WBev\": 6}, {\"GueltigAbDat\": \"2021-08-19T00:00:00\", \"GueltigAbDatJahr\": 2021, \"GueltigAbDatMM\": 8, \"SexLang\": \"m\\u00e4nnlich\", \"sum_WBev\": 6}, {\"GueltigAbDat\": \"2021-01-28T00:00:00\", \"GueltigAbDatJahr\": 2021, \"GueltigAbDatMM\": 1, \"SexLang\": \"weiblich\", \"sum_WBev\": 6}, {\"GueltigAbDat\": \"2021-07-24T00:00:00\", \"GueltigAbDatJahr\": 2021, \"GueltigAbDatMM\": 7, \"SexLang\": \"m\\u00e4nnlich\", \"sum_WBev\": 6}, {\"GueltigAbDat\": \"2021-08-26T00:00:00\", \"GueltigAbDatJahr\": 2021, \"GueltigAbDatMM\": 8, \"SexLang\": \"m\\u00e4nnlich\", \"sum_WBev\": 6}, {\"GueltigAbDat\": \"2021-02-03T00:00:00\", \"GueltigAbDatJahr\": 2021, \"GueltigAbDatMM\": 2, \"SexLang\": \"weiblich\", \"sum_WBev\": 6}, {\"GueltigAbDat\": \"2021-02-13T00:00:00\", \"GueltigAbDatJahr\": 2021, \"GueltigAbDatMM\": 2, \"SexLang\": \"m\\u00e4nnlich\", \"sum_WBev\": 6}, {\"GueltigAbDat\": \"2021-07-12T00:00:00\", \"GueltigAbDatJahr\": 2021, \"GueltigAbDatMM\": 7, \"SexLang\": \"weiblich\", \"sum_WBev\": 6}, {\"GueltigAbDat\": \"2021-07-14T00:00:00\", \"GueltigAbDatJahr\": 2021, \"GueltigAbDatMM\": 7, \"SexLang\": \"m\\u00e4nnlich\", \"sum_WBev\": 6}, {\"GueltigAbDat\": \"2021-03-07T00:00:00\", \"GueltigAbDatJahr\": 2021, \"GueltigAbDatMM\": 3, \"SexLang\": \"m\\u00e4nnlich\", \"sum_WBev\": 6}, {\"GueltigAbDat\": \"2021-02-04T00:00:00\", \"GueltigAbDatJahr\": 2021, \"GueltigAbDatMM\": 2, \"SexLang\": \"weiblich\", \"sum_WBev\": 6}, {\"GueltigAbDat\": \"2021-07-23T00:00:00\", \"GueltigAbDatJahr\": 2021, \"GueltigAbDatMM\": 7, \"SexLang\": \"m\\u00e4nnlich\", \"sum_WBev\": 6}, {\"GueltigAbDat\": \"2021-02-06T00:00:00\", \"GueltigAbDatJahr\": 2021, \"GueltigAbDatMM\": 2, \"SexLang\": \"m\\u00e4nnlich\", \"sum_WBev\": 6}, {\"GueltigAbDat\": \"2021-02-27T00:00:00\", \"GueltigAbDatJahr\": 2021, \"GueltigAbDatMM\": 2, \"SexLang\": \"m\\u00e4nnlich\", \"sum_WBev\": 6}, {\"GueltigAbDat\": \"2021-08-09T00:00:00\", \"GueltigAbDatJahr\": 2021, \"GueltigAbDatMM\": 8, \"SexLang\": \"weiblich\", \"sum_WBev\": 6}, {\"GueltigAbDat\": \"2021-02-09T00:00:00\", \"GueltigAbDatJahr\": 2021, \"GueltigAbDatMM\": 2, \"SexLang\": \"weiblich\", \"sum_WBev\": 6}, {\"GueltigAbDat\": \"2021-02-11T00:00:00\", \"GueltigAbDatJahr\": 2021, \"GueltigAbDatMM\": 2, \"SexLang\": \"m\\u00e4nnlich\", \"sum_WBev\": 6}, {\"GueltigAbDat\": \"2021-02-11T00:00:00\", \"GueltigAbDatJahr\": 2021, \"GueltigAbDatMM\": 2, \"SexLang\": \"weiblich\", \"sum_WBev\": 6}, {\"GueltigAbDat\": \"2021-08-03T00:00:00\", \"GueltigAbDatJahr\": 2021, \"GueltigAbDatMM\": 8, \"SexLang\": \"weiblich\", \"sum_WBev\": 6}, {\"GueltigAbDat\": \"2021-02-22T00:00:00\", \"GueltigAbDatJahr\": 2021, \"GueltigAbDatMM\": 2, \"SexLang\": \"m\\u00e4nnlich\", \"sum_WBev\": 6}, {\"GueltigAbDat\": \"2021-05-05T00:00:00\", \"GueltigAbDatJahr\": 2021, \"GueltigAbDatMM\": 5, \"SexLang\": \"weiblich\", \"sum_WBev\": 6}, {\"GueltigAbDat\": \"2021-08-26T00:00:00\", \"GueltigAbDatJahr\": 2021, \"GueltigAbDatMM\": 8, \"SexLang\": \"weiblich\", \"sum_WBev\": 6}, {\"GueltigAbDat\": \"2021-01-20T00:00:00\", \"GueltigAbDatJahr\": 2021, \"GueltigAbDatMM\": 1, \"SexLang\": \"m\\u00e4nnlich\", \"sum_WBev\": 6}, {\"GueltigAbDat\": \"2021-10-19T00:00:00\", \"GueltigAbDatJahr\": 2021, \"GueltigAbDatMM\": 10, \"SexLang\": \"m\\u00e4nnlich\", \"sum_WBev\": 6}, {\"GueltigAbDat\": \"2020-12-05T00:00:00\", \"GueltigAbDatJahr\": 2020, \"GueltigAbDatMM\": 12, \"SexLang\": \"m\\u00e4nnlich\", \"sum_WBev\": 6}, {\"GueltigAbDat\": \"2021-10-21T00:00:00\", \"GueltigAbDatJahr\": 2021, \"GueltigAbDatMM\": 10, \"SexLang\": \"m\\u00e4nnlich\", \"sum_WBev\": 6}, {\"GueltigAbDat\": \"2021-10-25T00:00:00\", \"GueltigAbDatJahr\": 2021, \"GueltigAbDatMM\": 10, \"SexLang\": \"weiblich\", \"sum_WBev\": 6}, {\"GueltigAbDat\": \"2020-11-28T00:00:00\", \"GueltigAbDatJahr\": 2020, \"GueltigAbDatMM\": 11, \"SexLang\": \"m\\u00e4nnlich\", \"sum_WBev\": 6}, {\"GueltigAbDat\": \"2020-11-26T00:00:00\", \"GueltigAbDatJahr\": 2020, \"GueltigAbDatMM\": 11, \"SexLang\": \"weiblich\", \"sum_WBev\": 6}, {\"GueltigAbDat\": \"2020-11-25T00:00:00\", \"GueltigAbDatJahr\": 2020, \"GueltigAbDatMM\": 11, \"SexLang\": \"m\\u00e4nnlich\", \"sum_WBev\": 6}, {\"GueltigAbDat\": \"2021-10-31T00:00:00\", \"GueltigAbDatJahr\": 2021, \"GueltigAbDatMM\": 10, \"SexLang\": \"m\\u00e4nnlich\", \"sum_WBev\": 6}, {\"GueltigAbDat\": \"2020-11-24T00:00:00\", \"GueltigAbDatJahr\": 2020, \"GueltigAbDatMM\": 11, \"SexLang\": \"weiblich\", \"sum_WBev\": 6}, {\"GueltigAbDat\": \"2020-11-21T00:00:00\", \"GueltigAbDatJahr\": 2020, \"GueltigAbDatMM\": 11, \"SexLang\": \"weiblich\", \"sum_WBev\": 6}, {\"GueltigAbDat\": \"2020-11-19T00:00:00\", \"GueltigAbDatJahr\": 2020, \"GueltigAbDatMM\": 11, \"SexLang\": \"weiblich\", \"sum_WBev\": 6}, {\"GueltigAbDat\": \"2021-11-09T00:00:00\", \"GueltigAbDatJahr\": 2021, \"GueltigAbDatMM\": 11, \"SexLang\": \"m\\u00e4nnlich\", \"sum_WBev\": 6}, {\"GueltigAbDat\": \"2021-11-11T00:00:00\", \"GueltigAbDatJahr\": 2021, \"GueltigAbDatMM\": 11, \"SexLang\": \"m\\u00e4nnlich\", \"sum_WBev\": 6}, {\"GueltigAbDat\": \"2020-11-17T00:00:00\", \"GueltigAbDatJahr\": 2020, \"GueltigAbDatMM\": 11, \"SexLang\": \"m\\u00e4nnlich\", \"sum_WBev\": 6}, {\"GueltigAbDat\": \"2020-11-16T00:00:00\", \"GueltigAbDatJahr\": 2020, \"GueltigAbDatMM\": 11, \"SexLang\": \"weiblich\", \"sum_WBev\": 6}, {\"GueltigAbDat\": \"2020-11-13T00:00:00\", \"GueltigAbDatJahr\": 2020, \"GueltigAbDatMM\": 11, \"SexLang\": \"m\\u00e4nnlich\", \"sum_WBev\": 6}, {\"GueltigAbDat\": \"2020-11-09T00:00:00\", \"GueltigAbDatJahr\": 2020, \"GueltigAbDatMM\": 11, \"SexLang\": \"m\\u00e4nnlich\", \"sum_WBev\": 6}, {\"GueltigAbDat\": \"2020-11-06T00:00:00\", \"GueltigAbDatJahr\": 2020, \"GueltigAbDatMM\": 11, \"SexLang\": \"weiblich\", \"sum_WBev\": 6}, {\"GueltigAbDat\": \"2020-11-05T00:00:00\", \"GueltigAbDatJahr\": 2020, \"GueltigAbDatMM\": 11, \"SexLang\": \"m\\u00e4nnlich\", \"sum_WBev\": 6}, {\"GueltigAbDat\": \"2021-11-26T00:00:00\", \"GueltigAbDatJahr\": 2021, \"GueltigAbDatMM\": 11, \"SexLang\": \"m\\u00e4nnlich\", \"sum_WBev\": 6}, {\"GueltigAbDat\": \"2021-11-30T00:00:00\", \"GueltigAbDatJahr\": 2021, \"GueltigAbDatMM\": 11, \"SexLang\": \"m\\u00e4nnlich\", \"sum_WBev\": 6}, {\"GueltigAbDat\": \"2021-10-17T00:00:00\", \"GueltigAbDatJahr\": 2021, \"GueltigAbDatMM\": 10, \"SexLang\": \"weiblich\", \"sum_WBev\": 6}, {\"GueltigAbDat\": \"2020-12-08T00:00:00\", \"GueltigAbDatJahr\": 2020, \"GueltigAbDatMM\": 12, \"SexLang\": \"weiblich\", \"sum_WBev\": 6}, {\"GueltigAbDat\": \"2020-12-11T00:00:00\", \"GueltigAbDatJahr\": 2020, \"GueltigAbDatMM\": 12, \"SexLang\": \"m\\u00e4nnlich\", \"sum_WBev\": 6}, {\"GueltigAbDat\": \"2021-09-16T00:00:00\", \"GueltigAbDatJahr\": 2021, \"GueltigAbDatMM\": 9, \"SexLang\": \"weiblich\", \"sum_WBev\": 6}, {\"GueltigAbDat\": \"2021-08-30T00:00:00\", \"GueltigAbDatJahr\": 2021, \"GueltigAbDatMM\": 8, \"SexLang\": \"weiblich\", \"sum_WBev\": 6}, {\"GueltigAbDat\": \"2021-01-14T00:00:00\", \"GueltigAbDatJahr\": 2021, \"GueltigAbDatMM\": 1, \"SexLang\": \"weiblich\", \"sum_WBev\": 6}, {\"GueltigAbDat\": \"2021-01-13T00:00:00\", \"GueltigAbDatJahr\": 2021, \"GueltigAbDatMM\": 1, \"SexLang\": \"weiblich\", \"sum_WBev\": 6}, {\"GueltigAbDat\": \"2021-01-13T00:00:00\", \"GueltigAbDatJahr\": 2021, \"GueltigAbDatMM\": 1, \"SexLang\": \"m\\u00e4nnlich\", \"sum_WBev\": 6}, {\"GueltigAbDat\": \"2021-07-04T00:00:00\", \"GueltigAbDatJahr\": 2021, \"GueltigAbDatMM\": 7, \"SexLang\": \"m\\u00e4nnlich\", \"sum_WBev\": 6}, {\"GueltigAbDat\": \"2021-01-10T00:00:00\", \"GueltigAbDatJahr\": 2021, \"GueltigAbDatMM\": 1, \"SexLang\": \"weiblich\", \"sum_WBev\": 6}, {\"GueltigAbDat\": \"2021-09-12T00:00:00\", \"GueltigAbDatJahr\": 2021, \"GueltigAbDatMM\": 9, \"SexLang\": \"m\\u00e4nnlich\", \"sum_WBev\": 6}, {\"GueltigAbDat\": \"2021-09-14T00:00:00\", \"GueltigAbDatJahr\": 2021, \"GueltigAbDatMM\": 9, \"SexLang\": \"m\\u00e4nnlich\", \"sum_WBev\": 6}, {\"GueltigAbDat\": \"2021-01-07T00:00:00\", \"GueltigAbDatJahr\": 2021, \"GueltigAbDatMM\": 1, \"SexLang\": \"m\\u00e4nnlich\", \"sum_WBev\": 6}, {\"GueltigAbDat\": \"2021-09-18T00:00:00\", \"GueltigAbDatJahr\": 2021, \"GueltigAbDatMM\": 9, \"SexLang\": \"weiblich\", \"sum_WBev\": 6}, {\"GueltigAbDat\": \"2020-12-20T00:00:00\", \"GueltigAbDatJahr\": 2020, \"GueltigAbDatMM\": 12, \"SexLang\": \"weiblich\", \"sum_WBev\": 6}, {\"GueltigAbDat\": \"2021-09-19T00:00:00\", \"GueltigAbDatJahr\": 2021, \"GueltigAbDatMM\": 9, \"SexLang\": \"weiblich\", \"sum_WBev\": 6}, {\"GueltigAbDat\": \"2021-01-02T00:00:00\", \"GueltigAbDatJahr\": 2021, \"GueltigAbDatMM\": 1, \"SexLang\": \"m\\u00e4nnlich\", \"sum_WBev\": 6}, {\"GueltigAbDat\": \"2020-12-28T00:00:00\", \"GueltigAbDatJahr\": 2020, \"GueltigAbDatMM\": 12, \"SexLang\": \"m\\u00e4nnlich\", \"sum_WBev\": 6}, {\"GueltigAbDat\": \"2021-09-27T00:00:00\", \"GueltigAbDatJahr\": 2021, \"GueltigAbDatMM\": 9, \"SexLang\": \"weiblich\", \"sum_WBev\": 6}, {\"GueltigAbDat\": \"2021-09-28T00:00:00\", \"GueltigAbDatJahr\": 2021, \"GueltigAbDatMM\": 9, \"SexLang\": \"m\\u00e4nnlich\", \"sum_WBev\": 6}, {\"GueltigAbDat\": \"2021-09-28T00:00:00\", \"GueltigAbDatJahr\": 2021, \"GueltigAbDatMM\": 9, \"SexLang\": \"weiblich\", \"sum_WBev\": 6}, {\"GueltigAbDat\": \"2021-09-30T00:00:00\", \"GueltigAbDatJahr\": 2021, \"GueltigAbDatMM\": 9, \"SexLang\": \"weiblich\", \"sum_WBev\": 6}, {\"GueltigAbDat\": \"2021-10-01T00:00:00\", \"GueltigAbDatJahr\": 2021, \"GueltigAbDatMM\": 10, \"SexLang\": \"m\\u00e4nnlich\", \"sum_WBev\": 6}, {\"GueltigAbDat\": \"2020-12-23T00:00:00\", \"GueltigAbDatJahr\": 2020, \"GueltigAbDatMM\": 12, \"SexLang\": \"weiblich\", \"sum_WBev\": 6}, {\"GueltigAbDat\": \"2021-09-06T00:00:00\", \"GueltigAbDatJahr\": 2021, \"GueltigAbDatMM\": 9, \"SexLang\": \"weiblich\", \"sum_WBev\": 6}, {\"GueltigAbDat\": \"2021-01-29T00:00:00\", \"GueltigAbDatJahr\": 2021, \"GueltigAbDatMM\": 1, \"SexLang\": \"m\\u00e4nnlich\", \"sum_WBev\": 6}, {\"GueltigAbDat\": \"2021-05-17T00:00:00\", \"GueltigAbDatJahr\": 2021, \"GueltigAbDatMM\": 5, \"SexLang\": \"weiblich\", \"sum_WBev\": 6}, {\"GueltigAbDat\": \"2021-06-01T00:00:00\", \"GueltigAbDatJahr\": 2021, \"GueltigAbDatMM\": 6, \"SexLang\": \"weiblich\", \"sum_WBev\": 6}, {\"GueltigAbDat\": \"2021-04-01T00:00:00\", \"GueltigAbDatJahr\": 2021, \"GueltigAbDatMM\": 4, \"SexLang\": \"m\\u00e4nnlich\", \"sum_WBev\": 6}, {\"GueltigAbDat\": \"2021-05-29T00:00:00\", \"GueltigAbDatJahr\": 2021, \"GueltigAbDatMM\": 5, \"SexLang\": \"weiblich\", \"sum_WBev\": 6}, {\"GueltigAbDat\": \"2021-04-27T00:00:00\", \"GueltigAbDatJahr\": 2021, \"GueltigAbDatMM\": 4, \"SexLang\": \"m\\u00e4nnlich\", \"sum_WBev\": 6}, {\"GueltigAbDat\": \"2021-06-17T00:00:00\", \"GueltigAbDatJahr\": 2021, \"GueltigAbDatMM\": 6, \"SexLang\": \"weiblich\", \"sum_WBev\": 6}, {\"GueltigAbDat\": \"2021-05-01T00:00:00\", \"GueltigAbDatJahr\": 2021, \"GueltigAbDatMM\": 5, \"SexLang\": \"weiblich\", \"sum_WBev\": 6}, {\"GueltigAbDat\": \"2021-04-23T00:00:00\", \"GueltigAbDatJahr\": 2021, \"GueltigAbDatMM\": 4, \"SexLang\": \"weiblich\", \"sum_WBev\": 6}, {\"GueltigAbDat\": \"2021-05-08T00:00:00\", \"GueltigAbDatJahr\": 2021, \"GueltigAbDatMM\": 5, \"SexLang\": \"weiblich\", \"sum_WBev\": 6}, {\"GueltigAbDat\": \"2021-05-21T00:00:00\", \"GueltigAbDatJahr\": 2021, \"GueltigAbDatMM\": 5, \"SexLang\": \"m\\u00e4nnlich\", \"sum_WBev\": 6}, {\"GueltigAbDat\": \"2021-04-14T00:00:00\", \"GueltigAbDatJahr\": 2021, \"GueltigAbDatMM\": 4, \"SexLang\": \"m\\u00e4nnlich\", \"sum_WBev\": 6}, {\"GueltigAbDat\": \"2021-03-23T00:00:00\", \"GueltigAbDatJahr\": 2021, \"GueltigAbDatMM\": 3, \"SexLang\": \"m\\u00e4nnlich\", \"sum_WBev\": 6}, {\"GueltigAbDat\": \"2021-04-06T00:00:00\", \"GueltigAbDatJahr\": 2021, \"GueltigAbDatMM\": 4, \"SexLang\": \"weiblich\", \"sum_WBev\": 6}, {\"GueltigAbDat\": \"2021-06-24T00:00:00\", \"GueltigAbDatJahr\": 2021, \"GueltigAbDatMM\": 6, \"SexLang\": \"m\\u00e4nnlich\", \"sum_WBev\": 6}, {\"GueltigAbDat\": \"2021-04-10T00:00:00\", \"GueltigAbDatJahr\": 2021, \"GueltigAbDatMM\": 4, \"SexLang\": \"weiblich\", \"sum_WBev\": 6}, {\"GueltigAbDat\": \"2021-03-24T00:00:00\", \"GueltigAbDatJahr\": 2021, \"GueltigAbDatMM\": 3, \"SexLang\": \"m\\u00e4nnlich\", \"sum_WBev\": 6}, {\"GueltigAbDat\": \"2021-05-18T00:00:00\", \"GueltigAbDatJahr\": 2021, \"GueltigAbDatMM\": 5, \"SexLang\": \"m\\u00e4nnlich\", \"sum_WBev\": 6}, {\"GueltigAbDat\": \"2021-06-22T00:00:00\", \"GueltigAbDatJahr\": 2021, \"GueltigAbDatMM\": 6, \"SexLang\": \"weiblich\", \"sum_WBev\": 6}, {\"GueltigAbDat\": \"2021-04-11T00:00:00\", \"GueltigAbDatJahr\": 2021, \"GueltigAbDatMM\": 4, \"SexLang\": \"m\\u00e4nnlich\", \"sum_WBev\": 6}, {\"GueltigAbDat\": \"2021-03-25T00:00:00\", \"GueltigAbDatJahr\": 2021, \"GueltigAbDatMM\": 3, \"SexLang\": \"weiblich\", \"sum_WBev\": 6}, {\"GueltigAbDat\": \"2021-03-27T00:00:00\", \"GueltigAbDatJahr\": 2021, \"GueltigAbDatMM\": 3, \"SexLang\": \"m\\u00e4nnlich\", \"sum_WBev\": 6}, {\"GueltigAbDat\": \"2021-04-12T00:00:00\", \"GueltigAbDatJahr\": 2021, \"GueltigAbDatMM\": 4, \"SexLang\": \"m\\u00e4nnlich\", \"sum_WBev\": 6}, {\"GueltigAbDat\": \"2021-03-21T00:00:00\", \"GueltigAbDatJahr\": 2021, \"GueltigAbDatMM\": 3, \"SexLang\": \"m\\u00e4nnlich\", \"sum_WBev\": 6}, {\"GueltigAbDat\": \"2021-04-08T00:00:00\", \"GueltigAbDatJahr\": 2021, \"GueltigAbDatMM\": 4, \"SexLang\": \"weiblich\", \"sum_WBev\": 6}, {\"GueltigAbDat\": \"2021-06-07T00:00:00\", \"GueltigAbDatJahr\": 2021, \"GueltigAbDatMM\": 6, \"SexLang\": \"weiblich\", \"sum_WBev\": 6}, {\"GueltigAbDat\": \"2021-06-09T00:00:00\", \"GueltigAbDatJahr\": 2021, \"GueltigAbDatMM\": 6, \"SexLang\": \"weiblich\", \"sum_WBev\": 6}, {\"GueltigAbDat\": \"2021-06-13T00:00:00\", \"GueltigAbDatJahr\": 2021, \"GueltigAbDatMM\": 6, \"SexLang\": \"m\\u00e4nnlich\", \"sum_WBev\": 6}, {\"GueltigAbDat\": \"2021-07-02T00:00:00\", \"GueltigAbDatJahr\": 2021, \"GueltigAbDatMM\": 7, \"SexLang\": \"weiblich\", \"sum_WBev\": 6}, {\"GueltigAbDat\": \"2021-05-05T00:00:00\", \"GueltigAbDatJahr\": 2021, \"GueltigAbDatMM\": 5, \"SexLang\": \"m\\u00e4nnlich\", \"sum_WBev\": 6}, {\"GueltigAbDat\": \"2021-06-11T00:00:00\", \"GueltigAbDatJahr\": 2021, \"GueltigAbDatMM\": 6, \"SexLang\": \"m\\u00e4nnlich\", \"sum_WBev\": 6}, {\"GueltigAbDat\": \"2021-06-10T00:00:00\", \"GueltigAbDatJahr\": 2021, \"GueltigAbDatMM\": 6, \"SexLang\": \"weiblich\", \"sum_WBev\": 6}, {\"GueltigAbDat\": \"2021-05-27T00:00:00\", \"GueltigAbDatJahr\": 2021, \"GueltigAbDatMM\": 5, \"SexLang\": \"m\\u00e4nnlich\", \"sum_WBev\": 6}, {\"GueltigAbDat\": \"2021-04-16T00:00:00\", \"GueltigAbDatJahr\": 2021, \"GueltigAbDatMM\": 4, \"SexLang\": \"weiblich\", \"sum_WBev\": 6}, {\"GueltigAbDat\": \"2021-03-27T00:00:00\", \"GueltigAbDatJahr\": 2021, \"GueltigAbDatMM\": 3, \"SexLang\": \"weiblich\", \"sum_WBev\": 6}, {\"GueltigAbDat\": \"2021-03-20T00:00:00\", \"GueltigAbDatJahr\": 2021, \"GueltigAbDatMM\": 3, \"SexLang\": \"m\\u00e4nnlich\", \"sum_WBev\": 6}, {\"GueltigAbDat\": \"2021-05-04T00:00:00\", \"GueltigAbDatJahr\": 2021, \"GueltigAbDatMM\": 5, \"SexLang\": \"m\\u00e4nnlich\", \"sum_WBev\": 6}, {\"GueltigAbDat\": \"2021-05-29T00:00:00\", \"GueltigAbDatJahr\": 2021, \"GueltigAbDatMM\": 5, \"SexLang\": \"m\\u00e4nnlich\", \"sum_WBev\": 6}, {\"GueltigAbDat\": \"2021-06-28T00:00:00\", \"GueltigAbDatJahr\": 2021, \"GueltigAbDatMM\": 6, \"SexLang\": \"weiblich\", \"sum_WBev\": 6}, {\"GueltigAbDat\": \"2021-01-17T00:00:00\", \"GueltigAbDatJahr\": 2021, \"GueltigAbDatMM\": 1, \"SexLang\": \"m\\u00e4nnlich\", \"sum_WBev\": 5}, {\"GueltigAbDat\": \"2021-09-04T00:00:00\", \"GueltigAbDatJahr\": 2021, \"GueltigAbDatMM\": 9, \"SexLang\": \"weiblich\", \"sum_WBev\": 5}, {\"GueltigAbDat\": \"2021-08-21T00:00:00\", \"GueltigAbDatJahr\": 2021, \"GueltigAbDatMM\": 8, \"SexLang\": \"weiblich\", \"sum_WBev\": 5}, {\"GueltigAbDat\": \"2021-01-27T00:00:00\", \"GueltigAbDatJahr\": 2021, \"GueltigAbDatMM\": 1, \"SexLang\": \"m\\u00e4nnlich\", \"sum_WBev\": 5}, {\"GueltigAbDat\": \"2021-10-23T00:00:00\", \"GueltigAbDatJahr\": 2021, \"GueltigAbDatMM\": 10, \"SexLang\": \"m\\u00e4nnlich\", \"sum_WBev\": 5}, {\"GueltigAbDat\": \"2021-08-22T00:00:00\", \"GueltigAbDatJahr\": 2021, \"GueltigAbDatMM\": 8, \"SexLang\": \"weiblich\", \"sum_WBev\": 5}, {\"GueltigAbDat\": \"2021-06-04T00:00:00\", \"GueltigAbDatJahr\": 2021, \"GueltigAbDatMM\": 6, \"SexLang\": \"weiblich\", \"sum_WBev\": 5}, {\"GueltigAbDat\": \"2021-10-23T00:00:00\", \"GueltigAbDatJahr\": 2021, \"GueltigAbDatMM\": 10, \"SexLang\": \"weiblich\", \"sum_WBev\": 5}, {\"GueltigAbDat\": \"2020-12-01T00:00:00\", \"GueltigAbDatJahr\": 2020, \"GueltigAbDatMM\": 12, \"SexLang\": \"weiblich\", \"sum_WBev\": 5}, {\"GueltigAbDat\": \"2021-09-03T00:00:00\", \"GueltigAbDatJahr\": 2021, \"GueltigAbDatMM\": 9, \"SexLang\": \"weiblich\", \"sum_WBev\": 5}, {\"GueltigAbDat\": \"2021-04-29T00:00:00\", \"GueltigAbDatJahr\": 2021, \"GueltigAbDatMM\": 4, \"SexLang\": \"weiblich\", \"sum_WBev\": 5}, {\"GueltigAbDat\": \"2020-11-25T00:00:00\", \"GueltigAbDatJahr\": 2020, \"GueltigAbDatMM\": 11, \"SexLang\": \"weiblich\", \"sum_WBev\": 5}, {\"GueltigAbDat\": \"2021-10-29T00:00:00\", \"GueltigAbDatJahr\": 2021, \"GueltigAbDatMM\": 10, \"SexLang\": \"m\\u00e4nnlich\", \"sum_WBev\": 5}, {\"GueltigAbDat\": \"2021-08-23T00:00:00\", \"GueltigAbDatJahr\": 2021, \"GueltigAbDatMM\": 8, \"SexLang\": \"weiblich\", \"sum_WBev\": 5}, {\"GueltigAbDat\": \"2021-01-15T00:00:00\", \"GueltigAbDatJahr\": 2021, \"GueltigAbDatMM\": 1, \"SexLang\": \"weiblich\", \"sum_WBev\": 5}, {\"GueltigAbDat\": \"2021-01-20T00:00:00\", \"GueltigAbDatJahr\": 2021, \"GueltigAbDatMM\": 1, \"SexLang\": \"weiblich\", \"sum_WBev\": 5}, {\"GueltigAbDat\": \"2021-06-06T00:00:00\", \"GueltigAbDatJahr\": 2021, \"GueltigAbDatMM\": 6, \"SexLang\": \"m\\u00e4nnlich\", \"sum_WBev\": 5}, {\"GueltigAbDat\": \"2021-08-31T00:00:00\", \"GueltigAbDatJahr\": 2021, \"GueltigAbDatMM\": 8, \"SexLang\": \"weiblich\", \"sum_WBev\": 5}, {\"GueltigAbDat\": \"2021-10-30T00:00:00\", \"GueltigAbDatJahr\": 2021, \"GueltigAbDatMM\": 10, \"SexLang\": \"weiblich\", \"sum_WBev\": 5}, {\"GueltigAbDat\": \"2021-11-01T00:00:00\", \"GueltigAbDatJahr\": 2021, \"GueltigAbDatMM\": 11, \"SexLang\": \"m\\u00e4nnlich\", \"sum_WBev\": 5}, {\"GueltigAbDat\": \"2021-09-11T00:00:00\", \"GueltigAbDatJahr\": 2021, \"GueltigAbDatMM\": 9, \"SexLang\": \"weiblich\", \"sum_WBev\": 5}, {\"GueltigAbDat\": \"2021-09-08T00:00:00\", \"GueltigAbDatJahr\": 2021, \"GueltigAbDatMM\": 9, \"SexLang\": \"m\\u00e4nnlich\", \"sum_WBev\": 5}, {\"GueltigAbDat\": \"2020-12-25T00:00:00\", \"GueltigAbDatJahr\": 2020, \"GueltigAbDatMM\": 12, \"SexLang\": \"weiblich\", \"sum_WBev\": 5}, {\"GueltigAbDat\": \"2020-12-10T00:00:00\", \"GueltigAbDatJahr\": 2020, \"GueltigAbDatMM\": 12, \"SexLang\": \"weiblich\", \"sum_WBev\": 5}, {\"GueltigAbDat\": \"2020-12-29T00:00:00\", \"GueltigAbDatJahr\": 2020, \"GueltigAbDatMM\": 12, \"SexLang\": \"weiblich\", \"sum_WBev\": 5}, {\"GueltigAbDat\": \"2020-12-13T00:00:00\", \"GueltigAbDatJahr\": 2020, \"GueltigAbDatMM\": 12, \"SexLang\": \"m\\u00e4nnlich\", \"sum_WBev\": 5}, {\"GueltigAbDat\": \"2021-09-26T00:00:00\", \"GueltigAbDatJahr\": 2021, \"GueltigAbDatMM\": 9, \"SexLang\": \"weiblich\", \"sum_WBev\": 5}, {\"GueltigAbDat\": \"2021-10-10T00:00:00\", \"GueltigAbDatJahr\": 2021, \"GueltigAbDatMM\": 10, \"SexLang\": \"m\\u00e4nnlich\", \"sum_WBev\": 5}, {\"GueltigAbDat\": \"2021-10-08T00:00:00\", \"GueltigAbDatJahr\": 2021, \"GueltigAbDatMM\": 10, \"SexLang\": \"weiblich\", \"sum_WBev\": 5}, {\"GueltigAbDat\": \"2020-12-24T00:00:00\", \"GueltigAbDatJahr\": 2020, \"GueltigAbDatMM\": 12, \"SexLang\": \"m\\u00e4nnlich\", \"sum_WBev\": 5}, {\"GueltigAbDat\": \"2021-09-22T00:00:00\", \"GueltigAbDatJahr\": 2021, \"GueltigAbDatMM\": 9, \"SexLang\": \"m\\u00e4nnlich\", \"sum_WBev\": 5}, {\"GueltigAbDat\": \"2021-05-26T00:00:00\", \"GueltigAbDatJahr\": 2021, \"GueltigAbDatMM\": 5, \"SexLang\": \"weiblich\", \"sum_WBev\": 5}, {\"GueltigAbDat\": \"2021-04-18T00:00:00\", \"GueltigAbDatJahr\": 2021, \"GueltigAbDatMM\": 4, \"SexLang\": \"m\\u00e4nnlich\", \"sum_WBev\": 5}, {\"GueltigAbDat\": \"2021-10-07T00:00:00\", \"GueltigAbDatJahr\": 2021, \"GueltigAbDatMM\": 10, \"SexLang\": \"weiblich\", \"sum_WBev\": 5}, {\"GueltigAbDat\": \"2020-12-21T00:00:00\", \"GueltigAbDatJahr\": 2020, \"GueltigAbDatMM\": 12, \"SexLang\": \"m\\u00e4nnlich\", \"sum_WBev\": 5}, {\"GueltigAbDat\": \"2020-12-17T00:00:00\", \"GueltigAbDatJahr\": 2020, \"GueltigAbDatMM\": 12, \"SexLang\": \"weiblich\", \"sum_WBev\": 5}, {\"GueltigAbDat\": \"2021-10-05T00:00:00\", \"GueltigAbDatJahr\": 2021, \"GueltigAbDatMM\": 10, \"SexLang\": \"weiblich\", \"sum_WBev\": 5}, {\"GueltigAbDat\": \"2020-12-09T00:00:00\", \"GueltigAbDatJahr\": 2020, \"GueltigAbDatMM\": 12, \"SexLang\": \"weiblich\", \"sum_WBev\": 5}, {\"GueltigAbDat\": \"2021-01-03T00:00:00\", \"GueltigAbDatJahr\": 2021, \"GueltigAbDatMM\": 1, \"SexLang\": \"weiblich\", \"sum_WBev\": 5}, {\"GueltigAbDat\": \"2021-01-11T00:00:00\", \"GueltigAbDatJahr\": 2021, \"GueltigAbDatMM\": 1, \"SexLang\": \"m\\u00e4nnlich\", \"sum_WBev\": 5}, {\"GueltigAbDat\": \"2020-12-06T00:00:00\", \"GueltigAbDatJahr\": 2020, \"GueltigAbDatMM\": 12, \"SexLang\": \"m\\u00e4nnlich\", \"sum_WBev\": 5}, {\"GueltigAbDat\": \"2021-04-25T00:00:00\", \"GueltigAbDatJahr\": 2021, \"GueltigAbDatMM\": 4, \"SexLang\": \"m\\u00e4nnlich\", \"sum_WBev\": 5}, {\"GueltigAbDat\": \"2021-06-03T00:00:00\", \"GueltigAbDatJahr\": 2021, \"GueltigAbDatMM\": 6, \"SexLang\": \"m\\u00e4nnlich\", \"sum_WBev\": 5}, {\"GueltigAbDat\": \"2021-10-20T00:00:00\", \"GueltigAbDatJahr\": 2021, \"GueltigAbDatMM\": 10, \"SexLang\": \"m\\u00e4nnlich\", \"sum_WBev\": 5}, {\"GueltigAbDat\": \"2021-01-10T00:00:00\", \"GueltigAbDatJahr\": 2021, \"GueltigAbDatMM\": 1, \"SexLang\": \"m\\u00e4nnlich\", \"sum_WBev\": 5}, {\"GueltigAbDat\": \"2021-04-04T00:00:00\", \"GueltigAbDatJahr\": 2021, \"GueltigAbDatMM\": 4, \"SexLang\": \"weiblich\", \"sum_WBev\": 5}, {\"GueltigAbDat\": \"2021-01-09T00:00:00\", \"GueltigAbDatJahr\": 2021, \"GueltigAbDatMM\": 1, \"SexLang\": \"weiblich\", \"sum_WBev\": 5}, {\"GueltigAbDat\": \"2021-06-02T00:00:00\", \"GueltigAbDatJahr\": 2021, \"GueltigAbDatMM\": 6, \"SexLang\": \"m\\u00e4nnlich\", \"sum_WBev\": 5}, {\"GueltigAbDat\": \"2021-10-14T00:00:00\", \"GueltigAbDatJahr\": 2021, \"GueltigAbDatMM\": 10, \"SexLang\": \"weiblich\", \"sum_WBev\": 5}, {\"GueltigAbDat\": \"2020-12-06T00:00:00\", \"GueltigAbDatJahr\": 2020, \"GueltigAbDatMM\": 12, \"SexLang\": \"weiblich\", \"sum_WBev\": 5}, {\"GueltigAbDat\": \"2021-09-15T00:00:00\", \"GueltigAbDatJahr\": 2021, \"GueltigAbDatMM\": 9, \"SexLang\": \"m\\u00e4nnlich\", \"sum_WBev\": 5}, {\"GueltigAbDat\": \"2021-01-06T00:00:00\", \"GueltigAbDatJahr\": 2021, \"GueltigAbDatMM\": 1, \"SexLang\": \"weiblich\", \"sum_WBev\": 5}, {\"GueltigAbDat\": \"2021-05-31T00:00:00\", \"GueltigAbDatJahr\": 2021, \"GueltigAbDatMM\": 5, \"SexLang\": \"weiblich\", \"sum_WBev\": 5}, {\"GueltigAbDat\": \"2021-04-22T00:00:00\", \"GueltigAbDatJahr\": 2021, \"GueltigAbDatMM\": 4, \"SexLang\": \"m\\u00e4nnlich\", \"sum_WBev\": 5}, {\"GueltigAbDat\": \"2021-01-04T00:00:00\", \"GueltigAbDatJahr\": 2021, \"GueltigAbDatMM\": 1, \"SexLang\": \"weiblich\", \"sum_WBev\": 5}, {\"GueltigAbDat\": \"2021-05-14T00:00:00\", \"GueltigAbDatJahr\": 2021, \"GueltigAbDatMM\": 5, \"SexLang\": \"m\\u00e4nnlich\", \"sum_WBev\": 5}, {\"GueltigAbDat\": \"2021-01-28T00:00:00\", \"GueltigAbDatJahr\": 2021, \"GueltigAbDatMM\": 1, \"SexLang\": \"m\\u00e4nnlich\", \"sum_WBev\": 5}, {\"GueltigAbDat\": \"2021-11-02T00:00:00\", \"GueltigAbDatJahr\": 2021, \"GueltigAbDatMM\": 11, \"SexLang\": \"weiblich\", \"sum_WBev\": 5}, {\"GueltigAbDat\": \"2021-07-23T00:00:00\", \"GueltigAbDatJahr\": 2021, \"GueltigAbDatMM\": 7, \"SexLang\": \"weiblich\", \"sum_WBev\": 5}, {\"GueltigAbDat\": \"2021-03-21T00:00:00\", \"GueltigAbDatJahr\": 2021, \"GueltigAbDatMM\": 3, \"SexLang\": \"weiblich\", \"sum_WBev\": 5}, {\"GueltigAbDat\": \"2021-07-19T00:00:00\", \"GueltigAbDatJahr\": 2021, \"GueltigAbDatMM\": 7, \"SexLang\": \"weiblich\", \"sum_WBev\": 5}, {\"GueltigAbDat\": \"2021-02-28T00:00:00\", \"GueltigAbDatJahr\": 2021, \"GueltigAbDatMM\": 2, \"SexLang\": \"m\\u00e4nnlich\", \"sum_WBev\": 5}, {\"GueltigAbDat\": \"2020-11-05T00:00:00\", \"GueltigAbDatJahr\": 2020, \"GueltigAbDatMM\": 11, \"SexLang\": \"weiblich\", \"sum_WBev\": 5}, {\"GueltigAbDat\": \"2021-02-26T00:00:00\", \"GueltigAbDatJahr\": 2021, \"GueltigAbDatMM\": 2, \"SexLang\": \"m\\u00e4nnlich\", \"sum_WBev\": 5}, {\"GueltigAbDat\": \"2021-05-03T00:00:00\", \"GueltigAbDatJahr\": 2021, \"GueltigAbDatMM\": 5, \"SexLang\": \"weiblich\", \"sum_WBev\": 5}, {\"GueltigAbDat\": \"2021-06-26T00:00:00\", \"GueltigAbDatJahr\": 2021, \"GueltigAbDatMM\": 6, \"SexLang\": \"m\\u00e4nnlich\", \"sum_WBev\": 5}, {\"GueltigAbDat\": \"2021-11-19T00:00:00\", \"GueltigAbDatJahr\": 2021, \"GueltigAbDatMM\": 11, \"SexLang\": \"weiblich\", \"sum_WBev\": 5}, {\"GueltigAbDat\": \"2021-03-26T00:00:00\", \"GueltigAbDatJahr\": 2021, \"GueltigAbDatMM\": 3, \"SexLang\": \"m\\u00e4nnlich\", \"sum_WBev\": 5}, {\"GueltigAbDat\": \"2020-11-08T00:00:00\", \"GueltigAbDatJahr\": 2020, \"GueltigAbDatMM\": 11, \"SexLang\": \"m\\u00e4nnlich\", \"sum_WBev\": 5}, {\"GueltigAbDat\": \"2021-06-23T00:00:00\", \"GueltigAbDatJahr\": 2021, \"GueltigAbDatMM\": 6, \"SexLang\": \"m\\u00e4nnlich\", \"sum_WBev\": 5}, {\"GueltigAbDat\": \"2020-11-08T00:00:00\", \"GueltigAbDatJahr\": 2020, \"GueltigAbDatMM\": 11, \"SexLang\": \"weiblich\", \"sum_WBev\": 5}, {\"GueltigAbDat\": \"2020-12-19T00:00:00\", \"GueltigAbDatJahr\": 2020, \"GueltigAbDatMM\": 12, \"SexLang\": \"m\\u00e4nnlich\", \"sum_WBev\": 5}, {\"GueltigAbDat\": \"2021-02-21T00:00:00\", \"GueltigAbDatJahr\": 2021, \"GueltigAbDatMM\": 2, \"SexLang\": \"m\\u00e4nnlich\", \"sum_WBev\": 5}, {\"GueltigAbDat\": \"2021-05-09T00:00:00\", \"GueltigAbDatJahr\": 2021, \"GueltigAbDatMM\": 5, \"SexLang\": \"weiblich\", \"sum_WBev\": 5}, {\"GueltigAbDat\": \"2020-11-10T00:00:00\", \"GueltigAbDatJahr\": 2020, \"GueltigAbDatMM\": 11, \"SexLang\": \"weiblich\", \"sum_WBev\": 5}, {\"GueltigAbDat\": \"2021-07-18T00:00:00\", \"GueltigAbDatJahr\": 2021, \"GueltigAbDatMM\": 7, \"SexLang\": \"weiblich\", \"sum_WBev\": 5}, {\"GueltigAbDat\": \"2021-03-02T00:00:00\", \"GueltigAbDatJahr\": 2021, \"GueltigAbDatMM\": 3, \"SexLang\": \"weiblich\", \"sum_WBev\": 5}, {\"GueltigAbDat\": \"2021-03-06T00:00:00\", \"GueltigAbDatJahr\": 2021, \"GueltigAbDatMM\": 3, \"SexLang\": \"m\\u00e4nnlich\", \"sum_WBev\": 5}, {\"GueltigAbDat\": \"2021-03-20T00:00:00\", \"GueltigAbDatJahr\": 2021, \"GueltigAbDatMM\": 3, \"SexLang\": \"weiblich\", \"sum_WBev\": 5}, {\"GueltigAbDat\": \"2021-07-03T00:00:00\", \"GueltigAbDatJahr\": 2021, \"GueltigAbDatMM\": 7, \"SexLang\": \"m\\u00e4nnlich\", \"sum_WBev\": 5}, {\"GueltigAbDat\": \"2021-03-13T00:00:00\", \"GueltigAbDatJahr\": 2021, \"GueltigAbDatMM\": 3, \"SexLang\": \"weiblich\", \"sum_WBev\": 5}, {\"GueltigAbDat\": \"2021-07-06T00:00:00\", \"GueltigAbDatJahr\": 2021, \"GueltigAbDatMM\": 7, \"SexLang\": \"m\\u00e4nnlich\", \"sum_WBev\": 5}, {\"GueltigAbDat\": \"2021-03-12T00:00:00\", \"GueltigAbDatJahr\": 2021, \"GueltigAbDatMM\": 3, \"SexLang\": \"weiblich\", \"sum_WBev\": 5}, {\"GueltigAbDat\": \"2021-07-01T00:00:00\", \"GueltigAbDatJahr\": 2021, \"GueltigAbDatMM\": 7, \"SexLang\": \"weiblich\", \"sum_WBev\": 5}, {\"GueltigAbDat\": \"2021-03-17T00:00:00\", \"GueltigAbDatJahr\": 2021, \"GueltigAbDatMM\": 3, \"SexLang\": \"weiblich\", \"sum_WBev\": 5}, {\"GueltigAbDat\": \"2021-03-09T00:00:00\", \"GueltigAbDatJahr\": 2021, \"GueltigAbDatMM\": 3, \"SexLang\": \"weiblich\", \"sum_WBev\": 5}, {\"GueltigAbDat\": \"2021-11-27T00:00:00\", \"GueltigAbDatJahr\": 2021, \"GueltigAbDatMM\": 11, \"SexLang\": \"weiblich\", \"sum_WBev\": 5}, {\"GueltigAbDat\": \"2021-07-10T00:00:00\", \"GueltigAbDatJahr\": 2021, \"GueltigAbDatMM\": 7, \"SexLang\": \"weiblich\", \"sum_WBev\": 5}, {\"GueltigAbDat\": \"2021-03-18T00:00:00\", \"GueltigAbDatJahr\": 2021, \"GueltigAbDatMM\": 3, \"SexLang\": \"m\\u00e4nnlich\", \"sum_WBev\": 5}, {\"GueltigAbDat\": \"2021-11-27T00:00:00\", \"GueltigAbDatJahr\": 2021, \"GueltigAbDatMM\": 11, \"SexLang\": \"m\\u00e4nnlich\", \"sum_WBev\": 5}, {\"GueltigAbDat\": \"2021-03-19T00:00:00\", \"GueltigAbDatJahr\": 2021, \"GueltigAbDatMM\": 3, \"SexLang\": \"weiblich\", \"sum_WBev\": 5}, {\"GueltigAbDat\": \"2021-07-13T00:00:00\", \"GueltigAbDatJahr\": 2021, \"GueltigAbDatMM\": 7, \"SexLang\": \"weiblich\", \"sum_WBev\": 5}, {\"GueltigAbDat\": \"2021-07-14T00:00:00\", \"GueltigAbDatJahr\": 2021, \"GueltigAbDatMM\": 7, \"SexLang\": \"weiblich\", \"sum_WBev\": 5}, {\"GueltigAbDat\": \"2021-07-15T00:00:00\", \"GueltigAbDatJahr\": 2021, \"GueltigAbDatMM\": 7, \"SexLang\": \"m\\u00e4nnlich\", \"sum_WBev\": 5}, {\"GueltigAbDat\": \"2021-02-17T00:00:00\", \"GueltigAbDatJahr\": 2021, \"GueltigAbDatMM\": 2, \"SexLang\": \"m\\u00e4nnlich\", \"sum_WBev\": 5}, {\"GueltigAbDat\": \"2021-04-21T00:00:00\", \"GueltigAbDatJahr\": 2021, \"GueltigAbDatMM\": 4, \"SexLang\": \"weiblich\", \"sum_WBev\": 5}, {\"GueltigAbDat\": \"2021-08-07T00:00:00\", \"GueltigAbDatJahr\": 2021, \"GueltigAbDatMM\": 8, \"SexLang\": \"m\\u00e4nnlich\", \"sum_WBev\": 5}, {\"GueltigAbDat\": \"2021-03-29T00:00:00\", \"GueltigAbDatJahr\": 2021, \"GueltigAbDatMM\": 3, \"SexLang\": \"weiblich\", \"sum_WBev\": 5}, {\"GueltigAbDat\": \"2021-04-02T00:00:00\", \"GueltigAbDatJahr\": 2021, \"GueltigAbDatMM\": 4, \"SexLang\": \"weiblich\", \"sum_WBev\": 5}, {\"GueltigAbDat\": \"2021-04-30T00:00:00\", \"GueltigAbDatJahr\": 2021, \"GueltigAbDatMM\": 4, \"SexLang\": \"weiblich\", \"sum_WBev\": 5}, {\"GueltigAbDat\": \"2021-02-02T00:00:00\", \"GueltigAbDatJahr\": 2021, \"GueltigAbDatMM\": 2, \"SexLang\": \"weiblich\", \"sum_WBev\": 5}, {\"GueltigAbDat\": \"2021-11-05T00:00:00\", \"GueltigAbDatJahr\": 2021, \"GueltigAbDatMM\": 11, \"SexLang\": \"weiblich\", \"sum_WBev\": 5}, {\"GueltigAbDat\": \"2021-08-15T00:00:00\", \"GueltigAbDatJahr\": 2021, \"GueltigAbDatMM\": 8, \"SexLang\": \"m\\u00e4nnlich\", \"sum_WBev\": 5}, {\"GueltigAbDat\": \"2021-11-08T00:00:00\", \"GueltigAbDatJahr\": 2021, \"GueltigAbDatMM\": 11, \"SexLang\": \"weiblich\", \"sum_WBev\": 5}, {\"GueltigAbDat\": \"2021-08-09T00:00:00\", \"GueltigAbDatJahr\": 2021, \"GueltigAbDatMM\": 8, \"SexLang\": \"m\\u00e4nnlich\", \"sum_WBev\": 5}, {\"GueltigAbDat\": \"2020-11-19T00:00:00\", \"GueltigAbDatJahr\": 2020, \"GueltigAbDatMM\": 11, \"SexLang\": \"m\\u00e4nnlich\", \"sum_WBev\": 5}, {\"GueltigAbDat\": \"2021-08-08T00:00:00\", \"GueltigAbDatJahr\": 2021, \"GueltigAbDatMM\": 8, \"SexLang\": \"m\\u00e4nnlich\", \"sum_WBev\": 5}, {\"GueltigAbDat\": \"2020-11-20T00:00:00\", \"GueltigAbDatJahr\": 2020, \"GueltigAbDatMM\": 11, \"SexLang\": \"m\\u00e4nnlich\", \"sum_WBev\": 5}, {\"GueltigAbDat\": \"2021-06-18T00:00:00\", \"GueltigAbDatJahr\": 2021, \"GueltigAbDatMM\": 6, \"SexLang\": \"weiblich\", \"sum_WBev\": 5}, {\"GueltigAbDat\": \"2021-04-03T00:00:00\", \"GueltigAbDatJahr\": 2021, \"GueltigAbDatMM\": 4, \"SexLang\": \"m\\u00e4nnlich\", \"sum_WBev\": 5}, {\"GueltigAbDat\": \"2021-04-04T00:00:00\", \"GueltigAbDatJahr\": 2021, \"GueltigAbDatMM\": 4, \"SexLang\": \"m\\u00e4nnlich\", \"sum_WBev\": 5}, {\"GueltigAbDat\": \"2021-05-13T00:00:00\", \"GueltigAbDatJahr\": 2021, \"GueltigAbDatMM\": 5, \"SexLang\": \"weiblich\", \"sum_WBev\": 5}, {\"GueltigAbDat\": \"2021-08-01T00:00:00\", \"GueltigAbDatJahr\": 2021, \"GueltigAbDatMM\": 8, \"SexLang\": \"weiblich\", \"sum_WBev\": 5}, {\"GueltigAbDat\": \"2021-11-03T00:00:00\", \"GueltigAbDatJahr\": 2021, \"GueltigAbDatMM\": 11, \"SexLang\": \"weiblich\", \"sum_WBev\": 5}, {\"GueltigAbDat\": \"2021-05-06T00:00:00\", \"GueltigAbDatJahr\": 2021, \"GueltigAbDatMM\": 5, \"SexLang\": \"m\\u00e4nnlich\", \"sum_WBev\": 5}, {\"GueltigAbDat\": \"2020-11-15T00:00:00\", \"GueltigAbDatJahr\": 2020, \"GueltigAbDatMM\": 11, \"SexLang\": \"m\\u00e4nnlich\", \"sum_WBev\": 5}, {\"GueltigAbDat\": \"2020-11-22T00:00:00\", \"GueltigAbDatJahr\": 2020, \"GueltigAbDatMM\": 11, \"SexLang\": \"m\\u00e4nnlich\", \"sum_WBev\": 5}, {\"GueltigAbDat\": \"2021-08-04T00:00:00\", \"GueltigAbDatJahr\": 2021, \"GueltigAbDatMM\": 8, \"SexLang\": \"m\\u00e4nnlich\", \"sum_WBev\": 5}, {\"GueltigAbDat\": \"2020-11-21T00:00:00\", \"GueltigAbDatJahr\": 2020, \"GueltigAbDatMM\": 11, \"SexLang\": \"m\\u00e4nnlich\", \"sum_WBev\": 4}, {\"GueltigAbDat\": \"2020-12-14T00:00:00\", \"GueltigAbDatJahr\": 2020, \"GueltigAbDatMM\": 12, \"SexLang\": \"weiblich\", \"sum_WBev\": 4}, {\"GueltigAbDat\": \"2021-10-30T00:00:00\", \"GueltigAbDatJahr\": 2021, \"GueltigAbDatMM\": 10, \"SexLang\": \"m\\u00e4nnlich\", \"sum_WBev\": 4}, {\"GueltigAbDat\": \"2021-05-24T00:00:00\", \"GueltigAbDatJahr\": 2021, \"GueltigAbDatMM\": 5, \"SexLang\": \"m\\u00e4nnlich\", \"sum_WBev\": 4}, {\"GueltigAbDat\": \"2021-10-08T00:00:00\", \"GueltigAbDatJahr\": 2021, \"GueltigAbDatMM\": 10, \"SexLang\": \"m\\u00e4nnlich\", \"sum_WBev\": 4}, {\"GueltigAbDat\": \"2021-10-07T00:00:00\", \"GueltigAbDatJahr\": 2021, \"GueltigAbDatMM\": 10, \"SexLang\": \"m\\u00e4nnlich\", \"sum_WBev\": 4}, {\"GueltigAbDat\": \"2021-10-31T00:00:00\", \"GueltigAbDatJahr\": 2021, \"GueltigAbDatMM\": 10, \"SexLang\": \"weiblich\", \"sum_WBev\": 4}, {\"GueltigAbDat\": \"2021-11-28T00:00:00\", \"GueltigAbDatJahr\": 2021, \"GueltigAbDatMM\": 11, \"SexLang\": \"m\\u00e4nnlich\", \"sum_WBev\": 4}, {\"GueltigAbDat\": \"2020-12-13T00:00:00\", \"GueltigAbDatJahr\": 2020, \"GueltigAbDatMM\": 12, \"SexLang\": \"weiblich\", \"sum_WBev\": 4}, {\"GueltigAbDat\": \"2021-11-16T00:00:00\", \"GueltigAbDatJahr\": 2021, \"GueltigAbDatMM\": 11, \"SexLang\": \"m\\u00e4nnlich\", \"sum_WBev\": 4}, {\"GueltigAbDat\": \"2021-05-16T00:00:00\", \"GueltigAbDatJahr\": 2021, \"GueltigAbDatMM\": 5, \"SexLang\": \"m\\u00e4nnlich\", \"sum_WBev\": 4}, {\"GueltigAbDat\": \"2021-11-06T00:00:00\", \"GueltigAbDatJahr\": 2021, \"GueltigAbDatMM\": 11, \"SexLang\": \"m\\u00e4nnlich\", \"sum_WBev\": 4}, {\"GueltigAbDat\": \"2020-11-18T00:00:00\", \"GueltigAbDatJahr\": 2020, \"GueltigAbDatMM\": 11, \"SexLang\": \"weiblich\", \"sum_WBev\": 4}, {\"GueltigAbDat\": \"2021-05-02T00:00:00\", \"GueltigAbDatJahr\": 2021, \"GueltigAbDatMM\": 5, \"SexLang\": \"m\\u00e4nnlich\", \"sum_WBev\": 4}, {\"GueltigAbDat\": \"2021-11-12T00:00:00\", \"GueltigAbDatJahr\": 2021, \"GueltigAbDatMM\": 11, \"SexLang\": \"weiblich\", \"sum_WBev\": 4}, {\"GueltigAbDat\": \"2021-04-24T00:00:00\", \"GueltigAbDatJahr\": 2021, \"GueltigAbDatMM\": 4, \"SexLang\": \"weiblich\", \"sum_WBev\": 4}, {\"GueltigAbDat\": \"2021-05-11T00:00:00\", \"GueltigAbDatJahr\": 2021, \"GueltigAbDatMM\": 5, \"SexLang\": \"weiblich\", \"sum_WBev\": 4}, {\"GueltigAbDat\": \"2021-11-11T00:00:00\", \"GueltigAbDatJahr\": 2021, \"GueltigAbDatMM\": 11, \"SexLang\": \"weiblich\", \"sum_WBev\": 4}, {\"GueltigAbDat\": \"2021-05-12T00:00:00\", \"GueltigAbDatJahr\": 2021, \"GueltigAbDatMM\": 5, \"SexLang\": \"m\\u00e4nnlich\", \"sum_WBev\": 4}, {\"GueltigAbDat\": \"2021-05-18T00:00:00\", \"GueltigAbDatJahr\": 2021, \"GueltigAbDatMM\": 5, \"SexLang\": \"weiblich\", \"sum_WBev\": 4}, {\"GueltigAbDat\": \"2021-11-20T00:00:00\", \"GueltigAbDatJahr\": 2021, \"GueltigAbDatMM\": 11, \"SexLang\": \"weiblich\", \"sum_WBev\": 4}, {\"GueltigAbDat\": \"2021-11-07T00:00:00\", \"GueltigAbDatJahr\": 2021, \"GueltigAbDatMM\": 11, \"SexLang\": \"weiblich\", \"sum_WBev\": 4}, {\"GueltigAbDat\": \"2021-04-28T00:00:00\", \"GueltigAbDatJahr\": 2021, \"GueltigAbDatMM\": 4, \"SexLang\": \"m\\u00e4nnlich\", \"sum_WBev\": 4}, {\"GueltigAbDat\": \"2021-10-17T00:00:00\", \"GueltigAbDatJahr\": 2021, \"GueltigAbDatMM\": 10, \"SexLang\": \"m\\u00e4nnlich\", \"sum_WBev\": 4}, {\"GueltigAbDat\": \"2021-04-24T00:00:00\", \"GueltigAbDatJahr\": 2021, \"GueltigAbDatMM\": 4, \"SexLang\": \"m\\u00e4nnlich\", \"sum_WBev\": 4}, {\"GueltigAbDat\": \"2020-11-04T00:00:00\", \"GueltigAbDatJahr\": 2020, \"GueltigAbDatMM\": 11, \"SexLang\": \"m\\u00e4nnlich\", \"sum_WBev\": 4}, {\"GueltigAbDat\": \"2021-11-25T00:00:00\", \"GueltigAbDatJahr\": 2021, \"GueltigAbDatMM\": 11, \"SexLang\": \"m\\u00e4nnlich\", \"sum_WBev\": 4}, {\"GueltigAbDat\": \"2021-05-02T00:00:00\", \"GueltigAbDatJahr\": 2021, \"GueltigAbDatMM\": 5, \"SexLang\": \"weiblich\", \"sum_WBev\": 4}, {\"GueltigAbDat\": \"2020-12-12T00:00:00\", \"GueltigAbDatJahr\": 2020, \"GueltigAbDatMM\": 12, \"SexLang\": \"weiblich\", \"sum_WBev\": 4}, {\"GueltigAbDat\": \"2020-12-05T00:00:00\", \"GueltigAbDatJahr\": 2020, \"GueltigAbDatMM\": 12, \"SexLang\": \"weiblich\", \"sum_WBev\": 4}, {\"GueltigAbDat\": \"2021-09-17T00:00:00\", \"GueltigAbDatJahr\": 2021, \"GueltigAbDatMM\": 9, \"SexLang\": \"m\\u00e4nnlich\", \"sum_WBev\": 4}, {\"GueltigAbDat\": \"2021-10-04T00:00:00\", \"GueltigAbDatJahr\": 2021, \"GueltigAbDatMM\": 10, \"SexLang\": \"m\\u00e4nnlich\", \"sum_WBev\": 4}, {\"GueltigAbDat\": \"2021-09-02T00:00:00\", \"GueltigAbDatJahr\": 2021, \"GueltigAbDatMM\": 9, \"SexLang\": \"weiblich\", \"sum_WBev\": 4}, {\"GueltigAbDat\": \"2021-09-10T00:00:00\", \"GueltigAbDatJahr\": 2021, \"GueltigAbDatMM\": 9, \"SexLang\": \"weiblich\", \"sum_WBev\": 4}, {\"GueltigAbDat\": \"2021-08-01T00:00:00\", \"GueltigAbDatJahr\": 2021, \"GueltigAbDatMM\": 8, \"SexLang\": \"m\\u00e4nnlich\", \"sum_WBev\": 4}, {\"GueltigAbDat\": \"2021-09-07T00:00:00\", \"GueltigAbDatJahr\": 2021, \"GueltigAbDatMM\": 9, \"SexLang\": \"weiblich\", \"sum_WBev\": 4}, {\"GueltigAbDat\": \"2021-09-07T00:00:00\", \"GueltigAbDatJahr\": 2021, \"GueltigAbDatMM\": 9, \"SexLang\": \"m\\u00e4nnlich\", \"sum_WBev\": 4}, {\"GueltigAbDat\": \"2021-06-05T00:00:00\", \"GueltigAbDatJahr\": 2021, \"GueltigAbDatMM\": 6, \"SexLang\": \"m\\u00e4nnlich\", \"sum_WBev\": 4}, {\"GueltigAbDat\": \"2021-09-04T00:00:00\", \"GueltigAbDatJahr\": 2021, \"GueltigAbDatMM\": 9, \"SexLang\": \"m\\u00e4nnlich\", \"sum_WBev\": 4}, {\"GueltigAbDat\": \"2021-01-14T00:00:00\", \"GueltigAbDatJahr\": 2021, \"GueltigAbDatMM\": 1, \"SexLang\": \"m\\u00e4nnlich\", \"sum_WBev\": 4}, {\"GueltigAbDat\": \"2021-02-12T00:00:00\", \"GueltigAbDatJahr\": 2021, \"GueltigAbDatMM\": 2, \"SexLang\": \"m\\u00e4nnlich\", \"sum_WBev\": 4}, {\"GueltigAbDat\": \"2021-08-12T00:00:00\", \"GueltigAbDatJahr\": 2021, \"GueltigAbDatMM\": 8, \"SexLang\": \"weiblich\", \"sum_WBev\": 4}, {\"GueltigAbDat\": \"2021-07-25T00:00:00\", \"GueltigAbDatJahr\": 2021, \"GueltigAbDatMM\": 7, \"SexLang\": \"m\\u00e4nnlich\", \"sum_WBev\": 4}, {\"GueltigAbDat\": \"2021-06-14T00:00:00\", \"GueltigAbDatJahr\": 2021, \"GueltigAbDatMM\": 6, \"SexLang\": \"weiblich\", \"sum_WBev\": 4}, {\"GueltigAbDat\": \"2021-06-08T00:00:00\", \"GueltigAbDatJahr\": 2021, \"GueltigAbDatMM\": 6, \"SexLang\": \"m\\u00e4nnlich\", \"sum_WBev\": 4}, {\"GueltigAbDat\": \"2021-01-21T00:00:00\", \"GueltigAbDatJahr\": 2021, \"GueltigAbDatMM\": 1, \"SexLang\": \"weiblich\", \"sum_WBev\": 4}, {\"GueltigAbDat\": \"2021-02-01T00:00:00\", \"GueltigAbDatJahr\": 2021, \"GueltigAbDatMM\": 2, \"SexLang\": \"weiblich\", \"sum_WBev\": 4}, {\"GueltigAbDat\": \"2021-04-05T00:00:00\", \"GueltigAbDatJahr\": 2021, \"GueltigAbDatMM\": 4, \"SexLang\": \"m\\u00e4nnlich\", \"sum_WBev\": 4}, {\"GueltigAbDat\": \"2021-01-23T00:00:00\", \"GueltigAbDatJahr\": 2021, \"GueltigAbDatMM\": 1, \"SexLang\": \"m\\u00e4nnlich\", \"sum_WBev\": 4}, {\"GueltigAbDat\": \"2021-01-24T00:00:00\", \"GueltigAbDatJahr\": 2021, \"GueltigAbDatMM\": 1, \"SexLang\": \"weiblich\", \"sum_WBev\": 4}, {\"GueltigAbDat\": \"2021-04-03T00:00:00\", \"GueltigAbDatJahr\": 2021, \"GueltigAbDatMM\": 4, \"SexLang\": \"weiblich\", \"sum_WBev\": 4}, {\"GueltigAbDat\": \"2021-02-21T00:00:00\", \"GueltigAbDatJahr\": 2021, \"GueltigAbDatMM\": 2, \"SexLang\": \"weiblich\", \"sum_WBev\": 4}, {\"GueltigAbDat\": \"2021-06-13T00:00:00\", \"GueltigAbDatJahr\": 2021, \"GueltigAbDatMM\": 6, \"SexLang\": \"weiblich\", \"sum_WBev\": 4}, {\"GueltigAbDat\": \"2020-12-31T00:00:00\", \"GueltigAbDatJahr\": 2020, \"GueltigAbDatMM\": 12, \"SexLang\": \"weiblich\", \"sum_WBev\": 4}, {\"GueltigAbDat\": \"2021-04-20T00:00:00\", \"GueltigAbDatJahr\": 2021, \"GueltigAbDatMM\": 4, \"SexLang\": \"m\\u00e4nnlich\", \"sum_WBev\": 4}, {\"GueltigAbDat\": \"2021-10-02T00:00:00\", \"GueltigAbDatJahr\": 2021, \"GueltigAbDatMM\": 10, \"SexLang\": \"weiblich\", \"sum_WBev\": 4}, {\"GueltigAbDat\": \"2021-07-02T00:00:00\", \"GueltigAbDatJahr\": 2021, \"GueltigAbDatMM\": 7, \"SexLang\": \"m\\u00e4nnlich\", \"sum_WBev\": 4}, {\"GueltigAbDat\": \"2020-12-25T00:00:00\", \"GueltigAbDatJahr\": 2020, \"GueltigAbDatMM\": 12, \"SexLang\": \"m\\u00e4nnlich\", \"sum_WBev\": 4}, {\"GueltigAbDat\": \"2021-04-16T00:00:00\", \"GueltigAbDatJahr\": 2021, \"GueltigAbDatMM\": 4, \"SexLang\": \"m\\u00e4nnlich\", \"sum_WBev\": 4}, {\"GueltigAbDat\": \"2021-07-22T00:00:00\", \"GueltigAbDatJahr\": 2021, \"GueltigAbDatMM\": 7, \"SexLang\": \"m\\u00e4nnlich\", \"sum_WBev\": 4}, {\"GueltigAbDat\": \"2021-02-26T00:00:00\", \"GueltigAbDatJahr\": 2021, \"GueltigAbDatMM\": 2, \"SexLang\": \"weiblich\", \"sum_WBev\": 4}, {\"GueltigAbDat\": \"2021-07-17T00:00:00\", \"GueltigAbDatJahr\": 2021, \"GueltigAbDatMM\": 7, \"SexLang\": \"weiblich\", \"sum_WBev\": 4}, {\"GueltigAbDat\": \"2021-09-25T00:00:00\", \"GueltigAbDatJahr\": 2021, \"GueltigAbDatMM\": 9, \"SexLang\": \"m\\u00e4nnlich\", \"sum_WBev\": 4}, {\"GueltigAbDat\": \"2021-07-08T00:00:00\", \"GueltigAbDatJahr\": 2021, \"GueltigAbDatMM\": 7, \"SexLang\": \"weiblich\", \"sum_WBev\": 4}, {\"GueltigAbDat\": \"2021-03-07T00:00:00\", \"GueltigAbDatJahr\": 2021, \"GueltigAbDatMM\": 3, \"SexLang\": \"weiblich\", \"sum_WBev\": 4}, {\"GueltigAbDat\": \"2021-01-01T00:00:00\", \"GueltigAbDatJahr\": 2021, \"GueltigAbDatMM\": 1, \"SexLang\": \"m\\u00e4nnlich\", \"sum_WBev\": 4}, {\"GueltigAbDat\": \"2021-03-02T00:00:00\", \"GueltigAbDatJahr\": 2021, \"GueltigAbDatMM\": 3, \"SexLang\": \"m\\u00e4nnlich\", \"sum_WBev\": 4}, {\"GueltigAbDat\": \"2021-11-25T00:00:00\", \"GueltigAbDatJahr\": 2021, \"GueltigAbDatMM\": 11, \"SexLang\": \"weiblich\", \"sum_WBev\": 3}, {\"GueltigAbDat\": \"2021-06-17T00:00:00\", \"GueltigAbDatJahr\": 2021, \"GueltigAbDatMM\": 6, \"SexLang\": \"m\\u00e4nnlich\", \"sum_WBev\": 3}, {\"GueltigAbDat\": \"2021-03-22T00:00:00\", \"GueltigAbDatJahr\": 2021, \"GueltigAbDatMM\": 3, \"SexLang\": \"m\\u00e4nnlich\", \"sum_WBev\": 3}, {\"GueltigAbDat\": \"2021-05-08T00:00:00\", \"GueltigAbDatJahr\": 2021, \"GueltigAbDatMM\": 5, \"SexLang\": \"m\\u00e4nnlich\", \"sum_WBev\": 3}, {\"GueltigAbDat\": \"2021-11-29T00:00:00\", \"GueltigAbDatJahr\": 2021, \"GueltigAbDatMM\": 11, \"SexLang\": \"weiblich\", \"sum_WBev\": 3}, {\"GueltigAbDat\": \"2021-02-02T00:00:00\", \"GueltigAbDatJahr\": 2021, \"GueltigAbDatMM\": 2, \"SexLang\": \"m\\u00e4nnlich\", \"sum_WBev\": 3}, {\"GueltigAbDat\": \"2021-02-12T00:00:00\", \"GueltigAbDatJahr\": 2021, \"GueltigAbDatMM\": 2, \"SexLang\": \"weiblich\", \"sum_WBev\": 3}, {\"GueltigAbDat\": \"2021-11-20T00:00:00\", \"GueltigAbDatJahr\": 2021, \"GueltigAbDatMM\": 11, \"SexLang\": \"m\\u00e4nnlich\", \"sum_WBev\": 3}, {\"GueltigAbDat\": \"2021-08-04T00:00:00\", \"GueltigAbDatJahr\": 2021, \"GueltigAbDatMM\": 8, \"SexLang\": \"weiblich\", \"sum_WBev\": 3}, {\"GueltigAbDat\": \"2021-03-28T00:00:00\", \"GueltigAbDatJahr\": 2021, \"GueltigAbDatMM\": 3, \"SexLang\": \"weiblich\", \"sum_WBev\": 3}, {\"GueltigAbDat\": \"2021-11-13T00:00:00\", \"GueltigAbDatJahr\": 2021, \"GueltigAbDatMM\": 11, \"SexLang\": \"m\\u00e4nnlich\", \"sum_WBev\": 3}, {\"GueltigAbDat\": \"2021-08-03T00:00:00\", \"GueltigAbDatJahr\": 2021, \"GueltigAbDatMM\": 8, \"SexLang\": \"m\\u00e4nnlich\", \"sum_WBev\": 3}, {\"GueltigAbDat\": \"2021-02-14T00:00:00\", \"GueltigAbDatJahr\": 2021, \"GueltigAbDatMM\": 2, \"SexLang\": \"weiblich\", \"sum_WBev\": 3}, {\"GueltigAbDat\": \"2021-06-26T00:00:00\", \"GueltigAbDatJahr\": 2021, \"GueltigAbDatMM\": 6, \"SexLang\": \"weiblich\", \"sum_WBev\": 3}, {\"GueltigAbDat\": \"2021-10-03T00:00:00\", \"GueltigAbDatJahr\": 2021, \"GueltigAbDatMM\": 10, \"SexLang\": \"weiblich\", \"sum_WBev\": 3}, {\"GueltigAbDat\": \"2021-07-28T00:00:00\", \"GueltigAbDatJahr\": 2021, \"GueltigAbDatMM\": 7, \"SexLang\": \"m\\u00e4nnlich\", \"sum_WBev\": 3}, {\"GueltigAbDat\": \"2020-11-07T00:00:00\", \"GueltigAbDatJahr\": 2020, \"GueltigAbDatMM\": 11, \"SexLang\": \"m\\u00e4nnlich\", \"sum_WBev\": 3}, {\"GueltigAbDat\": \"2021-07-25T00:00:00\", \"GueltigAbDatJahr\": 2021, \"GueltigAbDatMM\": 7, \"SexLang\": \"weiblich\", \"sum_WBev\": 3}, {\"GueltigAbDat\": \"2021-11-21T00:00:00\", \"GueltigAbDatJahr\": 2021, \"GueltigAbDatMM\": 11, \"SexLang\": \"weiblich\", \"sum_WBev\": 3}, {\"GueltigAbDat\": \"2021-07-30T00:00:00\", \"GueltigAbDatJahr\": 2021, \"GueltigAbDatMM\": 7, \"SexLang\": \"m\\u00e4nnlich\", \"sum_WBev\": 3}, {\"GueltigAbDat\": \"2021-07-03T00:00:00\", \"GueltigAbDatJahr\": 2021, \"GueltigAbDatMM\": 7, \"SexLang\": \"weiblich\", \"sum_WBev\": 3}, {\"GueltigAbDat\": \"2020-12-27T00:00:00\", \"GueltigAbDatJahr\": 2020, \"GueltigAbDatMM\": 12, \"SexLang\": \"weiblich\", \"sum_WBev\": 3}, {\"GueltigAbDat\": \"2020-12-15T00:00:00\", \"GueltigAbDatJahr\": 2020, \"GueltigAbDatMM\": 12, \"SexLang\": \"m\\u00e4nnlich\", \"sum_WBev\": 3}, {\"GueltigAbDat\": \"2021-09-12T00:00:00\", \"GueltigAbDatJahr\": 2021, \"GueltigAbDatMM\": 9, \"SexLang\": \"weiblich\", \"sum_WBev\": 3}, {\"GueltigAbDat\": \"2021-03-15T00:00:00\", \"GueltigAbDatJahr\": 2021, \"GueltigAbDatMM\": 3, \"SexLang\": \"m\\u00e4nnlich\", \"sum_WBev\": 3}, {\"GueltigAbDat\": \"2021-05-30T00:00:00\", \"GueltigAbDatJahr\": 2021, \"GueltigAbDatMM\": 5, \"SexLang\": \"m\\u00e4nnlich\", \"sum_WBev\": 3}, {\"GueltigAbDat\": \"2021-09-20T00:00:00\", \"GueltigAbDatJahr\": 2021, \"GueltigAbDatMM\": 9, \"SexLang\": \"weiblich\", \"sum_WBev\": 3}, {\"GueltigAbDat\": \"2021-10-22T00:00:00\", \"GueltigAbDatJahr\": 2021, \"GueltigAbDatMM\": 10, \"SexLang\": \"m\\u00e4nnlich\", \"sum_WBev\": 3}, {\"GueltigAbDat\": \"2020-12-03T00:00:00\", \"GueltigAbDatJahr\": 2020, \"GueltigAbDatMM\": 12, \"SexLang\": \"m\\u00e4nnlich\", \"sum_WBev\": 3}, {\"GueltigAbDat\": \"2021-10-13T00:00:00\", \"GueltigAbDatJahr\": 2021, \"GueltigAbDatMM\": 10, \"SexLang\": \"m\\u00e4nnlich\", \"sum_WBev\": 3}, {\"GueltigAbDat\": \"2020-12-27T00:00:00\", \"GueltigAbDatJahr\": 2020, \"GueltigAbDatMM\": 12, \"SexLang\": \"m\\u00e4nnlich\", \"sum_WBev\": 3}, {\"GueltigAbDat\": \"2020-12-26T00:00:00\", \"GueltigAbDatJahr\": 2020, \"GueltigAbDatMM\": 12, \"SexLang\": \"weiblich\", \"sum_WBev\": 3}, {\"GueltigAbDat\": \"2021-09-13T00:00:00\", \"GueltigAbDatJahr\": 2021, \"GueltigAbDatMM\": 9, \"SexLang\": \"weiblich\", \"sum_WBev\": 3}, {\"GueltigAbDat\": \"2021-05-15T00:00:00\", \"GueltigAbDatJahr\": 2021, \"GueltigAbDatMM\": 5, \"SexLang\": \"weiblich\", \"sum_WBev\": 3}, {\"GueltigAbDat\": \"2020-11-28T00:00:00\", \"GueltigAbDatJahr\": 2020, \"GueltigAbDatMM\": 11, \"SexLang\": \"weiblich\", \"sum_WBev\": 3}, {\"GueltigAbDat\": \"2021-01-18T00:00:00\", \"GueltigAbDatJahr\": 2021, \"GueltigAbDatMM\": 1, \"SexLang\": \"m\\u00e4nnlich\", \"sum_WBev\": 3}, {\"GueltigAbDat\": \"2021-08-21T00:00:00\", \"GueltigAbDatJahr\": 2021, \"GueltigAbDatMM\": 8, \"SexLang\": \"m\\u00e4nnlich\", \"sum_WBev\": 3}, {\"GueltigAbDat\": \"2021-04-05T00:00:00\", \"GueltigAbDatJahr\": 2021, \"GueltigAbDatMM\": 4, \"SexLang\": \"weiblich\", \"sum_WBev\": 3}, {\"GueltigAbDat\": \"2021-05-23T00:00:00\", \"GueltigAbDatJahr\": 2021, \"GueltigAbDatMM\": 5, \"SexLang\": \"weiblich\", \"sum_WBev\": 3}, {\"GueltigAbDat\": \"2021-04-19T00:00:00\", \"GueltigAbDatJahr\": 2021, \"GueltigAbDatMM\": 4, \"SexLang\": \"weiblich\", \"sum_WBev\": 2}, {\"GueltigAbDat\": \"2021-09-18T00:00:00\", \"GueltigAbDatJahr\": 2021, \"GueltigAbDatMM\": 9, \"SexLang\": \"m\\u00e4nnlich\", \"sum_WBev\": 2}, {\"GueltigAbDat\": \"2021-05-31T00:00:00\", \"GueltigAbDatJahr\": 2021, \"GueltigAbDatMM\": 5, \"SexLang\": \"m\\u00e4nnlich\", \"sum_WBev\": 2}, {\"GueltigAbDat\": \"2021-01-05T00:00:00\", \"GueltigAbDatJahr\": 2021, \"GueltigAbDatMM\": 1, \"SexLang\": \"m\\u00e4nnlich\", \"sum_WBev\": 2}, {\"GueltigAbDat\": \"2020-11-07T00:00:00\", \"GueltigAbDatJahr\": 2020, \"GueltigAbDatMM\": 11, \"SexLang\": \"weiblich\", \"sum_WBev\": 2}, {\"GueltigAbDat\": \"2021-07-10T00:00:00\", \"GueltigAbDatJahr\": 2021, \"GueltigAbDatMM\": 7, \"SexLang\": \"m\\u00e4nnlich\", \"sum_WBev\": 2}, {\"GueltigAbDat\": \"2021-10-15T00:00:00\", \"GueltigAbDatJahr\": 2021, \"GueltigAbDatMM\": 10, \"SexLang\": \"m\\u00e4nnlich\", \"sum_WBev\": 2}, {\"GueltigAbDat\": \"2021-07-11T00:00:00\", \"GueltigAbDatJahr\": 2021, \"GueltigAbDatMM\": 7, \"SexLang\": \"weiblich\", \"sum_WBev\": 2}, {\"GueltigAbDat\": \"2021-05-04T00:00:00\", \"GueltigAbDatJahr\": 2021, \"GueltigAbDatMM\": 5, \"SexLang\": \"weiblich\", \"sum_WBev\": 2}, {\"GueltigAbDat\": \"2021-01-01T00:00:00\", \"GueltigAbDatJahr\": 2021, \"GueltigAbDatMM\": 1, \"SexLang\": \"weiblich\", \"sum_WBev\": 2}, {\"GueltigAbDat\": \"2021-11-28T00:00:00\", \"GueltigAbDatJahr\": 2021, \"GueltigAbDatMM\": 11, \"SexLang\": \"weiblich\", \"sum_WBev\": 2}, {\"GueltigAbDat\": \"2021-05-23T00:00:00\", \"GueltigAbDatJahr\": 2021, \"GueltigAbDatMM\": 5, \"SexLang\": \"m\\u00e4nnlich\", \"sum_WBev\": 2}, {\"GueltigAbDat\": \"2021-01-09T00:00:00\", \"GueltigAbDatJahr\": 2021, \"GueltigAbDatMM\": 1, \"SexLang\": \"m\\u00e4nnlich\", \"sum_WBev\": 2}, {\"GueltigAbDat\": \"2021-06-12T00:00:00\", \"GueltigAbDatJahr\": 2021, \"GueltigAbDatMM\": 6, \"SexLang\": \"m\\u00e4nnlich\", \"sum_WBev\": 2}, {\"GueltigAbDat\": \"2021-05-03T00:00:00\", \"GueltigAbDatJahr\": 2021, \"GueltigAbDatMM\": 5, \"SexLang\": \"m\\u00e4nnlich\", \"sum_WBev\": 2}, {\"GueltigAbDat\": \"2021-02-17T00:00:00\", \"GueltigAbDatJahr\": 2021, \"GueltigAbDatMM\": 2, \"SexLang\": \"weiblich\", \"sum_WBev\": 2}, {\"GueltigAbDat\": \"2020-11-22T00:00:00\", \"GueltigAbDatJahr\": 2020, \"GueltigAbDatMM\": 11, \"SexLang\": \"weiblich\", \"sum_WBev\": 2}, {\"GueltigAbDat\": \"2021-01-19T00:00:00\", \"GueltigAbDatJahr\": 2021, \"GueltigAbDatMM\": 1, \"SexLang\": \"m\\u00e4nnlich\", \"sum_WBev\": 2}, {\"GueltigAbDat\": \"2021-11-06T00:00:00\", \"GueltigAbDatJahr\": 2021, \"GueltigAbDatMM\": 11, \"SexLang\": \"weiblich\", \"sum_WBev\": 2}, {\"GueltigAbDat\": \"2021-11-07T00:00:00\", \"GueltigAbDatJahr\": 2021, \"GueltigAbDatMM\": 11, \"SexLang\": \"m\\u00e4nnlich\", \"sum_WBev\": 2}, {\"GueltigAbDat\": \"2021-02-06T00:00:00\", \"GueltigAbDatJahr\": 2021, \"GueltigAbDatMM\": 2, \"SexLang\": \"weiblich\", \"sum_WBev\": 2}, {\"GueltigAbDat\": \"2021-06-18T00:00:00\", \"GueltigAbDatJahr\": 2021, \"GueltigAbDatMM\": 6, \"SexLang\": \"m\\u00e4nnlich\", \"sum_WBev\": 2}, {\"GueltigAbDat\": \"2021-02-08T00:00:00\", \"GueltigAbDatJahr\": 2021, \"GueltigAbDatMM\": 2, \"SexLang\": \"weiblich\", \"sum_WBev\": 2}, {\"GueltigAbDat\": \"2021-06-19T00:00:00\", \"GueltigAbDatJahr\": 2021, \"GueltigAbDatMM\": 6, \"SexLang\": \"weiblich\", \"sum_WBev\": 2}, {\"GueltigAbDat\": \"2020-11-17T00:00:00\", \"GueltigAbDatJahr\": 2020, \"GueltigAbDatMM\": 11, \"SexLang\": \"weiblich\", \"sum_WBev\": 2}, {\"GueltigAbDat\": \"2020-11-30T00:00:00\", \"GueltigAbDatJahr\": 2020, \"GueltigAbDatMM\": 11, \"SexLang\": \"weiblich\", \"sum_WBev\": 2}, {\"GueltigAbDat\": \"2021-10-24T00:00:00\", \"GueltigAbDatJahr\": 2021, \"GueltigAbDatMM\": 10, \"SexLang\": \"weiblich\", \"sum_WBev\": 2}, {\"GueltigAbDat\": \"2021-09-05T00:00:00\", \"GueltigAbDatJahr\": 2021, \"GueltigAbDatMM\": 9, \"SexLang\": \"m\\u00e4nnlich\", \"sum_WBev\": 2}, {\"GueltigAbDat\": \"2021-11-14T00:00:00\", \"GueltigAbDatJahr\": 2021, \"GueltigAbDatMM\": 11, \"SexLang\": \"m\\u00e4nnlich\", \"sum_WBev\": 2}, {\"GueltigAbDat\": \"2020-12-04T00:00:00\", \"GueltigAbDatJahr\": 2020, \"GueltigAbDatMM\": 12, \"SexLang\": \"m\\u00e4nnlich\", \"sum_WBev\": 2}, {\"GueltigAbDat\": \"2021-11-15T00:00:00\", \"GueltigAbDatJahr\": 2021, \"GueltigAbDatMM\": 11, \"SexLang\": \"m\\u00e4nnlich\", \"sum_WBev\": 2}, {\"GueltigAbDat\": \"2020-11-14T00:00:00\", \"GueltigAbDatJahr\": 2020, \"GueltigAbDatMM\": 11, \"SexLang\": \"m\\u00e4nnlich\", \"sum_WBev\": 2}, {\"GueltigAbDat\": \"2021-09-09T00:00:00\", \"GueltigAbDatJahr\": 2021, \"GueltigAbDatMM\": 9, \"SexLang\": \"weiblich\", \"sum_WBev\": 2}, {\"GueltigAbDat\": \"2021-04-13T00:00:00\", \"GueltigAbDatJahr\": 2021, \"GueltigAbDatMM\": 4, \"SexLang\": \"weiblich\", \"sum_WBev\": 2}, {\"GueltigAbDat\": \"2021-01-27T00:00:00\", \"GueltigAbDatJahr\": 2021, \"GueltigAbDatMM\": 1, \"SexLang\": \"weiblich\", \"sum_WBev\": 2}]}}, {\"mode\": \"vega-lite\"});\n",
       "</script>"
      ],
      "text/plain": [
       "alt.LayerChart(...)"
      ]
     },
     "execution_count": 147,
     "metadata": {},
     "output_type": "execute_result"
    }
   ],
   "source": [
    "highlight = alt.selection(type='single', on='mouseover',\n",
    "                          fields=['KreisLang'], nearest=True)\n",
    "#x='date:StichtagDatJahr',\n",
    "base = alt.Chart(myAgg.reset_index().query('sum_WBev>1'), title=\"Title\").encode(\n",
    "    x=alt.X('GueltigAbDat', axis=alt.Axis(title='Jahr'))# , axis=alt.Axis(format='%', title='percentage')\n",
    "    , y=alt.X('sum_WBev', axis=alt.Axis(title='Anz. Personen'))\n",
    "    , color=alt.Color('SexLang', legend=alt.Legend(title=\"Stadtkreise\", orient=\"right\"))  \n",
    "    ,tooltip=['GueltigAbDat', 'SexLang', 'sum_WBev']    \n",
    ")\n",
    "points = base.mark_circle().encode(\n",
    "    opacity=alt.value(0.75)\n",
    ").add_selection(\n",
    "    highlight\n",
    ").properties(\n",
    "    width=900 , height=350\n",
    ")\n",
    "lines = base.mark_line().encode(\n",
    "    size=alt.condition(~highlight, alt.value(0.5), alt.value(4))\n",
    ").interactive()\n",
    "\n",
    "lines + points"
   ]
  },
  {
   "cell_type": "markdown",
   "metadata": {},
   "source": [
    "#### Entwicklung nach Geschlecht"
   ]
  },
  {
   "cell_type": "code",
   "execution_count": 150,
   "metadata": {},
   "outputs": [
    {
     "data": {
      "text/html": [
       "<div>\n",
       "<style scoped>\n",
       "    .dataframe tbody tr th:only-of-type {\n",
       "        vertical-align: middle;\n",
       "    }\n",
       "\n",
       "    .dataframe tbody tr th {\n",
       "        vertical-align: top;\n",
       "    }\n",
       "\n",
       "    .dataframe thead th {\n",
       "        text-align: right;\n",
       "    }\n",
       "</style>\n",
       "<table border=\"1\" class=\"dataframe\">\n",
       "  <thead>\n",
       "    <tr style=\"text-align: right;\">\n",
       "      <th></th>\n",
       "      <th>GueltigAbDat</th>\n",
       "      <th>GueltigAbDatJahr</th>\n",
       "      <th>GueltigAbDatMM</th>\n",
       "      <th>SexLang</th>\n",
       "      <th>sum_WBev</th>\n",
       "    </tr>\n",
       "  </thead>\n",
       "  <tbody>\n",
       "    <tr>\n",
       "      <th>0</th>\n",
       "      <td>2021-07-12</td>\n",
       "      <td>2021</td>\n",
       "      <td>7</td>\n",
       "      <td>männlich</td>\n",
       "      <td>16</td>\n",
       "    </tr>\n",
       "    <tr>\n",
       "      <th>1</th>\n",
       "      <td>2021-10-14</td>\n",
       "      <td>2021</td>\n",
       "      <td>10</td>\n",
       "      <td>männlich</td>\n",
       "      <td>16</td>\n",
       "    </tr>\n",
       "  </tbody>\n",
       "</table>\n",
       "</div>"
      ],
      "text/plain": [
       "  GueltigAbDat  GueltigAbDatJahr  GueltigAbDatMM   SexLang  sum_WBev\n",
       "0   2021-07-12              2021               7  männlich        16\n",
       "1   2021-10-14              2021              10  männlich        16"
      ]
     },
     "execution_count": 150,
     "metadata": {},
     "output_type": "execute_result"
    }
   ],
   "source": [
    "#myAgg = data2betested.loc[\"2008-11\":\"2021-11\"] \\\n",
    "myAgg = data2betested.loc[\"2020-11\":\"2021-11\"] \\\n",
    "    .groupby(['GueltigAbDat','GueltigAbDatJahr', 'GueltigAbDatMM', 'SexLang']) \\\n",
    "    .agg(sum_WBev=('AnzGebuWir', 'sum')) \\\n",
    "    .sort_values('sum_WBev', ascending=False) \n",
    "\n",
    "myAgg.reset_index().head(2)"
   ]
  },
  {
   "cell_type": "code",
   "execution_count": 151,
   "metadata": {},
   "outputs": [
    {
     "data": {
      "text/html": [
       "\n",
       "<div id=\"altair-viz-2ffafc51ee254dbf9864b5bfa67cd7ba\"></div>\n",
       "<script type=\"text/javascript\">\n",
       "  (function(spec, embedOpt){\n",
       "    let outputDiv = document.currentScript.previousElementSibling;\n",
       "    if (outputDiv.id !== \"altair-viz-2ffafc51ee254dbf9864b5bfa67cd7ba\") {\n",
       "      outputDiv = document.getElementById(\"altair-viz-2ffafc51ee254dbf9864b5bfa67cd7ba\");\n",
       "    }\n",
       "    const paths = {\n",
       "      \"vega\": \"https://cdn.jsdelivr.net/npm//vega@5?noext\",\n",
       "      \"vega-lib\": \"https://cdn.jsdelivr.net/npm//vega-lib?noext\",\n",
       "      \"vega-lite\": \"https://cdn.jsdelivr.net/npm//vega-lite@4.8.1?noext\",\n",
       "      \"vega-embed\": \"https://cdn.jsdelivr.net/npm//vega-embed@6?noext\",\n",
       "    };\n",
       "\n",
       "    function loadScript(lib) {\n",
       "      return new Promise(function(resolve, reject) {\n",
       "        var s = document.createElement('script');\n",
       "        s.src = paths[lib];\n",
       "        s.async = true;\n",
       "        s.onload = () => resolve(paths[lib]);\n",
       "        s.onerror = () => reject(`Error loading script: ${paths[lib]}`);\n",
       "        document.getElementsByTagName(\"head\")[0].appendChild(s);\n",
       "      });\n",
       "    }\n",
       "\n",
       "    function showError(err) {\n",
       "      outputDiv.innerHTML = `<div class=\"error\" style=\"color:red;\">${err}</div>`;\n",
       "      throw err;\n",
       "    }\n",
       "\n",
       "    function displayChart(vegaEmbed) {\n",
       "      vegaEmbed(outputDiv, spec, embedOpt)\n",
       "        .catch(err => showError(`Javascript Error: ${err.message}<br>This usually means there's a typo in your chart specification. See the javascript console for the full traceback.`));\n",
       "    }\n",
       "\n",
       "    if(typeof define === \"function\" && define.amd) {\n",
       "      requirejs.config({paths});\n",
       "      require([\"vega-embed\"], displayChart, err => showError(`Error loading script: ${err.message}`));\n",
       "    } else if (typeof vegaEmbed === \"function\") {\n",
       "      displayChart(vegaEmbed);\n",
       "    } else {\n",
       "      loadScript(\"vega\")\n",
       "        .then(() => loadScript(\"vega-lite\"))\n",
       "        .then(() => loadScript(\"vega-embed\"))\n",
       "        .catch(showError)\n",
       "        .then(() => displayChart(vegaEmbed));\n",
       "    }\n",
       "  })({\"config\": {\"view\": {\"continuousWidth\": 400, \"continuousHeight\": 300}}, \"layer\": [{\"mark\": \"line\", \"encoding\": {\"color\": {\"type\": \"nominal\", \"field\": \"SexLang\", \"legend\": {\"orient\": \"right\", \"title\": \"Geschlecht\"}}, \"size\": {\"condition\": {\"value\": 0.5, \"selection\": {\"not\": \"selector049\"}}, \"value\": 4}, \"tooltip\": [{\"type\": \"temporal\", \"field\": \"GueltigAbDat\"}, {\"type\": \"nominal\", \"field\": \"SexLang\"}, {\"type\": \"quantitative\", \"field\": \"sum_WBev\"}], \"x\": {\"type\": \"temporal\", \"axis\": {\"title\": \"Jahr\"}, \"field\": \"GueltigAbDat\"}, \"y\": {\"type\": \"quantitative\", \"axis\": {\"title\": \"Anz. Personen\"}, \"field\": \"sum_WBev\"}}, \"selection\": {\"selector050\": {\"type\": \"interval\", \"bind\": \"scales\", \"encodings\": [\"x\", \"y\"]}}, \"title\": \"Title\"}, {\"mark\": \"circle\", \"encoding\": {\"color\": {\"type\": \"nominal\", \"field\": \"SexLang\", \"legend\": {\"orient\": \"right\", \"title\": \"Geschlecht\"}}, \"opacity\": {\"value\": 0.75}, \"tooltip\": [{\"type\": \"temporal\", \"field\": \"GueltigAbDat\"}, {\"type\": \"nominal\", \"field\": \"SexLang\"}, {\"type\": \"quantitative\", \"field\": \"sum_WBev\"}], \"x\": {\"type\": \"temporal\", \"axis\": {\"title\": \"Jahr\"}, \"field\": \"GueltigAbDat\"}, \"y\": {\"type\": \"quantitative\", \"axis\": {\"title\": \"Anz. Personen\"}, \"field\": \"sum_WBev\"}}, \"height\": 350, \"selection\": {\"selector049\": {\"type\": \"single\", \"on\": \"mouseover\", \"fields\": [\"SexLang\"], \"nearest\": true}}, \"title\": \"Title\", \"width\": 900}], \"data\": {\"name\": \"data-f109ed2dc2d290e2ee619dd7dd823910\"}, \"$schema\": \"https://vega.github.io/schema/vega-lite/v4.8.1.json\", \"datasets\": {\"data-f109ed2dc2d290e2ee619dd7dd823910\": [{\"GueltigAbDat\": \"2021-07-12T00:00:00\", \"GueltigAbDatJahr\": 2021, \"GueltigAbDatMM\": 7, \"SexLang\": \"m\\u00e4nnlich\", \"sum_WBev\": 16}, {\"GueltigAbDat\": \"2021-10-14T00:00:00\", \"GueltigAbDatJahr\": 2021, \"GueltigAbDatMM\": 10, \"SexLang\": \"m\\u00e4nnlich\", \"sum_WBev\": 16}, {\"GueltigAbDat\": \"2021-01-08T00:00:00\", \"GueltigAbDatJahr\": 2021, \"GueltigAbDatMM\": 1, \"SexLang\": \"weiblich\", \"sum_WBev\": 16}, {\"GueltigAbDat\": \"2020-11-11T00:00:00\", \"GueltigAbDatJahr\": 2020, \"GueltigAbDatMM\": 11, \"SexLang\": \"weiblich\", \"sum_WBev\": 15}, {\"GueltigAbDat\": \"2021-06-20T00:00:00\", \"GueltigAbDatJahr\": 2021, \"GueltigAbDatMM\": 6, \"SexLang\": \"m\\u00e4nnlich\", \"sum_WBev\": 15}, {\"GueltigAbDat\": \"2020-11-02T00:00:00\", \"GueltigAbDatJahr\": 2020, \"GueltigAbDatMM\": 11, \"SexLang\": \"weiblich\", \"sum_WBev\": 15}, {\"GueltigAbDat\": \"2020-12-30T00:00:00\", \"GueltigAbDatJahr\": 2020, \"GueltigAbDatMM\": 12, \"SexLang\": \"weiblich\", \"sum_WBev\": 15}, {\"GueltigAbDat\": \"2021-11-05T00:00:00\", \"GueltigAbDatJahr\": 2021, \"GueltigAbDatMM\": 11, \"SexLang\": \"m\\u00e4nnlich\", \"sum_WBev\": 15}, {\"GueltigAbDat\": \"2021-01-18T00:00:00\", \"GueltigAbDatJahr\": 2021, \"GueltigAbDatMM\": 1, \"SexLang\": \"weiblich\", \"sum_WBev\": 14}, {\"GueltigAbDat\": \"2021-06-01T00:00:00\", \"GueltigAbDatJahr\": 2021, \"GueltigAbDatMM\": 6, \"SexLang\": \"m\\u00e4nnlich\", \"sum_WBev\": 14}, {\"GueltigAbDat\": \"2021-04-01T00:00:00\", \"GueltigAbDatJahr\": 2021, \"GueltigAbDatMM\": 4, \"SexLang\": \"weiblich\", \"sum_WBev\": 14}, {\"GueltigAbDat\": \"2021-05-30T00:00:00\", \"GueltigAbDatJahr\": 2021, \"GueltigAbDatMM\": 5, \"SexLang\": \"weiblich\", \"sum_WBev\": 14}, {\"GueltigAbDat\": \"2021-03-30T00:00:00\", \"GueltigAbDatJahr\": 2021, \"GueltigAbDatMM\": 3, \"SexLang\": \"m\\u00e4nnlich\", \"sum_WBev\": 14}, {\"GueltigAbDat\": \"2021-05-17T00:00:00\", \"GueltigAbDatJahr\": 2021, \"GueltigAbDatMM\": 5, \"SexLang\": \"m\\u00e4nnlich\", \"sum_WBev\": 14}, {\"GueltigAbDat\": \"2021-10-13T00:00:00\", \"GueltigAbDatJahr\": 2021, \"GueltigAbDatMM\": 10, \"SexLang\": \"weiblich\", \"sum_WBev\": 14}, {\"GueltigAbDat\": \"2021-02-08T00:00:00\", \"GueltigAbDatJahr\": 2021, \"GueltigAbDatMM\": 2, \"SexLang\": \"m\\u00e4nnlich\", \"sum_WBev\": 14}, {\"GueltigAbDat\": \"2021-06-04T00:00:00\", \"GueltigAbDatJahr\": 2021, \"GueltigAbDatMM\": 6, \"SexLang\": \"m\\u00e4nnlich\", \"sum_WBev\": 14}, {\"GueltigAbDat\": \"2021-05-14T00:00:00\", \"GueltigAbDatJahr\": 2021, \"GueltigAbDatMM\": 5, \"SexLang\": \"weiblich\", \"sum_WBev\": 13}, {\"GueltigAbDat\": \"2021-05-15T00:00:00\", \"GueltigAbDatJahr\": 2021, \"GueltigAbDatMM\": 5, \"SexLang\": \"m\\u00e4nnlich\", \"sum_WBev\": 13}, {\"GueltigAbDat\": \"2021-03-15T00:00:00\", \"GueltigAbDatJahr\": 2021, \"GueltigAbDatMM\": 3, \"SexLang\": \"weiblich\", \"sum_WBev\": 13}, {\"GueltigAbDat\": \"2021-04-28T00:00:00\", \"GueltigAbDatJahr\": 2021, \"GueltigAbDatMM\": 4, \"SexLang\": \"weiblich\", \"sum_WBev\": 13}, {\"GueltigAbDat\": \"2021-08-25T00:00:00\", \"GueltigAbDatJahr\": 2021, \"GueltigAbDatMM\": 8, \"SexLang\": \"m\\u00e4nnlich\", \"sum_WBev\": 13}, {\"GueltigAbDat\": \"2021-05-07T00:00:00\", \"GueltigAbDatJahr\": 2021, \"GueltigAbDatMM\": 5, \"SexLang\": \"m\\u00e4nnlich\", \"sum_WBev\": 13}, {\"GueltigAbDat\": \"2021-10-16T00:00:00\", \"GueltigAbDatJahr\": 2021, \"GueltigAbDatMM\": 10, \"SexLang\": \"m\\u00e4nnlich\", \"sum_WBev\": 13}, {\"GueltigAbDat\": \"2021-08-23T00:00:00\", \"GueltigAbDatJahr\": 2021, \"GueltigAbDatMM\": 8, \"SexLang\": \"m\\u00e4nnlich\", \"sum_WBev\": 13}, {\"GueltigAbDat\": \"2021-06-03T00:00:00\", \"GueltigAbDatJahr\": 2021, \"GueltigAbDatMM\": 6, \"SexLang\": \"weiblich\", \"sum_WBev\": 13}, {\"GueltigAbDat\": \"2021-07-21T00:00:00\", \"GueltigAbDatJahr\": 2021, \"GueltigAbDatMM\": 7, \"SexLang\": \"m\\u00e4nnlich\", \"sum_WBev\": 13}, {\"GueltigAbDat\": \"2021-09-09T00:00:00\", \"GueltigAbDatJahr\": 2021, \"GueltigAbDatMM\": 9, \"SexLang\": \"m\\u00e4nnlich\", \"sum_WBev\": 13}, {\"GueltigAbDat\": \"2020-12-28T00:00:00\", \"GueltigAbDatJahr\": 2020, \"GueltigAbDatMM\": 12, \"SexLang\": \"weiblich\", \"sum_WBev\": 13}, {\"GueltigAbDat\": \"2020-11-10T00:00:00\", \"GueltigAbDatJahr\": 2020, \"GueltigAbDatMM\": 11, \"SexLang\": \"m\\u00e4nnlich\", \"sum_WBev\": 13}, {\"GueltigAbDat\": \"2021-01-25T00:00:00\", \"GueltigAbDatJahr\": 2021, \"GueltigAbDatMM\": 1, \"SexLang\": \"m\\u00e4nnlich\", \"sum_WBev\": 12}, {\"GueltigAbDat\": \"2021-01-29T00:00:00\", \"GueltigAbDatJahr\": 2021, \"GueltigAbDatMM\": 1, \"SexLang\": \"weiblich\", \"sum_WBev\": 12}, {\"GueltigAbDat\": \"2021-08-17T00:00:00\", \"GueltigAbDatJahr\": 2021, \"GueltigAbDatMM\": 8, \"SexLang\": \"m\\u00e4nnlich\", \"sum_WBev\": 12}, {\"GueltigAbDat\": \"2021-08-16T00:00:00\", \"GueltigAbDatJahr\": 2021, \"GueltigAbDatMM\": 8, \"SexLang\": \"weiblich\", \"sum_WBev\": 12}, {\"GueltigAbDat\": \"2021-02-01T00:00:00\", \"GueltigAbDatJahr\": 2021, \"GueltigAbDatMM\": 2, \"SexLang\": \"m\\u00e4nnlich\", \"sum_WBev\": 12}, {\"GueltigAbDat\": \"2020-11-27T00:00:00\", \"GueltigAbDatJahr\": 2020, \"GueltigAbDatMM\": 11, \"SexLang\": \"weiblich\", \"sum_WBev\": 12}, {\"GueltigAbDat\": \"2021-10-11T00:00:00\", \"GueltigAbDatJahr\": 2021, \"GueltigAbDatMM\": 10, \"SexLang\": \"m\\u00e4nnlich\", \"sum_WBev\": 12}, {\"GueltigAbDat\": \"2021-02-05T00:00:00\", \"GueltigAbDatJahr\": 2021, \"GueltigAbDatMM\": 2, \"SexLang\": \"m\\u00e4nnlich\", \"sum_WBev\": 12}, {\"GueltigAbDat\": \"2021-10-09T00:00:00\", \"GueltigAbDatJahr\": 2021, \"GueltigAbDatMM\": 10, \"SexLang\": \"m\\u00e4nnlich\", \"sum_WBev\": 12}, {\"GueltigAbDat\": \"2021-10-06T00:00:00\", \"GueltigAbDatJahr\": 2021, \"GueltigAbDatMM\": 10, \"SexLang\": \"m\\u00e4nnlich\", \"sum_WBev\": 12}, {\"GueltigAbDat\": \"2021-10-05T00:00:00\", \"GueltigAbDatJahr\": 2021, \"GueltigAbDatMM\": 10, \"SexLang\": \"m\\u00e4nnlich\", \"sum_WBev\": 12}, {\"GueltigAbDat\": \"2021-10-02T00:00:00\", \"GueltigAbDatJahr\": 2021, \"GueltigAbDatMM\": 10, \"SexLang\": \"m\\u00e4nnlich\", \"sum_WBev\": 12}, {\"GueltigAbDat\": \"2020-12-22T00:00:00\", \"GueltigAbDatJahr\": 2020, \"GueltigAbDatMM\": 12, \"SexLang\": \"m\\u00e4nnlich\", \"sum_WBev\": 12}, {\"GueltigAbDat\": \"2021-06-15T00:00:00\", \"GueltigAbDatJahr\": 2021, \"GueltigAbDatMM\": 6, \"SexLang\": \"weiblich\", \"sum_WBev\": 12}, {\"GueltigAbDat\": \"2021-01-05T00:00:00\", \"GueltigAbDatJahr\": 2021, \"GueltigAbDatMM\": 1, \"SexLang\": \"weiblich\", \"sum_WBev\": 12}, {\"GueltigAbDat\": \"2020-12-31T00:00:00\", \"GueltigAbDatJahr\": 2020, \"GueltigAbDatMM\": 12, \"SexLang\": \"m\\u00e4nnlich\", \"sum_WBev\": 12}, {\"GueltigAbDat\": \"2021-06-07T00:00:00\", \"GueltigAbDatJahr\": 2021, \"GueltigAbDatMM\": 6, \"SexLang\": \"m\\u00e4nnlich\", \"sum_WBev\": 12}, {\"GueltigAbDat\": \"2021-06-25T00:00:00\", \"GueltigAbDatJahr\": 2021, \"GueltigAbDatMM\": 6, \"SexLang\": \"weiblich\", \"sum_WBev\": 12}, {\"GueltigAbDat\": \"2021-06-22T00:00:00\", \"GueltigAbDatJahr\": 2021, \"GueltigAbDatMM\": 6, \"SexLang\": \"m\\u00e4nnlich\", \"sum_WBev\": 12}, {\"GueltigAbDat\": \"2021-09-21T00:00:00\", \"GueltigAbDatJahr\": 2021, \"GueltigAbDatMM\": 9, \"SexLang\": \"m\\u00e4nnlich\", \"sum_WBev\": 12}, {\"GueltigAbDat\": \"2020-11-23T00:00:00\", \"GueltigAbDatJahr\": 2020, \"GueltigAbDatMM\": 11, \"SexLang\": \"m\\u00e4nnlich\", \"sum_WBev\": 12}, {\"GueltigAbDat\": \"2021-07-06T00:00:00\", \"GueltigAbDatJahr\": 2021, \"GueltigAbDatMM\": 7, \"SexLang\": \"weiblich\", \"sum_WBev\": 12}, {\"GueltigAbDat\": \"2021-05-10T00:00:00\", \"GueltigAbDatJahr\": 2021, \"GueltigAbDatMM\": 5, \"SexLang\": \"weiblich\", \"sum_WBev\": 12}, {\"GueltigAbDat\": \"2021-11-08T00:00:00\", \"GueltigAbDatJahr\": 2021, \"GueltigAbDatMM\": 11, \"SexLang\": \"m\\u00e4nnlich\", \"sum_WBev\": 12}, {\"GueltigAbDat\": \"2021-11-24T00:00:00\", \"GueltigAbDatJahr\": 2021, \"GueltigAbDatMM\": 11, \"SexLang\": \"m\\u00e4nnlich\", \"sum_WBev\": 12}, {\"GueltigAbDat\": \"2021-07-30T00:00:00\", \"GueltigAbDatJahr\": 2021, \"GueltigAbDatMM\": 7, \"SexLang\": \"weiblich\", \"sum_WBev\": 12}, {\"GueltigAbDat\": \"2020-11-03T00:00:00\", \"GueltigAbDatJahr\": 2020, \"GueltigAbDatMM\": 11, \"SexLang\": \"m\\u00e4nnlich\", \"sum_WBev\": 12}, {\"GueltigAbDat\": \"2021-08-10T00:00:00\", \"GueltigAbDatJahr\": 2021, \"GueltigAbDatMM\": 8, \"SexLang\": \"weiblich\", \"sum_WBev\": 12}, {\"GueltigAbDat\": \"2021-05-01T00:00:00\", \"GueltigAbDatJahr\": 2021, \"GueltigAbDatMM\": 5, \"SexLang\": \"m\\u00e4nnlich\", \"sum_WBev\": 12}, {\"GueltigAbDat\": \"2021-06-27T00:00:00\", \"GueltigAbDatJahr\": 2021, \"GueltigAbDatMM\": 6, \"SexLang\": \"m\\u00e4nnlich\", \"sum_WBev\": 11}, {\"GueltigAbDat\": \"2021-08-31T00:00:00\", \"GueltigAbDatJahr\": 2021, \"GueltigAbDatMM\": 8, \"SexLang\": \"m\\u00e4nnlich\", \"sum_WBev\": 11}, {\"GueltigAbDat\": \"2021-11-17T00:00:00\", \"GueltigAbDatJahr\": 2021, \"GueltigAbDatMM\": 11, \"SexLang\": \"m\\u00e4nnlich\", \"sum_WBev\": 11}, {\"GueltigAbDat\": \"2021-01-16T00:00:00\", \"GueltigAbDatJahr\": 2021, \"GueltigAbDatMM\": 1, \"SexLang\": \"weiblich\", \"sum_WBev\": 11}, {\"GueltigAbDat\": \"2021-07-05T00:00:00\", \"GueltigAbDatJahr\": 2021, \"GueltigAbDatMM\": 7, \"SexLang\": \"m\\u00e4nnlich\", \"sum_WBev\": 11}, {\"GueltigAbDat\": \"2021-10-06T00:00:00\", \"GueltigAbDatJahr\": 2021, \"GueltigAbDatMM\": 10, \"SexLang\": \"weiblich\", \"sum_WBev\": 11}, {\"GueltigAbDat\": \"2021-02-25T00:00:00\", \"GueltigAbDatJahr\": 2021, \"GueltigAbDatMM\": 2, \"SexLang\": \"m\\u00e4nnlich\", \"sum_WBev\": 11}, {\"GueltigAbDat\": \"2021-09-06T00:00:00\", \"GueltigAbDatJahr\": 2021, \"GueltigAbDatMM\": 9, \"SexLang\": \"m\\u00e4nnlich\", \"sum_WBev\": 11}, {\"GueltigAbDat\": \"2020-12-19T00:00:00\", \"GueltigAbDatJahr\": 2020, \"GueltigAbDatMM\": 12, \"SexLang\": \"weiblich\", \"sum_WBev\": 11}, {\"GueltigAbDat\": \"2021-05-12T00:00:00\", \"GueltigAbDatJahr\": 2021, \"GueltigAbDatMM\": 5, \"SexLang\": \"weiblich\", \"sum_WBev\": 11}, {\"GueltigAbDat\": \"2021-10-04T00:00:00\", \"GueltigAbDatJahr\": 2021, \"GueltigAbDatMM\": 10, \"SexLang\": \"weiblich\", \"sum_WBev\": 11}, {\"GueltigAbDat\": \"2021-11-18T00:00:00\", \"GueltigAbDatJahr\": 2021, \"GueltigAbDatMM\": 11, \"SexLang\": \"weiblich\", \"sum_WBev\": 11}, {\"GueltigAbDat\": \"2021-05-28T00:00:00\", \"GueltigAbDatJahr\": 2021, \"GueltigAbDatMM\": 5, \"SexLang\": \"weiblich\", \"sum_WBev\": 11}, {\"GueltigAbDat\": \"2021-10-01T00:00:00\", \"GueltigAbDatJahr\": 2021, \"GueltigAbDatMM\": 10, \"SexLang\": \"weiblich\", \"sum_WBev\": 11}, {\"GueltigAbDat\": \"2021-05-11T00:00:00\", \"GueltigAbDatJahr\": 2021, \"GueltigAbDatMM\": 5, \"SexLang\": \"m\\u00e4nnlich\", \"sum_WBev\": 11}, {\"GueltigAbDat\": \"2021-04-09T00:00:00\", \"GueltigAbDatJahr\": 2021, \"GueltigAbDatMM\": 4, \"SexLang\": \"weiblich\", \"sum_WBev\": 11}, {\"GueltigAbDat\": \"2021-07-11T00:00:00\", \"GueltigAbDatJahr\": 2021, \"GueltigAbDatMM\": 7, \"SexLang\": \"m\\u00e4nnlich\", \"sum_WBev\": 11}, {\"GueltigAbDat\": \"2021-09-14T00:00:00\", \"GueltigAbDatJahr\": 2021, \"GueltigAbDatMM\": 9, \"SexLang\": \"weiblich\", \"sum_WBev\": 11}, {\"GueltigAbDat\": \"2020-12-29T00:00:00\", \"GueltigAbDatJahr\": 2020, \"GueltigAbDatMM\": 12, \"SexLang\": \"m\\u00e4nnlich\", \"sum_WBev\": 11}, {\"GueltigAbDat\": \"2020-11-04T00:00:00\", \"GueltigAbDatJahr\": 2020, \"GueltigAbDatMM\": 11, \"SexLang\": \"weiblich\", \"sum_WBev\": 11}, {\"GueltigAbDat\": \"2021-03-03T00:00:00\", \"GueltigAbDatJahr\": 2021, \"GueltigAbDatMM\": 3, \"SexLang\": \"m\\u00e4nnlich\", \"sum_WBev\": 11}, {\"GueltigAbDat\": \"2021-09-23T00:00:00\", \"GueltigAbDatJahr\": 2021, \"GueltigAbDatMM\": 9, \"SexLang\": \"m\\u00e4nnlich\", \"sum_WBev\": 11}, {\"GueltigAbDat\": \"2021-07-28T00:00:00\", \"GueltigAbDatJahr\": 2021, \"GueltigAbDatMM\": 7, \"SexLang\": \"weiblich\", \"sum_WBev\": 11}, {\"GueltigAbDat\": \"2021-08-11T00:00:00\", \"GueltigAbDatJahr\": 2021, \"GueltigAbDatMM\": 8, \"SexLang\": \"m\\u00e4nnlich\", \"sum_WBev\": 11}, {\"GueltigAbDat\": \"2020-11-12T00:00:00\", \"GueltigAbDatJahr\": 2020, \"GueltigAbDatMM\": 11, \"SexLang\": \"weiblich\", \"sum_WBev\": 11}, {\"GueltigAbDat\": \"2021-06-29T00:00:00\", \"GueltigAbDatJahr\": 2021, \"GueltigAbDatMM\": 6, \"SexLang\": \"weiblich\", \"sum_WBev\": 11}, {\"GueltigAbDat\": \"2021-06-23T00:00:00\", \"GueltigAbDatJahr\": 2021, \"GueltigAbDatMM\": 6, \"SexLang\": \"weiblich\", \"sum_WBev\": 11}, {\"GueltigAbDat\": \"2021-05-25T00:00:00\", \"GueltigAbDatJahr\": 2021, \"GueltigAbDatMM\": 5, \"SexLang\": \"m\\u00e4nnlich\", \"sum_WBev\": 11}, {\"GueltigAbDat\": \"2021-04-26T00:00:00\", \"GueltigAbDatJahr\": 2021, \"GueltigAbDatMM\": 4, \"SexLang\": \"m\\u00e4nnlich\", \"sum_WBev\": 11}, {\"GueltigAbDat\": \"2020-12-03T00:00:00\", \"GueltigAbDatJahr\": 2020, \"GueltigAbDatMM\": 12, \"SexLang\": \"weiblich\", \"sum_WBev\": 11}, {\"GueltigAbDat\": \"2021-07-01T00:00:00\", \"GueltigAbDatJahr\": 2021, \"GueltigAbDatMM\": 7, \"SexLang\": \"m\\u00e4nnlich\", \"sum_WBev\": 11}, {\"GueltigAbDat\": \"2021-02-10T00:00:00\", \"GueltigAbDatJahr\": 2021, \"GueltigAbDatMM\": 2, \"SexLang\": \"weiblich\", \"sum_WBev\": 11}, {\"GueltigAbDat\": \"2021-08-24T00:00:00\", \"GueltigAbDatJahr\": 2021, \"GueltigAbDatMM\": 8, \"SexLang\": \"weiblich\", \"sum_WBev\": 11}, {\"GueltigAbDat\": \"2021-08-07T00:00:00\", \"GueltigAbDatJahr\": 2021, \"GueltigAbDatMM\": 8, \"SexLang\": \"weiblich\", \"sum_WBev\": 11}, {\"GueltigAbDat\": \"2021-10-20T00:00:00\", \"GueltigAbDatJahr\": 2021, \"GueltigAbDatMM\": 10, \"SexLang\": \"weiblich\", \"sum_WBev\": 11}, {\"GueltigAbDat\": \"2021-01-22T00:00:00\", \"GueltigAbDatJahr\": 2021, \"GueltigAbDatMM\": 1, \"SexLang\": \"weiblich\", \"sum_WBev\": 11}, {\"GueltigAbDat\": \"2021-03-24T00:00:00\", \"GueltigAbDatJahr\": 2021, \"GueltigAbDatMM\": 3, \"SexLang\": \"weiblich\", \"sum_WBev\": 11}, {\"GueltigAbDat\": \"2021-10-26T00:00:00\", \"GueltigAbDatJahr\": 2021, \"GueltigAbDatMM\": 10, \"SexLang\": \"weiblich\", \"sum_WBev\": 11}, {\"GueltigAbDat\": \"2021-05-27T00:00:00\", \"GueltigAbDatJahr\": 2021, \"GueltigAbDatMM\": 5, \"SexLang\": \"weiblich\", \"sum_WBev\": 11}, {\"GueltigAbDat\": \"2021-05-22T00:00:00\", \"GueltigAbDatJahr\": 2021, \"GueltigAbDatMM\": 5, \"SexLang\": \"m\\u00e4nnlich\", \"sum_WBev\": 11}, {\"GueltigAbDat\": \"2021-08-02T00:00:00\", \"GueltigAbDatJahr\": 2021, \"GueltigAbDatMM\": 8, \"SexLang\": \"weiblich\", \"sum_WBev\": 11}, {\"GueltigAbDat\": \"2021-08-13T00:00:00\", \"GueltigAbDatJahr\": 2021, \"GueltigAbDatMM\": 8, \"SexLang\": \"m\\u00e4nnlich\", \"sum_WBev\": 11}, {\"GueltigAbDat\": \"2021-02-13T00:00:00\", \"GueltigAbDatJahr\": 2021, \"GueltigAbDatMM\": 2, \"SexLang\": \"weiblich\", \"sum_WBev\": 11}, {\"GueltigAbDat\": \"2020-12-10T00:00:00\", \"GueltigAbDatJahr\": 2020, \"GueltigAbDatMM\": 12, \"SexLang\": \"m\\u00e4nnlich\", \"sum_WBev\": 11}, {\"GueltigAbDat\": \"2021-10-12T00:00:00\", \"GueltigAbDatJahr\": 2021, \"GueltigAbDatMM\": 10, \"SexLang\": \"weiblich\", \"sum_WBev\": 11}, {\"GueltigAbDat\": \"2021-06-15T00:00:00\", \"GueltigAbDatJahr\": 2021, \"GueltigAbDatMM\": 6, \"SexLang\": \"m\\u00e4nnlich\", \"sum_WBev\": 10}, {\"GueltigAbDat\": \"2021-08-14T00:00:00\", \"GueltigAbDatJahr\": 2021, \"GueltigAbDatMM\": 8, \"SexLang\": \"m\\u00e4nnlich\", \"sum_WBev\": 10}, {\"GueltigAbDat\": \"2021-07-13T00:00:00\", \"GueltigAbDatJahr\": 2021, \"GueltigAbDatMM\": 7, \"SexLang\": \"m\\u00e4nnlich\", \"sum_WBev\": 10}, {\"GueltigAbDat\": \"2021-09-15T00:00:00\", \"GueltigAbDatJahr\": 2021, \"GueltigAbDatMM\": 9, \"SexLang\": \"weiblich\", \"sum_WBev\": 10}, {\"GueltigAbDat\": \"2021-01-08T00:00:00\", \"GueltigAbDatJahr\": 2021, \"GueltigAbDatMM\": 1, \"SexLang\": \"m\\u00e4nnlich\", \"sum_WBev\": 10}, {\"GueltigAbDat\": \"2021-06-29T00:00:00\", \"GueltigAbDatJahr\": 2021, \"GueltigAbDatMM\": 6, \"SexLang\": \"m\\u00e4nnlich\", \"sum_WBev\": 10}, {\"GueltigAbDat\": \"2021-07-29T00:00:00\", \"GueltigAbDatJahr\": 2021, \"GueltigAbDatMM\": 7, \"SexLang\": \"weiblich\", \"sum_WBev\": 10}, {\"GueltigAbDat\": \"2021-01-02T00:00:00\", \"GueltigAbDatJahr\": 2021, \"GueltigAbDatMM\": 1, \"SexLang\": \"weiblich\", \"sum_WBev\": 10}, {\"GueltigAbDat\": \"2021-09-11T00:00:00\", \"GueltigAbDatJahr\": 2021, \"GueltigAbDatMM\": 9, \"SexLang\": \"m\\u00e4nnlich\", \"sum_WBev\": 10}, {\"GueltigAbDat\": \"2021-09-10T00:00:00\", \"GueltigAbDatJahr\": 2021, \"GueltigAbDatMM\": 9, \"SexLang\": \"m\\u00e4nnlich\", \"sum_WBev\": 10}, {\"GueltigAbDat\": \"2021-07-18T00:00:00\", \"GueltigAbDatJahr\": 2021, \"GueltigAbDatMM\": 7, \"SexLang\": \"m\\u00e4nnlich\", \"sum_WBev\": 10}, {\"GueltigAbDat\": \"2021-01-12T00:00:00\", \"GueltigAbDatJahr\": 2021, \"GueltigAbDatMM\": 1, \"SexLang\": \"m\\u00e4nnlich\", \"sum_WBev\": 10}, {\"GueltigAbDat\": \"2021-08-27T00:00:00\", \"GueltigAbDatJahr\": 2021, \"GueltigAbDatMM\": 8, \"SexLang\": \"m\\u00e4nnlich\", \"sum_WBev\": 10}, {\"GueltigAbDat\": \"2021-08-27T00:00:00\", \"GueltigAbDatJahr\": 2021, \"GueltigAbDatMM\": 8, \"SexLang\": \"weiblich\", \"sum_WBev\": 10}, {\"GueltigAbDat\": \"2021-07-22T00:00:00\", \"GueltigAbDatJahr\": 2021, \"GueltigAbDatMM\": 7, \"SexLang\": \"weiblich\", \"sum_WBev\": 10}, {\"GueltigAbDat\": \"2021-03-18T00:00:00\", \"GueltigAbDatJahr\": 2021, \"GueltigAbDatMM\": 3, \"SexLang\": \"weiblich\", \"sum_WBev\": 10}, {\"GueltigAbDat\": \"2021-09-02T00:00:00\", \"GueltigAbDatJahr\": 2021, \"GueltigAbDatMM\": 9, \"SexLang\": \"m\\u00e4nnlich\", \"sum_WBev\": 10}, {\"GueltigAbDat\": \"2021-09-01T00:00:00\", \"GueltigAbDatJahr\": 2021, \"GueltigAbDatMM\": 9, \"SexLang\": \"m\\u00e4nnlich\", \"sum_WBev\": 10}, {\"GueltigAbDat\": \"2021-08-29T00:00:00\", \"GueltigAbDatJahr\": 2021, \"GueltigAbDatMM\": 8, \"SexLang\": \"m\\u00e4nnlich\", \"sum_WBev\": 10}, {\"GueltigAbDat\": \"2021-01-11T00:00:00\", \"GueltigAbDatJahr\": 2021, \"GueltigAbDatMM\": 1, \"SexLang\": \"weiblich\", \"sum_WBev\": 10}, {\"GueltigAbDat\": \"2021-09-21T00:00:00\", \"GueltigAbDatJahr\": 2021, \"GueltigAbDatMM\": 9, \"SexLang\": \"weiblich\", \"sum_WBev\": 10}, {\"GueltigAbDat\": \"2021-11-15T00:00:00\", \"GueltigAbDatJahr\": 2021, \"GueltigAbDatMM\": 11, \"SexLang\": \"weiblich\", \"sum_WBev\": 10}, {\"GueltigAbDat\": \"2021-09-30T00:00:00\", \"GueltigAbDatJahr\": 2021, \"GueltigAbDatMM\": 9, \"SexLang\": \"m\\u00e4nnlich\", \"sum_WBev\": 10}, {\"GueltigAbDat\": \"2021-05-24T00:00:00\", \"GueltigAbDatJahr\": 2021, \"GueltigAbDatMM\": 5, \"SexLang\": \"weiblich\", \"sum_WBev\": 10}, {\"GueltigAbDat\": \"2021-04-21T00:00:00\", \"GueltigAbDatJahr\": 2021, \"GueltigAbDatMM\": 4, \"SexLang\": \"m\\u00e4nnlich\", \"sum_WBev\": 10}, {\"GueltigAbDat\": \"2020-11-26T00:00:00\", \"GueltigAbDatJahr\": 2020, \"GueltigAbDatMM\": 11, \"SexLang\": \"m\\u00e4nnlich\", \"sum_WBev\": 10}, {\"GueltigAbDat\": \"2021-10-28T00:00:00\", \"GueltigAbDatJahr\": 2021, \"GueltigAbDatMM\": 10, \"SexLang\": \"weiblich\", \"sum_WBev\": 10}, {\"GueltigAbDat\": \"2021-11-01T00:00:00\", \"GueltigAbDatJahr\": 2021, \"GueltigAbDatMM\": 11, \"SexLang\": \"weiblich\", \"sum_WBev\": 10}, {\"GueltigAbDat\": \"2021-05-19T00:00:00\", \"GueltigAbDatJahr\": 2021, \"GueltigAbDatMM\": 5, \"SexLang\": \"weiblich\", \"sum_WBev\": 10}, {\"GueltigAbDat\": \"2021-04-17T00:00:00\", \"GueltigAbDatJahr\": 2021, \"GueltigAbDatMM\": 4, \"SexLang\": \"m\\u00e4nnlich\", \"sum_WBev\": 10}, {\"GueltigAbDat\": \"2020-11-15T00:00:00\", \"GueltigAbDatJahr\": 2020, \"GueltigAbDatMM\": 11, \"SexLang\": \"weiblich\", \"sum_WBev\": 10}, {\"GueltigAbDat\": \"2021-04-15T00:00:00\", \"GueltigAbDatJahr\": 2021, \"GueltigAbDatMM\": 4, \"SexLang\": \"weiblich\", \"sum_WBev\": 10}, {\"GueltigAbDat\": \"2021-10-10T00:00:00\", \"GueltigAbDatJahr\": 2021, \"GueltigAbDatMM\": 10, \"SexLang\": \"weiblich\", \"sum_WBev\": 10}, {\"GueltigAbDat\": \"2020-12-18T00:00:00\", \"GueltigAbDatJahr\": 2020, \"GueltigAbDatMM\": 12, \"SexLang\": \"m\\u00e4nnlich\", \"sum_WBev\": 10}, {\"GueltigAbDat\": \"2021-06-08T00:00:00\", \"GueltigAbDatJahr\": 2021, \"GueltigAbDatMM\": 6, \"SexLang\": \"weiblich\", \"sum_WBev\": 10}, {\"GueltigAbDat\": \"2021-04-07T00:00:00\", \"GueltigAbDatJahr\": 2021, \"GueltigAbDatMM\": 4, \"SexLang\": \"weiblich\", \"sum_WBev\": 10}, {\"GueltigAbDat\": \"2020-11-09T00:00:00\", \"GueltigAbDatJahr\": 2020, \"GueltigAbDatMM\": 11, \"SexLang\": \"weiblich\", \"sum_WBev\": 10}, {\"GueltigAbDat\": \"2021-11-22T00:00:00\", \"GueltigAbDatJahr\": 2021, \"GueltigAbDatMM\": 11, \"SexLang\": \"m\\u00e4nnlich\", \"sum_WBev\": 10}, {\"GueltigAbDat\": \"2021-11-17T00:00:00\", \"GueltigAbDatJahr\": 2021, \"GueltigAbDatMM\": 11, \"SexLang\": \"weiblich\", \"sum_WBev\": 10}, {\"GueltigAbDat\": \"2021-05-07T00:00:00\", \"GueltigAbDatJahr\": 2021, \"GueltigAbDatMM\": 5, \"SexLang\": \"weiblich\", \"sum_WBev\": 10}, {\"GueltigAbDat\": \"2020-11-06T00:00:00\", \"GueltigAbDatJahr\": 2020, \"GueltigAbDatMM\": 11, \"SexLang\": \"m\\u00e4nnlich\", \"sum_WBev\": 10}, {\"GueltigAbDat\": \"2021-11-19T00:00:00\", \"GueltigAbDatJahr\": 2021, \"GueltigAbDatMM\": 11, \"SexLang\": \"m\\u00e4nnlich\", \"sum_WBev\": 10}, {\"GueltigAbDat\": \"2021-04-26T00:00:00\", \"GueltigAbDatJahr\": 2021, \"GueltigAbDatMM\": 4, \"SexLang\": \"weiblich\", \"sum_WBev\": 9}, {\"GueltigAbDat\": \"2021-03-19T00:00:00\", \"GueltigAbDatJahr\": 2021, \"GueltigAbDatMM\": 3, \"SexLang\": \"m\\u00e4nnlich\", \"sum_WBev\": 9}, {\"GueltigAbDat\": \"2021-08-06T00:00:00\", \"GueltigAbDatJahr\": 2021, \"GueltigAbDatMM\": 8, \"SexLang\": \"weiblich\", \"sum_WBev\": 9}, {\"GueltigAbDat\": \"2020-11-20T00:00:00\", \"GueltigAbDatJahr\": 2020, \"GueltigAbDatMM\": 11, \"SexLang\": \"weiblich\", \"sum_WBev\": 9}, {\"GueltigAbDat\": \"2020-11-23T00:00:00\", \"GueltigAbDatJahr\": 2020, \"GueltigAbDatMM\": 11, \"SexLang\": \"weiblich\", \"sum_WBev\": 9}, {\"GueltigAbDat\": \"2021-08-10T00:00:00\", \"GueltigAbDatJahr\": 2021, \"GueltigAbDatMM\": 8, \"SexLang\": \"m\\u00e4nnlich\", \"sum_WBev\": 9}, {\"GueltigAbDat\": \"2021-03-13T00:00:00\", \"GueltigAbDatJahr\": 2021, \"GueltigAbDatMM\": 3, \"SexLang\": \"m\\u00e4nnlich\", \"sum_WBev\": 9}, {\"GueltigAbDat\": \"2021-02-07T00:00:00\", \"GueltigAbDatJahr\": 2021, \"GueltigAbDatMM\": 2, \"SexLang\": \"m\\u00e4nnlich\", \"sum_WBev\": 9}, {\"GueltigAbDat\": \"2020-11-18T00:00:00\", \"GueltigAbDatJahr\": 2020, \"GueltigAbDatMM\": 11, \"SexLang\": \"m\\u00e4nnlich\", \"sum_WBev\": 9}, {\"GueltigAbDat\": \"2021-10-29T00:00:00\", \"GueltigAbDatJahr\": 2021, \"GueltigAbDatMM\": 10, \"SexLang\": \"weiblich\", \"sum_WBev\": 9}, {\"GueltigAbDat\": \"2021-06-27T00:00:00\", \"GueltigAbDatJahr\": 2021, \"GueltigAbDatMM\": 6, \"SexLang\": \"weiblich\", \"sum_WBev\": 9}, {\"GueltigAbDat\": \"2021-03-08T00:00:00\", \"GueltigAbDatJahr\": 2021, \"GueltigAbDatMM\": 3, \"SexLang\": \"m\\u00e4nnlich\", \"sum_WBev\": 9}, {\"GueltigAbDat\": \"2021-11-29T00:00:00\", \"GueltigAbDatJahr\": 2021, \"GueltigAbDatMM\": 11, \"SexLang\": \"m\\u00e4nnlich\", \"sum_WBev\": 9}, {\"GueltigAbDat\": \"2021-10-28T00:00:00\", \"GueltigAbDatJahr\": 2021, \"GueltigAbDatMM\": 10, \"SexLang\": \"m\\u00e4nnlich\", \"sum_WBev\": 9}, {\"GueltigAbDat\": \"2020-11-27T00:00:00\", \"GueltigAbDatJahr\": 2020, \"GueltigAbDatMM\": 11, \"SexLang\": \"m\\u00e4nnlich\", \"sum_WBev\": 9}, {\"GueltigAbDat\": \"2021-06-24T00:00:00\", \"GueltigAbDatJahr\": 2021, \"GueltigAbDatMM\": 6, \"SexLang\": \"weiblich\", \"sum_WBev\": 9}, {\"GueltigAbDat\": \"2021-08-05T00:00:00\", \"GueltigAbDatJahr\": 2021, \"GueltigAbDatMM\": 8, \"SexLang\": \"m\\u00e4nnlich\", \"sum_WBev\": 9}, {\"GueltigAbDat\": \"2021-11-10T00:00:00\", \"GueltigAbDatJahr\": 2021, \"GueltigAbDatMM\": 11, \"SexLang\": \"weiblich\", \"sum_WBev\": 9}, {\"GueltigAbDat\": \"2021-07-09T00:00:00\", \"GueltigAbDatJahr\": 2021, \"GueltigAbDatMM\": 7, \"SexLang\": \"m\\u00e4nnlich\", \"sum_WBev\": 9}, {\"GueltigAbDat\": \"2021-02-24T00:00:00\", \"GueltigAbDatJahr\": 2021, \"GueltigAbDatMM\": 2, \"SexLang\": \"weiblich\", \"sum_WBev\": 9}, {\"GueltigAbDat\": \"2021-02-23T00:00:00\", \"GueltigAbDatJahr\": 2021, \"GueltigAbDatMM\": 2, \"SexLang\": \"weiblich\", \"sum_WBev\": 9}, {\"GueltigAbDat\": \"2021-07-05T00:00:00\", \"GueltigAbDatJahr\": 2021, \"GueltigAbDatMM\": 7, \"SexLang\": \"weiblich\", \"sum_WBev\": 9}, {\"GueltigAbDat\": \"2021-02-22T00:00:00\", \"GueltigAbDatJahr\": 2021, \"GueltigAbDatMM\": 2, \"SexLang\": \"weiblich\", \"sum_WBev\": 9}, {\"GueltigAbDat\": \"2020-11-12T00:00:00\", \"GueltigAbDatJahr\": 2020, \"GueltigAbDatMM\": 11, \"SexLang\": \"m\\u00e4nnlich\", \"sum_WBev\": 9}, {\"GueltigAbDat\": \"2021-07-27T00:00:00\", \"GueltigAbDatJahr\": 2021, \"GueltigAbDatMM\": 7, \"SexLang\": \"m\\u00e4nnlich\", \"sum_WBev\": 9}, {\"GueltigAbDat\": \"2021-07-27T00:00:00\", \"GueltigAbDatJahr\": 2021, \"GueltigAbDatMM\": 7, \"SexLang\": \"weiblich\", \"sum_WBev\": 9}, {\"GueltigAbDat\": \"2021-11-16T00:00:00\", \"GueltigAbDatJahr\": 2021, \"GueltigAbDatMM\": 11, \"SexLang\": \"weiblich\", \"sum_WBev\": 9}, {\"GueltigAbDat\": \"2021-02-20T00:00:00\", \"GueltigAbDatJahr\": 2021, \"GueltigAbDatMM\": 2, \"SexLang\": \"m\\u00e4nnlich\", \"sum_WBev\": 9}, {\"GueltigAbDat\": \"2021-03-14T00:00:00\", \"GueltigAbDatJahr\": 2021, \"GueltigAbDatMM\": 3, \"SexLang\": \"weiblich\", \"sum_WBev\": 9}, {\"GueltigAbDat\": \"2021-07-04T00:00:00\", \"GueltigAbDatJahr\": 2021, \"GueltigAbDatMM\": 7, \"SexLang\": \"weiblich\", \"sum_WBev\": 9}, {\"GueltigAbDat\": \"2021-02-18T00:00:00\", \"GueltigAbDatJahr\": 2021, \"GueltigAbDatMM\": 2, \"SexLang\": \"weiblich\", \"sum_WBev\": 9}, {\"GueltigAbDat\": \"2021-08-14T00:00:00\", \"GueltigAbDatJahr\": 2021, \"GueltigAbDatMM\": 8, \"SexLang\": \"weiblich\", \"sum_WBev\": 9}, {\"GueltigAbDat\": \"2021-03-16T00:00:00\", \"GueltigAbDatJahr\": 2021, \"GueltigAbDatMM\": 3, \"SexLang\": \"m\\u00e4nnlich\", \"sum_WBev\": 9}, {\"GueltigAbDat\": \"2021-04-30T00:00:00\", \"GueltigAbDatJahr\": 2021, \"GueltigAbDatMM\": 4, \"SexLang\": \"m\\u00e4nnlich\", \"sum_WBev\": 9}, {\"GueltigAbDat\": \"2021-07-20T00:00:00\", \"GueltigAbDatJahr\": 2021, \"GueltigAbDatMM\": 7, \"SexLang\": \"weiblich\", \"sum_WBev\": 9}, {\"GueltigAbDat\": \"2021-03-17T00:00:00\", \"GueltigAbDatJahr\": 2021, \"GueltigAbDatMM\": 3, \"SexLang\": \"m\\u00e4nnlich\", \"sum_WBev\": 9}, {\"GueltigAbDat\": \"2021-02-14T00:00:00\", \"GueltigAbDatJahr\": 2021, \"GueltigAbDatMM\": 2, \"SexLang\": \"m\\u00e4nnlich\", \"sum_WBev\": 9}, {\"GueltigAbDat\": \"2021-07-16T00:00:00\", \"GueltigAbDatJahr\": 2021, \"GueltigAbDatMM\": 7, \"SexLang\": \"m\\u00e4nnlich\", \"sum_WBev\": 9}, {\"GueltigAbDat\": \"2021-10-27T00:00:00\", \"GueltigAbDatJahr\": 2021, \"GueltigAbDatMM\": 10, \"SexLang\": \"weiblich\", \"sum_WBev\": 9}, {\"GueltigAbDat\": \"2021-03-23T00:00:00\", \"GueltigAbDatJahr\": 2021, \"GueltigAbDatMM\": 3, \"SexLang\": \"weiblich\", \"sum_WBev\": 9}, {\"GueltigAbDat\": \"2020-12-09T00:00:00\", \"GueltigAbDatJahr\": 2020, \"GueltigAbDatMM\": 12, \"SexLang\": \"m\\u00e4nnlich\", \"sum_WBev\": 9}, {\"GueltigAbDat\": \"2021-06-16T00:00:00\", \"GueltigAbDatJahr\": 2021, \"GueltigAbDatMM\": 6, \"SexLang\": \"weiblich\", \"sum_WBev\": 9}, {\"GueltigAbDat\": \"2021-10-09T00:00:00\", \"GueltigAbDatJahr\": 2021, \"GueltigAbDatMM\": 10, \"SexLang\": \"weiblich\", \"sum_WBev\": 9}, {\"GueltigAbDat\": \"2020-12-16T00:00:00\", \"GueltigAbDatJahr\": 2020, \"GueltigAbDatMM\": 12, \"SexLang\": \"m\\u00e4nnlich\", \"sum_WBev\": 9}, {\"GueltigAbDat\": \"2021-03-31T00:00:00\", \"GueltigAbDatJahr\": 2021, \"GueltigAbDatMM\": 3, \"SexLang\": \"weiblich\", \"sum_WBev\": 9}, {\"GueltigAbDat\": \"2020-12-16T00:00:00\", \"GueltigAbDatJahr\": 2020, \"GueltigAbDatMM\": 12, \"SexLang\": \"weiblich\", \"sum_WBev\": 9}, {\"GueltigAbDat\": \"2021-04-13T00:00:00\", \"GueltigAbDatJahr\": 2021, \"GueltigAbDatMM\": 4, \"SexLang\": \"m\\u00e4nnlich\", \"sum_WBev\": 9}, {\"GueltigAbDat\": \"2021-04-02T00:00:00\", \"GueltigAbDatJahr\": 2021, \"GueltigAbDatMM\": 4, \"SexLang\": \"m\\u00e4nnlich\", \"sum_WBev\": 9}, {\"GueltigAbDat\": \"2021-04-12T00:00:00\", \"GueltigAbDatJahr\": 2021, \"GueltigAbDatMM\": 4, \"SexLang\": \"weiblich\", \"sum_WBev\": 9}, {\"GueltigAbDat\": \"2021-04-11T00:00:00\", \"GueltigAbDatJahr\": 2021, \"GueltigAbDatMM\": 4, \"SexLang\": \"weiblich\", \"sum_WBev\": 9}, {\"GueltigAbDat\": \"2020-12-23T00:00:00\", \"GueltigAbDatJahr\": 2020, \"GueltigAbDatMM\": 12, \"SexLang\": \"m\\u00e4nnlich\", \"sum_WBev\": 9}, {\"GueltigAbDat\": \"2021-04-10T00:00:00\", \"GueltigAbDatJahr\": 2021, \"GueltigAbDatMM\": 4, \"SexLang\": \"m\\u00e4nnlich\", \"sum_WBev\": 9}, {\"GueltigAbDat\": \"2020-12-26T00:00:00\", \"GueltigAbDatJahr\": 2020, \"GueltigAbDatMM\": 12, \"SexLang\": \"m\\u00e4nnlich\", \"sum_WBev\": 9}, {\"GueltigAbDat\": \"2021-09-27T00:00:00\", \"GueltigAbDatJahr\": 2021, \"GueltigAbDatMM\": 9, \"SexLang\": \"m\\u00e4nnlich\", \"sum_WBev\": 9}, {\"GueltigAbDat\": \"2021-04-09T00:00:00\", \"GueltigAbDatJahr\": 2021, \"GueltigAbDatMM\": 4, \"SexLang\": \"m\\u00e4nnlich\", \"sum_WBev\": 9}, {\"GueltigAbDat\": \"2021-04-08T00:00:00\", \"GueltigAbDatJahr\": 2021, \"GueltigAbDatMM\": 4, \"SexLang\": \"m\\u00e4nnlich\", \"sum_WBev\": 9}, {\"GueltigAbDat\": \"2021-01-07T00:00:00\", \"GueltigAbDatJahr\": 2021, \"GueltigAbDatMM\": 1, \"SexLang\": \"weiblich\", \"sum_WBev\": 9}, {\"GueltigAbDat\": \"2021-09-24T00:00:00\", \"GueltigAbDatJahr\": 2021, \"GueltigAbDatMM\": 9, \"SexLang\": \"weiblich\", \"sum_WBev\": 9}, {\"GueltigAbDat\": \"2021-09-16T00:00:00\", \"GueltigAbDatJahr\": 2021, \"GueltigAbDatMM\": 9, \"SexLang\": \"m\\u00e4nnlich\", \"sum_WBev\": 9}, {\"GueltigAbDat\": \"2021-04-07T00:00:00\", \"GueltigAbDatJahr\": 2021, \"GueltigAbDatMM\": 4, \"SexLang\": \"m\\u00e4nnlich\", \"sum_WBev\": 9}, {\"GueltigAbDat\": \"2021-06-12T00:00:00\", \"GueltigAbDatJahr\": 2021, \"GueltigAbDatMM\": 6, \"SexLang\": \"weiblich\", \"sum_WBev\": 9}, {\"GueltigAbDat\": \"2021-06-10T00:00:00\", \"GueltigAbDatJahr\": 2021, \"GueltigAbDatMM\": 6, \"SexLang\": \"m\\u00e4nnlich\", \"sum_WBev\": 9}, {\"GueltigAbDat\": \"2021-06-19T00:00:00\", \"GueltigAbDatJahr\": 2021, \"GueltigAbDatMM\": 6, \"SexLang\": \"m\\u00e4nnlich\", \"sum_WBev\": 9}, {\"GueltigAbDat\": \"2021-10-12T00:00:00\", \"GueltigAbDatJahr\": 2021, \"GueltigAbDatMM\": 10, \"SexLang\": \"m\\u00e4nnlich\", \"sum_WBev\": 9}, {\"GueltigAbDat\": \"2021-01-25T00:00:00\", \"GueltigAbDatJahr\": 2021, \"GueltigAbDatMM\": 1, \"SexLang\": \"weiblich\", \"sum_WBev\": 9}, {\"GueltigAbDat\": \"2021-05-26T00:00:00\", \"GueltigAbDatJahr\": 2021, \"GueltigAbDatMM\": 5, \"SexLang\": \"m\\u00e4nnlich\", \"sum_WBev\": 9}, {\"GueltigAbDat\": \"2021-08-20T00:00:00\", \"GueltigAbDatJahr\": 2021, \"GueltigAbDatMM\": 8, \"SexLang\": \"m\\u00e4nnlich\", \"sum_WBev\": 9}, {\"GueltigAbDat\": \"2021-08-19T00:00:00\", \"GueltigAbDatJahr\": 2021, \"GueltigAbDatMM\": 8, \"SexLang\": \"weiblich\", \"sum_WBev\": 9}, {\"GueltigAbDat\": \"2021-04-18T00:00:00\", \"GueltigAbDatJahr\": 2021, \"GueltigAbDatMM\": 4, \"SexLang\": \"weiblich\", \"sum_WBev\": 9}, {\"GueltigAbDat\": \"2021-08-24T00:00:00\", \"GueltigAbDatJahr\": 2021, \"GueltigAbDatMM\": 8, \"SexLang\": \"m\\u00e4nnlich\", \"sum_WBev\": 9}, {\"GueltigAbDat\": \"2021-06-21T00:00:00\", \"GueltigAbDatJahr\": 2021, \"GueltigAbDatMM\": 6, \"SexLang\": \"m\\u00e4nnlich\", \"sum_WBev\": 9}, {\"GueltigAbDat\": \"2021-08-22T00:00:00\", \"GueltigAbDatJahr\": 2021, \"GueltigAbDatMM\": 8, \"SexLang\": \"m\\u00e4nnlich\", \"sum_WBev\": 9}, {\"GueltigAbDat\": \"2021-03-25T00:00:00\", \"GueltigAbDatJahr\": 2021, \"GueltigAbDatMM\": 3, \"SexLang\": \"m\\u00e4nnlich\", \"sum_WBev\": 9}, {\"GueltigAbDat\": \"2020-12-04T00:00:00\", \"GueltigAbDatJahr\": 2020, \"GueltigAbDatMM\": 12, \"SexLang\": \"weiblich\", \"sum_WBev\": 9}, {\"GueltigAbDat\": \"2021-10-25T00:00:00\", \"GueltigAbDatJahr\": 2021, \"GueltigAbDatMM\": 10, \"SexLang\": \"m\\u00e4nnlich\", \"sum_WBev\": 9}, {\"GueltigAbDat\": \"2020-12-07T00:00:00\", \"GueltigAbDatJahr\": 2020, \"GueltigAbDatMM\": 12, \"SexLang\": \"m\\u00e4nnlich\", \"sum_WBev\": 9}, {\"GueltigAbDat\": \"2021-05-28T00:00:00\", \"GueltigAbDatJahr\": 2021, \"GueltigAbDatMM\": 5, \"SexLang\": \"m\\u00e4nnlich\", \"sum_WBev\": 9}, {\"GueltigAbDat\": \"2021-03-26T00:00:00\", \"GueltigAbDatJahr\": 2021, \"GueltigAbDatMM\": 3, \"SexLang\": \"weiblich\", \"sum_WBev\": 9}, {\"GueltigAbDat\": \"2021-05-09T00:00:00\", \"GueltigAbDatJahr\": 2021, \"GueltigAbDatMM\": 5, \"SexLang\": \"m\\u00e4nnlich\", \"sum_WBev\": 8}, {\"GueltigAbDat\": \"2021-05-22T00:00:00\", \"GueltigAbDatJahr\": 2021, \"GueltigAbDatMM\": 5, \"SexLang\": \"weiblich\", \"sum_WBev\": 8}, {\"GueltigAbDat\": \"2021-07-09T00:00:00\", \"GueltigAbDatJahr\": 2021, \"GueltigAbDatMM\": 7, \"SexLang\": \"weiblich\", \"sum_WBev\": 8}, {\"GueltigAbDat\": \"2021-04-20T00:00:00\", \"GueltigAbDatJahr\": 2021, \"GueltigAbDatMM\": 4, \"SexLang\": \"weiblich\", \"sum_WBev\": 8}, {\"GueltigAbDat\": \"2021-03-10T00:00:00\", \"GueltigAbDatJahr\": 2021, \"GueltigAbDatMM\": 3, \"SexLang\": \"weiblich\", \"sum_WBev\": 8}, {\"GueltigAbDat\": \"2021-07-07T00:00:00\", \"GueltigAbDatJahr\": 2021, \"GueltigAbDatMM\": 7, \"SexLang\": \"weiblich\", \"sum_WBev\": 8}, {\"GueltigAbDat\": \"2021-03-12T00:00:00\", \"GueltigAbDatJahr\": 2021, \"GueltigAbDatMM\": 3, \"SexLang\": \"m\\u00e4nnlich\", \"sum_WBev\": 8}, {\"GueltigAbDat\": \"2021-04-22T00:00:00\", \"GueltigAbDatJahr\": 2021, \"GueltigAbDatMM\": 4, \"SexLang\": \"weiblich\", \"sum_WBev\": 8}, {\"GueltigAbDat\": \"2021-06-09T00:00:00\", \"GueltigAbDatJahr\": 2021, \"GueltigAbDatMM\": 6, \"SexLang\": \"m\\u00e4nnlich\", \"sum_WBev\": 8}, {\"GueltigAbDat\": \"2021-06-30T00:00:00\", \"GueltigAbDatJahr\": 2021, \"GueltigAbDatMM\": 6, \"SexLang\": \"m\\u00e4nnlich\", \"sum_WBev\": 8}, {\"GueltigAbDat\": \"2021-05-13T00:00:00\", \"GueltigAbDatJahr\": 2021, \"GueltigAbDatMM\": 5, \"SexLang\": \"m\\u00e4nnlich\", \"sum_WBev\": 8}, {\"GueltigAbDat\": \"2021-04-19T00:00:00\", \"GueltigAbDatJahr\": 2021, \"GueltigAbDatMM\": 4, \"SexLang\": \"m\\u00e4nnlich\", \"sum_WBev\": 8}, {\"GueltigAbDat\": \"2021-06-30T00:00:00\", \"GueltigAbDatJahr\": 2021, \"GueltigAbDatMM\": 6, \"SexLang\": \"weiblich\", \"sum_WBev\": 8}, {\"GueltigAbDat\": \"2021-06-28T00:00:00\", \"GueltigAbDatJahr\": 2021, \"GueltigAbDatMM\": 6, \"SexLang\": \"m\\u00e4nnlich\", \"sum_WBev\": 8}, {\"GueltigAbDat\": \"2021-05-21T00:00:00\", \"GueltigAbDatJahr\": 2021, \"GueltigAbDatMM\": 5, \"SexLang\": \"weiblich\", \"sum_WBev\": 8}, {\"GueltigAbDat\": \"2021-05-20T00:00:00\", \"GueltigAbDatJahr\": 2021, \"GueltigAbDatMM\": 5, \"SexLang\": \"m\\u00e4nnlich\", \"sum_WBev\": 8}, {\"GueltigAbDat\": \"2021-06-16T00:00:00\", \"GueltigAbDatJahr\": 2021, \"GueltigAbDatMM\": 6, \"SexLang\": \"m\\u00e4nnlich\", \"sum_WBev\": 8}, {\"GueltigAbDat\": \"2021-03-31T00:00:00\", \"GueltigAbDatJahr\": 2021, \"GueltigAbDatMM\": 3, \"SexLang\": \"m\\u00e4nnlich\", \"sum_WBev\": 8}, {\"GueltigAbDat\": \"2021-04-17T00:00:00\", \"GueltigAbDatJahr\": 2021, \"GueltigAbDatMM\": 4, \"SexLang\": \"weiblich\", \"sum_WBev\": 8}, {\"GueltigAbDat\": \"2021-03-28T00:00:00\", \"GueltigAbDatJahr\": 2021, \"GueltigAbDatMM\": 3, \"SexLang\": \"m\\u00e4nnlich\", \"sum_WBev\": 8}, {\"GueltigAbDat\": \"2021-04-23T00:00:00\", \"GueltigAbDatJahr\": 2021, \"GueltigAbDatMM\": 4, \"SexLang\": \"m\\u00e4nnlich\", \"sum_WBev\": 8}, {\"GueltigAbDat\": \"2021-05-16T00:00:00\", \"GueltigAbDatJahr\": 2021, \"GueltigAbDatMM\": 5, \"SexLang\": \"weiblich\", \"sum_WBev\": 8}, {\"GueltigAbDat\": \"2021-03-29T00:00:00\", \"GueltigAbDatJahr\": 2021, \"GueltigAbDatMM\": 3, \"SexLang\": \"m\\u00e4nnlich\", \"sum_WBev\": 8}, {\"GueltigAbDat\": \"2021-03-06T00:00:00\", \"GueltigAbDatJahr\": 2021, \"GueltigAbDatMM\": 3, \"SexLang\": \"weiblich\", \"sum_WBev\": 8}, {\"GueltigAbDat\": \"2021-08-16T00:00:00\", \"GueltigAbDatJahr\": 2021, \"GueltigAbDatMM\": 8, \"SexLang\": \"m\\u00e4nnlich\", \"sum_WBev\": 8}, {\"GueltigAbDat\": \"2021-03-05T00:00:00\", \"GueltigAbDatJahr\": 2021, \"GueltigAbDatMM\": 3, \"SexLang\": \"weiblich\", \"sum_WBev\": 8}, {\"GueltigAbDat\": \"2021-09-29T00:00:00\", \"GueltigAbDatJahr\": 2021, \"GueltigAbDatMM\": 9, \"SexLang\": \"m\\u00e4nnlich\", \"sum_WBev\": 8}, {\"GueltigAbDat\": \"2020-12-11T00:00:00\", \"GueltigAbDatJahr\": 2020, \"GueltigAbDatMM\": 12, \"SexLang\": \"weiblich\", \"sum_WBev\": 8}, {\"GueltigAbDat\": \"2020-12-12T00:00:00\", \"GueltigAbDatJahr\": 2020, \"GueltigAbDatMM\": 12, \"SexLang\": \"m\\u00e4nnlich\", \"sum_WBev\": 8}, {\"GueltigAbDat\": \"2021-10-11T00:00:00\", \"GueltigAbDatJahr\": 2021, \"GueltigAbDatMM\": 10, \"SexLang\": \"weiblich\", \"sum_WBev\": 8}, {\"GueltigAbDat\": \"2020-12-14T00:00:00\", \"GueltigAbDatJahr\": 2020, \"GueltigAbDatMM\": 12, \"SexLang\": \"m\\u00e4nnlich\", \"sum_WBev\": 8}, {\"GueltigAbDat\": \"2020-12-18T00:00:00\", \"GueltigAbDatJahr\": 2020, \"GueltigAbDatMM\": 12, \"SexLang\": \"weiblich\", \"sum_WBev\": 8}, {\"GueltigAbDat\": \"2021-10-03T00:00:00\", \"GueltigAbDatJahr\": 2021, \"GueltigAbDatMM\": 10, \"SexLang\": \"m\\u00e4nnlich\", \"sum_WBev\": 8}, {\"GueltigAbDat\": \"2020-12-21T00:00:00\", \"GueltigAbDatJahr\": 2020, \"GueltigAbDatMM\": 12, \"SexLang\": \"weiblich\", \"sum_WBev\": 8}, {\"GueltigAbDat\": \"2020-12-22T00:00:00\", \"GueltigAbDatJahr\": 2020, \"GueltigAbDatMM\": 12, \"SexLang\": \"weiblich\", \"sum_WBev\": 8}, {\"GueltigAbDat\": \"2020-12-24T00:00:00\", \"GueltigAbDatJahr\": 2020, \"GueltigAbDatMM\": 12, \"SexLang\": \"weiblich\", \"sum_WBev\": 8}, {\"GueltigAbDat\": \"2021-09-24T00:00:00\", \"GueltigAbDatJahr\": 2021, \"GueltigAbDatMM\": 9, \"SexLang\": \"m\\u00e4nnlich\", \"sum_WBev\": 8}, {\"GueltigAbDat\": \"2021-08-28T00:00:00\", \"GueltigAbDatJahr\": 2021, \"GueltigAbDatMM\": 8, \"SexLang\": \"weiblich\", \"sum_WBev\": 8}, {\"GueltigAbDat\": \"2020-12-30T00:00:00\", \"GueltigAbDatJahr\": 2020, \"GueltigAbDatMM\": 12, \"SexLang\": \"m\\u00e4nnlich\", \"sum_WBev\": 8}, {\"GueltigAbDat\": \"2021-09-23T00:00:00\", \"GueltigAbDatJahr\": 2021, \"GueltigAbDatMM\": 9, \"SexLang\": \"weiblich\", \"sum_WBev\": 8}, {\"GueltigAbDat\": \"2021-01-04T00:00:00\", \"GueltigAbDatJahr\": 2021, \"GueltigAbDatMM\": 1, \"SexLang\": \"m\\u00e4nnlich\", \"sum_WBev\": 8}, {\"GueltigAbDat\": \"2021-03-05T00:00:00\", \"GueltigAbDatJahr\": 2021, \"GueltigAbDatMM\": 3, \"SexLang\": \"m\\u00e4nnlich\", \"sum_WBev\": 8}, {\"GueltigAbDat\": \"2021-09-19T00:00:00\", \"GueltigAbDatJahr\": 2021, \"GueltigAbDatMM\": 9, \"SexLang\": \"m\\u00e4nnlich\", \"sum_WBev\": 8}, {\"GueltigAbDat\": \"2021-09-13T00:00:00\", \"GueltigAbDatJahr\": 2021, \"GueltigAbDatMM\": 9, \"SexLang\": \"m\\u00e4nnlich\", \"sum_WBev\": 8}, {\"GueltigAbDat\": \"2021-09-03T00:00:00\", \"GueltigAbDatJahr\": 2021, \"GueltigAbDatMM\": 9, \"SexLang\": \"m\\u00e4nnlich\", \"sum_WBev\": 8}, {\"GueltigAbDat\": \"2021-01-15T00:00:00\", \"GueltigAbDatJahr\": 2021, \"GueltigAbDatMM\": 1, \"SexLang\": \"m\\u00e4nnlich\", \"sum_WBev\": 8}, {\"GueltigAbDat\": \"2021-01-17T00:00:00\", \"GueltigAbDatJahr\": 2021, \"GueltigAbDatMM\": 1, \"SexLang\": \"weiblich\", \"sum_WBev\": 8}, {\"GueltigAbDat\": \"2021-10-15T00:00:00\", \"GueltigAbDatJahr\": 2021, \"GueltigAbDatMM\": 10, \"SexLang\": \"weiblich\", \"sum_WBev\": 8}, {\"GueltigAbDat\": \"2021-10-16T00:00:00\", \"GueltigAbDatJahr\": 2021, \"GueltigAbDatMM\": 10, \"SexLang\": \"weiblich\", \"sum_WBev\": 8}, {\"GueltigAbDat\": \"2021-10-18T00:00:00\", \"GueltigAbDatJahr\": 2021, \"GueltigAbDatMM\": 10, \"SexLang\": \"weiblich\", \"sum_WBev\": 8}, {\"GueltigAbDat\": \"2021-10-22T00:00:00\", \"GueltigAbDatJahr\": 2021, \"GueltigAbDatMM\": 10, \"SexLang\": \"weiblich\", \"sum_WBev\": 8}, {\"GueltigAbDat\": \"2021-11-26T00:00:00\", \"GueltigAbDatJahr\": 2021, \"GueltigAbDatMM\": 11, \"SexLang\": \"weiblich\", \"sum_WBev\": 8}, {\"GueltigAbDat\": \"2021-11-24T00:00:00\", \"GueltigAbDatJahr\": 2021, \"GueltigAbDatMM\": 11, \"SexLang\": \"weiblich\", \"sum_WBev\": 8}, {\"GueltigAbDat\": \"2021-11-23T00:00:00\", \"GueltigAbDatJahr\": 2021, \"GueltigAbDatMM\": 11, \"SexLang\": \"weiblich\", \"sum_WBev\": 8}, {\"GueltigAbDat\": \"2021-11-23T00:00:00\", \"GueltigAbDatJahr\": 2021, \"GueltigAbDatMM\": 11, \"SexLang\": \"m\\u00e4nnlich\", \"sum_WBev\": 8}, {\"GueltigAbDat\": \"2021-11-18T00:00:00\", \"GueltigAbDatJahr\": 2021, \"GueltigAbDatMM\": 11, \"SexLang\": \"m\\u00e4nnlich\", \"sum_WBev\": 8}, {\"GueltigAbDat\": \"2020-11-11T00:00:00\", \"GueltigAbDatJahr\": 2020, \"GueltigAbDatMM\": 11, \"SexLang\": \"m\\u00e4nnlich\", \"sum_WBev\": 8}, {\"GueltigAbDat\": \"2020-11-14T00:00:00\", \"GueltigAbDatJahr\": 2020, \"GueltigAbDatMM\": 11, \"SexLang\": \"weiblich\", \"sum_WBev\": 8}, {\"GueltigAbDat\": \"2021-11-14T00:00:00\", \"GueltigAbDatJahr\": 2021, \"GueltigAbDatMM\": 11, \"SexLang\": \"weiblich\", \"sum_WBev\": 8}, {\"GueltigAbDat\": \"2020-11-16T00:00:00\", \"GueltigAbDatJahr\": 2020, \"GueltigAbDatMM\": 11, \"SexLang\": \"m\\u00e4nnlich\", \"sum_WBev\": 8}, {\"GueltigAbDat\": \"2021-11-12T00:00:00\", \"GueltigAbDatJahr\": 2021, \"GueltigAbDatMM\": 11, \"SexLang\": \"m\\u00e4nnlich\", \"sum_WBev\": 8}, {\"GueltigAbDat\": \"2021-11-09T00:00:00\", \"GueltigAbDatJahr\": 2021, \"GueltigAbDatMM\": 11, \"SexLang\": \"weiblich\", \"sum_WBev\": 8}, {\"GueltigAbDat\": \"2021-11-04T00:00:00\", \"GueltigAbDatJahr\": 2021, \"GueltigAbDatMM\": 11, \"SexLang\": \"weiblich\", \"sum_WBev\": 8}, {\"GueltigAbDat\": \"2020-11-24T00:00:00\", \"GueltigAbDatJahr\": 2020, \"GueltigAbDatMM\": 11, \"SexLang\": \"m\\u00e4nnlich\", \"sum_WBev\": 8}, {\"GueltigAbDat\": \"2021-10-27T00:00:00\", \"GueltigAbDatJahr\": 2021, \"GueltigAbDatMM\": 10, \"SexLang\": \"m\\u00e4nnlich\", \"sum_WBev\": 8}, {\"GueltigAbDat\": \"2020-11-30T00:00:00\", \"GueltigAbDatJahr\": 2020, \"GueltigAbDatMM\": 11, \"SexLang\": \"m\\u00e4nnlich\", \"sum_WBev\": 8}, {\"GueltigAbDat\": \"2020-12-01T00:00:00\", \"GueltigAbDatJahr\": 2020, \"GueltigAbDatMM\": 12, \"SexLang\": \"m\\u00e4nnlich\", \"sum_WBev\": 8}, {\"GueltigAbDat\": \"2021-10-24T00:00:00\", \"GueltigAbDatJahr\": 2021, \"GueltigAbDatMM\": 10, \"SexLang\": \"m\\u00e4nnlich\", \"sum_WBev\": 8}, {\"GueltigAbDat\": \"2020-12-02T00:00:00\", \"GueltigAbDatJahr\": 2020, \"GueltigAbDatMM\": 12, \"SexLang\": \"m\\u00e4nnlich\", \"sum_WBev\": 8}, {\"GueltigAbDat\": \"2020-12-02T00:00:00\", \"GueltigAbDatJahr\": 2020, \"GueltigAbDatMM\": 12, \"SexLang\": \"weiblich\", \"sum_WBev\": 8}, {\"GueltigAbDat\": \"2021-08-29T00:00:00\", \"GueltigAbDatJahr\": 2021, \"GueltigAbDatMM\": 8, \"SexLang\": \"weiblich\", \"sum_WBev\": 8}, {\"GueltigAbDat\": \"2021-09-20T00:00:00\", \"GueltigAbDatJahr\": 2021, \"GueltigAbDatMM\": 9, \"SexLang\": \"m\\u00e4nnlich\", \"sum_WBev\": 8}, {\"GueltigAbDat\": \"2021-08-28T00:00:00\", \"GueltigAbDatJahr\": 2021, \"GueltigAbDatMM\": 8, \"SexLang\": \"m\\u00e4nnlich\", \"sum_WBev\": 8}, {\"GueltigAbDat\": \"2021-02-09T00:00:00\", \"GueltigAbDatJahr\": 2021, \"GueltigAbDatMM\": 2, \"SexLang\": \"m\\u00e4nnlich\", \"sum_WBev\": 8}, {\"GueltigAbDat\": \"2021-02-19T00:00:00\", \"GueltigAbDatJahr\": 2021, \"GueltigAbDatMM\": 2, \"SexLang\": \"m\\u00e4nnlich\", \"sum_WBev\": 8}, {\"GueltigAbDat\": \"2021-02-27T00:00:00\", \"GueltigAbDatJahr\": 2021, \"GueltigAbDatMM\": 2, \"SexLang\": \"weiblich\", \"sum_WBev\": 8}, {\"GueltigAbDat\": \"2021-07-21T00:00:00\", \"GueltigAbDatJahr\": 2021, \"GueltigAbDatMM\": 7, \"SexLang\": \"weiblich\", \"sum_WBev\": 8}, {\"GueltigAbDat\": \"2021-08-12T00:00:00\", \"GueltigAbDatJahr\": 2021, \"GueltigAbDatMM\": 8, \"SexLang\": \"m\\u00e4nnlich\", \"sum_WBev\": 8}, {\"GueltigAbDat\": \"2021-08-11T00:00:00\", \"GueltigAbDatJahr\": 2021, \"GueltigAbDatMM\": 8, \"SexLang\": \"weiblich\", \"sum_WBev\": 8}, {\"GueltigAbDat\": \"2021-02-05T00:00:00\", \"GueltigAbDatJahr\": 2021, \"GueltigAbDatMM\": 2, \"SexLang\": \"weiblich\", \"sum_WBev\": 8}, {\"GueltigAbDat\": \"2021-02-10T00:00:00\", \"GueltigAbDatJahr\": 2021, \"GueltigAbDatMM\": 2, \"SexLang\": \"m\\u00e4nnlich\", \"sum_WBev\": 8}, {\"GueltigAbDat\": \"2021-01-30T00:00:00\", \"GueltigAbDatJahr\": 2021, \"GueltigAbDatMM\": 1, \"SexLang\": \"weiblich\", \"sum_WBev\": 8}, {\"GueltigAbDat\": \"2021-08-06T00:00:00\", \"GueltigAbDatJahr\": 2021, \"GueltigAbDatMM\": 8, \"SexLang\": \"m\\u00e4nnlich\", \"sum_WBev\": 8}, {\"GueltigAbDat\": \"2021-08-05T00:00:00\", \"GueltigAbDatJahr\": 2021, \"GueltigAbDatMM\": 8, \"SexLang\": \"weiblich\", \"sum_WBev\": 8}, {\"GueltigAbDat\": \"2021-08-02T00:00:00\", \"GueltigAbDatJahr\": 2021, \"GueltigAbDatMM\": 8, \"SexLang\": \"m\\u00e4nnlich\", \"sum_WBev\": 8}, {\"GueltigAbDat\": \"2021-02-24T00:00:00\", \"GueltigAbDatJahr\": 2021, \"GueltigAbDatMM\": 2, \"SexLang\": \"m\\u00e4nnlich\", \"sum_WBev\": 8}, {\"GueltigAbDat\": \"2021-02-16T00:00:00\", \"GueltigAbDatJahr\": 2021, \"GueltigAbDatMM\": 2, \"SexLang\": \"weiblich\", \"sum_WBev\": 8}, {\"GueltigAbDat\": \"2021-02-19T00:00:00\", \"GueltigAbDatJahr\": 2021, \"GueltigAbDatMM\": 2, \"SexLang\": \"weiblich\", \"sum_WBev\": 8}, {\"GueltigAbDat\": \"2021-05-06T00:00:00\", \"GueltigAbDatJahr\": 2021, \"GueltigAbDatMM\": 5, \"SexLang\": \"weiblich\", \"sum_WBev\": 8}, {\"GueltigAbDat\": \"2021-08-13T00:00:00\", \"GueltigAbDatJahr\": 2021, \"GueltigAbDatMM\": 8, \"SexLang\": \"weiblich\", \"sum_WBev\": 8}, {\"GueltigAbDat\": \"2021-03-03T00:00:00\", \"GueltigAbDatJahr\": 2021, \"GueltigAbDatMM\": 3, \"SexLang\": \"weiblich\", \"sum_WBev\": 8}, {\"GueltigAbDat\": \"2021-03-01T00:00:00\", \"GueltigAbDatJahr\": 2021, \"GueltigAbDatMM\": 3, \"SexLang\": \"m\\u00e4nnlich\", \"sum_WBev\": 8}, {\"GueltigAbDat\": \"2021-08-25T00:00:00\", \"GueltigAbDatJahr\": 2021, \"GueltigAbDatMM\": 8, \"SexLang\": \"weiblich\", \"sum_WBev\": 8}, {\"GueltigAbDat\": \"2021-03-04T00:00:00\", \"GueltigAbDatJahr\": 2021, \"GueltigAbDatMM\": 3, \"SexLang\": \"weiblich\", \"sum_WBev\": 8}, {\"GueltigAbDat\": \"2021-01-24T00:00:00\", \"GueltigAbDatJahr\": 2021, \"GueltigAbDatMM\": 1, \"SexLang\": \"m\\u00e4nnlich\", \"sum_WBev\": 8}, {\"GueltigAbDat\": \"2021-01-26T00:00:00\", \"GueltigAbDatJahr\": 2021, \"GueltigAbDatMM\": 1, \"SexLang\": \"weiblich\", \"sum_WBev\": 8}, {\"GueltigAbDat\": \"2021-03-01T00:00:00\", \"GueltigAbDatJahr\": 2021, \"GueltigAbDatMM\": 3, \"SexLang\": \"weiblich\", \"sum_WBev\": 8}, {\"GueltigAbDat\": \"2021-02-18T00:00:00\", \"GueltigAbDatJahr\": 2021, \"GueltigAbDatMM\": 2, \"SexLang\": \"m\\u00e4nnlich\", \"sum_WBev\": 8}, {\"GueltigAbDat\": \"2021-08-18T00:00:00\", \"GueltigAbDatJahr\": 2021, \"GueltigAbDatMM\": 8, \"SexLang\": \"m\\u00e4nnlich\", \"sum_WBev\": 8}, {\"GueltigAbDat\": \"2021-05-20T00:00:00\", \"GueltigAbDatJahr\": 2021, \"GueltigAbDatMM\": 5, \"SexLang\": \"weiblich\", \"sum_WBev\": 7}, {\"GueltigAbDat\": \"2021-07-20T00:00:00\", \"GueltigAbDatJahr\": 2021, \"GueltigAbDatMM\": 7, \"SexLang\": \"m\\u00e4nnlich\", \"sum_WBev\": 7}, {\"GueltigAbDat\": \"2021-07-26T00:00:00\", \"GueltigAbDatJahr\": 2021, \"GueltigAbDatMM\": 7, \"SexLang\": \"m\\u00e4nnlich\", \"sum_WBev\": 7}, {\"GueltigAbDat\": \"2021-07-15T00:00:00\", \"GueltigAbDatJahr\": 2021, \"GueltigAbDatMM\": 7, \"SexLang\": \"weiblich\", \"sum_WBev\": 7}, {\"GueltigAbDat\": \"2021-10-26T00:00:00\", \"GueltigAbDatJahr\": 2021, \"GueltigAbDatMM\": 10, \"SexLang\": \"m\\u00e4nnlich\", \"sum_WBev\": 7}, {\"GueltigAbDat\": \"2021-07-24T00:00:00\", \"GueltigAbDatJahr\": 2021, \"GueltigAbDatMM\": 7, \"SexLang\": \"weiblich\", \"sum_WBev\": 7}, {\"GueltigAbDat\": \"2021-11-10T00:00:00\", \"GueltigAbDatJahr\": 2021, \"GueltigAbDatMM\": 11, \"SexLang\": \"m\\u00e4nnlich\", \"sum_WBev\": 7}, {\"GueltigAbDat\": \"2021-11-02T00:00:00\", \"GueltigAbDatJahr\": 2021, \"GueltigAbDatMM\": 11, \"SexLang\": \"m\\u00e4nnlich\", \"sum_WBev\": 7}, {\"GueltigAbDat\": \"2021-07-19T00:00:00\", \"GueltigAbDatJahr\": 2021, \"GueltigAbDatMM\": 7, \"SexLang\": \"m\\u00e4nnlich\", \"sum_WBev\": 7}, {\"GueltigAbDat\": \"2021-07-17T00:00:00\", \"GueltigAbDatJahr\": 2021, \"GueltigAbDatMM\": 7, \"SexLang\": \"m\\u00e4nnlich\", \"sum_WBev\": 7}, {\"GueltigAbDat\": \"2021-05-10T00:00:00\", \"GueltigAbDatJahr\": 2021, \"GueltigAbDatMM\": 5, \"SexLang\": \"m\\u00e4nnlich\", \"sum_WBev\": 7}, {\"GueltigAbDat\": \"2021-07-16T00:00:00\", \"GueltigAbDatJahr\": 2021, \"GueltigAbDatMM\": 7, \"SexLang\": \"weiblich\", \"sum_WBev\": 7}, {\"GueltigAbDat\": \"2021-05-19T00:00:00\", \"GueltigAbDatJahr\": 2021, \"GueltigAbDatMM\": 5, \"SexLang\": \"m\\u00e4nnlich\", \"sum_WBev\": 7}, {\"GueltigAbDat\": \"2021-11-13T00:00:00\", \"GueltigAbDatJahr\": 2021, \"GueltigAbDatMM\": 11, \"SexLang\": \"weiblich\", \"sum_WBev\": 7}, {\"GueltigAbDat\": \"2021-11-03T00:00:00\", \"GueltigAbDatJahr\": 2021, \"GueltigAbDatMM\": 11, \"SexLang\": \"m\\u00e4nnlich\", \"sum_WBev\": 7}, {\"GueltigAbDat\": \"2021-11-04T00:00:00\", \"GueltigAbDatJahr\": 2021, \"GueltigAbDatMM\": 11, \"SexLang\": \"m\\u00e4nnlich\", \"sum_WBev\": 7}, {\"GueltigAbDat\": \"2021-11-22T00:00:00\", \"GueltigAbDatJahr\": 2021, \"GueltigAbDatMM\": 11, \"SexLang\": \"weiblich\", \"sum_WBev\": 7}, {\"GueltigAbDat\": \"2021-07-08T00:00:00\", \"GueltigAbDatJahr\": 2021, \"GueltigAbDatMM\": 7, \"SexLang\": \"m\\u00e4nnlich\", \"sum_WBev\": 7}, {\"GueltigAbDat\": \"2021-07-31T00:00:00\", \"GueltigAbDatJahr\": 2021, \"GueltigAbDatMM\": 7, \"SexLang\": \"weiblich\", \"sum_WBev\": 7}, {\"GueltigAbDat\": \"2021-07-29T00:00:00\", \"GueltigAbDatJahr\": 2021, \"GueltigAbDatMM\": 7, \"SexLang\": \"m\\u00e4nnlich\", \"sum_WBev\": 7}, {\"GueltigAbDat\": \"2021-09-25T00:00:00\", \"GueltigAbDatJahr\": 2021, \"GueltigAbDatMM\": 9, \"SexLang\": \"weiblich\", \"sum_WBev\": 7}, {\"GueltigAbDat\": \"2021-09-01T00:00:00\", \"GueltigAbDatJahr\": 2021, \"GueltigAbDatMM\": 9, \"SexLang\": \"weiblich\", \"sum_WBev\": 7}, {\"GueltigAbDat\": \"2021-06-20T00:00:00\", \"GueltigAbDatJahr\": 2021, \"GueltigAbDatMM\": 6, \"SexLang\": \"weiblich\", \"sum_WBev\": 7}, {\"GueltigAbDat\": \"2021-09-05T00:00:00\", \"GueltigAbDatJahr\": 2021, \"GueltigAbDatMM\": 9, \"SexLang\": \"weiblich\", \"sum_WBev\": 7}, {\"GueltigAbDat\": \"2021-09-08T00:00:00\", \"GueltigAbDatJahr\": 2021, \"GueltigAbDatMM\": 9, \"SexLang\": \"weiblich\", \"sum_WBev\": 7}, {\"GueltigAbDat\": \"2021-09-17T00:00:00\", \"GueltigAbDatJahr\": 2021, \"GueltigAbDatMM\": 9, \"SexLang\": \"weiblich\", \"sum_WBev\": 7}, {\"GueltigAbDat\": \"2021-06-14T00:00:00\", \"GueltigAbDatJahr\": 2021, \"GueltigAbDatMM\": 6, \"SexLang\": \"m\\u00e4nnlich\", \"sum_WBev\": 7}, {\"GueltigAbDat\": \"2021-06-21T00:00:00\", \"GueltigAbDatJahr\": 2021, \"GueltigAbDatMM\": 6, \"SexLang\": \"weiblich\", \"sum_WBev\": 7}, {\"GueltigAbDat\": \"2021-06-11T00:00:00\", \"GueltigAbDatJahr\": 2021, \"GueltigAbDatMM\": 6, \"SexLang\": \"weiblich\", \"sum_WBev\": 7}, {\"GueltigAbDat\": \"2021-08-18T00:00:00\", \"GueltigAbDatJahr\": 2021, \"GueltigAbDatMM\": 8, \"SexLang\": \"weiblich\", \"sum_WBev\": 7}, {\"GueltigAbDat\": \"2021-09-22T00:00:00\", \"GueltigAbDatJahr\": 2021, \"GueltigAbDatMM\": 9, \"SexLang\": \"weiblich\", \"sum_WBev\": 7}, {\"GueltigAbDat\": \"2021-08-17T00:00:00\", \"GueltigAbDatJahr\": 2021, \"GueltigAbDatMM\": 8, \"SexLang\": \"weiblich\", \"sum_WBev\": 7}, {\"GueltigAbDat\": \"2021-06-06T00:00:00\", \"GueltigAbDatJahr\": 2021, \"GueltigAbDatMM\": 6, \"SexLang\": \"weiblich\", \"sum_WBev\": 7}, {\"GueltigAbDat\": \"2021-05-25T00:00:00\", \"GueltigAbDatJahr\": 2021, \"GueltigAbDatMM\": 5, \"SexLang\": \"weiblich\", \"sum_WBev\": 7}, {\"GueltigAbDat\": \"2021-09-26T00:00:00\", \"GueltigAbDatJahr\": 2021, \"GueltigAbDatMM\": 9, \"SexLang\": \"m\\u00e4nnlich\", \"sum_WBev\": 7}, {\"GueltigAbDat\": \"2021-09-29T00:00:00\", \"GueltigAbDatJahr\": 2021, \"GueltigAbDatMM\": 9, \"SexLang\": \"weiblich\", \"sum_WBev\": 7}, {\"GueltigAbDat\": \"2021-06-05T00:00:00\", \"GueltigAbDatJahr\": 2021, \"GueltigAbDatMM\": 6, \"SexLang\": \"weiblich\", \"sum_WBev\": 7}, {\"GueltigAbDat\": \"2021-06-25T00:00:00\", \"GueltigAbDatJahr\": 2021, \"GueltigAbDatMM\": 6, \"SexLang\": \"m\\u00e4nnlich\", \"sum_WBev\": 7}, {\"GueltigAbDat\": \"2021-08-08T00:00:00\", \"GueltigAbDatJahr\": 2021, \"GueltigAbDatMM\": 8, \"SexLang\": \"weiblich\", \"sum_WBev\": 7}, {\"GueltigAbDat\": \"2021-06-02T00:00:00\", \"GueltigAbDatJahr\": 2021, \"GueltigAbDatMM\": 6, \"SexLang\": \"weiblich\", \"sum_WBev\": 7}, {\"GueltigAbDat\": \"2021-08-30T00:00:00\", \"GueltigAbDatJahr\": 2021, \"GueltigAbDatMM\": 8, \"SexLang\": \"m\\u00e4nnlich\", \"sum_WBev\": 7}, {\"GueltigAbDat\": \"2021-10-18T00:00:00\", \"GueltigAbDatJahr\": 2021, \"GueltigAbDatMM\": 10, \"SexLang\": \"m\\u00e4nnlich\", \"sum_WBev\": 7}, {\"GueltigAbDat\": \"2021-07-31T00:00:00\", \"GueltigAbDatJahr\": 2021, \"GueltigAbDatMM\": 7, \"SexLang\": \"m\\u00e4nnlich\", \"sum_WBev\": 7}, {\"GueltigAbDat\": \"2021-10-19T00:00:00\", \"GueltigAbDatJahr\": 2021, \"GueltigAbDatMM\": 10, \"SexLang\": \"weiblich\", \"sum_WBev\": 7}, {\"GueltigAbDat\": \"2021-10-21T00:00:00\", \"GueltigAbDatJahr\": 2021, \"GueltigAbDatMM\": 10, \"SexLang\": \"weiblich\", \"sum_WBev\": 7}, {\"GueltigAbDat\": \"2020-11-01T00:00:00\", \"GueltigAbDatJahr\": 2020, \"GueltigAbDatMM\": 11, \"SexLang\": \"m\\u00e4nnlich\", \"sum_WBev\": 7}, {\"GueltigAbDat\": \"2021-11-30T00:00:00\", \"GueltigAbDatJahr\": 2021, \"GueltigAbDatMM\": 11, \"SexLang\": \"weiblich\", \"sum_WBev\": 7}, {\"GueltigAbDat\": \"2021-03-14T00:00:00\", \"GueltigAbDatJahr\": 2021, \"GueltigAbDatMM\": 3, \"SexLang\": \"m\\u00e4nnlich\", \"sum_WBev\": 7}, {\"GueltigAbDat\": \"2021-04-25T00:00:00\", \"GueltigAbDatJahr\": 2021, \"GueltigAbDatMM\": 4, \"SexLang\": \"weiblich\", \"sum_WBev\": 7}, {\"GueltigAbDat\": \"2021-02-16T00:00:00\", \"GueltigAbDatJahr\": 2021, \"GueltigAbDatMM\": 2, \"SexLang\": \"m\\u00e4nnlich\", \"sum_WBev\": 7}, {\"GueltigAbDat\": \"2020-12-07T00:00:00\", \"GueltigAbDatJahr\": 2020, \"GueltigAbDatMM\": 12, \"SexLang\": \"weiblich\", \"sum_WBev\": 7}, {\"GueltigAbDat\": \"2020-12-08T00:00:00\", \"GueltigAbDatJahr\": 2020, \"GueltigAbDatMM\": 12, \"SexLang\": \"m\\u00e4nnlich\", \"sum_WBev\": 7}, {\"GueltigAbDat\": \"2021-02-15T00:00:00\", \"GueltigAbDatJahr\": 2021, \"GueltigAbDatMM\": 2, \"SexLang\": \"m\\u00e4nnlich\", \"sum_WBev\": 7}, {\"GueltigAbDat\": \"2020-12-15T00:00:00\", \"GueltigAbDatJahr\": 2020, \"GueltigAbDatMM\": 12, \"SexLang\": \"weiblich\", \"sum_WBev\": 7}, {\"GueltigAbDat\": \"2020-12-17T00:00:00\", \"GueltigAbDatJahr\": 2020, \"GueltigAbDatMM\": 12, \"SexLang\": \"m\\u00e4nnlich\", \"sum_WBev\": 7}, {\"GueltigAbDat\": \"2020-12-20T00:00:00\", \"GueltigAbDatJahr\": 2020, \"GueltigAbDatMM\": 12, \"SexLang\": \"m\\u00e4nnlich\", \"sum_WBev\": 7}, {\"GueltigAbDat\": \"2021-02-07T00:00:00\", \"GueltigAbDatJahr\": 2021, \"GueltigAbDatMM\": 2, \"SexLang\": \"weiblich\", \"sum_WBev\": 7}, {\"GueltigAbDat\": \"2021-04-15T00:00:00\", \"GueltigAbDatJahr\": 2021, \"GueltigAbDatMM\": 4, \"SexLang\": \"m\\u00e4nnlich\", \"sum_WBev\": 7}, {\"GueltigAbDat\": \"2021-03-30T00:00:00\", \"GueltigAbDatJahr\": 2021, \"GueltigAbDatMM\": 3, \"SexLang\": \"weiblich\", \"sum_WBev\": 7}, {\"GueltigAbDat\": \"2021-04-14T00:00:00\", \"GueltigAbDatJahr\": 2021, \"GueltigAbDatMM\": 4, \"SexLang\": \"weiblich\", \"sum_WBev\": 7}, {\"GueltigAbDat\": \"2021-02-04T00:00:00\", \"GueltigAbDatJahr\": 2021, \"GueltigAbDatMM\": 2, \"SexLang\": \"m\\u00e4nnlich\", \"sum_WBev\": 7}, {\"GueltigAbDat\": \"2021-01-06T00:00:00\", \"GueltigAbDatJahr\": 2021, \"GueltigAbDatMM\": 1, \"SexLang\": \"m\\u00e4nnlich\", \"sum_WBev\": 7}, {\"GueltigAbDat\": \"2021-02-03T00:00:00\", \"GueltigAbDatJahr\": 2021, \"GueltigAbDatMM\": 2, \"SexLang\": \"m\\u00e4nnlich\", \"sum_WBev\": 7}, {\"GueltigAbDat\": \"2021-01-31T00:00:00\", \"GueltigAbDatJahr\": 2021, \"GueltigAbDatMM\": 1, \"SexLang\": \"weiblich\", \"sum_WBev\": 7}, {\"GueltigAbDat\": \"2021-01-31T00:00:00\", \"GueltigAbDatJahr\": 2021, \"GueltigAbDatMM\": 1, \"SexLang\": \"m\\u00e4nnlich\", \"sum_WBev\": 7}, {\"GueltigAbDat\": \"2021-01-30T00:00:00\", \"GueltigAbDatJahr\": 2021, \"GueltigAbDatMM\": 1, \"SexLang\": \"m\\u00e4nnlich\", \"sum_WBev\": 7}, {\"GueltigAbDat\": \"2021-01-12T00:00:00\", \"GueltigAbDatJahr\": 2021, \"GueltigAbDatMM\": 1, \"SexLang\": \"weiblich\", \"sum_WBev\": 7}, {\"GueltigAbDat\": \"2021-01-26T00:00:00\", \"GueltigAbDatJahr\": 2021, \"GueltigAbDatMM\": 1, \"SexLang\": \"m\\u00e4nnlich\", \"sum_WBev\": 7}, {\"GueltigAbDat\": \"2021-01-16T00:00:00\", \"GueltigAbDatJahr\": 2021, \"GueltigAbDatMM\": 1, \"SexLang\": \"m\\u00e4nnlich\", \"sum_WBev\": 7}, {\"GueltigAbDat\": \"2021-01-19T00:00:00\", \"GueltigAbDatJahr\": 2021, \"GueltigAbDatMM\": 1, \"SexLang\": \"weiblich\", \"sum_WBev\": 7}, {\"GueltigAbDat\": \"2021-01-22T00:00:00\", \"GueltigAbDatJahr\": 2021, \"GueltigAbDatMM\": 1, \"SexLang\": \"m\\u00e4nnlich\", \"sum_WBev\": 7}, {\"GueltigAbDat\": \"2021-01-21T00:00:00\", \"GueltigAbDatJahr\": 2021, \"GueltigAbDatMM\": 1, \"SexLang\": \"m\\u00e4nnlich\", \"sum_WBev\": 7}, {\"GueltigAbDat\": \"2021-02-20T00:00:00\", \"GueltigAbDatJahr\": 2021, \"GueltigAbDatMM\": 2, \"SexLang\": \"weiblich\", \"sum_WBev\": 7}, {\"GueltigAbDat\": \"2021-02-15T00:00:00\", \"GueltigAbDatJahr\": 2021, \"GueltigAbDatMM\": 2, \"SexLang\": \"weiblich\", \"sum_WBev\": 7}, {\"GueltigAbDat\": \"2021-03-04T00:00:00\", \"GueltigAbDatJahr\": 2021, \"GueltigAbDatMM\": 3, \"SexLang\": \"m\\u00e4nnlich\", \"sum_WBev\": 7}, {\"GueltigAbDat\": \"2021-02-28T00:00:00\", \"GueltigAbDatJahr\": 2021, \"GueltigAbDatMM\": 2, \"SexLang\": \"weiblich\", \"sum_WBev\": 7}, {\"GueltigAbDat\": \"2020-11-02T00:00:00\", \"GueltigAbDatJahr\": 2020, \"GueltigAbDatMM\": 11, \"SexLang\": \"m\\u00e4nnlich\", \"sum_WBev\": 7}, {\"GueltigAbDat\": \"2020-11-03T00:00:00\", \"GueltigAbDatJahr\": 2020, \"GueltigAbDatMM\": 11, \"SexLang\": \"weiblich\", \"sum_WBev\": 7}, {\"GueltigAbDat\": \"2021-03-11T00:00:00\", \"GueltigAbDatJahr\": 2021, \"GueltigAbDatMM\": 3, \"SexLang\": \"m\\u00e4nnlich\", \"sum_WBev\": 7}, {\"GueltigAbDat\": \"2021-03-16T00:00:00\", \"GueltigAbDatJahr\": 2021, \"GueltigAbDatMM\": 3, \"SexLang\": \"weiblich\", \"sum_WBev\": 7}, {\"GueltigAbDat\": \"2021-03-10T00:00:00\", \"GueltigAbDatJahr\": 2021, \"GueltigAbDatMM\": 3, \"SexLang\": \"m\\u00e4nnlich\", \"sum_WBev\": 7}, {\"GueltigAbDat\": \"2021-03-09T00:00:00\", \"GueltigAbDatJahr\": 2021, \"GueltigAbDatMM\": 3, \"SexLang\": \"m\\u00e4nnlich\", \"sum_WBev\": 7}, {\"GueltigAbDat\": \"2020-11-13T00:00:00\", \"GueltigAbDatJahr\": 2020, \"GueltigAbDatMM\": 11, \"SexLang\": \"weiblich\", \"sum_WBev\": 7}, {\"GueltigAbDat\": \"2021-02-23T00:00:00\", \"GueltigAbDatJahr\": 2021, \"GueltigAbDatMM\": 2, \"SexLang\": \"m\\u00e4nnlich\", \"sum_WBev\": 7}, {\"GueltigAbDat\": \"2021-04-06T00:00:00\", \"GueltigAbDatJahr\": 2021, \"GueltigAbDatMM\": 4, \"SexLang\": \"m\\u00e4nnlich\", \"sum_WBev\": 7}, {\"GueltigAbDat\": \"2020-11-29T00:00:00\", \"GueltigAbDatJahr\": 2020, \"GueltigAbDatMM\": 11, \"SexLang\": \"weiblich\", \"sum_WBev\": 7}, {\"GueltigAbDat\": \"2020-11-29T00:00:00\", \"GueltigAbDatJahr\": 2020, \"GueltigAbDatMM\": 11, \"SexLang\": \"m\\u00e4nnlich\", \"sum_WBev\": 7}, {\"GueltigAbDat\": \"2021-04-29T00:00:00\", \"GueltigAbDatJahr\": 2021, \"GueltigAbDatMM\": 4, \"SexLang\": \"m\\u00e4nnlich\", \"sum_WBev\": 7}, {\"GueltigAbDat\": \"2021-04-27T00:00:00\", \"GueltigAbDatJahr\": 2021, \"GueltigAbDatMM\": 4, \"SexLang\": \"weiblich\", \"sum_WBev\": 7}, {\"GueltigAbDat\": \"2021-03-22T00:00:00\", \"GueltigAbDatJahr\": 2021, \"GueltigAbDatMM\": 3, \"SexLang\": \"weiblich\", \"sum_WBev\": 7}, {\"GueltigAbDat\": \"2021-02-25T00:00:00\", \"GueltigAbDatJahr\": 2021, \"GueltigAbDatMM\": 2, \"SexLang\": \"weiblich\", \"sum_WBev\": 6}, {\"GueltigAbDat\": \"2021-03-08T00:00:00\", \"GueltigAbDatJahr\": 2021, \"GueltigAbDatMM\": 3, \"SexLang\": \"weiblich\", \"sum_WBev\": 6}, {\"GueltigAbDat\": \"2021-07-07T00:00:00\", \"GueltigAbDatJahr\": 2021, \"GueltigAbDatMM\": 7, \"SexLang\": \"m\\u00e4nnlich\", \"sum_WBev\": 6}, {\"GueltigAbDat\": \"2021-07-26T00:00:00\", \"GueltigAbDatJahr\": 2021, \"GueltigAbDatMM\": 7, \"SexLang\": \"weiblich\", \"sum_WBev\": 6}, {\"GueltigAbDat\": \"2021-01-23T00:00:00\", \"GueltigAbDatJahr\": 2021, \"GueltigAbDatMM\": 1, \"SexLang\": \"weiblich\", \"sum_WBev\": 6}, {\"GueltigAbDat\": \"2021-03-11T00:00:00\", \"GueltigAbDatJahr\": 2021, \"GueltigAbDatMM\": 3, \"SexLang\": \"weiblich\", \"sum_WBev\": 6}, {\"GueltigAbDat\": \"2021-08-20T00:00:00\", \"GueltigAbDatJahr\": 2021, \"GueltigAbDatMM\": 8, \"SexLang\": \"weiblich\", \"sum_WBev\": 6}, {\"GueltigAbDat\": \"2021-08-19T00:00:00\", \"GueltigAbDatJahr\": 2021, \"GueltigAbDatMM\": 8, \"SexLang\": \"m\\u00e4nnlich\", \"sum_WBev\": 6}, {\"GueltigAbDat\": \"2021-01-28T00:00:00\", \"GueltigAbDatJahr\": 2021, \"GueltigAbDatMM\": 1, \"SexLang\": \"weiblich\", \"sum_WBev\": 6}, {\"GueltigAbDat\": \"2021-07-24T00:00:00\", \"GueltigAbDatJahr\": 2021, \"GueltigAbDatMM\": 7, \"SexLang\": \"m\\u00e4nnlich\", \"sum_WBev\": 6}, {\"GueltigAbDat\": \"2021-08-26T00:00:00\", \"GueltigAbDatJahr\": 2021, \"GueltigAbDatMM\": 8, \"SexLang\": \"m\\u00e4nnlich\", \"sum_WBev\": 6}, {\"GueltigAbDat\": \"2021-02-03T00:00:00\", \"GueltigAbDatJahr\": 2021, \"GueltigAbDatMM\": 2, \"SexLang\": \"weiblich\", \"sum_WBev\": 6}, {\"GueltigAbDat\": \"2021-02-13T00:00:00\", \"GueltigAbDatJahr\": 2021, \"GueltigAbDatMM\": 2, \"SexLang\": \"m\\u00e4nnlich\", \"sum_WBev\": 6}, {\"GueltigAbDat\": \"2021-07-12T00:00:00\", \"GueltigAbDatJahr\": 2021, \"GueltigAbDatMM\": 7, \"SexLang\": \"weiblich\", \"sum_WBev\": 6}, {\"GueltigAbDat\": \"2021-07-14T00:00:00\", \"GueltigAbDatJahr\": 2021, \"GueltigAbDatMM\": 7, \"SexLang\": \"m\\u00e4nnlich\", \"sum_WBev\": 6}, {\"GueltigAbDat\": \"2021-03-07T00:00:00\", \"GueltigAbDatJahr\": 2021, \"GueltigAbDatMM\": 3, \"SexLang\": \"m\\u00e4nnlich\", \"sum_WBev\": 6}, {\"GueltigAbDat\": \"2021-02-04T00:00:00\", \"GueltigAbDatJahr\": 2021, \"GueltigAbDatMM\": 2, \"SexLang\": \"weiblich\", \"sum_WBev\": 6}, {\"GueltigAbDat\": \"2021-07-23T00:00:00\", \"GueltigAbDatJahr\": 2021, \"GueltigAbDatMM\": 7, \"SexLang\": \"m\\u00e4nnlich\", \"sum_WBev\": 6}, {\"GueltigAbDat\": \"2021-02-06T00:00:00\", \"GueltigAbDatJahr\": 2021, \"GueltigAbDatMM\": 2, \"SexLang\": \"m\\u00e4nnlich\", \"sum_WBev\": 6}, {\"GueltigAbDat\": \"2021-02-27T00:00:00\", \"GueltigAbDatJahr\": 2021, \"GueltigAbDatMM\": 2, \"SexLang\": \"m\\u00e4nnlich\", \"sum_WBev\": 6}, {\"GueltigAbDat\": \"2021-08-09T00:00:00\", \"GueltigAbDatJahr\": 2021, \"GueltigAbDatMM\": 8, \"SexLang\": \"weiblich\", \"sum_WBev\": 6}, {\"GueltigAbDat\": \"2021-02-09T00:00:00\", \"GueltigAbDatJahr\": 2021, \"GueltigAbDatMM\": 2, \"SexLang\": \"weiblich\", \"sum_WBev\": 6}, {\"GueltigAbDat\": \"2021-02-11T00:00:00\", \"GueltigAbDatJahr\": 2021, \"GueltigAbDatMM\": 2, \"SexLang\": \"m\\u00e4nnlich\", \"sum_WBev\": 6}, {\"GueltigAbDat\": \"2021-02-11T00:00:00\", \"GueltigAbDatJahr\": 2021, \"GueltigAbDatMM\": 2, \"SexLang\": \"weiblich\", \"sum_WBev\": 6}, {\"GueltigAbDat\": \"2021-08-03T00:00:00\", \"GueltigAbDatJahr\": 2021, \"GueltigAbDatMM\": 8, \"SexLang\": \"weiblich\", \"sum_WBev\": 6}, {\"GueltigAbDat\": \"2021-02-22T00:00:00\", \"GueltigAbDatJahr\": 2021, \"GueltigAbDatMM\": 2, \"SexLang\": \"m\\u00e4nnlich\", \"sum_WBev\": 6}, {\"GueltigAbDat\": \"2021-05-05T00:00:00\", \"GueltigAbDatJahr\": 2021, \"GueltigAbDatMM\": 5, \"SexLang\": \"weiblich\", \"sum_WBev\": 6}, {\"GueltigAbDat\": \"2021-08-26T00:00:00\", \"GueltigAbDatJahr\": 2021, \"GueltigAbDatMM\": 8, \"SexLang\": \"weiblich\", \"sum_WBev\": 6}, {\"GueltigAbDat\": \"2021-01-20T00:00:00\", \"GueltigAbDatJahr\": 2021, \"GueltigAbDatMM\": 1, \"SexLang\": \"m\\u00e4nnlich\", \"sum_WBev\": 6}, {\"GueltigAbDat\": \"2021-10-19T00:00:00\", \"GueltigAbDatJahr\": 2021, \"GueltigAbDatMM\": 10, \"SexLang\": \"m\\u00e4nnlich\", \"sum_WBev\": 6}, {\"GueltigAbDat\": \"2020-12-05T00:00:00\", \"GueltigAbDatJahr\": 2020, \"GueltigAbDatMM\": 12, \"SexLang\": \"m\\u00e4nnlich\", \"sum_WBev\": 6}, {\"GueltigAbDat\": \"2021-10-21T00:00:00\", \"GueltigAbDatJahr\": 2021, \"GueltigAbDatMM\": 10, \"SexLang\": \"m\\u00e4nnlich\", \"sum_WBev\": 6}, {\"GueltigAbDat\": \"2021-10-25T00:00:00\", \"GueltigAbDatJahr\": 2021, \"GueltigAbDatMM\": 10, \"SexLang\": \"weiblich\", \"sum_WBev\": 6}, {\"GueltigAbDat\": \"2020-11-28T00:00:00\", \"GueltigAbDatJahr\": 2020, \"GueltigAbDatMM\": 11, \"SexLang\": \"m\\u00e4nnlich\", \"sum_WBev\": 6}, {\"GueltigAbDat\": \"2020-11-26T00:00:00\", \"GueltigAbDatJahr\": 2020, \"GueltigAbDatMM\": 11, \"SexLang\": \"weiblich\", \"sum_WBev\": 6}, {\"GueltigAbDat\": \"2020-11-25T00:00:00\", \"GueltigAbDatJahr\": 2020, \"GueltigAbDatMM\": 11, \"SexLang\": \"m\\u00e4nnlich\", \"sum_WBev\": 6}, {\"GueltigAbDat\": \"2021-10-31T00:00:00\", \"GueltigAbDatJahr\": 2021, \"GueltigAbDatMM\": 10, \"SexLang\": \"m\\u00e4nnlich\", \"sum_WBev\": 6}, {\"GueltigAbDat\": \"2020-11-24T00:00:00\", \"GueltigAbDatJahr\": 2020, \"GueltigAbDatMM\": 11, \"SexLang\": \"weiblich\", \"sum_WBev\": 6}, {\"GueltigAbDat\": \"2020-11-21T00:00:00\", \"GueltigAbDatJahr\": 2020, \"GueltigAbDatMM\": 11, \"SexLang\": \"weiblich\", \"sum_WBev\": 6}, {\"GueltigAbDat\": \"2020-11-19T00:00:00\", \"GueltigAbDatJahr\": 2020, \"GueltigAbDatMM\": 11, \"SexLang\": \"weiblich\", \"sum_WBev\": 6}, {\"GueltigAbDat\": \"2021-11-09T00:00:00\", \"GueltigAbDatJahr\": 2021, \"GueltigAbDatMM\": 11, \"SexLang\": \"m\\u00e4nnlich\", \"sum_WBev\": 6}, {\"GueltigAbDat\": \"2021-11-11T00:00:00\", \"GueltigAbDatJahr\": 2021, \"GueltigAbDatMM\": 11, \"SexLang\": \"m\\u00e4nnlich\", \"sum_WBev\": 6}, {\"GueltigAbDat\": \"2020-11-17T00:00:00\", \"GueltigAbDatJahr\": 2020, \"GueltigAbDatMM\": 11, \"SexLang\": \"m\\u00e4nnlich\", \"sum_WBev\": 6}, {\"GueltigAbDat\": \"2020-11-16T00:00:00\", \"GueltigAbDatJahr\": 2020, \"GueltigAbDatMM\": 11, \"SexLang\": \"weiblich\", \"sum_WBev\": 6}, {\"GueltigAbDat\": \"2020-11-13T00:00:00\", \"GueltigAbDatJahr\": 2020, \"GueltigAbDatMM\": 11, \"SexLang\": \"m\\u00e4nnlich\", \"sum_WBev\": 6}, {\"GueltigAbDat\": \"2020-11-09T00:00:00\", \"GueltigAbDatJahr\": 2020, \"GueltigAbDatMM\": 11, \"SexLang\": \"m\\u00e4nnlich\", \"sum_WBev\": 6}, {\"GueltigAbDat\": \"2020-11-06T00:00:00\", \"GueltigAbDatJahr\": 2020, \"GueltigAbDatMM\": 11, \"SexLang\": \"weiblich\", \"sum_WBev\": 6}, {\"GueltigAbDat\": \"2020-11-05T00:00:00\", \"GueltigAbDatJahr\": 2020, \"GueltigAbDatMM\": 11, \"SexLang\": \"m\\u00e4nnlich\", \"sum_WBev\": 6}, {\"GueltigAbDat\": \"2021-11-26T00:00:00\", \"GueltigAbDatJahr\": 2021, \"GueltigAbDatMM\": 11, \"SexLang\": \"m\\u00e4nnlich\", \"sum_WBev\": 6}, {\"GueltigAbDat\": \"2021-11-30T00:00:00\", \"GueltigAbDatJahr\": 2021, \"GueltigAbDatMM\": 11, \"SexLang\": \"m\\u00e4nnlich\", \"sum_WBev\": 6}, {\"GueltigAbDat\": \"2021-10-17T00:00:00\", \"GueltigAbDatJahr\": 2021, \"GueltigAbDatMM\": 10, \"SexLang\": \"weiblich\", \"sum_WBev\": 6}, {\"GueltigAbDat\": \"2020-12-08T00:00:00\", \"GueltigAbDatJahr\": 2020, \"GueltigAbDatMM\": 12, \"SexLang\": \"weiblich\", \"sum_WBev\": 6}, {\"GueltigAbDat\": \"2020-12-11T00:00:00\", \"GueltigAbDatJahr\": 2020, \"GueltigAbDatMM\": 12, \"SexLang\": \"m\\u00e4nnlich\", \"sum_WBev\": 6}, {\"GueltigAbDat\": \"2021-09-16T00:00:00\", \"GueltigAbDatJahr\": 2021, \"GueltigAbDatMM\": 9, \"SexLang\": \"weiblich\", \"sum_WBev\": 6}, {\"GueltigAbDat\": \"2021-08-30T00:00:00\", \"GueltigAbDatJahr\": 2021, \"GueltigAbDatMM\": 8, \"SexLang\": \"weiblich\", \"sum_WBev\": 6}, {\"GueltigAbDat\": \"2021-01-14T00:00:00\", \"GueltigAbDatJahr\": 2021, \"GueltigAbDatMM\": 1, \"SexLang\": \"weiblich\", \"sum_WBev\": 6}, {\"GueltigAbDat\": \"2021-01-13T00:00:00\", \"GueltigAbDatJahr\": 2021, \"GueltigAbDatMM\": 1, \"SexLang\": \"weiblich\", \"sum_WBev\": 6}, {\"GueltigAbDat\": \"2021-01-13T00:00:00\", \"GueltigAbDatJahr\": 2021, \"GueltigAbDatMM\": 1, \"SexLang\": \"m\\u00e4nnlich\", \"sum_WBev\": 6}, {\"GueltigAbDat\": \"2021-07-04T00:00:00\", \"GueltigAbDatJahr\": 2021, \"GueltigAbDatMM\": 7, \"SexLang\": \"m\\u00e4nnlich\", \"sum_WBev\": 6}, {\"GueltigAbDat\": \"2021-01-10T00:00:00\", \"GueltigAbDatJahr\": 2021, \"GueltigAbDatMM\": 1, \"SexLang\": \"weiblich\", \"sum_WBev\": 6}, {\"GueltigAbDat\": \"2021-09-12T00:00:00\", \"GueltigAbDatJahr\": 2021, \"GueltigAbDatMM\": 9, \"SexLang\": \"m\\u00e4nnlich\", \"sum_WBev\": 6}, {\"GueltigAbDat\": \"2021-09-14T00:00:00\", \"GueltigAbDatJahr\": 2021, \"GueltigAbDatMM\": 9, \"SexLang\": \"m\\u00e4nnlich\", \"sum_WBev\": 6}, {\"GueltigAbDat\": \"2021-01-07T00:00:00\", \"GueltigAbDatJahr\": 2021, \"GueltigAbDatMM\": 1, \"SexLang\": \"m\\u00e4nnlich\", \"sum_WBev\": 6}, {\"GueltigAbDat\": \"2021-09-18T00:00:00\", \"GueltigAbDatJahr\": 2021, \"GueltigAbDatMM\": 9, \"SexLang\": \"weiblich\", \"sum_WBev\": 6}, {\"GueltigAbDat\": \"2020-12-20T00:00:00\", \"GueltigAbDatJahr\": 2020, \"GueltigAbDatMM\": 12, \"SexLang\": \"weiblich\", \"sum_WBev\": 6}, {\"GueltigAbDat\": \"2021-09-19T00:00:00\", \"GueltigAbDatJahr\": 2021, \"GueltigAbDatMM\": 9, \"SexLang\": \"weiblich\", \"sum_WBev\": 6}, {\"GueltigAbDat\": \"2021-01-02T00:00:00\", \"GueltigAbDatJahr\": 2021, \"GueltigAbDatMM\": 1, \"SexLang\": \"m\\u00e4nnlich\", \"sum_WBev\": 6}, {\"GueltigAbDat\": \"2020-12-28T00:00:00\", \"GueltigAbDatJahr\": 2020, \"GueltigAbDatMM\": 12, \"SexLang\": \"m\\u00e4nnlich\", \"sum_WBev\": 6}, {\"GueltigAbDat\": \"2021-09-27T00:00:00\", \"GueltigAbDatJahr\": 2021, \"GueltigAbDatMM\": 9, \"SexLang\": \"weiblich\", \"sum_WBev\": 6}, {\"GueltigAbDat\": \"2021-09-28T00:00:00\", \"GueltigAbDatJahr\": 2021, \"GueltigAbDatMM\": 9, \"SexLang\": \"m\\u00e4nnlich\", \"sum_WBev\": 6}, {\"GueltigAbDat\": \"2021-09-28T00:00:00\", \"GueltigAbDatJahr\": 2021, \"GueltigAbDatMM\": 9, \"SexLang\": \"weiblich\", \"sum_WBev\": 6}, {\"GueltigAbDat\": \"2021-09-30T00:00:00\", \"GueltigAbDatJahr\": 2021, \"GueltigAbDatMM\": 9, \"SexLang\": \"weiblich\", \"sum_WBev\": 6}, {\"GueltigAbDat\": \"2021-10-01T00:00:00\", \"GueltigAbDatJahr\": 2021, \"GueltigAbDatMM\": 10, \"SexLang\": \"m\\u00e4nnlich\", \"sum_WBev\": 6}, {\"GueltigAbDat\": \"2020-12-23T00:00:00\", \"GueltigAbDatJahr\": 2020, \"GueltigAbDatMM\": 12, \"SexLang\": \"weiblich\", \"sum_WBev\": 6}, {\"GueltigAbDat\": \"2021-09-06T00:00:00\", \"GueltigAbDatJahr\": 2021, \"GueltigAbDatMM\": 9, \"SexLang\": \"weiblich\", \"sum_WBev\": 6}, {\"GueltigAbDat\": \"2021-01-29T00:00:00\", \"GueltigAbDatJahr\": 2021, \"GueltigAbDatMM\": 1, \"SexLang\": \"m\\u00e4nnlich\", \"sum_WBev\": 6}, {\"GueltigAbDat\": \"2021-05-17T00:00:00\", \"GueltigAbDatJahr\": 2021, \"GueltigAbDatMM\": 5, \"SexLang\": \"weiblich\", \"sum_WBev\": 6}, {\"GueltigAbDat\": \"2021-06-01T00:00:00\", \"GueltigAbDatJahr\": 2021, \"GueltigAbDatMM\": 6, \"SexLang\": \"weiblich\", \"sum_WBev\": 6}, {\"GueltigAbDat\": \"2021-04-01T00:00:00\", \"GueltigAbDatJahr\": 2021, \"GueltigAbDatMM\": 4, \"SexLang\": \"m\\u00e4nnlich\", \"sum_WBev\": 6}, {\"GueltigAbDat\": \"2021-05-29T00:00:00\", \"GueltigAbDatJahr\": 2021, \"GueltigAbDatMM\": 5, \"SexLang\": \"weiblich\", \"sum_WBev\": 6}, {\"GueltigAbDat\": \"2021-04-27T00:00:00\", \"GueltigAbDatJahr\": 2021, \"GueltigAbDatMM\": 4, \"SexLang\": \"m\\u00e4nnlich\", \"sum_WBev\": 6}, {\"GueltigAbDat\": \"2021-06-17T00:00:00\", \"GueltigAbDatJahr\": 2021, \"GueltigAbDatMM\": 6, \"SexLang\": \"weiblich\", \"sum_WBev\": 6}, {\"GueltigAbDat\": \"2021-05-01T00:00:00\", \"GueltigAbDatJahr\": 2021, \"GueltigAbDatMM\": 5, \"SexLang\": \"weiblich\", \"sum_WBev\": 6}, {\"GueltigAbDat\": \"2021-04-23T00:00:00\", \"GueltigAbDatJahr\": 2021, \"GueltigAbDatMM\": 4, \"SexLang\": \"weiblich\", \"sum_WBev\": 6}, {\"GueltigAbDat\": \"2021-05-08T00:00:00\", \"GueltigAbDatJahr\": 2021, \"GueltigAbDatMM\": 5, \"SexLang\": \"weiblich\", \"sum_WBev\": 6}, {\"GueltigAbDat\": \"2021-05-21T00:00:00\", \"GueltigAbDatJahr\": 2021, \"GueltigAbDatMM\": 5, \"SexLang\": \"m\\u00e4nnlich\", \"sum_WBev\": 6}, {\"GueltigAbDat\": \"2021-04-14T00:00:00\", \"GueltigAbDatJahr\": 2021, \"GueltigAbDatMM\": 4, \"SexLang\": \"m\\u00e4nnlich\", \"sum_WBev\": 6}, {\"GueltigAbDat\": \"2021-03-23T00:00:00\", \"GueltigAbDatJahr\": 2021, \"GueltigAbDatMM\": 3, \"SexLang\": \"m\\u00e4nnlich\", \"sum_WBev\": 6}, {\"GueltigAbDat\": \"2021-04-06T00:00:00\", \"GueltigAbDatJahr\": 2021, \"GueltigAbDatMM\": 4, \"SexLang\": \"weiblich\", \"sum_WBev\": 6}, {\"GueltigAbDat\": \"2021-06-24T00:00:00\", \"GueltigAbDatJahr\": 2021, \"GueltigAbDatMM\": 6, \"SexLang\": \"m\\u00e4nnlich\", \"sum_WBev\": 6}, {\"GueltigAbDat\": \"2021-04-10T00:00:00\", \"GueltigAbDatJahr\": 2021, \"GueltigAbDatMM\": 4, \"SexLang\": \"weiblich\", \"sum_WBev\": 6}, {\"GueltigAbDat\": \"2021-03-24T00:00:00\", \"GueltigAbDatJahr\": 2021, \"GueltigAbDatMM\": 3, \"SexLang\": \"m\\u00e4nnlich\", \"sum_WBev\": 6}, {\"GueltigAbDat\": \"2021-05-18T00:00:00\", \"GueltigAbDatJahr\": 2021, \"GueltigAbDatMM\": 5, \"SexLang\": \"m\\u00e4nnlich\", \"sum_WBev\": 6}, {\"GueltigAbDat\": \"2021-06-22T00:00:00\", \"GueltigAbDatJahr\": 2021, \"GueltigAbDatMM\": 6, \"SexLang\": \"weiblich\", \"sum_WBev\": 6}, {\"GueltigAbDat\": \"2021-04-11T00:00:00\", \"GueltigAbDatJahr\": 2021, \"GueltigAbDatMM\": 4, \"SexLang\": \"m\\u00e4nnlich\", \"sum_WBev\": 6}, {\"GueltigAbDat\": \"2021-03-25T00:00:00\", \"GueltigAbDatJahr\": 2021, \"GueltigAbDatMM\": 3, \"SexLang\": \"weiblich\", \"sum_WBev\": 6}, {\"GueltigAbDat\": \"2021-03-27T00:00:00\", \"GueltigAbDatJahr\": 2021, \"GueltigAbDatMM\": 3, \"SexLang\": \"m\\u00e4nnlich\", \"sum_WBev\": 6}, {\"GueltigAbDat\": \"2021-04-12T00:00:00\", \"GueltigAbDatJahr\": 2021, \"GueltigAbDatMM\": 4, \"SexLang\": \"m\\u00e4nnlich\", \"sum_WBev\": 6}, {\"GueltigAbDat\": \"2021-03-21T00:00:00\", \"GueltigAbDatJahr\": 2021, \"GueltigAbDatMM\": 3, \"SexLang\": \"m\\u00e4nnlich\", \"sum_WBev\": 6}, {\"GueltigAbDat\": \"2021-04-08T00:00:00\", \"GueltigAbDatJahr\": 2021, \"GueltigAbDatMM\": 4, \"SexLang\": \"weiblich\", \"sum_WBev\": 6}, {\"GueltigAbDat\": \"2021-06-07T00:00:00\", \"GueltigAbDatJahr\": 2021, \"GueltigAbDatMM\": 6, \"SexLang\": \"weiblich\", \"sum_WBev\": 6}, {\"GueltigAbDat\": \"2021-06-09T00:00:00\", \"GueltigAbDatJahr\": 2021, \"GueltigAbDatMM\": 6, \"SexLang\": \"weiblich\", \"sum_WBev\": 6}, {\"GueltigAbDat\": \"2021-06-13T00:00:00\", \"GueltigAbDatJahr\": 2021, \"GueltigAbDatMM\": 6, \"SexLang\": \"m\\u00e4nnlich\", \"sum_WBev\": 6}, {\"GueltigAbDat\": \"2021-07-02T00:00:00\", \"GueltigAbDatJahr\": 2021, \"GueltigAbDatMM\": 7, \"SexLang\": \"weiblich\", \"sum_WBev\": 6}, {\"GueltigAbDat\": \"2021-05-05T00:00:00\", \"GueltigAbDatJahr\": 2021, \"GueltigAbDatMM\": 5, \"SexLang\": \"m\\u00e4nnlich\", \"sum_WBev\": 6}, {\"GueltigAbDat\": \"2021-06-11T00:00:00\", \"GueltigAbDatJahr\": 2021, \"GueltigAbDatMM\": 6, \"SexLang\": \"m\\u00e4nnlich\", \"sum_WBev\": 6}, {\"GueltigAbDat\": \"2021-06-10T00:00:00\", \"GueltigAbDatJahr\": 2021, \"GueltigAbDatMM\": 6, \"SexLang\": \"weiblich\", \"sum_WBev\": 6}, {\"GueltigAbDat\": \"2021-05-27T00:00:00\", \"GueltigAbDatJahr\": 2021, \"GueltigAbDatMM\": 5, \"SexLang\": \"m\\u00e4nnlich\", \"sum_WBev\": 6}, {\"GueltigAbDat\": \"2021-04-16T00:00:00\", \"GueltigAbDatJahr\": 2021, \"GueltigAbDatMM\": 4, \"SexLang\": \"weiblich\", \"sum_WBev\": 6}, {\"GueltigAbDat\": \"2021-03-27T00:00:00\", \"GueltigAbDatJahr\": 2021, \"GueltigAbDatMM\": 3, \"SexLang\": \"weiblich\", \"sum_WBev\": 6}, {\"GueltigAbDat\": \"2021-03-20T00:00:00\", \"GueltigAbDatJahr\": 2021, \"GueltigAbDatMM\": 3, \"SexLang\": \"m\\u00e4nnlich\", \"sum_WBev\": 6}, {\"GueltigAbDat\": \"2021-05-04T00:00:00\", \"GueltigAbDatJahr\": 2021, \"GueltigAbDatMM\": 5, \"SexLang\": \"m\\u00e4nnlich\", \"sum_WBev\": 6}, {\"GueltigAbDat\": \"2021-05-29T00:00:00\", \"GueltigAbDatJahr\": 2021, \"GueltigAbDatMM\": 5, \"SexLang\": \"m\\u00e4nnlich\", \"sum_WBev\": 6}, {\"GueltigAbDat\": \"2021-06-28T00:00:00\", \"GueltigAbDatJahr\": 2021, \"GueltigAbDatMM\": 6, \"SexLang\": \"weiblich\", \"sum_WBev\": 6}, {\"GueltigAbDat\": \"2021-01-17T00:00:00\", \"GueltigAbDatJahr\": 2021, \"GueltigAbDatMM\": 1, \"SexLang\": \"m\\u00e4nnlich\", \"sum_WBev\": 5}, {\"GueltigAbDat\": \"2021-09-04T00:00:00\", \"GueltigAbDatJahr\": 2021, \"GueltigAbDatMM\": 9, \"SexLang\": \"weiblich\", \"sum_WBev\": 5}, {\"GueltigAbDat\": \"2021-08-21T00:00:00\", \"GueltigAbDatJahr\": 2021, \"GueltigAbDatMM\": 8, \"SexLang\": \"weiblich\", \"sum_WBev\": 5}, {\"GueltigAbDat\": \"2021-01-27T00:00:00\", \"GueltigAbDatJahr\": 2021, \"GueltigAbDatMM\": 1, \"SexLang\": \"m\\u00e4nnlich\", \"sum_WBev\": 5}, {\"GueltigAbDat\": \"2021-10-23T00:00:00\", \"GueltigAbDatJahr\": 2021, \"GueltigAbDatMM\": 10, \"SexLang\": \"m\\u00e4nnlich\", \"sum_WBev\": 5}, {\"GueltigAbDat\": \"2021-08-22T00:00:00\", \"GueltigAbDatJahr\": 2021, \"GueltigAbDatMM\": 8, \"SexLang\": \"weiblich\", \"sum_WBev\": 5}, {\"GueltigAbDat\": \"2021-06-04T00:00:00\", \"GueltigAbDatJahr\": 2021, \"GueltigAbDatMM\": 6, \"SexLang\": \"weiblich\", \"sum_WBev\": 5}, {\"GueltigAbDat\": \"2021-10-23T00:00:00\", \"GueltigAbDatJahr\": 2021, \"GueltigAbDatMM\": 10, \"SexLang\": \"weiblich\", \"sum_WBev\": 5}, {\"GueltigAbDat\": \"2020-12-01T00:00:00\", \"GueltigAbDatJahr\": 2020, \"GueltigAbDatMM\": 12, \"SexLang\": \"weiblich\", \"sum_WBev\": 5}, {\"GueltigAbDat\": \"2021-09-03T00:00:00\", \"GueltigAbDatJahr\": 2021, \"GueltigAbDatMM\": 9, \"SexLang\": \"weiblich\", \"sum_WBev\": 5}, {\"GueltigAbDat\": \"2021-04-29T00:00:00\", \"GueltigAbDatJahr\": 2021, \"GueltigAbDatMM\": 4, \"SexLang\": \"weiblich\", \"sum_WBev\": 5}, {\"GueltigAbDat\": \"2020-11-25T00:00:00\", \"GueltigAbDatJahr\": 2020, \"GueltigAbDatMM\": 11, \"SexLang\": \"weiblich\", \"sum_WBev\": 5}, {\"GueltigAbDat\": \"2021-10-29T00:00:00\", \"GueltigAbDatJahr\": 2021, \"GueltigAbDatMM\": 10, \"SexLang\": \"m\\u00e4nnlich\", \"sum_WBev\": 5}, {\"GueltigAbDat\": \"2021-08-23T00:00:00\", \"GueltigAbDatJahr\": 2021, \"GueltigAbDatMM\": 8, \"SexLang\": \"weiblich\", \"sum_WBev\": 5}, {\"GueltigAbDat\": \"2021-01-15T00:00:00\", \"GueltigAbDatJahr\": 2021, \"GueltigAbDatMM\": 1, \"SexLang\": \"weiblich\", \"sum_WBev\": 5}, {\"GueltigAbDat\": \"2021-01-20T00:00:00\", \"GueltigAbDatJahr\": 2021, \"GueltigAbDatMM\": 1, \"SexLang\": \"weiblich\", \"sum_WBev\": 5}, {\"GueltigAbDat\": \"2021-06-06T00:00:00\", \"GueltigAbDatJahr\": 2021, \"GueltigAbDatMM\": 6, \"SexLang\": \"m\\u00e4nnlich\", \"sum_WBev\": 5}, {\"GueltigAbDat\": \"2021-08-31T00:00:00\", \"GueltigAbDatJahr\": 2021, \"GueltigAbDatMM\": 8, \"SexLang\": \"weiblich\", \"sum_WBev\": 5}, {\"GueltigAbDat\": \"2021-10-30T00:00:00\", \"GueltigAbDatJahr\": 2021, \"GueltigAbDatMM\": 10, \"SexLang\": \"weiblich\", \"sum_WBev\": 5}, {\"GueltigAbDat\": \"2021-11-01T00:00:00\", \"GueltigAbDatJahr\": 2021, \"GueltigAbDatMM\": 11, \"SexLang\": \"m\\u00e4nnlich\", \"sum_WBev\": 5}, {\"GueltigAbDat\": \"2021-09-11T00:00:00\", \"GueltigAbDatJahr\": 2021, \"GueltigAbDatMM\": 9, \"SexLang\": \"weiblich\", \"sum_WBev\": 5}, {\"GueltigAbDat\": \"2021-09-08T00:00:00\", \"GueltigAbDatJahr\": 2021, \"GueltigAbDatMM\": 9, \"SexLang\": \"m\\u00e4nnlich\", \"sum_WBev\": 5}, {\"GueltigAbDat\": \"2020-12-25T00:00:00\", \"GueltigAbDatJahr\": 2020, \"GueltigAbDatMM\": 12, \"SexLang\": \"weiblich\", \"sum_WBev\": 5}, {\"GueltigAbDat\": \"2020-12-10T00:00:00\", \"GueltigAbDatJahr\": 2020, \"GueltigAbDatMM\": 12, \"SexLang\": \"weiblich\", \"sum_WBev\": 5}, {\"GueltigAbDat\": \"2020-12-29T00:00:00\", \"GueltigAbDatJahr\": 2020, \"GueltigAbDatMM\": 12, \"SexLang\": \"weiblich\", \"sum_WBev\": 5}, {\"GueltigAbDat\": \"2020-12-13T00:00:00\", \"GueltigAbDatJahr\": 2020, \"GueltigAbDatMM\": 12, \"SexLang\": \"m\\u00e4nnlich\", \"sum_WBev\": 5}, {\"GueltigAbDat\": \"2021-09-26T00:00:00\", \"GueltigAbDatJahr\": 2021, \"GueltigAbDatMM\": 9, \"SexLang\": \"weiblich\", \"sum_WBev\": 5}, {\"GueltigAbDat\": \"2021-10-10T00:00:00\", \"GueltigAbDatJahr\": 2021, \"GueltigAbDatMM\": 10, \"SexLang\": \"m\\u00e4nnlich\", \"sum_WBev\": 5}, {\"GueltigAbDat\": \"2021-10-08T00:00:00\", \"GueltigAbDatJahr\": 2021, \"GueltigAbDatMM\": 10, \"SexLang\": \"weiblich\", \"sum_WBev\": 5}, {\"GueltigAbDat\": \"2020-12-24T00:00:00\", \"GueltigAbDatJahr\": 2020, \"GueltigAbDatMM\": 12, \"SexLang\": \"m\\u00e4nnlich\", \"sum_WBev\": 5}, {\"GueltigAbDat\": \"2021-09-22T00:00:00\", \"GueltigAbDatJahr\": 2021, \"GueltigAbDatMM\": 9, \"SexLang\": \"m\\u00e4nnlich\", \"sum_WBev\": 5}, {\"GueltigAbDat\": \"2021-05-26T00:00:00\", \"GueltigAbDatJahr\": 2021, \"GueltigAbDatMM\": 5, \"SexLang\": \"weiblich\", \"sum_WBev\": 5}, {\"GueltigAbDat\": \"2021-04-18T00:00:00\", \"GueltigAbDatJahr\": 2021, \"GueltigAbDatMM\": 4, \"SexLang\": \"m\\u00e4nnlich\", \"sum_WBev\": 5}, {\"GueltigAbDat\": \"2021-10-07T00:00:00\", \"GueltigAbDatJahr\": 2021, \"GueltigAbDatMM\": 10, \"SexLang\": \"weiblich\", \"sum_WBev\": 5}, {\"GueltigAbDat\": \"2020-12-21T00:00:00\", \"GueltigAbDatJahr\": 2020, \"GueltigAbDatMM\": 12, \"SexLang\": \"m\\u00e4nnlich\", \"sum_WBev\": 5}, {\"GueltigAbDat\": \"2020-12-17T00:00:00\", \"GueltigAbDatJahr\": 2020, \"GueltigAbDatMM\": 12, \"SexLang\": \"weiblich\", \"sum_WBev\": 5}, {\"GueltigAbDat\": \"2021-10-05T00:00:00\", \"GueltigAbDatJahr\": 2021, \"GueltigAbDatMM\": 10, \"SexLang\": \"weiblich\", \"sum_WBev\": 5}, {\"GueltigAbDat\": \"2020-12-09T00:00:00\", \"GueltigAbDatJahr\": 2020, \"GueltigAbDatMM\": 12, \"SexLang\": \"weiblich\", \"sum_WBev\": 5}, {\"GueltigAbDat\": \"2021-01-03T00:00:00\", \"GueltigAbDatJahr\": 2021, \"GueltigAbDatMM\": 1, \"SexLang\": \"weiblich\", \"sum_WBev\": 5}, {\"GueltigAbDat\": \"2021-01-11T00:00:00\", \"GueltigAbDatJahr\": 2021, \"GueltigAbDatMM\": 1, \"SexLang\": \"m\\u00e4nnlich\", \"sum_WBev\": 5}, {\"GueltigAbDat\": \"2020-12-06T00:00:00\", \"GueltigAbDatJahr\": 2020, \"GueltigAbDatMM\": 12, \"SexLang\": \"m\\u00e4nnlich\", \"sum_WBev\": 5}, {\"GueltigAbDat\": \"2021-04-25T00:00:00\", \"GueltigAbDatJahr\": 2021, \"GueltigAbDatMM\": 4, \"SexLang\": \"m\\u00e4nnlich\", \"sum_WBev\": 5}, {\"GueltigAbDat\": \"2021-06-03T00:00:00\", \"GueltigAbDatJahr\": 2021, \"GueltigAbDatMM\": 6, \"SexLang\": \"m\\u00e4nnlich\", \"sum_WBev\": 5}, {\"GueltigAbDat\": \"2021-10-20T00:00:00\", \"GueltigAbDatJahr\": 2021, \"GueltigAbDatMM\": 10, \"SexLang\": \"m\\u00e4nnlich\", \"sum_WBev\": 5}, {\"GueltigAbDat\": \"2021-01-10T00:00:00\", \"GueltigAbDatJahr\": 2021, \"GueltigAbDatMM\": 1, \"SexLang\": \"m\\u00e4nnlich\", \"sum_WBev\": 5}, {\"GueltigAbDat\": \"2021-04-04T00:00:00\", \"GueltigAbDatJahr\": 2021, \"GueltigAbDatMM\": 4, \"SexLang\": \"weiblich\", \"sum_WBev\": 5}, {\"GueltigAbDat\": \"2021-01-09T00:00:00\", \"GueltigAbDatJahr\": 2021, \"GueltigAbDatMM\": 1, \"SexLang\": \"weiblich\", \"sum_WBev\": 5}, {\"GueltigAbDat\": \"2021-06-02T00:00:00\", \"GueltigAbDatJahr\": 2021, \"GueltigAbDatMM\": 6, \"SexLang\": \"m\\u00e4nnlich\", \"sum_WBev\": 5}, {\"GueltigAbDat\": \"2021-10-14T00:00:00\", \"GueltigAbDatJahr\": 2021, \"GueltigAbDatMM\": 10, \"SexLang\": \"weiblich\", \"sum_WBev\": 5}, {\"GueltigAbDat\": \"2020-12-06T00:00:00\", \"GueltigAbDatJahr\": 2020, \"GueltigAbDatMM\": 12, \"SexLang\": \"weiblich\", \"sum_WBev\": 5}, {\"GueltigAbDat\": \"2021-09-15T00:00:00\", \"GueltigAbDatJahr\": 2021, \"GueltigAbDatMM\": 9, \"SexLang\": \"m\\u00e4nnlich\", \"sum_WBev\": 5}, {\"GueltigAbDat\": \"2021-01-06T00:00:00\", \"GueltigAbDatJahr\": 2021, \"GueltigAbDatMM\": 1, \"SexLang\": \"weiblich\", \"sum_WBev\": 5}, {\"GueltigAbDat\": \"2021-05-31T00:00:00\", \"GueltigAbDatJahr\": 2021, \"GueltigAbDatMM\": 5, \"SexLang\": \"weiblich\", \"sum_WBev\": 5}, {\"GueltigAbDat\": \"2021-04-22T00:00:00\", \"GueltigAbDatJahr\": 2021, \"GueltigAbDatMM\": 4, \"SexLang\": \"m\\u00e4nnlich\", \"sum_WBev\": 5}, {\"GueltigAbDat\": \"2021-01-04T00:00:00\", \"GueltigAbDatJahr\": 2021, \"GueltigAbDatMM\": 1, \"SexLang\": \"weiblich\", \"sum_WBev\": 5}, {\"GueltigAbDat\": \"2021-05-14T00:00:00\", \"GueltigAbDatJahr\": 2021, \"GueltigAbDatMM\": 5, \"SexLang\": \"m\\u00e4nnlich\", \"sum_WBev\": 5}, {\"GueltigAbDat\": \"2021-01-28T00:00:00\", \"GueltigAbDatJahr\": 2021, \"GueltigAbDatMM\": 1, \"SexLang\": \"m\\u00e4nnlich\", \"sum_WBev\": 5}, {\"GueltigAbDat\": \"2021-11-02T00:00:00\", \"GueltigAbDatJahr\": 2021, \"GueltigAbDatMM\": 11, \"SexLang\": \"weiblich\", \"sum_WBev\": 5}, {\"GueltigAbDat\": \"2021-07-23T00:00:00\", \"GueltigAbDatJahr\": 2021, \"GueltigAbDatMM\": 7, \"SexLang\": \"weiblich\", \"sum_WBev\": 5}, {\"GueltigAbDat\": \"2021-03-21T00:00:00\", \"GueltigAbDatJahr\": 2021, \"GueltigAbDatMM\": 3, \"SexLang\": \"weiblich\", \"sum_WBev\": 5}, {\"GueltigAbDat\": \"2021-07-19T00:00:00\", \"GueltigAbDatJahr\": 2021, \"GueltigAbDatMM\": 7, \"SexLang\": \"weiblich\", \"sum_WBev\": 5}, {\"GueltigAbDat\": \"2021-02-28T00:00:00\", \"GueltigAbDatJahr\": 2021, \"GueltigAbDatMM\": 2, \"SexLang\": \"m\\u00e4nnlich\", \"sum_WBev\": 5}, {\"GueltigAbDat\": \"2020-11-05T00:00:00\", \"GueltigAbDatJahr\": 2020, \"GueltigAbDatMM\": 11, \"SexLang\": \"weiblich\", \"sum_WBev\": 5}, {\"GueltigAbDat\": \"2021-02-26T00:00:00\", \"GueltigAbDatJahr\": 2021, \"GueltigAbDatMM\": 2, \"SexLang\": \"m\\u00e4nnlich\", \"sum_WBev\": 5}, {\"GueltigAbDat\": \"2021-05-03T00:00:00\", \"GueltigAbDatJahr\": 2021, \"GueltigAbDatMM\": 5, \"SexLang\": \"weiblich\", \"sum_WBev\": 5}, {\"GueltigAbDat\": \"2021-06-26T00:00:00\", \"GueltigAbDatJahr\": 2021, \"GueltigAbDatMM\": 6, \"SexLang\": \"m\\u00e4nnlich\", \"sum_WBev\": 5}, {\"GueltigAbDat\": \"2021-11-19T00:00:00\", \"GueltigAbDatJahr\": 2021, \"GueltigAbDatMM\": 11, \"SexLang\": \"weiblich\", \"sum_WBev\": 5}, {\"GueltigAbDat\": \"2021-03-26T00:00:00\", \"GueltigAbDatJahr\": 2021, \"GueltigAbDatMM\": 3, \"SexLang\": \"m\\u00e4nnlich\", \"sum_WBev\": 5}, {\"GueltigAbDat\": \"2020-11-08T00:00:00\", \"GueltigAbDatJahr\": 2020, \"GueltigAbDatMM\": 11, \"SexLang\": \"m\\u00e4nnlich\", \"sum_WBev\": 5}, {\"GueltigAbDat\": \"2021-06-23T00:00:00\", \"GueltigAbDatJahr\": 2021, \"GueltigAbDatMM\": 6, \"SexLang\": \"m\\u00e4nnlich\", \"sum_WBev\": 5}, {\"GueltigAbDat\": \"2020-11-08T00:00:00\", \"GueltigAbDatJahr\": 2020, \"GueltigAbDatMM\": 11, \"SexLang\": \"weiblich\", \"sum_WBev\": 5}, {\"GueltigAbDat\": \"2020-12-19T00:00:00\", \"GueltigAbDatJahr\": 2020, \"GueltigAbDatMM\": 12, \"SexLang\": \"m\\u00e4nnlich\", \"sum_WBev\": 5}, {\"GueltigAbDat\": \"2021-02-21T00:00:00\", \"GueltigAbDatJahr\": 2021, \"GueltigAbDatMM\": 2, \"SexLang\": \"m\\u00e4nnlich\", \"sum_WBev\": 5}, {\"GueltigAbDat\": \"2021-05-09T00:00:00\", \"GueltigAbDatJahr\": 2021, \"GueltigAbDatMM\": 5, \"SexLang\": \"weiblich\", \"sum_WBev\": 5}, {\"GueltigAbDat\": \"2020-11-10T00:00:00\", \"GueltigAbDatJahr\": 2020, \"GueltigAbDatMM\": 11, \"SexLang\": \"weiblich\", \"sum_WBev\": 5}, {\"GueltigAbDat\": \"2021-07-18T00:00:00\", \"GueltigAbDatJahr\": 2021, \"GueltigAbDatMM\": 7, \"SexLang\": \"weiblich\", \"sum_WBev\": 5}, {\"GueltigAbDat\": \"2021-03-02T00:00:00\", \"GueltigAbDatJahr\": 2021, \"GueltigAbDatMM\": 3, \"SexLang\": \"weiblich\", \"sum_WBev\": 5}, {\"GueltigAbDat\": \"2021-03-06T00:00:00\", \"GueltigAbDatJahr\": 2021, \"GueltigAbDatMM\": 3, \"SexLang\": \"m\\u00e4nnlich\", \"sum_WBev\": 5}, {\"GueltigAbDat\": \"2021-03-20T00:00:00\", \"GueltigAbDatJahr\": 2021, \"GueltigAbDatMM\": 3, \"SexLang\": \"weiblich\", \"sum_WBev\": 5}, {\"GueltigAbDat\": \"2021-07-03T00:00:00\", \"GueltigAbDatJahr\": 2021, \"GueltigAbDatMM\": 7, \"SexLang\": \"m\\u00e4nnlich\", \"sum_WBev\": 5}, {\"GueltigAbDat\": \"2021-03-13T00:00:00\", \"GueltigAbDatJahr\": 2021, \"GueltigAbDatMM\": 3, \"SexLang\": \"weiblich\", \"sum_WBev\": 5}, {\"GueltigAbDat\": \"2021-07-06T00:00:00\", \"GueltigAbDatJahr\": 2021, \"GueltigAbDatMM\": 7, \"SexLang\": \"m\\u00e4nnlich\", \"sum_WBev\": 5}, {\"GueltigAbDat\": \"2021-03-12T00:00:00\", \"GueltigAbDatJahr\": 2021, \"GueltigAbDatMM\": 3, \"SexLang\": \"weiblich\", \"sum_WBev\": 5}, {\"GueltigAbDat\": \"2021-07-01T00:00:00\", \"GueltigAbDatJahr\": 2021, \"GueltigAbDatMM\": 7, \"SexLang\": \"weiblich\", \"sum_WBev\": 5}, {\"GueltigAbDat\": \"2021-03-17T00:00:00\", \"GueltigAbDatJahr\": 2021, \"GueltigAbDatMM\": 3, \"SexLang\": \"weiblich\", \"sum_WBev\": 5}, {\"GueltigAbDat\": \"2021-03-09T00:00:00\", \"GueltigAbDatJahr\": 2021, \"GueltigAbDatMM\": 3, \"SexLang\": \"weiblich\", \"sum_WBev\": 5}, {\"GueltigAbDat\": \"2021-11-27T00:00:00\", \"GueltigAbDatJahr\": 2021, \"GueltigAbDatMM\": 11, \"SexLang\": \"weiblich\", \"sum_WBev\": 5}, {\"GueltigAbDat\": \"2021-07-10T00:00:00\", \"GueltigAbDatJahr\": 2021, \"GueltigAbDatMM\": 7, \"SexLang\": \"weiblich\", \"sum_WBev\": 5}, {\"GueltigAbDat\": \"2021-03-18T00:00:00\", \"GueltigAbDatJahr\": 2021, \"GueltigAbDatMM\": 3, \"SexLang\": \"m\\u00e4nnlich\", \"sum_WBev\": 5}, {\"GueltigAbDat\": \"2021-11-27T00:00:00\", \"GueltigAbDatJahr\": 2021, \"GueltigAbDatMM\": 11, \"SexLang\": \"m\\u00e4nnlich\", \"sum_WBev\": 5}, {\"GueltigAbDat\": \"2021-03-19T00:00:00\", \"GueltigAbDatJahr\": 2021, \"GueltigAbDatMM\": 3, \"SexLang\": \"weiblich\", \"sum_WBev\": 5}, {\"GueltigAbDat\": \"2021-07-13T00:00:00\", \"GueltigAbDatJahr\": 2021, \"GueltigAbDatMM\": 7, \"SexLang\": \"weiblich\", \"sum_WBev\": 5}, {\"GueltigAbDat\": \"2021-07-14T00:00:00\", \"GueltigAbDatJahr\": 2021, \"GueltigAbDatMM\": 7, \"SexLang\": \"weiblich\", \"sum_WBev\": 5}, {\"GueltigAbDat\": \"2021-07-15T00:00:00\", \"GueltigAbDatJahr\": 2021, \"GueltigAbDatMM\": 7, \"SexLang\": \"m\\u00e4nnlich\", \"sum_WBev\": 5}, {\"GueltigAbDat\": \"2021-02-17T00:00:00\", \"GueltigAbDatJahr\": 2021, \"GueltigAbDatMM\": 2, \"SexLang\": \"m\\u00e4nnlich\", \"sum_WBev\": 5}, {\"GueltigAbDat\": \"2021-04-21T00:00:00\", \"GueltigAbDatJahr\": 2021, \"GueltigAbDatMM\": 4, \"SexLang\": \"weiblich\", \"sum_WBev\": 5}, {\"GueltigAbDat\": \"2021-08-07T00:00:00\", \"GueltigAbDatJahr\": 2021, \"GueltigAbDatMM\": 8, \"SexLang\": \"m\\u00e4nnlich\", \"sum_WBev\": 5}, {\"GueltigAbDat\": \"2021-03-29T00:00:00\", \"GueltigAbDatJahr\": 2021, \"GueltigAbDatMM\": 3, \"SexLang\": \"weiblich\", \"sum_WBev\": 5}, {\"GueltigAbDat\": \"2021-04-02T00:00:00\", \"GueltigAbDatJahr\": 2021, \"GueltigAbDatMM\": 4, \"SexLang\": \"weiblich\", \"sum_WBev\": 5}, {\"GueltigAbDat\": \"2021-04-30T00:00:00\", \"GueltigAbDatJahr\": 2021, \"GueltigAbDatMM\": 4, \"SexLang\": \"weiblich\", \"sum_WBev\": 5}, {\"GueltigAbDat\": \"2021-02-02T00:00:00\", \"GueltigAbDatJahr\": 2021, \"GueltigAbDatMM\": 2, \"SexLang\": \"weiblich\", \"sum_WBev\": 5}, {\"GueltigAbDat\": \"2021-11-05T00:00:00\", \"GueltigAbDatJahr\": 2021, \"GueltigAbDatMM\": 11, \"SexLang\": \"weiblich\", \"sum_WBev\": 5}, {\"GueltigAbDat\": \"2021-08-15T00:00:00\", \"GueltigAbDatJahr\": 2021, \"GueltigAbDatMM\": 8, \"SexLang\": \"m\\u00e4nnlich\", \"sum_WBev\": 5}, {\"GueltigAbDat\": \"2021-11-08T00:00:00\", \"GueltigAbDatJahr\": 2021, \"GueltigAbDatMM\": 11, \"SexLang\": \"weiblich\", \"sum_WBev\": 5}, {\"GueltigAbDat\": \"2021-08-09T00:00:00\", \"GueltigAbDatJahr\": 2021, \"GueltigAbDatMM\": 8, \"SexLang\": \"m\\u00e4nnlich\", \"sum_WBev\": 5}, {\"GueltigAbDat\": \"2020-11-19T00:00:00\", \"GueltigAbDatJahr\": 2020, \"GueltigAbDatMM\": 11, \"SexLang\": \"m\\u00e4nnlich\", \"sum_WBev\": 5}, {\"GueltigAbDat\": \"2021-08-08T00:00:00\", \"GueltigAbDatJahr\": 2021, \"GueltigAbDatMM\": 8, \"SexLang\": \"m\\u00e4nnlich\", \"sum_WBev\": 5}, {\"GueltigAbDat\": \"2020-11-20T00:00:00\", \"GueltigAbDatJahr\": 2020, \"GueltigAbDatMM\": 11, \"SexLang\": \"m\\u00e4nnlich\", \"sum_WBev\": 5}, {\"GueltigAbDat\": \"2021-06-18T00:00:00\", \"GueltigAbDatJahr\": 2021, \"GueltigAbDatMM\": 6, \"SexLang\": \"weiblich\", \"sum_WBev\": 5}, {\"GueltigAbDat\": \"2021-04-03T00:00:00\", \"GueltigAbDatJahr\": 2021, \"GueltigAbDatMM\": 4, \"SexLang\": \"m\\u00e4nnlich\", \"sum_WBev\": 5}, {\"GueltigAbDat\": \"2021-04-04T00:00:00\", \"GueltigAbDatJahr\": 2021, \"GueltigAbDatMM\": 4, \"SexLang\": \"m\\u00e4nnlich\", \"sum_WBev\": 5}, {\"GueltigAbDat\": \"2021-05-13T00:00:00\", \"GueltigAbDatJahr\": 2021, \"GueltigAbDatMM\": 5, \"SexLang\": \"weiblich\", \"sum_WBev\": 5}, {\"GueltigAbDat\": \"2021-08-01T00:00:00\", \"GueltigAbDatJahr\": 2021, \"GueltigAbDatMM\": 8, \"SexLang\": \"weiblich\", \"sum_WBev\": 5}, {\"GueltigAbDat\": \"2021-11-03T00:00:00\", \"GueltigAbDatJahr\": 2021, \"GueltigAbDatMM\": 11, \"SexLang\": \"weiblich\", \"sum_WBev\": 5}, {\"GueltigAbDat\": \"2021-05-06T00:00:00\", \"GueltigAbDatJahr\": 2021, \"GueltigAbDatMM\": 5, \"SexLang\": \"m\\u00e4nnlich\", \"sum_WBev\": 5}, {\"GueltigAbDat\": \"2020-11-15T00:00:00\", \"GueltigAbDatJahr\": 2020, \"GueltigAbDatMM\": 11, \"SexLang\": \"m\\u00e4nnlich\", \"sum_WBev\": 5}, {\"GueltigAbDat\": \"2020-11-22T00:00:00\", \"GueltigAbDatJahr\": 2020, \"GueltigAbDatMM\": 11, \"SexLang\": \"m\\u00e4nnlich\", \"sum_WBev\": 5}, {\"GueltigAbDat\": \"2021-08-04T00:00:00\", \"GueltigAbDatJahr\": 2021, \"GueltigAbDatMM\": 8, \"SexLang\": \"m\\u00e4nnlich\", \"sum_WBev\": 5}, {\"GueltigAbDat\": \"2020-11-21T00:00:00\", \"GueltigAbDatJahr\": 2020, \"GueltigAbDatMM\": 11, \"SexLang\": \"m\\u00e4nnlich\", \"sum_WBev\": 4}, {\"GueltigAbDat\": \"2020-12-14T00:00:00\", \"GueltigAbDatJahr\": 2020, \"GueltigAbDatMM\": 12, \"SexLang\": \"weiblich\", \"sum_WBev\": 4}, {\"GueltigAbDat\": \"2021-10-30T00:00:00\", \"GueltigAbDatJahr\": 2021, \"GueltigAbDatMM\": 10, \"SexLang\": \"m\\u00e4nnlich\", \"sum_WBev\": 4}, {\"GueltigAbDat\": \"2021-05-24T00:00:00\", \"GueltigAbDatJahr\": 2021, \"GueltigAbDatMM\": 5, \"SexLang\": \"m\\u00e4nnlich\", \"sum_WBev\": 4}, {\"GueltigAbDat\": \"2021-10-08T00:00:00\", \"GueltigAbDatJahr\": 2021, \"GueltigAbDatMM\": 10, \"SexLang\": \"m\\u00e4nnlich\", \"sum_WBev\": 4}, {\"GueltigAbDat\": \"2021-10-07T00:00:00\", \"GueltigAbDatJahr\": 2021, \"GueltigAbDatMM\": 10, \"SexLang\": \"m\\u00e4nnlich\", \"sum_WBev\": 4}, {\"GueltigAbDat\": \"2021-10-31T00:00:00\", \"GueltigAbDatJahr\": 2021, \"GueltigAbDatMM\": 10, \"SexLang\": \"weiblich\", \"sum_WBev\": 4}, {\"GueltigAbDat\": \"2021-11-28T00:00:00\", \"GueltigAbDatJahr\": 2021, \"GueltigAbDatMM\": 11, \"SexLang\": \"m\\u00e4nnlich\", \"sum_WBev\": 4}, {\"GueltigAbDat\": \"2020-12-13T00:00:00\", \"GueltigAbDatJahr\": 2020, \"GueltigAbDatMM\": 12, \"SexLang\": \"weiblich\", \"sum_WBev\": 4}, {\"GueltigAbDat\": \"2021-11-16T00:00:00\", \"GueltigAbDatJahr\": 2021, \"GueltigAbDatMM\": 11, \"SexLang\": \"m\\u00e4nnlich\", \"sum_WBev\": 4}, {\"GueltigAbDat\": \"2021-05-16T00:00:00\", \"GueltigAbDatJahr\": 2021, \"GueltigAbDatMM\": 5, \"SexLang\": \"m\\u00e4nnlich\", \"sum_WBev\": 4}, {\"GueltigAbDat\": \"2021-11-06T00:00:00\", \"GueltigAbDatJahr\": 2021, \"GueltigAbDatMM\": 11, \"SexLang\": \"m\\u00e4nnlich\", \"sum_WBev\": 4}, {\"GueltigAbDat\": \"2020-11-18T00:00:00\", \"GueltigAbDatJahr\": 2020, \"GueltigAbDatMM\": 11, \"SexLang\": \"weiblich\", \"sum_WBev\": 4}, {\"GueltigAbDat\": \"2021-05-02T00:00:00\", \"GueltigAbDatJahr\": 2021, \"GueltigAbDatMM\": 5, \"SexLang\": \"m\\u00e4nnlich\", \"sum_WBev\": 4}, {\"GueltigAbDat\": \"2021-11-12T00:00:00\", \"GueltigAbDatJahr\": 2021, \"GueltigAbDatMM\": 11, \"SexLang\": \"weiblich\", \"sum_WBev\": 4}, {\"GueltigAbDat\": \"2021-04-24T00:00:00\", \"GueltigAbDatJahr\": 2021, \"GueltigAbDatMM\": 4, \"SexLang\": \"weiblich\", \"sum_WBev\": 4}, {\"GueltigAbDat\": \"2021-05-11T00:00:00\", \"GueltigAbDatJahr\": 2021, \"GueltigAbDatMM\": 5, \"SexLang\": \"weiblich\", \"sum_WBev\": 4}, {\"GueltigAbDat\": \"2021-11-11T00:00:00\", \"GueltigAbDatJahr\": 2021, \"GueltigAbDatMM\": 11, \"SexLang\": \"weiblich\", \"sum_WBev\": 4}, {\"GueltigAbDat\": \"2021-05-12T00:00:00\", \"GueltigAbDatJahr\": 2021, \"GueltigAbDatMM\": 5, \"SexLang\": \"m\\u00e4nnlich\", \"sum_WBev\": 4}, {\"GueltigAbDat\": \"2021-05-18T00:00:00\", \"GueltigAbDatJahr\": 2021, \"GueltigAbDatMM\": 5, \"SexLang\": \"weiblich\", \"sum_WBev\": 4}, {\"GueltigAbDat\": \"2021-11-20T00:00:00\", \"GueltigAbDatJahr\": 2021, \"GueltigAbDatMM\": 11, \"SexLang\": \"weiblich\", \"sum_WBev\": 4}, {\"GueltigAbDat\": \"2021-11-07T00:00:00\", \"GueltigAbDatJahr\": 2021, \"GueltigAbDatMM\": 11, \"SexLang\": \"weiblich\", \"sum_WBev\": 4}, {\"GueltigAbDat\": \"2021-04-28T00:00:00\", \"GueltigAbDatJahr\": 2021, \"GueltigAbDatMM\": 4, \"SexLang\": \"m\\u00e4nnlich\", \"sum_WBev\": 4}, {\"GueltigAbDat\": \"2021-10-17T00:00:00\", \"GueltigAbDatJahr\": 2021, \"GueltigAbDatMM\": 10, \"SexLang\": \"m\\u00e4nnlich\", \"sum_WBev\": 4}, {\"GueltigAbDat\": \"2021-04-24T00:00:00\", \"GueltigAbDatJahr\": 2021, \"GueltigAbDatMM\": 4, \"SexLang\": \"m\\u00e4nnlich\", \"sum_WBev\": 4}, {\"GueltigAbDat\": \"2020-11-04T00:00:00\", \"GueltigAbDatJahr\": 2020, \"GueltigAbDatMM\": 11, \"SexLang\": \"m\\u00e4nnlich\", \"sum_WBev\": 4}, {\"GueltigAbDat\": \"2021-11-25T00:00:00\", \"GueltigAbDatJahr\": 2021, \"GueltigAbDatMM\": 11, \"SexLang\": \"m\\u00e4nnlich\", \"sum_WBev\": 4}, {\"GueltigAbDat\": \"2021-05-02T00:00:00\", \"GueltigAbDatJahr\": 2021, \"GueltigAbDatMM\": 5, \"SexLang\": \"weiblich\", \"sum_WBev\": 4}, {\"GueltigAbDat\": \"2020-12-12T00:00:00\", \"GueltigAbDatJahr\": 2020, \"GueltigAbDatMM\": 12, \"SexLang\": \"weiblich\", \"sum_WBev\": 4}, {\"GueltigAbDat\": \"2020-12-05T00:00:00\", \"GueltigAbDatJahr\": 2020, \"GueltigAbDatMM\": 12, \"SexLang\": \"weiblich\", \"sum_WBev\": 4}, {\"GueltigAbDat\": \"2021-09-17T00:00:00\", \"GueltigAbDatJahr\": 2021, \"GueltigAbDatMM\": 9, \"SexLang\": \"m\\u00e4nnlich\", \"sum_WBev\": 4}, {\"GueltigAbDat\": \"2021-10-04T00:00:00\", \"GueltigAbDatJahr\": 2021, \"GueltigAbDatMM\": 10, \"SexLang\": \"m\\u00e4nnlich\", \"sum_WBev\": 4}, {\"GueltigAbDat\": \"2021-09-02T00:00:00\", \"GueltigAbDatJahr\": 2021, \"GueltigAbDatMM\": 9, \"SexLang\": \"weiblich\", \"sum_WBev\": 4}, {\"GueltigAbDat\": \"2021-09-10T00:00:00\", \"GueltigAbDatJahr\": 2021, \"GueltigAbDatMM\": 9, \"SexLang\": \"weiblich\", \"sum_WBev\": 4}, {\"GueltigAbDat\": \"2021-08-01T00:00:00\", \"GueltigAbDatJahr\": 2021, \"GueltigAbDatMM\": 8, \"SexLang\": \"m\\u00e4nnlich\", \"sum_WBev\": 4}, {\"GueltigAbDat\": \"2021-09-07T00:00:00\", \"GueltigAbDatJahr\": 2021, \"GueltigAbDatMM\": 9, \"SexLang\": \"weiblich\", \"sum_WBev\": 4}, {\"GueltigAbDat\": \"2021-09-07T00:00:00\", \"GueltigAbDatJahr\": 2021, \"GueltigAbDatMM\": 9, \"SexLang\": \"m\\u00e4nnlich\", \"sum_WBev\": 4}, {\"GueltigAbDat\": \"2021-06-05T00:00:00\", \"GueltigAbDatJahr\": 2021, \"GueltigAbDatMM\": 6, \"SexLang\": \"m\\u00e4nnlich\", \"sum_WBev\": 4}, {\"GueltigAbDat\": \"2021-09-04T00:00:00\", \"GueltigAbDatJahr\": 2021, \"GueltigAbDatMM\": 9, \"SexLang\": \"m\\u00e4nnlich\", \"sum_WBev\": 4}, {\"GueltigAbDat\": \"2021-01-14T00:00:00\", \"GueltigAbDatJahr\": 2021, \"GueltigAbDatMM\": 1, \"SexLang\": \"m\\u00e4nnlich\", \"sum_WBev\": 4}, {\"GueltigAbDat\": \"2021-02-12T00:00:00\", \"GueltigAbDatJahr\": 2021, \"GueltigAbDatMM\": 2, \"SexLang\": \"m\\u00e4nnlich\", \"sum_WBev\": 4}, {\"GueltigAbDat\": \"2021-08-12T00:00:00\", \"GueltigAbDatJahr\": 2021, \"GueltigAbDatMM\": 8, \"SexLang\": \"weiblich\", \"sum_WBev\": 4}, {\"GueltigAbDat\": \"2021-07-25T00:00:00\", \"GueltigAbDatJahr\": 2021, \"GueltigAbDatMM\": 7, \"SexLang\": \"m\\u00e4nnlich\", \"sum_WBev\": 4}, {\"GueltigAbDat\": \"2021-06-14T00:00:00\", \"GueltigAbDatJahr\": 2021, \"GueltigAbDatMM\": 6, \"SexLang\": \"weiblich\", \"sum_WBev\": 4}, {\"GueltigAbDat\": \"2021-06-08T00:00:00\", \"GueltigAbDatJahr\": 2021, \"GueltigAbDatMM\": 6, \"SexLang\": \"m\\u00e4nnlich\", \"sum_WBev\": 4}, {\"GueltigAbDat\": \"2021-01-21T00:00:00\", \"GueltigAbDatJahr\": 2021, \"GueltigAbDatMM\": 1, \"SexLang\": \"weiblich\", \"sum_WBev\": 4}, {\"GueltigAbDat\": \"2021-02-01T00:00:00\", \"GueltigAbDatJahr\": 2021, \"GueltigAbDatMM\": 2, \"SexLang\": \"weiblich\", \"sum_WBev\": 4}, {\"GueltigAbDat\": \"2021-04-05T00:00:00\", \"GueltigAbDatJahr\": 2021, \"GueltigAbDatMM\": 4, \"SexLang\": \"m\\u00e4nnlich\", \"sum_WBev\": 4}, {\"GueltigAbDat\": \"2021-01-23T00:00:00\", \"GueltigAbDatJahr\": 2021, \"GueltigAbDatMM\": 1, \"SexLang\": \"m\\u00e4nnlich\", \"sum_WBev\": 4}, {\"GueltigAbDat\": \"2021-01-24T00:00:00\", \"GueltigAbDatJahr\": 2021, \"GueltigAbDatMM\": 1, \"SexLang\": \"weiblich\", \"sum_WBev\": 4}, {\"GueltigAbDat\": \"2021-04-03T00:00:00\", \"GueltigAbDatJahr\": 2021, \"GueltigAbDatMM\": 4, \"SexLang\": \"weiblich\", \"sum_WBev\": 4}, {\"GueltigAbDat\": \"2021-02-21T00:00:00\", \"GueltigAbDatJahr\": 2021, \"GueltigAbDatMM\": 2, \"SexLang\": \"weiblich\", \"sum_WBev\": 4}, {\"GueltigAbDat\": \"2021-06-13T00:00:00\", \"GueltigAbDatJahr\": 2021, \"GueltigAbDatMM\": 6, \"SexLang\": \"weiblich\", \"sum_WBev\": 4}, {\"GueltigAbDat\": \"2020-12-31T00:00:00\", \"GueltigAbDatJahr\": 2020, \"GueltigAbDatMM\": 12, \"SexLang\": \"weiblich\", \"sum_WBev\": 4}, {\"GueltigAbDat\": \"2021-04-20T00:00:00\", \"GueltigAbDatJahr\": 2021, \"GueltigAbDatMM\": 4, \"SexLang\": \"m\\u00e4nnlich\", \"sum_WBev\": 4}, {\"GueltigAbDat\": \"2021-10-02T00:00:00\", \"GueltigAbDatJahr\": 2021, \"GueltigAbDatMM\": 10, \"SexLang\": \"weiblich\", \"sum_WBev\": 4}, {\"GueltigAbDat\": \"2021-07-02T00:00:00\", \"GueltigAbDatJahr\": 2021, \"GueltigAbDatMM\": 7, \"SexLang\": \"m\\u00e4nnlich\", \"sum_WBev\": 4}, {\"GueltigAbDat\": \"2020-12-25T00:00:00\", \"GueltigAbDatJahr\": 2020, \"GueltigAbDatMM\": 12, \"SexLang\": \"m\\u00e4nnlich\", \"sum_WBev\": 4}, {\"GueltigAbDat\": \"2021-04-16T00:00:00\", \"GueltigAbDatJahr\": 2021, \"GueltigAbDatMM\": 4, \"SexLang\": \"m\\u00e4nnlich\", \"sum_WBev\": 4}, {\"GueltigAbDat\": \"2021-07-22T00:00:00\", \"GueltigAbDatJahr\": 2021, \"GueltigAbDatMM\": 7, \"SexLang\": \"m\\u00e4nnlich\", \"sum_WBev\": 4}, {\"GueltigAbDat\": \"2021-02-26T00:00:00\", \"GueltigAbDatJahr\": 2021, \"GueltigAbDatMM\": 2, \"SexLang\": \"weiblich\", \"sum_WBev\": 4}, {\"GueltigAbDat\": \"2021-07-17T00:00:00\", \"GueltigAbDatJahr\": 2021, \"GueltigAbDatMM\": 7, \"SexLang\": \"weiblich\", \"sum_WBev\": 4}, {\"GueltigAbDat\": \"2021-09-25T00:00:00\", \"GueltigAbDatJahr\": 2021, \"GueltigAbDatMM\": 9, \"SexLang\": \"m\\u00e4nnlich\", \"sum_WBev\": 4}, {\"GueltigAbDat\": \"2021-07-08T00:00:00\", \"GueltigAbDatJahr\": 2021, \"GueltigAbDatMM\": 7, \"SexLang\": \"weiblich\", \"sum_WBev\": 4}, {\"GueltigAbDat\": \"2021-03-07T00:00:00\", \"GueltigAbDatJahr\": 2021, \"GueltigAbDatMM\": 3, \"SexLang\": \"weiblich\", \"sum_WBev\": 4}, {\"GueltigAbDat\": \"2021-01-01T00:00:00\", \"GueltigAbDatJahr\": 2021, \"GueltigAbDatMM\": 1, \"SexLang\": \"m\\u00e4nnlich\", \"sum_WBev\": 4}, {\"GueltigAbDat\": \"2021-03-02T00:00:00\", \"GueltigAbDatJahr\": 2021, \"GueltigAbDatMM\": 3, \"SexLang\": \"m\\u00e4nnlich\", \"sum_WBev\": 4}, {\"GueltigAbDat\": \"2021-11-25T00:00:00\", \"GueltigAbDatJahr\": 2021, \"GueltigAbDatMM\": 11, \"SexLang\": \"weiblich\", \"sum_WBev\": 3}, {\"GueltigAbDat\": \"2021-06-17T00:00:00\", \"GueltigAbDatJahr\": 2021, \"GueltigAbDatMM\": 6, \"SexLang\": \"m\\u00e4nnlich\", \"sum_WBev\": 3}, {\"GueltigAbDat\": \"2021-03-22T00:00:00\", \"GueltigAbDatJahr\": 2021, \"GueltigAbDatMM\": 3, \"SexLang\": \"m\\u00e4nnlich\", \"sum_WBev\": 3}, {\"GueltigAbDat\": \"2021-05-08T00:00:00\", \"GueltigAbDatJahr\": 2021, \"GueltigAbDatMM\": 5, \"SexLang\": \"m\\u00e4nnlich\", \"sum_WBev\": 3}, {\"GueltigAbDat\": \"2021-11-29T00:00:00\", \"GueltigAbDatJahr\": 2021, \"GueltigAbDatMM\": 11, \"SexLang\": \"weiblich\", \"sum_WBev\": 3}, {\"GueltigAbDat\": \"2021-02-02T00:00:00\", \"GueltigAbDatJahr\": 2021, \"GueltigAbDatMM\": 2, \"SexLang\": \"m\\u00e4nnlich\", \"sum_WBev\": 3}, {\"GueltigAbDat\": \"2021-02-12T00:00:00\", \"GueltigAbDatJahr\": 2021, \"GueltigAbDatMM\": 2, \"SexLang\": \"weiblich\", \"sum_WBev\": 3}, {\"GueltigAbDat\": \"2021-11-20T00:00:00\", \"GueltigAbDatJahr\": 2021, \"GueltigAbDatMM\": 11, \"SexLang\": \"m\\u00e4nnlich\", \"sum_WBev\": 3}, {\"GueltigAbDat\": \"2021-08-04T00:00:00\", \"GueltigAbDatJahr\": 2021, \"GueltigAbDatMM\": 8, \"SexLang\": \"weiblich\", \"sum_WBev\": 3}, {\"GueltigAbDat\": \"2021-03-28T00:00:00\", \"GueltigAbDatJahr\": 2021, \"GueltigAbDatMM\": 3, \"SexLang\": \"weiblich\", \"sum_WBev\": 3}, {\"GueltigAbDat\": \"2021-11-13T00:00:00\", \"GueltigAbDatJahr\": 2021, \"GueltigAbDatMM\": 11, \"SexLang\": \"m\\u00e4nnlich\", \"sum_WBev\": 3}, {\"GueltigAbDat\": \"2021-08-03T00:00:00\", \"GueltigAbDatJahr\": 2021, \"GueltigAbDatMM\": 8, \"SexLang\": \"m\\u00e4nnlich\", \"sum_WBev\": 3}, {\"GueltigAbDat\": \"2021-02-14T00:00:00\", \"GueltigAbDatJahr\": 2021, \"GueltigAbDatMM\": 2, \"SexLang\": \"weiblich\", \"sum_WBev\": 3}, {\"GueltigAbDat\": \"2021-06-26T00:00:00\", \"GueltigAbDatJahr\": 2021, \"GueltigAbDatMM\": 6, \"SexLang\": \"weiblich\", \"sum_WBev\": 3}, {\"GueltigAbDat\": \"2021-10-03T00:00:00\", \"GueltigAbDatJahr\": 2021, \"GueltigAbDatMM\": 10, \"SexLang\": \"weiblich\", \"sum_WBev\": 3}, {\"GueltigAbDat\": \"2021-07-28T00:00:00\", \"GueltigAbDatJahr\": 2021, \"GueltigAbDatMM\": 7, \"SexLang\": \"m\\u00e4nnlich\", \"sum_WBev\": 3}, {\"GueltigAbDat\": \"2020-11-07T00:00:00\", \"GueltigAbDatJahr\": 2020, \"GueltigAbDatMM\": 11, \"SexLang\": \"m\\u00e4nnlich\", \"sum_WBev\": 3}, {\"GueltigAbDat\": \"2021-07-25T00:00:00\", \"GueltigAbDatJahr\": 2021, \"GueltigAbDatMM\": 7, \"SexLang\": \"weiblich\", \"sum_WBev\": 3}, {\"GueltigAbDat\": \"2021-11-21T00:00:00\", \"GueltigAbDatJahr\": 2021, \"GueltigAbDatMM\": 11, \"SexLang\": \"weiblich\", \"sum_WBev\": 3}, {\"GueltigAbDat\": \"2021-07-30T00:00:00\", \"GueltigAbDatJahr\": 2021, \"GueltigAbDatMM\": 7, \"SexLang\": \"m\\u00e4nnlich\", \"sum_WBev\": 3}, {\"GueltigAbDat\": \"2021-07-03T00:00:00\", \"GueltigAbDatJahr\": 2021, \"GueltigAbDatMM\": 7, \"SexLang\": \"weiblich\", \"sum_WBev\": 3}, {\"GueltigAbDat\": \"2020-12-27T00:00:00\", \"GueltigAbDatJahr\": 2020, \"GueltigAbDatMM\": 12, \"SexLang\": \"weiblich\", \"sum_WBev\": 3}, {\"GueltigAbDat\": \"2020-12-15T00:00:00\", \"GueltigAbDatJahr\": 2020, \"GueltigAbDatMM\": 12, \"SexLang\": \"m\\u00e4nnlich\", \"sum_WBev\": 3}, {\"GueltigAbDat\": \"2021-09-12T00:00:00\", \"GueltigAbDatJahr\": 2021, \"GueltigAbDatMM\": 9, \"SexLang\": \"weiblich\", \"sum_WBev\": 3}, {\"GueltigAbDat\": \"2021-03-15T00:00:00\", \"GueltigAbDatJahr\": 2021, \"GueltigAbDatMM\": 3, \"SexLang\": \"m\\u00e4nnlich\", \"sum_WBev\": 3}, {\"GueltigAbDat\": \"2021-05-30T00:00:00\", \"GueltigAbDatJahr\": 2021, \"GueltigAbDatMM\": 5, \"SexLang\": \"m\\u00e4nnlich\", \"sum_WBev\": 3}, {\"GueltigAbDat\": \"2021-09-20T00:00:00\", \"GueltigAbDatJahr\": 2021, \"GueltigAbDatMM\": 9, \"SexLang\": \"weiblich\", \"sum_WBev\": 3}, {\"GueltigAbDat\": \"2021-10-22T00:00:00\", \"GueltigAbDatJahr\": 2021, \"GueltigAbDatMM\": 10, \"SexLang\": \"m\\u00e4nnlich\", \"sum_WBev\": 3}, {\"GueltigAbDat\": \"2020-12-03T00:00:00\", \"GueltigAbDatJahr\": 2020, \"GueltigAbDatMM\": 12, \"SexLang\": \"m\\u00e4nnlich\", \"sum_WBev\": 3}, {\"GueltigAbDat\": \"2021-10-13T00:00:00\", \"GueltigAbDatJahr\": 2021, \"GueltigAbDatMM\": 10, \"SexLang\": \"m\\u00e4nnlich\", \"sum_WBev\": 3}, {\"GueltigAbDat\": \"2020-12-27T00:00:00\", \"GueltigAbDatJahr\": 2020, \"GueltigAbDatMM\": 12, \"SexLang\": \"m\\u00e4nnlich\", \"sum_WBev\": 3}, {\"GueltigAbDat\": \"2020-12-26T00:00:00\", \"GueltigAbDatJahr\": 2020, \"GueltigAbDatMM\": 12, \"SexLang\": \"weiblich\", \"sum_WBev\": 3}, {\"GueltigAbDat\": \"2021-09-13T00:00:00\", \"GueltigAbDatJahr\": 2021, \"GueltigAbDatMM\": 9, \"SexLang\": \"weiblich\", \"sum_WBev\": 3}, {\"GueltigAbDat\": \"2021-05-15T00:00:00\", \"GueltigAbDatJahr\": 2021, \"GueltigAbDatMM\": 5, \"SexLang\": \"weiblich\", \"sum_WBev\": 3}, {\"GueltigAbDat\": \"2020-11-28T00:00:00\", \"GueltigAbDatJahr\": 2020, \"GueltigAbDatMM\": 11, \"SexLang\": \"weiblich\", \"sum_WBev\": 3}, {\"GueltigAbDat\": \"2021-01-18T00:00:00\", \"GueltigAbDatJahr\": 2021, \"GueltigAbDatMM\": 1, \"SexLang\": \"m\\u00e4nnlich\", \"sum_WBev\": 3}, {\"GueltigAbDat\": \"2021-08-21T00:00:00\", \"GueltigAbDatJahr\": 2021, \"GueltigAbDatMM\": 8, \"SexLang\": \"m\\u00e4nnlich\", \"sum_WBev\": 3}, {\"GueltigAbDat\": \"2021-04-05T00:00:00\", \"GueltigAbDatJahr\": 2021, \"GueltigAbDatMM\": 4, \"SexLang\": \"weiblich\", \"sum_WBev\": 3}, {\"GueltigAbDat\": \"2021-05-23T00:00:00\", \"GueltigAbDatJahr\": 2021, \"GueltigAbDatMM\": 5, \"SexLang\": \"weiblich\", \"sum_WBev\": 3}, {\"GueltigAbDat\": \"2021-04-19T00:00:00\", \"GueltigAbDatJahr\": 2021, \"GueltigAbDatMM\": 4, \"SexLang\": \"weiblich\", \"sum_WBev\": 2}, {\"GueltigAbDat\": \"2021-09-18T00:00:00\", \"GueltigAbDatJahr\": 2021, \"GueltigAbDatMM\": 9, \"SexLang\": \"m\\u00e4nnlich\", \"sum_WBev\": 2}, {\"GueltigAbDat\": \"2021-05-31T00:00:00\", \"GueltigAbDatJahr\": 2021, \"GueltigAbDatMM\": 5, \"SexLang\": \"m\\u00e4nnlich\", \"sum_WBev\": 2}, {\"GueltigAbDat\": \"2021-01-05T00:00:00\", \"GueltigAbDatJahr\": 2021, \"GueltigAbDatMM\": 1, \"SexLang\": \"m\\u00e4nnlich\", \"sum_WBev\": 2}, {\"GueltigAbDat\": \"2020-11-07T00:00:00\", \"GueltigAbDatJahr\": 2020, \"GueltigAbDatMM\": 11, \"SexLang\": \"weiblich\", \"sum_WBev\": 2}, {\"GueltigAbDat\": \"2021-07-10T00:00:00\", \"GueltigAbDatJahr\": 2021, \"GueltigAbDatMM\": 7, \"SexLang\": \"m\\u00e4nnlich\", \"sum_WBev\": 2}, {\"GueltigAbDat\": \"2021-10-15T00:00:00\", \"GueltigAbDatJahr\": 2021, \"GueltigAbDatMM\": 10, \"SexLang\": \"m\\u00e4nnlich\", \"sum_WBev\": 2}, {\"GueltigAbDat\": \"2021-07-11T00:00:00\", \"GueltigAbDatJahr\": 2021, \"GueltigAbDatMM\": 7, \"SexLang\": \"weiblich\", \"sum_WBev\": 2}, {\"GueltigAbDat\": \"2021-05-04T00:00:00\", \"GueltigAbDatJahr\": 2021, \"GueltigAbDatMM\": 5, \"SexLang\": \"weiblich\", \"sum_WBev\": 2}, {\"GueltigAbDat\": \"2021-01-01T00:00:00\", \"GueltigAbDatJahr\": 2021, \"GueltigAbDatMM\": 1, \"SexLang\": \"weiblich\", \"sum_WBev\": 2}, {\"GueltigAbDat\": \"2021-11-28T00:00:00\", \"GueltigAbDatJahr\": 2021, \"GueltigAbDatMM\": 11, \"SexLang\": \"weiblich\", \"sum_WBev\": 2}, {\"GueltigAbDat\": \"2021-05-23T00:00:00\", \"GueltigAbDatJahr\": 2021, \"GueltigAbDatMM\": 5, \"SexLang\": \"m\\u00e4nnlich\", \"sum_WBev\": 2}, {\"GueltigAbDat\": \"2021-01-09T00:00:00\", \"GueltigAbDatJahr\": 2021, \"GueltigAbDatMM\": 1, \"SexLang\": \"m\\u00e4nnlich\", \"sum_WBev\": 2}, {\"GueltigAbDat\": \"2021-06-12T00:00:00\", \"GueltigAbDatJahr\": 2021, \"GueltigAbDatMM\": 6, \"SexLang\": \"m\\u00e4nnlich\", \"sum_WBev\": 2}, {\"GueltigAbDat\": \"2021-05-03T00:00:00\", \"GueltigAbDatJahr\": 2021, \"GueltigAbDatMM\": 5, \"SexLang\": \"m\\u00e4nnlich\", \"sum_WBev\": 2}, {\"GueltigAbDat\": \"2021-02-17T00:00:00\", \"GueltigAbDatJahr\": 2021, \"GueltigAbDatMM\": 2, \"SexLang\": \"weiblich\", \"sum_WBev\": 2}, {\"GueltigAbDat\": \"2020-11-22T00:00:00\", \"GueltigAbDatJahr\": 2020, \"GueltigAbDatMM\": 11, \"SexLang\": \"weiblich\", \"sum_WBev\": 2}, {\"GueltigAbDat\": \"2021-01-19T00:00:00\", \"GueltigAbDatJahr\": 2021, \"GueltigAbDatMM\": 1, \"SexLang\": \"m\\u00e4nnlich\", \"sum_WBev\": 2}, {\"GueltigAbDat\": \"2021-11-06T00:00:00\", \"GueltigAbDatJahr\": 2021, \"GueltigAbDatMM\": 11, \"SexLang\": \"weiblich\", \"sum_WBev\": 2}, {\"GueltigAbDat\": \"2021-11-07T00:00:00\", \"GueltigAbDatJahr\": 2021, \"GueltigAbDatMM\": 11, \"SexLang\": \"m\\u00e4nnlich\", \"sum_WBev\": 2}, {\"GueltigAbDat\": \"2021-02-06T00:00:00\", \"GueltigAbDatJahr\": 2021, \"GueltigAbDatMM\": 2, \"SexLang\": \"weiblich\", \"sum_WBev\": 2}, {\"GueltigAbDat\": \"2021-06-18T00:00:00\", \"GueltigAbDatJahr\": 2021, \"GueltigAbDatMM\": 6, \"SexLang\": \"m\\u00e4nnlich\", \"sum_WBev\": 2}, {\"GueltigAbDat\": \"2021-02-08T00:00:00\", \"GueltigAbDatJahr\": 2021, \"GueltigAbDatMM\": 2, \"SexLang\": \"weiblich\", \"sum_WBev\": 2}, {\"GueltigAbDat\": \"2021-06-19T00:00:00\", \"GueltigAbDatJahr\": 2021, \"GueltigAbDatMM\": 6, \"SexLang\": \"weiblich\", \"sum_WBev\": 2}, {\"GueltigAbDat\": \"2020-11-17T00:00:00\", \"GueltigAbDatJahr\": 2020, \"GueltigAbDatMM\": 11, \"SexLang\": \"weiblich\", \"sum_WBev\": 2}, {\"GueltigAbDat\": \"2020-11-30T00:00:00\", \"GueltigAbDatJahr\": 2020, \"GueltigAbDatMM\": 11, \"SexLang\": \"weiblich\", \"sum_WBev\": 2}, {\"GueltigAbDat\": \"2021-10-24T00:00:00\", \"GueltigAbDatJahr\": 2021, \"GueltigAbDatMM\": 10, \"SexLang\": \"weiblich\", \"sum_WBev\": 2}, {\"GueltigAbDat\": \"2021-09-05T00:00:00\", \"GueltigAbDatJahr\": 2021, \"GueltigAbDatMM\": 9, \"SexLang\": \"m\\u00e4nnlich\", \"sum_WBev\": 2}, {\"GueltigAbDat\": \"2021-11-14T00:00:00\", \"GueltigAbDatJahr\": 2021, \"GueltigAbDatMM\": 11, \"SexLang\": \"m\\u00e4nnlich\", \"sum_WBev\": 2}, {\"GueltigAbDat\": \"2020-12-04T00:00:00\", \"GueltigAbDatJahr\": 2020, \"GueltigAbDatMM\": 12, \"SexLang\": \"m\\u00e4nnlich\", \"sum_WBev\": 2}, {\"GueltigAbDat\": \"2021-11-15T00:00:00\", \"GueltigAbDatJahr\": 2021, \"GueltigAbDatMM\": 11, \"SexLang\": \"m\\u00e4nnlich\", \"sum_WBev\": 2}, {\"GueltigAbDat\": \"2020-11-14T00:00:00\", \"GueltigAbDatJahr\": 2020, \"GueltigAbDatMM\": 11, \"SexLang\": \"m\\u00e4nnlich\", \"sum_WBev\": 2}, {\"GueltigAbDat\": \"2021-09-09T00:00:00\", \"GueltigAbDatJahr\": 2021, \"GueltigAbDatMM\": 9, \"SexLang\": \"weiblich\", \"sum_WBev\": 2}, {\"GueltigAbDat\": \"2021-04-13T00:00:00\", \"GueltigAbDatJahr\": 2021, \"GueltigAbDatMM\": 4, \"SexLang\": \"weiblich\", \"sum_WBev\": 2}, {\"GueltigAbDat\": \"2021-01-27T00:00:00\", \"GueltigAbDatJahr\": 2021, \"GueltigAbDatMM\": 1, \"SexLang\": \"weiblich\", \"sum_WBev\": 2}]}}, {\"mode\": \"vega-lite\"});\n",
       "</script>"
      ],
      "text/plain": [
       "alt.LayerChart(...)"
      ]
     },
     "execution_count": 151,
     "metadata": {},
     "output_type": "execute_result"
    }
   ],
   "source": [
    "highlight = alt.selection(type='single', on='mouseover',\n",
    "                          fields=['SexLang'], nearest=True)\n",
    "#x='date:StichtagDatJahr',\n",
    "base = alt.Chart(myAgg.reset_index().query('sum_WBev>1'), title=\"Title\").encode(\n",
    "    x=alt.X('GueltigAbDat', axis=alt.Axis(title='Jahr'))# , axis=alt.Axis(format='%', title='percentage')\n",
    "    , y=alt.X('sum_WBev', axis=alt.Axis(title='Anz. Personen'))\n",
    "    , color=alt.Color('SexLang', legend=alt.Legend(title=\"Geschlecht\", orient=\"right\"))  \n",
    "    ,tooltip=['GueltigAbDat', 'SexLang', 'sum_WBev']    \n",
    ")\n",
    "points = base.mark_circle().encode(\n",
    "    opacity=alt.value(0.75)\n",
    ").add_selection(\n",
    "    highlight\n",
    ").properties(\n",
    "    width=900 , height=350\n",
    ")\n",
    "lines = base.mark_line().encode(\n",
    "    size=alt.condition(~highlight, alt.value(0.5), alt.value(4))\n",
    ").interactive()\n",
    "\n",
    "lines + points"
   ]
  },
  {
   "cell_type": "markdown",
   "metadata": {},
   "source": [
    "#### Entwicklung nach Heimat"
   ]
  },
  {
   "cell_type": "code",
   "execution_count": 153,
   "metadata": {},
   "outputs": [
    {
     "data": {
      "text/html": [
       "<div>\n",
       "<style scoped>\n",
       "    .dataframe tbody tr th:only-of-type {\n",
       "        vertical-align: middle;\n",
       "    }\n",
       "\n",
       "    .dataframe tbody tr th {\n",
       "        vertical-align: top;\n",
       "    }\n",
       "\n",
       "    .dataframe thead th {\n",
       "        text-align: right;\n",
       "    }\n",
       "</style>\n",
       "<table border=\"1\" class=\"dataframe\">\n",
       "  <thead>\n",
       "    <tr style=\"text-align: right;\">\n",
       "      <th></th>\n",
       "      <th>GueltigAbDat</th>\n",
       "      <th>GueltigAbDatJahr</th>\n",
       "      <th>GueltigAbDatMM</th>\n",
       "      <th>HerkunftLang</th>\n",
       "      <th>sum_WBev</th>\n",
       "    </tr>\n",
       "  </thead>\n",
       "  <tbody>\n",
       "    <tr>\n",
       "      <th>0</th>\n",
       "      <td>2021-01-08</td>\n",
       "      <td>2021</td>\n",
       "      <td>1</td>\n",
       "      <td>Schweizer/in</td>\n",
       "      <td>20</td>\n",
       "    </tr>\n",
       "    <tr>\n",
       "      <th>1</th>\n",
       "      <td>2021-07-12</td>\n",
       "      <td>2021</td>\n",
       "      <td>7</td>\n",
       "      <td>Schweizer/in</td>\n",
       "      <td>19</td>\n",
       "    </tr>\n",
       "  </tbody>\n",
       "</table>\n",
       "</div>"
      ],
      "text/plain": [
       "  GueltigAbDat  GueltigAbDatJahr  GueltigAbDatMM  HerkunftLang  sum_WBev\n",
       "0   2021-01-08              2021               1  Schweizer/in        20\n",
       "1   2021-07-12              2021               7  Schweizer/in        19"
      ]
     },
     "execution_count": 153,
     "metadata": {},
     "output_type": "execute_result"
    }
   ],
   "source": [
    "#myAgg = data2betested.loc[\"2008-11\":\"2021-11\"] \\\n",
    "myAgg = data2betested.loc[\"2020-11\":\"2021-11\"] \\\n",
    "    .groupby(['GueltigAbDat','GueltigAbDatJahr', 'GueltigAbDatMM', 'HerkunftLang']) \\\n",
    "    .agg(sum_WBev=('AnzGebuWir', 'sum')) \\\n",
    "    .sort_values('sum_WBev', ascending=False) \n",
    "\n",
    "myAgg.reset_index().head(2)"
   ]
  },
  {
   "cell_type": "code",
   "execution_count": 154,
   "metadata": {},
   "outputs": [
    {
     "data": {
      "text/html": [
       "\n",
       "<div id=\"altair-viz-5e97b4ddc7b946bbbef2fefb1f65c9de\"></div>\n",
       "<script type=\"text/javascript\">\n",
       "  (function(spec, embedOpt){\n",
       "    let outputDiv = document.currentScript.previousElementSibling;\n",
       "    if (outputDiv.id !== \"altair-viz-5e97b4ddc7b946bbbef2fefb1f65c9de\") {\n",
       "      outputDiv = document.getElementById(\"altair-viz-5e97b4ddc7b946bbbef2fefb1f65c9de\");\n",
       "    }\n",
       "    const paths = {\n",
       "      \"vega\": \"https://cdn.jsdelivr.net/npm//vega@5?noext\",\n",
       "      \"vega-lib\": \"https://cdn.jsdelivr.net/npm//vega-lib?noext\",\n",
       "      \"vega-lite\": \"https://cdn.jsdelivr.net/npm//vega-lite@4.8.1?noext\",\n",
       "      \"vega-embed\": \"https://cdn.jsdelivr.net/npm//vega-embed@6?noext\",\n",
       "    };\n",
       "\n",
       "    function loadScript(lib) {\n",
       "      return new Promise(function(resolve, reject) {\n",
       "        var s = document.createElement('script');\n",
       "        s.src = paths[lib];\n",
       "        s.async = true;\n",
       "        s.onload = () => resolve(paths[lib]);\n",
       "        s.onerror = () => reject(`Error loading script: ${paths[lib]}`);\n",
       "        document.getElementsByTagName(\"head\")[0].appendChild(s);\n",
       "      });\n",
       "    }\n",
       "\n",
       "    function showError(err) {\n",
       "      outputDiv.innerHTML = `<div class=\"error\" style=\"color:red;\">${err}</div>`;\n",
       "      throw err;\n",
       "    }\n",
       "\n",
       "    function displayChart(vegaEmbed) {\n",
       "      vegaEmbed(outputDiv, spec, embedOpt)\n",
       "        .catch(err => showError(`Javascript Error: ${err.message}<br>This usually means there's a typo in your chart specification. See the javascript console for the full traceback.`));\n",
       "    }\n",
       "\n",
       "    if(typeof define === \"function\" && define.amd) {\n",
       "      requirejs.config({paths});\n",
       "      require([\"vega-embed\"], displayChart, err => showError(`Error loading script: ${err.message}`));\n",
       "    } else if (typeof vegaEmbed === \"function\") {\n",
       "      displayChart(vegaEmbed);\n",
       "    } else {\n",
       "      loadScript(\"vega\")\n",
       "        .then(() => loadScript(\"vega-lite\"))\n",
       "        .then(() => loadScript(\"vega-embed\"))\n",
       "        .catch(showError)\n",
       "        .then(() => displayChart(vegaEmbed));\n",
       "    }\n",
       "  })({\"config\": {\"view\": {\"continuousWidth\": 400, \"continuousHeight\": 300}}, \"layer\": [{\"mark\": \"line\", \"encoding\": {\"color\": {\"type\": \"nominal\", \"field\": \"HerkunftLang\", \"legend\": {\"title\": \"Herkunft\"}}, \"size\": {\"condition\": {\"value\": 0.5, \"selection\": {\"not\": \"selector051\"}}, \"value\": 4}, \"tooltip\": [{\"type\": \"temporal\", \"field\": \"GueltigAbDat\"}, {\"type\": \"nominal\", \"field\": \"HerkunftLang\"}, {\"type\": \"quantitative\", \"field\": \"sum_WBev\"}], \"x\": {\"type\": \"temporal\", \"axis\": {\"title\": \"Jahr\"}, \"field\": \"GueltigAbDat\"}, \"y\": {\"type\": \"quantitative\", \"axis\": {\"title\": \"Anz. Personen\"}, \"field\": \"sum_WBev\"}}, \"selection\": {\"selector052\": {\"type\": \"interval\", \"bind\": \"scales\", \"encodings\": [\"x\", \"y\"]}}, \"title\": \"Title\"}, {\"mark\": \"circle\", \"encoding\": {\"color\": {\"type\": \"nominal\", \"field\": \"HerkunftLang\", \"legend\": {\"title\": \"Herkunft\"}}, \"opacity\": {\"value\": 0.75}, \"tooltip\": [{\"type\": \"temporal\", \"field\": \"GueltigAbDat\"}, {\"type\": \"nominal\", \"field\": \"HerkunftLang\"}, {\"type\": \"quantitative\", \"field\": \"sum_WBev\"}], \"x\": {\"type\": \"temporal\", \"axis\": {\"title\": \"Jahr\"}, \"field\": \"GueltigAbDat\"}, \"y\": {\"type\": \"quantitative\", \"axis\": {\"title\": \"Anz. Personen\"}, \"field\": \"sum_WBev\"}}, \"height\": 350, \"selection\": {\"selector051\": {\"type\": \"single\", \"on\": \"mouseover\", \"fields\": [\"HerkunftLang\"], \"nearest\": true}}, \"title\": \"Title\", \"width\": 900}], \"data\": {\"name\": \"data-bc5433fdb63db47c31ca756171cb26bc\"}, \"$schema\": \"https://vega.github.io/schema/vega-lite/v4.8.1.json\", \"datasets\": {\"data-bc5433fdb63db47c31ca756171cb26bc\": [{\"GueltigAbDat\": \"2021-01-08T00:00:00\", \"GueltigAbDatJahr\": 2021, \"GueltigAbDatMM\": 1, \"HerkunftLang\": \"Schweizer/in\", \"sum_WBev\": 20}, {\"GueltigAbDat\": \"2021-07-12T00:00:00\", \"GueltigAbDatJahr\": 2021, \"GueltigAbDatMM\": 7, \"HerkunftLang\": \"Schweizer/in\", \"sum_WBev\": 19}, {\"GueltigAbDat\": \"2021-06-01T00:00:00\", \"GueltigAbDatJahr\": 2021, \"GueltigAbDatMM\": 6, \"HerkunftLang\": \"Schweizer/in\", \"sum_WBev\": 19}, {\"GueltigAbDat\": \"2021-08-10T00:00:00\", \"GueltigAbDatJahr\": 2021, \"GueltigAbDatMM\": 8, \"HerkunftLang\": \"Schweizer/in\", \"sum_WBev\": 17}, {\"GueltigAbDat\": \"2021-10-06T00:00:00\", \"GueltigAbDatJahr\": 2021, \"GueltigAbDatMM\": 10, \"HerkunftLang\": \"Schweizer/in\", \"sum_WBev\": 17}, {\"GueltigAbDat\": \"2021-03-30T00:00:00\", \"GueltigAbDatJahr\": 2021, \"GueltigAbDatMM\": 3, \"HerkunftLang\": \"Schweizer/in\", \"sum_WBev\": 17}, {\"GueltigAbDat\": \"2021-09-01T00:00:00\", \"GueltigAbDatJahr\": 2021, \"GueltigAbDatMM\": 9, \"HerkunftLang\": \"Schweizer/in\", \"sum_WBev\": 16}, {\"GueltigAbDat\": \"2021-03-03T00:00:00\", \"GueltigAbDatJahr\": 2021, \"GueltigAbDatMM\": 3, \"HerkunftLang\": \"Schweizer/in\", \"sum_WBev\": 16}, {\"GueltigAbDat\": \"2021-07-09T00:00:00\", \"GueltigAbDatJahr\": 2021, \"GueltigAbDatMM\": 7, \"HerkunftLang\": \"Schweizer/in\", \"sum_WBev\": 16}, {\"GueltigAbDat\": \"2021-11-24T00:00:00\", \"GueltigAbDatJahr\": 2021, \"GueltigAbDatMM\": 11, \"HerkunftLang\": \"Schweizer/in\", \"sum_WBev\": 16}, {\"GueltigAbDat\": \"2021-10-09T00:00:00\", \"GueltigAbDatJahr\": 2021, \"GueltigAbDatMM\": 10, \"HerkunftLang\": \"Schweizer/in\", \"sum_WBev\": 16}, {\"GueltigAbDat\": \"2021-06-15T00:00:00\", \"GueltigAbDatJahr\": 2021, \"GueltigAbDatMM\": 6, \"HerkunftLang\": \"Schweizer/in\", \"sum_WBev\": 16}, {\"GueltigAbDat\": \"2020-11-02T00:00:00\", \"GueltigAbDatJahr\": 2020, \"GueltigAbDatMM\": 11, \"HerkunftLang\": \"Schweizer/in\", \"sum_WBev\": 16}, {\"GueltigAbDat\": \"2021-08-14T00:00:00\", \"GueltigAbDatJahr\": 2021, \"GueltigAbDatMM\": 8, \"HerkunftLang\": \"Schweizer/in\", \"sum_WBev\": 15}, {\"GueltigAbDat\": \"2021-01-25T00:00:00\", \"GueltigAbDatJahr\": 2021, \"GueltigAbDatMM\": 1, \"HerkunftLang\": \"Schweizer/in\", \"sum_WBev\": 15}, {\"GueltigAbDat\": \"2021-10-26T00:00:00\", \"GueltigAbDatJahr\": 2021, \"GueltigAbDatMM\": 10, \"HerkunftLang\": \"Schweizer/in\", \"sum_WBev\": 15}, {\"GueltigAbDat\": \"2021-08-27T00:00:00\", \"GueltigAbDatJahr\": 2021, \"GueltigAbDatMM\": 8, \"HerkunftLang\": \"Schweizer/in\", \"sum_WBev\": 15}, {\"GueltigAbDat\": \"2021-06-29T00:00:00\", \"GueltigAbDatJahr\": 2021, \"GueltigAbDatMM\": 6, \"HerkunftLang\": \"Schweizer/in\", \"sum_WBev\": 15}, {\"GueltigAbDat\": \"2021-04-09T00:00:00\", \"GueltigAbDatJahr\": 2021, \"GueltigAbDatMM\": 4, \"HerkunftLang\": \"Schweizer/in\", \"sum_WBev\": 15}, {\"GueltigAbDat\": \"2021-05-17T00:00:00\", \"GueltigAbDatJahr\": 2021, \"GueltigAbDatMM\": 5, \"HerkunftLang\": \"Schweizer/in\", \"sum_WBev\": 15}, {\"GueltigAbDat\": \"2021-08-20T00:00:00\", \"GueltigAbDatJahr\": 2021, \"GueltigAbDatMM\": 8, \"HerkunftLang\": \"Schweizer/in\", \"sum_WBev\": 15}, {\"GueltigAbDat\": \"2021-08-25T00:00:00\", \"GueltigAbDatJahr\": 2021, \"GueltigAbDatMM\": 8, \"HerkunftLang\": \"Schweizer/in\", \"sum_WBev\": 15}, {\"GueltigAbDat\": \"2021-05-28T00:00:00\", \"GueltigAbDatJahr\": 2021, \"GueltigAbDatMM\": 5, \"HerkunftLang\": \"Schweizer/in\", \"sum_WBev\": 15}, {\"GueltigAbDat\": \"2021-04-01T00:00:00\", \"GueltigAbDatJahr\": 2021, \"GueltigAbDatMM\": 4, \"HerkunftLang\": \"Schweizer/in\", \"sum_WBev\": 15}, {\"GueltigAbDat\": \"2021-10-14T00:00:00\", \"GueltigAbDatJahr\": 2021, \"GueltigAbDatMM\": 10, \"HerkunftLang\": \"Schweizer/in\", \"sum_WBev\": 15}, {\"GueltigAbDat\": \"2020-11-03T00:00:00\", \"GueltigAbDatJahr\": 2020, \"GueltigAbDatMM\": 11, \"HerkunftLang\": \"Schweizer/in\", \"sum_WBev\": 15}, {\"GueltigAbDat\": \"2021-09-23T00:00:00\", \"GueltigAbDatJahr\": 2021, \"GueltigAbDatMM\": 9, \"HerkunftLang\": \"Schweizer/in\", \"sum_WBev\": 15}, {\"GueltigAbDat\": \"2020-12-22T00:00:00\", \"GueltigAbDatJahr\": 2020, \"GueltigAbDatMM\": 12, \"HerkunftLang\": \"Schweizer/in\", \"sum_WBev\": 15}, {\"GueltigAbDat\": \"2020-12-07T00:00:00\", \"GueltigAbDatJahr\": 2020, \"GueltigAbDatMM\": 12, \"HerkunftLang\": \"Schweizer/in\", \"sum_WBev\": 14}, {\"GueltigAbDat\": \"2020-12-23T00:00:00\", \"GueltigAbDatJahr\": 2020, \"GueltigAbDatMM\": 12, \"HerkunftLang\": \"Schweizer/in\", \"sum_WBev\": 14}, {\"GueltigAbDat\": \"2020-12-28T00:00:00\", \"GueltigAbDatJahr\": 2020, \"GueltigAbDatMM\": 12, \"HerkunftLang\": \"Schweizer/in\", \"sum_WBev\": 14}, {\"GueltigAbDat\": \"2020-12-30T00:00:00\", \"GueltigAbDatJahr\": 2020, \"GueltigAbDatMM\": 12, \"HerkunftLang\": \"Schweizer/in\", \"sum_WBev\": 14}, {\"GueltigAbDat\": \"2021-10-11T00:00:00\", \"GueltigAbDatJahr\": 2021, \"GueltigAbDatMM\": 10, \"HerkunftLang\": \"Schweizer/in\", \"sum_WBev\": 14}, {\"GueltigAbDat\": \"2021-07-05T00:00:00\", \"GueltigAbDatJahr\": 2021, \"GueltigAbDatMM\": 7, \"HerkunftLang\": \"Schweizer/in\", \"sum_WBev\": 14}, {\"GueltigAbDat\": \"2021-07-27T00:00:00\", \"GueltigAbDatJahr\": 2021, \"GueltigAbDatMM\": 7, \"HerkunftLang\": \"Schweizer/in\", \"sum_WBev\": 14}, {\"GueltigAbDat\": \"2020-12-16T00:00:00\", \"GueltigAbDatJahr\": 2020, \"GueltigAbDatMM\": 12, \"HerkunftLang\": \"Schweizer/in\", \"sum_WBev\": 14}, {\"GueltigAbDat\": \"2021-06-23T00:00:00\", \"GueltigAbDatJahr\": 2021, \"GueltigAbDatMM\": 6, \"HerkunftLang\": \"Schweizer/in\", \"sum_WBev\": 14}, {\"GueltigAbDat\": \"2021-07-16T00:00:00\", \"GueltigAbDatJahr\": 2021, \"GueltigAbDatMM\": 7, \"HerkunftLang\": \"Schweizer/in\", \"sum_WBev\": 14}, {\"GueltigAbDat\": \"2021-09-21T00:00:00\", \"GueltigAbDatJahr\": 2021, \"GueltigAbDatMM\": 9, \"HerkunftLang\": \"Schweizer/in\", \"sum_WBev\": 14}, {\"GueltigAbDat\": \"2021-08-24T00:00:00\", \"GueltigAbDatJahr\": 2021, \"GueltigAbDatMM\": 8, \"HerkunftLang\": \"Schweizer/in\", \"sum_WBev\": 14}, {\"GueltigAbDat\": \"2021-05-27T00:00:00\", \"GueltigAbDatJahr\": 2021, \"GueltigAbDatMM\": 5, \"HerkunftLang\": \"Schweizer/in\", \"sum_WBev\": 14}, {\"GueltigAbDat\": \"2021-06-25T00:00:00\", \"GueltigAbDatJahr\": 2021, \"GueltigAbDatMM\": 6, \"HerkunftLang\": \"Schweizer/in\", \"sum_WBev\": 14}, {\"GueltigAbDat\": \"2021-06-20T00:00:00\", \"GueltigAbDatJahr\": 2021, \"GueltigAbDatMM\": 6, \"HerkunftLang\": \"Schweizer/in\", \"sum_WBev\": 14}, {\"GueltigAbDat\": \"2021-04-17T00:00:00\", \"GueltigAbDatJahr\": 2021, \"GueltigAbDatMM\": 4, \"HerkunftLang\": \"Schweizer/in\", \"sum_WBev\": 14}, {\"GueltigAbDat\": \"2020-11-11T00:00:00\", \"GueltigAbDatJahr\": 2020, \"GueltigAbDatMM\": 11, \"HerkunftLang\": \"Schweizer/in\", \"sum_WBev\": 14}, {\"GueltigAbDat\": \"2021-07-07T00:00:00\", \"GueltigAbDatJahr\": 2021, \"GueltigAbDatMM\": 7, \"HerkunftLang\": \"Schweizer/in\", \"sum_WBev\": 14}, {\"GueltigAbDat\": \"2021-04-15T00:00:00\", \"GueltigAbDatJahr\": 2021, \"GueltigAbDatMM\": 4, \"HerkunftLang\": \"Schweizer/in\", \"sum_WBev\": 14}, {\"GueltigAbDat\": \"2021-11-01T00:00:00\", \"GueltigAbDatJahr\": 2021, \"GueltigAbDatMM\": 11, \"HerkunftLang\": \"Schweizer/in\", \"sum_WBev\": 13}, {\"GueltigAbDat\": \"2021-08-02T00:00:00\", \"GueltigAbDatJahr\": 2021, \"GueltigAbDatMM\": 8, \"HerkunftLang\": \"Schweizer/in\", \"sum_WBev\": 13}, {\"GueltigAbDat\": \"2020-12-02T00:00:00\", \"GueltigAbDatJahr\": 2020, \"GueltigAbDatMM\": 12, \"HerkunftLang\": \"Schweizer/in\", \"sum_WBev\": 13}, {\"GueltigAbDat\": \"2021-07-26T00:00:00\", \"GueltigAbDatJahr\": 2021, \"GueltigAbDatMM\": 7, \"HerkunftLang\": \"Schweizer/in\", \"sum_WBev\": 13}, {\"GueltigAbDat\": \"2021-06-27T00:00:00\", \"GueltigAbDatJahr\": 2021, \"GueltigAbDatMM\": 6, \"HerkunftLang\": \"Schweizer/in\", \"sum_WBev\": 13}, {\"GueltigAbDat\": \"2021-04-26T00:00:00\", \"GueltigAbDatJahr\": 2021, \"GueltigAbDatMM\": 4, \"HerkunftLang\": \"Schweizer/in\", \"sum_WBev\": 13}, {\"GueltigAbDat\": \"2021-06-11T00:00:00\", \"GueltigAbDatJahr\": 2021, \"GueltigAbDatMM\": 6, \"HerkunftLang\": \"Schweizer/in\", \"sum_WBev\": 13}, {\"GueltigAbDat\": \"2021-08-11T00:00:00\", \"GueltigAbDatJahr\": 2021, \"GueltigAbDatMM\": 8, \"HerkunftLang\": \"Schweizer/in\", \"sum_WBev\": 13}, {\"GueltigAbDat\": \"2021-07-06T00:00:00\", \"GueltigAbDatJahr\": 2021, \"GueltigAbDatMM\": 7, \"HerkunftLang\": \"Schweizer/in\", \"sum_WBev\": 13}, {\"GueltigAbDat\": \"2021-10-12T00:00:00\", \"GueltigAbDatJahr\": 2021, \"GueltigAbDatMM\": 10, \"HerkunftLang\": \"Schweizer/in\", \"sum_WBev\": 13}, {\"GueltigAbDat\": \"2021-08-16T00:00:00\", \"GueltigAbDatJahr\": 2021, \"GueltigAbDatMM\": 8, \"HerkunftLang\": \"Schweizer/in\", \"sum_WBev\": 13}, {\"GueltigAbDat\": \"2020-11-12T00:00:00\", \"GueltigAbDatJahr\": 2020, \"GueltigAbDatMM\": 11, \"HerkunftLang\": \"Schweizer/in\", \"sum_WBev\": 13}, {\"GueltigAbDat\": \"2021-05-10T00:00:00\", \"GueltigAbDatJahr\": 2021, \"GueltigAbDatMM\": 5, \"HerkunftLang\": \"Schweizer/in\", \"sum_WBev\": 13}, {\"GueltigAbDat\": \"2021-11-05T00:00:00\", \"GueltigAbDatJahr\": 2021, \"GueltigAbDatMM\": 11, \"HerkunftLang\": \"Schweizer/in\", \"sum_WBev\": 13}, {\"GueltigAbDat\": \"2021-02-22T00:00:00\", \"GueltigAbDatJahr\": 2021, \"GueltigAbDatMM\": 2, \"HerkunftLang\": \"Schweizer/in\", \"sum_WBev\": 13}, {\"GueltigAbDat\": \"2021-06-21T00:00:00\", \"GueltigAbDatJahr\": 2021, \"GueltigAbDatMM\": 6, \"HerkunftLang\": \"Schweizer/in\", \"sum_WBev\": 13}, {\"GueltigAbDat\": \"2020-11-10T00:00:00\", \"GueltigAbDatJahr\": 2020, \"GueltigAbDatMM\": 11, \"HerkunftLang\": \"Schweizer/in\", \"sum_WBev\": 13}, {\"GueltigAbDat\": \"2021-11-08T00:00:00\", \"GueltigAbDatJahr\": 2021, \"GueltigAbDatMM\": 11, \"HerkunftLang\": \"Schweizer/in\", \"sum_WBev\": 13}, {\"GueltigAbDat\": \"2021-03-31T00:00:00\", \"GueltigAbDatJahr\": 2021, \"GueltigAbDatMM\": 3, \"HerkunftLang\": \"Schweizer/in\", \"sum_WBev\": 13}, {\"GueltigAbDat\": \"2021-02-10T00:00:00\", \"GueltigAbDatJahr\": 2021, \"GueltigAbDatMM\": 2, \"HerkunftLang\": \"Schweizer/in\", \"sum_WBev\": 13}, {\"GueltigAbDat\": \"2021-05-07T00:00:00\", \"GueltigAbDatJahr\": 2021, \"GueltigAbDatMM\": 5, \"HerkunftLang\": \"Schweizer/in\", \"sum_WBev\": 13}, {\"GueltigAbDat\": \"2021-08-17T00:00:00\", \"GueltigAbDatJahr\": 2021, \"GueltigAbDatMM\": 8, \"HerkunftLang\": \"Schweizer/in\", \"sum_WBev\": 13}, {\"GueltigAbDat\": \"2021-02-08T00:00:00\", \"GueltigAbDatJahr\": 2021, \"GueltigAbDatMM\": 2, \"HerkunftLang\": \"Schweizer/in\", \"sum_WBev\": 13}, {\"GueltigAbDat\": \"2021-10-05T00:00:00\", \"GueltigAbDatJahr\": 2021, \"GueltigAbDatMM\": 10, \"HerkunftLang\": \"Schweizer/in\", \"sum_WBev\": 13}, {\"GueltigAbDat\": \"2020-11-04T00:00:00\", \"GueltigAbDatJahr\": 2020, \"GueltigAbDatMM\": 11, \"HerkunftLang\": \"Schweizer/in\", \"sum_WBev\": 13}, {\"GueltigAbDat\": \"2021-07-01T00:00:00\", \"GueltigAbDatJahr\": 2021, \"GueltigAbDatMM\": 7, \"HerkunftLang\": \"Schweizer/in\", \"sum_WBev\": 13}, {\"GueltigAbDat\": \"2021-06-04T00:00:00\", \"GueltigAbDatJahr\": 2021, \"GueltigAbDatMM\": 6, \"HerkunftLang\": \"Schweizer/in\", \"sum_WBev\": 13}, {\"GueltigAbDat\": \"2021-05-13T00:00:00\", \"GueltigAbDatJahr\": 2021, \"GueltigAbDatMM\": 5, \"HerkunftLang\": \"Schweizer/in\", \"sum_WBev\": 13}, {\"GueltigAbDat\": \"2021-10-02T00:00:00\", \"GueltigAbDatJahr\": 2021, \"GueltigAbDatMM\": 10, \"HerkunftLang\": \"Schweizer/in\", \"sum_WBev\": 12}, {\"GueltigAbDat\": \"2021-08-13T00:00:00\", \"GueltigAbDatJahr\": 2021, \"GueltigAbDatMM\": 8, \"HerkunftLang\": \"Schweizer/in\", \"sum_WBev\": 12}, {\"GueltigAbDat\": \"2021-04-07T00:00:00\", \"GueltigAbDatJahr\": 2021, \"GueltigAbDatMM\": 4, \"HerkunftLang\": \"Schweizer/in\", \"sum_WBev\": 12}, {\"GueltigAbDat\": \"2020-12-18T00:00:00\", \"GueltigAbDatJahr\": 2020, \"GueltigAbDatMM\": 12, \"HerkunftLang\": \"Schweizer/in\", \"sum_WBev\": 12}, {\"GueltigAbDat\": \"2021-08-05T00:00:00\", \"GueltigAbDatJahr\": 2021, \"GueltigAbDatMM\": 8, \"HerkunftLang\": \"Schweizer/in\", \"sum_WBev\": 12}, {\"GueltigAbDat\": \"2021-01-02T00:00:00\", \"GueltigAbDatJahr\": 2021, \"GueltigAbDatMM\": 1, \"HerkunftLang\": \"Schweizer/in\", \"sum_WBev\": 12}, {\"GueltigAbDat\": \"2021-08-22T00:00:00\", \"GueltigAbDatJahr\": 2021, \"GueltigAbDatMM\": 8, \"HerkunftLang\": \"Schweizer/in\", \"sum_WBev\": 12}, {\"GueltigAbDat\": \"2021-03-26T00:00:00\", \"GueltigAbDatJahr\": 2021, \"GueltigAbDatMM\": 3, \"HerkunftLang\": \"Schweizer/in\", \"sum_WBev\": 12}, {\"GueltigAbDat\": \"2021-01-16T00:00:00\", \"GueltigAbDatJahr\": 2021, \"GueltigAbDatMM\": 1, \"HerkunftLang\": \"Schweizer/in\", \"sum_WBev\": 12}, {\"GueltigAbDat\": \"2020-12-31T00:00:00\", \"GueltigAbDatJahr\": 2020, \"GueltigAbDatMM\": 12, \"HerkunftLang\": \"Schweizer/in\", \"sum_WBev\": 12}, {\"GueltigAbDat\": \"2021-11-19T00:00:00\", \"GueltigAbDatJahr\": 2021, \"GueltigAbDatMM\": 11, \"HerkunftLang\": \"Schweizer/in\", \"sum_WBev\": 12}, {\"GueltigAbDat\": \"2021-10-01T00:00:00\", \"GueltigAbDatJahr\": 2021, \"GueltigAbDatMM\": 10, \"HerkunftLang\": \"Schweizer/in\", \"sum_WBev\": 12}, {\"GueltigAbDat\": \"2021-01-18T00:00:00\", \"GueltigAbDatJahr\": 2021, \"GueltigAbDatMM\": 1, \"HerkunftLang\": \"Schweizer/in\", \"sum_WBev\": 12}, {\"GueltigAbDat\": \"2021-08-23T00:00:00\", \"GueltigAbDatJahr\": 2021, \"GueltigAbDatMM\": 8, \"HerkunftLang\": \"Schweizer/in\", \"sum_WBev\": 12}, {\"GueltigAbDat\": \"2021-06-22T00:00:00\", \"GueltigAbDatJahr\": 2021, \"GueltigAbDatMM\": 6, \"HerkunftLang\": \"Schweizer/in\", \"sum_WBev\": 12}, {\"GueltigAbDat\": \"2021-01-15T00:00:00\", \"GueltigAbDatJahr\": 2021, \"GueltigAbDatMM\": 1, \"HerkunftLang\": \"Schweizer/in\", \"sum_WBev\": 12}, {\"GueltigAbDat\": \"2021-08-06T00:00:00\", \"GueltigAbDatJahr\": 2021, \"GueltigAbDatMM\": 8, \"HerkunftLang\": \"Schweizer/in\", \"sum_WBev\": 12}, {\"GueltigAbDat\": \"2021-06-16T00:00:00\", \"GueltigAbDatJahr\": 2021, \"GueltigAbDatMM\": 6, \"HerkunftLang\": \"Schweizer/in\", \"sum_WBev\": 12}, {\"GueltigAbDat\": \"2021-02-09T00:00:00\", \"GueltigAbDatJahr\": 2021, \"GueltigAbDatMM\": 2, \"HerkunftLang\": \"Schweizer/in\", \"sum_WBev\": 12}, {\"GueltigAbDat\": \"2021-05-01T00:00:00\", \"GueltigAbDatJahr\": 2021, \"GueltigAbDatMM\": 5, \"HerkunftLang\": \"Schweizer/in\", \"sum_WBev\": 12}, {\"GueltigAbDat\": \"2021-05-12T00:00:00\", \"GueltigAbDatJahr\": 2021, \"GueltigAbDatMM\": 5, \"HerkunftLang\": \"Schweizer/in\", \"sum_WBev\": 12}, {\"GueltigAbDat\": \"2021-02-19T00:00:00\", \"GueltigAbDatJahr\": 2021, \"GueltigAbDatMM\": 2, \"HerkunftLang\": \"Schweizer/in\", \"sum_WBev\": 12}, {\"GueltigAbDat\": \"2021-02-18T00:00:00\", \"GueltigAbDatJahr\": 2021, \"GueltigAbDatMM\": 2, \"HerkunftLang\": \"Schweizer/in\", \"sum_WBev\": 12}, {\"GueltigAbDat\": \"2021-09-14T00:00:00\", \"GueltigAbDatJahr\": 2021, \"GueltigAbDatMM\": 9, \"HerkunftLang\": \"Schweizer/in\", \"sum_WBev\": 12}, {\"GueltigAbDat\": \"2021-09-10T00:00:00\", \"GueltigAbDatJahr\": 2021, \"GueltigAbDatMM\": 9, \"HerkunftLang\": \"Schweizer/in\", \"sum_WBev\": 12}, {\"GueltigAbDat\": \"2021-03-08T00:00:00\", \"GueltigAbDatJahr\": 2021, \"GueltigAbDatMM\": 3, \"HerkunftLang\": \"Schweizer/in\", \"sum_WBev\": 12}, {\"GueltigAbDat\": \"2021-02-13T00:00:00\", \"GueltigAbDatJahr\": 2021, \"GueltigAbDatMM\": 2, \"HerkunftLang\": \"Schweizer/in\", \"sum_WBev\": 12}, {\"GueltigAbDat\": \"2021-03-01T00:00:00\", \"GueltigAbDatJahr\": 2021, \"GueltigAbDatMM\": 3, \"HerkunftLang\": \"Schweizer/in\", \"sum_WBev\": 12}, {\"GueltigAbDat\": \"2021-09-27T00:00:00\", \"GueltigAbDatJahr\": 2021, \"GueltigAbDatMM\": 9, \"HerkunftLang\": \"Schweizer/in\", \"sum_WBev\": 12}, {\"GueltigAbDat\": \"2021-03-24T00:00:00\", \"GueltigAbDatJahr\": 2021, \"GueltigAbDatMM\": 3, \"HerkunftLang\": \"Schweizer/in\", \"sum_WBev\": 12}, {\"GueltigAbDat\": \"2021-07-21T00:00:00\", \"GueltigAbDatJahr\": 2021, \"GueltigAbDatMM\": 7, \"HerkunftLang\": \"Schweizer/in\", \"sum_WBev\": 12}, {\"GueltigAbDat\": \"2021-02-05T00:00:00\", \"GueltigAbDatJahr\": 2021, \"GueltigAbDatMM\": 2, \"HerkunftLang\": \"Schweizer/in\", \"sum_WBev\": 12}, {\"GueltigAbDat\": \"2021-05-21T00:00:00\", \"GueltigAbDatJahr\": 2021, \"GueltigAbDatMM\": 5, \"HerkunftLang\": \"Schweizer/in\", \"sum_WBev\": 12}, {\"GueltigAbDat\": \"2021-03-15T00:00:00\", \"GueltigAbDatJahr\": 2021, \"GueltigAbDatMM\": 3, \"HerkunftLang\": \"Schweizer/in\", \"sum_WBev\": 12}, {\"GueltigAbDat\": \"2021-06-30T00:00:00\", \"GueltigAbDatJahr\": 2021, \"GueltigAbDatMM\": 6, \"HerkunftLang\": \"Schweizer/in\", \"sum_WBev\": 12}, {\"GueltigAbDat\": \"2021-10-25T00:00:00\", \"GueltigAbDatJahr\": 2021, \"GueltigAbDatMM\": 10, \"HerkunftLang\": \"Schweizer/in\", \"sum_WBev\": 12}, {\"GueltigAbDat\": \"2021-01-22T00:00:00\", \"GueltigAbDatJahr\": 2021, \"GueltigAbDatMM\": 1, \"HerkunftLang\": \"Schweizer/in\", \"sum_WBev\": 12}, {\"GueltigAbDat\": \"2021-03-16T00:00:00\", \"GueltigAbDatJahr\": 2021, \"GueltigAbDatMM\": 3, \"HerkunftLang\": \"Schweizer/in\", \"sum_WBev\": 12}, {\"GueltigAbDat\": \"2021-09-29T00:00:00\", \"GueltigAbDatJahr\": 2021, \"GueltigAbDatMM\": 9, \"HerkunftLang\": \"Schweizer/in\", \"sum_WBev\": 12}, {\"GueltigAbDat\": \"2021-11-23T00:00:00\", \"GueltigAbDatJahr\": 2021, \"GueltigAbDatMM\": 11, \"HerkunftLang\": \"Schweizer/in\", \"sum_WBev\": 12}, {\"GueltigAbDat\": \"2020-11-06T00:00:00\", \"GueltigAbDatJahr\": 2020, \"GueltigAbDatMM\": 11, \"HerkunftLang\": \"Schweizer/in\", \"sum_WBev\": 12}, {\"GueltigAbDat\": \"2021-02-25T00:00:00\", \"GueltigAbDatJahr\": 2021, \"GueltigAbDatMM\": 2, \"HerkunftLang\": \"Schweizer/in\", \"sum_WBev\": 12}, {\"GueltigAbDat\": \"2021-11-22T00:00:00\", \"GueltigAbDatJahr\": 2021, \"GueltigAbDatMM\": 11, \"HerkunftLang\": \"Schweizer/in\", \"sum_WBev\": 12}, {\"GueltigAbDat\": \"2021-06-28T00:00:00\", \"GueltigAbDatJahr\": 2021, \"GueltigAbDatMM\": 6, \"HerkunftLang\": \"Schweizer/in\", \"sum_WBev\": 12}, {\"GueltigAbDat\": \"2021-09-02T00:00:00\", \"GueltigAbDatJahr\": 2021, \"GueltigAbDatMM\": 9, \"HerkunftLang\": \"Schweizer/in\", \"sum_WBev\": 12}, {\"GueltigAbDat\": \"2021-10-18T00:00:00\", \"GueltigAbDatJahr\": 2021, \"GueltigAbDatMM\": 10, \"HerkunftLang\": \"Schweizer/in\", \"sum_WBev\": 12}, {\"GueltigAbDat\": \"2020-12-10T00:00:00\", \"GueltigAbDatJahr\": 2020, \"GueltigAbDatMM\": 12, \"HerkunftLang\": \"Schweizer/in\", \"sum_WBev\": 12}, {\"GueltigAbDat\": \"2021-06-10T00:00:00\", \"GueltigAbDatJahr\": 2021, \"GueltigAbDatMM\": 6, \"HerkunftLang\": \"Schweizer/in\", \"sum_WBev\": 12}, {\"GueltigAbDat\": \"2021-07-31T00:00:00\", \"GueltigAbDatJahr\": 2021, \"GueltigAbDatMM\": 7, \"HerkunftLang\": \"Schweizer/in\", \"sum_WBev\": 12}, {\"GueltigAbDat\": \"2021-02-23T00:00:00\", \"GueltigAbDatJahr\": 2021, \"GueltigAbDatMM\": 2, \"HerkunftLang\": \"Schweizer/in\", \"sum_WBev\": 11}, {\"GueltigAbDat\": \"2021-02-28T00:00:00\", \"GueltigAbDatJahr\": 2021, \"GueltigAbDatMM\": 2, \"HerkunftLang\": \"Schweizer/in\", \"sum_WBev\": 11}, {\"GueltigAbDat\": \"2021-01-11T00:00:00\", \"GueltigAbDatJahr\": 2021, \"GueltigAbDatMM\": 1, \"HerkunftLang\": \"Schweizer/in\", \"sum_WBev\": 11}, {\"GueltigAbDat\": \"2021-11-04T00:00:00\", \"GueltigAbDatJahr\": 2021, \"GueltigAbDatMM\": 11, \"HerkunftLang\": \"Schweizer/in\", \"sum_WBev\": 11}, {\"GueltigAbDat\": \"2021-03-25T00:00:00\", \"GueltigAbDatJahr\": 2021, \"GueltigAbDatMM\": 3, \"HerkunftLang\": \"Schweizer/in\", \"sum_WBev\": 11}, {\"GueltigAbDat\": \"2021-07-13T00:00:00\", \"GueltigAbDatJahr\": 2021, \"GueltigAbDatMM\": 7, \"HerkunftLang\": \"Schweizer/in\", \"sum_WBev\": 11}, {\"GueltigAbDat\": \"2021-01-12T00:00:00\", \"GueltigAbDatJahr\": 2021, \"GueltigAbDatMM\": 1, \"HerkunftLang\": \"Schweizer/in\", \"sum_WBev\": 11}, {\"GueltigAbDat\": \"2021-02-15T00:00:00\", \"GueltigAbDatJahr\": 2021, \"GueltigAbDatMM\": 2, \"HerkunftLang\": \"Schweizer/in\", \"sum_WBev\": 11}, {\"GueltigAbDat\": \"2021-03-10T00:00:00\", \"GueltigAbDatJahr\": 2021, \"GueltigAbDatMM\": 3, \"HerkunftLang\": \"Schweizer/in\", \"sum_WBev\": 11}, {\"GueltigAbDat\": \"2021-03-14T00:00:00\", \"GueltigAbDatJahr\": 2021, \"GueltigAbDatMM\": 3, \"HerkunftLang\": \"Schweizer/in\", \"sum_WBev\": 11}, {\"GueltigAbDat\": \"2021-04-02T00:00:00\", \"GueltigAbDatJahr\": 2021, \"GueltigAbDatMM\": 4, \"HerkunftLang\": \"Schweizer/in\", \"sum_WBev\": 11}, {\"GueltigAbDat\": \"2021-01-29T00:00:00\", \"GueltigAbDatJahr\": 2021, \"GueltigAbDatMM\": 1, \"HerkunftLang\": \"Schweizer/in\", \"sum_WBev\": 11}, {\"GueltigAbDat\": \"2021-11-12T00:00:00\", \"GueltigAbDatJahr\": 2021, \"GueltigAbDatMM\": 11, \"HerkunftLang\": \"Schweizer/in\", \"sum_WBev\": 11}, {\"GueltigAbDat\": \"2021-03-23T00:00:00\", \"GueltigAbDatJahr\": 2021, \"GueltigAbDatMM\": 3, \"HerkunftLang\": \"Schweizer/in\", \"sum_WBev\": 11}, {\"GueltigAbDat\": \"2021-01-30T00:00:00\", \"GueltigAbDatJahr\": 2021, \"GueltigAbDatMM\": 1, \"HerkunftLang\": \"Schweizer/in\", \"sum_WBev\": 11}, {\"GueltigAbDat\": \"2021-05-25T00:00:00\", \"GueltigAbDatJahr\": 2021, \"GueltigAbDatMM\": 5, \"HerkunftLang\": \"Schweizer/in\", \"sum_WBev\": 11}, {\"GueltigAbDat\": \"2021-10-29T00:00:00\", \"GueltigAbDatJahr\": 2021, \"GueltigAbDatMM\": 10, \"HerkunftLang\": \"Schweizer/in\", \"sum_WBev\": 11}, {\"GueltigAbDat\": \"2021-09-24T00:00:00\", \"GueltigAbDatJahr\": 2021, \"GueltigAbDatMM\": 9, \"HerkunftLang\": \"Schweizer/in\", \"sum_WBev\": 11}, {\"GueltigAbDat\": \"2021-08-29T00:00:00\", \"GueltigAbDatJahr\": 2021, \"GueltigAbDatMM\": 8, \"HerkunftLang\": \"Schweizer/in\", \"sum_WBev\": 11}, {\"GueltigAbDat\": \"2021-09-09T00:00:00\", \"GueltigAbDatJahr\": 2021, \"GueltigAbDatMM\": 9, \"HerkunftLang\": \"Schweizer/in\", \"sum_WBev\": 11}, {\"GueltigAbDat\": \"2020-12-09T00:00:00\", \"GueltigAbDatJahr\": 2020, \"GueltigAbDatMM\": 12, \"HerkunftLang\": \"Schweizer/in\", \"sum_WBev\": 11}, {\"GueltigAbDat\": \"2021-04-23T00:00:00\", \"GueltigAbDatJahr\": 2021, \"GueltigAbDatMM\": 4, \"HerkunftLang\": \"Schweizer/in\", \"sum_WBev\": 11}, {\"GueltigAbDat\": \"2021-08-28T00:00:00\", \"GueltigAbDatJahr\": 2021, \"GueltigAbDatMM\": 8, \"HerkunftLang\": \"Schweizer/in\", \"sum_WBev\": 11}, {\"GueltigAbDat\": \"2020-11-20T00:00:00\", \"GueltigAbDatJahr\": 2020, \"GueltigAbDatMM\": 11, \"HerkunftLang\": \"Schweizer/in\", \"sum_WBev\": 11}, {\"GueltigAbDat\": \"2021-06-09T00:00:00\", \"GueltigAbDatJahr\": 2021, \"GueltigAbDatMM\": 6, \"HerkunftLang\": \"Schweizer/in\", \"sum_WBev\": 11}, {\"GueltigAbDat\": \"2021-09-11T00:00:00\", \"GueltigAbDatJahr\": 2021, \"GueltigAbDatMM\": 9, \"HerkunftLang\": \"Schweizer/in\", \"sum_WBev\": 11}, {\"GueltigAbDat\": \"2021-05-06T00:00:00\", \"GueltigAbDatJahr\": 2021, \"GueltigAbDatMM\": 5, \"HerkunftLang\": \"Schweizer/in\", \"sum_WBev\": 11}, {\"GueltigAbDat\": \"2021-10-16T00:00:00\", \"GueltigAbDatJahr\": 2021, \"GueltigAbDatMM\": 10, \"HerkunftLang\": \"Schweizer/in\", \"sum_WBev\": 11}, {\"GueltigAbDat\": \"2021-09-15T00:00:00\", \"GueltigAbDatJahr\": 2021, \"GueltigAbDatMM\": 9, \"HerkunftLang\": \"Schweizer/in\", \"sum_WBev\": 11}, {\"GueltigAbDat\": \"2020-11-16T00:00:00\", \"GueltigAbDatJahr\": 2020, \"GueltigAbDatMM\": 11, \"HerkunftLang\": \"Schweizer/in\", \"sum_WBev\": 11}, {\"GueltigAbDat\": \"2021-08-31T00:00:00\", \"GueltigAbDatJahr\": 2021, \"GueltigAbDatMM\": 8, \"HerkunftLang\": \"Schweizer/in\", \"sum_WBev\": 11}, {\"GueltigAbDat\": \"2021-04-12T00:00:00\", \"GueltigAbDatJahr\": 2021, \"GueltigAbDatMM\": 4, \"HerkunftLang\": \"Schweizer/in\", \"sum_WBev\": 11}, {\"GueltigAbDat\": \"2021-11-17T00:00:00\", \"GueltigAbDatJahr\": 2021, \"GueltigAbDatMM\": 11, \"HerkunftLang\": \"Schweizer/in\", \"sum_WBev\": 11}, {\"GueltigAbDat\": \"2020-12-29T00:00:00\", \"GueltigAbDatJahr\": 2020, \"GueltigAbDatMM\": 12, \"HerkunftLang\": \"Schweizer/in\", \"sum_WBev\": 11}, {\"GueltigAbDat\": \"2021-10-28T00:00:00\", \"GueltigAbDatJahr\": 2021, \"GueltigAbDatMM\": 10, \"HerkunftLang\": \"Schweizer/in\", \"sum_WBev\": 11}, {\"GueltigAbDat\": \"2021-05-24T00:00:00\", \"GueltigAbDatJahr\": 2021, \"GueltigAbDatMM\": 5, \"HerkunftLang\": \"Schweizer/in\", \"sum_WBev\": 11}, {\"GueltigAbDat\": \"2021-05-22T00:00:00\", \"GueltigAbDatJahr\": 2021, \"GueltigAbDatMM\": 5, \"HerkunftLang\": \"Schweizer/in\", \"sum_WBev\": 11}, {\"GueltigAbDat\": \"2021-10-13T00:00:00\", \"GueltigAbDatJahr\": 2021, \"GueltigAbDatMM\": 10, \"HerkunftLang\": \"Schweizer/in\", \"sum_WBev\": 11}, {\"GueltigAbDat\": \"2021-05-16T00:00:00\", \"GueltigAbDatJahr\": 2021, \"GueltigAbDatMM\": 5, \"HerkunftLang\": \"Schweizer/in\", \"sum_WBev\": 11}, {\"GueltigAbDat\": \"2020-11-23T00:00:00\", \"GueltigAbDatJahr\": 2020, \"GueltigAbDatMM\": 11, \"HerkunftLang\": \"Schweizer/in\", \"sum_WBev\": 11}, {\"GueltigAbDat\": \"2021-08-18T00:00:00\", \"GueltigAbDatJahr\": 2021, \"GueltigAbDatMM\": 8, \"HerkunftLang\": \"Schweizer/in\", \"sum_WBev\": 11}, {\"GueltigAbDat\": \"2020-11-27T00:00:00\", \"GueltigAbDatJahr\": 2020, \"GueltigAbDatMM\": 11, \"HerkunftLang\": \"Ausl\\u00e4nder/in\", \"sum_WBev\": 11}, {\"GueltigAbDat\": \"2021-11-18T00:00:00\", \"GueltigAbDatJahr\": 2021, \"GueltigAbDatMM\": 11, \"HerkunftLang\": \"Schweizer/in\", \"sum_WBev\": 11}, {\"GueltigAbDat\": \"2021-08-19T00:00:00\", \"GueltigAbDatJahr\": 2021, \"GueltigAbDatMM\": 8, \"HerkunftLang\": \"Schweizer/in\", \"sum_WBev\": 11}, {\"GueltigAbDat\": \"2021-05-05T00:00:00\", \"GueltigAbDatJahr\": 2021, \"GueltigAbDatMM\": 5, \"HerkunftLang\": \"Schweizer/in\", \"sum_WBev\": 10}, {\"GueltigAbDat\": \"2020-11-27T00:00:00\", \"GueltigAbDatJahr\": 2020, \"GueltigAbDatMM\": 11, \"HerkunftLang\": \"Schweizer/in\", \"sum_WBev\": 10}, {\"GueltigAbDat\": \"2021-10-16T00:00:00\", \"GueltigAbDatJahr\": 2021, \"GueltigAbDatMM\": 10, \"HerkunftLang\": \"Ausl\\u00e4nder/in\", \"sum_WBev\": 10}, {\"GueltigAbDat\": \"2021-05-07T00:00:00\", \"GueltigAbDatJahr\": 2021, \"GueltigAbDatMM\": 5, \"HerkunftLang\": \"Ausl\\u00e4nder/in\", \"sum_WBev\": 10}, {\"GueltigAbDat\": \"2021-02-07T00:00:00\", \"GueltigAbDatJahr\": 2021, \"GueltigAbDatMM\": 2, \"HerkunftLang\": \"Schweizer/in\", \"sum_WBev\": 10}, {\"GueltigAbDat\": \"2021-09-06T00:00:00\", \"GueltigAbDatJahr\": 2021, \"GueltigAbDatMM\": 9, \"HerkunftLang\": \"Schweizer/in\", \"sum_WBev\": 10}, {\"GueltigAbDat\": \"2020-11-23T00:00:00\", \"GueltigAbDatJahr\": 2020, \"GueltigAbDatMM\": 11, \"HerkunftLang\": \"Ausl\\u00e4nder/in\", \"sum_WBev\": 10}, {\"GueltigAbDat\": \"2021-07-22T00:00:00\", \"GueltigAbDatJahr\": 2021, \"GueltigAbDatMM\": 7, \"HerkunftLang\": \"Schweizer/in\", \"sum_WBev\": 10}, {\"GueltigAbDat\": \"2021-01-07T00:00:00\", \"GueltigAbDatJahr\": 2021, \"GueltigAbDatMM\": 1, \"HerkunftLang\": \"Schweizer/in\", \"sum_WBev\": 10}, {\"GueltigAbDat\": \"2021-05-26T00:00:00\", \"GueltigAbDatJahr\": 2021, \"GueltigAbDatMM\": 5, \"HerkunftLang\": \"Schweizer/in\", \"sum_WBev\": 10}, {\"GueltigAbDat\": \"2021-07-20T00:00:00\", \"GueltigAbDatJahr\": 2021, \"GueltigAbDatMM\": 7, \"HerkunftLang\": \"Schweizer/in\", \"sum_WBev\": 10}, {\"GueltigAbDat\": \"2021-05-09T00:00:00\", \"GueltigAbDatJahr\": 2021, \"GueltigAbDatMM\": 5, \"HerkunftLang\": \"Schweizer/in\", \"sum_WBev\": 10}, {\"GueltigAbDat\": \"2021-10-10T00:00:00\", \"GueltigAbDatJahr\": 2021, \"GueltigAbDatMM\": 10, \"HerkunftLang\": \"Schweizer/in\", \"sum_WBev\": 10}, {\"GueltigAbDat\": \"2021-07-15T00:00:00\", \"GueltigAbDatJahr\": 2021, \"GueltigAbDatMM\": 7, \"HerkunftLang\": \"Schweizer/in\", \"sum_WBev\": 10}, {\"GueltigAbDat\": \"2021-03-04T00:00:00\", \"GueltigAbDatJahr\": 2021, \"GueltigAbDatMM\": 3, \"HerkunftLang\": \"Schweizer/in\", \"sum_WBev\": 10}, {\"GueltigAbDat\": \"2020-11-13T00:00:00\", \"GueltigAbDatJahr\": 2020, \"GueltigAbDatMM\": 11, \"HerkunftLang\": \"Schweizer/in\", \"sum_WBev\": 10}, {\"GueltigAbDat\": \"2021-05-15T00:00:00\", \"GueltigAbDatJahr\": 2021, \"GueltigAbDatMM\": 5, \"HerkunftLang\": \"Schweizer/in\", \"sum_WBev\": 10}, {\"GueltigAbDat\": \"2021-05-30T00:00:00\", \"GueltigAbDatJahr\": 2021, \"GueltigAbDatMM\": 5, \"HerkunftLang\": \"Schweizer/in\", \"sum_WBev\": 10}, {\"GueltigAbDat\": \"2021-10-20T00:00:00\", \"GueltigAbDatJahr\": 2021, \"GueltigAbDatMM\": 10, \"HerkunftLang\": \"Schweizer/in\", \"sum_WBev\": 10}, {\"GueltigAbDat\": \"2021-05-19T00:00:00\", \"GueltigAbDatJahr\": 2021, \"GueltigAbDatMM\": 5, \"HerkunftLang\": \"Schweizer/in\", \"sum_WBev\": 10}, {\"GueltigAbDat\": \"2021-07-17T00:00:00\", \"GueltigAbDatJahr\": 2021, \"GueltigAbDatMM\": 7, \"HerkunftLang\": \"Schweizer/in\", \"sum_WBev\": 10}, {\"GueltigAbDat\": \"2021-09-03T00:00:00\", \"GueltigAbDatJahr\": 2021, \"GueltigAbDatMM\": 9, \"HerkunftLang\": \"Schweizer/in\", \"sum_WBev\": 10}, {\"GueltigAbDat\": \"2021-02-03T00:00:00\", \"GueltigAbDatJahr\": 2021, \"GueltigAbDatMM\": 2, \"HerkunftLang\": \"Schweizer/in\", \"sum_WBev\": 10}, {\"GueltigAbDat\": \"2021-07-29T00:00:00\", \"GueltigAbDatJahr\": 2021, \"GueltigAbDatMM\": 7, \"HerkunftLang\": \"Schweizer/in\", \"sum_WBev\": 10}, {\"GueltigAbDat\": \"2021-08-07T00:00:00\", \"GueltigAbDatJahr\": 2021, \"GueltigAbDatMM\": 8, \"HerkunftLang\": \"Schweizer/in\", \"sum_WBev\": 10}, {\"GueltigAbDat\": \"2021-11-16T00:00:00\", \"GueltigAbDatJahr\": 2021, \"GueltigAbDatMM\": 11, \"HerkunftLang\": \"Schweizer/in\", \"sum_WBev\": 10}, {\"GueltigAbDat\": \"2021-11-17T00:00:00\", \"GueltigAbDatJahr\": 2021, \"GueltigAbDatMM\": 11, \"HerkunftLang\": \"Ausl\\u00e4nder/in\", \"sum_WBev\": 10}, {\"GueltigAbDat\": \"2021-03-27T00:00:00\", \"GueltigAbDatJahr\": 2021, \"GueltigAbDatMM\": 3, \"HerkunftLang\": \"Schweizer/in\", \"sum_WBev\": 10}, {\"GueltigAbDat\": \"2021-04-11T00:00:00\", \"GueltigAbDatJahr\": 2021, \"GueltigAbDatMM\": 4, \"HerkunftLang\": \"Schweizer/in\", \"sum_WBev\": 10}, {\"GueltigAbDat\": \"2021-04-14T00:00:00\", \"GueltigAbDatJahr\": 2021, \"GueltigAbDatMM\": 4, \"HerkunftLang\": \"Schweizer/in\", \"sum_WBev\": 10}, {\"GueltigAbDat\": \"2021-06-24T00:00:00\", \"GueltigAbDatJahr\": 2021, \"GueltigAbDatMM\": 6, \"HerkunftLang\": \"Ausl\\u00e4nder/in\", \"sum_WBev\": 10}, {\"GueltigAbDat\": \"2021-03-20T00:00:00\", \"GueltigAbDatJahr\": 2021, \"GueltigAbDatMM\": 3, \"HerkunftLang\": \"Schweizer/in\", \"sum_WBev\": 10}, {\"GueltigAbDat\": \"2021-07-30T00:00:00\", \"GueltigAbDatJahr\": 2021, \"GueltigAbDatMM\": 7, \"HerkunftLang\": \"Schweizer/in\", \"sum_WBev\": 10}, {\"GueltigAbDat\": \"2021-11-02T00:00:00\", \"GueltigAbDatJahr\": 2021, \"GueltigAbDatMM\": 11, \"HerkunftLang\": \"Schweizer/in\", \"sum_WBev\": 10}, {\"GueltigAbDat\": \"2021-09-30T00:00:00\", \"GueltigAbDatJahr\": 2021, \"GueltigAbDatMM\": 9, \"HerkunftLang\": \"Schweizer/in\", \"sum_WBev\": 10}, {\"GueltigAbDat\": \"2021-02-01T00:00:00\", \"GueltigAbDatJahr\": 2021, \"GueltigAbDatMM\": 2, \"HerkunftLang\": \"Schweizer/in\", \"sum_WBev\": 10}, {\"GueltigAbDat\": \"2021-04-25T00:00:00\", \"GueltigAbDatJahr\": 2021, \"GueltigAbDatMM\": 4, \"HerkunftLang\": \"Schweizer/in\", \"sum_WBev\": 10}, {\"GueltigAbDat\": \"2021-03-18T00:00:00\", \"GueltigAbDatJahr\": 2021, \"GueltigAbDatMM\": 3, \"HerkunftLang\": \"Schweizer/in\", \"sum_WBev\": 10}, {\"GueltigAbDat\": \"2021-08-30T00:00:00\", \"GueltigAbDatJahr\": 2021, \"GueltigAbDatMM\": 8, \"HerkunftLang\": \"Schweizer/in\", \"sum_WBev\": 10}, {\"GueltigAbDat\": \"2021-04-30T00:00:00\", \"GueltigAbDatJahr\": 2021, \"GueltigAbDatMM\": 4, \"HerkunftLang\": \"Schweizer/in\", \"sum_WBev\": 10}, {\"GueltigAbDat\": \"2021-03-17T00:00:00\", \"GueltigAbDatJahr\": 2021, \"GueltigAbDatMM\": 3, \"HerkunftLang\": \"Schweizer/in\", \"sum_WBev\": 10}, {\"GueltigAbDat\": \"2021-06-07T00:00:00\", \"GueltigAbDatJahr\": 2021, \"GueltigAbDatMM\": 6, \"HerkunftLang\": \"Schweizer/in\", \"sum_WBev\": 10}, {\"GueltigAbDat\": \"2021-03-28T00:00:00\", \"GueltigAbDatJahr\": 2021, \"GueltigAbDatMM\": 3, \"HerkunftLang\": \"Schweizer/in\", \"sum_WBev\": 9}, {\"GueltigAbDat\": \"2021-04-28T00:00:00\", \"GueltigAbDatJahr\": 2021, \"GueltigAbDatMM\": 4, \"HerkunftLang\": \"Schweizer/in\", \"sum_WBev\": 9}, {\"GueltigAbDat\": \"2021-05-14T00:00:00\", \"GueltigAbDatJahr\": 2021, \"GueltigAbDatMM\": 5, \"HerkunftLang\": \"Schweizer/in\", \"sum_WBev\": 9}, {\"GueltigAbDat\": \"2021-04-10T00:00:00\", \"GueltigAbDatJahr\": 2021, \"GueltigAbDatMM\": 4, \"HerkunftLang\": \"Schweizer/in\", \"sum_WBev\": 9}, {\"GueltigAbDat\": \"2021-03-19T00:00:00\", \"GueltigAbDatJahr\": 2021, \"GueltigAbDatMM\": 3, \"HerkunftLang\": \"Schweizer/in\", \"sum_WBev\": 9}, {\"GueltigAbDat\": \"2021-03-13T00:00:00\", \"GueltigAbDatJahr\": 2021, \"GueltigAbDatMM\": 3, \"HerkunftLang\": \"Schweizer/in\", \"sum_WBev\": 9}, {\"GueltigAbDat\": \"2021-07-08T00:00:00\", \"GueltigAbDatJahr\": 2021, \"GueltigAbDatMM\": 7, \"HerkunftLang\": \"Schweizer/in\", \"sum_WBev\": 9}, {\"GueltigAbDat\": \"2021-06-08T00:00:00\", \"GueltigAbDatJahr\": 2021, \"GueltigAbDatMM\": 6, \"HerkunftLang\": \"Schweizer/in\", \"sum_WBev\": 9}, {\"GueltigAbDat\": \"2021-05-20T00:00:00\", \"GueltigAbDatJahr\": 2021, \"GueltigAbDatMM\": 5, \"HerkunftLang\": \"Schweizer/in\", \"sum_WBev\": 9}, {\"GueltigAbDat\": \"2021-04-06T00:00:00\", \"GueltigAbDatJahr\": 2021, \"GueltigAbDatMM\": 4, \"HerkunftLang\": \"Schweizer/in\", \"sum_WBev\": 9}, {\"GueltigAbDat\": \"2021-05-14T00:00:00\", \"GueltigAbDatJahr\": 2021, \"GueltigAbDatMM\": 5, \"HerkunftLang\": \"Ausl\\u00e4nder/in\", \"sum_WBev\": 9}, {\"GueltigAbDat\": \"2021-10-27T00:00:00\", \"GueltigAbDatJahr\": 2021, \"GueltigAbDatMM\": 10, \"HerkunftLang\": \"Ausl\\u00e4nder/in\", \"sum_WBev\": 9}, {\"GueltigAbDat\": \"2021-05-11T00:00:00\", \"GueltigAbDatJahr\": 2021, \"GueltigAbDatMM\": 5, \"HerkunftLang\": \"Schweizer/in\", \"sum_WBev\": 9}, {\"GueltigAbDat\": \"2021-04-18T00:00:00\", \"GueltigAbDatJahr\": 2021, \"GueltigAbDatMM\": 4, \"HerkunftLang\": \"Schweizer/in\", \"sum_WBev\": 9}, {\"GueltigAbDat\": \"2021-06-03T00:00:00\", \"GueltigAbDatJahr\": 2021, \"GueltigAbDatMM\": 6, \"HerkunftLang\": \"Schweizer/in\", \"sum_WBev\": 9}, {\"GueltigAbDat\": \"2021-03-12T00:00:00\", \"GueltigAbDatJahr\": 2021, \"GueltigAbDatMM\": 3, \"HerkunftLang\": \"Schweizer/in\", \"sum_WBev\": 9}, {\"GueltigAbDat\": \"2021-04-19T00:00:00\", \"GueltigAbDatJahr\": 2021, \"GueltigAbDatMM\": 4, \"HerkunftLang\": \"Schweizer/in\", \"sum_WBev\": 9}, {\"GueltigAbDat\": \"2021-06-02T00:00:00\", \"GueltigAbDatJahr\": 2021, \"GueltigAbDatMM\": 6, \"HerkunftLang\": \"Schweizer/in\", \"sum_WBev\": 9}, {\"GueltigAbDat\": \"2021-03-06T00:00:00\", \"GueltigAbDatJahr\": 2021, \"GueltigAbDatMM\": 3, \"HerkunftLang\": \"Schweizer/in\", \"sum_WBev\": 9}, {\"GueltigAbDat\": \"2021-04-21T00:00:00\", \"GueltigAbDatJahr\": 2021, \"GueltigAbDatMM\": 4, \"HerkunftLang\": \"Schweizer/in\", \"sum_WBev\": 9}, {\"GueltigAbDat\": \"2021-06-05T00:00:00\", \"GueltigAbDatJahr\": 2021, \"GueltigAbDatMM\": 6, \"HerkunftLang\": \"Schweizer/in\", \"sum_WBev\": 9}, {\"GueltigAbDat\": \"2021-11-03T00:00:00\", \"GueltigAbDatJahr\": 2021, \"GueltigAbDatMM\": 11, \"HerkunftLang\": \"Schweizer/in\", \"sum_WBev\": 9}, {\"GueltigAbDat\": \"2021-04-22T00:00:00\", \"GueltigAbDatJahr\": 2021, \"GueltigAbDatMM\": 4, \"HerkunftLang\": \"Schweizer/in\", \"sum_WBev\": 9}, {\"GueltigAbDat\": \"2021-06-03T00:00:00\", \"GueltigAbDatJahr\": 2021, \"GueltigAbDatMM\": 6, \"HerkunftLang\": \"Ausl\\u00e4nder/in\", \"sum_WBev\": 9}, {\"GueltigAbDat\": \"2021-07-04T00:00:00\", \"GueltigAbDatJahr\": 2021, \"GueltigAbDatMM\": 7, \"HerkunftLang\": \"Schweizer/in\", \"sum_WBev\": 9}, {\"GueltigAbDat\": \"2021-02-27T00:00:00\", \"GueltigAbDatJahr\": 2021, \"GueltigAbDatMM\": 2, \"HerkunftLang\": \"Schweizer/in\", \"sum_WBev\": 9}, {\"GueltigAbDat\": \"2021-11-30T00:00:00\", \"GueltigAbDatJahr\": 2021, \"GueltigAbDatMM\": 11, \"HerkunftLang\": \"Schweizer/in\", \"sum_WBev\": 9}, {\"GueltigAbDat\": \"2020-12-24T00:00:00\", \"GueltigAbDatJahr\": 2020, \"GueltigAbDatMM\": 12, \"HerkunftLang\": \"Schweizer/in\", \"sum_WBev\": 9}, {\"GueltigAbDat\": \"2021-08-26T00:00:00\", \"GueltigAbDatJahr\": 2021, \"GueltigAbDatMM\": 8, \"HerkunftLang\": \"Schweizer/in\", \"sum_WBev\": 9}, {\"GueltigAbDat\": \"2021-07-28T00:00:00\", \"GueltigAbDatJahr\": 2021, \"GueltigAbDatMM\": 7, \"HerkunftLang\": \"Schweizer/in\", \"sum_WBev\": 9}, {\"GueltigAbDat\": \"2021-01-28T00:00:00\", \"GueltigAbDatJahr\": 2021, \"GueltigAbDatMM\": 1, \"HerkunftLang\": \"Schweizer/in\", \"sum_WBev\": 9}, {\"GueltigAbDat\": \"2021-01-26T00:00:00\", \"GueltigAbDatJahr\": 2021, \"GueltigAbDatMM\": 1, \"HerkunftLang\": \"Schweizer/in\", \"sum_WBev\": 9}, {\"GueltigAbDat\": \"2021-10-04T00:00:00\", \"GueltigAbDatJahr\": 2021, \"GueltigAbDatMM\": 10, \"HerkunftLang\": \"Schweizer/in\", \"sum_WBev\": 9}, {\"GueltigAbDat\": \"2021-01-21T00:00:00\", \"GueltigAbDatJahr\": 2021, \"GueltigAbDatMM\": 1, \"HerkunftLang\": \"Schweizer/in\", \"sum_WBev\": 9}, {\"GueltigAbDat\": \"2021-01-17T00:00:00\", \"GueltigAbDatJahr\": 2021, \"GueltigAbDatMM\": 1, \"HerkunftLang\": \"Schweizer/in\", \"sum_WBev\": 9}, {\"GueltigAbDat\": \"2021-11-15T00:00:00\", \"GueltigAbDatJahr\": 2021, \"GueltigAbDatMM\": 11, \"HerkunftLang\": \"Schweizer/in\", \"sum_WBev\": 9}, {\"GueltigAbDat\": \"2021-08-08T00:00:00\", \"GueltigAbDatJahr\": 2021, \"GueltigAbDatMM\": 8, \"HerkunftLang\": \"Schweizer/in\", \"sum_WBev\": 9}, {\"GueltigAbDat\": \"2021-08-12T00:00:00\", \"GueltigAbDatJahr\": 2021, \"GueltigAbDatMM\": 8, \"HerkunftLang\": \"Schweizer/in\", \"sum_WBev\": 9}, {\"GueltigAbDat\": \"2020-12-30T00:00:00\", \"GueltigAbDatJahr\": 2020, \"GueltigAbDatMM\": 12, \"HerkunftLang\": \"Ausl\\u00e4nder/in\", \"sum_WBev\": 9}, {\"GueltigAbDat\": \"2020-12-19T00:00:00\", \"GueltigAbDatJahr\": 2020, \"GueltigAbDatMM\": 12, \"HerkunftLang\": \"Schweizer/in\", \"sum_WBev\": 9}, {\"GueltigAbDat\": \"2020-12-14T00:00:00\", \"GueltigAbDatJahr\": 2020, \"GueltigAbDatMM\": 12, \"HerkunftLang\": \"Schweizer/in\", \"sum_WBev\": 9}, {\"GueltigAbDat\": \"2020-12-11T00:00:00\", \"GueltigAbDatJahr\": 2020, \"GueltigAbDatMM\": 12, \"HerkunftLang\": \"Schweizer/in\", \"sum_WBev\": 9}, {\"GueltigAbDat\": \"2021-11-10T00:00:00\", \"GueltigAbDatJahr\": 2021, \"GueltigAbDatMM\": 11, \"HerkunftLang\": \"Schweizer/in\", \"sum_WBev\": 9}, {\"GueltigAbDat\": \"2020-12-08T00:00:00\", \"GueltigAbDatJahr\": 2020, \"GueltigAbDatMM\": 12, \"HerkunftLang\": \"Schweizer/in\", \"sum_WBev\": 9}, {\"GueltigAbDat\": \"2021-09-28T00:00:00\", \"GueltigAbDatJahr\": 2021, \"GueltigAbDatMM\": 9, \"HerkunftLang\": \"Schweizer/in\", \"sum_WBev\": 9}, {\"GueltigAbDat\": \"2020-11-29T00:00:00\", \"GueltigAbDatJahr\": 2020, \"GueltigAbDatMM\": 11, \"HerkunftLang\": \"Schweizer/in\", \"sum_WBev\": 9}, {\"GueltigAbDat\": \"2020-11-24T00:00:00\", \"GueltigAbDatJahr\": 2020, \"GueltigAbDatMM\": 11, \"HerkunftLang\": \"Schweizer/in\", \"sum_WBev\": 9}, {\"GueltigAbDat\": \"2021-11-26T00:00:00\", \"GueltigAbDatJahr\": 2021, \"GueltigAbDatMM\": 11, \"HerkunftLang\": \"Schweizer/in\", \"sum_WBev\": 9}, {\"GueltigAbDat\": \"2021-09-26T00:00:00\", \"GueltigAbDatJahr\": 2021, \"GueltigAbDatMM\": 9, \"HerkunftLang\": \"Schweizer/in\", \"sum_WBev\": 9}, {\"GueltigAbDat\": \"2020-11-14T00:00:00\", \"GueltigAbDatJahr\": 2020, \"GueltigAbDatMM\": 11, \"HerkunftLang\": \"Schweizer/in\", \"sum_WBev\": 9}, {\"GueltigAbDat\": \"2021-09-16T00:00:00\", \"GueltigAbDatJahr\": 2021, \"GueltigAbDatMM\": 9, \"HerkunftLang\": \"Schweizer/in\", \"sum_WBev\": 9}, {\"GueltigAbDat\": \"2020-11-11T00:00:00\", \"GueltigAbDatJahr\": 2020, \"GueltigAbDatMM\": 11, \"HerkunftLang\": \"Ausl\\u00e4nder/in\", \"sum_WBev\": 9}, {\"GueltigAbDat\": \"2020-11-09T00:00:00\", \"GueltigAbDatJahr\": 2020, \"GueltigAbDatMM\": 11, \"HerkunftLang\": \"Ausl\\u00e4nder/in\", \"sum_WBev\": 9}, {\"GueltigAbDat\": \"2021-11-29T00:00:00\", \"GueltigAbDatJahr\": 2021, \"GueltigAbDatMM\": 11, \"HerkunftLang\": \"Schweizer/in\", \"sum_WBev\": 9}, {\"GueltigAbDat\": \"2021-09-20T00:00:00\", \"GueltigAbDatJahr\": 2021, \"GueltigAbDatMM\": 9, \"HerkunftLang\": \"Schweizer/in\", \"sum_WBev\": 9}, {\"GueltigAbDat\": \"2021-01-31T00:00:00\", \"GueltigAbDatJahr\": 2021, \"GueltigAbDatMM\": 1, \"HerkunftLang\": \"Schweizer/in\", \"sum_WBev\": 9}, {\"GueltigAbDat\": \"2021-02-11T00:00:00\", \"GueltigAbDatJahr\": 2021, \"GueltigAbDatMM\": 2, \"HerkunftLang\": \"Schweizer/in\", \"sum_WBev\": 9}, {\"GueltigAbDat\": \"2021-02-20T00:00:00\", \"GueltigAbDatJahr\": 2021, \"GueltigAbDatMM\": 2, \"HerkunftLang\": \"Schweizer/in\", \"sum_WBev\": 9}, {\"GueltigAbDat\": \"2021-07-18T00:00:00\", \"GueltigAbDatJahr\": 2021, \"GueltigAbDatMM\": 7, \"HerkunftLang\": \"Schweizer/in\", \"sum_WBev\": 9}, {\"GueltigAbDat\": \"2021-02-24T00:00:00\", \"GueltigAbDatJahr\": 2021, \"GueltigAbDatMM\": 2, \"HerkunftLang\": \"Ausl\\u00e4nder/in\", \"sum_WBev\": 9}, {\"GueltigAbDat\": \"2021-02-16T00:00:00\", \"GueltigAbDatJahr\": 2021, \"GueltigAbDatMM\": 2, \"HerkunftLang\": \"Schweizer/in\", \"sum_WBev\": 9}, {\"GueltigAbDat\": \"2021-07-11T00:00:00\", \"GueltigAbDatJahr\": 2021, \"GueltigAbDatMM\": 7, \"HerkunftLang\": \"Schweizer/in\", \"sum_WBev\": 9}, {\"GueltigAbDat\": \"2021-07-21T00:00:00\", \"GueltigAbDatJahr\": 2021, \"GueltigAbDatMM\": 7, \"HerkunftLang\": \"Ausl\\u00e4nder/in\", \"sum_WBev\": 9}, {\"GueltigAbDat\": \"2020-11-28T00:00:00\", \"GueltigAbDatJahr\": 2020, \"GueltigAbDatMM\": 11, \"HerkunftLang\": \"Schweizer/in\", \"sum_WBev\": 8}, {\"GueltigAbDat\": \"2021-11-18T00:00:00\", \"GueltigAbDatJahr\": 2021, \"GueltigAbDatMM\": 11, \"HerkunftLang\": \"Ausl\\u00e4nder/in\", \"sum_WBev\": 8}, {\"GueltigAbDat\": \"2021-03-05T00:00:00\", \"GueltigAbDatJahr\": 2021, \"GueltigAbDatMM\": 3, \"HerkunftLang\": \"Ausl\\u00e4nder/in\", \"sum_WBev\": 8}, {\"GueltigAbDat\": \"2021-04-08T00:00:00\", \"GueltigAbDatJahr\": 2021, \"GueltigAbDatMM\": 4, \"HerkunftLang\": \"Schweizer/in\", \"sum_WBev\": 8}, {\"GueltigAbDat\": \"2020-11-26T00:00:00\", \"GueltigAbDatJahr\": 2020, \"GueltigAbDatMM\": 11, \"HerkunftLang\": \"Schweizer/in\", \"sum_WBev\": 8}, {\"GueltigAbDat\": \"2021-10-24T00:00:00\", \"GueltigAbDatJahr\": 2021, \"GueltigAbDatMM\": 10, \"HerkunftLang\": \"Schweizer/in\", \"sum_WBev\": 8}, {\"GueltigAbDat\": \"2020-11-26T00:00:00\", \"GueltigAbDatJahr\": 2020, \"GueltigAbDatMM\": 11, \"HerkunftLang\": \"Ausl\\u00e4nder/in\", \"sum_WBev\": 8}, {\"GueltigAbDat\": \"2021-01-05T00:00:00\", \"GueltigAbDatJahr\": 2021, \"GueltigAbDatMM\": 1, \"HerkunftLang\": \"Schweizer/in\", \"sum_WBev\": 8}, {\"GueltigAbDat\": \"2021-06-19T00:00:00\", \"GueltigAbDatJahr\": 2021, \"GueltigAbDatMM\": 6, \"HerkunftLang\": \"Schweizer/in\", \"sum_WBev\": 8}, {\"GueltigAbDat\": \"2021-06-20T00:00:00\", \"GueltigAbDatJahr\": 2021, \"GueltigAbDatMM\": 6, \"HerkunftLang\": \"Ausl\\u00e4nder/in\", \"sum_WBev\": 8}, {\"GueltigAbDat\": \"2020-11-18T00:00:00\", \"GueltigAbDatJahr\": 2020, \"GueltigAbDatMM\": 11, \"HerkunftLang\": \"Schweizer/in\", \"sum_WBev\": 8}, {\"GueltigAbDat\": \"2020-12-26T00:00:00\", \"GueltigAbDatJahr\": 2020, \"GueltigAbDatMM\": 12, \"HerkunftLang\": \"Schweizer/in\", \"sum_WBev\": 8}, {\"GueltigAbDat\": \"2021-03-05T00:00:00\", \"GueltigAbDatJahr\": 2021, \"GueltigAbDatMM\": 3, \"HerkunftLang\": \"Schweizer/in\", \"sum_WBev\": 8}, {\"GueltigAbDat\": \"2021-09-13T00:00:00\", \"GueltigAbDatJahr\": 2021, \"GueltigAbDatMM\": 9, \"HerkunftLang\": \"Schweizer/in\", \"sum_WBev\": 8}, {\"GueltigAbDat\": \"2021-06-07T00:00:00\", \"GueltigAbDatJahr\": 2021, \"GueltigAbDatMM\": 6, \"HerkunftLang\": \"Ausl\\u00e4nder/in\", \"sum_WBev\": 8}, {\"GueltigAbDat\": \"2021-10-28T00:00:00\", \"GueltigAbDatJahr\": 2021, \"GueltigAbDatMM\": 10, \"HerkunftLang\": \"Ausl\\u00e4nder/in\", \"sum_WBev\": 8}, {\"GueltigAbDat\": \"2020-12-21T00:00:00\", \"GueltigAbDatJahr\": 2020, \"GueltigAbDatMM\": 12, \"HerkunftLang\": \"Schweizer/in\", \"sum_WBev\": 8}, {\"GueltigAbDat\": \"2021-10-27T00:00:00\", \"GueltigAbDatJahr\": 2021, \"GueltigAbDatMM\": 10, \"HerkunftLang\": \"Schweizer/in\", \"sum_WBev\": 8}, {\"GueltigAbDat\": \"2021-04-29T00:00:00\", \"GueltigAbDatJahr\": 2021, \"GueltigAbDatMM\": 4, \"HerkunftLang\": \"Schweizer/in\", \"sum_WBev\": 8}, {\"GueltigAbDat\": \"2020-12-03T00:00:00\", \"GueltigAbDatJahr\": 2020, \"GueltigAbDatMM\": 12, \"HerkunftLang\": \"Schweizer/in\", \"sum_WBev\": 8}, {\"GueltigAbDat\": \"2021-04-28T00:00:00\", \"GueltigAbDatJahr\": 2021, \"GueltigAbDatMM\": 4, \"HerkunftLang\": \"Ausl\\u00e4nder/in\", \"sum_WBev\": 8}, {\"GueltigAbDat\": \"2021-04-27T00:00:00\", \"GueltigAbDatJahr\": 2021, \"GueltigAbDatMM\": 4, \"HerkunftLang\": \"Schweizer/in\", \"sum_WBev\": 8}, {\"GueltigAbDat\": \"2021-02-14T00:00:00\", \"GueltigAbDatJahr\": 2021, \"GueltigAbDatMM\": 2, \"HerkunftLang\": \"Schweizer/in\", \"sum_WBev\": 8}, {\"GueltigAbDat\": \"2020-12-17T00:00:00\", \"GueltigAbDatJahr\": 2020, \"GueltigAbDatMM\": 12, \"HerkunftLang\": \"Schweizer/in\", \"sum_WBev\": 8}, {\"GueltigAbDat\": \"2021-07-24T00:00:00\", \"GueltigAbDatJahr\": 2021, \"GueltigAbDatMM\": 7, \"HerkunftLang\": \"Schweizer/in\", \"sum_WBev\": 8}, {\"GueltigAbDat\": \"2020-12-15T00:00:00\", \"GueltigAbDatJahr\": 2020, \"GueltigAbDatMM\": 12, \"HerkunftLang\": \"Schweizer/in\", \"sum_WBev\": 8}, {\"GueltigAbDat\": \"2021-10-15T00:00:00\", \"GueltigAbDatJahr\": 2021, \"GueltigAbDatMM\": 10, \"HerkunftLang\": \"Schweizer/in\", \"sum_WBev\": 8}, {\"GueltigAbDat\": \"2021-03-09T00:00:00\", \"GueltigAbDatJahr\": 2021, \"GueltigAbDatMM\": 3, \"HerkunftLang\": \"Schweizer/in\", \"sum_WBev\": 8}, {\"GueltigAbDat\": \"2021-02-04T00:00:00\", \"GueltigAbDatJahr\": 2021, \"GueltigAbDatMM\": 2, \"HerkunftLang\": \"Schweizer/in\", \"sum_WBev\": 8}, {\"GueltigAbDat\": \"2020-11-15T00:00:00\", \"GueltigAbDatJahr\": 2020, \"GueltigAbDatMM\": 11, \"HerkunftLang\": \"Schweizer/in\", \"sum_WBev\": 8}, {\"GueltigAbDat\": \"2021-01-23T00:00:00\", \"GueltigAbDatJahr\": 2021, \"GueltigAbDatMM\": 1, \"HerkunftLang\": \"Schweizer/in\", \"sum_WBev\": 8}, {\"GueltigAbDat\": \"2021-05-22T00:00:00\", \"GueltigAbDatJahr\": 2021, \"GueltigAbDatMM\": 5, \"HerkunftLang\": \"Ausl\\u00e4nder/in\", \"sum_WBev\": 8}, {\"GueltigAbDat\": \"2021-03-11T00:00:00\", \"GueltigAbDatJahr\": 2021, \"GueltigAbDatMM\": 3, \"HerkunftLang\": \"Schweizer/in\", \"sum_WBev\": 8}, {\"GueltigAbDat\": \"2021-11-11T00:00:00\", \"GueltigAbDatJahr\": 2021, \"GueltigAbDatMM\": 11, \"HerkunftLang\": \"Schweizer/in\", \"sum_WBev\": 8}, {\"GueltigAbDat\": \"2021-11-09T00:00:00\", \"GueltigAbDatJahr\": 2021, \"GueltigAbDatMM\": 11, \"HerkunftLang\": \"Schweizer/in\", \"sum_WBev\": 8}, {\"GueltigAbDat\": \"2021-09-21T00:00:00\", \"GueltigAbDatJahr\": 2021, \"GueltigAbDatMM\": 9, \"HerkunftLang\": \"Ausl\\u00e4nder/in\", \"sum_WBev\": 8}, {\"GueltigAbDat\": \"2021-01-20T00:00:00\", \"GueltigAbDatJahr\": 2021, \"GueltigAbDatMM\": 1, \"HerkunftLang\": \"Schweizer/in\", \"sum_WBev\": 8}, {\"GueltigAbDat\": \"2021-10-19T00:00:00\", \"GueltigAbDatJahr\": 2021, \"GueltigAbDatMM\": 10, \"HerkunftLang\": \"Schweizer/in\", \"sum_WBev\": 8}, {\"GueltigAbDat\": \"2021-02-24T00:00:00\", \"GueltigAbDatJahr\": 2021, \"GueltigAbDatMM\": 2, \"HerkunftLang\": \"Schweizer/in\", \"sum_WBev\": 8}, {\"GueltigAbDat\": \"2021-10-03T00:00:00\", \"GueltigAbDatJahr\": 2021, \"GueltigAbDatMM\": 10, \"HerkunftLang\": \"Schweizer/in\", \"sum_WBev\": 8}, {\"GueltigAbDat\": \"2021-09-19T00:00:00\", \"GueltigAbDatJahr\": 2021, \"GueltigAbDatMM\": 9, \"HerkunftLang\": \"Schweizer/in\", \"sum_WBev\": 8}, {\"GueltigAbDat\": \"2021-10-17T00:00:00\", \"GueltigAbDatJahr\": 2021, \"GueltigAbDatMM\": 10, \"HerkunftLang\": \"Schweizer/in\", \"sum_WBev\": 8}, {\"GueltigAbDat\": \"2021-09-22T00:00:00\", \"GueltigAbDatJahr\": 2021, \"GueltigAbDatMM\": 9, \"HerkunftLang\": \"Schweizer/in\", \"sum_WBev\": 8}, {\"GueltigAbDat\": \"2021-07-23T00:00:00\", \"GueltigAbDatJahr\": 2021, \"GueltigAbDatMM\": 7, \"HerkunftLang\": \"Schweizer/in\", \"sum_WBev\": 8}, {\"GueltigAbDat\": \"2021-02-05T00:00:00\", \"GueltigAbDatJahr\": 2021, \"GueltigAbDatMM\": 2, \"HerkunftLang\": \"Ausl\\u00e4nder/in\", \"sum_WBev\": 8}, {\"GueltigAbDat\": \"2021-09-17T00:00:00\", \"GueltigAbDatJahr\": 2021, \"GueltigAbDatMM\": 9, \"HerkunftLang\": \"Schweizer/in\", \"sum_WBev\": 8}, {\"GueltigAbDat\": \"2021-07-19T00:00:00\", \"GueltigAbDatJahr\": 2021, \"GueltigAbDatMM\": 7, \"HerkunftLang\": \"Schweizer/in\", \"sum_WBev\": 8}, {\"GueltigAbDat\": \"2020-11-05T00:00:00\", \"GueltigAbDatJahr\": 2020, \"GueltigAbDatMM\": 11, \"HerkunftLang\": \"Ausl\\u00e4nder/in\", \"sum_WBev\": 7}, {\"GueltigAbDat\": \"2020-12-06T00:00:00\", \"GueltigAbDatJahr\": 2020, \"GueltigAbDatMM\": 12, \"HerkunftLang\": \"Schweizer/in\", \"sum_WBev\": 7}, {\"GueltigAbDat\": \"2021-04-26T00:00:00\", \"GueltigAbDatJahr\": 2021, \"GueltigAbDatMM\": 4, \"HerkunftLang\": \"Ausl\\u00e4nder/in\", \"sum_WBev\": 7}, {\"GueltigAbDat\": \"2020-12-01T00:00:00\", \"GueltigAbDatJahr\": 2020, \"GueltigAbDatMM\": 12, \"HerkunftLang\": \"Schweizer/in\", \"sum_WBev\": 7}, {\"GueltigAbDat\": \"2021-04-24T00:00:00\", \"GueltigAbDatJahr\": 2021, \"GueltigAbDatMM\": 4, \"HerkunftLang\": \"Schweizer/in\", \"sum_WBev\": 7}, {\"GueltigAbDat\": \"2021-05-25T00:00:00\", \"GueltigAbDatJahr\": 2021, \"GueltigAbDatMM\": 5, \"HerkunftLang\": \"Ausl\\u00e4nder/in\", \"sum_WBev\": 7}, {\"GueltigAbDat\": \"2020-12-05T00:00:00\", \"GueltigAbDatJahr\": 2020, \"GueltigAbDatMM\": 12, \"HerkunftLang\": \"Schweizer/in\", \"sum_WBev\": 7}, {\"GueltigAbDat\": \"2021-05-02T00:00:00\", \"GueltigAbDatJahr\": 2021, \"GueltigAbDatMM\": 5, \"HerkunftLang\": \"Schweizer/in\", \"sum_WBev\": 7}, {\"GueltigAbDat\": \"2021-10-08T00:00:00\", \"GueltigAbDatJahr\": 2021, \"GueltigAbDatMM\": 10, \"HerkunftLang\": \"Schweizer/in\", \"sum_WBev\": 7}, {\"GueltigAbDat\": \"2020-11-30T00:00:00\", \"GueltigAbDatJahr\": 2020, \"GueltigAbDatMM\": 11, \"HerkunftLang\": \"Schweizer/in\", \"sum_WBev\": 7}, {\"GueltigAbDat\": \"2021-07-14T00:00:00\", \"GueltigAbDatJahr\": 2021, \"GueltigAbDatMM\": 7, \"HerkunftLang\": \"Schweizer/in\", \"sum_WBev\": 7}, {\"GueltigAbDat\": \"2021-03-02T00:00:00\", \"GueltigAbDatJahr\": 2021, \"GueltigAbDatMM\": 3, \"HerkunftLang\": \"Schweizer/in\", \"sum_WBev\": 7}, {\"GueltigAbDat\": \"2021-10-21T00:00:00\", \"GueltigAbDatJahr\": 2021, \"GueltigAbDatMM\": 10, \"HerkunftLang\": \"Schweizer/in\", \"sum_WBev\": 7}, {\"GueltigAbDat\": \"2020-11-21T00:00:00\", \"GueltigAbDatJahr\": 2020, \"GueltigAbDatMM\": 11, \"HerkunftLang\": \"Schweizer/in\", \"sum_WBev\": 7}, {\"GueltigAbDat\": \"2021-09-08T00:00:00\", \"GueltigAbDatJahr\": 2021, \"GueltigAbDatMM\": 9, \"HerkunftLang\": \"Ausl\\u00e4nder/in\", \"sum_WBev\": 7}, {\"GueltigAbDat\": \"2021-02-20T00:00:00\", \"GueltigAbDatJahr\": 2021, \"GueltigAbDatMM\": 2, \"HerkunftLang\": \"Ausl\\u00e4nder/in\", \"sum_WBev\": 7}, {\"GueltigAbDat\": \"2021-09-06T00:00:00\", \"GueltigAbDatJahr\": 2021, \"GueltigAbDatMM\": 9, \"HerkunftLang\": \"Ausl\\u00e4nder/in\", \"sum_WBev\": 7}, {\"GueltigAbDat\": \"2020-11-12T00:00:00\", \"GueltigAbDatJahr\": 2020, \"GueltigAbDatMM\": 11, \"HerkunftLang\": \"Ausl\\u00e4nder/in\", \"sum_WBev\": 7}, {\"GueltigAbDat\": \"2021-05-30T00:00:00\", \"GueltigAbDatJahr\": 2021, \"GueltigAbDatMM\": 5, \"HerkunftLang\": \"Ausl\\u00e4nder/in\", \"sum_WBev\": 7}, {\"GueltigAbDat\": \"2021-10-23T00:00:00\", \"GueltigAbDatJahr\": 2021, \"GueltigAbDatMM\": 10, \"HerkunftLang\": \"Schweizer/in\", \"sum_WBev\": 7}, {\"GueltigAbDat\": \"2020-11-09T00:00:00\", \"GueltigAbDatJahr\": 2020, \"GueltigAbDatMM\": 11, \"HerkunftLang\": \"Schweizer/in\", \"sum_WBev\": 7}, {\"GueltigAbDat\": \"2021-05-18T00:00:00\", \"GueltigAbDatJahr\": 2021, \"GueltigAbDatMM\": 5, \"HerkunftLang\": \"Schweizer/in\", \"sum_WBev\": 7}, {\"GueltigAbDat\": \"2021-05-19T00:00:00\", \"GueltigAbDatJahr\": 2021, \"GueltigAbDatMM\": 5, \"HerkunftLang\": \"Ausl\\u00e4nder/in\", \"sum_WBev\": 7}, {\"GueltigAbDat\": \"2021-05-29T00:00:00\", \"GueltigAbDatJahr\": 2021, \"GueltigAbDatMM\": 5, \"HerkunftLang\": \"Schweizer/in\", \"sum_WBev\": 7}, {\"GueltigAbDat\": \"2020-11-15T00:00:00\", \"GueltigAbDatJahr\": 2020, \"GueltigAbDatMM\": 11, \"HerkunftLang\": \"Ausl\\u00e4nder/in\", \"sum_WBev\": 7}, {\"GueltigAbDat\": \"2021-08-29T00:00:00\", \"GueltigAbDatJahr\": 2021, \"GueltigAbDatMM\": 8, \"HerkunftLang\": \"Ausl\\u00e4nder/in\", \"sum_WBev\": 7}, {\"GueltigAbDat\": \"2021-07-10T00:00:00\", \"GueltigAbDatJahr\": 2021, \"GueltigAbDatMM\": 7, \"HerkunftLang\": \"Schweizer/in\", \"sum_WBev\": 7}, {\"GueltigAbDat\": \"2020-12-12T00:00:00\", \"GueltigAbDatJahr\": 2020, \"GueltigAbDatMM\": 12, \"HerkunftLang\": \"Schweizer/in\", \"sum_WBev\": 7}, {\"GueltigAbDat\": \"2021-11-05T00:00:00\", \"GueltigAbDatJahr\": 2021, \"GueltigAbDatMM\": 11, \"HerkunftLang\": \"Ausl\\u00e4nder/in\", \"sum_WBev\": 7}, {\"GueltigAbDat\": \"2021-01-13T00:00:00\", \"GueltigAbDatJahr\": 2021, \"GueltigAbDatMM\": 1, \"HerkunftLang\": \"Schweizer/in\", \"sum_WBev\": 7}, {\"GueltigAbDat\": \"2021-10-12T00:00:00\", \"GueltigAbDatJahr\": 2021, \"GueltigAbDatMM\": 10, \"HerkunftLang\": \"Ausl\\u00e4nder/in\", \"sum_WBev\": 7}, {\"GueltigAbDat\": \"2021-11-14T00:00:00\", \"GueltigAbDatJahr\": 2021, \"GueltigAbDatMM\": 11, \"HerkunftLang\": \"Schweizer/in\", \"sum_WBev\": 7}, {\"GueltigAbDat\": \"2021-01-19T00:00:00\", \"GueltigAbDatJahr\": 2021, \"GueltigAbDatMM\": 1, \"HerkunftLang\": \"Schweizer/in\", \"sum_WBev\": 7}, {\"GueltigAbDat\": \"2021-04-04T00:00:00\", \"GueltigAbDatJahr\": 2021, \"GueltigAbDatMM\": 4, \"HerkunftLang\": \"Ausl\\u00e4nder/in\", \"sum_WBev\": 7}, {\"GueltigAbDat\": \"2021-01-06T00:00:00\", \"GueltigAbDatJahr\": 2021, \"GueltigAbDatMM\": 1, \"HerkunftLang\": \"Schweizer/in\", \"sum_WBev\": 7}, {\"GueltigAbDat\": \"2021-08-13T00:00:00\", \"GueltigAbDatJahr\": 2021, \"GueltigAbDatMM\": 8, \"HerkunftLang\": \"Ausl\\u00e4nder/in\", \"sum_WBev\": 7}, {\"GueltigAbDat\": \"2021-04-07T00:00:00\", \"GueltigAbDatJahr\": 2021, \"GueltigAbDatMM\": 4, \"HerkunftLang\": \"Ausl\\u00e4nder/in\", \"sum_WBev\": 7}, {\"GueltigAbDat\": \"2021-08-01T00:00:00\", \"GueltigAbDatJahr\": 2021, \"GueltigAbDatMM\": 8, \"HerkunftLang\": \"Schweizer/in\", \"sum_WBev\": 7}, {\"GueltigAbDat\": \"2021-01-04T00:00:00\", \"GueltigAbDatJahr\": 2021, \"GueltigAbDatMM\": 1, \"HerkunftLang\": \"Schweizer/in\", \"sum_WBev\": 7}, {\"GueltigAbDat\": \"2021-04-08T00:00:00\", \"GueltigAbDatJahr\": 2021, \"GueltigAbDatMM\": 4, \"HerkunftLang\": \"Ausl\\u00e4nder/in\", \"sum_WBev\": 7}, {\"GueltigAbDat\": \"2021-08-16T00:00:00\", \"GueltigAbDatJahr\": 2021, \"GueltigAbDatMM\": 8, \"HerkunftLang\": \"Ausl\\u00e4nder/in\", \"sum_WBev\": 7}, {\"GueltigAbDat\": \"2021-01-14T00:00:00\", \"GueltigAbDatJahr\": 2021, \"GueltigAbDatMM\": 1, \"HerkunftLang\": \"Schweizer/in\", \"sum_WBev\": 7}, {\"GueltigAbDat\": \"2020-12-25T00:00:00\", \"GueltigAbDatJahr\": 2020, \"GueltigAbDatMM\": 12, \"HerkunftLang\": \"Schweizer/in\", \"sum_WBev\": 7}, {\"GueltigAbDat\": \"2021-03-29T00:00:00\", \"GueltigAbDatJahr\": 2021, \"GueltigAbDatMM\": 3, \"HerkunftLang\": \"Ausl\\u00e4nder/in\", \"sum_WBev\": 7}, {\"GueltigAbDat\": \"2021-03-07T00:00:00\", \"GueltigAbDatJahr\": 2021, \"GueltigAbDatMM\": 3, \"HerkunftLang\": \"Schweizer/in\", \"sum_WBev\": 7}, {\"GueltigAbDat\": \"2021-01-29T00:00:00\", \"GueltigAbDatJahr\": 2021, \"GueltigAbDatMM\": 1, \"HerkunftLang\": \"Ausl\\u00e4nder/in\", \"sum_WBev\": 7}, {\"GueltigAbDat\": \"2021-07-02T00:00:00\", \"GueltigAbDatJahr\": 2021, \"GueltigAbDatMM\": 7, \"HerkunftLang\": \"Schweizer/in\", \"sum_WBev\": 7}, {\"GueltigAbDat\": \"2021-04-20T00:00:00\", \"GueltigAbDatJahr\": 2021, \"GueltigAbDatMM\": 4, \"HerkunftLang\": \"Schweizer/in\", \"sum_WBev\": 7}, {\"GueltigAbDat\": \"2020-12-19T00:00:00\", \"GueltigAbDatJahr\": 2020, \"GueltigAbDatMM\": 12, \"HerkunftLang\": \"Ausl\\u00e4nder/in\", \"sum_WBev\": 7}, {\"GueltigAbDat\": \"2021-06-27T00:00:00\", \"GueltigAbDatJahr\": 2021, \"GueltigAbDatMM\": 6, \"HerkunftLang\": \"Ausl\\u00e4nder/in\", \"sum_WBev\": 7}, {\"GueltigAbDat\": \"2021-11-10T00:00:00\", \"GueltigAbDatJahr\": 2021, \"GueltigAbDatMM\": 11, \"HerkunftLang\": \"Ausl\\u00e4nder/in\", \"sum_WBev\": 7}, {\"GueltigAbDat\": \"2021-07-29T00:00:00\", \"GueltigAbDatJahr\": 2021, \"GueltigAbDatMM\": 7, \"HerkunftLang\": \"Ausl\\u00e4nder/in\", \"sum_WBev\": 7}, {\"GueltigAbDat\": \"2021-06-13T00:00:00\", \"GueltigAbDatJahr\": 2021, \"GueltigAbDatMM\": 6, \"HerkunftLang\": \"Schweizer/in\", \"sum_WBev\": 7}, {\"GueltigAbDat\": \"2020-12-20T00:00:00\", \"GueltigAbDatJahr\": 2020, \"GueltigAbDatMM\": 12, \"HerkunftLang\": \"Schweizer/in\", \"sum_WBev\": 7}, {\"GueltigAbDat\": \"2021-06-14T00:00:00\", \"GueltigAbDatJahr\": 2021, \"GueltigAbDatMM\": 6, \"HerkunftLang\": \"Schweizer/in\", \"sum_WBev\": 7}, {\"GueltigAbDat\": \"2021-01-24T00:00:00\", \"GueltigAbDatJahr\": 2021, \"GueltigAbDatMM\": 1, \"HerkunftLang\": \"Schweizer/in\", \"sum_WBev\": 7}, {\"GueltigAbDat\": \"2021-03-22T00:00:00\", \"GueltigAbDatJahr\": 2021, \"GueltigAbDatMM\": 3, \"HerkunftLang\": \"Schweizer/in\", \"sum_WBev\": 7}, {\"GueltigAbDat\": \"2021-09-25T00:00:00\", \"GueltigAbDatJahr\": 2021, \"GueltigAbDatMM\": 9, \"HerkunftLang\": \"Schweizer/in\", \"sum_WBev\": 6}, {\"GueltigAbDat\": \"2021-08-04T00:00:00\", \"GueltigAbDatJahr\": 2021, \"GueltigAbDatMM\": 8, \"HerkunftLang\": \"Schweizer/in\", \"sum_WBev\": 6}, {\"GueltigAbDat\": \"2021-07-20T00:00:00\", \"GueltigAbDatJahr\": 2021, \"GueltigAbDatMM\": 7, \"HerkunftLang\": \"Ausl\\u00e4nder/in\", \"sum_WBev\": 6}, {\"GueltigAbDat\": \"2021-09-19T00:00:00\", \"GueltigAbDatJahr\": 2021, \"GueltigAbDatMM\": 9, \"HerkunftLang\": \"Ausl\\u00e4nder/in\", \"sum_WBev\": 6}, {\"GueltigAbDat\": \"2021-06-29T00:00:00\", \"GueltigAbDatJahr\": 2021, \"GueltigAbDatMM\": 6, \"HerkunftLang\": \"Ausl\\u00e4nder/in\", \"sum_WBev\": 6}, {\"GueltigAbDat\": \"2021-08-02T00:00:00\", \"GueltigAbDatJahr\": 2021, \"GueltigAbDatMM\": 8, \"HerkunftLang\": \"Ausl\\u00e4nder/in\", \"sum_WBev\": 6}, {\"GueltigAbDat\": \"2021-10-07T00:00:00\", \"GueltigAbDatJahr\": 2021, \"GueltigAbDatMM\": 10, \"HerkunftLang\": \"Schweizer/in\", \"sum_WBev\": 6}, {\"GueltigAbDat\": \"2021-07-04T00:00:00\", \"GueltigAbDatJahr\": 2021, \"GueltigAbDatMM\": 7, \"HerkunftLang\": \"Ausl\\u00e4nder/in\", \"sum_WBev\": 6}, {\"GueltigAbDat\": \"2021-10-11T00:00:00\", \"GueltigAbDatJahr\": 2021, \"GueltigAbDatMM\": 10, \"HerkunftLang\": \"Ausl\\u00e4nder/in\", \"sum_WBev\": 6}, {\"GueltigAbDat\": \"2021-09-18T00:00:00\", \"GueltigAbDatJahr\": 2021, \"GueltigAbDatMM\": 9, \"HerkunftLang\": \"Schweizer/in\", \"sum_WBev\": 6}, {\"GueltigAbDat\": \"2021-10-04T00:00:00\", \"GueltigAbDatJahr\": 2021, \"GueltigAbDatMM\": 10, \"HerkunftLang\": \"Ausl\\u00e4nder/in\", \"sum_WBev\": 6}, {\"GueltigAbDat\": \"2021-07-05T00:00:00\", \"GueltigAbDatJahr\": 2021, \"GueltigAbDatMM\": 7, \"HerkunftLang\": \"Ausl\\u00e4nder/in\", \"sum_WBev\": 6}, {\"GueltigAbDat\": \"2021-06-22T00:00:00\", \"GueltigAbDatJahr\": 2021, \"GueltigAbDatMM\": 6, \"HerkunftLang\": \"Ausl\\u00e4nder/in\", \"sum_WBev\": 6}, {\"GueltigAbDat\": \"2021-09-16T00:00:00\", \"GueltigAbDatJahr\": 2021, \"GueltigAbDatMM\": 9, \"HerkunftLang\": \"Ausl\\u00e4nder/in\", \"sum_WBev\": 6}, {\"GueltigAbDat\": \"2021-10-06T00:00:00\", \"GueltigAbDatJahr\": 2021, \"GueltigAbDatMM\": 10, \"HerkunftLang\": \"Ausl\\u00e4nder/in\", \"sum_WBev\": 6}, {\"GueltigAbDat\": \"2021-09-30T00:00:00\", \"GueltigAbDatJahr\": 2021, \"GueltigAbDatMM\": 9, \"HerkunftLang\": \"Ausl\\u00e4nder/in\", \"sum_WBev\": 6}, {\"GueltigAbDat\": \"2021-08-25T00:00:00\", \"GueltigAbDatJahr\": 2021, \"GueltigAbDatMM\": 8, \"HerkunftLang\": \"Ausl\\u00e4nder/in\", \"sum_WBev\": 6}, {\"GueltigAbDat\": \"2021-08-23T00:00:00\", \"GueltigAbDatJahr\": 2021, \"GueltigAbDatMM\": 8, \"HerkunftLang\": \"Ausl\\u00e4nder/in\", \"sum_WBev\": 6}, {\"GueltigAbDat\": \"2021-06-12T00:00:00\", \"GueltigAbDatJahr\": 2021, \"GueltigAbDatMM\": 6, \"HerkunftLang\": \"Schweizer/in\", \"sum_WBev\": 6}, {\"GueltigAbDat\": \"2021-10-14T00:00:00\", \"GueltigAbDatJahr\": 2021, \"GueltigAbDatMM\": 10, \"HerkunftLang\": \"Ausl\\u00e4nder/in\", \"sum_WBev\": 6}, {\"GueltigAbDat\": \"2021-06-15T00:00:00\", \"GueltigAbDatJahr\": 2021, \"GueltigAbDatMM\": 6, \"HerkunftLang\": \"Ausl\\u00e4nder/in\", \"sum_WBev\": 6}, {\"GueltigAbDat\": \"2021-06-06T00:00:00\", \"GueltigAbDatJahr\": 2021, \"GueltigAbDatMM\": 6, \"HerkunftLang\": \"Schweizer/in\", \"sum_WBev\": 6}, {\"GueltigAbDat\": \"2021-08-21T00:00:00\", \"GueltigAbDatJahr\": 2021, \"GueltigAbDatMM\": 8, \"HerkunftLang\": \"Schweizer/in\", \"sum_WBev\": 6}, {\"GueltigAbDat\": \"2021-06-06T00:00:00\", \"GueltigAbDatJahr\": 2021, \"GueltigAbDatMM\": 6, \"HerkunftLang\": \"Ausl\\u00e4nder/in\", \"sum_WBev\": 6}, {\"GueltigAbDat\": \"2021-08-17T00:00:00\", \"GueltigAbDatJahr\": 2021, \"GueltigAbDatMM\": 8, \"HerkunftLang\": \"Ausl\\u00e4nder/in\", \"sum_WBev\": 6}, {\"GueltigAbDat\": \"2021-09-05T00:00:00\", \"GueltigAbDatJahr\": 2021, \"GueltigAbDatMM\": 9, \"HerkunftLang\": \"Schweizer/in\", \"sum_WBev\": 6}, {\"GueltigAbDat\": \"2021-06-04T00:00:00\", \"GueltigAbDatJahr\": 2021, \"GueltigAbDatMM\": 6, \"HerkunftLang\": \"Ausl\\u00e4nder/in\", \"sum_WBev\": 6}, {\"GueltigAbDat\": \"2021-06-17T00:00:00\", \"GueltigAbDatJahr\": 2021, \"GueltigAbDatMM\": 6, \"HerkunftLang\": \"Schweizer/in\", \"sum_WBev\": 6}, {\"GueltigAbDat\": \"2021-10-13T00:00:00\", \"GueltigAbDatJahr\": 2021, \"GueltigAbDatMM\": 10, \"HerkunftLang\": \"Ausl\\u00e4nder/in\", \"sum_WBev\": 6}, {\"GueltigAbDat\": \"2021-07-18T00:00:00\", \"GueltigAbDatJahr\": 2021, \"GueltigAbDatMM\": 7, \"HerkunftLang\": \"Ausl\\u00e4nder/in\", \"sum_WBev\": 6}, {\"GueltigAbDat\": \"2021-08-11T00:00:00\", \"GueltigAbDatJahr\": 2021, \"GueltigAbDatMM\": 8, \"HerkunftLang\": \"Ausl\\u00e4nder/in\", \"sum_WBev\": 6}, {\"GueltigAbDat\": \"2021-08-09T00:00:00\", \"GueltigAbDatJahr\": 2021, \"GueltigAbDatMM\": 8, \"HerkunftLang\": \"Schweizer/in\", \"sum_WBev\": 6}, {\"GueltigAbDat\": \"2021-08-07T00:00:00\", \"GueltigAbDatJahr\": 2021, \"GueltigAbDatMM\": 8, \"HerkunftLang\": \"Ausl\\u00e4nder/in\", \"sum_WBev\": 6}, {\"GueltigAbDat\": \"2021-08-24T00:00:00\", \"GueltigAbDatJahr\": 2021, \"GueltigAbDatMM\": 8, \"HerkunftLang\": \"Ausl\\u00e4nder/in\", \"sum_WBev\": 6}, {\"GueltigAbDat\": \"2021-09-24T00:00:00\", \"GueltigAbDatJahr\": 2021, \"GueltigAbDatMM\": 9, \"HerkunftLang\": \"Ausl\\u00e4nder/in\", \"sum_WBev\": 6}, {\"GueltigAbDat\": \"2021-02-02T00:00:00\", \"GueltigAbDatJahr\": 2021, \"GueltigAbDatMM\": 2, \"HerkunftLang\": \"Schweizer/in\", \"sum_WBev\": 6}, {\"GueltigAbDat\": \"2021-03-21T00:00:00\", \"GueltigAbDatJahr\": 2021, \"GueltigAbDatMM\": 3, \"HerkunftLang\": \"Schweizer/in\", \"sum_WBev\": 6}, {\"GueltigAbDat\": \"2021-11-07T00:00:00\", \"GueltigAbDatJahr\": 2021, \"GueltigAbDatMM\": 11, \"HerkunftLang\": \"Schweizer/in\", \"sum_WBev\": 6}, {\"GueltigAbDat\": \"2021-02-16T00:00:00\", \"GueltigAbDatJahr\": 2021, \"GueltigAbDatMM\": 2, \"HerkunftLang\": \"Ausl\\u00e4nder/in\", \"sum_WBev\": 6}, {\"GueltigAbDat\": \"2020-12-04T00:00:00\", \"GueltigAbDatJahr\": 2020, \"GueltigAbDatMM\": 12, \"HerkunftLang\": \"Schweizer/in\", \"sum_WBev\": 6}, {\"GueltigAbDat\": \"2020-12-03T00:00:00\", \"GueltigAbDatJahr\": 2020, \"GueltigAbDatMM\": 12, \"HerkunftLang\": \"Ausl\\u00e4nder/in\", \"sum_WBev\": 6}, {\"GueltigAbDat\": \"2020-12-01T00:00:00\", \"GueltigAbDatJahr\": 2020, \"GueltigAbDatMM\": 12, \"HerkunftLang\": \"Ausl\\u00e4nder/in\", \"sum_WBev\": 6}, {\"GueltigAbDat\": \"2021-11-25T00:00:00\", \"GueltigAbDatJahr\": 2021, \"GueltigAbDatMM\": 11, \"HerkunftLang\": \"Schweizer/in\", \"sum_WBev\": 6}, {\"GueltigAbDat\": \"2021-11-27T00:00:00\", \"GueltigAbDatJahr\": 2021, \"GueltigAbDatMM\": 11, \"HerkunftLang\": \"Ausl\\u00e4nder/in\", \"sum_WBev\": 6}, {\"GueltigAbDat\": \"2021-11-09T00:00:00\", \"GueltigAbDatJahr\": 2021, \"GueltigAbDatMM\": 11, \"HerkunftLang\": \"Ausl\\u00e4nder/in\", \"sum_WBev\": 6}, {\"GueltigAbDat\": \"2021-10-31T00:00:00\", \"GueltigAbDatJahr\": 2021, \"GueltigAbDatMM\": 10, \"HerkunftLang\": \"Ausl\\u00e4nder/in\", \"sum_WBev\": 6}, {\"GueltigAbDat\": \"2021-10-30T00:00:00\", \"GueltigAbDatJahr\": 2021, \"GueltigAbDatMM\": 10, \"HerkunftLang\": \"Schweizer/in\", \"sum_WBev\": 6}, {\"GueltigAbDat\": \"2021-03-29T00:00:00\", \"GueltigAbDatJahr\": 2021, \"GueltigAbDatMM\": 3, \"HerkunftLang\": \"Schweizer/in\", \"sum_WBev\": 6}, {\"GueltigAbDat\": \"2020-11-19T00:00:00\", \"GueltigAbDatJahr\": 2020, \"GueltigAbDatMM\": 11, \"HerkunftLang\": \"Ausl\\u00e4nder/in\", \"sum_WBev\": 6}, {\"GueltigAbDat\": \"2021-04-03T00:00:00\", \"GueltigAbDatJahr\": 2021, \"GueltigAbDatMM\": 4, \"HerkunftLang\": \"Schweizer/in\", \"sum_WBev\": 6}, {\"GueltigAbDat\": \"2021-04-10T00:00:00\", \"GueltigAbDatJahr\": 2021, \"GueltigAbDatMM\": 4, \"HerkunftLang\": \"Ausl\\u00e4nder/in\", \"sum_WBev\": 6}, {\"GueltigAbDat\": \"2021-02-10T00:00:00\", \"GueltigAbDatJahr\": 2021, \"GueltigAbDatMM\": 2, \"HerkunftLang\": \"Ausl\\u00e4nder/in\", \"sum_WBev\": 6}, {\"GueltigAbDat\": \"2021-02-07T00:00:00\", \"GueltigAbDatJahr\": 2021, \"GueltigAbDatMM\": 2, \"HerkunftLang\": \"Ausl\\u00e4nder/in\", \"sum_WBev\": 6}, {\"GueltigAbDat\": \"2020-11-08T00:00:00\", \"GueltigAbDatJahr\": 2020, \"GueltigAbDatMM\": 11, \"HerkunftLang\": \"Schweizer/in\", \"sum_WBev\": 6}, {\"GueltigAbDat\": \"2021-11-13T00:00:00\", \"GueltigAbDatJahr\": 2021, \"GueltigAbDatMM\": 11, \"HerkunftLang\": \"Schweizer/in\", \"sum_WBev\": 6}, {\"GueltigAbDat\": \"2021-01-04T00:00:00\", \"GueltigAbDatJahr\": 2021, \"GueltigAbDatMM\": 1, \"HerkunftLang\": \"Ausl\\u00e4nder/in\", \"sum_WBev\": 6}, {\"GueltigAbDat\": \"2021-01-05T00:00:00\", \"GueltigAbDatJahr\": 2021, \"GueltigAbDatMM\": 1, \"HerkunftLang\": \"Ausl\\u00e4nder/in\", \"sum_WBev\": 6}, {\"GueltigAbDat\": \"2021-01-08T00:00:00\", \"GueltigAbDatJahr\": 2021, \"GueltigAbDatMM\": 1, \"HerkunftLang\": \"Ausl\\u00e4nder/in\", \"sum_WBev\": 6}, {\"GueltigAbDat\": \"2021-01-10T00:00:00\", \"GueltigAbDatJahr\": 2021, \"GueltigAbDatMM\": 1, \"HerkunftLang\": \"Ausl\\u00e4nder/in\", \"sum_WBev\": 6}, {\"GueltigAbDat\": \"2021-01-12T00:00:00\", \"GueltigAbDatJahr\": 2021, \"GueltigAbDatMM\": 1, \"HerkunftLang\": \"Ausl\\u00e4nder/in\", \"sum_WBev\": 6}, {\"GueltigAbDat\": \"2021-01-16T00:00:00\", \"GueltigAbDatJahr\": 2021, \"GueltigAbDatMM\": 1, \"HerkunftLang\": \"Ausl\\u00e4nder/in\", \"sum_WBev\": 6}, {\"GueltigAbDat\": \"2021-01-22T00:00:00\", \"GueltigAbDatJahr\": 2021, \"GueltigAbDatMM\": 1, \"HerkunftLang\": \"Ausl\\u00e4nder/in\", \"sum_WBev\": 6}, {\"GueltigAbDat\": \"2021-11-20T00:00:00\", \"GueltigAbDatJahr\": 2021, \"GueltigAbDatMM\": 11, \"HerkunftLang\": \"Schweizer/in\", \"sum_WBev\": 6}, {\"GueltigAbDat\": \"2020-12-20T00:00:00\", \"GueltigAbDatJahr\": 2020, \"GueltigAbDatMM\": 12, \"HerkunftLang\": \"Ausl\\u00e4nder/in\", \"sum_WBev\": 6}, {\"GueltigAbDat\": \"2021-01-25T00:00:00\", \"GueltigAbDatJahr\": 2021, \"GueltigAbDatMM\": 1, \"HerkunftLang\": \"Ausl\\u00e4nder/in\", \"sum_WBev\": 6}, {\"GueltigAbDat\": \"2021-01-26T00:00:00\", \"GueltigAbDatJahr\": 2021, \"GueltigAbDatMM\": 1, \"HerkunftLang\": \"Ausl\\u00e4nder/in\", \"sum_WBev\": 6}, {\"GueltigAbDat\": \"2021-01-27T00:00:00\", \"GueltigAbDatJahr\": 2021, \"GueltigAbDatMM\": 1, \"HerkunftLang\": \"Schweizer/in\", \"sum_WBev\": 6}, {\"GueltigAbDat\": \"2020-12-18T00:00:00\", \"GueltigAbDatJahr\": 2020, \"GueltigAbDatMM\": 12, \"HerkunftLang\": \"Ausl\\u00e4nder/in\", \"sum_WBev\": 6}, {\"GueltigAbDat\": \"2021-02-01T00:00:00\", \"GueltigAbDatJahr\": 2021, \"GueltigAbDatMM\": 2, \"HerkunftLang\": \"Ausl\\u00e4nder/in\", \"sum_WBev\": 6}, {\"GueltigAbDat\": \"2021-04-13T00:00:00\", \"GueltigAbDatJahr\": 2021, \"GueltigAbDatMM\": 4, \"HerkunftLang\": \"Schweizer/in\", \"sum_WBev\": 6}, {\"GueltigAbDat\": \"2020-11-25T00:00:00\", \"GueltigAbDatJahr\": 2020, \"GueltigAbDatMM\": 11, \"HerkunftLang\": \"Schweizer/in\", \"sum_WBev\": 6}, {\"GueltigAbDat\": \"2021-05-04T00:00:00\", \"GueltigAbDatJahr\": 2021, \"GueltigAbDatMM\": 5, \"HerkunftLang\": \"Schweizer/in\", \"sum_WBev\": 6}, {\"GueltigAbDat\": \"2021-05-15T00:00:00\", \"GueltigAbDatJahr\": 2021, \"GueltigAbDatMM\": 5, \"HerkunftLang\": \"Ausl\\u00e4nder/in\", \"sum_WBev\": 6}, {\"GueltigAbDat\": \"2021-04-21T00:00:00\", \"GueltigAbDatJahr\": 2021, \"GueltigAbDatMM\": 4, \"HerkunftLang\": \"Ausl\\u00e4nder/in\", \"sum_WBev\": 6}, {\"GueltigAbDat\": \"2021-04-16T00:00:00\", \"GueltigAbDatJahr\": 2021, \"GueltigAbDatMM\": 4, \"HerkunftLang\": \"Schweizer/in\", \"sum_WBev\": 6}, {\"GueltigAbDat\": \"2021-05-10T00:00:00\", \"GueltigAbDatJahr\": 2021, \"GueltigAbDatMM\": 5, \"HerkunftLang\": \"Ausl\\u00e4nder/in\", \"sum_WBev\": 6}, {\"GueltigAbDat\": \"2021-05-11T00:00:00\", \"GueltigAbDatJahr\": 2021, \"GueltigAbDatMM\": 5, \"HerkunftLang\": \"Ausl\\u00e4nder/in\", \"sum_WBev\": 6}, {\"GueltigAbDat\": \"2021-05-01T00:00:00\", \"GueltigAbDatJahr\": 2021, \"GueltigAbDatMM\": 5, \"HerkunftLang\": \"Ausl\\u00e4nder/in\", \"sum_WBev\": 6}, {\"GueltigAbDat\": \"2021-10-21T00:00:00\", \"GueltigAbDatJahr\": 2021, \"GueltigAbDatMM\": 10, \"HerkunftLang\": \"Ausl\\u00e4nder/in\", \"sum_WBev\": 6}, {\"GueltigAbDat\": \"2021-05-08T00:00:00\", \"GueltigAbDatJahr\": 2021, \"GueltigAbDatMM\": 5, \"HerkunftLang\": \"Schweizer/in\", \"sum_WBev\": 6}, {\"GueltigAbDat\": \"2020-11-02T00:00:00\", \"GueltigAbDatJahr\": 2020, \"GueltigAbDatMM\": 11, \"HerkunftLang\": \"Ausl\\u00e4nder/in\", \"sum_WBev\": 6}, {\"GueltigAbDat\": \"2021-10-20T00:00:00\", \"GueltigAbDatJahr\": 2021, \"GueltigAbDatMM\": 10, \"HerkunftLang\": \"Ausl\\u00e4nder/in\", \"sum_WBev\": 6}, {\"GueltigAbDat\": \"2021-10-22T00:00:00\", \"GueltigAbDatJahr\": 2021, \"GueltigAbDatMM\": 10, \"HerkunftLang\": \"Schweizer/in\", \"sum_WBev\": 6}, {\"GueltigAbDat\": \"2021-05-20T00:00:00\", \"GueltigAbDatJahr\": 2021, \"GueltigAbDatMM\": 5, \"HerkunftLang\": \"Ausl\\u00e4nder/in\", \"sum_WBev\": 6}, {\"GueltigAbDat\": \"2021-08-09T00:00:00\", \"GueltigAbDatJahr\": 2021, \"GueltigAbDatMM\": 8, \"HerkunftLang\": \"Ausl\\u00e4nder/in\", \"sum_WBev\": 5}, {\"GueltigAbDat\": \"2020-12-11T00:00:00\", \"GueltigAbDatJahr\": 2020, \"GueltigAbDatMM\": 12, \"HerkunftLang\": \"Ausl\\u00e4nder/in\", \"sum_WBev\": 5}, {\"GueltigAbDat\": \"2021-02-13T00:00:00\", \"GueltigAbDatJahr\": 2021, \"GueltigAbDatMM\": 2, \"HerkunftLang\": \"Ausl\\u00e4nder/in\", \"sum_WBev\": 5}, {\"GueltigAbDat\": \"2021-11-22T00:00:00\", \"GueltigAbDatJahr\": 2021, \"GueltigAbDatMM\": 11, \"HerkunftLang\": \"Ausl\\u00e4nder/in\", \"sum_WBev\": 5}, {\"GueltigAbDat\": \"2021-08-28T00:00:00\", \"GueltigAbDatJahr\": 2021, \"GueltigAbDatMM\": 8, \"HerkunftLang\": \"Ausl\\u00e4nder/in\", \"sum_WBev\": 5}, {\"GueltigAbDat\": \"2021-05-03T00:00:00\", \"GueltigAbDatJahr\": 2021, \"GueltigAbDatMM\": 5, \"HerkunftLang\": \"Schweizer/in\", \"sum_WBev\": 5}, {\"GueltigAbDat\": \"2020-11-10T00:00:00\", \"GueltigAbDatJahr\": 2020, \"GueltigAbDatMM\": 11, \"HerkunftLang\": \"Ausl\\u00e4nder/in\", \"sum_WBev\": 5}, {\"GueltigAbDat\": \"2021-02-18T00:00:00\", \"GueltigAbDatJahr\": 2021, \"GueltigAbDatMM\": 2, \"HerkunftLang\": \"Ausl\\u00e4nder/in\", \"sum_WBev\": 5}, {\"GueltigAbDat\": \"2020-12-12T00:00:00\", \"GueltigAbDatJahr\": 2020, \"GueltigAbDatMM\": 12, \"HerkunftLang\": \"Ausl\\u00e4nder/in\", \"sum_WBev\": 5}, {\"GueltigAbDat\": \"2020-12-04T00:00:00\", \"GueltigAbDatJahr\": 2020, \"GueltigAbDatMM\": 12, \"HerkunftLang\": \"Ausl\\u00e4nder/in\", \"sum_WBev\": 5}, {\"GueltigAbDat\": \"2021-02-21T00:00:00\", \"GueltigAbDatJahr\": 2021, \"GueltigAbDatMM\": 2, \"HerkunftLang\": \"Schweizer/in\", \"sum_WBev\": 5}, {\"GueltigAbDat\": \"2021-01-10T00:00:00\", \"GueltigAbDatJahr\": 2021, \"GueltigAbDatMM\": 1, \"HerkunftLang\": \"Schweizer/in\", \"sum_WBev\": 5}, {\"GueltigAbDat\": \"2021-02-23T00:00:00\", \"GueltigAbDatJahr\": 2021, \"GueltigAbDatMM\": 2, \"HerkunftLang\": \"Ausl\\u00e4nder/in\", \"sum_WBev\": 5}, {\"GueltigAbDat\": \"2021-02-25T00:00:00\", \"GueltigAbDatJahr\": 2021, \"GueltigAbDatMM\": 2, \"HerkunftLang\": \"Ausl\\u00e4nder/in\", \"sum_WBev\": 5}, {\"GueltigAbDat\": \"2021-02-26T00:00:00\", \"GueltigAbDatJahr\": 2021, \"GueltigAbDatMM\": 2, \"HerkunftLang\": \"Ausl\\u00e4nder/in\", \"sum_WBev\": 5}, {\"GueltigAbDat\": \"2020-12-28T00:00:00\", \"GueltigAbDatJahr\": 2020, \"GueltigAbDatMM\": 12, \"HerkunftLang\": \"Ausl\\u00e4nder/in\", \"sum_WBev\": 5}, {\"GueltigAbDat\": \"2021-08-31T00:00:00\", \"GueltigAbDatJahr\": 2021, \"GueltigAbDatMM\": 8, \"HerkunftLang\": \"Ausl\\u00e4nder/in\", \"sum_WBev\": 5}, {\"GueltigAbDat\": \"2021-01-13T00:00:00\", \"GueltigAbDatJahr\": 2021, \"GueltigAbDatMM\": 1, \"HerkunftLang\": \"Ausl\\u00e4nder/in\", \"sum_WBev\": 5}, {\"GueltigAbDat\": \"2021-08-27T00:00:00\", \"GueltigAbDatJahr\": 2021, \"GueltigAbDatMM\": 8, \"HerkunftLang\": \"Ausl\\u00e4nder/in\", \"sum_WBev\": 5}, {\"GueltigAbDat\": \"2021-07-30T00:00:00\", \"GueltigAbDatJahr\": 2021, \"GueltigAbDatMM\": 7, \"HerkunftLang\": \"Ausl\\u00e4nder/in\", \"sum_WBev\": 5}, {\"GueltigAbDat\": \"2021-10-01T00:00:00\", \"GueltigAbDatJahr\": 2021, \"GueltigAbDatMM\": 10, \"HerkunftLang\": \"Ausl\\u00e4nder/in\", \"sum_WBev\": 5}, {\"GueltigAbDat\": \"2021-08-03T00:00:00\", \"GueltigAbDatJahr\": 2021, \"GueltigAbDatMM\": 8, \"HerkunftLang\": \"Ausl\\u00e4nder/in\", \"sum_WBev\": 5}, {\"GueltigAbDat\": \"2020-12-21T00:00:00\", \"GueltigAbDatJahr\": 2020, \"GueltigAbDatMM\": 12, \"HerkunftLang\": \"Ausl\\u00e4nder/in\", \"sum_WBev\": 5}, {\"GueltigAbDat\": \"2020-11-01T00:00:00\", \"GueltigAbDatJahr\": 2020, \"GueltigAbDatMM\": 11, \"HerkunftLang\": \"Schweizer/in\", \"sum_WBev\": 5}, {\"GueltigAbDat\": \"2021-08-05T00:00:00\", \"GueltigAbDatJahr\": 2021, \"GueltigAbDatMM\": 8, \"HerkunftLang\": \"Ausl\\u00e4nder/in\", \"sum_WBev\": 5}, {\"GueltigAbDat\": \"2021-05-17T00:00:00\", \"GueltigAbDatJahr\": 2021, \"GueltigAbDatMM\": 5, \"HerkunftLang\": \"Ausl\\u00e4nder/in\", \"sum_WBev\": 5}, {\"GueltigAbDat\": \"2021-01-24T00:00:00\", \"GueltigAbDatJahr\": 2021, \"GueltigAbDatMM\": 1, \"HerkunftLang\": \"Ausl\\u00e4nder/in\", \"sum_WBev\": 5}, {\"GueltigAbDat\": \"2021-01-31T00:00:00\", \"GueltigAbDatJahr\": 2021, \"GueltigAbDatMM\": 1, \"HerkunftLang\": \"Ausl\\u00e4nder/in\", \"sum_WBev\": 5}, {\"GueltigAbDat\": \"2020-12-22T00:00:00\", \"GueltigAbDatJahr\": 2020, \"GueltigAbDatMM\": 12, \"HerkunftLang\": \"Ausl\\u00e4nder/in\", \"sum_WBev\": 5}, {\"GueltigAbDat\": \"2021-07-28T00:00:00\", \"GueltigAbDatJahr\": 2021, \"GueltigAbDatMM\": 7, \"HerkunftLang\": \"Ausl\\u00e4nder/in\", \"sum_WBev\": 5}, {\"GueltigAbDat\": \"2021-08-06T00:00:00\", \"GueltigAbDatJahr\": 2021, \"GueltigAbDatMM\": 8, \"HerkunftLang\": \"Ausl\\u00e4nder/in\", \"sum_WBev\": 5}, {\"GueltigAbDat\": \"2021-10-19T00:00:00\", \"GueltigAbDatJahr\": 2021, \"GueltigAbDatMM\": 10, \"HerkunftLang\": \"Ausl\\u00e4nder/in\", \"sum_WBev\": 5}, {\"GueltigAbDat\": \"2021-10-22T00:00:00\", \"GueltigAbDatJahr\": 2021, \"GueltigAbDatMM\": 10, \"HerkunftLang\": \"Ausl\\u00e4nder/in\", \"sum_WBev\": 5}, {\"GueltigAbDat\": \"2021-02-04T00:00:00\", \"GueltigAbDatJahr\": 2021, \"GueltigAbDatMM\": 2, \"HerkunftLang\": \"Ausl\\u00e4nder/in\", \"sum_WBev\": 5}, {\"GueltigAbDat\": \"2021-07-24T00:00:00\", \"GueltigAbDatJahr\": 2021, \"GueltigAbDatMM\": 7, \"HerkunftLang\": \"Ausl\\u00e4nder/in\", \"sum_WBev\": 5}, {\"GueltigAbDat\": \"2020-12-13T00:00:00\", \"GueltigAbDatJahr\": 2020, \"GueltigAbDatMM\": 12, \"HerkunftLang\": \"Schweizer/in\", \"sum_WBev\": 5}, {\"GueltigAbDat\": \"2021-05-29T00:00:00\", \"GueltigAbDatJahr\": 2021, \"GueltigAbDatMM\": 5, \"HerkunftLang\": \"Ausl\\u00e4nder/in\", \"sum_WBev\": 5}, {\"GueltigAbDat\": \"2021-02-27T00:00:00\", \"GueltigAbDatJahr\": 2021, \"GueltigAbDatMM\": 2, \"HerkunftLang\": \"Ausl\\u00e4nder/in\", \"sum_WBev\": 5}, {\"GueltigAbDat\": \"2020-11-29T00:00:00\", \"GueltigAbDatJahr\": 2020, \"GueltigAbDatMM\": 11, \"HerkunftLang\": \"Ausl\\u00e4nder/in\", \"sum_WBev\": 5}, {\"GueltigAbDat\": \"2020-11-18T00:00:00\", \"GueltigAbDatJahr\": 2020, \"GueltigAbDatMM\": 11, \"HerkunftLang\": \"Ausl\\u00e4nder/in\", \"sum_WBev\": 5}, {\"GueltigAbDat\": \"2020-11-19T00:00:00\", \"GueltigAbDatJahr\": 2020, \"GueltigAbDatMM\": 11, \"HerkunftLang\": \"Schweizer/in\", \"sum_WBev\": 5}, {\"GueltigAbDat\": \"2021-03-24T00:00:00\", \"GueltigAbDatJahr\": 2021, \"GueltigAbDatMM\": 3, \"HerkunftLang\": \"Ausl\\u00e4nder/in\", \"sum_WBev\": 5}, {\"GueltigAbDat\": \"2021-06-25T00:00:00\", \"GueltigAbDatJahr\": 2021, \"GueltigAbDatMM\": 6, \"HerkunftLang\": \"Ausl\\u00e4nder/in\", \"sum_WBev\": 5}, {\"GueltigAbDat\": \"2021-06-24T00:00:00\", \"GueltigAbDatJahr\": 2021, \"GueltigAbDatMM\": 6, \"HerkunftLang\": \"Schweizer/in\", \"sum_WBev\": 5}, {\"GueltigAbDat\": \"2021-01-06T00:00:00\", \"GueltigAbDatJahr\": 2021, \"GueltigAbDatMM\": 1, \"HerkunftLang\": \"Ausl\\u00e4nder/in\", \"sum_WBev\": 5}, {\"GueltigAbDat\": \"2021-09-12T00:00:00\", \"GueltigAbDatJahr\": 2021, \"GueltigAbDatMM\": 9, \"HerkunftLang\": \"Schweizer/in\", \"sum_WBev\": 5}, {\"GueltigAbDat\": \"2021-05-28T00:00:00\", \"GueltigAbDatJahr\": 2021, \"GueltigAbDatMM\": 5, \"HerkunftLang\": \"Ausl\\u00e4nder/in\", \"sum_WBev\": 5}, {\"GueltigAbDat\": \"2021-04-20T00:00:00\", \"GueltigAbDatJahr\": 2021, \"GueltigAbDatMM\": 4, \"HerkunftLang\": \"Ausl\\u00e4nder/in\", \"sum_WBev\": 5}, {\"GueltigAbDat\": \"2021-04-18T00:00:00\", \"GueltigAbDatJahr\": 2021, \"GueltigAbDatMM\": 4, \"HerkunftLang\": \"Ausl\\u00e4nder/in\", \"sum_WBev\": 5}, {\"GueltigAbDat\": \"2021-04-01T00:00:00\", \"GueltigAbDatJahr\": 2021, \"GueltigAbDatMM\": 4, \"HerkunftLang\": \"Ausl\\u00e4nder/in\", \"sum_WBev\": 5}, {\"GueltigAbDat\": \"2021-04-27T00:00:00\", \"GueltigAbDatJahr\": 2021, \"GueltigAbDatMM\": 4, \"HerkunftLang\": \"Ausl\\u00e4nder/in\", \"sum_WBev\": 5}, {\"GueltigAbDat\": \"2021-09-14T00:00:00\", \"GueltigAbDatJahr\": 2021, \"GueltigAbDatMM\": 9, \"HerkunftLang\": \"Ausl\\u00e4nder/in\", \"sum_WBev\": 5}, {\"GueltigAbDat\": \"2021-06-12T00:00:00\", \"GueltigAbDatJahr\": 2021, \"GueltigAbDatMM\": 6, \"HerkunftLang\": \"Ausl\\u00e4nder/in\", \"sum_WBev\": 5}, {\"GueltigAbDat\": \"2020-11-17T00:00:00\", \"GueltigAbDatJahr\": 2020, \"GueltigAbDatMM\": 11, \"HerkunftLang\": \"Schweizer/in\", \"sum_WBev\": 5}, {\"GueltigAbDat\": \"2021-06-18T00:00:00\", \"GueltigAbDatJahr\": 2021, \"GueltigAbDatMM\": 6, \"HerkunftLang\": \"Schweizer/in\", \"sum_WBev\": 5}, {\"GueltigAbDat\": \"2020-12-29T00:00:00\", \"GueltigAbDatJahr\": 2020, \"GueltigAbDatMM\": 12, \"HerkunftLang\": \"Ausl\\u00e4nder/in\", \"sum_WBev\": 5}, {\"GueltigAbDat\": \"2021-04-09T00:00:00\", \"GueltigAbDatJahr\": 2021, \"GueltigAbDatMM\": 4, \"HerkunftLang\": \"Ausl\\u00e4nder/in\", \"sum_WBev\": 5}, {\"GueltigAbDat\": \"2021-06-16T00:00:00\", \"GueltigAbDatJahr\": 2021, \"GueltigAbDatMM\": 6, \"HerkunftLang\": \"Ausl\\u00e4nder/in\", \"sum_WBev\": 5}, {\"GueltigAbDat\": \"2021-04-11T00:00:00\", \"GueltigAbDatJahr\": 2021, \"GueltigAbDatMM\": 4, \"HerkunftLang\": \"Ausl\\u00e4nder/in\", \"sum_WBev\": 5}, {\"GueltigAbDat\": \"2021-04-13T00:00:00\", \"GueltigAbDatJahr\": 2021, \"GueltigAbDatMM\": 4, \"HerkunftLang\": \"Ausl\\u00e4nder/in\", \"sum_WBev\": 5}, {\"GueltigAbDat\": \"2021-01-07T00:00:00\", \"GueltigAbDatJahr\": 2021, \"GueltigAbDatMM\": 1, \"HerkunftLang\": \"Ausl\\u00e4nder/in\", \"sum_WBev\": 5}, {\"GueltigAbDat\": \"2021-09-25T00:00:00\", \"GueltigAbDatJahr\": 2021, \"GueltigAbDatMM\": 9, \"HerkunftLang\": \"Ausl\\u00e4nder/in\", \"sum_WBev\": 5}, {\"GueltigAbDat\": \"2021-03-13T00:00:00\", \"GueltigAbDatJahr\": 2021, \"GueltigAbDatMM\": 3, \"HerkunftLang\": \"Ausl\\u00e4nder/in\", \"sum_WBev\": 5}, {\"GueltigAbDat\": \"2021-03-21T00:00:00\", \"GueltigAbDatJahr\": 2021, \"GueltigAbDatMM\": 3, \"HerkunftLang\": \"Ausl\\u00e4nder/in\", \"sum_WBev\": 5}, {\"GueltigAbDat\": \"2021-10-09T00:00:00\", \"GueltigAbDatJahr\": 2021, \"GueltigAbDatMM\": 10, \"HerkunftLang\": \"Ausl\\u00e4nder/in\", \"sum_WBev\": 5}, {\"GueltigAbDat\": \"2021-03-04T00:00:00\", \"GueltigAbDatJahr\": 2021, \"GueltigAbDatMM\": 3, \"HerkunftLang\": \"Ausl\\u00e4nder/in\", \"sum_WBev\": 5}, {\"GueltigAbDat\": \"2021-09-04T00:00:00\", \"GueltigAbDatJahr\": 2021, \"GueltigAbDatMM\": 9, \"HerkunftLang\": \"Schweizer/in\", \"sum_WBev\": 5}, {\"GueltigAbDat\": \"2021-06-08T00:00:00\", \"GueltigAbDatJahr\": 2021, \"GueltigAbDatMM\": 6, \"HerkunftLang\": \"Ausl\\u00e4nder/in\", \"sum_WBev\": 5}, {\"GueltigAbDat\": \"2021-01-09T00:00:00\", \"GueltigAbDatJahr\": 2021, \"GueltigAbDatMM\": 1, \"HerkunftLang\": \"Ausl\\u00e4nder/in\", \"sum_WBev\": 5}, {\"GueltigAbDat\": \"2020-11-25T00:00:00\", \"GueltigAbDatJahr\": 2020, \"GueltigAbDatMM\": 11, \"HerkunftLang\": \"Ausl\\u00e4nder/in\", \"sum_WBev\": 5}, {\"GueltigAbDat\": \"2020-11-24T00:00:00\", \"GueltigAbDatJahr\": 2020, \"GueltigAbDatMM\": 11, \"HerkunftLang\": \"Ausl\\u00e4nder/in\", \"sum_WBev\": 5}, {\"GueltigAbDat\": \"2021-03-11T00:00:00\", \"GueltigAbDatJahr\": 2021, \"GueltigAbDatMM\": 3, \"HerkunftLang\": \"Ausl\\u00e4nder/in\", \"sum_WBev\": 5}, {\"GueltigAbDat\": \"2021-07-03T00:00:00\", \"GueltigAbDatJahr\": 2021, \"GueltigAbDatMM\": 7, \"HerkunftLang\": \"Schweizer/in\", \"sum_WBev\": 5}, {\"GueltigAbDat\": \"2021-09-07T00:00:00\", \"GueltigAbDatJahr\": 2021, \"GueltigAbDatMM\": 9, \"HerkunftLang\": \"Schweizer/in\", \"sum_WBev\": 5}, {\"GueltigAbDat\": \"2021-01-18T00:00:00\", \"GueltigAbDatJahr\": 2021, \"GueltigAbDatMM\": 1, \"HerkunftLang\": \"Ausl\\u00e4nder/in\", \"sum_WBev\": 5}, {\"GueltigAbDat\": \"2021-10-10T00:00:00\", \"GueltigAbDatJahr\": 2021, \"GueltigAbDatMM\": 10, \"HerkunftLang\": \"Ausl\\u00e4nder/in\", \"sum_WBev\": 5}, {\"GueltigAbDat\": \"2021-03-14T00:00:00\", \"GueltigAbDatJahr\": 2021, \"GueltigAbDatMM\": 3, \"HerkunftLang\": \"Ausl\\u00e4nder/in\", \"sum_WBev\": 5}, {\"GueltigAbDat\": \"2020-11-22T00:00:00\", \"GueltigAbDatJahr\": 2020, \"GueltigAbDatMM\": 11, \"HerkunftLang\": \"Schweizer/in\", \"sum_WBev\": 5}, {\"GueltigAbDat\": \"2021-09-08T00:00:00\", \"GueltigAbDatJahr\": 2021, \"GueltigAbDatMM\": 9, \"HerkunftLang\": \"Schweizer/in\", \"sum_WBev\": 5}, {\"GueltigAbDat\": \"2021-11-26T00:00:00\", \"GueltigAbDatJahr\": 2021, \"GueltigAbDatMM\": 11, \"HerkunftLang\": \"Ausl\\u00e4nder/in\", \"sum_WBev\": 5}, {\"GueltigAbDat\": \"2021-03-18T00:00:00\", \"GueltigAbDatJahr\": 2021, \"GueltigAbDatMM\": 3, \"HerkunftLang\": \"Ausl\\u00e4nder/in\", \"sum_WBev\": 5}, {\"GueltigAbDat\": \"2021-03-19T00:00:00\", \"GueltigAbDatJahr\": 2021, \"GueltigAbDatMM\": 3, \"HerkunftLang\": \"Ausl\\u00e4nder/in\", \"sum_WBev\": 5}, {\"GueltigAbDat\": \"2021-08-19T00:00:00\", \"GueltigAbDatJahr\": 2021, \"GueltigAbDatMM\": 8, \"HerkunftLang\": \"Ausl\\u00e4nder/in\", \"sum_WBev\": 4}, {\"GueltigAbDat\": \"2020-12-26T00:00:00\", \"GueltigAbDatJahr\": 2020, \"GueltigAbDatMM\": 12, \"HerkunftLang\": \"Ausl\\u00e4nder/in\", \"sum_WBev\": 4}, {\"GueltigAbDat\": \"2020-12-24T00:00:00\", \"GueltigAbDatJahr\": 2020, \"GueltigAbDatMM\": 12, \"HerkunftLang\": \"Ausl\\u00e4nder/in\", \"sum_WBev\": 4}, {\"GueltigAbDat\": \"2020-12-31T00:00:00\", \"GueltigAbDatJahr\": 2020, \"GueltigAbDatMM\": 12, \"HerkunftLang\": \"Ausl\\u00e4nder/in\", \"sum_WBev\": 4}, {\"GueltigAbDat\": \"2021-08-18T00:00:00\", \"GueltigAbDatJahr\": 2021, \"GueltigAbDatMM\": 8, \"HerkunftLang\": \"Ausl\\u00e4nder/in\", \"sum_WBev\": 4}, {\"GueltigAbDat\": \"2021-11-23T00:00:00\", \"GueltigAbDatJahr\": 2021, \"GueltigAbDatMM\": 11, \"HerkunftLang\": \"Ausl\\u00e4nder/in\", \"sum_WBev\": 4}, {\"GueltigAbDat\": \"2021-09-23T00:00:00\", \"GueltigAbDatJahr\": 2021, \"GueltigAbDatMM\": 9, \"HerkunftLang\": \"Ausl\\u00e4nder/in\", \"sum_WBev\": 4}, {\"GueltigAbDat\": \"2020-11-03T00:00:00\", \"GueltigAbDatJahr\": 2020, \"GueltigAbDatMM\": 11, \"HerkunftLang\": \"Ausl\\u00e4nder/in\", \"sum_WBev\": 4}, {\"GueltigAbDat\": \"2020-11-08T00:00:00\", \"GueltigAbDatJahr\": 2020, \"GueltigAbDatMM\": 11, \"HerkunftLang\": \"Ausl\\u00e4nder/in\", \"sum_WBev\": 4}, {\"GueltigAbDat\": \"2021-11-27T00:00:00\", \"GueltigAbDatJahr\": 2021, \"GueltigAbDatMM\": 11, \"HerkunftLang\": \"Schweizer/in\", \"sum_WBev\": 4}, {\"GueltigAbDat\": \"2021-09-15T00:00:00\", \"GueltigAbDatJahr\": 2021, \"GueltigAbDatMM\": 9, \"HerkunftLang\": \"Ausl\\u00e4nder/in\", \"sum_WBev\": 4}, {\"GueltigAbDat\": \"2020-11-07T00:00:00\", \"GueltigAbDatJahr\": 2020, \"GueltigAbDatMM\": 11, \"HerkunftLang\": \"Schweizer/in\", \"sum_WBev\": 4}, {\"GueltigAbDat\": \"2021-09-12T00:00:00\", \"GueltigAbDatJahr\": 2021, \"GueltigAbDatMM\": 9, \"HerkunftLang\": \"Ausl\\u00e4nder/in\", \"sum_WBev\": 4}, {\"GueltigAbDat\": \"2021-09-11T00:00:00\", \"GueltigAbDatJahr\": 2021, \"GueltigAbDatMM\": 9, \"HerkunftLang\": \"Ausl\\u00e4nder/in\", \"sum_WBev\": 4}, {\"GueltigAbDat\": \"2021-09-09T00:00:00\", \"GueltigAbDatJahr\": 2021, \"GueltigAbDatMM\": 9, \"HerkunftLang\": \"Ausl\\u00e4nder/in\", \"sum_WBev\": 4}, {\"GueltigAbDat\": \"2021-01-02T00:00:00\", \"GueltigAbDatJahr\": 2021, \"GueltigAbDatMM\": 1, \"HerkunftLang\": \"Ausl\\u00e4nder/in\", \"sum_WBev\": 4}, {\"GueltigAbDat\": \"2021-09-04T00:00:00\", \"GueltigAbDatJahr\": 2021, \"GueltigAbDatMM\": 9, \"HerkunftLang\": \"Ausl\\u00e4nder/in\", \"sum_WBev\": 4}, {\"GueltigAbDat\": \"2020-11-06T00:00:00\", \"GueltigAbDatJahr\": 2020, \"GueltigAbDatMM\": 11, \"HerkunftLang\": \"Ausl\\u00e4nder/in\", \"sum_WBev\": 4}, {\"GueltigAbDat\": \"2021-11-24T00:00:00\", \"GueltigAbDatJahr\": 2021, \"GueltigAbDatMM\": 11, \"HerkunftLang\": \"Ausl\\u00e4nder/in\", \"sum_WBev\": 4}, {\"GueltigAbDat\": \"2020-11-05T00:00:00\", \"GueltigAbDatJahr\": 2020, \"GueltigAbDatMM\": 11, \"HerkunftLang\": \"Schweizer/in\", \"sum_WBev\": 4}, {\"GueltigAbDat\": \"2020-12-08T00:00:00\", \"GueltigAbDatJahr\": 2020, \"GueltigAbDatMM\": 12, \"HerkunftLang\": \"Ausl\\u00e4nder/in\", \"sum_WBev\": 4}, {\"GueltigAbDat\": \"2021-11-30T00:00:00\", \"GueltigAbDatJahr\": 2021, \"GueltigAbDatMM\": 11, \"HerkunftLang\": \"Ausl\\u00e4nder/in\", \"sum_WBev\": 4}, {\"GueltigAbDat\": \"2020-12-10T00:00:00\", \"GueltigAbDatJahr\": 2020, \"GueltigAbDatMM\": 12, \"HerkunftLang\": \"Ausl\\u00e4nder/in\", \"sum_WBev\": 4}, {\"GueltigAbDat\": \"2021-09-22T00:00:00\", \"GueltigAbDatJahr\": 2021, \"GueltigAbDatMM\": 9, \"HerkunftLang\": \"Ausl\\u00e4nder/in\", \"sum_WBev\": 4}, {\"GueltigAbDat\": \"2020-12-13T00:00:00\", \"GueltigAbDatJahr\": 2020, \"GueltigAbDatMM\": 12, \"HerkunftLang\": \"Ausl\\u00e4nder/in\", \"sum_WBev\": 4}, {\"GueltigAbDat\": \"2020-12-16T00:00:00\", \"GueltigAbDatJahr\": 2020, \"GueltigAbDatMM\": 12, \"HerkunftLang\": \"Ausl\\u00e4nder/in\", \"sum_WBev\": 4}, {\"GueltigAbDat\": \"2020-12-17T00:00:00\", \"GueltigAbDatJahr\": 2020, \"GueltigAbDatMM\": 12, \"HerkunftLang\": \"Ausl\\u00e4nder/in\", \"sum_WBev\": 4}, {\"GueltigAbDat\": \"2021-01-01T00:00:00\", \"GueltigAbDatJahr\": 2021, \"GueltigAbDatMM\": 1, \"HerkunftLang\": \"Schweizer/in\", \"sum_WBev\": 4}, {\"GueltigAbDat\": \"2021-05-26T00:00:00\", \"GueltigAbDatJahr\": 2021, \"GueltigAbDatMM\": 5, \"HerkunftLang\": \"Ausl\\u00e4nder/in\", \"sum_WBev\": 4}, {\"GueltigAbDat\": \"2021-08-15T00:00:00\", \"GueltigAbDatJahr\": 2021, \"GueltigAbDatMM\": 8, \"HerkunftLang\": \"Schweizer/in\", \"sum_WBev\": 4}, {\"GueltigAbDat\": \"2021-07-11T00:00:00\", \"GueltigAbDatJahr\": 2021, \"GueltigAbDatMM\": 7, \"HerkunftLang\": \"Ausl\\u00e4nder/in\", \"sum_WBev\": 4}, {\"GueltigAbDat\": \"2021-03-01T00:00:00\", \"GueltigAbDatJahr\": 2021, \"GueltigAbDatMM\": 3, \"HerkunftLang\": \"Ausl\\u00e4nder/in\", \"sum_WBev\": 4}, {\"GueltigAbDat\": \"2021-11-04T00:00:00\", \"GueltigAbDatJahr\": 2021, \"GueltigAbDatMM\": 11, \"HerkunftLang\": \"Ausl\\u00e4nder/in\", \"sum_WBev\": 4}, {\"GueltigAbDat\": \"2021-03-06T00:00:00\", \"GueltigAbDatJahr\": 2021, \"GueltigAbDatMM\": 3, \"HerkunftLang\": \"Ausl\\u00e4nder/in\", \"sum_WBev\": 4}, {\"GueltigAbDat\": \"2021-10-02T00:00:00\", \"GueltigAbDatJahr\": 2021, \"GueltigAbDatMM\": 10, \"HerkunftLang\": \"Ausl\\u00e4nder/in\", \"sum_WBev\": 4}, {\"GueltigAbDat\": \"2021-07-06T00:00:00\", \"GueltigAbDatJahr\": 2021, \"GueltigAbDatMM\": 7, \"HerkunftLang\": \"Ausl\\u00e4nder/in\", \"sum_WBev\": 4}, {\"GueltigAbDat\": \"2021-03-09T00:00:00\", \"GueltigAbDatJahr\": 2021, \"GueltigAbDatMM\": 3, \"HerkunftLang\": \"Ausl\\u00e4nder/in\", \"sum_WBev\": 4}, {\"GueltigAbDat\": \"2021-03-10T00:00:00\", \"GueltigAbDatJahr\": 2021, \"GueltigAbDatMM\": 3, \"HerkunftLang\": \"Ausl\\u00e4nder/in\", \"sum_WBev\": 4}, {\"GueltigAbDat\": \"2021-03-12T00:00:00\", \"GueltigAbDatJahr\": 2021, \"GueltigAbDatMM\": 3, \"HerkunftLang\": \"Ausl\\u00e4nder/in\", \"sum_WBev\": 4}, {\"GueltigAbDat\": \"2021-03-15T00:00:00\", \"GueltigAbDatJahr\": 2021, \"GueltigAbDatMM\": 3, \"HerkunftLang\": \"Ausl\\u00e4nder/in\", \"sum_WBev\": 4}, {\"GueltigAbDat\": \"2021-03-16T00:00:00\", \"GueltigAbDatJahr\": 2021, \"GueltigAbDatMM\": 3, \"HerkunftLang\": \"Ausl\\u00e4nder/in\", \"sum_WBev\": 4}, {\"GueltigAbDat\": \"2021-06-30T00:00:00\", \"GueltigAbDatJahr\": 2021, \"GueltigAbDatMM\": 6, \"HerkunftLang\": \"Ausl\\u00e4nder/in\", \"sum_WBev\": 4}, {\"GueltigAbDat\": \"2021-03-17T00:00:00\", \"GueltigAbDatJahr\": 2021, \"GueltigAbDatMM\": 3, \"HerkunftLang\": \"Ausl\\u00e4nder/in\", \"sum_WBev\": 4}, {\"GueltigAbDat\": \"2021-03-23T00:00:00\", \"GueltigAbDatJahr\": 2021, \"GueltigAbDatMM\": 3, \"HerkunftLang\": \"Ausl\\u00e4nder/in\", \"sum_WBev\": 4}, {\"GueltigAbDat\": \"2021-06-26T00:00:00\", \"GueltigAbDatJahr\": 2021, \"GueltigAbDatMM\": 6, \"HerkunftLang\": \"Schweizer/in\", \"sum_WBev\": 4}, {\"GueltigAbDat\": \"2021-06-26T00:00:00\", \"GueltigAbDatJahr\": 2021, \"GueltigAbDatMM\": 6, \"HerkunftLang\": \"Ausl\\u00e4nder/in\", \"sum_WBev\": 4}, {\"GueltigAbDat\": \"2021-03-25T00:00:00\", \"GueltigAbDatJahr\": 2021, \"GueltigAbDatMM\": 3, \"HerkunftLang\": \"Ausl\\u00e4nder/in\", \"sum_WBev\": 4}, {\"GueltigAbDat\": \"2021-10-31T00:00:00\", \"GueltigAbDatJahr\": 2021, \"GueltigAbDatMM\": 10, \"HerkunftLang\": \"Schweizer/in\", \"sum_WBev\": 4}, {\"GueltigAbDat\": \"2021-03-30T00:00:00\", \"GueltigAbDatJahr\": 2021, \"GueltigAbDatMM\": 3, \"HerkunftLang\": \"Ausl\\u00e4nder/in\", \"sum_WBev\": 4}, {\"GueltigAbDat\": \"2021-03-31T00:00:00\", \"GueltigAbDatJahr\": 2021, \"GueltigAbDatMM\": 3, \"HerkunftLang\": \"Ausl\\u00e4nder/in\", \"sum_WBev\": 4}, {\"GueltigAbDat\": \"2021-04-05T00:00:00\", \"GueltigAbDatJahr\": 2021, \"GueltigAbDatMM\": 4, \"HerkunftLang\": \"Schweizer/in\", \"sum_WBev\": 4}, {\"GueltigAbDat\": \"2021-04-06T00:00:00\", \"GueltigAbDatJahr\": 2021, \"GueltigAbDatMM\": 4, \"HerkunftLang\": \"Ausl\\u00e4nder/in\", \"sum_WBev\": 4}, {\"GueltigAbDat\": \"2021-06-14T00:00:00\", \"GueltigAbDatJahr\": 2021, \"GueltigAbDatMM\": 6, \"HerkunftLang\": \"Ausl\\u00e4nder/in\", \"sum_WBev\": 4}, {\"GueltigAbDat\": \"2021-04-16T00:00:00\", \"GueltigAbDatJahr\": 2021, \"GueltigAbDatMM\": 4, \"HerkunftLang\": \"Ausl\\u00e4nder/in\", \"sum_WBev\": 4}, {\"GueltigAbDat\": \"2021-04-17T00:00:00\", \"GueltigAbDatJahr\": 2021, \"GueltigAbDatMM\": 4, \"HerkunftLang\": \"Ausl\\u00e4nder/in\", \"sum_WBev\": 4}, {\"GueltigAbDat\": \"2021-04-22T00:00:00\", \"GueltigAbDatJahr\": 2021, \"GueltigAbDatMM\": 4, \"HerkunftLang\": \"Ausl\\u00e4nder/in\", \"sum_WBev\": 4}, {\"GueltigAbDat\": \"2021-04-29T00:00:00\", \"GueltigAbDatJahr\": 2021, \"GueltigAbDatMM\": 4, \"HerkunftLang\": \"Ausl\\u00e4nder/in\", \"sum_WBev\": 4}, {\"GueltigAbDat\": \"2021-04-30T00:00:00\", \"GueltigAbDatJahr\": 2021, \"GueltigAbDatMM\": 4, \"HerkunftLang\": \"Ausl\\u00e4nder/in\", \"sum_WBev\": 4}, {\"GueltigAbDat\": \"2021-05-31T00:00:00\", \"GueltigAbDatJahr\": 2021, \"GueltigAbDatMM\": 5, \"HerkunftLang\": \"Ausl\\u00e4nder/in\", \"sum_WBev\": 4}, {\"GueltigAbDat\": \"2021-05-23T00:00:00\", \"GueltigAbDatJahr\": 2021, \"GueltigAbDatMM\": 5, \"HerkunftLang\": \"Ausl\\u00e4nder/in\", \"sum_WBev\": 4}, {\"GueltigAbDat\": \"2021-02-26T00:00:00\", \"GueltigAbDatJahr\": 2021, \"GueltigAbDatMM\": 2, \"HerkunftLang\": \"Schweizer/in\", \"sum_WBev\": 4}, {\"GueltigAbDat\": \"2021-04-12T00:00:00\", \"GueltigAbDatJahr\": 2021, \"GueltigAbDatMM\": 4, \"HerkunftLang\": \"Ausl\\u00e4nder/in\", \"sum_WBev\": 4}, {\"GueltigAbDat\": \"2021-11-13T00:00:00\", \"GueltigAbDatJahr\": 2021, \"GueltigAbDatMM\": 11, \"HerkunftLang\": \"Ausl\\u00e4nder/in\", \"sum_WBev\": 4}, {\"GueltigAbDat\": \"2021-11-08T00:00:00\", \"GueltigAbDatJahr\": 2021, \"GueltigAbDatMM\": 11, \"HerkunftLang\": \"Ausl\\u00e4nder/in\", \"sum_WBev\": 4}, {\"GueltigAbDat\": \"2021-08-10T00:00:00\", \"GueltigAbDatJahr\": 2021, \"GueltigAbDatMM\": 8, \"HerkunftLang\": \"Ausl\\u00e4nder/in\", \"sum_WBev\": 4}, {\"GueltigAbDat\": \"2021-07-13T00:00:00\", \"GueltigAbDatJahr\": 2021, \"GueltigAbDatMM\": 7, \"HerkunftLang\": \"Ausl\\u00e4nder/in\", \"sum_WBev\": 4}, {\"GueltigAbDat\": \"2021-01-30T00:00:00\", \"GueltigAbDatJahr\": 2021, \"GueltigAbDatMM\": 1, \"HerkunftLang\": \"Ausl\\u00e4nder/in\", \"sum_WBev\": 4}, {\"GueltigAbDat\": \"2021-07-27T00:00:00\", \"GueltigAbDatJahr\": 2021, \"GueltigAbDatMM\": 7, \"HerkunftLang\": \"Ausl\\u00e4nder/in\", \"sum_WBev\": 4}, {\"GueltigAbDat\": \"2021-07-25T00:00:00\", \"GueltigAbDatJahr\": 2021, \"GueltigAbDatMM\": 7, \"HerkunftLang\": \"Schweizer/in\", \"sum_WBev\": 4}, {\"GueltigAbDat\": \"2021-10-05T00:00:00\", \"GueltigAbDatJahr\": 2021, \"GueltigAbDatMM\": 10, \"HerkunftLang\": \"Ausl\\u00e4nder/in\", \"sum_WBev\": 4}, {\"GueltigAbDat\": \"2021-02-06T00:00:00\", \"GueltigAbDatJahr\": 2021, \"GueltigAbDatMM\": 2, \"HerkunftLang\": \"Ausl\\u00e4nder/in\", \"sum_WBev\": 4}, {\"GueltigAbDat\": \"2021-01-17T00:00:00\", \"GueltigAbDatJahr\": 2021, \"GueltigAbDatMM\": 1, \"HerkunftLang\": \"Ausl\\u00e4nder/in\", \"sum_WBev\": 4}, {\"GueltigAbDat\": \"2021-02-06T00:00:00\", \"GueltigAbDatJahr\": 2021, \"GueltigAbDatMM\": 2, \"HerkunftLang\": \"Schweizer/in\", \"sum_WBev\": 4}, {\"GueltigAbDat\": \"2021-08-03T00:00:00\", \"GueltigAbDatJahr\": 2021, \"GueltigAbDatMM\": 8, \"HerkunftLang\": \"Schweizer/in\", \"sum_WBev\": 4}, {\"GueltigAbDat\": \"2021-07-22T00:00:00\", \"GueltigAbDatJahr\": 2021, \"GueltigAbDatMM\": 7, \"HerkunftLang\": \"Ausl\\u00e4nder/in\", \"sum_WBev\": 4}, {\"GueltigAbDat\": \"2021-02-12T00:00:00\", \"GueltigAbDatJahr\": 2021, \"GueltigAbDatMM\": 2, \"HerkunftLang\": \"Schweizer/in\", \"sum_WBev\": 4}, {\"GueltigAbDat\": \"2021-07-19T00:00:00\", \"GueltigAbDatJahr\": 2021, \"GueltigAbDatMM\": 7, \"HerkunftLang\": \"Ausl\\u00e4nder/in\", \"sum_WBev\": 4}, {\"GueltigAbDat\": \"2021-02-14T00:00:00\", \"GueltigAbDatJahr\": 2021, \"GueltigAbDatMM\": 2, \"HerkunftLang\": \"Ausl\\u00e4nder/in\", \"sum_WBev\": 4}, {\"GueltigAbDat\": \"2021-02-17T00:00:00\", \"GueltigAbDatJahr\": 2021, \"GueltigAbDatMM\": 2, \"HerkunftLang\": \"Ausl\\u00e4nder/in\", \"sum_WBev\": 4}, {\"GueltigAbDat\": \"2021-11-06T00:00:00\", \"GueltigAbDatJahr\": 2021, \"GueltigAbDatMM\": 11, \"HerkunftLang\": \"Schweizer/in\", \"sum_WBev\": 4}, {\"GueltigAbDat\": \"2021-02-19T00:00:00\", \"GueltigAbDatJahr\": 2021, \"GueltigAbDatMM\": 2, \"HerkunftLang\": \"Ausl\\u00e4nder/in\", \"sum_WBev\": 4}, {\"GueltigAbDat\": \"2021-08-14T00:00:00\", \"GueltigAbDatJahr\": 2021, \"GueltigAbDatMM\": 8, \"HerkunftLang\": \"Ausl\\u00e4nder/in\", \"sum_WBev\": 4}, {\"GueltigAbDat\": \"2021-02-21T00:00:00\", \"GueltigAbDatJahr\": 2021, \"GueltigAbDatMM\": 2, \"HerkunftLang\": \"Ausl\\u00e4nder/in\", \"sum_WBev\": 4}, {\"GueltigAbDat\": \"2021-07-14T00:00:00\", \"GueltigAbDatJahr\": 2021, \"GueltigAbDatMM\": 7, \"HerkunftLang\": \"Ausl\\u00e4nder/in\", \"sum_WBev\": 4}, {\"GueltigAbDat\": \"2021-01-11T00:00:00\", \"GueltigAbDatJahr\": 2021, \"GueltigAbDatMM\": 1, \"HerkunftLang\": \"Ausl\\u00e4nder/in\", \"sum_WBev\": 4}, {\"GueltigAbDat\": \"2021-10-03T00:00:00\", \"GueltigAbDatJahr\": 2021, \"GueltigAbDatMM\": 10, \"HerkunftLang\": \"Ausl\\u00e4nder/in\", \"sum_WBev\": 3}, {\"GueltigAbDat\": \"2021-11-19T00:00:00\", \"GueltigAbDatJahr\": 2021, \"GueltigAbDatMM\": 11, \"HerkunftLang\": \"Ausl\\u00e4nder/in\", \"sum_WBev\": 3}, {\"GueltigAbDat\": \"2021-10-26T00:00:00\", \"GueltigAbDatJahr\": 2021, \"GueltigAbDatMM\": 10, \"HerkunftLang\": \"Ausl\\u00e4nder/in\", \"sum_WBev\": 3}, {\"GueltigAbDat\": \"2021-10-18T00:00:00\", \"GueltigAbDatJahr\": 2021, \"GueltigAbDatMM\": 10, \"HerkunftLang\": \"Ausl\\u00e4nder/in\", \"sum_WBev\": 3}, {\"GueltigAbDat\": \"2021-10-25T00:00:00\", \"GueltigAbDatJahr\": 2021, \"GueltigAbDatMM\": 10, \"HerkunftLang\": \"Ausl\\u00e4nder/in\", \"sum_WBev\": 3}, {\"GueltigAbDat\": \"2021-10-23T00:00:00\", \"GueltigAbDatJahr\": 2021, \"GueltigAbDatMM\": 10, \"HerkunftLang\": \"Ausl\\u00e4nder/in\", \"sum_WBev\": 3}, {\"GueltigAbDat\": \"2021-11-16T00:00:00\", \"GueltigAbDatJahr\": 2021, \"GueltigAbDatMM\": 11, \"HerkunftLang\": \"Ausl\\u00e4nder/in\", \"sum_WBev\": 3}, {\"GueltigAbDat\": \"2021-11-15T00:00:00\", \"GueltigAbDatJahr\": 2021, \"GueltigAbDatMM\": 11, \"HerkunftLang\": \"Ausl\\u00e4nder/in\", \"sum_WBev\": 3}, {\"GueltigAbDat\": \"2021-09-29T00:00:00\", \"GueltigAbDatJahr\": 2021, \"GueltigAbDatMM\": 9, \"HerkunftLang\": \"Ausl\\u00e4nder/in\", \"sum_WBev\": 3}, {\"GueltigAbDat\": \"2021-11-29T00:00:00\", \"GueltigAbDatJahr\": 2021, \"GueltigAbDatMM\": 11, \"HerkunftLang\": \"Ausl\\u00e4nder/in\", \"sum_WBev\": 3}, {\"GueltigAbDat\": \"2021-09-26T00:00:00\", \"GueltigAbDatJahr\": 2021, \"GueltigAbDatMM\": 9, \"HerkunftLang\": \"Ausl\\u00e4nder/in\", \"sum_WBev\": 3}, {\"GueltigAbDat\": \"2021-11-28T00:00:00\", \"GueltigAbDatJahr\": 2021, \"GueltigAbDatMM\": 11, \"HerkunftLang\": \"Schweizer/in\", \"sum_WBev\": 3}, {\"GueltigAbDat\": \"2021-11-28T00:00:00\", \"GueltigAbDatJahr\": 2021, \"GueltigAbDatMM\": 11, \"HerkunftLang\": \"Ausl\\u00e4nder/in\", \"sum_WBev\": 3}, {\"GueltigAbDat\": \"2021-11-14T00:00:00\", \"GueltigAbDatJahr\": 2021, \"GueltigAbDatMM\": 11, \"HerkunftLang\": \"Ausl\\u00e4nder/in\", \"sum_WBev\": 3}, {\"GueltigAbDat\": \"2021-10-29T00:00:00\", \"GueltigAbDatJahr\": 2021, \"GueltigAbDatMM\": 10, \"HerkunftLang\": \"Ausl\\u00e4nder/in\", \"sum_WBev\": 3}, {\"GueltigAbDat\": \"2021-10-30T00:00:00\", \"GueltigAbDatJahr\": 2021, \"GueltigAbDatMM\": 10, \"HerkunftLang\": \"Ausl\\u00e4nder/in\", \"sum_WBev\": 3}, {\"GueltigAbDat\": \"2021-11-21T00:00:00\", \"GueltigAbDatJahr\": 2021, \"GueltigAbDatMM\": 11, \"HerkunftLang\": \"Schweizer/in\", \"sum_WBev\": 3}, {\"GueltigAbDat\": \"2021-09-27T00:00:00\", \"GueltigAbDatJahr\": 2021, \"GueltigAbDatMM\": 9, \"HerkunftLang\": \"Ausl\\u00e4nder/in\", \"sum_WBev\": 3}, {\"GueltigAbDat\": \"2021-11-03T00:00:00\", \"GueltigAbDatJahr\": 2021, \"GueltigAbDatMM\": 11, \"HerkunftLang\": \"Ausl\\u00e4nder/in\", \"sum_WBev\": 3}, {\"GueltigAbDat\": \"2021-10-07T00:00:00\", \"GueltigAbDatJahr\": 2021, \"GueltigAbDatMM\": 10, \"HerkunftLang\": \"Ausl\\u00e4nder/in\", \"sum_WBev\": 3}, {\"GueltigAbDat\": \"2021-09-28T00:00:00\", \"GueltigAbDatJahr\": 2021, \"GueltigAbDatMM\": 9, \"HerkunftLang\": \"Ausl\\u00e4nder/in\", \"sum_WBev\": 3}, {\"GueltigAbDat\": \"2020-11-01T00:00:00\", \"GueltigAbDatJahr\": 2020, \"GueltigAbDatMM\": 11, \"HerkunftLang\": \"Ausl\\u00e4nder/in\", \"sum_WBev\": 3}, {\"GueltigAbDat\": \"2021-04-14T00:00:00\", \"GueltigAbDatJahr\": 2021, \"GueltigAbDatMM\": 4, \"HerkunftLang\": \"Ausl\\u00e4nder/in\", \"sum_WBev\": 3}, {\"GueltigAbDat\": \"2021-01-03T00:00:00\", \"GueltigAbDatJahr\": 2021, \"GueltigAbDatMM\": 1, \"HerkunftLang\": \"Schweizer/in\", \"sum_WBev\": 3}, {\"GueltigAbDat\": \"2021-05-12T00:00:00\", \"GueltigAbDatJahr\": 2021, \"GueltigAbDatMM\": 5, \"HerkunftLang\": \"Ausl\\u00e4nder/in\", \"sum_WBev\": 3}, {\"GueltigAbDat\": \"2021-05-18T00:00:00\", \"GueltigAbDatJahr\": 2021, \"GueltigAbDatMM\": 5, \"HerkunftLang\": \"Ausl\\u00e4nder/in\", \"sum_WBev\": 3}, {\"GueltigAbDat\": \"2021-01-14T00:00:00\", \"GueltigAbDatJahr\": 2021, \"GueltigAbDatMM\": 1, \"HerkunftLang\": \"Ausl\\u00e4nder/in\", \"sum_WBev\": 3}, {\"GueltigAbDat\": \"2021-05-24T00:00:00\", \"GueltigAbDatJahr\": 2021, \"GueltigAbDatMM\": 5, \"HerkunftLang\": \"Ausl\\u00e4nder/in\", \"sum_WBev\": 3}, {\"GueltigAbDat\": \"2021-05-27T00:00:00\", \"GueltigAbDatJahr\": 2021, \"GueltigAbDatMM\": 5, \"HerkunftLang\": \"Ausl\\u00e4nder/in\", \"sum_WBev\": 3}, {\"GueltigAbDat\": \"2021-05-31T00:00:00\", \"GueltigAbDatJahr\": 2021, \"GueltigAbDatMM\": 5, \"HerkunftLang\": \"Schweizer/in\", \"sum_WBev\": 3}, {\"GueltigAbDat\": \"2021-06-02T00:00:00\", \"GueltigAbDatJahr\": 2021, \"GueltigAbDatMM\": 6, \"HerkunftLang\": \"Ausl\\u00e4nder/in\", \"sum_WBev\": 3}, {\"GueltigAbDat\": \"2021-06-21T00:00:00\", \"GueltigAbDatJahr\": 2021, \"GueltigAbDatMM\": 6, \"HerkunftLang\": \"Ausl\\u00e4nder/in\", \"sum_WBev\": 3}, {\"GueltigAbDat\": \"2021-06-09T00:00:00\", \"GueltigAbDatJahr\": 2021, \"GueltigAbDatMM\": 6, \"HerkunftLang\": \"Ausl\\u00e4nder/in\", \"sum_WBev\": 3}, {\"GueltigAbDat\": \"2021-03-03T00:00:00\", \"GueltigAbDatJahr\": 2021, \"GueltigAbDatMM\": 3, \"HerkunftLang\": \"Ausl\\u00e4nder/in\", \"sum_WBev\": 3}, {\"GueltigAbDat\": \"2021-06-10T00:00:00\", \"GueltigAbDatJahr\": 2021, \"GueltigAbDatMM\": 6, \"HerkunftLang\": \"Ausl\\u00e4nder/in\", \"sum_WBev\": 3}, {\"GueltigAbDat\": \"2021-06-13T00:00:00\", \"GueltigAbDatJahr\": 2021, \"GueltigAbDatMM\": 6, \"HerkunftLang\": \"Ausl\\u00e4nder/in\", \"sum_WBev\": 3}, {\"GueltigAbDat\": \"2021-06-17T00:00:00\", \"GueltigAbDatJahr\": 2021, \"GueltigAbDatMM\": 6, \"HerkunftLang\": \"Ausl\\u00e4nder/in\", \"sum_WBev\": 3}, {\"GueltigAbDat\": \"2020-12-27T00:00:00\", \"GueltigAbDatJahr\": 2020, \"GueltigAbDatMM\": 12, \"HerkunftLang\": \"Schweizer/in\", \"sum_WBev\": 3}, {\"GueltigAbDat\": \"2021-05-09T00:00:00\", \"GueltigAbDatJahr\": 2021, \"GueltigAbDatMM\": 5, \"HerkunftLang\": \"Ausl\\u00e4nder/in\", \"sum_WBev\": 3}, {\"GueltigAbDat\": \"2021-05-08T00:00:00\", \"GueltigAbDatJahr\": 2021, \"GueltigAbDatMM\": 5, \"HerkunftLang\": \"Ausl\\u00e4nder/in\", \"sum_WBev\": 3}, {\"GueltigAbDat\": \"2021-01-20T00:00:00\", \"GueltigAbDatJahr\": 2021, \"GueltigAbDatMM\": 1, \"HerkunftLang\": \"Ausl\\u00e4nder/in\", \"sum_WBev\": 3}, {\"GueltigAbDat\": \"2021-02-03T00:00:00\", \"GueltigAbDatJahr\": 2021, \"GueltigAbDatMM\": 2, \"HerkunftLang\": \"Ausl\\u00e4nder/in\", \"sum_WBev\": 3}, {\"GueltigAbDat\": \"2021-02-08T00:00:00\", \"GueltigAbDatJahr\": 2021, \"GueltigAbDatMM\": 2, \"HerkunftLang\": \"Ausl\\u00e4nder/in\", \"sum_WBev\": 3}, {\"GueltigAbDat\": \"2021-04-23T00:00:00\", \"GueltigAbDatJahr\": 2021, \"GueltigAbDatMM\": 4, \"HerkunftLang\": \"Ausl\\u00e4nder/in\", \"sum_WBev\": 3}, {\"GueltigAbDat\": \"2021-04-15T00:00:00\", \"GueltigAbDatJahr\": 2021, \"GueltigAbDatMM\": 4, \"HerkunftLang\": \"Ausl\\u00e4nder/in\", \"sum_WBev\": 3}, {\"GueltigAbDat\": \"2021-02-11T00:00:00\", \"GueltigAbDatJahr\": 2021, \"GueltigAbDatMM\": 2, \"HerkunftLang\": \"Ausl\\u00e4nder/in\", \"sum_WBev\": 3}, {\"GueltigAbDat\": \"2021-04-05T00:00:00\", \"GueltigAbDatJahr\": 2021, \"GueltigAbDatMM\": 4, \"HerkunftLang\": \"Ausl\\u00e4nder/in\", \"sum_WBev\": 3}, {\"GueltigAbDat\": \"2021-04-04T00:00:00\", \"GueltigAbDatJahr\": 2021, \"GueltigAbDatMM\": 4, \"HerkunftLang\": \"Schweizer/in\", \"sum_WBev\": 3}, {\"GueltigAbDat\": \"2021-04-03T00:00:00\", \"GueltigAbDatJahr\": 2021, \"GueltigAbDatMM\": 4, \"HerkunftLang\": \"Ausl\\u00e4nder/in\", \"sum_WBev\": 3}, {\"GueltigAbDat\": \"2021-04-02T00:00:00\", \"GueltigAbDatJahr\": 2021, \"GueltigAbDatMM\": 4, \"HerkunftLang\": \"Ausl\\u00e4nder/in\", \"sum_WBev\": 3}, {\"GueltigAbDat\": \"2021-02-12T00:00:00\", \"GueltigAbDatJahr\": 2021, \"GueltigAbDatMM\": 2, \"HerkunftLang\": \"Ausl\\u00e4nder/in\", \"sum_WBev\": 3}, {\"GueltigAbDat\": \"2021-02-15T00:00:00\", \"GueltigAbDatJahr\": 2021, \"GueltigAbDatMM\": 2, \"HerkunftLang\": \"Ausl\\u00e4nder/in\", \"sum_WBev\": 3}, {\"GueltigAbDat\": \"2021-02-17T00:00:00\", \"GueltigAbDatJahr\": 2021, \"GueltigAbDatMM\": 2, \"HerkunftLang\": \"Schweizer/in\", \"sum_WBev\": 3}, {\"GueltigAbDat\": \"2021-03-22T00:00:00\", \"GueltigAbDatJahr\": 2021, \"GueltigAbDatMM\": 3, \"HerkunftLang\": \"Ausl\\u00e4nder/in\", \"sum_WBev\": 3}, {\"GueltigAbDat\": \"2021-03-08T00:00:00\", \"GueltigAbDatJahr\": 2021, \"GueltigAbDatMM\": 3, \"HerkunftLang\": \"Ausl\\u00e4nder/in\", \"sum_WBev\": 3}, {\"GueltigAbDat\": \"2021-06-19T00:00:00\", \"GueltigAbDatJahr\": 2021, \"GueltigAbDatMM\": 6, \"HerkunftLang\": \"Ausl\\u00e4nder/in\", \"sum_WBev\": 3}, {\"GueltigAbDat\": \"2021-03-07T00:00:00\", \"GueltigAbDatJahr\": 2021, \"GueltigAbDatMM\": 3, \"HerkunftLang\": \"Ausl\\u00e4nder/in\", \"sum_WBev\": 3}, {\"GueltigAbDat\": \"2020-12-27T00:00:00\", \"GueltigAbDatJahr\": 2020, \"GueltigAbDatMM\": 12, \"HerkunftLang\": \"Ausl\\u00e4nder/in\", \"sum_WBev\": 3}, {\"GueltigAbDat\": \"2021-08-26T00:00:00\", \"GueltigAbDatJahr\": 2021, \"GueltigAbDatMM\": 8, \"HerkunftLang\": \"Ausl\\u00e4nder/in\", \"sum_WBev\": 3}, {\"GueltigAbDat\": \"2021-08-30T00:00:00\", \"GueltigAbDatJahr\": 2021, \"GueltigAbDatMM\": 8, \"HerkunftLang\": \"Ausl\\u00e4nder/in\", \"sum_WBev\": 3}, {\"GueltigAbDat\": \"2020-11-20T00:00:00\", \"GueltigAbDatJahr\": 2020, \"GueltigAbDatMM\": 11, \"HerkunftLang\": \"Ausl\\u00e4nder/in\", \"sum_WBev\": 3}, {\"GueltigAbDat\": \"2020-11-21T00:00:00\", \"GueltigAbDatJahr\": 2020, \"GueltigAbDatMM\": 11, \"HerkunftLang\": \"Ausl\\u00e4nder/in\", \"sum_WBev\": 3}, {\"GueltigAbDat\": \"2021-08-12T00:00:00\", \"GueltigAbDatJahr\": 2021, \"GueltigAbDatMM\": 8, \"HerkunftLang\": \"Ausl\\u00e4nder/in\", \"sum_WBev\": 3}, {\"GueltigAbDat\": \"2020-11-16T00:00:00\", \"GueltigAbDatJahr\": 2020, \"GueltigAbDatMM\": 11, \"HerkunftLang\": \"Ausl\\u00e4nder/in\", \"sum_WBev\": 3}, {\"GueltigAbDat\": \"2020-11-13T00:00:00\", \"GueltigAbDatJahr\": 2020, \"GueltigAbDatMM\": 11, \"HerkunftLang\": \"Ausl\\u00e4nder/in\", \"sum_WBev\": 3}, {\"GueltigAbDat\": \"2021-09-03T00:00:00\", \"GueltigAbDatJahr\": 2021, \"GueltigAbDatMM\": 9, \"HerkunftLang\": \"Ausl\\u00e4nder/in\", \"sum_WBev\": 3}, {\"GueltigAbDat\": \"2021-09-05T00:00:00\", \"GueltigAbDatJahr\": 2021, \"GueltigAbDatMM\": 9, \"HerkunftLang\": \"Ausl\\u00e4nder/in\", \"sum_WBev\": 3}, {\"GueltigAbDat\": \"2021-09-07T00:00:00\", \"GueltigAbDatJahr\": 2021, \"GueltigAbDatMM\": 9, \"HerkunftLang\": \"Ausl\\u00e4nder/in\", \"sum_WBev\": 3}, {\"GueltigAbDat\": \"2021-08-08T00:00:00\", \"GueltigAbDatJahr\": 2021, \"GueltigAbDatMM\": 8, \"HerkunftLang\": \"Ausl\\u00e4nder/in\", \"sum_WBev\": 3}, {\"GueltigAbDat\": \"2020-11-30T00:00:00\", \"GueltigAbDatJahr\": 2020, \"GueltigAbDatMM\": 11, \"HerkunftLang\": \"Ausl\\u00e4nder/in\", \"sum_WBev\": 3}, {\"GueltigAbDat\": \"2020-12-02T00:00:00\", \"GueltigAbDatJahr\": 2020, \"GueltigAbDatMM\": 12, \"HerkunftLang\": \"Ausl\\u00e4nder/in\", \"sum_WBev\": 3}, {\"GueltigAbDat\": \"2021-07-25T00:00:00\", \"GueltigAbDatJahr\": 2021, \"GueltigAbDatMM\": 7, \"HerkunftLang\": \"Ausl\\u00e4nder/in\", \"sum_WBev\": 3}, {\"GueltigAbDat\": \"2020-11-17T00:00:00\", \"GueltigAbDatJahr\": 2020, \"GueltigAbDatMM\": 11, \"HerkunftLang\": \"Ausl\\u00e4nder/in\", \"sum_WBev\": 3}, {\"GueltigAbDat\": \"2021-07-23T00:00:00\", \"GueltigAbDatJahr\": 2021, \"GueltigAbDatMM\": 7, \"HerkunftLang\": \"Ausl\\u00e4nder/in\", \"sum_WBev\": 3}, {\"GueltigAbDat\": \"2020-12-05T00:00:00\", \"GueltigAbDatJahr\": 2020, \"GueltigAbDatMM\": 12, \"HerkunftLang\": \"Ausl\\u00e4nder/in\", \"sum_WBev\": 3}, {\"GueltigAbDat\": \"2020-12-06T00:00:00\", \"GueltigAbDatJahr\": 2020, \"GueltigAbDatMM\": 12, \"HerkunftLang\": \"Ausl\\u00e4nder/in\", \"sum_WBev\": 3}, {\"GueltigAbDat\": \"2021-09-13T00:00:00\", \"GueltigAbDatJahr\": 2021, \"GueltigAbDatMM\": 9, \"HerkunftLang\": \"Ausl\\u00e4nder/in\", \"sum_WBev\": 3}, {\"GueltigAbDat\": \"2021-07-12T00:00:00\", \"GueltigAbDatJahr\": 2021, \"GueltigAbDatMM\": 7, \"HerkunftLang\": \"Ausl\\u00e4nder/in\", \"sum_WBev\": 3}, {\"GueltigAbDat\": \"2020-12-09T00:00:00\", \"GueltigAbDatJahr\": 2020, \"GueltigAbDatMM\": 12, \"HerkunftLang\": \"Ausl\\u00e4nder/in\", \"sum_WBev\": 3}, {\"GueltigAbDat\": \"2020-12-14T00:00:00\", \"GueltigAbDatJahr\": 2020, \"GueltigAbDatMM\": 12, \"HerkunftLang\": \"Ausl\\u00e4nder/in\", \"sum_WBev\": 3}, {\"GueltigAbDat\": \"2021-09-17T00:00:00\", \"GueltigAbDatJahr\": 2021, \"GueltigAbDatMM\": 9, \"HerkunftLang\": \"Ausl\\u00e4nder/in\", \"sum_WBev\": 3}, {\"GueltigAbDat\": \"2021-07-03T00:00:00\", \"GueltigAbDatJahr\": 2021, \"GueltigAbDatMM\": 7, \"HerkunftLang\": \"Ausl\\u00e4nder/in\", \"sum_WBev\": 3}, {\"GueltigAbDat\": \"2021-07-02T00:00:00\", \"GueltigAbDatJahr\": 2021, \"GueltigAbDatMM\": 7, \"HerkunftLang\": \"Ausl\\u00e4nder/in\", \"sum_WBev\": 3}, {\"GueltigAbDat\": \"2021-07-01T00:00:00\", \"GueltigAbDatJahr\": 2021, \"GueltigAbDatMM\": 7, \"HerkunftLang\": \"Ausl\\u00e4nder/in\", \"sum_WBev\": 3}, {\"GueltigAbDat\": \"2020-11-04T00:00:00\", \"GueltigAbDatJahr\": 2020, \"GueltigAbDatMM\": 11, \"HerkunftLang\": \"Ausl\\u00e4nder/in\", \"sum_WBev\": 2}, {\"GueltigAbDat\": \"2021-02-22T00:00:00\", \"GueltigAbDatJahr\": 2021, \"GueltigAbDatMM\": 2, \"HerkunftLang\": \"Ausl\\u00e4nder/in\", \"sum_WBev\": 2}, {\"GueltigAbDat\": \"2021-03-02T00:00:00\", \"GueltigAbDatJahr\": 2021, \"GueltigAbDatMM\": 3, \"HerkunftLang\": \"Ausl\\u00e4nder/in\", \"sum_WBev\": 2}, {\"GueltigAbDat\": \"2021-11-06T00:00:00\", \"GueltigAbDatJahr\": 2021, \"GueltigAbDatMM\": 11, \"HerkunftLang\": \"Ausl\\u00e4nder/in\", \"sum_WBev\": 2}, {\"GueltigAbDat\": \"2021-01-23T00:00:00\", \"GueltigAbDatJahr\": 2021, \"GueltigAbDatMM\": 1, \"HerkunftLang\": \"Ausl\\u00e4nder/in\", \"sum_WBev\": 2}, {\"GueltigAbDat\": \"2021-02-09T00:00:00\", \"GueltigAbDatJahr\": 2021, \"GueltigAbDatMM\": 2, \"HerkunftLang\": \"Ausl\\u00e4nder/in\", \"sum_WBev\": 2}, {\"GueltigAbDat\": \"2021-02-02T00:00:00\", \"GueltigAbDatJahr\": 2021, \"GueltigAbDatMM\": 2, \"HerkunftLang\": \"Ausl\\u00e4nder/in\", \"sum_WBev\": 2}, {\"GueltigAbDat\": \"2021-11-11T00:00:00\", \"GueltigAbDatJahr\": 2021, \"GueltigAbDatMM\": 11, \"HerkunftLang\": \"Ausl\\u00e4nder/in\", \"sum_WBev\": 2}, {\"GueltigAbDat\": \"2021-01-28T00:00:00\", \"GueltigAbDatJahr\": 2021, \"GueltigAbDatMM\": 1, \"HerkunftLang\": \"Ausl\\u00e4nder/in\", \"sum_WBev\": 2}, {\"GueltigAbDat\": \"2020-12-25T00:00:00\", \"GueltigAbDatJahr\": 2020, \"GueltigAbDatMM\": 12, \"HerkunftLang\": \"Ausl\\u00e4nder/in\", \"sum_WBev\": 2}, {\"GueltigAbDat\": \"2021-01-21T00:00:00\", \"GueltigAbDatJahr\": 2021, \"GueltigAbDatMM\": 1, \"HerkunftLang\": \"Ausl\\u00e4nder/in\", \"sum_WBev\": 2}, {\"GueltigAbDat\": \"2020-11-22T00:00:00\", \"GueltigAbDatJahr\": 2020, \"GueltigAbDatMM\": 11, \"HerkunftLang\": \"Ausl\\u00e4nder/in\", \"sum_WBev\": 2}, {\"GueltigAbDat\": \"2021-01-19T00:00:00\", \"GueltigAbDatJahr\": 2021, \"GueltigAbDatMM\": 1, \"HerkunftLang\": \"Ausl\\u00e4nder/in\", \"sum_WBev\": 2}, {\"GueltigAbDat\": \"2020-12-07T00:00:00\", \"GueltigAbDatJahr\": 2020, \"GueltigAbDatMM\": 12, \"HerkunftLang\": \"Ausl\\u00e4nder/in\", \"sum_WBev\": 2}, {\"GueltigAbDat\": \"2021-01-09T00:00:00\", \"GueltigAbDatJahr\": 2021, \"GueltigAbDatMM\": 1, \"HerkunftLang\": \"Schweizer/in\", \"sum_WBev\": 2}, {\"GueltigAbDat\": \"2021-01-03T00:00:00\", \"GueltigAbDatJahr\": 2021, \"GueltigAbDatMM\": 1, \"HerkunftLang\": \"Ausl\\u00e4nder/in\", \"sum_WBev\": 2}, {\"GueltigAbDat\": \"2020-12-15T00:00:00\", \"GueltigAbDatJahr\": 2020, \"GueltigAbDatMM\": 12, \"HerkunftLang\": \"Ausl\\u00e4nder/in\", \"sum_WBev\": 2}, {\"GueltigAbDat\": \"2021-01-01T00:00:00\", \"GueltigAbDatJahr\": 2021, \"GueltigAbDatMM\": 1, \"HerkunftLang\": \"Ausl\\u00e4nder/in\", \"sum_WBev\": 2}, {\"GueltigAbDat\": \"2021-09-20T00:00:00\", \"GueltigAbDatJahr\": 2021, \"GueltigAbDatMM\": 9, \"HerkunftLang\": \"Ausl\\u00e4nder/in\", \"sum_WBev\": 2}, {\"GueltigAbDat\": \"2021-06-18T00:00:00\", \"GueltigAbDatJahr\": 2021, \"GueltigAbDatMM\": 6, \"HerkunftLang\": \"Ausl\\u00e4nder/in\", \"sum_WBev\": 2}, {\"GueltigAbDat\": \"2021-08-04T00:00:00\", \"GueltigAbDatJahr\": 2021, \"GueltigAbDatMM\": 8, \"HerkunftLang\": \"Ausl\\u00e4nder/in\", \"sum_WBev\": 2}, {\"GueltigAbDat\": \"2021-08-22T00:00:00\", \"GueltigAbDatJahr\": 2021, \"GueltigAbDatMM\": 8, \"HerkunftLang\": \"Ausl\\u00e4nder/in\", \"sum_WBev\": 2}, {\"GueltigAbDat\": \"2021-08-21T00:00:00\", \"GueltigAbDatJahr\": 2021, \"GueltigAbDatMM\": 8, \"HerkunftLang\": \"Ausl\\u00e4nder/in\", \"sum_WBev\": 2}, {\"GueltigAbDat\": \"2021-08-15T00:00:00\", \"GueltigAbDatJahr\": 2021, \"GueltigAbDatMM\": 8, \"HerkunftLang\": \"Ausl\\u00e4nder/in\", \"sum_WBev\": 2}, {\"GueltigAbDat\": \"2021-10-17T00:00:00\", \"GueltigAbDatJahr\": 2021, \"GueltigAbDatMM\": 10, \"HerkunftLang\": \"Ausl\\u00e4nder/in\", \"sum_WBev\": 2}, {\"GueltigAbDat\": \"2021-06-05T00:00:00\", \"GueltigAbDatJahr\": 2021, \"GueltigAbDatMM\": 6, \"HerkunftLang\": \"Ausl\\u00e4nder/in\", \"sum_WBev\": 2}, {\"GueltigAbDat\": \"2021-10-15T00:00:00\", \"GueltigAbDatJahr\": 2021, \"GueltigAbDatMM\": 10, \"HerkunftLang\": \"Ausl\\u00e4nder/in\", \"sum_WBev\": 2}, {\"GueltigAbDat\": \"2021-06-23T00:00:00\", \"GueltigAbDatJahr\": 2021, \"GueltigAbDatMM\": 6, \"HerkunftLang\": \"Ausl\\u00e4nder/in\", \"sum_WBev\": 2}, {\"GueltigAbDat\": \"2021-05-05T00:00:00\", \"GueltigAbDatJahr\": 2021, \"GueltigAbDatMM\": 5, \"HerkunftLang\": \"Ausl\\u00e4nder/in\", \"sum_WBev\": 2}, {\"GueltigAbDat\": \"2021-06-28T00:00:00\", \"GueltigAbDatJahr\": 2021, \"GueltigAbDatMM\": 6, \"HerkunftLang\": \"Ausl\\u00e4nder/in\", \"sum_WBev\": 2}, {\"GueltigAbDat\": \"2021-07-08T00:00:00\", \"GueltigAbDatJahr\": 2021, \"GueltigAbDatMM\": 7, \"HerkunftLang\": \"Ausl\\u00e4nder/in\", \"sum_WBev\": 2}, {\"GueltigAbDat\": \"2021-08-01T00:00:00\", \"GueltigAbDatJahr\": 2021, \"GueltigAbDatMM\": 8, \"HerkunftLang\": \"Ausl\\u00e4nder/in\", \"sum_WBev\": 2}, {\"GueltigAbDat\": \"2021-07-31T00:00:00\", \"GueltigAbDatJahr\": 2021, \"GueltigAbDatMM\": 7, \"HerkunftLang\": \"Ausl\\u00e4nder/in\", \"sum_WBev\": 2}, {\"GueltigAbDat\": \"2021-10-08T00:00:00\", \"GueltigAbDatJahr\": 2021, \"GueltigAbDatMM\": 10, \"HerkunftLang\": \"Ausl\\u00e4nder/in\", \"sum_WBev\": 2}, {\"GueltigAbDat\": \"2021-07-15T00:00:00\", \"GueltigAbDatJahr\": 2021, \"GueltigAbDatMM\": 7, \"HerkunftLang\": \"Ausl\\u00e4nder/in\", \"sum_WBev\": 2}, {\"GueltigAbDat\": \"2021-05-21T00:00:00\", \"GueltigAbDatJahr\": 2021, \"GueltigAbDatMM\": 5, \"HerkunftLang\": \"Ausl\\u00e4nder/in\", \"sum_WBev\": 2}, {\"GueltigAbDat\": \"2021-05-06T00:00:00\", \"GueltigAbDatJahr\": 2021, \"GueltigAbDatMM\": 5, \"HerkunftLang\": \"Ausl\\u00e4nder/in\", \"sum_WBev\": 2}, {\"GueltigAbDat\": \"2021-09-10T00:00:00\", \"GueltigAbDatJahr\": 2021, \"GueltigAbDatMM\": 9, \"HerkunftLang\": \"Ausl\\u00e4nder/in\", \"sum_WBev\": 2}, {\"GueltigAbDat\": \"2021-05-04T00:00:00\", \"GueltigAbDatJahr\": 2021, \"GueltigAbDatMM\": 5, \"HerkunftLang\": \"Ausl\\u00e4nder/in\", \"sum_WBev\": 2}, {\"GueltigAbDat\": \"2021-11-02T00:00:00\", \"GueltigAbDatJahr\": 2021, \"GueltigAbDatMM\": 11, \"HerkunftLang\": \"Ausl\\u00e4nder/in\", \"sum_WBev\": 2}, {\"GueltigAbDat\": \"2021-11-01T00:00:00\", \"GueltigAbDatJahr\": 2021, \"GueltigAbDatMM\": 11, \"HerkunftLang\": \"Ausl\\u00e4nder/in\", \"sum_WBev\": 2}, {\"GueltigAbDat\": \"2021-03-26T00:00:00\", \"GueltigAbDatJahr\": 2021, \"GueltigAbDatMM\": 3, \"HerkunftLang\": \"Ausl\\u00e4nder/in\", \"sum_WBev\": 2}, {\"GueltigAbDat\": \"2021-03-27T00:00:00\", \"GueltigAbDatJahr\": 2021, \"GueltigAbDatMM\": 3, \"HerkunftLang\": \"Ausl\\u00e4nder/in\", \"sum_WBev\": 2}, {\"GueltigAbDat\": \"2021-03-28T00:00:00\", \"GueltigAbDatJahr\": 2021, \"GueltigAbDatMM\": 3, \"HerkunftLang\": \"Ausl\\u00e4nder/in\", \"sum_WBev\": 2}, {\"GueltigAbDat\": \"2021-09-18T00:00:00\", \"GueltigAbDatJahr\": 2021, \"GueltigAbDatMM\": 9, \"HerkunftLang\": \"Ausl\\u00e4nder/in\", \"sum_WBev\": 2}, {\"GueltigAbDat\": \"2021-07-16T00:00:00\", \"GueltigAbDatJahr\": 2021, \"GueltigAbDatMM\": 7, \"HerkunftLang\": \"Ausl\\u00e4nder/in\", \"sum_WBev\": 2}, {\"GueltigAbDat\": \"2021-04-25T00:00:00\", \"GueltigAbDatJahr\": 2021, \"GueltigAbDatMM\": 4, \"HerkunftLang\": \"Ausl\\u00e4nder/in\", \"sum_WBev\": 2}, {\"GueltigAbDat\": \"2021-09-02T00:00:00\", \"GueltigAbDatJahr\": 2021, \"GueltigAbDatMM\": 9, \"HerkunftLang\": \"Ausl\\u00e4nder/in\", \"sum_WBev\": 2}, {\"GueltigAbDat\": \"2021-05-03T00:00:00\", \"GueltigAbDatJahr\": 2021, \"GueltigAbDatMM\": 5, \"HerkunftLang\": \"Ausl\\u00e4nder/in\", \"sum_WBev\": 2}, {\"GueltigAbDat\": \"2021-10-24T00:00:00\", \"GueltigAbDatJahr\": 2021, \"GueltigAbDatMM\": 10, \"HerkunftLang\": \"Ausl\\u00e4nder/in\", \"sum_WBev\": 2}]}}, {\"mode\": \"vega-lite\"});\n",
       "</script>"
      ],
      "text/plain": [
       "alt.LayerChart(...)"
      ]
     },
     "execution_count": 154,
     "metadata": {},
     "output_type": "execute_result"
    }
   ],
   "source": [
    "highlight = alt.selection(type='single', on='mouseover',\n",
    "                          fields=['HerkunftLang'], nearest=True)\n",
    "#x='date:StichtagDatJahr',\n",
    "base = alt.Chart(myAgg.reset_index().query('sum_WBev>1'), title=\"Title\").encode(\n",
    "    x=alt.X('GueltigAbDat', axis=alt.Axis(title='Jahr'))# , axis=alt.Axis(format='%', title='percentage')\n",
    "    , y=alt.X('sum_WBev', axis=alt.Axis(title='Anz. Personen'))\n",
    "    , color=alt.Color('HerkunftLang', legend=alt.Legend(title=\"Herkunft\"))  \n",
    "    ,tooltip=['GueltigAbDat', 'HerkunftLang', 'sum_WBev']    \n",
    ")\n",
    "points = base.mark_circle().encode(\n",
    "    opacity=alt.value(0.75)\n",
    ").add_selection(\n",
    "    highlight\n",
    ").properties(\n",
    "    width=900 , height=350\n",
    ")\n",
    "lines = base.mark_line().encode(\n",
    "    size=alt.condition(~highlight, alt.value(0.5), alt.value(4))\n",
    ").interactive()\n",
    "\n",
    "lines + points    \n"
   ]
  },
  {
   "cell_type": "code",
   "execution_count": 155,
   "metadata": {},
   "outputs": [
    {
     "data": {
      "text/plain": [
       "GueltigAbDatJahr     int64\n",
       "GueltigAbDatMM       int64\n",
       "GueltigAbDatDD       int64\n",
       "SexCd                int64\n",
       "SexLang             object\n",
       "HerkunftCd           int64\n",
       "HerkunftLang        object\n",
       "KreisCd              int64\n",
       "KreisLang           object\n",
       "QuarCd               int64\n",
       "QuarLang            object\n",
       "DatenstandCd        object\n",
       "DatenstandLang      object\n",
       "AnzGebuWir           int64\n",
       "dtype: object"
      ]
     },
     "execution_count": 155,
     "metadata": {},
     "output_type": "execute_result"
    }
   ],
   "source": [
    "data2betested.dtypes"
   ]
  },
  {
   "cell_type": "markdown",
   "metadata": {},
   "source": [
    "### Daten in interaktiver Treemap zeigen\n",
    "Dazu gibt es eine sehr nützliche Webseite https://plotly.com/python/treemaps/\n",
    "Zu Farbskalen, siehe: https://plotly.com/python/builtin-colorscales/"
   ]
  },
  {
   "cell_type": "markdown",
   "metadata": {},
   "source": [
    "#### Aktueller Bestand der WBev nach Stadtkreis, Quartier, Geschlecht und Herkunft"
   ]
  },
  {
   "cell_type": "code",
   "execution_count": 157,
   "metadata": {},
   "outputs": [
    {
     "data": {
      "text/html": [
       "<div>\n",
       "<style scoped>\n",
       "    .dataframe tbody tr th:only-of-type {\n",
       "        vertical-align: middle;\n",
       "    }\n",
       "\n",
       "    .dataframe tbody tr th {\n",
       "        vertical-align: top;\n",
       "    }\n",
       "\n",
       "    .dataframe thead th {\n",
       "        text-align: right;\n",
       "    }\n",
       "</style>\n",
       "<table border=\"1\" class=\"dataframe\">\n",
       "  <thead>\n",
       "    <tr style=\"text-align: right;\">\n",
       "      <th></th>\n",
       "      <th>GueltigAbDat</th>\n",
       "      <th>GueltigAbDatJahr</th>\n",
       "      <th>GueltigAbDatMM</th>\n",
       "      <th>KreisLang</th>\n",
       "      <th>QuarLang</th>\n",
       "      <th>HerkunftLang</th>\n",
       "      <th>SexLang</th>\n",
       "      <th>sum_WBev</th>\n",
       "    </tr>\n",
       "  </thead>\n",
       "  <tbody>\n",
       "    <tr>\n",
       "      <th>0</th>\n",
       "      <td>2021-11-12</td>\n",
       "      <td>2021</td>\n",
       "      <td>11</td>\n",
       "      <td>Kreis 11</td>\n",
       "      <td>Affoltern</td>\n",
       "      <td>Schweizer/in</td>\n",
       "      <td>männlich</td>\n",
       "      <td>4</td>\n",
       "    </tr>\n",
       "    <tr>\n",
       "      <th>1</th>\n",
       "      <td>2021-11-16</td>\n",
       "      <td>2021</td>\n",
       "      <td>11</td>\n",
       "      <td>Kreis 12</td>\n",
       "      <td>Hirzenbach</td>\n",
       "      <td>Schweizer/in</td>\n",
       "      <td>weiblich</td>\n",
       "      <td>3</td>\n",
       "    </tr>\n",
       "  </tbody>\n",
       "</table>\n",
       "</div>"
      ],
      "text/plain": [
       "  GueltigAbDat  GueltigAbDatJahr  GueltigAbDatMM KreisLang    QuarLang  HerkunftLang   SexLang  \\\n",
       "0   2021-11-12              2021              11  Kreis 11   Affoltern  Schweizer/in  männlich   \n",
       "1   2021-11-16              2021              11  Kreis 12  Hirzenbach  Schweizer/in  weiblich   \n",
       "\n",
       "   sum_WBev  \n",
       "0         4  \n",
       "1         3  "
      ]
     },
     "execution_count": 157,
     "metadata": {},
     "output_type": "execute_result"
    }
   ],
   "source": [
    "myTreemapAgg = data2betested.loc[\"2021-11\"]  \\\n",
    "    .groupby(['GueltigAbDat','GueltigAbDatJahr', 'GueltigAbDatMM', 'KreisLang','QuarLang','HerkunftLang', 'SexLang' ]) \\\n",
    "    .agg(sum_WBev=('AnzGebuWir', 'sum')) \\\n",
    "    .sort_values('sum_WBev', ascending=False) \n",
    "\n",
    "myTreemapAgg.reset_index().head(2)"
   ]
  },
  {
   "cell_type": "code",
   "execution_count": 159,
   "metadata": {},
   "outputs": [
    {
     "data": {
      "application/vnd.plotly.v1+json": {
       "config": {
        "plotlyServerURL": "https://plot.ly"
       },
       "data": [
        {
         "branchvalues": "total",
         "customdata": [
          [
           2
          ],
          [
           1
          ],
          [
           1
          ],
          [
           1
          ],
          [
           1
          ],
          [
           1
          ],
          [
           1
          ],
          [
           1
          ],
          [
           1
          ],
          [
           1
          ],
          [
           1.6666666666666667
          ],
          [
           1
          ],
          [
           1
          ],
          [
           1
          ],
          [
           1
          ],
          [
           1
          ],
          [
           1
          ],
          [
           1
          ],
          [
           1
          ],
          [
           1.3333333333333333
          ],
          [
           1
          ],
          [
           1
          ],
          [
           1.5714285714285714
          ],
          [
           2.3333333333333335
          ],
          [
           1.25
          ],
          [
           1.4
          ],
          [
           1.3636363636363635
          ],
          [
           1
          ],
          [
           1
          ],
          [
           1
          ],
          [
           1
          ],
          [
           1.6666666666666667
          ],
          [
           1
          ],
          [
           1
          ],
          [
           1
          ],
          [
           1.4
          ],
          [
           1
          ],
          [
           2.5
          ],
          [
           1
          ],
          [
           1.5
          ],
          [
           1
          ],
          [
           1
          ],
          [
           1
          ],
          [
           1
          ],
          [
           1.2857142857142858
          ],
          [
           1
          ],
          [
           1.3333333333333333
          ],
          [
           1.1818181818181819
          ],
          [
           1
          ],
          [
           1
          ],
          [
           1.4
          ],
          [
           1.4
          ],
          [
           1
          ],
          [
           1
          ],
          [
           1
          ],
          [
           1
          ],
          [
           1
          ],
          [
           1.6666666666666667
          ],
          [
           1
          ],
          [
           1
          ],
          [
           1
          ],
          [
           1
          ],
          [
           1
          ],
          [
           1
          ],
          [
           1
          ],
          [
           1
          ],
          [
           1
          ],
          [
           1
          ],
          [
           1
          ],
          [
           1
          ],
          [
           1.2857142857142858
          ],
          [
           1
          ],
          [
           1
          ],
          [
           1
          ],
          [
           1
          ],
          [
           1.6666666666666667
          ],
          [
           1
          ],
          [
           1.2222222222222223
          ],
          [
           1
          ],
          [
           1
          ],
          [
           1
          ],
          [
           1
          ],
          [
           1
          ],
          [
           1
          ],
          [
           1
          ],
          [
           1.3333333333333333
          ],
          [
           1
          ],
          [
           1.7272727272727273
          ],
          [
           1
          ],
          [
           1.2857142857142858
          ],
          [
           1
          ],
          [
           1
          ],
          [
           1
          ],
          [
           1
          ],
          [
           1
          ],
          [
           1
          ],
          [
           1
          ],
          [
           1.2222222222222223
          ],
          [
           1
          ],
          [
           1
          ],
          [
           1.3333333333333333
          ],
          [
           1
          ],
          [
           1.25
          ],
          [
           1.6
          ],
          [
           1
          ],
          [
           1
          ],
          [
           1
          ],
          [
           1.2857142857142858
          ],
          [
           1
          ],
          [
           1
          ],
          [
           1
          ],
          [
           1
          ],
          [
           1
          ],
          [
           1.3333333333333333
          ],
          [
           1
          ],
          [
           1
          ],
          [
           1
          ],
          [
           1
          ],
          [
           1
          ],
          [
           1
          ],
          [
           1
          ],
          [
           1.2222222222222223
          ],
          [
           1
          ],
          [
           1
          ],
          [
           1.25
          ],
          [
           1
          ],
          [
           1
          ],
          [
           1.6
          ],
          [
           1.75
          ],
          [
           1.2352941176470589
          ],
          [
           1.2
          ],
          [
           1.173913043478261
          ],
          [
           1
          ],
          [
           1
          ],
          [
           1
          ],
          [
           1
          ],
          [
           1
          ],
          [
           1.4444444444444444
          ],
          [
           1
          ],
          [
           1.5333333333333334
          ],
          [
           1
          ],
          [
           1.3529411764705883
          ],
          [
           1
          ],
          [
           1.8571428571428572
          ],
          [
           1
          ],
          [
           1.5
          ],
          [
           1
          ],
          [
           1
          ],
          [
           1
          ],
          [
           1
          ],
          [
           1.1428571428571428
          ],
          [
           1
          ],
          [
           1.2666666666666666
          ],
          [
           1.1111111111111112
          ],
          [
           1
          ],
          [
           1
          ],
          [
           1.3636363636363635
          ],
          [
           1.2857142857142858
          ],
          [
           1.1538461538461537
          ],
          [
           1.6923076923076923
          ],
          [
           1.1904761904761905
          ],
          [
           1.1176470588235294
          ],
          [
           1.1481481481481481
          ],
          [
           1.125
          ],
          [
           1
          ],
          [
           1
          ],
          [
           1
          ],
          [
           1
          ],
          [
           1.3333333333333333
          ],
          [
           1
          ],
          [
           1.4210526315789473
          ],
          [
           1
          ],
          [
           1.3478260869565217
          ],
          [
           1
          ],
          [
           1.6666666666666667
          ],
          [
           1
          ],
          [
           1.3333333333333333
          ],
          [
           1
          ],
          [
           1
          ],
          [
           1
          ],
          [
           1
          ],
          [
           1.173913043478261
          ],
          [
           1
          ],
          [
           1.2105263157894737
          ],
          [
           1.1538461538461537
          ],
          [
           1
          ],
          [
           1
          ],
          [
           1.3333333333333333
          ],
          [
           1.2
          ],
          [
           1.3478260869565217
          ],
          [
           1
          ],
          [
           1.3428571428571427
          ],
          [
           1.3666666666666667
          ],
          [
           1.2424242424242424
          ],
          [
           1.3333333333333333
          ],
          [
           1.146341463414634
          ],
          [
           1.173913043478261
          ],
          [
           1
          ],
          [
           1.1875
          ],
          [
           1.0909090909090908
          ],
          [
           1
          ],
          [
           1.1666666666666667
          ],
          [
           1.220472440944882
          ]
         ],
         "domain": {
          "x": [
           0,
           1
          ],
          "y": [
           0,
           1
          ]
         },
         "hovertemplate": "labels=%{label}<br>sum_WBev_sum=%{value}<br>parent=%{parent}<br>id=%{id}<br>sum_WBev=%{color}<extra></extra>",
         "ids": [
          "WBev nach Stadtkreis, Quartier, Alter und Herkunft/Kreis 11/Affoltern/Ausländer/in/männlich",
          "WBev nach Stadtkreis, Quartier, Alter und Herkunft/Kreis 9/Albisrieden/Ausländer/in/männlich",
          "WBev nach Stadtkreis, Quartier, Alter und Herkunft/Kreis 3/Alt-Wiedikon/Ausländer/in/männlich",
          "WBev nach Stadtkreis, Quartier, Alter und Herkunft/Kreis 9/Altstetten/Ausländer/in/männlich",
          "WBev nach Stadtkreis, Quartier, Alter und Herkunft/Kreis 2/Enge/Ausländer/in/männlich",
          "WBev nach Stadtkreis, Quartier, Alter und Herkunft/Kreis 5/Escher Wyss/Ausländer/in/männlich",
          "WBev nach Stadtkreis, Quartier, Alter und Herkunft/Kreis 3/Friesenberg/Ausländer/in/männlich",
          "WBev nach Stadtkreis, Quartier, Alter und Herkunft/Kreis 4/Hard/Ausländer/in/männlich",
          "WBev nach Stadtkreis, Quartier, Alter und Herkunft/Kreis 7/Hirslanden/Ausländer/in/männlich",
          "WBev nach Stadtkreis, Quartier, Alter und Herkunft/Kreis 12/Hirzenbach/Ausländer/in/männlich",
          "WBev nach Stadtkreis, Quartier, Alter und Herkunft/Kreis 10/Höngg/Ausländer/in/männlich",
          "WBev nach Stadtkreis, Quartier, Alter und Herkunft/Kreis 4/Langstrasse/Ausländer/in/männlich",
          "WBev nach Stadtkreis, Quartier, Alter und Herkunft/Kreis 8/Mühlebach/Ausländer/in/männlich",
          "WBev nach Stadtkreis, Quartier, Alter und Herkunft/Kreis 11/Oerlikon/Ausländer/in/männlich",
          "WBev nach Stadtkreis, Quartier, Alter und Herkunft/Kreis 1/Rathaus/Ausländer/in/männlich",
          "WBev nach Stadtkreis, Quartier, Alter und Herkunft/Kreis 12/Schwamendingen-Mitte/Ausländer/in/männlich",
          "WBev nach Stadtkreis, Quartier, Alter und Herkunft/Kreis 11/Seebach/Ausländer/in/männlich",
          "WBev nach Stadtkreis, Quartier, Alter und Herkunft/Kreis 8/Seefeld/Ausländer/in/männlich",
          "WBev nach Stadtkreis, Quartier, Alter und Herkunft/Kreis 3/Sihlfeld/Ausländer/in/männlich",
          "WBev nach Stadtkreis, Quartier, Alter und Herkunft/Kreis 6/Unterstrass/Ausländer/in/männlich",
          "WBev nach Stadtkreis, Quartier, Alter und Herkunft/Kreis 10/Wipkingen/Ausländer/in/männlich",
          "WBev nach Stadtkreis, Quartier, Alter und Herkunft/Kreis 7/Witikon/Ausländer/in/männlich",
          "WBev nach Stadtkreis, Quartier, Alter und Herkunft/Kreis 2/Wollishofen/Ausländer/in/männlich",
          "WBev nach Stadtkreis, Quartier, Alter und Herkunft/Kreis 11/Affoltern/Schweizer/in/männlich",
          "WBev nach Stadtkreis, Quartier, Alter und Herkunft/Kreis 9/Albisrieden/Schweizer/in/männlich",
          "WBev nach Stadtkreis, Quartier, Alter und Herkunft/Kreis 3/Alt-Wiedikon/Schweizer/in/männlich",
          "WBev nach Stadtkreis, Quartier, Alter und Herkunft/Kreis 9/Altstetten/Schweizer/in/männlich",
          "WBev nach Stadtkreis, Quartier, Alter und Herkunft/Kreis 2/Enge/Schweizer/in/männlich",
          "WBev nach Stadtkreis, Quartier, Alter und Herkunft/Kreis 5/Escher Wyss/Schweizer/in/männlich",
          "WBev nach Stadtkreis, Quartier, Alter und Herkunft/Kreis 3/Friesenberg/Schweizer/in/männlich",
          "WBev nach Stadtkreis, Quartier, Alter und Herkunft/Kreis 5/Gewerbeschule/Schweizer/in/männlich",
          "WBev nach Stadtkreis, Quartier, Alter und Herkunft/Kreis 4/Hard/Schweizer/in/männlich",
          "WBev nach Stadtkreis, Quartier, Alter und Herkunft/Kreis 7/Hirslanden/Schweizer/in/männlich",
          "WBev nach Stadtkreis, Quartier, Alter und Herkunft/Kreis 12/Hirzenbach/Schweizer/in/männlich",
          "WBev nach Stadtkreis, Quartier, Alter und Herkunft/Kreis 7/Hottingen/Schweizer/in/männlich",
          "WBev nach Stadtkreis, Quartier, Alter und Herkunft/Kreis 10/Höngg/Schweizer/in/männlich",
          "WBev nach Stadtkreis, Quartier, Alter und Herkunft/Kreis 4/Langstrasse/Schweizer/in/männlich",
          "WBev nach Stadtkreis, Quartier, Alter und Herkunft/Kreis 2/Leimbach/Schweizer/in/männlich",
          "WBev nach Stadtkreis, Quartier, Alter und Herkunft/Kreis 8/Mühlebach/Schweizer/in/männlich",
          "WBev nach Stadtkreis, Quartier, Alter und Herkunft/Kreis 6/Oberstrass/Schweizer/in/männlich",
          "WBev nach Stadtkreis, Quartier, Alter und Herkunft/Kreis 11/Oerlikon/Schweizer/in/männlich",
          "WBev nach Stadtkreis, Quartier, Alter und Herkunft/Kreis 1/Rathaus/Schweizer/in/männlich",
          "WBev nach Stadtkreis, Quartier, Alter und Herkunft/Kreis 12/Saatlen/Schweizer/in/männlich",
          "WBev nach Stadtkreis, Quartier, Alter und Herkunft/Kreis 12/Schwamendingen-Mitte/Schweizer/in/männlich",
          "WBev nach Stadtkreis, Quartier, Alter und Herkunft/Kreis 11/Seebach/Schweizer/in/männlich",
          "WBev nach Stadtkreis, Quartier, Alter und Herkunft/Kreis 8/Seefeld/Schweizer/in/männlich",
          "WBev nach Stadtkreis, Quartier, Alter und Herkunft/Kreis 3/Sihlfeld/Schweizer/in/männlich",
          "WBev nach Stadtkreis, Quartier, Alter und Herkunft/Kreis 6/Unterstrass/Schweizer/in/männlich",
          "WBev nach Stadtkreis, Quartier, Alter und Herkunft/Kreis 8/Weinegg/Schweizer/in/männlich",
          "WBev nach Stadtkreis, Quartier, Alter und Herkunft/Kreis 4/Werd/Schweizer/in/männlich",
          "WBev nach Stadtkreis, Quartier, Alter und Herkunft/Kreis 10/Wipkingen/Schweizer/in/männlich",
          "WBev nach Stadtkreis, Quartier, Alter und Herkunft/Kreis 7/Witikon/Schweizer/in/männlich",
          "WBev nach Stadtkreis, Quartier, Alter und Herkunft/Kreis 2/Wollishofen/Schweizer/in/männlich",
          "WBev nach Stadtkreis, Quartier, Alter und Herkunft/Kreis 11/Affoltern/Ausländer/in/weiblich",
          "WBev nach Stadtkreis, Quartier, Alter und Herkunft/Kreis 9/Albisrieden/Ausländer/in/weiblich",
          "WBev nach Stadtkreis, Quartier, Alter und Herkunft/Kreis 3/Alt-Wiedikon/Ausländer/in/weiblich",
          "WBev nach Stadtkreis, Quartier, Alter und Herkunft/Kreis 9/Altstetten/Ausländer/in/weiblich",
          "WBev nach Stadtkreis, Quartier, Alter und Herkunft/Kreis 2/Enge/Ausländer/in/weiblich",
          "WBev nach Stadtkreis, Quartier, Alter und Herkunft/Kreis 5/Escher Wyss/Ausländer/in/weiblich",
          "WBev nach Stadtkreis, Quartier, Alter und Herkunft/Kreis 3/Friesenberg/Ausländer/in/weiblich",
          "WBev nach Stadtkreis, Quartier, Alter und Herkunft/Kreis 4/Hard/Ausländer/in/weiblich",
          "WBev nach Stadtkreis, Quartier, Alter und Herkunft/Kreis 7/Hirslanden/Ausländer/in/weiblich",
          "WBev nach Stadtkreis, Quartier, Alter und Herkunft/Kreis 12/Hirzenbach/Ausländer/in/weiblich",
          "WBev nach Stadtkreis, Quartier, Alter und Herkunft/Kreis 10/Höngg/Ausländer/in/weiblich",
          "WBev nach Stadtkreis, Quartier, Alter und Herkunft/Kreis 4/Langstrasse/Ausländer/in/weiblich",
          "WBev nach Stadtkreis, Quartier, Alter und Herkunft/Kreis 2/Leimbach/Ausländer/in/weiblich",
          "WBev nach Stadtkreis, Quartier, Alter und Herkunft/Kreis 8/Mühlebach/Ausländer/in/weiblich",
          "WBev nach Stadtkreis, Quartier, Alter und Herkunft/Kreis 6/Oberstrass/Ausländer/in/weiblich",
          "WBev nach Stadtkreis, Quartier, Alter und Herkunft/Kreis 11/Oerlikon/Ausländer/in/weiblich",
          "WBev nach Stadtkreis, Quartier, Alter und Herkunft/Kreis 12/Schwamendingen-Mitte/Ausländer/in/weiblich",
          "WBev nach Stadtkreis, Quartier, Alter und Herkunft/Kreis 11/Seebach/Ausländer/in/weiblich",
          "WBev nach Stadtkreis, Quartier, Alter und Herkunft/Kreis 8/Seefeld/Ausländer/in/weiblich",
          "WBev nach Stadtkreis, Quartier, Alter und Herkunft/Kreis 3/Sihlfeld/Ausländer/in/weiblich",
          "WBev nach Stadtkreis, Quartier, Alter und Herkunft/Kreis 6/Unterstrass/Ausländer/in/weiblich",
          "WBev nach Stadtkreis, Quartier, Alter und Herkunft/Kreis 7/Witikon/Ausländer/in/weiblich",
          "WBev nach Stadtkreis, Quartier, Alter und Herkunft/Kreis 2/Wollishofen/Ausländer/in/weiblich",
          "WBev nach Stadtkreis, Quartier, Alter und Herkunft/Kreis 11/Affoltern/Schweizer/in/weiblich",
          "WBev nach Stadtkreis, Quartier, Alter und Herkunft/Kreis 9/Albisrieden/Schweizer/in/weiblich",
          "WBev nach Stadtkreis, Quartier, Alter und Herkunft/Kreis 3/Alt-Wiedikon/Schweizer/in/weiblich",
          "WBev nach Stadtkreis, Quartier, Alter und Herkunft/Kreis 9/Altstetten/Schweizer/in/weiblich",
          "WBev nach Stadtkreis, Quartier, Alter und Herkunft/Kreis 2/Enge/Schweizer/in/weiblich",
          "WBev nach Stadtkreis, Quartier, Alter und Herkunft/Kreis 5/Escher Wyss/Schweizer/in/weiblich",
          "WBev nach Stadtkreis, Quartier, Alter und Herkunft/Kreis 7/Fluntern/Schweizer/in/weiblich",
          "WBev nach Stadtkreis, Quartier, Alter und Herkunft/Kreis 3/Friesenberg/Schweizer/in/weiblich",
          "WBev nach Stadtkreis, Quartier, Alter und Herkunft/Kreis 5/Gewerbeschule/Schweizer/in/weiblich",
          "WBev nach Stadtkreis, Quartier, Alter und Herkunft/Kreis 4/Hard/Schweizer/in/weiblich",
          "WBev nach Stadtkreis, Quartier, Alter und Herkunft/Kreis 7/Hirslanden/Schweizer/in/weiblich",
          "WBev nach Stadtkreis, Quartier, Alter und Herkunft/Kreis 12/Hirzenbach/Schweizer/in/weiblich",
          "WBev nach Stadtkreis, Quartier, Alter und Herkunft/Kreis 7/Hottingen/Schweizer/in/weiblich",
          "WBev nach Stadtkreis, Quartier, Alter und Herkunft/Kreis 10/Höngg/Schweizer/in/weiblich",
          "WBev nach Stadtkreis, Quartier, Alter und Herkunft/Kreis 4/Langstrasse/Schweizer/in/weiblich",
          "WBev nach Stadtkreis, Quartier, Alter und Herkunft/Kreis 2/Leimbach/Schweizer/in/weiblich",
          "WBev nach Stadtkreis, Quartier, Alter und Herkunft/Kreis 11/Oerlikon/Schweizer/in/weiblich",
          "WBev nach Stadtkreis, Quartier, Alter und Herkunft/Kreis 1/Rathaus/Schweizer/in/weiblich",
          "WBev nach Stadtkreis, Quartier, Alter und Herkunft/Kreis 12/Saatlen/Schweizer/in/weiblich",
          "WBev nach Stadtkreis, Quartier, Alter und Herkunft/Kreis 11/Seebach/Schweizer/in/weiblich",
          "WBev nach Stadtkreis, Quartier, Alter und Herkunft/Kreis 8/Seefeld/Schweizer/in/weiblich",
          "WBev nach Stadtkreis, Quartier, Alter und Herkunft/Kreis 3/Sihlfeld/Schweizer/in/weiblich",
          "WBev nach Stadtkreis, Quartier, Alter und Herkunft/Kreis 6/Unterstrass/Schweizer/in/weiblich",
          "WBev nach Stadtkreis, Quartier, Alter und Herkunft/Kreis 8/Weinegg/Schweizer/in/weiblich",
          "WBev nach Stadtkreis, Quartier, Alter und Herkunft/Kreis 10/Wipkingen/Schweizer/in/weiblich",
          "WBev nach Stadtkreis, Quartier, Alter und Herkunft/Kreis 7/Witikon/Schweizer/in/weiblich",
          "WBev nach Stadtkreis, Quartier, Alter und Herkunft/Kreis 2/Wollishofen/Schweizer/in/weiblich",
          "WBev nach Stadtkreis, Quartier, Alter und Herkunft/Kreis 11/Affoltern/Ausländer/in",
          "WBev nach Stadtkreis, Quartier, Alter und Herkunft/Kreis 9/Albisrieden/Ausländer/in",
          "WBev nach Stadtkreis, Quartier, Alter und Herkunft/Kreis 3/Alt-Wiedikon/Ausländer/in",
          "WBev nach Stadtkreis, Quartier, Alter und Herkunft/Kreis 9/Altstetten/Ausländer/in",
          "WBev nach Stadtkreis, Quartier, Alter und Herkunft/Kreis 2/Enge/Ausländer/in",
          "WBev nach Stadtkreis, Quartier, Alter und Herkunft/Kreis 5/Escher Wyss/Ausländer/in",
          "WBev nach Stadtkreis, Quartier, Alter und Herkunft/Kreis 3/Friesenberg/Ausländer/in",
          "WBev nach Stadtkreis, Quartier, Alter und Herkunft/Kreis 4/Hard/Ausländer/in",
          "WBev nach Stadtkreis, Quartier, Alter und Herkunft/Kreis 7/Hirslanden/Ausländer/in",
          "WBev nach Stadtkreis, Quartier, Alter und Herkunft/Kreis 12/Hirzenbach/Ausländer/in",
          "WBev nach Stadtkreis, Quartier, Alter und Herkunft/Kreis 10/Höngg/Ausländer/in",
          "WBev nach Stadtkreis, Quartier, Alter und Herkunft/Kreis 4/Langstrasse/Ausländer/in",
          "WBev nach Stadtkreis, Quartier, Alter und Herkunft/Kreis 2/Leimbach/Ausländer/in",
          "WBev nach Stadtkreis, Quartier, Alter und Herkunft/Kreis 8/Mühlebach/Ausländer/in",
          "WBev nach Stadtkreis, Quartier, Alter und Herkunft/Kreis 6/Oberstrass/Ausländer/in",
          "WBev nach Stadtkreis, Quartier, Alter und Herkunft/Kreis 11/Oerlikon/Ausländer/in",
          "WBev nach Stadtkreis, Quartier, Alter und Herkunft/Kreis 1/Rathaus/Ausländer/in",
          "WBev nach Stadtkreis, Quartier, Alter und Herkunft/Kreis 12/Schwamendingen-Mitte/Ausländer/in",
          "WBev nach Stadtkreis, Quartier, Alter und Herkunft/Kreis 11/Seebach/Ausländer/in",
          "WBev nach Stadtkreis, Quartier, Alter und Herkunft/Kreis 8/Seefeld/Ausländer/in",
          "WBev nach Stadtkreis, Quartier, Alter und Herkunft/Kreis 3/Sihlfeld/Ausländer/in",
          "WBev nach Stadtkreis, Quartier, Alter und Herkunft/Kreis 6/Unterstrass/Ausländer/in",
          "WBev nach Stadtkreis, Quartier, Alter und Herkunft/Kreis 10/Wipkingen/Ausländer/in",
          "WBev nach Stadtkreis, Quartier, Alter und Herkunft/Kreis 7/Witikon/Ausländer/in",
          "WBev nach Stadtkreis, Quartier, Alter und Herkunft/Kreis 2/Wollishofen/Ausländer/in",
          "WBev nach Stadtkreis, Quartier, Alter und Herkunft/Kreis 11/Affoltern/Schweizer/in",
          "WBev nach Stadtkreis, Quartier, Alter und Herkunft/Kreis 9/Albisrieden/Schweizer/in",
          "WBev nach Stadtkreis, Quartier, Alter und Herkunft/Kreis 3/Alt-Wiedikon/Schweizer/in",
          "WBev nach Stadtkreis, Quartier, Alter und Herkunft/Kreis 9/Altstetten/Schweizer/in",
          "WBev nach Stadtkreis, Quartier, Alter und Herkunft/Kreis 2/Enge/Schweizer/in",
          "WBev nach Stadtkreis, Quartier, Alter und Herkunft/Kreis 5/Escher Wyss/Schweizer/in",
          "WBev nach Stadtkreis, Quartier, Alter und Herkunft/Kreis 7/Fluntern/Schweizer/in",
          "WBev nach Stadtkreis, Quartier, Alter und Herkunft/Kreis 3/Friesenberg/Schweizer/in",
          "WBev nach Stadtkreis, Quartier, Alter und Herkunft/Kreis 5/Gewerbeschule/Schweizer/in",
          "WBev nach Stadtkreis, Quartier, Alter und Herkunft/Kreis 4/Hard/Schweizer/in",
          "WBev nach Stadtkreis, Quartier, Alter und Herkunft/Kreis 7/Hirslanden/Schweizer/in",
          "WBev nach Stadtkreis, Quartier, Alter und Herkunft/Kreis 12/Hirzenbach/Schweizer/in",
          "WBev nach Stadtkreis, Quartier, Alter und Herkunft/Kreis 7/Hottingen/Schweizer/in",
          "WBev nach Stadtkreis, Quartier, Alter und Herkunft/Kreis 10/Höngg/Schweizer/in",
          "WBev nach Stadtkreis, Quartier, Alter und Herkunft/Kreis 4/Langstrasse/Schweizer/in",
          "WBev nach Stadtkreis, Quartier, Alter und Herkunft/Kreis 2/Leimbach/Schweizer/in",
          "WBev nach Stadtkreis, Quartier, Alter und Herkunft/Kreis 8/Mühlebach/Schweizer/in",
          "WBev nach Stadtkreis, Quartier, Alter und Herkunft/Kreis 6/Oberstrass/Schweizer/in",
          "WBev nach Stadtkreis, Quartier, Alter und Herkunft/Kreis 11/Oerlikon/Schweizer/in",
          "WBev nach Stadtkreis, Quartier, Alter und Herkunft/Kreis 1/Rathaus/Schweizer/in",
          "WBev nach Stadtkreis, Quartier, Alter und Herkunft/Kreis 12/Saatlen/Schweizer/in",
          "WBev nach Stadtkreis, Quartier, Alter und Herkunft/Kreis 12/Schwamendingen-Mitte/Schweizer/in",
          "WBev nach Stadtkreis, Quartier, Alter und Herkunft/Kreis 11/Seebach/Schweizer/in",
          "WBev nach Stadtkreis, Quartier, Alter und Herkunft/Kreis 8/Seefeld/Schweizer/in",
          "WBev nach Stadtkreis, Quartier, Alter und Herkunft/Kreis 3/Sihlfeld/Schweizer/in",
          "WBev nach Stadtkreis, Quartier, Alter und Herkunft/Kreis 6/Unterstrass/Schweizer/in",
          "WBev nach Stadtkreis, Quartier, Alter und Herkunft/Kreis 8/Weinegg/Schweizer/in",
          "WBev nach Stadtkreis, Quartier, Alter und Herkunft/Kreis 4/Werd/Schweizer/in",
          "WBev nach Stadtkreis, Quartier, Alter und Herkunft/Kreis 10/Wipkingen/Schweizer/in",
          "WBev nach Stadtkreis, Quartier, Alter und Herkunft/Kreis 7/Witikon/Schweizer/in",
          "WBev nach Stadtkreis, Quartier, Alter und Herkunft/Kreis 2/Wollishofen/Schweizer/in",
          "WBev nach Stadtkreis, Quartier, Alter und Herkunft/Kreis 11/Affoltern",
          "WBev nach Stadtkreis, Quartier, Alter und Herkunft/Kreis 9/Albisrieden",
          "WBev nach Stadtkreis, Quartier, Alter und Herkunft/Kreis 3/Alt-Wiedikon",
          "WBev nach Stadtkreis, Quartier, Alter und Herkunft/Kreis 9/Altstetten",
          "WBev nach Stadtkreis, Quartier, Alter und Herkunft/Kreis 2/Enge",
          "WBev nach Stadtkreis, Quartier, Alter und Herkunft/Kreis 5/Escher Wyss",
          "WBev nach Stadtkreis, Quartier, Alter und Herkunft/Kreis 7/Fluntern",
          "WBev nach Stadtkreis, Quartier, Alter und Herkunft/Kreis 3/Friesenberg",
          "WBev nach Stadtkreis, Quartier, Alter und Herkunft/Kreis 5/Gewerbeschule",
          "WBev nach Stadtkreis, Quartier, Alter und Herkunft/Kreis 4/Hard",
          "WBev nach Stadtkreis, Quartier, Alter und Herkunft/Kreis 7/Hirslanden",
          "WBev nach Stadtkreis, Quartier, Alter und Herkunft/Kreis 12/Hirzenbach",
          "WBev nach Stadtkreis, Quartier, Alter und Herkunft/Kreis 7/Hottingen",
          "WBev nach Stadtkreis, Quartier, Alter und Herkunft/Kreis 10/Höngg",
          "WBev nach Stadtkreis, Quartier, Alter und Herkunft/Kreis 4/Langstrasse",
          "WBev nach Stadtkreis, Quartier, Alter und Herkunft/Kreis 2/Leimbach",
          "WBev nach Stadtkreis, Quartier, Alter und Herkunft/Kreis 8/Mühlebach",
          "WBev nach Stadtkreis, Quartier, Alter und Herkunft/Kreis 6/Oberstrass",
          "WBev nach Stadtkreis, Quartier, Alter und Herkunft/Kreis 11/Oerlikon",
          "WBev nach Stadtkreis, Quartier, Alter und Herkunft/Kreis 1/Rathaus",
          "WBev nach Stadtkreis, Quartier, Alter und Herkunft/Kreis 12/Saatlen",
          "WBev nach Stadtkreis, Quartier, Alter und Herkunft/Kreis 12/Schwamendingen-Mitte",
          "WBev nach Stadtkreis, Quartier, Alter und Herkunft/Kreis 11/Seebach",
          "WBev nach Stadtkreis, Quartier, Alter und Herkunft/Kreis 8/Seefeld",
          "WBev nach Stadtkreis, Quartier, Alter und Herkunft/Kreis 3/Sihlfeld",
          "WBev nach Stadtkreis, Quartier, Alter und Herkunft/Kreis 6/Unterstrass",
          "WBev nach Stadtkreis, Quartier, Alter und Herkunft/Kreis 8/Weinegg",
          "WBev nach Stadtkreis, Quartier, Alter und Herkunft/Kreis 4/Werd",
          "WBev nach Stadtkreis, Quartier, Alter und Herkunft/Kreis 10/Wipkingen",
          "WBev nach Stadtkreis, Quartier, Alter und Herkunft/Kreis 7/Witikon",
          "WBev nach Stadtkreis, Quartier, Alter und Herkunft/Kreis 2/Wollishofen",
          "WBev nach Stadtkreis, Quartier, Alter und Herkunft/Kreis 1",
          "WBev nach Stadtkreis, Quartier, Alter und Herkunft/Kreis 10",
          "WBev nach Stadtkreis, Quartier, Alter und Herkunft/Kreis 11",
          "WBev nach Stadtkreis, Quartier, Alter und Herkunft/Kreis 12",
          "WBev nach Stadtkreis, Quartier, Alter und Herkunft/Kreis 2",
          "WBev nach Stadtkreis, Quartier, Alter und Herkunft/Kreis 3",
          "WBev nach Stadtkreis, Quartier, Alter und Herkunft/Kreis 4",
          "WBev nach Stadtkreis, Quartier, Alter und Herkunft/Kreis 5",
          "WBev nach Stadtkreis, Quartier, Alter und Herkunft/Kreis 6",
          "WBev nach Stadtkreis, Quartier, Alter und Herkunft/Kreis 7",
          "WBev nach Stadtkreis, Quartier, Alter und Herkunft/Kreis 8",
          "WBev nach Stadtkreis, Quartier, Alter und Herkunft/Kreis 9",
          "WBev nach Stadtkreis, Quartier, Alter und Herkunft"
         ],
         "labels": [
          "männlich",
          "männlich",
          "männlich",
          "männlich",
          "männlich",
          "männlich",
          "männlich",
          "männlich",
          "männlich",
          "männlich",
          "männlich",
          "männlich",
          "männlich",
          "männlich",
          "männlich",
          "männlich",
          "männlich",
          "männlich",
          "männlich",
          "männlich",
          "männlich",
          "männlich",
          "männlich",
          "männlich",
          "männlich",
          "männlich",
          "männlich",
          "männlich",
          "männlich",
          "männlich",
          "männlich",
          "männlich",
          "männlich",
          "männlich",
          "männlich",
          "männlich",
          "männlich",
          "männlich",
          "männlich",
          "männlich",
          "männlich",
          "männlich",
          "männlich",
          "männlich",
          "männlich",
          "männlich",
          "männlich",
          "männlich",
          "männlich",
          "männlich",
          "männlich",
          "männlich",
          "männlich",
          "weiblich",
          "weiblich",
          "weiblich",
          "weiblich",
          "weiblich",
          "weiblich",
          "weiblich",
          "weiblich",
          "weiblich",
          "weiblich",
          "weiblich",
          "weiblich",
          "weiblich",
          "weiblich",
          "weiblich",
          "weiblich",
          "weiblich",
          "weiblich",
          "weiblich",
          "weiblich",
          "weiblich",
          "weiblich",
          "weiblich",
          "weiblich",
          "weiblich",
          "weiblich",
          "weiblich",
          "weiblich",
          "weiblich",
          "weiblich",
          "weiblich",
          "weiblich",
          "weiblich",
          "weiblich",
          "weiblich",
          "weiblich",
          "weiblich",
          "weiblich",
          "weiblich",
          "weiblich",
          "weiblich",
          "weiblich",
          "weiblich",
          "weiblich",
          "weiblich",
          "weiblich",
          "weiblich",
          "weiblich",
          "weiblich",
          "weiblich",
          "Ausländer/in",
          "Ausländer/in",
          "Ausländer/in",
          "Ausländer/in",
          "Ausländer/in",
          "Ausländer/in",
          "Ausländer/in",
          "Ausländer/in",
          "Ausländer/in",
          "Ausländer/in",
          "Ausländer/in",
          "Ausländer/in",
          "Ausländer/in",
          "Ausländer/in",
          "Ausländer/in",
          "Ausländer/in",
          "Ausländer/in",
          "Ausländer/in",
          "Ausländer/in",
          "Ausländer/in",
          "Ausländer/in",
          "Ausländer/in",
          "Ausländer/in",
          "Ausländer/in",
          "Ausländer/in",
          "Schweizer/in",
          "Schweizer/in",
          "Schweizer/in",
          "Schweizer/in",
          "Schweizer/in",
          "Schweizer/in",
          "Schweizer/in",
          "Schweizer/in",
          "Schweizer/in",
          "Schweizer/in",
          "Schweizer/in",
          "Schweizer/in",
          "Schweizer/in",
          "Schweizer/in",
          "Schweizer/in",
          "Schweizer/in",
          "Schweizer/in",
          "Schweizer/in",
          "Schweizer/in",
          "Schweizer/in",
          "Schweizer/in",
          "Schweizer/in",
          "Schweizer/in",
          "Schweizer/in",
          "Schweizer/in",
          "Schweizer/in",
          "Schweizer/in",
          "Schweizer/in",
          "Schweizer/in",
          "Schweizer/in",
          "Schweizer/in",
          "Affoltern",
          "Albisrieden",
          "Alt-Wiedikon",
          "Altstetten",
          "Enge",
          "Escher Wyss",
          "Fluntern",
          "Friesenberg",
          "Gewerbeschule",
          "Hard",
          "Hirslanden",
          "Hirzenbach",
          "Hottingen",
          "Höngg",
          "Langstrasse",
          "Leimbach",
          "Mühlebach",
          "Oberstrass",
          "Oerlikon",
          "Rathaus",
          "Saatlen",
          "Schwamendingen-Mitte",
          "Seebach",
          "Seefeld",
          "Sihlfeld",
          "Unterstrass",
          "Weinegg",
          "Werd",
          "Wipkingen",
          "Witikon",
          "Wollishofen",
          "Kreis 1",
          "Kreis 10",
          "Kreis 11",
          "Kreis 12",
          "Kreis 2",
          "Kreis 3",
          "Kreis 4",
          "Kreis 5",
          "Kreis 6",
          "Kreis 7",
          "Kreis 8",
          "Kreis 9",
          "WBev nach Stadtkreis, Quartier, Alter und Herkunft"
         ],
         "marker": {
          "coloraxis": "coloraxis",
          "colors": [
           2,
           1,
           1,
           1,
           1,
           1,
           1,
           1,
           1,
           1,
           1.6666666666666667,
           1,
           1,
           1,
           1,
           1,
           1,
           1,
           1,
           1.3333333333333333,
           1,
           1,
           1.5714285714285714,
           2.3333333333333335,
           1.25,
           1.4,
           1.3636363636363635,
           1,
           1,
           1,
           1,
           1.6666666666666667,
           1,
           1,
           1,
           1.4,
           1,
           2.5,
           1,
           1.5,
           1,
           1,
           1,
           1,
           1.2857142857142858,
           1,
           1.3333333333333333,
           1.1818181818181819,
           1,
           1,
           1.4,
           1.4,
           1,
           1,
           1,
           1,
           1,
           1.6666666666666667,
           1,
           1,
           1,
           1,
           1,
           1,
           1,
           1,
           1,
           1,
           1,
           1,
           1.2857142857142858,
           1,
           1,
           1,
           1,
           1.6666666666666667,
           1,
           1.2222222222222223,
           1,
           1,
           1,
           1,
           1,
           1,
           1,
           1.3333333333333333,
           1,
           1.7272727272727273,
           1,
           1.2857142857142858,
           1,
           1,
           1,
           1,
           1,
           1,
           1,
           1.2222222222222223,
           1,
           1,
           1.3333333333333333,
           1,
           1.25,
           1.6,
           1,
           1,
           1,
           1.2857142857142858,
           1,
           1,
           1,
           1,
           1,
           1.3333333333333333,
           1,
           1,
           1,
           1,
           1,
           1,
           1,
           1.2222222222222223,
           1,
           1,
           1.25,
           1,
           1,
           1.6,
           1.75,
           1.2352941176470589,
           1.2,
           1.173913043478261,
           1,
           1,
           1,
           1,
           1,
           1.4444444444444444,
           1,
           1.5333333333333334,
           1,
           1.3529411764705883,
           1,
           1.8571428571428572,
           1,
           1.5,
           1,
           1,
           1,
           1,
           1.1428571428571428,
           1,
           1.2666666666666666,
           1.1111111111111112,
           1,
           1,
           1.3636363636363635,
           1.2857142857142858,
           1.1538461538461537,
           1.6923076923076923,
           1.1904761904761905,
           1.1176470588235294,
           1.1481481481481481,
           1.125,
           1,
           1,
           1,
           1,
           1.3333333333333333,
           1,
           1.4210526315789473,
           1,
           1.3478260869565217,
           1,
           1.6666666666666667,
           1,
           1.3333333333333333,
           1,
           1,
           1,
           1,
           1.173913043478261,
           1,
           1.2105263157894737,
           1.1538461538461537,
           1,
           1,
           1.3333333333333333,
           1.2,
           1.3478260869565217,
           1,
           1.3428571428571427,
           1.3666666666666667,
           1.2424242424242424,
           1.3333333333333333,
           1.146341463414634,
           1.173913043478261,
           1,
           1.1875,
           1.0909090909090908,
           1,
           1.1666666666666667,
           1.220472440944882
          ]
         },
         "name": "",
         "parents": [
          "WBev nach Stadtkreis, Quartier, Alter und Herkunft/Kreis 11/Affoltern/Ausländer/in",
          "WBev nach Stadtkreis, Quartier, Alter und Herkunft/Kreis 9/Albisrieden/Ausländer/in",
          "WBev nach Stadtkreis, Quartier, Alter und Herkunft/Kreis 3/Alt-Wiedikon/Ausländer/in",
          "WBev nach Stadtkreis, Quartier, Alter und Herkunft/Kreis 9/Altstetten/Ausländer/in",
          "WBev nach Stadtkreis, Quartier, Alter und Herkunft/Kreis 2/Enge/Ausländer/in",
          "WBev nach Stadtkreis, Quartier, Alter und Herkunft/Kreis 5/Escher Wyss/Ausländer/in",
          "WBev nach Stadtkreis, Quartier, Alter und Herkunft/Kreis 3/Friesenberg/Ausländer/in",
          "WBev nach Stadtkreis, Quartier, Alter und Herkunft/Kreis 4/Hard/Ausländer/in",
          "WBev nach Stadtkreis, Quartier, Alter und Herkunft/Kreis 7/Hirslanden/Ausländer/in",
          "WBev nach Stadtkreis, Quartier, Alter und Herkunft/Kreis 12/Hirzenbach/Ausländer/in",
          "WBev nach Stadtkreis, Quartier, Alter und Herkunft/Kreis 10/Höngg/Ausländer/in",
          "WBev nach Stadtkreis, Quartier, Alter und Herkunft/Kreis 4/Langstrasse/Ausländer/in",
          "WBev nach Stadtkreis, Quartier, Alter und Herkunft/Kreis 8/Mühlebach/Ausländer/in",
          "WBev nach Stadtkreis, Quartier, Alter und Herkunft/Kreis 11/Oerlikon/Ausländer/in",
          "WBev nach Stadtkreis, Quartier, Alter und Herkunft/Kreis 1/Rathaus/Ausländer/in",
          "WBev nach Stadtkreis, Quartier, Alter und Herkunft/Kreis 12/Schwamendingen-Mitte/Ausländer/in",
          "WBev nach Stadtkreis, Quartier, Alter und Herkunft/Kreis 11/Seebach/Ausländer/in",
          "WBev nach Stadtkreis, Quartier, Alter und Herkunft/Kreis 8/Seefeld/Ausländer/in",
          "WBev nach Stadtkreis, Quartier, Alter und Herkunft/Kreis 3/Sihlfeld/Ausländer/in",
          "WBev nach Stadtkreis, Quartier, Alter und Herkunft/Kreis 6/Unterstrass/Ausländer/in",
          "WBev nach Stadtkreis, Quartier, Alter und Herkunft/Kreis 10/Wipkingen/Ausländer/in",
          "WBev nach Stadtkreis, Quartier, Alter und Herkunft/Kreis 7/Witikon/Ausländer/in",
          "WBev nach Stadtkreis, Quartier, Alter und Herkunft/Kreis 2/Wollishofen/Ausländer/in",
          "WBev nach Stadtkreis, Quartier, Alter und Herkunft/Kreis 11/Affoltern/Schweizer/in",
          "WBev nach Stadtkreis, Quartier, Alter und Herkunft/Kreis 9/Albisrieden/Schweizer/in",
          "WBev nach Stadtkreis, Quartier, Alter und Herkunft/Kreis 3/Alt-Wiedikon/Schweizer/in",
          "WBev nach Stadtkreis, Quartier, Alter und Herkunft/Kreis 9/Altstetten/Schweizer/in",
          "WBev nach Stadtkreis, Quartier, Alter und Herkunft/Kreis 2/Enge/Schweizer/in",
          "WBev nach Stadtkreis, Quartier, Alter und Herkunft/Kreis 5/Escher Wyss/Schweizer/in",
          "WBev nach Stadtkreis, Quartier, Alter und Herkunft/Kreis 3/Friesenberg/Schweizer/in",
          "WBev nach Stadtkreis, Quartier, Alter und Herkunft/Kreis 5/Gewerbeschule/Schweizer/in",
          "WBev nach Stadtkreis, Quartier, Alter und Herkunft/Kreis 4/Hard/Schweizer/in",
          "WBev nach Stadtkreis, Quartier, Alter und Herkunft/Kreis 7/Hirslanden/Schweizer/in",
          "WBev nach Stadtkreis, Quartier, Alter und Herkunft/Kreis 12/Hirzenbach/Schweizer/in",
          "WBev nach Stadtkreis, Quartier, Alter und Herkunft/Kreis 7/Hottingen/Schweizer/in",
          "WBev nach Stadtkreis, Quartier, Alter und Herkunft/Kreis 10/Höngg/Schweizer/in",
          "WBev nach Stadtkreis, Quartier, Alter und Herkunft/Kreis 4/Langstrasse/Schweizer/in",
          "WBev nach Stadtkreis, Quartier, Alter und Herkunft/Kreis 2/Leimbach/Schweizer/in",
          "WBev nach Stadtkreis, Quartier, Alter und Herkunft/Kreis 8/Mühlebach/Schweizer/in",
          "WBev nach Stadtkreis, Quartier, Alter und Herkunft/Kreis 6/Oberstrass/Schweizer/in",
          "WBev nach Stadtkreis, Quartier, Alter und Herkunft/Kreis 11/Oerlikon/Schweizer/in",
          "WBev nach Stadtkreis, Quartier, Alter und Herkunft/Kreis 1/Rathaus/Schweizer/in",
          "WBev nach Stadtkreis, Quartier, Alter und Herkunft/Kreis 12/Saatlen/Schweizer/in",
          "WBev nach Stadtkreis, Quartier, Alter und Herkunft/Kreis 12/Schwamendingen-Mitte/Schweizer/in",
          "WBev nach Stadtkreis, Quartier, Alter und Herkunft/Kreis 11/Seebach/Schweizer/in",
          "WBev nach Stadtkreis, Quartier, Alter und Herkunft/Kreis 8/Seefeld/Schweizer/in",
          "WBev nach Stadtkreis, Quartier, Alter und Herkunft/Kreis 3/Sihlfeld/Schweizer/in",
          "WBev nach Stadtkreis, Quartier, Alter und Herkunft/Kreis 6/Unterstrass/Schweizer/in",
          "WBev nach Stadtkreis, Quartier, Alter und Herkunft/Kreis 8/Weinegg/Schweizer/in",
          "WBev nach Stadtkreis, Quartier, Alter und Herkunft/Kreis 4/Werd/Schweizer/in",
          "WBev nach Stadtkreis, Quartier, Alter und Herkunft/Kreis 10/Wipkingen/Schweizer/in",
          "WBev nach Stadtkreis, Quartier, Alter und Herkunft/Kreis 7/Witikon/Schweizer/in",
          "WBev nach Stadtkreis, Quartier, Alter und Herkunft/Kreis 2/Wollishofen/Schweizer/in",
          "WBev nach Stadtkreis, Quartier, Alter und Herkunft/Kreis 11/Affoltern/Ausländer/in",
          "WBev nach Stadtkreis, Quartier, Alter und Herkunft/Kreis 9/Albisrieden/Ausländer/in",
          "WBev nach Stadtkreis, Quartier, Alter und Herkunft/Kreis 3/Alt-Wiedikon/Ausländer/in",
          "WBev nach Stadtkreis, Quartier, Alter und Herkunft/Kreis 9/Altstetten/Ausländer/in",
          "WBev nach Stadtkreis, Quartier, Alter und Herkunft/Kreis 2/Enge/Ausländer/in",
          "WBev nach Stadtkreis, Quartier, Alter und Herkunft/Kreis 5/Escher Wyss/Ausländer/in",
          "WBev nach Stadtkreis, Quartier, Alter und Herkunft/Kreis 3/Friesenberg/Ausländer/in",
          "WBev nach Stadtkreis, Quartier, Alter und Herkunft/Kreis 4/Hard/Ausländer/in",
          "WBev nach Stadtkreis, Quartier, Alter und Herkunft/Kreis 7/Hirslanden/Ausländer/in",
          "WBev nach Stadtkreis, Quartier, Alter und Herkunft/Kreis 12/Hirzenbach/Ausländer/in",
          "WBev nach Stadtkreis, Quartier, Alter und Herkunft/Kreis 10/Höngg/Ausländer/in",
          "WBev nach Stadtkreis, Quartier, Alter und Herkunft/Kreis 4/Langstrasse/Ausländer/in",
          "WBev nach Stadtkreis, Quartier, Alter und Herkunft/Kreis 2/Leimbach/Ausländer/in",
          "WBev nach Stadtkreis, Quartier, Alter und Herkunft/Kreis 8/Mühlebach/Ausländer/in",
          "WBev nach Stadtkreis, Quartier, Alter und Herkunft/Kreis 6/Oberstrass/Ausländer/in",
          "WBev nach Stadtkreis, Quartier, Alter und Herkunft/Kreis 11/Oerlikon/Ausländer/in",
          "WBev nach Stadtkreis, Quartier, Alter und Herkunft/Kreis 12/Schwamendingen-Mitte/Ausländer/in",
          "WBev nach Stadtkreis, Quartier, Alter und Herkunft/Kreis 11/Seebach/Ausländer/in",
          "WBev nach Stadtkreis, Quartier, Alter und Herkunft/Kreis 8/Seefeld/Ausländer/in",
          "WBev nach Stadtkreis, Quartier, Alter und Herkunft/Kreis 3/Sihlfeld/Ausländer/in",
          "WBev nach Stadtkreis, Quartier, Alter und Herkunft/Kreis 6/Unterstrass/Ausländer/in",
          "WBev nach Stadtkreis, Quartier, Alter und Herkunft/Kreis 7/Witikon/Ausländer/in",
          "WBev nach Stadtkreis, Quartier, Alter und Herkunft/Kreis 2/Wollishofen/Ausländer/in",
          "WBev nach Stadtkreis, Quartier, Alter und Herkunft/Kreis 11/Affoltern/Schweizer/in",
          "WBev nach Stadtkreis, Quartier, Alter und Herkunft/Kreis 9/Albisrieden/Schweizer/in",
          "WBev nach Stadtkreis, Quartier, Alter und Herkunft/Kreis 3/Alt-Wiedikon/Schweizer/in",
          "WBev nach Stadtkreis, Quartier, Alter und Herkunft/Kreis 9/Altstetten/Schweizer/in",
          "WBev nach Stadtkreis, Quartier, Alter und Herkunft/Kreis 2/Enge/Schweizer/in",
          "WBev nach Stadtkreis, Quartier, Alter und Herkunft/Kreis 5/Escher Wyss/Schweizer/in",
          "WBev nach Stadtkreis, Quartier, Alter und Herkunft/Kreis 7/Fluntern/Schweizer/in",
          "WBev nach Stadtkreis, Quartier, Alter und Herkunft/Kreis 3/Friesenberg/Schweizer/in",
          "WBev nach Stadtkreis, Quartier, Alter und Herkunft/Kreis 5/Gewerbeschule/Schweizer/in",
          "WBev nach Stadtkreis, Quartier, Alter und Herkunft/Kreis 4/Hard/Schweizer/in",
          "WBev nach Stadtkreis, Quartier, Alter und Herkunft/Kreis 7/Hirslanden/Schweizer/in",
          "WBev nach Stadtkreis, Quartier, Alter und Herkunft/Kreis 12/Hirzenbach/Schweizer/in",
          "WBev nach Stadtkreis, Quartier, Alter und Herkunft/Kreis 7/Hottingen/Schweizer/in",
          "WBev nach Stadtkreis, Quartier, Alter und Herkunft/Kreis 10/Höngg/Schweizer/in",
          "WBev nach Stadtkreis, Quartier, Alter und Herkunft/Kreis 4/Langstrasse/Schweizer/in",
          "WBev nach Stadtkreis, Quartier, Alter und Herkunft/Kreis 2/Leimbach/Schweizer/in",
          "WBev nach Stadtkreis, Quartier, Alter und Herkunft/Kreis 11/Oerlikon/Schweizer/in",
          "WBev nach Stadtkreis, Quartier, Alter und Herkunft/Kreis 1/Rathaus/Schweizer/in",
          "WBev nach Stadtkreis, Quartier, Alter und Herkunft/Kreis 12/Saatlen/Schweizer/in",
          "WBev nach Stadtkreis, Quartier, Alter und Herkunft/Kreis 11/Seebach/Schweizer/in",
          "WBev nach Stadtkreis, Quartier, Alter und Herkunft/Kreis 8/Seefeld/Schweizer/in",
          "WBev nach Stadtkreis, Quartier, Alter und Herkunft/Kreis 3/Sihlfeld/Schweizer/in",
          "WBev nach Stadtkreis, Quartier, Alter und Herkunft/Kreis 6/Unterstrass/Schweizer/in",
          "WBev nach Stadtkreis, Quartier, Alter und Herkunft/Kreis 8/Weinegg/Schweizer/in",
          "WBev nach Stadtkreis, Quartier, Alter und Herkunft/Kreis 10/Wipkingen/Schweizer/in",
          "WBev nach Stadtkreis, Quartier, Alter und Herkunft/Kreis 7/Witikon/Schweizer/in",
          "WBev nach Stadtkreis, Quartier, Alter und Herkunft/Kreis 2/Wollishofen/Schweizer/in",
          "WBev nach Stadtkreis, Quartier, Alter und Herkunft/Kreis 11/Affoltern",
          "WBev nach Stadtkreis, Quartier, Alter und Herkunft/Kreis 9/Albisrieden",
          "WBev nach Stadtkreis, Quartier, Alter und Herkunft/Kreis 3/Alt-Wiedikon",
          "WBev nach Stadtkreis, Quartier, Alter und Herkunft/Kreis 9/Altstetten",
          "WBev nach Stadtkreis, Quartier, Alter und Herkunft/Kreis 2/Enge",
          "WBev nach Stadtkreis, Quartier, Alter und Herkunft/Kreis 5/Escher Wyss",
          "WBev nach Stadtkreis, Quartier, Alter und Herkunft/Kreis 3/Friesenberg",
          "WBev nach Stadtkreis, Quartier, Alter und Herkunft/Kreis 4/Hard",
          "WBev nach Stadtkreis, Quartier, Alter und Herkunft/Kreis 7/Hirslanden",
          "WBev nach Stadtkreis, Quartier, Alter und Herkunft/Kreis 12/Hirzenbach",
          "WBev nach Stadtkreis, Quartier, Alter und Herkunft/Kreis 10/Höngg",
          "WBev nach Stadtkreis, Quartier, Alter und Herkunft/Kreis 4/Langstrasse",
          "WBev nach Stadtkreis, Quartier, Alter und Herkunft/Kreis 2/Leimbach",
          "WBev nach Stadtkreis, Quartier, Alter und Herkunft/Kreis 8/Mühlebach",
          "WBev nach Stadtkreis, Quartier, Alter und Herkunft/Kreis 6/Oberstrass",
          "WBev nach Stadtkreis, Quartier, Alter und Herkunft/Kreis 11/Oerlikon",
          "WBev nach Stadtkreis, Quartier, Alter und Herkunft/Kreis 1/Rathaus",
          "WBev nach Stadtkreis, Quartier, Alter und Herkunft/Kreis 12/Schwamendingen-Mitte",
          "WBev nach Stadtkreis, Quartier, Alter und Herkunft/Kreis 11/Seebach",
          "WBev nach Stadtkreis, Quartier, Alter und Herkunft/Kreis 8/Seefeld",
          "WBev nach Stadtkreis, Quartier, Alter und Herkunft/Kreis 3/Sihlfeld",
          "WBev nach Stadtkreis, Quartier, Alter und Herkunft/Kreis 6/Unterstrass",
          "WBev nach Stadtkreis, Quartier, Alter und Herkunft/Kreis 10/Wipkingen",
          "WBev nach Stadtkreis, Quartier, Alter und Herkunft/Kreis 7/Witikon",
          "WBev nach Stadtkreis, Quartier, Alter und Herkunft/Kreis 2/Wollishofen",
          "WBev nach Stadtkreis, Quartier, Alter und Herkunft/Kreis 11/Affoltern",
          "WBev nach Stadtkreis, Quartier, Alter und Herkunft/Kreis 9/Albisrieden",
          "WBev nach Stadtkreis, Quartier, Alter und Herkunft/Kreis 3/Alt-Wiedikon",
          "WBev nach Stadtkreis, Quartier, Alter und Herkunft/Kreis 9/Altstetten",
          "WBev nach Stadtkreis, Quartier, Alter und Herkunft/Kreis 2/Enge",
          "WBev nach Stadtkreis, Quartier, Alter und Herkunft/Kreis 5/Escher Wyss",
          "WBev nach Stadtkreis, Quartier, Alter und Herkunft/Kreis 7/Fluntern",
          "WBev nach Stadtkreis, Quartier, Alter und Herkunft/Kreis 3/Friesenberg",
          "WBev nach Stadtkreis, Quartier, Alter und Herkunft/Kreis 5/Gewerbeschule",
          "WBev nach Stadtkreis, Quartier, Alter und Herkunft/Kreis 4/Hard",
          "WBev nach Stadtkreis, Quartier, Alter und Herkunft/Kreis 7/Hirslanden",
          "WBev nach Stadtkreis, Quartier, Alter und Herkunft/Kreis 12/Hirzenbach",
          "WBev nach Stadtkreis, Quartier, Alter und Herkunft/Kreis 7/Hottingen",
          "WBev nach Stadtkreis, Quartier, Alter und Herkunft/Kreis 10/Höngg",
          "WBev nach Stadtkreis, Quartier, Alter und Herkunft/Kreis 4/Langstrasse",
          "WBev nach Stadtkreis, Quartier, Alter und Herkunft/Kreis 2/Leimbach",
          "WBev nach Stadtkreis, Quartier, Alter und Herkunft/Kreis 8/Mühlebach",
          "WBev nach Stadtkreis, Quartier, Alter und Herkunft/Kreis 6/Oberstrass",
          "WBev nach Stadtkreis, Quartier, Alter und Herkunft/Kreis 11/Oerlikon",
          "WBev nach Stadtkreis, Quartier, Alter und Herkunft/Kreis 1/Rathaus",
          "WBev nach Stadtkreis, Quartier, Alter und Herkunft/Kreis 12/Saatlen",
          "WBev nach Stadtkreis, Quartier, Alter und Herkunft/Kreis 12/Schwamendingen-Mitte",
          "WBev nach Stadtkreis, Quartier, Alter und Herkunft/Kreis 11/Seebach",
          "WBev nach Stadtkreis, Quartier, Alter und Herkunft/Kreis 8/Seefeld",
          "WBev nach Stadtkreis, Quartier, Alter und Herkunft/Kreis 3/Sihlfeld",
          "WBev nach Stadtkreis, Quartier, Alter und Herkunft/Kreis 6/Unterstrass",
          "WBev nach Stadtkreis, Quartier, Alter und Herkunft/Kreis 8/Weinegg",
          "WBev nach Stadtkreis, Quartier, Alter und Herkunft/Kreis 4/Werd",
          "WBev nach Stadtkreis, Quartier, Alter und Herkunft/Kreis 10/Wipkingen",
          "WBev nach Stadtkreis, Quartier, Alter und Herkunft/Kreis 7/Witikon",
          "WBev nach Stadtkreis, Quartier, Alter und Herkunft/Kreis 2/Wollishofen",
          "WBev nach Stadtkreis, Quartier, Alter und Herkunft/Kreis 11",
          "WBev nach Stadtkreis, Quartier, Alter und Herkunft/Kreis 9",
          "WBev nach Stadtkreis, Quartier, Alter und Herkunft/Kreis 3",
          "WBev nach Stadtkreis, Quartier, Alter und Herkunft/Kreis 9",
          "WBev nach Stadtkreis, Quartier, Alter und Herkunft/Kreis 2",
          "WBev nach Stadtkreis, Quartier, Alter und Herkunft/Kreis 5",
          "WBev nach Stadtkreis, Quartier, Alter und Herkunft/Kreis 7",
          "WBev nach Stadtkreis, Quartier, Alter und Herkunft/Kreis 3",
          "WBev nach Stadtkreis, Quartier, Alter und Herkunft/Kreis 5",
          "WBev nach Stadtkreis, Quartier, Alter und Herkunft/Kreis 4",
          "WBev nach Stadtkreis, Quartier, Alter und Herkunft/Kreis 7",
          "WBev nach Stadtkreis, Quartier, Alter und Herkunft/Kreis 12",
          "WBev nach Stadtkreis, Quartier, Alter und Herkunft/Kreis 7",
          "WBev nach Stadtkreis, Quartier, Alter und Herkunft/Kreis 10",
          "WBev nach Stadtkreis, Quartier, Alter und Herkunft/Kreis 4",
          "WBev nach Stadtkreis, Quartier, Alter und Herkunft/Kreis 2",
          "WBev nach Stadtkreis, Quartier, Alter und Herkunft/Kreis 8",
          "WBev nach Stadtkreis, Quartier, Alter und Herkunft/Kreis 6",
          "WBev nach Stadtkreis, Quartier, Alter und Herkunft/Kreis 11",
          "WBev nach Stadtkreis, Quartier, Alter und Herkunft/Kreis 1",
          "WBev nach Stadtkreis, Quartier, Alter und Herkunft/Kreis 12",
          "WBev nach Stadtkreis, Quartier, Alter und Herkunft/Kreis 12",
          "WBev nach Stadtkreis, Quartier, Alter und Herkunft/Kreis 11",
          "WBev nach Stadtkreis, Quartier, Alter und Herkunft/Kreis 8",
          "WBev nach Stadtkreis, Quartier, Alter und Herkunft/Kreis 3",
          "WBev nach Stadtkreis, Quartier, Alter und Herkunft/Kreis 6",
          "WBev nach Stadtkreis, Quartier, Alter und Herkunft/Kreis 8",
          "WBev nach Stadtkreis, Quartier, Alter und Herkunft/Kreis 4",
          "WBev nach Stadtkreis, Quartier, Alter und Herkunft/Kreis 10",
          "WBev nach Stadtkreis, Quartier, Alter und Herkunft/Kreis 7",
          "WBev nach Stadtkreis, Quartier, Alter und Herkunft/Kreis 2",
          "WBev nach Stadtkreis, Quartier, Alter und Herkunft",
          "WBev nach Stadtkreis, Quartier, Alter und Herkunft",
          "WBev nach Stadtkreis, Quartier, Alter und Herkunft",
          "WBev nach Stadtkreis, Quartier, Alter und Herkunft",
          "WBev nach Stadtkreis, Quartier, Alter und Herkunft",
          "WBev nach Stadtkreis, Quartier, Alter und Herkunft",
          "WBev nach Stadtkreis, Quartier, Alter und Herkunft",
          "WBev nach Stadtkreis, Quartier, Alter und Herkunft",
          "WBev nach Stadtkreis, Quartier, Alter und Herkunft",
          "WBev nach Stadtkreis, Quartier, Alter und Herkunft",
          "WBev nach Stadtkreis, Quartier, Alter und Herkunft",
          "WBev nach Stadtkreis, Quartier, Alter und Herkunft",
          ""
         ],
         "root": {
          "color": "grey"
         },
         "type": "treemap",
         "values": [
          6,
          2,
          1,
          3,
          4,
          3,
          1,
          1,
          3,
          1,
          3,
          1,
          1,
          1,
          1,
          3,
          2,
          1,
          3,
          6,
          1,
          2,
          7,
          9,
          8,
          5,
          11,
          4,
          5,
          1,
          3,
          3,
          2,
          4,
          1,
          10,
          1,
          4,
          2,
          4,
          5,
          1,
          1,
          6,
          7,
          3,
          6,
          11,
          2,
          3,
          5,
          5,
          5,
          4,
          2,
          6,
          1,
          3,
          3,
          1,
          2,
          2,
          3,
          3,
          1,
          2,
          1,
          2,
          1,
          2,
          7,
          1,
          1,
          2,
          1,
          3,
          7,
          9,
          5,
          12,
          5,
          3,
          1,
          2,
          4,
          6,
          1,
          11,
          2,
          7,
          5,
          3,
          4,
          1,
          2,
          7,
          3,
          9,
          7,
          1,
          6,
          2,
          8,
          10,
          4,
          7,
          4,
          7,
          6,
          2,
          3,
          5,
          4,
          6,
          2,
          2,
          2,
          2,
          2,
          1,
          5,
          9,
          2,
          4,
          8,
          1,
          3,
          10,
          16,
          17,
          10,
          23,
          9,
          8,
          1,
          3,
          7,
          9,
          3,
          15,
          3,
          17,
          6,
          7,
          2,
          4,
          9,
          2,
          3,
          6,
          14,
          6,
          15,
          18,
          3,
          3,
          11,
          7,
          13,
          26,
          21,
          17,
          27,
          16,
          14,
          1,
          5,
          7,
          12,
          8,
          19,
          3,
          23,
          8,
          9,
          4,
          6,
          11,
          3,
          3,
          11,
          23,
          8,
          19,
          26,
          3,
          3,
          12,
          10,
          23,
          3,
          35,
          60,
          33,
          48,
          41,
          23,
          21,
          32,
          22,
          15,
          48,
          381
         ]
        }
       ],
       "layout": {
        "autosize": true,
        "coloraxis": {
         "colorbar": {
          "title": {
           "text": "sum_WBev"
          }
         },
         "colorscale": [
          [
           0,
           "rgb(247,251,255)"
          ],
          [
           0.125,
           "rgb(222,235,247)"
          ],
          [
           0.25,
           "rgb(198,219,239)"
          ],
          [
           0.375,
           "rgb(158,202,225)"
          ],
          [
           0.5,
           "rgb(107,174,214)"
          ],
          [
           0.625,
           "rgb(66,146,198)"
          ],
          [
           0.75,
           "rgb(33,113,181)"
          ],
          [
           0.875,
           "rgb(8,81,156)"
          ],
          [
           1,
           "rgb(8,48,107)"
          ]
         ]
        },
        "legend": {
         "tracegroupgap": 0
        },
        "margin": {
         "b": 25,
         "l": 25,
         "r": 250,
         "t": 50
        },
        "template": {
         "data": {
          "bar": [
           {
            "error_x": {
             "color": "#2a3f5f"
            },
            "error_y": {
             "color": "#2a3f5f"
            },
            "marker": {
             "line": {
              "color": "#E5ECF6",
              "width": 0.5
             },
             "pattern": {
              "fillmode": "overlay",
              "size": 10,
              "solidity": 0.2
             }
            },
            "type": "bar"
           }
          ],
          "barpolar": [
           {
            "marker": {
             "line": {
              "color": "#E5ECF6",
              "width": 0.5
             },
             "pattern": {
              "fillmode": "overlay",
              "size": 10,
              "solidity": 0.2
             }
            },
            "type": "barpolar"
           }
          ],
          "carpet": [
           {
            "aaxis": {
             "endlinecolor": "#2a3f5f",
             "gridcolor": "white",
             "linecolor": "white",
             "minorgridcolor": "white",
             "startlinecolor": "#2a3f5f"
            },
            "baxis": {
             "endlinecolor": "#2a3f5f",
             "gridcolor": "white",
             "linecolor": "white",
             "minorgridcolor": "white",
             "startlinecolor": "#2a3f5f"
            },
            "type": "carpet"
           }
          ],
          "choropleth": [
           {
            "colorbar": {
             "outlinewidth": 0,
             "ticks": ""
            },
            "type": "choropleth"
           }
          ],
          "contour": [
           {
            "colorbar": {
             "outlinewidth": 0,
             "ticks": ""
            },
            "colorscale": [
             [
              0,
              "#0d0887"
             ],
             [
              0.1111111111111111,
              "#46039f"
             ],
             [
              0.2222222222222222,
              "#7201a8"
             ],
             [
              0.3333333333333333,
              "#9c179e"
             ],
             [
              0.4444444444444444,
              "#bd3786"
             ],
             [
              0.5555555555555556,
              "#d8576b"
             ],
             [
              0.6666666666666666,
              "#ed7953"
             ],
             [
              0.7777777777777778,
              "#fb9f3a"
             ],
             [
              0.8888888888888888,
              "#fdca26"
             ],
             [
              1,
              "#f0f921"
             ]
            ],
            "type": "contour"
           }
          ],
          "contourcarpet": [
           {
            "colorbar": {
             "outlinewidth": 0,
             "ticks": ""
            },
            "type": "contourcarpet"
           }
          ],
          "heatmap": [
           {
            "colorbar": {
             "outlinewidth": 0,
             "ticks": ""
            },
            "colorscale": [
             [
              0,
              "#0d0887"
             ],
             [
              0.1111111111111111,
              "#46039f"
             ],
             [
              0.2222222222222222,
              "#7201a8"
             ],
             [
              0.3333333333333333,
              "#9c179e"
             ],
             [
              0.4444444444444444,
              "#bd3786"
             ],
             [
              0.5555555555555556,
              "#d8576b"
             ],
             [
              0.6666666666666666,
              "#ed7953"
             ],
             [
              0.7777777777777778,
              "#fb9f3a"
             ],
             [
              0.8888888888888888,
              "#fdca26"
             ],
             [
              1,
              "#f0f921"
             ]
            ],
            "type": "heatmap"
           }
          ],
          "heatmapgl": [
           {
            "colorbar": {
             "outlinewidth": 0,
             "ticks": ""
            },
            "colorscale": [
             [
              0,
              "#0d0887"
             ],
             [
              0.1111111111111111,
              "#46039f"
             ],
             [
              0.2222222222222222,
              "#7201a8"
             ],
             [
              0.3333333333333333,
              "#9c179e"
             ],
             [
              0.4444444444444444,
              "#bd3786"
             ],
             [
              0.5555555555555556,
              "#d8576b"
             ],
             [
              0.6666666666666666,
              "#ed7953"
             ],
             [
              0.7777777777777778,
              "#fb9f3a"
             ],
             [
              0.8888888888888888,
              "#fdca26"
             ],
             [
              1,
              "#f0f921"
             ]
            ],
            "type": "heatmapgl"
           }
          ],
          "histogram": [
           {
            "marker": {
             "pattern": {
              "fillmode": "overlay",
              "size": 10,
              "solidity": 0.2
             }
            },
            "type": "histogram"
           }
          ],
          "histogram2d": [
           {
            "colorbar": {
             "outlinewidth": 0,
             "ticks": ""
            },
            "colorscale": [
             [
              0,
              "#0d0887"
             ],
             [
              0.1111111111111111,
              "#46039f"
             ],
             [
              0.2222222222222222,
              "#7201a8"
             ],
             [
              0.3333333333333333,
              "#9c179e"
             ],
             [
              0.4444444444444444,
              "#bd3786"
             ],
             [
              0.5555555555555556,
              "#d8576b"
             ],
             [
              0.6666666666666666,
              "#ed7953"
             ],
             [
              0.7777777777777778,
              "#fb9f3a"
             ],
             [
              0.8888888888888888,
              "#fdca26"
             ],
             [
              1,
              "#f0f921"
             ]
            ],
            "type": "histogram2d"
           }
          ],
          "histogram2dcontour": [
           {
            "colorbar": {
             "outlinewidth": 0,
             "ticks": ""
            },
            "colorscale": [
             [
              0,
              "#0d0887"
             ],
             [
              0.1111111111111111,
              "#46039f"
             ],
             [
              0.2222222222222222,
              "#7201a8"
             ],
             [
              0.3333333333333333,
              "#9c179e"
             ],
             [
              0.4444444444444444,
              "#bd3786"
             ],
             [
              0.5555555555555556,
              "#d8576b"
             ],
             [
              0.6666666666666666,
              "#ed7953"
             ],
             [
              0.7777777777777778,
              "#fb9f3a"
             ],
             [
              0.8888888888888888,
              "#fdca26"
             ],
             [
              1,
              "#f0f921"
             ]
            ],
            "type": "histogram2dcontour"
           }
          ],
          "mesh3d": [
           {
            "colorbar": {
             "outlinewidth": 0,
             "ticks": ""
            },
            "type": "mesh3d"
           }
          ],
          "parcoords": [
           {
            "line": {
             "colorbar": {
              "outlinewidth": 0,
              "ticks": ""
             }
            },
            "type": "parcoords"
           }
          ],
          "pie": [
           {
            "automargin": true,
            "type": "pie"
           }
          ],
          "scatter": [
           {
            "marker": {
             "colorbar": {
              "outlinewidth": 0,
              "ticks": ""
             }
            },
            "type": "scatter"
           }
          ],
          "scatter3d": [
           {
            "line": {
             "colorbar": {
              "outlinewidth": 0,
              "ticks": ""
             }
            },
            "marker": {
             "colorbar": {
              "outlinewidth": 0,
              "ticks": ""
             }
            },
            "type": "scatter3d"
           }
          ],
          "scattercarpet": [
           {
            "marker": {
             "colorbar": {
              "outlinewidth": 0,
              "ticks": ""
             }
            },
            "type": "scattercarpet"
           }
          ],
          "scattergeo": [
           {
            "marker": {
             "colorbar": {
              "outlinewidth": 0,
              "ticks": ""
             }
            },
            "type": "scattergeo"
           }
          ],
          "scattergl": [
           {
            "marker": {
             "colorbar": {
              "outlinewidth": 0,
              "ticks": ""
             }
            },
            "type": "scattergl"
           }
          ],
          "scattermapbox": [
           {
            "marker": {
             "colorbar": {
              "outlinewidth": 0,
              "ticks": ""
             }
            },
            "type": "scattermapbox"
           }
          ],
          "scatterpolar": [
           {
            "marker": {
             "colorbar": {
              "outlinewidth": 0,
              "ticks": ""
             }
            },
            "type": "scatterpolar"
           }
          ],
          "scatterpolargl": [
           {
            "marker": {
             "colorbar": {
              "outlinewidth": 0,
              "ticks": ""
             }
            },
            "type": "scatterpolargl"
           }
          ],
          "scatterternary": [
           {
            "marker": {
             "colorbar": {
              "outlinewidth": 0,
              "ticks": ""
             }
            },
            "type": "scatterternary"
           }
          ],
          "surface": [
           {
            "colorbar": {
             "outlinewidth": 0,
             "ticks": ""
            },
            "colorscale": [
             [
              0,
              "#0d0887"
             ],
             [
              0.1111111111111111,
              "#46039f"
             ],
             [
              0.2222222222222222,
              "#7201a8"
             ],
             [
              0.3333333333333333,
              "#9c179e"
             ],
             [
              0.4444444444444444,
              "#bd3786"
             ],
             [
              0.5555555555555556,
              "#d8576b"
             ],
             [
              0.6666666666666666,
              "#ed7953"
             ],
             [
              0.7777777777777778,
              "#fb9f3a"
             ],
             [
              0.8888888888888888,
              "#fdca26"
             ],
             [
              1,
              "#f0f921"
             ]
            ],
            "type": "surface"
           }
          ],
          "table": [
           {
            "cells": {
             "fill": {
              "color": "#EBF0F8"
             },
             "line": {
              "color": "white"
             }
            },
            "header": {
             "fill": {
              "color": "#C8D4E3"
             },
             "line": {
              "color": "white"
             }
            },
            "type": "table"
           }
          ]
         },
         "layout": {
          "annotationdefaults": {
           "arrowcolor": "#2a3f5f",
           "arrowhead": 0,
           "arrowwidth": 1
          },
          "autotypenumbers": "strict",
          "coloraxis": {
           "colorbar": {
            "outlinewidth": 0,
            "ticks": ""
           }
          },
          "colorscale": {
           "diverging": [
            [
             0,
             "#8e0152"
            ],
            [
             0.1,
             "#c51b7d"
            ],
            [
             0.2,
             "#de77ae"
            ],
            [
             0.3,
             "#f1b6da"
            ],
            [
             0.4,
             "#fde0ef"
            ],
            [
             0.5,
             "#f7f7f7"
            ],
            [
             0.6,
             "#e6f5d0"
            ],
            [
             0.7,
             "#b8e186"
            ],
            [
             0.8,
             "#7fbc41"
            ],
            [
             0.9,
             "#4d9221"
            ],
            [
             1,
             "#276419"
            ]
           ],
           "sequential": [
            [
             0,
             "#0d0887"
            ],
            [
             0.1111111111111111,
             "#46039f"
            ],
            [
             0.2222222222222222,
             "#7201a8"
            ],
            [
             0.3333333333333333,
             "#9c179e"
            ],
            [
             0.4444444444444444,
             "#bd3786"
            ],
            [
             0.5555555555555556,
             "#d8576b"
            ],
            [
             0.6666666666666666,
             "#ed7953"
            ],
            [
             0.7777777777777778,
             "#fb9f3a"
            ],
            [
             0.8888888888888888,
             "#fdca26"
            ],
            [
             1,
             "#f0f921"
            ]
           ],
           "sequentialminus": [
            [
             0,
             "#0d0887"
            ],
            [
             0.1111111111111111,
             "#46039f"
            ],
            [
             0.2222222222222222,
             "#7201a8"
            ],
            [
             0.3333333333333333,
             "#9c179e"
            ],
            [
             0.4444444444444444,
             "#bd3786"
            ],
            [
             0.5555555555555556,
             "#d8576b"
            ],
            [
             0.6666666666666666,
             "#ed7953"
            ],
            [
             0.7777777777777778,
             "#fb9f3a"
            ],
            [
             0.8888888888888888,
             "#fdca26"
            ],
            [
             1,
             "#f0f921"
            ]
           ]
          },
          "colorway": [
           "#636efa",
           "#EF553B",
           "#00cc96",
           "#ab63fa",
           "#FFA15A",
           "#19d3f3",
           "#FF6692",
           "#B6E880",
           "#FF97FF",
           "#FECB52"
          ],
          "font": {
           "color": "#2a3f5f"
          },
          "geo": {
           "bgcolor": "white",
           "lakecolor": "white",
           "landcolor": "#E5ECF6",
           "showlakes": true,
           "showland": true,
           "subunitcolor": "white"
          },
          "hoverlabel": {
           "align": "left"
          },
          "hovermode": "closest",
          "mapbox": {
           "style": "light"
          },
          "paper_bgcolor": "white",
          "plot_bgcolor": "#E5ECF6",
          "polar": {
           "angularaxis": {
            "gridcolor": "white",
            "linecolor": "white",
            "ticks": ""
           },
           "bgcolor": "#E5ECF6",
           "radialaxis": {
            "gridcolor": "white",
            "linecolor": "white",
            "ticks": ""
           }
          },
          "scene": {
           "xaxis": {
            "backgroundcolor": "#E5ECF6",
            "gridcolor": "white",
            "gridwidth": 2,
            "linecolor": "white",
            "showbackground": true,
            "ticks": "",
            "zerolinecolor": "white"
           },
           "yaxis": {
            "backgroundcolor": "#E5ECF6",
            "gridcolor": "white",
            "gridwidth": 2,
            "linecolor": "white",
            "showbackground": true,
            "ticks": "",
            "zerolinecolor": "white"
           },
           "zaxis": {
            "backgroundcolor": "#E5ECF6",
            "gridcolor": "white",
            "gridwidth": 2,
            "linecolor": "white",
            "showbackground": true,
            "ticks": "",
            "zerolinecolor": "white"
           }
          },
          "shapedefaults": {
           "line": {
            "color": "#2a3f5f"
           }
          },
          "ternary": {
           "aaxis": {
            "gridcolor": "white",
            "linecolor": "white",
            "ticks": ""
           },
           "baxis": {
            "gridcolor": "white",
            "linecolor": "white",
            "ticks": ""
           },
           "bgcolor": "#E5ECF6",
           "caxis": {
            "gridcolor": "white",
            "linecolor": "white",
            "ticks": ""
           }
          },
          "title": {
           "x": 0.05
          },
          "xaxis": {
           "automargin": true,
           "gridcolor": "white",
           "linecolor": "white",
           "ticks": "",
           "title": {
            "standoff": 15
           },
           "zerolinecolor": "white",
           "zerolinewidth": 2
          },
          "yaxis": {
           "automargin": true,
           "gridcolor": "white",
           "linecolor": "white",
           "ticks": "",
           "title": {
            "standoff": 15
           },
           "zerolinecolor": "white",
           "zerolinewidth": 2
          }
         }
        }
       }
      },
      "image/png": "[encoded data removed]",
      "text/html": [
       "<div>                            <div id=\"78de36c0-9bda-4e1e-a2eb-0798527f83eb\" class=\"plotly-graph-div\" style=\"height:525px; width:100%;\"></div>            <script type=\"text/javascript\">                require([\"plotly\"], function(Plotly) {                    window.PLOTLYENV=window.PLOTLYENV || {};                                    if (document.getElementById(\"78de36c0-9bda-4e1e-a2eb-0798527f83eb\")) {                    Plotly.newPlot(                        \"78de36c0-9bda-4e1e-a2eb-0798527f83eb\",                        [{\"branchvalues\":\"total\",\"customdata\":[[2.0],[1.0],[1.0],[1.0],[1.0],[1.0],[1.0],[1.0],[1.0],[1.0],[1.6666666666666667],[1.0],[1.0],[1.0],[1.0],[1.0],[1.0],[1.0],[1.0],[1.3333333333333333],[1.0],[1.0],[1.5714285714285714],[2.3333333333333335],[1.25],[1.4],[1.3636363636363635],[1.0],[1.0],[1.0],[1.0],[1.6666666666666667],[1.0],[1.0],[1.0],[1.4],[1.0],[2.5],[1.0],[1.5],[1.0],[1.0],[1.0],[1.0],[1.2857142857142858],[1.0],[1.3333333333333333],[1.1818181818181819],[1.0],[1.0],[1.4],[1.4],[1.0],[1.0],[1.0],[1.0],[1.0],[1.6666666666666667],[1.0],[1.0],[1.0],[1.0],[1.0],[1.0],[1.0],[1.0],[1.0],[1.0],[1.0],[1.0],[1.2857142857142858],[1.0],[1.0],[1.0],[1.0],[1.6666666666666667],[1.0],[1.2222222222222223],[1.0],[1.0],[1.0],[1.0],[1.0],[1.0],[1.0],[1.3333333333333333],[1.0],[1.7272727272727273],[1.0],[1.2857142857142858],[1.0],[1.0],[1.0],[1.0],[1.0],[1.0],[1.0],[1.2222222222222223],[1.0],[1.0],[1.3333333333333333],[1.0],[1.25],[1.6],[1.0],[1.0],[1.0],[1.2857142857142858],[1.0],[1.0],[1.0],[1.0],[1.0],[1.3333333333333333],[1.0],[1.0],[1.0],[1.0],[1.0],[1.0],[1.0],[1.2222222222222223],[1.0],[1.0],[1.25],[1.0],[1.0],[1.6],[1.75],[1.2352941176470589],[1.2],[1.173913043478261],[1.0],[1.0],[1.0],[1.0],[1.0],[1.4444444444444444],[1.0],[1.5333333333333334],[1.0],[1.3529411764705883],[1.0],[1.8571428571428572],[1.0],[1.5],[1.0],[1.0],[1.0],[1.0],[1.1428571428571428],[1.0],[1.2666666666666666],[1.1111111111111112],[1.0],[1.0],[1.3636363636363635],[1.2857142857142858],[1.1538461538461537],[1.6923076923076923],[1.1904761904761905],[1.1176470588235294],[1.1481481481481481],[1.125],[1.0],[1.0],[1.0],[1.0],[1.3333333333333333],[1.0],[1.4210526315789473],[1.0],[1.3478260869565217],[1.0],[1.6666666666666667],[1.0],[1.3333333333333333],[1.0],[1.0],[1.0],[1.0],[1.173913043478261],[1.0],[1.2105263157894737],[1.1538461538461537],[1.0],[1.0],[1.3333333333333333],[1.2],[1.3478260869565217],[1.0],[1.3428571428571427],[1.3666666666666667],[1.2424242424242424],[1.3333333333333333],[1.146341463414634],[1.173913043478261],[1.0],[1.1875],[1.0909090909090908],[1.0],[1.1666666666666667],[1.220472440944882]],\"domain\":{\"x\":[0.0,1.0],\"y\":[0.0,1.0]},\"hovertemplate\":\"labels=%{label}<br>sum_WBev_sum=%{value}<br>parent=%{parent}<br>id=%{id}<br>sum_WBev=%{color}<extra></extra>\",\"ids\":[\"WBev nach Stadtkreis, Quartier, Alter und Herkunft/Kreis 11/Affoltern/Ausl\\u00e4nder/in/m\\u00e4nnlich\",\"WBev nach Stadtkreis, Quartier, Alter und Herkunft/Kreis 9/Albisrieden/Ausl\\u00e4nder/in/m\\u00e4nnlich\",\"WBev nach Stadtkreis, Quartier, Alter und Herkunft/Kreis 3/Alt-Wiedikon/Ausl\\u00e4nder/in/m\\u00e4nnlich\",\"WBev nach Stadtkreis, Quartier, Alter und Herkunft/Kreis 9/Altstetten/Ausl\\u00e4nder/in/m\\u00e4nnlich\",\"WBev nach Stadtkreis, Quartier, Alter und Herkunft/Kreis 2/Enge/Ausl\\u00e4nder/in/m\\u00e4nnlich\",\"WBev nach Stadtkreis, Quartier, Alter und Herkunft/Kreis 5/Escher Wyss/Ausl\\u00e4nder/in/m\\u00e4nnlich\",\"WBev nach Stadtkreis, Quartier, Alter und Herkunft/Kreis 3/Friesenberg/Ausl\\u00e4nder/in/m\\u00e4nnlich\",\"WBev nach Stadtkreis, Quartier, Alter und Herkunft/Kreis 4/Hard/Ausl\\u00e4nder/in/m\\u00e4nnlich\",\"WBev nach Stadtkreis, Quartier, Alter und Herkunft/Kreis 7/Hirslanden/Ausl\\u00e4nder/in/m\\u00e4nnlich\",\"WBev nach Stadtkreis, Quartier, Alter und Herkunft/Kreis 12/Hirzenbach/Ausl\\u00e4nder/in/m\\u00e4nnlich\",\"WBev nach Stadtkreis, Quartier, Alter und Herkunft/Kreis 10/H\\u00f6ngg/Ausl\\u00e4nder/in/m\\u00e4nnlich\",\"WBev nach Stadtkreis, Quartier, Alter und Herkunft/Kreis 4/Langstrasse/Ausl\\u00e4nder/in/m\\u00e4nnlich\",\"WBev nach Stadtkreis, Quartier, Alter und Herkunft/Kreis 8/M\\u00fchlebach/Ausl\\u00e4nder/in/m\\u00e4nnlich\",\"WBev nach Stadtkreis, Quartier, Alter und Herkunft/Kreis 11/Oerlikon/Ausl\\u00e4nder/in/m\\u00e4nnlich\",\"WBev nach Stadtkreis, Quartier, Alter und Herkunft/Kreis 1/Rathaus/Ausl\\u00e4nder/in/m\\u00e4nnlich\",\"WBev nach Stadtkreis, Quartier, Alter und Herkunft/Kreis 12/Schwamendingen-Mitte/Ausl\\u00e4nder/in/m\\u00e4nnlich\",\"WBev nach Stadtkreis, Quartier, Alter und Herkunft/Kreis 11/Seebach/Ausl\\u00e4nder/in/m\\u00e4nnlich\",\"WBev nach Stadtkreis, Quartier, Alter und Herkunft/Kreis 8/Seefeld/Ausl\\u00e4nder/in/m\\u00e4nnlich\",\"WBev nach Stadtkreis, Quartier, Alter und Herkunft/Kreis 3/Sihlfeld/Ausl\\u00e4nder/in/m\\u00e4nnlich\",\"WBev nach Stadtkreis, Quartier, Alter und Herkunft/Kreis 6/Unterstrass/Ausl\\u00e4nder/in/m\\u00e4nnlich\",\"WBev nach Stadtkreis, Quartier, Alter und Herkunft/Kreis 10/Wipkingen/Ausl\\u00e4nder/in/m\\u00e4nnlich\",\"WBev nach Stadtkreis, Quartier, Alter und Herkunft/Kreis 7/Witikon/Ausl\\u00e4nder/in/m\\u00e4nnlich\",\"WBev nach Stadtkreis, Quartier, Alter und Herkunft/Kreis 2/Wollishofen/Ausl\\u00e4nder/in/m\\u00e4nnlich\",\"WBev nach Stadtkreis, Quartier, Alter und Herkunft/Kreis 11/Affoltern/Schweizer/in/m\\u00e4nnlich\",\"WBev nach Stadtkreis, Quartier, Alter und Herkunft/Kreis 9/Albisrieden/Schweizer/in/m\\u00e4nnlich\",\"WBev nach Stadtkreis, Quartier, Alter und Herkunft/Kreis 3/Alt-Wiedikon/Schweizer/in/m\\u00e4nnlich\",\"WBev nach Stadtkreis, Quartier, Alter und Herkunft/Kreis 9/Altstetten/Schweizer/in/m\\u00e4nnlich\",\"WBev nach Stadtkreis, Quartier, Alter und Herkunft/Kreis 2/Enge/Schweizer/in/m\\u00e4nnlich\",\"WBev nach Stadtkreis, Quartier, Alter und Herkunft/Kreis 5/Escher Wyss/Schweizer/in/m\\u00e4nnlich\",\"WBev nach Stadtkreis, Quartier, Alter und Herkunft/Kreis 3/Friesenberg/Schweizer/in/m\\u00e4nnlich\",\"WBev nach Stadtkreis, Quartier, Alter und Herkunft/Kreis 5/Gewerbeschule/Schweizer/in/m\\u00e4nnlich\",\"WBev nach Stadtkreis, Quartier, Alter und Herkunft/Kreis 4/Hard/Schweizer/in/m\\u00e4nnlich\",\"WBev nach Stadtkreis, Quartier, Alter und Herkunft/Kreis 7/Hirslanden/Schweizer/in/m\\u00e4nnlich\",\"WBev nach Stadtkreis, Quartier, Alter und Herkunft/Kreis 12/Hirzenbach/Schweizer/in/m\\u00e4nnlich\",\"WBev nach Stadtkreis, Quartier, Alter und Herkunft/Kreis 7/Hottingen/Schweizer/in/m\\u00e4nnlich\",\"WBev nach Stadtkreis, Quartier, Alter und Herkunft/Kreis 10/H\\u00f6ngg/Schweizer/in/m\\u00e4nnlich\",\"WBev nach Stadtkreis, Quartier, Alter und Herkunft/Kreis 4/Langstrasse/Schweizer/in/m\\u00e4nnlich\",\"WBev nach Stadtkreis, Quartier, Alter und Herkunft/Kreis 2/Leimbach/Schweizer/in/m\\u00e4nnlich\",\"WBev nach Stadtkreis, Quartier, Alter und Herkunft/Kreis 8/M\\u00fchlebach/Schweizer/in/m\\u00e4nnlich\",\"WBev nach Stadtkreis, Quartier, Alter und Herkunft/Kreis 6/Oberstrass/Schweizer/in/m\\u00e4nnlich\",\"WBev nach Stadtkreis, Quartier, Alter und Herkunft/Kreis 11/Oerlikon/Schweizer/in/m\\u00e4nnlich\",\"WBev nach Stadtkreis, Quartier, Alter und Herkunft/Kreis 1/Rathaus/Schweizer/in/m\\u00e4nnlich\",\"WBev nach Stadtkreis, Quartier, Alter und Herkunft/Kreis 12/Saatlen/Schweizer/in/m\\u00e4nnlich\",\"WBev nach Stadtkreis, Quartier, Alter und Herkunft/Kreis 12/Schwamendingen-Mitte/Schweizer/in/m\\u00e4nnlich\",\"WBev nach Stadtkreis, Quartier, Alter und Herkunft/Kreis 11/Seebach/Schweizer/in/m\\u00e4nnlich\",\"WBev nach Stadtkreis, Quartier, Alter und Herkunft/Kreis 8/Seefeld/Schweizer/in/m\\u00e4nnlich\",\"WBev nach Stadtkreis, Quartier, Alter und Herkunft/Kreis 3/Sihlfeld/Schweizer/in/m\\u00e4nnlich\",\"WBev nach Stadtkreis, Quartier, Alter und Herkunft/Kreis 6/Unterstrass/Schweizer/in/m\\u00e4nnlich\",\"WBev nach Stadtkreis, Quartier, Alter und Herkunft/Kreis 8/Weinegg/Schweizer/in/m\\u00e4nnlich\",\"WBev nach Stadtkreis, Quartier, Alter und Herkunft/Kreis 4/Werd/Schweizer/in/m\\u00e4nnlich\",\"WBev nach Stadtkreis, Quartier, Alter und Herkunft/Kreis 10/Wipkingen/Schweizer/in/m\\u00e4nnlich\",\"WBev nach Stadtkreis, Quartier, Alter und Herkunft/Kreis 7/Witikon/Schweizer/in/m\\u00e4nnlich\",\"WBev nach Stadtkreis, Quartier, Alter und Herkunft/Kreis 2/Wollishofen/Schweizer/in/m\\u00e4nnlich\",\"WBev nach Stadtkreis, Quartier, Alter und Herkunft/Kreis 11/Affoltern/Ausl\\u00e4nder/in/weiblich\",\"WBev nach Stadtkreis, Quartier, Alter und Herkunft/Kreis 9/Albisrieden/Ausl\\u00e4nder/in/weiblich\",\"WBev nach Stadtkreis, Quartier, Alter und Herkunft/Kreis 3/Alt-Wiedikon/Ausl\\u00e4nder/in/weiblich\",\"WBev nach Stadtkreis, Quartier, Alter und Herkunft/Kreis 9/Altstetten/Ausl\\u00e4nder/in/weiblich\",\"WBev nach Stadtkreis, Quartier, Alter und Herkunft/Kreis 2/Enge/Ausl\\u00e4nder/in/weiblich\",\"WBev nach Stadtkreis, Quartier, Alter und Herkunft/Kreis 5/Escher Wyss/Ausl\\u00e4nder/in/weiblich\",\"WBev nach Stadtkreis, Quartier, Alter und Herkunft/Kreis 3/Friesenberg/Ausl\\u00e4nder/in/weiblich\",\"WBev nach Stadtkreis, Quartier, Alter und Herkunft/Kreis 4/Hard/Ausl\\u00e4nder/in/weiblich\",\"WBev nach Stadtkreis, Quartier, Alter und Herkunft/Kreis 7/Hirslanden/Ausl\\u00e4nder/in/weiblich\",\"WBev nach Stadtkreis, Quartier, Alter und Herkunft/Kreis 12/Hirzenbach/Ausl\\u00e4nder/in/weiblich\",\"WBev nach Stadtkreis, Quartier, Alter und Herkunft/Kreis 10/H\\u00f6ngg/Ausl\\u00e4nder/in/weiblich\",\"WBev nach Stadtkreis, Quartier, Alter und Herkunft/Kreis 4/Langstrasse/Ausl\\u00e4nder/in/weiblich\",\"WBev nach Stadtkreis, Quartier, Alter und Herkunft/Kreis 2/Leimbach/Ausl\\u00e4nder/in/weiblich\",\"WBev nach Stadtkreis, Quartier, Alter und Herkunft/Kreis 8/M\\u00fchlebach/Ausl\\u00e4nder/in/weiblich\",\"WBev nach Stadtkreis, Quartier, Alter und Herkunft/Kreis 6/Oberstrass/Ausl\\u00e4nder/in/weiblich\",\"WBev nach Stadtkreis, Quartier, Alter und Herkunft/Kreis 11/Oerlikon/Ausl\\u00e4nder/in/weiblich\",\"WBev nach Stadtkreis, Quartier, Alter und Herkunft/Kreis 12/Schwamendingen-Mitte/Ausl\\u00e4nder/in/weiblich\",\"WBev nach Stadtkreis, Quartier, Alter und Herkunft/Kreis 11/Seebach/Ausl\\u00e4nder/in/weiblich\",\"WBev nach Stadtkreis, Quartier, Alter und Herkunft/Kreis 8/Seefeld/Ausl\\u00e4nder/in/weiblich\",\"WBev nach Stadtkreis, Quartier, Alter und Herkunft/Kreis 3/Sihlfeld/Ausl\\u00e4nder/in/weiblich\",\"WBev nach Stadtkreis, Quartier, Alter und Herkunft/Kreis 6/Unterstrass/Ausl\\u00e4nder/in/weiblich\",\"WBev nach Stadtkreis, Quartier, Alter und Herkunft/Kreis 7/Witikon/Ausl\\u00e4nder/in/weiblich\",\"WBev nach Stadtkreis, Quartier, Alter und Herkunft/Kreis 2/Wollishofen/Ausl\\u00e4nder/in/weiblich\",\"WBev nach Stadtkreis, Quartier, Alter und Herkunft/Kreis 11/Affoltern/Schweizer/in/weiblich\",\"WBev nach Stadtkreis, Quartier, Alter und Herkunft/Kreis 9/Albisrieden/Schweizer/in/weiblich\",\"WBev nach Stadtkreis, Quartier, Alter und Herkunft/Kreis 3/Alt-Wiedikon/Schweizer/in/weiblich\",\"WBev nach Stadtkreis, Quartier, Alter und Herkunft/Kreis 9/Altstetten/Schweizer/in/weiblich\",\"WBev nach Stadtkreis, Quartier, Alter und Herkunft/Kreis 2/Enge/Schweizer/in/weiblich\",\"WBev nach Stadtkreis, Quartier, Alter und Herkunft/Kreis 5/Escher Wyss/Schweizer/in/weiblich\",\"WBev nach Stadtkreis, Quartier, Alter und Herkunft/Kreis 7/Fluntern/Schweizer/in/weiblich\",\"WBev nach Stadtkreis, Quartier, Alter und Herkunft/Kreis 3/Friesenberg/Schweizer/in/weiblich\",\"WBev nach Stadtkreis, Quartier, Alter und Herkunft/Kreis 5/Gewerbeschule/Schweizer/in/weiblich\",\"WBev nach Stadtkreis, Quartier, Alter und Herkunft/Kreis 4/Hard/Schweizer/in/weiblich\",\"WBev nach Stadtkreis, Quartier, Alter und Herkunft/Kreis 7/Hirslanden/Schweizer/in/weiblich\",\"WBev nach Stadtkreis, Quartier, Alter und Herkunft/Kreis 12/Hirzenbach/Schweizer/in/weiblich\",\"WBev nach Stadtkreis, Quartier, Alter und Herkunft/Kreis 7/Hottingen/Schweizer/in/weiblich\",\"WBev nach Stadtkreis, Quartier, Alter und Herkunft/Kreis 10/H\\u00f6ngg/Schweizer/in/weiblich\",\"WBev nach Stadtkreis, Quartier, Alter und Herkunft/Kreis 4/Langstrasse/Schweizer/in/weiblich\",\"WBev nach Stadtkreis, Quartier, Alter und Herkunft/Kreis 2/Leimbach/Schweizer/in/weiblich\",\"WBev nach Stadtkreis, Quartier, Alter und Herkunft/Kreis 11/Oerlikon/Schweizer/in/weiblich\",\"WBev nach Stadtkreis, Quartier, Alter und Herkunft/Kreis 1/Rathaus/Schweizer/in/weiblich\",\"WBev nach Stadtkreis, Quartier, Alter und Herkunft/Kreis 12/Saatlen/Schweizer/in/weiblich\",\"WBev nach Stadtkreis, Quartier, Alter und Herkunft/Kreis 11/Seebach/Schweizer/in/weiblich\",\"WBev nach Stadtkreis, Quartier, Alter und Herkunft/Kreis 8/Seefeld/Schweizer/in/weiblich\",\"WBev nach Stadtkreis, Quartier, Alter und Herkunft/Kreis 3/Sihlfeld/Schweizer/in/weiblich\",\"WBev nach Stadtkreis, Quartier, Alter und Herkunft/Kreis 6/Unterstrass/Schweizer/in/weiblich\",\"WBev nach Stadtkreis, Quartier, Alter und Herkunft/Kreis 8/Weinegg/Schweizer/in/weiblich\",\"WBev nach Stadtkreis, Quartier, Alter und Herkunft/Kreis 10/Wipkingen/Schweizer/in/weiblich\",\"WBev nach Stadtkreis, Quartier, Alter und Herkunft/Kreis 7/Witikon/Schweizer/in/weiblich\",\"WBev nach Stadtkreis, Quartier, Alter und Herkunft/Kreis 2/Wollishofen/Schweizer/in/weiblich\",\"WBev nach Stadtkreis, Quartier, Alter und Herkunft/Kreis 11/Affoltern/Ausl\\u00e4nder/in\",\"WBev nach Stadtkreis, Quartier, Alter und Herkunft/Kreis 9/Albisrieden/Ausl\\u00e4nder/in\",\"WBev nach Stadtkreis, Quartier, Alter und Herkunft/Kreis 3/Alt-Wiedikon/Ausl\\u00e4nder/in\",\"WBev nach Stadtkreis, Quartier, Alter und Herkunft/Kreis 9/Altstetten/Ausl\\u00e4nder/in\",\"WBev nach Stadtkreis, Quartier, Alter und Herkunft/Kreis 2/Enge/Ausl\\u00e4nder/in\",\"WBev nach Stadtkreis, Quartier, Alter und Herkunft/Kreis 5/Escher Wyss/Ausl\\u00e4nder/in\",\"WBev nach Stadtkreis, Quartier, Alter und Herkunft/Kreis 3/Friesenberg/Ausl\\u00e4nder/in\",\"WBev nach Stadtkreis, Quartier, Alter und Herkunft/Kreis 4/Hard/Ausl\\u00e4nder/in\",\"WBev nach Stadtkreis, Quartier, Alter und Herkunft/Kreis 7/Hirslanden/Ausl\\u00e4nder/in\",\"WBev nach Stadtkreis, Quartier, Alter und Herkunft/Kreis 12/Hirzenbach/Ausl\\u00e4nder/in\",\"WBev nach Stadtkreis, Quartier, Alter und Herkunft/Kreis 10/H\\u00f6ngg/Ausl\\u00e4nder/in\",\"WBev nach Stadtkreis, Quartier, Alter und Herkunft/Kreis 4/Langstrasse/Ausl\\u00e4nder/in\",\"WBev nach Stadtkreis, Quartier, Alter und Herkunft/Kreis 2/Leimbach/Ausl\\u00e4nder/in\",\"WBev nach Stadtkreis, Quartier, Alter und Herkunft/Kreis 8/M\\u00fchlebach/Ausl\\u00e4nder/in\",\"WBev nach Stadtkreis, Quartier, Alter und Herkunft/Kreis 6/Oberstrass/Ausl\\u00e4nder/in\",\"WBev nach Stadtkreis, Quartier, Alter und Herkunft/Kreis 11/Oerlikon/Ausl\\u00e4nder/in\",\"WBev nach Stadtkreis, Quartier, Alter und Herkunft/Kreis 1/Rathaus/Ausl\\u00e4nder/in\",\"WBev nach Stadtkreis, Quartier, Alter und Herkunft/Kreis 12/Schwamendingen-Mitte/Ausl\\u00e4nder/in\",\"WBev nach Stadtkreis, Quartier, Alter und Herkunft/Kreis 11/Seebach/Ausl\\u00e4nder/in\",\"WBev nach Stadtkreis, Quartier, Alter und Herkunft/Kreis 8/Seefeld/Ausl\\u00e4nder/in\",\"WBev nach Stadtkreis, Quartier, Alter und Herkunft/Kreis 3/Sihlfeld/Ausl\\u00e4nder/in\",\"WBev nach Stadtkreis, Quartier, Alter und Herkunft/Kreis 6/Unterstrass/Ausl\\u00e4nder/in\",\"WBev nach Stadtkreis, Quartier, Alter und Herkunft/Kreis 10/Wipkingen/Ausl\\u00e4nder/in\",\"WBev nach Stadtkreis, Quartier, Alter und Herkunft/Kreis 7/Witikon/Ausl\\u00e4nder/in\",\"WBev nach Stadtkreis, Quartier, Alter und Herkunft/Kreis 2/Wollishofen/Ausl\\u00e4nder/in\",\"WBev nach Stadtkreis, Quartier, Alter und Herkunft/Kreis 11/Affoltern/Schweizer/in\",\"WBev nach Stadtkreis, Quartier, Alter und Herkunft/Kreis 9/Albisrieden/Schweizer/in\",\"WBev nach Stadtkreis, Quartier, Alter und Herkunft/Kreis 3/Alt-Wiedikon/Schweizer/in\",\"WBev nach Stadtkreis, Quartier, Alter und Herkunft/Kreis 9/Altstetten/Schweizer/in\",\"WBev nach Stadtkreis, Quartier, Alter und Herkunft/Kreis 2/Enge/Schweizer/in\",\"WBev nach Stadtkreis, Quartier, Alter und Herkunft/Kreis 5/Escher Wyss/Schweizer/in\",\"WBev nach Stadtkreis, Quartier, Alter und Herkunft/Kreis 7/Fluntern/Schweizer/in\",\"WBev nach Stadtkreis, Quartier, Alter und Herkunft/Kreis 3/Friesenberg/Schweizer/in\",\"WBev nach Stadtkreis, Quartier, Alter und Herkunft/Kreis 5/Gewerbeschule/Schweizer/in\",\"WBev nach Stadtkreis, Quartier, Alter und Herkunft/Kreis 4/Hard/Schweizer/in\",\"WBev nach Stadtkreis, Quartier, Alter und Herkunft/Kreis 7/Hirslanden/Schweizer/in\",\"WBev nach Stadtkreis, Quartier, Alter und Herkunft/Kreis 12/Hirzenbach/Schweizer/in\",\"WBev nach Stadtkreis, Quartier, Alter und Herkunft/Kreis 7/Hottingen/Schweizer/in\",\"WBev nach Stadtkreis, Quartier, Alter und Herkunft/Kreis 10/H\\u00f6ngg/Schweizer/in\",\"WBev nach Stadtkreis, Quartier, Alter und Herkunft/Kreis 4/Langstrasse/Schweizer/in\",\"WBev nach Stadtkreis, Quartier, Alter und Herkunft/Kreis 2/Leimbach/Schweizer/in\",\"WBev nach Stadtkreis, Quartier, Alter und Herkunft/Kreis 8/M\\u00fchlebach/Schweizer/in\",\"WBev nach Stadtkreis, Quartier, Alter und Herkunft/Kreis 6/Oberstrass/Schweizer/in\",\"WBev nach Stadtkreis, Quartier, Alter und Herkunft/Kreis 11/Oerlikon/Schweizer/in\",\"WBev nach Stadtkreis, Quartier, Alter und Herkunft/Kreis 1/Rathaus/Schweizer/in\",\"WBev nach Stadtkreis, Quartier, Alter und Herkunft/Kreis 12/Saatlen/Schweizer/in\",\"WBev nach Stadtkreis, Quartier, Alter und Herkunft/Kreis 12/Schwamendingen-Mitte/Schweizer/in\",\"WBev nach Stadtkreis, Quartier, Alter und Herkunft/Kreis 11/Seebach/Schweizer/in\",\"WBev nach Stadtkreis, Quartier, Alter und Herkunft/Kreis 8/Seefeld/Schweizer/in\",\"WBev nach Stadtkreis, Quartier, Alter und Herkunft/Kreis 3/Sihlfeld/Schweizer/in\",\"WBev nach Stadtkreis, Quartier, Alter und Herkunft/Kreis 6/Unterstrass/Schweizer/in\",\"WBev nach Stadtkreis, Quartier, Alter und Herkunft/Kreis 8/Weinegg/Schweizer/in\",\"WBev nach Stadtkreis, Quartier, Alter und Herkunft/Kreis 4/Werd/Schweizer/in\",\"WBev nach Stadtkreis, Quartier, Alter und Herkunft/Kreis 10/Wipkingen/Schweizer/in\",\"WBev nach Stadtkreis, Quartier, Alter und Herkunft/Kreis 7/Witikon/Schweizer/in\",\"WBev nach Stadtkreis, Quartier, Alter und Herkunft/Kreis 2/Wollishofen/Schweizer/in\",\"WBev nach Stadtkreis, Quartier, Alter und Herkunft/Kreis 11/Affoltern\",\"WBev nach Stadtkreis, Quartier, Alter und Herkunft/Kreis 9/Albisrieden\",\"WBev nach Stadtkreis, Quartier, Alter und Herkunft/Kreis 3/Alt-Wiedikon\",\"WBev nach Stadtkreis, Quartier, Alter und Herkunft/Kreis 9/Altstetten\",\"WBev nach Stadtkreis, Quartier, Alter und Herkunft/Kreis 2/Enge\",\"WBev nach Stadtkreis, Quartier, Alter und Herkunft/Kreis 5/Escher Wyss\",\"WBev nach Stadtkreis, Quartier, Alter und Herkunft/Kreis 7/Fluntern\",\"WBev nach Stadtkreis, Quartier, Alter und Herkunft/Kreis 3/Friesenberg\",\"WBev nach Stadtkreis, Quartier, Alter und Herkunft/Kreis 5/Gewerbeschule\",\"WBev nach Stadtkreis, Quartier, Alter und Herkunft/Kreis 4/Hard\",\"WBev nach Stadtkreis, Quartier, Alter und Herkunft/Kreis 7/Hirslanden\",\"WBev nach Stadtkreis, Quartier, Alter und Herkunft/Kreis 12/Hirzenbach\",\"WBev nach Stadtkreis, Quartier, Alter und Herkunft/Kreis 7/Hottingen\",\"WBev nach Stadtkreis, Quartier, Alter und Herkunft/Kreis 10/H\\u00f6ngg\",\"WBev nach Stadtkreis, Quartier, Alter und Herkunft/Kreis 4/Langstrasse\",\"WBev nach Stadtkreis, Quartier, Alter und Herkunft/Kreis 2/Leimbach\",\"WBev nach Stadtkreis, Quartier, Alter und Herkunft/Kreis 8/M\\u00fchlebach\",\"WBev nach Stadtkreis, Quartier, Alter und Herkunft/Kreis 6/Oberstrass\",\"WBev nach Stadtkreis, Quartier, Alter und Herkunft/Kreis 11/Oerlikon\",\"WBev nach Stadtkreis, Quartier, Alter und Herkunft/Kreis 1/Rathaus\",\"WBev nach Stadtkreis, Quartier, Alter und Herkunft/Kreis 12/Saatlen\",\"WBev nach Stadtkreis, Quartier, Alter und Herkunft/Kreis 12/Schwamendingen-Mitte\",\"WBev nach Stadtkreis, Quartier, Alter und Herkunft/Kreis 11/Seebach\",\"WBev nach Stadtkreis, Quartier, Alter und Herkunft/Kreis 8/Seefeld\",\"WBev nach Stadtkreis, Quartier, Alter und Herkunft/Kreis 3/Sihlfeld\",\"WBev nach Stadtkreis, Quartier, Alter und Herkunft/Kreis 6/Unterstrass\",\"WBev nach Stadtkreis, Quartier, Alter und Herkunft/Kreis 8/Weinegg\",\"WBev nach Stadtkreis, Quartier, Alter und Herkunft/Kreis 4/Werd\",\"WBev nach Stadtkreis, Quartier, Alter und Herkunft/Kreis 10/Wipkingen\",\"WBev nach Stadtkreis, Quartier, Alter und Herkunft/Kreis 7/Witikon\",\"WBev nach Stadtkreis, Quartier, Alter und Herkunft/Kreis 2/Wollishofen\",\"WBev nach Stadtkreis, Quartier, Alter und Herkunft/Kreis 1\",\"WBev nach Stadtkreis, Quartier, Alter und Herkunft/Kreis 10\",\"WBev nach Stadtkreis, Quartier, Alter und Herkunft/Kreis 11\",\"WBev nach Stadtkreis, Quartier, Alter und Herkunft/Kreis 12\",\"WBev nach Stadtkreis, Quartier, Alter und Herkunft/Kreis 2\",\"WBev nach Stadtkreis, Quartier, Alter und Herkunft/Kreis 3\",\"WBev nach Stadtkreis, Quartier, Alter und Herkunft/Kreis 4\",\"WBev nach Stadtkreis, Quartier, Alter und Herkunft/Kreis 5\",\"WBev nach Stadtkreis, Quartier, Alter und Herkunft/Kreis 6\",\"WBev nach Stadtkreis, Quartier, Alter und Herkunft/Kreis 7\",\"WBev nach Stadtkreis, Quartier, Alter und Herkunft/Kreis 8\",\"WBev nach Stadtkreis, Quartier, Alter und Herkunft/Kreis 9\",\"WBev nach Stadtkreis, Quartier, Alter und Herkunft\"],\"labels\":[\"m\\u00e4nnlich\",\"m\\u00e4nnlich\",\"m\\u00e4nnlich\",\"m\\u00e4nnlich\",\"m\\u00e4nnlich\",\"m\\u00e4nnlich\",\"m\\u00e4nnlich\",\"m\\u00e4nnlich\",\"m\\u00e4nnlich\",\"m\\u00e4nnlich\",\"m\\u00e4nnlich\",\"m\\u00e4nnlich\",\"m\\u00e4nnlich\",\"m\\u00e4nnlich\",\"m\\u00e4nnlich\",\"m\\u00e4nnlich\",\"m\\u00e4nnlich\",\"m\\u00e4nnlich\",\"m\\u00e4nnlich\",\"m\\u00e4nnlich\",\"m\\u00e4nnlich\",\"m\\u00e4nnlich\",\"m\\u00e4nnlich\",\"m\\u00e4nnlich\",\"m\\u00e4nnlich\",\"m\\u00e4nnlich\",\"m\\u00e4nnlich\",\"m\\u00e4nnlich\",\"m\\u00e4nnlich\",\"m\\u00e4nnlich\",\"m\\u00e4nnlich\",\"m\\u00e4nnlich\",\"m\\u00e4nnlich\",\"m\\u00e4nnlich\",\"m\\u00e4nnlich\",\"m\\u00e4nnlich\",\"m\\u00e4nnlich\",\"m\\u00e4nnlich\",\"m\\u00e4nnlich\",\"m\\u00e4nnlich\",\"m\\u00e4nnlich\",\"m\\u00e4nnlich\",\"m\\u00e4nnlich\",\"m\\u00e4nnlich\",\"m\\u00e4nnlich\",\"m\\u00e4nnlich\",\"m\\u00e4nnlich\",\"m\\u00e4nnlich\",\"m\\u00e4nnlich\",\"m\\u00e4nnlich\",\"m\\u00e4nnlich\",\"m\\u00e4nnlich\",\"m\\u00e4nnlich\",\"weiblich\",\"weiblich\",\"weiblich\",\"weiblich\",\"weiblich\",\"weiblich\",\"weiblich\",\"weiblich\",\"weiblich\",\"weiblich\",\"weiblich\",\"weiblich\",\"weiblich\",\"weiblich\",\"weiblich\",\"weiblich\",\"weiblich\",\"weiblich\",\"weiblich\",\"weiblich\",\"weiblich\",\"weiblich\",\"weiblich\",\"weiblich\",\"weiblich\",\"weiblich\",\"weiblich\",\"weiblich\",\"weiblich\",\"weiblich\",\"weiblich\",\"weiblich\",\"weiblich\",\"weiblich\",\"weiblich\",\"weiblich\",\"weiblich\",\"weiblich\",\"weiblich\",\"weiblich\",\"weiblich\",\"weiblich\",\"weiblich\",\"weiblich\",\"weiblich\",\"weiblich\",\"weiblich\",\"weiblich\",\"weiblich\",\"weiblich\",\"Ausl\\u00e4nder/in\",\"Ausl\\u00e4nder/in\",\"Ausl\\u00e4nder/in\",\"Ausl\\u00e4nder/in\",\"Ausl\\u00e4nder/in\",\"Ausl\\u00e4nder/in\",\"Ausl\\u00e4nder/in\",\"Ausl\\u00e4nder/in\",\"Ausl\\u00e4nder/in\",\"Ausl\\u00e4nder/in\",\"Ausl\\u00e4nder/in\",\"Ausl\\u00e4nder/in\",\"Ausl\\u00e4nder/in\",\"Ausl\\u00e4nder/in\",\"Ausl\\u00e4nder/in\",\"Ausl\\u00e4nder/in\",\"Ausl\\u00e4nder/in\",\"Ausl\\u00e4nder/in\",\"Ausl\\u00e4nder/in\",\"Ausl\\u00e4nder/in\",\"Ausl\\u00e4nder/in\",\"Ausl\\u00e4nder/in\",\"Ausl\\u00e4nder/in\",\"Ausl\\u00e4nder/in\",\"Ausl\\u00e4nder/in\",\"Schweizer/in\",\"Schweizer/in\",\"Schweizer/in\",\"Schweizer/in\",\"Schweizer/in\",\"Schweizer/in\",\"Schweizer/in\",\"Schweizer/in\",\"Schweizer/in\",\"Schweizer/in\",\"Schweizer/in\",\"Schweizer/in\",\"Schweizer/in\",\"Schweizer/in\",\"Schweizer/in\",\"Schweizer/in\",\"Schweizer/in\",\"Schweizer/in\",\"Schweizer/in\",\"Schweizer/in\",\"Schweizer/in\",\"Schweizer/in\",\"Schweizer/in\",\"Schweizer/in\",\"Schweizer/in\",\"Schweizer/in\",\"Schweizer/in\",\"Schweizer/in\",\"Schweizer/in\",\"Schweizer/in\",\"Schweizer/in\",\"Affoltern\",\"Albisrieden\",\"Alt-Wiedikon\",\"Altstetten\",\"Enge\",\"Escher Wyss\",\"Fluntern\",\"Friesenberg\",\"Gewerbeschule\",\"Hard\",\"Hirslanden\",\"Hirzenbach\",\"Hottingen\",\"H\\u00f6ngg\",\"Langstrasse\",\"Leimbach\",\"M\\u00fchlebach\",\"Oberstrass\",\"Oerlikon\",\"Rathaus\",\"Saatlen\",\"Schwamendingen-Mitte\",\"Seebach\",\"Seefeld\",\"Sihlfeld\",\"Unterstrass\",\"Weinegg\",\"Werd\",\"Wipkingen\",\"Witikon\",\"Wollishofen\",\"Kreis 1\",\"Kreis 10\",\"Kreis 11\",\"Kreis 12\",\"Kreis 2\",\"Kreis 3\",\"Kreis 4\",\"Kreis 5\",\"Kreis 6\",\"Kreis 7\",\"Kreis 8\",\"Kreis 9\",\"WBev nach Stadtkreis, Quartier, Alter und Herkunft\"],\"marker\":{\"coloraxis\":\"coloraxis\",\"colors\":[2.0,1.0,1.0,1.0,1.0,1.0,1.0,1.0,1.0,1.0,1.6666666666666667,1.0,1.0,1.0,1.0,1.0,1.0,1.0,1.0,1.3333333333333333,1.0,1.0,1.5714285714285714,2.3333333333333335,1.25,1.4,1.3636363636363635,1.0,1.0,1.0,1.0,1.6666666666666667,1.0,1.0,1.0,1.4,1.0,2.5,1.0,1.5,1.0,1.0,1.0,1.0,1.2857142857142858,1.0,1.3333333333333333,1.1818181818181819,1.0,1.0,1.4,1.4,1.0,1.0,1.0,1.0,1.0,1.6666666666666667,1.0,1.0,1.0,1.0,1.0,1.0,1.0,1.0,1.0,1.0,1.0,1.0,1.2857142857142858,1.0,1.0,1.0,1.0,1.6666666666666667,1.0,1.2222222222222223,1.0,1.0,1.0,1.0,1.0,1.0,1.0,1.3333333333333333,1.0,1.7272727272727273,1.0,1.2857142857142858,1.0,1.0,1.0,1.0,1.0,1.0,1.0,1.2222222222222223,1.0,1.0,1.3333333333333333,1.0,1.25,1.6,1.0,1.0,1.0,1.2857142857142858,1.0,1.0,1.0,1.0,1.0,1.3333333333333333,1.0,1.0,1.0,1.0,1.0,1.0,1.0,1.2222222222222223,1.0,1.0,1.25,1.0,1.0,1.6,1.75,1.2352941176470589,1.2,1.173913043478261,1.0,1.0,1.0,1.0,1.0,1.4444444444444444,1.0,1.5333333333333334,1.0,1.3529411764705883,1.0,1.8571428571428572,1.0,1.5,1.0,1.0,1.0,1.0,1.1428571428571428,1.0,1.2666666666666666,1.1111111111111112,1.0,1.0,1.3636363636363635,1.2857142857142858,1.1538461538461537,1.6923076923076923,1.1904761904761905,1.1176470588235294,1.1481481481481481,1.125,1.0,1.0,1.0,1.0,1.3333333333333333,1.0,1.4210526315789473,1.0,1.3478260869565217,1.0,1.6666666666666667,1.0,1.3333333333333333,1.0,1.0,1.0,1.0,1.173913043478261,1.0,1.2105263157894737,1.1538461538461537,1.0,1.0,1.3333333333333333,1.2,1.3478260869565217,1.0,1.3428571428571427,1.3666666666666667,1.2424242424242424,1.3333333333333333,1.146341463414634,1.173913043478261,1.0,1.1875,1.0909090909090908,1.0,1.1666666666666667,1.220472440944882]},\"name\":\"\",\"parents\":[\"WBev nach Stadtkreis, Quartier, Alter und Herkunft/Kreis 11/Affoltern/Ausl\\u00e4nder/in\",\"WBev nach Stadtkreis, Quartier, Alter und Herkunft/Kreis 9/Albisrieden/Ausl\\u00e4nder/in\",\"WBev nach Stadtkreis, Quartier, Alter und Herkunft/Kreis 3/Alt-Wiedikon/Ausl\\u00e4nder/in\",\"WBev nach Stadtkreis, Quartier, Alter und Herkunft/Kreis 9/Altstetten/Ausl\\u00e4nder/in\",\"WBev nach Stadtkreis, Quartier, Alter und Herkunft/Kreis 2/Enge/Ausl\\u00e4nder/in\",\"WBev nach Stadtkreis, Quartier, Alter und Herkunft/Kreis 5/Escher Wyss/Ausl\\u00e4nder/in\",\"WBev nach Stadtkreis, Quartier, Alter und Herkunft/Kreis 3/Friesenberg/Ausl\\u00e4nder/in\",\"WBev nach Stadtkreis, Quartier, Alter und Herkunft/Kreis 4/Hard/Ausl\\u00e4nder/in\",\"WBev nach Stadtkreis, Quartier, Alter und Herkunft/Kreis 7/Hirslanden/Ausl\\u00e4nder/in\",\"WBev nach Stadtkreis, Quartier, Alter und Herkunft/Kreis 12/Hirzenbach/Ausl\\u00e4nder/in\",\"WBev nach Stadtkreis, Quartier, Alter und Herkunft/Kreis 10/H\\u00f6ngg/Ausl\\u00e4nder/in\",\"WBev nach Stadtkreis, Quartier, Alter und Herkunft/Kreis 4/Langstrasse/Ausl\\u00e4nder/in\",\"WBev nach Stadtkreis, Quartier, Alter und Herkunft/Kreis 8/M\\u00fchlebach/Ausl\\u00e4nder/in\",\"WBev nach Stadtkreis, Quartier, Alter und Herkunft/Kreis 11/Oerlikon/Ausl\\u00e4nder/in\",\"WBev nach Stadtkreis, Quartier, Alter und Herkunft/Kreis 1/Rathaus/Ausl\\u00e4nder/in\",\"WBev nach Stadtkreis, Quartier, Alter und Herkunft/Kreis 12/Schwamendingen-Mitte/Ausl\\u00e4nder/in\",\"WBev nach Stadtkreis, Quartier, Alter und Herkunft/Kreis 11/Seebach/Ausl\\u00e4nder/in\",\"WBev nach Stadtkreis, Quartier, Alter und Herkunft/Kreis 8/Seefeld/Ausl\\u00e4nder/in\",\"WBev nach Stadtkreis, Quartier, Alter und Herkunft/Kreis 3/Sihlfeld/Ausl\\u00e4nder/in\",\"WBev nach Stadtkreis, Quartier, Alter und Herkunft/Kreis 6/Unterstrass/Ausl\\u00e4nder/in\",\"WBev nach Stadtkreis, Quartier, Alter und Herkunft/Kreis 10/Wipkingen/Ausl\\u00e4nder/in\",\"WBev nach Stadtkreis, Quartier, Alter und Herkunft/Kreis 7/Witikon/Ausl\\u00e4nder/in\",\"WBev nach Stadtkreis, Quartier, Alter und Herkunft/Kreis 2/Wollishofen/Ausl\\u00e4nder/in\",\"WBev nach Stadtkreis, Quartier, Alter und Herkunft/Kreis 11/Affoltern/Schweizer/in\",\"WBev nach Stadtkreis, Quartier, Alter und Herkunft/Kreis 9/Albisrieden/Schweizer/in\",\"WBev nach Stadtkreis, Quartier, Alter und Herkunft/Kreis 3/Alt-Wiedikon/Schweizer/in\",\"WBev nach Stadtkreis, Quartier, Alter und Herkunft/Kreis 9/Altstetten/Schweizer/in\",\"WBev nach Stadtkreis, Quartier, Alter und Herkunft/Kreis 2/Enge/Schweizer/in\",\"WBev nach Stadtkreis, Quartier, Alter und Herkunft/Kreis 5/Escher Wyss/Schweizer/in\",\"WBev nach Stadtkreis, Quartier, Alter und Herkunft/Kreis 3/Friesenberg/Schweizer/in\",\"WBev nach Stadtkreis, Quartier, Alter und Herkunft/Kreis 5/Gewerbeschule/Schweizer/in\",\"WBev nach Stadtkreis, Quartier, Alter und Herkunft/Kreis 4/Hard/Schweizer/in\",\"WBev nach Stadtkreis, Quartier, Alter und Herkunft/Kreis 7/Hirslanden/Schweizer/in\",\"WBev nach Stadtkreis, Quartier, Alter und Herkunft/Kreis 12/Hirzenbach/Schweizer/in\",\"WBev nach Stadtkreis, Quartier, Alter und Herkunft/Kreis 7/Hottingen/Schweizer/in\",\"WBev nach Stadtkreis, Quartier, Alter und Herkunft/Kreis 10/H\\u00f6ngg/Schweizer/in\",\"WBev nach Stadtkreis, Quartier, Alter und Herkunft/Kreis 4/Langstrasse/Schweizer/in\",\"WBev nach Stadtkreis, Quartier, Alter und Herkunft/Kreis 2/Leimbach/Schweizer/in\",\"WBev nach Stadtkreis, Quartier, Alter und Herkunft/Kreis 8/M\\u00fchlebach/Schweizer/in\",\"WBev nach Stadtkreis, Quartier, Alter und Herkunft/Kreis 6/Oberstrass/Schweizer/in\",\"WBev nach Stadtkreis, Quartier, Alter und Herkunft/Kreis 11/Oerlikon/Schweizer/in\",\"WBev nach Stadtkreis, Quartier, Alter und Herkunft/Kreis 1/Rathaus/Schweizer/in\",\"WBev nach Stadtkreis, Quartier, Alter und Herkunft/Kreis 12/Saatlen/Schweizer/in\",\"WBev nach Stadtkreis, Quartier, Alter und Herkunft/Kreis 12/Schwamendingen-Mitte/Schweizer/in\",\"WBev nach Stadtkreis, Quartier, Alter und Herkunft/Kreis 11/Seebach/Schweizer/in\",\"WBev nach Stadtkreis, Quartier, Alter und Herkunft/Kreis 8/Seefeld/Schweizer/in\",\"WBev nach Stadtkreis, Quartier, Alter und Herkunft/Kreis 3/Sihlfeld/Schweizer/in\",\"WBev nach Stadtkreis, Quartier, Alter und Herkunft/Kreis 6/Unterstrass/Schweizer/in\",\"WBev nach Stadtkreis, Quartier, Alter und Herkunft/Kreis 8/Weinegg/Schweizer/in\",\"WBev nach Stadtkreis, Quartier, Alter und Herkunft/Kreis 4/Werd/Schweizer/in\",\"WBev nach Stadtkreis, Quartier, Alter und Herkunft/Kreis 10/Wipkingen/Schweizer/in\",\"WBev nach Stadtkreis, Quartier, Alter und Herkunft/Kreis 7/Witikon/Schweizer/in\",\"WBev nach Stadtkreis, Quartier, Alter und Herkunft/Kreis 2/Wollishofen/Schweizer/in\",\"WBev nach Stadtkreis, Quartier, Alter und Herkunft/Kreis 11/Affoltern/Ausl\\u00e4nder/in\",\"WBev nach Stadtkreis, Quartier, Alter und Herkunft/Kreis 9/Albisrieden/Ausl\\u00e4nder/in\",\"WBev nach Stadtkreis, Quartier, Alter und Herkunft/Kreis 3/Alt-Wiedikon/Ausl\\u00e4nder/in\",\"WBev nach Stadtkreis, Quartier, Alter und Herkunft/Kreis 9/Altstetten/Ausl\\u00e4nder/in\",\"WBev nach Stadtkreis, Quartier, Alter und Herkunft/Kreis 2/Enge/Ausl\\u00e4nder/in\",\"WBev nach Stadtkreis, Quartier, Alter und Herkunft/Kreis 5/Escher Wyss/Ausl\\u00e4nder/in\",\"WBev nach Stadtkreis, Quartier, Alter und Herkunft/Kreis 3/Friesenberg/Ausl\\u00e4nder/in\",\"WBev nach Stadtkreis, Quartier, Alter und Herkunft/Kreis 4/Hard/Ausl\\u00e4nder/in\",\"WBev nach Stadtkreis, Quartier, Alter und Herkunft/Kreis 7/Hirslanden/Ausl\\u00e4nder/in\",\"WBev nach Stadtkreis, Quartier, Alter und Herkunft/Kreis 12/Hirzenbach/Ausl\\u00e4nder/in\",\"WBev nach Stadtkreis, Quartier, Alter und Herkunft/Kreis 10/H\\u00f6ngg/Ausl\\u00e4nder/in\",\"WBev nach Stadtkreis, Quartier, Alter und Herkunft/Kreis 4/Langstrasse/Ausl\\u00e4nder/in\",\"WBev nach Stadtkreis, Quartier, Alter und Herkunft/Kreis 2/Leimbach/Ausl\\u00e4nder/in\",\"WBev nach Stadtkreis, Quartier, Alter und Herkunft/Kreis 8/M\\u00fchlebach/Ausl\\u00e4nder/in\",\"WBev nach Stadtkreis, Quartier, Alter und Herkunft/Kreis 6/Oberstrass/Ausl\\u00e4nder/in\",\"WBev nach Stadtkreis, Quartier, Alter und Herkunft/Kreis 11/Oerlikon/Ausl\\u00e4nder/in\",\"WBev nach Stadtkreis, Quartier, Alter und Herkunft/Kreis 12/Schwamendingen-Mitte/Ausl\\u00e4nder/in\",\"WBev nach Stadtkreis, Quartier, Alter und Herkunft/Kreis 11/Seebach/Ausl\\u00e4nder/in\",\"WBev nach Stadtkreis, Quartier, Alter und Herkunft/Kreis 8/Seefeld/Ausl\\u00e4nder/in\",\"WBev nach Stadtkreis, Quartier, Alter und Herkunft/Kreis 3/Sihlfeld/Ausl\\u00e4nder/in\",\"WBev nach Stadtkreis, Quartier, Alter und Herkunft/Kreis 6/Unterstrass/Ausl\\u00e4nder/in\",\"WBev nach Stadtkreis, Quartier, Alter und Herkunft/Kreis 7/Witikon/Ausl\\u00e4nder/in\",\"WBev nach Stadtkreis, Quartier, Alter und Herkunft/Kreis 2/Wollishofen/Ausl\\u00e4nder/in\",\"WBev nach Stadtkreis, Quartier, Alter und Herkunft/Kreis 11/Affoltern/Schweizer/in\",\"WBev nach Stadtkreis, Quartier, Alter und Herkunft/Kreis 9/Albisrieden/Schweizer/in\",\"WBev nach Stadtkreis, Quartier, Alter und Herkunft/Kreis 3/Alt-Wiedikon/Schweizer/in\",\"WBev nach Stadtkreis, Quartier, Alter und Herkunft/Kreis 9/Altstetten/Schweizer/in\",\"WBev nach Stadtkreis, Quartier, Alter und Herkunft/Kreis 2/Enge/Schweizer/in\",\"WBev nach Stadtkreis, Quartier, Alter und Herkunft/Kreis 5/Escher Wyss/Schweizer/in\",\"WBev nach Stadtkreis, Quartier, Alter und Herkunft/Kreis 7/Fluntern/Schweizer/in\",\"WBev nach Stadtkreis, Quartier, Alter und Herkunft/Kreis 3/Friesenberg/Schweizer/in\",\"WBev nach Stadtkreis, Quartier, Alter und Herkunft/Kreis 5/Gewerbeschule/Schweizer/in\",\"WBev nach Stadtkreis, Quartier, Alter und Herkunft/Kreis 4/Hard/Schweizer/in\",\"WBev nach Stadtkreis, Quartier, Alter und Herkunft/Kreis 7/Hirslanden/Schweizer/in\",\"WBev nach Stadtkreis, Quartier, Alter und Herkunft/Kreis 12/Hirzenbach/Schweizer/in\",\"WBev nach Stadtkreis, Quartier, Alter und Herkunft/Kreis 7/Hottingen/Schweizer/in\",\"WBev nach Stadtkreis, Quartier, Alter und Herkunft/Kreis 10/H\\u00f6ngg/Schweizer/in\",\"WBev nach Stadtkreis, Quartier, Alter und Herkunft/Kreis 4/Langstrasse/Schweizer/in\",\"WBev nach Stadtkreis, Quartier, Alter und Herkunft/Kreis 2/Leimbach/Schweizer/in\",\"WBev nach Stadtkreis, Quartier, Alter und Herkunft/Kreis 11/Oerlikon/Schweizer/in\",\"WBev nach Stadtkreis, Quartier, Alter und Herkunft/Kreis 1/Rathaus/Schweizer/in\",\"WBev nach Stadtkreis, Quartier, Alter und Herkunft/Kreis 12/Saatlen/Schweizer/in\",\"WBev nach Stadtkreis, Quartier, Alter und Herkunft/Kreis 11/Seebach/Schweizer/in\",\"WBev nach Stadtkreis, Quartier, Alter und Herkunft/Kreis 8/Seefeld/Schweizer/in\",\"WBev nach Stadtkreis, Quartier, Alter und Herkunft/Kreis 3/Sihlfeld/Schweizer/in\",\"WBev nach Stadtkreis, Quartier, Alter und Herkunft/Kreis 6/Unterstrass/Schweizer/in\",\"WBev nach Stadtkreis, Quartier, Alter und Herkunft/Kreis 8/Weinegg/Schweizer/in\",\"WBev nach Stadtkreis, Quartier, Alter und Herkunft/Kreis 10/Wipkingen/Schweizer/in\",\"WBev nach Stadtkreis, Quartier, Alter und Herkunft/Kreis 7/Witikon/Schweizer/in\",\"WBev nach Stadtkreis, Quartier, Alter und Herkunft/Kreis 2/Wollishofen/Schweizer/in\",\"WBev nach Stadtkreis, Quartier, Alter und Herkunft/Kreis 11/Affoltern\",\"WBev nach Stadtkreis, Quartier, Alter und Herkunft/Kreis 9/Albisrieden\",\"WBev nach Stadtkreis, Quartier, Alter und Herkunft/Kreis 3/Alt-Wiedikon\",\"WBev nach Stadtkreis, Quartier, Alter und Herkunft/Kreis 9/Altstetten\",\"WBev nach Stadtkreis, Quartier, Alter und Herkunft/Kreis 2/Enge\",\"WBev nach Stadtkreis, Quartier, Alter und Herkunft/Kreis 5/Escher Wyss\",\"WBev nach Stadtkreis, Quartier, Alter und Herkunft/Kreis 3/Friesenberg\",\"WBev nach Stadtkreis, Quartier, Alter und Herkunft/Kreis 4/Hard\",\"WBev nach Stadtkreis, Quartier, Alter und Herkunft/Kreis 7/Hirslanden\",\"WBev nach Stadtkreis, Quartier, Alter und Herkunft/Kreis 12/Hirzenbach\",\"WBev nach Stadtkreis, Quartier, Alter und Herkunft/Kreis 10/H\\u00f6ngg\",\"WBev nach Stadtkreis, Quartier, Alter und Herkunft/Kreis 4/Langstrasse\",\"WBev nach Stadtkreis, Quartier, Alter und Herkunft/Kreis 2/Leimbach\",\"WBev nach Stadtkreis, Quartier, Alter und Herkunft/Kreis 8/M\\u00fchlebach\",\"WBev nach Stadtkreis, Quartier, Alter und Herkunft/Kreis 6/Oberstrass\",\"WBev nach Stadtkreis, Quartier, Alter und Herkunft/Kreis 11/Oerlikon\",\"WBev nach Stadtkreis, Quartier, Alter und Herkunft/Kreis 1/Rathaus\",\"WBev nach Stadtkreis, Quartier, Alter und Herkunft/Kreis 12/Schwamendingen-Mitte\",\"WBev nach Stadtkreis, Quartier, Alter und Herkunft/Kreis 11/Seebach\",\"WBev nach Stadtkreis, Quartier, Alter und Herkunft/Kreis 8/Seefeld\",\"WBev nach Stadtkreis, Quartier, Alter und Herkunft/Kreis 3/Sihlfeld\",\"WBev nach Stadtkreis, Quartier, Alter und Herkunft/Kreis 6/Unterstrass\",\"WBev nach Stadtkreis, Quartier, Alter und Herkunft/Kreis 10/Wipkingen\",\"WBev nach Stadtkreis, Quartier, Alter und Herkunft/Kreis 7/Witikon\",\"WBev nach Stadtkreis, Quartier, Alter und Herkunft/Kreis 2/Wollishofen\",\"WBev nach Stadtkreis, Quartier, Alter und Herkunft/Kreis 11/Affoltern\",\"WBev nach Stadtkreis, Quartier, Alter und Herkunft/Kreis 9/Albisrieden\",\"WBev nach Stadtkreis, Quartier, Alter und Herkunft/Kreis 3/Alt-Wiedikon\",\"WBev nach Stadtkreis, Quartier, Alter und Herkunft/Kreis 9/Altstetten\",\"WBev nach Stadtkreis, Quartier, Alter und Herkunft/Kreis 2/Enge\",\"WBev nach Stadtkreis, Quartier, Alter und Herkunft/Kreis 5/Escher Wyss\",\"WBev nach Stadtkreis, Quartier, Alter und Herkunft/Kreis 7/Fluntern\",\"WBev nach Stadtkreis, Quartier, Alter und Herkunft/Kreis 3/Friesenberg\",\"WBev nach Stadtkreis, Quartier, Alter und Herkunft/Kreis 5/Gewerbeschule\",\"WBev nach Stadtkreis, Quartier, Alter und Herkunft/Kreis 4/Hard\",\"WBev nach Stadtkreis, Quartier, Alter und Herkunft/Kreis 7/Hirslanden\",\"WBev nach Stadtkreis, Quartier, Alter und Herkunft/Kreis 12/Hirzenbach\",\"WBev nach Stadtkreis, Quartier, Alter und Herkunft/Kreis 7/Hottingen\",\"WBev nach Stadtkreis, Quartier, Alter und Herkunft/Kreis 10/H\\u00f6ngg\",\"WBev nach Stadtkreis, Quartier, Alter und Herkunft/Kreis 4/Langstrasse\",\"WBev nach Stadtkreis, Quartier, Alter und Herkunft/Kreis 2/Leimbach\",\"WBev nach Stadtkreis, Quartier, Alter und Herkunft/Kreis 8/M\\u00fchlebach\",\"WBev nach Stadtkreis, Quartier, Alter und Herkunft/Kreis 6/Oberstrass\",\"WBev nach Stadtkreis, Quartier, Alter und Herkunft/Kreis 11/Oerlikon\",\"WBev nach Stadtkreis, Quartier, Alter und Herkunft/Kreis 1/Rathaus\",\"WBev nach Stadtkreis, Quartier, Alter und Herkunft/Kreis 12/Saatlen\",\"WBev nach Stadtkreis, Quartier, Alter und Herkunft/Kreis 12/Schwamendingen-Mitte\",\"WBev nach Stadtkreis, Quartier, Alter und Herkunft/Kreis 11/Seebach\",\"WBev nach Stadtkreis, Quartier, Alter und Herkunft/Kreis 8/Seefeld\",\"WBev nach Stadtkreis, Quartier, Alter und Herkunft/Kreis 3/Sihlfeld\",\"WBev nach Stadtkreis, Quartier, Alter und Herkunft/Kreis 6/Unterstrass\",\"WBev nach Stadtkreis, Quartier, Alter und Herkunft/Kreis 8/Weinegg\",\"WBev nach Stadtkreis, Quartier, Alter und Herkunft/Kreis 4/Werd\",\"WBev nach Stadtkreis, Quartier, Alter und Herkunft/Kreis 10/Wipkingen\",\"WBev nach Stadtkreis, Quartier, Alter und Herkunft/Kreis 7/Witikon\",\"WBev nach Stadtkreis, Quartier, Alter und Herkunft/Kreis 2/Wollishofen\",\"WBev nach Stadtkreis, Quartier, Alter und Herkunft/Kreis 11\",\"WBev nach Stadtkreis, Quartier, Alter und Herkunft/Kreis 9\",\"WBev nach Stadtkreis, Quartier, Alter und Herkunft/Kreis 3\",\"WBev nach Stadtkreis, Quartier, Alter und Herkunft/Kreis 9\",\"WBev nach Stadtkreis, Quartier, Alter und Herkunft/Kreis 2\",\"WBev nach Stadtkreis, Quartier, Alter und Herkunft/Kreis 5\",\"WBev nach Stadtkreis, Quartier, Alter und Herkunft/Kreis 7\",\"WBev nach Stadtkreis, Quartier, Alter und Herkunft/Kreis 3\",\"WBev nach Stadtkreis, Quartier, Alter und Herkunft/Kreis 5\",\"WBev nach Stadtkreis, Quartier, Alter und Herkunft/Kreis 4\",\"WBev nach Stadtkreis, Quartier, Alter und Herkunft/Kreis 7\",\"WBev nach Stadtkreis, Quartier, Alter und Herkunft/Kreis 12\",\"WBev nach Stadtkreis, Quartier, Alter und Herkunft/Kreis 7\",\"WBev nach Stadtkreis, Quartier, Alter und Herkunft/Kreis 10\",\"WBev nach Stadtkreis, Quartier, Alter und Herkunft/Kreis 4\",\"WBev nach Stadtkreis, Quartier, Alter und Herkunft/Kreis 2\",\"WBev nach Stadtkreis, Quartier, Alter und Herkunft/Kreis 8\",\"WBev nach Stadtkreis, Quartier, Alter und Herkunft/Kreis 6\",\"WBev nach Stadtkreis, Quartier, Alter und Herkunft/Kreis 11\",\"WBev nach Stadtkreis, Quartier, Alter und Herkunft/Kreis 1\",\"WBev nach Stadtkreis, Quartier, Alter und Herkunft/Kreis 12\",\"WBev nach Stadtkreis, Quartier, Alter und Herkunft/Kreis 12\",\"WBev nach Stadtkreis, Quartier, Alter und Herkunft/Kreis 11\",\"WBev nach Stadtkreis, Quartier, Alter und Herkunft/Kreis 8\",\"WBev nach Stadtkreis, Quartier, Alter und Herkunft/Kreis 3\",\"WBev nach Stadtkreis, Quartier, Alter und Herkunft/Kreis 6\",\"WBev nach Stadtkreis, Quartier, Alter und Herkunft/Kreis 8\",\"WBev nach Stadtkreis, Quartier, Alter und Herkunft/Kreis 4\",\"WBev nach Stadtkreis, Quartier, Alter und Herkunft/Kreis 10\",\"WBev nach Stadtkreis, Quartier, Alter und Herkunft/Kreis 7\",\"WBev nach Stadtkreis, Quartier, Alter und Herkunft/Kreis 2\",\"WBev nach Stadtkreis, Quartier, Alter und Herkunft\",\"WBev nach Stadtkreis, Quartier, Alter und Herkunft\",\"WBev nach Stadtkreis, Quartier, Alter und Herkunft\",\"WBev nach Stadtkreis, Quartier, Alter und Herkunft\",\"WBev nach Stadtkreis, Quartier, Alter und Herkunft\",\"WBev nach Stadtkreis, Quartier, Alter und Herkunft\",\"WBev nach Stadtkreis, Quartier, Alter und Herkunft\",\"WBev nach Stadtkreis, Quartier, Alter und Herkunft\",\"WBev nach Stadtkreis, Quartier, Alter und Herkunft\",\"WBev nach Stadtkreis, Quartier, Alter und Herkunft\",\"WBev nach Stadtkreis, Quartier, Alter und Herkunft\",\"WBev nach Stadtkreis, Quartier, Alter und Herkunft\",\"\"],\"root\":{\"color\":\"grey\"},\"type\":\"treemap\",\"values\":[6,2,1,3,4,3,1,1,3,1,3,1,1,1,1,3,2,1,3,6,1,2,7,9,8,5,11,4,5,1,3,3,2,4,1,10,1,4,2,4,5,1,1,6,7,3,6,11,2,3,5,5,5,4,2,6,1,3,3,1,2,2,3,3,1,2,1,2,1,2,7,1,1,2,1,3,7,9,5,12,5,3,1,2,4,6,1,11,2,7,5,3,4,1,2,7,3,9,7,1,6,2,8,10,4,7,4,7,6,2,3,5,4,6,2,2,2,2,2,1,5,9,2,4,8,1,3,10,16,17,10,23,9,8,1,3,7,9,3,15,3,17,6,7,2,4,9,2,3,6,14,6,15,18,3,3,11,7,13,26,21,17,27,16,14,1,5,7,12,8,19,3,23,8,9,4,6,11,3,3,11,23,8,19,26,3,3,12,10,23,3,35,60,33,48,41,23,21,32,22,15,48,381]}],                        {\"coloraxis\":{\"colorbar\":{\"title\":{\"text\":\"sum_WBev\"}},\"colorscale\":[[0.0,\"rgb(247,251,255)\"],[0.125,\"rgb(222,235,247)\"],[0.25,\"rgb(198,219,239)\"],[0.375,\"rgb(158,202,225)\"],[0.5,\"rgb(107,174,214)\"],[0.625,\"rgb(66,146,198)\"],[0.75,\"rgb(33,113,181)\"],[0.875,\"rgb(8,81,156)\"],[1.0,\"rgb(8,48,107)\"]]},\"legend\":{\"tracegroupgap\":0},\"margin\":{\"b\":25,\"l\":25,\"r\":250,\"t\":50},\"template\":{\"data\":{\"bar\":[{\"error_x\":{\"color\":\"#2a3f5f\"},\"error_y\":{\"color\":\"#2a3f5f\"},\"marker\":{\"line\":{\"color\":\"#E5ECF6\",\"width\":0.5},\"pattern\":{\"fillmode\":\"overlay\",\"size\":10,\"solidity\":0.2}},\"type\":\"bar\"}],\"barpolar\":[{\"marker\":{\"line\":{\"color\":\"#E5ECF6\",\"width\":0.5},\"pattern\":{\"fillmode\":\"overlay\",\"size\":10,\"solidity\":0.2}},\"type\":\"barpolar\"}],\"carpet\":[{\"aaxis\":{\"endlinecolor\":\"#2a3f5f\",\"gridcolor\":\"white\",\"linecolor\":\"white\",\"minorgridcolor\":\"white\",\"startlinecolor\":\"#2a3f5f\"},\"baxis\":{\"endlinecolor\":\"#2a3f5f\",\"gridcolor\":\"white\",\"linecolor\":\"white\",\"minorgridcolor\":\"white\",\"startlinecolor\":\"#2a3f5f\"},\"type\":\"carpet\"}],\"choropleth\":[{\"colorbar\":{\"outlinewidth\":0,\"ticks\":\"\"},\"type\":\"choropleth\"}],\"contour\":[{\"colorbar\":{\"outlinewidth\":0,\"ticks\":\"\"},\"colorscale\":[[0.0,\"#0d0887\"],[0.1111111111111111,\"#46039f\"],[0.2222222222222222,\"#7201a8\"],[0.3333333333333333,\"#9c179e\"],[0.4444444444444444,\"#bd3786\"],[0.5555555555555556,\"#d8576b\"],[0.6666666666666666,\"#ed7953\"],[0.7777777777777778,\"#fb9f3a\"],[0.8888888888888888,\"#fdca26\"],[1.0,\"#f0f921\"]],\"type\":\"contour\"}],\"contourcarpet\":[{\"colorbar\":{\"outlinewidth\":0,\"ticks\":\"\"},\"type\":\"contourcarpet\"}],\"heatmap\":[{\"colorbar\":{\"outlinewidth\":0,\"ticks\":\"\"},\"colorscale\":[[0.0,\"#0d0887\"],[0.1111111111111111,\"#46039f\"],[0.2222222222222222,\"#7201a8\"],[0.3333333333333333,\"#9c179e\"],[0.4444444444444444,\"#bd3786\"],[0.5555555555555556,\"#d8576b\"],[0.6666666666666666,\"#ed7953\"],[0.7777777777777778,\"#fb9f3a\"],[0.8888888888888888,\"#fdca26\"],[1.0,\"#f0f921\"]],\"type\":\"heatmap\"}],\"heatmapgl\":[{\"colorbar\":{\"outlinewidth\":0,\"ticks\":\"\"},\"colorscale\":[[0.0,\"#0d0887\"],[0.1111111111111111,\"#46039f\"],[0.2222222222222222,\"#7201a8\"],[0.3333333333333333,\"#9c179e\"],[0.4444444444444444,\"#bd3786\"],[0.5555555555555556,\"#d8576b\"],[0.6666666666666666,\"#ed7953\"],[0.7777777777777778,\"#fb9f3a\"],[0.8888888888888888,\"#fdca26\"],[1.0,\"#f0f921\"]],\"type\":\"heatmapgl\"}],\"histogram\":[{\"marker\":{\"pattern\":{\"fillmode\":\"overlay\",\"size\":10,\"solidity\":0.2}},\"type\":\"histogram\"}],\"histogram2d\":[{\"colorbar\":{\"outlinewidth\":0,\"ticks\":\"\"},\"colorscale\":[[0.0,\"#0d0887\"],[0.1111111111111111,\"#46039f\"],[0.2222222222222222,\"#7201a8\"],[0.3333333333333333,\"#9c179e\"],[0.4444444444444444,\"#bd3786\"],[0.5555555555555556,\"#d8576b\"],[0.6666666666666666,\"#ed7953\"],[0.7777777777777778,\"#fb9f3a\"],[0.8888888888888888,\"#fdca26\"],[1.0,\"#f0f921\"]],\"type\":\"histogram2d\"}],\"histogram2dcontour\":[{\"colorbar\":{\"outlinewidth\":0,\"ticks\":\"\"},\"colorscale\":[[0.0,\"#0d0887\"],[0.1111111111111111,\"#46039f\"],[0.2222222222222222,\"#7201a8\"],[0.3333333333333333,\"#9c179e\"],[0.4444444444444444,\"#bd3786\"],[0.5555555555555556,\"#d8576b\"],[0.6666666666666666,\"#ed7953\"],[0.7777777777777778,\"#fb9f3a\"],[0.8888888888888888,\"#fdca26\"],[1.0,\"#f0f921\"]],\"type\":\"histogram2dcontour\"}],\"mesh3d\":[{\"colorbar\":{\"outlinewidth\":0,\"ticks\":\"\"},\"type\":\"mesh3d\"}],\"parcoords\":[{\"line\":{\"colorbar\":{\"outlinewidth\":0,\"ticks\":\"\"}},\"type\":\"parcoords\"}],\"pie\":[{\"automargin\":true,\"type\":\"pie\"}],\"scatter\":[{\"marker\":{\"colorbar\":{\"outlinewidth\":0,\"ticks\":\"\"}},\"type\":\"scatter\"}],\"scatter3d\":[{\"line\":{\"colorbar\":{\"outlinewidth\":0,\"ticks\":\"\"}},\"marker\":{\"colorbar\":{\"outlinewidth\":0,\"ticks\":\"\"}},\"type\":\"scatter3d\"}],\"scattercarpet\":[{\"marker\":{\"colorbar\":{\"outlinewidth\":0,\"ticks\":\"\"}},\"type\":\"scattercarpet\"}],\"scattergeo\":[{\"marker\":{\"colorbar\":{\"outlinewidth\":0,\"ticks\":\"\"}},\"type\":\"scattergeo\"}],\"scattergl\":[{\"marker\":{\"colorbar\":{\"outlinewidth\":0,\"ticks\":\"\"}},\"type\":\"scattergl\"}],\"scattermapbox\":[{\"marker\":{\"colorbar\":{\"outlinewidth\":0,\"ticks\":\"\"}},\"type\":\"scattermapbox\"}],\"scatterpolar\":[{\"marker\":{\"colorbar\":{\"outlinewidth\":0,\"ticks\":\"\"}},\"type\":\"scatterpolar\"}],\"scatterpolargl\":[{\"marker\":{\"colorbar\":{\"outlinewidth\":0,\"ticks\":\"\"}},\"type\":\"scatterpolargl\"}],\"scatterternary\":[{\"marker\":{\"colorbar\":{\"outlinewidth\":0,\"ticks\":\"\"}},\"type\":\"scatterternary\"}],\"surface\":[{\"colorbar\":{\"outlinewidth\":0,\"ticks\":\"\"},\"colorscale\":[[0.0,\"#0d0887\"],[0.1111111111111111,\"#46039f\"],[0.2222222222222222,\"#7201a8\"],[0.3333333333333333,\"#9c179e\"],[0.4444444444444444,\"#bd3786\"],[0.5555555555555556,\"#d8576b\"],[0.6666666666666666,\"#ed7953\"],[0.7777777777777778,\"#fb9f3a\"],[0.8888888888888888,\"#fdca26\"],[1.0,\"#f0f921\"]],\"type\":\"surface\"}],\"table\":[{\"cells\":{\"fill\":{\"color\":\"#EBF0F8\"},\"line\":{\"color\":\"white\"}},\"header\":{\"fill\":{\"color\":\"#C8D4E3\"},\"line\":{\"color\":\"white\"}},\"type\":\"table\"}]},\"layout\":{\"annotationdefaults\":{\"arrowcolor\":\"#2a3f5f\",\"arrowhead\":0,\"arrowwidth\":1},\"autotypenumbers\":\"strict\",\"coloraxis\":{\"colorbar\":{\"outlinewidth\":0,\"ticks\":\"\"}},\"colorscale\":{\"diverging\":[[0,\"#8e0152\"],[0.1,\"#c51b7d\"],[0.2,\"#de77ae\"],[0.3,\"#f1b6da\"],[0.4,\"#fde0ef\"],[0.5,\"#f7f7f7\"],[0.6,\"#e6f5d0\"],[0.7,\"#b8e186\"],[0.8,\"#7fbc41\"],[0.9,\"#4d9221\"],[1,\"#276419\"]],\"sequential\":[[0.0,\"#0d0887\"],[0.1111111111111111,\"#46039f\"],[0.2222222222222222,\"#7201a8\"],[0.3333333333333333,\"#9c179e\"],[0.4444444444444444,\"#bd3786\"],[0.5555555555555556,\"#d8576b\"],[0.6666666666666666,\"#ed7953\"],[0.7777777777777778,\"#fb9f3a\"],[0.8888888888888888,\"#fdca26\"],[1.0,\"#f0f921\"]],\"sequentialminus\":[[0.0,\"#0d0887\"],[0.1111111111111111,\"#46039f\"],[0.2222222222222222,\"#7201a8\"],[0.3333333333333333,\"#9c179e\"],[0.4444444444444444,\"#bd3786\"],[0.5555555555555556,\"#d8576b\"],[0.6666666666666666,\"#ed7953\"],[0.7777777777777778,\"#fb9f3a\"],[0.8888888888888888,\"#fdca26\"],[1.0,\"#f0f921\"]]},\"colorway\":[\"#636efa\",\"#EF553B\",\"#00cc96\",\"#ab63fa\",\"#FFA15A\",\"#19d3f3\",\"#FF6692\",\"#B6E880\",\"#FF97FF\",\"#FECB52\"],\"font\":{\"color\":\"#2a3f5f\"},\"geo\":{\"bgcolor\":\"white\",\"lakecolor\":\"white\",\"landcolor\":\"#E5ECF6\",\"showlakes\":true,\"showland\":true,\"subunitcolor\":\"white\"},\"hoverlabel\":{\"align\":\"left\"},\"hovermode\":\"closest\",\"mapbox\":{\"style\":\"light\"},\"paper_bgcolor\":\"white\",\"plot_bgcolor\":\"#E5ECF6\",\"polar\":{\"angularaxis\":{\"gridcolor\":\"white\",\"linecolor\":\"white\",\"ticks\":\"\"},\"bgcolor\":\"#E5ECF6\",\"radialaxis\":{\"gridcolor\":\"white\",\"linecolor\":\"white\",\"ticks\":\"\"}},\"scene\":{\"xaxis\":{\"backgroundcolor\":\"#E5ECF6\",\"gridcolor\":\"white\",\"gridwidth\":2,\"linecolor\":\"white\",\"showbackground\":true,\"ticks\":\"\",\"zerolinecolor\":\"white\"},\"yaxis\":{\"backgroundcolor\":\"#E5ECF6\",\"gridcolor\":\"white\",\"gridwidth\":2,\"linecolor\":\"white\",\"showbackground\":true,\"ticks\":\"\",\"zerolinecolor\":\"white\"},\"zaxis\":{\"backgroundcolor\":\"#E5ECF6\",\"gridcolor\":\"white\",\"gridwidth\":2,\"linecolor\":\"white\",\"showbackground\":true,\"ticks\":\"\",\"zerolinecolor\":\"white\"}},\"shapedefaults\":{\"line\":{\"color\":\"#2a3f5f\"}},\"ternary\":{\"aaxis\":{\"gridcolor\":\"white\",\"linecolor\":\"white\",\"ticks\":\"\"},\"baxis\":{\"gridcolor\":\"white\",\"linecolor\":\"white\",\"ticks\":\"\"},\"bgcolor\":\"#E5ECF6\",\"caxis\":{\"gridcolor\":\"white\",\"linecolor\":\"white\",\"ticks\":\"\"}},\"title\":{\"x\":0.05},\"xaxis\":{\"automargin\":true,\"gridcolor\":\"white\",\"linecolor\":\"white\",\"ticks\":\"\",\"title\":{\"standoff\":15},\"zerolinecolor\":\"white\",\"zerolinewidth\":2},\"yaxis\":{\"automargin\":true,\"gridcolor\":\"white\",\"linecolor\":\"white\",\"ticks\":\"\",\"title\":{\"standoff\":15},\"zerolinecolor\":\"white\",\"zerolinewidth\":2}}}},                        {\"responsive\": true}                    ).then(function(){\n",
       "                            \n",
       "var gd = document.getElementById('78de36c0-9bda-4e1e-a2eb-0798527f83eb');\n",
       "var x = new MutationObserver(function (mutations, observer) {{\n",
       "        var display = window.getComputedStyle(gd).display;\n",
       "        if (!display || display === 'none') {{\n",
       "            console.log([gd, 'removed!']);\n",
       "            Plotly.purge(gd);\n",
       "            observer.disconnect();\n",
       "        }}\n",
       "}});\n",
       "\n",
       "// Listen for the removal of the full notebook cells\n",
       "var notebookContainer = gd.closest('#notebook-container');\n",
       "if (notebookContainer) {{\n",
       "    x.observe(notebookContainer, {childList: true});\n",
       "}}\n",
       "\n",
       "// Listen for the clearing of the current output cell\n",
       "var outputEl = gd.closest('.output');\n",
       "if (outputEl) {{\n",
       "    x.observe(outputEl, {childList: true});\n",
       "}}\n",
       "\n",
       "                        })                };                });            </script>        </div>"
      ]
     },
     "metadata": {},
     "output_type": "display_data"
    }
   ],
   "source": [
    "fig = px.treemap(myTreemapAgg.reset_index(), path=[px.Constant(\"WBev nach Stadtkreis, Quartier, Alter und Herkunft\"), 'KreisLang','QuarLang','HerkunftLang', 'SexLang']\n",
    "                 , values='sum_WBev'\n",
    "                 , color='sum_WBev'\n",
    "                 ## bei discrete scales (bei Klassen und Strings):                 \n",
    "                 #, color_discrete_map={'(?)':'lightgrey','EVP':'gold', 'SP':'#FF3030', 'PdA':'#EE3B3B', 'Grüne':'#A2CD5A','GLP':'#CAFF70','Die Mitte':'orange','FDP':'#104E8B','AL':'deeppink','SVP':'forestgreen', 'FL ZÜRI':'#8B864E','Volt':'#lightblue' }                \n",
    "                 ## bei continuous scales (bei Zahlenwerten):\n",
    "                , color_continuous_scale='Blues'\n",
    "                #, color_continuous_midpoint=np.average(df['AnzBestWir'], weights=df['AnzBestWir'])  \n",
    "                 #,height=400\n",
    "                 #,width=1500                 \n",
    "                )\n",
    "fig.update_traces(root_color=\"grey\")\n",
    "fig.update_layout(margin = dict(t=50, l=25, r=250, b=25))\n",
    "fig.show()"
   ]
  },
  {
   "cell_type": "markdown",
   "metadata": {},
   "source": [
    "#### Aktueller Bestand der WBev nach Stadtkreis, Alter und Herkunft"
   ]
  },
  {
   "cell_type": "code",
   "execution_count": 162,
   "metadata": {},
   "outputs": [
    {
     "data": {
      "text/html": [
       "<div>\n",
       "<style scoped>\n",
       "    .dataframe tbody tr th:only-of-type {\n",
       "        vertical-align: middle;\n",
       "    }\n",
       "\n",
       "    .dataframe tbody tr th {\n",
       "        vertical-align: top;\n",
       "    }\n",
       "\n",
       "    .dataframe thead th {\n",
       "        text-align: right;\n",
       "    }\n",
       "</style>\n",
       "<table border=\"1\" class=\"dataframe\">\n",
       "  <thead>\n",
       "    <tr style=\"text-align: right;\">\n",
       "      <th></th>\n",
       "      <th>GueltigAbDat</th>\n",
       "      <th>GueltigAbDatJahr</th>\n",
       "      <th>GueltigAbDatMM</th>\n",
       "      <th>KreisLang</th>\n",
       "      <th>HerkunftLang</th>\n",
       "      <th>SexLang</th>\n",
       "      <th>sum_WBev</th>\n",
       "    </tr>\n",
       "  </thead>\n",
       "  <tbody>\n",
       "    <tr>\n",
       "      <th>0</th>\n",
       "      <td>2020-10-20</td>\n",
       "      <td>2020</td>\n",
       "      <td>10</td>\n",
       "      <td>Kreis 10</td>\n",
       "      <td>Schweizer/in</td>\n",
       "      <td>männlich</td>\n",
       "      <td>6</td>\n",
       "    </tr>\n",
       "    <tr>\n",
       "      <th>1</th>\n",
       "      <td>2020-04-08</td>\n",
       "      <td>2020</td>\n",
       "      <td>4</td>\n",
       "      <td>Kreis 6</td>\n",
       "      <td>Schweizer/in</td>\n",
       "      <td>männlich</td>\n",
       "      <td>6</td>\n",
       "    </tr>\n",
       "  </tbody>\n",
       "</table>\n",
       "</div>"
      ],
      "text/plain": [
       "  GueltigAbDat  GueltigAbDatJahr  GueltigAbDatMM KreisLang  HerkunftLang   SexLang  sum_WBev\n",
       "0   2020-10-20              2020              10  Kreis 10  Schweizer/in  männlich         6\n",
       "1   2020-04-08              2020               4   Kreis 6  Schweizer/in  männlich         6"
      ]
     },
     "execution_count": 162,
     "metadata": {},
     "output_type": "execute_result"
    }
   ],
   "source": [
    "myTreemapAgg = data2betested.loc[\"2019-11\":\"2021-11\"]  \\\n",
    "    .groupby(['GueltigAbDat','GueltigAbDatJahr', 'GueltigAbDatMM', 'KreisLang','HerkunftLang', 'SexLang']) \\\n",
    "    .agg(sum_WBev=('AnzGebuWir', 'sum')) \\\n",
    "    .sort_values('sum_WBev', ascending=False) \n",
    "\n",
    "myTreemapAgg.reset_index().head(2)"
   ]
  },
  {
   "cell_type": "code",
   "execution_count": 163,
   "metadata": {},
   "outputs": [
    {
     "data": {
      "application/vnd.plotly.v1+json": {
       "config": {
        "plotlyServerURL": "https://plot.ly"
       },
       "data": [
        {
         "branchvalues": "total",
         "customdata": [
          [
           1
          ],
          [
           1.1333333333333333
          ],
          [
           1.2
          ],
          [
           1.180327868852459
          ],
          [
           1.4324324324324325
          ],
          [
           1.464
          ],
          [
           1.2236842105263157
          ],
          [
           1.1870503597122302
          ],
          [
           1.2538071065989849
          ],
          [
           1.2783505154639174
          ],
          [
           1.1688311688311688
          ],
          [
           1.1904761904761905
          ],
          [
           1.1914893617021276
          ],
          [
           1.2
          ],
          [
           1
          ],
          [
           1
          ],
          [
           1.121212121212121
          ],
          [
           1.1730769230769231
          ],
          [
           1.167741935483871
          ],
          [
           1.196969696969697
          ],
          [
           1.0816326530612246
          ],
          [
           1.1647058823529413
          ],
          [
           1.2564102564102564
          ],
          [
           1.28
          ],
          [
           1
          ],
          [
           1.2222222222222223
          ],
          [
           1.4712041884816753
          ],
          [
           1.4768856447688565
          ],
          [
           1.8434163701067616
          ],
          [
           1.6486486486486487
          ],
          [
           1.3580786026200873
          ],
          [
           1.401639344262295
          ],
          [
           1.4264264264264264
          ],
          [
           1.4477611940298507
          ],
          [
           1.6140350877192982
          ],
          [
           1.6350710900473933
          ],
          [
           1.3754512635379061
          ],
          [
           1.4057971014492754
          ],
          [
           1.2384105960264902
          ],
          [
           1.2641509433962264
          ],
          [
           1.5930232558139534
          ],
          [
           1.4530744336569579
          ],
          [
           1.558139534883721
          ],
          [
           1.4270462633451957
          ],
          [
           1.1470588235294117
          ],
          [
           1.2479338842975207
          ],
          [
           1.7666034155597723
          ],
          [
           1.7558386411889597
          ],
          [
           1
          ],
          [
           1.1818181818181819
          ],
          [
           1.406374501992032
          ],
          [
           1.4090056285178236
          ],
          [
           1.6905027932960894
          ],
          [
           1.5677570093457944
          ],
          [
           1.304461942257218
          ],
          [
           1.3237597911227155
          ],
          [
           1.3622641509433961
          ],
          [
           1.385633270321361
          ],
          [
           1.501639344262295
          ],
          [
           1.5084745762711864
          ],
          [
           1.3288409703504043
          ],
          [
           1.3641618497109826
          ],
          [
           1.1643835616438356
          ],
          [
           1.1971830985915493
          ],
          [
           1.4621848739495797
          ],
          [
           1.3825665859564165
          ],
          [
           1.4254385964912282
          ],
          [
           1.3535108958837772
          ],
          [
           1.1196581196581197
          ],
          [
           1.2135922330097086
          ],
          [
           1.609724047306176
          ],
          [
           1.6140089418777943
          ],
          [
           1.4570383912248628
          ],
          [
           1.436945622830698
          ],
          [
           1.4472597597597598
          ]
         ],
         "domain": {
          "x": [
           0,
           1
          ],
          "y": [
           0,
           1
          ]
         },
         "hovertemplate": "labels=%{label}<br>sum_WBev_sum=%{value}<br>parent=%{parent}<br>id=%{id}<br>sum_WBev=%{color}<extra></extra>",
         "ids": [
          "WBev nach Alter, Stadtkreis und Herkunft/männlich/Kreis 1/Ausländer/in",
          "WBev nach Alter, Stadtkreis und Herkunft/weiblich/Kreis 1/Ausländer/in",
          "WBev nach Alter, Stadtkreis und Herkunft/männlich/Kreis 10/Ausländer/in",
          "WBev nach Alter, Stadtkreis und Herkunft/weiblich/Kreis 10/Ausländer/in",
          "WBev nach Alter, Stadtkreis und Herkunft/männlich/Kreis 11/Ausländer/in",
          "WBev nach Alter, Stadtkreis und Herkunft/weiblich/Kreis 11/Ausländer/in",
          "WBev nach Alter, Stadtkreis und Herkunft/männlich/Kreis 12/Ausländer/in",
          "WBev nach Alter, Stadtkreis und Herkunft/weiblich/Kreis 12/Ausländer/in",
          "WBev nach Alter, Stadtkreis und Herkunft/männlich/Kreis 2/Ausländer/in",
          "WBev nach Alter, Stadtkreis und Herkunft/weiblich/Kreis 2/Ausländer/in",
          "WBev nach Alter, Stadtkreis und Herkunft/männlich/Kreis 3/Ausländer/in",
          "WBev nach Alter, Stadtkreis und Herkunft/weiblich/Kreis 3/Ausländer/in",
          "WBev nach Alter, Stadtkreis und Herkunft/männlich/Kreis 4/Ausländer/in",
          "WBev nach Alter, Stadtkreis und Herkunft/weiblich/Kreis 4/Ausländer/in",
          "WBev nach Alter, Stadtkreis und Herkunft/männlich/Kreis 5/Ausländer/in",
          "WBev nach Alter, Stadtkreis und Herkunft/weiblich/Kreis 5/Ausländer/in",
          "WBev nach Alter, Stadtkreis und Herkunft/männlich/Kreis 6/Ausländer/in",
          "WBev nach Alter, Stadtkreis und Herkunft/weiblich/Kreis 6/Ausländer/in",
          "WBev nach Alter, Stadtkreis und Herkunft/männlich/Kreis 7/Ausländer/in",
          "WBev nach Alter, Stadtkreis und Herkunft/weiblich/Kreis 7/Ausländer/in",
          "WBev nach Alter, Stadtkreis und Herkunft/männlich/Kreis 8/Ausländer/in",
          "WBev nach Alter, Stadtkreis und Herkunft/weiblich/Kreis 8/Ausländer/in",
          "WBev nach Alter, Stadtkreis und Herkunft/männlich/Kreis 9/Ausländer/in",
          "WBev nach Alter, Stadtkreis und Herkunft/weiblich/Kreis 9/Ausländer/in",
          "WBev nach Alter, Stadtkreis und Herkunft/männlich/Kreis 1/Schweizer/in",
          "WBev nach Alter, Stadtkreis und Herkunft/weiblich/Kreis 1/Schweizer/in",
          "WBev nach Alter, Stadtkreis und Herkunft/männlich/Kreis 10/Schweizer/in",
          "WBev nach Alter, Stadtkreis und Herkunft/weiblich/Kreis 10/Schweizer/in",
          "WBev nach Alter, Stadtkreis und Herkunft/männlich/Kreis 11/Schweizer/in",
          "WBev nach Alter, Stadtkreis und Herkunft/weiblich/Kreis 11/Schweizer/in",
          "WBev nach Alter, Stadtkreis und Herkunft/männlich/Kreis 12/Schweizer/in",
          "WBev nach Alter, Stadtkreis und Herkunft/weiblich/Kreis 12/Schweizer/in",
          "WBev nach Alter, Stadtkreis und Herkunft/männlich/Kreis 2/Schweizer/in",
          "WBev nach Alter, Stadtkreis und Herkunft/weiblich/Kreis 2/Schweizer/in",
          "WBev nach Alter, Stadtkreis und Herkunft/männlich/Kreis 3/Schweizer/in",
          "WBev nach Alter, Stadtkreis und Herkunft/weiblich/Kreis 3/Schweizer/in",
          "WBev nach Alter, Stadtkreis und Herkunft/männlich/Kreis 4/Schweizer/in",
          "WBev nach Alter, Stadtkreis und Herkunft/weiblich/Kreis 4/Schweizer/in",
          "WBev nach Alter, Stadtkreis und Herkunft/männlich/Kreis 5/Schweizer/in",
          "WBev nach Alter, Stadtkreis und Herkunft/weiblich/Kreis 5/Schweizer/in",
          "WBev nach Alter, Stadtkreis und Herkunft/männlich/Kreis 6/Schweizer/in",
          "WBev nach Alter, Stadtkreis und Herkunft/weiblich/Kreis 6/Schweizer/in",
          "WBev nach Alter, Stadtkreis und Herkunft/männlich/Kreis 7/Schweizer/in",
          "WBev nach Alter, Stadtkreis und Herkunft/weiblich/Kreis 7/Schweizer/in",
          "WBev nach Alter, Stadtkreis und Herkunft/männlich/Kreis 8/Schweizer/in",
          "WBev nach Alter, Stadtkreis und Herkunft/weiblich/Kreis 8/Schweizer/in",
          "WBev nach Alter, Stadtkreis und Herkunft/männlich/Kreis 9/Schweizer/in",
          "WBev nach Alter, Stadtkreis und Herkunft/weiblich/Kreis 9/Schweizer/in",
          "WBev nach Alter, Stadtkreis und Herkunft/männlich/Kreis 1",
          "WBev nach Alter, Stadtkreis und Herkunft/weiblich/Kreis 1",
          "WBev nach Alter, Stadtkreis und Herkunft/männlich/Kreis 10",
          "WBev nach Alter, Stadtkreis und Herkunft/weiblich/Kreis 10",
          "WBev nach Alter, Stadtkreis und Herkunft/männlich/Kreis 11",
          "WBev nach Alter, Stadtkreis und Herkunft/weiblich/Kreis 11",
          "WBev nach Alter, Stadtkreis und Herkunft/männlich/Kreis 12",
          "WBev nach Alter, Stadtkreis und Herkunft/weiblich/Kreis 12",
          "WBev nach Alter, Stadtkreis und Herkunft/männlich/Kreis 2",
          "WBev nach Alter, Stadtkreis und Herkunft/weiblich/Kreis 2",
          "WBev nach Alter, Stadtkreis und Herkunft/männlich/Kreis 3",
          "WBev nach Alter, Stadtkreis und Herkunft/weiblich/Kreis 3",
          "WBev nach Alter, Stadtkreis und Herkunft/männlich/Kreis 4",
          "WBev nach Alter, Stadtkreis und Herkunft/weiblich/Kreis 4",
          "WBev nach Alter, Stadtkreis und Herkunft/männlich/Kreis 5",
          "WBev nach Alter, Stadtkreis und Herkunft/weiblich/Kreis 5",
          "WBev nach Alter, Stadtkreis und Herkunft/männlich/Kreis 6",
          "WBev nach Alter, Stadtkreis und Herkunft/weiblich/Kreis 6",
          "WBev nach Alter, Stadtkreis und Herkunft/männlich/Kreis 7",
          "WBev nach Alter, Stadtkreis und Herkunft/weiblich/Kreis 7",
          "WBev nach Alter, Stadtkreis und Herkunft/männlich/Kreis 8",
          "WBev nach Alter, Stadtkreis und Herkunft/weiblich/Kreis 8",
          "WBev nach Alter, Stadtkreis und Herkunft/männlich/Kreis 9",
          "WBev nach Alter, Stadtkreis und Herkunft/weiblich/Kreis 9",
          "WBev nach Alter, Stadtkreis und Herkunft/männlich",
          "WBev nach Alter, Stadtkreis und Herkunft/weiblich",
          "WBev nach Alter, Stadtkreis und Herkunft"
         ],
         "labels": [
          "Ausländer/in",
          "Ausländer/in",
          "Ausländer/in",
          "Ausländer/in",
          "Ausländer/in",
          "Ausländer/in",
          "Ausländer/in",
          "Ausländer/in",
          "Ausländer/in",
          "Ausländer/in",
          "Ausländer/in",
          "Ausländer/in",
          "Ausländer/in",
          "Ausländer/in",
          "Ausländer/in",
          "Ausländer/in",
          "Ausländer/in",
          "Ausländer/in",
          "Ausländer/in",
          "Ausländer/in",
          "Ausländer/in",
          "Ausländer/in",
          "Ausländer/in",
          "Ausländer/in",
          "Schweizer/in",
          "Schweizer/in",
          "Schweizer/in",
          "Schweizer/in",
          "Schweizer/in",
          "Schweizer/in",
          "Schweizer/in",
          "Schweizer/in",
          "Schweizer/in",
          "Schweizer/in",
          "Schweizer/in",
          "Schweizer/in",
          "Schweizer/in",
          "Schweizer/in",
          "Schweizer/in",
          "Schweizer/in",
          "Schweizer/in",
          "Schweizer/in",
          "Schweizer/in",
          "Schweizer/in",
          "Schweizer/in",
          "Schweizer/in",
          "Schweizer/in",
          "Schweizer/in",
          "Kreis 1",
          "Kreis 1",
          "Kreis 10",
          "Kreis 10",
          "Kreis 11",
          "Kreis 11",
          "Kreis 12",
          "Kreis 12",
          "Kreis 2",
          "Kreis 2",
          "Kreis 3",
          "Kreis 3",
          "Kreis 4",
          "Kreis 4",
          "Kreis 5",
          "Kreis 5",
          "Kreis 6",
          "Kreis 6",
          "Kreis 7",
          "Kreis 7",
          "Kreis 8",
          "Kreis 8",
          "Kreis 9",
          "Kreis 9",
          "männlich",
          "weiblich",
          "WBev nach Alter, Stadtkreis und Herkunft"
         ],
         "marker": {
          "coloraxis": "coloraxis",
          "colors": [
           1,
           1.1333333333333333,
           1.2,
           1.180327868852459,
           1.4324324324324325,
           1.464,
           1.2236842105263157,
           1.1870503597122302,
           1.2538071065989849,
           1.2783505154639174,
           1.1688311688311688,
           1.1904761904761905,
           1.1914893617021276,
           1.2,
           1,
           1,
           1.121212121212121,
           1.1730769230769231,
           1.167741935483871,
           1.196969696969697,
           1.0816326530612246,
           1.1647058823529413,
           1.2564102564102564,
           1.28,
           1,
           1.2222222222222223,
           1.4712041884816753,
           1.4768856447688565,
           1.8434163701067616,
           1.6486486486486487,
           1.3580786026200873,
           1.401639344262295,
           1.4264264264264264,
           1.4477611940298507,
           1.6140350877192982,
           1.6350710900473933,
           1.3754512635379061,
           1.4057971014492754,
           1.2384105960264902,
           1.2641509433962264,
           1.5930232558139534,
           1.4530744336569579,
           1.558139534883721,
           1.4270462633451957,
           1.1470588235294117,
           1.2479338842975207,
           1.7666034155597723,
           1.7558386411889597,
           1,
           1.1818181818181819,
           1.406374501992032,
           1.4090056285178236,
           1.6905027932960894,
           1.5677570093457944,
           1.304461942257218,
           1.3237597911227155,
           1.3622641509433961,
           1.385633270321361,
           1.501639344262295,
           1.5084745762711864,
           1.3288409703504043,
           1.3641618497109826,
           1.1643835616438356,
           1.1971830985915493,
           1.4621848739495797,
           1.3825665859564165,
           1.4254385964912282,
           1.3535108958837772,
           1.1196581196581197,
           1.2135922330097086,
           1.609724047306176,
           1.6140089418777943,
           1.4570383912248628,
           1.436945622830698,
           1.4472597597597598
          ]
         },
         "name": "",
         "parents": [
          "WBev nach Alter, Stadtkreis und Herkunft/männlich/Kreis 1",
          "WBev nach Alter, Stadtkreis und Herkunft/weiblich/Kreis 1",
          "WBev nach Alter, Stadtkreis und Herkunft/männlich/Kreis 10",
          "WBev nach Alter, Stadtkreis und Herkunft/weiblich/Kreis 10",
          "WBev nach Alter, Stadtkreis und Herkunft/männlich/Kreis 11",
          "WBev nach Alter, Stadtkreis und Herkunft/weiblich/Kreis 11",
          "WBev nach Alter, Stadtkreis und Herkunft/männlich/Kreis 12",
          "WBev nach Alter, Stadtkreis und Herkunft/weiblich/Kreis 12",
          "WBev nach Alter, Stadtkreis und Herkunft/männlich/Kreis 2",
          "WBev nach Alter, Stadtkreis und Herkunft/weiblich/Kreis 2",
          "WBev nach Alter, Stadtkreis und Herkunft/männlich/Kreis 3",
          "WBev nach Alter, Stadtkreis und Herkunft/weiblich/Kreis 3",
          "WBev nach Alter, Stadtkreis und Herkunft/männlich/Kreis 4",
          "WBev nach Alter, Stadtkreis und Herkunft/weiblich/Kreis 4",
          "WBev nach Alter, Stadtkreis und Herkunft/männlich/Kreis 5",
          "WBev nach Alter, Stadtkreis und Herkunft/weiblich/Kreis 5",
          "WBev nach Alter, Stadtkreis und Herkunft/männlich/Kreis 6",
          "WBev nach Alter, Stadtkreis und Herkunft/weiblich/Kreis 6",
          "WBev nach Alter, Stadtkreis und Herkunft/männlich/Kreis 7",
          "WBev nach Alter, Stadtkreis und Herkunft/weiblich/Kreis 7",
          "WBev nach Alter, Stadtkreis und Herkunft/männlich/Kreis 8",
          "WBev nach Alter, Stadtkreis und Herkunft/weiblich/Kreis 8",
          "WBev nach Alter, Stadtkreis und Herkunft/männlich/Kreis 9",
          "WBev nach Alter, Stadtkreis und Herkunft/weiblich/Kreis 9",
          "WBev nach Alter, Stadtkreis und Herkunft/männlich/Kreis 1",
          "WBev nach Alter, Stadtkreis und Herkunft/weiblich/Kreis 1",
          "WBev nach Alter, Stadtkreis und Herkunft/männlich/Kreis 10",
          "WBev nach Alter, Stadtkreis und Herkunft/weiblich/Kreis 10",
          "WBev nach Alter, Stadtkreis und Herkunft/männlich/Kreis 11",
          "WBev nach Alter, Stadtkreis und Herkunft/weiblich/Kreis 11",
          "WBev nach Alter, Stadtkreis und Herkunft/männlich/Kreis 12",
          "WBev nach Alter, Stadtkreis und Herkunft/weiblich/Kreis 12",
          "WBev nach Alter, Stadtkreis und Herkunft/männlich/Kreis 2",
          "WBev nach Alter, Stadtkreis und Herkunft/weiblich/Kreis 2",
          "WBev nach Alter, Stadtkreis und Herkunft/männlich/Kreis 3",
          "WBev nach Alter, Stadtkreis und Herkunft/weiblich/Kreis 3",
          "WBev nach Alter, Stadtkreis und Herkunft/männlich/Kreis 4",
          "WBev nach Alter, Stadtkreis und Herkunft/weiblich/Kreis 4",
          "WBev nach Alter, Stadtkreis und Herkunft/männlich/Kreis 5",
          "WBev nach Alter, Stadtkreis und Herkunft/weiblich/Kreis 5",
          "WBev nach Alter, Stadtkreis und Herkunft/männlich/Kreis 6",
          "WBev nach Alter, Stadtkreis und Herkunft/weiblich/Kreis 6",
          "WBev nach Alter, Stadtkreis und Herkunft/männlich/Kreis 7",
          "WBev nach Alter, Stadtkreis und Herkunft/weiblich/Kreis 7",
          "WBev nach Alter, Stadtkreis und Herkunft/männlich/Kreis 8",
          "WBev nach Alter, Stadtkreis und Herkunft/weiblich/Kreis 8",
          "WBev nach Alter, Stadtkreis und Herkunft/männlich/Kreis 9",
          "WBev nach Alter, Stadtkreis und Herkunft/weiblich/Kreis 9",
          "WBev nach Alter, Stadtkreis und Herkunft/männlich",
          "WBev nach Alter, Stadtkreis und Herkunft/weiblich",
          "WBev nach Alter, Stadtkreis und Herkunft/männlich",
          "WBev nach Alter, Stadtkreis und Herkunft/weiblich",
          "WBev nach Alter, Stadtkreis und Herkunft/männlich",
          "WBev nach Alter, Stadtkreis und Herkunft/weiblich",
          "WBev nach Alter, Stadtkreis und Herkunft/männlich",
          "WBev nach Alter, Stadtkreis und Herkunft/weiblich",
          "WBev nach Alter, Stadtkreis und Herkunft/männlich",
          "WBev nach Alter, Stadtkreis und Herkunft/weiblich",
          "WBev nach Alter, Stadtkreis und Herkunft/männlich",
          "WBev nach Alter, Stadtkreis und Herkunft/weiblich",
          "WBev nach Alter, Stadtkreis und Herkunft/männlich",
          "WBev nach Alter, Stadtkreis und Herkunft/weiblich",
          "WBev nach Alter, Stadtkreis und Herkunft/männlich",
          "WBev nach Alter, Stadtkreis und Herkunft/weiblich",
          "WBev nach Alter, Stadtkreis und Herkunft/männlich",
          "WBev nach Alter, Stadtkreis und Herkunft/weiblich",
          "WBev nach Alter, Stadtkreis und Herkunft/männlich",
          "WBev nach Alter, Stadtkreis und Herkunft/weiblich",
          "WBev nach Alter, Stadtkreis und Herkunft/männlich",
          "WBev nach Alter, Stadtkreis und Herkunft/weiblich",
          "WBev nach Alter, Stadtkreis und Herkunft/männlich",
          "WBev nach Alter, Stadtkreis und Herkunft/weiblich",
          "WBev nach Alter, Stadtkreis und Herkunft",
          "WBev nach Alter, Stadtkreis und Herkunft",
          ""
         ],
         "root": {
          "color": "grey"
         },
         "type": "treemap",
         "values": [
          11,
          15,
          120,
          122,
          333,
          375,
          152,
          139,
          197,
          194,
          154,
          168,
          94,
          70,
          68,
          54,
          132,
          104,
          155,
          132,
          98,
          85,
          234,
          200,
          24,
          18,
          382,
          411,
          562,
          481,
          229,
          244,
          333,
          335,
          456,
          422,
          277,
          276,
          151,
          159,
          344,
          309,
          301,
          281,
          136,
          121,
          527,
          471,
          35,
          33,
          502,
          533,
          895,
          856,
          381,
          383,
          530,
          529,
          610,
          590,
          371,
          346,
          219,
          213,
          476,
          413,
          456,
          413,
          234,
          206,
          761,
          671,
          5470,
          5186,
          10656
         ]
        }
       ],
       "layout": {
        "autosize": true,
        "coloraxis": {
         "colorbar": {
          "title": {
           "text": "sum_WBev"
          }
         },
         "colorscale": [
          [
           0,
           "rgb(255,247,251)"
          ],
          [
           0.125,
           "rgb(236,226,240)"
          ],
          [
           0.25,
           "rgb(208,209,230)"
          ],
          [
           0.375,
           "rgb(166,189,219)"
          ],
          [
           0.5,
           "rgb(103,169,207)"
          ],
          [
           0.625,
           "rgb(54,144,192)"
          ],
          [
           0.75,
           "rgb(2,129,138)"
          ],
          [
           0.875,
           "rgb(1,108,89)"
          ],
          [
           1,
           "rgb(1,70,54)"
          ]
         ]
        },
        "legend": {
         "tracegroupgap": 0
        },
        "margin": {
         "b": 25,
         "l": 25,
         "r": 250,
         "t": 50
        },
        "template": {
         "data": {
          "bar": [
           {
            "error_x": {
             "color": "#2a3f5f"
            },
            "error_y": {
             "color": "#2a3f5f"
            },
            "marker": {
             "line": {
              "color": "#E5ECF6",
              "width": 0.5
             },
             "pattern": {
              "fillmode": "overlay",
              "size": 10,
              "solidity": 0.2
             }
            },
            "type": "bar"
           }
          ],
          "barpolar": [
           {
            "marker": {
             "line": {
              "color": "#E5ECF6",
              "width": 0.5
             },
             "pattern": {
              "fillmode": "overlay",
              "size": 10,
              "solidity": 0.2
             }
            },
            "type": "barpolar"
           }
          ],
          "carpet": [
           {
            "aaxis": {
             "endlinecolor": "#2a3f5f",
             "gridcolor": "white",
             "linecolor": "white",
             "minorgridcolor": "white",
             "startlinecolor": "#2a3f5f"
            },
            "baxis": {
             "endlinecolor": "#2a3f5f",
             "gridcolor": "white",
             "linecolor": "white",
             "minorgridcolor": "white",
             "startlinecolor": "#2a3f5f"
            },
            "type": "carpet"
           }
          ],
          "choropleth": [
           {
            "colorbar": {
             "outlinewidth": 0,
             "ticks": ""
            },
            "type": "choropleth"
           }
          ],
          "contour": [
           {
            "colorbar": {
             "outlinewidth": 0,
             "ticks": ""
            },
            "colorscale": [
             [
              0,
              "#0d0887"
             ],
             [
              0.1111111111111111,
              "#46039f"
             ],
             [
              0.2222222222222222,
              "#7201a8"
             ],
             [
              0.3333333333333333,
              "#9c179e"
             ],
             [
              0.4444444444444444,
              "#bd3786"
             ],
             [
              0.5555555555555556,
              "#d8576b"
             ],
             [
              0.6666666666666666,
              "#ed7953"
             ],
             [
              0.7777777777777778,
              "#fb9f3a"
             ],
             [
              0.8888888888888888,
              "#fdca26"
             ],
             [
              1,
              "#f0f921"
             ]
            ],
            "type": "contour"
           }
          ],
          "contourcarpet": [
           {
            "colorbar": {
             "outlinewidth": 0,
             "ticks": ""
            },
            "type": "contourcarpet"
           }
          ],
          "heatmap": [
           {
            "colorbar": {
             "outlinewidth": 0,
             "ticks": ""
            },
            "colorscale": [
             [
              0,
              "#0d0887"
             ],
             [
              0.1111111111111111,
              "#46039f"
             ],
             [
              0.2222222222222222,
              "#7201a8"
             ],
             [
              0.3333333333333333,
              "#9c179e"
             ],
             [
              0.4444444444444444,
              "#bd3786"
             ],
             [
              0.5555555555555556,
              "#d8576b"
             ],
             [
              0.6666666666666666,
              "#ed7953"
             ],
             [
              0.7777777777777778,
              "#fb9f3a"
             ],
             [
              0.8888888888888888,
              "#fdca26"
             ],
             [
              1,
              "#f0f921"
             ]
            ],
            "type": "heatmap"
           }
          ],
          "heatmapgl": [
           {
            "colorbar": {
             "outlinewidth": 0,
             "ticks": ""
            },
            "colorscale": [
             [
              0,
              "#0d0887"
             ],
             [
              0.1111111111111111,
              "#46039f"
             ],
             [
              0.2222222222222222,
              "#7201a8"
             ],
             [
              0.3333333333333333,
              "#9c179e"
             ],
             [
              0.4444444444444444,
              "#bd3786"
             ],
             [
              0.5555555555555556,
              "#d8576b"
             ],
             [
              0.6666666666666666,
              "#ed7953"
             ],
             [
              0.7777777777777778,
              "#fb9f3a"
             ],
             [
              0.8888888888888888,
              "#fdca26"
             ],
             [
              1,
              "#f0f921"
             ]
            ],
            "type": "heatmapgl"
           }
          ],
          "histogram": [
           {
            "marker": {
             "pattern": {
              "fillmode": "overlay",
              "size": 10,
              "solidity": 0.2
             }
            },
            "type": "histogram"
           }
          ],
          "histogram2d": [
           {
            "colorbar": {
             "outlinewidth": 0,
             "ticks": ""
            },
            "colorscale": [
             [
              0,
              "#0d0887"
             ],
             [
              0.1111111111111111,
              "#46039f"
             ],
             [
              0.2222222222222222,
              "#7201a8"
             ],
             [
              0.3333333333333333,
              "#9c179e"
             ],
             [
              0.4444444444444444,
              "#bd3786"
             ],
             [
              0.5555555555555556,
              "#d8576b"
             ],
             [
              0.6666666666666666,
              "#ed7953"
             ],
             [
              0.7777777777777778,
              "#fb9f3a"
             ],
             [
              0.8888888888888888,
              "#fdca26"
             ],
             [
              1,
              "#f0f921"
             ]
            ],
            "type": "histogram2d"
           }
          ],
          "histogram2dcontour": [
           {
            "colorbar": {
             "outlinewidth": 0,
             "ticks": ""
            },
            "colorscale": [
             [
              0,
              "#0d0887"
             ],
             [
              0.1111111111111111,
              "#46039f"
             ],
             [
              0.2222222222222222,
              "#7201a8"
             ],
             [
              0.3333333333333333,
              "#9c179e"
             ],
             [
              0.4444444444444444,
              "#bd3786"
             ],
             [
              0.5555555555555556,
              "#d8576b"
             ],
             [
              0.6666666666666666,
              "#ed7953"
             ],
             [
              0.7777777777777778,
              "#fb9f3a"
             ],
             [
              0.8888888888888888,
              "#fdca26"
             ],
             [
              1,
              "#f0f921"
             ]
            ],
            "type": "histogram2dcontour"
           }
          ],
          "mesh3d": [
           {
            "colorbar": {
             "outlinewidth": 0,
             "ticks": ""
            },
            "type": "mesh3d"
           }
          ],
          "parcoords": [
           {
            "line": {
             "colorbar": {
              "outlinewidth": 0,
              "ticks": ""
             }
            },
            "type": "parcoords"
           }
          ],
          "pie": [
           {
            "automargin": true,
            "type": "pie"
           }
          ],
          "scatter": [
           {
            "marker": {
             "colorbar": {
              "outlinewidth": 0,
              "ticks": ""
             }
            },
            "type": "scatter"
           }
          ],
          "scatter3d": [
           {
            "line": {
             "colorbar": {
              "outlinewidth": 0,
              "ticks": ""
             }
            },
            "marker": {
             "colorbar": {
              "outlinewidth": 0,
              "ticks": ""
             }
            },
            "type": "scatter3d"
           }
          ],
          "scattercarpet": [
           {
            "marker": {
             "colorbar": {
              "outlinewidth": 0,
              "ticks": ""
             }
            },
            "type": "scattercarpet"
           }
          ],
          "scattergeo": [
           {
            "marker": {
             "colorbar": {
              "outlinewidth": 0,
              "ticks": ""
             }
            },
            "type": "scattergeo"
           }
          ],
          "scattergl": [
           {
            "marker": {
             "colorbar": {
              "outlinewidth": 0,
              "ticks": ""
             }
            },
            "type": "scattergl"
           }
          ],
          "scattermapbox": [
           {
            "marker": {
             "colorbar": {
              "outlinewidth": 0,
              "ticks": ""
             }
            },
            "type": "scattermapbox"
           }
          ],
          "scatterpolar": [
           {
            "marker": {
             "colorbar": {
              "outlinewidth": 0,
              "ticks": ""
             }
            },
            "type": "scatterpolar"
           }
          ],
          "scatterpolargl": [
           {
            "marker": {
             "colorbar": {
              "outlinewidth": 0,
              "ticks": ""
             }
            },
            "type": "scatterpolargl"
           }
          ],
          "scatterternary": [
           {
            "marker": {
             "colorbar": {
              "outlinewidth": 0,
              "ticks": ""
             }
            },
            "type": "scatterternary"
           }
          ],
          "surface": [
           {
            "colorbar": {
             "outlinewidth": 0,
             "ticks": ""
            },
            "colorscale": [
             [
              0,
              "#0d0887"
             ],
             [
              0.1111111111111111,
              "#46039f"
             ],
             [
              0.2222222222222222,
              "#7201a8"
             ],
             [
              0.3333333333333333,
              "#9c179e"
             ],
             [
              0.4444444444444444,
              "#bd3786"
             ],
             [
              0.5555555555555556,
              "#d8576b"
             ],
             [
              0.6666666666666666,
              "#ed7953"
             ],
             [
              0.7777777777777778,
              "#fb9f3a"
             ],
             [
              0.8888888888888888,
              "#fdca26"
             ],
             [
              1,
              "#f0f921"
             ]
            ],
            "type": "surface"
           }
          ],
          "table": [
           {
            "cells": {
             "fill": {
              "color": "#EBF0F8"
             },
             "line": {
              "color": "white"
             }
            },
            "header": {
             "fill": {
              "color": "#C8D4E3"
             },
             "line": {
              "color": "white"
             }
            },
            "type": "table"
           }
          ]
         },
         "layout": {
          "annotationdefaults": {
           "arrowcolor": "#2a3f5f",
           "arrowhead": 0,
           "arrowwidth": 1
          },
          "autotypenumbers": "strict",
          "coloraxis": {
           "colorbar": {
            "outlinewidth": 0,
            "ticks": ""
           }
          },
          "colorscale": {
           "diverging": [
            [
             0,
             "#8e0152"
            ],
            [
             0.1,
             "#c51b7d"
            ],
            [
             0.2,
             "#de77ae"
            ],
            [
             0.3,
             "#f1b6da"
            ],
            [
             0.4,
             "#fde0ef"
            ],
            [
             0.5,
             "#f7f7f7"
            ],
            [
             0.6,
             "#e6f5d0"
            ],
            [
             0.7,
             "#b8e186"
            ],
            [
             0.8,
             "#7fbc41"
            ],
            [
             0.9,
             "#4d9221"
            ],
            [
             1,
             "#276419"
            ]
           ],
           "sequential": [
            [
             0,
             "#0d0887"
            ],
            [
             0.1111111111111111,
             "#46039f"
            ],
            [
             0.2222222222222222,
             "#7201a8"
            ],
            [
             0.3333333333333333,
             "#9c179e"
            ],
            [
             0.4444444444444444,
             "#bd3786"
            ],
            [
             0.5555555555555556,
             "#d8576b"
            ],
            [
             0.6666666666666666,
             "#ed7953"
            ],
            [
             0.7777777777777778,
             "#fb9f3a"
            ],
            [
             0.8888888888888888,
             "#fdca26"
            ],
            [
             1,
             "#f0f921"
            ]
           ],
           "sequentialminus": [
            [
             0,
             "#0d0887"
            ],
            [
             0.1111111111111111,
             "#46039f"
            ],
            [
             0.2222222222222222,
             "#7201a8"
            ],
            [
             0.3333333333333333,
             "#9c179e"
            ],
            [
             0.4444444444444444,
             "#bd3786"
            ],
            [
             0.5555555555555556,
             "#d8576b"
            ],
            [
             0.6666666666666666,
             "#ed7953"
            ],
            [
             0.7777777777777778,
             "#fb9f3a"
            ],
            [
             0.8888888888888888,
             "#fdca26"
            ],
            [
             1,
             "#f0f921"
            ]
           ]
          },
          "colorway": [
           "#636efa",
           "#EF553B",
           "#00cc96",
           "#ab63fa",
           "#FFA15A",
           "#19d3f3",
           "#FF6692",
           "#B6E880",
           "#FF97FF",
           "#FECB52"
          ],
          "font": {
           "color": "#2a3f5f"
          },
          "geo": {
           "bgcolor": "white",
           "lakecolor": "white",
           "landcolor": "#E5ECF6",
           "showlakes": true,
           "showland": true,
           "subunitcolor": "white"
          },
          "hoverlabel": {
           "align": "left"
          },
          "hovermode": "closest",
          "mapbox": {
           "style": "light"
          },
          "paper_bgcolor": "white",
          "plot_bgcolor": "#E5ECF6",
          "polar": {
           "angularaxis": {
            "gridcolor": "white",
            "linecolor": "white",
            "ticks": ""
           },
           "bgcolor": "#E5ECF6",
           "radialaxis": {
            "gridcolor": "white",
            "linecolor": "white",
            "ticks": ""
           }
          },
          "scene": {
           "xaxis": {
            "backgroundcolor": "#E5ECF6",
            "gridcolor": "white",
            "gridwidth": 2,
            "linecolor": "white",
            "showbackground": true,
            "ticks": "",
            "zerolinecolor": "white"
           },
           "yaxis": {
            "backgroundcolor": "#E5ECF6",
            "gridcolor": "white",
            "gridwidth": 2,
            "linecolor": "white",
            "showbackground": true,
            "ticks": "",
            "zerolinecolor": "white"
           },
           "zaxis": {
            "backgroundcolor": "#E5ECF6",
            "gridcolor": "white",
            "gridwidth": 2,
            "linecolor": "white",
            "showbackground": true,
            "ticks": "",
            "zerolinecolor": "white"
           }
          },
          "shapedefaults": {
           "line": {
            "color": "#2a3f5f"
           }
          },
          "ternary": {
           "aaxis": {
            "gridcolor": "white",
            "linecolor": "white",
            "ticks": ""
           },
           "baxis": {
            "gridcolor": "white",
            "linecolor": "white",
            "ticks": ""
           },
           "bgcolor": "#E5ECF6",
           "caxis": {
            "gridcolor": "white",
            "linecolor": "white",
            "ticks": ""
           }
          },
          "title": {
           "x": 0.05
          },
          "xaxis": {
           "automargin": true,
           "gridcolor": "white",
           "linecolor": "white",
           "ticks": "",
           "title": {
            "standoff": 15
           },
           "zerolinecolor": "white",
           "zerolinewidth": 2
          },
          "yaxis": {
           "automargin": true,
           "gridcolor": "white",
           "linecolor": "white",
           "ticks": "",
           "title": {
            "standoff": 15
           },
           "zerolinecolor": "white",
           "zerolinewidth": 2
          }
         }
        }
       }
      },
      "image/png": "[encoded data removed]",
      "text/html": [
       "<div>                            <div id=\"8a10ddae-2312-463c-b46d-ef8c5959833b\" class=\"plotly-graph-div\" style=\"height:525px; width:100%;\"></div>            <script type=\"text/javascript\">                require([\"plotly\"], function(Plotly) {                    window.PLOTLYENV=window.PLOTLYENV || {};                                    if (document.getElementById(\"8a10ddae-2312-463c-b46d-ef8c5959833b\")) {                    Plotly.newPlot(                        \"8a10ddae-2312-463c-b46d-ef8c5959833b\",                        [{\"branchvalues\":\"total\",\"customdata\":[[1.0],[1.1333333333333333],[1.2],[1.180327868852459],[1.4324324324324325],[1.464],[1.2236842105263157],[1.1870503597122302],[1.2538071065989849],[1.2783505154639174],[1.1688311688311688],[1.1904761904761905],[1.1914893617021276],[1.2],[1.0],[1.0],[1.121212121212121],[1.1730769230769231],[1.167741935483871],[1.196969696969697],[1.0816326530612246],[1.1647058823529413],[1.2564102564102564],[1.28],[1.0],[1.2222222222222223],[1.4712041884816753],[1.4768856447688565],[1.8434163701067616],[1.6486486486486487],[1.3580786026200873],[1.401639344262295],[1.4264264264264264],[1.4477611940298507],[1.6140350877192982],[1.6350710900473933],[1.3754512635379061],[1.4057971014492754],[1.2384105960264902],[1.2641509433962264],[1.5930232558139534],[1.4530744336569579],[1.558139534883721],[1.4270462633451957],[1.1470588235294117],[1.2479338842975207],[1.7666034155597723],[1.7558386411889597],[1.0],[1.1818181818181819],[1.406374501992032],[1.4090056285178236],[1.6905027932960894],[1.5677570093457944],[1.304461942257218],[1.3237597911227155],[1.3622641509433961],[1.385633270321361],[1.501639344262295],[1.5084745762711864],[1.3288409703504043],[1.3641618497109826],[1.1643835616438356],[1.1971830985915493],[1.4621848739495797],[1.3825665859564165],[1.4254385964912282],[1.3535108958837772],[1.1196581196581197],[1.2135922330097086],[1.609724047306176],[1.6140089418777943],[1.4570383912248628],[1.436945622830698],[1.4472597597597598]],\"domain\":{\"x\":[0.0,1.0],\"y\":[0.0,1.0]},\"hovertemplate\":\"labels=%{label}<br>sum_WBev_sum=%{value}<br>parent=%{parent}<br>id=%{id}<br>sum_WBev=%{color}<extra></extra>\",\"ids\":[\"WBev nach Alter, Stadtkreis und Herkunft/m\\u00e4nnlich/Kreis 1/Ausl\\u00e4nder/in\",\"WBev nach Alter, Stadtkreis und Herkunft/weiblich/Kreis 1/Ausl\\u00e4nder/in\",\"WBev nach Alter, Stadtkreis und Herkunft/m\\u00e4nnlich/Kreis 10/Ausl\\u00e4nder/in\",\"WBev nach Alter, Stadtkreis und Herkunft/weiblich/Kreis 10/Ausl\\u00e4nder/in\",\"WBev nach Alter, Stadtkreis und Herkunft/m\\u00e4nnlich/Kreis 11/Ausl\\u00e4nder/in\",\"WBev nach Alter, Stadtkreis und Herkunft/weiblich/Kreis 11/Ausl\\u00e4nder/in\",\"WBev nach Alter, Stadtkreis und Herkunft/m\\u00e4nnlich/Kreis 12/Ausl\\u00e4nder/in\",\"WBev nach Alter, Stadtkreis und Herkunft/weiblich/Kreis 12/Ausl\\u00e4nder/in\",\"WBev nach Alter, Stadtkreis und Herkunft/m\\u00e4nnlich/Kreis 2/Ausl\\u00e4nder/in\",\"WBev nach Alter, Stadtkreis und Herkunft/weiblich/Kreis 2/Ausl\\u00e4nder/in\",\"WBev nach Alter, Stadtkreis und Herkunft/m\\u00e4nnlich/Kreis 3/Ausl\\u00e4nder/in\",\"WBev nach Alter, Stadtkreis und Herkunft/weiblich/Kreis 3/Ausl\\u00e4nder/in\",\"WBev nach Alter, Stadtkreis und Herkunft/m\\u00e4nnlich/Kreis 4/Ausl\\u00e4nder/in\",\"WBev nach Alter, Stadtkreis und Herkunft/weiblich/Kreis 4/Ausl\\u00e4nder/in\",\"WBev nach Alter, Stadtkreis und Herkunft/m\\u00e4nnlich/Kreis 5/Ausl\\u00e4nder/in\",\"WBev nach Alter, Stadtkreis und Herkunft/weiblich/Kreis 5/Ausl\\u00e4nder/in\",\"WBev nach Alter, Stadtkreis und Herkunft/m\\u00e4nnlich/Kreis 6/Ausl\\u00e4nder/in\",\"WBev nach Alter, Stadtkreis und Herkunft/weiblich/Kreis 6/Ausl\\u00e4nder/in\",\"WBev nach Alter, Stadtkreis und Herkunft/m\\u00e4nnlich/Kreis 7/Ausl\\u00e4nder/in\",\"WBev nach Alter, Stadtkreis und Herkunft/weiblich/Kreis 7/Ausl\\u00e4nder/in\",\"WBev nach Alter, Stadtkreis und Herkunft/m\\u00e4nnlich/Kreis 8/Ausl\\u00e4nder/in\",\"WBev nach Alter, Stadtkreis und Herkunft/weiblich/Kreis 8/Ausl\\u00e4nder/in\",\"WBev nach Alter, Stadtkreis und Herkunft/m\\u00e4nnlich/Kreis 9/Ausl\\u00e4nder/in\",\"WBev nach Alter, Stadtkreis und Herkunft/weiblich/Kreis 9/Ausl\\u00e4nder/in\",\"WBev nach Alter, Stadtkreis und Herkunft/m\\u00e4nnlich/Kreis 1/Schweizer/in\",\"WBev nach Alter, Stadtkreis und Herkunft/weiblich/Kreis 1/Schweizer/in\",\"WBev nach Alter, Stadtkreis und Herkunft/m\\u00e4nnlich/Kreis 10/Schweizer/in\",\"WBev nach Alter, Stadtkreis und Herkunft/weiblich/Kreis 10/Schweizer/in\",\"WBev nach Alter, Stadtkreis und Herkunft/m\\u00e4nnlich/Kreis 11/Schweizer/in\",\"WBev nach Alter, Stadtkreis und Herkunft/weiblich/Kreis 11/Schweizer/in\",\"WBev nach Alter, Stadtkreis und Herkunft/m\\u00e4nnlich/Kreis 12/Schweizer/in\",\"WBev nach Alter, Stadtkreis und Herkunft/weiblich/Kreis 12/Schweizer/in\",\"WBev nach Alter, Stadtkreis und Herkunft/m\\u00e4nnlich/Kreis 2/Schweizer/in\",\"WBev nach Alter, Stadtkreis und Herkunft/weiblich/Kreis 2/Schweizer/in\",\"WBev nach Alter, Stadtkreis und Herkunft/m\\u00e4nnlich/Kreis 3/Schweizer/in\",\"WBev nach Alter, Stadtkreis und Herkunft/weiblich/Kreis 3/Schweizer/in\",\"WBev nach Alter, Stadtkreis und Herkunft/m\\u00e4nnlich/Kreis 4/Schweizer/in\",\"WBev nach Alter, Stadtkreis und Herkunft/weiblich/Kreis 4/Schweizer/in\",\"WBev nach Alter, Stadtkreis und Herkunft/m\\u00e4nnlich/Kreis 5/Schweizer/in\",\"WBev nach Alter, Stadtkreis und Herkunft/weiblich/Kreis 5/Schweizer/in\",\"WBev nach Alter, Stadtkreis und Herkunft/m\\u00e4nnlich/Kreis 6/Schweizer/in\",\"WBev nach Alter, Stadtkreis und Herkunft/weiblich/Kreis 6/Schweizer/in\",\"WBev nach Alter, Stadtkreis und Herkunft/m\\u00e4nnlich/Kreis 7/Schweizer/in\",\"WBev nach Alter, Stadtkreis und Herkunft/weiblich/Kreis 7/Schweizer/in\",\"WBev nach Alter, Stadtkreis und Herkunft/m\\u00e4nnlich/Kreis 8/Schweizer/in\",\"WBev nach Alter, Stadtkreis und Herkunft/weiblich/Kreis 8/Schweizer/in\",\"WBev nach Alter, Stadtkreis und Herkunft/m\\u00e4nnlich/Kreis 9/Schweizer/in\",\"WBev nach Alter, Stadtkreis und Herkunft/weiblich/Kreis 9/Schweizer/in\",\"WBev nach Alter, Stadtkreis und Herkunft/m\\u00e4nnlich/Kreis 1\",\"WBev nach Alter, Stadtkreis und Herkunft/weiblich/Kreis 1\",\"WBev nach Alter, Stadtkreis und Herkunft/m\\u00e4nnlich/Kreis 10\",\"WBev nach Alter, Stadtkreis und Herkunft/weiblich/Kreis 10\",\"WBev nach Alter, Stadtkreis und Herkunft/m\\u00e4nnlich/Kreis 11\",\"WBev nach Alter, Stadtkreis und Herkunft/weiblich/Kreis 11\",\"WBev nach Alter, Stadtkreis und Herkunft/m\\u00e4nnlich/Kreis 12\",\"WBev nach Alter, Stadtkreis und Herkunft/weiblich/Kreis 12\",\"WBev nach Alter, Stadtkreis und Herkunft/m\\u00e4nnlich/Kreis 2\",\"WBev nach Alter, Stadtkreis und Herkunft/weiblich/Kreis 2\",\"WBev nach Alter, Stadtkreis und Herkunft/m\\u00e4nnlich/Kreis 3\",\"WBev nach Alter, Stadtkreis und Herkunft/weiblich/Kreis 3\",\"WBev nach Alter, Stadtkreis und Herkunft/m\\u00e4nnlich/Kreis 4\",\"WBev nach Alter, Stadtkreis und Herkunft/weiblich/Kreis 4\",\"WBev nach Alter, Stadtkreis und Herkunft/m\\u00e4nnlich/Kreis 5\",\"WBev nach Alter, Stadtkreis und Herkunft/weiblich/Kreis 5\",\"WBev nach Alter, Stadtkreis und Herkunft/m\\u00e4nnlich/Kreis 6\",\"WBev nach Alter, Stadtkreis und Herkunft/weiblich/Kreis 6\",\"WBev nach Alter, Stadtkreis und Herkunft/m\\u00e4nnlich/Kreis 7\",\"WBev nach Alter, Stadtkreis und Herkunft/weiblich/Kreis 7\",\"WBev nach Alter, Stadtkreis und Herkunft/m\\u00e4nnlich/Kreis 8\",\"WBev nach Alter, Stadtkreis und Herkunft/weiblich/Kreis 8\",\"WBev nach Alter, Stadtkreis und Herkunft/m\\u00e4nnlich/Kreis 9\",\"WBev nach Alter, Stadtkreis und Herkunft/weiblich/Kreis 9\",\"WBev nach Alter, Stadtkreis und Herkunft/m\\u00e4nnlich\",\"WBev nach Alter, Stadtkreis und Herkunft/weiblich\",\"WBev nach Alter, Stadtkreis und Herkunft\"],\"labels\":[\"Ausl\\u00e4nder/in\",\"Ausl\\u00e4nder/in\",\"Ausl\\u00e4nder/in\",\"Ausl\\u00e4nder/in\",\"Ausl\\u00e4nder/in\",\"Ausl\\u00e4nder/in\",\"Ausl\\u00e4nder/in\",\"Ausl\\u00e4nder/in\",\"Ausl\\u00e4nder/in\",\"Ausl\\u00e4nder/in\",\"Ausl\\u00e4nder/in\",\"Ausl\\u00e4nder/in\",\"Ausl\\u00e4nder/in\",\"Ausl\\u00e4nder/in\",\"Ausl\\u00e4nder/in\",\"Ausl\\u00e4nder/in\",\"Ausl\\u00e4nder/in\",\"Ausl\\u00e4nder/in\",\"Ausl\\u00e4nder/in\",\"Ausl\\u00e4nder/in\",\"Ausl\\u00e4nder/in\",\"Ausl\\u00e4nder/in\",\"Ausl\\u00e4nder/in\",\"Ausl\\u00e4nder/in\",\"Schweizer/in\",\"Schweizer/in\",\"Schweizer/in\",\"Schweizer/in\",\"Schweizer/in\",\"Schweizer/in\",\"Schweizer/in\",\"Schweizer/in\",\"Schweizer/in\",\"Schweizer/in\",\"Schweizer/in\",\"Schweizer/in\",\"Schweizer/in\",\"Schweizer/in\",\"Schweizer/in\",\"Schweizer/in\",\"Schweizer/in\",\"Schweizer/in\",\"Schweizer/in\",\"Schweizer/in\",\"Schweizer/in\",\"Schweizer/in\",\"Schweizer/in\",\"Schweizer/in\",\"Kreis 1\",\"Kreis 1\",\"Kreis 10\",\"Kreis 10\",\"Kreis 11\",\"Kreis 11\",\"Kreis 12\",\"Kreis 12\",\"Kreis 2\",\"Kreis 2\",\"Kreis 3\",\"Kreis 3\",\"Kreis 4\",\"Kreis 4\",\"Kreis 5\",\"Kreis 5\",\"Kreis 6\",\"Kreis 6\",\"Kreis 7\",\"Kreis 7\",\"Kreis 8\",\"Kreis 8\",\"Kreis 9\",\"Kreis 9\",\"m\\u00e4nnlich\",\"weiblich\",\"WBev nach Alter, Stadtkreis und Herkunft\"],\"marker\":{\"coloraxis\":\"coloraxis\",\"colors\":[1.0,1.1333333333333333,1.2,1.180327868852459,1.4324324324324325,1.464,1.2236842105263157,1.1870503597122302,1.2538071065989849,1.2783505154639174,1.1688311688311688,1.1904761904761905,1.1914893617021276,1.2,1.0,1.0,1.121212121212121,1.1730769230769231,1.167741935483871,1.196969696969697,1.0816326530612246,1.1647058823529413,1.2564102564102564,1.28,1.0,1.2222222222222223,1.4712041884816753,1.4768856447688565,1.8434163701067616,1.6486486486486487,1.3580786026200873,1.401639344262295,1.4264264264264264,1.4477611940298507,1.6140350877192982,1.6350710900473933,1.3754512635379061,1.4057971014492754,1.2384105960264902,1.2641509433962264,1.5930232558139534,1.4530744336569579,1.558139534883721,1.4270462633451957,1.1470588235294117,1.2479338842975207,1.7666034155597723,1.7558386411889597,1.0,1.1818181818181819,1.406374501992032,1.4090056285178236,1.6905027932960894,1.5677570093457944,1.304461942257218,1.3237597911227155,1.3622641509433961,1.385633270321361,1.501639344262295,1.5084745762711864,1.3288409703504043,1.3641618497109826,1.1643835616438356,1.1971830985915493,1.4621848739495797,1.3825665859564165,1.4254385964912282,1.3535108958837772,1.1196581196581197,1.2135922330097086,1.609724047306176,1.6140089418777943,1.4570383912248628,1.436945622830698,1.4472597597597598]},\"name\":\"\",\"parents\":[\"WBev nach Alter, Stadtkreis und Herkunft/m\\u00e4nnlich/Kreis 1\",\"WBev nach Alter, Stadtkreis und Herkunft/weiblich/Kreis 1\",\"WBev nach Alter, Stadtkreis und Herkunft/m\\u00e4nnlich/Kreis 10\",\"WBev nach Alter, Stadtkreis und Herkunft/weiblich/Kreis 10\",\"WBev nach Alter, Stadtkreis und Herkunft/m\\u00e4nnlich/Kreis 11\",\"WBev nach Alter, Stadtkreis und Herkunft/weiblich/Kreis 11\",\"WBev nach Alter, Stadtkreis und Herkunft/m\\u00e4nnlich/Kreis 12\",\"WBev nach Alter, Stadtkreis und Herkunft/weiblich/Kreis 12\",\"WBev nach Alter, Stadtkreis und Herkunft/m\\u00e4nnlich/Kreis 2\",\"WBev nach Alter, Stadtkreis und Herkunft/weiblich/Kreis 2\",\"WBev nach Alter, Stadtkreis und Herkunft/m\\u00e4nnlich/Kreis 3\",\"WBev nach Alter, Stadtkreis und Herkunft/weiblich/Kreis 3\",\"WBev nach Alter, Stadtkreis und Herkunft/m\\u00e4nnlich/Kreis 4\",\"WBev nach Alter, Stadtkreis und Herkunft/weiblich/Kreis 4\",\"WBev nach Alter, Stadtkreis und Herkunft/m\\u00e4nnlich/Kreis 5\",\"WBev nach Alter, Stadtkreis und Herkunft/weiblich/Kreis 5\",\"WBev nach Alter, Stadtkreis und Herkunft/m\\u00e4nnlich/Kreis 6\",\"WBev nach Alter, Stadtkreis und Herkunft/weiblich/Kreis 6\",\"WBev nach Alter, Stadtkreis und Herkunft/m\\u00e4nnlich/Kreis 7\",\"WBev nach Alter, Stadtkreis und Herkunft/weiblich/Kreis 7\",\"WBev nach Alter, Stadtkreis und Herkunft/m\\u00e4nnlich/Kreis 8\",\"WBev nach Alter, Stadtkreis und Herkunft/weiblich/Kreis 8\",\"WBev nach Alter, Stadtkreis und Herkunft/m\\u00e4nnlich/Kreis 9\",\"WBev nach Alter, Stadtkreis und Herkunft/weiblich/Kreis 9\",\"WBev nach Alter, Stadtkreis und Herkunft/m\\u00e4nnlich/Kreis 1\",\"WBev nach Alter, Stadtkreis und Herkunft/weiblich/Kreis 1\",\"WBev nach Alter, Stadtkreis und Herkunft/m\\u00e4nnlich/Kreis 10\",\"WBev nach Alter, Stadtkreis und Herkunft/weiblich/Kreis 10\",\"WBev nach Alter, Stadtkreis und Herkunft/m\\u00e4nnlich/Kreis 11\",\"WBev nach Alter, Stadtkreis und Herkunft/weiblich/Kreis 11\",\"WBev nach Alter, Stadtkreis und Herkunft/m\\u00e4nnlich/Kreis 12\",\"WBev nach Alter, Stadtkreis und Herkunft/weiblich/Kreis 12\",\"WBev nach Alter, Stadtkreis und Herkunft/m\\u00e4nnlich/Kreis 2\",\"WBev nach Alter, Stadtkreis und Herkunft/weiblich/Kreis 2\",\"WBev nach Alter, Stadtkreis und Herkunft/m\\u00e4nnlich/Kreis 3\",\"WBev nach Alter, Stadtkreis und Herkunft/weiblich/Kreis 3\",\"WBev nach Alter, Stadtkreis und Herkunft/m\\u00e4nnlich/Kreis 4\",\"WBev nach Alter, Stadtkreis und Herkunft/weiblich/Kreis 4\",\"WBev nach Alter, Stadtkreis und Herkunft/m\\u00e4nnlich/Kreis 5\",\"WBev nach Alter, Stadtkreis und Herkunft/weiblich/Kreis 5\",\"WBev nach Alter, Stadtkreis und Herkunft/m\\u00e4nnlich/Kreis 6\",\"WBev nach Alter, Stadtkreis und Herkunft/weiblich/Kreis 6\",\"WBev nach Alter, Stadtkreis und Herkunft/m\\u00e4nnlich/Kreis 7\",\"WBev nach Alter, Stadtkreis und Herkunft/weiblich/Kreis 7\",\"WBev nach Alter, Stadtkreis und Herkunft/m\\u00e4nnlich/Kreis 8\",\"WBev nach Alter, Stadtkreis und Herkunft/weiblich/Kreis 8\",\"WBev nach Alter, Stadtkreis und Herkunft/m\\u00e4nnlich/Kreis 9\",\"WBev nach Alter, Stadtkreis und Herkunft/weiblich/Kreis 9\",\"WBev nach Alter, Stadtkreis und Herkunft/m\\u00e4nnlich\",\"WBev nach Alter, Stadtkreis und Herkunft/weiblich\",\"WBev nach Alter, Stadtkreis und Herkunft/m\\u00e4nnlich\",\"WBev nach Alter, Stadtkreis und Herkunft/weiblich\",\"WBev nach Alter, Stadtkreis und Herkunft/m\\u00e4nnlich\",\"WBev nach Alter, Stadtkreis und Herkunft/weiblich\",\"WBev nach Alter, Stadtkreis und Herkunft/m\\u00e4nnlich\",\"WBev nach Alter, Stadtkreis und Herkunft/weiblich\",\"WBev nach Alter, Stadtkreis und Herkunft/m\\u00e4nnlich\",\"WBev nach Alter, Stadtkreis und Herkunft/weiblich\",\"WBev nach Alter, Stadtkreis und Herkunft/m\\u00e4nnlich\",\"WBev nach Alter, Stadtkreis und Herkunft/weiblich\",\"WBev nach Alter, Stadtkreis und Herkunft/m\\u00e4nnlich\",\"WBev nach Alter, Stadtkreis und Herkunft/weiblich\",\"WBev nach Alter, Stadtkreis und Herkunft/m\\u00e4nnlich\",\"WBev nach Alter, Stadtkreis und Herkunft/weiblich\",\"WBev nach Alter, Stadtkreis und Herkunft/m\\u00e4nnlich\",\"WBev nach Alter, Stadtkreis und Herkunft/weiblich\",\"WBev nach Alter, Stadtkreis und Herkunft/m\\u00e4nnlich\",\"WBev nach Alter, Stadtkreis und Herkunft/weiblich\",\"WBev nach Alter, Stadtkreis und Herkunft/m\\u00e4nnlich\",\"WBev nach Alter, Stadtkreis und Herkunft/weiblich\",\"WBev nach Alter, Stadtkreis und Herkunft/m\\u00e4nnlich\",\"WBev nach Alter, Stadtkreis und Herkunft/weiblich\",\"WBev nach Alter, Stadtkreis und Herkunft\",\"WBev nach Alter, Stadtkreis und Herkunft\",\"\"],\"root\":{\"color\":\"grey\"},\"type\":\"treemap\",\"values\":[11,15,120,122,333,375,152,139,197,194,154,168,94,70,68,54,132,104,155,132,98,85,234,200,24,18,382,411,562,481,229,244,333,335,456,422,277,276,151,159,344,309,301,281,136,121,527,471,35,33,502,533,895,856,381,383,530,529,610,590,371,346,219,213,476,413,456,413,234,206,761,671,5470,5186,10656]}],                        {\"coloraxis\":{\"colorbar\":{\"title\":{\"text\":\"sum_WBev\"}},\"colorscale\":[[0.0,\"rgb(255,247,251)\"],[0.125,\"rgb(236,226,240)\"],[0.25,\"rgb(208,209,230)\"],[0.375,\"rgb(166,189,219)\"],[0.5,\"rgb(103,169,207)\"],[0.625,\"rgb(54,144,192)\"],[0.75,\"rgb(2,129,138)\"],[0.875,\"rgb(1,108,89)\"],[1.0,\"rgb(1,70,54)\"]]},\"legend\":{\"tracegroupgap\":0},\"margin\":{\"b\":25,\"l\":25,\"r\":250,\"t\":50},\"template\":{\"data\":{\"bar\":[{\"error_x\":{\"color\":\"#2a3f5f\"},\"error_y\":{\"color\":\"#2a3f5f\"},\"marker\":{\"line\":{\"color\":\"#E5ECF6\",\"width\":0.5},\"pattern\":{\"fillmode\":\"overlay\",\"size\":10,\"solidity\":0.2}},\"type\":\"bar\"}],\"barpolar\":[{\"marker\":{\"line\":{\"color\":\"#E5ECF6\",\"width\":0.5},\"pattern\":{\"fillmode\":\"overlay\",\"size\":10,\"solidity\":0.2}},\"type\":\"barpolar\"}],\"carpet\":[{\"aaxis\":{\"endlinecolor\":\"#2a3f5f\",\"gridcolor\":\"white\",\"linecolor\":\"white\",\"minorgridcolor\":\"white\",\"startlinecolor\":\"#2a3f5f\"},\"baxis\":{\"endlinecolor\":\"#2a3f5f\",\"gridcolor\":\"white\",\"linecolor\":\"white\",\"minorgridcolor\":\"white\",\"startlinecolor\":\"#2a3f5f\"},\"type\":\"carpet\"}],\"choropleth\":[{\"colorbar\":{\"outlinewidth\":0,\"ticks\":\"\"},\"type\":\"choropleth\"}],\"contour\":[{\"colorbar\":{\"outlinewidth\":0,\"ticks\":\"\"},\"colorscale\":[[0.0,\"#0d0887\"],[0.1111111111111111,\"#46039f\"],[0.2222222222222222,\"#7201a8\"],[0.3333333333333333,\"#9c179e\"],[0.4444444444444444,\"#bd3786\"],[0.5555555555555556,\"#d8576b\"],[0.6666666666666666,\"#ed7953\"],[0.7777777777777778,\"#fb9f3a\"],[0.8888888888888888,\"#fdca26\"],[1.0,\"#f0f921\"]],\"type\":\"contour\"}],\"contourcarpet\":[{\"colorbar\":{\"outlinewidth\":0,\"ticks\":\"\"},\"type\":\"contourcarpet\"}],\"heatmap\":[{\"colorbar\":{\"outlinewidth\":0,\"ticks\":\"\"},\"colorscale\":[[0.0,\"#0d0887\"],[0.1111111111111111,\"#46039f\"],[0.2222222222222222,\"#7201a8\"],[0.3333333333333333,\"#9c179e\"],[0.4444444444444444,\"#bd3786\"],[0.5555555555555556,\"#d8576b\"],[0.6666666666666666,\"#ed7953\"],[0.7777777777777778,\"#fb9f3a\"],[0.8888888888888888,\"#fdca26\"],[1.0,\"#f0f921\"]],\"type\":\"heatmap\"}],\"heatmapgl\":[{\"colorbar\":{\"outlinewidth\":0,\"ticks\":\"\"},\"colorscale\":[[0.0,\"#0d0887\"],[0.1111111111111111,\"#46039f\"],[0.2222222222222222,\"#7201a8\"],[0.3333333333333333,\"#9c179e\"],[0.4444444444444444,\"#bd3786\"],[0.5555555555555556,\"#d8576b\"],[0.6666666666666666,\"#ed7953\"],[0.7777777777777778,\"#fb9f3a\"],[0.8888888888888888,\"#fdca26\"],[1.0,\"#f0f921\"]],\"type\":\"heatmapgl\"}],\"histogram\":[{\"marker\":{\"pattern\":{\"fillmode\":\"overlay\",\"size\":10,\"solidity\":0.2}},\"type\":\"histogram\"}],\"histogram2d\":[{\"colorbar\":{\"outlinewidth\":0,\"ticks\":\"\"},\"colorscale\":[[0.0,\"#0d0887\"],[0.1111111111111111,\"#46039f\"],[0.2222222222222222,\"#7201a8\"],[0.3333333333333333,\"#9c179e\"],[0.4444444444444444,\"#bd3786\"],[0.5555555555555556,\"#d8576b\"],[0.6666666666666666,\"#ed7953\"],[0.7777777777777778,\"#fb9f3a\"],[0.8888888888888888,\"#fdca26\"],[1.0,\"#f0f921\"]],\"type\":\"histogram2d\"}],\"histogram2dcontour\":[{\"colorbar\":{\"outlinewidth\":0,\"ticks\":\"\"},\"colorscale\":[[0.0,\"#0d0887\"],[0.1111111111111111,\"#46039f\"],[0.2222222222222222,\"#7201a8\"],[0.3333333333333333,\"#9c179e\"],[0.4444444444444444,\"#bd3786\"],[0.5555555555555556,\"#d8576b\"],[0.6666666666666666,\"#ed7953\"],[0.7777777777777778,\"#fb9f3a\"],[0.8888888888888888,\"#fdca26\"],[1.0,\"#f0f921\"]],\"type\":\"histogram2dcontour\"}],\"mesh3d\":[{\"colorbar\":{\"outlinewidth\":0,\"ticks\":\"\"},\"type\":\"mesh3d\"}],\"parcoords\":[{\"line\":{\"colorbar\":{\"outlinewidth\":0,\"ticks\":\"\"}},\"type\":\"parcoords\"}],\"pie\":[{\"automargin\":true,\"type\":\"pie\"}],\"scatter\":[{\"marker\":{\"colorbar\":{\"outlinewidth\":0,\"ticks\":\"\"}},\"type\":\"scatter\"}],\"scatter3d\":[{\"line\":{\"colorbar\":{\"outlinewidth\":0,\"ticks\":\"\"}},\"marker\":{\"colorbar\":{\"outlinewidth\":0,\"ticks\":\"\"}},\"type\":\"scatter3d\"}],\"scattercarpet\":[{\"marker\":{\"colorbar\":{\"outlinewidth\":0,\"ticks\":\"\"}},\"type\":\"scattercarpet\"}],\"scattergeo\":[{\"marker\":{\"colorbar\":{\"outlinewidth\":0,\"ticks\":\"\"}},\"type\":\"scattergeo\"}],\"scattergl\":[{\"marker\":{\"colorbar\":{\"outlinewidth\":0,\"ticks\":\"\"}},\"type\":\"scattergl\"}],\"scattermapbox\":[{\"marker\":{\"colorbar\":{\"outlinewidth\":0,\"ticks\":\"\"}},\"type\":\"scattermapbox\"}],\"scatterpolar\":[{\"marker\":{\"colorbar\":{\"outlinewidth\":0,\"ticks\":\"\"}},\"type\":\"scatterpolar\"}],\"scatterpolargl\":[{\"marker\":{\"colorbar\":{\"outlinewidth\":0,\"ticks\":\"\"}},\"type\":\"scatterpolargl\"}],\"scatterternary\":[{\"marker\":{\"colorbar\":{\"outlinewidth\":0,\"ticks\":\"\"}},\"type\":\"scatterternary\"}],\"surface\":[{\"colorbar\":{\"outlinewidth\":0,\"ticks\":\"\"},\"colorscale\":[[0.0,\"#0d0887\"],[0.1111111111111111,\"#46039f\"],[0.2222222222222222,\"#7201a8\"],[0.3333333333333333,\"#9c179e\"],[0.4444444444444444,\"#bd3786\"],[0.5555555555555556,\"#d8576b\"],[0.6666666666666666,\"#ed7953\"],[0.7777777777777778,\"#fb9f3a\"],[0.8888888888888888,\"#fdca26\"],[1.0,\"#f0f921\"]],\"type\":\"surface\"}],\"table\":[{\"cells\":{\"fill\":{\"color\":\"#EBF0F8\"},\"line\":{\"color\":\"white\"}},\"header\":{\"fill\":{\"color\":\"#C8D4E3\"},\"line\":{\"color\":\"white\"}},\"type\":\"table\"}]},\"layout\":{\"annotationdefaults\":{\"arrowcolor\":\"#2a3f5f\",\"arrowhead\":0,\"arrowwidth\":1},\"autotypenumbers\":\"strict\",\"coloraxis\":{\"colorbar\":{\"outlinewidth\":0,\"ticks\":\"\"}},\"colorscale\":{\"diverging\":[[0,\"#8e0152\"],[0.1,\"#c51b7d\"],[0.2,\"#de77ae\"],[0.3,\"#f1b6da\"],[0.4,\"#fde0ef\"],[0.5,\"#f7f7f7\"],[0.6,\"#e6f5d0\"],[0.7,\"#b8e186\"],[0.8,\"#7fbc41\"],[0.9,\"#4d9221\"],[1,\"#276419\"]],\"sequential\":[[0.0,\"#0d0887\"],[0.1111111111111111,\"#46039f\"],[0.2222222222222222,\"#7201a8\"],[0.3333333333333333,\"#9c179e\"],[0.4444444444444444,\"#bd3786\"],[0.5555555555555556,\"#d8576b\"],[0.6666666666666666,\"#ed7953\"],[0.7777777777777778,\"#fb9f3a\"],[0.8888888888888888,\"#fdca26\"],[1.0,\"#f0f921\"]],\"sequentialminus\":[[0.0,\"#0d0887\"],[0.1111111111111111,\"#46039f\"],[0.2222222222222222,\"#7201a8\"],[0.3333333333333333,\"#9c179e\"],[0.4444444444444444,\"#bd3786\"],[0.5555555555555556,\"#d8576b\"],[0.6666666666666666,\"#ed7953\"],[0.7777777777777778,\"#fb9f3a\"],[0.8888888888888888,\"#fdca26\"],[1.0,\"#f0f921\"]]},\"colorway\":[\"#636efa\",\"#EF553B\",\"#00cc96\",\"#ab63fa\",\"#FFA15A\",\"#19d3f3\",\"#FF6692\",\"#B6E880\",\"#FF97FF\",\"#FECB52\"],\"font\":{\"color\":\"#2a3f5f\"},\"geo\":{\"bgcolor\":\"white\",\"lakecolor\":\"white\",\"landcolor\":\"#E5ECF6\",\"showlakes\":true,\"showland\":true,\"subunitcolor\":\"white\"},\"hoverlabel\":{\"align\":\"left\"},\"hovermode\":\"closest\",\"mapbox\":{\"style\":\"light\"},\"paper_bgcolor\":\"white\",\"plot_bgcolor\":\"#E5ECF6\",\"polar\":{\"angularaxis\":{\"gridcolor\":\"white\",\"linecolor\":\"white\",\"ticks\":\"\"},\"bgcolor\":\"#E5ECF6\",\"radialaxis\":{\"gridcolor\":\"white\",\"linecolor\":\"white\",\"ticks\":\"\"}},\"scene\":{\"xaxis\":{\"backgroundcolor\":\"#E5ECF6\",\"gridcolor\":\"white\",\"gridwidth\":2,\"linecolor\":\"white\",\"showbackground\":true,\"ticks\":\"\",\"zerolinecolor\":\"white\"},\"yaxis\":{\"backgroundcolor\":\"#E5ECF6\",\"gridcolor\":\"white\",\"gridwidth\":2,\"linecolor\":\"white\",\"showbackground\":true,\"ticks\":\"\",\"zerolinecolor\":\"white\"},\"zaxis\":{\"backgroundcolor\":\"#E5ECF6\",\"gridcolor\":\"white\",\"gridwidth\":2,\"linecolor\":\"white\",\"showbackground\":true,\"ticks\":\"\",\"zerolinecolor\":\"white\"}},\"shapedefaults\":{\"line\":{\"color\":\"#2a3f5f\"}},\"ternary\":{\"aaxis\":{\"gridcolor\":\"white\",\"linecolor\":\"white\",\"ticks\":\"\"},\"baxis\":{\"gridcolor\":\"white\",\"linecolor\":\"white\",\"ticks\":\"\"},\"bgcolor\":\"#E5ECF6\",\"caxis\":{\"gridcolor\":\"white\",\"linecolor\":\"white\",\"ticks\":\"\"}},\"title\":{\"x\":0.05},\"xaxis\":{\"automargin\":true,\"gridcolor\":\"white\",\"linecolor\":\"white\",\"ticks\":\"\",\"title\":{\"standoff\":15},\"zerolinecolor\":\"white\",\"zerolinewidth\":2},\"yaxis\":{\"automargin\":true,\"gridcolor\":\"white\",\"linecolor\":\"white\",\"ticks\":\"\",\"title\":{\"standoff\":15},\"zerolinecolor\":\"white\",\"zerolinewidth\":2}}}},                        {\"responsive\": true}                    ).then(function(){\n",
       "                            \n",
       "var gd = document.getElementById('8a10ddae-2312-463c-b46d-ef8c5959833b');\n",
       "var x = new MutationObserver(function (mutations, observer) {{\n",
       "        var display = window.getComputedStyle(gd).display;\n",
       "        if (!display || display === 'none') {{\n",
       "            console.log([gd, 'removed!']);\n",
       "            Plotly.purge(gd);\n",
       "            observer.disconnect();\n",
       "        }}\n",
       "}});\n",
       "\n",
       "// Listen for the removal of the full notebook cells\n",
       "var notebookContainer = gd.closest('#notebook-container');\n",
       "if (notebookContainer) {{\n",
       "    x.observe(notebookContainer, {childList: true});\n",
       "}}\n",
       "\n",
       "// Listen for the clearing of the current output cell\n",
       "var outputEl = gd.closest('.output');\n",
       "if (outputEl) {{\n",
       "    x.observe(outputEl, {childList: true});\n",
       "}}\n",
       "\n",
       "                        })                };                });            </script>        </div>"
      ]
     },
     "metadata": {},
     "output_type": "display_data"
    }
   ],
   "source": [
    "fig = px.treemap(myTreemapAgg.reset_index()\n",
    "                 , path=[px.Constant(\"WBev nach Alter, Stadtkreis und Herkunft\"), 'SexLang','KreisLang','HerkunftLang']\n",
    "                 , values='sum_WBev'\n",
    "                 , color='sum_WBev'\n",
    "                 ## bei discrete scales (bei Klassen und Strings):                 \n",
    "                 #, color_discrete_map={'(?)':'lightgrey','EVP':'gold', 'SP':'#FF3030', 'PdA':'#EE3B3B', 'Grüne':'#A2CD5A','GLP':'#CAFF70','Die Mitte':'orange','FDP':'#104E8B','AL':'deeppink','SVP':'forestgreen', 'FL ZÜRI':'#8B864E','Volt':'#lightblue' }                \n",
    "                 ## bei continuous scales (bei Zahlenwerten):\n",
    "                , color_continuous_scale='PuBuGn'\n",
    "                #, color_continuous_midpoint=np.average(myTreemapAgg['sum_WBev'], weights=myTreemapAgg['sum_WBev']) \n",
    "                 #,height=400\n",
    "                 #,width=1500\n",
    "                )\n",
    "fig.update_traces(root_color=\"grey\")\n",
    "fig.update_layout(margin = dict(t=50, l=25, r=250, b=25))#, title=\"WBev nach Alter, Stadtkreis und Herkunft\")\n",
    "fig.show()"
   ]
  },
  {
   "cell_type": "markdown",
   "metadata": {},
   "source": [
    "-------------------------------------- stop hier\n",
    "\n",
    "Liniendiagramm \n",
    "[Link zur Doku](https://altair-viz.github.io/gallery/multiline_highlight.html)"
   ]
  },
  {
   "cell_type": "markdown",
   "metadata": {},
   "source": [
    "### Test: Choroplethenkarte\n",
    "Importiere die Geodaten als GeoJSON"
   ]
  },
  {
   "cell_type": "code",
   "execution_count": 153,
   "metadata": {},
   "outputs": [
    {
     "data": {
      "text/html": [
       "<div>\n",
       "<style scoped>\n",
       "    .dataframe tbody tr th:only-of-type {\n",
       "        vertical-align: middle;\n",
       "    }\n",
       "\n",
       "    .dataframe tbody tr th {\n",
       "        vertical-align: top;\n",
       "    }\n",
       "\n",
       "    .dataframe thead th {\n",
       "        text-align: right;\n",
       "    }\n",
       "</style>\n",
       "<table border=\"1\" class=\"dataframe\">\n",
       "  <thead>\n",
       "    <tr style=\"text-align: right;\">\n",
       "      <th></th>\n",
       "      <th>id</th>\n",
       "      <th>kname</th>\n",
       "      <th>knr</th>\n",
       "      <th>objectid</th>\n",
       "      <th>objid</th>\n",
       "      <th>qname</th>\n",
       "      <th>qnr</th>\n",
       "      <th>geometry</th>\n",
       "    </tr>\n",
       "  </thead>\n",
       "  <tbody>\n",
       "    <tr>\n",
       "      <th>0</th>\n",
       "      <td>adm_statistische_quartiere_map.1</td>\n",
       "      <td>Kreis 7</td>\n",
       "      <td>7</td>\n",
       "      <td>1</td>\n",
       "      <td>34</td>\n",
       "      <td>Hirslanden</td>\n",
       "      <td>73</td>\n",
       "      <td>POLYGON ((8.55670 47.36406, 8.55682 47.36410, ...</td>\n",
       "    </tr>\n",
       "    <tr>\n",
       "      <th>1</th>\n",
       "      <td>adm_statistische_quartiere_map.2</td>\n",
       "      <td>Kreis 8</td>\n",
       "      <td>8</td>\n",
       "      <td>2</td>\n",
       "      <td>33</td>\n",
       "      <td>Weinegg</td>\n",
       "      <td>83</td>\n",
       "      <td>POLYGON ((8.55670 47.36405, 8.55672 47.36403, ...</td>\n",
       "    </tr>\n",
       "    <tr>\n",
       "      <th>2</th>\n",
       "      <td>adm_statistische_quartiere_map.3</td>\n",
       "      <td>Kreis 8</td>\n",
       "      <td>8</td>\n",
       "      <td>3</td>\n",
       "      <td>32</td>\n",
       "      <td>Mühlebach</td>\n",
       "      <td>82</td>\n",
       "      <td>POLYGON ((8.55423 47.36456, 8.55426 47.36452, ...</td>\n",
       "    </tr>\n",
       "    <tr>\n",
       "      <th>3</th>\n",
       "      <td>adm_statistische_quartiere_map.4</td>\n",
       "      <td>Kreis 8</td>\n",
       "      <td>8</td>\n",
       "      <td>4</td>\n",
       "      <td>31</td>\n",
       "      <td>Seefeld</td>\n",
       "      <td>81</td>\n",
       "      <td>POLYGON ((8.54795 47.36500, 8.54805 47.36489, ...</td>\n",
       "    </tr>\n",
       "    <tr>\n",
       "      <th>4</th>\n",
       "      <td>adm_statistische_quartiere_map.7</td>\n",
       "      <td>Kreis 4</td>\n",
       "      <td>4</td>\n",
       "      <td>7</td>\n",
       "      <td>16</td>\n",
       "      <td>Werd</td>\n",
       "      <td>41</td>\n",
       "      <td>POLYGON ((8.53300 47.37394, 8.53299 47.37392, ...</td>\n",
       "    </tr>\n",
       "  </tbody>\n",
       "</table>\n",
       "</div>"
      ],
      "text/plain": [
       "                                 id    kname  knr  objectid objid       qname  qnr  \\\n",
       "0  adm_statistische_quartiere_map.1  Kreis 7    7         1    34  Hirslanden   73   \n",
       "1  adm_statistische_quartiere_map.2  Kreis 8    8         2    33     Weinegg   83   \n",
       "2  adm_statistische_quartiere_map.3  Kreis 8    8         3    32   Mühlebach   82   \n",
       "3  adm_statistische_quartiere_map.4  Kreis 8    8         4    31     Seefeld   81   \n",
       "4  adm_statistische_quartiere_map.7  Kreis 4    4         7    16        Werd   41   \n",
       "\n",
       "                                            geometry  \n",
       "0  POLYGON ((8.55670 47.36406, 8.55682 47.36410, ...  \n",
       "1  POLYGON ((8.55670 47.36405, 8.55672 47.36403, ...  \n",
       "2  POLYGON ((8.55423 47.36456, 8.55426 47.36452, ...  \n",
       "3  POLYGON ((8.54795 47.36500, 8.54805 47.36489, ...  \n",
       "4  POLYGON ((8.53300 47.37394, 8.53299 47.37392, ...  "
      ]
     },
     "execution_count": 153,
     "metadata": {},
     "output_type": "execute_result"
    }
   ],
   "source": [
    "# Read abt. Geopandas https://geopandas.org/docs/user_guide/io.html\n",
    "# Wenn die Daten lokal agelegt sind, dann kannst Du folgendes machen:\n",
    "##input_stadtquartiere = r\"//szh.loc/ssz/data/GIS/Daten/Vektor/_aktuell/stzh.adm_statistische_quartiere_map.json\"\n",
    "##df_stadtquartiere = gpd.read_file(input_stadtquartiere)\n",
    "##df_stadtquartiere.head(2)\n",
    "#df_stadtkreise.dtypes\n",
    "\n",
    "geojson_url = \"https://www.ogd.stadt-zuerich.ch/wfs/geoportal/Statistische_Quartiere?service=WFS&version=1.1.0&request=GetFeature&outputFormat=GeoJSON&typename=adm_statistische_quartiere_map\"\n",
    "df_adm_statistische_quartiere_map = gpd.read_file(geojson_url)\n",
    "\n",
    "df_adm_statistische_quartiere_map.head(5)\n"
   ]
  },
  {
   "cell_type": "markdown",
   "metadata": {},
   "source": [
    "Joine die importierten statistischen Daten des aktuellen Jahres zum Geodatensatz:\n",
    "\n",
    "*Siehe dazu Doku zu [Geopandas](https://geopandas.org/docs/user_guide/mergingdata.html)*"
   ]
  },
  {
   "cell_type": "code",
   "execution_count": 154,
   "metadata": {},
   "outputs": [
    {
     "data": {
      "text/html": [
       "<div>\n",
       "<style scoped>\n",
       "    .dataframe tbody tr th:only-of-type {\n",
       "        vertical-align: middle;\n",
       "    }\n",
       "\n",
       "    .dataframe tbody tr th {\n",
       "        vertical-align: top;\n",
       "    }\n",
       "\n",
       "    .dataframe thead th {\n",
       "        text-align: right;\n",
       "    }\n",
       "</style>\n",
       "<table border=\"1\" class=\"dataframe\">\n",
       "  <thead>\n",
       "    <tr style=\"text-align: right;\">\n",
       "      <th></th>\n",
       "      <th></th>\n",
       "      <th></th>\n",
       "      <th></th>\n",
       "      <th>AnzBestWir</th>\n",
       "    </tr>\n",
       "    <tr>\n",
       "      <th>StichtagDatJahr</th>\n",
       "      <th>StichtagDatMM</th>\n",
       "      <th>QuarCd</th>\n",
       "      <th>QuarLang</th>\n",
       "      <th></th>\n",
       "    </tr>\n",
       "  </thead>\n",
       "  <tbody>\n",
       "    <tr>\n",
       "      <th rowspan=\"5\" valign=\"top\">2021</th>\n",
       "      <th rowspan=\"5\" valign=\"top\">11</th>\n",
       "      <th>11</th>\n",
       "      <th>Rathaus</th>\n",
       "      <td>3283</td>\n",
       "    </tr>\n",
       "    <tr>\n",
       "      <th>12</th>\n",
       "      <th>Hochschulen</th>\n",
       "      <td>718</td>\n",
       "    </tr>\n",
       "    <tr>\n",
       "      <th>13</th>\n",
       "      <th>Lindenhof</th>\n",
       "      <td>1033</td>\n",
       "    </tr>\n",
       "    <tr>\n",
       "      <th>14</th>\n",
       "      <th>City</th>\n",
       "      <td>835</td>\n",
       "    </tr>\n",
       "    <tr>\n",
       "      <th>21</th>\n",
       "      <th>Wollishofen</th>\n",
       "      <td>20002</td>\n",
       "    </tr>\n",
       "  </tbody>\n",
       "</table>\n",
       "</div>"
      ],
      "text/plain": [
       "                                                  AnzBestWir\n",
       "StichtagDatJahr StichtagDatMM QuarCd QuarLang               \n",
       "2021            11            11     Rathaus            3283\n",
       "                              12     Hochschulen         718\n",
       "                              13     Lindenhof          1033\n",
       "                              14     City                835\n",
       "                              21     Wollishofen       20002"
      ]
     },
     "execution_count": 154,
     "metadata": {},
     "output_type": "execute_result"
    }
   ],
   "source": [
    "akt_wbev_quart = data2betested.loc[\"2021-11\"].groupby(\n",
    "    ['StichtagDatJahr','StichtagDatMM','QuarCd','QuarLang']\n",
    ").agg(\n",
    "    {'AnzBestWir':'sum'}\n",
    ")\n",
    "akt_wbev_quart.head()\n"
   ]
  },
  {
   "cell_type": "code",
   "execution_count": 158,
   "metadata": {},
   "outputs": [
    {
     "data": {
      "text/html": [
       "<div>\n",
       "<style scoped>\n",
       "    .dataframe tbody tr th:only-of-type {\n",
       "        vertical-align: middle;\n",
       "    }\n",
       "\n",
       "    .dataframe tbody tr th {\n",
       "        vertical-align: top;\n",
       "    }\n",
       "\n",
       "    .dataframe thead th {\n",
       "        text-align: right;\n",
       "    }\n",
       "</style>\n",
       "<table border=\"1\" class=\"dataframe\">\n",
       "  <thead>\n",
       "    <tr style=\"text-align: right;\">\n",
       "      <th></th>\n",
       "      <th>geometry</th>\n",
       "      <th>QuarCd</th>\n",
       "      <th>qname</th>\n",
       "      <th>knr</th>\n",
       "      <th>AnzBestWir</th>\n",
       "    </tr>\n",
       "  </thead>\n",
       "  <tbody>\n",
       "    <tr>\n",
       "      <th>0</th>\n",
       "      <td>POLYGON ((8.55670 47.36406, 8.55682 47.36410, ...</td>\n",
       "      <td>73</td>\n",
       "      <td>Hirslanden</td>\n",
       "      <td>7</td>\n",
       "      <td>7342</td>\n",
       "    </tr>\n",
       "    <tr>\n",
       "      <th>1</th>\n",
       "      <td>POLYGON ((8.55670 47.36405, 8.55672 47.36403, ...</td>\n",
       "      <td>83</td>\n",
       "      <td>Weinegg</td>\n",
       "      <td>8</td>\n",
       "      <td>5564</td>\n",
       "    </tr>\n",
       "  </tbody>\n",
       "</table>\n",
       "</div>"
      ],
      "text/plain": [
       "                                            geometry  QuarCd       qname  knr  AnzBestWir\n",
       "0  POLYGON ((8.55670 47.36406, 8.55682 47.36410, ...      73  Hirslanden    7        7342\n",
       "1  POLYGON ((8.55670 47.36405, 8.55672 47.36403, ...      83     Weinegg    8        5564"
      ]
     },
     "execution_count": 158,
     "metadata": {},
     "output_type": "execute_result"
    }
   ],
   "source": [
    "# Rename attribute stznr to StatZoneSort, so the IDs have the same name\n",
    "stadtquartiere_shapes = df_adm_statistische_quartiere_map[['geometry', 'qnr', 'qname', 'knr']].rename(columns={'qnr': 'QuarCd'})\n",
    "\n",
    "# Merge with `merge` method on shared variable (stznr und StatZoneSort):\n",
    "stadtquartiere_shapes_joined = stadtquartiere_shapes.merge(akt_wbev_quart, on='QuarCd')\n",
    "\n",
    "stadtquartiere_shapes_joined.head(2)\n"
   ]
  },
  {
   "cell_type": "code",
   "execution_count": 159,
   "metadata": {},
   "outputs": [
    {
     "data": {
      "text/plain": [
       "<AxesSubplot:>"
      ]
     },
     "execution_count": 159,
     "metadata": {},
     "output_type": "execute_result"
    },
    {
     "data": {
      "image/png": "[encoded data removed]",
      "text/plain": [
       "<Figure size 432x288 with 1 Axes>"
      ]
     },
     "metadata": {
      "needs_background": "light"
     },
     "output_type": "display_data"
    },
    {
     "data": {
      "image/png": "[encoded data removed]",
      "text/plain": [
       "<Figure size 432x288 with 1 Axes>"
      ]
     },
     "metadata": {
      "needs_background": "light"
     },
     "output_type": "display_data"
    },
    {
     "data": {
      "image/png": "[encoded data removed]",
      "text/plain": [
       "<Figure size 432x288 with 1 Axes>"
      ]
     },
     "metadata": {
      "needs_background": "light"
     },
     "output_type": "display_data"
    }
   ],
   "source": [
    "# Plot by StatQuartiere\n",
    "# Weitere Schemes: scheme='quantiles', scheme='fisherjenks', scheme='natural_breaks',\n",
    "\n",
    "stadtquartiere_shapes_joined.plot(column='AnzBestWir', cmap='viridis', scheme='natural_breaks', legend=True )\n",
    "#scheme werte: https://matplotlib.org/2.0.2/users/colormaps.html\n",
    "\n",
    "stadtquartiere_shapes_joined.plot(column='AnzBestWir', cmap='plasma', scheme='fisherjenks', legend=True )\n",
    "#scheme werte: https://matplotlib.org/2.0.2/users/colormaps.html\n",
    "stadtquartiere_shapes_joined.plot(column='AnzBestWir', cmap='cool', scheme='quantiles', legend=True )\n",
    "#scheme werte: https://matplotlib.org/2.0.2/users/colormaps.html\n",
    "\n",
    "#\n",
    "#Neuere Gallerie: https://matplotlib.org/stable/gallery/index.html"
   ]
  },
  {
   "cell_type": "raw",
   "metadata": {},
   "source": [
    "fig, ax = plt.subplots(1, 1)\n",
    "\n",
    "statzonen_shapes_aktJahr.plot(column='AnzWhg', ax=ax, legend=True, legend_kwds={'label': \"Anzahl Personen\",'orientation': \"horizontal\"})\n"
   ]
  },
  {
   "cell_type": "markdown",
   "metadata": {},
   "source": [
    "Noch zu prüfen, folgendes schöne Beispiel: https://docs.bokeh.org/en/latest/docs/user_guide/interaction/legends.html\n",
    "\n",
    "Konkrete Beispiele von Bookeh in Jupyter NB: https://docs.bokeh.org/en/latest/docs/user_guide/jupyter.html"
   ]
  },
  {
   "cell_type": "markdown",
   "metadata": {},
   "source": [
    "**Sharepoint als gecheckt markieren!**"
   ]
  },
  {
   "cell_type": "markdown",
   "metadata": {},
   "source": [
    "Record auf Sharepoint: **[Link](http://kollaboration.intranet.stzh.ch/orga/ssz-produkte/Lists/SASA_Outputs/EditForm.aspx?ID=157&Source=%2Forga%2Fssz%2Dprodukte%2FLists%2FSASA%5FOutputs)**"
   ]
  },
  {
   "cell_type": "code",
   "execution_count": null,
   "metadata": {},
   "outputs": [],
   "source": []
  },
  {
   "cell_type": "raw",
   "metadata": {},
   "source": []
  },
  {
   "cell_type": "code",
   "execution_count": null,
   "metadata": {},
   "outputs": [],
   "source": []
  }
 ],
 "metadata": {
  "kernelspec": {
   "display_name": "Python 3 (ipykernel)",
   "language": "python",
   "name": "python3"
  },
  "language_info": {
   "codemirror_mode": {
    "name": "ipython",
    "version": 3
   },
   "file_extension": ".py",
   "mimetype": "text/x-python",
   "name": "python",
   "nbconvert_exporter": "python",
   "pygments_lexer": "ipython3",
   "version": "3.9.7"
  }
 },
 "nbformat": 4,
 "nbformat_minor": 4
}
