{
 "cells": [
  {
   "cell_type": "markdown",
   "metadata": {},
   "source": [
    "# Testing\n",
    "## Geburten nach Monat, Stadtquartier, Geschlecht, Altersgruppe und Herkunft, seit 1998\n",
    "Datum: 21.01.2022"
   ]
  },
  {
   "cell_type": "markdown",
   "metadata": {},
   "source": [
    "### Importiere die notwendigen Packages"
   ]
  },
  {
   "cell_type": "code",
   "execution_count": 1,
   "metadata": {},
   "outputs": [],
   "source": [
    "import pandas as pd\n",
    "import pivottablejs\n",
    "from pivottablejs import pivot_ui\n",
    "import numpy as np\n",
    "import altair as alt\n",
    "import matplotlib.pyplot as plt\n",
    "#from datetime import datetime\n",
    "import datetime\n",
    "import geopandas as gpd\n",
    "import folium \n",
    "import plotly.express as px\n"
   ]
  },
  {
   "cell_type": "markdown",
   "metadata": {},
   "source": [
    "Definiere Settings. Hier das Zahlenformat von Float-Werten (z.B. *'{:,.2f}'.format* mit Komma als Tausenderzeichen), "
   ]
  },
  {
   "cell_type": "code",
   "execution_count": 2,
   "metadata": {},
   "outputs": [],
   "source": [
    "pd.options.display.float_format = '{:.0f}'.format\n",
    "pd.set_option('display.width', 100)\n",
    "pd.set_option('display.max_columns', 15)"
   ]
  },
  {
   "cell_type": "markdown",
   "metadata": {},
   "source": [
    "### Zeitvariabeln\n",
    "Bestimme den aktuellst geladenen Monat. Hier ist es der Stand vor 2 Monaten. \n",
    "Bestimme noch weitere evt. sinnvolle Zeitvariabeln.\n",
    "\n",
    "Zum Unterschied zwischen import datetime und from datedtime import datetime, siehe https://stackoverflow.com/questions/15707532/import-datetime-v-s-from-datetime-import-datetime\n",
    "\n",
    "Zuerst die Zeitvariabeln als Strings"
   ]
  },
  {
   "cell_type": "code",
   "execution_count": 3,
   "metadata": {},
   "outputs": [],
   "source": [
    "#today_date = datetime.date.today()\n",
    "#date_time = datetime.datetime.strptime(date_time_string, '%Y-%m-%d %H:%M')\n",
    "now = datetime.date.today()\n",
    "date_today = now.strftime(\"%Y-%m-%d\")\n",
    "year_today = now.strftime(\"%Y\")\n",
    "month_today = now.strftime(\"%m\")\n",
    "day_today = now.strftime(\"%d\")\n"
   ]
  },
  {
   "cell_type": "markdown",
   "metadata": {},
   "source": [
    "Und hier noch die Zeitvariabeln als Integers:\n",
    "- `aktuellesJahr`\n",
    "- `aktuellerMonat`: Der gerade jetzt aktuelle Monat\n",
    "- `selectedMonat`: Der aktuellste Monat in den Daten. In der Regel zwei Monate her."
   ]
  },
  {
   "cell_type": "code",
   "execution_count": 4,
   "metadata": {},
   "outputs": [
    {
     "name": "stdout",
     "output_type": "stream",
     "text": [
      "2022 1 datenstand:  -1 time.struct_time(tm_year=2022, tm_mon=1, tm_mday=21, tm_hour=0, tm_min=0, tm_sec=0, tm_wday=4, tm_yday=21, tm_isdst=-1)\n"
     ]
    }
   ],
   "source": [
    "#now = datetime.now() \n",
    "int_times = now.timetuple()\n",
    "\n",
    "aktuellesJahr = int_times[0]\n",
    "aktuellerMonat = int_times[1]\n",
    "selectedMonat = int_times[1]-2\n",
    "\n",
    "print(aktuellesJahr, \n",
    "      aktuellerMonat,\n",
    "    'datenstand: ', selectedMonat,\n",
    "     int_times)\n"
   ]
  },
  {
   "cell_type": "markdown",
   "metadata": {},
   "source": [
    "Berechne die Variable Epoche um später das SAS-Datum in ein Unix-Datum umzuwandeln. Bei SAS beginnt die Epoche am 1.1.1960. Bei Unix am 1.1.1970.\n",
    "Diese Variable wird beim CSV-Import benötigt."
   ]
  },
  {
   "cell_type": "code",
   "execution_count": 5,
   "metadata": {},
   "outputs": [],
   "source": [
    "epoch = datetime.datetime(1960, 1, 1)"
   ]
  },
  {
   "cell_type": "markdown",
   "metadata": {
    "tags": []
   },
   "source": [
    "### Importiere einen Datensatz \n",
    "\n",
    "- Beachte dabei die Notation des Pfades...\n",
    "- Definiere mal aktuell noch keine weiteren Parameter beim Import"
   ]
  },
  {
   "cell_type": "markdown",
   "metadata": {},
   "source": [
    "**Dataset auf INTEG Datenkatalog**:  https://data.integ.stadt-zuerich.ch/dataset/int_dwh_bev_monat_geburten_quartier_geschl_ag_herkunft_od4030\n",
    "\n",
    "**Dataset auf PROD Datenkatalog**:  https://data.stadt-zuerich.ch/dataset/bev_monat_geburten_quartier_geschl_ag_herkunft_od4030"
   ]
  },
  {
   "cell_type": "code",
   "execution_count": 18,
   "metadata": {},
   "outputs": [
    {
     "name": "stdout",
     "output_type": "stream",
     "text": [
      "integ\n"
     ]
    }
   ],
   "source": [
    "#Die Datasets sind nur zum Testen auf INT-DWH-Dropzone. Wenn der Test vorbei ist, sind sie auf PROD. \n",
    "# Über den Status kann man einfach switchen\n",
    "\n",
    "status = \"integ\";\n",
    "print(status)"
   ]
  },
  {
   "cell_type": "code",
   "execution_count": 19,
   "metadata": {
    "tags": []
   },
   "outputs": [
    {
     "name": "stdout",
     "output_type": "stream",
     "text": [
      "//szh.loc/ssz/applikationen/OGD_Dropzone/INT_DWH/bev_monat_geburten_quartier_geschl_ag_herkunft_od4030/BEV403OD4030.csv\n"
     ]
    }
   ],
   "source": [
    "# Filepath\n",
    "if status == \"prod\":\n",
    "    #fp = r\"//szh.loc/ssz/applikationen/OGD_Dropzone/DWH/bev_monat_bestand_quartier_geschl_ag_herkunft_od3250/BEV325OD3250.csv\"\n",
    "    fp = r\"https://data.stadt-zuerich.ch/dataset/bev_monat_geburten_quartier_geschl_ag_herkunft_od4030/download/BEV403OD4030.csv\"\n",
    "else:\n",
    "    #fp = r\"//szh.loc/ssz/applikationen/OGD_Dropzone/INT_DWH/bev_tag_todesfaelle_quartier_geschl_ag_herkunft_od4211/BEV421OD4211.csv\" #tag todesfälle\n",
    "    #fp = r\"//szh.loc/ssz/applikationen/OGD_Dropzone/INT_DWH/bev_monat_todesfaelle_quartier_geschl_ag_herkunft_od4210/BEV421OD4210.csv\"    \n",
    "    fp = r\"//szh.loc/ssz/applikationen/OGD_Dropzone/INT_DWH/bev_monat_geburten_quartier_geschl_ag_herkunft_od4030/BEV403OD4030.csv\"\n",
    "    #fp = r\"//szh.loc/ssz/applikationen/OGD_Dropzone/INT_DWH/bev_monat_zuz_quartier_geschl_ag_herkunft_od3530/BEV353OD3530.csv\"    \n",
    "    #fp = r\"//szh.loc/ssz/applikationen/OGD_Dropzone/INT_DWH/bev_monat_wegz_quartier_geschl_ag_herkunft_od3540/BEV354OD3540.csv\"\n",
    "print(fp)"
   ]
  },
  {
   "cell_type": "markdown",
   "metadata": {},
   "source": [
    "Beachte, wie das SAS Datum (ohne Format) in ein UNIX Datum umgerechnet und als Datumsformat dargestellt wird! Siehe dazu `https://stackoverflow.com/questions/26923564/convert-sas-numeric-to-python-datetime`"
   ]
  },
  {
   "cell_type": "code",
   "execution_count": 20,
   "metadata": {},
   "outputs": [
    {
     "name": "stdout",
     "output_type": "stream",
     "text": [
      "done\n"
     ]
    }
   ],
   "source": [
    "# Read the data\n",
    "data2betested = pd.read_csv(\n",
    "    fp, \n",
    "    sep=',',\n",
    "    parse_dates=['StichtagDat'],\n",
    "    # KONVERTIERE DAS SAS DATUM IN EIN UNIXDATUM UND FORMATIERE ES\n",
    "    date_parser=lambda s: epoch + datetime.timedelta(days=int(s)),\n",
    "    low_memory=False    \n",
    "    )\n",
    "\n",
    "print('done')"
   ]
  },
  {
   "cell_type": "markdown",
   "metadata": {},
   "source": [
    "In der Folge ein paar erste Tests:"
   ]
  },
  {
   "cell_type": "markdown",
   "metadata": {},
   "source": [
    " - 1) Zeige eine kurze Vorschau der importierten Daten\n",
    " - 2) Weise die Datentypen aus\n",
    " - 3) Zeige die Shape (Umfang) des Datensatzes an"
   ]
  },
  {
   "cell_type": "code",
   "execution_count": 21,
   "metadata": {},
   "outputs": [
    {
     "data": {
      "text/html": [
       "<div>\n",
       "<style scoped>\n",
       "    .dataframe tbody tr th:only-of-type {\n",
       "        vertical-align: middle;\n",
       "    }\n",
       "\n",
       "    .dataframe tbody tr th {\n",
       "        vertical-align: top;\n",
       "    }\n",
       "\n",
       "    .dataframe thead th {\n",
       "        text-align: right;\n",
       "    }\n",
       "</style>\n",
       "<table border=\"1\" class=\"dataframe\">\n",
       "  <thead>\n",
       "    <tr style=\"text-align: right;\">\n",
       "      <th></th>\n",
       "      <th>EreignisDatJahr</th>\n",
       "      <th>EreignisDatMM</th>\n",
       "      <th>EreignisDatMonat</th>\n",
       "      <th>StichtagDat</th>\n",
       "      <th>SexCd</th>\n",
       "      <th>SexLang</th>\n",
       "      <th>HerkunftCd</th>\n",
       "      <th>HerkunftLang</th>\n",
       "      <th>KreisCd</th>\n",
       "      <th>KreisLang</th>\n",
       "      <th>QuarCd</th>\n",
       "      <th>QuarLang</th>\n",
       "      <th>DatenstandCd</th>\n",
       "      <th>DatenstandLang</th>\n",
       "      <th>AnzGebuWir</th>\n",
       "    </tr>\n",
       "  </thead>\n",
       "  <tbody>\n",
       "    <tr>\n",
       "      <th>0</th>\n",
       "      <td>1998</td>\n",
       "      <td>1</td>\n",
       "      <td>Januar</td>\n",
       "      <td>1998-01-31</td>\n",
       "      <td>1</td>\n",
       "      <td>männlich</td>\n",
       "      <td>1</td>\n",
       "      <td>Schweizer/in</td>\n",
       "      <td>2</td>\n",
       "      <td>Kreis 2</td>\n",
       "      <td>21</td>\n",
       "      <td>Wollishofen</td>\n",
       "      <td>V</td>\n",
       "      <td>Veröffentlicht</td>\n",
       "      <td>4</td>\n",
       "    </tr>\n",
       "    <tr>\n",
       "      <th>1</th>\n",
       "      <td>1998</td>\n",
       "      <td>1</td>\n",
       "      <td>Januar</td>\n",
       "      <td>1998-01-31</td>\n",
       "      <td>1</td>\n",
       "      <td>männlich</td>\n",
       "      <td>1</td>\n",
       "      <td>Schweizer/in</td>\n",
       "      <td>2</td>\n",
       "      <td>Kreis 2</td>\n",
       "      <td>24</td>\n",
       "      <td>Enge</td>\n",
       "      <td>V</td>\n",
       "      <td>Veröffentlicht</td>\n",
       "      <td>2</td>\n",
       "    </tr>\n",
       "    <tr>\n",
       "      <th>2</th>\n",
       "      <td>1998</td>\n",
       "      <td>1</td>\n",
       "      <td>Januar</td>\n",
       "      <td>1998-01-31</td>\n",
       "      <td>1</td>\n",
       "      <td>männlich</td>\n",
       "      <td>1</td>\n",
       "      <td>Schweizer/in</td>\n",
       "      <td>3</td>\n",
       "      <td>Kreis 3</td>\n",
       "      <td>31</td>\n",
       "      <td>Alt-Wiedikon</td>\n",
       "      <td>V</td>\n",
       "      <td>Veröffentlicht</td>\n",
       "      <td>6</td>\n",
       "    </tr>\n",
       "    <tr>\n",
       "      <th>3</th>\n",
       "      <td>1998</td>\n",
       "      <td>1</td>\n",
       "      <td>Januar</td>\n",
       "      <td>1998-01-31</td>\n",
       "      <td>1</td>\n",
       "      <td>männlich</td>\n",
       "      <td>1</td>\n",
       "      <td>Schweizer/in</td>\n",
       "      <td>3</td>\n",
       "      <td>Kreis 3</td>\n",
       "      <td>33</td>\n",
       "      <td>Friesenberg</td>\n",
       "      <td>V</td>\n",
       "      <td>Veröffentlicht</td>\n",
       "      <td>4</td>\n",
       "    </tr>\n",
       "    <tr>\n",
       "      <th>4</th>\n",
       "      <td>1998</td>\n",
       "      <td>1</td>\n",
       "      <td>Januar</td>\n",
       "      <td>1998-01-31</td>\n",
       "      <td>1</td>\n",
       "      <td>männlich</td>\n",
       "      <td>1</td>\n",
       "      <td>Schweizer/in</td>\n",
       "      <td>3</td>\n",
       "      <td>Kreis 3</td>\n",
       "      <td>34</td>\n",
       "      <td>Sihlfeld</td>\n",
       "      <td>V</td>\n",
       "      <td>Veröffentlicht</td>\n",
       "      <td>5</td>\n",
       "    </tr>\n",
       "    <tr>\n",
       "      <th>5</th>\n",
       "      <td>1998</td>\n",
       "      <td>1</td>\n",
       "      <td>Januar</td>\n",
       "      <td>1998-01-31</td>\n",
       "      <td>1</td>\n",
       "      <td>männlich</td>\n",
       "      <td>1</td>\n",
       "      <td>Schweizer/in</td>\n",
       "      <td>4</td>\n",
       "      <td>Kreis 4</td>\n",
       "      <td>41</td>\n",
       "      <td>Werd</td>\n",
       "      <td>V</td>\n",
       "      <td>Veröffentlicht</td>\n",
       "      <td>1</td>\n",
       "    </tr>\n",
       "  </tbody>\n",
       "</table>\n",
       "</div>"
      ],
      "text/plain": [
       "   EreignisDatJahr  EreignisDatMM EreignisDatMonat StichtagDat  SexCd   SexLang  HerkunftCd  \\\n",
       "0             1998              1           Januar  1998-01-31      1  männlich           1   \n",
       "1             1998              1           Januar  1998-01-31      1  männlich           1   \n",
       "2             1998              1           Januar  1998-01-31      1  männlich           1   \n",
       "3             1998              1           Januar  1998-01-31      1  männlich           1   \n",
       "4             1998              1           Januar  1998-01-31      1  männlich           1   \n",
       "5             1998              1           Januar  1998-01-31      1  männlich           1   \n",
       "\n",
       "   HerkunftLang  KreisCd KreisLang  QuarCd      QuarLang DatenstandCd  DatenstandLang  AnzGebuWir  \n",
       "0  Schweizer/in        2   Kreis 2      21   Wollishofen            V  Veröffentlicht           4  \n",
       "1  Schweizer/in        2   Kreis 2      24          Enge            V  Veröffentlicht           2  \n",
       "2  Schweizer/in        3   Kreis 3      31  Alt-Wiedikon            V  Veröffentlicht           6  \n",
       "3  Schweizer/in        3   Kreis 3      33   Friesenberg            V  Veröffentlicht           4  \n",
       "4  Schweizer/in        3   Kreis 3      34      Sihlfeld            V  Veröffentlicht           5  \n",
       "5  Schweizer/in        4   Kreis 4      41          Werd            V  Veröffentlicht           1  "
      ]
     },
     "execution_count": 21,
     "metadata": {},
     "output_type": "execute_result"
    }
   ],
   "source": [
    "#data2betested.sort_values(by=['EreignisDatJahr','EreignisDatMM'], ascending=False).head(3)\n",
    "data2betested.head(6)"
   ]
  },
  {
   "cell_type": "code",
   "execution_count": 23,
   "metadata": {},
   "outputs": [
    {
     "data": {
      "text/plain": [
       "EreignisDatJahr              int64\n",
       "EreignisDatMM                int64\n",
       "EreignisDatMonat            object\n",
       "StichtagDat         datetime64[ns]\n",
       "SexCd                        int64\n",
       "SexLang                     object\n",
       "HerkunftCd                   int64\n",
       "HerkunftLang                object\n",
       "KreisCd                      int64\n",
       "KreisLang                   object\n",
       "QuarCd                       int64\n",
       "QuarLang                    object\n",
       "DatenstandCd                object\n",
       "DatenstandLang              object\n",
       "AnzGebuWir                   int64\n",
       "dtype: object"
      ]
     },
     "execution_count": 23,
     "metadata": {},
     "output_type": "execute_result"
    }
   ],
   "source": [
    "data2betested.dtypes"
   ]
  },
  {
   "cell_type": "code",
   "execution_count": 24,
   "metadata": {},
   "outputs": [
    {
     "data": {
      "text/plain": [
       "(29685, 15)"
      ]
     },
     "execution_count": 24,
     "metadata": {},
     "output_type": "execute_result"
    }
   ],
   "source": [
    "data2betested.shape"
   ]
  },
  {
   "cell_type": "markdown",
   "metadata": {},
   "source": [
    "Beschreibe einzelne Attribute"
   ]
  },
  {
   "cell_type": "code",
   "execution_count": 25,
   "metadata": {},
   "outputs": [
    {
     "data": {
      "text/html": [
       "<div>\n",
       "<style scoped>\n",
       "    .dataframe tbody tr th:only-of-type {\n",
       "        vertical-align: middle;\n",
       "    }\n",
       "\n",
       "    .dataframe tbody tr th {\n",
       "        vertical-align: top;\n",
       "    }\n",
       "\n",
       "    .dataframe thead th {\n",
       "        text-align: right;\n",
       "    }\n",
       "</style>\n",
       "<table border=\"1\" class=\"dataframe\">\n",
       "  <thead>\n",
       "    <tr style=\"text-align: right;\">\n",
       "      <th></th>\n",
       "      <th>EreignisDatJahr</th>\n",
       "      <th>EreignisDatMM</th>\n",
       "      <th>SexCd</th>\n",
       "      <th>HerkunftCd</th>\n",
       "      <th>KreisCd</th>\n",
       "      <th>QuarCd</th>\n",
       "      <th>AnzGebuWir</th>\n",
       "    </tr>\n",
       "  </thead>\n",
       "  <tbody>\n",
       "    <tr>\n",
       "      <th>count</th>\n",
       "      <td>29685</td>\n",
       "      <td>29685</td>\n",
       "      <td>29685</td>\n",
       "      <td>29685</td>\n",
       "      <td>29685</td>\n",
       "      <td>29685</td>\n",
       "      <td>29685</td>\n",
       "    </tr>\n",
       "    <tr>\n",
       "      <th>mean</th>\n",
       "      <td>2010</td>\n",
       "      <td>6</td>\n",
       "      <td>1</td>\n",
       "      <td>1</td>\n",
       "      <td>7</td>\n",
       "      <td>71</td>\n",
       "      <td>4</td>\n",
       "    </tr>\n",
       "    <tr>\n",
       "      <th>std</th>\n",
       "      <td>7</td>\n",
       "      <td>3</td>\n",
       "      <td>0</td>\n",
       "      <td>0</td>\n",
       "      <td>3</td>\n",
       "      <td>34</td>\n",
       "      <td>3</td>\n",
       "    </tr>\n",
       "    <tr>\n",
       "      <th>min</th>\n",
       "      <td>1998</td>\n",
       "      <td>1</td>\n",
       "      <td>1</td>\n",
       "      <td>1</td>\n",
       "      <td>1</td>\n",
       "      <td>11</td>\n",
       "      <td>1</td>\n",
       "    </tr>\n",
       "    <tr>\n",
       "      <th>25%</th>\n",
       "      <td>2004</td>\n",
       "      <td>3</td>\n",
       "      <td>1</td>\n",
       "      <td>1</td>\n",
       "      <td>4</td>\n",
       "      <td>42</td>\n",
       "      <td>2</td>\n",
       "    </tr>\n",
       "    <tr>\n",
       "      <th>50%</th>\n",
       "      <td>2010</td>\n",
       "      <td>6</td>\n",
       "      <td>1</td>\n",
       "      <td>1</td>\n",
       "      <td>7</td>\n",
       "      <td>72</td>\n",
       "      <td>3</td>\n",
       "    </tr>\n",
       "    <tr>\n",
       "      <th>75%</th>\n",
       "      <td>2016</td>\n",
       "      <td>9</td>\n",
       "      <td>2</td>\n",
       "      <td>2</td>\n",
       "      <td>10</td>\n",
       "      <td>102</td>\n",
       "      <td>5</td>\n",
       "    </tr>\n",
       "    <tr>\n",
       "      <th>max</th>\n",
       "      <td>2021</td>\n",
       "      <td>12</td>\n",
       "      <td>2</td>\n",
       "      <td>2</td>\n",
       "      <td>12</td>\n",
       "      <td>123</td>\n",
       "      <td>22</td>\n",
       "    </tr>\n",
       "  </tbody>\n",
       "</table>\n",
       "</div>"
      ],
      "text/plain": [
       "       EreignisDatJahr  EreignisDatMM  SexCd  HerkunftCd  KreisCd  QuarCd  AnzGebuWir\n",
       "count            29685          29685  29685       29685    29685   29685       29685\n",
       "mean              2010              6      1           1        7      71           4\n",
       "std                  7              3      0           0        3      34           3\n",
       "min               1998              1      1           1        1      11           1\n",
       "25%               2004              3      1           1        4      42           2\n",
       "50%               2010              6      1           1        7      72           3\n",
       "75%               2016              9      2           2       10     102           5\n",
       "max               2021             12      2           2       12     123          22"
      ]
     },
     "execution_count": 25,
     "metadata": {},
     "output_type": "execute_result"
    }
   ],
   "source": [
    "data2betested.describe()"
   ]
  },
  {
   "cell_type": "markdown",
   "metadata": {},
   "source": [
    "Wie viele Nullwerte gibt es im Datensatz?"
   ]
  },
  {
   "cell_type": "code",
   "execution_count": 26,
   "metadata": {
    "scrolled": true
   },
   "outputs": [
    {
     "data": {
      "text/plain": [
       "EreignisDatJahr     0\n",
       "EreignisDatMM       0\n",
       "EreignisDatMonat    0\n",
       "StichtagDat         0\n",
       "SexCd               0\n",
       "SexLang             0\n",
       "HerkunftCd          0\n",
       "HerkunftLang        0\n",
       "KreisCd             0\n",
       "KreisLang           0\n",
       "QuarCd              0\n",
       "QuarLang            0\n",
       "DatenstandCd        0\n",
       "DatenstandLang      0\n",
       "AnzGebuWir          0\n",
       "dtype: int64"
      ]
     },
     "execution_count": 26,
     "metadata": {},
     "output_type": "execute_result"
    }
   ],
   "source": [
    "data2betested.isnull().sum()"
   ]
  },
  {
   "cell_type": "markdown",
   "metadata": {
    "colab_type": "text",
    "id": "1dTPVmmsgOVx"
   },
   "source": [
    "### Verwende das Datum als Index\n",
    "\n",
    "While we did already parse the `datetime` column into the respective datetime type, it currently is just a regular column. \n",
    "**To enable quick and convenient queries and aggregations, we need to turn it into the index of the DataFrame**"
   ]
  },
  {
   "cell_type": "code",
   "execution_count": 27,
   "metadata": {},
   "outputs": [],
   "source": [
    "data2betested = data2betested.set_index(\"StichtagDat\")\n",
    "#data2betested = data2betested.drop(columns=[\"StichtagDatMM\"])"
   ]
  },
  {
   "cell_type": "code",
   "execution_count": 28,
   "metadata": {},
   "outputs": [
    {
     "name": "stdout",
     "output_type": "stream",
     "text": [
      "<class 'pandas.core.frame.DataFrame'>\n",
      "DatetimeIndex: 29685 entries, 1998-01-31 to 2021-11-30\n",
      "Data columns (total 14 columns):\n",
      " #   Column            Non-Null Count  Dtype \n",
      "---  ------            --------------  ----- \n",
      " 0   EreignisDatJahr   29685 non-null  int64 \n",
      " 1   EreignisDatMM     29685 non-null  int64 \n",
      " 2   EreignisDatMonat  29685 non-null  object\n",
      " 3   SexCd             29685 non-null  int64 \n",
      " 4   SexLang           29685 non-null  object\n",
      " 5   HerkunftCd        29685 non-null  int64 \n",
      " 6   HerkunftLang      29685 non-null  object\n",
      " 7   KreisCd           29685 non-null  int64 \n",
      " 8   KreisLang         29685 non-null  object\n",
      " 9   QuarCd            29685 non-null  int64 \n",
      " 10  QuarLang          29685 non-null  object\n",
      " 11  DatenstandCd      29685 non-null  object\n",
      " 12  DatenstandLang    29685 non-null  object\n",
      " 13  AnzGebuWir        29685 non-null  int64 \n",
      "dtypes: int64(7), object(7)\n",
      "memory usage: 3.4+ MB\n"
     ]
    },
    {
     "data": {
      "text/plain": [
       "Int64Index([31, 28, 30, 29], dtype='int64', name='StichtagDat')"
      ]
     },
     "execution_count": 28,
     "metadata": {},
     "output_type": "execute_result"
    }
   ],
   "source": [
    "data2betested.info()\n",
    "data2betested.index.day.unique()"
   ]
  },
  {
   "cell_type": "markdown",
   "metadata": {},
   "source": [
    "### Einfache Visualisierungen zur Plausi"
   ]
  },
  {
   "cell_type": "markdown",
   "metadata": {},
   "source": [
    "Exploriere die Daten mit Pivottable.JS"
   ]
  },
  {
   "cell_type": "code",
   "execution_count": 33,
   "metadata": {},
   "outputs": [
    {
     "data": {
      "text/html": [
       "\n",
       "        <iframe\n",
       "            width=\"100%\"\n",
       "            height=\"500\"\n",
       "            src=\"pivottablejs.html\"\n",
       "            frameborder=\"0\"\n",
       "            allowfullscreen\n",
       "        ></iframe>\n",
       "        "
      ],
      "text/plain": [
       "<IPython.lib.display.IFrame at 0x1b81dd48130>"
      ]
     },
     "execution_count": 33,
     "metadata": {},
     "output_type": "execute_result"
    }
   ],
   "source": [
    "from pivottablejs import pivot_ui\n",
    "\n",
    "pivot_ui(data2betested)"
   ]
  },
  {
   "cell_type": "markdown",
   "metadata": {},
   "source": [
    "### Zeitpunkte und Zeiträume abfragen\n",
    "\n",
    "A particular powerful feature of the Pandas DataFrame is its indexing capability that also works using time-based entities, such as dates and times. We have already created the index above, so let's put it to use."
   ]
  },
  {
   "cell_type": "code",
   "execution_count": 29,
   "metadata": {},
   "outputs": [
    {
     "data": {
      "text/html": [
       "<div>\n",
       "<style scoped>\n",
       "    .dataframe tbody tr th:only-of-type {\n",
       "        vertical-align: middle;\n",
       "    }\n",
       "\n",
       "    .dataframe tbody tr th {\n",
       "        vertical-align: top;\n",
       "    }\n",
       "\n",
       "    .dataframe thead th {\n",
       "        text-align: right;\n",
       "    }\n",
       "</style>\n",
       "<table border=\"1\" class=\"dataframe\">\n",
       "  <thead>\n",
       "    <tr style=\"text-align: right;\">\n",
       "      <th></th>\n",
       "      <th>EreignisDatJahr</th>\n",
       "      <th>EreignisDatMM</th>\n",
       "      <th>EreignisDatMonat</th>\n",
       "      <th>SexCd</th>\n",
       "      <th>SexLang</th>\n",
       "      <th>HerkunftCd</th>\n",
       "      <th>HerkunftLang</th>\n",
       "      <th>KreisCd</th>\n",
       "      <th>KreisLang</th>\n",
       "      <th>QuarCd</th>\n",
       "      <th>QuarLang</th>\n",
       "      <th>DatenstandCd</th>\n",
       "      <th>DatenstandLang</th>\n",
       "      <th>AnzGebuWir</th>\n",
       "    </tr>\n",
       "    <tr>\n",
       "      <th>StichtagDat</th>\n",
       "      <th></th>\n",
       "      <th></th>\n",
       "      <th></th>\n",
       "      <th></th>\n",
       "      <th></th>\n",
       "      <th></th>\n",
       "      <th></th>\n",
       "      <th></th>\n",
       "      <th></th>\n",
       "      <th></th>\n",
       "      <th></th>\n",
       "      <th></th>\n",
       "      <th></th>\n",
       "      <th></th>\n",
       "    </tr>\n",
       "  </thead>\n",
       "  <tbody>\n",
       "    <tr>\n",
       "      <th>2021-11-30</th>\n",
       "      <td>2021</td>\n",
       "      <td>11</td>\n",
       "      <td>November</td>\n",
       "      <td>1</td>\n",
       "      <td>männlich</td>\n",
       "      <td>1</td>\n",
       "      <td>Schweizer/in</td>\n",
       "      <td>1</td>\n",
       "      <td>Kreis 1</td>\n",
       "      <td>11</td>\n",
       "      <td>Rathaus</td>\n",
       "      <td>P</td>\n",
       "      <td>Provisorisch</td>\n",
       "      <td>1</td>\n",
       "    </tr>\n",
       "    <tr>\n",
       "      <th>2021-11-30</th>\n",
       "      <td>2021</td>\n",
       "      <td>11</td>\n",
       "      <td>November</td>\n",
       "      <td>1</td>\n",
       "      <td>männlich</td>\n",
       "      <td>1</td>\n",
       "      <td>Schweizer/in</td>\n",
       "      <td>2</td>\n",
       "      <td>Kreis 2</td>\n",
       "      <td>21</td>\n",
       "      <td>Wollishofen</td>\n",
       "      <td>P</td>\n",
       "      <td>Provisorisch</td>\n",
       "      <td>5</td>\n",
       "    </tr>\n",
       "    <tr>\n",
       "      <th>2021-11-30</th>\n",
       "      <td>2021</td>\n",
       "      <td>11</td>\n",
       "      <td>November</td>\n",
       "      <td>1</td>\n",
       "      <td>männlich</td>\n",
       "      <td>1</td>\n",
       "      <td>Schweizer/in</td>\n",
       "      <td>2</td>\n",
       "      <td>Kreis 2</td>\n",
       "      <td>23</td>\n",
       "      <td>Leimbach</td>\n",
       "      <td>P</td>\n",
       "      <td>Provisorisch</td>\n",
       "      <td>4</td>\n",
       "    </tr>\n",
       "    <tr>\n",
       "      <th>2021-11-30</th>\n",
       "      <td>2021</td>\n",
       "      <td>11</td>\n",
       "      <td>November</td>\n",
       "      <td>1</td>\n",
       "      <td>männlich</td>\n",
       "      <td>1</td>\n",
       "      <td>Schweizer/in</td>\n",
       "      <td>2</td>\n",
       "      <td>Kreis 2</td>\n",
       "      <td>24</td>\n",
       "      <td>Enge</td>\n",
       "      <td>P</td>\n",
       "      <td>Provisorisch</td>\n",
       "      <td>4</td>\n",
       "    </tr>\n",
       "  </tbody>\n",
       "</table>\n",
       "</div>"
      ],
      "text/plain": [
       "             EreignisDatJahr  EreignisDatMM EreignisDatMonat  SexCd   SexLang  HerkunftCd  \\\n",
       "StichtagDat                                                                                 \n",
       "2021-11-30              2021             11         November      1  männlich           1   \n",
       "2021-11-30              2021             11         November      1  männlich           1   \n",
       "2021-11-30              2021             11         November      1  männlich           1   \n",
       "2021-11-30              2021             11         November      1  männlich           1   \n",
       "\n",
       "             HerkunftLang  KreisCd KreisLang  QuarCd     QuarLang DatenstandCd DatenstandLang  \\\n",
       "StichtagDat                                                                                     \n",
       "2021-11-30   Schweizer/in        1   Kreis 1      11      Rathaus            P   Provisorisch   \n",
       "2021-11-30   Schweizer/in        2   Kreis 2      21  Wollishofen            P   Provisorisch   \n",
       "2021-11-30   Schweizer/in        2   Kreis 2      23     Leimbach            P   Provisorisch   \n",
       "2021-11-30   Schweizer/in        2   Kreis 2      24         Enge            P   Provisorisch   \n",
       "\n",
       "             AnzGebuWir  \n",
       "StichtagDat              \n",
       "2021-11-30            1  \n",
       "2021-11-30            5  \n",
       "2021-11-30            4  \n",
       "2021-11-30            4  "
      ]
     },
     "execution_count": 29,
     "metadata": {},
     "output_type": "execute_result"
    }
   ],
   "source": [
    "data2betested.loc[\"2021-11\"].head(4)\n",
    "#data2betested.loc[\"2021-10-31\":\"2021-11-30\"].head(2)"
   ]
  },
  {
   "cell_type": "markdown",
   "metadata": {},
   "source": [
    "### Aggriere Werte nach Zeitausschnitten\n",
    "\n",
    "Mit den Funktionen zur Zeit kann einfach zwischen Stunden, Tagen, Monaten, etc. gewechselt und aggregiert werden.\n",
    "Da die Daten bereits aggregiert nach Monaten sind, macht das hier keinen Sinn.\n",
    "Untenstehendes also nur als BSP\n"
   ]
  },
  {
   "cell_type": "code",
   "execution_count": 31,
   "metadata": {},
   "outputs": [
    {
     "data": {
      "text/html": [
       "<div>\n",
       "<style scoped>\n",
       "    .dataframe tbody tr th:only-of-type {\n",
       "        vertical-align: middle;\n",
       "    }\n",
       "\n",
       "    .dataframe tbody tr th {\n",
       "        vertical-align: top;\n",
       "    }\n",
       "\n",
       "    .dataframe thead th {\n",
       "        text-align: right;\n",
       "    }\n",
       "</style>\n",
       "<table border=\"1\" class=\"dataframe\">\n",
       "  <thead>\n",
       "    <tr style=\"text-align: right;\">\n",
       "      <th></th>\n",
       "      <th>SexCd</th>\n",
       "      <th>HerkunftCd</th>\n",
       "      <th>AnzGebuWir</th>\n",
       "    </tr>\n",
       "    <tr>\n",
       "      <th>StichtagDat</th>\n",
       "      <th></th>\n",
       "      <th></th>\n",
       "      <th></th>\n",
       "    </tr>\n",
       "  </thead>\n",
       "  <tbody>\n",
       "    <tr>\n",
       "      <th>1998-03-31</th>\n",
       "      <td>434</td>\n",
       "      <td>415</td>\n",
       "      <td>906</td>\n",
       "    </tr>\n",
       "  </tbody>\n",
       "</table>\n",
       "</div>"
      ],
      "text/plain": [
       "             SexCd  HerkunftCd  AnzGebuWir\n",
       "StichtagDat                               \n",
       "1998-03-31     434         415         906"
      ]
     },
     "execution_count": 31,
     "metadata": {},
     "output_type": "execute_result"
    }
   ],
   "source": [
    "# first we create the sums per week\n",
    "weekly_sums = data2betested.resample(\"W\").sum()\n",
    "# then we generate the weekly means for each quarter\n",
    "data2betested_sel = data2betested[[\"SexCd\",\"HerkunftCd\",\"AnzGebuWir\"]]\n",
    "quarterly_sums = data2betested_sel.resample(\"Q\").sum()\n",
    "# for readability we'll revert the values back to integers\n",
    "quarterly_sums.astype(int).head(1)"
   ]
  },
  {
   "cell_type": "markdown",
   "metadata": {},
   "source": [
    "### Visualisierungen nach Zeitausschnitten"
   ]
  },
  {
   "cell_type": "code",
   "execution_count": 32,
   "metadata": {},
   "outputs": [
    {
     "name": "stdout",
     "output_type": "stream",
     "text": [
      "<class 'pandas.core.frame.DataFrame'>\n",
      "DatetimeIndex: 29685 entries, 1998-01-31 to 2021-11-30\n",
      "Data columns (total 14 columns):\n",
      " #   Column            Non-Null Count  Dtype \n",
      "---  ------            --------------  ----- \n",
      " 0   EreignisDatJahr   29685 non-null  int64 \n",
      " 1   EreignisDatMM     29685 non-null  int64 \n",
      " 2   EreignisDatMonat  29685 non-null  object\n",
      " 3   SexCd             29685 non-null  int64 \n",
      " 4   SexLang           29685 non-null  object\n",
      " 5   HerkunftCd        29685 non-null  int64 \n",
      " 6   HerkunftLang      29685 non-null  object\n",
      " 7   KreisCd           29685 non-null  int64 \n",
      " 8   KreisLang         29685 non-null  object\n",
      " 9   QuarCd            29685 non-null  int64 \n",
      " 10  QuarLang          29685 non-null  object\n",
      " 11  DatenstandCd      29685 non-null  object\n",
      " 12  DatenstandLang    29685 non-null  object\n",
      " 13  AnzGebuWir        29685 non-null  int64 \n",
      "dtypes: int64(7), object(7)\n",
      "memory usage: 3.4+ MB\n"
     ]
    }
   ],
   "source": [
    "data2betested.info()\n",
    "#data2betested"
   ]
  },
  {
   "cell_type": "markdown",
   "metadata": {},
   "source": [
    "#### Entwicklung Wohnbevölkerung nach Stadtkreis"
   ]
  },
  {
   "cell_type": "code",
   "execution_count": 33,
   "metadata": {},
   "outputs": [
    {
     "data": {
      "text/html": [
       "<div>\n",
       "<style scoped>\n",
       "    .dataframe tbody tr th:only-of-type {\n",
       "        vertical-align: middle;\n",
       "    }\n",
       "\n",
       "    .dataframe tbody tr th {\n",
       "        vertical-align: top;\n",
       "    }\n",
       "\n",
       "    .dataframe thead th {\n",
       "        text-align: right;\n",
       "    }\n",
       "</style>\n",
       "<table border=\"1\" class=\"dataframe\">\n",
       "  <thead>\n",
       "    <tr style=\"text-align: right;\">\n",
       "      <th></th>\n",
       "      <th>StichtagDat</th>\n",
       "      <th>EreignisDatJahr</th>\n",
       "      <th>EreignisDatMM</th>\n",
       "      <th>KreisLang</th>\n",
       "      <th>sum_WBev</th>\n",
       "    </tr>\n",
       "  </thead>\n",
       "  <tbody>\n",
       "    <tr>\n",
       "      <th>0</th>\n",
       "      <td>1998-01-31</td>\n",
       "      <td>1998</td>\n",
       "      <td>1</td>\n",
       "      <td>Kreis 1</td>\n",
       "      <td>2</td>\n",
       "    </tr>\n",
       "    <tr>\n",
       "      <th>1</th>\n",
       "      <td>1998-01-31</td>\n",
       "      <td>1998</td>\n",
       "      <td>1</td>\n",
       "      <td>Kreis 9</td>\n",
       "      <td>40</td>\n",
       "    </tr>\n",
       "    <tr>\n",
       "      <th>2</th>\n",
       "      <td>1998-01-31</td>\n",
       "      <td>1998</td>\n",
       "      <td>1</td>\n",
       "      <td>Kreis 8</td>\n",
       "      <td>14</td>\n",
       "    </tr>\n",
       "  </tbody>\n",
       "</table>\n",
       "</div>"
      ],
      "text/plain": [
       "  StichtagDat  EreignisDatJahr  EreignisDatMM KreisLang  sum_WBev\n",
       "0  1998-01-31             1998              1   Kreis 1         2\n",
       "1  1998-01-31             1998              1   Kreis 9        40\n",
       "2  1998-01-31             1998              1   Kreis 8        14"
      ]
     },
     "execution_count": 33,
     "metadata": {},
     "output_type": "execute_result"
    }
   ],
   "source": [
    "#myAgg = data2betested.loc[\"2008-11-30\":\"2021-10-31\"]\n",
    "myAgg = data2betested \\\n",
    "    .groupby(['StichtagDat','EreignisDatJahr', 'EreignisDatMM','KreisLang']) \\\n",
    "    .agg(sum_WBev=('AnzGebuWir', 'sum')) \\\n",
    "    .sort_values('StichtagDat', ascending=True) \n",
    "\n",
    "myAgg.reset_index().head(3)"
   ]
  },
  {
   "cell_type": "code",
   "execution_count": 35,
   "metadata": {},
   "outputs": [
    {
     "data": {
      "text/html": [
       "\n",
       "<div id=\"altair-viz-f3f7dcbddbec4d4b82ab8311ff41fa9f\"></div>\n",
       "<script type=\"text/javascript\">\n",
       "  (function(spec, embedOpt){\n",
       "    let outputDiv = document.currentScript.previousElementSibling;\n",
       "    if (outputDiv.id !== \"altair-viz-f3f7dcbddbec4d4b82ab8311ff41fa9f\") {\n",
       "      outputDiv = document.getElementById(\"altair-viz-f3f7dcbddbec4d4b82ab8311ff41fa9f\");\n",
       "    }\n",
       "    const paths = {\n",
       "      \"vega\": \"https://cdn.jsdelivr.net/npm//vega@5?noext\",\n",
       "      \"vega-lib\": \"https://cdn.jsdelivr.net/npm//vega-lib?noext\",\n",
       "      \"vega-lite\": \"https://cdn.jsdelivr.net/npm//vega-lite@4.8.1?noext\",\n",
       "      \"vega-embed\": \"https://cdn.jsdelivr.net/npm//vega-embed@6?noext\",\n",
       "    };\n",
       "\n",
       "    function loadScript(lib) {\n",
       "      return new Promise(function(resolve, reject) {\n",
       "        var s = document.createElement('script');\n",
       "        s.src = paths[lib];\n",
       "        s.async = true;\n",
       "        s.onload = () => resolve(paths[lib]);\n",
       "        s.onerror = () => reject(`Error loading script: ${paths[lib]}`);\n",
       "        document.getElementsByTagName(\"head\")[0].appendChild(s);\n",
       "      });\n",
       "    }\n",
       "\n",
       "    function showError(err) {\n",
       "      outputDiv.innerHTML = `<div class=\"error\" style=\"color:red;\">${err}</div>`;\n",
       "      throw err;\n",
       "    }\n",
       "\n",
       "    function displayChart(vegaEmbed) {\n",
       "      vegaEmbed(outputDiv, spec, embedOpt)\n",
       "        .catch(err => showError(`Javascript Error: ${err.message}<br>This usually means there's a typo in your chart specification. See the javascript console for the full traceback.`));\n",
       "    }\n",
       "\n",
       "    if(typeof define === \"function\" && define.amd) {\n",
       "      requirejs.config({paths});\n",
       "      require([\"vega-embed\"], displayChart, err => showError(`Error loading script: ${err.message}`));\n",
       "    } else if (typeof vegaEmbed === \"function\") {\n",
       "      displayChart(vegaEmbed);\n",
       "    } else {\n",
       "      loadScript(\"vega\")\n",
       "        .then(() => loadScript(\"vega-lite\"))\n",
       "        .then(() => loadScript(\"vega-embed\"))\n",
       "        .catch(showError)\n",
       "        .then(() => displayChart(vegaEmbed));\n",
       "    }\n",
       "  })({\"config\": {\"view\": {\"continuousWidth\": 400, \"continuousHeight\": 300}}, \"layer\": [{\"mark\": \"line\", \"encoding\": {\"color\": {\"type\": \"nominal\", \"field\": \"KreisLang\", \"legend\": {\"orient\": \"right\", \"title\": \"Stadtkreise\"}}, \"size\": {\"condition\": {\"value\": 0.5, \"selection\": {\"not\": \"selector003\"}}, \"value\": 4}, \"tooltip\": [{\"type\": \"temporal\", \"field\": \"StichtagDat\"}, {\"type\": \"nominal\", \"field\": \"KreisLang\"}, {\"type\": \"quantitative\", \"field\": \"sum_WBev\"}], \"x\": {\"type\": \"temporal\", \"axis\": {\"title\": \"Jahr\"}, \"field\": \"StichtagDat\"}, \"y\": {\"type\": \"quantitative\", \"axis\": {\"title\": \"Anz. Personen\"}, \"field\": \"sum_WBev\"}}, \"selection\": {\"selector004\": {\"type\": \"interval\", \"bind\": \"scales\", \"encodings\": [\"x\", \"y\"]}}, \"title\": \"Title\"}, {\"mark\": \"circle\", \"encoding\": {\"color\": {\"type\": \"nominal\", \"field\": \"KreisLang\", \"legend\": {\"orient\": \"right\", \"title\": \"Stadtkreise\"}}, \"opacity\": {\"value\": 0.75}, \"tooltip\": [{\"type\": \"temporal\", \"field\": \"StichtagDat\"}, {\"type\": \"nominal\", \"field\": \"KreisLang\"}, {\"type\": \"quantitative\", \"field\": \"sum_WBev\"}], \"x\": {\"type\": \"temporal\", \"axis\": {\"title\": \"Jahr\"}, \"field\": \"StichtagDat\"}, \"y\": {\"type\": \"quantitative\", \"axis\": {\"title\": \"Anz. Personen\"}, \"field\": \"sum_WBev\"}}, \"height\": 350, \"selection\": {\"selector003\": {\"type\": \"single\", \"on\": \"mouseover\", \"fields\": [\"KreisLang\"], \"nearest\": true}}, \"title\": \"Title\", \"width\": 900}], \"data\": {\"name\": \"data-81ca0927104b247282ac8f2cc455c483\"}, \"$schema\": \"https://vega.github.io/schema/vega-lite/v4.8.1.json\", \"datasets\": {\"data-81ca0927104b247282ac8f2cc455c483\": [{\"StichtagDat\": \"2019-11-30T00:00:00\", \"EreignisDatJahr\": 2019, \"EreignisDatMM\": 11, \"KreisLang\": \"Kreis 5\", \"sum_WBev\": 10}, {\"StichtagDat\": \"2019-11-30T00:00:00\", \"EreignisDatJahr\": 2019, \"EreignisDatMM\": 11, \"KreisLang\": \"Kreis 9\", \"sum_WBev\": 62}, {\"StichtagDat\": \"2019-11-30T00:00:00\", \"EreignisDatJahr\": 2019, \"EreignisDatMM\": 11, \"KreisLang\": \"Kreis 8\", \"sum_WBev\": 7}, {\"StichtagDat\": \"2019-11-30T00:00:00\", \"EreignisDatJahr\": 2019, \"EreignisDatMM\": 11, \"KreisLang\": \"Kreis 7\", \"sum_WBev\": 41}, {\"StichtagDat\": \"2019-11-30T00:00:00\", \"EreignisDatJahr\": 2019, \"EreignisDatMM\": 11, \"KreisLang\": \"Kreis 6\", \"sum_WBev\": 26}, {\"StichtagDat\": \"2019-11-30T00:00:00\", \"EreignisDatJahr\": 2019, \"EreignisDatMM\": 11, \"KreisLang\": \"Kreis 4\", \"sum_WBev\": 23}, {\"StichtagDat\": \"2019-11-30T00:00:00\", \"EreignisDatJahr\": 2019, \"EreignisDatMM\": 11, \"KreisLang\": \"Kreis 3\", \"sum_WBev\": 54}, {\"StichtagDat\": \"2019-11-30T00:00:00\", \"EreignisDatJahr\": 2019, \"EreignisDatMM\": 11, \"KreisLang\": \"Kreis 2\", \"sum_WBev\": 41}, {\"StichtagDat\": \"2019-11-30T00:00:00\", \"EreignisDatJahr\": 2019, \"EreignisDatMM\": 11, \"KreisLang\": \"Kreis 12\", \"sum_WBev\": 23}, {\"StichtagDat\": \"2019-11-30T00:00:00\", \"EreignisDatJahr\": 2019, \"EreignisDatMM\": 11, \"KreisLang\": \"Kreis 11\", \"sum_WBev\": 57}, {\"StichtagDat\": \"2019-11-30T00:00:00\", \"EreignisDatJahr\": 2019, \"EreignisDatMM\": 11, \"KreisLang\": \"Kreis 10\", \"sum_WBev\": 37}, {\"StichtagDat\": \"2019-11-30T00:00:00\", \"EreignisDatJahr\": 2019, \"EreignisDatMM\": 11, \"KreisLang\": \"Kreis 1\", \"sum_WBev\": 1}, {\"StichtagDat\": \"2019-12-31T00:00:00\", \"EreignisDatJahr\": 2019, \"EreignisDatMM\": 12, \"KreisLang\": \"Kreis 9\", \"sum_WBev\": 39}, {\"StichtagDat\": \"2019-12-31T00:00:00\", \"EreignisDatJahr\": 2019, \"EreignisDatMM\": 12, \"KreisLang\": \"Kreis 8\", \"sum_WBev\": 11}, {\"StichtagDat\": \"2019-12-31T00:00:00\", \"EreignisDatJahr\": 2019, \"EreignisDatMM\": 12, \"KreisLang\": \"Kreis 7\", \"sum_WBev\": 19}, {\"StichtagDat\": \"2019-12-31T00:00:00\", \"EreignisDatJahr\": 2019, \"EreignisDatMM\": 12, \"KreisLang\": \"Kreis 6\", \"sum_WBev\": 19}, {\"StichtagDat\": \"2019-12-31T00:00:00\", \"EreignisDatJahr\": 2019, \"EreignisDatMM\": 12, \"KreisLang\": \"Kreis 5\", \"sum_WBev\": 13}, {\"StichtagDat\": \"2019-12-31T00:00:00\", \"EreignisDatJahr\": 2019, \"EreignisDatMM\": 12, \"KreisLang\": \"Kreis 4\", \"sum_WBev\": 24}, {\"StichtagDat\": \"2019-12-31T00:00:00\", \"EreignisDatJahr\": 2019, \"EreignisDatMM\": 12, \"KreisLang\": \"Kreis 3\", \"sum_WBev\": 35}, {\"StichtagDat\": \"2019-12-31T00:00:00\", \"EreignisDatJahr\": 2019, \"EreignisDatMM\": 12, \"KreisLang\": \"Kreis 2\", \"sum_WBev\": 30}, {\"StichtagDat\": \"2019-12-31T00:00:00\", \"EreignisDatJahr\": 2019, \"EreignisDatMM\": 12, \"KreisLang\": \"Kreis 12\", \"sum_WBev\": 14}, {\"StichtagDat\": \"2019-12-31T00:00:00\", \"EreignisDatJahr\": 2019, \"EreignisDatMM\": 12, \"KreisLang\": \"Kreis 11\", \"sum_WBev\": 50}, {\"StichtagDat\": \"2019-12-31T00:00:00\", \"EreignisDatJahr\": 2019, \"EreignisDatMM\": 12, \"KreisLang\": \"Kreis 10\", \"sum_WBev\": 35}, {\"StichtagDat\": \"2019-12-31T00:00:00\", \"EreignisDatJahr\": 2019, \"EreignisDatMM\": 12, \"KreisLang\": \"Kreis 1\", \"sum_WBev\": 3}, {\"StichtagDat\": \"2020-01-31T00:00:00\", \"EreignisDatJahr\": 2020, \"EreignisDatMM\": 1, \"KreisLang\": \"Kreis 8\", \"sum_WBev\": 31}, {\"StichtagDat\": \"2020-01-31T00:00:00\", \"EreignisDatJahr\": 2020, \"EreignisDatMM\": 1, \"KreisLang\": \"Kreis 7\", \"sum_WBev\": 54}, {\"StichtagDat\": \"2020-01-31T00:00:00\", \"EreignisDatJahr\": 2020, \"EreignisDatMM\": 1, \"KreisLang\": \"Kreis 6\", \"sum_WBev\": 58}, {\"StichtagDat\": \"2020-01-31T00:00:00\", \"EreignisDatJahr\": 2020, \"EreignisDatMM\": 1, \"KreisLang\": \"Kreis 5\", \"sum_WBev\": 24}, {\"StichtagDat\": \"2020-01-31T00:00:00\", \"EreignisDatJahr\": 2020, \"EreignisDatMM\": 1, \"KreisLang\": \"Kreis 4\", \"sum_WBev\": 30}, {\"StichtagDat\": \"2020-01-31T00:00:00\", \"EreignisDatJahr\": 2020, \"EreignisDatMM\": 1, \"KreisLang\": \"Kreis 9\", \"sum_WBev\": 76}, {\"StichtagDat\": \"2020-01-31T00:00:00\", \"EreignisDatJahr\": 2020, \"EreignisDatMM\": 1, \"KreisLang\": \"Kreis 2\", \"sum_WBev\": 60}, {\"StichtagDat\": \"2020-01-31T00:00:00\", \"EreignisDatJahr\": 2020, \"EreignisDatMM\": 1, \"KreisLang\": \"Kreis 12\", \"sum_WBev\": 38}, {\"StichtagDat\": \"2020-01-31T00:00:00\", \"EreignisDatJahr\": 2020, \"EreignisDatMM\": 1, \"KreisLang\": \"Kreis 11\", \"sum_WBev\": 122}, {\"StichtagDat\": \"2020-01-31T00:00:00\", \"EreignisDatJahr\": 2020, \"EreignisDatMM\": 1, \"KreisLang\": \"Kreis 10\", \"sum_WBev\": 63}, {\"StichtagDat\": \"2020-01-31T00:00:00\", \"EreignisDatJahr\": 2020, \"EreignisDatMM\": 1, \"KreisLang\": \"Kreis 1\", \"sum_WBev\": 2}, {\"StichtagDat\": \"2020-01-31T00:00:00\", \"EreignisDatJahr\": 2020, \"EreignisDatMM\": 1, \"KreisLang\": \"Kreis 3\", \"sum_WBev\": 66}, {\"StichtagDat\": \"2020-02-29T00:00:00\", \"EreignisDatJahr\": 2020, \"EreignisDatMM\": 2, \"KreisLang\": \"Kreis 9\", \"sum_WBev\": 55}, {\"StichtagDat\": \"2020-02-29T00:00:00\", \"EreignisDatJahr\": 2020, \"EreignisDatMM\": 2, \"KreisLang\": \"Kreis 8\", \"sum_WBev\": 14}, {\"StichtagDat\": \"2020-02-29T00:00:00\", \"EreignisDatJahr\": 2020, \"EreignisDatMM\": 2, \"KreisLang\": \"Kreis 7\", \"sum_WBev\": 40}, {\"StichtagDat\": \"2020-02-29T00:00:00\", \"EreignisDatJahr\": 2020, \"EreignisDatMM\": 2, \"KreisLang\": \"Kreis 6\", \"sum_WBev\": 30}, {\"StichtagDat\": \"2020-02-29T00:00:00\", \"EreignisDatJahr\": 2020, \"EreignisDatMM\": 2, \"KreisLang\": \"Kreis 5\", \"sum_WBev\": 20}, {\"StichtagDat\": \"2020-02-29T00:00:00\", \"EreignisDatJahr\": 2020, \"EreignisDatMM\": 2, \"KreisLang\": \"Kreis 4\", \"sum_WBev\": 26}, {\"StichtagDat\": \"2020-02-29T00:00:00\", \"EreignisDatJahr\": 2020, \"EreignisDatMM\": 2, \"KreisLang\": \"Kreis 3\", \"sum_WBev\": 49}, {\"StichtagDat\": \"2020-02-29T00:00:00\", \"EreignisDatJahr\": 2020, \"EreignisDatMM\": 2, \"KreisLang\": \"Kreis 2\", \"sum_WBev\": 46}, {\"StichtagDat\": \"2020-02-29T00:00:00\", \"EreignisDatJahr\": 2020, \"EreignisDatMM\": 2, \"KreisLang\": \"Kreis 12\", \"sum_WBev\": 27}, {\"StichtagDat\": \"2020-02-29T00:00:00\", \"EreignisDatJahr\": 2020, \"EreignisDatMM\": 2, \"KreisLang\": \"Kreis 11\", \"sum_WBev\": 61}, {\"StichtagDat\": \"2020-02-29T00:00:00\", \"EreignisDatJahr\": 2020, \"EreignisDatMM\": 2, \"KreisLang\": \"Kreis 10\", \"sum_WBev\": 45}, {\"StichtagDat\": \"2020-02-29T00:00:00\", \"EreignisDatJahr\": 2020, \"EreignisDatMM\": 2, \"KreisLang\": \"Kreis 1\", \"sum_WBev\": 1}, {\"StichtagDat\": \"2020-03-31T00:00:00\", \"EreignisDatJahr\": 2020, \"EreignisDatMM\": 3, \"KreisLang\": \"Kreis 8\", \"sum_WBev\": 18}, {\"StichtagDat\": \"2020-03-31T00:00:00\", \"EreignisDatJahr\": 2020, \"EreignisDatMM\": 3, \"KreisLang\": \"Kreis 7\", \"sum_WBev\": 28}, {\"StichtagDat\": \"2020-03-31T00:00:00\", \"EreignisDatJahr\": 2020, \"EreignisDatMM\": 3, \"KreisLang\": \"Kreis 6\", \"sum_WBev\": 42}, {\"StichtagDat\": \"2020-03-31T00:00:00\", \"EreignisDatJahr\": 2020, \"EreignisDatMM\": 3, \"KreisLang\": \"Kreis 5\", \"sum_WBev\": 16}, {\"StichtagDat\": \"2020-03-31T00:00:00\", \"EreignisDatJahr\": 2020, \"EreignisDatMM\": 3, \"KreisLang\": \"Kreis 4\", \"sum_WBev\": 35}, {\"StichtagDat\": \"2020-03-31T00:00:00\", \"EreignisDatJahr\": 2020, \"EreignisDatMM\": 3, \"KreisLang\": \"Kreis 9\", \"sum_WBev\": 65}, {\"StichtagDat\": \"2020-03-31T00:00:00\", \"EreignisDatJahr\": 2020, \"EreignisDatMM\": 3, \"KreisLang\": \"Kreis 2\", \"sum_WBev\": 37}, {\"StichtagDat\": \"2020-03-31T00:00:00\", \"EreignisDatJahr\": 2020, \"EreignisDatMM\": 3, \"KreisLang\": \"Kreis 12\", \"sum_WBev\": 33}, {\"StichtagDat\": \"2020-03-31T00:00:00\", \"EreignisDatJahr\": 2020, \"EreignisDatMM\": 3, \"KreisLang\": \"Kreis 11\", \"sum_WBev\": 80}, {\"StichtagDat\": \"2020-03-31T00:00:00\", \"EreignisDatJahr\": 2020, \"EreignisDatMM\": 3, \"KreisLang\": \"Kreis 10\", \"sum_WBev\": 41}, {\"StichtagDat\": \"2020-03-31T00:00:00\", \"EreignisDatJahr\": 2020, \"EreignisDatMM\": 3, \"KreisLang\": \"Kreis 1\", \"sum_WBev\": 2}, {\"StichtagDat\": \"2020-03-31T00:00:00\", \"EreignisDatJahr\": 2020, \"EreignisDatMM\": 3, \"KreisLang\": \"Kreis 3\", \"sum_WBev\": 59}, {\"StichtagDat\": \"2020-04-30T00:00:00\", \"EreignisDatJahr\": 2020, \"EreignisDatMM\": 4, \"KreisLang\": \"Kreis 8\", \"sum_WBev\": 17}, {\"StichtagDat\": \"2020-04-30T00:00:00\", \"EreignisDatJahr\": 2020, \"EreignisDatMM\": 4, \"KreisLang\": \"Kreis 7\", \"sum_WBev\": 47}, {\"StichtagDat\": \"2020-04-30T00:00:00\", \"EreignisDatJahr\": 2020, \"EreignisDatMM\": 4, \"KreisLang\": \"Kreis 6\", \"sum_WBev\": 50}, {\"StichtagDat\": \"2020-04-30T00:00:00\", \"EreignisDatJahr\": 2020, \"EreignisDatMM\": 4, \"KreisLang\": \"Kreis 5\", \"sum_WBev\": 9}, {\"StichtagDat\": \"2020-04-30T00:00:00\", \"EreignisDatJahr\": 2020, \"EreignisDatMM\": 4, \"KreisLang\": \"Kreis 4\", \"sum_WBev\": 22}, {\"StichtagDat\": \"2020-04-30T00:00:00\", \"EreignisDatJahr\": 2020, \"EreignisDatMM\": 4, \"KreisLang\": \"Kreis 9\", \"sum_WBev\": 66}, {\"StichtagDat\": \"2020-04-30T00:00:00\", \"EreignisDatJahr\": 2020, \"EreignisDatMM\": 4, \"KreisLang\": \"Kreis 2\", \"sum_WBev\": 38}, {\"StichtagDat\": \"2020-04-30T00:00:00\", \"EreignisDatJahr\": 2020, \"EreignisDatMM\": 4, \"KreisLang\": \"Kreis 12\", \"sum_WBev\": 31}, {\"StichtagDat\": \"2020-04-30T00:00:00\", \"EreignisDatJahr\": 2020, \"EreignisDatMM\": 4, \"KreisLang\": \"Kreis 11\", \"sum_WBev\": 57}, {\"StichtagDat\": \"2020-04-30T00:00:00\", \"EreignisDatJahr\": 2020, \"EreignisDatMM\": 4, \"KreisLang\": \"Kreis 10\", \"sum_WBev\": 47}, {\"StichtagDat\": \"2020-04-30T00:00:00\", \"EreignisDatJahr\": 2020, \"EreignisDatMM\": 4, \"KreisLang\": \"Kreis 1\", \"sum_WBev\": 1}, {\"StichtagDat\": \"2020-04-30T00:00:00\", \"EreignisDatJahr\": 2020, \"EreignisDatMM\": 4, \"KreisLang\": \"Kreis 3\", \"sum_WBev\": 44}, {\"StichtagDat\": \"2020-05-31T00:00:00\", \"EreignisDatJahr\": 2020, \"EreignisDatMM\": 5, \"KreisLang\": \"Kreis 9\", \"sum_WBev\": 51}, {\"StichtagDat\": \"2020-05-31T00:00:00\", \"EreignisDatJahr\": 2020, \"EreignisDatMM\": 5, \"KreisLang\": \"Kreis 8\", \"sum_WBev\": 18}, {\"StichtagDat\": \"2020-05-31T00:00:00\", \"EreignisDatJahr\": 2020, \"EreignisDatMM\": 5, \"KreisLang\": \"Kreis 7\", \"sum_WBev\": 26}, {\"StichtagDat\": \"2020-05-31T00:00:00\", \"EreignisDatJahr\": 2020, \"EreignisDatMM\": 5, \"KreisLang\": \"Kreis 6\", \"sum_WBev\": 32}, {\"StichtagDat\": \"2020-05-31T00:00:00\", \"EreignisDatJahr\": 2020, \"EreignisDatMM\": 5, \"KreisLang\": \"Kreis 5\", \"sum_WBev\": 17}, {\"StichtagDat\": \"2020-05-31T00:00:00\", \"EreignisDatJahr\": 2020, \"EreignisDatMM\": 5, \"KreisLang\": \"Kreis 4\", \"sum_WBev\": 32}, {\"StichtagDat\": \"2020-05-31T00:00:00\", \"EreignisDatJahr\": 2020, \"EreignisDatMM\": 5, \"KreisLang\": \"Kreis 3\", \"sum_WBev\": 45}, {\"StichtagDat\": \"2020-05-31T00:00:00\", \"EreignisDatJahr\": 2020, \"EreignisDatMM\": 5, \"KreisLang\": \"Kreis 12\", \"sum_WBev\": 36}, {\"StichtagDat\": \"2020-05-31T00:00:00\", \"EreignisDatJahr\": 2020, \"EreignisDatMM\": 5, \"KreisLang\": \"Kreis 11\", \"sum_WBev\": 70}, {\"StichtagDat\": \"2020-05-31T00:00:00\", \"EreignisDatJahr\": 2020, \"EreignisDatMM\": 5, \"KreisLang\": \"Kreis 10\", \"sum_WBev\": 40}, {\"StichtagDat\": \"2020-05-31T00:00:00\", \"EreignisDatJahr\": 2020, \"EreignisDatMM\": 5, \"KreisLang\": \"Kreis 1\", \"sum_WBev\": 5}, {\"StichtagDat\": \"2020-05-31T00:00:00\", \"EreignisDatJahr\": 2020, \"EreignisDatMM\": 5, \"KreisLang\": \"Kreis 2\", \"sum_WBev\": 46}, {\"StichtagDat\": \"2020-06-30T00:00:00\", \"EreignisDatJahr\": 2020, \"EreignisDatMM\": 6, \"KreisLang\": \"Kreis 6\", \"sum_WBev\": 28}, {\"StichtagDat\": \"2020-06-30T00:00:00\", \"EreignisDatJahr\": 2020, \"EreignisDatMM\": 6, \"KreisLang\": \"Kreis 8\", \"sum_WBev\": 25}, {\"StichtagDat\": \"2020-06-30T00:00:00\", \"EreignisDatJahr\": 2020, \"EreignisDatMM\": 6, \"KreisLang\": \"Kreis 9\", \"sum_WBev\": 57}, {\"StichtagDat\": \"2020-06-30T00:00:00\", \"EreignisDatJahr\": 2020, \"EreignisDatMM\": 6, \"KreisLang\": \"Kreis 7\", \"sum_WBev\": 31}, {\"StichtagDat\": \"2020-06-30T00:00:00\", \"EreignisDatJahr\": 2020, \"EreignisDatMM\": 6, \"KreisLang\": \"Kreis 5\", \"sum_WBev\": 17}, {\"StichtagDat\": \"2020-06-30T00:00:00\", \"EreignisDatJahr\": 2020, \"EreignisDatMM\": 6, \"KreisLang\": \"Kreis 11\", \"sum_WBev\": 70}, {\"StichtagDat\": \"2020-06-30T00:00:00\", \"EreignisDatJahr\": 2020, \"EreignisDatMM\": 6, \"KreisLang\": \"Kreis 3\", \"sum_WBev\": 46}, {\"StichtagDat\": \"2020-06-30T00:00:00\", \"EreignisDatJahr\": 2020, \"EreignisDatMM\": 6, \"KreisLang\": \"Kreis 2\", \"sum_WBev\": 41}, {\"StichtagDat\": \"2020-06-30T00:00:00\", \"EreignisDatJahr\": 2020, \"EreignisDatMM\": 6, \"KreisLang\": \"Kreis 12\", \"sum_WBev\": 40}, {\"StichtagDat\": \"2020-06-30T00:00:00\", \"EreignisDatJahr\": 2020, \"EreignisDatMM\": 6, \"KreisLang\": \"Kreis 10\", \"sum_WBev\": 31}, {\"StichtagDat\": \"2020-06-30T00:00:00\", \"EreignisDatJahr\": 2020, \"EreignisDatMM\": 6, \"KreisLang\": \"Kreis 4\", \"sum_WBev\": 29}, {\"StichtagDat\": \"2020-07-31T00:00:00\", \"EreignisDatJahr\": 2020, \"EreignisDatMM\": 7, \"KreisLang\": \"Kreis 9\", \"sum_WBev\": 55}, {\"StichtagDat\": \"2020-07-31T00:00:00\", \"EreignisDatJahr\": 2020, \"EreignisDatMM\": 7, \"KreisLang\": \"Kreis 8\", \"sum_WBev\": 28}, {\"StichtagDat\": \"2020-07-31T00:00:00\", \"EreignisDatJahr\": 2020, \"EreignisDatMM\": 7, \"KreisLang\": \"Kreis 7\", \"sum_WBev\": 35}, {\"StichtagDat\": \"2020-07-31T00:00:00\", \"EreignisDatJahr\": 2020, \"EreignisDatMM\": 7, \"KreisLang\": \"Kreis 6\", \"sum_WBev\": 46}, {\"StichtagDat\": \"2020-07-31T00:00:00\", \"EreignisDatJahr\": 2020, \"EreignisDatMM\": 7, \"KreisLang\": \"Kreis 5\", \"sum_WBev\": 16}, {\"StichtagDat\": \"2020-07-31T00:00:00\", \"EreignisDatJahr\": 2020, \"EreignisDatMM\": 7, \"KreisLang\": \"Kreis 4\", \"sum_WBev\": 33}, {\"StichtagDat\": \"2020-07-31T00:00:00\", \"EreignisDatJahr\": 2020, \"EreignisDatMM\": 7, \"KreisLang\": \"Kreis 2\", \"sum_WBev\": 40}, {\"StichtagDat\": \"2020-07-31T00:00:00\", \"EreignisDatJahr\": 2020, \"EreignisDatMM\": 7, \"KreisLang\": \"Kreis 12\", \"sum_WBev\": 25}, {\"StichtagDat\": \"2020-07-31T00:00:00\", \"EreignisDatJahr\": 2020, \"EreignisDatMM\": 7, \"KreisLang\": \"Kreis 11\", \"sum_WBev\": 69}, {\"StichtagDat\": \"2020-07-31T00:00:00\", \"EreignisDatJahr\": 2020, \"EreignisDatMM\": 7, \"KreisLang\": \"Kreis 10\", \"sum_WBev\": 42}, {\"StichtagDat\": \"2020-07-31T00:00:00\", \"EreignisDatJahr\": 2020, \"EreignisDatMM\": 7, \"KreisLang\": \"Kreis 1\", \"sum_WBev\": 2}, {\"StichtagDat\": \"2020-07-31T00:00:00\", \"EreignisDatJahr\": 2020, \"EreignisDatMM\": 7, \"KreisLang\": \"Kreis 3\", \"sum_WBev\": 60}, {\"StichtagDat\": \"2020-08-31T00:00:00\", \"EreignisDatJahr\": 2020, \"EreignisDatMM\": 8, \"KreisLang\": \"Kreis 5\", \"sum_WBev\": 13}, {\"StichtagDat\": \"2020-08-31T00:00:00\", \"EreignisDatJahr\": 2020, \"EreignisDatMM\": 8, \"KreisLang\": \"Kreis 9\", \"sum_WBev\": 56}, {\"StichtagDat\": \"2020-08-31T00:00:00\", \"EreignisDatJahr\": 2020, \"EreignisDatMM\": 8, \"KreisLang\": \"Kreis 8\", \"sum_WBev\": 23}, {\"StichtagDat\": \"2020-08-31T00:00:00\", \"EreignisDatJahr\": 2020, \"EreignisDatMM\": 8, \"KreisLang\": \"Kreis 7\", \"sum_WBev\": 37}, {\"StichtagDat\": \"2020-08-31T00:00:00\", \"EreignisDatJahr\": 2020, \"EreignisDatMM\": 8, \"KreisLang\": \"Kreis 6\", \"sum_WBev\": 41}, {\"StichtagDat\": \"2020-08-31T00:00:00\", \"EreignisDatJahr\": 2020, \"EreignisDatMM\": 8, \"KreisLang\": \"Kreis 4\", \"sum_WBev\": 30}, {\"StichtagDat\": \"2020-08-31T00:00:00\", \"EreignisDatJahr\": 2020, \"EreignisDatMM\": 8, \"KreisLang\": \"Kreis 3\", \"sum_WBev\": 45}, {\"StichtagDat\": \"2020-08-31T00:00:00\", \"EreignisDatJahr\": 2020, \"EreignisDatMM\": 8, \"KreisLang\": \"Kreis 2\", \"sum_WBev\": 32}, {\"StichtagDat\": \"2020-08-31T00:00:00\", \"EreignisDatJahr\": 2020, \"EreignisDatMM\": 8, \"KreisLang\": \"Kreis 12\", \"sum_WBev\": 21}, {\"StichtagDat\": \"2020-08-31T00:00:00\", \"EreignisDatJahr\": 2020, \"EreignisDatMM\": 8, \"KreisLang\": \"Kreis 11\", \"sum_WBev\": 64}, {\"StichtagDat\": \"2020-08-31T00:00:00\", \"EreignisDatJahr\": 2020, \"EreignisDatMM\": 8, \"KreisLang\": \"Kreis 10\", \"sum_WBev\": 39}, {\"StichtagDat\": \"2020-08-31T00:00:00\", \"EreignisDatJahr\": 2020, \"EreignisDatMM\": 8, \"KreisLang\": \"Kreis 1\", \"sum_WBev\": 6}, {\"StichtagDat\": \"2020-09-30T00:00:00\", \"EreignisDatJahr\": 2020, \"EreignisDatMM\": 9, \"KreisLang\": \"Kreis 9\", \"sum_WBev\": 47}, {\"StichtagDat\": \"2020-09-30T00:00:00\", \"EreignisDatJahr\": 2020, \"EreignisDatMM\": 9, \"KreisLang\": \"Kreis 8\", \"sum_WBev\": 13}, {\"StichtagDat\": \"2020-09-30T00:00:00\", \"EreignisDatJahr\": 2020, \"EreignisDatMM\": 9, \"KreisLang\": \"Kreis 7\", \"sum_WBev\": 33}, {\"StichtagDat\": \"2020-09-30T00:00:00\", \"EreignisDatJahr\": 2020, \"EreignisDatMM\": 9, \"KreisLang\": \"Kreis 6\", \"sum_WBev\": 33}, {\"StichtagDat\": \"2020-09-30T00:00:00\", \"EreignisDatJahr\": 2020, \"EreignisDatMM\": 9, \"KreisLang\": \"Kreis 5\", \"sum_WBev\": 27}, {\"StichtagDat\": \"2020-09-30T00:00:00\", \"EreignisDatJahr\": 2020, \"EreignisDatMM\": 9, \"KreisLang\": \"Kreis 4\", \"sum_WBev\": 34}, {\"StichtagDat\": \"2020-09-30T00:00:00\", \"EreignisDatJahr\": 2020, \"EreignisDatMM\": 9, \"KreisLang\": \"Kreis 3\", \"sum_WBev\": 46}, {\"StichtagDat\": \"2020-09-30T00:00:00\", \"EreignisDatJahr\": 2020, \"EreignisDatMM\": 9, \"KreisLang\": \"Kreis 2\", \"sum_WBev\": 44}, {\"StichtagDat\": \"2020-09-30T00:00:00\", \"EreignisDatJahr\": 2020, \"EreignisDatMM\": 9, \"KreisLang\": \"Kreis 12\", \"sum_WBev\": 30}, {\"StichtagDat\": \"2020-09-30T00:00:00\", \"EreignisDatJahr\": 2020, \"EreignisDatMM\": 9, \"KreisLang\": \"Kreis 11\", \"sum_WBev\": 47}, {\"StichtagDat\": \"2020-09-30T00:00:00\", \"EreignisDatJahr\": 2020, \"EreignisDatMM\": 9, \"KreisLang\": \"Kreis 10\", \"sum_WBev\": 41}, {\"StichtagDat\": \"2020-09-30T00:00:00\", \"EreignisDatJahr\": 2020, \"EreignisDatMM\": 9, \"KreisLang\": \"Kreis 1\", \"sum_WBev\": 5}, {\"StichtagDat\": \"2020-10-31T00:00:00\", \"EreignisDatJahr\": 2020, \"EreignisDatMM\": 10, \"KreisLang\": \"Kreis 8\", \"sum_WBev\": 13}, {\"StichtagDat\": \"2020-10-31T00:00:00\", \"EreignisDatJahr\": 2020, \"EreignisDatMM\": 10, \"KreisLang\": \"Kreis 7\", \"sum_WBev\": 30}, {\"StichtagDat\": \"2020-10-31T00:00:00\", \"EreignisDatJahr\": 2020, \"EreignisDatMM\": 10, \"KreisLang\": \"Kreis 6\", \"sum_WBev\": 35}, {\"StichtagDat\": \"2020-10-31T00:00:00\", \"EreignisDatJahr\": 2020, \"EreignisDatMM\": 10, \"KreisLang\": \"Kreis 5\", \"sum_WBev\": 19}, {\"StichtagDat\": \"2020-10-31T00:00:00\", \"EreignisDatJahr\": 2020, \"EreignisDatMM\": 10, \"KreisLang\": \"Kreis 4\", \"sum_WBev\": 27}, {\"StichtagDat\": \"2020-10-31T00:00:00\", \"EreignisDatJahr\": 2020, \"EreignisDatMM\": 10, \"KreisLang\": \"Kreis 9\", \"sum_WBev\": 61}, {\"StichtagDat\": \"2020-10-31T00:00:00\", \"EreignisDatJahr\": 2020, \"EreignisDatMM\": 10, \"KreisLang\": \"Kreis 2\", \"sum_WBev\": 39}, {\"StichtagDat\": \"2020-10-31T00:00:00\", \"EreignisDatJahr\": 2020, \"EreignisDatMM\": 10, \"KreisLang\": \"Kreis 12\", \"sum_WBev\": 26}, {\"StichtagDat\": \"2020-10-31T00:00:00\", \"EreignisDatJahr\": 2020, \"EreignisDatMM\": 10, \"KreisLang\": \"Kreis 11\", \"sum_WBev\": 74}, {\"StichtagDat\": \"2020-10-31T00:00:00\", \"EreignisDatJahr\": 2020, \"EreignisDatMM\": 10, \"KreisLang\": \"Kreis 10\", \"sum_WBev\": 53}, {\"StichtagDat\": \"2020-10-31T00:00:00\", \"EreignisDatJahr\": 2020, \"EreignisDatMM\": 10, \"KreisLang\": \"Kreis 1\", \"sum_WBev\": 6}, {\"StichtagDat\": \"2020-10-31T00:00:00\", \"EreignisDatJahr\": 2020, \"EreignisDatMM\": 10, \"KreisLang\": \"Kreis 3\", \"sum_WBev\": 47}, {\"StichtagDat\": \"2020-11-30T00:00:00\", \"EreignisDatJahr\": 2020, \"EreignisDatMM\": 11, \"KreisLang\": \"Kreis 9\", \"sum_WBev\": 59}, {\"StichtagDat\": \"2020-11-30T00:00:00\", \"EreignisDatJahr\": 2020, \"EreignisDatMM\": 11, \"KreisLang\": \"Kreis 8\", \"sum_WBev\": 7}, {\"StichtagDat\": \"2020-11-30T00:00:00\", \"EreignisDatJahr\": 2020, \"EreignisDatMM\": 11, \"KreisLang\": \"Kreis 7\", \"sum_WBev\": 40}, {\"StichtagDat\": \"2020-11-30T00:00:00\", \"EreignisDatJahr\": 2020, \"EreignisDatMM\": 11, \"KreisLang\": \"Kreis 6\", \"sum_WBev\": 35}, {\"StichtagDat\": \"2020-11-30T00:00:00\", \"EreignisDatJahr\": 2020, \"EreignisDatMM\": 11, \"KreisLang\": \"Kreis 5\", \"sum_WBev\": 11}, {\"StichtagDat\": \"2020-11-30T00:00:00\", \"EreignisDatJahr\": 2020, \"EreignisDatMM\": 11, \"KreisLang\": \"Kreis 4\", \"sum_WBev\": 22}, {\"StichtagDat\": \"2020-11-30T00:00:00\", \"EreignisDatJahr\": 2020, \"EreignisDatMM\": 11, \"KreisLang\": \"Kreis 3\", \"sum_WBev\": 49}, {\"StichtagDat\": \"2020-11-30T00:00:00\", \"EreignisDatJahr\": 2020, \"EreignisDatMM\": 11, \"KreisLang\": \"Kreis 2\", \"sum_WBev\": 33}, {\"StichtagDat\": \"2020-11-30T00:00:00\", \"EreignisDatJahr\": 2020, \"EreignisDatMM\": 11, \"KreisLang\": \"Kreis 12\", \"sum_WBev\": 23}, {\"StichtagDat\": \"2020-11-30T00:00:00\", \"EreignisDatJahr\": 2020, \"EreignisDatMM\": 11, \"KreisLang\": \"Kreis 11\", \"sum_WBev\": 71}, {\"StichtagDat\": \"2020-11-30T00:00:00\", \"EreignisDatJahr\": 2020, \"EreignisDatMM\": 11, \"KreisLang\": \"Kreis 10\", \"sum_WBev\": 28}, {\"StichtagDat\": \"2020-12-31T00:00:00\", \"EreignisDatJahr\": 2020, \"EreignisDatMM\": 12, \"KreisLang\": \"Kreis 9\", \"sum_WBev\": 49}, {\"StichtagDat\": \"2020-12-31T00:00:00\", \"EreignisDatJahr\": 2020, \"EreignisDatMM\": 12, \"KreisLang\": \"Kreis 8\", \"sum_WBev\": 8}, {\"StichtagDat\": \"2020-12-31T00:00:00\", \"EreignisDatJahr\": 2020, \"EreignisDatMM\": 12, \"KreisLang\": \"Kreis 7\", \"sum_WBev\": 21}, {\"StichtagDat\": \"2020-12-31T00:00:00\", \"EreignisDatJahr\": 2020, \"EreignisDatMM\": 12, \"KreisLang\": \"Kreis 6\", \"sum_WBev\": 33}, {\"StichtagDat\": \"2020-12-31T00:00:00\", \"EreignisDatJahr\": 2020, \"EreignisDatMM\": 12, \"KreisLang\": \"Kreis 5\", \"sum_WBev\": 15}, {\"StichtagDat\": \"2020-12-31T00:00:00\", \"EreignisDatJahr\": 2020, \"EreignisDatMM\": 12, \"KreisLang\": \"Kreis 4\", \"sum_WBev\": 16}, {\"StichtagDat\": \"2020-12-31T00:00:00\", \"EreignisDatJahr\": 2020, \"EreignisDatMM\": 12, \"KreisLang\": \"Kreis 1\", \"sum_WBev\": 3}, {\"StichtagDat\": \"2020-12-31T00:00:00\", \"EreignisDatJahr\": 2020, \"EreignisDatMM\": 12, \"KreisLang\": \"Kreis 2\", \"sum_WBev\": 28}, {\"StichtagDat\": \"2020-12-31T00:00:00\", \"EreignisDatJahr\": 2020, \"EreignisDatMM\": 12, \"KreisLang\": \"Kreis 12\", \"sum_WBev\": 18}, {\"StichtagDat\": \"2020-12-31T00:00:00\", \"EreignisDatJahr\": 2020, \"EreignisDatMM\": 12, \"KreisLang\": \"Kreis 11\", \"sum_WBev\": 43}, {\"StichtagDat\": \"2020-12-31T00:00:00\", \"EreignisDatJahr\": 2020, \"EreignisDatMM\": 12, \"KreisLang\": \"Kreis 10\", \"sum_WBev\": 29}, {\"StichtagDat\": \"2020-12-31T00:00:00\", \"EreignisDatJahr\": 2020, \"EreignisDatMM\": 12, \"KreisLang\": \"Kreis 3\", \"sum_WBev\": 48}, {\"StichtagDat\": \"2021-01-31T00:00:00\", \"EreignisDatJahr\": 2021, \"EreignisDatMM\": 1, \"KreisLang\": \"Kreis 5\", \"sum_WBev\": 17}, {\"StichtagDat\": \"2021-01-31T00:00:00\", \"EreignisDatJahr\": 2021, \"EreignisDatMM\": 1, \"KreisLang\": \"Kreis 9\", \"sum_WBev\": 94}, {\"StichtagDat\": \"2021-01-31T00:00:00\", \"EreignisDatJahr\": 2021, \"EreignisDatMM\": 1, \"KreisLang\": \"Kreis 8\", \"sum_WBev\": 21}, {\"StichtagDat\": \"2021-01-31T00:00:00\", \"EreignisDatJahr\": 2021, \"EreignisDatMM\": 1, \"KreisLang\": \"Kreis 7\", \"sum_WBev\": 65}, {\"StichtagDat\": \"2021-01-31T00:00:00\", \"EreignisDatJahr\": 2021, \"EreignisDatMM\": 1, \"KreisLang\": \"Kreis 6\", \"sum_WBev\": 35}, {\"StichtagDat\": \"2021-01-31T00:00:00\", \"EreignisDatJahr\": 2021, \"EreignisDatMM\": 1, \"KreisLang\": \"Kreis 4\", \"sum_WBev\": 40}, {\"StichtagDat\": \"2021-01-31T00:00:00\", \"EreignisDatJahr\": 2021, \"EreignisDatMM\": 1, \"KreisLang\": \"Kreis 1\", \"sum_WBev\": 7}, {\"StichtagDat\": \"2021-01-31T00:00:00\", \"EreignisDatJahr\": 2021, \"EreignisDatMM\": 1, \"KreisLang\": \"Kreis 2\", \"sum_WBev\": 64}, {\"StichtagDat\": \"2021-01-31T00:00:00\", \"EreignisDatJahr\": 2021, \"EreignisDatMM\": 1, \"KreisLang\": \"Kreis 12\", \"sum_WBev\": 57}, {\"StichtagDat\": \"2021-01-31T00:00:00\", \"EreignisDatJahr\": 2021, \"EreignisDatMM\": 1, \"KreisLang\": \"Kreis 11\", \"sum_WBev\": 115}, {\"StichtagDat\": \"2021-01-31T00:00:00\", \"EreignisDatJahr\": 2021, \"EreignisDatMM\": 1, \"KreisLang\": \"Kreis 10\", \"sum_WBev\": 60}, {\"StichtagDat\": \"2021-01-31T00:00:00\", \"EreignisDatJahr\": 2021, \"EreignisDatMM\": 1, \"KreisLang\": \"Kreis 3\", \"sum_WBev\": 77}, {\"StichtagDat\": \"2021-02-28T00:00:00\", \"EreignisDatJahr\": 2021, \"EreignisDatMM\": 2, \"KreisLang\": \"Kreis 9\", \"sum_WBev\": 42}, {\"StichtagDat\": \"2021-02-28T00:00:00\", \"EreignisDatJahr\": 2021, \"EreignisDatMM\": 2, \"KreisLang\": \"Kreis 8\", \"sum_WBev\": 15}, {\"StichtagDat\": \"2021-02-28T00:00:00\", \"EreignisDatJahr\": 2021, \"EreignisDatMM\": 2, \"KreisLang\": \"Kreis 7\", \"sum_WBev\": 37}, {\"StichtagDat\": \"2021-02-28T00:00:00\", \"EreignisDatJahr\": 2021, \"EreignisDatMM\": 2, \"KreisLang\": \"Kreis 6\", \"sum_WBev\": 30}, {\"StichtagDat\": \"2021-02-28T00:00:00\", \"EreignisDatJahr\": 2021, \"EreignisDatMM\": 2, \"KreisLang\": \"Kreis 5\", \"sum_WBev\": 12}, {\"StichtagDat\": \"2021-02-28T00:00:00\", \"EreignisDatJahr\": 2021, \"EreignisDatMM\": 2, \"KreisLang\": \"Kreis 4\", \"sum_WBev\": 29}, {\"StichtagDat\": \"2021-02-28T00:00:00\", \"EreignisDatJahr\": 2021, \"EreignisDatMM\": 2, \"KreisLang\": \"Kreis 2\", \"sum_WBev\": 47}, {\"StichtagDat\": \"2021-02-28T00:00:00\", \"EreignisDatJahr\": 2021, \"EreignisDatMM\": 2, \"KreisLang\": \"Kreis 12\", \"sum_WBev\": 37}, {\"StichtagDat\": \"2021-02-28T00:00:00\", \"EreignisDatJahr\": 2021, \"EreignisDatMM\": 2, \"KreisLang\": \"Kreis 11\", \"sum_WBev\": 60}, {\"StichtagDat\": \"2021-02-28T00:00:00\", \"EreignisDatJahr\": 2021, \"EreignisDatMM\": 2, \"KreisLang\": \"Kreis 10\", \"sum_WBev\": 29}, {\"StichtagDat\": \"2021-02-28T00:00:00\", \"EreignisDatJahr\": 2021, \"EreignisDatMM\": 2, \"KreisLang\": \"Kreis 1\", \"sum_WBev\": 3}, {\"StichtagDat\": \"2021-02-28T00:00:00\", \"EreignisDatJahr\": 2021, \"EreignisDatMM\": 2, \"KreisLang\": \"Kreis 3\", \"sum_WBev\": 44}, {\"StichtagDat\": \"2021-03-31T00:00:00\", \"EreignisDatJahr\": 2021, \"EreignisDatMM\": 3, \"KreisLang\": \"Kreis 5\", \"sum_WBev\": 23}, {\"StichtagDat\": \"2021-03-31T00:00:00\", \"EreignisDatJahr\": 2021, \"EreignisDatMM\": 3, \"KreisLang\": \"Kreis 8\", \"sum_WBev\": 15}, {\"StichtagDat\": \"2021-03-31T00:00:00\", \"EreignisDatJahr\": 2021, \"EreignisDatMM\": 3, \"KreisLang\": \"Kreis 7\", \"sum_WBev\": 28}, {\"StichtagDat\": \"2021-03-31T00:00:00\", \"EreignisDatJahr\": 2021, \"EreignisDatMM\": 3, \"KreisLang\": \"Kreis 6\", \"sum_WBev\": 40}, {\"StichtagDat\": \"2021-03-31T00:00:00\", \"EreignisDatJahr\": 2021, \"EreignisDatMM\": 3, \"KreisLang\": \"Kreis 9\", \"sum_WBev\": 54}, {\"StichtagDat\": \"2021-03-31T00:00:00\", \"EreignisDatJahr\": 2021, \"EreignisDatMM\": 3, \"KreisLang\": \"Kreis 4\", \"sum_WBev\": 29}, {\"StichtagDat\": \"2021-03-31T00:00:00\", \"EreignisDatJahr\": 2021, \"EreignisDatMM\": 3, \"KreisLang\": \"Kreis 12\", \"sum_WBev\": 36}, {\"StichtagDat\": \"2021-03-31T00:00:00\", \"EreignisDatJahr\": 2021, \"EreignisDatMM\": 3, \"KreisLang\": \"Kreis 2\", \"sum_WBev\": 42}, {\"StichtagDat\": \"2021-03-31T00:00:00\", \"EreignisDatJahr\": 2021, \"EreignisDatMM\": 3, \"KreisLang\": \"Kreis 11\", \"sum_WBev\": 78}, {\"StichtagDat\": \"2021-03-31T00:00:00\", \"EreignisDatJahr\": 2021, \"EreignisDatMM\": 3, \"KreisLang\": \"Kreis 10\", \"sum_WBev\": 39}, {\"StichtagDat\": \"2021-03-31T00:00:00\", \"EreignisDatJahr\": 2021, \"EreignisDatMM\": 3, \"KreisLang\": \"Kreis 1\", \"sum_WBev\": 2}, {\"StichtagDat\": \"2021-03-31T00:00:00\", \"EreignisDatJahr\": 2021, \"EreignisDatMM\": 3, \"KreisLang\": \"Kreis 3\", \"sum_WBev\": 52}, {\"StichtagDat\": \"2021-04-30T00:00:00\", \"EreignisDatJahr\": 2021, \"EreignisDatMM\": 4, \"KreisLang\": \"Kreis 9\", \"sum_WBev\": 46}, {\"StichtagDat\": \"2021-04-30T00:00:00\", \"EreignisDatJahr\": 2021, \"EreignisDatMM\": 4, \"KreisLang\": \"Kreis 8\", \"sum_WBev\": 18}, {\"StichtagDat\": \"2021-04-30T00:00:00\", \"EreignisDatJahr\": 2021, \"EreignisDatMM\": 4, \"KreisLang\": \"Kreis 7\", \"sum_WBev\": 35}, {\"StichtagDat\": \"2021-04-30T00:00:00\", \"EreignisDatJahr\": 2021, \"EreignisDatMM\": 4, \"KreisLang\": \"Kreis 6\", \"sum_WBev\": 44}, {\"StichtagDat\": \"2021-04-30T00:00:00\", \"EreignisDatJahr\": 2021, \"EreignisDatMM\": 4, \"KreisLang\": \"Kreis 5\", \"sum_WBev\": 18}, {\"StichtagDat\": \"2021-04-30T00:00:00\", \"EreignisDatJahr\": 2021, \"EreignisDatMM\": 4, \"KreisLang\": \"Kreis 4\", \"sum_WBev\": 32}, {\"StichtagDat\": \"2021-04-30T00:00:00\", \"EreignisDatJahr\": 2021, \"EreignisDatMM\": 4, \"KreisLang\": \"Kreis 2\", \"sum_WBev\": 42}, {\"StichtagDat\": \"2021-04-30T00:00:00\", \"EreignisDatJahr\": 2021, \"EreignisDatMM\": 4, \"KreisLang\": \"Kreis 12\", \"sum_WBev\": 31}, {\"StichtagDat\": \"2021-04-30T00:00:00\", \"EreignisDatJahr\": 2021, \"EreignisDatMM\": 4, \"KreisLang\": \"Kreis 11\", \"sum_WBev\": 79}, {\"StichtagDat\": \"2021-04-30T00:00:00\", \"EreignisDatJahr\": 2021, \"EreignisDatMM\": 4, \"KreisLang\": \"Kreis 10\", \"sum_WBev\": 34}, {\"StichtagDat\": \"2021-04-30T00:00:00\", \"EreignisDatJahr\": 2021, \"EreignisDatMM\": 4, \"KreisLang\": \"Kreis 1\", \"sum_WBev\": 2}, {\"StichtagDat\": \"2021-04-30T00:00:00\", \"EreignisDatJahr\": 2021, \"EreignisDatMM\": 4, \"KreisLang\": \"Kreis 3\", \"sum_WBev\": 34}, {\"StichtagDat\": \"2021-05-31T00:00:00\", \"EreignisDatJahr\": 2021, \"EreignisDatMM\": 5, \"KreisLang\": \"Kreis 5\", \"sum_WBev\": 21}, {\"StichtagDat\": \"2021-05-31T00:00:00\", \"EreignisDatJahr\": 2021, \"EreignisDatMM\": 5, \"KreisLang\": \"Kreis 9\", \"sum_WBev\": 67}, {\"StichtagDat\": \"2021-05-31T00:00:00\", \"EreignisDatJahr\": 2021, \"EreignisDatMM\": 5, \"KreisLang\": \"Kreis 8\", \"sum_WBev\": 8}, {\"StichtagDat\": \"2021-05-31T00:00:00\", \"EreignisDatJahr\": 2021, \"EreignisDatMM\": 5, \"KreisLang\": \"Kreis 7\", \"sum_WBev\": 30}, {\"StichtagDat\": \"2021-05-31T00:00:00\", \"EreignisDatJahr\": 2021, \"EreignisDatMM\": 5, \"KreisLang\": \"Kreis 6\", \"sum_WBev\": 32}, {\"StichtagDat\": \"2021-05-31T00:00:00\", \"EreignisDatJahr\": 2021, \"EreignisDatMM\": 5, \"KreisLang\": \"Kreis 4\", \"sum_WBev\": 31}, {\"StichtagDat\": \"2021-05-31T00:00:00\", \"EreignisDatJahr\": 2021, \"EreignisDatMM\": 5, \"KreisLang\": \"Kreis 3\", \"sum_WBev\": 43}, {\"StichtagDat\": \"2021-05-31T00:00:00\", \"EreignisDatJahr\": 2021, \"EreignisDatMM\": 5, \"KreisLang\": \"Kreis 2\", \"sum_WBev\": 45}, {\"StichtagDat\": \"2021-05-31T00:00:00\", \"EreignisDatJahr\": 2021, \"EreignisDatMM\": 5, \"KreisLang\": \"Kreis 12\", \"sum_WBev\": 38}, {\"StichtagDat\": \"2021-05-31T00:00:00\", \"EreignisDatJahr\": 2021, \"EreignisDatMM\": 5, \"KreisLang\": \"Kreis 11\", \"sum_WBev\": 69}, {\"StichtagDat\": \"2021-05-31T00:00:00\", \"EreignisDatJahr\": 2021, \"EreignisDatMM\": 5, \"KreisLang\": \"Kreis 10\", \"sum_WBev\": 50}, {\"StichtagDat\": \"2021-05-31T00:00:00\", \"EreignisDatJahr\": 2021, \"EreignisDatMM\": 5, \"KreisLang\": \"Kreis 1\", \"sum_WBev\": 4}, {\"StichtagDat\": \"2021-06-30T00:00:00\", \"EreignisDatJahr\": 2021, \"EreignisDatMM\": 6, \"KreisLang\": \"Kreis 9\", \"sum_WBev\": 71}, {\"StichtagDat\": \"2021-06-30T00:00:00\", \"EreignisDatJahr\": 2021, \"EreignisDatMM\": 6, \"KreisLang\": \"Kreis 8\", \"sum_WBev\": 21}, {\"StichtagDat\": \"2021-06-30T00:00:00\", \"EreignisDatJahr\": 2021, \"EreignisDatMM\": 6, \"KreisLang\": \"Kreis 7\", \"sum_WBev\": 37}, {\"StichtagDat\": \"2021-06-30T00:00:00\", \"EreignisDatJahr\": 2021, \"EreignisDatMM\": 6, \"KreisLang\": \"Kreis 6\", \"sum_WBev\": 35}, {\"StichtagDat\": \"2021-06-30T00:00:00\", \"EreignisDatJahr\": 2021, \"EreignisDatMM\": 6, \"KreisLang\": \"Kreis 5\", \"sum_WBev\": 16}, {\"StichtagDat\": \"2021-06-30T00:00:00\", \"EreignisDatJahr\": 2021, \"EreignisDatMM\": 6, \"KreisLang\": \"Kreis 4\", \"sum_WBev\": 30}, {\"StichtagDat\": \"2021-06-30T00:00:00\", \"EreignisDatJahr\": 2021, \"EreignisDatMM\": 6, \"KreisLang\": \"Kreis 3\", \"sum_WBev\": 36}, {\"StichtagDat\": \"2021-06-30T00:00:00\", \"EreignisDatJahr\": 2021, \"EreignisDatMM\": 6, \"KreisLang\": \"Kreis 2\", \"sum_WBev\": 46}, {\"StichtagDat\": \"2021-06-30T00:00:00\", \"EreignisDatJahr\": 2021, \"EreignisDatMM\": 6, \"KreisLang\": \"Kreis 12\", \"sum_WBev\": 26}, {\"StichtagDat\": \"2021-06-30T00:00:00\", \"EreignisDatJahr\": 2021, \"EreignisDatMM\": 6, \"KreisLang\": \"Kreis 11\", \"sum_WBev\": 86}, {\"StichtagDat\": \"2021-06-30T00:00:00\", \"EreignisDatJahr\": 2021, \"EreignisDatMM\": 6, \"KreisLang\": \"Kreis 10\", \"sum_WBev\": 44}, {\"StichtagDat\": \"2021-06-30T00:00:00\", \"EreignisDatJahr\": 2021, \"EreignisDatMM\": 6, \"KreisLang\": \"Kreis 1\", \"sum_WBev\": 1}, {\"StichtagDat\": \"2021-07-31T00:00:00\", \"EreignisDatJahr\": 2021, \"EreignisDatMM\": 7, \"KreisLang\": \"Kreis 8\", \"sum_WBev\": 24}, {\"StichtagDat\": \"2021-07-31T00:00:00\", \"EreignisDatJahr\": 2021, \"EreignisDatMM\": 7, \"KreisLang\": \"Kreis 7\", \"sum_WBev\": 30}, {\"StichtagDat\": \"2021-07-31T00:00:00\", \"EreignisDatJahr\": 2021, \"EreignisDatMM\": 7, \"KreisLang\": \"Kreis 9\", \"sum_WBev\": 57}, {\"StichtagDat\": \"2021-07-31T00:00:00\", \"EreignisDatJahr\": 2021, \"EreignisDatMM\": 7, \"KreisLang\": \"Kreis 5\", \"sum_WBev\": 21}, {\"StichtagDat\": \"2021-07-31T00:00:00\", \"EreignisDatJahr\": 2021, \"EreignisDatMM\": 7, \"KreisLang\": \"Kreis 4\", \"sum_WBev\": 30}, {\"StichtagDat\": \"2021-07-31T00:00:00\", \"EreignisDatJahr\": 2021, \"EreignisDatMM\": 7, \"KreisLang\": \"Kreis 6\", \"sum_WBev\": 39}, {\"StichtagDat\": \"2021-07-31T00:00:00\", \"EreignisDatJahr\": 2021, \"EreignisDatMM\": 7, \"KreisLang\": \"Kreis 2\", \"sum_WBev\": 44}, {\"StichtagDat\": \"2021-07-31T00:00:00\", \"EreignisDatJahr\": 2021, \"EreignisDatMM\": 7, \"KreisLang\": \"Kreis 12\", \"sum_WBev\": 31}, {\"StichtagDat\": \"2021-07-31T00:00:00\", \"EreignisDatJahr\": 2021, \"EreignisDatMM\": 7, \"KreisLang\": \"Kreis 11\", \"sum_WBev\": 62}, {\"StichtagDat\": \"2021-07-31T00:00:00\", \"EreignisDatJahr\": 2021, \"EreignisDatMM\": 7, \"KreisLang\": \"Kreis 10\", \"sum_WBev\": 48}, {\"StichtagDat\": \"2021-07-31T00:00:00\", \"EreignisDatJahr\": 2021, \"EreignisDatMM\": 7, \"KreisLang\": \"Kreis 1\", \"sum_WBev\": 3}, {\"StichtagDat\": \"2021-07-31T00:00:00\", \"EreignisDatJahr\": 2021, \"EreignisDatMM\": 7, \"KreisLang\": \"Kreis 3\", \"sum_WBev\": 46}, {\"StichtagDat\": \"2021-08-31T00:00:00\", \"EreignisDatJahr\": 2021, \"EreignisDatMM\": 8, \"KreisLang\": \"Kreis 9\", \"sum_WBev\": 57}, {\"StichtagDat\": \"2021-08-31T00:00:00\", \"EreignisDatJahr\": 2021, \"EreignisDatMM\": 8, \"KreisLang\": \"Kreis 8\", \"sum_WBev\": 26}, {\"StichtagDat\": \"2021-08-31T00:00:00\", \"EreignisDatJahr\": 2021, \"EreignisDatMM\": 8, \"KreisLang\": \"Kreis 7\", \"sum_WBev\": 43}, {\"StichtagDat\": \"2021-08-31T00:00:00\", \"EreignisDatJahr\": 2021, \"EreignisDatMM\": 8, \"KreisLang\": \"Kreis 6\", \"sum_WBev\": 36}, {\"StichtagDat\": \"2021-08-31T00:00:00\", \"EreignisDatJahr\": 2021, \"EreignisDatMM\": 8, \"KreisLang\": \"Kreis 5\", \"sum_WBev\": 20}, {\"StichtagDat\": \"2021-08-31T00:00:00\", \"EreignisDatJahr\": 2021, \"EreignisDatMM\": 8, \"KreisLang\": \"Kreis 4\", \"sum_WBev\": 32}, {\"StichtagDat\": \"2021-08-31T00:00:00\", \"EreignisDatJahr\": 2021, \"EreignisDatMM\": 8, \"KreisLang\": \"Kreis 3\", \"sum_WBev\": 52}, {\"StichtagDat\": \"2021-08-31T00:00:00\", \"EreignisDatJahr\": 2021, \"EreignisDatMM\": 8, \"KreisLang\": \"Kreis 2\", \"sum_WBev\": 45}, {\"StichtagDat\": \"2021-08-31T00:00:00\", \"EreignisDatJahr\": 2021, \"EreignisDatMM\": 8, \"KreisLang\": \"Kreis 12\", \"sum_WBev\": 35}, {\"StichtagDat\": \"2021-08-31T00:00:00\", \"EreignisDatJahr\": 2021, \"EreignisDatMM\": 8, \"KreisLang\": \"Kreis 11\", \"sum_WBev\": 76}, {\"StichtagDat\": \"2021-08-31T00:00:00\", \"EreignisDatJahr\": 2021, \"EreignisDatMM\": 8, \"KreisLang\": \"Kreis 10\", \"sum_WBev\": 48}, {\"StichtagDat\": \"2021-08-31T00:00:00\", \"EreignisDatJahr\": 2021, \"EreignisDatMM\": 8, \"KreisLang\": \"Kreis 1\", \"sum_WBev\": 4}, {\"StichtagDat\": \"2021-09-30T00:00:00\", \"EreignisDatJahr\": 2021, \"EreignisDatMM\": 9, \"KreisLang\": \"Kreis 8\", \"sum_WBev\": 15}, {\"StichtagDat\": \"2021-09-30T00:00:00\", \"EreignisDatJahr\": 2021, \"EreignisDatMM\": 9, \"KreisLang\": \"Kreis 9\", \"sum_WBev\": 52}, {\"StichtagDat\": \"2021-09-30T00:00:00\", \"EreignisDatJahr\": 2021, \"EreignisDatMM\": 9, \"KreisLang\": \"Kreis 6\", \"sum_WBev\": 31}, {\"StichtagDat\": \"2021-09-30T00:00:00\", \"EreignisDatJahr\": 2021, \"EreignisDatMM\": 9, \"KreisLang\": \"Kreis 5\", \"sum_WBev\": 20}, {\"StichtagDat\": \"2021-09-30T00:00:00\", \"EreignisDatJahr\": 2021, \"EreignisDatMM\": 9, \"KreisLang\": \"Kreis 4\", \"sum_WBev\": 28}, {\"StichtagDat\": \"2021-09-30T00:00:00\", \"EreignisDatJahr\": 2021, \"EreignisDatMM\": 9, \"KreisLang\": \"Kreis 7\", \"sum_WBev\": 39}, {\"StichtagDat\": \"2021-09-30T00:00:00\", \"EreignisDatJahr\": 2021, \"EreignisDatMM\": 9, \"KreisLang\": \"Kreis 2\", \"sum_WBev\": 40}, {\"StichtagDat\": \"2021-09-30T00:00:00\", \"EreignisDatJahr\": 2021, \"EreignisDatMM\": 9, \"KreisLang\": \"Kreis 12\", \"sum_WBev\": 28}, {\"StichtagDat\": \"2021-09-30T00:00:00\", \"EreignisDatJahr\": 2021, \"EreignisDatMM\": 9, \"KreisLang\": \"Kreis 11\", \"sum_WBev\": 65}, {\"StichtagDat\": \"2021-09-30T00:00:00\", \"EreignisDatJahr\": 2021, \"EreignisDatMM\": 9, \"KreisLang\": \"Kreis 10\", \"sum_WBev\": 40}, {\"StichtagDat\": \"2021-09-30T00:00:00\", \"EreignisDatJahr\": 2021, \"EreignisDatMM\": 9, \"KreisLang\": \"Kreis 3\", \"sum_WBev\": 47}, {\"StichtagDat\": \"2021-10-31T00:00:00\", \"EreignisDatJahr\": 2021, \"EreignisDatMM\": 10, \"KreisLang\": \"Kreis 9\", \"sum_WBev\": 58}, {\"StichtagDat\": \"2021-10-31T00:00:00\", \"EreignisDatJahr\": 2021, \"EreignisDatMM\": 10, \"KreisLang\": \"Kreis 8\", \"sum_WBev\": 34}, {\"StichtagDat\": \"2021-10-31T00:00:00\", \"EreignisDatJahr\": 2021, \"EreignisDatMM\": 10, \"KreisLang\": \"Kreis 6\", \"sum_WBev\": 32}, {\"StichtagDat\": \"2021-10-31T00:00:00\", \"EreignisDatJahr\": 2021, \"EreignisDatMM\": 10, \"KreisLang\": \"Kreis 5\", \"sum_WBev\": 17}, {\"StichtagDat\": \"2021-10-31T00:00:00\", \"EreignisDatJahr\": 2021, \"EreignisDatMM\": 10, \"KreisLang\": \"Kreis 4\", \"sum_WBev\": 34}, {\"StichtagDat\": \"2021-10-31T00:00:00\", \"EreignisDatJahr\": 2021, \"EreignisDatMM\": 10, \"KreisLang\": \"Kreis 7\", \"sum_WBev\": 28}, {\"StichtagDat\": \"2021-10-31T00:00:00\", \"EreignisDatJahr\": 2021, \"EreignisDatMM\": 10, \"KreisLang\": \"Kreis 2\", \"sum_WBev\": 54}, {\"StichtagDat\": \"2021-10-31T00:00:00\", \"EreignisDatJahr\": 2021, \"EreignisDatMM\": 10, \"KreisLang\": \"Kreis 12\", \"sum_WBev\": 33}, {\"StichtagDat\": \"2021-10-31T00:00:00\", \"EreignisDatJahr\": 2021, \"EreignisDatMM\": 10, \"KreisLang\": \"Kreis 11\", \"sum_WBev\": 81}, {\"StichtagDat\": \"2021-10-31T00:00:00\", \"EreignisDatJahr\": 2021, \"EreignisDatMM\": 10, \"KreisLang\": \"Kreis 10\", \"sum_WBev\": 46}, {\"StichtagDat\": \"2021-10-31T00:00:00\", \"EreignisDatJahr\": 2021, \"EreignisDatMM\": 10, \"KreisLang\": \"Kreis 1\", \"sum_WBev\": 2}, {\"StichtagDat\": \"2021-10-31T00:00:00\", \"EreignisDatJahr\": 2021, \"EreignisDatMM\": 10, \"KreisLang\": \"Kreis 3\", \"sum_WBev\": 43}]}}, {\"mode\": \"vega-lite\"});\n",
       "</script>"
      ],
      "text/plain": [
       "alt.LayerChart(...)"
      ]
     },
     "execution_count": 35,
     "metadata": {},
     "output_type": "execute_result"
    }
   ],
   "source": [
    "highlight = alt.selection(type='single', on='mouseover',\n",
    "                          fields=['KreisLang'], nearest=True)\n",
    "#x='date:StichtagDatJahr',\n",
    "base = alt.Chart(myAgg.loc[\"2019-11-30\":\"2021-10-31\"].reset_index().query('sum_WBev>0'), title=\"Title\").encode(\n",
    "    x=alt.X('StichtagDat', axis=alt.Axis(title='Jahr'))# , axis=alt.Axis(format='%', title='percentage')\n",
    "    , y=alt.X('sum_WBev', axis=alt.Axis(title='Anz. Personen'))\n",
    "    , color=alt.Color('KreisLang', legend=alt.Legend(title=\"Stadtkreise\", orient=\"right\"))  \n",
    "    ,tooltip=['StichtagDat', 'KreisLang', 'sum_WBev']    \n",
    ")\n",
    "points = base.mark_circle().encode(\n",
    "    opacity=alt.value(0.75)\n",
    ").add_selection(\n",
    "    highlight\n",
    ").properties(\n",
    "    width=900 , height=350\n",
    ")\n",
    "lines = base.mark_line().encode(\n",
    "    size=alt.condition(~highlight, alt.value(0.5), alt.value(4))\n",
    ").interactive()\n",
    "\n",
    "lines + points"
   ]
  },
  {
   "cell_type": "markdown",
   "metadata": {},
   "source": [
    "#### Entwicklung nach Geschlecht"
   ]
  },
  {
   "cell_type": "code",
   "execution_count": 44,
   "metadata": {},
   "outputs": [
    {
     "data": {
      "text/html": [
       "<div>\n",
       "<style scoped>\n",
       "    .dataframe tbody tr th:only-of-type {\n",
       "        vertical-align: middle;\n",
       "    }\n",
       "\n",
       "    .dataframe tbody tr th {\n",
       "        vertical-align: top;\n",
       "    }\n",
       "\n",
       "    .dataframe thead th {\n",
       "        text-align: right;\n",
       "    }\n",
       "</style>\n",
       "<table border=\"1\" class=\"dataframe\">\n",
       "  <thead>\n",
       "    <tr style=\"text-align: right;\">\n",
       "      <th></th>\n",
       "      <th>StichtagDat</th>\n",
       "      <th>EreignisDatJahr</th>\n",
       "      <th>EreignisDatMM</th>\n",
       "      <th>SexLang</th>\n",
       "      <th>sum_WBev</th>\n",
       "    </tr>\n",
       "  </thead>\n",
       "  <tbody>\n",
       "    <tr>\n",
       "      <th>0</th>\n",
       "      <td>2021-01-31</td>\n",
       "      <td>2021</td>\n",
       "      <td>1</td>\n",
       "      <td>weiblich</td>\n",
       "      <td>345</td>\n",
       "    </tr>\n",
       "    <tr>\n",
       "      <th>1</th>\n",
       "      <td>2020-01-31</td>\n",
       "      <td>2020</td>\n",
       "      <td>1</td>\n",
       "      <td>männlich</td>\n",
       "      <td>338</td>\n",
       "    </tr>\n",
       "  </tbody>\n",
       "</table>\n",
       "</div>"
      ],
      "text/plain": [
       "  StichtagDat  EreignisDatJahr  EreignisDatMM   SexLang  sum_WBev\n",
       "0  2021-01-31             2021              1  weiblich       345\n",
       "1  2020-01-31             2020              1  männlich       338"
      ]
     },
     "execution_count": 44,
     "metadata": {},
     "output_type": "execute_result"
    }
   ],
   "source": [
    "#myAgg = data2betested.loc[\"2008-11\":\"2021-11\"] \\\n",
    "myAgg = data2betested \\\n",
    "    .groupby(['StichtagDat','EreignisDatJahr', 'EreignisDatMM', 'SexLang']) \\\n",
    "    .agg(sum_WBev=('AnzGebuWir', 'sum')) \\\n",
    "    .sort_values('sum_WBev', ascending=False) \n",
    "\n",
    "myAgg.reset_index().head(2)"
   ]
  },
  {
   "cell_type": "code",
   "execution_count": 45,
   "metadata": {},
   "outputs": [
    {
     "data": {
      "text/html": [
       "\n",
       "<div id=\"altair-viz-df7c6f053100414dbad35ce90864a3d7\"></div>\n",
       "<script type=\"text/javascript\">\n",
       "  (function(spec, embedOpt){\n",
       "    let outputDiv = document.currentScript.previousElementSibling;\n",
       "    if (outputDiv.id !== \"altair-viz-df7c6f053100414dbad35ce90864a3d7\") {\n",
       "      outputDiv = document.getElementById(\"altair-viz-df7c6f053100414dbad35ce90864a3d7\");\n",
       "    }\n",
       "    const paths = {\n",
       "      \"vega\": \"https://cdn.jsdelivr.net/npm//vega@5?noext\",\n",
       "      \"vega-lib\": \"https://cdn.jsdelivr.net/npm//vega-lib?noext\",\n",
       "      \"vega-lite\": \"https://cdn.jsdelivr.net/npm//vega-lite@4.8.1?noext\",\n",
       "      \"vega-embed\": \"https://cdn.jsdelivr.net/npm//vega-embed@6?noext\",\n",
       "    };\n",
       "\n",
       "    function loadScript(lib) {\n",
       "      return new Promise(function(resolve, reject) {\n",
       "        var s = document.createElement('script');\n",
       "        s.src = paths[lib];\n",
       "        s.async = true;\n",
       "        s.onload = () => resolve(paths[lib]);\n",
       "        s.onerror = () => reject(`Error loading script: ${paths[lib]}`);\n",
       "        document.getElementsByTagName(\"head\")[0].appendChild(s);\n",
       "      });\n",
       "    }\n",
       "\n",
       "    function showError(err) {\n",
       "      outputDiv.innerHTML = `<div class=\"error\" style=\"color:red;\">${err}</div>`;\n",
       "      throw err;\n",
       "    }\n",
       "\n",
       "    function displayChart(vegaEmbed) {\n",
       "      vegaEmbed(outputDiv, spec, embedOpt)\n",
       "        .catch(err => showError(`Javascript Error: ${err.message}<br>This usually means there's a typo in your chart specification. See the javascript console for the full traceback.`));\n",
       "    }\n",
       "\n",
       "    if(typeof define === \"function\" && define.amd) {\n",
       "      requirejs.config({paths});\n",
       "      require([\"vega-embed\"], displayChart, err => showError(`Error loading script: ${err.message}`));\n",
       "    } else if (typeof vegaEmbed === \"function\") {\n",
       "      displayChart(vegaEmbed);\n",
       "    } else {\n",
       "      loadScript(\"vega\")\n",
       "        .then(() => loadScript(\"vega-lite\"))\n",
       "        .then(() => loadScript(\"vega-embed\"))\n",
       "        .catch(showError)\n",
       "        .then(() => displayChart(vegaEmbed));\n",
       "    }\n",
       "  })({\"config\": {\"view\": {\"continuousWidth\": 400, \"continuousHeight\": 300}}, \"layer\": [{\"mark\": \"line\", \"encoding\": {\"color\": {\"type\": \"nominal\", \"field\": \"SexLang\", \"legend\": {\"title\": \"Geschlecht\"}}, \"size\": {\"condition\": {\"value\": 0.5, \"selection\": {\"not\": \"selector015\"}}, \"value\": 4}, \"tooltip\": [{\"type\": \"temporal\", \"field\": \"StichtagDat\"}, {\"type\": \"nominal\", \"field\": \"SexLang\"}, {\"type\": \"quantitative\", \"field\": \"sum_WBev\"}], \"x\": {\"type\": \"temporal\", \"axis\": {\"title\": \"Jahr\"}, \"field\": \"StichtagDat\"}, \"y\": {\"type\": \"quantitative\", \"axis\": {\"title\": \"Anz. Personen\"}, \"field\": \"sum_WBev\"}}, \"selection\": {\"selector016\": {\"type\": \"interval\", \"bind\": \"scales\", \"encodings\": [\"x\", \"y\"]}}, \"title\": \"Title\"}, {\"mark\": \"circle\", \"encoding\": {\"color\": {\"type\": \"nominal\", \"field\": \"SexLang\", \"legend\": {\"title\": \"Geschlecht\"}}, \"opacity\": {\"value\": 0.75}, \"tooltip\": [{\"type\": \"temporal\", \"field\": \"StichtagDat\"}, {\"type\": \"nominal\", \"field\": \"SexLang\"}, {\"type\": \"quantitative\", \"field\": \"sum_WBev\"}], \"x\": {\"type\": \"temporal\", \"axis\": {\"title\": \"Jahr\"}, \"field\": \"StichtagDat\"}, \"y\": {\"type\": \"quantitative\", \"axis\": {\"title\": \"Anz. Personen\"}, \"field\": \"sum_WBev\"}}, \"height\": 350, \"selection\": {\"selector015\": {\"type\": \"single\", \"on\": \"mouseover\", \"fields\": [\"SexLang\"], \"nearest\": true}}, \"title\": \"Title\", \"width\": 900}], \"data\": {\"name\": \"data-d9cf7e11e05694af97deaaf941174512\"}, \"$schema\": \"https://vega.github.io/schema/vega-lite/v4.8.1.json\", \"datasets\": {\"data-d9cf7e11e05694af97deaaf941174512\": [{\"StichtagDat\": \"2021-01-31T00:00:00\", \"EreignisDatJahr\": 2021, \"EreignisDatMM\": 1, \"SexLang\": \"weiblich\", \"sum_WBev\": 345}, {\"StichtagDat\": \"2020-01-31T00:00:00\", \"EreignisDatJahr\": 2020, \"EreignisDatMM\": 1, \"SexLang\": \"m\\u00e4nnlich\", \"sum_WBev\": 338}, {\"StichtagDat\": \"2019-01-31T00:00:00\", \"EreignisDatJahr\": 2019, \"EreignisDatMM\": 1, \"SexLang\": \"weiblich\", \"sum_WBev\": 324}, {\"StichtagDat\": \"2021-01-31T00:00:00\", \"EreignisDatJahr\": 2021, \"EreignisDatMM\": 1, \"SexLang\": \"m\\u00e4nnlich\", \"sum_WBev\": 307}, {\"StichtagDat\": \"2017-01-31T00:00:00\", \"EreignisDatJahr\": 2017, \"EreignisDatMM\": 1, \"SexLang\": \"m\\u00e4nnlich\", \"sum_WBev\": 306}, {\"StichtagDat\": \"2014-01-31T00:00:00\", \"EreignisDatJahr\": 2014, \"EreignisDatMM\": 1, \"SexLang\": \"weiblich\", \"sum_WBev\": 306}, {\"StichtagDat\": \"2019-01-31T00:00:00\", \"EreignisDatJahr\": 2019, \"EreignisDatMM\": 1, \"SexLang\": \"m\\u00e4nnlich\", \"sum_WBev\": 306}, {\"StichtagDat\": \"2015-01-31T00:00:00\", \"EreignisDatJahr\": 2015, \"EreignisDatMM\": 1, \"SexLang\": \"m\\u00e4nnlich\", \"sum_WBev\": 300}, {\"StichtagDat\": \"2013-01-31T00:00:00\", \"EreignisDatJahr\": 2013, \"EreignisDatMM\": 1, \"SexLang\": \"m\\u00e4nnlich\", \"sum_WBev\": 295}, {\"StichtagDat\": \"2020-01-31T00:00:00\", \"EreignisDatJahr\": 2020, \"EreignisDatMM\": 1, \"SexLang\": \"weiblich\", \"sum_WBev\": 286}, {\"StichtagDat\": \"2016-01-31T00:00:00\", \"EreignisDatJahr\": 2016, \"EreignisDatMM\": 1, \"SexLang\": \"m\\u00e4nnlich\", \"sum_WBev\": 284}, {\"StichtagDat\": \"2018-01-31T00:00:00\", \"EreignisDatJahr\": 2018, \"EreignisDatMM\": 1, \"SexLang\": \"weiblich\", \"sum_WBev\": 280}, {\"StichtagDat\": \"2017-01-31T00:00:00\", \"EreignisDatJahr\": 2017, \"EreignisDatMM\": 1, \"SexLang\": \"weiblich\", \"sum_WBev\": 278}, {\"StichtagDat\": \"2018-01-31T00:00:00\", \"EreignisDatJahr\": 2018, \"EreignisDatMM\": 1, \"SexLang\": \"m\\u00e4nnlich\", \"sum_WBev\": 275}, {\"StichtagDat\": \"2014-01-31T00:00:00\", \"EreignisDatJahr\": 2014, \"EreignisDatMM\": 1, \"SexLang\": \"m\\u00e4nnlich\", \"sum_WBev\": 263}, {\"StichtagDat\": \"2009-01-31T00:00:00\", \"EreignisDatJahr\": 2009, \"EreignisDatMM\": 1, \"SexLang\": \"m\\u00e4nnlich\", \"sum_WBev\": 262}, {\"StichtagDat\": \"2018-07-31T00:00:00\", \"EreignisDatJahr\": 2018, \"EreignisDatMM\": 7, \"SexLang\": \"m\\u00e4nnlich\", \"sum_WBev\": 261}, {\"StichtagDat\": \"2016-01-31T00:00:00\", \"EreignisDatJahr\": 2016, \"EreignisDatMM\": 1, \"SexLang\": \"weiblich\", \"sum_WBev\": 259}, {\"StichtagDat\": \"2011-01-31T00:00:00\", \"EreignisDatJahr\": 2011, \"EreignisDatMM\": 1, \"SexLang\": \"weiblich\", \"sum_WBev\": 255}, {\"StichtagDat\": \"2015-01-31T00:00:00\", \"EreignisDatJahr\": 2015, \"EreignisDatMM\": 1, \"SexLang\": \"weiblich\", \"sum_WBev\": 253}, {\"StichtagDat\": \"2017-08-31T00:00:00\", \"EreignisDatJahr\": 2017, \"EreignisDatMM\": 8, \"SexLang\": \"m\\u00e4nnlich\", \"sum_WBev\": 250}, {\"StichtagDat\": \"2020-07-31T00:00:00\", \"EreignisDatJahr\": 2020, \"EreignisDatMM\": 7, \"SexLang\": \"m\\u00e4nnlich\", \"sum_WBev\": 250}, {\"StichtagDat\": \"2014-09-30T00:00:00\", \"EreignisDatJahr\": 2014, \"EreignisDatMM\": 9, \"SexLang\": \"m\\u00e4nnlich\", \"sum_WBev\": 250}, {\"StichtagDat\": \"2019-05-31T00:00:00\", \"EreignisDatJahr\": 2019, \"EreignisDatMM\": 5, \"SexLang\": \"m\\u00e4nnlich\", \"sum_WBev\": 249}, {\"StichtagDat\": \"2013-01-31T00:00:00\", \"EreignisDatJahr\": 2013, \"EreignisDatMM\": 1, \"SexLang\": \"weiblich\", \"sum_WBev\": 248}, {\"StichtagDat\": \"2021-08-31T00:00:00\", \"EreignisDatJahr\": 2021, \"EreignisDatMM\": 8, \"SexLang\": \"m\\u00e4nnlich\", \"sum_WBev\": 248}, {\"StichtagDat\": \"2016-07-31T00:00:00\", \"EreignisDatJahr\": 2016, \"EreignisDatMM\": 7, \"SexLang\": \"m\\u00e4nnlich\", \"sum_WBev\": 246}, {\"StichtagDat\": \"2018-10-31T00:00:00\", \"EreignisDatJahr\": 2018, \"EreignisDatMM\": 10, \"SexLang\": \"m\\u00e4nnlich\", \"sum_WBev\": 244}, {\"StichtagDat\": \"2018-05-31T00:00:00\", \"EreignisDatJahr\": 2018, \"EreignisDatMM\": 5, \"SexLang\": \"m\\u00e4nnlich\", \"sum_WBev\": 244}, {\"StichtagDat\": \"2019-07-31T00:00:00\", \"EreignisDatJahr\": 2019, \"EreignisDatMM\": 7, \"SexLang\": \"m\\u00e4nnlich\", \"sum_WBev\": 243}, {\"StichtagDat\": \"2012-01-31T00:00:00\", \"EreignisDatJahr\": 2012, \"EreignisDatMM\": 1, \"SexLang\": \"weiblich\", \"sum_WBev\": 242}, {\"StichtagDat\": \"2018-08-31T00:00:00\", \"EreignisDatJahr\": 2018, \"EreignisDatMM\": 8, \"SexLang\": \"m\\u00e4nnlich\", \"sum_WBev\": 240}, {\"StichtagDat\": \"2015-06-30T00:00:00\", \"EreignisDatJahr\": 2015, \"EreignisDatMM\": 6, \"SexLang\": \"m\\u00e4nnlich\", \"sum_WBev\": 240}, {\"StichtagDat\": \"2015-04-30T00:00:00\", \"EreignisDatJahr\": 2015, \"EreignisDatMM\": 4, \"SexLang\": \"m\\u00e4nnlich\", \"sum_WBev\": 239}, {\"StichtagDat\": \"2015-08-31T00:00:00\", \"EreignisDatJahr\": 2015, \"EreignisDatMM\": 8, \"SexLang\": \"m\\u00e4nnlich\", \"sum_WBev\": 239}, {\"StichtagDat\": \"2015-07-31T00:00:00\", \"EreignisDatJahr\": 2015, \"EreignisDatMM\": 7, \"SexLang\": \"m\\u00e4nnlich\", \"sum_WBev\": 239}, {\"StichtagDat\": \"2017-05-31T00:00:00\", \"EreignisDatJahr\": 2017, \"EreignisDatMM\": 5, \"SexLang\": \"m\\u00e4nnlich\", \"sum_WBev\": 238}, {\"StichtagDat\": \"2020-03-31T00:00:00\", \"EreignisDatJahr\": 2020, \"EreignisDatMM\": 3, \"SexLang\": \"weiblich\", \"sum_WBev\": 238}, {\"StichtagDat\": \"2017-10-31T00:00:00\", \"EreignisDatJahr\": 2017, \"EreignisDatMM\": 10, \"SexLang\": \"m\\u00e4nnlich\", \"sum_WBev\": 238}, {\"StichtagDat\": \"2017-07-31T00:00:00\", \"EreignisDatJahr\": 2017, \"EreignisDatMM\": 7, \"SexLang\": \"m\\u00e4nnlich\", \"sum_WBev\": 237}, {\"StichtagDat\": \"2011-01-31T00:00:00\", \"EreignisDatJahr\": 2011, \"EreignisDatMM\": 1, \"SexLang\": \"m\\u00e4nnlich\", \"sum_WBev\": 237}, {\"StichtagDat\": \"2021-10-31T00:00:00\", \"EreignisDatJahr\": 2021, \"EreignisDatMM\": 10, \"SexLang\": \"weiblich\", \"sum_WBev\": 236}, {\"StichtagDat\": \"2012-01-31T00:00:00\", \"EreignisDatJahr\": 2012, \"EreignisDatMM\": 1, \"SexLang\": \"m\\u00e4nnlich\", \"sum_WBev\": 236}, {\"StichtagDat\": \"2016-02-29T00:00:00\", \"EreignisDatJahr\": 2016, \"EreignisDatMM\": 2, \"SexLang\": \"m\\u00e4nnlich\", \"sum_WBev\": 234}, {\"StichtagDat\": \"2014-04-30T00:00:00\", \"EreignisDatJahr\": 2014, \"EreignisDatMM\": 4, \"SexLang\": \"m\\u00e4nnlich\", \"sum_WBev\": 234}, {\"StichtagDat\": \"2010-01-31T00:00:00\", \"EreignisDatJahr\": 2010, \"EreignisDatMM\": 1, \"SexLang\": \"weiblich\", \"sum_WBev\": 233}, {\"StichtagDat\": \"2018-09-30T00:00:00\", \"EreignisDatJahr\": 2018, \"EreignisDatMM\": 9, \"SexLang\": \"m\\u00e4nnlich\", \"sum_WBev\": 233}, {\"StichtagDat\": \"2019-08-31T00:00:00\", \"EreignisDatJahr\": 2019, \"EreignisDatMM\": 8, \"SexLang\": \"weiblich\", \"sum_WBev\": 231}, {\"StichtagDat\": \"2014-07-31T00:00:00\", \"EreignisDatJahr\": 2014, \"EreignisDatMM\": 7, \"SexLang\": \"weiblich\", \"sum_WBev\": 231}, {\"StichtagDat\": \"2019-09-30T00:00:00\", \"EreignisDatJahr\": 2019, \"EreignisDatMM\": 9, \"SexLang\": \"m\\u00e4nnlich\", \"sum_WBev\": 230}, {\"StichtagDat\": \"2017-07-31T00:00:00\", \"EreignisDatJahr\": 2017, \"EreignisDatMM\": 7, \"SexLang\": \"weiblich\", \"sum_WBev\": 230}, {\"StichtagDat\": \"2006-01-31T00:00:00\", \"EreignisDatJahr\": 2006, \"EreignisDatMM\": 1, \"SexLang\": \"weiblich\", \"sum_WBev\": 230}, {\"StichtagDat\": \"2017-03-31T00:00:00\", \"EreignisDatJahr\": 2017, \"EreignisDatMM\": 3, \"SexLang\": \"weiblich\", \"sum_WBev\": 229}, {\"StichtagDat\": \"2021-06-30T00:00:00\", \"EreignisDatJahr\": 2021, \"EreignisDatMM\": 6, \"SexLang\": \"m\\u00e4nnlich\", \"sum_WBev\": 229}, {\"StichtagDat\": \"2013-07-31T00:00:00\", \"EreignisDatJahr\": 2013, \"EreignisDatMM\": 7, \"SexLang\": \"weiblich\", \"sum_WBev\": 229}, {\"StichtagDat\": \"2016-09-30T00:00:00\", \"EreignisDatJahr\": 2016, \"EreignisDatMM\": 9, \"SexLang\": \"weiblich\", \"sum_WBev\": 229}, {\"StichtagDat\": \"2019-05-31T00:00:00\", \"EreignisDatJahr\": 2019, \"EreignisDatMM\": 5, \"SexLang\": \"weiblich\", \"sum_WBev\": 229}, {\"StichtagDat\": \"2015-09-30T00:00:00\", \"EreignisDatJahr\": 2015, \"EreignisDatMM\": 9, \"SexLang\": \"m\\u00e4nnlich\", \"sum_WBev\": 228}, {\"StichtagDat\": \"2015-10-31T00:00:00\", \"EreignisDatJahr\": 2015, \"EreignisDatMM\": 10, \"SexLang\": \"m\\u00e4nnlich\", \"sum_WBev\": 228}, {\"StichtagDat\": \"2020-06-30T00:00:00\", \"EreignisDatJahr\": 2020, \"EreignisDatMM\": 6, \"SexLang\": \"m\\u00e4nnlich\", \"sum_WBev\": 228}, {\"StichtagDat\": \"2020-10-31T00:00:00\", \"EreignisDatJahr\": 2020, \"EreignisDatMM\": 10, \"SexLang\": \"m\\u00e4nnlich\", \"sum_WBev\": 227}, {\"StichtagDat\": \"2011-10-31T00:00:00\", \"EreignisDatJahr\": 2011, \"EreignisDatMM\": 10, \"SexLang\": \"m\\u00e4nnlich\", \"sum_WBev\": 227}, {\"StichtagDat\": \"2016-09-30T00:00:00\", \"EreignisDatJahr\": 2016, \"EreignisDatMM\": 9, \"SexLang\": \"m\\u00e4nnlich\", \"sum_WBev\": 226}, {\"StichtagDat\": \"2021-08-31T00:00:00\", \"EreignisDatJahr\": 2021, \"EreignisDatMM\": 8, \"SexLang\": \"weiblich\", \"sum_WBev\": 226}, {\"StichtagDat\": \"2021-10-31T00:00:00\", \"EreignisDatJahr\": 2021, \"EreignisDatMM\": 10, \"SexLang\": \"m\\u00e4nnlich\", \"sum_WBev\": 226}, {\"StichtagDat\": \"2017-08-31T00:00:00\", \"EreignisDatJahr\": 2017, \"EreignisDatMM\": 8, \"SexLang\": \"weiblich\", \"sum_WBev\": 226}, {\"StichtagDat\": \"2013-07-31T00:00:00\", \"EreignisDatJahr\": 2013, \"EreignisDatMM\": 7, \"SexLang\": \"m\\u00e4nnlich\", \"sum_WBev\": 226}, {\"StichtagDat\": \"2010-01-31T00:00:00\", \"EreignisDatJahr\": 2010, \"EreignisDatMM\": 1, \"SexLang\": \"m\\u00e4nnlich\", \"sum_WBev\": 226}, {\"StichtagDat\": \"2016-08-31T00:00:00\", \"EreignisDatJahr\": 2016, \"EreignisDatMM\": 8, \"SexLang\": \"m\\u00e4nnlich\", \"sum_WBev\": 225}, {\"StichtagDat\": \"2015-05-31T00:00:00\", \"EreignisDatJahr\": 2015, \"EreignisDatMM\": 5, \"SexLang\": \"weiblich\", \"sum_WBev\": 225}, {\"StichtagDat\": \"2016-05-31T00:00:00\", \"EreignisDatJahr\": 2016, \"EreignisDatMM\": 5, \"SexLang\": \"m\\u00e4nnlich\", \"sum_WBev\": 225}, {\"StichtagDat\": \"2016-10-31T00:00:00\", \"EreignisDatJahr\": 2016, \"EreignisDatMM\": 10, \"SexLang\": \"m\\u00e4nnlich\", \"sum_WBev\": 224}, {\"StichtagDat\": \"2018-03-31T00:00:00\", \"EreignisDatJahr\": 2018, \"EreignisDatMM\": 3, \"SexLang\": \"m\\u00e4nnlich\", \"sum_WBev\": 224}, {\"StichtagDat\": \"2012-09-30T00:00:00\", \"EreignisDatJahr\": 2012, \"EreignisDatMM\": 9, \"SexLang\": \"m\\u00e4nnlich\", \"sum_WBev\": 224}, {\"StichtagDat\": \"2019-07-31T00:00:00\", \"EreignisDatJahr\": 2019, \"EreignisDatMM\": 7, \"SexLang\": \"weiblich\", \"sum_WBev\": 224}, {\"StichtagDat\": \"2011-09-30T00:00:00\", \"EreignisDatJahr\": 2011, \"EreignisDatMM\": 9, \"SexLang\": \"m\\u00e4nnlich\", \"sum_WBev\": 224}, {\"StichtagDat\": \"2021-05-31T00:00:00\", \"EreignisDatJahr\": 2021, \"EreignisDatMM\": 5, \"SexLang\": \"weiblich\", \"sum_WBev\": 223}, {\"StichtagDat\": \"2016-04-30T00:00:00\", \"EreignisDatJahr\": 2016, \"EreignisDatMM\": 4, \"SexLang\": \"m\\u00e4nnlich\", \"sum_WBev\": 223}, {\"StichtagDat\": \"2017-09-30T00:00:00\", \"EreignisDatJahr\": 2017, \"EreignisDatMM\": 9, \"SexLang\": \"m\\u00e4nnlich\", \"sum_WBev\": 223}, {\"StichtagDat\": \"2015-07-31T00:00:00\", \"EreignisDatJahr\": 2015, \"EreignisDatMM\": 7, \"SexLang\": \"weiblich\", \"sum_WBev\": 223}, {\"StichtagDat\": \"2018-08-31T00:00:00\", \"EreignisDatJahr\": 2018, \"EreignisDatMM\": 8, \"SexLang\": \"weiblich\", \"sum_WBev\": 223}, {\"StichtagDat\": \"2021-09-30T00:00:00\", \"EreignisDatJahr\": 2021, \"EreignisDatMM\": 9, \"SexLang\": \"m\\u00e4nnlich\", \"sum_WBev\": 223}, {\"StichtagDat\": \"2021-07-31T00:00:00\", \"EreignisDatJahr\": 2021, \"EreignisDatMM\": 7, \"SexLang\": \"m\\u00e4nnlich\", \"sum_WBev\": 223}, {\"StichtagDat\": \"2021-03-31T00:00:00\", \"EreignisDatJahr\": 2021, \"EreignisDatMM\": 3, \"SexLang\": \"m\\u00e4nnlich\", \"sum_WBev\": 223}, {\"StichtagDat\": \"2018-05-31T00:00:00\", \"EreignisDatJahr\": 2018, \"EreignisDatMM\": 5, \"SexLang\": \"weiblich\", \"sum_WBev\": 223}, {\"StichtagDat\": \"2010-05-31T00:00:00\", \"EreignisDatJahr\": 2010, \"EreignisDatMM\": 5, \"SexLang\": \"m\\u00e4nnlich\", \"sum_WBev\": 222}, {\"StichtagDat\": \"2013-08-31T00:00:00\", \"EreignisDatJahr\": 2013, \"EreignisDatMM\": 8, \"SexLang\": \"weiblich\", \"sum_WBev\": 222}, {\"StichtagDat\": \"2016-06-30T00:00:00\", \"EreignisDatJahr\": 2016, \"EreignisDatMM\": 6, \"SexLang\": \"m\\u00e4nnlich\", \"sum_WBev\": 222}, {\"StichtagDat\": \"2013-05-31T00:00:00\", \"EreignisDatJahr\": 2013, \"EreignisDatMM\": 5, \"SexLang\": \"m\\u00e4nnlich\", \"sum_WBev\": 222}, {\"StichtagDat\": \"2021-06-30T00:00:00\", \"EreignisDatJahr\": 2021, \"EreignisDatMM\": 6, \"SexLang\": \"weiblich\", \"sum_WBev\": 220}, {\"StichtagDat\": \"2009-01-31T00:00:00\", \"EreignisDatJahr\": 2009, \"EreignisDatMM\": 1, \"SexLang\": \"weiblich\", \"sum_WBev\": 220}, {\"StichtagDat\": \"2010-03-31T00:00:00\", \"EreignisDatJahr\": 2010, \"EreignisDatMM\": 3, \"SexLang\": \"m\\u00e4nnlich\", \"sum_WBev\": 220}, {\"StichtagDat\": \"2018-06-30T00:00:00\", \"EreignisDatJahr\": 2018, \"EreignisDatMM\": 6, \"SexLang\": \"weiblich\", \"sum_WBev\": 220}, {\"StichtagDat\": \"2018-06-30T00:00:00\", \"EreignisDatJahr\": 2018, \"EreignisDatMM\": 6, \"SexLang\": \"m\\u00e4nnlich\", \"sum_WBev\": 220}, {\"StichtagDat\": \"2014-06-30T00:00:00\", \"EreignisDatJahr\": 2014, \"EreignisDatMM\": 6, \"SexLang\": \"weiblich\", \"sum_WBev\": 220}, {\"StichtagDat\": \"2014-07-31T00:00:00\", \"EreignisDatJahr\": 2014, \"EreignisDatMM\": 7, \"SexLang\": \"m\\u00e4nnlich\", \"sum_WBev\": 219}, {\"StichtagDat\": \"2014-05-31T00:00:00\", \"EreignisDatJahr\": 2014, \"EreignisDatMM\": 5, \"SexLang\": \"m\\u00e4nnlich\", \"sum_WBev\": 219}, {\"StichtagDat\": \"2008-05-31T00:00:00\", \"EreignisDatJahr\": 2008, \"EreignisDatMM\": 5, \"SexLang\": \"m\\u00e4nnlich\", \"sum_WBev\": 219}, {\"StichtagDat\": \"2020-05-31T00:00:00\", \"EreignisDatJahr\": 2020, \"EreignisDatMM\": 5, \"SexLang\": \"m\\u00e4nnlich\", \"sum_WBev\": 219}, {\"StichtagDat\": \"2014-11-30T00:00:00\", \"EreignisDatJahr\": 2014, \"EreignisDatMM\": 11, \"SexLang\": \"m\\u00e4nnlich\", \"sum_WBev\": 219}, {\"StichtagDat\": \"2009-04-30T00:00:00\", \"EreignisDatJahr\": 2009, \"EreignisDatMM\": 4, \"SexLang\": \"m\\u00e4nnlich\", \"sum_WBev\": 219}, {\"StichtagDat\": \"2011-07-31T00:00:00\", \"EreignisDatJahr\": 2011, \"EreignisDatMM\": 7, \"SexLang\": \"m\\u00e4nnlich\", \"sum_WBev\": 219}, {\"StichtagDat\": \"2020-03-31T00:00:00\", \"EreignisDatJahr\": 2020, \"EreignisDatMM\": 3, \"SexLang\": \"m\\u00e4nnlich\", \"sum_WBev\": 218}, {\"StichtagDat\": \"2014-08-31T00:00:00\", \"EreignisDatJahr\": 2014, \"EreignisDatMM\": 8, \"SexLang\": \"weiblich\", \"sum_WBev\": 218}, {\"StichtagDat\": \"2018-07-31T00:00:00\", \"EreignisDatJahr\": 2018, \"EreignisDatMM\": 7, \"SexLang\": \"weiblich\", \"sum_WBev\": 218}, {\"StichtagDat\": \"2018-09-30T00:00:00\", \"EreignisDatJahr\": 2018, \"EreignisDatMM\": 9, \"SexLang\": \"weiblich\", \"sum_WBev\": 217}, {\"StichtagDat\": \"2017-06-30T00:00:00\", \"EreignisDatJahr\": 2017, \"EreignisDatMM\": 6, \"SexLang\": \"weiblich\", \"sum_WBev\": 217}, {\"StichtagDat\": \"2017-06-30T00:00:00\", \"EreignisDatJahr\": 2017, \"EreignisDatMM\": 6, \"SexLang\": \"m\\u00e4nnlich\", \"sum_WBev\": 217}, {\"StichtagDat\": \"2012-07-31T00:00:00\", \"EreignisDatJahr\": 2012, \"EreignisDatMM\": 7, \"SexLang\": \"m\\u00e4nnlich\", \"sum_WBev\": 217}, {\"StichtagDat\": \"2020-04-30T00:00:00\", \"EreignisDatJahr\": 2020, \"EreignisDatMM\": 4, \"SexLang\": \"weiblich\", \"sum_WBev\": 216}, {\"StichtagDat\": \"2018-02-28T00:00:00\", \"EreignisDatJahr\": 2018, \"EreignisDatMM\": 2, \"SexLang\": \"m\\u00e4nnlich\", \"sum_WBev\": 216}, {\"StichtagDat\": \"2016-03-31T00:00:00\", \"EreignisDatJahr\": 2016, \"EreignisDatMM\": 3, \"SexLang\": \"m\\u00e4nnlich\", \"sum_WBev\": 216}, {\"StichtagDat\": \"2014-09-30T00:00:00\", \"EreignisDatJahr\": 2014, \"EreignisDatMM\": 9, \"SexLang\": \"weiblich\", \"sum_WBev\": 216}, {\"StichtagDat\": \"2021-03-31T00:00:00\", \"EreignisDatJahr\": 2021, \"EreignisDatMM\": 3, \"SexLang\": \"weiblich\", \"sum_WBev\": 215}, {\"StichtagDat\": \"2011-05-31T00:00:00\", \"EreignisDatJahr\": 2011, \"EreignisDatMM\": 5, \"SexLang\": \"m\\u00e4nnlich\", \"sum_WBev\": 215}, {\"StichtagDat\": \"2011-04-30T00:00:00\", \"EreignisDatJahr\": 2011, \"EreignisDatMM\": 4, \"SexLang\": \"m\\u00e4nnlich\", \"sum_WBev\": 215}, {\"StichtagDat\": \"2017-09-30T00:00:00\", \"EreignisDatJahr\": 2017, \"EreignisDatMM\": 9, \"SexLang\": \"weiblich\", \"sum_WBev\": 215}, {\"StichtagDat\": \"2016-03-31T00:00:00\", \"EreignisDatJahr\": 2016, \"EreignisDatMM\": 3, \"SexLang\": \"weiblich\", \"sum_WBev\": 215}, {\"StichtagDat\": \"2021-05-31T00:00:00\", \"EreignisDatJahr\": 2021, \"EreignisDatMM\": 5, \"SexLang\": \"m\\u00e4nnlich\", \"sum_WBev\": 215}, {\"StichtagDat\": \"2012-04-30T00:00:00\", \"EreignisDatJahr\": 2012, \"EreignisDatMM\": 4, \"SexLang\": \"m\\u00e4nnlich\", \"sum_WBev\": 214}, {\"StichtagDat\": \"2019-08-31T00:00:00\", \"EreignisDatJahr\": 2019, \"EreignisDatMM\": 8, \"SexLang\": \"m\\u00e4nnlich\", \"sum_WBev\": 213}, {\"StichtagDat\": \"2014-03-31T00:00:00\", \"EreignisDatJahr\": 2014, \"EreignisDatMM\": 3, \"SexLang\": \"m\\u00e4nnlich\", \"sum_WBev\": 213}, {\"StichtagDat\": \"2020-04-30T00:00:00\", \"EreignisDatJahr\": 2020, \"EreignisDatMM\": 4, \"SexLang\": \"m\\u00e4nnlich\", \"sum_WBev\": 213}, {\"StichtagDat\": \"2012-07-31T00:00:00\", \"EreignisDatJahr\": 2012, \"EreignisDatMM\": 7, \"SexLang\": \"weiblich\", \"sum_WBev\": 213}, {\"StichtagDat\": \"2021-07-31T00:00:00\", \"EreignisDatJahr\": 2021, \"EreignisDatMM\": 7, \"SexLang\": \"weiblich\", \"sum_WBev\": 212}, {\"StichtagDat\": \"2019-03-31T00:00:00\", \"EreignisDatJahr\": 2019, \"EreignisDatMM\": 3, \"SexLang\": \"m\\u00e4nnlich\", \"sum_WBev\": 212}, {\"StichtagDat\": \"2010-08-31T00:00:00\", \"EreignisDatJahr\": 2010, \"EreignisDatMM\": 8, \"SexLang\": \"weiblich\", \"sum_WBev\": 212}, {\"StichtagDat\": \"2013-04-30T00:00:00\", \"EreignisDatJahr\": 2013, \"EreignisDatMM\": 4, \"SexLang\": \"weiblich\", \"sum_WBev\": 212}, {\"StichtagDat\": \"2018-10-31T00:00:00\", \"EreignisDatJahr\": 2018, \"EreignisDatMM\": 10, \"SexLang\": \"weiblich\", \"sum_WBev\": 212}, {\"StichtagDat\": \"2008-01-31T00:00:00\", \"EreignisDatJahr\": 2008, \"EreignisDatMM\": 1, \"SexLang\": \"weiblich\", \"sum_WBev\": 212}, {\"StichtagDat\": \"2015-09-30T00:00:00\", \"EreignisDatJahr\": 2015, \"EreignisDatMM\": 9, \"SexLang\": \"weiblich\", \"sum_WBev\": 211}, {\"StichtagDat\": \"2017-04-30T00:00:00\", \"EreignisDatJahr\": 2017, \"EreignisDatMM\": 4, \"SexLang\": \"m\\u00e4nnlich\", \"sum_WBev\": 211}, {\"StichtagDat\": \"2019-09-30T00:00:00\", \"EreignisDatJahr\": 2019, \"EreignisDatMM\": 9, \"SexLang\": \"weiblich\", \"sum_WBev\": 211}, {\"StichtagDat\": \"2013-03-31T00:00:00\", \"EreignisDatJahr\": 2013, \"EreignisDatMM\": 3, \"SexLang\": \"m\\u00e4nnlich\", \"sum_WBev\": 211}, {\"StichtagDat\": \"2013-06-30T00:00:00\", \"EreignisDatJahr\": 2013, \"EreignisDatMM\": 6, \"SexLang\": \"weiblich\", \"sum_WBev\": 211}, {\"StichtagDat\": \"2020-08-31T00:00:00\", \"EreignisDatJahr\": 2020, \"EreignisDatMM\": 8, \"SexLang\": \"m\\u00e4nnlich\", \"sum_WBev\": 211}, {\"StichtagDat\": \"2009-07-31T00:00:00\", \"EreignisDatJahr\": 2009, \"EreignisDatMM\": 7, \"SexLang\": \"weiblich\", \"sum_WBev\": 211}, {\"StichtagDat\": \"2010-09-30T00:00:00\", \"EreignisDatJahr\": 2010, \"EreignisDatMM\": 9, \"SexLang\": \"m\\u00e4nnlich\", \"sum_WBev\": 211}, {\"StichtagDat\": \"2009-05-31T00:00:00\", \"EreignisDatJahr\": 2009, \"EreignisDatMM\": 5, \"SexLang\": \"m\\u00e4nnlich\", \"sum_WBev\": 211}, {\"StichtagDat\": \"2017-03-31T00:00:00\", \"EreignisDatJahr\": 2017, \"EreignisDatMM\": 3, \"SexLang\": \"m\\u00e4nnlich\", \"sum_WBev\": 211}, {\"StichtagDat\": \"2016-07-31T00:00:00\", \"EreignisDatJahr\": 2016, \"EreignisDatMM\": 7, \"SexLang\": \"weiblich\", \"sum_WBev\": 211}, {\"StichtagDat\": \"2016-08-31T00:00:00\", \"EreignisDatJahr\": 2016, \"EreignisDatMM\": 8, \"SexLang\": \"weiblich\", \"sum_WBev\": 210}, {\"StichtagDat\": \"2017-11-30T00:00:00\", \"EreignisDatJahr\": 2017, \"EreignisDatMM\": 11, \"SexLang\": \"m\\u00e4nnlich\", \"sum_WBev\": 210}, {\"StichtagDat\": \"2013-03-31T00:00:00\", \"EreignisDatJahr\": 2013, \"EreignisDatMM\": 3, \"SexLang\": \"weiblich\", \"sum_WBev\": 210}, {\"StichtagDat\": \"2015-12-31T00:00:00\", \"EreignisDatJahr\": 2015, \"EreignisDatMM\": 12, \"SexLang\": \"weiblich\", \"sum_WBev\": 210}, {\"StichtagDat\": \"2006-07-31T00:00:00\", \"EreignisDatJahr\": 2006, \"EreignisDatMM\": 7, \"SexLang\": \"weiblich\", \"sum_WBev\": 210}, {\"StichtagDat\": \"2009-07-31T00:00:00\", \"EreignisDatJahr\": 2009, \"EreignisDatMM\": 7, \"SexLang\": \"m\\u00e4nnlich\", \"sum_WBev\": 210}, {\"StichtagDat\": \"2011-11-30T00:00:00\", \"EreignisDatJahr\": 2011, \"EreignisDatMM\": 11, \"SexLang\": \"m\\u00e4nnlich\", \"sum_WBev\": 209}, {\"StichtagDat\": \"2008-01-31T00:00:00\", \"EreignisDatJahr\": 2008, \"EreignisDatMM\": 1, \"SexLang\": \"m\\u00e4nnlich\", \"sum_WBev\": 209}, {\"StichtagDat\": \"2015-05-31T00:00:00\", \"EreignisDatJahr\": 2015, \"EreignisDatMM\": 5, \"SexLang\": \"m\\u00e4nnlich\", \"sum_WBev\": 209}, {\"StichtagDat\": \"2021-04-30T00:00:00\", \"EreignisDatJahr\": 2021, \"EreignisDatMM\": 4, \"SexLang\": \"weiblich\", \"sum_WBev\": 209}, {\"StichtagDat\": \"2014-06-30T00:00:00\", \"EreignisDatJahr\": 2014, \"EreignisDatMM\": 6, \"SexLang\": \"m\\u00e4nnlich\", \"sum_WBev\": 208}, {\"StichtagDat\": \"2015-03-31T00:00:00\", \"EreignisDatJahr\": 2015, \"EreignisDatMM\": 3, \"SexLang\": \"weiblich\", \"sum_WBev\": 208}, {\"StichtagDat\": \"2021-02-28T00:00:00\", \"EreignisDatJahr\": 2021, \"EreignisDatMM\": 2, \"SexLang\": \"m\\u00e4nnlich\", \"sum_WBev\": 208}, {\"StichtagDat\": \"2019-04-30T00:00:00\", \"EreignisDatJahr\": 2019, \"EreignisDatMM\": 4, \"SexLang\": \"weiblich\", \"sum_WBev\": 208}, {\"StichtagDat\": \"2012-09-30T00:00:00\", \"EreignisDatJahr\": 2012, \"EreignisDatMM\": 9, \"SexLang\": \"weiblich\", \"sum_WBev\": 208}, {\"StichtagDat\": \"2019-04-30T00:00:00\", \"EreignisDatJahr\": 2019, \"EreignisDatMM\": 4, \"SexLang\": \"m\\u00e4nnlich\", \"sum_WBev\": 208}, {\"StichtagDat\": \"2016-04-30T00:00:00\", \"EreignisDatJahr\": 2016, \"EreignisDatMM\": 4, \"SexLang\": \"weiblich\", \"sum_WBev\": 207}, {\"StichtagDat\": \"2015-03-31T00:00:00\", \"EreignisDatJahr\": 2015, \"EreignisDatMM\": 3, \"SexLang\": \"m\\u00e4nnlich\", \"sum_WBev\": 207}, {\"StichtagDat\": \"2014-10-31T00:00:00\", \"EreignisDatJahr\": 2014, \"EreignisDatMM\": 10, \"SexLang\": \"weiblich\", \"sum_WBev\": 207}, {\"StichtagDat\": \"2011-06-30T00:00:00\", \"EreignisDatJahr\": 2011, \"EreignisDatMM\": 6, \"SexLang\": \"m\\u00e4nnlich\", \"sum_WBev\": 207}, {\"StichtagDat\": \"2020-02-29T00:00:00\", \"EreignisDatJahr\": 2020, \"EreignisDatMM\": 2, \"SexLang\": \"m\\u00e4nnlich\", \"sum_WBev\": 207}, {\"StichtagDat\": \"2020-02-29T00:00:00\", \"EreignisDatJahr\": 2020, \"EreignisDatMM\": 2, \"SexLang\": \"weiblich\", \"sum_WBev\": 207}, {\"StichtagDat\": \"2015-02-28T00:00:00\", \"EreignisDatJahr\": 2015, \"EreignisDatMM\": 2, \"SexLang\": \"m\\u00e4nnlich\", \"sum_WBev\": 207}, {\"StichtagDat\": \"2018-04-30T00:00:00\", \"EreignisDatJahr\": 2018, \"EreignisDatMM\": 4, \"SexLang\": \"weiblich\", \"sum_WBev\": 207}, {\"StichtagDat\": \"2010-10-31T00:00:00\", \"EreignisDatJahr\": 2010, \"EreignisDatMM\": 10, \"SexLang\": \"m\\u00e4nnlich\", \"sum_WBev\": 206}, {\"StichtagDat\": \"2021-04-30T00:00:00\", \"EreignisDatJahr\": 2021, \"EreignisDatMM\": 4, \"SexLang\": \"m\\u00e4nnlich\", \"sum_WBev\": 206}, {\"StichtagDat\": \"2012-05-31T00:00:00\", \"EreignisDatJahr\": 2012, \"EreignisDatMM\": 5, \"SexLang\": \"m\\u00e4nnlich\", \"sum_WBev\": 206}, {\"StichtagDat\": \"2014-08-31T00:00:00\", \"EreignisDatJahr\": 2014, \"EreignisDatMM\": 8, \"SexLang\": \"m\\u00e4nnlich\", \"sum_WBev\": 205}, {\"StichtagDat\": \"2013-09-30T00:00:00\", \"EreignisDatJahr\": 2013, \"EreignisDatMM\": 9, \"SexLang\": \"weiblich\", \"sum_WBev\": 205}, {\"StichtagDat\": \"2009-08-31T00:00:00\", \"EreignisDatJahr\": 2009, \"EreignisDatMM\": 8, \"SexLang\": \"m\\u00e4nnlich\", \"sum_WBev\": 204}, {\"StichtagDat\": \"2010-07-31T00:00:00\", \"EreignisDatJahr\": 2010, \"EreignisDatMM\": 7, \"SexLang\": \"m\\u00e4nnlich\", \"sum_WBev\": 204}, {\"StichtagDat\": \"2020-09-30T00:00:00\", \"EreignisDatJahr\": 2020, \"EreignisDatMM\": 9, \"SexLang\": \"m\\u00e4nnlich\", \"sum_WBev\": 204}, {\"StichtagDat\": \"2010-08-31T00:00:00\", \"EreignisDatJahr\": 2010, \"EreignisDatMM\": 8, \"SexLang\": \"m\\u00e4nnlich\", \"sum_WBev\": 204}, {\"StichtagDat\": \"2014-04-30T00:00:00\", \"EreignisDatJahr\": 2014, \"EreignisDatMM\": 4, \"SexLang\": \"weiblich\", \"sum_WBev\": 204}, {\"StichtagDat\": \"2019-06-30T00:00:00\", \"EreignisDatJahr\": 2019, \"EreignisDatMM\": 6, \"SexLang\": \"weiblich\", \"sum_WBev\": 204}, {\"StichtagDat\": \"2015-08-31T00:00:00\", \"EreignisDatJahr\": 2015, \"EreignisDatMM\": 8, \"SexLang\": \"weiblich\", \"sum_WBev\": 204}, {\"StichtagDat\": \"2014-10-31T00:00:00\", \"EreignisDatJahr\": 2014, \"EreignisDatMM\": 10, \"SexLang\": \"m\\u00e4nnlich\", \"sum_WBev\": 204}, {\"StichtagDat\": \"2011-08-31T00:00:00\", \"EreignisDatJahr\": 2011, \"EreignisDatMM\": 8, \"SexLang\": \"weiblich\", \"sum_WBev\": 203}, {\"StichtagDat\": \"2013-08-31T00:00:00\", \"EreignisDatJahr\": 2013, \"EreignisDatMM\": 8, \"SexLang\": \"m\\u00e4nnlich\", \"sum_WBev\": 203}, {\"StichtagDat\": \"2020-10-31T00:00:00\", \"EreignisDatJahr\": 2020, \"EreignisDatMM\": 10, \"SexLang\": \"weiblich\", \"sum_WBev\": 203}, {\"StichtagDat\": \"2009-04-30T00:00:00\", \"EreignisDatJahr\": 2009, \"EreignisDatMM\": 4, \"SexLang\": \"weiblich\", \"sum_WBev\": 203}, {\"StichtagDat\": \"2013-10-31T00:00:00\", \"EreignisDatJahr\": 2013, \"EreignisDatMM\": 10, \"SexLang\": \"weiblich\", \"sum_WBev\": 203}, {\"StichtagDat\": \"2016-06-30T00:00:00\", \"EreignisDatJahr\": 2016, \"EreignisDatMM\": 6, \"SexLang\": \"weiblich\", \"sum_WBev\": 203}, {\"StichtagDat\": \"2012-08-31T00:00:00\", \"EreignisDatJahr\": 2012, \"EreignisDatMM\": 8, \"SexLang\": \"m\\u00e4nnlich\", \"sum_WBev\": 203}, {\"StichtagDat\": \"2014-05-31T00:00:00\", \"EreignisDatJahr\": 2014, \"EreignisDatMM\": 5, \"SexLang\": \"weiblich\", \"sum_WBev\": 203}, {\"StichtagDat\": \"2008-07-31T00:00:00\", \"EreignisDatJahr\": 2008, \"EreignisDatMM\": 7, \"SexLang\": \"m\\u00e4nnlich\", \"sum_WBev\": 203}, {\"StichtagDat\": \"2009-06-30T00:00:00\", \"EreignisDatJahr\": 2009, \"EreignisDatMM\": 6, \"SexLang\": \"weiblich\", \"sum_WBev\": 202}, {\"StichtagDat\": \"2012-11-30T00:00:00\", \"EreignisDatJahr\": 2012, \"EreignisDatMM\": 11, \"SexLang\": \"m\\u00e4nnlich\", \"sum_WBev\": 202}, {\"StichtagDat\": \"2016-02-29T00:00:00\", \"EreignisDatJahr\": 2016, \"EreignisDatMM\": 2, \"SexLang\": \"weiblich\", \"sum_WBev\": 202}, {\"StichtagDat\": \"2006-01-31T00:00:00\", \"EreignisDatJahr\": 2006, \"EreignisDatMM\": 1, \"SexLang\": \"m\\u00e4nnlich\", \"sum_WBev\": 201}, {\"StichtagDat\": \"2020-07-31T00:00:00\", \"EreignisDatJahr\": 2020, \"EreignisDatMM\": 7, \"SexLang\": \"weiblich\", \"sum_WBev\": 201}, {\"StichtagDat\": \"2018-02-28T00:00:00\", \"EreignisDatJahr\": 2018, \"EreignisDatMM\": 2, \"SexLang\": \"weiblich\", \"sum_WBev\": 201}, {\"StichtagDat\": \"2017-10-31T00:00:00\", \"EreignisDatJahr\": 2017, \"EreignisDatMM\": 10, \"SexLang\": \"weiblich\", \"sum_WBev\": 201}, {\"StichtagDat\": \"2013-10-31T00:00:00\", \"EreignisDatJahr\": 2013, \"EreignisDatMM\": 10, \"SexLang\": \"m\\u00e4nnlich\", \"sum_WBev\": 200}, {\"StichtagDat\": \"2016-11-30T00:00:00\", \"EreignisDatJahr\": 2016, \"EreignisDatMM\": 11, \"SexLang\": \"m\\u00e4nnlich\", \"sum_WBev\": 200}, {\"StichtagDat\": \"2011-03-31T00:00:00\", \"EreignisDatJahr\": 2011, \"EreignisDatMM\": 3, \"SexLang\": \"m\\u00e4nnlich\", \"sum_WBev\": 199}, {\"StichtagDat\": \"2017-05-31T00:00:00\", \"EreignisDatJahr\": 2017, \"EreignisDatMM\": 5, \"SexLang\": \"weiblich\", \"sum_WBev\": 199}, {\"StichtagDat\": \"2011-06-30T00:00:00\", \"EreignisDatJahr\": 2011, \"EreignisDatMM\": 6, \"SexLang\": \"weiblich\", \"sum_WBev\": 199}, {\"StichtagDat\": \"2013-12-31T00:00:00\", \"EreignisDatJahr\": 2013, \"EreignisDatMM\": 12, \"SexLang\": \"m\\u00e4nnlich\", \"sum_WBev\": 199}, {\"StichtagDat\": \"2005-01-31T00:00:00\", \"EreignisDatJahr\": 2005, \"EreignisDatMM\": 1, \"SexLang\": \"m\\u00e4nnlich\", \"sum_WBev\": 199}, {\"StichtagDat\": \"2018-03-31T00:00:00\", \"EreignisDatJahr\": 2018, \"EreignisDatMM\": 3, \"SexLang\": \"weiblich\", \"sum_WBev\": 199}, {\"StichtagDat\": \"2020-05-31T00:00:00\", \"EreignisDatJahr\": 2020, \"EreignisDatMM\": 5, \"SexLang\": \"weiblich\", \"sum_WBev\": 199}, {\"StichtagDat\": \"2015-02-28T00:00:00\", \"EreignisDatJahr\": 2015, \"EreignisDatMM\": 2, \"SexLang\": \"weiblich\", \"sum_WBev\": 199}, {\"StichtagDat\": \"2009-11-30T00:00:00\", \"EreignisDatJahr\": 2009, \"EreignisDatMM\": 11, \"SexLang\": \"m\\u00e4nnlich\", \"sum_WBev\": 199}, {\"StichtagDat\": \"2015-12-31T00:00:00\", \"EreignisDatJahr\": 2015, \"EreignisDatMM\": 12, \"SexLang\": \"m\\u00e4nnlich\", \"sum_WBev\": 199}, {\"StichtagDat\": \"2019-03-31T00:00:00\", \"EreignisDatJahr\": 2019, \"EreignisDatMM\": 3, \"SexLang\": \"weiblich\", \"sum_WBev\": 199}, {\"StichtagDat\": \"2011-04-30T00:00:00\", \"EreignisDatJahr\": 2011, \"EreignisDatMM\": 4, \"SexLang\": \"weiblich\", \"sum_WBev\": 198}, {\"StichtagDat\": \"2011-09-30T00:00:00\", \"EreignisDatJahr\": 2011, \"EreignisDatMM\": 9, \"SexLang\": \"weiblich\", \"sum_WBev\": 198}, {\"StichtagDat\": \"2008-02-29T00:00:00\", \"EreignisDatJahr\": 2008, \"EreignisDatMM\": 2, \"SexLang\": \"m\\u00e4nnlich\", \"sum_WBev\": 198}, {\"StichtagDat\": \"2019-10-31T00:00:00\", \"EreignisDatJahr\": 2019, \"EreignisDatMM\": 10, \"SexLang\": \"weiblich\", \"sum_WBev\": 197}, {\"StichtagDat\": \"2004-07-31T00:00:00\", \"EreignisDatJahr\": 2004, \"EreignisDatMM\": 7, \"SexLang\": \"m\\u00e4nnlich\", \"sum_WBev\": 197}, {\"StichtagDat\": \"2007-10-31T00:00:00\", \"EreignisDatJahr\": 2007, \"EreignisDatMM\": 10, \"SexLang\": \"weiblich\", \"sum_WBev\": 197}, {\"StichtagDat\": \"2010-07-31T00:00:00\", \"EreignisDatJahr\": 2010, \"EreignisDatMM\": 7, \"SexLang\": \"weiblich\", \"sum_WBev\": 196}, {\"StichtagDat\": \"2007-05-31T00:00:00\", \"EreignisDatJahr\": 2007, \"EreignisDatMM\": 5, \"SexLang\": \"m\\u00e4nnlich\", \"sum_WBev\": 196}, {\"StichtagDat\": \"2009-10-31T00:00:00\", \"EreignisDatJahr\": 2009, \"EreignisDatMM\": 10, \"SexLang\": \"weiblich\", \"sum_WBev\": 196}, {\"StichtagDat\": \"2012-06-30T00:00:00\", \"EreignisDatJahr\": 2012, \"EreignisDatMM\": 6, \"SexLang\": \"weiblich\", \"sum_WBev\": 196}, {\"StichtagDat\": \"2020-08-31T00:00:00\", \"EreignisDatJahr\": 2020, \"EreignisDatMM\": 8, \"SexLang\": \"weiblich\", \"sum_WBev\": 196}, {\"StichtagDat\": \"2020-09-30T00:00:00\", \"EreignisDatJahr\": 2020, \"EreignisDatMM\": 9, \"SexLang\": \"weiblich\", \"sum_WBev\": 196}, {\"StichtagDat\": \"2014-12-31T00:00:00\", \"EreignisDatJahr\": 2014, \"EreignisDatMM\": 12, \"SexLang\": \"weiblich\", \"sum_WBev\": 196}, {\"StichtagDat\": \"2020-11-30T00:00:00\", \"EreignisDatJahr\": 2020, \"EreignisDatMM\": 11, \"SexLang\": \"m\\u00e4nnlich\", \"sum_WBev\": 195}, {\"StichtagDat\": \"2017-11-30T00:00:00\", \"EreignisDatJahr\": 2017, \"EreignisDatMM\": 11, \"SexLang\": \"weiblich\", \"sum_WBev\": 195}, {\"StichtagDat\": \"2009-10-31T00:00:00\", \"EreignisDatJahr\": 2009, \"EreignisDatMM\": 10, \"SexLang\": \"m\\u00e4nnlich\", \"sum_WBev\": 195}, {\"StichtagDat\": \"2012-04-30T00:00:00\", \"EreignisDatJahr\": 2012, \"EreignisDatMM\": 4, \"SexLang\": \"weiblich\", \"sum_WBev\": 195}, {\"StichtagDat\": \"2019-10-31T00:00:00\", \"EreignisDatJahr\": 2019, \"EreignisDatMM\": 10, \"SexLang\": \"m\\u00e4nnlich\", \"sum_WBev\": 195}, {\"StichtagDat\": \"2019-11-30T00:00:00\", \"EreignisDatJahr\": 2019, \"EreignisDatMM\": 11, \"SexLang\": \"m\\u00e4nnlich\", \"sum_WBev\": 195}, {\"StichtagDat\": \"2021-11-30T00:00:00\", \"EreignisDatJahr\": 2021, \"EreignisDatMM\": 11, \"SexLang\": \"m\\u00e4nnlich\", \"sum_WBev\": 194}, {\"StichtagDat\": \"2016-05-31T00:00:00\", \"EreignisDatJahr\": 2016, \"EreignisDatMM\": 5, \"SexLang\": \"weiblich\", \"sum_WBev\": 194}, {\"StichtagDat\": \"2011-02-28T00:00:00\", \"EreignisDatJahr\": 2011, \"EreignisDatMM\": 2, \"SexLang\": \"m\\u00e4nnlich\", \"sum_WBev\": 194}, {\"StichtagDat\": \"2013-09-30T00:00:00\", \"EreignisDatJahr\": 2013, \"EreignisDatMM\": 9, \"SexLang\": \"m\\u00e4nnlich\", \"sum_WBev\": 194}, {\"StichtagDat\": \"2015-06-30T00:00:00\", \"EreignisDatJahr\": 2015, \"EreignisDatMM\": 6, \"SexLang\": \"weiblich\", \"sum_WBev\": 194}, {\"StichtagDat\": \"2017-02-28T00:00:00\", \"EreignisDatJahr\": 2017, \"EreignisDatMM\": 2, \"SexLang\": \"weiblich\", \"sum_WBev\": 194}, {\"StichtagDat\": \"2012-06-30T00:00:00\", \"EreignisDatJahr\": 2012, \"EreignisDatMM\": 6, \"SexLang\": \"m\\u00e4nnlich\", \"sum_WBev\": 194}, {\"StichtagDat\": \"2012-02-29T00:00:00\", \"EreignisDatJahr\": 2012, \"EreignisDatMM\": 2, \"SexLang\": \"m\\u00e4nnlich\", \"sum_WBev\": 194}, {\"StichtagDat\": \"2016-10-31T00:00:00\", \"EreignisDatJahr\": 2016, \"EreignisDatMM\": 10, \"SexLang\": \"weiblich\", \"sum_WBev\": 193}, {\"StichtagDat\": \"2019-02-28T00:00:00\", \"EreignisDatJahr\": 2019, \"EreignisDatMM\": 2, \"SexLang\": \"m\\u00e4nnlich\", \"sum_WBev\": 193}, {\"StichtagDat\": \"2008-04-30T00:00:00\", \"EreignisDatJahr\": 2008, \"EreignisDatMM\": 4, \"SexLang\": \"weiblich\", \"sum_WBev\": 193}, {\"StichtagDat\": \"2019-06-30T00:00:00\", \"EreignisDatJahr\": 2019, \"EreignisDatMM\": 6, \"SexLang\": \"m\\u00e4nnlich\", \"sum_WBev\": 192}, {\"StichtagDat\": \"2017-04-30T00:00:00\", \"EreignisDatJahr\": 2017, \"EreignisDatMM\": 4, \"SexLang\": \"weiblich\", \"sum_WBev\": 192}, {\"StichtagDat\": \"2019-02-28T00:00:00\", \"EreignisDatJahr\": 2019, \"EreignisDatMM\": 2, \"SexLang\": \"weiblich\", \"sum_WBev\": 192}, {\"StichtagDat\": \"2007-01-31T00:00:00\", \"EreignisDatJahr\": 2007, \"EreignisDatMM\": 1, \"SexLang\": \"weiblich\", \"sum_WBev\": 191}, {\"StichtagDat\": \"2011-05-31T00:00:00\", \"EreignisDatJahr\": 2011, \"EreignisDatMM\": 5, \"SexLang\": \"weiblich\", \"sum_WBev\": 191}, {\"StichtagDat\": \"2005-01-31T00:00:00\", \"EreignisDatJahr\": 2005, \"EreignisDatMM\": 1, \"SexLang\": \"weiblich\", \"sum_WBev\": 191}, {\"StichtagDat\": \"2012-10-31T00:00:00\", \"EreignisDatJahr\": 2012, \"EreignisDatMM\": 10, \"SexLang\": \"weiblich\", \"sum_WBev\": 191}, {\"StichtagDat\": \"2012-03-31T00:00:00\", \"EreignisDatJahr\": 2012, \"EreignisDatMM\": 3, \"SexLang\": \"m\\u00e4nnlich\", \"sum_WBev\": 191}, {\"StichtagDat\": \"2009-09-30T00:00:00\", \"EreignisDatJahr\": 2009, \"EreignisDatMM\": 9, \"SexLang\": \"m\\u00e4nnlich\", \"sum_WBev\": 191}, {\"StichtagDat\": \"2013-05-31T00:00:00\", \"EreignisDatJahr\": 2013, \"EreignisDatMM\": 5, \"SexLang\": \"weiblich\", \"sum_WBev\": 191}, {\"StichtagDat\": \"2013-11-30T00:00:00\", \"EreignisDatJahr\": 2013, \"EreignisDatMM\": 11, \"SexLang\": \"m\\u00e4nnlich\", \"sum_WBev\": 190}, {\"StichtagDat\": \"2009-09-30T00:00:00\", \"EreignisDatJahr\": 2009, \"EreignisDatMM\": 9, \"SexLang\": \"weiblich\", \"sum_WBev\": 190}, {\"StichtagDat\": \"2008-03-31T00:00:00\", \"EreignisDatJahr\": 2008, \"EreignisDatMM\": 3, \"SexLang\": \"m\\u00e4nnlich\", \"sum_WBev\": 190}, {\"StichtagDat\": \"2007-01-31T00:00:00\", \"EreignisDatJahr\": 2007, \"EreignisDatMM\": 1, \"SexLang\": \"m\\u00e4nnlich\", \"sum_WBev\": 190}, {\"StichtagDat\": \"2013-06-30T00:00:00\", \"EreignisDatJahr\": 2013, \"EreignisDatMM\": 6, \"SexLang\": \"m\\u00e4nnlich\", \"sum_WBev\": 189}, {\"StichtagDat\": \"2016-12-31T00:00:00\", \"EreignisDatJahr\": 2016, \"EreignisDatMM\": 12, \"SexLang\": \"m\\u00e4nnlich\", \"sum_WBev\": 189}, {\"StichtagDat\": \"2012-10-31T00:00:00\", \"EreignisDatJahr\": 2012, \"EreignisDatMM\": 10, \"SexLang\": \"m\\u00e4nnlich\", \"sum_WBev\": 189}, {\"StichtagDat\": \"2012-08-31T00:00:00\", \"EreignisDatJahr\": 2012, \"EreignisDatMM\": 8, \"SexLang\": \"weiblich\", \"sum_WBev\": 189}, {\"StichtagDat\": \"2000-07-31T00:00:00\", \"EreignisDatJahr\": 2000, \"EreignisDatMM\": 7, \"SexLang\": \"m\\u00e4nnlich\", \"sum_WBev\": 189}, {\"StichtagDat\": \"2013-11-30T00:00:00\", \"EreignisDatJahr\": 2013, \"EreignisDatMM\": 11, \"SexLang\": \"weiblich\", \"sum_WBev\": 188}, {\"StichtagDat\": \"2015-10-31T00:00:00\", \"EreignisDatJahr\": 2015, \"EreignisDatMM\": 10, \"SexLang\": \"weiblich\", \"sum_WBev\": 188}, {\"StichtagDat\": \"2009-05-31T00:00:00\", \"EreignisDatJahr\": 2009, \"EreignisDatMM\": 5, \"SexLang\": \"weiblich\", \"sum_WBev\": 187}, {\"StichtagDat\": \"2020-06-30T00:00:00\", \"EreignisDatJahr\": 2020, \"EreignisDatMM\": 6, \"SexLang\": \"weiblich\", \"sum_WBev\": 187}, {\"StichtagDat\": \"2019-11-30T00:00:00\", \"EreignisDatJahr\": 2019, \"EreignisDatMM\": 11, \"SexLang\": \"weiblich\", \"sum_WBev\": 187}, {\"StichtagDat\": \"2003-01-31T00:00:00\", \"EreignisDatJahr\": 2003, \"EreignisDatMM\": 1, \"SexLang\": \"m\\u00e4nnlich\", \"sum_WBev\": 187}, {\"StichtagDat\": \"2021-11-30T00:00:00\", \"EreignisDatJahr\": 2021, \"EreignisDatMM\": 11, \"SexLang\": \"weiblich\", \"sum_WBev\": 187}, {\"StichtagDat\": \"2018-04-30T00:00:00\", \"EreignisDatJahr\": 2018, \"EreignisDatMM\": 4, \"SexLang\": \"m\\u00e4nnlich\", \"sum_WBev\": 187}, {\"StichtagDat\": \"2014-03-31T00:00:00\", \"EreignisDatJahr\": 2014, \"EreignisDatMM\": 3, \"SexLang\": \"weiblich\", \"sum_WBev\": 187}, {\"StichtagDat\": \"2010-09-30T00:00:00\", \"EreignisDatJahr\": 2010, \"EreignisDatMM\": 9, \"SexLang\": \"weiblich\", \"sum_WBev\": 186}, {\"StichtagDat\": \"2008-09-30T00:00:00\", \"EreignisDatJahr\": 2008, \"EreignisDatMM\": 9, \"SexLang\": \"m\\u00e4nnlich\", \"sum_WBev\": 186}, {\"StichtagDat\": \"2010-04-30T00:00:00\", \"EreignisDatJahr\": 2010, \"EreignisDatMM\": 4, \"SexLang\": \"weiblich\", \"sum_WBev\": 186}, {\"StichtagDat\": \"2007-08-31T00:00:00\", \"EreignisDatJahr\": 2007, \"EreignisDatMM\": 8, \"SexLang\": \"weiblich\", \"sum_WBev\": 186}, {\"StichtagDat\": \"2007-06-30T00:00:00\", \"EreignisDatJahr\": 2007, \"EreignisDatMM\": 6, \"SexLang\": \"m\\u00e4nnlich\", \"sum_WBev\": 186}, {\"StichtagDat\": \"2007-07-31T00:00:00\", \"EreignisDatJahr\": 2007, \"EreignisDatMM\": 7, \"SexLang\": \"m\\u00e4nnlich\", \"sum_WBev\": 185}, {\"StichtagDat\": \"2007-08-31T00:00:00\", \"EreignisDatJahr\": 2007, \"EreignisDatMM\": 8, \"SexLang\": \"m\\u00e4nnlich\", \"sum_WBev\": 185}, {\"StichtagDat\": \"2010-03-31T00:00:00\", \"EreignisDatJahr\": 2010, \"EreignisDatMM\": 3, \"SexLang\": \"weiblich\", \"sum_WBev\": 184}, {\"StichtagDat\": \"2008-08-31T00:00:00\", \"EreignisDatJahr\": 2008, \"EreignisDatMM\": 8, \"SexLang\": \"m\\u00e4nnlich\", \"sum_WBev\": 184}, {\"StichtagDat\": \"2010-10-31T00:00:00\", \"EreignisDatJahr\": 2010, \"EreignisDatMM\": 10, \"SexLang\": \"weiblich\", \"sum_WBev\": 184}, {\"StichtagDat\": \"2007-03-31T00:00:00\", \"EreignisDatJahr\": 2007, \"EreignisDatMM\": 3, \"SexLang\": \"m\\u00e4nnlich\", \"sum_WBev\": 184}, {\"StichtagDat\": \"2010-06-30T00:00:00\", \"EreignisDatJahr\": 2010, \"EreignisDatMM\": 6, \"SexLang\": \"weiblich\", \"sum_WBev\": 184}, {\"StichtagDat\": \"2012-05-31T00:00:00\", \"EreignisDatJahr\": 2012, \"EreignisDatMM\": 5, \"SexLang\": \"weiblich\", \"sum_WBev\": 184}, {\"StichtagDat\": \"2018-11-30T00:00:00\", \"EreignisDatJahr\": 2018, \"EreignisDatMM\": 11, \"SexLang\": \"weiblich\", \"sum_WBev\": 183}, {\"StichtagDat\": \"2020-11-30T00:00:00\", \"EreignisDatJahr\": 2020, \"EreignisDatMM\": 11, \"SexLang\": \"weiblich\", \"sum_WBev\": 183}, {\"StichtagDat\": \"2011-07-31T00:00:00\", \"EreignisDatJahr\": 2011, \"EreignisDatMM\": 7, \"SexLang\": \"weiblich\", \"sum_WBev\": 183}, {\"StichtagDat\": \"2014-02-28T00:00:00\", \"EreignisDatJahr\": 2014, \"EreignisDatMM\": 2, \"SexLang\": \"m\\u00e4nnlich\", \"sum_WBev\": 183}, {\"StichtagDat\": \"2021-09-30T00:00:00\", \"EreignisDatJahr\": 2021, \"EreignisDatMM\": 9, \"SexLang\": \"weiblich\", \"sum_WBev\": 182}, {\"StichtagDat\": \"2015-11-30T00:00:00\", \"EreignisDatJahr\": 2015, \"EreignisDatMM\": 11, \"SexLang\": \"weiblich\", \"sum_WBev\": 182}, {\"StichtagDat\": \"1998-01-31T00:00:00\", \"EreignisDatJahr\": 1998, \"EreignisDatMM\": 1, \"SexLang\": \"m\\u00e4nnlich\", \"sum_WBev\": 182}, {\"StichtagDat\": \"2009-06-30T00:00:00\", \"EreignisDatJahr\": 2009, \"EreignisDatMM\": 6, \"SexLang\": \"m\\u00e4nnlich\", \"sum_WBev\": 182}, {\"StichtagDat\": \"2008-02-29T00:00:00\", \"EreignisDatJahr\": 2008, \"EreignisDatMM\": 2, \"SexLang\": \"weiblich\", \"sum_WBev\": 182}, {\"StichtagDat\": \"2001-01-31T00:00:00\", \"EreignisDatJahr\": 2001, \"EreignisDatMM\": 1, \"SexLang\": \"m\\u00e4nnlich\", \"sum_WBev\": 182}, {\"StichtagDat\": \"2011-12-31T00:00:00\", \"EreignisDatJahr\": 2011, \"EreignisDatMM\": 12, \"SexLang\": \"weiblich\", \"sum_WBev\": 181}, {\"StichtagDat\": \"2008-06-30T00:00:00\", \"EreignisDatJahr\": 2008, \"EreignisDatMM\": 6, \"SexLang\": \"m\\u00e4nnlich\", \"sum_WBev\": 181}, {\"StichtagDat\": \"2014-02-28T00:00:00\", \"EreignisDatJahr\": 2014, \"EreignisDatMM\": 2, \"SexLang\": \"weiblich\", \"sum_WBev\": 181}, {\"StichtagDat\": \"2005-08-31T00:00:00\", \"EreignisDatJahr\": 2005, \"EreignisDatMM\": 8, \"SexLang\": \"m\\u00e4nnlich\", \"sum_WBev\": 181}, {\"StichtagDat\": \"2013-04-30T00:00:00\", \"EreignisDatJahr\": 2013, \"EreignisDatMM\": 4, \"SexLang\": \"m\\u00e4nnlich\", \"sum_WBev\": 181}, {\"StichtagDat\": \"2015-04-30T00:00:00\", \"EreignisDatJahr\": 2015, \"EreignisDatMM\": 4, \"SexLang\": \"weiblich\", \"sum_WBev\": 181}, {\"StichtagDat\": \"2006-10-31T00:00:00\", \"EreignisDatJahr\": 2006, \"EreignisDatMM\": 10, \"SexLang\": \"m\\u00e4nnlich\", \"sum_WBev\": 181}, {\"StichtagDat\": \"2007-09-30T00:00:00\", \"EreignisDatJahr\": 2007, \"EreignisDatMM\": 9, \"SexLang\": \"m\\u00e4nnlich\", \"sum_WBev\": 181}, {\"StichtagDat\": \"2005-07-31T00:00:00\", \"EreignisDatJahr\": 2005, \"EreignisDatMM\": 7, \"SexLang\": \"m\\u00e4nnlich\", \"sum_WBev\": 180}, {\"StichtagDat\": \"2014-11-30T00:00:00\", \"EreignisDatJahr\": 2014, \"EreignisDatMM\": 11, \"SexLang\": \"weiblich\", \"sum_WBev\": 180}, {\"StichtagDat\": \"2011-11-30T00:00:00\", \"EreignisDatJahr\": 2011, \"EreignisDatMM\": 11, \"SexLang\": \"weiblich\", \"sum_WBev\": 180}, {\"StichtagDat\": \"2011-08-31T00:00:00\", \"EreignisDatJahr\": 2011, \"EreignisDatMM\": 8, \"SexLang\": \"m\\u00e4nnlich\", \"sum_WBev\": 180}, {\"StichtagDat\": \"2017-02-28T00:00:00\", \"EreignisDatJahr\": 2017, \"EreignisDatMM\": 2, \"SexLang\": \"m\\u00e4nnlich\", \"sum_WBev\": 180}, {\"StichtagDat\": \"2009-11-30T00:00:00\", \"EreignisDatJahr\": 2009, \"EreignisDatMM\": 11, \"SexLang\": \"weiblich\", \"sum_WBev\": 180}, {\"StichtagDat\": \"2007-10-31T00:00:00\", \"EreignisDatJahr\": 2007, \"EreignisDatMM\": 10, \"SexLang\": \"m\\u00e4nnlich\", \"sum_WBev\": 179}, {\"StichtagDat\": \"2010-04-30T00:00:00\", \"EreignisDatJahr\": 2010, \"EreignisDatMM\": 4, \"SexLang\": \"m\\u00e4nnlich\", \"sum_WBev\": 179}, {\"StichtagDat\": \"2010-06-30T00:00:00\", \"EreignisDatJahr\": 2010, \"EreignisDatMM\": 6, \"SexLang\": \"m\\u00e4nnlich\", \"sum_WBev\": 179}, {\"StichtagDat\": \"2014-12-31T00:00:00\", \"EreignisDatJahr\": 2014, \"EreignisDatMM\": 12, \"SexLang\": \"m\\u00e4nnlich\", \"sum_WBev\": 179}, {\"StichtagDat\": \"2010-11-30T00:00:00\", \"EreignisDatJahr\": 2010, \"EreignisDatMM\": 11, \"SexLang\": \"m\\u00e4nnlich\", \"sum_WBev\": 179}, {\"StichtagDat\": \"2004-01-31T00:00:00\", \"EreignisDatJahr\": 2004, \"EreignisDatMM\": 1, \"SexLang\": \"m\\u00e4nnlich\", \"sum_WBev\": 179}, {\"StichtagDat\": \"2000-05-31T00:00:00\", \"EreignisDatJahr\": 2000, \"EreignisDatMM\": 5, \"SexLang\": \"m\\u00e4nnlich\", \"sum_WBev\": 178}, {\"StichtagDat\": \"2018-11-30T00:00:00\", \"EreignisDatJahr\": 2018, \"EreignisDatMM\": 11, \"SexLang\": \"m\\u00e4nnlich\", \"sum_WBev\": 178}, {\"StichtagDat\": \"2001-07-31T00:00:00\", \"EreignisDatJahr\": 2001, \"EreignisDatMM\": 7, \"SexLang\": \"weiblich\", \"sum_WBev\": 178}, {\"StichtagDat\": \"2008-07-31T00:00:00\", \"EreignisDatJahr\": 2008, \"EreignisDatMM\": 7, \"SexLang\": \"weiblich\", \"sum_WBev\": 178}, {\"StichtagDat\": \"2015-11-30T00:00:00\", \"EreignisDatJahr\": 2015, \"EreignisDatMM\": 11, \"SexLang\": \"m\\u00e4nnlich\", \"sum_WBev\": 178}, {\"StichtagDat\": \"2021-02-28T00:00:00\", \"EreignisDatJahr\": 2021, \"EreignisDatMM\": 2, \"SexLang\": \"weiblich\", \"sum_WBev\": 177}, {\"StichtagDat\": \"2002-07-31T00:00:00\", \"EreignisDatJahr\": 2002, \"EreignisDatMM\": 7, \"SexLang\": \"weiblich\", \"sum_WBev\": 177}, {\"StichtagDat\": \"2004-11-30T00:00:00\", \"EreignisDatJahr\": 2004, \"EreignisDatMM\": 11, \"SexLang\": \"m\\u00e4nnlich\", \"sum_WBev\": 177}, {\"StichtagDat\": \"2006-09-30T00:00:00\", \"EreignisDatJahr\": 2006, \"EreignisDatMM\": 9, \"SexLang\": \"m\\u00e4nnlich\", \"sum_WBev\": 177}, {\"StichtagDat\": \"2017-12-31T00:00:00\", \"EreignisDatJahr\": 2017, \"EreignisDatMM\": 12, \"SexLang\": \"m\\u00e4nnlich\", \"sum_WBev\": 176}, {\"StichtagDat\": \"2013-02-28T00:00:00\", \"EreignisDatJahr\": 2013, \"EreignisDatMM\": 2, \"SexLang\": \"m\\u00e4nnlich\", \"sum_WBev\": 176}, {\"StichtagDat\": \"2007-07-31T00:00:00\", \"EreignisDatJahr\": 2007, \"EreignisDatMM\": 7, \"SexLang\": \"weiblich\", \"sum_WBev\": 176}, {\"StichtagDat\": \"2003-06-30T00:00:00\", \"EreignisDatJahr\": 2003, \"EreignisDatMM\": 6, \"SexLang\": \"m\\u00e4nnlich\", \"sum_WBev\": 176}, {\"StichtagDat\": \"2005-10-31T00:00:00\", \"EreignisDatJahr\": 2005, \"EreignisDatMM\": 10, \"SexLang\": \"weiblich\", \"sum_WBev\": 176}, {\"StichtagDat\": \"2008-04-30T00:00:00\", \"EreignisDatJahr\": 2008, \"EreignisDatMM\": 4, \"SexLang\": \"m\\u00e4nnlich\", \"sum_WBev\": 176}, {\"StichtagDat\": \"1998-03-31T00:00:00\", \"EreignisDatJahr\": 1998, \"EreignisDatMM\": 3, \"SexLang\": \"m\\u00e4nnlich\", \"sum_WBev\": 176}, {\"StichtagDat\": \"2008-08-31T00:00:00\", \"EreignisDatJahr\": 2008, \"EreignisDatMM\": 8, \"SexLang\": \"weiblich\", \"sum_WBev\": 176}, {\"StichtagDat\": \"2008-05-31T00:00:00\", \"EreignisDatJahr\": 2008, \"EreignisDatMM\": 5, \"SexLang\": \"weiblich\", \"sum_WBev\": 175}, {\"StichtagDat\": \"2009-12-31T00:00:00\", \"EreignisDatJahr\": 2009, \"EreignisDatMM\": 12, \"SexLang\": \"m\\u00e4nnlich\", \"sum_WBev\": 175}, {\"StichtagDat\": \"2002-10-31T00:00:00\", \"EreignisDatJahr\": 2002, \"EreignisDatMM\": 10, \"SexLang\": \"m\\u00e4nnlich\", \"sum_WBev\": 175}, {\"StichtagDat\": \"2009-03-31T00:00:00\", \"EreignisDatJahr\": 2009, \"EreignisDatMM\": 3, \"SexLang\": \"m\\u00e4nnlich\", \"sum_WBev\": 175}, {\"StichtagDat\": \"2006-08-31T00:00:00\", \"EreignisDatJahr\": 2006, \"EreignisDatMM\": 8, \"SexLang\": \"m\\u00e4nnlich\", \"sum_WBev\": 174}, {\"StichtagDat\": \"2008-10-31T00:00:00\", \"EreignisDatJahr\": 2008, \"EreignisDatMM\": 10, \"SexLang\": \"m\\u00e4nnlich\", \"sum_WBev\": 174}, {\"StichtagDat\": \"2004-08-31T00:00:00\", \"EreignisDatJahr\": 2004, \"EreignisDatMM\": 8, \"SexLang\": \"weiblich\", \"sum_WBev\": 174}, {\"StichtagDat\": \"2010-05-31T00:00:00\", \"EreignisDatJahr\": 2010, \"EreignisDatMM\": 5, \"SexLang\": \"weiblich\", \"sum_WBev\": 174}, {\"StichtagDat\": \"2004-07-31T00:00:00\", \"EreignisDatJahr\": 2004, \"EreignisDatMM\": 7, \"SexLang\": \"weiblich\", \"sum_WBev\": 173}, {\"StichtagDat\": \"2012-03-31T00:00:00\", \"EreignisDatJahr\": 2012, \"EreignisDatMM\": 3, \"SexLang\": \"weiblich\", \"sum_WBev\": 173}, {\"StichtagDat\": \"2007-06-30T00:00:00\", \"EreignisDatJahr\": 2007, \"EreignisDatMM\": 6, \"SexLang\": \"weiblich\", \"sum_WBev\": 173}, {\"StichtagDat\": \"2006-04-30T00:00:00\", \"EreignisDatJahr\": 2006, \"EreignisDatMM\": 4, \"SexLang\": \"m\\u00e4nnlich\", \"sum_WBev\": 172}, {\"StichtagDat\": \"2009-02-28T00:00:00\", \"EreignisDatJahr\": 2009, \"EreignisDatMM\": 2, \"SexLang\": \"m\\u00e4nnlich\", \"sum_WBev\": 172}, {\"StichtagDat\": \"2004-08-31T00:00:00\", \"EreignisDatJahr\": 2004, \"EreignisDatMM\": 8, \"SexLang\": \"m\\u00e4nnlich\", \"sum_WBev\": 172}, {\"StichtagDat\": \"2007-12-31T00:00:00\", \"EreignisDatJahr\": 2007, \"EreignisDatMM\": 12, \"SexLang\": \"m\\u00e4nnlich\", \"sum_WBev\": 172}, {\"StichtagDat\": \"2009-03-31T00:00:00\", \"EreignisDatJahr\": 2009, \"EreignisDatMM\": 3, \"SexLang\": \"weiblich\", \"sum_WBev\": 172}, {\"StichtagDat\": \"2006-10-31T00:00:00\", \"EreignisDatJahr\": 2006, \"EreignisDatMM\": 10, \"SexLang\": \"weiblich\", \"sum_WBev\": 172}, {\"StichtagDat\": \"2006-07-31T00:00:00\", \"EreignisDatJahr\": 2006, \"EreignisDatMM\": 7, \"SexLang\": \"m\\u00e4nnlich\", \"sum_WBev\": 171}, {\"StichtagDat\": \"2003-05-31T00:00:00\", \"EreignisDatJahr\": 2003, \"EreignisDatMM\": 5, \"SexLang\": \"m\\u00e4nnlich\", \"sum_WBev\": 171}, {\"StichtagDat\": \"2006-05-31T00:00:00\", \"EreignisDatJahr\": 2006, \"EreignisDatMM\": 5, \"SexLang\": \"m\\u00e4nnlich\", \"sum_WBev\": 171}, {\"StichtagDat\": \"2005-08-31T00:00:00\", \"EreignisDatJahr\": 2005, \"EreignisDatMM\": 8, \"SexLang\": \"weiblich\", \"sum_WBev\": 171}, {\"StichtagDat\": \"2016-11-30T00:00:00\", \"EreignisDatJahr\": 2016, \"EreignisDatMM\": 11, \"SexLang\": \"weiblich\", \"sum_WBev\": 171}, {\"StichtagDat\": \"2004-06-30T00:00:00\", \"EreignisDatJahr\": 2004, \"EreignisDatMM\": 6, \"SexLang\": \"weiblich\", \"sum_WBev\": 171}, {\"StichtagDat\": \"2011-12-31T00:00:00\", \"EreignisDatJahr\": 2011, \"EreignisDatMM\": 12, \"SexLang\": \"m\\u00e4nnlich\", \"sum_WBev\": 171}, {\"StichtagDat\": \"2005-04-30T00:00:00\", \"EreignisDatJahr\": 2005, \"EreignisDatMM\": 4, \"SexLang\": \"m\\u00e4nnlich\", \"sum_WBev\": 170}, {\"StichtagDat\": \"2005-05-31T00:00:00\", \"EreignisDatJahr\": 2005, \"EreignisDatMM\": 5, \"SexLang\": \"m\\u00e4nnlich\", \"sum_WBev\": 170}, {\"StichtagDat\": \"2010-11-30T00:00:00\", \"EreignisDatJahr\": 2010, \"EreignisDatMM\": 11, \"SexLang\": \"weiblich\", \"sum_WBev\": 169}, {\"StichtagDat\": \"2004-09-30T00:00:00\", \"EreignisDatJahr\": 2004, \"EreignisDatMM\": 9, \"SexLang\": \"m\\u00e4nnlich\", \"sum_WBev\": 169}, {\"StichtagDat\": \"2010-02-28T00:00:00\", \"EreignisDatJahr\": 2010, \"EreignisDatMM\": 2, \"SexLang\": \"weiblich\", \"sum_WBev\": 168}, {\"StichtagDat\": \"2005-05-31T00:00:00\", \"EreignisDatJahr\": 2005, \"EreignisDatMM\": 5, \"SexLang\": \"weiblich\", \"sum_WBev\": 168}, {\"StichtagDat\": \"2016-12-31T00:00:00\", \"EreignisDatJahr\": 2016, \"EreignisDatMM\": 12, \"SexLang\": \"weiblich\", \"sum_WBev\": 168}, {\"StichtagDat\": \"2000-10-31T00:00:00\", \"EreignisDatJahr\": 2000, \"EreignisDatMM\": 10, \"SexLang\": \"m\\u00e4nnlich\", \"sum_WBev\": 168}, {\"StichtagDat\": \"2008-11-30T00:00:00\", \"EreignisDatJahr\": 2008, \"EreignisDatMM\": 11, \"SexLang\": \"weiblich\", \"sum_WBev\": 168}, {\"StichtagDat\": \"2007-05-31T00:00:00\", \"EreignisDatJahr\": 2007, \"EreignisDatMM\": 5, \"SexLang\": \"weiblich\", \"sum_WBev\": 168}, {\"StichtagDat\": \"2007-12-31T00:00:00\", \"EreignisDatJahr\": 2007, \"EreignisDatMM\": 12, \"SexLang\": \"weiblich\", \"sum_WBev\": 167}, {\"StichtagDat\": \"2005-07-31T00:00:00\", \"EreignisDatJahr\": 2005, \"EreignisDatMM\": 7, \"SexLang\": \"weiblich\", \"sum_WBev\": 167}, {\"StichtagDat\": \"2008-12-31T00:00:00\", \"EreignisDatJahr\": 2008, \"EreignisDatMM\": 12, \"SexLang\": \"m\\u00e4nnlich\", \"sum_WBev\": 167}, {\"StichtagDat\": \"2005-10-31T00:00:00\", \"EreignisDatJahr\": 2005, \"EreignisDatMM\": 10, \"SexLang\": \"m\\u00e4nnlich\", \"sum_WBev\": 167}, {\"StichtagDat\": \"2004-09-30T00:00:00\", \"EreignisDatJahr\": 2004, \"EreignisDatMM\": 9, \"SexLang\": \"weiblich\", \"sum_WBev\": 167}, {\"StichtagDat\": \"2008-12-31T00:00:00\", \"EreignisDatJahr\": 2008, \"EreignisDatMM\": 12, \"SexLang\": \"weiblich\", \"sum_WBev\": 167}, {\"StichtagDat\": \"2017-12-31T00:00:00\", \"EreignisDatJahr\": 2017, \"EreignisDatMM\": 12, \"SexLang\": \"weiblich\", \"sum_WBev\": 167}, {\"StichtagDat\": \"2002-12-31T00:00:00\", \"EreignisDatJahr\": 2002, \"EreignisDatMM\": 12, \"SexLang\": \"m\\u00e4nnlich\", \"sum_WBev\": 167}, {\"StichtagDat\": \"2006-11-30T00:00:00\", \"EreignisDatJahr\": 2006, \"EreignisDatMM\": 11, \"SexLang\": \"m\\u00e4nnlich\", \"sum_WBev\": 167}, {\"StichtagDat\": \"2003-09-30T00:00:00\", \"EreignisDatJahr\": 2003, \"EreignisDatMM\": 9, \"SexLang\": \"m\\u00e4nnlich\", \"sum_WBev\": 167}, {\"StichtagDat\": \"2000-01-31T00:00:00\", \"EreignisDatJahr\": 2000, \"EreignisDatMM\": 1, \"SexLang\": \"m\\u00e4nnlich\", \"sum_WBev\": 167}, {\"StichtagDat\": \"2011-10-31T00:00:00\", \"EreignisDatJahr\": 2011, \"EreignisDatMM\": 10, \"SexLang\": \"weiblich\", \"sum_WBev\": 166}, {\"StichtagDat\": \"2003-01-31T00:00:00\", \"EreignisDatJahr\": 2003, \"EreignisDatMM\": 1, \"SexLang\": \"weiblich\", \"sum_WBev\": 166}, {\"StichtagDat\": \"2012-11-30T00:00:00\", \"EreignisDatJahr\": 2012, \"EreignisDatMM\": 11, \"SexLang\": \"weiblich\", \"sum_WBev\": 166}, {\"StichtagDat\": \"2005-09-30T00:00:00\", \"EreignisDatJahr\": 2005, \"EreignisDatMM\": 9, \"SexLang\": \"m\\u00e4nnlich\", \"sum_WBev\": 166}, {\"StichtagDat\": \"2002-08-31T00:00:00\", \"EreignisDatJahr\": 2002, \"EreignisDatMM\": 8, \"SexLang\": \"m\\u00e4nnlich\", \"sum_WBev\": 166}, {\"StichtagDat\": \"2006-09-30T00:00:00\", \"EreignisDatJahr\": 2006, \"EreignisDatMM\": 9, \"SexLang\": \"weiblich\", \"sum_WBev\": 166}, {\"StichtagDat\": \"2007-04-30T00:00:00\", \"EreignisDatJahr\": 2007, \"EreignisDatMM\": 4, \"SexLang\": \"m\\u00e4nnlich\", \"sum_WBev\": 166}, {\"StichtagDat\": \"2006-06-30T00:00:00\", \"EreignisDatJahr\": 2006, \"EreignisDatMM\": 6, \"SexLang\": \"m\\u00e4nnlich\", \"sum_WBev\": 166}, {\"StichtagDat\": \"2000-07-31T00:00:00\", \"EreignisDatJahr\": 2000, \"EreignisDatMM\": 7, \"SexLang\": \"weiblich\", \"sum_WBev\": 165}, {\"StichtagDat\": \"2009-08-31T00:00:00\", \"EreignisDatJahr\": 2009, \"EreignisDatMM\": 8, \"SexLang\": \"weiblich\", \"sum_WBev\": 165}, {\"StichtagDat\": \"2004-11-30T00:00:00\", \"EreignisDatJahr\": 2004, \"EreignisDatMM\": 11, \"SexLang\": \"weiblich\", \"sum_WBev\": 165}, {\"StichtagDat\": \"2000-09-30T00:00:00\", \"EreignisDatJahr\": 2000, \"EreignisDatMM\": 9, \"SexLang\": \"m\\u00e4nnlich\", \"sum_WBev\": 165}, {\"StichtagDat\": \"2001-01-31T00:00:00\", \"EreignisDatJahr\": 2001, \"EreignisDatMM\": 1, \"SexLang\": \"weiblich\", \"sum_WBev\": 164}, {\"StichtagDat\": \"2002-09-30T00:00:00\", \"EreignisDatJahr\": 2002, \"EreignisDatMM\": 9, \"SexLang\": \"weiblich\", \"sum_WBev\": 164}, {\"StichtagDat\": \"2018-12-31T00:00:00\", \"EreignisDatJahr\": 2018, \"EreignisDatMM\": 12, \"SexLang\": \"m\\u00e4nnlich\", \"sum_WBev\": 164}, {\"StichtagDat\": \"2009-12-31T00:00:00\", \"EreignisDatJahr\": 2009, \"EreignisDatMM\": 12, \"SexLang\": \"weiblich\", \"sum_WBev\": 164}, {\"StichtagDat\": \"2008-03-31T00:00:00\", \"EreignisDatJahr\": 2008, \"EreignisDatMM\": 3, \"SexLang\": \"weiblich\", \"sum_WBev\": 164}, {\"StichtagDat\": \"2008-06-30T00:00:00\", \"EreignisDatJahr\": 2008, \"EreignisDatMM\": 6, \"SexLang\": \"weiblich\", \"sum_WBev\": 164}, {\"StichtagDat\": \"2010-12-31T00:00:00\", \"EreignisDatJahr\": 2010, \"EreignisDatMM\": 12, \"SexLang\": \"weiblich\", \"sum_WBev\": 164}, {\"StichtagDat\": \"2001-07-31T00:00:00\", \"EreignisDatJahr\": 2001, \"EreignisDatMM\": 7, \"SexLang\": \"m\\u00e4nnlich\", \"sum_WBev\": 163}, {\"StichtagDat\": \"2008-09-30T00:00:00\", \"EreignisDatJahr\": 2008, \"EreignisDatMM\": 9, \"SexLang\": \"weiblich\", \"sum_WBev\": 163}, {\"StichtagDat\": \"2005-06-30T00:00:00\", \"EreignisDatJahr\": 2005, \"EreignisDatMM\": 6, \"SexLang\": \"m\\u00e4nnlich\", \"sum_WBev\": 162}, {\"StichtagDat\": \"2007-11-30T00:00:00\", \"EreignisDatJahr\": 2007, \"EreignisDatMM\": 11, \"SexLang\": \"weiblich\", \"sum_WBev\": 161}, {\"StichtagDat\": \"2008-11-30T00:00:00\", \"EreignisDatJahr\": 2008, \"EreignisDatMM\": 11, \"SexLang\": \"m\\u00e4nnlich\", \"sum_WBev\": 161}, {\"StichtagDat\": \"2001-09-30T00:00:00\", \"EreignisDatJahr\": 2001, \"EreignisDatMM\": 9, \"SexLang\": \"weiblich\", \"sum_WBev\": 161}, {\"StichtagDat\": \"1999-12-31T00:00:00\", \"EreignisDatJahr\": 1999, \"EreignisDatMM\": 12, \"SexLang\": \"m\\u00e4nnlich\", \"sum_WBev\": 161}, {\"StichtagDat\": \"2010-02-28T00:00:00\", \"EreignisDatJahr\": 2010, \"EreignisDatMM\": 2, \"SexLang\": \"m\\u00e4nnlich\", \"sum_WBev\": 160}, {\"StichtagDat\": \"2000-04-30T00:00:00\", \"EreignisDatJahr\": 2000, \"EreignisDatMM\": 4, \"SexLang\": \"m\\u00e4nnlich\", \"sum_WBev\": 160}, {\"StichtagDat\": \"2001-04-30T00:00:00\", \"EreignisDatJahr\": 2001, \"EreignisDatMM\": 4, \"SexLang\": \"weiblich\", \"sum_WBev\": 160}, {\"StichtagDat\": \"2000-03-31T00:00:00\", \"EreignisDatJahr\": 2000, \"EreignisDatMM\": 3, \"SexLang\": \"m\\u00e4nnlich\", \"sum_WBev\": 160}, {\"StichtagDat\": \"2002-03-31T00:00:00\", \"EreignisDatJahr\": 2002, \"EreignisDatMM\": 3, \"SexLang\": \"m\\u00e4nnlich\", \"sum_WBev\": 160}, {\"StichtagDat\": \"2008-10-31T00:00:00\", \"EreignisDatJahr\": 2008, \"EreignisDatMM\": 10, \"SexLang\": \"weiblich\", \"sum_WBev\": 159}, {\"StichtagDat\": \"1999-11-30T00:00:00\", \"EreignisDatJahr\": 1999, \"EreignisDatMM\": 11, \"SexLang\": \"m\\u00e4nnlich\", \"sum_WBev\": 159}, {\"StichtagDat\": \"2003-05-31T00:00:00\", \"EreignisDatJahr\": 2003, \"EreignisDatMM\": 5, \"SexLang\": \"weiblich\", \"sum_WBev\": 159}, {\"StichtagDat\": \"2013-12-31T00:00:00\", \"EreignisDatJahr\": 2013, \"EreignisDatMM\": 12, \"SexLang\": \"weiblich\", \"sum_WBev\": 159}, {\"StichtagDat\": \"2006-05-31T00:00:00\", \"EreignisDatJahr\": 2006, \"EreignisDatMM\": 5, \"SexLang\": \"weiblich\", \"sum_WBev\": 159}, {\"StichtagDat\": \"2005-06-30T00:00:00\", \"EreignisDatJahr\": 2005, \"EreignisDatMM\": 6, \"SexLang\": \"weiblich\", \"sum_WBev\": 159}, {\"StichtagDat\": \"2006-02-28T00:00:00\", \"EreignisDatJahr\": 2006, \"EreignisDatMM\": 2, \"SexLang\": \"m\\u00e4nnlich\", \"sum_WBev\": 159}, {\"StichtagDat\": \"2005-03-31T00:00:00\", \"EreignisDatJahr\": 2005, \"EreignisDatMM\": 3, \"SexLang\": \"weiblich\", \"sum_WBev\": 159}, {\"StichtagDat\": \"2006-03-31T00:00:00\", \"EreignisDatJahr\": 2006, \"EreignisDatMM\": 3, \"SexLang\": \"m\\u00e4nnlich\", \"sum_WBev\": 159}, {\"StichtagDat\": \"2010-12-31T00:00:00\", \"EreignisDatJahr\": 2010, \"EreignisDatMM\": 12, \"SexLang\": \"m\\u00e4nnlich\", \"sum_WBev\": 158}, {\"StichtagDat\": \"1999-01-31T00:00:00\", \"EreignisDatJahr\": 1999, \"EreignisDatMM\": 1, \"SexLang\": \"m\\u00e4nnlich\", \"sum_WBev\": 158}, {\"StichtagDat\": \"2003-03-31T00:00:00\", \"EreignisDatJahr\": 2003, \"EreignisDatMM\": 3, \"SexLang\": \"m\\u00e4nnlich\", \"sum_WBev\": 158}, {\"StichtagDat\": \"2020-12-31T00:00:00\", \"EreignisDatJahr\": 2020, \"EreignisDatMM\": 12, \"SexLang\": \"m\\u00e4nnlich\", \"sum_WBev\": 158}, {\"StichtagDat\": \"1999-01-31T00:00:00\", \"EreignisDatJahr\": 1999, \"EreignisDatMM\": 1, \"SexLang\": \"weiblich\", \"sum_WBev\": 157}, {\"StichtagDat\": \"2006-06-30T00:00:00\", \"EreignisDatJahr\": 2006, \"EreignisDatMM\": 6, \"SexLang\": \"weiblich\", \"sum_WBev\": 157}, {\"StichtagDat\": \"2003-11-30T00:00:00\", \"EreignisDatJahr\": 2003, \"EreignisDatMM\": 11, \"SexLang\": \"m\\u00e4nnlich\", \"sum_WBev\": 157}, {\"StichtagDat\": \"2007-09-30T00:00:00\", \"EreignisDatJahr\": 2007, \"EreignisDatMM\": 9, \"SexLang\": \"weiblich\", \"sum_WBev\": 156}, {\"StichtagDat\": \"1999-08-31T00:00:00\", \"EreignisDatJahr\": 1999, \"EreignisDatMM\": 8, \"SexLang\": \"m\\u00e4nnlich\", \"sum_WBev\": 156}, {\"StichtagDat\": \"2006-12-31T00:00:00\", \"EreignisDatJahr\": 2006, \"EreignisDatMM\": 12, \"SexLang\": \"m\\u00e4nnlich\", \"sum_WBev\": 156}, {\"StichtagDat\": \"2013-02-28T00:00:00\", \"EreignisDatJahr\": 2013, \"EreignisDatMM\": 2, \"SexLang\": \"weiblich\", \"sum_WBev\": 156}, {\"StichtagDat\": \"2001-05-31T00:00:00\", \"EreignisDatJahr\": 2001, \"EreignisDatMM\": 5, \"SexLang\": \"m\\u00e4nnlich\", \"sum_WBev\": 156}, {\"StichtagDat\": \"1998-07-31T00:00:00\", \"EreignisDatJahr\": 1998, \"EreignisDatMM\": 7, \"SexLang\": \"weiblich\", \"sum_WBev\": 156}, {\"StichtagDat\": \"2011-02-28T00:00:00\", \"EreignisDatJahr\": 2011, \"EreignisDatMM\": 2, \"SexLang\": \"weiblich\", \"sum_WBev\": 156}, {\"StichtagDat\": \"2006-04-30T00:00:00\", \"EreignisDatJahr\": 2006, \"EreignisDatMM\": 4, \"SexLang\": \"weiblich\", \"sum_WBev\": 155}, {\"StichtagDat\": \"2000-06-30T00:00:00\", \"EreignisDatJahr\": 2000, \"EreignisDatMM\": 6, \"SexLang\": \"m\\u00e4nnlich\", \"sum_WBev\": 155}, {\"StichtagDat\": \"1999-04-30T00:00:00\", \"EreignisDatJahr\": 1999, \"EreignisDatMM\": 4, \"SexLang\": \"m\\u00e4nnlich\", \"sum_WBev\": 155}, {\"StichtagDat\": \"2002-05-31T00:00:00\", \"EreignisDatJahr\": 2002, \"EreignisDatMM\": 5, \"SexLang\": \"weiblich\", \"sum_WBev\": 155}, {\"StichtagDat\": \"2002-06-30T00:00:00\", \"EreignisDatJahr\": 2002, \"EreignisDatMM\": 6, \"SexLang\": \"weiblich\", \"sum_WBev\": 155}, {\"StichtagDat\": \"1998-04-30T00:00:00\", \"EreignisDatJahr\": 1998, \"EreignisDatMM\": 4, \"SexLang\": \"weiblich\", \"sum_WBev\": 155}, {\"StichtagDat\": \"2007-03-31T00:00:00\", \"EreignisDatJahr\": 2007, \"EreignisDatMM\": 3, \"SexLang\": \"weiblich\", \"sum_WBev\": 155}, {\"StichtagDat\": \"2009-02-28T00:00:00\", \"EreignisDatJahr\": 2009, \"EreignisDatMM\": 2, \"SexLang\": \"weiblich\", \"sum_WBev\": 154}, {\"StichtagDat\": \"2003-08-31T00:00:00\", \"EreignisDatJahr\": 2003, \"EreignisDatMM\": 8, \"SexLang\": \"weiblich\", \"sum_WBev\": 154}, {\"StichtagDat\": \"2003-06-30T00:00:00\", \"EreignisDatJahr\": 2003, \"EreignisDatMM\": 6, \"SexLang\": \"weiblich\", \"sum_WBev\": 154}, {\"StichtagDat\": \"2005-11-30T00:00:00\", \"EreignisDatJahr\": 2005, \"EreignisDatMM\": 11, \"SexLang\": \"m\\u00e4nnlich\", \"sum_WBev\": 154}, {\"StichtagDat\": \"2019-12-31T00:00:00\", \"EreignisDatJahr\": 2019, \"EreignisDatMM\": 12, \"SexLang\": \"m\\u00e4nnlich\", \"sum_WBev\": 154}, {\"StichtagDat\": \"2002-04-30T00:00:00\", \"EreignisDatJahr\": 2002, \"EreignisDatMM\": 4, \"SexLang\": \"m\\u00e4nnlich\", \"sum_WBev\": 154}, {\"StichtagDat\": \"1998-01-31T00:00:00\", \"EreignisDatJahr\": 1998, \"EreignisDatMM\": 1, \"SexLang\": \"weiblich\", \"sum_WBev\": 154}, {\"StichtagDat\": \"1999-05-31T00:00:00\", \"EreignisDatJahr\": 1999, \"EreignisDatMM\": 5, \"SexLang\": \"m\\u00e4nnlich\", \"sum_WBev\": 154}, {\"StichtagDat\": \"2004-10-31T00:00:00\", \"EreignisDatJahr\": 2004, \"EreignisDatMM\": 10, \"SexLang\": \"weiblich\", \"sum_WBev\": 154}, {\"StichtagDat\": \"2001-10-31T00:00:00\", \"EreignisDatJahr\": 2001, \"EreignisDatMM\": 10, \"SexLang\": \"m\\u00e4nnlich\", \"sum_WBev\": 154}, {\"StichtagDat\": \"2004-06-30T00:00:00\", \"EreignisDatJahr\": 2004, \"EreignisDatMM\": 6, \"SexLang\": \"m\\u00e4nnlich\", \"sum_WBev\": 154}, {\"StichtagDat\": \"2004-10-31T00:00:00\", \"EreignisDatJahr\": 2004, \"EreignisDatMM\": 10, \"SexLang\": \"m\\u00e4nnlich\", \"sum_WBev\": 154}, {\"StichtagDat\": \"2005-03-31T00:00:00\", \"EreignisDatJahr\": 2005, \"EreignisDatMM\": 3, \"SexLang\": \"m\\u00e4nnlich\", \"sum_WBev\": 153}, {\"StichtagDat\": \"2005-02-28T00:00:00\", \"EreignisDatJahr\": 2005, \"EreignisDatMM\": 2, \"SexLang\": \"m\\u00e4nnlich\", \"sum_WBev\": 153}, {\"StichtagDat\": \"1998-05-31T00:00:00\", \"EreignisDatJahr\": 1998, \"EreignisDatMM\": 5, \"SexLang\": \"m\\u00e4nnlich\", \"sum_WBev\": 153}, {\"StichtagDat\": \"2001-03-31T00:00:00\", \"EreignisDatJahr\": 2001, \"EreignisDatMM\": 3, \"SexLang\": \"weiblich\", \"sum_WBev\": 153}, {\"StichtagDat\": \"2011-03-31T00:00:00\", \"EreignisDatJahr\": 2011, \"EreignisDatMM\": 3, \"SexLang\": \"weiblich\", \"sum_WBev\": 153}, {\"StichtagDat\": \"2020-12-31T00:00:00\", \"EreignisDatJahr\": 2020, \"EreignisDatMM\": 12, \"SexLang\": \"weiblich\", \"sum_WBev\": 153}, {\"StichtagDat\": \"2002-02-28T00:00:00\", \"EreignisDatJahr\": 2002, \"EreignisDatMM\": 2, \"SexLang\": \"m\\u00e4nnlich\", \"sum_WBev\": 153}, {\"StichtagDat\": \"2003-07-31T00:00:00\", \"EreignisDatJahr\": 2003, \"EreignisDatMM\": 7, \"SexLang\": \"weiblich\", \"sum_WBev\": 153}, {\"StichtagDat\": \"2004-05-31T00:00:00\", \"EreignisDatJahr\": 2004, \"EreignisDatMM\": 5, \"SexLang\": \"m\\u00e4nnlich\", \"sum_WBev\": 153}, {\"StichtagDat\": \"2006-11-30T00:00:00\", \"EreignisDatJahr\": 2006, \"EreignisDatMM\": 11, \"SexLang\": \"weiblich\", \"sum_WBev\": 153}, {\"StichtagDat\": \"1999-03-31T00:00:00\", \"EreignisDatJahr\": 1999, \"EreignisDatMM\": 3, \"SexLang\": \"m\\u00e4nnlich\", \"sum_WBev\": 153}, {\"StichtagDat\": \"2003-11-30T00:00:00\", \"EreignisDatJahr\": 2003, \"EreignisDatMM\": 11, \"SexLang\": \"weiblich\", \"sum_WBev\": 153}, {\"StichtagDat\": \"2012-12-31T00:00:00\", \"EreignisDatJahr\": 2012, \"EreignisDatMM\": 12, \"SexLang\": \"m\\u00e4nnlich\", \"sum_WBev\": 153}, {\"StichtagDat\": \"2012-02-29T00:00:00\", \"EreignisDatJahr\": 2012, \"EreignisDatMM\": 2, \"SexLang\": \"weiblich\", \"sum_WBev\": 152}, {\"StichtagDat\": \"1998-07-31T00:00:00\", \"EreignisDatJahr\": 1998, \"EreignisDatMM\": 7, \"SexLang\": \"m\\u00e4nnlich\", \"sum_WBev\": 152}, {\"StichtagDat\": \"1999-07-31T00:00:00\", \"EreignisDatJahr\": 1999, \"EreignisDatMM\": 7, \"SexLang\": \"m\\u00e4nnlich\", \"sum_WBev\": 152}, {\"StichtagDat\": \"1999-10-31T00:00:00\", \"EreignisDatJahr\": 1999, \"EreignisDatMM\": 10, \"SexLang\": \"m\\u00e4nnlich\", \"sum_WBev\": 152}, {\"StichtagDat\": \"2001-08-31T00:00:00\", \"EreignisDatJahr\": 2001, \"EreignisDatMM\": 8, \"SexLang\": \"weiblich\", \"sum_WBev\": 151}, {\"StichtagDat\": \"2006-12-31T00:00:00\", \"EreignisDatJahr\": 2006, \"EreignisDatMM\": 12, \"SexLang\": \"weiblich\", \"sum_WBev\": 151}, {\"StichtagDat\": \"2003-10-31T00:00:00\", \"EreignisDatJahr\": 2003, \"EreignisDatMM\": 10, \"SexLang\": \"m\\u00e4nnlich\", \"sum_WBev\": 151}, {\"StichtagDat\": \"2004-03-31T00:00:00\", \"EreignisDatJahr\": 2004, \"EreignisDatMM\": 3, \"SexLang\": \"m\\u00e4nnlich\", \"sum_WBev\": 151}, {\"StichtagDat\": \"2004-04-30T00:00:00\", \"EreignisDatJahr\": 2004, \"EreignisDatMM\": 4, \"SexLang\": \"weiblich\", \"sum_WBev\": 151}, {\"StichtagDat\": \"2002-01-31T00:00:00\", \"EreignisDatJahr\": 2002, \"EreignisDatMM\": 1, \"SexLang\": \"weiblich\", \"sum_WBev\": 151}, {\"StichtagDat\": \"2002-01-31T00:00:00\", \"EreignisDatJahr\": 2002, \"EreignisDatMM\": 1, \"SexLang\": \"m\\u00e4nnlich\", \"sum_WBev\": 150}, {\"StichtagDat\": \"1999-02-28T00:00:00\", \"EreignisDatJahr\": 1999, \"EreignisDatMM\": 2, \"SexLang\": \"m\\u00e4nnlich\", \"sum_WBev\": 150}, {\"StichtagDat\": \"1998-10-31T00:00:00\", \"EreignisDatJahr\": 1998, \"EreignisDatMM\": 10, \"SexLang\": \"weiblich\", \"sum_WBev\": 150}, {\"StichtagDat\": \"2003-08-31T00:00:00\", \"EreignisDatJahr\": 2003, \"EreignisDatMM\": 8, \"SexLang\": \"m\\u00e4nnlich\", \"sum_WBev\": 150}, {\"StichtagDat\": \"2005-12-31T00:00:00\", \"EreignisDatJahr\": 2005, \"EreignisDatMM\": 12, \"SexLang\": \"m\\u00e4nnlich\", \"sum_WBev\": 150}, {\"StichtagDat\": \"1998-09-30T00:00:00\", \"EreignisDatJahr\": 1998, \"EreignisDatMM\": 9, \"SexLang\": \"weiblich\", \"sum_WBev\": 149}, {\"StichtagDat\": \"1998-11-30T00:00:00\", \"EreignisDatJahr\": 1998, \"EreignisDatMM\": 11, \"SexLang\": \"m\\u00e4nnlich\", \"sum_WBev\": 149}, {\"StichtagDat\": \"1998-04-30T00:00:00\", \"EreignisDatJahr\": 1998, \"EreignisDatMM\": 4, \"SexLang\": \"m\\u00e4nnlich\", \"sum_WBev\": 149}, {\"StichtagDat\": \"1999-07-31T00:00:00\", \"EreignisDatJahr\": 1999, \"EreignisDatMM\": 7, \"SexLang\": \"weiblich\", \"sum_WBev\": 149}, {\"StichtagDat\": \"2000-01-31T00:00:00\", \"EreignisDatJahr\": 2000, \"EreignisDatMM\": 1, \"SexLang\": \"weiblich\", \"sum_WBev\": 149}, {\"StichtagDat\": \"2002-05-31T00:00:00\", \"EreignisDatJahr\": 2002, \"EreignisDatMM\": 5, \"SexLang\": \"m\\u00e4nnlich\", \"sum_WBev\": 149}, {\"StichtagDat\": \"2002-09-30T00:00:00\", \"EreignisDatJahr\": 2002, \"EreignisDatMM\": 9, \"SexLang\": \"m\\u00e4nnlich\", \"sum_WBev\": 149}, {\"StichtagDat\": \"2004-05-31T00:00:00\", \"EreignisDatJahr\": 2004, \"EreignisDatMM\": 5, \"SexLang\": \"weiblich\", \"sum_WBev\": 148}, {\"StichtagDat\": \"2003-12-31T00:00:00\", \"EreignisDatJahr\": 2003, \"EreignisDatMM\": 12, \"SexLang\": \"m\\u00e4nnlich\", \"sum_WBev\": 148}, {\"StichtagDat\": \"2000-08-31T00:00:00\", \"EreignisDatJahr\": 2000, \"EreignisDatMM\": 8, \"SexLang\": \"m\\u00e4nnlich\", \"sum_WBev\": 148}, {\"StichtagDat\": \"2003-04-30T00:00:00\", \"EreignisDatJahr\": 2003, \"EreignisDatMM\": 4, \"SexLang\": \"m\\u00e4nnlich\", \"sum_WBev\": 148}, {\"StichtagDat\": \"2001-08-31T00:00:00\", \"EreignisDatJahr\": 2001, \"EreignisDatMM\": 8, \"SexLang\": \"m\\u00e4nnlich\", \"sum_WBev\": 148}, {\"StichtagDat\": \"2000-04-30T00:00:00\", \"EreignisDatJahr\": 2000, \"EreignisDatMM\": 4, \"SexLang\": \"weiblich\", \"sum_WBev\": 147}, {\"StichtagDat\": \"2003-07-31T00:00:00\", \"EreignisDatJahr\": 2003, \"EreignisDatMM\": 7, \"SexLang\": \"m\\u00e4nnlich\", \"sum_WBev\": 147}, {\"StichtagDat\": \"2001-06-30T00:00:00\", \"EreignisDatJahr\": 2001, \"EreignisDatMM\": 6, \"SexLang\": \"m\\u00e4nnlich\", \"sum_WBev\": 146}, {\"StichtagDat\": \"2003-03-31T00:00:00\", \"EreignisDatJahr\": 2003, \"EreignisDatMM\": 3, \"SexLang\": \"weiblich\", \"sum_WBev\": 146}, {\"StichtagDat\": \"2007-04-30T00:00:00\", \"EreignisDatJahr\": 2007, \"EreignisDatMM\": 4, \"SexLang\": \"weiblich\", \"sum_WBev\": 146}, {\"StichtagDat\": \"2005-02-28T00:00:00\", \"EreignisDatJahr\": 2005, \"EreignisDatMM\": 2, \"SexLang\": \"weiblich\", \"sum_WBev\": 146}, {\"StichtagDat\": \"2012-12-31T00:00:00\", \"EreignisDatJahr\": 2012, \"EreignisDatMM\": 12, \"SexLang\": \"weiblich\", \"sum_WBev\": 146}, {\"StichtagDat\": \"1999-05-31T00:00:00\", \"EreignisDatJahr\": 1999, \"EreignisDatMM\": 5, \"SexLang\": \"weiblich\", \"sum_WBev\": 145}, {\"StichtagDat\": \"2000-09-30T00:00:00\", \"EreignisDatJahr\": 2000, \"EreignisDatMM\": 9, \"SexLang\": \"weiblich\", \"sum_WBev\": 145}, {\"StichtagDat\": \"2000-11-30T00:00:00\", \"EreignisDatJahr\": 2000, \"EreignisDatMM\": 11, \"SexLang\": \"m\\u00e4nnlich\", \"sum_WBev\": 145}, {\"StichtagDat\": \"2005-04-30T00:00:00\", \"EreignisDatJahr\": 2005, \"EreignisDatMM\": 4, \"SexLang\": \"weiblich\", \"sum_WBev\": 145}, {\"StichtagDat\": \"2002-10-31T00:00:00\", \"EreignisDatJahr\": 2002, \"EreignisDatMM\": 10, \"SexLang\": \"weiblich\", \"sum_WBev\": 145}, {\"StichtagDat\": \"1998-10-31T00:00:00\", \"EreignisDatJahr\": 1998, \"EreignisDatMM\": 10, \"SexLang\": \"m\\u00e4nnlich\", \"sum_WBev\": 145}, {\"StichtagDat\": \"2007-11-30T00:00:00\", \"EreignisDatJahr\": 2007, \"EreignisDatMM\": 11, \"SexLang\": \"m\\u00e4nnlich\", \"sum_WBev\": 145}, {\"StichtagDat\": \"2006-03-31T00:00:00\", \"EreignisDatJahr\": 2006, \"EreignisDatMM\": 3, \"SexLang\": \"weiblich\", \"sum_WBev\": 144}, {\"StichtagDat\": \"1998-05-31T00:00:00\", \"EreignisDatJahr\": 1998, \"EreignisDatMM\": 5, \"SexLang\": \"weiblich\", \"sum_WBev\": 144}, {\"StichtagDat\": \"1999-06-30T00:00:00\", \"EreignisDatJahr\": 1999, \"EreignisDatMM\": 6, \"SexLang\": \"m\\u00e4nnlich\", \"sum_WBev\": 144}, {\"StichtagDat\": \"2003-09-30T00:00:00\", \"EreignisDatJahr\": 2003, \"EreignisDatMM\": 9, \"SexLang\": \"weiblich\", \"sum_WBev\": 143}, {\"StichtagDat\": \"2004-03-31T00:00:00\", \"EreignisDatJahr\": 2004, \"EreignisDatMM\": 3, \"SexLang\": \"weiblich\", \"sum_WBev\": 143}, {\"StichtagDat\": \"2018-12-31T00:00:00\", \"EreignisDatJahr\": 2018, \"EreignisDatMM\": 12, \"SexLang\": \"weiblich\", \"sum_WBev\": 143}, {\"StichtagDat\": \"2005-09-30T00:00:00\", \"EreignisDatJahr\": 2005, \"EreignisDatMM\": 9, \"SexLang\": \"weiblich\", \"sum_WBev\": 143}, {\"StichtagDat\": \"2002-12-31T00:00:00\", \"EreignisDatJahr\": 2002, \"EreignisDatMM\": 12, \"SexLang\": \"weiblich\", \"sum_WBev\": 143}, {\"StichtagDat\": \"2004-02-29T00:00:00\", \"EreignisDatJahr\": 2004, \"EreignisDatMM\": 2, \"SexLang\": \"m\\u00e4nnlich\", \"sum_WBev\": 143}, {\"StichtagDat\": \"2007-02-28T00:00:00\", \"EreignisDatJahr\": 2007, \"EreignisDatMM\": 2, \"SexLang\": \"m\\u00e4nnlich\", \"sum_WBev\": 142}, {\"StichtagDat\": \"1999-08-31T00:00:00\", \"EreignisDatJahr\": 1999, \"EreignisDatMM\": 8, \"SexLang\": \"weiblich\", \"sum_WBev\": 142}, {\"StichtagDat\": \"1998-09-30T00:00:00\", \"EreignisDatJahr\": 1998, \"EreignisDatMM\": 9, \"SexLang\": \"m\\u00e4nnlich\", \"sum_WBev\": 142}, {\"StichtagDat\": \"1999-03-31T00:00:00\", \"EreignisDatJahr\": 1999, \"EreignisDatMM\": 3, \"SexLang\": \"weiblich\", \"sum_WBev\": 142}, {\"StichtagDat\": \"2004-04-30T00:00:00\", \"EreignisDatJahr\": 2004, \"EreignisDatMM\": 4, \"SexLang\": \"m\\u00e4nnlich\", \"sum_WBev\": 142}, {\"StichtagDat\": \"2004-12-31T00:00:00\", \"EreignisDatJahr\": 2004, \"EreignisDatMM\": 12, \"SexLang\": \"m\\u00e4nnlich\", \"sum_WBev\": 141}, {\"StichtagDat\": \"2001-04-30T00:00:00\", \"EreignisDatJahr\": 2001, \"EreignisDatMM\": 4, \"SexLang\": \"m\\u00e4nnlich\", \"sum_WBev\": 141}, {\"StichtagDat\": \"1998-06-30T00:00:00\", \"EreignisDatJahr\": 1998, \"EreignisDatMM\": 6, \"SexLang\": \"m\\u00e4nnlich\", \"sum_WBev\": 141}, {\"StichtagDat\": \"1998-02-28T00:00:00\", \"EreignisDatJahr\": 1998, \"EreignisDatMM\": 2, \"SexLang\": \"weiblich\", \"sum_WBev\": 141}, {\"StichtagDat\": \"2004-12-31T00:00:00\", \"EreignisDatJahr\": 2004, \"EreignisDatMM\": 12, \"SexLang\": \"weiblich\", \"sum_WBev\": 141}, {\"StichtagDat\": \"1999-09-30T00:00:00\", \"EreignisDatJahr\": 1999, \"EreignisDatMM\": 9, \"SexLang\": \"m\\u00e4nnlich\", \"sum_WBev\": 140}, {\"StichtagDat\": \"2002-08-31T00:00:00\", \"EreignisDatJahr\": 2002, \"EreignisDatMM\": 8, \"SexLang\": \"weiblich\", \"sum_WBev\": 140}, {\"StichtagDat\": \"2006-02-28T00:00:00\", \"EreignisDatJahr\": 2006, \"EreignisDatMM\": 2, \"SexLang\": \"weiblich\", \"sum_WBev\": 139}, {\"StichtagDat\": \"2000-03-31T00:00:00\", \"EreignisDatJahr\": 2000, \"EreignisDatMM\": 3, \"SexLang\": \"weiblich\", \"sum_WBev\": 139}, {\"StichtagDat\": \"2000-06-30T00:00:00\", \"EreignisDatJahr\": 2000, \"EreignisDatMM\": 6, \"SexLang\": \"weiblich\", \"sum_WBev\": 139}, {\"StichtagDat\": \"2006-08-31T00:00:00\", \"EreignisDatJahr\": 2006, \"EreignisDatMM\": 8, \"SexLang\": \"weiblich\", \"sum_WBev\": 139}, {\"StichtagDat\": \"2019-12-31T00:00:00\", \"EreignisDatJahr\": 2019, \"EreignisDatMM\": 12, \"SexLang\": \"weiblich\", \"sum_WBev\": 138}, {\"StichtagDat\": \"2003-02-28T00:00:00\", \"EreignisDatJahr\": 2003, \"EreignisDatMM\": 2, \"SexLang\": \"m\\u00e4nnlich\", \"sum_WBev\": 138}, {\"StichtagDat\": \"1999-09-30T00:00:00\", \"EreignisDatJahr\": 1999, \"EreignisDatMM\": 9, \"SexLang\": \"weiblich\", \"sum_WBev\": 138}, {\"StichtagDat\": \"2003-04-30T00:00:00\", \"EreignisDatJahr\": 2003, \"EreignisDatMM\": 4, \"SexLang\": \"weiblich\", \"sum_WBev\": 138}, {\"StichtagDat\": \"1998-06-30T00:00:00\", \"EreignisDatJahr\": 1998, \"EreignisDatMM\": 6, \"SexLang\": \"weiblich\", \"sum_WBev\": 138}, {\"StichtagDat\": \"2000-12-31T00:00:00\", \"EreignisDatJahr\": 2000, \"EreignisDatMM\": 12, \"SexLang\": \"weiblich\", \"sum_WBev\": 138}, {\"StichtagDat\": \"1999-06-30T00:00:00\", \"EreignisDatJahr\": 1999, \"EreignisDatMM\": 6, \"SexLang\": \"weiblich\", \"sum_WBev\": 138}, {\"StichtagDat\": \"2004-02-29T00:00:00\", \"EreignisDatJahr\": 2004, \"EreignisDatMM\": 2, \"SexLang\": \"weiblich\", \"sum_WBev\": 137}, {\"StichtagDat\": \"2001-12-31T00:00:00\", \"EreignisDatJahr\": 2001, \"EreignisDatMM\": 12, \"SexLang\": \"weiblich\", \"sum_WBev\": 137}, {\"StichtagDat\": \"2001-05-31T00:00:00\", \"EreignisDatJahr\": 2001, \"EreignisDatMM\": 5, \"SexLang\": \"weiblich\", \"sum_WBev\": 137}, {\"StichtagDat\": \"2000-11-30T00:00:00\", \"EreignisDatJahr\": 2000, \"EreignisDatMM\": 11, \"SexLang\": \"weiblich\", \"sum_WBev\": 137}, {\"StichtagDat\": \"2002-04-30T00:00:00\", \"EreignisDatJahr\": 2002, \"EreignisDatMM\": 4, \"SexLang\": \"weiblich\", \"sum_WBev\": 136}, {\"StichtagDat\": \"2002-07-31T00:00:00\", \"EreignisDatJahr\": 2002, \"EreignisDatMM\": 7, \"SexLang\": \"m\\u00e4nnlich\", \"sum_WBev\": 136}, {\"StichtagDat\": \"2000-02-29T00:00:00\", \"EreignisDatJahr\": 2000, \"EreignisDatMM\": 2, \"SexLang\": \"m\\u00e4nnlich\", \"sum_WBev\": 136}, {\"StichtagDat\": \"2001-03-31T00:00:00\", \"EreignisDatJahr\": 2001, \"EreignisDatMM\": 3, \"SexLang\": \"m\\u00e4nnlich\", \"sum_WBev\": 135}, {\"StichtagDat\": \"1998-03-31T00:00:00\", \"EreignisDatJahr\": 1998, \"EreignisDatMM\": 3, \"SexLang\": \"weiblich\", \"sum_WBev\": 135}, {\"StichtagDat\": \"2004-01-31T00:00:00\", \"EreignisDatJahr\": 2004, \"EreignisDatMM\": 1, \"SexLang\": \"weiblich\", \"sum_WBev\": 135}, {\"StichtagDat\": \"2005-11-30T00:00:00\", \"EreignisDatJahr\": 2005, \"EreignisDatMM\": 11, \"SexLang\": \"weiblich\", \"sum_WBev\": 134}, {\"StichtagDat\": \"1998-08-31T00:00:00\", \"EreignisDatJahr\": 1998, \"EreignisDatMM\": 8, \"SexLang\": \"m\\u00e4nnlich\", \"sum_WBev\": 134}, {\"StichtagDat\": \"1999-04-30T00:00:00\", \"EreignisDatJahr\": 1999, \"EreignisDatMM\": 4, \"SexLang\": \"weiblich\", \"sum_WBev\": 134}, {\"StichtagDat\": \"2000-08-31T00:00:00\", \"EreignisDatJahr\": 2000, \"EreignisDatMM\": 8, \"SexLang\": \"weiblich\", \"sum_WBev\": 134}, {\"StichtagDat\": \"2002-11-30T00:00:00\", \"EreignisDatJahr\": 2002, \"EreignisDatMM\": 11, \"SexLang\": \"weiblich\", \"sum_WBev\": 134}, {\"StichtagDat\": \"2001-02-28T00:00:00\", \"EreignisDatJahr\": 2001, \"EreignisDatMM\": 2, \"SexLang\": \"m\\u00e4nnlich\", \"sum_WBev\": 133}, {\"StichtagDat\": \"2001-06-30T00:00:00\", \"EreignisDatJahr\": 2001, \"EreignisDatMM\": 6, \"SexLang\": \"weiblich\", \"sum_WBev\": 133}, {\"StichtagDat\": \"2007-02-28T00:00:00\", \"EreignisDatJahr\": 2007, \"EreignisDatMM\": 2, \"SexLang\": \"weiblich\", \"sum_WBev\": 132}, {\"StichtagDat\": \"2000-05-31T00:00:00\", \"EreignisDatJahr\": 2000, \"EreignisDatMM\": 5, \"SexLang\": \"weiblich\", \"sum_WBev\": 132}, {\"StichtagDat\": \"1998-08-31T00:00:00\", \"EreignisDatJahr\": 1998, \"EreignisDatMM\": 8, \"SexLang\": \"weiblich\", \"sum_WBev\": 132}, {\"StichtagDat\": \"2000-10-31T00:00:00\", \"EreignisDatJahr\": 2000, \"EreignisDatMM\": 10, \"SexLang\": \"weiblich\", \"sum_WBev\": 131}, {\"StichtagDat\": \"2005-12-31T00:00:00\", \"EreignisDatJahr\": 2005, \"EreignisDatMM\": 12, \"SexLang\": \"weiblich\", \"sum_WBev\": 131}, {\"StichtagDat\": \"2002-06-30T00:00:00\", \"EreignisDatJahr\": 2002, \"EreignisDatMM\": 6, \"SexLang\": \"m\\u00e4nnlich\", \"sum_WBev\": 131}, {\"StichtagDat\": \"1998-12-31T00:00:00\", \"EreignisDatJahr\": 1998, \"EreignisDatMM\": 12, \"SexLang\": \"weiblich\", \"sum_WBev\": 130}, {\"StichtagDat\": \"1999-10-31T00:00:00\", \"EreignisDatJahr\": 1999, \"EreignisDatMM\": 10, \"SexLang\": \"weiblich\", \"sum_WBev\": 130}, {\"StichtagDat\": \"1999-02-28T00:00:00\", \"EreignisDatJahr\": 1999, \"EreignisDatMM\": 2, \"SexLang\": \"weiblich\", \"sum_WBev\": 130}, {\"StichtagDat\": \"2001-11-30T00:00:00\", \"EreignisDatJahr\": 2001, \"EreignisDatMM\": 11, \"SexLang\": \"m\\u00e4nnlich\", \"sum_WBev\": 129}, {\"StichtagDat\": \"2001-11-30T00:00:00\", \"EreignisDatJahr\": 2001, \"EreignisDatMM\": 11, \"SexLang\": \"weiblich\", \"sum_WBev\": 128}, {\"StichtagDat\": \"1999-12-31T00:00:00\", \"EreignisDatJahr\": 1999, \"EreignisDatMM\": 12, \"SexLang\": \"weiblich\", \"sum_WBev\": 128}, {\"StichtagDat\": \"2001-10-31T00:00:00\", \"EreignisDatJahr\": 2001, \"EreignisDatMM\": 10, \"SexLang\": \"weiblich\", \"sum_WBev\": 125}, {\"StichtagDat\": \"2000-12-31T00:00:00\", \"EreignisDatJahr\": 2000, \"EreignisDatMM\": 12, \"SexLang\": \"m\\u00e4nnlich\", \"sum_WBev\": 125}, {\"StichtagDat\": \"2001-09-30T00:00:00\", \"EreignisDatJahr\": 2001, \"EreignisDatMM\": 9, \"SexLang\": \"m\\u00e4nnlich\", \"sum_WBev\": 125}, {\"StichtagDat\": \"2002-11-30T00:00:00\", \"EreignisDatJahr\": 2002, \"EreignisDatMM\": 11, \"SexLang\": \"m\\u00e4nnlich\", \"sum_WBev\": 125}, {\"StichtagDat\": \"2000-02-29T00:00:00\", \"EreignisDatJahr\": 2000, \"EreignisDatMM\": 2, \"SexLang\": \"weiblich\", \"sum_WBev\": 125}, {\"StichtagDat\": \"2003-02-28T00:00:00\", \"EreignisDatJahr\": 2003, \"EreignisDatMM\": 2, \"SexLang\": \"weiblich\", \"sum_WBev\": 124}, {\"StichtagDat\": \"2001-12-31T00:00:00\", \"EreignisDatJahr\": 2001, \"EreignisDatMM\": 12, \"SexLang\": \"m\\u00e4nnlich\", \"sum_WBev\": 124}, {\"StichtagDat\": \"2003-10-31T00:00:00\", \"EreignisDatJahr\": 2003, \"EreignisDatMM\": 10, \"SexLang\": \"weiblich\", \"sum_WBev\": 122}, {\"StichtagDat\": \"1999-11-30T00:00:00\", \"EreignisDatJahr\": 1999, \"EreignisDatMM\": 11, \"SexLang\": \"weiblich\", \"sum_WBev\": 122}, {\"StichtagDat\": \"2002-03-31T00:00:00\", \"EreignisDatJahr\": 2002, \"EreignisDatMM\": 3, \"SexLang\": \"weiblich\", \"sum_WBev\": 120}, {\"StichtagDat\": \"2003-12-31T00:00:00\", \"EreignisDatJahr\": 2003, \"EreignisDatMM\": 12, \"SexLang\": \"weiblich\", \"sum_WBev\": 119}, {\"StichtagDat\": \"2002-02-28T00:00:00\", \"EreignisDatJahr\": 2002, \"EreignisDatMM\": 2, \"SexLang\": \"weiblich\", \"sum_WBev\": 118}, {\"StichtagDat\": \"1998-12-31T00:00:00\", \"EreignisDatJahr\": 1998, \"EreignisDatMM\": 12, \"SexLang\": \"m\\u00e4nnlich\", \"sum_WBev\": 118}, {\"StichtagDat\": \"1998-02-28T00:00:00\", \"EreignisDatJahr\": 1998, \"EreignisDatMM\": 2, \"SexLang\": \"m\\u00e4nnlich\", \"sum_WBev\": 118}, {\"StichtagDat\": \"1998-11-30T00:00:00\", \"EreignisDatJahr\": 1998, \"EreignisDatMM\": 11, \"SexLang\": \"weiblich\", \"sum_WBev\": 112}, {\"StichtagDat\": \"2001-02-28T00:00:00\", \"EreignisDatJahr\": 2001, \"EreignisDatMM\": 2, \"SexLang\": \"weiblich\", \"sum_WBev\": 109}]}}, {\"mode\": \"vega-lite\"});\n",
       "</script>"
      ],
      "text/plain": [
       "alt.LayerChart(...)"
      ]
     },
     "execution_count": 45,
     "metadata": {},
     "output_type": "execute_result"
    }
   ],
   "source": [
    "highlight = alt.selection(type='single', on='mouseover',\n",
    "                          fields=['SexLang'], nearest=True)\n",
    "#x='date:StichtagDatJahr',\n",
    "base = alt.Chart(myAgg.reset_index().query('sum_WBev>1'), title=\"Title\").encode(\n",
    "    x=alt.X('StichtagDat', axis=alt.Axis(title='Jahr'))# , axis=alt.Axis(format='%', title='percentage')\n",
    "    , y=alt.X('sum_WBev', axis=alt.Axis(title='Anz. Personen'))\n",
    "    , color=alt.Color('SexLang', legend=alt.Legend(title=\"Geschlecht\"))  \n",
    "    ,tooltip=['StichtagDat', 'SexLang', 'sum_WBev']    \n",
    ")\n",
    "points = base.mark_circle().encode(\n",
    "    opacity=alt.value(0.75)\n",
    ").add_selection(\n",
    "    highlight\n",
    ").properties(\n",
    "    width=900 , height=350\n",
    ")\n",
    "lines = base.mark_line().encode(\n",
    "    size=alt.condition(~highlight, alt.value(0.5), alt.value(4))\n",
    ").interactive()\n",
    "\n",
    "lines + points"
   ]
  },
  {
   "cell_type": "markdown",
   "metadata": {},
   "source": [
    "#### Entwicklung nach Heimat"
   ]
  },
  {
   "cell_type": "code",
   "execution_count": 47,
   "metadata": {},
   "outputs": [
    {
     "data": {
      "text/html": [
       "<div>\n",
       "<style scoped>\n",
       "    .dataframe tbody tr th:only-of-type {\n",
       "        vertical-align: middle;\n",
       "    }\n",
       "\n",
       "    .dataframe tbody tr th {\n",
       "        vertical-align: top;\n",
       "    }\n",
       "\n",
       "    .dataframe thead th {\n",
       "        text-align: right;\n",
       "    }\n",
       "</style>\n",
       "<table border=\"1\" class=\"dataframe\">\n",
       "  <thead>\n",
       "    <tr style=\"text-align: right;\">\n",
       "      <th></th>\n",
       "      <th>StichtagDat</th>\n",
       "      <th>EreignisDatJahr</th>\n",
       "      <th>EreignisDatMM</th>\n",
       "      <th>HerkunftLang</th>\n",
       "      <th>sum_WBev</th>\n",
       "    </tr>\n",
       "  </thead>\n",
       "  <tbody>\n",
       "    <tr>\n",
       "      <th>0</th>\n",
       "      <td>2020-01-31</td>\n",
       "      <td>2020</td>\n",
       "      <td>1</td>\n",
       "      <td>Schweizer/in</td>\n",
       "      <td>362</td>\n",
       "    </tr>\n",
       "    <tr>\n",
       "      <th>1</th>\n",
       "      <td>2019-01-31</td>\n",
       "      <td>2019</td>\n",
       "      <td>1</td>\n",
       "      <td>Schweizer/in</td>\n",
       "      <td>352</td>\n",
       "    </tr>\n",
       "  </tbody>\n",
       "</table>\n",
       "</div>"
      ],
      "text/plain": [
       "  StichtagDat  EreignisDatJahr  EreignisDatMM  HerkunftLang  sum_WBev\n",
       "0  2020-01-31             2020              1  Schweizer/in       362\n",
       "1  2019-01-31             2019              1  Schweizer/in       352"
      ]
     },
     "execution_count": 47,
     "metadata": {},
     "output_type": "execute_result"
    }
   ],
   "source": [
    "#myAgg = data2betested.loc[\"2008-11\":\"2021-11\"] \\\n",
    "myAgg = data2betested \\\n",
    "    .groupby(['StichtagDat','EreignisDatJahr', 'EreignisDatMM', 'HerkunftLang']) \\\n",
    "    .agg(sum_WBev=('AnzGebuWir', 'sum')) \\\n",
    "    .sort_values('sum_WBev', ascending=False) \n",
    "\n",
    "myAgg.reset_index().head(2)"
   ]
  },
  {
   "cell_type": "code",
   "execution_count": 48,
   "metadata": {},
   "outputs": [
    {
     "data": {
      "text/html": [
       "\n",
       "<div id=\"altair-viz-aaa607882f4946ad97bb1b88f718f5f8\"></div>\n",
       "<script type=\"text/javascript\">\n",
       "  (function(spec, embedOpt){\n",
       "    let outputDiv = document.currentScript.previousElementSibling;\n",
       "    if (outputDiv.id !== \"altair-viz-aaa607882f4946ad97bb1b88f718f5f8\") {\n",
       "      outputDiv = document.getElementById(\"altair-viz-aaa607882f4946ad97bb1b88f718f5f8\");\n",
       "    }\n",
       "    const paths = {\n",
       "      \"vega\": \"https://cdn.jsdelivr.net/npm//vega@5?noext\",\n",
       "      \"vega-lib\": \"https://cdn.jsdelivr.net/npm//vega-lib?noext\",\n",
       "      \"vega-lite\": \"https://cdn.jsdelivr.net/npm//vega-lite@4.8.1?noext\",\n",
       "      \"vega-embed\": \"https://cdn.jsdelivr.net/npm//vega-embed@6?noext\",\n",
       "    };\n",
       "\n",
       "    function loadScript(lib) {\n",
       "      return new Promise(function(resolve, reject) {\n",
       "        var s = document.createElement('script');\n",
       "        s.src = paths[lib];\n",
       "        s.async = true;\n",
       "        s.onload = () => resolve(paths[lib]);\n",
       "        s.onerror = () => reject(`Error loading script: ${paths[lib]}`);\n",
       "        document.getElementsByTagName(\"head\")[0].appendChild(s);\n",
       "      });\n",
       "    }\n",
       "\n",
       "    function showError(err) {\n",
       "      outputDiv.innerHTML = `<div class=\"error\" style=\"color:red;\">${err}</div>`;\n",
       "      throw err;\n",
       "    }\n",
       "\n",
       "    function displayChart(vegaEmbed) {\n",
       "      vegaEmbed(outputDiv, spec, embedOpt)\n",
       "        .catch(err => showError(`Javascript Error: ${err.message}<br>This usually means there's a typo in your chart specification. See the javascript console for the full traceback.`));\n",
       "    }\n",
       "\n",
       "    if(typeof define === \"function\" && define.amd) {\n",
       "      requirejs.config({paths});\n",
       "      require([\"vega-embed\"], displayChart, err => showError(`Error loading script: ${err.message}`));\n",
       "    } else if (typeof vegaEmbed === \"function\") {\n",
       "      displayChart(vegaEmbed);\n",
       "    } else {\n",
       "      loadScript(\"vega\")\n",
       "        .then(() => loadScript(\"vega-lite\"))\n",
       "        .then(() => loadScript(\"vega-embed\"))\n",
       "        .catch(showError)\n",
       "        .then(() => displayChart(vegaEmbed));\n",
       "    }\n",
       "  })({\"config\": {\"view\": {\"continuousWidth\": 400, \"continuousHeight\": 300}}, \"layer\": [{\"mark\": \"line\", \"encoding\": {\"color\": {\"type\": \"nominal\", \"field\": \"HerkunftLang\", \"legend\": {\"title\": \"Herkunft\"}}, \"size\": {\"condition\": {\"value\": 0.5, \"selection\": {\"not\": \"selector017\"}}, \"value\": 4}, \"tooltip\": [{\"type\": \"temporal\", \"field\": \"StichtagDat\"}, {\"type\": \"nominal\", \"field\": \"HerkunftLang\"}, {\"type\": \"quantitative\", \"field\": \"sum_WBev\"}], \"x\": {\"type\": \"temporal\", \"axis\": {\"title\": \"Jahr\"}, \"field\": \"StichtagDat\"}, \"y\": {\"type\": \"quantitative\", \"axis\": {\"title\": \"Anz. Personen\"}, \"field\": \"sum_WBev\"}}, \"selection\": {\"selector018\": {\"type\": \"interval\", \"bind\": \"scales\", \"encodings\": [\"x\", \"y\"]}}, \"title\": \"Title\"}, {\"mark\": \"circle\", \"encoding\": {\"color\": {\"type\": \"nominal\", \"field\": \"HerkunftLang\", \"legend\": {\"title\": \"Herkunft\"}}, \"opacity\": {\"value\": 0.75}, \"tooltip\": [{\"type\": \"temporal\", \"field\": \"StichtagDat\"}, {\"type\": \"nominal\", \"field\": \"HerkunftLang\"}, {\"type\": \"quantitative\", \"field\": \"sum_WBev\"}], \"x\": {\"type\": \"temporal\", \"axis\": {\"title\": \"Jahr\"}, \"field\": \"StichtagDat\"}, \"y\": {\"type\": \"quantitative\", \"axis\": {\"title\": \"Anz. Personen\"}, \"field\": \"sum_WBev\"}}, \"height\": 350, \"selection\": {\"selector017\": {\"type\": \"single\", \"on\": \"mouseover\", \"fields\": [\"HerkunftLang\"], \"nearest\": true}}, \"title\": \"Title\", \"width\": 900}], \"data\": {\"name\": \"data-918ed1218acf16bfd85829a36e0cda12\"}, \"$schema\": \"https://vega.github.io/schema/vega-lite/v4.8.1.json\", \"datasets\": {\"data-918ed1218acf16bfd85829a36e0cda12\": [{\"StichtagDat\": \"2020-01-31T00:00:00\", \"EreignisDatJahr\": 2020, \"EreignisDatMM\": 1, \"HerkunftLang\": \"Schweizer/in\", \"sum_WBev\": 362}, {\"StichtagDat\": \"2019-01-31T00:00:00\", \"EreignisDatJahr\": 2019, \"EreignisDatMM\": 1, \"HerkunftLang\": \"Schweizer/in\", \"sum_WBev\": 352}, {\"StichtagDat\": \"2021-01-31T00:00:00\", \"EreignisDatJahr\": 2021, \"EreignisDatMM\": 1, \"HerkunftLang\": \"Schweizer/in\", \"sum_WBev\": 347}, {\"StichtagDat\": \"2021-08-31T00:00:00\", \"EreignisDatJahr\": 2021, \"EreignisDatMM\": 8, \"HerkunftLang\": \"Schweizer/in\", \"sum_WBev\": 338}, {\"StichtagDat\": \"2019-07-31T00:00:00\", \"EreignisDatJahr\": 2019, \"EreignisDatMM\": 7, \"HerkunftLang\": \"Schweizer/in\", \"sum_WBev\": 325}, {\"StichtagDat\": \"2021-07-31T00:00:00\", \"EreignisDatJahr\": 2021, \"EreignisDatMM\": 7, \"HerkunftLang\": \"Schweizer/in\", \"sum_WBev\": 324}, {\"StichtagDat\": \"2016-01-31T00:00:00\", \"EreignisDatJahr\": 2016, \"EreignisDatMM\": 1, \"HerkunftLang\": \"Schweizer/in\", \"sum_WBev\": 320}, {\"StichtagDat\": \"2018-07-31T00:00:00\", \"EreignisDatJahr\": 2018, \"EreignisDatMM\": 7, \"HerkunftLang\": \"Schweizer/in\", \"sum_WBev\": 318}, {\"StichtagDat\": \"2014-01-31T00:00:00\", \"EreignisDatJahr\": 2014, \"EreignisDatMM\": 1, \"HerkunftLang\": \"Schweizer/in\", \"sum_WBev\": 318}, {\"StichtagDat\": \"2017-08-31T00:00:00\", \"EreignisDatJahr\": 2017, \"EreignisDatMM\": 8, \"HerkunftLang\": \"Schweizer/in\", \"sum_WBev\": 317}, {\"StichtagDat\": \"2021-06-30T00:00:00\", \"EreignisDatJahr\": 2021, \"EreignisDatMM\": 6, \"HerkunftLang\": \"Schweizer/in\", \"sum_WBev\": 315}, {\"StichtagDat\": \"2016-09-30T00:00:00\", \"EreignisDatJahr\": 2016, \"EreignisDatMM\": 9, \"HerkunftLang\": \"Schweizer/in\", \"sum_WBev\": 315}, {\"StichtagDat\": \"2021-10-31T00:00:00\", \"EreignisDatJahr\": 2021, \"EreignisDatMM\": 10, \"HerkunftLang\": \"Schweizer/in\", \"sum_WBev\": 315}, {\"StichtagDat\": \"2021-03-31T00:00:00\", \"EreignisDatJahr\": 2021, \"EreignisDatMM\": 3, \"HerkunftLang\": \"Schweizer/in\", \"sum_WBev\": 314}, {\"StichtagDat\": \"2018-10-31T00:00:00\", \"EreignisDatJahr\": 2018, \"EreignisDatMM\": 10, \"HerkunftLang\": \"Schweizer/in\", \"sum_WBev\": 314}, {\"StichtagDat\": \"2014-09-30T00:00:00\", \"EreignisDatJahr\": 2014, \"EreignisDatMM\": 9, \"HerkunftLang\": \"Schweizer/in\", \"sum_WBev\": 314}, {\"StichtagDat\": \"2018-08-31T00:00:00\", \"EreignisDatJahr\": 2018, \"EreignisDatMM\": 8, \"HerkunftLang\": \"Schweizer/in\", \"sum_WBev\": 313}, {\"StichtagDat\": \"2019-05-31T00:00:00\", \"EreignisDatJahr\": 2019, \"EreignisDatMM\": 5, \"HerkunftLang\": \"Schweizer/in\", \"sum_WBev\": 313}, {\"StichtagDat\": \"2016-07-31T00:00:00\", \"EreignisDatJahr\": 2016, \"EreignisDatMM\": 7, \"HerkunftLang\": \"Schweizer/in\", \"sum_WBev\": 310}, {\"StichtagDat\": \"2020-07-31T00:00:00\", \"EreignisDatJahr\": 2020, \"EreignisDatMM\": 7, \"HerkunftLang\": \"Schweizer/in\", \"sum_WBev\": 309}, {\"StichtagDat\": \"2015-01-31T00:00:00\", \"EreignisDatJahr\": 2015, \"EreignisDatMM\": 1, \"HerkunftLang\": \"Schweizer/in\", \"sum_WBev\": 309}, {\"StichtagDat\": \"2016-08-31T00:00:00\", \"EreignisDatJahr\": 2016, \"EreignisDatMM\": 8, \"HerkunftLang\": \"Schweizer/in\", \"sum_WBev\": 308}, {\"StichtagDat\": \"2017-07-31T00:00:00\", \"EreignisDatJahr\": 2017, \"EreignisDatMM\": 7, \"HerkunftLang\": \"Schweizer/in\", \"sum_WBev\": 307}, {\"StichtagDat\": \"2015-07-31T00:00:00\", \"EreignisDatJahr\": 2015, \"EreignisDatMM\": 7, \"HerkunftLang\": \"Schweizer/in\", \"sum_WBev\": 307}, {\"StichtagDat\": \"2015-09-30T00:00:00\", \"EreignisDatJahr\": 2015, \"EreignisDatMM\": 9, \"HerkunftLang\": \"Schweizer/in\", \"sum_WBev\": 306}, {\"StichtagDat\": \"2020-10-31T00:00:00\", \"EreignisDatJahr\": 2020, \"EreignisDatMM\": 10, \"HerkunftLang\": \"Schweizer/in\", \"sum_WBev\": 306}, {\"StichtagDat\": \"2018-05-31T00:00:00\", \"EreignisDatJahr\": 2018, \"EreignisDatMM\": 5, \"HerkunftLang\": \"Schweizer/in\", \"sum_WBev\": 306}, {\"StichtagDat\": \"2021-01-31T00:00:00\", \"EreignisDatJahr\": 2021, \"EreignisDatMM\": 1, \"HerkunftLang\": \"Ausl\\u00e4nder/in\", \"sum_WBev\": 305}, {\"StichtagDat\": \"2019-08-31T00:00:00\", \"EreignisDatJahr\": 2019, \"EreignisDatMM\": 8, \"HerkunftLang\": \"Schweizer/in\", \"sum_WBev\": 305}, {\"StichtagDat\": \"2013-07-31T00:00:00\", \"EreignisDatJahr\": 2013, \"EreignisDatMM\": 7, \"HerkunftLang\": \"Schweizer/in\", \"sum_WBev\": 305}, {\"StichtagDat\": \"2014-04-30T00:00:00\", \"EreignisDatJahr\": 2014, \"EreignisDatMM\": 4, \"HerkunftLang\": \"Schweizer/in\", \"sum_WBev\": 304}, {\"StichtagDat\": \"2011-09-30T00:00:00\", \"EreignisDatJahr\": 2011, \"EreignisDatMM\": 9, \"HerkunftLang\": \"Schweizer/in\", \"sum_WBev\": 304}, {\"StichtagDat\": \"2017-06-30T00:00:00\", \"EreignisDatJahr\": 2017, \"EreignisDatMM\": 6, \"HerkunftLang\": \"Schweizer/in\", \"sum_WBev\": 304}, {\"StichtagDat\": \"2021-05-31T00:00:00\", \"EreignisDatJahr\": 2021, \"EreignisDatMM\": 5, \"HerkunftLang\": \"Schweizer/in\", \"sum_WBev\": 303}, {\"StichtagDat\": \"2018-09-30T00:00:00\", \"EreignisDatJahr\": 2018, \"EreignisDatMM\": 9, \"HerkunftLang\": \"Schweizer/in\", \"sum_WBev\": 302}, {\"StichtagDat\": \"2012-09-30T00:00:00\", \"EreignisDatJahr\": 2012, \"EreignisDatMM\": 9, \"HerkunftLang\": \"Schweizer/in\", \"sum_WBev\": 300}, {\"StichtagDat\": \"2017-01-31T00:00:00\", \"EreignisDatJahr\": 2017, \"EreignisDatMM\": 1, \"HerkunftLang\": \"Schweizer/in\", \"sum_WBev\": 299}, {\"StichtagDat\": \"2013-08-31T00:00:00\", \"EreignisDatJahr\": 2013, \"EreignisDatMM\": 8, \"HerkunftLang\": \"Schweizer/in\", \"sum_WBev\": 299}, {\"StichtagDat\": \"2009-04-30T00:00:00\", \"EreignisDatJahr\": 2009, \"EreignisDatMM\": 4, \"HerkunftLang\": \"Schweizer/in\", \"sum_WBev\": 298}, {\"StichtagDat\": \"2014-07-31T00:00:00\", \"EreignisDatJahr\": 2014, \"EreignisDatMM\": 7, \"HerkunftLang\": \"Schweizer/in\", \"sum_WBev\": 297}, {\"StichtagDat\": \"2015-12-31T00:00:00\", \"EreignisDatJahr\": 2015, \"EreignisDatMM\": 12, \"HerkunftLang\": \"Schweizer/in\", \"sum_WBev\": 296}, {\"StichtagDat\": \"2013-01-31T00:00:00\", \"EreignisDatJahr\": 2013, \"EreignisDatMM\": 1, \"HerkunftLang\": \"Schweizer/in\", \"sum_WBev\": 296}, {\"StichtagDat\": \"2020-03-31T00:00:00\", \"EreignisDatJahr\": 2020, \"EreignisDatMM\": 3, \"HerkunftLang\": \"Schweizer/in\", \"sum_WBev\": 296}, {\"StichtagDat\": \"2015-06-30T00:00:00\", \"EreignisDatJahr\": 2015, \"EreignisDatMM\": 6, \"HerkunftLang\": \"Schweizer/in\", \"sum_WBev\": 295}, {\"StichtagDat\": \"2016-06-30T00:00:00\", \"EreignisDatJahr\": 2016, \"EreignisDatMM\": 6, \"HerkunftLang\": \"Schweizer/in\", \"sum_WBev\": 294}, {\"StichtagDat\": \"2009-07-31T00:00:00\", \"EreignisDatJahr\": 2009, \"EreignisDatMM\": 7, \"HerkunftLang\": \"Schweizer/in\", \"sum_WBev\": 291}, {\"StichtagDat\": \"2016-03-31T00:00:00\", \"EreignisDatJahr\": 2016, \"EreignisDatMM\": 3, \"HerkunftLang\": \"Schweizer/in\", \"sum_WBev\": 290}, {\"StichtagDat\": \"2011-04-30T00:00:00\", \"EreignisDatJahr\": 2011, \"EreignisDatMM\": 4, \"HerkunftLang\": \"Schweizer/in\", \"sum_WBev\": 290}, {\"StichtagDat\": \"2017-05-31T00:00:00\", \"EreignisDatJahr\": 2017, \"EreignisDatMM\": 5, \"HerkunftLang\": \"Schweizer/in\", \"sum_WBev\": 290}, {\"StichtagDat\": \"2011-10-31T00:00:00\", \"EreignisDatJahr\": 2011, \"EreignisDatMM\": 10, \"HerkunftLang\": \"Schweizer/in\", \"sum_WBev\": 290}, {\"StichtagDat\": \"2019-09-30T00:00:00\", \"EreignisDatJahr\": 2019, \"EreignisDatMM\": 9, \"HerkunftLang\": \"Schweizer/in\", \"sum_WBev\": 288}, {\"StichtagDat\": \"2020-04-30T00:00:00\", \"EreignisDatJahr\": 2020, \"EreignisDatMM\": 4, \"HerkunftLang\": \"Schweizer/in\", \"sum_WBev\": 288}, {\"StichtagDat\": \"2015-05-31T00:00:00\", \"EreignisDatJahr\": 2015, \"EreignisDatMM\": 5, \"HerkunftLang\": \"Schweizer/in\", \"sum_WBev\": 287}, {\"StichtagDat\": \"2018-01-31T00:00:00\", \"EreignisDatJahr\": 2018, \"EreignisDatMM\": 1, \"HerkunftLang\": \"Schweizer/in\", \"sum_WBev\": 287}, {\"StichtagDat\": \"2016-02-29T00:00:00\", \"EreignisDatJahr\": 2016, \"EreignisDatMM\": 2, \"HerkunftLang\": \"Schweizer/in\", \"sum_WBev\": 286}, {\"StichtagDat\": \"2017-10-31T00:00:00\", \"EreignisDatJahr\": 2017, \"EreignisDatMM\": 10, \"HerkunftLang\": \"Schweizer/in\", \"sum_WBev\": 286}, {\"StichtagDat\": \"2015-04-30T00:00:00\", \"EreignisDatJahr\": 2015, \"EreignisDatMM\": 4, \"HerkunftLang\": \"Schweizer/in\", \"sum_WBev\": 285}, {\"StichtagDat\": \"2010-03-31T00:00:00\", \"EreignisDatJahr\": 2010, \"EreignisDatMM\": 3, \"HerkunftLang\": \"Schweizer/in\", \"sum_WBev\": 285}, {\"StichtagDat\": \"2017-01-31T00:00:00\", \"EreignisDatJahr\": 2017, \"EreignisDatMM\": 1, \"HerkunftLang\": \"Ausl\\u00e4nder/in\", \"sum_WBev\": 285}, {\"StichtagDat\": \"2017-11-30T00:00:00\", \"EreignisDatJahr\": 2017, \"EreignisDatMM\": 11, \"HerkunftLang\": \"Schweizer/in\", \"sum_WBev\": 285}, {\"StichtagDat\": \"2021-09-30T00:00:00\", \"EreignisDatJahr\": 2021, \"EreignisDatMM\": 9, \"HerkunftLang\": \"Schweizer/in\", \"sum_WBev\": 285}, {\"StichtagDat\": \"2011-06-30T00:00:00\", \"EreignisDatJahr\": 2011, \"EreignisDatMM\": 6, \"HerkunftLang\": \"Schweizer/in\", \"sum_WBev\": 284}, {\"StichtagDat\": \"2013-03-31T00:00:00\", \"EreignisDatJahr\": 2013, \"EreignisDatMM\": 3, \"HerkunftLang\": \"Schweizer/in\", \"sum_WBev\": 284}, {\"StichtagDat\": \"2013-05-31T00:00:00\", \"EreignisDatJahr\": 2013, \"EreignisDatMM\": 5, \"HerkunftLang\": \"Schweizer/in\", \"sum_WBev\": 284}, {\"StichtagDat\": \"2016-04-30T00:00:00\", \"EreignisDatJahr\": 2016, \"EreignisDatMM\": 4, \"HerkunftLang\": \"Schweizer/in\", \"sum_WBev\": 282}, {\"StichtagDat\": \"2020-09-30T00:00:00\", \"EreignisDatJahr\": 2020, \"EreignisDatMM\": 9, \"HerkunftLang\": \"Schweizer/in\", \"sum_WBev\": 282}, {\"StichtagDat\": \"2014-05-31T00:00:00\", \"EreignisDatJahr\": 2014, \"EreignisDatMM\": 5, \"HerkunftLang\": \"Schweizer/in\", \"sum_WBev\": 282}, {\"StichtagDat\": \"2020-02-29T00:00:00\", \"EreignisDatJahr\": 2020, \"EreignisDatMM\": 2, \"HerkunftLang\": \"Schweizer/in\", \"sum_WBev\": 282}, {\"StichtagDat\": \"2021-04-30T00:00:00\", \"EreignisDatJahr\": 2021, \"EreignisDatMM\": 4, \"HerkunftLang\": \"Schweizer/in\", \"sum_WBev\": 282}, {\"StichtagDat\": \"2017-03-31T00:00:00\", \"EreignisDatJahr\": 2017, \"EreignisDatMM\": 3, \"HerkunftLang\": \"Schweizer/in\", \"sum_WBev\": 281}, {\"StichtagDat\": \"2020-06-30T00:00:00\", \"EreignisDatJahr\": 2020, \"EreignisDatMM\": 6, \"HerkunftLang\": \"Schweizer/in\", \"sum_WBev\": 280}, {\"StichtagDat\": \"2018-06-30T00:00:00\", \"EreignisDatJahr\": 2018, \"EreignisDatMM\": 6, \"HerkunftLang\": \"Schweizer/in\", \"sum_WBev\": 280}, {\"StichtagDat\": \"2014-06-30T00:00:00\", \"EreignisDatJahr\": 2014, \"EreignisDatMM\": 6, \"HerkunftLang\": \"Schweizer/in\", \"sum_WBev\": 280}, {\"StichtagDat\": \"2011-11-30T00:00:00\", \"EreignisDatJahr\": 2011, \"EreignisDatMM\": 11, \"HerkunftLang\": \"Schweizer/in\", \"sum_WBev\": 280}, {\"StichtagDat\": \"2016-10-31T00:00:00\", \"EreignisDatJahr\": 2016, \"EreignisDatMM\": 10, \"HerkunftLang\": \"Schweizer/in\", \"sum_WBev\": 279}, {\"StichtagDat\": \"2014-08-31T00:00:00\", \"EreignisDatJahr\": 2014, \"EreignisDatMM\": 8, \"HerkunftLang\": \"Schweizer/in\", \"sum_WBev\": 279}, {\"StichtagDat\": \"2014-10-31T00:00:00\", \"EreignisDatJahr\": 2014, \"EreignisDatMM\": 10, \"HerkunftLang\": \"Schweizer/in\", \"sum_WBev\": 278}, {\"StichtagDat\": \"2010-01-31T00:00:00\", \"EreignisDatJahr\": 2010, \"EreignisDatMM\": 1, \"HerkunftLang\": \"Schweizer/in\", \"sum_WBev\": 278}, {\"StichtagDat\": \"2017-09-30T00:00:00\", \"EreignisDatJahr\": 2017, \"EreignisDatMM\": 9, \"HerkunftLang\": \"Schweizer/in\", \"sum_WBev\": 278}, {\"StichtagDat\": \"2012-06-30T00:00:00\", \"EreignisDatJahr\": 2012, \"EreignisDatMM\": 6, \"HerkunftLang\": \"Schweizer/in\", \"sum_WBev\": 278}, {\"StichtagDat\": \"2019-04-30T00:00:00\", \"EreignisDatJahr\": 2019, \"EreignisDatMM\": 4, \"HerkunftLang\": \"Schweizer/in\", \"sum_WBev\": 278}, {\"StichtagDat\": \"2019-01-31T00:00:00\", \"EreignisDatJahr\": 2019, \"EreignisDatMM\": 1, \"HerkunftLang\": \"Ausl\\u00e4nder/in\", \"sum_WBev\": 278}, {\"StichtagDat\": \"2009-10-31T00:00:00\", \"EreignisDatJahr\": 2009, \"EreignisDatMM\": 10, \"HerkunftLang\": \"Schweizer/in\", \"sum_WBev\": 278}, {\"StichtagDat\": \"2014-11-30T00:00:00\", \"EreignisDatJahr\": 2014, \"EreignisDatMM\": 11, \"HerkunftLang\": \"Schweizer/in\", \"sum_WBev\": 277}, {\"StichtagDat\": \"2011-07-31T00:00:00\", \"EreignisDatJahr\": 2011, \"EreignisDatMM\": 7, \"HerkunftLang\": \"Schweizer/in\", \"sum_WBev\": 277}, {\"StichtagDat\": \"2011-05-31T00:00:00\", \"EreignisDatJahr\": 2011, \"EreignisDatMM\": 5, \"HerkunftLang\": \"Schweizer/in\", \"sum_WBev\": 277}, {\"StichtagDat\": \"2009-11-30T00:00:00\", \"EreignisDatJahr\": 2009, \"EreignisDatMM\": 11, \"HerkunftLang\": \"Schweizer/in\", \"sum_WBev\": 276}, {\"StichtagDat\": \"2015-08-31T00:00:00\", \"EreignisDatJahr\": 2015, \"EreignisDatMM\": 8, \"HerkunftLang\": \"Schweizer/in\", \"sum_WBev\": 276}, {\"StichtagDat\": \"2012-04-30T00:00:00\", \"EreignisDatJahr\": 2012, \"EreignisDatMM\": 4, \"HerkunftLang\": \"Schweizer/in\", \"sum_WBev\": 276}, {\"StichtagDat\": \"2015-03-31T00:00:00\", \"EreignisDatJahr\": 2015, \"EreignisDatMM\": 3, \"HerkunftLang\": \"Schweizer/in\", \"sum_WBev\": 276}, {\"StichtagDat\": \"2016-05-31T00:00:00\", \"EreignisDatJahr\": 2016, \"EreignisDatMM\": 5, \"HerkunftLang\": \"Schweizer/in\", \"sum_WBev\": 274}, {\"StichtagDat\": \"2018-02-28T00:00:00\", \"EreignisDatJahr\": 2018, \"EreignisDatMM\": 2, \"HerkunftLang\": \"Schweizer/in\", \"sum_WBev\": 274}, {\"StichtagDat\": \"2011-01-31T00:00:00\", \"EreignisDatJahr\": 2011, \"EreignisDatMM\": 1, \"HerkunftLang\": \"Schweizer/in\", \"sum_WBev\": 274}, {\"StichtagDat\": \"2012-01-31T00:00:00\", \"EreignisDatJahr\": 2012, \"EreignisDatMM\": 1, \"HerkunftLang\": \"Schweizer/in\", \"sum_WBev\": 273}, {\"StichtagDat\": \"2013-11-30T00:00:00\", \"EreignisDatJahr\": 2013, \"EreignisDatMM\": 11, \"HerkunftLang\": \"Schweizer/in\", \"sum_WBev\": 273}, {\"StichtagDat\": \"2010-08-31T00:00:00\", \"EreignisDatJahr\": 2010, \"EreignisDatMM\": 8, \"HerkunftLang\": \"Schweizer/in\", \"sum_WBev\": 273}, {\"StichtagDat\": \"2020-05-31T00:00:00\", \"EreignisDatJahr\": 2020, \"EreignisDatMM\": 5, \"HerkunftLang\": \"Schweizer/in\", \"sum_WBev\": 273}, {\"StichtagDat\": \"2013-04-30T00:00:00\", \"EreignisDatJahr\": 2013, \"EreignisDatMM\": 4, \"HerkunftLang\": \"Schweizer/in\", \"sum_WBev\": 272}, {\"StichtagDat\": \"2012-10-31T00:00:00\", \"EreignisDatJahr\": 2012, \"EreignisDatMM\": 10, \"HerkunftLang\": \"Schweizer/in\", \"sum_WBev\": 272}, {\"StichtagDat\": \"2015-02-28T00:00:00\", \"EreignisDatJahr\": 2015, \"EreignisDatMM\": 2, \"HerkunftLang\": \"Schweizer/in\", \"sum_WBev\": 272}, {\"StichtagDat\": \"2010-07-31T00:00:00\", \"EreignisDatJahr\": 2010, \"EreignisDatMM\": 7, \"HerkunftLang\": \"Schweizer/in\", \"sum_WBev\": 272}, {\"StichtagDat\": \"2017-04-30T00:00:00\", \"EreignisDatJahr\": 2017, \"EreignisDatMM\": 4, \"HerkunftLang\": \"Schweizer/in\", \"sum_WBev\": 272}, {\"StichtagDat\": \"2010-09-30T00:00:00\", \"EreignisDatJahr\": 2010, \"EreignisDatMM\": 9, \"HerkunftLang\": \"Schweizer/in\", \"sum_WBev\": 272}, {\"StichtagDat\": \"2015-10-31T00:00:00\", \"EreignisDatJahr\": 2015, \"EreignisDatMM\": 10, \"HerkunftLang\": \"Schweizer/in\", \"sum_WBev\": 272}, {\"StichtagDat\": \"2016-11-30T00:00:00\", \"EreignisDatJahr\": 2016, \"EreignisDatMM\": 11, \"HerkunftLang\": \"Schweizer/in\", \"sum_WBev\": 272}, {\"StichtagDat\": \"2008-07-31T00:00:00\", \"EreignisDatJahr\": 2008, \"EreignisDatMM\": 7, \"HerkunftLang\": \"Schweizer/in\", \"sum_WBev\": 272}, {\"StichtagDat\": \"2009-06-30T00:00:00\", \"EreignisDatJahr\": 2009, \"EreignisDatMM\": 6, \"HerkunftLang\": \"Schweizer/in\", \"sum_WBev\": 271}, {\"StichtagDat\": \"2018-03-31T00:00:00\", \"EreignisDatJahr\": 2018, \"EreignisDatMM\": 3, \"HerkunftLang\": \"Schweizer/in\", \"sum_WBev\": 271}, {\"StichtagDat\": \"2009-01-31T00:00:00\", \"EreignisDatJahr\": 2009, \"EreignisDatMM\": 1, \"HerkunftLang\": \"Schweizer/in\", \"sum_WBev\": 270}, {\"StichtagDat\": \"2021-11-30T00:00:00\", \"EreignisDatJahr\": 2021, \"EreignisDatMM\": 11, \"HerkunftLang\": \"Schweizer/in\", \"sum_WBev\": 270}, {\"StichtagDat\": \"2019-10-31T00:00:00\", \"EreignisDatJahr\": 2019, \"EreignisDatMM\": 10, \"HerkunftLang\": \"Schweizer/in\", \"sum_WBev\": 270}, {\"StichtagDat\": \"2013-10-31T00:00:00\", \"EreignisDatJahr\": 2013, \"EreignisDatMM\": 10, \"HerkunftLang\": \"Schweizer/in\", \"sum_WBev\": 270}, {\"StichtagDat\": \"2008-01-31T00:00:00\", \"EreignisDatJahr\": 2008, \"EreignisDatMM\": 1, \"HerkunftLang\": \"Schweizer/in\", \"sum_WBev\": 269}, {\"StichtagDat\": \"2013-09-30T00:00:00\", \"EreignisDatJahr\": 2013, \"EreignisDatMM\": 9, \"HerkunftLang\": \"Schweizer/in\", \"sum_WBev\": 268}, {\"StichtagDat\": \"2018-01-31T00:00:00\", \"EreignisDatJahr\": 2018, \"EreignisDatMM\": 1, \"HerkunftLang\": \"Ausl\\u00e4nder/in\", \"sum_WBev\": 268}, {\"StichtagDat\": \"2020-11-30T00:00:00\", \"EreignisDatJahr\": 2020, \"EreignisDatMM\": 11, \"HerkunftLang\": \"Schweizer/in\", \"sum_WBev\": 267}, {\"StichtagDat\": \"2011-08-31T00:00:00\", \"EreignisDatJahr\": 2011, \"EreignisDatMM\": 8, \"HerkunftLang\": \"Schweizer/in\", \"sum_WBev\": 267}, {\"StichtagDat\": \"2012-07-31T00:00:00\", \"EreignisDatJahr\": 2012, \"EreignisDatMM\": 7, \"HerkunftLang\": \"Schweizer/in\", \"sum_WBev\": 266}, {\"StichtagDat\": \"2006-07-31T00:00:00\", \"EreignisDatJahr\": 2006, \"EreignisDatMM\": 7, \"HerkunftLang\": \"Schweizer/in\", \"sum_WBev\": 266}, {\"StichtagDat\": \"2010-10-31T00:00:00\", \"EreignisDatJahr\": 2010, \"EreignisDatMM\": 10, \"HerkunftLang\": \"Schweizer/in\", \"sum_WBev\": 265}, {\"StichtagDat\": \"2012-08-31T00:00:00\", \"EreignisDatJahr\": 2012, \"EreignisDatMM\": 8, \"HerkunftLang\": \"Schweizer/in\", \"sum_WBev\": 265}, {\"StichtagDat\": \"2012-11-30T00:00:00\", \"EreignisDatJahr\": 2012, \"EreignisDatMM\": 11, \"HerkunftLang\": \"Schweizer/in\", \"sum_WBev\": 264}, {\"StichtagDat\": \"2019-03-31T00:00:00\", \"EreignisDatJahr\": 2019, \"EreignisDatMM\": 3, \"HerkunftLang\": \"Schweizer/in\", \"sum_WBev\": 264}, {\"StichtagDat\": \"2010-05-31T00:00:00\", \"EreignisDatJahr\": 2010, \"EreignisDatMM\": 5, \"HerkunftLang\": \"Schweizer/in\", \"sum_WBev\": 263}, {\"StichtagDat\": \"2019-11-30T00:00:00\", \"EreignisDatJahr\": 2019, \"EreignisDatMM\": 11, \"HerkunftLang\": \"Schweizer/in\", \"sum_WBev\": 263}, {\"StichtagDat\": \"2014-03-31T00:00:00\", \"EreignisDatJahr\": 2014, \"EreignisDatMM\": 3, \"HerkunftLang\": \"Schweizer/in\", \"sum_WBev\": 263}, {\"StichtagDat\": \"2011-12-31T00:00:00\", \"EreignisDatJahr\": 2011, \"EreignisDatMM\": 12, \"HerkunftLang\": \"Schweizer/in\", \"sum_WBev\": 263}, {\"StichtagDat\": \"2020-01-31T00:00:00\", \"EreignisDatJahr\": 2020, \"EreignisDatMM\": 1, \"HerkunftLang\": \"Ausl\\u00e4nder/in\", \"sum_WBev\": 262}, {\"StichtagDat\": \"2009-05-31T00:00:00\", \"EreignisDatJahr\": 2009, \"EreignisDatMM\": 5, \"HerkunftLang\": \"Schweizer/in\", \"sum_WBev\": 262}, {\"StichtagDat\": \"2018-04-30T00:00:00\", \"EreignisDatJahr\": 2018, \"EreignisDatMM\": 4, \"HerkunftLang\": \"Schweizer/in\", \"sum_WBev\": 262}, {\"StichtagDat\": \"2010-11-30T00:00:00\", \"EreignisDatJahr\": 2010, \"EreignisDatMM\": 11, \"HerkunftLang\": \"Schweizer/in\", \"sum_WBev\": 262}, {\"StichtagDat\": \"2019-06-30T00:00:00\", \"EreignisDatJahr\": 2019, \"EreignisDatMM\": 6, \"HerkunftLang\": \"Schweizer/in\", \"sum_WBev\": 260}, {\"StichtagDat\": \"2009-09-30T00:00:00\", \"EreignisDatJahr\": 2009, \"EreignisDatMM\": 9, \"HerkunftLang\": \"Schweizer/in\", \"sum_WBev\": 260}, {\"StichtagDat\": \"2013-06-30T00:00:00\", \"EreignisDatJahr\": 2013, \"EreignisDatMM\": 6, \"HerkunftLang\": \"Schweizer/in\", \"sum_WBev\": 260}, {\"StichtagDat\": \"2021-02-28T00:00:00\", \"EreignisDatJahr\": 2021, \"EreignisDatMM\": 2, \"HerkunftLang\": \"Schweizer/in\", \"sum_WBev\": 260}, {\"StichtagDat\": \"2012-05-31T00:00:00\", \"EreignisDatJahr\": 2012, \"EreignisDatMM\": 5, \"HerkunftLang\": \"Schweizer/in\", \"sum_WBev\": 259}, {\"StichtagDat\": \"2016-12-31T00:00:00\", \"EreignisDatJahr\": 2016, \"EreignisDatMM\": 12, \"HerkunftLang\": \"Schweizer/in\", \"sum_WBev\": 258}, {\"StichtagDat\": \"2020-08-31T00:00:00\", \"EreignisDatJahr\": 2020, \"EreignisDatMM\": 8, \"HerkunftLang\": \"Schweizer/in\", \"sum_WBev\": 258}, {\"StichtagDat\": \"2019-02-28T00:00:00\", \"EreignisDatJahr\": 2019, \"EreignisDatMM\": 2, \"HerkunftLang\": \"Schweizer/in\", \"sum_WBev\": 257}, {\"StichtagDat\": \"2018-11-30T00:00:00\", \"EreignisDatJahr\": 2018, \"EreignisDatMM\": 11, \"HerkunftLang\": \"Schweizer/in\", \"sum_WBev\": 257}, {\"StichtagDat\": \"2013-12-31T00:00:00\", \"EreignisDatJahr\": 2013, \"EreignisDatMM\": 12, \"HerkunftLang\": \"Schweizer/in\", \"sum_WBev\": 257}, {\"StichtagDat\": \"2010-04-30T00:00:00\", \"EreignisDatJahr\": 2010, \"EreignisDatMM\": 4, \"HerkunftLang\": \"Schweizer/in\", \"sum_WBev\": 256}, {\"StichtagDat\": \"2009-12-31T00:00:00\", \"EreignisDatJahr\": 2009, \"EreignisDatMM\": 12, \"HerkunftLang\": \"Schweizer/in\", \"sum_WBev\": 256}, {\"StichtagDat\": \"2008-02-29T00:00:00\", \"EreignisDatJahr\": 2008, \"EreignisDatMM\": 2, \"HerkunftLang\": \"Schweizer/in\", \"sum_WBev\": 255}, {\"StichtagDat\": \"2014-12-31T00:00:00\", \"EreignisDatJahr\": 2014, \"EreignisDatMM\": 12, \"HerkunftLang\": \"Schweizer/in\", \"sum_WBev\": 254}, {\"StichtagDat\": \"2011-03-31T00:00:00\", \"EreignisDatJahr\": 2011, \"EreignisDatMM\": 3, \"HerkunftLang\": \"Schweizer/in\", \"sum_WBev\": 253}, {\"StichtagDat\": \"2007-08-31T00:00:00\", \"EreignisDatJahr\": 2007, \"EreignisDatMM\": 8, \"HerkunftLang\": \"Schweizer/in\", \"sum_WBev\": 252}, {\"StichtagDat\": \"2014-01-31T00:00:00\", \"EreignisDatJahr\": 2014, \"EreignisDatMM\": 1, \"HerkunftLang\": \"Ausl\\u00e4nder/in\", \"sum_WBev\": 251}, {\"StichtagDat\": \"2007-07-31T00:00:00\", \"EreignisDatJahr\": 2007, \"EreignisDatMM\": 7, \"HerkunftLang\": \"Schweizer/in\", \"sum_WBev\": 251}, {\"StichtagDat\": \"2011-02-28T00:00:00\", \"EreignisDatJahr\": 2011, \"EreignisDatMM\": 2, \"HerkunftLang\": \"Schweizer/in\", \"sum_WBev\": 250}, {\"StichtagDat\": \"2008-04-30T00:00:00\", \"EreignisDatJahr\": 2008, \"EreignisDatMM\": 4, \"HerkunftLang\": \"Schweizer/in\", \"sum_WBev\": 250}, {\"StichtagDat\": \"2008-05-31T00:00:00\", \"EreignisDatJahr\": 2008, \"EreignisDatMM\": 5, \"HerkunftLang\": \"Schweizer/in\", \"sum_WBev\": 249}, {\"StichtagDat\": \"2017-12-31T00:00:00\", \"EreignisDatJahr\": 2017, \"EreignisDatMM\": 12, \"HerkunftLang\": \"Schweizer/in\", \"sum_WBev\": 249}, {\"StichtagDat\": \"2008-08-31T00:00:00\", \"EreignisDatJahr\": 2008, \"EreignisDatMM\": 8, \"HerkunftLang\": \"Schweizer/in\", \"sum_WBev\": 249}, {\"StichtagDat\": \"2008-09-30T00:00:00\", \"EreignisDatJahr\": 2008, \"EreignisDatMM\": 9, \"HerkunftLang\": \"Schweizer/in\", \"sum_WBev\": 248}, {\"StichtagDat\": \"2007-10-31T00:00:00\", \"EreignisDatJahr\": 2007, \"EreignisDatMM\": 10, \"HerkunftLang\": \"Schweizer/in\", \"sum_WBev\": 248}, {\"StichtagDat\": \"2013-01-31T00:00:00\", \"EreignisDatJahr\": 2013, \"EreignisDatMM\": 1, \"HerkunftLang\": \"Ausl\\u00e4nder/in\", \"sum_WBev\": 247}, {\"StichtagDat\": \"2014-02-28T00:00:00\", \"EreignisDatJahr\": 2014, \"EreignisDatMM\": 2, \"HerkunftLang\": \"Schweizer/in\", \"sum_WBev\": 247}, {\"StichtagDat\": \"2020-12-31T00:00:00\", \"EreignisDatJahr\": 2020, \"EreignisDatMM\": 12, \"HerkunftLang\": \"Schweizer/in\", \"sum_WBev\": 247}, {\"StichtagDat\": \"2007-05-31T00:00:00\", \"EreignisDatJahr\": 2007, \"EreignisDatMM\": 5, \"HerkunftLang\": \"Schweizer/in\", \"sum_WBev\": 246}, {\"StichtagDat\": \"2012-02-29T00:00:00\", \"EreignisDatJahr\": 2012, \"EreignisDatMM\": 2, \"HerkunftLang\": \"Schweizer/in\", \"sum_WBev\": 244}, {\"StichtagDat\": \"2015-01-31T00:00:00\", \"EreignisDatJahr\": 2015, \"EreignisDatMM\": 1, \"HerkunftLang\": \"Ausl\\u00e4nder/in\", \"sum_WBev\": 244}, {\"StichtagDat\": \"2009-03-31T00:00:00\", \"EreignisDatJahr\": 2009, \"EreignisDatMM\": 3, \"HerkunftLang\": \"Schweizer/in\", \"sum_WBev\": 244}, {\"StichtagDat\": \"2010-06-30T00:00:00\", \"EreignisDatJahr\": 2010, \"EreignisDatMM\": 6, \"HerkunftLang\": \"Schweizer/in\", \"sum_WBev\": 243}, {\"StichtagDat\": \"2008-11-30T00:00:00\", \"EreignisDatJahr\": 2008, \"EreignisDatMM\": 11, \"HerkunftLang\": \"Schweizer/in\", \"sum_WBev\": 243}, {\"StichtagDat\": \"2008-12-31T00:00:00\", \"EreignisDatJahr\": 2008, \"EreignisDatMM\": 12, \"HerkunftLang\": \"Schweizer/in\", \"sum_WBev\": 243}, {\"StichtagDat\": \"2010-12-31T00:00:00\", \"EreignisDatJahr\": 2010, \"EreignisDatMM\": 12, \"HerkunftLang\": \"Schweizer/in\", \"sum_WBev\": 242}, {\"StichtagDat\": \"2009-08-31T00:00:00\", \"EreignisDatJahr\": 2009, \"EreignisDatMM\": 8, \"HerkunftLang\": \"Schweizer/in\", \"sum_WBev\": 242}, {\"StichtagDat\": \"2006-10-31T00:00:00\", \"EreignisDatJahr\": 2006, \"EreignisDatMM\": 10, \"HerkunftLang\": \"Schweizer/in\", \"sum_WBev\": 242}, {\"StichtagDat\": \"2007-09-30T00:00:00\", \"EreignisDatJahr\": 2007, \"EreignisDatMM\": 9, \"HerkunftLang\": \"Schweizer/in\", \"sum_WBev\": 239}, {\"StichtagDat\": \"2017-02-28T00:00:00\", \"EreignisDatJahr\": 2017, \"EreignisDatMM\": 2, \"HerkunftLang\": \"Schweizer/in\", \"sum_WBev\": 239}, {\"StichtagDat\": \"2006-01-31T00:00:00\", \"EreignisDatJahr\": 2006, \"EreignisDatMM\": 1, \"HerkunftLang\": \"Schweizer/in\", \"sum_WBev\": 238}, {\"StichtagDat\": \"2015-11-30T00:00:00\", \"EreignisDatJahr\": 2015, \"EreignisDatMM\": 11, \"HerkunftLang\": \"Schweizer/in\", \"sum_WBev\": 237}, {\"StichtagDat\": \"2007-06-30T00:00:00\", \"EreignisDatJahr\": 2007, \"EreignisDatMM\": 6, \"HerkunftLang\": \"Schweizer/in\", \"sum_WBev\": 236}, {\"StichtagDat\": \"2008-10-31T00:00:00\", \"EreignisDatJahr\": 2008, \"EreignisDatMM\": 10, \"HerkunftLang\": \"Schweizer/in\", \"sum_WBev\": 235}, {\"StichtagDat\": \"2007-03-31T00:00:00\", \"EreignisDatJahr\": 2007, \"EreignisDatMM\": 3, \"HerkunftLang\": \"Schweizer/in\", \"sum_WBev\": 234}, {\"StichtagDat\": \"2004-07-31T00:00:00\", \"EreignisDatJahr\": 2004, \"EreignisDatMM\": 7, \"HerkunftLang\": \"Schweizer/in\", \"sum_WBev\": 234}, {\"StichtagDat\": \"2005-01-31T00:00:00\", \"EreignisDatJahr\": 2005, \"EreignisDatMM\": 1, \"HerkunftLang\": \"Schweizer/in\", \"sum_WBev\": 234}, {\"StichtagDat\": \"2010-02-28T00:00:00\", \"EreignisDatJahr\": 2010, \"EreignisDatMM\": 2, \"HerkunftLang\": \"Schweizer/in\", \"sum_WBev\": 234}, {\"StichtagDat\": \"2008-03-31T00:00:00\", \"EreignisDatJahr\": 2008, \"EreignisDatMM\": 3, \"HerkunftLang\": \"Schweizer/in\", \"sum_WBev\": 232}, {\"StichtagDat\": \"2007-12-31T00:00:00\", \"EreignisDatJahr\": 2007, \"EreignisDatMM\": 12, \"HerkunftLang\": \"Schweizer/in\", \"sum_WBev\": 232}, {\"StichtagDat\": \"2012-03-31T00:00:00\", \"EreignisDatJahr\": 2012, \"EreignisDatMM\": 3, \"HerkunftLang\": \"Schweizer/in\", \"sum_WBev\": 231}, {\"StichtagDat\": \"2005-05-31T00:00:00\", \"EreignisDatJahr\": 2005, \"EreignisDatMM\": 5, \"HerkunftLang\": \"Schweizer/in\", \"sum_WBev\": 228}, {\"StichtagDat\": \"2005-10-31T00:00:00\", \"EreignisDatJahr\": 2005, \"EreignisDatMM\": 10, \"HerkunftLang\": \"Schweizer/in\", \"sum_WBev\": 227}, {\"StichtagDat\": \"2013-02-28T00:00:00\", \"EreignisDatJahr\": 2013, \"EreignisDatMM\": 2, \"HerkunftLang\": \"Schweizer/in\", \"sum_WBev\": 227}, {\"StichtagDat\": \"2007-01-31T00:00:00\", \"EreignisDatJahr\": 2007, \"EreignisDatMM\": 1, \"HerkunftLang\": \"Schweizer/in\", \"sum_WBev\": 227}, {\"StichtagDat\": \"2006-11-30T00:00:00\", \"EreignisDatJahr\": 2006, \"EreignisDatMM\": 11, \"HerkunftLang\": \"Schweizer/in\", \"sum_WBev\": 225}, {\"StichtagDat\": \"2006-09-30T00:00:00\", \"EreignisDatJahr\": 2006, \"EreignisDatMM\": 9, \"HerkunftLang\": \"Schweizer/in\", \"sum_WBev\": 225}, {\"StichtagDat\": \"2009-02-28T00:00:00\", \"EreignisDatJahr\": 2009, \"EreignisDatMM\": 2, \"HerkunftLang\": \"Schweizer/in\", \"sum_WBev\": 224}, {\"StichtagDat\": \"2008-06-30T00:00:00\", \"EreignisDatJahr\": 2008, \"EreignisDatMM\": 6, \"HerkunftLang\": \"Schweizer/in\", \"sum_WBev\": 224}, {\"StichtagDat\": \"2016-01-31T00:00:00\", \"EreignisDatJahr\": 2016, \"EreignisDatMM\": 1, \"HerkunftLang\": \"Ausl\\u00e4nder/in\", \"sum_WBev\": 223}, {\"StichtagDat\": \"2006-12-31T00:00:00\", \"EreignisDatJahr\": 2006, \"EreignisDatMM\": 12, \"HerkunftLang\": \"Schweizer/in\", \"sum_WBev\": 221}, {\"StichtagDat\": \"2006-04-30T00:00:00\", \"EreignisDatJahr\": 2006, \"EreignisDatMM\": 4, \"HerkunftLang\": \"Schweizer/in\", \"sum_WBev\": 219}, {\"StichtagDat\": \"2006-05-31T00:00:00\", \"EreignisDatJahr\": 2006, \"EreignisDatMM\": 5, \"HerkunftLang\": \"Schweizer/in\", \"sum_WBev\": 218}, {\"StichtagDat\": \"2011-01-31T00:00:00\", \"EreignisDatJahr\": 2011, \"EreignisDatMM\": 1, \"HerkunftLang\": \"Ausl\\u00e4nder/in\", \"sum_WBev\": 218}, {\"StichtagDat\": \"2005-06-30T00:00:00\", \"EreignisDatJahr\": 2005, \"EreignisDatMM\": 6, \"HerkunftLang\": \"Schweizer/in\", \"sum_WBev\": 217}, {\"StichtagDat\": \"2005-08-31T00:00:00\", \"EreignisDatJahr\": 2005, \"EreignisDatMM\": 8, \"HerkunftLang\": \"Schweizer/in\", \"sum_WBev\": 216}, {\"StichtagDat\": \"2007-04-30T00:00:00\", \"EreignisDatJahr\": 2007, \"EreignisDatMM\": 4, \"HerkunftLang\": \"Schweizer/in\", \"sum_WBev\": 215}, {\"StichtagDat\": \"2003-05-31T00:00:00\", \"EreignisDatJahr\": 2003, \"EreignisDatMM\": 5, \"HerkunftLang\": \"Schweizer/in\", \"sum_WBev\": 214}, {\"StichtagDat\": \"2005-07-31T00:00:00\", \"EreignisDatJahr\": 2005, \"EreignisDatMM\": 7, \"HerkunftLang\": \"Schweizer/in\", \"sum_WBev\": 214}, {\"StichtagDat\": \"2004-08-31T00:00:00\", \"EreignisDatJahr\": 2004, \"EreignisDatMM\": 8, \"HerkunftLang\": \"Schweizer/in\", \"sum_WBev\": 212}, {\"StichtagDat\": \"2004-11-30T00:00:00\", \"EreignisDatJahr\": 2004, \"EreignisDatMM\": 11, \"HerkunftLang\": \"Schweizer/in\", \"sum_WBev\": 212}, {\"StichtagDat\": \"2009-01-31T00:00:00\", \"EreignisDatJahr\": 2009, \"EreignisDatMM\": 1, \"HerkunftLang\": \"Ausl\\u00e4nder/in\", \"sum_WBev\": 212}, {\"StichtagDat\": \"2012-12-31T00:00:00\", \"EreignisDatJahr\": 2012, \"EreignisDatMM\": 12, \"HerkunftLang\": \"Schweizer/in\", \"sum_WBev\": 211}, {\"StichtagDat\": \"2004-09-30T00:00:00\", \"EreignisDatJahr\": 2004, \"EreignisDatMM\": 9, \"HerkunftLang\": \"Schweizer/in\", \"sum_WBev\": 210}, {\"StichtagDat\": \"2007-11-30T00:00:00\", \"EreignisDatJahr\": 2007, \"EreignisDatMM\": 11, \"HerkunftLang\": \"Schweizer/in\", \"sum_WBev\": 208}, {\"StichtagDat\": \"2006-08-31T00:00:00\", \"EreignisDatJahr\": 2006, \"EreignisDatMM\": 8, \"HerkunftLang\": \"Schweizer/in\", \"sum_WBev\": 207}, {\"StichtagDat\": \"2018-12-31T00:00:00\", \"EreignisDatJahr\": 2018, \"EreignisDatMM\": 12, \"HerkunftLang\": \"Schweizer/in\", \"sum_WBev\": 206}, {\"StichtagDat\": \"2012-01-31T00:00:00\", \"EreignisDatJahr\": 2012, \"EreignisDatMM\": 1, \"HerkunftLang\": \"Ausl\\u00e4nder/in\", \"sum_WBev\": 205}, {\"StichtagDat\": \"2005-11-30T00:00:00\", \"EreignisDatJahr\": 2005, \"EreignisDatMM\": 11, \"HerkunftLang\": \"Schweizer/in\", \"sum_WBev\": 205}, {\"StichtagDat\": \"2005-09-30T00:00:00\", \"EreignisDatJahr\": 2005, \"EreignisDatMM\": 9, \"HerkunftLang\": \"Schweizer/in\", \"sum_WBev\": 203}, {\"StichtagDat\": \"2001-01-31T00:00:00\", \"EreignisDatJahr\": 2001, \"EreignisDatMM\": 1, \"HerkunftLang\": \"Schweizer/in\", \"sum_WBev\": 203}, {\"StichtagDat\": \"2004-01-31T00:00:00\", \"EreignisDatJahr\": 2004, \"EreignisDatMM\": 1, \"HerkunftLang\": \"Schweizer/in\", \"sum_WBev\": 202}, {\"StichtagDat\": \"2007-02-28T00:00:00\", \"EreignisDatJahr\": 2007, \"EreignisDatMM\": 2, \"HerkunftLang\": \"Schweizer/in\", \"sum_WBev\": 202}, {\"StichtagDat\": \"2002-09-30T00:00:00\", \"EreignisDatJahr\": 2002, \"EreignisDatMM\": 9, \"HerkunftLang\": \"Schweizer/in\", \"sum_WBev\": 202}, {\"StichtagDat\": \"2006-06-30T00:00:00\", \"EreignisDatJahr\": 2006, \"EreignisDatMM\": 6, \"HerkunftLang\": \"Schweizer/in\", \"sum_WBev\": 202}, {\"StichtagDat\": \"2006-03-31T00:00:00\", \"EreignisDatJahr\": 2006, \"EreignisDatMM\": 3, \"HerkunftLang\": \"Schweizer/in\", \"sum_WBev\": 201}, {\"StichtagDat\": \"2001-07-31T00:00:00\", \"EreignisDatJahr\": 2001, \"EreignisDatMM\": 7, \"HerkunftLang\": \"Schweizer/in\", \"sum_WBev\": 199}, {\"StichtagDat\": \"2004-05-31T00:00:00\", \"EreignisDatJahr\": 2004, \"EreignisDatMM\": 5, \"HerkunftLang\": \"Schweizer/in\", \"sum_WBev\": 198}, {\"StichtagDat\": \"2019-12-31T00:00:00\", \"EreignisDatJahr\": 2019, \"EreignisDatMM\": 12, \"HerkunftLang\": \"Schweizer/in\", \"sum_WBev\": 198}, {\"StichtagDat\": \"2005-03-31T00:00:00\", \"EreignisDatJahr\": 2005, \"EreignisDatMM\": 3, \"HerkunftLang\": \"Schweizer/in\", \"sum_WBev\": 197}, {\"StichtagDat\": \"2004-06-30T00:00:00\", \"EreignisDatJahr\": 2004, \"EreignisDatMM\": 6, \"HerkunftLang\": \"Schweizer/in\", \"sum_WBev\": 196}, {\"StichtagDat\": \"2003-11-30T00:00:00\", \"EreignisDatJahr\": 2003, \"EreignisDatMM\": 11, \"HerkunftLang\": \"Schweizer/in\", \"sum_WBev\": 195}, {\"StichtagDat\": \"2003-07-31T00:00:00\", \"EreignisDatJahr\": 2003, \"EreignisDatMM\": 7, \"HerkunftLang\": \"Schweizer/in\", \"sum_WBev\": 194}, {\"StichtagDat\": \"2004-10-31T00:00:00\", \"EreignisDatJahr\": 2004, \"EreignisDatMM\": 10, \"HerkunftLang\": \"Schweizer/in\", \"sum_WBev\": 194}, {\"StichtagDat\": \"2000-07-31T00:00:00\", \"EreignisDatJahr\": 2000, \"EreignisDatMM\": 7, \"HerkunftLang\": \"Schweizer/in\", \"sum_WBev\": 193}, {\"StichtagDat\": \"2006-01-31T00:00:00\", \"EreignisDatJahr\": 2006, \"EreignisDatMM\": 1, \"HerkunftLang\": \"Ausl\\u00e4nder/in\", \"sum_WBev\": 193}, {\"StichtagDat\": \"2003-01-31T00:00:00\", \"EreignisDatJahr\": 2003, \"EreignisDatMM\": 1, \"HerkunftLang\": \"Schweizer/in\", \"sum_WBev\": 193}, {\"StichtagDat\": \"2001-03-31T00:00:00\", \"EreignisDatJahr\": 2001, \"EreignisDatMM\": 3, \"HerkunftLang\": \"Schweizer/in\", \"sum_WBev\": 193}, {\"StichtagDat\": \"2003-03-31T00:00:00\", \"EreignisDatJahr\": 2003, \"EreignisDatMM\": 3, \"HerkunftLang\": \"Schweizer/in\", \"sum_WBev\": 193}, {\"StichtagDat\": \"2005-04-30T00:00:00\", \"EreignisDatJahr\": 2005, \"EreignisDatMM\": 4, \"HerkunftLang\": \"Schweizer/in\", \"sum_WBev\": 191}, {\"StichtagDat\": \"2000-10-31T00:00:00\", \"EreignisDatJahr\": 2000, \"EreignisDatMM\": 10, \"HerkunftLang\": \"Schweizer/in\", \"sum_WBev\": 190}, {\"StichtagDat\": \"2005-12-31T00:00:00\", \"EreignisDatJahr\": 2005, \"EreignisDatMM\": 12, \"HerkunftLang\": \"Schweizer/in\", \"sum_WBev\": 190}, {\"StichtagDat\": \"2002-10-31T00:00:00\", \"EreignisDatJahr\": 2002, \"EreignisDatMM\": 10, \"HerkunftLang\": \"Schweizer/in\", \"sum_WBev\": 189}, {\"StichtagDat\": \"2002-07-31T00:00:00\", \"EreignisDatJahr\": 2002, \"EreignisDatMM\": 7, \"HerkunftLang\": \"Schweizer/in\", \"sum_WBev\": 186}, {\"StichtagDat\": \"2004-03-31T00:00:00\", \"EreignisDatJahr\": 2004, \"EreignisDatMM\": 3, \"HerkunftLang\": \"Schweizer/in\", \"sum_WBev\": 186}, {\"StichtagDat\": \"2000-09-30T00:00:00\", \"EreignisDatJahr\": 2000, \"EreignisDatMM\": 9, \"HerkunftLang\": \"Schweizer/in\", \"sum_WBev\": 186}, {\"StichtagDat\": \"2004-04-30T00:00:00\", \"EreignisDatJahr\": 2004, \"EreignisDatMM\": 4, \"HerkunftLang\": \"Schweizer/in\", \"sum_WBev\": 186}, {\"StichtagDat\": \"2003-06-30T00:00:00\", \"EreignisDatJahr\": 2003, \"EreignisDatMM\": 6, \"HerkunftLang\": \"Schweizer/in\", \"sum_WBev\": 185}, {\"StichtagDat\": \"1998-01-31T00:00:00\", \"EreignisDatJahr\": 1998, \"EreignisDatMM\": 1, \"HerkunftLang\": \"Schweizer/in\", \"sum_WBev\": 184}, {\"StichtagDat\": \"2002-08-31T00:00:00\", \"EreignisDatJahr\": 2002, \"EreignisDatMM\": 8, \"HerkunftLang\": \"Schweizer/in\", \"sum_WBev\": 184}, {\"StichtagDat\": \"2003-04-30T00:00:00\", \"EreignisDatJahr\": 2003, \"EreignisDatMM\": 4, \"HerkunftLang\": \"Schweizer/in\", \"sum_WBev\": 182}, {\"StichtagDat\": \"2003-09-30T00:00:00\", \"EreignisDatJahr\": 2003, \"EreignisDatMM\": 9, \"HerkunftLang\": \"Schweizer/in\", \"sum_WBev\": 182}, {\"StichtagDat\": \"2010-01-31T00:00:00\", \"EreignisDatJahr\": 2010, \"EreignisDatMM\": 1, \"HerkunftLang\": \"Ausl\\u00e4nder/in\", \"sum_WBev\": 181}, {\"StichtagDat\": \"2003-08-31T00:00:00\", \"EreignisDatJahr\": 2003, \"EreignisDatMM\": 8, \"HerkunftLang\": \"Schweizer/in\", \"sum_WBev\": 179}, {\"StichtagDat\": \"2002-05-31T00:00:00\", \"EreignisDatJahr\": 2002, \"EreignisDatMM\": 5, \"HerkunftLang\": \"Schweizer/in\", \"sum_WBev\": 179}, {\"StichtagDat\": \"2001-05-31T00:00:00\", \"EreignisDatJahr\": 2001, \"EreignisDatMM\": 5, \"HerkunftLang\": \"Schweizer/in\", \"sum_WBev\": 179}, {\"StichtagDat\": \"2005-02-28T00:00:00\", \"EreignisDatJahr\": 2005, \"EreignisDatMM\": 2, \"HerkunftLang\": \"Schweizer/in\", \"sum_WBev\": 177}, {\"StichtagDat\": \"1998-04-30T00:00:00\", \"EreignisDatJahr\": 1998, \"EreignisDatMM\": 4, \"HerkunftLang\": \"Schweizer/in\", \"sum_WBev\": 177}, {\"StichtagDat\": \"2003-02-28T00:00:00\", \"EreignisDatJahr\": 2003, \"EreignisDatMM\": 2, \"HerkunftLang\": \"Schweizer/in\", \"sum_WBev\": 177}, {\"StichtagDat\": \"2001-10-31T00:00:00\", \"EreignisDatJahr\": 2001, \"EreignisDatMM\": 10, \"HerkunftLang\": \"Schweizer/in\", \"sum_WBev\": 176}, {\"StichtagDat\": \"1999-01-31T00:00:00\", \"EreignisDatJahr\": 1999, \"EreignisDatMM\": 1, \"HerkunftLang\": \"Schweizer/in\", \"sum_WBev\": 176}, {\"StichtagDat\": \"2006-02-28T00:00:00\", \"EreignisDatJahr\": 2006, \"EreignisDatMM\": 2, \"HerkunftLang\": \"Schweizer/in\", \"sum_WBev\": 173}, {\"StichtagDat\": \"2001-04-30T00:00:00\", \"EreignisDatJahr\": 2001, \"EreignisDatMM\": 4, \"HerkunftLang\": \"Schweizer/in\", \"sum_WBev\": 172}, {\"StichtagDat\": \"1998-09-30T00:00:00\", \"EreignisDatJahr\": 1998, \"EreignisDatMM\": 9, \"HerkunftLang\": \"Schweizer/in\", \"sum_WBev\": 171}, {\"StichtagDat\": \"2004-12-31T00:00:00\", \"EreignisDatJahr\": 2004, \"EreignisDatMM\": 12, \"HerkunftLang\": \"Schweizer/in\", \"sum_WBev\": 171}, {\"StichtagDat\": \"1998-03-31T00:00:00\", \"EreignisDatJahr\": 1998, \"EreignisDatMM\": 3, \"HerkunftLang\": \"Schweizer/in\", \"sum_WBev\": 170}, {\"StichtagDat\": \"2000-04-30T00:00:00\", \"EreignisDatJahr\": 2000, \"EreignisDatMM\": 4, \"HerkunftLang\": \"Schweizer/in\", \"sum_WBev\": 170}, {\"StichtagDat\": \"2002-03-31T00:00:00\", \"EreignisDatJahr\": 2002, \"EreignisDatMM\": 3, \"HerkunftLang\": \"Schweizer/in\", \"sum_WBev\": 170}, {\"StichtagDat\": \"2004-02-29T00:00:00\", \"EreignisDatJahr\": 2004, \"EreignisDatMM\": 2, \"HerkunftLang\": \"Schweizer/in\", \"sum_WBev\": 169}, {\"StichtagDat\": \"2001-08-31T00:00:00\", \"EreignisDatJahr\": 2001, \"EreignisDatMM\": 8, \"HerkunftLang\": \"Schweizer/in\", \"sum_WBev\": 169}, {\"StichtagDat\": \"2000-05-31T00:00:00\", \"EreignisDatJahr\": 2000, \"EreignisDatMM\": 5, \"HerkunftLang\": \"Schweizer/in\", \"sum_WBev\": 169}, {\"StichtagDat\": \"1998-05-31T00:00:00\", \"EreignisDatJahr\": 1998, \"EreignisDatMM\": 5, \"HerkunftLang\": \"Schweizer/in\", \"sum_WBev\": 169}, {\"StichtagDat\": \"2002-04-30T00:00:00\", \"EreignisDatJahr\": 2002, \"EreignisDatMM\": 4, \"HerkunftLang\": \"Schweizer/in\", \"sum_WBev\": 168}, {\"StichtagDat\": \"2002-01-31T00:00:00\", \"EreignisDatJahr\": 2002, \"EreignisDatMM\": 1, \"HerkunftLang\": \"Schweizer/in\", \"sum_WBev\": 168}, {\"StichtagDat\": \"2000-11-30T00:00:00\", \"EreignisDatJahr\": 2000, \"EreignisDatMM\": 11, \"HerkunftLang\": \"Schweizer/in\", \"sum_WBev\": 168}, {\"StichtagDat\": \"2003-12-31T00:00:00\", \"EreignisDatJahr\": 2003, \"EreignisDatMM\": 12, \"HerkunftLang\": \"Schweizer/in\", \"sum_WBev\": 168}, {\"StichtagDat\": \"1999-06-30T00:00:00\", \"EreignisDatJahr\": 1999, \"EreignisDatMM\": 6, \"HerkunftLang\": \"Schweizer/in\", \"sum_WBev\": 168}, {\"StichtagDat\": \"2015-08-31T00:00:00\", \"EreignisDatJahr\": 2015, \"EreignisDatMM\": 8, \"HerkunftLang\": \"Ausl\\u00e4nder/in\", \"sum_WBev\": 167}, {\"StichtagDat\": \"1999-10-31T00:00:00\", \"EreignisDatJahr\": 1999, \"EreignisDatMM\": 10, \"HerkunftLang\": \"Schweizer/in\", \"sum_WBev\": 167}, {\"StichtagDat\": \"2000-08-31T00:00:00\", \"EreignisDatJahr\": 2000, \"EreignisDatMM\": 8, \"HerkunftLang\": \"Schweizer/in\", \"sum_WBev\": 167}, {\"StichtagDat\": \"2000-01-31T00:00:00\", \"EreignisDatJahr\": 2000, \"EreignisDatMM\": 1, \"HerkunftLang\": \"Schweizer/in\", \"sum_WBev\": 166}, {\"StichtagDat\": \"1999-07-31T00:00:00\", \"EreignisDatJahr\": 1999, \"EreignisDatMM\": 7, \"HerkunftLang\": \"Schweizer/in\", \"sum_WBev\": 166}, {\"StichtagDat\": \"1999-05-31T00:00:00\", \"EreignisDatJahr\": 1999, \"EreignisDatMM\": 5, \"HerkunftLang\": \"Schweizer/in\", \"sum_WBev\": 165}, {\"StichtagDat\": \"2019-05-31T00:00:00\", \"EreignisDatJahr\": 2019, \"EreignisDatMM\": 5, \"HerkunftLang\": \"Ausl\\u00e4nder/in\", \"sum_WBev\": 165}, {\"StichtagDat\": \"1999-03-31T00:00:00\", \"EreignisDatJahr\": 1999, \"EreignisDatMM\": 3, \"HerkunftLang\": \"Schweizer/in\", \"sum_WBev\": 165}, {\"StichtagDat\": \"2002-12-31T00:00:00\", \"EreignisDatJahr\": 2002, \"EreignisDatMM\": 12, \"HerkunftLang\": \"Schweizer/in\", \"sum_WBev\": 164}, {\"StichtagDat\": \"2000-06-30T00:00:00\", \"EreignisDatJahr\": 2000, \"EreignisDatMM\": 6, \"HerkunftLang\": \"Schweizer/in\", \"sum_WBev\": 164}, {\"StichtagDat\": \"1999-12-31T00:00:00\", \"EreignisDatJahr\": 1999, \"EreignisDatMM\": 12, \"HerkunftLang\": \"Schweizer/in\", \"sum_WBev\": 164}, {\"StichtagDat\": \"2012-07-31T00:00:00\", \"EreignisDatJahr\": 2012, \"EreignisDatMM\": 7, \"HerkunftLang\": \"Ausl\\u00e4nder/in\", \"sum_WBev\": 164}, {\"StichtagDat\": \"2001-06-30T00:00:00\", \"EreignisDatJahr\": 2001, \"EreignisDatMM\": 6, \"HerkunftLang\": \"Schweizer/in\", \"sum_WBev\": 163}, {\"StichtagDat\": \"1998-10-31T00:00:00\", \"EreignisDatJahr\": 1998, \"EreignisDatMM\": 10, \"HerkunftLang\": \"Schweizer/in\", \"sum_WBev\": 161}, {\"StichtagDat\": \"2018-07-31T00:00:00\", \"EreignisDatJahr\": 2018, \"EreignisDatMM\": 7, \"HerkunftLang\": \"Ausl\\u00e4nder/in\", \"sum_WBev\": 161}, {\"StichtagDat\": \"2000-07-31T00:00:00\", \"EreignisDatJahr\": 2000, \"EreignisDatMM\": 7, \"HerkunftLang\": \"Ausl\\u00e4nder/in\", \"sum_WBev\": 161}, {\"StichtagDat\": \"2018-05-31T00:00:00\", \"EreignisDatJahr\": 2018, \"EreignisDatMM\": 5, \"HerkunftLang\": \"Ausl\\u00e4nder/in\", \"sum_WBev\": 161}, {\"StichtagDat\": \"2003-01-31T00:00:00\", \"EreignisDatJahr\": 2003, \"EreignisDatMM\": 1, \"HerkunftLang\": \"Ausl\\u00e4nder/in\", \"sum_WBev\": 160}, {\"StichtagDat\": \"2017-09-30T00:00:00\", \"EreignisDatJahr\": 2017, \"EreignisDatMM\": 9, \"HerkunftLang\": \"Ausl\\u00e4nder/in\", \"sum_WBev\": 160}, {\"StichtagDat\": \"2018-06-30T00:00:00\", \"EreignisDatJahr\": 2018, \"EreignisDatMM\": 6, \"HerkunftLang\": \"Ausl\\u00e4nder/in\", \"sum_WBev\": 160}, {\"StichtagDat\": \"1999-04-30T00:00:00\", \"EreignisDatJahr\": 1999, \"EreignisDatMM\": 4, \"HerkunftLang\": \"Schweizer/in\", \"sum_WBev\": 160}, {\"StichtagDat\": \"2003-10-31T00:00:00\", \"EreignisDatJahr\": 2003, \"EreignisDatMM\": 10, \"HerkunftLang\": \"Schweizer/in\", \"sum_WBev\": 160}, {\"StichtagDat\": \"2017-07-31T00:00:00\", \"EreignisDatJahr\": 2017, \"EreignisDatMM\": 7, \"HerkunftLang\": \"Ausl\\u00e4nder/in\", \"sum_WBev\": 160}, {\"StichtagDat\": \"2020-03-31T00:00:00\", \"EreignisDatJahr\": 2020, \"EreignisDatMM\": 3, \"HerkunftLang\": \"Ausl\\u00e4nder/in\", \"sum_WBev\": 160}, {\"StichtagDat\": \"2017-08-31T00:00:00\", \"EreignisDatJahr\": 2017, \"EreignisDatMM\": 8, \"HerkunftLang\": \"Ausl\\u00e4nder/in\", \"sum_WBev\": 159}, {\"StichtagDat\": \"2017-03-31T00:00:00\", \"EreignisDatJahr\": 2017, \"EreignisDatMM\": 3, \"HerkunftLang\": \"Ausl\\u00e4nder/in\", \"sum_WBev\": 159}, {\"StichtagDat\": \"2002-11-30T00:00:00\", \"EreignisDatJahr\": 2002, \"EreignisDatMM\": 11, \"HerkunftLang\": \"Schweizer/in\", \"sum_WBev\": 158}, {\"StichtagDat\": \"2001-12-31T00:00:00\", \"EreignisDatJahr\": 2001, \"EreignisDatMM\": 12, \"HerkunftLang\": \"Schweizer/in\", \"sum_WBev\": 158}, {\"StichtagDat\": \"2000-02-29T00:00:00\", \"EreignisDatJahr\": 2000, \"EreignisDatMM\": 2, \"HerkunftLang\": \"Schweizer/in\", \"sum_WBev\": 158}, {\"StichtagDat\": \"1999-09-30T00:00:00\", \"EreignisDatJahr\": 1999, \"EreignisDatMM\": 9, \"HerkunftLang\": \"Schweizer/in\", \"sum_WBev\": 157}, {\"StichtagDat\": \"2005-01-31T00:00:00\", \"EreignisDatJahr\": 2005, \"EreignisDatMM\": 1, \"HerkunftLang\": \"Ausl\\u00e4nder/in\", \"sum_WBev\": 156}, {\"StichtagDat\": \"2001-09-30T00:00:00\", \"EreignisDatJahr\": 2001, \"EreignisDatMM\": 9, \"HerkunftLang\": \"Schweizer/in\", \"sum_WBev\": 156}, {\"StichtagDat\": \"2002-06-30T00:00:00\", \"EreignisDatJahr\": 2002, \"EreignisDatMM\": 6, \"HerkunftLang\": \"Schweizer/in\", \"sum_WBev\": 156}, {\"StichtagDat\": \"2000-03-31T00:00:00\", \"EreignisDatJahr\": 2000, \"EreignisDatMM\": 3, \"HerkunftLang\": \"Schweizer/in\", \"sum_WBev\": 155}, {\"StichtagDat\": \"2015-07-31T00:00:00\", \"EreignisDatJahr\": 2015, \"EreignisDatMM\": 7, \"HerkunftLang\": \"Ausl\\u00e4nder/in\", \"sum_WBev\": 155}, {\"StichtagDat\": \"1998-07-31T00:00:00\", \"EreignisDatJahr\": 1998, \"EreignisDatMM\": 7, \"HerkunftLang\": \"Ausl\\u00e4nder/in\", \"sum_WBev\": 155}, {\"StichtagDat\": \"2007-01-31T00:00:00\", \"EreignisDatJahr\": 2007, \"EreignisDatMM\": 1, \"HerkunftLang\": \"Ausl\\u00e4nder/in\", \"sum_WBev\": 154}, {\"StichtagDat\": \"2001-11-30T00:00:00\", \"EreignisDatJahr\": 2001, \"EreignisDatMM\": 11, \"HerkunftLang\": \"Schweizer/in\", \"sum_WBev\": 153}, {\"StichtagDat\": \"2017-10-31T00:00:00\", \"EreignisDatJahr\": 2017, \"EreignisDatMM\": 10, \"HerkunftLang\": \"Ausl\\u00e4nder/in\", \"sum_WBev\": 153}, {\"StichtagDat\": \"1999-08-31T00:00:00\", \"EreignisDatJahr\": 1999, \"EreignisDatMM\": 8, \"HerkunftLang\": \"Schweizer/in\", \"sum_WBev\": 153}, {\"StichtagDat\": \"2019-09-30T00:00:00\", \"EreignisDatJahr\": 2019, \"EreignisDatMM\": 9, \"HerkunftLang\": \"Ausl\\u00e4nder/in\", \"sum_WBev\": 153}, {\"StichtagDat\": \"1999-02-28T00:00:00\", \"EreignisDatJahr\": 1999, \"EreignisDatMM\": 2, \"HerkunftLang\": \"Schweizer/in\", \"sum_WBev\": 153}, {\"StichtagDat\": \"2014-07-31T00:00:00\", \"EreignisDatJahr\": 2014, \"EreignisDatMM\": 7, \"HerkunftLang\": \"Ausl\\u00e4nder/in\", \"sum_WBev\": 153}, {\"StichtagDat\": \"1998-07-31T00:00:00\", \"EreignisDatJahr\": 1998, \"EreignisDatMM\": 7, \"HerkunftLang\": \"Schweizer/in\", \"sum_WBev\": 153}, {\"StichtagDat\": \"2014-09-30T00:00:00\", \"EreignisDatJahr\": 2014, \"EreignisDatMM\": 9, \"HerkunftLang\": \"Ausl\\u00e4nder/in\", \"sum_WBev\": 152}, {\"StichtagDat\": \"2018-03-31T00:00:00\", \"EreignisDatJahr\": 2018, \"EreignisDatMM\": 3, \"HerkunftLang\": \"Ausl\\u00e4nder/in\", \"sum_WBev\": 152}, {\"StichtagDat\": \"1998-01-31T00:00:00\", \"EreignisDatJahr\": 1998, \"EreignisDatMM\": 1, \"HerkunftLang\": \"Ausl\\u00e4nder/in\", \"sum_WBev\": 152}, {\"StichtagDat\": \"2008-01-31T00:00:00\", \"EreignisDatJahr\": 2008, \"EreignisDatMM\": 1, \"HerkunftLang\": \"Ausl\\u00e4nder/in\", \"sum_WBev\": 152}, {\"StichtagDat\": \"2013-07-31T00:00:00\", \"EreignisDatJahr\": 2013, \"EreignisDatMM\": 7, \"HerkunftLang\": \"Ausl\\u00e4nder/in\", \"sum_WBev\": 150}, {\"StichtagDat\": \"2016-02-29T00:00:00\", \"EreignisDatJahr\": 2016, \"EreignisDatMM\": 2, \"HerkunftLang\": \"Ausl\\u00e4nder/in\", \"sum_WBev\": 150}, {\"StichtagDat\": \"2018-08-31T00:00:00\", \"EreignisDatJahr\": 2018, \"EreignisDatMM\": 8, \"HerkunftLang\": \"Ausl\\u00e4nder/in\", \"sum_WBev\": 150}, {\"StichtagDat\": \"1999-11-30T00:00:00\", \"EreignisDatJahr\": 1999, \"EreignisDatMM\": 11, \"HerkunftLang\": \"Schweizer/in\", \"sum_WBev\": 150}, {\"StichtagDat\": \"2000-01-31T00:00:00\", \"EreignisDatJahr\": 2000, \"EreignisDatMM\": 1, \"HerkunftLang\": \"Ausl\\u00e4nder/in\", \"sum_WBev\": 150}, {\"StichtagDat\": \"2020-08-31T00:00:00\", \"EreignisDatJahr\": 2020, \"EreignisDatMM\": 8, \"HerkunftLang\": \"Ausl\\u00e4nder/in\", \"sum_WBev\": 149}, {\"StichtagDat\": \"2002-02-28T00:00:00\", \"EreignisDatJahr\": 2002, \"EreignisDatMM\": 2, \"HerkunftLang\": \"Schweizer/in\", \"sum_WBev\": 148}, {\"StichtagDat\": \"2014-06-30T00:00:00\", \"EreignisDatJahr\": 2014, \"EreignisDatMM\": 6, \"HerkunftLang\": \"Ausl\\u00e4nder/in\", \"sum_WBev\": 148}, {\"StichtagDat\": \"2016-04-30T00:00:00\", \"EreignisDatJahr\": 2016, \"EreignisDatMM\": 4, \"HerkunftLang\": \"Ausl\\u00e4nder/in\", \"sum_WBev\": 148}, {\"StichtagDat\": \"2018-09-30T00:00:00\", \"EreignisDatJahr\": 2018, \"EreignisDatMM\": 9, \"HerkunftLang\": \"Ausl\\u00e4nder/in\", \"sum_WBev\": 148}, {\"StichtagDat\": \"2017-05-31T00:00:00\", \"EreignisDatJahr\": 2017, \"EreignisDatMM\": 5, \"HerkunftLang\": \"Ausl\\u00e4nder/in\", \"sum_WBev\": 147}, {\"StichtagDat\": \"2015-05-31T00:00:00\", \"EreignisDatJahr\": 2015, \"EreignisDatMM\": 5, \"HerkunftLang\": \"Ausl\\u00e4nder/in\", \"sum_WBev\": 147}, {\"StichtagDat\": \"1998-02-28T00:00:00\", \"EreignisDatJahr\": 1998, \"EreignisDatMM\": 2, \"HerkunftLang\": \"Schweizer/in\", \"sum_WBev\": 147}, {\"StichtagDat\": \"2016-07-31T00:00:00\", \"EreignisDatJahr\": 2016, \"EreignisDatMM\": 7, \"HerkunftLang\": \"Ausl\\u00e4nder/in\", \"sum_WBev\": 147}, {\"StichtagDat\": \"2021-10-31T00:00:00\", \"EreignisDatJahr\": 2021, \"EreignisDatMM\": 10, \"HerkunftLang\": \"Ausl\\u00e4nder/in\", \"sum_WBev\": 147}, {\"StichtagDat\": \"2019-03-31T00:00:00\", \"EreignisDatJahr\": 2019, \"EreignisDatMM\": 3, \"HerkunftLang\": \"Ausl\\u00e4nder/in\", \"sum_WBev\": 147}, {\"StichtagDat\": \"1998-06-30T00:00:00\", \"EreignisDatJahr\": 1998, \"EreignisDatMM\": 6, \"HerkunftLang\": \"Schweizer/in\", \"sum_WBev\": 147}, {\"StichtagDat\": \"2002-12-31T00:00:00\", \"EreignisDatJahr\": 2002, \"EreignisDatMM\": 12, \"HerkunftLang\": \"Ausl\\u00e4nder/in\", \"sum_WBev\": 146}, {\"StichtagDat\": \"2003-06-30T00:00:00\", \"EreignisDatJahr\": 2003, \"EreignisDatMM\": 6, \"HerkunftLang\": \"Ausl\\u00e4nder/in\", \"sum_WBev\": 145}, {\"StichtagDat\": \"2016-05-31T00:00:00\", \"EreignisDatJahr\": 2016, \"EreignisDatMM\": 5, \"HerkunftLang\": \"Ausl\\u00e4nder/in\", \"sum_WBev\": 145}, {\"StichtagDat\": \"1999-08-31T00:00:00\", \"EreignisDatJahr\": 1999, \"EreignisDatMM\": 8, \"HerkunftLang\": \"Ausl\\u00e4nder/in\", \"sum_WBev\": 145}, {\"StichtagDat\": \"2008-05-31T00:00:00\", \"EreignisDatJahr\": 2008, \"EreignisDatMM\": 5, \"HerkunftLang\": \"Ausl\\u00e4nder/in\", \"sum_WBev\": 145}, {\"StichtagDat\": \"2020-05-31T00:00:00\", \"EreignisDatJahr\": 2020, \"EreignisDatMM\": 5, \"HerkunftLang\": \"Ausl\\u00e4nder/in\", \"sum_WBev\": 145}, {\"StichtagDat\": \"2000-03-31T00:00:00\", \"EreignisDatJahr\": 2000, \"EreignisDatMM\": 3, \"HerkunftLang\": \"Ausl\\u00e4nder/in\", \"sum_WBev\": 144}, {\"StichtagDat\": \"2015-10-31T00:00:00\", \"EreignisDatJahr\": 2015, \"EreignisDatMM\": 10, \"HerkunftLang\": \"Ausl\\u00e4nder/in\", \"sum_WBev\": 144}, {\"StichtagDat\": \"2014-08-31T00:00:00\", \"EreignisDatJahr\": 2014, \"EreignisDatMM\": 8, \"HerkunftLang\": \"Ausl\\u00e4nder/in\", \"sum_WBev\": 144}, {\"StichtagDat\": \"1998-11-30T00:00:00\", \"EreignisDatJahr\": 1998, \"EreignisDatMM\": 11, \"HerkunftLang\": \"Ausl\\u00e4nder/in\", \"sum_WBev\": 144}, {\"StichtagDat\": \"2018-02-28T00:00:00\", \"EreignisDatJahr\": 2018, \"EreignisDatMM\": 2, \"HerkunftLang\": \"Ausl\\u00e4nder/in\", \"sum_WBev\": 143}, {\"StichtagDat\": \"2001-01-31T00:00:00\", \"EreignisDatJahr\": 2001, \"EreignisDatMM\": 1, \"HerkunftLang\": \"Ausl\\u00e4nder/in\", \"sum_WBev\": 143}, {\"StichtagDat\": \"2010-08-31T00:00:00\", \"EreignisDatJahr\": 2010, \"EreignisDatMM\": 8, \"HerkunftLang\": \"Ausl\\u00e4nder/in\", \"sum_WBev\": 143}, {\"StichtagDat\": \"2001-07-31T00:00:00\", \"EreignisDatJahr\": 2001, \"EreignisDatMM\": 7, \"HerkunftLang\": \"Ausl\\u00e4nder/in\", \"sum_WBev\": 142}, {\"StichtagDat\": \"2019-07-31T00:00:00\", \"EreignisDatJahr\": 2019, \"EreignisDatMM\": 7, \"HerkunftLang\": \"Ausl\\u00e4nder/in\", \"sum_WBev\": 142}, {\"StichtagDat\": \"2018-10-31T00:00:00\", \"EreignisDatJahr\": 2018, \"EreignisDatMM\": 10, \"HerkunftLang\": \"Ausl\\u00e4nder/in\", \"sum_WBev\": 142}, {\"StichtagDat\": \"2020-07-31T00:00:00\", \"EreignisDatJahr\": 2020, \"EreignisDatMM\": 7, \"HerkunftLang\": \"Ausl\\u00e4nder/in\", \"sum_WBev\": 142}, {\"StichtagDat\": \"2001-02-28T00:00:00\", \"EreignisDatJahr\": 2001, \"EreignisDatMM\": 2, \"HerkunftLang\": \"Schweizer/in\", \"sum_WBev\": 141}, {\"StichtagDat\": \"2000-12-31T00:00:00\", \"EreignisDatJahr\": 2000, \"EreignisDatMM\": 12, \"HerkunftLang\": \"Schweizer/in\", \"sum_WBev\": 141}, {\"StichtagDat\": \"2020-04-30T00:00:00\", \"EreignisDatJahr\": 2020, \"EreignisDatMM\": 4, \"HerkunftLang\": \"Ausl\\u00e4nder/in\", \"sum_WBev\": 141}, {\"StichtagDat\": \"1998-03-31T00:00:00\", \"EreignisDatJahr\": 1998, \"EreignisDatMM\": 3, \"HerkunftLang\": \"Ausl\\u00e4nder/in\", \"sum_WBev\": 141}, {\"StichtagDat\": \"2016-03-31T00:00:00\", \"EreignisDatJahr\": 2016, \"EreignisDatMM\": 3, \"HerkunftLang\": \"Ausl\\u00e4nder/in\", \"sum_WBev\": 141}, {\"StichtagDat\": \"2000-05-31T00:00:00\", \"EreignisDatJahr\": 2000, \"EreignisDatMM\": 5, \"HerkunftLang\": \"Ausl\\u00e4nder/in\", \"sum_WBev\": 141}, {\"StichtagDat\": \"2016-09-30T00:00:00\", \"EreignisDatJahr\": 2016, \"EreignisDatMM\": 9, \"HerkunftLang\": \"Ausl\\u00e4nder/in\", \"sum_WBev\": 140}, {\"StichtagDat\": \"2014-05-31T00:00:00\", \"EreignisDatJahr\": 2014, \"EreignisDatMM\": 5, \"HerkunftLang\": \"Ausl\\u00e4nder/in\", \"sum_WBev\": 140}, {\"StichtagDat\": \"1998-12-31T00:00:00\", \"EreignisDatJahr\": 1998, \"EreignisDatMM\": 12, \"HerkunftLang\": \"Schweizer/in\", \"sum_WBev\": 140}, {\"StichtagDat\": \"2013-06-30T00:00:00\", \"EreignisDatJahr\": 2013, \"EreignisDatMM\": 6, \"HerkunftLang\": \"Ausl\\u00e4nder/in\", \"sum_WBev\": 140}, {\"StichtagDat\": \"2015-03-31T00:00:00\", \"EreignisDatJahr\": 2015, \"EreignisDatMM\": 3, \"HerkunftLang\": \"Ausl\\u00e4nder/in\", \"sum_WBev\": 139}, {\"StichtagDat\": \"2015-06-30T00:00:00\", \"EreignisDatJahr\": 2015, \"EreignisDatMM\": 6, \"HerkunftLang\": \"Ausl\\u00e4nder/in\", \"sum_WBev\": 139}, {\"StichtagDat\": \"2019-08-31T00:00:00\", \"EreignisDatJahr\": 2019, \"EreignisDatMM\": 8, \"HerkunftLang\": \"Ausl\\u00e4nder/in\", \"sum_WBev\": 139}, {\"StichtagDat\": \"1999-01-31T00:00:00\", \"EreignisDatJahr\": 1999, \"EreignisDatMM\": 1, \"HerkunftLang\": \"Ausl\\u00e4nder/in\", \"sum_WBev\": 139}, {\"StichtagDat\": \"2016-10-31T00:00:00\", \"EreignisDatJahr\": 2016, \"EreignisDatMM\": 10, \"HerkunftLang\": \"Ausl\\u00e4nder/in\", \"sum_WBev\": 138}, {\"StichtagDat\": \"2019-04-30T00:00:00\", \"EreignisDatJahr\": 2019, \"EreignisDatMM\": 4, \"HerkunftLang\": \"Ausl\\u00e4nder/in\", \"sum_WBev\": 138}, {\"StichtagDat\": \"1998-08-31T00:00:00\", \"EreignisDatJahr\": 1998, \"EreignisDatMM\": 8, \"HerkunftLang\": \"Schweizer/in\", \"sum_WBev\": 138}, {\"StichtagDat\": \"2013-03-31T00:00:00\", \"EreignisDatJahr\": 2013, \"EreignisDatMM\": 3, \"HerkunftLang\": \"Ausl\\u00e4nder/in\", \"sum_WBev\": 137}, {\"StichtagDat\": \"2014-03-31T00:00:00\", \"EreignisDatJahr\": 2014, \"EreignisDatMM\": 3, \"HerkunftLang\": \"Ausl\\u00e4nder/in\", \"sum_WBev\": 137}, {\"StichtagDat\": \"2000-04-30T00:00:00\", \"EreignisDatJahr\": 2000, \"EreignisDatMM\": 4, \"HerkunftLang\": \"Ausl\\u00e4nder/in\", \"sum_WBev\": 137}, {\"StichtagDat\": \"2019-06-30T00:00:00\", \"EreignisDatJahr\": 2019, \"EreignisDatMM\": 6, \"HerkunftLang\": \"Ausl\\u00e4nder/in\", \"sum_WBev\": 136}, {\"StichtagDat\": \"2004-07-31T00:00:00\", \"EreignisDatJahr\": 2004, \"EreignisDatMM\": 7, \"HerkunftLang\": \"Ausl\\u00e4nder/in\", \"sum_WBev\": 136}, {\"StichtagDat\": \"2009-05-31T00:00:00\", \"EreignisDatJahr\": 2009, \"EreignisDatMM\": 5, \"HerkunftLang\": \"Ausl\\u00e4nder/in\", \"sum_WBev\": 136}, {\"StichtagDat\": \"2021-08-31T00:00:00\", \"EreignisDatJahr\": 2021, \"EreignisDatMM\": 8, \"HerkunftLang\": \"Ausl\\u00e4nder/in\", \"sum_WBev\": 136}, {\"StichtagDat\": \"2005-08-31T00:00:00\", \"EreignisDatJahr\": 2005, \"EreignisDatMM\": 8, \"HerkunftLang\": \"Ausl\\u00e4nder/in\", \"sum_WBev\": 136}, {\"StichtagDat\": \"2015-04-30T00:00:00\", \"EreignisDatJahr\": 2015, \"EreignisDatMM\": 4, \"HerkunftLang\": \"Ausl\\u00e4nder/in\", \"sum_WBev\": 135}, {\"StichtagDat\": \"2021-05-31T00:00:00\", \"EreignisDatJahr\": 2021, \"EreignisDatMM\": 5, \"HerkunftLang\": \"Ausl\\u00e4nder/in\", \"sum_WBev\": 135}, {\"StichtagDat\": \"1999-07-31T00:00:00\", \"EreignisDatJahr\": 1999, \"EreignisDatMM\": 7, \"HerkunftLang\": \"Ausl\\u00e4nder/in\", \"sum_WBev\": 135}, {\"StichtagDat\": \"2017-02-28T00:00:00\", \"EreignisDatJahr\": 2017, \"EreignisDatMM\": 2, \"HerkunftLang\": \"Ausl\\u00e4nder/in\", \"sum_WBev\": 135}, {\"StichtagDat\": \"2020-06-30T00:00:00\", \"EreignisDatJahr\": 2020, \"EreignisDatMM\": 6, \"HerkunftLang\": \"Ausl\\u00e4nder/in\", \"sum_WBev\": 135}, {\"StichtagDat\": \"2021-06-30T00:00:00\", \"EreignisDatJahr\": 2021, \"EreignisDatMM\": 6, \"HerkunftLang\": \"Ausl\\u00e4nder/in\", \"sum_WBev\": 134}, {\"StichtagDat\": \"2014-04-30T00:00:00\", \"EreignisDatJahr\": 2014, \"EreignisDatMM\": 4, \"HerkunftLang\": \"Ausl\\u00e4nder/in\", \"sum_WBev\": 134}, {\"StichtagDat\": \"1998-10-31T00:00:00\", \"EreignisDatJahr\": 1998, \"EreignisDatMM\": 10, \"HerkunftLang\": \"Ausl\\u00e4nder/in\", \"sum_WBev\": 134}, {\"StichtagDat\": \"2004-08-31T00:00:00\", \"EreignisDatJahr\": 2004, \"EreignisDatMM\": 8, \"HerkunftLang\": \"Ausl\\u00e4nder/in\", \"sum_WBev\": 134}, {\"StichtagDat\": \"2015-02-28T00:00:00\", \"EreignisDatJahr\": 2015, \"EreignisDatMM\": 2, \"HerkunftLang\": \"Ausl\\u00e4nder/in\", \"sum_WBev\": 134}, {\"StichtagDat\": \"1999-05-31T00:00:00\", \"EreignisDatJahr\": 1999, \"EreignisDatMM\": 5, \"HerkunftLang\": \"Ausl\\u00e4nder/in\", \"sum_WBev\": 134}, {\"StichtagDat\": \"2015-09-30T00:00:00\", \"EreignisDatJahr\": 2015, \"EreignisDatMM\": 9, \"HerkunftLang\": \"Ausl\\u00e4nder/in\", \"sum_WBev\": 133}, {\"StichtagDat\": \"2005-07-31T00:00:00\", \"EreignisDatJahr\": 2005, \"EreignisDatMM\": 7, \"HerkunftLang\": \"Ausl\\u00e4nder/in\", \"sum_WBev\": 133}, {\"StichtagDat\": \"2014-10-31T00:00:00\", \"EreignisDatJahr\": 2014, \"EreignisDatMM\": 10, \"HerkunftLang\": \"Ausl\\u00e4nder/in\", \"sum_WBev\": 133}, {\"StichtagDat\": \"2010-05-31T00:00:00\", \"EreignisDatJahr\": 2010, \"EreignisDatMM\": 5, \"HerkunftLang\": \"Ausl\\u00e4nder/in\", \"sum_WBev\": 133}, {\"StichtagDat\": \"2021-04-30T00:00:00\", \"EreignisDatJahr\": 2021, \"EreignisDatMM\": 4, \"HerkunftLang\": \"Ausl\\u00e4nder/in\", \"sum_WBev\": 133}, {\"StichtagDat\": \"2012-04-30T00:00:00\", \"EreignisDatJahr\": 2012, \"EreignisDatMM\": 4, \"HerkunftLang\": \"Ausl\\u00e4nder/in\", \"sum_WBev\": 133}, {\"StichtagDat\": \"2013-10-31T00:00:00\", \"EreignisDatJahr\": 2013, \"EreignisDatMM\": 10, \"HerkunftLang\": \"Ausl\\u00e4nder/in\", \"sum_WBev\": 133}, {\"StichtagDat\": \"2002-01-31T00:00:00\", \"EreignisDatJahr\": 2002, \"EreignisDatMM\": 1, \"HerkunftLang\": \"Ausl\\u00e4nder/in\", \"sum_WBev\": 133}, {\"StichtagDat\": \"2012-03-31T00:00:00\", \"EreignisDatJahr\": 2012, \"EreignisDatMM\": 3, \"HerkunftLang\": \"Ausl\\u00e4nder/in\", \"sum_WBev\": 133}, {\"StichtagDat\": \"1998-06-30T00:00:00\", \"EreignisDatJahr\": 1998, \"EreignisDatMM\": 6, \"HerkunftLang\": \"Ausl\\u00e4nder/in\", \"sum_WBev\": 132}, {\"StichtagDat\": \"2018-04-30T00:00:00\", \"EreignisDatJahr\": 2018, \"EreignisDatMM\": 4, \"HerkunftLang\": \"Ausl\\u00e4nder/in\", \"sum_WBev\": 132}, {\"StichtagDat\": \"2020-02-29T00:00:00\", \"EreignisDatJahr\": 2020, \"EreignisDatMM\": 2, \"HerkunftLang\": \"Ausl\\u00e4nder/in\", \"sum_WBev\": 132}, {\"StichtagDat\": \"2012-09-30T00:00:00\", \"EreignisDatJahr\": 2012, \"EreignisDatMM\": 9, \"HerkunftLang\": \"Ausl\\u00e4nder/in\", \"sum_WBev\": 132}, {\"StichtagDat\": \"1999-11-30T00:00:00\", \"EreignisDatJahr\": 1999, \"EreignisDatMM\": 11, \"HerkunftLang\": \"Ausl\\u00e4nder/in\", \"sum_WBev\": 131}, {\"StichtagDat\": \"2013-09-30T00:00:00\", \"EreignisDatJahr\": 2013, \"EreignisDatMM\": 9, \"HerkunftLang\": \"Ausl\\u00e4nder/in\", \"sum_WBev\": 131}, {\"StichtagDat\": \"2002-10-31T00:00:00\", \"EreignisDatJahr\": 2002, \"EreignisDatMM\": 10, \"HerkunftLang\": \"Ausl\\u00e4nder/in\", \"sum_WBev\": 131}, {\"StichtagDat\": \"2012-05-31T00:00:00\", \"EreignisDatJahr\": 2012, \"EreignisDatMM\": 5, \"HerkunftLang\": \"Ausl\\u00e4nder/in\", \"sum_WBev\": 131}, {\"StichtagDat\": \"2017-04-30T00:00:00\", \"EreignisDatJahr\": 2017, \"EreignisDatMM\": 4, \"HerkunftLang\": \"Ausl\\u00e4nder/in\", \"sum_WBev\": 131}, {\"StichtagDat\": \"2016-06-30T00:00:00\", \"EreignisDatJahr\": 2016, \"EreignisDatMM\": 6, \"HerkunftLang\": \"Ausl\\u00e4nder/in\", \"sum_WBev\": 131}, {\"StichtagDat\": \"2000-06-30T00:00:00\", \"EreignisDatJahr\": 2000, \"EreignisDatMM\": 6, \"HerkunftLang\": \"Ausl\\u00e4nder/in\", \"sum_WBev\": 130}, {\"StichtagDat\": \"2017-06-30T00:00:00\", \"EreignisDatJahr\": 2017, \"EreignisDatMM\": 6, \"HerkunftLang\": \"Ausl\\u00e4nder/in\", \"sum_WBev\": 130}, {\"StichtagDat\": \"2001-08-31T00:00:00\", \"EreignisDatJahr\": 2001, \"EreignisDatMM\": 8, \"HerkunftLang\": \"Ausl\\u00e4nder/in\", \"sum_WBev\": 130}, {\"StichtagDat\": \"2009-07-31T00:00:00\", \"EreignisDatJahr\": 2009, \"EreignisDatMM\": 7, \"HerkunftLang\": \"Ausl\\u00e4nder/in\", \"sum_WBev\": 130}, {\"StichtagDat\": \"2002-06-30T00:00:00\", \"EreignisDatJahr\": 2002, \"EreignisDatMM\": 6, \"HerkunftLang\": \"Ausl\\u00e4nder/in\", \"sum_WBev\": 130}, {\"StichtagDat\": \"2001-09-30T00:00:00\", \"EreignisDatJahr\": 2001, \"EreignisDatMM\": 9, \"HerkunftLang\": \"Ausl\\u00e4nder/in\", \"sum_WBev\": 130}, {\"StichtagDat\": \"2004-11-30T00:00:00\", \"EreignisDatJahr\": 2004, \"EreignisDatMM\": 11, \"HerkunftLang\": \"Ausl\\u00e4nder/in\", \"sum_WBev\": 130}, {\"StichtagDat\": \"1999-03-31T00:00:00\", \"EreignisDatJahr\": 1999, \"EreignisDatMM\": 3, \"HerkunftLang\": \"Ausl\\u00e4nder/in\", \"sum_WBev\": 130}, {\"StichtagDat\": \"2004-06-30T00:00:00\", \"EreignisDatJahr\": 2004, \"EreignisDatMM\": 6, \"HerkunftLang\": \"Ausl\\u00e4nder/in\", \"sum_WBev\": 129}, {\"StichtagDat\": \"2011-05-31T00:00:00\", \"EreignisDatJahr\": 2011, \"EreignisDatMM\": 5, \"HerkunftLang\": \"Ausl\\u00e4nder/in\", \"sum_WBev\": 129}, {\"StichtagDat\": \"2001-04-30T00:00:00\", \"EreignisDatJahr\": 2001, \"EreignisDatMM\": 4, \"HerkunftLang\": \"Ausl\\u00e4nder/in\", \"sum_WBev\": 129}, {\"StichtagDat\": \"2013-05-31T00:00:00\", \"EreignisDatJahr\": 2013, \"EreignisDatMM\": 5, \"HerkunftLang\": \"Ausl\\u00e4nder/in\", \"sum_WBev\": 129}, {\"StichtagDat\": \"1999-04-30T00:00:00\", \"EreignisDatJahr\": 1999, \"EreignisDatMM\": 4, \"HerkunftLang\": \"Ausl\\u00e4nder/in\", \"sum_WBev\": 129}, {\"StichtagDat\": \"1998-08-31T00:00:00\", \"EreignisDatJahr\": 1998, \"EreignisDatMM\": 8, \"HerkunftLang\": \"Ausl\\u00e4nder/in\", \"sum_WBev\": 128}, {\"StichtagDat\": \"1998-05-31T00:00:00\", \"EreignisDatJahr\": 1998, \"EreignisDatMM\": 5, \"HerkunftLang\": \"Ausl\\u00e4nder/in\", \"sum_WBev\": 128}, {\"StichtagDat\": \"2019-02-28T00:00:00\", \"EreignisDatJahr\": 2019, \"EreignisDatMM\": 2, \"HerkunftLang\": \"Ausl\\u00e4nder/in\", \"sum_WBev\": 128}, {\"StichtagDat\": \"2010-07-31T00:00:00\", \"EreignisDatJahr\": 2010, \"EreignisDatMM\": 7, \"HerkunftLang\": \"Ausl\\u00e4nder/in\", \"sum_WBev\": 128}, {\"StichtagDat\": \"2003-09-30T00:00:00\", \"EreignisDatJahr\": 2003, \"EreignisDatMM\": 9, \"HerkunftLang\": \"Ausl\\u00e4nder/in\", \"sum_WBev\": 128}, {\"StichtagDat\": \"2007-10-31T00:00:00\", \"EreignisDatJahr\": 2007, \"EreignisDatMM\": 10, \"HerkunftLang\": \"Ausl\\u00e4nder/in\", \"sum_WBev\": 128}, {\"StichtagDat\": \"2016-08-31T00:00:00\", \"EreignisDatJahr\": 2016, \"EreignisDatMM\": 8, \"HerkunftLang\": \"Ausl\\u00e4nder/in\", \"sum_WBev\": 127}, {\"StichtagDat\": \"2002-07-31T00:00:00\", \"EreignisDatJahr\": 2002, \"EreignisDatMM\": 7, \"HerkunftLang\": \"Ausl\\u00e4nder/in\", \"sum_WBev\": 127}, {\"StichtagDat\": \"2012-08-31T00:00:00\", \"EreignisDatJahr\": 2012, \"EreignisDatMM\": 8, \"HerkunftLang\": \"Ausl\\u00e4nder/in\", \"sum_WBev\": 127}, {\"StichtagDat\": \"1999-02-28T00:00:00\", \"EreignisDatJahr\": 1999, \"EreignisDatMM\": 2, \"HerkunftLang\": \"Ausl\\u00e4nder/in\", \"sum_WBev\": 127}, {\"StichtagDat\": \"2009-08-31T00:00:00\", \"EreignisDatJahr\": 2009, \"EreignisDatMM\": 8, \"HerkunftLang\": \"Ausl\\u00e4nder/in\", \"sum_WBev\": 127}, {\"StichtagDat\": \"1998-04-30T00:00:00\", \"EreignisDatJahr\": 1998, \"EreignisDatMM\": 4, \"HerkunftLang\": \"Ausl\\u00e4nder/in\", \"sum_WBev\": 127}, {\"StichtagDat\": \"2013-08-31T00:00:00\", \"EreignisDatJahr\": 2013, \"EreignisDatMM\": 8, \"HerkunftLang\": \"Ausl\\u00e4nder/in\", \"sum_WBev\": 126}, {\"StichtagDat\": \"2004-09-30T00:00:00\", \"EreignisDatJahr\": 2004, \"EreignisDatMM\": 9, \"HerkunftLang\": \"Ausl\\u00e4nder/in\", \"sum_WBev\": 126}, {\"StichtagDat\": \"2010-09-30T00:00:00\", \"EreignisDatJahr\": 2010, \"EreignisDatMM\": 9, \"HerkunftLang\": \"Ausl\\u00e4nder/in\", \"sum_WBev\": 125}, {\"StichtagDat\": \"2002-05-31T00:00:00\", \"EreignisDatJahr\": 2002, \"EreignisDatMM\": 5, \"HerkunftLang\": \"Ausl\\u00e4nder/in\", \"sum_WBev\": 125}, {\"StichtagDat\": \"2008-02-29T00:00:00\", \"EreignisDatJahr\": 2008, \"EreignisDatMM\": 2, \"HerkunftLang\": \"Ausl\\u00e4nder/in\", \"sum_WBev\": 125}, {\"StichtagDat\": \"2003-08-31T00:00:00\", \"EreignisDatJahr\": 2003, \"EreignisDatMM\": 8, \"HerkunftLang\": \"Ausl\\u00e4nder/in\", \"sum_WBev\": 125}, {\"StichtagDat\": \"2011-07-31T00:00:00\", \"EreignisDatJahr\": 2011, \"EreignisDatMM\": 7, \"HerkunftLang\": \"Ausl\\u00e4nder/in\", \"sum_WBev\": 125}, {\"StichtagDat\": \"2006-02-28T00:00:00\", \"EreignisDatJahr\": 2006, \"EreignisDatMM\": 2, \"HerkunftLang\": \"Ausl\\u00e4nder/in\", \"sum_WBev\": 125}, {\"StichtagDat\": \"1999-12-31T00:00:00\", \"EreignisDatJahr\": 1999, \"EreignisDatMM\": 12, \"HerkunftLang\": \"Ausl\\u00e4nder/in\", \"sum_WBev\": 125}, {\"StichtagDat\": \"2010-10-31T00:00:00\", \"EreignisDatJahr\": 2010, \"EreignisDatMM\": 10, \"HerkunftLang\": \"Ausl\\u00e4nder/in\", \"sum_WBev\": 125}, {\"StichtagDat\": \"2021-02-28T00:00:00\", \"EreignisDatJahr\": 2021, \"EreignisDatMM\": 2, \"HerkunftLang\": \"Ausl\\u00e4nder/in\", \"sum_WBev\": 125}, {\"StichtagDat\": \"2005-04-30T00:00:00\", \"EreignisDatJahr\": 2005, \"EreignisDatMM\": 4, \"HerkunftLang\": \"Ausl\\u00e4nder/in\", \"sum_WBev\": 124}, {\"StichtagDat\": \"2021-03-31T00:00:00\", \"EreignisDatJahr\": 2021, \"EreignisDatMM\": 3, \"HerkunftLang\": \"Ausl\\u00e4nder/in\", \"sum_WBev\": 124}, {\"StichtagDat\": \"2000-09-30T00:00:00\", \"EreignisDatJahr\": 2000, \"EreignisDatMM\": 9, \"HerkunftLang\": \"Ausl\\u00e4nder/in\", \"sum_WBev\": 124}, {\"StichtagDat\": \"2020-10-31T00:00:00\", \"EreignisDatJahr\": 2020, \"EreignisDatMM\": 10, \"HerkunftLang\": \"Ausl\\u00e4nder/in\", \"sum_WBev\": 124}, {\"StichtagDat\": \"2009-04-30T00:00:00\", \"EreignisDatJahr\": 2009, \"EreignisDatMM\": 4, \"HerkunftLang\": \"Ausl\\u00e4nder/in\", \"sum_WBev\": 124}, {\"StichtagDat\": \"2011-04-30T00:00:00\", \"EreignisDatJahr\": 2011, \"EreignisDatMM\": 4, \"HerkunftLang\": \"Ausl\\u00e4nder/in\", \"sum_WBev\": 123}, {\"StichtagDat\": \"2015-11-30T00:00:00\", \"EreignisDatJahr\": 2015, \"EreignisDatMM\": 11, \"HerkunftLang\": \"Ausl\\u00e4nder/in\", \"sum_WBev\": 123}, {\"StichtagDat\": \"2002-02-28T00:00:00\", \"EreignisDatJahr\": 2002, \"EreignisDatMM\": 2, \"HerkunftLang\": \"Ausl\\u00e4nder/in\", \"sum_WBev\": 123}, {\"StichtagDat\": \"2007-06-30T00:00:00\", \"EreignisDatJahr\": 2007, \"EreignisDatMM\": 6, \"HerkunftLang\": \"Ausl\\u00e4nder/in\", \"sum_WBev\": 123}, {\"StichtagDat\": \"2005-02-28T00:00:00\", \"EreignisDatJahr\": 2005, \"EreignisDatMM\": 2, \"HerkunftLang\": \"Ausl\\u00e4nder/in\", \"sum_WBev\": 122}, {\"StichtagDat\": \"2019-10-31T00:00:00\", \"EreignisDatJahr\": 2019, \"EreignisDatMM\": 10, \"HerkunftLang\": \"Ausl\\u00e4nder/in\", \"sum_WBev\": 122}, {\"StichtagDat\": \"2002-04-30T00:00:00\", \"EreignisDatJahr\": 2002, \"EreignisDatMM\": 4, \"HerkunftLang\": \"Ausl\\u00e4nder/in\", \"sum_WBev\": 122}, {\"StichtagDat\": \"2014-11-30T00:00:00\", \"EreignisDatJahr\": 2014, \"EreignisDatMM\": 11, \"HerkunftLang\": \"Ausl\\u00e4nder/in\", \"sum_WBev\": 122}, {\"StichtagDat\": \"2002-08-31T00:00:00\", \"EreignisDatJahr\": 2002, \"EreignisDatMM\": 8, \"HerkunftLang\": \"Ausl\\u00e4nder/in\", \"sum_WBev\": 122}, {\"StichtagDat\": \"2011-06-30T00:00:00\", \"EreignisDatJahr\": 2011, \"EreignisDatMM\": 6, \"HerkunftLang\": \"Ausl\\u00e4nder/in\", \"sum_WBev\": 122}, {\"StichtagDat\": \"2008-03-31T00:00:00\", \"EreignisDatJahr\": 2008, \"EreignisDatMM\": 3, \"HerkunftLang\": \"Ausl\\u00e4nder/in\", \"sum_WBev\": 122}, {\"StichtagDat\": \"2000-12-31T00:00:00\", \"EreignisDatJahr\": 2000, \"EreignisDatMM\": 12, \"HerkunftLang\": \"Ausl\\u00e4nder/in\", \"sum_WBev\": 122}, {\"StichtagDat\": \"2014-12-31T00:00:00\", \"EreignisDatJahr\": 2014, \"EreignisDatMM\": 12, \"HerkunftLang\": \"Ausl\\u00e4nder/in\", \"sum_WBev\": 121}, {\"StichtagDat\": \"2006-06-30T00:00:00\", \"EreignisDatJahr\": 2006, \"EreignisDatMM\": 6, \"HerkunftLang\": \"Ausl\\u00e4nder/in\", \"sum_WBev\": 121}, {\"StichtagDat\": \"2013-04-30T00:00:00\", \"EreignisDatJahr\": 2013, \"EreignisDatMM\": 4, \"HerkunftLang\": \"Ausl\\u00e4nder/in\", \"sum_WBev\": 121}, {\"StichtagDat\": \"2009-09-30T00:00:00\", \"EreignisDatJahr\": 2009, \"EreignisDatMM\": 9, \"HerkunftLang\": \"Ausl\\u00e4nder/in\", \"sum_WBev\": 121}, {\"StichtagDat\": \"2008-06-30T00:00:00\", \"EreignisDatJahr\": 2008, \"EreignisDatMM\": 6, \"HerkunftLang\": \"Ausl\\u00e4nder/in\", \"sum_WBev\": 121}, {\"StichtagDat\": \"1999-09-30T00:00:00\", \"EreignisDatJahr\": 1999, \"EreignisDatMM\": 9, \"HerkunftLang\": \"Ausl\\u00e4nder/in\", \"sum_WBev\": 121}, {\"StichtagDat\": \"1998-09-30T00:00:00\", \"EreignisDatJahr\": 1998, \"EreignisDatMM\": 9, \"HerkunftLang\": \"Ausl\\u00e4nder/in\", \"sum_WBev\": 120}, {\"StichtagDat\": \"2021-09-30T00:00:00\", \"EreignisDatJahr\": 2021, \"EreignisDatMM\": 9, \"HerkunftLang\": \"Ausl\\u00e4nder/in\", \"sum_WBev\": 120}, {\"StichtagDat\": \"2010-06-30T00:00:00\", \"EreignisDatJahr\": 2010, \"EreignisDatMM\": 6, \"HerkunftLang\": \"Ausl\\u00e4nder/in\", \"sum_WBev\": 120}, {\"StichtagDat\": \"2017-11-30T00:00:00\", \"EreignisDatJahr\": 2017, \"EreignisDatMM\": 11, \"HerkunftLang\": \"Ausl\\u00e4nder/in\", \"sum_WBev\": 120}, {\"StichtagDat\": \"2007-08-31T00:00:00\", \"EreignisDatJahr\": 2007, \"EreignisDatMM\": 8, \"HerkunftLang\": \"Ausl\\u00e4nder/in\", \"sum_WBev\": 119}, {\"StichtagDat\": \"2010-03-31T00:00:00\", \"EreignisDatJahr\": 2010, \"EreignisDatMM\": 3, \"HerkunftLang\": \"Ausl\\u00e4nder/in\", \"sum_WBev\": 119}, {\"StichtagDat\": \"2019-11-30T00:00:00\", \"EreignisDatJahr\": 2019, \"EreignisDatMM\": 11, \"HerkunftLang\": \"Ausl\\u00e4nder/in\", \"sum_WBev\": 119}, {\"StichtagDat\": \"2008-04-30T00:00:00\", \"EreignisDatJahr\": 2008, \"EreignisDatMM\": 4, \"HerkunftLang\": \"Ausl\\u00e4nder/in\", \"sum_WBev\": 119}, {\"StichtagDat\": \"2011-09-30T00:00:00\", \"EreignisDatJahr\": 2011, \"EreignisDatMM\": 9, \"HerkunftLang\": \"Ausl\\u00e4nder/in\", \"sum_WBev\": 118}, {\"StichtagDat\": \"2007-05-31T00:00:00\", \"EreignisDatJahr\": 2007, \"EreignisDatMM\": 5, \"HerkunftLang\": \"Ausl\\u00e4nder/in\", \"sum_WBev\": 118}, {\"StichtagDat\": \"2020-09-30T00:00:00\", \"EreignisDatJahr\": 2020, \"EreignisDatMM\": 9, \"HerkunftLang\": \"Ausl\\u00e4nder/in\", \"sum_WBev\": 118}, {\"StichtagDat\": \"2006-09-30T00:00:00\", \"EreignisDatJahr\": 2006, \"EreignisDatMM\": 9, \"HerkunftLang\": \"Ausl\\u00e4nder/in\", \"sum_WBev\": 118}, {\"StichtagDat\": \"2014-02-28T00:00:00\", \"EreignisDatJahr\": 2014, \"EreignisDatMM\": 2, \"HerkunftLang\": \"Ausl\\u00e4nder/in\", \"sum_WBev\": 117}, {\"StichtagDat\": \"1998-11-30T00:00:00\", \"EreignisDatJahr\": 1998, \"EreignisDatMM\": 11, \"HerkunftLang\": \"Schweizer/in\", \"sum_WBev\": 117}, {\"StichtagDat\": \"2001-06-30T00:00:00\", \"EreignisDatJahr\": 2001, \"EreignisDatMM\": 6, \"HerkunftLang\": \"Ausl\\u00e4nder/in\", \"sum_WBev\": 116}, {\"StichtagDat\": \"2011-08-31T00:00:00\", \"EreignisDatJahr\": 2011, \"EreignisDatMM\": 8, \"HerkunftLang\": \"Ausl\\u00e4nder/in\", \"sum_WBev\": 116}, {\"StichtagDat\": \"2003-05-31T00:00:00\", \"EreignisDatJahr\": 2003, \"EreignisDatMM\": 5, \"HerkunftLang\": \"Ausl\\u00e4nder/in\", \"sum_WBev\": 116}, {\"StichtagDat\": \"2005-10-31T00:00:00\", \"EreignisDatJahr\": 2005, \"EreignisDatMM\": 10, \"HerkunftLang\": \"Ausl\\u00e4nder/in\", \"sum_WBev\": 116}, {\"StichtagDat\": \"2005-03-31T00:00:00\", \"EreignisDatJahr\": 2005, \"EreignisDatMM\": 3, \"HerkunftLang\": \"Ausl\\u00e4nder/in\", \"sum_WBev\": 115}, {\"StichtagDat\": \"2000-08-31T00:00:00\", \"EreignisDatJahr\": 2000, \"EreignisDatMM\": 8, \"HerkunftLang\": \"Ausl\\u00e4nder/in\", \"sum_WBev\": 115}, {\"StichtagDat\": \"2003-11-30T00:00:00\", \"EreignisDatJahr\": 2003, \"EreignisDatMM\": 11, \"HerkunftLang\": \"Ausl\\u00e4nder/in\", \"sum_WBev\": 115}, {\"StichtagDat\": \"1999-10-31T00:00:00\", \"EreignisDatJahr\": 1999, \"EreignisDatMM\": 10, \"HerkunftLang\": \"Ausl\\u00e4nder/in\", \"sum_WBev\": 115}, {\"StichtagDat\": \"2006-07-31T00:00:00\", \"EreignisDatJahr\": 2006, \"EreignisDatMM\": 7, \"HerkunftLang\": \"Ausl\\u00e4nder/in\", \"sum_WBev\": 115}, {\"StichtagDat\": \"2001-05-31T00:00:00\", \"EreignisDatJahr\": 2001, \"EreignisDatMM\": 5, \"HerkunftLang\": \"Ausl\\u00e4nder/in\", \"sum_WBev\": 114}, {\"StichtagDat\": \"2000-11-30T00:00:00\", \"EreignisDatJahr\": 2000, \"EreignisDatMM\": 11, \"HerkunftLang\": \"Ausl\\u00e4nder/in\", \"sum_WBev\": 114}, {\"StichtagDat\": \"2004-10-31T00:00:00\", \"EreignisDatJahr\": 2004, \"EreignisDatMM\": 10, \"HerkunftLang\": \"Ausl\\u00e4nder/in\", \"sum_WBev\": 114}, {\"StichtagDat\": \"1999-06-30T00:00:00\", \"EreignisDatJahr\": 1999, \"EreignisDatMM\": 6, \"HerkunftLang\": \"Ausl\\u00e4nder/in\", \"sum_WBev\": 114}, {\"StichtagDat\": \"2009-10-31T00:00:00\", \"EreignisDatJahr\": 2009, \"EreignisDatMM\": 10, \"HerkunftLang\": \"Ausl\\u00e4nder/in\", \"sum_WBev\": 113}, {\"StichtagDat\": \"2003-10-31T00:00:00\", \"EreignisDatJahr\": 2003, \"EreignisDatMM\": 10, \"HerkunftLang\": \"Ausl\\u00e4nder/in\", \"sum_WBev\": 113}, {\"StichtagDat\": \"2009-06-30T00:00:00\", \"EreignisDatJahr\": 2009, \"EreignisDatMM\": 6, \"HerkunftLang\": \"Ausl\\u00e4nder/in\", \"sum_WBev\": 113}, {\"StichtagDat\": \"2015-12-31T00:00:00\", \"EreignisDatJahr\": 2015, \"EreignisDatMM\": 12, \"HerkunftLang\": \"Ausl\\u00e4nder/in\", \"sum_WBev\": 113}, {\"StichtagDat\": \"2012-06-30T00:00:00\", \"EreignisDatJahr\": 2012, \"EreignisDatMM\": 6, \"HerkunftLang\": \"Ausl\\u00e4nder/in\", \"sum_WBev\": 112}, {\"StichtagDat\": \"1998-02-28T00:00:00\", \"EreignisDatJahr\": 1998, \"EreignisDatMM\": 2, \"HerkunftLang\": \"Ausl\\u00e4nder/in\", \"sum_WBev\": 112}, {\"StichtagDat\": \"2004-01-31T00:00:00\", \"EreignisDatJahr\": 2004, \"EreignisDatMM\": 1, \"HerkunftLang\": \"Ausl\\u00e4nder/in\", \"sum_WBev\": 112}, {\"StichtagDat\": \"2006-05-31T00:00:00\", \"EreignisDatJahr\": 2006, \"EreignisDatMM\": 5, \"HerkunftLang\": \"Ausl\\u00e4nder/in\", \"sum_WBev\": 112}, {\"StichtagDat\": \"2020-11-30T00:00:00\", \"EreignisDatJahr\": 2020, \"EreignisDatMM\": 11, \"HerkunftLang\": \"Ausl\\u00e4nder/in\", \"sum_WBev\": 111}, {\"StichtagDat\": \"2021-11-30T00:00:00\", \"EreignisDatJahr\": 2021, \"EreignisDatMM\": 11, \"HerkunftLang\": \"Ausl\\u00e4nder/in\", \"sum_WBev\": 111}, {\"StichtagDat\": \"2004-12-31T00:00:00\", \"EreignisDatJahr\": 2004, \"EreignisDatMM\": 12, \"HerkunftLang\": \"Ausl\\u00e4nder/in\", \"sum_WBev\": 111}, {\"StichtagDat\": \"2003-03-31T00:00:00\", \"EreignisDatJahr\": 2003, \"EreignisDatMM\": 3, \"HerkunftLang\": \"Ausl\\u00e4nder/in\", \"sum_WBev\": 111}, {\"StichtagDat\": \"2006-10-31T00:00:00\", \"EreignisDatJahr\": 2006, \"EreignisDatMM\": 10, \"HerkunftLang\": \"Ausl\\u00e4nder/in\", \"sum_WBev\": 111}, {\"StichtagDat\": \"2008-08-31T00:00:00\", \"EreignisDatJahr\": 2008, \"EreignisDatMM\": 8, \"HerkunftLang\": \"Ausl\\u00e4nder/in\", \"sum_WBev\": 111}, {\"StichtagDat\": \"2021-07-31T00:00:00\", \"EreignisDatJahr\": 2021, \"EreignisDatMM\": 7, \"HerkunftLang\": \"Ausl\\u00e4nder/in\", \"sum_WBev\": 111}, {\"StichtagDat\": \"2004-02-29T00:00:00\", \"EreignisDatJahr\": 2004, \"EreignisDatMM\": 2, \"HerkunftLang\": \"Ausl\\u00e4nder/in\", \"sum_WBev\": 111}, {\"StichtagDat\": \"2002-09-30T00:00:00\", \"EreignisDatJahr\": 2002, \"EreignisDatMM\": 9, \"HerkunftLang\": \"Ausl\\u00e4nder/in\", \"sum_WBev\": 111}, {\"StichtagDat\": \"2007-07-31T00:00:00\", \"EreignisDatJahr\": 2007, \"EreignisDatMM\": 7, \"HerkunftLang\": \"Ausl\\u00e4nder/in\", \"sum_WBev\": 110}, {\"StichtagDat\": \"2005-05-31T00:00:00\", \"EreignisDatJahr\": 2005, \"EreignisDatMM\": 5, \"HerkunftLang\": \"Ausl\\u00e4nder/in\", \"sum_WBev\": 110}, {\"StichtagDat\": \"2002-03-31T00:00:00\", \"EreignisDatJahr\": 2002, \"EreignisDatMM\": 3, \"HerkunftLang\": \"Ausl\\u00e4nder/in\", \"sum_WBev\": 110}, {\"StichtagDat\": \"2011-11-30T00:00:00\", \"EreignisDatJahr\": 2011, \"EreignisDatMM\": 11, \"HerkunftLang\": \"Ausl\\u00e4nder/in\", \"sum_WBev\": 109}, {\"StichtagDat\": \"2008-07-31T00:00:00\", \"EreignisDatJahr\": 2008, \"EreignisDatMM\": 7, \"HerkunftLang\": \"Ausl\\u00e4nder/in\", \"sum_WBev\": 109}, {\"StichtagDat\": \"2000-10-31T00:00:00\", \"EreignisDatJahr\": 2000, \"EreignisDatMM\": 10, \"HerkunftLang\": \"Ausl\\u00e4nder/in\", \"sum_WBev\": 109}, {\"StichtagDat\": \"2010-04-30T00:00:00\", \"EreignisDatJahr\": 2010, \"EreignisDatMM\": 4, \"HerkunftLang\": \"Ausl\\u00e4nder/in\", \"sum_WBev\": 109}, {\"StichtagDat\": \"2004-03-31T00:00:00\", \"EreignisDatJahr\": 2004, \"EreignisDatMM\": 3, \"HerkunftLang\": \"Ausl\\u00e4nder/in\", \"sum_WBev\": 108}, {\"StichtagDat\": \"2012-10-31T00:00:00\", \"EreignisDatJahr\": 2012, \"EreignisDatMM\": 10, \"HerkunftLang\": \"Ausl\\u00e4nder/in\", \"sum_WBev\": 108}, {\"StichtagDat\": \"1998-12-31T00:00:00\", \"EreignisDatJahr\": 1998, \"EreignisDatMM\": 12, \"HerkunftLang\": \"Ausl\\u00e4nder/in\", \"sum_WBev\": 108}, {\"StichtagDat\": \"2006-04-30T00:00:00\", \"EreignisDatJahr\": 2006, \"EreignisDatMM\": 4, \"HerkunftLang\": \"Ausl\\u00e4nder/in\", \"sum_WBev\": 108}, {\"StichtagDat\": \"2004-04-30T00:00:00\", \"EreignisDatJahr\": 2004, \"EreignisDatMM\": 4, \"HerkunftLang\": \"Ausl\\u00e4nder/in\", \"sum_WBev\": 107}, {\"StichtagDat\": \"2007-12-31T00:00:00\", \"EreignisDatJahr\": 2007, \"EreignisDatMM\": 12, \"HerkunftLang\": \"Ausl\\u00e4nder/in\", \"sum_WBev\": 107}, {\"StichtagDat\": \"2003-07-31T00:00:00\", \"EreignisDatJahr\": 2003, \"EreignisDatMM\": 7, \"HerkunftLang\": \"Ausl\\u00e4nder/in\", \"sum_WBev\": 106}, {\"StichtagDat\": \"2006-08-31T00:00:00\", \"EreignisDatJahr\": 2006, \"EreignisDatMM\": 8, \"HerkunftLang\": \"Ausl\\u00e4nder/in\", \"sum_WBev\": 106}, {\"StichtagDat\": \"2005-09-30T00:00:00\", \"EreignisDatJahr\": 2005, \"EreignisDatMM\": 9, \"HerkunftLang\": \"Ausl\\u00e4nder/in\", \"sum_WBev\": 106}, {\"StichtagDat\": \"2007-03-31T00:00:00\", \"EreignisDatJahr\": 2007, \"EreignisDatMM\": 3, \"HerkunftLang\": \"Ausl\\u00e4nder/in\", \"sum_WBev\": 105}, {\"StichtagDat\": \"2013-02-28T00:00:00\", \"EreignisDatJahr\": 2013, \"EreignisDatMM\": 2, \"HerkunftLang\": \"Ausl\\u00e4nder/in\", \"sum_WBev\": 105}, {\"StichtagDat\": \"2013-11-30T00:00:00\", \"EreignisDatJahr\": 2013, \"EreignisDatMM\": 11, \"HerkunftLang\": \"Ausl\\u00e4nder/in\", \"sum_WBev\": 105}, {\"StichtagDat\": \"2001-11-30T00:00:00\", \"EreignisDatJahr\": 2001, \"EreignisDatMM\": 11, \"HerkunftLang\": \"Ausl\\u00e4nder/in\", \"sum_WBev\": 104}, {\"StichtagDat\": \"2018-11-30T00:00:00\", \"EreignisDatJahr\": 2018, \"EreignisDatMM\": 11, \"HerkunftLang\": \"Ausl\\u00e4nder/in\", \"sum_WBev\": 104}, {\"StichtagDat\": \"2003-04-30T00:00:00\", \"EreignisDatJahr\": 2003, \"EreignisDatMM\": 4, \"HerkunftLang\": \"Ausl\\u00e4nder/in\", \"sum_WBev\": 104}, {\"StichtagDat\": \"2005-06-30T00:00:00\", \"EreignisDatJahr\": 2005, \"EreignisDatMM\": 6, \"HerkunftLang\": \"Ausl\\u00e4nder/in\", \"sum_WBev\": 104}, {\"StichtagDat\": \"2012-11-30T00:00:00\", \"EreignisDatJahr\": 2012, \"EreignisDatMM\": 11, \"HerkunftLang\": \"Ausl\\u00e4nder/in\", \"sum_WBev\": 104}, {\"StichtagDat\": \"2000-02-29T00:00:00\", \"EreignisDatJahr\": 2000, \"EreignisDatMM\": 2, \"HerkunftLang\": \"Ausl\\u00e4nder/in\", \"sum_WBev\": 103}, {\"StichtagDat\": \"2001-10-31T00:00:00\", \"EreignisDatJahr\": 2001, \"EreignisDatMM\": 10, \"HerkunftLang\": \"Ausl\\u00e4nder/in\", \"sum_WBev\": 103}, {\"StichtagDat\": \"2009-03-31T00:00:00\", \"EreignisDatJahr\": 2009, \"EreignisDatMM\": 3, \"HerkunftLang\": \"Ausl\\u00e4nder/in\", \"sum_WBev\": 103}, {\"StichtagDat\": \"2004-05-31T00:00:00\", \"EreignisDatJahr\": 2004, \"EreignisDatMM\": 5, \"HerkunftLang\": \"Ausl\\u00e4nder/in\", \"sum_WBev\": 103}, {\"StichtagDat\": \"2001-12-31T00:00:00\", \"EreignisDatJahr\": 2001, \"EreignisDatMM\": 12, \"HerkunftLang\": \"Ausl\\u00e4nder/in\", \"sum_WBev\": 103}, {\"StichtagDat\": \"2009-11-30T00:00:00\", \"EreignisDatJahr\": 2009, \"EreignisDatMM\": 11, \"HerkunftLang\": \"Ausl\\u00e4nder/in\", \"sum_WBev\": 103}, {\"StichtagDat\": \"2011-10-31T00:00:00\", \"EreignisDatJahr\": 2011, \"EreignisDatMM\": 10, \"HerkunftLang\": \"Ausl\\u00e4nder/in\", \"sum_WBev\": 103}, {\"StichtagDat\": \"2012-02-29T00:00:00\", \"EreignisDatJahr\": 2012, \"EreignisDatMM\": 2, \"HerkunftLang\": \"Ausl\\u00e4nder/in\", \"sum_WBev\": 102}, {\"StichtagDat\": \"2006-03-31T00:00:00\", \"EreignisDatJahr\": 2006, \"EreignisDatMM\": 3, \"HerkunftLang\": \"Ausl\\u00e4nder/in\", \"sum_WBev\": 102}, {\"StichtagDat\": \"2009-02-28T00:00:00\", \"EreignisDatJahr\": 2009, \"EreignisDatMM\": 2, \"HerkunftLang\": \"Ausl\\u00e4nder/in\", \"sum_WBev\": 102}, {\"StichtagDat\": \"2013-12-31T00:00:00\", \"EreignisDatJahr\": 2013, \"EreignisDatMM\": 12, \"HerkunftLang\": \"Ausl\\u00e4nder/in\", \"sum_WBev\": 101}, {\"StichtagDat\": \"2018-12-31T00:00:00\", \"EreignisDatJahr\": 2018, \"EreignisDatMM\": 12, \"HerkunftLang\": \"Ausl\\u00e4nder/in\", \"sum_WBev\": 101}, {\"StichtagDat\": \"2002-11-30T00:00:00\", \"EreignisDatJahr\": 2002, \"EreignisDatMM\": 11, \"HerkunftLang\": \"Ausl\\u00e4nder/in\", \"sum_WBev\": 101}, {\"StichtagDat\": \"2008-09-30T00:00:00\", \"EreignisDatJahr\": 2008, \"EreignisDatMM\": 9, \"HerkunftLang\": \"Ausl\\u00e4nder/in\", \"sum_WBev\": 101}, {\"StichtagDat\": \"2001-02-28T00:00:00\", \"EreignisDatJahr\": 2001, \"EreignisDatMM\": 2, \"HerkunftLang\": \"Ausl\\u00e4nder/in\", \"sum_WBev\": 101}, {\"StichtagDat\": \"2011-02-28T00:00:00\", \"EreignisDatJahr\": 2011, \"EreignisDatMM\": 2, \"HerkunftLang\": \"Ausl\\u00e4nder/in\", \"sum_WBev\": 100}, {\"StichtagDat\": \"2016-12-31T00:00:00\", \"EreignisDatJahr\": 2016, \"EreignisDatMM\": 12, \"HerkunftLang\": \"Ausl\\u00e4nder/in\", \"sum_WBev\": 99}, {\"StichtagDat\": \"2003-12-31T00:00:00\", \"EreignisDatJahr\": 2003, \"EreignisDatMM\": 12, \"HerkunftLang\": \"Ausl\\u00e4nder/in\", \"sum_WBev\": 99}, {\"StichtagDat\": \"2011-03-31T00:00:00\", \"EreignisDatJahr\": 2011, \"EreignisDatMM\": 3, \"HerkunftLang\": \"Ausl\\u00e4nder/in\", \"sum_WBev\": 99}, {\"StichtagDat\": \"2016-11-30T00:00:00\", \"EreignisDatJahr\": 2016, \"EreignisDatMM\": 11, \"HerkunftLang\": \"Ausl\\u00e4nder/in\", \"sum_WBev\": 99}, {\"StichtagDat\": \"2007-11-30T00:00:00\", \"EreignisDatJahr\": 2007, \"EreignisDatMM\": 11, \"HerkunftLang\": \"Ausl\\u00e4nder/in\", \"sum_WBev\": 98}, {\"StichtagDat\": \"2008-10-31T00:00:00\", \"EreignisDatJahr\": 2008, \"EreignisDatMM\": 10, \"HerkunftLang\": \"Ausl\\u00e4nder/in\", \"sum_WBev\": 98}, {\"StichtagDat\": \"2007-09-30T00:00:00\", \"EreignisDatJahr\": 2007, \"EreignisDatMM\": 9, \"HerkunftLang\": \"Ausl\\u00e4nder/in\", \"sum_WBev\": 98}, {\"StichtagDat\": \"2007-04-30T00:00:00\", \"EreignisDatJahr\": 2007, \"EreignisDatMM\": 4, \"HerkunftLang\": \"Ausl\\u00e4nder/in\", \"sum_WBev\": 97}, {\"StichtagDat\": \"2001-03-31T00:00:00\", \"EreignisDatJahr\": 2001, \"EreignisDatMM\": 3, \"HerkunftLang\": \"Ausl\\u00e4nder/in\", \"sum_WBev\": 95}, {\"StichtagDat\": \"2006-11-30T00:00:00\", \"EreignisDatJahr\": 2006, \"EreignisDatMM\": 11, \"HerkunftLang\": \"Ausl\\u00e4nder/in\", \"sum_WBev\": 95}, {\"StichtagDat\": \"2010-02-28T00:00:00\", \"EreignisDatJahr\": 2010, \"EreignisDatMM\": 2, \"HerkunftLang\": \"Ausl\\u00e4nder/in\", \"sum_WBev\": 94}, {\"StichtagDat\": \"2019-12-31T00:00:00\", \"EreignisDatJahr\": 2019, \"EreignisDatMM\": 12, \"HerkunftLang\": \"Ausl\\u00e4nder/in\", \"sum_WBev\": 94}, {\"StichtagDat\": \"2017-12-31T00:00:00\", \"EreignisDatJahr\": 2017, \"EreignisDatMM\": 12, \"HerkunftLang\": \"Ausl\\u00e4nder/in\", \"sum_WBev\": 94}, {\"StichtagDat\": \"2005-12-31T00:00:00\", \"EreignisDatJahr\": 2005, \"EreignisDatMM\": 12, \"HerkunftLang\": \"Ausl\\u00e4nder/in\", \"sum_WBev\": 91}, {\"StichtagDat\": \"2008-12-31T00:00:00\", \"EreignisDatJahr\": 2008, \"EreignisDatMM\": 12, \"HerkunftLang\": \"Ausl\\u00e4nder/in\", \"sum_WBev\": 91}, {\"StichtagDat\": \"2011-12-31T00:00:00\", \"EreignisDatJahr\": 2011, \"EreignisDatMM\": 12, \"HerkunftLang\": \"Ausl\\u00e4nder/in\", \"sum_WBev\": 89}, {\"StichtagDat\": \"2012-12-31T00:00:00\", \"EreignisDatJahr\": 2012, \"EreignisDatMM\": 12, \"HerkunftLang\": \"Ausl\\u00e4nder/in\", \"sum_WBev\": 88}, {\"StichtagDat\": \"2006-12-31T00:00:00\", \"EreignisDatJahr\": 2006, \"EreignisDatMM\": 12, \"HerkunftLang\": \"Ausl\\u00e4nder/in\", \"sum_WBev\": 86}, {\"StichtagDat\": \"2008-11-30T00:00:00\", \"EreignisDatJahr\": 2008, \"EreignisDatMM\": 11, \"HerkunftLang\": \"Ausl\\u00e4nder/in\", \"sum_WBev\": 86}, {\"StichtagDat\": \"2010-11-30T00:00:00\", \"EreignisDatJahr\": 2010, \"EreignisDatMM\": 11, \"HerkunftLang\": \"Ausl\\u00e4nder/in\", \"sum_WBev\": 86}, {\"StichtagDat\": \"2003-02-28T00:00:00\", \"EreignisDatJahr\": 2003, \"EreignisDatMM\": 2, \"HerkunftLang\": \"Ausl\\u00e4nder/in\", \"sum_WBev\": 85}, {\"StichtagDat\": \"2005-11-30T00:00:00\", \"EreignisDatJahr\": 2005, \"EreignisDatMM\": 11, \"HerkunftLang\": \"Ausl\\u00e4nder/in\", \"sum_WBev\": 83}, {\"StichtagDat\": \"2009-12-31T00:00:00\", \"EreignisDatJahr\": 2009, \"EreignisDatMM\": 12, \"HerkunftLang\": \"Ausl\\u00e4nder/in\", \"sum_WBev\": 83}, {\"StichtagDat\": \"2010-12-31T00:00:00\", \"EreignisDatJahr\": 2010, \"EreignisDatMM\": 12, \"HerkunftLang\": \"Ausl\\u00e4nder/in\", \"sum_WBev\": 80}, {\"StichtagDat\": \"2007-02-28T00:00:00\", \"EreignisDatJahr\": 2007, \"EreignisDatMM\": 2, \"HerkunftLang\": \"Ausl\\u00e4nder/in\", \"sum_WBev\": 72}, {\"StichtagDat\": \"2020-12-31T00:00:00\", \"EreignisDatJahr\": 2020, \"EreignisDatMM\": 12, \"HerkunftLang\": \"Ausl\\u00e4nder/in\", \"sum_WBev\": 64}]}}, {\"mode\": \"vega-lite\"});\n",
       "</script>"
      ],
      "text/plain": [
       "alt.LayerChart(...)"
      ]
     },
     "execution_count": 48,
     "metadata": {},
     "output_type": "execute_result"
    }
   ],
   "source": [
    "highlight = alt.selection(type='single', on='mouseover',\n",
    "                          fields=['HerkunftLang'], nearest=True)\n",
    "#x='date:StichtagDatJahr',\n",
    "base = alt.Chart(myAgg.reset_index().query('sum_WBev>1'), title=\"Title\").encode(\n",
    "    x=alt.X('StichtagDat', axis=alt.Axis(title='Jahr'))# , axis=alt.Axis(format='%', title='percentage')\n",
    "    , y=alt.X('sum_WBev', axis=alt.Axis(title='Anz. Personen'))\n",
    "    , color=alt.Color('HerkunftLang', legend=alt.Legend(title=\"Herkunft\"))  \n",
    "    ,tooltip=['StichtagDat', 'HerkunftLang', 'sum_WBev']    \n",
    ")\n",
    "points = base.mark_circle().encode(\n",
    "    opacity=alt.value(0.75)\n",
    ").add_selection(\n",
    "    highlight\n",
    ").properties(\n",
    "    width=900 , height=350\n",
    ")\n",
    "lines = base.mark_line().encode(\n",
    "    size=alt.condition(~highlight, alt.value(0.5), alt.value(4))\n",
    ").interactive()\n",
    "\n",
    "lines + points    \n"
   ]
  },
  {
   "cell_type": "code",
   "execution_count": 49,
   "metadata": {},
   "outputs": [
    {
     "data": {
      "text/plain": [
       "EreignisDatJahr      int64\n",
       "EreignisDatMM        int64\n",
       "EreignisDatMonat    object\n",
       "SexCd                int64\n",
       "SexLang             object\n",
       "HerkunftCd           int64\n",
       "HerkunftLang        object\n",
       "KreisCd              int64\n",
       "KreisLang           object\n",
       "QuarCd               int64\n",
       "QuarLang            object\n",
       "DatenstandCd        object\n",
       "DatenstandLang      object\n",
       "AnzGebuWir           int64\n",
       "dtype: object"
      ]
     },
     "execution_count": 49,
     "metadata": {},
     "output_type": "execute_result"
    }
   ],
   "source": [
    "data2betested.dtypes"
   ]
  },
  {
   "cell_type": "markdown",
   "metadata": {},
   "source": [
    "### Daten in interaktiver Treemap zeigen\n",
    "Dazu gibt es eine sehr nützliche Webseite https://plotly.com/python/treemaps/\n",
    "Zu Farbskalen, siehe: https://plotly.com/python/builtin-colorscales/"
   ]
  },
  {
   "cell_type": "markdown",
   "metadata": {},
   "source": [
    "#### Aktueller Bestand der WBev nach Stadtkreis, Quartier, Geschlecht und Herkunft"
   ]
  },
  {
   "cell_type": "code",
   "execution_count": 55,
   "metadata": {},
   "outputs": [
    {
     "data": {
      "text/html": [
       "<div>\n",
       "<style scoped>\n",
       "    .dataframe tbody tr th:only-of-type {\n",
       "        vertical-align: middle;\n",
       "    }\n",
       "\n",
       "    .dataframe tbody tr th {\n",
       "        vertical-align: top;\n",
       "    }\n",
       "\n",
       "    .dataframe thead th {\n",
       "        text-align: right;\n",
       "    }\n",
       "</style>\n",
       "<table border=\"1\" class=\"dataframe\">\n",
       "  <thead>\n",
       "    <tr style=\"text-align: right;\">\n",
       "      <th></th>\n",
       "      <th>StichtagDat</th>\n",
       "      <th>EreignisDatJahr</th>\n",
       "      <th>EreignisDatMM</th>\n",
       "      <th>KreisLang</th>\n",
       "      <th>QuarLang</th>\n",
       "      <th>HerkunftLang</th>\n",
       "      <th>SexLang</th>\n",
       "      <th>sum_WBev</th>\n",
       "    </tr>\n",
       "  </thead>\n",
       "  <tbody>\n",
       "    <tr>\n",
       "      <th>0</th>\n",
       "      <td>2021-06-30</td>\n",
       "      <td>2021</td>\n",
       "      <td>6</td>\n",
       "      <td>Kreis 9</td>\n",
       "      <td>Altstetten</td>\n",
       "      <td>Schweizer/in</td>\n",
       "      <td>männlich</td>\n",
       "      <td>19</td>\n",
       "    </tr>\n",
       "    <tr>\n",
       "      <th>1</th>\n",
       "      <td>2021-01-31</td>\n",
       "      <td>2021</td>\n",
       "      <td>1</td>\n",
       "      <td>Kreis 9</td>\n",
       "      <td>Altstetten</td>\n",
       "      <td>Schweizer/in</td>\n",
       "      <td>weiblich</td>\n",
       "      <td>18</td>\n",
       "    </tr>\n",
       "  </tbody>\n",
       "</table>\n",
       "</div>"
      ],
      "text/plain": [
       "  StichtagDat  EreignisDatJahr  EreignisDatMM KreisLang    QuarLang  HerkunftLang   SexLang  \\\n",
       "0  2021-06-30             2021              6   Kreis 9  Altstetten  Schweizer/in  männlich   \n",
       "1  2021-01-31             2021              1   Kreis 9  Altstetten  Schweizer/in  weiblich   \n",
       "\n",
       "   sum_WBev  \n",
       "0        19  \n",
       "1        18  "
      ]
     },
     "execution_count": 55,
     "metadata": {},
     "output_type": "execute_result"
    }
   ],
   "source": [
    "myTreemapAgg = data2betested.loc[\"2021-01\":\"2021-11\"]  \\\n",
    "    .groupby(['StichtagDat','EreignisDatJahr', 'EreignisDatMM', 'KreisLang','QuarLang','HerkunftLang', 'SexLang']) \\\n",
    "    .agg(sum_WBev=('AnzGebuWir', 'sum')) \\\n",
    "    .sort_values('sum_WBev', ascending=False) \n",
    "\n",
    "myTreemapAgg.reset_index().head(2)"
   ]
  },
  {
   "cell_type": "code",
   "execution_count": 56,
   "metadata": {},
   "outputs": [
    {
     "data": {
      "application/vnd.plotly.v1+json": {
       "config": {
        "plotlyServerURL": "https://plot.ly"
       },
       "data": [
        {
         "branchvalues": "total",
         "customdata": [
          [
           5.16
          ],
          [
           4.571428571428571
          ],
          [
           2.8260869565217392
          ],
          [
           7.878787878787879
          ],
          [
           1
          ],
          [
           3.8333333333333335
          ],
          [
           2.3333333333333335
          ],
          [
           2.625
          ],
          [
           1.5454545454545454
          ],
          [
           1.6153846153846154
          ],
          [
           1.5
          ],
          [
           1.9230769230769231
          ],
          [
           6.25
          ],
          [
           3.9473684210526314
          ],
          [
           2.4782608695652173
          ],
          [
           2.625
          ],
          [
           3
          ],
          [
           2.272727272727273
          ],
          [
           2
          ],
          [
           6.3090909090909095
          ],
          [
           1
          ],
          [
           1.8
          ],
          [
           3.5294117647058822
          ],
          [
           7.242424242424242
          ],
          [
           3.48
          ],
          [
           4.733333333333333
          ],
          [
           4.105263157894737
          ],
          [
           1.6
          ],
          [
           2
          ],
          [
           3.64
          ],
          [
           3.1
          ],
          [
           5.37037037037037
          ],
          [
           6.678571428571429
          ],
          [
           6.866666666666666
          ],
          [
           3.923076923076923
          ],
          [
           5.25531914893617
          ],
          [
           1
          ],
          [
           5.3428571428571425
          ],
          [
           2.125
          ],
          [
           1.3333333333333333
          ],
          [
           2.272727272727273
          ],
          [
           1.7272727272727273
          ],
          [
           2.2941176470588234
          ],
          [
           2
          ],
          [
           3.6666666666666665
          ],
          [
           2.764705882352941
          ],
          [
           3.9714285714285715
          ],
          [
           1.8333333333333333
          ],
          [
           3
          ],
          [
           2
          ],
          [
           2
          ],
          [
           2.125
          ],
          [
           6.892857142857143
          ],
          [
           3.4
          ],
          [
           1.8888888888888888
          ],
          [
           4.542857142857143
          ],
          [
           8.272727272727273
          ],
          [
           2.230769230769231
          ],
          [
           5.303030303030303
          ],
          [
           3.5925925925925926
          ],
          [
           2.272727272727273
          ],
          [
           2.2
          ],
          [
           4.75
          ],
          [
           1.9411764705882353
          ],
          [
           4.771428571428571
          ],
          [
           8.604651162790697
          ],
          [
           10.174311926605505
          ],
          [
           8.289473684210526
          ],
          [
           11.76271186440678
          ],
          [
           1
          ],
          [
           5.679245283018868
          ],
          [
           3.9714285714285715
          ],
          [
           3.4827586206896552
          ],
          [
           2.8181818181818183
          ],
          [
           3.3448275862068964
          ],
          [
           6.586206896551724
          ],
          [
           4.125
          ],
          [
           4.826086956521739
          ],
          [
           1
          ],
          [
           4.463414634146342
          ],
          [
           10
          ],
          [
           5.36
          ],
          [
           2.4444444444444446
          ],
          [
           1
          ],
          [
           2.4
          ],
          [
           4.578947368421052
          ],
          [
           8.358024691358025
          ],
          [
           1.5
          ],
          [
           4.794871794871795
          ],
          [
           3.7333333333333334
          ],
          [
           8.261904761904763
          ],
          [
           2.76
          ],
          [
           10.333333333333334
          ],
          [
           10.056603773584905
          ],
          [
           4.043478260869565
          ],
          [
           3.5454545454545454
          ],
          [
           8.275
          ],
          [
           4.371428571428571
          ],
          [
           8.270588235294118
          ],
          [
           8.170731707317072
          ],
          [
           9.88888888888889
          ],
          [
           7
          ],
          [
           13.34074074074074
          ],
          [
           5.363636363636363
          ],
          [
           4.7073170731707314
          ],
          [
           3.4
          ],
          [
           2.5
          ],
          [
           4.9
          ],
          [
           5.377358490566038
          ],
          [
           3.7096774193548385
          ],
          [
           6.419354838709677
          ],
          [
           5.666666666666667
          ],
          [
           10.481481481481481
          ],
          [
           6.4
          ],
          [
           2.411764705882353
          ],
          [
           1
          ],
          [
           4.916666666666667
          ],
          [
           4.375
          ],
          [
           7.235294117647059
          ],
          [
           1.3333333333333333
          ],
          [
           4
          ],
          [
           3
          ],
          [
           8.160493827160494
          ],
          [
           2.8095238095238093
          ],
          [
           10.26086956521739
          ],
          [
           11.295652173913043
          ],
          [
           2.066666666666667
          ],
          [
           3.090909090909091
          ],
          [
           8.146341463414634
          ],
          [
           3.08
          ],
          [
           9.195652173913043
          ],
          [
           7.338235294117647
          ],
          [
           8.6158940397351
          ],
          [
           7.02020202020202
          ],
          [
           10.369565217391305
          ],
          [
           1
          ],
          [
           4.932584269662922
          ],
          [
           3.357142857142857
          ],
          [
           3.1777777777777776
          ],
          [
           2.393939393939394
          ],
          [
           2.8095238095238093
          ],
          [
           5.714285714285714
          ],
          [
           3.488888888888889
          ],
          [
           5.488372093023256
          ],
          [
           1
          ],
          [
           4.3
          ],
          [
           8.546218487394958
          ],
          [
           4.696969696969697
          ],
          [
           2.72972972972973
          ],
          [
           1
          ],
          [
           2.3548387096774195
          ],
          [
           3.8846153846153846
          ],
          [
           7.529411764705882
          ],
          [
           1.3333333333333333
          ],
          [
           4.454545454545454
          ],
          [
           3.625
          ],
          [
           7.8133333333333335
          ],
          [
           3.12
          ],
          [
           8.507246376811594
          ],
          [
           8.48611111111111
          ],
          [
           3.303030303030303
          ],
          [
           3.2142857142857144
          ],
          [
           7.171428571428572
          ],
          [
           3.909090909090909
          ],
          [
           7.143884892086331
          ],
          [
           7.565217391304348
          ],
          [
           9.186046511627907
          ],
          [
           6.101123595505618
          ],
          [
           11.252747252747254
          ],
          [
           1
          ],
          [
           5.355555555555555
          ],
          [
           3.982456140350877
          ],
          [
           3.0555555555555554
          ],
          [
           2.4193548387096775
          ],
          [
           4.215686274509804
          ],
          [
           4.628571428571429
          ],
          [
           3.2325581395348837
          ],
          [
           5.584269662921348
          ],
          [
           4.9411764705882355
          ],
          [
           8.888111888111888
          ],
          [
           5.638888888888889
          ],
          [
           2.7142857142857144
          ],
          [
           1.5
          ],
          [
           3.8421052631578947
          ],
          [
           3.625
          ],
          [
           7.080645161290323
          ],
          [
           2.272727272727273
          ],
          [
           3.558139534883721
          ],
          [
           3.9152542372881354
          ],
          [
           8.210884353741497
          ],
          [
           2.588235294117647
          ],
          [
           8.952
          ],
          [
           9.830985915492958
          ],
          [
           2.1538461538461537
          ],
          [
           2.8125
          ],
          [
           7.377358490566038
          ],
          [
           2.619047619047619
          ],
          [
           7.9763779527559056
          ],
          [
           7.452554744525547
          ],
          [
           8.878571428571428
          ],
          [
           6.585106382978723
          ],
          [
           10.808743169398907
          ],
          [
           1
          ],
          [
           5.145251396648045
          ],
          [
           3.672566371681416
          ],
          [
           3.123456790123457
          ],
          [
           2.40625
          ],
          [
           3.5806451612903225
          ],
          [
           5.171428571428572
          ],
          [
           3.3636363636363638
          ],
          [
           5.537142857142857
          ],
          [
           1
          ],
          [
           4.640625
          ],
          [
           8.732824427480915
          ],
          [
           5.188405797101449
          ],
          [
           2.7222222222222223
          ],
          [
           1.4
          ],
          [
           3.1739130434782608
          ],
          [
           3.76
          ],
          [
           7.315384615384615
          ],
          [
           1.9411764705882353
          ],
          [
           4.011494252873563
          ],
          [
           3.7642276422764227
          ],
          [
           8.01010101010101
          ],
          [
           2.9047619047619047
          ],
          [
           8.718631178707223
          ],
          [
           9.153846153846153
          ],
          [
           2.7966101694915255
          ],
          [
           3
          ],
          [
           7.274881516587678
          ],
          [
           3.350515463917526
          ],
          [
           7.541353383458647
          ],
          [
           1.5806451612903225
          ],
          [
           8.08245243128964
          ],
          [
           7.6089049338146815
          ],
          [
           4.625974025974026
          ],
          [
           6.040618955512572
          ],
          [
           7.155339805825243
          ],
          [
           4.792899408284024
          ],
          [
           3.6310679611650487
          ],
          [
           7.756476683937824
          ],
          [
           3.7258883248730963
          ],
          [
           2.9622641509433962
          ],
          [
           9.972136222910217
          ],
          [
           6.62423996757195
          ]
         ],
         "domain": {
          "x": [
           0,
           1
          ],
          "y": [
           0,
           1
          ]
         },
         "hovertemplate": "labels=%{label}<br>sum_WBev_sum=%{value}<br>parent=%{parent}<br>id=%{id}<br>sum_WBev=%{color}<extra></extra>",
         "ids": [
          "WBev nach Stadtkreis, Quartier und Alter/Kreis 11/Affoltern/männlich/Ausländer/in",
          "WBev nach Stadtkreis, Quartier und Alter/Kreis 9/Albisrieden/männlich/Ausländer/in",
          "WBev nach Stadtkreis, Quartier und Alter/Kreis 3/Alt-Wiedikon/männlich/Ausländer/in",
          "WBev nach Stadtkreis, Quartier und Alter/Kreis 9/Altstetten/männlich/Ausländer/in",
          "WBev nach Stadtkreis, Quartier und Alter/Kreis 1/City/männlich/Ausländer/in",
          "WBev nach Stadtkreis, Quartier und Alter/Kreis 2/Enge/männlich/Ausländer/in",
          "WBev nach Stadtkreis, Quartier und Alter/Kreis 5/Escher Wyss/männlich/Ausländer/in",
          "WBev nach Stadtkreis, Quartier und Alter/Kreis 7/Fluntern/männlich/Ausländer/in",
          "WBev nach Stadtkreis, Quartier und Alter/Kreis 3/Friesenberg/männlich/Ausländer/in",
          "WBev nach Stadtkreis, Quartier und Alter/Kreis 5/Gewerbeschule/männlich/Ausländer/in",
          "WBev nach Stadtkreis, Quartier und Alter/Kreis 4/Hard/männlich/Ausländer/in",
          "WBev nach Stadtkreis, Quartier und Alter/Kreis 7/Hirslanden/männlich/Ausländer/in",
          "WBev nach Stadtkreis, Quartier und Alter/Kreis 12/Hirzenbach/männlich/Ausländer/in",
          "WBev nach Stadtkreis, Quartier und Alter/Kreis 7/Hottingen/männlich/Ausländer/in",
          "WBev nach Stadtkreis, Quartier und Alter/Kreis 10/Höngg/männlich/Ausländer/in",
          "WBev nach Stadtkreis, Quartier und Alter/Kreis 4/Langstrasse/männlich/Ausländer/in",
          "WBev nach Stadtkreis, Quartier und Alter/Kreis 2/Leimbach/männlich/Ausländer/in",
          "WBev nach Stadtkreis, Quartier und Alter/Kreis 8/Mühlebach/männlich/Ausländer/in",
          "WBev nach Stadtkreis, Quartier und Alter/Kreis 6/Oberstrass/männlich/Ausländer/in",
          "WBev nach Stadtkreis, Quartier und Alter/Kreis 11/Oerlikon/männlich/Ausländer/in",
          "WBev nach Stadtkreis, Quartier und Alter/Kreis 1/Rathaus/männlich/Ausländer/in",
          "WBev nach Stadtkreis, Quartier und Alter/Kreis 12/Saatlen/männlich/Ausländer/in",
          "WBev nach Stadtkreis, Quartier und Alter/Kreis 12/Schwamendingen-Mitte/männlich/Ausländer/in",
          "WBev nach Stadtkreis, Quartier und Alter/Kreis 11/Seebach/männlich/Ausländer/in",
          "WBev nach Stadtkreis, Quartier und Alter/Kreis 8/Seefeld/männlich/Ausländer/in",
          "WBev nach Stadtkreis, Quartier und Alter/Kreis 3/Sihlfeld/männlich/Ausländer/in",
          "WBev nach Stadtkreis, Quartier und Alter/Kreis 6/Unterstrass/männlich/Ausländer/in",
          "WBev nach Stadtkreis, Quartier und Alter/Kreis 8/Weinegg/männlich/Ausländer/in",
          "WBev nach Stadtkreis, Quartier und Alter/Kreis 4/Werd/männlich/Ausländer/in",
          "WBev nach Stadtkreis, Quartier und Alter/Kreis 10/Wipkingen/männlich/Ausländer/in",
          "WBev nach Stadtkreis, Quartier und Alter/Kreis 7/Witikon/männlich/Ausländer/in",
          "WBev nach Stadtkreis, Quartier und Alter/Kreis 2/Wollishofen/männlich/Ausländer/in",
          "WBev nach Stadtkreis, Quartier und Alter/Kreis 11/Affoltern/weiblich/Ausländer/in",
          "WBev nach Stadtkreis, Quartier und Alter/Kreis 9/Albisrieden/weiblich/Ausländer/in",
          "WBev nach Stadtkreis, Quartier und Alter/Kreis 3/Alt-Wiedikon/weiblich/Ausländer/in",
          "WBev nach Stadtkreis, Quartier und Alter/Kreis 9/Altstetten/weiblich/Ausländer/in",
          "WBev nach Stadtkreis, Quartier und Alter/Kreis 1/City/weiblich/Ausländer/in",
          "WBev nach Stadtkreis, Quartier und Alter/Kreis 2/Enge/weiblich/Ausländer/in",
          "WBev nach Stadtkreis, Quartier und Alter/Kreis 5/Escher Wyss/weiblich/Ausländer/in",
          "WBev nach Stadtkreis, Quartier und Alter/Kreis 7/Fluntern/weiblich/Ausländer/in",
          "WBev nach Stadtkreis, Quartier und Alter/Kreis 3/Friesenberg/weiblich/Ausländer/in",
          "WBev nach Stadtkreis, Quartier und Alter/Kreis 5/Gewerbeschule/weiblich/Ausländer/in",
          "WBev nach Stadtkreis, Quartier und Alter/Kreis 4/Hard/weiblich/Ausländer/in",
          "WBev nach Stadtkreis, Quartier und Alter/Kreis 7/Hirslanden/weiblich/Ausländer/in",
          "WBev nach Stadtkreis, Quartier und Alter/Kreis 12/Hirzenbach/weiblich/Ausländer/in",
          "WBev nach Stadtkreis, Quartier und Alter/Kreis 7/Hottingen/weiblich/Ausländer/in",
          "WBev nach Stadtkreis, Quartier und Alter/Kreis 10/Höngg/weiblich/Ausländer/in",
          "WBev nach Stadtkreis, Quartier und Alter/Kreis 4/Langstrasse/weiblich/Ausländer/in",
          "WBev nach Stadtkreis, Quartier und Alter/Kreis 2/Leimbach/weiblich/Ausländer/in",
          "WBev nach Stadtkreis, Quartier und Alter/Kreis 1/Lindenhof/weiblich/Ausländer/in",
          "WBev nach Stadtkreis, Quartier und Alter/Kreis 8/Mühlebach/weiblich/Ausländer/in",
          "WBev nach Stadtkreis, Quartier und Alter/Kreis 6/Oberstrass/weiblich/Ausländer/in",
          "WBev nach Stadtkreis, Quartier und Alter/Kreis 11/Oerlikon/weiblich/Ausländer/in",
          "WBev nach Stadtkreis, Quartier und Alter/Kreis 1/Rathaus/weiblich/Ausländer/in",
          "WBev nach Stadtkreis, Quartier und Alter/Kreis 12/Saatlen/weiblich/Ausländer/in",
          "WBev nach Stadtkreis, Quartier und Alter/Kreis 12/Schwamendingen-Mitte/weiblich/Ausländer/in",
          "WBev nach Stadtkreis, Quartier und Alter/Kreis 11/Seebach/weiblich/Ausländer/in",
          "WBev nach Stadtkreis, Quartier und Alter/Kreis 8/Seefeld/weiblich/Ausländer/in",
          "WBev nach Stadtkreis, Quartier und Alter/Kreis 3/Sihlfeld/weiblich/Ausländer/in",
          "WBev nach Stadtkreis, Quartier und Alter/Kreis 6/Unterstrass/weiblich/Ausländer/in",
          "WBev nach Stadtkreis, Quartier und Alter/Kreis 8/Weinegg/weiblich/Ausländer/in",
          "WBev nach Stadtkreis, Quartier und Alter/Kreis 4/Werd/weiblich/Ausländer/in",
          "WBev nach Stadtkreis, Quartier und Alter/Kreis 10/Wipkingen/weiblich/Ausländer/in",
          "WBev nach Stadtkreis, Quartier und Alter/Kreis 7/Witikon/weiblich/Ausländer/in",
          "WBev nach Stadtkreis, Quartier und Alter/Kreis 2/Wollishofen/weiblich/Ausländer/in",
          "WBev nach Stadtkreis, Quartier und Alter/Kreis 11/Affoltern/männlich/Schweizer/in",
          "WBev nach Stadtkreis, Quartier und Alter/Kreis 9/Albisrieden/männlich/Schweizer/in",
          "WBev nach Stadtkreis, Quartier und Alter/Kreis 3/Alt-Wiedikon/männlich/Schweizer/in",
          "WBev nach Stadtkreis, Quartier und Alter/Kreis 9/Altstetten/männlich/Schweizer/in",
          "WBev nach Stadtkreis, Quartier und Alter/Kreis 1/City/männlich/Schweizer/in",
          "WBev nach Stadtkreis, Quartier und Alter/Kreis 2/Enge/männlich/Schweizer/in",
          "WBev nach Stadtkreis, Quartier und Alter/Kreis 5/Escher Wyss/männlich/Schweizer/in",
          "WBev nach Stadtkreis, Quartier und Alter/Kreis 7/Fluntern/männlich/Schweizer/in",
          "WBev nach Stadtkreis, Quartier und Alter/Kreis 3/Friesenberg/männlich/Schweizer/in",
          "WBev nach Stadtkreis, Quartier und Alter/Kreis 5/Gewerbeschule/männlich/Schweizer/in",
          "WBev nach Stadtkreis, Quartier und Alter/Kreis 4/Hard/männlich/Schweizer/in",
          "WBev nach Stadtkreis, Quartier und Alter/Kreis 7/Hirslanden/männlich/Schweizer/in",
          "WBev nach Stadtkreis, Quartier und Alter/Kreis 12/Hirzenbach/männlich/Schweizer/in",
          "WBev nach Stadtkreis, Quartier und Alter/Kreis 1/Hochschulen/männlich/Schweizer/in",
          "WBev nach Stadtkreis, Quartier und Alter/Kreis 7/Hottingen/männlich/Schweizer/in",
          "WBev nach Stadtkreis, Quartier und Alter/Kreis 10/Höngg/männlich/Schweizer/in",
          "WBev nach Stadtkreis, Quartier und Alter/Kreis 4/Langstrasse/männlich/Schweizer/in",
          "WBev nach Stadtkreis, Quartier und Alter/Kreis 2/Leimbach/männlich/Schweizer/in",
          "WBev nach Stadtkreis, Quartier und Alter/Kreis 1/Lindenhof/männlich/Schweizer/in",
          "WBev nach Stadtkreis, Quartier und Alter/Kreis 8/Mühlebach/männlich/Schweizer/in",
          "WBev nach Stadtkreis, Quartier und Alter/Kreis 6/Oberstrass/männlich/Schweizer/in",
          "WBev nach Stadtkreis, Quartier und Alter/Kreis 11/Oerlikon/männlich/Schweizer/in",
          "WBev nach Stadtkreis, Quartier und Alter/Kreis 1/Rathaus/männlich/Schweizer/in",
          "WBev nach Stadtkreis, Quartier und Alter/Kreis 12/Saatlen/männlich/Schweizer/in",
          "WBev nach Stadtkreis, Quartier und Alter/Kreis 12/Schwamendingen-Mitte/männlich/Schweizer/in",
          "WBev nach Stadtkreis, Quartier und Alter/Kreis 11/Seebach/männlich/Schweizer/in",
          "WBev nach Stadtkreis, Quartier und Alter/Kreis 8/Seefeld/männlich/Schweizer/in",
          "WBev nach Stadtkreis, Quartier und Alter/Kreis 3/Sihlfeld/männlich/Schweizer/in",
          "WBev nach Stadtkreis, Quartier und Alter/Kreis 6/Unterstrass/männlich/Schweizer/in",
          "WBev nach Stadtkreis, Quartier und Alter/Kreis 8/Weinegg/männlich/Schweizer/in",
          "WBev nach Stadtkreis, Quartier und Alter/Kreis 4/Werd/männlich/Schweizer/in",
          "WBev nach Stadtkreis, Quartier und Alter/Kreis 10/Wipkingen/männlich/Schweizer/in",
          "WBev nach Stadtkreis, Quartier und Alter/Kreis 7/Witikon/männlich/Schweizer/in",
          "WBev nach Stadtkreis, Quartier und Alter/Kreis 2/Wollishofen/männlich/Schweizer/in",
          "WBev nach Stadtkreis, Quartier und Alter/Kreis 11/Affoltern/weiblich/Schweizer/in",
          "WBev nach Stadtkreis, Quartier und Alter/Kreis 9/Albisrieden/weiblich/Schweizer/in",
          "WBev nach Stadtkreis, Quartier und Alter/Kreis 3/Alt-Wiedikon/weiblich/Schweizer/in",
          "WBev nach Stadtkreis, Quartier und Alter/Kreis 9/Altstetten/weiblich/Schweizer/in",
          "WBev nach Stadtkreis, Quartier und Alter/Kreis 2/Enge/weiblich/Schweizer/in",
          "WBev nach Stadtkreis, Quartier und Alter/Kreis 5/Escher Wyss/weiblich/Schweizer/in",
          "WBev nach Stadtkreis, Quartier und Alter/Kreis 7/Fluntern/weiblich/Schweizer/in",
          "WBev nach Stadtkreis, Quartier und Alter/Kreis 3/Friesenberg/weiblich/Schweizer/in",
          "WBev nach Stadtkreis, Quartier und Alter/Kreis 5/Gewerbeschule/weiblich/Schweizer/in",
          "WBev nach Stadtkreis, Quartier und Alter/Kreis 4/Hard/weiblich/Schweizer/in",
          "WBev nach Stadtkreis, Quartier und Alter/Kreis 7/Hirslanden/weiblich/Schweizer/in",
          "WBev nach Stadtkreis, Quartier und Alter/Kreis 12/Hirzenbach/weiblich/Schweizer/in",
          "WBev nach Stadtkreis, Quartier und Alter/Kreis 7/Hottingen/weiblich/Schweizer/in",
          "WBev nach Stadtkreis, Quartier und Alter/Kreis 10/Höngg/weiblich/Schweizer/in",
          "WBev nach Stadtkreis, Quartier und Alter/Kreis 4/Langstrasse/weiblich/Schweizer/in",
          "WBev nach Stadtkreis, Quartier und Alter/Kreis 2/Leimbach/weiblich/Schweizer/in",
          "WBev nach Stadtkreis, Quartier und Alter/Kreis 1/Lindenhof/weiblich/Schweizer/in",
          "WBev nach Stadtkreis, Quartier und Alter/Kreis 8/Mühlebach/weiblich/Schweizer/in",
          "WBev nach Stadtkreis, Quartier und Alter/Kreis 6/Oberstrass/weiblich/Schweizer/in",
          "WBev nach Stadtkreis, Quartier und Alter/Kreis 11/Oerlikon/weiblich/Schweizer/in",
          "WBev nach Stadtkreis, Quartier und Alter/Kreis 1/Rathaus/weiblich/Schweizer/in",
          "WBev nach Stadtkreis, Quartier und Alter/Kreis 12/Saatlen/weiblich/Schweizer/in",
          "WBev nach Stadtkreis, Quartier und Alter/Kreis 12/Schwamendingen-Mitte/weiblich/Schweizer/in",
          "WBev nach Stadtkreis, Quartier und Alter/Kreis 11/Seebach/weiblich/Schweizer/in",
          "WBev nach Stadtkreis, Quartier und Alter/Kreis 8/Seefeld/weiblich/Schweizer/in",
          "WBev nach Stadtkreis, Quartier und Alter/Kreis 3/Sihlfeld/weiblich/Schweizer/in",
          "WBev nach Stadtkreis, Quartier und Alter/Kreis 6/Unterstrass/weiblich/Schweizer/in",
          "WBev nach Stadtkreis, Quartier und Alter/Kreis 8/Weinegg/weiblich/Schweizer/in",
          "WBev nach Stadtkreis, Quartier und Alter/Kreis 4/Werd/weiblich/Schweizer/in",
          "WBev nach Stadtkreis, Quartier und Alter/Kreis 10/Wipkingen/weiblich/Schweizer/in",
          "WBev nach Stadtkreis, Quartier und Alter/Kreis 7/Witikon/weiblich/Schweizer/in",
          "WBev nach Stadtkreis, Quartier und Alter/Kreis 2/Wollishofen/weiblich/Schweizer/in",
          "WBev nach Stadtkreis, Quartier und Alter/Kreis 11/Affoltern/männlich",
          "WBev nach Stadtkreis, Quartier und Alter/Kreis 9/Albisrieden/männlich",
          "WBev nach Stadtkreis, Quartier und Alter/Kreis 3/Alt-Wiedikon/männlich",
          "WBev nach Stadtkreis, Quartier und Alter/Kreis 9/Altstetten/männlich",
          "WBev nach Stadtkreis, Quartier und Alter/Kreis 1/City/männlich",
          "WBev nach Stadtkreis, Quartier und Alter/Kreis 2/Enge/männlich",
          "WBev nach Stadtkreis, Quartier und Alter/Kreis 5/Escher Wyss/männlich",
          "WBev nach Stadtkreis, Quartier und Alter/Kreis 7/Fluntern/männlich",
          "WBev nach Stadtkreis, Quartier und Alter/Kreis 3/Friesenberg/männlich",
          "WBev nach Stadtkreis, Quartier und Alter/Kreis 5/Gewerbeschule/männlich",
          "WBev nach Stadtkreis, Quartier und Alter/Kreis 4/Hard/männlich",
          "WBev nach Stadtkreis, Quartier und Alter/Kreis 7/Hirslanden/männlich",
          "WBev nach Stadtkreis, Quartier und Alter/Kreis 12/Hirzenbach/männlich",
          "WBev nach Stadtkreis, Quartier und Alter/Kreis 1/Hochschulen/männlich",
          "WBev nach Stadtkreis, Quartier und Alter/Kreis 7/Hottingen/männlich",
          "WBev nach Stadtkreis, Quartier und Alter/Kreis 10/Höngg/männlich",
          "WBev nach Stadtkreis, Quartier und Alter/Kreis 4/Langstrasse/männlich",
          "WBev nach Stadtkreis, Quartier und Alter/Kreis 2/Leimbach/männlich",
          "WBev nach Stadtkreis, Quartier und Alter/Kreis 1/Lindenhof/männlich",
          "WBev nach Stadtkreis, Quartier und Alter/Kreis 8/Mühlebach/männlich",
          "WBev nach Stadtkreis, Quartier und Alter/Kreis 6/Oberstrass/männlich",
          "WBev nach Stadtkreis, Quartier und Alter/Kreis 11/Oerlikon/männlich",
          "WBev nach Stadtkreis, Quartier und Alter/Kreis 1/Rathaus/männlich",
          "WBev nach Stadtkreis, Quartier und Alter/Kreis 12/Saatlen/männlich",
          "WBev nach Stadtkreis, Quartier und Alter/Kreis 12/Schwamendingen-Mitte/männlich",
          "WBev nach Stadtkreis, Quartier und Alter/Kreis 11/Seebach/männlich",
          "WBev nach Stadtkreis, Quartier und Alter/Kreis 8/Seefeld/männlich",
          "WBev nach Stadtkreis, Quartier und Alter/Kreis 3/Sihlfeld/männlich",
          "WBev nach Stadtkreis, Quartier und Alter/Kreis 6/Unterstrass/männlich",
          "WBev nach Stadtkreis, Quartier und Alter/Kreis 8/Weinegg/männlich",
          "WBev nach Stadtkreis, Quartier und Alter/Kreis 4/Werd/männlich",
          "WBev nach Stadtkreis, Quartier und Alter/Kreis 10/Wipkingen/männlich",
          "WBev nach Stadtkreis, Quartier und Alter/Kreis 7/Witikon/männlich",
          "WBev nach Stadtkreis, Quartier und Alter/Kreis 2/Wollishofen/männlich",
          "WBev nach Stadtkreis, Quartier und Alter/Kreis 11/Affoltern/weiblich",
          "WBev nach Stadtkreis, Quartier und Alter/Kreis 9/Albisrieden/weiblich",
          "WBev nach Stadtkreis, Quartier und Alter/Kreis 3/Alt-Wiedikon/weiblich",
          "WBev nach Stadtkreis, Quartier und Alter/Kreis 9/Altstetten/weiblich",
          "WBev nach Stadtkreis, Quartier und Alter/Kreis 1/City/weiblich",
          "WBev nach Stadtkreis, Quartier und Alter/Kreis 2/Enge/weiblich",
          "WBev nach Stadtkreis, Quartier und Alter/Kreis 5/Escher Wyss/weiblich",
          "WBev nach Stadtkreis, Quartier und Alter/Kreis 7/Fluntern/weiblich",
          "WBev nach Stadtkreis, Quartier und Alter/Kreis 3/Friesenberg/weiblich",
          "WBev nach Stadtkreis, Quartier und Alter/Kreis 5/Gewerbeschule/weiblich",
          "WBev nach Stadtkreis, Quartier und Alter/Kreis 4/Hard/weiblich",
          "WBev nach Stadtkreis, Quartier und Alter/Kreis 7/Hirslanden/weiblich",
          "WBev nach Stadtkreis, Quartier und Alter/Kreis 12/Hirzenbach/weiblich",
          "WBev nach Stadtkreis, Quartier und Alter/Kreis 7/Hottingen/weiblich",
          "WBev nach Stadtkreis, Quartier und Alter/Kreis 10/Höngg/weiblich",
          "WBev nach Stadtkreis, Quartier und Alter/Kreis 4/Langstrasse/weiblich",
          "WBev nach Stadtkreis, Quartier und Alter/Kreis 2/Leimbach/weiblich",
          "WBev nach Stadtkreis, Quartier und Alter/Kreis 1/Lindenhof/weiblich",
          "WBev nach Stadtkreis, Quartier und Alter/Kreis 8/Mühlebach/weiblich",
          "WBev nach Stadtkreis, Quartier und Alter/Kreis 6/Oberstrass/weiblich",
          "WBev nach Stadtkreis, Quartier und Alter/Kreis 11/Oerlikon/weiblich",
          "WBev nach Stadtkreis, Quartier und Alter/Kreis 1/Rathaus/weiblich",
          "WBev nach Stadtkreis, Quartier und Alter/Kreis 12/Saatlen/weiblich",
          "WBev nach Stadtkreis, Quartier und Alter/Kreis 12/Schwamendingen-Mitte/weiblich",
          "WBev nach Stadtkreis, Quartier und Alter/Kreis 11/Seebach/weiblich",
          "WBev nach Stadtkreis, Quartier und Alter/Kreis 8/Seefeld/weiblich",
          "WBev nach Stadtkreis, Quartier und Alter/Kreis 3/Sihlfeld/weiblich",
          "WBev nach Stadtkreis, Quartier und Alter/Kreis 6/Unterstrass/weiblich",
          "WBev nach Stadtkreis, Quartier und Alter/Kreis 8/Weinegg/weiblich",
          "WBev nach Stadtkreis, Quartier und Alter/Kreis 4/Werd/weiblich",
          "WBev nach Stadtkreis, Quartier und Alter/Kreis 10/Wipkingen/weiblich",
          "WBev nach Stadtkreis, Quartier und Alter/Kreis 7/Witikon/weiblich",
          "WBev nach Stadtkreis, Quartier und Alter/Kreis 2/Wollishofen/weiblich",
          "WBev nach Stadtkreis, Quartier und Alter/Kreis 11/Affoltern",
          "WBev nach Stadtkreis, Quartier und Alter/Kreis 9/Albisrieden",
          "WBev nach Stadtkreis, Quartier und Alter/Kreis 3/Alt-Wiedikon",
          "WBev nach Stadtkreis, Quartier und Alter/Kreis 9/Altstetten",
          "WBev nach Stadtkreis, Quartier und Alter/Kreis 1/City",
          "WBev nach Stadtkreis, Quartier und Alter/Kreis 2/Enge",
          "WBev nach Stadtkreis, Quartier und Alter/Kreis 5/Escher Wyss",
          "WBev nach Stadtkreis, Quartier und Alter/Kreis 7/Fluntern",
          "WBev nach Stadtkreis, Quartier und Alter/Kreis 3/Friesenberg",
          "WBev nach Stadtkreis, Quartier und Alter/Kreis 5/Gewerbeschule",
          "WBev nach Stadtkreis, Quartier und Alter/Kreis 4/Hard",
          "WBev nach Stadtkreis, Quartier und Alter/Kreis 7/Hirslanden",
          "WBev nach Stadtkreis, Quartier und Alter/Kreis 12/Hirzenbach",
          "WBev nach Stadtkreis, Quartier und Alter/Kreis 1/Hochschulen",
          "WBev nach Stadtkreis, Quartier und Alter/Kreis 7/Hottingen",
          "WBev nach Stadtkreis, Quartier und Alter/Kreis 10/Höngg",
          "WBev nach Stadtkreis, Quartier und Alter/Kreis 4/Langstrasse",
          "WBev nach Stadtkreis, Quartier und Alter/Kreis 2/Leimbach",
          "WBev nach Stadtkreis, Quartier und Alter/Kreis 1/Lindenhof",
          "WBev nach Stadtkreis, Quartier und Alter/Kreis 8/Mühlebach",
          "WBev nach Stadtkreis, Quartier und Alter/Kreis 6/Oberstrass",
          "WBev nach Stadtkreis, Quartier und Alter/Kreis 11/Oerlikon",
          "WBev nach Stadtkreis, Quartier und Alter/Kreis 1/Rathaus",
          "WBev nach Stadtkreis, Quartier und Alter/Kreis 12/Saatlen",
          "WBev nach Stadtkreis, Quartier und Alter/Kreis 12/Schwamendingen-Mitte",
          "WBev nach Stadtkreis, Quartier und Alter/Kreis 11/Seebach",
          "WBev nach Stadtkreis, Quartier und Alter/Kreis 8/Seefeld",
          "WBev nach Stadtkreis, Quartier und Alter/Kreis 3/Sihlfeld",
          "WBev nach Stadtkreis, Quartier und Alter/Kreis 6/Unterstrass",
          "WBev nach Stadtkreis, Quartier und Alter/Kreis 8/Weinegg",
          "WBev nach Stadtkreis, Quartier und Alter/Kreis 4/Werd",
          "WBev nach Stadtkreis, Quartier und Alter/Kreis 10/Wipkingen",
          "WBev nach Stadtkreis, Quartier und Alter/Kreis 7/Witikon",
          "WBev nach Stadtkreis, Quartier und Alter/Kreis 2/Wollishofen",
          "WBev nach Stadtkreis, Quartier und Alter/Kreis 1",
          "WBev nach Stadtkreis, Quartier und Alter/Kreis 10",
          "WBev nach Stadtkreis, Quartier und Alter/Kreis 11",
          "WBev nach Stadtkreis, Quartier und Alter/Kreis 12",
          "WBev nach Stadtkreis, Quartier und Alter/Kreis 2",
          "WBev nach Stadtkreis, Quartier und Alter/Kreis 3",
          "WBev nach Stadtkreis, Quartier und Alter/Kreis 4",
          "WBev nach Stadtkreis, Quartier und Alter/Kreis 5",
          "WBev nach Stadtkreis, Quartier und Alter/Kreis 6",
          "WBev nach Stadtkreis, Quartier und Alter/Kreis 7",
          "WBev nach Stadtkreis, Quartier und Alter/Kreis 8",
          "WBev nach Stadtkreis, Quartier und Alter/Kreis 9",
          "WBev nach Stadtkreis, Quartier und Alter"
         ],
         "labels": [
          "Ausländer/in",
          "Ausländer/in",
          "Ausländer/in",
          "Ausländer/in",
          "Ausländer/in",
          "Ausländer/in",
          "Ausländer/in",
          "Ausländer/in",
          "Ausländer/in",
          "Ausländer/in",
          "Ausländer/in",
          "Ausländer/in",
          "Ausländer/in",
          "Ausländer/in",
          "Ausländer/in",
          "Ausländer/in",
          "Ausländer/in",
          "Ausländer/in",
          "Ausländer/in",
          "Ausländer/in",
          "Ausländer/in",
          "Ausländer/in",
          "Ausländer/in",
          "Ausländer/in",
          "Ausländer/in",
          "Ausländer/in",
          "Ausländer/in",
          "Ausländer/in",
          "Ausländer/in",
          "Ausländer/in",
          "Ausländer/in",
          "Ausländer/in",
          "Ausländer/in",
          "Ausländer/in",
          "Ausländer/in",
          "Ausländer/in",
          "Ausländer/in",
          "Ausländer/in",
          "Ausländer/in",
          "Ausländer/in",
          "Ausländer/in",
          "Ausländer/in",
          "Ausländer/in",
          "Ausländer/in",
          "Ausländer/in",
          "Ausländer/in",
          "Ausländer/in",
          "Ausländer/in",
          "Ausländer/in",
          "Ausländer/in",
          "Ausländer/in",
          "Ausländer/in",
          "Ausländer/in",
          "Ausländer/in",
          "Ausländer/in",
          "Ausländer/in",
          "Ausländer/in",
          "Ausländer/in",
          "Ausländer/in",
          "Ausländer/in",
          "Ausländer/in",
          "Ausländer/in",
          "Ausländer/in",
          "Ausländer/in",
          "Ausländer/in",
          "Schweizer/in",
          "Schweizer/in",
          "Schweizer/in",
          "Schweizer/in",
          "Schweizer/in",
          "Schweizer/in",
          "Schweizer/in",
          "Schweizer/in",
          "Schweizer/in",
          "Schweizer/in",
          "Schweizer/in",
          "Schweizer/in",
          "Schweizer/in",
          "Schweizer/in",
          "Schweizer/in",
          "Schweizer/in",
          "Schweizer/in",
          "Schweizer/in",
          "Schweizer/in",
          "Schweizer/in",
          "Schweizer/in",
          "Schweizer/in",
          "Schweizer/in",
          "Schweizer/in",
          "Schweizer/in",
          "Schweizer/in",
          "Schweizer/in",
          "Schweizer/in",
          "Schweizer/in",
          "Schweizer/in",
          "Schweizer/in",
          "Schweizer/in",
          "Schweizer/in",
          "Schweizer/in",
          "Schweizer/in",
          "Schweizer/in",
          "Schweizer/in",
          "Schweizer/in",
          "Schweizer/in",
          "Schweizer/in",
          "Schweizer/in",
          "Schweizer/in",
          "Schweizer/in",
          "Schweizer/in",
          "Schweizer/in",
          "Schweizer/in",
          "Schweizer/in",
          "Schweizer/in",
          "Schweizer/in",
          "Schweizer/in",
          "Schweizer/in",
          "Schweizer/in",
          "Schweizer/in",
          "Schweizer/in",
          "Schweizer/in",
          "Schweizer/in",
          "Schweizer/in",
          "Schweizer/in",
          "Schweizer/in",
          "Schweizer/in",
          "Schweizer/in",
          "Schweizer/in",
          "Schweizer/in",
          "Schweizer/in",
          "Schweizer/in",
          "Schweizer/in",
          "männlich",
          "männlich",
          "männlich",
          "männlich",
          "männlich",
          "männlich",
          "männlich",
          "männlich",
          "männlich",
          "männlich",
          "männlich",
          "männlich",
          "männlich",
          "männlich",
          "männlich",
          "männlich",
          "männlich",
          "männlich",
          "männlich",
          "männlich",
          "männlich",
          "männlich",
          "männlich",
          "männlich",
          "männlich",
          "männlich",
          "männlich",
          "männlich",
          "männlich",
          "männlich",
          "männlich",
          "männlich",
          "männlich",
          "männlich",
          "weiblich",
          "weiblich",
          "weiblich",
          "weiblich",
          "weiblich",
          "weiblich",
          "weiblich",
          "weiblich",
          "weiblich",
          "weiblich",
          "weiblich",
          "weiblich",
          "weiblich",
          "weiblich",
          "weiblich",
          "weiblich",
          "weiblich",
          "weiblich",
          "weiblich",
          "weiblich",
          "weiblich",
          "weiblich",
          "weiblich",
          "weiblich",
          "weiblich",
          "weiblich",
          "weiblich",
          "weiblich",
          "weiblich",
          "weiblich",
          "weiblich",
          "weiblich",
          "weiblich",
          "Affoltern",
          "Albisrieden",
          "Alt-Wiedikon",
          "Altstetten",
          "City",
          "Enge",
          "Escher Wyss",
          "Fluntern",
          "Friesenberg",
          "Gewerbeschule",
          "Hard",
          "Hirslanden",
          "Hirzenbach",
          "Hochschulen",
          "Hottingen",
          "Höngg",
          "Langstrasse",
          "Leimbach",
          "Lindenhof",
          "Mühlebach",
          "Oberstrass",
          "Oerlikon",
          "Rathaus",
          "Saatlen",
          "Schwamendingen-Mitte",
          "Seebach",
          "Seefeld",
          "Sihlfeld",
          "Unterstrass",
          "Weinegg",
          "Werd",
          "Wipkingen",
          "Witikon",
          "Wollishofen",
          "Kreis 1",
          "Kreis 10",
          "Kreis 11",
          "Kreis 12",
          "Kreis 2",
          "Kreis 3",
          "Kreis 4",
          "Kreis 5",
          "Kreis 6",
          "Kreis 7",
          "Kreis 8",
          "Kreis 9",
          "WBev nach Stadtkreis, Quartier und Alter"
         ],
         "marker": {
          "coloraxis": "coloraxis",
          "colors": [
           5.16,
           4.571428571428571,
           2.8260869565217392,
           7.878787878787879,
           1,
           3.8333333333333335,
           2.3333333333333335,
           2.625,
           1.5454545454545454,
           1.6153846153846154,
           1.5,
           1.9230769230769231,
           6.25,
           3.9473684210526314,
           2.4782608695652173,
           2.625,
           3,
           2.272727272727273,
           2,
           6.3090909090909095,
           1,
           1.8,
           3.5294117647058822,
           7.242424242424242,
           3.48,
           4.733333333333333,
           4.105263157894737,
           1.6,
           2,
           3.64,
           3.1,
           5.37037037037037,
           6.678571428571429,
           6.866666666666666,
           3.923076923076923,
           5.25531914893617,
           1,
           5.3428571428571425,
           2.125,
           1.3333333333333333,
           2.272727272727273,
           1.7272727272727273,
           2.2941176470588234,
           2,
           3.6666666666666665,
           2.764705882352941,
           3.9714285714285715,
           1.8333333333333333,
           3,
           2,
           2,
           2.125,
           6.892857142857143,
           3.4,
           1.8888888888888888,
           4.542857142857143,
           8.272727272727273,
           2.230769230769231,
           5.303030303030303,
           3.5925925925925926,
           2.272727272727273,
           2.2,
           4.75,
           1.9411764705882353,
           4.771428571428571,
           8.604651162790697,
           10.174311926605505,
           8.289473684210526,
           11.76271186440678,
           1,
           5.679245283018868,
           3.9714285714285715,
           3.4827586206896552,
           2.8181818181818183,
           3.3448275862068964,
           6.586206896551724,
           4.125,
           4.826086956521739,
           1,
           4.463414634146342,
           10,
           5.36,
           2.4444444444444446,
           1,
           2.4,
           4.578947368421052,
           8.358024691358025,
           1.5,
           4.794871794871795,
           3.7333333333333334,
           8.261904761904763,
           2.76,
           10.333333333333334,
           10.056603773584905,
           4.043478260869565,
           3.5454545454545454,
           8.275,
           4.371428571428571,
           8.270588235294118,
           8.170731707317072,
           9.88888888888889,
           7,
           13.34074074074074,
           5.363636363636363,
           4.7073170731707314,
           3.4,
           2.5,
           4.9,
           5.377358490566038,
           3.7096774193548385,
           6.419354838709677,
           5.666666666666667,
           10.481481481481481,
           6.4,
           2.411764705882353,
           1,
           4.916666666666667,
           4.375,
           7.235294117647059,
           1.3333333333333333,
           4,
           3,
           8.160493827160494,
           2.8095238095238093,
           10.26086956521739,
           11.295652173913043,
           2.066666666666667,
           3.090909090909091,
           8.146341463414634,
           3.08,
           9.195652173913043,
           7.338235294117647,
           8.6158940397351,
           7.02020202020202,
           10.369565217391305,
           1,
           4.932584269662922,
           3.357142857142857,
           3.1777777777777776,
           2.393939393939394,
           2.8095238095238093,
           5.714285714285714,
           3.488888888888889,
           5.488372093023256,
           1,
           4.3,
           8.546218487394958,
           4.696969696969697,
           2.72972972972973,
           1,
           2.3548387096774195,
           3.8846153846153846,
           7.529411764705882,
           1.3333333333333333,
           4.454545454545454,
           3.625,
           7.8133333333333335,
           3.12,
           8.507246376811594,
           8.48611111111111,
           3.303030303030303,
           3.2142857142857144,
           7.171428571428572,
           3.909090909090909,
           7.143884892086331,
           7.565217391304348,
           9.186046511627907,
           6.101123595505618,
           11.252747252747254,
           1,
           5.355555555555555,
           3.982456140350877,
           3.0555555555555554,
           2.4193548387096775,
           4.215686274509804,
           4.628571428571429,
           3.2325581395348837,
           5.584269662921348,
           4.9411764705882355,
           8.888111888111888,
           5.638888888888889,
           2.7142857142857144,
           1.5,
           3.8421052631578947,
           3.625,
           7.080645161290323,
           2.272727272727273,
           3.558139534883721,
           3.9152542372881354,
           8.210884353741497,
           2.588235294117647,
           8.952,
           9.830985915492958,
           2.1538461538461537,
           2.8125,
           7.377358490566038,
           2.619047619047619,
           7.9763779527559056,
           7.452554744525547,
           8.878571428571428,
           6.585106382978723,
           10.808743169398907,
           1,
           5.145251396648045,
           3.672566371681416,
           3.123456790123457,
           2.40625,
           3.5806451612903225,
           5.171428571428572,
           3.3636363636363638,
           5.537142857142857,
           1,
           4.640625,
           8.732824427480915,
           5.188405797101449,
           2.7222222222222223,
           1.4,
           3.1739130434782608,
           3.76,
           7.315384615384615,
           1.9411764705882353,
           4.011494252873563,
           3.7642276422764227,
           8.01010101010101,
           2.9047619047619047,
           8.718631178707223,
           9.153846153846153,
           2.7966101694915255,
           3,
           7.274881516587678,
           3.350515463917526,
           7.541353383458647,
           1.5806451612903225,
           8.08245243128964,
           7.6089049338146815,
           4.625974025974026,
           6.040618955512572,
           7.155339805825243,
           4.792899408284024,
           3.6310679611650487,
           7.756476683937824,
           3.7258883248730963,
           2.9622641509433962,
           9.972136222910217,
           6.62423996757195
          ]
         },
         "name": "",
         "parents": [
          "WBev nach Stadtkreis, Quartier und Alter/Kreis 11/Affoltern/männlich",
          "WBev nach Stadtkreis, Quartier und Alter/Kreis 9/Albisrieden/männlich",
          "WBev nach Stadtkreis, Quartier und Alter/Kreis 3/Alt-Wiedikon/männlich",
          "WBev nach Stadtkreis, Quartier und Alter/Kreis 9/Altstetten/männlich",
          "WBev nach Stadtkreis, Quartier und Alter/Kreis 1/City/männlich",
          "WBev nach Stadtkreis, Quartier und Alter/Kreis 2/Enge/männlich",
          "WBev nach Stadtkreis, Quartier und Alter/Kreis 5/Escher Wyss/männlich",
          "WBev nach Stadtkreis, Quartier und Alter/Kreis 7/Fluntern/männlich",
          "WBev nach Stadtkreis, Quartier und Alter/Kreis 3/Friesenberg/männlich",
          "WBev nach Stadtkreis, Quartier und Alter/Kreis 5/Gewerbeschule/männlich",
          "WBev nach Stadtkreis, Quartier und Alter/Kreis 4/Hard/männlich",
          "WBev nach Stadtkreis, Quartier und Alter/Kreis 7/Hirslanden/männlich",
          "WBev nach Stadtkreis, Quartier und Alter/Kreis 12/Hirzenbach/männlich",
          "WBev nach Stadtkreis, Quartier und Alter/Kreis 7/Hottingen/männlich",
          "WBev nach Stadtkreis, Quartier und Alter/Kreis 10/Höngg/männlich",
          "WBev nach Stadtkreis, Quartier und Alter/Kreis 4/Langstrasse/männlich",
          "WBev nach Stadtkreis, Quartier und Alter/Kreis 2/Leimbach/männlich",
          "WBev nach Stadtkreis, Quartier und Alter/Kreis 8/Mühlebach/männlich",
          "WBev nach Stadtkreis, Quartier und Alter/Kreis 6/Oberstrass/männlich",
          "WBev nach Stadtkreis, Quartier und Alter/Kreis 11/Oerlikon/männlich",
          "WBev nach Stadtkreis, Quartier und Alter/Kreis 1/Rathaus/männlich",
          "WBev nach Stadtkreis, Quartier und Alter/Kreis 12/Saatlen/männlich",
          "WBev nach Stadtkreis, Quartier und Alter/Kreis 12/Schwamendingen-Mitte/männlich",
          "WBev nach Stadtkreis, Quartier und Alter/Kreis 11/Seebach/männlich",
          "WBev nach Stadtkreis, Quartier und Alter/Kreis 8/Seefeld/männlich",
          "WBev nach Stadtkreis, Quartier und Alter/Kreis 3/Sihlfeld/männlich",
          "WBev nach Stadtkreis, Quartier und Alter/Kreis 6/Unterstrass/männlich",
          "WBev nach Stadtkreis, Quartier und Alter/Kreis 8/Weinegg/männlich",
          "WBev nach Stadtkreis, Quartier und Alter/Kreis 4/Werd/männlich",
          "WBev nach Stadtkreis, Quartier und Alter/Kreis 10/Wipkingen/männlich",
          "WBev nach Stadtkreis, Quartier und Alter/Kreis 7/Witikon/männlich",
          "WBev nach Stadtkreis, Quartier und Alter/Kreis 2/Wollishofen/männlich",
          "WBev nach Stadtkreis, Quartier und Alter/Kreis 11/Affoltern/weiblich",
          "WBev nach Stadtkreis, Quartier und Alter/Kreis 9/Albisrieden/weiblich",
          "WBev nach Stadtkreis, Quartier und Alter/Kreis 3/Alt-Wiedikon/weiblich",
          "WBev nach Stadtkreis, Quartier und Alter/Kreis 9/Altstetten/weiblich",
          "WBev nach Stadtkreis, Quartier und Alter/Kreis 1/City/weiblich",
          "WBev nach Stadtkreis, Quartier und Alter/Kreis 2/Enge/weiblich",
          "WBev nach Stadtkreis, Quartier und Alter/Kreis 5/Escher Wyss/weiblich",
          "WBev nach Stadtkreis, Quartier und Alter/Kreis 7/Fluntern/weiblich",
          "WBev nach Stadtkreis, Quartier und Alter/Kreis 3/Friesenberg/weiblich",
          "WBev nach Stadtkreis, Quartier und Alter/Kreis 5/Gewerbeschule/weiblich",
          "WBev nach Stadtkreis, Quartier und Alter/Kreis 4/Hard/weiblich",
          "WBev nach Stadtkreis, Quartier und Alter/Kreis 7/Hirslanden/weiblich",
          "WBev nach Stadtkreis, Quartier und Alter/Kreis 12/Hirzenbach/weiblich",
          "WBev nach Stadtkreis, Quartier und Alter/Kreis 7/Hottingen/weiblich",
          "WBev nach Stadtkreis, Quartier und Alter/Kreis 10/Höngg/weiblich",
          "WBev nach Stadtkreis, Quartier und Alter/Kreis 4/Langstrasse/weiblich",
          "WBev nach Stadtkreis, Quartier und Alter/Kreis 2/Leimbach/weiblich",
          "WBev nach Stadtkreis, Quartier und Alter/Kreis 1/Lindenhof/weiblich",
          "WBev nach Stadtkreis, Quartier und Alter/Kreis 8/Mühlebach/weiblich",
          "WBev nach Stadtkreis, Quartier und Alter/Kreis 6/Oberstrass/weiblich",
          "WBev nach Stadtkreis, Quartier und Alter/Kreis 11/Oerlikon/weiblich",
          "WBev nach Stadtkreis, Quartier und Alter/Kreis 1/Rathaus/weiblich",
          "WBev nach Stadtkreis, Quartier und Alter/Kreis 12/Saatlen/weiblich",
          "WBev nach Stadtkreis, Quartier und Alter/Kreis 12/Schwamendingen-Mitte/weiblich",
          "WBev nach Stadtkreis, Quartier und Alter/Kreis 11/Seebach/weiblich",
          "WBev nach Stadtkreis, Quartier und Alter/Kreis 8/Seefeld/weiblich",
          "WBev nach Stadtkreis, Quartier und Alter/Kreis 3/Sihlfeld/weiblich",
          "WBev nach Stadtkreis, Quartier und Alter/Kreis 6/Unterstrass/weiblich",
          "WBev nach Stadtkreis, Quartier und Alter/Kreis 8/Weinegg/weiblich",
          "WBev nach Stadtkreis, Quartier und Alter/Kreis 4/Werd/weiblich",
          "WBev nach Stadtkreis, Quartier und Alter/Kreis 10/Wipkingen/weiblich",
          "WBev nach Stadtkreis, Quartier und Alter/Kreis 7/Witikon/weiblich",
          "WBev nach Stadtkreis, Quartier und Alter/Kreis 2/Wollishofen/weiblich",
          "WBev nach Stadtkreis, Quartier und Alter/Kreis 11/Affoltern/männlich",
          "WBev nach Stadtkreis, Quartier und Alter/Kreis 9/Albisrieden/männlich",
          "WBev nach Stadtkreis, Quartier und Alter/Kreis 3/Alt-Wiedikon/männlich",
          "WBev nach Stadtkreis, Quartier und Alter/Kreis 9/Altstetten/männlich",
          "WBev nach Stadtkreis, Quartier und Alter/Kreis 1/City/männlich",
          "WBev nach Stadtkreis, Quartier und Alter/Kreis 2/Enge/männlich",
          "WBev nach Stadtkreis, Quartier und Alter/Kreis 5/Escher Wyss/männlich",
          "WBev nach Stadtkreis, Quartier und Alter/Kreis 7/Fluntern/männlich",
          "WBev nach Stadtkreis, Quartier und Alter/Kreis 3/Friesenberg/männlich",
          "WBev nach Stadtkreis, Quartier und Alter/Kreis 5/Gewerbeschule/männlich",
          "WBev nach Stadtkreis, Quartier und Alter/Kreis 4/Hard/männlich",
          "WBev nach Stadtkreis, Quartier und Alter/Kreis 7/Hirslanden/männlich",
          "WBev nach Stadtkreis, Quartier und Alter/Kreis 12/Hirzenbach/männlich",
          "WBev nach Stadtkreis, Quartier und Alter/Kreis 1/Hochschulen/männlich",
          "WBev nach Stadtkreis, Quartier und Alter/Kreis 7/Hottingen/männlich",
          "WBev nach Stadtkreis, Quartier und Alter/Kreis 10/Höngg/männlich",
          "WBev nach Stadtkreis, Quartier und Alter/Kreis 4/Langstrasse/männlich",
          "WBev nach Stadtkreis, Quartier und Alter/Kreis 2/Leimbach/männlich",
          "WBev nach Stadtkreis, Quartier und Alter/Kreis 1/Lindenhof/männlich",
          "WBev nach Stadtkreis, Quartier und Alter/Kreis 8/Mühlebach/männlich",
          "WBev nach Stadtkreis, Quartier und Alter/Kreis 6/Oberstrass/männlich",
          "WBev nach Stadtkreis, Quartier und Alter/Kreis 11/Oerlikon/männlich",
          "WBev nach Stadtkreis, Quartier und Alter/Kreis 1/Rathaus/männlich",
          "WBev nach Stadtkreis, Quartier und Alter/Kreis 12/Saatlen/männlich",
          "WBev nach Stadtkreis, Quartier und Alter/Kreis 12/Schwamendingen-Mitte/männlich",
          "WBev nach Stadtkreis, Quartier und Alter/Kreis 11/Seebach/männlich",
          "WBev nach Stadtkreis, Quartier und Alter/Kreis 8/Seefeld/männlich",
          "WBev nach Stadtkreis, Quartier und Alter/Kreis 3/Sihlfeld/männlich",
          "WBev nach Stadtkreis, Quartier und Alter/Kreis 6/Unterstrass/männlich",
          "WBev nach Stadtkreis, Quartier und Alter/Kreis 8/Weinegg/männlich",
          "WBev nach Stadtkreis, Quartier und Alter/Kreis 4/Werd/männlich",
          "WBev nach Stadtkreis, Quartier und Alter/Kreis 10/Wipkingen/männlich",
          "WBev nach Stadtkreis, Quartier und Alter/Kreis 7/Witikon/männlich",
          "WBev nach Stadtkreis, Quartier und Alter/Kreis 2/Wollishofen/männlich",
          "WBev nach Stadtkreis, Quartier und Alter/Kreis 11/Affoltern/weiblich",
          "WBev nach Stadtkreis, Quartier und Alter/Kreis 9/Albisrieden/weiblich",
          "WBev nach Stadtkreis, Quartier und Alter/Kreis 3/Alt-Wiedikon/weiblich",
          "WBev nach Stadtkreis, Quartier und Alter/Kreis 9/Altstetten/weiblich",
          "WBev nach Stadtkreis, Quartier und Alter/Kreis 2/Enge/weiblich",
          "WBev nach Stadtkreis, Quartier und Alter/Kreis 5/Escher Wyss/weiblich",
          "WBev nach Stadtkreis, Quartier und Alter/Kreis 7/Fluntern/weiblich",
          "WBev nach Stadtkreis, Quartier und Alter/Kreis 3/Friesenberg/weiblich",
          "WBev nach Stadtkreis, Quartier und Alter/Kreis 5/Gewerbeschule/weiblich",
          "WBev nach Stadtkreis, Quartier und Alter/Kreis 4/Hard/weiblich",
          "WBev nach Stadtkreis, Quartier und Alter/Kreis 7/Hirslanden/weiblich",
          "WBev nach Stadtkreis, Quartier und Alter/Kreis 12/Hirzenbach/weiblich",
          "WBev nach Stadtkreis, Quartier und Alter/Kreis 7/Hottingen/weiblich",
          "WBev nach Stadtkreis, Quartier und Alter/Kreis 10/Höngg/weiblich",
          "WBev nach Stadtkreis, Quartier und Alter/Kreis 4/Langstrasse/weiblich",
          "WBev nach Stadtkreis, Quartier und Alter/Kreis 2/Leimbach/weiblich",
          "WBev nach Stadtkreis, Quartier und Alter/Kreis 1/Lindenhof/weiblich",
          "WBev nach Stadtkreis, Quartier und Alter/Kreis 8/Mühlebach/weiblich",
          "WBev nach Stadtkreis, Quartier und Alter/Kreis 6/Oberstrass/weiblich",
          "WBev nach Stadtkreis, Quartier und Alter/Kreis 11/Oerlikon/weiblich",
          "WBev nach Stadtkreis, Quartier und Alter/Kreis 1/Rathaus/weiblich",
          "WBev nach Stadtkreis, Quartier und Alter/Kreis 12/Saatlen/weiblich",
          "WBev nach Stadtkreis, Quartier und Alter/Kreis 12/Schwamendingen-Mitte/weiblich",
          "WBev nach Stadtkreis, Quartier und Alter/Kreis 11/Seebach/weiblich",
          "WBev nach Stadtkreis, Quartier und Alter/Kreis 8/Seefeld/weiblich",
          "WBev nach Stadtkreis, Quartier und Alter/Kreis 3/Sihlfeld/weiblich",
          "WBev nach Stadtkreis, Quartier und Alter/Kreis 6/Unterstrass/weiblich",
          "WBev nach Stadtkreis, Quartier und Alter/Kreis 8/Weinegg/weiblich",
          "WBev nach Stadtkreis, Quartier und Alter/Kreis 4/Werd/weiblich",
          "WBev nach Stadtkreis, Quartier und Alter/Kreis 10/Wipkingen/weiblich",
          "WBev nach Stadtkreis, Quartier und Alter/Kreis 7/Witikon/weiblich",
          "WBev nach Stadtkreis, Quartier und Alter/Kreis 2/Wollishofen/weiblich",
          "WBev nach Stadtkreis, Quartier und Alter/Kreis 11/Affoltern",
          "WBev nach Stadtkreis, Quartier und Alter/Kreis 9/Albisrieden",
          "WBev nach Stadtkreis, Quartier und Alter/Kreis 3/Alt-Wiedikon",
          "WBev nach Stadtkreis, Quartier und Alter/Kreis 9/Altstetten",
          "WBev nach Stadtkreis, Quartier und Alter/Kreis 1/City",
          "WBev nach Stadtkreis, Quartier und Alter/Kreis 2/Enge",
          "WBev nach Stadtkreis, Quartier und Alter/Kreis 5/Escher Wyss",
          "WBev nach Stadtkreis, Quartier und Alter/Kreis 7/Fluntern",
          "WBev nach Stadtkreis, Quartier und Alter/Kreis 3/Friesenberg",
          "WBev nach Stadtkreis, Quartier und Alter/Kreis 5/Gewerbeschule",
          "WBev nach Stadtkreis, Quartier und Alter/Kreis 4/Hard",
          "WBev nach Stadtkreis, Quartier und Alter/Kreis 7/Hirslanden",
          "WBev nach Stadtkreis, Quartier und Alter/Kreis 12/Hirzenbach",
          "WBev nach Stadtkreis, Quartier und Alter/Kreis 1/Hochschulen",
          "WBev nach Stadtkreis, Quartier und Alter/Kreis 7/Hottingen",
          "WBev nach Stadtkreis, Quartier und Alter/Kreis 10/Höngg",
          "WBev nach Stadtkreis, Quartier und Alter/Kreis 4/Langstrasse",
          "WBev nach Stadtkreis, Quartier und Alter/Kreis 2/Leimbach",
          "WBev nach Stadtkreis, Quartier und Alter/Kreis 1/Lindenhof",
          "WBev nach Stadtkreis, Quartier und Alter/Kreis 8/Mühlebach",
          "WBev nach Stadtkreis, Quartier und Alter/Kreis 6/Oberstrass",
          "WBev nach Stadtkreis, Quartier und Alter/Kreis 11/Oerlikon",
          "WBev nach Stadtkreis, Quartier und Alter/Kreis 1/Rathaus",
          "WBev nach Stadtkreis, Quartier und Alter/Kreis 12/Saatlen",
          "WBev nach Stadtkreis, Quartier und Alter/Kreis 12/Schwamendingen-Mitte",
          "WBev nach Stadtkreis, Quartier und Alter/Kreis 11/Seebach",
          "WBev nach Stadtkreis, Quartier und Alter/Kreis 8/Seefeld",
          "WBev nach Stadtkreis, Quartier und Alter/Kreis 3/Sihlfeld",
          "WBev nach Stadtkreis, Quartier und Alter/Kreis 6/Unterstrass",
          "WBev nach Stadtkreis, Quartier und Alter/Kreis 8/Weinegg",
          "WBev nach Stadtkreis, Quartier und Alter/Kreis 4/Werd",
          "WBev nach Stadtkreis, Quartier und Alter/Kreis 10/Wipkingen",
          "WBev nach Stadtkreis, Quartier und Alter/Kreis 7/Witikon",
          "WBev nach Stadtkreis, Quartier und Alter/Kreis 2/Wollishofen",
          "WBev nach Stadtkreis, Quartier und Alter/Kreis 11/Affoltern",
          "WBev nach Stadtkreis, Quartier und Alter/Kreis 9/Albisrieden",
          "WBev nach Stadtkreis, Quartier und Alter/Kreis 3/Alt-Wiedikon",
          "WBev nach Stadtkreis, Quartier und Alter/Kreis 9/Altstetten",
          "WBev nach Stadtkreis, Quartier und Alter/Kreis 1/City",
          "WBev nach Stadtkreis, Quartier und Alter/Kreis 2/Enge",
          "WBev nach Stadtkreis, Quartier und Alter/Kreis 5/Escher Wyss",
          "WBev nach Stadtkreis, Quartier und Alter/Kreis 7/Fluntern",
          "WBev nach Stadtkreis, Quartier und Alter/Kreis 3/Friesenberg",
          "WBev nach Stadtkreis, Quartier und Alter/Kreis 5/Gewerbeschule",
          "WBev nach Stadtkreis, Quartier und Alter/Kreis 4/Hard",
          "WBev nach Stadtkreis, Quartier und Alter/Kreis 7/Hirslanden",
          "WBev nach Stadtkreis, Quartier und Alter/Kreis 12/Hirzenbach",
          "WBev nach Stadtkreis, Quartier und Alter/Kreis 7/Hottingen",
          "WBev nach Stadtkreis, Quartier und Alter/Kreis 10/Höngg",
          "WBev nach Stadtkreis, Quartier und Alter/Kreis 4/Langstrasse",
          "WBev nach Stadtkreis, Quartier und Alter/Kreis 2/Leimbach",
          "WBev nach Stadtkreis, Quartier und Alter/Kreis 1/Lindenhof",
          "WBev nach Stadtkreis, Quartier und Alter/Kreis 8/Mühlebach",
          "WBev nach Stadtkreis, Quartier und Alter/Kreis 6/Oberstrass",
          "WBev nach Stadtkreis, Quartier und Alter/Kreis 11/Oerlikon",
          "WBev nach Stadtkreis, Quartier und Alter/Kreis 1/Rathaus",
          "WBev nach Stadtkreis, Quartier und Alter/Kreis 12/Saatlen",
          "WBev nach Stadtkreis, Quartier und Alter/Kreis 12/Schwamendingen-Mitte",
          "WBev nach Stadtkreis, Quartier und Alter/Kreis 11/Seebach",
          "WBev nach Stadtkreis, Quartier und Alter/Kreis 8/Seefeld",
          "WBev nach Stadtkreis, Quartier und Alter/Kreis 3/Sihlfeld",
          "WBev nach Stadtkreis, Quartier und Alter/Kreis 6/Unterstrass",
          "WBev nach Stadtkreis, Quartier und Alter/Kreis 8/Weinegg",
          "WBev nach Stadtkreis, Quartier und Alter/Kreis 4/Werd",
          "WBev nach Stadtkreis, Quartier und Alter/Kreis 10/Wipkingen",
          "WBev nach Stadtkreis, Quartier und Alter/Kreis 7/Witikon",
          "WBev nach Stadtkreis, Quartier und Alter/Kreis 2/Wollishofen",
          "WBev nach Stadtkreis, Quartier und Alter/Kreis 11",
          "WBev nach Stadtkreis, Quartier und Alter/Kreis 9",
          "WBev nach Stadtkreis, Quartier und Alter/Kreis 3",
          "WBev nach Stadtkreis, Quartier und Alter/Kreis 9",
          "WBev nach Stadtkreis, Quartier und Alter/Kreis 1",
          "WBev nach Stadtkreis, Quartier und Alter/Kreis 2",
          "WBev nach Stadtkreis, Quartier und Alter/Kreis 5",
          "WBev nach Stadtkreis, Quartier und Alter/Kreis 7",
          "WBev nach Stadtkreis, Quartier und Alter/Kreis 3",
          "WBev nach Stadtkreis, Quartier und Alter/Kreis 5",
          "WBev nach Stadtkreis, Quartier und Alter/Kreis 4",
          "WBev nach Stadtkreis, Quartier und Alter/Kreis 7",
          "WBev nach Stadtkreis, Quartier und Alter/Kreis 12",
          "WBev nach Stadtkreis, Quartier und Alter/Kreis 1",
          "WBev nach Stadtkreis, Quartier und Alter/Kreis 7",
          "WBev nach Stadtkreis, Quartier und Alter/Kreis 10",
          "WBev nach Stadtkreis, Quartier und Alter/Kreis 4",
          "WBev nach Stadtkreis, Quartier und Alter/Kreis 2",
          "WBev nach Stadtkreis, Quartier und Alter/Kreis 1",
          "WBev nach Stadtkreis, Quartier und Alter/Kreis 8",
          "WBev nach Stadtkreis, Quartier und Alter/Kreis 6",
          "WBev nach Stadtkreis, Quartier und Alter/Kreis 11",
          "WBev nach Stadtkreis, Quartier und Alter/Kreis 1",
          "WBev nach Stadtkreis, Quartier und Alter/Kreis 12",
          "WBev nach Stadtkreis, Quartier und Alter/Kreis 12",
          "WBev nach Stadtkreis, Quartier und Alter/Kreis 11",
          "WBev nach Stadtkreis, Quartier und Alter/Kreis 8",
          "WBev nach Stadtkreis, Quartier und Alter/Kreis 3",
          "WBev nach Stadtkreis, Quartier und Alter/Kreis 6",
          "WBev nach Stadtkreis, Quartier und Alter/Kreis 8",
          "WBev nach Stadtkreis, Quartier und Alter/Kreis 4",
          "WBev nach Stadtkreis, Quartier und Alter/Kreis 10",
          "WBev nach Stadtkreis, Quartier und Alter/Kreis 7",
          "WBev nach Stadtkreis, Quartier und Alter/Kreis 2",
          "WBev nach Stadtkreis, Quartier und Alter",
          "WBev nach Stadtkreis, Quartier und Alter",
          "WBev nach Stadtkreis, Quartier und Alter",
          "WBev nach Stadtkreis, Quartier und Alter",
          "WBev nach Stadtkreis, Quartier und Alter",
          "WBev nach Stadtkreis, Quartier und Alter",
          "WBev nach Stadtkreis, Quartier und Alter",
          "WBev nach Stadtkreis, Quartier und Alter",
          "WBev nach Stadtkreis, Quartier und Alter",
          "WBev nach Stadtkreis, Quartier und Alter",
          "WBev nach Stadtkreis, Quartier und Alter",
          "WBev nach Stadtkreis, Quartier und Alter",
          ""
         ],
         "root": {
          "color": "grey"
         },
         "type": "treemap",
         "values": [
          50,
          42,
          23,
          66,
          1,
          36,
          21,
          16,
          11,
          13,
          12,
          13,
          40,
          19,
          23,
          16,
          19,
          11,
          14,
          55,
          2,
          5,
          34,
          66,
          25,
          45,
          38,
          10,
          6,
          25,
          20,
          54,
          56,
          30,
          26,
          47,
          1,
          35,
          16,
          6,
          11,
          11,
          17,
          12,
          27,
          17,
          35,
          12,
          18,
          2,
          14,
          16,
          56,
          5,
          9,
          35,
          66,
          13,
          33,
          27,
          11,
          10,
          24,
          17,
          35,
          86,
          109,
          76,
          118,
          6,
          53,
          35,
          29,
          22,
          29,
          58,
          32,
          46,
          1,
          41,
          96,
          50,
          18,
          1,
          20,
          38,
          81,
          4,
          39,
          30,
          84,
          25,
          93,
          106,
          23,
          22,
          80,
          35,
          85,
          82,
          99,
          63,
          135,
          55,
          41,
          30,
          20,
          40,
          53,
          31,
          62,
          51,
          108,
          60,
          17,
          2,
          24,
          32,
          68,
          6,
          34,
          24,
          81,
          21,
          92,
          115,
          15,
          22,
          82,
          25,
          92,
          136,
          151,
          99,
          184,
          7,
          89,
          56,
          45,
          33,
          42,
          70,
          45,
          86,
          1,
          60,
          119,
          66,
          37,
          1,
          31,
          52,
          136,
          6,
          44,
          64,
          150,
          50,
          138,
          144,
          33,
          28,
          105,
          55,
          139,
          138,
          129,
          89,
          182,
          1,
          90,
          57,
          36,
          31,
          51,
          70,
          43,
          89,
          68,
          143,
          72,
          35,
          4,
          38,
          48,
          124,
          11,
          43,
          59,
          147,
          34,
          125,
          142,
          26,
          32,
          106,
          42,
          127,
          274,
          280,
          188,
          366,
          8,
          179,
          113,
          81,
          64,
          93,
          140,
          88,
          175,
          1,
          128,
          262,
          138,
          72,
          5,
          69,
          100,
          260,
          17,
          87,
          123,
          297,
          84,
          263,
          286,
          59,
          60,
          211,
          97,
          266,
          31,
          473,
          831,
          385,
          517,
          515,
          338,
          206,
          386,
          394,
          212,
          646,
          4934
         ]
        }
       ],
       "layout": {
        "autosize": true,
        "coloraxis": {
         "colorbar": {
          "title": {
           "text": "sum_WBev"
          }
         },
         "colorscale": [
          [
           0,
           "rgb(247,251,255)"
          ],
          [
           0.125,
           "rgb(222,235,247)"
          ],
          [
           0.25,
           "rgb(198,219,239)"
          ],
          [
           0.375,
           "rgb(158,202,225)"
          ],
          [
           0.5,
           "rgb(107,174,214)"
          ],
          [
           0.625,
           "rgb(66,146,198)"
          ],
          [
           0.75,
           "rgb(33,113,181)"
          ],
          [
           0.875,
           "rgb(8,81,156)"
          ],
          [
           1,
           "rgb(8,48,107)"
          ]
         ]
        },
        "legend": {
         "tracegroupgap": 0
        },
        "margin": {
         "b": 25,
         "l": 25,
         "r": 250,
         "t": 50
        },
        "template": {
         "data": {
          "bar": [
           {
            "error_x": {
             "color": "#2a3f5f"
            },
            "error_y": {
             "color": "#2a3f5f"
            },
            "marker": {
             "line": {
              "color": "#E5ECF6",
              "width": 0.5
             },
             "pattern": {
              "fillmode": "overlay",
              "size": 10,
              "solidity": 0.2
             }
            },
            "type": "bar"
           }
          ],
          "barpolar": [
           {
            "marker": {
             "line": {
              "color": "#E5ECF6",
              "width": 0.5
             },
             "pattern": {
              "fillmode": "overlay",
              "size": 10,
              "solidity": 0.2
             }
            },
            "type": "barpolar"
           }
          ],
          "carpet": [
           {
            "aaxis": {
             "endlinecolor": "#2a3f5f",
             "gridcolor": "white",
             "linecolor": "white",
             "minorgridcolor": "white",
             "startlinecolor": "#2a3f5f"
            },
            "baxis": {
             "endlinecolor": "#2a3f5f",
             "gridcolor": "white",
             "linecolor": "white",
             "minorgridcolor": "white",
             "startlinecolor": "#2a3f5f"
            },
            "type": "carpet"
           }
          ],
          "choropleth": [
           {
            "colorbar": {
             "outlinewidth": 0,
             "ticks": ""
            },
            "type": "choropleth"
           }
          ],
          "contour": [
           {
            "colorbar": {
             "outlinewidth": 0,
             "ticks": ""
            },
            "colorscale": [
             [
              0,
              "#0d0887"
             ],
             [
              0.1111111111111111,
              "#46039f"
             ],
             [
              0.2222222222222222,
              "#7201a8"
             ],
             [
              0.3333333333333333,
              "#9c179e"
             ],
             [
              0.4444444444444444,
              "#bd3786"
             ],
             [
              0.5555555555555556,
              "#d8576b"
             ],
             [
              0.6666666666666666,
              "#ed7953"
             ],
             [
              0.7777777777777778,
              "#fb9f3a"
             ],
             [
              0.8888888888888888,
              "#fdca26"
             ],
             [
              1,
              "#f0f921"
             ]
            ],
            "type": "contour"
           }
          ],
          "contourcarpet": [
           {
            "colorbar": {
             "outlinewidth": 0,
             "ticks": ""
            },
            "type": "contourcarpet"
           }
          ],
          "heatmap": [
           {
            "colorbar": {
             "outlinewidth": 0,
             "ticks": ""
            },
            "colorscale": [
             [
              0,
              "#0d0887"
             ],
             [
              0.1111111111111111,
              "#46039f"
             ],
             [
              0.2222222222222222,
              "#7201a8"
             ],
             [
              0.3333333333333333,
              "#9c179e"
             ],
             [
              0.4444444444444444,
              "#bd3786"
             ],
             [
              0.5555555555555556,
              "#d8576b"
             ],
             [
              0.6666666666666666,
              "#ed7953"
             ],
             [
              0.7777777777777778,
              "#fb9f3a"
             ],
             [
              0.8888888888888888,
              "#fdca26"
             ],
             [
              1,
              "#f0f921"
             ]
            ],
            "type": "heatmap"
           }
          ],
          "heatmapgl": [
           {
            "colorbar": {
             "outlinewidth": 0,
             "ticks": ""
            },
            "colorscale": [
             [
              0,
              "#0d0887"
             ],
             [
              0.1111111111111111,
              "#46039f"
             ],
             [
              0.2222222222222222,
              "#7201a8"
             ],
             [
              0.3333333333333333,
              "#9c179e"
             ],
             [
              0.4444444444444444,
              "#bd3786"
             ],
             [
              0.5555555555555556,
              "#d8576b"
             ],
             [
              0.6666666666666666,
              "#ed7953"
             ],
             [
              0.7777777777777778,
              "#fb9f3a"
             ],
             [
              0.8888888888888888,
              "#fdca26"
             ],
             [
              1,
              "#f0f921"
             ]
            ],
            "type": "heatmapgl"
           }
          ],
          "histogram": [
           {
            "marker": {
             "pattern": {
              "fillmode": "overlay",
              "size": 10,
              "solidity": 0.2
             }
            },
            "type": "histogram"
           }
          ],
          "histogram2d": [
           {
            "colorbar": {
             "outlinewidth": 0,
             "ticks": ""
            },
            "colorscale": [
             [
              0,
              "#0d0887"
             ],
             [
              0.1111111111111111,
              "#46039f"
             ],
             [
              0.2222222222222222,
              "#7201a8"
             ],
             [
              0.3333333333333333,
              "#9c179e"
             ],
             [
              0.4444444444444444,
              "#bd3786"
             ],
             [
              0.5555555555555556,
              "#d8576b"
             ],
             [
              0.6666666666666666,
              "#ed7953"
             ],
             [
              0.7777777777777778,
              "#fb9f3a"
             ],
             [
              0.8888888888888888,
              "#fdca26"
             ],
             [
              1,
              "#f0f921"
             ]
            ],
            "type": "histogram2d"
           }
          ],
          "histogram2dcontour": [
           {
            "colorbar": {
             "outlinewidth": 0,
             "ticks": ""
            },
            "colorscale": [
             [
              0,
              "#0d0887"
             ],
             [
              0.1111111111111111,
              "#46039f"
             ],
             [
              0.2222222222222222,
              "#7201a8"
             ],
             [
              0.3333333333333333,
              "#9c179e"
             ],
             [
              0.4444444444444444,
              "#bd3786"
             ],
             [
              0.5555555555555556,
              "#d8576b"
             ],
             [
              0.6666666666666666,
              "#ed7953"
             ],
             [
              0.7777777777777778,
              "#fb9f3a"
             ],
             [
              0.8888888888888888,
              "#fdca26"
             ],
             [
              1,
              "#f0f921"
             ]
            ],
            "type": "histogram2dcontour"
           }
          ],
          "mesh3d": [
           {
            "colorbar": {
             "outlinewidth": 0,
             "ticks": ""
            },
            "type": "mesh3d"
           }
          ],
          "parcoords": [
           {
            "line": {
             "colorbar": {
              "outlinewidth": 0,
              "ticks": ""
             }
            },
            "type": "parcoords"
           }
          ],
          "pie": [
           {
            "automargin": true,
            "type": "pie"
           }
          ],
          "scatter": [
           {
            "marker": {
             "colorbar": {
              "outlinewidth": 0,
              "ticks": ""
             }
            },
            "type": "scatter"
           }
          ],
          "scatter3d": [
           {
            "line": {
             "colorbar": {
              "outlinewidth": 0,
              "ticks": ""
             }
            },
            "marker": {
             "colorbar": {
              "outlinewidth": 0,
              "ticks": ""
             }
            },
            "type": "scatter3d"
           }
          ],
          "scattercarpet": [
           {
            "marker": {
             "colorbar": {
              "outlinewidth": 0,
              "ticks": ""
             }
            },
            "type": "scattercarpet"
           }
          ],
          "scattergeo": [
           {
            "marker": {
             "colorbar": {
              "outlinewidth": 0,
              "ticks": ""
             }
            },
            "type": "scattergeo"
           }
          ],
          "scattergl": [
           {
            "marker": {
             "colorbar": {
              "outlinewidth": 0,
              "ticks": ""
             }
            },
            "type": "scattergl"
           }
          ],
          "scattermapbox": [
           {
            "marker": {
             "colorbar": {
              "outlinewidth": 0,
              "ticks": ""
             }
            },
            "type": "scattermapbox"
           }
          ],
          "scatterpolar": [
           {
            "marker": {
             "colorbar": {
              "outlinewidth": 0,
              "ticks": ""
             }
            },
            "type": "scatterpolar"
           }
          ],
          "scatterpolargl": [
           {
            "marker": {
             "colorbar": {
              "outlinewidth": 0,
              "ticks": ""
             }
            },
            "type": "scatterpolargl"
           }
          ],
          "scatterternary": [
           {
            "marker": {
             "colorbar": {
              "outlinewidth": 0,
              "ticks": ""
             }
            },
            "type": "scatterternary"
           }
          ],
          "surface": [
           {
            "colorbar": {
             "outlinewidth": 0,
             "ticks": ""
            },
            "colorscale": [
             [
              0,
              "#0d0887"
             ],
             [
              0.1111111111111111,
              "#46039f"
             ],
             [
              0.2222222222222222,
              "#7201a8"
             ],
             [
              0.3333333333333333,
              "#9c179e"
             ],
             [
              0.4444444444444444,
              "#bd3786"
             ],
             [
              0.5555555555555556,
              "#d8576b"
             ],
             [
              0.6666666666666666,
              "#ed7953"
             ],
             [
              0.7777777777777778,
              "#fb9f3a"
             ],
             [
              0.8888888888888888,
              "#fdca26"
             ],
             [
              1,
              "#f0f921"
             ]
            ],
            "type": "surface"
           }
          ],
          "table": [
           {
            "cells": {
             "fill": {
              "color": "#EBF0F8"
             },
             "line": {
              "color": "white"
             }
            },
            "header": {
             "fill": {
              "color": "#C8D4E3"
             },
             "line": {
              "color": "white"
             }
            },
            "type": "table"
           }
          ]
         },
         "layout": {
          "annotationdefaults": {
           "arrowcolor": "#2a3f5f",
           "arrowhead": 0,
           "arrowwidth": 1
          },
          "autotypenumbers": "strict",
          "coloraxis": {
           "colorbar": {
            "outlinewidth": 0,
            "ticks": ""
           }
          },
          "colorscale": {
           "diverging": [
            [
             0,
             "#8e0152"
            ],
            [
             0.1,
             "#c51b7d"
            ],
            [
             0.2,
             "#de77ae"
            ],
            [
             0.3,
             "#f1b6da"
            ],
            [
             0.4,
             "#fde0ef"
            ],
            [
             0.5,
             "#f7f7f7"
            ],
            [
             0.6,
             "#e6f5d0"
            ],
            [
             0.7,
             "#b8e186"
            ],
            [
             0.8,
             "#7fbc41"
            ],
            [
             0.9,
             "#4d9221"
            ],
            [
             1,
             "#276419"
            ]
           ],
           "sequential": [
            [
             0,
             "#0d0887"
            ],
            [
             0.1111111111111111,
             "#46039f"
            ],
            [
             0.2222222222222222,
             "#7201a8"
            ],
            [
             0.3333333333333333,
             "#9c179e"
            ],
            [
             0.4444444444444444,
             "#bd3786"
            ],
            [
             0.5555555555555556,
             "#d8576b"
            ],
            [
             0.6666666666666666,
             "#ed7953"
            ],
            [
             0.7777777777777778,
             "#fb9f3a"
            ],
            [
             0.8888888888888888,
             "#fdca26"
            ],
            [
             1,
             "#f0f921"
            ]
           ],
           "sequentialminus": [
            [
             0,
             "#0d0887"
            ],
            [
             0.1111111111111111,
             "#46039f"
            ],
            [
             0.2222222222222222,
             "#7201a8"
            ],
            [
             0.3333333333333333,
             "#9c179e"
            ],
            [
             0.4444444444444444,
             "#bd3786"
            ],
            [
             0.5555555555555556,
             "#d8576b"
            ],
            [
             0.6666666666666666,
             "#ed7953"
            ],
            [
             0.7777777777777778,
             "#fb9f3a"
            ],
            [
             0.8888888888888888,
             "#fdca26"
            ],
            [
             1,
             "#f0f921"
            ]
           ]
          },
          "colorway": [
           "#636efa",
           "#EF553B",
           "#00cc96",
           "#ab63fa",
           "#FFA15A",
           "#19d3f3",
           "#FF6692",
           "#B6E880",
           "#FF97FF",
           "#FECB52"
          ],
          "font": {
           "color": "#2a3f5f"
          },
          "geo": {
           "bgcolor": "white",
           "lakecolor": "white",
           "landcolor": "#E5ECF6",
           "showlakes": true,
           "showland": true,
           "subunitcolor": "white"
          },
          "hoverlabel": {
           "align": "left"
          },
          "hovermode": "closest",
          "mapbox": {
           "style": "light"
          },
          "paper_bgcolor": "white",
          "plot_bgcolor": "#E5ECF6",
          "polar": {
           "angularaxis": {
            "gridcolor": "white",
            "linecolor": "white",
            "ticks": ""
           },
           "bgcolor": "#E5ECF6",
           "radialaxis": {
            "gridcolor": "white",
            "linecolor": "white",
            "ticks": ""
           }
          },
          "scene": {
           "xaxis": {
            "backgroundcolor": "#E5ECF6",
            "gridcolor": "white",
            "gridwidth": 2,
            "linecolor": "white",
            "showbackground": true,
            "ticks": "",
            "zerolinecolor": "white"
           },
           "yaxis": {
            "backgroundcolor": "#E5ECF6",
            "gridcolor": "white",
            "gridwidth": 2,
            "linecolor": "white",
            "showbackground": true,
            "ticks": "",
            "zerolinecolor": "white"
           },
           "zaxis": {
            "backgroundcolor": "#E5ECF6",
            "gridcolor": "white",
            "gridwidth": 2,
            "linecolor": "white",
            "showbackground": true,
            "ticks": "",
            "zerolinecolor": "white"
           }
          },
          "shapedefaults": {
           "line": {
            "color": "#2a3f5f"
           }
          },
          "ternary": {
           "aaxis": {
            "gridcolor": "white",
            "linecolor": "white",
            "ticks": ""
           },
           "baxis": {
            "gridcolor": "white",
            "linecolor": "white",
            "ticks": ""
           },
           "bgcolor": "#E5ECF6",
           "caxis": {
            "gridcolor": "white",
            "linecolor": "white",
            "ticks": ""
           }
          },
          "title": {
           "x": 0.05
          },
          "xaxis": {
           "automargin": true,
           "gridcolor": "white",
           "linecolor": "white",
           "ticks": "",
           "title": {
            "standoff": 15
           },
           "zerolinecolor": "white",
           "zerolinewidth": 2
          },
          "yaxis": {
           "automargin": true,
           "gridcolor": "white",
           "linecolor": "white",
           "ticks": "",
           "title": {
            "standoff": 15
           },
           "zerolinecolor": "white",
           "zerolinewidth": 2
          }
         }
        }
       }
      },
      "image/png": "[encoded data removed]",
      "text/html": [
       "<div>                            <div id=\"e8b7e057-940c-441e-8880-dd797e5b3db7\" class=\"plotly-graph-div\" style=\"height:525px; width:100%;\"></div>            <script type=\"text/javascript\">                require([\"plotly\"], function(Plotly) {                    window.PLOTLYENV=window.PLOTLYENV || {};                                    if (document.getElementById(\"e8b7e057-940c-441e-8880-dd797e5b3db7\")) {                    Plotly.newPlot(                        \"e8b7e057-940c-441e-8880-dd797e5b3db7\",                        [{\"branchvalues\":\"total\",\"customdata\":[[5.16],[4.571428571428571],[2.8260869565217392],[7.878787878787879],[1.0],[3.8333333333333335],[2.3333333333333335],[2.625],[1.5454545454545454],[1.6153846153846154],[1.5],[1.9230769230769231],[6.25],[3.9473684210526314],[2.4782608695652173],[2.625],[3.0],[2.272727272727273],[2.0],[6.3090909090909095],[1.0],[1.8],[3.5294117647058822],[7.242424242424242],[3.48],[4.733333333333333],[4.105263157894737],[1.6],[2.0],[3.64],[3.1],[5.37037037037037],[6.678571428571429],[6.866666666666666],[3.923076923076923],[5.25531914893617],[1.0],[5.3428571428571425],[2.125],[1.3333333333333333],[2.272727272727273],[1.7272727272727273],[2.2941176470588234],[2.0],[3.6666666666666665],[2.764705882352941],[3.9714285714285715],[1.8333333333333333],[3.0],[2.0],[2.0],[2.125],[6.892857142857143],[3.4],[1.8888888888888888],[4.542857142857143],[8.272727272727273],[2.230769230769231],[5.303030303030303],[3.5925925925925926],[2.272727272727273],[2.2],[4.75],[1.9411764705882353],[4.771428571428571],[8.604651162790697],[10.174311926605505],[8.289473684210526],[11.76271186440678],[1.0],[5.679245283018868],[3.9714285714285715],[3.4827586206896552],[2.8181818181818183],[3.3448275862068964],[6.586206896551724],[4.125],[4.826086956521739],[1.0],[4.463414634146342],[10.0],[5.36],[2.4444444444444446],[1.0],[2.4],[4.578947368421052],[8.358024691358025],[1.5],[4.794871794871795],[3.7333333333333334],[8.261904761904763],[2.76],[10.333333333333334],[10.056603773584905],[4.043478260869565],[3.5454545454545454],[8.275],[4.371428571428571],[8.270588235294118],[8.170731707317072],[9.88888888888889],[7.0],[13.34074074074074],[5.363636363636363],[4.7073170731707314],[3.4],[2.5],[4.9],[5.377358490566038],[3.7096774193548385],[6.419354838709677],[5.666666666666667],[10.481481481481481],[6.4],[2.411764705882353],[1.0],[4.916666666666667],[4.375],[7.235294117647059],[1.3333333333333333],[4.0],[3.0],[8.160493827160494],[2.8095238095238093],[10.26086956521739],[11.295652173913043],[2.066666666666667],[3.090909090909091],[8.146341463414634],[3.08],[9.195652173913043],[7.338235294117647],[8.6158940397351],[7.02020202020202],[10.369565217391305],[1.0],[4.932584269662922],[3.357142857142857],[3.1777777777777776],[2.393939393939394],[2.8095238095238093],[5.714285714285714],[3.488888888888889],[5.488372093023256],[1.0],[4.3],[8.546218487394958],[4.696969696969697],[2.72972972972973],[1.0],[2.3548387096774195],[3.8846153846153846],[7.529411764705882],[1.3333333333333333],[4.454545454545454],[3.625],[7.8133333333333335],[3.12],[8.507246376811594],[8.48611111111111],[3.303030303030303],[3.2142857142857144],[7.171428571428572],[3.909090909090909],[7.143884892086331],[7.565217391304348],[9.186046511627907],[6.101123595505618],[11.252747252747254],[1.0],[5.355555555555555],[3.982456140350877],[3.0555555555555554],[2.4193548387096775],[4.215686274509804],[4.628571428571429],[3.2325581395348837],[5.584269662921348],[4.9411764705882355],[8.888111888111888],[5.638888888888889],[2.7142857142857144],[1.5],[3.8421052631578947],[3.625],[7.080645161290323],[2.272727272727273],[3.558139534883721],[3.9152542372881354],[8.210884353741497],[2.588235294117647],[8.952],[9.830985915492958],[2.1538461538461537],[2.8125],[7.377358490566038],[2.619047619047619],[7.9763779527559056],[7.452554744525547],[8.878571428571428],[6.585106382978723],[10.808743169398907],[1.0],[5.145251396648045],[3.672566371681416],[3.123456790123457],[2.40625],[3.5806451612903225],[5.171428571428572],[3.3636363636363638],[5.537142857142857],[1.0],[4.640625],[8.732824427480915],[5.188405797101449],[2.7222222222222223],[1.4],[3.1739130434782608],[3.76],[7.315384615384615],[1.9411764705882353],[4.011494252873563],[3.7642276422764227],[8.01010101010101],[2.9047619047619047],[8.718631178707223],[9.153846153846153],[2.7966101694915255],[3.0],[7.274881516587678],[3.350515463917526],[7.541353383458647],[1.5806451612903225],[8.08245243128964],[7.6089049338146815],[4.625974025974026],[6.040618955512572],[7.155339805825243],[4.792899408284024],[3.6310679611650487],[7.756476683937824],[3.7258883248730963],[2.9622641509433962],[9.972136222910217],[6.62423996757195]],\"domain\":{\"x\":[0.0,1.0],\"y\":[0.0,1.0]},\"hovertemplate\":\"labels=%{label}<br>sum_WBev_sum=%{value}<br>parent=%{parent}<br>id=%{id}<br>sum_WBev=%{color}<extra></extra>\",\"ids\":[\"WBev nach Stadtkreis, Quartier und Alter/Kreis 11/Affoltern/m\\u00e4nnlich/Ausl\\u00e4nder/in\",\"WBev nach Stadtkreis, Quartier und Alter/Kreis 9/Albisrieden/m\\u00e4nnlich/Ausl\\u00e4nder/in\",\"WBev nach Stadtkreis, Quartier und Alter/Kreis 3/Alt-Wiedikon/m\\u00e4nnlich/Ausl\\u00e4nder/in\",\"WBev nach Stadtkreis, Quartier und Alter/Kreis 9/Altstetten/m\\u00e4nnlich/Ausl\\u00e4nder/in\",\"WBev nach Stadtkreis, Quartier und Alter/Kreis 1/City/m\\u00e4nnlich/Ausl\\u00e4nder/in\",\"WBev nach Stadtkreis, Quartier und Alter/Kreis 2/Enge/m\\u00e4nnlich/Ausl\\u00e4nder/in\",\"WBev nach Stadtkreis, Quartier und Alter/Kreis 5/Escher Wyss/m\\u00e4nnlich/Ausl\\u00e4nder/in\",\"WBev nach Stadtkreis, Quartier und Alter/Kreis 7/Fluntern/m\\u00e4nnlich/Ausl\\u00e4nder/in\",\"WBev nach Stadtkreis, Quartier und Alter/Kreis 3/Friesenberg/m\\u00e4nnlich/Ausl\\u00e4nder/in\",\"WBev nach Stadtkreis, Quartier und Alter/Kreis 5/Gewerbeschule/m\\u00e4nnlich/Ausl\\u00e4nder/in\",\"WBev nach Stadtkreis, Quartier und Alter/Kreis 4/Hard/m\\u00e4nnlich/Ausl\\u00e4nder/in\",\"WBev nach Stadtkreis, Quartier und Alter/Kreis 7/Hirslanden/m\\u00e4nnlich/Ausl\\u00e4nder/in\",\"WBev nach Stadtkreis, Quartier und Alter/Kreis 12/Hirzenbach/m\\u00e4nnlich/Ausl\\u00e4nder/in\",\"WBev nach Stadtkreis, Quartier und Alter/Kreis 7/Hottingen/m\\u00e4nnlich/Ausl\\u00e4nder/in\",\"WBev nach Stadtkreis, Quartier und Alter/Kreis 10/H\\u00f6ngg/m\\u00e4nnlich/Ausl\\u00e4nder/in\",\"WBev nach Stadtkreis, Quartier und Alter/Kreis 4/Langstrasse/m\\u00e4nnlich/Ausl\\u00e4nder/in\",\"WBev nach Stadtkreis, Quartier und Alter/Kreis 2/Leimbach/m\\u00e4nnlich/Ausl\\u00e4nder/in\",\"WBev nach Stadtkreis, Quartier und Alter/Kreis 8/M\\u00fchlebach/m\\u00e4nnlich/Ausl\\u00e4nder/in\",\"WBev nach Stadtkreis, Quartier und Alter/Kreis 6/Oberstrass/m\\u00e4nnlich/Ausl\\u00e4nder/in\",\"WBev nach Stadtkreis, Quartier und Alter/Kreis 11/Oerlikon/m\\u00e4nnlich/Ausl\\u00e4nder/in\",\"WBev nach Stadtkreis, Quartier und Alter/Kreis 1/Rathaus/m\\u00e4nnlich/Ausl\\u00e4nder/in\",\"WBev nach Stadtkreis, Quartier und Alter/Kreis 12/Saatlen/m\\u00e4nnlich/Ausl\\u00e4nder/in\",\"WBev nach Stadtkreis, Quartier und Alter/Kreis 12/Schwamendingen-Mitte/m\\u00e4nnlich/Ausl\\u00e4nder/in\",\"WBev nach Stadtkreis, Quartier und Alter/Kreis 11/Seebach/m\\u00e4nnlich/Ausl\\u00e4nder/in\",\"WBev nach Stadtkreis, Quartier und Alter/Kreis 8/Seefeld/m\\u00e4nnlich/Ausl\\u00e4nder/in\",\"WBev nach Stadtkreis, Quartier und Alter/Kreis 3/Sihlfeld/m\\u00e4nnlich/Ausl\\u00e4nder/in\",\"WBev nach Stadtkreis, Quartier und Alter/Kreis 6/Unterstrass/m\\u00e4nnlich/Ausl\\u00e4nder/in\",\"WBev nach Stadtkreis, Quartier und Alter/Kreis 8/Weinegg/m\\u00e4nnlich/Ausl\\u00e4nder/in\",\"WBev nach Stadtkreis, Quartier und Alter/Kreis 4/Werd/m\\u00e4nnlich/Ausl\\u00e4nder/in\",\"WBev nach Stadtkreis, Quartier und Alter/Kreis 10/Wipkingen/m\\u00e4nnlich/Ausl\\u00e4nder/in\",\"WBev nach Stadtkreis, Quartier und Alter/Kreis 7/Witikon/m\\u00e4nnlich/Ausl\\u00e4nder/in\",\"WBev nach Stadtkreis, Quartier und Alter/Kreis 2/Wollishofen/m\\u00e4nnlich/Ausl\\u00e4nder/in\",\"WBev nach Stadtkreis, Quartier und Alter/Kreis 11/Affoltern/weiblich/Ausl\\u00e4nder/in\",\"WBev nach Stadtkreis, Quartier und Alter/Kreis 9/Albisrieden/weiblich/Ausl\\u00e4nder/in\",\"WBev nach Stadtkreis, Quartier und Alter/Kreis 3/Alt-Wiedikon/weiblich/Ausl\\u00e4nder/in\",\"WBev nach Stadtkreis, Quartier und Alter/Kreis 9/Altstetten/weiblich/Ausl\\u00e4nder/in\",\"WBev nach Stadtkreis, Quartier und Alter/Kreis 1/City/weiblich/Ausl\\u00e4nder/in\",\"WBev nach Stadtkreis, Quartier und Alter/Kreis 2/Enge/weiblich/Ausl\\u00e4nder/in\",\"WBev nach Stadtkreis, Quartier und Alter/Kreis 5/Escher Wyss/weiblich/Ausl\\u00e4nder/in\",\"WBev nach Stadtkreis, Quartier und Alter/Kreis 7/Fluntern/weiblich/Ausl\\u00e4nder/in\",\"WBev nach Stadtkreis, Quartier und Alter/Kreis 3/Friesenberg/weiblich/Ausl\\u00e4nder/in\",\"WBev nach Stadtkreis, Quartier und Alter/Kreis 5/Gewerbeschule/weiblich/Ausl\\u00e4nder/in\",\"WBev nach Stadtkreis, Quartier und Alter/Kreis 4/Hard/weiblich/Ausl\\u00e4nder/in\",\"WBev nach Stadtkreis, Quartier und Alter/Kreis 7/Hirslanden/weiblich/Ausl\\u00e4nder/in\",\"WBev nach Stadtkreis, Quartier und Alter/Kreis 12/Hirzenbach/weiblich/Ausl\\u00e4nder/in\",\"WBev nach Stadtkreis, Quartier und Alter/Kreis 7/Hottingen/weiblich/Ausl\\u00e4nder/in\",\"WBev nach Stadtkreis, Quartier und Alter/Kreis 10/H\\u00f6ngg/weiblich/Ausl\\u00e4nder/in\",\"WBev nach Stadtkreis, Quartier und Alter/Kreis 4/Langstrasse/weiblich/Ausl\\u00e4nder/in\",\"WBev nach Stadtkreis, Quartier und Alter/Kreis 2/Leimbach/weiblich/Ausl\\u00e4nder/in\",\"WBev nach Stadtkreis, Quartier und Alter/Kreis 1/Lindenhof/weiblich/Ausl\\u00e4nder/in\",\"WBev nach Stadtkreis, Quartier und Alter/Kreis 8/M\\u00fchlebach/weiblich/Ausl\\u00e4nder/in\",\"WBev nach Stadtkreis, Quartier und Alter/Kreis 6/Oberstrass/weiblich/Ausl\\u00e4nder/in\",\"WBev nach Stadtkreis, Quartier und Alter/Kreis 11/Oerlikon/weiblich/Ausl\\u00e4nder/in\",\"WBev nach Stadtkreis, Quartier und Alter/Kreis 1/Rathaus/weiblich/Ausl\\u00e4nder/in\",\"WBev nach Stadtkreis, Quartier und Alter/Kreis 12/Saatlen/weiblich/Ausl\\u00e4nder/in\",\"WBev nach Stadtkreis, Quartier und Alter/Kreis 12/Schwamendingen-Mitte/weiblich/Ausl\\u00e4nder/in\",\"WBev nach Stadtkreis, Quartier und Alter/Kreis 11/Seebach/weiblich/Ausl\\u00e4nder/in\",\"WBev nach Stadtkreis, Quartier und Alter/Kreis 8/Seefeld/weiblich/Ausl\\u00e4nder/in\",\"WBev nach Stadtkreis, Quartier und Alter/Kreis 3/Sihlfeld/weiblich/Ausl\\u00e4nder/in\",\"WBev nach Stadtkreis, Quartier und Alter/Kreis 6/Unterstrass/weiblich/Ausl\\u00e4nder/in\",\"WBev nach Stadtkreis, Quartier und Alter/Kreis 8/Weinegg/weiblich/Ausl\\u00e4nder/in\",\"WBev nach Stadtkreis, Quartier und Alter/Kreis 4/Werd/weiblich/Ausl\\u00e4nder/in\",\"WBev nach Stadtkreis, Quartier und Alter/Kreis 10/Wipkingen/weiblich/Ausl\\u00e4nder/in\",\"WBev nach Stadtkreis, Quartier und Alter/Kreis 7/Witikon/weiblich/Ausl\\u00e4nder/in\",\"WBev nach Stadtkreis, Quartier und Alter/Kreis 2/Wollishofen/weiblich/Ausl\\u00e4nder/in\",\"WBev nach Stadtkreis, Quartier und Alter/Kreis 11/Affoltern/m\\u00e4nnlich/Schweizer/in\",\"WBev nach Stadtkreis, Quartier und Alter/Kreis 9/Albisrieden/m\\u00e4nnlich/Schweizer/in\",\"WBev nach Stadtkreis, Quartier und Alter/Kreis 3/Alt-Wiedikon/m\\u00e4nnlich/Schweizer/in\",\"WBev nach Stadtkreis, Quartier und Alter/Kreis 9/Altstetten/m\\u00e4nnlich/Schweizer/in\",\"WBev nach Stadtkreis, Quartier und Alter/Kreis 1/City/m\\u00e4nnlich/Schweizer/in\",\"WBev nach Stadtkreis, Quartier und Alter/Kreis 2/Enge/m\\u00e4nnlich/Schweizer/in\",\"WBev nach Stadtkreis, Quartier und Alter/Kreis 5/Escher Wyss/m\\u00e4nnlich/Schweizer/in\",\"WBev nach Stadtkreis, Quartier und Alter/Kreis 7/Fluntern/m\\u00e4nnlich/Schweizer/in\",\"WBev nach Stadtkreis, Quartier und Alter/Kreis 3/Friesenberg/m\\u00e4nnlich/Schweizer/in\",\"WBev nach Stadtkreis, Quartier und Alter/Kreis 5/Gewerbeschule/m\\u00e4nnlich/Schweizer/in\",\"WBev nach Stadtkreis, Quartier und Alter/Kreis 4/Hard/m\\u00e4nnlich/Schweizer/in\",\"WBev nach Stadtkreis, Quartier und Alter/Kreis 7/Hirslanden/m\\u00e4nnlich/Schweizer/in\",\"WBev nach Stadtkreis, Quartier und Alter/Kreis 12/Hirzenbach/m\\u00e4nnlich/Schweizer/in\",\"WBev nach Stadtkreis, Quartier und Alter/Kreis 1/Hochschulen/m\\u00e4nnlich/Schweizer/in\",\"WBev nach Stadtkreis, Quartier und Alter/Kreis 7/Hottingen/m\\u00e4nnlich/Schweizer/in\",\"WBev nach Stadtkreis, Quartier und Alter/Kreis 10/H\\u00f6ngg/m\\u00e4nnlich/Schweizer/in\",\"WBev nach Stadtkreis, Quartier und Alter/Kreis 4/Langstrasse/m\\u00e4nnlich/Schweizer/in\",\"WBev nach Stadtkreis, Quartier und Alter/Kreis 2/Leimbach/m\\u00e4nnlich/Schweizer/in\",\"WBev nach Stadtkreis, Quartier und Alter/Kreis 1/Lindenhof/m\\u00e4nnlich/Schweizer/in\",\"WBev nach Stadtkreis, Quartier und Alter/Kreis 8/M\\u00fchlebach/m\\u00e4nnlich/Schweizer/in\",\"WBev nach Stadtkreis, Quartier und Alter/Kreis 6/Oberstrass/m\\u00e4nnlich/Schweizer/in\",\"WBev nach Stadtkreis, Quartier und Alter/Kreis 11/Oerlikon/m\\u00e4nnlich/Schweizer/in\",\"WBev nach Stadtkreis, Quartier und Alter/Kreis 1/Rathaus/m\\u00e4nnlich/Schweizer/in\",\"WBev nach Stadtkreis, Quartier und Alter/Kreis 12/Saatlen/m\\u00e4nnlich/Schweizer/in\",\"WBev nach Stadtkreis, Quartier und Alter/Kreis 12/Schwamendingen-Mitte/m\\u00e4nnlich/Schweizer/in\",\"WBev nach Stadtkreis, Quartier und Alter/Kreis 11/Seebach/m\\u00e4nnlich/Schweizer/in\",\"WBev nach Stadtkreis, Quartier und Alter/Kreis 8/Seefeld/m\\u00e4nnlich/Schweizer/in\",\"WBev nach Stadtkreis, Quartier und Alter/Kreis 3/Sihlfeld/m\\u00e4nnlich/Schweizer/in\",\"WBev nach Stadtkreis, Quartier und Alter/Kreis 6/Unterstrass/m\\u00e4nnlich/Schweizer/in\",\"WBev nach Stadtkreis, Quartier und Alter/Kreis 8/Weinegg/m\\u00e4nnlich/Schweizer/in\",\"WBev nach Stadtkreis, Quartier und Alter/Kreis 4/Werd/m\\u00e4nnlich/Schweizer/in\",\"WBev nach Stadtkreis, Quartier und Alter/Kreis 10/Wipkingen/m\\u00e4nnlich/Schweizer/in\",\"WBev nach Stadtkreis, Quartier und Alter/Kreis 7/Witikon/m\\u00e4nnlich/Schweizer/in\",\"WBev nach Stadtkreis, Quartier und Alter/Kreis 2/Wollishofen/m\\u00e4nnlich/Schweizer/in\",\"WBev nach Stadtkreis, Quartier und Alter/Kreis 11/Affoltern/weiblich/Schweizer/in\",\"WBev nach Stadtkreis, Quartier und Alter/Kreis 9/Albisrieden/weiblich/Schweizer/in\",\"WBev nach Stadtkreis, Quartier und Alter/Kreis 3/Alt-Wiedikon/weiblich/Schweizer/in\",\"WBev nach Stadtkreis, Quartier und Alter/Kreis 9/Altstetten/weiblich/Schweizer/in\",\"WBev nach Stadtkreis, Quartier und Alter/Kreis 2/Enge/weiblich/Schweizer/in\",\"WBev nach Stadtkreis, Quartier und Alter/Kreis 5/Escher Wyss/weiblich/Schweizer/in\",\"WBev nach Stadtkreis, Quartier und Alter/Kreis 7/Fluntern/weiblich/Schweizer/in\",\"WBev nach Stadtkreis, Quartier und Alter/Kreis 3/Friesenberg/weiblich/Schweizer/in\",\"WBev nach Stadtkreis, Quartier und Alter/Kreis 5/Gewerbeschule/weiblich/Schweizer/in\",\"WBev nach Stadtkreis, Quartier und Alter/Kreis 4/Hard/weiblich/Schweizer/in\",\"WBev nach Stadtkreis, Quartier und Alter/Kreis 7/Hirslanden/weiblich/Schweizer/in\",\"WBev nach Stadtkreis, Quartier und Alter/Kreis 12/Hirzenbach/weiblich/Schweizer/in\",\"WBev nach Stadtkreis, Quartier und Alter/Kreis 7/Hottingen/weiblich/Schweizer/in\",\"WBev nach Stadtkreis, Quartier und Alter/Kreis 10/H\\u00f6ngg/weiblich/Schweizer/in\",\"WBev nach Stadtkreis, Quartier und Alter/Kreis 4/Langstrasse/weiblich/Schweizer/in\",\"WBev nach Stadtkreis, Quartier und Alter/Kreis 2/Leimbach/weiblich/Schweizer/in\",\"WBev nach Stadtkreis, Quartier und Alter/Kreis 1/Lindenhof/weiblich/Schweizer/in\",\"WBev nach Stadtkreis, Quartier und Alter/Kreis 8/M\\u00fchlebach/weiblich/Schweizer/in\",\"WBev nach Stadtkreis, Quartier und Alter/Kreis 6/Oberstrass/weiblich/Schweizer/in\",\"WBev nach Stadtkreis, Quartier und Alter/Kreis 11/Oerlikon/weiblich/Schweizer/in\",\"WBev nach Stadtkreis, Quartier und Alter/Kreis 1/Rathaus/weiblich/Schweizer/in\",\"WBev nach Stadtkreis, Quartier und Alter/Kreis 12/Saatlen/weiblich/Schweizer/in\",\"WBev nach Stadtkreis, Quartier und Alter/Kreis 12/Schwamendingen-Mitte/weiblich/Schweizer/in\",\"WBev nach Stadtkreis, Quartier und Alter/Kreis 11/Seebach/weiblich/Schweizer/in\",\"WBev nach Stadtkreis, Quartier und Alter/Kreis 8/Seefeld/weiblich/Schweizer/in\",\"WBev nach Stadtkreis, Quartier und Alter/Kreis 3/Sihlfeld/weiblich/Schweizer/in\",\"WBev nach Stadtkreis, Quartier und Alter/Kreis 6/Unterstrass/weiblich/Schweizer/in\",\"WBev nach Stadtkreis, Quartier und Alter/Kreis 8/Weinegg/weiblich/Schweizer/in\",\"WBev nach Stadtkreis, Quartier und Alter/Kreis 4/Werd/weiblich/Schweizer/in\",\"WBev nach Stadtkreis, Quartier und Alter/Kreis 10/Wipkingen/weiblich/Schweizer/in\",\"WBev nach Stadtkreis, Quartier und Alter/Kreis 7/Witikon/weiblich/Schweizer/in\",\"WBev nach Stadtkreis, Quartier und Alter/Kreis 2/Wollishofen/weiblich/Schweizer/in\",\"WBev nach Stadtkreis, Quartier und Alter/Kreis 11/Affoltern/m\\u00e4nnlich\",\"WBev nach Stadtkreis, Quartier und Alter/Kreis 9/Albisrieden/m\\u00e4nnlich\",\"WBev nach Stadtkreis, Quartier und Alter/Kreis 3/Alt-Wiedikon/m\\u00e4nnlich\",\"WBev nach Stadtkreis, Quartier und Alter/Kreis 9/Altstetten/m\\u00e4nnlich\",\"WBev nach Stadtkreis, Quartier und Alter/Kreis 1/City/m\\u00e4nnlich\",\"WBev nach Stadtkreis, Quartier und Alter/Kreis 2/Enge/m\\u00e4nnlich\",\"WBev nach Stadtkreis, Quartier und Alter/Kreis 5/Escher Wyss/m\\u00e4nnlich\",\"WBev nach Stadtkreis, Quartier und Alter/Kreis 7/Fluntern/m\\u00e4nnlich\",\"WBev nach Stadtkreis, Quartier und Alter/Kreis 3/Friesenberg/m\\u00e4nnlich\",\"WBev nach Stadtkreis, Quartier und Alter/Kreis 5/Gewerbeschule/m\\u00e4nnlich\",\"WBev nach Stadtkreis, Quartier und Alter/Kreis 4/Hard/m\\u00e4nnlich\",\"WBev nach Stadtkreis, Quartier und Alter/Kreis 7/Hirslanden/m\\u00e4nnlich\",\"WBev nach Stadtkreis, Quartier und Alter/Kreis 12/Hirzenbach/m\\u00e4nnlich\",\"WBev nach Stadtkreis, Quartier und Alter/Kreis 1/Hochschulen/m\\u00e4nnlich\",\"WBev nach Stadtkreis, Quartier und Alter/Kreis 7/Hottingen/m\\u00e4nnlich\",\"WBev nach Stadtkreis, Quartier und Alter/Kreis 10/H\\u00f6ngg/m\\u00e4nnlich\",\"WBev nach Stadtkreis, Quartier und Alter/Kreis 4/Langstrasse/m\\u00e4nnlich\",\"WBev nach Stadtkreis, Quartier und Alter/Kreis 2/Leimbach/m\\u00e4nnlich\",\"WBev nach Stadtkreis, Quartier und Alter/Kreis 1/Lindenhof/m\\u00e4nnlich\",\"WBev nach Stadtkreis, Quartier und Alter/Kreis 8/M\\u00fchlebach/m\\u00e4nnlich\",\"WBev nach Stadtkreis, Quartier und Alter/Kreis 6/Oberstrass/m\\u00e4nnlich\",\"WBev nach Stadtkreis, Quartier und Alter/Kreis 11/Oerlikon/m\\u00e4nnlich\",\"WBev nach Stadtkreis, Quartier und Alter/Kreis 1/Rathaus/m\\u00e4nnlich\",\"WBev nach Stadtkreis, Quartier und Alter/Kreis 12/Saatlen/m\\u00e4nnlich\",\"WBev nach Stadtkreis, Quartier und Alter/Kreis 12/Schwamendingen-Mitte/m\\u00e4nnlich\",\"WBev nach Stadtkreis, Quartier und Alter/Kreis 11/Seebach/m\\u00e4nnlich\",\"WBev nach Stadtkreis, Quartier und Alter/Kreis 8/Seefeld/m\\u00e4nnlich\",\"WBev nach Stadtkreis, Quartier und Alter/Kreis 3/Sihlfeld/m\\u00e4nnlich\",\"WBev nach Stadtkreis, Quartier und Alter/Kreis 6/Unterstrass/m\\u00e4nnlich\",\"WBev nach Stadtkreis, Quartier und Alter/Kreis 8/Weinegg/m\\u00e4nnlich\",\"WBev nach Stadtkreis, Quartier und Alter/Kreis 4/Werd/m\\u00e4nnlich\",\"WBev nach Stadtkreis, Quartier und Alter/Kreis 10/Wipkingen/m\\u00e4nnlich\",\"WBev nach Stadtkreis, Quartier und Alter/Kreis 7/Witikon/m\\u00e4nnlich\",\"WBev nach Stadtkreis, Quartier und Alter/Kreis 2/Wollishofen/m\\u00e4nnlich\",\"WBev nach Stadtkreis, Quartier und Alter/Kreis 11/Affoltern/weiblich\",\"WBev nach Stadtkreis, Quartier und Alter/Kreis 9/Albisrieden/weiblich\",\"WBev nach Stadtkreis, Quartier und Alter/Kreis 3/Alt-Wiedikon/weiblich\",\"WBev nach Stadtkreis, Quartier und Alter/Kreis 9/Altstetten/weiblich\",\"WBev nach Stadtkreis, Quartier und Alter/Kreis 1/City/weiblich\",\"WBev nach Stadtkreis, Quartier und Alter/Kreis 2/Enge/weiblich\",\"WBev nach Stadtkreis, Quartier und Alter/Kreis 5/Escher Wyss/weiblich\",\"WBev nach Stadtkreis, Quartier und Alter/Kreis 7/Fluntern/weiblich\",\"WBev nach Stadtkreis, Quartier und Alter/Kreis 3/Friesenberg/weiblich\",\"WBev nach Stadtkreis, Quartier und Alter/Kreis 5/Gewerbeschule/weiblich\",\"WBev nach Stadtkreis, Quartier und Alter/Kreis 4/Hard/weiblich\",\"WBev nach Stadtkreis, Quartier und Alter/Kreis 7/Hirslanden/weiblich\",\"WBev nach Stadtkreis, Quartier und Alter/Kreis 12/Hirzenbach/weiblich\",\"WBev nach Stadtkreis, Quartier und Alter/Kreis 7/Hottingen/weiblich\",\"WBev nach Stadtkreis, Quartier und Alter/Kreis 10/H\\u00f6ngg/weiblich\",\"WBev nach Stadtkreis, Quartier und Alter/Kreis 4/Langstrasse/weiblich\",\"WBev nach Stadtkreis, Quartier und Alter/Kreis 2/Leimbach/weiblich\",\"WBev nach Stadtkreis, Quartier und Alter/Kreis 1/Lindenhof/weiblich\",\"WBev nach Stadtkreis, Quartier und Alter/Kreis 8/M\\u00fchlebach/weiblich\",\"WBev nach Stadtkreis, Quartier und Alter/Kreis 6/Oberstrass/weiblich\",\"WBev nach Stadtkreis, Quartier und Alter/Kreis 11/Oerlikon/weiblich\",\"WBev nach Stadtkreis, Quartier und Alter/Kreis 1/Rathaus/weiblich\",\"WBev nach Stadtkreis, Quartier und Alter/Kreis 12/Saatlen/weiblich\",\"WBev nach Stadtkreis, Quartier und Alter/Kreis 12/Schwamendingen-Mitte/weiblich\",\"WBev nach Stadtkreis, Quartier und Alter/Kreis 11/Seebach/weiblich\",\"WBev nach Stadtkreis, Quartier und Alter/Kreis 8/Seefeld/weiblich\",\"WBev nach Stadtkreis, Quartier und Alter/Kreis 3/Sihlfeld/weiblich\",\"WBev nach Stadtkreis, Quartier und Alter/Kreis 6/Unterstrass/weiblich\",\"WBev nach Stadtkreis, Quartier und Alter/Kreis 8/Weinegg/weiblich\",\"WBev nach Stadtkreis, Quartier und Alter/Kreis 4/Werd/weiblich\",\"WBev nach Stadtkreis, Quartier und Alter/Kreis 10/Wipkingen/weiblich\",\"WBev nach Stadtkreis, Quartier und Alter/Kreis 7/Witikon/weiblich\",\"WBev nach Stadtkreis, Quartier und Alter/Kreis 2/Wollishofen/weiblich\",\"WBev nach Stadtkreis, Quartier und Alter/Kreis 11/Affoltern\",\"WBev nach Stadtkreis, Quartier und Alter/Kreis 9/Albisrieden\",\"WBev nach Stadtkreis, Quartier und Alter/Kreis 3/Alt-Wiedikon\",\"WBev nach Stadtkreis, Quartier und Alter/Kreis 9/Altstetten\",\"WBev nach Stadtkreis, Quartier und Alter/Kreis 1/City\",\"WBev nach Stadtkreis, Quartier und Alter/Kreis 2/Enge\",\"WBev nach Stadtkreis, Quartier und Alter/Kreis 5/Escher Wyss\",\"WBev nach Stadtkreis, Quartier und Alter/Kreis 7/Fluntern\",\"WBev nach Stadtkreis, Quartier und Alter/Kreis 3/Friesenberg\",\"WBev nach Stadtkreis, Quartier und Alter/Kreis 5/Gewerbeschule\",\"WBev nach Stadtkreis, Quartier und Alter/Kreis 4/Hard\",\"WBev nach Stadtkreis, Quartier und Alter/Kreis 7/Hirslanden\",\"WBev nach Stadtkreis, Quartier und Alter/Kreis 12/Hirzenbach\",\"WBev nach Stadtkreis, Quartier und Alter/Kreis 1/Hochschulen\",\"WBev nach Stadtkreis, Quartier und Alter/Kreis 7/Hottingen\",\"WBev nach Stadtkreis, Quartier und Alter/Kreis 10/H\\u00f6ngg\",\"WBev nach Stadtkreis, Quartier und Alter/Kreis 4/Langstrasse\",\"WBev nach Stadtkreis, Quartier und Alter/Kreis 2/Leimbach\",\"WBev nach Stadtkreis, Quartier und Alter/Kreis 1/Lindenhof\",\"WBev nach Stadtkreis, Quartier und Alter/Kreis 8/M\\u00fchlebach\",\"WBev nach Stadtkreis, Quartier und Alter/Kreis 6/Oberstrass\",\"WBev nach Stadtkreis, Quartier und Alter/Kreis 11/Oerlikon\",\"WBev nach Stadtkreis, Quartier und Alter/Kreis 1/Rathaus\",\"WBev nach Stadtkreis, Quartier und Alter/Kreis 12/Saatlen\",\"WBev nach Stadtkreis, Quartier und Alter/Kreis 12/Schwamendingen-Mitte\",\"WBev nach Stadtkreis, Quartier und Alter/Kreis 11/Seebach\",\"WBev nach Stadtkreis, Quartier und Alter/Kreis 8/Seefeld\",\"WBev nach Stadtkreis, Quartier und Alter/Kreis 3/Sihlfeld\",\"WBev nach Stadtkreis, Quartier und Alter/Kreis 6/Unterstrass\",\"WBev nach Stadtkreis, Quartier und Alter/Kreis 8/Weinegg\",\"WBev nach Stadtkreis, Quartier und Alter/Kreis 4/Werd\",\"WBev nach Stadtkreis, Quartier und Alter/Kreis 10/Wipkingen\",\"WBev nach Stadtkreis, Quartier und Alter/Kreis 7/Witikon\",\"WBev nach Stadtkreis, Quartier und Alter/Kreis 2/Wollishofen\",\"WBev nach Stadtkreis, Quartier und Alter/Kreis 1\",\"WBev nach Stadtkreis, Quartier und Alter/Kreis 10\",\"WBev nach Stadtkreis, Quartier und Alter/Kreis 11\",\"WBev nach Stadtkreis, Quartier und Alter/Kreis 12\",\"WBev nach Stadtkreis, Quartier und Alter/Kreis 2\",\"WBev nach Stadtkreis, Quartier und Alter/Kreis 3\",\"WBev nach Stadtkreis, Quartier und Alter/Kreis 4\",\"WBev nach Stadtkreis, Quartier und Alter/Kreis 5\",\"WBev nach Stadtkreis, Quartier und Alter/Kreis 6\",\"WBev nach Stadtkreis, Quartier und Alter/Kreis 7\",\"WBev nach Stadtkreis, Quartier und Alter/Kreis 8\",\"WBev nach Stadtkreis, Quartier und Alter/Kreis 9\",\"WBev nach Stadtkreis, Quartier und Alter\"],\"labels\":[\"Ausl\\u00e4nder/in\",\"Ausl\\u00e4nder/in\",\"Ausl\\u00e4nder/in\",\"Ausl\\u00e4nder/in\",\"Ausl\\u00e4nder/in\",\"Ausl\\u00e4nder/in\",\"Ausl\\u00e4nder/in\",\"Ausl\\u00e4nder/in\",\"Ausl\\u00e4nder/in\",\"Ausl\\u00e4nder/in\",\"Ausl\\u00e4nder/in\",\"Ausl\\u00e4nder/in\",\"Ausl\\u00e4nder/in\",\"Ausl\\u00e4nder/in\",\"Ausl\\u00e4nder/in\",\"Ausl\\u00e4nder/in\",\"Ausl\\u00e4nder/in\",\"Ausl\\u00e4nder/in\",\"Ausl\\u00e4nder/in\",\"Ausl\\u00e4nder/in\",\"Ausl\\u00e4nder/in\",\"Ausl\\u00e4nder/in\",\"Ausl\\u00e4nder/in\",\"Ausl\\u00e4nder/in\",\"Ausl\\u00e4nder/in\",\"Ausl\\u00e4nder/in\",\"Ausl\\u00e4nder/in\",\"Ausl\\u00e4nder/in\",\"Ausl\\u00e4nder/in\",\"Ausl\\u00e4nder/in\",\"Ausl\\u00e4nder/in\",\"Ausl\\u00e4nder/in\",\"Ausl\\u00e4nder/in\",\"Ausl\\u00e4nder/in\",\"Ausl\\u00e4nder/in\",\"Ausl\\u00e4nder/in\",\"Ausl\\u00e4nder/in\",\"Ausl\\u00e4nder/in\",\"Ausl\\u00e4nder/in\",\"Ausl\\u00e4nder/in\",\"Ausl\\u00e4nder/in\",\"Ausl\\u00e4nder/in\",\"Ausl\\u00e4nder/in\",\"Ausl\\u00e4nder/in\",\"Ausl\\u00e4nder/in\",\"Ausl\\u00e4nder/in\",\"Ausl\\u00e4nder/in\",\"Ausl\\u00e4nder/in\",\"Ausl\\u00e4nder/in\",\"Ausl\\u00e4nder/in\",\"Ausl\\u00e4nder/in\",\"Ausl\\u00e4nder/in\",\"Ausl\\u00e4nder/in\",\"Ausl\\u00e4nder/in\",\"Ausl\\u00e4nder/in\",\"Ausl\\u00e4nder/in\",\"Ausl\\u00e4nder/in\",\"Ausl\\u00e4nder/in\",\"Ausl\\u00e4nder/in\",\"Ausl\\u00e4nder/in\",\"Ausl\\u00e4nder/in\",\"Ausl\\u00e4nder/in\",\"Ausl\\u00e4nder/in\",\"Ausl\\u00e4nder/in\",\"Ausl\\u00e4nder/in\",\"Schweizer/in\",\"Schweizer/in\",\"Schweizer/in\",\"Schweizer/in\",\"Schweizer/in\",\"Schweizer/in\",\"Schweizer/in\",\"Schweizer/in\",\"Schweizer/in\",\"Schweizer/in\",\"Schweizer/in\",\"Schweizer/in\",\"Schweizer/in\",\"Schweizer/in\",\"Schweizer/in\",\"Schweizer/in\",\"Schweizer/in\",\"Schweizer/in\",\"Schweizer/in\",\"Schweizer/in\",\"Schweizer/in\",\"Schweizer/in\",\"Schweizer/in\",\"Schweizer/in\",\"Schweizer/in\",\"Schweizer/in\",\"Schweizer/in\",\"Schweizer/in\",\"Schweizer/in\",\"Schweizer/in\",\"Schweizer/in\",\"Schweizer/in\",\"Schweizer/in\",\"Schweizer/in\",\"Schweizer/in\",\"Schweizer/in\",\"Schweizer/in\",\"Schweizer/in\",\"Schweizer/in\",\"Schweizer/in\",\"Schweizer/in\",\"Schweizer/in\",\"Schweizer/in\",\"Schweizer/in\",\"Schweizer/in\",\"Schweizer/in\",\"Schweizer/in\",\"Schweizer/in\",\"Schweizer/in\",\"Schweizer/in\",\"Schweizer/in\",\"Schweizer/in\",\"Schweizer/in\",\"Schweizer/in\",\"Schweizer/in\",\"Schweizer/in\",\"Schweizer/in\",\"Schweizer/in\",\"Schweizer/in\",\"Schweizer/in\",\"Schweizer/in\",\"Schweizer/in\",\"Schweizer/in\",\"Schweizer/in\",\"Schweizer/in\",\"Schweizer/in\",\"m\\u00e4nnlich\",\"m\\u00e4nnlich\",\"m\\u00e4nnlich\",\"m\\u00e4nnlich\",\"m\\u00e4nnlich\",\"m\\u00e4nnlich\",\"m\\u00e4nnlich\",\"m\\u00e4nnlich\",\"m\\u00e4nnlich\",\"m\\u00e4nnlich\",\"m\\u00e4nnlich\",\"m\\u00e4nnlich\",\"m\\u00e4nnlich\",\"m\\u00e4nnlich\",\"m\\u00e4nnlich\",\"m\\u00e4nnlich\",\"m\\u00e4nnlich\",\"m\\u00e4nnlich\",\"m\\u00e4nnlich\",\"m\\u00e4nnlich\",\"m\\u00e4nnlich\",\"m\\u00e4nnlich\",\"m\\u00e4nnlich\",\"m\\u00e4nnlich\",\"m\\u00e4nnlich\",\"m\\u00e4nnlich\",\"m\\u00e4nnlich\",\"m\\u00e4nnlich\",\"m\\u00e4nnlich\",\"m\\u00e4nnlich\",\"m\\u00e4nnlich\",\"m\\u00e4nnlich\",\"m\\u00e4nnlich\",\"m\\u00e4nnlich\",\"weiblich\",\"weiblich\",\"weiblich\",\"weiblich\",\"weiblich\",\"weiblich\",\"weiblich\",\"weiblich\",\"weiblich\",\"weiblich\",\"weiblich\",\"weiblich\",\"weiblich\",\"weiblich\",\"weiblich\",\"weiblich\",\"weiblich\",\"weiblich\",\"weiblich\",\"weiblich\",\"weiblich\",\"weiblich\",\"weiblich\",\"weiblich\",\"weiblich\",\"weiblich\",\"weiblich\",\"weiblich\",\"weiblich\",\"weiblich\",\"weiblich\",\"weiblich\",\"weiblich\",\"Affoltern\",\"Albisrieden\",\"Alt-Wiedikon\",\"Altstetten\",\"City\",\"Enge\",\"Escher Wyss\",\"Fluntern\",\"Friesenberg\",\"Gewerbeschule\",\"Hard\",\"Hirslanden\",\"Hirzenbach\",\"Hochschulen\",\"Hottingen\",\"H\\u00f6ngg\",\"Langstrasse\",\"Leimbach\",\"Lindenhof\",\"M\\u00fchlebach\",\"Oberstrass\",\"Oerlikon\",\"Rathaus\",\"Saatlen\",\"Schwamendingen-Mitte\",\"Seebach\",\"Seefeld\",\"Sihlfeld\",\"Unterstrass\",\"Weinegg\",\"Werd\",\"Wipkingen\",\"Witikon\",\"Wollishofen\",\"Kreis 1\",\"Kreis 10\",\"Kreis 11\",\"Kreis 12\",\"Kreis 2\",\"Kreis 3\",\"Kreis 4\",\"Kreis 5\",\"Kreis 6\",\"Kreis 7\",\"Kreis 8\",\"Kreis 9\",\"WBev nach Stadtkreis, Quartier und Alter\"],\"marker\":{\"coloraxis\":\"coloraxis\",\"colors\":[5.16,4.571428571428571,2.8260869565217392,7.878787878787879,1.0,3.8333333333333335,2.3333333333333335,2.625,1.5454545454545454,1.6153846153846154,1.5,1.9230769230769231,6.25,3.9473684210526314,2.4782608695652173,2.625,3.0,2.272727272727273,2.0,6.3090909090909095,1.0,1.8,3.5294117647058822,7.242424242424242,3.48,4.733333333333333,4.105263157894737,1.6,2.0,3.64,3.1,5.37037037037037,6.678571428571429,6.866666666666666,3.923076923076923,5.25531914893617,1.0,5.3428571428571425,2.125,1.3333333333333333,2.272727272727273,1.7272727272727273,2.2941176470588234,2.0,3.6666666666666665,2.764705882352941,3.9714285714285715,1.8333333333333333,3.0,2.0,2.0,2.125,6.892857142857143,3.4,1.8888888888888888,4.542857142857143,8.272727272727273,2.230769230769231,5.303030303030303,3.5925925925925926,2.272727272727273,2.2,4.75,1.9411764705882353,4.771428571428571,8.604651162790697,10.174311926605505,8.289473684210526,11.76271186440678,1.0,5.679245283018868,3.9714285714285715,3.4827586206896552,2.8181818181818183,3.3448275862068964,6.586206896551724,4.125,4.826086956521739,1.0,4.463414634146342,10.0,5.36,2.4444444444444446,1.0,2.4,4.578947368421052,8.358024691358025,1.5,4.794871794871795,3.7333333333333334,8.261904761904763,2.76,10.333333333333334,10.056603773584905,4.043478260869565,3.5454545454545454,8.275,4.371428571428571,8.270588235294118,8.170731707317072,9.88888888888889,7.0,13.34074074074074,5.363636363636363,4.7073170731707314,3.4,2.5,4.9,5.377358490566038,3.7096774193548385,6.419354838709677,5.666666666666667,10.481481481481481,6.4,2.411764705882353,1.0,4.916666666666667,4.375,7.235294117647059,1.3333333333333333,4.0,3.0,8.160493827160494,2.8095238095238093,10.26086956521739,11.295652173913043,2.066666666666667,3.090909090909091,8.146341463414634,3.08,9.195652173913043,7.338235294117647,8.6158940397351,7.02020202020202,10.369565217391305,1.0,4.932584269662922,3.357142857142857,3.1777777777777776,2.393939393939394,2.8095238095238093,5.714285714285714,3.488888888888889,5.488372093023256,1.0,4.3,8.546218487394958,4.696969696969697,2.72972972972973,1.0,2.3548387096774195,3.8846153846153846,7.529411764705882,1.3333333333333333,4.454545454545454,3.625,7.8133333333333335,3.12,8.507246376811594,8.48611111111111,3.303030303030303,3.2142857142857144,7.171428571428572,3.909090909090909,7.143884892086331,7.565217391304348,9.186046511627907,6.101123595505618,11.252747252747254,1.0,5.355555555555555,3.982456140350877,3.0555555555555554,2.4193548387096775,4.215686274509804,4.628571428571429,3.2325581395348837,5.584269662921348,4.9411764705882355,8.888111888111888,5.638888888888889,2.7142857142857144,1.5,3.8421052631578947,3.625,7.080645161290323,2.272727272727273,3.558139534883721,3.9152542372881354,8.210884353741497,2.588235294117647,8.952,9.830985915492958,2.1538461538461537,2.8125,7.377358490566038,2.619047619047619,7.9763779527559056,7.452554744525547,8.878571428571428,6.585106382978723,10.808743169398907,1.0,5.145251396648045,3.672566371681416,3.123456790123457,2.40625,3.5806451612903225,5.171428571428572,3.3636363636363638,5.537142857142857,1.0,4.640625,8.732824427480915,5.188405797101449,2.7222222222222223,1.4,3.1739130434782608,3.76,7.315384615384615,1.9411764705882353,4.011494252873563,3.7642276422764227,8.01010101010101,2.9047619047619047,8.718631178707223,9.153846153846153,2.7966101694915255,3.0,7.274881516587678,3.350515463917526,7.541353383458647,1.5806451612903225,8.08245243128964,7.6089049338146815,4.625974025974026,6.040618955512572,7.155339805825243,4.792899408284024,3.6310679611650487,7.756476683937824,3.7258883248730963,2.9622641509433962,9.972136222910217,6.62423996757195]},\"name\":\"\",\"parents\":[\"WBev nach Stadtkreis, Quartier und Alter/Kreis 11/Affoltern/m\\u00e4nnlich\",\"WBev nach Stadtkreis, Quartier und Alter/Kreis 9/Albisrieden/m\\u00e4nnlich\",\"WBev nach Stadtkreis, Quartier und Alter/Kreis 3/Alt-Wiedikon/m\\u00e4nnlich\",\"WBev nach Stadtkreis, Quartier und Alter/Kreis 9/Altstetten/m\\u00e4nnlich\",\"WBev nach Stadtkreis, Quartier und Alter/Kreis 1/City/m\\u00e4nnlich\",\"WBev nach Stadtkreis, Quartier und Alter/Kreis 2/Enge/m\\u00e4nnlich\",\"WBev nach Stadtkreis, Quartier und Alter/Kreis 5/Escher Wyss/m\\u00e4nnlich\",\"WBev nach Stadtkreis, Quartier und Alter/Kreis 7/Fluntern/m\\u00e4nnlich\",\"WBev nach Stadtkreis, Quartier und Alter/Kreis 3/Friesenberg/m\\u00e4nnlich\",\"WBev nach Stadtkreis, Quartier und Alter/Kreis 5/Gewerbeschule/m\\u00e4nnlich\",\"WBev nach Stadtkreis, Quartier und Alter/Kreis 4/Hard/m\\u00e4nnlich\",\"WBev nach Stadtkreis, Quartier und Alter/Kreis 7/Hirslanden/m\\u00e4nnlich\",\"WBev nach Stadtkreis, Quartier und Alter/Kreis 12/Hirzenbach/m\\u00e4nnlich\",\"WBev nach Stadtkreis, Quartier und Alter/Kreis 7/Hottingen/m\\u00e4nnlich\",\"WBev nach Stadtkreis, Quartier und Alter/Kreis 10/H\\u00f6ngg/m\\u00e4nnlich\",\"WBev nach Stadtkreis, Quartier und Alter/Kreis 4/Langstrasse/m\\u00e4nnlich\",\"WBev nach Stadtkreis, Quartier und Alter/Kreis 2/Leimbach/m\\u00e4nnlich\",\"WBev nach Stadtkreis, Quartier und Alter/Kreis 8/M\\u00fchlebach/m\\u00e4nnlich\",\"WBev nach Stadtkreis, Quartier und Alter/Kreis 6/Oberstrass/m\\u00e4nnlich\",\"WBev nach Stadtkreis, Quartier und Alter/Kreis 11/Oerlikon/m\\u00e4nnlich\",\"WBev nach Stadtkreis, Quartier und Alter/Kreis 1/Rathaus/m\\u00e4nnlich\",\"WBev nach Stadtkreis, Quartier und Alter/Kreis 12/Saatlen/m\\u00e4nnlich\",\"WBev nach Stadtkreis, Quartier und Alter/Kreis 12/Schwamendingen-Mitte/m\\u00e4nnlich\",\"WBev nach Stadtkreis, Quartier und Alter/Kreis 11/Seebach/m\\u00e4nnlich\",\"WBev nach Stadtkreis, Quartier und Alter/Kreis 8/Seefeld/m\\u00e4nnlich\",\"WBev nach Stadtkreis, Quartier und Alter/Kreis 3/Sihlfeld/m\\u00e4nnlich\",\"WBev nach Stadtkreis, Quartier und Alter/Kreis 6/Unterstrass/m\\u00e4nnlich\",\"WBev nach Stadtkreis, Quartier und Alter/Kreis 8/Weinegg/m\\u00e4nnlich\",\"WBev nach Stadtkreis, Quartier und Alter/Kreis 4/Werd/m\\u00e4nnlich\",\"WBev nach Stadtkreis, Quartier und Alter/Kreis 10/Wipkingen/m\\u00e4nnlich\",\"WBev nach Stadtkreis, Quartier und Alter/Kreis 7/Witikon/m\\u00e4nnlich\",\"WBev nach Stadtkreis, Quartier und Alter/Kreis 2/Wollishofen/m\\u00e4nnlich\",\"WBev nach Stadtkreis, Quartier und Alter/Kreis 11/Affoltern/weiblich\",\"WBev nach Stadtkreis, Quartier und Alter/Kreis 9/Albisrieden/weiblich\",\"WBev nach Stadtkreis, Quartier und Alter/Kreis 3/Alt-Wiedikon/weiblich\",\"WBev nach Stadtkreis, Quartier und Alter/Kreis 9/Altstetten/weiblich\",\"WBev nach Stadtkreis, Quartier und Alter/Kreis 1/City/weiblich\",\"WBev nach Stadtkreis, Quartier und Alter/Kreis 2/Enge/weiblich\",\"WBev nach Stadtkreis, Quartier und Alter/Kreis 5/Escher Wyss/weiblich\",\"WBev nach Stadtkreis, Quartier und Alter/Kreis 7/Fluntern/weiblich\",\"WBev nach Stadtkreis, Quartier und Alter/Kreis 3/Friesenberg/weiblich\",\"WBev nach Stadtkreis, Quartier und Alter/Kreis 5/Gewerbeschule/weiblich\",\"WBev nach Stadtkreis, Quartier und Alter/Kreis 4/Hard/weiblich\",\"WBev nach Stadtkreis, Quartier und Alter/Kreis 7/Hirslanden/weiblich\",\"WBev nach Stadtkreis, Quartier und Alter/Kreis 12/Hirzenbach/weiblich\",\"WBev nach Stadtkreis, Quartier und Alter/Kreis 7/Hottingen/weiblich\",\"WBev nach Stadtkreis, Quartier und Alter/Kreis 10/H\\u00f6ngg/weiblich\",\"WBev nach Stadtkreis, Quartier und Alter/Kreis 4/Langstrasse/weiblich\",\"WBev nach Stadtkreis, Quartier und Alter/Kreis 2/Leimbach/weiblich\",\"WBev nach Stadtkreis, Quartier und Alter/Kreis 1/Lindenhof/weiblich\",\"WBev nach Stadtkreis, Quartier und Alter/Kreis 8/M\\u00fchlebach/weiblich\",\"WBev nach Stadtkreis, Quartier und Alter/Kreis 6/Oberstrass/weiblich\",\"WBev nach Stadtkreis, Quartier und Alter/Kreis 11/Oerlikon/weiblich\",\"WBev nach Stadtkreis, Quartier und Alter/Kreis 1/Rathaus/weiblich\",\"WBev nach Stadtkreis, Quartier und Alter/Kreis 12/Saatlen/weiblich\",\"WBev nach Stadtkreis, Quartier und Alter/Kreis 12/Schwamendingen-Mitte/weiblich\",\"WBev nach Stadtkreis, Quartier und Alter/Kreis 11/Seebach/weiblich\",\"WBev nach Stadtkreis, Quartier und Alter/Kreis 8/Seefeld/weiblich\",\"WBev nach Stadtkreis, Quartier und Alter/Kreis 3/Sihlfeld/weiblich\",\"WBev nach Stadtkreis, Quartier und Alter/Kreis 6/Unterstrass/weiblich\",\"WBev nach Stadtkreis, Quartier und Alter/Kreis 8/Weinegg/weiblich\",\"WBev nach Stadtkreis, Quartier und Alter/Kreis 4/Werd/weiblich\",\"WBev nach Stadtkreis, Quartier und Alter/Kreis 10/Wipkingen/weiblich\",\"WBev nach Stadtkreis, Quartier und Alter/Kreis 7/Witikon/weiblich\",\"WBev nach Stadtkreis, Quartier und Alter/Kreis 2/Wollishofen/weiblich\",\"WBev nach Stadtkreis, Quartier und Alter/Kreis 11/Affoltern/m\\u00e4nnlich\",\"WBev nach Stadtkreis, Quartier und Alter/Kreis 9/Albisrieden/m\\u00e4nnlich\",\"WBev nach Stadtkreis, Quartier und Alter/Kreis 3/Alt-Wiedikon/m\\u00e4nnlich\",\"WBev nach Stadtkreis, Quartier und Alter/Kreis 9/Altstetten/m\\u00e4nnlich\",\"WBev nach Stadtkreis, Quartier und Alter/Kreis 1/City/m\\u00e4nnlich\",\"WBev nach Stadtkreis, Quartier und Alter/Kreis 2/Enge/m\\u00e4nnlich\",\"WBev nach Stadtkreis, Quartier und Alter/Kreis 5/Escher Wyss/m\\u00e4nnlich\",\"WBev nach Stadtkreis, Quartier und Alter/Kreis 7/Fluntern/m\\u00e4nnlich\",\"WBev nach Stadtkreis, Quartier und Alter/Kreis 3/Friesenberg/m\\u00e4nnlich\",\"WBev nach Stadtkreis, Quartier und Alter/Kreis 5/Gewerbeschule/m\\u00e4nnlich\",\"WBev nach Stadtkreis, Quartier und Alter/Kreis 4/Hard/m\\u00e4nnlich\",\"WBev nach Stadtkreis, Quartier und Alter/Kreis 7/Hirslanden/m\\u00e4nnlich\",\"WBev nach Stadtkreis, Quartier und Alter/Kreis 12/Hirzenbach/m\\u00e4nnlich\",\"WBev nach Stadtkreis, Quartier und Alter/Kreis 1/Hochschulen/m\\u00e4nnlich\",\"WBev nach Stadtkreis, Quartier und Alter/Kreis 7/Hottingen/m\\u00e4nnlich\",\"WBev nach Stadtkreis, Quartier und Alter/Kreis 10/H\\u00f6ngg/m\\u00e4nnlich\",\"WBev nach Stadtkreis, Quartier und Alter/Kreis 4/Langstrasse/m\\u00e4nnlich\",\"WBev nach Stadtkreis, Quartier und Alter/Kreis 2/Leimbach/m\\u00e4nnlich\",\"WBev nach Stadtkreis, Quartier und Alter/Kreis 1/Lindenhof/m\\u00e4nnlich\",\"WBev nach Stadtkreis, Quartier und Alter/Kreis 8/M\\u00fchlebach/m\\u00e4nnlich\",\"WBev nach Stadtkreis, Quartier und Alter/Kreis 6/Oberstrass/m\\u00e4nnlich\",\"WBev nach Stadtkreis, Quartier und Alter/Kreis 11/Oerlikon/m\\u00e4nnlich\",\"WBev nach Stadtkreis, Quartier und Alter/Kreis 1/Rathaus/m\\u00e4nnlich\",\"WBev nach Stadtkreis, Quartier und Alter/Kreis 12/Saatlen/m\\u00e4nnlich\",\"WBev nach Stadtkreis, Quartier und Alter/Kreis 12/Schwamendingen-Mitte/m\\u00e4nnlich\",\"WBev nach Stadtkreis, Quartier und Alter/Kreis 11/Seebach/m\\u00e4nnlich\",\"WBev nach Stadtkreis, Quartier und Alter/Kreis 8/Seefeld/m\\u00e4nnlich\",\"WBev nach Stadtkreis, Quartier und Alter/Kreis 3/Sihlfeld/m\\u00e4nnlich\",\"WBev nach Stadtkreis, Quartier und Alter/Kreis 6/Unterstrass/m\\u00e4nnlich\",\"WBev nach Stadtkreis, Quartier und Alter/Kreis 8/Weinegg/m\\u00e4nnlich\",\"WBev nach Stadtkreis, Quartier und Alter/Kreis 4/Werd/m\\u00e4nnlich\",\"WBev nach Stadtkreis, Quartier und Alter/Kreis 10/Wipkingen/m\\u00e4nnlich\",\"WBev nach Stadtkreis, Quartier und Alter/Kreis 7/Witikon/m\\u00e4nnlich\",\"WBev nach Stadtkreis, Quartier und Alter/Kreis 2/Wollishofen/m\\u00e4nnlich\",\"WBev nach Stadtkreis, Quartier und Alter/Kreis 11/Affoltern/weiblich\",\"WBev nach Stadtkreis, Quartier und Alter/Kreis 9/Albisrieden/weiblich\",\"WBev nach Stadtkreis, Quartier und Alter/Kreis 3/Alt-Wiedikon/weiblich\",\"WBev nach Stadtkreis, Quartier und Alter/Kreis 9/Altstetten/weiblich\",\"WBev nach Stadtkreis, Quartier und Alter/Kreis 2/Enge/weiblich\",\"WBev nach Stadtkreis, Quartier und Alter/Kreis 5/Escher Wyss/weiblich\",\"WBev nach Stadtkreis, Quartier und Alter/Kreis 7/Fluntern/weiblich\",\"WBev nach Stadtkreis, Quartier und Alter/Kreis 3/Friesenberg/weiblich\",\"WBev nach Stadtkreis, Quartier und Alter/Kreis 5/Gewerbeschule/weiblich\",\"WBev nach Stadtkreis, Quartier und Alter/Kreis 4/Hard/weiblich\",\"WBev nach Stadtkreis, Quartier und Alter/Kreis 7/Hirslanden/weiblich\",\"WBev nach Stadtkreis, Quartier und Alter/Kreis 12/Hirzenbach/weiblich\",\"WBev nach Stadtkreis, Quartier und Alter/Kreis 7/Hottingen/weiblich\",\"WBev nach Stadtkreis, Quartier und Alter/Kreis 10/H\\u00f6ngg/weiblich\",\"WBev nach Stadtkreis, Quartier und Alter/Kreis 4/Langstrasse/weiblich\",\"WBev nach Stadtkreis, Quartier und Alter/Kreis 2/Leimbach/weiblich\",\"WBev nach Stadtkreis, Quartier und Alter/Kreis 1/Lindenhof/weiblich\",\"WBev nach Stadtkreis, Quartier und Alter/Kreis 8/M\\u00fchlebach/weiblich\",\"WBev nach Stadtkreis, Quartier und Alter/Kreis 6/Oberstrass/weiblich\",\"WBev nach Stadtkreis, Quartier und Alter/Kreis 11/Oerlikon/weiblich\",\"WBev nach Stadtkreis, Quartier und Alter/Kreis 1/Rathaus/weiblich\",\"WBev nach Stadtkreis, Quartier und Alter/Kreis 12/Saatlen/weiblich\",\"WBev nach Stadtkreis, Quartier und Alter/Kreis 12/Schwamendingen-Mitte/weiblich\",\"WBev nach Stadtkreis, Quartier und Alter/Kreis 11/Seebach/weiblich\",\"WBev nach Stadtkreis, Quartier und Alter/Kreis 8/Seefeld/weiblich\",\"WBev nach Stadtkreis, Quartier und Alter/Kreis 3/Sihlfeld/weiblich\",\"WBev nach Stadtkreis, Quartier und Alter/Kreis 6/Unterstrass/weiblich\",\"WBev nach Stadtkreis, Quartier und Alter/Kreis 8/Weinegg/weiblich\",\"WBev nach Stadtkreis, Quartier und Alter/Kreis 4/Werd/weiblich\",\"WBev nach Stadtkreis, Quartier und Alter/Kreis 10/Wipkingen/weiblich\",\"WBev nach Stadtkreis, Quartier und Alter/Kreis 7/Witikon/weiblich\",\"WBev nach Stadtkreis, Quartier und Alter/Kreis 2/Wollishofen/weiblich\",\"WBev nach Stadtkreis, Quartier und Alter/Kreis 11/Affoltern\",\"WBev nach Stadtkreis, Quartier und Alter/Kreis 9/Albisrieden\",\"WBev nach Stadtkreis, Quartier und Alter/Kreis 3/Alt-Wiedikon\",\"WBev nach Stadtkreis, Quartier und Alter/Kreis 9/Altstetten\",\"WBev nach Stadtkreis, Quartier und Alter/Kreis 1/City\",\"WBev nach Stadtkreis, Quartier und Alter/Kreis 2/Enge\",\"WBev nach Stadtkreis, Quartier und Alter/Kreis 5/Escher Wyss\",\"WBev nach Stadtkreis, Quartier und Alter/Kreis 7/Fluntern\",\"WBev nach Stadtkreis, Quartier und Alter/Kreis 3/Friesenberg\",\"WBev nach Stadtkreis, Quartier und Alter/Kreis 5/Gewerbeschule\",\"WBev nach Stadtkreis, Quartier und Alter/Kreis 4/Hard\",\"WBev nach Stadtkreis, Quartier und Alter/Kreis 7/Hirslanden\",\"WBev nach Stadtkreis, Quartier und Alter/Kreis 12/Hirzenbach\",\"WBev nach Stadtkreis, Quartier und Alter/Kreis 1/Hochschulen\",\"WBev nach Stadtkreis, Quartier und Alter/Kreis 7/Hottingen\",\"WBev nach Stadtkreis, Quartier und Alter/Kreis 10/H\\u00f6ngg\",\"WBev nach Stadtkreis, Quartier und Alter/Kreis 4/Langstrasse\",\"WBev nach Stadtkreis, Quartier und Alter/Kreis 2/Leimbach\",\"WBev nach Stadtkreis, Quartier und Alter/Kreis 1/Lindenhof\",\"WBev nach Stadtkreis, Quartier und Alter/Kreis 8/M\\u00fchlebach\",\"WBev nach Stadtkreis, Quartier und Alter/Kreis 6/Oberstrass\",\"WBev nach Stadtkreis, Quartier und Alter/Kreis 11/Oerlikon\",\"WBev nach Stadtkreis, Quartier und Alter/Kreis 1/Rathaus\",\"WBev nach Stadtkreis, Quartier und Alter/Kreis 12/Saatlen\",\"WBev nach Stadtkreis, Quartier und Alter/Kreis 12/Schwamendingen-Mitte\",\"WBev nach Stadtkreis, Quartier und Alter/Kreis 11/Seebach\",\"WBev nach Stadtkreis, Quartier und Alter/Kreis 8/Seefeld\",\"WBev nach Stadtkreis, Quartier und Alter/Kreis 3/Sihlfeld\",\"WBev nach Stadtkreis, Quartier und Alter/Kreis 6/Unterstrass\",\"WBev nach Stadtkreis, Quartier und Alter/Kreis 8/Weinegg\",\"WBev nach Stadtkreis, Quartier und Alter/Kreis 4/Werd\",\"WBev nach Stadtkreis, Quartier und Alter/Kreis 10/Wipkingen\",\"WBev nach Stadtkreis, Quartier und Alter/Kreis 7/Witikon\",\"WBev nach Stadtkreis, Quartier und Alter/Kreis 2/Wollishofen\",\"WBev nach Stadtkreis, Quartier und Alter/Kreis 11/Affoltern\",\"WBev nach Stadtkreis, Quartier und Alter/Kreis 9/Albisrieden\",\"WBev nach Stadtkreis, Quartier und Alter/Kreis 3/Alt-Wiedikon\",\"WBev nach Stadtkreis, Quartier und Alter/Kreis 9/Altstetten\",\"WBev nach Stadtkreis, Quartier und Alter/Kreis 1/City\",\"WBev nach Stadtkreis, Quartier und Alter/Kreis 2/Enge\",\"WBev nach Stadtkreis, Quartier und Alter/Kreis 5/Escher Wyss\",\"WBev nach Stadtkreis, Quartier und Alter/Kreis 7/Fluntern\",\"WBev nach Stadtkreis, Quartier und Alter/Kreis 3/Friesenberg\",\"WBev nach Stadtkreis, Quartier und Alter/Kreis 5/Gewerbeschule\",\"WBev nach Stadtkreis, Quartier und Alter/Kreis 4/Hard\",\"WBev nach Stadtkreis, Quartier und Alter/Kreis 7/Hirslanden\",\"WBev nach Stadtkreis, Quartier und Alter/Kreis 12/Hirzenbach\",\"WBev nach Stadtkreis, Quartier und Alter/Kreis 7/Hottingen\",\"WBev nach Stadtkreis, Quartier und Alter/Kreis 10/H\\u00f6ngg\",\"WBev nach Stadtkreis, Quartier und Alter/Kreis 4/Langstrasse\",\"WBev nach Stadtkreis, Quartier und Alter/Kreis 2/Leimbach\",\"WBev nach Stadtkreis, Quartier und Alter/Kreis 1/Lindenhof\",\"WBev nach Stadtkreis, Quartier und Alter/Kreis 8/M\\u00fchlebach\",\"WBev nach Stadtkreis, Quartier und Alter/Kreis 6/Oberstrass\",\"WBev nach Stadtkreis, Quartier und Alter/Kreis 11/Oerlikon\",\"WBev nach Stadtkreis, Quartier und Alter/Kreis 1/Rathaus\",\"WBev nach Stadtkreis, Quartier und Alter/Kreis 12/Saatlen\",\"WBev nach Stadtkreis, Quartier und Alter/Kreis 12/Schwamendingen-Mitte\",\"WBev nach Stadtkreis, Quartier und Alter/Kreis 11/Seebach\",\"WBev nach Stadtkreis, Quartier und Alter/Kreis 8/Seefeld\",\"WBev nach Stadtkreis, Quartier und Alter/Kreis 3/Sihlfeld\",\"WBev nach Stadtkreis, Quartier und Alter/Kreis 6/Unterstrass\",\"WBev nach Stadtkreis, Quartier und Alter/Kreis 8/Weinegg\",\"WBev nach Stadtkreis, Quartier und Alter/Kreis 4/Werd\",\"WBev nach Stadtkreis, Quartier und Alter/Kreis 10/Wipkingen\",\"WBev nach Stadtkreis, Quartier und Alter/Kreis 7/Witikon\",\"WBev nach Stadtkreis, Quartier und Alter/Kreis 2/Wollishofen\",\"WBev nach Stadtkreis, Quartier und Alter/Kreis 11\",\"WBev nach Stadtkreis, Quartier und Alter/Kreis 9\",\"WBev nach Stadtkreis, Quartier und Alter/Kreis 3\",\"WBev nach Stadtkreis, Quartier und Alter/Kreis 9\",\"WBev nach Stadtkreis, Quartier und Alter/Kreis 1\",\"WBev nach Stadtkreis, Quartier und Alter/Kreis 2\",\"WBev nach Stadtkreis, Quartier und Alter/Kreis 5\",\"WBev nach Stadtkreis, Quartier und Alter/Kreis 7\",\"WBev nach Stadtkreis, Quartier und Alter/Kreis 3\",\"WBev nach Stadtkreis, Quartier und Alter/Kreis 5\",\"WBev nach Stadtkreis, Quartier und Alter/Kreis 4\",\"WBev nach Stadtkreis, Quartier und Alter/Kreis 7\",\"WBev nach Stadtkreis, Quartier und Alter/Kreis 12\",\"WBev nach Stadtkreis, Quartier und Alter/Kreis 1\",\"WBev nach Stadtkreis, Quartier und Alter/Kreis 7\",\"WBev nach Stadtkreis, Quartier und Alter/Kreis 10\",\"WBev nach Stadtkreis, Quartier und Alter/Kreis 4\",\"WBev nach Stadtkreis, Quartier und Alter/Kreis 2\",\"WBev nach Stadtkreis, Quartier und Alter/Kreis 1\",\"WBev nach Stadtkreis, Quartier und Alter/Kreis 8\",\"WBev nach Stadtkreis, Quartier und Alter/Kreis 6\",\"WBev nach Stadtkreis, Quartier und Alter/Kreis 11\",\"WBev nach Stadtkreis, Quartier und Alter/Kreis 1\",\"WBev nach Stadtkreis, Quartier und Alter/Kreis 12\",\"WBev nach Stadtkreis, Quartier und Alter/Kreis 12\",\"WBev nach Stadtkreis, Quartier und Alter/Kreis 11\",\"WBev nach Stadtkreis, Quartier und Alter/Kreis 8\",\"WBev nach Stadtkreis, Quartier und Alter/Kreis 3\",\"WBev nach Stadtkreis, Quartier und Alter/Kreis 6\",\"WBev nach Stadtkreis, Quartier und Alter/Kreis 8\",\"WBev nach Stadtkreis, Quartier und Alter/Kreis 4\",\"WBev nach Stadtkreis, Quartier und Alter/Kreis 10\",\"WBev nach Stadtkreis, Quartier und Alter/Kreis 7\",\"WBev nach Stadtkreis, Quartier und Alter/Kreis 2\",\"WBev nach Stadtkreis, Quartier und Alter\",\"WBev nach Stadtkreis, Quartier und Alter\",\"WBev nach Stadtkreis, Quartier und Alter\",\"WBev nach Stadtkreis, Quartier und Alter\",\"WBev nach Stadtkreis, Quartier und Alter\",\"WBev nach Stadtkreis, Quartier und Alter\",\"WBev nach Stadtkreis, Quartier und Alter\",\"WBev nach Stadtkreis, Quartier und Alter\",\"WBev nach Stadtkreis, Quartier und Alter\",\"WBev nach Stadtkreis, Quartier und Alter\",\"WBev nach Stadtkreis, Quartier und Alter\",\"WBev nach Stadtkreis, Quartier und Alter\",\"\"],\"root\":{\"color\":\"grey\"},\"type\":\"treemap\",\"values\":[50,42,23,66,1,36,21,16,11,13,12,13,40,19,23,16,19,11,14,55,2,5,34,66,25,45,38,10,6,25,20,54,56,30,26,47,1,35,16,6,11,11,17,12,27,17,35,12,18,2,14,16,56,5,9,35,66,13,33,27,11,10,24,17,35,86,109,76,118,6,53,35,29,22,29,58,32,46,1,41,96,50,18,1,20,38,81,4,39,30,84,25,93,106,23,22,80,35,85,82,99,63,135,55,41,30,20,40,53,31,62,51,108,60,17,2,24,32,68,6,34,24,81,21,92,115,15,22,82,25,92,136,151,99,184,7,89,56,45,33,42,70,45,86,1,60,119,66,37,1,31,52,136,6,44,64,150,50,138,144,33,28,105,55,139,138,129,89,182,1,90,57,36,31,51,70,43,89,68,143,72,35,4,38,48,124,11,43,59,147,34,125,142,26,32,106,42,127,274,280,188,366,8,179,113,81,64,93,140,88,175,1,128,262,138,72,5,69,100,260,17,87,123,297,84,263,286,59,60,211,97,266,31,473,831,385,517,515,338,206,386,394,212,646,4934]}],                        {\"coloraxis\":{\"colorbar\":{\"title\":{\"text\":\"sum_WBev\"}},\"colorscale\":[[0.0,\"rgb(247,251,255)\"],[0.125,\"rgb(222,235,247)\"],[0.25,\"rgb(198,219,239)\"],[0.375,\"rgb(158,202,225)\"],[0.5,\"rgb(107,174,214)\"],[0.625,\"rgb(66,146,198)\"],[0.75,\"rgb(33,113,181)\"],[0.875,\"rgb(8,81,156)\"],[1.0,\"rgb(8,48,107)\"]]},\"legend\":{\"tracegroupgap\":0},\"margin\":{\"b\":25,\"l\":25,\"r\":250,\"t\":50},\"template\":{\"data\":{\"bar\":[{\"error_x\":{\"color\":\"#2a3f5f\"},\"error_y\":{\"color\":\"#2a3f5f\"},\"marker\":{\"line\":{\"color\":\"#E5ECF6\",\"width\":0.5},\"pattern\":{\"fillmode\":\"overlay\",\"size\":10,\"solidity\":0.2}},\"type\":\"bar\"}],\"barpolar\":[{\"marker\":{\"line\":{\"color\":\"#E5ECF6\",\"width\":0.5},\"pattern\":{\"fillmode\":\"overlay\",\"size\":10,\"solidity\":0.2}},\"type\":\"barpolar\"}],\"carpet\":[{\"aaxis\":{\"endlinecolor\":\"#2a3f5f\",\"gridcolor\":\"white\",\"linecolor\":\"white\",\"minorgridcolor\":\"white\",\"startlinecolor\":\"#2a3f5f\"},\"baxis\":{\"endlinecolor\":\"#2a3f5f\",\"gridcolor\":\"white\",\"linecolor\":\"white\",\"minorgridcolor\":\"white\",\"startlinecolor\":\"#2a3f5f\"},\"type\":\"carpet\"}],\"choropleth\":[{\"colorbar\":{\"outlinewidth\":0,\"ticks\":\"\"},\"type\":\"choropleth\"}],\"contour\":[{\"colorbar\":{\"outlinewidth\":0,\"ticks\":\"\"},\"colorscale\":[[0.0,\"#0d0887\"],[0.1111111111111111,\"#46039f\"],[0.2222222222222222,\"#7201a8\"],[0.3333333333333333,\"#9c179e\"],[0.4444444444444444,\"#bd3786\"],[0.5555555555555556,\"#d8576b\"],[0.6666666666666666,\"#ed7953\"],[0.7777777777777778,\"#fb9f3a\"],[0.8888888888888888,\"#fdca26\"],[1.0,\"#f0f921\"]],\"type\":\"contour\"}],\"contourcarpet\":[{\"colorbar\":{\"outlinewidth\":0,\"ticks\":\"\"},\"type\":\"contourcarpet\"}],\"heatmap\":[{\"colorbar\":{\"outlinewidth\":0,\"ticks\":\"\"},\"colorscale\":[[0.0,\"#0d0887\"],[0.1111111111111111,\"#46039f\"],[0.2222222222222222,\"#7201a8\"],[0.3333333333333333,\"#9c179e\"],[0.4444444444444444,\"#bd3786\"],[0.5555555555555556,\"#d8576b\"],[0.6666666666666666,\"#ed7953\"],[0.7777777777777778,\"#fb9f3a\"],[0.8888888888888888,\"#fdca26\"],[1.0,\"#f0f921\"]],\"type\":\"heatmap\"}],\"heatmapgl\":[{\"colorbar\":{\"outlinewidth\":0,\"ticks\":\"\"},\"colorscale\":[[0.0,\"#0d0887\"],[0.1111111111111111,\"#46039f\"],[0.2222222222222222,\"#7201a8\"],[0.3333333333333333,\"#9c179e\"],[0.4444444444444444,\"#bd3786\"],[0.5555555555555556,\"#d8576b\"],[0.6666666666666666,\"#ed7953\"],[0.7777777777777778,\"#fb9f3a\"],[0.8888888888888888,\"#fdca26\"],[1.0,\"#f0f921\"]],\"type\":\"heatmapgl\"}],\"histogram\":[{\"marker\":{\"pattern\":{\"fillmode\":\"overlay\",\"size\":10,\"solidity\":0.2}},\"type\":\"histogram\"}],\"histogram2d\":[{\"colorbar\":{\"outlinewidth\":0,\"ticks\":\"\"},\"colorscale\":[[0.0,\"#0d0887\"],[0.1111111111111111,\"#46039f\"],[0.2222222222222222,\"#7201a8\"],[0.3333333333333333,\"#9c179e\"],[0.4444444444444444,\"#bd3786\"],[0.5555555555555556,\"#d8576b\"],[0.6666666666666666,\"#ed7953\"],[0.7777777777777778,\"#fb9f3a\"],[0.8888888888888888,\"#fdca26\"],[1.0,\"#f0f921\"]],\"type\":\"histogram2d\"}],\"histogram2dcontour\":[{\"colorbar\":{\"outlinewidth\":0,\"ticks\":\"\"},\"colorscale\":[[0.0,\"#0d0887\"],[0.1111111111111111,\"#46039f\"],[0.2222222222222222,\"#7201a8\"],[0.3333333333333333,\"#9c179e\"],[0.4444444444444444,\"#bd3786\"],[0.5555555555555556,\"#d8576b\"],[0.6666666666666666,\"#ed7953\"],[0.7777777777777778,\"#fb9f3a\"],[0.8888888888888888,\"#fdca26\"],[1.0,\"#f0f921\"]],\"type\":\"histogram2dcontour\"}],\"mesh3d\":[{\"colorbar\":{\"outlinewidth\":0,\"ticks\":\"\"},\"type\":\"mesh3d\"}],\"parcoords\":[{\"line\":{\"colorbar\":{\"outlinewidth\":0,\"ticks\":\"\"}},\"type\":\"parcoords\"}],\"pie\":[{\"automargin\":true,\"type\":\"pie\"}],\"scatter\":[{\"marker\":{\"colorbar\":{\"outlinewidth\":0,\"ticks\":\"\"}},\"type\":\"scatter\"}],\"scatter3d\":[{\"line\":{\"colorbar\":{\"outlinewidth\":0,\"ticks\":\"\"}},\"marker\":{\"colorbar\":{\"outlinewidth\":0,\"ticks\":\"\"}},\"type\":\"scatter3d\"}],\"scattercarpet\":[{\"marker\":{\"colorbar\":{\"outlinewidth\":0,\"ticks\":\"\"}},\"type\":\"scattercarpet\"}],\"scattergeo\":[{\"marker\":{\"colorbar\":{\"outlinewidth\":0,\"ticks\":\"\"}},\"type\":\"scattergeo\"}],\"scattergl\":[{\"marker\":{\"colorbar\":{\"outlinewidth\":0,\"ticks\":\"\"}},\"type\":\"scattergl\"}],\"scattermapbox\":[{\"marker\":{\"colorbar\":{\"outlinewidth\":0,\"ticks\":\"\"}},\"type\":\"scattermapbox\"}],\"scatterpolar\":[{\"marker\":{\"colorbar\":{\"outlinewidth\":0,\"ticks\":\"\"}},\"type\":\"scatterpolar\"}],\"scatterpolargl\":[{\"marker\":{\"colorbar\":{\"outlinewidth\":0,\"ticks\":\"\"}},\"type\":\"scatterpolargl\"}],\"scatterternary\":[{\"marker\":{\"colorbar\":{\"outlinewidth\":0,\"ticks\":\"\"}},\"type\":\"scatterternary\"}],\"surface\":[{\"colorbar\":{\"outlinewidth\":0,\"ticks\":\"\"},\"colorscale\":[[0.0,\"#0d0887\"],[0.1111111111111111,\"#46039f\"],[0.2222222222222222,\"#7201a8\"],[0.3333333333333333,\"#9c179e\"],[0.4444444444444444,\"#bd3786\"],[0.5555555555555556,\"#d8576b\"],[0.6666666666666666,\"#ed7953\"],[0.7777777777777778,\"#fb9f3a\"],[0.8888888888888888,\"#fdca26\"],[1.0,\"#f0f921\"]],\"type\":\"surface\"}],\"table\":[{\"cells\":{\"fill\":{\"color\":\"#EBF0F8\"},\"line\":{\"color\":\"white\"}},\"header\":{\"fill\":{\"color\":\"#C8D4E3\"},\"line\":{\"color\":\"white\"}},\"type\":\"table\"}]},\"layout\":{\"annotationdefaults\":{\"arrowcolor\":\"#2a3f5f\",\"arrowhead\":0,\"arrowwidth\":1},\"autotypenumbers\":\"strict\",\"coloraxis\":{\"colorbar\":{\"outlinewidth\":0,\"ticks\":\"\"}},\"colorscale\":{\"diverging\":[[0,\"#8e0152\"],[0.1,\"#c51b7d\"],[0.2,\"#de77ae\"],[0.3,\"#f1b6da\"],[0.4,\"#fde0ef\"],[0.5,\"#f7f7f7\"],[0.6,\"#e6f5d0\"],[0.7,\"#b8e186\"],[0.8,\"#7fbc41\"],[0.9,\"#4d9221\"],[1,\"#276419\"]],\"sequential\":[[0.0,\"#0d0887\"],[0.1111111111111111,\"#46039f\"],[0.2222222222222222,\"#7201a8\"],[0.3333333333333333,\"#9c179e\"],[0.4444444444444444,\"#bd3786\"],[0.5555555555555556,\"#d8576b\"],[0.6666666666666666,\"#ed7953\"],[0.7777777777777778,\"#fb9f3a\"],[0.8888888888888888,\"#fdca26\"],[1.0,\"#f0f921\"]],\"sequentialminus\":[[0.0,\"#0d0887\"],[0.1111111111111111,\"#46039f\"],[0.2222222222222222,\"#7201a8\"],[0.3333333333333333,\"#9c179e\"],[0.4444444444444444,\"#bd3786\"],[0.5555555555555556,\"#d8576b\"],[0.6666666666666666,\"#ed7953\"],[0.7777777777777778,\"#fb9f3a\"],[0.8888888888888888,\"#fdca26\"],[1.0,\"#f0f921\"]]},\"colorway\":[\"#636efa\",\"#EF553B\",\"#00cc96\",\"#ab63fa\",\"#FFA15A\",\"#19d3f3\",\"#FF6692\",\"#B6E880\",\"#FF97FF\",\"#FECB52\"],\"font\":{\"color\":\"#2a3f5f\"},\"geo\":{\"bgcolor\":\"white\",\"lakecolor\":\"white\",\"landcolor\":\"#E5ECF6\",\"showlakes\":true,\"showland\":true,\"subunitcolor\":\"white\"},\"hoverlabel\":{\"align\":\"left\"},\"hovermode\":\"closest\",\"mapbox\":{\"style\":\"light\"},\"paper_bgcolor\":\"white\",\"plot_bgcolor\":\"#E5ECF6\",\"polar\":{\"angularaxis\":{\"gridcolor\":\"white\",\"linecolor\":\"white\",\"ticks\":\"\"},\"bgcolor\":\"#E5ECF6\",\"radialaxis\":{\"gridcolor\":\"white\",\"linecolor\":\"white\",\"ticks\":\"\"}},\"scene\":{\"xaxis\":{\"backgroundcolor\":\"#E5ECF6\",\"gridcolor\":\"white\",\"gridwidth\":2,\"linecolor\":\"white\",\"showbackground\":true,\"ticks\":\"\",\"zerolinecolor\":\"white\"},\"yaxis\":{\"backgroundcolor\":\"#E5ECF6\",\"gridcolor\":\"white\",\"gridwidth\":2,\"linecolor\":\"white\",\"showbackground\":true,\"ticks\":\"\",\"zerolinecolor\":\"white\"},\"zaxis\":{\"backgroundcolor\":\"#E5ECF6\",\"gridcolor\":\"white\",\"gridwidth\":2,\"linecolor\":\"white\",\"showbackground\":true,\"ticks\":\"\",\"zerolinecolor\":\"white\"}},\"shapedefaults\":{\"line\":{\"color\":\"#2a3f5f\"}},\"ternary\":{\"aaxis\":{\"gridcolor\":\"white\",\"linecolor\":\"white\",\"ticks\":\"\"},\"baxis\":{\"gridcolor\":\"white\",\"linecolor\":\"white\",\"ticks\":\"\"},\"bgcolor\":\"#E5ECF6\",\"caxis\":{\"gridcolor\":\"white\",\"linecolor\":\"white\",\"ticks\":\"\"}},\"title\":{\"x\":0.05},\"xaxis\":{\"automargin\":true,\"gridcolor\":\"white\",\"linecolor\":\"white\",\"ticks\":\"\",\"title\":{\"standoff\":15},\"zerolinecolor\":\"white\",\"zerolinewidth\":2},\"yaxis\":{\"automargin\":true,\"gridcolor\":\"white\",\"linecolor\":\"white\",\"ticks\":\"\",\"title\":{\"standoff\":15},\"zerolinecolor\":\"white\",\"zerolinewidth\":2}}}},                        {\"responsive\": true}                    ).then(function(){\n",
       "                            \n",
       "var gd = document.getElementById('e8b7e057-940c-441e-8880-dd797e5b3db7');\n",
       "var x = new MutationObserver(function (mutations, observer) {{\n",
       "        var display = window.getComputedStyle(gd).display;\n",
       "        if (!display || display === 'none') {{\n",
       "            console.log([gd, 'removed!']);\n",
       "            Plotly.purge(gd);\n",
       "            observer.disconnect();\n",
       "        }}\n",
       "}});\n",
       "\n",
       "// Listen for the removal of the full notebook cells\n",
       "var notebookContainer = gd.closest('#notebook-container');\n",
       "if (notebookContainer) {{\n",
       "    x.observe(notebookContainer, {childList: true});\n",
       "}}\n",
       "\n",
       "// Listen for the clearing of the current output cell\n",
       "var outputEl = gd.closest('.output');\n",
       "if (outputEl) {{\n",
       "    x.observe(outputEl, {childList: true});\n",
       "}}\n",
       "\n",
       "                        })                };                });            </script>        </div>"
      ]
     },
     "metadata": {},
     "output_type": "display_data"
    }
   ],
   "source": [
    "fig = px.treemap(myTreemapAgg.reset_index(), path=[px.Constant(\"WBev nach Stadtkreis, Quartier und Alter\"), 'KreisLang','QuarLang','SexLang', 'HerkunftLang']\n",
    "                 , values='sum_WBev'\n",
    "                 , color='sum_WBev'\n",
    "                 ## bei discrete scales (bei Klassen und Strings):                 \n",
    "                 #, color_discrete_map={'(?)':'lightgrey','EVP':'gold', 'SP':'#FF3030', 'PdA':'#EE3B3B', 'Grüne':'#A2CD5A','GLP':'#CAFF70','Die Mitte':'orange','FDP':'#104E8B','AL':'deeppink','SVP':'forestgreen', 'FL ZÜRI':'#8B864E','Volt':'#lightblue' }                \n",
    "                 ## bei continuous scales (bei Zahlenwerten):\n",
    "                , color_continuous_scale='Blues'\n",
    "                #, color_continuous_midpoint=np.average(df['AnzBestWir'], weights=df['AnzBestWir'])  \n",
    "                 #,height=400\n",
    "                 #,width=1500                 \n",
    "                )\n",
    "fig.update_traces(root_color=\"grey\")\n",
    "fig.update_layout(margin = dict(t=50, l=25, r=250, b=25))\n",
    "fig.show()"
   ]
  },
  {
   "cell_type": "markdown",
   "metadata": {},
   "source": [
    "#### Aktueller Bestand der WBev nach Stadtkreis und Geschlecht"
   ]
  },
  {
   "cell_type": "code",
   "execution_count": 69,
   "metadata": {},
   "outputs": [
    {
     "data": {
      "text/html": [
       "<div>\n",
       "<style scoped>\n",
       "    .dataframe tbody tr th:only-of-type {\n",
       "        vertical-align: middle;\n",
       "    }\n",
       "\n",
       "    .dataframe tbody tr th {\n",
       "        vertical-align: top;\n",
       "    }\n",
       "\n",
       "    .dataframe thead th {\n",
       "        text-align: right;\n",
       "    }\n",
       "</style>\n",
       "<table border=\"1\" class=\"dataframe\">\n",
       "  <thead>\n",
       "    <tr style=\"text-align: right;\">\n",
       "      <th></th>\n",
       "      <th>StichtagDat</th>\n",
       "      <th>EreignisDatJahr</th>\n",
       "      <th>EreignisDatMM</th>\n",
       "      <th>KreisLang</th>\n",
       "      <th>SexLang</th>\n",
       "      <th>sum_WBev</th>\n",
       "    </tr>\n",
       "  </thead>\n",
       "  <tbody>\n",
       "    <tr>\n",
       "      <th>0</th>\n",
       "      <td>2021-01-31</td>\n",
       "      <td>2021</td>\n",
       "      <td>1</td>\n",
       "      <td>Kreis 11</td>\n",
       "      <td>weiblich</td>\n",
       "      <td>62</td>\n",
       "    </tr>\n",
       "    <tr>\n",
       "      <th>1</th>\n",
       "      <td>2021-01-31</td>\n",
       "      <td>2021</td>\n",
       "      <td>1</td>\n",
       "      <td>Kreis 11</td>\n",
       "      <td>männlich</td>\n",
       "      <td>53</td>\n",
       "    </tr>\n",
       "  </tbody>\n",
       "</table>\n",
       "</div>"
      ],
      "text/plain": [
       "  StichtagDat  EreignisDatJahr  EreignisDatMM KreisLang   SexLang  sum_WBev\n",
       "0  2021-01-31             2021              1  Kreis 11  weiblich        62\n",
       "1  2021-01-31             2021              1  Kreis 11  männlich        53"
      ]
     },
     "execution_count": 69,
     "metadata": {},
     "output_type": "execute_result"
    }
   ],
   "source": [
    "myTreemapAgg = data2betested.loc[\"2021-01\":\"2021-11\"]  \\\n",
    "    .groupby(['StichtagDat','EreignisDatJahr', 'EreignisDatMM', 'KreisLang','SexLang']) \\\n",
    "    .agg(sum_WBev=('AnzGebuWir', 'sum')) \\\n",
    "    .sort_values('sum_WBev', ascending=False) \n",
    "\n",
    "myTreemapAgg.reset_index().head(2)"
   ]
  },
  {
   "cell_type": "code",
   "execution_count": 71,
   "metadata": {},
   "outputs": [
    {
     "data": {
      "application/vnd.plotly.v1+json": {
       "config": {
        "plotlyServerURL": "https://plot.ly"
       },
       "data": [
        {
         "branchvalues": "total",
         "customdata": [
          [
           1.8
          ],
          [
           21.580357142857142
          ],
          [
           40.00947867298578
          ],
          [
           19.350515463917525
          ],
          [
           24.683018867924527
          ],
          [
           26.296296296296298
          ],
          [
           15.426829268292684
          ],
          [
           9.36734693877551
          ],
          [
           18.03061224489796
          ],
          [
           20.98048780487805
          ],
          [
           11.964912280701755
          ],
          [
           32.223880597014926
          ],
          [
           2.875
          ],
          [
           23.514056224899598
          ],
          [
           39.25916870415648
          ],
          [
           18.172774869109947
          ],
          [
           24.261904761904763
          ],
          [
           24.26530612244898
          ],
          [
           16.310344827586206
          ],
          [
           10.777777777777779
          ],
          [
           18.31578947368421
          ],
          [
           18.98941798941799
          ],
          [
           10.612244897959183
          ],
          [
           31.064308681672024
          ],
          [
           2.3548387096774195
          ],
          [
           22.59830866807611
          ],
          [
           39.640192539109506
          ],
          [
           18.766233766233768
          ],
          [
           24.477756286266924
          ],
          [
           25.33009708737864
          ],
          [
           15.881656804733728
          ],
          [
           10.106796116504855
          ],
          [
           18.17098445595855
          ],
          [
           20.0253807106599
          ],
          [
           11.339622641509434
          ],
          [
           31.6656346749226
          ],
          [
           24.69436562626672
          ]
         ],
         "domain": {
          "x": [
           0,
           1
          ],
          "y": [
           0,
           1
          ]
         },
         "hovertemplate": "labels=%{label}<br>sum_WBev_sum=%{value}<br>parent=%{parent}<br>id=%{id}<br>sum_WBev=%{color}<extra></extra>",
         "ids": [
          "WBev nach Alter, Stadtkreis und Herkunft/Kreis 1/männlich",
          "WBev nach Alter, Stadtkreis und Herkunft/Kreis 10/männlich",
          "WBev nach Alter, Stadtkreis und Herkunft/Kreis 11/männlich",
          "WBev nach Alter, Stadtkreis und Herkunft/Kreis 12/männlich",
          "WBev nach Alter, Stadtkreis und Herkunft/Kreis 2/männlich",
          "WBev nach Alter, Stadtkreis und Herkunft/Kreis 3/männlich",
          "WBev nach Alter, Stadtkreis und Herkunft/Kreis 4/männlich",
          "WBev nach Alter, Stadtkreis und Herkunft/Kreis 5/männlich",
          "WBev nach Alter, Stadtkreis und Herkunft/Kreis 6/männlich",
          "WBev nach Alter, Stadtkreis und Herkunft/Kreis 7/männlich",
          "WBev nach Alter, Stadtkreis und Herkunft/Kreis 8/männlich",
          "WBev nach Alter, Stadtkreis und Herkunft/Kreis 9/männlich",
          "WBev nach Alter, Stadtkreis und Herkunft/Kreis 1/weiblich",
          "WBev nach Alter, Stadtkreis und Herkunft/Kreis 10/weiblich",
          "WBev nach Alter, Stadtkreis und Herkunft/Kreis 11/weiblich",
          "WBev nach Alter, Stadtkreis und Herkunft/Kreis 12/weiblich",
          "WBev nach Alter, Stadtkreis und Herkunft/Kreis 2/weiblich",
          "WBev nach Alter, Stadtkreis und Herkunft/Kreis 3/weiblich",
          "WBev nach Alter, Stadtkreis und Herkunft/Kreis 4/weiblich",
          "WBev nach Alter, Stadtkreis und Herkunft/Kreis 5/weiblich",
          "WBev nach Alter, Stadtkreis und Herkunft/Kreis 6/weiblich",
          "WBev nach Alter, Stadtkreis und Herkunft/Kreis 7/weiblich",
          "WBev nach Alter, Stadtkreis und Herkunft/Kreis 8/weiblich",
          "WBev nach Alter, Stadtkreis und Herkunft/Kreis 9/weiblich",
          "WBev nach Alter, Stadtkreis und Herkunft/Kreis 1",
          "WBev nach Alter, Stadtkreis und Herkunft/Kreis 10",
          "WBev nach Alter, Stadtkreis und Herkunft/Kreis 11",
          "WBev nach Alter, Stadtkreis und Herkunft/Kreis 12",
          "WBev nach Alter, Stadtkreis und Herkunft/Kreis 2",
          "WBev nach Alter, Stadtkreis und Herkunft/Kreis 3",
          "WBev nach Alter, Stadtkreis und Herkunft/Kreis 4",
          "WBev nach Alter, Stadtkreis und Herkunft/Kreis 5",
          "WBev nach Alter, Stadtkreis und Herkunft/Kreis 6",
          "WBev nach Alter, Stadtkreis und Herkunft/Kreis 7",
          "WBev nach Alter, Stadtkreis und Herkunft/Kreis 8",
          "WBev nach Alter, Stadtkreis und Herkunft/Kreis 9",
          "WBev nach Alter, Stadtkreis und Herkunft"
         ],
         "labels": [
          "männlich",
          "männlich",
          "männlich",
          "männlich",
          "männlich",
          "männlich",
          "männlich",
          "männlich",
          "männlich",
          "männlich",
          "männlich",
          "männlich",
          "weiblich",
          "weiblich",
          "weiblich",
          "weiblich",
          "weiblich",
          "weiblich",
          "weiblich",
          "weiblich",
          "weiblich",
          "weiblich",
          "weiblich",
          "weiblich",
          "Kreis 1",
          "Kreis 10",
          "Kreis 11",
          "Kreis 12",
          "Kreis 2",
          "Kreis 3",
          "Kreis 4",
          "Kreis 5",
          "Kreis 6",
          "Kreis 7",
          "Kreis 8",
          "Kreis 9",
          "WBev nach Alter, Stadtkreis und Herkunft"
         ],
         "level": "WBev nach Alter, Stadtkreis und Herkunft",
         "marker": {
          "coloraxis": "coloraxis",
          "colors": [
           1.8,
           21.580357142857142,
           40.00947867298578,
           19.350515463917525,
           24.683018867924527,
           26.296296296296298,
           15.426829268292684,
           9.36734693877551,
           18.03061224489796,
           20.98048780487805,
           11.964912280701755,
           32.223880597014926,
           2.875,
           23.514056224899598,
           39.25916870415648,
           18.172774869109947,
           24.261904761904763,
           24.26530612244898,
           16.310344827586206,
           10.777777777777779,
           18.31578947368421,
           18.98941798941799,
           10.612244897959183,
           31.064308681672024,
           2.3548387096774195,
           22.59830866807611,
           39.640192539109506,
           18.766233766233768,
           24.477756286266924,
           25.33009708737864,
           15.881656804733728,
           10.106796116504855,
           18.17098445595855,
           20.0253807106599,
           11.339622641509434,
           31.6656346749226,
           24.69436562626672
          ]
         },
         "name": "",
         "parents": [
          "WBev nach Alter, Stadtkreis und Herkunft/Kreis 1",
          "WBev nach Alter, Stadtkreis und Herkunft/Kreis 10",
          "WBev nach Alter, Stadtkreis und Herkunft/Kreis 11",
          "WBev nach Alter, Stadtkreis und Herkunft/Kreis 12",
          "WBev nach Alter, Stadtkreis und Herkunft/Kreis 2",
          "WBev nach Alter, Stadtkreis und Herkunft/Kreis 3",
          "WBev nach Alter, Stadtkreis und Herkunft/Kreis 4",
          "WBev nach Alter, Stadtkreis und Herkunft/Kreis 5",
          "WBev nach Alter, Stadtkreis und Herkunft/Kreis 6",
          "WBev nach Alter, Stadtkreis und Herkunft/Kreis 7",
          "WBev nach Alter, Stadtkreis und Herkunft/Kreis 8",
          "WBev nach Alter, Stadtkreis und Herkunft/Kreis 9",
          "WBev nach Alter, Stadtkreis und Herkunft/Kreis 1",
          "WBev nach Alter, Stadtkreis und Herkunft/Kreis 10",
          "WBev nach Alter, Stadtkreis und Herkunft/Kreis 11",
          "WBev nach Alter, Stadtkreis und Herkunft/Kreis 12",
          "WBev nach Alter, Stadtkreis und Herkunft/Kreis 2",
          "WBev nach Alter, Stadtkreis und Herkunft/Kreis 3",
          "WBev nach Alter, Stadtkreis und Herkunft/Kreis 4",
          "WBev nach Alter, Stadtkreis und Herkunft/Kreis 5",
          "WBev nach Alter, Stadtkreis und Herkunft/Kreis 6",
          "WBev nach Alter, Stadtkreis und Herkunft/Kreis 7",
          "WBev nach Alter, Stadtkreis und Herkunft/Kreis 8",
          "WBev nach Alter, Stadtkreis und Herkunft/Kreis 9",
          "WBev nach Alter, Stadtkreis und Herkunft",
          "WBev nach Alter, Stadtkreis und Herkunft",
          "WBev nach Alter, Stadtkreis und Herkunft",
          "WBev nach Alter, Stadtkreis und Herkunft",
          "WBev nach Alter, Stadtkreis und Herkunft",
          "WBev nach Alter, Stadtkreis und Herkunft",
          "WBev nach Alter, Stadtkreis und Herkunft",
          "WBev nach Alter, Stadtkreis und Herkunft",
          "WBev nach Alter, Stadtkreis und Herkunft",
          "WBev nach Alter, Stadtkreis und Herkunft",
          "WBev nach Alter, Stadtkreis und Herkunft",
          "WBev nach Alter, Stadtkreis und Herkunft",
          ""
         ],
         "root": {
          "color": "grey"
         },
         "type": "treemap",
         "values": [
          15,
          224,
          422,
          194,
          265,
          270,
          164,
          98,
          196,
          205,
          114,
          335,
          16,
          249,
          409,
          191,
          252,
          245,
          174,
          108,
          190,
          189,
          98,
          311,
          31,
          473,
          831,
          385,
          517,
          515,
          338,
          206,
          386,
          394,
          212,
          646,
          4934
         ]
        }
       ],
       "layout": {
        "autosize": true,
        "coloraxis": {
         "colorbar": {
          "title": {
           "text": "sum_WBev"
          }
         },
         "colorscale": [
          [
           0,
           "rgb(255,247,251)"
          ],
          [
           0.125,
           "rgb(236,226,240)"
          ],
          [
           0.25,
           "rgb(208,209,230)"
          ],
          [
           0.375,
           "rgb(166,189,219)"
          ],
          [
           0.5,
           "rgb(103,169,207)"
          ],
          [
           0.625,
           "rgb(54,144,192)"
          ],
          [
           0.75,
           "rgb(2,129,138)"
          ],
          [
           0.875,
           "rgb(1,108,89)"
          ],
          [
           1,
           "rgb(1,70,54)"
          ]
         ]
        },
        "legend": {
         "tracegroupgap": 0
        },
        "margin": {
         "b": 25,
         "l": 25,
         "r": 250,
         "t": 50
        },
        "template": {
         "data": {
          "bar": [
           {
            "error_x": {
             "color": "#2a3f5f"
            },
            "error_y": {
             "color": "#2a3f5f"
            },
            "marker": {
             "line": {
              "color": "#E5ECF6",
              "width": 0.5
             },
             "pattern": {
              "fillmode": "overlay",
              "size": 10,
              "solidity": 0.2
             }
            },
            "type": "bar"
           }
          ],
          "barpolar": [
           {
            "marker": {
             "line": {
              "color": "#E5ECF6",
              "width": 0.5
             },
             "pattern": {
              "fillmode": "overlay",
              "size": 10,
              "solidity": 0.2
             }
            },
            "type": "barpolar"
           }
          ],
          "carpet": [
           {
            "aaxis": {
             "endlinecolor": "#2a3f5f",
             "gridcolor": "white",
             "linecolor": "white",
             "minorgridcolor": "white",
             "startlinecolor": "#2a3f5f"
            },
            "baxis": {
             "endlinecolor": "#2a3f5f",
             "gridcolor": "white",
             "linecolor": "white",
             "minorgridcolor": "white",
             "startlinecolor": "#2a3f5f"
            },
            "type": "carpet"
           }
          ],
          "choropleth": [
           {
            "colorbar": {
             "outlinewidth": 0,
             "ticks": ""
            },
            "type": "choropleth"
           }
          ],
          "contour": [
           {
            "colorbar": {
             "outlinewidth": 0,
             "ticks": ""
            },
            "colorscale": [
             [
              0,
              "#0d0887"
             ],
             [
              0.1111111111111111,
              "#46039f"
             ],
             [
              0.2222222222222222,
              "#7201a8"
             ],
             [
              0.3333333333333333,
              "#9c179e"
             ],
             [
              0.4444444444444444,
              "#bd3786"
             ],
             [
              0.5555555555555556,
              "#d8576b"
             ],
             [
              0.6666666666666666,
              "#ed7953"
             ],
             [
              0.7777777777777778,
              "#fb9f3a"
             ],
             [
              0.8888888888888888,
              "#fdca26"
             ],
             [
              1,
              "#f0f921"
             ]
            ],
            "type": "contour"
           }
          ],
          "contourcarpet": [
           {
            "colorbar": {
             "outlinewidth": 0,
             "ticks": ""
            },
            "type": "contourcarpet"
           }
          ],
          "heatmap": [
           {
            "colorbar": {
             "outlinewidth": 0,
             "ticks": ""
            },
            "colorscale": [
             [
              0,
              "#0d0887"
             ],
             [
              0.1111111111111111,
              "#46039f"
             ],
             [
              0.2222222222222222,
              "#7201a8"
             ],
             [
              0.3333333333333333,
              "#9c179e"
             ],
             [
              0.4444444444444444,
              "#bd3786"
             ],
             [
              0.5555555555555556,
              "#d8576b"
             ],
             [
              0.6666666666666666,
              "#ed7953"
             ],
             [
              0.7777777777777778,
              "#fb9f3a"
             ],
             [
              0.8888888888888888,
              "#fdca26"
             ],
             [
              1,
              "#f0f921"
             ]
            ],
            "type": "heatmap"
           }
          ],
          "heatmapgl": [
           {
            "colorbar": {
             "outlinewidth": 0,
             "ticks": ""
            },
            "colorscale": [
             [
              0,
              "#0d0887"
             ],
             [
              0.1111111111111111,
              "#46039f"
             ],
             [
              0.2222222222222222,
              "#7201a8"
             ],
             [
              0.3333333333333333,
              "#9c179e"
             ],
             [
              0.4444444444444444,
              "#bd3786"
             ],
             [
              0.5555555555555556,
              "#d8576b"
             ],
             [
              0.6666666666666666,
              "#ed7953"
             ],
             [
              0.7777777777777778,
              "#fb9f3a"
             ],
             [
              0.8888888888888888,
              "#fdca26"
             ],
             [
              1,
              "#f0f921"
             ]
            ],
            "type": "heatmapgl"
           }
          ],
          "histogram": [
           {
            "marker": {
             "pattern": {
              "fillmode": "overlay",
              "size": 10,
              "solidity": 0.2
             }
            },
            "type": "histogram"
           }
          ],
          "histogram2d": [
           {
            "colorbar": {
             "outlinewidth": 0,
             "ticks": ""
            },
            "colorscale": [
             [
              0,
              "#0d0887"
             ],
             [
              0.1111111111111111,
              "#46039f"
             ],
             [
              0.2222222222222222,
              "#7201a8"
             ],
             [
              0.3333333333333333,
              "#9c179e"
             ],
             [
              0.4444444444444444,
              "#bd3786"
             ],
             [
              0.5555555555555556,
              "#d8576b"
             ],
             [
              0.6666666666666666,
              "#ed7953"
             ],
             [
              0.7777777777777778,
              "#fb9f3a"
             ],
             [
              0.8888888888888888,
              "#fdca26"
             ],
             [
              1,
              "#f0f921"
             ]
            ],
            "type": "histogram2d"
           }
          ],
          "histogram2dcontour": [
           {
            "colorbar": {
             "outlinewidth": 0,
             "ticks": ""
            },
            "colorscale": [
             [
              0,
              "#0d0887"
             ],
             [
              0.1111111111111111,
              "#46039f"
             ],
             [
              0.2222222222222222,
              "#7201a8"
             ],
             [
              0.3333333333333333,
              "#9c179e"
             ],
             [
              0.4444444444444444,
              "#bd3786"
             ],
             [
              0.5555555555555556,
              "#d8576b"
             ],
             [
              0.6666666666666666,
              "#ed7953"
             ],
             [
              0.7777777777777778,
              "#fb9f3a"
             ],
             [
              0.8888888888888888,
              "#fdca26"
             ],
             [
              1,
              "#f0f921"
             ]
            ],
            "type": "histogram2dcontour"
           }
          ],
          "mesh3d": [
           {
            "colorbar": {
             "outlinewidth": 0,
             "ticks": ""
            },
            "type": "mesh3d"
           }
          ],
          "parcoords": [
           {
            "line": {
             "colorbar": {
              "outlinewidth": 0,
              "ticks": ""
             }
            },
            "type": "parcoords"
           }
          ],
          "pie": [
           {
            "automargin": true,
            "type": "pie"
           }
          ],
          "scatter": [
           {
            "marker": {
             "colorbar": {
              "outlinewidth": 0,
              "ticks": ""
             }
            },
            "type": "scatter"
           }
          ],
          "scatter3d": [
           {
            "line": {
             "colorbar": {
              "outlinewidth": 0,
              "ticks": ""
             }
            },
            "marker": {
             "colorbar": {
              "outlinewidth": 0,
              "ticks": ""
             }
            },
            "type": "scatter3d"
           }
          ],
          "scattercarpet": [
           {
            "marker": {
             "colorbar": {
              "outlinewidth": 0,
              "ticks": ""
             }
            },
            "type": "scattercarpet"
           }
          ],
          "scattergeo": [
           {
            "marker": {
             "colorbar": {
              "outlinewidth": 0,
              "ticks": ""
             }
            },
            "type": "scattergeo"
           }
          ],
          "scattergl": [
           {
            "marker": {
             "colorbar": {
              "outlinewidth": 0,
              "ticks": ""
             }
            },
            "type": "scattergl"
           }
          ],
          "scattermapbox": [
           {
            "marker": {
             "colorbar": {
              "outlinewidth": 0,
              "ticks": ""
             }
            },
            "type": "scattermapbox"
           }
          ],
          "scatterpolar": [
           {
            "marker": {
             "colorbar": {
              "outlinewidth": 0,
              "ticks": ""
             }
            },
            "type": "scatterpolar"
           }
          ],
          "scatterpolargl": [
           {
            "marker": {
             "colorbar": {
              "outlinewidth": 0,
              "ticks": ""
             }
            },
            "type": "scatterpolargl"
           }
          ],
          "scatterternary": [
           {
            "marker": {
             "colorbar": {
              "outlinewidth": 0,
              "ticks": ""
             }
            },
            "type": "scatterternary"
           }
          ],
          "surface": [
           {
            "colorbar": {
             "outlinewidth": 0,
             "ticks": ""
            },
            "colorscale": [
             [
              0,
              "#0d0887"
             ],
             [
              0.1111111111111111,
              "#46039f"
             ],
             [
              0.2222222222222222,
              "#7201a8"
             ],
             [
              0.3333333333333333,
              "#9c179e"
             ],
             [
              0.4444444444444444,
              "#bd3786"
             ],
             [
              0.5555555555555556,
              "#d8576b"
             ],
             [
              0.6666666666666666,
              "#ed7953"
             ],
             [
              0.7777777777777778,
              "#fb9f3a"
             ],
             [
              0.8888888888888888,
              "#fdca26"
             ],
             [
              1,
              "#f0f921"
             ]
            ],
            "type": "surface"
           }
          ],
          "table": [
           {
            "cells": {
             "fill": {
              "color": "#EBF0F8"
             },
             "line": {
              "color": "white"
             }
            },
            "header": {
             "fill": {
              "color": "#C8D4E3"
             },
             "line": {
              "color": "white"
             }
            },
            "type": "table"
           }
          ]
         },
         "layout": {
          "annotationdefaults": {
           "arrowcolor": "#2a3f5f",
           "arrowhead": 0,
           "arrowwidth": 1
          },
          "autotypenumbers": "strict",
          "coloraxis": {
           "colorbar": {
            "outlinewidth": 0,
            "ticks": ""
           }
          },
          "colorscale": {
           "diverging": [
            [
             0,
             "#8e0152"
            ],
            [
             0.1,
             "#c51b7d"
            ],
            [
             0.2,
             "#de77ae"
            ],
            [
             0.3,
             "#f1b6da"
            ],
            [
             0.4,
             "#fde0ef"
            ],
            [
             0.5,
             "#f7f7f7"
            ],
            [
             0.6,
             "#e6f5d0"
            ],
            [
             0.7,
             "#b8e186"
            ],
            [
             0.8,
             "#7fbc41"
            ],
            [
             0.9,
             "#4d9221"
            ],
            [
             1,
             "#276419"
            ]
           ],
           "sequential": [
            [
             0,
             "#0d0887"
            ],
            [
             0.1111111111111111,
             "#46039f"
            ],
            [
             0.2222222222222222,
             "#7201a8"
            ],
            [
             0.3333333333333333,
             "#9c179e"
            ],
            [
             0.4444444444444444,
             "#bd3786"
            ],
            [
             0.5555555555555556,
             "#d8576b"
            ],
            [
             0.6666666666666666,
             "#ed7953"
            ],
            [
             0.7777777777777778,
             "#fb9f3a"
            ],
            [
             0.8888888888888888,
             "#fdca26"
            ],
            [
             1,
             "#f0f921"
            ]
           ],
           "sequentialminus": [
            [
             0,
             "#0d0887"
            ],
            [
             0.1111111111111111,
             "#46039f"
            ],
            [
             0.2222222222222222,
             "#7201a8"
            ],
            [
             0.3333333333333333,
             "#9c179e"
            ],
            [
             0.4444444444444444,
             "#bd3786"
            ],
            [
             0.5555555555555556,
             "#d8576b"
            ],
            [
             0.6666666666666666,
             "#ed7953"
            ],
            [
             0.7777777777777778,
             "#fb9f3a"
            ],
            [
             0.8888888888888888,
             "#fdca26"
            ],
            [
             1,
             "#f0f921"
            ]
           ]
          },
          "colorway": [
           "#636efa",
           "#EF553B",
           "#00cc96",
           "#ab63fa",
           "#FFA15A",
           "#19d3f3",
           "#FF6692",
           "#B6E880",
           "#FF97FF",
           "#FECB52"
          ],
          "font": {
           "color": "#2a3f5f"
          },
          "geo": {
           "bgcolor": "white",
           "lakecolor": "white",
           "landcolor": "#E5ECF6",
           "showlakes": true,
           "showland": true,
           "subunitcolor": "white"
          },
          "hoverlabel": {
           "align": "left"
          },
          "hovermode": "closest",
          "mapbox": {
           "style": "light"
          },
          "paper_bgcolor": "white",
          "plot_bgcolor": "#E5ECF6",
          "polar": {
           "angularaxis": {
            "gridcolor": "white",
            "linecolor": "white",
            "ticks": ""
           },
           "bgcolor": "#E5ECF6",
           "radialaxis": {
            "gridcolor": "white",
            "linecolor": "white",
            "ticks": ""
           }
          },
          "scene": {
           "xaxis": {
            "backgroundcolor": "#E5ECF6",
            "gridcolor": "white",
            "gridwidth": 2,
            "linecolor": "white",
            "showbackground": true,
            "ticks": "",
            "zerolinecolor": "white"
           },
           "yaxis": {
            "backgroundcolor": "#E5ECF6",
            "gridcolor": "white",
            "gridwidth": 2,
            "linecolor": "white",
            "showbackground": true,
            "ticks": "",
            "zerolinecolor": "white"
           },
           "zaxis": {
            "backgroundcolor": "#E5ECF6",
            "gridcolor": "white",
            "gridwidth": 2,
            "linecolor": "white",
            "showbackground": true,
            "ticks": "",
            "zerolinecolor": "white"
           }
          },
          "shapedefaults": {
           "line": {
            "color": "#2a3f5f"
           }
          },
          "ternary": {
           "aaxis": {
            "gridcolor": "white",
            "linecolor": "white",
            "ticks": ""
           },
           "baxis": {
            "gridcolor": "white",
            "linecolor": "white",
            "ticks": ""
           },
           "bgcolor": "#E5ECF6",
           "caxis": {
            "gridcolor": "white",
            "linecolor": "white",
            "ticks": ""
           }
          },
          "title": {
           "x": 0.05
          },
          "xaxis": {
           "automargin": true,
           "gridcolor": "white",
           "linecolor": "white",
           "ticks": "",
           "title": {
            "standoff": 15
           },
           "zerolinecolor": "white",
           "zerolinewidth": 2
          },
          "yaxis": {
           "automargin": true,
           "gridcolor": "white",
           "linecolor": "white",
           "ticks": "",
           "title": {
            "standoff": 15
           },
           "zerolinecolor": "white",
           "zerolinewidth": 2
          }
         }
        }
       }
      },
      "image/png": "[encoded data removed]",
      "text/html": [
       "<div>                            <div id=\"c5f7820a-d7de-4286-aac0-529eaee80d5d\" class=\"plotly-graph-div\" style=\"height:525px; width:100%;\"></div>            <script type=\"text/javascript\">                require([\"plotly\"], function(Plotly) {                    window.PLOTLYENV=window.PLOTLYENV || {};                                    if (document.getElementById(\"c5f7820a-d7de-4286-aac0-529eaee80d5d\")) {                    Plotly.newPlot(                        \"c5f7820a-d7de-4286-aac0-529eaee80d5d\",                        [{\"branchvalues\":\"total\",\"customdata\":[[1.8],[21.580357142857142],[40.00947867298578],[19.350515463917525],[24.683018867924527],[26.296296296296298],[15.426829268292684],[9.36734693877551],[18.03061224489796],[20.98048780487805],[11.964912280701755],[32.223880597014926],[2.875],[23.514056224899598],[39.25916870415648],[18.172774869109947],[24.261904761904763],[24.26530612244898],[16.310344827586206],[10.777777777777779],[18.31578947368421],[18.98941798941799],[10.612244897959183],[31.064308681672024],[2.3548387096774195],[22.59830866807611],[39.640192539109506],[18.766233766233768],[24.477756286266924],[25.33009708737864],[15.881656804733728],[10.106796116504855],[18.17098445595855],[20.0253807106599],[11.339622641509434],[31.6656346749226],[24.69436562626672]],\"domain\":{\"x\":[0.0,1.0],\"y\":[0.0,1.0]},\"hovertemplate\":\"labels=%{label}<br>sum_WBev_sum=%{value}<br>parent=%{parent}<br>id=%{id}<br>sum_WBev=%{color}<extra></extra>\",\"ids\":[\"WBev nach Alter, Stadtkreis und Herkunft/Kreis 1/m\\u00e4nnlich\",\"WBev nach Alter, Stadtkreis und Herkunft/Kreis 10/m\\u00e4nnlich\",\"WBev nach Alter, Stadtkreis und Herkunft/Kreis 11/m\\u00e4nnlich\",\"WBev nach Alter, Stadtkreis und Herkunft/Kreis 12/m\\u00e4nnlich\",\"WBev nach Alter, Stadtkreis und Herkunft/Kreis 2/m\\u00e4nnlich\",\"WBev nach Alter, Stadtkreis und Herkunft/Kreis 3/m\\u00e4nnlich\",\"WBev nach Alter, Stadtkreis und Herkunft/Kreis 4/m\\u00e4nnlich\",\"WBev nach Alter, Stadtkreis und Herkunft/Kreis 5/m\\u00e4nnlich\",\"WBev nach Alter, Stadtkreis und Herkunft/Kreis 6/m\\u00e4nnlich\",\"WBev nach Alter, Stadtkreis und Herkunft/Kreis 7/m\\u00e4nnlich\",\"WBev nach Alter, Stadtkreis und Herkunft/Kreis 8/m\\u00e4nnlich\",\"WBev nach Alter, Stadtkreis und Herkunft/Kreis 9/m\\u00e4nnlich\",\"WBev nach Alter, Stadtkreis und Herkunft/Kreis 1/weiblich\",\"WBev nach Alter, Stadtkreis und Herkunft/Kreis 10/weiblich\",\"WBev nach Alter, Stadtkreis und Herkunft/Kreis 11/weiblich\",\"WBev nach Alter, Stadtkreis und Herkunft/Kreis 12/weiblich\",\"WBev nach Alter, Stadtkreis und Herkunft/Kreis 2/weiblich\",\"WBev nach Alter, Stadtkreis und Herkunft/Kreis 3/weiblich\",\"WBev nach Alter, Stadtkreis und Herkunft/Kreis 4/weiblich\",\"WBev nach Alter, Stadtkreis und Herkunft/Kreis 5/weiblich\",\"WBev nach Alter, Stadtkreis und Herkunft/Kreis 6/weiblich\",\"WBev nach Alter, Stadtkreis und Herkunft/Kreis 7/weiblich\",\"WBev nach Alter, Stadtkreis und Herkunft/Kreis 8/weiblich\",\"WBev nach Alter, Stadtkreis und Herkunft/Kreis 9/weiblich\",\"WBev nach Alter, Stadtkreis und Herkunft/Kreis 1\",\"WBev nach Alter, Stadtkreis und Herkunft/Kreis 10\",\"WBev nach Alter, Stadtkreis und Herkunft/Kreis 11\",\"WBev nach Alter, Stadtkreis und Herkunft/Kreis 12\",\"WBev nach Alter, Stadtkreis und Herkunft/Kreis 2\",\"WBev nach Alter, Stadtkreis und Herkunft/Kreis 3\",\"WBev nach Alter, Stadtkreis und Herkunft/Kreis 4\",\"WBev nach Alter, Stadtkreis und Herkunft/Kreis 5\",\"WBev nach Alter, Stadtkreis und Herkunft/Kreis 6\",\"WBev nach Alter, Stadtkreis und Herkunft/Kreis 7\",\"WBev nach Alter, Stadtkreis und Herkunft/Kreis 8\",\"WBev nach Alter, Stadtkreis und Herkunft/Kreis 9\",\"WBev nach Alter, Stadtkreis und Herkunft\"],\"labels\":[\"m\\u00e4nnlich\",\"m\\u00e4nnlich\",\"m\\u00e4nnlich\",\"m\\u00e4nnlich\",\"m\\u00e4nnlich\",\"m\\u00e4nnlich\",\"m\\u00e4nnlich\",\"m\\u00e4nnlich\",\"m\\u00e4nnlich\",\"m\\u00e4nnlich\",\"m\\u00e4nnlich\",\"m\\u00e4nnlich\",\"weiblich\",\"weiblich\",\"weiblich\",\"weiblich\",\"weiblich\",\"weiblich\",\"weiblich\",\"weiblich\",\"weiblich\",\"weiblich\",\"weiblich\",\"weiblich\",\"Kreis 1\",\"Kreis 10\",\"Kreis 11\",\"Kreis 12\",\"Kreis 2\",\"Kreis 3\",\"Kreis 4\",\"Kreis 5\",\"Kreis 6\",\"Kreis 7\",\"Kreis 8\",\"Kreis 9\",\"WBev nach Alter, Stadtkreis und Herkunft\"],\"marker\":{\"coloraxis\":\"coloraxis\",\"colors\":[1.8,21.580357142857142,40.00947867298578,19.350515463917525,24.683018867924527,26.296296296296298,15.426829268292684,9.36734693877551,18.03061224489796,20.98048780487805,11.964912280701755,32.223880597014926,2.875,23.514056224899598,39.25916870415648,18.172774869109947,24.261904761904763,24.26530612244898,16.310344827586206,10.777777777777779,18.31578947368421,18.98941798941799,10.612244897959183,31.064308681672024,2.3548387096774195,22.59830866807611,39.640192539109506,18.766233766233768,24.477756286266924,25.33009708737864,15.881656804733728,10.106796116504855,18.17098445595855,20.0253807106599,11.339622641509434,31.6656346749226,24.69436562626672]},\"name\":\"\",\"parents\":[\"WBev nach Alter, Stadtkreis und Herkunft/Kreis 1\",\"WBev nach Alter, Stadtkreis und Herkunft/Kreis 10\",\"WBev nach Alter, Stadtkreis und Herkunft/Kreis 11\",\"WBev nach Alter, Stadtkreis und Herkunft/Kreis 12\",\"WBev nach Alter, Stadtkreis und Herkunft/Kreis 2\",\"WBev nach Alter, Stadtkreis und Herkunft/Kreis 3\",\"WBev nach Alter, Stadtkreis und Herkunft/Kreis 4\",\"WBev nach Alter, Stadtkreis und Herkunft/Kreis 5\",\"WBev nach Alter, Stadtkreis und Herkunft/Kreis 6\",\"WBev nach Alter, Stadtkreis und Herkunft/Kreis 7\",\"WBev nach Alter, Stadtkreis und Herkunft/Kreis 8\",\"WBev nach Alter, Stadtkreis und Herkunft/Kreis 9\",\"WBev nach Alter, Stadtkreis und Herkunft/Kreis 1\",\"WBev nach Alter, Stadtkreis und Herkunft/Kreis 10\",\"WBev nach Alter, Stadtkreis und Herkunft/Kreis 11\",\"WBev nach Alter, Stadtkreis und Herkunft/Kreis 12\",\"WBev nach Alter, Stadtkreis und Herkunft/Kreis 2\",\"WBev nach Alter, Stadtkreis und Herkunft/Kreis 3\",\"WBev nach Alter, Stadtkreis und Herkunft/Kreis 4\",\"WBev nach Alter, Stadtkreis und Herkunft/Kreis 5\",\"WBev nach Alter, Stadtkreis und Herkunft/Kreis 6\",\"WBev nach Alter, Stadtkreis und Herkunft/Kreis 7\",\"WBev nach Alter, Stadtkreis und Herkunft/Kreis 8\",\"WBev nach Alter, Stadtkreis und Herkunft/Kreis 9\",\"WBev nach Alter, Stadtkreis und Herkunft\",\"WBev nach Alter, Stadtkreis und Herkunft\",\"WBev nach Alter, Stadtkreis und Herkunft\",\"WBev nach Alter, Stadtkreis und Herkunft\",\"WBev nach Alter, Stadtkreis und Herkunft\",\"WBev nach Alter, Stadtkreis und Herkunft\",\"WBev nach Alter, Stadtkreis und Herkunft\",\"WBev nach Alter, Stadtkreis und Herkunft\",\"WBev nach Alter, Stadtkreis und Herkunft\",\"WBev nach Alter, Stadtkreis und Herkunft\",\"WBev nach Alter, Stadtkreis und Herkunft\",\"WBev nach Alter, Stadtkreis und Herkunft\",\"\"],\"root\":{\"color\":\"grey\"},\"type\":\"treemap\",\"values\":[15,224,422,194,265,270,164,98,196,205,114,335,16,249,409,191,252,245,174,108,190,189,98,311,31,473,831,385,517,515,338,206,386,394,212,646,4934]}],                        {\"coloraxis\":{\"colorbar\":{\"title\":{\"text\":\"sum_WBev\"}},\"colorscale\":[[0.0,\"rgb(255,247,251)\"],[0.125,\"rgb(236,226,240)\"],[0.25,\"rgb(208,209,230)\"],[0.375,\"rgb(166,189,219)\"],[0.5,\"rgb(103,169,207)\"],[0.625,\"rgb(54,144,192)\"],[0.75,\"rgb(2,129,138)\"],[0.875,\"rgb(1,108,89)\"],[1.0,\"rgb(1,70,54)\"]]},\"legend\":{\"tracegroupgap\":0},\"margin\":{\"b\":25,\"l\":25,\"r\":250,\"t\":50},\"template\":{\"data\":{\"bar\":[{\"error_x\":{\"color\":\"#2a3f5f\"},\"error_y\":{\"color\":\"#2a3f5f\"},\"marker\":{\"line\":{\"color\":\"#E5ECF6\",\"width\":0.5},\"pattern\":{\"fillmode\":\"overlay\",\"size\":10,\"solidity\":0.2}},\"type\":\"bar\"}],\"barpolar\":[{\"marker\":{\"line\":{\"color\":\"#E5ECF6\",\"width\":0.5},\"pattern\":{\"fillmode\":\"overlay\",\"size\":10,\"solidity\":0.2}},\"type\":\"barpolar\"}],\"carpet\":[{\"aaxis\":{\"endlinecolor\":\"#2a3f5f\",\"gridcolor\":\"white\",\"linecolor\":\"white\",\"minorgridcolor\":\"white\",\"startlinecolor\":\"#2a3f5f\"},\"baxis\":{\"endlinecolor\":\"#2a3f5f\",\"gridcolor\":\"white\",\"linecolor\":\"white\",\"minorgridcolor\":\"white\",\"startlinecolor\":\"#2a3f5f\"},\"type\":\"carpet\"}],\"choropleth\":[{\"colorbar\":{\"outlinewidth\":0,\"ticks\":\"\"},\"type\":\"choropleth\"}],\"contour\":[{\"colorbar\":{\"outlinewidth\":0,\"ticks\":\"\"},\"colorscale\":[[0.0,\"#0d0887\"],[0.1111111111111111,\"#46039f\"],[0.2222222222222222,\"#7201a8\"],[0.3333333333333333,\"#9c179e\"],[0.4444444444444444,\"#bd3786\"],[0.5555555555555556,\"#d8576b\"],[0.6666666666666666,\"#ed7953\"],[0.7777777777777778,\"#fb9f3a\"],[0.8888888888888888,\"#fdca26\"],[1.0,\"#f0f921\"]],\"type\":\"contour\"}],\"contourcarpet\":[{\"colorbar\":{\"outlinewidth\":0,\"ticks\":\"\"},\"type\":\"contourcarpet\"}],\"heatmap\":[{\"colorbar\":{\"outlinewidth\":0,\"ticks\":\"\"},\"colorscale\":[[0.0,\"#0d0887\"],[0.1111111111111111,\"#46039f\"],[0.2222222222222222,\"#7201a8\"],[0.3333333333333333,\"#9c179e\"],[0.4444444444444444,\"#bd3786\"],[0.5555555555555556,\"#d8576b\"],[0.6666666666666666,\"#ed7953\"],[0.7777777777777778,\"#fb9f3a\"],[0.8888888888888888,\"#fdca26\"],[1.0,\"#f0f921\"]],\"type\":\"heatmap\"}],\"heatmapgl\":[{\"colorbar\":{\"outlinewidth\":0,\"ticks\":\"\"},\"colorscale\":[[0.0,\"#0d0887\"],[0.1111111111111111,\"#46039f\"],[0.2222222222222222,\"#7201a8\"],[0.3333333333333333,\"#9c179e\"],[0.4444444444444444,\"#bd3786\"],[0.5555555555555556,\"#d8576b\"],[0.6666666666666666,\"#ed7953\"],[0.7777777777777778,\"#fb9f3a\"],[0.8888888888888888,\"#fdca26\"],[1.0,\"#f0f921\"]],\"type\":\"heatmapgl\"}],\"histogram\":[{\"marker\":{\"pattern\":{\"fillmode\":\"overlay\",\"size\":10,\"solidity\":0.2}},\"type\":\"histogram\"}],\"histogram2d\":[{\"colorbar\":{\"outlinewidth\":0,\"ticks\":\"\"},\"colorscale\":[[0.0,\"#0d0887\"],[0.1111111111111111,\"#46039f\"],[0.2222222222222222,\"#7201a8\"],[0.3333333333333333,\"#9c179e\"],[0.4444444444444444,\"#bd3786\"],[0.5555555555555556,\"#d8576b\"],[0.6666666666666666,\"#ed7953\"],[0.7777777777777778,\"#fb9f3a\"],[0.8888888888888888,\"#fdca26\"],[1.0,\"#f0f921\"]],\"type\":\"histogram2d\"}],\"histogram2dcontour\":[{\"colorbar\":{\"outlinewidth\":0,\"ticks\":\"\"},\"colorscale\":[[0.0,\"#0d0887\"],[0.1111111111111111,\"#46039f\"],[0.2222222222222222,\"#7201a8\"],[0.3333333333333333,\"#9c179e\"],[0.4444444444444444,\"#bd3786\"],[0.5555555555555556,\"#d8576b\"],[0.6666666666666666,\"#ed7953\"],[0.7777777777777778,\"#fb9f3a\"],[0.8888888888888888,\"#fdca26\"],[1.0,\"#f0f921\"]],\"type\":\"histogram2dcontour\"}],\"mesh3d\":[{\"colorbar\":{\"outlinewidth\":0,\"ticks\":\"\"},\"type\":\"mesh3d\"}],\"parcoords\":[{\"line\":{\"colorbar\":{\"outlinewidth\":0,\"ticks\":\"\"}},\"type\":\"parcoords\"}],\"pie\":[{\"automargin\":true,\"type\":\"pie\"}],\"scatter\":[{\"marker\":{\"colorbar\":{\"outlinewidth\":0,\"ticks\":\"\"}},\"type\":\"scatter\"}],\"scatter3d\":[{\"line\":{\"colorbar\":{\"outlinewidth\":0,\"ticks\":\"\"}},\"marker\":{\"colorbar\":{\"outlinewidth\":0,\"ticks\":\"\"}},\"type\":\"scatter3d\"}],\"scattercarpet\":[{\"marker\":{\"colorbar\":{\"outlinewidth\":0,\"ticks\":\"\"}},\"type\":\"scattercarpet\"}],\"scattergeo\":[{\"marker\":{\"colorbar\":{\"outlinewidth\":0,\"ticks\":\"\"}},\"type\":\"scattergeo\"}],\"scattergl\":[{\"marker\":{\"colorbar\":{\"outlinewidth\":0,\"ticks\":\"\"}},\"type\":\"scattergl\"}],\"scattermapbox\":[{\"marker\":{\"colorbar\":{\"outlinewidth\":0,\"ticks\":\"\"}},\"type\":\"scattermapbox\"}],\"scatterpolar\":[{\"marker\":{\"colorbar\":{\"outlinewidth\":0,\"ticks\":\"\"}},\"type\":\"scatterpolar\"}],\"scatterpolargl\":[{\"marker\":{\"colorbar\":{\"outlinewidth\":0,\"ticks\":\"\"}},\"type\":\"scatterpolargl\"}],\"scatterternary\":[{\"marker\":{\"colorbar\":{\"outlinewidth\":0,\"ticks\":\"\"}},\"type\":\"scatterternary\"}],\"surface\":[{\"colorbar\":{\"outlinewidth\":0,\"ticks\":\"\"},\"colorscale\":[[0.0,\"#0d0887\"],[0.1111111111111111,\"#46039f\"],[0.2222222222222222,\"#7201a8\"],[0.3333333333333333,\"#9c179e\"],[0.4444444444444444,\"#bd3786\"],[0.5555555555555556,\"#d8576b\"],[0.6666666666666666,\"#ed7953\"],[0.7777777777777778,\"#fb9f3a\"],[0.8888888888888888,\"#fdca26\"],[1.0,\"#f0f921\"]],\"type\":\"surface\"}],\"table\":[{\"cells\":{\"fill\":{\"color\":\"#EBF0F8\"},\"line\":{\"color\":\"white\"}},\"header\":{\"fill\":{\"color\":\"#C8D4E3\"},\"line\":{\"color\":\"white\"}},\"type\":\"table\"}]},\"layout\":{\"annotationdefaults\":{\"arrowcolor\":\"#2a3f5f\",\"arrowhead\":0,\"arrowwidth\":1},\"autotypenumbers\":\"strict\",\"coloraxis\":{\"colorbar\":{\"outlinewidth\":0,\"ticks\":\"\"}},\"colorscale\":{\"diverging\":[[0,\"#8e0152\"],[0.1,\"#c51b7d\"],[0.2,\"#de77ae\"],[0.3,\"#f1b6da\"],[0.4,\"#fde0ef\"],[0.5,\"#f7f7f7\"],[0.6,\"#e6f5d0\"],[0.7,\"#b8e186\"],[0.8,\"#7fbc41\"],[0.9,\"#4d9221\"],[1,\"#276419\"]],\"sequential\":[[0.0,\"#0d0887\"],[0.1111111111111111,\"#46039f\"],[0.2222222222222222,\"#7201a8\"],[0.3333333333333333,\"#9c179e\"],[0.4444444444444444,\"#bd3786\"],[0.5555555555555556,\"#d8576b\"],[0.6666666666666666,\"#ed7953\"],[0.7777777777777778,\"#fb9f3a\"],[0.8888888888888888,\"#fdca26\"],[1.0,\"#f0f921\"]],\"sequentialminus\":[[0.0,\"#0d0887\"],[0.1111111111111111,\"#46039f\"],[0.2222222222222222,\"#7201a8\"],[0.3333333333333333,\"#9c179e\"],[0.4444444444444444,\"#bd3786\"],[0.5555555555555556,\"#d8576b\"],[0.6666666666666666,\"#ed7953\"],[0.7777777777777778,\"#fb9f3a\"],[0.8888888888888888,\"#fdca26\"],[1.0,\"#f0f921\"]]},\"colorway\":[\"#636efa\",\"#EF553B\",\"#00cc96\",\"#ab63fa\",\"#FFA15A\",\"#19d3f3\",\"#FF6692\",\"#B6E880\",\"#FF97FF\",\"#FECB52\"],\"font\":{\"color\":\"#2a3f5f\"},\"geo\":{\"bgcolor\":\"white\",\"lakecolor\":\"white\",\"landcolor\":\"#E5ECF6\",\"showlakes\":true,\"showland\":true,\"subunitcolor\":\"white\"},\"hoverlabel\":{\"align\":\"left\"},\"hovermode\":\"closest\",\"mapbox\":{\"style\":\"light\"},\"paper_bgcolor\":\"white\",\"plot_bgcolor\":\"#E5ECF6\",\"polar\":{\"angularaxis\":{\"gridcolor\":\"white\",\"linecolor\":\"white\",\"ticks\":\"\"},\"bgcolor\":\"#E5ECF6\",\"radialaxis\":{\"gridcolor\":\"white\",\"linecolor\":\"white\",\"ticks\":\"\"}},\"scene\":{\"xaxis\":{\"backgroundcolor\":\"#E5ECF6\",\"gridcolor\":\"white\",\"gridwidth\":2,\"linecolor\":\"white\",\"showbackground\":true,\"ticks\":\"\",\"zerolinecolor\":\"white\"},\"yaxis\":{\"backgroundcolor\":\"#E5ECF6\",\"gridcolor\":\"white\",\"gridwidth\":2,\"linecolor\":\"white\",\"showbackground\":true,\"ticks\":\"\",\"zerolinecolor\":\"white\"},\"zaxis\":{\"backgroundcolor\":\"#E5ECF6\",\"gridcolor\":\"white\",\"gridwidth\":2,\"linecolor\":\"white\",\"showbackground\":true,\"ticks\":\"\",\"zerolinecolor\":\"white\"}},\"shapedefaults\":{\"line\":{\"color\":\"#2a3f5f\"}},\"ternary\":{\"aaxis\":{\"gridcolor\":\"white\",\"linecolor\":\"white\",\"ticks\":\"\"},\"baxis\":{\"gridcolor\":\"white\",\"linecolor\":\"white\",\"ticks\":\"\"},\"bgcolor\":\"#E5ECF6\",\"caxis\":{\"gridcolor\":\"white\",\"linecolor\":\"white\",\"ticks\":\"\"}},\"title\":{\"x\":0.05},\"xaxis\":{\"automargin\":true,\"gridcolor\":\"white\",\"linecolor\":\"white\",\"ticks\":\"\",\"title\":{\"standoff\":15},\"zerolinecolor\":\"white\",\"zerolinewidth\":2},\"yaxis\":{\"automargin\":true,\"gridcolor\":\"white\",\"linecolor\":\"white\",\"ticks\":\"\",\"title\":{\"standoff\":15},\"zerolinecolor\":\"white\",\"zerolinewidth\":2}}}},                        {\"responsive\": true}                    ).then(function(){\n",
       "                            \n",
       "var gd = document.getElementById('c5f7820a-d7de-4286-aac0-529eaee80d5d');\n",
       "var x = new MutationObserver(function (mutations, observer) {{\n",
       "        var display = window.getComputedStyle(gd).display;\n",
       "        if (!display || display === 'none') {{\n",
       "            console.log([gd, 'removed!']);\n",
       "            Plotly.purge(gd);\n",
       "            observer.disconnect();\n",
       "        }}\n",
       "}});\n",
       "\n",
       "// Listen for the removal of the full notebook cells\n",
       "var notebookContainer = gd.closest('#notebook-container');\n",
       "if (notebookContainer) {{\n",
       "    x.observe(notebookContainer, {childList: true});\n",
       "}}\n",
       "\n",
       "// Listen for the clearing of the current output cell\n",
       "var outputEl = gd.closest('.output');\n",
       "if (outputEl) {{\n",
       "    x.observe(outputEl, {childList: true});\n",
       "}}\n",
       "\n",
       "                        })                };                });            </script>        </div>"
      ]
     },
     "metadata": {},
     "output_type": "display_data"
    }
   ],
   "source": [
    "fig = px.treemap(myTreemapAgg.reset_index()\n",
    "                 , path=[px.Constant(\"WBev nach Alter, Stadtkreis und Herkunft\"), 'KreisLang', 'SexLang']\n",
    "                 , values='sum_WBev'\n",
    "                 , color='sum_WBev'\n",
    "                 ## bei discrete scales (bei Klassen und Strings):                 \n",
    "                 #, color_discrete_map={'(?)':'lightgrey','EVP':'gold', 'SP':'#FF3030', 'PdA':'#EE3B3B', 'Grüne':'#A2CD5A','GLP':'#CAFF70','Die Mitte':'orange','FDP':'#104E8B','AL':'deeppink','SVP':'forestgreen', 'FL ZÜRI':'#8B864E','Volt':'#lightblue' }                \n",
    "                 ## bei continuous scales (bei Zahlenwerten):\n",
    "                , color_continuous_scale='PuBuGn'\n",
    "                #, color_continuous_midpoint=np.average(df['AnzBestWir'], weights=df['AnzBestWir']) \n",
    "                 #,height=400\n",
    "                 #,width=1500\n",
    "                )\n",
    "fig.update_traces(root_color=\"grey\")\n",
    "fig.update_layout(margin = dict(t=50, l=25, r=250, b=25))#, title=\"WBev nach Alter, Stadtkreis und Herkunft\")\n",
    "fig.show()"
   ]
  },
  {
   "cell_type": "markdown",
   "metadata": {},
   "source": [
    "-------------------------- hier gestoppt\n",
    "\n",
    "Liniendiagramm \n",
    "[Link zur Doku](https://altair-viz.github.io/gallery/multiline_highlight.html)"
   ]
  },
  {
   "cell_type": "markdown",
   "metadata": {},
   "source": [
    "### Test: Choroplethenkarte\n",
    "Importiere die Geodaten als GeoJSON"
   ]
  },
  {
   "cell_type": "code",
   "execution_count": 153,
   "metadata": {},
   "outputs": [
    {
     "data": {
      "text/html": [
       "<div>\n",
       "<style scoped>\n",
       "    .dataframe tbody tr th:only-of-type {\n",
       "        vertical-align: middle;\n",
       "    }\n",
       "\n",
       "    .dataframe tbody tr th {\n",
       "        vertical-align: top;\n",
       "    }\n",
       "\n",
       "    .dataframe thead th {\n",
       "        text-align: right;\n",
       "    }\n",
       "</style>\n",
       "<table border=\"1\" class=\"dataframe\">\n",
       "  <thead>\n",
       "    <tr style=\"text-align: right;\">\n",
       "      <th></th>\n",
       "      <th>id</th>\n",
       "      <th>kname</th>\n",
       "      <th>knr</th>\n",
       "      <th>objectid</th>\n",
       "      <th>objid</th>\n",
       "      <th>qname</th>\n",
       "      <th>qnr</th>\n",
       "      <th>geometry</th>\n",
       "    </tr>\n",
       "  </thead>\n",
       "  <tbody>\n",
       "    <tr>\n",
       "      <th>0</th>\n",
       "      <td>adm_statistische_quartiere_map.1</td>\n",
       "      <td>Kreis 7</td>\n",
       "      <td>7</td>\n",
       "      <td>1</td>\n",
       "      <td>34</td>\n",
       "      <td>Hirslanden</td>\n",
       "      <td>73</td>\n",
       "      <td>POLYGON ((8.55670 47.36406, 8.55682 47.36410, ...</td>\n",
       "    </tr>\n",
       "    <tr>\n",
       "      <th>1</th>\n",
       "      <td>adm_statistische_quartiere_map.2</td>\n",
       "      <td>Kreis 8</td>\n",
       "      <td>8</td>\n",
       "      <td>2</td>\n",
       "      <td>33</td>\n",
       "      <td>Weinegg</td>\n",
       "      <td>83</td>\n",
       "      <td>POLYGON ((8.55670 47.36405, 8.55672 47.36403, ...</td>\n",
       "    </tr>\n",
       "    <tr>\n",
       "      <th>2</th>\n",
       "      <td>adm_statistische_quartiere_map.3</td>\n",
       "      <td>Kreis 8</td>\n",
       "      <td>8</td>\n",
       "      <td>3</td>\n",
       "      <td>32</td>\n",
       "      <td>Mühlebach</td>\n",
       "      <td>82</td>\n",
       "      <td>POLYGON ((8.55423 47.36456, 8.55426 47.36452, ...</td>\n",
       "    </tr>\n",
       "    <tr>\n",
       "      <th>3</th>\n",
       "      <td>adm_statistische_quartiere_map.4</td>\n",
       "      <td>Kreis 8</td>\n",
       "      <td>8</td>\n",
       "      <td>4</td>\n",
       "      <td>31</td>\n",
       "      <td>Seefeld</td>\n",
       "      <td>81</td>\n",
       "      <td>POLYGON ((8.54795 47.36500, 8.54805 47.36489, ...</td>\n",
       "    </tr>\n",
       "    <tr>\n",
       "      <th>4</th>\n",
       "      <td>adm_statistische_quartiere_map.7</td>\n",
       "      <td>Kreis 4</td>\n",
       "      <td>4</td>\n",
       "      <td>7</td>\n",
       "      <td>16</td>\n",
       "      <td>Werd</td>\n",
       "      <td>41</td>\n",
       "      <td>POLYGON ((8.53300 47.37394, 8.53299 47.37392, ...</td>\n",
       "    </tr>\n",
       "  </tbody>\n",
       "</table>\n",
       "</div>"
      ],
      "text/plain": [
       "                                 id    kname  knr  objectid objid       qname  qnr  \\\n",
       "0  adm_statistische_quartiere_map.1  Kreis 7    7         1    34  Hirslanden   73   \n",
       "1  adm_statistische_quartiere_map.2  Kreis 8    8         2    33     Weinegg   83   \n",
       "2  adm_statistische_quartiere_map.3  Kreis 8    8         3    32   Mühlebach   82   \n",
       "3  adm_statistische_quartiere_map.4  Kreis 8    8         4    31     Seefeld   81   \n",
       "4  adm_statistische_quartiere_map.7  Kreis 4    4         7    16        Werd   41   \n",
       "\n",
       "                                            geometry  \n",
       "0  POLYGON ((8.55670 47.36406, 8.55682 47.36410, ...  \n",
       "1  POLYGON ((8.55670 47.36405, 8.55672 47.36403, ...  \n",
       "2  POLYGON ((8.55423 47.36456, 8.55426 47.36452, ...  \n",
       "3  POLYGON ((8.54795 47.36500, 8.54805 47.36489, ...  \n",
       "4  POLYGON ((8.53300 47.37394, 8.53299 47.37392, ...  "
      ]
     },
     "execution_count": 153,
     "metadata": {},
     "output_type": "execute_result"
    }
   ],
   "source": [
    "# Read abt. Geopandas https://geopandas.org/docs/user_guide/io.html\n",
    "# Wenn die Daten lokal agelegt sind, dann kannst Du folgendes machen:\n",
    "##input_stadtquartiere = r\"//szh.loc/ssz/data/GIS/Daten/Vektor/_aktuell/stzh.adm_statistische_quartiere_map.json\"\n",
    "##df_stadtquartiere = gpd.read_file(input_stadtquartiere)\n",
    "##df_stadtquartiere.head(2)\n",
    "#df_stadtkreise.dtypes\n",
    "\n",
    "geojson_url = \"https://www.ogd.stadt-zuerich.ch/wfs/geoportal/Statistische_Quartiere?service=WFS&version=1.1.0&request=GetFeature&outputFormat=GeoJSON&typename=adm_statistische_quartiere_map\"\n",
    "df_adm_statistische_quartiere_map = gpd.read_file(geojson_url)\n",
    "\n",
    "df_adm_statistische_quartiere_map.head(5)\n"
   ]
  },
  {
   "cell_type": "markdown",
   "metadata": {},
   "source": [
    "Joine die importierten statistischen Daten des aktuellen Jahres zum Geodatensatz:\n",
    "\n",
    "*Siehe dazu Doku zu [Geopandas](https://geopandas.org/docs/user_guide/mergingdata.html)*"
   ]
  },
  {
   "cell_type": "code",
   "execution_count": 154,
   "metadata": {},
   "outputs": [
    {
     "data": {
      "text/html": [
       "<div>\n",
       "<style scoped>\n",
       "    .dataframe tbody tr th:only-of-type {\n",
       "        vertical-align: middle;\n",
       "    }\n",
       "\n",
       "    .dataframe tbody tr th {\n",
       "        vertical-align: top;\n",
       "    }\n",
       "\n",
       "    .dataframe thead th {\n",
       "        text-align: right;\n",
       "    }\n",
       "</style>\n",
       "<table border=\"1\" class=\"dataframe\">\n",
       "  <thead>\n",
       "    <tr style=\"text-align: right;\">\n",
       "      <th></th>\n",
       "      <th></th>\n",
       "      <th></th>\n",
       "      <th></th>\n",
       "      <th>AnzBestWir</th>\n",
       "    </tr>\n",
       "    <tr>\n",
       "      <th>StichtagDatJahr</th>\n",
       "      <th>StichtagDatMM</th>\n",
       "      <th>QuarCd</th>\n",
       "      <th>QuarLang</th>\n",
       "      <th></th>\n",
       "    </tr>\n",
       "  </thead>\n",
       "  <tbody>\n",
       "    <tr>\n",
       "      <th rowspan=\"5\" valign=\"top\">2021</th>\n",
       "      <th rowspan=\"5\" valign=\"top\">11</th>\n",
       "      <th>11</th>\n",
       "      <th>Rathaus</th>\n",
       "      <td>3283</td>\n",
       "    </tr>\n",
       "    <tr>\n",
       "      <th>12</th>\n",
       "      <th>Hochschulen</th>\n",
       "      <td>718</td>\n",
       "    </tr>\n",
       "    <tr>\n",
       "      <th>13</th>\n",
       "      <th>Lindenhof</th>\n",
       "      <td>1033</td>\n",
       "    </tr>\n",
       "    <tr>\n",
       "      <th>14</th>\n",
       "      <th>City</th>\n",
       "      <td>835</td>\n",
       "    </tr>\n",
       "    <tr>\n",
       "      <th>21</th>\n",
       "      <th>Wollishofen</th>\n",
       "      <td>20002</td>\n",
       "    </tr>\n",
       "  </tbody>\n",
       "</table>\n",
       "</div>"
      ],
      "text/plain": [
       "                                                  AnzBestWir\n",
       "StichtagDatJahr StichtagDatMM QuarCd QuarLang               \n",
       "2021            11            11     Rathaus            3283\n",
       "                              12     Hochschulen         718\n",
       "                              13     Lindenhof          1033\n",
       "                              14     City                835\n",
       "                              21     Wollishofen       20002"
      ]
     },
     "execution_count": 154,
     "metadata": {},
     "output_type": "execute_result"
    }
   ],
   "source": [
    "akt_wbev_quart = data2betested.loc[\"2021-11\"].groupby(\n",
    "    ['StichtagDatJahr','StichtagDatMM','QuarCd','QuarLang']\n",
    ").agg(\n",
    "    {'AnzBestWir':'sum'}\n",
    ")\n",
    "akt_wbev_quart.head()\n"
   ]
  },
  {
   "cell_type": "code",
   "execution_count": 158,
   "metadata": {},
   "outputs": [
    {
     "data": {
      "text/html": [
       "<div>\n",
       "<style scoped>\n",
       "    .dataframe tbody tr th:only-of-type {\n",
       "        vertical-align: middle;\n",
       "    }\n",
       "\n",
       "    .dataframe tbody tr th {\n",
       "        vertical-align: top;\n",
       "    }\n",
       "\n",
       "    .dataframe thead th {\n",
       "        text-align: right;\n",
       "    }\n",
       "</style>\n",
       "<table border=\"1\" class=\"dataframe\">\n",
       "  <thead>\n",
       "    <tr style=\"text-align: right;\">\n",
       "      <th></th>\n",
       "      <th>geometry</th>\n",
       "      <th>QuarCd</th>\n",
       "      <th>qname</th>\n",
       "      <th>knr</th>\n",
       "      <th>AnzBestWir</th>\n",
       "    </tr>\n",
       "  </thead>\n",
       "  <tbody>\n",
       "    <tr>\n",
       "      <th>0</th>\n",
       "      <td>POLYGON ((8.55670 47.36406, 8.55682 47.36410, ...</td>\n",
       "      <td>73</td>\n",
       "      <td>Hirslanden</td>\n",
       "      <td>7</td>\n",
       "      <td>7342</td>\n",
       "    </tr>\n",
       "    <tr>\n",
       "      <th>1</th>\n",
       "      <td>POLYGON ((8.55670 47.36405, 8.55672 47.36403, ...</td>\n",
       "      <td>83</td>\n",
       "      <td>Weinegg</td>\n",
       "      <td>8</td>\n",
       "      <td>5564</td>\n",
       "    </tr>\n",
       "  </tbody>\n",
       "</table>\n",
       "</div>"
      ],
      "text/plain": [
       "                                            geometry  QuarCd       qname  knr  AnzBestWir\n",
       "0  POLYGON ((8.55670 47.36406, 8.55682 47.36410, ...      73  Hirslanden    7        7342\n",
       "1  POLYGON ((8.55670 47.36405, 8.55672 47.36403, ...      83     Weinegg    8        5564"
      ]
     },
     "execution_count": 158,
     "metadata": {},
     "output_type": "execute_result"
    }
   ],
   "source": [
    "# Rename attribute stznr to StatZoneSort, so the IDs have the same name\n",
    "stadtquartiere_shapes = df_adm_statistische_quartiere_map[['geometry', 'qnr', 'qname', 'knr']].rename(columns={'qnr': 'QuarCd'})\n",
    "\n",
    "# Merge with `merge` method on shared variable (stznr und StatZoneSort):\n",
    "stadtquartiere_shapes_joined = stadtquartiere_shapes.merge(akt_wbev_quart, on='QuarCd')\n",
    "\n",
    "stadtquartiere_shapes_joined.head(2)\n"
   ]
  },
  {
   "cell_type": "code",
   "execution_count": 159,
   "metadata": {},
   "outputs": [
    {
     "data": {
      "text/plain": [
       "<AxesSubplot:>"
      ]
     },
     "execution_count": 159,
     "metadata": {},
     "output_type": "execute_result"
    },
    {
     "data": {
      "image/png": "[encoded data removed]",
      "text/plain": [
       "<Figure size 432x288 with 1 Axes>"
      ]
     },
     "metadata": {
      "needs_background": "light"
     },
     "output_type": "display_data"
    },
    {
     "data": {
      "image/png": "[encoded data removed]",
      "text/plain": [
       "<Figure size 432x288 with 1 Axes>"
      ]
     },
     "metadata": {
      "needs_background": "light"
     },
     "output_type": "display_data"
    },
    {
     "data": {
      "image/png": "[encoded data removed]",
      "text/plain": [
       "<Figure size 432x288 with 1 Axes>"
      ]
     },
     "metadata": {
      "needs_background": "light"
     },
     "output_type": "display_data"
    }
   ],
   "source": [
    "# Plot by StatQuartiere\n",
    "# Weitere Schemes: scheme='quantiles', scheme='fisherjenks', scheme='natural_breaks',\n",
    "\n",
    "stadtquartiere_shapes_joined.plot(column='AnzBestWir', cmap='viridis', scheme='natural_breaks', legend=True )\n",
    "#scheme werte: https://matplotlib.org/2.0.2/users/colormaps.html\n",
    "\n",
    "stadtquartiere_shapes_joined.plot(column='AnzBestWir', cmap='plasma', scheme='fisherjenks', legend=True )\n",
    "#scheme werte: https://matplotlib.org/2.0.2/users/colormaps.html\n",
    "stadtquartiere_shapes_joined.plot(column='AnzBestWir', cmap='cool', scheme='quantiles', legend=True )\n",
    "#scheme werte: https://matplotlib.org/2.0.2/users/colormaps.html\n",
    "\n",
    "#\n",
    "#Neuere Gallerie: https://matplotlib.org/stable/gallery/index.html"
   ]
  },
  {
   "cell_type": "raw",
   "metadata": {},
   "source": [
    "fig, ax = plt.subplots(1, 1)\n",
    "\n",
    "statzonen_shapes_aktJahr.plot(column='AnzWhg', ax=ax, legend=True, legend_kwds={'label': \"Anzahl Personen\",'orientation': \"horizontal\"})\n"
   ]
  },
  {
   "cell_type": "markdown",
   "metadata": {},
   "source": [
    "Noch zu prüfen, folgendes schöne Beispiel: https://docs.bokeh.org/en/latest/docs/user_guide/interaction/legends.html\n",
    "\n",
    "Konkrete Beispiele von Bookeh in Jupyter NB: https://docs.bokeh.org/en/latest/docs/user_guide/jupyter.html"
   ]
  },
  {
   "cell_type": "markdown",
   "metadata": {},
   "source": [
    "**Sharepoint als gecheckt markieren!**"
   ]
  },
  {
   "cell_type": "markdown",
   "metadata": {},
   "source": [
    "Record auf Sharepoint: **[Link](http://kollaboration.intranet.stzh.ch/orga/ssz-produkte/Lists/SASA_Outputs/EditForm.aspx?ID=157&Source=%2Forga%2Fssz%2Dprodukte%2FLists%2FSASA%5FOutputs)**"
   ]
  },
  {
   "cell_type": "code",
   "execution_count": null,
   "metadata": {},
   "outputs": [],
   "source": []
  },
  {
   "cell_type": "raw",
   "metadata": {},
   "source": []
  },
  {
   "cell_type": "code",
   "execution_count": null,
   "metadata": {},
   "outputs": [],
   "source": []
  }
 ],
 "metadata": {
  "kernelspec": {
   "display_name": "Python 3 (ipykernel)",
   "language": "python",
   "name": "python3"
  },
  "language_info": {
   "codemirror_mode": {
    "name": "ipython",
    "version": 3
   },
   "file_extension": ".py",
   "mimetype": "text/x-python",
   "name": "python",
   "nbconvert_exporter": "python",
   "pygments_lexer": "ipython3",
   "version": "3.9.7"
  }
 },
 "nbformat": 4,
 "nbformat_minor": 4
}
