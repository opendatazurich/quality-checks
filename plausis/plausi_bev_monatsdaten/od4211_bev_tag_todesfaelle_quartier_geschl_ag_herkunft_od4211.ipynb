{
 "cells": [
  {
   "cell_type": "markdown",
   "metadata": {},
   "source": [
    "# Testing\n",
    "## Todesfälle nach Tag, Stadtquartier, Geschlecht, Altersgruppe und Herkunft, seit 1998\n",
    "Datum: 20.01.2022"
   ]
  },
  {
   "cell_type": "markdown",
   "metadata": {},
   "source": [
    "### Importiere die notwendigen Packages"
   ]
  },
  {
   "cell_type": "code",
   "execution_count": 81,
   "metadata": {},
   "outputs": [],
   "source": [
    "import pandas as pd\n",
    "import pivottablejs\n",
    "from pivottablejs import pivot_ui\n",
    "import numpy as np\n",
    "import altair as alt\n",
    "import matplotlib.pyplot as plt\n",
    "#from datetime import datetime\n",
    "import datetime\n",
    "import geopandas as gpd\n",
    "import folium \n",
    "import plotly.express as px\n"
   ]
  },
  {
   "cell_type": "markdown",
   "metadata": {},
   "source": [
    "Definiere Settings. Hier das Zahlenformat von Float-Werten (z.B. *'{:,.2f}'.format* mit Komma als Tausenderzeichen), "
   ]
  },
  {
   "cell_type": "code",
   "execution_count": 82,
   "metadata": {},
   "outputs": [],
   "source": [
    "pd.options.display.float_format = '{:.0f}'.format\n",
    "pd.set_option('display.width', 100)\n",
    "pd.set_option('display.max_columns', 15)"
   ]
  },
  {
   "cell_type": "markdown",
   "metadata": {},
   "source": [
    "### Zeitvariabeln\n",
    "Bestimme den aktuellst geladenen Monat. Hier ist es der Stand vor 2 Monaten. \n",
    "Bestimme noch weitere evt. sinnvolle Zeitvariabeln.\n",
    "\n",
    "Zum Unterschied zwischen import datetime und from datedtime import datetime, siehe https://stackoverflow.com/questions/15707532/import-datetime-v-s-from-datetime-import-datetime\n",
    "\n",
    "Zuerst die Zeitvariabeln als Strings"
   ]
  },
  {
   "cell_type": "code",
   "execution_count": 83,
   "metadata": {},
   "outputs": [],
   "source": [
    "#today_date = datetime.date.today()\n",
    "#date_time = datetime.datetime.strptime(date_time_string, '%Y-%m-%d %H:%M')\n",
    "now = datetime.date.today()\n",
    "date_today = now.strftime(\"%Y-%m-%d\")\n",
    "year_today = now.strftime(\"%Y\")\n",
    "month_today = now.strftime(\"%m\")\n",
    "day_today = now.strftime(\"%d\")\n"
   ]
  },
  {
   "cell_type": "markdown",
   "metadata": {},
   "source": [
    "Und hier noch die Zeitvariabeln als Integers:\n",
    "- `aktuellesJahr`\n",
    "- `aktuellerMonat`: Der gerade jetzt aktuelle Monat\n",
    "- `selectedMonat`: Der aktuellste Monat in den Daten. In der Regel zwei Monate her."
   ]
  },
  {
   "cell_type": "code",
   "execution_count": 84,
   "metadata": {},
   "outputs": [
    {
     "name": "stdout",
     "output_type": "stream",
     "text": [
      "2022 1 datenstand:  -1 time.struct_time(tm_year=2022, tm_mon=1, tm_mday=21, tm_hour=0, tm_min=0, tm_sec=0, tm_wday=4, tm_yday=21, tm_isdst=-1)\n"
     ]
    }
   ],
   "source": [
    "#now = datetime.now() \n",
    "int_times = now.timetuple()\n",
    "\n",
    "aktuellesJahr = int_times[0]\n",
    "aktuellerMonat = int_times[1]\n",
    "selectedMonat = int_times[1]-2\n",
    "\n",
    "print(aktuellesJahr, \n",
    "      aktuellerMonat,\n",
    "    'datenstand: ', selectedMonat,\n",
    "     int_times)\n"
   ]
  },
  {
   "cell_type": "markdown",
   "metadata": {},
   "source": [
    "Berechne die Variable Epoche um später das SAS-Datum in ein Unix-Datum umzuwandeln. Bei SAS beginnt die Epoche am 1.1.1960. Bei Unix am 1.1.1970.\n",
    "Diese Variable wird beim CSV-Import benötigt."
   ]
  },
  {
   "cell_type": "code",
   "execution_count": 85,
   "metadata": {},
   "outputs": [],
   "source": [
    "epoch = datetime.datetime(1960, 1, 1)"
   ]
  },
  {
   "cell_type": "markdown",
   "metadata": {
    "tags": []
   },
   "source": [
    "### Importiere einen Datensatz \n",
    "\n",
    "- Beachte dabei die Notation des Pfades...\n",
    "- Definiere mal aktuell noch keine weiteren Parameter beim Import"
   ]
  },
  {
   "cell_type": "markdown",
   "metadata": {},
   "source": [
    "**Dataset auf INTEG Datenkatalog**:  https://data.integ.stadt-zuerich.ch/dataset/int_dwh_bev_tag_todesfaelle_quartier_geschl_ag_herkunft_od4211\n",
    "\n",
    "**Dataset auf PROD Datenkatalog**:  https://data.stadt-zuerich.ch/dataset/bev_tag_todesfaelle_quartier_geschl_ag_herkunft_od4211"
   ]
  },
  {
   "cell_type": "code",
   "execution_count": 112,
   "metadata": {},
   "outputs": [
    {
     "name": "stdout",
     "output_type": "stream",
     "text": [
      "prod\n"
     ]
    }
   ],
   "source": [
    "#Die Datasets sind nur zum Testen auf INT-DWH-Dropzone. Wenn der Test vorbei ist, sind sie auf PROD. \n",
    "# Über den Status kann man einfach switchen\n",
    "\n",
    "status = \"integ\";\n",
    "print(status)"
   ]
  },
  {
   "cell_type": "code",
   "execution_count": 116,
   "metadata": {
    "tags": []
   },
   "outputs": [
    {
     "name": "stdout",
     "output_type": "stream",
     "text": [
      "https://data.stadt-zuerich.ch/dataset/bev_tag_todesfaelle_quartier_geschl_ag_herkunft_od4211/download/BEV421OD4211.csv\n"
     ]
    }
   ],
   "source": [
    "# Filepath\n",
    "if status == \"prod\":\n",
    "    #fp = r\"//szh.loc/ssz/applikationen/OGD_Dropzone/DWH/bev_monat_bestand_quartier_geschl_ag_herkunft_od3250/BEV325OD3250.csv\"\n",
    "    fp = r\"https://data.stadt-zuerich.ch/dataset/bev_tag_todesfaelle_quartier_geschl_ag_herkunft_od4211/download/BEV421OD4211.csv\"\n",
    "else:\n",
    "    fp = r\"//szh.loc/ssz/applikationen/OGD_Dropzone/INT_DWH/bev_tag_todesfaelle_quartier_geschl_ag_herkunft_od4211/BEV421OD4211.csv\" #tag todesfälle\n",
    "  #fp = r\"https://data.integ.stadt-zuerich.ch/dataset/int_dwh_bev_tag_todesfaelle_quartier_geschl_ag_herkunft_od4211/download/BEV421OD4211.csv\"\n",
    "\n",
    "\n",
    "print(fp)"
   ]
  },
  {
   "cell_type": "markdown",
   "metadata": {},
   "source": [
    "Beachte, wie das SAS Datum (ohne Format) in ein UNIX Datum umgerechnet und als Datumsformat dargestellt wird! Siehe dazu `https://stackoverflow.com/questions/26923564/convert-sas-numeric-to-python-datetime`"
   ]
  },
  {
   "cell_type": "code",
   "execution_count": 117,
   "metadata": {},
   "outputs": [
    {
     "name": "stdout",
     "output_type": "stream",
     "text": [
      "done\n"
     ]
    }
   ],
   "source": [
    "# Read the data\n",
    "data2betested = pd.read_csv(\n",
    "    fp, \n",
    "    sep=',',\n",
    "    #parse_dates=['GueltigAbDat'],\n",
    "    # KONVERTIERE DAS SAS DATUM IN EIN UNIXDATUM UND FORMATIERE ES\n",
    "    #date_parser=lambda s: epoch + datetime.timedelta(days=int(s)),\n",
    "    low_memory=False    \n",
    "    )\n",
    "\n",
    "print('done')"
   ]
  },
  {
   "cell_type": "markdown",
   "metadata": {},
   "source": [
    "In der Folge ein paar erste Tests:"
   ]
  },
  {
   "cell_type": "markdown",
   "metadata": {},
   "source": [
    " - 1) Zeige eine kurze Vorschau der importierten Daten\n",
    " - 2) Weise die Datentypen aus\n",
    " - 3) Zeige die Shape (Umfang) des Datensatzes an"
   ]
  },
  {
   "cell_type": "code",
   "execution_count": 118,
   "metadata": {},
   "outputs": [
    {
     "data": {
      "text/html": [
       "<div>\n",
       "<style scoped>\n",
       "    .dataframe tbody tr th:only-of-type {\n",
       "        vertical-align: middle;\n",
       "    }\n",
       "\n",
       "    .dataframe tbody tr th {\n",
       "        vertical-align: top;\n",
       "    }\n",
       "\n",
       "    .dataframe thead th {\n",
       "        text-align: right;\n",
       "    }\n",
       "</style>\n",
       "<table border=\"1\" class=\"dataframe\">\n",
       "  <thead>\n",
       "    <tr style=\"text-align: right;\">\n",
       "      <th></th>\n",
       "      <th>GueltigAbDatJahr</th>\n",
       "      <th>GueltigAbDatMM</th>\n",
       "      <th>GueltigAbDatDD</th>\n",
       "      <th>GueltigAbDat</th>\n",
       "      <th>SexCd</th>\n",
       "      <th>SexLang</th>\n",
       "      <th>AlterV20Sort</th>\n",
       "      <th>...</th>\n",
       "      <th>KreisCd</th>\n",
       "      <th>KreisLang</th>\n",
       "      <th>QuarCd</th>\n",
       "      <th>QuarLang</th>\n",
       "      <th>DatenstandCd</th>\n",
       "      <th>DatenstandLang</th>\n",
       "      <th>AnzSterWir</th>\n",
       "    </tr>\n",
       "  </thead>\n",
       "  <tbody>\n",
       "    <tr>\n",
       "      <th>79840</th>\n",
       "      <td>2021</td>\n",
       "      <td>11</td>\n",
       "      <td>1</td>\n",
       "      <td>22585</td>\n",
       "      <td>1</td>\n",
       "      <td>männlich</td>\n",
       "      <td>4</td>\n",
       "      <td>...</td>\n",
       "      <td>10</td>\n",
       "      <td>Kreis 10</td>\n",
       "      <td>101</td>\n",
       "      <td>Höngg</td>\n",
       "      <td>P</td>\n",
       "      <td>Provisorisch</td>\n",
       "      <td>1</td>\n",
       "    </tr>\n",
       "    <tr>\n",
       "      <th>79841</th>\n",
       "      <td>2021</td>\n",
       "      <td>11</td>\n",
       "      <td>1</td>\n",
       "      <td>22585</td>\n",
       "      <td>1</td>\n",
       "      <td>männlich</td>\n",
       "      <td>4</td>\n",
       "      <td>...</td>\n",
       "      <td>11</td>\n",
       "      <td>Kreis 11</td>\n",
       "      <td>119</td>\n",
       "      <td>Seebach</td>\n",
       "      <td>P</td>\n",
       "      <td>Provisorisch</td>\n",
       "      <td>1</td>\n",
       "    </tr>\n",
       "    <tr>\n",
       "      <th>79842</th>\n",
       "      <td>2021</td>\n",
       "      <td>11</td>\n",
       "      <td>1</td>\n",
       "      <td>22585</td>\n",
       "      <td>1</td>\n",
       "      <td>männlich</td>\n",
       "      <td>5</td>\n",
       "      <td>...</td>\n",
       "      <td>9</td>\n",
       "      <td>Kreis 9</td>\n",
       "      <td>92</td>\n",
       "      <td>Altstetten</td>\n",
       "      <td>P</td>\n",
       "      <td>Provisorisch</td>\n",
       "      <td>1</td>\n",
       "    </tr>\n",
       "  </tbody>\n",
       "</table>\n",
       "<p>3 rows × 17 columns</p>\n",
       "</div>"
      ],
      "text/plain": [
       "       GueltigAbDatJahr  GueltigAbDatMM  GueltigAbDatDD  GueltigAbDat  SexCd   SexLang  \\\n",
       "79840              2021              11               1         22585      1  männlich   \n",
       "79841              2021              11               1         22585      1  männlich   \n",
       "79842              2021              11               1         22585      1  männlich   \n",
       "\n",
       "       AlterV20Sort  ... KreisCd  KreisLang QuarCd    QuarLang DatenstandCd  DatenstandLang  \\\n",
       "79840             4  ...      10   Kreis 10    101       Höngg            P    Provisorisch   \n",
       "79841             4  ...      11   Kreis 11    119     Seebach            P    Provisorisch   \n",
       "79842             5  ...       9    Kreis 9     92  Altstetten            P    Provisorisch   \n",
       "\n",
       "      AnzSterWir  \n",
       "79840          1  \n",
       "79841          1  \n",
       "79842          1  \n",
       "\n",
       "[3 rows x 17 columns]"
      ]
     },
     "execution_count": 118,
     "metadata": {},
     "output_type": "execute_result"
    }
   ],
   "source": [
    "data2betested.sort_values(by=['GueltigAbDatJahr','GueltigAbDatMM'], ascending=False).head(3)"
   ]
  },
  {
   "cell_type": "code",
   "execution_count": 90,
   "metadata": {},
   "outputs": [
    {
     "data": {
      "text/plain": [
       "GueltigAbDatJahr             int64\n",
       "GueltigAbDatMM               int64\n",
       "GueltigAbDatDD               int64\n",
       "GueltigAbDat        datetime64[ns]\n",
       "SexCd                        int64\n",
       "SexLang                     object\n",
       "AlterV20Sort                 int64\n",
       "AlterV20Kurz                object\n",
       "HerkunftCd                   int64\n",
       "HerkunftLang                object\n",
       "KreisCd                      int64\n",
       "KreisLang                   object\n",
       "QuarCd                       int64\n",
       "QuarLang                    object\n",
       "DatenstandCd                object\n",
       "DatenstandLang              object\n",
       "AnzSterWir                   int64\n",
       "dtype: object"
      ]
     },
     "execution_count": 90,
     "metadata": {},
     "output_type": "execute_result"
    }
   ],
   "source": [
    "data2betested.dtypes"
   ]
  },
  {
   "cell_type": "code",
   "execution_count": 91,
   "metadata": {},
   "outputs": [
    {
     "data": {
      "text/plain": [
       "(80100, 17)"
      ]
     },
     "execution_count": 91,
     "metadata": {},
     "output_type": "execute_result"
    }
   ],
   "source": [
    "data2betested.shape"
   ]
  },
  {
   "cell_type": "markdown",
   "metadata": {},
   "source": [
    "Beschreibe einzelne Attribute"
   ]
  },
  {
   "cell_type": "code",
   "execution_count": 92,
   "metadata": {},
   "outputs": [
    {
     "data": {
      "text/html": [
       "<div>\n",
       "<style scoped>\n",
       "    .dataframe tbody tr th:only-of-type {\n",
       "        vertical-align: middle;\n",
       "    }\n",
       "\n",
       "    .dataframe tbody tr th {\n",
       "        vertical-align: top;\n",
       "    }\n",
       "\n",
       "    .dataframe thead th {\n",
       "        text-align: right;\n",
       "    }\n",
       "</style>\n",
       "<table border=\"1\" class=\"dataframe\">\n",
       "  <thead>\n",
       "    <tr style=\"text-align: right;\">\n",
       "      <th></th>\n",
       "      <th>GueltigAbDatJahr</th>\n",
       "      <th>GueltigAbDatMM</th>\n",
       "      <th>GueltigAbDatDD</th>\n",
       "      <th>SexCd</th>\n",
       "      <th>AlterV20Sort</th>\n",
       "      <th>HerkunftCd</th>\n",
       "      <th>KreisCd</th>\n",
       "      <th>QuarCd</th>\n",
       "      <th>AnzSterWir</th>\n",
       "    </tr>\n",
       "  </thead>\n",
       "  <tbody>\n",
       "    <tr>\n",
       "      <th>count</th>\n",
       "      <td>80100</td>\n",
       "      <td>80100</td>\n",
       "      <td>80100</td>\n",
       "      <td>80100</td>\n",
       "      <td>80100</td>\n",
       "      <td>80100</td>\n",
       "      <td>80100</td>\n",
       "      <td>80100</td>\n",
       "      <td>80100</td>\n",
       "    </tr>\n",
       "    <tr>\n",
       "      <th>mean</th>\n",
       "      <td>2009</td>\n",
       "      <td>6</td>\n",
       "      <td>16</td>\n",
       "      <td>2</td>\n",
       "      <td>4</td>\n",
       "      <td>1</td>\n",
       "      <td>7</td>\n",
       "      <td>74</td>\n",
       "      <td>1</td>\n",
       "    </tr>\n",
       "    <tr>\n",
       "      <th>std</th>\n",
       "      <td>7</td>\n",
       "      <td>4</td>\n",
       "      <td>9</td>\n",
       "      <td>0</td>\n",
       "      <td>1</td>\n",
       "      <td>0</td>\n",
       "      <td>3</td>\n",
       "      <td>34</td>\n",
       "      <td>0</td>\n",
       "    </tr>\n",
       "    <tr>\n",
       "      <th>min</th>\n",
       "      <td>1998</td>\n",
       "      <td>1</td>\n",
       "      <td>1</td>\n",
       "      <td>1</td>\n",
       "      <td>1</td>\n",
       "      <td>1</td>\n",
       "      <td>1</td>\n",
       "      <td>11</td>\n",
       "      <td>1</td>\n",
       "    </tr>\n",
       "    <tr>\n",
       "      <th>25%</th>\n",
       "      <td>2003</td>\n",
       "      <td>3</td>\n",
       "      <td>8</td>\n",
       "      <td>1</td>\n",
       "      <td>4</td>\n",
       "      <td>1</td>\n",
       "      <td>4</td>\n",
       "      <td>41</td>\n",
       "      <td>1</td>\n",
       "    </tr>\n",
       "    <tr>\n",
       "      <th>50%</th>\n",
       "      <td>2009</td>\n",
       "      <td>6</td>\n",
       "      <td>16</td>\n",
       "      <td>2</td>\n",
       "      <td>5</td>\n",
       "      <td>1</td>\n",
       "      <td>7</td>\n",
       "      <td>74</td>\n",
       "      <td>1</td>\n",
       "    </tr>\n",
       "    <tr>\n",
       "      <th>75%</th>\n",
       "      <td>2015</td>\n",
       "      <td>10</td>\n",
       "      <td>23</td>\n",
       "      <td>2</td>\n",
       "      <td>5</td>\n",
       "      <td>1</td>\n",
       "      <td>10</td>\n",
       "      <td>102</td>\n",
       "      <td>1</td>\n",
       "    </tr>\n",
       "    <tr>\n",
       "      <th>max</th>\n",
       "      <td>2021</td>\n",
       "      <td>12</td>\n",
       "      <td>31</td>\n",
       "      <td>2</td>\n",
       "      <td>6</td>\n",
       "      <td>2</td>\n",
       "      <td>12</td>\n",
       "      <td>123</td>\n",
       "      <td>5</td>\n",
       "    </tr>\n",
       "  </tbody>\n",
       "</table>\n",
       "</div>"
      ],
      "text/plain": [
       "       GueltigAbDatJahr  GueltigAbDatMM  GueltigAbDatDD  SexCd  AlterV20Sort  HerkunftCd  KreisCd  \\\n",
       "count             80100           80100           80100  80100         80100       80100    80100   \n",
       "mean               2009               6              16      2             4           1        7   \n",
       "std                   7               4               9      0             1           0        3   \n",
       "min                1998               1               1      1             1           1        1   \n",
       "25%                2003               3               8      1             4           1        4   \n",
       "50%                2009               6              16      2             5           1        7   \n",
       "75%                2015              10              23      2             5           1       10   \n",
       "max                2021              12              31      2             6           2       12   \n",
       "\n",
       "       QuarCd  AnzSterWir  \n",
       "count   80100       80100  \n",
       "mean       74           1  \n",
       "std        34           0  \n",
       "min        11           1  \n",
       "25%        41           1  \n",
       "50%        74           1  \n",
       "75%       102           1  \n",
       "max       123           5  "
      ]
     },
     "execution_count": 92,
     "metadata": {},
     "output_type": "execute_result"
    }
   ],
   "source": [
    "data2betested.describe()"
   ]
  },
  {
   "cell_type": "markdown",
   "metadata": {},
   "source": [
    "Wie viele Nullwerte gibt es im Datensatz?"
   ]
  },
  {
   "cell_type": "code",
   "execution_count": 93,
   "metadata": {
    "scrolled": true
   },
   "outputs": [
    {
     "data": {
      "text/plain": [
       "GueltigAbDatJahr    0\n",
       "GueltigAbDatMM      0\n",
       "GueltigAbDatDD      0\n",
       "GueltigAbDat        0\n",
       "SexCd               0\n",
       "SexLang             0\n",
       "AlterV20Sort        0\n",
       "AlterV20Kurz        0\n",
       "HerkunftCd          0\n",
       "HerkunftLang        0\n",
       "KreisCd             0\n",
       "KreisLang           0\n",
       "QuarCd              0\n",
       "QuarLang            0\n",
       "DatenstandCd        0\n",
       "DatenstandLang      0\n",
       "AnzSterWir          0\n",
       "dtype: int64"
      ]
     },
     "execution_count": 93,
     "metadata": {},
     "output_type": "execute_result"
    }
   ],
   "source": [
    "data2betested.isnull().sum()"
   ]
  },
  {
   "cell_type": "markdown",
   "metadata": {
    "colab_type": "text",
    "id": "1dTPVmmsgOVx"
   },
   "source": [
    "### Verwende das Datum als Index\n",
    "\n",
    "While we did already parse the `datetime` column into the respective datetime type, it currently is just a regular column. \n",
    "**To enable quick and convenient queries and aggregations, we need to turn it into the index of the DataFrame**"
   ]
  },
  {
   "cell_type": "code",
   "execution_count": 94,
   "metadata": {},
   "outputs": [],
   "source": [
    "data2betested = data2betested.set_index(\"GueltigAbDat\")\n",
    "#data2betested = data2betested.drop(columns=[\"StichtagDatMM\"])"
   ]
  },
  {
   "cell_type": "code",
   "execution_count": 95,
   "metadata": {},
   "outputs": [
    {
     "name": "stdout",
     "output_type": "stream",
     "text": [
      "<class 'pandas.core.frame.DataFrame'>\n",
      "DatetimeIndex: 80100 entries, 1998-01-01 to 2021-11-30\n",
      "Data columns (total 16 columns):\n",
      " #   Column            Non-Null Count  Dtype \n",
      "---  ------            --------------  ----- \n",
      " 0   GueltigAbDatJahr  80100 non-null  int64 \n",
      " 1   GueltigAbDatMM    80100 non-null  int64 \n",
      " 2   GueltigAbDatDD    80100 non-null  int64 \n",
      " 3   SexCd             80100 non-null  int64 \n",
      " 4   SexLang           80100 non-null  object\n",
      " 5   AlterV20Sort      80100 non-null  int64 \n",
      " 6   AlterV20Kurz      80100 non-null  object\n",
      " 7   HerkunftCd        80100 non-null  int64 \n",
      " 8   HerkunftLang      80100 non-null  object\n",
      " 9   KreisCd           80100 non-null  int64 \n",
      " 10  KreisLang         80100 non-null  object\n",
      " 11  QuarCd            80100 non-null  int64 \n",
      " 12  QuarLang          80100 non-null  object\n",
      " 13  DatenstandCd      80100 non-null  object\n",
      " 14  DatenstandLang    80100 non-null  object\n",
      " 15  AnzSterWir        80100 non-null  int64 \n",
      "dtypes: int64(9), object(7)\n",
      "memory usage: 10.4+ MB\n"
     ]
    },
    {
     "data": {
      "text/plain": [
       "Int64Index([ 1,  2,  3,  4,  5,  6,  7,  8,  9, 10, 11, 12, 13, 14, 15, 16, 17, 18, 19, 20, 21, 22,\n",
       "            23, 24, 25, 26, 27, 28, 29, 30, 31],\n",
       "           dtype='int64', name='GueltigAbDat')"
      ]
     },
     "execution_count": 95,
     "metadata": {},
     "output_type": "execute_result"
    }
   ],
   "source": [
    "data2betested.info()\n",
    "data2betested.index.day.unique()"
   ]
  },
  {
   "cell_type": "markdown",
   "metadata": {},
   "source": [
    "### Einfache Visualisierungen zur Plausi"
   ]
  },
  {
   "cell_type": "markdown",
   "metadata": {},
   "source": [
    "Exploriere die Daten mit Pivottable.JS"
   ]
  },
  {
   "cell_type": "code",
   "execution_count": 96,
   "metadata": {},
   "outputs": [
    {
     "data": {
      "text/html": [
       "\n",
       "        <iframe\n",
       "            width=\"100%\"\n",
       "            height=\"500\"\n",
       "            src=\"pivottablejs.html\"\n",
       "            frameborder=\"0\"\n",
       "            allowfullscreen\n",
       "        ></iframe>\n",
       "        "
      ],
      "text/plain": [
       "<IPython.lib.display.IFrame at 0x23e34a06490>"
      ]
     },
     "execution_count": 96,
     "metadata": {},
     "output_type": "execute_result"
    }
   ],
   "source": [
    "from pivottablejs import pivot_ui\n",
    "\n",
    "pivot_ui(data2betested)"
   ]
  },
  {
   "cell_type": "markdown",
   "metadata": {},
   "source": [
    "### Zeitpunkte und Zeiträume abfragen\n",
    "\n",
    "A particular powerful feature of the Pandas DataFrame is its indexing capability that also works using time-based entities, such as dates and times. We have already created the index above, so let's put it to use."
   ]
  },
  {
   "cell_type": "code",
   "execution_count": 97,
   "metadata": {},
   "outputs": [
    {
     "data": {
      "text/html": [
       "<div>\n",
       "<style scoped>\n",
       "    .dataframe tbody tr th:only-of-type {\n",
       "        vertical-align: middle;\n",
       "    }\n",
       "\n",
       "    .dataframe tbody tr th {\n",
       "        vertical-align: top;\n",
       "    }\n",
       "\n",
       "    .dataframe thead th {\n",
       "        text-align: right;\n",
       "    }\n",
       "</style>\n",
       "<table border=\"1\" class=\"dataframe\">\n",
       "  <thead>\n",
       "    <tr style=\"text-align: right;\">\n",
       "      <th></th>\n",
       "      <th>GueltigAbDatJahr</th>\n",
       "      <th>GueltigAbDatMM</th>\n",
       "      <th>GueltigAbDatDD</th>\n",
       "      <th>SexCd</th>\n",
       "      <th>SexLang</th>\n",
       "      <th>AlterV20Sort</th>\n",
       "      <th>AlterV20Kurz</th>\n",
       "      <th>...</th>\n",
       "      <th>KreisCd</th>\n",
       "      <th>KreisLang</th>\n",
       "      <th>QuarCd</th>\n",
       "      <th>QuarLang</th>\n",
       "      <th>DatenstandCd</th>\n",
       "      <th>DatenstandLang</th>\n",
       "      <th>AnzSterWir</th>\n",
       "    </tr>\n",
       "    <tr>\n",
       "      <th>GueltigAbDat</th>\n",
       "      <th></th>\n",
       "      <th></th>\n",
       "      <th></th>\n",
       "      <th></th>\n",
       "      <th></th>\n",
       "      <th></th>\n",
       "      <th></th>\n",
       "      <th></th>\n",
       "      <th></th>\n",
       "      <th></th>\n",
       "      <th></th>\n",
       "      <th></th>\n",
       "      <th></th>\n",
       "      <th></th>\n",
       "      <th></th>\n",
       "    </tr>\n",
       "  </thead>\n",
       "  <tbody>\n",
       "    <tr>\n",
       "      <th>2021-11-01</th>\n",
       "      <td>2021</td>\n",
       "      <td>11</td>\n",
       "      <td>1</td>\n",
       "      <td>1</td>\n",
       "      <td>männlich</td>\n",
       "      <td>4</td>\n",
       "      <td>60-79</td>\n",
       "      <td>...</td>\n",
       "      <td>10</td>\n",
       "      <td>Kreis 10</td>\n",
       "      <td>101</td>\n",
       "      <td>Höngg</td>\n",
       "      <td>P</td>\n",
       "      <td>Provisorisch</td>\n",
       "      <td>1</td>\n",
       "    </tr>\n",
       "    <tr>\n",
       "      <th>2021-11-01</th>\n",
       "      <td>2021</td>\n",
       "      <td>11</td>\n",
       "      <td>1</td>\n",
       "      <td>1</td>\n",
       "      <td>männlich</td>\n",
       "      <td>4</td>\n",
       "      <td>60-79</td>\n",
       "      <td>...</td>\n",
       "      <td>11</td>\n",
       "      <td>Kreis 11</td>\n",
       "      <td>119</td>\n",
       "      <td>Seebach</td>\n",
       "      <td>P</td>\n",
       "      <td>Provisorisch</td>\n",
       "      <td>1</td>\n",
       "    </tr>\n",
       "  </tbody>\n",
       "</table>\n",
       "<p>2 rows × 16 columns</p>\n",
       "</div>"
      ],
      "text/plain": [
       "              GueltigAbDatJahr  GueltigAbDatMM  GueltigAbDatDD  SexCd   SexLang  AlterV20Sort  \\\n",
       "GueltigAbDat                                                                                    \n",
       "2021-11-01                2021              11               1      1  männlich             4   \n",
       "2021-11-01                2021              11               1      1  männlich             4   \n",
       "\n",
       "             AlterV20Kurz  ...  KreisCd KreisLang  QuarCd QuarLang  DatenstandCd DatenstandLang  \\\n",
       "GueltigAbDat               ...                                                                    \n",
       "2021-11-01          60-79  ...       10  Kreis 10     101    Höngg             P   Provisorisch   \n",
       "2021-11-01          60-79  ...       11  Kreis 11     119  Seebach             P   Provisorisch   \n",
       "\n",
       "             AnzSterWir  \n",
       "GueltigAbDat             \n",
       "2021-11-01            1  \n",
       "2021-11-01            1  \n",
       "\n",
       "[2 rows x 16 columns]"
      ]
     },
     "execution_count": 97,
     "metadata": {},
     "output_type": "execute_result"
    }
   ],
   "source": [
    "data2betested.loc[\"2021-11\"].head(2)\n",
    "#data2betested.loc[\"2021-10-31\":\"2021-11-30\"].head(2)"
   ]
  },
  {
   "cell_type": "markdown",
   "metadata": {},
   "source": [
    "### Aggriere Werte nach Zeitausschnitten\n",
    "\n",
    "Mit den Funktionen zur Zeit kann einfach zwischen Stunden, Tagen, Monaten, etc. gewechselt und aggregiert werden.\n",
    "Da die Daten bereits aggregiert nach Monaten sind, macht das hier keinen Sinn.\n",
    "Untenstehendes also nur als BSP\n"
   ]
  },
  {
   "cell_type": "code",
   "execution_count": 98,
   "metadata": {},
   "outputs": [
    {
     "data": {
      "text/html": [
       "<div>\n",
       "<style scoped>\n",
       "    .dataframe tbody tr th:only-of-type {\n",
       "        vertical-align: middle;\n",
       "    }\n",
       "\n",
       "    .dataframe tbody tr th {\n",
       "        vertical-align: top;\n",
       "    }\n",
       "\n",
       "    .dataframe thead th {\n",
       "        text-align: right;\n",
       "    }\n",
       "</style>\n",
       "<table border=\"1\" class=\"dataframe\">\n",
       "  <thead>\n",
       "    <tr style=\"text-align: right;\">\n",
       "      <th></th>\n",
       "      <th>SexCd</th>\n",
       "      <th>AnzSterWir</th>\n",
       "    </tr>\n",
       "    <tr>\n",
       "      <th>GueltigAbDat</th>\n",
       "      <th></th>\n",
       "      <th></th>\n",
       "    </tr>\n",
       "  </thead>\n",
       "  <tbody>\n",
       "    <tr>\n",
       "      <th>1998-03-31</th>\n",
       "      <td>1632</td>\n",
       "      <td>1118</td>\n",
       "    </tr>\n",
       "  </tbody>\n",
       "</table>\n",
       "</div>"
      ],
      "text/plain": [
       "              SexCd  AnzSterWir\n",
       "GueltigAbDat                   \n",
       "1998-03-31     1632        1118"
      ]
     },
     "execution_count": 98,
     "metadata": {},
     "output_type": "execute_result"
    }
   ],
   "source": [
    "# first we create the sums per week\n",
    "weekly_sums = data2betested.resample(\"W\").sum()\n",
    "# then we generate the weekly means for each quarter\n",
    "data2betested_sel = data2betested[[\"SexCd\",\"KreisLang\",\"AnzSterWir\"]]\n",
    "quarterly_sums = data2betested_sel.resample(\"Q\").sum()\n",
    "# for readability we'll revert the values back to integers\n",
    "quarterly_sums.astype(int).head(1)"
   ]
  },
  {
   "cell_type": "markdown",
   "metadata": {},
   "source": [
    "### Visualisierungen nach Zeitausschnitten"
   ]
  },
  {
   "cell_type": "code",
   "execution_count": 99,
   "metadata": {},
   "outputs": [
    {
     "name": "stdout",
     "output_type": "stream",
     "text": [
      "<class 'pandas.core.frame.DataFrame'>\n",
      "DatetimeIndex: 80100 entries, 1998-01-01 to 2021-11-30\n",
      "Data columns (total 16 columns):\n",
      " #   Column            Non-Null Count  Dtype \n",
      "---  ------            --------------  ----- \n",
      " 0   GueltigAbDatJahr  80100 non-null  int64 \n",
      " 1   GueltigAbDatMM    80100 non-null  int64 \n",
      " 2   GueltigAbDatDD    80100 non-null  int64 \n",
      " 3   SexCd             80100 non-null  int64 \n",
      " 4   SexLang           80100 non-null  object\n",
      " 5   AlterV20Sort      80100 non-null  int64 \n",
      " 6   AlterV20Kurz      80100 non-null  object\n",
      " 7   HerkunftCd        80100 non-null  int64 \n",
      " 8   HerkunftLang      80100 non-null  object\n",
      " 9   KreisCd           80100 non-null  int64 \n",
      " 10  KreisLang         80100 non-null  object\n",
      " 11  QuarCd            80100 non-null  int64 \n",
      " 12  QuarLang          80100 non-null  object\n",
      " 13  DatenstandCd      80100 non-null  object\n",
      " 14  DatenstandLang    80100 non-null  object\n",
      " 15  AnzSterWir        80100 non-null  int64 \n",
      "dtypes: int64(9), object(7)\n",
      "memory usage: 10.4+ MB\n"
     ]
    }
   ],
   "source": [
    "data2betested.info()\n",
    "#data2betested"
   ]
  },
  {
   "cell_type": "markdown",
   "metadata": {},
   "source": [
    "#### Entwicklung Todesfälle nach Stadtkreis"
   ]
  },
  {
   "cell_type": "code",
   "execution_count": 101,
   "metadata": {},
   "outputs": [
    {
     "data": {
      "text/html": [
       "<div>\n",
       "<style scoped>\n",
       "    .dataframe tbody tr th:only-of-type {\n",
       "        vertical-align: middle;\n",
       "    }\n",
       "\n",
       "    .dataframe tbody tr th {\n",
       "        vertical-align: top;\n",
       "    }\n",
       "\n",
       "    .dataframe thead th {\n",
       "        text-align: right;\n",
       "    }\n",
       "</style>\n",
       "<table border=\"1\" class=\"dataframe\">\n",
       "  <thead>\n",
       "    <tr style=\"text-align: right;\">\n",
       "      <th></th>\n",
       "      <th>GueltigAbDat</th>\n",
       "      <th>GueltigAbDatJahr</th>\n",
       "      <th>GueltigAbDatMM</th>\n",
       "      <th>SexLang</th>\n",
       "      <th>sum_WBev</th>\n",
       "    </tr>\n",
       "  </thead>\n",
       "  <tbody>\n",
       "    <tr>\n",
       "      <th>0</th>\n",
       "      <td>2020-12-15</td>\n",
       "      <td>2020</td>\n",
       "      <td>12</td>\n",
       "      <td>weiblich</td>\n",
       "      <td>15</td>\n",
       "    </tr>\n",
       "    <tr>\n",
       "      <th>1</th>\n",
       "      <td>2020-12-21</td>\n",
       "      <td>2020</td>\n",
       "      <td>12</td>\n",
       "      <td>weiblich</td>\n",
       "      <td>15</td>\n",
       "    </tr>\n",
       "  </tbody>\n",
       "</table>\n",
       "</div>"
      ],
      "text/plain": [
       "  GueltigAbDat  GueltigAbDatJahr  GueltigAbDatMM   SexLang  sum_WBev\n",
       "0   2020-12-15              2020              12  weiblich        15\n",
       "1   2020-12-21              2020              12  weiblich        15"
      ]
     },
     "execution_count": 101,
     "metadata": {},
     "output_type": "execute_result"
    }
   ],
   "source": [
    "#myAgg = data2betested.loc[\"2008-11-30\":\"2021-10-31\"]\n",
    "myAgg = data2betested.loc[\"2020-11\":\"2021-11\"] \\\n",
    "    .groupby(['GueltigAbDat','GueltigAbDatJahr', 'GueltigAbDatMM','SexLang']) \\\n",
    "    .agg(sum_WBev=('AnzSterWir', 'sum')) \\\n",
    "    .sort_values('sum_WBev', ascending=False) \n",
    "\n",
    "myAgg.reset_index().head(2)"
   ]
  },
  {
   "cell_type": "code",
   "execution_count": 102,
   "metadata": {},
   "outputs": [
    {
     "data": {
      "text/html": [
       "\n",
       "<div id=\"altair-viz-738196a62b9f444e8930c9dfc494ef64\"></div>\n",
       "<script type=\"text/javascript\">\n",
       "  (function(spec, embedOpt){\n",
       "    let outputDiv = document.currentScript.previousElementSibling;\n",
       "    if (outputDiv.id !== \"altair-viz-738196a62b9f444e8930c9dfc494ef64\") {\n",
       "      outputDiv = document.getElementById(\"altair-viz-738196a62b9f444e8930c9dfc494ef64\");\n",
       "    }\n",
       "    const paths = {\n",
       "      \"vega\": \"https://cdn.jsdelivr.net/npm//vega@5?noext\",\n",
       "      \"vega-lib\": \"https://cdn.jsdelivr.net/npm//vega-lib?noext\",\n",
       "      \"vega-lite\": \"https://cdn.jsdelivr.net/npm//vega-lite@4.8.1?noext\",\n",
       "      \"vega-embed\": \"https://cdn.jsdelivr.net/npm//vega-embed@6?noext\",\n",
       "    };\n",
       "\n",
       "    function loadScript(lib) {\n",
       "      return new Promise(function(resolve, reject) {\n",
       "        var s = document.createElement('script');\n",
       "        s.src = paths[lib];\n",
       "        s.async = true;\n",
       "        s.onload = () => resolve(paths[lib]);\n",
       "        s.onerror = () => reject(`Error loading script: ${paths[lib]}`);\n",
       "        document.getElementsByTagName(\"head\")[0].appendChild(s);\n",
       "      });\n",
       "    }\n",
       "\n",
       "    function showError(err) {\n",
       "      outputDiv.innerHTML = `<div class=\"error\" style=\"color:red;\">${err}</div>`;\n",
       "      throw err;\n",
       "    }\n",
       "\n",
       "    function displayChart(vegaEmbed) {\n",
       "      vegaEmbed(outputDiv, spec, embedOpt)\n",
       "        .catch(err => showError(`Javascript Error: ${err.message}<br>This usually means there's a typo in your chart specification. See the javascript console for the full traceback.`));\n",
       "    }\n",
       "\n",
       "    if(typeof define === \"function\" && define.amd) {\n",
       "      requirejs.config({paths});\n",
       "      require([\"vega-embed\"], displayChart, err => showError(`Error loading script: ${err.message}`));\n",
       "    } else if (typeof vegaEmbed === \"function\") {\n",
       "      displayChart(vegaEmbed);\n",
       "    } else {\n",
       "      loadScript(\"vega\")\n",
       "        .then(() => loadScript(\"vega-lite\"))\n",
       "        .then(() => loadScript(\"vega-embed\"))\n",
       "        .catch(showError)\n",
       "        .then(() => displayChart(vegaEmbed));\n",
       "    }\n",
       "  })({\"config\": {\"view\": {\"continuousWidth\": 400, \"continuousHeight\": 300}}, \"layer\": [{\"mark\": \"line\", \"encoding\": {\"color\": {\"type\": \"nominal\", \"field\": \"SexLang\", \"legend\": {\"orient\": \"right\", \"title\": \"Stadtkreise\"}}, \"size\": {\"condition\": {\"value\": 0.5, \"selection\": {\"not\": \"selector041\"}}, \"value\": 4}, \"tooltip\": [{\"type\": \"temporal\", \"field\": \"GueltigAbDat\"}, {\"type\": \"nominal\", \"field\": \"SexLang\"}, {\"type\": \"quantitative\", \"field\": \"sum_WBev\"}], \"x\": {\"type\": \"temporal\", \"axis\": {\"title\": \"Jahr\"}, \"field\": \"GueltigAbDat\"}, \"y\": {\"type\": \"quantitative\", \"axis\": {\"title\": \"Anz. Personen\"}, \"field\": \"sum_WBev\"}}, \"selection\": {\"selector042\": {\"type\": \"interval\", \"bind\": \"scales\", \"encodings\": [\"x\", \"y\"]}}, \"title\": \"Title\"}, {\"mark\": \"circle\", \"encoding\": {\"color\": {\"type\": \"nominal\", \"field\": \"SexLang\", \"legend\": {\"orient\": \"right\", \"title\": \"Stadtkreise\"}}, \"opacity\": {\"value\": 0.75}, \"tooltip\": [{\"type\": \"temporal\", \"field\": \"GueltigAbDat\"}, {\"type\": \"nominal\", \"field\": \"SexLang\"}, {\"type\": \"quantitative\", \"field\": \"sum_WBev\"}], \"x\": {\"type\": \"temporal\", \"axis\": {\"title\": \"Jahr\"}, \"field\": \"GueltigAbDat\"}, \"y\": {\"type\": \"quantitative\", \"axis\": {\"title\": \"Anz. Personen\"}, \"field\": \"sum_WBev\"}}, \"height\": 350, \"selection\": {\"selector041\": {\"type\": \"single\", \"on\": \"mouseover\", \"fields\": [\"KreisLang\"], \"nearest\": true}}, \"title\": \"Title\", \"width\": 900}], \"data\": {\"name\": \"data-58697b24a58adb92d3389d9044644930\"}, \"$schema\": \"https://vega.github.io/schema/vega-lite/v4.8.1.json\", \"datasets\": {\"data-58697b24a58adb92d3389d9044644930\": [{\"GueltigAbDat\": \"2020-12-15T00:00:00\", \"GueltigAbDatJahr\": 2020, \"GueltigAbDatMM\": 12, \"SexLang\": \"weiblich\", \"sum_WBev\": 15}, {\"GueltigAbDat\": \"2020-12-21T00:00:00\", \"GueltigAbDatJahr\": 2020, \"GueltigAbDatMM\": 12, \"SexLang\": \"weiblich\", \"sum_WBev\": 15}, {\"GueltigAbDat\": \"2020-12-27T00:00:00\", \"GueltigAbDatJahr\": 2020, \"GueltigAbDatMM\": 12, \"SexLang\": \"weiblich\", \"sum_WBev\": 14}, {\"GueltigAbDat\": \"2020-12-13T00:00:00\", \"GueltigAbDatJahr\": 2020, \"GueltigAbDatMM\": 12, \"SexLang\": \"m\\u00e4nnlich\", \"sum_WBev\": 14}, {\"GueltigAbDat\": \"2020-12-23T00:00:00\", \"GueltigAbDatJahr\": 2020, \"GueltigAbDatMM\": 12, \"SexLang\": \"weiblich\", \"sum_WBev\": 14}, {\"GueltigAbDat\": \"2020-12-20T00:00:00\", \"GueltigAbDatJahr\": 2020, \"GueltigAbDatMM\": 12, \"SexLang\": \"weiblich\", \"sum_WBev\": 13}, {\"GueltigAbDat\": \"2020-12-28T00:00:00\", \"GueltigAbDatJahr\": 2020, \"GueltigAbDatMM\": 12, \"SexLang\": \"weiblich\", \"sum_WBev\": 13}, {\"GueltigAbDat\": \"2020-12-22T00:00:00\", \"GueltigAbDatJahr\": 2020, \"GueltigAbDatMM\": 12, \"SexLang\": \"weiblich\", \"sum_WBev\": 12}, {\"GueltigAbDat\": \"2021-01-04T00:00:00\", \"GueltigAbDatJahr\": 2021, \"GueltigAbDatMM\": 1, \"SexLang\": \"weiblich\", \"sum_WBev\": 12}, {\"GueltigAbDat\": \"2020-12-01T00:00:00\", \"GueltigAbDatJahr\": 2020, \"GueltigAbDatMM\": 12, \"SexLang\": \"weiblich\", \"sum_WBev\": 12}, {\"GueltigAbDat\": \"2020-11-18T00:00:00\", \"GueltigAbDatJahr\": 2020, \"GueltigAbDatMM\": 11, \"SexLang\": \"m\\u00e4nnlich\", \"sum_WBev\": 12}, {\"GueltigAbDat\": \"2021-01-23T00:00:00\", \"GueltigAbDatJahr\": 2021, \"GueltigAbDatMM\": 1, \"SexLang\": \"weiblich\", \"sum_WBev\": 12}, {\"GueltigAbDat\": \"2020-12-12T00:00:00\", \"GueltigAbDatJahr\": 2020, \"GueltigAbDatMM\": 12, \"SexLang\": \"weiblich\", \"sum_WBev\": 12}, {\"GueltigAbDat\": \"2021-11-05T00:00:00\", \"GueltigAbDatJahr\": 2021, \"GueltigAbDatMM\": 11, \"SexLang\": \"weiblich\", \"sum_WBev\": 12}, {\"GueltigAbDat\": \"2021-03-21T00:00:00\", \"GueltigAbDatJahr\": 2021, \"GueltigAbDatMM\": 3, \"SexLang\": \"weiblich\", \"sum_WBev\": 11}, {\"GueltigAbDat\": \"2020-12-07T00:00:00\", \"GueltigAbDatJahr\": 2020, \"GueltigAbDatMM\": 12, \"SexLang\": \"weiblich\", \"sum_WBev\": 11}, {\"GueltigAbDat\": \"2020-11-16T00:00:00\", \"GueltigAbDatJahr\": 2020, \"GueltigAbDatMM\": 11, \"SexLang\": \"weiblich\", \"sum_WBev\": 11}, {\"GueltigAbDat\": \"2021-01-19T00:00:00\", \"GueltigAbDatJahr\": 2021, \"GueltigAbDatMM\": 1, \"SexLang\": \"weiblich\", \"sum_WBev\": 11}, {\"GueltigAbDat\": \"2021-01-18T00:00:00\", \"GueltigAbDatJahr\": 2021, \"GueltigAbDatMM\": 1, \"SexLang\": \"weiblich\", \"sum_WBev\": 11}, {\"GueltigAbDat\": \"2020-12-14T00:00:00\", \"GueltigAbDatJahr\": 2020, \"GueltigAbDatMM\": 12, \"SexLang\": \"weiblich\", \"sum_WBev\": 11}, {\"GueltigAbDat\": \"2021-01-13T00:00:00\", \"GueltigAbDatJahr\": 2021, \"GueltigAbDatMM\": 1, \"SexLang\": \"weiblich\", \"sum_WBev\": 11}, {\"GueltigAbDat\": \"2020-11-28T00:00:00\", \"GueltigAbDatJahr\": 2020, \"GueltigAbDatMM\": 11, \"SexLang\": \"m\\u00e4nnlich\", \"sum_WBev\": 11}, {\"GueltigAbDat\": \"2020-11-28T00:00:00\", \"GueltigAbDatJahr\": 2020, \"GueltigAbDatMM\": 11, \"SexLang\": \"weiblich\", \"sum_WBev\": 11}, {\"GueltigAbDat\": \"2020-12-31T00:00:00\", \"GueltigAbDatJahr\": 2020, \"GueltigAbDatMM\": 12, \"SexLang\": \"weiblich\", \"sum_WBev\": 11}, {\"GueltigAbDat\": \"2021-05-08T00:00:00\", \"GueltigAbDatJahr\": 2021, \"GueltigAbDatMM\": 5, \"SexLang\": \"m\\u00e4nnlich\", \"sum_WBev\": 11}, {\"GueltigAbDat\": \"2020-12-08T00:00:00\", \"GueltigAbDatJahr\": 2020, \"GueltigAbDatMM\": 12, \"SexLang\": \"weiblich\", \"sum_WBev\": 11}, {\"GueltigAbDat\": \"2020-11-30T00:00:00\", \"GueltigAbDatJahr\": 2020, \"GueltigAbDatMM\": 11, \"SexLang\": \"weiblich\", \"sum_WBev\": 10}, {\"GueltigAbDat\": \"2021-01-09T00:00:00\", \"GueltigAbDatJahr\": 2021, \"GueltigAbDatMM\": 1, \"SexLang\": \"m\\u00e4nnlich\", \"sum_WBev\": 10}, {\"GueltigAbDat\": \"2020-12-22T00:00:00\", \"GueltigAbDatJahr\": 2020, \"GueltigAbDatMM\": 12, \"SexLang\": \"m\\u00e4nnlich\", \"sum_WBev\": 10}, {\"GueltigAbDat\": \"2020-12-04T00:00:00\", \"GueltigAbDatJahr\": 2020, \"GueltigAbDatMM\": 12, \"SexLang\": \"m\\u00e4nnlich\", \"sum_WBev\": 10}, {\"GueltigAbDat\": \"2020-12-25T00:00:00\", \"GueltigAbDatJahr\": 2020, \"GueltigAbDatMM\": 12, \"SexLang\": \"weiblich\", \"sum_WBev\": 10}, {\"GueltigAbDat\": \"2021-01-21T00:00:00\", \"GueltigAbDatJahr\": 2021, \"GueltigAbDatMM\": 1, \"SexLang\": \"weiblich\", \"sum_WBev\": 10}, {\"GueltigAbDat\": \"2021-11-24T00:00:00\", \"GueltigAbDatJahr\": 2021, \"GueltigAbDatMM\": 11, \"SexLang\": \"weiblich\", \"sum_WBev\": 10}, {\"GueltigAbDat\": \"2021-08-02T00:00:00\", \"GueltigAbDatJahr\": 2021, \"GueltigAbDatMM\": 8, \"SexLang\": \"weiblich\", \"sum_WBev\": 10}, {\"GueltigAbDat\": \"2021-01-26T00:00:00\", \"GueltigAbDatJahr\": 2021, \"GueltigAbDatMM\": 1, \"SexLang\": \"weiblich\", \"sum_WBev\": 10}, {\"GueltigAbDat\": \"2021-04-25T00:00:00\", \"GueltigAbDatJahr\": 2021, \"GueltigAbDatMM\": 4, \"SexLang\": \"m\\u00e4nnlich\", \"sum_WBev\": 10}, {\"GueltigAbDat\": \"2021-04-29T00:00:00\", \"GueltigAbDatJahr\": 2021, \"GueltigAbDatMM\": 4, \"SexLang\": \"weiblich\", \"sum_WBev\": 10}, {\"GueltigAbDat\": \"2021-07-21T00:00:00\", \"GueltigAbDatJahr\": 2021, \"GueltigAbDatMM\": 7, \"SexLang\": \"weiblich\", \"sum_WBev\": 10}, {\"GueltigAbDat\": \"2021-06-15T00:00:00\", \"GueltigAbDatJahr\": 2021, \"GueltigAbDatMM\": 6, \"SexLang\": \"m\\u00e4nnlich\", \"sum_WBev\": 10}, {\"GueltigAbDat\": \"2021-07-09T00:00:00\", \"GueltigAbDatJahr\": 2021, \"GueltigAbDatMM\": 7, \"SexLang\": \"m\\u00e4nnlich\", \"sum_WBev\": 9}, {\"GueltigAbDat\": \"2021-04-04T00:00:00\", \"GueltigAbDatJahr\": 2021, \"GueltigAbDatMM\": 4, \"SexLang\": \"weiblich\", \"sum_WBev\": 9}, {\"GueltigAbDat\": \"2020-12-19T00:00:00\", \"GueltigAbDatJahr\": 2020, \"GueltigAbDatMM\": 12, \"SexLang\": \"m\\u00e4nnlich\", \"sum_WBev\": 9}, {\"GueltigAbDat\": \"2020-12-10T00:00:00\", \"GueltigAbDatJahr\": 2020, \"GueltigAbDatMM\": 12, \"SexLang\": \"weiblich\", \"sum_WBev\": 9}, {\"GueltigAbDat\": \"2021-05-14T00:00:00\", \"GueltigAbDatJahr\": 2021, \"GueltigAbDatMM\": 5, \"SexLang\": \"weiblich\", \"sum_WBev\": 9}, {\"GueltigAbDat\": \"2021-10-01T00:00:00\", \"GueltigAbDatJahr\": 2021, \"GueltigAbDatMM\": 10, \"SexLang\": \"m\\u00e4nnlich\", \"sum_WBev\": 9}, {\"GueltigAbDat\": \"2020-12-04T00:00:00\", \"GueltigAbDatJahr\": 2020, \"GueltigAbDatMM\": 12, \"SexLang\": \"weiblich\", \"sum_WBev\": 9}, {\"GueltigAbDat\": \"2020-11-10T00:00:00\", \"GueltigAbDatJahr\": 2020, \"GueltigAbDatMM\": 11, \"SexLang\": \"m\\u00e4nnlich\", \"sum_WBev\": 9}, {\"GueltigAbDat\": \"2021-03-06T00:00:00\", \"GueltigAbDatJahr\": 2021, \"GueltigAbDatMM\": 3, \"SexLang\": \"m\\u00e4nnlich\", \"sum_WBev\": 9}, {\"GueltigAbDat\": \"2021-06-23T00:00:00\", \"GueltigAbDatJahr\": 2021, \"GueltigAbDatMM\": 6, \"SexLang\": \"m\\u00e4nnlich\", \"sum_WBev\": 9}, {\"GueltigAbDat\": \"2021-01-01T00:00:00\", \"GueltigAbDatJahr\": 2021, \"GueltigAbDatMM\": 1, \"SexLang\": \"weiblich\", \"sum_WBev\": 9}, {\"GueltigAbDat\": \"2020-12-13T00:00:00\", \"GueltigAbDatJahr\": 2020, \"GueltigAbDatMM\": 12, \"SexLang\": \"weiblich\", \"sum_WBev\": 9}, {\"GueltigAbDat\": \"2021-01-19T00:00:00\", \"GueltigAbDatJahr\": 2021, \"GueltigAbDatMM\": 1, \"SexLang\": \"m\\u00e4nnlich\", \"sum_WBev\": 9}, {\"GueltigAbDat\": \"2020-11-15T00:00:00\", \"GueltigAbDatJahr\": 2020, \"GueltigAbDatMM\": 11, \"SexLang\": \"weiblich\", \"sum_WBev\": 9}, {\"GueltigAbDat\": \"2020-11-20T00:00:00\", \"GueltigAbDatJahr\": 2020, \"GueltigAbDatMM\": 11, \"SexLang\": \"m\\u00e4nnlich\", \"sum_WBev\": 9}, {\"GueltigAbDat\": \"2021-01-20T00:00:00\", \"GueltigAbDatJahr\": 2021, \"GueltigAbDatMM\": 1, \"SexLang\": \"weiblich\", \"sum_WBev\": 9}, {\"GueltigAbDat\": \"2021-02-02T00:00:00\", \"GueltigAbDatJahr\": 2021, \"GueltigAbDatMM\": 2, \"SexLang\": \"weiblich\", \"sum_WBev\": 9}, {\"GueltigAbDat\": \"2021-01-16T00:00:00\", \"GueltigAbDatJahr\": 2021, \"GueltigAbDatMM\": 1, \"SexLang\": \"m\\u00e4nnlich\", \"sum_WBev\": 9}, {\"GueltigAbDat\": \"2021-01-12T00:00:00\", \"GueltigAbDatJahr\": 2021, \"GueltigAbDatMM\": 1, \"SexLang\": \"weiblich\", \"sum_WBev\": 9}, {\"GueltigAbDat\": \"2020-12-23T00:00:00\", \"GueltigAbDatJahr\": 2020, \"GueltigAbDatMM\": 12, \"SexLang\": \"m\\u00e4nnlich\", \"sum_WBev\": 8}, {\"GueltigAbDat\": \"2021-05-27T00:00:00\", \"GueltigAbDatJahr\": 2021, \"GueltigAbDatMM\": 5, \"SexLang\": \"weiblich\", \"sum_WBev\": 8}, {\"GueltigAbDat\": \"2021-03-15T00:00:00\", \"GueltigAbDatJahr\": 2021, \"GueltigAbDatMM\": 3, \"SexLang\": \"m\\u00e4nnlich\", \"sum_WBev\": 8}, {\"GueltigAbDat\": \"2021-08-13T00:00:00\", \"GueltigAbDatJahr\": 2021, \"GueltigAbDatMM\": 8, \"SexLang\": \"weiblich\", \"sum_WBev\": 8}, {\"GueltigAbDat\": \"2021-10-30T00:00:00\", \"GueltigAbDatJahr\": 2021, \"GueltigAbDatMM\": 10, \"SexLang\": \"weiblich\", \"sum_WBev\": 8}, {\"GueltigAbDat\": \"2021-11-07T00:00:00\", \"GueltigAbDatJahr\": 2021, \"GueltigAbDatMM\": 11, \"SexLang\": \"weiblich\", \"sum_WBev\": 8}, {\"GueltigAbDat\": \"2020-12-16T00:00:00\", \"GueltigAbDatJahr\": 2020, \"GueltigAbDatMM\": 12, \"SexLang\": \"m\\u00e4nnlich\", \"sum_WBev\": 8}, {\"GueltigAbDat\": \"2021-02-02T00:00:00\", \"GueltigAbDatJahr\": 2021, \"GueltigAbDatMM\": 2, \"SexLang\": \"m\\u00e4nnlich\", \"sum_WBev\": 8}, {\"GueltigAbDat\": \"2021-04-19T00:00:00\", \"GueltigAbDatJahr\": 2021, \"GueltigAbDatMM\": 4, \"SexLang\": \"weiblich\", \"sum_WBev\": 8}, {\"GueltigAbDat\": \"2021-03-08T00:00:00\", \"GueltigAbDatJahr\": 2021, \"GueltigAbDatMM\": 3, \"SexLang\": \"weiblich\", \"sum_WBev\": 8}, {\"GueltigAbDat\": \"2020-12-26T00:00:00\", \"GueltigAbDatJahr\": 2020, \"GueltigAbDatMM\": 12, \"SexLang\": \"m\\u00e4nnlich\", \"sum_WBev\": 8}, {\"GueltigAbDat\": \"2021-02-13T00:00:00\", \"GueltigAbDatJahr\": 2021, \"GueltigAbDatMM\": 2, \"SexLang\": \"weiblich\", \"sum_WBev\": 8}, {\"GueltigAbDat\": \"2021-01-14T00:00:00\", \"GueltigAbDatJahr\": 2021, \"GueltigAbDatMM\": 1, \"SexLang\": \"weiblich\", \"sum_WBev\": 8}, {\"GueltigAbDat\": \"2021-07-18T00:00:00\", \"GueltigAbDatJahr\": 2021, \"GueltigAbDatMM\": 7, \"SexLang\": \"m\\u00e4nnlich\", \"sum_WBev\": 8}, {\"GueltigAbDat\": \"2021-01-13T00:00:00\", \"GueltigAbDatJahr\": 2021, \"GueltigAbDatMM\": 1, \"SexLang\": \"m\\u00e4nnlich\", \"sum_WBev\": 8}, {\"GueltigAbDat\": \"2020-12-28T00:00:00\", \"GueltigAbDatJahr\": 2020, \"GueltigAbDatMM\": 12, \"SexLang\": \"m\\u00e4nnlich\", \"sum_WBev\": 8}, {\"GueltigAbDat\": \"2020-12-29T00:00:00\", \"GueltigAbDatJahr\": 2020, \"GueltigAbDatMM\": 12, \"SexLang\": \"m\\u00e4nnlich\", \"sum_WBev\": 8}, {\"GueltigAbDat\": \"2020-12-30T00:00:00\", \"GueltigAbDatJahr\": 2020, \"GueltigAbDatMM\": 12, \"SexLang\": \"weiblich\", \"sum_WBev\": 8}, {\"GueltigAbDat\": \"2021-01-11T00:00:00\", \"GueltigAbDatJahr\": 2021, \"GueltigAbDatMM\": 1, \"SexLang\": \"m\\u00e4nnlich\", \"sum_WBev\": 8}, {\"GueltigAbDat\": \"2021-01-22T00:00:00\", \"GueltigAbDatJahr\": 2021, \"GueltigAbDatMM\": 1, \"SexLang\": \"m\\u00e4nnlich\", \"sum_WBev\": 8}, {\"GueltigAbDat\": \"2021-11-20T00:00:00\", \"GueltigAbDatJahr\": 2021, \"GueltigAbDatMM\": 11, \"SexLang\": \"m\\u00e4nnlich\", \"sum_WBev\": 8}, {\"GueltigAbDat\": \"2021-07-13T00:00:00\", \"GueltigAbDatJahr\": 2021, \"GueltigAbDatMM\": 7, \"SexLang\": \"weiblich\", \"sum_WBev\": 8}, {\"GueltigAbDat\": \"2021-01-02T00:00:00\", \"GueltigAbDatJahr\": 2021, \"GueltigAbDatMM\": 1, \"SexLang\": \"weiblich\", \"sum_WBev\": 8}, {\"GueltigAbDat\": \"2021-01-04T00:00:00\", \"GueltigAbDatJahr\": 2021, \"GueltigAbDatMM\": 1, \"SexLang\": \"m\\u00e4nnlich\", \"sum_WBev\": 8}, {\"GueltigAbDat\": \"2021-01-08T00:00:00\", \"GueltigAbDatJahr\": 2021, \"GueltigAbDatMM\": 1, \"SexLang\": \"m\\u00e4nnlich\", \"sum_WBev\": 8}, {\"GueltigAbDat\": \"2021-02-14T00:00:00\", \"GueltigAbDatJahr\": 2021, \"GueltigAbDatMM\": 2, \"SexLang\": \"weiblich\", \"sum_WBev\": 8}, {\"GueltigAbDat\": \"2021-07-02T00:00:00\", \"GueltigAbDatJahr\": 2021, \"GueltigAbDatMM\": 7, \"SexLang\": \"weiblich\", \"sum_WBev\": 8}, {\"GueltigAbDat\": \"2021-11-30T00:00:00\", \"GueltigAbDatJahr\": 2021, \"GueltigAbDatMM\": 11, \"SexLang\": \"weiblich\", \"sum_WBev\": 8}, {\"GueltigAbDat\": \"2021-08-28T00:00:00\", \"GueltigAbDatJahr\": 2021, \"GueltigAbDatMM\": 8, \"SexLang\": \"m\\u00e4nnlich\", \"sum_WBev\": 8}, {\"GueltigAbDat\": \"2020-12-06T00:00:00\", \"GueltigAbDatJahr\": 2020, \"GueltigAbDatMM\": 12, \"SexLang\": \"weiblich\", \"sum_WBev\": 8}, {\"GueltigAbDat\": \"2021-09-15T00:00:00\", \"GueltigAbDatJahr\": 2021, \"GueltigAbDatMM\": 9, \"SexLang\": \"weiblich\", \"sum_WBev\": 8}, {\"GueltigAbDat\": \"2021-09-20T00:00:00\", \"GueltigAbDatJahr\": 2021, \"GueltigAbDatMM\": 9, \"SexLang\": \"weiblich\", \"sum_WBev\": 8}, {\"GueltigAbDat\": \"2020-11-23T00:00:00\", \"GueltigAbDatJahr\": 2020, \"GueltigAbDatMM\": 11, \"SexLang\": \"weiblich\", \"sum_WBev\": 8}, {\"GueltigAbDat\": \"2020-11-25T00:00:00\", \"GueltigAbDatJahr\": 2020, \"GueltigAbDatMM\": 11, \"SexLang\": \"weiblich\", \"sum_WBev\": 8}, {\"GueltigAbDat\": \"2020-11-26T00:00:00\", \"GueltigAbDatJahr\": 2020, \"GueltigAbDatMM\": 11, \"SexLang\": \"weiblich\", \"sum_WBev\": 8}, {\"GueltigAbDat\": \"2021-09-02T00:00:00\", \"GueltigAbDatJahr\": 2021, \"GueltigAbDatMM\": 9, \"SexLang\": \"m\\u00e4nnlich\", \"sum_WBev\": 8}, {\"GueltigAbDat\": \"2020-11-06T00:00:00\", \"GueltigAbDatJahr\": 2020, \"GueltigAbDatMM\": 11, \"SexLang\": \"weiblich\", \"sum_WBev\": 8}, {\"GueltigAbDat\": \"2020-12-02T00:00:00\", \"GueltigAbDatJahr\": 2020, \"GueltigAbDatMM\": 12, \"SexLang\": \"weiblich\", \"sum_WBev\": 8}, {\"GueltigAbDat\": \"2020-12-05T00:00:00\", \"GueltigAbDatJahr\": 2020, \"GueltigAbDatMM\": 12, \"SexLang\": \"weiblich\", \"sum_WBev\": 8}, {\"GueltigAbDat\": \"2020-11-05T00:00:00\", \"GueltigAbDatJahr\": 2020, \"GueltigAbDatMM\": 11, \"SexLang\": \"weiblich\", \"sum_WBev\": 8}, {\"GueltigAbDat\": \"2020-11-14T00:00:00\", \"GueltigAbDatJahr\": 2020, \"GueltigAbDatMM\": 11, \"SexLang\": \"m\\u00e4nnlich\", \"sum_WBev\": 8}, {\"GueltigAbDat\": \"2020-12-10T00:00:00\", \"GueltigAbDatJahr\": 2020, \"GueltigAbDatMM\": 12, \"SexLang\": \"m\\u00e4nnlich\", \"sum_WBev\": 8}, {\"GueltigAbDat\": \"2021-04-10T00:00:00\", \"GueltigAbDatJahr\": 2021, \"GueltigAbDatMM\": 4, \"SexLang\": \"weiblich\", \"sum_WBev\": 7}, {\"GueltigAbDat\": \"2021-06-20T00:00:00\", \"GueltigAbDatJahr\": 2021, \"GueltigAbDatMM\": 6, \"SexLang\": \"weiblich\", \"sum_WBev\": 7}, {\"GueltigAbDat\": \"2021-09-18T00:00:00\", \"GueltigAbDatJahr\": 2021, \"GueltigAbDatMM\": 9, \"SexLang\": \"weiblich\", \"sum_WBev\": 7}, {\"GueltigAbDat\": \"2021-11-18T00:00:00\", \"GueltigAbDatJahr\": 2021, \"GueltigAbDatMM\": 11, \"SexLang\": \"weiblich\", \"sum_WBev\": 7}, {\"GueltigAbDat\": \"2021-01-21T00:00:00\", \"GueltigAbDatJahr\": 2021, \"GueltigAbDatMM\": 1, \"SexLang\": \"m\\u00e4nnlich\", \"sum_WBev\": 7}, {\"GueltigAbDat\": \"2021-06-22T00:00:00\", \"GueltigAbDatJahr\": 2021, \"GueltigAbDatMM\": 6, \"SexLang\": \"weiblich\", \"sum_WBev\": 7}, {\"GueltigAbDat\": \"2021-02-28T00:00:00\", \"GueltigAbDatJahr\": 2021, \"GueltigAbDatMM\": 2, \"SexLang\": \"weiblich\", \"sum_WBev\": 7}, {\"GueltigAbDat\": \"2021-06-21T00:00:00\", \"GueltigAbDatJahr\": 2021, \"GueltigAbDatMM\": 6, \"SexLang\": \"m\\u00e4nnlich\", \"sum_WBev\": 7}, {\"GueltigAbDat\": \"2021-07-31T00:00:00\", \"GueltigAbDatJahr\": 2021, \"GueltigAbDatMM\": 7, \"SexLang\": \"weiblich\", \"sum_WBev\": 7}, {\"GueltigAbDat\": \"2020-11-17T00:00:00\", \"GueltigAbDatJahr\": 2020, \"GueltigAbDatMM\": 11, \"SexLang\": \"weiblich\", \"sum_WBev\": 7}, {\"GueltigAbDat\": \"2021-11-15T00:00:00\", \"GueltigAbDatJahr\": 2021, \"GueltigAbDatMM\": 11, \"SexLang\": \"weiblich\", \"sum_WBev\": 7}, {\"GueltigAbDat\": \"2021-01-15T00:00:00\", \"GueltigAbDatJahr\": 2021, \"GueltigAbDatMM\": 1, \"SexLang\": \"weiblich\", \"sum_WBev\": 7}, {\"GueltigAbDat\": \"2021-06-18T00:00:00\", \"GueltigAbDatJahr\": 2021, \"GueltigAbDatMM\": 6, \"SexLang\": \"m\\u00e4nnlich\", \"sum_WBev\": 7}, {\"GueltigAbDat\": \"2020-11-08T00:00:00\", \"GueltigAbDatJahr\": 2020, \"GueltigAbDatMM\": 11, \"SexLang\": \"weiblich\", \"sum_WBev\": 7}, {\"GueltigAbDat\": \"2021-06-03T00:00:00\", \"GueltigAbDatJahr\": 2021, \"GueltigAbDatMM\": 6, \"SexLang\": \"m\\u00e4nnlich\", \"sum_WBev\": 7}, {\"GueltigAbDat\": \"2021-05-31T00:00:00\", \"GueltigAbDatJahr\": 2021, \"GueltigAbDatMM\": 5, \"SexLang\": \"m\\u00e4nnlich\", \"sum_WBev\": 7}, {\"GueltigAbDat\": \"2021-07-03T00:00:00\", \"GueltigAbDatJahr\": 2021, \"GueltigAbDatMM\": 7, \"SexLang\": \"m\\u00e4nnlich\", \"sum_WBev\": 7}, {\"GueltigAbDat\": \"2021-01-27T00:00:00\", \"GueltigAbDatJahr\": 2021, \"GueltigAbDatMM\": 1, \"SexLang\": \"m\\u00e4nnlich\", \"sum_WBev\": 7}, {\"GueltigAbDat\": \"2020-12-17T00:00:00\", \"GueltigAbDatJahr\": 2020, \"GueltigAbDatMM\": 12, \"SexLang\": \"weiblich\", \"sum_WBev\": 7}, {\"GueltigAbDat\": \"2021-07-21T00:00:00\", \"GueltigAbDatJahr\": 2021, \"GueltigAbDatMM\": 7, \"SexLang\": \"m\\u00e4nnlich\", \"sum_WBev\": 7}, {\"GueltigAbDat\": \"2021-07-16T00:00:00\", \"GueltigAbDatJahr\": 2021, \"GueltigAbDatMM\": 7, \"SexLang\": \"m\\u00e4nnlich\", \"sum_WBev\": 7}, {\"GueltigAbDat\": \"2021-02-10T00:00:00\", \"GueltigAbDatJahr\": 2021, \"GueltigAbDatMM\": 2, \"SexLang\": \"weiblich\", \"sum_WBev\": 7}, {\"GueltigAbDat\": \"2020-12-15T00:00:00\", \"GueltigAbDatJahr\": 2020, \"GueltigAbDatMM\": 12, \"SexLang\": \"m\\u00e4nnlich\", \"sum_WBev\": 7}, {\"GueltigAbDat\": \"2021-02-11T00:00:00\", \"GueltigAbDatJahr\": 2021, \"GueltigAbDatMM\": 2, \"SexLang\": \"weiblich\", \"sum_WBev\": 7}, {\"GueltigAbDat\": \"2021-02-12T00:00:00\", \"GueltigAbDatJahr\": 2021, \"GueltigAbDatMM\": 2, \"SexLang\": \"weiblich\", \"sum_WBev\": 7}, {\"GueltigAbDat\": \"2021-10-13T00:00:00\", \"GueltigAbDatJahr\": 2021, \"GueltigAbDatMM\": 10, \"SexLang\": \"weiblich\", \"sum_WBev\": 7}, {\"GueltigAbDat\": \"2021-02-04T00:00:00\", \"GueltigAbDatJahr\": 2021, \"GueltigAbDatMM\": 2, \"SexLang\": \"weiblich\", \"sum_WBev\": 7}, {\"GueltigAbDat\": \"2021-01-29T00:00:00\", \"GueltigAbDatJahr\": 2021, \"GueltigAbDatMM\": 1, \"SexLang\": \"m\\u00e4nnlich\", \"sum_WBev\": 7}, {\"GueltigAbDat\": \"2021-11-22T00:00:00\", \"GueltigAbDatJahr\": 2021, \"GueltigAbDatMM\": 11, \"SexLang\": \"weiblich\", \"sum_WBev\": 7}, {\"GueltigAbDat\": \"2020-12-12T00:00:00\", \"GueltigAbDatJahr\": 2020, \"GueltigAbDatMM\": 12, \"SexLang\": \"m\\u00e4nnlich\", \"sum_WBev\": 7}, {\"GueltigAbDat\": \"2021-09-17T00:00:00\", \"GueltigAbDatJahr\": 2021, \"GueltigAbDatMM\": 9, \"SexLang\": \"weiblich\", \"sum_WBev\": 7}, {\"GueltigAbDat\": \"2021-09-18T00:00:00\", \"GueltigAbDatJahr\": 2021, \"GueltigAbDatMM\": 9, \"SexLang\": \"m\\u00e4nnlich\", \"sum_WBev\": 7}, {\"GueltigAbDat\": \"2021-07-08T00:00:00\", \"GueltigAbDatJahr\": 2021, \"GueltigAbDatMM\": 7, \"SexLang\": \"weiblich\", \"sum_WBev\": 7}, {\"GueltigAbDat\": \"2021-01-29T00:00:00\", \"GueltigAbDatJahr\": 2021, \"GueltigAbDatMM\": 1, \"SexLang\": \"weiblich\", \"sum_WBev\": 7}, {\"GueltigAbDat\": \"2021-03-15T00:00:00\", \"GueltigAbDatJahr\": 2021, \"GueltigAbDatMM\": 3, \"SexLang\": \"weiblich\", \"sum_WBev\": 7}, {\"GueltigAbDat\": \"2021-06-07T00:00:00\", \"GueltigAbDatJahr\": 2021, \"GueltigAbDatMM\": 6, \"SexLang\": \"weiblich\", \"sum_WBev\": 7}, {\"GueltigAbDat\": \"2021-09-02T00:00:00\", \"GueltigAbDatJahr\": 2021, \"GueltigAbDatMM\": 9, \"SexLang\": \"weiblich\", \"sum_WBev\": 7}, {\"GueltigAbDat\": \"2021-01-05T00:00:00\", \"GueltigAbDatJahr\": 2021, \"GueltigAbDatMM\": 1, \"SexLang\": \"weiblich\", \"sum_WBev\": 7}, {\"GueltigAbDat\": \"2021-05-16T00:00:00\", \"GueltigAbDatJahr\": 2021, \"GueltigAbDatMM\": 5, \"SexLang\": \"m\\u00e4nnlich\", \"sum_WBev\": 7}, {\"GueltigAbDat\": \"2020-12-11T00:00:00\", \"GueltigAbDatJahr\": 2020, \"GueltigAbDatMM\": 12, \"SexLang\": \"m\\u00e4nnlich\", \"sum_WBev\": 7}, {\"GueltigAbDat\": \"2020-11-29T00:00:00\", \"GueltigAbDatJahr\": 2020, \"GueltigAbDatMM\": 11, \"SexLang\": \"weiblich\", \"sum_WBev\": 7}, {\"GueltigAbDat\": \"2021-10-28T00:00:00\", \"GueltigAbDatJahr\": 2021, \"GueltigAbDatMM\": 10, \"SexLang\": \"weiblich\", \"sum_WBev\": 7}, {\"GueltigAbDat\": \"2021-03-27T00:00:00\", \"GueltigAbDatJahr\": 2021, \"GueltigAbDatMM\": 3, \"SexLang\": \"weiblich\", \"sum_WBev\": 7}, {\"GueltigAbDat\": \"2021-11-28T00:00:00\", \"GueltigAbDatJahr\": 2021, \"GueltigAbDatMM\": 11, \"SexLang\": \"m\\u00e4nnlich\", \"sum_WBev\": 7}, {\"GueltigAbDat\": \"2020-12-26T00:00:00\", \"GueltigAbDatJahr\": 2020, \"GueltigAbDatMM\": 12, \"SexLang\": \"weiblich\", \"sum_WBev\": 7}, {\"GueltigAbDat\": \"2021-09-27T00:00:00\", \"GueltigAbDatJahr\": 2021, \"GueltigAbDatMM\": 9, \"SexLang\": \"weiblich\", \"sum_WBev\": 7}, {\"GueltigAbDat\": \"2021-09-01T00:00:00\", \"GueltigAbDatJahr\": 2021, \"GueltigAbDatMM\": 9, \"SexLang\": \"m\\u00e4nnlich\", \"sum_WBev\": 7}, {\"GueltigAbDat\": \"2021-09-01T00:00:00\", \"GueltigAbDatJahr\": 2021, \"GueltigAbDatMM\": 9, \"SexLang\": \"weiblich\", \"sum_WBev\": 7}, {\"GueltigAbDat\": \"2021-04-26T00:00:00\", \"GueltigAbDatJahr\": 2021, \"GueltigAbDatMM\": 4, \"SexLang\": \"weiblich\", \"sum_WBev\": 7}, {\"GueltigAbDat\": \"2021-05-04T00:00:00\", \"GueltigAbDatJahr\": 2021, \"GueltigAbDatMM\": 5, \"SexLang\": \"m\\u00e4nnlich\", \"sum_WBev\": 7}, {\"GueltigAbDat\": \"2020-11-05T00:00:00\", \"GueltigAbDatJahr\": 2020, \"GueltigAbDatMM\": 11, \"SexLang\": \"m\\u00e4nnlich\", \"sum_WBev\": 7}, {\"GueltigAbDat\": \"2021-05-24T00:00:00\", \"GueltigAbDatJahr\": 2021, \"GueltigAbDatMM\": 5, \"SexLang\": \"weiblich\", \"sum_WBev\": 7}, {\"GueltigAbDat\": \"2020-12-08T00:00:00\", \"GueltigAbDatJahr\": 2020, \"GueltigAbDatMM\": 12, \"SexLang\": \"m\\u00e4nnlich\", \"sum_WBev\": 7}, {\"GueltigAbDat\": \"2021-11-11T00:00:00\", \"GueltigAbDatJahr\": 2021, \"GueltigAbDatMM\": 11, \"SexLang\": \"m\\u00e4nnlich\", \"sum_WBev\": 7}, {\"GueltigAbDat\": \"2021-03-25T00:00:00\", \"GueltigAbDatJahr\": 2021, \"GueltigAbDatMM\": 3, \"SexLang\": \"weiblich\", \"sum_WBev\": 6}, {\"GueltigAbDat\": \"2021-05-12T00:00:00\", \"GueltigAbDatJahr\": 2021, \"GueltigAbDatMM\": 5, \"SexLang\": \"weiblich\", \"sum_WBev\": 6}, {\"GueltigAbDat\": \"2021-02-19T00:00:00\", \"GueltigAbDatJahr\": 2021, \"GueltigAbDatMM\": 2, \"SexLang\": \"m\\u00e4nnlich\", \"sum_WBev\": 6}, {\"GueltigAbDat\": \"2021-07-03T00:00:00\", \"GueltigAbDatJahr\": 2021, \"GueltigAbDatMM\": 7, \"SexLang\": \"weiblich\", \"sum_WBev\": 6}, {\"GueltigAbDat\": \"2021-07-05T00:00:00\", \"GueltigAbDatJahr\": 2021, \"GueltigAbDatMM\": 7, \"SexLang\": \"weiblich\", \"sum_WBev\": 6}, {\"GueltigAbDat\": \"2021-03-24T00:00:00\", \"GueltigAbDatJahr\": 2021, \"GueltigAbDatMM\": 3, \"SexLang\": \"weiblich\", \"sum_WBev\": 6}, {\"GueltigAbDat\": \"2021-02-17T00:00:00\", \"GueltigAbDatJahr\": 2021, \"GueltigAbDatMM\": 2, \"SexLang\": \"m\\u00e4nnlich\", \"sum_WBev\": 6}, {\"GueltigAbDat\": \"2021-11-09T00:00:00\", \"GueltigAbDatJahr\": 2021, \"GueltigAbDatMM\": 11, \"SexLang\": \"weiblich\", \"sum_WBev\": 6}, {\"GueltigAbDat\": \"2021-02-16T00:00:00\", \"GueltigAbDatJahr\": 2021, \"GueltigAbDatMM\": 2, \"SexLang\": \"m\\u00e4nnlich\", \"sum_WBev\": 6}, {\"GueltigAbDat\": \"2021-07-10T00:00:00\", \"GueltigAbDatJahr\": 2021, \"GueltigAbDatMM\": 7, \"SexLang\": \"weiblich\", \"sum_WBev\": 6}, {\"GueltigAbDat\": \"2021-05-01T00:00:00\", \"GueltigAbDatJahr\": 2021, \"GueltigAbDatMM\": 5, \"SexLang\": \"weiblich\", \"sum_WBev\": 6}, {\"GueltigAbDat\": \"2021-07-09T00:00:00\", \"GueltigAbDatJahr\": 2021, \"GueltigAbDatMM\": 7, \"SexLang\": \"weiblich\", \"sum_WBev\": 6}, {\"GueltigAbDat\": \"2021-05-08T00:00:00\", \"GueltigAbDatJahr\": 2021, \"GueltigAbDatMM\": 5, \"SexLang\": \"weiblich\", \"sum_WBev\": 6}, {\"GueltigAbDat\": \"2021-03-31T00:00:00\", \"GueltigAbDatJahr\": 2021, \"GueltigAbDatMM\": 3, \"SexLang\": \"weiblich\", \"sum_WBev\": 6}, {\"GueltigAbDat\": \"2021-07-10T00:00:00\", \"GueltigAbDatJahr\": 2021, \"GueltigAbDatMM\": 7, \"SexLang\": \"m\\u00e4nnlich\", \"sum_WBev\": 6}, {\"GueltigAbDat\": \"2020-11-13T00:00:00\", \"GueltigAbDatJahr\": 2020, \"GueltigAbDatMM\": 11, \"SexLang\": \"weiblich\", \"sum_WBev\": 6}, {\"GueltigAbDat\": \"2021-05-26T00:00:00\", \"GueltigAbDatJahr\": 2021, \"GueltigAbDatMM\": 5, \"SexLang\": \"weiblich\", \"sum_WBev\": 6}, {\"GueltigAbDat\": \"2021-02-21T00:00:00\", \"GueltigAbDatJahr\": 2021, \"GueltigAbDatMM\": 2, \"SexLang\": \"weiblich\", \"sum_WBev\": 6}, {\"GueltigAbDat\": \"2020-11-03T00:00:00\", \"GueltigAbDatJahr\": 2020, \"GueltigAbDatMM\": 11, \"SexLang\": \"m\\u00e4nnlich\", \"sum_WBev\": 6}, {\"GueltigAbDat\": \"2021-03-05T00:00:00\", \"GueltigAbDatJahr\": 2021, \"GueltigAbDatMM\": 3, \"SexLang\": \"m\\u00e4nnlich\", \"sum_WBev\": 6}, {\"GueltigAbDat\": \"2021-10-23T00:00:00\", \"GueltigAbDatJahr\": 2021, \"GueltigAbDatMM\": 10, \"SexLang\": \"weiblich\", \"sum_WBev\": 6}, {\"GueltigAbDat\": \"2021-04-07T00:00:00\", \"GueltigAbDatJahr\": 2021, \"GueltigAbDatMM\": 4, \"SexLang\": \"m\\u00e4nnlich\", \"sum_WBev\": 6}, {\"GueltigAbDat\": \"2021-07-14T00:00:00\", \"GueltigAbDatJahr\": 2021, \"GueltigAbDatMM\": 7, \"SexLang\": \"weiblich\", \"sum_WBev\": 6}, {\"GueltigAbDat\": \"2021-06-10T00:00:00\", \"GueltigAbDatJahr\": 2021, \"GueltigAbDatMM\": 6, \"SexLang\": \"weiblich\", \"sum_WBev\": 6}, {\"GueltigAbDat\": \"2021-06-11T00:00:00\", \"GueltigAbDatJahr\": 2021, \"GueltigAbDatMM\": 6, \"SexLang\": \"m\\u00e4nnlich\", \"sum_WBev\": 6}, {\"GueltigAbDat\": \"2021-10-26T00:00:00\", \"GueltigAbDatJahr\": 2021, \"GueltigAbDatMM\": 10, \"SexLang\": \"weiblich\", \"sum_WBev\": 6}, {\"GueltigAbDat\": \"2021-06-14T00:00:00\", \"GueltigAbDatJahr\": 2021, \"GueltigAbDatMM\": 6, \"SexLang\": \"m\\u00e4nnlich\", \"sum_WBev\": 6}, {\"GueltigAbDat\": \"2021-04-09T00:00:00\", \"GueltigAbDatJahr\": 2021, \"GueltigAbDatMM\": 4, \"SexLang\": \"weiblich\", \"sum_WBev\": 6}, {\"GueltigAbDat\": \"2021-04-01T00:00:00\", \"GueltigAbDatJahr\": 2021, \"GueltigAbDatMM\": 4, \"SexLang\": \"weiblich\", \"sum_WBev\": 6}, {\"GueltigAbDat\": \"2021-10-27T00:00:00\", \"GueltigAbDatJahr\": 2021, \"GueltigAbDatMM\": 10, \"SexLang\": \"m\\u00e4nnlich\", \"sum_WBev\": 6}, {\"GueltigAbDat\": \"2021-03-05T00:00:00\", \"GueltigAbDatJahr\": 2021, \"GueltigAbDatMM\": 3, \"SexLang\": \"weiblich\", \"sum_WBev\": 6}, {\"GueltigAbDat\": \"2021-03-02T00:00:00\", \"GueltigAbDatJahr\": 2021, \"GueltigAbDatMM\": 3, \"SexLang\": \"weiblich\", \"sum_WBev\": 6}, {\"GueltigAbDat\": \"2020-11-11T00:00:00\", \"GueltigAbDatJahr\": 2020, \"GueltigAbDatMM\": 11, \"SexLang\": \"weiblich\", \"sum_WBev\": 6}, {\"GueltigAbDat\": \"2021-04-06T00:00:00\", \"GueltigAbDatJahr\": 2021, \"GueltigAbDatMM\": 4, \"SexLang\": \"m\\u00e4nnlich\", \"sum_WBev\": 6}, {\"GueltigAbDat\": \"2021-05-19T00:00:00\", \"GueltigAbDatJahr\": 2021, \"GueltigAbDatMM\": 5, \"SexLang\": \"weiblich\", \"sum_WBev\": 6}, {\"GueltigAbDat\": \"2021-06-21T00:00:00\", \"GueltigAbDatJahr\": 2021, \"GueltigAbDatMM\": 6, \"SexLang\": \"weiblich\", \"sum_WBev\": 6}, {\"GueltigAbDat\": \"2021-03-22T00:00:00\", \"GueltigAbDatJahr\": 2021, \"GueltigAbDatMM\": 3, \"SexLang\": \"m\\u00e4nnlich\", \"sum_WBev\": 6}, {\"GueltigAbDat\": \"2021-05-17T00:00:00\", \"GueltigAbDatJahr\": 2021, \"GueltigAbDatMM\": 5, \"SexLang\": \"weiblich\", \"sum_WBev\": 6}, {\"GueltigAbDat\": \"2021-02-26T00:00:00\", \"GueltigAbDatJahr\": 2021, \"GueltigAbDatMM\": 2, \"SexLang\": \"weiblich\", \"sum_WBev\": 6}, {\"GueltigAbDat\": \"2021-06-24T00:00:00\", \"GueltigAbDatJahr\": 2021, \"GueltigAbDatMM\": 6, \"SexLang\": \"m\\u00e4nnlich\", \"sum_WBev\": 6}, {\"GueltigAbDat\": \"2021-06-27T00:00:00\", \"GueltigAbDatJahr\": 2021, \"GueltigAbDatMM\": 6, \"SexLang\": \"m\\u00e4nnlich\", \"sum_WBev\": 6}, {\"GueltigAbDat\": \"2021-02-22T00:00:00\", \"GueltigAbDatJahr\": 2021, \"GueltigAbDatMM\": 2, \"SexLang\": \"weiblich\", \"sum_WBev\": 6}, {\"GueltigAbDat\": \"2021-05-28T00:00:00\", \"GueltigAbDatJahr\": 2021, \"GueltigAbDatMM\": 5, \"SexLang\": \"weiblich\", \"sum_WBev\": 6}, {\"GueltigAbDat\": \"2021-07-01T00:00:00\", \"GueltigAbDatJahr\": 2021, \"GueltigAbDatMM\": 7, \"SexLang\": \"weiblich\", \"sum_WBev\": 6}, {\"GueltigAbDat\": \"2021-09-27T00:00:00\", \"GueltigAbDatJahr\": 2021, \"GueltigAbDatMM\": 9, \"SexLang\": \"m\\u00e4nnlich\", \"sum_WBev\": 6}, {\"GueltigAbDat\": \"2021-04-12T00:00:00\", \"GueltigAbDatJahr\": 2021, \"GueltigAbDatMM\": 4, \"SexLang\": \"m\\u00e4nnlich\", \"sum_WBev\": 6}, {\"GueltigAbDat\": \"2021-10-12T00:00:00\", \"GueltigAbDatJahr\": 2021, \"GueltigAbDatMM\": 10, \"SexLang\": \"m\\u00e4nnlich\", \"sum_WBev\": 6}, {\"GueltigAbDat\": \"2020-12-25T00:00:00\", \"GueltigAbDatJahr\": 2020, \"GueltigAbDatMM\": 12, \"SexLang\": \"m\\u00e4nnlich\", \"sum_WBev\": 6}, {\"GueltigAbDat\": \"2021-10-03T00:00:00\", \"GueltigAbDatJahr\": 2021, \"GueltigAbDatMM\": 10, \"SexLang\": \"m\\u00e4nnlich\", \"sum_WBev\": 6}, {\"GueltigAbDat\": \"2021-04-11T00:00:00\", \"GueltigAbDatJahr\": 2021, \"GueltigAbDatMM\": 4, \"SexLang\": \"weiblich\", \"sum_WBev\": 6}, {\"GueltigAbDat\": \"2020-11-21T00:00:00\", \"GueltigAbDatJahr\": 2020, \"GueltigAbDatMM\": 11, \"SexLang\": \"m\\u00e4nnlich\", \"sum_WBev\": 6}, {\"GueltigAbDat\": \"2020-11-22T00:00:00\", \"GueltigAbDatJahr\": 2020, \"GueltigAbDatMM\": 11, \"SexLang\": \"m\\u00e4nnlich\", \"sum_WBev\": 6}, {\"GueltigAbDat\": \"2020-11-30T00:00:00\", \"GueltigAbDatJahr\": 2020, \"GueltigAbDatMM\": 11, \"SexLang\": \"m\\u00e4nnlich\", \"sum_WBev\": 6}, {\"GueltigAbDat\": \"2020-12-19T00:00:00\", \"GueltigAbDatJahr\": 2020, \"GueltigAbDatMM\": 12, \"SexLang\": \"weiblich\", \"sum_WBev\": 6}, {\"GueltigAbDat\": \"2021-08-31T00:00:00\", \"GueltigAbDatJahr\": 2021, \"GueltigAbDatMM\": 8, \"SexLang\": \"m\\u00e4nnlich\", \"sum_WBev\": 6}, {\"GueltigAbDat\": \"2021-08-03T00:00:00\", \"GueltigAbDatJahr\": 2021, \"GueltigAbDatMM\": 8, \"SexLang\": \"weiblich\", \"sum_WBev\": 6}, {\"GueltigAbDat\": \"2021-11-27T00:00:00\", \"GueltigAbDatJahr\": 2021, \"GueltigAbDatMM\": 11, \"SexLang\": \"m\\u00e4nnlich\", \"sum_WBev\": 6}, {\"GueltigAbDat\": \"2020-11-24T00:00:00\", \"GueltigAbDatJahr\": 2020, \"GueltigAbDatMM\": 11, \"SexLang\": \"m\\u00e4nnlich\", \"sum_WBev\": 6}, {\"GueltigAbDat\": \"2021-09-07T00:00:00\", \"GueltigAbDatJahr\": 2021, \"GueltigAbDatMM\": 9, \"SexLang\": \"weiblich\", \"sum_WBev\": 6}, {\"GueltigAbDat\": \"2021-10-04T00:00:00\", \"GueltigAbDatJahr\": 2021, \"GueltigAbDatMM\": 10, \"SexLang\": \"weiblich\", \"sum_WBev\": 6}, {\"GueltigAbDat\": \"2020-12-24T00:00:00\", \"GueltigAbDatJahr\": 2020, \"GueltigAbDatMM\": 12, \"SexLang\": \"weiblich\", \"sum_WBev\": 6}, {\"GueltigAbDat\": \"2021-08-10T00:00:00\", \"GueltigAbDatJahr\": 2021, \"GueltigAbDatMM\": 8, \"SexLang\": \"weiblich\", \"sum_WBev\": 6}, {\"GueltigAbDat\": \"2020-12-18T00:00:00\", \"GueltigAbDatJahr\": 2020, \"GueltigAbDatMM\": 12, \"SexLang\": \"weiblich\", \"sum_WBev\": 6}, {\"GueltigAbDat\": \"2021-01-09T00:00:00\", \"GueltigAbDatJahr\": 2021, \"GueltigAbDatMM\": 1, \"SexLang\": \"weiblich\", \"sum_WBev\": 6}, {\"GueltigAbDat\": \"2021-08-21T00:00:00\", \"GueltigAbDatJahr\": 2021, \"GueltigAbDatMM\": 8, \"SexLang\": \"m\\u00e4nnlich\", \"sum_WBev\": 6}, {\"GueltigAbDat\": \"2020-12-05T00:00:00\", \"GueltigAbDatJahr\": 2020, \"GueltigAbDatMM\": 12, \"SexLang\": \"m\\u00e4nnlich\", \"sum_WBev\": 6}, {\"GueltigAbDat\": \"2021-08-12T00:00:00\", \"GueltigAbDatJahr\": 2021, \"GueltigAbDatMM\": 8, \"SexLang\": \"m\\u00e4nnlich\", \"sum_WBev\": 6}, {\"GueltigAbDat\": \"2021-01-07T00:00:00\", \"GueltigAbDatJahr\": 2021, \"GueltigAbDatMM\": 1, \"SexLang\": \"weiblich\", \"sum_WBev\": 6}, {\"GueltigAbDat\": \"2020-12-03T00:00:00\", \"GueltigAbDatJahr\": 2020, \"GueltigAbDatMM\": 12, \"SexLang\": \"weiblich\", \"sum_WBev\": 6}, {\"GueltigAbDat\": \"2021-11-27T00:00:00\", \"GueltigAbDatJahr\": 2021, \"GueltigAbDatMM\": 11, \"SexLang\": \"weiblich\", \"sum_WBev\": 6}, {\"GueltigAbDat\": \"2021-09-03T00:00:00\", \"GueltigAbDatJahr\": 2021, \"GueltigAbDatMM\": 9, \"SexLang\": \"weiblich\", \"sum_WBev\": 6}, {\"GueltigAbDat\": \"2021-10-08T00:00:00\", \"GueltigAbDatJahr\": 2021, \"GueltigAbDatMM\": 10, \"SexLang\": \"weiblich\", \"sum_WBev\": 6}, {\"GueltigAbDat\": \"2021-08-19T00:00:00\", \"GueltigAbDatJahr\": 2021, \"GueltigAbDatMM\": 8, \"SexLang\": \"m\\u00e4nnlich\", \"sum_WBev\": 6}, {\"GueltigAbDat\": \"2021-08-16T00:00:00\", \"GueltigAbDatJahr\": 2021, \"GueltigAbDatMM\": 8, \"SexLang\": \"weiblich\", \"sum_WBev\": 6}, {\"GueltigAbDat\": \"2021-01-03T00:00:00\", \"GueltigAbDatJahr\": 2021, \"GueltigAbDatMM\": 1, \"SexLang\": \"m\\u00e4nnlich\", \"sum_WBev\": 6}, {\"GueltigAbDat\": \"2021-01-01T00:00:00\", \"GueltigAbDatJahr\": 2021, \"GueltigAbDatMM\": 1, \"SexLang\": \"m\\u00e4nnlich\", \"sum_WBev\": 6}, {\"GueltigAbDat\": \"2020-11-19T00:00:00\", \"GueltigAbDatJahr\": 2020, \"GueltigAbDatMM\": 11, \"SexLang\": \"weiblich\", \"sum_WBev\": 6}, {\"GueltigAbDat\": \"2021-08-17T00:00:00\", \"GueltigAbDatJahr\": 2021, \"GueltigAbDatMM\": 8, \"SexLang\": \"weiblich\", \"sum_WBev\": 6}, {\"GueltigAbDat\": \"2021-09-14T00:00:00\", \"GueltigAbDatJahr\": 2021, \"GueltigAbDatMM\": 9, \"SexLang\": \"m\\u00e4nnlich\", \"sum_WBev\": 6}, {\"GueltigAbDat\": \"2021-09-16T00:00:00\", \"GueltigAbDatJahr\": 2021, \"GueltigAbDatMM\": 9, \"SexLang\": \"m\\u00e4nnlich\", \"sum_WBev\": 6}, {\"GueltigAbDat\": \"2021-07-26T00:00:00\", \"GueltigAbDatJahr\": 2021, \"GueltigAbDatMM\": 7, \"SexLang\": \"m\\u00e4nnlich\", \"sum_WBev\": 6}, {\"GueltigAbDat\": \"2021-07-26T00:00:00\", \"GueltigAbDatJahr\": 2021, \"GueltigAbDatMM\": 7, \"SexLang\": \"weiblich\", \"sum_WBev\": 6}, {\"GueltigAbDat\": \"2021-01-28T00:00:00\", \"GueltigAbDatJahr\": 2021, \"GueltigAbDatMM\": 1, \"SexLang\": \"m\\u00e4nnlich\", \"sum_WBev\": 6}, {\"GueltigAbDat\": \"2021-07-25T00:00:00\", \"GueltigAbDatJahr\": 2021, \"GueltigAbDatMM\": 7, \"SexLang\": \"weiblich\", \"sum_WBev\": 6}, {\"GueltigAbDat\": \"2020-12-16T00:00:00\", \"GueltigAbDatJahr\": 2020, \"GueltigAbDatMM\": 12, \"SexLang\": \"weiblich\", \"sum_WBev\": 6}, {\"GueltigAbDat\": \"2021-01-27T00:00:00\", \"GueltigAbDatJahr\": 2021, \"GueltigAbDatMM\": 1, \"SexLang\": \"weiblich\", \"sum_WBev\": 6}, {\"GueltigAbDat\": \"2021-07-22T00:00:00\", \"GueltigAbDatJahr\": 2021, \"GueltigAbDatMM\": 7, \"SexLang\": \"weiblich\", \"sum_WBev\": 6}, {\"GueltigAbDat\": \"2021-07-27T00:00:00\", \"GueltigAbDatJahr\": 2021, \"GueltigAbDatMM\": 7, \"SexLang\": \"weiblich\", \"sum_WBev\": 6}, {\"GueltigAbDat\": \"2021-01-25T00:00:00\", \"GueltigAbDatJahr\": 2021, \"GueltigAbDatMM\": 1, \"SexLang\": \"weiblich\", \"sum_WBev\": 6}, {\"GueltigAbDat\": \"2021-10-02T00:00:00\", \"GueltigAbDatJahr\": 2021, \"GueltigAbDatMM\": 10, \"SexLang\": \"weiblich\", \"sum_WBev\": 6}, {\"GueltigAbDat\": \"2021-07-30T00:00:00\", \"GueltigAbDatJahr\": 2021, \"GueltigAbDatMM\": 7, \"SexLang\": \"weiblich\", \"sum_WBev\": 6}, {\"GueltigAbDat\": \"2021-01-24T00:00:00\", \"GueltigAbDatJahr\": 2021, \"GueltigAbDatMM\": 1, \"SexLang\": \"m\\u00e4nnlich\", \"sum_WBev\": 6}, {\"GueltigAbDat\": \"2021-11-22T00:00:00\", \"GueltigAbDatJahr\": 2021, \"GueltigAbDatMM\": 11, \"SexLang\": \"m\\u00e4nnlich\", \"sum_WBev\": 6}, {\"GueltigAbDat\": \"2021-07-19T00:00:00\", \"GueltigAbDatJahr\": 2021, \"GueltigAbDatMM\": 7, \"SexLang\": \"weiblich\", \"sum_WBev\": 6}, {\"GueltigAbDat\": \"2020-11-18T00:00:00\", \"GueltigAbDatJahr\": 2020, \"GueltigAbDatMM\": 11, \"SexLang\": \"weiblich\", \"sum_WBev\": 6}, {\"GueltigAbDat\": \"2021-01-23T00:00:00\", \"GueltigAbDatJahr\": 2021, \"GueltigAbDatMM\": 1, \"SexLang\": \"m\\u00e4nnlich\", \"sum_WBev\": 6}, {\"GueltigAbDat\": \"2021-08-30T00:00:00\", \"GueltigAbDatJahr\": 2021, \"GueltigAbDatMM\": 8, \"SexLang\": \"m\\u00e4nnlich\", \"sum_WBev\": 6}, {\"GueltigAbDat\": \"2021-07-18T00:00:00\", \"GueltigAbDatJahr\": 2021, \"GueltigAbDatMM\": 7, \"SexLang\": \"weiblich\", \"sum_WBev\": 6}, {\"GueltigAbDat\": \"2021-07-31T00:00:00\", \"GueltigAbDatJahr\": 2021, \"GueltigAbDatMM\": 7, \"SexLang\": \"m\\u00e4nnlich\", \"sum_WBev\": 6}, {\"GueltigAbDat\": \"2021-09-16T00:00:00\", \"GueltigAbDatJahr\": 2021, \"GueltigAbDatMM\": 9, \"SexLang\": \"weiblich\", \"sum_WBev\": 6}, {\"GueltigAbDat\": \"2021-11-23T00:00:00\", \"GueltigAbDatJahr\": 2021, \"GueltigAbDatMM\": 11, \"SexLang\": \"weiblich\", \"sum_WBev\": 6}, {\"GueltigAbDat\": \"2021-05-07T00:00:00\", \"GueltigAbDatJahr\": 2021, \"GueltigAbDatMM\": 5, \"SexLang\": \"m\\u00e4nnlich\", \"sum_WBev\": 5}, {\"GueltigAbDat\": \"2021-04-13T00:00:00\", \"GueltigAbDatJahr\": 2021, \"GueltigAbDatMM\": 4, \"SexLang\": \"m\\u00e4nnlich\", \"sum_WBev\": 5}, {\"GueltigAbDat\": \"2021-05-11T00:00:00\", \"GueltigAbDatJahr\": 2021, \"GueltigAbDatMM\": 5, \"SexLang\": \"m\\u00e4nnlich\", \"sum_WBev\": 5}, {\"GueltigAbDat\": \"2021-08-20T00:00:00\", \"GueltigAbDatJahr\": 2021, \"GueltigAbDatMM\": 8, \"SexLang\": \"m\\u00e4nnlich\", \"sum_WBev\": 5}, {\"GueltigAbDat\": \"2021-08-19T00:00:00\", \"GueltigAbDatJahr\": 2021, \"GueltigAbDatMM\": 8, \"SexLang\": \"weiblich\", \"sum_WBev\": 5}, {\"GueltigAbDat\": \"2021-09-26T00:00:00\", \"GueltigAbDatJahr\": 2021, \"GueltigAbDatMM\": 9, \"SexLang\": \"weiblich\", \"sum_WBev\": 5}, {\"GueltigAbDat\": \"2021-10-07T00:00:00\", \"GueltigAbDatJahr\": 2021, \"GueltigAbDatMM\": 10, \"SexLang\": \"m\\u00e4nnlich\", \"sum_WBev\": 5}, {\"GueltigAbDat\": \"2021-05-05T00:00:00\", \"GueltigAbDatJahr\": 2021, \"GueltigAbDatMM\": 5, \"SexLang\": \"weiblich\", \"sum_WBev\": 5}, {\"GueltigAbDat\": \"2021-09-28T00:00:00\", \"GueltigAbDatJahr\": 2021, \"GueltigAbDatMM\": 9, \"SexLang\": \"weiblich\", \"sum_WBev\": 5}, {\"GueltigAbDat\": \"2021-04-19T00:00:00\", \"GueltigAbDatJahr\": 2021, \"GueltigAbDatMM\": 4, \"SexLang\": \"m\\u00e4nnlich\", \"sum_WBev\": 5}, {\"GueltigAbDat\": \"2021-08-27T00:00:00\", \"GueltigAbDatJahr\": 2021, \"GueltigAbDatMM\": 8, \"SexLang\": \"weiblich\", \"sum_WBev\": 5}, {\"GueltigAbDat\": \"2021-04-22T00:00:00\", \"GueltigAbDatJahr\": 2021, \"GueltigAbDatMM\": 4, \"SexLang\": \"weiblich\", \"sum_WBev\": 5}, {\"GueltigAbDat\": \"2021-09-28T00:00:00\", \"GueltigAbDatJahr\": 2021, \"GueltigAbDatMM\": 9, \"SexLang\": \"m\\u00e4nnlich\", \"sum_WBev\": 5}, {\"GueltigAbDat\": \"2021-04-23T00:00:00\", \"GueltigAbDatJahr\": 2021, \"GueltigAbDatMM\": 4, \"SexLang\": \"m\\u00e4nnlich\", \"sum_WBev\": 5}, {\"GueltigAbDat\": \"2021-11-01T00:00:00\", \"GueltigAbDatJahr\": 2021, \"GueltigAbDatMM\": 11, \"SexLang\": \"weiblich\", \"sum_WBev\": 5}, {\"GueltigAbDat\": \"2021-08-23T00:00:00\", \"GueltigAbDatJahr\": 2021, \"GueltigAbDatMM\": 8, \"SexLang\": \"m\\u00e4nnlich\", \"sum_WBev\": 5}, {\"GueltigAbDat\": \"2021-04-18T00:00:00\", \"GueltigAbDatJahr\": 2021, \"GueltigAbDatMM\": 4, \"SexLang\": \"m\\u00e4nnlich\", \"sum_WBev\": 5}, {\"GueltigAbDat\": \"2021-08-22T00:00:00\", \"GueltigAbDatJahr\": 2021, \"GueltigAbDatMM\": 8, \"SexLang\": \"weiblich\", \"sum_WBev\": 5}, {\"GueltigAbDat\": \"2021-08-31T00:00:00\", \"GueltigAbDatJahr\": 2021, \"GueltigAbDatMM\": 8, \"SexLang\": \"weiblich\", \"sum_WBev\": 5}, {\"GueltigAbDat\": \"2021-04-18T00:00:00\", \"GueltigAbDatJahr\": 2021, \"GueltigAbDatMM\": 4, \"SexLang\": \"weiblich\", \"sum_WBev\": 5}, {\"GueltigAbDat\": \"2021-05-02T00:00:00\", \"GueltigAbDatJahr\": 2021, \"GueltigAbDatMM\": 5, \"SexLang\": \"m\\u00e4nnlich\", \"sum_WBev\": 5}, {\"GueltigAbDat\": \"2021-05-02T00:00:00\", \"GueltigAbDatJahr\": 2021, \"GueltigAbDatMM\": 5, \"SexLang\": \"weiblich\", \"sum_WBev\": 5}, {\"GueltigAbDat\": \"2021-08-24T00:00:00\", \"GueltigAbDatJahr\": 2021, \"GueltigAbDatMM\": 8, \"SexLang\": \"weiblich\", \"sum_WBev\": 5}, {\"GueltigAbDat\": \"2021-07-15T00:00:00\", \"GueltigAbDatJahr\": 2021, \"GueltigAbDatMM\": 7, \"SexLang\": \"weiblich\", \"sum_WBev\": 5}, {\"GueltigAbDat\": \"2021-06-02T00:00:00\", \"GueltigAbDatJahr\": 2021, \"GueltigAbDatMM\": 6, \"SexLang\": \"weiblich\", \"sum_WBev\": 5}, {\"GueltigAbDat\": \"2021-09-30T00:00:00\", \"GueltigAbDatJahr\": 2021, \"GueltigAbDatMM\": 9, \"SexLang\": \"m\\u00e4nnlich\", \"sum_WBev\": 5}, {\"GueltigAbDat\": \"2021-06-25T00:00:00\", \"GueltigAbDatJahr\": 2021, \"GueltigAbDatMM\": 6, \"SexLang\": \"weiblich\", \"sum_WBev\": 5}, {\"GueltigAbDat\": \"2021-09-11T00:00:00\", \"GueltigAbDatJahr\": 2021, \"GueltigAbDatMM\": 9, \"SexLang\": \"weiblich\", \"sum_WBev\": 5}, {\"GueltigAbDat\": \"2021-06-18T00:00:00\", \"GueltigAbDatJahr\": 2021, \"GueltigAbDatMM\": 6, \"SexLang\": \"weiblich\", \"sum_WBev\": 5}, {\"GueltigAbDat\": \"2021-10-11T00:00:00\", \"GueltigAbDatJahr\": 2021, \"GueltigAbDatMM\": 10, \"SexLang\": \"weiblich\", \"sum_WBev\": 5}, {\"GueltigAbDat\": \"2021-06-19T00:00:00\", \"GueltigAbDatJahr\": 2021, \"GueltigAbDatMM\": 6, \"SexLang\": \"m\\u00e4nnlich\", \"sum_WBev\": 5}, {\"GueltigAbDat\": \"2021-06-19T00:00:00\", \"GueltigAbDatJahr\": 2021, \"GueltigAbDatMM\": 6, \"SexLang\": \"weiblich\", \"sum_WBev\": 5}, {\"GueltigAbDat\": \"2021-09-12T00:00:00\", \"GueltigAbDatJahr\": 2021, \"GueltigAbDatMM\": 9, \"SexLang\": \"weiblich\", \"sum_WBev\": 5}, {\"GueltigAbDat\": \"2021-10-02T00:00:00\", \"GueltigAbDatJahr\": 2021, \"GueltigAbDatMM\": 10, \"SexLang\": \"m\\u00e4nnlich\", \"sum_WBev\": 5}, {\"GueltigAbDat\": \"2021-06-26T00:00:00\", \"GueltigAbDatJahr\": 2021, \"GueltigAbDatMM\": 6, \"SexLang\": \"m\\u00e4nnlich\", \"sum_WBev\": 5}, {\"GueltigAbDat\": \"2021-05-20T00:00:00\", \"GueltigAbDatJahr\": 2021, \"GueltigAbDatMM\": 5, \"SexLang\": \"m\\u00e4nnlich\", \"sum_WBev\": 5}, {\"GueltigAbDat\": \"2021-10-17T00:00:00\", \"GueltigAbDatJahr\": 2021, \"GueltigAbDatMM\": 10, \"SexLang\": \"weiblich\", \"sum_WBev\": 5}, {\"GueltigAbDat\": \"2021-06-30T00:00:00\", \"GueltigAbDatJahr\": 2021, \"GueltigAbDatMM\": 6, \"SexLang\": \"m\\u00e4nnlich\", \"sum_WBev\": 5}, {\"GueltigAbDat\": \"2021-07-28T00:00:00\", \"GueltigAbDatJahr\": 2021, \"GueltigAbDatMM\": 7, \"SexLang\": \"m\\u00e4nnlich\", \"sum_WBev\": 5}, {\"GueltigAbDat\": \"2021-07-08T00:00:00\", \"GueltigAbDatJahr\": 2021, \"GueltigAbDatMM\": 7, \"SexLang\": \"m\\u00e4nnlich\", \"sum_WBev\": 5}, {\"GueltigAbDat\": \"2021-07-24T00:00:00\", \"GueltigAbDatJahr\": 2021, \"GueltigAbDatMM\": 7, \"SexLang\": \"weiblich\", \"sum_WBev\": 5}, {\"GueltigAbDat\": \"2021-07-22T00:00:00\", \"GueltigAbDatJahr\": 2021, \"GueltigAbDatMM\": 7, \"SexLang\": \"m\\u00e4nnlich\", \"sum_WBev\": 5}, {\"GueltigAbDat\": \"2021-07-12T00:00:00\", \"GueltigAbDatJahr\": 2021, \"GueltigAbDatMM\": 7, \"SexLang\": \"m\\u00e4nnlich\", \"sum_WBev\": 5}, {\"GueltigAbDat\": \"2021-09-09T00:00:00\", \"GueltigAbDatJahr\": 2021, \"GueltigAbDatMM\": 9, \"SexLang\": \"m\\u00e4nnlich\", \"sum_WBev\": 5}, {\"GueltigAbDat\": \"2021-10-11T00:00:00\", \"GueltigAbDatJahr\": 2021, \"GueltigAbDatMM\": 10, \"SexLang\": \"m\\u00e4nnlich\", \"sum_WBev\": 5}, {\"GueltigAbDat\": \"2021-06-16T00:00:00\", \"GueltigAbDatJahr\": 2021, \"GueltigAbDatMM\": 6, \"SexLang\": \"m\\u00e4nnlich\", \"sum_WBev\": 5}, {\"GueltigAbDat\": \"2021-09-21T00:00:00\", \"GueltigAbDatJahr\": 2021, \"GueltigAbDatMM\": 9, \"SexLang\": \"weiblich\", \"sum_WBev\": 5}, {\"GueltigAbDat\": \"2021-05-21T00:00:00\", \"GueltigAbDatJahr\": 2021, \"GueltigAbDatMM\": 5, \"SexLang\": \"weiblich\", \"sum_WBev\": 5}, {\"GueltigAbDat\": \"2021-10-28T00:00:00\", \"GueltigAbDatJahr\": 2021, \"GueltigAbDatMM\": 10, \"SexLang\": \"m\\u00e4nnlich\", \"sum_WBev\": 5}, {\"GueltigAbDat\": \"2021-10-27T00:00:00\", \"GueltigAbDatJahr\": 2021, \"GueltigAbDatMM\": 10, \"SexLang\": \"weiblich\", \"sum_WBev\": 5}, {\"GueltigAbDat\": \"2021-10-09T00:00:00\", \"GueltigAbDatJahr\": 2021, \"GueltigAbDatMM\": 10, \"SexLang\": \"weiblich\", \"sum_WBev\": 5}, {\"GueltigAbDat\": \"2021-08-12T00:00:00\", \"GueltigAbDatJahr\": 2021, \"GueltigAbDatMM\": 8, \"SexLang\": \"weiblich\", \"sum_WBev\": 5}, {\"GueltigAbDat\": \"2021-09-24T00:00:00\", \"GueltigAbDatJahr\": 2021, \"GueltigAbDatMM\": 9, \"SexLang\": \"weiblich\", \"sum_WBev\": 5}, {\"GueltigAbDat\": \"2021-05-27T00:00:00\", \"GueltigAbDatJahr\": 2021, \"GueltigAbDatMM\": 5, \"SexLang\": \"m\\u00e4nnlich\", \"sum_WBev\": 5}, {\"GueltigAbDat\": \"2021-09-23T00:00:00\", \"GueltigAbDatJahr\": 2021, \"GueltigAbDatMM\": 9, \"SexLang\": \"weiblich\", \"sum_WBev\": 5}, {\"GueltigAbDat\": \"2021-09-04T00:00:00\", \"GueltigAbDatJahr\": 2021, \"GueltigAbDatMM\": 9, \"SexLang\": \"weiblich\", \"sum_WBev\": 5}, {\"GueltigAbDat\": \"2021-10-14T00:00:00\", \"GueltigAbDatJahr\": 2021, \"GueltigAbDatMM\": 10, \"SexLang\": \"m\\u00e4nnlich\", \"sum_WBev\": 5}, {\"GueltigAbDat\": \"2021-08-08T00:00:00\", \"GueltigAbDatJahr\": 2021, \"GueltigAbDatMM\": 8, \"SexLang\": \"m\\u00e4nnlich\", \"sum_WBev\": 5}, {\"GueltigAbDat\": \"2021-08-05T00:00:00\", \"GueltigAbDatJahr\": 2021, \"GueltigAbDatMM\": 8, \"SexLang\": \"weiblich\", \"sum_WBev\": 5}, {\"GueltigAbDat\": \"2021-10-20T00:00:00\", \"GueltigAbDatJahr\": 2021, \"GueltigAbDatMM\": 10, \"SexLang\": \"weiblich\", \"sum_WBev\": 5}, {\"GueltigAbDat\": \"2021-10-10T00:00:00\", \"GueltigAbDatJahr\": 2021, \"GueltigAbDatMM\": 10, \"SexLang\": \"weiblich\", \"sum_WBev\": 5}, {\"GueltigAbDat\": \"2021-06-11T00:00:00\", \"GueltigAbDatJahr\": 2021, \"GueltigAbDatMM\": 6, \"SexLang\": \"weiblich\", \"sum_WBev\": 5}, {\"GueltigAbDat\": \"2021-07-13T00:00:00\", \"GueltigAbDatJahr\": 2021, \"GueltigAbDatMM\": 7, \"SexLang\": \"m\\u00e4nnlich\", \"sum_WBev\": 5}, {\"GueltigAbDat\": \"2021-09-29T00:00:00\", \"GueltigAbDatJahr\": 2021, \"GueltigAbDatMM\": 9, \"SexLang\": \"m\\u00e4nnlich\", \"sum_WBev\": 5}, {\"GueltigAbDat\": \"2021-11-04T00:00:00\", \"GueltigAbDatJahr\": 2021, \"GueltigAbDatMM\": 11, \"SexLang\": \"weiblich\", \"sum_WBev\": 5}, {\"GueltigAbDat\": \"2021-03-27T00:00:00\", \"GueltigAbDatJahr\": 2021, \"GueltigAbDatMM\": 3, \"SexLang\": \"m\\u00e4nnlich\", \"sum_WBev\": 5}, {\"GueltigAbDat\": \"2021-03-21T00:00:00\", \"GueltigAbDatJahr\": 2021, \"GueltigAbDatMM\": 3, \"SexLang\": \"m\\u00e4nnlich\", \"sum_WBev\": 5}, {\"GueltigAbDat\": \"2021-11-10T00:00:00\", \"GueltigAbDatJahr\": 2021, \"GueltigAbDatMM\": 11, \"SexLang\": \"m\\u00e4nnlich\", \"sum_WBev\": 5}, {\"GueltigAbDat\": \"2021-11-25T00:00:00\", \"GueltigAbDatJahr\": 2021, \"GueltigAbDatMM\": 11, \"SexLang\": \"weiblich\", \"sum_WBev\": 5}, {\"GueltigAbDat\": \"2020-12-31T00:00:00\", \"GueltigAbDatJahr\": 2020, \"GueltigAbDatMM\": 12, \"SexLang\": \"m\\u00e4nnlich\", \"sum_WBev\": 5}, {\"GueltigAbDat\": \"2020-11-20T00:00:00\", \"GueltigAbDatJahr\": 2020, \"GueltigAbDatMM\": 11, \"SexLang\": \"weiblich\", \"sum_WBev\": 5}, {\"GueltigAbDat\": \"2021-02-16T00:00:00\", \"GueltigAbDatJahr\": 2021, \"GueltigAbDatMM\": 2, \"SexLang\": \"weiblich\", \"sum_WBev\": 5}, {\"GueltigAbDat\": \"2021-02-15T00:00:00\", \"GueltigAbDatJahr\": 2021, \"GueltigAbDatMM\": 2, \"SexLang\": \"weiblich\", \"sum_WBev\": 5}, {\"GueltigAbDat\": \"2021-02-08T00:00:00\", \"GueltigAbDatJahr\": 2021, \"GueltigAbDatMM\": 2, \"SexLang\": \"weiblich\", \"sum_WBev\": 5}, {\"GueltigAbDat\": \"2021-02-14T00:00:00\", \"GueltigAbDatJahr\": 2021, \"GueltigAbDatMM\": 2, \"SexLang\": \"m\\u00e4nnlich\", \"sum_WBev\": 5}, {\"GueltigAbDat\": \"2021-01-06T00:00:00\", \"GueltigAbDatJahr\": 2021, \"GueltigAbDatMM\": 1, \"SexLang\": \"weiblich\", \"sum_WBev\": 5}, {\"GueltigAbDat\": \"2021-01-07T00:00:00\", \"GueltigAbDatJahr\": 2021, \"GueltigAbDatMM\": 1, \"SexLang\": \"m\\u00e4nnlich\", \"sum_WBev\": 5}, {\"GueltigAbDat\": \"2021-01-08T00:00:00\", \"GueltigAbDatJahr\": 2021, \"GueltigAbDatMM\": 1, \"SexLang\": \"weiblich\", \"sum_WBev\": 5}, {\"GueltigAbDat\": \"2021-11-08T00:00:00\", \"GueltigAbDatJahr\": 2021, \"GueltigAbDatMM\": 11, \"SexLang\": \"weiblich\", \"sum_WBev\": 5}, {\"GueltigAbDat\": \"2021-11-21T00:00:00\", \"GueltigAbDatJahr\": 2021, \"GueltigAbDatMM\": 11, \"SexLang\": \"m\\u00e4nnlich\", \"sum_WBev\": 5}, {\"GueltigAbDat\": \"2021-03-20T00:00:00\", \"GueltigAbDatJahr\": 2021, \"GueltigAbDatMM\": 3, \"SexLang\": \"weiblich\", \"sum_WBev\": 5}, {\"GueltigAbDat\": \"2021-11-26T00:00:00\", \"GueltigAbDatJahr\": 2021, \"GueltigAbDatMM\": 11, \"SexLang\": \"m\\u00e4nnlich\", \"sum_WBev\": 5}, {\"GueltigAbDat\": \"2021-02-24T00:00:00\", \"GueltigAbDatJahr\": 2021, \"GueltigAbDatMM\": 2, \"SexLang\": \"m\\u00e4nnlich\", \"sum_WBev\": 5}, {\"GueltigAbDat\": \"2020-11-23T00:00:00\", \"GueltigAbDatJahr\": 2020, \"GueltigAbDatMM\": 11, \"SexLang\": \"m\\u00e4nnlich\", \"sum_WBev\": 5}, {\"GueltigAbDat\": \"2021-02-24T00:00:00\", \"GueltigAbDatJahr\": 2021, \"GueltigAbDatMM\": 2, \"SexLang\": \"weiblich\", \"sum_WBev\": 5}, {\"GueltigAbDat\": \"2020-12-21T00:00:00\", \"GueltigAbDatJahr\": 2020, \"GueltigAbDatMM\": 12, \"SexLang\": \"m\\u00e4nnlich\", \"sum_WBev\": 5}, {\"GueltigAbDat\": \"2021-03-17T00:00:00\", \"GueltigAbDatJahr\": 2021, \"GueltigAbDatMM\": 3, \"SexLang\": \"weiblich\", \"sum_WBev\": 5}, {\"GueltigAbDat\": \"2020-12-20T00:00:00\", \"GueltigAbDatJahr\": 2020, \"GueltigAbDatMM\": 12, \"SexLang\": \"m\\u00e4nnlich\", \"sum_WBev\": 5}, {\"GueltigAbDat\": \"2020-11-24T00:00:00\", \"GueltigAbDatJahr\": 2020, \"GueltigAbDatMM\": 11, \"SexLang\": \"weiblich\", \"sum_WBev\": 5}, {\"GueltigAbDat\": \"2021-11-12T00:00:00\", \"GueltigAbDatJahr\": 2021, \"GueltigAbDatMM\": 11, \"SexLang\": \"m\\u00e4nnlich\", \"sum_WBev\": 5}, {\"GueltigAbDat\": \"2020-12-18T00:00:00\", \"GueltigAbDatJahr\": 2020, \"GueltigAbDatMM\": 12, \"SexLang\": \"m\\u00e4nnlich\", \"sum_WBev\": 5}, {\"GueltigAbDat\": \"2020-11-26T00:00:00\", \"GueltigAbDatJahr\": 2020, \"GueltigAbDatMM\": 11, \"SexLang\": \"m\\u00e4nnlich\", \"sum_WBev\": 5}, {\"GueltigAbDat\": \"2020-11-27T00:00:00\", \"GueltigAbDatJahr\": 2020, \"GueltigAbDatMM\": 11, \"SexLang\": \"m\\u00e4nnlich\", \"sum_WBev\": 5}, {\"GueltigAbDat\": \"2020-12-06T00:00:00\", \"GueltigAbDatJahr\": 2020, \"GueltigAbDatMM\": 12, \"SexLang\": \"m\\u00e4nnlich\", \"sum_WBev\": 5}, {\"GueltigAbDat\": \"2020-12-09T00:00:00\", \"GueltigAbDatJahr\": 2020, \"GueltigAbDatMM\": 12, \"SexLang\": \"weiblich\", \"sum_WBev\": 5}, {\"GueltigAbDat\": \"2021-03-09T00:00:00\", \"GueltigAbDatJahr\": 2021, \"GueltigAbDatMM\": 3, \"SexLang\": \"m\\u00e4nnlich\", \"sum_WBev\": 5}, {\"GueltigAbDat\": \"2021-11-15T00:00:00\", \"GueltigAbDatJahr\": 2021, \"GueltigAbDatMM\": 11, \"SexLang\": \"m\\u00e4nnlich\", \"sum_WBev\": 5}, {\"GueltigAbDat\": \"2021-02-09T00:00:00\", \"GueltigAbDatJahr\": 2021, \"GueltigAbDatMM\": 2, \"SexLang\": \"m\\u00e4nnlich\", \"sum_WBev\": 5}, {\"GueltigAbDat\": \"2021-02-18T00:00:00\", \"GueltigAbDatJahr\": 2021, \"GueltigAbDatMM\": 2, \"SexLang\": \"m\\u00e4nnlich\", \"sum_WBev\": 5}, {\"GueltigAbDat\": \"2020-11-09T00:00:00\", \"GueltigAbDatJahr\": 2020, \"GueltigAbDatMM\": 11, \"SexLang\": \"m\\u00e4nnlich\", \"sum_WBev\": 5}, {\"GueltigAbDat\": \"2020-11-11T00:00:00\", \"GueltigAbDatJahr\": 2020, \"GueltigAbDatMM\": 11, \"SexLang\": \"m\\u00e4nnlich\", \"sum_WBev\": 5}, {\"GueltigAbDat\": \"2020-11-02T00:00:00\", \"GueltigAbDatJahr\": 2020, \"GueltigAbDatMM\": 11, \"SexLang\": \"weiblich\", \"sum_WBev\": 5}, {\"GueltigAbDat\": \"2020-11-03T00:00:00\", \"GueltigAbDatJahr\": 2020, \"GueltigAbDatMM\": 11, \"SexLang\": \"weiblich\", \"sum_WBev\": 5}, {\"GueltigAbDat\": \"2021-01-15T00:00:00\", \"GueltigAbDatJahr\": 2021, \"GueltigAbDatMM\": 1, \"SexLang\": \"m\\u00e4nnlich\", \"sum_WBev\": 5}, {\"GueltigAbDat\": \"2021-04-09T00:00:00\", \"GueltigAbDatJahr\": 2021, \"GueltigAbDatMM\": 4, \"SexLang\": \"m\\u00e4nnlich\", \"sum_WBev\": 5}, {\"GueltigAbDat\": \"2021-01-25T00:00:00\", \"GueltigAbDatJahr\": 2021, \"GueltigAbDatMM\": 1, \"SexLang\": \"m\\u00e4nnlich\", \"sum_WBev\": 5}, {\"GueltigAbDat\": \"2021-02-07T00:00:00\", \"GueltigAbDatJahr\": 2021, \"GueltigAbDatMM\": 2, \"SexLang\": \"weiblich\", \"sum_WBev\": 5}, {\"GueltigAbDat\": \"2021-04-05T00:00:00\", \"GueltigAbDatJahr\": 2021, \"GueltigAbDatMM\": 4, \"SexLang\": \"m\\u00e4nnlich\", \"sum_WBev\": 5}, {\"GueltigAbDat\": \"2020-12-14T00:00:00\", \"GueltigAbDatJahr\": 2020, \"GueltigAbDatMM\": 12, \"SexLang\": \"m\\u00e4nnlich\", \"sum_WBev\": 5}, {\"GueltigAbDat\": \"2021-11-07T00:00:00\", \"GueltigAbDatJahr\": 2021, \"GueltigAbDatMM\": 11, \"SexLang\": \"m\\u00e4nnlich\", \"sum_WBev\": 5}, {\"GueltigAbDat\": \"2020-11-12T00:00:00\", \"GueltigAbDatJahr\": 2020, \"GueltigAbDatMM\": 11, \"SexLang\": \"m\\u00e4nnlich\", \"sum_WBev\": 5}, {\"GueltigAbDat\": \"2021-10-15T00:00:00\", \"GueltigAbDatJahr\": 2021, \"GueltigAbDatMM\": 10, \"SexLang\": \"weiblich\", \"sum_WBev\": 4}, {\"GueltigAbDat\": \"2021-02-28T00:00:00\", \"GueltigAbDatJahr\": 2021, \"GueltigAbDatMM\": 2, \"SexLang\": \"m\\u00e4nnlich\", \"sum_WBev\": 4}, {\"GueltigAbDat\": \"2021-03-04T00:00:00\", \"GueltigAbDatJahr\": 2021, \"GueltigAbDatMM\": 3, \"SexLang\": \"weiblich\", \"sum_WBev\": 4}, {\"GueltigAbDat\": \"2021-08-25T00:00:00\", \"GueltigAbDatJahr\": 2021, \"GueltigAbDatMM\": 8, \"SexLang\": \"weiblich\", \"sum_WBev\": 4}, {\"GueltigAbDat\": \"2021-08-25T00:00:00\", \"GueltigAbDatJahr\": 2021, \"GueltigAbDatMM\": 8, \"SexLang\": \"m\\u00e4nnlich\", \"sum_WBev\": 4}, {\"GueltigAbDat\": \"2021-08-11T00:00:00\", \"GueltigAbDatJahr\": 2021, \"GueltigAbDatMM\": 8, \"SexLang\": \"weiblich\", \"sum_WBev\": 4}, {\"GueltigAbDat\": \"2021-03-01T00:00:00\", \"GueltigAbDatJahr\": 2021, \"GueltigAbDatMM\": 3, \"SexLang\": \"weiblich\", \"sum_WBev\": 4}, {\"GueltigAbDat\": \"2021-10-13T00:00:00\", \"GueltigAbDatJahr\": 2021, \"GueltigAbDatMM\": 10, \"SexLang\": \"m\\u00e4nnlich\", \"sum_WBev\": 4}, {\"GueltigAbDat\": \"2021-06-22T00:00:00\", \"GueltigAbDatJahr\": 2021, \"GueltigAbDatMM\": 6, \"SexLang\": \"m\\u00e4nnlich\", \"sum_WBev\": 4}, {\"GueltigAbDat\": \"2021-10-18T00:00:00\", \"GueltigAbDatJahr\": 2021, \"GueltigAbDatMM\": 10, \"SexLang\": \"weiblich\", \"sum_WBev\": 4}, {\"GueltigAbDat\": \"2021-11-16T00:00:00\", \"GueltigAbDatJahr\": 2021, \"GueltigAbDatMM\": 11, \"SexLang\": \"weiblich\", \"sum_WBev\": 4}, {\"GueltigAbDat\": \"2021-06-23T00:00:00\", \"GueltigAbDatJahr\": 2021, \"GueltigAbDatMM\": 6, \"SexLang\": \"weiblich\", \"sum_WBev\": 4}, {\"GueltigAbDat\": \"2021-07-29T00:00:00\", \"GueltigAbDatJahr\": 2021, \"GueltigAbDatMM\": 7, \"SexLang\": \"m\\u00e4nnlich\", \"sum_WBev\": 4}, {\"GueltigAbDat\": \"2021-07-28T00:00:00\", \"GueltigAbDatJahr\": 2021, \"GueltigAbDatMM\": 7, \"SexLang\": \"weiblich\", \"sum_WBev\": 4}, {\"GueltigAbDat\": \"2021-03-06T00:00:00\", \"GueltigAbDatJahr\": 2021, \"GueltigAbDatMM\": 3, \"SexLang\": \"weiblich\", \"sum_WBev\": 4}, {\"GueltigAbDat\": \"2021-01-24T00:00:00\", \"GueltigAbDatJahr\": 2021, \"GueltigAbDatMM\": 1, \"SexLang\": \"weiblich\", \"sum_WBev\": 4}, {\"GueltigAbDat\": \"2021-06-25T00:00:00\", \"GueltigAbDatJahr\": 2021, \"GueltigAbDatMM\": 6, \"SexLang\": \"m\\u00e4nnlich\", \"sum_WBev\": 4}, {\"GueltigAbDat\": \"2021-10-19T00:00:00\", \"GueltigAbDatJahr\": 2021, \"GueltigAbDatMM\": 10, \"SexLang\": \"weiblich\", \"sum_WBev\": 4}, {\"GueltigAbDat\": \"2021-08-26T00:00:00\", \"GueltigAbDatJahr\": 2021, \"GueltigAbDatMM\": 8, \"SexLang\": \"weiblich\", \"sum_WBev\": 4}, {\"GueltigAbDat\": \"2021-11-24T00:00:00\", \"GueltigAbDatJahr\": 2021, \"GueltigAbDatMM\": 11, \"SexLang\": \"m\\u00e4nnlich\", \"sum_WBev\": 4}, {\"GueltigAbDat\": \"2021-08-27T00:00:00\", \"GueltigAbDatJahr\": 2021, \"GueltigAbDatMM\": 8, \"SexLang\": \"m\\u00e4nnlich\", \"sum_WBev\": 4}, {\"GueltigAbDat\": \"2021-06-15T00:00:00\", \"GueltigAbDatJahr\": 2021, \"GueltigAbDatMM\": 6, \"SexLang\": \"weiblich\", \"sum_WBev\": 4}, {\"GueltigAbDat\": \"2021-03-07T00:00:00\", \"GueltigAbDatJahr\": 2021, \"GueltigAbDatMM\": 3, \"SexLang\": \"weiblich\", \"sum_WBev\": 4}, {\"GueltigAbDat\": \"2021-06-14T00:00:00\", \"GueltigAbDatJahr\": 2021, \"GueltigAbDatMM\": 6, \"SexLang\": \"weiblich\", \"sum_WBev\": 4}, {\"GueltigAbDat\": \"2021-06-13T00:00:00\", \"GueltigAbDatJahr\": 2021, \"GueltigAbDatMM\": 6, \"SexLang\": \"weiblich\", \"sum_WBev\": 4}, {\"GueltigAbDat\": \"2021-06-13T00:00:00\", \"GueltigAbDatJahr\": 2021, \"GueltigAbDatMM\": 6, \"SexLang\": \"m\\u00e4nnlich\", \"sum_WBev\": 4}, {\"GueltigAbDat\": \"2021-01-18T00:00:00\", \"GueltigAbDatJahr\": 2021, \"GueltigAbDatMM\": 1, \"SexLang\": \"m\\u00e4nnlich\", \"sum_WBev\": 4}, {\"GueltigAbDat\": \"2021-10-20T00:00:00\", \"GueltigAbDatJahr\": 2021, \"GueltigAbDatMM\": 10, \"SexLang\": \"m\\u00e4nnlich\", \"sum_WBev\": 4}, {\"GueltigAbDat\": \"2021-01-10T00:00:00\", \"GueltigAbDatJahr\": 2021, \"GueltigAbDatMM\": 1, \"SexLang\": \"m\\u00e4nnlich\", \"sum_WBev\": 4}, {\"GueltigAbDat\": \"2021-01-16T00:00:00\", \"GueltigAbDatJahr\": 2021, \"GueltigAbDatMM\": 1, \"SexLang\": \"weiblich\", \"sum_WBev\": 4}, {\"GueltigAbDat\": \"2021-10-15T00:00:00\", \"GueltigAbDatJahr\": 2021, \"GueltigAbDatMM\": 10, \"SexLang\": \"m\\u00e4nnlich\", \"sum_WBev\": 4}, {\"GueltigAbDat\": \"2021-11-17T00:00:00\", \"GueltigAbDatJahr\": 2021, \"GueltigAbDatMM\": 11, \"SexLang\": \"weiblich\", \"sum_WBev\": 4}, {\"GueltigAbDat\": \"2021-02-05T00:00:00\", \"GueltigAbDatJahr\": 2021, \"GueltigAbDatMM\": 2, \"SexLang\": \"m\\u00e4nnlich\", \"sum_WBev\": 4}, {\"GueltigAbDat\": \"2021-07-23T00:00:00\", \"GueltigAbDatJahr\": 2021, \"GueltigAbDatMM\": 7, \"SexLang\": \"weiblich\", \"sum_WBev\": 4}, {\"GueltigAbDat\": \"2021-07-20T00:00:00\", \"GueltigAbDatJahr\": 2021, \"GueltigAbDatMM\": 7, \"SexLang\": \"m\\u00e4nnlich\", \"sum_WBev\": 4}, {\"GueltigAbDat\": \"2021-01-06T00:00:00\", \"GueltigAbDatJahr\": 2021, \"GueltigAbDatMM\": 1, \"SexLang\": \"m\\u00e4nnlich\", \"sum_WBev\": 4}, {\"GueltigAbDat\": \"2021-08-06T00:00:00\", \"GueltigAbDatJahr\": 2021, \"GueltigAbDatMM\": 8, \"SexLang\": \"m\\u00e4nnlich\", \"sum_WBev\": 4}, {\"GueltigAbDat\": \"2021-01-11T00:00:00\", \"GueltigAbDatJahr\": 2021, \"GueltigAbDatMM\": 1, \"SexLang\": \"weiblich\", \"sum_WBev\": 4}, {\"GueltigAbDat\": \"2021-07-23T00:00:00\", \"GueltigAbDatJahr\": 2021, \"GueltigAbDatMM\": 7, \"SexLang\": \"m\\u00e4nnlich\", \"sum_WBev\": 4}, {\"GueltigAbDat\": \"2021-08-14T00:00:00\", \"GueltigAbDatJahr\": 2021, \"GueltigAbDatMM\": 8, \"SexLang\": \"m\\u00e4nnlich\", \"sum_WBev\": 4}, {\"GueltigAbDat\": \"2021-10-16T00:00:00\", \"GueltigAbDatJahr\": 2021, \"GueltigAbDatMM\": 10, \"SexLang\": \"m\\u00e4nnlich\", \"sum_WBev\": 4}, {\"GueltigAbDat\": \"2021-07-07T00:00:00\", \"GueltigAbDatJahr\": 2021, \"GueltigAbDatMM\": 7, \"SexLang\": \"m\\u00e4nnlich\", \"sum_WBev\": 4}, {\"GueltigAbDat\": \"2021-01-05T00:00:00\", \"GueltigAbDatJahr\": 2021, \"GueltigAbDatMM\": 1, \"SexLang\": \"m\\u00e4nnlich\", \"sum_WBev\": 4}, {\"GueltigAbDat\": \"2021-10-21T00:00:00\", \"GueltigAbDatJahr\": 2021, \"GueltigAbDatMM\": 10, \"SexLang\": \"m\\u00e4nnlich\", \"sum_WBev\": 4}, {\"GueltigAbDat\": \"2021-01-03T00:00:00\", \"GueltigAbDatJahr\": 2021, \"GueltigAbDatMM\": 1, \"SexLang\": \"weiblich\", \"sum_WBev\": 4}, {\"GueltigAbDat\": \"2021-08-17T00:00:00\", \"GueltigAbDatJahr\": 2021, \"GueltigAbDatMM\": 8, \"SexLang\": \"m\\u00e4nnlich\", \"sum_WBev\": 4}, {\"GueltigAbDat\": \"2021-07-04T00:00:00\", \"GueltigAbDatJahr\": 2021, \"GueltigAbDatMM\": 7, \"SexLang\": \"m\\u00e4nnlich\", \"sum_WBev\": 4}, {\"GueltigAbDat\": \"2021-01-02T00:00:00\", \"GueltigAbDatJahr\": 2021, \"GueltigAbDatMM\": 1, \"SexLang\": \"m\\u00e4nnlich\", \"sum_WBev\": 4}, {\"GueltigAbDat\": \"2021-02-19T00:00:00\", \"GueltigAbDatJahr\": 2021, \"GueltigAbDatMM\": 2, \"SexLang\": \"weiblich\", \"sum_WBev\": 4}, {\"GueltigAbDat\": \"2021-01-26T00:00:00\", \"GueltigAbDatJahr\": 2021, \"GueltigAbDatMM\": 1, \"SexLang\": \"m\\u00e4nnlich\", \"sum_WBev\": 4}, {\"GueltigAbDat\": \"2021-07-02T00:00:00\", \"GueltigAbDatJahr\": 2021, \"GueltigAbDatMM\": 7, \"SexLang\": \"m\\u00e4nnlich\", \"sum_WBev\": 4}, {\"GueltigAbDat\": \"2021-07-24T00:00:00\", \"GueltigAbDatJahr\": 2021, \"GueltigAbDatMM\": 7, \"SexLang\": \"m\\u00e4nnlich\", \"sum_WBev\": 4}, {\"GueltigAbDat\": \"2021-06-30T00:00:00\", \"GueltigAbDatJahr\": 2021, \"GueltigAbDatMM\": 6, \"SexLang\": \"weiblich\", \"sum_WBev\": 4}, {\"GueltigAbDat\": \"2020-12-30T00:00:00\", \"GueltigAbDatJahr\": 2020, \"GueltigAbDatMM\": 12, \"SexLang\": \"m\\u00e4nnlich\", \"sum_WBev\": 4}, {\"GueltigAbDat\": \"2021-01-12T00:00:00\", \"GueltigAbDatJahr\": 2021, \"GueltigAbDatMM\": 1, \"SexLang\": \"m\\u00e4nnlich\", \"sum_WBev\": 4}, {\"GueltigAbDat\": \"2021-07-25T00:00:00\", \"GueltigAbDatJahr\": 2021, \"GueltigAbDatMM\": 7, \"SexLang\": \"m\\u00e4nnlich\", \"sum_WBev\": 4}, {\"GueltigAbDat\": \"2021-06-29T00:00:00\", \"GueltigAbDatJahr\": 2021, \"GueltigAbDatMM\": 6, \"SexLang\": \"m\\u00e4nnlich\", \"sum_WBev\": 4}, {\"GueltigAbDat\": \"2021-08-20T00:00:00\", \"GueltigAbDatJahr\": 2021, \"GueltigAbDatMM\": 8, \"SexLang\": \"weiblich\", \"sum_WBev\": 4}, {\"GueltigAbDat\": \"2021-08-07T00:00:00\", \"GueltigAbDatJahr\": 2021, \"GueltigAbDatMM\": 8, \"SexLang\": \"weiblich\", \"sum_WBev\": 4}, {\"GueltigAbDat\": \"2021-01-14T00:00:00\", \"GueltigAbDatJahr\": 2021, \"GueltigAbDatMM\": 1, \"SexLang\": \"m\\u00e4nnlich\", \"sum_WBev\": 4}, {\"GueltigAbDat\": \"2021-02-07T00:00:00\", \"GueltigAbDatJahr\": 2021, \"GueltigAbDatMM\": 2, \"SexLang\": \"m\\u00e4nnlich\", \"sum_WBev\": 4}, {\"GueltigAbDat\": \"2020-12-24T00:00:00\", \"GueltigAbDatJahr\": 2020, \"GueltigAbDatMM\": 12, \"SexLang\": \"m\\u00e4nnlich\", \"sum_WBev\": 4}, {\"GueltigAbDat\": \"2021-01-28T00:00:00\", \"GueltigAbDatJahr\": 2021, \"GueltigAbDatMM\": 1, \"SexLang\": \"weiblich\", \"sum_WBev\": 4}, {\"GueltigAbDat\": \"2021-07-27T00:00:00\", \"GueltigAbDatJahr\": 2021, \"GueltigAbDatMM\": 7, \"SexLang\": \"m\\u00e4nnlich\", \"sum_WBev\": 4}, {\"GueltigAbDat\": \"2021-07-17T00:00:00\", \"GueltigAbDatJahr\": 2021, \"GueltigAbDatMM\": 7, \"SexLang\": \"weiblich\", \"sum_WBev\": 4}, {\"GueltigAbDat\": \"2021-08-30T00:00:00\", \"GueltigAbDatJahr\": 2021, \"GueltigAbDatMM\": 8, \"SexLang\": \"weiblich\", \"sum_WBev\": 4}, {\"GueltigAbDat\": \"2020-11-17T00:00:00\", \"GueltigAbDatJahr\": 2020, \"GueltigAbDatMM\": 11, \"SexLang\": \"m\\u00e4nnlich\", \"sum_WBev\": 4}, {\"GueltigAbDat\": \"2021-04-30T00:00:00\", \"GueltigAbDatJahr\": 2021, \"GueltigAbDatMM\": 4, \"SexLang\": \"weiblich\", \"sum_WBev\": 4}, {\"GueltigAbDat\": \"2021-05-03T00:00:00\", \"GueltigAbDatJahr\": 2021, \"GueltigAbDatMM\": 5, \"SexLang\": \"m\\u00e4nnlich\", \"sum_WBev\": 4}, {\"GueltigAbDat\": \"2021-11-28T00:00:00\", \"GueltigAbDatJahr\": 2021, \"GueltigAbDatMM\": 11, \"SexLang\": \"weiblich\", \"sum_WBev\": 4}, {\"GueltigAbDat\": \"2021-10-31T00:00:00\", \"GueltigAbDatJahr\": 2021, \"GueltigAbDatMM\": 10, \"SexLang\": \"m\\u00e4nnlich\", \"sum_WBev\": 4}, {\"GueltigAbDat\": \"2021-03-29T00:00:00\", \"GueltigAbDatJahr\": 2021, \"GueltigAbDatMM\": 3, \"SexLang\": \"m\\u00e4nnlich\", \"sum_WBev\": 4}, {\"GueltigAbDat\": \"2020-11-16T00:00:00\", \"GueltigAbDatJahr\": 2020, \"GueltigAbDatMM\": 11, \"SexLang\": \"m\\u00e4nnlich\", \"sum_WBev\": 4}, {\"GueltigAbDat\": \"2021-05-06T00:00:00\", \"GueltigAbDatJahr\": 2021, \"GueltigAbDatMM\": 5, \"SexLang\": \"m\\u00e4nnlich\", \"sum_WBev\": 4}, {\"GueltigAbDat\": \"2021-05-06T00:00:00\", \"GueltigAbDatJahr\": 2021, \"GueltigAbDatMM\": 5, \"SexLang\": \"weiblich\", \"sum_WBev\": 4}, {\"GueltigAbDat\": \"2021-05-07T00:00:00\", \"GueltigAbDatJahr\": 2021, \"GueltigAbDatMM\": 5, \"SexLang\": \"weiblich\", \"sum_WBev\": 4}, {\"GueltigAbDat\": \"2021-03-26T00:00:00\", \"GueltigAbDatJahr\": 2021, \"GueltigAbDatMM\": 3, \"SexLang\": \"weiblich\", \"sum_WBev\": 4}, {\"GueltigAbDat\": \"2021-05-09T00:00:00\", \"GueltigAbDatJahr\": 2021, \"GueltigAbDatMM\": 5, \"SexLang\": \"m\\u00e4nnlich\", \"sum_WBev\": 4}, {\"GueltigAbDat\": \"2021-05-09T00:00:00\", \"GueltigAbDatJahr\": 2021, \"GueltigAbDatMM\": 5, \"SexLang\": \"weiblich\", \"sum_WBev\": 4}, {\"GueltigAbDat\": \"2021-05-10T00:00:00\", \"GueltigAbDatJahr\": 2021, \"GueltigAbDatMM\": 5, \"SexLang\": \"m\\u00e4nnlich\", \"sum_WBev\": 4}, {\"GueltigAbDat\": \"2020-11-19T00:00:00\", \"GueltigAbDatJahr\": 2020, \"GueltigAbDatMM\": 11, \"SexLang\": \"m\\u00e4nnlich\", \"sum_WBev\": 4}, {\"GueltigAbDat\": \"2021-10-30T00:00:00\", \"GueltigAbDatJahr\": 2021, \"GueltigAbDatMM\": 10, \"SexLang\": \"m\\u00e4nnlich\", \"sum_WBev\": 4}, {\"GueltigAbDat\": \"2021-05-12T00:00:00\", \"GueltigAbDatJahr\": 2021, \"GueltigAbDatMM\": 5, \"SexLang\": \"m\\u00e4nnlich\", \"sum_WBev\": 4}, {\"GueltigAbDat\": \"2021-03-24T00:00:00\", \"GueltigAbDatJahr\": 2021, \"GueltigAbDatMM\": 3, \"SexLang\": \"m\\u00e4nnlich\", \"sum_WBev\": 4}, {\"GueltigAbDat\": \"2021-09-13T00:00:00\", \"GueltigAbDatJahr\": 2021, \"GueltigAbDatMM\": 9, \"SexLang\": \"weiblich\", \"sum_WBev\": 4}, {\"GueltigAbDat\": \"2020-11-14T00:00:00\", \"GueltigAbDatJahr\": 2020, \"GueltigAbDatMM\": 11, \"SexLang\": \"weiblich\", \"sum_WBev\": 4}, {\"GueltigAbDat\": \"2021-04-30T00:00:00\", \"GueltigAbDatJahr\": 2021, \"GueltigAbDatMM\": 4, \"SexLang\": \"m\\u00e4nnlich\", \"sum_WBev\": 4}, {\"GueltigAbDat\": \"2020-11-22T00:00:00\", \"GueltigAbDatJahr\": 2020, \"GueltigAbDatMM\": 11, \"SexLang\": \"weiblich\", \"sum_WBev\": 4}, {\"GueltigAbDat\": \"2021-04-28T00:00:00\", \"GueltigAbDatJahr\": 2021, \"GueltigAbDatMM\": 4, \"SexLang\": \"m\\u00e4nnlich\", \"sum_WBev\": 4}, {\"GueltigAbDat\": \"2021-11-05T00:00:00\", \"GueltigAbDatJahr\": 2021, \"GueltigAbDatMM\": 11, \"SexLang\": \"m\\u00e4nnlich\", \"sum_WBev\": 4}, {\"GueltigAbDat\": \"2021-04-15T00:00:00\", \"GueltigAbDatJahr\": 2021, \"GueltigAbDatMM\": 4, \"SexLang\": \"weiblich\", \"sum_WBev\": 4}, {\"GueltigAbDat\": \"2021-09-26T00:00:00\", \"GueltigAbDatJahr\": 2021, \"GueltigAbDatMM\": 9, \"SexLang\": \"m\\u00e4nnlich\", \"sum_WBev\": 4}, {\"GueltigAbDat\": \"2021-04-08T00:00:00\", \"GueltigAbDatJahr\": 2021, \"GueltigAbDatMM\": 4, \"SexLang\": \"weiblich\", \"sum_WBev\": 4}, {\"GueltigAbDat\": \"2021-04-06T00:00:00\", \"GueltigAbDatJahr\": 2021, \"GueltigAbDatMM\": 4, \"SexLang\": \"weiblich\", \"sum_WBev\": 4}, {\"GueltigAbDat\": \"2021-11-29T00:00:00\", \"GueltigAbDatJahr\": 2021, \"GueltigAbDatMM\": 11, \"SexLang\": \"weiblich\", \"sum_WBev\": 4}, {\"GueltigAbDat\": \"2020-11-08T00:00:00\", \"GueltigAbDatJahr\": 2020, \"GueltigAbDatMM\": 11, \"SexLang\": \"m\\u00e4nnlich\", \"sum_WBev\": 4}, {\"GueltigAbDat\": \"2021-11-03T00:00:00\", \"GueltigAbDatJahr\": 2021, \"GueltigAbDatMM\": 11, \"SexLang\": \"m\\u00e4nnlich\", \"sum_WBev\": 4}, {\"GueltigAbDat\": \"2021-09-22T00:00:00\", \"GueltigAbDatJahr\": 2021, \"GueltigAbDatMM\": 9, \"SexLang\": \"weiblich\", \"sum_WBev\": 4}, {\"GueltigAbDat\": \"2021-04-04T00:00:00\", \"GueltigAbDatJahr\": 2021, \"GueltigAbDatMM\": 4, \"SexLang\": \"m\\u00e4nnlich\", \"sum_WBev\": 4}, {\"GueltigAbDat\": \"2021-04-23T00:00:00\", \"GueltigAbDatJahr\": 2021, \"GueltigAbDatMM\": 4, \"SexLang\": \"weiblich\", \"sum_WBev\": 4}, {\"GueltigAbDat\": \"2021-10-01T00:00:00\", \"GueltigAbDatJahr\": 2021, \"GueltigAbDatMM\": 10, \"SexLang\": \"weiblich\", \"sum_WBev\": 4}, {\"GueltigAbDat\": \"2021-04-24T00:00:00\", \"GueltigAbDatJahr\": 2021, \"GueltigAbDatMM\": 4, \"SexLang\": \"weiblich\", \"sum_WBev\": 4}, {\"GueltigAbDat\": \"2021-09-21T00:00:00\", \"GueltigAbDatJahr\": 2021, \"GueltigAbDatMM\": 9, \"SexLang\": \"m\\u00e4nnlich\", \"sum_WBev\": 4}, {\"GueltigAbDat\": \"2021-04-25T00:00:00\", \"GueltigAbDatJahr\": 2021, \"GueltigAbDatMM\": 4, \"SexLang\": \"weiblich\", \"sum_WBev\": 4}, {\"GueltigAbDat\": \"2020-11-10T00:00:00\", \"GueltigAbDatJahr\": 2020, \"GueltigAbDatMM\": 11, \"SexLang\": \"weiblich\", \"sum_WBev\": 4}, {\"GueltigAbDat\": \"2021-04-27T00:00:00\", \"GueltigAbDatJahr\": 2021, \"GueltigAbDatMM\": 4, \"SexLang\": \"m\\u00e4nnlich\", \"sum_WBev\": 4}, {\"GueltigAbDat\": \"2021-05-14T00:00:00\", \"GueltigAbDatJahr\": 2021, \"GueltigAbDatMM\": 5, \"SexLang\": \"m\\u00e4nnlich\", \"sum_WBev\": 4}, {\"GueltigAbDat\": \"2021-08-01T00:00:00\", \"GueltigAbDatJahr\": 2021, \"GueltigAbDatMM\": 8, \"SexLang\": \"weiblich\", \"sum_WBev\": 4}, {\"GueltigAbDat\": \"2021-10-26T00:00:00\", \"GueltigAbDatJahr\": 2021, \"GueltigAbDatMM\": 10, \"SexLang\": \"m\\u00e4nnlich\", \"sum_WBev\": 4}, {\"GueltigAbDat\": \"2021-03-18T00:00:00\", \"GueltigAbDatJahr\": 2021, \"GueltigAbDatMM\": 3, \"SexLang\": \"weiblich\", \"sum_WBev\": 4}, {\"GueltigAbDat\": \"2021-10-24T00:00:00\", \"GueltigAbDatJahr\": 2021, \"GueltigAbDatMM\": 10, \"SexLang\": \"weiblich\", \"sum_WBev\": 4}, {\"GueltigAbDat\": \"2021-10-05T00:00:00\", \"GueltigAbDatJahr\": 2021, \"GueltigAbDatMM\": 10, \"SexLang\": \"weiblich\", \"sum_WBev\": 4}, {\"GueltigAbDat\": \"2021-09-05T00:00:00\", \"GueltigAbDatJahr\": 2021, \"GueltigAbDatMM\": 9, \"SexLang\": \"m\\u00e4nnlich\", \"sum_WBev\": 4}, {\"GueltigAbDat\": \"2021-11-13T00:00:00\", \"GueltigAbDatJahr\": 2021, \"GueltigAbDatMM\": 11, \"SexLang\": \"m\\u00e4nnlich\", \"sum_WBev\": 4}, {\"GueltigAbDat\": \"2020-11-25T00:00:00\", \"GueltigAbDatJahr\": 2020, \"GueltigAbDatMM\": 11, \"SexLang\": \"m\\u00e4nnlich\", \"sum_WBev\": 4}, {\"GueltigAbDat\": \"2021-09-04T00:00:00\", \"GueltigAbDatJahr\": 2021, \"GueltigAbDatMM\": 9, \"SexLang\": \"m\\u00e4nnlich\", \"sum_WBev\": 4}, {\"GueltigAbDat\": \"2021-06-01T00:00:00\", \"GueltigAbDatJahr\": 2021, \"GueltigAbDatMM\": 6, \"SexLang\": \"weiblich\", \"sum_WBev\": 4}, {\"GueltigAbDat\": \"2021-11-14T00:00:00\", \"GueltigAbDatJahr\": 2021, \"GueltigAbDatMM\": 11, \"SexLang\": \"m\\u00e4nnlich\", \"sum_WBev\": 4}, {\"GueltigAbDat\": \"2020-11-29T00:00:00\", \"GueltigAbDatJahr\": 2020, \"GueltigAbDatMM\": 11, \"SexLang\": \"m\\u00e4nnlich\", \"sum_WBev\": 4}, {\"GueltigAbDat\": \"2021-03-14T00:00:00\", \"GueltigAbDatJahr\": 2021, \"GueltigAbDatMM\": 3, \"SexLang\": \"m\\u00e4nnlich\", \"sum_WBev\": 4}, {\"GueltigAbDat\": \"2021-05-26T00:00:00\", \"GueltigAbDatJahr\": 2021, \"GueltigAbDatMM\": 5, \"SexLang\": \"m\\u00e4nnlich\", \"sum_WBev\": 4}, {\"GueltigAbDat\": \"2021-11-11T00:00:00\", \"GueltigAbDatJahr\": 2021, \"GueltigAbDatMM\": 11, \"SexLang\": \"weiblich\", \"sum_WBev\": 4}, {\"GueltigAbDat\": \"2021-10-03T00:00:00\", \"GueltigAbDatJahr\": 2021, \"GueltigAbDatMM\": 10, \"SexLang\": \"weiblich\", \"sum_WBev\": 4}, {\"GueltigAbDat\": \"2021-06-05T00:00:00\", \"GueltigAbDatJahr\": 2021, \"GueltigAbDatMM\": 6, \"SexLang\": \"m\\u00e4nnlich\", \"sum_WBev\": 4}, {\"GueltigAbDat\": \"2021-05-29T00:00:00\", \"GueltigAbDatJahr\": 2021, \"GueltigAbDatMM\": 5, \"SexLang\": \"weiblich\", \"sum_WBev\": 4}, {\"GueltigAbDat\": \"2021-03-19T00:00:00\", \"GueltigAbDatJahr\": 2021, \"GueltigAbDatMM\": 3, \"SexLang\": \"m\\u00e4nnlich\", \"sum_WBev\": 4}, {\"GueltigAbDat\": \"2021-09-10T00:00:00\", \"GueltigAbDatJahr\": 2021, \"GueltigAbDatMM\": 9, \"SexLang\": \"weiblich\", \"sum_WBev\": 4}, {\"GueltigAbDat\": \"2021-11-14T00:00:00\", \"GueltigAbDatJahr\": 2021, \"GueltigAbDatMM\": 11, \"SexLang\": \"weiblich\", \"sum_WBev\": 4}, {\"GueltigAbDat\": \"2021-10-06T00:00:00\", \"GueltigAbDatJahr\": 2021, \"GueltigAbDatMM\": 10, \"SexLang\": \"m\\u00e4nnlich\", \"sum_WBev\": 4}, {\"GueltigAbDat\": \"2021-09-09T00:00:00\", \"GueltigAbDatJahr\": 2021, \"GueltigAbDatMM\": 9, \"SexLang\": \"weiblich\", \"sum_WBev\": 4}, {\"GueltigAbDat\": \"2021-05-16T00:00:00\", \"GueltigAbDatJahr\": 2021, \"GueltigAbDatMM\": 5, \"SexLang\": \"weiblich\", \"sum_WBev\": 4}, {\"GueltigAbDat\": \"2020-11-02T00:00:00\", \"GueltigAbDatJahr\": 2020, \"GueltigAbDatMM\": 11, \"SexLang\": \"m\\u00e4nnlich\", \"sum_WBev\": 4}, {\"GueltigAbDat\": \"2021-01-17T00:00:00\", \"GueltigAbDatJahr\": 2021, \"GueltigAbDatMM\": 1, \"SexLang\": \"m\\u00e4nnlich\", \"sum_WBev\": 4}, {\"GueltigAbDat\": \"2021-09-08T00:00:00\", \"GueltigAbDatJahr\": 2021, \"GueltigAbDatMM\": 9, \"SexLang\": \"weiblich\", \"sum_WBev\": 4}, {\"GueltigAbDat\": \"2020-12-11T00:00:00\", \"GueltigAbDatJahr\": 2020, \"GueltigAbDatMM\": 12, \"SexLang\": \"weiblich\", \"sum_WBev\": 4}, {\"GueltigAbDat\": \"2021-05-18T00:00:00\", \"GueltigAbDatJahr\": 2021, \"GueltigAbDatMM\": 5, \"SexLang\": \"weiblich\", \"sum_WBev\": 4}, {\"GueltigAbDat\": \"2021-09-05T00:00:00\", \"GueltigAbDatJahr\": 2021, \"GueltigAbDatMM\": 9, \"SexLang\": \"weiblich\", \"sum_WBev\": 3}, {\"GueltigAbDat\": \"2020-11-04T00:00:00\", \"GueltigAbDatJahr\": 2020, \"GueltigAbDatMM\": 11, \"SexLang\": \"weiblich\", \"sum_WBev\": 3}, {\"GueltigAbDat\": \"2020-11-06T00:00:00\", \"GueltigAbDatJahr\": 2020, \"GueltigAbDatMM\": 11, \"SexLang\": \"m\\u00e4nnlich\", \"sum_WBev\": 3}, {\"GueltigAbDat\": \"2021-08-04T00:00:00\", \"GueltigAbDatJahr\": 2021, \"GueltigAbDatMM\": 8, \"SexLang\": \"m\\u00e4nnlich\", \"sum_WBev\": 3}, {\"GueltigAbDat\": \"2021-09-03T00:00:00\", \"GueltigAbDatJahr\": 2021, \"GueltigAbDatMM\": 9, \"SexLang\": \"m\\u00e4nnlich\", \"sum_WBev\": 3}, {\"GueltigAbDat\": \"2020-11-27T00:00:00\", \"GueltigAbDatJahr\": 2020, \"GueltigAbDatMM\": 11, \"SexLang\": \"weiblich\", \"sum_WBev\": 3}, {\"GueltigAbDat\": \"2020-12-17T00:00:00\", \"GueltigAbDatJahr\": 2020, \"GueltigAbDatMM\": 12, \"SexLang\": \"m\\u00e4nnlich\", \"sum_WBev\": 3}, {\"GueltigAbDat\": \"2021-09-25T00:00:00\", \"GueltigAbDatJahr\": 2021, \"GueltigAbDatMM\": 9, \"SexLang\": \"weiblich\", \"sum_WBev\": 3}, {\"GueltigAbDat\": \"2020-12-01T00:00:00\", \"GueltigAbDatJahr\": 2020, \"GueltigAbDatMM\": 12, \"SexLang\": \"m\\u00e4nnlich\", \"sum_WBev\": 3}, {\"GueltigAbDat\": \"2020-11-07T00:00:00\", \"GueltigAbDatJahr\": 2020, \"GueltigAbDatMM\": 11, \"SexLang\": \"m\\u00e4nnlich\", \"sum_WBev\": 3}, {\"GueltigAbDat\": \"2021-08-06T00:00:00\", \"GueltigAbDatJahr\": 2021, \"GueltigAbDatMM\": 8, \"SexLang\": \"weiblich\", \"sum_WBev\": 3}, {\"GueltigAbDat\": \"2021-09-12T00:00:00\", \"GueltigAbDatJahr\": 2021, \"GueltigAbDatMM\": 9, \"SexLang\": \"m\\u00e4nnlich\", \"sum_WBev\": 3}, {\"GueltigAbDat\": \"2021-10-10T00:00:00\", \"GueltigAbDatJahr\": 2021, \"GueltigAbDatMM\": 10, \"SexLang\": \"m\\u00e4nnlich\", \"sum_WBev\": 3}, {\"GueltigAbDat\": \"2021-08-07T00:00:00\", \"GueltigAbDatJahr\": 2021, \"GueltigAbDatMM\": 8, \"SexLang\": \"m\\u00e4nnlich\", \"sum_WBev\": 3}, {\"GueltigAbDat\": \"2021-09-19T00:00:00\", \"GueltigAbDatJahr\": 2021, \"GueltigAbDatMM\": 9, \"SexLang\": \"weiblich\", \"sum_WBev\": 3}, {\"GueltigAbDat\": \"2020-11-21T00:00:00\", \"GueltigAbDatJahr\": 2020, \"GueltigAbDatMM\": 11, \"SexLang\": \"weiblich\", \"sum_WBev\": 3}, {\"GueltigAbDat\": \"2021-10-07T00:00:00\", \"GueltigAbDatJahr\": 2021, \"GueltigAbDatMM\": 10, \"SexLang\": \"weiblich\", \"sum_WBev\": 3}, {\"GueltigAbDat\": \"2021-09-11T00:00:00\", \"GueltigAbDatJahr\": 2021, \"GueltigAbDatMM\": 9, \"SexLang\": \"m\\u00e4nnlich\", \"sum_WBev\": 3}, {\"GueltigAbDat\": \"2021-09-10T00:00:00\", \"GueltigAbDatJahr\": 2021, \"GueltigAbDatMM\": 9, \"SexLang\": \"m\\u00e4nnlich\", \"sum_WBev\": 3}, {\"GueltigAbDat\": \"2021-08-28T00:00:00\", \"GueltigAbDatJahr\": 2021, \"GueltigAbDatMM\": 8, \"SexLang\": \"weiblich\", \"sum_WBev\": 3}, {\"GueltigAbDat\": \"2021-10-09T00:00:00\", \"GueltigAbDatJahr\": 2021, \"GueltigAbDatMM\": 10, \"SexLang\": \"m\\u00e4nnlich\", \"sum_WBev\": 3}, {\"GueltigAbDat\": \"2021-08-22T00:00:00\", \"GueltigAbDatJahr\": 2021, \"GueltigAbDatMM\": 8, \"SexLang\": \"m\\u00e4nnlich\", \"sum_WBev\": 3}, {\"GueltigAbDat\": \"2021-09-15T00:00:00\", \"GueltigAbDatJahr\": 2021, \"GueltigAbDatMM\": 9, \"SexLang\": \"m\\u00e4nnlich\", \"sum_WBev\": 3}, {\"GueltigAbDat\": \"2021-08-23T00:00:00\", \"GueltigAbDatJahr\": 2021, \"GueltigAbDatMM\": 8, \"SexLang\": \"weiblich\", \"sum_WBev\": 3}, {\"GueltigAbDat\": \"2021-09-07T00:00:00\", \"GueltigAbDatJahr\": 2021, \"GueltigAbDatMM\": 9, \"SexLang\": \"m\\u00e4nnlich\", \"sum_WBev\": 3}, {\"GueltigAbDat\": \"2021-08-24T00:00:00\", \"GueltigAbDatJahr\": 2021, \"GueltigAbDatMM\": 8, \"SexLang\": \"m\\u00e4nnlich\", \"sum_WBev\": 3}, {\"GueltigAbDat\": \"2021-09-17T00:00:00\", \"GueltigAbDatJahr\": 2021, \"GueltigAbDatMM\": 9, \"SexLang\": \"m\\u00e4nnlich\", \"sum_WBev\": 3}, {\"GueltigAbDat\": \"2021-08-10T00:00:00\", \"GueltigAbDatJahr\": 2021, \"GueltigAbDatMM\": 8, \"SexLang\": \"m\\u00e4nnlich\", \"sum_WBev\": 3}, {\"GueltigAbDat\": \"2021-08-09T00:00:00\", \"GueltigAbDatJahr\": 2021, \"GueltigAbDatMM\": 8, \"SexLang\": \"weiblich\", \"sum_WBev\": 3}, {\"GueltigAbDat\": \"2020-11-13T00:00:00\", \"GueltigAbDatJahr\": 2020, \"GueltigAbDatMM\": 11, \"SexLang\": \"m\\u00e4nnlich\", \"sum_WBev\": 3}, {\"GueltigAbDat\": \"2020-11-12T00:00:00\", \"GueltigAbDatJahr\": 2020, \"GueltigAbDatMM\": 11, \"SexLang\": \"weiblich\", \"sum_WBev\": 3}, {\"GueltigAbDat\": \"2021-08-18T00:00:00\", \"GueltigAbDatJahr\": 2021, \"GueltigAbDatMM\": 8, \"SexLang\": \"weiblich\", \"sum_WBev\": 3}, {\"GueltigAbDat\": \"2021-11-25T00:00:00\", \"GueltigAbDatJahr\": 2021, \"GueltigAbDatMM\": 11, \"SexLang\": \"m\\u00e4nnlich\", \"sum_WBev\": 3}, {\"GueltigAbDat\": \"2021-09-19T00:00:00\", \"GueltigAbDatJahr\": 2021, \"GueltigAbDatMM\": 9, \"SexLang\": \"m\\u00e4nnlich\", \"sum_WBev\": 3}, {\"GueltigAbDat\": \"2021-10-06T00:00:00\", \"GueltigAbDatJahr\": 2021, \"GueltigAbDatMM\": 10, \"SexLang\": \"weiblich\", \"sum_WBev\": 3}, {\"GueltigAbDat\": \"2021-07-06T00:00:00\", \"GueltigAbDatJahr\": 2021, \"GueltigAbDatMM\": 7, \"SexLang\": \"m\\u00e4nnlich\", \"sum_WBev\": 3}, {\"GueltigAbDat\": \"2021-01-17T00:00:00\", \"GueltigAbDatJahr\": 2021, \"GueltigAbDatMM\": 1, \"SexLang\": \"weiblich\", \"sum_WBev\": 3}, {\"GueltigAbDat\": \"2021-10-25T00:00:00\", \"GueltigAbDatJahr\": 2021, \"GueltigAbDatMM\": 10, \"SexLang\": \"weiblich\", \"sum_WBev\": 3}, {\"GueltigAbDat\": \"2021-05-13T00:00:00\", \"GueltigAbDatJahr\": 2021, \"GueltigAbDatMM\": 5, \"SexLang\": \"m\\u00e4nnlich\", \"sum_WBev\": 3}, {\"GueltigAbDat\": \"2021-10-29T00:00:00\", \"GueltigAbDatJahr\": 2021, \"GueltigAbDatMM\": 10, \"SexLang\": \"weiblich\", \"sum_WBev\": 3}, {\"GueltigAbDat\": \"2021-03-23T00:00:00\", \"GueltigAbDatJahr\": 2021, \"GueltigAbDatMM\": 3, \"SexLang\": \"weiblich\", \"sum_WBev\": 3}, {\"GueltigAbDat\": \"2021-03-23T00:00:00\", \"GueltigAbDatJahr\": 2021, \"GueltigAbDatMM\": 3, \"SexLang\": \"m\\u00e4nnlich\", \"sum_WBev\": 3}, {\"GueltigAbDat\": \"2021-05-18T00:00:00\", \"GueltigAbDatJahr\": 2021, \"GueltigAbDatMM\": 5, \"SexLang\": \"m\\u00e4nnlich\", \"sum_WBev\": 3}, {\"GueltigAbDat\": \"2021-05-20T00:00:00\", \"GueltigAbDatJahr\": 2021, \"GueltigAbDatMM\": 5, \"SexLang\": \"weiblich\", \"sum_WBev\": 3}, {\"GueltigAbDat\": \"2021-05-21T00:00:00\", \"GueltigAbDatJahr\": 2021, \"GueltigAbDatMM\": 5, \"SexLang\": \"m\\u00e4nnlich\", \"sum_WBev\": 3}, {\"GueltigAbDat\": \"2021-03-19T00:00:00\", \"GueltigAbDatJahr\": 2021, \"GueltigAbDatMM\": 3, \"SexLang\": \"weiblich\", \"sum_WBev\": 3}, {\"GueltigAbDat\": \"2021-05-22T00:00:00\", \"GueltigAbDatJahr\": 2021, \"GueltigAbDatMM\": 5, \"SexLang\": \"m\\u00e4nnlich\", \"sum_WBev\": 3}, {\"GueltigAbDat\": \"2021-03-18T00:00:00\", \"GueltigAbDatJahr\": 2021, \"GueltigAbDatMM\": 3, \"SexLang\": \"m\\u00e4nnlich\", \"sum_WBev\": 3}, {\"GueltigAbDat\": \"2021-11-12T00:00:00\", \"GueltigAbDatJahr\": 2021, \"GueltigAbDatMM\": 11, \"SexLang\": \"weiblich\", \"sum_WBev\": 3}, {\"GueltigAbDat\": \"2021-05-10T00:00:00\", \"GueltigAbDatJahr\": 2021, \"GueltigAbDatMM\": 5, \"SexLang\": \"weiblich\", \"sum_WBev\": 3}, {\"GueltigAbDat\": \"2021-05-28T00:00:00\", \"GueltigAbDatJahr\": 2021, \"GueltigAbDatMM\": 5, \"SexLang\": \"m\\u00e4nnlich\", \"sum_WBev\": 3}, {\"GueltigAbDat\": \"2021-05-29T00:00:00\", \"GueltigAbDatJahr\": 2021, \"GueltigAbDatMM\": 5, \"SexLang\": \"m\\u00e4nnlich\", \"sum_WBev\": 3}, {\"GueltigAbDat\": \"2021-10-25T00:00:00\", \"GueltigAbDatJahr\": 2021, \"GueltigAbDatMM\": 10, \"SexLang\": \"m\\u00e4nnlich\", \"sum_WBev\": 3}, {\"GueltigAbDat\": \"2021-11-13T00:00:00\", \"GueltigAbDatJahr\": 2021, \"GueltigAbDatMM\": 11, \"SexLang\": \"weiblich\", \"sum_WBev\": 3}, {\"GueltigAbDat\": \"2021-05-31T00:00:00\", \"GueltigAbDatJahr\": 2021, \"GueltigAbDatMM\": 5, \"SexLang\": \"weiblich\", \"sum_WBev\": 3}, {\"GueltigAbDat\": \"2021-06-01T00:00:00\", \"GueltigAbDatJahr\": 2021, \"GueltigAbDatMM\": 6, \"SexLang\": \"m\\u00e4nnlich\", \"sum_WBev\": 3}, {\"GueltigAbDat\": \"2021-06-02T00:00:00\", \"GueltigAbDatJahr\": 2021, \"GueltigAbDatMM\": 6, \"SexLang\": \"m\\u00e4nnlich\", \"sum_WBev\": 3}, {\"GueltigAbDat\": \"2021-03-12T00:00:00\", \"GueltigAbDatJahr\": 2021, \"GueltigAbDatMM\": 3, \"SexLang\": \"weiblich\", \"sum_WBev\": 3}, {\"GueltigAbDat\": \"2021-06-03T00:00:00\", \"GueltigAbDatJahr\": 2021, \"GueltigAbDatMM\": 6, \"SexLang\": \"weiblich\", \"sum_WBev\": 3}, {\"GueltigAbDat\": \"2021-06-04T00:00:00\", \"GueltigAbDatJahr\": 2021, \"GueltigAbDatMM\": 6, \"SexLang\": \"m\\u00e4nnlich\", \"sum_WBev\": 3}, {\"GueltigAbDat\": \"2021-03-25T00:00:00\", \"GueltigAbDatJahr\": 2021, \"GueltigAbDatMM\": 3, \"SexLang\": \"m\\u00e4nnlich\", \"sum_WBev\": 3}, {\"GueltigAbDat\": \"2021-03-28T00:00:00\", \"GueltigAbDatJahr\": 2021, \"GueltigAbDatMM\": 3, \"SexLang\": \"m\\u00e4nnlich\", \"sum_WBev\": 3}, {\"GueltigAbDat\": \"2021-06-05T00:00:00\", \"GueltigAbDatJahr\": 2021, \"GueltigAbDatMM\": 6, \"SexLang\": \"weiblich\", \"sum_WBev\": 3}, {\"GueltigAbDat\": \"2021-11-02T00:00:00\", \"GueltigAbDatJahr\": 2021, \"GueltigAbDatMM\": 11, \"SexLang\": \"m\\u00e4nnlich\", \"sum_WBev\": 3}, {\"GueltigAbDat\": \"2021-04-13T00:00:00\", \"GueltigAbDatJahr\": 2021, \"GueltigAbDatMM\": 4, \"SexLang\": \"weiblich\", \"sum_WBev\": 3}, {\"GueltigAbDat\": \"2021-04-14T00:00:00\", \"GueltigAbDatJahr\": 2021, \"GueltigAbDatMM\": 4, \"SexLang\": \"m\\u00e4nnlich\", \"sum_WBev\": 3}, {\"GueltigAbDat\": \"2021-09-29T00:00:00\", \"GueltigAbDatJahr\": 2021, \"GueltigAbDatMM\": 9, \"SexLang\": \"weiblich\", \"sum_WBev\": 3}, {\"GueltigAbDat\": \"2021-04-15T00:00:00\", \"GueltigAbDatJahr\": 2021, \"GueltigAbDatMM\": 4, \"SexLang\": \"m\\u00e4nnlich\", \"sum_WBev\": 3}, {\"GueltigAbDat\": \"2021-11-04T00:00:00\", \"GueltigAbDatJahr\": 2021, \"GueltigAbDatMM\": 11, \"SexLang\": \"m\\u00e4nnlich\", \"sum_WBev\": 3}, {\"GueltigAbDat\": \"2021-11-03T00:00:00\", \"GueltigAbDatJahr\": 2021, \"GueltigAbDatMM\": 11, \"SexLang\": \"weiblich\", \"sum_WBev\": 3}, {\"GueltigAbDat\": \"2021-11-06T00:00:00\", \"GueltigAbDatJahr\": 2021, \"GueltigAbDatMM\": 11, \"SexLang\": \"m\\u00e4nnlich\", \"sum_WBev\": 3}, {\"GueltigAbDat\": \"2021-04-20T00:00:00\", \"GueltigAbDatJahr\": 2021, \"GueltigAbDatMM\": 4, \"SexLang\": \"m\\u00e4nnlich\", \"sum_WBev\": 3}, {\"GueltigAbDat\": \"2021-04-20T00:00:00\", \"GueltigAbDatJahr\": 2021, \"GueltigAbDatMM\": 4, \"SexLang\": \"weiblich\", \"sum_WBev\": 3}, {\"GueltigAbDat\": \"2021-11-02T00:00:00\", \"GueltigAbDatJahr\": 2021, \"GueltigAbDatMM\": 11, \"SexLang\": \"weiblich\", \"sum_WBev\": 3}, {\"GueltigAbDat\": \"2021-11-06T00:00:00\", \"GueltigAbDatJahr\": 2021, \"GueltigAbDatMM\": 11, \"SexLang\": \"weiblich\", \"sum_WBev\": 3}, {\"GueltigAbDat\": \"2021-11-09T00:00:00\", \"GueltigAbDatJahr\": 2021, \"GueltigAbDatMM\": 11, \"SexLang\": \"m\\u00e4nnlich\", \"sum_WBev\": 3}, {\"GueltigAbDat\": \"2021-04-03T00:00:00\", \"GueltigAbDatJahr\": 2021, \"GueltigAbDatMM\": 4, \"SexLang\": \"m\\u00e4nnlich\", \"sum_WBev\": 3}, {\"GueltigAbDat\": \"2021-11-01T00:00:00\", \"GueltigAbDatJahr\": 2021, \"GueltigAbDatMM\": 11, \"SexLang\": \"m\\u00e4nnlich\", \"sum_WBev\": 3}, {\"GueltigAbDat\": \"2021-04-02T00:00:00\", \"GueltigAbDatJahr\": 2021, \"GueltigAbDatMM\": 4, \"SexLang\": \"weiblich\", \"sum_WBev\": 3}, {\"GueltigAbDat\": \"2021-04-27T00:00:00\", \"GueltigAbDatJahr\": 2021, \"GueltigAbDatMM\": 4, \"SexLang\": \"weiblich\", \"sum_WBev\": 3}, {\"GueltigAbDat\": \"2021-04-28T00:00:00\", \"GueltigAbDatJahr\": 2021, \"GueltigAbDatMM\": 4, \"SexLang\": \"weiblich\", \"sum_WBev\": 3}, {\"GueltigAbDat\": \"2021-04-29T00:00:00\", \"GueltigAbDatJahr\": 2021, \"GueltigAbDatMM\": 4, \"SexLang\": \"m\\u00e4nnlich\", \"sum_WBev\": 3}, {\"GueltigAbDat\": \"2021-05-01T00:00:00\", \"GueltigAbDatJahr\": 2021, \"GueltigAbDatMM\": 5, \"SexLang\": \"m\\u00e4nnlich\", \"sum_WBev\": 3}, {\"GueltigAbDat\": \"2021-04-01T00:00:00\", \"GueltigAbDatJahr\": 2021, \"GueltigAbDatMM\": 4, \"SexLang\": \"m\\u00e4nnlich\", \"sum_WBev\": 3}, {\"GueltigAbDat\": \"2021-03-31T00:00:00\", \"GueltigAbDatJahr\": 2021, \"GueltigAbDatMM\": 3, \"SexLang\": \"m\\u00e4nnlich\", \"sum_WBev\": 3}, {\"GueltigAbDat\": \"2021-03-30T00:00:00\", \"GueltigAbDatJahr\": 2021, \"GueltigAbDatMM\": 3, \"SexLang\": \"weiblich\", \"sum_WBev\": 3}, {\"GueltigAbDat\": \"2021-10-12T00:00:00\", \"GueltigAbDatJahr\": 2021, \"GueltigAbDatMM\": 10, \"SexLang\": \"weiblich\", \"sum_WBev\": 3}, {\"GueltigAbDat\": \"2021-10-24T00:00:00\", \"GueltigAbDatJahr\": 2021, \"GueltigAbDatMM\": 10, \"SexLang\": \"m\\u00e4nnlich\", \"sum_WBev\": 3}, {\"GueltigAbDat\": \"2021-04-14T00:00:00\", \"GueltigAbDatJahr\": 2021, \"GueltigAbDatMM\": 4, \"SexLang\": \"weiblich\", \"sum_WBev\": 3}, {\"GueltigAbDat\": \"2021-07-17T00:00:00\", \"GueltigAbDatJahr\": 2021, \"GueltigAbDatMM\": 7, \"SexLang\": \"m\\u00e4nnlich\", \"sum_WBev\": 3}, {\"GueltigAbDat\": \"2021-02-03T00:00:00\", \"GueltigAbDatJahr\": 2021, \"GueltigAbDatMM\": 2, \"SexLang\": \"weiblich\", \"sum_WBev\": 3}, {\"GueltigAbDat\": \"2021-11-19T00:00:00\", \"GueltigAbDatJahr\": 2021, \"GueltigAbDatMM\": 11, \"SexLang\": \"m\\u00e4nnlich\", \"sum_WBev\": 3}, {\"GueltigAbDat\": \"2021-07-01T00:00:00\", \"GueltigAbDatJahr\": 2021, \"GueltigAbDatMM\": 7, \"SexLang\": \"m\\u00e4nnlich\", \"sum_WBev\": 3}, {\"GueltigAbDat\": \"2021-02-21T00:00:00\", \"GueltigAbDatJahr\": 2021, \"GueltigAbDatMM\": 2, \"SexLang\": \"m\\u00e4nnlich\", \"sum_WBev\": 3}, {\"GueltigAbDat\": \"2021-02-05T00:00:00\", \"GueltigAbDatJahr\": 2021, \"GueltigAbDatMM\": 2, \"SexLang\": \"weiblich\", \"sum_WBev\": 3}, {\"GueltigAbDat\": \"2021-11-21T00:00:00\", \"GueltigAbDatJahr\": 2021, \"GueltigAbDatMM\": 11, \"SexLang\": \"weiblich\", \"sum_WBev\": 3}, {\"GueltigAbDat\": \"2021-07-04T00:00:00\", \"GueltigAbDatJahr\": 2021, \"GueltigAbDatMM\": 7, \"SexLang\": \"weiblich\", \"sum_WBev\": 3}, {\"GueltigAbDat\": \"2021-07-05T00:00:00\", \"GueltigAbDatJahr\": 2021, \"GueltigAbDatMM\": 7, \"SexLang\": \"m\\u00e4nnlich\", \"sum_WBev\": 3}, {\"GueltigAbDat\": \"2021-04-12T00:00:00\", \"GueltigAbDatJahr\": 2021, \"GueltigAbDatMM\": 4, \"SexLang\": \"weiblich\", \"sum_WBev\": 3}, {\"GueltigAbDat\": \"2021-02-01T00:00:00\", \"GueltigAbDatJahr\": 2021, \"GueltigAbDatMM\": 2, \"SexLang\": \"m\\u00e4nnlich\", \"sum_WBev\": 3}, {\"GueltigAbDat\": \"2021-02-08T00:00:00\", \"GueltigAbDatJahr\": 2021, \"GueltigAbDatMM\": 2, \"SexLang\": \"m\\u00e4nnlich\", \"sum_WBev\": 3}, {\"GueltigAbDat\": \"2021-02-17T00:00:00\", \"GueltigAbDatJahr\": 2021, \"GueltigAbDatMM\": 2, \"SexLang\": \"weiblich\", \"sum_WBev\": 3}, {\"GueltigAbDat\": \"2021-02-15T00:00:00\", \"GueltigAbDatJahr\": 2021, \"GueltigAbDatMM\": 2, \"SexLang\": \"m\\u00e4nnlich\", \"sum_WBev\": 3}, {\"GueltigAbDat\": \"2021-02-13T00:00:00\", \"GueltigAbDatJahr\": 2021, \"GueltigAbDatMM\": 2, \"SexLang\": \"m\\u00e4nnlich\", \"sum_WBev\": 3}, {\"GueltigAbDat\": \"2021-07-11T00:00:00\", \"GueltigAbDatJahr\": 2021, \"GueltigAbDatMM\": 7, \"SexLang\": \"weiblich\", \"sum_WBev\": 3}, {\"GueltigAbDat\": \"2021-02-12T00:00:00\", \"GueltigAbDatJahr\": 2021, \"GueltigAbDatMM\": 2, \"SexLang\": \"m\\u00e4nnlich\", \"sum_WBev\": 3}, {\"GueltigAbDat\": \"2021-02-10T00:00:00\", \"GueltigAbDatJahr\": 2021, \"GueltigAbDatMM\": 2, \"SexLang\": \"m\\u00e4nnlich\", \"sum_WBev\": 3}, {\"GueltigAbDat\": \"2021-07-14T00:00:00\", \"GueltigAbDatJahr\": 2021, \"GueltigAbDatMM\": 7, \"SexLang\": \"m\\u00e4nnlich\", \"sum_WBev\": 3}, {\"GueltigAbDat\": \"2021-02-09T00:00:00\", \"GueltigAbDatJahr\": 2021, \"GueltigAbDatMM\": 2, \"SexLang\": \"weiblich\", \"sum_WBev\": 3}, {\"GueltigAbDat\": \"2021-02-01T00:00:00\", \"GueltigAbDatJahr\": 2021, \"GueltigAbDatMM\": 2, \"SexLang\": \"weiblich\", \"sum_WBev\": 3}, {\"GueltigAbDat\": \"2021-06-28T00:00:00\", \"GueltigAbDatJahr\": 2021, \"GueltigAbDatMM\": 6, \"SexLang\": \"m\\u00e4nnlich\", \"sum_WBev\": 3}, {\"GueltigAbDat\": \"2021-06-16T00:00:00\", \"GueltigAbDatJahr\": 2021, \"GueltigAbDatMM\": 6, \"SexLang\": \"weiblich\", \"sum_WBev\": 3}, {\"GueltigAbDat\": \"2021-06-07T00:00:00\", \"GueltigAbDatJahr\": 2021, \"GueltigAbDatMM\": 6, \"SexLang\": \"m\\u00e4nnlich\", \"sum_WBev\": 3}, {\"GueltigAbDat\": \"2021-03-11T00:00:00\", \"GueltigAbDatJahr\": 2021, \"GueltigAbDatMM\": 3, \"SexLang\": \"m\\u00e4nnlich\", \"sum_WBev\": 3}, {\"GueltigAbDat\": \"2021-01-30T00:00:00\", \"GueltigAbDatJahr\": 2021, \"GueltigAbDatMM\": 1, \"SexLang\": \"weiblich\", \"sum_WBev\": 3}, {\"GueltigAbDat\": \"2021-01-31T00:00:00\", \"GueltigAbDatJahr\": 2021, \"GueltigAbDatMM\": 1, \"SexLang\": \"weiblich\", \"sum_WBev\": 3}, {\"GueltigAbDat\": \"2021-03-10T00:00:00\", \"GueltigAbDatJahr\": 2021, \"GueltigAbDatMM\": 3, \"SexLang\": \"weiblich\", \"sum_WBev\": 3}, {\"GueltigAbDat\": \"2021-03-10T00:00:00\", \"GueltigAbDatJahr\": 2021, \"GueltigAbDatMM\": 3, \"SexLang\": \"m\\u00e4nnlich\", \"sum_WBev\": 3}, {\"GueltigAbDat\": \"2021-03-08T00:00:00\", \"GueltigAbDatJahr\": 2021, \"GueltigAbDatMM\": 3, \"SexLang\": \"m\\u00e4nnlich\", \"sum_WBev\": 3}, {\"GueltigAbDat\": \"2021-03-07T00:00:00\", \"GueltigAbDatJahr\": 2021, \"GueltigAbDatMM\": 3, \"SexLang\": \"m\\u00e4nnlich\", \"sum_WBev\": 3}, {\"GueltigAbDat\": \"2021-10-14T00:00:00\", \"GueltigAbDatJahr\": 2021, \"GueltigAbDatMM\": 10, \"SexLang\": \"weiblich\", \"sum_WBev\": 3}, {\"GueltigAbDat\": \"2021-03-03T00:00:00\", \"GueltigAbDatJahr\": 2021, \"GueltigAbDatMM\": 3, \"SexLang\": \"m\\u00e4nnlich\", \"sum_WBev\": 3}, {\"GueltigAbDat\": \"2021-06-20T00:00:00\", \"GueltigAbDatJahr\": 2021, \"GueltigAbDatMM\": 6, \"SexLang\": \"m\\u00e4nnlich\", \"sum_WBev\": 3}, {\"GueltigAbDat\": \"2021-03-01T00:00:00\", \"GueltigAbDatJahr\": 2021, \"GueltigAbDatMM\": 3, \"SexLang\": \"m\\u00e4nnlich\", \"sum_WBev\": 3}, {\"GueltigAbDat\": \"2021-11-17T00:00:00\", \"GueltigAbDatJahr\": 2021, \"GueltigAbDatMM\": 11, \"SexLang\": \"m\\u00e4nnlich\", \"sum_WBev\": 3}, {\"GueltigAbDat\": \"2021-02-25T00:00:00\", \"GueltigAbDatJahr\": 2021, \"GueltigAbDatMM\": 2, \"SexLang\": \"weiblich\", \"sum_WBev\": 3}, {\"GueltigAbDat\": \"2021-06-24T00:00:00\", \"GueltigAbDatJahr\": 2021, \"GueltigAbDatMM\": 6, \"SexLang\": \"weiblich\", \"sum_WBev\": 3}, {\"GueltigAbDat\": \"2021-10-18T00:00:00\", \"GueltigAbDatJahr\": 2021, \"GueltigAbDatMM\": 10, \"SexLang\": \"m\\u00e4nnlich\", \"sum_WBev\": 3}, {\"GueltigAbDat\": \"2021-06-27T00:00:00\", \"GueltigAbDatJahr\": 2021, \"GueltigAbDatMM\": 6, \"SexLang\": \"weiblich\", \"sum_WBev\": 3}, {\"GueltigAbDat\": \"2021-11-23T00:00:00\", \"GueltigAbDatJahr\": 2021, \"GueltigAbDatMM\": 11, \"SexLang\": \"m\\u00e4nnlich\", \"sum_WBev\": 2}, {\"GueltigAbDat\": \"2021-09-30T00:00:00\", \"GueltigAbDatJahr\": 2021, \"GueltigAbDatMM\": 9, \"SexLang\": \"weiblich\", \"sum_WBev\": 2}, {\"GueltigAbDat\": \"2021-11-30T00:00:00\", \"GueltigAbDatJahr\": 2021, \"GueltigAbDatMM\": 11, \"SexLang\": \"m\\u00e4nnlich\", \"sum_WBev\": 2}, {\"GueltigAbDat\": \"2021-10-23T00:00:00\", \"GueltigAbDatJahr\": 2021, \"GueltigAbDatMM\": 10, \"SexLang\": \"m\\u00e4nnlich\", \"sum_WBev\": 2}, {\"GueltigAbDat\": \"2021-11-29T00:00:00\", \"GueltigAbDatJahr\": 2021, \"GueltigAbDatMM\": 11, \"SexLang\": \"m\\u00e4nnlich\", \"sum_WBev\": 2}, {\"GueltigAbDat\": \"2021-10-16T00:00:00\", \"GueltigAbDatJahr\": 2021, \"GueltigAbDatMM\": 10, \"SexLang\": \"weiblich\", \"sum_WBev\": 2}, {\"GueltigAbDat\": \"2021-10-08T00:00:00\", \"GueltigAbDatJahr\": 2021, \"GueltigAbDatMM\": 10, \"SexLang\": \"m\\u00e4nnlich\", \"sum_WBev\": 2}, {\"GueltigAbDat\": \"2021-10-31T00:00:00\", \"GueltigAbDatJahr\": 2021, \"GueltigAbDatMM\": 10, \"SexLang\": \"weiblich\", \"sum_WBev\": 2}, {\"GueltigAbDat\": \"2021-11-26T00:00:00\", \"GueltigAbDatJahr\": 2021, \"GueltigAbDatMM\": 11, \"SexLang\": \"weiblich\", \"sum_WBev\": 2}, {\"GueltigAbDat\": \"2021-11-19T00:00:00\", \"GueltigAbDatJahr\": 2021, \"GueltigAbDatMM\": 11, \"SexLang\": \"weiblich\", \"sum_WBev\": 2}, {\"GueltigAbDat\": \"2021-10-29T00:00:00\", \"GueltigAbDatJahr\": 2021, \"GueltigAbDatMM\": 10, \"SexLang\": \"m\\u00e4nnlich\", \"sum_WBev\": 2}, {\"GueltigAbDat\": \"2021-10-17T00:00:00\", \"GueltigAbDatJahr\": 2021, \"GueltigAbDatMM\": 10, \"SexLang\": \"m\\u00e4nnlich\", \"sum_WBev\": 2}, {\"GueltigAbDat\": \"2021-11-18T00:00:00\", \"GueltigAbDatJahr\": 2021, \"GueltigAbDatMM\": 11, \"SexLang\": \"m\\u00e4nnlich\", \"sum_WBev\": 2}, {\"GueltigAbDat\": \"2021-11-10T00:00:00\", \"GueltigAbDatJahr\": 2021, \"GueltigAbDatMM\": 11, \"SexLang\": \"weiblich\", \"sum_WBev\": 2}, {\"GueltigAbDat\": \"2021-11-16T00:00:00\", \"GueltigAbDatJahr\": 2021, \"GueltigAbDatMM\": 11, \"SexLang\": \"m\\u00e4nnlich\", \"sum_WBev\": 2}, {\"GueltigAbDat\": \"2021-10-21T00:00:00\", \"GueltigAbDatJahr\": 2021, \"GueltigAbDatMM\": 10, \"SexLang\": \"weiblich\", \"sum_WBev\": 2}, {\"GueltigAbDat\": \"2021-10-22T00:00:00\", \"GueltigAbDatJahr\": 2021, \"GueltigAbDatMM\": 10, \"SexLang\": \"m\\u00e4nnlich\", \"sum_WBev\": 2}, {\"GueltigAbDat\": \"2021-11-20T00:00:00\", \"GueltigAbDatJahr\": 2021, \"GueltigAbDatMM\": 11, \"SexLang\": \"weiblich\", \"sum_WBev\": 2}, {\"GueltigAbDat\": \"2020-11-01T00:00:00\", \"GueltigAbDatJahr\": 2020, \"GueltigAbDatMM\": 11, \"SexLang\": \"m\\u00e4nnlich\", \"sum_WBev\": 2}, {\"GueltigAbDat\": \"2021-09-25T00:00:00\", \"GueltigAbDatJahr\": 2021, \"GueltigAbDatMM\": 9, \"SexLang\": \"m\\u00e4nnlich\", \"sum_WBev\": 2}, {\"GueltigAbDat\": \"2021-04-10T00:00:00\", \"GueltigAbDatJahr\": 2021, \"GueltigAbDatMM\": 4, \"SexLang\": \"m\\u00e4nnlich\", \"sum_WBev\": 2}, {\"GueltigAbDat\": \"2021-03-14T00:00:00\", \"GueltigAbDatJahr\": 2021, \"GueltigAbDatMM\": 3, \"SexLang\": \"weiblich\", \"sum_WBev\": 2}, {\"GueltigAbDat\": \"2021-03-16T00:00:00\", \"GueltigAbDatJahr\": 2021, \"GueltigAbDatMM\": 3, \"SexLang\": \"m\\u00e4nnlich\", \"sum_WBev\": 2}, {\"GueltigAbDat\": \"2021-03-16T00:00:00\", \"GueltigAbDatJahr\": 2021, \"GueltigAbDatMM\": 3, \"SexLang\": \"weiblich\", \"sum_WBev\": 2}, {\"GueltigAbDat\": \"2021-03-26T00:00:00\", \"GueltigAbDatJahr\": 2021, \"GueltigAbDatMM\": 3, \"SexLang\": \"m\\u00e4nnlich\", \"sum_WBev\": 2}, {\"GueltigAbDat\": \"2021-03-29T00:00:00\", \"GueltigAbDatJahr\": 2021, \"GueltigAbDatMM\": 3, \"SexLang\": \"weiblich\", \"sum_WBev\": 2}, {\"GueltigAbDat\": \"2021-03-30T00:00:00\", \"GueltigAbDatJahr\": 2021, \"GueltigAbDatMM\": 3, \"SexLang\": \"m\\u00e4nnlich\", \"sum_WBev\": 2}, {\"GueltigAbDat\": \"2021-04-02T00:00:00\", \"GueltigAbDatJahr\": 2021, \"GueltigAbDatMM\": 4, \"SexLang\": \"m\\u00e4nnlich\", \"sum_WBev\": 2}, {\"GueltigAbDat\": \"2021-04-03T00:00:00\", \"GueltigAbDatJahr\": 2021, \"GueltigAbDatMM\": 4, \"SexLang\": \"weiblich\", \"sum_WBev\": 2}, {\"GueltigAbDat\": \"2021-04-05T00:00:00\", \"GueltigAbDatJahr\": 2021, \"GueltigAbDatMM\": 4, \"SexLang\": \"weiblich\", \"sum_WBev\": 2}, {\"GueltigAbDat\": \"2021-04-08T00:00:00\", \"GueltigAbDatJahr\": 2021, \"GueltigAbDatMM\": 4, \"SexLang\": \"m\\u00e4nnlich\", \"sum_WBev\": 2}, {\"GueltigAbDat\": \"2021-04-11T00:00:00\", \"GueltigAbDatJahr\": 2021, \"GueltigAbDatMM\": 4, \"SexLang\": \"m\\u00e4nnlich\", \"sum_WBev\": 2}, {\"GueltigAbDat\": \"2021-03-13T00:00:00\", \"GueltigAbDatJahr\": 2021, \"GueltigAbDatMM\": 3, \"SexLang\": \"m\\u00e4nnlich\", \"sum_WBev\": 2}, {\"GueltigAbDat\": \"2021-04-16T00:00:00\", \"GueltigAbDatJahr\": 2021, \"GueltigAbDatMM\": 4, \"SexLang\": \"m\\u00e4nnlich\", \"sum_WBev\": 2}, {\"GueltigAbDat\": \"2021-04-16T00:00:00\", \"GueltigAbDatJahr\": 2021, \"GueltigAbDatMM\": 4, \"SexLang\": \"weiblich\", \"sum_WBev\": 2}, {\"GueltigAbDat\": \"2021-04-24T00:00:00\", \"GueltigAbDatJahr\": 2021, \"GueltigAbDatMM\": 4, \"SexLang\": \"m\\u00e4nnlich\", \"sum_WBev\": 2}, {\"GueltigAbDat\": \"2021-05-03T00:00:00\", \"GueltigAbDatJahr\": 2021, \"GueltigAbDatMM\": 5, \"SexLang\": \"weiblich\", \"sum_WBev\": 2}, {\"GueltigAbDat\": \"2021-05-04T00:00:00\", \"GueltigAbDatJahr\": 2021, \"GueltigAbDatMM\": 5, \"SexLang\": \"weiblich\", \"sum_WBev\": 2}, {\"GueltigAbDat\": \"2021-09-24T00:00:00\", \"GueltigAbDatJahr\": 2021, \"GueltigAbDatMM\": 9, \"SexLang\": \"m\\u00e4nnlich\", \"sum_WBev\": 2}, {\"GueltigAbDat\": \"2021-05-11T00:00:00\", \"GueltigAbDatJahr\": 2021, \"GueltigAbDatMM\": 5, \"SexLang\": \"weiblich\", \"sum_WBev\": 2}, {\"GueltigAbDat\": \"2021-05-13T00:00:00\", \"GueltigAbDatJahr\": 2021, \"GueltigAbDatMM\": 5, \"SexLang\": \"weiblich\", \"sum_WBev\": 2}, {\"GueltigAbDat\": \"2021-05-15T00:00:00\", \"GueltigAbDatJahr\": 2021, \"GueltigAbDatMM\": 5, \"SexLang\": \"weiblich\", \"sum_WBev\": 2}, {\"GueltigAbDat\": \"2021-05-22T00:00:00\", \"GueltigAbDatJahr\": 2021, \"GueltigAbDatMM\": 5, \"SexLang\": \"weiblich\", \"sum_WBev\": 2}, {\"GueltigAbDat\": \"2021-03-13T00:00:00\", \"GueltigAbDatJahr\": 2021, \"GueltigAbDatMM\": 3, \"SexLang\": \"weiblich\", \"sum_WBev\": 2}, {\"GueltigAbDat\": \"2021-03-11T00:00:00\", \"GueltigAbDatJahr\": 2021, \"GueltigAbDatMM\": 3, \"SexLang\": \"weiblich\", \"sum_WBev\": 2}, {\"GueltigAbDat\": \"2021-05-24T00:00:00\", \"GueltigAbDatJahr\": 2021, \"GueltigAbDatMM\": 5, \"SexLang\": \"m\\u00e4nnlich\", \"sum_WBev\": 2}, {\"GueltigAbDat\": \"2021-02-03T00:00:00\", \"GueltigAbDatJahr\": 2021, \"GueltigAbDatMM\": 2, \"SexLang\": \"m\\u00e4nnlich\", \"sum_WBev\": 2}, {\"GueltigAbDat\": \"2020-11-04T00:00:00\", \"GueltigAbDatJahr\": 2020, \"GueltigAbDatMM\": 11, \"SexLang\": \"m\\u00e4nnlich\", \"sum_WBev\": 2}, {\"GueltigAbDat\": \"2020-11-07T00:00:00\", \"GueltigAbDatJahr\": 2020, \"GueltigAbDatMM\": 11, \"SexLang\": \"weiblich\", \"sum_WBev\": 2}, {\"GueltigAbDat\": \"2020-11-09T00:00:00\", \"GueltigAbDatJahr\": 2020, \"GueltigAbDatMM\": 11, \"SexLang\": \"weiblich\", \"sum_WBev\": 2}, {\"GueltigAbDat\": \"2020-11-15T00:00:00\", \"GueltigAbDatJahr\": 2020, \"GueltigAbDatMM\": 11, \"SexLang\": \"m\\u00e4nnlich\", \"sum_WBev\": 2}, {\"GueltigAbDat\": \"2020-12-02T00:00:00\", \"GueltigAbDatJahr\": 2020, \"GueltigAbDatMM\": 12, \"SexLang\": \"m\\u00e4nnlich\", \"sum_WBev\": 2}, {\"GueltigAbDat\": \"2020-12-03T00:00:00\", \"GueltigAbDatJahr\": 2020, \"GueltigAbDatMM\": 12, \"SexLang\": \"m\\u00e4nnlich\", \"sum_WBev\": 2}, {\"GueltigAbDat\": \"2020-12-09T00:00:00\", \"GueltigAbDatJahr\": 2020, \"GueltigAbDatMM\": 12, \"SexLang\": \"m\\u00e4nnlich\", \"sum_WBev\": 2}, {\"GueltigAbDat\": \"2020-12-27T00:00:00\", \"GueltigAbDatJahr\": 2020, \"GueltigAbDatMM\": 12, \"SexLang\": \"m\\u00e4nnlich\", \"sum_WBev\": 2}, {\"GueltigAbDat\": \"2020-12-29T00:00:00\", \"GueltigAbDatJahr\": 2020, \"GueltigAbDatMM\": 12, \"SexLang\": \"weiblich\", \"sum_WBev\": 2}, {\"GueltigAbDat\": \"2021-01-30T00:00:00\", \"GueltigAbDatJahr\": 2021, \"GueltigAbDatMM\": 1, \"SexLang\": \"m\\u00e4nnlich\", \"sum_WBev\": 2}, {\"GueltigAbDat\": \"2021-02-04T00:00:00\", \"GueltigAbDatJahr\": 2021, \"GueltigAbDatMM\": 2, \"SexLang\": \"m\\u00e4nnlich\", \"sum_WBev\": 2}, {\"GueltigAbDat\": \"2021-03-04T00:00:00\", \"GueltigAbDatJahr\": 2021, \"GueltigAbDatMM\": 3, \"SexLang\": \"m\\u00e4nnlich\", \"sum_WBev\": 2}, {\"GueltigAbDat\": \"2021-02-06T00:00:00\", \"GueltigAbDatJahr\": 2021, \"GueltigAbDatMM\": 2, \"SexLang\": \"m\\u00e4nnlich\", \"sum_WBev\": 2}, {\"GueltigAbDat\": \"2021-02-11T00:00:00\", \"GueltigAbDatJahr\": 2021, \"GueltigAbDatMM\": 2, \"SexLang\": \"m\\u00e4nnlich\", \"sum_WBev\": 2}, {\"GueltigAbDat\": \"2021-02-18T00:00:00\", \"GueltigAbDatJahr\": 2021, \"GueltigAbDatMM\": 2, \"SexLang\": \"weiblich\", \"sum_WBev\": 2}, {\"GueltigAbDat\": \"2021-02-20T00:00:00\", \"GueltigAbDatJahr\": 2021, \"GueltigAbDatMM\": 2, \"SexLang\": \"m\\u00e4nnlich\", \"sum_WBev\": 2}, {\"GueltigAbDat\": \"2021-02-20T00:00:00\", \"GueltigAbDatJahr\": 2021, \"GueltigAbDatMM\": 2, \"SexLang\": \"weiblich\", \"sum_WBev\": 2}, {\"GueltigAbDat\": \"2021-02-22T00:00:00\", \"GueltigAbDatJahr\": 2021, \"GueltigAbDatMM\": 2, \"SexLang\": \"m\\u00e4nnlich\", \"sum_WBev\": 2}, {\"GueltigAbDat\": \"2021-02-23T00:00:00\", \"GueltigAbDatJahr\": 2021, \"GueltigAbDatMM\": 2, \"SexLang\": \"m\\u00e4nnlich\", \"sum_WBev\": 2}, {\"GueltigAbDat\": \"2021-02-23T00:00:00\", \"GueltigAbDatJahr\": 2021, \"GueltigAbDatMM\": 2, \"SexLang\": \"weiblich\", \"sum_WBev\": 2}, {\"GueltigAbDat\": \"2021-02-27T00:00:00\", \"GueltigAbDatJahr\": 2021, \"GueltigAbDatMM\": 2, \"SexLang\": \"m\\u00e4nnlich\", \"sum_WBev\": 2}, {\"GueltigAbDat\": \"2021-03-03T00:00:00\", \"GueltigAbDatJahr\": 2021, \"GueltigAbDatMM\": 3, \"SexLang\": \"weiblich\", \"sum_WBev\": 2}, {\"GueltigAbDat\": \"2021-05-23T00:00:00\", \"GueltigAbDatJahr\": 2021, \"GueltigAbDatMM\": 5, \"SexLang\": \"m\\u00e4nnlich\", \"sum_WBev\": 2}, {\"GueltigAbDat\": \"2021-05-05T00:00:00\", \"GueltigAbDatJahr\": 2021, \"GueltigAbDatMM\": 5, \"SexLang\": \"m\\u00e4nnlich\", \"sum_WBev\": 2}, {\"GueltigAbDat\": \"2021-07-20T00:00:00\", \"GueltigAbDatJahr\": 2021, \"GueltigAbDatMM\": 7, \"SexLang\": \"weiblich\", \"sum_WBev\": 2}, {\"GueltigAbDat\": \"2021-07-12T00:00:00\", \"GueltigAbDatJahr\": 2021, \"GueltigAbDatMM\": 7, \"SexLang\": \"weiblich\", \"sum_WBev\": 2}, {\"GueltigAbDat\": \"2021-08-05T00:00:00\", \"GueltigAbDatJahr\": 2021, \"GueltigAbDatMM\": 8, \"SexLang\": \"m\\u00e4nnlich\", \"sum_WBev\": 2}, {\"GueltigAbDat\": \"2021-06-28T00:00:00\", \"GueltigAbDatJahr\": 2021, \"GueltigAbDatMM\": 6, \"SexLang\": \"weiblich\", \"sum_WBev\": 2}, {\"GueltigAbDat\": \"2021-06-29T00:00:00\", \"GueltigAbDatJahr\": 2021, \"GueltigAbDatMM\": 6, \"SexLang\": \"weiblich\", \"sum_WBev\": 2}, {\"GueltigAbDat\": \"2021-08-29T00:00:00\", \"GueltigAbDatJahr\": 2021, \"GueltigAbDatMM\": 8, \"SexLang\": \"m\\u00e4nnlich\", \"sum_WBev\": 2}, {\"GueltigAbDat\": \"2021-07-07T00:00:00\", \"GueltigAbDatJahr\": 2021, \"GueltigAbDatMM\": 7, \"SexLang\": \"weiblich\", \"sum_WBev\": 2}, {\"GueltigAbDat\": \"2021-08-21T00:00:00\", \"GueltigAbDatJahr\": 2021, \"GueltigAbDatMM\": 8, \"SexLang\": \"weiblich\", \"sum_WBev\": 2}, {\"GueltigAbDat\": \"2021-07-11T00:00:00\", \"GueltigAbDatJahr\": 2021, \"GueltigAbDatMM\": 7, \"SexLang\": \"m\\u00e4nnlich\", \"sum_WBev\": 2}, {\"GueltigAbDat\": \"2021-07-15T00:00:00\", \"GueltigAbDatJahr\": 2021, \"GueltigAbDatMM\": 7, \"SexLang\": \"m\\u00e4nnlich\", \"sum_WBev\": 2}, {\"GueltigAbDat\": \"2021-09-06T00:00:00\", \"GueltigAbDatJahr\": 2021, \"GueltigAbDatMM\": 9, \"SexLang\": \"m\\u00e4nnlich\", \"sum_WBev\": 2}, {\"GueltigAbDat\": \"2021-07-16T00:00:00\", \"GueltigAbDatJahr\": 2021, \"GueltigAbDatMM\": 7, \"SexLang\": \"weiblich\", \"sum_WBev\": 2}, {\"GueltigAbDat\": \"2021-05-25T00:00:00\", \"GueltigAbDatJahr\": 2021, \"GueltigAbDatMM\": 5, \"SexLang\": \"weiblich\", \"sum_WBev\": 2}, {\"GueltigAbDat\": \"2021-07-29T00:00:00\", \"GueltigAbDatJahr\": 2021, \"GueltigAbDatMM\": 7, \"SexLang\": \"weiblich\", \"sum_WBev\": 2}, {\"GueltigAbDat\": \"2021-07-30T00:00:00\", \"GueltigAbDatJahr\": 2021, \"GueltigAbDatMM\": 7, \"SexLang\": \"m\\u00e4nnlich\", \"sum_WBev\": 2}, {\"GueltigAbDat\": \"2021-08-01T00:00:00\", \"GueltigAbDatJahr\": 2021, \"GueltigAbDatMM\": 8, \"SexLang\": \"m\\u00e4nnlich\", \"sum_WBev\": 2}, {\"GueltigAbDat\": \"2021-08-02T00:00:00\", \"GueltigAbDatJahr\": 2021, \"GueltigAbDatMM\": 8, \"SexLang\": \"m\\u00e4nnlich\", \"sum_WBev\": 2}, {\"GueltigAbDat\": \"2021-08-13T00:00:00\", \"GueltigAbDatJahr\": 2021, \"GueltigAbDatMM\": 8, \"SexLang\": \"m\\u00e4nnlich\", \"sum_WBev\": 2}, {\"GueltigAbDat\": \"2021-06-17T00:00:00\", \"GueltigAbDatJahr\": 2021, \"GueltigAbDatMM\": 6, \"SexLang\": \"weiblich\", \"sum_WBev\": 2}, {\"GueltigAbDat\": \"2021-06-26T00:00:00\", \"GueltigAbDatJahr\": 2021, \"GueltigAbDatMM\": 6, \"SexLang\": \"weiblich\", \"sum_WBev\": 2}, {\"GueltigAbDat\": \"2021-06-08T00:00:00\", \"GueltigAbDatJahr\": 2021, \"GueltigAbDatMM\": 6, \"SexLang\": \"m\\u00e4nnlich\", \"sum_WBev\": 2}, {\"GueltigAbDat\": \"2021-09-08T00:00:00\", \"GueltigAbDatJahr\": 2021, \"GueltigAbDatMM\": 9, \"SexLang\": \"m\\u00e4nnlich\", \"sum_WBev\": 2}, {\"GueltigAbDat\": \"2021-05-30T00:00:00\", \"GueltigAbDatJahr\": 2021, \"GueltigAbDatMM\": 5, \"SexLang\": \"weiblich\", \"sum_WBev\": 2}, {\"GueltigAbDat\": \"2021-06-06T00:00:00\", \"GueltigAbDatJahr\": 2021, \"GueltigAbDatMM\": 6, \"SexLang\": \"m\\u00e4nnlich\", \"sum_WBev\": 2}, {\"GueltigAbDat\": \"2021-06-06T00:00:00\", \"GueltigAbDatJahr\": 2021, \"GueltigAbDatMM\": 6, \"SexLang\": \"weiblich\", \"sum_WBev\": 2}, {\"GueltigAbDat\": \"2021-09-13T00:00:00\", \"GueltigAbDatJahr\": 2021, \"GueltigAbDatMM\": 9, \"SexLang\": \"m\\u00e4nnlich\", \"sum_WBev\": 2}, {\"GueltigAbDat\": \"2021-08-09T00:00:00\", \"GueltigAbDatJahr\": 2021, \"GueltigAbDatMM\": 8, \"SexLang\": \"m\\u00e4nnlich\", \"sum_WBev\": 2}]}}, {\"mode\": \"vega-lite\"});\n",
       "</script>"
      ],
      "text/plain": [
       "alt.LayerChart(...)"
      ]
     },
     "execution_count": 102,
     "metadata": {},
     "output_type": "execute_result"
    }
   ],
   "source": [
    "highlight = alt.selection(type='single', on='mouseover',\n",
    "                          fields=['KreisLang'], nearest=True)\n",
    "#x='date:StichtagDatJahr',\n",
    "base = alt.Chart(myAgg.reset_index().query('sum_WBev>1'), title=\"Title\").encode(\n",
    "    x=alt.X('GueltigAbDat', axis=alt.Axis(title='Jahr'))# , axis=alt.Axis(format='%', title='percentage')\n",
    "    , y=alt.X('sum_WBev', axis=alt.Axis(title='Anz. Personen'))\n",
    "    , color=alt.Color('SexLang', legend=alt.Legend(title=\"Stadtkreise\", orient=\"right\"))  \n",
    "    ,tooltip=['GueltigAbDat', 'SexLang', 'sum_WBev']    \n",
    ")\n",
    "points = base.mark_circle().encode(\n",
    "    opacity=alt.value(0.75)\n",
    ").add_selection(\n",
    "    highlight\n",
    ").properties(\n",
    "    width=900 , height=350\n",
    ")\n",
    "lines = base.mark_line().encode(\n",
    "    size=alt.condition(~highlight, alt.value(0.5), alt.value(4))\n",
    ").interactive()\n",
    "\n",
    "lines + points"
   ]
  },
  {
   "cell_type": "markdown",
   "metadata": {},
   "source": [
    "#### Entwicklung nach Alter"
   ]
  },
  {
   "cell_type": "code",
   "execution_count": 103,
   "metadata": {},
   "outputs": [
    {
     "data": {
      "text/html": [
       "<div>\n",
       "<style scoped>\n",
       "    .dataframe tbody tr th:only-of-type {\n",
       "        vertical-align: middle;\n",
       "    }\n",
       "\n",
       "    .dataframe tbody tr th {\n",
       "        vertical-align: top;\n",
       "    }\n",
       "\n",
       "    .dataframe thead th {\n",
       "        text-align: right;\n",
       "    }\n",
       "</style>\n",
       "<table border=\"1\" class=\"dataframe\">\n",
       "  <thead>\n",
       "    <tr style=\"text-align: right;\">\n",
       "      <th></th>\n",
       "      <th>GueltigAbDat</th>\n",
       "      <th>GueltigAbDatJahr</th>\n",
       "      <th>GueltigAbDatMM</th>\n",
       "      <th>AlterV20Kurz</th>\n",
       "      <th>sum_WBev</th>\n",
       "    </tr>\n",
       "  </thead>\n",
       "  <tbody>\n",
       "    <tr>\n",
       "      <th>0</th>\n",
       "      <td>2020-12-28</td>\n",
       "      <td>2020</td>\n",
       "      <td>12</td>\n",
       "      <td>80-99</td>\n",
       "      <td>20</td>\n",
       "    </tr>\n",
       "    <tr>\n",
       "      <th>1</th>\n",
       "      <td>2020-12-13</td>\n",
       "      <td>2020</td>\n",
       "      <td>12</td>\n",
       "      <td>80-99</td>\n",
       "      <td>19</td>\n",
       "    </tr>\n",
       "  </tbody>\n",
       "</table>\n",
       "</div>"
      ],
      "text/plain": [
       "  GueltigAbDat  GueltigAbDatJahr  GueltigAbDatMM AlterV20Kurz  sum_WBev\n",
       "0   2020-12-28              2020              12        80-99        20\n",
       "1   2020-12-13              2020              12        80-99        19"
      ]
     },
     "execution_count": 103,
     "metadata": {},
     "output_type": "execute_result"
    }
   ],
   "source": [
    "#myAgg = data2betested.loc[\"2008-11\":\"2021-11\"] \\\n",
    "myAgg = data2betested.loc[\"2020-11\":\"2021-11\"] \\\n",
    "    .groupby(['GueltigAbDat','GueltigAbDatJahr', 'GueltigAbDatMM', 'AlterV20Kurz']) \\\n",
    "    .agg(sum_WBev=('AnzSterWir', 'sum')) \\\n",
    "    .sort_values('sum_WBev', ascending=False) \n",
    "\n",
    "myAgg.reset_index().head(2)"
   ]
  },
  {
   "cell_type": "code",
   "execution_count": 104,
   "metadata": {},
   "outputs": [
    {
     "data": {
      "text/html": [
       "\n",
       "<div id=\"altair-viz-28d4c92a4ada4799a171c7d995b9b164\"></div>\n",
       "<script type=\"text/javascript\">\n",
       "  (function(spec, embedOpt){\n",
       "    let outputDiv = document.currentScript.previousElementSibling;\n",
       "    if (outputDiv.id !== \"altair-viz-28d4c92a4ada4799a171c7d995b9b164\") {\n",
       "      outputDiv = document.getElementById(\"altair-viz-28d4c92a4ada4799a171c7d995b9b164\");\n",
       "    }\n",
       "    const paths = {\n",
       "      \"vega\": \"https://cdn.jsdelivr.net/npm//vega@5?noext\",\n",
       "      \"vega-lib\": \"https://cdn.jsdelivr.net/npm//vega-lib?noext\",\n",
       "      \"vega-lite\": \"https://cdn.jsdelivr.net/npm//vega-lite@4.8.1?noext\",\n",
       "      \"vega-embed\": \"https://cdn.jsdelivr.net/npm//vega-embed@6?noext\",\n",
       "    };\n",
       "\n",
       "    function loadScript(lib) {\n",
       "      return new Promise(function(resolve, reject) {\n",
       "        var s = document.createElement('script');\n",
       "        s.src = paths[lib];\n",
       "        s.async = true;\n",
       "        s.onload = () => resolve(paths[lib]);\n",
       "        s.onerror = () => reject(`Error loading script: ${paths[lib]}`);\n",
       "        document.getElementsByTagName(\"head\")[0].appendChild(s);\n",
       "      });\n",
       "    }\n",
       "\n",
       "    function showError(err) {\n",
       "      outputDiv.innerHTML = `<div class=\"error\" style=\"color:red;\">${err}</div>`;\n",
       "      throw err;\n",
       "    }\n",
       "\n",
       "    function displayChart(vegaEmbed) {\n",
       "      vegaEmbed(outputDiv, spec, embedOpt)\n",
       "        .catch(err => showError(`Javascript Error: ${err.message}<br>This usually means there's a typo in your chart specification. See the javascript console for the full traceback.`));\n",
       "    }\n",
       "\n",
       "    if(typeof define === \"function\" && define.amd) {\n",
       "      requirejs.config({paths});\n",
       "      require([\"vega-embed\"], displayChart, err => showError(`Error loading script: ${err.message}`));\n",
       "    } else if (typeof vegaEmbed === \"function\") {\n",
       "      displayChart(vegaEmbed);\n",
       "    } else {\n",
       "      loadScript(\"vega\")\n",
       "        .then(() => loadScript(\"vega-lite\"))\n",
       "        .then(() => loadScript(\"vega-embed\"))\n",
       "        .catch(showError)\n",
       "        .then(() => displayChart(vegaEmbed));\n",
       "    }\n",
       "  })({\"config\": {\"view\": {\"continuousWidth\": 400, \"continuousHeight\": 300}}, \"layer\": [{\"mark\": \"line\", \"encoding\": {\"color\": {\"type\": \"nominal\", \"field\": \"AlterV20Kurz\", \"legend\": {\"orient\": \"right\", \"title\": \"Alter\"}}, \"size\": {\"condition\": {\"value\": 0.5, \"selection\": {\"not\": \"selector043\"}}, \"value\": 4}, \"tooltip\": [{\"type\": \"temporal\", \"field\": \"GueltigAbDat\"}, {\"type\": \"nominal\", \"field\": \"AlterV20Kurz\"}, {\"type\": \"quantitative\", \"field\": \"sum_WBev\"}], \"x\": {\"type\": \"temporal\", \"axis\": {\"title\": \"Jahr\"}, \"field\": \"GueltigAbDat\"}, \"y\": {\"type\": \"quantitative\", \"axis\": {\"title\": \"Anz. Personen\"}, \"field\": \"sum_WBev\"}}, \"selection\": {\"selector044\": {\"type\": \"interval\", \"bind\": \"scales\", \"encodings\": [\"x\", \"y\"]}}, \"title\": \"Title\"}, {\"mark\": \"circle\", \"encoding\": {\"color\": {\"type\": \"nominal\", \"field\": \"AlterV20Kurz\", \"legend\": {\"orient\": \"right\", \"title\": \"Alter\"}}, \"opacity\": {\"value\": 0.75}, \"tooltip\": [{\"type\": \"temporal\", \"field\": \"GueltigAbDat\"}, {\"type\": \"nominal\", \"field\": \"AlterV20Kurz\"}, {\"type\": \"quantitative\", \"field\": \"sum_WBev\"}], \"x\": {\"type\": \"temporal\", \"axis\": {\"title\": \"Jahr\"}, \"field\": \"GueltigAbDat\"}, \"y\": {\"type\": \"quantitative\", \"axis\": {\"title\": \"Anz. Personen\"}, \"field\": \"sum_WBev\"}}, \"height\": 350, \"selection\": {\"selector043\": {\"type\": \"single\", \"on\": \"mouseover\", \"fields\": [\"AlterV20Kurz\"], \"nearest\": true}}, \"title\": \"Title\", \"width\": 900}], \"data\": {\"name\": \"data-3ccaf402866d87fe7d5e8592421bc560\"}, \"$schema\": \"https://vega.github.io/schema/vega-lite/v4.8.1.json\", \"datasets\": {\"data-3ccaf402866d87fe7d5e8592421bc560\": [{\"GueltigAbDat\": \"2020-12-28T00:00:00\", \"GueltigAbDatJahr\": 2020, \"GueltigAbDatMM\": 12, \"AlterV20Kurz\": \"80-99\", \"sum_WBev\": 20}, {\"GueltigAbDat\": \"2020-12-13T00:00:00\", \"GueltigAbDatJahr\": 2020, \"GueltigAbDatMM\": 12, \"AlterV20Kurz\": \"80-99\", \"sum_WBev\": 19}, {\"GueltigAbDat\": \"2020-12-15T00:00:00\", \"GueltigAbDatJahr\": 2020, \"GueltigAbDatMM\": 12, \"AlterV20Kurz\": \"80-99\", \"sum_WBev\": 17}, {\"GueltigAbDat\": \"2021-01-19T00:00:00\", \"GueltigAbDatJahr\": 2021, \"GueltigAbDatMM\": 1, \"AlterV20Kurz\": \"80-99\", \"sum_WBev\": 17}, {\"GueltigAbDat\": \"2020-12-22T00:00:00\", \"GueltigAbDatJahr\": 2020, \"GueltigAbDatMM\": 12, \"AlterV20Kurz\": \"80-99\", \"sum_WBev\": 16}, {\"GueltigAbDat\": \"2021-01-04T00:00:00\", \"GueltigAbDatJahr\": 2021, \"GueltigAbDatMM\": 1, \"AlterV20Kurz\": \"80-99\", \"sum_WBev\": 14}, {\"GueltigAbDat\": \"2020-11-18T00:00:00\", \"GueltigAbDatJahr\": 2020, \"GueltigAbDatMM\": 11, \"AlterV20Kurz\": \"80-99\", \"sum_WBev\": 14}, {\"GueltigAbDat\": \"2021-01-13T00:00:00\", \"GueltigAbDatJahr\": 2021, \"GueltigAbDatMM\": 1, \"AlterV20Kurz\": \"80-99\", \"sum_WBev\": 14}, {\"GueltigAbDat\": \"2020-12-23T00:00:00\", \"GueltigAbDatJahr\": 2020, \"GueltigAbDatMM\": 12, \"AlterV20Kurz\": \"80-99\", \"sum_WBev\": 14}, {\"GueltigAbDat\": \"2021-02-02T00:00:00\", \"GueltigAbDatJahr\": 2021, \"GueltigAbDatMM\": 2, \"AlterV20Kurz\": \"80-99\", \"sum_WBev\": 13}, {\"GueltigAbDat\": \"2020-12-14T00:00:00\", \"GueltigAbDatJahr\": 2020, \"GueltigAbDatMM\": 12, \"AlterV20Kurz\": \"80-99\", \"sum_WBev\": 13}, {\"GueltigAbDat\": \"2020-12-27T00:00:00\", \"GueltigAbDatJahr\": 2020, \"GueltigAbDatMM\": 12, \"AlterV20Kurz\": \"80-99\", \"sum_WBev\": 13}, {\"GueltigAbDat\": \"2020-12-20T00:00:00\", \"GueltigAbDatJahr\": 2020, \"GueltigAbDatMM\": 12, \"AlterV20Kurz\": \"80-99\", \"sum_WBev\": 13}, {\"GueltigAbDat\": \"2021-07-21T00:00:00\", \"GueltigAbDatJahr\": 2021, \"GueltigAbDatMM\": 7, \"AlterV20Kurz\": \"80-99\", \"sum_WBev\": 13}, {\"GueltigAbDat\": \"2020-11-28T00:00:00\", \"GueltigAbDatJahr\": 2020, \"GueltigAbDatMM\": 11, \"AlterV20Kurz\": \"80-99\", \"sum_WBev\": 12}, {\"GueltigAbDat\": \"2020-12-01T00:00:00\", \"GueltigAbDatJahr\": 2020, \"GueltigAbDatMM\": 12, \"AlterV20Kurz\": \"80-99\", \"sum_WBev\": 12}, {\"GueltigAbDat\": \"2020-12-21T00:00:00\", \"GueltigAbDatJahr\": 2020, \"GueltigAbDatMM\": 12, \"AlterV20Kurz\": \"80-99\", \"sum_WBev\": 12}, {\"GueltigAbDat\": \"2021-01-23T00:00:00\", \"GueltigAbDatJahr\": 2021, \"GueltigAbDatMM\": 1, \"AlterV20Kurz\": \"80-99\", \"sum_WBev\": 12}, {\"GueltigAbDat\": \"2020-12-10T00:00:00\", \"GueltigAbDatJahr\": 2020, \"GueltigAbDatMM\": 12, \"AlterV20Kurz\": \"80-99\", \"sum_WBev\": 12}, {\"GueltigAbDat\": \"2020-12-05T00:00:00\", \"GueltigAbDatJahr\": 2020, \"GueltigAbDatMM\": 12, \"AlterV20Kurz\": \"80-99\", \"sum_WBev\": 11}, {\"GueltigAbDat\": \"2021-11-24T00:00:00\", \"GueltigAbDatJahr\": 2021, \"GueltigAbDatMM\": 11, \"AlterV20Kurz\": \"80-99\", \"sum_WBev\": 11}, {\"GueltigAbDat\": \"2021-01-09T00:00:00\", \"GueltigAbDatJahr\": 2021, \"GueltigAbDatMM\": 1, \"AlterV20Kurz\": \"80-99\", \"sum_WBev\": 11}, {\"GueltigAbDat\": \"2020-12-26T00:00:00\", \"GueltigAbDatJahr\": 2020, \"GueltigAbDatMM\": 12, \"AlterV20Kurz\": \"80-99\", \"sum_WBev\": 11}, {\"GueltigAbDat\": \"2021-01-14T00:00:00\", \"GueltigAbDatJahr\": 2021, \"GueltigAbDatMM\": 1, \"AlterV20Kurz\": \"80-99\", \"sum_WBev\": 11}, {\"GueltigAbDat\": \"2020-12-31T00:00:00\", \"GueltigAbDatJahr\": 2020, \"GueltigAbDatMM\": 12, \"AlterV20Kurz\": \"80-99\", \"sum_WBev\": 11}, {\"GueltigAbDat\": \"2020-12-08T00:00:00\", \"GueltigAbDatJahr\": 2020, \"GueltigAbDatMM\": 12, \"AlterV20Kurz\": \"80-99\", \"sum_WBev\": 11}, {\"GueltigAbDat\": \"2021-01-01T00:00:00\", \"GueltigAbDatJahr\": 2021, \"GueltigAbDatMM\": 1, \"AlterV20Kurz\": \"80-99\", \"sum_WBev\": 11}, {\"GueltigAbDat\": \"2021-01-26T00:00:00\", \"GueltigAbDatJahr\": 2021, \"GueltigAbDatMM\": 1, \"AlterV20Kurz\": \"80-99\", \"sum_WBev\": 11}, {\"GueltigAbDat\": \"2020-12-04T00:00:00\", \"GueltigAbDatJahr\": 2020, \"GueltigAbDatMM\": 12, \"AlterV20Kurz\": \"80-99\", \"sum_WBev\": 11}, {\"GueltigAbDat\": \"2020-11-24T00:00:00\", \"GueltigAbDatJahr\": 2020, \"GueltigAbDatMM\": 11, \"AlterV20Kurz\": \"80-99\", \"sum_WBev\": 10}, {\"GueltigAbDat\": \"2021-07-18T00:00:00\", \"GueltigAbDatJahr\": 2021, \"GueltigAbDatMM\": 7, \"AlterV20Kurz\": \"80-99\", \"sum_WBev\": 10}, {\"GueltigAbDat\": \"2021-08-12T00:00:00\", \"GueltigAbDatJahr\": 2021, \"GueltigAbDatMM\": 8, \"AlterV20Kurz\": \"80-99\", \"sum_WBev\": 10}, {\"GueltigAbDat\": \"2020-12-25T00:00:00\", \"GueltigAbDatJahr\": 2020, \"GueltigAbDatMM\": 12, \"AlterV20Kurz\": \"80-99\", \"sum_WBev\": 10}, {\"GueltigAbDat\": \"2020-12-02T00:00:00\", \"GueltigAbDatJahr\": 2020, \"GueltigAbDatMM\": 12, \"AlterV20Kurz\": \"80-99\", \"sum_WBev\": 10}, {\"GueltigAbDat\": \"2021-09-01T00:00:00\", \"GueltigAbDatJahr\": 2021, \"GueltigAbDatMM\": 9, \"AlterV20Kurz\": \"80-99\", \"sum_WBev\": 10}, {\"GueltigAbDat\": \"2020-12-06T00:00:00\", \"GueltigAbDatJahr\": 2020, \"GueltigAbDatMM\": 12, \"AlterV20Kurz\": \"80-99\", \"sum_WBev\": 10}, {\"GueltigAbDat\": \"2020-12-18T00:00:00\", \"GueltigAbDatJahr\": 2020, \"GueltigAbDatMM\": 12, \"AlterV20Kurz\": \"80-99\", \"sum_WBev\": 10}, {\"GueltigAbDat\": \"2020-12-16T00:00:00\", \"GueltigAbDatJahr\": 2020, \"GueltigAbDatMM\": 12, \"AlterV20Kurz\": \"80-99\", \"sum_WBev\": 10}, {\"GueltigAbDat\": \"2021-01-18T00:00:00\", \"GueltigAbDatJahr\": 2021, \"GueltigAbDatMM\": 1, \"AlterV20Kurz\": \"80-99\", \"sum_WBev\": 10}, {\"GueltigAbDat\": \"2020-12-12T00:00:00\", \"GueltigAbDatJahr\": 2020, \"GueltigAbDatMM\": 12, \"AlterV20Kurz\": \"60-79\", \"sum_WBev\": 10}, {\"GueltigAbDat\": \"2021-01-27T00:00:00\", \"GueltigAbDatJahr\": 2021, \"GueltigAbDatMM\": 1, \"AlterV20Kurz\": \"80-99\", \"sum_WBev\": 10}, {\"GueltigAbDat\": \"2021-03-15T00:00:00\", \"GueltigAbDatJahr\": 2021, \"GueltigAbDatMM\": 3, \"AlterV20Kurz\": \"80-99\", \"sum_WBev\": 10}, {\"GueltigAbDat\": \"2021-11-20T00:00:00\", \"GueltigAbDatJahr\": 2021, \"GueltigAbDatMM\": 11, \"AlterV20Kurz\": \"80-99\", \"sum_WBev\": 10}, {\"GueltigAbDat\": \"2021-05-08T00:00:00\", \"GueltigAbDatJahr\": 2021, \"GueltigAbDatMM\": 5, \"AlterV20Kurz\": \"80-99\", \"sum_WBev\": 10}, {\"GueltigAbDat\": \"2021-11-07T00:00:00\", \"GueltigAbDatJahr\": 2021, \"GueltigAbDatMM\": 11, \"AlterV20Kurz\": \"80-99\", \"sum_WBev\": 10}, {\"GueltigAbDat\": \"2021-01-21T00:00:00\", \"GueltigAbDatJahr\": 2021, \"GueltigAbDatMM\": 1, \"AlterV20Kurz\": \"80-99\", \"sum_WBev\": 9}, {\"GueltigAbDat\": \"2020-11-22T00:00:00\", \"GueltigAbDatJahr\": 2020, \"GueltigAbDatMM\": 11, \"AlterV20Kurz\": \"80-99\", \"sum_WBev\": 9}, {\"GueltigAbDat\": \"2021-07-26T00:00:00\", \"GueltigAbDatJahr\": 2021, \"GueltigAbDatMM\": 7, \"AlterV20Kurz\": \"80-99\", \"sum_WBev\": 9}, {\"GueltigAbDat\": \"2020-11-23T00:00:00\", \"GueltigAbDatJahr\": 2020, \"GueltigAbDatMM\": 11, \"AlterV20Kurz\": \"80-99\", \"sum_WBev\": 9}, {\"GueltigAbDat\": \"2021-01-08T00:00:00\", \"GueltigAbDatJahr\": 2021, \"GueltigAbDatMM\": 1, \"AlterV20Kurz\": \"80-99\", \"sum_WBev\": 9}, {\"GueltigAbDat\": \"2021-02-14T00:00:00\", \"GueltigAbDatJahr\": 2021, \"GueltigAbDatMM\": 2, \"AlterV20Kurz\": \"80-99\", \"sum_WBev\": 9}, {\"GueltigAbDat\": \"2020-12-19T00:00:00\", \"GueltigAbDatJahr\": 2020, \"GueltigAbDatMM\": 12, \"AlterV20Kurz\": \"80-99\", \"sum_WBev\": 9}, {\"GueltigAbDat\": \"2020-12-07T00:00:00\", \"GueltigAbDatJahr\": 2020, \"GueltigAbDatMM\": 12, \"AlterV20Kurz\": \"80-99\", \"sum_WBev\": 9}, {\"GueltigAbDat\": \"2020-11-25T00:00:00\", \"GueltigAbDatJahr\": 2020, \"GueltigAbDatMM\": 11, \"AlterV20Kurz\": \"80-99\", \"sum_WBev\": 9}, {\"GueltigAbDat\": \"2021-08-02T00:00:00\", \"GueltigAbDatJahr\": 2021, \"GueltigAbDatMM\": 8, \"AlterV20Kurz\": \"80-99\", \"sum_WBev\": 9}, {\"GueltigAbDat\": \"2020-11-26T00:00:00\", \"GueltigAbDatJahr\": 2020, \"GueltigAbDatMM\": 11, \"AlterV20Kurz\": \"80-99\", \"sum_WBev\": 9}, {\"GueltigAbDat\": \"2021-09-02T00:00:00\", \"GueltigAbDatJahr\": 2021, \"GueltigAbDatMM\": 9, \"AlterV20Kurz\": \"80-99\", \"sum_WBev\": 9}, {\"GueltigAbDat\": \"2021-01-25T00:00:00\", \"GueltigAbDatJahr\": 2021, \"GueltigAbDatMM\": 1, \"AlterV20Kurz\": \"80-99\", \"sum_WBev\": 9}, {\"GueltigAbDat\": \"2020-12-17T00:00:00\", \"GueltigAbDatJahr\": 2020, \"GueltigAbDatMM\": 12, \"AlterV20Kurz\": \"80-99\", \"sum_WBev\": 9}, {\"GueltigAbDat\": \"2021-03-25T00:00:00\", \"GueltigAbDatJahr\": 2021, \"GueltigAbDatMM\": 3, \"AlterV20Kurz\": \"80-99\", \"sum_WBev\": 9}, {\"GueltigAbDat\": \"2020-11-16T00:00:00\", \"GueltigAbDatJahr\": 2020, \"GueltigAbDatMM\": 11, \"AlterV20Kurz\": \"80-99\", \"sum_WBev\": 9}, {\"GueltigAbDat\": \"2020-12-12T00:00:00\", \"GueltigAbDatJahr\": 2020, \"GueltigAbDatMM\": 12, \"AlterV20Kurz\": \"80-99\", \"sum_WBev\": 9}, {\"GueltigAbDat\": \"2021-11-05T00:00:00\", \"GueltigAbDatJahr\": 2021, \"GueltigAbDatMM\": 11, \"AlterV20Kurz\": \"80-99\", \"sum_WBev\": 9}, {\"GueltigAbDat\": \"2021-01-12T00:00:00\", \"GueltigAbDatJahr\": 2021, \"GueltigAbDatMM\": 1, \"AlterV20Kurz\": \"80-99\", \"sum_WBev\": 9}, {\"GueltigAbDat\": \"2021-09-21T00:00:00\", \"GueltigAbDatJahr\": 2021, \"GueltigAbDatMM\": 9, \"AlterV20Kurz\": \"80-99\", \"sum_WBev\": 9}, {\"GueltigAbDat\": \"2021-09-15T00:00:00\", \"GueltigAbDatJahr\": 2021, \"GueltigAbDatMM\": 9, \"AlterV20Kurz\": \"80-99\", \"sum_WBev\": 9}, {\"GueltigAbDat\": \"2021-01-15T00:00:00\", \"GueltigAbDatJahr\": 2021, \"GueltigAbDatMM\": 1, \"AlterV20Kurz\": \"80-99\", \"sum_WBev\": 9}, {\"GueltigAbDat\": \"2021-06-23T00:00:00\", \"GueltigAbDatJahr\": 2021, \"GueltigAbDatMM\": 6, \"AlterV20Kurz\": \"60-79\", \"sum_WBev\": 9}, {\"GueltigAbDat\": \"2021-10-26T00:00:00\", \"GueltigAbDatJahr\": 2021, \"GueltigAbDatMM\": 10, \"AlterV20Kurz\": \"80-99\", \"sum_WBev\": 9}, {\"GueltigAbDat\": \"2021-03-21T00:00:00\", \"GueltigAbDatJahr\": 2021, \"GueltigAbDatMM\": 3, \"AlterV20Kurz\": \"80-99\", \"sum_WBev\": 8}, {\"GueltigAbDat\": \"2021-04-04T00:00:00\", \"GueltigAbDatJahr\": 2021, \"GueltigAbDatMM\": 4, \"AlterV20Kurz\": \"80-99\", \"sum_WBev\": 8}, {\"GueltigAbDat\": \"2020-12-21T00:00:00\", \"GueltigAbDatJahr\": 2020, \"GueltigAbDatMM\": 12, \"AlterV20Kurz\": \"60-79\", \"sum_WBev\": 8}, {\"GueltigAbDat\": \"2021-09-18T00:00:00\", \"GueltigAbDatJahr\": 2021, \"GueltigAbDatMM\": 9, \"AlterV20Kurz\": \"80-99\", \"sum_WBev\": 8}, {\"GueltigAbDat\": \"2020-11-06T00:00:00\", \"GueltigAbDatJahr\": 2020, \"GueltigAbDatMM\": 11, \"AlterV20Kurz\": \"80-99\", \"sum_WBev\": 8}, {\"GueltigAbDat\": \"2021-08-31T00:00:00\", \"GueltigAbDatJahr\": 2021, \"GueltigAbDatMM\": 8, \"AlterV20Kurz\": \"80-99\", \"sum_WBev\": 8}, {\"GueltigAbDat\": \"2021-05-06T00:00:00\", \"GueltigAbDatJahr\": 2021, \"GueltigAbDatMM\": 5, \"AlterV20Kurz\": \"80-99\", \"sum_WBev\": 8}, {\"GueltigAbDat\": \"2021-04-25T00:00:00\", \"GueltigAbDatJahr\": 2021, \"GueltigAbDatMM\": 4, \"AlterV20Kurz\": \"80-99\", \"sum_WBev\": 8}, {\"GueltigAbDat\": \"2020-11-08T00:00:00\", \"GueltigAbDatJahr\": 2020, \"GueltigAbDatMM\": 11, \"AlterV20Kurz\": \"80-99\", \"sum_WBev\": 8}, {\"GueltigAbDat\": \"2021-05-14T00:00:00\", \"GueltigAbDatJahr\": 2021, \"GueltigAbDatMM\": 5, \"AlterV20Kurz\": \"80-99\", \"sum_WBev\": 8}, {\"GueltigAbDat\": \"2021-10-03T00:00:00\", \"GueltigAbDatJahr\": 2021, \"GueltigAbDatMM\": 10, \"AlterV20Kurz\": \"80-99\", \"sum_WBev\": 8}, {\"GueltigAbDat\": \"2020-11-30T00:00:00\", \"GueltigAbDatJahr\": 2020, \"GueltigAbDatMM\": 11, \"AlterV20Kurz\": \"80-99\", \"sum_WBev\": 8}, {\"GueltigAbDat\": \"2021-05-26T00:00:00\", \"GueltigAbDatJahr\": 2021, \"GueltigAbDatMM\": 5, \"AlterV20Kurz\": \"80-99\", \"sum_WBev\": 8}, {\"GueltigAbDat\": \"2021-11-30T00:00:00\", \"GueltigAbDatJahr\": 2021, \"GueltigAbDatMM\": 11, \"AlterV20Kurz\": \"80-99\", \"sum_WBev\": 8}, {\"GueltigAbDat\": \"2020-11-20T00:00:00\", \"GueltigAbDatJahr\": 2020, \"GueltigAbDatMM\": 11, \"AlterV20Kurz\": \"80-99\", \"sum_WBev\": 8}, {\"GueltigAbDat\": \"2021-01-11T00:00:00\", \"GueltigAbDatJahr\": 2021, \"GueltigAbDatMM\": 1, \"AlterV20Kurz\": \"80-99\", \"sum_WBev\": 8}, {\"GueltigAbDat\": \"2021-06-21T00:00:00\", \"GueltigAbDatJahr\": 2021, \"GueltigAbDatMM\": 6, \"AlterV20Kurz\": \"80-99\", \"sum_WBev\": 8}, {\"GueltigAbDat\": \"2021-01-07T00:00:00\", \"GueltigAbDatJahr\": 2021, \"GueltigAbDatMM\": 1, \"AlterV20Kurz\": \"80-99\", \"sum_WBev\": 8}, {\"GueltigAbDat\": \"2021-07-10T00:00:00\", \"GueltigAbDatJahr\": 2021, \"GueltigAbDatMM\": 7, \"AlterV20Kurz\": \"60-79\", \"sum_WBev\": 8}, {\"GueltigAbDat\": \"2021-07-31T00:00:00\", \"GueltigAbDatJahr\": 2021, \"GueltigAbDatMM\": 7, \"AlterV20Kurz\": \"80-99\", \"sum_WBev\": 8}, {\"GueltigAbDat\": \"2021-06-18T00:00:00\", \"GueltigAbDatJahr\": 2021, \"GueltigAbDatMM\": 6, \"AlterV20Kurz\": \"80-99\", \"sum_WBev\": 8}, {\"GueltigAbDat\": \"2020-11-14T00:00:00\", \"GueltigAbDatJahr\": 2020, \"GueltigAbDatMM\": 11, \"AlterV20Kurz\": \"80-99\", \"sum_WBev\": 8}, {\"GueltigAbDat\": \"2021-01-16T00:00:00\", \"GueltigAbDatJahr\": 2021, \"GueltigAbDatMM\": 1, \"AlterV20Kurz\": \"80-99\", \"sum_WBev\": 8}, {\"GueltigAbDat\": \"2021-07-09T00:00:00\", \"GueltigAbDatJahr\": 2021, \"GueltigAbDatMM\": 7, \"AlterV20Kurz\": \"80-99\", \"sum_WBev\": 8}, {\"GueltigAbDat\": \"2021-06-15T00:00:00\", \"GueltigAbDatJahr\": 2021, \"GueltigAbDatMM\": 6, \"AlterV20Kurz\": \"60-79\", \"sum_WBev\": 8}, {\"GueltigAbDat\": \"2020-11-28T00:00:00\", \"GueltigAbDatJahr\": 2020, \"GueltigAbDatMM\": 11, \"AlterV20Kurz\": \"60-79\", \"sum_WBev\": 8}, {\"GueltigAbDat\": \"2021-06-03T00:00:00\", \"GueltigAbDatJahr\": 2021, \"GueltigAbDatMM\": 6, \"AlterV20Kurz\": \"80-99\", \"sum_WBev\": 8}, {\"GueltigAbDat\": \"2021-07-03T00:00:00\", \"GueltigAbDatJahr\": 2021, \"GueltigAbDatMM\": 7, \"AlterV20Kurz\": \"80-99\", \"sum_WBev\": 8}, {\"GueltigAbDat\": \"2020-11-17T00:00:00\", \"GueltigAbDatJahr\": 2020, \"GueltigAbDatMM\": 11, \"AlterV20Kurz\": \"80-99\", \"sum_WBev\": 8}, {\"GueltigAbDat\": \"2020-12-30T00:00:00\", \"GueltigAbDatJahr\": 2020, \"GueltigAbDatMM\": 12, \"AlterV20Kurz\": \"80-99\", \"sum_WBev\": 8}, {\"GueltigAbDat\": \"2020-11-15T00:00:00\", \"GueltigAbDatJahr\": 2020, \"GueltigAbDatMM\": 11, \"AlterV20Kurz\": \"80-99\", \"sum_WBev\": 8}, {\"GueltigAbDat\": \"2021-07-13T00:00:00\", \"GueltigAbDatJahr\": 2021, \"GueltigAbDatMM\": 7, \"AlterV20Kurz\": \"80-99\", \"sum_WBev\": 8}, {\"GueltigAbDat\": \"2021-03-05T00:00:00\", \"GueltigAbDatJahr\": 2021, \"GueltigAbDatMM\": 3, \"AlterV20Kurz\": \"80-99\", \"sum_WBev\": 7}, {\"GueltigAbDat\": \"2021-03-24T00:00:00\", \"GueltigAbDatJahr\": 2021, \"GueltigAbDatMM\": 3, \"AlterV20Kurz\": \"80-99\", \"sum_WBev\": 7}, {\"GueltigAbDat\": \"2021-07-05T00:00:00\", \"GueltigAbDatJahr\": 2021, \"GueltigAbDatMM\": 7, \"AlterV20Kurz\": \"80-99\", \"sum_WBev\": 7}, {\"GueltigAbDat\": \"2021-05-19T00:00:00\", \"GueltigAbDatJahr\": 2021, \"GueltigAbDatMM\": 5, \"AlterV20Kurz\": \"80-99\", \"sum_WBev\": 7}, {\"GueltigAbDat\": \"2021-02-19T00:00:00\", \"GueltigAbDatJahr\": 2021, \"GueltigAbDatMM\": 2, \"AlterV20Kurz\": \"80-99\", \"sum_WBev\": 7}, {\"GueltigAbDat\": \"2020-12-11T00:00:00\", \"GueltigAbDatJahr\": 2020, \"GueltigAbDatMM\": 12, \"AlterV20Kurz\": \"80-99\", \"sum_WBev\": 7}, {\"GueltigAbDat\": \"2021-05-09T00:00:00\", \"GueltigAbDatJahr\": 2021, \"GueltigAbDatMM\": 5, \"AlterV20Kurz\": \"80-99\", \"sum_WBev\": 7}, {\"GueltigAbDat\": \"2021-05-02T00:00:00\", \"GueltigAbDatJahr\": 2021, \"GueltigAbDatMM\": 5, \"AlterV20Kurz\": \"80-99\", \"sum_WBev\": 7}, {\"GueltigAbDat\": \"2021-01-02T00:00:00\", \"GueltigAbDatJahr\": 2021, \"GueltigAbDatMM\": 1, \"AlterV20Kurz\": \"80-99\", \"sum_WBev\": 7}, {\"GueltigAbDat\": \"2021-02-13T00:00:00\", \"GueltigAbDatJahr\": 2021, \"GueltigAbDatMM\": 2, \"AlterV20Kurz\": \"80-99\", \"sum_WBev\": 7}, {\"GueltigAbDat\": \"2021-01-29T00:00:00\", \"GueltigAbDatJahr\": 2021, \"GueltigAbDatMM\": 1, \"AlterV20Kurz\": \"80-99\", \"sum_WBev\": 7}, {\"GueltigAbDat\": \"2020-12-23T00:00:00\", \"GueltigAbDatJahr\": 2020, \"GueltigAbDatMM\": 12, \"AlterV20Kurz\": \"60-79\", \"sum_WBev\": 7}, {\"GueltigAbDat\": \"2020-12-24T00:00:00\", \"GueltigAbDatJahr\": 2020, \"GueltigAbDatMM\": 12, \"AlterV20Kurz\": \"80-99\", \"sum_WBev\": 7}, {\"GueltigAbDat\": \"2021-08-27T00:00:00\", \"GueltigAbDatJahr\": 2021, \"GueltigAbDatMM\": 8, \"AlterV20Kurz\": \"80-99\", \"sum_WBev\": 7}, {\"GueltigAbDat\": \"2021-05-24T00:00:00\", \"GueltigAbDatJahr\": 2021, \"GueltigAbDatMM\": 5, \"AlterV20Kurz\": \"80-99\", \"sum_WBev\": 7}, {\"GueltigAbDat\": \"2021-04-29T00:00:00\", \"GueltigAbDatJahr\": 2021, \"GueltigAbDatMM\": 4, \"AlterV20Kurz\": \"80-99\", \"sum_WBev\": 7}, {\"GueltigAbDat\": \"2021-08-05T00:00:00\", \"GueltigAbDatJahr\": 2021, \"GueltigAbDatMM\": 8, \"AlterV20Kurz\": \"80-99\", \"sum_WBev\": 7}, {\"GueltigAbDat\": \"2020-11-05T00:00:00\", \"GueltigAbDatJahr\": 2020, \"GueltigAbDatMM\": 11, \"AlterV20Kurz\": \"40-59\", \"sum_WBev\": 7}, {\"GueltigAbDat\": \"2021-10-17T00:00:00\", \"GueltigAbDatJahr\": 2021, \"GueltigAbDatMM\": 10, \"AlterV20Kurz\": \"80-99\", \"sum_WBev\": 7}, {\"GueltigAbDat\": \"2021-10-10T00:00:00\", \"GueltigAbDatJahr\": 2021, \"GueltigAbDatMM\": 10, \"AlterV20Kurz\": \"80-99\", \"sum_WBev\": 7}, {\"GueltigAbDat\": \"2020-12-04T00:00:00\", \"GueltigAbDatJahr\": 2020, \"GueltigAbDatMM\": 12, \"AlterV20Kurz\": \"60-79\", \"sum_WBev\": 7}, {\"GueltigAbDat\": \"2021-10-01T00:00:00\", \"GueltigAbDatJahr\": 2021, \"GueltigAbDatMM\": 10, \"AlterV20Kurz\": \"80-99\", \"sum_WBev\": 7}, {\"GueltigAbDat\": \"2021-11-04T00:00:00\", \"GueltigAbDatJahr\": 2021, \"GueltigAbDatMM\": 11, \"AlterV20Kurz\": \"80-99\", \"sum_WBev\": 7}, {\"GueltigAbDat\": \"2020-12-03T00:00:00\", \"GueltigAbDatJahr\": 2020, \"GueltigAbDatMM\": 12, \"AlterV20Kurz\": \"80-99\", \"sum_WBev\": 7}, {\"GueltigAbDat\": \"2021-10-13T00:00:00\", \"GueltigAbDatJahr\": 2021, \"GueltigAbDatMM\": 10, \"AlterV20Kurz\": \"80-99\", \"sum_WBev\": 7}, {\"GueltigAbDat\": \"2020-11-10T00:00:00\", \"GueltigAbDatJahr\": 2020, \"GueltigAbDatMM\": 11, \"AlterV20Kurz\": \"80-99\", \"sum_WBev\": 7}, {\"GueltigAbDat\": \"2021-11-22T00:00:00\", \"GueltigAbDatJahr\": 2021, \"GueltigAbDatMM\": 11, \"AlterV20Kurz\": \"80-99\", \"sum_WBev\": 7}, {\"GueltigAbDat\": \"2021-10-30T00:00:00\", \"GueltigAbDatJahr\": 2021, \"GueltigAbDatMM\": 10, \"AlterV20Kurz\": \"80-99\", \"sum_WBev\": 7}, {\"GueltigAbDat\": \"2021-11-09T00:00:00\", \"GueltigAbDatJahr\": 2021, \"GueltigAbDatMM\": 11, \"AlterV20Kurz\": \"80-99\", \"sum_WBev\": 7}, {\"GueltigAbDat\": \"2021-09-20T00:00:00\", \"GueltigAbDatJahr\": 2021, \"GueltigAbDatMM\": 9, \"AlterV20Kurz\": \"80-99\", \"sum_WBev\": 7}, {\"GueltigAbDat\": \"2021-10-28T00:00:00\", \"GueltigAbDatJahr\": 2021, \"GueltigAbDatMM\": 10, \"AlterV20Kurz\": \"80-99\", \"sum_WBev\": 7}, {\"GueltigAbDat\": \"2021-10-20T00:00:00\", \"GueltigAbDatJahr\": 2021, \"GueltigAbDatMM\": 10, \"AlterV20Kurz\": \"80-99\", \"sum_WBev\": 7}, {\"GueltigAbDat\": \"2021-08-17T00:00:00\", \"GueltigAbDatJahr\": 2021, \"GueltigAbDatMM\": 8, \"AlterV20Kurz\": \"80-99\", \"sum_WBev\": 6}, {\"GueltigAbDat\": \"2021-10-08T00:00:00\", \"GueltigAbDatJahr\": 2021, \"GueltigAbDatMM\": 10, \"AlterV20Kurz\": \"80-99\", \"sum_WBev\": 6}, {\"GueltigAbDat\": \"2020-11-09T00:00:00\", \"GueltigAbDatJahr\": 2020, \"GueltigAbDatMM\": 11, \"AlterV20Kurz\": \"80-99\", \"sum_WBev\": 6}, {\"GueltigAbDat\": \"2021-10-27T00:00:00\", \"GueltigAbDatJahr\": 2021, \"GueltigAbDatMM\": 10, \"AlterV20Kurz\": \"80-99\", \"sum_WBev\": 6}, {\"GueltigAbDat\": \"2021-11-14T00:00:00\", \"GueltigAbDatJahr\": 2021, \"GueltigAbDatMM\": 11, \"AlterV20Kurz\": \"80-99\", \"sum_WBev\": 6}, {\"GueltigAbDat\": \"2020-11-29T00:00:00\", \"GueltigAbDatJahr\": 2020, \"GueltigAbDatMM\": 11, \"AlterV20Kurz\": \"60-79\", \"sum_WBev\": 6}, {\"GueltigAbDat\": \"2021-11-25T00:00:00\", \"GueltigAbDatJahr\": 2021, \"GueltigAbDatMM\": 11, \"AlterV20Kurz\": \"80-99\", \"sum_WBev\": 6}, {\"GueltigAbDat\": \"2021-02-16T00:00:00\", \"GueltigAbDatJahr\": 2021, \"GueltigAbDatMM\": 2, \"AlterV20Kurz\": \"60-79\", \"sum_WBev\": 6}, {\"GueltigAbDat\": \"2021-02-12T00:00:00\", \"GueltigAbDatJahr\": 2021, \"GueltigAbDatMM\": 2, \"AlterV20Kurz\": \"80-99\", \"sum_WBev\": 6}, {\"GueltigAbDat\": \"2020-11-19T00:00:00\", \"GueltigAbDatJahr\": 2020, \"GueltigAbDatMM\": 11, \"AlterV20Kurz\": \"80-99\", \"sum_WBev\": 6}, {\"GueltigAbDat\": \"2021-09-17T00:00:00\", \"GueltigAbDatJahr\": 2021, \"GueltigAbDatMM\": 9, \"AlterV20Kurz\": \"80-99\", \"sum_WBev\": 6}, {\"GueltigAbDat\": \"2021-06-27T00:00:00\", \"GueltigAbDatJahr\": 2021, \"GueltigAbDatMM\": 6, \"AlterV20Kurz\": \"80-99\", \"sum_WBev\": 6}, {\"GueltigAbDat\": \"2021-02-10T00:00:00\", \"GueltigAbDatJahr\": 2021, \"GueltigAbDatMM\": 2, \"AlterV20Kurz\": \"80-99\", \"sum_WBev\": 6}, {\"GueltigAbDat\": \"2021-07-28T00:00:00\", \"GueltigAbDatJahr\": 2021, \"GueltigAbDatMM\": 7, \"AlterV20Kurz\": \"60-79\", \"sum_WBev\": 6}, {\"GueltigAbDat\": \"2021-07-19T00:00:00\", \"GueltigAbDatJahr\": 2021, \"GueltigAbDatMM\": 7, \"AlterV20Kurz\": \"80-99\", \"sum_WBev\": 6}, {\"GueltigAbDat\": \"2021-06-07T00:00:00\", \"GueltigAbDatJahr\": 2021, \"GueltigAbDatMM\": 6, \"AlterV20Kurz\": \"80-99\", \"sum_WBev\": 6}, {\"GueltigAbDat\": \"2021-07-24T00:00:00\", \"GueltigAbDatJahr\": 2021, \"GueltigAbDatMM\": 7, \"AlterV20Kurz\": \"80-99\", \"sum_WBev\": 6}, {\"GueltigAbDat\": \"2021-06-02T00:00:00\", \"GueltigAbDatJahr\": 2021, \"GueltigAbDatMM\": 6, \"AlterV20Kurz\": \"80-99\", \"sum_WBev\": 6}, {\"GueltigAbDat\": \"2021-10-18T00:00:00\", \"GueltigAbDatJahr\": 2021, \"GueltigAbDatMM\": 10, \"AlterV20Kurz\": \"80-99\", \"sum_WBev\": 6}, {\"GueltigAbDat\": \"2021-07-27T00:00:00\", \"GueltigAbDatJahr\": 2021, \"GueltigAbDatMM\": 7, \"AlterV20Kurz\": \"80-99\", \"sum_WBev\": 6}, {\"GueltigAbDat\": \"2021-05-31T00:00:00\", \"GueltigAbDatJahr\": 2021, \"GueltigAbDatMM\": 5, \"AlterV20Kurz\": \"80-99\", \"sum_WBev\": 6}, {\"GueltigAbDat\": \"2021-05-28T00:00:00\", \"GueltigAbDatJahr\": 2021, \"GueltigAbDatMM\": 5, \"AlterV20Kurz\": \"80-99\", \"sum_WBev\": 6}, {\"GueltigAbDat\": \"2021-06-15T00:00:00\", \"GueltigAbDatJahr\": 2021, \"GueltigAbDatMM\": 6, \"AlterV20Kurz\": \"80-99\", \"sum_WBev\": 6}, {\"GueltigAbDat\": \"2021-05-27T00:00:00\", \"GueltigAbDatJahr\": 2021, \"GueltigAbDatMM\": 5, \"AlterV20Kurz\": \"80-99\", \"sum_WBev\": 6}, {\"GueltigAbDat\": \"2021-05-20T00:00:00\", \"GueltigAbDatJahr\": 2021, \"GueltigAbDatMM\": 5, \"AlterV20Kurz\": \"80-99\", \"sum_WBev\": 6}, {\"GueltigAbDat\": \"2021-11-18T00:00:00\", \"GueltigAbDatJahr\": 2021, \"GueltigAbDatMM\": 11, \"AlterV20Kurz\": \"80-99\", \"sum_WBev\": 6}, {\"GueltigAbDat\": \"2021-01-05T00:00:00\", \"GueltigAbDatJahr\": 2021, \"GueltigAbDatMM\": 1, \"AlterV20Kurz\": \"80-99\", \"sum_WBev\": 6}, {\"GueltigAbDat\": \"2020-11-11T00:00:00\", \"GueltigAbDatJahr\": 2020, \"GueltigAbDatMM\": 11, \"AlterV20Kurz\": \"80-99\", \"sum_WBev\": 6}, {\"GueltigAbDat\": \"2021-04-28T00:00:00\", \"GueltigAbDatJahr\": 2021, \"GueltigAbDatMM\": 4, \"AlterV20Kurz\": \"80-99\", \"sum_WBev\": 6}, {\"GueltigAbDat\": \"2021-02-09T00:00:00\", \"GueltigAbDatJahr\": 2021, \"GueltigAbDatMM\": 2, \"AlterV20Kurz\": \"80-99\", \"sum_WBev\": 6}, {\"GueltigAbDat\": \"2021-07-16T00:00:00\", \"GueltigAbDatJahr\": 2021, \"GueltigAbDatMM\": 7, \"AlterV20Kurz\": \"80-99\", \"sum_WBev\": 6}, {\"GueltigAbDat\": \"2021-11-13T00:00:00\", \"GueltigAbDatJahr\": 2021, \"GueltigAbDatMM\": 11, \"AlterV20Kurz\": \"80-99\", \"sum_WBev\": 6}, {\"GueltigAbDat\": \"2021-04-26T00:00:00\", \"GueltigAbDatJahr\": 2021, \"GueltigAbDatMM\": 4, \"AlterV20Kurz\": \"80-99\", \"sum_WBev\": 6}, {\"GueltigAbDat\": \"2021-11-03T00:00:00\", \"GueltigAbDatJahr\": 2021, \"GueltigAbDatMM\": 11, \"AlterV20Kurz\": \"80-99\", \"sum_WBev\": 6}, {\"GueltigAbDat\": \"2021-02-28T00:00:00\", \"GueltigAbDatJahr\": 2021, \"GueltigAbDatMM\": 2, \"AlterV20Kurz\": \"80-99\", \"sum_WBev\": 6}, {\"GueltigAbDat\": \"2021-09-04T00:00:00\", \"GueltigAbDatJahr\": 2021, \"GueltigAbDatMM\": 9, \"AlterV20Kurz\": \"80-99\", \"sum_WBev\": 6}, {\"GueltigAbDat\": \"2021-06-22T00:00:00\", \"GueltigAbDatJahr\": 2021, \"GueltigAbDatMM\": 6, \"AlterV20Kurz\": \"80-99\", \"sum_WBev\": 6}, {\"GueltigAbDat\": \"2020-11-13T00:00:00\", \"GueltigAbDatJahr\": 2020, \"GueltigAbDatMM\": 11, \"AlterV20Kurz\": \"80-99\", \"sum_WBev\": 6}, {\"GueltigAbDat\": \"2021-03-31T00:00:00\", \"GueltigAbDatJahr\": 2021, \"GueltigAbDatMM\": 3, \"AlterV20Kurz\": \"80-99\", \"sum_WBev\": 6}, {\"GueltigAbDat\": \"2021-03-27T00:00:00\", \"GueltigAbDatJahr\": 2021, \"GueltigAbDatMM\": 3, \"AlterV20Kurz\": \"80-99\", \"sum_WBev\": 6}, {\"GueltigAbDat\": \"2021-07-02T00:00:00\", \"GueltigAbDatJahr\": 2021, \"GueltigAbDatMM\": 7, \"AlterV20Kurz\": \"80-99\", \"sum_WBev\": 6}, {\"GueltigAbDat\": \"2021-07-01T00:00:00\", \"GueltigAbDatJahr\": 2021, \"GueltigAbDatMM\": 7, \"AlterV20Kurz\": \"80-99\", \"sum_WBev\": 6}, {\"GueltigAbDat\": \"2021-09-08T00:00:00\", \"GueltigAbDatJahr\": 2021, \"GueltigAbDatMM\": 9, \"AlterV20Kurz\": \"80-99\", \"sum_WBev\": 6}, {\"GueltigAbDat\": \"2021-11-28T00:00:00\", \"GueltigAbDatJahr\": 2021, \"GueltigAbDatMM\": 11, \"AlterV20Kurz\": \"80-99\", \"sum_WBev\": 6}, {\"GueltigAbDat\": \"2021-01-24T00:00:00\", \"GueltigAbDatJahr\": 2021, \"GueltigAbDatMM\": 1, \"AlterV20Kurz\": \"80-99\", \"sum_WBev\": 6}, {\"GueltigAbDat\": \"2021-03-06T00:00:00\", \"GueltigAbDatJahr\": 2021, \"GueltigAbDatMM\": 3, \"AlterV20Kurz\": \"60-79\", \"sum_WBev\": 6}, {\"GueltigAbDat\": \"2021-03-06T00:00:00\", \"GueltigAbDatJahr\": 2021, \"GueltigAbDatMM\": 3, \"AlterV20Kurz\": \"80-99\", \"sum_WBev\": 6}, {\"GueltigAbDat\": \"2021-11-05T00:00:00\", \"GueltigAbDatJahr\": 2021, \"GueltigAbDatMM\": 11, \"AlterV20Kurz\": \"60-79\", \"sum_WBev\": 6}, {\"GueltigAbDat\": \"2021-11-29T00:00:00\", \"GueltigAbDatJahr\": 2021, \"GueltigAbDatMM\": 11, \"AlterV20Kurz\": \"80-99\", \"sum_WBev\": 6}, {\"GueltigAbDat\": \"2021-04-09T00:00:00\", \"GueltigAbDatJahr\": 2021, \"GueltigAbDatMM\": 4, \"AlterV20Kurz\": \"60-79\", \"sum_WBev\": 6}, {\"GueltigAbDat\": \"2021-04-06T00:00:00\", \"GueltigAbDatJahr\": 2021, \"GueltigAbDatMM\": 4, \"AlterV20Kurz\": \"80-99\", \"sum_WBev\": 6}, {\"GueltigAbDat\": \"2021-10-02T00:00:00\", \"GueltigAbDatJahr\": 2021, \"GueltigAbDatMM\": 10, \"AlterV20Kurz\": \"60-79\", \"sum_WBev\": 6}, {\"GueltigAbDat\": \"2021-07-09T00:00:00\", \"GueltigAbDatJahr\": 2021, \"GueltigAbDatMM\": 7, \"AlterV20Kurz\": \"60-79\", \"sum_WBev\": 6}, {\"GueltigAbDat\": \"2021-08-24T00:00:00\", \"GueltigAbDatJahr\": 2021, \"GueltigAbDatMM\": 8, \"AlterV20Kurz\": \"80-99\", \"sum_WBev\": 6}, {\"GueltigAbDat\": \"2021-11-27T00:00:00\", \"GueltigAbDatJahr\": 2021, \"GueltigAbDatMM\": 11, \"AlterV20Kurz\": \"60-79\", \"sum_WBev\": 6}, {\"GueltigAbDat\": \"2020-11-30T00:00:00\", \"GueltigAbDatJahr\": 2020, \"GueltigAbDatMM\": 11, \"AlterV20Kurz\": \"60-79\", \"sum_WBev\": 6}, {\"GueltigAbDat\": \"2021-04-22T00:00:00\", \"GueltigAbDatJahr\": 2021, \"GueltigAbDatMM\": 4, \"AlterV20Kurz\": \"80-99\", \"sum_WBev\": 6}, {\"GueltigAbDat\": \"2021-11-12T00:00:00\", \"GueltigAbDatJahr\": 2021, \"GueltigAbDatMM\": 11, \"AlterV20Kurz\": \"80-99\", \"sum_WBev\": 6}, {\"GueltigAbDat\": \"2021-10-31T00:00:00\", \"GueltigAbDatJahr\": 2021, \"GueltigAbDatMM\": 10, \"AlterV20Kurz\": \"80-99\", \"sum_WBev\": 6}, {\"GueltigAbDat\": \"2021-04-11T00:00:00\", \"GueltigAbDatJahr\": 2021, \"GueltigAbDatMM\": 4, \"AlterV20Kurz\": \"80-99\", \"sum_WBev\": 6}, {\"GueltigAbDat\": \"2021-11-15T00:00:00\", \"GueltigAbDatJahr\": 2021, \"GueltigAbDatMM\": 11, \"AlterV20Kurz\": \"60-79\", \"sum_WBev\": 6}, {\"GueltigAbDat\": \"2021-07-08T00:00:00\", \"GueltigAbDatJahr\": 2021, \"GueltigAbDatMM\": 7, \"AlterV20Kurz\": \"80-99\", \"sum_WBev\": 6}, {\"GueltigAbDat\": \"2021-07-08T00:00:00\", \"GueltigAbDatJahr\": 2021, \"GueltigAbDatMM\": 7, \"AlterV20Kurz\": \"60-79\", \"sum_WBev\": 6}, {\"GueltigAbDat\": \"2021-06-20T00:00:00\", \"GueltigAbDatJahr\": 2021, \"GueltigAbDatMM\": 6, \"AlterV20Kurz\": \"80-99\", \"sum_WBev\": 6}, {\"GueltigAbDat\": \"2021-02-24T00:00:00\", \"GueltigAbDatJahr\": 2021, \"GueltigAbDatMM\": 2, \"AlterV20Kurz\": \"80-99\", \"sum_WBev\": 6}, {\"GueltigAbDat\": \"2021-06-16T00:00:00\", \"GueltigAbDatJahr\": 2021, \"GueltigAbDatMM\": 6, \"AlterV20Kurz\": \"80-99\", \"sum_WBev\": 5}, {\"GueltigAbDat\": \"2021-06-14T00:00:00\", \"GueltigAbDatJahr\": 2021, \"GueltigAbDatMM\": 6, \"AlterV20Kurz\": \"60-79\", \"sum_WBev\": 5}, {\"GueltigAbDat\": \"2021-11-11T00:00:00\", \"GueltigAbDatJahr\": 2021, \"GueltigAbDatMM\": 11, \"AlterV20Kurz\": \"60-79\", \"sum_WBev\": 5}, {\"GueltigAbDat\": \"2021-01-28T00:00:00\", \"GueltigAbDatJahr\": 2021, \"GueltigAbDatMM\": 1, \"AlterV20Kurz\": \"80-99\", \"sum_WBev\": 5}, {\"GueltigAbDat\": \"2021-02-01T00:00:00\", \"GueltigAbDatJahr\": 2021, \"GueltigAbDatMM\": 2, \"AlterV20Kurz\": \"80-99\", \"sum_WBev\": 5}, {\"GueltigAbDat\": \"2021-01-29T00:00:00\", \"GueltigAbDatJahr\": 2021, \"GueltigAbDatMM\": 1, \"AlterV20Kurz\": \"60-79\", \"sum_WBev\": 5}, {\"GueltigAbDat\": \"2021-06-24T00:00:00\", \"GueltigAbDatJahr\": 2021, \"GueltigAbDatMM\": 6, \"AlterV20Kurz\": \"60-79\", \"sum_WBev\": 5}, {\"GueltigAbDat\": \"2021-06-13T00:00:00\", \"GueltigAbDatJahr\": 2021, \"GueltigAbDatMM\": 6, \"AlterV20Kurz\": \"80-99\", \"sum_WBev\": 5}, {\"GueltigAbDat\": \"2021-11-11T00:00:00\", \"GueltigAbDatJahr\": 2021, \"GueltigAbDatMM\": 11, \"AlterV20Kurz\": \"80-99\", \"sum_WBev\": 5}, {\"GueltigAbDat\": \"2021-09-16T00:00:00\", \"GueltigAbDatJahr\": 2021, \"GueltigAbDatMM\": 9, \"AlterV20Kurz\": \"80-99\", \"sum_WBev\": 5}, {\"GueltigAbDat\": \"2021-06-11T00:00:00\", \"GueltigAbDatJahr\": 2021, \"GueltigAbDatMM\": 6, \"AlterV20Kurz\": \"60-79\", \"sum_WBev\": 5}, {\"GueltigAbDat\": \"2021-04-01T00:00:00\", \"GueltigAbDatJahr\": 2021, \"GueltigAbDatMM\": 4, \"AlterV20Kurz\": \"60-79\", \"sum_WBev\": 5}, {\"GueltigAbDat\": \"2021-04-13T00:00:00\", \"GueltigAbDatJahr\": 2021, \"GueltigAbDatMM\": 4, \"AlterV20Kurz\": \"80-99\", \"sum_WBev\": 5}, {\"GueltigAbDat\": \"2021-04-12T00:00:00\", \"GueltigAbDatJahr\": 2021, \"GueltigAbDatMM\": 4, \"AlterV20Kurz\": \"80-99\", \"sum_WBev\": 5}, {\"GueltigAbDat\": \"2021-04-09T00:00:00\", \"GueltigAbDatJahr\": 2021, \"GueltigAbDatMM\": 4, \"AlterV20Kurz\": \"80-99\", \"sum_WBev\": 5}, {\"GueltigAbDat\": \"2021-02-26T00:00:00\", \"GueltigAbDatJahr\": 2021, \"GueltigAbDatMM\": 2, \"AlterV20Kurz\": \"80-99\", \"sum_WBev\": 5}, {\"GueltigAbDat\": \"2021-11-27T00:00:00\", \"GueltigAbDatJahr\": 2021, \"GueltigAbDatMM\": 11, \"AlterV20Kurz\": \"80-99\", \"sum_WBev\": 5}, {\"GueltigAbDat\": \"2021-04-02T00:00:00\", \"GueltigAbDatJahr\": 2021, \"GueltigAbDatMM\": 4, \"AlterV20Kurz\": \"80-99\", \"sum_WBev\": 5}, {\"GueltigAbDat\": \"2021-03-02T00:00:00\", \"GueltigAbDatJahr\": 2021, \"GueltigAbDatMM\": 3, \"AlterV20Kurz\": \"80-99\", \"sum_WBev\": 5}, {\"GueltigAbDat\": \"2021-11-15T00:00:00\", \"GueltigAbDatJahr\": 2021, \"GueltigAbDatMM\": 11, \"AlterV20Kurz\": \"80-99\", \"sum_WBev\": 5}, {\"GueltigAbDat\": \"2020-11-03T00:00:00\", \"GueltigAbDatJahr\": 2020, \"GueltigAbDatMM\": 11, \"AlterV20Kurz\": \"80-99\", \"sum_WBev\": 5}, {\"GueltigAbDat\": \"2020-11-03T00:00:00\", \"GueltigAbDatJahr\": 2020, \"GueltigAbDatMM\": 11, \"AlterV20Kurz\": \"60-79\", \"sum_WBev\": 5}, {\"GueltigAbDat\": \"2020-11-02T00:00:00\", \"GueltigAbDatJahr\": 2020, \"GueltigAbDatMM\": 11, \"AlterV20Kurz\": \"80-99\", \"sum_WBev\": 5}, {\"GueltigAbDat\": \"2021-03-07T00:00:00\", \"GueltigAbDatJahr\": 2021, \"GueltigAbDatMM\": 3, \"AlterV20Kurz\": \"80-99\", \"sum_WBev\": 5}, {\"GueltigAbDat\": \"2021-03-08T00:00:00\", \"GueltigAbDatJahr\": 2021, \"GueltigAbDatMM\": 3, \"AlterV20Kurz\": \"60-79\", \"sum_WBev\": 5}, {\"GueltigAbDat\": \"2021-03-08T00:00:00\", \"GueltigAbDatJahr\": 2021, \"GueltigAbDatMM\": 3, \"AlterV20Kurz\": \"80-99\", \"sum_WBev\": 5}, {\"GueltigAbDat\": \"2021-04-14T00:00:00\", \"GueltigAbDatJahr\": 2021, \"GueltigAbDatMM\": 4, \"AlterV20Kurz\": \"80-99\", \"sum_WBev\": 5}, {\"GueltigAbDat\": \"2021-02-22T00:00:00\", \"GueltigAbDatJahr\": 2021, \"GueltigAbDatMM\": 2, \"AlterV20Kurz\": \"80-99\", \"sum_WBev\": 5}, {\"GueltigAbDat\": \"2021-04-18T00:00:00\", \"GueltigAbDatJahr\": 2021, \"GueltigAbDatMM\": 4, \"AlterV20Kurz\": \"80-99\", \"sum_WBev\": 5}, {\"GueltigAbDat\": \"2021-04-19T00:00:00\", \"GueltigAbDatJahr\": 2021, \"GueltigAbDatMM\": 4, \"AlterV20Kurz\": \"80-99\", \"sum_WBev\": 5}, {\"GueltigAbDat\": \"2021-04-20T00:00:00\", \"GueltigAbDatJahr\": 2021, \"GueltigAbDatMM\": 4, \"AlterV20Kurz\": \"60-79\", \"sum_WBev\": 5}, {\"GueltigAbDat\": \"2021-04-25T00:00:00\", \"GueltigAbDatJahr\": 2021, \"GueltigAbDatMM\": 4, \"AlterV20Kurz\": \"60-79\", \"sum_WBev\": 5}, {\"GueltigAbDat\": \"2021-11-26T00:00:00\", \"GueltigAbDatJahr\": 2021, \"GueltigAbDatMM\": 11, \"AlterV20Kurz\": \"60-79\", \"sum_WBev\": 5}, {\"GueltigAbDat\": \"2021-02-17T00:00:00\", \"GueltigAbDatJahr\": 2021, \"GueltigAbDatMM\": 2, \"AlterV20Kurz\": \"60-79\", \"sum_WBev\": 5}, {\"GueltigAbDat\": \"2021-02-15T00:00:00\", \"GueltigAbDatJahr\": 2021, \"GueltigAbDatMM\": 2, \"AlterV20Kurz\": \"80-99\", \"sum_WBev\": 5}, {\"GueltigAbDat\": \"2021-05-04T00:00:00\", \"GueltigAbDatJahr\": 2021, \"GueltigAbDatMM\": 5, \"AlterV20Kurz\": \"80-99\", \"sum_WBev\": 5}, {\"GueltigAbDat\": \"2021-11-22T00:00:00\", \"GueltigAbDatJahr\": 2021, \"GueltigAbDatMM\": 11, \"AlterV20Kurz\": \"60-79\", \"sum_WBev\": 5}, {\"GueltigAbDat\": \"2021-05-07T00:00:00\", \"GueltigAbDatJahr\": 2021, \"GueltigAbDatMM\": 5, \"AlterV20Kurz\": \"80-99\", \"sum_WBev\": 5}, {\"GueltigAbDat\": \"2021-05-08T00:00:00\", \"GueltigAbDatJahr\": 2021, \"GueltigAbDatMM\": 5, \"AlterV20Kurz\": \"60-79\", \"sum_WBev\": 5}, {\"GueltigAbDat\": \"2021-11-19T00:00:00\", \"GueltigAbDatJahr\": 2021, \"GueltigAbDatMM\": 11, \"AlterV20Kurz\": \"80-99\", \"sum_WBev\": 5}, {\"GueltigAbDat\": \"2021-05-16T00:00:00\", \"GueltigAbDatJahr\": 2021, \"GueltigAbDatMM\": 5, \"AlterV20Kurz\": \"60-79\", \"sum_WBev\": 5}, {\"GueltigAbDat\": \"2021-02-07T00:00:00\", \"GueltigAbDatJahr\": 2021, \"GueltigAbDatMM\": 2, \"AlterV20Kurz\": \"80-99\", \"sum_WBev\": 5}, {\"GueltigAbDat\": \"2021-05-21T00:00:00\", \"GueltigAbDatJahr\": 2021, \"GueltigAbDatMM\": 5, \"AlterV20Kurz\": \"80-99\", \"sum_WBev\": 5}, {\"GueltigAbDat\": \"2021-02-11T00:00:00\", \"GueltigAbDatJahr\": 2021, \"GueltigAbDatMM\": 2, \"AlterV20Kurz\": \"80-99\", \"sum_WBev\": 5}, {\"GueltigAbDat\": \"2021-06-25T00:00:00\", \"GueltigAbDatJahr\": 2021, \"GueltigAbDatMM\": 6, \"AlterV20Kurz\": \"80-99\", \"sum_WBev\": 5}, {\"GueltigAbDat\": \"2021-08-19T00:00:00\", \"GueltigAbDatJahr\": 2021, \"GueltigAbDatMM\": 8, \"AlterV20Kurz\": \"60-79\", \"sum_WBev\": 5}, {\"GueltigAbDat\": \"2021-07-22T00:00:00\", \"GueltigAbDatJahr\": 2021, \"GueltigAbDatMM\": 7, \"AlterV20Kurz\": \"80-99\", \"sum_WBev\": 5}, {\"GueltigAbDat\": \"2021-10-16T00:00:00\", \"GueltigAbDatJahr\": 2021, \"GueltigAbDatMM\": 10, \"AlterV20Kurz\": \"80-99\", \"sum_WBev\": 5}, {\"GueltigAbDat\": \"2021-09-05T00:00:00\", \"GueltigAbDatJahr\": 2021, \"GueltigAbDatMM\": 9, \"AlterV20Kurz\": \"80-99\", \"sum_WBev\": 5}, {\"GueltigAbDat\": \"2021-10-06T00:00:00\", \"GueltigAbDatJahr\": 2021, \"GueltigAbDatMM\": 10, \"AlterV20Kurz\": \"80-99\", \"sum_WBev\": 5}, {\"GueltigAbDat\": \"2021-01-06T00:00:00\", \"GueltigAbDatJahr\": 2021, \"GueltigAbDatMM\": 1, \"AlterV20Kurz\": \"80-99\", \"sum_WBev\": 5}, {\"GueltigAbDat\": \"2021-01-05T00:00:00\", \"GueltigAbDatJahr\": 2021, \"GueltigAbDatMM\": 1, \"AlterV20Kurz\": \"60-79\", \"sum_WBev\": 5}, {\"GueltigAbDat\": \"2021-09-03T00:00:00\", \"GueltigAbDatJahr\": 2021, \"GueltigAbDatMM\": 9, \"AlterV20Kurz\": \"80-99\", \"sum_WBev\": 5}, {\"GueltigAbDat\": \"2021-10-11T00:00:00\", \"GueltigAbDatJahr\": 2021, \"GueltigAbDatMM\": 10, \"AlterV20Kurz\": \"80-99\", \"sum_WBev\": 5}, {\"GueltigAbDat\": \"2021-09-27T00:00:00\", \"GueltigAbDatJahr\": 2021, \"GueltigAbDatMM\": 9, \"AlterV20Kurz\": \"60-79\", \"sum_WBev\": 5}, {\"GueltigAbDat\": \"2021-08-06T00:00:00\", \"GueltigAbDatJahr\": 2021, \"GueltigAbDatMM\": 8, \"AlterV20Kurz\": \"80-99\", \"sum_WBev\": 5}, {\"GueltigAbDat\": \"2021-09-27T00:00:00\", \"GueltigAbDatJahr\": 2021, \"GueltigAbDatMM\": 9, \"AlterV20Kurz\": \"80-99\", \"sum_WBev\": 5}, {\"GueltigAbDat\": \"2021-09-28T00:00:00\", \"GueltigAbDatJahr\": 2021, \"GueltigAbDatMM\": 9, \"AlterV20Kurz\": \"80-99\", \"sum_WBev\": 5}, {\"GueltigAbDat\": \"2021-09-29T00:00:00\", \"GueltigAbDatJahr\": 2021, \"GueltigAbDatMM\": 9, \"AlterV20Kurz\": \"80-99\", \"sum_WBev\": 5}, {\"GueltigAbDat\": \"2020-11-27T00:00:00\", \"GueltigAbDatJahr\": 2020, \"GueltigAbDatMM\": 11, \"AlterV20Kurz\": \"80-99\", \"sum_WBev\": 5}, {\"GueltigAbDat\": \"2021-10-09T00:00:00\", \"GueltigAbDatJahr\": 2021, \"GueltigAbDatMM\": 10, \"AlterV20Kurz\": \"80-99\", \"sum_WBev\": 5}, {\"GueltigAbDat\": \"2021-08-13T00:00:00\", \"GueltigAbDatJahr\": 2021, \"GueltigAbDatMM\": 8, \"AlterV20Kurz\": \"80-99\", \"sum_WBev\": 5}, {\"GueltigAbDat\": \"2021-10-01T00:00:00\", \"GueltigAbDatJahr\": 2021, \"GueltigAbDatMM\": 10, \"AlterV20Kurz\": \"60-79\", \"sum_WBev\": 5}, {\"GueltigAbDat\": \"2021-08-30T00:00:00\", \"GueltigAbDatJahr\": 2021, \"GueltigAbDatMM\": 8, \"AlterV20Kurz\": \"80-99\", \"sum_WBev\": 5}, {\"GueltigAbDat\": \"2021-08-28T00:00:00\", \"GueltigAbDatJahr\": 2021, \"GueltigAbDatMM\": 8, \"AlterV20Kurz\": \"80-99\", \"sum_WBev\": 5}, {\"GueltigAbDat\": \"2021-08-19T00:00:00\", \"GueltigAbDatJahr\": 2021, \"GueltigAbDatMM\": 8, \"AlterV20Kurz\": \"80-99\", \"sum_WBev\": 5}, {\"GueltigAbDat\": \"2021-08-28T00:00:00\", \"GueltigAbDatJahr\": 2021, \"GueltigAbDatMM\": 8, \"AlterV20Kurz\": \"60-79\", \"sum_WBev\": 5}, {\"GueltigAbDat\": \"2021-08-20T00:00:00\", \"GueltigAbDatJahr\": 2021, \"GueltigAbDatMM\": 8, \"AlterV20Kurz\": \"80-99\", \"sum_WBev\": 5}, {\"GueltigAbDat\": \"2020-12-29T00:00:00\", \"GueltigAbDatJahr\": 2020, \"GueltigAbDatMM\": 12, \"AlterV20Kurz\": \"60-79\", \"sum_WBev\": 5}, {\"GueltigAbDat\": \"2020-12-25T00:00:00\", \"GueltigAbDatJahr\": 2020, \"GueltigAbDatMM\": 12, \"AlterV20Kurz\": \"60-79\", \"sum_WBev\": 5}, {\"GueltigAbDat\": \"2021-07-25T00:00:00\", \"GueltigAbDatJahr\": 2021, \"GueltigAbDatMM\": 7, \"AlterV20Kurz\": \"80-99\", \"sum_WBev\": 5}, {\"GueltigAbDat\": \"2020-12-08T00:00:00\", \"GueltigAbDatJahr\": 2020, \"GueltigAbDatMM\": 12, \"AlterV20Kurz\": \"60-79\", \"sum_WBev\": 5}, {\"GueltigAbDat\": \"2021-10-27T00:00:00\", \"GueltigAbDatJahr\": 2021, \"GueltigAbDatMM\": 10, \"AlterV20Kurz\": \"60-79\", \"sum_WBev\": 5}, {\"GueltigAbDat\": \"2021-06-30T00:00:00\", \"GueltigAbDatJahr\": 2021, \"GueltigAbDatMM\": 6, \"AlterV20Kurz\": \"60-79\", \"sum_WBev\": 5}, {\"GueltigAbDat\": \"2021-11-02T00:00:00\", \"GueltigAbDatJahr\": 2021, \"GueltigAbDatMM\": 11, \"AlterV20Kurz\": \"80-99\", \"sum_WBev\": 5}, {\"GueltigAbDat\": \"2021-07-04T00:00:00\", \"GueltigAbDatJahr\": 2021, \"GueltigAbDatMM\": 7, \"AlterV20Kurz\": \"80-99\", \"sum_WBev\": 5}, {\"GueltigAbDat\": \"2021-09-23T00:00:00\", \"GueltigAbDatJahr\": 2021, \"GueltigAbDatMM\": 9, \"AlterV20Kurz\": \"80-99\", \"sum_WBev\": 5}, {\"GueltigAbDat\": \"2021-07-12T00:00:00\", \"GueltigAbDatJahr\": 2021, \"GueltigAbDatMM\": 7, \"AlterV20Kurz\": \"60-79\", \"sum_WBev\": 5}, {\"GueltigAbDat\": \"2021-09-11T00:00:00\", \"GueltigAbDatJahr\": 2021, \"GueltigAbDatMM\": 9, \"AlterV20Kurz\": \"80-99\", \"sum_WBev\": 5}, {\"GueltigAbDat\": \"2021-07-03T00:00:00\", \"GueltigAbDatJahr\": 2021, \"GueltigAbDatMM\": 7, \"AlterV20Kurz\": \"60-79\", \"sum_WBev\": 5}, {\"GueltigAbDat\": \"2021-07-14T00:00:00\", \"GueltigAbDatJahr\": 2021, \"GueltigAbDatMM\": 7, \"AlterV20Kurz\": \"80-99\", \"sum_WBev\": 5}, {\"GueltigAbDat\": \"2021-09-12T00:00:00\", \"GueltigAbDatJahr\": 2021, \"GueltigAbDatMM\": 9, \"AlterV20Kurz\": \"80-99\", \"sum_WBev\": 5}, {\"GueltigAbDat\": \"2021-01-20T00:00:00\", \"GueltigAbDatJahr\": 2021, \"GueltigAbDatMM\": 1, \"AlterV20Kurz\": \"80-99\", \"sum_WBev\": 5}, {\"GueltigAbDat\": \"2021-11-01T00:00:00\", \"GueltigAbDatJahr\": 2021, \"GueltigAbDatMM\": 11, \"AlterV20Kurz\": \"80-99\", \"sum_WBev\": 5}, {\"GueltigAbDat\": \"2021-10-24T00:00:00\", \"GueltigAbDatJahr\": 2021, \"GueltigAbDatMM\": 10, \"AlterV20Kurz\": \"60-79\", \"sum_WBev\": 5}, {\"GueltigAbDat\": \"2021-10-23T00:00:00\", \"GueltigAbDatJahr\": 2021, \"GueltigAbDatMM\": 10, \"AlterV20Kurz\": \"80-99\", \"sum_WBev\": 5}, {\"GueltigAbDat\": \"2021-09-16T00:00:00\", \"GueltigAbDatJahr\": 2021, \"GueltigAbDatMM\": 9, \"AlterV20Kurz\": \"60-79\", \"sum_WBev\": 5}, {\"GueltigAbDat\": \"2021-09-19T00:00:00\", \"GueltigAbDatJahr\": 2021, \"GueltigAbDatMM\": 9, \"AlterV20Kurz\": \"80-99\", \"sum_WBev\": 4}, {\"GueltigAbDat\": \"2021-09-14T00:00:00\", \"GueltigAbDatJahr\": 2021, \"GueltigAbDatMM\": 9, \"AlterV20Kurz\": \"80-99\", \"sum_WBev\": 4}, {\"GueltigAbDat\": \"2021-04-15T00:00:00\", \"GueltigAbDatJahr\": 2021, \"GueltigAbDatMM\": 4, \"AlterV20Kurz\": \"80-99\", \"sum_WBev\": 4}, {\"GueltigAbDat\": \"2021-04-19T00:00:00\", \"GueltigAbDatJahr\": 2021, \"GueltigAbDatMM\": 4, \"AlterV20Kurz\": \"60-79\", \"sum_WBev\": 4}, {\"GueltigAbDat\": \"2021-09-01T00:00:00\", \"GueltigAbDatJahr\": 2021, \"GueltigAbDatMM\": 9, \"AlterV20Kurz\": \"60-79\", \"sum_WBev\": 4}, {\"GueltigAbDat\": \"2021-03-16T00:00:00\", \"GueltigAbDatJahr\": 2021, \"GueltigAbDatMM\": 3, \"AlterV20Kurz\": \"80-99\", \"sum_WBev\": 4}, {\"GueltigAbDat\": \"2021-10-02T00:00:00\", \"GueltigAbDatJahr\": 2021, \"GueltigAbDatMM\": 10, \"AlterV20Kurz\": \"80-99\", \"sum_WBev\": 4}, {\"GueltigAbDat\": \"2021-10-04T00:00:00\", \"GueltigAbDatJahr\": 2021, \"GueltigAbDatMM\": 10, \"AlterV20Kurz\": \"80-99\", \"sum_WBev\": 4}, {\"GueltigAbDat\": \"2021-04-23T00:00:00\", \"GueltigAbDatJahr\": 2021, \"GueltigAbDatMM\": 4, \"AlterV20Kurz\": \"80-99\", \"sum_WBev\": 4}, {\"GueltigAbDat\": \"2021-03-17T00:00:00\", \"GueltigAbDatJahr\": 2021, \"GueltigAbDatMM\": 3, \"AlterV20Kurz\": \"80-99\", \"sum_WBev\": 4}, {\"GueltigAbDat\": \"2021-09-30T00:00:00\", \"GueltigAbDatJahr\": 2021, \"GueltigAbDatMM\": 9, \"AlterV20Kurz\": \"60-79\", \"sum_WBev\": 4}, {\"GueltigAbDat\": \"2021-03-22T00:00:00\", \"GueltigAbDatJahr\": 2021, \"GueltigAbDatMM\": 3, \"AlterV20Kurz\": \"80-99\", \"sum_WBev\": 4}, {\"GueltigAbDat\": \"2021-09-02T00:00:00\", \"GueltigAbDatJahr\": 2021, \"GueltigAbDatMM\": 9, \"AlterV20Kurz\": \"60-79\", \"sum_WBev\": 4}, {\"GueltigAbDat\": \"2021-04-10T00:00:00\", \"GueltigAbDatJahr\": 2021, \"GueltigAbDatMM\": 4, \"AlterV20Kurz\": \"80-99\", \"sum_WBev\": 4}, {\"GueltigAbDat\": \"2021-04-01T00:00:00\", \"GueltigAbDatJahr\": 2021, \"GueltigAbDatMM\": 4, \"AlterV20Kurz\": \"80-99\", \"sum_WBev\": 4}, {\"GueltigAbDat\": \"2021-09-09T00:00:00\", \"GueltigAbDatJahr\": 2021, \"GueltigAbDatMM\": 9, \"AlterV20Kurz\": \"80-99\", \"sum_WBev\": 4}, {\"GueltigAbDat\": \"2021-09-07T00:00:00\", \"GueltigAbDatJahr\": 2021, \"GueltigAbDatMM\": 9, \"AlterV20Kurz\": \"80-99\", \"sum_WBev\": 4}, {\"GueltigAbDat\": \"2021-09-07T00:00:00\", \"GueltigAbDatJahr\": 2021, \"GueltigAbDatMM\": 9, \"AlterV20Kurz\": \"60-79\", \"sum_WBev\": 4}, {\"GueltigAbDat\": \"2021-03-21T00:00:00\", \"GueltigAbDatJahr\": 2021, \"GueltigAbDatMM\": 3, \"AlterV20Kurz\": \"60-79\", \"sum_WBev\": 4}, {\"GueltigAbDat\": \"2021-03-29T00:00:00\", \"GueltigAbDatJahr\": 2021, \"GueltigAbDatMM\": 3, \"AlterV20Kurz\": \"80-99\", \"sum_WBev\": 4}, {\"GueltigAbDat\": \"2021-09-26T00:00:00\", \"GueltigAbDatJahr\": 2021, \"GueltigAbDatMM\": 9, \"AlterV20Kurz\": \"60-79\", \"sum_WBev\": 4}, {\"GueltigAbDat\": \"2021-09-10T00:00:00\", \"GueltigAbDatJahr\": 2021, \"GueltigAbDatMM\": 9, \"AlterV20Kurz\": \"80-99\", \"sum_WBev\": 4}, {\"GueltigAbDat\": \"2021-09-26T00:00:00\", \"GueltigAbDatJahr\": 2021, \"GueltigAbDatMM\": 9, \"AlterV20Kurz\": \"80-99\", \"sum_WBev\": 4}, {\"GueltigAbDat\": \"2021-04-10T00:00:00\", \"GueltigAbDatJahr\": 2021, \"GueltigAbDatMM\": 4, \"AlterV20Kurz\": \"60-79\", \"sum_WBev\": 4}, {\"GueltigAbDat\": \"2021-04-04T00:00:00\", \"GueltigAbDatJahr\": 2021, \"GueltigAbDatMM\": 4, \"AlterV20Kurz\": \"60-79\", \"sum_WBev\": 4}, {\"GueltigAbDat\": \"2021-03-20T00:00:00\", \"GueltigAbDatJahr\": 2021, \"GueltigAbDatMM\": 3, \"AlterV20Kurz\": \"80-99\", \"sum_WBev\": 4}, {\"GueltigAbDat\": \"2021-09-03T00:00:00\", \"GueltigAbDatJahr\": 2021, \"GueltigAbDatMM\": 9, \"AlterV20Kurz\": \"60-79\", \"sum_WBev\": 4}, {\"GueltigAbDat\": \"2021-04-05T00:00:00\", \"GueltigAbDatJahr\": 2021, \"GueltigAbDatMM\": 4, \"AlterV20Kurz\": \"80-99\", \"sum_WBev\": 4}, {\"GueltigAbDat\": \"2021-03-19T00:00:00\", \"GueltigAbDatJahr\": 2021, \"GueltigAbDatMM\": 3, \"AlterV20Kurz\": \"80-99\", \"sum_WBev\": 4}, {\"GueltigAbDat\": \"2021-09-24T00:00:00\", \"GueltigAbDatJahr\": 2021, \"GueltigAbDatMM\": 9, \"AlterV20Kurz\": \"80-99\", \"sum_WBev\": 4}, {\"GueltigAbDat\": \"2021-03-18T00:00:00\", \"GueltigAbDatJahr\": 2021, \"GueltigAbDatMM\": 3, \"AlterV20Kurz\": \"80-99\", \"sum_WBev\": 4}, {\"GueltigAbDat\": \"2021-08-25T00:00:00\", \"GueltigAbDatJahr\": 2021, \"GueltigAbDatMM\": 8, \"AlterV20Kurz\": \"80-99\", \"sum_WBev\": 4}, {\"GueltigAbDat\": \"2021-06-26T00:00:00\", \"GueltigAbDatJahr\": 2021, \"GueltigAbDatMM\": 6, \"AlterV20Kurz\": \"60-79\", \"sum_WBev\": 4}, {\"GueltigAbDat\": \"2021-10-07T00:00:00\", \"GueltigAbDatJahr\": 2021, \"GueltigAbDatMM\": 10, \"AlterV20Kurz\": \"60-79\", \"sum_WBev\": 4}, {\"GueltigAbDat\": \"2021-07-17T00:00:00\", \"GueltigAbDatJahr\": 2021, \"GueltigAbDatMM\": 7, \"AlterV20Kurz\": \"60-79\", \"sum_WBev\": 4}, {\"GueltigAbDat\": \"2021-10-14T00:00:00\", \"GueltigAbDatJahr\": 2021, \"GueltigAbDatMM\": 10, \"AlterV20Kurz\": \"80-99\", \"sum_WBev\": 4}, {\"GueltigAbDat\": \"2021-07-30T00:00:00\", \"GueltigAbDatJahr\": 2021, \"GueltigAbDatMM\": 7, \"AlterV20Kurz\": \"80-99\", \"sum_WBev\": 4}, {\"GueltigAbDat\": \"2021-07-30T00:00:00\", \"GueltigAbDatJahr\": 2021, \"GueltigAbDatMM\": 7, \"AlterV20Kurz\": \"60-79\", \"sum_WBev\": 4}, {\"GueltigAbDat\": \"2021-06-01T00:00:00\", \"GueltigAbDatJahr\": 2021, \"GueltigAbDatMM\": 6, \"AlterV20Kurz\": \"60-79\", \"sum_WBev\": 4}, {\"GueltigAbDat\": \"2021-07-25T00:00:00\", \"GueltigAbDatJahr\": 2021, \"GueltigAbDatMM\": 7, \"AlterV20Kurz\": \"60-79\", \"sum_WBev\": 4}, {\"GueltigAbDat\": \"2021-06-04T00:00:00\", \"GueltigAbDatJahr\": 2021, \"GueltigAbDatMM\": 6, \"AlterV20Kurz\": \"80-99\", \"sum_WBev\": 4}, {\"GueltigAbDat\": \"2021-07-22T00:00:00\", \"GueltigAbDatJahr\": 2021, \"GueltigAbDatMM\": 7, \"AlterV20Kurz\": \"60-79\", \"sum_WBev\": 4}, {\"GueltigAbDat\": \"2021-07-20T00:00:00\", \"GueltigAbDatJahr\": 2021, \"GueltigAbDatMM\": 7, \"AlterV20Kurz\": \"80-99\", \"sum_WBev\": 4}, {\"GueltigAbDat\": \"2021-06-11T00:00:00\", \"GueltigAbDatJahr\": 2021, \"GueltigAbDatMM\": 6, \"AlterV20Kurz\": \"80-99\", \"sum_WBev\": 4}, {\"GueltigAbDat\": \"2021-10-21T00:00:00\", \"GueltigAbDatJahr\": 2021, \"GueltigAbDatMM\": 10, \"AlterV20Kurz\": \"80-99\", \"sum_WBev\": 4}, {\"GueltigAbDat\": \"2021-07-15T00:00:00\", \"GueltigAbDatJahr\": 2021, \"GueltigAbDatMM\": 7, \"AlterV20Kurz\": \"80-99\", \"sum_WBev\": 4}, {\"GueltigAbDat\": \"2021-08-22T00:00:00\", \"GueltigAbDatJahr\": 2021, \"GueltigAbDatMM\": 8, \"AlterV20Kurz\": \"80-99\", \"sum_WBev\": 4}, {\"GueltigAbDat\": \"2021-07-13T00:00:00\", \"GueltigAbDatJahr\": 2021, \"GueltigAbDatMM\": 7, \"AlterV20Kurz\": \"60-79\", \"sum_WBev\": 4}, {\"GueltigAbDat\": \"2021-07-11T00:00:00\", \"GueltigAbDatJahr\": 2021, \"GueltigAbDatMM\": 7, \"AlterV20Kurz\": \"80-99\", \"sum_WBev\": 4}, {\"GueltigAbDat\": \"2021-06-19T00:00:00\", \"GueltigAbDatJahr\": 2021, \"GueltigAbDatMM\": 6, \"AlterV20Kurz\": \"80-99\", \"sum_WBev\": 4}, {\"GueltigAbDat\": \"2021-06-20T00:00:00\", \"GueltigAbDatJahr\": 2021, \"GueltigAbDatMM\": 6, \"AlterV20Kurz\": \"60-79\", \"sum_WBev\": 4}, {\"GueltigAbDat\": \"2021-10-29T00:00:00\", \"GueltigAbDatJahr\": 2021, \"GueltigAbDatMM\": 10, \"AlterV20Kurz\": \"80-99\", \"sum_WBev\": 4}, {\"GueltigAbDat\": \"2021-06-21T00:00:00\", \"GueltigAbDatJahr\": 2021, \"GueltigAbDatMM\": 6, \"AlterV20Kurz\": \"60-79\", \"sum_WBev\": 4}, {\"GueltigAbDat\": \"2021-11-10T00:00:00\", \"GueltigAbDatJahr\": 2021, \"GueltigAbDatMM\": 11, \"AlterV20Kurz\": \"60-79\", \"sum_WBev\": 4}, {\"GueltigAbDat\": \"2021-06-23T00:00:00\", \"GueltigAbDatJahr\": 2021, \"GueltigAbDatMM\": 6, \"AlterV20Kurz\": \"80-99\", \"sum_WBev\": 4}, {\"GueltigAbDat\": \"2021-06-29T00:00:00\", \"GueltigAbDatJahr\": 2021, \"GueltigAbDatMM\": 6, \"AlterV20Kurz\": \"80-99\", \"sum_WBev\": 4}, {\"GueltigAbDat\": \"2021-06-28T00:00:00\", \"GueltigAbDatJahr\": 2021, \"GueltigAbDatMM\": 6, \"AlterV20Kurz\": \"80-99\", \"sum_WBev\": 4}, {\"GueltigAbDat\": \"2021-11-17T00:00:00\", \"GueltigAbDatJahr\": 2021, \"GueltigAbDatMM\": 11, \"AlterV20Kurz\": \"60-79\", \"sum_WBev\": 4}, {\"GueltigAbDat\": \"2021-08-01T00:00:00\", \"GueltigAbDatJahr\": 2021, \"GueltigAbDatMM\": 8, \"AlterV20Kurz\": \"80-99\", \"sum_WBev\": 4}, {\"GueltigAbDat\": \"2021-10-12T00:00:00\", \"GueltigAbDatJahr\": 2021, \"GueltigAbDatMM\": 10, \"AlterV20Kurz\": \"60-79\", \"sum_WBev\": 4}, {\"GueltigAbDat\": \"2021-05-18T00:00:00\", \"GueltigAbDatJahr\": 2021, \"GueltigAbDatMM\": 5, \"AlterV20Kurz\": \"80-99\", \"sum_WBev\": 4}, {\"GueltigAbDat\": \"2021-04-27T00:00:00\", \"GueltigAbDatJahr\": 2021, \"GueltigAbDatMM\": 4, \"AlterV20Kurz\": \"80-99\", \"sum_WBev\": 4}, {\"GueltigAbDat\": \"2021-10-07T00:00:00\", \"GueltigAbDatJahr\": 2021, \"GueltigAbDatMM\": 10, \"AlterV20Kurz\": \"80-99\", \"sum_WBev\": 4}, {\"GueltigAbDat\": \"2021-04-29T00:00:00\", \"GueltigAbDatJahr\": 2021, \"GueltigAbDatMM\": 4, \"AlterV20Kurz\": \"60-79\", \"sum_WBev\": 4}, {\"GueltigAbDat\": \"2021-08-21T00:00:00\", \"GueltigAbDatJahr\": 2021, \"GueltigAbDatMM\": 8, \"AlterV20Kurz\": \"40-59\", \"sum_WBev\": 4}, {\"GueltigAbDat\": \"2021-04-30T00:00:00\", \"GueltigAbDatJahr\": 2021, \"GueltigAbDatMM\": 4, \"AlterV20Kurz\": \"80-99\", \"sum_WBev\": 4}, {\"GueltigAbDat\": \"2021-05-01T00:00:00\", \"GueltigAbDatJahr\": 2021, \"GueltigAbDatMM\": 5, \"AlterV20Kurz\": \"60-79\", \"sum_WBev\": 4}, {\"GueltigAbDat\": \"2021-05-01T00:00:00\", \"GueltigAbDatJahr\": 2021, \"GueltigAbDatMM\": 5, \"AlterV20Kurz\": \"80-99\", \"sum_WBev\": 4}, {\"GueltigAbDat\": \"2021-06-25T00:00:00\", \"GueltigAbDatJahr\": 2021, \"GueltigAbDatMM\": 6, \"AlterV20Kurz\": \"60-79\", \"sum_WBev\": 4}, {\"GueltigAbDat\": \"2021-11-23T00:00:00\", \"GueltigAbDatJahr\": 2021, \"GueltigAbDatMM\": 11, \"AlterV20Kurz\": \"80-99\", \"sum_WBev\": 4}, {\"GueltigAbDat\": \"2021-08-17T00:00:00\", \"GueltigAbDatJahr\": 2021, \"GueltigAbDatMM\": 8, \"AlterV20Kurz\": \"60-79\", \"sum_WBev\": 4}, {\"GueltigAbDat\": \"2021-08-16T00:00:00\", \"GueltigAbDatJahr\": 2021, \"GueltigAbDatMM\": 8, \"AlterV20Kurz\": \"60-79\", \"sum_WBev\": 4}, {\"GueltigAbDat\": \"2021-08-13T00:00:00\", \"GueltigAbDatJahr\": 2021, \"GueltigAbDatMM\": 8, \"AlterV20Kurz\": \"60-79\", \"sum_WBev\": 4}, {\"GueltigAbDat\": \"2021-11-21T00:00:00\", \"GueltigAbDatJahr\": 2021, \"GueltigAbDatMM\": 11, \"AlterV20Kurz\": \"80-99\", \"sum_WBev\": 4}, {\"GueltigAbDat\": \"2021-08-10T00:00:00\", \"GueltigAbDatJahr\": 2021, \"GueltigAbDatMM\": 8, \"AlterV20Kurz\": \"80-99\", \"sum_WBev\": 4}, {\"GueltigAbDat\": \"2021-08-08T00:00:00\", \"GueltigAbDatJahr\": 2021, \"GueltigAbDatMM\": 8, \"AlterV20Kurz\": \"80-99\", \"sum_WBev\": 4}, {\"GueltigAbDat\": \"2021-05-10T00:00:00\", \"GueltigAbDatJahr\": 2021, \"GueltigAbDatMM\": 5, \"AlterV20Kurz\": \"60-79\", \"sum_WBev\": 4}, {\"GueltigAbDat\": \"2021-05-12T00:00:00\", \"GueltigAbDatJahr\": 2021, \"GueltigAbDatMM\": 5, \"AlterV20Kurz\": \"80-99\", \"sum_WBev\": 4}, {\"GueltigAbDat\": \"2021-08-07T00:00:00\", \"GueltigAbDatJahr\": 2021, \"GueltigAbDatMM\": 8, \"AlterV20Kurz\": \"80-99\", \"sum_WBev\": 4}, {\"GueltigAbDat\": \"2021-03-10T00:00:00\", \"GueltigAbDatJahr\": 2021, \"GueltigAbDatMM\": 3, \"AlterV20Kurz\": \"80-99\", \"sum_WBev\": 4}, {\"GueltigAbDat\": \"2021-05-16T00:00:00\", \"GueltigAbDatJahr\": 2021, \"GueltigAbDatMM\": 5, \"AlterV20Kurz\": \"80-99\", \"sum_WBev\": 4}, {\"GueltigAbDat\": \"2021-05-17T00:00:00\", \"GueltigAbDatJahr\": 2021, \"GueltigAbDatMM\": 5, \"AlterV20Kurz\": \"80-99\", \"sum_WBev\": 4}, {\"GueltigAbDat\": \"2021-03-15T00:00:00\", \"GueltigAbDatJahr\": 2021, \"GueltigAbDatMM\": 3, \"AlterV20Kurz\": \"60-79\", \"sum_WBev\": 4}, {\"GueltigAbDat\": \"2021-05-11T00:00:00\", \"GueltigAbDatJahr\": 2021, \"GueltigAbDatMM\": 5, \"AlterV20Kurz\": \"60-79\", \"sum_WBev\": 4}, {\"GueltigAbDat\": \"2021-01-22T00:00:00\", \"GueltigAbDatJahr\": 2021, \"GueltigAbDatMM\": 1, \"AlterV20Kurz\": \"80-99\", \"sum_WBev\": 4}, {\"GueltigAbDat\": \"2020-12-29T00:00:00\", \"GueltigAbDatJahr\": 2020, \"GueltigAbDatMM\": 12, \"AlterV20Kurz\": \"80-99\", \"sum_WBev\": 4}, {\"GueltigAbDat\": \"2021-02-03T00:00:00\", \"GueltigAbDatJahr\": 2021, \"GueltigAbDatMM\": 2, \"AlterV20Kurz\": \"80-99\", \"sum_WBev\": 4}, {\"GueltigAbDat\": \"2020-11-16T00:00:00\", \"GueltigAbDatJahr\": 2020, \"GueltigAbDatMM\": 11, \"AlterV20Kurz\": \"60-79\", \"sum_WBev\": 4}, {\"GueltigAbDat\": \"2021-02-04T00:00:00\", \"GueltigAbDatJahr\": 2021, \"GueltigAbDatMM\": 2, \"AlterV20Kurz\": \"80-99\", \"sum_WBev\": 4}, {\"GueltigAbDat\": \"2021-01-06T00:00:00\", \"GueltigAbDatJahr\": 2021, \"GueltigAbDatMM\": 1, \"AlterV20Kurz\": \"60-79\", \"sum_WBev\": 4}, {\"GueltigAbDat\": \"2021-03-01T00:00:00\", \"GueltigAbDatJahr\": 2021, \"GueltigAbDatMM\": 3, \"AlterV20Kurz\": \"80-99\", \"sum_WBev\": 4}, {\"GueltigAbDat\": \"2021-01-04T00:00:00\", \"GueltigAbDatJahr\": 2021, \"GueltigAbDatMM\": 1, \"AlterV20Kurz\": \"60-79\", \"sum_WBev\": 4}, {\"GueltigAbDat\": \"2021-02-05T00:00:00\", \"GueltigAbDatJahr\": 2021, \"GueltigAbDatMM\": 2, \"AlterV20Kurz\": \"80-99\", \"sum_WBev\": 4}, {\"GueltigAbDat\": \"2020-11-21T00:00:00\", \"GueltigAbDatJahr\": 2020, \"GueltigAbDatMM\": 11, \"AlterV20Kurz\": \"60-79\", \"sum_WBev\": 4}, {\"GueltigAbDat\": \"2021-02-28T00:00:00\", \"GueltigAbDatJahr\": 2021, \"GueltigAbDatMM\": 2, \"AlterV20Kurz\": \"60-79\", \"sum_WBev\": 4}, {\"GueltigAbDat\": \"2020-11-21T00:00:00\", \"GueltigAbDatJahr\": 2020, \"GueltigAbDatMM\": 11, \"AlterV20Kurz\": \"80-99\", \"sum_WBev\": 4}, {\"GueltigAbDat\": \"2021-01-02T00:00:00\", \"GueltigAbDatJahr\": 2021, \"GueltigAbDatMM\": 1, \"AlterV20Kurz\": \"60-79\", \"sum_WBev\": 4}, {\"GueltigAbDat\": \"2020-11-23T00:00:00\", \"GueltigAbDatJahr\": 2020, \"GueltigAbDatMM\": 11, \"AlterV20Kurz\": \"60-79\", \"sum_WBev\": 4}, {\"GueltigAbDat\": \"2020-12-31T00:00:00\", \"GueltigAbDatJahr\": 2020, \"GueltigAbDatMM\": 12, \"AlterV20Kurz\": \"60-79\", \"sum_WBev\": 4}, {\"GueltigAbDat\": \"2021-02-08T00:00:00\", \"GueltigAbDatJahr\": 2021, \"GueltigAbDatMM\": 2, \"AlterV20Kurz\": \"80-99\", \"sum_WBev\": 4}, {\"GueltigAbDat\": \"2021-01-13T00:00:00\", \"GueltigAbDatJahr\": 2021, \"GueltigAbDatMM\": 1, \"AlterV20Kurz\": \"60-79\", \"sum_WBev\": 4}, {\"GueltigAbDat\": \"2021-02-10T00:00:00\", \"GueltigAbDatJahr\": 2021, \"GueltigAbDatMM\": 2, \"AlterV20Kurz\": \"60-79\", \"sum_WBev\": 4}, {\"GueltigAbDat\": \"2020-12-26T00:00:00\", \"GueltigAbDatJahr\": 2020, \"GueltigAbDatMM\": 12, \"AlterV20Kurz\": \"60-79\", \"sum_WBev\": 4}, {\"GueltigAbDat\": \"2020-11-29T00:00:00\", \"GueltigAbDatJahr\": 2020, \"GueltigAbDatMM\": 11, \"AlterV20Kurz\": \"80-99\", \"sum_WBev\": 4}, {\"GueltigAbDat\": \"2021-02-21T00:00:00\", \"GueltigAbDatJahr\": 2021, \"GueltigAbDatMM\": 2, \"AlterV20Kurz\": \"80-99\", \"sum_WBev\": 4}, {\"GueltigAbDat\": \"2021-02-21T00:00:00\", \"GueltigAbDatJahr\": 2021, \"GueltigAbDatMM\": 2, \"AlterV20Kurz\": \"60-79\", \"sum_WBev\": 4}, {\"GueltigAbDat\": \"2020-12-22T00:00:00\", \"GueltigAbDatJahr\": 2020, \"GueltigAbDatMM\": 12, \"AlterV20Kurz\": \"60-79\", \"sum_WBev\": 4}, {\"GueltigAbDat\": \"2020-12-20T00:00:00\", \"GueltigAbDatJahr\": 2020, \"GueltigAbDatMM\": 12, \"AlterV20Kurz\": \"60-79\", \"sum_WBev\": 4}, {\"GueltigAbDat\": \"2020-12-19T00:00:00\", \"GueltigAbDatJahr\": 2020, \"GueltigAbDatMM\": 12, \"AlterV20Kurz\": \"60-79\", \"sum_WBev\": 4}, {\"GueltigAbDat\": \"2021-02-14T00:00:00\", \"GueltigAbDatJahr\": 2021, \"GueltigAbDatMM\": 2, \"AlterV20Kurz\": \"60-79\", \"sum_WBev\": 4}, {\"GueltigAbDat\": \"2020-12-09T00:00:00\", \"GueltigAbDatJahr\": 2020, \"GueltigAbDatMM\": 12, \"AlterV20Kurz\": \"80-99\", \"sum_WBev\": 4}, {\"GueltigAbDat\": \"2020-12-13T00:00:00\", \"GueltigAbDatJahr\": 2020, \"GueltigAbDatMM\": 12, \"AlterV20Kurz\": \"60-79\", \"sum_WBev\": 4}, {\"GueltigAbDat\": \"2020-12-11T00:00:00\", \"GueltigAbDatJahr\": 2020, \"GueltigAbDatMM\": 12, \"AlterV20Kurz\": \"60-79\", \"sum_WBev\": 4}, {\"GueltigAbDat\": \"2021-02-16T00:00:00\", \"GueltigAbDatJahr\": 2021, \"GueltigAbDatMM\": 2, \"AlterV20Kurz\": \"80-99\", \"sum_WBev\": 4}, {\"GueltigAbDat\": \"2020-11-12T00:00:00\", \"GueltigAbDatJahr\": 2020, \"GueltigAbDatMM\": 11, \"AlterV20Kurz\": \"80-99\", \"sum_WBev\": 4}, {\"GueltigAbDat\": \"2021-01-03T00:00:00\", \"GueltigAbDatJahr\": 2021, \"GueltigAbDatMM\": 1, \"AlterV20Kurz\": \"80-99\", \"sum_WBev\": 4}, {\"GueltigAbDat\": \"2021-03-04T00:00:00\", \"GueltigAbDatJahr\": 2021, \"GueltigAbDatMM\": 3, \"AlterV20Kurz\": \"80-99\", \"sum_WBev\": 4}, {\"GueltigAbDat\": \"2021-03-05T00:00:00\", \"GueltigAbDatJahr\": 2021, \"GueltigAbDatMM\": 3, \"AlterV20Kurz\": \"60-79\", \"sum_WBev\": 4}, {\"GueltigAbDat\": \"2021-01-23T00:00:00\", \"GueltigAbDatJahr\": 2021, \"GueltigAbDatMM\": 1, \"AlterV20Kurz\": \"60-79\", \"sum_WBev\": 4}, {\"GueltigAbDat\": \"2021-01-24T00:00:00\", \"GueltigAbDatJahr\": 2021, \"GueltigAbDatMM\": 1, \"AlterV20Kurz\": \"60-79\", \"sum_WBev\": 4}, {\"GueltigAbDat\": \"2021-01-21T00:00:00\", \"GueltigAbDatJahr\": 2021, \"GueltigAbDatMM\": 1, \"AlterV20Kurz\": \"60-79\", \"sum_WBev\": 4}, {\"GueltigAbDat\": \"2020-11-04T00:00:00\", \"GueltigAbDatJahr\": 2020, \"GueltigAbDatMM\": 11, \"AlterV20Kurz\": \"80-99\", \"sum_WBev\": 4}, {\"GueltigAbDat\": \"2020-11-05T00:00:00\", \"GueltigAbDatJahr\": 2020, \"GueltigAbDatMM\": 11, \"AlterV20Kurz\": \"80-99\", \"sum_WBev\": 4}, {\"GueltigAbDat\": \"2021-01-18T00:00:00\", \"GueltigAbDatJahr\": 2021, \"GueltigAbDatMM\": 1, \"AlterV20Kurz\": \"60-79\", \"sum_WBev\": 4}, {\"GueltigAbDat\": \"2021-01-17T00:00:00\", \"GueltigAbDatJahr\": 2021, \"GueltigAbDatMM\": 1, \"AlterV20Kurz\": \"80-99\", \"sum_WBev\": 4}, {\"GueltigAbDat\": \"2020-11-10T00:00:00\", \"GueltigAbDatJahr\": 2020, \"GueltigAbDatMM\": 11, \"AlterV20Kurz\": \"60-79\", \"sum_WBev\": 4}, {\"GueltigAbDat\": \"2021-02-17T00:00:00\", \"GueltigAbDatJahr\": 2021, \"GueltigAbDatMM\": 2, \"AlterV20Kurz\": \"80-99\", \"sum_WBev\": 4}, {\"GueltigAbDat\": \"2021-06-05T00:00:00\", \"GueltigAbDatJahr\": 2021, \"GueltigAbDatMM\": 6, \"AlterV20Kurz\": \"80-99\", \"sum_WBev\": 3}, {\"GueltigAbDat\": \"2021-05-13T00:00:00\", \"GueltigAbDatJahr\": 2021, \"GueltigAbDatMM\": 5, \"AlterV20Kurz\": \"80-99\", \"sum_WBev\": 3}, {\"GueltigAbDat\": \"2021-07-01T00:00:00\", \"GueltigAbDatJahr\": 2021, \"GueltigAbDatMM\": 7, \"AlterV20Kurz\": \"60-79\", \"sum_WBev\": 3}, {\"GueltigAbDat\": \"2021-08-30T00:00:00\", \"GueltigAbDatJahr\": 2021, \"GueltigAbDatMM\": 8, \"AlterV20Kurz\": \"60-79\", \"sum_WBev\": 3}, {\"GueltigAbDat\": \"2021-07-02T00:00:00\", \"GueltigAbDatJahr\": 2021, \"GueltigAbDatMM\": 7, \"AlterV20Kurz\": \"40-59\", \"sum_WBev\": 3}, {\"GueltigAbDat\": \"2021-01-20T00:00:00\", \"GueltigAbDatJahr\": 2021, \"GueltigAbDatMM\": 1, \"AlterV20Kurz\": \"60-79\", \"sum_WBev\": 3}, {\"GueltigAbDat\": \"2020-12-24T00:00:00\", \"GueltigAbDatJahr\": 2020, \"GueltigAbDatMM\": 12, \"AlterV20Kurz\": \"60-79\", \"sum_WBev\": 3}, {\"GueltigAbDat\": \"2021-01-28T00:00:00\", \"GueltigAbDatJahr\": 2021, \"GueltigAbDatMM\": 1, \"AlterV20Kurz\": \"60-79\", \"sum_WBev\": 3}, {\"GueltigAbDat\": \"2021-05-12T00:00:00\", \"GueltigAbDatJahr\": 2021, \"GueltigAbDatMM\": 5, \"AlterV20Kurz\": \"40-59\", \"sum_WBev\": 3}, {\"GueltigAbDat\": \"2021-05-12T00:00:00\", \"GueltigAbDatJahr\": 2021, \"GueltigAbDatMM\": 5, \"AlterV20Kurz\": \"60-79\", \"sum_WBev\": 3}, {\"GueltigAbDat\": \"2021-03-09T00:00:00\", \"GueltigAbDatJahr\": 2021, \"GueltigAbDatMM\": 3, \"AlterV20Kurz\": \"80-99\", \"sum_WBev\": 3}, {\"GueltigAbDat\": \"2021-06-30T00:00:00\", \"GueltigAbDatJahr\": 2021, \"GueltigAbDatMM\": 6, \"AlterV20Kurz\": \"80-99\", \"sum_WBev\": 3}, {\"GueltigAbDat\": \"2021-08-25T00:00:00\", \"GueltigAbDatJahr\": 2021, \"GueltigAbDatMM\": 8, \"AlterV20Kurz\": \"60-79\", \"sum_WBev\": 3}, {\"GueltigAbDat\": \"2021-05-14T00:00:00\", \"GueltigAbDatJahr\": 2021, \"GueltigAbDatMM\": 5, \"AlterV20Kurz\": \"60-79\", \"sum_WBev\": 3}, {\"GueltigAbDat\": \"2021-06-19T00:00:00\", \"GueltigAbDatJahr\": 2021, \"GueltigAbDatMM\": 6, \"AlterV20Kurz\": \"60-79\", \"sum_WBev\": 3}, {\"GueltigAbDat\": \"2020-12-27T00:00:00\", \"GueltigAbDatJahr\": 2020, \"GueltigAbDatMM\": 12, \"AlterV20Kurz\": \"60-79\", \"sum_WBev\": 3}, {\"GueltigAbDat\": \"2021-08-23T00:00:00\", \"GueltigAbDatJahr\": 2021, \"GueltigAbDatMM\": 8, \"AlterV20Kurz\": \"80-99\", \"sum_WBev\": 3}, {\"GueltigAbDat\": \"2021-01-19T00:00:00\", \"GueltigAbDatJahr\": 2021, \"GueltigAbDatMM\": 1, \"AlterV20Kurz\": \"60-79\", \"sum_WBev\": 3}, {\"GueltigAbDat\": \"2021-08-23T00:00:00\", \"GueltigAbDatJahr\": 2021, \"GueltigAbDatMM\": 8, \"AlterV20Kurz\": \"60-79\", \"sum_WBev\": 3}, {\"GueltigAbDat\": \"2021-02-08T00:00:00\", \"GueltigAbDatJahr\": 2021, \"GueltigAbDatMM\": 2, \"AlterV20Kurz\": \"60-79\", \"sum_WBev\": 3}, {\"GueltigAbDat\": \"2021-05-10T00:00:00\", \"GueltigAbDatJahr\": 2021, \"GueltigAbDatMM\": 5, \"AlterV20Kurz\": \"80-99\", \"sum_WBev\": 3}, {\"GueltigAbDat\": \"2021-06-10T00:00:00\", \"GueltigAbDatJahr\": 2021, \"GueltigAbDatMM\": 6, \"AlterV20Kurz\": \"60-79\", \"sum_WBev\": 3}, {\"GueltigAbDat\": \"2021-06-05T00:00:00\", \"GueltigAbDatJahr\": 2021, \"GueltigAbDatMM\": 6, \"AlterV20Kurz\": \"60-79\", \"sum_WBev\": 3}, {\"GueltigAbDat\": \"2021-09-14T00:00:00\", \"GueltigAbDatJahr\": 2021, \"GueltigAbDatMM\": 9, \"AlterV20Kurz\": \"60-79\", \"sum_WBev\": 3}, {\"GueltigAbDat\": \"2021-04-30T00:00:00\", \"GueltigAbDatJahr\": 2021, \"GueltigAbDatMM\": 4, \"AlterV20Kurz\": \"60-79\", \"sum_WBev\": 3}, {\"GueltigAbDat\": \"2021-06-24T00:00:00\", \"GueltigAbDatJahr\": 2021, \"GueltigAbDatMM\": 6, \"AlterV20Kurz\": \"80-99\", \"sum_WBev\": 3}, {\"GueltigAbDat\": \"2021-02-02T00:00:00\", \"GueltigAbDatJahr\": 2021, \"GueltigAbDatMM\": 2, \"AlterV20Kurz\": \"60-79\", \"sum_WBev\": 3}, {\"GueltigAbDat\": \"2021-07-17T00:00:00\", \"GueltigAbDatJahr\": 2021, \"GueltigAbDatMM\": 7, \"AlterV20Kurz\": \"80-99\", \"sum_WBev\": 3}, {\"GueltigAbDat\": \"2021-06-10T00:00:00\", \"GueltigAbDatJahr\": 2021, \"GueltigAbDatMM\": 6, \"AlterV20Kurz\": \"80-99\", \"sum_WBev\": 3}, {\"GueltigAbDat\": \"2021-02-15T00:00:00\", \"GueltigAbDatJahr\": 2021, \"GueltigAbDatMM\": 2, \"AlterV20Kurz\": \"60-79\", \"sum_WBev\": 3}, {\"GueltigAbDat\": \"2021-05-02T00:00:00\", \"GueltigAbDatJahr\": 2021, \"GueltigAbDatMM\": 5, \"AlterV20Kurz\": \"60-79\", \"sum_WBev\": 3}, {\"GueltigAbDat\": \"2021-06-22T00:00:00\", \"GueltigAbDatJahr\": 2021, \"GueltigAbDatMM\": 6, \"AlterV20Kurz\": \"60-79\", \"sum_WBev\": 3}, {\"GueltigAbDat\": \"2021-01-22T00:00:00\", \"GueltigAbDatJahr\": 2021, \"GueltigAbDatMM\": 1, \"AlterV20Kurz\": \"60-79\", \"sum_WBev\": 3}, {\"GueltigAbDat\": \"2020-12-16T00:00:00\", \"GueltigAbDatJahr\": 2020, \"GueltigAbDatMM\": 12, \"AlterV20Kurz\": \"60-79\", \"sum_WBev\": 3}, {\"GueltigAbDat\": \"2021-09-13T00:00:00\", \"GueltigAbDatJahr\": 2021, \"GueltigAbDatMM\": 9, \"AlterV20Kurz\": \"60-79\", \"sum_WBev\": 3}, {\"GueltigAbDat\": \"2021-05-03T00:00:00\", \"GueltigAbDatJahr\": 2021, \"GueltigAbDatMM\": 5, \"AlterV20Kurz\": \"80-99\", \"sum_WBev\": 3}, {\"GueltigAbDat\": \"2021-09-11T00:00:00\", \"GueltigAbDatJahr\": 2021, \"GueltigAbDatMM\": 9, \"AlterV20Kurz\": \"60-79\", \"sum_WBev\": 3}, {\"GueltigAbDat\": \"2021-05-04T00:00:00\", \"GueltigAbDatJahr\": 2021, \"GueltigAbDatMM\": 5, \"AlterV20Kurz\": \"60-79\", \"sum_WBev\": 3}, {\"GueltigAbDat\": \"2021-02-13T00:00:00\", \"GueltigAbDatJahr\": 2021, \"GueltigAbDatMM\": 2, \"AlterV20Kurz\": \"60-79\", \"sum_WBev\": 3}, {\"GueltigAbDat\": \"2021-09-09T00:00:00\", \"GueltigAbDatJahr\": 2021, \"GueltigAbDatMM\": 9, \"AlterV20Kurz\": \"60-79\", \"sum_WBev\": 3}, {\"GueltigAbDat\": \"2021-05-05T00:00:00\", \"GueltigAbDatJahr\": 2021, \"GueltigAbDatMM\": 5, \"AlterV20Kurz\": \"80-99\", \"sum_WBev\": 3}, {\"GueltigAbDat\": \"2021-05-07T00:00:00\", \"GueltigAbDatJahr\": 2021, \"GueltigAbDatMM\": 5, \"AlterV20Kurz\": \"60-79\", \"sum_WBev\": 3}, {\"GueltigAbDat\": \"2021-08-22T00:00:00\", \"GueltigAbDatJahr\": 2021, \"GueltigAbDatMM\": 8, \"AlterV20Kurz\": \"60-79\", \"sum_WBev\": 3}, {\"GueltigAbDat\": \"2021-08-21T00:00:00\", \"GueltigAbDatJahr\": 2021, \"GueltigAbDatMM\": 8, \"AlterV20Kurz\": \"80-99\", \"sum_WBev\": 3}, {\"GueltigAbDat\": \"2021-07-06T00:00:00\", \"GueltigAbDatJahr\": 2021, \"GueltigAbDatMM\": 7, \"AlterV20Kurz\": \"80-99\", \"sum_WBev\": 3}, {\"GueltigAbDat\": \"2021-07-31T00:00:00\", \"GueltigAbDatJahr\": 2021, \"GueltigAbDatMM\": 7, \"AlterV20Kurz\": \"60-79\", \"sum_WBev\": 3}, {\"GueltigAbDat\": \"2021-05-27T00:00:00\", \"GueltigAbDatJahr\": 2021, \"GueltigAbDatMM\": 5, \"AlterV20Kurz\": \"40-59\", \"sum_WBev\": 3}, {\"GueltigAbDat\": \"2021-01-31T00:00:00\", \"GueltigAbDatJahr\": 2021, \"GueltigAbDatMM\": 1, \"AlterV20Kurz\": \"80-99\", \"sum_WBev\": 3}, {\"GueltigAbDat\": \"2021-08-03T00:00:00\", \"GueltigAbDatJahr\": 2021, \"GueltigAbDatMM\": 8, \"AlterV20Kurz\": \"80-99\", \"sum_WBev\": 3}, {\"GueltigAbDat\": \"2021-08-03T00:00:00\", \"GueltigAbDatJahr\": 2021, \"GueltigAbDatMM\": 8, \"AlterV20Kurz\": \"60-79\", \"sum_WBev\": 3}, {\"GueltigAbDat\": \"2021-07-23T00:00:00\", \"GueltigAbDatJahr\": 2021, \"GueltigAbDatMM\": 7, \"AlterV20Kurz\": \"80-99\", \"sum_WBev\": 3}, {\"GueltigAbDat\": \"2021-01-16T00:00:00\", \"GueltigAbDatJahr\": 2021, \"GueltigAbDatMM\": 1, \"AlterV20Kurz\": \"60-79\", \"sum_WBev\": 3}, {\"GueltigAbDat\": \"2021-05-29T00:00:00\", \"GueltigAbDatJahr\": 2021, \"GueltigAbDatMM\": 5, \"AlterV20Kurz\": \"60-79\", \"sum_WBev\": 3}, {\"GueltigAbDat\": \"2021-05-29T00:00:00\", \"GueltigAbDatJahr\": 2021, \"GueltigAbDatMM\": 5, \"AlterV20Kurz\": \"80-99\", \"sum_WBev\": 3}, {\"GueltigAbDat\": \"2021-05-31T00:00:00\", \"GueltigAbDatJahr\": 2021, \"GueltigAbDatMM\": 5, \"AlterV20Kurz\": \"60-79\", \"sum_WBev\": 3}, {\"GueltigAbDat\": \"2021-08-20T00:00:00\", \"GueltigAbDatJahr\": 2021, \"GueltigAbDatMM\": 8, \"AlterV20Kurz\": \"60-79\", \"sum_WBev\": 3}, {\"GueltigAbDat\": \"2021-07-29T00:00:00\", \"GueltigAbDatJahr\": 2021, \"GueltigAbDatMM\": 7, \"AlterV20Kurz\": \"80-99\", \"sum_WBev\": 3}, {\"GueltigAbDat\": \"2021-07-24T00:00:00\", \"GueltigAbDatJahr\": 2021, \"GueltigAbDatMM\": 7, \"AlterV20Kurz\": \"60-79\", \"sum_WBev\": 3}, {\"GueltigAbDat\": \"2021-06-01T00:00:00\", \"GueltigAbDatJahr\": 2021, \"GueltigAbDatMM\": 6, \"AlterV20Kurz\": \"80-99\", \"sum_WBev\": 3}, {\"GueltigAbDat\": \"2021-07-10T00:00:00\", \"GueltigAbDatJahr\": 2021, \"GueltigAbDatMM\": 7, \"AlterV20Kurz\": \"80-99\", \"sum_WBev\": 3}, {\"GueltigAbDat\": \"2021-07-28T00:00:00\", \"GueltigAbDatJahr\": 2021, \"GueltigAbDatMM\": 7, \"AlterV20Kurz\": \"80-99\", \"sum_WBev\": 3}, {\"GueltigAbDat\": \"2021-02-04T00:00:00\", \"GueltigAbDatJahr\": 2021, \"GueltigAbDatMM\": 2, \"AlterV20Kurz\": \"60-79\", \"sum_WBev\": 3}, {\"GueltigAbDat\": \"2021-01-09T00:00:00\", \"GueltigAbDatJahr\": 2021, \"GueltigAbDatMM\": 1, \"AlterV20Kurz\": \"60-79\", \"sum_WBev\": 3}, {\"GueltigAbDat\": \"2021-07-26T00:00:00\", \"GueltigAbDatJahr\": 2021, \"GueltigAbDatMM\": 7, \"AlterV20Kurz\": \"60-79\", \"sum_WBev\": 3}, {\"GueltigAbDat\": \"2021-08-07T00:00:00\", \"GueltigAbDatJahr\": 2021, \"GueltigAbDatMM\": 8, \"AlterV20Kurz\": \"60-79\", \"sum_WBev\": 3}, {\"GueltigAbDat\": \"2021-09-17T00:00:00\", \"GueltigAbDatJahr\": 2021, \"GueltigAbDatMM\": 9, \"AlterV20Kurz\": \"60-79\", \"sum_WBev\": 3}, {\"GueltigAbDat\": \"2021-01-30T00:00:00\", \"GueltigAbDatJahr\": 2021, \"GueltigAbDatMM\": 1, \"AlterV20Kurz\": \"80-99\", \"sum_WBev\": 3}, {\"GueltigAbDat\": \"2021-01-17T00:00:00\", \"GueltigAbDatJahr\": 2021, \"GueltigAbDatMM\": 1, \"AlterV20Kurz\": \"60-79\", \"sum_WBev\": 3}, {\"GueltigAbDat\": \"2021-02-07T00:00:00\", \"GueltigAbDatJahr\": 2021, \"GueltigAbDatMM\": 2, \"AlterV20Kurz\": \"60-79\", \"sum_WBev\": 3}, {\"GueltigAbDat\": \"2020-12-30T00:00:00\", \"GueltigAbDatJahr\": 2020, \"GueltigAbDatMM\": 12, \"AlterV20Kurz\": \"60-79\", \"sum_WBev\": 3}, {\"GueltigAbDat\": \"2021-05-21T00:00:00\", \"GueltigAbDatJahr\": 2021, \"GueltigAbDatMM\": 5, \"AlterV20Kurz\": \"60-79\", \"sum_WBev\": 3}, {\"GueltigAbDat\": \"2021-06-13T00:00:00\", \"GueltigAbDatJahr\": 2021, \"GueltigAbDatMM\": 6, \"AlterV20Kurz\": \"60-79\", \"sum_WBev\": 3}, {\"GueltigAbDat\": \"2021-08-16T00:00:00\", \"GueltigAbDatJahr\": 2021, \"GueltigAbDatMM\": 8, \"AlterV20Kurz\": \"80-99\", \"sum_WBev\": 3}, {\"GueltigAbDat\": \"2021-08-14T00:00:00\", \"GueltigAbDatJahr\": 2021, \"GueltigAbDatMM\": 8, \"AlterV20Kurz\": \"80-99\", \"sum_WBev\": 3}, {\"GueltigAbDat\": \"2021-07-07T00:00:00\", \"GueltigAbDatJahr\": 2021, \"GueltigAbDatMM\": 7, \"AlterV20Kurz\": \"80-99\", \"sum_WBev\": 3}, {\"GueltigAbDat\": \"2021-01-01T00:00:00\", \"GueltigAbDatJahr\": 2021, \"GueltigAbDatMM\": 1, \"AlterV20Kurz\": \"60-79\", \"sum_WBev\": 3}, {\"GueltigAbDat\": \"2021-06-17T00:00:00\", \"GueltigAbDatJahr\": 2021, \"GueltigAbDatMM\": 6, \"AlterV20Kurz\": \"80-99\", \"sum_WBev\": 3}, {\"GueltigAbDat\": \"2021-05-23T00:00:00\", \"GueltigAbDatJahr\": 2021, \"GueltigAbDatMM\": 5, \"AlterV20Kurz\": \"80-99\", \"sum_WBev\": 3}, {\"GueltigAbDat\": \"2021-08-11T00:00:00\", \"GueltigAbDatJahr\": 2021, \"GueltigAbDatMM\": 8, \"AlterV20Kurz\": \"80-99\", \"sum_WBev\": 3}, {\"GueltigAbDat\": \"2021-01-03T00:00:00\", \"GueltigAbDatJahr\": 2021, \"GueltigAbDatMM\": 1, \"AlterV20Kurz\": \"40-59\", \"sum_WBev\": 3}, {\"GueltigAbDat\": \"2021-08-10T00:00:00\", \"GueltigAbDatJahr\": 2021, \"GueltigAbDatMM\": 8, \"AlterV20Kurz\": \"60-79\", \"sum_WBev\": 3}, {\"GueltigAbDat\": \"2021-07-14T00:00:00\", \"GueltigAbDatJahr\": 2021, \"GueltigAbDatMM\": 7, \"AlterV20Kurz\": \"60-79\", \"sum_WBev\": 3}, {\"GueltigAbDat\": \"2021-08-09T00:00:00\", \"GueltigAbDatJahr\": 2021, \"GueltigAbDatMM\": 8, \"AlterV20Kurz\": \"60-79\", \"sum_WBev\": 3}, {\"GueltigAbDat\": \"2021-01-03T00:00:00\", \"GueltigAbDatJahr\": 2021, \"GueltigAbDatMM\": 1, \"AlterV20Kurz\": \"60-79\", \"sum_WBev\": 3}, {\"GueltigAbDat\": \"2021-07-23T00:00:00\", \"GueltigAbDatJahr\": 2021, \"GueltigAbDatMM\": 7, \"AlterV20Kurz\": \"60-79\", \"sum_WBev\": 3}, {\"GueltigAbDat\": \"2021-06-18T00:00:00\", \"GueltigAbDatJahr\": 2021, \"GueltigAbDatMM\": 6, \"AlterV20Kurz\": \"60-79\", \"sum_WBev\": 3}, {\"GueltigAbDat\": \"2021-07-21T00:00:00\", \"GueltigAbDatJahr\": 2021, \"GueltigAbDatMM\": 7, \"AlterV20Kurz\": \"60-79\", \"sum_WBev\": 3}, {\"GueltigAbDat\": \"2021-09-18T00:00:00\", \"GueltigAbDatJahr\": 2021, \"GueltigAbDatMM\": 9, \"AlterV20Kurz\": \"40-59\", \"sum_WBev\": 3}, {\"GueltigAbDat\": \"2021-03-27T00:00:00\", \"GueltigAbDatJahr\": 2021, \"GueltigAbDatMM\": 3, \"AlterV20Kurz\": \"60-79\", \"sum_WBev\": 3}, {\"GueltigAbDat\": \"2021-03-28T00:00:00\", \"GueltigAbDatJahr\": 2021, \"GueltigAbDatMM\": 3, \"AlterV20Kurz\": \"80-99\", \"sum_WBev\": 3}, {\"GueltigAbDat\": \"2020-11-15T00:00:00\", \"GueltigAbDatJahr\": 2020, \"GueltigAbDatMM\": 11, \"AlterV20Kurz\": \"60-79\", \"sum_WBev\": 3}, {\"GueltigAbDat\": \"2020-11-17T00:00:00\", \"GueltigAbDatJahr\": 2020, \"GueltigAbDatMM\": 11, \"AlterV20Kurz\": \"60-79\", \"sum_WBev\": 3}, {\"GueltigAbDat\": \"2021-11-01T00:00:00\", \"GueltigAbDatJahr\": 2021, \"GueltigAbDatMM\": 11, \"AlterV20Kurz\": \"60-79\", \"sum_WBev\": 3}, {\"GueltigAbDat\": \"2021-03-30T00:00:00\", \"GueltigAbDatJahr\": 2021, \"GueltigAbDatMM\": 3, \"AlterV20Kurz\": \"80-99\", \"sum_WBev\": 3}, {\"GueltigAbDat\": \"2021-10-30T00:00:00\", \"GueltigAbDatJahr\": 2021, \"GueltigAbDatMM\": 10, \"AlterV20Kurz\": \"60-79\", \"sum_WBev\": 3}, {\"GueltigAbDat\": \"2021-10-25T00:00:00\", \"GueltigAbDatJahr\": 2021, \"GueltigAbDatMM\": 10, \"AlterV20Kurz\": \"80-99\", \"sum_WBev\": 3}, {\"GueltigAbDat\": \"2021-09-18T00:00:00\", \"GueltigAbDatJahr\": 2021, \"GueltigAbDatMM\": 9, \"AlterV20Kurz\": \"60-79\", \"sum_WBev\": 3}, {\"GueltigAbDat\": \"2020-11-20T00:00:00\", \"GueltigAbDatJahr\": 2020, \"GueltigAbDatMM\": 11, \"AlterV20Kurz\": \"60-79\", \"sum_WBev\": 3}, {\"GueltigAbDat\": \"2021-04-06T00:00:00\", \"GueltigAbDatJahr\": 2021, \"GueltigAbDatMM\": 4, \"AlterV20Kurz\": \"60-79\", \"sum_WBev\": 3}, {\"GueltigAbDat\": \"2021-10-19T00:00:00\", \"GueltigAbDatJahr\": 2021, \"GueltigAbDatMM\": 10, \"AlterV20Kurz\": \"80-99\", \"sum_WBev\": 3}, {\"GueltigAbDat\": \"2021-04-07T00:00:00\", \"GueltigAbDatJahr\": 2021, \"GueltigAbDatMM\": 4, \"AlterV20Kurz\": \"80-99\", \"sum_WBev\": 3}, {\"GueltigAbDat\": \"2021-04-08T00:00:00\", \"GueltigAbDatJahr\": 2021, \"GueltigAbDatMM\": 4, \"AlterV20Kurz\": \"60-79\", \"sum_WBev\": 3}, {\"GueltigAbDat\": \"2021-04-08T00:00:00\", \"GueltigAbDatJahr\": 2021, \"GueltigAbDatMM\": 4, \"AlterV20Kurz\": \"80-99\", \"sum_WBev\": 3}, {\"GueltigAbDat\": \"2021-10-15T00:00:00\", \"GueltigAbDatJahr\": 2021, \"GueltigAbDatMM\": 10, \"AlterV20Kurz\": \"80-99\", \"sum_WBev\": 3}, {\"GueltigAbDat\": \"2021-10-15T00:00:00\", \"GueltigAbDatJahr\": 2021, \"GueltigAbDatMM\": 10, \"AlterV20Kurz\": \"60-79\", \"sum_WBev\": 3}, {\"GueltigAbDat\": \"2021-02-25T00:00:00\", \"GueltigAbDatJahr\": 2021, \"GueltigAbDatMM\": 2, \"AlterV20Kurz\": \"80-99\", \"sum_WBev\": 3}, {\"GueltigAbDat\": \"2021-04-12T00:00:00\", \"GueltigAbDatJahr\": 2021, \"GueltigAbDatMM\": 4, \"AlterV20Kurz\": \"60-79\", \"sum_WBev\": 3}, {\"GueltigAbDat\": \"2021-02-24T00:00:00\", \"GueltigAbDatJahr\": 2021, \"GueltigAbDatMM\": 2, \"AlterV20Kurz\": \"60-79\", \"sum_WBev\": 3}, {\"GueltigAbDat\": \"2021-03-03T00:00:00\", \"GueltigAbDatJahr\": 2021, \"GueltigAbDatMM\": 3, \"AlterV20Kurz\": \"80-99\", \"sum_WBev\": 3}, {\"GueltigAbDat\": \"2021-03-27T00:00:00\", \"GueltigAbDatJahr\": 2021, \"GueltigAbDatMM\": 3, \"AlterV20Kurz\": \"40-59\", \"sum_WBev\": 3}, {\"GueltigAbDat\": \"2021-02-23T00:00:00\", \"GueltigAbDatJahr\": 2021, \"GueltigAbDatMM\": 2, \"AlterV20Kurz\": \"80-99\", \"sum_WBev\": 3}, {\"GueltigAbDat\": \"2021-11-06T00:00:00\", \"GueltigAbDatJahr\": 2021, \"GueltigAbDatMM\": 11, \"AlterV20Kurz\": \"80-99\", \"sum_WBev\": 3}, {\"GueltigAbDat\": \"2020-11-02T00:00:00\", \"GueltigAbDatJahr\": 2020, \"GueltigAbDatMM\": 11, \"AlterV20Kurz\": \"60-79\", \"sum_WBev\": 3}, {\"GueltigAbDat\": \"2021-03-11T00:00:00\", \"GueltigAbDatJahr\": 2021, \"GueltigAbDatMM\": 3, \"AlterV20Kurz\": \"80-99\", \"sum_WBev\": 3}, {\"GueltigAbDat\": \"2021-11-28T00:00:00\", \"GueltigAbDatJahr\": 2021, \"GueltigAbDatMM\": 11, \"AlterV20Kurz\": \"60-79\", \"sum_WBev\": 3}, {\"GueltigAbDat\": \"2021-03-12T00:00:00\", \"GueltigAbDatJahr\": 2021, \"GueltigAbDatMM\": 3, \"AlterV20Kurz\": \"80-99\", \"sum_WBev\": 3}, {\"GueltigAbDat\": \"2021-03-14T00:00:00\", \"GueltigAbDatJahr\": 2021, \"GueltigAbDatMM\": 3, \"AlterV20Kurz\": \"60-79\", \"sum_WBev\": 3}, {\"GueltigAbDat\": \"2021-03-14T00:00:00\", \"GueltigAbDatJahr\": 2021, \"GueltigAbDatMM\": 3, \"AlterV20Kurz\": \"80-99\", \"sum_WBev\": 3}, {\"GueltigAbDat\": \"2020-11-05T00:00:00\", \"GueltigAbDatJahr\": 2020, \"GueltigAbDatMM\": 11, \"AlterV20Kurz\": \"60-79\", \"sum_WBev\": 3}, {\"GueltigAbDat\": \"2020-11-06T00:00:00\", \"GueltigAbDatJahr\": 2020, \"GueltigAbDatMM\": 11, \"AlterV20Kurz\": \"60-79\", \"sum_WBev\": 3}, {\"GueltigAbDat\": \"2020-11-07T00:00:00\", \"GueltigAbDatJahr\": 2020, \"GueltigAbDatMM\": 11, \"AlterV20Kurz\": \"80-99\", \"sum_WBev\": 3}, {\"GueltigAbDat\": \"2021-03-19T00:00:00\", \"GueltigAbDatJahr\": 2021, \"GueltigAbDatMM\": 3, \"AlterV20Kurz\": \"60-79\", \"sum_WBev\": 3}, {\"GueltigAbDat\": \"2020-11-08T00:00:00\", \"GueltigAbDatJahr\": 2020, \"GueltigAbDatMM\": 11, \"AlterV20Kurz\": \"60-79\", \"sum_WBev\": 3}, {\"GueltigAbDat\": \"2021-11-18T00:00:00\", \"GueltigAbDatJahr\": 2021, \"GueltigAbDatMM\": 11, \"AlterV20Kurz\": \"60-79\", \"sum_WBev\": 3}, {\"GueltigAbDat\": \"2021-11-16T00:00:00\", \"GueltigAbDatJahr\": 2021, \"GueltigAbDatMM\": 11, \"AlterV20Kurz\": \"80-99\", \"sum_WBev\": 3}, {\"GueltigAbDat\": \"2020-11-11T00:00:00\", \"GueltigAbDatJahr\": 2020, \"GueltigAbDatMM\": 11, \"AlterV20Kurz\": \"60-79\", \"sum_WBev\": 3}, {\"GueltigAbDat\": \"2021-03-23T00:00:00\", \"GueltigAbDatJahr\": 2021, \"GueltigAbDatMM\": 3, \"AlterV20Kurz\": \"80-99\", \"sum_WBev\": 3}, {\"GueltigAbDat\": \"2021-11-10T00:00:00\", \"GueltigAbDatJahr\": 2021, \"GueltigAbDatMM\": 11, \"AlterV20Kurz\": \"80-99\", \"sum_WBev\": 3}, {\"GueltigAbDat\": \"2020-11-13T00:00:00\", \"GueltigAbDatJahr\": 2020, \"GueltigAbDatMM\": 11, \"AlterV20Kurz\": \"60-79\", \"sum_WBev\": 3}, {\"GueltigAbDat\": \"2021-11-08T00:00:00\", \"GueltigAbDatJahr\": 2021, \"GueltigAbDatMM\": 11, \"AlterV20Kurz\": \"80-99\", \"sum_WBev\": 3}, {\"GueltigAbDat\": \"2020-11-14T00:00:00\", \"GueltigAbDatJahr\": 2020, \"GueltigAbDatMM\": 11, \"AlterV20Kurz\": \"60-79\", \"sum_WBev\": 3}, {\"GueltigAbDat\": \"2021-04-13T00:00:00\", \"GueltigAbDatJahr\": 2021, \"GueltigAbDatMM\": 4, \"AlterV20Kurz\": \"60-79\", \"sum_WBev\": 3}, {\"GueltigAbDat\": \"2021-04-03T00:00:00\", \"GueltigAbDatJahr\": 2021, \"GueltigAbDatMM\": 4, \"AlterV20Kurz\": \"80-99\", \"sum_WBev\": 3}, {\"GueltigAbDat\": \"2021-02-22T00:00:00\", \"GueltigAbDatJahr\": 2021, \"GueltigAbDatMM\": 2, \"AlterV20Kurz\": \"60-79\", \"sum_WBev\": 3}, {\"GueltigAbDat\": \"2021-10-05T00:00:00\", \"GueltigAbDatJahr\": 2021, \"GueltigAbDatMM\": 10, \"AlterV20Kurz\": \"80-99\", \"sum_WBev\": 3}, {\"GueltigAbDat\": \"2021-09-28T00:00:00\", \"GueltigAbDatJahr\": 2021, \"GueltigAbDatMM\": 9, \"AlterV20Kurz\": \"60-79\", \"sum_WBev\": 3}, {\"GueltigAbDat\": \"2021-02-19T00:00:00\", \"GueltigAbDatJahr\": 2021, \"GueltigAbDatMM\": 2, \"AlterV20Kurz\": \"60-79\", \"sum_WBev\": 3}, {\"GueltigAbDat\": \"2020-11-27T00:00:00\", \"GueltigAbDatJahr\": 2020, \"GueltigAbDatMM\": 11, \"AlterV20Kurz\": \"60-79\", \"sum_WBev\": 3}, {\"GueltigAbDat\": \"2021-04-18T00:00:00\", \"GueltigAbDatJahr\": 2021, \"GueltigAbDatMM\": 4, \"AlterV20Kurz\": \"60-79\", \"sum_WBev\": 3}, {\"GueltigAbDat\": \"2021-04-27T00:00:00\", \"GueltigAbDatJahr\": 2021, \"GueltigAbDatMM\": 4, \"AlterV20Kurz\": \"60-79\", \"sum_WBev\": 3}, {\"GueltigAbDat\": \"2020-11-26T00:00:00\", \"GueltigAbDatJahr\": 2020, \"GueltigAbDatMM\": 11, \"AlterV20Kurz\": \"60-79\", \"sum_WBev\": 3}, {\"GueltigAbDat\": \"2021-09-30T00:00:00\", \"GueltigAbDatJahr\": 2021, \"GueltigAbDatMM\": 9, \"AlterV20Kurz\": \"80-99\", \"sum_WBev\": 3}, {\"GueltigAbDat\": \"2020-12-07T00:00:00\", \"GueltigAbDatJahr\": 2020, \"GueltigAbDatMM\": 12, \"AlterV20Kurz\": \"60-79\", \"sum_WBev\": 3}, {\"GueltigAbDat\": \"2021-09-25T00:00:00\", \"GueltigAbDatJahr\": 2021, \"GueltigAbDatMM\": 9, \"AlterV20Kurz\": \"80-99\", \"sum_WBev\": 3}, {\"GueltigAbDat\": \"2021-04-19T00:00:00\", \"GueltigAbDatJahr\": 2021, \"GueltigAbDatMM\": 4, \"AlterV20Kurz\": \"40-59\", \"sum_WBev\": 3}, {\"GueltigAbDat\": \"2021-10-12T00:00:00\", \"GueltigAbDatJahr\": 2021, \"GueltigAbDatMM\": 10, \"AlterV20Kurz\": \"80-99\", \"sum_WBev\": 3}, {\"GueltigAbDat\": \"2021-04-23T00:00:00\", \"GueltigAbDatJahr\": 2021, \"GueltigAbDatMM\": 4, \"AlterV20Kurz\": \"60-79\", \"sum_WBev\": 3}, {\"GueltigAbDat\": \"2021-10-04T00:00:00\", \"GueltigAbDatJahr\": 2021, \"GueltigAbDatMM\": 10, \"AlterV20Kurz\": \"60-79\", \"sum_WBev\": 3}, {\"GueltigAbDat\": \"2020-11-11T00:00:00\", \"GueltigAbDatJahr\": 2020, \"GueltigAbDatMM\": 11, \"AlterV20Kurz\": \"40-59\", \"sum_WBev\": 2}, {\"GueltigAbDat\": \"2021-11-17T00:00:00\", \"GueltigAbDatJahr\": 2021, \"GueltigAbDatMM\": 11, \"AlterV20Kurz\": \"40-59\", \"sum_WBev\": 2}, {\"GueltigAbDat\": \"2021-09-10T00:00:00\", \"GueltigAbDatJahr\": 2021, \"GueltigAbDatMM\": 9, \"AlterV20Kurz\": \"60-79\", \"sum_WBev\": 2}, {\"GueltigAbDat\": \"2021-07-12T00:00:00\", \"GueltigAbDatJahr\": 2021, \"GueltigAbDatMM\": 7, \"AlterV20Kurz\": \"80-99\", \"sum_WBev\": 2}, {\"GueltigAbDat\": \"2021-09-29T00:00:00\", \"GueltigAbDatJahr\": 2021, \"GueltigAbDatMM\": 9, \"AlterV20Kurz\": \"60-79\", \"sum_WBev\": 2}, {\"GueltigAbDat\": \"2021-07-15T00:00:00\", \"GueltigAbDatJahr\": 2021, \"GueltigAbDatMM\": 7, \"AlterV20Kurz\": \"60-79\", \"sum_WBev\": 2}, {\"GueltigAbDat\": \"2021-11-14T00:00:00\", \"GueltigAbDatJahr\": 2021, \"GueltigAbDatMM\": 11, \"AlterV20Kurz\": \"60-79\", \"sum_WBev\": 2}, {\"GueltigAbDat\": \"2021-11-21T00:00:00\", \"GueltigAbDatJahr\": 2021, \"GueltigAbDatMM\": 11, \"AlterV20Kurz\": \"60-79\", \"sum_WBev\": 2}, {\"GueltigAbDat\": \"2021-09-09T00:00:00\", \"GueltigAbDatJahr\": 2021, \"GueltigAbDatMM\": 9, \"AlterV20Kurz\": \"40-59\", \"sum_WBev\": 2}, {\"GueltigAbDat\": \"2021-07-18T00:00:00\", \"GueltigAbDatJahr\": 2021, \"GueltigAbDatMM\": 7, \"AlterV20Kurz\": \"60-79\", \"sum_WBev\": 2}, {\"GueltigAbDat\": \"2021-01-12T00:00:00\", \"GueltigAbDatJahr\": 2021, \"GueltigAbDatMM\": 1, \"AlterV20Kurz\": \"60-79\", \"sum_WBev\": 2}, {\"GueltigAbDat\": \"2020-12-15T00:00:00\", \"GueltigAbDatJahr\": 2020, \"GueltigAbDatMM\": 12, \"AlterV20Kurz\": \"60-79\", \"sum_WBev\": 2}, {\"GueltigAbDat\": \"2021-11-09T00:00:00\", \"GueltigAbDatJahr\": 2021, \"GueltigAbDatMM\": 11, \"AlterV20Kurz\": \"60-79\", \"sum_WBev\": 2}, {\"GueltigAbDat\": \"2021-01-12T00:00:00\", \"GueltigAbDatJahr\": 2021, \"GueltigAbDatMM\": 1, \"AlterV20Kurz\": \"40-59\", \"sum_WBev\": 2}, {\"GueltigAbDat\": \"2021-07-20T00:00:00\", \"GueltigAbDatJahr\": 2021, \"GueltigAbDatMM\": 7, \"AlterV20Kurz\": \"60-79\", \"sum_WBev\": 2}, {\"GueltigAbDat\": \"2021-11-21T00:00:00\", \"GueltigAbDatJahr\": 2021, \"GueltigAbDatMM\": 11, \"AlterV20Kurz\": \"40-59\", \"sum_WBev\": 2}, {\"GueltigAbDat\": \"2021-08-23T00:00:00\", \"GueltigAbDatJahr\": 2021, \"GueltigAbDatMM\": 8, \"AlterV20Kurz\": \"40-59\", \"sum_WBev\": 2}, {\"GueltigAbDat\": \"2021-09-27T00:00:00\", \"GueltigAbDatJahr\": 2021, \"GueltigAbDatMM\": 9, \"AlterV20Kurz\": \"40-59\", \"sum_WBev\": 2}, {\"GueltigAbDat\": \"2021-09-22T00:00:00\", \"GueltigAbDatJahr\": 2021, \"GueltigAbDatMM\": 9, \"AlterV20Kurz\": \"80-99\", \"sum_WBev\": 2}, {\"GueltigAbDat\": \"2021-06-26T00:00:00\", \"GueltigAbDatJahr\": 2021, \"GueltigAbDatMM\": 6, \"AlterV20Kurz\": \"80-99\", \"sum_WBev\": 2}, {\"GueltigAbDat\": \"2021-11-30T00:00:00\", \"GueltigAbDatJahr\": 2021, \"GueltigAbDatMM\": 11, \"AlterV20Kurz\": \"60-79\", \"sum_WBev\": 2}, {\"GueltigAbDat\": \"2020-12-10T00:00:00\", \"GueltigAbDatJahr\": 2020, \"GueltigAbDatMM\": 12, \"AlterV20Kurz\": \"40-59\", \"sum_WBev\": 2}, {\"GueltigAbDat\": \"2021-06-27T00:00:00\", \"GueltigAbDatJahr\": 2021, \"GueltigAbDatMM\": 6, \"AlterV20Kurz\": \"60-79\", \"sum_WBev\": 2}, {\"GueltigAbDat\": \"2021-09-20T00:00:00\", \"GueltigAbDatJahr\": 2021, \"GueltigAbDatMM\": 9, \"AlterV20Kurz\": \"60-79\", \"sum_WBev\": 2}, {\"GueltigAbDat\": \"2021-06-29T00:00:00\", \"GueltigAbDatJahr\": 2021, \"GueltigAbDatMM\": 6, \"AlterV20Kurz\": \"60-79\", \"sum_WBev\": 2}, {\"GueltigAbDat\": \"2021-09-22T00:00:00\", \"GueltigAbDatJahr\": 2021, \"GueltigAbDatMM\": 9, \"AlterV20Kurz\": \"40-59\", \"sum_WBev\": 2}, {\"GueltigAbDat\": \"2021-01-21T00:00:00\", \"GueltigAbDatJahr\": 2021, \"GueltigAbDatMM\": 1, \"AlterV20Kurz\": \"40-59\", \"sum_WBev\": 2}, {\"GueltigAbDat\": \"2021-11-26T00:00:00\", \"GueltigAbDatJahr\": 2021, \"GueltigAbDatMM\": 11, \"AlterV20Kurz\": \"80-99\", \"sum_WBev\": 2}, {\"GueltigAbDat\": \"2021-09-24T00:00:00\", \"GueltigAbDatJahr\": 2021, \"GueltigAbDatMM\": 9, \"AlterV20Kurz\": \"60-79\", \"sum_WBev\": 2}, {\"GueltigAbDat\": \"2020-12-08T00:00:00\", \"GueltigAbDatJahr\": 2020, \"GueltigAbDatMM\": 12, \"AlterV20Kurz\": \"40-59\", \"sum_WBev\": 2}, {\"GueltigAbDat\": \"2021-07-02T00:00:00\", \"GueltigAbDatJahr\": 2021, \"GueltigAbDatMM\": 7, \"AlterV20Kurz\": \"60-79\", \"sum_WBev\": 2}, {\"GueltigAbDat\": \"2021-09-25T00:00:00\", \"GueltigAbDatJahr\": 2021, \"GueltigAbDatMM\": 9, \"AlterV20Kurz\": \"60-79\", \"sum_WBev\": 2}, {\"GueltigAbDat\": \"2021-11-25T00:00:00\", \"GueltigAbDatJahr\": 2021, \"GueltigAbDatMM\": 11, \"AlterV20Kurz\": \"60-79\", \"sum_WBev\": 2}, {\"GueltigAbDat\": \"2021-11-24T00:00:00\", \"GueltigAbDatJahr\": 2021, \"GueltigAbDatMM\": 11, \"AlterV20Kurz\": \"60-79\", \"sum_WBev\": 2}, {\"GueltigAbDat\": \"2021-11-23T00:00:00\", \"GueltigAbDatJahr\": 2021, \"GueltigAbDatMM\": 11, \"AlterV20Kurz\": \"60-79\", \"sum_WBev\": 2}, {\"GueltigAbDat\": \"2021-07-07T00:00:00\", \"GueltigAbDatJahr\": 2021, \"GueltigAbDatMM\": 7, \"AlterV20Kurz\": \"60-79\", \"sum_WBev\": 2}, {\"GueltigAbDat\": \"2021-11-23T00:00:00\", \"GueltigAbDatJahr\": 2021, \"GueltigAbDatMM\": 11, \"AlterV20Kurz\": \"40-59\", \"sum_WBev\": 2}, {\"GueltigAbDat\": \"2020-11-07T00:00:00\", \"GueltigAbDatJahr\": 2020, \"GueltigAbDatMM\": 11, \"AlterV20Kurz\": \"60-79\", \"sum_WBev\": 2}, {\"GueltigAbDat\": \"2021-11-08T00:00:00\", \"GueltigAbDatJahr\": 2021, \"GueltigAbDatMM\": 11, \"AlterV20Kurz\": \"60-79\", \"sum_WBev\": 2}, {\"GueltigAbDat\": \"2021-07-23T00:00:00\", \"GueltigAbDatJahr\": 2021, \"GueltigAbDatMM\": 7, \"AlterV20Kurz\": \"40-59\", \"sum_WBev\": 2}, {\"GueltigAbDat\": \"2021-01-10T00:00:00\", \"GueltigAbDatJahr\": 2021, \"GueltigAbDatMM\": 1, \"AlterV20Kurz\": \"40-59\", \"sum_WBev\": 2}, {\"GueltigAbDat\": \"2020-12-05T00:00:00\", \"GueltigAbDatJahr\": 2020, \"GueltigAbDatMM\": 12, \"AlterV20Kurz\": \"60-79\", \"sum_WBev\": 2}, {\"GueltigAbDat\": \"2021-01-04T00:00:00\", \"GueltigAbDatJahr\": 2021, \"GueltigAbDatMM\": 1, \"AlterV20Kurz\": \"40-59\", \"sum_WBev\": 2}, {\"GueltigAbDat\": \"2021-10-24T00:00:00\", \"GueltigAbDatJahr\": 2021, \"GueltigAbDatMM\": 10, \"AlterV20Kurz\": \"80-99\", \"sum_WBev\": 2}, {\"GueltigAbDat\": \"2021-10-22T00:00:00\", \"GueltigAbDatJahr\": 2021, \"GueltigAbDatMM\": 10, \"AlterV20Kurz\": \"80-99\", \"sum_WBev\": 2}, {\"GueltigAbDat\": \"2021-10-21T00:00:00\", \"GueltigAbDatJahr\": 2021, \"GueltigAbDatMM\": 10, \"AlterV20Kurz\": \"60-79\", \"sum_WBev\": 2}, {\"GueltigAbDat\": \"2021-08-27T00:00:00\", \"GueltigAbDatJahr\": 2021, \"GueltigAbDatMM\": 8, \"AlterV20Kurz\": \"20-39\", \"sum_WBev\": 2}, {\"GueltigAbDat\": \"2021-08-09T00:00:00\", \"GueltigAbDatJahr\": 2021, \"GueltigAbDatMM\": 8, \"AlterV20Kurz\": \"80-99\", \"sum_WBev\": 2}, {\"GueltigAbDat\": \"2021-10-20T00:00:00\", \"GueltigAbDatJahr\": 2021, \"GueltigAbDatMM\": 10, \"AlterV20Kurz\": \"60-79\", \"sum_WBev\": 2}, {\"GueltigAbDat\": \"2021-08-26T00:00:00\", \"GueltigAbDatJahr\": 2021, \"GueltigAbDatMM\": 8, \"AlterV20Kurz\": \"80-99\", \"sum_WBev\": 2}, {\"GueltigAbDat\": \"2021-10-09T00:00:00\", \"GueltigAbDatJahr\": 2021, \"GueltigAbDatMM\": 10, \"AlterV20Kurz\": \"40-59\", \"sum_WBev\": 2}, {\"GueltigAbDat\": \"2020-11-28T00:00:00\", \"GueltigAbDatJahr\": 2020, \"GueltigAbDatMM\": 11, \"AlterV20Kurz\": \"100 u. \\u00e4lter\", \"sum_WBev\": 2}, {\"GueltigAbDat\": \"2021-10-19T00:00:00\", \"GueltigAbDatJahr\": 2021, \"GueltigAbDatMM\": 10, \"AlterV20Kurz\": \"60-79\", \"sum_WBev\": 2}, {\"GueltigAbDat\": \"2021-10-11T00:00:00\", \"GueltigAbDatJahr\": 2021, \"GueltigAbDatMM\": 10, \"AlterV20Kurz\": \"40-59\", \"sum_WBev\": 2}, {\"GueltigAbDat\": \"2021-10-11T00:00:00\", \"GueltigAbDatJahr\": 2021, \"GueltigAbDatMM\": 10, \"AlterV20Kurz\": \"60-79\", \"sum_WBev\": 2}, {\"GueltigAbDat\": \"2021-10-15T00:00:00\", \"GueltigAbDatJahr\": 2021, \"GueltigAbDatMM\": 10, \"AlterV20Kurz\": \"40-59\", \"sum_WBev\": 2}, {\"GueltigAbDat\": \"2021-08-18T00:00:00\", \"GueltigAbDatJahr\": 2021, \"GueltigAbDatMM\": 8, \"AlterV20Kurz\": \"60-79\", \"sum_WBev\": 2}, {\"GueltigAbDat\": \"2021-10-14T00:00:00\", \"GueltigAbDatJahr\": 2021, \"GueltigAbDatMM\": 10, \"AlterV20Kurz\": \"60-79\", \"sum_WBev\": 2}, {\"GueltigAbDat\": \"2021-10-14T00:00:00\", \"GueltigAbDatJahr\": 2021, \"GueltigAbDatMM\": 10, \"AlterV20Kurz\": \"40-59\", \"sum_WBev\": 2}, {\"GueltigAbDat\": \"2021-08-24T00:00:00\", \"GueltigAbDatJahr\": 2021, \"GueltigAbDatMM\": 8, \"AlterV20Kurz\": \"60-79\", \"sum_WBev\": 2}, {\"GueltigAbDat\": \"2021-10-12T00:00:00\", \"GueltigAbDatJahr\": 2021, \"GueltigAbDatMM\": 10, \"AlterV20Kurz\": \"40-59\", \"sum_WBev\": 2}, {\"GueltigAbDat\": \"2020-11-25T00:00:00\", \"GueltigAbDatJahr\": 2020, \"GueltigAbDatMM\": 11, \"AlterV20Kurz\": \"60-79\", \"sum_WBev\": 2}, {\"GueltigAbDat\": \"2021-10-25T00:00:00\", \"GueltigAbDatJahr\": 2021, \"GueltigAbDatMM\": 10, \"AlterV20Kurz\": \"40-59\", \"sum_WBev\": 2}, {\"GueltigAbDat\": \"2021-08-04T00:00:00\", \"GueltigAbDatJahr\": 2021, \"GueltigAbDatMM\": 8, \"AlterV20Kurz\": \"80-99\", \"sum_WBev\": 2}, {\"GueltigAbDat\": \"2021-11-07T00:00:00\", \"GueltigAbDatJahr\": 2021, \"GueltigAbDatMM\": 11, \"AlterV20Kurz\": \"40-59\", \"sum_WBev\": 2}, {\"GueltigAbDat\": \"2020-11-20T00:00:00\", \"GueltigAbDatJahr\": 2020, \"GueltigAbDatMM\": 11, \"AlterV20Kurz\": \"40-59\", \"sum_WBev\": 2}, {\"GueltigAbDat\": \"2021-09-06T00:00:00\", \"GueltigAbDatJahr\": 2021, \"GueltigAbDatMM\": 9, \"AlterV20Kurz\": \"80-99\", \"sum_WBev\": 2}, {\"GueltigAbDat\": \"2021-01-10T00:00:00\", \"GueltigAbDatJahr\": 2021, \"GueltigAbDatMM\": 1, \"AlterV20Kurz\": \"60-79\", \"sum_WBev\": 2}, {\"GueltigAbDat\": \"2021-10-13T00:00:00\", \"GueltigAbDatJahr\": 2021, \"GueltigAbDatMM\": 10, \"AlterV20Kurz\": \"60-79\", \"sum_WBev\": 2}, {\"GueltigAbDat\": \"2021-09-05T00:00:00\", \"GueltigAbDatJahr\": 2021, \"GueltigAbDatMM\": 9, \"AlterV20Kurz\": \"60-79\", \"sum_WBev\": 2}, {\"GueltigAbDat\": \"2021-09-04T00:00:00\", \"GueltigAbDatJahr\": 2021, \"GueltigAbDatMM\": 9, \"AlterV20Kurz\": \"40-59\", \"sum_WBev\": 2}, {\"GueltigAbDat\": \"2021-11-06T00:00:00\", \"GueltigAbDatJahr\": 2021, \"GueltigAbDatMM\": 11, \"AlterV20Kurz\": \"60-79\", \"sum_WBev\": 2}, {\"GueltigAbDat\": \"2021-07-27T00:00:00\", \"GueltigAbDatJahr\": 2021, \"GueltigAbDatMM\": 7, \"AlterV20Kurz\": \"60-79\", \"sum_WBev\": 2}, {\"GueltigAbDat\": \"2021-01-09T00:00:00\", \"GueltigAbDatJahr\": 2021, \"GueltigAbDatMM\": 1, \"AlterV20Kurz\": \"100 u. \\u00e4lter\", \"sum_WBev\": 2}, {\"GueltigAbDat\": \"2021-09-02T00:00:00\", \"GueltigAbDatJahr\": 2021, \"GueltigAbDatMM\": 9, \"AlterV20Kurz\": \"40-59\", \"sum_WBev\": 2}, {\"GueltigAbDat\": \"2021-01-08T00:00:00\", \"GueltigAbDatJahr\": 2021, \"GueltigAbDatMM\": 1, \"AlterV20Kurz\": \"60-79\", \"sum_WBev\": 2}, {\"GueltigAbDat\": \"2021-10-03T00:00:00\", \"GueltigAbDatJahr\": 2021, \"GueltigAbDatMM\": 10, \"AlterV20Kurz\": \"60-79\", \"sum_WBev\": 2}, {\"GueltigAbDat\": \"2021-08-31T00:00:00\", \"GueltigAbDatJahr\": 2021, \"GueltigAbDatMM\": 8, \"AlterV20Kurz\": \"60-79\", \"sum_WBev\": 2}, {\"GueltigAbDat\": \"2021-10-05T00:00:00\", \"GueltigAbDatJahr\": 2021, \"GueltigAbDatMM\": 10, \"AlterV20Kurz\": \"60-79\", \"sum_WBev\": 2}, {\"GueltigAbDat\": \"2020-11-18T00:00:00\", \"GueltigAbDatJahr\": 2020, \"GueltigAbDatMM\": 11, \"AlterV20Kurz\": \"60-79\", \"sum_WBev\": 2}, {\"GueltigAbDat\": \"2021-01-07T00:00:00\", \"GueltigAbDatJahr\": 2021, \"GueltigAbDatMM\": 1, \"AlterV20Kurz\": \"60-79\", \"sum_WBev\": 2}, {\"GueltigAbDat\": \"2021-08-01T00:00:00\", \"GueltigAbDatJahr\": 2021, \"GueltigAbDatMM\": 8, \"AlterV20Kurz\": \"60-79\", \"sum_WBev\": 2}, {\"GueltigAbDat\": \"2021-10-28T00:00:00\", \"GueltigAbDatJahr\": 2021, \"GueltigAbDatMM\": 10, \"AlterV20Kurz\": \"60-79\", \"sum_WBev\": 2}, {\"GueltigAbDat\": \"2021-10-28T00:00:00\", \"GueltigAbDatJahr\": 2021, \"GueltigAbDatMM\": 10, \"AlterV20Kurz\": \"100 u. \\u00e4lter\", \"sum_WBev\": 2}, {\"GueltigAbDat\": \"2020-11-19T00:00:00\", \"GueltigAbDatJahr\": 2020, \"GueltigAbDatMM\": 11, \"AlterV20Kurz\": \"60-79\", \"sum_WBev\": 2}, {\"GueltigAbDat\": \"2021-09-13T00:00:00\", \"GueltigAbDatJahr\": 2021, \"GueltigAbDatMM\": 9, \"AlterV20Kurz\": \"80-99\", \"sum_WBev\": 2}, {\"GueltigAbDat\": \"2021-03-10T00:00:00\", \"GueltigAbDatJahr\": 2021, \"GueltigAbDatMM\": 3, \"AlterV20Kurz\": \"60-79\", \"sum_WBev\": 2}, {\"GueltigAbDat\": \"2020-11-01T00:00:00\", \"GueltigAbDatJahr\": 2020, \"GueltigAbDatMM\": 11, \"AlterV20Kurz\": \"80-99\", \"sum_WBev\": 2}, {\"GueltigAbDat\": \"2021-03-22T00:00:00\", \"GueltigAbDatJahr\": 2021, \"GueltigAbDatMM\": 3, \"AlterV20Kurz\": \"40-59\", \"sum_WBev\": 2}, {\"GueltigAbDat\": \"2021-05-17T00:00:00\", \"GueltigAbDatJahr\": 2021, \"GueltigAbDatMM\": 5, \"AlterV20Kurz\": \"60-79\", \"sum_WBev\": 2}, {\"GueltigAbDat\": \"2021-04-16T00:00:00\", \"GueltigAbDatJahr\": 2021, \"GueltigAbDatMM\": 4, \"AlterV20Kurz\": \"60-79\", \"sum_WBev\": 2}, {\"GueltigAbDat\": \"2021-04-15T00:00:00\", \"GueltigAbDatJahr\": 2021, \"GueltigAbDatMM\": 4, \"AlterV20Kurz\": \"60-79\", \"sum_WBev\": 2}, {\"GueltigAbDat\": \"2021-05-28T00:00:00\", \"GueltigAbDatJahr\": 2021, \"GueltigAbDatMM\": 5, \"AlterV20Kurz\": \"60-79\", \"sum_WBev\": 2}, {\"GueltigAbDat\": \"2021-04-24T00:00:00\", \"GueltigAbDatJahr\": 2021, \"GueltigAbDatMM\": 4, \"AlterV20Kurz\": \"40-59\", \"sum_WBev\": 2}, {\"GueltigAbDat\": \"2021-04-03T00:00:00\", \"GueltigAbDatJahr\": 2021, \"GueltigAbDatMM\": 4, \"AlterV20Kurz\": \"60-79\", \"sum_WBev\": 2}, {\"GueltigAbDat\": \"2021-02-12T00:00:00\", \"GueltigAbDatJahr\": 2021, \"GueltigAbDatMM\": 2, \"AlterV20Kurz\": \"60-79\", \"sum_WBev\": 2}, {\"GueltigAbDat\": \"2021-02-11T00:00:00\", \"GueltigAbDatJahr\": 2021, \"GueltigAbDatMM\": 2, \"AlterV20Kurz\": \"60-79\", \"sum_WBev\": 2}, {\"GueltigAbDat\": \"2021-04-24T00:00:00\", \"GueltigAbDatJahr\": 2021, \"GueltigAbDatMM\": 4, \"AlterV20Kurz\": \"60-79\", \"sum_WBev\": 2}, {\"GueltigAbDat\": \"2021-04-24T00:00:00\", \"GueltigAbDatJahr\": 2021, \"GueltigAbDatMM\": 4, \"AlterV20Kurz\": \"80-99\", \"sum_WBev\": 2}, {\"GueltigAbDat\": \"2021-03-21T00:00:00\", \"GueltigAbDatJahr\": 2021, \"GueltigAbDatMM\": 3, \"AlterV20Kurz\": \"20-39\", \"sum_WBev\": 2}, {\"GueltigAbDat\": \"2021-06-03T00:00:00\", \"GueltigAbDatJahr\": 2021, \"GueltigAbDatMM\": 6, \"AlterV20Kurz\": \"60-79\", \"sum_WBev\": 2}, {\"GueltigAbDat\": \"2021-05-05T00:00:00\", \"GueltigAbDatJahr\": 2021, \"GueltigAbDatMM\": 5, \"AlterV20Kurz\": \"60-79\", \"sum_WBev\": 2}, {\"GueltigAbDat\": \"2021-05-27T00:00:00\", \"GueltigAbDatJahr\": 2021, \"GueltigAbDatMM\": 5, \"AlterV20Kurz\": \"60-79\", \"sum_WBev\": 2}, {\"GueltigAbDat\": \"2021-03-23T00:00:00\", \"GueltigAbDatJahr\": 2021, \"GueltigAbDatMM\": 3, \"AlterV20Kurz\": \"60-79\", \"sum_WBev\": 2}, {\"GueltigAbDat\": \"2021-03-24T00:00:00\", \"GueltigAbDatJahr\": 2021, \"GueltigAbDatMM\": 3, \"AlterV20Kurz\": \"60-79\", \"sum_WBev\": 2}, {\"GueltigAbDat\": \"2021-05-05T00:00:00\", \"GueltigAbDatJahr\": 2021, \"GueltigAbDatMM\": 5, \"AlterV20Kurz\": \"40-59\", \"sum_WBev\": 2}, {\"GueltigAbDat\": \"2021-03-26T00:00:00\", \"GueltigAbDatJahr\": 2021, \"GueltigAbDatMM\": 3, \"AlterV20Kurz\": \"80-99\", \"sum_WBev\": 2}, {\"GueltigAbDat\": \"2021-05-13T00:00:00\", \"GueltigAbDatJahr\": 2021, \"GueltigAbDatMM\": 5, \"AlterV20Kurz\": \"60-79\", \"sum_WBev\": 2}, {\"GueltigAbDat\": \"2021-05-11T00:00:00\", \"GueltigAbDatJahr\": 2021, \"GueltigAbDatMM\": 5, \"AlterV20Kurz\": \"80-99\", \"sum_WBev\": 2}, {\"GueltigAbDat\": \"2021-03-30T00:00:00\", \"GueltigAbDatJahr\": 2021, \"GueltigAbDatMM\": 3, \"AlterV20Kurz\": \"60-79\", \"sum_WBev\": 2}, {\"GueltigAbDat\": \"2021-06-06T00:00:00\", \"GueltigAbDatJahr\": 2021, \"GueltigAbDatMM\": 6, \"AlterV20Kurz\": \"80-99\", \"sum_WBev\": 2}, {\"GueltigAbDat\": \"2021-06-07T00:00:00\", \"GueltigAbDatJahr\": 2021, \"GueltigAbDatMM\": 6, \"AlterV20Kurz\": \"100 u. \\u00e4lter\", \"sum_WBev\": 2}, {\"GueltigAbDat\": \"2021-06-07T00:00:00\", \"GueltigAbDatJahr\": 2021, \"GueltigAbDatMM\": 6, \"AlterV20Kurz\": \"60-79\", \"sum_WBev\": 2}, {\"GueltigAbDat\": \"2021-04-21T00:00:00\", \"GueltigAbDatJahr\": 2021, \"GueltigAbDatMM\": 4, \"AlterV20Kurz\": \"60-79\", \"sum_WBev\": 2}, {\"GueltigAbDat\": \"2021-05-30T00:00:00\", \"GueltigAbDatJahr\": 2021, \"GueltigAbDatMM\": 5, \"AlterV20Kurz\": \"80-99\", \"sum_WBev\": 2}, {\"GueltigAbDat\": \"2021-03-26T00:00:00\", \"GueltigAbDatJahr\": 2021, \"GueltigAbDatMM\": 3, \"AlterV20Kurz\": \"60-79\", \"sum_WBev\": 2}, {\"GueltigAbDat\": \"2021-05-15T00:00:00\", \"GueltigAbDatJahr\": 2021, \"GueltigAbDatMM\": 5, \"AlterV20Kurz\": \"80-99\", \"sum_WBev\": 2}, {\"GueltigAbDat\": \"2021-02-20T00:00:00\", \"GueltigAbDatJahr\": 2021, \"GueltigAbDatMM\": 2, \"AlterV20Kurz\": \"60-79\", \"sum_WBev\": 2}, {\"GueltigAbDat\": \"2021-05-16T00:00:00\", \"GueltigAbDatJahr\": 2021, \"GueltigAbDatMM\": 5, \"AlterV20Kurz\": \"40-59\", \"sum_WBev\": 2}, {\"GueltigAbDat\": \"2021-06-08T00:00:00\", \"GueltigAbDatJahr\": 2021, \"GueltigAbDatMM\": 6, \"AlterV20Kurz\": \"80-99\", \"sum_WBev\": 2}, {\"GueltigAbDat\": \"2021-02-09T00:00:00\", \"GueltigAbDatJahr\": 2021, \"GueltigAbDatMM\": 2, \"AlterV20Kurz\": \"60-79\", \"sum_WBev\": 2}, {\"GueltigAbDat\": \"2021-06-14T00:00:00\", \"GueltigAbDatJahr\": 2021, \"GueltigAbDatMM\": 6, \"AlterV20Kurz\": \"80-99\", \"sum_WBev\": 2}, {\"GueltigAbDat\": \"2021-06-14T00:00:00\", \"GueltigAbDatJahr\": 2021, \"GueltigAbDatMM\": 6, \"AlterV20Kurz\": \"40-59\", \"sum_WBev\": 2}, {\"GueltigAbDat\": \"2021-05-20T00:00:00\", \"GueltigAbDatJahr\": 2021, \"GueltigAbDatMM\": 5, \"AlterV20Kurz\": \"60-79\", \"sum_WBev\": 2}, {\"GueltigAbDat\": \"2021-01-26T00:00:00\", \"GueltigAbDatJahr\": 2021, \"GueltigAbDatMM\": 1, \"AlterV20Kurz\": \"60-79\", \"sum_WBev\": 2}, {\"GueltigAbDat\": \"2021-01-28T00:00:00\", \"GueltigAbDatJahr\": 2021, \"GueltigAbDatMM\": 1, \"AlterV20Kurz\": \"40-59\", \"sum_WBev\": 2}, {\"GueltigAbDat\": \"2021-01-27T00:00:00\", \"GueltigAbDatJahr\": 2021, \"GueltigAbDatMM\": 1, \"AlterV20Kurz\": \"60-79\", \"sum_WBev\": 2}, {\"GueltigAbDat\": \"2021-02-18T00:00:00\", \"GueltigAbDatJahr\": 2021, \"GueltigAbDatMM\": 2, \"AlterV20Kurz\": \"60-79\", \"sum_WBev\": 2}, {\"GueltigAbDat\": \"2021-03-13T00:00:00\", \"GueltigAbDatJahr\": 2021, \"GueltigAbDatMM\": 3, \"AlterV20Kurz\": \"80-99\", \"sum_WBev\": 2}, {\"GueltigAbDat\": \"2021-02-06T00:00:00\", \"GueltigAbDatJahr\": 2021, \"GueltigAbDatMM\": 2, \"AlterV20Kurz\": \"80-99\", \"sum_WBev\": 2}, {\"GueltigAbDat\": \"2021-03-13T00:00:00\", \"GueltigAbDatJahr\": 2021, \"GueltigAbDatMM\": 3, \"AlterV20Kurz\": \"60-79\", \"sum_WBev\": 2}, {\"GueltigAbDat\": \"2021-06-22T00:00:00\", \"GueltigAbDatJahr\": 2021, \"GueltigAbDatMM\": 6, \"AlterV20Kurz\": \"40-59\", \"sum_WBev\": 2}, {\"GueltigAbDat\": \"2021-04-05T00:00:00\", \"GueltigAbDatJahr\": 2021, \"GueltigAbDatMM\": 4, \"AlterV20Kurz\": \"40-59\", \"sum_WBev\": 2}, {\"GueltigAbDat\": \"2021-04-11T00:00:00\", \"GueltigAbDatJahr\": 2021, \"GueltigAbDatMM\": 4, \"AlterV20Kurz\": \"60-79\", \"sum_WBev\": 2}, {\"GueltigAbDat\": \"2021-02-18T00:00:00\", \"GueltigAbDatJahr\": 2021, \"GueltigAbDatMM\": 2, \"AlterV20Kurz\": \"40-59\", \"sum_WBev\": 2}, {\"GueltigAbDat\": \"2021-01-25T00:00:00\", \"GueltigAbDatJahr\": 2021, \"GueltigAbDatMM\": 1, \"AlterV20Kurz\": \"60-79\", \"sum_WBev\": 2}, {\"GueltigAbDat\": \"2021-04-07T00:00:00\", \"GueltigAbDatJahr\": 2021, \"GueltigAbDatMM\": 4, \"AlterV20Kurz\": \"60-79\", \"sum_WBev\": 2}, {\"GueltigAbDat\": \"2021-05-22T00:00:00\", \"GueltigAbDatJahr\": 2021, \"GueltigAbDatMM\": 5, \"AlterV20Kurz\": \"80-99\", \"sum_WBev\": 2}, {\"GueltigAbDat\": \"2021-02-27T00:00:00\", \"GueltigAbDatJahr\": 2021, \"GueltigAbDatMM\": 2, \"AlterV20Kurz\": \"80-99\", \"sum_WBev\": 2}, {\"GueltigAbDat\": \"2021-06-16T00:00:00\", \"GueltigAbDatJahr\": 2021, \"GueltigAbDatMM\": 6, \"AlterV20Kurz\": \"60-79\", \"sum_WBev\": 2}, {\"GueltigAbDat\": \"2021-02-18T00:00:00\", \"GueltigAbDatJahr\": 2021, \"GueltigAbDatMM\": 2, \"AlterV20Kurz\": \"80-99\", \"sum_WBev\": 2}, {\"GueltigAbDat\": \"2021-01-23T00:00:00\", \"GueltigAbDatJahr\": 2021, \"GueltigAbDatMM\": 1, \"AlterV20Kurz\": \"40-59\", \"sum_WBev\": 2}, {\"GueltigAbDat\": \"2021-03-17T00:00:00\", \"GueltigAbDatJahr\": 2021, \"GueltigAbDatMM\": 3, \"AlterV20Kurz\": \"60-79\", \"sum_WBev\": 2}, {\"GueltigAbDat\": \"2021-01-29T00:00:00\", \"GueltigAbDatJahr\": 2021, \"GueltigAbDatMM\": 1, \"AlterV20Kurz\": \"40-59\", \"sum_WBev\": 2}, {\"GueltigAbDat\": \"2021-03-18T00:00:00\", \"GueltigAbDatJahr\": 2021, \"GueltigAbDatMM\": 3, \"AlterV20Kurz\": \"60-79\", \"sum_WBev\": 2}, {\"GueltigAbDat\": \"2021-05-26T00:00:00\", \"GueltigAbDatJahr\": 2021, \"GueltigAbDatMM\": 5, \"AlterV20Kurz\": \"60-79\", \"sum_WBev\": 2}, {\"GueltigAbDat\": \"2021-06-19T00:00:00\", \"GueltigAbDatJahr\": 2021, \"GueltigAbDatMM\": 6, \"AlterV20Kurz\": \"40-59\", \"sum_WBev\": 2}, {\"GueltigAbDat\": \"2021-01-30T00:00:00\", \"GueltigAbDatJahr\": 2021, \"GueltigAbDatMM\": 1, \"AlterV20Kurz\": \"60-79\", \"sum_WBev\": 2}, {\"GueltigAbDat\": \"2021-03-20T00:00:00\", \"GueltigAbDatJahr\": 2021, \"GueltigAbDatMM\": 3, \"AlterV20Kurz\": \"60-79\", \"sum_WBev\": 2}, {\"GueltigAbDat\": \"2021-05-25T00:00:00\", \"GueltigAbDatJahr\": 2021, \"GueltigAbDatMM\": 5, \"AlterV20Kurz\": \"40-59\", \"sum_WBev\": 2}]}}, {\"mode\": \"vega-lite\"});\n",
       "</script>"
      ],
      "text/plain": [
       "alt.LayerChart(...)"
      ]
     },
     "execution_count": 104,
     "metadata": {},
     "output_type": "execute_result"
    }
   ],
   "source": [
    "highlight = alt.selection(type='single', on='mouseover',\n",
    "                          fields=['AlterV20Kurz'], nearest=True)\n",
    "#x='date:StichtagDatJahr',\n",
    "base = alt.Chart(myAgg.reset_index().query('sum_WBev>1'), title=\"Title\").encode(\n",
    "    x=alt.X('GueltigAbDat', axis=alt.Axis(title='Jahr'))# , axis=alt.Axis(format='%', title='percentage')\n",
    "    , y=alt.X('sum_WBev', axis=alt.Axis(title='Anz. Personen'))\n",
    "    , color=alt.Color('AlterV20Kurz', legend=alt.Legend(title=\"Alter\", orient=\"right\"))  \n",
    "    ,tooltip=['GueltigAbDat', 'AlterV20Kurz', 'sum_WBev']    \n",
    ")\n",
    "points = base.mark_circle().encode(\n",
    "    opacity=alt.value(0.75)\n",
    ").add_selection(\n",
    "    highlight\n",
    ").properties(\n",
    "    width=900 , height=350\n",
    ")\n",
    "lines = base.mark_line().encode(\n",
    "    size=alt.condition(~highlight, alt.value(0.5), alt.value(4))\n",
    ").interactive()\n",
    "\n",
    "lines + points"
   ]
  },
  {
   "cell_type": "markdown",
   "metadata": {},
   "source": [
    "#### Entwicklung nach Heimat"
   ]
  },
  {
   "cell_type": "code",
   "execution_count": 105,
   "metadata": {},
   "outputs": [
    {
     "data": {
      "text/html": [
       "<div>\n",
       "<style scoped>\n",
       "    .dataframe tbody tr th:only-of-type {\n",
       "        vertical-align: middle;\n",
       "    }\n",
       "\n",
       "    .dataframe tbody tr th {\n",
       "        vertical-align: top;\n",
       "    }\n",
       "\n",
       "    .dataframe thead th {\n",
       "        text-align: right;\n",
       "    }\n",
       "</style>\n",
       "<table border=\"1\" class=\"dataframe\">\n",
       "  <thead>\n",
       "    <tr style=\"text-align: right;\">\n",
       "      <th></th>\n",
       "      <th>GueltigAbDat</th>\n",
       "      <th>GueltigAbDatJahr</th>\n",
       "      <th>GueltigAbDatMM</th>\n",
       "      <th>HerkunftLang</th>\n",
       "      <th>sum_WBev</th>\n",
       "    </tr>\n",
       "  </thead>\n",
       "  <tbody>\n",
       "    <tr>\n",
       "      <th>0</th>\n",
       "      <td>2020-12-28</td>\n",
       "      <td>2020</td>\n",
       "      <td>12</td>\n",
       "      <td>Schweizer/in</td>\n",
       "      <td>21</td>\n",
       "    </tr>\n",
       "    <tr>\n",
       "      <th>1</th>\n",
       "      <td>2020-12-15</td>\n",
       "      <td>2020</td>\n",
       "      <td>12</td>\n",
       "      <td>Schweizer/in</td>\n",
       "      <td>21</td>\n",
       "    </tr>\n",
       "  </tbody>\n",
       "</table>\n",
       "</div>"
      ],
      "text/plain": [
       "  GueltigAbDat  GueltigAbDatJahr  GueltigAbDatMM  HerkunftLang  sum_WBev\n",
       "0   2020-12-28              2020              12  Schweizer/in        21\n",
       "1   2020-12-15              2020              12  Schweizer/in        21"
      ]
     },
     "execution_count": 105,
     "metadata": {},
     "output_type": "execute_result"
    }
   ],
   "source": [
    "#myAgg = data2betested.loc[\"2008-11\":\"2021-11\"] \\\n",
    "myAgg = data2betested.loc[\"2020-11\":\"2021-11\"] \\\n",
    "    .groupby(['GueltigAbDat','GueltigAbDatJahr', 'GueltigAbDatMM', 'HerkunftLang']) \\\n",
    "    .agg(sum_WBev=('AnzSterWir', 'sum')) \\\n",
    "    .sort_values('sum_WBev', ascending=False) \n",
    "\n",
    "myAgg.reset_index().head(2)"
   ]
  },
  {
   "cell_type": "code",
   "execution_count": 106,
   "metadata": {},
   "outputs": [
    {
     "data": {
      "text/html": [
       "\n",
       "<div id=\"altair-viz-3359bad9661e4422beef8f6e8768f3e7\"></div>\n",
       "<script type=\"text/javascript\">\n",
       "  (function(spec, embedOpt){\n",
       "    let outputDiv = document.currentScript.previousElementSibling;\n",
       "    if (outputDiv.id !== \"altair-viz-3359bad9661e4422beef8f6e8768f3e7\") {\n",
       "      outputDiv = document.getElementById(\"altair-viz-3359bad9661e4422beef8f6e8768f3e7\");\n",
       "    }\n",
       "    const paths = {\n",
       "      \"vega\": \"https://cdn.jsdelivr.net/npm//vega@5?noext\",\n",
       "      \"vega-lib\": \"https://cdn.jsdelivr.net/npm//vega-lib?noext\",\n",
       "      \"vega-lite\": \"https://cdn.jsdelivr.net/npm//vega-lite@4.8.1?noext\",\n",
       "      \"vega-embed\": \"https://cdn.jsdelivr.net/npm//vega-embed@6?noext\",\n",
       "    };\n",
       "\n",
       "    function loadScript(lib) {\n",
       "      return new Promise(function(resolve, reject) {\n",
       "        var s = document.createElement('script');\n",
       "        s.src = paths[lib];\n",
       "        s.async = true;\n",
       "        s.onload = () => resolve(paths[lib]);\n",
       "        s.onerror = () => reject(`Error loading script: ${paths[lib]}`);\n",
       "        document.getElementsByTagName(\"head\")[0].appendChild(s);\n",
       "      });\n",
       "    }\n",
       "\n",
       "    function showError(err) {\n",
       "      outputDiv.innerHTML = `<div class=\"error\" style=\"color:red;\">${err}</div>`;\n",
       "      throw err;\n",
       "    }\n",
       "\n",
       "    function displayChart(vegaEmbed) {\n",
       "      vegaEmbed(outputDiv, spec, embedOpt)\n",
       "        .catch(err => showError(`Javascript Error: ${err.message}<br>This usually means there's a typo in your chart specification. See the javascript console for the full traceback.`));\n",
       "    }\n",
       "\n",
       "    if(typeof define === \"function\" && define.amd) {\n",
       "      requirejs.config({paths});\n",
       "      require([\"vega-embed\"], displayChart, err => showError(`Error loading script: ${err.message}`));\n",
       "    } else if (typeof vegaEmbed === \"function\") {\n",
       "      displayChart(vegaEmbed);\n",
       "    } else {\n",
       "      loadScript(\"vega\")\n",
       "        .then(() => loadScript(\"vega-lite\"))\n",
       "        .then(() => loadScript(\"vega-embed\"))\n",
       "        .catch(showError)\n",
       "        .then(() => displayChart(vegaEmbed));\n",
       "    }\n",
       "  })({\"config\": {\"view\": {\"continuousWidth\": 400, \"continuousHeight\": 300}}, \"layer\": [{\"mark\": \"line\", \"encoding\": {\"color\": {\"type\": \"nominal\", \"field\": \"HerkunftLang\", \"legend\": {\"title\": \"Herkunft\"}}, \"size\": {\"condition\": {\"value\": 0.5, \"selection\": {\"not\": \"selector045\"}}, \"value\": 4}, \"tooltip\": [{\"type\": \"temporal\", \"field\": \"GueltigAbDat\"}, {\"type\": \"nominal\", \"field\": \"HerkunftLang\"}, {\"type\": \"quantitative\", \"field\": \"sum_WBev\"}], \"x\": {\"type\": \"temporal\", \"axis\": {\"title\": \"Jahr\"}, \"field\": \"GueltigAbDat\"}, \"y\": {\"type\": \"quantitative\", \"axis\": {\"title\": \"Anz. Personen\"}, \"field\": \"sum_WBev\"}}, \"selection\": {\"selector046\": {\"type\": \"interval\", \"bind\": \"scales\", \"encodings\": [\"x\", \"y\"]}}, \"title\": \"Title\"}, {\"mark\": \"circle\", \"encoding\": {\"color\": {\"type\": \"nominal\", \"field\": \"HerkunftLang\", \"legend\": {\"title\": \"Herkunft\"}}, \"opacity\": {\"value\": 0.75}, \"tooltip\": [{\"type\": \"temporal\", \"field\": \"GueltigAbDat\"}, {\"type\": \"nominal\", \"field\": \"HerkunftLang\"}, {\"type\": \"quantitative\", \"field\": \"sum_WBev\"}], \"x\": {\"type\": \"temporal\", \"axis\": {\"title\": \"Jahr\"}, \"field\": \"GueltigAbDat\"}, \"y\": {\"type\": \"quantitative\", \"axis\": {\"title\": \"Anz. Personen\"}, \"field\": \"sum_WBev\"}}, \"height\": 350, \"selection\": {\"selector045\": {\"type\": \"single\", \"on\": \"mouseover\", \"fields\": [\"HerkunftLang\"], \"nearest\": true}}, \"title\": \"Title\", \"width\": 900}], \"data\": {\"name\": \"data-6735bb6a122f4481a4b6ff656c020279\"}, \"$schema\": \"https://vega.github.io/schema/vega-lite/v4.8.1.json\", \"datasets\": {\"data-6735bb6a122f4481a4b6ff656c020279\": [{\"GueltigAbDat\": \"2020-12-28T00:00:00\", \"GueltigAbDatJahr\": 2020, \"GueltigAbDatMM\": 12, \"HerkunftLang\": \"Schweizer/in\", \"sum_WBev\": 21}, {\"GueltigAbDat\": \"2020-12-15T00:00:00\", \"GueltigAbDatJahr\": 2020, \"GueltigAbDatMM\": 12, \"HerkunftLang\": \"Schweizer/in\", \"sum_WBev\": 21}, {\"GueltigAbDat\": \"2021-01-04T00:00:00\", \"GueltigAbDatJahr\": 2021, \"GueltigAbDatMM\": 1, \"HerkunftLang\": \"Schweizer/in\", \"sum_WBev\": 19}, {\"GueltigAbDat\": \"2021-01-13T00:00:00\", \"GueltigAbDatJahr\": 2021, \"GueltigAbDatMM\": 1, \"HerkunftLang\": \"Schweizer/in\", \"sum_WBev\": 18}, {\"GueltigAbDat\": \"2020-12-22T00:00:00\", \"GueltigAbDatJahr\": 2020, \"GueltigAbDatMM\": 12, \"HerkunftLang\": \"Schweizer/in\", \"sum_WBev\": 18}, {\"GueltigAbDat\": \"2020-11-28T00:00:00\", \"GueltigAbDatJahr\": 2020, \"GueltigAbDatMM\": 11, \"HerkunftLang\": \"Schweizer/in\", \"sum_WBev\": 18}, {\"GueltigAbDat\": \"2020-12-20T00:00:00\", \"GueltigAbDatJahr\": 2020, \"GueltigAbDatMM\": 12, \"HerkunftLang\": \"Schweizer/in\", \"sum_WBev\": 18}, {\"GueltigAbDat\": \"2021-01-19T00:00:00\", \"GueltigAbDatJahr\": 2021, \"GueltigAbDatMM\": 1, \"HerkunftLang\": \"Schweizer/in\", \"sum_WBev\": 18}, {\"GueltigAbDat\": \"2020-12-12T00:00:00\", \"GueltigAbDatJahr\": 2020, \"GueltigAbDatMM\": 12, \"HerkunftLang\": \"Schweizer/in\", \"sum_WBev\": 18}, {\"GueltigAbDat\": \"2020-12-13T00:00:00\", \"GueltigAbDatJahr\": 2020, \"GueltigAbDatMM\": 12, \"HerkunftLang\": \"Schweizer/in\", \"sum_WBev\": 17}, {\"GueltigAbDat\": \"2021-01-21T00:00:00\", \"GueltigAbDatJahr\": 2021, \"GueltigAbDatMM\": 1, \"HerkunftLang\": \"Schweizer/in\", \"sum_WBev\": 16}, {\"GueltigAbDat\": \"2021-01-23T00:00:00\", \"GueltigAbDatJahr\": 2021, \"GueltigAbDatMM\": 1, \"HerkunftLang\": \"Schweizer/in\", \"sum_WBev\": 16}, {\"GueltigAbDat\": \"2020-12-10T00:00:00\", \"GueltigAbDatJahr\": 2020, \"GueltigAbDatMM\": 12, \"HerkunftLang\": \"Schweizer/in\", \"sum_WBev\": 16}, {\"GueltigAbDat\": \"2020-11-30T00:00:00\", \"GueltigAbDatJahr\": 2020, \"GueltigAbDatMM\": 11, \"HerkunftLang\": \"Schweizer/in\", \"sum_WBev\": 16}, {\"GueltigAbDat\": \"2020-12-04T00:00:00\", \"GueltigAbDatJahr\": 2020, \"GueltigAbDatMM\": 12, \"HerkunftLang\": \"Schweizer/in\", \"sum_WBev\": 16}, {\"GueltigAbDat\": \"2020-12-21T00:00:00\", \"GueltigAbDatJahr\": 2020, \"GueltigAbDatMM\": 12, \"HerkunftLang\": \"Schweizer/in\", \"sum_WBev\": 15}, {\"GueltigAbDat\": \"2021-11-05T00:00:00\", \"GueltigAbDatJahr\": 2021, \"GueltigAbDatMM\": 11, \"HerkunftLang\": \"Schweizer/in\", \"sum_WBev\": 15}, {\"GueltigAbDat\": \"2020-12-08T00:00:00\", \"GueltigAbDatJahr\": 2020, \"GueltigAbDatMM\": 12, \"HerkunftLang\": \"Schweizer/in\", \"sum_WBev\": 15}, {\"GueltigAbDat\": \"2021-07-21T00:00:00\", \"GueltigAbDatJahr\": 2021, \"GueltigAbDatMM\": 7, \"HerkunftLang\": \"Schweizer/in\", \"sum_WBev\": 15}, {\"GueltigAbDat\": \"2021-09-01T00:00:00\", \"GueltigAbDatJahr\": 2021, \"GueltigAbDatMM\": 9, \"HerkunftLang\": \"Schweizer/in\", \"sum_WBev\": 14}, {\"GueltigAbDat\": \"2021-03-15T00:00:00\", \"GueltigAbDatJahr\": 2021, \"GueltigAbDatMM\": 3, \"HerkunftLang\": \"Schweizer/in\", \"sum_WBev\": 14}, {\"GueltigAbDat\": \"2021-09-02T00:00:00\", \"GueltigAbDatJahr\": 2021, \"GueltigAbDatMM\": 9, \"HerkunftLang\": \"Schweizer/in\", \"sum_WBev\": 14}, {\"GueltigAbDat\": \"2021-11-24T00:00:00\", \"GueltigAbDatJahr\": 2021, \"GueltigAbDatMM\": 11, \"HerkunftLang\": \"Schweizer/in\", \"sum_WBev\": 14}, {\"GueltigAbDat\": \"2020-12-14T00:00:00\", \"GueltigAbDatJahr\": 2020, \"GueltigAbDatMM\": 12, \"HerkunftLang\": \"Schweizer/in\", \"sum_WBev\": 14}, {\"GueltigAbDat\": \"2020-11-18T00:00:00\", \"GueltigAbDatJahr\": 2020, \"GueltigAbDatMM\": 11, \"HerkunftLang\": \"Schweizer/in\", \"sum_WBev\": 14}, {\"GueltigAbDat\": \"2020-12-01T00:00:00\", \"GueltigAbDatJahr\": 2020, \"GueltigAbDatMM\": 12, \"HerkunftLang\": \"Schweizer/in\", \"sum_WBev\": 14}, {\"GueltigAbDat\": \"2021-01-18T00:00:00\", \"GueltigAbDatJahr\": 2021, \"GueltigAbDatMM\": 1, \"HerkunftLang\": \"Schweizer/in\", \"sum_WBev\": 14}, {\"GueltigAbDat\": \"2020-12-05T00:00:00\", \"GueltigAbDatJahr\": 2020, \"GueltigAbDatMM\": 12, \"HerkunftLang\": \"Schweizer/in\", \"sum_WBev\": 13}, {\"GueltigAbDat\": \"2021-04-25T00:00:00\", \"GueltigAbDatJahr\": 2021, \"GueltigAbDatMM\": 4, \"HerkunftLang\": \"Schweizer/in\", \"sum_WBev\": 13}, {\"GueltigAbDat\": \"2020-12-23T00:00:00\", \"GueltigAbDatJahr\": 2020, \"GueltigAbDatMM\": 12, \"HerkunftLang\": \"Schweizer/in\", \"sum_WBev\": 13}, {\"GueltigAbDat\": \"2021-01-01T00:00:00\", \"GueltigAbDatJahr\": 2021, \"GueltigAbDatMM\": 1, \"HerkunftLang\": \"Schweizer/in\", \"sum_WBev\": 13}, {\"GueltigAbDat\": \"2020-12-31T00:00:00\", \"GueltigAbDatJahr\": 2020, \"GueltigAbDatMM\": 12, \"HerkunftLang\": \"Schweizer/in\", \"sum_WBev\": 13}, {\"GueltigAbDat\": \"2021-02-02T00:00:00\", \"GueltigAbDatJahr\": 2021, \"GueltigAbDatMM\": 2, \"HerkunftLang\": \"Schweizer/in\", \"sum_WBev\": 13}, {\"GueltigAbDat\": \"2020-12-25T00:00:00\", \"GueltigAbDatJahr\": 2020, \"GueltigAbDatMM\": 12, \"HerkunftLang\": \"Schweizer/in\", \"sum_WBev\": 13}, {\"GueltigAbDat\": \"2020-11-23T00:00:00\", \"GueltigAbDatJahr\": 2020, \"GueltigAbDatMM\": 11, \"HerkunftLang\": \"Schweizer/in\", \"sum_WBev\": 13}, {\"GueltigAbDat\": \"2021-05-08T00:00:00\", \"GueltigAbDatJahr\": 2021, \"GueltigAbDatMM\": 5, \"HerkunftLang\": \"Schweizer/in\", \"sum_WBev\": 12}, {\"GueltigAbDat\": \"2021-07-08T00:00:00\", \"GueltigAbDatJahr\": 2021, \"GueltigAbDatMM\": 7, \"HerkunftLang\": \"Schweizer/in\", \"sum_WBev\": 12}, {\"GueltigAbDat\": \"2021-07-09T00:00:00\", \"GueltigAbDatJahr\": 2021, \"GueltigAbDatMM\": 7, \"HerkunftLang\": \"Schweizer/in\", \"sum_WBev\": 12}, {\"GueltigAbDat\": \"2021-07-31T00:00:00\", \"GueltigAbDatJahr\": 2021, \"GueltigAbDatMM\": 7, \"HerkunftLang\": \"Schweizer/in\", \"sum_WBev\": 12}, {\"GueltigAbDat\": \"2021-07-18T00:00:00\", \"GueltigAbDatJahr\": 2021, \"GueltigAbDatMM\": 7, \"HerkunftLang\": \"Schweizer/in\", \"sum_WBev\": 12}, {\"GueltigAbDat\": \"2020-11-16T00:00:00\", \"GueltigAbDatJahr\": 2020, \"GueltigAbDatMM\": 11, \"HerkunftLang\": \"Schweizer/in\", \"sum_WBev\": 12}, {\"GueltigAbDat\": \"2021-01-16T00:00:00\", \"GueltigAbDatJahr\": 2021, \"GueltigAbDatMM\": 1, \"HerkunftLang\": \"Schweizer/in\", \"sum_WBev\": 12}, {\"GueltigAbDat\": \"2020-11-10T00:00:00\", \"GueltigAbDatJahr\": 2020, \"GueltigAbDatMM\": 11, \"HerkunftLang\": \"Schweizer/in\", \"sum_WBev\": 12}, {\"GueltigAbDat\": \"2021-04-29T00:00:00\", \"GueltigAbDatJahr\": 2021, \"GueltigAbDatMM\": 4, \"HerkunftLang\": \"Schweizer/in\", \"sum_WBev\": 12}, {\"GueltigAbDat\": \"2020-12-06T00:00:00\", \"GueltigAbDatJahr\": 2020, \"GueltigAbDatMM\": 12, \"HerkunftLang\": \"Schweizer/in\", \"sum_WBev\": 12}, {\"GueltigAbDat\": \"2020-12-07T00:00:00\", \"GueltigAbDatJahr\": 2020, \"GueltigAbDatMM\": 12, \"HerkunftLang\": \"Schweizer/in\", \"sum_WBev\": 12}, {\"GueltigAbDat\": \"2021-11-15T00:00:00\", \"GueltigAbDatJahr\": 2021, \"GueltigAbDatMM\": 11, \"HerkunftLang\": \"Schweizer/in\", \"sum_WBev\": 12}, {\"GueltigAbDat\": \"2020-12-19T00:00:00\", \"GueltigAbDatJahr\": 2020, \"GueltigAbDatMM\": 12, \"HerkunftLang\": \"Schweizer/in\", \"sum_WBev\": 12}, {\"GueltigAbDat\": \"2021-10-01T00:00:00\", \"GueltigAbDatJahr\": 2021, \"GueltigAbDatMM\": 10, \"HerkunftLang\": \"Schweizer/in\", \"sum_WBev\": 12}, {\"GueltigAbDat\": \"2021-11-22T00:00:00\", \"GueltigAbDatJahr\": 2021, \"GueltigAbDatMM\": 11, \"HerkunftLang\": \"Schweizer/in\", \"sum_WBev\": 12}, {\"GueltigAbDat\": \"2020-12-26T00:00:00\", \"GueltigAbDatJahr\": 2020, \"GueltigAbDatMM\": 12, \"HerkunftLang\": \"Schweizer/in\", \"sum_WBev\": 12}, {\"GueltigAbDat\": \"2021-01-09T00:00:00\", \"GueltigAbDatJahr\": 2021, \"GueltigAbDatMM\": 1, \"HerkunftLang\": \"Schweizer/in\", \"sum_WBev\": 12}, {\"GueltigAbDat\": \"2021-03-21T00:00:00\", \"GueltigAbDatJahr\": 2021, \"GueltigAbDatMM\": 3, \"HerkunftLang\": \"Schweizer/in\", \"sum_WBev\": 12}, {\"GueltigAbDat\": \"2021-03-06T00:00:00\", \"GueltigAbDatJahr\": 2021, \"GueltigAbDatMM\": 3, \"HerkunftLang\": \"Schweizer/in\", \"sum_WBev\": 12}, {\"GueltigAbDat\": \"2020-12-30T00:00:00\", \"GueltigAbDatJahr\": 2020, \"GueltigAbDatMM\": 12, \"HerkunftLang\": \"Schweizer/in\", \"sum_WBev\": 12}, {\"GueltigAbDat\": \"2021-01-02T00:00:00\", \"GueltigAbDatJahr\": 2021, \"GueltigAbDatMM\": 1, \"HerkunftLang\": \"Schweizer/in\", \"sum_WBev\": 11}, {\"GueltigAbDat\": \"2021-10-27T00:00:00\", \"GueltigAbDatJahr\": 2021, \"GueltigAbDatMM\": 10, \"HerkunftLang\": \"Schweizer/in\", \"sum_WBev\": 11}, {\"GueltigAbDat\": \"2021-02-13T00:00:00\", \"GueltigAbDatJahr\": 2021, \"GueltigAbDatMM\": 2, \"HerkunftLang\": \"Schweizer/in\", \"sum_WBev\": 11}, {\"GueltigAbDat\": \"2021-11-07T00:00:00\", \"GueltigAbDatJahr\": 2021, \"GueltigAbDatMM\": 11, \"HerkunftLang\": \"Schweizer/in\", \"sum_WBev\": 11}, {\"GueltigAbDat\": \"2021-01-29T00:00:00\", \"GueltigAbDatJahr\": 2021, \"GueltigAbDatMM\": 1, \"HerkunftLang\": \"Schweizer/in\", \"sum_WBev\": 11}, {\"GueltigAbDat\": \"2020-12-27T00:00:00\", \"GueltigAbDatJahr\": 2020, \"GueltigAbDatMM\": 12, \"HerkunftLang\": \"Schweizer/in\", \"sum_WBev\": 11}, {\"GueltigAbDat\": \"2021-01-26T00:00:00\", \"GueltigAbDatJahr\": 2021, \"GueltigAbDatMM\": 1, \"HerkunftLang\": \"Schweizer/in\", \"sum_WBev\": 11}, {\"GueltigAbDat\": \"2021-10-28T00:00:00\", \"GueltigAbDatJahr\": 2021, \"GueltigAbDatMM\": 10, \"HerkunftLang\": \"Schweizer/in\", \"sum_WBev\": 11}, {\"GueltigAbDat\": \"2021-02-14T00:00:00\", \"GueltigAbDatJahr\": 2021, \"GueltigAbDatMM\": 2, \"HerkunftLang\": \"Schweizer/in\", \"sum_WBev\": 11}, {\"GueltigAbDat\": \"2021-09-27T00:00:00\", \"GueltigAbDatJahr\": 2021, \"GueltigAbDatMM\": 9, \"HerkunftLang\": \"Schweizer/in\", \"sum_WBev\": 11}, {\"GueltigAbDat\": \"2021-10-30T00:00:00\", \"GueltigAbDatJahr\": 2021, \"GueltigAbDatMM\": 10, \"HerkunftLang\": \"Schweizer/in\", \"sum_WBev\": 11}, {\"GueltigAbDat\": \"2021-01-08T00:00:00\", \"GueltigAbDatJahr\": 2021, \"GueltigAbDatMM\": 1, \"HerkunftLang\": \"Schweizer/in\", \"sum_WBev\": 11}, {\"GueltigAbDat\": \"2021-01-12T00:00:00\", \"GueltigAbDatJahr\": 2021, \"GueltigAbDatMM\": 1, \"HerkunftLang\": \"Schweizer/in\", \"sum_WBev\": 11}, {\"GueltigAbDat\": \"2021-01-25T00:00:00\", \"GueltigAbDatJahr\": 2021, \"GueltigAbDatMM\": 1, \"HerkunftLang\": \"Schweizer/in\", \"sum_WBev\": 11}, {\"GueltigAbDat\": \"2021-01-27T00:00:00\", \"GueltigAbDatJahr\": 2021, \"GueltigAbDatMM\": 1, \"HerkunftLang\": \"Schweizer/in\", \"sum_WBev\": 11}, {\"GueltigAbDat\": \"2020-12-11T00:00:00\", \"GueltigAbDatJahr\": 2020, \"GueltigAbDatMM\": 12, \"HerkunftLang\": \"Schweizer/in\", \"sum_WBev\": 11}, {\"GueltigAbDat\": \"2020-11-25T00:00:00\", \"GueltigAbDatJahr\": 2020, \"GueltigAbDatMM\": 11, \"HerkunftLang\": \"Schweizer/in\", \"sum_WBev\": 11}, {\"GueltigAbDat\": \"2021-08-31T00:00:00\", \"GueltigAbDatJahr\": 2021, \"GueltigAbDatMM\": 8, \"HerkunftLang\": \"Schweizer/in\", \"sum_WBev\": 11}, {\"GueltigAbDat\": \"2021-06-18T00:00:00\", \"GueltigAbDatJahr\": 2021, \"GueltigAbDatMM\": 6, \"HerkunftLang\": \"Schweizer/in\", \"sum_WBev\": 11}, {\"GueltigAbDat\": \"2021-06-11T00:00:00\", \"GueltigAbDatJahr\": 2021, \"GueltigAbDatMM\": 6, \"HerkunftLang\": \"Schweizer/in\", \"sum_WBev\": 11}, {\"GueltigAbDat\": \"2020-11-11T00:00:00\", \"GueltigAbDatJahr\": 2020, \"GueltigAbDatMM\": 11, \"HerkunftLang\": \"Schweizer/in\", \"sum_WBev\": 11}, {\"GueltigAbDat\": \"2021-07-03T00:00:00\", \"GueltigAbDatJahr\": 2021, \"GueltigAbDatMM\": 7, \"HerkunftLang\": \"Schweizer/in\", \"sum_WBev\": 11}, {\"GueltigAbDat\": \"2021-11-28T00:00:00\", \"GueltigAbDatJahr\": 2021, \"GueltigAbDatMM\": 11, \"HerkunftLang\": \"Schweizer/in\", \"sum_WBev\": 11}, {\"GueltigAbDat\": \"2021-06-21T00:00:00\", \"GueltigAbDatJahr\": 2021, \"GueltigAbDatMM\": 6, \"HerkunftLang\": \"Schweizer/in\", \"sum_WBev\": 11}, {\"GueltigAbDat\": \"2020-11-15T00:00:00\", \"GueltigAbDatJahr\": 2020, \"GueltigAbDatMM\": 11, \"HerkunftLang\": \"Schweizer/in\", \"sum_WBev\": 11}, {\"GueltigAbDat\": \"2021-07-13T00:00:00\", \"GueltigAbDatJahr\": 2021, \"GueltigAbDatMM\": 7, \"HerkunftLang\": \"Schweizer/in\", \"sum_WBev\": 11}, {\"GueltigAbDat\": \"2020-11-05T00:00:00\", \"GueltigAbDatJahr\": 2020, \"GueltigAbDatMM\": 11, \"HerkunftLang\": \"Schweizer/in\", \"sum_WBev\": 11}, {\"GueltigAbDat\": \"2020-11-03T00:00:00\", \"GueltigAbDatJahr\": 2020, \"GueltigAbDatMM\": 11, \"HerkunftLang\": \"Schweizer/in\", \"sum_WBev\": 11}, {\"GueltigAbDat\": \"2021-07-22T00:00:00\", \"GueltigAbDatJahr\": 2021, \"GueltigAbDatMM\": 7, \"HerkunftLang\": \"Schweizer/in\", \"sum_WBev\": 11}, {\"GueltigAbDat\": \"2021-02-28T00:00:00\", \"GueltigAbDatJahr\": 2021, \"GueltigAbDatMM\": 2, \"HerkunftLang\": \"Schweizer/in\", \"sum_WBev\": 10}, {\"GueltigAbDat\": \"2021-08-12T00:00:00\", \"GueltigAbDatJahr\": 2021, \"GueltigAbDatMM\": 8, \"HerkunftLang\": \"Schweizer/in\", \"sum_WBev\": 10}, {\"GueltigAbDat\": \"2021-06-15T00:00:00\", \"GueltigAbDatJahr\": 2021, \"GueltigAbDatMM\": 6, \"HerkunftLang\": \"Schweizer/in\", \"sum_WBev\": 10}, {\"GueltigAbDat\": \"2021-10-03T00:00:00\", \"GueltigAbDatJahr\": 2021, \"GueltigAbDatMM\": 10, \"HerkunftLang\": \"Schweizer/in\", \"sum_WBev\": 10}, {\"GueltigAbDat\": \"2021-09-28T00:00:00\", \"GueltigAbDatJahr\": 2021, \"GueltigAbDatMM\": 9, \"HerkunftLang\": \"Schweizer/in\", \"sum_WBev\": 10}, {\"GueltigAbDat\": \"2021-02-16T00:00:00\", \"GueltigAbDatJahr\": 2021, \"GueltigAbDatMM\": 2, \"HerkunftLang\": \"Schweizer/in\", \"sum_WBev\": 10}, {\"GueltigAbDat\": \"2020-11-17T00:00:00\", \"GueltigAbDatJahr\": 2020, \"GueltigAbDatMM\": 11, \"HerkunftLang\": \"Schweizer/in\", \"sum_WBev\": 10}, {\"GueltigAbDat\": \"2020-11-20T00:00:00\", \"GueltigAbDatJahr\": 2020, \"GueltigAbDatMM\": 11, \"HerkunftLang\": \"Schweizer/in\", \"sum_WBev\": 10}, {\"GueltigAbDat\": \"2021-08-02T00:00:00\", \"GueltigAbDatJahr\": 2021, \"GueltigAbDatMM\": 8, \"HerkunftLang\": \"Schweizer/in\", \"sum_WBev\": 10}, {\"GueltigAbDat\": \"2020-11-14T00:00:00\", \"GueltigAbDatJahr\": 2020, \"GueltigAbDatMM\": 11, \"HerkunftLang\": \"Schweizer/in\", \"sum_WBev\": 10}, {\"GueltigAbDat\": \"2021-06-23T00:00:00\", \"GueltigAbDatJahr\": 2021, \"GueltigAbDatMM\": 6, \"HerkunftLang\": \"Schweizer/in\", \"sum_WBev\": 10}, {\"GueltigAbDat\": \"2021-07-02T00:00:00\", \"GueltigAbDatJahr\": 2021, \"GueltigAbDatMM\": 7, \"HerkunftLang\": \"Schweizer/in\", \"sum_WBev\": 10}, {\"GueltigAbDat\": \"2021-01-11T00:00:00\", \"GueltigAbDatJahr\": 2021, \"GueltigAbDatMM\": 1, \"HerkunftLang\": \"Schweizer/in\", \"sum_WBev\": 10}, {\"GueltigAbDat\": \"2021-11-27T00:00:00\", \"GueltigAbDatJahr\": 2021, \"GueltigAbDatMM\": 11, \"HerkunftLang\": \"Schweizer/in\", \"sum_WBev\": 10}, {\"GueltigAbDat\": \"2021-07-10T00:00:00\", \"GueltigAbDatJahr\": 2021, \"GueltigAbDatMM\": 7, \"HerkunftLang\": \"Schweizer/in\", \"sum_WBev\": 10}, {\"GueltigAbDat\": \"2021-01-14T00:00:00\", \"GueltigAbDatJahr\": 2021, \"GueltigAbDatMM\": 1, \"HerkunftLang\": \"Schweizer/in\", \"sum_WBev\": 10}, {\"GueltigAbDat\": \"2021-01-15T00:00:00\", \"GueltigAbDatJahr\": 2021, \"GueltigAbDatMM\": 1, \"HerkunftLang\": \"Schweizer/in\", \"sum_WBev\": 10}, {\"GueltigAbDat\": \"2021-07-26T00:00:00\", \"GueltigAbDatJahr\": 2021, \"GueltigAbDatMM\": 7, \"HerkunftLang\": \"Schweizer/in\", \"sum_WBev\": 10}, {\"GueltigAbDat\": \"2021-06-14T00:00:00\", \"GueltigAbDatJahr\": 2021, \"GueltigAbDatMM\": 6, \"HerkunftLang\": \"Schweizer/in\", \"sum_WBev\": 10}, {\"GueltigAbDat\": \"2021-11-30T00:00:00\", \"GueltigAbDatJahr\": 2021, \"GueltigAbDatMM\": 11, \"HerkunftLang\": \"Schweizer/in\", \"sum_WBev\": 10}, {\"GueltigAbDat\": \"2021-03-05T00:00:00\", \"GueltigAbDatJahr\": 2021, \"GueltigAbDatMM\": 3, \"HerkunftLang\": \"Schweizer/in\", \"sum_WBev\": 10}, {\"GueltigAbDat\": \"2021-05-26T00:00:00\", \"GueltigAbDatJahr\": 2021, \"GueltigAbDatMM\": 5, \"HerkunftLang\": \"Schweizer/in\", \"sum_WBev\": 10}, {\"GueltigAbDat\": \"2021-09-16T00:00:00\", \"GueltigAbDatJahr\": 2021, \"GueltigAbDatMM\": 9, \"HerkunftLang\": \"Schweizer/in\", \"sum_WBev\": 10}, {\"GueltigAbDat\": \"2021-05-14T00:00:00\", \"GueltigAbDatJahr\": 2021, \"GueltigAbDatMM\": 5, \"HerkunftLang\": \"Schweizer/in\", \"sum_WBev\": 10}, {\"GueltigAbDat\": \"2021-11-11T00:00:00\", \"GueltigAbDatJahr\": 2021, \"GueltigAbDatMM\": 11, \"HerkunftLang\": \"Schweizer/in\", \"sum_WBev\": 10}, {\"GueltigAbDat\": \"2021-04-04T00:00:00\", \"GueltigAbDatJahr\": 2021, \"GueltigAbDatMM\": 4, \"HerkunftLang\": \"Schweizer/in\", \"sum_WBev\": 10}, {\"GueltigAbDat\": \"2020-12-16T00:00:00\", \"GueltigAbDatJahr\": 2020, \"GueltigAbDatMM\": 12, \"HerkunftLang\": \"Schweizer/in\", \"sum_WBev\": 10}, {\"GueltigAbDat\": \"2021-09-17T00:00:00\", \"GueltigAbDatJahr\": 2021, \"GueltigAbDatMM\": 9, \"HerkunftLang\": \"Schweizer/in\", \"sum_WBev\": 10}, {\"GueltigAbDat\": \"2021-09-18T00:00:00\", \"GueltigAbDatJahr\": 2021, \"GueltigAbDatMM\": 9, \"HerkunftLang\": \"Schweizer/in\", \"sum_WBev\": 10}, {\"GueltigAbDat\": \"2021-03-27T00:00:00\", \"GueltigAbDatJahr\": 2021, \"GueltigAbDatMM\": 3, \"HerkunftLang\": \"Schweizer/in\", \"sum_WBev\": 10}, {\"GueltigAbDat\": \"2021-08-30T00:00:00\", \"GueltigAbDatJahr\": 2021, \"GueltigAbDatMM\": 8, \"HerkunftLang\": \"Schweizer/in\", \"sum_WBev\": 10}, {\"GueltigAbDat\": \"2021-05-16T00:00:00\", \"GueltigAbDatJahr\": 2021, \"GueltigAbDatMM\": 5, \"HerkunftLang\": \"Schweizer/in\", \"sum_WBev\": 10}, {\"GueltigAbDat\": \"2021-05-27T00:00:00\", \"GueltigAbDatJahr\": 2021, \"GueltigAbDatMM\": 5, \"HerkunftLang\": \"Schweizer/in\", \"sum_WBev\": 10}, {\"GueltigAbDat\": \"2021-08-17T00:00:00\", \"GueltigAbDatJahr\": 2021, \"GueltigAbDatMM\": 8, \"HerkunftLang\": \"Schweizer/in\", \"sum_WBev\": 10}, {\"GueltigAbDat\": \"2021-08-19T00:00:00\", \"GueltigAbDatJahr\": 2021, \"GueltigAbDatMM\": 8, \"HerkunftLang\": \"Schweizer/in\", \"sum_WBev\": 10}, {\"GueltigAbDat\": \"2020-11-26T00:00:00\", \"GueltigAbDatJahr\": 2020, \"GueltigAbDatMM\": 11, \"HerkunftLang\": \"Schweizer/in\", \"sum_WBev\": 10}, {\"GueltigAbDat\": \"2021-03-24T00:00:00\", \"GueltigAbDatJahr\": 2021, \"GueltigAbDatMM\": 3, \"HerkunftLang\": \"Schweizer/in\", \"sum_WBev\": 9}, {\"GueltigAbDat\": \"2021-04-09T00:00:00\", \"GueltigAbDatJahr\": 2021, \"GueltigAbDatMM\": 4, \"HerkunftLang\": \"Schweizer/in\", \"sum_WBev\": 9}, {\"GueltigAbDat\": \"2021-05-02T00:00:00\", \"GueltigAbDatJahr\": 2021, \"GueltigAbDatMM\": 5, \"HerkunftLang\": \"Schweizer/in\", \"sum_WBev\": 9}, {\"GueltigAbDat\": \"2021-04-06T00:00:00\", \"GueltigAbDatJahr\": 2021, \"GueltigAbDatMM\": 4, \"HerkunftLang\": \"Schweizer/in\", \"sum_WBev\": 9}, {\"GueltigAbDat\": \"2021-05-12T00:00:00\", \"GueltigAbDatJahr\": 2021, \"GueltigAbDatMM\": 5, \"HerkunftLang\": \"Schweizer/in\", \"sum_WBev\": 9}, {\"GueltigAbDat\": \"2021-04-19T00:00:00\", \"GueltigAbDatJahr\": 2021, \"GueltigAbDatMM\": 4, \"HerkunftLang\": \"Schweizer/in\", \"sum_WBev\": 9}, {\"GueltigAbDat\": \"2021-03-08T00:00:00\", \"GueltigAbDatJahr\": 2021, \"GueltigAbDatMM\": 3, \"HerkunftLang\": \"Schweizer/in\", \"sum_WBev\": 9}, {\"GueltigAbDat\": \"2021-05-31T00:00:00\", \"GueltigAbDatJahr\": 2021, \"GueltigAbDatMM\": 5, \"HerkunftLang\": \"Schweizer/in\", \"sum_WBev\": 9}, {\"GueltigAbDat\": \"2021-04-01T00:00:00\", \"GueltigAbDatJahr\": 2021, \"GueltigAbDatMM\": 4, \"HerkunftLang\": \"Schweizer/in\", \"sum_WBev\": 9}, {\"GueltigAbDat\": \"2021-06-20T00:00:00\", \"GueltigAbDatJahr\": 2021, \"GueltigAbDatMM\": 6, \"HerkunftLang\": \"Schweizer/in\", \"sum_WBev\": 9}, {\"GueltigAbDat\": \"2021-08-10T00:00:00\", \"GueltigAbDatJahr\": 2021, \"GueltigAbDatMM\": 8, \"HerkunftLang\": \"Schweizer/in\", \"sum_WBev\": 9}, {\"GueltigAbDat\": \"2021-09-20T00:00:00\", \"GueltigAbDatJahr\": 2021, \"GueltigAbDatMM\": 9, \"HerkunftLang\": \"Schweizer/in\", \"sum_WBev\": 9}, {\"GueltigAbDat\": \"2021-10-20T00:00:00\", \"GueltigAbDatJahr\": 2021, \"GueltigAbDatMM\": 10, \"HerkunftLang\": \"Schweizer/in\", \"sum_WBev\": 9}, {\"GueltigAbDat\": \"2021-02-24T00:00:00\", \"GueltigAbDatJahr\": 2021, \"GueltigAbDatMM\": 2, \"HerkunftLang\": \"Schweizer/in\", \"sum_WBev\": 9}, {\"GueltigAbDat\": \"2021-01-28T00:00:00\", \"GueltigAbDatJahr\": 2021, \"GueltigAbDatMM\": 1, \"HerkunftLang\": \"Schweizer/in\", \"sum_WBev\": 9}, {\"GueltigAbDat\": \"2021-06-27T00:00:00\", \"GueltigAbDatJahr\": 2021, \"GueltigAbDatMM\": 6, \"HerkunftLang\": \"Schweizer/in\", \"sum_WBev\": 9}, {\"GueltigAbDat\": \"2021-06-07T00:00:00\", \"GueltigAbDatJahr\": 2021, \"GueltigAbDatMM\": 6, \"HerkunftLang\": \"Schweizer/in\", \"sum_WBev\": 9}, {\"GueltigAbDat\": \"2021-06-22T00:00:00\", \"GueltigAbDatJahr\": 2021, \"GueltigAbDatMM\": 6, \"HerkunftLang\": \"Schweizer/in\", \"sum_WBev\": 9}, {\"GueltigAbDat\": \"2021-02-07T00:00:00\", \"GueltigAbDatJahr\": 2021, \"GueltigAbDatMM\": 2, \"HerkunftLang\": \"Schweizer/in\", \"sum_WBev\": 9}, {\"GueltigAbDat\": \"2021-10-13T00:00:00\", \"GueltigAbDatJahr\": 2021, \"GueltigAbDatMM\": 10, \"HerkunftLang\": \"Schweizer/in\", \"sum_WBev\": 9}, {\"GueltigAbDat\": \"2021-03-25T00:00:00\", \"GueltigAbDatJahr\": 2021, \"GueltigAbDatMM\": 3, \"HerkunftLang\": \"Schweizer/in\", \"sum_WBev\": 9}, {\"GueltigAbDat\": \"2021-02-10T00:00:00\", \"GueltigAbDatJahr\": 2021, \"GueltigAbDatMM\": 2, \"HerkunftLang\": \"Schweizer/in\", \"sum_WBev\": 9}, {\"GueltigAbDat\": \"2021-08-28T00:00:00\", \"GueltigAbDatJahr\": 2021, \"GueltigAbDatMM\": 8, \"HerkunftLang\": \"Schweizer/in\", \"sum_WBev\": 9}, {\"GueltigAbDat\": \"2021-04-18T00:00:00\", \"GueltigAbDatJahr\": 2021, \"GueltigAbDatMM\": 4, \"HerkunftLang\": \"Schweizer/in\", \"sum_WBev\": 9}, {\"GueltigAbDat\": \"2021-07-24T00:00:00\", \"GueltigAbDatJahr\": 2021, \"GueltigAbDatMM\": 7, \"HerkunftLang\": \"Schweizer/in\", \"sum_WBev\": 9}, {\"GueltigAbDat\": \"2020-12-02T00:00:00\", \"GueltigAbDatJahr\": 2020, \"GueltigAbDatMM\": 12, \"HerkunftLang\": \"Schweizer/in\", \"sum_WBev\": 9}, {\"GueltigAbDat\": \"2021-01-07T00:00:00\", \"GueltigAbDatJahr\": 2021, \"GueltigAbDatMM\": 1, \"HerkunftLang\": \"Schweizer/in\", \"sum_WBev\": 9}, {\"GueltigAbDat\": \"2020-12-18T00:00:00\", \"GueltigAbDatJahr\": 2020, \"GueltigAbDatMM\": 12, \"HerkunftLang\": \"Schweizer/in\", \"sum_WBev\": 9}, {\"GueltigAbDat\": \"2020-11-29T00:00:00\", \"GueltigAbDatJahr\": 2020, \"GueltigAbDatMM\": 11, \"HerkunftLang\": \"Schweizer/in\", \"sum_WBev\": 9}, {\"GueltigAbDat\": \"2020-12-23T00:00:00\", \"GueltigAbDatJahr\": 2020, \"GueltigAbDatMM\": 12, \"HerkunftLang\": \"Ausl\\u00e4nder/in\", \"sum_WBev\": 9}, {\"GueltigAbDat\": \"2021-01-05T00:00:00\", \"GueltigAbDatJahr\": 2021, \"GueltigAbDatMM\": 1, \"HerkunftLang\": \"Schweizer/in\", \"sum_WBev\": 9}, {\"GueltigAbDat\": \"2020-12-17T00:00:00\", \"GueltigAbDatJahr\": 2020, \"GueltigAbDatMM\": 12, \"HerkunftLang\": \"Schweizer/in\", \"sum_WBev\": 9}, {\"GueltigAbDat\": \"2020-11-22T00:00:00\", \"GueltigAbDatJahr\": 2020, \"GueltigAbDatMM\": 11, \"HerkunftLang\": \"Schweizer/in\", \"sum_WBev\": 9}, {\"GueltigAbDat\": \"2020-11-24T00:00:00\", \"GueltigAbDatJahr\": 2020, \"GueltigAbDatMM\": 11, \"HerkunftLang\": \"Schweizer/in\", \"sum_WBev\": 9}, {\"GueltigAbDat\": \"2021-11-18T00:00:00\", \"GueltigAbDatJahr\": 2021, \"GueltigAbDatMM\": 11, \"HerkunftLang\": \"Schweizer/in\", \"sum_WBev\": 9}, {\"GueltigAbDat\": \"2020-11-08T00:00:00\", \"GueltigAbDatJahr\": 2020, \"GueltigAbDatMM\": 11, \"HerkunftLang\": \"Schweizer/in\", \"sum_WBev\": 9}, {\"GueltigAbDat\": \"2021-01-06T00:00:00\", \"GueltigAbDatJahr\": 2021, \"GueltigAbDatMM\": 1, \"HerkunftLang\": \"Schweizer/in\", \"sum_WBev\": 8}, {\"GueltigAbDat\": \"2021-02-12T00:00:00\", \"GueltigAbDatJahr\": 2021, \"GueltigAbDatMM\": 2, \"HerkunftLang\": \"Schweizer/in\", \"sum_WBev\": 8}, {\"GueltigAbDat\": \"2021-09-26T00:00:00\", \"GueltigAbDatJahr\": 2021, \"GueltigAbDatMM\": 9, \"HerkunftLang\": \"Schweizer/in\", \"sum_WBev\": 8}, {\"GueltigAbDat\": \"2021-02-11T00:00:00\", \"GueltigAbDatJahr\": 2021, \"GueltigAbDatMM\": 2, \"HerkunftLang\": \"Schweizer/in\", \"sum_WBev\": 8}, {\"GueltigAbDat\": \"2021-10-12T00:00:00\", \"GueltigAbDatJahr\": 2021, \"GueltigAbDatMM\": 10, \"HerkunftLang\": \"Schweizer/in\", \"sum_WBev\": 8}, {\"GueltigAbDat\": \"2021-10-14T00:00:00\", \"GueltigAbDatJahr\": 2021, \"GueltigAbDatMM\": 10, \"HerkunftLang\": \"Schweizer/in\", \"sum_WBev\": 8}, {\"GueltigAbDat\": \"2021-11-04T00:00:00\", \"GueltigAbDatJahr\": 2021, \"GueltigAbDatMM\": 11, \"HerkunftLang\": \"Schweizer/in\", \"sum_WBev\": 8}, {\"GueltigAbDat\": \"2021-10-26T00:00:00\", \"GueltigAbDatJahr\": 2021, \"GueltigAbDatMM\": 10, \"HerkunftLang\": \"Schweizer/in\", \"sum_WBev\": 8}, {\"GueltigAbDat\": \"2021-07-25T00:00:00\", \"GueltigAbDatJahr\": 2021, \"GueltigAbDatMM\": 7, \"HerkunftLang\": \"Schweizer/in\", \"sum_WBev\": 8}, {\"GueltigAbDat\": \"2021-09-04T00:00:00\", \"GueltigAbDatJahr\": 2021, \"GueltigAbDatMM\": 9, \"HerkunftLang\": \"Schweizer/in\", \"sum_WBev\": 8}, {\"GueltigAbDat\": \"2021-11-20T00:00:00\", \"GueltigAbDatJahr\": 2021, \"GueltigAbDatMM\": 11, \"HerkunftLang\": \"Schweizer/in\", \"sum_WBev\": 8}, {\"GueltigAbDat\": \"2021-08-27T00:00:00\", \"GueltigAbDatJahr\": 2021, \"GueltigAbDatMM\": 8, \"HerkunftLang\": \"Schweizer/in\", \"sum_WBev\": 8}, {\"GueltigAbDat\": \"2021-08-25T00:00:00\", \"GueltigAbDatJahr\": 2021, \"GueltigAbDatMM\": 8, \"HerkunftLang\": \"Schweizer/in\", \"sum_WBev\": 8}, {\"GueltigAbDat\": \"2021-10-08T00:00:00\", \"GueltigAbDatJahr\": 2021, \"GueltigAbDatMM\": 10, \"HerkunftLang\": \"Schweizer/in\", \"sum_WBev\": 8}, {\"GueltigAbDat\": \"2021-05-24T00:00:00\", \"GueltigAbDatJahr\": 2021, \"GueltigAbDatMM\": 5, \"HerkunftLang\": \"Schweizer/in\", \"sum_WBev\": 8}, {\"GueltigAbDat\": \"2021-02-19T00:00:00\", \"GueltigAbDatJahr\": 2021, \"GueltigAbDatMM\": 2, \"HerkunftLang\": \"Schweizer/in\", \"sum_WBev\": 8}, {\"GueltigAbDat\": \"2021-08-24T00:00:00\", \"GueltigAbDatJahr\": 2021, \"GueltigAbDatMM\": 8, \"HerkunftLang\": \"Schweizer/in\", \"sum_WBev\": 8}, {\"GueltigAbDat\": \"2021-10-02T00:00:00\", \"GueltigAbDatJahr\": 2021, \"GueltigAbDatMM\": 10, \"HerkunftLang\": \"Schweizer/in\", \"sum_WBev\": 8}, {\"GueltigAbDat\": \"2021-06-03T00:00:00\", \"GueltigAbDatJahr\": 2021, \"GueltigAbDatMM\": 6, \"HerkunftLang\": \"Schweizer/in\", \"sum_WBev\": 8}, {\"GueltigAbDat\": \"2021-05-28T00:00:00\", \"GueltigAbDatJahr\": 2021, \"GueltigAbDatMM\": 5, \"HerkunftLang\": \"Schweizer/in\", \"sum_WBev\": 8}, {\"GueltigAbDat\": \"2021-09-03T00:00:00\", \"GueltigAbDatJahr\": 2021, \"GueltigAbDatMM\": 9, \"HerkunftLang\": \"Schweizer/in\", \"sum_WBev\": 8}, {\"GueltigAbDat\": \"2021-11-25T00:00:00\", \"GueltigAbDatJahr\": 2021, \"GueltigAbDatMM\": 11, \"HerkunftLang\": \"Schweizer/in\", \"sum_WBev\": 8}, {\"GueltigAbDat\": \"2021-07-28T00:00:00\", \"GueltigAbDatJahr\": 2021, \"GueltigAbDatMM\": 7, \"HerkunftLang\": \"Schweizer/in\", \"sum_WBev\": 8}, {\"GueltigAbDat\": \"2021-04-13T00:00:00\", \"GueltigAbDatJahr\": 2021, \"GueltigAbDatMM\": 4, \"HerkunftLang\": \"Schweizer/in\", \"sum_WBev\": 8}, {\"GueltigAbDat\": \"2021-04-11T00:00:00\", \"GueltigAbDatJahr\": 2021, \"GueltigAbDatMM\": 4, \"HerkunftLang\": \"Schweizer/in\", \"sum_WBev\": 8}, {\"GueltigAbDat\": \"2021-07-16T00:00:00\", \"GueltigAbDatJahr\": 2021, \"GueltigAbDatMM\": 7, \"HerkunftLang\": \"Schweizer/in\", \"sum_WBev\": 8}, {\"GueltigAbDat\": \"2021-01-22T00:00:00\", \"GueltigAbDatJahr\": 2021, \"GueltigAbDatMM\": 1, \"HerkunftLang\": \"Schweizer/in\", \"sum_WBev\": 8}, {\"GueltigAbDat\": \"2021-11-09T00:00:00\", \"GueltigAbDatJahr\": 2021, \"GueltigAbDatMM\": 11, \"HerkunftLang\": \"Schweizer/in\", \"sum_WBev\": 8}, {\"GueltigAbDat\": \"2021-07-14T00:00:00\", \"GueltigAbDatJahr\": 2021, \"GueltigAbDatMM\": 7, \"HerkunftLang\": \"Schweizer/in\", \"sum_WBev\": 8}, {\"GueltigAbDat\": \"2021-07-30T00:00:00\", \"GueltigAbDatJahr\": 2021, \"GueltigAbDatMM\": 7, \"HerkunftLang\": \"Schweizer/in\", \"sum_WBev\": 8}, {\"GueltigAbDat\": \"2020-11-06T00:00:00\", \"GueltigAbDatJahr\": 2020, \"GueltigAbDatMM\": 11, \"HerkunftLang\": \"Schweizer/in\", \"sum_WBev\": 8}, {\"GueltigAbDat\": \"2021-11-14T00:00:00\", \"GueltigAbDatJahr\": 2021, \"GueltigAbDatMM\": 11, \"HerkunftLang\": \"Schweizer/in\", \"sum_WBev\": 8}, {\"GueltigAbDat\": \"2021-09-15T00:00:00\", \"GueltigAbDatJahr\": 2021, \"GueltigAbDatMM\": 9, \"HerkunftLang\": \"Schweizer/in\", \"sum_WBev\": 8}, {\"GueltigAbDat\": \"2021-01-20T00:00:00\", \"GueltigAbDatJahr\": 2021, \"GueltigAbDatMM\": 1, \"HerkunftLang\": \"Schweizer/in\", \"sum_WBev\": 8}, {\"GueltigAbDat\": \"2021-09-09T00:00:00\", \"GueltigAbDatJahr\": 2021, \"GueltigAbDatMM\": 9, \"HerkunftLang\": \"Schweizer/in\", \"sum_WBev\": 8}, {\"GueltigAbDat\": \"2020-11-02T00:00:00\", \"GueltigAbDatJahr\": 2020, \"GueltigAbDatMM\": 11, \"HerkunftLang\": \"Schweizer/in\", \"sum_WBev\": 8}, {\"GueltigAbDat\": \"2021-09-07T00:00:00\", \"GueltigAbDatJahr\": 2021, \"GueltigAbDatMM\": 9, \"HerkunftLang\": \"Schweizer/in\", \"sum_WBev\": 8}, {\"GueltigAbDat\": \"2021-05-04T00:00:00\", \"GueltigAbDatJahr\": 2021, \"GueltigAbDatMM\": 5, \"HerkunftLang\": \"Schweizer/in\", \"sum_WBev\": 8}, {\"GueltigAbDat\": \"2021-01-24T00:00:00\", \"GueltigAbDatJahr\": 2021, \"GueltigAbDatMM\": 1, \"HerkunftLang\": \"Schweizer/in\", \"sum_WBev\": 8}, {\"GueltigAbDat\": \"2021-04-10T00:00:00\", \"GueltigAbDatJahr\": 2021, \"GueltigAbDatMM\": 4, \"HerkunftLang\": \"Schweizer/in\", \"sum_WBev\": 7}, {\"GueltigAbDat\": \"2021-03-31T00:00:00\", \"GueltigAbDatJahr\": 2021, \"GueltigAbDatMM\": 3, \"HerkunftLang\": \"Schweizer/in\", \"sum_WBev\": 7}, {\"GueltigAbDat\": \"2020-11-27T00:00:00\", \"GueltigAbDatJahr\": 2020, \"GueltigAbDatMM\": 11, \"HerkunftLang\": \"Schweizer/in\", \"sum_WBev\": 7}, {\"GueltigAbDat\": \"2021-04-05T00:00:00\", \"GueltigAbDatJahr\": 2021, \"GueltigAbDatMM\": 4, \"HerkunftLang\": \"Schweizer/in\", \"sum_WBev\": 7}, {\"GueltigAbDat\": \"2020-12-29T00:00:00\", \"GueltigAbDatJahr\": 2020, \"GueltigAbDatMM\": 12, \"HerkunftLang\": \"Schweizer/in\", \"sum_WBev\": 7}, {\"GueltigAbDat\": \"2021-05-06T00:00:00\", \"GueltigAbDatJahr\": 2021, \"GueltigAbDatMM\": 5, \"HerkunftLang\": \"Schweizer/in\", \"sum_WBev\": 7}, {\"GueltigAbDat\": \"2021-09-30T00:00:00\", \"GueltigAbDatJahr\": 2021, \"GueltigAbDatMM\": 9, \"HerkunftLang\": \"Schweizer/in\", \"sum_WBev\": 7}, {\"GueltigAbDat\": \"2021-09-29T00:00:00\", \"GueltigAbDatJahr\": 2021, \"GueltigAbDatMM\": 9, \"HerkunftLang\": \"Schweizer/in\", \"sum_WBev\": 7}, {\"GueltigAbDat\": \"2021-05-19T00:00:00\", \"GueltigAbDatJahr\": 2021, \"GueltigAbDatMM\": 5, \"HerkunftLang\": \"Schweizer/in\", \"sum_WBev\": 7}, {\"GueltigAbDat\": \"2021-08-20T00:00:00\", \"GueltigAbDatJahr\": 2021, \"GueltigAbDatMM\": 8, \"HerkunftLang\": \"Schweizer/in\", \"sum_WBev\": 7}, {\"GueltigAbDat\": \"2021-09-14T00:00:00\", \"GueltigAbDatJahr\": 2021, \"GueltigAbDatMM\": 9, \"HerkunftLang\": \"Schweizer/in\", \"sum_WBev\": 7}, {\"GueltigAbDat\": \"2021-09-21T00:00:00\", \"GueltigAbDatJahr\": 2021, \"GueltigAbDatMM\": 9, \"HerkunftLang\": \"Schweizer/in\", \"sum_WBev\": 7}, {\"GueltigAbDat\": \"2021-04-27T00:00:00\", \"GueltigAbDatJahr\": 2021, \"GueltigAbDatMM\": 4, \"HerkunftLang\": \"Schweizer/in\", \"sum_WBev\": 7}, {\"GueltigAbDat\": \"2021-03-19T00:00:00\", \"GueltigAbDatJahr\": 2021, \"GueltigAbDatMM\": 3, \"HerkunftLang\": \"Schweizer/in\", \"sum_WBev\": 7}, {\"GueltigAbDat\": \"2021-04-30T00:00:00\", \"GueltigAbDatJahr\": 2021, \"GueltigAbDatMM\": 4, \"HerkunftLang\": \"Schweizer/in\", \"sum_WBev\": 7}, {\"GueltigAbDat\": \"2020-12-03T00:00:00\", \"GueltigAbDatJahr\": 2020, \"GueltigAbDatMM\": 12, \"HerkunftLang\": \"Schweizer/in\", \"sum_WBev\": 7}, {\"GueltigAbDat\": \"2021-05-11T00:00:00\", \"GueltigAbDatJahr\": 2021, \"GueltigAbDatMM\": 5, \"HerkunftLang\": \"Schweizer/in\", \"sum_WBev\": 7}, {\"GueltigAbDat\": \"2021-08-22T00:00:00\", \"GueltigAbDatJahr\": 2021, \"GueltigAbDatMM\": 8, \"HerkunftLang\": \"Schweizer/in\", \"sum_WBev\": 7}, {\"GueltigAbDat\": \"2021-11-12T00:00:00\", \"GueltigAbDatJahr\": 2021, \"GueltigAbDatMM\": 11, \"HerkunftLang\": \"Schweizer/in\", \"sum_WBev\": 7}, {\"GueltigAbDat\": \"2021-02-08T00:00:00\", \"GueltigAbDatJahr\": 2021, \"GueltigAbDatMM\": 2, \"HerkunftLang\": \"Schweizer/in\", \"sum_WBev\": 7}, {\"GueltigAbDat\": \"2021-08-13T00:00:00\", \"GueltigAbDatJahr\": 2021, \"GueltigAbDatMM\": 8, \"HerkunftLang\": \"Schweizer/in\", \"sum_WBev\": 7}, {\"GueltigAbDat\": \"2021-07-15T00:00:00\", \"GueltigAbDatJahr\": 2021, \"GueltigAbDatMM\": 7, \"HerkunftLang\": \"Schweizer/in\", \"sum_WBev\": 7}, {\"GueltigAbDat\": \"2021-07-27T00:00:00\", \"GueltigAbDatJahr\": 2021, \"GueltigAbDatMM\": 7, \"HerkunftLang\": \"Schweizer/in\", \"sum_WBev\": 7}, {\"GueltigAbDat\": \"2021-06-24T00:00:00\", \"GueltigAbDatJahr\": 2021, \"GueltigAbDatMM\": 6, \"HerkunftLang\": \"Schweizer/in\", \"sum_WBev\": 7}, {\"GueltigAbDat\": \"2021-06-19T00:00:00\", \"GueltigAbDatJahr\": 2021, \"GueltigAbDatMM\": 6, \"HerkunftLang\": \"Schweizer/in\", \"sum_WBev\": 7}, {\"GueltigAbDat\": \"2021-06-26T00:00:00\", \"GueltigAbDatJahr\": 2021, \"GueltigAbDatMM\": 6, \"HerkunftLang\": \"Schweizer/in\", \"sum_WBev\": 7}, {\"GueltigAbDat\": \"2020-11-19T00:00:00\", \"GueltigAbDatJahr\": 2020, \"GueltigAbDatMM\": 11, \"HerkunftLang\": \"Schweizer/in\", \"sum_WBev\": 7}, {\"GueltigAbDat\": \"2021-02-09T00:00:00\", \"GueltigAbDatJahr\": 2021, \"GueltigAbDatMM\": 2, \"HerkunftLang\": \"Schweizer/in\", \"sum_WBev\": 7}, {\"GueltigAbDat\": \"2021-11-03T00:00:00\", \"GueltigAbDatJahr\": 2021, \"GueltigAbDatMM\": 11, \"HerkunftLang\": \"Schweizer/in\", \"sum_WBev\": 7}, {\"GueltigAbDat\": \"2021-10-11T00:00:00\", \"GueltigAbDatJahr\": 2021, \"GueltigAbDatMM\": 10, \"HerkunftLang\": \"Schweizer/in\", \"sum_WBev\": 7}, {\"GueltigAbDat\": \"2020-11-21T00:00:00\", \"GueltigAbDatJahr\": 2020, \"GueltigAbDatMM\": 11, \"HerkunftLang\": \"Schweizer/in\", \"sum_WBev\": 7}, {\"GueltigAbDat\": \"2021-02-04T00:00:00\", \"GueltigAbDatJahr\": 2021, \"GueltigAbDatMM\": 2, \"HerkunftLang\": \"Schweizer/in\", \"sum_WBev\": 7}, {\"GueltigAbDat\": \"2021-06-25T00:00:00\", \"GueltigAbDatJahr\": 2021, \"GueltigAbDatMM\": 6, \"HerkunftLang\": \"Schweizer/in\", \"sum_WBev\": 7}, {\"GueltigAbDat\": \"2021-10-24T00:00:00\", \"GueltigAbDatJahr\": 2021, \"GueltigAbDatMM\": 10, \"HerkunftLang\": \"Schweizer/in\", \"sum_WBev\": 7}, {\"GueltigAbDat\": \"2021-10-10T00:00:00\", \"GueltigAbDatJahr\": 2021, \"GueltigAbDatMM\": 10, \"HerkunftLang\": \"Schweizer/in\", \"sum_WBev\": 7}, {\"GueltigAbDat\": \"2021-01-03T00:00:00\", \"GueltigAbDatJahr\": 2021, \"GueltigAbDatMM\": 1, \"HerkunftLang\": \"Schweizer/in\", \"sum_WBev\": 7}, {\"GueltigAbDat\": \"2021-07-01T00:00:00\", \"GueltigAbDatJahr\": 2021, \"GueltigAbDatMM\": 7, \"HerkunftLang\": \"Schweizer/in\", \"sum_WBev\": 7}, {\"GueltigAbDat\": \"2021-10-09T00:00:00\", \"GueltigAbDatJahr\": 2021, \"GueltigAbDatMM\": 10, \"HerkunftLang\": \"Schweizer/in\", \"sum_WBev\": 7}, {\"GueltigAbDat\": \"2021-02-17T00:00:00\", \"GueltigAbDatJahr\": 2021, \"GueltigAbDatMM\": 2, \"HerkunftLang\": \"Schweizer/in\", \"sum_WBev\": 7}, {\"GueltigAbDat\": \"2021-08-03T00:00:00\", \"GueltigAbDatJahr\": 2021, \"GueltigAbDatMM\": 8, \"HerkunftLang\": \"Schweizer/in\", \"sum_WBev\": 7}, {\"GueltigAbDat\": \"2021-10-07T00:00:00\", \"GueltigAbDatJahr\": 2021, \"GueltigAbDatMM\": 10, \"HerkunftLang\": \"Schweizer/in\", \"sum_WBev\": 7}, {\"GueltigAbDat\": \"2021-08-16T00:00:00\", \"GueltigAbDatJahr\": 2021, \"GueltigAbDatMM\": 8, \"HerkunftLang\": \"Schweizer/in\", \"sum_WBev\": 7}, {\"GueltigAbDat\": \"2020-11-12T00:00:00\", \"GueltigAbDatJahr\": 2020, \"GueltigAbDatMM\": 11, \"HerkunftLang\": \"Schweizer/in\", \"sum_WBev\": 7}, {\"GueltigAbDat\": \"2021-02-21T00:00:00\", \"GueltigAbDatJahr\": 2021, \"GueltigAbDatMM\": 2, \"HerkunftLang\": \"Schweizer/in\", \"sum_WBev\": 7}, {\"GueltigAbDat\": \"2021-07-23T00:00:00\", \"GueltigAbDatJahr\": 2021, \"GueltigAbDatMM\": 7, \"HerkunftLang\": \"Schweizer/in\", \"sum_WBev\": 7}, {\"GueltigAbDat\": \"2021-11-26T00:00:00\", \"GueltigAbDatJahr\": 2021, \"GueltigAbDatMM\": 11, \"HerkunftLang\": \"Schweizer/in\", \"sum_WBev\": 6}, {\"GueltigAbDat\": \"2021-04-15T00:00:00\", \"GueltigAbDatJahr\": 2021, \"GueltigAbDatMM\": 4, \"HerkunftLang\": \"Schweizer/in\", \"sum_WBev\": 6}, {\"GueltigAbDat\": \"2021-07-05T00:00:00\", \"GueltigAbDatJahr\": 2021, \"GueltigAbDatMM\": 7, \"HerkunftLang\": \"Schweizer/in\", \"sum_WBev\": 6}, {\"GueltigAbDat\": \"2020-12-09T00:00:00\", \"GueltigAbDatJahr\": 2020, \"GueltigAbDatMM\": 12, \"HerkunftLang\": \"Schweizer/in\", \"sum_WBev\": 6}, {\"GueltigAbDat\": \"2021-06-01T00:00:00\", \"GueltigAbDatJahr\": 2021, \"GueltigAbDatMM\": 6, \"HerkunftLang\": \"Schweizer/in\", \"sum_WBev\": 6}, {\"GueltigAbDat\": \"2021-04-14T00:00:00\", \"GueltigAbDatJahr\": 2021, \"GueltigAbDatMM\": 4, \"HerkunftLang\": \"Schweizer/in\", \"sum_WBev\": 6}, {\"GueltigAbDat\": \"2021-04-12T00:00:00\", \"GueltigAbDatJahr\": 2021, \"GueltigAbDatMM\": 4, \"HerkunftLang\": \"Schweizer/in\", \"sum_WBev\": 6}, {\"GueltigAbDat\": \"2021-07-17T00:00:00\", \"GueltigAbDatJahr\": 2021, \"GueltigAbDatMM\": 7, \"HerkunftLang\": \"Schweizer/in\", \"sum_WBev\": 6}, {\"GueltigAbDat\": \"2021-09-12T00:00:00\", \"GueltigAbDatJahr\": 2021, \"GueltigAbDatMM\": 9, \"HerkunftLang\": \"Schweizer/in\", \"sum_WBev\": 6}, {\"GueltigAbDat\": \"2021-07-19T00:00:00\", \"GueltigAbDatJahr\": 2021, \"GueltigAbDatMM\": 7, \"HerkunftLang\": \"Schweizer/in\", \"sum_WBev\": 6}, {\"GueltigAbDat\": \"2021-07-20T00:00:00\", \"GueltigAbDatJahr\": 2021, \"GueltigAbDatMM\": 7, \"HerkunftLang\": \"Schweizer/in\", \"sum_WBev\": 6}, {\"GueltigAbDat\": \"2021-11-29T00:00:00\", \"GueltigAbDatJahr\": 2021, \"GueltigAbDatMM\": 11, \"HerkunftLang\": \"Schweizer/in\", \"sum_WBev\": 6}, {\"GueltigAbDat\": \"2021-11-13T00:00:00\", \"GueltigAbDatJahr\": 2021, \"GueltigAbDatMM\": 11, \"HerkunftLang\": \"Schweizer/in\", \"sum_WBev\": 6}, {\"GueltigAbDat\": \"2021-04-08T00:00:00\", \"GueltigAbDatJahr\": 2021, \"GueltigAbDatMM\": 4, \"HerkunftLang\": \"Schweizer/in\", \"sum_WBev\": 6}, {\"GueltigAbDat\": \"2021-04-07T00:00:00\", \"GueltigAbDatJahr\": 2021, \"GueltigAbDatMM\": 4, \"HerkunftLang\": \"Schweizer/in\", \"sum_WBev\": 6}, {\"GueltigAbDat\": \"2021-04-20T00:00:00\", \"GueltigAbDatJahr\": 2021, \"GueltigAbDatMM\": 4, \"HerkunftLang\": \"Schweizer/in\", \"sum_WBev\": 6}, {\"GueltigAbDat\": \"2021-11-17T00:00:00\", \"GueltigAbDatJahr\": 2021, \"GueltigAbDatMM\": 11, \"HerkunftLang\": \"Schweizer/in\", \"sum_WBev\": 6}, {\"GueltigAbDat\": \"2021-04-22T00:00:00\", \"GueltigAbDatJahr\": 2021, \"GueltigAbDatMM\": 4, \"HerkunftLang\": \"Schweizer/in\", \"sum_WBev\": 6}, {\"GueltigAbDat\": \"2021-05-10T00:00:00\", \"GueltigAbDatJahr\": 2021, \"GueltigAbDatMM\": 5, \"HerkunftLang\": \"Schweizer/in\", \"sum_WBev\": 6}, {\"GueltigAbDat\": \"2021-06-02T00:00:00\", \"GueltigAbDatJahr\": 2021, \"GueltigAbDatMM\": 6, \"HerkunftLang\": \"Schweizer/in\", \"sum_WBev\": 6}, {\"GueltigAbDat\": \"2021-08-23T00:00:00\", \"GueltigAbDatJahr\": 2021, \"GueltigAbDatMM\": 8, \"HerkunftLang\": \"Schweizer/in\", \"sum_WBev\": 6}, {\"GueltigAbDat\": \"2021-06-10T00:00:00\", \"GueltigAbDatJahr\": 2021, \"GueltigAbDatMM\": 6, \"HerkunftLang\": \"Schweizer/in\", \"sum_WBev\": 6}, {\"GueltigAbDat\": \"2021-05-21T00:00:00\", \"GueltigAbDatJahr\": 2021, \"GueltigAbDatMM\": 5, \"HerkunftLang\": \"Schweizer/in\", \"sum_WBev\": 6}, {\"GueltigAbDat\": \"2021-05-20T00:00:00\", \"GueltigAbDatJahr\": 2021, \"GueltigAbDatMM\": 5, \"HerkunftLang\": \"Schweizer/in\", \"sum_WBev\": 6}, {\"GueltigAbDat\": \"2021-06-13T00:00:00\", \"GueltigAbDatJahr\": 2021, \"GueltigAbDatMM\": 6, \"HerkunftLang\": \"Schweizer/in\", \"sum_WBev\": 6}, {\"GueltigAbDat\": \"2021-11-23T00:00:00\", \"GueltigAbDatJahr\": 2021, \"GueltigAbDatMM\": 11, \"HerkunftLang\": \"Schweizer/in\", \"sum_WBev\": 6}, {\"GueltigAbDat\": \"2021-06-16T00:00:00\", \"GueltigAbDatJahr\": 2021, \"GueltigAbDatMM\": 6, \"HerkunftLang\": \"Schweizer/in\", \"sum_WBev\": 6}, {\"GueltigAbDat\": \"2021-05-09T00:00:00\", \"GueltigAbDatJahr\": 2021, \"GueltigAbDatMM\": 5, \"HerkunftLang\": \"Schweizer/in\", \"sum_WBev\": 6}, {\"GueltigAbDat\": \"2021-04-26T00:00:00\", \"GueltigAbDatJahr\": 2021, \"GueltigAbDatMM\": 4, \"HerkunftLang\": \"Schweizer/in\", \"sum_WBev\": 6}, {\"GueltigAbDat\": \"2021-05-07T00:00:00\", \"GueltigAbDatJahr\": 2021, \"GueltigAbDatMM\": 5, \"HerkunftLang\": \"Schweizer/in\", \"sum_WBev\": 6}, {\"GueltigAbDat\": \"2021-08-07T00:00:00\", \"GueltigAbDatJahr\": 2021, \"GueltigAbDatMM\": 8, \"HerkunftLang\": \"Schweizer/in\", \"sum_WBev\": 6}, {\"GueltigAbDat\": \"2021-09-05T00:00:00\", \"GueltigAbDatJahr\": 2021, \"GueltigAbDatMM\": 9, \"HerkunftLang\": \"Schweizer/in\", \"sum_WBev\": 6}, {\"GueltigAbDat\": \"2020-12-13T00:00:00\", \"GueltigAbDatJahr\": 2020, \"GueltigAbDatMM\": 12, \"HerkunftLang\": \"Ausl\\u00e4nder/in\", \"sum_WBev\": 6}, {\"GueltigAbDat\": \"2021-08-06T00:00:00\", \"GueltigAbDatJahr\": 2021, \"GueltigAbDatMM\": 8, \"HerkunftLang\": \"Schweizer/in\", \"sum_WBev\": 6}, {\"GueltigAbDat\": \"2021-11-16T00:00:00\", \"GueltigAbDatJahr\": 2021, \"GueltigAbDatMM\": 11, \"HerkunftLang\": \"Schweizer/in\", \"sum_WBev\": 6}, {\"GueltigAbDat\": \"2021-08-05T00:00:00\", \"GueltigAbDatJahr\": 2021, \"GueltigAbDatMM\": 8, \"HerkunftLang\": \"Schweizer/in\", \"sum_WBev\": 6}, {\"GueltigAbDat\": \"2021-04-28T00:00:00\", \"GueltigAbDatJahr\": 2021, \"GueltigAbDatMM\": 4, \"HerkunftLang\": \"Schweizer/in\", \"sum_WBev\": 6}, {\"GueltigAbDat\": \"2021-11-21T00:00:00\", \"GueltigAbDatJahr\": 2021, \"GueltigAbDatMM\": 11, \"HerkunftLang\": \"Schweizer/in\", \"sum_WBev\": 6}, {\"GueltigAbDat\": \"2021-03-07T00:00:00\", \"GueltigAbDatJahr\": 2021, \"GueltigAbDatMM\": 3, \"HerkunftLang\": \"Schweizer/in\", \"sum_WBev\": 6}, {\"GueltigAbDat\": \"2021-03-17T00:00:00\", \"GueltigAbDatJahr\": 2021, \"GueltigAbDatMM\": 3, \"HerkunftLang\": \"Schweizer/in\", \"sum_WBev\": 6}, {\"GueltigAbDat\": \"2021-11-01T00:00:00\", \"GueltigAbDatJahr\": 2021, \"GueltigAbDatMM\": 11, \"HerkunftLang\": \"Schweizer/in\", \"sum_WBev\": 6}, {\"GueltigAbDat\": \"2021-02-15T00:00:00\", \"GueltigAbDatJahr\": 2021, \"GueltigAbDatMM\": 2, \"HerkunftLang\": \"Schweizer/in\", \"sum_WBev\": 6}, {\"GueltigAbDat\": \"2021-03-18T00:00:00\", \"GueltigAbDatJahr\": 2021, \"GueltigAbDatMM\": 3, \"HerkunftLang\": \"Schweizer/in\", \"sum_WBev\": 6}, {\"GueltigAbDat\": \"2021-03-20T00:00:00\", \"GueltigAbDatJahr\": 2021, \"GueltigAbDatMM\": 3, \"HerkunftLang\": \"Schweizer/in\", \"sum_WBev\": 6}, {\"GueltigAbDat\": \"2021-03-22T00:00:00\", \"GueltigAbDatJahr\": 2021, \"GueltigAbDatMM\": 3, \"HerkunftLang\": \"Schweizer/in\", \"sum_WBev\": 6}, {\"GueltigAbDat\": \"2021-03-01T00:00:00\", \"GueltigAbDatJahr\": 2021, \"GueltigAbDatMM\": 3, \"HerkunftLang\": \"Schweizer/in\", \"sum_WBev\": 6}, {\"GueltigAbDat\": \"2021-10-17T00:00:00\", \"GueltigAbDatJahr\": 2021, \"GueltigAbDatMM\": 10, \"HerkunftLang\": \"Schweizer/in\", \"sum_WBev\": 6}, {\"GueltigAbDat\": \"2021-03-23T00:00:00\", \"GueltigAbDatJahr\": 2021, \"GueltigAbDatMM\": 3, \"HerkunftLang\": \"Schweizer/in\", \"sum_WBev\": 6}, {\"GueltigAbDat\": \"2021-02-01T00:00:00\", \"GueltigAbDatJahr\": 2021, \"GueltigAbDatMM\": 2, \"HerkunftLang\": \"Schweizer/in\", \"sum_WBev\": 6}, {\"GueltigAbDat\": \"2021-11-02T00:00:00\", \"GueltigAbDatJahr\": 2021, \"GueltigAbDatMM\": 11, \"HerkunftLang\": \"Schweizer/in\", \"sum_WBev\": 6}, {\"GueltigAbDat\": \"2021-03-09T00:00:00\", \"GueltigAbDatJahr\": 2021, \"GueltigAbDatMM\": 3, \"HerkunftLang\": \"Schweizer/in\", \"sum_WBev\": 6}, {\"GueltigAbDat\": \"2020-12-24T00:00:00\", \"GueltigAbDatJahr\": 2020, \"GueltigAbDatMM\": 12, \"HerkunftLang\": \"Schweizer/in\", \"sum_WBev\": 6}, {\"GueltigAbDat\": \"2021-10-16T00:00:00\", \"GueltigAbDatJahr\": 2021, \"GueltigAbDatMM\": 10, \"HerkunftLang\": \"Schweizer/in\", \"sum_WBev\": 6}, {\"GueltigAbDat\": \"2021-03-10T00:00:00\", \"GueltigAbDatJahr\": 2021, \"GueltigAbDatMM\": 3, \"HerkunftLang\": \"Schweizer/in\", \"sum_WBev\": 6}, {\"GueltigAbDat\": \"2021-10-06T00:00:00\", \"GueltigAbDatJahr\": 2021, \"GueltigAbDatMM\": 10, \"HerkunftLang\": \"Schweizer/in\", \"sum_WBev\": 6}, {\"GueltigAbDat\": \"2021-02-18T00:00:00\", \"GueltigAbDatJahr\": 2021, \"GueltigAbDatMM\": 2, \"HerkunftLang\": \"Schweizer/in\", \"sum_WBev\": 6}, {\"GueltigAbDat\": \"2021-10-23T00:00:00\", \"GueltigAbDatJahr\": 2021, \"GueltigAbDatMM\": 10, \"HerkunftLang\": \"Schweizer/in\", \"sum_WBev\": 6}, {\"GueltigAbDat\": \"2021-10-04T00:00:00\", \"GueltigAbDatJahr\": 2021, \"GueltigAbDatMM\": 10, \"HerkunftLang\": \"Schweizer/in\", \"sum_WBev\": 6}, {\"GueltigAbDat\": \"2021-11-10T00:00:00\", \"GueltigAbDatJahr\": 2021, \"GueltigAbDatMM\": 11, \"HerkunftLang\": \"Schweizer/in\", \"sum_WBev\": 6}, {\"GueltigAbDat\": \"2021-11-19T00:00:00\", \"GueltigAbDatJahr\": 2021, \"GueltigAbDatMM\": 11, \"HerkunftLang\": \"Schweizer/in\", \"sum_WBev\": 5}, {\"GueltigAbDat\": \"2021-03-14T00:00:00\", \"GueltigAbDatJahr\": 2021, \"GueltigAbDatMM\": 3, \"HerkunftLang\": \"Schweizer/in\", \"sum_WBev\": 5}, {\"GueltigAbDat\": \"2021-06-30T00:00:00\", \"GueltigAbDatJahr\": 2021, \"GueltigAbDatMM\": 6, \"HerkunftLang\": \"Schweizer/in\", \"sum_WBev\": 5}, {\"GueltigAbDat\": \"2021-06-29T00:00:00\", \"GueltigAbDatJahr\": 2021, \"GueltigAbDatMM\": 6, \"HerkunftLang\": \"Schweizer/in\", \"sum_WBev\": 5}, {\"GueltigAbDat\": \"2020-12-27T00:00:00\", \"GueltigAbDatJahr\": 2020, \"GueltigAbDatMM\": 12, \"HerkunftLang\": \"Ausl\\u00e4nder/in\", \"sum_WBev\": 5}, {\"GueltigAbDat\": \"2021-08-21T00:00:00\", \"GueltigAbDatJahr\": 2021, \"GueltigAbDatMM\": 8, \"HerkunftLang\": \"Schweizer/in\", \"sum_WBev\": 5}, {\"GueltigAbDat\": \"2021-05-18T00:00:00\", \"GueltigAbDatJahr\": 2021, \"GueltigAbDatMM\": 5, \"HerkunftLang\": \"Schweizer/in\", \"sum_WBev\": 5}, {\"GueltigAbDat\": \"2021-06-05T00:00:00\", \"GueltigAbDatJahr\": 2021, \"GueltigAbDatMM\": 6, \"HerkunftLang\": \"Schweizer/in\", \"sum_WBev\": 5}, {\"GueltigAbDat\": \"2021-11-06T00:00:00\", \"GueltigAbDatJahr\": 2021, \"GueltigAbDatMM\": 11, \"HerkunftLang\": \"Schweizer/in\", \"sum_WBev\": 5}, {\"GueltigAbDat\": \"2021-10-18T00:00:00\", \"GueltigAbDatJahr\": 2021, \"GueltigAbDatMM\": 10, \"HerkunftLang\": \"Schweizer/in\", \"sum_WBev\": 5}, {\"GueltigAbDat\": \"2021-09-24T00:00:00\", \"GueltigAbDatJahr\": 2021, \"GueltigAbDatMM\": 9, \"HerkunftLang\": \"Schweizer/in\", \"sum_WBev\": 5}, {\"GueltigAbDat\": \"2021-05-17T00:00:00\", \"GueltigAbDatJahr\": 2021, \"GueltigAbDatMM\": 5, \"HerkunftLang\": \"Schweizer/in\", \"sum_WBev\": 5}, {\"GueltigAbDat\": \"2020-11-13T00:00:00\", \"GueltigAbDatJahr\": 2020, \"GueltigAbDatMM\": 11, \"HerkunftLang\": \"Schweizer/in\", \"sum_WBev\": 5}, {\"GueltigAbDat\": \"2021-05-08T00:00:00\", \"GueltigAbDatJahr\": 2021, \"GueltigAbDatMM\": 5, \"HerkunftLang\": \"Ausl\\u00e4nder/in\", \"sum_WBev\": 5}, {\"GueltigAbDat\": \"2021-03-03T00:00:00\", \"GueltigAbDatJahr\": 2021, \"GueltigAbDatMM\": 3, \"HerkunftLang\": \"Schweizer/in\", \"sum_WBev\": 5}, {\"GueltigAbDat\": \"2021-02-05T00:00:00\", \"GueltigAbDatJahr\": 2021, \"GueltigAbDatMM\": 2, \"HerkunftLang\": \"Schweizer/in\", \"sum_WBev\": 5}, {\"GueltigAbDat\": \"2021-08-08T00:00:00\", \"GueltigAbDatJahr\": 2021, \"GueltigAbDatMM\": 8, \"HerkunftLang\": \"Schweizer/in\", \"sum_WBev\": 5}, {\"GueltigAbDat\": \"2021-09-25T00:00:00\", \"GueltigAbDatJahr\": 2021, \"GueltigAbDatMM\": 9, \"HerkunftLang\": \"Schweizer/in\", \"sum_WBev\": 5}, {\"GueltigAbDat\": \"2021-10-15T00:00:00\", \"GueltigAbDatJahr\": 2021, \"GueltigAbDatMM\": 10, \"HerkunftLang\": \"Schweizer/in\", \"sum_WBev\": 5}, {\"GueltigAbDat\": \"2021-09-23T00:00:00\", \"GueltigAbDatJahr\": 2021, \"GueltigAbDatMM\": 9, \"HerkunftLang\": \"Schweizer/in\", \"sum_WBev\": 5}, {\"GueltigAbDat\": \"2021-05-29T00:00:00\", \"GueltigAbDatJahr\": 2021, \"GueltigAbDatMM\": 5, \"HerkunftLang\": \"Schweizer/in\", \"sum_WBev\": 5}, {\"GueltigAbDat\": \"2021-09-08T00:00:00\", \"GueltigAbDatJahr\": 2021, \"GueltigAbDatMM\": 9, \"HerkunftLang\": \"Schweizer/in\", \"sum_WBev\": 5}, {\"GueltigAbDat\": \"2021-05-01T00:00:00\", \"GueltigAbDatJahr\": 2021, \"GueltigAbDatMM\": 5, \"HerkunftLang\": \"Schweizer/in\", \"sum_WBev\": 5}, {\"GueltigAbDat\": \"2021-01-17T00:00:00\", \"GueltigAbDatJahr\": 2021, \"GueltigAbDatMM\": 1, \"HerkunftLang\": \"Schweizer/in\", \"sum_WBev\": 5}, {\"GueltigAbDat\": \"2021-04-03T00:00:00\", \"GueltigAbDatJahr\": 2021, \"GueltigAbDatMM\": 4, \"HerkunftLang\": \"Schweizer/in\", \"sum_WBev\": 5}, {\"GueltigAbDat\": \"2021-04-02T00:00:00\", \"GueltigAbDatJahr\": 2021, \"GueltigAbDatMM\": 4, \"HerkunftLang\": \"Schweizer/in\", \"sum_WBev\": 5}, {\"GueltigAbDat\": \"2021-10-25T00:00:00\", \"GueltigAbDatJahr\": 2021, \"GueltigAbDatMM\": 10, \"HerkunftLang\": \"Schweizer/in\", \"sum_WBev\": 5}, {\"GueltigAbDat\": \"2021-10-29T00:00:00\", \"GueltigAbDatJahr\": 2021, \"GueltigAbDatMM\": 10, \"HerkunftLang\": \"Schweizer/in\", \"sum_WBev\": 5}, {\"GueltigAbDat\": \"2021-03-29T00:00:00\", \"GueltigAbDatJahr\": 2021, \"GueltigAbDatMM\": 3, \"HerkunftLang\": \"Schweizer/in\", \"sum_WBev\": 5}, {\"GueltigAbDat\": \"2021-11-08T00:00:00\", \"GueltigAbDatJahr\": 2021, \"GueltigAbDatMM\": 11, \"HerkunftLang\": \"Schweizer/in\", \"sum_WBev\": 5}, {\"GueltigAbDat\": \"2021-09-19T00:00:00\", \"GueltigAbDatJahr\": 2021, \"GueltigAbDatMM\": 9, \"HerkunftLang\": \"Schweizer/in\", \"sum_WBev\": 5}, {\"GueltigAbDat\": \"2021-10-31T00:00:00\", \"GueltigAbDatJahr\": 2021, \"GueltigAbDatMM\": 10, \"HerkunftLang\": \"Schweizer/in\", \"sum_WBev\": 5}, {\"GueltigAbDat\": \"2021-10-21T00:00:00\", \"GueltigAbDatJahr\": 2021, \"GueltigAbDatMM\": 10, \"HerkunftLang\": \"Schweizer/in\", \"sum_WBev\": 5}, {\"GueltigAbDat\": \"2021-07-29T00:00:00\", \"GueltigAbDatJahr\": 2021, \"GueltigAbDatMM\": 7, \"HerkunftLang\": \"Schweizer/in\", \"sum_WBev\": 5}, {\"GueltigAbDat\": \"2021-07-12T00:00:00\", \"GueltigAbDatJahr\": 2021, \"GueltigAbDatMM\": 7, \"HerkunftLang\": \"Schweizer/in\", \"sum_WBev\": 5}, {\"GueltigAbDat\": \"2020-12-21T00:00:00\", \"GueltigAbDatJahr\": 2020, \"GueltigAbDatMM\": 12, \"HerkunftLang\": \"Ausl\\u00e4nder/in\", \"sum_WBev\": 5}, {\"GueltigAbDat\": \"2021-07-11T00:00:00\", \"GueltigAbDatJahr\": 2021, \"GueltigAbDatMM\": 7, \"HerkunftLang\": \"Schweizer/in\", \"sum_WBev\": 5}, {\"GueltigAbDat\": \"2020-11-07T00:00:00\", \"GueltigAbDatJahr\": 2020, \"GueltigAbDatMM\": 11, \"HerkunftLang\": \"Schweizer/in\", \"sum_WBev\": 5}, {\"GueltigAbDat\": \"2021-04-23T00:00:00\", \"GueltigAbDatJahr\": 2021, \"GueltigAbDatMM\": 4, \"HerkunftLang\": \"Schweizer/in\", \"sum_WBev\": 5}, {\"GueltigAbDat\": \"2020-11-09T00:00:00\", \"GueltigAbDatJahr\": 2020, \"GueltigAbDatMM\": 11, \"HerkunftLang\": \"Schweizer/in\", \"sum_WBev\": 5}, {\"GueltigAbDat\": \"2021-09-11T00:00:00\", \"GueltigAbDatJahr\": 2021, \"GueltigAbDatMM\": 9, \"HerkunftLang\": \"Schweizer/in\", \"sum_WBev\": 5}, {\"GueltigAbDat\": \"2021-07-07T00:00:00\", \"GueltigAbDatJahr\": 2021, \"GueltigAbDatMM\": 7, \"HerkunftLang\": \"Schweizer/in\", \"sum_WBev\": 5}, {\"GueltigAbDat\": \"2021-09-10T00:00:00\", \"GueltigAbDatJahr\": 2021, \"GueltigAbDatMM\": 9, \"HerkunftLang\": \"Schweizer/in\", \"sum_WBev\": 5}, {\"GueltigAbDat\": \"2021-10-19T00:00:00\", \"GueltigAbDatJahr\": 2021, \"GueltigAbDatMM\": 10, \"HerkunftLang\": \"Schweizer/in\", \"sum_WBev\": 5}, {\"GueltigAbDat\": \"2021-09-22T00:00:00\", \"GueltigAbDatJahr\": 2021, \"GueltigAbDatMM\": 9, \"HerkunftLang\": \"Schweizer/in\", \"sum_WBev\": 5}, {\"GueltigAbDat\": \"2021-02-26T00:00:00\", \"GueltigAbDatJahr\": 2021, \"GueltigAbDatMM\": 2, \"HerkunftLang\": \"Schweizer/in\", \"sum_WBev\": 5}, {\"GueltigAbDat\": \"2021-03-04T00:00:00\", \"GueltigAbDatJahr\": 2021, \"GueltigAbDatMM\": 3, \"HerkunftLang\": \"Schweizer/in\", \"sum_WBev\": 5}, {\"GueltigAbDat\": \"2021-02-23T00:00:00\", \"GueltigAbDatJahr\": 2021, \"GueltigAbDatMM\": 2, \"HerkunftLang\": \"Schweizer/in\", \"sum_WBev\": 4}, {\"GueltigAbDat\": \"2021-06-06T00:00:00\", \"GueltigAbDatJahr\": 2021, \"GueltigAbDatMM\": 6, \"HerkunftLang\": \"Schweizer/in\", \"sum_WBev\": 4}, {\"GueltigAbDat\": \"2021-10-05T00:00:00\", \"GueltigAbDatJahr\": 2021, \"GueltigAbDatMM\": 10, \"HerkunftLang\": \"Schweizer/in\", \"sum_WBev\": 4}, {\"GueltigAbDat\": \"2021-02-22T00:00:00\", \"GueltigAbDatJahr\": 2021, \"GueltigAbDatMM\": 2, \"HerkunftLang\": \"Schweizer/in\", \"sum_WBev\": 4}, {\"GueltigAbDat\": \"2021-02-22T00:00:00\", \"GueltigAbDatJahr\": 2021, \"GueltigAbDatMM\": 2, \"HerkunftLang\": \"Ausl\\u00e4nder/in\", \"sum_WBev\": 4}, {\"GueltigAbDat\": \"2021-06-04T00:00:00\", \"GueltigAbDatJahr\": 2021, \"GueltigAbDatMM\": 6, \"HerkunftLang\": \"Schweizer/in\", \"sum_WBev\": 4}, {\"GueltigAbDat\": \"2020-12-16T00:00:00\", \"GueltigAbDatJahr\": 2020, \"GueltigAbDatMM\": 12, \"HerkunftLang\": \"Ausl\\u00e4nder/in\", \"sum_WBev\": 4}, {\"GueltigAbDat\": \"2021-06-15T00:00:00\", \"GueltigAbDatJahr\": 2021, \"GueltigAbDatMM\": 6, \"HerkunftLang\": \"Ausl\\u00e4nder/in\", \"sum_WBev\": 4}, {\"GueltigAbDat\": \"2020-11-20T00:00:00\", \"GueltigAbDatJahr\": 2020, \"GueltigAbDatMM\": 11, \"HerkunftLang\": \"Ausl\\u00e4nder/in\", \"sum_WBev\": 4}, {\"GueltigAbDat\": \"2021-08-11T00:00:00\", \"GueltigAbDatJahr\": 2021, \"GueltigAbDatMM\": 8, \"HerkunftLang\": \"Schweizer/in\", \"sum_WBev\": 4}, {\"GueltigAbDat\": \"2020-11-18T00:00:00\", \"GueltigAbDatJahr\": 2020, \"GueltigAbDatMM\": 11, \"HerkunftLang\": \"Ausl\\u00e4nder/in\", \"sum_WBev\": 4}, {\"GueltigAbDat\": \"2021-08-09T00:00:00\", \"GueltigAbDatJahr\": 2021, \"GueltigAbDatMM\": 8, \"HerkunftLang\": \"Schweizer/in\", \"sum_WBev\": 4}, {\"GueltigAbDat\": \"2021-02-03T00:00:00\", \"GueltigAbDatJahr\": 2021, \"GueltigAbDatMM\": 2, \"HerkunftLang\": \"Schweizer/in\", \"sum_WBev\": 4}, {\"GueltigAbDat\": \"2020-11-13T00:00:00\", \"GueltigAbDatJahr\": 2020, \"GueltigAbDatMM\": 11, \"HerkunftLang\": \"Ausl\\u00e4nder/in\", \"sum_WBev\": 4}, {\"GueltigAbDat\": \"2021-06-28T00:00:00\", \"GueltigAbDatJahr\": 2021, \"GueltigAbDatMM\": 6, \"HerkunftLang\": \"Schweizer/in\", \"sum_WBev\": 4}, {\"GueltigAbDat\": \"2021-06-30T00:00:00\", \"GueltigAbDatJahr\": 2021, \"GueltigAbDatMM\": 6, \"HerkunftLang\": \"Ausl\\u00e4nder/in\", \"sum_WBev\": 4}, {\"GueltigAbDat\": \"2021-01-30T00:00:00\", \"GueltigAbDatJahr\": 2021, \"GueltigAbDatMM\": 1, \"HerkunftLang\": \"Schweizer/in\", \"sum_WBev\": 4}, {\"GueltigAbDat\": \"2021-07-04T00:00:00\", \"GueltigAbDatJahr\": 2021, \"GueltigAbDatMM\": 7, \"HerkunftLang\": \"Schweizer/in\", \"sum_WBev\": 4}, {\"GueltigAbDat\": \"2021-08-01T00:00:00\", \"GueltigAbDatJahr\": 2021, \"GueltigAbDatMM\": 8, \"HerkunftLang\": \"Schweizer/in\", \"sum_WBev\": 4}, {\"GueltigAbDat\": \"2021-01-09T00:00:00\", \"GueltigAbDatJahr\": 2021, \"GueltigAbDatMM\": 1, \"HerkunftLang\": \"Ausl\\u00e4nder/in\", \"sum_WBev\": 4}, {\"GueltigAbDat\": \"2020-11-05T00:00:00\", \"GueltigAbDatJahr\": 2020, \"GueltigAbDatMM\": 11, \"HerkunftLang\": \"Ausl\\u00e4nder/in\", \"sum_WBev\": 4}, {\"GueltigAbDat\": \"2020-11-04T00:00:00\", \"GueltigAbDatJahr\": 2020, \"GueltigAbDatMM\": 11, \"HerkunftLang\": \"Schweizer/in\", \"sum_WBev\": 4}, {\"GueltigAbDat\": \"2021-02-02T00:00:00\", \"GueltigAbDatJahr\": 2021, \"GueltigAbDatMM\": 2, \"HerkunftLang\": \"Ausl\\u00e4nder/in\", \"sum_WBev\": 4}, {\"GueltigAbDat\": \"2021-04-24T00:00:00\", \"GueltigAbDatJahr\": 2021, \"GueltigAbDatMM\": 4, \"HerkunftLang\": \"Schweizer/in\", \"sum_WBev\": 4}, {\"GueltigAbDat\": \"2020-12-24T00:00:00\", \"GueltigAbDatJahr\": 2020, \"GueltigAbDatMM\": 12, \"HerkunftLang\": \"Ausl\\u00e4nder/in\", \"sum_WBev\": 4}, {\"GueltigAbDat\": \"2021-03-02T00:00:00\", \"GueltigAbDatJahr\": 2021, \"GueltigAbDatMM\": 3, \"HerkunftLang\": \"Schweizer/in\", \"sum_WBev\": 4}, {\"GueltigAbDat\": \"2021-04-23T00:00:00\", \"GueltigAbDatJahr\": 2021, \"GueltigAbDatMM\": 4, \"HerkunftLang\": \"Ausl\\u00e4nder/in\", \"sum_WBev\": 4}, {\"GueltigAbDat\": \"2020-12-22T00:00:00\", \"GueltigAbDatJahr\": 2020, \"GueltigAbDatMM\": 12, \"HerkunftLang\": \"Ausl\\u00e4nder/in\", \"sum_WBev\": 4}, {\"GueltigAbDat\": \"2021-04-19T00:00:00\", \"GueltigAbDatJahr\": 2021, \"GueltigAbDatMM\": 4, \"HerkunftLang\": \"Ausl\\u00e4nder/in\", \"sum_WBev\": 4}, {\"GueltigAbDat\": \"2021-08-26T00:00:00\", \"GueltigAbDatJahr\": 2021, \"GueltigAbDatMM\": 8, \"HerkunftLang\": \"Schweizer/in\", \"sum_WBev\": 4}, {\"GueltigAbDat\": \"2021-05-03T00:00:00\", \"GueltigAbDatJahr\": 2021, \"GueltigAbDatMM\": 5, \"HerkunftLang\": \"Schweizer/in\", \"sum_WBev\": 4}, {\"GueltigAbDat\": \"2021-05-22T00:00:00\", \"GueltigAbDatJahr\": 2021, \"GueltigAbDatMM\": 5, \"HerkunftLang\": \"Schweizer/in\", \"sum_WBev\": 4}, {\"GueltigAbDat\": \"2020-11-28T00:00:00\", \"GueltigAbDatJahr\": 2020, \"GueltigAbDatMM\": 11, \"HerkunftLang\": \"Ausl\\u00e4nder/in\", \"sum_WBev\": 4}, {\"GueltigAbDat\": \"2021-03-21T00:00:00\", \"GueltigAbDatJahr\": 2021, \"GueltigAbDatMM\": 3, \"HerkunftLang\": \"Ausl\\u00e4nder/in\", \"sum_WBev\": 4}, {\"GueltigAbDat\": \"2021-09-13T00:00:00\", \"GueltigAbDatJahr\": 2021, \"GueltigAbDatMM\": 9, \"HerkunftLang\": \"Schweizer/in\", \"sum_WBev\": 4}, {\"GueltigAbDat\": \"2021-05-13T00:00:00\", \"GueltigAbDatJahr\": 2021, \"GueltigAbDatMM\": 5, \"HerkunftLang\": \"Schweizer/in\", \"sum_WBev\": 4}, {\"GueltigAbDat\": \"2021-05-01T00:00:00\", \"GueltigAbDatJahr\": 2021, \"GueltigAbDatMM\": 5, \"HerkunftLang\": \"Ausl\\u00e4nder/in\", \"sum_WBev\": 4}, {\"GueltigAbDat\": \"2021-03-26T00:00:00\", \"GueltigAbDatJahr\": 2021, \"GueltigAbDatMM\": 3, \"HerkunftLang\": \"Schweizer/in\", \"sum_WBev\": 4}, {\"GueltigAbDat\": \"2021-05-05T00:00:00\", \"GueltigAbDatJahr\": 2021, \"GueltigAbDatMM\": 5, \"HerkunftLang\": \"Schweizer/in\", \"sum_WBev\": 4}, {\"GueltigAbDat\": \"2021-03-11T00:00:00\", \"GueltigAbDatJahr\": 2021, \"GueltigAbDatMM\": 3, \"HerkunftLang\": \"Schweizer/in\", \"sum_WBev\": 4}, {\"GueltigAbDat\": \"2021-03-28T00:00:00\", \"GueltigAbDatJahr\": 2021, \"GueltigAbDatMM\": 3, \"HerkunftLang\": \"Schweizer/in\", \"sum_WBev\": 4}, {\"GueltigAbDat\": \"2021-09-18T00:00:00\", \"GueltigAbDatJahr\": 2021, \"GueltigAbDatMM\": 9, \"HerkunftLang\": \"Ausl\\u00e4nder/in\", \"sum_WBev\": 4}, {\"GueltigAbDat\": \"2021-02-25T00:00:00\", \"GueltigAbDatJahr\": 2021, \"GueltigAbDatMM\": 2, \"HerkunftLang\": \"Schweizer/in\", \"sum_WBev\": 4}, {\"GueltigAbDat\": \"2021-03-12T00:00:00\", \"GueltigAbDatJahr\": 2021, \"GueltigAbDatMM\": 3, \"HerkunftLang\": \"Schweizer/in\", \"sum_WBev\": 4}, {\"GueltigAbDat\": \"2021-03-13T00:00:00\", \"GueltigAbDatJahr\": 2021, \"GueltigAbDatMM\": 3, \"HerkunftLang\": \"Schweizer/in\", \"sum_WBev\": 4}, {\"GueltigAbDat\": \"2021-03-16T00:00:00\", \"GueltigAbDatJahr\": 2021, \"GueltigAbDatMM\": 3, \"HerkunftLang\": \"Schweizer/in\", \"sum_WBev\": 3}, {\"GueltigAbDat\": \"2021-01-31T00:00:00\", \"GueltigAbDatJahr\": 2021, \"GueltigAbDatMM\": 1, \"HerkunftLang\": \"Schweizer/in\", \"sum_WBev\": 3}, {\"GueltigAbDat\": \"2021-08-21T00:00:00\", \"GueltigAbDatJahr\": 2021, \"GueltigAbDatMM\": 8, \"HerkunftLang\": \"Ausl\\u00e4nder/in\", \"sum_WBev\": 3}, {\"GueltigAbDat\": \"2021-08-04T00:00:00\", \"GueltigAbDatJahr\": 2021, \"GueltigAbDatMM\": 8, \"HerkunftLang\": \"Schweizer/in\", \"sum_WBev\": 3}, {\"GueltigAbDat\": \"2021-09-06T00:00:00\", \"GueltigAbDatJahr\": 2021, \"GueltigAbDatMM\": 9, \"HerkunftLang\": \"Schweizer/in\", \"sum_WBev\": 3}, {\"GueltigAbDat\": \"2021-05-05T00:00:00\", \"GueltigAbDatJahr\": 2021, \"GueltigAbDatMM\": 5, \"HerkunftLang\": \"Ausl\\u00e4nder/in\", \"sum_WBev\": 3}, {\"GueltigAbDat\": \"2021-07-04T00:00:00\", \"GueltigAbDatJahr\": 2021, \"GueltigAbDatMM\": 7, \"HerkunftLang\": \"Ausl\\u00e4nder/in\", \"sum_WBev\": 3}, {\"GueltigAbDat\": \"2021-07-09T00:00:00\", \"GueltigAbDatJahr\": 2021, \"GueltigAbDatMM\": 7, \"HerkunftLang\": \"Ausl\\u00e4nder/in\", \"sum_WBev\": 3}, {\"GueltigAbDat\": \"2021-07-05T00:00:00\", \"GueltigAbDatJahr\": 2021, \"GueltigAbDatMM\": 7, \"HerkunftLang\": \"Ausl\\u00e4nder/in\", \"sum_WBev\": 3}, {\"GueltigAbDat\": \"2021-01-29T00:00:00\", \"GueltigAbDatJahr\": 2021, \"GueltigAbDatMM\": 1, \"HerkunftLang\": \"Ausl\\u00e4nder/in\", \"sum_WBev\": 3}, {\"GueltigAbDat\": \"2021-07-06T00:00:00\", \"GueltigAbDatJahr\": 2021, \"GueltigAbDatMM\": 7, \"HerkunftLang\": \"Schweizer/in\", \"sum_WBev\": 3}, {\"GueltigAbDat\": \"2021-09-11T00:00:00\", \"GueltigAbDatJahr\": 2021, \"GueltigAbDatMM\": 9, \"HerkunftLang\": \"Ausl\\u00e4nder/in\", \"sum_WBev\": 3}, {\"GueltigAbDat\": \"2020-12-08T00:00:00\", \"GueltigAbDatJahr\": 2020, \"GueltigAbDatMM\": 12, \"HerkunftLang\": \"Ausl\\u00e4nder/in\", \"sum_WBev\": 3}, {\"GueltigAbDat\": \"2021-05-07T00:00:00\", \"GueltigAbDatJahr\": 2021, \"GueltigAbDatMM\": 5, \"HerkunftLang\": \"Ausl\\u00e4nder/in\", \"sum_WBev\": 3}, {\"GueltigAbDat\": \"2021-01-10T00:00:00\", \"GueltigAbDatJahr\": 2021, \"GueltigAbDatMM\": 1, \"HerkunftLang\": \"Schweizer/in\", \"sum_WBev\": 3}, {\"GueltigAbDat\": \"2020-11-06T00:00:00\", \"GueltigAbDatJahr\": 2020, \"GueltigAbDatMM\": 11, \"HerkunftLang\": \"Ausl\\u00e4nder/in\", \"sum_WBev\": 3}, {\"GueltigAbDat\": \"2020-12-19T00:00:00\", \"GueltigAbDatJahr\": 2020, \"GueltigAbDatMM\": 12, \"HerkunftLang\": \"Ausl\\u00e4nder/in\", \"sum_WBev\": 3}, {\"GueltigAbDat\": \"2021-01-26T00:00:00\", \"GueltigAbDatJahr\": 2021, \"GueltigAbDatMM\": 1, \"HerkunftLang\": \"Ausl\\u00e4nder/in\", \"sum_WBev\": 3}, {\"GueltigAbDat\": \"2021-10-22T00:00:00\", \"GueltigAbDatJahr\": 2021, \"GueltigAbDatMM\": 10, \"HerkunftLang\": \"Schweizer/in\", \"sum_WBev\": 3}, {\"GueltigAbDat\": \"2021-07-27T00:00:00\", \"GueltigAbDatJahr\": 2021, \"GueltigAbDatMM\": 7, \"HerkunftLang\": \"Ausl\\u00e4nder/in\", \"sum_WBev\": 3}, {\"GueltigAbDat\": \"2021-09-15T00:00:00\", \"GueltigAbDatJahr\": 2021, \"GueltigAbDatMM\": 9, \"HerkunftLang\": \"Ausl\\u00e4nder/in\", \"sum_WBev\": 3}, {\"GueltigAbDat\": \"2021-04-12T00:00:00\", \"GueltigAbDatJahr\": 2021, \"GueltigAbDatMM\": 4, \"HerkunftLang\": \"Ausl\\u00e4nder/in\", \"sum_WBev\": 3}, {\"GueltigAbDat\": \"2021-03-30T00:00:00\", \"GueltigAbDatJahr\": 2021, \"GueltigAbDatMM\": 3, \"HerkunftLang\": \"Schweizer/in\", \"sum_WBev\": 3}, {\"GueltigAbDat\": \"2021-04-04T00:00:00\", \"GueltigAbDatJahr\": 2021, \"GueltigAbDatMM\": 4, \"HerkunftLang\": \"Ausl\\u00e4nder/in\", \"sum_WBev\": 3}, {\"GueltigAbDat\": \"2021-01-03T00:00:00\", \"GueltigAbDatJahr\": 2021, \"GueltigAbDatMM\": 1, \"HerkunftLang\": \"Ausl\\u00e4nder/in\", \"sum_WBev\": 3}, {\"GueltigAbDat\": \"2020-12-04T00:00:00\", \"GueltigAbDatJahr\": 2020, \"GueltigAbDatMM\": 12, \"HerkunftLang\": \"Ausl\\u00e4nder/in\", \"sum_WBev\": 3}, {\"GueltigAbDat\": \"2021-10-15T00:00:00\", \"GueltigAbDatJahr\": 2021, \"GueltigAbDatMM\": 10, \"HerkunftLang\": \"Ausl\\u00e4nder/in\", \"sum_WBev\": 3}, {\"GueltigAbDat\": \"2021-08-14T00:00:00\", \"GueltigAbDatJahr\": 2021, \"GueltigAbDatMM\": 8, \"HerkunftLang\": \"Schweizer/in\", \"sum_WBev\": 3}, {\"GueltigAbDat\": \"2021-05-23T00:00:00\", \"GueltigAbDatJahr\": 2021, \"GueltigAbDatMM\": 5, \"HerkunftLang\": \"Schweizer/in\", \"sum_WBev\": 3}, {\"GueltigAbDat\": \"2020-12-31T00:00:00\", \"GueltigAbDatJahr\": 2020, \"GueltigAbDatMM\": 12, \"HerkunftLang\": \"Ausl\\u00e4nder/in\", \"sum_WBev\": 3}, {\"GueltigAbDat\": \"2020-12-29T00:00:00\", \"GueltigAbDatJahr\": 2020, \"GueltigAbDatMM\": 12, \"HerkunftLang\": \"Ausl\\u00e4nder/in\", \"sum_WBev\": 3}, {\"GueltigAbDat\": \"2021-10-11T00:00:00\", \"GueltigAbDatJahr\": 2021, \"GueltigAbDatMM\": 10, \"HerkunftLang\": \"Ausl\\u00e4nder/in\", \"sum_WBev\": 3}, {\"GueltigAbDat\": \"2021-10-02T00:00:00\", \"GueltigAbDatJahr\": 2021, \"GueltigAbDatMM\": 10, \"HerkunftLang\": \"Ausl\\u00e4nder/in\", \"sum_WBev\": 3}, {\"GueltigAbDat\": \"2021-05-27T00:00:00\", \"GueltigAbDatJahr\": 2021, \"GueltigAbDatMM\": 5, \"HerkunftLang\": \"Ausl\\u00e4nder/in\", \"sum_WBev\": 3}, {\"GueltigAbDat\": \"2021-08-13T00:00:00\", \"GueltigAbDatJahr\": 2021, \"GueltigAbDatMM\": 8, \"HerkunftLang\": \"Ausl\\u00e4nder/in\", \"sum_WBev\": 3}, {\"GueltigAbDat\": \"2021-02-20T00:00:00\", \"GueltigAbDatJahr\": 2021, \"GueltigAbDatMM\": 2, \"HerkunftLang\": \"Schweizer/in\", \"sum_WBev\": 3}, {\"GueltigAbDat\": \"2021-06-17T00:00:00\", \"GueltigAbDatJahr\": 2021, \"GueltigAbDatMM\": 6, \"HerkunftLang\": \"Schweizer/in\", \"sum_WBev\": 3}, {\"GueltigAbDat\": \"2020-11-19T00:00:00\", \"GueltigAbDatJahr\": 2020, \"GueltigAbDatMM\": 11, \"HerkunftLang\": \"Ausl\\u00e4nder/in\", \"sum_WBev\": 3}, {\"GueltigAbDat\": \"2020-12-25T00:00:00\", \"GueltigAbDatJahr\": 2020, \"GueltigAbDatMM\": 12, \"HerkunftLang\": \"Ausl\\u00e4nder/in\", \"sum_WBev\": 3}, {\"GueltigAbDat\": \"2021-06-23T00:00:00\", \"GueltigAbDatJahr\": 2021, \"GueltigAbDatMM\": 6, \"HerkunftLang\": \"Ausl\\u00e4nder/in\", \"sum_WBev\": 3}, {\"GueltigAbDat\": \"2021-05-14T00:00:00\", \"GueltigAbDatJahr\": 2021, \"GueltigAbDatMM\": 5, \"HerkunftLang\": \"Ausl\\u00e4nder/in\", \"sum_WBev\": 3}, {\"GueltigAbDat\": \"2020-11-16T00:00:00\", \"GueltigAbDatJahr\": 2020, \"GueltigAbDatMM\": 11, \"HerkunftLang\": \"Ausl\\u00e4nder/in\", \"sum_WBev\": 3}, {\"GueltigAbDat\": \"2020-11-26T00:00:00\", \"GueltigAbDatJahr\": 2020, \"GueltigAbDatMM\": 11, \"HerkunftLang\": \"Ausl\\u00e4nder/in\", \"sum_WBev\": 3}, {\"GueltigAbDat\": \"2021-06-08T00:00:00\", \"GueltigAbDatJahr\": 2021, \"GueltigAbDatMM\": 6, \"HerkunftLang\": \"Schweizer/in\", \"sum_WBev\": 3}, {\"GueltigAbDat\": \"2020-12-26T00:00:00\", \"GueltigAbDatJahr\": 2020, \"GueltigAbDatMM\": 12, \"HerkunftLang\": \"Ausl\\u00e4nder/in\", \"sum_WBev\": 3}, {\"GueltigAbDat\": \"2021-06-19T00:00:00\", \"GueltigAbDatJahr\": 2021, \"GueltigAbDatMM\": 6, \"HerkunftLang\": \"Ausl\\u00e4nder/in\", \"sum_WBev\": 3}, {\"GueltigAbDat\": \"2021-08-18T00:00:00\", \"GueltigAbDatJahr\": 2021, \"GueltigAbDatMM\": 8, \"HerkunftLang\": \"Schweizer/in\", \"sum_WBev\": 2}, {\"GueltigAbDat\": \"2021-10-23T00:00:00\", \"GueltigAbDatJahr\": 2021, \"GueltigAbDatMM\": 10, \"HerkunftLang\": \"Ausl\\u00e4nder/in\", \"sum_WBev\": 2}, {\"GueltigAbDat\": \"2021-07-26T00:00:00\", \"GueltigAbDatJahr\": 2021, \"GueltigAbDatMM\": 7, \"HerkunftLang\": \"Ausl\\u00e4nder/in\", \"sum_WBev\": 2}, {\"GueltigAbDat\": \"2021-08-18T00:00:00\", \"GueltigAbDatJahr\": 2021, \"GueltigAbDatMM\": 8, \"HerkunftLang\": \"Ausl\\u00e4nder/in\", \"sum_WBev\": 2}, {\"GueltigAbDat\": \"2021-11-01T00:00:00\", \"GueltigAbDatJahr\": 2021, \"GueltigAbDatMM\": 11, \"HerkunftLang\": \"Ausl\\u00e4nder/in\", \"sum_WBev\": 2}, {\"GueltigAbDat\": \"2021-11-21T00:00:00\", \"GueltigAbDatJahr\": 2021, \"GueltigAbDatMM\": 11, \"HerkunftLang\": \"Ausl\\u00e4nder/in\", \"sum_WBev\": 2}, {\"GueltigAbDat\": \"2021-08-23T00:00:00\", \"GueltigAbDatJahr\": 2021, \"GueltigAbDatMM\": 8, \"HerkunftLang\": \"Ausl\\u00e4nder/in\", \"sum_WBev\": 2}, {\"GueltigAbDat\": \"2021-09-13T00:00:00\", \"GueltigAbDatJahr\": 2021, \"GueltigAbDatMM\": 9, \"HerkunftLang\": \"Ausl\\u00e4nder/in\", \"sum_WBev\": 2}, {\"GueltigAbDat\": \"2021-09-16T00:00:00\", \"GueltigAbDatJahr\": 2021, \"GueltigAbDatMM\": 9, \"HerkunftLang\": \"Ausl\\u00e4nder/in\", \"sum_WBev\": 2}, {\"GueltigAbDat\": \"2021-08-20T00:00:00\", \"GueltigAbDatJahr\": 2021, \"GueltigAbDatMM\": 8, \"HerkunftLang\": \"Ausl\\u00e4nder/in\", \"sum_WBev\": 2}, {\"GueltigAbDat\": \"2021-08-01T00:00:00\", \"GueltigAbDatJahr\": 2021, \"GueltigAbDatMM\": 8, \"HerkunftLang\": \"Ausl\\u00e4nder/in\", \"sum_WBev\": 2}, {\"GueltigAbDat\": \"2021-11-23T00:00:00\", \"GueltigAbDatJahr\": 2021, \"GueltigAbDatMM\": 11, \"HerkunftLang\": \"Ausl\\u00e4nder/in\", \"sum_WBev\": 2}, {\"GueltigAbDat\": \"2021-08-14T00:00:00\", \"GueltigAbDatJahr\": 2021, \"GueltigAbDatMM\": 8, \"HerkunftLang\": \"Ausl\\u00e4nder/in\", \"sum_WBev\": 2}, {\"GueltigAbDat\": \"2021-09-21T00:00:00\", \"GueltigAbDatJahr\": 2021, \"GueltigAbDatMM\": 9, \"HerkunftLang\": \"Ausl\\u00e4nder/in\", \"sum_WBev\": 2}, {\"GueltigAbDat\": \"2021-10-18T00:00:00\", \"GueltigAbDatJahr\": 2021, \"GueltigAbDatMM\": 10, \"HerkunftLang\": \"Ausl\\u00e4nder/in\", \"sum_WBev\": 2}, {\"GueltigAbDat\": \"2021-09-12T00:00:00\", \"GueltigAbDatJahr\": 2021, \"GueltigAbDatMM\": 9, \"HerkunftLang\": \"Ausl\\u00e4nder/in\", \"sum_WBev\": 2}, {\"GueltigAbDat\": \"2021-10-26T00:00:00\", \"GueltigAbDatJahr\": 2021, \"GueltigAbDatMM\": 10, \"HerkunftLang\": \"Ausl\\u00e4nder/in\", \"sum_WBev\": 2}, {\"GueltigAbDat\": \"2021-11-07T00:00:00\", \"GueltigAbDatJahr\": 2021, \"GueltigAbDatMM\": 11, \"HerkunftLang\": \"Ausl\\u00e4nder/in\", \"sum_WBev\": 2}, {\"GueltigAbDat\": \"2021-08-28T00:00:00\", \"GueltigAbDatJahr\": 2021, \"GueltigAbDatMM\": 8, \"HerkunftLang\": \"Ausl\\u00e4nder/in\", \"sum_WBev\": 2}, {\"GueltigAbDat\": \"2021-08-02T00:00:00\", \"GueltigAbDatJahr\": 2021, \"GueltigAbDatMM\": 8, \"HerkunftLang\": \"Ausl\\u00e4nder/in\", \"sum_WBev\": 2}, {\"GueltigAbDat\": \"2021-10-13T00:00:00\", \"GueltigAbDatJahr\": 2021, \"GueltigAbDatMM\": 10, \"HerkunftLang\": \"Ausl\\u00e4nder/in\", \"sum_WBev\": 2}, {\"GueltigAbDat\": \"2021-08-29T00:00:00\", \"GueltigAbDatJahr\": 2021, \"GueltigAbDatMM\": 8, \"HerkunftLang\": \"Schweizer/in\", \"sum_WBev\": 2}, {\"GueltigAbDat\": \"2021-11-27T00:00:00\", \"GueltigAbDatJahr\": 2021, \"GueltigAbDatMM\": 11, \"HerkunftLang\": \"Ausl\\u00e4nder/in\", \"sum_WBev\": 2}, {\"GueltigAbDat\": \"2021-09-10T00:00:00\", \"GueltigAbDatJahr\": 2021, \"GueltigAbDatMM\": 9, \"HerkunftLang\": \"Ausl\\u00e4nder/in\", \"sum_WBev\": 2}, {\"GueltigAbDat\": \"2021-11-20T00:00:00\", \"GueltigAbDatJahr\": 2021, \"GueltigAbDatMM\": 11, \"HerkunftLang\": \"Ausl\\u00e4nder/in\", \"sum_WBev\": 2}, {\"GueltigAbDat\": \"2021-09-27T00:00:00\", \"GueltigAbDatJahr\": 2021, \"GueltigAbDatMM\": 9, \"HerkunftLang\": \"Ausl\\u00e4nder/in\", \"sum_WBev\": 2}, {\"GueltigAbDat\": \"2021-09-24T00:00:00\", \"GueltigAbDatJahr\": 2021, \"GueltigAbDatMM\": 9, \"HerkunftLang\": \"Ausl\\u00e4nder/in\", \"sum_WBev\": 2}, {\"GueltigAbDat\": \"2020-11-01T00:00:00\", \"GueltigAbDatJahr\": 2020, \"GueltigAbDatMM\": 11, \"HerkunftLang\": \"Schweizer/in\", \"sum_WBev\": 2}, {\"GueltigAbDat\": \"2021-07-25T00:00:00\", \"GueltigAbDatJahr\": 2021, \"GueltigAbDatMM\": 7, \"HerkunftLang\": \"Ausl\\u00e4nder/in\", \"sum_WBev\": 2}, {\"GueltigAbDat\": \"2021-03-30T00:00:00\", \"GueltigAbDatJahr\": 2021, \"GueltigAbDatMM\": 3, \"HerkunftLang\": \"Ausl\\u00e4nder/in\", \"sum_WBev\": 2}, {\"GueltigAbDat\": \"2021-02-14T00:00:00\", \"GueltigAbDatJahr\": 2021, \"GueltigAbDatMM\": 2, \"HerkunftLang\": \"Ausl\\u00e4nder/in\", \"sum_WBev\": 2}, {\"GueltigAbDat\": \"2021-02-15T00:00:00\", \"GueltigAbDatJahr\": 2021, \"GueltigAbDatMM\": 2, \"HerkunftLang\": \"Ausl\\u00e4nder/in\", \"sum_WBev\": 2}, {\"GueltigAbDat\": \"2021-02-17T00:00:00\", \"GueltigAbDatJahr\": 2021, \"GueltigAbDatMM\": 2, \"HerkunftLang\": \"Ausl\\u00e4nder/in\", \"sum_WBev\": 2}, {\"GueltigAbDat\": \"2021-02-19T00:00:00\", \"GueltigAbDatJahr\": 2021, \"GueltigAbDatMM\": 2, \"HerkunftLang\": \"Ausl\\u00e4nder/in\", \"sum_WBev\": 2}, {\"GueltigAbDat\": \"2021-02-21T00:00:00\", \"GueltigAbDatJahr\": 2021, \"GueltigAbDatMM\": 2, \"HerkunftLang\": \"Ausl\\u00e4nder/in\", \"sum_WBev\": 2}, {\"GueltigAbDat\": \"2021-02-26T00:00:00\", \"GueltigAbDatJahr\": 2021, \"GueltigAbDatMM\": 2, \"HerkunftLang\": \"Ausl\\u00e4nder/in\", \"sum_WBev\": 2}, {\"GueltigAbDat\": \"2021-02-27T00:00:00\", \"GueltigAbDatJahr\": 2021, \"GueltigAbDatMM\": 2, \"HerkunftLang\": \"Schweizer/in\", \"sum_WBev\": 2}, {\"GueltigAbDat\": \"2021-03-02T00:00:00\", \"GueltigAbDatJahr\": 2021, \"GueltigAbDatMM\": 3, \"HerkunftLang\": \"Ausl\\u00e4nder/in\", \"sum_WBev\": 2}, {\"GueltigAbDat\": \"2021-03-05T00:00:00\", \"GueltigAbDatJahr\": 2021, \"GueltigAbDatMM\": 3, \"HerkunftLang\": \"Ausl\\u00e4nder/in\", \"sum_WBev\": 2}, {\"GueltigAbDat\": \"2021-03-26T00:00:00\", \"GueltigAbDatJahr\": 2021, \"GueltigAbDatMM\": 3, \"HerkunftLang\": \"Ausl\\u00e4nder/in\", \"sum_WBev\": 2}, {\"GueltigAbDat\": \"2021-03-27T00:00:00\", \"GueltigAbDatJahr\": 2021, \"GueltigAbDatMM\": 3, \"HerkunftLang\": \"Ausl\\u00e4nder/in\", \"sum_WBev\": 2}, {\"GueltigAbDat\": \"2021-03-31T00:00:00\", \"GueltigAbDatJahr\": 2021, \"GueltigAbDatMM\": 3, \"HerkunftLang\": \"Ausl\\u00e4nder/in\", \"sum_WBev\": 2}, {\"GueltigAbDat\": \"2021-05-20T00:00:00\", \"GueltigAbDatJahr\": 2021, \"GueltigAbDatMM\": 5, \"HerkunftLang\": \"Ausl\\u00e4nder/in\", \"sum_WBev\": 2}, {\"GueltigAbDat\": \"2021-04-09T00:00:00\", \"GueltigAbDatJahr\": 2021, \"GueltigAbDatMM\": 4, \"HerkunftLang\": \"Ausl\\u00e4nder/in\", \"sum_WBev\": 2}, {\"GueltigAbDat\": \"2021-04-10T00:00:00\", \"GueltigAbDatJahr\": 2021, \"GueltigAbDatMM\": 4, \"HerkunftLang\": \"Ausl\\u00e4nder/in\", \"sum_WBev\": 2}, {\"GueltigAbDat\": \"2021-04-16T00:00:00\", \"GueltigAbDatJahr\": 2021, \"GueltigAbDatMM\": 4, \"HerkunftLang\": \"Ausl\\u00e4nder/in\", \"sum_WBev\": 2}, {\"GueltigAbDat\": \"2021-04-16T00:00:00\", \"GueltigAbDatJahr\": 2021, \"GueltigAbDatMM\": 4, \"HerkunftLang\": \"Schweizer/in\", \"sum_WBev\": 2}, {\"GueltigAbDat\": \"2021-04-21T00:00:00\", \"GueltigAbDatJahr\": 2021, \"GueltigAbDatMM\": 4, \"HerkunftLang\": \"Schweizer/in\", \"sum_WBev\": 2}, {\"GueltigAbDat\": \"2021-04-24T00:00:00\", \"GueltigAbDatJahr\": 2021, \"GueltigAbDatMM\": 4, \"HerkunftLang\": \"Ausl\\u00e4nder/in\", \"sum_WBev\": 2}, {\"GueltigAbDat\": \"2021-04-26T00:00:00\", \"GueltigAbDatJahr\": 2021, \"GueltigAbDatMM\": 4, \"HerkunftLang\": \"Ausl\\u00e4nder/in\", \"sum_WBev\": 2}, {\"GueltigAbDat\": \"2021-05-03T00:00:00\", \"GueltigAbDatJahr\": 2021, \"GueltigAbDatMM\": 5, \"HerkunftLang\": \"Ausl\\u00e4nder/in\", \"sum_WBev\": 2}, {\"GueltigAbDat\": \"2021-05-09T00:00:00\", \"GueltigAbDatJahr\": 2021, \"GueltigAbDatMM\": 5, \"HerkunftLang\": \"Ausl\\u00e4nder/in\", \"sum_WBev\": 2}, {\"GueltigAbDat\": \"2021-05-15T00:00:00\", \"GueltigAbDatJahr\": 2021, \"GueltigAbDatMM\": 5, \"HerkunftLang\": \"Schweizer/in\", \"sum_WBev\": 2}, {\"GueltigAbDat\": \"2021-05-17T00:00:00\", \"GueltigAbDatJahr\": 2021, \"GueltigAbDatMM\": 5, \"HerkunftLang\": \"Ausl\\u00e4nder/in\", \"sum_WBev\": 2}, {\"GueltigAbDat\": \"2021-02-12T00:00:00\", \"GueltigAbDatJahr\": 2021, \"GueltigAbDatMM\": 2, \"HerkunftLang\": \"Ausl\\u00e4nder/in\", \"sum_WBev\": 2}, {\"GueltigAbDat\": \"2021-02-06T00:00:00\", \"GueltigAbDatJahr\": 2021, \"GueltigAbDatMM\": 2, \"HerkunftLang\": \"Schweizer/in\", \"sum_WBev\": 2}, {\"GueltigAbDat\": \"2021-02-05T00:00:00\", \"GueltigAbDatJahr\": 2021, \"GueltigAbDatMM\": 2, \"HerkunftLang\": \"Ausl\\u00e4nder/in\", \"sum_WBev\": 2}, {\"GueltigAbDat\": \"2021-02-04T00:00:00\", \"GueltigAbDatJahr\": 2021, \"GueltigAbDatMM\": 2, \"HerkunftLang\": \"Ausl\\u00e4nder/in\", \"sum_WBev\": 2}, {\"GueltigAbDat\": \"2020-11-08T00:00:00\", \"GueltigAbDatJahr\": 2020, \"GueltigAbDatMM\": 11, \"HerkunftLang\": \"Ausl\\u00e4nder/in\", \"sum_WBev\": 2}, {\"GueltigAbDat\": \"2020-11-09T00:00:00\", \"GueltigAbDatJahr\": 2020, \"GueltigAbDatMM\": 11, \"HerkunftLang\": \"Ausl\\u00e4nder/in\", \"sum_WBev\": 2}, {\"GueltigAbDat\": \"2020-11-14T00:00:00\", \"GueltigAbDatJahr\": 2020, \"GueltigAbDatMM\": 11, \"HerkunftLang\": \"Ausl\\u00e4nder/in\", \"sum_WBev\": 2}, {\"GueltigAbDat\": \"2020-11-21T00:00:00\", \"GueltigAbDatJahr\": 2020, \"GueltigAbDatMM\": 11, \"HerkunftLang\": \"Ausl\\u00e4nder/in\", \"sum_WBev\": 2}, {\"GueltigAbDat\": \"2020-11-24T00:00:00\", \"GueltigAbDatJahr\": 2020, \"GueltigAbDatMM\": 11, \"HerkunftLang\": \"Ausl\\u00e4nder/in\", \"sum_WBev\": 2}, {\"GueltigAbDat\": \"2020-11-29T00:00:00\", \"GueltigAbDatJahr\": 2020, \"GueltigAbDatMM\": 11, \"HerkunftLang\": \"Ausl\\u00e4nder/in\", \"sum_WBev\": 2}, {\"GueltigAbDat\": \"2020-12-14T00:00:00\", \"GueltigAbDatJahr\": 2020, \"GueltigAbDatMM\": 12, \"HerkunftLang\": \"Ausl\\u00e4nder/in\", \"sum_WBev\": 2}, {\"GueltigAbDat\": \"2020-12-18T00:00:00\", \"GueltigAbDatJahr\": 2020, \"GueltigAbDatMM\": 12, \"HerkunftLang\": \"Ausl\\u00e4nder/in\", \"sum_WBev\": 2}, {\"GueltigAbDat\": \"2021-01-01T00:00:00\", \"GueltigAbDatJahr\": 2021, \"GueltigAbDatMM\": 1, \"HerkunftLang\": \"Ausl\\u00e4nder/in\", \"sum_WBev\": 2}, {\"GueltigAbDat\": \"2021-01-05T00:00:00\", \"GueltigAbDatJahr\": 2021, \"GueltigAbDatMM\": 1, \"HerkunftLang\": \"Ausl\\u00e4nder/in\", \"sum_WBev\": 2}, {\"GueltigAbDat\": \"2021-01-07T00:00:00\", \"GueltigAbDatJahr\": 2021, \"GueltigAbDatMM\": 1, \"HerkunftLang\": \"Ausl\\u00e4nder/in\", \"sum_WBev\": 2}, {\"GueltigAbDat\": \"2021-01-08T00:00:00\", \"GueltigAbDatJahr\": 2021, \"GueltigAbDatMM\": 1, \"HerkunftLang\": \"Ausl\\u00e4nder/in\", \"sum_WBev\": 2}, {\"GueltigAbDat\": \"2021-01-10T00:00:00\", \"GueltigAbDatJahr\": 2021, \"GueltigAbDatMM\": 1, \"HerkunftLang\": \"Ausl\\u00e4nder/in\", \"sum_WBev\": 2}, {\"GueltigAbDat\": \"2021-01-11T00:00:00\", \"GueltigAbDatJahr\": 2021, \"GueltigAbDatMM\": 1, \"HerkunftLang\": \"Ausl\\u00e4nder/in\", \"sum_WBev\": 2}, {\"GueltigAbDat\": \"2021-01-12T00:00:00\", \"GueltigAbDatJahr\": 2021, \"GueltigAbDatMM\": 1, \"HerkunftLang\": \"Ausl\\u00e4nder/in\", \"sum_WBev\": 2}, {\"GueltigAbDat\": \"2021-01-14T00:00:00\", \"GueltigAbDatJahr\": 2021, \"GueltigAbDatMM\": 1, \"HerkunftLang\": \"Ausl\\u00e4nder/in\", \"sum_WBev\": 2}, {\"GueltigAbDat\": \"2021-01-15T00:00:00\", \"GueltigAbDatJahr\": 2021, \"GueltigAbDatMM\": 1, \"HerkunftLang\": \"Ausl\\u00e4nder/in\", \"sum_WBev\": 2}, {\"GueltigAbDat\": \"2021-01-17T00:00:00\", \"GueltigAbDatJahr\": 2021, \"GueltigAbDatMM\": 1, \"HerkunftLang\": \"Ausl\\u00e4nder/in\", \"sum_WBev\": 2}, {\"GueltigAbDat\": \"2021-01-19T00:00:00\", \"GueltigAbDatJahr\": 2021, \"GueltigAbDatMM\": 1, \"HerkunftLang\": \"Ausl\\u00e4nder/in\", \"sum_WBev\": 2}, {\"GueltigAbDat\": \"2021-01-20T00:00:00\", \"GueltigAbDatJahr\": 2021, \"GueltigAbDatMM\": 1, \"HerkunftLang\": \"Ausl\\u00e4nder/in\", \"sum_WBev\": 2}, {\"GueltigAbDat\": \"2021-01-23T00:00:00\", \"GueltigAbDatJahr\": 2021, \"GueltigAbDatMM\": 1, \"HerkunftLang\": \"Ausl\\u00e4nder/in\", \"sum_WBev\": 2}, {\"GueltigAbDat\": \"2021-01-24T00:00:00\", \"GueltigAbDatJahr\": 2021, \"GueltigAbDatMM\": 1, \"HerkunftLang\": \"Ausl\\u00e4nder/in\", \"sum_WBev\": 2}, {\"GueltigAbDat\": \"2021-01-27T00:00:00\", \"GueltigAbDatJahr\": 2021, \"GueltigAbDatMM\": 1, \"HerkunftLang\": \"Ausl\\u00e4nder/in\", \"sum_WBev\": 2}, {\"GueltigAbDat\": \"2021-05-18T00:00:00\", \"GueltigAbDatJahr\": 2021, \"GueltigAbDatMM\": 5, \"HerkunftLang\": \"Ausl\\u00e4nder/in\", \"sum_WBev\": 2}, {\"GueltigAbDat\": \"2021-03-08T00:00:00\", \"GueltigAbDatJahr\": 2021, \"GueltigAbDatMM\": 3, \"HerkunftLang\": \"Ausl\\u00e4nder/in\", \"sum_WBev\": 2}, {\"GueltigAbDat\": \"2021-05-21T00:00:00\", \"GueltigAbDatJahr\": 2021, \"GueltigAbDatMM\": 5, \"HerkunftLang\": \"Ausl\\u00e4nder/in\", \"sum_WBev\": 2}, {\"GueltigAbDat\": \"2021-07-03T00:00:00\", \"GueltigAbDatJahr\": 2021, \"GueltigAbDatMM\": 7, \"HerkunftLang\": \"Ausl\\u00e4nder/in\", \"sum_WBev\": 2}, {\"GueltigAbDat\": \"2021-05-30T00:00:00\", \"GueltigAbDatJahr\": 2021, \"GueltigAbDatMM\": 5, \"HerkunftLang\": \"Schweizer/in\", \"sum_WBev\": 2}, {\"GueltigAbDat\": \"2021-06-02T00:00:00\", \"GueltigAbDatJahr\": 2021, \"GueltigAbDatMM\": 6, \"HerkunftLang\": \"Ausl\\u00e4nder/in\", \"sum_WBev\": 2}, {\"GueltigAbDat\": \"2021-07-13T00:00:00\", \"GueltigAbDatJahr\": 2021, \"GueltigAbDatMM\": 7, \"HerkunftLang\": \"Ausl\\u00e4nder/in\", \"sum_WBev\": 2}, {\"GueltigAbDat\": \"2021-06-03T00:00:00\", \"GueltigAbDatJahr\": 2021, \"GueltigAbDatMM\": 6, \"HerkunftLang\": \"Ausl\\u00e4nder/in\", \"sum_WBev\": 2}, {\"GueltigAbDat\": \"2021-07-12T00:00:00\", \"GueltigAbDatJahr\": 2021, \"GueltigAbDatMM\": 7, \"HerkunftLang\": \"Ausl\\u00e4nder/in\", \"sum_WBev\": 2}, {\"GueltigAbDat\": \"2021-07-10T00:00:00\", \"GueltigAbDatJahr\": 2021, \"GueltigAbDatMM\": 7, \"HerkunftLang\": \"Ausl\\u00e4nder/in\", \"sum_WBev\": 2}, {\"GueltigAbDat\": \"2021-07-02T00:00:00\", \"GueltigAbDatJahr\": 2021, \"GueltigAbDatMM\": 7, \"HerkunftLang\": \"Ausl\\u00e4nder/in\", \"sum_WBev\": 2}, {\"GueltigAbDat\": \"2021-05-25T00:00:00\", \"GueltigAbDatJahr\": 2021, \"GueltigAbDatMM\": 5, \"HerkunftLang\": \"Schweizer/in\", \"sum_WBev\": 2}, {\"GueltigAbDat\": \"2021-07-01T00:00:00\", \"GueltigAbDatJahr\": 2021, \"GueltigAbDatMM\": 7, \"HerkunftLang\": \"Ausl\\u00e4nder/in\", \"sum_WBev\": 2}, {\"GueltigAbDat\": \"2021-06-25T00:00:00\", \"GueltigAbDatJahr\": 2021, \"GueltigAbDatMM\": 6, \"HerkunftLang\": \"Ausl\\u00e4nder/in\", \"sum_WBev\": 2}, {\"GueltigAbDat\": \"2021-06-13T00:00:00\", \"GueltigAbDatJahr\": 2021, \"GueltigAbDatMM\": 6, \"HerkunftLang\": \"Ausl\\u00e4nder/in\", \"sum_WBev\": 2}, {\"GueltigAbDat\": \"2021-06-24T00:00:00\", \"GueltigAbDatJahr\": 2021, \"GueltigAbDatMM\": 6, \"HerkunftLang\": \"Ausl\\u00e4nder/in\", \"sum_WBev\": 2}, {\"GueltigAbDat\": \"2021-06-16T00:00:00\", \"GueltigAbDatJahr\": 2021, \"GueltigAbDatMM\": 6, \"HerkunftLang\": \"Ausl\\u00e4nder/in\", \"sum_WBev\": 2}, {\"GueltigAbDat\": \"2021-06-22T00:00:00\", \"GueltigAbDatJahr\": 2021, \"GueltigAbDatMM\": 6, \"HerkunftLang\": \"Ausl\\u00e4nder/in\", \"sum_WBev\": 2}, {\"GueltigAbDat\": \"2021-05-29T00:00:00\", \"GueltigAbDatJahr\": 2021, \"GueltigAbDatMM\": 5, \"HerkunftLang\": \"Ausl\\u00e4nder/in\", \"sum_WBev\": 2}, {\"GueltigAbDat\": \"2021-06-05T00:00:00\", \"GueltigAbDatJahr\": 2021, \"GueltigAbDatMM\": 6, \"HerkunftLang\": \"Ausl\\u00e4nder/in\", \"sum_WBev\": 2}, {\"GueltigAbDat\": \"2021-06-21T00:00:00\", \"GueltigAbDatJahr\": 2021, \"GueltigAbDatMM\": 6, \"HerkunftLang\": \"Ausl\\u00e4nder/in\", \"sum_WBev\": 2}, {\"GueltigAbDat\": \"2021-07-21T00:00:00\", \"GueltigAbDatJahr\": 2021, \"GueltigAbDatMM\": 7, \"HerkunftLang\": \"Ausl\\u00e4nder/in\", \"sum_WBev\": 2}, {\"GueltigAbDat\": \"2021-07-18T00:00:00\", \"GueltigAbDatJahr\": 2021, \"GueltigAbDatMM\": 7, \"HerkunftLang\": \"Ausl\\u00e4nder/in\", \"sum_WBev\": 2}]}}, {\"mode\": \"vega-lite\"});\n",
       "</script>"
      ],
      "text/plain": [
       "alt.LayerChart(...)"
      ]
     },
     "execution_count": 106,
     "metadata": {},
     "output_type": "execute_result"
    }
   ],
   "source": [
    "highlight = alt.selection(type='single', on='mouseover',\n",
    "                          fields=['HerkunftLang'], nearest=True)\n",
    "#x='date:StichtagDatJahr',\n",
    "base = alt.Chart(myAgg.reset_index().query('sum_WBev>1'), title=\"Title\").encode(\n",
    "    x=alt.X('GueltigAbDat', axis=alt.Axis(title='Jahr'))# , axis=alt.Axis(format='%', title='percentage')\n",
    "    , y=alt.X('sum_WBev', axis=alt.Axis(title='Anz. Personen'))\n",
    "    , color=alt.Color('HerkunftLang', legend=alt.Legend(title=\"Herkunft\"))  \n",
    "    ,tooltip=['GueltigAbDat', 'HerkunftLang', 'sum_WBev']    \n",
    ")\n",
    "points = base.mark_circle().encode(\n",
    "    opacity=alt.value(0.75)\n",
    ").add_selection(\n",
    "    highlight\n",
    ").properties(\n",
    "    width=900 , height=350\n",
    ")\n",
    "lines = base.mark_line().encode(\n",
    "    size=alt.condition(~highlight, alt.value(0.5), alt.value(4))\n",
    ").interactive()\n",
    "\n",
    "lines + points    \n"
   ]
  },
  {
   "cell_type": "code",
   "execution_count": 107,
   "metadata": {},
   "outputs": [
    {
     "data": {
      "text/plain": [
       "GueltigAbDatJahr     int64\n",
       "GueltigAbDatMM       int64\n",
       "GueltigAbDatDD       int64\n",
       "SexCd                int64\n",
       "SexLang             object\n",
       "AlterV20Sort         int64\n",
       "AlterV20Kurz        object\n",
       "HerkunftCd           int64\n",
       "HerkunftLang        object\n",
       "KreisCd              int64\n",
       "KreisLang           object\n",
       "QuarCd               int64\n",
       "QuarLang            object\n",
       "DatenstandCd        object\n",
       "DatenstandLang      object\n",
       "AnzSterWir           int64\n",
       "dtype: object"
      ]
     },
     "execution_count": 107,
     "metadata": {},
     "output_type": "execute_result"
    }
   ],
   "source": [
    "data2betested.dtypes"
   ]
  },
  {
   "cell_type": "markdown",
   "metadata": {},
   "source": [
    "### Daten in interaktiver Treemap zeigen\n",
    "Dazu gibt es eine sehr nützliche Webseite https://plotly.com/python/treemaps/\n",
    "Zu Farbskalen, siehe: https://plotly.com/python/builtin-colorscales/"
   ]
  },
  {
   "cell_type": "markdown",
   "metadata": {},
   "source": [
    "#### Aktueller Bestand der WBev nach Stadtkreis, Quartier, Alter und Herkunft"
   ]
  },
  {
   "cell_type": "code",
   "execution_count": 108,
   "metadata": {},
   "outputs": [
    {
     "data": {
      "text/html": [
       "<div>\n",
       "<style scoped>\n",
       "    .dataframe tbody tr th:only-of-type {\n",
       "        vertical-align: middle;\n",
       "    }\n",
       "\n",
       "    .dataframe tbody tr th {\n",
       "        vertical-align: top;\n",
       "    }\n",
       "\n",
       "    .dataframe thead th {\n",
       "        text-align: right;\n",
       "    }\n",
       "</style>\n",
       "<table border=\"1\" class=\"dataframe\">\n",
       "  <thead>\n",
       "    <tr style=\"text-align: right;\">\n",
       "      <th></th>\n",
       "      <th>GueltigAbDat</th>\n",
       "      <th>GueltigAbDatJahr</th>\n",
       "      <th>GueltigAbDatMM</th>\n",
       "      <th>KreisLang</th>\n",
       "      <th>QuarLang</th>\n",
       "      <th>HerkunftLang</th>\n",
       "      <th>AlterV20Kurz</th>\n",
       "      <th>sum_WBev</th>\n",
       "    </tr>\n",
       "  </thead>\n",
       "  <tbody>\n",
       "    <tr>\n",
       "      <th>0</th>\n",
       "      <td>2021-11-30</td>\n",
       "      <td>2021</td>\n",
       "      <td>11</td>\n",
       "      <td>Kreis 9</td>\n",
       "      <td>Altstetten</td>\n",
       "      <td>Schweizer/in</td>\n",
       "      <td>80-99</td>\n",
       "      <td>2</td>\n",
       "    </tr>\n",
       "    <tr>\n",
       "      <th>1</th>\n",
       "      <td>2021-11-29</td>\n",
       "      <td>2021</td>\n",
       "      <td>11</td>\n",
       "      <td>Kreis 9</td>\n",
       "      <td>Albisrieden</td>\n",
       "      <td>Schweizer/in</td>\n",
       "      <td>80-99</td>\n",
       "      <td>2</td>\n",
       "    </tr>\n",
       "  </tbody>\n",
       "</table>\n",
       "</div>"
      ],
      "text/plain": [
       "  GueltigAbDat  GueltigAbDatJahr  GueltigAbDatMM KreisLang     QuarLang  HerkunftLang  \\\n",
       "0   2021-11-30              2021              11   Kreis 9   Altstetten  Schweizer/in   \n",
       "1   2021-11-29              2021              11   Kreis 9  Albisrieden  Schweizer/in   \n",
       "\n",
       "  AlterV20Kurz  sum_WBev  \n",
       "0        80-99         2  \n",
       "1        80-99         2  "
      ]
     },
     "execution_count": 108,
     "metadata": {},
     "output_type": "execute_result"
    }
   ],
   "source": [
    "myTreemapAgg = data2betested.loc[\"2021-11\"]  \\\n",
    "    .groupby(['GueltigAbDat','GueltigAbDatJahr', 'GueltigAbDatMM', 'KreisLang','QuarLang','HerkunftLang', 'AlterV20Kurz' ]) \\\n",
    "    .agg(sum_WBev=('AnzSterWir', 'sum')) \\\n",
    "    .sort_values('sum_WBev', ascending=False) \n",
    "\n",
    "myTreemapAgg.reset_index().head(2)"
   ]
  },
  {
   "cell_type": "code",
   "execution_count": 109,
   "metadata": {},
   "outputs": [
    {
     "data": {
      "application/vnd.plotly.v1+json": {
       "config": {
        "plotlyServerURL": "https://plot.ly"
       },
       "data": [
        {
         "branchvalues": "total",
         "customdata": [
          [
           1
          ],
          [
           1
          ],
          [
           1
          ],
          [
           1
          ],
          [
           1
          ],
          [
           1
          ],
          [
           1
          ],
          [
           1
          ],
          [
           1
          ],
          [
           1
          ],
          [
           1
          ],
          [
           1
          ],
          [
           1
          ],
          [
           1
          ],
          [
           1
          ],
          [
           1
          ],
          [
           1
          ],
          [
           1
          ],
          [
           1
          ],
          [
           1
          ],
          [
           1
          ],
          [
           1
          ],
          [
           1
          ],
          [
           1
          ],
          [
           1
          ],
          [
           1
          ],
          [
           1
          ],
          [
           1
          ],
          [
           1
          ],
          [
           1
          ],
          [
           1
          ],
          [
           1
          ],
          [
           1
          ],
          [
           1
          ],
          [
           1
          ],
          [
           1
          ],
          [
           1
          ],
          [
           1
          ],
          [
           1
          ],
          [
           1.4
          ],
          [
           1
          ],
          [
           1
          ],
          [
           1
          ],
          [
           1
          ],
          [
           1
          ],
          [
           1
          ],
          [
           1
          ],
          [
           1.2857142857142858
          ],
          [
           1
          ],
          [
           1
          ],
          [
           1
          ],
          [
           1
          ],
          [
           1
          ],
          [
           1
          ],
          [
           1
          ],
          [
           1
          ],
          [
           1
          ],
          [
           1.4444444444444444
          ],
          [
           1.25
          ],
          [
           1.25
          ],
          [
           1
          ],
          [
           1
          ],
          [
           1.5
          ],
          [
           1
          ],
          [
           1
          ],
          [
           1
          ],
          [
           1
          ],
          [
           1
          ],
          [
           1
          ],
          [
           1.3333333333333333
          ],
          [
           1
          ],
          [
           1
          ],
          [
           1
          ],
          [
           1.1818181818181819
          ],
          [
           1
          ],
          [
           1
          ],
          [
           1
          ],
          [
           1
          ],
          [
           1
          ],
          [
           1
          ],
          [
           1
          ],
          [
           1
          ],
          [
           1
          ],
          [
           1
          ],
          [
           1.3529411764705883
          ],
          [
           1
          ],
          [
           1
          ],
          [
           1
          ],
          [
           1
          ],
          [
           1
          ],
          [
           1
          ],
          [
           1
          ],
          [
           1
          ],
          [
           1
          ],
          [
           1
          ],
          [
           1
          ],
          [
           1
          ],
          [
           1
          ],
          [
           1
          ],
          [
           1.3636363636363635
          ],
          [
           1.1818181818181819
          ],
          [
           1.2
          ],
          [
           1
          ],
          [
           1
          ],
          [
           1.3333333333333333
          ],
          [
           1
          ],
          [
           1
          ],
          [
           1
          ],
          [
           1
          ],
          [
           1
          ],
          [
           1
          ],
          [
           1
          ],
          [
           1.2105263157894737
          ],
          [
           1
          ],
          [
           1
          ],
          [
           1
          ],
          [
           1
          ],
          [
           1.25
          ],
          [
           1
          ],
          [
           1
          ],
          [
           1
          ],
          [
           1
          ],
          [
           1
          ],
          [
           1
          ],
          [
           1
          ],
          [
           1
          ],
          [
           1
          ],
          [
           1
          ],
          [
           1
          ],
          [
           1.2857142857142858
          ],
          [
           1
          ],
          [
           1.3478260869565217
          ],
          [
           1.1666666666666667
          ],
          [
           1.1428571428571428
          ],
          [
           1
          ],
          [
           1
          ],
          [
           1.3333333333333333
          ],
          [
           1
          ],
          [
           1
          ],
          [
           1
          ],
          [
           1
          ],
          [
           1
          ],
          [
           1
          ],
          [
           1
          ],
          [
           1.2105263157894737
          ],
          [
           1
          ],
          [
           1
          ],
          [
           1
          ],
          [
           1
          ],
          [
           1.2352941176470589
          ],
          [
           1
          ],
          [
           1
          ],
          [
           1
          ],
          [
           1
          ],
          [
           1
          ],
          [
           1
          ],
          [
           1
          ],
          [
           1
          ],
          [
           1
          ],
          [
           1
          ],
          [
           1
          ],
          [
           1.2758620689655173
          ],
          [
           1
          ],
          [
           1.1333333333333333
          ],
          [
           1.0952380952380953
          ],
          [
           1
          ],
          [
           1.2
          ],
          [
           1.064516129032258
          ],
          [
           1
          ],
          [
           1
          ],
          [
           1
          ],
          [
           1.0833333333333333
          ],
          [
           1
          ],
          [
           1.2702702702702702
          ],
          [
           1.1132075471698113
          ]
         ],
         "domain": {
          "x": [
           0,
           1
          ],
          "y": [
           0,
           1
          ]
         },
         "hovertemplate": "labels=%{label}<br>sum_WBev_sum=%{value}<br>parent=%{parent}<br>id=%{id}<br>sum_WBev=%{color}<extra></extra>",
         "ids": [
          "WBev nach Stadtkreis, Quartier, Alter und Herkunft/Kreis 3/Friesenberg/Schweizer/in/0-19",
          "WBev nach Stadtkreis, Quartier, Alter und Herkunft/Kreis 2/Enge/Schweizer/in/100 u. älter",
          "WBev nach Stadtkreis, Quartier, Alter und Herkunft/Kreis 10/Höngg/Schweizer/in/100 u. älter",
          "WBev nach Stadtkreis, Quartier, Alter und Herkunft/Kreis 8/Weinegg/Schweizer/in/100 u. älter",
          "WBev nach Stadtkreis, Quartier, Alter und Herkunft/Kreis 2/Wollishofen/Schweizer/in/100 u. älter",
          "WBev nach Stadtkreis, Quartier, Alter und Herkunft/Kreis 3/Alt-Wiedikon/Schweizer/in/20-39",
          "WBev nach Stadtkreis, Quartier, Alter und Herkunft/Kreis 1/Lindenhof/Schweizer/in/20-39",
          "WBev nach Stadtkreis, Quartier, Alter und Herkunft/Kreis 9/Altstetten/Ausländer/in/40-59",
          "WBev nach Stadtkreis, Quartier, Alter und Herkunft/Kreis 5/Gewerbeschule/Ausländer/in/40-59",
          "WBev nach Stadtkreis, Quartier, Alter und Herkunft/Kreis 12/Hirzenbach/Ausländer/in/40-59",
          "WBev nach Stadtkreis, Quartier, Alter und Herkunft/Kreis 6/Oberstrass/Ausländer/in/40-59",
          "WBev nach Stadtkreis, Quartier, Alter und Herkunft/Kreis 11/Oerlikon/Ausländer/in/40-59",
          "WBev nach Stadtkreis, Quartier, Alter und Herkunft/Kreis 11/Seebach/Ausländer/in/40-59",
          "WBev nach Stadtkreis, Quartier, Alter und Herkunft/Kreis 5/Gewerbeschule/Schweizer/in/40-59",
          "WBev nach Stadtkreis, Quartier, Alter und Herkunft/Kreis 12/Saatlen/Schweizer/in/40-59",
          "WBev nach Stadtkreis, Quartier, Alter und Herkunft/Kreis 11/Seebach/Schweizer/in/40-59",
          "WBev nach Stadtkreis, Quartier, Alter und Herkunft/Kreis 10/Wipkingen/Schweizer/in/40-59",
          "WBev nach Stadtkreis, Quartier, Alter und Herkunft/Kreis 2/Wollishofen/Schweizer/in/40-59",
          "WBev nach Stadtkreis, Quartier, Alter und Herkunft/Kreis 9/Altstetten/Ausländer/in/60-79",
          "WBev nach Stadtkreis, Quartier, Alter und Herkunft/Kreis 5/Gewerbeschule/Ausländer/in/60-79",
          "WBev nach Stadtkreis, Quartier, Alter und Herkunft/Kreis 6/Oberstrass/Ausländer/in/60-79",
          "WBev nach Stadtkreis, Quartier, Alter und Herkunft/Kreis 11/Seebach/Ausländer/in/60-79",
          "WBev nach Stadtkreis, Quartier, Alter und Herkunft/Kreis 3/Sihlfeld/Ausländer/in/60-79",
          "WBev nach Stadtkreis, Quartier, Alter und Herkunft/Kreis 10/Wipkingen/Ausländer/in/60-79",
          "WBev nach Stadtkreis, Quartier, Alter und Herkunft/Kreis 11/Affoltern/Schweizer/in/60-79",
          "WBev nach Stadtkreis, Quartier, Alter und Herkunft/Kreis 9/Albisrieden/Schweizer/in/60-79",
          "WBev nach Stadtkreis, Quartier, Alter und Herkunft/Kreis 3/Alt-Wiedikon/Schweizer/in/60-79",
          "WBev nach Stadtkreis, Quartier, Alter und Herkunft/Kreis 9/Altstetten/Schweizer/in/60-79",
          "WBev nach Stadtkreis, Quartier, Alter und Herkunft/Kreis 2/Enge/Schweizer/in/60-79",
          "WBev nach Stadtkreis, Quartier, Alter und Herkunft/Kreis 5/Escher Wyss/Schweizer/in/60-79",
          "WBev nach Stadtkreis, Quartier, Alter und Herkunft/Kreis 7/Fluntern/Schweizer/in/60-79",
          "WBev nach Stadtkreis, Quartier, Alter und Herkunft/Kreis 5/Gewerbeschule/Schweizer/in/60-79",
          "WBev nach Stadtkreis, Quartier, Alter und Herkunft/Kreis 7/Hirslanden/Schweizer/in/60-79",
          "WBev nach Stadtkreis, Quartier, Alter und Herkunft/Kreis 12/Hirzenbach/Schweizer/in/60-79",
          "WBev nach Stadtkreis, Quartier, Alter und Herkunft/Kreis 1/Hochschulen/Schweizer/in/60-79",
          "WBev nach Stadtkreis, Quartier, Alter und Herkunft/Kreis 7/Hottingen/Schweizer/in/60-79",
          "WBev nach Stadtkreis, Quartier, Alter und Herkunft/Kreis 10/Höngg/Schweizer/in/60-79",
          "WBev nach Stadtkreis, Quartier, Alter und Herkunft/Kreis 2/Leimbach/Schweizer/in/60-79",
          "WBev nach Stadtkreis, Quartier, Alter und Herkunft/Kreis 1/Lindenhof/Schweizer/in/60-79",
          "WBev nach Stadtkreis, Quartier, Alter und Herkunft/Kreis 11/Oerlikon/Schweizer/in/60-79",
          "WBev nach Stadtkreis, Quartier, Alter und Herkunft/Kreis 1/Rathaus/Schweizer/in/60-79",
          "WBev nach Stadtkreis, Quartier, Alter und Herkunft/Kreis 11/Seebach/Schweizer/in/60-79",
          "WBev nach Stadtkreis, Quartier, Alter und Herkunft/Kreis 8/Seefeld/Schweizer/in/60-79",
          "WBev nach Stadtkreis, Quartier, Alter und Herkunft/Kreis 3/Sihlfeld/Schweizer/in/60-79",
          "WBev nach Stadtkreis, Quartier, Alter und Herkunft/Kreis 6/Unterstrass/Schweizer/in/60-79",
          "WBev nach Stadtkreis, Quartier, Alter und Herkunft/Kreis 10/Wipkingen/Schweizer/in/60-79",
          "WBev nach Stadtkreis, Quartier, Alter und Herkunft/Kreis 7/Witikon/Schweizer/in/60-79",
          "WBev nach Stadtkreis, Quartier, Alter und Herkunft/Kreis 2/Wollishofen/Schweizer/in/60-79",
          "WBev nach Stadtkreis, Quartier, Alter und Herkunft/Kreis 11/Affoltern/Ausländer/in/80-99",
          "WBev nach Stadtkreis, Quartier, Alter und Herkunft/Kreis 9/Albisrieden/Ausländer/in/80-99",
          "WBev nach Stadtkreis, Quartier, Alter und Herkunft/Kreis 3/Alt-Wiedikon/Ausländer/in/80-99",
          "WBev nach Stadtkreis, Quartier, Alter und Herkunft/Kreis 9/Altstetten/Ausländer/in/80-99",
          "WBev nach Stadtkreis, Quartier, Alter und Herkunft/Kreis 12/Hirzenbach/Ausländer/in/80-99",
          "WBev nach Stadtkreis, Quartier, Alter und Herkunft/Kreis 11/Seebach/Ausländer/in/80-99",
          "WBev nach Stadtkreis, Quartier, Alter und Herkunft/Kreis 6/Unterstrass/Ausländer/in/80-99",
          "WBev nach Stadtkreis, Quartier, Alter und Herkunft/Kreis 2/Wollishofen/Ausländer/in/80-99",
          "WBev nach Stadtkreis, Quartier, Alter und Herkunft/Kreis 11/Affoltern/Schweizer/in/80-99",
          "WBev nach Stadtkreis, Quartier, Alter und Herkunft/Kreis 9/Albisrieden/Schweizer/in/80-99",
          "WBev nach Stadtkreis, Quartier, Alter und Herkunft/Kreis 3/Alt-Wiedikon/Schweizer/in/80-99",
          "WBev nach Stadtkreis, Quartier, Alter und Herkunft/Kreis 9/Altstetten/Schweizer/in/80-99",
          "WBev nach Stadtkreis, Quartier, Alter und Herkunft/Kreis 2/Enge/Schweizer/in/80-99",
          "WBev nach Stadtkreis, Quartier, Alter und Herkunft/Kreis 5/Escher Wyss/Schweizer/in/80-99",
          "WBev nach Stadtkreis, Quartier, Alter und Herkunft/Kreis 7/Fluntern/Schweizer/in/80-99",
          "WBev nach Stadtkreis, Quartier, Alter und Herkunft/Kreis 3/Friesenberg/Schweizer/in/80-99",
          "WBev nach Stadtkreis, Quartier, Alter und Herkunft/Kreis 5/Gewerbeschule/Schweizer/in/80-99",
          "WBev nach Stadtkreis, Quartier, Alter und Herkunft/Kreis 4/Hard/Schweizer/in/80-99",
          "WBev nach Stadtkreis, Quartier, Alter und Herkunft/Kreis 7/Hirslanden/Schweizer/in/80-99",
          "WBev nach Stadtkreis, Quartier, Alter und Herkunft/Kreis 12/Hirzenbach/Schweizer/in/80-99",
          "WBev nach Stadtkreis, Quartier, Alter und Herkunft/Kreis 7/Hottingen/Schweizer/in/80-99",
          "WBev nach Stadtkreis, Quartier, Alter und Herkunft/Kreis 10/Höngg/Schweizer/in/80-99",
          "WBev nach Stadtkreis, Quartier, Alter und Herkunft/Kreis 2/Leimbach/Schweizer/in/80-99",
          "WBev nach Stadtkreis, Quartier, Alter und Herkunft/Kreis 8/Mühlebach/Schweizer/in/80-99",
          "WBev nach Stadtkreis, Quartier, Alter und Herkunft/Kreis 6/Oberstrass/Schweizer/in/80-99",
          "WBev nach Stadtkreis, Quartier, Alter und Herkunft/Kreis 11/Oerlikon/Schweizer/in/80-99",
          "WBev nach Stadtkreis, Quartier, Alter und Herkunft/Kreis 12/Saatlen/Schweizer/in/80-99",
          "WBev nach Stadtkreis, Quartier, Alter und Herkunft/Kreis 12/Schwamendingen-Mitte/Schweizer/in/80-99",
          "WBev nach Stadtkreis, Quartier, Alter und Herkunft/Kreis 11/Seebach/Schweizer/in/80-99",
          "WBev nach Stadtkreis, Quartier, Alter und Herkunft/Kreis 8/Seefeld/Schweizer/in/80-99",
          "WBev nach Stadtkreis, Quartier, Alter und Herkunft/Kreis 3/Sihlfeld/Schweizer/in/80-99",
          "WBev nach Stadtkreis, Quartier, Alter und Herkunft/Kreis 6/Unterstrass/Schweizer/in/80-99",
          "WBev nach Stadtkreis, Quartier, Alter und Herkunft/Kreis 8/Weinegg/Schweizer/in/80-99",
          "WBev nach Stadtkreis, Quartier, Alter und Herkunft/Kreis 4/Werd/Schweizer/in/80-99",
          "WBev nach Stadtkreis, Quartier, Alter und Herkunft/Kreis 10/Wipkingen/Schweizer/in/80-99",
          "WBev nach Stadtkreis, Quartier, Alter und Herkunft/Kreis 7/Witikon/Schweizer/in/80-99",
          "WBev nach Stadtkreis, Quartier, Alter und Herkunft/Kreis 2/Wollishofen/Schweizer/in/80-99",
          "WBev nach Stadtkreis, Quartier, Alter und Herkunft/Kreis 11/Affoltern/Ausländer/in",
          "WBev nach Stadtkreis, Quartier, Alter und Herkunft/Kreis 9/Albisrieden/Ausländer/in",
          "WBev nach Stadtkreis, Quartier, Alter und Herkunft/Kreis 3/Alt-Wiedikon/Ausländer/in",
          "WBev nach Stadtkreis, Quartier, Alter und Herkunft/Kreis 9/Altstetten/Ausländer/in",
          "WBev nach Stadtkreis, Quartier, Alter und Herkunft/Kreis 5/Gewerbeschule/Ausländer/in",
          "WBev nach Stadtkreis, Quartier, Alter und Herkunft/Kreis 12/Hirzenbach/Ausländer/in",
          "WBev nach Stadtkreis, Quartier, Alter und Herkunft/Kreis 6/Oberstrass/Ausländer/in",
          "WBev nach Stadtkreis, Quartier, Alter und Herkunft/Kreis 11/Oerlikon/Ausländer/in",
          "WBev nach Stadtkreis, Quartier, Alter und Herkunft/Kreis 11/Seebach/Ausländer/in",
          "WBev nach Stadtkreis, Quartier, Alter und Herkunft/Kreis 3/Sihlfeld/Ausländer/in",
          "WBev nach Stadtkreis, Quartier, Alter und Herkunft/Kreis 6/Unterstrass/Ausländer/in",
          "WBev nach Stadtkreis, Quartier, Alter und Herkunft/Kreis 10/Wipkingen/Ausländer/in",
          "WBev nach Stadtkreis, Quartier, Alter und Herkunft/Kreis 2/Wollishofen/Ausländer/in",
          "WBev nach Stadtkreis, Quartier, Alter und Herkunft/Kreis 11/Affoltern/Schweizer/in",
          "WBev nach Stadtkreis, Quartier, Alter und Herkunft/Kreis 9/Albisrieden/Schweizer/in",
          "WBev nach Stadtkreis, Quartier, Alter und Herkunft/Kreis 3/Alt-Wiedikon/Schweizer/in",
          "WBev nach Stadtkreis, Quartier, Alter und Herkunft/Kreis 9/Altstetten/Schweizer/in",
          "WBev nach Stadtkreis, Quartier, Alter und Herkunft/Kreis 2/Enge/Schweizer/in",
          "WBev nach Stadtkreis, Quartier, Alter und Herkunft/Kreis 5/Escher Wyss/Schweizer/in",
          "WBev nach Stadtkreis, Quartier, Alter und Herkunft/Kreis 7/Fluntern/Schweizer/in",
          "WBev nach Stadtkreis, Quartier, Alter und Herkunft/Kreis 3/Friesenberg/Schweizer/in",
          "WBev nach Stadtkreis, Quartier, Alter und Herkunft/Kreis 5/Gewerbeschule/Schweizer/in",
          "WBev nach Stadtkreis, Quartier, Alter und Herkunft/Kreis 4/Hard/Schweizer/in",
          "WBev nach Stadtkreis, Quartier, Alter und Herkunft/Kreis 7/Hirslanden/Schweizer/in",
          "WBev nach Stadtkreis, Quartier, Alter und Herkunft/Kreis 12/Hirzenbach/Schweizer/in",
          "WBev nach Stadtkreis, Quartier, Alter und Herkunft/Kreis 1/Hochschulen/Schweizer/in",
          "WBev nach Stadtkreis, Quartier, Alter und Herkunft/Kreis 7/Hottingen/Schweizer/in",
          "WBev nach Stadtkreis, Quartier, Alter und Herkunft/Kreis 10/Höngg/Schweizer/in",
          "WBev nach Stadtkreis, Quartier, Alter und Herkunft/Kreis 2/Leimbach/Schweizer/in",
          "WBev nach Stadtkreis, Quartier, Alter und Herkunft/Kreis 1/Lindenhof/Schweizer/in",
          "WBev nach Stadtkreis, Quartier, Alter und Herkunft/Kreis 8/Mühlebach/Schweizer/in",
          "WBev nach Stadtkreis, Quartier, Alter und Herkunft/Kreis 6/Oberstrass/Schweizer/in",
          "WBev nach Stadtkreis, Quartier, Alter und Herkunft/Kreis 11/Oerlikon/Schweizer/in",
          "WBev nach Stadtkreis, Quartier, Alter und Herkunft/Kreis 1/Rathaus/Schweizer/in",
          "WBev nach Stadtkreis, Quartier, Alter und Herkunft/Kreis 12/Saatlen/Schweizer/in",
          "WBev nach Stadtkreis, Quartier, Alter und Herkunft/Kreis 12/Schwamendingen-Mitte/Schweizer/in",
          "WBev nach Stadtkreis, Quartier, Alter und Herkunft/Kreis 11/Seebach/Schweizer/in",
          "WBev nach Stadtkreis, Quartier, Alter und Herkunft/Kreis 8/Seefeld/Schweizer/in",
          "WBev nach Stadtkreis, Quartier, Alter und Herkunft/Kreis 3/Sihlfeld/Schweizer/in",
          "WBev nach Stadtkreis, Quartier, Alter und Herkunft/Kreis 6/Unterstrass/Schweizer/in",
          "WBev nach Stadtkreis, Quartier, Alter und Herkunft/Kreis 8/Weinegg/Schweizer/in",
          "WBev nach Stadtkreis, Quartier, Alter und Herkunft/Kreis 4/Werd/Schweizer/in",
          "WBev nach Stadtkreis, Quartier, Alter und Herkunft/Kreis 10/Wipkingen/Schweizer/in",
          "WBev nach Stadtkreis, Quartier, Alter und Herkunft/Kreis 7/Witikon/Schweizer/in",
          "WBev nach Stadtkreis, Quartier, Alter und Herkunft/Kreis 2/Wollishofen/Schweizer/in",
          "WBev nach Stadtkreis, Quartier, Alter und Herkunft/Kreis 11/Affoltern",
          "WBev nach Stadtkreis, Quartier, Alter und Herkunft/Kreis 9/Albisrieden",
          "WBev nach Stadtkreis, Quartier, Alter und Herkunft/Kreis 3/Alt-Wiedikon",
          "WBev nach Stadtkreis, Quartier, Alter und Herkunft/Kreis 9/Altstetten",
          "WBev nach Stadtkreis, Quartier, Alter und Herkunft/Kreis 2/Enge",
          "WBev nach Stadtkreis, Quartier, Alter und Herkunft/Kreis 5/Escher Wyss",
          "WBev nach Stadtkreis, Quartier, Alter und Herkunft/Kreis 7/Fluntern",
          "WBev nach Stadtkreis, Quartier, Alter und Herkunft/Kreis 3/Friesenberg",
          "WBev nach Stadtkreis, Quartier, Alter und Herkunft/Kreis 5/Gewerbeschule",
          "WBev nach Stadtkreis, Quartier, Alter und Herkunft/Kreis 4/Hard",
          "WBev nach Stadtkreis, Quartier, Alter und Herkunft/Kreis 7/Hirslanden",
          "WBev nach Stadtkreis, Quartier, Alter und Herkunft/Kreis 12/Hirzenbach",
          "WBev nach Stadtkreis, Quartier, Alter und Herkunft/Kreis 1/Hochschulen",
          "WBev nach Stadtkreis, Quartier, Alter und Herkunft/Kreis 7/Hottingen",
          "WBev nach Stadtkreis, Quartier, Alter und Herkunft/Kreis 10/Höngg",
          "WBev nach Stadtkreis, Quartier, Alter und Herkunft/Kreis 2/Leimbach",
          "WBev nach Stadtkreis, Quartier, Alter und Herkunft/Kreis 1/Lindenhof",
          "WBev nach Stadtkreis, Quartier, Alter und Herkunft/Kreis 8/Mühlebach",
          "WBev nach Stadtkreis, Quartier, Alter und Herkunft/Kreis 6/Oberstrass",
          "WBev nach Stadtkreis, Quartier, Alter und Herkunft/Kreis 11/Oerlikon",
          "WBev nach Stadtkreis, Quartier, Alter und Herkunft/Kreis 1/Rathaus",
          "WBev nach Stadtkreis, Quartier, Alter und Herkunft/Kreis 12/Saatlen",
          "WBev nach Stadtkreis, Quartier, Alter und Herkunft/Kreis 12/Schwamendingen-Mitte",
          "WBev nach Stadtkreis, Quartier, Alter und Herkunft/Kreis 11/Seebach",
          "WBev nach Stadtkreis, Quartier, Alter und Herkunft/Kreis 8/Seefeld",
          "WBev nach Stadtkreis, Quartier, Alter und Herkunft/Kreis 3/Sihlfeld",
          "WBev nach Stadtkreis, Quartier, Alter und Herkunft/Kreis 6/Unterstrass",
          "WBev nach Stadtkreis, Quartier, Alter und Herkunft/Kreis 8/Weinegg",
          "WBev nach Stadtkreis, Quartier, Alter und Herkunft/Kreis 4/Werd",
          "WBev nach Stadtkreis, Quartier, Alter und Herkunft/Kreis 10/Wipkingen",
          "WBev nach Stadtkreis, Quartier, Alter und Herkunft/Kreis 7/Witikon",
          "WBev nach Stadtkreis, Quartier, Alter und Herkunft/Kreis 2/Wollishofen",
          "WBev nach Stadtkreis, Quartier, Alter und Herkunft/Kreis 1",
          "WBev nach Stadtkreis, Quartier, Alter und Herkunft/Kreis 10",
          "WBev nach Stadtkreis, Quartier, Alter und Herkunft/Kreis 11",
          "WBev nach Stadtkreis, Quartier, Alter und Herkunft/Kreis 12",
          "WBev nach Stadtkreis, Quartier, Alter und Herkunft/Kreis 2",
          "WBev nach Stadtkreis, Quartier, Alter und Herkunft/Kreis 3",
          "WBev nach Stadtkreis, Quartier, Alter und Herkunft/Kreis 4",
          "WBev nach Stadtkreis, Quartier, Alter und Herkunft/Kreis 5",
          "WBev nach Stadtkreis, Quartier, Alter und Herkunft/Kreis 6",
          "WBev nach Stadtkreis, Quartier, Alter und Herkunft/Kreis 7",
          "WBev nach Stadtkreis, Quartier, Alter und Herkunft/Kreis 8",
          "WBev nach Stadtkreis, Quartier, Alter und Herkunft/Kreis 9",
          "WBev nach Stadtkreis, Quartier, Alter und Herkunft"
         ],
         "labels": [
          "0-19",
          "100 u. älter",
          "100 u. älter",
          "100 u. älter",
          "100 u. älter",
          "20-39",
          "20-39",
          "40-59",
          "40-59",
          "40-59",
          "40-59",
          "40-59",
          "40-59",
          "40-59",
          "40-59",
          "40-59",
          "40-59",
          "40-59",
          "60-79",
          "60-79",
          "60-79",
          "60-79",
          "60-79",
          "60-79",
          "60-79",
          "60-79",
          "60-79",
          "60-79",
          "60-79",
          "60-79",
          "60-79",
          "60-79",
          "60-79",
          "60-79",
          "60-79",
          "60-79",
          "60-79",
          "60-79",
          "60-79",
          "60-79",
          "60-79",
          "60-79",
          "60-79",
          "60-79",
          "60-79",
          "60-79",
          "60-79",
          "60-79",
          "80-99",
          "80-99",
          "80-99",
          "80-99",
          "80-99",
          "80-99",
          "80-99",
          "80-99",
          "80-99",
          "80-99",
          "80-99",
          "80-99",
          "80-99",
          "80-99",
          "80-99",
          "80-99",
          "80-99",
          "80-99",
          "80-99",
          "80-99",
          "80-99",
          "80-99",
          "80-99",
          "80-99",
          "80-99",
          "80-99",
          "80-99",
          "80-99",
          "80-99",
          "80-99",
          "80-99",
          "80-99",
          "80-99",
          "80-99",
          "80-99",
          "80-99",
          "80-99",
          "Ausländer/in",
          "Ausländer/in",
          "Ausländer/in",
          "Ausländer/in",
          "Ausländer/in",
          "Ausländer/in",
          "Ausländer/in",
          "Ausländer/in",
          "Ausländer/in",
          "Ausländer/in",
          "Ausländer/in",
          "Ausländer/in",
          "Ausländer/in",
          "Schweizer/in",
          "Schweizer/in",
          "Schweizer/in",
          "Schweizer/in",
          "Schweizer/in",
          "Schweizer/in",
          "Schweizer/in",
          "Schweizer/in",
          "Schweizer/in",
          "Schweizer/in",
          "Schweizer/in",
          "Schweizer/in",
          "Schweizer/in",
          "Schweizer/in",
          "Schweizer/in",
          "Schweizer/in",
          "Schweizer/in",
          "Schweizer/in",
          "Schweizer/in",
          "Schweizer/in",
          "Schweizer/in",
          "Schweizer/in",
          "Schweizer/in",
          "Schweizer/in",
          "Schweizer/in",
          "Schweizer/in",
          "Schweizer/in",
          "Schweizer/in",
          "Schweizer/in",
          "Schweizer/in",
          "Schweizer/in",
          "Schweizer/in",
          "Affoltern",
          "Albisrieden",
          "Alt-Wiedikon",
          "Altstetten",
          "Enge",
          "Escher Wyss",
          "Fluntern",
          "Friesenberg",
          "Gewerbeschule",
          "Hard",
          "Hirslanden",
          "Hirzenbach",
          "Hochschulen",
          "Hottingen",
          "Höngg",
          "Leimbach",
          "Lindenhof",
          "Mühlebach",
          "Oberstrass",
          "Oerlikon",
          "Rathaus",
          "Saatlen",
          "Schwamendingen-Mitte",
          "Seebach",
          "Seefeld",
          "Sihlfeld",
          "Unterstrass",
          "Weinegg",
          "Werd",
          "Wipkingen",
          "Witikon",
          "Wollishofen",
          "Kreis 1",
          "Kreis 10",
          "Kreis 11",
          "Kreis 12",
          "Kreis 2",
          "Kreis 3",
          "Kreis 4",
          "Kreis 5",
          "Kreis 6",
          "Kreis 7",
          "Kreis 8",
          "Kreis 9",
          "WBev nach Stadtkreis, Quartier, Alter und Herkunft"
         ],
         "marker": {
          "coloraxis": "coloraxis",
          "colors": [
           1,
           1,
           1,
           1,
           1,
           1,
           1,
           1,
           1,
           1,
           1,
           1,
           1,
           1,
           1,
           1,
           1,
           1,
           1,
           1,
           1,
           1,
           1,
           1,
           1,
           1,
           1,
           1,
           1,
           1,
           1,
           1,
           1,
           1,
           1,
           1,
           1,
           1,
           1,
           1.4,
           1,
           1,
           1,
           1,
           1,
           1,
           1,
           1.2857142857142858,
           1,
           1,
           1,
           1,
           1,
           1,
           1,
           1,
           1,
           1.4444444444444444,
           1.25,
           1.25,
           1,
           1,
           1.5,
           1,
           1,
           1,
           1,
           1,
           1,
           1.3333333333333333,
           1,
           1,
           1,
           1.1818181818181819,
           1,
           1,
           1,
           1,
           1,
           1,
           1,
           1,
           1,
           1,
           1.3529411764705883,
           1,
           1,
           1,
           1,
           1,
           1,
           1,
           1,
           1,
           1,
           1,
           1,
           1,
           1,
           1.3636363636363635,
           1.1818181818181819,
           1.2,
           1,
           1,
           1.3333333333333333,
           1,
           1,
           1,
           1,
           1,
           1,
           1,
           1.2105263157894737,
           1,
           1,
           1,
           1,
           1.25,
           1,
           1,
           1,
           1,
           1,
           1,
           1,
           1,
           1,
           1,
           1,
           1.2857142857142858,
           1,
           1.3478260869565217,
           1.1666666666666667,
           1.1428571428571428,
           1,
           1,
           1.3333333333333333,
           1,
           1,
           1,
           1,
           1,
           1,
           1,
           1.2105263157894737,
           1,
           1,
           1,
           1,
           1.2352941176470589,
           1,
           1,
           1,
           1,
           1,
           1,
           1,
           1,
           1,
           1,
           1,
           1.2758620689655173,
           1,
           1.1333333333333333,
           1.0952380952380953,
           1,
           1.2,
           1.064516129032258,
           1,
           1,
           1,
           1.0833333333333333,
           1,
           1.2702702702702702,
           1.1132075471698113
          ]
         },
         "name": "",
         "parents": [
          "WBev nach Stadtkreis, Quartier, Alter und Herkunft/Kreis 3/Friesenberg/Schweizer/in",
          "WBev nach Stadtkreis, Quartier, Alter und Herkunft/Kreis 2/Enge/Schweizer/in",
          "WBev nach Stadtkreis, Quartier, Alter und Herkunft/Kreis 10/Höngg/Schweizer/in",
          "WBev nach Stadtkreis, Quartier, Alter und Herkunft/Kreis 8/Weinegg/Schweizer/in",
          "WBev nach Stadtkreis, Quartier, Alter und Herkunft/Kreis 2/Wollishofen/Schweizer/in",
          "WBev nach Stadtkreis, Quartier, Alter und Herkunft/Kreis 3/Alt-Wiedikon/Schweizer/in",
          "WBev nach Stadtkreis, Quartier, Alter und Herkunft/Kreis 1/Lindenhof/Schweizer/in",
          "WBev nach Stadtkreis, Quartier, Alter und Herkunft/Kreis 9/Altstetten/Ausländer/in",
          "WBev nach Stadtkreis, Quartier, Alter und Herkunft/Kreis 5/Gewerbeschule/Ausländer/in",
          "WBev nach Stadtkreis, Quartier, Alter und Herkunft/Kreis 12/Hirzenbach/Ausländer/in",
          "WBev nach Stadtkreis, Quartier, Alter und Herkunft/Kreis 6/Oberstrass/Ausländer/in",
          "WBev nach Stadtkreis, Quartier, Alter und Herkunft/Kreis 11/Oerlikon/Ausländer/in",
          "WBev nach Stadtkreis, Quartier, Alter und Herkunft/Kreis 11/Seebach/Ausländer/in",
          "WBev nach Stadtkreis, Quartier, Alter und Herkunft/Kreis 5/Gewerbeschule/Schweizer/in",
          "WBev nach Stadtkreis, Quartier, Alter und Herkunft/Kreis 12/Saatlen/Schweizer/in",
          "WBev nach Stadtkreis, Quartier, Alter und Herkunft/Kreis 11/Seebach/Schweizer/in",
          "WBev nach Stadtkreis, Quartier, Alter und Herkunft/Kreis 10/Wipkingen/Schweizer/in",
          "WBev nach Stadtkreis, Quartier, Alter und Herkunft/Kreis 2/Wollishofen/Schweizer/in",
          "WBev nach Stadtkreis, Quartier, Alter und Herkunft/Kreis 9/Altstetten/Ausländer/in",
          "WBev nach Stadtkreis, Quartier, Alter und Herkunft/Kreis 5/Gewerbeschule/Ausländer/in",
          "WBev nach Stadtkreis, Quartier, Alter und Herkunft/Kreis 6/Oberstrass/Ausländer/in",
          "WBev nach Stadtkreis, Quartier, Alter und Herkunft/Kreis 11/Seebach/Ausländer/in",
          "WBev nach Stadtkreis, Quartier, Alter und Herkunft/Kreis 3/Sihlfeld/Ausländer/in",
          "WBev nach Stadtkreis, Quartier, Alter und Herkunft/Kreis 10/Wipkingen/Ausländer/in",
          "WBev nach Stadtkreis, Quartier, Alter und Herkunft/Kreis 11/Affoltern/Schweizer/in",
          "WBev nach Stadtkreis, Quartier, Alter und Herkunft/Kreis 9/Albisrieden/Schweizer/in",
          "WBev nach Stadtkreis, Quartier, Alter und Herkunft/Kreis 3/Alt-Wiedikon/Schweizer/in",
          "WBev nach Stadtkreis, Quartier, Alter und Herkunft/Kreis 9/Altstetten/Schweizer/in",
          "WBev nach Stadtkreis, Quartier, Alter und Herkunft/Kreis 2/Enge/Schweizer/in",
          "WBev nach Stadtkreis, Quartier, Alter und Herkunft/Kreis 5/Escher Wyss/Schweizer/in",
          "WBev nach Stadtkreis, Quartier, Alter und Herkunft/Kreis 7/Fluntern/Schweizer/in",
          "WBev nach Stadtkreis, Quartier, Alter und Herkunft/Kreis 5/Gewerbeschule/Schweizer/in",
          "WBev nach Stadtkreis, Quartier, Alter und Herkunft/Kreis 7/Hirslanden/Schweizer/in",
          "WBev nach Stadtkreis, Quartier, Alter und Herkunft/Kreis 12/Hirzenbach/Schweizer/in",
          "WBev nach Stadtkreis, Quartier, Alter und Herkunft/Kreis 1/Hochschulen/Schweizer/in",
          "WBev nach Stadtkreis, Quartier, Alter und Herkunft/Kreis 7/Hottingen/Schweizer/in",
          "WBev nach Stadtkreis, Quartier, Alter und Herkunft/Kreis 10/Höngg/Schweizer/in",
          "WBev nach Stadtkreis, Quartier, Alter und Herkunft/Kreis 2/Leimbach/Schweizer/in",
          "WBev nach Stadtkreis, Quartier, Alter und Herkunft/Kreis 1/Lindenhof/Schweizer/in",
          "WBev nach Stadtkreis, Quartier, Alter und Herkunft/Kreis 11/Oerlikon/Schweizer/in",
          "WBev nach Stadtkreis, Quartier, Alter und Herkunft/Kreis 1/Rathaus/Schweizer/in",
          "WBev nach Stadtkreis, Quartier, Alter und Herkunft/Kreis 11/Seebach/Schweizer/in",
          "WBev nach Stadtkreis, Quartier, Alter und Herkunft/Kreis 8/Seefeld/Schweizer/in",
          "WBev nach Stadtkreis, Quartier, Alter und Herkunft/Kreis 3/Sihlfeld/Schweizer/in",
          "WBev nach Stadtkreis, Quartier, Alter und Herkunft/Kreis 6/Unterstrass/Schweizer/in",
          "WBev nach Stadtkreis, Quartier, Alter und Herkunft/Kreis 10/Wipkingen/Schweizer/in",
          "WBev nach Stadtkreis, Quartier, Alter und Herkunft/Kreis 7/Witikon/Schweizer/in",
          "WBev nach Stadtkreis, Quartier, Alter und Herkunft/Kreis 2/Wollishofen/Schweizer/in",
          "WBev nach Stadtkreis, Quartier, Alter und Herkunft/Kreis 11/Affoltern/Ausländer/in",
          "WBev nach Stadtkreis, Quartier, Alter und Herkunft/Kreis 9/Albisrieden/Ausländer/in",
          "WBev nach Stadtkreis, Quartier, Alter und Herkunft/Kreis 3/Alt-Wiedikon/Ausländer/in",
          "WBev nach Stadtkreis, Quartier, Alter und Herkunft/Kreis 9/Altstetten/Ausländer/in",
          "WBev nach Stadtkreis, Quartier, Alter und Herkunft/Kreis 12/Hirzenbach/Ausländer/in",
          "WBev nach Stadtkreis, Quartier, Alter und Herkunft/Kreis 11/Seebach/Ausländer/in",
          "WBev nach Stadtkreis, Quartier, Alter und Herkunft/Kreis 6/Unterstrass/Ausländer/in",
          "WBev nach Stadtkreis, Quartier, Alter und Herkunft/Kreis 2/Wollishofen/Ausländer/in",
          "WBev nach Stadtkreis, Quartier, Alter und Herkunft/Kreis 11/Affoltern/Schweizer/in",
          "WBev nach Stadtkreis, Quartier, Alter und Herkunft/Kreis 9/Albisrieden/Schweizer/in",
          "WBev nach Stadtkreis, Quartier, Alter und Herkunft/Kreis 3/Alt-Wiedikon/Schweizer/in",
          "WBev nach Stadtkreis, Quartier, Alter und Herkunft/Kreis 9/Altstetten/Schweizer/in",
          "WBev nach Stadtkreis, Quartier, Alter und Herkunft/Kreis 2/Enge/Schweizer/in",
          "WBev nach Stadtkreis, Quartier, Alter und Herkunft/Kreis 5/Escher Wyss/Schweizer/in",
          "WBev nach Stadtkreis, Quartier, Alter und Herkunft/Kreis 7/Fluntern/Schweizer/in",
          "WBev nach Stadtkreis, Quartier, Alter und Herkunft/Kreis 3/Friesenberg/Schweizer/in",
          "WBev nach Stadtkreis, Quartier, Alter und Herkunft/Kreis 5/Gewerbeschule/Schweizer/in",
          "WBev nach Stadtkreis, Quartier, Alter und Herkunft/Kreis 4/Hard/Schweizer/in",
          "WBev nach Stadtkreis, Quartier, Alter und Herkunft/Kreis 7/Hirslanden/Schweizer/in",
          "WBev nach Stadtkreis, Quartier, Alter und Herkunft/Kreis 12/Hirzenbach/Schweizer/in",
          "WBev nach Stadtkreis, Quartier, Alter und Herkunft/Kreis 7/Hottingen/Schweizer/in",
          "WBev nach Stadtkreis, Quartier, Alter und Herkunft/Kreis 10/Höngg/Schweizer/in",
          "WBev nach Stadtkreis, Quartier, Alter und Herkunft/Kreis 2/Leimbach/Schweizer/in",
          "WBev nach Stadtkreis, Quartier, Alter und Herkunft/Kreis 8/Mühlebach/Schweizer/in",
          "WBev nach Stadtkreis, Quartier, Alter und Herkunft/Kreis 6/Oberstrass/Schweizer/in",
          "WBev nach Stadtkreis, Quartier, Alter und Herkunft/Kreis 11/Oerlikon/Schweizer/in",
          "WBev nach Stadtkreis, Quartier, Alter und Herkunft/Kreis 12/Saatlen/Schweizer/in",
          "WBev nach Stadtkreis, Quartier, Alter und Herkunft/Kreis 12/Schwamendingen-Mitte/Schweizer/in",
          "WBev nach Stadtkreis, Quartier, Alter und Herkunft/Kreis 11/Seebach/Schweizer/in",
          "WBev nach Stadtkreis, Quartier, Alter und Herkunft/Kreis 8/Seefeld/Schweizer/in",
          "WBev nach Stadtkreis, Quartier, Alter und Herkunft/Kreis 3/Sihlfeld/Schweizer/in",
          "WBev nach Stadtkreis, Quartier, Alter und Herkunft/Kreis 6/Unterstrass/Schweizer/in",
          "WBev nach Stadtkreis, Quartier, Alter und Herkunft/Kreis 8/Weinegg/Schweizer/in",
          "WBev nach Stadtkreis, Quartier, Alter und Herkunft/Kreis 4/Werd/Schweizer/in",
          "WBev nach Stadtkreis, Quartier, Alter und Herkunft/Kreis 10/Wipkingen/Schweizer/in",
          "WBev nach Stadtkreis, Quartier, Alter und Herkunft/Kreis 7/Witikon/Schweizer/in",
          "WBev nach Stadtkreis, Quartier, Alter und Herkunft/Kreis 2/Wollishofen/Schweizer/in",
          "WBev nach Stadtkreis, Quartier, Alter und Herkunft/Kreis 11/Affoltern",
          "WBev nach Stadtkreis, Quartier, Alter und Herkunft/Kreis 9/Albisrieden",
          "WBev nach Stadtkreis, Quartier, Alter und Herkunft/Kreis 3/Alt-Wiedikon",
          "WBev nach Stadtkreis, Quartier, Alter und Herkunft/Kreis 9/Altstetten",
          "WBev nach Stadtkreis, Quartier, Alter und Herkunft/Kreis 5/Gewerbeschule",
          "WBev nach Stadtkreis, Quartier, Alter und Herkunft/Kreis 12/Hirzenbach",
          "WBev nach Stadtkreis, Quartier, Alter und Herkunft/Kreis 6/Oberstrass",
          "WBev nach Stadtkreis, Quartier, Alter und Herkunft/Kreis 11/Oerlikon",
          "WBev nach Stadtkreis, Quartier, Alter und Herkunft/Kreis 11/Seebach",
          "WBev nach Stadtkreis, Quartier, Alter und Herkunft/Kreis 3/Sihlfeld",
          "WBev nach Stadtkreis, Quartier, Alter und Herkunft/Kreis 6/Unterstrass",
          "WBev nach Stadtkreis, Quartier, Alter und Herkunft/Kreis 10/Wipkingen",
          "WBev nach Stadtkreis, Quartier, Alter und Herkunft/Kreis 2/Wollishofen",
          "WBev nach Stadtkreis, Quartier, Alter und Herkunft/Kreis 11/Affoltern",
          "WBev nach Stadtkreis, Quartier, Alter und Herkunft/Kreis 9/Albisrieden",
          "WBev nach Stadtkreis, Quartier, Alter und Herkunft/Kreis 3/Alt-Wiedikon",
          "WBev nach Stadtkreis, Quartier, Alter und Herkunft/Kreis 9/Altstetten",
          "WBev nach Stadtkreis, Quartier, Alter und Herkunft/Kreis 2/Enge",
          "WBev nach Stadtkreis, Quartier, Alter und Herkunft/Kreis 5/Escher Wyss",
          "WBev nach Stadtkreis, Quartier, Alter und Herkunft/Kreis 7/Fluntern",
          "WBev nach Stadtkreis, Quartier, Alter und Herkunft/Kreis 3/Friesenberg",
          "WBev nach Stadtkreis, Quartier, Alter und Herkunft/Kreis 5/Gewerbeschule",
          "WBev nach Stadtkreis, Quartier, Alter und Herkunft/Kreis 4/Hard",
          "WBev nach Stadtkreis, Quartier, Alter und Herkunft/Kreis 7/Hirslanden",
          "WBev nach Stadtkreis, Quartier, Alter und Herkunft/Kreis 12/Hirzenbach",
          "WBev nach Stadtkreis, Quartier, Alter und Herkunft/Kreis 1/Hochschulen",
          "WBev nach Stadtkreis, Quartier, Alter und Herkunft/Kreis 7/Hottingen",
          "WBev nach Stadtkreis, Quartier, Alter und Herkunft/Kreis 10/Höngg",
          "WBev nach Stadtkreis, Quartier, Alter und Herkunft/Kreis 2/Leimbach",
          "WBev nach Stadtkreis, Quartier, Alter und Herkunft/Kreis 1/Lindenhof",
          "WBev nach Stadtkreis, Quartier, Alter und Herkunft/Kreis 8/Mühlebach",
          "WBev nach Stadtkreis, Quartier, Alter und Herkunft/Kreis 6/Oberstrass",
          "WBev nach Stadtkreis, Quartier, Alter und Herkunft/Kreis 11/Oerlikon",
          "WBev nach Stadtkreis, Quartier, Alter und Herkunft/Kreis 1/Rathaus",
          "WBev nach Stadtkreis, Quartier, Alter und Herkunft/Kreis 12/Saatlen",
          "WBev nach Stadtkreis, Quartier, Alter und Herkunft/Kreis 12/Schwamendingen-Mitte",
          "WBev nach Stadtkreis, Quartier, Alter und Herkunft/Kreis 11/Seebach",
          "WBev nach Stadtkreis, Quartier, Alter und Herkunft/Kreis 8/Seefeld",
          "WBev nach Stadtkreis, Quartier, Alter und Herkunft/Kreis 3/Sihlfeld",
          "WBev nach Stadtkreis, Quartier, Alter und Herkunft/Kreis 6/Unterstrass",
          "WBev nach Stadtkreis, Quartier, Alter und Herkunft/Kreis 8/Weinegg",
          "WBev nach Stadtkreis, Quartier, Alter und Herkunft/Kreis 4/Werd",
          "WBev nach Stadtkreis, Quartier, Alter und Herkunft/Kreis 10/Wipkingen",
          "WBev nach Stadtkreis, Quartier, Alter und Herkunft/Kreis 7/Witikon",
          "WBev nach Stadtkreis, Quartier, Alter und Herkunft/Kreis 2/Wollishofen",
          "WBev nach Stadtkreis, Quartier, Alter und Herkunft/Kreis 11",
          "WBev nach Stadtkreis, Quartier, Alter und Herkunft/Kreis 9",
          "WBev nach Stadtkreis, Quartier, Alter und Herkunft/Kreis 3",
          "WBev nach Stadtkreis, Quartier, Alter und Herkunft/Kreis 9",
          "WBev nach Stadtkreis, Quartier, Alter und Herkunft/Kreis 2",
          "WBev nach Stadtkreis, Quartier, Alter und Herkunft/Kreis 5",
          "WBev nach Stadtkreis, Quartier, Alter und Herkunft/Kreis 7",
          "WBev nach Stadtkreis, Quartier, Alter und Herkunft/Kreis 3",
          "WBev nach Stadtkreis, Quartier, Alter und Herkunft/Kreis 5",
          "WBev nach Stadtkreis, Quartier, Alter und Herkunft/Kreis 4",
          "WBev nach Stadtkreis, Quartier, Alter und Herkunft/Kreis 7",
          "WBev nach Stadtkreis, Quartier, Alter und Herkunft/Kreis 12",
          "WBev nach Stadtkreis, Quartier, Alter und Herkunft/Kreis 1",
          "WBev nach Stadtkreis, Quartier, Alter und Herkunft/Kreis 7",
          "WBev nach Stadtkreis, Quartier, Alter und Herkunft/Kreis 10",
          "WBev nach Stadtkreis, Quartier, Alter und Herkunft/Kreis 2",
          "WBev nach Stadtkreis, Quartier, Alter und Herkunft/Kreis 1",
          "WBev nach Stadtkreis, Quartier, Alter und Herkunft/Kreis 8",
          "WBev nach Stadtkreis, Quartier, Alter und Herkunft/Kreis 6",
          "WBev nach Stadtkreis, Quartier, Alter und Herkunft/Kreis 11",
          "WBev nach Stadtkreis, Quartier, Alter und Herkunft/Kreis 1",
          "WBev nach Stadtkreis, Quartier, Alter und Herkunft/Kreis 12",
          "WBev nach Stadtkreis, Quartier, Alter und Herkunft/Kreis 12",
          "WBev nach Stadtkreis, Quartier, Alter und Herkunft/Kreis 11",
          "WBev nach Stadtkreis, Quartier, Alter und Herkunft/Kreis 8",
          "WBev nach Stadtkreis, Quartier, Alter und Herkunft/Kreis 3",
          "WBev nach Stadtkreis, Quartier, Alter und Herkunft/Kreis 6",
          "WBev nach Stadtkreis, Quartier, Alter und Herkunft/Kreis 8",
          "WBev nach Stadtkreis, Quartier, Alter und Herkunft/Kreis 4",
          "WBev nach Stadtkreis, Quartier, Alter und Herkunft/Kreis 10",
          "WBev nach Stadtkreis, Quartier, Alter und Herkunft/Kreis 7",
          "WBev nach Stadtkreis, Quartier, Alter und Herkunft/Kreis 2",
          "WBev nach Stadtkreis, Quartier, Alter und Herkunft",
          "WBev nach Stadtkreis, Quartier, Alter und Herkunft",
          "WBev nach Stadtkreis, Quartier, Alter und Herkunft",
          "WBev nach Stadtkreis, Quartier, Alter und Herkunft",
          "WBev nach Stadtkreis, Quartier, Alter und Herkunft",
          "WBev nach Stadtkreis, Quartier, Alter und Herkunft",
          "WBev nach Stadtkreis, Quartier, Alter und Herkunft",
          "WBev nach Stadtkreis, Quartier, Alter und Herkunft",
          "WBev nach Stadtkreis, Quartier, Alter und Herkunft",
          "WBev nach Stadtkreis, Quartier, Alter und Herkunft",
          "WBev nach Stadtkreis, Quartier, Alter und Herkunft",
          "WBev nach Stadtkreis, Quartier, Alter und Herkunft",
          ""
         ],
         "root": {
          "color": "grey"
         },
         "type": "treemap",
         "values": [
          1,
          1,
          1,
          1,
          1,
          1,
          1,
          2,
          1,
          1,
          1,
          1,
          1,
          1,
          1,
          1,
          2,
          3,
          1,
          1,
          1,
          2,
          1,
          1,
          4,
          4,
          2,
          2,
          1,
          1,
          2,
          2,
          2,
          3,
          2,
          1,
          6,
          1,
          1,
          5,
          1,
          2,
          3,
          6,
          1,
          5,
          2,
          7,
          1,
          1,
          1,
          1,
          1,
          1,
          1,
          1,
          7,
          18,
          8,
          8,
          4,
          2,
          4,
          4,
          3,
          2,
          3,
          6,
          2,
          12,
          4,
          2,
          3,
          11,
          1,
          7,
          6,
          1,
          7,
          5,
          2,
          2,
          3,
          8,
          17,
          1,
          1,
          1,
          4,
          2,
          2,
          2,
          1,
          4,
          1,
          1,
          1,
          1,
          11,
          22,
          11,
          10,
          6,
          3,
          6,
          5,
          6,
          2,
          5,
          9,
          2,
          3,
          19,
          5,
          2,
          2,
          3,
          16,
          1,
          2,
          7,
          9,
          4,
          13,
          6,
          3,
          2,
          10,
          10,
          28,
          12,
          23,
          12,
          14,
          6,
          3,
          6,
          5,
          8,
          2,
          5,
          11,
          2,
          3,
          19,
          5,
          2,
          2,
          5,
          17,
          1,
          2,
          7,
          13,
          4,
          14,
          7,
          3,
          2,
          11,
          10,
          29,
          5,
          30,
          42,
          20,
          40,
          31,
          4,
          11,
          12,
          24,
          9,
          37,
          265
         ]
        }
       ],
       "layout": {
        "autosize": true,
        "coloraxis": {
         "colorbar": {
          "title": {
           "text": "sum_WBev"
          }
         },
         "colorscale": [
          [
           0,
           "rgb(247,251,255)"
          ],
          [
           0.125,
           "rgb(222,235,247)"
          ],
          [
           0.25,
           "rgb(198,219,239)"
          ],
          [
           0.375,
           "rgb(158,202,225)"
          ],
          [
           0.5,
           "rgb(107,174,214)"
          ],
          [
           0.625,
           "rgb(66,146,198)"
          ],
          [
           0.75,
           "rgb(33,113,181)"
          ],
          [
           0.875,
           "rgb(8,81,156)"
          ],
          [
           1,
           "rgb(8,48,107)"
          ]
         ]
        },
        "legend": {
         "tracegroupgap": 0
        },
        "margin": {
         "b": 25,
         "l": 25,
         "r": 250,
         "t": 50
        },
        "template": {
         "data": {
          "bar": [
           {
            "error_x": {
             "color": "#2a3f5f"
            },
            "error_y": {
             "color": "#2a3f5f"
            },
            "marker": {
             "line": {
              "color": "#E5ECF6",
              "width": 0.5
             },
             "pattern": {
              "fillmode": "overlay",
              "size": 10,
              "solidity": 0.2
             }
            },
            "type": "bar"
           }
          ],
          "barpolar": [
           {
            "marker": {
             "line": {
              "color": "#E5ECF6",
              "width": 0.5
             },
             "pattern": {
              "fillmode": "overlay",
              "size": 10,
              "solidity": 0.2
             }
            },
            "type": "barpolar"
           }
          ],
          "carpet": [
           {
            "aaxis": {
             "endlinecolor": "#2a3f5f",
             "gridcolor": "white",
             "linecolor": "white",
             "minorgridcolor": "white",
             "startlinecolor": "#2a3f5f"
            },
            "baxis": {
             "endlinecolor": "#2a3f5f",
             "gridcolor": "white",
             "linecolor": "white",
             "minorgridcolor": "white",
             "startlinecolor": "#2a3f5f"
            },
            "type": "carpet"
           }
          ],
          "choropleth": [
           {
            "colorbar": {
             "outlinewidth": 0,
             "ticks": ""
            },
            "type": "choropleth"
           }
          ],
          "contour": [
           {
            "colorbar": {
             "outlinewidth": 0,
             "ticks": ""
            },
            "colorscale": [
             [
              0,
              "#0d0887"
             ],
             [
              0.1111111111111111,
              "#46039f"
             ],
             [
              0.2222222222222222,
              "#7201a8"
             ],
             [
              0.3333333333333333,
              "#9c179e"
             ],
             [
              0.4444444444444444,
              "#bd3786"
             ],
             [
              0.5555555555555556,
              "#d8576b"
             ],
             [
              0.6666666666666666,
              "#ed7953"
             ],
             [
              0.7777777777777778,
              "#fb9f3a"
             ],
             [
              0.8888888888888888,
              "#fdca26"
             ],
             [
              1,
              "#f0f921"
             ]
            ],
            "type": "contour"
           }
          ],
          "contourcarpet": [
           {
            "colorbar": {
             "outlinewidth": 0,
             "ticks": ""
            },
            "type": "contourcarpet"
           }
          ],
          "heatmap": [
           {
            "colorbar": {
             "outlinewidth": 0,
             "ticks": ""
            },
            "colorscale": [
             [
              0,
              "#0d0887"
             ],
             [
              0.1111111111111111,
              "#46039f"
             ],
             [
              0.2222222222222222,
              "#7201a8"
             ],
             [
              0.3333333333333333,
              "#9c179e"
             ],
             [
              0.4444444444444444,
              "#bd3786"
             ],
             [
              0.5555555555555556,
              "#d8576b"
             ],
             [
              0.6666666666666666,
              "#ed7953"
             ],
             [
              0.7777777777777778,
              "#fb9f3a"
             ],
             [
              0.8888888888888888,
              "#fdca26"
             ],
             [
              1,
              "#f0f921"
             ]
            ],
            "type": "heatmap"
           }
          ],
          "heatmapgl": [
           {
            "colorbar": {
             "outlinewidth": 0,
             "ticks": ""
            },
            "colorscale": [
             [
              0,
              "#0d0887"
             ],
             [
              0.1111111111111111,
              "#46039f"
             ],
             [
              0.2222222222222222,
              "#7201a8"
             ],
             [
              0.3333333333333333,
              "#9c179e"
             ],
             [
              0.4444444444444444,
              "#bd3786"
             ],
             [
              0.5555555555555556,
              "#d8576b"
             ],
             [
              0.6666666666666666,
              "#ed7953"
             ],
             [
              0.7777777777777778,
              "#fb9f3a"
             ],
             [
              0.8888888888888888,
              "#fdca26"
             ],
             [
              1,
              "#f0f921"
             ]
            ],
            "type": "heatmapgl"
           }
          ],
          "histogram": [
           {
            "marker": {
             "pattern": {
              "fillmode": "overlay",
              "size": 10,
              "solidity": 0.2
             }
            },
            "type": "histogram"
           }
          ],
          "histogram2d": [
           {
            "colorbar": {
             "outlinewidth": 0,
             "ticks": ""
            },
            "colorscale": [
             [
              0,
              "#0d0887"
             ],
             [
              0.1111111111111111,
              "#46039f"
             ],
             [
              0.2222222222222222,
              "#7201a8"
             ],
             [
              0.3333333333333333,
              "#9c179e"
             ],
             [
              0.4444444444444444,
              "#bd3786"
             ],
             [
              0.5555555555555556,
              "#d8576b"
             ],
             [
              0.6666666666666666,
              "#ed7953"
             ],
             [
              0.7777777777777778,
              "#fb9f3a"
             ],
             [
              0.8888888888888888,
              "#fdca26"
             ],
             [
              1,
              "#f0f921"
             ]
            ],
            "type": "histogram2d"
           }
          ],
          "histogram2dcontour": [
           {
            "colorbar": {
             "outlinewidth": 0,
             "ticks": ""
            },
            "colorscale": [
             [
              0,
              "#0d0887"
             ],
             [
              0.1111111111111111,
              "#46039f"
             ],
             [
              0.2222222222222222,
              "#7201a8"
             ],
             [
              0.3333333333333333,
              "#9c179e"
             ],
             [
              0.4444444444444444,
              "#bd3786"
             ],
             [
              0.5555555555555556,
              "#d8576b"
             ],
             [
              0.6666666666666666,
              "#ed7953"
             ],
             [
              0.7777777777777778,
              "#fb9f3a"
             ],
             [
              0.8888888888888888,
              "#fdca26"
             ],
             [
              1,
              "#f0f921"
             ]
            ],
            "type": "histogram2dcontour"
           }
          ],
          "mesh3d": [
           {
            "colorbar": {
             "outlinewidth": 0,
             "ticks": ""
            },
            "type": "mesh3d"
           }
          ],
          "parcoords": [
           {
            "line": {
             "colorbar": {
              "outlinewidth": 0,
              "ticks": ""
             }
            },
            "type": "parcoords"
           }
          ],
          "pie": [
           {
            "automargin": true,
            "type": "pie"
           }
          ],
          "scatter": [
           {
            "marker": {
             "colorbar": {
              "outlinewidth": 0,
              "ticks": ""
             }
            },
            "type": "scatter"
           }
          ],
          "scatter3d": [
           {
            "line": {
             "colorbar": {
              "outlinewidth": 0,
              "ticks": ""
             }
            },
            "marker": {
             "colorbar": {
              "outlinewidth": 0,
              "ticks": ""
             }
            },
            "type": "scatter3d"
           }
          ],
          "scattercarpet": [
           {
            "marker": {
             "colorbar": {
              "outlinewidth": 0,
              "ticks": ""
             }
            },
            "type": "scattercarpet"
           }
          ],
          "scattergeo": [
           {
            "marker": {
             "colorbar": {
              "outlinewidth": 0,
              "ticks": ""
             }
            },
            "type": "scattergeo"
           }
          ],
          "scattergl": [
           {
            "marker": {
             "colorbar": {
              "outlinewidth": 0,
              "ticks": ""
             }
            },
            "type": "scattergl"
           }
          ],
          "scattermapbox": [
           {
            "marker": {
             "colorbar": {
              "outlinewidth": 0,
              "ticks": ""
             }
            },
            "type": "scattermapbox"
           }
          ],
          "scatterpolar": [
           {
            "marker": {
             "colorbar": {
              "outlinewidth": 0,
              "ticks": ""
             }
            },
            "type": "scatterpolar"
           }
          ],
          "scatterpolargl": [
           {
            "marker": {
             "colorbar": {
              "outlinewidth": 0,
              "ticks": ""
             }
            },
            "type": "scatterpolargl"
           }
          ],
          "scatterternary": [
           {
            "marker": {
             "colorbar": {
              "outlinewidth": 0,
              "ticks": ""
             }
            },
            "type": "scatterternary"
           }
          ],
          "surface": [
           {
            "colorbar": {
             "outlinewidth": 0,
             "ticks": ""
            },
            "colorscale": [
             [
              0,
              "#0d0887"
             ],
             [
              0.1111111111111111,
              "#46039f"
             ],
             [
              0.2222222222222222,
              "#7201a8"
             ],
             [
              0.3333333333333333,
              "#9c179e"
             ],
             [
              0.4444444444444444,
              "#bd3786"
             ],
             [
              0.5555555555555556,
              "#d8576b"
             ],
             [
              0.6666666666666666,
              "#ed7953"
             ],
             [
              0.7777777777777778,
              "#fb9f3a"
             ],
             [
              0.8888888888888888,
              "#fdca26"
             ],
             [
              1,
              "#f0f921"
             ]
            ],
            "type": "surface"
           }
          ],
          "table": [
           {
            "cells": {
             "fill": {
              "color": "#EBF0F8"
             },
             "line": {
              "color": "white"
             }
            },
            "header": {
             "fill": {
              "color": "#C8D4E3"
             },
             "line": {
              "color": "white"
             }
            },
            "type": "table"
           }
          ]
         },
         "layout": {
          "annotationdefaults": {
           "arrowcolor": "#2a3f5f",
           "arrowhead": 0,
           "arrowwidth": 1
          },
          "autotypenumbers": "strict",
          "coloraxis": {
           "colorbar": {
            "outlinewidth": 0,
            "ticks": ""
           }
          },
          "colorscale": {
           "diverging": [
            [
             0,
             "#8e0152"
            ],
            [
             0.1,
             "#c51b7d"
            ],
            [
             0.2,
             "#de77ae"
            ],
            [
             0.3,
             "#f1b6da"
            ],
            [
             0.4,
             "#fde0ef"
            ],
            [
             0.5,
             "#f7f7f7"
            ],
            [
             0.6,
             "#e6f5d0"
            ],
            [
             0.7,
             "#b8e186"
            ],
            [
             0.8,
             "#7fbc41"
            ],
            [
             0.9,
             "#4d9221"
            ],
            [
             1,
             "#276419"
            ]
           ],
           "sequential": [
            [
             0,
             "#0d0887"
            ],
            [
             0.1111111111111111,
             "#46039f"
            ],
            [
             0.2222222222222222,
             "#7201a8"
            ],
            [
             0.3333333333333333,
             "#9c179e"
            ],
            [
             0.4444444444444444,
             "#bd3786"
            ],
            [
             0.5555555555555556,
             "#d8576b"
            ],
            [
             0.6666666666666666,
             "#ed7953"
            ],
            [
             0.7777777777777778,
             "#fb9f3a"
            ],
            [
             0.8888888888888888,
             "#fdca26"
            ],
            [
             1,
             "#f0f921"
            ]
           ],
           "sequentialminus": [
            [
             0,
             "#0d0887"
            ],
            [
             0.1111111111111111,
             "#46039f"
            ],
            [
             0.2222222222222222,
             "#7201a8"
            ],
            [
             0.3333333333333333,
             "#9c179e"
            ],
            [
             0.4444444444444444,
             "#bd3786"
            ],
            [
             0.5555555555555556,
             "#d8576b"
            ],
            [
             0.6666666666666666,
             "#ed7953"
            ],
            [
             0.7777777777777778,
             "#fb9f3a"
            ],
            [
             0.8888888888888888,
             "#fdca26"
            ],
            [
             1,
             "#f0f921"
            ]
           ]
          },
          "colorway": [
           "#636efa",
           "#EF553B",
           "#00cc96",
           "#ab63fa",
           "#FFA15A",
           "#19d3f3",
           "#FF6692",
           "#B6E880",
           "#FF97FF",
           "#FECB52"
          ],
          "font": {
           "color": "#2a3f5f"
          },
          "geo": {
           "bgcolor": "white",
           "lakecolor": "white",
           "landcolor": "#E5ECF6",
           "showlakes": true,
           "showland": true,
           "subunitcolor": "white"
          },
          "hoverlabel": {
           "align": "left"
          },
          "hovermode": "closest",
          "mapbox": {
           "style": "light"
          },
          "paper_bgcolor": "white",
          "plot_bgcolor": "#E5ECF6",
          "polar": {
           "angularaxis": {
            "gridcolor": "white",
            "linecolor": "white",
            "ticks": ""
           },
           "bgcolor": "#E5ECF6",
           "radialaxis": {
            "gridcolor": "white",
            "linecolor": "white",
            "ticks": ""
           }
          },
          "scene": {
           "xaxis": {
            "backgroundcolor": "#E5ECF6",
            "gridcolor": "white",
            "gridwidth": 2,
            "linecolor": "white",
            "showbackground": true,
            "ticks": "",
            "zerolinecolor": "white"
           },
           "yaxis": {
            "backgroundcolor": "#E5ECF6",
            "gridcolor": "white",
            "gridwidth": 2,
            "linecolor": "white",
            "showbackground": true,
            "ticks": "",
            "zerolinecolor": "white"
           },
           "zaxis": {
            "backgroundcolor": "#E5ECF6",
            "gridcolor": "white",
            "gridwidth": 2,
            "linecolor": "white",
            "showbackground": true,
            "ticks": "",
            "zerolinecolor": "white"
           }
          },
          "shapedefaults": {
           "line": {
            "color": "#2a3f5f"
           }
          },
          "ternary": {
           "aaxis": {
            "gridcolor": "white",
            "linecolor": "white",
            "ticks": ""
           },
           "baxis": {
            "gridcolor": "white",
            "linecolor": "white",
            "ticks": ""
           },
           "bgcolor": "#E5ECF6",
           "caxis": {
            "gridcolor": "white",
            "linecolor": "white",
            "ticks": ""
           }
          },
          "title": {
           "x": 0.05
          },
          "xaxis": {
           "automargin": true,
           "gridcolor": "white",
           "linecolor": "white",
           "ticks": "",
           "title": {
            "standoff": 15
           },
           "zerolinecolor": "white",
           "zerolinewidth": 2
          },
          "yaxis": {
           "automargin": true,
           "gridcolor": "white",
           "linecolor": "white",
           "ticks": "",
           "title": {
            "standoff": 15
           },
           "zerolinecolor": "white",
           "zerolinewidth": 2
          }
         }
        }
       }
      },
      "image/png": "[encoded data removed]",
      "text/html": [
       "<div>                            <div id=\"180a2c5e-c96a-4f0e-af5a-56093c7f210b\" class=\"plotly-graph-div\" style=\"height:525px; width:100%;\"></div>            <script type=\"text/javascript\">                require([\"plotly\"], function(Plotly) {                    window.PLOTLYENV=window.PLOTLYENV || {};                                    if (document.getElementById(\"180a2c5e-c96a-4f0e-af5a-56093c7f210b\")) {                    Plotly.newPlot(                        \"180a2c5e-c96a-4f0e-af5a-56093c7f210b\",                        [{\"branchvalues\":\"total\",\"customdata\":[[1.0],[1.0],[1.0],[1.0],[1.0],[1.0],[1.0],[1.0],[1.0],[1.0],[1.0],[1.0],[1.0],[1.0],[1.0],[1.0],[1.0],[1.0],[1.0],[1.0],[1.0],[1.0],[1.0],[1.0],[1.0],[1.0],[1.0],[1.0],[1.0],[1.0],[1.0],[1.0],[1.0],[1.0],[1.0],[1.0],[1.0],[1.0],[1.0],[1.4],[1.0],[1.0],[1.0],[1.0],[1.0],[1.0],[1.0],[1.2857142857142858],[1.0],[1.0],[1.0],[1.0],[1.0],[1.0],[1.0],[1.0],[1.0],[1.4444444444444444],[1.25],[1.25],[1.0],[1.0],[1.5],[1.0],[1.0],[1.0],[1.0],[1.0],[1.0],[1.3333333333333333],[1.0],[1.0],[1.0],[1.1818181818181819],[1.0],[1.0],[1.0],[1.0],[1.0],[1.0],[1.0],[1.0],[1.0],[1.0],[1.3529411764705883],[1.0],[1.0],[1.0],[1.0],[1.0],[1.0],[1.0],[1.0],[1.0],[1.0],[1.0],[1.0],[1.0],[1.0],[1.3636363636363635],[1.1818181818181819],[1.2],[1.0],[1.0],[1.3333333333333333],[1.0],[1.0],[1.0],[1.0],[1.0],[1.0],[1.0],[1.2105263157894737],[1.0],[1.0],[1.0],[1.0],[1.25],[1.0],[1.0],[1.0],[1.0],[1.0],[1.0],[1.0],[1.0],[1.0],[1.0],[1.0],[1.2857142857142858],[1.0],[1.3478260869565217],[1.1666666666666667],[1.1428571428571428],[1.0],[1.0],[1.3333333333333333],[1.0],[1.0],[1.0],[1.0],[1.0],[1.0],[1.0],[1.2105263157894737],[1.0],[1.0],[1.0],[1.0],[1.2352941176470589],[1.0],[1.0],[1.0],[1.0],[1.0],[1.0],[1.0],[1.0],[1.0],[1.0],[1.0],[1.2758620689655173],[1.0],[1.1333333333333333],[1.0952380952380953],[1.0],[1.2],[1.064516129032258],[1.0],[1.0],[1.0],[1.0833333333333333],[1.0],[1.2702702702702702],[1.1132075471698113]],\"domain\":{\"x\":[0.0,1.0],\"y\":[0.0,1.0]},\"hovertemplate\":\"labels=%{label}<br>sum_WBev_sum=%{value}<br>parent=%{parent}<br>id=%{id}<br>sum_WBev=%{color}<extra></extra>\",\"ids\":[\"WBev nach Stadtkreis, Quartier, Alter und Herkunft/Kreis 3/Friesenberg/Schweizer/in/0-19\",\"WBev nach Stadtkreis, Quartier, Alter und Herkunft/Kreis 2/Enge/Schweizer/in/100 u. \\u00e4lter\",\"WBev nach Stadtkreis, Quartier, Alter und Herkunft/Kreis 10/H\\u00f6ngg/Schweizer/in/100 u. \\u00e4lter\",\"WBev nach Stadtkreis, Quartier, Alter und Herkunft/Kreis 8/Weinegg/Schweizer/in/100 u. \\u00e4lter\",\"WBev nach Stadtkreis, Quartier, Alter und Herkunft/Kreis 2/Wollishofen/Schweizer/in/100 u. \\u00e4lter\",\"WBev nach Stadtkreis, Quartier, Alter und Herkunft/Kreis 3/Alt-Wiedikon/Schweizer/in/20-39\",\"WBev nach Stadtkreis, Quartier, Alter und Herkunft/Kreis 1/Lindenhof/Schweizer/in/20-39\",\"WBev nach Stadtkreis, Quartier, Alter und Herkunft/Kreis 9/Altstetten/Ausl\\u00e4nder/in/40-59\",\"WBev nach Stadtkreis, Quartier, Alter und Herkunft/Kreis 5/Gewerbeschule/Ausl\\u00e4nder/in/40-59\",\"WBev nach Stadtkreis, Quartier, Alter und Herkunft/Kreis 12/Hirzenbach/Ausl\\u00e4nder/in/40-59\",\"WBev nach Stadtkreis, Quartier, Alter und Herkunft/Kreis 6/Oberstrass/Ausl\\u00e4nder/in/40-59\",\"WBev nach Stadtkreis, Quartier, Alter und Herkunft/Kreis 11/Oerlikon/Ausl\\u00e4nder/in/40-59\",\"WBev nach Stadtkreis, Quartier, Alter und Herkunft/Kreis 11/Seebach/Ausl\\u00e4nder/in/40-59\",\"WBev nach Stadtkreis, Quartier, Alter und Herkunft/Kreis 5/Gewerbeschule/Schweizer/in/40-59\",\"WBev nach Stadtkreis, Quartier, Alter und Herkunft/Kreis 12/Saatlen/Schweizer/in/40-59\",\"WBev nach Stadtkreis, Quartier, Alter und Herkunft/Kreis 11/Seebach/Schweizer/in/40-59\",\"WBev nach Stadtkreis, Quartier, Alter und Herkunft/Kreis 10/Wipkingen/Schweizer/in/40-59\",\"WBev nach Stadtkreis, Quartier, Alter und Herkunft/Kreis 2/Wollishofen/Schweizer/in/40-59\",\"WBev nach Stadtkreis, Quartier, Alter und Herkunft/Kreis 9/Altstetten/Ausl\\u00e4nder/in/60-79\",\"WBev nach Stadtkreis, Quartier, Alter und Herkunft/Kreis 5/Gewerbeschule/Ausl\\u00e4nder/in/60-79\",\"WBev nach Stadtkreis, Quartier, Alter und Herkunft/Kreis 6/Oberstrass/Ausl\\u00e4nder/in/60-79\",\"WBev nach Stadtkreis, Quartier, Alter und Herkunft/Kreis 11/Seebach/Ausl\\u00e4nder/in/60-79\",\"WBev nach Stadtkreis, Quartier, Alter und Herkunft/Kreis 3/Sihlfeld/Ausl\\u00e4nder/in/60-79\",\"WBev nach Stadtkreis, Quartier, Alter und Herkunft/Kreis 10/Wipkingen/Ausl\\u00e4nder/in/60-79\",\"WBev nach Stadtkreis, Quartier, Alter und Herkunft/Kreis 11/Affoltern/Schweizer/in/60-79\",\"WBev nach Stadtkreis, Quartier, Alter und Herkunft/Kreis 9/Albisrieden/Schweizer/in/60-79\",\"WBev nach Stadtkreis, Quartier, Alter und Herkunft/Kreis 3/Alt-Wiedikon/Schweizer/in/60-79\",\"WBev nach Stadtkreis, Quartier, Alter und Herkunft/Kreis 9/Altstetten/Schweizer/in/60-79\",\"WBev nach Stadtkreis, Quartier, Alter und Herkunft/Kreis 2/Enge/Schweizer/in/60-79\",\"WBev nach Stadtkreis, Quartier, Alter und Herkunft/Kreis 5/Escher Wyss/Schweizer/in/60-79\",\"WBev nach Stadtkreis, Quartier, Alter und Herkunft/Kreis 7/Fluntern/Schweizer/in/60-79\",\"WBev nach Stadtkreis, Quartier, Alter und Herkunft/Kreis 5/Gewerbeschule/Schweizer/in/60-79\",\"WBev nach Stadtkreis, Quartier, Alter und Herkunft/Kreis 7/Hirslanden/Schweizer/in/60-79\",\"WBev nach Stadtkreis, Quartier, Alter und Herkunft/Kreis 12/Hirzenbach/Schweizer/in/60-79\",\"WBev nach Stadtkreis, Quartier, Alter und Herkunft/Kreis 1/Hochschulen/Schweizer/in/60-79\",\"WBev nach Stadtkreis, Quartier, Alter und Herkunft/Kreis 7/Hottingen/Schweizer/in/60-79\",\"WBev nach Stadtkreis, Quartier, Alter und Herkunft/Kreis 10/H\\u00f6ngg/Schweizer/in/60-79\",\"WBev nach Stadtkreis, Quartier, Alter und Herkunft/Kreis 2/Leimbach/Schweizer/in/60-79\",\"WBev nach Stadtkreis, Quartier, Alter und Herkunft/Kreis 1/Lindenhof/Schweizer/in/60-79\",\"WBev nach Stadtkreis, Quartier, Alter und Herkunft/Kreis 11/Oerlikon/Schweizer/in/60-79\",\"WBev nach Stadtkreis, Quartier, Alter und Herkunft/Kreis 1/Rathaus/Schweizer/in/60-79\",\"WBev nach Stadtkreis, Quartier, Alter und Herkunft/Kreis 11/Seebach/Schweizer/in/60-79\",\"WBev nach Stadtkreis, Quartier, Alter und Herkunft/Kreis 8/Seefeld/Schweizer/in/60-79\",\"WBev nach Stadtkreis, Quartier, Alter und Herkunft/Kreis 3/Sihlfeld/Schweizer/in/60-79\",\"WBev nach Stadtkreis, Quartier, Alter und Herkunft/Kreis 6/Unterstrass/Schweizer/in/60-79\",\"WBev nach Stadtkreis, Quartier, Alter und Herkunft/Kreis 10/Wipkingen/Schweizer/in/60-79\",\"WBev nach Stadtkreis, Quartier, Alter und Herkunft/Kreis 7/Witikon/Schweizer/in/60-79\",\"WBev nach Stadtkreis, Quartier, Alter und Herkunft/Kreis 2/Wollishofen/Schweizer/in/60-79\",\"WBev nach Stadtkreis, Quartier, Alter und Herkunft/Kreis 11/Affoltern/Ausl\\u00e4nder/in/80-99\",\"WBev nach Stadtkreis, Quartier, Alter und Herkunft/Kreis 9/Albisrieden/Ausl\\u00e4nder/in/80-99\",\"WBev nach Stadtkreis, Quartier, Alter und Herkunft/Kreis 3/Alt-Wiedikon/Ausl\\u00e4nder/in/80-99\",\"WBev nach Stadtkreis, Quartier, Alter und Herkunft/Kreis 9/Altstetten/Ausl\\u00e4nder/in/80-99\",\"WBev nach Stadtkreis, Quartier, Alter und Herkunft/Kreis 12/Hirzenbach/Ausl\\u00e4nder/in/80-99\",\"WBev nach Stadtkreis, Quartier, Alter und Herkunft/Kreis 11/Seebach/Ausl\\u00e4nder/in/80-99\",\"WBev nach Stadtkreis, Quartier, Alter und Herkunft/Kreis 6/Unterstrass/Ausl\\u00e4nder/in/80-99\",\"WBev nach Stadtkreis, Quartier, Alter und Herkunft/Kreis 2/Wollishofen/Ausl\\u00e4nder/in/80-99\",\"WBev nach Stadtkreis, Quartier, Alter und Herkunft/Kreis 11/Affoltern/Schweizer/in/80-99\",\"WBev nach Stadtkreis, Quartier, Alter und Herkunft/Kreis 9/Albisrieden/Schweizer/in/80-99\",\"WBev nach Stadtkreis, Quartier, Alter und Herkunft/Kreis 3/Alt-Wiedikon/Schweizer/in/80-99\",\"WBev nach Stadtkreis, Quartier, Alter und Herkunft/Kreis 9/Altstetten/Schweizer/in/80-99\",\"WBev nach Stadtkreis, Quartier, Alter und Herkunft/Kreis 2/Enge/Schweizer/in/80-99\",\"WBev nach Stadtkreis, Quartier, Alter und Herkunft/Kreis 5/Escher Wyss/Schweizer/in/80-99\",\"WBev nach Stadtkreis, Quartier, Alter und Herkunft/Kreis 7/Fluntern/Schweizer/in/80-99\",\"WBev nach Stadtkreis, Quartier, Alter und Herkunft/Kreis 3/Friesenberg/Schweizer/in/80-99\",\"WBev nach Stadtkreis, Quartier, Alter und Herkunft/Kreis 5/Gewerbeschule/Schweizer/in/80-99\",\"WBev nach Stadtkreis, Quartier, Alter und Herkunft/Kreis 4/Hard/Schweizer/in/80-99\",\"WBev nach Stadtkreis, Quartier, Alter und Herkunft/Kreis 7/Hirslanden/Schweizer/in/80-99\",\"WBev nach Stadtkreis, Quartier, Alter und Herkunft/Kreis 12/Hirzenbach/Schweizer/in/80-99\",\"WBev nach Stadtkreis, Quartier, Alter und Herkunft/Kreis 7/Hottingen/Schweizer/in/80-99\",\"WBev nach Stadtkreis, Quartier, Alter und Herkunft/Kreis 10/H\\u00f6ngg/Schweizer/in/80-99\",\"WBev nach Stadtkreis, Quartier, Alter und Herkunft/Kreis 2/Leimbach/Schweizer/in/80-99\",\"WBev nach Stadtkreis, Quartier, Alter und Herkunft/Kreis 8/M\\u00fchlebach/Schweizer/in/80-99\",\"WBev nach Stadtkreis, Quartier, Alter und Herkunft/Kreis 6/Oberstrass/Schweizer/in/80-99\",\"WBev nach Stadtkreis, Quartier, Alter und Herkunft/Kreis 11/Oerlikon/Schweizer/in/80-99\",\"WBev nach Stadtkreis, Quartier, Alter und Herkunft/Kreis 12/Saatlen/Schweizer/in/80-99\",\"WBev nach Stadtkreis, Quartier, Alter und Herkunft/Kreis 12/Schwamendingen-Mitte/Schweizer/in/80-99\",\"WBev nach Stadtkreis, Quartier, Alter und Herkunft/Kreis 11/Seebach/Schweizer/in/80-99\",\"WBev nach Stadtkreis, Quartier, Alter und Herkunft/Kreis 8/Seefeld/Schweizer/in/80-99\",\"WBev nach Stadtkreis, Quartier, Alter und Herkunft/Kreis 3/Sihlfeld/Schweizer/in/80-99\",\"WBev nach Stadtkreis, Quartier, Alter und Herkunft/Kreis 6/Unterstrass/Schweizer/in/80-99\",\"WBev nach Stadtkreis, Quartier, Alter und Herkunft/Kreis 8/Weinegg/Schweizer/in/80-99\",\"WBev nach Stadtkreis, Quartier, Alter und Herkunft/Kreis 4/Werd/Schweizer/in/80-99\",\"WBev nach Stadtkreis, Quartier, Alter und Herkunft/Kreis 10/Wipkingen/Schweizer/in/80-99\",\"WBev nach Stadtkreis, Quartier, Alter und Herkunft/Kreis 7/Witikon/Schweizer/in/80-99\",\"WBev nach Stadtkreis, Quartier, Alter und Herkunft/Kreis 2/Wollishofen/Schweizer/in/80-99\",\"WBev nach Stadtkreis, Quartier, Alter und Herkunft/Kreis 11/Affoltern/Ausl\\u00e4nder/in\",\"WBev nach Stadtkreis, Quartier, Alter und Herkunft/Kreis 9/Albisrieden/Ausl\\u00e4nder/in\",\"WBev nach Stadtkreis, Quartier, Alter und Herkunft/Kreis 3/Alt-Wiedikon/Ausl\\u00e4nder/in\",\"WBev nach Stadtkreis, Quartier, Alter und Herkunft/Kreis 9/Altstetten/Ausl\\u00e4nder/in\",\"WBev nach Stadtkreis, Quartier, Alter und Herkunft/Kreis 5/Gewerbeschule/Ausl\\u00e4nder/in\",\"WBev nach Stadtkreis, Quartier, Alter und Herkunft/Kreis 12/Hirzenbach/Ausl\\u00e4nder/in\",\"WBev nach Stadtkreis, Quartier, Alter und Herkunft/Kreis 6/Oberstrass/Ausl\\u00e4nder/in\",\"WBev nach Stadtkreis, Quartier, Alter und Herkunft/Kreis 11/Oerlikon/Ausl\\u00e4nder/in\",\"WBev nach Stadtkreis, Quartier, Alter und Herkunft/Kreis 11/Seebach/Ausl\\u00e4nder/in\",\"WBev nach Stadtkreis, Quartier, Alter und Herkunft/Kreis 3/Sihlfeld/Ausl\\u00e4nder/in\",\"WBev nach Stadtkreis, Quartier, Alter und Herkunft/Kreis 6/Unterstrass/Ausl\\u00e4nder/in\",\"WBev nach Stadtkreis, Quartier, Alter und Herkunft/Kreis 10/Wipkingen/Ausl\\u00e4nder/in\",\"WBev nach Stadtkreis, Quartier, Alter und Herkunft/Kreis 2/Wollishofen/Ausl\\u00e4nder/in\",\"WBev nach Stadtkreis, Quartier, Alter und Herkunft/Kreis 11/Affoltern/Schweizer/in\",\"WBev nach Stadtkreis, Quartier, Alter und Herkunft/Kreis 9/Albisrieden/Schweizer/in\",\"WBev nach Stadtkreis, Quartier, Alter und Herkunft/Kreis 3/Alt-Wiedikon/Schweizer/in\",\"WBev nach Stadtkreis, Quartier, Alter und Herkunft/Kreis 9/Altstetten/Schweizer/in\",\"WBev nach Stadtkreis, Quartier, Alter und Herkunft/Kreis 2/Enge/Schweizer/in\",\"WBev nach Stadtkreis, Quartier, Alter und Herkunft/Kreis 5/Escher Wyss/Schweizer/in\",\"WBev nach Stadtkreis, Quartier, Alter und Herkunft/Kreis 7/Fluntern/Schweizer/in\",\"WBev nach Stadtkreis, Quartier, Alter und Herkunft/Kreis 3/Friesenberg/Schweizer/in\",\"WBev nach Stadtkreis, Quartier, Alter und Herkunft/Kreis 5/Gewerbeschule/Schweizer/in\",\"WBev nach Stadtkreis, Quartier, Alter und Herkunft/Kreis 4/Hard/Schweizer/in\",\"WBev nach Stadtkreis, Quartier, Alter und Herkunft/Kreis 7/Hirslanden/Schweizer/in\",\"WBev nach Stadtkreis, Quartier, Alter und Herkunft/Kreis 12/Hirzenbach/Schweizer/in\",\"WBev nach Stadtkreis, Quartier, Alter und Herkunft/Kreis 1/Hochschulen/Schweizer/in\",\"WBev nach Stadtkreis, Quartier, Alter und Herkunft/Kreis 7/Hottingen/Schweizer/in\",\"WBev nach Stadtkreis, Quartier, Alter und Herkunft/Kreis 10/H\\u00f6ngg/Schweizer/in\",\"WBev nach Stadtkreis, Quartier, Alter und Herkunft/Kreis 2/Leimbach/Schweizer/in\",\"WBev nach Stadtkreis, Quartier, Alter und Herkunft/Kreis 1/Lindenhof/Schweizer/in\",\"WBev nach Stadtkreis, Quartier, Alter und Herkunft/Kreis 8/M\\u00fchlebach/Schweizer/in\",\"WBev nach Stadtkreis, Quartier, Alter und Herkunft/Kreis 6/Oberstrass/Schweizer/in\",\"WBev nach Stadtkreis, Quartier, Alter und Herkunft/Kreis 11/Oerlikon/Schweizer/in\",\"WBev nach Stadtkreis, Quartier, Alter und Herkunft/Kreis 1/Rathaus/Schweizer/in\",\"WBev nach Stadtkreis, Quartier, Alter und Herkunft/Kreis 12/Saatlen/Schweizer/in\",\"WBev nach Stadtkreis, Quartier, Alter und Herkunft/Kreis 12/Schwamendingen-Mitte/Schweizer/in\",\"WBev nach Stadtkreis, Quartier, Alter und Herkunft/Kreis 11/Seebach/Schweizer/in\",\"WBev nach Stadtkreis, Quartier, Alter und Herkunft/Kreis 8/Seefeld/Schweizer/in\",\"WBev nach Stadtkreis, Quartier, Alter und Herkunft/Kreis 3/Sihlfeld/Schweizer/in\",\"WBev nach Stadtkreis, Quartier, Alter und Herkunft/Kreis 6/Unterstrass/Schweizer/in\",\"WBev nach Stadtkreis, Quartier, Alter und Herkunft/Kreis 8/Weinegg/Schweizer/in\",\"WBev nach Stadtkreis, Quartier, Alter und Herkunft/Kreis 4/Werd/Schweizer/in\",\"WBev nach Stadtkreis, Quartier, Alter und Herkunft/Kreis 10/Wipkingen/Schweizer/in\",\"WBev nach Stadtkreis, Quartier, Alter und Herkunft/Kreis 7/Witikon/Schweizer/in\",\"WBev nach Stadtkreis, Quartier, Alter und Herkunft/Kreis 2/Wollishofen/Schweizer/in\",\"WBev nach Stadtkreis, Quartier, Alter und Herkunft/Kreis 11/Affoltern\",\"WBev nach Stadtkreis, Quartier, Alter und Herkunft/Kreis 9/Albisrieden\",\"WBev nach Stadtkreis, Quartier, Alter und Herkunft/Kreis 3/Alt-Wiedikon\",\"WBev nach Stadtkreis, Quartier, Alter und Herkunft/Kreis 9/Altstetten\",\"WBev nach Stadtkreis, Quartier, Alter und Herkunft/Kreis 2/Enge\",\"WBev nach Stadtkreis, Quartier, Alter und Herkunft/Kreis 5/Escher Wyss\",\"WBev nach Stadtkreis, Quartier, Alter und Herkunft/Kreis 7/Fluntern\",\"WBev nach Stadtkreis, Quartier, Alter und Herkunft/Kreis 3/Friesenberg\",\"WBev nach Stadtkreis, Quartier, Alter und Herkunft/Kreis 5/Gewerbeschule\",\"WBev nach Stadtkreis, Quartier, Alter und Herkunft/Kreis 4/Hard\",\"WBev nach Stadtkreis, Quartier, Alter und Herkunft/Kreis 7/Hirslanden\",\"WBev nach Stadtkreis, Quartier, Alter und Herkunft/Kreis 12/Hirzenbach\",\"WBev nach Stadtkreis, Quartier, Alter und Herkunft/Kreis 1/Hochschulen\",\"WBev nach Stadtkreis, Quartier, Alter und Herkunft/Kreis 7/Hottingen\",\"WBev nach Stadtkreis, Quartier, Alter und Herkunft/Kreis 10/H\\u00f6ngg\",\"WBev nach Stadtkreis, Quartier, Alter und Herkunft/Kreis 2/Leimbach\",\"WBev nach Stadtkreis, Quartier, Alter und Herkunft/Kreis 1/Lindenhof\",\"WBev nach Stadtkreis, Quartier, Alter und Herkunft/Kreis 8/M\\u00fchlebach\",\"WBev nach Stadtkreis, Quartier, Alter und Herkunft/Kreis 6/Oberstrass\",\"WBev nach Stadtkreis, Quartier, Alter und Herkunft/Kreis 11/Oerlikon\",\"WBev nach Stadtkreis, Quartier, Alter und Herkunft/Kreis 1/Rathaus\",\"WBev nach Stadtkreis, Quartier, Alter und Herkunft/Kreis 12/Saatlen\",\"WBev nach Stadtkreis, Quartier, Alter und Herkunft/Kreis 12/Schwamendingen-Mitte\",\"WBev nach Stadtkreis, Quartier, Alter und Herkunft/Kreis 11/Seebach\",\"WBev nach Stadtkreis, Quartier, Alter und Herkunft/Kreis 8/Seefeld\",\"WBev nach Stadtkreis, Quartier, Alter und Herkunft/Kreis 3/Sihlfeld\",\"WBev nach Stadtkreis, Quartier, Alter und Herkunft/Kreis 6/Unterstrass\",\"WBev nach Stadtkreis, Quartier, Alter und Herkunft/Kreis 8/Weinegg\",\"WBev nach Stadtkreis, Quartier, Alter und Herkunft/Kreis 4/Werd\",\"WBev nach Stadtkreis, Quartier, Alter und Herkunft/Kreis 10/Wipkingen\",\"WBev nach Stadtkreis, Quartier, Alter und Herkunft/Kreis 7/Witikon\",\"WBev nach Stadtkreis, Quartier, Alter und Herkunft/Kreis 2/Wollishofen\",\"WBev nach Stadtkreis, Quartier, Alter und Herkunft/Kreis 1\",\"WBev nach Stadtkreis, Quartier, Alter und Herkunft/Kreis 10\",\"WBev nach Stadtkreis, Quartier, Alter und Herkunft/Kreis 11\",\"WBev nach Stadtkreis, Quartier, Alter und Herkunft/Kreis 12\",\"WBev nach Stadtkreis, Quartier, Alter und Herkunft/Kreis 2\",\"WBev nach Stadtkreis, Quartier, Alter und Herkunft/Kreis 3\",\"WBev nach Stadtkreis, Quartier, Alter und Herkunft/Kreis 4\",\"WBev nach Stadtkreis, Quartier, Alter und Herkunft/Kreis 5\",\"WBev nach Stadtkreis, Quartier, Alter und Herkunft/Kreis 6\",\"WBev nach Stadtkreis, Quartier, Alter und Herkunft/Kreis 7\",\"WBev nach Stadtkreis, Quartier, Alter und Herkunft/Kreis 8\",\"WBev nach Stadtkreis, Quartier, Alter und Herkunft/Kreis 9\",\"WBev nach Stadtkreis, Quartier, Alter und Herkunft\"],\"labels\":[\"0-19\",\"100 u. \\u00e4lter\",\"100 u. \\u00e4lter\",\"100 u. \\u00e4lter\",\"100 u. \\u00e4lter\",\"20-39\",\"20-39\",\"40-59\",\"40-59\",\"40-59\",\"40-59\",\"40-59\",\"40-59\",\"40-59\",\"40-59\",\"40-59\",\"40-59\",\"40-59\",\"60-79\",\"60-79\",\"60-79\",\"60-79\",\"60-79\",\"60-79\",\"60-79\",\"60-79\",\"60-79\",\"60-79\",\"60-79\",\"60-79\",\"60-79\",\"60-79\",\"60-79\",\"60-79\",\"60-79\",\"60-79\",\"60-79\",\"60-79\",\"60-79\",\"60-79\",\"60-79\",\"60-79\",\"60-79\",\"60-79\",\"60-79\",\"60-79\",\"60-79\",\"60-79\",\"80-99\",\"80-99\",\"80-99\",\"80-99\",\"80-99\",\"80-99\",\"80-99\",\"80-99\",\"80-99\",\"80-99\",\"80-99\",\"80-99\",\"80-99\",\"80-99\",\"80-99\",\"80-99\",\"80-99\",\"80-99\",\"80-99\",\"80-99\",\"80-99\",\"80-99\",\"80-99\",\"80-99\",\"80-99\",\"80-99\",\"80-99\",\"80-99\",\"80-99\",\"80-99\",\"80-99\",\"80-99\",\"80-99\",\"80-99\",\"80-99\",\"80-99\",\"80-99\",\"Ausl\\u00e4nder/in\",\"Ausl\\u00e4nder/in\",\"Ausl\\u00e4nder/in\",\"Ausl\\u00e4nder/in\",\"Ausl\\u00e4nder/in\",\"Ausl\\u00e4nder/in\",\"Ausl\\u00e4nder/in\",\"Ausl\\u00e4nder/in\",\"Ausl\\u00e4nder/in\",\"Ausl\\u00e4nder/in\",\"Ausl\\u00e4nder/in\",\"Ausl\\u00e4nder/in\",\"Ausl\\u00e4nder/in\",\"Schweizer/in\",\"Schweizer/in\",\"Schweizer/in\",\"Schweizer/in\",\"Schweizer/in\",\"Schweizer/in\",\"Schweizer/in\",\"Schweizer/in\",\"Schweizer/in\",\"Schweizer/in\",\"Schweizer/in\",\"Schweizer/in\",\"Schweizer/in\",\"Schweizer/in\",\"Schweizer/in\",\"Schweizer/in\",\"Schweizer/in\",\"Schweizer/in\",\"Schweizer/in\",\"Schweizer/in\",\"Schweizer/in\",\"Schweizer/in\",\"Schweizer/in\",\"Schweizer/in\",\"Schweizer/in\",\"Schweizer/in\",\"Schweizer/in\",\"Schweizer/in\",\"Schweizer/in\",\"Schweizer/in\",\"Schweizer/in\",\"Schweizer/in\",\"Affoltern\",\"Albisrieden\",\"Alt-Wiedikon\",\"Altstetten\",\"Enge\",\"Escher Wyss\",\"Fluntern\",\"Friesenberg\",\"Gewerbeschule\",\"Hard\",\"Hirslanden\",\"Hirzenbach\",\"Hochschulen\",\"Hottingen\",\"H\\u00f6ngg\",\"Leimbach\",\"Lindenhof\",\"M\\u00fchlebach\",\"Oberstrass\",\"Oerlikon\",\"Rathaus\",\"Saatlen\",\"Schwamendingen-Mitte\",\"Seebach\",\"Seefeld\",\"Sihlfeld\",\"Unterstrass\",\"Weinegg\",\"Werd\",\"Wipkingen\",\"Witikon\",\"Wollishofen\",\"Kreis 1\",\"Kreis 10\",\"Kreis 11\",\"Kreis 12\",\"Kreis 2\",\"Kreis 3\",\"Kreis 4\",\"Kreis 5\",\"Kreis 6\",\"Kreis 7\",\"Kreis 8\",\"Kreis 9\",\"WBev nach Stadtkreis, Quartier, Alter und Herkunft\"],\"marker\":{\"coloraxis\":\"coloraxis\",\"colors\":[1.0,1.0,1.0,1.0,1.0,1.0,1.0,1.0,1.0,1.0,1.0,1.0,1.0,1.0,1.0,1.0,1.0,1.0,1.0,1.0,1.0,1.0,1.0,1.0,1.0,1.0,1.0,1.0,1.0,1.0,1.0,1.0,1.0,1.0,1.0,1.0,1.0,1.0,1.0,1.4,1.0,1.0,1.0,1.0,1.0,1.0,1.0,1.2857142857142858,1.0,1.0,1.0,1.0,1.0,1.0,1.0,1.0,1.0,1.4444444444444444,1.25,1.25,1.0,1.0,1.5,1.0,1.0,1.0,1.0,1.0,1.0,1.3333333333333333,1.0,1.0,1.0,1.1818181818181819,1.0,1.0,1.0,1.0,1.0,1.0,1.0,1.0,1.0,1.0,1.3529411764705883,1.0,1.0,1.0,1.0,1.0,1.0,1.0,1.0,1.0,1.0,1.0,1.0,1.0,1.0,1.3636363636363635,1.1818181818181819,1.2,1.0,1.0,1.3333333333333333,1.0,1.0,1.0,1.0,1.0,1.0,1.0,1.2105263157894737,1.0,1.0,1.0,1.0,1.25,1.0,1.0,1.0,1.0,1.0,1.0,1.0,1.0,1.0,1.0,1.0,1.2857142857142858,1.0,1.3478260869565217,1.1666666666666667,1.1428571428571428,1.0,1.0,1.3333333333333333,1.0,1.0,1.0,1.0,1.0,1.0,1.0,1.2105263157894737,1.0,1.0,1.0,1.0,1.2352941176470589,1.0,1.0,1.0,1.0,1.0,1.0,1.0,1.0,1.0,1.0,1.0,1.2758620689655173,1.0,1.1333333333333333,1.0952380952380953,1.0,1.2,1.064516129032258,1.0,1.0,1.0,1.0833333333333333,1.0,1.2702702702702702,1.1132075471698113]},\"name\":\"\",\"parents\":[\"WBev nach Stadtkreis, Quartier, Alter und Herkunft/Kreis 3/Friesenberg/Schweizer/in\",\"WBev nach Stadtkreis, Quartier, Alter und Herkunft/Kreis 2/Enge/Schweizer/in\",\"WBev nach Stadtkreis, Quartier, Alter und Herkunft/Kreis 10/H\\u00f6ngg/Schweizer/in\",\"WBev nach Stadtkreis, Quartier, Alter und Herkunft/Kreis 8/Weinegg/Schweizer/in\",\"WBev nach Stadtkreis, Quartier, Alter und Herkunft/Kreis 2/Wollishofen/Schweizer/in\",\"WBev nach Stadtkreis, Quartier, Alter und Herkunft/Kreis 3/Alt-Wiedikon/Schweizer/in\",\"WBev nach Stadtkreis, Quartier, Alter und Herkunft/Kreis 1/Lindenhof/Schweizer/in\",\"WBev nach Stadtkreis, Quartier, Alter und Herkunft/Kreis 9/Altstetten/Ausl\\u00e4nder/in\",\"WBev nach Stadtkreis, Quartier, Alter und Herkunft/Kreis 5/Gewerbeschule/Ausl\\u00e4nder/in\",\"WBev nach Stadtkreis, Quartier, Alter und Herkunft/Kreis 12/Hirzenbach/Ausl\\u00e4nder/in\",\"WBev nach Stadtkreis, Quartier, Alter und Herkunft/Kreis 6/Oberstrass/Ausl\\u00e4nder/in\",\"WBev nach Stadtkreis, Quartier, Alter und Herkunft/Kreis 11/Oerlikon/Ausl\\u00e4nder/in\",\"WBev nach Stadtkreis, Quartier, Alter und Herkunft/Kreis 11/Seebach/Ausl\\u00e4nder/in\",\"WBev nach Stadtkreis, Quartier, Alter und Herkunft/Kreis 5/Gewerbeschule/Schweizer/in\",\"WBev nach Stadtkreis, Quartier, Alter und Herkunft/Kreis 12/Saatlen/Schweizer/in\",\"WBev nach Stadtkreis, Quartier, Alter und Herkunft/Kreis 11/Seebach/Schweizer/in\",\"WBev nach Stadtkreis, Quartier, Alter und Herkunft/Kreis 10/Wipkingen/Schweizer/in\",\"WBev nach Stadtkreis, Quartier, Alter und Herkunft/Kreis 2/Wollishofen/Schweizer/in\",\"WBev nach Stadtkreis, Quartier, Alter und Herkunft/Kreis 9/Altstetten/Ausl\\u00e4nder/in\",\"WBev nach Stadtkreis, Quartier, Alter und Herkunft/Kreis 5/Gewerbeschule/Ausl\\u00e4nder/in\",\"WBev nach Stadtkreis, Quartier, Alter und Herkunft/Kreis 6/Oberstrass/Ausl\\u00e4nder/in\",\"WBev nach Stadtkreis, Quartier, Alter und Herkunft/Kreis 11/Seebach/Ausl\\u00e4nder/in\",\"WBev nach Stadtkreis, Quartier, Alter und Herkunft/Kreis 3/Sihlfeld/Ausl\\u00e4nder/in\",\"WBev nach Stadtkreis, Quartier, Alter und Herkunft/Kreis 10/Wipkingen/Ausl\\u00e4nder/in\",\"WBev nach Stadtkreis, Quartier, Alter und Herkunft/Kreis 11/Affoltern/Schweizer/in\",\"WBev nach Stadtkreis, Quartier, Alter und Herkunft/Kreis 9/Albisrieden/Schweizer/in\",\"WBev nach Stadtkreis, Quartier, Alter und Herkunft/Kreis 3/Alt-Wiedikon/Schweizer/in\",\"WBev nach Stadtkreis, Quartier, Alter und Herkunft/Kreis 9/Altstetten/Schweizer/in\",\"WBev nach Stadtkreis, Quartier, Alter und Herkunft/Kreis 2/Enge/Schweizer/in\",\"WBev nach Stadtkreis, Quartier, Alter und Herkunft/Kreis 5/Escher Wyss/Schweizer/in\",\"WBev nach Stadtkreis, Quartier, Alter und Herkunft/Kreis 7/Fluntern/Schweizer/in\",\"WBev nach Stadtkreis, Quartier, Alter und Herkunft/Kreis 5/Gewerbeschule/Schweizer/in\",\"WBev nach Stadtkreis, Quartier, Alter und Herkunft/Kreis 7/Hirslanden/Schweizer/in\",\"WBev nach Stadtkreis, Quartier, Alter und Herkunft/Kreis 12/Hirzenbach/Schweizer/in\",\"WBev nach Stadtkreis, Quartier, Alter und Herkunft/Kreis 1/Hochschulen/Schweizer/in\",\"WBev nach Stadtkreis, Quartier, Alter und Herkunft/Kreis 7/Hottingen/Schweizer/in\",\"WBev nach Stadtkreis, Quartier, Alter und Herkunft/Kreis 10/H\\u00f6ngg/Schweizer/in\",\"WBev nach Stadtkreis, Quartier, Alter und Herkunft/Kreis 2/Leimbach/Schweizer/in\",\"WBev nach Stadtkreis, Quartier, Alter und Herkunft/Kreis 1/Lindenhof/Schweizer/in\",\"WBev nach Stadtkreis, Quartier, Alter und Herkunft/Kreis 11/Oerlikon/Schweizer/in\",\"WBev nach Stadtkreis, Quartier, Alter und Herkunft/Kreis 1/Rathaus/Schweizer/in\",\"WBev nach Stadtkreis, Quartier, Alter und Herkunft/Kreis 11/Seebach/Schweizer/in\",\"WBev nach Stadtkreis, Quartier, Alter und Herkunft/Kreis 8/Seefeld/Schweizer/in\",\"WBev nach Stadtkreis, Quartier, Alter und Herkunft/Kreis 3/Sihlfeld/Schweizer/in\",\"WBev nach Stadtkreis, Quartier, Alter und Herkunft/Kreis 6/Unterstrass/Schweizer/in\",\"WBev nach Stadtkreis, Quartier, Alter und Herkunft/Kreis 10/Wipkingen/Schweizer/in\",\"WBev nach Stadtkreis, Quartier, Alter und Herkunft/Kreis 7/Witikon/Schweizer/in\",\"WBev nach Stadtkreis, Quartier, Alter und Herkunft/Kreis 2/Wollishofen/Schweizer/in\",\"WBev nach Stadtkreis, Quartier, Alter und Herkunft/Kreis 11/Affoltern/Ausl\\u00e4nder/in\",\"WBev nach Stadtkreis, Quartier, Alter und Herkunft/Kreis 9/Albisrieden/Ausl\\u00e4nder/in\",\"WBev nach Stadtkreis, Quartier, Alter und Herkunft/Kreis 3/Alt-Wiedikon/Ausl\\u00e4nder/in\",\"WBev nach Stadtkreis, Quartier, Alter und Herkunft/Kreis 9/Altstetten/Ausl\\u00e4nder/in\",\"WBev nach Stadtkreis, Quartier, Alter und Herkunft/Kreis 12/Hirzenbach/Ausl\\u00e4nder/in\",\"WBev nach Stadtkreis, Quartier, Alter und Herkunft/Kreis 11/Seebach/Ausl\\u00e4nder/in\",\"WBev nach Stadtkreis, Quartier, Alter und Herkunft/Kreis 6/Unterstrass/Ausl\\u00e4nder/in\",\"WBev nach Stadtkreis, Quartier, Alter und Herkunft/Kreis 2/Wollishofen/Ausl\\u00e4nder/in\",\"WBev nach Stadtkreis, Quartier, Alter und Herkunft/Kreis 11/Affoltern/Schweizer/in\",\"WBev nach Stadtkreis, Quartier, Alter und Herkunft/Kreis 9/Albisrieden/Schweizer/in\",\"WBev nach Stadtkreis, Quartier, Alter und Herkunft/Kreis 3/Alt-Wiedikon/Schweizer/in\",\"WBev nach Stadtkreis, Quartier, Alter und Herkunft/Kreis 9/Altstetten/Schweizer/in\",\"WBev nach Stadtkreis, Quartier, Alter und Herkunft/Kreis 2/Enge/Schweizer/in\",\"WBev nach Stadtkreis, Quartier, Alter und Herkunft/Kreis 5/Escher Wyss/Schweizer/in\",\"WBev nach Stadtkreis, Quartier, Alter und Herkunft/Kreis 7/Fluntern/Schweizer/in\",\"WBev nach Stadtkreis, Quartier, Alter und Herkunft/Kreis 3/Friesenberg/Schweizer/in\",\"WBev nach Stadtkreis, Quartier, Alter und Herkunft/Kreis 5/Gewerbeschule/Schweizer/in\",\"WBev nach Stadtkreis, Quartier, Alter und Herkunft/Kreis 4/Hard/Schweizer/in\",\"WBev nach Stadtkreis, Quartier, Alter und Herkunft/Kreis 7/Hirslanden/Schweizer/in\",\"WBev nach Stadtkreis, Quartier, Alter und Herkunft/Kreis 12/Hirzenbach/Schweizer/in\",\"WBev nach Stadtkreis, Quartier, Alter und Herkunft/Kreis 7/Hottingen/Schweizer/in\",\"WBev nach Stadtkreis, Quartier, Alter und Herkunft/Kreis 10/H\\u00f6ngg/Schweizer/in\",\"WBev nach Stadtkreis, Quartier, Alter und Herkunft/Kreis 2/Leimbach/Schweizer/in\",\"WBev nach Stadtkreis, Quartier, Alter und Herkunft/Kreis 8/M\\u00fchlebach/Schweizer/in\",\"WBev nach Stadtkreis, Quartier, Alter und Herkunft/Kreis 6/Oberstrass/Schweizer/in\",\"WBev nach Stadtkreis, Quartier, Alter und Herkunft/Kreis 11/Oerlikon/Schweizer/in\",\"WBev nach Stadtkreis, Quartier, Alter und Herkunft/Kreis 12/Saatlen/Schweizer/in\",\"WBev nach Stadtkreis, Quartier, Alter und Herkunft/Kreis 12/Schwamendingen-Mitte/Schweizer/in\",\"WBev nach Stadtkreis, Quartier, Alter und Herkunft/Kreis 11/Seebach/Schweizer/in\",\"WBev nach Stadtkreis, Quartier, Alter und Herkunft/Kreis 8/Seefeld/Schweizer/in\",\"WBev nach Stadtkreis, Quartier, Alter und Herkunft/Kreis 3/Sihlfeld/Schweizer/in\",\"WBev nach Stadtkreis, Quartier, Alter und Herkunft/Kreis 6/Unterstrass/Schweizer/in\",\"WBev nach Stadtkreis, Quartier, Alter und Herkunft/Kreis 8/Weinegg/Schweizer/in\",\"WBev nach Stadtkreis, Quartier, Alter und Herkunft/Kreis 4/Werd/Schweizer/in\",\"WBev nach Stadtkreis, Quartier, Alter und Herkunft/Kreis 10/Wipkingen/Schweizer/in\",\"WBev nach Stadtkreis, Quartier, Alter und Herkunft/Kreis 7/Witikon/Schweizer/in\",\"WBev nach Stadtkreis, Quartier, Alter und Herkunft/Kreis 2/Wollishofen/Schweizer/in\",\"WBev nach Stadtkreis, Quartier, Alter und Herkunft/Kreis 11/Affoltern\",\"WBev nach Stadtkreis, Quartier, Alter und Herkunft/Kreis 9/Albisrieden\",\"WBev nach Stadtkreis, Quartier, Alter und Herkunft/Kreis 3/Alt-Wiedikon\",\"WBev nach Stadtkreis, Quartier, Alter und Herkunft/Kreis 9/Altstetten\",\"WBev nach Stadtkreis, Quartier, Alter und Herkunft/Kreis 5/Gewerbeschule\",\"WBev nach Stadtkreis, Quartier, Alter und Herkunft/Kreis 12/Hirzenbach\",\"WBev nach Stadtkreis, Quartier, Alter und Herkunft/Kreis 6/Oberstrass\",\"WBev nach Stadtkreis, Quartier, Alter und Herkunft/Kreis 11/Oerlikon\",\"WBev nach Stadtkreis, Quartier, Alter und Herkunft/Kreis 11/Seebach\",\"WBev nach Stadtkreis, Quartier, Alter und Herkunft/Kreis 3/Sihlfeld\",\"WBev nach Stadtkreis, Quartier, Alter und Herkunft/Kreis 6/Unterstrass\",\"WBev nach Stadtkreis, Quartier, Alter und Herkunft/Kreis 10/Wipkingen\",\"WBev nach Stadtkreis, Quartier, Alter und Herkunft/Kreis 2/Wollishofen\",\"WBev nach Stadtkreis, Quartier, Alter und Herkunft/Kreis 11/Affoltern\",\"WBev nach Stadtkreis, Quartier, Alter und Herkunft/Kreis 9/Albisrieden\",\"WBev nach Stadtkreis, Quartier, Alter und Herkunft/Kreis 3/Alt-Wiedikon\",\"WBev nach Stadtkreis, Quartier, Alter und Herkunft/Kreis 9/Altstetten\",\"WBev nach Stadtkreis, Quartier, Alter und Herkunft/Kreis 2/Enge\",\"WBev nach Stadtkreis, Quartier, Alter und Herkunft/Kreis 5/Escher Wyss\",\"WBev nach Stadtkreis, Quartier, Alter und Herkunft/Kreis 7/Fluntern\",\"WBev nach Stadtkreis, Quartier, Alter und Herkunft/Kreis 3/Friesenberg\",\"WBev nach Stadtkreis, Quartier, Alter und Herkunft/Kreis 5/Gewerbeschule\",\"WBev nach Stadtkreis, Quartier, Alter und Herkunft/Kreis 4/Hard\",\"WBev nach Stadtkreis, Quartier, Alter und Herkunft/Kreis 7/Hirslanden\",\"WBev nach Stadtkreis, Quartier, Alter und Herkunft/Kreis 12/Hirzenbach\",\"WBev nach Stadtkreis, Quartier, Alter und Herkunft/Kreis 1/Hochschulen\",\"WBev nach Stadtkreis, Quartier, Alter und Herkunft/Kreis 7/Hottingen\",\"WBev nach Stadtkreis, Quartier, Alter und Herkunft/Kreis 10/H\\u00f6ngg\",\"WBev nach Stadtkreis, Quartier, Alter und Herkunft/Kreis 2/Leimbach\",\"WBev nach Stadtkreis, Quartier, Alter und Herkunft/Kreis 1/Lindenhof\",\"WBev nach Stadtkreis, Quartier, Alter und Herkunft/Kreis 8/M\\u00fchlebach\",\"WBev nach Stadtkreis, Quartier, Alter und Herkunft/Kreis 6/Oberstrass\",\"WBev nach Stadtkreis, Quartier, Alter und Herkunft/Kreis 11/Oerlikon\",\"WBev nach Stadtkreis, Quartier, Alter und Herkunft/Kreis 1/Rathaus\",\"WBev nach Stadtkreis, Quartier, Alter und Herkunft/Kreis 12/Saatlen\",\"WBev nach Stadtkreis, Quartier, Alter und Herkunft/Kreis 12/Schwamendingen-Mitte\",\"WBev nach Stadtkreis, Quartier, Alter und Herkunft/Kreis 11/Seebach\",\"WBev nach Stadtkreis, Quartier, Alter und Herkunft/Kreis 8/Seefeld\",\"WBev nach Stadtkreis, Quartier, Alter und Herkunft/Kreis 3/Sihlfeld\",\"WBev nach Stadtkreis, Quartier, Alter und Herkunft/Kreis 6/Unterstrass\",\"WBev nach Stadtkreis, Quartier, Alter und Herkunft/Kreis 8/Weinegg\",\"WBev nach Stadtkreis, Quartier, Alter und Herkunft/Kreis 4/Werd\",\"WBev nach Stadtkreis, Quartier, Alter und Herkunft/Kreis 10/Wipkingen\",\"WBev nach Stadtkreis, Quartier, Alter und Herkunft/Kreis 7/Witikon\",\"WBev nach Stadtkreis, Quartier, Alter und Herkunft/Kreis 2/Wollishofen\",\"WBev nach Stadtkreis, Quartier, Alter und Herkunft/Kreis 11\",\"WBev nach Stadtkreis, Quartier, Alter und Herkunft/Kreis 9\",\"WBev nach Stadtkreis, Quartier, Alter und Herkunft/Kreis 3\",\"WBev nach Stadtkreis, Quartier, Alter und Herkunft/Kreis 9\",\"WBev nach Stadtkreis, Quartier, Alter und Herkunft/Kreis 2\",\"WBev nach Stadtkreis, Quartier, Alter und Herkunft/Kreis 5\",\"WBev nach Stadtkreis, Quartier, Alter und Herkunft/Kreis 7\",\"WBev nach Stadtkreis, Quartier, Alter und Herkunft/Kreis 3\",\"WBev nach Stadtkreis, Quartier, Alter und Herkunft/Kreis 5\",\"WBev nach Stadtkreis, Quartier, Alter und Herkunft/Kreis 4\",\"WBev nach Stadtkreis, Quartier, Alter und Herkunft/Kreis 7\",\"WBev nach Stadtkreis, Quartier, Alter und Herkunft/Kreis 12\",\"WBev nach Stadtkreis, Quartier, Alter und Herkunft/Kreis 1\",\"WBev nach Stadtkreis, Quartier, Alter und Herkunft/Kreis 7\",\"WBev nach Stadtkreis, Quartier, Alter und Herkunft/Kreis 10\",\"WBev nach Stadtkreis, Quartier, Alter und Herkunft/Kreis 2\",\"WBev nach Stadtkreis, Quartier, Alter und Herkunft/Kreis 1\",\"WBev nach Stadtkreis, Quartier, Alter und Herkunft/Kreis 8\",\"WBev nach Stadtkreis, Quartier, Alter und Herkunft/Kreis 6\",\"WBev nach Stadtkreis, Quartier, Alter und Herkunft/Kreis 11\",\"WBev nach Stadtkreis, Quartier, Alter und Herkunft/Kreis 1\",\"WBev nach Stadtkreis, Quartier, Alter und Herkunft/Kreis 12\",\"WBev nach Stadtkreis, Quartier, Alter und Herkunft/Kreis 12\",\"WBev nach Stadtkreis, Quartier, Alter und Herkunft/Kreis 11\",\"WBev nach Stadtkreis, Quartier, Alter und Herkunft/Kreis 8\",\"WBev nach Stadtkreis, Quartier, Alter und Herkunft/Kreis 3\",\"WBev nach Stadtkreis, Quartier, Alter und Herkunft/Kreis 6\",\"WBev nach Stadtkreis, Quartier, Alter und Herkunft/Kreis 8\",\"WBev nach Stadtkreis, Quartier, Alter und Herkunft/Kreis 4\",\"WBev nach Stadtkreis, Quartier, Alter und Herkunft/Kreis 10\",\"WBev nach Stadtkreis, Quartier, Alter und Herkunft/Kreis 7\",\"WBev nach Stadtkreis, Quartier, Alter und Herkunft/Kreis 2\",\"WBev nach Stadtkreis, Quartier, Alter und Herkunft\",\"WBev nach Stadtkreis, Quartier, Alter und Herkunft\",\"WBev nach Stadtkreis, Quartier, Alter und Herkunft\",\"WBev nach Stadtkreis, Quartier, Alter und Herkunft\",\"WBev nach Stadtkreis, Quartier, Alter und Herkunft\",\"WBev nach Stadtkreis, Quartier, Alter und Herkunft\",\"WBev nach Stadtkreis, Quartier, Alter und Herkunft\",\"WBev nach Stadtkreis, Quartier, Alter und Herkunft\",\"WBev nach Stadtkreis, Quartier, Alter und Herkunft\",\"WBev nach Stadtkreis, Quartier, Alter und Herkunft\",\"WBev nach Stadtkreis, Quartier, Alter und Herkunft\",\"WBev nach Stadtkreis, Quartier, Alter und Herkunft\",\"\"],\"root\":{\"color\":\"grey\"},\"type\":\"treemap\",\"values\":[1,1,1,1,1,1,1,2,1,1,1,1,1,1,1,1,2,3,1,1,1,2,1,1,4,4,2,2,1,1,2,2,2,3,2,1,6,1,1,5,1,2,3,6,1,5,2,7,1,1,1,1,1,1,1,1,7,18,8,8,4,2,4,4,3,2,3,6,2,12,4,2,3,11,1,7,6,1,7,5,2,2,3,8,17,1,1,1,4,2,2,2,1,4,1,1,1,1,11,22,11,10,6,3,6,5,6,2,5,9,2,3,19,5,2,2,3,16,1,2,7,9,4,13,6,3,2,10,10,28,12,23,12,14,6,3,6,5,8,2,5,11,2,3,19,5,2,2,5,17,1,2,7,13,4,14,7,3,2,11,10,29,5,30,42,20,40,31,4,11,12,24,9,37,265]}],                        {\"coloraxis\":{\"colorbar\":{\"title\":{\"text\":\"sum_WBev\"}},\"colorscale\":[[0.0,\"rgb(247,251,255)\"],[0.125,\"rgb(222,235,247)\"],[0.25,\"rgb(198,219,239)\"],[0.375,\"rgb(158,202,225)\"],[0.5,\"rgb(107,174,214)\"],[0.625,\"rgb(66,146,198)\"],[0.75,\"rgb(33,113,181)\"],[0.875,\"rgb(8,81,156)\"],[1.0,\"rgb(8,48,107)\"]]},\"legend\":{\"tracegroupgap\":0},\"margin\":{\"b\":25,\"l\":25,\"r\":250,\"t\":50},\"template\":{\"data\":{\"bar\":[{\"error_x\":{\"color\":\"#2a3f5f\"},\"error_y\":{\"color\":\"#2a3f5f\"},\"marker\":{\"line\":{\"color\":\"#E5ECF6\",\"width\":0.5},\"pattern\":{\"fillmode\":\"overlay\",\"size\":10,\"solidity\":0.2}},\"type\":\"bar\"}],\"barpolar\":[{\"marker\":{\"line\":{\"color\":\"#E5ECF6\",\"width\":0.5},\"pattern\":{\"fillmode\":\"overlay\",\"size\":10,\"solidity\":0.2}},\"type\":\"barpolar\"}],\"carpet\":[{\"aaxis\":{\"endlinecolor\":\"#2a3f5f\",\"gridcolor\":\"white\",\"linecolor\":\"white\",\"minorgridcolor\":\"white\",\"startlinecolor\":\"#2a3f5f\"},\"baxis\":{\"endlinecolor\":\"#2a3f5f\",\"gridcolor\":\"white\",\"linecolor\":\"white\",\"minorgridcolor\":\"white\",\"startlinecolor\":\"#2a3f5f\"},\"type\":\"carpet\"}],\"choropleth\":[{\"colorbar\":{\"outlinewidth\":0,\"ticks\":\"\"},\"type\":\"choropleth\"}],\"contour\":[{\"colorbar\":{\"outlinewidth\":0,\"ticks\":\"\"},\"colorscale\":[[0.0,\"#0d0887\"],[0.1111111111111111,\"#46039f\"],[0.2222222222222222,\"#7201a8\"],[0.3333333333333333,\"#9c179e\"],[0.4444444444444444,\"#bd3786\"],[0.5555555555555556,\"#d8576b\"],[0.6666666666666666,\"#ed7953\"],[0.7777777777777778,\"#fb9f3a\"],[0.8888888888888888,\"#fdca26\"],[1.0,\"#f0f921\"]],\"type\":\"contour\"}],\"contourcarpet\":[{\"colorbar\":{\"outlinewidth\":0,\"ticks\":\"\"},\"type\":\"contourcarpet\"}],\"heatmap\":[{\"colorbar\":{\"outlinewidth\":0,\"ticks\":\"\"},\"colorscale\":[[0.0,\"#0d0887\"],[0.1111111111111111,\"#46039f\"],[0.2222222222222222,\"#7201a8\"],[0.3333333333333333,\"#9c179e\"],[0.4444444444444444,\"#bd3786\"],[0.5555555555555556,\"#d8576b\"],[0.6666666666666666,\"#ed7953\"],[0.7777777777777778,\"#fb9f3a\"],[0.8888888888888888,\"#fdca26\"],[1.0,\"#f0f921\"]],\"type\":\"heatmap\"}],\"heatmapgl\":[{\"colorbar\":{\"outlinewidth\":0,\"ticks\":\"\"},\"colorscale\":[[0.0,\"#0d0887\"],[0.1111111111111111,\"#46039f\"],[0.2222222222222222,\"#7201a8\"],[0.3333333333333333,\"#9c179e\"],[0.4444444444444444,\"#bd3786\"],[0.5555555555555556,\"#d8576b\"],[0.6666666666666666,\"#ed7953\"],[0.7777777777777778,\"#fb9f3a\"],[0.8888888888888888,\"#fdca26\"],[1.0,\"#f0f921\"]],\"type\":\"heatmapgl\"}],\"histogram\":[{\"marker\":{\"pattern\":{\"fillmode\":\"overlay\",\"size\":10,\"solidity\":0.2}},\"type\":\"histogram\"}],\"histogram2d\":[{\"colorbar\":{\"outlinewidth\":0,\"ticks\":\"\"},\"colorscale\":[[0.0,\"#0d0887\"],[0.1111111111111111,\"#46039f\"],[0.2222222222222222,\"#7201a8\"],[0.3333333333333333,\"#9c179e\"],[0.4444444444444444,\"#bd3786\"],[0.5555555555555556,\"#d8576b\"],[0.6666666666666666,\"#ed7953\"],[0.7777777777777778,\"#fb9f3a\"],[0.8888888888888888,\"#fdca26\"],[1.0,\"#f0f921\"]],\"type\":\"histogram2d\"}],\"histogram2dcontour\":[{\"colorbar\":{\"outlinewidth\":0,\"ticks\":\"\"},\"colorscale\":[[0.0,\"#0d0887\"],[0.1111111111111111,\"#46039f\"],[0.2222222222222222,\"#7201a8\"],[0.3333333333333333,\"#9c179e\"],[0.4444444444444444,\"#bd3786\"],[0.5555555555555556,\"#d8576b\"],[0.6666666666666666,\"#ed7953\"],[0.7777777777777778,\"#fb9f3a\"],[0.8888888888888888,\"#fdca26\"],[1.0,\"#f0f921\"]],\"type\":\"histogram2dcontour\"}],\"mesh3d\":[{\"colorbar\":{\"outlinewidth\":0,\"ticks\":\"\"},\"type\":\"mesh3d\"}],\"parcoords\":[{\"line\":{\"colorbar\":{\"outlinewidth\":0,\"ticks\":\"\"}},\"type\":\"parcoords\"}],\"pie\":[{\"automargin\":true,\"type\":\"pie\"}],\"scatter\":[{\"marker\":{\"colorbar\":{\"outlinewidth\":0,\"ticks\":\"\"}},\"type\":\"scatter\"}],\"scatter3d\":[{\"line\":{\"colorbar\":{\"outlinewidth\":0,\"ticks\":\"\"}},\"marker\":{\"colorbar\":{\"outlinewidth\":0,\"ticks\":\"\"}},\"type\":\"scatter3d\"}],\"scattercarpet\":[{\"marker\":{\"colorbar\":{\"outlinewidth\":0,\"ticks\":\"\"}},\"type\":\"scattercarpet\"}],\"scattergeo\":[{\"marker\":{\"colorbar\":{\"outlinewidth\":0,\"ticks\":\"\"}},\"type\":\"scattergeo\"}],\"scattergl\":[{\"marker\":{\"colorbar\":{\"outlinewidth\":0,\"ticks\":\"\"}},\"type\":\"scattergl\"}],\"scattermapbox\":[{\"marker\":{\"colorbar\":{\"outlinewidth\":0,\"ticks\":\"\"}},\"type\":\"scattermapbox\"}],\"scatterpolar\":[{\"marker\":{\"colorbar\":{\"outlinewidth\":0,\"ticks\":\"\"}},\"type\":\"scatterpolar\"}],\"scatterpolargl\":[{\"marker\":{\"colorbar\":{\"outlinewidth\":0,\"ticks\":\"\"}},\"type\":\"scatterpolargl\"}],\"scatterternary\":[{\"marker\":{\"colorbar\":{\"outlinewidth\":0,\"ticks\":\"\"}},\"type\":\"scatterternary\"}],\"surface\":[{\"colorbar\":{\"outlinewidth\":0,\"ticks\":\"\"},\"colorscale\":[[0.0,\"#0d0887\"],[0.1111111111111111,\"#46039f\"],[0.2222222222222222,\"#7201a8\"],[0.3333333333333333,\"#9c179e\"],[0.4444444444444444,\"#bd3786\"],[0.5555555555555556,\"#d8576b\"],[0.6666666666666666,\"#ed7953\"],[0.7777777777777778,\"#fb9f3a\"],[0.8888888888888888,\"#fdca26\"],[1.0,\"#f0f921\"]],\"type\":\"surface\"}],\"table\":[{\"cells\":{\"fill\":{\"color\":\"#EBF0F8\"},\"line\":{\"color\":\"white\"}},\"header\":{\"fill\":{\"color\":\"#C8D4E3\"},\"line\":{\"color\":\"white\"}},\"type\":\"table\"}]},\"layout\":{\"annotationdefaults\":{\"arrowcolor\":\"#2a3f5f\",\"arrowhead\":0,\"arrowwidth\":1},\"autotypenumbers\":\"strict\",\"coloraxis\":{\"colorbar\":{\"outlinewidth\":0,\"ticks\":\"\"}},\"colorscale\":{\"diverging\":[[0,\"#8e0152\"],[0.1,\"#c51b7d\"],[0.2,\"#de77ae\"],[0.3,\"#f1b6da\"],[0.4,\"#fde0ef\"],[0.5,\"#f7f7f7\"],[0.6,\"#e6f5d0\"],[0.7,\"#b8e186\"],[0.8,\"#7fbc41\"],[0.9,\"#4d9221\"],[1,\"#276419\"]],\"sequential\":[[0.0,\"#0d0887\"],[0.1111111111111111,\"#46039f\"],[0.2222222222222222,\"#7201a8\"],[0.3333333333333333,\"#9c179e\"],[0.4444444444444444,\"#bd3786\"],[0.5555555555555556,\"#d8576b\"],[0.6666666666666666,\"#ed7953\"],[0.7777777777777778,\"#fb9f3a\"],[0.8888888888888888,\"#fdca26\"],[1.0,\"#f0f921\"]],\"sequentialminus\":[[0.0,\"#0d0887\"],[0.1111111111111111,\"#46039f\"],[0.2222222222222222,\"#7201a8\"],[0.3333333333333333,\"#9c179e\"],[0.4444444444444444,\"#bd3786\"],[0.5555555555555556,\"#d8576b\"],[0.6666666666666666,\"#ed7953\"],[0.7777777777777778,\"#fb9f3a\"],[0.8888888888888888,\"#fdca26\"],[1.0,\"#f0f921\"]]},\"colorway\":[\"#636efa\",\"#EF553B\",\"#00cc96\",\"#ab63fa\",\"#FFA15A\",\"#19d3f3\",\"#FF6692\",\"#B6E880\",\"#FF97FF\",\"#FECB52\"],\"font\":{\"color\":\"#2a3f5f\"},\"geo\":{\"bgcolor\":\"white\",\"lakecolor\":\"white\",\"landcolor\":\"#E5ECF6\",\"showlakes\":true,\"showland\":true,\"subunitcolor\":\"white\"},\"hoverlabel\":{\"align\":\"left\"},\"hovermode\":\"closest\",\"mapbox\":{\"style\":\"light\"},\"paper_bgcolor\":\"white\",\"plot_bgcolor\":\"#E5ECF6\",\"polar\":{\"angularaxis\":{\"gridcolor\":\"white\",\"linecolor\":\"white\",\"ticks\":\"\"},\"bgcolor\":\"#E5ECF6\",\"radialaxis\":{\"gridcolor\":\"white\",\"linecolor\":\"white\",\"ticks\":\"\"}},\"scene\":{\"xaxis\":{\"backgroundcolor\":\"#E5ECF6\",\"gridcolor\":\"white\",\"gridwidth\":2,\"linecolor\":\"white\",\"showbackground\":true,\"ticks\":\"\",\"zerolinecolor\":\"white\"},\"yaxis\":{\"backgroundcolor\":\"#E5ECF6\",\"gridcolor\":\"white\",\"gridwidth\":2,\"linecolor\":\"white\",\"showbackground\":true,\"ticks\":\"\",\"zerolinecolor\":\"white\"},\"zaxis\":{\"backgroundcolor\":\"#E5ECF6\",\"gridcolor\":\"white\",\"gridwidth\":2,\"linecolor\":\"white\",\"showbackground\":true,\"ticks\":\"\",\"zerolinecolor\":\"white\"}},\"shapedefaults\":{\"line\":{\"color\":\"#2a3f5f\"}},\"ternary\":{\"aaxis\":{\"gridcolor\":\"white\",\"linecolor\":\"white\",\"ticks\":\"\"},\"baxis\":{\"gridcolor\":\"white\",\"linecolor\":\"white\",\"ticks\":\"\"},\"bgcolor\":\"#E5ECF6\",\"caxis\":{\"gridcolor\":\"white\",\"linecolor\":\"white\",\"ticks\":\"\"}},\"title\":{\"x\":0.05},\"xaxis\":{\"automargin\":true,\"gridcolor\":\"white\",\"linecolor\":\"white\",\"ticks\":\"\",\"title\":{\"standoff\":15},\"zerolinecolor\":\"white\",\"zerolinewidth\":2},\"yaxis\":{\"automargin\":true,\"gridcolor\":\"white\",\"linecolor\":\"white\",\"ticks\":\"\",\"title\":{\"standoff\":15},\"zerolinecolor\":\"white\",\"zerolinewidth\":2}}}},                        {\"responsive\": true}                    ).then(function(){\n",
       "                            \n",
       "var gd = document.getElementById('180a2c5e-c96a-4f0e-af5a-56093c7f210b');\n",
       "var x = new MutationObserver(function (mutations, observer) {{\n",
       "        var display = window.getComputedStyle(gd).display;\n",
       "        if (!display || display === 'none') {{\n",
       "            console.log([gd, 'removed!']);\n",
       "            Plotly.purge(gd);\n",
       "            observer.disconnect();\n",
       "        }}\n",
       "}});\n",
       "\n",
       "// Listen for the removal of the full notebook cells\n",
       "var notebookContainer = gd.closest('#notebook-container');\n",
       "if (notebookContainer) {{\n",
       "    x.observe(notebookContainer, {childList: true});\n",
       "}}\n",
       "\n",
       "// Listen for the clearing of the current output cell\n",
       "var outputEl = gd.closest('.output');\n",
       "if (outputEl) {{\n",
       "    x.observe(outputEl, {childList: true});\n",
       "}}\n",
       "\n",
       "                        })                };                });            </script>        </div>"
      ]
     },
     "metadata": {},
     "output_type": "display_data"
    }
   ],
   "source": [
    "fig = px.treemap(myTreemapAgg.reset_index(), path=[px.Constant(\"WBev nach Stadtkreis, Quartier, Alter und Herkunft\"), 'KreisLang','QuarLang','HerkunftLang', 'AlterV20Kurz']\n",
    "                 , values='sum_WBev'\n",
    "                 , color='sum_WBev'\n",
    "                 ## bei discrete scales (bei Klassen und Strings):                 \n",
    "                 #, color_discrete_map={'(?)':'lightgrey','EVP':'gold', 'SP':'#FF3030', 'PdA':'#EE3B3B', 'Grüne':'#A2CD5A','GLP':'#CAFF70','Die Mitte':'orange','FDP':'#104E8B','AL':'deeppink','SVP':'forestgreen', 'FL ZÜRI':'#8B864E','Volt':'#lightblue' }                \n",
    "                 ## bei continuous scales (bei Zahlenwerten):\n",
    "                , color_continuous_scale='Blues'\n",
    "                #, color_continuous_midpoint=np.average(df['AnzBestWir'], weights=df['AnzBestWir'])  \n",
    "                 #,height=400\n",
    "                 #,width=1500                 \n",
    "                )\n",
    "fig.update_traces(root_color=\"grey\")\n",
    "fig.update_layout(margin = dict(t=50, l=25, r=250, b=25))\n",
    "fig.show()"
   ]
  },
  {
   "cell_type": "markdown",
   "metadata": {},
   "source": [
    "#### Aktueller Bestand der WBev nach Stadtkreis, Alter und Herkunft"
   ]
  },
  {
   "cell_type": "code",
   "execution_count": 110,
   "metadata": {},
   "outputs": [
    {
     "data": {
      "text/html": [
       "<div>\n",
       "<style scoped>\n",
       "    .dataframe tbody tr th:only-of-type {\n",
       "        vertical-align: middle;\n",
       "    }\n",
       "\n",
       "    .dataframe tbody tr th {\n",
       "        vertical-align: top;\n",
       "    }\n",
       "\n",
       "    .dataframe thead th {\n",
       "        text-align: right;\n",
       "    }\n",
       "</style>\n",
       "<table border=\"1\" class=\"dataframe\">\n",
       "  <thead>\n",
       "    <tr style=\"text-align: right;\">\n",
       "      <th></th>\n",
       "      <th>GueltigAbDat</th>\n",
       "      <th>GueltigAbDatJahr</th>\n",
       "      <th>GueltigAbDatMM</th>\n",
       "      <th>KreisLang</th>\n",
       "      <th>HerkunftLang</th>\n",
       "      <th>AlterV20Kurz</th>\n",
       "      <th>sum_WBev</th>\n",
       "    </tr>\n",
       "  </thead>\n",
       "  <tbody>\n",
       "    <tr>\n",
       "      <th>0</th>\n",
       "      <td>2020-12-22</td>\n",
       "      <td>2020</td>\n",
       "      <td>12</td>\n",
       "      <td>Kreis 12</td>\n",
       "      <td>Schweizer/in</td>\n",
       "      <td>80-99</td>\n",
       "      <td>5</td>\n",
       "    </tr>\n",
       "    <tr>\n",
       "      <th>1</th>\n",
       "      <td>2020-01-28</td>\n",
       "      <td>2020</td>\n",
       "      <td>1</td>\n",
       "      <td>Kreis 9</td>\n",
       "      <td>Schweizer/in</td>\n",
       "      <td>80-99</td>\n",
       "      <td>5</td>\n",
       "    </tr>\n",
       "  </tbody>\n",
       "</table>\n",
       "</div>"
      ],
      "text/plain": [
       "  GueltigAbDat  GueltigAbDatJahr  GueltigAbDatMM KreisLang  HerkunftLang AlterV20Kurz  sum_WBev\n",
       "0   2020-12-22              2020              12  Kreis 12  Schweizer/in        80-99         5\n",
       "1   2020-01-28              2020               1   Kreis 9  Schweizer/in        80-99         5"
      ]
     },
     "execution_count": 110,
     "metadata": {},
     "output_type": "execute_result"
    }
   ],
   "source": [
    "myTreemapAgg = data2betested.loc[\"2019-11\":\"2021-11\"]  \\\n",
    "    .groupby(['GueltigAbDat','GueltigAbDatJahr', 'GueltigAbDatMM', 'KreisLang','HerkunftLang', 'AlterV20Kurz' ]) \\\n",
    "    .agg(sum_WBev=('AnzSterWir', 'sum')) \\\n",
    "    .sort_values('sum_WBev', ascending=False) \n",
    "\n",
    "myTreemapAgg.reset_index().head(2)"
   ]
  },
  {
   "cell_type": "code",
   "execution_count": 111,
   "metadata": {},
   "outputs": [
    {
     "data": {
      "application/vnd.plotly.v1+json": {
       "config": {
        "plotlyServerURL": "https://plot.ly"
       },
       "data": [
        {
         "branchvalues": "total",
         "customdata": [
          [
           1
          ],
          [
           1
          ],
          [
           1
          ],
          [
           1
          ],
          [
           1
          ],
          [
           1
          ],
          [
           1.2222222222222223
          ],
          [
           1
          ],
          [
           1.127659574468085
          ],
          [
           1
          ],
          [
           1
          ],
          [
           1
          ],
          [
           1.1612903225806452
          ],
          [
           1.0327868852459017
          ],
          [
           1
          ],
          [
           1
          ],
          [
           1
          ],
          [
           1
          ],
          [
           1.0454545454545454
          ],
          [
           1
          ],
          [
           1
          ],
          [
           1
          ],
          [
           1
          ],
          [
           1.0606060606060606
          ],
          [
           1
          ],
          [
           1
          ],
          [
           1.1111111111111112
          ],
          [
           1
          ],
          [
           1.0727272727272728
          ],
          [
           1
          ],
          [
           1
          ],
          [
           1.0476190476190477
          ],
          [
           1
          ],
          [
           1
          ],
          [
           1
          ],
          [
           1
          ],
          [
           1
          ],
          [
           1
          ],
          [
           1
          ],
          [
           1
          ],
          [
           1
          ],
          [
           1.0714285714285714
          ],
          [
           1
          ],
          [
           1
          ],
          [
           1
          ],
          [
           1.0909090909090908
          ],
          [
           1.0392156862745099
          ],
          [
           1
          ],
          [
           1
          ],
          [
           1.2666666666666666
          ],
          [
           1
          ],
          [
           1.0909090909090908
          ],
          [
           1.0769230769230769
          ],
          [
           1.121212121212121
          ],
          [
           1
          ],
          [
           1
          ],
          [
           1
          ],
          [
           1
          ],
          [
           1.126984126984127
          ],
          [
           1
          ],
          [
           1
          ],
          [
           1
          ],
          [
           1
          ],
          [
           1.1828571428571428
          ],
          [
           1.6864406779661016
          ],
          [
           1
          ],
          [
           1
          ],
          [
           1
          ],
          [
           1.105263157894737
          ],
          [
           1.3694779116465863
          ],
          [
           1.688976377952756
          ],
          [
           1
          ],
          [
           1
          ],
          [
           1
          ],
          [
           1
          ],
          [
           1.1300813008130082
          ],
          [
           1.4
          ],
          [
           1
          ],
          [
           1
          ],
          [
           1
          ],
          [
           1
          ],
          [
           1.150375939849624
          ],
          [
           1.6298850574712644
          ],
          [
           1
          ],
          [
           1
          ],
          [
           1
          ],
          [
           1.0666666666666667
          ],
          [
           1.2098765432098766
          ],
          [
           1.5970873786407767
          ],
          [
           1
          ],
          [
           1
          ],
          [
           1
          ],
          [
           1.0606060606060606
          ],
          [
           1.0638297872340425
          ],
          [
           1.1911764705882353
          ],
          [
           1
          ],
          [
           1
          ],
          [
           1
          ],
          [
           1
          ],
          [
           1
          ],
          [
           1.0625
          ],
          [
           1
          ],
          [
           1
          ],
          [
           1
          ],
          [
           1.1063829787234043
          ],
          [
           1.3
          ],
          [
           1
          ],
          [
           1
          ],
          [
           1
          ],
          [
           1
          ],
          [
           1.2765957446808511
          ],
          [
           1.7244094488188977
          ],
          [
           1
          ],
          [
           1
          ],
          [
           1
          ],
          [
           1
          ],
          [
           1
          ],
          [
           1.2625
          ],
          [
           1
          ],
          [
           1
          ],
          [
           1
          ],
          [
           1
          ],
          [
           1.2679425837320575
          ],
          [
           1.732965009208103
          ],
          [
           1
          ],
          [
           1
          ],
          [
           1
          ],
          [
           1
          ],
          [
           1.1194029850746268
          ],
          [
           1
          ],
          [
           1
          ],
          [
           1
          ],
          [
           1.0571428571428572
          ],
          [
           1.1560975609756097
          ],
          [
           1.6358381502890174
          ],
          [
           1
          ],
          [
           1
          ],
          [
           1
          ],
          [
           1.0759493670886076
          ],
          [
           1.3279742765273312
          ],
          [
           1.6186291739894552
          ],
          [
           1
          ],
          [
           1
          ],
          [
           1
          ],
          [
           1
          ],
          [
           1.1019108280254777
          ],
          [
           1.3577235772357723
          ],
          [
           1
          ],
          [
           1
          ],
          [
           1
          ],
          [
           1
          ],
          [
           1.12987012987013
          ],
          [
           1.5897435897435896
          ],
          [
           1
          ],
          [
           1
          ],
          [
           1
          ],
          [
           1.0833333333333333
          ],
          [
           1.17
          ],
          [
           1.5353319057815846
          ],
          [
           1
          ],
          [
           1
          ],
          [
           1
          ],
          [
           1.0416666666666667
          ],
          [
           1.0588235294117647
          ],
          [
           1.1529411764705881
          ],
          [
           1
          ],
          [
           1
          ],
          [
           1
          ],
          [
           1
          ],
          [
           1
          ],
          [
           1.0547945205479452
          ],
          [
           1
          ],
          [
           1
          ],
          [
           1
          ],
          [
           1
          ],
          [
           1.0909090909090908
          ],
          [
           1.2741935483870968
          ],
          [
           1
          ],
          [
           1
          ],
          [
           1
          ],
          [
           1
          ],
          [
           1.2571428571428571
          ],
          [
           1.661896243291592
          ],
          [
           1
          ],
          [
           1
          ],
          [
           1
          ],
          [
           1
          ],
          [
           1
          ],
          [
           1.262857142857143
          ],
          [
           1
          ],
          [
           1
          ],
          [
           1
          ],
          [
           1.0307692307692307
          ],
          [
           1.2298850574712643
          ],
          [
           1.6666666666666667
          ],
          [
           1
          ],
          [
           1
          ],
          [
           1
          ],
          [
           1.0354767184035476
          ],
          [
           1.1790090570058605
          ],
          [
           1.528301886792453
          ],
          [
           1.3812018041612106
          ]
         ],
         "domain": {
          "x": [
           0,
           1
          ],
          "y": [
           0,
           1
          ]
         },
         "hovertemplate": "labels=%{label}<br>sum_WBev_sum=%{value}<br>parent=%{parent}<br>id=%{id}<br>sum_WBev=%{color}<extra></extra>",
         "ids": [
          "WBev nach Alter, Stadtkreis und Herkunft/20-39/Kreis 1/Ausländer/in",
          "WBev nach Alter, Stadtkreis und Herkunft/40-59/Kreis 1/Ausländer/in",
          "WBev nach Alter, Stadtkreis und Herkunft/60-79/Kreis 1/Ausländer/in",
          "WBev nach Alter, Stadtkreis und Herkunft/80-99/Kreis 1/Ausländer/in",
          "WBev nach Alter, Stadtkreis und Herkunft/100 u. älter/Kreis 10/Ausländer/in",
          "WBev nach Alter, Stadtkreis und Herkunft/20-39/Kreis 10/Ausländer/in",
          "WBev nach Alter, Stadtkreis und Herkunft/40-59/Kreis 10/Ausländer/in",
          "WBev nach Alter, Stadtkreis und Herkunft/60-79/Kreis 10/Ausländer/in",
          "WBev nach Alter, Stadtkreis und Herkunft/80-99/Kreis 10/Ausländer/in",
          "WBev nach Alter, Stadtkreis und Herkunft/0-19/Kreis 11/Ausländer/in",
          "WBev nach Alter, Stadtkreis und Herkunft/20-39/Kreis 11/Ausländer/in",
          "WBev nach Alter, Stadtkreis und Herkunft/40-59/Kreis 11/Ausländer/in",
          "WBev nach Alter, Stadtkreis und Herkunft/60-79/Kreis 11/Ausländer/in",
          "WBev nach Alter, Stadtkreis und Herkunft/80-99/Kreis 11/Ausländer/in",
          "WBev nach Alter, Stadtkreis und Herkunft/0-19/Kreis 12/Ausländer/in",
          "WBev nach Alter, Stadtkreis und Herkunft/20-39/Kreis 12/Ausländer/in",
          "WBev nach Alter, Stadtkreis und Herkunft/40-59/Kreis 12/Ausländer/in",
          "WBev nach Alter, Stadtkreis und Herkunft/60-79/Kreis 12/Ausländer/in",
          "WBev nach Alter, Stadtkreis und Herkunft/80-99/Kreis 12/Ausländer/in",
          "WBev nach Alter, Stadtkreis und Herkunft/100 u. älter/Kreis 2/Ausländer/in",
          "WBev nach Alter, Stadtkreis und Herkunft/20-39/Kreis 2/Ausländer/in",
          "WBev nach Alter, Stadtkreis und Herkunft/40-59/Kreis 2/Ausländer/in",
          "WBev nach Alter, Stadtkreis und Herkunft/60-79/Kreis 2/Ausländer/in",
          "WBev nach Alter, Stadtkreis und Herkunft/80-99/Kreis 2/Ausländer/in",
          "WBev nach Alter, Stadtkreis und Herkunft/100 u. älter/Kreis 3/Ausländer/in",
          "WBev nach Alter, Stadtkreis und Herkunft/20-39/Kreis 3/Ausländer/in",
          "WBev nach Alter, Stadtkreis und Herkunft/40-59/Kreis 3/Ausländer/in",
          "WBev nach Alter, Stadtkreis und Herkunft/60-79/Kreis 3/Ausländer/in",
          "WBev nach Alter, Stadtkreis und Herkunft/80-99/Kreis 3/Ausländer/in",
          "WBev nach Alter, Stadtkreis und Herkunft/20-39/Kreis 4/Ausländer/in",
          "WBev nach Alter, Stadtkreis und Herkunft/40-59/Kreis 4/Ausländer/in",
          "WBev nach Alter, Stadtkreis und Herkunft/60-79/Kreis 4/Ausländer/in",
          "WBev nach Alter, Stadtkreis und Herkunft/80-99/Kreis 4/Ausländer/in",
          "WBev nach Alter, Stadtkreis und Herkunft/20-39/Kreis 5/Ausländer/in",
          "WBev nach Alter, Stadtkreis und Herkunft/40-59/Kreis 5/Ausländer/in",
          "WBev nach Alter, Stadtkreis und Herkunft/60-79/Kreis 5/Ausländer/in",
          "WBev nach Alter, Stadtkreis und Herkunft/80-99/Kreis 5/Ausländer/in",
          "WBev nach Alter, Stadtkreis und Herkunft/0-19/Kreis 6/Ausländer/in",
          "WBev nach Alter, Stadtkreis und Herkunft/20-39/Kreis 6/Ausländer/in",
          "WBev nach Alter, Stadtkreis und Herkunft/40-59/Kreis 6/Ausländer/in",
          "WBev nach Alter, Stadtkreis und Herkunft/60-79/Kreis 6/Ausländer/in",
          "WBev nach Alter, Stadtkreis und Herkunft/80-99/Kreis 6/Ausländer/in",
          "WBev nach Alter, Stadtkreis und Herkunft/0-19/Kreis 7/Ausländer/in",
          "WBev nach Alter, Stadtkreis und Herkunft/20-39/Kreis 7/Ausländer/in",
          "WBev nach Alter, Stadtkreis und Herkunft/40-59/Kreis 7/Ausländer/in",
          "WBev nach Alter, Stadtkreis und Herkunft/60-79/Kreis 7/Ausländer/in",
          "WBev nach Alter, Stadtkreis und Herkunft/80-99/Kreis 7/Ausländer/in",
          "WBev nach Alter, Stadtkreis und Herkunft/40-59/Kreis 8/Ausländer/in",
          "WBev nach Alter, Stadtkreis und Herkunft/60-79/Kreis 8/Ausländer/in",
          "WBev nach Alter, Stadtkreis und Herkunft/80-99/Kreis 8/Ausländer/in",
          "WBev nach Alter, Stadtkreis und Herkunft/20-39/Kreis 9/Ausländer/in",
          "WBev nach Alter, Stadtkreis und Herkunft/40-59/Kreis 9/Ausländer/in",
          "WBev nach Alter, Stadtkreis und Herkunft/60-79/Kreis 9/Ausländer/in",
          "WBev nach Alter, Stadtkreis und Herkunft/80-99/Kreis 9/Ausländer/in",
          "WBev nach Alter, Stadtkreis und Herkunft/100 u. älter/Kreis 1/Schweizer/in",
          "WBev nach Alter, Stadtkreis und Herkunft/20-39/Kreis 1/Schweizer/in",
          "WBev nach Alter, Stadtkreis und Herkunft/40-59/Kreis 1/Schweizer/in",
          "WBev nach Alter, Stadtkreis und Herkunft/60-79/Kreis 1/Schweizer/in",
          "WBev nach Alter, Stadtkreis und Herkunft/80-99/Kreis 1/Schweizer/in",
          "WBev nach Alter, Stadtkreis und Herkunft/0-19/Kreis 10/Schweizer/in",
          "WBev nach Alter, Stadtkreis und Herkunft/100 u. älter/Kreis 10/Schweizer/in",
          "WBev nach Alter, Stadtkreis und Herkunft/20-39/Kreis 10/Schweizer/in",
          "WBev nach Alter, Stadtkreis und Herkunft/40-59/Kreis 10/Schweizer/in",
          "WBev nach Alter, Stadtkreis und Herkunft/60-79/Kreis 10/Schweizer/in",
          "WBev nach Alter, Stadtkreis und Herkunft/80-99/Kreis 10/Schweizer/in",
          "WBev nach Alter, Stadtkreis und Herkunft/0-19/Kreis 11/Schweizer/in",
          "WBev nach Alter, Stadtkreis und Herkunft/100 u. älter/Kreis 11/Schweizer/in",
          "WBev nach Alter, Stadtkreis und Herkunft/20-39/Kreis 11/Schweizer/in",
          "WBev nach Alter, Stadtkreis und Herkunft/40-59/Kreis 11/Schweizer/in",
          "WBev nach Alter, Stadtkreis und Herkunft/60-79/Kreis 11/Schweizer/in",
          "WBev nach Alter, Stadtkreis und Herkunft/80-99/Kreis 11/Schweizer/in",
          "WBev nach Alter, Stadtkreis und Herkunft/0-19/Kreis 12/Schweizer/in",
          "WBev nach Alter, Stadtkreis und Herkunft/100 u. älter/Kreis 12/Schweizer/in",
          "WBev nach Alter, Stadtkreis und Herkunft/20-39/Kreis 12/Schweizer/in",
          "WBev nach Alter, Stadtkreis und Herkunft/40-59/Kreis 12/Schweizer/in",
          "WBev nach Alter, Stadtkreis und Herkunft/60-79/Kreis 12/Schweizer/in",
          "WBev nach Alter, Stadtkreis und Herkunft/80-99/Kreis 12/Schweizer/in",
          "WBev nach Alter, Stadtkreis und Herkunft/0-19/Kreis 2/Schweizer/in",
          "WBev nach Alter, Stadtkreis und Herkunft/100 u. älter/Kreis 2/Schweizer/in",
          "WBev nach Alter, Stadtkreis und Herkunft/20-39/Kreis 2/Schweizer/in",
          "WBev nach Alter, Stadtkreis und Herkunft/40-59/Kreis 2/Schweizer/in",
          "WBev nach Alter, Stadtkreis und Herkunft/60-79/Kreis 2/Schweizer/in",
          "WBev nach Alter, Stadtkreis und Herkunft/80-99/Kreis 2/Schweizer/in",
          "WBev nach Alter, Stadtkreis und Herkunft/0-19/Kreis 3/Schweizer/in",
          "WBev nach Alter, Stadtkreis und Herkunft/100 u. älter/Kreis 3/Schweizer/in",
          "WBev nach Alter, Stadtkreis und Herkunft/20-39/Kreis 3/Schweizer/in",
          "WBev nach Alter, Stadtkreis und Herkunft/40-59/Kreis 3/Schweizer/in",
          "WBev nach Alter, Stadtkreis und Herkunft/60-79/Kreis 3/Schweizer/in",
          "WBev nach Alter, Stadtkreis und Herkunft/80-99/Kreis 3/Schweizer/in",
          "WBev nach Alter, Stadtkreis und Herkunft/0-19/Kreis 4/Schweizer/in",
          "WBev nach Alter, Stadtkreis und Herkunft/100 u. älter/Kreis 4/Schweizer/in",
          "WBev nach Alter, Stadtkreis und Herkunft/20-39/Kreis 4/Schweizer/in",
          "WBev nach Alter, Stadtkreis und Herkunft/40-59/Kreis 4/Schweizer/in",
          "WBev nach Alter, Stadtkreis und Herkunft/60-79/Kreis 4/Schweizer/in",
          "WBev nach Alter, Stadtkreis und Herkunft/80-99/Kreis 4/Schweizer/in",
          "WBev nach Alter, Stadtkreis und Herkunft/0-19/Kreis 5/Schweizer/in",
          "WBev nach Alter, Stadtkreis und Herkunft/100 u. älter/Kreis 5/Schweizer/in",
          "WBev nach Alter, Stadtkreis und Herkunft/20-39/Kreis 5/Schweizer/in",
          "WBev nach Alter, Stadtkreis und Herkunft/40-59/Kreis 5/Schweizer/in",
          "WBev nach Alter, Stadtkreis und Herkunft/60-79/Kreis 5/Schweizer/in",
          "WBev nach Alter, Stadtkreis und Herkunft/80-99/Kreis 5/Schweizer/in",
          "WBev nach Alter, Stadtkreis und Herkunft/100 u. älter/Kreis 6/Schweizer/in",
          "WBev nach Alter, Stadtkreis und Herkunft/20-39/Kreis 6/Schweizer/in",
          "WBev nach Alter, Stadtkreis und Herkunft/40-59/Kreis 6/Schweizer/in",
          "WBev nach Alter, Stadtkreis und Herkunft/60-79/Kreis 6/Schweizer/in",
          "WBev nach Alter, Stadtkreis und Herkunft/80-99/Kreis 6/Schweizer/in",
          "WBev nach Alter, Stadtkreis und Herkunft/0-19/Kreis 7/Schweizer/in",
          "WBev nach Alter, Stadtkreis und Herkunft/100 u. älter/Kreis 7/Schweizer/in",
          "WBev nach Alter, Stadtkreis und Herkunft/20-39/Kreis 7/Schweizer/in",
          "WBev nach Alter, Stadtkreis und Herkunft/40-59/Kreis 7/Schweizer/in",
          "WBev nach Alter, Stadtkreis und Herkunft/60-79/Kreis 7/Schweizer/in",
          "WBev nach Alter, Stadtkreis und Herkunft/80-99/Kreis 7/Schweizer/in",
          "WBev nach Alter, Stadtkreis und Herkunft/0-19/Kreis 8/Schweizer/in",
          "WBev nach Alter, Stadtkreis und Herkunft/100 u. älter/Kreis 8/Schweizer/in",
          "WBev nach Alter, Stadtkreis und Herkunft/20-39/Kreis 8/Schweizer/in",
          "WBev nach Alter, Stadtkreis und Herkunft/40-59/Kreis 8/Schweizer/in",
          "WBev nach Alter, Stadtkreis und Herkunft/60-79/Kreis 8/Schweizer/in",
          "WBev nach Alter, Stadtkreis und Herkunft/80-99/Kreis 8/Schweizer/in",
          "WBev nach Alter, Stadtkreis und Herkunft/0-19/Kreis 9/Schweizer/in",
          "WBev nach Alter, Stadtkreis und Herkunft/100 u. älter/Kreis 9/Schweizer/in",
          "WBev nach Alter, Stadtkreis und Herkunft/20-39/Kreis 9/Schweizer/in",
          "WBev nach Alter, Stadtkreis und Herkunft/40-59/Kreis 9/Schweizer/in",
          "WBev nach Alter, Stadtkreis und Herkunft/60-79/Kreis 9/Schweizer/in",
          "WBev nach Alter, Stadtkreis und Herkunft/80-99/Kreis 9/Schweizer/in",
          "WBev nach Alter, Stadtkreis und Herkunft/100 u. älter/Kreis 1",
          "WBev nach Alter, Stadtkreis und Herkunft/20-39/Kreis 1",
          "WBev nach Alter, Stadtkreis und Herkunft/40-59/Kreis 1",
          "WBev nach Alter, Stadtkreis und Herkunft/60-79/Kreis 1",
          "WBev nach Alter, Stadtkreis und Herkunft/80-99/Kreis 1",
          "WBev nach Alter, Stadtkreis und Herkunft/0-19/Kreis 10",
          "WBev nach Alter, Stadtkreis und Herkunft/100 u. älter/Kreis 10",
          "WBev nach Alter, Stadtkreis und Herkunft/20-39/Kreis 10",
          "WBev nach Alter, Stadtkreis und Herkunft/40-59/Kreis 10",
          "WBev nach Alter, Stadtkreis und Herkunft/60-79/Kreis 10",
          "WBev nach Alter, Stadtkreis und Herkunft/80-99/Kreis 10",
          "WBev nach Alter, Stadtkreis und Herkunft/0-19/Kreis 11",
          "WBev nach Alter, Stadtkreis und Herkunft/100 u. älter/Kreis 11",
          "WBev nach Alter, Stadtkreis und Herkunft/20-39/Kreis 11",
          "WBev nach Alter, Stadtkreis und Herkunft/40-59/Kreis 11",
          "WBev nach Alter, Stadtkreis und Herkunft/60-79/Kreis 11",
          "WBev nach Alter, Stadtkreis und Herkunft/80-99/Kreis 11",
          "WBev nach Alter, Stadtkreis und Herkunft/0-19/Kreis 12",
          "WBev nach Alter, Stadtkreis und Herkunft/100 u. älter/Kreis 12",
          "WBev nach Alter, Stadtkreis und Herkunft/20-39/Kreis 12",
          "WBev nach Alter, Stadtkreis und Herkunft/40-59/Kreis 12",
          "WBev nach Alter, Stadtkreis und Herkunft/60-79/Kreis 12",
          "WBev nach Alter, Stadtkreis und Herkunft/80-99/Kreis 12",
          "WBev nach Alter, Stadtkreis und Herkunft/0-19/Kreis 2",
          "WBev nach Alter, Stadtkreis und Herkunft/100 u. älter/Kreis 2",
          "WBev nach Alter, Stadtkreis und Herkunft/20-39/Kreis 2",
          "WBev nach Alter, Stadtkreis und Herkunft/40-59/Kreis 2",
          "WBev nach Alter, Stadtkreis und Herkunft/60-79/Kreis 2",
          "WBev nach Alter, Stadtkreis und Herkunft/80-99/Kreis 2",
          "WBev nach Alter, Stadtkreis und Herkunft/0-19/Kreis 3",
          "WBev nach Alter, Stadtkreis und Herkunft/100 u. älter/Kreis 3",
          "WBev nach Alter, Stadtkreis und Herkunft/20-39/Kreis 3",
          "WBev nach Alter, Stadtkreis und Herkunft/40-59/Kreis 3",
          "WBev nach Alter, Stadtkreis und Herkunft/60-79/Kreis 3",
          "WBev nach Alter, Stadtkreis und Herkunft/80-99/Kreis 3",
          "WBev nach Alter, Stadtkreis und Herkunft/0-19/Kreis 4",
          "WBev nach Alter, Stadtkreis und Herkunft/100 u. älter/Kreis 4",
          "WBev nach Alter, Stadtkreis und Herkunft/20-39/Kreis 4",
          "WBev nach Alter, Stadtkreis und Herkunft/40-59/Kreis 4",
          "WBev nach Alter, Stadtkreis und Herkunft/60-79/Kreis 4",
          "WBev nach Alter, Stadtkreis und Herkunft/80-99/Kreis 4",
          "WBev nach Alter, Stadtkreis und Herkunft/0-19/Kreis 5",
          "WBev nach Alter, Stadtkreis und Herkunft/100 u. älter/Kreis 5",
          "WBev nach Alter, Stadtkreis und Herkunft/20-39/Kreis 5",
          "WBev nach Alter, Stadtkreis und Herkunft/40-59/Kreis 5",
          "WBev nach Alter, Stadtkreis und Herkunft/60-79/Kreis 5",
          "WBev nach Alter, Stadtkreis und Herkunft/80-99/Kreis 5",
          "WBev nach Alter, Stadtkreis und Herkunft/0-19/Kreis 6",
          "WBev nach Alter, Stadtkreis und Herkunft/100 u. älter/Kreis 6",
          "WBev nach Alter, Stadtkreis und Herkunft/20-39/Kreis 6",
          "WBev nach Alter, Stadtkreis und Herkunft/40-59/Kreis 6",
          "WBev nach Alter, Stadtkreis und Herkunft/60-79/Kreis 6",
          "WBev nach Alter, Stadtkreis und Herkunft/80-99/Kreis 6",
          "WBev nach Alter, Stadtkreis und Herkunft/0-19/Kreis 7",
          "WBev nach Alter, Stadtkreis und Herkunft/100 u. älter/Kreis 7",
          "WBev nach Alter, Stadtkreis und Herkunft/20-39/Kreis 7",
          "WBev nach Alter, Stadtkreis und Herkunft/40-59/Kreis 7",
          "WBev nach Alter, Stadtkreis und Herkunft/60-79/Kreis 7",
          "WBev nach Alter, Stadtkreis und Herkunft/80-99/Kreis 7",
          "WBev nach Alter, Stadtkreis und Herkunft/0-19/Kreis 8",
          "WBev nach Alter, Stadtkreis und Herkunft/100 u. älter/Kreis 8",
          "WBev nach Alter, Stadtkreis und Herkunft/20-39/Kreis 8",
          "WBev nach Alter, Stadtkreis und Herkunft/40-59/Kreis 8",
          "WBev nach Alter, Stadtkreis und Herkunft/60-79/Kreis 8",
          "WBev nach Alter, Stadtkreis und Herkunft/80-99/Kreis 8",
          "WBev nach Alter, Stadtkreis und Herkunft/0-19/Kreis 9",
          "WBev nach Alter, Stadtkreis und Herkunft/100 u. älter/Kreis 9",
          "WBev nach Alter, Stadtkreis und Herkunft/20-39/Kreis 9",
          "WBev nach Alter, Stadtkreis und Herkunft/40-59/Kreis 9",
          "WBev nach Alter, Stadtkreis und Herkunft/60-79/Kreis 9",
          "WBev nach Alter, Stadtkreis und Herkunft/80-99/Kreis 9",
          "WBev nach Alter, Stadtkreis und Herkunft/0-19",
          "WBev nach Alter, Stadtkreis und Herkunft/100 u. älter",
          "WBev nach Alter, Stadtkreis und Herkunft/20-39",
          "WBev nach Alter, Stadtkreis und Herkunft/40-59",
          "WBev nach Alter, Stadtkreis und Herkunft/60-79",
          "WBev nach Alter, Stadtkreis und Herkunft/80-99",
          "WBev nach Alter, Stadtkreis und Herkunft"
         ],
         "labels": [
          "Ausländer/in",
          "Ausländer/in",
          "Ausländer/in",
          "Ausländer/in",
          "Ausländer/in",
          "Ausländer/in",
          "Ausländer/in",
          "Ausländer/in",
          "Ausländer/in",
          "Ausländer/in",
          "Ausländer/in",
          "Ausländer/in",
          "Ausländer/in",
          "Ausländer/in",
          "Ausländer/in",
          "Ausländer/in",
          "Ausländer/in",
          "Ausländer/in",
          "Ausländer/in",
          "Ausländer/in",
          "Ausländer/in",
          "Ausländer/in",
          "Ausländer/in",
          "Ausländer/in",
          "Ausländer/in",
          "Ausländer/in",
          "Ausländer/in",
          "Ausländer/in",
          "Ausländer/in",
          "Ausländer/in",
          "Ausländer/in",
          "Ausländer/in",
          "Ausländer/in",
          "Ausländer/in",
          "Ausländer/in",
          "Ausländer/in",
          "Ausländer/in",
          "Ausländer/in",
          "Ausländer/in",
          "Ausländer/in",
          "Ausländer/in",
          "Ausländer/in",
          "Ausländer/in",
          "Ausländer/in",
          "Ausländer/in",
          "Ausländer/in",
          "Ausländer/in",
          "Ausländer/in",
          "Ausländer/in",
          "Ausländer/in",
          "Ausländer/in",
          "Ausländer/in",
          "Ausländer/in",
          "Ausländer/in",
          "Schweizer/in",
          "Schweizer/in",
          "Schweizer/in",
          "Schweizer/in",
          "Schweizer/in",
          "Schweizer/in",
          "Schweizer/in",
          "Schweizer/in",
          "Schweizer/in",
          "Schweizer/in",
          "Schweizer/in",
          "Schweizer/in",
          "Schweizer/in",
          "Schweizer/in",
          "Schweizer/in",
          "Schweizer/in",
          "Schweizer/in",
          "Schweizer/in",
          "Schweizer/in",
          "Schweizer/in",
          "Schweizer/in",
          "Schweizer/in",
          "Schweizer/in",
          "Schweizer/in",
          "Schweizer/in",
          "Schweizer/in",
          "Schweizer/in",
          "Schweizer/in",
          "Schweizer/in",
          "Schweizer/in",
          "Schweizer/in",
          "Schweizer/in",
          "Schweizer/in",
          "Schweizer/in",
          "Schweizer/in",
          "Schweizer/in",
          "Schweizer/in",
          "Schweizer/in",
          "Schweizer/in",
          "Schweizer/in",
          "Schweizer/in",
          "Schweizer/in",
          "Schweizer/in",
          "Schweizer/in",
          "Schweizer/in",
          "Schweizer/in",
          "Schweizer/in",
          "Schweizer/in",
          "Schweizer/in",
          "Schweizer/in",
          "Schweizer/in",
          "Schweizer/in",
          "Schweizer/in",
          "Schweizer/in",
          "Schweizer/in",
          "Schweizer/in",
          "Schweizer/in",
          "Schweizer/in",
          "Schweizer/in",
          "Schweizer/in",
          "Schweizer/in",
          "Schweizer/in",
          "Schweizer/in",
          "Schweizer/in",
          "Schweizer/in",
          "Schweizer/in",
          "Schweizer/in",
          "Schweizer/in",
          "Schweizer/in",
          "Schweizer/in",
          "Kreis 1",
          "Kreis 1",
          "Kreis 1",
          "Kreis 1",
          "Kreis 1",
          "Kreis 10",
          "Kreis 10",
          "Kreis 10",
          "Kreis 10",
          "Kreis 10",
          "Kreis 10",
          "Kreis 11",
          "Kreis 11",
          "Kreis 11",
          "Kreis 11",
          "Kreis 11",
          "Kreis 11",
          "Kreis 12",
          "Kreis 12",
          "Kreis 12",
          "Kreis 12",
          "Kreis 12",
          "Kreis 12",
          "Kreis 2",
          "Kreis 2",
          "Kreis 2",
          "Kreis 2",
          "Kreis 2",
          "Kreis 2",
          "Kreis 3",
          "Kreis 3",
          "Kreis 3",
          "Kreis 3",
          "Kreis 3",
          "Kreis 3",
          "Kreis 4",
          "Kreis 4",
          "Kreis 4",
          "Kreis 4",
          "Kreis 4",
          "Kreis 4",
          "Kreis 5",
          "Kreis 5",
          "Kreis 5",
          "Kreis 5",
          "Kreis 5",
          "Kreis 5",
          "Kreis 6",
          "Kreis 6",
          "Kreis 6",
          "Kreis 6",
          "Kreis 6",
          "Kreis 6",
          "Kreis 7",
          "Kreis 7",
          "Kreis 7",
          "Kreis 7",
          "Kreis 7",
          "Kreis 7",
          "Kreis 8",
          "Kreis 8",
          "Kreis 8",
          "Kreis 8",
          "Kreis 8",
          "Kreis 8",
          "Kreis 9",
          "Kreis 9",
          "Kreis 9",
          "Kreis 9",
          "Kreis 9",
          "Kreis 9",
          "0-19",
          "100 u. älter",
          "20-39",
          "40-59",
          "60-79",
          "80-99",
          "WBev nach Alter, Stadtkreis und Herkunft"
         ],
         "marker": {
          "coloraxis": "coloraxis",
          "colors": [
           1,
           1,
           1,
           1,
           1,
           1,
           1.2222222222222223,
           1,
           1.127659574468085,
           1,
           1,
           1,
           1.1612903225806452,
           1.0327868852459017,
           1,
           1,
           1,
           1,
           1.0454545454545454,
           1,
           1,
           1,
           1,
           1.0606060606060606,
           1,
           1,
           1.1111111111111112,
           1,
           1.0727272727272728,
           1,
           1,
           1.0476190476190477,
           1,
           1,
           1,
           1,
           1,
           1,
           1,
           1,
           1,
           1.0714285714285714,
           1,
           1,
           1,
           1.0909090909090908,
           1.0392156862745099,
           1,
           1,
           1.2666666666666666,
           1,
           1.0909090909090908,
           1.0769230769230769,
           1.121212121212121,
           1,
           1,
           1,
           1,
           1.126984126984127,
           1,
           1,
           1,
           1,
           1.1828571428571428,
           1.6864406779661016,
           1,
           1,
           1,
           1.105263157894737,
           1.3694779116465863,
           1.688976377952756,
           1,
           1,
           1,
           1,
           1.1300813008130082,
           1.4,
           1,
           1,
           1,
           1,
           1.150375939849624,
           1.6298850574712644,
           1,
           1,
           1,
           1.0666666666666667,
           1.2098765432098766,
           1.5970873786407767,
           1,
           1,
           1,
           1.0606060606060606,
           1.0638297872340425,
           1.1911764705882353,
           1,
           1,
           1,
           1,
           1,
           1.0625,
           1,
           1,
           1,
           1.1063829787234043,
           1.3,
           1,
           1,
           1,
           1,
           1.2765957446808511,
           1.7244094488188977,
           1,
           1,
           1,
           1,
           1,
           1.2625,
           1,
           1,
           1,
           1,
           1.2679425837320575,
           1.732965009208103,
           1,
           1,
           1,
           1,
           1.1194029850746268,
           1,
           1,
           1,
           1.0571428571428572,
           1.1560975609756097,
           1.6358381502890174,
           1,
           1,
           1,
           1.0759493670886076,
           1.3279742765273312,
           1.6186291739894552,
           1,
           1,
           1,
           1,
           1.1019108280254777,
           1.3577235772357723,
           1,
           1,
           1,
           1,
           1.12987012987013,
           1.5897435897435896,
           1,
           1,
           1,
           1.0833333333333333,
           1.17,
           1.5353319057815846,
           1,
           1,
           1,
           1.0416666666666667,
           1.0588235294117647,
           1.1529411764705881,
           1,
           1,
           1,
           1,
           1,
           1.0547945205479452,
           1,
           1,
           1,
           1,
           1.0909090909090908,
           1.2741935483870968,
           1,
           1,
           1,
           1,
           1.2571428571428571,
           1.661896243291592,
           1,
           1,
           1,
           1,
           1,
           1.262857142857143,
           1,
           1,
           1,
           1.0307692307692307,
           1.2298850574712643,
           1.6666666666666667,
           1,
           1,
           1,
           1.0354767184035476,
           1.1790090570058605,
           1.528301886792453,
           1.3812018041612106
          ]
         },
         "name": "",
         "parents": [
          "WBev nach Alter, Stadtkreis und Herkunft/20-39/Kreis 1",
          "WBev nach Alter, Stadtkreis und Herkunft/40-59/Kreis 1",
          "WBev nach Alter, Stadtkreis und Herkunft/60-79/Kreis 1",
          "WBev nach Alter, Stadtkreis und Herkunft/80-99/Kreis 1",
          "WBev nach Alter, Stadtkreis und Herkunft/100 u. älter/Kreis 10",
          "WBev nach Alter, Stadtkreis und Herkunft/20-39/Kreis 10",
          "WBev nach Alter, Stadtkreis und Herkunft/40-59/Kreis 10",
          "WBev nach Alter, Stadtkreis und Herkunft/60-79/Kreis 10",
          "WBev nach Alter, Stadtkreis und Herkunft/80-99/Kreis 10",
          "WBev nach Alter, Stadtkreis und Herkunft/0-19/Kreis 11",
          "WBev nach Alter, Stadtkreis und Herkunft/20-39/Kreis 11",
          "WBev nach Alter, Stadtkreis und Herkunft/40-59/Kreis 11",
          "WBev nach Alter, Stadtkreis und Herkunft/60-79/Kreis 11",
          "WBev nach Alter, Stadtkreis und Herkunft/80-99/Kreis 11",
          "WBev nach Alter, Stadtkreis und Herkunft/0-19/Kreis 12",
          "WBev nach Alter, Stadtkreis und Herkunft/20-39/Kreis 12",
          "WBev nach Alter, Stadtkreis und Herkunft/40-59/Kreis 12",
          "WBev nach Alter, Stadtkreis und Herkunft/60-79/Kreis 12",
          "WBev nach Alter, Stadtkreis und Herkunft/80-99/Kreis 12",
          "WBev nach Alter, Stadtkreis und Herkunft/100 u. älter/Kreis 2",
          "WBev nach Alter, Stadtkreis und Herkunft/20-39/Kreis 2",
          "WBev nach Alter, Stadtkreis und Herkunft/40-59/Kreis 2",
          "WBev nach Alter, Stadtkreis und Herkunft/60-79/Kreis 2",
          "WBev nach Alter, Stadtkreis und Herkunft/80-99/Kreis 2",
          "WBev nach Alter, Stadtkreis und Herkunft/100 u. älter/Kreis 3",
          "WBev nach Alter, Stadtkreis und Herkunft/20-39/Kreis 3",
          "WBev nach Alter, Stadtkreis und Herkunft/40-59/Kreis 3",
          "WBev nach Alter, Stadtkreis und Herkunft/60-79/Kreis 3",
          "WBev nach Alter, Stadtkreis und Herkunft/80-99/Kreis 3",
          "WBev nach Alter, Stadtkreis und Herkunft/20-39/Kreis 4",
          "WBev nach Alter, Stadtkreis und Herkunft/40-59/Kreis 4",
          "WBev nach Alter, Stadtkreis und Herkunft/60-79/Kreis 4",
          "WBev nach Alter, Stadtkreis und Herkunft/80-99/Kreis 4",
          "WBev nach Alter, Stadtkreis und Herkunft/20-39/Kreis 5",
          "WBev nach Alter, Stadtkreis und Herkunft/40-59/Kreis 5",
          "WBev nach Alter, Stadtkreis und Herkunft/60-79/Kreis 5",
          "WBev nach Alter, Stadtkreis und Herkunft/80-99/Kreis 5",
          "WBev nach Alter, Stadtkreis und Herkunft/0-19/Kreis 6",
          "WBev nach Alter, Stadtkreis und Herkunft/20-39/Kreis 6",
          "WBev nach Alter, Stadtkreis und Herkunft/40-59/Kreis 6",
          "WBev nach Alter, Stadtkreis und Herkunft/60-79/Kreis 6",
          "WBev nach Alter, Stadtkreis und Herkunft/80-99/Kreis 6",
          "WBev nach Alter, Stadtkreis und Herkunft/0-19/Kreis 7",
          "WBev nach Alter, Stadtkreis und Herkunft/20-39/Kreis 7",
          "WBev nach Alter, Stadtkreis und Herkunft/40-59/Kreis 7",
          "WBev nach Alter, Stadtkreis und Herkunft/60-79/Kreis 7",
          "WBev nach Alter, Stadtkreis und Herkunft/80-99/Kreis 7",
          "WBev nach Alter, Stadtkreis und Herkunft/40-59/Kreis 8",
          "WBev nach Alter, Stadtkreis und Herkunft/60-79/Kreis 8",
          "WBev nach Alter, Stadtkreis und Herkunft/80-99/Kreis 8",
          "WBev nach Alter, Stadtkreis und Herkunft/20-39/Kreis 9",
          "WBev nach Alter, Stadtkreis und Herkunft/40-59/Kreis 9",
          "WBev nach Alter, Stadtkreis und Herkunft/60-79/Kreis 9",
          "WBev nach Alter, Stadtkreis und Herkunft/80-99/Kreis 9",
          "WBev nach Alter, Stadtkreis und Herkunft/100 u. älter/Kreis 1",
          "WBev nach Alter, Stadtkreis und Herkunft/20-39/Kreis 1",
          "WBev nach Alter, Stadtkreis und Herkunft/40-59/Kreis 1",
          "WBev nach Alter, Stadtkreis und Herkunft/60-79/Kreis 1",
          "WBev nach Alter, Stadtkreis und Herkunft/80-99/Kreis 1",
          "WBev nach Alter, Stadtkreis und Herkunft/0-19/Kreis 10",
          "WBev nach Alter, Stadtkreis und Herkunft/100 u. älter/Kreis 10",
          "WBev nach Alter, Stadtkreis und Herkunft/20-39/Kreis 10",
          "WBev nach Alter, Stadtkreis und Herkunft/40-59/Kreis 10",
          "WBev nach Alter, Stadtkreis und Herkunft/60-79/Kreis 10",
          "WBev nach Alter, Stadtkreis und Herkunft/80-99/Kreis 10",
          "WBev nach Alter, Stadtkreis und Herkunft/0-19/Kreis 11",
          "WBev nach Alter, Stadtkreis und Herkunft/100 u. älter/Kreis 11",
          "WBev nach Alter, Stadtkreis und Herkunft/20-39/Kreis 11",
          "WBev nach Alter, Stadtkreis und Herkunft/40-59/Kreis 11",
          "WBev nach Alter, Stadtkreis und Herkunft/60-79/Kreis 11",
          "WBev nach Alter, Stadtkreis und Herkunft/80-99/Kreis 11",
          "WBev nach Alter, Stadtkreis und Herkunft/0-19/Kreis 12",
          "WBev nach Alter, Stadtkreis und Herkunft/100 u. älter/Kreis 12",
          "WBev nach Alter, Stadtkreis und Herkunft/20-39/Kreis 12",
          "WBev nach Alter, Stadtkreis und Herkunft/40-59/Kreis 12",
          "WBev nach Alter, Stadtkreis und Herkunft/60-79/Kreis 12",
          "WBev nach Alter, Stadtkreis und Herkunft/80-99/Kreis 12",
          "WBev nach Alter, Stadtkreis und Herkunft/0-19/Kreis 2",
          "WBev nach Alter, Stadtkreis und Herkunft/100 u. älter/Kreis 2",
          "WBev nach Alter, Stadtkreis und Herkunft/20-39/Kreis 2",
          "WBev nach Alter, Stadtkreis und Herkunft/40-59/Kreis 2",
          "WBev nach Alter, Stadtkreis und Herkunft/60-79/Kreis 2",
          "WBev nach Alter, Stadtkreis und Herkunft/80-99/Kreis 2",
          "WBev nach Alter, Stadtkreis und Herkunft/0-19/Kreis 3",
          "WBev nach Alter, Stadtkreis und Herkunft/100 u. älter/Kreis 3",
          "WBev nach Alter, Stadtkreis und Herkunft/20-39/Kreis 3",
          "WBev nach Alter, Stadtkreis und Herkunft/40-59/Kreis 3",
          "WBev nach Alter, Stadtkreis und Herkunft/60-79/Kreis 3",
          "WBev nach Alter, Stadtkreis und Herkunft/80-99/Kreis 3",
          "WBev nach Alter, Stadtkreis und Herkunft/0-19/Kreis 4",
          "WBev nach Alter, Stadtkreis und Herkunft/100 u. älter/Kreis 4",
          "WBev nach Alter, Stadtkreis und Herkunft/20-39/Kreis 4",
          "WBev nach Alter, Stadtkreis und Herkunft/40-59/Kreis 4",
          "WBev nach Alter, Stadtkreis und Herkunft/60-79/Kreis 4",
          "WBev nach Alter, Stadtkreis und Herkunft/80-99/Kreis 4",
          "WBev nach Alter, Stadtkreis und Herkunft/0-19/Kreis 5",
          "WBev nach Alter, Stadtkreis und Herkunft/100 u. älter/Kreis 5",
          "WBev nach Alter, Stadtkreis und Herkunft/20-39/Kreis 5",
          "WBev nach Alter, Stadtkreis und Herkunft/40-59/Kreis 5",
          "WBev nach Alter, Stadtkreis und Herkunft/60-79/Kreis 5",
          "WBev nach Alter, Stadtkreis und Herkunft/80-99/Kreis 5",
          "WBev nach Alter, Stadtkreis und Herkunft/100 u. älter/Kreis 6",
          "WBev nach Alter, Stadtkreis und Herkunft/20-39/Kreis 6",
          "WBev nach Alter, Stadtkreis und Herkunft/40-59/Kreis 6",
          "WBev nach Alter, Stadtkreis und Herkunft/60-79/Kreis 6",
          "WBev nach Alter, Stadtkreis und Herkunft/80-99/Kreis 6",
          "WBev nach Alter, Stadtkreis und Herkunft/0-19/Kreis 7",
          "WBev nach Alter, Stadtkreis und Herkunft/100 u. älter/Kreis 7",
          "WBev nach Alter, Stadtkreis und Herkunft/20-39/Kreis 7",
          "WBev nach Alter, Stadtkreis und Herkunft/40-59/Kreis 7",
          "WBev nach Alter, Stadtkreis und Herkunft/60-79/Kreis 7",
          "WBev nach Alter, Stadtkreis und Herkunft/80-99/Kreis 7",
          "WBev nach Alter, Stadtkreis und Herkunft/0-19/Kreis 8",
          "WBev nach Alter, Stadtkreis und Herkunft/100 u. älter/Kreis 8",
          "WBev nach Alter, Stadtkreis und Herkunft/20-39/Kreis 8",
          "WBev nach Alter, Stadtkreis und Herkunft/40-59/Kreis 8",
          "WBev nach Alter, Stadtkreis und Herkunft/60-79/Kreis 8",
          "WBev nach Alter, Stadtkreis und Herkunft/80-99/Kreis 8",
          "WBev nach Alter, Stadtkreis und Herkunft/0-19/Kreis 9",
          "WBev nach Alter, Stadtkreis und Herkunft/100 u. älter/Kreis 9",
          "WBev nach Alter, Stadtkreis und Herkunft/20-39/Kreis 9",
          "WBev nach Alter, Stadtkreis und Herkunft/40-59/Kreis 9",
          "WBev nach Alter, Stadtkreis und Herkunft/60-79/Kreis 9",
          "WBev nach Alter, Stadtkreis und Herkunft/80-99/Kreis 9",
          "WBev nach Alter, Stadtkreis und Herkunft/100 u. älter",
          "WBev nach Alter, Stadtkreis und Herkunft/20-39",
          "WBev nach Alter, Stadtkreis und Herkunft/40-59",
          "WBev nach Alter, Stadtkreis und Herkunft/60-79",
          "WBev nach Alter, Stadtkreis und Herkunft/80-99",
          "WBev nach Alter, Stadtkreis und Herkunft/0-19",
          "WBev nach Alter, Stadtkreis und Herkunft/100 u. älter",
          "WBev nach Alter, Stadtkreis und Herkunft/20-39",
          "WBev nach Alter, Stadtkreis und Herkunft/40-59",
          "WBev nach Alter, Stadtkreis und Herkunft/60-79",
          "WBev nach Alter, Stadtkreis und Herkunft/80-99",
          "WBev nach Alter, Stadtkreis und Herkunft/0-19",
          "WBev nach Alter, Stadtkreis und Herkunft/100 u. älter",
          "WBev nach Alter, Stadtkreis und Herkunft/20-39",
          "WBev nach Alter, Stadtkreis und Herkunft/40-59",
          "WBev nach Alter, Stadtkreis und Herkunft/60-79",
          "WBev nach Alter, Stadtkreis und Herkunft/80-99",
          "WBev nach Alter, Stadtkreis und Herkunft/0-19",
          "WBev nach Alter, Stadtkreis und Herkunft/100 u. älter",
          "WBev nach Alter, Stadtkreis und Herkunft/20-39",
          "WBev nach Alter, Stadtkreis und Herkunft/40-59",
          "WBev nach Alter, Stadtkreis und Herkunft/60-79",
          "WBev nach Alter, Stadtkreis und Herkunft/80-99",
          "WBev nach Alter, Stadtkreis und Herkunft/0-19",
          "WBev nach Alter, Stadtkreis und Herkunft/100 u. älter",
          "WBev nach Alter, Stadtkreis und Herkunft/20-39",
          "WBev nach Alter, Stadtkreis und Herkunft/40-59",
          "WBev nach Alter, Stadtkreis und Herkunft/60-79",
          "WBev nach Alter, Stadtkreis und Herkunft/80-99",
          "WBev nach Alter, Stadtkreis und Herkunft/0-19",
          "WBev nach Alter, Stadtkreis und Herkunft/100 u. älter",
          "WBev nach Alter, Stadtkreis und Herkunft/20-39",
          "WBev nach Alter, Stadtkreis und Herkunft/40-59",
          "WBev nach Alter, Stadtkreis und Herkunft/60-79",
          "WBev nach Alter, Stadtkreis und Herkunft/80-99",
          "WBev nach Alter, Stadtkreis und Herkunft/0-19",
          "WBev nach Alter, Stadtkreis und Herkunft/100 u. älter",
          "WBev nach Alter, Stadtkreis und Herkunft/20-39",
          "WBev nach Alter, Stadtkreis und Herkunft/40-59",
          "WBev nach Alter, Stadtkreis und Herkunft/60-79",
          "WBev nach Alter, Stadtkreis und Herkunft/80-99",
          "WBev nach Alter, Stadtkreis und Herkunft/0-19",
          "WBev nach Alter, Stadtkreis und Herkunft/100 u. älter",
          "WBev nach Alter, Stadtkreis und Herkunft/20-39",
          "WBev nach Alter, Stadtkreis und Herkunft/40-59",
          "WBev nach Alter, Stadtkreis und Herkunft/60-79",
          "WBev nach Alter, Stadtkreis und Herkunft/80-99",
          "WBev nach Alter, Stadtkreis und Herkunft/0-19",
          "WBev nach Alter, Stadtkreis und Herkunft/100 u. älter",
          "WBev nach Alter, Stadtkreis und Herkunft/20-39",
          "WBev nach Alter, Stadtkreis und Herkunft/40-59",
          "WBev nach Alter, Stadtkreis und Herkunft/60-79",
          "WBev nach Alter, Stadtkreis und Herkunft/80-99",
          "WBev nach Alter, Stadtkreis und Herkunft/0-19",
          "WBev nach Alter, Stadtkreis und Herkunft/100 u. älter",
          "WBev nach Alter, Stadtkreis und Herkunft/20-39",
          "WBev nach Alter, Stadtkreis und Herkunft/40-59",
          "WBev nach Alter, Stadtkreis und Herkunft/60-79",
          "WBev nach Alter, Stadtkreis und Herkunft/80-99",
          "WBev nach Alter, Stadtkreis und Herkunft/0-19",
          "WBev nach Alter, Stadtkreis und Herkunft/100 u. älter",
          "WBev nach Alter, Stadtkreis und Herkunft/20-39",
          "WBev nach Alter, Stadtkreis und Herkunft/40-59",
          "WBev nach Alter, Stadtkreis und Herkunft/60-79",
          "WBev nach Alter, Stadtkreis und Herkunft/80-99",
          "WBev nach Alter, Stadtkreis und Herkunft/0-19",
          "WBev nach Alter, Stadtkreis und Herkunft/100 u. älter",
          "WBev nach Alter, Stadtkreis und Herkunft/20-39",
          "WBev nach Alter, Stadtkreis und Herkunft/40-59",
          "WBev nach Alter, Stadtkreis und Herkunft/60-79",
          "WBev nach Alter, Stadtkreis und Herkunft/80-99",
          "WBev nach Alter, Stadtkreis und Herkunft",
          "WBev nach Alter, Stadtkreis und Herkunft",
          "WBev nach Alter, Stadtkreis und Herkunft",
          "WBev nach Alter, Stadtkreis und Herkunft",
          "WBev nach Alter, Stadtkreis und Herkunft",
          "WBev nach Alter, Stadtkreis und Herkunft",
          ""
         ],
         "root": {
          "color": "grey"
         },
         "type": "treemap",
         "values": [
          2,
          1,
          4,
          4,
          1,
          3,
          9,
          30,
          47,
          2,
          5,
          22,
          62,
          61,
          1,
          3,
          9,
          34,
          44,
          1,
          3,
          3,
          21,
          33,
          2,
          2,
          18,
          38,
          55,
          4,
          15,
          42,
          34,
          4,
          8,
          8,
          9,
          1,
          4,
          5,
          16,
          28,
          2,
          1,
          13,
          22,
          51,
          7,
          8,
          15,
          5,
          22,
          52,
          66,
          2,
          1,
          11,
          39,
          63,
          3,
          20,
          4,
          26,
          175,
          472,
          6,
          6,
          9,
          57,
          249,
          508,
          1,
          5,
          3,
          29,
          123,
          325,
          2,
          13,
          5,
          20,
          133,
          435,
          5,
          18,
          5,
          30,
          162,
          412,
          1,
          4,
          9,
          33,
          94,
          136,
          2,
          1,
          7,
          23,
          28,
          64,
          9,
          3,
          21,
          94,
          220,
          5,
          22,
          7,
          17,
          188,
          508,
          1,
          4,
          4,
          9,
          46,
          160,
          4,
          9,
          6,
          43,
          209,
          543,
          2,
          3,
          12,
          43,
          67,
          3,
          21,
          7,
          35,
          205,
          519,
          8,
          6,
          14,
          79,
          311,
          569,
          2,
          5,
          6,
          38,
          157,
          369,
          2,
          14,
          8,
          23,
          154,
          468,
          5,
          20,
          7,
          48,
          200,
          467,
          1,
          4,
          13,
          48,
          136,
          170,
          2,
          1,
          11,
          31,
          36,
          73,
          1,
          9,
          7,
          26,
          110,
          248,
          7,
          22,
          8,
          30,
          210,
          559,
          1,
          4,
          4,
          16,
          54,
          175,
          4,
          9,
          11,
          65,
          261,
          609,
          36,
          117,
          99,
          451,
          1877,
          4293,
          6873
         ]
        }
       ],
       "layout": {
        "autosize": true,
        "coloraxis": {
         "colorbar": {
          "title": {
           "text": "sum_WBev"
          }
         },
         "colorscale": [
          [
           0,
           "rgb(255,247,251)"
          ],
          [
           0.125,
           "rgb(236,226,240)"
          ],
          [
           0.25,
           "rgb(208,209,230)"
          ],
          [
           0.375,
           "rgb(166,189,219)"
          ],
          [
           0.5,
           "rgb(103,169,207)"
          ],
          [
           0.625,
           "rgb(54,144,192)"
          ],
          [
           0.75,
           "rgb(2,129,138)"
          ],
          [
           0.875,
           "rgb(1,108,89)"
          ],
          [
           1,
           "rgb(1,70,54)"
          ]
         ]
        },
        "legend": {
         "tracegroupgap": 0
        },
        "margin": {
         "b": 25,
         "l": 25,
         "r": 250,
         "t": 50
        },
        "template": {
         "data": {
          "bar": [
           {
            "error_x": {
             "color": "#2a3f5f"
            },
            "error_y": {
             "color": "#2a3f5f"
            },
            "marker": {
             "line": {
              "color": "#E5ECF6",
              "width": 0.5
             },
             "pattern": {
              "fillmode": "overlay",
              "size": 10,
              "solidity": 0.2
             }
            },
            "type": "bar"
           }
          ],
          "barpolar": [
           {
            "marker": {
             "line": {
              "color": "#E5ECF6",
              "width": 0.5
             },
             "pattern": {
              "fillmode": "overlay",
              "size": 10,
              "solidity": 0.2
             }
            },
            "type": "barpolar"
           }
          ],
          "carpet": [
           {
            "aaxis": {
             "endlinecolor": "#2a3f5f",
             "gridcolor": "white",
             "linecolor": "white",
             "minorgridcolor": "white",
             "startlinecolor": "#2a3f5f"
            },
            "baxis": {
             "endlinecolor": "#2a3f5f",
             "gridcolor": "white",
             "linecolor": "white",
             "minorgridcolor": "white",
             "startlinecolor": "#2a3f5f"
            },
            "type": "carpet"
           }
          ],
          "choropleth": [
           {
            "colorbar": {
             "outlinewidth": 0,
             "ticks": ""
            },
            "type": "choropleth"
           }
          ],
          "contour": [
           {
            "colorbar": {
             "outlinewidth": 0,
             "ticks": ""
            },
            "colorscale": [
             [
              0,
              "#0d0887"
             ],
             [
              0.1111111111111111,
              "#46039f"
             ],
             [
              0.2222222222222222,
              "#7201a8"
             ],
             [
              0.3333333333333333,
              "#9c179e"
             ],
             [
              0.4444444444444444,
              "#bd3786"
             ],
             [
              0.5555555555555556,
              "#d8576b"
             ],
             [
              0.6666666666666666,
              "#ed7953"
             ],
             [
              0.7777777777777778,
              "#fb9f3a"
             ],
             [
              0.8888888888888888,
              "#fdca26"
             ],
             [
              1,
              "#f0f921"
             ]
            ],
            "type": "contour"
           }
          ],
          "contourcarpet": [
           {
            "colorbar": {
             "outlinewidth": 0,
             "ticks": ""
            },
            "type": "contourcarpet"
           }
          ],
          "heatmap": [
           {
            "colorbar": {
             "outlinewidth": 0,
             "ticks": ""
            },
            "colorscale": [
             [
              0,
              "#0d0887"
             ],
             [
              0.1111111111111111,
              "#46039f"
             ],
             [
              0.2222222222222222,
              "#7201a8"
             ],
             [
              0.3333333333333333,
              "#9c179e"
             ],
             [
              0.4444444444444444,
              "#bd3786"
             ],
             [
              0.5555555555555556,
              "#d8576b"
             ],
             [
              0.6666666666666666,
              "#ed7953"
             ],
             [
              0.7777777777777778,
              "#fb9f3a"
             ],
             [
              0.8888888888888888,
              "#fdca26"
             ],
             [
              1,
              "#f0f921"
             ]
            ],
            "type": "heatmap"
           }
          ],
          "heatmapgl": [
           {
            "colorbar": {
             "outlinewidth": 0,
             "ticks": ""
            },
            "colorscale": [
             [
              0,
              "#0d0887"
             ],
             [
              0.1111111111111111,
              "#46039f"
             ],
             [
              0.2222222222222222,
              "#7201a8"
             ],
             [
              0.3333333333333333,
              "#9c179e"
             ],
             [
              0.4444444444444444,
              "#bd3786"
             ],
             [
              0.5555555555555556,
              "#d8576b"
             ],
             [
              0.6666666666666666,
              "#ed7953"
             ],
             [
              0.7777777777777778,
              "#fb9f3a"
             ],
             [
              0.8888888888888888,
              "#fdca26"
             ],
             [
              1,
              "#f0f921"
             ]
            ],
            "type": "heatmapgl"
           }
          ],
          "histogram": [
           {
            "marker": {
             "pattern": {
              "fillmode": "overlay",
              "size": 10,
              "solidity": 0.2
             }
            },
            "type": "histogram"
           }
          ],
          "histogram2d": [
           {
            "colorbar": {
             "outlinewidth": 0,
             "ticks": ""
            },
            "colorscale": [
             [
              0,
              "#0d0887"
             ],
             [
              0.1111111111111111,
              "#46039f"
             ],
             [
              0.2222222222222222,
              "#7201a8"
             ],
             [
              0.3333333333333333,
              "#9c179e"
             ],
             [
              0.4444444444444444,
              "#bd3786"
             ],
             [
              0.5555555555555556,
              "#d8576b"
             ],
             [
              0.6666666666666666,
              "#ed7953"
             ],
             [
              0.7777777777777778,
              "#fb9f3a"
             ],
             [
              0.8888888888888888,
              "#fdca26"
             ],
             [
              1,
              "#f0f921"
             ]
            ],
            "type": "histogram2d"
           }
          ],
          "histogram2dcontour": [
           {
            "colorbar": {
             "outlinewidth": 0,
             "ticks": ""
            },
            "colorscale": [
             [
              0,
              "#0d0887"
             ],
             [
              0.1111111111111111,
              "#46039f"
             ],
             [
              0.2222222222222222,
              "#7201a8"
             ],
             [
              0.3333333333333333,
              "#9c179e"
             ],
             [
              0.4444444444444444,
              "#bd3786"
             ],
             [
              0.5555555555555556,
              "#d8576b"
             ],
             [
              0.6666666666666666,
              "#ed7953"
             ],
             [
              0.7777777777777778,
              "#fb9f3a"
             ],
             [
              0.8888888888888888,
              "#fdca26"
             ],
             [
              1,
              "#f0f921"
             ]
            ],
            "type": "histogram2dcontour"
           }
          ],
          "mesh3d": [
           {
            "colorbar": {
             "outlinewidth": 0,
             "ticks": ""
            },
            "type": "mesh3d"
           }
          ],
          "parcoords": [
           {
            "line": {
             "colorbar": {
              "outlinewidth": 0,
              "ticks": ""
             }
            },
            "type": "parcoords"
           }
          ],
          "pie": [
           {
            "automargin": true,
            "type": "pie"
           }
          ],
          "scatter": [
           {
            "marker": {
             "colorbar": {
              "outlinewidth": 0,
              "ticks": ""
             }
            },
            "type": "scatter"
           }
          ],
          "scatter3d": [
           {
            "line": {
             "colorbar": {
              "outlinewidth": 0,
              "ticks": ""
             }
            },
            "marker": {
             "colorbar": {
              "outlinewidth": 0,
              "ticks": ""
             }
            },
            "type": "scatter3d"
           }
          ],
          "scattercarpet": [
           {
            "marker": {
             "colorbar": {
              "outlinewidth": 0,
              "ticks": ""
             }
            },
            "type": "scattercarpet"
           }
          ],
          "scattergeo": [
           {
            "marker": {
             "colorbar": {
              "outlinewidth": 0,
              "ticks": ""
             }
            },
            "type": "scattergeo"
           }
          ],
          "scattergl": [
           {
            "marker": {
             "colorbar": {
              "outlinewidth": 0,
              "ticks": ""
             }
            },
            "type": "scattergl"
           }
          ],
          "scattermapbox": [
           {
            "marker": {
             "colorbar": {
              "outlinewidth": 0,
              "ticks": ""
             }
            },
            "type": "scattermapbox"
           }
          ],
          "scatterpolar": [
           {
            "marker": {
             "colorbar": {
              "outlinewidth": 0,
              "ticks": ""
             }
            },
            "type": "scatterpolar"
           }
          ],
          "scatterpolargl": [
           {
            "marker": {
             "colorbar": {
              "outlinewidth": 0,
              "ticks": ""
             }
            },
            "type": "scatterpolargl"
           }
          ],
          "scatterternary": [
           {
            "marker": {
             "colorbar": {
              "outlinewidth": 0,
              "ticks": ""
             }
            },
            "type": "scatterternary"
           }
          ],
          "surface": [
           {
            "colorbar": {
             "outlinewidth": 0,
             "ticks": ""
            },
            "colorscale": [
             [
              0,
              "#0d0887"
             ],
             [
              0.1111111111111111,
              "#46039f"
             ],
             [
              0.2222222222222222,
              "#7201a8"
             ],
             [
              0.3333333333333333,
              "#9c179e"
             ],
             [
              0.4444444444444444,
              "#bd3786"
             ],
             [
              0.5555555555555556,
              "#d8576b"
             ],
             [
              0.6666666666666666,
              "#ed7953"
             ],
             [
              0.7777777777777778,
              "#fb9f3a"
             ],
             [
              0.8888888888888888,
              "#fdca26"
             ],
             [
              1,
              "#f0f921"
             ]
            ],
            "type": "surface"
           }
          ],
          "table": [
           {
            "cells": {
             "fill": {
              "color": "#EBF0F8"
             },
             "line": {
              "color": "white"
             }
            },
            "header": {
             "fill": {
              "color": "#C8D4E3"
             },
             "line": {
              "color": "white"
             }
            },
            "type": "table"
           }
          ]
         },
         "layout": {
          "annotationdefaults": {
           "arrowcolor": "#2a3f5f",
           "arrowhead": 0,
           "arrowwidth": 1
          },
          "autotypenumbers": "strict",
          "coloraxis": {
           "colorbar": {
            "outlinewidth": 0,
            "ticks": ""
           }
          },
          "colorscale": {
           "diverging": [
            [
             0,
             "#8e0152"
            ],
            [
             0.1,
             "#c51b7d"
            ],
            [
             0.2,
             "#de77ae"
            ],
            [
             0.3,
             "#f1b6da"
            ],
            [
             0.4,
             "#fde0ef"
            ],
            [
             0.5,
             "#f7f7f7"
            ],
            [
             0.6,
             "#e6f5d0"
            ],
            [
             0.7,
             "#b8e186"
            ],
            [
             0.8,
             "#7fbc41"
            ],
            [
             0.9,
             "#4d9221"
            ],
            [
             1,
             "#276419"
            ]
           ],
           "sequential": [
            [
             0,
             "#0d0887"
            ],
            [
             0.1111111111111111,
             "#46039f"
            ],
            [
             0.2222222222222222,
             "#7201a8"
            ],
            [
             0.3333333333333333,
             "#9c179e"
            ],
            [
             0.4444444444444444,
             "#bd3786"
            ],
            [
             0.5555555555555556,
             "#d8576b"
            ],
            [
             0.6666666666666666,
             "#ed7953"
            ],
            [
             0.7777777777777778,
             "#fb9f3a"
            ],
            [
             0.8888888888888888,
             "#fdca26"
            ],
            [
             1,
             "#f0f921"
            ]
           ],
           "sequentialminus": [
            [
             0,
             "#0d0887"
            ],
            [
             0.1111111111111111,
             "#46039f"
            ],
            [
             0.2222222222222222,
             "#7201a8"
            ],
            [
             0.3333333333333333,
             "#9c179e"
            ],
            [
             0.4444444444444444,
             "#bd3786"
            ],
            [
             0.5555555555555556,
             "#d8576b"
            ],
            [
             0.6666666666666666,
             "#ed7953"
            ],
            [
             0.7777777777777778,
             "#fb9f3a"
            ],
            [
             0.8888888888888888,
             "#fdca26"
            ],
            [
             1,
             "#f0f921"
            ]
           ]
          },
          "colorway": [
           "#636efa",
           "#EF553B",
           "#00cc96",
           "#ab63fa",
           "#FFA15A",
           "#19d3f3",
           "#FF6692",
           "#B6E880",
           "#FF97FF",
           "#FECB52"
          ],
          "font": {
           "color": "#2a3f5f"
          },
          "geo": {
           "bgcolor": "white",
           "lakecolor": "white",
           "landcolor": "#E5ECF6",
           "showlakes": true,
           "showland": true,
           "subunitcolor": "white"
          },
          "hoverlabel": {
           "align": "left"
          },
          "hovermode": "closest",
          "mapbox": {
           "style": "light"
          },
          "paper_bgcolor": "white",
          "plot_bgcolor": "#E5ECF6",
          "polar": {
           "angularaxis": {
            "gridcolor": "white",
            "linecolor": "white",
            "ticks": ""
           },
           "bgcolor": "#E5ECF6",
           "radialaxis": {
            "gridcolor": "white",
            "linecolor": "white",
            "ticks": ""
           }
          },
          "scene": {
           "xaxis": {
            "backgroundcolor": "#E5ECF6",
            "gridcolor": "white",
            "gridwidth": 2,
            "linecolor": "white",
            "showbackground": true,
            "ticks": "",
            "zerolinecolor": "white"
           },
           "yaxis": {
            "backgroundcolor": "#E5ECF6",
            "gridcolor": "white",
            "gridwidth": 2,
            "linecolor": "white",
            "showbackground": true,
            "ticks": "",
            "zerolinecolor": "white"
           },
           "zaxis": {
            "backgroundcolor": "#E5ECF6",
            "gridcolor": "white",
            "gridwidth": 2,
            "linecolor": "white",
            "showbackground": true,
            "ticks": "",
            "zerolinecolor": "white"
           }
          },
          "shapedefaults": {
           "line": {
            "color": "#2a3f5f"
           }
          },
          "ternary": {
           "aaxis": {
            "gridcolor": "white",
            "linecolor": "white",
            "ticks": ""
           },
           "baxis": {
            "gridcolor": "white",
            "linecolor": "white",
            "ticks": ""
           },
           "bgcolor": "#E5ECF6",
           "caxis": {
            "gridcolor": "white",
            "linecolor": "white",
            "ticks": ""
           }
          },
          "title": {
           "x": 0.05
          },
          "xaxis": {
           "automargin": true,
           "gridcolor": "white",
           "linecolor": "white",
           "ticks": "",
           "title": {
            "standoff": 15
           },
           "zerolinecolor": "white",
           "zerolinewidth": 2
          },
          "yaxis": {
           "automargin": true,
           "gridcolor": "white",
           "linecolor": "white",
           "ticks": "",
           "title": {
            "standoff": 15
           },
           "zerolinecolor": "white",
           "zerolinewidth": 2
          }
         }
        }
       }
      },
      "image/png": "[encoded data removed]",
      "text/html": [
       "<div>                            <div id=\"bc8b04c0-3f70-4edc-ae6d-fde9fb9e8e3f\" class=\"plotly-graph-div\" style=\"height:525px; width:100%;\"></div>            <script type=\"text/javascript\">                require([\"plotly\"], function(Plotly) {                    window.PLOTLYENV=window.PLOTLYENV || {};                                    if (document.getElementById(\"bc8b04c0-3f70-4edc-ae6d-fde9fb9e8e3f\")) {                    Plotly.newPlot(                        \"bc8b04c0-3f70-4edc-ae6d-fde9fb9e8e3f\",                        [{\"branchvalues\":\"total\",\"customdata\":[[1.0],[1.0],[1.0],[1.0],[1.0],[1.0],[1.2222222222222223],[1.0],[1.127659574468085],[1.0],[1.0],[1.0],[1.1612903225806452],[1.0327868852459017],[1.0],[1.0],[1.0],[1.0],[1.0454545454545454],[1.0],[1.0],[1.0],[1.0],[1.0606060606060606],[1.0],[1.0],[1.1111111111111112],[1.0],[1.0727272727272728],[1.0],[1.0],[1.0476190476190477],[1.0],[1.0],[1.0],[1.0],[1.0],[1.0],[1.0],[1.0],[1.0],[1.0714285714285714],[1.0],[1.0],[1.0],[1.0909090909090908],[1.0392156862745099],[1.0],[1.0],[1.2666666666666666],[1.0],[1.0909090909090908],[1.0769230769230769],[1.121212121212121],[1.0],[1.0],[1.0],[1.0],[1.126984126984127],[1.0],[1.0],[1.0],[1.0],[1.1828571428571428],[1.6864406779661016],[1.0],[1.0],[1.0],[1.105263157894737],[1.3694779116465863],[1.688976377952756],[1.0],[1.0],[1.0],[1.0],[1.1300813008130082],[1.4],[1.0],[1.0],[1.0],[1.0],[1.150375939849624],[1.6298850574712644],[1.0],[1.0],[1.0],[1.0666666666666667],[1.2098765432098766],[1.5970873786407767],[1.0],[1.0],[1.0],[1.0606060606060606],[1.0638297872340425],[1.1911764705882353],[1.0],[1.0],[1.0],[1.0],[1.0],[1.0625],[1.0],[1.0],[1.0],[1.1063829787234043],[1.3],[1.0],[1.0],[1.0],[1.0],[1.2765957446808511],[1.7244094488188977],[1.0],[1.0],[1.0],[1.0],[1.0],[1.2625],[1.0],[1.0],[1.0],[1.0],[1.2679425837320575],[1.732965009208103],[1.0],[1.0],[1.0],[1.0],[1.1194029850746268],[1.0],[1.0],[1.0],[1.0571428571428572],[1.1560975609756097],[1.6358381502890174],[1.0],[1.0],[1.0],[1.0759493670886076],[1.3279742765273312],[1.6186291739894552],[1.0],[1.0],[1.0],[1.0],[1.1019108280254777],[1.3577235772357723],[1.0],[1.0],[1.0],[1.0],[1.12987012987013],[1.5897435897435896],[1.0],[1.0],[1.0],[1.0833333333333333],[1.17],[1.5353319057815846],[1.0],[1.0],[1.0],[1.0416666666666667],[1.0588235294117647],[1.1529411764705881],[1.0],[1.0],[1.0],[1.0],[1.0],[1.0547945205479452],[1.0],[1.0],[1.0],[1.0],[1.0909090909090908],[1.2741935483870968],[1.0],[1.0],[1.0],[1.0],[1.2571428571428571],[1.661896243291592],[1.0],[1.0],[1.0],[1.0],[1.0],[1.262857142857143],[1.0],[1.0],[1.0],[1.0307692307692307],[1.2298850574712643],[1.6666666666666667],[1.0],[1.0],[1.0],[1.0354767184035476],[1.1790090570058605],[1.528301886792453],[1.3812018041612106]],\"domain\":{\"x\":[0.0,1.0],\"y\":[0.0,1.0]},\"hovertemplate\":\"labels=%{label}<br>sum_WBev_sum=%{value}<br>parent=%{parent}<br>id=%{id}<br>sum_WBev=%{color}<extra></extra>\",\"ids\":[\"WBev nach Alter, Stadtkreis und Herkunft/20-39/Kreis 1/Ausl\\u00e4nder/in\",\"WBev nach Alter, Stadtkreis und Herkunft/40-59/Kreis 1/Ausl\\u00e4nder/in\",\"WBev nach Alter, Stadtkreis und Herkunft/60-79/Kreis 1/Ausl\\u00e4nder/in\",\"WBev nach Alter, Stadtkreis und Herkunft/80-99/Kreis 1/Ausl\\u00e4nder/in\",\"WBev nach Alter, Stadtkreis und Herkunft/100 u. \\u00e4lter/Kreis 10/Ausl\\u00e4nder/in\",\"WBev nach Alter, Stadtkreis und Herkunft/20-39/Kreis 10/Ausl\\u00e4nder/in\",\"WBev nach Alter, Stadtkreis und Herkunft/40-59/Kreis 10/Ausl\\u00e4nder/in\",\"WBev nach Alter, Stadtkreis und Herkunft/60-79/Kreis 10/Ausl\\u00e4nder/in\",\"WBev nach Alter, Stadtkreis und Herkunft/80-99/Kreis 10/Ausl\\u00e4nder/in\",\"WBev nach Alter, Stadtkreis und Herkunft/0-19/Kreis 11/Ausl\\u00e4nder/in\",\"WBev nach Alter, Stadtkreis und Herkunft/20-39/Kreis 11/Ausl\\u00e4nder/in\",\"WBev nach Alter, Stadtkreis und Herkunft/40-59/Kreis 11/Ausl\\u00e4nder/in\",\"WBev nach Alter, Stadtkreis und Herkunft/60-79/Kreis 11/Ausl\\u00e4nder/in\",\"WBev nach Alter, Stadtkreis und Herkunft/80-99/Kreis 11/Ausl\\u00e4nder/in\",\"WBev nach Alter, Stadtkreis und Herkunft/0-19/Kreis 12/Ausl\\u00e4nder/in\",\"WBev nach Alter, Stadtkreis und Herkunft/20-39/Kreis 12/Ausl\\u00e4nder/in\",\"WBev nach Alter, Stadtkreis und Herkunft/40-59/Kreis 12/Ausl\\u00e4nder/in\",\"WBev nach Alter, Stadtkreis und Herkunft/60-79/Kreis 12/Ausl\\u00e4nder/in\",\"WBev nach Alter, Stadtkreis und Herkunft/80-99/Kreis 12/Ausl\\u00e4nder/in\",\"WBev nach Alter, Stadtkreis und Herkunft/100 u. \\u00e4lter/Kreis 2/Ausl\\u00e4nder/in\",\"WBev nach Alter, Stadtkreis und Herkunft/20-39/Kreis 2/Ausl\\u00e4nder/in\",\"WBev nach Alter, Stadtkreis und Herkunft/40-59/Kreis 2/Ausl\\u00e4nder/in\",\"WBev nach Alter, Stadtkreis und Herkunft/60-79/Kreis 2/Ausl\\u00e4nder/in\",\"WBev nach Alter, Stadtkreis und Herkunft/80-99/Kreis 2/Ausl\\u00e4nder/in\",\"WBev nach Alter, Stadtkreis und Herkunft/100 u. \\u00e4lter/Kreis 3/Ausl\\u00e4nder/in\",\"WBev nach Alter, Stadtkreis und Herkunft/20-39/Kreis 3/Ausl\\u00e4nder/in\",\"WBev nach Alter, Stadtkreis und Herkunft/40-59/Kreis 3/Ausl\\u00e4nder/in\",\"WBev nach Alter, Stadtkreis und Herkunft/60-79/Kreis 3/Ausl\\u00e4nder/in\",\"WBev nach Alter, Stadtkreis und Herkunft/80-99/Kreis 3/Ausl\\u00e4nder/in\",\"WBev nach Alter, Stadtkreis und Herkunft/20-39/Kreis 4/Ausl\\u00e4nder/in\",\"WBev nach Alter, Stadtkreis und Herkunft/40-59/Kreis 4/Ausl\\u00e4nder/in\",\"WBev nach Alter, Stadtkreis und Herkunft/60-79/Kreis 4/Ausl\\u00e4nder/in\",\"WBev nach Alter, Stadtkreis und Herkunft/80-99/Kreis 4/Ausl\\u00e4nder/in\",\"WBev nach Alter, Stadtkreis und Herkunft/20-39/Kreis 5/Ausl\\u00e4nder/in\",\"WBev nach Alter, Stadtkreis und Herkunft/40-59/Kreis 5/Ausl\\u00e4nder/in\",\"WBev nach Alter, Stadtkreis und Herkunft/60-79/Kreis 5/Ausl\\u00e4nder/in\",\"WBev nach Alter, Stadtkreis und Herkunft/80-99/Kreis 5/Ausl\\u00e4nder/in\",\"WBev nach Alter, Stadtkreis und Herkunft/0-19/Kreis 6/Ausl\\u00e4nder/in\",\"WBev nach Alter, Stadtkreis und Herkunft/20-39/Kreis 6/Ausl\\u00e4nder/in\",\"WBev nach Alter, Stadtkreis und Herkunft/40-59/Kreis 6/Ausl\\u00e4nder/in\",\"WBev nach Alter, Stadtkreis und Herkunft/60-79/Kreis 6/Ausl\\u00e4nder/in\",\"WBev nach Alter, Stadtkreis und Herkunft/80-99/Kreis 6/Ausl\\u00e4nder/in\",\"WBev nach Alter, Stadtkreis und Herkunft/0-19/Kreis 7/Ausl\\u00e4nder/in\",\"WBev nach Alter, Stadtkreis und Herkunft/20-39/Kreis 7/Ausl\\u00e4nder/in\",\"WBev nach Alter, Stadtkreis und Herkunft/40-59/Kreis 7/Ausl\\u00e4nder/in\",\"WBev nach Alter, Stadtkreis und Herkunft/60-79/Kreis 7/Ausl\\u00e4nder/in\",\"WBev nach Alter, Stadtkreis und Herkunft/80-99/Kreis 7/Ausl\\u00e4nder/in\",\"WBev nach Alter, Stadtkreis und Herkunft/40-59/Kreis 8/Ausl\\u00e4nder/in\",\"WBev nach Alter, Stadtkreis und Herkunft/60-79/Kreis 8/Ausl\\u00e4nder/in\",\"WBev nach Alter, Stadtkreis und Herkunft/80-99/Kreis 8/Ausl\\u00e4nder/in\",\"WBev nach Alter, Stadtkreis und Herkunft/20-39/Kreis 9/Ausl\\u00e4nder/in\",\"WBev nach Alter, Stadtkreis und Herkunft/40-59/Kreis 9/Ausl\\u00e4nder/in\",\"WBev nach Alter, Stadtkreis und Herkunft/60-79/Kreis 9/Ausl\\u00e4nder/in\",\"WBev nach Alter, Stadtkreis und Herkunft/80-99/Kreis 9/Ausl\\u00e4nder/in\",\"WBev nach Alter, Stadtkreis und Herkunft/100 u. \\u00e4lter/Kreis 1/Schweizer/in\",\"WBev nach Alter, Stadtkreis und Herkunft/20-39/Kreis 1/Schweizer/in\",\"WBev nach Alter, Stadtkreis und Herkunft/40-59/Kreis 1/Schweizer/in\",\"WBev nach Alter, Stadtkreis und Herkunft/60-79/Kreis 1/Schweizer/in\",\"WBev nach Alter, Stadtkreis und Herkunft/80-99/Kreis 1/Schweizer/in\",\"WBev nach Alter, Stadtkreis und Herkunft/0-19/Kreis 10/Schweizer/in\",\"WBev nach Alter, Stadtkreis und Herkunft/100 u. \\u00e4lter/Kreis 10/Schweizer/in\",\"WBev nach Alter, Stadtkreis und Herkunft/20-39/Kreis 10/Schweizer/in\",\"WBev nach Alter, Stadtkreis und Herkunft/40-59/Kreis 10/Schweizer/in\",\"WBev nach Alter, Stadtkreis und Herkunft/60-79/Kreis 10/Schweizer/in\",\"WBev nach Alter, Stadtkreis und Herkunft/80-99/Kreis 10/Schweizer/in\",\"WBev nach Alter, Stadtkreis und Herkunft/0-19/Kreis 11/Schweizer/in\",\"WBev nach Alter, Stadtkreis und Herkunft/100 u. \\u00e4lter/Kreis 11/Schweizer/in\",\"WBev nach Alter, Stadtkreis und Herkunft/20-39/Kreis 11/Schweizer/in\",\"WBev nach Alter, Stadtkreis und Herkunft/40-59/Kreis 11/Schweizer/in\",\"WBev nach Alter, Stadtkreis und Herkunft/60-79/Kreis 11/Schweizer/in\",\"WBev nach Alter, Stadtkreis und Herkunft/80-99/Kreis 11/Schweizer/in\",\"WBev nach Alter, Stadtkreis und Herkunft/0-19/Kreis 12/Schweizer/in\",\"WBev nach Alter, Stadtkreis und Herkunft/100 u. \\u00e4lter/Kreis 12/Schweizer/in\",\"WBev nach Alter, Stadtkreis und Herkunft/20-39/Kreis 12/Schweizer/in\",\"WBev nach Alter, Stadtkreis und Herkunft/40-59/Kreis 12/Schweizer/in\",\"WBev nach Alter, Stadtkreis und Herkunft/60-79/Kreis 12/Schweizer/in\",\"WBev nach Alter, Stadtkreis und Herkunft/80-99/Kreis 12/Schweizer/in\",\"WBev nach Alter, Stadtkreis und Herkunft/0-19/Kreis 2/Schweizer/in\",\"WBev nach Alter, Stadtkreis und Herkunft/100 u. \\u00e4lter/Kreis 2/Schweizer/in\",\"WBev nach Alter, Stadtkreis und Herkunft/20-39/Kreis 2/Schweizer/in\",\"WBev nach Alter, Stadtkreis und Herkunft/40-59/Kreis 2/Schweizer/in\",\"WBev nach Alter, Stadtkreis und Herkunft/60-79/Kreis 2/Schweizer/in\",\"WBev nach Alter, Stadtkreis und Herkunft/80-99/Kreis 2/Schweizer/in\",\"WBev nach Alter, Stadtkreis und Herkunft/0-19/Kreis 3/Schweizer/in\",\"WBev nach Alter, Stadtkreis und Herkunft/100 u. \\u00e4lter/Kreis 3/Schweizer/in\",\"WBev nach Alter, Stadtkreis und Herkunft/20-39/Kreis 3/Schweizer/in\",\"WBev nach Alter, Stadtkreis und Herkunft/40-59/Kreis 3/Schweizer/in\",\"WBev nach Alter, Stadtkreis und Herkunft/60-79/Kreis 3/Schweizer/in\",\"WBev nach Alter, Stadtkreis und Herkunft/80-99/Kreis 3/Schweizer/in\",\"WBev nach Alter, Stadtkreis und Herkunft/0-19/Kreis 4/Schweizer/in\",\"WBev nach Alter, Stadtkreis und Herkunft/100 u. \\u00e4lter/Kreis 4/Schweizer/in\",\"WBev nach Alter, Stadtkreis und Herkunft/20-39/Kreis 4/Schweizer/in\",\"WBev nach Alter, Stadtkreis und Herkunft/40-59/Kreis 4/Schweizer/in\",\"WBev nach Alter, Stadtkreis und Herkunft/60-79/Kreis 4/Schweizer/in\",\"WBev nach Alter, Stadtkreis und Herkunft/80-99/Kreis 4/Schweizer/in\",\"WBev nach Alter, Stadtkreis und Herkunft/0-19/Kreis 5/Schweizer/in\",\"WBev nach Alter, Stadtkreis und Herkunft/100 u. \\u00e4lter/Kreis 5/Schweizer/in\",\"WBev nach Alter, Stadtkreis und Herkunft/20-39/Kreis 5/Schweizer/in\",\"WBev nach Alter, Stadtkreis und Herkunft/40-59/Kreis 5/Schweizer/in\",\"WBev nach Alter, Stadtkreis und Herkunft/60-79/Kreis 5/Schweizer/in\",\"WBev nach Alter, Stadtkreis und Herkunft/80-99/Kreis 5/Schweizer/in\",\"WBev nach Alter, Stadtkreis und Herkunft/100 u. \\u00e4lter/Kreis 6/Schweizer/in\",\"WBev nach Alter, Stadtkreis und Herkunft/20-39/Kreis 6/Schweizer/in\",\"WBev nach Alter, Stadtkreis und Herkunft/40-59/Kreis 6/Schweizer/in\",\"WBev nach Alter, Stadtkreis und Herkunft/60-79/Kreis 6/Schweizer/in\",\"WBev nach Alter, Stadtkreis und Herkunft/80-99/Kreis 6/Schweizer/in\",\"WBev nach Alter, Stadtkreis und Herkunft/0-19/Kreis 7/Schweizer/in\",\"WBev nach Alter, Stadtkreis und Herkunft/100 u. \\u00e4lter/Kreis 7/Schweizer/in\",\"WBev nach Alter, Stadtkreis und Herkunft/20-39/Kreis 7/Schweizer/in\",\"WBev nach Alter, Stadtkreis und Herkunft/40-59/Kreis 7/Schweizer/in\",\"WBev nach Alter, Stadtkreis und Herkunft/60-79/Kreis 7/Schweizer/in\",\"WBev nach Alter, Stadtkreis und Herkunft/80-99/Kreis 7/Schweizer/in\",\"WBev nach Alter, Stadtkreis und Herkunft/0-19/Kreis 8/Schweizer/in\",\"WBev nach Alter, Stadtkreis und Herkunft/100 u. \\u00e4lter/Kreis 8/Schweizer/in\",\"WBev nach Alter, Stadtkreis und Herkunft/20-39/Kreis 8/Schweizer/in\",\"WBev nach Alter, Stadtkreis und Herkunft/40-59/Kreis 8/Schweizer/in\",\"WBev nach Alter, Stadtkreis und Herkunft/60-79/Kreis 8/Schweizer/in\",\"WBev nach Alter, Stadtkreis und Herkunft/80-99/Kreis 8/Schweizer/in\",\"WBev nach Alter, Stadtkreis und Herkunft/0-19/Kreis 9/Schweizer/in\",\"WBev nach Alter, Stadtkreis und Herkunft/100 u. \\u00e4lter/Kreis 9/Schweizer/in\",\"WBev nach Alter, Stadtkreis und Herkunft/20-39/Kreis 9/Schweizer/in\",\"WBev nach Alter, Stadtkreis und Herkunft/40-59/Kreis 9/Schweizer/in\",\"WBev nach Alter, Stadtkreis und Herkunft/60-79/Kreis 9/Schweizer/in\",\"WBev nach Alter, Stadtkreis und Herkunft/80-99/Kreis 9/Schweizer/in\",\"WBev nach Alter, Stadtkreis und Herkunft/100 u. \\u00e4lter/Kreis 1\",\"WBev nach Alter, Stadtkreis und Herkunft/20-39/Kreis 1\",\"WBev nach Alter, Stadtkreis und Herkunft/40-59/Kreis 1\",\"WBev nach Alter, Stadtkreis und Herkunft/60-79/Kreis 1\",\"WBev nach Alter, Stadtkreis und Herkunft/80-99/Kreis 1\",\"WBev nach Alter, Stadtkreis und Herkunft/0-19/Kreis 10\",\"WBev nach Alter, Stadtkreis und Herkunft/100 u. \\u00e4lter/Kreis 10\",\"WBev nach Alter, Stadtkreis und Herkunft/20-39/Kreis 10\",\"WBev nach Alter, Stadtkreis und Herkunft/40-59/Kreis 10\",\"WBev nach Alter, Stadtkreis und Herkunft/60-79/Kreis 10\",\"WBev nach Alter, Stadtkreis und Herkunft/80-99/Kreis 10\",\"WBev nach Alter, Stadtkreis und Herkunft/0-19/Kreis 11\",\"WBev nach Alter, Stadtkreis und Herkunft/100 u. \\u00e4lter/Kreis 11\",\"WBev nach Alter, Stadtkreis und Herkunft/20-39/Kreis 11\",\"WBev nach Alter, Stadtkreis und Herkunft/40-59/Kreis 11\",\"WBev nach Alter, Stadtkreis und Herkunft/60-79/Kreis 11\",\"WBev nach Alter, Stadtkreis und Herkunft/80-99/Kreis 11\",\"WBev nach Alter, Stadtkreis und Herkunft/0-19/Kreis 12\",\"WBev nach Alter, Stadtkreis und Herkunft/100 u. \\u00e4lter/Kreis 12\",\"WBev nach Alter, Stadtkreis und Herkunft/20-39/Kreis 12\",\"WBev nach Alter, Stadtkreis und Herkunft/40-59/Kreis 12\",\"WBev nach Alter, Stadtkreis und Herkunft/60-79/Kreis 12\",\"WBev nach Alter, Stadtkreis und Herkunft/80-99/Kreis 12\",\"WBev nach Alter, Stadtkreis und Herkunft/0-19/Kreis 2\",\"WBev nach Alter, Stadtkreis und Herkunft/100 u. \\u00e4lter/Kreis 2\",\"WBev nach Alter, Stadtkreis und Herkunft/20-39/Kreis 2\",\"WBev nach Alter, Stadtkreis und Herkunft/40-59/Kreis 2\",\"WBev nach Alter, Stadtkreis und Herkunft/60-79/Kreis 2\",\"WBev nach Alter, Stadtkreis und Herkunft/80-99/Kreis 2\",\"WBev nach Alter, Stadtkreis und Herkunft/0-19/Kreis 3\",\"WBev nach Alter, Stadtkreis und Herkunft/100 u. \\u00e4lter/Kreis 3\",\"WBev nach Alter, Stadtkreis und Herkunft/20-39/Kreis 3\",\"WBev nach Alter, Stadtkreis und Herkunft/40-59/Kreis 3\",\"WBev nach Alter, Stadtkreis und Herkunft/60-79/Kreis 3\",\"WBev nach Alter, Stadtkreis und Herkunft/80-99/Kreis 3\",\"WBev nach Alter, Stadtkreis und Herkunft/0-19/Kreis 4\",\"WBev nach Alter, Stadtkreis und Herkunft/100 u. \\u00e4lter/Kreis 4\",\"WBev nach Alter, Stadtkreis und Herkunft/20-39/Kreis 4\",\"WBev nach Alter, Stadtkreis und Herkunft/40-59/Kreis 4\",\"WBev nach Alter, Stadtkreis und Herkunft/60-79/Kreis 4\",\"WBev nach Alter, Stadtkreis und Herkunft/80-99/Kreis 4\",\"WBev nach Alter, Stadtkreis und Herkunft/0-19/Kreis 5\",\"WBev nach Alter, Stadtkreis und Herkunft/100 u. \\u00e4lter/Kreis 5\",\"WBev nach Alter, Stadtkreis und Herkunft/20-39/Kreis 5\",\"WBev nach Alter, Stadtkreis und Herkunft/40-59/Kreis 5\",\"WBev nach Alter, Stadtkreis und Herkunft/60-79/Kreis 5\",\"WBev nach Alter, Stadtkreis und Herkunft/80-99/Kreis 5\",\"WBev nach Alter, Stadtkreis und Herkunft/0-19/Kreis 6\",\"WBev nach Alter, Stadtkreis und Herkunft/100 u. \\u00e4lter/Kreis 6\",\"WBev nach Alter, Stadtkreis und Herkunft/20-39/Kreis 6\",\"WBev nach Alter, Stadtkreis und Herkunft/40-59/Kreis 6\",\"WBev nach Alter, Stadtkreis und Herkunft/60-79/Kreis 6\",\"WBev nach Alter, Stadtkreis und Herkunft/80-99/Kreis 6\",\"WBev nach Alter, Stadtkreis und Herkunft/0-19/Kreis 7\",\"WBev nach Alter, Stadtkreis und Herkunft/100 u. \\u00e4lter/Kreis 7\",\"WBev nach Alter, Stadtkreis und Herkunft/20-39/Kreis 7\",\"WBev nach Alter, Stadtkreis und Herkunft/40-59/Kreis 7\",\"WBev nach Alter, Stadtkreis und Herkunft/60-79/Kreis 7\",\"WBev nach Alter, Stadtkreis und Herkunft/80-99/Kreis 7\",\"WBev nach Alter, Stadtkreis und Herkunft/0-19/Kreis 8\",\"WBev nach Alter, Stadtkreis und Herkunft/100 u. \\u00e4lter/Kreis 8\",\"WBev nach Alter, Stadtkreis und Herkunft/20-39/Kreis 8\",\"WBev nach Alter, Stadtkreis und Herkunft/40-59/Kreis 8\",\"WBev nach Alter, Stadtkreis und Herkunft/60-79/Kreis 8\",\"WBev nach Alter, Stadtkreis und Herkunft/80-99/Kreis 8\",\"WBev nach Alter, Stadtkreis und Herkunft/0-19/Kreis 9\",\"WBev nach Alter, Stadtkreis und Herkunft/100 u. \\u00e4lter/Kreis 9\",\"WBev nach Alter, Stadtkreis und Herkunft/20-39/Kreis 9\",\"WBev nach Alter, Stadtkreis und Herkunft/40-59/Kreis 9\",\"WBev nach Alter, Stadtkreis und Herkunft/60-79/Kreis 9\",\"WBev nach Alter, Stadtkreis und Herkunft/80-99/Kreis 9\",\"WBev nach Alter, Stadtkreis und Herkunft/0-19\",\"WBev nach Alter, Stadtkreis und Herkunft/100 u. \\u00e4lter\",\"WBev nach Alter, Stadtkreis und Herkunft/20-39\",\"WBev nach Alter, Stadtkreis und Herkunft/40-59\",\"WBev nach Alter, Stadtkreis und Herkunft/60-79\",\"WBev nach Alter, Stadtkreis und Herkunft/80-99\",\"WBev nach Alter, Stadtkreis und Herkunft\"],\"labels\":[\"Ausl\\u00e4nder/in\",\"Ausl\\u00e4nder/in\",\"Ausl\\u00e4nder/in\",\"Ausl\\u00e4nder/in\",\"Ausl\\u00e4nder/in\",\"Ausl\\u00e4nder/in\",\"Ausl\\u00e4nder/in\",\"Ausl\\u00e4nder/in\",\"Ausl\\u00e4nder/in\",\"Ausl\\u00e4nder/in\",\"Ausl\\u00e4nder/in\",\"Ausl\\u00e4nder/in\",\"Ausl\\u00e4nder/in\",\"Ausl\\u00e4nder/in\",\"Ausl\\u00e4nder/in\",\"Ausl\\u00e4nder/in\",\"Ausl\\u00e4nder/in\",\"Ausl\\u00e4nder/in\",\"Ausl\\u00e4nder/in\",\"Ausl\\u00e4nder/in\",\"Ausl\\u00e4nder/in\",\"Ausl\\u00e4nder/in\",\"Ausl\\u00e4nder/in\",\"Ausl\\u00e4nder/in\",\"Ausl\\u00e4nder/in\",\"Ausl\\u00e4nder/in\",\"Ausl\\u00e4nder/in\",\"Ausl\\u00e4nder/in\",\"Ausl\\u00e4nder/in\",\"Ausl\\u00e4nder/in\",\"Ausl\\u00e4nder/in\",\"Ausl\\u00e4nder/in\",\"Ausl\\u00e4nder/in\",\"Ausl\\u00e4nder/in\",\"Ausl\\u00e4nder/in\",\"Ausl\\u00e4nder/in\",\"Ausl\\u00e4nder/in\",\"Ausl\\u00e4nder/in\",\"Ausl\\u00e4nder/in\",\"Ausl\\u00e4nder/in\",\"Ausl\\u00e4nder/in\",\"Ausl\\u00e4nder/in\",\"Ausl\\u00e4nder/in\",\"Ausl\\u00e4nder/in\",\"Ausl\\u00e4nder/in\",\"Ausl\\u00e4nder/in\",\"Ausl\\u00e4nder/in\",\"Ausl\\u00e4nder/in\",\"Ausl\\u00e4nder/in\",\"Ausl\\u00e4nder/in\",\"Ausl\\u00e4nder/in\",\"Ausl\\u00e4nder/in\",\"Ausl\\u00e4nder/in\",\"Ausl\\u00e4nder/in\",\"Schweizer/in\",\"Schweizer/in\",\"Schweizer/in\",\"Schweizer/in\",\"Schweizer/in\",\"Schweizer/in\",\"Schweizer/in\",\"Schweizer/in\",\"Schweizer/in\",\"Schweizer/in\",\"Schweizer/in\",\"Schweizer/in\",\"Schweizer/in\",\"Schweizer/in\",\"Schweizer/in\",\"Schweizer/in\",\"Schweizer/in\",\"Schweizer/in\",\"Schweizer/in\",\"Schweizer/in\",\"Schweizer/in\",\"Schweizer/in\",\"Schweizer/in\",\"Schweizer/in\",\"Schweizer/in\",\"Schweizer/in\",\"Schweizer/in\",\"Schweizer/in\",\"Schweizer/in\",\"Schweizer/in\",\"Schweizer/in\",\"Schweizer/in\",\"Schweizer/in\",\"Schweizer/in\",\"Schweizer/in\",\"Schweizer/in\",\"Schweizer/in\",\"Schweizer/in\",\"Schweizer/in\",\"Schweizer/in\",\"Schweizer/in\",\"Schweizer/in\",\"Schweizer/in\",\"Schweizer/in\",\"Schweizer/in\",\"Schweizer/in\",\"Schweizer/in\",\"Schweizer/in\",\"Schweizer/in\",\"Schweizer/in\",\"Schweizer/in\",\"Schweizer/in\",\"Schweizer/in\",\"Schweizer/in\",\"Schweizer/in\",\"Schweizer/in\",\"Schweizer/in\",\"Schweizer/in\",\"Schweizer/in\",\"Schweizer/in\",\"Schweizer/in\",\"Schweizer/in\",\"Schweizer/in\",\"Schweizer/in\",\"Schweizer/in\",\"Schweizer/in\",\"Schweizer/in\",\"Schweizer/in\",\"Schweizer/in\",\"Schweizer/in\",\"Kreis 1\",\"Kreis 1\",\"Kreis 1\",\"Kreis 1\",\"Kreis 1\",\"Kreis 10\",\"Kreis 10\",\"Kreis 10\",\"Kreis 10\",\"Kreis 10\",\"Kreis 10\",\"Kreis 11\",\"Kreis 11\",\"Kreis 11\",\"Kreis 11\",\"Kreis 11\",\"Kreis 11\",\"Kreis 12\",\"Kreis 12\",\"Kreis 12\",\"Kreis 12\",\"Kreis 12\",\"Kreis 12\",\"Kreis 2\",\"Kreis 2\",\"Kreis 2\",\"Kreis 2\",\"Kreis 2\",\"Kreis 2\",\"Kreis 3\",\"Kreis 3\",\"Kreis 3\",\"Kreis 3\",\"Kreis 3\",\"Kreis 3\",\"Kreis 4\",\"Kreis 4\",\"Kreis 4\",\"Kreis 4\",\"Kreis 4\",\"Kreis 4\",\"Kreis 5\",\"Kreis 5\",\"Kreis 5\",\"Kreis 5\",\"Kreis 5\",\"Kreis 5\",\"Kreis 6\",\"Kreis 6\",\"Kreis 6\",\"Kreis 6\",\"Kreis 6\",\"Kreis 6\",\"Kreis 7\",\"Kreis 7\",\"Kreis 7\",\"Kreis 7\",\"Kreis 7\",\"Kreis 7\",\"Kreis 8\",\"Kreis 8\",\"Kreis 8\",\"Kreis 8\",\"Kreis 8\",\"Kreis 8\",\"Kreis 9\",\"Kreis 9\",\"Kreis 9\",\"Kreis 9\",\"Kreis 9\",\"Kreis 9\",\"0-19\",\"100 u. \\u00e4lter\",\"20-39\",\"40-59\",\"60-79\",\"80-99\",\"WBev nach Alter, Stadtkreis und Herkunft\"],\"marker\":{\"coloraxis\":\"coloraxis\",\"colors\":[1.0,1.0,1.0,1.0,1.0,1.0,1.2222222222222223,1.0,1.127659574468085,1.0,1.0,1.0,1.1612903225806452,1.0327868852459017,1.0,1.0,1.0,1.0,1.0454545454545454,1.0,1.0,1.0,1.0,1.0606060606060606,1.0,1.0,1.1111111111111112,1.0,1.0727272727272728,1.0,1.0,1.0476190476190477,1.0,1.0,1.0,1.0,1.0,1.0,1.0,1.0,1.0,1.0714285714285714,1.0,1.0,1.0,1.0909090909090908,1.0392156862745099,1.0,1.0,1.2666666666666666,1.0,1.0909090909090908,1.0769230769230769,1.121212121212121,1.0,1.0,1.0,1.0,1.126984126984127,1.0,1.0,1.0,1.0,1.1828571428571428,1.6864406779661016,1.0,1.0,1.0,1.105263157894737,1.3694779116465863,1.688976377952756,1.0,1.0,1.0,1.0,1.1300813008130082,1.4,1.0,1.0,1.0,1.0,1.150375939849624,1.6298850574712644,1.0,1.0,1.0,1.0666666666666667,1.2098765432098766,1.5970873786407767,1.0,1.0,1.0,1.0606060606060606,1.0638297872340425,1.1911764705882353,1.0,1.0,1.0,1.0,1.0,1.0625,1.0,1.0,1.0,1.1063829787234043,1.3,1.0,1.0,1.0,1.0,1.2765957446808511,1.7244094488188977,1.0,1.0,1.0,1.0,1.0,1.2625,1.0,1.0,1.0,1.0,1.2679425837320575,1.732965009208103,1.0,1.0,1.0,1.0,1.1194029850746268,1.0,1.0,1.0,1.0571428571428572,1.1560975609756097,1.6358381502890174,1.0,1.0,1.0,1.0759493670886076,1.3279742765273312,1.6186291739894552,1.0,1.0,1.0,1.0,1.1019108280254777,1.3577235772357723,1.0,1.0,1.0,1.0,1.12987012987013,1.5897435897435896,1.0,1.0,1.0,1.0833333333333333,1.17,1.5353319057815846,1.0,1.0,1.0,1.0416666666666667,1.0588235294117647,1.1529411764705881,1.0,1.0,1.0,1.0,1.0,1.0547945205479452,1.0,1.0,1.0,1.0,1.0909090909090908,1.2741935483870968,1.0,1.0,1.0,1.0,1.2571428571428571,1.661896243291592,1.0,1.0,1.0,1.0,1.0,1.262857142857143,1.0,1.0,1.0,1.0307692307692307,1.2298850574712643,1.6666666666666667,1.0,1.0,1.0,1.0354767184035476,1.1790090570058605,1.528301886792453,1.3812018041612106]},\"name\":\"\",\"parents\":[\"WBev nach Alter, Stadtkreis und Herkunft/20-39/Kreis 1\",\"WBev nach Alter, Stadtkreis und Herkunft/40-59/Kreis 1\",\"WBev nach Alter, Stadtkreis und Herkunft/60-79/Kreis 1\",\"WBev nach Alter, Stadtkreis und Herkunft/80-99/Kreis 1\",\"WBev nach Alter, Stadtkreis und Herkunft/100 u. \\u00e4lter/Kreis 10\",\"WBev nach Alter, Stadtkreis und Herkunft/20-39/Kreis 10\",\"WBev nach Alter, Stadtkreis und Herkunft/40-59/Kreis 10\",\"WBev nach Alter, Stadtkreis und Herkunft/60-79/Kreis 10\",\"WBev nach Alter, Stadtkreis und Herkunft/80-99/Kreis 10\",\"WBev nach Alter, Stadtkreis und Herkunft/0-19/Kreis 11\",\"WBev nach Alter, Stadtkreis und Herkunft/20-39/Kreis 11\",\"WBev nach Alter, Stadtkreis und Herkunft/40-59/Kreis 11\",\"WBev nach Alter, Stadtkreis und Herkunft/60-79/Kreis 11\",\"WBev nach Alter, Stadtkreis und Herkunft/80-99/Kreis 11\",\"WBev nach Alter, Stadtkreis und Herkunft/0-19/Kreis 12\",\"WBev nach Alter, Stadtkreis und Herkunft/20-39/Kreis 12\",\"WBev nach Alter, Stadtkreis und Herkunft/40-59/Kreis 12\",\"WBev nach Alter, Stadtkreis und Herkunft/60-79/Kreis 12\",\"WBev nach Alter, Stadtkreis und Herkunft/80-99/Kreis 12\",\"WBev nach Alter, Stadtkreis und Herkunft/100 u. \\u00e4lter/Kreis 2\",\"WBev nach Alter, Stadtkreis und Herkunft/20-39/Kreis 2\",\"WBev nach Alter, Stadtkreis und Herkunft/40-59/Kreis 2\",\"WBev nach Alter, Stadtkreis und Herkunft/60-79/Kreis 2\",\"WBev nach Alter, Stadtkreis und Herkunft/80-99/Kreis 2\",\"WBev nach Alter, Stadtkreis und Herkunft/100 u. \\u00e4lter/Kreis 3\",\"WBev nach Alter, Stadtkreis und Herkunft/20-39/Kreis 3\",\"WBev nach Alter, Stadtkreis und Herkunft/40-59/Kreis 3\",\"WBev nach Alter, Stadtkreis und Herkunft/60-79/Kreis 3\",\"WBev nach Alter, Stadtkreis und Herkunft/80-99/Kreis 3\",\"WBev nach Alter, Stadtkreis und Herkunft/20-39/Kreis 4\",\"WBev nach Alter, Stadtkreis und Herkunft/40-59/Kreis 4\",\"WBev nach Alter, Stadtkreis und Herkunft/60-79/Kreis 4\",\"WBev nach Alter, Stadtkreis und Herkunft/80-99/Kreis 4\",\"WBev nach Alter, Stadtkreis und Herkunft/20-39/Kreis 5\",\"WBev nach Alter, Stadtkreis und Herkunft/40-59/Kreis 5\",\"WBev nach Alter, Stadtkreis und Herkunft/60-79/Kreis 5\",\"WBev nach Alter, Stadtkreis und Herkunft/80-99/Kreis 5\",\"WBev nach Alter, Stadtkreis und Herkunft/0-19/Kreis 6\",\"WBev nach Alter, Stadtkreis und Herkunft/20-39/Kreis 6\",\"WBev nach Alter, Stadtkreis und Herkunft/40-59/Kreis 6\",\"WBev nach Alter, Stadtkreis und Herkunft/60-79/Kreis 6\",\"WBev nach Alter, Stadtkreis und Herkunft/80-99/Kreis 6\",\"WBev nach Alter, Stadtkreis und Herkunft/0-19/Kreis 7\",\"WBev nach Alter, Stadtkreis und Herkunft/20-39/Kreis 7\",\"WBev nach Alter, Stadtkreis und Herkunft/40-59/Kreis 7\",\"WBev nach Alter, Stadtkreis und Herkunft/60-79/Kreis 7\",\"WBev nach Alter, Stadtkreis und Herkunft/80-99/Kreis 7\",\"WBev nach Alter, Stadtkreis und Herkunft/40-59/Kreis 8\",\"WBev nach Alter, Stadtkreis und Herkunft/60-79/Kreis 8\",\"WBev nach Alter, Stadtkreis und Herkunft/80-99/Kreis 8\",\"WBev nach Alter, Stadtkreis und Herkunft/20-39/Kreis 9\",\"WBev nach Alter, Stadtkreis und Herkunft/40-59/Kreis 9\",\"WBev nach Alter, Stadtkreis und Herkunft/60-79/Kreis 9\",\"WBev nach Alter, Stadtkreis und Herkunft/80-99/Kreis 9\",\"WBev nach Alter, Stadtkreis und Herkunft/100 u. \\u00e4lter/Kreis 1\",\"WBev nach Alter, Stadtkreis und Herkunft/20-39/Kreis 1\",\"WBev nach Alter, Stadtkreis und Herkunft/40-59/Kreis 1\",\"WBev nach Alter, Stadtkreis und Herkunft/60-79/Kreis 1\",\"WBev nach Alter, Stadtkreis und Herkunft/80-99/Kreis 1\",\"WBev nach Alter, Stadtkreis und Herkunft/0-19/Kreis 10\",\"WBev nach Alter, Stadtkreis und Herkunft/100 u. \\u00e4lter/Kreis 10\",\"WBev nach Alter, Stadtkreis und Herkunft/20-39/Kreis 10\",\"WBev nach Alter, Stadtkreis und Herkunft/40-59/Kreis 10\",\"WBev nach Alter, Stadtkreis und Herkunft/60-79/Kreis 10\",\"WBev nach Alter, Stadtkreis und Herkunft/80-99/Kreis 10\",\"WBev nach Alter, Stadtkreis und Herkunft/0-19/Kreis 11\",\"WBev nach Alter, Stadtkreis und Herkunft/100 u. \\u00e4lter/Kreis 11\",\"WBev nach Alter, Stadtkreis und Herkunft/20-39/Kreis 11\",\"WBev nach Alter, Stadtkreis und Herkunft/40-59/Kreis 11\",\"WBev nach Alter, Stadtkreis und Herkunft/60-79/Kreis 11\",\"WBev nach Alter, Stadtkreis und Herkunft/80-99/Kreis 11\",\"WBev nach Alter, Stadtkreis und Herkunft/0-19/Kreis 12\",\"WBev nach Alter, Stadtkreis und Herkunft/100 u. \\u00e4lter/Kreis 12\",\"WBev nach Alter, Stadtkreis und Herkunft/20-39/Kreis 12\",\"WBev nach Alter, Stadtkreis und Herkunft/40-59/Kreis 12\",\"WBev nach Alter, Stadtkreis und Herkunft/60-79/Kreis 12\",\"WBev nach Alter, Stadtkreis und Herkunft/80-99/Kreis 12\",\"WBev nach Alter, Stadtkreis und Herkunft/0-19/Kreis 2\",\"WBev nach Alter, Stadtkreis und Herkunft/100 u. \\u00e4lter/Kreis 2\",\"WBev nach Alter, Stadtkreis und Herkunft/20-39/Kreis 2\",\"WBev nach Alter, Stadtkreis und Herkunft/40-59/Kreis 2\",\"WBev nach Alter, Stadtkreis und Herkunft/60-79/Kreis 2\",\"WBev nach Alter, Stadtkreis und Herkunft/80-99/Kreis 2\",\"WBev nach Alter, Stadtkreis und Herkunft/0-19/Kreis 3\",\"WBev nach Alter, Stadtkreis und Herkunft/100 u. \\u00e4lter/Kreis 3\",\"WBev nach Alter, Stadtkreis und Herkunft/20-39/Kreis 3\",\"WBev nach Alter, Stadtkreis und Herkunft/40-59/Kreis 3\",\"WBev nach Alter, Stadtkreis und Herkunft/60-79/Kreis 3\",\"WBev nach Alter, Stadtkreis und Herkunft/80-99/Kreis 3\",\"WBev nach Alter, Stadtkreis und Herkunft/0-19/Kreis 4\",\"WBev nach Alter, Stadtkreis und Herkunft/100 u. \\u00e4lter/Kreis 4\",\"WBev nach Alter, Stadtkreis und Herkunft/20-39/Kreis 4\",\"WBev nach Alter, Stadtkreis und Herkunft/40-59/Kreis 4\",\"WBev nach Alter, Stadtkreis und Herkunft/60-79/Kreis 4\",\"WBev nach Alter, Stadtkreis und Herkunft/80-99/Kreis 4\",\"WBev nach Alter, Stadtkreis und Herkunft/0-19/Kreis 5\",\"WBev nach Alter, Stadtkreis und Herkunft/100 u. \\u00e4lter/Kreis 5\",\"WBev nach Alter, Stadtkreis und Herkunft/20-39/Kreis 5\",\"WBev nach Alter, Stadtkreis und Herkunft/40-59/Kreis 5\",\"WBev nach Alter, Stadtkreis und Herkunft/60-79/Kreis 5\",\"WBev nach Alter, Stadtkreis und Herkunft/80-99/Kreis 5\",\"WBev nach Alter, Stadtkreis und Herkunft/100 u. \\u00e4lter/Kreis 6\",\"WBev nach Alter, Stadtkreis und Herkunft/20-39/Kreis 6\",\"WBev nach Alter, Stadtkreis und Herkunft/40-59/Kreis 6\",\"WBev nach Alter, Stadtkreis und Herkunft/60-79/Kreis 6\",\"WBev nach Alter, Stadtkreis und Herkunft/80-99/Kreis 6\",\"WBev nach Alter, Stadtkreis und Herkunft/0-19/Kreis 7\",\"WBev nach Alter, Stadtkreis und Herkunft/100 u. \\u00e4lter/Kreis 7\",\"WBev nach Alter, Stadtkreis und Herkunft/20-39/Kreis 7\",\"WBev nach Alter, Stadtkreis und Herkunft/40-59/Kreis 7\",\"WBev nach Alter, Stadtkreis und Herkunft/60-79/Kreis 7\",\"WBev nach Alter, Stadtkreis und Herkunft/80-99/Kreis 7\",\"WBev nach Alter, Stadtkreis und Herkunft/0-19/Kreis 8\",\"WBev nach Alter, Stadtkreis und Herkunft/100 u. \\u00e4lter/Kreis 8\",\"WBev nach Alter, Stadtkreis und Herkunft/20-39/Kreis 8\",\"WBev nach Alter, Stadtkreis und Herkunft/40-59/Kreis 8\",\"WBev nach Alter, Stadtkreis und Herkunft/60-79/Kreis 8\",\"WBev nach Alter, Stadtkreis und Herkunft/80-99/Kreis 8\",\"WBev nach Alter, Stadtkreis und Herkunft/0-19/Kreis 9\",\"WBev nach Alter, Stadtkreis und Herkunft/100 u. \\u00e4lter/Kreis 9\",\"WBev nach Alter, Stadtkreis und Herkunft/20-39/Kreis 9\",\"WBev nach Alter, Stadtkreis und Herkunft/40-59/Kreis 9\",\"WBev nach Alter, Stadtkreis und Herkunft/60-79/Kreis 9\",\"WBev nach Alter, Stadtkreis und Herkunft/80-99/Kreis 9\",\"WBev nach Alter, Stadtkreis und Herkunft/100 u. \\u00e4lter\",\"WBev nach Alter, Stadtkreis und Herkunft/20-39\",\"WBev nach Alter, Stadtkreis und Herkunft/40-59\",\"WBev nach Alter, Stadtkreis und Herkunft/60-79\",\"WBev nach Alter, Stadtkreis und Herkunft/80-99\",\"WBev nach Alter, Stadtkreis und Herkunft/0-19\",\"WBev nach Alter, Stadtkreis und Herkunft/100 u. \\u00e4lter\",\"WBev nach Alter, Stadtkreis und Herkunft/20-39\",\"WBev nach Alter, Stadtkreis und Herkunft/40-59\",\"WBev nach Alter, Stadtkreis und Herkunft/60-79\",\"WBev nach Alter, Stadtkreis und Herkunft/80-99\",\"WBev nach Alter, Stadtkreis und Herkunft/0-19\",\"WBev nach Alter, Stadtkreis und Herkunft/100 u. \\u00e4lter\",\"WBev nach Alter, Stadtkreis und Herkunft/20-39\",\"WBev nach Alter, Stadtkreis und Herkunft/40-59\",\"WBev nach Alter, Stadtkreis und Herkunft/60-79\",\"WBev nach Alter, Stadtkreis und Herkunft/80-99\",\"WBev nach Alter, Stadtkreis und Herkunft/0-19\",\"WBev nach Alter, Stadtkreis und Herkunft/100 u. \\u00e4lter\",\"WBev nach Alter, Stadtkreis und Herkunft/20-39\",\"WBev nach Alter, Stadtkreis und Herkunft/40-59\",\"WBev nach Alter, Stadtkreis und Herkunft/60-79\",\"WBev nach Alter, Stadtkreis und Herkunft/80-99\",\"WBev nach Alter, Stadtkreis und Herkunft/0-19\",\"WBev nach Alter, Stadtkreis und Herkunft/100 u. \\u00e4lter\",\"WBev nach Alter, Stadtkreis und Herkunft/20-39\",\"WBev nach Alter, Stadtkreis und Herkunft/40-59\",\"WBev nach Alter, Stadtkreis und Herkunft/60-79\",\"WBev nach Alter, Stadtkreis und Herkunft/80-99\",\"WBev nach Alter, Stadtkreis und Herkunft/0-19\",\"WBev nach Alter, Stadtkreis und Herkunft/100 u. \\u00e4lter\",\"WBev nach Alter, Stadtkreis und Herkunft/20-39\",\"WBev nach Alter, Stadtkreis und Herkunft/40-59\",\"WBev nach Alter, Stadtkreis und Herkunft/60-79\",\"WBev nach Alter, Stadtkreis und Herkunft/80-99\",\"WBev nach Alter, Stadtkreis und Herkunft/0-19\",\"WBev nach Alter, Stadtkreis und Herkunft/100 u. \\u00e4lter\",\"WBev nach Alter, Stadtkreis und Herkunft/20-39\",\"WBev nach Alter, Stadtkreis und Herkunft/40-59\",\"WBev nach Alter, Stadtkreis und Herkunft/60-79\",\"WBev nach Alter, Stadtkreis und Herkunft/80-99\",\"WBev nach Alter, Stadtkreis und Herkunft/0-19\",\"WBev nach Alter, Stadtkreis und Herkunft/100 u. \\u00e4lter\",\"WBev nach Alter, Stadtkreis und Herkunft/20-39\",\"WBev nach Alter, Stadtkreis und Herkunft/40-59\",\"WBev nach Alter, Stadtkreis und Herkunft/60-79\",\"WBev nach Alter, Stadtkreis und Herkunft/80-99\",\"WBev nach Alter, Stadtkreis und Herkunft/0-19\",\"WBev nach Alter, Stadtkreis und Herkunft/100 u. \\u00e4lter\",\"WBev nach Alter, Stadtkreis und Herkunft/20-39\",\"WBev nach Alter, Stadtkreis und Herkunft/40-59\",\"WBev nach Alter, Stadtkreis und Herkunft/60-79\",\"WBev nach Alter, Stadtkreis und Herkunft/80-99\",\"WBev nach Alter, Stadtkreis und Herkunft/0-19\",\"WBev nach Alter, Stadtkreis und Herkunft/100 u. \\u00e4lter\",\"WBev nach Alter, Stadtkreis und Herkunft/20-39\",\"WBev nach Alter, Stadtkreis und Herkunft/40-59\",\"WBev nach Alter, Stadtkreis und Herkunft/60-79\",\"WBev nach Alter, Stadtkreis und Herkunft/80-99\",\"WBev nach Alter, Stadtkreis und Herkunft/0-19\",\"WBev nach Alter, Stadtkreis und Herkunft/100 u. \\u00e4lter\",\"WBev nach Alter, Stadtkreis und Herkunft/20-39\",\"WBev nach Alter, Stadtkreis und Herkunft/40-59\",\"WBev nach Alter, Stadtkreis und Herkunft/60-79\",\"WBev nach Alter, Stadtkreis und Herkunft/80-99\",\"WBev nach Alter, Stadtkreis und Herkunft/0-19\",\"WBev nach Alter, Stadtkreis und Herkunft/100 u. \\u00e4lter\",\"WBev nach Alter, Stadtkreis und Herkunft/20-39\",\"WBev nach Alter, Stadtkreis und Herkunft/40-59\",\"WBev nach Alter, Stadtkreis und Herkunft/60-79\",\"WBev nach Alter, Stadtkreis und Herkunft/80-99\",\"WBev nach Alter, Stadtkreis und Herkunft\",\"WBev nach Alter, Stadtkreis und Herkunft\",\"WBev nach Alter, Stadtkreis und Herkunft\",\"WBev nach Alter, Stadtkreis und Herkunft\",\"WBev nach Alter, Stadtkreis und Herkunft\",\"WBev nach Alter, Stadtkreis und Herkunft\",\"\"],\"root\":{\"color\":\"grey\"},\"type\":\"treemap\",\"values\":[2,1,4,4,1,3,9,30,47,2,5,22,62,61,1,3,9,34,44,1,3,3,21,33,2,2,18,38,55,4,15,42,34,4,8,8,9,1,4,5,16,28,2,1,13,22,51,7,8,15,5,22,52,66,2,1,11,39,63,3,20,4,26,175,472,6,6,9,57,249,508,1,5,3,29,123,325,2,13,5,20,133,435,5,18,5,30,162,412,1,4,9,33,94,136,2,1,7,23,28,64,9,3,21,94,220,5,22,7,17,188,508,1,4,4,9,46,160,4,9,6,43,209,543,2,3,12,43,67,3,21,7,35,205,519,8,6,14,79,311,569,2,5,6,38,157,369,2,14,8,23,154,468,5,20,7,48,200,467,1,4,13,48,136,170,2,1,11,31,36,73,1,9,7,26,110,248,7,22,8,30,210,559,1,4,4,16,54,175,4,9,11,65,261,609,36,117,99,451,1877,4293,6873]}],                        {\"coloraxis\":{\"colorbar\":{\"title\":{\"text\":\"sum_WBev\"}},\"colorscale\":[[0.0,\"rgb(255,247,251)\"],[0.125,\"rgb(236,226,240)\"],[0.25,\"rgb(208,209,230)\"],[0.375,\"rgb(166,189,219)\"],[0.5,\"rgb(103,169,207)\"],[0.625,\"rgb(54,144,192)\"],[0.75,\"rgb(2,129,138)\"],[0.875,\"rgb(1,108,89)\"],[1.0,\"rgb(1,70,54)\"]]},\"legend\":{\"tracegroupgap\":0},\"margin\":{\"b\":25,\"l\":25,\"r\":250,\"t\":50},\"template\":{\"data\":{\"bar\":[{\"error_x\":{\"color\":\"#2a3f5f\"},\"error_y\":{\"color\":\"#2a3f5f\"},\"marker\":{\"line\":{\"color\":\"#E5ECF6\",\"width\":0.5},\"pattern\":{\"fillmode\":\"overlay\",\"size\":10,\"solidity\":0.2}},\"type\":\"bar\"}],\"barpolar\":[{\"marker\":{\"line\":{\"color\":\"#E5ECF6\",\"width\":0.5},\"pattern\":{\"fillmode\":\"overlay\",\"size\":10,\"solidity\":0.2}},\"type\":\"barpolar\"}],\"carpet\":[{\"aaxis\":{\"endlinecolor\":\"#2a3f5f\",\"gridcolor\":\"white\",\"linecolor\":\"white\",\"minorgridcolor\":\"white\",\"startlinecolor\":\"#2a3f5f\"},\"baxis\":{\"endlinecolor\":\"#2a3f5f\",\"gridcolor\":\"white\",\"linecolor\":\"white\",\"minorgridcolor\":\"white\",\"startlinecolor\":\"#2a3f5f\"},\"type\":\"carpet\"}],\"choropleth\":[{\"colorbar\":{\"outlinewidth\":0,\"ticks\":\"\"},\"type\":\"choropleth\"}],\"contour\":[{\"colorbar\":{\"outlinewidth\":0,\"ticks\":\"\"},\"colorscale\":[[0.0,\"#0d0887\"],[0.1111111111111111,\"#46039f\"],[0.2222222222222222,\"#7201a8\"],[0.3333333333333333,\"#9c179e\"],[0.4444444444444444,\"#bd3786\"],[0.5555555555555556,\"#d8576b\"],[0.6666666666666666,\"#ed7953\"],[0.7777777777777778,\"#fb9f3a\"],[0.8888888888888888,\"#fdca26\"],[1.0,\"#f0f921\"]],\"type\":\"contour\"}],\"contourcarpet\":[{\"colorbar\":{\"outlinewidth\":0,\"ticks\":\"\"},\"type\":\"contourcarpet\"}],\"heatmap\":[{\"colorbar\":{\"outlinewidth\":0,\"ticks\":\"\"},\"colorscale\":[[0.0,\"#0d0887\"],[0.1111111111111111,\"#46039f\"],[0.2222222222222222,\"#7201a8\"],[0.3333333333333333,\"#9c179e\"],[0.4444444444444444,\"#bd3786\"],[0.5555555555555556,\"#d8576b\"],[0.6666666666666666,\"#ed7953\"],[0.7777777777777778,\"#fb9f3a\"],[0.8888888888888888,\"#fdca26\"],[1.0,\"#f0f921\"]],\"type\":\"heatmap\"}],\"heatmapgl\":[{\"colorbar\":{\"outlinewidth\":0,\"ticks\":\"\"},\"colorscale\":[[0.0,\"#0d0887\"],[0.1111111111111111,\"#46039f\"],[0.2222222222222222,\"#7201a8\"],[0.3333333333333333,\"#9c179e\"],[0.4444444444444444,\"#bd3786\"],[0.5555555555555556,\"#d8576b\"],[0.6666666666666666,\"#ed7953\"],[0.7777777777777778,\"#fb9f3a\"],[0.8888888888888888,\"#fdca26\"],[1.0,\"#f0f921\"]],\"type\":\"heatmapgl\"}],\"histogram\":[{\"marker\":{\"pattern\":{\"fillmode\":\"overlay\",\"size\":10,\"solidity\":0.2}},\"type\":\"histogram\"}],\"histogram2d\":[{\"colorbar\":{\"outlinewidth\":0,\"ticks\":\"\"},\"colorscale\":[[0.0,\"#0d0887\"],[0.1111111111111111,\"#46039f\"],[0.2222222222222222,\"#7201a8\"],[0.3333333333333333,\"#9c179e\"],[0.4444444444444444,\"#bd3786\"],[0.5555555555555556,\"#d8576b\"],[0.6666666666666666,\"#ed7953\"],[0.7777777777777778,\"#fb9f3a\"],[0.8888888888888888,\"#fdca26\"],[1.0,\"#f0f921\"]],\"type\":\"histogram2d\"}],\"histogram2dcontour\":[{\"colorbar\":{\"outlinewidth\":0,\"ticks\":\"\"},\"colorscale\":[[0.0,\"#0d0887\"],[0.1111111111111111,\"#46039f\"],[0.2222222222222222,\"#7201a8\"],[0.3333333333333333,\"#9c179e\"],[0.4444444444444444,\"#bd3786\"],[0.5555555555555556,\"#d8576b\"],[0.6666666666666666,\"#ed7953\"],[0.7777777777777778,\"#fb9f3a\"],[0.8888888888888888,\"#fdca26\"],[1.0,\"#f0f921\"]],\"type\":\"histogram2dcontour\"}],\"mesh3d\":[{\"colorbar\":{\"outlinewidth\":0,\"ticks\":\"\"},\"type\":\"mesh3d\"}],\"parcoords\":[{\"line\":{\"colorbar\":{\"outlinewidth\":0,\"ticks\":\"\"}},\"type\":\"parcoords\"}],\"pie\":[{\"automargin\":true,\"type\":\"pie\"}],\"scatter\":[{\"marker\":{\"colorbar\":{\"outlinewidth\":0,\"ticks\":\"\"}},\"type\":\"scatter\"}],\"scatter3d\":[{\"line\":{\"colorbar\":{\"outlinewidth\":0,\"ticks\":\"\"}},\"marker\":{\"colorbar\":{\"outlinewidth\":0,\"ticks\":\"\"}},\"type\":\"scatter3d\"}],\"scattercarpet\":[{\"marker\":{\"colorbar\":{\"outlinewidth\":0,\"ticks\":\"\"}},\"type\":\"scattercarpet\"}],\"scattergeo\":[{\"marker\":{\"colorbar\":{\"outlinewidth\":0,\"ticks\":\"\"}},\"type\":\"scattergeo\"}],\"scattergl\":[{\"marker\":{\"colorbar\":{\"outlinewidth\":0,\"ticks\":\"\"}},\"type\":\"scattergl\"}],\"scattermapbox\":[{\"marker\":{\"colorbar\":{\"outlinewidth\":0,\"ticks\":\"\"}},\"type\":\"scattermapbox\"}],\"scatterpolar\":[{\"marker\":{\"colorbar\":{\"outlinewidth\":0,\"ticks\":\"\"}},\"type\":\"scatterpolar\"}],\"scatterpolargl\":[{\"marker\":{\"colorbar\":{\"outlinewidth\":0,\"ticks\":\"\"}},\"type\":\"scatterpolargl\"}],\"scatterternary\":[{\"marker\":{\"colorbar\":{\"outlinewidth\":0,\"ticks\":\"\"}},\"type\":\"scatterternary\"}],\"surface\":[{\"colorbar\":{\"outlinewidth\":0,\"ticks\":\"\"},\"colorscale\":[[0.0,\"#0d0887\"],[0.1111111111111111,\"#46039f\"],[0.2222222222222222,\"#7201a8\"],[0.3333333333333333,\"#9c179e\"],[0.4444444444444444,\"#bd3786\"],[0.5555555555555556,\"#d8576b\"],[0.6666666666666666,\"#ed7953\"],[0.7777777777777778,\"#fb9f3a\"],[0.8888888888888888,\"#fdca26\"],[1.0,\"#f0f921\"]],\"type\":\"surface\"}],\"table\":[{\"cells\":{\"fill\":{\"color\":\"#EBF0F8\"},\"line\":{\"color\":\"white\"}},\"header\":{\"fill\":{\"color\":\"#C8D4E3\"},\"line\":{\"color\":\"white\"}},\"type\":\"table\"}]},\"layout\":{\"annotationdefaults\":{\"arrowcolor\":\"#2a3f5f\",\"arrowhead\":0,\"arrowwidth\":1},\"autotypenumbers\":\"strict\",\"coloraxis\":{\"colorbar\":{\"outlinewidth\":0,\"ticks\":\"\"}},\"colorscale\":{\"diverging\":[[0,\"#8e0152\"],[0.1,\"#c51b7d\"],[0.2,\"#de77ae\"],[0.3,\"#f1b6da\"],[0.4,\"#fde0ef\"],[0.5,\"#f7f7f7\"],[0.6,\"#e6f5d0\"],[0.7,\"#b8e186\"],[0.8,\"#7fbc41\"],[0.9,\"#4d9221\"],[1,\"#276419\"]],\"sequential\":[[0.0,\"#0d0887\"],[0.1111111111111111,\"#46039f\"],[0.2222222222222222,\"#7201a8\"],[0.3333333333333333,\"#9c179e\"],[0.4444444444444444,\"#bd3786\"],[0.5555555555555556,\"#d8576b\"],[0.6666666666666666,\"#ed7953\"],[0.7777777777777778,\"#fb9f3a\"],[0.8888888888888888,\"#fdca26\"],[1.0,\"#f0f921\"]],\"sequentialminus\":[[0.0,\"#0d0887\"],[0.1111111111111111,\"#46039f\"],[0.2222222222222222,\"#7201a8\"],[0.3333333333333333,\"#9c179e\"],[0.4444444444444444,\"#bd3786\"],[0.5555555555555556,\"#d8576b\"],[0.6666666666666666,\"#ed7953\"],[0.7777777777777778,\"#fb9f3a\"],[0.8888888888888888,\"#fdca26\"],[1.0,\"#f0f921\"]]},\"colorway\":[\"#636efa\",\"#EF553B\",\"#00cc96\",\"#ab63fa\",\"#FFA15A\",\"#19d3f3\",\"#FF6692\",\"#B6E880\",\"#FF97FF\",\"#FECB52\"],\"font\":{\"color\":\"#2a3f5f\"},\"geo\":{\"bgcolor\":\"white\",\"lakecolor\":\"white\",\"landcolor\":\"#E5ECF6\",\"showlakes\":true,\"showland\":true,\"subunitcolor\":\"white\"},\"hoverlabel\":{\"align\":\"left\"},\"hovermode\":\"closest\",\"mapbox\":{\"style\":\"light\"},\"paper_bgcolor\":\"white\",\"plot_bgcolor\":\"#E5ECF6\",\"polar\":{\"angularaxis\":{\"gridcolor\":\"white\",\"linecolor\":\"white\",\"ticks\":\"\"},\"bgcolor\":\"#E5ECF6\",\"radialaxis\":{\"gridcolor\":\"white\",\"linecolor\":\"white\",\"ticks\":\"\"}},\"scene\":{\"xaxis\":{\"backgroundcolor\":\"#E5ECF6\",\"gridcolor\":\"white\",\"gridwidth\":2,\"linecolor\":\"white\",\"showbackground\":true,\"ticks\":\"\",\"zerolinecolor\":\"white\"},\"yaxis\":{\"backgroundcolor\":\"#E5ECF6\",\"gridcolor\":\"white\",\"gridwidth\":2,\"linecolor\":\"white\",\"showbackground\":true,\"ticks\":\"\",\"zerolinecolor\":\"white\"},\"zaxis\":{\"backgroundcolor\":\"#E5ECF6\",\"gridcolor\":\"white\",\"gridwidth\":2,\"linecolor\":\"white\",\"showbackground\":true,\"ticks\":\"\",\"zerolinecolor\":\"white\"}},\"shapedefaults\":{\"line\":{\"color\":\"#2a3f5f\"}},\"ternary\":{\"aaxis\":{\"gridcolor\":\"white\",\"linecolor\":\"white\",\"ticks\":\"\"},\"baxis\":{\"gridcolor\":\"white\",\"linecolor\":\"white\",\"ticks\":\"\"},\"bgcolor\":\"#E5ECF6\",\"caxis\":{\"gridcolor\":\"white\",\"linecolor\":\"white\",\"ticks\":\"\"}},\"title\":{\"x\":0.05},\"xaxis\":{\"automargin\":true,\"gridcolor\":\"white\",\"linecolor\":\"white\",\"ticks\":\"\",\"title\":{\"standoff\":15},\"zerolinecolor\":\"white\",\"zerolinewidth\":2},\"yaxis\":{\"automargin\":true,\"gridcolor\":\"white\",\"linecolor\":\"white\",\"ticks\":\"\",\"title\":{\"standoff\":15},\"zerolinecolor\":\"white\",\"zerolinewidth\":2}}}},                        {\"responsive\": true}                    ).then(function(){\n",
       "                            \n",
       "var gd = document.getElementById('bc8b04c0-3f70-4edc-ae6d-fde9fb9e8e3f');\n",
       "var x = new MutationObserver(function (mutations, observer) {{\n",
       "        var display = window.getComputedStyle(gd).display;\n",
       "        if (!display || display === 'none') {{\n",
       "            console.log([gd, 'removed!']);\n",
       "            Plotly.purge(gd);\n",
       "            observer.disconnect();\n",
       "        }}\n",
       "}});\n",
       "\n",
       "// Listen for the removal of the full notebook cells\n",
       "var notebookContainer = gd.closest('#notebook-container');\n",
       "if (notebookContainer) {{\n",
       "    x.observe(notebookContainer, {childList: true});\n",
       "}}\n",
       "\n",
       "// Listen for the clearing of the current output cell\n",
       "var outputEl = gd.closest('.output');\n",
       "if (outputEl) {{\n",
       "    x.observe(outputEl, {childList: true});\n",
       "}}\n",
       "\n",
       "                        })                };                });            </script>        </div>"
      ]
     },
     "metadata": {},
     "output_type": "display_data"
    }
   ],
   "source": [
    "fig = px.treemap(myTreemapAgg.reset_index()\n",
    "                 , path=[px.Constant(\"WBev nach Alter, Stadtkreis und Herkunft\"), 'AlterV20Kurz','KreisLang','HerkunftLang']\n",
    "                 , values='sum_WBev'\n",
    "                 , color='sum_WBev'\n",
    "                 ## bei discrete scales (bei Klassen und Strings):                 \n",
    "                 #, color_discrete_map={'(?)':'lightgrey','EVP':'gold', 'SP':'#FF3030', 'PdA':'#EE3B3B', 'Grüne':'#A2CD5A','GLP':'#CAFF70','Die Mitte':'orange','FDP':'#104E8B','AL':'deeppink','SVP':'forestgreen', 'FL ZÜRI':'#8B864E','Volt':'#lightblue' }                \n",
    "                 ## bei continuous scales (bei Zahlenwerten):\n",
    "                , color_continuous_scale='PuBuGn'\n",
    "                #, color_continuous_midpoint=np.average(myTreemapAgg['sum_WBev'], weights=myTreemapAgg['sum_WBev']) \n",
    "                 #,height=400\n",
    "                 #,width=1500\n",
    "                )\n",
    "fig.update_traces(root_color=\"grey\")\n",
    "fig.update_layout(margin = dict(t=50, l=25, r=250, b=25))#, title=\"WBev nach Alter, Stadtkreis und Herkunft\")\n",
    "fig.show()"
   ]
  },
  {
   "cell_type": "markdown",
   "metadata": {},
   "source": [
    "-------------------------------------- stop hier\n",
    "\n",
    "Liniendiagramm \n",
    "[Link zur Doku](https://altair-viz.github.io/gallery/multiline_highlight.html)"
   ]
  },
  {
   "cell_type": "markdown",
   "metadata": {},
   "source": [
    "### Test: Choroplethenkarte\n",
    "Importiere die Geodaten als GeoJSON"
   ]
  },
  {
   "cell_type": "code",
   "execution_count": 153,
   "metadata": {},
   "outputs": [
    {
     "data": {
      "text/html": [
       "<div>\n",
       "<style scoped>\n",
       "    .dataframe tbody tr th:only-of-type {\n",
       "        vertical-align: middle;\n",
       "    }\n",
       "\n",
       "    .dataframe tbody tr th {\n",
       "        vertical-align: top;\n",
       "    }\n",
       "\n",
       "    .dataframe thead th {\n",
       "        text-align: right;\n",
       "    }\n",
       "</style>\n",
       "<table border=\"1\" class=\"dataframe\">\n",
       "  <thead>\n",
       "    <tr style=\"text-align: right;\">\n",
       "      <th></th>\n",
       "      <th>id</th>\n",
       "      <th>kname</th>\n",
       "      <th>knr</th>\n",
       "      <th>objectid</th>\n",
       "      <th>objid</th>\n",
       "      <th>qname</th>\n",
       "      <th>qnr</th>\n",
       "      <th>geometry</th>\n",
       "    </tr>\n",
       "  </thead>\n",
       "  <tbody>\n",
       "    <tr>\n",
       "      <th>0</th>\n",
       "      <td>adm_statistische_quartiere_map.1</td>\n",
       "      <td>Kreis 7</td>\n",
       "      <td>7</td>\n",
       "      <td>1</td>\n",
       "      <td>34</td>\n",
       "      <td>Hirslanden</td>\n",
       "      <td>73</td>\n",
       "      <td>POLYGON ((8.55670 47.36406, 8.55682 47.36410, ...</td>\n",
       "    </tr>\n",
       "    <tr>\n",
       "      <th>1</th>\n",
       "      <td>adm_statistische_quartiere_map.2</td>\n",
       "      <td>Kreis 8</td>\n",
       "      <td>8</td>\n",
       "      <td>2</td>\n",
       "      <td>33</td>\n",
       "      <td>Weinegg</td>\n",
       "      <td>83</td>\n",
       "      <td>POLYGON ((8.55670 47.36405, 8.55672 47.36403, ...</td>\n",
       "    </tr>\n",
       "    <tr>\n",
       "      <th>2</th>\n",
       "      <td>adm_statistische_quartiere_map.3</td>\n",
       "      <td>Kreis 8</td>\n",
       "      <td>8</td>\n",
       "      <td>3</td>\n",
       "      <td>32</td>\n",
       "      <td>Mühlebach</td>\n",
       "      <td>82</td>\n",
       "      <td>POLYGON ((8.55423 47.36456, 8.55426 47.36452, ...</td>\n",
       "    </tr>\n",
       "    <tr>\n",
       "      <th>3</th>\n",
       "      <td>adm_statistische_quartiere_map.4</td>\n",
       "      <td>Kreis 8</td>\n",
       "      <td>8</td>\n",
       "      <td>4</td>\n",
       "      <td>31</td>\n",
       "      <td>Seefeld</td>\n",
       "      <td>81</td>\n",
       "      <td>POLYGON ((8.54795 47.36500, 8.54805 47.36489, ...</td>\n",
       "    </tr>\n",
       "    <tr>\n",
       "      <th>4</th>\n",
       "      <td>adm_statistische_quartiere_map.7</td>\n",
       "      <td>Kreis 4</td>\n",
       "      <td>4</td>\n",
       "      <td>7</td>\n",
       "      <td>16</td>\n",
       "      <td>Werd</td>\n",
       "      <td>41</td>\n",
       "      <td>POLYGON ((8.53300 47.37394, 8.53299 47.37392, ...</td>\n",
       "    </tr>\n",
       "  </tbody>\n",
       "</table>\n",
       "</div>"
      ],
      "text/plain": [
       "                                 id    kname  knr  objectid objid       qname  qnr  \\\n",
       "0  adm_statistische_quartiere_map.1  Kreis 7    7         1    34  Hirslanden   73   \n",
       "1  adm_statistische_quartiere_map.2  Kreis 8    8         2    33     Weinegg   83   \n",
       "2  adm_statistische_quartiere_map.3  Kreis 8    8         3    32   Mühlebach   82   \n",
       "3  adm_statistische_quartiere_map.4  Kreis 8    8         4    31     Seefeld   81   \n",
       "4  adm_statistische_quartiere_map.7  Kreis 4    4         7    16        Werd   41   \n",
       "\n",
       "                                            geometry  \n",
       "0  POLYGON ((8.55670 47.36406, 8.55682 47.36410, ...  \n",
       "1  POLYGON ((8.55670 47.36405, 8.55672 47.36403, ...  \n",
       "2  POLYGON ((8.55423 47.36456, 8.55426 47.36452, ...  \n",
       "3  POLYGON ((8.54795 47.36500, 8.54805 47.36489, ...  \n",
       "4  POLYGON ((8.53300 47.37394, 8.53299 47.37392, ...  "
      ]
     },
     "execution_count": 153,
     "metadata": {},
     "output_type": "execute_result"
    }
   ],
   "source": [
    "# Read abt. Geopandas https://geopandas.org/docs/user_guide/io.html\n",
    "# Wenn die Daten lokal agelegt sind, dann kannst Du folgendes machen:\n",
    "##input_stadtquartiere = r\"//szh.loc/ssz/data/GIS/Daten/Vektor/_aktuell/stzh.adm_statistische_quartiere_map.json\"\n",
    "##df_stadtquartiere = gpd.read_file(input_stadtquartiere)\n",
    "##df_stadtquartiere.head(2)\n",
    "#df_stadtkreise.dtypes\n",
    "\n",
    "geojson_url = \"https://www.ogd.stadt-zuerich.ch/wfs/geoportal/Statistische_Quartiere?service=WFS&version=1.1.0&request=GetFeature&outputFormat=GeoJSON&typename=adm_statistische_quartiere_map\"\n",
    "df_adm_statistische_quartiere_map = gpd.read_file(geojson_url)\n",
    "\n",
    "df_adm_statistische_quartiere_map.head(5)\n"
   ]
  },
  {
   "cell_type": "markdown",
   "metadata": {},
   "source": [
    "Joine die importierten statistischen Daten des aktuellen Jahres zum Geodatensatz:\n",
    "\n",
    "*Siehe dazu Doku zu [Geopandas](https://geopandas.org/docs/user_guide/mergingdata.html)*"
   ]
  },
  {
   "cell_type": "code",
   "execution_count": 154,
   "metadata": {},
   "outputs": [
    {
     "data": {
      "text/html": [
       "<div>\n",
       "<style scoped>\n",
       "    .dataframe tbody tr th:only-of-type {\n",
       "        vertical-align: middle;\n",
       "    }\n",
       "\n",
       "    .dataframe tbody tr th {\n",
       "        vertical-align: top;\n",
       "    }\n",
       "\n",
       "    .dataframe thead th {\n",
       "        text-align: right;\n",
       "    }\n",
       "</style>\n",
       "<table border=\"1\" class=\"dataframe\">\n",
       "  <thead>\n",
       "    <tr style=\"text-align: right;\">\n",
       "      <th></th>\n",
       "      <th></th>\n",
       "      <th></th>\n",
       "      <th></th>\n",
       "      <th>AnzBestWir</th>\n",
       "    </tr>\n",
       "    <tr>\n",
       "      <th>StichtagDatJahr</th>\n",
       "      <th>StichtagDatMM</th>\n",
       "      <th>QuarCd</th>\n",
       "      <th>QuarLang</th>\n",
       "      <th></th>\n",
       "    </tr>\n",
       "  </thead>\n",
       "  <tbody>\n",
       "    <tr>\n",
       "      <th rowspan=\"5\" valign=\"top\">2021</th>\n",
       "      <th rowspan=\"5\" valign=\"top\">11</th>\n",
       "      <th>11</th>\n",
       "      <th>Rathaus</th>\n",
       "      <td>3283</td>\n",
       "    </tr>\n",
       "    <tr>\n",
       "      <th>12</th>\n",
       "      <th>Hochschulen</th>\n",
       "      <td>718</td>\n",
       "    </tr>\n",
       "    <tr>\n",
       "      <th>13</th>\n",
       "      <th>Lindenhof</th>\n",
       "      <td>1033</td>\n",
       "    </tr>\n",
       "    <tr>\n",
       "      <th>14</th>\n",
       "      <th>City</th>\n",
       "      <td>835</td>\n",
       "    </tr>\n",
       "    <tr>\n",
       "      <th>21</th>\n",
       "      <th>Wollishofen</th>\n",
       "      <td>20002</td>\n",
       "    </tr>\n",
       "  </tbody>\n",
       "</table>\n",
       "</div>"
      ],
      "text/plain": [
       "                                                  AnzBestWir\n",
       "StichtagDatJahr StichtagDatMM QuarCd QuarLang               \n",
       "2021            11            11     Rathaus            3283\n",
       "                              12     Hochschulen         718\n",
       "                              13     Lindenhof          1033\n",
       "                              14     City                835\n",
       "                              21     Wollishofen       20002"
      ]
     },
     "execution_count": 154,
     "metadata": {},
     "output_type": "execute_result"
    }
   ],
   "source": [
    "akt_wbev_quart = data2betested.loc[\"2021-11\"].groupby(\n",
    "    ['StichtagDatJahr','StichtagDatMM','QuarCd','QuarLang']\n",
    ").agg(\n",
    "    {'AnzBestWir':'sum'}\n",
    ")\n",
    "akt_wbev_quart.head()\n"
   ]
  },
  {
   "cell_type": "code",
   "execution_count": 158,
   "metadata": {},
   "outputs": [
    {
     "data": {
      "text/html": [
       "<div>\n",
       "<style scoped>\n",
       "    .dataframe tbody tr th:only-of-type {\n",
       "        vertical-align: middle;\n",
       "    }\n",
       "\n",
       "    .dataframe tbody tr th {\n",
       "        vertical-align: top;\n",
       "    }\n",
       "\n",
       "    .dataframe thead th {\n",
       "        text-align: right;\n",
       "    }\n",
       "</style>\n",
       "<table border=\"1\" class=\"dataframe\">\n",
       "  <thead>\n",
       "    <tr style=\"text-align: right;\">\n",
       "      <th></th>\n",
       "      <th>geometry</th>\n",
       "      <th>QuarCd</th>\n",
       "      <th>qname</th>\n",
       "      <th>knr</th>\n",
       "      <th>AnzBestWir</th>\n",
       "    </tr>\n",
       "  </thead>\n",
       "  <tbody>\n",
       "    <tr>\n",
       "      <th>0</th>\n",
       "      <td>POLYGON ((8.55670 47.36406, 8.55682 47.36410, ...</td>\n",
       "      <td>73</td>\n",
       "      <td>Hirslanden</td>\n",
       "      <td>7</td>\n",
       "      <td>7342</td>\n",
       "    </tr>\n",
       "    <tr>\n",
       "      <th>1</th>\n",
       "      <td>POLYGON ((8.55670 47.36405, 8.55672 47.36403, ...</td>\n",
       "      <td>83</td>\n",
       "      <td>Weinegg</td>\n",
       "      <td>8</td>\n",
       "      <td>5564</td>\n",
       "    </tr>\n",
       "  </tbody>\n",
       "</table>\n",
       "</div>"
      ],
      "text/plain": [
       "                                            geometry  QuarCd       qname  knr  AnzBestWir\n",
       "0  POLYGON ((8.55670 47.36406, 8.55682 47.36410, ...      73  Hirslanden    7        7342\n",
       "1  POLYGON ((8.55670 47.36405, 8.55672 47.36403, ...      83     Weinegg    8        5564"
      ]
     },
     "execution_count": 158,
     "metadata": {},
     "output_type": "execute_result"
    }
   ],
   "source": [
    "# Rename attribute stznr to StatZoneSort, so the IDs have the same name\n",
    "stadtquartiere_shapes = df_adm_statistische_quartiere_map[['geometry', 'qnr', 'qname', 'knr']].rename(columns={'qnr': 'QuarCd'})\n",
    "\n",
    "# Merge with `merge` method on shared variable (stznr und StatZoneSort):\n",
    "stadtquartiere_shapes_joined = stadtquartiere_shapes.merge(akt_wbev_quart, on='QuarCd')\n",
    "\n",
    "stadtquartiere_shapes_joined.head(2)\n"
   ]
  },
  {
   "cell_type": "code",
   "execution_count": 159,
   "metadata": {},
   "outputs": [
    {
     "data": {
      "text/plain": [
       "<AxesSubplot:>"
      ]
     },
     "execution_count": 159,
     "metadata": {},
     "output_type": "execute_result"
    },
    {
     "data": {
      "image/png": "[encoded data removed]",
      "text/plain": [
       "<Figure size 432x288 with 1 Axes>"
      ]
     },
     "metadata": {
      "needs_background": "light"
     },
     "output_type": "display_data"
    },
    {
     "data": {
      "image/png": "[encoded data removed]",
      "text/plain": [
       "<Figure size 432x288 with 1 Axes>"
      ]
     },
     "metadata": {
      "needs_background": "light"
     },
     "output_type": "display_data"
    },
    {
     "data": {
      "image/png": "[encoded data removed]",
      "text/plain": [
       "<Figure size 432x288 with 1 Axes>"
      ]
     },
     "metadata": {
      "needs_background": "light"
     },
     "output_type": "display_data"
    }
   ],
   "source": [
    "# Plot by StatQuartiere\n",
    "# Weitere Schemes: scheme='quantiles', scheme='fisherjenks', scheme='natural_breaks',\n",
    "\n",
    "stadtquartiere_shapes_joined.plot(column='AnzBestWir', cmap='viridis', scheme='natural_breaks', legend=True )\n",
    "#scheme werte: https://matplotlib.org/2.0.2/users/colormaps.html\n",
    "\n",
    "stadtquartiere_shapes_joined.plot(column='AnzBestWir', cmap='plasma', scheme='fisherjenks', legend=True )\n",
    "#scheme werte: https://matplotlib.org/2.0.2/users/colormaps.html\n",
    "stadtquartiere_shapes_joined.plot(column='AnzBestWir', cmap='cool', scheme='quantiles', legend=True )\n",
    "#scheme werte: https://matplotlib.org/2.0.2/users/colormaps.html\n",
    "\n",
    "#\n",
    "#Neuere Gallerie: https://matplotlib.org/stable/gallery/index.html"
   ]
  },
  {
   "cell_type": "raw",
   "metadata": {},
   "source": [
    "fig, ax = plt.subplots(1, 1)\n",
    "\n",
    "statzonen_shapes_aktJahr.plot(column='AnzWhg', ax=ax, legend=True, legend_kwds={'label': \"Anzahl Personen\",'orientation': \"horizontal\"})\n"
   ]
  },
  {
   "cell_type": "markdown",
   "metadata": {},
   "source": [
    "Noch zu prüfen, folgendes schöne Beispiel: https://docs.bokeh.org/en/latest/docs/user_guide/interaction/legends.html\n",
    "\n",
    "Konkrete Beispiele von Bookeh in Jupyter NB: https://docs.bokeh.org/en/latest/docs/user_guide/jupyter.html"
   ]
  },
  {
   "cell_type": "markdown",
   "metadata": {},
   "source": [
    "**Sharepoint als gecheckt markieren!**"
   ]
  },
  {
   "cell_type": "markdown",
   "metadata": {},
   "source": [
    "Record auf Sharepoint: **[Link](http://kollaboration.intranet.stzh.ch/orga/ssz-produkte/Lists/SASA_Outputs/EditForm.aspx?ID=157&Source=%2Forga%2Fssz%2Dprodukte%2FLists%2FSASA%5FOutputs)**"
   ]
  },
  {
   "cell_type": "code",
   "execution_count": null,
   "metadata": {},
   "outputs": [],
   "source": []
  },
  {
   "cell_type": "raw",
   "metadata": {},
   "source": []
  },
  {
   "cell_type": "code",
   "execution_count": null,
   "metadata": {},
   "outputs": [],
   "source": []
  }
 ],
 "metadata": {
  "kernelspec": {
   "display_name": "Python 3 (ipykernel)",
   "language": "python",
   "name": "python3"
  },
  "language_info": {
   "codemirror_mode": {
    "name": "ipython",
    "version": 3
   },
   "file_extension": ".py",
   "mimetype": "text/x-python",
   "name": "python",
   "nbconvert_exporter": "python",
   "pygments_lexer": "ipython3",
   "version": "3.9.7"
  }
 },
 "nbformat": 4,
 "nbformat_minor": 4
}
