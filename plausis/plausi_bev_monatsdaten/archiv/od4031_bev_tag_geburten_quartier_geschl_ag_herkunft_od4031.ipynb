{
 "cells": [
  {
   "cell_type": "markdown",
   "metadata": {},
   "source": [
    "# Testing\n",
    "## Geburten nach Tag, Stadtquartier, Geschlecht, Altersgruppe und Herkunft, seit 1998\n",
    "Datum: 20.01.2022"
   ]
  },
  {
   "cell_type": "markdown",
   "metadata": {},
   "source": [
    "### Importiere die notwendigen Packages"
   ]
  },
  {
   "cell_type": "code",
   "execution_count": 5,
   "metadata": {},
   "outputs": [],
   "source": [
    "import pandas as pd\n",
    "import pivottablejs\n",
    "from pivottablejs import pivot_ui\n",
    "import numpy as np\n",
    "import altair as alt\n",
    "import matplotlib.pyplot as plt\n",
    "#from datetime import datetime\n",
    "import datetime\n",
    "from dateutil.relativedelta import *\n",
    "import geopandas as gpd\n",
    "import folium \n",
    "import plotly.express as px\n"
   ]
  },
  {
   "cell_type": "markdown",
   "metadata": {},
   "source": [
    "Definiere Settings. Hier das Zahlenformat von Float-Werten (z.B. *'{:,.2f}'.format* mit Komma als Tausenderzeichen), "
   ]
  },
  {
   "cell_type": "code",
   "execution_count": 6,
   "metadata": {},
   "outputs": [],
   "source": [
    "pd.options.display.float_format = '{:.0f}'.format\n",
    "pd.set_option('display.width', 100)\n",
    "pd.set_option('display.max_columns', 15)"
   ]
  },
  {
   "cell_type": "markdown",
   "metadata": {},
   "source": [
    "### Zeitvariabeln\n",
    "Bestimme den aktuellst geladenen Monat. Hier ist es der Stand vor 2 Monaten. \n",
    "Bestimme noch weitere evt. sinnvolle Zeitvariabeln.\n",
    "\n",
    "Zum Unterschied zwischen import datetime und from datedtime import datetime, siehe https://stackoverflow.com/questions/15707532/import-datetime-v-s-from-datetime-import-datetime\n",
    "\n",
    "#### Zuerst die generellen Zeitvariabeln als Strings"
   ]
  },
  {
   "cell_type": "code",
   "execution_count": 7,
   "metadata": {},
   "outputs": [],
   "source": [
    "#today_date = datetime.date.today()\n",
    "#date_time = datetime.datetime.strptime(date_time_string, '%Y-%m-%d %H:%M')\n",
    "now = datetime.date.today()\n",
    "date_today = now.strftime(\"%Y-%m-%d\")\n",
    "year_today = now.strftime(\"%Y\")\n",
    "year_month_today = now.strftime(\"%Y-%m\")\n",
    "month_today = now.strftime(\"%Y\")\n",
    "day_today = now.strftime(\"%d\")"
   ]
  },
  {
   "cell_type": "markdown",
   "metadata": {},
   "source": [
    "#### Die zu testenden Zeitvariabeln als Strings\n",
    "\n",
    "Hier mal die folgenden:\n",
    "- `latest_year_month`: Der aktuellste Datenstand sollte ja immer der heutige Monat minus 2 sein.\n",
    "- `latest_year`: Der aktuellste Datenstand sollte ja immer der heutige Monat minus 2 sein. Hier wird das damalige Jahr angegeben.\n",
    "- `five_years_ago`: Und damit nicht immer alle Zeitreihen geprüft werden müssen, kann auch das Jahr vor 5 Jahren definiert werden."
   ]
  },
  {
   "cell_type": "code",
   "execution_count": 8,
   "metadata": {},
   "outputs": [
    {
     "name": "stdout",
     "output_type": "stream",
     "text": [
      "2022-03\n",
      "2022\n",
      "2017\n"
     ]
    }
   ],
   "source": [
    "#from datetime import datetime, timedelta\n",
    "#from dateutil.relativedelta import *\n",
    "\n",
    "latest_year_month = now + relativedelta(months=-2)\n",
    "latest_year_month = latest_year_month.strftime(\"%Y-%m\")\n",
    "print(latest_year_month)\n",
    "\n",
    "latest_year = now + relativedelta(months=-2)\n",
    "latest_year = latest_year.strftime(\"%Y\")\n",
    "print(latest_year)\n",
    "\n",
    "five_years_ago  = now + relativedelta(years=-5)\n",
    "five_years_ago = five_years_ago.strftime(\"%Y\")\n",
    "print(five_years_ago)"
   ]
  },
  {
   "cell_type": "markdown",
   "metadata": {},
   "source": [
    "#### Und hier noch die Zeitvariabeln als Integers:\n",
    "- `aktuellesJahr`\n",
    "- `aktuellerMonat`: Der gerade jetzt aktuelle Monat\n",
    "- `selectedMonat`: Der aktuellste Monat in den Daten. In der Regel zwei Monate her."
   ]
  },
  {
   "cell_type": "code",
   "execution_count": 9,
   "metadata": {},
   "outputs": [
    {
     "name": "stdout",
     "output_type": "stream",
     "text": [
      "2022 5 datenstand:  3 time.struct_time(tm_year=2022, tm_mon=5, tm_mday=12, tm_hour=0, tm_min=0, tm_sec=0, tm_wday=3, tm_yday=132, tm_isdst=-1)\n"
     ]
    }
   ],
   "source": [
    "#now = datetime.now() \n",
    "int_times = now.timetuple()\n",
    "\n",
    "aktuellesJahr = int_times[0]\n",
    "aktuellerMonat = int_times[1]\n",
    "selectedMonat = int_times[1]-2\n",
    "\n",
    "print(aktuellesJahr, \n",
    "      aktuellerMonat,\n",
    "    'datenstand: ', selectedMonat,\n",
    "     int_times)\n"
   ]
  },
  {
   "cell_type": "markdown",
   "metadata": {},
   "source": [
    "Berechne die Variable Epoche um später das SAS-Datum in ein Unix-Datum umzuwandeln. Bei SAS beginnt die Epoche am 1.1.1960. Bei Unix am 1.1.1970.\n",
    "Diese Variable wird beim CSV-Import benötigt."
   ]
  },
  {
   "cell_type": "code",
   "execution_count": 10,
   "metadata": {
    "tags": []
   },
   "outputs": [],
   "source": [
    "epoch = datetime.datetime(1960, 1, 1)"
   ]
  },
  {
   "cell_type": "markdown",
   "metadata": {},
   "source": [
    "Und hier noch die Zeitvariabeln als Integers:\n",
    "- `aktuellesJahr`\n",
    "- `aktuellerMonat`: Der gerade jetzt aktuelle Monat\n",
    "- `selectedMonat`: Der aktuellste Monat in den Daten. In der Regel zwei Monate her."
   ]
  },
  {
   "cell_type": "code",
   "execution_count": 11,
   "metadata": {},
   "outputs": [
    {
     "name": "stdout",
     "output_type": "stream",
     "text": [
      "2022 5 datenstand:  3 time.struct_time(tm_year=2022, tm_mon=5, tm_mday=12, tm_hour=0, tm_min=0, tm_sec=0, tm_wday=3, tm_yday=132, tm_isdst=-1)\n"
     ]
    }
   ],
   "source": [
    "#now = datetime.now() \n",
    "int_times = now.timetuple()\n",
    "\n",
    "aktuellesJahr = int_times[0]\n",
    "aktuellerMonat = int_times[1]\n",
    "selectedMonat = int_times[1]-2\n",
    "\n",
    "print(aktuellesJahr, \n",
    "      aktuellerMonat,\n",
    "    'datenstand: ', selectedMonat,\n",
    "     int_times)\n"
   ]
  },
  {
   "cell_type": "markdown",
   "metadata": {},
   "source": [
    "Berechne die Variable Epoche um später das SAS-Datum in ein Unix-Datum umzuwandeln. Bei SAS beginnt die Epoche am 1.1.1960. Bei Unix am 1.1.1970.\n",
    "Diese Variable wird beim CSV-Import benötigt."
   ]
  },
  {
   "cell_type": "code",
   "execution_count": 12,
   "metadata": {},
   "outputs": [],
   "source": [
    "epoch = datetime.datetime(1960, 1, 1)"
   ]
  },
  {
   "cell_type": "markdown",
   "metadata": {
    "tags": []
   },
   "source": [
    "### Importiere einen Datensatz \n",
    "\n",
    "- Beachte dabei die Notation des Pfades...\n",
    "- Definiere mal aktuell noch keine weiteren Parameter beim Import"
   ]
  },
  {
   "cell_type": "markdown",
   "metadata": {},
   "source": [
    "**Dataset auf INTEG Datenkatalog**:  https://data.integ.stadt-zuerich.ch/dataset/int_dwh_bev_tag_geburten_quartier_geschl_ag_herkunft_od403\n",
    "\n",
    "**Dataset auf PROD Datenkatalog**:  https://data.stadt-zuerich.ch/dataset/bev_tag_geburten_quartier_geschl_ag_herkunft_od403"
   ]
  },
  {
   "cell_type": "code",
   "execution_count": 13,
   "metadata": {},
   "outputs": [
    {
     "name": "stdout",
     "output_type": "stream",
     "text": [
      "integ\n"
     ]
    }
   ],
   "source": [
    "#Die Datasets sind nur zum Testen auf INT-DWH-Dropzone. Wenn der Test vorbei ist, sind sie auf PROD. \n",
    "# Über den Status kann man einfach switchen\n",
    "\n",
    "status = \"integ\";\n",
    "print(status)"
   ]
  },
  {
   "cell_type": "code",
   "execution_count": 14,
   "metadata": {
    "tags": []
   },
   "outputs": [
    {
     "name": "stdout",
     "output_type": "stream",
     "text": [
      "\\\\szh\\ssz\\applikationen\\OGD_Dropzone\\INT_DWH\\bev_tag_geburten_quartier_geschl_ag_herkunft_od4031\\BEV403OD4031.csv\n"
     ]
    }
   ],
   "source": [
    "# Filepath\n",
    "if status == \"prod\":\n",
    "    #fp = r\"//szh.loc/ssz/applikationen/OGD_Dropzone/DWH/bev_monat_bestand_quartier_geschl_ag_herkunft_od3250/BEV325OD3250.csv\"\n",
    "    fp = r\"https://data.stadt-zuerich.ch/dataset/bev_tag_geburten_quartier_geschl_ag_herkunft_od4031/download/BEV403OD4031.csv\"\n",
    "else:\n",
    "    fp = r\"\\\\szh\\ssz\\applikationen\\OGD_Dropzone\\INT_DWH\\bev_tag_geburten_quartier_geschl_ag_herkunft_od4031\\BEV403OD4031.csv\" #tag todesfälle\n",
    "  #fp = r\"https://data.integ.stadt-zuerich.ch/dataset/int_dwh_bev_tag_todesfaelle_quartier_geschl_ag_herkunft_od4211/download/BEV421OD4211.csv\"\n",
    "\n",
    "\n",
    "print(fp)"
   ]
  },
  {
   "cell_type": "markdown",
   "metadata": {},
   "source": [
    "Beachte, wie das SAS Datum (ohne Format) in ein UNIX Datum umgerechnet und als Datumsformat dargestellt wird! Siehe dazu `https://stackoverflow.com/questions/26923564/convert-sas-numeric-to-python-datetime`"
   ]
  },
  {
   "cell_type": "code",
   "execution_count": 15,
   "metadata": {},
   "outputs": [
    {
     "name": "stdout",
     "output_type": "stream",
     "text": [
      "done\n"
     ]
    }
   ],
   "source": [
    "# Read the data\n",
    "data2betested = pd.read_csv(\n",
    "    fp, \n",
    "    sep=',',\n",
    "    parse_dates=['GueltigAbDat'],\n",
    "    # KONVERTIERE DAS SAS DATUM IN EIN UNIXDATUM UND FORMATIERE ES\n",
    "    date_parser=lambda s: epoch + datetime.timedelta(days=int(s)),\n",
    "    low_memory=False    \n",
    "    )\n",
    "\n",
    "print('done')"
   ]
  },
  {
   "cell_type": "markdown",
   "metadata": {},
   "source": [
    "In der Folge ein paar erste Tests:"
   ]
  },
  {
   "cell_type": "markdown",
   "metadata": {},
   "source": [
    " - 1) Zeige eine kurze Vorschau der importierten Daten\n",
    " - 2) Weise die Datentypen aus\n",
    " - 3) Zeige die Shape (Umfang) des Datensatzes an"
   ]
  },
  {
   "cell_type": "code",
   "execution_count": 16,
   "metadata": {},
   "outputs": [
    {
     "data": {
      "text/html": [
       "<div>\n",
       "<style scoped>\n",
       "    .dataframe tbody tr th:only-of-type {\n",
       "        vertical-align: middle;\n",
       "    }\n",
       "\n",
       "    .dataframe tbody tr th {\n",
       "        vertical-align: top;\n",
       "    }\n",
       "\n",
       "    .dataframe thead th {\n",
       "        text-align: right;\n",
       "    }\n",
       "</style>\n",
       "<table border=\"1\" class=\"dataframe\">\n",
       "  <thead>\n",
       "    <tr style=\"text-align: right;\">\n",
       "      <th></th>\n",
       "      <th>GueltigAbDatJahr</th>\n",
       "      <th>GueltigAbDatMM</th>\n",
       "      <th>GueltigAbDatDD</th>\n",
       "      <th>GueltigAbDat</th>\n",
       "      <th>SexCd</th>\n",
       "      <th>SexLang</th>\n",
       "      <th>HerkunftCd</th>\n",
       "      <th>HerkunftLang</th>\n",
       "      <th>KreisCd</th>\n",
       "      <th>KreisLang</th>\n",
       "      <th>QuarCd</th>\n",
       "      <th>QuarLang</th>\n",
       "      <th>DatenstandCd</th>\n",
       "      <th>DatenstandLang</th>\n",
       "      <th>AnzGebuWir</th>\n",
       "    </tr>\n",
       "  </thead>\n",
       "  <tbody>\n",
       "    <tr>\n",
       "      <th>98587</th>\n",
       "      <td>2022</td>\n",
       "      <td>3</td>\n",
       "      <td>1</td>\n",
       "      <td>2022-03-01</td>\n",
       "      <td>1</td>\n",
       "      <td>männlich</td>\n",
       "      <td>1</td>\n",
       "      <td>Schweizer/in</td>\n",
       "      <td>3</td>\n",
       "      <td>Kreis 3</td>\n",
       "      <td>31</td>\n",
       "      <td>Alt-Wiedikon</td>\n",
       "      <td>P</td>\n",
       "      <td>Provisorisch</td>\n",
       "      <td>1</td>\n",
       "    </tr>\n",
       "    <tr>\n",
       "      <th>98588</th>\n",
       "      <td>2022</td>\n",
       "      <td>3</td>\n",
       "      <td>1</td>\n",
       "      <td>2022-03-01</td>\n",
       "      <td>1</td>\n",
       "      <td>männlich</td>\n",
       "      <td>1</td>\n",
       "      <td>Schweizer/in</td>\n",
       "      <td>7</td>\n",
       "      <td>Kreis 7</td>\n",
       "      <td>73</td>\n",
       "      <td>Hirslanden</td>\n",
       "      <td>P</td>\n",
       "      <td>Provisorisch</td>\n",
       "      <td>1</td>\n",
       "    </tr>\n",
       "    <tr>\n",
       "      <th>98589</th>\n",
       "      <td>2022</td>\n",
       "      <td>3</td>\n",
       "      <td>1</td>\n",
       "      <td>2022-03-01</td>\n",
       "      <td>1</td>\n",
       "      <td>männlich</td>\n",
       "      <td>1</td>\n",
       "      <td>Schweizer/in</td>\n",
       "      <td>8</td>\n",
       "      <td>Kreis 8</td>\n",
       "      <td>82</td>\n",
       "      <td>Mühlebach</td>\n",
       "      <td>P</td>\n",
       "      <td>Provisorisch</td>\n",
       "      <td>1</td>\n",
       "    </tr>\n",
       "  </tbody>\n",
       "</table>\n",
       "</div>"
      ],
      "text/plain": [
       "       GueltigAbDatJahr  GueltigAbDatMM  GueltigAbDatDD GueltigAbDat  SexCd   SexLang  HerkunftCd  \\\n",
       "98587              2022               3               1   2022-03-01      1  männlich           1   \n",
       "98588              2022               3               1   2022-03-01      1  männlich           1   \n",
       "98589              2022               3               1   2022-03-01      1  männlich           1   \n",
       "\n",
       "       HerkunftLang  KreisCd KreisLang  QuarCd      QuarLang DatenstandCd DatenstandLang  \\\n",
       "98587  Schweizer/in        3   Kreis 3      31  Alt-Wiedikon            P   Provisorisch   \n",
       "98588  Schweizer/in        7   Kreis 7      73    Hirslanden            P   Provisorisch   \n",
       "98589  Schweizer/in        8   Kreis 8      82     Mühlebach            P   Provisorisch   \n",
       "\n",
       "       AnzGebuWir  \n",
       "98587           1  \n",
       "98588           1  \n",
       "98589           1  "
      ]
     },
     "execution_count": 16,
     "metadata": {},
     "output_type": "execute_result"
    }
   ],
   "source": [
    "data2betested.sort_values(by=['GueltigAbDatJahr','GueltigAbDatMM'], ascending=False).head(3)"
   ]
  },
  {
   "cell_type": "code",
   "execution_count": 17,
   "metadata": {},
   "outputs": [
    {
     "data": {
      "text/plain": [
       "GueltigAbDatJahr             int64\n",
       "GueltigAbDatMM               int64\n",
       "GueltigAbDatDD               int64\n",
       "GueltigAbDat        datetime64[ns]\n",
       "SexCd                        int64\n",
       "SexLang                     object\n",
       "HerkunftCd                   int64\n",
       "HerkunftLang                object\n",
       "KreisCd                      int64\n",
       "KreisLang                   object\n",
       "QuarCd                       int64\n",
       "QuarLang                    object\n",
       "DatenstandCd                object\n",
       "DatenstandLang              object\n",
       "AnzGebuWir                   int64\n",
       "dtype: object"
      ]
     },
     "execution_count": 17,
     "metadata": {},
     "output_type": "execute_result"
    }
   ],
   "source": [
    "data2betested.dtypes"
   ]
  },
  {
   "cell_type": "code",
   "execution_count": 18,
   "metadata": {},
   "outputs": [
    {
     "data": {
      "text/plain": [
       "(98844, 15)"
      ]
     },
     "execution_count": 18,
     "metadata": {},
     "output_type": "execute_result"
    }
   ],
   "source": [
    "data2betested.shape"
   ]
  },
  {
   "cell_type": "markdown",
   "metadata": {},
   "source": [
    "Beschreibe einzelne Attribute"
   ]
  },
  {
   "cell_type": "code",
   "execution_count": 19,
   "metadata": {},
   "outputs": [
    {
     "data": {
      "text/html": [
       "<div>\n",
       "<style scoped>\n",
       "    .dataframe tbody tr th:only-of-type {\n",
       "        vertical-align: middle;\n",
       "    }\n",
       "\n",
       "    .dataframe tbody tr th {\n",
       "        vertical-align: top;\n",
       "    }\n",
       "\n",
       "    .dataframe thead th {\n",
       "        text-align: right;\n",
       "    }\n",
       "</style>\n",
       "<table border=\"1\" class=\"dataframe\">\n",
       "  <thead>\n",
       "    <tr style=\"text-align: right;\">\n",
       "      <th></th>\n",
       "      <th>GueltigAbDatJahr</th>\n",
       "      <th>GueltigAbDatMM</th>\n",
       "      <th>GueltigAbDatDD</th>\n",
       "      <th>SexCd</th>\n",
       "      <th>HerkunftCd</th>\n",
       "      <th>KreisCd</th>\n",
       "      <th>QuarCd</th>\n",
       "      <th>AnzGebuWir</th>\n",
       "    </tr>\n",
       "  </thead>\n",
       "  <tbody>\n",
       "    <tr>\n",
       "      <th>count</th>\n",
       "      <td>98844</td>\n",
       "      <td>98844</td>\n",
       "      <td>98844</td>\n",
       "      <td>98844</td>\n",
       "      <td>98844</td>\n",
       "      <td>98844</td>\n",
       "      <td>98844</td>\n",
       "      <td>98844</td>\n",
       "    </tr>\n",
       "    <tr>\n",
       "      <th>mean</th>\n",
       "      <td>2011</td>\n",
       "      <td>6</td>\n",
       "      <td>16</td>\n",
       "      <td>1</td>\n",
       "      <td>1</td>\n",
       "      <td>7</td>\n",
       "      <td>75</td>\n",
       "      <td>1</td>\n",
       "    </tr>\n",
       "    <tr>\n",
       "      <th>std</th>\n",
       "      <td>7</td>\n",
       "      <td>3</td>\n",
       "      <td>9</td>\n",
       "      <td>0</td>\n",
       "      <td>0</td>\n",
       "      <td>3</td>\n",
       "      <td>34</td>\n",
       "      <td>0</td>\n",
       "    </tr>\n",
       "    <tr>\n",
       "      <th>min</th>\n",
       "      <td>1998</td>\n",
       "      <td>1</td>\n",
       "      <td>1</td>\n",
       "      <td>1</td>\n",
       "      <td>1</td>\n",
       "      <td>1</td>\n",
       "      <td>11</td>\n",
       "      <td>1</td>\n",
       "    </tr>\n",
       "    <tr>\n",
       "      <th>25%</th>\n",
       "      <td>2005</td>\n",
       "      <td>4</td>\n",
       "      <td>8</td>\n",
       "      <td>1</td>\n",
       "      <td>1</td>\n",
       "      <td>4</td>\n",
       "      <td>42</td>\n",
       "      <td>1</td>\n",
       "    </tr>\n",
       "    <tr>\n",
       "      <th>50%</th>\n",
       "      <td>2011</td>\n",
       "      <td>7</td>\n",
       "      <td>16</td>\n",
       "      <td>1</td>\n",
       "      <td>1</td>\n",
       "      <td>8</td>\n",
       "      <td>81</td>\n",
       "      <td>1</td>\n",
       "    </tr>\n",
       "    <tr>\n",
       "      <th>75%</th>\n",
       "      <td>2016</td>\n",
       "      <td>9</td>\n",
       "      <td>23</td>\n",
       "      <td>2</td>\n",
       "      <td>2</td>\n",
       "      <td>10</td>\n",
       "      <td>102</td>\n",
       "      <td>1</td>\n",
       "    </tr>\n",
       "    <tr>\n",
       "      <th>max</th>\n",
       "      <td>2022</td>\n",
       "      <td>12</td>\n",
       "      <td>31</td>\n",
       "      <td>2</td>\n",
       "      <td>2</td>\n",
       "      <td>12</td>\n",
       "      <td>123</td>\n",
       "      <td>5</td>\n",
       "    </tr>\n",
       "  </tbody>\n",
       "</table>\n",
       "</div>"
      ],
      "text/plain": [
       "       GueltigAbDatJahr  GueltigAbDatMM  GueltigAbDatDD  SexCd  HerkunftCd  KreisCd  QuarCd  \\\n",
       "count             98844           98844           98844  98844       98844    98844   98844   \n",
       "mean               2011               6              16      1           1        7      75   \n",
       "std                   7               3               9      0           0        3      34   \n",
       "min                1998               1               1      1           1        1      11   \n",
       "25%                2005               4               8      1           1        4      42   \n",
       "50%                2011               7              16      1           1        8      81   \n",
       "75%                2016               9              23      2           2       10     102   \n",
       "max                2022              12              31      2           2       12     123   \n",
       "\n",
       "       AnzGebuWir  \n",
       "count       98844  \n",
       "mean            1  \n",
       "std             0  \n",
       "min             1  \n",
       "25%             1  \n",
       "50%             1  \n",
       "75%             1  \n",
       "max             5  "
      ]
     },
     "execution_count": 19,
     "metadata": {},
     "output_type": "execute_result"
    }
   ],
   "source": [
    "data2betested.describe()"
   ]
  },
  {
   "cell_type": "markdown",
   "metadata": {},
   "source": [
    "Wie viele Nullwerte gibt es im Datensatz?"
   ]
  },
  {
   "cell_type": "code",
   "execution_count": 20,
   "metadata": {
    "scrolled": true
   },
   "outputs": [
    {
     "data": {
      "text/plain": [
       "GueltigAbDatJahr    0\n",
       "GueltigAbDatMM      0\n",
       "GueltigAbDatDD      0\n",
       "GueltigAbDat        0\n",
       "SexCd               0\n",
       "SexLang             0\n",
       "HerkunftCd          0\n",
       "HerkunftLang        0\n",
       "KreisCd             0\n",
       "KreisLang           0\n",
       "QuarCd              0\n",
       "QuarLang            0\n",
       "DatenstandCd        0\n",
       "DatenstandLang      0\n",
       "AnzGebuWir          0\n",
       "dtype: int64"
      ]
     },
     "execution_count": 20,
     "metadata": {},
     "output_type": "execute_result"
    }
   ],
   "source": [
    "data2betested.isnull().sum()"
   ]
  },
  {
   "cell_type": "markdown",
   "metadata": {
    "colab_type": "text",
    "id": "1dTPVmmsgOVx"
   },
   "source": [
    "### Verwende das Datum als Index\n",
    "\n",
    "While we did already parse the `datetime` column into the respective datetime type, it currently is just a regular column. \n",
    "**To enable quick and convenient queries and aggregations, we need to turn it into the index of the DataFrame**"
   ]
  },
  {
   "cell_type": "code",
   "execution_count": 21,
   "metadata": {},
   "outputs": [],
   "source": [
    "data2betested = data2betested.set_index(\"GueltigAbDat\")\n",
    "#data2betested = data2betested.drop(columns=[\"StichtagDatMM\"])"
   ]
  },
  {
   "cell_type": "code",
   "execution_count": 22,
   "metadata": {},
   "outputs": [
    {
     "name": "stdout",
     "output_type": "stream",
     "text": [
      "<class 'pandas.core.frame.DataFrame'>\n",
      "DatetimeIndex: 98844 entries, 1998-01-01 to 2022-03-31\n",
      "Data columns (total 14 columns):\n",
      " #   Column            Non-Null Count  Dtype \n",
      "---  ------            --------------  ----- \n",
      " 0   GueltigAbDatJahr  98844 non-null  int64 \n",
      " 1   GueltigAbDatMM    98844 non-null  int64 \n",
      " 2   GueltigAbDatDD    98844 non-null  int64 \n",
      " 3   SexCd             98844 non-null  int64 \n",
      " 4   SexLang           98844 non-null  object\n",
      " 5   HerkunftCd        98844 non-null  int64 \n",
      " 6   HerkunftLang      98844 non-null  object\n",
      " 7   KreisCd           98844 non-null  int64 \n",
      " 8   KreisLang         98844 non-null  object\n",
      " 9   QuarCd            98844 non-null  int64 \n",
      " 10  QuarLang          98844 non-null  object\n",
      " 11  DatenstandCd      98844 non-null  object\n",
      " 12  DatenstandLang    98844 non-null  object\n",
      " 13  AnzGebuWir        98844 non-null  int64 \n",
      "dtypes: int64(8), object(6)\n",
      "memory usage: 11.3+ MB\n"
     ]
    },
    {
     "data": {
      "text/plain": [
       "Int64Index([ 1,  2,  3,  4,  5,  6,  7,  8,  9, 10, 11, 12, 13, 14, 15, 16, 17, 18, 19, 20, 21, 22,\n",
       "            23, 24, 25, 26, 27, 28, 29, 30, 31],\n",
       "           dtype='int64', name='GueltigAbDat')"
      ]
     },
     "execution_count": 22,
     "metadata": {},
     "output_type": "execute_result"
    }
   ],
   "source": [
    "data2betested.info()\n",
    "data2betested.index.day.unique()"
   ]
  },
  {
   "cell_type": "markdown",
   "metadata": {},
   "source": [
    "### Einfache Visualisierungen zur Plausi"
   ]
  },
  {
   "cell_type": "markdown",
   "metadata": {},
   "source": [
    "Exploriere die Daten mit Pivottable.JS"
   ]
  },
  {
   "cell_type": "code",
   "execution_count": 56,
   "metadata": {},
   "outputs": [
    {
     "data": {
      "text/html": [
       "\n",
       "        <iframe\n",
       "            width=\"100%\"\n",
       "            height=\"500\"\n",
       "            src=\"pivottablejs.html\"\n",
       "            frameborder=\"0\"\n",
       "            allowfullscreen\n",
       "        ></iframe>\n",
       "        "
      ],
      "text/plain": [
       "<IPython.lib.display.IFrame at 0x242821ef550>"
      ]
     },
     "execution_count": 56,
     "metadata": {},
     "output_type": "execute_result"
    }
   ],
   "source": [
    "from pivottablejs import pivot_ui\n",
    "\n",
    "pivot_ui(data2betested)"
   ]
  },
  {
   "cell_type": "markdown",
   "metadata": {},
   "source": [
    "### Zeitpunkte und Zeiträume abfragen\n",
    "\n",
    "A particular powerful feature of the Pandas DataFrame is its indexing capability that also works using time-based entities, such as dates and times. We have already created the index above, so let's put it to use."
   ]
  },
  {
   "cell_type": "code",
   "execution_count": 23,
   "metadata": {},
   "outputs": [
    {
     "data": {
      "text/html": [
       "<div>\n",
       "<style scoped>\n",
       "    .dataframe tbody tr th:only-of-type {\n",
       "        vertical-align: middle;\n",
       "    }\n",
       "\n",
       "    .dataframe tbody tr th {\n",
       "        vertical-align: top;\n",
       "    }\n",
       "\n",
       "    .dataframe thead th {\n",
       "        text-align: right;\n",
       "    }\n",
       "</style>\n",
       "<table border=\"1\" class=\"dataframe\">\n",
       "  <thead>\n",
       "    <tr style=\"text-align: right;\">\n",
       "      <th></th>\n",
       "      <th>GueltigAbDatJahr</th>\n",
       "      <th>GueltigAbDatMM</th>\n",
       "      <th>GueltigAbDatDD</th>\n",
       "      <th>SexCd</th>\n",
       "      <th>SexLang</th>\n",
       "      <th>HerkunftCd</th>\n",
       "      <th>HerkunftLang</th>\n",
       "      <th>KreisCd</th>\n",
       "      <th>KreisLang</th>\n",
       "      <th>QuarCd</th>\n",
       "      <th>QuarLang</th>\n",
       "      <th>DatenstandCd</th>\n",
       "      <th>DatenstandLang</th>\n",
       "      <th>AnzGebuWir</th>\n",
       "    </tr>\n",
       "    <tr>\n",
       "      <th>GueltigAbDat</th>\n",
       "      <th></th>\n",
       "      <th></th>\n",
       "      <th></th>\n",
       "      <th></th>\n",
       "      <th></th>\n",
       "      <th></th>\n",
       "      <th></th>\n",
       "      <th></th>\n",
       "      <th></th>\n",
       "      <th></th>\n",
       "      <th></th>\n",
       "      <th></th>\n",
       "      <th></th>\n",
       "      <th></th>\n",
       "    </tr>\n",
       "  </thead>\n",
       "  <tbody>\n",
       "    <tr>\n",
       "      <th>2022-03-01</th>\n",
       "      <td>2022</td>\n",
       "      <td>3</td>\n",
       "      <td>1</td>\n",
       "      <td>1</td>\n",
       "      <td>männlich</td>\n",
       "      <td>1</td>\n",
       "      <td>Schweizer/in</td>\n",
       "      <td>3</td>\n",
       "      <td>Kreis 3</td>\n",
       "      <td>31</td>\n",
       "      <td>Alt-Wiedikon</td>\n",
       "      <td>P</td>\n",
       "      <td>Provisorisch</td>\n",
       "      <td>1</td>\n",
       "    </tr>\n",
       "    <tr>\n",
       "      <th>2022-03-01</th>\n",
       "      <td>2022</td>\n",
       "      <td>3</td>\n",
       "      <td>1</td>\n",
       "      <td>1</td>\n",
       "      <td>männlich</td>\n",
       "      <td>1</td>\n",
       "      <td>Schweizer/in</td>\n",
       "      <td>7</td>\n",
       "      <td>Kreis 7</td>\n",
       "      <td>73</td>\n",
       "      <td>Hirslanden</td>\n",
       "      <td>P</td>\n",
       "      <td>Provisorisch</td>\n",
       "      <td>1</td>\n",
       "    </tr>\n",
       "  </tbody>\n",
       "</table>\n",
       "</div>"
      ],
      "text/plain": [
       "              GueltigAbDatJahr  GueltigAbDatMM  GueltigAbDatDD  SexCd   SexLang  HerkunftCd  \\\n",
       "GueltigAbDat                                                                                  \n",
       "2022-03-01                2022               3               1      1  männlich           1   \n",
       "2022-03-01                2022               3               1      1  männlich           1   \n",
       "\n",
       "              HerkunftLang  KreisCd KreisLang  QuarCd      QuarLang DatenstandCd DatenstandLang  \\\n",
       "GueltigAbDat                                                                                      \n",
       "2022-03-01    Schweizer/in        3   Kreis 3      31  Alt-Wiedikon            P   Provisorisch   \n",
       "2022-03-01    Schweizer/in        7   Kreis 7      73    Hirslanden            P   Provisorisch   \n",
       "\n",
       "              AnzGebuWir  \n",
       "GueltigAbDat              \n",
       "2022-03-01             1  \n",
       "2022-03-01             1  "
      ]
     },
     "execution_count": 23,
     "metadata": {},
     "output_type": "execute_result"
    }
   ],
   "source": [
    "data2betested.loc[latest_year_month].head(2)\n"
   ]
  },
  {
   "cell_type": "markdown",
   "metadata": {},
   "source": [
    "### Aggriere Werte nach Zeitausschnitten\n",
    "\n",
    "Mit den Funktionen zur Zeit kann einfach zwischen Stunden, Tagen, Monaten, etc. gewechselt und aggregiert werden.\n",
    "Da die Daten bereits aggregiert nach Monaten sind, macht das hier keinen Sinn.\n",
    "Untenstehendes also nur als BSP\n"
   ]
  },
  {
   "cell_type": "code",
   "execution_count": 24,
   "metadata": {},
   "outputs": [
    {
     "data": {
      "text/html": [
       "<div>\n",
       "<style scoped>\n",
       "    .dataframe tbody tr th:only-of-type {\n",
       "        vertical-align: middle;\n",
       "    }\n",
       "\n",
       "    .dataframe tbody tr th {\n",
       "        vertical-align: top;\n",
       "    }\n",
       "\n",
       "    .dataframe thead th {\n",
       "        text-align: right;\n",
       "    }\n",
       "</style>\n",
       "<table border=\"1\" class=\"dataframe\">\n",
       "  <thead>\n",
       "    <tr style=\"text-align: right;\">\n",
       "      <th></th>\n",
       "      <th>SexCd</th>\n",
       "      <th>AnzGebuWir</th>\n",
       "    </tr>\n",
       "    <tr>\n",
       "      <th>GueltigAbDat</th>\n",
       "      <th></th>\n",
       "      <th></th>\n",
       "    </tr>\n",
       "  </thead>\n",
       "  <tbody>\n",
       "    <tr>\n",
       "      <th>1998-03-31</th>\n",
       "      <td>1234</td>\n",
       "      <td>897</td>\n",
       "    </tr>\n",
       "  </tbody>\n",
       "</table>\n",
       "</div>"
      ],
      "text/plain": [
       "              SexCd  AnzGebuWir\n",
       "GueltigAbDat                   \n",
       "1998-03-31     1234         897"
      ]
     },
     "execution_count": 24,
     "metadata": {},
     "output_type": "execute_result"
    }
   ],
   "source": [
    "# first we create the sums per week\n",
    "weekly_sums = data2betested.resample(\"W\").sum()\n",
    "# then we generate the weekly means for each quarter\n",
    "data2betested_sel = data2betested[[\"SexCd\",\"KreisLang\",\"AnzGebuWir\"]]\n",
    "quarterly_sums = data2betested_sel.resample(\"Q\").sum()\n",
    "# for readability we'll revert the values back to integers\n",
    "quarterly_sums.astype(int).head(1)"
   ]
  },
  {
   "cell_type": "markdown",
   "metadata": {},
   "source": [
    "### Visualisierungen nach Zeitausschnitten"
   ]
  },
  {
   "cell_type": "code",
   "execution_count": 25,
   "metadata": {},
   "outputs": [
    {
     "name": "stdout",
     "output_type": "stream",
     "text": [
      "<class 'pandas.core.frame.DataFrame'>\n",
      "DatetimeIndex: 98844 entries, 1998-01-01 to 2022-03-31\n",
      "Data columns (total 14 columns):\n",
      " #   Column            Non-Null Count  Dtype \n",
      "---  ------            --------------  ----- \n",
      " 0   GueltigAbDatJahr  98844 non-null  int64 \n",
      " 1   GueltigAbDatMM    98844 non-null  int64 \n",
      " 2   GueltigAbDatDD    98844 non-null  int64 \n",
      " 3   SexCd             98844 non-null  int64 \n",
      " 4   SexLang           98844 non-null  object\n",
      " 5   HerkunftCd        98844 non-null  int64 \n",
      " 6   HerkunftLang      98844 non-null  object\n",
      " 7   KreisCd           98844 non-null  int64 \n",
      " 8   KreisLang         98844 non-null  object\n",
      " 9   QuarCd            98844 non-null  int64 \n",
      " 10  QuarLang          98844 non-null  object\n",
      " 11  DatenstandCd      98844 non-null  object\n",
      " 12  DatenstandLang    98844 non-null  object\n",
      " 13  AnzGebuWir        98844 non-null  int64 \n",
      "dtypes: int64(8), object(6)\n",
      "memory usage: 11.3+ MB\n"
     ]
    }
   ],
   "source": [
    "data2betested.info()\n",
    "#data2betested"
   ]
  },
  {
   "cell_type": "markdown",
   "metadata": {},
   "source": [
    "#### Entwicklung Geburten nach Stadtkreis"
   ]
  },
  {
   "cell_type": "code",
   "execution_count": 34,
   "metadata": {},
   "outputs": [
    {
     "data": {
      "text/html": [
       "<div>\n",
       "<style scoped>\n",
       "    .dataframe tbody tr th:only-of-type {\n",
       "        vertical-align: middle;\n",
       "    }\n",
       "\n",
       "    .dataframe tbody tr th {\n",
       "        vertical-align: top;\n",
       "    }\n",
       "\n",
       "    .dataframe thead th {\n",
       "        text-align: right;\n",
       "    }\n",
       "</style>\n",
       "<table border=\"1\" class=\"dataframe\">\n",
       "  <thead>\n",
       "    <tr style=\"text-align: right;\">\n",
       "      <th></th>\n",
       "      <th>GueltigAbDat</th>\n",
       "      <th>GueltigAbDatJahr</th>\n",
       "      <th>GueltigAbDatMM</th>\n",
       "      <th>SexLang</th>\n",
       "      <th>sum_WBev</th>\n",
       "    </tr>\n",
       "  </thead>\n",
       "  <tbody>\n",
       "    <tr>\n",
       "      <th>0</th>\n",
       "      <td>2021-11-05</td>\n",
       "      <td>2021</td>\n",
       "      <td>11</td>\n",
       "      <td>männlich</td>\n",
       "      <td>16</td>\n",
       "    </tr>\n",
       "    <tr>\n",
       "      <th>1</th>\n",
       "      <td>2021-07-12</td>\n",
       "      <td>2021</td>\n",
       "      <td>7</td>\n",
       "      <td>männlich</td>\n",
       "      <td>16</td>\n",
       "    </tr>\n",
       "  </tbody>\n",
       "</table>\n",
       "</div>"
      ],
      "text/plain": [
       "  GueltigAbDat  GueltigAbDatJahr  GueltigAbDatMM   SexLang  sum_WBev\n",
       "0   2021-11-05              2021              11  männlich        16\n",
       "1   2021-07-12              2021               7  männlich        16"
      ]
     },
     "execution_count": 34,
     "metadata": {},
     "output_type": "execute_result"
    }
   ],
   "source": [
    "#myAgg = data2betested.loc[\"2008-11-30\":\"2021-10-31\"]\n",
    "myAgg = data2betested.loc[\"2021-01\":latest_year_month] \\\n",
    "    .groupby(['GueltigAbDat','GueltigAbDatJahr', 'GueltigAbDatMM','SexLang']) \\\n",
    "    .agg(sum_WBev=('AnzGebuWir', 'sum')) \\\n",
    "    .sort_values('sum_WBev', ascending=False) \n",
    "\n",
    "myAgg.reset_index().head(2)"
   ]
  },
  {
   "cell_type": "code",
   "execution_count": 35,
   "metadata": {},
   "outputs": [
    {
     "data": {
      "text/html": [
       "\n",
       "<div id=\"altair-viz-bcec8c0ec6fa4d8697e5037a82eaa15c\"></div>\n",
       "<script type=\"text/javascript\">\n",
       "  (function(spec, embedOpt){\n",
       "    let outputDiv = document.currentScript.previousElementSibling;\n",
       "    if (outputDiv.id !== \"altair-viz-bcec8c0ec6fa4d8697e5037a82eaa15c\") {\n",
       "      outputDiv = document.getElementById(\"altair-viz-bcec8c0ec6fa4d8697e5037a82eaa15c\");\n",
       "    }\n",
       "    const paths = {\n",
       "      \"vega\": \"https://cdn.jsdelivr.net/npm//vega@5?noext\",\n",
       "      \"vega-lib\": \"https://cdn.jsdelivr.net/npm//vega-lib?noext\",\n",
       "      \"vega-lite\": \"https://cdn.jsdelivr.net/npm//vega-lite@4.8.1?noext\",\n",
       "      \"vega-embed\": \"https://cdn.jsdelivr.net/npm//vega-embed@6?noext\",\n",
       "    };\n",
       "\n",
       "    function loadScript(lib) {\n",
       "      return new Promise(function(resolve, reject) {\n",
       "        var s = document.createElement('script');\n",
       "        s.src = paths[lib];\n",
       "        s.async = true;\n",
       "        s.onload = () => resolve(paths[lib]);\n",
       "        s.onerror = () => reject(`Error loading script: ${paths[lib]}`);\n",
       "        document.getElementsByTagName(\"head\")[0].appendChild(s);\n",
       "      });\n",
       "    }\n",
       "\n",
       "    function showError(err) {\n",
       "      outputDiv.innerHTML = `<div class=\"error\" style=\"color:red;\">${err}</div>`;\n",
       "      throw err;\n",
       "    }\n",
       "\n",
       "    function displayChart(vegaEmbed) {\n",
       "      vegaEmbed(outputDiv, spec, embedOpt)\n",
       "        .catch(err => showError(`Javascript Error: ${err.message}<br>This usually means there's a typo in your chart specification. See the javascript console for the full traceback.`));\n",
       "    }\n",
       "\n",
       "    if(typeof define === \"function\" && define.amd) {\n",
       "      requirejs.config({paths});\n",
       "      require([\"vega-embed\"], displayChart, err => showError(`Error loading script: ${err.message}`));\n",
       "    } else if (typeof vegaEmbed === \"function\") {\n",
       "      displayChart(vegaEmbed);\n",
       "    } else {\n",
       "      loadScript(\"vega\")\n",
       "        .then(() => loadScript(\"vega-lite\"))\n",
       "        .then(() => loadScript(\"vega-embed\"))\n",
       "        .catch(showError)\n",
       "        .then(() => displayChart(vegaEmbed));\n",
       "    }\n",
       "  })({\"config\": {\"view\": {\"continuousWidth\": 400, \"continuousHeight\": 300}}, \"layer\": [{\"mark\": \"line\", \"encoding\": {\"color\": {\"type\": \"nominal\", \"field\": \"SexLang\", \"legend\": {\"orient\": \"right\", \"title\": \"Stadtkreise\"}}, \"size\": {\"condition\": {\"value\": 0.5, \"selection\": {\"not\": \"selector009\"}}, \"value\": 4}, \"tooltip\": [{\"type\": \"temporal\", \"field\": \"GueltigAbDat\"}, {\"type\": \"nominal\", \"field\": \"SexLang\"}, {\"type\": \"quantitative\", \"field\": \"sum_WBev\"}], \"x\": {\"type\": \"temporal\", \"axis\": {\"title\": \"Jahr\"}, \"field\": \"GueltigAbDat\"}, \"y\": {\"type\": \"quantitative\", \"axis\": {\"title\": \"Anz. Personen\"}, \"field\": \"sum_WBev\"}}, \"selection\": {\"selector010\": {\"type\": \"interval\", \"bind\": \"scales\", \"encodings\": [\"x\", \"y\"]}}, \"title\": \"T\\u00e4gliche Geburten nach Geschlecht\"}, {\"mark\": \"circle\", \"encoding\": {\"color\": {\"type\": \"nominal\", \"field\": \"SexLang\", \"legend\": {\"orient\": \"right\", \"title\": \"Stadtkreise\"}}, \"opacity\": {\"value\": 0.75}, \"tooltip\": [{\"type\": \"temporal\", \"field\": \"GueltigAbDat\"}, {\"type\": \"nominal\", \"field\": \"SexLang\"}, {\"type\": \"quantitative\", \"field\": \"sum_WBev\"}], \"x\": {\"type\": \"temporal\", \"axis\": {\"title\": \"Jahr\"}, \"field\": \"GueltigAbDat\"}, \"y\": {\"type\": \"quantitative\", \"axis\": {\"title\": \"Anz. Personen\"}, \"field\": \"sum_WBev\"}}, \"height\": 350, \"selection\": {\"selector009\": {\"type\": \"single\", \"on\": \"mouseover\", \"fields\": [\"KreisLang\"], \"nearest\": true}}, \"title\": \"T\\u00e4gliche Geburten nach Geschlecht\", \"width\": 900}], \"data\": {\"name\": \"data-48fc5cf65f323236dc84022bbcc0db0c\"}, \"$schema\": \"https://vega.github.io/schema/vega-lite/v4.8.1.json\", \"datasets\": {\"data-48fc5cf65f323236dc84022bbcc0db0c\": [{\"GueltigAbDat\": \"2021-11-05T00:00:00\", \"GueltigAbDatJahr\": 2021, \"GueltigAbDatMM\": 11, \"SexLang\": \"m\\u00e4nnlich\", \"sum_WBev\": 16}, {\"GueltigAbDat\": \"2021-07-12T00:00:00\", \"GueltigAbDatJahr\": 2021, \"GueltigAbDatMM\": 7, \"SexLang\": \"m\\u00e4nnlich\", \"sum_WBev\": 16}, {\"GueltigAbDat\": \"2021-01-08T00:00:00\", \"GueltigAbDatJahr\": 2021, \"GueltigAbDatMM\": 1, \"SexLang\": \"weiblich\", \"sum_WBev\": 16}, {\"GueltigAbDat\": \"2021-10-14T00:00:00\", \"GueltigAbDatJahr\": 2021, \"GueltigAbDatMM\": 10, \"SexLang\": \"m\\u00e4nnlich\", \"sum_WBev\": 16}, {\"GueltigAbDat\": \"2021-06-20T00:00:00\", \"GueltigAbDatJahr\": 2021, \"GueltigAbDatMM\": 6, \"SexLang\": \"m\\u00e4nnlich\", \"sum_WBev\": 15}, {\"GueltigAbDat\": \"2022-02-11T00:00:00\", \"GueltigAbDatJahr\": 2022, \"GueltigAbDatMM\": 2, \"SexLang\": \"m\\u00e4nnlich\", \"sum_WBev\": 15}, {\"GueltigAbDat\": \"2021-10-13T00:00:00\", \"GueltigAbDatJahr\": 2021, \"GueltigAbDatMM\": 10, \"SexLang\": \"weiblich\", \"sum_WBev\": 14}, {\"GueltigAbDat\": \"2021-05-17T00:00:00\", \"GueltigAbDatJahr\": 2021, \"GueltigAbDatMM\": 5, \"SexLang\": \"m\\u00e4nnlich\", \"sum_WBev\": 14}, {\"GueltigAbDat\": \"2021-02-08T00:00:00\", \"GueltigAbDatJahr\": 2021, \"GueltigAbDatMM\": 2, \"SexLang\": \"m\\u00e4nnlich\", \"sum_WBev\": 14}, {\"GueltigAbDat\": \"2021-01-18T00:00:00\", \"GueltigAbDatJahr\": 2021, \"GueltigAbDatMM\": 1, \"SexLang\": \"weiblich\", \"sum_WBev\": 14}, {\"GueltigAbDat\": \"2021-05-30T00:00:00\", \"GueltigAbDatJahr\": 2021, \"GueltigAbDatMM\": 5, \"SexLang\": \"weiblich\", \"sum_WBev\": 14}, {\"GueltigAbDat\": \"2021-03-30T00:00:00\", \"GueltigAbDatJahr\": 2021, \"GueltigAbDatMM\": 3, \"SexLang\": \"m\\u00e4nnlich\", \"sum_WBev\": 14}, {\"GueltigAbDat\": \"2021-06-01T00:00:00\", \"GueltigAbDatJahr\": 2021, \"GueltigAbDatMM\": 6, \"SexLang\": \"m\\u00e4nnlich\", \"sum_WBev\": 14}, {\"GueltigAbDat\": \"2021-04-01T00:00:00\", \"GueltigAbDatJahr\": 2021, \"GueltigAbDatMM\": 4, \"SexLang\": \"weiblich\", \"sum_WBev\": 14}, {\"GueltigAbDat\": \"2021-06-04T00:00:00\", \"GueltigAbDatJahr\": 2021, \"GueltigAbDatMM\": 6, \"SexLang\": \"m\\u00e4nnlich\", \"sum_WBev\": 14}, {\"GueltigAbDat\": \"2021-09-09T00:00:00\", \"GueltigAbDatJahr\": 2021, \"GueltigAbDatMM\": 9, \"SexLang\": \"m\\u00e4nnlich\", \"sum_WBev\": 13}, {\"GueltigAbDat\": \"2021-07-21T00:00:00\", \"GueltigAbDatJahr\": 2021, \"GueltigAbDatMM\": 7, \"SexLang\": \"m\\u00e4nnlich\", \"sum_WBev\": 13}, {\"GueltigAbDat\": \"2021-05-07T00:00:00\", \"GueltigAbDatJahr\": 2021, \"GueltigAbDatMM\": 5, \"SexLang\": \"m\\u00e4nnlich\", \"sum_WBev\": 13}, {\"GueltigAbDat\": \"2021-10-05T00:00:00\", \"GueltigAbDatJahr\": 2021, \"GueltigAbDatMM\": 10, \"SexLang\": \"m\\u00e4nnlich\", \"sum_WBev\": 13}, {\"GueltigAbDat\": \"2021-07-30T00:00:00\", \"GueltigAbDatJahr\": 2021, \"GueltigAbDatMM\": 7, \"SexLang\": \"weiblich\", \"sum_WBev\": 13}, {\"GueltigAbDat\": \"2021-07-06T00:00:00\", \"GueltigAbDatJahr\": 2021, \"GueltigAbDatMM\": 7, \"SexLang\": \"weiblich\", \"sum_WBev\": 13}, {\"GueltigAbDat\": \"2021-08-25T00:00:00\", \"GueltigAbDatJahr\": 2021, \"GueltigAbDatMM\": 8, \"SexLang\": \"m\\u00e4nnlich\", \"sum_WBev\": 13}, {\"GueltigAbDat\": \"2021-10-16T00:00:00\", \"GueltigAbDatJahr\": 2021, \"GueltigAbDatMM\": 10, \"SexLang\": \"m\\u00e4nnlich\", \"sum_WBev\": 13}, {\"GueltigAbDat\": \"2021-10-20T00:00:00\", \"GueltigAbDatJahr\": 2021, \"GueltigAbDatMM\": 10, \"SexLang\": \"weiblich\", \"sum_WBev\": 13}, {\"GueltigAbDat\": \"2021-11-08T00:00:00\", \"GueltigAbDatJahr\": 2021, \"GueltigAbDatMM\": 11, \"SexLang\": \"m\\u00e4nnlich\", \"sum_WBev\": 13}, {\"GueltigAbDat\": \"2021-04-28T00:00:00\", \"GueltigAbDatJahr\": 2021, \"GueltigAbDatMM\": 4, \"SexLang\": \"weiblich\", \"sum_WBev\": 13}, {\"GueltigAbDat\": \"2021-05-14T00:00:00\", \"GueltigAbDatJahr\": 2021, \"GueltigAbDatMM\": 5, \"SexLang\": \"weiblich\", \"sum_WBev\": 13}, {\"GueltigAbDat\": \"2021-06-03T00:00:00\", \"GueltigAbDatJahr\": 2021, \"GueltigAbDatMM\": 6, \"SexLang\": \"weiblich\", \"sum_WBev\": 13}, {\"GueltigAbDat\": \"2021-08-11T00:00:00\", \"GueltigAbDatJahr\": 2021, \"GueltigAbDatMM\": 8, \"SexLang\": \"m\\u00e4nnlich\", \"sum_WBev\": 13}, {\"GueltigAbDat\": \"2021-05-15T00:00:00\", \"GueltigAbDatJahr\": 2021, \"GueltigAbDatMM\": 5, \"SexLang\": \"m\\u00e4nnlich\", \"sum_WBev\": 13}, {\"GueltigAbDat\": \"2021-08-23T00:00:00\", \"GueltigAbDatJahr\": 2021, \"GueltigAbDatMM\": 8, \"SexLang\": \"m\\u00e4nnlich\", \"sum_WBev\": 13}, {\"GueltigAbDat\": \"2021-03-15T00:00:00\", \"GueltigAbDatJahr\": 2021, \"GueltigAbDatMM\": 3, \"SexLang\": \"weiblich\", \"sum_WBev\": 13}, {\"GueltigAbDat\": \"2021-02-01T00:00:00\", \"GueltigAbDatJahr\": 2021, \"GueltigAbDatMM\": 2, \"SexLang\": \"m\\u00e4nnlich\", \"sum_WBev\": 12}, {\"GueltigAbDat\": \"2021-05-10T00:00:00\", \"GueltigAbDatJahr\": 2021, \"GueltigAbDatMM\": 5, \"SexLang\": \"weiblich\", \"sum_WBev\": 12}, {\"GueltigAbDat\": \"2021-10-11T00:00:00\", \"GueltigAbDatJahr\": 2021, \"GueltigAbDatMM\": 10, \"SexLang\": \"m\\u00e4nnlich\", \"sum_WBev\": 12}, {\"GueltigAbDat\": \"2021-10-02T00:00:00\", \"GueltigAbDatJahr\": 2021, \"GueltigAbDatMM\": 10, \"SexLang\": \"m\\u00e4nnlich\", \"sum_WBev\": 12}, {\"GueltigAbDat\": \"2021-06-25T00:00:00\", \"GueltigAbDatJahr\": 2021, \"GueltigAbDatMM\": 6, \"SexLang\": \"weiblich\", \"sum_WBev\": 12}, {\"GueltigAbDat\": \"2021-05-25T00:00:00\", \"GueltigAbDatJahr\": 2021, \"GueltigAbDatMM\": 5, \"SexLang\": \"m\\u00e4nnlich\", \"sum_WBev\": 12}, {\"GueltigAbDat\": \"2021-06-07T00:00:00\", \"GueltigAbDatJahr\": 2021, \"GueltigAbDatMM\": 6, \"SexLang\": \"m\\u00e4nnlich\", \"sum_WBev\": 12}, {\"GueltigAbDat\": \"2021-01-29T00:00:00\", \"GueltigAbDatJahr\": 2021, \"GueltigAbDatMM\": 1, \"SexLang\": \"weiblich\", \"sum_WBev\": 12}, {\"GueltigAbDat\": \"2021-02-05T00:00:00\", \"GueltigAbDatJahr\": 2021, \"GueltigAbDatMM\": 2, \"SexLang\": \"m\\u00e4nnlich\", \"sum_WBev\": 12}, {\"GueltigAbDat\": \"2021-01-25T00:00:00\", \"GueltigAbDatJahr\": 2021, \"GueltigAbDatMM\": 1, \"SexLang\": \"m\\u00e4nnlich\", \"sum_WBev\": 12}, {\"GueltigAbDat\": \"2021-11-24T00:00:00\", \"GueltigAbDatJahr\": 2021, \"GueltigAbDatMM\": 11, \"SexLang\": \"m\\u00e4nnlich\", \"sum_WBev\": 12}, {\"GueltigAbDat\": \"2021-10-04T00:00:00\", \"GueltigAbDatJahr\": 2021, \"GueltigAbDatMM\": 10, \"SexLang\": \"weiblich\", \"sum_WBev\": 12}, {\"GueltigAbDat\": \"2022-03-15T00:00:00\", \"GueltigAbDatJahr\": 2022, \"GueltigAbDatMM\": 3, \"SexLang\": \"weiblich\", \"sum_WBev\": 12}, {\"GueltigAbDat\": \"2021-10-09T00:00:00\", \"GueltigAbDatJahr\": 2021, \"GueltigAbDatMM\": 10, \"SexLang\": \"m\\u00e4nnlich\", \"sum_WBev\": 12}, {\"GueltigAbDat\": \"2021-08-17T00:00:00\", \"GueltigAbDatJahr\": 2021, \"GueltigAbDatMM\": 8, \"SexLang\": \"m\\u00e4nnlich\", \"sum_WBev\": 12}, {\"GueltigAbDat\": \"2021-01-05T00:00:00\", \"GueltigAbDatJahr\": 2021, \"GueltigAbDatMM\": 1, \"SexLang\": \"weiblich\", \"sum_WBev\": 12}, {\"GueltigAbDat\": \"2021-08-16T00:00:00\", \"GueltigAbDatJahr\": 2021, \"GueltigAbDatMM\": 8, \"SexLang\": \"weiblich\", \"sum_WBev\": 12}, {\"GueltigAbDat\": \"2021-08-10T00:00:00\", \"GueltigAbDatJahr\": 2021, \"GueltigAbDatMM\": 8, \"SexLang\": \"weiblich\", \"sum_WBev\": 12}, {\"GueltigAbDat\": \"2022-03-10T00:00:00\", \"GueltigAbDatJahr\": 2022, \"GueltigAbDatMM\": 3, \"SexLang\": \"weiblich\", \"sum_WBev\": 12}, {\"GueltigAbDat\": \"2021-09-21T00:00:00\", \"GueltigAbDatJahr\": 2021, \"GueltigAbDatMM\": 9, \"SexLang\": \"m\\u00e4nnlich\", \"sum_WBev\": 12}, {\"GueltigAbDat\": \"2021-05-01T00:00:00\", \"GueltigAbDatJahr\": 2021, \"GueltigAbDatMM\": 5, \"SexLang\": \"m\\u00e4nnlich\", \"sum_WBev\": 12}, {\"GueltigAbDat\": \"2021-06-15T00:00:00\", \"GueltigAbDatJahr\": 2021, \"GueltigAbDatMM\": 6, \"SexLang\": \"weiblich\", \"sum_WBev\": 12}, {\"GueltigAbDat\": \"2021-11-17T00:00:00\", \"GueltigAbDatJahr\": 2021, \"GueltigAbDatMM\": 11, \"SexLang\": \"weiblich\", \"sum_WBev\": 12}, {\"GueltigAbDat\": \"2021-06-22T00:00:00\", \"GueltigAbDatJahr\": 2021, \"GueltigAbDatMM\": 6, \"SexLang\": \"m\\u00e4nnlich\", \"sum_WBev\": 12}, {\"GueltigAbDat\": \"2021-10-06T00:00:00\", \"GueltigAbDatJahr\": 2021, \"GueltigAbDatMM\": 10, \"SexLang\": \"m\\u00e4nnlich\", \"sum_WBev\": 12}, {\"GueltigAbDat\": \"2022-02-08T00:00:00\", \"GueltigAbDatJahr\": 2022, \"GueltigAbDatMM\": 2, \"SexLang\": \"weiblich\", \"sum_WBev\": 12}, {\"GueltigAbDat\": \"2021-08-24T00:00:00\", \"GueltigAbDatJahr\": 2021, \"GueltigAbDatMM\": 8, \"SexLang\": \"weiblich\", \"sum_WBev\": 12}, {\"GueltigAbDat\": \"2021-05-27T00:00:00\", \"GueltigAbDatJahr\": 2021, \"GueltigAbDatMM\": 5, \"SexLang\": \"weiblich\", \"sum_WBev\": 11}, {\"GueltigAbDat\": \"2021-10-12T00:00:00\", \"GueltigAbDatJahr\": 2021, \"GueltigAbDatMM\": 10, \"SexLang\": \"weiblich\", \"sum_WBev\": 11}, {\"GueltigAbDat\": \"2021-11-18T00:00:00\", \"GueltigAbDatJahr\": 2021, \"GueltigAbDatMM\": 11, \"SexLang\": \"weiblich\", \"sum_WBev\": 11}, {\"GueltigAbDat\": \"2021-02-10T00:00:00\", \"GueltigAbDatJahr\": 2021, \"GueltigAbDatMM\": 2, \"SexLang\": \"weiblich\", \"sum_WBev\": 11}, {\"GueltigAbDat\": \"2021-10-06T00:00:00\", \"GueltigAbDatJahr\": 2021, \"GueltigAbDatMM\": 10, \"SexLang\": \"weiblich\", \"sum_WBev\": 11}, {\"GueltigAbDat\": \"2021-05-28T00:00:00\", \"GueltigAbDatJahr\": 2021, \"GueltigAbDatMM\": 5, \"SexLang\": \"weiblich\", \"sum_WBev\": 11}, {\"GueltigAbDat\": \"2021-02-13T00:00:00\", \"GueltigAbDatJahr\": 2021, \"GueltigAbDatMM\": 2, \"SexLang\": \"weiblich\", \"sum_WBev\": 11}, {\"GueltigAbDat\": \"2021-07-01T00:00:00\", \"GueltigAbDatJahr\": 2021, \"GueltigAbDatMM\": 7, \"SexLang\": \"m\\u00e4nnlich\", \"sum_WBev\": 11}, {\"GueltigAbDat\": \"2021-06-29T00:00:00\", \"GueltigAbDatJahr\": 2021, \"GueltigAbDatMM\": 6, \"SexLang\": \"weiblich\", \"sum_WBev\": 11}, {\"GueltigAbDat\": \"2021-03-03T00:00:00\", \"GueltigAbDatJahr\": 2021, \"GueltigAbDatMM\": 3, \"SexLang\": \"m\\u00e4nnlich\", \"sum_WBev\": 11}, {\"GueltigAbDat\": \"2021-09-06T00:00:00\", \"GueltigAbDatJahr\": 2021, \"GueltigAbDatMM\": 9, \"SexLang\": \"m\\u00e4nnlich\", \"sum_WBev\": 11}, {\"GueltigAbDat\": \"2021-06-23T00:00:00\", \"GueltigAbDatJahr\": 2021, \"GueltigAbDatMM\": 6, \"SexLang\": \"weiblich\", \"sum_WBev\": 11}, {\"GueltigAbDat\": \"2021-05-22T00:00:00\", \"GueltigAbDatJahr\": 2021, \"GueltigAbDatMM\": 5, \"SexLang\": \"m\\u00e4nnlich\", \"sum_WBev\": 11}, {\"GueltigAbDat\": \"2021-06-27T00:00:00\", \"GueltigAbDatJahr\": 2021, \"GueltigAbDatMM\": 6, \"SexLang\": \"m\\u00e4nnlich\", \"sum_WBev\": 11}, {\"GueltigAbDat\": \"2021-02-25T00:00:00\", \"GueltigAbDatJahr\": 2021, \"GueltigAbDatMM\": 2, \"SexLang\": \"m\\u00e4nnlich\", \"sum_WBev\": 11}, {\"GueltigAbDat\": \"2022-02-03T00:00:00\", \"GueltigAbDatJahr\": 2022, \"GueltigAbDatMM\": 2, \"SexLang\": \"weiblich\", \"sum_WBev\": 11}, {\"GueltigAbDat\": \"2021-11-17T00:00:00\", \"GueltigAbDatJahr\": 2021, \"GueltigAbDatMM\": 11, \"SexLang\": \"m\\u00e4nnlich\", \"sum_WBev\": 11}, {\"GueltigAbDat\": \"2021-07-22T00:00:00\", \"GueltigAbDatJahr\": 2021, \"GueltigAbDatMM\": 7, \"SexLang\": \"weiblich\", \"sum_WBev\": 11}, {\"GueltigAbDat\": \"2021-04-09T00:00:00\", \"GueltigAbDatJahr\": 2021, \"GueltigAbDatMM\": 4, \"SexLang\": \"weiblich\", \"sum_WBev\": 11}, {\"GueltigAbDat\": \"2021-09-23T00:00:00\", \"GueltigAbDatJahr\": 2021, \"GueltigAbDatMM\": 9, \"SexLang\": \"m\\u00e4nnlich\", \"sum_WBev\": 11}, {\"GueltigAbDat\": \"2021-10-26T00:00:00\", \"GueltigAbDatJahr\": 2021, \"GueltigAbDatMM\": 10, \"SexLang\": \"weiblich\", \"sum_WBev\": 11}, {\"GueltigAbDat\": \"2021-04-26T00:00:00\", \"GueltigAbDatJahr\": 2021, \"GueltigAbDatMM\": 4, \"SexLang\": \"m\\u00e4nnlich\", \"sum_WBev\": 11}, {\"GueltigAbDat\": \"2021-08-13T00:00:00\", \"GueltigAbDatJahr\": 2021, \"GueltigAbDatMM\": 8, \"SexLang\": \"m\\u00e4nnlich\", \"sum_WBev\": 11}, {\"GueltigAbDat\": \"2021-09-30T00:00:00\", \"GueltigAbDatJahr\": 2021, \"GueltigAbDatMM\": 9, \"SexLang\": \"m\\u00e4nnlich\", \"sum_WBev\": 11}, {\"GueltigAbDat\": \"2021-08-07T00:00:00\", \"GueltigAbDatJahr\": 2021, \"GueltigAbDatMM\": 8, \"SexLang\": \"weiblich\", \"sum_WBev\": 11}, {\"GueltigAbDat\": \"2021-01-16T00:00:00\", \"GueltigAbDatJahr\": 2021, \"GueltigAbDatMM\": 1, \"SexLang\": \"weiblich\", \"sum_WBev\": 11}, {\"GueltigAbDat\": \"2021-08-02T00:00:00\", \"GueltigAbDatJahr\": 2021, \"GueltigAbDatMM\": 8, \"SexLang\": \"weiblich\", \"sum_WBev\": 11}, {\"GueltigAbDat\": \"2021-03-24T00:00:00\", \"GueltigAbDatJahr\": 2021, \"GueltigAbDatMM\": 3, \"SexLang\": \"weiblich\", \"sum_WBev\": 11}, {\"GueltigAbDat\": \"2021-12-01T00:00:00\", \"GueltigAbDatJahr\": 2021, \"GueltigAbDatMM\": 12, \"SexLang\": \"m\\u00e4nnlich\", \"sum_WBev\": 11}, {\"GueltigAbDat\": \"2021-10-01T00:00:00\", \"GueltigAbDatJahr\": 2021, \"GueltigAbDatMM\": 10, \"SexLang\": \"weiblich\", \"sum_WBev\": 11}, {\"GueltigAbDat\": \"2021-01-22T00:00:00\", \"GueltigAbDatJahr\": 2021, \"GueltigAbDatMM\": 1, \"SexLang\": \"weiblich\", \"sum_WBev\": 11}, {\"GueltigAbDat\": \"2021-07-28T00:00:00\", \"GueltigAbDatJahr\": 2021, \"GueltigAbDatMM\": 7, \"SexLang\": \"weiblich\", \"sum_WBev\": 11}, {\"GueltigAbDat\": \"2021-05-11T00:00:00\", \"GueltigAbDatJahr\": 2021, \"GueltigAbDatMM\": 5, \"SexLang\": \"m\\u00e4nnlich\", \"sum_WBev\": 11}, {\"GueltigAbDat\": \"2021-08-31T00:00:00\", \"GueltigAbDatJahr\": 2021, \"GueltigAbDatMM\": 8, \"SexLang\": \"m\\u00e4nnlich\", \"sum_WBev\": 11}, {\"GueltigAbDat\": \"2021-09-14T00:00:00\", \"GueltigAbDatJahr\": 2021, \"GueltigAbDatMM\": 9, \"SexLang\": \"weiblich\", \"sum_WBev\": 11}, {\"GueltigAbDat\": \"2021-07-05T00:00:00\", \"GueltigAbDatJahr\": 2021, \"GueltigAbDatMM\": 7, \"SexLang\": \"m\\u00e4nnlich\", \"sum_WBev\": 11}, {\"GueltigAbDat\": \"2021-12-21T00:00:00\", \"GueltigAbDatJahr\": 2021, \"GueltigAbDatMM\": 12, \"SexLang\": \"weiblich\", \"sum_WBev\": 11}, {\"GueltigAbDat\": \"2021-07-11T00:00:00\", \"GueltigAbDatJahr\": 2021, \"GueltigAbDatMM\": 7, \"SexLang\": \"m\\u00e4nnlich\", \"sum_WBev\": 11}, {\"GueltigAbDat\": \"2022-01-06T00:00:00\", \"GueltigAbDatJahr\": 2022, \"GueltigAbDatMM\": 1, \"SexLang\": \"m\\u00e4nnlich\", \"sum_WBev\": 11}, {\"GueltigAbDat\": \"2022-01-28T00:00:00\", \"GueltigAbDatJahr\": 2022, \"GueltigAbDatMM\": 1, \"SexLang\": \"m\\u00e4nnlich\", \"sum_WBev\": 11}, {\"GueltigAbDat\": \"2021-05-12T00:00:00\", \"GueltigAbDatJahr\": 2021, \"GueltigAbDatMM\": 5, \"SexLang\": \"weiblich\", \"sum_WBev\": 11}, {\"GueltigAbDat\": \"2021-09-11T00:00:00\", \"GueltigAbDatJahr\": 2021, \"GueltigAbDatMM\": 9, \"SexLang\": \"m\\u00e4nnlich\", \"sum_WBev\": 10}, {\"GueltigAbDat\": \"2021-05-19T00:00:00\", \"GueltigAbDatJahr\": 2021, \"GueltigAbDatMM\": 5, \"SexLang\": \"weiblich\", \"sum_WBev\": 10}, {\"GueltigAbDat\": \"2021-12-14T00:00:00\", \"GueltigAbDatJahr\": 2021, \"GueltigAbDatMM\": 12, \"SexLang\": \"m\\u00e4nnlich\", \"sum_WBev\": 10}, {\"GueltigAbDat\": \"2021-04-15T00:00:00\", \"GueltigAbDatJahr\": 2021, \"GueltigAbDatMM\": 4, \"SexLang\": \"weiblich\", \"sum_WBev\": 10}, {\"GueltigAbDat\": \"2021-04-17T00:00:00\", \"GueltigAbDatJahr\": 2021, \"GueltigAbDatMM\": 4, \"SexLang\": \"m\\u00e4nnlich\", \"sum_WBev\": 10}, {\"GueltigAbDat\": \"2021-04-21T00:00:00\", \"GueltigAbDatJahr\": 2021, \"GueltigAbDatMM\": 4, \"SexLang\": \"m\\u00e4nnlich\", \"sum_WBev\": 10}, {\"GueltigAbDat\": \"2021-09-15T00:00:00\", \"GueltigAbDatJahr\": 2021, \"GueltigAbDatMM\": 9, \"SexLang\": \"weiblich\", \"sum_WBev\": 10}, {\"GueltigAbDat\": \"2021-11-04T00:00:00\", \"GueltigAbDatJahr\": 2021, \"GueltigAbDatMM\": 11, \"SexLang\": \"weiblich\", \"sum_WBev\": 10}, {\"GueltigAbDat\": \"2021-09-16T00:00:00\", \"GueltigAbDatJahr\": 2021, \"GueltigAbDatMM\": 9, \"SexLang\": \"m\\u00e4nnlich\", \"sum_WBev\": 10}, {\"GueltigAbDat\": \"2021-09-10T00:00:00\", \"GueltigAbDatJahr\": 2021, \"GueltigAbDatMM\": 9, \"SexLang\": \"m\\u00e4nnlich\", \"sum_WBev\": 10}, {\"GueltigAbDat\": \"2021-05-07T00:00:00\", \"GueltigAbDatJahr\": 2021, \"GueltigAbDatMM\": 5, \"SexLang\": \"weiblich\", \"sum_WBev\": 10}, {\"GueltigAbDat\": \"2022-03-02T00:00:00\", \"GueltigAbDatJahr\": 2022, \"GueltigAbDatMM\": 3, \"SexLang\": \"weiblich\", \"sum_WBev\": 10}, {\"GueltigAbDat\": \"2022-02-01T00:00:00\", \"GueltigAbDatJahr\": 2022, \"GueltigAbDatMM\": 2, \"SexLang\": \"m\\u00e4nnlich\", \"sum_WBev\": 10}, {\"GueltigAbDat\": \"2021-12-01T00:00:00\", \"GueltigAbDatJahr\": 2021, \"GueltigAbDatMM\": 12, \"SexLang\": \"weiblich\", \"sum_WBev\": 10}, {\"GueltigAbDat\": \"2021-05-24T00:00:00\", \"GueltigAbDatJahr\": 2021, \"GueltigAbDatMM\": 5, \"SexLang\": \"weiblich\", \"sum_WBev\": 10}, {\"GueltigAbDat\": \"2021-03-18T00:00:00\", \"GueltigAbDatJahr\": 2021, \"GueltigAbDatMM\": 3, \"SexLang\": \"weiblich\", \"sum_WBev\": 10}, {\"GueltigAbDat\": \"2021-09-21T00:00:00\", \"GueltigAbDatJahr\": 2021, \"GueltigAbDatMM\": 9, \"SexLang\": \"weiblich\", \"sum_WBev\": 10}, {\"GueltigAbDat\": \"2021-06-08T00:00:00\", \"GueltigAbDatJahr\": 2021, \"GueltigAbDatMM\": 6, \"SexLang\": \"weiblich\", \"sum_WBev\": 10}, {\"GueltigAbDat\": \"2021-11-19T00:00:00\", \"GueltigAbDatJahr\": 2021, \"GueltigAbDatMM\": 11, \"SexLang\": \"m\\u00e4nnlich\", \"sum_WBev\": 10}, {\"GueltigAbDat\": \"2021-09-01T00:00:00\", \"GueltigAbDatJahr\": 2021, \"GueltigAbDatMM\": 9, \"SexLang\": \"m\\u00e4nnlich\", \"sum_WBev\": 10}, {\"GueltigAbDat\": \"2021-02-07T00:00:00\", \"GueltigAbDatJahr\": 2021, \"GueltigAbDatMM\": 2, \"SexLang\": \"m\\u00e4nnlich\", \"sum_WBev\": 10}, {\"GueltigAbDat\": \"2021-12-21T00:00:00\", \"GueltigAbDatJahr\": 2021, \"GueltigAbDatMM\": 12, \"SexLang\": \"m\\u00e4nnlich\", \"sum_WBev\": 10}, {\"GueltigAbDat\": \"2021-11-15T00:00:00\", \"GueltigAbDatJahr\": 2021, \"GueltigAbDatMM\": 11, \"SexLang\": \"weiblich\", \"sum_WBev\": 10}, {\"GueltigAbDat\": \"2022-01-21T00:00:00\", \"GueltigAbDatJahr\": 2022, \"GueltigAbDatMM\": 1, \"SexLang\": \"weiblich\", \"sum_WBev\": 10}, {\"GueltigAbDat\": \"2021-07-13T00:00:00\", \"GueltigAbDatJahr\": 2021, \"GueltigAbDatMM\": 7, \"SexLang\": \"m\\u00e4nnlich\", \"sum_WBev\": 10}, {\"GueltigAbDat\": \"2021-07-18T00:00:00\", \"GueltigAbDatJahr\": 2021, \"GueltigAbDatMM\": 7, \"SexLang\": \"m\\u00e4nnlich\", \"sum_WBev\": 10}, {\"GueltigAbDat\": \"2021-08-27T00:00:00\", \"GueltigAbDatJahr\": 2021, \"GueltigAbDatMM\": 8, \"SexLang\": \"weiblich\", \"sum_WBev\": 10}, {\"GueltigAbDat\": \"2021-08-27T00:00:00\", \"GueltigAbDatJahr\": 2021, \"GueltigAbDatMM\": 8, \"SexLang\": \"m\\u00e4nnlich\", \"sum_WBev\": 10}, {\"GueltigAbDat\": \"2021-07-29T00:00:00\", \"GueltigAbDatJahr\": 2021, \"GueltigAbDatMM\": 7, \"SexLang\": \"weiblich\", \"sum_WBev\": 10}, {\"GueltigAbDat\": \"2021-11-10T00:00:00\", \"GueltigAbDatJahr\": 2021, \"GueltigAbDatMM\": 11, \"SexLang\": \"weiblich\", \"sum_WBev\": 10}, {\"GueltigAbDat\": \"2021-01-12T00:00:00\", \"GueltigAbDatJahr\": 2021, \"GueltigAbDatMM\": 1, \"SexLang\": \"m\\u00e4nnlich\", \"sum_WBev\": 10}, {\"GueltigAbDat\": \"2021-01-11T00:00:00\", \"GueltigAbDatJahr\": 2021, \"GueltigAbDatMM\": 1, \"SexLang\": \"weiblich\", \"sum_WBev\": 10}, {\"GueltigAbDat\": \"2021-12-26T00:00:00\", \"GueltigAbDatJahr\": 2021, \"GueltigAbDatMM\": 12, \"SexLang\": \"weiblich\", \"sum_WBev\": 10}, {\"GueltigAbDat\": \"2021-08-14T00:00:00\", \"GueltigAbDatJahr\": 2021, \"GueltigAbDatMM\": 8, \"SexLang\": \"m\\u00e4nnlich\", \"sum_WBev\": 10}, {\"GueltigAbDat\": \"2021-01-08T00:00:00\", \"GueltigAbDatJahr\": 2021, \"GueltigAbDatMM\": 1, \"SexLang\": \"m\\u00e4nnlich\", \"sum_WBev\": 10}, {\"GueltigAbDat\": \"2021-01-02T00:00:00\", \"GueltigAbDatJahr\": 2021, \"GueltigAbDatMM\": 1, \"SexLang\": \"weiblich\", \"sum_WBev\": 10}, {\"GueltigAbDat\": \"2021-06-29T00:00:00\", \"GueltigAbDatJahr\": 2021, \"GueltigAbDatMM\": 6, \"SexLang\": \"m\\u00e4nnlich\", \"sum_WBev\": 10}, {\"GueltigAbDat\": \"2021-08-29T00:00:00\", \"GueltigAbDatJahr\": 2021, \"GueltigAbDatMM\": 8, \"SexLang\": \"m\\u00e4nnlich\", \"sum_WBev\": 10}, {\"GueltigAbDat\": \"2021-04-07T00:00:00\", \"GueltigAbDatJahr\": 2021, \"GueltigAbDatMM\": 4, \"SexLang\": \"weiblich\", \"sum_WBev\": 10}, {\"GueltigAbDat\": \"2022-03-14T00:00:00\", \"GueltigAbDatJahr\": 2022, \"GueltigAbDatMM\": 3, \"SexLang\": \"weiblich\", \"sum_WBev\": 10}, {\"GueltigAbDat\": \"2021-10-10T00:00:00\", \"GueltigAbDatJahr\": 2021, \"GueltigAbDatMM\": 10, \"SexLang\": \"weiblich\", \"sum_WBev\": 10}, {\"GueltigAbDat\": \"2021-06-15T00:00:00\", \"GueltigAbDatJahr\": 2021, \"GueltigAbDatMM\": 6, \"SexLang\": \"m\\u00e4nnlich\", \"sum_WBev\": 10}, {\"GueltigAbDat\": \"2021-11-22T00:00:00\", \"GueltigAbDatJahr\": 2021, \"GueltigAbDatMM\": 11, \"SexLang\": \"m\\u00e4nnlich\", \"sum_WBev\": 10}, {\"GueltigAbDat\": \"2021-12-17T00:00:00\", \"GueltigAbDatJahr\": 2021, \"GueltigAbDatMM\": 12, \"SexLang\": \"weiblich\", \"sum_WBev\": 10}, {\"GueltigAbDat\": \"2021-11-01T00:00:00\", \"GueltigAbDatJahr\": 2021, \"GueltigAbDatMM\": 11, \"SexLang\": \"weiblich\", \"sum_WBev\": 10}, {\"GueltigAbDat\": \"2021-10-28T00:00:00\", \"GueltigAbDatJahr\": 2021, \"GueltigAbDatMM\": 10, \"SexLang\": \"weiblich\", \"sum_WBev\": 10}, {\"GueltigAbDat\": \"2021-09-02T00:00:00\", \"GueltigAbDatJahr\": 2021, \"GueltigAbDatMM\": 9, \"SexLang\": \"m\\u00e4nnlich\", \"sum_WBev\": 10}, {\"GueltigAbDat\": \"2021-04-13T00:00:00\", \"GueltigAbDatJahr\": 2021, \"GueltigAbDatMM\": 4, \"SexLang\": \"m\\u00e4nnlich\", \"sum_WBev\": 9}, {\"GueltigAbDat\": \"2021-06-12T00:00:00\", \"GueltigAbDatJahr\": 2021, \"GueltigAbDatMM\": 6, \"SexLang\": \"weiblich\", \"sum_WBev\": 9}, {\"GueltigAbDat\": \"2021-08-10T00:00:00\", \"GueltigAbDatJahr\": 2021, \"GueltigAbDatMM\": 8, \"SexLang\": \"m\\u00e4nnlich\", \"sum_WBev\": 9}, {\"GueltigAbDat\": \"2021-04-09T00:00:00\", \"GueltigAbDatJahr\": 2021, \"GueltigAbDatMM\": 4, \"SexLang\": \"m\\u00e4nnlich\", \"sum_WBev\": 9}, {\"GueltigAbDat\": \"2021-04-30T00:00:00\", \"GueltigAbDatJahr\": 2021, \"GueltigAbDatMM\": 4, \"SexLang\": \"m\\u00e4nnlich\", \"sum_WBev\": 9}, {\"GueltigAbDat\": \"2021-06-16T00:00:00\", \"GueltigAbDatJahr\": 2021, \"GueltigAbDatMM\": 6, \"SexLang\": \"weiblich\", \"sum_WBev\": 9}, {\"GueltigAbDat\": \"2021-08-20T00:00:00\", \"GueltigAbDatJahr\": 2021, \"GueltigAbDatMM\": 8, \"SexLang\": \"m\\u00e4nnlich\", \"sum_WBev\": 9}, {\"GueltigAbDat\": \"2022-03-04T00:00:00\", \"GueltigAbDatJahr\": 2022, \"GueltigAbDatMM\": 3, \"SexLang\": \"m\\u00e4nnlich\", \"sum_WBev\": 9}, {\"GueltigAbDat\": \"2021-04-26T00:00:00\", \"GueltigAbDatJahr\": 2021, \"GueltigAbDatMM\": 4, \"SexLang\": \"weiblich\", \"sum_WBev\": 9}, {\"GueltigAbDat\": \"2021-12-03T00:00:00\", \"GueltigAbDatJahr\": 2021, \"GueltigAbDatMM\": 12, \"SexLang\": \"weiblich\", \"sum_WBev\": 9}, {\"GueltigAbDat\": \"2021-09-24T00:00:00\", \"GueltigAbDatJahr\": 2021, \"GueltigAbDatMM\": 9, \"SexLang\": \"weiblich\", \"sum_WBev\": 9}, {\"GueltigAbDat\": \"2021-12-05T00:00:00\", \"GueltigAbDatJahr\": 2021, \"GueltigAbDatMM\": 12, \"SexLang\": \"m\\u00e4nnlich\", \"sum_WBev\": 9}, {\"GueltigAbDat\": \"2021-04-10T00:00:00\", \"GueltigAbDatJahr\": 2021, \"GueltigAbDatMM\": 4, \"SexLang\": \"m\\u00e4nnlich\", \"sum_WBev\": 9}, {\"GueltigAbDat\": \"2021-04-11T00:00:00\", \"GueltigAbDatJahr\": 2021, \"GueltigAbDatMM\": 4, \"SexLang\": \"weiblich\", \"sum_WBev\": 9}, {\"GueltigAbDat\": \"2021-08-24T00:00:00\", \"GueltigAbDatJahr\": 2021, \"GueltigAbDatMM\": 8, \"SexLang\": \"m\\u00e4nnlich\", \"sum_WBev\": 9}, {\"GueltigAbDat\": \"2021-04-18T00:00:00\", \"GueltigAbDatJahr\": 2021, \"GueltigAbDatMM\": 4, \"SexLang\": \"weiblich\", \"sum_WBev\": 9}, {\"GueltigAbDat\": \"2021-08-22T00:00:00\", \"GueltigAbDatJahr\": 2021, \"GueltigAbDatMM\": 8, \"SexLang\": \"m\\u00e4nnlich\", \"sum_WBev\": 9}, {\"GueltigAbDat\": \"2021-08-19T00:00:00\", \"GueltigAbDatJahr\": 2021, \"GueltigAbDatMM\": 8, \"SexLang\": \"weiblich\", \"sum_WBev\": 9}, {\"GueltigAbDat\": \"2021-04-12T00:00:00\", \"GueltigAbDatJahr\": 2021, \"GueltigAbDatMM\": 4, \"SexLang\": \"weiblich\", \"sum_WBev\": 9}, {\"GueltigAbDat\": \"2021-08-14T00:00:00\", \"GueltigAbDatJahr\": 2021, \"GueltigAbDatMM\": 8, \"SexLang\": \"weiblich\", \"sum_WBev\": 9}, {\"GueltigAbDat\": \"2021-05-26T00:00:00\", \"GueltigAbDatJahr\": 2021, \"GueltigAbDatMM\": 5, \"SexLang\": \"m\\u00e4nnlich\", \"sum_WBev\": 9}, {\"GueltigAbDat\": \"2021-08-06T00:00:00\", \"GueltigAbDatJahr\": 2021, \"GueltigAbDatMM\": 8, \"SexLang\": \"weiblich\", \"sum_WBev\": 9}, {\"GueltigAbDat\": \"2021-11-29T00:00:00\", \"GueltigAbDatJahr\": 2021, \"GueltigAbDatMM\": 11, \"SexLang\": \"m\\u00e4nnlich\", \"sum_WBev\": 9}, {\"GueltigAbDat\": \"2021-09-13T00:00:00\", \"GueltigAbDatJahr\": 2021, \"GueltigAbDatMM\": 9, \"SexLang\": \"m\\u00e4nnlich\", \"sum_WBev\": 9}, {\"GueltigAbDat\": \"2021-11-26T00:00:00\", \"GueltigAbDatJahr\": 2021, \"GueltigAbDatMM\": 11, \"SexLang\": \"weiblich\", \"sum_WBev\": 9}, {\"GueltigAbDat\": \"2021-06-24T00:00:00\", \"GueltigAbDatJahr\": 2021, \"GueltigAbDatMM\": 6, \"SexLang\": \"weiblich\", \"sum_WBev\": 9}, {\"GueltigAbDat\": \"2021-07-04T00:00:00\", \"GueltigAbDatJahr\": 2021, \"GueltigAbDatMM\": 7, \"SexLang\": \"weiblich\", \"sum_WBev\": 9}, {\"GueltigAbDat\": \"2021-07-05T00:00:00\", \"GueltigAbDatJahr\": 2021, \"GueltigAbDatMM\": 7, \"SexLang\": \"weiblich\", \"sum_WBev\": 9}, {\"GueltigAbDat\": \"2021-11-16T00:00:00\", \"GueltigAbDatJahr\": 2021, \"GueltigAbDatMM\": 11, \"SexLang\": \"weiblich\", \"sum_WBev\": 9}, {\"GueltigAbDat\": \"2021-05-28T00:00:00\", \"GueltigAbDatJahr\": 2021, \"GueltigAbDatMM\": 5, \"SexLang\": \"m\\u00e4nnlich\", \"sum_WBev\": 9}, {\"GueltigAbDat\": \"2021-05-16T00:00:00\", \"GueltigAbDatJahr\": 2021, \"GueltigAbDatMM\": 5, \"SexLang\": \"weiblich\", \"sum_WBev\": 9}, {\"GueltigAbDat\": \"2022-02-14T00:00:00\", \"GueltigAbDatJahr\": 2022, \"GueltigAbDatMM\": 2, \"SexLang\": \"weiblich\", \"sum_WBev\": 9}, {\"GueltigAbDat\": \"2021-07-09T00:00:00\", \"GueltigAbDatJahr\": 2021, \"GueltigAbDatMM\": 7, \"SexLang\": \"m\\u00e4nnlich\", \"sum_WBev\": 9}, {\"GueltigAbDat\": \"2021-06-21T00:00:00\", \"GueltigAbDatJahr\": 2021, \"GueltigAbDatMM\": 6, \"SexLang\": \"m\\u00e4nnlich\", \"sum_WBev\": 9}, {\"GueltigAbDat\": \"2021-06-27T00:00:00\", \"GueltigAbDatJahr\": 2021, \"GueltigAbDatMM\": 6, \"SexLang\": \"weiblich\", \"sum_WBev\": 9}, {\"GueltigAbDat\": \"2021-06-19T00:00:00\", \"GueltigAbDatJahr\": 2021, \"GueltigAbDatMM\": 6, \"SexLang\": \"m\\u00e4nnlich\", \"sum_WBev\": 9}, {\"GueltigAbDat\": \"2021-06-10T00:00:00\", \"GueltigAbDatJahr\": 2021, \"GueltigAbDatMM\": 6, \"SexLang\": \"m\\u00e4nnlich\", \"sum_WBev\": 9}, {\"GueltigAbDat\": \"2022-01-14T00:00:00\", \"GueltigAbDatJahr\": 2022, \"GueltigAbDatMM\": 1, \"SexLang\": \"m\\u00e4nnlich\", \"sum_WBev\": 9}, {\"GueltigAbDat\": \"2021-07-16T00:00:00\", \"GueltigAbDatJahr\": 2021, \"GueltigAbDatMM\": 7, \"SexLang\": \"m\\u00e4nnlich\", \"sum_WBev\": 9}, {\"GueltigAbDat\": \"2022-01-18T00:00:00\", \"GueltigAbDatJahr\": 2022, \"GueltigAbDatMM\": 1, \"SexLang\": \"weiblich\", \"sum_WBev\": 9}, {\"GueltigAbDat\": \"2021-07-20T00:00:00\", \"GueltigAbDatJahr\": 2021, \"GueltigAbDatMM\": 7, \"SexLang\": \"weiblich\", \"sum_WBev\": 9}, {\"GueltigAbDat\": \"2022-02-17T00:00:00\", \"GueltigAbDatJahr\": 2022, \"GueltigAbDatMM\": 2, \"SexLang\": \"weiblich\", \"sum_WBev\": 9}, {\"GueltigAbDat\": \"2022-01-11T00:00:00\", \"GueltigAbDatJahr\": 2022, \"GueltigAbDatMM\": 1, \"SexLang\": \"m\\u00e4nnlich\", \"sum_WBev\": 9}, {\"GueltigAbDat\": \"2021-07-27T00:00:00\", \"GueltigAbDatJahr\": 2021, \"GueltigAbDatMM\": 7, \"SexLang\": \"m\\u00e4nnlich\", \"sum_WBev\": 9}, {\"GueltigAbDat\": \"2021-07-27T00:00:00\", \"GueltigAbDatJahr\": 2021, \"GueltigAbDatMM\": 7, \"SexLang\": \"weiblich\", \"sum_WBev\": 9}, {\"GueltigAbDat\": \"2021-08-05T00:00:00\", \"GueltigAbDatJahr\": 2021, \"GueltigAbDatMM\": 8, \"SexLang\": \"m\\u00e4nnlich\", \"sum_WBev\": 9}, {\"GueltigAbDat\": \"2022-02-04T00:00:00\", \"GueltigAbDatJahr\": 2022, \"GueltigAbDatMM\": 2, \"SexLang\": \"weiblich\", \"sum_WBev\": 9}, {\"GueltigAbDat\": \"2021-04-08T00:00:00\", \"GueltigAbDatJahr\": 2021, \"GueltigAbDatMM\": 4, \"SexLang\": \"m\\u00e4nnlich\", \"sum_WBev\": 9}, {\"GueltigAbDat\": \"2021-10-09T00:00:00\", \"GueltigAbDatJahr\": 2021, \"GueltigAbDatMM\": 10, \"SexLang\": \"weiblich\", \"sum_WBev\": 9}, {\"GueltigAbDat\": \"2021-03-31T00:00:00\", \"GueltigAbDatJahr\": 2021, \"GueltigAbDatMM\": 3, \"SexLang\": \"weiblich\", \"sum_WBev\": 9}, {\"GueltigAbDat\": \"2021-02-24T00:00:00\", \"GueltigAbDatJahr\": 2021, \"GueltigAbDatMM\": 2, \"SexLang\": \"weiblich\", \"sum_WBev\": 9}, {\"GueltigAbDat\": \"2021-04-07T00:00:00\", \"GueltigAbDatJahr\": 2021, \"GueltigAbDatMM\": 4, \"SexLang\": \"m\\u00e4nnlich\", \"sum_WBev\": 9}, {\"GueltigAbDat\": \"2021-02-22T00:00:00\", \"GueltigAbDatJahr\": 2021, \"GueltigAbDatMM\": 2, \"SexLang\": \"weiblich\", \"sum_WBev\": 9}, {\"GueltigAbDat\": \"2021-03-14T00:00:00\", \"GueltigAbDatJahr\": 2021, \"GueltigAbDatMM\": 3, \"SexLang\": \"weiblich\", \"sum_WBev\": 9}, {\"GueltigAbDat\": \"2021-02-20T00:00:00\", \"GueltigAbDatJahr\": 2021, \"GueltigAbDatMM\": 2, \"SexLang\": \"m\\u00e4nnlich\", \"sum_WBev\": 9}, {\"GueltigAbDat\": \"2021-03-16T00:00:00\", \"GueltigAbDatJahr\": 2021, \"GueltigAbDatMM\": 3, \"SexLang\": \"m\\u00e4nnlich\", \"sum_WBev\": 9}, {\"GueltigAbDat\": \"2021-02-18T00:00:00\", \"GueltigAbDatJahr\": 2021, \"GueltigAbDatMM\": 2, \"SexLang\": \"weiblich\", \"sum_WBev\": 9}, {\"GueltigAbDat\": \"2021-01-25T00:00:00\", \"GueltigAbDatJahr\": 2021, \"GueltigAbDatMM\": 1, \"SexLang\": \"weiblich\", \"sum_WBev\": 9}, {\"GueltigAbDat\": \"2021-03-17T00:00:00\", \"GueltigAbDatJahr\": 2021, \"GueltigAbDatMM\": 3, \"SexLang\": \"m\\u00e4nnlich\", \"sum_WBev\": 9}, {\"GueltigAbDat\": \"2021-03-26T00:00:00\", \"GueltigAbDatJahr\": 2021, \"GueltigAbDatMM\": 3, \"SexLang\": \"weiblich\", \"sum_WBev\": 9}, {\"GueltigAbDat\": \"2021-10-15T00:00:00\", \"GueltigAbDatJahr\": 2021, \"GueltigAbDatMM\": 10, \"SexLang\": \"weiblich\", \"sum_WBev\": 9}, {\"GueltigAbDat\": \"2021-03-25T00:00:00\", \"GueltigAbDatJahr\": 2021, \"GueltigAbDatMM\": 3, \"SexLang\": \"m\\u00e4nnlich\", \"sum_WBev\": 9}, {\"GueltigAbDat\": \"2022-01-05T00:00:00\", \"GueltigAbDatJahr\": 2022, \"GueltigAbDatMM\": 1, \"SexLang\": \"weiblich\", \"sum_WBev\": 9}, {\"GueltigAbDat\": \"2021-10-27T00:00:00\", \"GueltigAbDatJahr\": 2021, \"GueltigAbDatMM\": 10, \"SexLang\": \"weiblich\", \"sum_WBev\": 9}, {\"GueltigAbDat\": \"2022-01-26T00:00:00\", \"GueltigAbDatJahr\": 2022, \"GueltigAbDatMM\": 1, \"SexLang\": \"m\\u00e4nnlich\", \"sum_WBev\": 9}, {\"GueltigAbDat\": \"2021-10-28T00:00:00\", \"GueltigAbDatJahr\": 2021, \"GueltigAbDatMM\": 10, \"SexLang\": \"m\\u00e4nnlich\", \"sum_WBev\": 9}, {\"GueltigAbDat\": \"2022-01-04T00:00:00\", \"GueltigAbDatJahr\": 2022, \"GueltigAbDatMM\": 1, \"SexLang\": \"m\\u00e4nnlich\", \"sum_WBev\": 9}, {\"GueltigAbDat\": \"2021-03-23T00:00:00\", \"GueltigAbDatJahr\": 2021, \"GueltigAbDatMM\": 3, \"SexLang\": \"weiblich\", \"sum_WBev\": 9}, {\"GueltigAbDat\": \"2021-02-14T00:00:00\", \"GueltigAbDatJahr\": 2021, \"GueltigAbDatMM\": 2, \"SexLang\": \"m\\u00e4nnlich\", \"sum_WBev\": 9}, {\"GueltigAbDat\": \"2021-10-12T00:00:00\", \"GueltigAbDatJahr\": 2021, \"GueltigAbDatMM\": 10, \"SexLang\": \"m\\u00e4nnlich\", \"sum_WBev\": 9}, {\"GueltigAbDat\": \"2021-03-13T00:00:00\", \"GueltigAbDatJahr\": 2021, \"GueltigAbDatMM\": 3, \"SexLang\": \"m\\u00e4nnlich\", \"sum_WBev\": 9}, {\"GueltigAbDat\": \"2021-02-23T00:00:00\", \"GueltigAbDatJahr\": 2021, \"GueltigAbDatMM\": 2, \"SexLang\": \"weiblich\", \"sum_WBev\": 9}, {\"GueltigAbDat\": \"2021-10-27T00:00:00\", \"GueltigAbDatJahr\": 2021, \"GueltigAbDatMM\": 10, \"SexLang\": \"m\\u00e4nnlich\", \"sum_WBev\": 9}, {\"GueltigAbDat\": \"2021-12-28T00:00:00\", \"GueltigAbDatJahr\": 2021, \"GueltigAbDatMM\": 12, \"SexLang\": \"m\\u00e4nnlich\", \"sum_WBev\": 9}, {\"GueltigAbDat\": \"2021-09-27T00:00:00\", \"GueltigAbDatJahr\": 2021, \"GueltigAbDatMM\": 9, \"SexLang\": \"m\\u00e4nnlich\", \"sum_WBev\": 9}, {\"GueltigAbDat\": \"2021-10-29T00:00:00\", \"GueltigAbDatJahr\": 2021, \"GueltigAbDatMM\": 10, \"SexLang\": \"weiblich\", \"sum_WBev\": 9}, {\"GueltigAbDat\": \"2021-01-07T00:00:00\", \"GueltigAbDatJahr\": 2021, \"GueltigAbDatMM\": 1, \"SexLang\": \"weiblich\", \"sum_WBev\": 9}, {\"GueltigAbDat\": \"2021-04-02T00:00:00\", \"GueltigAbDatJahr\": 2021, \"GueltigAbDatMM\": 4, \"SexLang\": \"m\\u00e4nnlich\", \"sum_WBev\": 9}, {\"GueltigAbDat\": \"2021-10-25T00:00:00\", \"GueltigAbDatJahr\": 2021, \"GueltigAbDatMM\": 10, \"SexLang\": \"m\\u00e4nnlich\", \"sum_WBev\": 9}, {\"GueltigAbDat\": \"2021-03-03T00:00:00\", \"GueltigAbDatJahr\": 2021, \"GueltigAbDatMM\": 3, \"SexLang\": \"weiblich\", \"sum_WBev\": 9}, {\"GueltigAbDat\": \"2021-12-31T00:00:00\", \"GueltigAbDatJahr\": 2021, \"GueltigAbDatMM\": 12, \"SexLang\": \"weiblich\", \"sum_WBev\": 9}, {\"GueltigAbDat\": \"2022-01-24T00:00:00\", \"GueltigAbDatJahr\": 2022, \"GueltigAbDatMM\": 1, \"SexLang\": \"m\\u00e4nnlich\", \"sum_WBev\": 9}, {\"GueltigAbDat\": \"2021-03-08T00:00:00\", \"GueltigAbDatJahr\": 2021, \"GueltigAbDatMM\": 3, \"SexLang\": \"m\\u00e4nnlich\", \"sum_WBev\": 9}, {\"GueltigAbDat\": \"2022-03-09T00:00:00\", \"GueltigAbDatJahr\": 2022, \"GueltigAbDatMM\": 3, \"SexLang\": \"weiblich\", \"sum_WBev\": 9}, {\"GueltigAbDat\": \"2021-12-08T00:00:00\", \"GueltigAbDatJahr\": 2021, \"GueltigAbDatMM\": 12, \"SexLang\": \"m\\u00e4nnlich\", \"sum_WBev\": 9}, {\"GueltigAbDat\": \"2021-02-16T00:00:00\", \"GueltigAbDatJahr\": 2021, \"GueltigAbDatMM\": 2, \"SexLang\": \"weiblich\", \"sum_WBev\": 8}, {\"GueltigAbDat\": \"2022-02-02T00:00:00\", \"GueltigAbDatJahr\": 2022, \"GueltigAbDatMM\": 2, \"SexLang\": \"m\\u00e4nnlich\", \"sum_WBev\": 8}, {\"GueltigAbDat\": \"2022-02-04T00:00:00\", \"GueltigAbDatJahr\": 2022, \"GueltigAbDatMM\": 2, \"SexLang\": \"m\\u00e4nnlich\", \"sum_WBev\": 8}, {\"GueltigAbDat\": \"2021-11-24T00:00:00\", \"GueltigAbDatJahr\": 2021, \"GueltigAbDatMM\": 11, \"SexLang\": \"weiblich\", \"sum_WBev\": 8}, {\"GueltigAbDat\": \"2021-03-04T00:00:00\", \"GueltigAbDatJahr\": 2021, \"GueltigAbDatMM\": 3, \"SexLang\": \"weiblich\", \"sum_WBev\": 8}, {\"GueltigAbDat\": \"2021-03-05T00:00:00\", \"GueltigAbDatJahr\": 2021, \"GueltigAbDatMM\": 3, \"SexLang\": \"m\\u00e4nnlich\", \"sum_WBev\": 8}, {\"GueltigAbDat\": \"2021-06-28T00:00:00\", \"GueltigAbDatJahr\": 2021, \"GueltigAbDatMM\": 6, \"SexLang\": \"m\\u00e4nnlich\", \"sum_WBev\": 8}, {\"GueltigAbDat\": \"2021-09-03T00:00:00\", \"GueltigAbDatJahr\": 2021, \"GueltigAbDatMM\": 9, \"SexLang\": \"m\\u00e4nnlich\", \"sum_WBev\": 8}, {\"GueltigAbDat\": \"2021-12-18T00:00:00\", \"GueltigAbDatJahr\": 2021, \"GueltigAbDatMM\": 12, \"SexLang\": \"weiblich\", \"sum_WBev\": 8}, {\"GueltigAbDat\": \"2022-01-18T00:00:00\", \"GueltigAbDatJahr\": 2022, \"GueltigAbDatMM\": 1, \"SexLang\": \"m\\u00e4nnlich\", \"sum_WBev\": 8}, {\"GueltigAbDat\": \"2021-12-19T00:00:00\", \"GueltigAbDatJahr\": 2021, \"GueltigAbDatMM\": 12, \"SexLang\": \"m\\u00e4nnlich\", \"sum_WBev\": 8}, {\"GueltigAbDat\": \"2021-02-27T00:00:00\", \"GueltigAbDatJahr\": 2021, \"GueltigAbDatMM\": 2, \"SexLang\": \"weiblich\", \"sum_WBev\": 8}, {\"GueltigAbDat\": \"2021-02-18T00:00:00\", \"GueltigAbDatJahr\": 2021, \"GueltigAbDatMM\": 2, \"SexLang\": \"m\\u00e4nnlich\", \"sum_WBev\": 8}, {\"GueltigAbDat\": \"2021-03-01T00:00:00\", \"GueltigAbDatJahr\": 2021, \"GueltigAbDatMM\": 3, \"SexLang\": \"weiblich\", \"sum_WBev\": 8}, {\"GueltigAbDat\": \"2021-02-19T00:00:00\", \"GueltigAbDatJahr\": 2021, \"GueltigAbDatMM\": 2, \"SexLang\": \"m\\u00e4nnlich\", \"sum_WBev\": 8}, {\"GueltigAbDat\": \"2021-03-01T00:00:00\", \"GueltigAbDatJahr\": 2021, \"GueltigAbDatMM\": 3, \"SexLang\": \"m\\u00e4nnlich\", \"sum_WBev\": 8}, {\"GueltigAbDat\": \"2021-02-19T00:00:00\", \"GueltigAbDatJahr\": 2021, \"GueltigAbDatMM\": 2, \"SexLang\": \"weiblich\", \"sum_WBev\": 8}, {\"GueltigAbDat\": \"2021-11-23T00:00:00\", \"GueltigAbDatJahr\": 2021, \"GueltigAbDatMM\": 11, \"SexLang\": \"weiblich\", \"sum_WBev\": 8}, {\"GueltigAbDat\": \"2021-11-23T00:00:00\", \"GueltigAbDatJahr\": 2021, \"GueltigAbDatMM\": 11, \"SexLang\": \"m\\u00e4nnlich\", \"sum_WBev\": 8}, {\"GueltigAbDat\": \"2021-06-16T00:00:00\", \"GueltigAbDatJahr\": 2021, \"GueltigAbDatMM\": 6, \"SexLang\": \"m\\u00e4nnlich\", \"sum_WBev\": 8}, {\"GueltigAbDat\": \"2021-06-30T00:00:00\", \"GueltigAbDatJahr\": 2021, \"GueltigAbDatMM\": 6, \"SexLang\": \"m\\u00e4nnlich\", \"sum_WBev\": 8}, {\"GueltigAbDat\": \"2021-02-24T00:00:00\", \"GueltigAbDatJahr\": 2021, \"GueltigAbDatMM\": 2, \"SexLang\": \"m\\u00e4nnlich\", \"sum_WBev\": 8}, {\"GueltigAbDat\": \"2021-06-09T00:00:00\", \"GueltigAbDatJahr\": 2021, \"GueltigAbDatMM\": 6, \"SexLang\": \"m\\u00e4nnlich\", \"sum_WBev\": 8}, {\"GueltigAbDat\": \"2021-10-11T00:00:00\", \"GueltigAbDatJahr\": 2021, \"GueltigAbDatMM\": 10, \"SexLang\": \"weiblich\", \"sum_WBev\": 8}, {\"GueltigAbDat\": \"2021-07-07T00:00:00\", \"GueltigAbDatJahr\": 2021, \"GueltigAbDatMM\": 7, \"SexLang\": \"weiblich\", \"sum_WBev\": 8}, {\"GueltigAbDat\": \"2021-06-30T00:00:00\", \"GueltigAbDatJahr\": 2021, \"GueltigAbDatMM\": 6, \"SexLang\": \"weiblich\", \"sum_WBev\": 8}, {\"GueltigAbDat\": \"2021-10-19T00:00:00\", \"GueltigAbDatJahr\": 2021, \"GueltigAbDatMM\": 10, \"SexLang\": \"weiblich\", \"sum_WBev\": 8}, {\"GueltigAbDat\": \"2021-08-02T00:00:00\", \"GueltigAbDatJahr\": 2021, \"GueltigAbDatMM\": 8, \"SexLang\": \"m\\u00e4nnlich\", \"sum_WBev\": 8}, {\"GueltigAbDat\": \"2021-01-17T00:00:00\", \"GueltigAbDatJahr\": 2021, \"GueltigAbDatMM\": 1, \"SexLang\": \"weiblich\", \"sum_WBev\": 8}, {\"GueltigAbDat\": \"2022-02-08T00:00:00\", \"GueltigAbDatJahr\": 2022, \"GueltigAbDatMM\": 2, \"SexLang\": \"m\\u00e4nnlich\", \"sum_WBev\": 8}, {\"GueltigAbDat\": \"2021-11-12T00:00:00\", \"GueltigAbDatJahr\": 2021, \"GueltigAbDatMM\": 11, \"SexLang\": \"m\\u00e4nnlich\", \"sum_WBev\": 8}, {\"GueltigAbDat\": \"2021-01-15T00:00:00\", \"GueltigAbDatJahr\": 2021, \"GueltigAbDatMM\": 1, \"SexLang\": \"m\\u00e4nnlich\", \"sum_WBev\": 8}, {\"GueltigAbDat\": \"2021-08-05T00:00:00\", \"GueltigAbDatJahr\": 2021, \"GueltigAbDatMM\": 8, \"SexLang\": \"weiblich\", \"sum_WBev\": 8}, {\"GueltigAbDat\": \"2021-08-06T00:00:00\", \"GueltigAbDatJahr\": 2021, \"GueltigAbDatMM\": 8, \"SexLang\": \"m\\u00e4nnlich\", \"sum_WBev\": 8}, {\"GueltigAbDat\": \"2022-01-01T00:00:00\", \"GueltigAbDatJahr\": 2022, \"GueltigAbDatMM\": 1, \"SexLang\": \"m\\u00e4nnlich\", \"sum_WBev\": 8}, {\"GueltigAbDat\": \"2021-10-22T00:00:00\", \"GueltigAbDatJahr\": 2021, \"GueltigAbDatMM\": 10, \"SexLang\": \"weiblich\", \"sum_WBev\": 8}, {\"GueltigAbDat\": \"2021-08-11T00:00:00\", \"GueltigAbDatJahr\": 2021, \"GueltigAbDatMM\": 8, \"SexLang\": \"weiblich\", \"sum_WBev\": 8}, {\"GueltigAbDat\": \"2021-08-12T00:00:00\", \"GueltigAbDatJahr\": 2021, \"GueltigAbDatMM\": 8, \"SexLang\": \"m\\u00e4nnlich\", \"sum_WBev\": 8}, {\"GueltigAbDat\": \"2021-11-09T00:00:00\", \"GueltigAbDatJahr\": 2021, \"GueltigAbDatMM\": 11, \"SexLang\": \"weiblich\", \"sum_WBev\": 8}, {\"GueltigAbDat\": \"2021-08-13T00:00:00\", \"GueltigAbDatJahr\": 2021, \"GueltigAbDatMM\": 8, \"SexLang\": \"weiblich\", \"sum_WBev\": 8}, {\"GueltigAbDat\": \"2021-10-24T00:00:00\", \"GueltigAbDatJahr\": 2021, \"GueltigAbDatMM\": 10, \"SexLang\": \"m\\u00e4nnlich\", \"sum_WBev\": 8}, {\"GueltigAbDat\": \"2021-08-16T00:00:00\", \"GueltigAbDatJahr\": 2021, \"GueltigAbDatMM\": 8, \"SexLang\": \"m\\u00e4nnlich\", \"sum_WBev\": 8}, {\"GueltigAbDat\": \"2021-08-18T00:00:00\", \"GueltigAbDatJahr\": 2021, \"GueltigAbDatMM\": 8, \"SexLang\": \"m\\u00e4nnlich\", \"sum_WBev\": 8}, {\"GueltigAbDat\": \"2021-01-04T00:00:00\", \"GueltigAbDatJahr\": 2021, \"GueltigAbDatMM\": 1, \"SexLang\": \"m\\u00e4nnlich\", \"sum_WBev\": 8}, {\"GueltigAbDat\": \"2021-08-25T00:00:00\", \"GueltigAbDatJahr\": 2021, \"GueltigAbDatMM\": 8, \"SexLang\": \"weiblich\", \"sum_WBev\": 8}, {\"GueltigAbDat\": \"2021-07-31T00:00:00\", \"GueltigAbDatJahr\": 2021, \"GueltigAbDatMM\": 7, \"SexLang\": \"weiblich\", \"sum_WBev\": 8}, {\"GueltigAbDat\": \"2021-02-10T00:00:00\", \"GueltigAbDatJahr\": 2021, \"GueltigAbDatMM\": 2, \"SexLang\": \"m\\u00e4nnlich\", \"sum_WBev\": 8}, {\"GueltigAbDat\": \"2022-02-09T00:00:00\", \"GueltigAbDatJahr\": 2022, \"GueltigAbDatMM\": 2, \"SexLang\": \"m\\u00e4nnlich\", \"sum_WBev\": 8}, {\"GueltigAbDat\": \"2021-11-18T00:00:00\", \"GueltigAbDatJahr\": 2021, \"GueltigAbDatMM\": 11, \"SexLang\": \"m\\u00e4nnlich\", \"sum_WBev\": 8}, {\"GueltigAbDat\": \"2021-02-05T00:00:00\", \"GueltigAbDatJahr\": 2021, \"GueltigAbDatMM\": 2, \"SexLang\": \"weiblich\", \"sum_WBev\": 8}, {\"GueltigAbDat\": \"2021-07-09T00:00:00\", \"GueltigAbDatJahr\": 2021, \"GueltigAbDatMM\": 7, \"SexLang\": \"weiblich\", \"sum_WBev\": 8}, {\"GueltigAbDat\": \"2021-01-30T00:00:00\", \"GueltigAbDatJahr\": 2021, \"GueltigAbDatMM\": 1, \"SexLang\": \"weiblich\", \"sum_WBev\": 8}, {\"GueltigAbDat\": \"2022-02-12T00:00:00\", \"GueltigAbDatJahr\": 2022, \"GueltigAbDatMM\": 2, \"SexLang\": \"weiblich\", \"sum_WBev\": 8}, {\"GueltigAbDat\": \"2021-08-29T00:00:00\", \"GueltigAbDatJahr\": 2021, \"GueltigAbDatMM\": 8, \"SexLang\": \"weiblich\", \"sum_WBev\": 8}, {\"GueltigAbDat\": \"2021-10-16T00:00:00\", \"GueltigAbDatJahr\": 2021, \"GueltigAbDatMM\": 10, \"SexLang\": \"weiblich\", \"sum_WBev\": 8}, {\"GueltigAbDat\": \"2021-01-26T00:00:00\", \"GueltigAbDatJahr\": 2021, \"GueltigAbDatMM\": 1, \"SexLang\": \"weiblich\", \"sum_WBev\": 8}, {\"GueltigAbDat\": \"2021-08-28T00:00:00\", \"GueltigAbDatJahr\": 2021, \"GueltigAbDatMM\": 8, \"SexLang\": \"weiblich\", \"sum_WBev\": 8}, {\"GueltigAbDat\": \"2021-08-28T00:00:00\", \"GueltigAbDatJahr\": 2021, \"GueltigAbDatMM\": 8, \"SexLang\": \"m\\u00e4nnlich\", \"sum_WBev\": 8}, {\"GueltigAbDat\": \"2021-11-14T00:00:00\", \"GueltigAbDatJahr\": 2021, \"GueltigAbDatMM\": 11, \"SexLang\": \"weiblich\", \"sum_WBev\": 8}, {\"GueltigAbDat\": \"2021-01-24T00:00:00\", \"GueltigAbDatJahr\": 2021, \"GueltigAbDatMM\": 1, \"SexLang\": \"m\\u00e4nnlich\", \"sum_WBev\": 8}, {\"GueltigAbDat\": \"2021-07-21T00:00:00\", \"GueltigAbDatJahr\": 2021, \"GueltigAbDatMM\": 7, \"SexLang\": \"weiblich\", \"sum_WBev\": 8}, {\"GueltigAbDat\": \"2022-01-14T00:00:00\", \"GueltigAbDatJahr\": 2022, \"GueltigAbDatMM\": 1, \"SexLang\": \"weiblich\", \"sum_WBev\": 8}, {\"GueltigAbDat\": \"2021-12-23T00:00:00\", \"GueltigAbDatJahr\": 2021, \"GueltigAbDatMM\": 12, \"SexLang\": \"weiblich\", \"sum_WBev\": 8}, {\"GueltigAbDat\": \"2021-07-24T00:00:00\", \"GueltigAbDatJahr\": 2021, \"GueltigAbDatMM\": 7, \"SexLang\": \"weiblich\", \"sum_WBev\": 8}, {\"GueltigAbDat\": \"2021-10-18T00:00:00\", \"GueltigAbDatJahr\": 2021, \"GueltigAbDatMM\": 10, \"SexLang\": \"weiblich\", \"sum_WBev\": 8}, {\"GueltigAbDat\": \"2021-03-05T00:00:00\", \"GueltigAbDatJahr\": 2021, \"GueltigAbDatMM\": 3, \"SexLang\": \"weiblich\", \"sum_WBev\": 8}, {\"GueltigAbDat\": \"2022-02-18T00:00:00\", \"GueltigAbDatJahr\": 2022, \"GueltigAbDatMM\": 2, \"SexLang\": \"m\\u00e4nnlich\", \"sum_WBev\": 8}, {\"GueltigAbDat\": \"2021-03-06T00:00:00\", \"GueltigAbDatJahr\": 2021, \"GueltigAbDatMM\": 3, \"SexLang\": \"weiblich\", \"sum_WBev\": 8}, {\"GueltigAbDat\": \"2021-05-20T00:00:00\", \"GueltigAbDatJahr\": 2021, \"GueltigAbDatMM\": 5, \"SexLang\": \"m\\u00e4nnlich\", \"sum_WBev\": 8}, {\"GueltigAbDat\": \"2021-12-06T00:00:00\", \"GueltigAbDatJahr\": 2021, \"GueltigAbDatMM\": 12, \"SexLang\": \"m\\u00e4nnlich\", \"sum_WBev\": 8}, {\"GueltigAbDat\": \"2021-04-20T00:00:00\", \"GueltigAbDatJahr\": 2021, \"GueltigAbDatMM\": 4, \"SexLang\": \"weiblich\", \"sum_WBev\": 8}, {\"GueltigAbDat\": \"2021-12-13T00:00:00\", \"GueltigAbDatJahr\": 2021, \"GueltigAbDatMM\": 12, \"SexLang\": \"weiblich\", \"sum_WBev\": 8}, {\"GueltigAbDat\": \"2022-02-25T00:00:00\", \"GueltigAbDatJahr\": 2022, \"GueltigAbDatMM\": 2, \"SexLang\": \"weiblich\", \"sum_WBev\": 8}, {\"GueltigAbDat\": \"2021-04-22T00:00:00\", \"GueltigAbDatJahr\": 2021, \"GueltigAbDatMM\": 4, \"SexLang\": \"weiblich\", \"sum_WBev\": 8}, {\"GueltigAbDat\": \"2021-12-13T00:00:00\", \"GueltigAbDatJahr\": 2021, \"GueltigAbDatMM\": 12, \"SexLang\": \"m\\u00e4nnlich\", \"sum_WBev\": 8}, {\"GueltigAbDat\": \"2021-10-03T00:00:00\", \"GueltigAbDatJahr\": 2021, \"GueltigAbDatMM\": 10, \"SexLang\": \"m\\u00e4nnlich\", \"sum_WBev\": 8}, {\"GueltigAbDat\": \"2021-03-19T00:00:00\", \"GueltigAbDatJahr\": 2021, \"GueltigAbDatMM\": 3, \"SexLang\": \"m\\u00e4nnlich\", \"sum_WBev\": 8}, {\"GueltigAbDat\": \"2021-05-13T00:00:00\", \"GueltigAbDatJahr\": 2021, \"GueltigAbDatMM\": 5, \"SexLang\": \"m\\u00e4nnlich\", \"sum_WBev\": 8}, {\"GueltigAbDat\": \"2021-12-11T00:00:00\", \"GueltigAbDatJahr\": 2021, \"GueltigAbDatMM\": 12, \"SexLang\": \"weiblich\", \"sum_WBev\": 8}, {\"GueltigAbDat\": \"2022-01-07T00:00:00\", \"GueltigAbDatJahr\": 2022, \"GueltigAbDatMM\": 1, \"SexLang\": \"weiblich\", \"sum_WBev\": 8}, {\"GueltigAbDat\": \"2021-12-04T00:00:00\", \"GueltigAbDatJahr\": 2021, \"GueltigAbDatMM\": 12, \"SexLang\": \"m\\u00e4nnlich\", \"sum_WBev\": 8}, {\"GueltigAbDat\": \"2021-03-31T00:00:00\", \"GueltigAbDatJahr\": 2021, \"GueltigAbDatMM\": 3, \"SexLang\": \"m\\u00e4nnlich\", \"sum_WBev\": 8}, {\"GueltigAbDat\": \"2021-12-10T00:00:00\", \"GueltigAbDatJahr\": 2021, \"GueltigAbDatMM\": 12, \"SexLang\": \"weiblich\", \"sum_WBev\": 8}, {\"GueltigAbDat\": \"2021-11-30T00:00:00\", \"GueltigAbDatJahr\": 2021, \"GueltigAbDatMM\": 11, \"SexLang\": \"m\\u00e4nnlich\", \"sum_WBev\": 8}, {\"GueltigAbDat\": \"2021-05-09T00:00:00\", \"GueltigAbDatJahr\": 2021, \"GueltigAbDatMM\": 5, \"SexLang\": \"m\\u00e4nnlich\", \"sum_WBev\": 8}, {\"GueltigAbDat\": \"2021-09-17T00:00:00\", \"GueltigAbDatJahr\": 2021, \"GueltigAbDatMM\": 9, \"SexLang\": \"weiblich\", \"sum_WBev\": 8}, {\"GueltigAbDat\": \"2021-09-29T00:00:00\", \"GueltigAbDatJahr\": 2021, \"GueltigAbDatMM\": 9, \"SexLang\": \"m\\u00e4nnlich\", \"sum_WBev\": 8}, {\"GueltigAbDat\": \"2021-05-06T00:00:00\", \"GueltigAbDatJahr\": 2021, \"GueltigAbDatMM\": 5, \"SexLang\": \"weiblich\", \"sum_WBev\": 8}, {\"GueltigAbDat\": \"2021-03-29T00:00:00\", \"GueltigAbDatJahr\": 2021, \"GueltigAbDatMM\": 3, \"SexLang\": \"m\\u00e4nnlich\", \"sum_WBev\": 8}, {\"GueltigAbDat\": \"2021-03-28T00:00:00\", \"GueltigAbDatJahr\": 2021, \"GueltigAbDatMM\": 3, \"SexLang\": \"m\\u00e4nnlich\", \"sum_WBev\": 8}, {\"GueltigAbDat\": \"2021-09-19T00:00:00\", \"GueltigAbDatJahr\": 2021, \"GueltigAbDatMM\": 9, \"SexLang\": \"m\\u00e4nnlich\", \"sum_WBev\": 8}, {\"GueltigAbDat\": \"2021-09-20T00:00:00\", \"GueltigAbDatJahr\": 2021, \"GueltigAbDatMM\": 9, \"SexLang\": \"m\\u00e4nnlich\", \"sum_WBev\": 8}, {\"GueltigAbDat\": \"2021-12-03T00:00:00\", \"GueltigAbDatJahr\": 2021, \"GueltigAbDatMM\": 12, \"SexLang\": \"m\\u00e4nnlich\", \"sum_WBev\": 8}, {\"GueltigAbDat\": \"2021-12-10T00:00:00\", \"GueltigAbDatJahr\": 2021, \"GueltigAbDatMM\": 12, \"SexLang\": \"m\\u00e4nnlich\", \"sum_WBev\": 8}, {\"GueltigAbDat\": \"2021-04-19T00:00:00\", \"GueltigAbDatJahr\": 2021, \"GueltigAbDatMM\": 4, \"SexLang\": \"m\\u00e4nnlich\", \"sum_WBev\": 8}, {\"GueltigAbDat\": \"2021-04-23T00:00:00\", \"GueltigAbDatJahr\": 2021, \"GueltigAbDatMM\": 4, \"SexLang\": \"m\\u00e4nnlich\", \"sum_WBev\": 8}, {\"GueltigAbDat\": \"2021-03-10T00:00:00\", \"GueltigAbDatJahr\": 2021, \"GueltigAbDatMM\": 3, \"SexLang\": \"weiblich\", \"sum_WBev\": 8}, {\"GueltigAbDat\": \"2021-12-14T00:00:00\", \"GueltigAbDatJahr\": 2021, \"GueltigAbDatMM\": 12, \"SexLang\": \"weiblich\", \"sum_WBev\": 8}, {\"GueltigAbDat\": \"2022-01-26T00:00:00\", \"GueltigAbDatJahr\": 2022, \"GueltigAbDatMM\": 1, \"SexLang\": \"weiblich\", \"sum_WBev\": 8}, {\"GueltigAbDat\": \"2022-01-06T00:00:00\", \"GueltigAbDatJahr\": 2022, \"GueltigAbDatMM\": 1, \"SexLang\": \"weiblich\", \"sum_WBev\": 8}, {\"GueltigAbDat\": \"2021-04-17T00:00:00\", \"GueltigAbDatJahr\": 2021, \"GueltigAbDatMM\": 4, \"SexLang\": \"weiblich\", \"sum_WBev\": 8}, {\"GueltigAbDat\": \"2022-01-19T00:00:00\", \"GueltigAbDatJahr\": 2022, \"GueltigAbDatMM\": 1, \"SexLang\": \"m\\u00e4nnlich\", \"sum_WBev\": 8}, {\"GueltigAbDat\": \"2021-09-23T00:00:00\", \"GueltigAbDatJahr\": 2021, \"GueltigAbDatMM\": 9, \"SexLang\": \"weiblich\", \"sum_WBev\": 8}, {\"GueltigAbDat\": \"2021-05-21T00:00:00\", \"GueltigAbDatJahr\": 2021, \"GueltigAbDatMM\": 5, \"SexLang\": \"weiblich\", \"sum_WBev\": 8}, {\"GueltigAbDat\": \"2021-12-07T00:00:00\", \"GueltigAbDatJahr\": 2021, \"GueltigAbDatMM\": 12, \"SexLang\": \"m\\u00e4nnlich\", \"sum_WBev\": 8}, {\"GueltigAbDat\": \"2021-03-12T00:00:00\", \"GueltigAbDatJahr\": 2021, \"GueltigAbDatMM\": 3, \"SexLang\": \"m\\u00e4nnlich\", \"sum_WBev\": 8}, {\"GueltigAbDat\": \"2021-09-24T00:00:00\", \"GueltigAbDatJahr\": 2021, \"GueltigAbDatMM\": 9, \"SexLang\": \"m\\u00e4nnlich\", \"sum_WBev\": 8}, {\"GueltigAbDat\": \"2021-05-22T00:00:00\", \"GueltigAbDatJahr\": 2021, \"GueltigAbDatMM\": 5, \"SexLang\": \"weiblich\", \"sum_WBev\": 8}, {\"GueltigAbDat\": \"2022-01-29T00:00:00\", \"GueltigAbDatJahr\": 2022, \"GueltigAbDatMM\": 1, \"SexLang\": \"m\\u00e4nnlich\", \"sum_WBev\": 8}, {\"GueltigAbDat\": \"2021-08-17T00:00:00\", \"GueltigAbDatJahr\": 2021, \"GueltigAbDatMM\": 8, \"SexLang\": \"weiblich\", \"sum_WBev\": 7}, {\"GueltigAbDat\": \"2021-04-27T00:00:00\", \"GueltigAbDatJahr\": 2021, \"GueltigAbDatMM\": 4, \"SexLang\": \"weiblich\", \"sum_WBev\": 7}, {\"GueltigAbDat\": \"2021-07-20T00:00:00\", \"GueltigAbDatJahr\": 2021, \"GueltigAbDatMM\": 7, \"SexLang\": \"m\\u00e4nnlich\", \"sum_WBev\": 7}, {\"GueltigAbDat\": \"2021-12-07T00:00:00\", \"GueltigAbDatJahr\": 2021, \"GueltigAbDatMM\": 12, \"SexLang\": \"weiblich\", \"sum_WBev\": 7}, {\"GueltigAbDat\": \"2021-09-25T00:00:00\", \"GueltigAbDatJahr\": 2021, \"GueltigAbDatMM\": 9, \"SexLang\": \"weiblich\", \"sum_WBev\": 7}, {\"GueltigAbDat\": \"2021-10-18T00:00:00\", \"GueltigAbDatJahr\": 2021, \"GueltigAbDatMM\": 10, \"SexLang\": \"m\\u00e4nnlich\", \"sum_WBev\": 7}, {\"GueltigAbDat\": \"2021-01-22T00:00:00\", \"GueltigAbDatJahr\": 2021, \"GueltigAbDatMM\": 1, \"SexLang\": \"m\\u00e4nnlich\", \"sum_WBev\": 7}, {\"GueltigAbDat\": \"2021-07-19T00:00:00\", \"GueltigAbDatJahr\": 2021, \"GueltigAbDatMM\": 7, \"SexLang\": \"m\\u00e4nnlich\", \"sum_WBev\": 7}, {\"GueltigAbDat\": \"2021-11-10T00:00:00\", \"GueltigAbDatJahr\": 2021, \"GueltigAbDatMM\": 11, \"SexLang\": \"m\\u00e4nnlich\", \"sum_WBev\": 7}, {\"GueltigAbDat\": \"2021-08-18T00:00:00\", \"GueltigAbDatJahr\": 2021, \"GueltigAbDatMM\": 8, \"SexLang\": \"weiblich\", \"sum_WBev\": 7}, {\"GueltigAbDat\": \"2021-04-29T00:00:00\", \"GueltigAbDatJahr\": 2021, \"GueltigAbDatMM\": 4, \"SexLang\": \"m\\u00e4nnlich\", \"sum_WBev\": 7}, {\"GueltigAbDat\": \"2021-03-30T00:00:00\", \"GueltigAbDatJahr\": 2021, \"GueltigAbDatMM\": 3, \"SexLang\": \"weiblich\", \"sum_WBev\": 7}, {\"GueltigAbDat\": \"2021-07-17T00:00:00\", \"GueltigAbDatJahr\": 2021, \"GueltigAbDatMM\": 7, \"SexLang\": \"m\\u00e4nnlich\", \"sum_WBev\": 7}, {\"GueltigAbDat\": \"2021-07-16T00:00:00\", \"GueltigAbDatJahr\": 2021, \"GueltigAbDatMM\": 7, \"SexLang\": \"weiblich\", \"sum_WBev\": 7}, {\"GueltigAbDat\": \"2021-01-26T00:00:00\", \"GueltigAbDatJahr\": 2021, \"GueltigAbDatMM\": 1, \"SexLang\": \"m\\u00e4nnlich\", \"sum_WBev\": 7}, {\"GueltigAbDat\": \"2021-07-15T00:00:00\", \"GueltigAbDatJahr\": 2021, \"GueltigAbDatMM\": 7, \"SexLang\": \"weiblich\", \"sum_WBev\": 7}, {\"GueltigAbDat\": \"2021-09-26T00:00:00\", \"GueltigAbDatJahr\": 2021, \"GueltigAbDatMM\": 9, \"SexLang\": \"m\\u00e4nnlich\", \"sum_WBev\": 7}, {\"GueltigAbDat\": \"2021-12-29T00:00:00\", \"GueltigAbDatJahr\": 2021, \"GueltigAbDatMM\": 12, \"SexLang\": \"weiblich\", \"sum_WBev\": 7}, {\"GueltigAbDat\": \"2021-09-29T00:00:00\", \"GueltigAbDatJahr\": 2021, \"GueltigAbDatMM\": 9, \"SexLang\": \"weiblich\", \"sum_WBev\": 7}, {\"GueltigAbDat\": \"2021-04-06T00:00:00\", \"GueltigAbDatJahr\": 2021, \"GueltigAbDatMM\": 4, \"SexLang\": \"m\\u00e4nnlich\", \"sum_WBev\": 7}, {\"GueltigAbDat\": \"2022-02-12T00:00:00\", \"GueltigAbDatJahr\": 2022, \"GueltigAbDatMM\": 2, \"SexLang\": \"m\\u00e4nnlich\", \"sum_WBev\": 7}, {\"GueltigAbDat\": \"2021-01-21T00:00:00\", \"GueltigAbDatJahr\": 2021, \"GueltigAbDatMM\": 1, \"SexLang\": \"m\\u00e4nnlich\", \"sum_WBev\": 7}, {\"GueltigAbDat\": \"2021-04-25T00:00:00\", \"GueltigAbDatJahr\": 2021, \"GueltigAbDatMM\": 4, \"SexLang\": \"weiblich\", \"sum_WBev\": 7}, {\"GueltigAbDat\": \"2021-01-06T00:00:00\", \"GueltigAbDatJahr\": 2021, \"GueltigAbDatMM\": 1, \"SexLang\": \"m\\u00e4nnlich\", \"sum_WBev\": 7}, {\"GueltigAbDat\": \"2021-08-08T00:00:00\", \"GueltigAbDatJahr\": 2021, \"GueltigAbDatMM\": 8, \"SexLang\": \"weiblich\", \"sum_WBev\": 7}, {\"GueltigAbDat\": \"2021-10-21T00:00:00\", \"GueltigAbDatJahr\": 2021, \"GueltigAbDatMM\": 10, \"SexLang\": \"weiblich\", \"sum_WBev\": 7}, {\"GueltigAbDat\": \"2022-03-07T00:00:00\", \"GueltigAbDatJahr\": 2022, \"GueltigAbDatMM\": 3, \"SexLang\": \"weiblich\", \"sum_WBev\": 7}, {\"GueltigAbDat\": \"2021-01-16T00:00:00\", \"GueltigAbDatJahr\": 2021, \"GueltigAbDatMM\": 1, \"SexLang\": \"m\\u00e4nnlich\", \"sum_WBev\": 7}, {\"GueltigAbDat\": \"2022-03-10T00:00:00\", \"GueltigAbDatJahr\": 2022, \"GueltigAbDatMM\": 3, \"SexLang\": \"m\\u00e4nnlich\", \"sum_WBev\": 7}, {\"GueltigAbDat\": \"2021-09-22T00:00:00\", \"GueltigAbDatJahr\": 2021, \"GueltigAbDatMM\": 9, \"SexLang\": \"weiblich\", \"sum_WBev\": 7}, {\"GueltigAbDat\": \"2021-12-22T00:00:00\", \"GueltigAbDatJahr\": 2021, \"GueltigAbDatMM\": 12, \"SexLang\": \"m\\u00e4nnlich\", \"sum_WBev\": 7}, {\"GueltigAbDat\": \"2021-12-27T00:00:00\", \"GueltigAbDatJahr\": 2021, \"GueltigAbDatMM\": 12, \"SexLang\": \"weiblich\", \"sum_WBev\": 7}, {\"GueltigAbDat\": \"2021-04-15T00:00:00\", \"GueltigAbDatJahr\": 2021, \"GueltigAbDatMM\": 4, \"SexLang\": \"m\\u00e4nnlich\", \"sum_WBev\": 7}, {\"GueltigAbDat\": \"2021-07-31T00:00:00\", \"GueltigAbDatJahr\": 2021, \"GueltigAbDatMM\": 7, \"SexLang\": \"m\\u00e4nnlich\", \"sum_WBev\": 7}, {\"GueltigAbDat\": \"2021-10-23T00:00:00\", \"GueltigAbDatJahr\": 2021, \"GueltigAbDatMM\": 10, \"SexLang\": \"weiblich\", \"sum_WBev\": 7}, {\"GueltigAbDat\": \"2021-01-19T00:00:00\", \"GueltigAbDatJahr\": 2021, \"GueltigAbDatMM\": 1, \"SexLang\": \"weiblich\", \"sum_WBev\": 7}, {\"GueltigAbDat\": \"2021-07-29T00:00:00\", \"GueltigAbDatJahr\": 2021, \"GueltigAbDatMM\": 7, \"SexLang\": \"m\\u00e4nnlich\", \"sum_WBev\": 7}, {\"GueltigAbDat\": \"2021-04-14T00:00:00\", \"GueltigAbDatJahr\": 2021, \"GueltigAbDatMM\": 4, \"SexLang\": \"weiblich\", \"sum_WBev\": 7}, {\"GueltigAbDat\": \"2022-02-09T00:00:00\", \"GueltigAbDatJahr\": 2022, \"GueltigAbDatMM\": 2, \"SexLang\": \"weiblich\", \"sum_WBev\": 7}, {\"GueltigAbDat\": \"2022-01-03T00:00:00\", \"GueltigAbDatJahr\": 2022, \"GueltigAbDatMM\": 1, \"SexLang\": \"weiblich\", \"sum_WBev\": 7}, {\"GueltigAbDat\": \"2021-01-12T00:00:00\", \"GueltigAbDatJahr\": 2021, \"GueltigAbDatMM\": 1, \"SexLang\": \"weiblich\", \"sum_WBev\": 7}, {\"GueltigAbDat\": \"2021-07-26T00:00:00\", \"GueltigAbDatJahr\": 2021, \"GueltigAbDatMM\": 7, \"SexLang\": \"m\\u00e4nnlich\", \"sum_WBev\": 7}, {\"GueltigAbDat\": \"2021-11-13T00:00:00\", \"GueltigAbDatJahr\": 2021, \"GueltigAbDatMM\": 11, \"SexLang\": \"weiblich\", \"sum_WBev\": 7}, {\"GueltigAbDat\": \"2021-11-02T00:00:00\", \"GueltigAbDatJahr\": 2021, \"GueltigAbDatMM\": 11, \"SexLang\": \"m\\u00e4nnlich\", \"sum_WBev\": 7}, {\"GueltigAbDat\": \"2021-01-30T00:00:00\", \"GueltigAbDatJahr\": 2021, \"GueltigAbDatMM\": 1, \"SexLang\": \"m\\u00e4nnlich\", \"sum_WBev\": 7}, {\"GueltigAbDat\": \"2021-08-30T00:00:00\", \"GueltigAbDatJahr\": 2021, \"GueltigAbDatMM\": 8, \"SexLang\": \"m\\u00e4nnlich\", \"sum_WBev\": 7}, {\"GueltigAbDat\": \"2021-02-15T00:00:00\", \"GueltigAbDatJahr\": 2021, \"GueltigAbDatMM\": 2, \"SexLang\": \"m\\u00e4nnlich\", \"sum_WBev\": 7}, {\"GueltigAbDat\": \"2021-06-25T00:00:00\", \"GueltigAbDatJahr\": 2021, \"GueltigAbDatMM\": 6, \"SexLang\": \"m\\u00e4nnlich\", \"sum_WBev\": 7}, {\"GueltigAbDat\": \"2021-02-16T00:00:00\", \"GueltigAbDatJahr\": 2021, \"GueltigAbDatMM\": 2, \"SexLang\": \"m\\u00e4nnlich\", \"sum_WBev\": 7}, {\"GueltigAbDat\": \"2021-12-02T00:00:00\", \"GueltigAbDatJahr\": 2021, \"GueltigAbDatMM\": 12, \"SexLang\": \"m\\u00e4nnlich\", \"sum_WBev\": 7}, {\"GueltigAbDat\": \"2021-06-20T00:00:00\", \"GueltigAbDatJahr\": 2021, \"GueltigAbDatMM\": 6, \"SexLang\": \"weiblich\", \"sum_WBev\": 7}, {\"GueltigAbDat\": \"2022-02-27T00:00:00\", \"GueltigAbDatJahr\": 2022, \"GueltigAbDatMM\": 2, \"SexLang\": \"m\\u00e4nnlich\", \"sum_WBev\": 7}, {\"GueltigAbDat\": \"2021-03-16T00:00:00\", \"GueltigAbDatJahr\": 2021, \"GueltigAbDatMM\": 3, \"SexLang\": \"weiblich\", \"sum_WBev\": 7}, {\"GueltigAbDat\": \"2021-09-05T00:00:00\", \"GueltigAbDatJahr\": 2021, \"GueltigAbDatMM\": 9, \"SexLang\": \"weiblich\", \"sum_WBev\": 7}, {\"GueltigAbDat\": \"2021-11-03T00:00:00\", \"GueltigAbDatJahr\": 2021, \"GueltigAbDatMM\": 11, \"SexLang\": \"m\\u00e4nnlich\", \"sum_WBev\": 7}, {\"GueltigAbDat\": \"2021-02-20T00:00:00\", \"GueltigAbDatJahr\": 2021, \"GueltigAbDatMM\": 2, \"SexLang\": \"weiblich\", \"sum_WBev\": 7}, {\"GueltigAbDat\": \"2021-05-19T00:00:00\", \"GueltigAbDatJahr\": 2021, \"GueltigAbDatMM\": 5, \"SexLang\": \"m\\u00e4nnlich\", \"sum_WBev\": 7}, {\"GueltigAbDat\": \"2021-03-14T00:00:00\", \"GueltigAbDatJahr\": 2021, \"GueltigAbDatMM\": 3, \"SexLang\": \"m\\u00e4nnlich\", \"sum_WBev\": 7}, {\"GueltigAbDat\": \"2021-02-23T00:00:00\", \"GueltigAbDatJahr\": 2021, \"GueltigAbDatMM\": 2, \"SexLang\": \"m\\u00e4nnlich\", \"sum_WBev\": 7}, {\"GueltigAbDat\": \"2021-05-20T00:00:00\", \"GueltigAbDatJahr\": 2021, \"GueltigAbDatMM\": 5, \"SexLang\": \"weiblich\", \"sum_WBev\": 7}, {\"GueltigAbDat\": \"2021-06-14T00:00:00\", \"GueltigAbDatJahr\": 2021, \"GueltigAbDatMM\": 6, \"SexLang\": \"m\\u00e4nnlich\", \"sum_WBev\": 7}, {\"GueltigAbDat\": \"2021-11-22T00:00:00\", \"GueltigAbDatJahr\": 2021, \"GueltigAbDatMM\": 11, \"SexLang\": \"weiblich\", \"sum_WBev\": 7}, {\"GueltigAbDat\": \"2021-06-11T00:00:00\", \"GueltigAbDatJahr\": 2021, \"GueltigAbDatMM\": 6, \"SexLang\": \"weiblich\", \"sum_WBev\": 7}, {\"GueltigAbDat\": \"2021-09-08T00:00:00\", \"GueltigAbDatJahr\": 2021, \"GueltigAbDatMM\": 9, \"SexLang\": \"weiblich\", \"sum_WBev\": 7}, {\"GueltigAbDat\": \"2021-02-28T00:00:00\", \"GueltigAbDatJahr\": 2021, \"GueltigAbDatMM\": 2, \"SexLang\": \"weiblich\", \"sum_WBev\": 7}, {\"GueltigAbDat\": \"2021-06-06T00:00:00\", \"GueltigAbDatJahr\": 2021, \"GueltigAbDatMM\": 6, \"SexLang\": \"weiblich\", \"sum_WBev\": 7}, {\"GueltigAbDat\": \"2021-05-25T00:00:00\", \"GueltigAbDatJahr\": 2021, \"GueltigAbDatMM\": 5, \"SexLang\": \"weiblich\", \"sum_WBev\": 7}, {\"GueltigAbDat\": \"2021-06-05T00:00:00\", \"GueltigAbDatJahr\": 2021, \"GueltigAbDatMM\": 6, \"SexLang\": \"weiblich\", \"sum_WBev\": 7}, {\"GueltigAbDat\": \"2021-03-11T00:00:00\", \"GueltigAbDatJahr\": 2021, \"GueltigAbDatMM\": 3, \"SexLang\": \"m\\u00e4nnlich\", \"sum_WBev\": 7}, {\"GueltigAbDat\": \"2021-03-10T00:00:00\", \"GueltigAbDatJahr\": 2021, \"GueltigAbDatMM\": 3, \"SexLang\": \"m\\u00e4nnlich\", \"sum_WBev\": 7}, {\"GueltigAbDat\": \"2021-03-04T00:00:00\", \"GueltigAbDatJahr\": 2021, \"GueltigAbDatMM\": 3, \"SexLang\": \"m\\u00e4nnlich\", \"sum_WBev\": 7}, {\"GueltigAbDat\": \"2021-06-02T00:00:00\", \"GueltigAbDatJahr\": 2021, \"GueltigAbDatMM\": 6, \"SexLang\": \"weiblich\", \"sum_WBev\": 7}, {\"GueltigAbDat\": \"2021-03-09T00:00:00\", \"GueltigAbDatJahr\": 2021, \"GueltigAbDatMM\": 3, \"SexLang\": \"m\\u00e4nnlich\", \"sum_WBev\": 7}, {\"GueltigAbDat\": \"2021-11-04T00:00:00\", \"GueltigAbDatJahr\": 2021, \"GueltigAbDatMM\": 11, \"SexLang\": \"m\\u00e4nnlich\", \"sum_WBev\": 7}, {\"GueltigAbDat\": \"2021-02-15T00:00:00\", \"GueltigAbDatJahr\": 2021, \"GueltigAbDatMM\": 2, \"SexLang\": \"weiblich\", \"sum_WBev\": 7}, {\"GueltigAbDat\": \"2021-06-21T00:00:00\", \"GueltigAbDatJahr\": 2021, \"GueltigAbDatMM\": 6, \"SexLang\": \"weiblich\", \"sum_WBev\": 7}, {\"GueltigAbDat\": \"2021-12-19T00:00:00\", \"GueltigAbDatJahr\": 2021, \"GueltigAbDatMM\": 12, \"SexLang\": \"weiblich\", \"sum_WBev\": 7}, {\"GueltigAbDat\": \"2021-03-22T00:00:00\", \"GueltigAbDatJahr\": 2021, \"GueltigAbDatMM\": 3, \"SexLang\": \"weiblich\", \"sum_WBev\": 7}, {\"GueltigAbDat\": \"2021-10-26T00:00:00\", \"GueltigAbDatJahr\": 2021, \"GueltigAbDatMM\": 10, \"SexLang\": \"m\\u00e4nnlich\", \"sum_WBev\": 7}, {\"GueltigAbDat\": \"2021-01-31T00:00:00\", \"GueltigAbDatJahr\": 2021, \"GueltigAbDatMM\": 1, \"SexLang\": \"m\\u00e4nnlich\", \"sum_WBev\": 7}, {\"GueltigAbDat\": \"2021-01-31T00:00:00\", \"GueltigAbDatJahr\": 2021, \"GueltigAbDatMM\": 1, \"SexLang\": \"weiblich\", \"sum_WBev\": 7}, {\"GueltigAbDat\": \"2021-07-08T00:00:00\", \"GueltigAbDatJahr\": 2021, \"GueltigAbDatMM\": 7, \"SexLang\": \"m\\u00e4nnlich\", \"sum_WBev\": 7}, {\"GueltigAbDat\": \"2021-02-03T00:00:00\", \"GueltigAbDatJahr\": 2021, \"GueltigAbDatMM\": 2, \"SexLang\": \"m\\u00e4nnlich\", \"sum_WBev\": 7}, {\"GueltigAbDat\": \"2021-02-04T00:00:00\", \"GueltigAbDatJahr\": 2021, \"GueltigAbDatMM\": 2, \"SexLang\": \"m\\u00e4nnlich\", \"sum_WBev\": 7}, {\"GueltigAbDat\": \"2021-11-30T00:00:00\", \"GueltigAbDatJahr\": 2021, \"GueltigAbDatMM\": 11, \"SexLang\": \"weiblich\", \"sum_WBev\": 7}, {\"GueltigAbDat\": \"2022-01-05T00:00:00\", \"GueltigAbDatJahr\": 2022, \"GueltigAbDatMM\": 1, \"SexLang\": \"m\\u00e4nnlich\", \"sum_WBev\": 7}, {\"GueltigAbDat\": \"2021-02-07T00:00:00\", \"GueltigAbDatJahr\": 2021, \"GueltigAbDatMM\": 2, \"SexLang\": \"weiblich\", \"sum_WBev\": 7}, {\"GueltigAbDat\": \"2022-03-18T00:00:00\", \"GueltigAbDatJahr\": 2022, \"GueltigAbDatMM\": 3, \"SexLang\": \"m\\u00e4nnlich\", \"sum_WBev\": 7}, {\"GueltigAbDat\": \"2021-02-09T00:00:00\", \"GueltigAbDatJahr\": 2021, \"GueltigAbDatMM\": 2, \"SexLang\": \"m\\u00e4nnlich\", \"sum_WBev\": 7}, {\"GueltigAbDat\": \"2021-12-30T00:00:00\", \"GueltigAbDatJahr\": 2021, \"GueltigAbDatMM\": 12, \"SexLang\": \"m\\u00e4nnlich\", \"sum_WBev\": 7}, {\"GueltigAbDat\": \"2022-02-28T00:00:00\", \"GueltigAbDatJahr\": 2022, \"GueltigAbDatMM\": 2, \"SexLang\": \"weiblich\", \"sum_WBev\": 7}, {\"GueltigAbDat\": \"2022-03-11T00:00:00\", \"GueltigAbDatJahr\": 2022, \"GueltigAbDatMM\": 3, \"SexLang\": \"m\\u00e4nnlich\", \"sum_WBev\": 7}, {\"GueltigAbDat\": \"2022-03-17T00:00:00\", \"GueltigAbDatJahr\": 2022, \"GueltigAbDatMM\": 3, \"SexLang\": \"weiblich\", \"sum_WBev\": 7}, {\"GueltigAbDat\": \"2021-09-01T00:00:00\", \"GueltigAbDatJahr\": 2021, \"GueltigAbDatMM\": 9, \"SexLang\": \"weiblich\", \"sum_WBev\": 7}, {\"GueltigAbDat\": \"2021-05-10T00:00:00\", \"GueltigAbDatJahr\": 2021, \"GueltigAbDatMM\": 5, \"SexLang\": \"m\\u00e4nnlich\", \"sum_WBev\": 7}, {\"GueltigAbDat\": \"2021-08-30T00:00:00\", \"GueltigAbDatJahr\": 2021, \"GueltigAbDatMM\": 8, \"SexLang\": \"weiblich\", \"sum_WBev\": 6}, {\"GueltigAbDat\": \"2021-09-19T00:00:00\", \"GueltigAbDatJahr\": 2021, \"GueltigAbDatMM\": 9, \"SexLang\": \"weiblich\", \"sum_WBev\": 6}, {\"GueltigAbDat\": \"2021-10-19T00:00:00\", \"GueltigAbDatJahr\": 2021, \"GueltigAbDatMM\": 10, \"SexLang\": \"m\\u00e4nnlich\", \"sum_WBev\": 6}, {\"GueltigAbDat\": \"2021-11-03T00:00:00\", \"GueltigAbDatJahr\": 2021, \"GueltigAbDatMM\": 11, \"SexLang\": \"weiblich\", \"sum_WBev\": 6}, {\"GueltigAbDat\": \"2021-09-30T00:00:00\", \"GueltigAbDatJahr\": 2021, \"GueltigAbDatMM\": 9, \"SexLang\": \"weiblich\", \"sum_WBev\": 6}, {\"GueltigAbDat\": \"2021-09-16T00:00:00\", \"GueltigAbDatJahr\": 2021, \"GueltigAbDatMM\": 9, \"SexLang\": \"weiblich\", \"sum_WBev\": 6}, {\"GueltigAbDat\": \"2021-10-01T00:00:00\", \"GueltigAbDatJahr\": 2021, \"GueltigAbDatMM\": 10, \"SexLang\": \"m\\u00e4nnlich\", \"sum_WBev\": 6}, {\"GueltigAbDat\": \"2021-09-22T00:00:00\", \"GueltigAbDatJahr\": 2021, \"GueltigAbDatMM\": 9, \"SexLang\": \"m\\u00e4nnlich\", \"sum_WBev\": 6}, {\"GueltigAbDat\": \"2021-08-26T00:00:00\", \"GueltigAbDatJahr\": 2021, \"GueltigAbDatMM\": 8, \"SexLang\": \"m\\u00e4nnlich\", \"sum_WBev\": 6}, {\"GueltigAbDat\": \"2021-09-18T00:00:00\", \"GueltigAbDatJahr\": 2021, \"GueltigAbDatMM\": 9, \"SexLang\": \"weiblich\", \"sum_WBev\": 6}, {\"GueltigAbDat\": \"2021-10-31T00:00:00\", \"GueltigAbDatJahr\": 2021, \"GueltigAbDatMM\": 10, \"SexLang\": \"m\\u00e4nnlich\", \"sum_WBev\": 6}, {\"GueltigAbDat\": \"2021-09-12T00:00:00\", \"GueltigAbDatJahr\": 2021, \"GueltigAbDatMM\": 9, \"SexLang\": \"m\\u00e4nnlich\", \"sum_WBev\": 6}, {\"GueltigAbDat\": \"2021-09-08T00:00:00\", \"GueltigAbDatJahr\": 2021, \"GueltigAbDatMM\": 9, \"SexLang\": \"m\\u00e4nnlich\", \"sum_WBev\": 6}, {\"GueltigAbDat\": \"2022-01-21T00:00:00\", \"GueltigAbDatJahr\": 2022, \"GueltigAbDatMM\": 1, \"SexLang\": \"m\\u00e4nnlich\", \"sum_WBev\": 6}, {\"GueltigAbDat\": \"2021-09-06T00:00:00\", \"GueltigAbDatJahr\": 2021, \"GueltigAbDatMM\": 9, \"SexLang\": \"weiblich\", \"sum_WBev\": 6}, {\"GueltigAbDat\": \"2021-09-27T00:00:00\", \"GueltigAbDatJahr\": 2021, \"GueltigAbDatMM\": 9, \"SexLang\": \"weiblich\", \"sum_WBev\": 6}, {\"GueltigAbDat\": \"2021-09-14T00:00:00\", \"GueltigAbDatJahr\": 2021, \"GueltigAbDatMM\": 9, \"SexLang\": \"m\\u00e4nnlich\", \"sum_WBev\": 6}, {\"GueltigAbDat\": \"2022-01-17T00:00:00\", \"GueltigAbDatJahr\": 2022, \"GueltigAbDatMM\": 1, \"SexLang\": \"m\\u00e4nnlich\", \"sum_WBev\": 6}, {\"GueltigAbDat\": \"2021-08-26T00:00:00\", \"GueltigAbDatJahr\": 2021, \"GueltigAbDatMM\": 8, \"SexLang\": \"weiblich\", \"sum_WBev\": 6}, {\"GueltigAbDat\": \"2022-02-05T00:00:00\", \"GueltigAbDatJahr\": 2022, \"GueltigAbDatMM\": 2, \"SexLang\": \"m\\u00e4nnlich\", \"sum_WBev\": 6}, {\"GueltigAbDat\": \"2021-10-17T00:00:00\", \"GueltigAbDatJahr\": 2021, \"GueltigAbDatMM\": 10, \"SexLang\": \"weiblich\", \"sum_WBev\": 6}, {\"GueltigAbDat\": \"2022-01-20T00:00:00\", \"GueltigAbDatJahr\": 2022, \"GueltigAbDatMM\": 1, \"SexLang\": \"weiblich\", \"sum_WBev\": 6}, {\"GueltigAbDat\": \"2021-09-28T00:00:00\", \"GueltigAbDatJahr\": 2021, \"GueltigAbDatMM\": 9, \"SexLang\": \"weiblich\", \"sum_WBev\": 6}, {\"GueltigAbDat\": \"2021-09-28T00:00:00\", \"GueltigAbDatJahr\": 2021, \"GueltigAbDatMM\": 9, \"SexLang\": \"m\\u00e4nnlich\", \"sum_WBev\": 6}, {\"GueltigAbDat\": \"2021-10-21T00:00:00\", \"GueltigAbDatJahr\": 2021, \"GueltigAbDatMM\": 10, \"SexLang\": \"m\\u00e4nnlich\", \"sum_WBev\": 6}, {\"GueltigAbDat\": \"2021-10-20T00:00:00\", \"GueltigAbDatJahr\": 2021, \"GueltigAbDatMM\": 10, \"SexLang\": \"m\\u00e4nnlich\", \"sum_WBev\": 6}, {\"GueltigAbDat\": \"2021-08-23T00:00:00\", \"GueltigAbDatJahr\": 2021, \"GueltigAbDatMM\": 8, \"SexLang\": \"weiblich\", \"sum_WBev\": 6}, {\"GueltigAbDat\": \"2021-11-26T00:00:00\", \"GueltigAbDatJahr\": 2021, \"GueltigAbDatMM\": 11, \"SexLang\": \"m\\u00e4nnlich\", \"sum_WBev\": 6}, {\"GueltigAbDat\": \"2021-08-20T00:00:00\", \"GueltigAbDatJahr\": 2021, \"GueltigAbDatMM\": 8, \"SexLang\": \"weiblich\", \"sum_WBev\": 6}, {\"GueltigAbDat\": \"2021-04-27T00:00:00\", \"GueltigAbDatJahr\": 2021, \"GueltigAbDatMM\": 4, \"SexLang\": \"m\\u00e4nnlich\", \"sum_WBev\": 6}, {\"GueltigAbDat\": \"2022-03-14T00:00:00\", \"GueltigAbDatJahr\": 2022, \"GueltigAbDatMM\": 3, \"SexLang\": \"m\\u00e4nnlich\", \"sum_WBev\": 6}, {\"GueltigAbDat\": \"2021-12-16T00:00:00\", \"GueltigAbDatJahr\": 2021, \"GueltigAbDatMM\": 12, \"SexLang\": \"weiblich\", \"sum_WBev\": 6}, {\"GueltigAbDat\": \"2021-03-07T00:00:00\", \"GueltigAbDatJahr\": 2021, \"GueltigAbDatMM\": 3, \"SexLang\": \"m\\u00e4nnlich\", \"sum_WBev\": 6}, {\"GueltigAbDat\": \"2021-03-08T00:00:00\", \"GueltigAbDatJahr\": 2021, \"GueltigAbDatMM\": 3, \"SexLang\": \"weiblich\", \"sum_WBev\": 6}, {\"GueltigAbDat\": \"2021-12-15T00:00:00\", \"GueltigAbDatJahr\": 2021, \"GueltigAbDatMM\": 12, \"SexLang\": \"m\\u00e4nnlich\", \"sum_WBev\": 6}, {\"GueltigAbDat\": \"2021-03-11T00:00:00\", \"GueltigAbDatJahr\": 2021, \"GueltigAbDatMM\": 3, \"SexLang\": \"weiblich\", \"sum_WBev\": 6}, {\"GueltigAbDat\": \"2021-03-20T00:00:00\", \"GueltigAbDatJahr\": 2021, \"GueltigAbDatMM\": 3, \"SexLang\": \"m\\u00e4nnlich\", \"sum_WBev\": 6}, {\"GueltigAbDat\": \"2021-03-21T00:00:00\", \"GueltigAbDatJahr\": 2021, \"GueltigAbDatMM\": 3, \"SexLang\": \"m\\u00e4nnlich\", \"sum_WBev\": 6}, {\"GueltigAbDat\": \"2021-03-23T00:00:00\", \"GueltigAbDatJahr\": 2021, \"GueltigAbDatMM\": 3, \"SexLang\": \"m\\u00e4nnlich\", \"sum_WBev\": 6}, {\"GueltigAbDat\": \"2021-03-24T00:00:00\", \"GueltigAbDatJahr\": 2021, \"GueltigAbDatMM\": 3, \"SexLang\": \"m\\u00e4nnlich\", \"sum_WBev\": 6}, {\"GueltigAbDat\": \"2021-03-25T00:00:00\", \"GueltigAbDatJahr\": 2021, \"GueltigAbDatMM\": 3, \"SexLang\": \"weiblich\", \"sum_WBev\": 6}, {\"GueltigAbDat\": \"2021-03-27T00:00:00\", \"GueltigAbDatJahr\": 2021, \"GueltigAbDatMM\": 3, \"SexLang\": \"m\\u00e4nnlich\", \"sum_WBev\": 6}, {\"GueltigAbDat\": \"2021-03-27T00:00:00\", \"GueltigAbDatJahr\": 2021, \"GueltigAbDatMM\": 3, \"SexLang\": \"weiblich\", \"sum_WBev\": 6}, {\"GueltigAbDat\": \"2021-03-29T00:00:00\", \"GueltigAbDatJahr\": 2021, \"GueltigAbDatMM\": 3, \"SexLang\": \"weiblich\", \"sum_WBev\": 6}, {\"GueltigAbDat\": \"2021-04-01T00:00:00\", \"GueltigAbDatJahr\": 2021, \"GueltigAbDatMM\": 4, \"SexLang\": \"m\\u00e4nnlich\", \"sum_WBev\": 6}, {\"GueltigAbDat\": \"2021-12-09T00:00:00\", \"GueltigAbDatJahr\": 2021, \"GueltigAbDatMM\": 12, \"SexLang\": \"weiblich\", \"sum_WBev\": 6}, {\"GueltigAbDat\": \"2021-12-09T00:00:00\", \"GueltigAbDatJahr\": 2021, \"GueltigAbDatMM\": 12, \"SexLang\": \"m\\u00e4nnlich\", \"sum_WBev\": 6}, {\"GueltigAbDat\": \"2021-04-06T00:00:00\", \"GueltigAbDatJahr\": 2021, \"GueltigAbDatMM\": 4, \"SexLang\": \"weiblich\", \"sum_WBev\": 6}, {\"GueltigAbDat\": \"2021-04-08T00:00:00\", \"GueltigAbDatJahr\": 2021, \"GueltigAbDatMM\": 4, \"SexLang\": \"weiblich\", \"sum_WBev\": 6}, {\"GueltigAbDat\": \"2021-04-10T00:00:00\", \"GueltigAbDatJahr\": 2021, \"GueltigAbDatMM\": 4, \"SexLang\": \"weiblich\", \"sum_WBev\": 6}, {\"GueltigAbDat\": \"2021-04-11T00:00:00\", \"GueltigAbDatJahr\": 2021, \"GueltigAbDatMM\": 4, \"SexLang\": \"m\\u00e4nnlich\", \"sum_WBev\": 6}, {\"GueltigAbDat\": \"2021-04-12T00:00:00\", \"GueltigAbDatJahr\": 2021, \"GueltigAbDatMM\": 4, \"SexLang\": \"m\\u00e4nnlich\", \"sum_WBev\": 6}, {\"GueltigAbDat\": \"2022-03-08T00:00:00\", \"GueltigAbDatJahr\": 2022, \"GueltigAbDatMM\": 3, \"SexLang\": \"weiblich\", \"sum_WBev\": 6}, {\"GueltigAbDat\": \"2021-04-14T00:00:00\", \"GueltigAbDatJahr\": 2021, \"GueltigAbDatMM\": 4, \"SexLang\": \"m\\u00e4nnlich\", \"sum_WBev\": 6}, {\"GueltigAbDat\": \"2021-04-16T00:00:00\", \"GueltigAbDatJahr\": 2021, \"GueltigAbDatMM\": 4, \"SexLang\": \"weiblich\", \"sum_WBev\": 6}, {\"GueltigAbDat\": \"2021-08-19T00:00:00\", \"GueltigAbDatJahr\": 2021, \"GueltigAbDatMM\": 8, \"SexLang\": \"m\\u00e4nnlich\", \"sum_WBev\": 6}, {\"GueltigAbDat\": \"2021-12-05T00:00:00\", \"GueltigAbDatJahr\": 2021, \"GueltigAbDatMM\": 12, \"SexLang\": \"weiblich\", \"sum_WBev\": 6}, {\"GueltigAbDat\": \"2021-12-17T00:00:00\", \"GueltigAbDatJahr\": 2021, \"GueltigAbDatMM\": 12, \"SexLang\": \"m\\u00e4nnlich\", \"sum_WBev\": 6}, {\"GueltigAbDat\": \"2021-02-27T00:00:00\", \"GueltigAbDatJahr\": 2021, \"GueltigAbDatMM\": 2, \"SexLang\": \"m\\u00e4nnlich\", \"sum_WBev\": 6}, {\"GueltigAbDat\": \"2021-02-25T00:00:00\", \"GueltigAbDatJahr\": 2021, \"GueltigAbDatMM\": 2, \"SexLang\": \"weiblich\", \"sum_WBev\": 6}, {\"GueltigAbDat\": \"2021-01-20T00:00:00\", \"GueltigAbDatJahr\": 2021, \"GueltigAbDatMM\": 1, \"SexLang\": \"m\\u00e4nnlich\", \"sum_WBev\": 6}, {\"GueltigAbDat\": \"2021-01-02T00:00:00\", \"GueltigAbDatJahr\": 2021, \"GueltigAbDatMM\": 1, \"SexLang\": \"m\\u00e4nnlich\", \"sum_WBev\": 6}, {\"GueltigAbDat\": \"2021-01-07T00:00:00\", \"GueltigAbDatJahr\": 2021, \"GueltigAbDatMM\": 1, \"SexLang\": \"m\\u00e4nnlich\", \"sum_WBev\": 6}, {\"GueltigAbDat\": \"2022-03-30T00:00:00\", \"GueltigAbDatJahr\": 2022, \"GueltigAbDatMM\": 3, \"SexLang\": \"weiblich\", \"sum_WBev\": 6}, {\"GueltigAbDat\": \"2021-12-27T00:00:00\", \"GueltigAbDatJahr\": 2021, \"GueltigAbDatMM\": 12, \"SexLang\": \"m\\u00e4nnlich\", \"sum_WBev\": 6}, {\"GueltigAbDat\": \"2021-01-10T00:00:00\", \"GueltigAbDatJahr\": 2021, \"GueltigAbDatMM\": 1, \"SexLang\": \"weiblich\", \"sum_WBev\": 6}, {\"GueltigAbDat\": \"2021-01-13T00:00:00\", \"GueltigAbDatJahr\": 2021, \"GueltigAbDatMM\": 1, \"SexLang\": \"m\\u00e4nnlich\", \"sum_WBev\": 6}, {\"GueltigAbDat\": \"2021-01-13T00:00:00\", \"GueltigAbDatJahr\": 2021, \"GueltigAbDatMM\": 1, \"SexLang\": \"weiblich\", \"sum_WBev\": 6}, {\"GueltigAbDat\": \"2021-01-14T00:00:00\", \"GueltigAbDatJahr\": 2021, \"GueltigAbDatMM\": 1, \"SexLang\": \"weiblich\", \"sum_WBev\": 6}, {\"GueltigAbDat\": \"2022-01-01T00:00:00\", \"GueltigAbDatJahr\": 2022, \"GueltigAbDatMM\": 1, \"SexLang\": \"weiblich\", \"sum_WBev\": 6}, {\"GueltigAbDat\": \"2022-01-03T00:00:00\", \"GueltigAbDatJahr\": 2022, \"GueltigAbDatMM\": 1, \"SexLang\": \"m\\u00e4nnlich\", \"sum_WBev\": 6}, {\"GueltigAbDat\": \"2022-03-29T00:00:00\", \"GueltigAbDatJahr\": 2022, \"GueltigAbDatMM\": 3, \"SexLang\": \"weiblich\", \"sum_WBev\": 6}, {\"GueltigAbDat\": \"2022-03-29T00:00:00\", \"GueltigAbDatJahr\": 2022, \"GueltigAbDatMM\": 3, \"SexLang\": \"m\\u00e4nnlich\", \"sum_WBev\": 6}, {\"GueltigAbDat\": \"2022-03-24T00:00:00\", \"GueltigAbDatJahr\": 2022, \"GueltigAbDatMM\": 3, \"SexLang\": \"m\\u00e4nnlich\", \"sum_WBev\": 6}, {\"GueltigAbDat\": \"2021-02-22T00:00:00\", \"GueltigAbDatJahr\": 2021, \"GueltigAbDatMM\": 2, \"SexLang\": \"m\\u00e4nnlich\", \"sum_WBev\": 6}, {\"GueltigAbDat\": \"2021-01-23T00:00:00\", \"GueltigAbDatJahr\": 2021, \"GueltigAbDatMM\": 1, \"SexLang\": \"weiblich\", \"sum_WBev\": 6}, {\"GueltigAbDat\": \"2022-03-22T00:00:00\", \"GueltigAbDatJahr\": 2022, \"GueltigAbDatMM\": 3, \"SexLang\": \"m\\u00e4nnlich\", \"sum_WBev\": 6}, {\"GueltigAbDat\": \"2021-01-28T00:00:00\", \"GueltigAbDatJahr\": 2021, \"GueltigAbDatMM\": 1, \"SexLang\": \"weiblich\", \"sum_WBev\": 6}, {\"GueltigAbDat\": \"2021-01-29T00:00:00\", \"GueltigAbDatJahr\": 2021, \"GueltigAbDatMM\": 1, \"SexLang\": \"m\\u00e4nnlich\", \"sum_WBev\": 6}, {\"GueltigAbDat\": \"2022-03-21T00:00:00\", \"GueltigAbDatJahr\": 2022, \"GueltigAbDatMM\": 3, \"SexLang\": \"weiblich\", \"sum_WBev\": 6}, {\"GueltigAbDat\": \"2021-02-03T00:00:00\", \"GueltigAbDatJahr\": 2021, \"GueltigAbDatMM\": 2, \"SexLang\": \"weiblich\", \"sum_WBev\": 6}, {\"GueltigAbDat\": \"2021-02-04T00:00:00\", \"GueltigAbDatJahr\": 2021, \"GueltigAbDatMM\": 2, \"SexLang\": \"weiblich\", \"sum_WBev\": 6}, {\"GueltigAbDat\": \"2021-02-06T00:00:00\", \"GueltigAbDatJahr\": 2021, \"GueltigAbDatMM\": 2, \"SexLang\": \"m\\u00e4nnlich\", \"sum_WBev\": 6}, {\"GueltigAbDat\": \"2021-02-09T00:00:00\", \"GueltigAbDatJahr\": 2021, \"GueltigAbDatMM\": 2, \"SexLang\": \"weiblich\", \"sum_WBev\": 6}, {\"GueltigAbDat\": \"2021-02-11T00:00:00\", \"GueltigAbDatJahr\": 2021, \"GueltigAbDatMM\": 2, \"SexLang\": \"m\\u00e4nnlich\", \"sum_WBev\": 6}, {\"GueltigAbDat\": \"2021-02-11T00:00:00\", \"GueltigAbDatJahr\": 2021, \"GueltigAbDatMM\": 2, \"SexLang\": \"weiblich\", \"sum_WBev\": 6}, {\"GueltigAbDat\": \"2021-02-13T00:00:00\", \"GueltigAbDatJahr\": 2021, \"GueltigAbDatMM\": 2, \"SexLang\": \"m\\u00e4nnlich\", \"sum_WBev\": 6}, {\"GueltigAbDat\": \"2021-04-23T00:00:00\", \"GueltigAbDatJahr\": 2021, \"GueltigAbDatMM\": 4, \"SexLang\": \"weiblich\", \"sum_WBev\": 6}, {\"GueltigAbDat\": \"2022-01-07T00:00:00\", \"GueltigAbDatJahr\": 2022, \"GueltigAbDatMM\": 1, \"SexLang\": \"m\\u00e4nnlich\", \"sum_WBev\": 6}, {\"GueltigAbDat\": \"2021-10-25T00:00:00\", \"GueltigAbDatJahr\": 2021, \"GueltigAbDatMM\": 10, \"SexLang\": \"weiblich\", \"sum_WBev\": 6}, {\"GueltigAbDat\": \"2021-07-13T00:00:00\", \"GueltigAbDatJahr\": 2021, \"GueltigAbDatMM\": 7, \"SexLang\": \"weiblich\", \"sum_WBev\": 6}, {\"GueltigAbDat\": \"2021-06-09T00:00:00\", \"GueltigAbDatJahr\": 2021, \"GueltigAbDatMM\": 6, \"SexLang\": \"weiblich\", \"sum_WBev\": 6}, {\"GueltigAbDat\": \"2021-08-03T00:00:00\", \"GueltigAbDatJahr\": 2021, \"GueltigAbDatMM\": 8, \"SexLang\": \"weiblich\", \"sum_WBev\": 6}, {\"GueltigAbDat\": \"2021-06-10T00:00:00\", \"GueltigAbDatJahr\": 2021, \"GueltigAbDatMM\": 6, \"SexLang\": \"weiblich\", \"sum_WBev\": 6}, {\"GueltigAbDat\": \"2021-06-11T00:00:00\", \"GueltigAbDatJahr\": 2021, \"GueltigAbDatMM\": 6, \"SexLang\": \"m\\u00e4nnlich\", \"sum_WBev\": 6}, {\"GueltigAbDat\": \"2021-06-13T00:00:00\", \"GueltigAbDatJahr\": 2021, \"GueltigAbDatMM\": 6, \"SexLang\": \"m\\u00e4nnlich\", \"sum_WBev\": 6}, {\"GueltigAbDat\": \"2022-01-16T00:00:00\", \"GueltigAbDatJahr\": 2022, \"GueltigAbDatMM\": 1, \"SexLang\": \"m\\u00e4nnlich\", \"sum_WBev\": 6}, {\"GueltigAbDat\": \"2021-06-17T00:00:00\", \"GueltigAbDatJahr\": 2021, \"GueltigAbDatMM\": 6, \"SexLang\": \"weiblich\", \"sum_WBev\": 6}, {\"GueltigAbDat\": \"2021-05-01T00:00:00\", \"GueltigAbDatJahr\": 2021, \"GueltigAbDatMM\": 5, \"SexLang\": \"weiblich\", \"sum_WBev\": 6}, {\"GueltigAbDat\": \"2021-07-26T00:00:00\", \"GueltigAbDatJahr\": 2021, \"GueltigAbDatMM\": 7, \"SexLang\": \"weiblich\", \"sum_WBev\": 6}, {\"GueltigAbDat\": \"2022-01-12T00:00:00\", \"GueltigAbDatJahr\": 2022, \"GueltigAbDatMM\": 1, \"SexLang\": \"weiblich\", \"sum_WBev\": 6}, {\"GueltigAbDat\": \"2021-07-24T00:00:00\", \"GueltigAbDatJahr\": 2021, \"GueltigAbDatMM\": 7, \"SexLang\": \"m\\u00e4nnlich\", \"sum_WBev\": 6}, {\"GueltigAbDat\": \"2021-07-23T00:00:00\", \"GueltigAbDatJahr\": 2021, \"GueltigAbDatMM\": 7, \"SexLang\": \"m\\u00e4nnlich\", \"sum_WBev\": 6}, {\"GueltigAbDat\": \"2021-06-22T00:00:00\", \"GueltigAbDatJahr\": 2021, \"GueltigAbDatMM\": 6, \"SexLang\": \"weiblich\", \"sum_WBev\": 6}, {\"GueltigAbDat\": \"2022-01-13T00:00:00\", \"GueltigAbDatJahr\": 2022, \"GueltigAbDatMM\": 1, \"SexLang\": \"m\\u00e4nnlich\", \"sum_WBev\": 6}, {\"GueltigAbDat\": \"2021-06-24T00:00:00\", \"GueltigAbDatJahr\": 2021, \"GueltigAbDatMM\": 6, \"SexLang\": \"m\\u00e4nnlich\", \"sum_WBev\": 6}, {\"GueltigAbDat\": \"2021-07-18T00:00:00\", \"GueltigAbDatJahr\": 2021, \"GueltigAbDatMM\": 7, \"SexLang\": \"weiblich\", \"sum_WBev\": 6}, {\"GueltigAbDat\": \"2021-06-28T00:00:00\", \"GueltigAbDatJahr\": 2021, \"GueltigAbDatMM\": 6, \"SexLang\": \"weiblich\", \"sum_WBev\": 6}, {\"GueltigAbDat\": \"2021-07-02T00:00:00\", \"GueltigAbDatJahr\": 2021, \"GueltigAbDatMM\": 7, \"SexLang\": \"weiblich\", \"sum_WBev\": 6}, {\"GueltigAbDat\": \"2021-07-04T00:00:00\", \"GueltigAbDatJahr\": 2021, \"GueltigAbDatMM\": 7, \"SexLang\": \"m\\u00e4nnlich\", \"sum_WBev\": 6}, {\"GueltigAbDat\": \"2021-07-07T00:00:00\", \"GueltigAbDatJahr\": 2021, \"GueltigAbDatMM\": 7, \"SexLang\": \"m\\u00e4nnlich\", \"sum_WBev\": 6}, {\"GueltigAbDat\": \"2022-01-13T00:00:00\", \"GueltigAbDatJahr\": 2022, \"GueltigAbDatMM\": 1, \"SexLang\": \"weiblich\", \"sum_WBev\": 6}, {\"GueltigAbDat\": \"2021-07-12T00:00:00\", \"GueltigAbDatJahr\": 2021, \"GueltigAbDatMM\": 7, \"SexLang\": \"weiblich\", \"sum_WBev\": 6}, {\"GueltigAbDat\": \"2021-07-15T00:00:00\", \"GueltigAbDatJahr\": 2021, \"GueltigAbDatMM\": 7, \"SexLang\": \"m\\u00e4nnlich\", \"sum_WBev\": 6}, {\"GueltigAbDat\": \"2021-06-07T00:00:00\", \"GueltigAbDatJahr\": 2021, \"GueltigAbDatMM\": 6, \"SexLang\": \"weiblich\", \"sum_WBev\": 6}, {\"GueltigAbDat\": \"2021-06-04T00:00:00\", \"GueltigAbDatJahr\": 2021, \"GueltigAbDatMM\": 6, \"SexLang\": \"weiblich\", \"sum_WBev\": 6}, {\"GueltigAbDat\": \"2021-08-04T00:00:00\", \"GueltigAbDatJahr\": 2021, \"GueltigAbDatMM\": 8, \"SexLang\": \"m\\u00e4nnlich\", \"sum_WBev\": 6}, {\"GueltigAbDat\": \"2021-11-11T00:00:00\", \"GueltigAbDatJahr\": 2021, \"GueltigAbDatMM\": 11, \"SexLang\": \"m\\u00e4nnlich\", \"sum_WBev\": 6}, {\"GueltigAbDat\": \"2022-03-01T00:00:00\", \"GueltigAbDatJahr\": 2022, \"GueltigAbDatMM\": 3, \"SexLang\": \"weiblich\", \"sum_WBev\": 6}, {\"GueltigAbDat\": \"2021-05-04T00:00:00\", \"GueltigAbDatJahr\": 2021, \"GueltigAbDatMM\": 5, \"SexLang\": \"m\\u00e4nnlich\", \"sum_WBev\": 6}, {\"GueltigAbDat\": \"2021-05-05T00:00:00\", \"GueltigAbDatJahr\": 2021, \"GueltigAbDatMM\": 5, \"SexLang\": \"m\\u00e4nnlich\", \"sum_WBev\": 6}, {\"GueltigAbDat\": \"2021-05-05T00:00:00\", \"GueltigAbDatJahr\": 2021, \"GueltigAbDatMM\": 5, \"SexLang\": \"weiblich\", \"sum_WBev\": 6}, {\"GueltigAbDat\": \"2021-05-08T00:00:00\", \"GueltigAbDatJahr\": 2021, \"GueltigAbDatMM\": 5, \"SexLang\": \"weiblich\", \"sum_WBev\": 6}, {\"GueltigAbDat\": \"2022-02-28T00:00:00\", \"GueltigAbDatJahr\": 2022, \"GueltigAbDatMM\": 2, \"SexLang\": \"m\\u00e4nnlich\", \"sum_WBev\": 6}, {\"GueltigAbDat\": \"2022-02-27T00:00:00\", \"GueltigAbDatJahr\": 2022, \"GueltigAbDatMM\": 2, \"SexLang\": \"weiblich\", \"sum_WBev\": 6}, {\"GueltigAbDat\": \"2022-01-08T00:00:00\", \"GueltigAbDatJahr\": 2022, \"GueltigAbDatMM\": 1, \"SexLang\": \"weiblich\", \"sum_WBev\": 6}, {\"GueltigAbDat\": \"2021-05-17T00:00:00\", \"GueltigAbDatJahr\": 2021, \"GueltigAbDatMM\": 5, \"SexLang\": \"weiblich\", \"sum_WBev\": 6}, {\"GueltigAbDat\": \"2021-05-18T00:00:00\", \"GueltigAbDatJahr\": 2021, \"GueltigAbDatMM\": 5, \"SexLang\": \"m\\u00e4nnlich\", \"sum_WBev\": 6}, {\"GueltigAbDat\": \"2021-07-14T00:00:00\", \"GueltigAbDatJahr\": 2021, \"GueltigAbDatMM\": 7, \"SexLang\": \"m\\u00e4nnlich\", \"sum_WBev\": 6}, {\"GueltigAbDat\": \"2021-05-21T00:00:00\", \"GueltigAbDatJahr\": 2021, \"GueltigAbDatMM\": 5, \"SexLang\": \"m\\u00e4nnlich\", \"sum_WBev\": 6}, {\"GueltigAbDat\": \"2021-11-28T00:00:00\", \"GueltigAbDatJahr\": 2021, \"GueltigAbDatMM\": 11, \"SexLang\": \"m\\u00e4nnlich\", \"sum_WBev\": 6}, {\"GueltigAbDat\": \"2021-11-09T00:00:00\", \"GueltigAbDatJahr\": 2021, \"GueltigAbDatMM\": 11, \"SexLang\": \"m\\u00e4nnlich\", \"sum_WBev\": 6}, {\"GueltigAbDat\": \"2021-11-27T00:00:00\", \"GueltigAbDatJahr\": 2021, \"GueltigAbDatMM\": 11, \"SexLang\": \"m\\u00e4nnlich\", \"sum_WBev\": 6}, {\"GueltigAbDat\": \"2021-05-27T00:00:00\", \"GueltigAbDatJahr\": 2021, \"GueltigAbDatMM\": 5, \"SexLang\": \"m\\u00e4nnlich\", \"sum_WBev\": 6}, {\"GueltigAbDat\": \"2021-05-29T00:00:00\", \"GueltigAbDatJahr\": 2021, \"GueltigAbDatMM\": 5, \"SexLang\": \"m\\u00e4nnlich\", \"sum_WBev\": 6}, {\"GueltigAbDat\": \"2021-05-29T00:00:00\", \"GueltigAbDatJahr\": 2021, \"GueltigAbDatMM\": 5, \"SexLang\": \"weiblich\", \"sum_WBev\": 6}, {\"GueltigAbDat\": \"2021-08-09T00:00:00\", \"GueltigAbDatJahr\": 2021, \"GueltigAbDatMM\": 8, \"SexLang\": \"weiblich\", \"sum_WBev\": 6}, {\"GueltigAbDat\": \"2021-06-01T00:00:00\", \"GueltigAbDatJahr\": 2021, \"GueltigAbDatMM\": 6, \"SexLang\": \"weiblich\", \"sum_WBev\": 6}, {\"GueltigAbDat\": \"2021-06-03T00:00:00\", \"GueltigAbDatJahr\": 2021, \"GueltigAbDatMM\": 6, \"SexLang\": \"m\\u00e4nnlich\", \"sum_WBev\": 6}, {\"GueltigAbDat\": \"2022-01-15T00:00:00\", \"GueltigAbDatJahr\": 2022, \"GueltigAbDatMM\": 1, \"SexLang\": \"weiblich\", \"sum_WBev\": 5}, {\"GueltigAbDat\": \"2021-11-08T00:00:00\", \"GueltigAbDatJahr\": 2021, \"GueltigAbDatMM\": 11, \"SexLang\": \"weiblich\", \"sum_WBev\": 5}, {\"GueltigAbDat\": \"2021-12-31T00:00:00\", \"GueltigAbDatJahr\": 2021, \"GueltigAbDatMM\": 12, \"SexLang\": \"m\\u00e4nnlich\", \"sum_WBev\": 5}, {\"GueltigAbDat\": \"2021-12-02T00:00:00\", \"GueltigAbDatJahr\": 2021, \"GueltigAbDatMM\": 12, \"SexLang\": \"weiblich\", \"sum_WBev\": 5}, {\"GueltigAbDat\": \"2021-12-23T00:00:00\", \"GueltigAbDatJahr\": 2021, \"GueltigAbDatMM\": 12, \"SexLang\": \"m\\u00e4nnlich\", \"sum_WBev\": 5}, {\"GueltigAbDat\": \"2021-12-22T00:00:00\", \"GueltigAbDatJahr\": 2021, \"GueltigAbDatMM\": 12, \"SexLang\": \"weiblich\", \"sum_WBev\": 5}, {\"GueltigAbDat\": \"2021-11-19T00:00:00\", \"GueltigAbDatJahr\": 2021, \"GueltigAbDatMM\": 11, \"SexLang\": \"weiblich\", \"sum_WBev\": 5}, {\"GueltigAbDat\": \"2021-11-20T00:00:00\", \"GueltigAbDatJahr\": 2021, \"GueltigAbDatMM\": 11, \"SexLang\": \"weiblich\", \"sum_WBev\": 5}, {\"GueltigAbDat\": \"2021-12-18T00:00:00\", \"GueltigAbDatJahr\": 2021, \"GueltigAbDatMM\": 12, \"SexLang\": \"m\\u00e4nnlich\", \"sum_WBev\": 5}, {\"GueltigAbDat\": \"2021-11-05T00:00:00\", \"GueltigAbDatJahr\": 2021, \"GueltigAbDatMM\": 11, \"SexLang\": \"weiblich\", \"sum_WBev\": 5}, {\"GueltigAbDat\": \"2022-01-11T00:00:00\", \"GueltigAbDatJahr\": 2022, \"GueltigAbDatMM\": 1, \"SexLang\": \"weiblich\", \"sum_WBev\": 5}, {\"GueltigAbDat\": \"2021-10-30T00:00:00\", \"GueltigAbDatJahr\": 2021, \"GueltigAbDatMM\": 10, \"SexLang\": \"weiblich\", \"sum_WBev\": 5}, {\"GueltigAbDat\": \"2021-12-15T00:00:00\", \"GueltigAbDatJahr\": 2021, \"GueltigAbDatMM\": 12, \"SexLang\": \"weiblich\", \"sum_WBev\": 5}, {\"GueltigAbDat\": \"2021-11-01T00:00:00\", \"GueltigAbDatJahr\": 2021, \"GueltigAbDatMM\": 11, \"SexLang\": \"m\\u00e4nnlich\", \"sum_WBev\": 5}, {\"GueltigAbDat\": \"2021-12-12T00:00:00\", \"GueltigAbDatJahr\": 2021, \"GueltigAbDatMM\": 12, \"SexLang\": \"m\\u00e4nnlich\", \"sum_WBev\": 5}, {\"GueltigAbDat\": \"2021-11-25T00:00:00\", \"GueltigAbDatJahr\": 2021, \"GueltigAbDatMM\": 11, \"SexLang\": \"m\\u00e4nnlich\", \"sum_WBev\": 5}, {\"GueltigAbDat\": \"2021-11-27T00:00:00\", \"GueltigAbDatJahr\": 2021, \"GueltigAbDatMM\": 11, \"SexLang\": \"weiblich\", \"sum_WBev\": 5}, {\"GueltigAbDat\": \"2022-01-09T00:00:00\", \"GueltigAbDatJahr\": 2022, \"GueltigAbDatMM\": 1, \"SexLang\": \"m\\u00e4nnlich\", \"sum_WBev\": 5}, {\"GueltigAbDat\": \"2021-11-02T00:00:00\", \"GueltigAbDatJahr\": 2021, \"GueltigAbDatMM\": 11, \"SexLang\": \"weiblich\", \"sum_WBev\": 5}, {\"GueltigAbDat\": \"2021-10-29T00:00:00\", \"GueltigAbDatJahr\": 2021, \"GueltigAbDatMM\": 10, \"SexLang\": \"m\\u00e4nnlich\", \"sum_WBev\": 5}, {\"GueltigAbDat\": \"2021-08-15T00:00:00\", \"GueltigAbDatJahr\": 2021, \"GueltigAbDatMM\": 8, \"SexLang\": \"m\\u00e4nnlich\", \"sum_WBev\": 5}, {\"GueltigAbDat\": \"2022-02-23T00:00:00\", \"GueltigAbDatJahr\": 2022, \"GueltigAbDatMM\": 2, \"SexLang\": \"weiblich\", \"sum_WBev\": 5}, {\"GueltigAbDat\": \"2022-03-05T00:00:00\", \"GueltigAbDatJahr\": 2022, \"GueltigAbDatMM\": 3, \"SexLang\": \"weiblich\", \"sum_WBev\": 5}, {\"GueltigAbDat\": \"2021-03-21T00:00:00\", \"GueltigAbDatJahr\": 2021, \"GueltigAbDatMM\": 3, \"SexLang\": \"weiblich\", \"sum_WBev\": 5}, {\"GueltigAbDat\": \"2021-03-26T00:00:00\", \"GueltigAbDatJahr\": 2021, \"GueltigAbDatMM\": 3, \"SexLang\": \"m\\u00e4nnlich\", \"sum_WBev\": 5}, {\"GueltigAbDat\": \"2021-04-02T00:00:00\", \"GueltigAbDatJahr\": 2021, \"GueltigAbDatMM\": 4, \"SexLang\": \"weiblich\", \"sum_WBev\": 5}, {\"GueltigAbDat\": \"2021-04-03T00:00:00\", \"GueltigAbDatJahr\": 2021, \"GueltigAbDatMM\": 4, \"SexLang\": \"m\\u00e4nnlich\", \"sum_WBev\": 5}, {\"GueltigAbDat\": \"2021-04-04T00:00:00\", \"GueltigAbDatJahr\": 2021, \"GueltigAbDatMM\": 4, \"SexLang\": \"m\\u00e4nnlich\", \"sum_WBev\": 5}, {\"GueltigAbDat\": \"2021-04-04T00:00:00\", \"GueltigAbDatJahr\": 2021, \"GueltigAbDatMM\": 4, \"SexLang\": \"weiblich\", \"sum_WBev\": 5}, {\"GueltigAbDat\": \"2022-03-08T00:00:00\", \"GueltigAbDatJahr\": 2022, \"GueltigAbDatMM\": 3, \"SexLang\": \"m\\u00e4nnlich\", \"sum_WBev\": 5}, {\"GueltigAbDat\": \"2021-04-18T00:00:00\", \"GueltigAbDatJahr\": 2021, \"GueltigAbDatMM\": 4, \"SexLang\": \"m\\u00e4nnlich\", \"sum_WBev\": 5}, {\"GueltigAbDat\": \"2022-03-07T00:00:00\", \"GueltigAbDatJahr\": 2022, \"GueltigAbDatMM\": 3, \"SexLang\": \"m\\u00e4nnlich\", \"sum_WBev\": 5}, {\"GueltigAbDat\": \"2021-04-21T00:00:00\", \"GueltigAbDatJahr\": 2021, \"GueltigAbDatMM\": 4, \"SexLang\": \"weiblich\", \"sum_WBev\": 5}, {\"GueltigAbDat\": \"2021-04-22T00:00:00\", \"GueltigAbDatJahr\": 2021, \"GueltigAbDatMM\": 4, \"SexLang\": \"m\\u00e4nnlich\", \"sum_WBev\": 5}, {\"GueltigAbDat\": \"2022-03-06T00:00:00\", \"GueltigAbDatJahr\": 2022, \"GueltigAbDatMM\": 3, \"SexLang\": \"weiblich\", \"sum_WBev\": 5}, {\"GueltigAbDat\": \"2021-04-25T00:00:00\", \"GueltigAbDatJahr\": 2021, \"GueltigAbDatMM\": 4, \"SexLang\": \"m\\u00e4nnlich\", \"sum_WBev\": 5}, {\"GueltigAbDat\": \"2021-03-19T00:00:00\", \"GueltigAbDatJahr\": 2021, \"GueltigAbDatMM\": 3, \"SexLang\": \"weiblich\", \"sum_WBev\": 5}, {\"GueltigAbDat\": \"2021-04-29T00:00:00\", \"GueltigAbDatJahr\": 2021, \"GueltigAbDatMM\": 4, \"SexLang\": \"weiblich\", \"sum_WBev\": 5}, {\"GueltigAbDat\": \"2021-04-30T00:00:00\", \"GueltigAbDatJahr\": 2021, \"GueltigAbDatMM\": 4, \"SexLang\": \"weiblich\", \"sum_WBev\": 5}, {\"GueltigAbDat\": \"2022-03-03T00:00:00\", \"GueltigAbDatJahr\": 2022, \"GueltigAbDatMM\": 3, \"SexLang\": \"weiblich\", \"sum_WBev\": 5}, {\"GueltigAbDat\": \"2021-05-03T00:00:00\", \"GueltigAbDatJahr\": 2021, \"GueltigAbDatMM\": 5, \"SexLang\": \"weiblich\", \"sum_WBev\": 5}, {\"GueltigAbDat\": \"2021-05-06T00:00:00\", \"GueltigAbDatJahr\": 2021, \"GueltigAbDatMM\": 5, \"SexLang\": \"m\\u00e4nnlich\", \"sum_WBev\": 5}, {\"GueltigAbDat\": \"2021-05-09T00:00:00\", \"GueltigAbDatJahr\": 2021, \"GueltigAbDatMM\": 5, \"SexLang\": \"weiblich\", \"sum_WBev\": 5}, {\"GueltigAbDat\": \"2021-05-13T00:00:00\", \"GueltigAbDatJahr\": 2021, \"GueltigAbDatMM\": 5, \"SexLang\": \"weiblich\", \"sum_WBev\": 5}, {\"GueltigAbDat\": \"2021-05-14T00:00:00\", \"GueltigAbDatJahr\": 2021, \"GueltigAbDatMM\": 5, \"SexLang\": \"m\\u00e4nnlich\", \"sum_WBev\": 5}, {\"GueltigAbDat\": \"2022-02-24T00:00:00\", \"GueltigAbDatJahr\": 2022, \"GueltigAbDatMM\": 2, \"SexLang\": \"weiblich\", \"sum_WBev\": 5}, {\"GueltigAbDat\": \"2022-02-24T00:00:00\", \"GueltigAbDatJahr\": 2022, \"GueltigAbDatMM\": 2, \"SexLang\": \"m\\u00e4nnlich\", \"sum_WBev\": 5}, {\"GueltigAbDat\": \"2021-10-23T00:00:00\", \"GueltigAbDatJahr\": 2021, \"GueltigAbDatMM\": 10, \"SexLang\": \"m\\u00e4nnlich\", \"sum_WBev\": 5}, {\"GueltigAbDat\": \"2021-05-24T00:00:00\", \"GueltigAbDatJahr\": 2021, \"GueltigAbDatMM\": 5, \"SexLang\": \"m\\u00e4nnlich\", \"sum_WBev\": 5}, {\"GueltigAbDat\": \"2021-03-20T00:00:00\", \"GueltigAbDatJahr\": 2021, \"GueltigAbDatMM\": 3, \"SexLang\": \"weiblich\", \"sum_WBev\": 5}, {\"GueltigAbDat\": \"2021-03-18T00:00:00\", \"GueltigAbDatJahr\": 2021, \"GueltigAbDatMM\": 3, \"SexLang\": \"m\\u00e4nnlich\", \"sum_WBev\": 5}, {\"GueltigAbDat\": \"2022-02-21T00:00:00\", \"GueltigAbDatJahr\": 2022, \"GueltigAbDatMM\": 2, \"SexLang\": \"weiblich\", \"sum_WBev\": 5}, {\"GueltigAbDat\": \"2021-01-28T00:00:00\", \"GueltigAbDatJahr\": 2021, \"GueltigAbDatMM\": 1, \"SexLang\": \"m\\u00e4nnlich\", \"sum_WBev\": 5}, {\"GueltigAbDat\": \"2021-01-03T00:00:00\", \"GueltigAbDatJahr\": 2021, \"GueltigAbDatMM\": 1, \"SexLang\": \"weiblich\", \"sum_WBev\": 5}, {\"GueltigAbDat\": \"2021-01-04T00:00:00\", \"GueltigAbDatJahr\": 2021, \"GueltigAbDatMM\": 1, \"SexLang\": \"weiblich\", \"sum_WBev\": 5}, {\"GueltigAbDat\": \"2021-01-06T00:00:00\", \"GueltigAbDatJahr\": 2021, \"GueltigAbDatMM\": 1, \"SexLang\": \"weiblich\", \"sum_WBev\": 5}, {\"GueltigAbDat\": \"2021-01-09T00:00:00\", \"GueltigAbDatJahr\": 2021, \"GueltigAbDatMM\": 1, \"SexLang\": \"weiblich\", \"sum_WBev\": 5}, {\"GueltigAbDat\": \"2021-01-10T00:00:00\", \"GueltigAbDatJahr\": 2021, \"GueltigAbDatMM\": 1, \"SexLang\": \"m\\u00e4nnlich\", \"sum_WBev\": 5}, {\"GueltigAbDat\": \"2021-01-11T00:00:00\", \"GueltigAbDatJahr\": 2021, \"GueltigAbDatMM\": 1, \"SexLang\": \"m\\u00e4nnlich\", \"sum_WBev\": 5}, {\"GueltigAbDat\": \"2022-03-30T00:00:00\", \"GueltigAbDatJahr\": 2022, \"GueltigAbDatMM\": 3, \"SexLang\": \"m\\u00e4nnlich\", \"sum_WBev\": 5}, {\"GueltigAbDat\": \"2021-01-15T00:00:00\", \"GueltigAbDatJahr\": 2021, \"GueltigAbDatMM\": 1, \"SexLang\": \"weiblich\", \"sum_WBev\": 5}, {\"GueltigAbDat\": \"2021-01-17T00:00:00\", \"GueltigAbDatJahr\": 2021, \"GueltigAbDatMM\": 1, \"SexLang\": \"m\\u00e4nnlich\", \"sum_WBev\": 5}, {\"GueltigAbDat\": \"2021-01-20T00:00:00\", \"GueltigAbDatJahr\": 2021, \"GueltigAbDatMM\": 1, \"SexLang\": \"weiblich\", \"sum_WBev\": 5}, {\"GueltigAbDat\": \"2022-03-23T00:00:00\", \"GueltigAbDatJahr\": 2022, \"GueltigAbDatMM\": 3, \"SexLang\": \"m\\u00e4nnlich\", \"sum_WBev\": 5}, {\"GueltigAbDat\": \"2021-01-27T00:00:00\", \"GueltigAbDatJahr\": 2021, \"GueltigAbDatMM\": 1, \"SexLang\": \"m\\u00e4nnlich\", \"sum_WBev\": 5}, {\"GueltigAbDat\": \"2022-03-20T00:00:00\", \"GueltigAbDatJahr\": 2022, \"GueltigAbDatMM\": 3, \"SexLang\": \"m\\u00e4nnlich\", \"sum_WBev\": 5}, {\"GueltigAbDat\": \"2021-03-17T00:00:00\", \"GueltigAbDatJahr\": 2021, \"GueltigAbDatMM\": 3, \"SexLang\": \"weiblich\", \"sum_WBev\": 5}, {\"GueltigAbDat\": \"2021-02-02T00:00:00\", \"GueltigAbDatJahr\": 2021, \"GueltigAbDatMM\": 2, \"SexLang\": \"weiblich\", \"sum_WBev\": 5}, {\"GueltigAbDat\": \"2022-03-17T00:00:00\", \"GueltigAbDatJahr\": 2022, \"GueltigAbDatMM\": 3, \"SexLang\": \"m\\u00e4nnlich\", \"sum_WBev\": 5}, {\"GueltigAbDat\": \"2021-02-17T00:00:00\", \"GueltigAbDatJahr\": 2021, \"GueltigAbDatMM\": 2, \"SexLang\": \"m\\u00e4nnlich\", \"sum_WBev\": 5}, {\"GueltigAbDat\": \"2021-02-21T00:00:00\", \"GueltigAbDatJahr\": 2021, \"GueltigAbDatMM\": 2, \"SexLang\": \"m\\u00e4nnlich\", \"sum_WBev\": 5}, {\"GueltigAbDat\": \"2021-02-26T00:00:00\", \"GueltigAbDatJahr\": 2021, \"GueltigAbDatMM\": 2, \"SexLang\": \"m\\u00e4nnlich\", \"sum_WBev\": 5}, {\"GueltigAbDat\": \"2021-02-28T00:00:00\", \"GueltigAbDatJahr\": 2021, \"GueltigAbDatMM\": 2, \"SexLang\": \"m\\u00e4nnlich\", \"sum_WBev\": 5}, {\"GueltigAbDat\": \"2021-03-02T00:00:00\", \"GueltigAbDatJahr\": 2021, \"GueltigAbDatMM\": 3, \"SexLang\": \"weiblich\", \"sum_WBev\": 5}, {\"GueltigAbDat\": \"2021-03-06T00:00:00\", \"GueltigAbDatJahr\": 2021, \"GueltigAbDatMM\": 3, \"SexLang\": \"m\\u00e4nnlich\", \"sum_WBev\": 5}, {\"GueltigAbDat\": \"2021-03-09T00:00:00\", \"GueltigAbDatJahr\": 2021, \"GueltigAbDatMM\": 3, \"SexLang\": \"weiblich\", \"sum_WBev\": 5}, {\"GueltigAbDat\": \"2021-03-12T00:00:00\", \"GueltigAbDatJahr\": 2021, \"GueltigAbDatMM\": 3, \"SexLang\": \"weiblich\", \"sum_WBev\": 5}, {\"GueltigAbDat\": \"2021-03-13T00:00:00\", \"GueltigAbDatJahr\": 2021, \"GueltigAbDatMM\": 3, \"SexLang\": \"weiblich\", \"sum_WBev\": 5}, {\"GueltigAbDat\": \"2022-03-11T00:00:00\", \"GueltigAbDatJahr\": 2022, \"GueltigAbDatMM\": 3, \"SexLang\": \"weiblich\", \"sum_WBev\": 5}, {\"GueltigAbDat\": \"2021-05-26T00:00:00\", \"GueltigAbDatJahr\": 2021, \"GueltigAbDatMM\": 5, \"SexLang\": \"weiblich\", \"sum_WBev\": 5}, {\"GueltigAbDat\": \"2021-07-01T00:00:00\", \"GueltigAbDatJahr\": 2021, \"GueltigAbDatMM\": 7, \"SexLang\": \"weiblich\", \"sum_WBev\": 5}, {\"GueltigAbDat\": \"2021-05-31T00:00:00\", \"GueltigAbDatJahr\": 2021, \"GueltigAbDatMM\": 5, \"SexLang\": \"weiblich\", \"sum_WBev\": 5}, {\"GueltigAbDat\": \"2022-02-06T00:00:00\", \"GueltigAbDatJahr\": 2022, \"GueltigAbDatMM\": 2, \"SexLang\": \"weiblich\", \"sum_WBev\": 5}, {\"GueltigAbDat\": \"2021-09-15T00:00:00\", \"GueltigAbDatJahr\": 2021, \"GueltigAbDatMM\": 9, \"SexLang\": \"m\\u00e4nnlich\", \"sum_WBev\": 5}, {\"GueltigAbDat\": \"2022-02-10T00:00:00\", \"GueltigAbDatJahr\": 2022, \"GueltigAbDatMM\": 2, \"SexLang\": \"weiblich\", \"sum_WBev\": 5}, {\"GueltigAbDat\": \"2022-02-10T00:00:00\", \"GueltigAbDatJahr\": 2022, \"GueltigAbDatMM\": 2, \"SexLang\": \"m\\u00e4nnlich\", \"sum_WBev\": 5}, {\"GueltigAbDat\": \"2021-08-01T00:00:00\", \"GueltigAbDatJahr\": 2021, \"GueltigAbDatMM\": 8, \"SexLang\": \"weiblich\", \"sum_WBev\": 5}, {\"GueltigAbDat\": \"2022-02-07T00:00:00\", \"GueltigAbDatJahr\": 2022, \"GueltigAbDatMM\": 2, \"SexLang\": \"weiblich\", \"sum_WBev\": 5}, {\"GueltigAbDat\": \"2021-10-05T00:00:00\", \"GueltigAbDatJahr\": 2021, \"GueltigAbDatMM\": 10, \"SexLang\": \"weiblich\", \"sum_WBev\": 5}, {\"GueltigAbDat\": \"2021-08-07T00:00:00\", \"GueltigAbDatJahr\": 2021, \"GueltigAbDatMM\": 8, \"SexLang\": \"m\\u00e4nnlich\", \"sum_WBev\": 5}, {\"GueltigAbDat\": \"2021-08-08T00:00:00\", \"GueltigAbDatJahr\": 2021, \"GueltigAbDatMM\": 8, \"SexLang\": \"m\\u00e4nnlich\", \"sum_WBev\": 5}, {\"GueltigAbDat\": \"2021-08-09T00:00:00\", \"GueltigAbDatJahr\": 2021, \"GueltigAbDatMM\": 8, \"SexLang\": \"m\\u00e4nnlich\", \"sum_WBev\": 5}, {\"GueltigAbDat\": \"2021-10-04T00:00:00\", \"GueltigAbDatJahr\": 2021, \"GueltigAbDatMM\": 10, \"SexLang\": \"m\\u00e4nnlich\", \"sum_WBev\": 5}, {\"GueltigAbDat\": \"2021-07-19T00:00:00\", \"GueltigAbDatJahr\": 2021, \"GueltigAbDatMM\": 7, \"SexLang\": \"weiblich\", \"sum_WBev\": 5}, {\"GueltigAbDat\": \"2021-08-22T00:00:00\", \"GueltigAbDatJahr\": 2021, \"GueltigAbDatMM\": 8, \"SexLang\": \"weiblich\", \"sum_WBev\": 5}, {\"GueltigAbDat\": \"2021-08-31T00:00:00\", \"GueltigAbDatJahr\": 2021, \"GueltigAbDatMM\": 8, \"SexLang\": \"weiblich\", \"sum_WBev\": 5}, {\"GueltigAbDat\": \"2021-09-03T00:00:00\", \"GueltigAbDatJahr\": 2021, \"GueltigAbDatMM\": 9, \"SexLang\": \"weiblich\", \"sum_WBev\": 5}, {\"GueltigAbDat\": \"2021-09-04T00:00:00\", \"GueltigAbDatJahr\": 2021, \"GueltigAbDatMM\": 9, \"SexLang\": \"weiblich\", \"sum_WBev\": 5}, {\"GueltigAbDat\": \"2022-02-03T00:00:00\", \"GueltigAbDatJahr\": 2022, \"GueltigAbDatMM\": 2, \"SexLang\": \"m\\u00e4nnlich\", \"sum_WBev\": 5}, {\"GueltigAbDat\": \"2022-02-02T00:00:00\", \"GueltigAbDatJahr\": 2022, \"GueltigAbDatMM\": 2, \"SexLang\": \"weiblich\", \"sum_WBev\": 5}, {\"GueltigAbDat\": \"2021-09-26T00:00:00\", \"GueltigAbDatJahr\": 2021, \"GueltigAbDatMM\": 9, \"SexLang\": \"weiblich\", \"sum_WBev\": 5}, {\"GueltigAbDat\": \"2022-02-01T00:00:00\", \"GueltigAbDatJahr\": 2022, \"GueltigAbDatMM\": 2, \"SexLang\": \"weiblich\", \"sum_WBev\": 5}, {\"GueltigAbDat\": \"2021-09-11T00:00:00\", \"GueltigAbDatJahr\": 2021, \"GueltigAbDatMM\": 9, \"SexLang\": \"weiblich\", \"sum_WBev\": 5}, {\"GueltigAbDat\": \"2021-10-07T00:00:00\", \"GueltigAbDatJahr\": 2021, \"GueltigAbDatMM\": 10, \"SexLang\": \"weiblich\", \"sum_WBev\": 5}, {\"GueltigAbDat\": \"2021-07-23T00:00:00\", \"GueltigAbDatJahr\": 2021, \"GueltigAbDatMM\": 7, \"SexLang\": \"weiblich\", \"sum_WBev\": 5}, {\"GueltigAbDat\": \"2021-07-14T00:00:00\", \"GueltigAbDatJahr\": 2021, \"GueltigAbDatMM\": 7, \"SexLang\": \"weiblich\", \"sum_WBev\": 5}, {\"GueltigAbDat\": \"2021-06-23T00:00:00\", \"GueltigAbDatJahr\": 2021, \"GueltigAbDatMM\": 6, \"SexLang\": \"m\\u00e4nnlich\", \"sum_WBev\": 5}, {\"GueltigAbDat\": \"2021-06-02T00:00:00\", \"GueltigAbDatJahr\": 2021, \"GueltigAbDatMM\": 6, \"SexLang\": \"m\\u00e4nnlich\", \"sum_WBev\": 5}, {\"GueltigAbDat\": \"2022-02-21T00:00:00\", \"GueltigAbDatJahr\": 2022, \"GueltigAbDatMM\": 2, \"SexLang\": \"m\\u00e4nnlich\", \"sum_WBev\": 5}, {\"GueltigAbDat\": \"2021-06-06T00:00:00\", \"GueltigAbDatJahr\": 2021, \"GueltigAbDatMM\": 6, \"SexLang\": \"m\\u00e4nnlich\", \"sum_WBev\": 5}, {\"GueltigAbDat\": \"2021-10-14T00:00:00\", \"GueltigAbDatJahr\": 2021, \"GueltigAbDatMM\": 10, \"SexLang\": \"weiblich\", \"sum_WBev\": 5}, {\"GueltigAbDat\": \"2021-10-10T00:00:00\", \"GueltigAbDatJahr\": 2021, \"GueltigAbDatMM\": 10, \"SexLang\": \"m\\u00e4nnlich\", \"sum_WBev\": 5}, {\"GueltigAbDat\": \"2021-06-18T00:00:00\", \"GueltigAbDatJahr\": 2021, \"GueltigAbDatMM\": 6, \"SexLang\": \"weiblich\", \"sum_WBev\": 5}, {\"GueltigAbDat\": \"2021-07-10T00:00:00\", \"GueltigAbDatJahr\": 2021, \"GueltigAbDatMM\": 7, \"SexLang\": \"weiblich\", \"sum_WBev\": 5}, {\"GueltigAbDat\": \"2021-10-08T00:00:00\", \"GueltigAbDatJahr\": 2021, \"GueltigAbDatMM\": 10, \"SexLang\": \"weiblich\", \"sum_WBev\": 5}, {\"GueltigAbDat\": \"2022-02-16T00:00:00\", \"GueltigAbDatJahr\": 2022, \"GueltigAbDatMM\": 2, \"SexLang\": \"weiblich\", \"sum_WBev\": 5}, {\"GueltigAbDat\": \"2021-06-26T00:00:00\", \"GueltigAbDatJahr\": 2021, \"GueltigAbDatMM\": 6, \"SexLang\": \"m\\u00e4nnlich\", \"sum_WBev\": 5}, {\"GueltigAbDat\": \"2021-12-30T00:00:00\", \"GueltigAbDatJahr\": 2021, \"GueltigAbDatMM\": 12, \"SexLang\": \"weiblich\", \"sum_WBev\": 5}, {\"GueltigAbDat\": \"2022-02-15T00:00:00\", \"GueltigAbDatJahr\": 2022, \"GueltigAbDatMM\": 2, \"SexLang\": \"weiblich\", \"sum_WBev\": 5}, {\"GueltigAbDat\": \"2021-07-03T00:00:00\", \"GueltigAbDatJahr\": 2021, \"GueltigAbDatMM\": 7, \"SexLang\": \"m\\u00e4nnlich\", \"sum_WBev\": 5}, {\"GueltigAbDat\": \"2022-02-15T00:00:00\", \"GueltigAbDatJahr\": 2022, \"GueltigAbDatMM\": 2, \"SexLang\": \"m\\u00e4nnlich\", \"sum_WBev\": 5}, {\"GueltigAbDat\": \"2021-07-06T00:00:00\", \"GueltigAbDatJahr\": 2021, \"GueltigAbDatMM\": 7, \"SexLang\": \"m\\u00e4nnlich\", \"sum_WBev\": 5}, {\"GueltigAbDat\": \"2022-01-30T00:00:00\", \"GueltigAbDatJahr\": 2022, \"GueltigAbDatMM\": 1, \"SexLang\": \"weiblich\", \"sum_WBev\": 5}, {\"GueltigAbDat\": \"2022-01-02T00:00:00\", \"GueltigAbDatJahr\": 2022, \"GueltigAbDatMM\": 1, \"SexLang\": \"m\\u00e4nnlich\", \"sum_WBev\": 4}, {\"GueltigAbDat\": \"2022-01-23T00:00:00\", \"GueltigAbDatJahr\": 2022, \"GueltigAbDatMM\": 1, \"SexLang\": \"weiblich\", \"sum_WBev\": 4}, {\"GueltigAbDat\": \"2022-01-25T00:00:00\", \"GueltigAbDatJahr\": 2022, \"GueltigAbDatMM\": 1, \"SexLang\": \"weiblich\", \"sum_WBev\": 4}, {\"GueltigAbDat\": \"2022-03-28T00:00:00\", \"GueltigAbDatJahr\": 2022, \"GueltigAbDatMM\": 3, \"SexLang\": \"m\\u00e4nnlich\", \"sum_WBev\": 4}, {\"GueltigAbDat\": \"2022-03-31T00:00:00\", \"GueltigAbDatJahr\": 2022, \"GueltigAbDatMM\": 3, \"SexLang\": \"m\\u00e4nnlich\", \"sum_WBev\": 4}, {\"GueltigAbDat\": \"2022-01-23T00:00:00\", \"GueltigAbDatJahr\": 2022, \"GueltigAbDatMM\": 1, \"SexLang\": \"m\\u00e4nnlich\", \"sum_WBev\": 4}, {\"GueltigAbDat\": \"2022-01-27T00:00:00\", \"GueltigAbDatJahr\": 2022, \"GueltigAbDatMM\": 1, \"SexLang\": \"m\\u00e4nnlich\", \"sum_WBev\": 4}, {\"GueltigAbDat\": \"2022-01-19T00:00:00\", \"GueltigAbDatJahr\": 2022, \"GueltigAbDatMM\": 1, \"SexLang\": \"weiblich\", \"sum_WBev\": 4}, {\"GueltigAbDat\": \"2022-01-27T00:00:00\", \"GueltigAbDatJahr\": 2022, \"GueltigAbDatMM\": 1, \"SexLang\": \"weiblich\", \"sum_WBev\": 4}, {\"GueltigAbDat\": \"2022-02-07T00:00:00\", \"GueltigAbDatJahr\": 2022, \"GueltigAbDatMM\": 2, \"SexLang\": \"m\\u00e4nnlich\", \"sum_WBev\": 4}, {\"GueltigAbDat\": \"2022-03-19T00:00:00\", \"GueltigAbDatJahr\": 2022, \"GueltigAbDatMM\": 3, \"SexLang\": \"weiblich\", \"sum_WBev\": 4}, {\"GueltigAbDat\": \"2022-02-14T00:00:00\", \"GueltigAbDatJahr\": 2022, \"GueltigAbDatMM\": 2, \"SexLang\": \"m\\u00e4nnlich\", \"sum_WBev\": 4}, {\"GueltigAbDat\": \"2022-02-20T00:00:00\", \"GueltigAbDatJahr\": 2022, \"GueltigAbDatMM\": 2, \"SexLang\": \"m\\u00e4nnlich\", \"sum_WBev\": 4}, {\"GueltigAbDat\": \"2022-02-19T00:00:00\", \"GueltigAbDatJahr\": 2022, \"GueltigAbDatMM\": 2, \"SexLang\": \"weiblich\", \"sum_WBev\": 4}, {\"GueltigAbDat\": \"2022-02-19T00:00:00\", \"GueltigAbDatJahr\": 2022, \"GueltigAbDatMM\": 2, \"SexLang\": \"m\\u00e4nnlich\", \"sum_WBev\": 4}, {\"GueltigAbDat\": \"2022-02-17T00:00:00\", \"GueltigAbDatJahr\": 2022, \"GueltigAbDatMM\": 2, \"SexLang\": \"m\\u00e4nnlich\", \"sum_WBev\": 4}, {\"GueltigAbDat\": \"2022-03-01T00:00:00\", \"GueltigAbDatJahr\": 2022, \"GueltigAbDatMM\": 3, \"SexLang\": \"m\\u00e4nnlich\", \"sum_WBev\": 4}, {\"GueltigAbDat\": \"2022-02-16T00:00:00\", \"GueltigAbDatJahr\": 2022, \"GueltigAbDatMM\": 2, \"SexLang\": \"m\\u00e4nnlich\", \"sum_WBev\": 4}, {\"GueltigAbDat\": \"2022-03-09T00:00:00\", \"GueltigAbDatJahr\": 2022, \"GueltigAbDatMM\": 3, \"SexLang\": \"m\\u00e4nnlich\", \"sum_WBev\": 4}, {\"GueltigAbDat\": \"2022-03-16T00:00:00\", \"GueltigAbDatJahr\": 2022, \"GueltigAbDatMM\": 3, \"SexLang\": \"weiblich\", \"sum_WBev\": 4}, {\"GueltigAbDat\": \"2022-01-16T00:00:00\", \"GueltigAbDatJahr\": 2022, \"GueltigAbDatMM\": 1, \"SexLang\": \"weiblich\", \"sum_WBev\": 4}, {\"GueltigAbDat\": \"2022-02-22T00:00:00\", \"GueltigAbDatJahr\": 2022, \"GueltigAbDatMM\": 2, \"SexLang\": \"m\\u00e4nnlich\", \"sum_WBev\": 4}, {\"GueltigAbDat\": \"2022-02-06T00:00:00\", \"GueltigAbDatJahr\": 2022, \"GueltigAbDatMM\": 2, \"SexLang\": \"m\\u00e4nnlich\", \"sum_WBev\": 4}, {\"GueltigAbDat\": \"2022-03-12T00:00:00\", \"GueltigAbDatJahr\": 2022, \"GueltigAbDatMM\": 3, \"SexLang\": \"weiblich\", \"sum_WBev\": 4}, {\"GueltigAbDat\": \"2022-01-17T00:00:00\", \"GueltigAbDatJahr\": 2022, \"GueltigAbDatMM\": 1, \"SexLang\": \"weiblich\", \"sum_WBev\": 4}, {\"GueltigAbDat\": \"2022-03-16T00:00:00\", \"GueltigAbDatJahr\": 2022, \"GueltigAbDatMM\": 3, \"SexLang\": \"m\\u00e4nnlich\", \"sum_WBev\": 4}, {\"GueltigAbDat\": \"2022-01-20T00:00:00\", \"GueltigAbDatJahr\": 2022, \"GueltigAbDatMM\": 1, \"SexLang\": \"m\\u00e4nnlich\", \"sum_WBev\": 4}, {\"GueltigAbDat\": \"2021-01-01T00:00:00\", \"GueltigAbDatJahr\": 2021, \"GueltigAbDatMM\": 1, \"SexLang\": \"m\\u00e4nnlich\", \"sum_WBev\": 4}, {\"GueltigAbDat\": \"2021-12-29T00:00:00\", \"GueltigAbDatJahr\": 2021, \"GueltigAbDatMM\": 12, \"SexLang\": \"m\\u00e4nnlich\", \"sum_WBev\": 4}, {\"GueltigAbDat\": \"2021-04-03T00:00:00\", \"GueltigAbDatJahr\": 2021, \"GueltigAbDatMM\": 4, \"SexLang\": \"weiblich\", \"sum_WBev\": 4}, {\"GueltigAbDat\": \"2021-07-08T00:00:00\", \"GueltigAbDatJahr\": 2021, \"GueltigAbDatMM\": 7, \"SexLang\": \"weiblich\", \"sum_WBev\": 4}, {\"GueltigAbDat\": \"2021-07-17T00:00:00\", \"GueltigAbDatJahr\": 2021, \"GueltigAbDatMM\": 7, \"SexLang\": \"weiblich\", \"sum_WBev\": 4}, {\"GueltigAbDat\": \"2021-07-22T00:00:00\", \"GueltigAbDatJahr\": 2021, \"GueltigAbDatMM\": 7, \"SexLang\": \"m\\u00e4nnlich\", \"sum_WBev\": 4}, {\"GueltigAbDat\": \"2021-07-25T00:00:00\", \"GueltigAbDatJahr\": 2021, \"GueltigAbDatMM\": 7, \"SexLang\": \"m\\u00e4nnlich\", \"sum_WBev\": 4}, {\"GueltigAbDat\": \"2021-08-01T00:00:00\", \"GueltigAbDatJahr\": 2021, \"GueltigAbDatMM\": 8, \"SexLang\": \"m\\u00e4nnlich\", \"sum_WBev\": 4}, {\"GueltigAbDat\": \"2021-08-12T00:00:00\", \"GueltigAbDatJahr\": 2021, \"GueltigAbDatMM\": 8, \"SexLang\": \"weiblich\", \"sum_WBev\": 4}, {\"GueltigAbDat\": \"2021-08-21T00:00:00\", \"GueltigAbDatJahr\": 2021, \"GueltigAbDatMM\": 8, \"SexLang\": \"weiblich\", \"sum_WBev\": 4}, {\"GueltigAbDat\": \"2021-09-02T00:00:00\", \"GueltigAbDatJahr\": 2021, \"GueltigAbDatMM\": 9, \"SexLang\": \"weiblich\", \"sum_WBev\": 4}, {\"GueltigAbDat\": \"2021-09-07T00:00:00\", \"GueltigAbDatJahr\": 2021, \"GueltigAbDatMM\": 9, \"SexLang\": \"m\\u00e4nnlich\", \"sum_WBev\": 4}, {\"GueltigAbDat\": \"2021-07-02T00:00:00\", \"GueltigAbDatJahr\": 2021, \"GueltigAbDatMM\": 7, \"SexLang\": \"m\\u00e4nnlich\", \"sum_WBev\": 4}, {\"GueltigAbDat\": \"2021-09-07T00:00:00\", \"GueltigAbDatJahr\": 2021, \"GueltigAbDatMM\": 9, \"SexLang\": \"weiblich\", \"sum_WBev\": 4}, {\"GueltigAbDat\": \"2021-02-01T00:00:00\", \"GueltigAbDatJahr\": 2021, \"GueltigAbDatMM\": 2, \"SexLang\": \"weiblich\", \"sum_WBev\": 4}, {\"GueltigAbDat\": \"2021-09-10T00:00:00\", \"GueltigAbDatJahr\": 2021, \"GueltigAbDatMM\": 9, \"SexLang\": \"weiblich\", \"sum_WBev\": 4}, {\"GueltigAbDat\": \"2021-01-24T00:00:00\", \"GueltigAbDatJahr\": 2021, \"GueltigAbDatMM\": 1, \"SexLang\": \"weiblich\", \"sum_WBev\": 4}, {\"GueltigAbDat\": \"2021-09-17T00:00:00\", \"GueltigAbDatJahr\": 2021, \"GueltigAbDatMM\": 9, \"SexLang\": \"m\\u00e4nnlich\", \"sum_WBev\": 4}, {\"GueltigAbDat\": \"2021-01-23T00:00:00\", \"GueltigAbDatJahr\": 2021, \"GueltigAbDatMM\": 1, \"SexLang\": \"m\\u00e4nnlich\", \"sum_WBev\": 4}, {\"GueltigAbDat\": \"2021-09-25T00:00:00\", \"GueltigAbDatJahr\": 2021, \"GueltigAbDatMM\": 9, \"SexLang\": \"m\\u00e4nnlich\", \"sum_WBev\": 4}, {\"GueltigAbDat\": \"2021-10-02T00:00:00\", \"GueltigAbDatJahr\": 2021, \"GueltigAbDatMM\": 10, \"SexLang\": \"weiblich\", \"sum_WBev\": 4}, {\"GueltigAbDat\": \"2021-07-03T00:00:00\", \"GueltigAbDatJahr\": 2021, \"GueltigAbDatMM\": 7, \"SexLang\": \"weiblich\", \"sum_WBev\": 4}, {\"GueltigAbDat\": \"2021-02-12T00:00:00\", \"GueltigAbDatJahr\": 2021, \"GueltigAbDatMM\": 2, \"SexLang\": \"m\\u00e4nnlich\", \"sum_WBev\": 4}, {\"GueltigAbDat\": \"2021-10-08T00:00:00\", \"GueltigAbDatJahr\": 2021, \"GueltigAbDatMM\": 10, \"SexLang\": \"m\\u00e4nnlich\", \"sum_WBev\": 4}, {\"GueltigAbDat\": \"2021-03-02T00:00:00\", \"GueltigAbDatJahr\": 2021, \"GueltigAbDatMM\": 3, \"SexLang\": \"m\\u00e4nnlich\", \"sum_WBev\": 4}, {\"GueltigAbDat\": \"2021-04-16T00:00:00\", \"GueltigAbDatJahr\": 2021, \"GueltigAbDatMM\": 4, \"SexLang\": \"m\\u00e4nnlich\", \"sum_WBev\": 4}, {\"GueltigAbDat\": \"2021-04-20T00:00:00\", \"GueltigAbDatJahr\": 2021, \"GueltigAbDatMM\": 4, \"SexLang\": \"m\\u00e4nnlich\", \"sum_WBev\": 4}, {\"GueltigAbDat\": \"2021-04-24T00:00:00\", \"GueltigAbDatJahr\": 2021, \"GueltigAbDatMM\": 4, \"SexLang\": \"m\\u00e4nnlich\", \"sum_WBev\": 4}, {\"GueltigAbDat\": \"2021-04-24T00:00:00\", \"GueltigAbDatJahr\": 2021, \"GueltigAbDatMM\": 4, \"SexLang\": \"weiblich\", \"sum_WBev\": 4}, {\"GueltigAbDat\": \"2021-03-07T00:00:00\", \"GueltigAbDatJahr\": 2021, \"GueltigAbDatMM\": 3, \"SexLang\": \"weiblich\", \"sum_WBev\": 4}, {\"GueltigAbDat\": \"2021-04-28T00:00:00\", \"GueltigAbDatJahr\": 2021, \"GueltigAbDatMM\": 4, \"SexLang\": \"m\\u00e4nnlich\", \"sum_WBev\": 4}, {\"GueltigAbDat\": \"2021-05-02T00:00:00\", \"GueltigAbDatJahr\": 2021, \"GueltigAbDatMM\": 5, \"SexLang\": \"m\\u00e4nnlich\", \"sum_WBev\": 4}, {\"GueltigAbDat\": \"2021-05-02T00:00:00\", \"GueltigAbDatJahr\": 2021, \"GueltigAbDatMM\": 5, \"SexLang\": \"weiblich\", \"sum_WBev\": 4}, {\"GueltigAbDat\": \"2021-05-11T00:00:00\", \"GueltigAbDatJahr\": 2021, \"GueltigAbDatMM\": 5, \"SexLang\": \"weiblich\", \"sum_WBev\": 4}, {\"GueltigAbDat\": \"2021-06-14T00:00:00\", \"GueltigAbDatJahr\": 2021, \"GueltigAbDatMM\": 6, \"SexLang\": \"weiblich\", \"sum_WBev\": 4}, {\"GueltigAbDat\": \"2021-05-12T00:00:00\", \"GueltigAbDatJahr\": 2021, \"GueltigAbDatMM\": 5, \"SexLang\": \"m\\u00e4nnlich\", \"sum_WBev\": 4}, {\"GueltigAbDat\": \"2021-05-16T00:00:00\", \"GueltigAbDatJahr\": 2021, \"GueltigAbDatMM\": 5, \"SexLang\": \"m\\u00e4nnlich\", \"sum_WBev\": 4}, {\"GueltigAbDat\": \"2021-05-18T00:00:00\", \"GueltigAbDatJahr\": 2021, \"GueltigAbDatMM\": 5, \"SexLang\": \"weiblich\", \"sum_WBev\": 4}, {\"GueltigAbDat\": \"2021-02-26T00:00:00\", \"GueltigAbDatJahr\": 2021, \"GueltigAbDatMM\": 2, \"SexLang\": \"weiblich\", \"sum_WBev\": 4}, {\"GueltigAbDat\": \"2021-02-21T00:00:00\", \"GueltigAbDatJahr\": 2021, \"GueltigAbDatMM\": 2, \"SexLang\": \"weiblich\", \"sum_WBev\": 4}, {\"GueltigAbDat\": \"2021-06-05T00:00:00\", \"GueltigAbDatJahr\": 2021, \"GueltigAbDatMM\": 6, \"SexLang\": \"m\\u00e4nnlich\", \"sum_WBev\": 4}, {\"GueltigAbDat\": \"2021-06-08T00:00:00\", \"GueltigAbDatJahr\": 2021, \"GueltigAbDatMM\": 6, \"SexLang\": \"m\\u00e4nnlich\", \"sum_WBev\": 4}, {\"GueltigAbDat\": \"2021-06-13T00:00:00\", \"GueltigAbDatJahr\": 2021, \"GueltigAbDatMM\": 6, \"SexLang\": \"weiblich\", \"sum_WBev\": 4}, {\"GueltigAbDat\": \"2021-10-07T00:00:00\", \"GueltigAbDatJahr\": 2021, \"GueltigAbDatMM\": 10, \"SexLang\": \"m\\u00e4nnlich\", \"sum_WBev\": 4}, {\"GueltigAbDat\": \"2021-09-04T00:00:00\", \"GueltigAbDatJahr\": 2021, \"GueltigAbDatMM\": 9, \"SexLang\": \"m\\u00e4nnlich\", \"sum_WBev\": 4}, {\"GueltigAbDat\": \"2021-04-05T00:00:00\", \"GueltigAbDatJahr\": 2021, \"GueltigAbDatMM\": 4, \"SexLang\": \"m\\u00e4nnlich\", \"sum_WBev\": 4}, {\"GueltigAbDat\": \"2021-11-29T00:00:00\", \"GueltigAbDatJahr\": 2021, \"GueltigAbDatMM\": 11, \"SexLang\": \"weiblich\", \"sum_WBev\": 4}, {\"GueltigAbDat\": \"2021-12-04T00:00:00\", \"GueltigAbDatJahr\": 2021, \"GueltigAbDatMM\": 12, \"SexLang\": \"weiblich\", \"sum_WBev\": 4}, {\"GueltigAbDat\": \"2021-12-16T00:00:00\", \"GueltigAbDatJahr\": 2021, \"GueltigAbDatMM\": 12, \"SexLang\": \"m\\u00e4nnlich\", \"sum_WBev\": 4}, {\"GueltigAbDat\": \"2021-12-20T00:00:00\", \"GueltigAbDatJahr\": 2021, \"GueltigAbDatMM\": 12, \"SexLang\": \"m\\u00e4nnlich\", \"sum_WBev\": 4}, {\"GueltigAbDat\": \"2021-11-12T00:00:00\", \"GueltigAbDatJahr\": 2021, \"GueltigAbDatMM\": 11, \"SexLang\": \"weiblich\", \"sum_WBev\": 4}, {\"GueltigAbDat\": \"2021-11-16T00:00:00\", \"GueltigAbDatJahr\": 2021, \"GueltigAbDatMM\": 11, \"SexLang\": \"m\\u00e4nnlich\", \"sum_WBev\": 4}, {\"GueltigAbDat\": \"2021-11-11T00:00:00\", \"GueltigAbDatJahr\": 2021, \"GueltigAbDatMM\": 11, \"SexLang\": \"weiblich\", \"sum_WBev\": 4}, {\"GueltigAbDat\": \"2021-11-07T00:00:00\", \"GueltigAbDatJahr\": 2021, \"GueltigAbDatMM\": 11, \"SexLang\": \"weiblich\", \"sum_WBev\": 4}, {\"GueltigAbDat\": \"2021-11-07T00:00:00\", \"GueltigAbDatJahr\": 2021, \"GueltigAbDatMM\": 11, \"SexLang\": \"m\\u00e4nnlich\", \"sum_WBev\": 4}, {\"GueltigAbDat\": \"2021-01-21T00:00:00\", \"GueltigAbDatJahr\": 2021, \"GueltigAbDatMM\": 1, \"SexLang\": \"weiblich\", \"sum_WBev\": 4}, {\"GueltigAbDat\": \"2021-12-06T00:00:00\", \"GueltigAbDatJahr\": 2021, \"GueltigAbDatMM\": 12, \"SexLang\": \"weiblich\", \"sum_WBev\": 4}, {\"GueltigAbDat\": \"2021-11-06T00:00:00\", \"GueltigAbDatJahr\": 2021, \"GueltigAbDatMM\": 11, \"SexLang\": \"m\\u00e4nnlich\", \"sum_WBev\": 4}, {\"GueltigAbDat\": \"2021-12-24T00:00:00\", \"GueltigAbDatJahr\": 2021, \"GueltigAbDatMM\": 12, \"SexLang\": \"m\\u00e4nnlich\", \"sum_WBev\": 4}, {\"GueltigAbDat\": \"2021-12-24T00:00:00\", \"GueltigAbDatJahr\": 2021, \"GueltigAbDatMM\": 12, \"SexLang\": \"weiblich\", \"sum_WBev\": 4}, {\"GueltigAbDat\": \"2021-12-25T00:00:00\", \"GueltigAbDatJahr\": 2021, \"GueltigAbDatMM\": 12, \"SexLang\": \"m\\u00e4nnlich\", \"sum_WBev\": 4}, {\"GueltigAbDat\": \"2021-11-21T00:00:00\", \"GueltigAbDatJahr\": 2021, \"GueltigAbDatMM\": 11, \"SexLang\": \"weiblich\", \"sum_WBev\": 4}, {\"GueltigAbDat\": \"2021-10-17T00:00:00\", \"GueltigAbDatJahr\": 2021, \"GueltigAbDatMM\": 10, \"SexLang\": \"m\\u00e4nnlich\", \"sum_WBev\": 4}, {\"GueltigAbDat\": \"2021-12-26T00:00:00\", \"GueltigAbDatJahr\": 2021, \"GueltigAbDatMM\": 12, \"SexLang\": \"m\\u00e4nnlich\", \"sum_WBev\": 4}, {\"GueltigAbDat\": \"2021-10-31T00:00:00\", \"GueltigAbDatJahr\": 2021, \"GueltigAbDatMM\": 10, \"SexLang\": \"weiblich\", \"sum_WBev\": 4}, {\"GueltigAbDat\": \"2021-12-08T00:00:00\", \"GueltigAbDatJahr\": 2021, \"GueltigAbDatMM\": 12, \"SexLang\": \"weiblich\", \"sum_WBev\": 4}, {\"GueltigAbDat\": \"2021-01-14T00:00:00\", \"GueltigAbDatJahr\": 2021, \"GueltigAbDatMM\": 1, \"SexLang\": \"m\\u00e4nnlich\", \"sum_WBev\": 4}, {\"GueltigAbDat\": \"2021-10-30T00:00:00\", \"GueltigAbDatJahr\": 2021, \"GueltigAbDatMM\": 10, \"SexLang\": \"m\\u00e4nnlich\", \"sum_WBev\": 4}, {\"GueltigAbDat\": \"2021-02-14T00:00:00\", \"GueltigAbDatJahr\": 2021, \"GueltigAbDatMM\": 2, \"SexLang\": \"weiblich\", \"sum_WBev\": 3}, {\"GueltigAbDat\": \"2021-05-30T00:00:00\", \"GueltigAbDatJahr\": 2021, \"GueltigAbDatMM\": 5, \"SexLang\": \"m\\u00e4nnlich\", \"sum_WBev\": 3}, {\"GueltigAbDat\": \"2022-02-22T00:00:00\", \"GueltigAbDatJahr\": 2022, \"GueltigAbDatMM\": 2, \"SexLang\": \"weiblich\", \"sum_WBev\": 3}, {\"GueltigAbDat\": \"2021-02-12T00:00:00\", \"GueltigAbDatJahr\": 2021, \"GueltigAbDatMM\": 2, \"SexLang\": \"weiblich\", \"sum_WBev\": 3}, {\"GueltigAbDat\": \"2022-03-15T00:00:00\", \"GueltigAbDatJahr\": 2022, \"GueltigAbDatMM\": 3, \"SexLang\": \"m\\u00e4nnlich\", \"sum_WBev\": 3}, {\"GueltigAbDat\": \"2022-01-08T00:00:00\", \"GueltigAbDatJahr\": 2022, \"GueltigAbDatMM\": 1, \"SexLang\": \"m\\u00e4nnlich\", \"sum_WBev\": 3}, {\"GueltigAbDat\": \"2021-05-23T00:00:00\", \"GueltigAbDatJahr\": 2021, \"GueltigAbDatMM\": 5, \"SexLang\": \"weiblich\", \"sum_WBev\": 3}, {\"GueltigAbDat\": \"2021-01-18T00:00:00\", \"GueltigAbDatJahr\": 2021, \"GueltigAbDatMM\": 1, \"SexLang\": \"m\\u00e4nnlich\", \"sum_WBev\": 3}, {\"GueltigAbDat\": \"2022-03-13T00:00:00\", \"GueltigAbDatJahr\": 2022, \"GueltigAbDatMM\": 3, \"SexLang\": \"weiblich\", \"sum_WBev\": 3}, {\"GueltigAbDat\": \"2022-02-25T00:00:00\", \"GueltigAbDatJahr\": 2022, \"GueltigAbDatMM\": 2, \"SexLang\": \"m\\u00e4nnlich\", \"sum_WBev\": 3}, {\"GueltigAbDat\": \"2022-02-26T00:00:00\", \"GueltigAbDatJahr\": 2022, \"GueltigAbDatMM\": 2, \"SexLang\": \"weiblich\", \"sum_WBev\": 3}, {\"GueltigAbDat\": \"2021-05-15T00:00:00\", \"GueltigAbDatJahr\": 2021, \"GueltigAbDatMM\": 5, \"SexLang\": \"weiblich\", \"sum_WBev\": 3}, {\"GueltigAbDat\": \"2021-05-08T00:00:00\", \"GueltigAbDatJahr\": 2021, \"GueltigAbDatMM\": 5, \"SexLang\": \"m\\u00e4nnlich\", \"sum_WBev\": 3}, {\"GueltigAbDat\": \"2021-06-26T00:00:00\", \"GueltigAbDatJahr\": 2021, \"GueltigAbDatMM\": 6, \"SexLang\": \"weiblich\", \"sum_WBev\": 3}, {\"GueltigAbDat\": \"2022-03-13T00:00:00\", \"GueltigAbDatJahr\": 2022, \"GueltigAbDatMM\": 3, \"SexLang\": \"m\\u00e4nnlich\", \"sum_WBev\": 3}, {\"GueltigAbDat\": \"2022-01-04T00:00:00\", \"GueltigAbDatJahr\": 2022, \"GueltigAbDatMM\": 1, \"SexLang\": \"weiblich\", \"sum_WBev\": 3}, {\"GueltigAbDat\": \"2022-03-03T00:00:00\", \"GueltigAbDatJahr\": 2022, \"GueltigAbDatMM\": 3, \"SexLang\": \"m\\u00e4nnlich\", \"sum_WBev\": 3}, {\"GueltigAbDat\": \"2021-12-20T00:00:00\", \"GueltigAbDatJahr\": 2021, \"GueltigAbDatMM\": 12, \"SexLang\": \"weiblich\", \"sum_WBev\": 3}, {\"GueltigAbDat\": \"2022-03-04T00:00:00\", \"GueltigAbDatJahr\": 2022, \"GueltigAbDatMM\": 3, \"SexLang\": \"weiblich\", \"sum_WBev\": 3}, {\"GueltigAbDat\": \"2021-03-15T00:00:00\", \"GueltigAbDatJahr\": 2021, \"GueltigAbDatMM\": 3, \"SexLang\": \"m\\u00e4nnlich\", \"sum_WBev\": 3}, {\"GueltigAbDat\": \"2021-12-25T00:00:00\", \"GueltigAbDatJahr\": 2021, \"GueltigAbDatMM\": 12, \"SexLang\": \"weiblich\", \"sum_WBev\": 3}, {\"GueltigAbDat\": \"2021-03-22T00:00:00\", \"GueltigAbDatJahr\": 2021, \"GueltigAbDatMM\": 3, \"SexLang\": \"m\\u00e4nnlich\", \"sum_WBev\": 3}, {\"GueltigAbDat\": \"2021-03-28T00:00:00\", \"GueltigAbDatJahr\": 2021, \"GueltigAbDatMM\": 3, \"SexLang\": \"weiblich\", \"sum_WBev\": 3}, {\"GueltigAbDat\": \"2021-04-05T00:00:00\", \"GueltigAbDatJahr\": 2021, \"GueltigAbDatMM\": 4, \"SexLang\": \"weiblich\", \"sum_WBev\": 3}, {\"GueltigAbDat\": \"2021-06-17T00:00:00\", \"GueltigAbDatJahr\": 2021, \"GueltigAbDatMM\": 6, \"SexLang\": \"m\\u00e4nnlich\", \"sum_WBev\": 3}, {\"GueltigAbDat\": \"2022-01-22T00:00:00\", \"GueltigAbDatJahr\": 2022, \"GueltigAbDatMM\": 1, \"SexLang\": \"weiblich\", \"sum_WBev\": 3}, {\"GueltigAbDat\": \"2022-01-12T00:00:00\", \"GueltigAbDatJahr\": 2022, \"GueltigAbDatMM\": 1, \"SexLang\": \"m\\u00e4nnlich\", \"sum_WBev\": 3}, {\"GueltigAbDat\": \"2021-08-04T00:00:00\", \"GueltigAbDatJahr\": 2021, \"GueltigAbDatMM\": 8, \"SexLang\": \"weiblich\", \"sum_WBev\": 3}, {\"GueltigAbDat\": \"2021-09-13T00:00:00\", \"GueltigAbDatJahr\": 2021, \"GueltigAbDatMM\": 9, \"SexLang\": \"weiblich\", \"sum_WBev\": 3}, {\"GueltigAbDat\": \"2021-09-12T00:00:00\", \"GueltigAbDatJahr\": 2021, \"GueltigAbDatMM\": 9, \"SexLang\": \"weiblich\", \"sum_WBev\": 3}, {\"GueltigAbDat\": \"2022-01-31T00:00:00\", \"GueltigAbDatJahr\": 2022, \"GueltigAbDatMM\": 1, \"SexLang\": \"m\\u00e4nnlich\", \"sum_WBev\": 3}, {\"GueltigAbDat\": \"2021-09-20T00:00:00\", \"GueltigAbDatJahr\": 2021, \"GueltigAbDatMM\": 9, \"SexLang\": \"weiblich\", \"sum_WBev\": 3}, {\"GueltigAbDat\": \"2022-03-25T00:00:00\", \"GueltigAbDatJahr\": 2022, \"GueltigAbDatMM\": 3, \"SexLang\": \"weiblich\", \"sum_WBev\": 3}, {\"GueltigAbDat\": \"2022-03-21T00:00:00\", \"GueltigAbDatJahr\": 2022, \"GueltigAbDatMM\": 3, \"SexLang\": \"m\\u00e4nnlich\", \"sum_WBev\": 3}, {\"GueltigAbDat\": \"2021-11-13T00:00:00\", \"GueltigAbDatJahr\": 2021, \"GueltigAbDatMM\": 11, \"SexLang\": \"m\\u00e4nnlich\", \"sum_WBev\": 3}, {\"GueltigAbDat\": \"2022-03-25T00:00:00\", \"GueltigAbDatJahr\": 2022, \"GueltigAbDatMM\": 3, \"SexLang\": \"m\\u00e4nnlich\", \"sum_WBev\": 3}, {\"GueltigAbDat\": \"2021-08-21T00:00:00\", \"GueltigAbDatJahr\": 2021, \"GueltigAbDatMM\": 8, \"SexLang\": \"m\\u00e4nnlich\", \"sum_WBev\": 3}, {\"GueltigAbDat\": \"2022-02-05T00:00:00\", \"GueltigAbDatJahr\": 2022, \"GueltigAbDatMM\": 2, \"SexLang\": \"weiblich\", \"sum_WBev\": 3}, {\"GueltigAbDat\": \"2021-10-22T00:00:00\", \"GueltigAbDatJahr\": 2021, \"GueltigAbDatMM\": 10, \"SexLang\": \"m\\u00e4nnlich\", \"sum_WBev\": 3}, {\"GueltigAbDat\": \"2022-03-20T00:00:00\", \"GueltigAbDatJahr\": 2022, \"GueltigAbDatMM\": 3, \"SexLang\": \"weiblich\", \"sum_WBev\": 3}, {\"GueltigAbDat\": \"2021-02-02T00:00:00\", \"GueltigAbDatJahr\": 2021, \"GueltigAbDatMM\": 2, \"SexLang\": \"m\\u00e4nnlich\", \"sum_WBev\": 3}, {\"GueltigAbDat\": \"2021-11-14T00:00:00\", \"GueltigAbDatJahr\": 2021, \"GueltigAbDatMM\": 11, \"SexLang\": \"m\\u00e4nnlich\", \"sum_WBev\": 3}, {\"GueltigAbDat\": \"2021-08-03T00:00:00\", \"GueltigAbDatJahr\": 2021, \"GueltigAbDatMM\": 8, \"SexLang\": \"m\\u00e4nnlich\", \"sum_WBev\": 3}, {\"GueltigAbDat\": \"2021-10-03T00:00:00\", \"GueltigAbDatJahr\": 2021, \"GueltigAbDatMM\": 10, \"SexLang\": \"weiblich\", \"sum_WBev\": 3}, {\"GueltigAbDat\": \"2021-07-30T00:00:00\", \"GueltigAbDatJahr\": 2021, \"GueltigAbDatMM\": 7, \"SexLang\": \"m\\u00e4nnlich\", \"sum_WBev\": 3}, {\"GueltigAbDat\": \"2021-07-28T00:00:00\", \"GueltigAbDatJahr\": 2021, \"GueltigAbDatMM\": 7, \"SexLang\": \"m\\u00e4nnlich\", \"sum_WBev\": 3}, {\"GueltigAbDat\": \"2021-07-25T00:00:00\", \"GueltigAbDatJahr\": 2021, \"GueltigAbDatMM\": 7, \"SexLang\": \"weiblich\", \"sum_WBev\": 3}, {\"GueltigAbDat\": \"2021-11-20T00:00:00\", \"GueltigAbDatJahr\": 2021, \"GueltigAbDatMM\": 11, \"SexLang\": \"m\\u00e4nnlich\", \"sum_WBev\": 3}, {\"GueltigAbDat\": \"2022-01-25T00:00:00\", \"GueltigAbDatJahr\": 2022, \"GueltigAbDatMM\": 1, \"SexLang\": \"m\\u00e4nnlich\", \"sum_WBev\": 3}, {\"GueltigAbDat\": \"2022-03-19T00:00:00\", \"GueltigAbDatJahr\": 2022, \"GueltigAbDatMM\": 3, \"SexLang\": \"m\\u00e4nnlich\", \"sum_WBev\": 3}, {\"GueltigAbDat\": \"2022-02-13T00:00:00\", \"GueltigAbDatJahr\": 2022, \"GueltigAbDatMM\": 2, \"SexLang\": \"m\\u00e4nnlich\", \"sum_WBev\": 3}, {\"GueltigAbDat\": \"2022-03-18T00:00:00\", \"GueltigAbDatJahr\": 2022, \"GueltigAbDatMM\": 3, \"SexLang\": \"weiblich\", \"sum_WBev\": 3}, {\"GueltigAbDat\": \"2021-12-28T00:00:00\", \"GueltigAbDatJahr\": 2021, \"GueltigAbDatMM\": 12, \"SexLang\": \"weiblich\", \"sum_WBev\": 3}, {\"GueltigAbDat\": \"2021-10-13T00:00:00\", \"GueltigAbDatJahr\": 2021, \"GueltigAbDatMM\": 10, \"SexLang\": \"m\\u00e4nnlich\", \"sum_WBev\": 3}, {\"GueltigAbDat\": \"2021-10-15T00:00:00\", \"GueltigAbDatJahr\": 2021, \"GueltigAbDatMM\": 10, \"SexLang\": \"m\\u00e4nnlich\", \"sum_WBev\": 3}, {\"GueltigAbDat\": \"2021-11-25T00:00:00\", \"GueltigAbDatJahr\": 2021, \"GueltigAbDatMM\": 11, \"SexLang\": \"weiblich\", \"sum_WBev\": 3}, {\"GueltigAbDat\": \"2022-01-28T00:00:00\", \"GueltigAbDatJahr\": 2022, \"GueltigAbDatMM\": 1, \"SexLang\": \"weiblich\", \"sum_WBev\": 3}, {\"GueltigAbDat\": \"2021-01-05T00:00:00\", \"GueltigAbDatJahr\": 2021, \"GueltigAbDatMM\": 1, \"SexLang\": \"m\\u00e4nnlich\", \"sum_WBev\": 2}, {\"GueltigAbDat\": \"2022-03-24T00:00:00\", \"GueltigAbDatJahr\": 2022, \"GueltigAbDatMM\": 3, \"SexLang\": \"weiblich\", \"sum_WBev\": 2}, {\"GueltigAbDat\": \"2021-02-08T00:00:00\", \"GueltigAbDatJahr\": 2021, \"GueltigAbDatMM\": 2, \"SexLang\": \"weiblich\", \"sum_WBev\": 2}, {\"GueltigAbDat\": \"2021-01-27T00:00:00\", \"GueltigAbDatJahr\": 2021, \"GueltigAbDatMM\": 1, \"SexLang\": \"weiblich\", \"sum_WBev\": 2}, {\"GueltigAbDat\": \"2022-03-26T00:00:00\", \"GueltigAbDatJahr\": 2022, \"GueltigAbDatMM\": 3, \"SexLang\": \"weiblich\", \"sum_WBev\": 2}, {\"GueltigAbDat\": \"2022-03-28T00:00:00\", \"GueltigAbDatJahr\": 2022, \"GueltigAbDatMM\": 3, \"SexLang\": \"weiblich\", \"sum_WBev\": 2}, {\"GueltigAbDat\": \"2022-03-27T00:00:00\", \"GueltigAbDatJahr\": 2022, \"GueltigAbDatMM\": 3, \"SexLang\": \"weiblich\", \"sum_WBev\": 2}, {\"GueltigAbDat\": \"2021-02-06T00:00:00\", \"GueltigAbDatJahr\": 2021, \"GueltigAbDatMM\": 2, \"SexLang\": \"weiblich\", \"sum_WBev\": 2}, {\"GueltigAbDat\": \"2021-02-17T00:00:00\", \"GueltigAbDatJahr\": 2021, \"GueltigAbDatMM\": 2, \"SexLang\": \"weiblich\", \"sum_WBev\": 2}, {\"GueltigAbDat\": \"2021-01-19T00:00:00\", \"GueltigAbDatJahr\": 2021, \"GueltigAbDatMM\": 1, \"SexLang\": \"m\\u00e4nnlich\", \"sum_WBev\": 2}, {\"GueltigAbDat\": \"2021-01-09T00:00:00\", \"GueltigAbDatJahr\": 2021, \"GueltigAbDatMM\": 1, \"SexLang\": \"m\\u00e4nnlich\", \"sum_WBev\": 2}, {\"GueltigAbDat\": \"2021-07-10T00:00:00\", \"GueltigAbDatJahr\": 2021, \"GueltigAbDatMM\": 7, \"SexLang\": \"m\\u00e4nnlich\", \"sum_WBev\": 2}, {\"GueltigAbDat\": \"2021-04-13T00:00:00\", \"GueltigAbDatJahr\": 2021, \"GueltigAbDatMM\": 4, \"SexLang\": \"weiblich\", \"sum_WBev\": 2}, {\"GueltigAbDat\": \"2021-07-11T00:00:00\", \"GueltigAbDatJahr\": 2021, \"GueltigAbDatMM\": 7, \"SexLang\": \"weiblich\", \"sum_WBev\": 2}, {\"GueltigAbDat\": \"2022-01-15T00:00:00\", \"GueltigAbDatJahr\": 2022, \"GueltigAbDatMM\": 1, \"SexLang\": \"m\\u00e4nnlich\", \"sum_WBev\": 2}, {\"GueltigAbDat\": \"2021-11-06T00:00:00\", \"GueltigAbDatJahr\": 2021, \"GueltigAbDatMM\": 11, \"SexLang\": \"weiblich\", \"sum_WBev\": 2}, {\"GueltigAbDat\": \"2021-10-24T00:00:00\", \"GueltigAbDatJahr\": 2021, \"GueltigAbDatMM\": 10, \"SexLang\": \"weiblich\", \"sum_WBev\": 2}, {\"GueltigAbDat\": \"2022-01-24T00:00:00\", \"GueltigAbDatJahr\": 2022, \"GueltigAbDatMM\": 1, \"SexLang\": \"weiblich\", \"sum_WBev\": 2}, {\"GueltigAbDat\": \"2021-09-18T00:00:00\", \"GueltigAbDatJahr\": 2021, \"GueltigAbDatMM\": 9, \"SexLang\": \"m\\u00e4nnlich\", \"sum_WBev\": 2}, {\"GueltigAbDat\": \"2022-01-10T00:00:00\", \"GueltigAbDatJahr\": 2022, \"GueltigAbDatMM\": 1, \"SexLang\": \"weiblich\", \"sum_WBev\": 2}, {\"GueltigAbDat\": \"2022-01-10T00:00:00\", \"GueltigAbDatJahr\": 2022, \"GueltigAbDatMM\": 1, \"SexLang\": \"m\\u00e4nnlich\", \"sum_WBev\": 2}, {\"GueltigAbDat\": \"2022-01-09T00:00:00\", \"GueltigAbDatJahr\": 2022, \"GueltigAbDatMM\": 1, \"SexLang\": \"weiblich\", \"sum_WBev\": 2}, {\"GueltigAbDat\": \"2021-11-28T00:00:00\", \"GueltigAbDatJahr\": 2021, \"GueltigAbDatMM\": 11, \"SexLang\": \"weiblich\", \"sum_WBev\": 2}, {\"GueltigAbDat\": \"2021-09-09T00:00:00\", \"GueltigAbDatJahr\": 2021, \"GueltigAbDatMM\": 9, \"SexLang\": \"weiblich\", \"sum_WBev\": 2}, {\"GueltigAbDat\": \"2021-09-05T00:00:00\", \"GueltigAbDatJahr\": 2021, \"GueltigAbDatMM\": 9, \"SexLang\": \"m\\u00e4nnlich\", \"sum_WBev\": 2}, {\"GueltigAbDat\": \"2021-04-19T00:00:00\", \"GueltigAbDatJahr\": 2021, \"GueltigAbDatMM\": 4, \"SexLang\": \"weiblich\", \"sum_WBev\": 2}, {\"GueltigAbDat\": \"2021-01-01T00:00:00\", \"GueltigAbDatJahr\": 2021, \"GueltigAbDatMM\": 1, \"SexLang\": \"weiblich\", \"sum_WBev\": 2}, {\"GueltigAbDat\": \"2022-02-11T00:00:00\", \"GueltigAbDatJahr\": 2022, \"GueltigAbDatMM\": 2, \"SexLang\": \"weiblich\", \"sum_WBev\": 2}, {\"GueltigAbDat\": \"2022-02-13T00:00:00\", \"GueltigAbDatJahr\": 2022, \"GueltigAbDatMM\": 2, \"SexLang\": \"weiblich\", \"sum_WBev\": 2}, {\"GueltigAbDat\": \"2021-06-19T00:00:00\", \"GueltigAbDatJahr\": 2021, \"GueltigAbDatMM\": 6, \"SexLang\": \"weiblich\", \"sum_WBev\": 2}, {\"GueltigAbDat\": \"2021-06-18T00:00:00\", \"GueltigAbDatJahr\": 2021, \"GueltigAbDatMM\": 6, \"SexLang\": \"m\\u00e4nnlich\", \"sum_WBev\": 2}, {\"GueltigAbDat\": \"2022-02-18T00:00:00\", \"GueltigAbDatJahr\": 2022, \"GueltigAbDatMM\": 2, \"SexLang\": \"weiblich\", \"sum_WBev\": 2}, {\"GueltigAbDat\": \"2021-06-12T00:00:00\", \"GueltigAbDatJahr\": 2021, \"GueltigAbDatMM\": 6, \"SexLang\": \"m\\u00e4nnlich\", \"sum_WBev\": 2}, {\"GueltigAbDat\": \"2021-12-11T00:00:00\", \"GueltigAbDatJahr\": 2021, \"GueltigAbDatMM\": 12, \"SexLang\": \"m\\u00e4nnlich\", \"sum_WBev\": 2}, {\"GueltigAbDat\": \"2021-05-31T00:00:00\", \"GueltigAbDatJahr\": 2021, \"GueltigAbDatMM\": 5, \"SexLang\": \"m\\u00e4nnlich\", \"sum_WBev\": 2}, {\"GueltigAbDat\": \"2022-02-23T00:00:00\", \"GueltigAbDatJahr\": 2022, \"GueltigAbDatMM\": 2, \"SexLang\": \"m\\u00e4nnlich\", \"sum_WBev\": 2}, {\"GueltigAbDat\": \"2021-05-23T00:00:00\", \"GueltigAbDatJahr\": 2021, \"GueltigAbDatMM\": 5, \"SexLang\": \"m\\u00e4nnlich\", \"sum_WBev\": 2}, {\"GueltigAbDat\": \"2021-05-04T00:00:00\", \"GueltigAbDatJahr\": 2021, \"GueltigAbDatMM\": 5, \"SexLang\": \"weiblich\", \"sum_WBev\": 2}, {\"GueltigAbDat\": \"2021-05-03T00:00:00\", \"GueltigAbDatJahr\": 2021, \"GueltigAbDatMM\": 5, \"SexLang\": \"m\\u00e4nnlich\", \"sum_WBev\": 2}, {\"GueltigAbDat\": \"2022-03-02T00:00:00\", \"GueltigAbDatJahr\": 2022, \"GueltigAbDatMM\": 3, \"SexLang\": \"m\\u00e4nnlich\", \"sum_WBev\": 2}, {\"GueltigAbDat\": \"2022-03-05T00:00:00\", \"GueltigAbDatJahr\": 2022, \"GueltigAbDatMM\": 3, \"SexLang\": \"m\\u00e4nnlich\", \"sum_WBev\": 2}, {\"GueltigAbDat\": \"2022-01-02T00:00:00\", \"GueltigAbDatJahr\": 2022, \"GueltigAbDatMM\": 1, \"SexLang\": \"weiblich\", \"sum_WBev\": 2}, {\"GueltigAbDat\": \"2022-03-06T00:00:00\", \"GueltigAbDatJahr\": 2022, \"GueltigAbDatMM\": 3, \"SexLang\": \"m\\u00e4nnlich\", \"sum_WBev\": 2}, {\"GueltigAbDat\": \"2021-11-15T00:00:00\", \"GueltigAbDatJahr\": 2021, \"GueltigAbDatMM\": 11, \"SexLang\": \"m\\u00e4nnlich\", \"sum_WBev\": 2}]}}, {\"mode\": \"vega-lite\"});\n",
       "</script>"
      ],
      "text/plain": [
       "alt.LayerChart(...)"
      ]
     },
     "execution_count": 35,
     "metadata": {},
     "output_type": "execute_result"
    }
   ],
   "source": [
    "myTitle =\"Tägliche Geburten nach Geschlecht\"\n",
    "highlight = alt.selection(type='single', on='mouseover',\n",
    "                          fields=['KreisLang'], nearest=True)\n",
    "#x='date:StichtagDatJahr',\n",
    "base = alt.Chart(myAgg.reset_index().query('sum_WBev>1'), title=myTitle).encode(\n",
    "    x=alt.X('GueltigAbDat', axis=alt.Axis(title='Jahr'))# , axis=alt.Axis(format='%', title='percentage')\n",
    "    , y=alt.X('sum_WBev', axis=alt.Axis(title='Anz. Personen'))\n",
    "    , color=alt.Color('SexLang', legend=alt.Legend(title=\"Stadtkreise\", orient=\"right\"))  \n",
    "    ,tooltip=['GueltigAbDat', 'SexLang', 'sum_WBev']    \n",
    ")\n",
    "points = base.mark_circle().encode(\n",
    "    opacity=alt.value(0.75)\n",
    ").add_selection(\n",
    "    highlight\n",
    ").properties(\n",
    "    width=900 , height=350\n",
    ")\n",
    "lines = base.mark_line().encode(\n",
    "    size=alt.condition(~highlight, alt.value(0.5), alt.value(4))\n",
    ").interactive()\n",
    "\n",
    "lines + points"
   ]
  },
  {
   "cell_type": "markdown",
   "metadata": {},
   "source": [
    "#### Entwicklung nach Heimat"
   ]
  },
  {
   "cell_type": "code",
   "execution_count": 36,
   "metadata": {},
   "outputs": [
    {
     "data": {
      "text/html": [
       "<div>\n",
       "<style scoped>\n",
       "    .dataframe tbody tr th:only-of-type {\n",
       "        vertical-align: middle;\n",
       "    }\n",
       "\n",
       "    .dataframe tbody tr th {\n",
       "        vertical-align: top;\n",
       "    }\n",
       "\n",
       "    .dataframe thead th {\n",
       "        text-align: right;\n",
       "    }\n",
       "</style>\n",
       "<table border=\"1\" class=\"dataframe\">\n",
       "  <thead>\n",
       "    <tr style=\"text-align: right;\">\n",
       "      <th></th>\n",
       "      <th>GueltigAbDat</th>\n",
       "      <th>GueltigAbDatJahr</th>\n",
       "      <th>GueltigAbDatMM</th>\n",
       "      <th>HerkunftLang</th>\n",
       "      <th>sum_WBev</th>\n",
       "    </tr>\n",
       "  </thead>\n",
       "  <tbody>\n",
       "    <tr>\n",
       "      <th>0</th>\n",
       "      <td>2021-01-08</td>\n",
       "      <td>2021</td>\n",
       "      <td>1</td>\n",
       "      <td>Schweizer/in</td>\n",
       "      <td>20</td>\n",
       "    </tr>\n",
       "    <tr>\n",
       "      <th>1</th>\n",
       "      <td>2021-07-12</td>\n",
       "      <td>2021</td>\n",
       "      <td>7</td>\n",
       "      <td>Schweizer/in</td>\n",
       "      <td>19</td>\n",
       "    </tr>\n",
       "  </tbody>\n",
       "</table>\n",
       "</div>"
      ],
      "text/plain": [
       "  GueltigAbDat  GueltigAbDatJahr  GueltigAbDatMM  HerkunftLang  sum_WBev\n",
       "0   2021-01-08              2021               1  Schweizer/in        20\n",
       "1   2021-07-12              2021               7  Schweizer/in        19"
      ]
     },
     "execution_count": 36,
     "metadata": {},
     "output_type": "execute_result"
    }
   ],
   "source": [
    "#myAgg = data2betested.loc[\"2008-11\":\"2021-11\"] \\\n",
    "myAgg = data2betested.loc[\"2020-12\":latest_year_month] \\\n",
    "    .groupby(['GueltigAbDat','GueltigAbDatJahr', 'GueltigAbDatMM', 'HerkunftLang']) \\\n",
    "    .agg(sum_WBev=('AnzGebuWir', 'sum')) \\\n",
    "    .sort_values('sum_WBev', ascending=False) \n",
    "\n",
    "myAgg.reset_index().head(2)"
   ]
  },
  {
   "cell_type": "code",
   "execution_count": 37,
   "metadata": {},
   "outputs": [
    {
     "data": {
      "text/html": [
       "\n",
       "<div id=\"altair-viz-f79b57c4234a4e8c8ab715e4f78d3e89\"></div>\n",
       "<script type=\"text/javascript\">\n",
       "  (function(spec, embedOpt){\n",
       "    let outputDiv = document.currentScript.previousElementSibling;\n",
       "    if (outputDiv.id !== \"altair-viz-f79b57c4234a4e8c8ab715e4f78d3e89\") {\n",
       "      outputDiv = document.getElementById(\"altair-viz-f79b57c4234a4e8c8ab715e4f78d3e89\");\n",
       "    }\n",
       "    const paths = {\n",
       "      \"vega\": \"https://cdn.jsdelivr.net/npm//vega@5?noext\",\n",
       "      \"vega-lib\": \"https://cdn.jsdelivr.net/npm//vega-lib?noext\",\n",
       "      \"vega-lite\": \"https://cdn.jsdelivr.net/npm//vega-lite@4.8.1?noext\",\n",
       "      \"vega-embed\": \"https://cdn.jsdelivr.net/npm//vega-embed@6?noext\",\n",
       "    };\n",
       "\n",
       "    function loadScript(lib) {\n",
       "      return new Promise(function(resolve, reject) {\n",
       "        var s = document.createElement('script');\n",
       "        s.src = paths[lib];\n",
       "        s.async = true;\n",
       "        s.onload = () => resolve(paths[lib]);\n",
       "        s.onerror = () => reject(`Error loading script: ${paths[lib]}`);\n",
       "        document.getElementsByTagName(\"head\")[0].appendChild(s);\n",
       "      });\n",
       "    }\n",
       "\n",
       "    function showError(err) {\n",
       "      outputDiv.innerHTML = `<div class=\"error\" style=\"color:red;\">${err}</div>`;\n",
       "      throw err;\n",
       "    }\n",
       "\n",
       "    function displayChart(vegaEmbed) {\n",
       "      vegaEmbed(outputDiv, spec, embedOpt)\n",
       "        .catch(err => showError(`Javascript Error: ${err.message}<br>This usually means there's a typo in your chart specification. See the javascript console for the full traceback.`));\n",
       "    }\n",
       "\n",
       "    if(typeof define === \"function\" && define.amd) {\n",
       "      requirejs.config({paths});\n",
       "      require([\"vega-embed\"], displayChart, err => showError(`Error loading script: ${err.message}`));\n",
       "    } else if (typeof vegaEmbed === \"function\") {\n",
       "      displayChart(vegaEmbed);\n",
       "    } else {\n",
       "      loadScript(\"vega\")\n",
       "        .then(() => loadScript(\"vega-lite\"))\n",
       "        .then(() => loadScript(\"vega-embed\"))\n",
       "        .catch(showError)\n",
       "        .then(() => displayChart(vegaEmbed));\n",
       "    }\n",
       "  })({\"config\": {\"view\": {\"continuousWidth\": 400, \"continuousHeight\": 300}}, \"layer\": [{\"mark\": \"line\", \"encoding\": {\"color\": {\"type\": \"nominal\", \"field\": \"HerkunftLang\", \"legend\": {\"title\": \"Herkunft\"}}, \"size\": {\"condition\": {\"value\": 0.5, \"selection\": {\"not\": \"selector011\"}}, \"value\": 4}, \"tooltip\": [{\"type\": \"temporal\", \"field\": \"GueltigAbDat\"}, {\"type\": \"nominal\", \"field\": \"HerkunftLang\"}, {\"type\": \"quantitative\", \"field\": \"sum_WBev\"}], \"x\": {\"type\": \"temporal\", \"axis\": {\"title\": \"Jahr\"}, \"field\": \"GueltigAbDat\"}, \"y\": {\"type\": \"quantitative\", \"axis\": {\"title\": \"Anz. Personen\"}, \"field\": \"sum_WBev\"}}, \"selection\": {\"selector012\": {\"type\": \"interval\", \"bind\": \"scales\", \"encodings\": [\"x\", \"y\"]}}, \"title\": \"T\\u00e4gliche Geburten nach Herkunft\"}, {\"mark\": \"circle\", \"encoding\": {\"color\": {\"type\": \"nominal\", \"field\": \"HerkunftLang\", \"legend\": {\"title\": \"Herkunft\"}}, \"opacity\": {\"value\": 0.75}, \"tooltip\": [{\"type\": \"temporal\", \"field\": \"GueltigAbDat\"}, {\"type\": \"nominal\", \"field\": \"HerkunftLang\"}, {\"type\": \"quantitative\", \"field\": \"sum_WBev\"}], \"x\": {\"type\": \"temporal\", \"axis\": {\"title\": \"Jahr\"}, \"field\": \"GueltigAbDat\"}, \"y\": {\"type\": \"quantitative\", \"axis\": {\"title\": \"Anz. Personen\"}, \"field\": \"sum_WBev\"}}, \"height\": 350, \"selection\": {\"selector011\": {\"type\": \"single\", \"on\": \"mouseover\", \"fields\": [\"HerkunftLang\"], \"nearest\": true}}, \"title\": \"T\\u00e4gliche Geburten nach Herkunft\", \"width\": 900}], \"data\": {\"name\": \"data-966bec09dab733d61388e3a7fbf201b2\"}, \"$schema\": \"https://vega.github.io/schema/vega-lite/v4.8.1.json\", \"datasets\": {\"data-966bec09dab733d61388e3a7fbf201b2\": [{\"GueltigAbDat\": \"2021-01-08T00:00:00\", \"GueltigAbDatJahr\": 2021, \"GueltigAbDatMM\": 1, \"HerkunftLang\": \"Schweizer/in\", \"sum_WBev\": 20}, {\"GueltigAbDat\": \"2021-07-12T00:00:00\", \"GueltigAbDatJahr\": 2021, \"GueltigAbDatMM\": 7, \"HerkunftLang\": \"Schweizer/in\", \"sum_WBev\": 19}, {\"GueltigAbDat\": \"2021-06-01T00:00:00\", \"GueltigAbDatJahr\": 2021, \"GueltigAbDatMM\": 6, \"HerkunftLang\": \"Schweizer/in\", \"sum_WBev\": 19}, {\"GueltigAbDat\": \"2021-03-30T00:00:00\", \"GueltigAbDatJahr\": 2021, \"GueltigAbDatMM\": 3, \"HerkunftLang\": \"Schweizer/in\", \"sum_WBev\": 17}, {\"GueltigAbDat\": \"2021-08-10T00:00:00\", \"GueltigAbDatJahr\": 2021, \"GueltigAbDatMM\": 8, \"HerkunftLang\": \"Schweizer/in\", \"sum_WBev\": 17}, {\"GueltigAbDat\": \"2021-12-01T00:00:00\", \"GueltigAbDatJahr\": 2021, \"GueltigAbDatMM\": 12, \"HerkunftLang\": \"Schweizer/in\", \"sum_WBev\": 17}, {\"GueltigAbDat\": \"2021-10-06T00:00:00\", \"GueltigAbDatJahr\": 2021, \"GueltigAbDatMM\": 10, \"HerkunftLang\": \"Schweizer/in\", \"sum_WBev\": 17}, {\"GueltigAbDat\": \"2021-07-09T00:00:00\", \"GueltigAbDatJahr\": 2021, \"GueltigAbDatMM\": 7, \"HerkunftLang\": \"Schweizer/in\", \"sum_WBev\": 16}, {\"GueltigAbDat\": \"2021-10-09T00:00:00\", \"GueltigAbDatJahr\": 2021, \"GueltigAbDatMM\": 10, \"HerkunftLang\": \"Schweizer/in\", \"sum_WBev\": 16}, {\"GueltigAbDat\": \"2021-09-01T00:00:00\", \"GueltigAbDatJahr\": 2021, \"GueltigAbDatMM\": 9, \"HerkunftLang\": \"Schweizer/in\", \"sum_WBev\": 16}, {\"GueltigAbDat\": \"2021-03-03T00:00:00\", \"GueltigAbDatJahr\": 2021, \"GueltigAbDatMM\": 3, \"HerkunftLang\": \"Schweizer/in\", \"sum_WBev\": 16}, {\"GueltigAbDat\": \"2021-11-24T00:00:00\", \"GueltigAbDatJahr\": 2021, \"GueltigAbDatMM\": 11, \"HerkunftLang\": \"Schweizer/in\", \"sum_WBev\": 16}, {\"GueltigAbDat\": \"2022-03-10T00:00:00\", \"GueltigAbDatJahr\": 2022, \"GueltigAbDatMM\": 3, \"HerkunftLang\": \"Schweizer/in\", \"sum_WBev\": 16}, {\"GueltigAbDat\": \"2021-06-15T00:00:00\", \"GueltigAbDatJahr\": 2021, \"GueltigAbDatMM\": 6, \"HerkunftLang\": \"Schweizer/in\", \"sum_WBev\": 16}, {\"GueltigAbDat\": \"2021-08-20T00:00:00\", \"GueltigAbDatJahr\": 2021, \"GueltigAbDatMM\": 8, \"HerkunftLang\": \"Schweizer/in\", \"sum_WBev\": 15}, {\"GueltigAbDat\": \"2020-12-22T00:00:00\", \"GueltigAbDatJahr\": 2020, \"GueltigAbDatMM\": 12, \"HerkunftLang\": \"Schweizer/in\", \"sum_WBev\": 15}, {\"GueltigAbDat\": \"2021-05-17T00:00:00\", \"GueltigAbDatJahr\": 2021, \"GueltigAbDatMM\": 5, \"HerkunftLang\": \"Schweizer/in\", \"sum_WBev\": 15}, {\"GueltigAbDat\": \"2021-08-25T00:00:00\", \"GueltigAbDatJahr\": 2021, \"GueltigAbDatMM\": 8, \"HerkunftLang\": \"Schweizer/in\", \"sum_WBev\": 15}, {\"GueltigAbDat\": \"2021-09-23T00:00:00\", \"GueltigAbDatJahr\": 2021, \"GueltigAbDatMM\": 9, \"HerkunftLang\": \"Schweizer/in\", \"sum_WBev\": 15}, {\"GueltigAbDat\": \"2021-08-27T00:00:00\", \"GueltigAbDatJahr\": 2021, \"GueltigAbDatMM\": 8, \"HerkunftLang\": \"Schweizer/in\", \"sum_WBev\": 15}, {\"GueltigAbDat\": \"2021-06-29T00:00:00\", \"GueltigAbDatJahr\": 2021, \"GueltigAbDatMM\": 6, \"HerkunftLang\": \"Schweizer/in\", \"sum_WBev\": 15}, {\"GueltigAbDat\": \"2021-10-14T00:00:00\", \"GueltigAbDatJahr\": 2021, \"GueltigAbDatMM\": 10, \"HerkunftLang\": \"Schweizer/in\", \"sum_WBev\": 15}, {\"GueltigAbDat\": \"2021-04-09T00:00:00\", \"GueltigAbDatJahr\": 2021, \"GueltigAbDatMM\": 4, \"HerkunftLang\": \"Schweizer/in\", \"sum_WBev\": 15}, {\"GueltigAbDat\": \"2021-01-25T00:00:00\", \"GueltigAbDatJahr\": 2021, \"GueltigAbDatMM\": 1, \"HerkunftLang\": \"Schweizer/in\", \"sum_WBev\": 15}, {\"GueltigAbDat\": \"2021-08-14T00:00:00\", \"GueltigAbDatJahr\": 2021, \"GueltigAbDatMM\": 8, \"HerkunftLang\": \"Schweizer/in\", \"sum_WBev\": 15}, {\"GueltigAbDat\": \"2021-04-01T00:00:00\", \"GueltigAbDatJahr\": 2021, \"GueltigAbDatMM\": 4, \"HerkunftLang\": \"Schweizer/in\", \"sum_WBev\": 15}, {\"GueltigAbDat\": \"2021-10-26T00:00:00\", \"GueltigAbDatJahr\": 2021, \"GueltigAbDatMM\": 10, \"HerkunftLang\": \"Schweizer/in\", \"sum_WBev\": 15}, {\"GueltigAbDat\": \"2021-05-28T00:00:00\", \"GueltigAbDatJahr\": 2021, \"GueltigAbDatMM\": 5, \"HerkunftLang\": \"Schweizer/in\", \"sum_WBev\": 15}, {\"GueltigAbDat\": \"2021-07-27T00:00:00\", \"GueltigAbDatJahr\": 2021, \"GueltigAbDatMM\": 7, \"HerkunftLang\": \"Schweizer/in\", \"sum_WBev\": 14}, {\"GueltigAbDat\": \"2020-12-23T00:00:00\", \"GueltigAbDatJahr\": 2020, \"GueltigAbDatMM\": 12, \"HerkunftLang\": \"Schweizer/in\", \"sum_WBev\": 14}, {\"GueltigAbDat\": \"2021-09-21T00:00:00\", \"GueltigAbDatJahr\": 2021, \"GueltigAbDatMM\": 9, \"HerkunftLang\": \"Schweizer/in\", \"sum_WBev\": 14}, {\"GueltigAbDat\": \"2021-07-16T00:00:00\", \"GueltigAbDatJahr\": 2021, \"GueltigAbDatMM\": 7, \"HerkunftLang\": \"Schweizer/in\", \"sum_WBev\": 14}, {\"GueltigAbDat\": \"2021-04-15T00:00:00\", \"GueltigAbDatJahr\": 2021, \"GueltigAbDatMM\": 4, \"HerkunftLang\": \"Schweizer/in\", \"sum_WBev\": 14}, {\"GueltigAbDat\": \"2021-04-17T00:00:00\", \"GueltigAbDatJahr\": 2021, \"GueltigAbDatMM\": 4, \"HerkunftLang\": \"Schweizer/in\", \"sum_WBev\": 14}, {\"GueltigAbDat\": \"2021-08-24T00:00:00\", \"GueltigAbDatJahr\": 2021, \"GueltigAbDatMM\": 8, \"HerkunftLang\": \"Schweizer/in\", \"sum_WBev\": 14}, {\"GueltigAbDat\": \"2020-12-30T00:00:00\", \"GueltigAbDatJahr\": 2020, \"GueltigAbDatMM\": 12, \"HerkunftLang\": \"Schweizer/in\", \"sum_WBev\": 14}, {\"GueltigAbDat\": \"2020-12-16T00:00:00\", \"GueltigAbDatJahr\": 2020, \"GueltigAbDatMM\": 12, \"HerkunftLang\": \"Schweizer/in\", \"sum_WBev\": 14}, {\"GueltigAbDat\": \"2021-06-04T00:00:00\", \"GueltigAbDatJahr\": 2021, \"GueltigAbDatMM\": 6, \"HerkunftLang\": \"Schweizer/in\", \"sum_WBev\": 14}, {\"GueltigAbDat\": \"2021-05-27T00:00:00\", \"GueltigAbDatJahr\": 2021, \"GueltigAbDatMM\": 5, \"HerkunftLang\": \"Schweizer/in\", \"sum_WBev\": 14}, {\"GueltigAbDat\": \"2022-02-08T00:00:00\", \"GueltigAbDatJahr\": 2022, \"GueltigAbDatMM\": 2, \"HerkunftLang\": \"Schweizer/in\", \"sum_WBev\": 14}, {\"GueltigAbDat\": \"2021-06-20T00:00:00\", \"GueltigAbDatJahr\": 2021, \"GueltigAbDatMM\": 6, \"HerkunftLang\": \"Schweizer/in\", \"sum_WBev\": 14}, {\"GueltigAbDat\": \"2021-12-17T00:00:00\", \"GueltigAbDatJahr\": 2021, \"GueltigAbDatMM\": 12, \"HerkunftLang\": \"Schweizer/in\", \"sum_WBev\": 14}, {\"GueltigAbDat\": \"2021-06-23T00:00:00\", \"GueltigAbDatJahr\": 2021, \"GueltigAbDatMM\": 6, \"HerkunftLang\": \"Schweizer/in\", \"sum_WBev\": 14}, {\"GueltigAbDat\": \"2020-12-07T00:00:00\", \"GueltigAbDatJahr\": 2020, \"GueltigAbDatMM\": 12, \"HerkunftLang\": \"Schweizer/in\", \"sum_WBev\": 14}, {\"GueltigAbDat\": \"2021-06-25T00:00:00\", \"GueltigAbDatJahr\": 2021, \"GueltigAbDatMM\": 6, \"HerkunftLang\": \"Schweizer/in\", \"sum_WBev\": 14}, {\"GueltigAbDat\": \"2021-10-11T00:00:00\", \"GueltigAbDatJahr\": 2021, \"GueltigAbDatMM\": 10, \"HerkunftLang\": \"Schweizer/in\", \"sum_WBev\": 14}, {\"GueltigAbDat\": \"2021-07-05T00:00:00\", \"GueltigAbDatJahr\": 2021, \"GueltigAbDatMM\": 7, \"HerkunftLang\": \"Schweizer/in\", \"sum_WBev\": 14}, {\"GueltigAbDat\": \"2021-10-05T00:00:00\", \"GueltigAbDatJahr\": 2021, \"GueltigAbDatMM\": 10, \"HerkunftLang\": \"Schweizer/in\", \"sum_WBev\": 14}, {\"GueltigAbDat\": \"2021-07-07T00:00:00\", \"GueltigAbDatJahr\": 2021, \"GueltigAbDatMM\": 7, \"HerkunftLang\": \"Schweizer/in\", \"sum_WBev\": 14}, {\"GueltigAbDat\": \"2020-12-28T00:00:00\", \"GueltigAbDatJahr\": 2020, \"GueltigAbDatMM\": 12, \"HerkunftLang\": \"Schweizer/in\", \"sum_WBev\": 14}, {\"GueltigAbDat\": \"2021-03-31T00:00:00\", \"GueltigAbDatJahr\": 2021, \"GueltigAbDatMM\": 3, \"HerkunftLang\": \"Schweizer/in\", \"sum_WBev\": 13}, {\"GueltigAbDat\": \"2021-11-08T00:00:00\", \"GueltigAbDatJahr\": 2021, \"GueltigAbDatMM\": 11, \"HerkunftLang\": \"Schweizer/in\", \"sum_WBev\": 13}, {\"GueltigAbDat\": \"2021-08-16T00:00:00\", \"GueltigAbDatJahr\": 2021, \"GueltigAbDatMM\": 8, \"HerkunftLang\": \"Schweizer/in\", \"sum_WBev\": 13}, {\"GueltigAbDat\": \"2021-08-17T00:00:00\", \"GueltigAbDatJahr\": 2021, \"GueltigAbDatMM\": 8, \"HerkunftLang\": \"Schweizer/in\", \"sum_WBev\": 13}, {\"GueltigAbDat\": \"2021-02-08T00:00:00\", \"GueltigAbDatJahr\": 2021, \"GueltigAbDatMM\": 2, \"HerkunftLang\": \"Schweizer/in\", \"sum_WBev\": 13}, {\"GueltigAbDat\": \"2021-08-11T00:00:00\", \"GueltigAbDatJahr\": 2021, \"GueltigAbDatMM\": 8, \"HerkunftLang\": \"Schweizer/in\", \"sum_WBev\": 13}, {\"GueltigAbDat\": \"2021-08-02T00:00:00\", \"GueltigAbDatJahr\": 2021, \"GueltigAbDatMM\": 8, \"HerkunftLang\": \"Schweizer/in\", \"sum_WBev\": 13}, {\"GueltigAbDat\": \"2022-03-14T00:00:00\", \"GueltigAbDatJahr\": 2022, \"GueltigAbDatMM\": 3, \"HerkunftLang\": \"Schweizer/in\", \"sum_WBev\": 13}, {\"GueltigAbDat\": \"2021-07-26T00:00:00\", \"GueltigAbDatJahr\": 2021, \"GueltigAbDatMM\": 7, \"HerkunftLang\": \"Schweizer/in\", \"sum_WBev\": 13}, {\"GueltigAbDat\": \"2021-02-10T00:00:00\", \"GueltigAbDatJahr\": 2021, \"GueltigAbDatMM\": 2, \"HerkunftLang\": \"Schweizer/in\", \"sum_WBev\": 13}, {\"GueltigAbDat\": \"2022-02-03T00:00:00\", \"GueltigAbDatJahr\": 2022, \"GueltigAbDatMM\": 2, \"HerkunftLang\": \"Schweizer/in\", \"sum_WBev\": 13}, {\"GueltigAbDat\": \"2021-07-06T00:00:00\", \"GueltigAbDatJahr\": 2021, \"GueltigAbDatMM\": 7, \"HerkunftLang\": \"Schweizer/in\", \"sum_WBev\": 13}, {\"GueltigAbDat\": \"2021-12-10T00:00:00\", \"GueltigAbDatJahr\": 2021, \"GueltigAbDatMM\": 12, \"HerkunftLang\": \"Schweizer/in\", \"sum_WBev\": 13}, {\"GueltigAbDat\": \"2021-07-01T00:00:00\", \"GueltigAbDatJahr\": 2021, \"GueltigAbDatMM\": 7, \"HerkunftLang\": \"Schweizer/in\", \"sum_WBev\": 13}, {\"GueltigAbDat\": \"2022-02-04T00:00:00\", \"GueltigAbDatJahr\": 2022, \"GueltigAbDatMM\": 2, \"HerkunftLang\": \"Schweizer/in\", \"sum_WBev\": 13}, {\"GueltigAbDat\": \"2021-06-27T00:00:00\", \"GueltigAbDatJahr\": 2021, \"GueltigAbDatMM\": 6, \"HerkunftLang\": \"Schweizer/in\", \"sum_WBev\": 13}, {\"GueltigAbDat\": \"2021-02-22T00:00:00\", \"GueltigAbDatJahr\": 2021, \"GueltigAbDatMM\": 2, \"HerkunftLang\": \"Schweizer/in\", \"sum_WBev\": 13}, {\"GueltigAbDat\": \"2021-06-21T00:00:00\", \"GueltigAbDatJahr\": 2021, \"GueltigAbDatMM\": 6, \"HerkunftLang\": \"Schweizer/in\", \"sum_WBev\": 13}, {\"GueltigAbDat\": \"2021-06-11T00:00:00\", \"GueltigAbDatJahr\": 2021, \"GueltigAbDatMM\": 6, \"HerkunftLang\": \"Schweizer/in\", \"sum_WBev\": 13}, {\"GueltigAbDat\": \"2021-05-10T00:00:00\", \"GueltigAbDatJahr\": 2021, \"GueltigAbDatMM\": 5, \"HerkunftLang\": \"Schweizer/in\", \"sum_WBev\": 13}, {\"GueltigAbDat\": \"2021-05-13T00:00:00\", \"GueltigAbDatJahr\": 2021, \"GueltigAbDatMM\": 5, \"HerkunftLang\": \"Schweizer/in\", \"sum_WBev\": 13}, {\"GueltigAbDat\": \"2022-02-11T00:00:00\", \"GueltigAbDatJahr\": 2022, \"GueltigAbDatMM\": 2, \"HerkunftLang\": \"Schweizer/in\", \"sum_WBev\": 13}, {\"GueltigAbDat\": \"2022-01-18T00:00:00\", \"GueltigAbDatJahr\": 2022, \"GueltigAbDatMM\": 1, \"HerkunftLang\": \"Schweizer/in\", \"sum_WBev\": 13}, {\"GueltigAbDat\": \"2021-11-01T00:00:00\", \"GueltigAbDatJahr\": 2021, \"GueltigAbDatMM\": 11, \"HerkunftLang\": \"Schweizer/in\", \"sum_WBev\": 13}, {\"GueltigAbDat\": \"2021-05-07T00:00:00\", \"GueltigAbDatJahr\": 2021, \"GueltigAbDatMM\": 5, \"HerkunftLang\": \"Schweizer/in\", \"sum_WBev\": 13}, {\"GueltigAbDat\": \"2022-02-17T00:00:00\", \"GueltigAbDatJahr\": 2022, \"GueltigAbDatMM\": 2, \"HerkunftLang\": \"Schweizer/in\", \"sum_WBev\": 13}, {\"GueltigAbDat\": \"2021-04-26T00:00:00\", \"GueltigAbDatJahr\": 2021, \"GueltigAbDatMM\": 4, \"HerkunftLang\": \"Schweizer/in\", \"sum_WBev\": 13}, {\"GueltigAbDat\": \"2021-11-05T00:00:00\", \"GueltigAbDatJahr\": 2021, \"GueltigAbDatMM\": 11, \"HerkunftLang\": \"Schweizer/in\", \"sum_WBev\": 13}, {\"GueltigAbDat\": \"2021-10-12T00:00:00\", \"GueltigAbDatJahr\": 2021, \"GueltigAbDatMM\": 10, \"HerkunftLang\": \"Schweizer/in\", \"sum_WBev\": 13}, {\"GueltigAbDat\": \"2020-12-02T00:00:00\", \"GueltigAbDatJahr\": 2020, \"GueltigAbDatMM\": 12, \"HerkunftLang\": \"Schweizer/in\", \"sum_WBev\": 13}, {\"GueltigAbDat\": \"2021-02-13T00:00:00\", \"GueltigAbDatJahr\": 2021, \"GueltigAbDatMM\": 2, \"HerkunftLang\": \"Schweizer/in\", \"sum_WBev\": 12}, {\"GueltigAbDat\": \"2021-12-14T00:00:00\", \"GueltigAbDatJahr\": 2021, \"GueltigAbDatMM\": 12, \"HerkunftLang\": \"Schweizer/in\", \"sum_WBev\": 12}, {\"GueltigAbDat\": \"2021-06-22T00:00:00\", \"GueltigAbDatJahr\": 2021, \"GueltigAbDatMM\": 6, \"HerkunftLang\": \"Schweizer/in\", \"sum_WBev\": 12}, {\"GueltigAbDat\": \"2021-02-25T00:00:00\", \"GueltigAbDatJahr\": 2021, \"GueltigAbDatMM\": 2, \"HerkunftLang\": \"Schweizer/in\", \"sum_WBev\": 12}, {\"GueltigAbDat\": \"2021-03-26T00:00:00\", \"GueltigAbDatJahr\": 2021, \"GueltigAbDatMM\": 3, \"HerkunftLang\": \"Schweizer/in\", \"sum_WBev\": 12}, {\"GueltigAbDat\": \"2021-07-21T00:00:00\", \"GueltigAbDatJahr\": 2021, \"GueltigAbDatMM\": 7, \"HerkunftLang\": \"Schweizer/in\", \"sum_WBev\": 12}, {\"GueltigAbDat\": \"2021-11-23T00:00:00\", \"GueltigAbDatJahr\": 2021, \"GueltigAbDatMM\": 11, \"HerkunftLang\": \"Schweizer/in\", \"sum_WBev\": 12}, {\"GueltigAbDat\": \"2021-02-18T00:00:00\", \"GueltigAbDatJahr\": 2021, \"GueltigAbDatMM\": 2, \"HerkunftLang\": \"Schweizer/in\", \"sum_WBev\": 12}, {\"GueltigAbDat\": \"2021-03-24T00:00:00\", \"GueltigAbDatJahr\": 2021, \"GueltigAbDatMM\": 3, \"HerkunftLang\": \"Schweizer/in\", \"sum_WBev\": 12}, {\"GueltigAbDat\": \"2021-05-21T00:00:00\", \"GueltigAbDatJahr\": 2021, \"GueltigAbDatMM\": 5, \"HerkunftLang\": \"Schweizer/in\", \"sum_WBev\": 12}, {\"GueltigAbDat\": \"2022-02-01T00:00:00\", \"GueltigAbDatJahr\": 2022, \"GueltigAbDatMM\": 2, \"HerkunftLang\": \"Schweizer/in\", \"sum_WBev\": 12}, {\"GueltigAbDat\": \"2021-06-28T00:00:00\", \"GueltigAbDatJahr\": 2021, \"GueltigAbDatMM\": 6, \"HerkunftLang\": \"Schweizer/in\", \"sum_WBev\": 12}, {\"GueltigAbDat\": \"2021-02-05T00:00:00\", \"GueltigAbDatJahr\": 2021, \"GueltigAbDatMM\": 2, \"HerkunftLang\": \"Schweizer/in\", \"sum_WBev\": 12}, {\"GueltigAbDat\": \"2021-06-30T00:00:00\", \"GueltigAbDatJahr\": 2021, \"GueltigAbDatMM\": 6, \"HerkunftLang\": \"Schweizer/in\", \"sum_WBev\": 12}, {\"GueltigAbDat\": \"2021-09-27T00:00:00\", \"GueltigAbDatJahr\": 2021, \"GueltigAbDatMM\": 9, \"HerkunftLang\": \"Schweizer/in\", \"sum_WBev\": 12}, {\"GueltigAbDat\": \"2021-09-02T00:00:00\", \"GueltigAbDatJahr\": 2021, \"GueltigAbDatMM\": 9, \"HerkunftLang\": \"Schweizer/in\", \"sum_WBev\": 12}, {\"GueltigAbDat\": \"2021-07-31T00:00:00\", \"GueltigAbDatJahr\": 2021, \"GueltigAbDatMM\": 7, \"HerkunftLang\": \"Schweizer/in\", \"sum_WBev\": 12}, {\"GueltigAbDat\": \"2022-01-06T00:00:00\", \"GueltigAbDatJahr\": 2022, \"GueltigAbDatMM\": 1, \"HerkunftLang\": \"Schweizer/in\", \"sum_WBev\": 12}, {\"GueltigAbDat\": \"2020-12-18T00:00:00\", \"GueltigAbDatJahr\": 2020, \"GueltigAbDatMM\": 12, \"HerkunftLang\": \"Schweizer/in\", \"sum_WBev\": 12}, {\"GueltigAbDat\": \"2021-09-29T00:00:00\", \"GueltigAbDatJahr\": 2021, \"GueltigAbDatMM\": 9, \"HerkunftLang\": \"Schweizer/in\", \"sum_WBev\": 12}, {\"GueltigAbDat\": \"2020-12-10T00:00:00\", \"GueltigAbDatJahr\": 2020, \"GueltigAbDatMM\": 12, \"HerkunftLang\": \"Schweizer/in\", \"sum_WBev\": 12}, {\"GueltigAbDat\": \"2021-11-17T00:00:00\", \"GueltigAbDatJahr\": 2021, \"GueltigAbDatMM\": 11, \"HerkunftLang\": \"Ausl\\u00e4nder/in\", \"sum_WBev\": 12}, {\"GueltigAbDat\": \"2021-05-01T00:00:00\", \"GueltigAbDatJahr\": 2021, \"GueltigAbDatMM\": 5, \"HerkunftLang\": \"Schweizer/in\", \"sum_WBev\": 12}, {\"GueltigAbDat\": \"2021-10-01T00:00:00\", \"GueltigAbDatJahr\": 2021, \"GueltigAbDatMM\": 10, \"HerkunftLang\": \"Schweizer/in\", \"sum_WBev\": 12}, {\"GueltigAbDat\": \"2021-05-24T00:00:00\", \"GueltigAbDatJahr\": 2021, \"GueltigAbDatMM\": 5, \"HerkunftLang\": \"Schweizer/in\", \"sum_WBev\": 12}, {\"GueltigAbDat\": \"2021-10-02T00:00:00\", \"GueltigAbDatJahr\": 2021, \"GueltigAbDatMM\": 10, \"HerkunftLang\": \"Schweizer/in\", \"sum_WBev\": 12}, {\"GueltigAbDat\": \"2021-04-07T00:00:00\", \"GueltigAbDatJahr\": 2021, \"GueltigAbDatMM\": 4, \"HerkunftLang\": \"Schweizer/in\", \"sum_WBev\": 12}, {\"GueltigAbDat\": \"2021-02-19T00:00:00\", \"GueltigAbDatJahr\": 2021, \"GueltigAbDatMM\": 2, \"HerkunftLang\": \"Schweizer/in\", \"sum_WBev\": 12}, {\"GueltigAbDat\": \"2021-11-22T00:00:00\", \"GueltigAbDatJahr\": 2021, \"GueltigAbDatMM\": 11, \"HerkunftLang\": \"Schweizer/in\", \"sum_WBev\": 12}, {\"GueltigAbDat\": \"2021-06-16T00:00:00\", \"GueltigAbDatJahr\": 2021, \"GueltigAbDatMM\": 6, \"HerkunftLang\": \"Schweizer/in\", \"sum_WBev\": 12}, {\"GueltigAbDat\": \"2021-08-13T00:00:00\", \"GueltigAbDatJahr\": 2021, \"GueltigAbDatMM\": 8, \"HerkunftLang\": \"Schweizer/in\", \"sum_WBev\": 12}, {\"GueltigAbDat\": \"2021-09-14T00:00:00\", \"GueltigAbDatJahr\": 2021, \"GueltigAbDatMM\": 9, \"HerkunftLang\": \"Schweizer/in\", \"sum_WBev\": 12}, {\"GueltigAbDat\": \"2021-11-19T00:00:00\", \"GueltigAbDatJahr\": 2021, \"GueltigAbDatMM\": 11, \"HerkunftLang\": \"Schweizer/in\", \"sum_WBev\": 12}, {\"GueltigAbDat\": \"2021-01-15T00:00:00\", \"GueltigAbDatJahr\": 2021, \"GueltigAbDatMM\": 1, \"HerkunftLang\": \"Schweizer/in\", \"sum_WBev\": 12}, {\"GueltigAbDat\": \"2021-06-10T00:00:00\", \"GueltigAbDatJahr\": 2021, \"GueltigAbDatMM\": 6, \"HerkunftLang\": \"Schweizer/in\", \"sum_WBev\": 12}, {\"GueltigAbDat\": \"2021-01-16T00:00:00\", \"GueltigAbDatJahr\": 2021, \"GueltigAbDatMM\": 1, \"HerkunftLang\": \"Schweizer/in\", \"sum_WBev\": 12}, {\"GueltigAbDat\": \"2021-09-10T00:00:00\", \"GueltigAbDatJahr\": 2021, \"GueltigAbDatMM\": 9, \"HerkunftLang\": \"Schweizer/in\", \"sum_WBev\": 12}, {\"GueltigAbDat\": \"2020-12-31T00:00:00\", \"GueltigAbDatJahr\": 2020, \"GueltigAbDatMM\": 12, \"HerkunftLang\": \"Schweizer/in\", \"sum_WBev\": 12}, {\"GueltigAbDat\": \"2021-10-25T00:00:00\", \"GueltigAbDatJahr\": 2021, \"GueltigAbDatMM\": 10, \"HerkunftLang\": \"Schweizer/in\", \"sum_WBev\": 12}, {\"GueltigAbDat\": \"2021-12-03T00:00:00\", \"GueltigAbDatJahr\": 2021, \"GueltigAbDatMM\": 12, \"HerkunftLang\": \"Schweizer/in\", \"sum_WBev\": 12}, {\"GueltigAbDat\": \"2021-01-18T00:00:00\", \"GueltigAbDatJahr\": 2021, \"GueltigAbDatMM\": 1, \"HerkunftLang\": \"Schweizer/in\", \"sum_WBev\": 12}, {\"GueltigAbDat\": \"2021-05-12T00:00:00\", \"GueltigAbDatJahr\": 2021, \"GueltigAbDatMM\": 5, \"HerkunftLang\": \"Schweizer/in\", \"sum_WBev\": 12}, {\"GueltigAbDat\": \"2021-03-15T00:00:00\", \"GueltigAbDatJahr\": 2021, \"GueltigAbDatMM\": 3, \"HerkunftLang\": \"Schweizer/in\", \"sum_WBev\": 12}, {\"GueltigAbDat\": \"2021-08-22T00:00:00\", \"GueltigAbDatJahr\": 2021, \"GueltigAbDatMM\": 8, \"HerkunftLang\": \"Schweizer/in\", \"sum_WBev\": 12}, {\"GueltigAbDat\": \"2021-08-23T00:00:00\", \"GueltigAbDatJahr\": 2021, \"GueltigAbDatMM\": 8, \"HerkunftLang\": \"Schweizer/in\", \"sum_WBev\": 12}, {\"GueltigAbDat\": \"2022-02-09T00:00:00\", \"GueltigAbDatJahr\": 2022, \"GueltigAbDatMM\": 2, \"HerkunftLang\": \"Schweizer/in\", \"sum_WBev\": 12}, {\"GueltigAbDat\": \"2021-12-21T00:00:00\", \"GueltigAbDatJahr\": 2021, \"GueltigAbDatMM\": 12, \"HerkunftLang\": \"Schweizer/in\", \"sum_WBev\": 12}, {\"GueltigAbDat\": \"2021-12-19T00:00:00\", \"GueltigAbDatJahr\": 2021, \"GueltigAbDatMM\": 12, \"HerkunftLang\": \"Schweizer/in\", \"sum_WBev\": 12}, {\"GueltigAbDat\": \"2022-01-21T00:00:00\", \"GueltigAbDatJahr\": 2022, \"GueltigAbDatMM\": 1, \"HerkunftLang\": \"Schweizer/in\", \"sum_WBev\": 12}, {\"GueltigAbDat\": \"2021-03-08T00:00:00\", \"GueltigAbDatJahr\": 2021, \"GueltigAbDatMM\": 3, \"HerkunftLang\": \"Schweizer/in\", \"sum_WBev\": 12}, {\"GueltigAbDat\": \"2021-08-06T00:00:00\", \"GueltigAbDatJahr\": 2021, \"GueltigAbDatMM\": 8, \"HerkunftLang\": \"Schweizer/in\", \"sum_WBev\": 12}, {\"GueltigAbDat\": \"2021-01-22T00:00:00\", \"GueltigAbDatJahr\": 2021, \"GueltigAbDatMM\": 1, \"HerkunftLang\": \"Schweizer/in\", \"sum_WBev\": 12}, {\"GueltigAbDat\": \"2021-01-02T00:00:00\", \"GueltigAbDatJahr\": 2021, \"GueltigAbDatMM\": 1, \"HerkunftLang\": \"Schweizer/in\", \"sum_WBev\": 12}, {\"GueltigAbDat\": \"2021-08-05T00:00:00\", \"GueltigAbDatJahr\": 2021, \"GueltigAbDatMM\": 8, \"HerkunftLang\": \"Schweizer/in\", \"sum_WBev\": 12}, {\"GueltigAbDat\": \"2021-10-18T00:00:00\", \"GueltigAbDatJahr\": 2021, \"GueltigAbDatMM\": 10, \"HerkunftLang\": \"Schweizer/in\", \"sum_WBev\": 12}, {\"GueltigAbDat\": \"2021-03-01T00:00:00\", \"GueltigAbDatJahr\": 2021, \"GueltigAbDatMM\": 3, \"HerkunftLang\": \"Schweizer/in\", \"sum_WBev\": 12}, {\"GueltigAbDat\": \"2021-03-16T00:00:00\", \"GueltigAbDatJahr\": 2021, \"GueltigAbDatMM\": 3, \"HerkunftLang\": \"Schweizer/in\", \"sum_WBev\": 12}, {\"GueltigAbDat\": \"2021-03-14T00:00:00\", \"GueltigAbDatJahr\": 2021, \"GueltigAbDatMM\": 3, \"HerkunftLang\": \"Schweizer/in\", \"sum_WBev\": 11}, {\"GueltigAbDat\": \"2021-03-10T00:00:00\", \"GueltigAbDatJahr\": 2021, \"GueltigAbDatMM\": 3, \"HerkunftLang\": \"Schweizer/in\", \"sum_WBev\": 11}, {\"GueltigAbDat\": \"2021-12-07T00:00:00\", \"GueltigAbDatJahr\": 2021, \"GueltigAbDatMM\": 12, \"HerkunftLang\": \"Schweizer/in\", \"sum_WBev\": 11}, {\"GueltigAbDat\": \"2021-06-09T00:00:00\", \"GueltigAbDatJahr\": 2021, \"GueltigAbDatMM\": 6, \"HerkunftLang\": \"Schweizer/in\", \"sum_WBev\": 11}, {\"GueltigAbDat\": \"2021-02-28T00:00:00\", \"GueltigAbDatJahr\": 2021, \"GueltigAbDatMM\": 2, \"HerkunftLang\": \"Schweizer/in\", \"sum_WBev\": 11}, {\"GueltigAbDat\": \"2021-10-13T00:00:00\", \"GueltigAbDatJahr\": 2021, \"GueltigAbDatMM\": 10, \"HerkunftLang\": \"Schweizer/in\", \"sum_WBev\": 11}, {\"GueltigAbDat\": \"2021-11-17T00:00:00\", \"GueltigAbDatJahr\": 2021, \"GueltigAbDatMM\": 11, \"HerkunftLang\": \"Schweizer/in\", \"sum_WBev\": 11}, {\"GueltigAbDat\": \"2020-12-09T00:00:00\", \"GueltigAbDatJahr\": 2020, \"GueltigAbDatMM\": 12, \"HerkunftLang\": \"Schweizer/in\", \"sum_WBev\": 11}, {\"GueltigAbDat\": \"2021-10-28T00:00:00\", \"GueltigAbDatJahr\": 2021, \"GueltigAbDatMM\": 10, \"HerkunftLang\": \"Schweizer/in\", \"sum_WBev\": 11}, {\"GueltigAbDat\": \"2021-02-23T00:00:00\", \"GueltigAbDatJahr\": 2021, \"GueltigAbDatMM\": 2, \"HerkunftLang\": \"Schweizer/in\", \"sum_WBev\": 11}, {\"GueltigAbDat\": \"2021-04-12T00:00:00\", \"GueltigAbDatJahr\": 2021, \"GueltigAbDatMM\": 4, \"HerkunftLang\": \"Schweizer/in\", \"sum_WBev\": 11}, {\"GueltigAbDat\": \"2021-11-18T00:00:00\", \"GueltigAbDatJahr\": 2021, \"GueltigAbDatMM\": 11, \"HerkunftLang\": \"Schweizer/in\", \"sum_WBev\": 11}, {\"GueltigAbDat\": \"2021-04-23T00:00:00\", \"GueltigAbDatJahr\": 2021, \"GueltigAbDatMM\": 4, \"HerkunftLang\": \"Schweizer/in\", \"sum_WBev\": 11}, {\"GueltigAbDat\": \"2021-10-16T00:00:00\", \"GueltigAbDatJahr\": 2021, \"GueltigAbDatMM\": 10, \"HerkunftLang\": \"Schweizer/in\", \"sum_WBev\": 11}, {\"GueltigAbDat\": \"2022-01-14T00:00:00\", \"GueltigAbDatJahr\": 2022, \"GueltigAbDatMM\": 1, \"HerkunftLang\": \"Schweizer/in\", \"sum_WBev\": 11}, {\"GueltigAbDat\": \"2022-01-05T00:00:00\", \"GueltigAbDatJahr\": 2022, \"GueltigAbDatMM\": 1, \"HerkunftLang\": \"Schweizer/in\", \"sum_WBev\": 11}, {\"GueltigAbDat\": \"2022-03-08T00:00:00\", \"GueltigAbDatJahr\": 2022, \"GueltigAbDatMM\": 3, \"HerkunftLang\": \"Schweizer/in\", \"sum_WBev\": 11}, {\"GueltigAbDat\": \"2021-08-31T00:00:00\", \"GueltigAbDatJahr\": 2021, \"GueltigAbDatMM\": 8, \"HerkunftLang\": \"Schweizer/in\", \"sum_WBev\": 11}, {\"GueltigAbDat\": \"2021-05-22T00:00:00\", \"GueltigAbDatJahr\": 2021, \"GueltigAbDatMM\": 5, \"HerkunftLang\": \"Schweizer/in\", \"sum_WBev\": 11}, {\"GueltigAbDat\": \"2021-07-30T00:00:00\", \"GueltigAbDatJahr\": 2021, \"GueltigAbDatMM\": 7, \"HerkunftLang\": \"Schweizer/in\", \"sum_WBev\": 11}, {\"GueltigAbDat\": \"2021-11-12T00:00:00\", \"GueltigAbDatJahr\": 2021, \"GueltigAbDatMM\": 11, \"HerkunftLang\": \"Schweizer/in\", \"sum_WBev\": 11}, {\"GueltigAbDat\": \"2021-09-24T00:00:00\", \"GueltigAbDatJahr\": 2021, \"GueltigAbDatMM\": 9, \"HerkunftLang\": \"Schweizer/in\", \"sum_WBev\": 11}, {\"GueltigAbDat\": \"2021-05-06T00:00:00\", \"GueltigAbDatJahr\": 2021, \"GueltigAbDatMM\": 5, \"HerkunftLang\": \"Schweizer/in\", \"sum_WBev\": 11}, {\"GueltigAbDat\": \"2021-05-16T00:00:00\", \"GueltigAbDatJahr\": 2021, \"GueltigAbDatMM\": 5, \"HerkunftLang\": \"Schweizer/in\", \"sum_WBev\": 11}, {\"GueltigAbDat\": \"2021-05-25T00:00:00\", \"GueltigAbDatJahr\": 2021, \"GueltigAbDatMM\": 5, \"HerkunftLang\": \"Schweizer/in\", \"sum_WBev\": 11}, {\"GueltigAbDat\": \"2021-01-12T00:00:00\", \"GueltigAbDatJahr\": 2021, \"GueltigAbDatMM\": 1, \"HerkunftLang\": \"Schweizer/in\", \"sum_WBev\": 11}, {\"GueltigAbDat\": \"2021-09-15T00:00:00\", \"GueltigAbDatJahr\": 2021, \"GueltigAbDatMM\": 9, \"HerkunftLang\": \"Schweizer/in\", \"sum_WBev\": 11}, {\"GueltigAbDat\": \"2021-11-04T00:00:00\", \"GueltigAbDatJahr\": 2021, \"GueltigAbDatMM\": 11, \"HerkunftLang\": \"Schweizer/in\", \"sum_WBev\": 11}, {\"GueltigAbDat\": \"2022-02-28T00:00:00\", \"GueltigAbDatJahr\": 2022, \"GueltigAbDatMM\": 2, \"HerkunftLang\": \"Schweizer/in\", \"sum_WBev\": 11}, {\"GueltigAbDat\": \"2021-08-19T00:00:00\", \"GueltigAbDatJahr\": 2021, \"GueltigAbDatMM\": 8, \"HerkunftLang\": \"Schweizer/in\", \"sum_WBev\": 11}, {\"GueltigAbDat\": \"2021-08-18T00:00:00\", \"GueltigAbDatJahr\": 2021, \"GueltigAbDatMM\": 8, \"HerkunftLang\": \"Schweizer/in\", \"sum_WBev\": 11}, {\"GueltigAbDat\": \"2021-09-09T00:00:00\", \"GueltigAbDatJahr\": 2021, \"GueltigAbDatMM\": 9, \"HerkunftLang\": \"Schweizer/in\", \"sum_WBev\": 11}, {\"GueltigAbDat\": \"2022-03-15T00:00:00\", \"GueltigAbDatJahr\": 2022, \"GueltigAbDatMM\": 3, \"HerkunftLang\": \"Schweizer/in\", \"sum_WBev\": 11}, {\"GueltigAbDat\": \"2021-09-11T00:00:00\", \"GueltigAbDatJahr\": 2021, \"GueltigAbDatMM\": 9, \"HerkunftLang\": \"Schweizer/in\", \"sum_WBev\": 11}, {\"GueltigAbDat\": \"2021-01-29T00:00:00\", \"GueltigAbDatJahr\": 2021, \"GueltigAbDatMM\": 1, \"HerkunftLang\": \"Schweizer/in\", \"sum_WBev\": 11}, {\"GueltigAbDat\": \"2021-01-30T00:00:00\", \"GueltigAbDatJahr\": 2021, \"GueltigAbDatMM\": 1, \"HerkunftLang\": \"Schweizer/in\", \"sum_WBev\": 11}, {\"GueltigAbDat\": \"2021-01-11T00:00:00\", \"GueltigAbDatJahr\": 2021, \"GueltigAbDatMM\": 1, \"HerkunftLang\": \"Schweizer/in\", \"sum_WBev\": 11}, {\"GueltigAbDat\": \"2021-03-25T00:00:00\", \"GueltigAbDatJahr\": 2021, \"GueltigAbDatMM\": 3, \"HerkunftLang\": \"Schweizer/in\", \"sum_WBev\": 11}, {\"GueltigAbDat\": \"2021-04-02T00:00:00\", \"GueltigAbDatJahr\": 2021, \"GueltigAbDatMM\": 4, \"HerkunftLang\": \"Schweizer/in\", \"sum_WBev\": 11}, {\"GueltigAbDat\": \"2021-03-23T00:00:00\", \"GueltigAbDatJahr\": 2021, \"GueltigAbDatMM\": 3, \"HerkunftLang\": \"Schweizer/in\", \"sum_WBev\": 11}, {\"GueltigAbDat\": \"2021-08-28T00:00:00\", \"GueltigAbDatJahr\": 2021, \"GueltigAbDatMM\": 8, \"HerkunftLang\": \"Schweizer/in\", \"sum_WBev\": 11}, {\"GueltigAbDat\": \"2021-07-13T00:00:00\", \"GueltigAbDatJahr\": 2021, \"GueltigAbDatMM\": 7, \"HerkunftLang\": \"Schweizer/in\", \"sum_WBev\": 11}, {\"GueltigAbDat\": \"2021-02-09T00:00:00\", \"GueltigAbDatJahr\": 2021, \"GueltigAbDatMM\": 2, \"HerkunftLang\": \"Schweizer/in\", \"sum_WBev\": 11}, {\"GueltigAbDat\": \"2021-08-29T00:00:00\", \"GueltigAbDatJahr\": 2021, \"GueltigAbDatMM\": 8, \"HerkunftLang\": \"Schweizer/in\", \"sum_WBev\": 11}, {\"GueltigAbDat\": \"2021-10-29T00:00:00\", \"GueltigAbDatJahr\": 2021, \"GueltigAbDatMM\": 10, \"HerkunftLang\": \"Schweizer/in\", \"sum_WBev\": 11}, {\"GueltigAbDat\": \"2022-01-11T00:00:00\", \"GueltigAbDatJahr\": 2022, \"GueltigAbDatMM\": 1, \"HerkunftLang\": \"Schweizer/in\", \"sum_WBev\": 11}, {\"GueltigAbDat\": \"2022-03-09T00:00:00\", \"GueltigAbDatJahr\": 2022, \"GueltigAbDatMM\": 3, \"HerkunftLang\": \"Schweizer/in\", \"sum_WBev\": 11}, {\"GueltigAbDat\": \"2021-02-15T00:00:00\", \"GueltigAbDatJahr\": 2021, \"GueltigAbDatMM\": 2, \"HerkunftLang\": \"Schweizer/in\", \"sum_WBev\": 11}, {\"GueltigAbDat\": \"2020-12-29T00:00:00\", \"GueltigAbDatJahr\": 2020, \"GueltigAbDatMM\": 12, \"HerkunftLang\": \"Schweizer/in\", \"sum_WBev\": 11}, {\"GueltigAbDat\": \"2021-05-09T00:00:00\", \"GueltigAbDatJahr\": 2021, \"GueltigAbDatMM\": 5, \"HerkunftLang\": \"Schweizer/in\", \"sum_WBev\": 10}, {\"GueltigAbDat\": \"2021-04-14T00:00:00\", \"GueltigAbDatJahr\": 2021, \"GueltigAbDatMM\": 4, \"HerkunftLang\": \"Schweizer/in\", \"sum_WBev\": 10}, {\"GueltigAbDat\": \"2021-05-30T00:00:00\", \"GueltigAbDatJahr\": 2021, \"GueltigAbDatMM\": 5, \"HerkunftLang\": \"Schweizer/in\", \"sum_WBev\": 10}, {\"GueltigAbDat\": \"2021-03-18T00:00:00\", \"GueltigAbDatJahr\": 2021, \"GueltigAbDatMM\": 3, \"HerkunftLang\": \"Schweizer/in\", \"sum_WBev\": 10}, {\"GueltigAbDat\": \"2021-04-11T00:00:00\", \"GueltigAbDatJahr\": 2021, \"GueltigAbDatMM\": 4, \"HerkunftLang\": \"Schweizer/in\", \"sum_WBev\": 10}, {\"GueltigAbDat\": \"2021-05-15T00:00:00\", \"GueltigAbDatJahr\": 2021, \"GueltigAbDatMM\": 5, \"HerkunftLang\": \"Schweizer/in\", \"sum_WBev\": 10}, {\"GueltigAbDat\": \"2021-03-17T00:00:00\", \"GueltigAbDatJahr\": 2021, \"GueltigAbDatMM\": 3, \"HerkunftLang\": \"Schweizer/in\", \"sum_WBev\": 10}, {\"GueltigAbDat\": \"2021-05-07T00:00:00\", \"GueltigAbDatJahr\": 2021, \"GueltigAbDatMM\": 5, \"HerkunftLang\": \"Ausl\\u00e4nder/in\", \"sum_WBev\": 10}, {\"GueltigAbDat\": \"2021-04-25T00:00:00\", \"GueltigAbDatJahr\": 2021, \"GueltigAbDatMM\": 4, \"HerkunftLang\": \"Schweizer/in\", \"sum_WBev\": 10}, {\"GueltigAbDat\": \"2021-05-26T00:00:00\", \"GueltigAbDatJahr\": 2021, \"GueltigAbDatMM\": 5, \"HerkunftLang\": \"Schweizer/in\", \"sum_WBev\": 10}, {\"GueltigAbDat\": \"2021-05-19T00:00:00\", \"GueltigAbDatJahr\": 2021, \"GueltigAbDatMM\": 5, \"HerkunftLang\": \"Schweizer/in\", \"sum_WBev\": 10}, {\"GueltigAbDat\": \"2021-05-05T00:00:00\", \"GueltigAbDatJahr\": 2021, \"GueltigAbDatMM\": 5, \"HerkunftLang\": \"Schweizer/in\", \"sum_WBev\": 10}, {\"GueltigAbDat\": \"2022-03-02T00:00:00\", \"GueltigAbDatJahr\": 2022, \"GueltigAbDatMM\": 3, \"HerkunftLang\": \"Schweizer/in\", \"sum_WBev\": 10}, {\"GueltigAbDat\": \"2021-03-20T00:00:00\", \"GueltigAbDatJahr\": 2021, \"GueltigAbDatMM\": 3, \"HerkunftLang\": \"Schweizer/in\", \"sum_WBev\": 10}, {\"GueltigAbDat\": \"2021-04-30T00:00:00\", \"GueltigAbDatJahr\": 2021, \"GueltigAbDatMM\": 4, \"HerkunftLang\": \"Schweizer/in\", \"sum_WBev\": 10}, {\"GueltigAbDat\": \"2021-03-27T00:00:00\", \"GueltigAbDatJahr\": 2021, \"GueltigAbDatMM\": 3, \"HerkunftLang\": \"Schweizer/in\", \"sum_WBev\": 10}, {\"GueltigAbDat\": \"2021-10-27T00:00:00\", \"GueltigAbDatJahr\": 2021, \"GueltigAbDatMM\": 10, \"HerkunftLang\": \"Ausl\\u00e4nder/in\", \"sum_WBev\": 10}, {\"GueltigAbDat\": \"2021-12-05T00:00:00\", \"GueltigAbDatJahr\": 2021, \"GueltigAbDatMM\": 12, \"HerkunftLang\": \"Ausl\\u00e4nder/in\", \"sum_WBev\": 10}, {\"GueltigAbDat\": \"2021-07-17T00:00:00\", \"GueltigAbDatJahr\": 2021, \"GueltigAbDatMM\": 7, \"HerkunftLang\": \"Schweizer/in\", \"sum_WBev\": 10}, {\"GueltigAbDat\": \"2021-07-20T00:00:00\", \"GueltigAbDatJahr\": 2021, \"GueltigAbDatMM\": 7, \"HerkunftLang\": \"Schweizer/in\", \"sum_WBev\": 10}, {\"GueltigAbDat\": \"2021-07-22T00:00:00\", \"GueltigAbDatJahr\": 2021, \"GueltigAbDatMM\": 7, \"HerkunftLang\": \"Schweizer/in\", \"sum_WBev\": 10}, {\"GueltigAbDat\": \"2021-07-29T00:00:00\", \"GueltigAbDatJahr\": 2021, \"GueltigAbDatMM\": 7, \"HerkunftLang\": \"Schweizer/in\", \"sum_WBev\": 10}, {\"GueltigAbDat\": \"2021-08-07T00:00:00\", \"GueltigAbDatJahr\": 2021, \"GueltigAbDatMM\": 8, \"HerkunftLang\": \"Schweizer/in\", \"sum_WBev\": 10}, {\"GueltigAbDat\": \"2021-01-07T00:00:00\", \"GueltigAbDatJahr\": 2021, \"GueltigAbDatMM\": 1, \"HerkunftLang\": \"Schweizer/in\", \"sum_WBev\": 10}, {\"GueltigAbDat\": \"2021-08-30T00:00:00\", \"GueltigAbDatJahr\": 2021, \"GueltigAbDatMM\": 8, \"HerkunftLang\": \"Schweizer/in\", \"sum_WBev\": 10}, {\"GueltigAbDat\": \"2021-09-03T00:00:00\", \"GueltigAbDatJahr\": 2021, \"GueltigAbDatMM\": 9, \"HerkunftLang\": \"Schweizer/in\", \"sum_WBev\": 10}, {\"GueltigAbDat\": \"2021-09-06T00:00:00\", \"GueltigAbDatJahr\": 2021, \"GueltigAbDatMM\": 9, \"HerkunftLang\": \"Schweizer/in\", \"sum_WBev\": 10}, {\"GueltigAbDat\": \"2021-11-02T00:00:00\", \"GueltigAbDatJahr\": 2021, \"GueltigAbDatMM\": 11, \"HerkunftLang\": \"Schweizer/in\", \"sum_WBev\": 10}, {\"GueltigAbDat\": \"2022-01-19T00:00:00\", \"GueltigAbDatJahr\": 2022, \"GueltigAbDatMM\": 1, \"HerkunftLang\": \"Schweizer/in\", \"sum_WBev\": 10}, {\"GueltigAbDat\": \"2021-09-30T00:00:00\", \"GueltigAbDatJahr\": 2021, \"GueltigAbDatMM\": 9, \"HerkunftLang\": \"Schweizer/in\", \"sum_WBev\": 10}, {\"GueltigAbDat\": \"2021-12-23T00:00:00\", \"GueltigAbDatJahr\": 2021, \"GueltigAbDatMM\": 12, \"HerkunftLang\": \"Schweizer/in\", \"sum_WBev\": 10}, {\"GueltigAbDat\": \"2021-10-10T00:00:00\", \"GueltigAbDatJahr\": 2021, \"GueltigAbDatMM\": 10, \"HerkunftLang\": \"Schweizer/in\", \"sum_WBev\": 10}, {\"GueltigAbDat\": \"2021-10-16T00:00:00\", \"GueltigAbDatJahr\": 2021, \"GueltigAbDatMM\": 10, \"HerkunftLang\": \"Ausl\\u00e4nder/in\", \"sum_WBev\": 10}, {\"GueltigAbDat\": \"2021-10-20T00:00:00\", \"GueltigAbDatJahr\": 2021, \"GueltigAbDatMM\": 10, \"HerkunftLang\": \"Schweizer/in\", \"sum_WBev\": 10}, {\"GueltigAbDat\": \"2022-01-13T00:00:00\", \"GueltigAbDatJahr\": 2022, \"GueltigAbDatMM\": 1, \"HerkunftLang\": \"Schweizer/in\", \"sum_WBev\": 10}, {\"GueltigAbDat\": \"2022-03-30T00:00:00\", \"GueltigAbDatJahr\": 2022, \"GueltigAbDatMM\": 3, \"HerkunftLang\": \"Schweizer/in\", \"sum_WBev\": 10}, {\"GueltigAbDat\": \"2021-02-01T00:00:00\", \"GueltigAbDatJahr\": 2021, \"GueltigAbDatMM\": 2, \"HerkunftLang\": \"Schweizer/in\", \"sum_WBev\": 10}, {\"GueltigAbDat\": \"2022-01-28T00:00:00\", \"GueltigAbDatJahr\": 2022, \"GueltigAbDatMM\": 1, \"HerkunftLang\": \"Schweizer/in\", \"sum_WBev\": 10}, {\"GueltigAbDat\": \"2022-03-04T00:00:00\", \"GueltigAbDatJahr\": 2022, \"GueltigAbDatMM\": 3, \"HerkunftLang\": \"Schweizer/in\", \"sum_WBev\": 10}, {\"GueltigAbDat\": \"2021-12-27T00:00:00\", \"GueltigAbDatJahr\": 2021, \"GueltigAbDatMM\": 12, \"HerkunftLang\": \"Schweizer/in\", \"sum_WBev\": 10}, {\"GueltigAbDat\": \"2021-07-15T00:00:00\", \"GueltigAbDatJahr\": 2021, \"GueltigAbDatMM\": 7, \"HerkunftLang\": \"Schweizer/in\", \"sum_WBev\": 10}, {\"GueltigAbDat\": \"2021-02-03T00:00:00\", \"GueltigAbDatJahr\": 2021, \"GueltigAbDatMM\": 2, \"HerkunftLang\": \"Schweizer/in\", \"sum_WBev\": 10}, {\"GueltigAbDat\": \"2021-06-24T00:00:00\", \"GueltigAbDatJahr\": 2021, \"GueltigAbDatMM\": 6, \"HerkunftLang\": \"Ausl\\u00e4nder/in\", \"sum_WBev\": 10}, {\"GueltigAbDat\": \"2021-11-16T00:00:00\", \"GueltigAbDatJahr\": 2021, \"GueltigAbDatMM\": 11, \"HerkunftLang\": \"Schweizer/in\", \"sum_WBev\": 10}, {\"GueltigAbDat\": \"2021-02-07T00:00:00\", \"GueltigAbDatJahr\": 2021, \"GueltigAbDatMM\": 2, \"HerkunftLang\": \"Schweizer/in\", \"sum_WBev\": 10}, {\"GueltigAbDat\": \"2021-06-03T00:00:00\", \"GueltigAbDatJahr\": 2021, \"GueltigAbDatMM\": 6, \"HerkunftLang\": \"Ausl\\u00e4nder/in\", \"sum_WBev\": 10}, {\"GueltigAbDat\": \"2021-06-07T00:00:00\", \"GueltigAbDatJahr\": 2021, \"GueltigAbDatMM\": 6, \"HerkunftLang\": \"Schweizer/in\", \"sum_WBev\": 10}, {\"GueltigAbDat\": \"2021-03-04T00:00:00\", \"GueltigAbDatJahr\": 2021, \"GueltigAbDatMM\": 3, \"HerkunftLang\": \"Schweizer/in\", \"sum_WBev\": 10}, {\"GueltigAbDat\": \"2021-05-20T00:00:00\", \"GueltigAbDatJahr\": 2021, \"GueltigAbDatMM\": 5, \"HerkunftLang\": \"Schweizer/in\", \"sum_WBev\": 9}, {\"GueltigAbDat\": \"2021-09-28T00:00:00\", \"GueltigAbDatJahr\": 2021, \"GueltigAbDatMM\": 9, \"HerkunftLang\": \"Schweizer/in\", \"sum_WBev\": 9}, {\"GueltigAbDat\": \"2021-06-08T00:00:00\", \"GueltigAbDatJahr\": 2021, \"GueltigAbDatMM\": 6, \"HerkunftLang\": \"Schweizer/in\", \"sum_WBev\": 9}, {\"GueltigAbDat\": \"2021-10-04T00:00:00\", \"GueltigAbDatJahr\": 2021, \"GueltigAbDatMM\": 10, \"HerkunftLang\": \"Schweizer/in\", \"sum_WBev\": 9}, {\"GueltigAbDat\": \"2021-04-28T00:00:00\", \"GueltigAbDatJahr\": 2021, \"GueltigAbDatMM\": 4, \"HerkunftLang\": \"Schweizer/in\", \"sum_WBev\": 9}, {\"GueltigAbDat\": \"2021-06-05T00:00:00\", \"GueltigAbDatJahr\": 2021, \"GueltigAbDatMM\": 6, \"HerkunftLang\": \"Schweizer/in\", \"sum_WBev\": 9}, {\"GueltigAbDat\": \"2021-10-15T00:00:00\", \"GueltigAbDatJahr\": 2021, \"GueltigAbDatMM\": 10, \"HerkunftLang\": \"Schweizer/in\", \"sum_WBev\": 9}, {\"GueltigAbDat\": \"2021-10-20T00:00:00\", \"GueltigAbDatJahr\": 2021, \"GueltigAbDatMM\": 10, \"HerkunftLang\": \"Ausl\\u00e4nder/in\", \"sum_WBev\": 9}, {\"GueltigAbDat\": \"2021-04-22T00:00:00\", \"GueltigAbDatJahr\": 2021, \"GueltigAbDatMM\": 4, \"HerkunftLang\": \"Schweizer/in\", \"sum_WBev\": 9}, {\"GueltigAbDat\": \"2021-06-03T00:00:00\", \"GueltigAbDatJahr\": 2021, \"GueltigAbDatMM\": 6, \"HerkunftLang\": \"Schweizer/in\", \"sum_WBev\": 9}, {\"GueltigAbDat\": \"2021-11-26T00:00:00\", \"GueltigAbDatJahr\": 2021, \"GueltigAbDatMM\": 11, \"HerkunftLang\": \"Schweizer/in\", \"sum_WBev\": 9}, {\"GueltigAbDat\": \"2021-04-21T00:00:00\", \"GueltigAbDatJahr\": 2021, \"GueltigAbDatMM\": 4, \"HerkunftLang\": \"Schweizer/in\", \"sum_WBev\": 9}, {\"GueltigAbDat\": \"2021-04-19T00:00:00\", \"GueltigAbDatJahr\": 2021, \"GueltigAbDatMM\": 4, \"HerkunftLang\": \"Schweizer/in\", \"sum_WBev\": 9}, {\"GueltigAbDat\": \"2021-04-18T00:00:00\", \"GueltigAbDatJahr\": 2021, \"GueltigAbDatMM\": 4, \"HerkunftLang\": \"Schweizer/in\", \"sum_WBev\": 9}, {\"GueltigAbDat\": \"2022-01-04T00:00:00\", \"GueltigAbDatJahr\": 2022, \"GueltigAbDatMM\": 1, \"HerkunftLang\": \"Schweizer/in\", \"sum_WBev\": 9}, {\"GueltigAbDat\": \"2021-09-26T00:00:00\", \"GueltigAbDatJahr\": 2021, \"GueltigAbDatMM\": 9, \"HerkunftLang\": \"Schweizer/in\", \"sum_WBev\": 9}, {\"GueltigAbDat\": \"2021-11-03T00:00:00\", \"GueltigAbDatJahr\": 2021, \"GueltigAbDatMM\": 11, \"HerkunftLang\": \"Schweizer/in\", \"sum_WBev\": 9}, {\"GueltigAbDat\": \"2021-09-20T00:00:00\", \"GueltigAbDatJahr\": 2021, \"GueltigAbDatMM\": 9, \"HerkunftLang\": \"Schweizer/in\", \"sum_WBev\": 9}, {\"GueltigAbDat\": \"2021-09-16T00:00:00\", \"GueltigAbDatJahr\": 2021, \"GueltigAbDatMM\": 9, \"HerkunftLang\": \"Schweizer/in\", \"sum_WBev\": 9}, {\"GueltigAbDat\": \"2021-07-18T00:00:00\", \"GueltigAbDatJahr\": 2021, \"GueltigAbDatMM\": 7, \"HerkunftLang\": \"Schweizer/in\", \"sum_WBev\": 9}, {\"GueltigAbDat\": \"2022-02-14T00:00:00\", \"GueltigAbDatJahr\": 2022, \"GueltigAbDatMM\": 2, \"HerkunftLang\": \"Schweizer/in\", \"sum_WBev\": 9}, {\"GueltigAbDat\": \"2021-07-11T00:00:00\", \"GueltigAbDatJahr\": 2021, \"GueltigAbDatMM\": 7, \"HerkunftLang\": \"Schweizer/in\", \"sum_WBev\": 9}, {\"GueltigAbDat\": \"2021-07-21T00:00:00\", \"GueltigAbDatJahr\": 2021, \"GueltigAbDatMM\": 7, \"HerkunftLang\": \"Ausl\\u00e4nder/in\", \"sum_WBev\": 9}, {\"GueltigAbDat\": \"2021-07-28T00:00:00\", \"GueltigAbDatJahr\": 2021, \"GueltigAbDatMM\": 7, \"HerkunftLang\": \"Schweizer/in\", \"sum_WBev\": 9}, {\"GueltigAbDat\": \"2021-11-15T00:00:00\", \"GueltigAbDatJahr\": 2021, \"GueltigAbDatMM\": 11, \"HerkunftLang\": \"Schweizer/in\", \"sum_WBev\": 9}, {\"GueltigAbDat\": \"2021-11-10T00:00:00\", \"GueltigAbDatJahr\": 2021, \"GueltigAbDatMM\": 11, \"HerkunftLang\": \"Schweizer/in\", \"sum_WBev\": 9}, {\"GueltigAbDat\": \"2022-02-12T00:00:00\", \"GueltigAbDatJahr\": 2022, \"GueltigAbDatMM\": 2, \"HerkunftLang\": \"Schweizer/in\", \"sum_WBev\": 9}, {\"GueltigAbDat\": \"2021-05-14T00:00:00\", \"GueltigAbDatJahr\": 2021, \"GueltigAbDatMM\": 5, \"HerkunftLang\": \"Schweizer/in\", \"sum_WBev\": 9}, {\"GueltigAbDat\": \"2021-06-02T00:00:00\", \"GueltigAbDatJahr\": 2021, \"GueltigAbDatMM\": 6, \"HerkunftLang\": \"Schweizer/in\", \"sum_WBev\": 9}, {\"GueltigAbDat\": \"2021-08-08T00:00:00\", \"GueltigAbDatJahr\": 2021, \"GueltigAbDatMM\": 8, \"HerkunftLang\": \"Schweizer/in\", \"sum_WBev\": 9}, {\"GueltigAbDat\": \"2021-08-12T00:00:00\", \"GueltigAbDatJahr\": 2021, \"GueltigAbDatMM\": 8, \"HerkunftLang\": \"Schweizer/in\", \"sum_WBev\": 9}, {\"GueltigAbDat\": \"2022-01-26T00:00:00\", \"GueltigAbDatJahr\": 2022, \"GueltigAbDatMM\": 1, \"HerkunftLang\": \"Ausl\\u00e4nder/in\", \"sum_WBev\": 9}, {\"GueltigAbDat\": \"2021-08-26T00:00:00\", \"GueltigAbDatJahr\": 2021, \"GueltigAbDatMM\": 8, \"HerkunftLang\": \"Schweizer/in\", \"sum_WBev\": 9}, {\"GueltigAbDat\": \"2021-05-11T00:00:00\", \"GueltigAbDatJahr\": 2021, \"GueltigAbDatMM\": 5, \"HerkunftLang\": \"Schweizer/in\", \"sum_WBev\": 9}, {\"GueltigAbDat\": \"2021-07-08T00:00:00\", \"GueltigAbDatJahr\": 2021, \"GueltigAbDatMM\": 7, \"HerkunftLang\": \"Schweizer/in\", \"sum_WBev\": 9}, {\"GueltigAbDat\": \"2021-07-04T00:00:00\", \"GueltigAbDatJahr\": 2021, \"GueltigAbDatMM\": 7, \"HerkunftLang\": \"Schweizer/in\", \"sum_WBev\": 9}, {\"GueltigAbDat\": \"2022-02-02T00:00:00\", \"GueltigAbDatJahr\": 2022, \"GueltigAbDatMM\": 2, \"HerkunftLang\": \"Schweizer/in\", \"sum_WBev\": 9}, {\"GueltigAbDat\": \"2021-05-14T00:00:00\", \"GueltigAbDatJahr\": 2021, \"GueltigAbDatMM\": 5, \"HerkunftLang\": \"Ausl\\u00e4nder/in\", \"sum_WBev\": 9}, {\"GueltigAbDat\": \"2021-03-28T00:00:00\", \"GueltigAbDatJahr\": 2021, \"GueltigAbDatMM\": 3, \"HerkunftLang\": \"Schweizer/in\", \"sum_WBev\": 9}, {\"GueltigAbDat\": \"2021-02-16T00:00:00\", \"GueltigAbDatJahr\": 2021, \"GueltigAbDatMM\": 2, \"HerkunftLang\": \"Schweizer/in\", \"sum_WBev\": 9}, {\"GueltigAbDat\": \"2021-12-26T00:00:00\", \"GueltigAbDatJahr\": 2021, \"GueltigAbDatMM\": 12, \"HerkunftLang\": \"Schweizer/in\", \"sum_WBev\": 9}, {\"GueltigAbDat\": \"2021-11-29T00:00:00\", \"GueltigAbDatJahr\": 2021, \"GueltigAbDatMM\": 11, \"HerkunftLang\": \"Schweizer/in\", \"sum_WBev\": 9}, {\"GueltigAbDat\": \"2020-12-08T00:00:00\", \"GueltigAbDatJahr\": 2020, \"GueltigAbDatMM\": 12, \"HerkunftLang\": \"Schweizer/in\", \"sum_WBev\": 9}, {\"GueltigAbDat\": \"2021-11-30T00:00:00\", \"GueltigAbDatJahr\": 2021, \"GueltigAbDatMM\": 11, \"HerkunftLang\": \"Schweizer/in\", \"sum_WBev\": 9}, {\"GueltigAbDat\": \"2021-02-20T00:00:00\", \"GueltigAbDatJahr\": 2021, \"GueltigAbDatMM\": 2, \"HerkunftLang\": \"Schweizer/in\", \"sum_WBev\": 9}, {\"GueltigAbDat\": \"2021-01-26T00:00:00\", \"GueltigAbDatJahr\": 2021, \"GueltigAbDatMM\": 1, \"HerkunftLang\": \"Schweizer/in\", \"sum_WBev\": 9}, {\"GueltigAbDat\": \"2020-12-11T00:00:00\", \"GueltigAbDatJahr\": 2020, \"GueltigAbDatMM\": 12, \"HerkunftLang\": \"Schweizer/in\", \"sum_WBev\": 9}, {\"GueltigAbDat\": \"2021-01-21T00:00:00\", \"GueltigAbDatJahr\": 2021, \"GueltigAbDatMM\": 1, \"HerkunftLang\": \"Schweizer/in\", \"sum_WBev\": 9}, {\"GueltigAbDat\": \"2021-01-28T00:00:00\", \"GueltigAbDatJahr\": 2021, \"GueltigAbDatMM\": 1, \"HerkunftLang\": \"Schweizer/in\", \"sum_WBev\": 9}, {\"GueltigAbDat\": \"2020-12-14T00:00:00\", \"GueltigAbDatJahr\": 2020, \"GueltigAbDatMM\": 12, \"HerkunftLang\": \"Schweizer/in\", \"sum_WBev\": 9}, {\"GueltigAbDat\": \"2021-02-24T00:00:00\", \"GueltigAbDatJahr\": 2021, \"GueltigAbDatMM\": 2, \"HerkunftLang\": \"Ausl\\u00e4nder/in\", \"sum_WBev\": 9}, {\"GueltigAbDat\": \"2021-01-17T00:00:00\", \"GueltigAbDatJahr\": 2021, \"GueltigAbDatMM\": 1, \"HerkunftLang\": \"Schweizer/in\", \"sum_WBev\": 9}, {\"GueltigAbDat\": \"2021-12-08T00:00:00\", \"GueltigAbDatJahr\": 2021, \"GueltigAbDatMM\": 12, \"HerkunftLang\": \"Schweizer/in\", \"sum_WBev\": 9}, {\"GueltigAbDat\": \"2020-12-19T00:00:00\", \"GueltigAbDatJahr\": 2020, \"GueltigAbDatMM\": 12, \"HerkunftLang\": \"Schweizer/in\", \"sum_WBev\": 9}, {\"GueltigAbDat\": \"2021-12-04T00:00:00\", \"GueltigAbDatJahr\": 2021, \"GueltigAbDatMM\": 12, \"HerkunftLang\": \"Schweizer/in\", \"sum_WBev\": 9}, {\"GueltigAbDat\": \"2021-03-13T00:00:00\", \"GueltigAbDatJahr\": 2021, \"GueltigAbDatMM\": 3, \"HerkunftLang\": \"Schweizer/in\", \"sum_WBev\": 9}, {\"GueltigAbDat\": \"2021-03-12T00:00:00\", \"GueltigAbDatJahr\": 2021, \"GueltigAbDatMM\": 3, \"HerkunftLang\": \"Schweizer/in\", \"sum_WBev\": 9}, {\"GueltigAbDat\": \"2021-02-27T00:00:00\", \"GueltigAbDatJahr\": 2021, \"GueltigAbDatMM\": 2, \"HerkunftLang\": \"Schweizer/in\", \"sum_WBev\": 9}, {\"GueltigAbDat\": \"2020-12-24T00:00:00\", \"GueltigAbDatJahr\": 2020, \"GueltigAbDatMM\": 12, \"HerkunftLang\": \"Schweizer/in\", \"sum_WBev\": 9}, {\"GueltigAbDat\": \"2021-01-31T00:00:00\", \"GueltigAbDatJahr\": 2021, \"GueltigAbDatMM\": 1, \"HerkunftLang\": \"Schweizer/in\", \"sum_WBev\": 9}, {\"GueltigAbDat\": \"2021-12-30T00:00:00\", \"GueltigAbDatJahr\": 2021, \"GueltigAbDatMM\": 12, \"HerkunftLang\": \"Schweizer/in\", \"sum_WBev\": 9}, {\"GueltigAbDat\": \"2021-03-06T00:00:00\", \"GueltigAbDatJahr\": 2021, \"GueltigAbDatMM\": 3, \"HerkunftLang\": \"Schweizer/in\", \"sum_WBev\": 9}, {\"GueltigAbDat\": \"2021-12-21T00:00:00\", \"GueltigAbDatJahr\": 2021, \"GueltigAbDatMM\": 12, \"HerkunftLang\": \"Ausl\\u00e4nder/in\", \"sum_WBev\": 9}, {\"GueltigAbDat\": \"2021-04-06T00:00:00\", \"GueltigAbDatJahr\": 2021, \"GueltigAbDatMM\": 4, \"HerkunftLang\": \"Schweizer/in\", \"sum_WBev\": 9}, {\"GueltigAbDat\": \"2020-12-30T00:00:00\", \"GueltigAbDatJahr\": 2020, \"GueltigAbDatMM\": 12, \"HerkunftLang\": \"Ausl\\u00e4nder/in\", \"sum_WBev\": 9}, {\"GueltigAbDat\": \"2022-03-17T00:00:00\", \"GueltigAbDatJahr\": 2022, \"GueltigAbDatMM\": 3, \"HerkunftLang\": \"Schweizer/in\", \"sum_WBev\": 9}, {\"GueltigAbDat\": \"2021-12-13T00:00:00\", \"GueltigAbDatJahr\": 2021, \"GueltigAbDatMM\": 12, \"HerkunftLang\": \"Ausl\\u00e4nder/in\", \"sum_WBev\": 9}, {\"GueltigAbDat\": \"2022-01-03T00:00:00\", \"GueltigAbDatJahr\": 2022, \"GueltigAbDatMM\": 1, \"HerkunftLang\": \"Schweizer/in\", \"sum_WBev\": 9}, {\"GueltigAbDat\": \"2021-04-10T00:00:00\", \"GueltigAbDatJahr\": 2021, \"GueltigAbDatMM\": 4, \"HerkunftLang\": \"Schweizer/in\", \"sum_WBev\": 9}, {\"GueltigAbDat\": \"2021-02-11T00:00:00\", \"GueltigAbDatJahr\": 2021, \"GueltigAbDatMM\": 2, \"HerkunftLang\": \"Schweizer/in\", \"sum_WBev\": 9}, {\"GueltigAbDat\": \"2021-04-29T00:00:00\", \"GueltigAbDatJahr\": 2021, \"GueltigAbDatMM\": 4, \"HerkunftLang\": \"Schweizer/in\", \"sum_WBev\": 8}, {\"GueltigAbDat\": \"2021-06-20T00:00:00\", \"GueltigAbDatJahr\": 2021, \"GueltigAbDatMM\": 6, \"HerkunftLang\": \"Ausl\\u00e4nder/in\", \"sum_WBev\": 8}, {\"GueltigAbDat\": \"2021-09-22T00:00:00\", \"GueltigAbDatJahr\": 2021, \"GueltigAbDatMM\": 9, \"HerkunftLang\": \"Schweizer/in\", \"sum_WBev\": 8}, {\"GueltigAbDat\": \"2021-11-10T00:00:00\", \"GueltigAbDatJahr\": 2021, \"GueltigAbDatMM\": 11, \"HerkunftLang\": \"Ausl\\u00e4nder/in\", \"sum_WBev\": 8}, {\"GueltigAbDat\": \"2020-12-21T00:00:00\", \"GueltigAbDatJahr\": 2020, \"GueltigAbDatMM\": 12, \"HerkunftLang\": \"Schweizer/in\", \"sum_WBev\": 8}, {\"GueltigAbDat\": \"2021-06-19T00:00:00\", \"GueltigAbDatJahr\": 2021, \"GueltigAbDatMM\": 6, \"HerkunftLang\": \"Schweizer/in\", \"sum_WBev\": 8}, {\"GueltigAbDat\": \"2021-02-05T00:00:00\", \"GueltigAbDatJahr\": 2021, \"GueltigAbDatMM\": 2, \"HerkunftLang\": \"Ausl\\u00e4nder/in\", \"sum_WBev\": 8}, {\"GueltigAbDat\": \"2021-01-23T00:00:00\", \"GueltigAbDatJahr\": 2021, \"GueltigAbDatMM\": 1, \"HerkunftLang\": \"Schweizer/in\", \"sum_WBev\": 8}, {\"GueltigAbDat\": \"2022-01-01T00:00:00\", \"GueltigAbDatJahr\": 2022, \"GueltigAbDatMM\": 1, \"HerkunftLang\": \"Ausl\\u00e4nder/in\", \"sum_WBev\": 8}, {\"GueltigAbDat\": \"2020-12-03T00:00:00\", \"GueltigAbDatJahr\": 2020, \"GueltigAbDatMM\": 12, \"HerkunftLang\": \"Schweizer/in\", \"sum_WBev\": 8}, {\"GueltigAbDat\": \"2021-07-23T00:00:00\", \"GueltigAbDatJahr\": 2021, \"GueltigAbDatMM\": 7, \"HerkunftLang\": \"Schweizer/in\", \"sum_WBev\": 8}, {\"GueltigAbDat\": \"2021-05-25T00:00:00\", \"GueltigAbDatJahr\": 2021, \"GueltigAbDatMM\": 5, \"HerkunftLang\": \"Ausl\\u00e4nder/in\", \"sum_WBev\": 8}, {\"GueltigAbDat\": \"2021-03-19T00:00:00\", \"GueltigAbDatJahr\": 2021, \"GueltigAbDatMM\": 3, \"HerkunftLang\": \"Schweizer/in\", \"sum_WBev\": 8}, {\"GueltigAbDat\": \"2022-03-03T00:00:00\", \"GueltigAbDatJahr\": 2022, \"GueltigAbDatMM\": 3, \"HerkunftLang\": \"Schweizer/in\", \"sum_WBev\": 8}, {\"GueltigAbDat\": \"2021-01-05T00:00:00\", \"GueltigAbDatJahr\": 2021, \"GueltigAbDatMM\": 1, \"HerkunftLang\": \"Schweizer/in\", \"sum_WBev\": 8}, {\"GueltigAbDat\": \"2020-12-17T00:00:00\", \"GueltigAbDatJahr\": 2020, \"GueltigAbDatMM\": 12, \"HerkunftLang\": \"Schweizer/in\", \"sum_WBev\": 8}, {\"GueltigAbDat\": \"2021-10-24T00:00:00\", \"GueltigAbDatJahr\": 2021, \"GueltigAbDatMM\": 10, \"HerkunftLang\": \"Schweizer/in\", \"sum_WBev\": 8}, {\"GueltigAbDat\": \"2021-03-11T00:00:00\", \"GueltigAbDatJahr\": 2021, \"GueltigAbDatMM\": 3, \"HerkunftLang\": \"Schweizer/in\", \"sum_WBev\": 8}, {\"GueltigAbDat\": \"2021-02-24T00:00:00\", \"GueltigAbDatJahr\": 2021, \"GueltigAbDatMM\": 2, \"HerkunftLang\": \"Schweizer/in\", \"sum_WBev\": 8}, {\"GueltigAbDat\": \"2021-12-31T00:00:00\", \"GueltigAbDatJahr\": 2021, \"GueltigAbDatMM\": 12, \"HerkunftLang\": \"Schweizer/in\", \"sum_WBev\": 8}, {\"GueltigAbDat\": \"2021-11-05T00:00:00\", \"GueltigAbDatJahr\": 2021, \"GueltigAbDatMM\": 11, \"HerkunftLang\": \"Ausl\\u00e4nder/in\", \"sum_WBev\": 8}, {\"GueltigAbDat\": \"2021-09-13T00:00:00\", \"GueltigAbDatJahr\": 2021, \"GueltigAbDatMM\": 9, \"HerkunftLang\": \"Schweizer/in\", \"sum_WBev\": 8}, {\"GueltigAbDat\": \"2021-09-08T00:00:00\", \"GueltigAbDatJahr\": 2021, \"GueltigAbDatMM\": 9, \"HerkunftLang\": \"Ausl\\u00e4nder/in\", \"sum_WBev\": 8}, {\"GueltigAbDat\": \"2020-12-26T00:00:00\", \"GueltigAbDatJahr\": 2020, \"GueltigAbDatMM\": 12, \"HerkunftLang\": \"Schweizer/in\", \"sum_WBev\": 8}, {\"GueltigAbDat\": \"2021-03-05T00:00:00\", \"GueltigAbDatJahr\": 2021, \"GueltigAbDatMM\": 3, \"HerkunftLang\": \"Ausl\\u00e4nder/in\", \"sum_WBev\": 8}, {\"GueltigAbDat\": \"2021-03-05T00:00:00\", \"GueltigAbDatJahr\": 2021, \"GueltigAbDatMM\": 3, \"HerkunftLang\": \"Schweizer/in\", \"sum_WBev\": 8}, {\"GueltigAbDat\": \"2021-12-06T00:00:00\", \"GueltigAbDatJahr\": 2021, \"GueltigAbDatMM\": 12, \"HerkunftLang\": \"Schweizer/in\", \"sum_WBev\": 8}, {\"GueltigAbDat\": \"2021-12-18T00:00:00\", \"GueltigAbDatJahr\": 2021, \"GueltigAbDatMM\": 12, \"HerkunftLang\": \"Schweizer/in\", \"sum_WBev\": 8}, {\"GueltigAbDat\": \"2021-09-21T00:00:00\", \"GueltigAbDatJahr\": 2021, \"GueltigAbDatMM\": 9, \"HerkunftLang\": \"Ausl\\u00e4nder/in\", \"sum_WBev\": 8}, {\"GueltigAbDat\": \"2021-06-07T00:00:00\", \"GueltigAbDatJahr\": 2021, \"GueltigAbDatMM\": 6, \"HerkunftLang\": \"Ausl\\u00e4nder/in\", \"sum_WBev\": 8}, {\"GueltigAbDat\": \"2021-08-11T00:00:00\", \"GueltigAbDatJahr\": 2021, \"GueltigAbDatMM\": 8, \"HerkunftLang\": \"Ausl\\u00e4nder/in\", \"sum_WBev\": 8}, {\"GueltigAbDat\": \"2021-09-17T00:00:00\", \"GueltigAbDatJahr\": 2021, \"GueltigAbDatMM\": 9, \"HerkunftLang\": \"Schweizer/in\", \"sum_WBev\": 8}, {\"GueltigAbDat\": \"2021-07-19T00:00:00\", \"GueltigAbDatJahr\": 2021, \"GueltigAbDatMM\": 7, \"HerkunftLang\": \"Schweizer/in\", \"sum_WBev\": 8}, {\"GueltigAbDat\": \"2021-03-09T00:00:00\", \"GueltigAbDatJahr\": 2021, \"GueltigAbDatMM\": 3, \"HerkunftLang\": \"Schweizer/in\", \"sum_WBev\": 8}, {\"GueltigAbDat\": \"2021-09-19T00:00:00\", \"GueltigAbDatJahr\": 2021, \"GueltigAbDatMM\": 9, \"HerkunftLang\": \"Schweizer/in\", \"sum_WBev\": 8}, {\"GueltigAbDat\": \"2022-03-11T00:00:00\", \"GueltigAbDatJahr\": 2022, \"GueltigAbDatMM\": 3, \"HerkunftLang\": \"Schweizer/in\", \"sum_WBev\": 8}, {\"GueltigAbDat\": \"2021-05-22T00:00:00\", \"GueltigAbDatJahr\": 2021, \"GueltigAbDatMM\": 5, \"HerkunftLang\": \"Ausl\\u00e4nder/in\", \"sum_WBev\": 8}, {\"GueltigAbDat\": \"2021-11-14T00:00:00\", \"GueltigAbDatJahr\": 2021, \"GueltigAbDatMM\": 11, \"HerkunftLang\": \"Schweizer/in\", \"sum_WBev\": 8}, {\"GueltigAbDat\": \"2022-03-18T00:00:00\", \"GueltigAbDatJahr\": 2022, \"GueltigAbDatMM\": 3, \"HerkunftLang\": \"Schweizer/in\", \"sum_WBev\": 8}, {\"GueltigAbDat\": \"2021-11-09T00:00:00\", \"GueltigAbDatJahr\": 2021, \"GueltigAbDatMM\": 11, \"HerkunftLang\": \"Schweizer/in\", \"sum_WBev\": 8}, {\"GueltigAbDat\": \"2021-10-19T00:00:00\", \"GueltigAbDatJahr\": 2021, \"GueltigAbDatMM\": 10, \"HerkunftLang\": \"Schweizer/in\", \"sum_WBev\": 8}, {\"GueltigAbDat\": \"2021-04-27T00:00:00\", \"GueltigAbDatJahr\": 2021, \"GueltigAbDatMM\": 4, \"HerkunftLang\": \"Schweizer/in\", \"sum_WBev\": 8}, {\"GueltigAbDat\": \"2021-02-14T00:00:00\", \"GueltigAbDatJahr\": 2021, \"GueltigAbDatMM\": 2, \"HerkunftLang\": \"Schweizer/in\", \"sum_WBev\": 8}, {\"GueltigAbDat\": \"2021-12-28T00:00:00\", \"GueltigAbDatJahr\": 2021, \"GueltigAbDatMM\": 12, \"HerkunftLang\": \"Schweizer/in\", \"sum_WBev\": 8}, {\"GueltigAbDat\": \"2022-02-05T00:00:00\", \"GueltigAbDatJahr\": 2022, \"GueltigAbDatMM\": 2, \"HerkunftLang\": \"Schweizer/in\", \"sum_WBev\": 8}, {\"GueltigAbDat\": \"2021-07-24T00:00:00\", \"GueltigAbDatJahr\": 2021, \"GueltigAbDatMM\": 7, \"HerkunftLang\": \"Schweizer/in\", \"sum_WBev\": 8}, {\"GueltigAbDat\": \"2021-04-28T00:00:00\", \"GueltigAbDatJahr\": 2021, \"GueltigAbDatMM\": 4, \"HerkunftLang\": \"Ausl\\u00e4nder/in\", \"sum_WBev\": 8}, {\"GueltigAbDat\": \"2022-03-07T00:00:00\", \"GueltigAbDatJahr\": 2022, \"GueltigAbDatMM\": 3, \"HerkunftLang\": \"Schweizer/in\", \"sum_WBev\": 8}, {\"GueltigAbDat\": \"2021-12-09T00:00:00\", \"GueltigAbDatJahr\": 2021, \"GueltigAbDatMM\": 12, \"HerkunftLang\": \"Schweizer/in\", \"sum_WBev\": 8}, {\"GueltigAbDat\": \"2021-11-11T00:00:00\", \"GueltigAbDatJahr\": 2021, \"GueltigAbDatMM\": 11, \"HerkunftLang\": \"Schweizer/in\", \"sum_WBev\": 8}, {\"GueltigAbDat\": \"2021-10-27T00:00:00\", \"GueltigAbDatJahr\": 2021, \"GueltigAbDatMM\": 10, \"HerkunftLang\": \"Schweizer/in\", \"sum_WBev\": 8}, {\"GueltigAbDat\": \"2022-01-26T00:00:00\", \"GueltigAbDatJahr\": 2022, \"GueltigAbDatMM\": 1, \"HerkunftLang\": \"Schweizer/in\", \"sum_WBev\": 8}, {\"GueltigAbDat\": \"2021-03-29T00:00:00\", \"GueltigAbDatJahr\": 2021, \"GueltigAbDatMM\": 3, \"HerkunftLang\": \"Ausl\\u00e4nder/in\", \"sum_WBev\": 8}, {\"GueltigAbDat\": \"2020-12-15T00:00:00\", \"GueltigAbDatJahr\": 2020, \"GueltigAbDatMM\": 12, \"HerkunftLang\": \"Schweizer/in\", \"sum_WBev\": 8}, {\"GueltigAbDat\": \"2021-10-28T00:00:00\", \"GueltigAbDatJahr\": 2021, \"GueltigAbDatMM\": 10, \"HerkunftLang\": \"Ausl\\u00e4nder/in\", \"sum_WBev\": 8}, {\"GueltigAbDat\": \"2021-10-03T00:00:00\", \"GueltigAbDatJahr\": 2021, \"GueltigAbDatMM\": 10, \"HerkunftLang\": \"Schweizer/in\", \"sum_WBev\": 8}, {\"GueltigAbDat\": \"2021-10-04T00:00:00\", \"GueltigAbDatJahr\": 2021, \"GueltigAbDatMM\": 10, \"HerkunftLang\": \"Ausl\\u00e4nder/in\", \"sum_WBev\": 8}, {\"GueltigAbDat\": \"2021-10-17T00:00:00\", \"GueltigAbDatJahr\": 2021, \"GueltigAbDatMM\": 10, \"HerkunftLang\": \"Schweizer/in\", \"sum_WBev\": 8}, {\"GueltigAbDat\": \"2021-02-04T00:00:00\", \"GueltigAbDatJahr\": 2021, \"GueltigAbDatMM\": 2, \"HerkunftLang\": \"Schweizer/in\", \"sum_WBev\": 8}, {\"GueltigAbDat\": \"2022-02-25T00:00:00\", \"GueltigAbDatJahr\": 2022, \"GueltigAbDatMM\": 2, \"HerkunftLang\": \"Schweizer/in\", \"sum_WBev\": 8}, {\"GueltigAbDat\": \"2021-11-18T00:00:00\", \"GueltigAbDatJahr\": 2021, \"GueltigAbDatMM\": 11, \"HerkunftLang\": \"Ausl\\u00e4nder/in\", \"sum_WBev\": 8}, {\"GueltigAbDat\": \"2021-01-20T00:00:00\", \"GueltigAbDatJahr\": 2021, \"GueltigAbDatMM\": 1, \"HerkunftLang\": \"Schweizer/in\", \"sum_WBev\": 8}, {\"GueltigAbDat\": \"2022-01-07T00:00:00\", \"GueltigAbDatJahr\": 2022, \"GueltigAbDatMM\": 1, \"HerkunftLang\": \"Schweizer/in\", \"sum_WBev\": 8}, {\"GueltigAbDat\": \"2021-04-08T00:00:00\", \"GueltigAbDatJahr\": 2021, \"GueltigAbDatMM\": 4, \"HerkunftLang\": \"Schweizer/in\", \"sum_WBev\": 8}, {\"GueltigAbDat\": \"2021-02-07T00:00:00\", \"GueltigAbDatJahr\": 2021, \"GueltigAbDatMM\": 2, \"HerkunftLang\": \"Ausl\\u00e4nder/in\", \"sum_WBev\": 7}, {\"GueltigAbDat\": \"2021-02-20T00:00:00\", \"GueltigAbDatJahr\": 2021, \"GueltigAbDatMM\": 2, \"HerkunftLang\": \"Ausl\\u00e4nder/in\", \"sum_WBev\": 7}, {\"GueltigAbDat\": \"2021-09-06T00:00:00\", \"GueltigAbDatJahr\": 2021, \"GueltigAbDatMM\": 9, \"HerkunftLang\": \"Ausl\\u00e4nder/in\", \"sum_WBev\": 7}, {\"GueltigAbDat\": \"2021-08-23T00:00:00\", \"GueltigAbDatJahr\": 2021, \"GueltigAbDatMM\": 8, \"HerkunftLang\": \"Ausl\\u00e4nder/in\", \"sum_WBev\": 7}, {\"GueltigAbDat\": \"2021-07-02T00:00:00\", \"GueltigAbDatJahr\": 2021, \"GueltigAbDatMM\": 7, \"HerkunftLang\": \"Schweizer/in\", \"sum_WBev\": 7}, {\"GueltigAbDat\": \"2021-08-24T00:00:00\", \"GueltigAbDatJahr\": 2021, \"GueltigAbDatMM\": 8, \"HerkunftLang\": \"Ausl\\u00e4nder/in\", \"sum_WBev\": 7}, {\"GueltigAbDat\": \"2021-12-11T00:00:00\", \"GueltigAbDatJahr\": 2021, \"GueltigAbDatMM\": 12, \"HerkunftLang\": \"Schweizer/in\", \"sum_WBev\": 7}, {\"GueltigAbDat\": \"2021-01-13T00:00:00\", \"GueltigAbDatJahr\": 2021, \"GueltigAbDatMM\": 1, \"HerkunftLang\": \"Schweizer/in\", \"sum_WBev\": 7}, {\"GueltigAbDat\": \"2021-12-13T00:00:00\", \"GueltigAbDatJahr\": 2021, \"GueltigAbDatMM\": 12, \"HerkunftLang\": \"Schweizer/in\", \"sum_WBev\": 7}, {\"GueltigAbDat\": \"2022-01-27T00:00:00\", \"GueltigAbDatJahr\": 2022, \"GueltigAbDatMM\": 1, \"HerkunftLang\": \"Schweizer/in\", \"sum_WBev\": 7}, {\"GueltigAbDat\": \"2021-08-16T00:00:00\", \"GueltigAbDatJahr\": 2021, \"GueltigAbDatMM\": 8, \"HerkunftLang\": \"Ausl\\u00e4nder/in\", \"sum_WBev\": 7}, {\"GueltigAbDat\": \"2021-06-27T00:00:00\", \"GueltigAbDatJahr\": 2021, \"GueltigAbDatMM\": 6, \"HerkunftLang\": \"Ausl\\u00e4nder/in\", \"sum_WBev\": 7}, {\"GueltigAbDat\": \"2021-07-10T00:00:00\", \"GueltigAbDatJahr\": 2021, \"GueltigAbDatMM\": 7, \"HerkunftLang\": \"Schweizer/in\", \"sum_WBev\": 7}, {\"GueltigAbDat\": \"2021-01-14T00:00:00\", \"GueltigAbDatJahr\": 2021, \"GueltigAbDatMM\": 1, \"HerkunftLang\": \"Schweizer/in\", \"sum_WBev\": 7}, {\"GueltigAbDat\": \"2021-08-13T00:00:00\", \"GueltigAbDatJahr\": 2021, \"GueltigAbDatMM\": 8, \"HerkunftLang\": \"Ausl\\u00e4nder/in\", \"sum_WBev\": 7}, {\"GueltigAbDat\": \"2021-01-04T00:00:00\", \"GueltigAbDatJahr\": 2021, \"GueltigAbDatMM\": 1, \"HerkunftLang\": \"Schweizer/in\", \"sum_WBev\": 7}, {\"GueltigAbDat\": \"2021-07-14T00:00:00\", \"GueltigAbDatJahr\": 2021, \"GueltigAbDatMM\": 7, \"HerkunftLang\": \"Schweizer/in\", \"sum_WBev\": 7}, {\"GueltigAbDat\": \"2021-08-29T00:00:00\", \"GueltigAbDatJahr\": 2021, \"GueltigAbDatMM\": 8, \"HerkunftLang\": \"Ausl\\u00e4nder/in\", \"sum_WBev\": 7}, {\"GueltigAbDat\": \"2021-01-06T00:00:00\", \"GueltigAbDatJahr\": 2021, \"GueltigAbDatMM\": 1, \"HerkunftLang\": \"Schweizer/in\", \"sum_WBev\": 7}, {\"GueltigAbDat\": \"2022-01-06T00:00:00\", \"GueltigAbDatJahr\": 2022, \"GueltigAbDatMM\": 1, \"HerkunftLang\": \"Ausl\\u00e4nder/in\", \"sum_WBev\": 7}, {\"GueltigAbDat\": \"2021-07-18T00:00:00\", \"GueltigAbDatJahr\": 2021, \"GueltigAbDatMM\": 7, \"HerkunftLang\": \"Ausl\\u00e4nder/in\", \"sum_WBev\": 7}, {\"GueltigAbDat\": \"2021-09-16T00:00:00\", \"GueltigAbDatJahr\": 2021, \"GueltigAbDatMM\": 9, \"HerkunftLang\": \"Ausl\\u00e4nder/in\", \"sum_WBev\": 7}, {\"GueltigAbDat\": \"2021-06-14T00:00:00\", \"GueltigAbDatJahr\": 2021, \"GueltigAbDatMM\": 6, \"HerkunftLang\": \"Schweizer/in\", \"sum_WBev\": 7}, {\"GueltigAbDat\": \"2021-10-12T00:00:00\", \"GueltigAbDatJahr\": 2021, \"GueltigAbDatMM\": 10, \"HerkunftLang\": \"Ausl\\u00e4nder/in\", \"sum_WBev\": 7}, {\"GueltigAbDat\": \"2022-02-16T00:00:00\", \"GueltigAbDatJahr\": 2022, \"GueltigAbDatMM\": 2, \"HerkunftLang\": \"Schweizer/in\", \"sum_WBev\": 7}, {\"GueltigAbDat\": \"2021-04-04T00:00:00\", \"GueltigAbDatJahr\": 2021, \"GueltigAbDatMM\": 4, \"HerkunftLang\": \"Ausl\\u00e4nder/in\", \"sum_WBev\": 7}, {\"GueltigAbDat\": \"2022-02-18T00:00:00\", \"GueltigAbDatJahr\": 2022, \"GueltigAbDatMM\": 2, \"HerkunftLang\": \"Schweizer/in\", \"sum_WBev\": 7}, {\"GueltigAbDat\": \"2022-02-19T00:00:00\", \"GueltigAbDatJahr\": 2022, \"GueltigAbDatMM\": 2, \"HerkunftLang\": \"Schweizer/in\", \"sum_WBev\": 7}, {\"GueltigAbDat\": \"2020-12-06T00:00:00\", \"GueltigAbDatJahr\": 2020, \"GueltigAbDatMM\": 12, \"HerkunftLang\": \"Schweizer/in\", \"sum_WBev\": 7}, {\"GueltigAbDat\": \"2021-05-02T00:00:00\", \"GueltigAbDatJahr\": 2021, \"GueltigAbDatMM\": 5, \"HerkunftLang\": \"Schweizer/in\", \"sum_WBev\": 7}, {\"GueltigAbDat\": \"2021-04-07T00:00:00\", \"GueltigAbDatJahr\": 2021, \"GueltigAbDatMM\": 4, \"HerkunftLang\": \"Ausl\\u00e4nder/in\", \"sum_WBev\": 7}, {\"GueltigAbDat\": \"2021-04-08T00:00:00\", \"GueltigAbDatJahr\": 2021, \"GueltigAbDatMM\": 4, \"HerkunftLang\": \"Ausl\\u00e4nder/in\", \"sum_WBev\": 7}, {\"GueltigAbDat\": \"2021-11-25T00:00:00\", \"GueltigAbDatJahr\": 2021, \"GueltigAbDatMM\": 11, \"HerkunftLang\": \"Schweizer/in\", \"sum_WBev\": 7}, {\"GueltigAbDat\": \"2020-12-05T00:00:00\", \"GueltigAbDatJahr\": 2020, \"GueltigAbDatMM\": 12, \"HerkunftLang\": \"Schweizer/in\", \"sum_WBev\": 7}, {\"GueltigAbDat\": \"2021-07-29T00:00:00\", \"GueltigAbDatJahr\": 2021, \"GueltigAbDatMM\": 7, \"HerkunftLang\": \"Ausl\\u00e4nder/in\", \"sum_WBev\": 7}, {\"GueltigAbDat\": \"2021-04-26T00:00:00\", \"GueltigAbDatJahr\": 2021, \"GueltigAbDatMM\": 4, \"HerkunftLang\": \"Ausl\\u00e4nder/in\", \"sum_WBev\": 7}, {\"GueltigAbDat\": \"2022-03-29T00:00:00\", \"GueltigAbDatJahr\": 2022, \"GueltigAbDatMM\": 3, \"HerkunftLang\": \"Schweizer/in\", \"sum_WBev\": 7}, {\"GueltigAbDat\": \"2022-02-21T00:00:00\", \"GueltigAbDatJahr\": 2022, \"GueltigAbDatMM\": 2, \"HerkunftLang\": \"Schweizer/in\", \"sum_WBev\": 7}, {\"GueltigAbDat\": \"2021-04-24T00:00:00\", \"GueltigAbDatJahr\": 2021, \"GueltigAbDatMM\": 4, \"HerkunftLang\": \"Schweizer/in\", \"sum_WBev\": 7}, {\"GueltigAbDat\": \"2021-10-21T00:00:00\", \"GueltigAbDatJahr\": 2021, \"GueltigAbDatMM\": 10, \"HerkunftLang\": \"Schweizer/in\", \"sum_WBev\": 7}, {\"GueltigAbDat\": \"2021-10-23T00:00:00\", \"GueltigAbDatJahr\": 2021, \"GueltigAbDatMM\": 10, \"HerkunftLang\": \"Schweizer/in\", \"sum_WBev\": 7}, {\"GueltigAbDat\": \"2020-12-01T00:00:00\", \"GueltigAbDatJahr\": 2020, \"GueltigAbDatMM\": 12, \"HerkunftLang\": \"Schweizer/in\", \"sum_WBev\": 7}, {\"GueltigAbDat\": \"2021-04-20T00:00:00\", \"GueltigAbDatJahr\": 2021, \"GueltigAbDatMM\": 4, \"HerkunftLang\": \"Schweizer/in\", \"sum_WBev\": 7}, {\"GueltigAbDat\": \"2021-11-27T00:00:00\", \"GueltigAbDatJahr\": 2021, \"GueltigAbDatMM\": 11, \"HerkunftLang\": \"Ausl\\u00e4nder/in\", \"sum_WBev\": 7}, {\"GueltigAbDat\": \"2022-01-12T00:00:00\", \"GueltigAbDatJahr\": 2022, \"GueltigAbDatMM\": 1, \"HerkunftLang\": \"Schweizer/in\", \"sum_WBev\": 7}, {\"GueltigAbDat\": \"2022-02-24T00:00:00\", \"GueltigAbDatJahr\": 2022, \"GueltigAbDatMM\": 2, \"HerkunftLang\": \"Schweizer/in\", \"sum_WBev\": 7}, {\"GueltigAbDat\": \"2021-01-24T00:00:00\", \"GueltigAbDatJahr\": 2021, \"GueltigAbDatMM\": 1, \"HerkunftLang\": \"Schweizer/in\", \"sum_WBev\": 7}, {\"GueltigAbDat\": \"2021-03-02T00:00:00\", \"GueltigAbDatJahr\": 2021, \"GueltigAbDatMM\": 3, \"HerkunftLang\": \"Schweizer/in\", \"sum_WBev\": 7}, {\"GueltigAbDat\": \"2021-05-29T00:00:00\", \"GueltigAbDatJahr\": 2021, \"GueltigAbDatMM\": 5, \"HerkunftLang\": \"Schweizer/in\", \"sum_WBev\": 7}, {\"GueltigAbDat\": \"2022-02-27T00:00:00\", \"GueltigAbDatJahr\": 2022, \"GueltigAbDatMM\": 2, \"HerkunftLang\": \"Schweizer/in\", \"sum_WBev\": 7}, {\"GueltigAbDat\": \"2020-12-19T00:00:00\", \"GueltigAbDatJahr\": 2020, \"GueltigAbDatMM\": 12, \"HerkunftLang\": \"Ausl\\u00e4nder/in\", \"sum_WBev\": 7}, {\"GueltigAbDat\": \"2021-06-13T00:00:00\", \"GueltigAbDatJahr\": 2021, \"GueltigAbDatMM\": 6, \"HerkunftLang\": \"Schweizer/in\", \"sum_WBev\": 7}, {\"GueltigAbDat\": \"2022-03-21T00:00:00\", \"GueltigAbDatJahr\": 2022, \"GueltigAbDatMM\": 3, \"HerkunftLang\": \"Schweizer/in\", \"sum_WBev\": 7}, {\"GueltigAbDat\": \"2020-12-25T00:00:00\", \"GueltigAbDatJahr\": 2020, \"GueltigAbDatMM\": 12, \"HerkunftLang\": \"Schweizer/in\", \"sum_WBev\": 7}, {\"GueltigAbDat\": \"2021-08-01T00:00:00\", \"GueltigAbDatJahr\": 2021, \"GueltigAbDatMM\": 8, \"HerkunftLang\": \"Schweizer/in\", \"sum_WBev\": 7}, {\"GueltigAbDat\": \"2021-03-07T00:00:00\", \"GueltigAbDatJahr\": 2021, \"GueltigAbDatMM\": 3, \"HerkunftLang\": \"Schweizer/in\", \"sum_WBev\": 7}, {\"GueltigAbDat\": \"2021-01-19T00:00:00\", \"GueltigAbDatJahr\": 2021, \"GueltigAbDatMM\": 1, \"HerkunftLang\": \"Schweizer/in\", \"sum_WBev\": 7}, {\"GueltigAbDat\": \"2022-02-10T00:00:00\", \"GueltigAbDatJahr\": 2022, \"GueltigAbDatMM\": 2, \"HerkunftLang\": \"Schweizer/in\", \"sum_WBev\": 7}, {\"GueltigAbDat\": \"2021-05-30T00:00:00\", \"GueltigAbDatJahr\": 2021, \"GueltigAbDatMM\": 5, \"HerkunftLang\": \"Ausl\\u00e4nder/in\", \"sum_WBev\": 7}, {\"GueltigAbDat\": \"2020-12-20T00:00:00\", \"GueltigAbDatJahr\": 2020, \"GueltigAbDatMM\": 12, \"HerkunftLang\": \"Schweizer/in\", \"sum_WBev\": 7}, {\"GueltigAbDat\": \"2020-12-12T00:00:00\", \"GueltigAbDatJahr\": 2020, \"GueltigAbDatMM\": 12, \"HerkunftLang\": \"Schweizer/in\", \"sum_WBev\": 7}, {\"GueltigAbDat\": \"2021-01-29T00:00:00\", \"GueltigAbDatJahr\": 2021, \"GueltigAbDatMM\": 1, \"HerkunftLang\": \"Ausl\\u00e4nder/in\", \"sum_WBev\": 7}, {\"GueltigAbDat\": \"2022-01-17T00:00:00\", \"GueltigAbDatJahr\": 2022, \"GueltigAbDatMM\": 1, \"HerkunftLang\": \"Schweizer/in\", \"sum_WBev\": 7}, {\"GueltigAbDat\": \"2021-09-30T00:00:00\", \"GueltigAbDatJahr\": 2021, \"GueltigAbDatMM\": 9, \"HerkunftLang\": \"Ausl\\u00e4nder/in\", \"sum_WBev\": 7}, {\"GueltigAbDat\": \"2021-12-22T00:00:00\", \"GueltigAbDatJahr\": 2021, \"GueltigAbDatMM\": 12, \"HerkunftLang\": \"Schweizer/in\", \"sum_WBev\": 7}, {\"GueltigAbDat\": \"2021-03-22T00:00:00\", \"GueltigAbDatJahr\": 2021, \"GueltigAbDatMM\": 3, \"HerkunftLang\": \"Schweizer/in\", \"sum_WBev\": 7}, {\"GueltigAbDat\": \"2021-12-15T00:00:00\", \"GueltigAbDatJahr\": 2021, \"GueltigAbDatMM\": 12, \"HerkunftLang\": \"Schweizer/in\", \"sum_WBev\": 7}, {\"GueltigAbDat\": \"2021-05-19T00:00:00\", \"GueltigAbDatJahr\": 2021, \"GueltigAbDatMM\": 5, \"HerkunftLang\": \"Ausl\\u00e4nder/in\", \"sum_WBev\": 7}, {\"GueltigAbDat\": \"2021-05-18T00:00:00\", \"GueltigAbDatJahr\": 2021, \"GueltigAbDatMM\": 5, \"HerkunftLang\": \"Schweizer/in\", \"sum_WBev\": 7}, {\"GueltigAbDat\": \"2022-03-01T00:00:00\", \"GueltigAbDatJahr\": 2022, \"GueltigAbDatMM\": 3, \"HerkunftLang\": \"Schweizer/in\", \"sum_WBev\": 7}, {\"GueltigAbDat\": \"2021-10-08T00:00:00\", \"GueltigAbDatJahr\": 2021, \"GueltigAbDatMM\": 10, \"HerkunftLang\": \"Schweizer/in\", \"sum_WBev\": 7}, {\"GueltigAbDat\": \"2021-01-16T00:00:00\", \"GueltigAbDatJahr\": 2021, \"GueltigAbDatMM\": 1, \"HerkunftLang\": \"Ausl\\u00e4nder/in\", \"sum_WBev\": 6}, {\"GueltigAbDat\": \"2021-08-09T00:00:00\", \"GueltigAbDatJahr\": 2021, \"GueltigAbDatMM\": 8, \"HerkunftLang\": \"Schweizer/in\", \"sum_WBev\": 6}, {\"GueltigAbDat\": \"2021-01-22T00:00:00\", \"GueltigAbDatJahr\": 2021, \"GueltigAbDatMM\": 1, \"HerkunftLang\": \"Ausl\\u00e4nder/in\", \"sum_WBev\": 6}, {\"GueltigAbDat\": \"2021-08-04T00:00:00\", \"GueltigAbDatJahr\": 2021, \"GueltigAbDatMM\": 8, \"HerkunftLang\": \"Schweizer/in\", \"sum_WBev\": 6}, {\"GueltigAbDat\": \"2021-11-09T00:00:00\", \"GueltigAbDatJahr\": 2021, \"GueltigAbDatMM\": 11, \"HerkunftLang\": \"Ausl\\u00e4nder/in\", \"sum_WBev\": 6}, {\"GueltigAbDat\": \"2021-08-07T00:00:00\", \"GueltigAbDatJahr\": 2021, \"GueltigAbDatMM\": 8, \"HerkunftLang\": \"Ausl\\u00e4nder/in\", \"sum_WBev\": 6}, {\"GueltigAbDat\": \"2021-12-14T00:00:00\", \"GueltigAbDatJahr\": 2021, \"GueltigAbDatMM\": 12, \"HerkunftLang\": \"Ausl\\u00e4nder/in\", \"sum_WBev\": 6}, {\"GueltigAbDat\": \"2021-12-16T00:00:00\", \"GueltigAbDatJahr\": 2021, \"GueltigAbDatMM\": 12, \"HerkunftLang\": \"Schweizer/in\", \"sum_WBev\": 6}, {\"GueltigAbDat\": \"2021-08-17T00:00:00\", \"GueltigAbDatJahr\": 2021, \"GueltigAbDatMM\": 8, \"HerkunftLang\": \"Ausl\\u00e4nder/in\", \"sum_WBev\": 6}, {\"GueltigAbDat\": \"2021-10-31T00:00:00\", \"GueltigAbDatJahr\": 2021, \"GueltigAbDatMM\": 10, \"HerkunftLang\": \"Ausl\\u00e4nder/in\", \"sum_WBev\": 6}, {\"GueltigAbDat\": \"2021-10-30T00:00:00\", \"GueltigAbDatJahr\": 2021, \"GueltigAbDatMM\": 10, \"HerkunftLang\": \"Schweizer/in\", \"sum_WBev\": 6}, {\"GueltigAbDat\": \"2021-12-29T00:00:00\", \"GueltigAbDatJahr\": 2021, \"GueltigAbDatMM\": 12, \"HerkunftLang\": \"Ausl\\u00e4nder/in\", \"sum_WBev\": 6}, {\"GueltigAbDat\": \"2021-10-06T00:00:00\", \"GueltigAbDatJahr\": 2021, \"GueltigAbDatMM\": 10, \"HerkunftLang\": \"Ausl\\u00e4nder/in\", \"sum_WBev\": 6}, {\"GueltigAbDat\": \"2021-10-07T00:00:00\", \"GueltigAbDatJahr\": 2021, \"GueltigAbDatMM\": 10, \"HerkunftLang\": \"Schweizer/in\", \"sum_WBev\": 6}, {\"GueltigAbDat\": \"2022-01-16T00:00:00\", \"GueltigAbDatJahr\": 2022, \"GueltigAbDatMM\": 1, \"HerkunftLang\": \"Ausl\\u00e4nder/in\", \"sum_WBev\": 6}, {\"GueltigAbDat\": \"2021-10-11T00:00:00\", \"GueltigAbDatJahr\": 2021, \"GueltigAbDatMM\": 10, \"HerkunftLang\": \"Ausl\\u00e4nder/in\", \"sum_WBev\": 6}, {\"GueltigAbDat\": \"2021-10-13T00:00:00\", \"GueltigAbDatJahr\": 2021, \"GueltigAbDatMM\": 10, \"HerkunftLang\": \"Ausl\\u00e4nder/in\", \"sum_WBev\": 6}, {\"GueltigAbDat\": \"2021-10-14T00:00:00\", \"GueltigAbDatJahr\": 2021, \"GueltigAbDatMM\": 10, \"HerkunftLang\": \"Ausl\\u00e4nder/in\", \"sum_WBev\": 6}, {\"GueltigAbDat\": \"2021-10-19T00:00:00\", \"GueltigAbDatJahr\": 2021, \"GueltigAbDatMM\": 10, \"HerkunftLang\": \"Ausl\\u00e4nder/in\", \"sum_WBev\": 6}, {\"GueltigAbDat\": \"2020-12-04T00:00:00\", \"GueltigAbDatJahr\": 2020, \"GueltigAbDatMM\": 12, \"HerkunftLang\": \"Schweizer/in\", \"sum_WBev\": 6}, {\"GueltigAbDat\": \"2021-10-21T00:00:00\", \"GueltigAbDatJahr\": 2021, \"GueltigAbDatMM\": 10, \"HerkunftLang\": \"Ausl\\u00e4nder/in\", \"sum_WBev\": 6}, {\"GueltigAbDat\": \"2021-10-22T00:00:00\", \"GueltigAbDatJahr\": 2021, \"GueltigAbDatMM\": 10, \"HerkunftLang\": \"Schweizer/in\", \"sum_WBev\": 6}, {\"GueltigAbDat\": \"2022-01-14T00:00:00\", \"GueltigAbDatJahr\": 2022, \"GueltigAbDatMM\": 1, \"HerkunftLang\": \"Ausl\\u00e4nder/in\", \"sum_WBev\": 6}, {\"GueltigAbDat\": \"2020-12-03T00:00:00\", \"GueltigAbDatJahr\": 2020, \"GueltigAbDatMM\": 12, \"HerkunftLang\": \"Ausl\\u00e4nder/in\", \"sum_WBev\": 6}, {\"GueltigAbDat\": \"2020-12-18T00:00:00\", \"GueltigAbDatJahr\": 2020, \"GueltigAbDatMM\": 12, \"HerkunftLang\": \"Ausl\\u00e4nder/in\", \"sum_WBev\": 6}, {\"GueltigAbDat\": \"2020-12-20T00:00:00\", \"GueltigAbDatJahr\": 2020, \"GueltigAbDatMM\": 12, \"HerkunftLang\": \"Ausl\\u00e4nder/in\", \"sum_WBev\": 6}, {\"GueltigAbDat\": \"2021-09-25T00:00:00\", \"GueltigAbDatJahr\": 2021, \"GueltigAbDatMM\": 9, \"HerkunftLang\": \"Schweizer/in\", \"sum_WBev\": 6}, {\"GueltigAbDat\": \"2022-01-24T00:00:00\", \"GueltigAbDatJahr\": 2022, \"GueltigAbDatMM\": 1, \"HerkunftLang\": \"Schweizer/in\", \"sum_WBev\": 6}, {\"GueltigAbDat\": \"2021-11-07T00:00:00\", \"GueltigAbDatJahr\": 2021, \"GueltigAbDatMM\": 11, \"HerkunftLang\": \"Schweizer/in\", \"sum_WBev\": 6}, {\"GueltigAbDat\": \"2021-01-12T00:00:00\", \"GueltigAbDatJahr\": 2021, \"GueltigAbDatMM\": 1, \"HerkunftLang\": \"Ausl\\u00e4nder/in\", \"sum_WBev\": 6}, {\"GueltigAbDat\": \"2021-12-31T00:00:00\", \"GueltigAbDatJahr\": 2021, \"GueltigAbDatMM\": 12, \"HerkunftLang\": \"Ausl\\u00e4nder/in\", \"sum_WBev\": 6}, {\"GueltigAbDat\": \"2021-01-10T00:00:00\", \"GueltigAbDatJahr\": 2021, \"GueltigAbDatMM\": 1, \"HerkunftLang\": \"Ausl\\u00e4nder/in\", \"sum_WBev\": 6}, {\"GueltigAbDat\": \"2021-08-25T00:00:00\", \"GueltigAbDatJahr\": 2021, \"GueltigAbDatMM\": 8, \"HerkunftLang\": \"Ausl\\u00e4nder/in\", \"sum_WBev\": 6}, {\"GueltigAbDat\": \"2021-01-08T00:00:00\", \"GueltigAbDatJahr\": 2021, \"GueltigAbDatMM\": 1, \"HerkunftLang\": \"Ausl\\u00e4nder/in\", \"sum_WBev\": 6}, {\"GueltigAbDat\": \"2021-01-05T00:00:00\", \"GueltigAbDatJahr\": 2021, \"GueltigAbDatMM\": 1, \"HerkunftLang\": \"Ausl\\u00e4nder/in\", \"sum_WBev\": 6}, {\"GueltigAbDat\": \"2021-09-24T00:00:00\", \"GueltigAbDatJahr\": 2021, \"GueltigAbDatMM\": 9, \"HerkunftLang\": \"Ausl\\u00e4nder/in\", \"sum_WBev\": 6}, {\"GueltigAbDat\": \"2021-01-04T00:00:00\", \"GueltigAbDatJahr\": 2021, \"GueltigAbDatMM\": 1, \"HerkunftLang\": \"Ausl\\u00e4nder/in\", \"sum_WBev\": 6}, {\"GueltigAbDat\": \"2021-09-05T00:00:00\", \"GueltigAbDatJahr\": 2021, \"GueltigAbDatMM\": 9, \"HerkunftLang\": \"Schweizer/in\", \"sum_WBev\": 6}, {\"GueltigAbDat\": \"2021-11-04T00:00:00\", \"GueltigAbDatJahr\": 2021, \"GueltigAbDatMM\": 11, \"HerkunftLang\": \"Ausl\\u00e4nder/in\", \"sum_WBev\": 6}, {\"GueltigAbDat\": \"2022-03-22T00:00:00\", \"GueltigAbDatJahr\": 2022, \"GueltigAbDatMM\": 3, \"HerkunftLang\": \"Schweizer/in\", \"sum_WBev\": 6}, {\"GueltigAbDat\": \"2021-09-18T00:00:00\", \"GueltigAbDatJahr\": 2021, \"GueltigAbDatMM\": 9, \"HerkunftLang\": \"Schweizer/in\", \"sum_WBev\": 6}, {\"GueltigAbDat\": \"2021-09-19T00:00:00\", \"GueltigAbDatJahr\": 2021, \"GueltigAbDatMM\": 9, \"HerkunftLang\": \"Ausl\\u00e4nder/in\", \"sum_WBev\": 6}, {\"GueltigAbDat\": \"2021-08-02T00:00:00\", \"GueltigAbDatJahr\": 2021, \"GueltigAbDatMM\": 8, \"HerkunftLang\": \"Ausl\\u00e4nder/in\", \"sum_WBev\": 6}, {\"GueltigAbDat\": \"2020-12-01T00:00:00\", \"GueltigAbDatJahr\": 2020, \"GueltigAbDatMM\": 12, \"HerkunftLang\": \"Ausl\\u00e4nder/in\", \"sum_WBev\": 6}, {\"GueltigAbDat\": \"2021-06-04T00:00:00\", \"GueltigAbDatJahr\": 2021, \"GueltigAbDatMM\": 6, \"HerkunftLang\": \"Ausl\\u00e4nder/in\", \"sum_WBev\": 6}, {\"GueltigAbDat\": \"2022-01-07T00:00:00\", \"GueltigAbDatJahr\": 2022, \"GueltigAbDatMM\": 1, \"HerkunftLang\": \"Ausl\\u00e4nder/in\", \"sum_WBev\": 6}, {\"GueltigAbDat\": \"2021-02-10T00:00:00\", \"GueltigAbDatJahr\": 2021, \"GueltigAbDatMM\": 2, \"HerkunftLang\": \"Ausl\\u00e4nder/in\", \"sum_WBev\": 6}, {\"GueltigAbDat\": \"2022-01-01T00:00:00\", \"GueltigAbDatJahr\": 2022, \"GueltigAbDatMM\": 1, \"HerkunftLang\": \"Schweizer/in\", \"sum_WBev\": 6}, {\"GueltigAbDat\": \"2021-03-21T00:00:00\", \"GueltigAbDatJahr\": 2021, \"GueltigAbDatMM\": 3, \"HerkunftLang\": \"Schweizer/in\", \"sum_WBev\": 6}, {\"GueltigAbDat\": \"2021-07-05T00:00:00\", \"GueltigAbDatJahr\": 2021, \"GueltigAbDatMM\": 7, \"HerkunftLang\": \"Ausl\\u00e4nder/in\", \"sum_WBev\": 6}, {\"GueltigAbDat\": \"2021-11-30T00:00:00\", \"GueltigAbDatJahr\": 2021, \"GueltigAbDatMM\": 11, \"HerkunftLang\": \"Ausl\\u00e4nder/in\", \"sum_WBev\": 6}, {\"GueltigAbDat\": \"2021-02-16T00:00:00\", \"GueltigAbDatJahr\": 2021, \"GueltigAbDatMM\": 2, \"HerkunftLang\": \"Ausl\\u00e4nder/in\", \"sum_WBev\": 6}, {\"GueltigAbDat\": \"2021-07-04T00:00:00\", \"GueltigAbDatJahr\": 2021, \"GueltigAbDatMM\": 7, \"HerkunftLang\": \"Ausl\\u00e4nder/in\", \"sum_WBev\": 6}, {\"GueltigAbDat\": \"2021-04-03T00:00:00\", \"GueltigAbDatJahr\": 2021, \"GueltigAbDatMM\": 4, \"HerkunftLang\": \"Schweizer/in\", \"sum_WBev\": 6}, {\"GueltigAbDat\": \"2021-05-08T00:00:00\", \"GueltigAbDatJahr\": 2021, \"GueltigAbDatMM\": 5, \"HerkunftLang\": \"Schweizer/in\", \"sum_WBev\": 6}, {\"GueltigAbDat\": \"2022-02-27T00:00:00\", \"GueltigAbDatJahr\": 2022, \"GueltigAbDatMM\": 2, \"HerkunftLang\": \"Ausl\\u00e4nder/in\", \"sum_WBev\": 6}, {\"GueltigAbDat\": \"2021-06-15T00:00:00\", \"GueltigAbDatJahr\": 2021, \"GueltigAbDatMM\": 6, \"HerkunftLang\": \"Ausl\\u00e4nder/in\", \"sum_WBev\": 6}, {\"GueltigAbDat\": \"2021-06-29T00:00:00\", \"GueltigAbDatJahr\": 2021, \"GueltigAbDatMM\": 6, \"HerkunftLang\": \"Ausl\\u00e4nder/in\", \"sum_WBev\": 6}, {\"GueltigAbDat\": \"2021-05-10T00:00:00\", \"GueltigAbDatJahr\": 2021, \"GueltigAbDatMM\": 5, \"HerkunftLang\": \"Ausl\\u00e4nder/in\", \"sum_WBev\": 6}, {\"GueltigAbDat\": \"2021-05-11T00:00:00\", \"GueltigAbDatJahr\": 2021, \"GueltigAbDatMM\": 5, \"HerkunftLang\": \"Ausl\\u00e4nder/in\", \"sum_WBev\": 6}, {\"GueltigAbDat\": \"2022-03-06T00:00:00\", \"GueltigAbDatJahr\": 2022, \"GueltigAbDatMM\": 3, \"HerkunftLang\": \"Schweizer/in\", \"sum_WBev\": 6}, {\"GueltigAbDat\": \"2022-02-12T00:00:00\", \"GueltigAbDatJahr\": 2022, \"GueltigAbDatMM\": 2, \"HerkunftLang\": \"Ausl\\u00e4nder/in\", \"sum_WBev\": 6}, {\"GueltigAbDat\": \"2021-03-29T00:00:00\", \"GueltigAbDatJahr\": 2021, \"GueltigAbDatMM\": 3, \"HerkunftLang\": \"Schweizer/in\", \"sum_WBev\": 6}, {\"GueltigAbDat\": \"2021-05-15T00:00:00\", \"GueltigAbDatJahr\": 2021, \"GueltigAbDatMM\": 5, \"HerkunftLang\": \"Ausl\\u00e4nder/in\", \"sum_WBev\": 6}, {\"GueltigAbDat\": \"2022-02-08T00:00:00\", \"GueltigAbDatJahr\": 2022, \"GueltigAbDatMM\": 2, \"HerkunftLang\": \"Ausl\\u00e4nder/in\", \"sum_WBev\": 6}, {\"GueltigAbDat\": \"2021-12-02T00:00:00\", \"GueltigAbDatJahr\": 2021, \"GueltigAbDatMM\": 12, \"HerkunftLang\": \"Ausl\\u00e4nder/in\", \"sum_WBev\": 6}, {\"GueltigAbDat\": \"2021-06-17T00:00:00\", \"GueltigAbDatJahr\": 2021, \"GueltigAbDatMM\": 6, \"HerkunftLang\": \"Schweizer/in\", \"sum_WBev\": 6}, {\"GueltigAbDat\": \"2021-12-02T00:00:00\", \"GueltigAbDatJahr\": 2021, \"GueltigAbDatMM\": 12, \"HerkunftLang\": \"Schweizer/in\", \"sum_WBev\": 6}, {\"GueltigAbDat\": \"2021-06-22T00:00:00\", \"GueltigAbDatJahr\": 2021, \"GueltigAbDatMM\": 6, \"HerkunftLang\": \"Ausl\\u00e4nder/in\", \"sum_WBev\": 6}, {\"GueltigAbDat\": \"2022-02-06T00:00:00\", \"GueltigAbDatJahr\": 2022, \"GueltigAbDatMM\": 2, \"HerkunftLang\": \"Schweizer/in\", \"sum_WBev\": 6}, {\"GueltigAbDat\": \"2021-05-20T00:00:00\", \"GueltigAbDatJahr\": 2021, \"GueltigAbDatMM\": 5, \"HerkunftLang\": \"Ausl\\u00e4nder/in\", \"sum_WBev\": 6}, {\"GueltigAbDat\": \"2021-05-01T00:00:00\", \"GueltigAbDatJahr\": 2021, \"GueltigAbDatMM\": 5, \"HerkunftLang\": \"Ausl\\u00e4nder/in\", \"sum_WBev\": 6}, {\"GueltigAbDat\": \"2021-05-04T00:00:00\", \"GueltigAbDatJahr\": 2021, \"GueltigAbDatMM\": 5, \"HerkunftLang\": \"Schweizer/in\", \"sum_WBev\": 6}, {\"GueltigAbDat\": \"2021-02-01T00:00:00\", \"GueltigAbDatJahr\": 2021, \"GueltigAbDatMM\": 2, \"HerkunftLang\": \"Ausl\\u00e4nder/in\", \"sum_WBev\": 6}, {\"GueltigAbDat\": \"2021-11-20T00:00:00\", \"GueltigAbDatJahr\": 2021, \"GueltigAbDatMM\": 11, \"HerkunftLang\": \"Schweizer/in\", \"sum_WBev\": 6}, {\"GueltigAbDat\": \"2021-06-06T00:00:00\", \"GueltigAbDatJahr\": 2021, \"GueltigAbDatMM\": 6, \"HerkunftLang\": \"Schweizer/in\", \"sum_WBev\": 6}, {\"GueltigAbDat\": \"2021-01-27T00:00:00\", \"GueltigAbDatJahr\": 2021, \"GueltigAbDatMM\": 1, \"HerkunftLang\": \"Schweizer/in\", \"sum_WBev\": 6}, {\"GueltigAbDat\": \"2021-04-21T00:00:00\", \"GueltigAbDatJahr\": 2021, \"GueltigAbDatMM\": 4, \"HerkunftLang\": \"Ausl\\u00e4nder/in\", \"sum_WBev\": 6}, {\"GueltigAbDat\": \"2021-06-06T00:00:00\", \"GueltigAbDatJahr\": 2021, \"GueltigAbDatMM\": 6, \"HerkunftLang\": \"Ausl\\u00e4nder/in\", \"sum_WBev\": 6}, {\"GueltigAbDat\": \"2021-11-13T00:00:00\", \"GueltigAbDatJahr\": 2021, \"GueltigAbDatMM\": 11, \"HerkunftLang\": \"Schweizer/in\", \"sum_WBev\": 6}, {\"GueltigAbDat\": \"2021-07-24T00:00:00\", \"GueltigAbDatJahr\": 2021, \"GueltigAbDatMM\": 7, \"HerkunftLang\": \"Ausl\\u00e4nder/in\", \"sum_WBev\": 6}, {\"GueltigAbDat\": \"2021-01-25T00:00:00\", \"GueltigAbDatJahr\": 2021, \"GueltigAbDatMM\": 1, \"HerkunftLang\": \"Ausl\\u00e4nder/in\", \"sum_WBev\": 6}, {\"GueltigAbDat\": \"2021-04-16T00:00:00\", \"GueltigAbDatJahr\": 2021, \"GueltigAbDatMM\": 4, \"HerkunftLang\": \"Schweizer/in\", \"sum_WBev\": 6}, {\"GueltigAbDat\": \"2022-02-23T00:00:00\", \"GueltigAbDatJahr\": 2022, \"GueltigAbDatMM\": 2, \"HerkunftLang\": \"Schweizer/in\", \"sum_WBev\": 6}, {\"GueltigAbDat\": \"2021-01-26T00:00:00\", \"GueltigAbDatJahr\": 2021, \"GueltigAbDatMM\": 1, \"HerkunftLang\": \"Ausl\\u00e4nder/in\", \"sum_WBev\": 6}, {\"GueltigAbDat\": \"2021-04-10T00:00:00\", \"GueltigAbDatJahr\": 2021, \"GueltigAbDatMM\": 4, \"HerkunftLang\": \"Ausl\\u00e4nder/in\", \"sum_WBev\": 6}, {\"GueltigAbDat\": \"2021-07-20T00:00:00\", \"GueltigAbDatJahr\": 2021, \"GueltigAbDatMM\": 7, \"HerkunftLang\": \"Ausl\\u00e4nder/in\", \"sum_WBev\": 6}, {\"GueltigAbDat\": \"2021-04-13T00:00:00\", \"GueltigAbDatJahr\": 2021, \"GueltigAbDatMM\": 4, \"HerkunftLang\": \"Schweizer/in\", \"sum_WBev\": 6}, {\"GueltigAbDat\": \"2021-06-12T00:00:00\", \"GueltigAbDatJahr\": 2021, \"GueltigAbDatMM\": 6, \"HerkunftLang\": \"Schweizer/in\", \"sum_WBev\": 6}, {\"GueltigAbDat\": \"2022-03-13T00:00:00\", \"GueltigAbDatJahr\": 2022, \"GueltigAbDatMM\": 3, \"HerkunftLang\": \"Schweizer/in\", \"sum_WBev\": 6}, {\"GueltigAbDat\": \"2021-02-02T00:00:00\", \"GueltigAbDatJahr\": 2021, \"GueltigAbDatMM\": 2, \"HerkunftLang\": \"Schweizer/in\", \"sum_WBev\": 6}, {\"GueltigAbDat\": \"2021-11-26T00:00:00\", \"GueltigAbDatJahr\": 2021, \"GueltigAbDatMM\": 11, \"HerkunftLang\": \"Ausl\\u00e4nder/in\", \"sum_WBev\": 6}, {\"GueltigAbDat\": \"2021-03-19T00:00:00\", \"GueltigAbDatJahr\": 2021, \"GueltigAbDatMM\": 3, \"HerkunftLang\": \"Ausl\\u00e4nder/in\", \"sum_WBev\": 5}, {\"GueltigAbDat\": \"2021-11-22T00:00:00\", \"GueltigAbDatJahr\": 2021, \"GueltigAbDatMM\": 11, \"HerkunftLang\": \"Ausl\\u00e4nder/in\", \"sum_WBev\": 5}, {\"GueltigAbDat\": \"2022-01-20T00:00:00\", \"GueltigAbDatJahr\": 2022, \"GueltigAbDatMM\": 1, \"HerkunftLang\": \"Ausl\\u00e4nder/in\", \"sum_WBev\": 5}, {\"GueltigAbDat\": \"2021-12-05T00:00:00\", \"GueltigAbDatJahr\": 2021, \"GueltigAbDatMM\": 12, \"HerkunftLang\": \"Schweizer/in\", \"sum_WBev\": 5}, {\"GueltigAbDat\": \"2021-03-21T00:00:00\", \"GueltigAbDatJahr\": 2021, \"GueltigAbDatMM\": 3, \"HerkunftLang\": \"Ausl\\u00e4nder/in\", \"sum_WBev\": 5}, {\"GueltigAbDat\": \"2020-12-22T00:00:00\", \"GueltigAbDatJahr\": 2020, \"GueltigAbDatMM\": 12, \"HerkunftLang\": \"Ausl\\u00e4nder/in\", \"sum_WBev\": 5}, {\"GueltigAbDat\": \"2021-05-29T00:00:00\", \"GueltigAbDatJahr\": 2021, \"GueltigAbDatMM\": 5, \"HerkunftLang\": \"Ausl\\u00e4nder/in\", \"sum_WBev\": 5}, {\"GueltigAbDat\": \"2021-03-18T00:00:00\", \"GueltigAbDatJahr\": 2021, \"GueltigAbDatMM\": 3, \"HerkunftLang\": \"Ausl\\u00e4nder/in\", \"sum_WBev\": 5}, {\"GueltigAbDat\": \"2021-03-11T00:00:00\", \"GueltigAbDatJahr\": 2021, \"GueltigAbDatMM\": 3, \"HerkunftLang\": \"Ausl\\u00e4nder/in\", \"sum_WBev\": 5}, {\"GueltigAbDat\": \"2021-05-28T00:00:00\", \"GueltigAbDatJahr\": 2021, \"GueltigAbDatMM\": 5, \"HerkunftLang\": \"Ausl\\u00e4nder/in\", \"sum_WBev\": 5}, {\"GueltigAbDat\": \"2020-12-21T00:00:00\", \"GueltigAbDatJahr\": 2020, \"GueltigAbDatMM\": 12, \"HerkunftLang\": \"Ausl\\u00e4nder/in\", \"sum_WBev\": 5}, {\"GueltigAbDat\": \"2021-12-22T00:00:00\", \"GueltigAbDatJahr\": 2021, \"GueltigAbDatMM\": 12, \"HerkunftLang\": \"Ausl\\u00e4nder/in\", \"sum_WBev\": 5}, {\"GueltigAbDat\": \"2021-09-22T00:00:00\", \"GueltigAbDatJahr\": 2021, \"GueltigAbDatMM\": 9, \"HerkunftLang\": \"Ausl\\u00e4nder/in\", \"sum_WBev\": 5}, {\"GueltigAbDat\": \"2021-09-25T00:00:00\", \"GueltigAbDatJahr\": 2021, \"GueltigAbDatMM\": 9, \"HerkunftLang\": \"Ausl\\u00e4nder/in\", \"sum_WBev\": 5}, {\"GueltigAbDat\": \"2022-03-23T00:00:00\", \"GueltigAbDatJahr\": 2022, \"GueltigAbDatMM\": 3, \"HerkunftLang\": \"Schweizer/in\", \"sum_WBev\": 5}, {\"GueltigAbDat\": \"2021-03-14T00:00:00\", \"GueltigAbDatJahr\": 2021, \"GueltigAbDatMM\": 3, \"HerkunftLang\": \"Ausl\\u00e4nder/in\", \"sum_WBev\": 5}, {\"GueltigAbDat\": \"2021-03-13T00:00:00\", \"GueltigAbDatJahr\": 2021, \"GueltigAbDatMM\": 3, \"HerkunftLang\": \"Ausl\\u00e4nder/in\", \"sum_WBev\": 5}, {\"GueltigAbDat\": \"2021-10-01T00:00:00\", \"GueltigAbDatJahr\": 2021, \"GueltigAbDatMM\": 10, \"HerkunftLang\": \"Ausl\\u00e4nder/in\", \"sum_WBev\": 5}, {\"GueltigAbDat\": \"2022-01-29T00:00:00\", \"GueltigAbDatJahr\": 2022, \"GueltigAbDatMM\": 1, \"HerkunftLang\": \"Schweizer/in\", \"sum_WBev\": 5}, {\"GueltigAbDat\": \"2021-12-29T00:00:00\", \"GueltigAbDatJahr\": 2021, \"GueltigAbDatMM\": 12, \"HerkunftLang\": \"Schweizer/in\", \"sum_WBev\": 5}, {\"GueltigAbDat\": \"2021-12-03T00:00:00\", \"GueltigAbDatJahr\": 2021, \"GueltigAbDatMM\": 12, \"HerkunftLang\": \"Ausl\\u00e4nder/in\", \"sum_WBev\": 5}, {\"GueltigAbDat\": \"2021-04-18T00:00:00\", \"GueltigAbDatJahr\": 2021, \"GueltigAbDatMM\": 4, \"HerkunftLang\": \"Ausl\\u00e4nder/in\", \"sum_WBev\": 5}, {\"GueltigAbDat\": \"2020-12-04T00:00:00\", \"GueltigAbDatJahr\": 2020, \"GueltigAbDatMM\": 12, \"HerkunftLang\": \"Ausl\\u00e4nder/in\", \"sum_WBev\": 5}, {\"GueltigAbDat\": \"2021-04-20T00:00:00\", \"GueltigAbDatJahr\": 2021, \"GueltigAbDatMM\": 4, \"HerkunftLang\": \"Ausl\\u00e4nder/in\", \"sum_WBev\": 5}, {\"GueltigAbDat\": \"2021-04-13T00:00:00\", \"GueltigAbDatJahr\": 2021, \"GueltigAbDatMM\": 4, \"HerkunftLang\": \"Ausl\\u00e4nder/in\", \"sum_WBev\": 5}, {\"GueltigAbDat\": \"2021-10-23T00:00:00\", \"GueltigAbDatJahr\": 2021, \"GueltigAbDatMM\": 10, \"HerkunftLang\": \"Ausl\\u00e4nder/in\", \"sum_WBev\": 5}, {\"GueltigAbDat\": \"2021-10-22T00:00:00\", \"GueltigAbDatJahr\": 2021, \"GueltigAbDatMM\": 10, \"HerkunftLang\": \"Ausl\\u00e4nder/in\", \"sum_WBev\": 5}, {\"GueltigAbDat\": \"2021-04-11T00:00:00\", \"GueltigAbDatJahr\": 2021, \"GueltigAbDatMM\": 4, \"HerkunftLang\": \"Ausl\\u00e4nder/in\", \"sum_WBev\": 5}, {\"GueltigAbDat\": \"2022-02-22T00:00:00\", \"GueltigAbDatJahr\": 2022, \"GueltigAbDatMM\": 2, \"HerkunftLang\": \"Schweizer/in\", \"sum_WBev\": 5}, {\"GueltigAbDat\": \"2021-04-09T00:00:00\", \"GueltigAbDatJahr\": 2021, \"GueltigAbDatMM\": 4, \"HerkunftLang\": \"Ausl\\u00e4nder/in\", \"sum_WBev\": 5}, {\"GueltigAbDat\": \"2021-04-27T00:00:00\", \"GueltigAbDatJahr\": 2021, \"GueltigAbDatMM\": 4, \"HerkunftLang\": \"Ausl\\u00e4nder/in\", \"sum_WBev\": 5}, {\"GueltigAbDat\": \"2022-03-29T00:00:00\", \"GueltigAbDatJahr\": 2022, \"GueltigAbDatMM\": 3, \"HerkunftLang\": \"Ausl\\u00e4nder/in\", \"sum_WBev\": 5}, {\"GueltigAbDat\": \"2021-05-03T00:00:00\", \"GueltigAbDatJahr\": 2021, \"GueltigAbDatMM\": 5, \"HerkunftLang\": \"Schweizer/in\", \"sum_WBev\": 5}, {\"GueltigAbDat\": \"2021-12-26T00:00:00\", \"GueltigAbDatJahr\": 2021, \"GueltigAbDatMM\": 12, \"HerkunftLang\": \"Ausl\\u00e4nder/in\", \"sum_WBev\": 5}, {\"GueltigAbDat\": \"2021-12-25T00:00:00\", \"GueltigAbDatJahr\": 2021, \"GueltigAbDatMM\": 12, \"HerkunftLang\": \"Schweizer/in\", \"sum_WBev\": 5}, {\"GueltigAbDat\": \"2020-12-11T00:00:00\", \"GueltigAbDatJahr\": 2020, \"GueltigAbDatMM\": 12, \"HerkunftLang\": \"Ausl\\u00e4nder/in\", \"sum_WBev\": 5}, {\"GueltigAbDat\": \"2022-01-05T00:00:00\", \"GueltigAbDatJahr\": 2022, \"GueltigAbDatMM\": 1, \"HerkunftLang\": \"Ausl\\u00e4nder/in\", \"sum_WBev\": 5}, {\"GueltigAbDat\": \"2020-12-12T00:00:00\", \"GueltigAbDatJahr\": 2020, \"GueltigAbDatMM\": 12, \"HerkunftLang\": \"Ausl\\u00e4nder/in\", \"sum_WBev\": 5}, {\"GueltigAbDat\": \"2021-10-10T00:00:00\", \"GueltigAbDatJahr\": 2021, \"GueltigAbDatMM\": 10, \"HerkunftLang\": \"Ausl\\u00e4nder/in\", \"sum_WBev\": 5}, {\"GueltigAbDat\": \"2022-02-15T00:00:00\", \"GueltigAbDatJahr\": 2022, \"GueltigAbDatMM\": 2, \"HerkunftLang\": \"Schweizer/in\", \"sum_WBev\": 5}, {\"GueltigAbDat\": \"2021-10-09T00:00:00\", \"GueltigAbDatJahr\": 2021, \"GueltigAbDatMM\": 10, \"HerkunftLang\": \"Ausl\\u00e4nder/in\", \"sum_WBev\": 5}, {\"GueltigAbDat\": \"2021-12-24T00:00:00\", \"GueltigAbDatJahr\": 2021, \"GueltigAbDatMM\": 12, \"HerkunftLang\": \"Schweizer/in\", \"sum_WBev\": 5}, {\"GueltigAbDat\": \"2020-12-13T00:00:00\", \"GueltigAbDatJahr\": 2020, \"GueltigAbDatMM\": 12, \"HerkunftLang\": \"Schweizer/in\", \"sum_WBev\": 5}, {\"GueltigAbDat\": \"2022-02-15T00:00:00\", \"GueltigAbDatJahr\": 2022, \"GueltigAbDatMM\": 2, \"HerkunftLang\": \"Ausl\\u00e4nder/in\", \"sum_WBev\": 5}, {\"GueltigAbDat\": \"2021-05-17T00:00:00\", \"GueltigAbDatJahr\": 2021, \"GueltigAbDatMM\": 5, \"HerkunftLang\": \"Ausl\\u00e4nder/in\", \"sum_WBev\": 5}, {\"GueltigAbDat\": \"2021-03-24T00:00:00\", \"GueltigAbDatJahr\": 2021, \"GueltigAbDatMM\": 3, \"HerkunftLang\": \"Ausl\\u00e4nder/in\", \"sum_WBev\": 5}, {\"GueltigAbDat\": \"2021-04-01T00:00:00\", \"GueltigAbDatJahr\": 2021, \"GueltigAbDatMM\": 4, \"HerkunftLang\": \"Ausl\\u00e4nder/in\", \"sum_WBev\": 5}, {\"GueltigAbDat\": \"2021-06-12T00:00:00\", \"GueltigAbDatJahr\": 2021, \"GueltigAbDatMM\": 6, \"HerkunftLang\": \"Ausl\\u00e4nder/in\", \"sum_WBev\": 5}, {\"GueltigAbDat\": \"2021-11-28T00:00:00\", \"GueltigAbDatJahr\": 2021, \"GueltigAbDatMM\": 11, \"HerkunftLang\": \"Ausl\\u00e4nder/in\", \"sum_WBev\": 5}, {\"GueltigAbDat\": \"2021-02-21T00:00:00\", \"GueltigAbDatJahr\": 2021, \"GueltigAbDatMM\": 2, \"HerkunftLang\": \"Schweizer/in\", \"sum_WBev\": 5}, {\"GueltigAbDat\": \"2021-08-31T00:00:00\", \"GueltigAbDatJahr\": 2021, \"GueltigAbDatMM\": 8, \"HerkunftLang\": \"Ausl\\u00e4nder/in\", \"sum_WBev\": 5}, {\"GueltigAbDat\": \"2021-01-06T00:00:00\", \"GueltigAbDatJahr\": 2021, \"GueltigAbDatMM\": 1, \"HerkunftLang\": \"Ausl\\u00e4nder/in\", \"sum_WBev\": 5}, {\"GueltigAbDat\": \"2021-02-25T00:00:00\", \"GueltigAbDatJahr\": 2021, \"GueltigAbDatMM\": 2, \"HerkunftLang\": \"Ausl\\u00e4nder/in\", \"sum_WBev\": 5}, {\"GueltigAbDat\": \"2021-06-24T00:00:00\", \"GueltigAbDatJahr\": 2021, \"GueltigAbDatMM\": 6, \"HerkunftLang\": \"Schweizer/in\", \"sum_WBev\": 5}, {\"GueltigAbDat\": \"2021-06-25T00:00:00\", \"GueltigAbDatJahr\": 2021, \"GueltigAbDatMM\": 6, \"HerkunftLang\": \"Ausl\\u00e4nder/in\", \"sum_WBev\": 5}, {\"GueltigAbDat\": \"2021-01-07T00:00:00\", \"GueltigAbDatJahr\": 2021, \"GueltigAbDatMM\": 1, \"HerkunftLang\": \"Ausl\\u00e4nder/in\", \"sum_WBev\": 5}, {\"GueltigAbDat\": \"2022-01-20T00:00:00\", \"GueltigAbDatJahr\": 2022, \"GueltigAbDatMM\": 1, \"HerkunftLang\": \"Schweizer/in\", \"sum_WBev\": 5}, {\"GueltigAbDat\": \"2021-08-28T00:00:00\", \"GueltigAbDatJahr\": 2021, \"GueltigAbDatMM\": 8, \"HerkunftLang\": \"Ausl\\u00e4nder/in\", \"sum_WBev\": 5}, {\"GueltigAbDat\": \"2021-02-23T00:00:00\", \"GueltigAbDatJahr\": 2021, \"GueltigAbDatMM\": 2, \"HerkunftLang\": \"Ausl\\u00e4nder/in\", \"sum_WBev\": 5}, {\"GueltigAbDat\": \"2021-08-27T00:00:00\", \"GueltigAbDatJahr\": 2021, \"GueltigAbDatMM\": 8, \"HerkunftLang\": \"Ausl\\u00e4nder/in\", \"sum_WBev\": 5}, {\"GueltigAbDat\": \"2021-01-09T00:00:00\", \"GueltigAbDatJahr\": 2021, \"GueltigAbDatMM\": 1, \"HerkunftLang\": \"Ausl\\u00e4nder/in\", \"sum_WBev\": 5}, {\"GueltigAbDat\": \"2022-01-25T00:00:00\", \"GueltigAbDatJahr\": 2022, \"GueltigAbDatMM\": 1, \"HerkunftLang\": \"Schweizer/in\", \"sum_WBev\": 5}, {\"GueltigAbDat\": \"2021-08-09T00:00:00\", \"GueltigAbDatJahr\": 2021, \"GueltigAbDatMM\": 8, \"HerkunftLang\": \"Ausl\\u00e4nder/in\", \"sum_WBev\": 5}, {\"GueltigAbDat\": \"2022-01-24T00:00:00\", \"GueltigAbDatJahr\": 2022, \"GueltigAbDatMM\": 1, \"HerkunftLang\": \"Ausl\\u00e4nder/in\", \"sum_WBev\": 5}, {\"GueltigAbDat\": \"2021-02-18T00:00:00\", \"GueltigAbDatJahr\": 2021, \"GueltigAbDatMM\": 2, \"HerkunftLang\": \"Ausl\\u00e4nder/in\", \"sum_WBev\": 5}, {\"GueltigAbDat\": \"2021-01-10T00:00:00\", \"GueltigAbDatJahr\": 2021, \"GueltigAbDatMM\": 1, \"HerkunftLang\": \"Schweizer/in\", \"sum_WBev\": 5}, {\"GueltigAbDat\": \"2021-07-22T00:00:00\", \"GueltigAbDatJahr\": 2021, \"GueltigAbDatMM\": 7, \"HerkunftLang\": \"Ausl\\u00e4nder/in\", \"sum_WBev\": 5}, {\"GueltigAbDat\": \"2021-07-03T00:00:00\", \"GueltigAbDatJahr\": 2021, \"GueltigAbDatMM\": 7, \"HerkunftLang\": \"Schweizer/in\", \"sum_WBev\": 5}, {\"GueltigAbDat\": \"2021-08-21T00:00:00\", \"GueltigAbDatJahr\": 2021, \"GueltigAbDatMM\": 8, \"HerkunftLang\": \"Schweizer/in\", \"sum_WBev\": 5}, {\"GueltigAbDat\": \"2021-01-13T00:00:00\", \"GueltigAbDatJahr\": 2021, \"GueltigAbDatMM\": 1, \"HerkunftLang\": \"Ausl\\u00e4nder/in\", \"sum_WBev\": 5}, {\"GueltigAbDat\": \"2021-07-06T00:00:00\", \"GueltigAbDatJahr\": 2021, \"GueltigAbDatMM\": 7, \"HerkunftLang\": \"Ausl\\u00e4nder/in\", \"sum_WBev\": 5}, {\"GueltigAbDat\": \"2021-02-13T00:00:00\", \"GueltigAbDatJahr\": 2021, \"GueltigAbDatMM\": 2, \"HerkunftLang\": \"Ausl\\u00e4nder/in\", \"sum_WBev\": 5}, {\"GueltigAbDat\": \"2021-11-08T00:00:00\", \"GueltigAbDatJahr\": 2021, \"GueltigAbDatMM\": 11, \"HerkunftLang\": \"Ausl\\u00e4nder/in\", \"sum_WBev\": 5}, {\"GueltigAbDat\": \"2021-01-31T00:00:00\", \"GueltigAbDatJahr\": 2021, \"GueltigAbDatMM\": 1, \"HerkunftLang\": \"Ausl\\u00e4nder/in\", \"sum_WBev\": 5}, {\"GueltigAbDat\": \"2021-07-13T00:00:00\", \"GueltigAbDatJahr\": 2021, \"GueltigAbDatMM\": 7, \"HerkunftLang\": \"Ausl\\u00e4nder/in\", \"sum_WBev\": 5}, {\"GueltigAbDat\": \"2021-02-04T00:00:00\", \"GueltigAbDatJahr\": 2021, \"GueltigAbDatMM\": 2, \"HerkunftLang\": \"Ausl\\u00e4nder/in\", \"sum_WBev\": 5}, {\"GueltigAbDat\": \"2021-02-26T00:00:00\", \"GueltigAbDatJahr\": 2021, \"GueltigAbDatMM\": 2, \"HerkunftLang\": \"Ausl\\u00e4nder/in\", \"sum_WBev\": 5}, {\"GueltigAbDat\": \"2022-01-08T00:00:00\", \"GueltigAbDatJahr\": 2022, \"GueltigAbDatMM\": 1, \"HerkunftLang\": \"Schweizer/in\", \"sum_WBev\": 5}, {\"GueltigAbDat\": \"2021-01-18T00:00:00\", \"GueltigAbDatJahr\": 2021, \"GueltigAbDatMM\": 1, \"HerkunftLang\": \"Ausl\\u00e4nder/in\", \"sum_WBev\": 5}, {\"GueltigAbDat\": \"2022-01-23T00:00:00\", \"GueltigAbDatJahr\": 2022, \"GueltigAbDatMM\": 1, \"HerkunftLang\": \"Ausl\\u00e4nder/in\", \"sum_WBev\": 5}, {\"GueltigAbDat\": \"2021-06-08T00:00:00\", \"GueltigAbDatJahr\": 2021, \"GueltigAbDatMM\": 6, \"HerkunftLang\": \"Ausl\\u00e4nder/in\", \"sum_WBev\": 5}, {\"GueltigAbDat\": \"2022-03-05T00:00:00\", \"GueltigAbDatJahr\": 2022, \"GueltigAbDatMM\": 3, \"HerkunftLang\": \"Schweizer/in\", \"sum_WBev\": 5}, {\"GueltigAbDat\": \"2021-03-04T00:00:00\", \"GueltigAbDatJahr\": 2021, \"GueltigAbDatMM\": 3, \"HerkunftLang\": \"Ausl\\u00e4nder/in\", \"sum_WBev\": 5}, {\"GueltigAbDat\": \"2021-01-24T00:00:00\", \"GueltigAbDatJahr\": 2021, \"GueltigAbDatMM\": 1, \"HerkunftLang\": \"Ausl\\u00e4nder/in\", \"sum_WBev\": 5}, {\"GueltigAbDat\": \"2021-09-14T00:00:00\", \"GueltigAbDatJahr\": 2021, \"GueltigAbDatMM\": 9, \"HerkunftLang\": \"Ausl\\u00e4nder/in\", \"sum_WBev\": 5}, {\"GueltigAbDat\": \"2021-08-03T00:00:00\", \"GueltigAbDatJahr\": 2021, \"GueltigAbDatMM\": 8, \"HerkunftLang\": \"Ausl\\u00e4nder/in\", \"sum_WBev\": 5}, {\"GueltigAbDat\": \"2021-09-12T00:00:00\", \"GueltigAbDatJahr\": 2021, \"GueltigAbDatMM\": 9, \"HerkunftLang\": \"Schweizer/in\", \"sum_WBev\": 5}, {\"GueltigAbDat\": \"2020-12-28T00:00:00\", \"GueltigAbDatJahr\": 2020, \"GueltigAbDatMM\": 12, \"HerkunftLang\": \"Ausl\\u00e4nder/in\", \"sum_WBev\": 5}, {\"GueltigAbDat\": \"2020-12-29T00:00:00\", \"GueltigAbDatJahr\": 2020, \"GueltigAbDatMM\": 12, \"HerkunftLang\": \"Ausl\\u00e4nder/in\", \"sum_WBev\": 5}, {\"GueltigAbDat\": \"2021-07-30T00:00:00\", \"GueltigAbDatJahr\": 2021, \"GueltigAbDatMM\": 7, \"HerkunftLang\": \"Ausl\\u00e4nder/in\", \"sum_WBev\": 5}, {\"GueltigAbDat\": \"2021-06-16T00:00:00\", \"GueltigAbDatJahr\": 2021, \"GueltigAbDatMM\": 6, \"HerkunftLang\": \"Ausl\\u00e4nder/in\", \"sum_WBev\": 5}, {\"GueltigAbDat\": \"2021-08-05T00:00:00\", \"GueltigAbDatJahr\": 2021, \"GueltigAbDatMM\": 8, \"HerkunftLang\": \"Ausl\\u00e4nder/in\", \"sum_WBev\": 5}, {\"GueltigAbDat\": \"2021-09-08T00:00:00\", \"GueltigAbDatJahr\": 2021, \"GueltigAbDatMM\": 9, \"HerkunftLang\": \"Schweizer/in\", \"sum_WBev\": 5}, {\"GueltigAbDat\": \"2021-08-06T00:00:00\", \"GueltigAbDatJahr\": 2021, \"GueltigAbDatMM\": 8, \"HerkunftLang\": \"Ausl\\u00e4nder/in\", \"sum_WBev\": 5}, {\"GueltigAbDat\": \"2021-07-28T00:00:00\", \"GueltigAbDatJahr\": 2021, \"GueltigAbDatMM\": 7, \"HerkunftLang\": \"Ausl\\u00e4nder/in\", \"sum_WBev\": 5}, {\"GueltigAbDat\": \"2021-09-07T00:00:00\", \"GueltigAbDatJahr\": 2021, \"GueltigAbDatMM\": 9, \"HerkunftLang\": \"Schweizer/in\", \"sum_WBev\": 5}, {\"GueltigAbDat\": \"2022-02-07T00:00:00\", \"GueltigAbDatJahr\": 2022, \"GueltigAbDatMM\": 2, \"HerkunftLang\": \"Schweizer/in\", \"sum_WBev\": 5}, {\"GueltigAbDat\": \"2021-06-18T00:00:00\", \"GueltigAbDatJahr\": 2021, \"GueltigAbDatMM\": 6, \"HerkunftLang\": \"Schweizer/in\", \"sum_WBev\": 5}, {\"GueltigAbDat\": \"2021-12-18T00:00:00\", \"GueltigAbDatJahr\": 2021, \"GueltigAbDatMM\": 12, \"HerkunftLang\": \"Ausl\\u00e4nder/in\", \"sum_WBev\": 5}, {\"GueltigAbDat\": \"2021-09-04T00:00:00\", \"GueltigAbDatJahr\": 2021, \"GueltigAbDatMM\": 9, \"HerkunftLang\": \"Schweizer/in\", \"sum_WBev\": 5}, {\"GueltigAbDat\": \"2022-01-30T00:00:00\", \"GueltigAbDatJahr\": 2022, \"GueltigAbDatMM\": 1, \"HerkunftLang\": \"Schweizer/in\", \"sum_WBev\": 5}, {\"GueltigAbDat\": \"2021-02-27T00:00:00\", \"GueltigAbDatJahr\": 2021, \"GueltigAbDatMM\": 2, \"HerkunftLang\": \"Ausl\\u00e4nder/in\", \"sum_WBev\": 5}, {\"GueltigAbDat\": \"2022-03-16T00:00:00\", \"GueltigAbDatJahr\": 2022, \"GueltigAbDatMM\": 3, \"HerkunftLang\": \"Schweizer/in\", \"sum_WBev\": 5}, {\"GueltigAbDat\": \"2021-12-15T00:00:00\", \"GueltigAbDatJahr\": 2021, \"GueltigAbDatMM\": 12, \"HerkunftLang\": \"Ausl\\u00e4nder/in\", \"sum_WBev\": 4}, {\"GueltigAbDat\": \"2022-01-08T00:00:00\", \"GueltigAbDatJahr\": 2022, \"GueltigAbDatMM\": 1, \"HerkunftLang\": \"Ausl\\u00e4nder/in\", \"sum_WBev\": 4}, {\"GueltigAbDat\": \"2021-11-29T00:00:00\", \"GueltigAbDatJahr\": 2021, \"GueltigAbDatMM\": 11, \"HerkunftLang\": \"Ausl\\u00e4nder/in\", \"sum_WBev\": 4}, {\"GueltigAbDat\": \"2021-11-27T00:00:00\", \"GueltigAbDatJahr\": 2021, \"GueltigAbDatMM\": 11, \"HerkunftLang\": \"Schweizer/in\", \"sum_WBev\": 4}, {\"GueltigAbDat\": \"2021-12-06T00:00:00\", \"GueltigAbDatJahr\": 2021, \"GueltigAbDatMM\": 12, \"HerkunftLang\": \"Ausl\\u00e4nder/in\", \"sum_WBev\": 4}, {\"GueltigAbDat\": \"2021-11-13T00:00:00\", \"GueltigAbDatJahr\": 2021, \"GueltigAbDatMM\": 11, \"HerkunftLang\": \"Ausl\\u00e4nder/in\", \"sum_WBev\": 4}, {\"GueltigAbDat\": \"2021-12-16T00:00:00\", \"GueltigAbDatJahr\": 2021, \"GueltigAbDatMM\": 12, \"HerkunftLang\": \"Ausl\\u00e4nder/in\", \"sum_WBev\": 4}, {\"GueltigAbDat\": \"2021-11-24T00:00:00\", \"GueltigAbDatJahr\": 2021, \"GueltigAbDatMM\": 11, \"HerkunftLang\": \"Ausl\\u00e4nder/in\", \"sum_WBev\": 4}, {\"GueltigAbDat\": \"2022-01-02T00:00:00\", \"GueltigAbDatJahr\": 2022, \"GueltigAbDatMM\": 1, \"HerkunftLang\": \"Schweizer/in\", \"sum_WBev\": 4}, {\"GueltigAbDat\": \"2021-12-09T00:00:00\", \"GueltigAbDatJahr\": 2021, \"GueltigAbDatMM\": 12, \"HerkunftLang\": \"Ausl\\u00e4nder/in\", \"sum_WBev\": 4}, {\"GueltigAbDat\": \"2021-11-06T00:00:00\", \"GueltigAbDatJahr\": 2021, \"GueltigAbDatMM\": 11, \"HerkunftLang\": \"Schweizer/in\", \"sum_WBev\": 4}, {\"GueltigAbDat\": \"2021-11-23T00:00:00\", \"GueltigAbDatJahr\": 2021, \"GueltigAbDatMM\": 11, \"HerkunftLang\": \"Ausl\\u00e4nder/in\", \"sum_WBev\": 4}, {\"GueltigAbDat\": \"2021-11-21T00:00:00\", \"GueltigAbDatJahr\": 2021, \"GueltigAbDatMM\": 11, \"HerkunftLang\": \"Schweizer/in\", \"sum_WBev\": 4}, {\"GueltigAbDat\": \"2021-12-08T00:00:00\", \"GueltigAbDatJahr\": 2021, \"GueltigAbDatMM\": 12, \"HerkunftLang\": \"Ausl\\u00e4nder/in\", \"sum_WBev\": 4}, {\"GueltigAbDat\": \"2021-10-31T00:00:00\", \"GueltigAbDatJahr\": 2021, \"GueltigAbDatMM\": 10, \"HerkunftLang\": \"Schweizer/in\", \"sum_WBev\": 4}, {\"GueltigAbDat\": \"2022-01-03T00:00:00\", \"GueltigAbDatJahr\": 2022, \"GueltigAbDatMM\": 1, \"HerkunftLang\": \"Ausl\\u00e4nder/in\", \"sum_WBev\": 4}, {\"GueltigAbDat\": \"2021-12-20T00:00:00\", \"GueltigAbDatJahr\": 2021, \"GueltigAbDatMM\": 12, \"HerkunftLang\": \"Schweizer/in\", \"sum_WBev\": 4}, {\"GueltigAbDat\": \"2021-12-07T00:00:00\", \"GueltigAbDatJahr\": 2021, \"GueltigAbDatMM\": 12, \"HerkunftLang\": \"Ausl\\u00e4nder/in\", \"sum_WBev\": 4}, {\"GueltigAbDat\": \"2021-11-03T00:00:00\", \"GueltigAbDatJahr\": 2021, \"GueltigAbDatMM\": 11, \"HerkunftLang\": \"Ausl\\u00e4nder/in\", \"sum_WBev\": 4}, {\"GueltigAbDat\": \"2022-01-09T00:00:00\", \"GueltigAbDatJahr\": 2022, \"GueltigAbDatMM\": 1, \"HerkunftLang\": \"Schweizer/in\", \"sum_WBev\": 4}, {\"GueltigAbDat\": \"2021-12-01T00:00:00\", \"GueltigAbDatJahr\": 2021, \"GueltigAbDatMM\": 12, \"HerkunftLang\": \"Ausl\\u00e4nder/in\", \"sum_WBev\": 4}, {\"GueltigAbDat\": \"2021-06-14T00:00:00\", \"GueltigAbDatJahr\": 2021, \"GueltigAbDatMM\": 6, \"HerkunftLang\": \"Ausl\\u00e4nder/in\", \"sum_WBev\": 4}, {\"GueltigAbDat\": \"2021-12-28T00:00:00\", \"GueltigAbDatJahr\": 2021, \"GueltigAbDatMM\": 12, \"HerkunftLang\": \"Ausl\\u00e4nder/in\", \"sum_WBev\": 4}, {\"GueltigAbDat\": \"2021-04-17T00:00:00\", \"GueltigAbDatJahr\": 2021, \"GueltigAbDatMM\": 4, \"HerkunftLang\": \"Ausl\\u00e4nder/in\", \"sum_WBev\": 4}, {\"GueltigAbDat\": \"2021-03-25T00:00:00\", \"GueltigAbDatJahr\": 2021, \"GueltigAbDatMM\": 3, \"HerkunftLang\": \"Ausl\\u00e4nder/in\", \"sum_WBev\": 4}, {\"GueltigAbDat\": \"2021-03-30T00:00:00\", \"GueltigAbDatJahr\": 2021, \"GueltigAbDatMM\": 3, \"HerkunftLang\": \"Ausl\\u00e4nder/in\", \"sum_WBev\": 4}, {\"GueltigAbDat\": \"2021-03-31T00:00:00\", \"GueltigAbDatJahr\": 2021, \"GueltigAbDatMM\": 3, \"HerkunftLang\": \"Ausl\\u00e4nder/in\", \"sum_WBev\": 4}, {\"GueltigAbDat\": \"2022-03-19T00:00:00\", \"GueltigAbDatJahr\": 2022, \"GueltigAbDatMM\": 3, \"HerkunftLang\": \"Schweizer/in\", \"sum_WBev\": 4}, {\"GueltigAbDat\": \"2021-04-05T00:00:00\", \"GueltigAbDatJahr\": 2021, \"GueltigAbDatMM\": 4, \"HerkunftLang\": \"Schweizer/in\", \"sum_WBev\": 4}, {\"GueltigAbDat\": \"2021-04-06T00:00:00\", \"GueltigAbDatJahr\": 2021, \"GueltigAbDatMM\": 4, \"HerkunftLang\": \"Ausl\\u00e4nder/in\", \"sum_WBev\": 4}, {\"GueltigAbDat\": \"2021-04-12T00:00:00\", \"GueltigAbDatJahr\": 2021, \"GueltigAbDatMM\": 4, \"HerkunftLang\": \"Ausl\\u00e4nder/in\", \"sum_WBev\": 4}, {\"GueltigAbDat\": \"2021-01-02T00:00:00\", \"GueltigAbDatJahr\": 2021, \"GueltigAbDatMM\": 1, \"HerkunftLang\": \"Ausl\\u00e4nder/in\", \"sum_WBev\": 4}, {\"GueltigAbDat\": \"2021-04-16T00:00:00\", \"GueltigAbDatJahr\": 2021, \"GueltigAbDatMM\": 4, \"HerkunftLang\": \"Ausl\\u00e4nder/in\", \"sum_WBev\": 4}, {\"GueltigAbDat\": \"2022-01-15T00:00:00\", \"GueltigAbDatJahr\": 2022, \"GueltigAbDatMM\": 1, \"HerkunftLang\": \"Schweizer/in\", \"sum_WBev\": 4}, {\"GueltigAbDat\": \"2022-02-11T00:00:00\", \"GueltigAbDatJahr\": 2022, \"GueltigAbDatMM\": 2, \"HerkunftLang\": \"Ausl\\u00e4nder/in\", \"sum_WBev\": 4}, {\"GueltigAbDat\": \"2021-04-22T00:00:00\", \"GueltigAbDatJahr\": 2021, \"GueltigAbDatMM\": 4, \"HerkunftLang\": \"Ausl\\u00e4nder/in\", \"sum_WBev\": 4}, {\"GueltigAbDat\": \"2021-04-29T00:00:00\", \"GueltigAbDatJahr\": 2021, \"GueltigAbDatMM\": 4, \"HerkunftLang\": \"Ausl\\u00e4nder/in\", \"sum_WBev\": 4}, {\"GueltigAbDat\": \"2021-04-30T00:00:00\", \"GueltigAbDatJahr\": 2021, \"GueltigAbDatMM\": 4, \"HerkunftLang\": \"Ausl\\u00e4nder/in\", \"sum_WBev\": 4}, {\"GueltigAbDat\": \"2021-01-01T00:00:00\", \"GueltigAbDatJahr\": 2021, \"GueltigAbDatMM\": 1, \"HerkunftLang\": \"Schweizer/in\", \"sum_WBev\": 4}, {\"GueltigAbDat\": \"2022-03-20T00:00:00\", \"GueltigAbDatJahr\": 2022, \"GueltigAbDatMM\": 3, \"HerkunftLang\": \"Ausl\\u00e4nder/in\", \"sum_WBev\": 4}, {\"GueltigAbDat\": \"2022-02-20T00:00:00\", \"GueltigAbDatJahr\": 2022, \"GueltigAbDatMM\": 2, \"HerkunftLang\": \"Schweizer/in\", \"sum_WBev\": 4}, {\"GueltigAbDat\": \"2022-02-14T00:00:00\", \"GueltigAbDatJahr\": 2022, \"GueltigAbDatMM\": 2, \"HerkunftLang\": \"Ausl\\u00e4nder/in\", \"sum_WBev\": 4}, {\"GueltigAbDat\": \"2021-05-23T00:00:00\", \"GueltigAbDatJahr\": 2021, \"GueltigAbDatMM\": 5, \"HerkunftLang\": \"Ausl\\u00e4nder/in\", \"sum_WBev\": 4}, {\"GueltigAbDat\": \"2022-02-13T00:00:00\", \"GueltigAbDatJahr\": 2022, \"GueltigAbDatMM\": 2, \"HerkunftLang\": \"Schweizer/in\", \"sum_WBev\": 4}, {\"GueltigAbDat\": \"2021-03-23T00:00:00\", \"GueltigAbDatJahr\": 2021, \"GueltigAbDatMM\": 3, \"HerkunftLang\": \"Ausl\\u00e4nder/in\", \"sum_WBev\": 4}, {\"GueltigAbDat\": \"2021-03-17T00:00:00\", \"GueltigAbDatJahr\": 2021, \"GueltigAbDatMM\": 3, \"HerkunftLang\": \"Ausl\\u00e4nder/in\", \"sum_WBev\": 4}, {\"GueltigAbDat\": \"2021-03-16T00:00:00\", \"GueltigAbDatJahr\": 2021, \"GueltigAbDatMM\": 3, \"HerkunftLang\": \"Ausl\\u00e4nder/in\", \"sum_WBev\": 4}, {\"GueltigAbDat\": \"2021-03-15T00:00:00\", \"GueltigAbDatJahr\": 2021, \"GueltigAbDatMM\": 3, \"HerkunftLang\": \"Ausl\\u00e4nder/in\", \"sum_WBev\": 4}, {\"GueltigAbDat\": \"2021-01-17T00:00:00\", \"GueltigAbDatJahr\": 2021, \"GueltigAbDatMM\": 1, \"HerkunftLang\": \"Ausl\\u00e4nder/in\", \"sum_WBev\": 4}, {\"GueltigAbDat\": \"2021-01-30T00:00:00\", \"GueltigAbDatJahr\": 2021, \"GueltigAbDatMM\": 1, \"HerkunftLang\": \"Ausl\\u00e4nder/in\", \"sum_WBev\": 4}, {\"GueltigAbDat\": \"2021-02-06T00:00:00\", \"GueltigAbDatJahr\": 2021, \"GueltigAbDatMM\": 2, \"HerkunftLang\": \"Ausl\\u00e4nder/in\", \"sum_WBev\": 4}, {\"GueltigAbDat\": \"2021-02-06T00:00:00\", \"GueltigAbDatJahr\": 2021, \"GueltigAbDatMM\": 2, \"HerkunftLang\": \"Schweizer/in\", \"sum_WBev\": 4}, {\"GueltigAbDat\": \"2022-03-11T00:00:00\", \"GueltigAbDatJahr\": 2022, \"GueltigAbDatMM\": 3, \"HerkunftLang\": \"Ausl\\u00e4nder/in\", \"sum_WBev\": 4}, {\"GueltigAbDat\": \"2021-01-11T00:00:00\", \"GueltigAbDatJahr\": 2021, \"GueltigAbDatMM\": 1, \"HerkunftLang\": \"Ausl\\u00e4nder/in\", \"sum_WBev\": 4}, {\"GueltigAbDat\": \"2021-02-12T00:00:00\", \"GueltigAbDatJahr\": 2021, \"GueltigAbDatMM\": 2, \"HerkunftLang\": \"Schweizer/in\", \"sum_WBev\": 4}, {\"GueltigAbDat\": \"2021-02-14T00:00:00\", \"GueltigAbDatJahr\": 2021, \"GueltigAbDatMM\": 2, \"HerkunftLang\": \"Ausl\\u00e4nder/in\", \"sum_WBev\": 4}, {\"GueltigAbDat\": \"2021-02-17T00:00:00\", \"GueltigAbDatJahr\": 2021, \"GueltigAbDatMM\": 2, \"HerkunftLang\": \"Ausl\\u00e4nder/in\", \"sum_WBev\": 4}, {\"GueltigAbDat\": \"2021-02-19T00:00:00\", \"GueltigAbDatJahr\": 2021, \"GueltigAbDatMM\": 2, \"HerkunftLang\": \"Ausl\\u00e4nder/in\", \"sum_WBev\": 4}, {\"GueltigAbDat\": \"2021-02-21T00:00:00\", \"GueltigAbDatJahr\": 2021, \"GueltigAbDatMM\": 2, \"HerkunftLang\": \"Ausl\\u00e4nder/in\", \"sum_WBev\": 4}, {\"GueltigAbDat\": \"2021-02-26T00:00:00\", \"GueltigAbDatJahr\": 2021, \"GueltigAbDatMM\": 2, \"HerkunftLang\": \"Schweizer/in\", \"sum_WBev\": 4}, {\"GueltigAbDat\": \"2022-03-07T00:00:00\", \"GueltigAbDatJahr\": 2022, \"GueltigAbDatMM\": 3, \"HerkunftLang\": \"Ausl\\u00e4nder/in\", \"sum_WBev\": 4}, {\"GueltigAbDat\": \"2021-03-01T00:00:00\", \"GueltigAbDatJahr\": 2021, \"GueltigAbDatMM\": 3, \"HerkunftLang\": \"Ausl\\u00e4nder/in\", \"sum_WBev\": 4}, {\"GueltigAbDat\": \"2021-03-03T00:00:00\", \"GueltigAbDatJahr\": 2021, \"GueltigAbDatMM\": 3, \"HerkunftLang\": \"Ausl\\u00e4nder/in\", \"sum_WBev\": 4}, {\"GueltigAbDat\": \"2021-03-06T00:00:00\", \"GueltigAbDatJahr\": 2021, \"GueltigAbDatMM\": 3, \"HerkunftLang\": \"Ausl\\u00e4nder/in\", \"sum_WBev\": 4}, {\"GueltigAbDat\": \"2021-03-09T00:00:00\", \"GueltigAbDatJahr\": 2021, \"GueltigAbDatMM\": 3, \"HerkunftLang\": \"Ausl\\u00e4nder/in\", \"sum_WBev\": 4}, {\"GueltigAbDat\": \"2021-03-10T00:00:00\", \"GueltigAbDatJahr\": 2021, \"GueltigAbDatMM\": 3, \"HerkunftLang\": \"Ausl\\u00e4nder/in\", \"sum_WBev\": 4}, {\"GueltigAbDat\": \"2021-03-12T00:00:00\", \"GueltigAbDatJahr\": 2021, \"GueltigAbDatMM\": 3, \"HerkunftLang\": \"Ausl\\u00e4nder/in\", \"sum_WBev\": 4}, {\"GueltigAbDat\": \"2021-05-26T00:00:00\", \"GueltigAbDatJahr\": 2021, \"GueltigAbDatMM\": 5, \"HerkunftLang\": \"Ausl\\u00e4nder/in\", \"sum_WBev\": 4}, {\"GueltigAbDat\": \"2021-05-31T00:00:00\", \"GueltigAbDatJahr\": 2021, \"GueltigAbDatMM\": 5, \"HerkunftLang\": \"Ausl\\u00e4nder/in\", \"sum_WBev\": 4}, {\"GueltigAbDat\": \"2020-12-31T00:00:00\", \"GueltigAbDatJahr\": 2020, \"GueltigAbDatMM\": 12, \"HerkunftLang\": \"Ausl\\u00e4nder/in\", \"sum_WBev\": 4}, {\"GueltigAbDat\": \"2022-01-28T00:00:00\", \"GueltigAbDatJahr\": 2022, \"GueltigAbDatMM\": 1, \"HerkunftLang\": \"Ausl\\u00e4nder/in\", \"sum_WBev\": 4}, {\"GueltigAbDat\": \"2021-08-18T00:00:00\", \"GueltigAbDatJahr\": 2021, \"GueltigAbDatMM\": 8, \"HerkunftLang\": \"Ausl\\u00e4nder/in\", \"sum_WBev\": 4}, {\"GueltigAbDat\": \"2021-08-19T00:00:00\", \"GueltigAbDatJahr\": 2021, \"GueltigAbDatMM\": 8, \"HerkunftLang\": \"Ausl\\u00e4nder/in\", \"sum_WBev\": 4}, {\"GueltigAbDat\": \"2022-03-24T00:00:00\", \"GueltigAbDatJahr\": 2022, \"GueltigAbDatMM\": 3, \"HerkunftLang\": \"Schweizer/in\", \"sum_WBev\": 4}, {\"GueltigAbDat\": \"2021-09-04T00:00:00\", \"GueltigAbDatJahr\": 2021, \"GueltigAbDatMM\": 9, \"HerkunftLang\": \"Ausl\\u00e4nder/in\", \"sum_WBev\": 4}, {\"GueltigAbDat\": \"2020-12-13T00:00:00\", \"GueltigAbDatJahr\": 2020, \"GueltigAbDatMM\": 12, \"HerkunftLang\": \"Ausl\\u00e4nder/in\", \"sum_WBev\": 4}, {\"GueltigAbDat\": \"2020-12-10T00:00:00\", \"GueltigAbDatJahr\": 2020, \"GueltigAbDatMM\": 12, \"HerkunftLang\": \"Ausl\\u00e4nder/in\", \"sum_WBev\": 4}, {\"GueltigAbDat\": \"2021-09-09T00:00:00\", \"GueltigAbDatJahr\": 2021, \"GueltigAbDatMM\": 9, \"HerkunftLang\": \"Ausl\\u00e4nder/in\", \"sum_WBev\": 4}, {\"GueltigAbDat\": \"2022-01-21T00:00:00\", \"GueltigAbDatJahr\": 2022, \"GueltigAbDatMM\": 1, \"HerkunftLang\": \"Ausl\\u00e4nder/in\", \"sum_WBev\": 4}, {\"GueltigAbDat\": \"2021-09-11T00:00:00\", \"GueltigAbDatJahr\": 2021, \"GueltigAbDatMM\": 9, \"HerkunftLang\": \"Ausl\\u00e4nder/in\", \"sum_WBev\": 4}, {\"GueltigAbDat\": \"2021-09-12T00:00:00\", \"GueltigAbDatJahr\": 2021, \"GueltigAbDatMM\": 9, \"HerkunftLang\": \"Ausl\\u00e4nder/in\", \"sum_WBev\": 4}, {\"GueltigAbDat\": \"2021-09-13T00:00:00\", \"GueltigAbDatJahr\": 2021, \"GueltigAbDatMM\": 9, \"HerkunftLang\": \"Ausl\\u00e4nder/in\", \"sum_WBev\": 4}, {\"GueltigAbDat\": \"2021-09-15T00:00:00\", \"GueltigAbDatJahr\": 2021, \"GueltigAbDatMM\": 9, \"HerkunftLang\": \"Ausl\\u00e4nder/in\", \"sum_WBev\": 4}, {\"GueltigAbDat\": \"2021-09-17T00:00:00\", \"GueltigAbDatJahr\": 2021, \"GueltigAbDatMM\": 9, \"HerkunftLang\": \"Ausl\\u00e4nder/in\", \"sum_WBev\": 4}, {\"GueltigAbDat\": \"2021-09-23T00:00:00\", \"GueltigAbDatJahr\": 2021, \"GueltigAbDatMM\": 9, \"HerkunftLang\": \"Ausl\\u00e4nder/in\", \"sum_WBev\": 4}, {\"GueltigAbDat\": \"2022-03-25T00:00:00\", \"GueltigAbDatJahr\": 2022, \"GueltigAbDatMM\": 3, \"HerkunftLang\": \"Schweizer/in\", \"sum_WBev\": 4}, {\"GueltigAbDat\": \"2022-01-18T00:00:00\", \"GueltigAbDatJahr\": 2022, \"GueltigAbDatMM\": 1, \"HerkunftLang\": \"Ausl\\u00e4nder/in\", \"sum_WBev\": 4}, {\"GueltigAbDat\": \"2021-10-02T00:00:00\", \"GueltigAbDatJahr\": 2021, \"GueltigAbDatMM\": 10, \"HerkunftLang\": \"Ausl\\u00e4nder/in\", \"sum_WBev\": 4}, {\"GueltigAbDat\": \"2020-12-08T00:00:00\", \"GueltigAbDatJahr\": 2020, \"GueltigAbDatMM\": 12, \"HerkunftLang\": \"Ausl\\u00e4nder/in\", \"sum_WBev\": 4}, {\"GueltigAbDat\": \"2022-03-28T00:00:00\", \"GueltigAbDatJahr\": 2022, \"GueltigAbDatMM\": 3, \"HerkunftLang\": \"Schweizer/in\", \"sum_WBev\": 4}, {\"GueltigAbDat\": \"2021-10-05T00:00:00\", \"GueltigAbDatJahr\": 2021, \"GueltigAbDatMM\": 10, \"HerkunftLang\": \"Ausl\\u00e4nder/in\", \"sum_WBev\": 4}, {\"GueltigAbDat\": \"2022-01-16T00:00:00\", \"GueltigAbDatJahr\": 2022, \"GueltigAbDatMM\": 1, \"HerkunftLang\": \"Schweizer/in\", \"sum_WBev\": 4}, {\"GueltigAbDat\": \"2021-08-15T00:00:00\", \"GueltigAbDatJahr\": 2021, \"GueltigAbDatMM\": 8, \"HerkunftLang\": \"Schweizer/in\", \"sum_WBev\": 4}, {\"GueltigAbDat\": \"2021-08-14T00:00:00\", \"GueltigAbDatJahr\": 2021, \"GueltigAbDatMM\": 8, \"HerkunftLang\": \"Ausl\\u00e4nder/in\", \"sum_WBev\": 4}, {\"GueltigAbDat\": \"2021-07-11T00:00:00\", \"GueltigAbDatJahr\": 2021, \"GueltigAbDatMM\": 7, \"HerkunftLang\": \"Ausl\\u00e4nder/in\", \"sum_WBev\": 4}, {\"GueltigAbDat\": \"2021-07-14T00:00:00\", \"GueltigAbDatJahr\": 2021, \"GueltigAbDatMM\": 7, \"HerkunftLang\": \"Ausl\\u00e4nder/in\", \"sum_WBev\": 4}, {\"GueltigAbDat\": \"2022-03-20T00:00:00\", \"GueltigAbDatJahr\": 2022, \"GueltigAbDatMM\": 3, \"HerkunftLang\": \"Schweizer/in\", \"sum_WBev\": 4}, {\"GueltigAbDat\": \"2022-02-07T00:00:00\", \"GueltigAbDatJahr\": 2022, \"GueltigAbDatMM\": 2, \"HerkunftLang\": \"Ausl\\u00e4nder/in\", \"sum_WBev\": 4}, {\"GueltigAbDat\": \"2020-12-26T00:00:00\", \"GueltigAbDatJahr\": 2020, \"GueltigAbDatMM\": 12, \"HerkunftLang\": \"Ausl\\u00e4nder/in\", \"sum_WBev\": 4}, {\"GueltigAbDat\": \"2021-06-26T00:00:00\", \"GueltigAbDatJahr\": 2021, \"GueltigAbDatMM\": 6, \"HerkunftLang\": \"Ausl\\u00e4nder/in\", \"sum_WBev\": 4}, {\"GueltigAbDat\": \"2021-06-26T00:00:00\", \"GueltigAbDatJahr\": 2021, \"GueltigAbDatMM\": 6, \"HerkunftLang\": \"Schweizer/in\", \"sum_WBev\": 4}, {\"GueltigAbDat\": \"2021-06-30T00:00:00\", \"GueltigAbDatJahr\": 2021, \"GueltigAbDatMM\": 6, \"HerkunftLang\": \"Ausl\\u00e4nder/in\", \"sum_WBev\": 4}, {\"GueltigAbDat\": \"2022-02-04T00:00:00\", \"GueltigAbDatJahr\": 2022, \"GueltigAbDatMM\": 2, \"HerkunftLang\": \"Ausl\\u00e4nder/in\", \"sum_WBev\": 4}, {\"GueltigAbDat\": \"2021-07-03T00:00:00\", \"GueltigAbDatJahr\": 2021, \"GueltigAbDatMM\": 7, \"HerkunftLang\": \"Ausl\\u00e4nder/in\", \"sum_WBev\": 4}, {\"GueltigAbDat\": \"2020-12-24T00:00:00\", \"GueltigAbDatJahr\": 2020, \"GueltigAbDatMM\": 12, \"HerkunftLang\": \"Ausl\\u00e4nder/in\", \"sum_WBev\": 4}, {\"GueltigAbDat\": \"2022-03-15T00:00:00\", \"GueltigAbDatJahr\": 2022, \"GueltigAbDatMM\": 3, \"HerkunftLang\": \"Ausl\\u00e4nder/in\", \"sum_WBev\": 4}, {\"GueltigAbDat\": \"2022-02-02T00:00:00\", \"GueltigAbDatJahr\": 2022, \"GueltigAbDatMM\": 2, \"HerkunftLang\": \"Ausl\\u00e4nder/in\", \"sum_WBev\": 4}, {\"GueltigAbDat\": \"2020-12-17T00:00:00\", \"GueltigAbDatJahr\": 2020, \"GueltigAbDatMM\": 12, \"HerkunftLang\": \"Ausl\\u00e4nder/in\", \"sum_WBev\": 4}, {\"GueltigAbDat\": \"2021-07-19T00:00:00\", \"GueltigAbDatJahr\": 2021, \"GueltigAbDatMM\": 7, \"HerkunftLang\": \"Ausl\\u00e4nder/in\", \"sum_WBev\": 4}, {\"GueltigAbDat\": \"2020-12-16T00:00:00\", \"GueltigAbDatJahr\": 2020, \"GueltigAbDatMM\": 12, \"HerkunftLang\": \"Ausl\\u00e4nder/in\", \"sum_WBev\": 4}, {\"GueltigAbDat\": \"2021-07-25T00:00:00\", \"GueltigAbDatJahr\": 2021, \"GueltigAbDatMM\": 7, \"HerkunftLang\": \"Schweizer/in\", \"sum_WBev\": 4}, {\"GueltigAbDat\": \"2021-07-27T00:00:00\", \"GueltigAbDatJahr\": 2021, \"GueltigAbDatMM\": 7, \"HerkunftLang\": \"Ausl\\u00e4nder/in\", \"sum_WBev\": 4}, {\"GueltigAbDat\": \"2021-08-03T00:00:00\", \"GueltigAbDatJahr\": 2021, \"GueltigAbDatMM\": 8, \"HerkunftLang\": \"Schweizer/in\", \"sum_WBev\": 4}, {\"GueltigAbDat\": \"2022-03-24T00:00:00\", \"GueltigAbDatJahr\": 2022, \"GueltigAbDatMM\": 3, \"HerkunftLang\": \"Ausl\\u00e4nder/in\", \"sum_WBev\": 4}, {\"GueltigAbDat\": \"2021-08-10T00:00:00\", \"GueltigAbDatJahr\": 2021, \"GueltigAbDatMM\": 8, \"HerkunftLang\": \"Ausl\\u00e4nder/in\", \"sum_WBev\": 4}, {\"GueltigAbDat\": \"2022-03-19T00:00:00\", \"GueltigAbDatJahr\": 2022, \"GueltigAbDatMM\": 3, \"HerkunftLang\": \"Ausl\\u00e4nder/in\", \"sum_WBev\": 3}, {\"GueltigAbDat\": \"2021-12-30T00:00:00\", \"GueltigAbDatJahr\": 2021, \"GueltigAbDatMM\": 12, \"HerkunftLang\": \"Ausl\\u00e4nder/in\", \"sum_WBev\": 3}, {\"GueltigAbDat\": \"2022-03-17T00:00:00\", \"GueltigAbDatJahr\": 2022, \"GueltigAbDatMM\": 3, \"HerkunftLang\": \"Ausl\\u00e4nder/in\", \"sum_WBev\": 3}, {\"GueltigAbDat\": \"2022-03-16T00:00:00\", \"GueltigAbDatJahr\": 2022, \"GueltigAbDatMM\": 3, \"HerkunftLang\": \"Ausl\\u00e4nder/in\", \"sum_WBev\": 3}, {\"GueltigAbDat\": \"2022-01-15T00:00:00\", \"GueltigAbDatJahr\": 2022, \"GueltigAbDatMM\": 1, \"HerkunftLang\": \"Ausl\\u00e4nder/in\", \"sum_WBev\": 3}, {\"GueltigAbDat\": \"2022-03-14T00:00:00\", \"GueltigAbDatJahr\": 2022, \"GueltigAbDatMM\": 3, \"HerkunftLang\": \"Ausl\\u00e4nder/in\", \"sum_WBev\": 3}, {\"GueltigAbDat\": \"2022-02-03T00:00:00\", \"GueltigAbDatJahr\": 2022, \"GueltigAbDatMM\": 2, \"HerkunftLang\": \"Ausl\\u00e4nder/in\", \"sum_WBev\": 3}, {\"GueltigAbDat\": \"2022-01-11T00:00:00\", \"GueltigAbDatJahr\": 2022, \"GueltigAbDatMM\": 1, \"HerkunftLang\": \"Ausl\\u00e4nder/in\", \"sum_WBev\": 3}, {\"GueltigAbDat\": \"2022-01-17T00:00:00\", \"GueltigAbDatJahr\": 2022, \"GueltigAbDatMM\": 1, \"HerkunftLang\": \"Ausl\\u00e4nder/in\", \"sum_WBev\": 3}, {\"GueltigAbDat\": \"2022-01-10T00:00:00\", \"GueltigAbDatJahr\": 2022, \"GueltigAbDatMM\": 1, \"HerkunftLang\": \"Schweizer/in\", \"sum_WBev\": 3}, {\"GueltigAbDat\": \"2022-01-22T00:00:00\", \"GueltigAbDatJahr\": 2022, \"GueltigAbDatMM\": 1, \"HerkunftLang\": \"Schweizer/in\", \"sum_WBev\": 3}, {\"GueltigAbDat\": \"2022-01-09T00:00:00\", \"GueltigAbDatJahr\": 2022, \"GueltigAbDatMM\": 1, \"HerkunftLang\": \"Ausl\\u00e4nder/in\", \"sum_WBev\": 3}, {\"GueltigAbDat\": \"2022-01-23T00:00:00\", \"GueltigAbDatJahr\": 2022, \"GueltigAbDatMM\": 1, \"HerkunftLang\": \"Schweizer/in\", \"sum_WBev\": 3}, {\"GueltigAbDat\": \"2022-01-29T00:00:00\", \"GueltigAbDatJahr\": 2022, \"GueltigAbDatMM\": 1, \"HerkunftLang\": \"Ausl\\u00e4nder/in\", \"sum_WBev\": 3}, {\"GueltigAbDat\": \"2022-01-31T00:00:00\", \"GueltigAbDatJahr\": 2022, \"GueltigAbDatMM\": 1, \"HerkunftLang\": \"Ausl\\u00e4nder/in\", \"sum_WBev\": 3}, {\"GueltigAbDat\": \"2022-02-01T00:00:00\", \"GueltigAbDatJahr\": 2022, \"GueltigAbDatMM\": 2, \"HerkunftLang\": \"Ausl\\u00e4nder/in\", \"sum_WBev\": 3}, {\"GueltigAbDat\": \"2022-02-06T00:00:00\", \"GueltigAbDatJahr\": 2022, \"GueltigAbDatMM\": 2, \"HerkunftLang\": \"Ausl\\u00e4nder/in\", \"sum_WBev\": 3}, {\"GueltigAbDat\": \"2022-03-12T00:00:00\", \"GueltigAbDatJahr\": 2022, \"GueltigAbDatMM\": 3, \"HerkunftLang\": \"Schweizer/in\", \"sum_WBev\": 3}, {\"GueltigAbDat\": \"2022-02-09T00:00:00\", \"GueltigAbDatJahr\": 2022, \"GueltigAbDatMM\": 2, \"HerkunftLang\": \"Ausl\\u00e4nder/in\", \"sum_WBev\": 3}, {\"GueltigAbDat\": \"2022-02-10T00:00:00\", \"GueltigAbDatJahr\": 2022, \"GueltigAbDatMM\": 2, \"HerkunftLang\": \"Ausl\\u00e4nder/in\", \"sum_WBev\": 3}, {\"GueltigAbDat\": \"2022-02-18T00:00:00\", \"GueltigAbDatJahr\": 2022, \"GueltigAbDatMM\": 2, \"HerkunftLang\": \"Ausl\\u00e4nder/in\", \"sum_WBev\": 3}, {\"GueltigAbDat\": \"2022-02-21T00:00:00\", \"GueltigAbDatJahr\": 2022, \"GueltigAbDatMM\": 2, \"HerkunftLang\": \"Ausl\\u00e4nder/in\", \"sum_WBev\": 3}, {\"GueltigAbDat\": \"2022-01-04T00:00:00\", \"GueltigAbDatJahr\": 2022, \"GueltigAbDatMM\": 1, \"HerkunftLang\": \"Ausl\\u00e4nder/in\", \"sum_WBev\": 3}, {\"GueltigAbDat\": \"2022-02-25T00:00:00\", \"GueltigAbDatJahr\": 2022, \"GueltigAbDatMM\": 2, \"HerkunftLang\": \"Ausl\\u00e4nder/in\", \"sum_WBev\": 3}, {\"GueltigAbDat\": \"2022-02-26T00:00:00\", \"GueltigAbDatJahr\": 2022, \"GueltigAbDatMM\": 2, \"HerkunftLang\": \"Schweizer/in\", \"sum_WBev\": 3}, {\"GueltigAbDat\": \"2022-03-01T00:00:00\", \"GueltigAbDatJahr\": 2022, \"GueltigAbDatMM\": 3, \"HerkunftLang\": \"Ausl\\u00e4nder/in\", \"sum_WBev\": 3}, {\"GueltigAbDat\": \"2022-03-10T00:00:00\", \"GueltigAbDatJahr\": 2022, \"GueltigAbDatMM\": 3, \"HerkunftLang\": \"Ausl\\u00e4nder/in\", \"sum_WBev\": 3}, {\"GueltigAbDat\": \"2022-02-24T00:00:00\", \"GueltigAbDatJahr\": 2022, \"GueltigAbDatMM\": 2, \"HerkunftLang\": \"Ausl\\u00e4nder/in\", \"sum_WBev\": 3}, {\"GueltigAbDat\": \"2021-07-31T00:00:00\", \"GueltigAbDatJahr\": 2021, \"GueltigAbDatMM\": 7, \"HerkunftLang\": \"Ausl\\u00e4nder/in\", \"sum_WBev\": 3}, {\"GueltigAbDat\": \"2021-12-27T00:00:00\", \"GueltigAbDatJahr\": 2021, \"GueltigAbDatMM\": 12, \"HerkunftLang\": \"Ausl\\u00e4nder/in\", \"sum_WBev\": 3}, {\"GueltigAbDat\": \"2021-06-17T00:00:00\", \"GueltigAbDatJahr\": 2021, \"GueltigAbDatMM\": 6, \"HerkunftLang\": \"Ausl\\u00e4nder/in\", \"sum_WBev\": 3}, {\"GueltigAbDat\": \"2021-05-08T00:00:00\", \"GueltigAbDatJahr\": 2021, \"GueltigAbDatMM\": 5, \"HerkunftLang\": \"Ausl\\u00e4nder/in\", \"sum_WBev\": 3}, {\"GueltigAbDat\": \"2021-05-09T00:00:00\", \"GueltigAbDatJahr\": 2021, \"GueltigAbDatMM\": 5, \"HerkunftLang\": \"Ausl\\u00e4nder/in\", \"sum_WBev\": 3}, {\"GueltigAbDat\": \"2021-05-12T00:00:00\", \"GueltigAbDatJahr\": 2021, \"GueltigAbDatMM\": 5, \"HerkunftLang\": \"Ausl\\u00e4nder/in\", \"sum_WBev\": 3}, {\"GueltigAbDat\": \"2021-05-18T00:00:00\", \"GueltigAbDatJahr\": 2021, \"GueltigAbDatMM\": 5, \"HerkunftLang\": \"Ausl\\u00e4nder/in\", \"sum_WBev\": 3}, {\"GueltigAbDat\": \"2021-05-24T00:00:00\", \"GueltigAbDatJahr\": 2021, \"GueltigAbDatMM\": 5, \"HerkunftLang\": \"Ausl\\u00e4nder/in\", \"sum_WBev\": 3}, {\"GueltigAbDat\": \"2021-05-27T00:00:00\", \"GueltigAbDatJahr\": 2021, \"GueltigAbDatMM\": 5, \"HerkunftLang\": \"Ausl\\u00e4nder/in\", \"sum_WBev\": 3}, {\"GueltigAbDat\": \"2021-06-02T00:00:00\", \"GueltigAbDatJahr\": 2021, \"GueltigAbDatMM\": 6, \"HerkunftLang\": \"Ausl\\u00e4nder/in\", \"sum_WBev\": 3}, {\"GueltigAbDat\": \"2021-06-09T00:00:00\", \"GueltigAbDatJahr\": 2021, \"GueltigAbDatMM\": 6, \"HerkunftLang\": \"Ausl\\u00e4nder/in\", \"sum_WBev\": 3}, {\"GueltigAbDat\": \"2021-06-10T00:00:00\", \"GueltigAbDatJahr\": 2021, \"GueltigAbDatMM\": 6, \"HerkunftLang\": \"Ausl\\u00e4nder/in\", \"sum_WBev\": 3}, {\"GueltigAbDat\": \"2021-06-13T00:00:00\", \"GueltigAbDatJahr\": 2021, \"GueltigAbDatMM\": 6, \"HerkunftLang\": \"Ausl\\u00e4nder/in\", \"sum_WBev\": 3}, {\"GueltigAbDat\": \"2021-06-19T00:00:00\", \"GueltigAbDatJahr\": 2021, \"GueltigAbDatMM\": 6, \"HerkunftLang\": \"Ausl\\u00e4nder/in\", \"sum_WBev\": 3}, {\"GueltigAbDat\": \"2021-04-15T00:00:00\", \"GueltigAbDatJahr\": 2021, \"GueltigAbDatMM\": 4, \"HerkunftLang\": \"Ausl\\u00e4nder/in\", \"sum_WBev\": 3}, {\"GueltigAbDat\": \"2021-06-21T00:00:00\", \"GueltigAbDatJahr\": 2021, \"GueltigAbDatMM\": 6, \"HerkunftLang\": \"Ausl\\u00e4nder/in\", \"sum_WBev\": 3}, {\"GueltigAbDat\": \"2021-07-01T00:00:00\", \"GueltigAbDatJahr\": 2021, \"GueltigAbDatMM\": 7, \"HerkunftLang\": \"Ausl\\u00e4nder/in\", \"sum_WBev\": 3}, {\"GueltigAbDat\": \"2021-07-02T00:00:00\", \"GueltigAbDatJahr\": 2021, \"GueltigAbDatMM\": 7, \"HerkunftLang\": \"Ausl\\u00e4nder/in\", \"sum_WBev\": 3}, {\"GueltigAbDat\": \"2021-07-12T00:00:00\", \"GueltigAbDatJahr\": 2021, \"GueltigAbDatMM\": 7, \"HerkunftLang\": \"Ausl\\u00e4nder/in\", \"sum_WBev\": 3}, {\"GueltigAbDat\": \"2021-07-15T00:00:00\", \"GueltigAbDatJahr\": 2021, \"GueltigAbDatMM\": 7, \"HerkunftLang\": \"Ausl\\u00e4nder/in\", \"sum_WBev\": 3}, {\"GueltigAbDat\": \"2021-07-23T00:00:00\", \"GueltigAbDatJahr\": 2021, \"GueltigAbDatMM\": 7, \"HerkunftLang\": \"Ausl\\u00e4nder/in\", \"sum_WBev\": 3}, {\"GueltigAbDat\": \"2021-07-25T00:00:00\", \"GueltigAbDatJahr\": 2021, \"GueltigAbDatMM\": 7, \"HerkunftLang\": \"Ausl\\u00e4nder/in\", \"sum_WBev\": 3}, {\"GueltigAbDat\": \"2021-08-04T00:00:00\", \"GueltigAbDatJahr\": 2021, \"GueltigAbDatMM\": 8, \"HerkunftLang\": \"Ausl\\u00e4nder/in\", \"sum_WBev\": 3}, {\"GueltigAbDat\": \"2021-08-08T00:00:00\", \"GueltigAbDatJahr\": 2021, \"GueltigAbDatMM\": 8, \"HerkunftLang\": \"Ausl\\u00e4nder/in\", \"sum_WBev\": 3}, {\"GueltigAbDat\": \"2021-08-12T00:00:00\", \"GueltigAbDatJahr\": 2021, \"GueltigAbDatMM\": 8, \"HerkunftLang\": \"Ausl\\u00e4nder/in\", \"sum_WBev\": 3}, {\"GueltigAbDat\": \"2021-04-23T00:00:00\", \"GueltigAbDatJahr\": 2021, \"GueltigAbDatMM\": 4, \"HerkunftLang\": \"Ausl\\u00e4nder/in\", \"sum_WBev\": 3}, {\"GueltigAbDat\": \"2021-04-14T00:00:00\", \"GueltigAbDatJahr\": 2021, \"GueltigAbDatMM\": 4, \"HerkunftLang\": \"Ausl\\u00e4nder/in\", \"sum_WBev\": 3}, {\"GueltigAbDat\": \"2021-08-30T00:00:00\", \"GueltigAbDatJahr\": 2021, \"GueltigAbDatMM\": 8, \"HerkunftLang\": \"Ausl\\u00e4nder/in\", \"sum_WBev\": 3}, {\"GueltigAbDat\": \"2021-02-03T00:00:00\", \"GueltigAbDatJahr\": 2021, \"GueltigAbDatMM\": 2, \"HerkunftLang\": \"Ausl\\u00e4nder/in\", \"sum_WBev\": 3}, {\"GueltigAbDat\": \"2020-12-02T00:00:00\", \"GueltigAbDatJahr\": 2020, \"GueltigAbDatMM\": 12, \"HerkunftLang\": \"Ausl\\u00e4nder/in\", \"sum_WBev\": 3}, {\"GueltigAbDat\": \"2020-12-05T00:00:00\", \"GueltigAbDatJahr\": 2020, \"GueltigAbDatMM\": 12, \"HerkunftLang\": \"Ausl\\u00e4nder/in\", \"sum_WBev\": 3}, {\"GueltigAbDat\": \"2020-12-06T00:00:00\", \"GueltigAbDatJahr\": 2020, \"GueltigAbDatMM\": 12, \"HerkunftLang\": \"Ausl\\u00e4nder/in\", \"sum_WBev\": 3}, {\"GueltigAbDat\": \"2020-12-09T00:00:00\", \"GueltigAbDatJahr\": 2020, \"GueltigAbDatMM\": 12, \"HerkunftLang\": \"Ausl\\u00e4nder/in\", \"sum_WBev\": 3}, {\"GueltigAbDat\": \"2020-12-14T00:00:00\", \"GueltigAbDatJahr\": 2020, \"GueltigAbDatMM\": 12, \"HerkunftLang\": \"Ausl\\u00e4nder/in\", \"sum_WBev\": 3}, {\"GueltigAbDat\": \"2020-12-27T00:00:00\", \"GueltigAbDatJahr\": 2020, \"GueltigAbDatMM\": 12, \"HerkunftLang\": \"Ausl\\u00e4nder/in\", \"sum_WBev\": 3}, {\"GueltigAbDat\": \"2020-12-27T00:00:00\", \"GueltigAbDatJahr\": 2020, \"GueltigAbDatMM\": 12, \"HerkunftLang\": \"Schweizer/in\", \"sum_WBev\": 3}, {\"GueltigAbDat\": \"2021-01-03T00:00:00\", \"GueltigAbDatJahr\": 2021, \"GueltigAbDatMM\": 1, \"HerkunftLang\": \"Schweizer/in\", \"sum_WBev\": 3}, {\"GueltigAbDat\": \"2021-01-14T00:00:00\", \"GueltigAbDatJahr\": 2021, \"GueltigAbDatMM\": 1, \"HerkunftLang\": \"Ausl\\u00e4nder/in\", \"sum_WBev\": 3}, {\"GueltigAbDat\": \"2021-01-20T00:00:00\", \"GueltigAbDatJahr\": 2021, \"GueltigAbDatMM\": 1, \"HerkunftLang\": \"Ausl\\u00e4nder/in\", \"sum_WBev\": 3}, {\"GueltigAbDat\": \"2021-02-08T00:00:00\", \"GueltigAbDatJahr\": 2021, \"GueltigAbDatMM\": 2, \"HerkunftLang\": \"Ausl\\u00e4nder/in\", \"sum_WBev\": 3}, {\"GueltigAbDat\": \"2021-04-05T00:00:00\", \"GueltigAbDatJahr\": 2021, \"GueltigAbDatMM\": 4, \"HerkunftLang\": \"Ausl\\u00e4nder/in\", \"sum_WBev\": 3}, {\"GueltigAbDat\": \"2021-02-11T00:00:00\", \"GueltigAbDatJahr\": 2021, \"GueltigAbDatMM\": 2, \"HerkunftLang\": \"Ausl\\u00e4nder/in\", \"sum_WBev\": 3}, {\"GueltigAbDat\": \"2021-02-12T00:00:00\", \"GueltigAbDatJahr\": 2021, \"GueltigAbDatMM\": 2, \"HerkunftLang\": \"Ausl\\u00e4nder/in\", \"sum_WBev\": 3}, {\"GueltigAbDat\": \"2021-02-15T00:00:00\", \"GueltigAbDatJahr\": 2021, \"GueltigAbDatMM\": 2, \"HerkunftLang\": \"Ausl\\u00e4nder/in\", \"sum_WBev\": 3}, {\"GueltigAbDat\": \"2021-02-17T00:00:00\", \"GueltigAbDatJahr\": 2021, \"GueltigAbDatMM\": 2, \"HerkunftLang\": \"Schweizer/in\", \"sum_WBev\": 3}, {\"GueltigAbDat\": \"2021-03-07T00:00:00\", \"GueltigAbDatJahr\": 2021, \"GueltigAbDatMM\": 3, \"HerkunftLang\": \"Ausl\\u00e4nder/in\", \"sum_WBev\": 3}, {\"GueltigAbDat\": \"2021-03-08T00:00:00\", \"GueltigAbDatJahr\": 2021, \"GueltigAbDatMM\": 3, \"HerkunftLang\": \"Ausl\\u00e4nder/in\", \"sum_WBev\": 3}, {\"GueltigAbDat\": \"2021-03-22T00:00:00\", \"GueltigAbDatJahr\": 2021, \"GueltigAbDatMM\": 3, \"HerkunftLang\": \"Ausl\\u00e4nder/in\", \"sum_WBev\": 3}, {\"GueltigAbDat\": \"2021-04-02T00:00:00\", \"GueltigAbDatJahr\": 2021, \"GueltigAbDatMM\": 4, \"HerkunftLang\": \"Ausl\\u00e4nder/in\", \"sum_WBev\": 3}, {\"GueltigAbDat\": \"2021-04-03T00:00:00\", \"GueltigAbDatJahr\": 2021, \"GueltigAbDatMM\": 4, \"HerkunftLang\": \"Ausl\\u00e4nder/in\", \"sum_WBev\": 3}, {\"GueltigAbDat\": \"2021-04-04T00:00:00\", \"GueltigAbDatJahr\": 2021, \"GueltigAbDatMM\": 4, \"HerkunftLang\": \"Schweizer/in\", \"sum_WBev\": 3}, {\"GueltigAbDat\": \"2021-08-26T00:00:00\", \"GueltigAbDatJahr\": 2021, \"GueltigAbDatMM\": 8, \"HerkunftLang\": \"Ausl\\u00e4nder/in\", \"sum_WBev\": 3}, {\"GueltigAbDat\": \"2021-05-31T00:00:00\", \"GueltigAbDatJahr\": 2021, \"GueltigAbDatMM\": 5, \"HerkunftLang\": \"Schweizer/in\", \"sum_WBev\": 3}, {\"GueltigAbDat\": \"2022-03-31T00:00:00\", \"GueltigAbDatJahr\": 2022, \"GueltigAbDatMM\": 3, \"HerkunftLang\": \"Schweizer/in\", \"sum_WBev\": 3}, {\"GueltigAbDat\": \"2021-12-04T00:00:00\", \"GueltigAbDatJahr\": 2021, \"GueltigAbDatMM\": 12, \"HerkunftLang\": \"Ausl\\u00e4nder/in\", \"sum_WBev\": 3}, {\"GueltigAbDat\": \"2021-09-29T00:00:00\", \"GueltigAbDatJahr\": 2021, \"GueltigAbDatMM\": 9, \"HerkunftLang\": \"Ausl\\u00e4nder/in\", \"sum_WBev\": 3}, {\"GueltigAbDat\": \"2021-12-11T00:00:00\", \"GueltigAbDatJahr\": 2021, \"GueltigAbDatMM\": 12, \"HerkunftLang\": \"Ausl\\u00e4nder/in\", \"sum_WBev\": 3}, {\"GueltigAbDat\": \"2021-10-03T00:00:00\", \"GueltigAbDatJahr\": 2021, \"GueltigAbDatMM\": 10, \"HerkunftLang\": \"Ausl\\u00e4nder/in\", \"sum_WBev\": 3}, {\"GueltigAbDat\": \"2021-10-07T00:00:00\", \"GueltigAbDatJahr\": 2021, \"GueltigAbDatMM\": 10, \"HerkunftLang\": \"Ausl\\u00e4nder/in\", \"sum_WBev\": 3}, {\"GueltigAbDat\": \"2021-10-18T00:00:00\", \"GueltigAbDatJahr\": 2021, \"GueltigAbDatMM\": 10, \"HerkunftLang\": \"Ausl\\u00e4nder/in\", \"sum_WBev\": 3}, {\"GueltigAbDat\": \"2021-12-10T00:00:00\", \"GueltigAbDatJahr\": 2021, \"GueltigAbDatMM\": 12, \"HerkunftLang\": \"Ausl\\u00e4nder/in\", \"sum_WBev\": 3}, {\"GueltigAbDat\": \"2021-10-25T00:00:00\", \"GueltigAbDatJahr\": 2021, \"GueltigAbDatMM\": 10, \"HerkunftLang\": \"Ausl\\u00e4nder/in\", \"sum_WBev\": 3}, {\"GueltigAbDat\": \"2021-11-28T00:00:00\", \"GueltigAbDatJahr\": 2021, \"GueltigAbDatMM\": 11, \"HerkunftLang\": \"Schweizer/in\", \"sum_WBev\": 3}, {\"GueltigAbDat\": \"2021-09-27T00:00:00\", \"GueltigAbDatJahr\": 2021, \"GueltigAbDatMM\": 9, \"HerkunftLang\": \"Ausl\\u00e4nder/in\", \"sum_WBev\": 3}, {\"GueltigAbDat\": \"2021-10-26T00:00:00\", \"GueltigAbDatJahr\": 2021, \"GueltigAbDatMM\": 10, \"HerkunftLang\": \"Ausl\\u00e4nder/in\", \"sum_WBev\": 3}, {\"GueltigAbDat\": \"2021-10-29T00:00:00\", \"GueltigAbDatJahr\": 2021, \"GueltigAbDatMM\": 10, \"HerkunftLang\": \"Ausl\\u00e4nder/in\", \"sum_WBev\": 3}, {\"GueltigAbDat\": \"2021-10-30T00:00:00\", \"GueltigAbDatJahr\": 2021, \"GueltigAbDatMM\": 10, \"HerkunftLang\": \"Ausl\\u00e4nder/in\", \"sum_WBev\": 3}, {\"GueltigAbDat\": \"2021-11-19T00:00:00\", \"GueltigAbDatJahr\": 2021, \"GueltigAbDatMM\": 11, \"HerkunftLang\": \"Ausl\\u00e4nder/in\", \"sum_WBev\": 3}, {\"GueltigAbDat\": \"2021-11-16T00:00:00\", \"GueltigAbDatJahr\": 2021, \"GueltigAbDatMM\": 11, \"HerkunftLang\": \"Ausl\\u00e4nder/in\", \"sum_WBev\": 3}, {\"GueltigAbDat\": \"2021-11-15T00:00:00\", \"GueltigAbDatJahr\": 2021, \"GueltigAbDatMM\": 11, \"HerkunftLang\": \"Ausl\\u00e4nder/in\", \"sum_WBev\": 3}, {\"GueltigAbDat\": \"2021-11-14T00:00:00\", \"GueltigAbDatJahr\": 2021, \"GueltigAbDatMM\": 11, \"HerkunftLang\": \"Ausl\\u00e4nder/in\", \"sum_WBev\": 3}, {\"GueltigAbDat\": \"2021-09-28T00:00:00\", \"GueltigAbDatJahr\": 2021, \"GueltigAbDatMM\": 9, \"HerkunftLang\": \"Ausl\\u00e4nder/in\", \"sum_WBev\": 3}, {\"GueltigAbDat\": \"2021-10-15T00:00:00\", \"GueltigAbDatJahr\": 2021, \"GueltigAbDatMM\": 10, \"HerkunftLang\": \"Ausl\\u00e4nder/in\", \"sum_WBev\": 3}, {\"GueltigAbDat\": \"2021-09-07T00:00:00\", \"GueltigAbDatJahr\": 2021, \"GueltigAbDatMM\": 9, \"HerkunftLang\": \"Ausl\\u00e4nder/in\", \"sum_WBev\": 3}, {\"GueltigAbDat\": \"2021-09-05T00:00:00\", \"GueltigAbDatJahr\": 2021, \"GueltigAbDatMM\": 9, \"HerkunftLang\": \"Ausl\\u00e4nder/in\", \"sum_WBev\": 3}, {\"GueltigAbDat\": \"2021-12-12T00:00:00\", \"GueltigAbDatJahr\": 2021, \"GueltigAbDatMM\": 12, \"HerkunftLang\": \"Schweizer/in\", \"sum_WBev\": 3}, {\"GueltigAbDat\": \"2021-12-20T00:00:00\", \"GueltigAbDatJahr\": 2021, \"GueltigAbDatMM\": 12, \"HerkunftLang\": \"Ausl\\u00e4nder/in\", \"sum_WBev\": 3}, {\"GueltigAbDat\": \"2021-12-23T00:00:00\", \"GueltigAbDatJahr\": 2021, \"GueltigAbDatMM\": 12, \"HerkunftLang\": \"Ausl\\u00e4nder/in\", \"sum_WBev\": 3}, {\"GueltigAbDat\": \"2021-12-24T00:00:00\", \"GueltigAbDatJahr\": 2021, \"GueltigAbDatMM\": 12, \"HerkunftLang\": \"Ausl\\u00e4nder/in\", \"sum_WBev\": 3}, {\"GueltigAbDat\": \"2021-09-26T00:00:00\", \"GueltigAbDatJahr\": 2021, \"GueltigAbDatMM\": 9, \"HerkunftLang\": \"Ausl\\u00e4nder/in\", \"sum_WBev\": 3}, {\"GueltigAbDat\": \"2021-09-03T00:00:00\", \"GueltigAbDatJahr\": 2021, \"GueltigAbDatMM\": 9, \"HerkunftLang\": \"Ausl\\u00e4nder/in\", \"sum_WBev\": 3}, {\"GueltigAbDat\": \"2021-12-19T00:00:00\", \"GueltigAbDatJahr\": 2021, \"GueltigAbDatMM\": 12, \"HerkunftLang\": \"Ausl\\u00e4nder/in\", \"sum_WBev\": 3}, {\"GueltigAbDat\": \"2021-11-20T00:00:00\", \"GueltigAbDatJahr\": 2021, \"GueltigAbDatMM\": 11, \"HerkunftLang\": \"Ausl\\u00e4nder/in\", \"sum_WBev\": 2}, {\"GueltigAbDat\": \"2022-03-09T00:00:00\", \"GueltigAbDatJahr\": 2022, \"GueltigAbDatMM\": 3, \"HerkunftLang\": \"Ausl\\u00e4nder/in\", \"sum_WBev\": 2}, {\"GueltigAbDat\": \"2021-02-22T00:00:00\", \"GueltigAbDatJahr\": 2021, \"GueltigAbDatMM\": 2, \"HerkunftLang\": \"Ausl\\u00e4nder/in\", \"sum_WBev\": 2}, {\"GueltigAbDat\": \"2021-03-02T00:00:00\", \"GueltigAbDatJahr\": 2021, \"GueltigAbDatMM\": 3, \"HerkunftLang\": \"Ausl\\u00e4nder/in\", \"sum_WBev\": 2}, {\"GueltigAbDat\": \"2022-03-21T00:00:00\", \"GueltigAbDatJahr\": 2022, \"GueltigAbDatMM\": 3, \"HerkunftLang\": \"Ausl\\u00e4nder/in\", \"sum_WBev\": 2}, {\"GueltigAbDat\": \"2022-03-05T00:00:00\", \"GueltigAbDatJahr\": 2022, \"GueltigAbDatMM\": 3, \"HerkunftLang\": \"Ausl\\u00e4nder/in\", \"sum_WBev\": 2}, {\"GueltigAbDat\": \"2021-02-09T00:00:00\", \"GueltigAbDatJahr\": 2021, \"GueltigAbDatMM\": 2, \"HerkunftLang\": \"Ausl\\u00e4nder/in\", \"sum_WBev\": 2}, {\"GueltigAbDat\": \"2022-03-04T00:00:00\", \"GueltigAbDatJahr\": 2022, \"GueltigAbDatMM\": 3, \"HerkunftLang\": \"Ausl\\u00e4nder/in\", \"sum_WBev\": 2}, {\"GueltigAbDat\": \"2022-03-02T00:00:00\", \"GueltigAbDatJahr\": 2022, \"GueltigAbDatMM\": 3, \"HerkunftLang\": \"Ausl\\u00e4nder/in\", \"sum_WBev\": 2}, {\"GueltigAbDat\": \"2021-03-26T00:00:00\", \"GueltigAbDatJahr\": 2021, \"GueltigAbDatMM\": 3, \"HerkunftLang\": \"Ausl\\u00e4nder/in\", \"sum_WBev\": 2}, {\"GueltigAbDat\": \"2021-03-27T00:00:00\", \"GueltigAbDatJahr\": 2021, \"GueltigAbDatMM\": 3, \"HerkunftLang\": \"Ausl\\u00e4nder/in\", \"sum_WBev\": 2}, {\"GueltigAbDat\": \"2021-03-28T00:00:00\", \"GueltigAbDatJahr\": 2021, \"GueltigAbDatMM\": 3, \"HerkunftLang\": \"Ausl\\u00e4nder/in\", \"sum_WBev\": 2}, {\"GueltigAbDat\": \"2022-02-28T00:00:00\", \"GueltigAbDatJahr\": 2022, \"GueltigAbDatMM\": 2, \"HerkunftLang\": \"Ausl\\u00e4nder/in\", \"sum_WBev\": 2}, {\"GueltigAbDat\": \"2021-11-11T00:00:00\", \"GueltigAbDatJahr\": 2021, \"GueltigAbDatMM\": 11, \"HerkunftLang\": \"Ausl\\u00e4nder/in\", \"sum_WBev\": 2}, {\"GueltigAbDat\": \"2022-03-31T00:00:00\", \"GueltigAbDatJahr\": 2022, \"GueltigAbDatMM\": 3, \"HerkunftLang\": \"Ausl\\u00e4nder/in\", \"sum_WBev\": 2}, {\"GueltigAbDat\": \"2022-03-12T00:00:00\", \"GueltigAbDatJahr\": 2022, \"GueltigAbDatMM\": 3, \"HerkunftLang\": \"Ausl\\u00e4nder/in\", \"sum_WBev\": 2}, {\"GueltigAbDat\": \"2020-12-07T00:00:00\", \"GueltigAbDatJahr\": 2020, \"GueltigAbDatMM\": 12, \"HerkunftLang\": \"Ausl\\u00e4nder/in\", \"sum_WBev\": 2}, {\"GueltigAbDat\": \"2021-12-12T00:00:00\", \"GueltigAbDatJahr\": 2021, \"GueltigAbDatMM\": 12, \"HerkunftLang\": \"Ausl\\u00e4nder/in\", \"sum_WBev\": 2}, {\"GueltigAbDat\": \"2021-01-01T00:00:00\", \"GueltigAbDatJahr\": 2021, \"GueltigAbDatMM\": 1, \"HerkunftLang\": \"Ausl\\u00e4nder/in\", \"sum_WBev\": 2}, {\"GueltigAbDat\": \"2020-12-25T00:00:00\", \"GueltigAbDatJahr\": 2020, \"GueltigAbDatMM\": 12, \"HerkunftLang\": \"Ausl\\u00e4nder/in\", \"sum_WBev\": 2}, {\"GueltigAbDat\": \"2021-01-03T00:00:00\", \"GueltigAbDatJahr\": 2021, \"GueltigAbDatMM\": 1, \"HerkunftLang\": \"Ausl\\u00e4nder/in\", \"sum_WBev\": 2}, {\"GueltigAbDat\": \"2020-12-15T00:00:00\", \"GueltigAbDatJahr\": 2020, \"GueltigAbDatMM\": 12, \"HerkunftLang\": \"Ausl\\u00e4nder/in\", \"sum_WBev\": 2}, {\"GueltigAbDat\": \"2021-01-09T00:00:00\", \"GueltigAbDatJahr\": 2021, \"GueltigAbDatMM\": 1, \"HerkunftLang\": \"Schweizer/in\", \"sum_WBev\": 2}, {\"GueltigAbDat\": \"2021-12-17T00:00:00\", \"GueltigAbDatJahr\": 2021, \"GueltigAbDatMM\": 12, \"HerkunftLang\": \"Ausl\\u00e4nder/in\", \"sum_WBev\": 2}, {\"GueltigAbDat\": \"2022-03-18T00:00:00\", \"GueltigAbDatJahr\": 2022, \"GueltigAbDatMM\": 3, \"HerkunftLang\": \"Ausl\\u00e4nder/in\", \"sum_WBev\": 2}, {\"GueltigAbDat\": \"2022-01-02T00:00:00\", \"GueltigAbDatJahr\": 2022, \"GueltigAbDatMM\": 1, \"HerkunftLang\": \"Ausl\\u00e4nder/in\", \"sum_WBev\": 2}, {\"GueltigAbDat\": \"2021-11-06T00:00:00\", \"GueltigAbDatJahr\": 2021, \"GueltigAbDatMM\": 11, \"HerkunftLang\": \"Ausl\\u00e4nder/in\", \"sum_WBev\": 2}, {\"GueltigAbDat\": \"2021-01-19T00:00:00\", \"GueltigAbDatJahr\": 2021, \"GueltigAbDatMM\": 1, \"HerkunftLang\": \"Ausl\\u00e4nder/in\", \"sum_WBev\": 2}, {\"GueltigAbDat\": \"2022-03-25T00:00:00\", \"GueltigAbDatJahr\": 2022, \"GueltigAbDatMM\": 3, \"HerkunftLang\": \"Ausl\\u00e4nder/in\", \"sum_WBev\": 2}, {\"GueltigAbDat\": \"2021-01-21T00:00:00\", \"GueltigAbDatJahr\": 2021, \"GueltigAbDatMM\": 1, \"HerkunftLang\": \"Ausl\\u00e4nder/in\", \"sum_WBev\": 2}, {\"GueltigAbDat\": \"2021-01-23T00:00:00\", \"GueltigAbDatJahr\": 2021, \"GueltigAbDatMM\": 1, \"HerkunftLang\": \"Ausl\\u00e4nder/in\", \"sum_WBev\": 2}, {\"GueltigAbDat\": \"2021-01-28T00:00:00\", \"GueltigAbDatJahr\": 2021, \"GueltigAbDatMM\": 1, \"HerkunftLang\": \"Ausl\\u00e4nder/in\", \"sum_WBev\": 2}, {\"GueltigAbDat\": \"2022-03-26T00:00:00\", \"GueltigAbDatJahr\": 2022, \"GueltigAbDatMM\": 3, \"HerkunftLang\": \"Schweizer/in\", \"sum_WBev\": 2}, {\"GueltigAbDat\": \"2021-02-02T00:00:00\", \"GueltigAbDatJahr\": 2021, \"GueltigAbDatMM\": 2, \"HerkunftLang\": \"Ausl\\u00e4nder/in\", \"sum_WBev\": 2}, {\"GueltigAbDat\": \"2022-03-28T00:00:00\", \"GueltigAbDatJahr\": 2022, \"GueltigAbDatMM\": 3, \"HerkunftLang\": \"Ausl\\u00e4nder/in\", \"sum_WBev\": 2}, {\"GueltigAbDat\": \"2021-11-07T00:00:00\", \"GueltigAbDatJahr\": 2021, \"GueltigAbDatMM\": 11, \"HerkunftLang\": \"Ausl\\u00e4nder/in\", \"sum_WBev\": 2}, {\"GueltigAbDat\": \"2021-09-02T00:00:00\", \"GueltigAbDatJahr\": 2021, \"GueltigAbDatMM\": 9, \"HerkunftLang\": \"Ausl\\u00e4nder/in\", \"sum_WBev\": 2}, {\"GueltigAbDat\": \"2021-10-24T00:00:00\", \"GueltigAbDatJahr\": 2021, \"GueltigAbDatMM\": 10, \"HerkunftLang\": \"Ausl\\u00e4nder/in\", \"sum_WBev\": 2}, {\"GueltigAbDat\": \"2021-05-16T00:00:00\", \"GueltigAbDatJahr\": 2021, \"GueltigAbDatMM\": 5, \"HerkunftLang\": \"Ausl\\u00e4nder/in\", \"sum_WBev\": 2}, {\"GueltigAbDat\": \"2022-01-13T00:00:00\", \"GueltigAbDatJahr\": 2022, \"GueltigAbDatMM\": 1, \"HerkunftLang\": \"Ausl\\u00e4nder/in\", \"sum_WBev\": 2}, {\"GueltigAbDat\": \"2021-12-25T00:00:00\", \"GueltigAbDatJahr\": 2021, \"GueltigAbDatMM\": 12, \"HerkunftLang\": \"Ausl\\u00e4nder/in\", \"sum_WBev\": 2}, {\"GueltigAbDat\": \"2021-06-05T00:00:00\", \"GueltigAbDatJahr\": 2021, \"GueltigAbDatMM\": 6, \"HerkunftLang\": \"Ausl\\u00e4nder/in\", \"sum_WBev\": 2}, {\"GueltigAbDat\": \"2021-10-17T00:00:00\", \"GueltigAbDatJahr\": 2021, \"GueltigAbDatMM\": 10, \"HerkunftLang\": \"Ausl\\u00e4nder/in\", \"sum_WBev\": 2}, {\"GueltigAbDat\": \"2021-10-08T00:00:00\", \"GueltigAbDatJahr\": 2021, \"GueltigAbDatMM\": 10, \"HerkunftLang\": \"Ausl\\u00e4nder/in\", \"sum_WBev\": 2}, {\"GueltigAbDat\": \"2021-06-18T00:00:00\", \"GueltigAbDatJahr\": 2021, \"GueltigAbDatMM\": 6, \"HerkunftLang\": \"Ausl\\u00e4nder/in\", \"sum_WBev\": 2}, {\"GueltigAbDat\": \"2021-06-23T00:00:00\", \"GueltigAbDatJahr\": 2021, \"GueltigAbDatMM\": 6, \"HerkunftLang\": \"Ausl\\u00e4nder/in\", \"sum_WBev\": 2}, {\"GueltigAbDat\": \"2021-06-28T00:00:00\", \"GueltigAbDatJahr\": 2021, \"GueltigAbDatMM\": 6, \"HerkunftLang\": \"Ausl\\u00e4nder/in\", \"sum_WBev\": 2}, {\"GueltigAbDat\": \"2021-07-08T00:00:00\", \"GueltigAbDatJahr\": 2021, \"GueltigAbDatMM\": 7, \"HerkunftLang\": \"Ausl\\u00e4nder/in\", \"sum_WBev\": 2}, {\"GueltigAbDat\": \"2022-01-19T00:00:00\", \"GueltigAbDatJahr\": 2022, \"GueltigAbDatMM\": 1, \"HerkunftLang\": \"Ausl\\u00e4nder/in\", \"sum_WBev\": 2}, {\"GueltigAbDat\": \"2021-07-16T00:00:00\", \"GueltigAbDatJahr\": 2021, \"GueltigAbDatMM\": 7, \"HerkunftLang\": \"Ausl\\u00e4nder/in\", \"sum_WBev\": 2}, {\"GueltigAbDat\": \"2021-09-20T00:00:00\", \"GueltigAbDatJahr\": 2021, \"GueltigAbDatMM\": 9, \"HerkunftLang\": \"Ausl\\u00e4nder/in\", \"sum_WBev\": 2}, {\"GueltigAbDat\": \"2021-08-01T00:00:00\", \"GueltigAbDatJahr\": 2021, \"GueltigAbDatMM\": 8, \"HerkunftLang\": \"Ausl\\u00e4nder/in\", \"sum_WBev\": 2}, {\"GueltigAbDat\": \"2021-09-18T00:00:00\", \"GueltigAbDatJahr\": 2021, \"GueltigAbDatMM\": 9, \"HerkunftLang\": \"Ausl\\u00e4nder/in\", \"sum_WBev\": 2}, {\"GueltigAbDat\": \"2021-09-10T00:00:00\", \"GueltigAbDatJahr\": 2021, \"GueltigAbDatMM\": 9, \"HerkunftLang\": \"Ausl\\u00e4nder/in\", \"sum_WBev\": 2}, {\"GueltigAbDat\": \"2021-08-15T00:00:00\", \"GueltigAbDatJahr\": 2021, \"GueltigAbDatMM\": 8, \"HerkunftLang\": \"Ausl\\u00e4nder/in\", \"sum_WBev\": 2}, {\"GueltigAbDat\": \"2021-08-21T00:00:00\", \"GueltigAbDatJahr\": 2021, \"GueltigAbDatMM\": 8, \"HerkunftLang\": \"Ausl\\u00e4nder/in\", \"sum_WBev\": 2}, {\"GueltigAbDat\": \"2021-08-22T00:00:00\", \"GueltigAbDatJahr\": 2021, \"GueltigAbDatMM\": 8, \"HerkunftLang\": \"Ausl\\u00e4nder/in\", \"sum_WBev\": 2}, {\"GueltigAbDat\": \"2022-01-25T00:00:00\", \"GueltigAbDatJahr\": 2022, \"GueltigAbDatMM\": 1, \"HerkunftLang\": \"Ausl\\u00e4nder/in\", \"sum_WBev\": 2}, {\"GueltigAbDat\": \"2021-05-21T00:00:00\", \"GueltigAbDatJahr\": 2021, \"GueltigAbDatMM\": 5, \"HerkunftLang\": \"Ausl\\u00e4nder/in\", \"sum_WBev\": 2}, {\"GueltigAbDat\": \"2021-11-02T00:00:00\", \"GueltigAbDatJahr\": 2021, \"GueltigAbDatMM\": 11, \"HerkunftLang\": \"Ausl\\u00e4nder/in\", \"sum_WBev\": 2}, {\"GueltigAbDat\": \"2022-01-12T00:00:00\", \"GueltigAbDatJahr\": 2022, \"GueltigAbDatMM\": 1, \"HerkunftLang\": \"Ausl\\u00e4nder/in\", \"sum_WBev\": 2}, {\"GueltigAbDat\": \"2022-02-16T00:00:00\", \"GueltigAbDatJahr\": 2022, \"GueltigAbDatMM\": 2, \"HerkunftLang\": \"Ausl\\u00e4nder/in\", \"sum_WBev\": 2}, {\"GueltigAbDat\": \"2021-05-03T00:00:00\", \"GueltigAbDatJahr\": 2021, \"GueltigAbDatMM\": 5, \"HerkunftLang\": \"Ausl\\u00e4nder/in\", \"sum_WBev\": 2}, {\"GueltigAbDat\": \"2021-11-01T00:00:00\", \"GueltigAbDatJahr\": 2021, \"GueltigAbDatMM\": 11, \"HerkunftLang\": \"Ausl\\u00e4nder/in\", \"sum_WBev\": 2}, {\"GueltigAbDat\": \"2021-05-06T00:00:00\", \"GueltigAbDatJahr\": 2021, \"GueltigAbDatMM\": 5, \"HerkunftLang\": \"Ausl\\u00e4nder/in\", \"sum_WBev\": 2}, {\"GueltigAbDat\": \"2021-05-05T00:00:00\", \"GueltigAbDatJahr\": 2021, \"GueltigAbDatMM\": 5, \"HerkunftLang\": \"Ausl\\u00e4nder/in\", \"sum_WBev\": 2}, {\"GueltigAbDat\": \"2021-04-25T00:00:00\", \"GueltigAbDatJahr\": 2021, \"GueltigAbDatMM\": 4, \"HerkunftLang\": \"Ausl\\u00e4nder/in\", \"sum_WBev\": 2}, {\"GueltigAbDat\": \"2022-02-22T00:00:00\", \"GueltigAbDatJahr\": 2022, \"GueltigAbDatMM\": 2, \"HerkunftLang\": \"Ausl\\u00e4nder/in\", \"sum_WBev\": 2}, {\"GueltigAbDat\": \"2021-05-04T00:00:00\", \"GueltigAbDatJahr\": 2021, \"GueltigAbDatMM\": 5, \"HerkunftLang\": \"Ausl\\u00e4nder/in\", \"sum_WBev\": 2}]}}, {\"mode\": \"vega-lite\"});\n",
       "</script>"
      ],
      "text/plain": [
       "alt.LayerChart(...)"
      ]
     },
     "execution_count": 37,
     "metadata": {},
     "output_type": "execute_result"
    }
   ],
   "source": [
    "myTitle=\"Tägliche Geburten nach Herkunft\"\n",
    "\n",
    "highlight = alt.selection(type='single', on='mouseover',\n",
    "                          fields=['HerkunftLang'], nearest=True)\n",
    "#x='date:StichtagDatJahr',\n",
    "base = alt.Chart(myAgg.reset_index().query('sum_WBev>1'), title=myTitle).encode(\n",
    "    x=alt.X('GueltigAbDat', axis=alt.Axis(title='Jahr'))# , axis=alt.Axis(format='%', title='percentage')\n",
    "    , y=alt.X('sum_WBev', axis=alt.Axis(title='Anz. Personen'))\n",
    "    , color=alt.Color('HerkunftLang', legend=alt.Legend(title=\"Herkunft\"))  \n",
    "    ,tooltip=['GueltigAbDat', 'HerkunftLang', 'sum_WBev']    \n",
    ")\n",
    "points = base.mark_circle().encode(\n",
    "    opacity=alt.value(0.75)\n",
    ").add_selection(\n",
    "    highlight\n",
    ").properties(\n",
    "    width=900 , height=350\n",
    ")\n",
    "lines = base.mark_line().encode(\n",
    "    size=alt.condition(~highlight, alt.value(0.5), alt.value(4))\n",
    ").interactive()\n",
    "\n",
    "lines + points    \n"
   ]
  },
  {
   "cell_type": "code",
   "execution_count": 38,
   "metadata": {},
   "outputs": [
    {
     "data": {
      "text/plain": [
       "GueltigAbDatJahr     int64\n",
       "GueltigAbDatMM       int64\n",
       "GueltigAbDatDD       int64\n",
       "SexCd                int64\n",
       "SexLang             object\n",
       "HerkunftCd           int64\n",
       "HerkunftLang        object\n",
       "KreisCd              int64\n",
       "KreisLang           object\n",
       "QuarCd               int64\n",
       "QuarLang            object\n",
       "DatenstandCd        object\n",
       "DatenstandLang      object\n",
       "AnzGebuWir           int64\n",
       "dtype: object"
      ]
     },
     "execution_count": 38,
     "metadata": {},
     "output_type": "execute_result"
    }
   ],
   "source": [
    "data2betested.dtypes"
   ]
  },
  {
   "cell_type": "markdown",
   "metadata": {},
   "source": [
    "### Daten in interaktiver Treemap zeigen\n",
    "Dazu gibt es eine sehr nützliche Webseite https://plotly.com/python/treemaps/\n",
    "Zu Farbskalen, siehe: https://plotly.com/python/builtin-colorscales/"
   ]
  },
  {
   "cell_type": "markdown",
   "metadata": {},
   "source": [
    "#### Aktuelle Geburten nach Stadtkreis, Quartier, Geschlecht und Herkunft"
   ]
  },
  {
   "cell_type": "code",
   "execution_count": 40,
   "metadata": {},
   "outputs": [
    {
     "data": {
      "text/html": [
       "<div>\n",
       "<style scoped>\n",
       "    .dataframe tbody tr th:only-of-type {\n",
       "        vertical-align: middle;\n",
       "    }\n",
       "\n",
       "    .dataframe tbody tr th {\n",
       "        vertical-align: top;\n",
       "    }\n",
       "\n",
       "    .dataframe thead th {\n",
       "        text-align: right;\n",
       "    }\n",
       "</style>\n",
       "<table border=\"1\" class=\"dataframe\">\n",
       "  <thead>\n",
       "    <tr style=\"text-align: right;\">\n",
       "      <th></th>\n",
       "      <th>GueltigAbDat</th>\n",
       "      <th>GueltigAbDatJahr</th>\n",
       "      <th>GueltigAbDatMM</th>\n",
       "      <th>KreisLang</th>\n",
       "      <th>QuarLang</th>\n",
       "      <th>HerkunftLang</th>\n",
       "      <th>SexLang</th>\n",
       "      <th>sum_WBev</th>\n",
       "    </tr>\n",
       "  </thead>\n",
       "  <tbody>\n",
       "    <tr>\n",
       "      <th>0</th>\n",
       "      <td>2022-03-14</td>\n",
       "      <td>2022</td>\n",
       "      <td>3</td>\n",
       "      <td>Kreis 11</td>\n",
       "      <td>Oerlikon</td>\n",
       "      <td>Schweizer/in</td>\n",
       "      <td>weiblich</td>\n",
       "      <td>3</td>\n",
       "    </tr>\n",
       "    <tr>\n",
       "      <th>1</th>\n",
       "      <td>2022-03-02</td>\n",
       "      <td>2022</td>\n",
       "      <td>3</td>\n",
       "      <td>Kreis 3</td>\n",
       "      <td>Sihlfeld</td>\n",
       "      <td>Schweizer/in</td>\n",
       "      <td>weiblich</td>\n",
       "      <td>3</td>\n",
       "    </tr>\n",
       "  </tbody>\n",
       "</table>\n",
       "</div>"
      ],
      "text/plain": [
       "  GueltigAbDat  GueltigAbDatJahr  GueltigAbDatMM KreisLang  QuarLang  HerkunftLang   SexLang  \\\n",
       "0   2022-03-14              2022               3  Kreis 11  Oerlikon  Schweizer/in  weiblich   \n",
       "1   2022-03-02              2022               3   Kreis 3  Sihlfeld  Schweizer/in  weiblich   \n",
       "\n",
       "   sum_WBev  \n",
       "0         3  \n",
       "1         3  "
      ]
     },
     "execution_count": 40,
     "metadata": {},
     "output_type": "execute_result"
    }
   ],
   "source": [
    "myTreemapAgg = data2betested.loc[latest_year_month]  \\\n",
    "    .groupby(['GueltigAbDat','GueltigAbDatJahr', 'GueltigAbDatMM', 'KreisLang','QuarLang','HerkunftLang', 'SexLang' ]) \\\n",
    "    .agg(sum_WBev=('AnzGebuWir', 'sum')) \\\n",
    "    .sort_values('sum_WBev', ascending=False) \n",
    "\n",
    "myTreemapAgg.reset_index().head(2)"
   ]
  },
  {
   "cell_type": "code",
   "execution_count": 42,
   "metadata": {},
   "outputs": [
    {
     "data": {
      "application/vnd.plotly.v1+json": {
       "config": {
        "plotlyServerURL": "https://plot.ly"
       },
       "data": [
        {
         "branchvalues": "total",
         "customdata": [
          [
           1
          ],
          [
           2
          ],
          [
           1
          ],
          [
           1
          ],
          [
           1
          ],
          [
           1
          ],
          [
           1
          ],
          [
           1
          ],
          [
           1.5
          ],
          [
           1
          ],
          [
           1
          ],
          [
           1
          ],
          [
           1
          ],
          [
           1
          ],
          [
           1.3333333333333333
          ],
          [
           1
          ],
          [
           1
          ],
          [
           1.2857142857142858
          ],
          [
           1
          ],
          [
           1
          ],
          [
           1
          ],
          [
           2
          ],
          [
           1
          ],
          [
           1
          ],
          [
           1
          ],
          [
           1
          ],
          [
           1
          ],
          [
           1.5714285714285714
          ],
          [
           1
          ],
          [
           1
          ],
          [
           1
          ],
          [
           1
          ],
          [
           1.6666666666666667
          ],
          [
           1
          ],
          [
           1
          ],
          [
           1.2857142857142858
          ],
          [
           1
          ],
          [
           1.4
          ],
          [
           1
          ],
          [
           1
          ],
          [
           1
          ],
          [
           1
          ],
          [
           1
          ],
          [
           1.5
          ],
          [
           1
          ],
          [
           1
          ],
          [
           1
          ],
          [
           1
          ],
          [
           1
          ],
          [
           1
          ],
          [
           1
          ],
          [
           1
          ],
          [
           1
          ],
          [
           1
          ],
          [
           1
          ],
          [
           1
          ],
          [
           1
          ],
          [
           1
          ],
          [
           1
          ],
          [
           1
          ],
          [
           1
          ],
          [
           1.6666666666666667
          ],
          [
           1
          ],
          [
           1.4
          ],
          [
           1.3333333333333333
          ],
          [
           1
          ],
          [
           1
          ],
          [
           1
          ],
          [
           1
          ],
          [
           1
          ],
          [
           1
          ],
          [
           1
          ],
          [
           1
          ],
          [
           1
          ],
          [
           1.2857142857142858
          ],
          [
           1
          ],
          [
           1
          ],
          [
           1.8888888888888888
          ],
          [
           1
          ],
          [
           1
          ],
          [
           1
          ],
          [
           1
          ],
          [
           1.6666666666666667
          ],
          [
           1.5714285714285714
          ],
          [
           1.1818181818181819
          ],
          [
           1
          ],
          [
           1
          ],
          [
           1
          ],
          [
           1.2222222222222223
          ],
          [
           1.5
          ],
          [
           1
          ],
          [
           1
          ],
          [
           1.2857142857142858
          ],
          [
           1
          ],
          [
           1
          ],
          [
           1
          ],
          [
           1
          ],
          [
           1
          ],
          [
           1
          ],
          [
           1
          ],
          [
           1
          ],
          [
           1
          ],
          [
           1
          ],
          [
           1
          ],
          [
           1
          ],
          [
           1.2857142857142858
          ],
          [
           1
          ],
          [
           1
          ],
          [
           1
          ],
          [
           1
          ],
          [
           1
          ],
          [
           1.4
          ],
          [
           1.2857142857142858
          ],
          [
           1.1818181818181819
          ],
          [
           1.1333333333333333
          ],
          [
           1.1428571428571428
          ],
          [
           1
          ],
          [
           1
          ],
          [
           1
          ],
          [
           1
          ],
          [
           1.5714285714285714
          ],
          [
           1
          ],
          [
           1
          ],
          [
           1
          ],
          [
           1
          ],
          [
           1
          ],
          [
           1.4285714285714286
          ],
          [
           1
          ],
          [
           1
          ],
          [
           1
          ],
          [
           1
          ],
          [
           1.8
          ],
          [
           1
          ],
          [
           1
          ],
          [
           1
          ],
          [
           1.1538461538461537
          ],
          [
           1.5
          ],
          [
           1.5
          ],
          [
           1.1333333333333333
          ],
          [
           1
          ],
          [
           1
          ],
          [
           1
          ],
          [
           1
          ],
          [
           1.1428571428571428
          ],
          [
           1.3636363636363635
          ],
          [
           1.1538461538461537
          ],
          [
           1.1
          ],
          [
           1.1904761904761905
          ],
          [
           1
          ],
          [
           1
          ],
          [
           1
          ],
          [
           1
          ],
          [
           1.5714285714285714
          ],
          [
           1
          ],
          [
           1
          ],
          [
           1
          ],
          [
           1
          ],
          [
           1
          ],
          [
           1.3
          ],
          [
           1
          ],
          [
           1
          ],
          [
           1
          ],
          [
           1
          ],
          [
           1.7058823529411764
          ],
          [
           1
          ],
          [
           1
          ],
          [
           1
          ],
          [
           1.2
          ],
          [
           1.5
          ],
          [
           1.48
          ],
          [
           1.1176470588235294
          ],
          [
           1
          ],
          [
           1
          ],
          [
           1
          ],
          [
           1
          ],
          [
           1.2105263157894737
          ],
          [
           1
          ],
          [
           1.1875
          ],
          [
           1.4166666666666667
          ],
          [
           1
          ],
          [
           1.1379310344827587
          ],
          [
           1.3461538461538463
          ],
          [
           1
          ],
          [
           1
          ],
          [
           1.1
          ],
          [
           1
          ],
          [
           1.1818181818181819
          ],
          [
           1.1764705882352942
          ],
          [
           1.204225352112676
          ]
         ],
         "domain": {
          "x": [
           0,
           1
          ],
          "y": [
           0,
           1
          ]
         },
         "hovertemplate": "labels=%{label}<br>sum_WBev_sum=%{value}<br>parent=%{parent}<br>id=%{id}<br>sum_WBev=%{color}<extra></extra>",
         "ids": [
          "Aktuelle Geburten nach Stadtkreis, Quartier, Alter und Herkunft/Kreis 3/Alt-Wiedikon/Ausländer/in/männlich",
          "Aktuelle Geburten nach Stadtkreis, Quartier, Alter und Herkunft/Kreis 9/Altstetten/Ausländer/in/männlich",
          "Aktuelle Geburten nach Stadtkreis, Quartier, Alter und Herkunft/Kreis 7/Fluntern/Ausländer/in/männlich",
          "Aktuelle Geburten nach Stadtkreis, Quartier, Alter und Herkunft/Kreis 5/Gewerbeschule/Ausländer/in/männlich",
          "Aktuelle Geburten nach Stadtkreis, Quartier, Alter und Herkunft/Kreis 12/Hirzenbach/Ausländer/in/männlich",
          "Aktuelle Geburten nach Stadtkreis, Quartier, Alter und Herkunft/Kreis 10/Höngg/Ausländer/in/männlich",
          "Aktuelle Geburten nach Stadtkreis, Quartier, Alter und Herkunft/Kreis 6/Oberstrass/Ausländer/in/männlich",
          "Aktuelle Geburten nach Stadtkreis, Quartier, Alter und Herkunft/Kreis 11/Oerlikon/Ausländer/in/männlich",
          "Aktuelle Geburten nach Stadtkreis, Quartier, Alter und Herkunft/Kreis 11/Seebach/Ausländer/in/männlich",
          "Aktuelle Geburten nach Stadtkreis, Quartier, Alter und Herkunft/Kreis 3/Sihlfeld/Ausländer/in/männlich",
          "Aktuelle Geburten nach Stadtkreis, Quartier, Alter und Herkunft/Kreis 8/Weinegg/Ausländer/in/männlich",
          "Aktuelle Geburten nach Stadtkreis, Quartier, Alter und Herkunft/Kreis 10/Wipkingen/Ausländer/in/männlich",
          "Aktuelle Geburten nach Stadtkreis, Quartier, Alter und Herkunft/Kreis 7/Witikon/Ausländer/in/männlich",
          "Aktuelle Geburten nach Stadtkreis, Quartier, Alter und Herkunft/Kreis 2/Wollishofen/Ausländer/in/männlich",
          "Aktuelle Geburten nach Stadtkreis, Quartier, Alter und Herkunft/Kreis 11/Affoltern/Schweizer/in/männlich",
          "Aktuelle Geburten nach Stadtkreis, Quartier, Alter und Herkunft/Kreis 9/Albisrieden/Schweizer/in/männlich",
          "Aktuelle Geburten nach Stadtkreis, Quartier, Alter und Herkunft/Kreis 3/Alt-Wiedikon/Schweizer/in/männlich",
          "Aktuelle Geburten nach Stadtkreis, Quartier, Alter und Herkunft/Kreis 9/Altstetten/Schweizer/in/männlich",
          "Aktuelle Geburten nach Stadtkreis, Quartier, Alter und Herkunft/Kreis 2/Enge/Schweizer/in/männlich",
          "Aktuelle Geburten nach Stadtkreis, Quartier, Alter und Herkunft/Kreis 5/Escher Wyss/Schweizer/in/männlich",
          "Aktuelle Geburten nach Stadtkreis, Quartier, Alter und Herkunft/Kreis 7/Fluntern/Schweizer/in/männlich",
          "Aktuelle Geburten nach Stadtkreis, Quartier, Alter und Herkunft/Kreis 3/Friesenberg/Schweizer/in/männlich",
          "Aktuelle Geburten nach Stadtkreis, Quartier, Alter und Herkunft/Kreis 5/Gewerbeschule/Schweizer/in/männlich",
          "Aktuelle Geburten nach Stadtkreis, Quartier, Alter und Herkunft/Kreis 4/Hard/Schweizer/in/männlich",
          "Aktuelle Geburten nach Stadtkreis, Quartier, Alter und Herkunft/Kreis 7/Hirslanden/Schweizer/in/männlich",
          "Aktuelle Geburten nach Stadtkreis, Quartier, Alter und Herkunft/Kreis 12/Hirzenbach/Schweizer/in/männlich",
          "Aktuelle Geburten nach Stadtkreis, Quartier, Alter und Herkunft/Kreis 7/Hottingen/Schweizer/in/männlich",
          "Aktuelle Geburten nach Stadtkreis, Quartier, Alter und Herkunft/Kreis 10/Höngg/Schweizer/in/männlich",
          "Aktuelle Geburten nach Stadtkreis, Quartier, Alter und Herkunft/Kreis 4/Langstrasse/Schweizer/in/männlich",
          "Aktuelle Geburten nach Stadtkreis, Quartier, Alter und Herkunft/Kreis 2/Leimbach/Schweizer/in/männlich",
          "Aktuelle Geburten nach Stadtkreis, Quartier, Alter und Herkunft/Kreis 8/Mühlebach/Schweizer/in/männlich",
          "Aktuelle Geburten nach Stadtkreis, Quartier, Alter und Herkunft/Kreis 6/Oberstrass/Schweizer/in/männlich",
          "Aktuelle Geburten nach Stadtkreis, Quartier, Alter und Herkunft/Kreis 11/Oerlikon/Schweizer/in/männlich",
          "Aktuelle Geburten nach Stadtkreis, Quartier, Alter und Herkunft/Kreis 12/Saatlen/Schweizer/in/männlich",
          "Aktuelle Geburten nach Stadtkreis, Quartier, Alter und Herkunft/Kreis 12/Schwamendingen-Mitte/Schweizer/in/männlich",
          "Aktuelle Geburten nach Stadtkreis, Quartier, Alter und Herkunft/Kreis 11/Seebach/Schweizer/in/männlich",
          "Aktuelle Geburten nach Stadtkreis, Quartier, Alter und Herkunft/Kreis 8/Seefeld/Schweizer/in/männlich",
          "Aktuelle Geburten nach Stadtkreis, Quartier, Alter und Herkunft/Kreis 3/Sihlfeld/Schweizer/in/männlich",
          "Aktuelle Geburten nach Stadtkreis, Quartier, Alter und Herkunft/Kreis 6/Unterstrass/Schweizer/in/männlich",
          "Aktuelle Geburten nach Stadtkreis, Quartier, Alter und Herkunft/Kreis 4/Werd/Schweizer/in/männlich",
          "Aktuelle Geburten nach Stadtkreis, Quartier, Alter und Herkunft/Kreis 10/Wipkingen/Schweizer/in/männlich",
          "Aktuelle Geburten nach Stadtkreis, Quartier, Alter und Herkunft/Kreis 7/Witikon/Schweizer/in/männlich",
          "Aktuelle Geburten nach Stadtkreis, Quartier, Alter und Herkunft/Kreis 2/Wollishofen/Schweizer/in/männlich",
          "Aktuelle Geburten nach Stadtkreis, Quartier, Alter und Herkunft/Kreis 11/Affoltern/Ausländer/in/weiblich",
          "Aktuelle Geburten nach Stadtkreis, Quartier, Alter und Herkunft/Kreis 9/Albisrieden/Ausländer/in/weiblich",
          "Aktuelle Geburten nach Stadtkreis, Quartier, Alter und Herkunft/Kreis 3/Alt-Wiedikon/Ausländer/in/weiblich",
          "Aktuelle Geburten nach Stadtkreis, Quartier, Alter und Herkunft/Kreis 9/Altstetten/Ausländer/in/weiblich",
          "Aktuelle Geburten nach Stadtkreis, Quartier, Alter und Herkunft/Kreis 2/Enge/Ausländer/in/weiblich",
          "Aktuelle Geburten nach Stadtkreis, Quartier, Alter und Herkunft/Kreis 7/Fluntern/Ausländer/in/weiblich",
          "Aktuelle Geburten nach Stadtkreis, Quartier, Alter und Herkunft/Kreis 7/Hirslanden/Ausländer/in/weiblich",
          "Aktuelle Geburten nach Stadtkreis, Quartier, Alter und Herkunft/Kreis 12/Hirzenbach/Ausländer/in/weiblich",
          "Aktuelle Geburten nach Stadtkreis, Quartier, Alter und Herkunft/Kreis 7/Hottingen/Ausländer/in/weiblich",
          "Aktuelle Geburten nach Stadtkreis, Quartier, Alter und Herkunft/Kreis 10/Höngg/Ausländer/in/weiblich",
          "Aktuelle Geburten nach Stadtkreis, Quartier, Alter und Herkunft/Kreis 2/Leimbach/Ausländer/in/weiblich",
          "Aktuelle Geburten nach Stadtkreis, Quartier, Alter und Herkunft/Kreis 11/Oerlikon/Ausländer/in/weiblich",
          "Aktuelle Geburten nach Stadtkreis, Quartier, Alter und Herkunft/Kreis 1/Rathaus/Ausländer/in/weiblich",
          "Aktuelle Geburten nach Stadtkreis, Quartier, Alter und Herkunft/Kreis 12/Schwamendingen-Mitte/Ausländer/in/weiblich",
          "Aktuelle Geburten nach Stadtkreis, Quartier, Alter und Herkunft/Kreis 11/Seebach/Ausländer/in/weiblich",
          "Aktuelle Geburten nach Stadtkreis, Quartier, Alter und Herkunft/Kreis 6/Unterstrass/Ausländer/in/weiblich",
          "Aktuelle Geburten nach Stadtkreis, Quartier, Alter und Herkunft/Kreis 8/Weinegg/Ausländer/in/weiblich",
          "Aktuelle Geburten nach Stadtkreis, Quartier, Alter und Herkunft/Kreis 10/Wipkingen/Ausländer/in/weiblich",
          "Aktuelle Geburten nach Stadtkreis, Quartier, Alter und Herkunft/Kreis 2/Wollishofen/Ausländer/in/weiblich",
          "Aktuelle Geburten nach Stadtkreis, Quartier, Alter und Herkunft/Kreis 11/Affoltern/Schweizer/in/weiblich",
          "Aktuelle Geburten nach Stadtkreis, Quartier, Alter und Herkunft/Kreis 9/Albisrieden/Schweizer/in/weiblich",
          "Aktuelle Geburten nach Stadtkreis, Quartier, Alter und Herkunft/Kreis 3/Alt-Wiedikon/Schweizer/in/weiblich",
          "Aktuelle Geburten nach Stadtkreis, Quartier, Alter und Herkunft/Kreis 9/Altstetten/Schweizer/in/weiblich",
          "Aktuelle Geburten nach Stadtkreis, Quartier, Alter und Herkunft/Kreis 1/City/Schweizer/in/weiblich",
          "Aktuelle Geburten nach Stadtkreis, Quartier, Alter und Herkunft/Kreis 2/Enge/Schweizer/in/weiblich",
          "Aktuelle Geburten nach Stadtkreis, Quartier, Alter und Herkunft/Kreis 3/Friesenberg/Schweizer/in/weiblich",
          "Aktuelle Geburten nach Stadtkreis, Quartier, Alter und Herkunft/Kreis 5/Gewerbeschule/Schweizer/in/weiblich",
          "Aktuelle Geburten nach Stadtkreis, Quartier, Alter und Herkunft/Kreis 4/Hard/Schweizer/in/weiblich",
          "Aktuelle Geburten nach Stadtkreis, Quartier, Alter und Herkunft/Kreis 7/Hirslanden/Schweizer/in/weiblich",
          "Aktuelle Geburten nach Stadtkreis, Quartier, Alter und Herkunft/Kreis 12/Hirzenbach/Schweizer/in/weiblich",
          "Aktuelle Geburten nach Stadtkreis, Quartier, Alter und Herkunft/Kreis 7/Hottingen/Schweizer/in/weiblich",
          "Aktuelle Geburten nach Stadtkreis, Quartier, Alter und Herkunft/Kreis 10/Höngg/Schweizer/in/weiblich",
          "Aktuelle Geburten nach Stadtkreis, Quartier, Alter und Herkunft/Kreis 4/Langstrasse/Schweizer/in/weiblich",
          "Aktuelle Geburten nach Stadtkreis, Quartier, Alter und Herkunft/Kreis 2/Leimbach/Schweizer/in/weiblich",
          "Aktuelle Geburten nach Stadtkreis, Quartier, Alter und Herkunft/Kreis 11/Oerlikon/Schweizer/in/weiblich",
          "Aktuelle Geburten nach Stadtkreis, Quartier, Alter und Herkunft/Kreis 1/Rathaus/Schweizer/in/weiblich",
          "Aktuelle Geburten nach Stadtkreis, Quartier, Alter und Herkunft/Kreis 12/Saatlen/Schweizer/in/weiblich",
          "Aktuelle Geburten nach Stadtkreis, Quartier, Alter und Herkunft/Kreis 12/Schwamendingen-Mitte/Schweizer/in/weiblich",
          "Aktuelle Geburten nach Stadtkreis, Quartier, Alter und Herkunft/Kreis 11/Seebach/Schweizer/in/weiblich",
          "Aktuelle Geburten nach Stadtkreis, Quartier, Alter und Herkunft/Kreis 8/Seefeld/Schweizer/in/weiblich",
          "Aktuelle Geburten nach Stadtkreis, Quartier, Alter und Herkunft/Kreis 3/Sihlfeld/Schweizer/in/weiblich",
          "Aktuelle Geburten nach Stadtkreis, Quartier, Alter und Herkunft/Kreis 6/Unterstrass/Schweizer/in/weiblich",
          "Aktuelle Geburten nach Stadtkreis, Quartier, Alter und Herkunft/Kreis 8/Weinegg/Schweizer/in/weiblich",
          "Aktuelle Geburten nach Stadtkreis, Quartier, Alter und Herkunft/Kreis 10/Wipkingen/Schweizer/in/weiblich",
          "Aktuelle Geburten nach Stadtkreis, Quartier, Alter und Herkunft/Kreis 7/Witikon/Schweizer/in/weiblich",
          "Aktuelle Geburten nach Stadtkreis, Quartier, Alter und Herkunft/Kreis 2/Wollishofen/Schweizer/in/weiblich",
          "Aktuelle Geburten nach Stadtkreis, Quartier, Alter und Herkunft/Kreis 11/Affoltern/Ausländer/in",
          "Aktuelle Geburten nach Stadtkreis, Quartier, Alter und Herkunft/Kreis 9/Albisrieden/Ausländer/in",
          "Aktuelle Geburten nach Stadtkreis, Quartier, Alter und Herkunft/Kreis 3/Alt-Wiedikon/Ausländer/in",
          "Aktuelle Geburten nach Stadtkreis, Quartier, Alter und Herkunft/Kreis 9/Altstetten/Ausländer/in",
          "Aktuelle Geburten nach Stadtkreis, Quartier, Alter und Herkunft/Kreis 2/Enge/Ausländer/in",
          "Aktuelle Geburten nach Stadtkreis, Quartier, Alter und Herkunft/Kreis 7/Fluntern/Ausländer/in",
          "Aktuelle Geburten nach Stadtkreis, Quartier, Alter und Herkunft/Kreis 5/Gewerbeschule/Ausländer/in",
          "Aktuelle Geburten nach Stadtkreis, Quartier, Alter und Herkunft/Kreis 7/Hirslanden/Ausländer/in",
          "Aktuelle Geburten nach Stadtkreis, Quartier, Alter und Herkunft/Kreis 12/Hirzenbach/Ausländer/in",
          "Aktuelle Geburten nach Stadtkreis, Quartier, Alter und Herkunft/Kreis 7/Hottingen/Ausländer/in",
          "Aktuelle Geburten nach Stadtkreis, Quartier, Alter und Herkunft/Kreis 10/Höngg/Ausländer/in",
          "Aktuelle Geburten nach Stadtkreis, Quartier, Alter und Herkunft/Kreis 2/Leimbach/Ausländer/in",
          "Aktuelle Geburten nach Stadtkreis, Quartier, Alter und Herkunft/Kreis 6/Oberstrass/Ausländer/in",
          "Aktuelle Geburten nach Stadtkreis, Quartier, Alter und Herkunft/Kreis 11/Oerlikon/Ausländer/in",
          "Aktuelle Geburten nach Stadtkreis, Quartier, Alter und Herkunft/Kreis 1/Rathaus/Ausländer/in",
          "Aktuelle Geburten nach Stadtkreis, Quartier, Alter und Herkunft/Kreis 12/Schwamendingen-Mitte/Ausländer/in",
          "Aktuelle Geburten nach Stadtkreis, Quartier, Alter und Herkunft/Kreis 11/Seebach/Ausländer/in",
          "Aktuelle Geburten nach Stadtkreis, Quartier, Alter und Herkunft/Kreis 3/Sihlfeld/Ausländer/in",
          "Aktuelle Geburten nach Stadtkreis, Quartier, Alter und Herkunft/Kreis 6/Unterstrass/Ausländer/in",
          "Aktuelle Geburten nach Stadtkreis, Quartier, Alter und Herkunft/Kreis 8/Weinegg/Ausländer/in",
          "Aktuelle Geburten nach Stadtkreis, Quartier, Alter und Herkunft/Kreis 10/Wipkingen/Ausländer/in",
          "Aktuelle Geburten nach Stadtkreis, Quartier, Alter und Herkunft/Kreis 7/Witikon/Ausländer/in",
          "Aktuelle Geburten nach Stadtkreis, Quartier, Alter und Herkunft/Kreis 2/Wollishofen/Ausländer/in",
          "Aktuelle Geburten nach Stadtkreis, Quartier, Alter und Herkunft/Kreis 11/Affoltern/Schweizer/in",
          "Aktuelle Geburten nach Stadtkreis, Quartier, Alter und Herkunft/Kreis 9/Albisrieden/Schweizer/in",
          "Aktuelle Geburten nach Stadtkreis, Quartier, Alter und Herkunft/Kreis 3/Alt-Wiedikon/Schweizer/in",
          "Aktuelle Geburten nach Stadtkreis, Quartier, Alter und Herkunft/Kreis 9/Altstetten/Schweizer/in",
          "Aktuelle Geburten nach Stadtkreis, Quartier, Alter und Herkunft/Kreis 1/City/Schweizer/in",
          "Aktuelle Geburten nach Stadtkreis, Quartier, Alter und Herkunft/Kreis 2/Enge/Schweizer/in",
          "Aktuelle Geburten nach Stadtkreis, Quartier, Alter und Herkunft/Kreis 5/Escher Wyss/Schweizer/in",
          "Aktuelle Geburten nach Stadtkreis, Quartier, Alter und Herkunft/Kreis 7/Fluntern/Schweizer/in",
          "Aktuelle Geburten nach Stadtkreis, Quartier, Alter und Herkunft/Kreis 3/Friesenberg/Schweizer/in",
          "Aktuelle Geburten nach Stadtkreis, Quartier, Alter und Herkunft/Kreis 5/Gewerbeschule/Schweizer/in",
          "Aktuelle Geburten nach Stadtkreis, Quartier, Alter und Herkunft/Kreis 4/Hard/Schweizer/in",
          "Aktuelle Geburten nach Stadtkreis, Quartier, Alter und Herkunft/Kreis 7/Hirslanden/Schweizer/in",
          "Aktuelle Geburten nach Stadtkreis, Quartier, Alter und Herkunft/Kreis 12/Hirzenbach/Schweizer/in",
          "Aktuelle Geburten nach Stadtkreis, Quartier, Alter und Herkunft/Kreis 7/Hottingen/Schweizer/in",
          "Aktuelle Geburten nach Stadtkreis, Quartier, Alter und Herkunft/Kreis 10/Höngg/Schweizer/in",
          "Aktuelle Geburten nach Stadtkreis, Quartier, Alter und Herkunft/Kreis 4/Langstrasse/Schweizer/in",
          "Aktuelle Geburten nach Stadtkreis, Quartier, Alter und Herkunft/Kreis 2/Leimbach/Schweizer/in",
          "Aktuelle Geburten nach Stadtkreis, Quartier, Alter und Herkunft/Kreis 8/Mühlebach/Schweizer/in",
          "Aktuelle Geburten nach Stadtkreis, Quartier, Alter und Herkunft/Kreis 6/Oberstrass/Schweizer/in",
          "Aktuelle Geburten nach Stadtkreis, Quartier, Alter und Herkunft/Kreis 11/Oerlikon/Schweizer/in",
          "Aktuelle Geburten nach Stadtkreis, Quartier, Alter und Herkunft/Kreis 1/Rathaus/Schweizer/in",
          "Aktuelle Geburten nach Stadtkreis, Quartier, Alter und Herkunft/Kreis 12/Saatlen/Schweizer/in",
          "Aktuelle Geburten nach Stadtkreis, Quartier, Alter und Herkunft/Kreis 12/Schwamendingen-Mitte/Schweizer/in",
          "Aktuelle Geburten nach Stadtkreis, Quartier, Alter und Herkunft/Kreis 11/Seebach/Schweizer/in",
          "Aktuelle Geburten nach Stadtkreis, Quartier, Alter und Herkunft/Kreis 8/Seefeld/Schweizer/in",
          "Aktuelle Geburten nach Stadtkreis, Quartier, Alter und Herkunft/Kreis 3/Sihlfeld/Schweizer/in",
          "Aktuelle Geburten nach Stadtkreis, Quartier, Alter und Herkunft/Kreis 6/Unterstrass/Schweizer/in",
          "Aktuelle Geburten nach Stadtkreis, Quartier, Alter und Herkunft/Kreis 8/Weinegg/Schweizer/in",
          "Aktuelle Geburten nach Stadtkreis, Quartier, Alter und Herkunft/Kreis 4/Werd/Schweizer/in",
          "Aktuelle Geburten nach Stadtkreis, Quartier, Alter und Herkunft/Kreis 10/Wipkingen/Schweizer/in",
          "Aktuelle Geburten nach Stadtkreis, Quartier, Alter und Herkunft/Kreis 7/Witikon/Schweizer/in",
          "Aktuelle Geburten nach Stadtkreis, Quartier, Alter und Herkunft/Kreis 2/Wollishofen/Schweizer/in",
          "Aktuelle Geburten nach Stadtkreis, Quartier, Alter und Herkunft/Kreis 11/Affoltern",
          "Aktuelle Geburten nach Stadtkreis, Quartier, Alter und Herkunft/Kreis 9/Albisrieden",
          "Aktuelle Geburten nach Stadtkreis, Quartier, Alter und Herkunft/Kreis 3/Alt-Wiedikon",
          "Aktuelle Geburten nach Stadtkreis, Quartier, Alter und Herkunft/Kreis 9/Altstetten",
          "Aktuelle Geburten nach Stadtkreis, Quartier, Alter und Herkunft/Kreis 1/City",
          "Aktuelle Geburten nach Stadtkreis, Quartier, Alter und Herkunft/Kreis 2/Enge",
          "Aktuelle Geburten nach Stadtkreis, Quartier, Alter und Herkunft/Kreis 5/Escher Wyss",
          "Aktuelle Geburten nach Stadtkreis, Quartier, Alter und Herkunft/Kreis 7/Fluntern",
          "Aktuelle Geburten nach Stadtkreis, Quartier, Alter und Herkunft/Kreis 3/Friesenberg",
          "Aktuelle Geburten nach Stadtkreis, Quartier, Alter und Herkunft/Kreis 5/Gewerbeschule",
          "Aktuelle Geburten nach Stadtkreis, Quartier, Alter und Herkunft/Kreis 4/Hard",
          "Aktuelle Geburten nach Stadtkreis, Quartier, Alter und Herkunft/Kreis 7/Hirslanden",
          "Aktuelle Geburten nach Stadtkreis, Quartier, Alter und Herkunft/Kreis 12/Hirzenbach",
          "Aktuelle Geburten nach Stadtkreis, Quartier, Alter und Herkunft/Kreis 7/Hottingen",
          "Aktuelle Geburten nach Stadtkreis, Quartier, Alter und Herkunft/Kreis 10/Höngg",
          "Aktuelle Geburten nach Stadtkreis, Quartier, Alter und Herkunft/Kreis 4/Langstrasse",
          "Aktuelle Geburten nach Stadtkreis, Quartier, Alter und Herkunft/Kreis 2/Leimbach",
          "Aktuelle Geburten nach Stadtkreis, Quartier, Alter und Herkunft/Kreis 8/Mühlebach",
          "Aktuelle Geburten nach Stadtkreis, Quartier, Alter und Herkunft/Kreis 6/Oberstrass",
          "Aktuelle Geburten nach Stadtkreis, Quartier, Alter und Herkunft/Kreis 11/Oerlikon",
          "Aktuelle Geburten nach Stadtkreis, Quartier, Alter und Herkunft/Kreis 1/Rathaus",
          "Aktuelle Geburten nach Stadtkreis, Quartier, Alter und Herkunft/Kreis 12/Saatlen",
          "Aktuelle Geburten nach Stadtkreis, Quartier, Alter und Herkunft/Kreis 12/Schwamendingen-Mitte",
          "Aktuelle Geburten nach Stadtkreis, Quartier, Alter und Herkunft/Kreis 11/Seebach",
          "Aktuelle Geburten nach Stadtkreis, Quartier, Alter und Herkunft/Kreis 8/Seefeld",
          "Aktuelle Geburten nach Stadtkreis, Quartier, Alter und Herkunft/Kreis 3/Sihlfeld",
          "Aktuelle Geburten nach Stadtkreis, Quartier, Alter und Herkunft/Kreis 6/Unterstrass",
          "Aktuelle Geburten nach Stadtkreis, Quartier, Alter und Herkunft/Kreis 8/Weinegg",
          "Aktuelle Geburten nach Stadtkreis, Quartier, Alter und Herkunft/Kreis 4/Werd",
          "Aktuelle Geburten nach Stadtkreis, Quartier, Alter und Herkunft/Kreis 10/Wipkingen",
          "Aktuelle Geburten nach Stadtkreis, Quartier, Alter und Herkunft/Kreis 7/Witikon",
          "Aktuelle Geburten nach Stadtkreis, Quartier, Alter und Herkunft/Kreis 2/Wollishofen",
          "Aktuelle Geburten nach Stadtkreis, Quartier, Alter und Herkunft/Kreis 1",
          "Aktuelle Geburten nach Stadtkreis, Quartier, Alter und Herkunft/Kreis 10",
          "Aktuelle Geburten nach Stadtkreis, Quartier, Alter und Herkunft/Kreis 11",
          "Aktuelle Geburten nach Stadtkreis, Quartier, Alter und Herkunft/Kreis 12",
          "Aktuelle Geburten nach Stadtkreis, Quartier, Alter und Herkunft/Kreis 2",
          "Aktuelle Geburten nach Stadtkreis, Quartier, Alter und Herkunft/Kreis 3",
          "Aktuelle Geburten nach Stadtkreis, Quartier, Alter und Herkunft/Kreis 4",
          "Aktuelle Geburten nach Stadtkreis, Quartier, Alter und Herkunft/Kreis 5",
          "Aktuelle Geburten nach Stadtkreis, Quartier, Alter und Herkunft/Kreis 6",
          "Aktuelle Geburten nach Stadtkreis, Quartier, Alter und Herkunft/Kreis 7",
          "Aktuelle Geburten nach Stadtkreis, Quartier, Alter und Herkunft/Kreis 8",
          "Aktuelle Geburten nach Stadtkreis, Quartier, Alter und Herkunft/Kreis 9",
          "Aktuelle Geburten nach Stadtkreis, Quartier, Alter und Herkunft"
         ],
         "labels": [
          "männlich",
          "männlich",
          "männlich",
          "männlich",
          "männlich",
          "männlich",
          "männlich",
          "männlich",
          "männlich",
          "männlich",
          "männlich",
          "männlich",
          "männlich",
          "männlich",
          "männlich",
          "männlich",
          "männlich",
          "männlich",
          "männlich",
          "männlich",
          "männlich",
          "männlich",
          "männlich",
          "männlich",
          "männlich",
          "männlich",
          "männlich",
          "männlich",
          "männlich",
          "männlich",
          "männlich",
          "männlich",
          "männlich",
          "männlich",
          "männlich",
          "männlich",
          "männlich",
          "männlich",
          "männlich",
          "männlich",
          "männlich",
          "männlich",
          "männlich",
          "weiblich",
          "weiblich",
          "weiblich",
          "weiblich",
          "weiblich",
          "weiblich",
          "weiblich",
          "weiblich",
          "weiblich",
          "weiblich",
          "weiblich",
          "weiblich",
          "weiblich",
          "weiblich",
          "weiblich",
          "weiblich",
          "weiblich",
          "weiblich",
          "weiblich",
          "weiblich",
          "weiblich",
          "weiblich",
          "weiblich",
          "weiblich",
          "weiblich",
          "weiblich",
          "weiblich",
          "weiblich",
          "weiblich",
          "weiblich",
          "weiblich",
          "weiblich",
          "weiblich",
          "weiblich",
          "weiblich",
          "weiblich",
          "weiblich",
          "weiblich",
          "weiblich",
          "weiblich",
          "weiblich",
          "weiblich",
          "weiblich",
          "weiblich",
          "weiblich",
          "weiblich",
          "Ausländer/in",
          "Ausländer/in",
          "Ausländer/in",
          "Ausländer/in",
          "Ausländer/in",
          "Ausländer/in",
          "Ausländer/in",
          "Ausländer/in",
          "Ausländer/in",
          "Ausländer/in",
          "Ausländer/in",
          "Ausländer/in",
          "Ausländer/in",
          "Ausländer/in",
          "Ausländer/in",
          "Ausländer/in",
          "Ausländer/in",
          "Ausländer/in",
          "Ausländer/in",
          "Ausländer/in",
          "Ausländer/in",
          "Ausländer/in",
          "Ausländer/in",
          "Schweizer/in",
          "Schweizer/in",
          "Schweizer/in",
          "Schweizer/in",
          "Schweizer/in",
          "Schweizer/in",
          "Schweizer/in",
          "Schweizer/in",
          "Schweizer/in",
          "Schweizer/in",
          "Schweizer/in",
          "Schweizer/in",
          "Schweizer/in",
          "Schweizer/in",
          "Schweizer/in",
          "Schweizer/in",
          "Schweizer/in",
          "Schweizer/in",
          "Schweizer/in",
          "Schweizer/in",
          "Schweizer/in",
          "Schweizer/in",
          "Schweizer/in",
          "Schweizer/in",
          "Schweizer/in",
          "Schweizer/in",
          "Schweizer/in",
          "Schweizer/in",
          "Schweizer/in",
          "Schweizer/in",
          "Schweizer/in",
          "Schweizer/in",
          "Affoltern",
          "Albisrieden",
          "Alt-Wiedikon",
          "Altstetten",
          "City",
          "Enge",
          "Escher Wyss",
          "Fluntern",
          "Friesenberg",
          "Gewerbeschule",
          "Hard",
          "Hirslanden",
          "Hirzenbach",
          "Hottingen",
          "Höngg",
          "Langstrasse",
          "Leimbach",
          "Mühlebach",
          "Oberstrass",
          "Oerlikon",
          "Rathaus",
          "Saatlen",
          "Schwamendingen-Mitte",
          "Seebach",
          "Seefeld",
          "Sihlfeld",
          "Unterstrass",
          "Weinegg",
          "Werd",
          "Wipkingen",
          "Witikon",
          "Wollishofen",
          "Kreis 1",
          "Kreis 10",
          "Kreis 11",
          "Kreis 12",
          "Kreis 2",
          "Kreis 3",
          "Kreis 4",
          "Kreis 5",
          "Kreis 6",
          "Kreis 7",
          "Kreis 8",
          "Kreis 9",
          "Aktuelle Geburten nach Stadtkreis, Quartier, Alter und Herkunft"
         ],
         "marker": {
          "coloraxis": "coloraxis",
          "colors": [
           1,
           2,
           1,
           1,
           1,
           1,
           1,
           1,
           1.5,
           1,
           1,
           1,
           1,
           1,
           1.3333333333333333,
           1,
           1,
           1.2857142857142858,
           1,
           1,
           1,
           2,
           1,
           1,
           1,
           1,
           1,
           1.5714285714285714,
           1,
           1,
           1,
           1,
           1.6666666666666667,
           1,
           1,
           1.2857142857142858,
           1,
           1.4,
           1,
           1,
           1,
           1,
           1,
           1.5,
           1,
           1,
           1,
           1,
           1,
           1,
           1,
           1,
           1,
           1,
           1,
           1,
           1,
           1,
           1,
           1,
           1,
           1.6666666666666667,
           1,
           1.4,
           1.3333333333333333,
           1,
           1,
           1,
           1,
           1,
           1,
           1,
           1,
           1,
           1.2857142857142858,
           1,
           1,
           1.8888888888888888,
           1,
           1,
           1,
           1,
           1.6666666666666667,
           1.5714285714285714,
           1.1818181818181819,
           1,
           1,
           1,
           1.2222222222222223,
           1.5,
           1,
           1,
           1.2857142857142858,
           1,
           1,
           1,
           1,
           1,
           1,
           1,
           1,
           1,
           1,
           1,
           1,
           1.2857142857142858,
           1,
           1,
           1,
           1,
           1,
           1.4,
           1.2857142857142858,
           1.1818181818181819,
           1.1333333333333333,
           1.1428571428571428,
           1,
           1,
           1,
           1,
           1.5714285714285714,
           1,
           1,
           1,
           1,
           1,
           1.4285714285714286,
           1,
           1,
           1,
           1,
           1.8,
           1,
           1,
           1,
           1.1538461538461537,
           1.5,
           1.5,
           1.1333333333333333,
           1,
           1,
           1,
           1,
           1.1428571428571428,
           1.3636363636363635,
           1.1538461538461537,
           1.1,
           1.1904761904761905,
           1,
           1,
           1,
           1,
           1.5714285714285714,
           1,
           1,
           1,
           1,
           1,
           1.3,
           1,
           1,
           1,
           1,
           1.7058823529411764,
           1,
           1,
           1,
           1.2,
           1.5,
           1.48,
           1.1176470588235294,
           1,
           1,
           1,
           1,
           1.2105263157894737,
           1,
           1.1875,
           1.4166666666666667,
           1,
           1.1379310344827587,
           1.3461538461538463,
           1,
           1,
           1.1,
           1,
           1.1818181818181819,
           1.1764705882352942,
           1.204225352112676
          ]
         },
         "name": "",
         "parents": [
          "Aktuelle Geburten nach Stadtkreis, Quartier, Alter und Herkunft/Kreis 3/Alt-Wiedikon/Ausländer/in",
          "Aktuelle Geburten nach Stadtkreis, Quartier, Alter und Herkunft/Kreis 9/Altstetten/Ausländer/in",
          "Aktuelle Geburten nach Stadtkreis, Quartier, Alter und Herkunft/Kreis 7/Fluntern/Ausländer/in",
          "Aktuelle Geburten nach Stadtkreis, Quartier, Alter und Herkunft/Kreis 5/Gewerbeschule/Ausländer/in",
          "Aktuelle Geburten nach Stadtkreis, Quartier, Alter und Herkunft/Kreis 12/Hirzenbach/Ausländer/in",
          "Aktuelle Geburten nach Stadtkreis, Quartier, Alter und Herkunft/Kreis 10/Höngg/Ausländer/in",
          "Aktuelle Geburten nach Stadtkreis, Quartier, Alter und Herkunft/Kreis 6/Oberstrass/Ausländer/in",
          "Aktuelle Geburten nach Stadtkreis, Quartier, Alter und Herkunft/Kreis 11/Oerlikon/Ausländer/in",
          "Aktuelle Geburten nach Stadtkreis, Quartier, Alter und Herkunft/Kreis 11/Seebach/Ausländer/in",
          "Aktuelle Geburten nach Stadtkreis, Quartier, Alter und Herkunft/Kreis 3/Sihlfeld/Ausländer/in",
          "Aktuelle Geburten nach Stadtkreis, Quartier, Alter und Herkunft/Kreis 8/Weinegg/Ausländer/in",
          "Aktuelle Geburten nach Stadtkreis, Quartier, Alter und Herkunft/Kreis 10/Wipkingen/Ausländer/in",
          "Aktuelle Geburten nach Stadtkreis, Quartier, Alter und Herkunft/Kreis 7/Witikon/Ausländer/in",
          "Aktuelle Geburten nach Stadtkreis, Quartier, Alter und Herkunft/Kreis 2/Wollishofen/Ausländer/in",
          "Aktuelle Geburten nach Stadtkreis, Quartier, Alter und Herkunft/Kreis 11/Affoltern/Schweizer/in",
          "Aktuelle Geburten nach Stadtkreis, Quartier, Alter und Herkunft/Kreis 9/Albisrieden/Schweizer/in",
          "Aktuelle Geburten nach Stadtkreis, Quartier, Alter und Herkunft/Kreis 3/Alt-Wiedikon/Schweizer/in",
          "Aktuelle Geburten nach Stadtkreis, Quartier, Alter und Herkunft/Kreis 9/Altstetten/Schweizer/in",
          "Aktuelle Geburten nach Stadtkreis, Quartier, Alter und Herkunft/Kreis 2/Enge/Schweizer/in",
          "Aktuelle Geburten nach Stadtkreis, Quartier, Alter und Herkunft/Kreis 5/Escher Wyss/Schweizer/in",
          "Aktuelle Geburten nach Stadtkreis, Quartier, Alter und Herkunft/Kreis 7/Fluntern/Schweizer/in",
          "Aktuelle Geburten nach Stadtkreis, Quartier, Alter und Herkunft/Kreis 3/Friesenberg/Schweizer/in",
          "Aktuelle Geburten nach Stadtkreis, Quartier, Alter und Herkunft/Kreis 5/Gewerbeschule/Schweizer/in",
          "Aktuelle Geburten nach Stadtkreis, Quartier, Alter und Herkunft/Kreis 4/Hard/Schweizer/in",
          "Aktuelle Geburten nach Stadtkreis, Quartier, Alter und Herkunft/Kreis 7/Hirslanden/Schweizer/in",
          "Aktuelle Geburten nach Stadtkreis, Quartier, Alter und Herkunft/Kreis 12/Hirzenbach/Schweizer/in",
          "Aktuelle Geburten nach Stadtkreis, Quartier, Alter und Herkunft/Kreis 7/Hottingen/Schweizer/in",
          "Aktuelle Geburten nach Stadtkreis, Quartier, Alter und Herkunft/Kreis 10/Höngg/Schweizer/in",
          "Aktuelle Geburten nach Stadtkreis, Quartier, Alter und Herkunft/Kreis 4/Langstrasse/Schweizer/in",
          "Aktuelle Geburten nach Stadtkreis, Quartier, Alter und Herkunft/Kreis 2/Leimbach/Schweizer/in",
          "Aktuelle Geburten nach Stadtkreis, Quartier, Alter und Herkunft/Kreis 8/Mühlebach/Schweizer/in",
          "Aktuelle Geburten nach Stadtkreis, Quartier, Alter und Herkunft/Kreis 6/Oberstrass/Schweizer/in",
          "Aktuelle Geburten nach Stadtkreis, Quartier, Alter und Herkunft/Kreis 11/Oerlikon/Schweizer/in",
          "Aktuelle Geburten nach Stadtkreis, Quartier, Alter und Herkunft/Kreis 12/Saatlen/Schweizer/in",
          "Aktuelle Geburten nach Stadtkreis, Quartier, Alter und Herkunft/Kreis 12/Schwamendingen-Mitte/Schweizer/in",
          "Aktuelle Geburten nach Stadtkreis, Quartier, Alter und Herkunft/Kreis 11/Seebach/Schweizer/in",
          "Aktuelle Geburten nach Stadtkreis, Quartier, Alter und Herkunft/Kreis 8/Seefeld/Schweizer/in",
          "Aktuelle Geburten nach Stadtkreis, Quartier, Alter und Herkunft/Kreis 3/Sihlfeld/Schweizer/in",
          "Aktuelle Geburten nach Stadtkreis, Quartier, Alter und Herkunft/Kreis 6/Unterstrass/Schweizer/in",
          "Aktuelle Geburten nach Stadtkreis, Quartier, Alter und Herkunft/Kreis 4/Werd/Schweizer/in",
          "Aktuelle Geburten nach Stadtkreis, Quartier, Alter und Herkunft/Kreis 10/Wipkingen/Schweizer/in",
          "Aktuelle Geburten nach Stadtkreis, Quartier, Alter und Herkunft/Kreis 7/Witikon/Schweizer/in",
          "Aktuelle Geburten nach Stadtkreis, Quartier, Alter und Herkunft/Kreis 2/Wollishofen/Schweizer/in",
          "Aktuelle Geburten nach Stadtkreis, Quartier, Alter und Herkunft/Kreis 11/Affoltern/Ausländer/in",
          "Aktuelle Geburten nach Stadtkreis, Quartier, Alter und Herkunft/Kreis 9/Albisrieden/Ausländer/in",
          "Aktuelle Geburten nach Stadtkreis, Quartier, Alter und Herkunft/Kreis 3/Alt-Wiedikon/Ausländer/in",
          "Aktuelle Geburten nach Stadtkreis, Quartier, Alter und Herkunft/Kreis 9/Altstetten/Ausländer/in",
          "Aktuelle Geburten nach Stadtkreis, Quartier, Alter und Herkunft/Kreis 2/Enge/Ausländer/in",
          "Aktuelle Geburten nach Stadtkreis, Quartier, Alter und Herkunft/Kreis 7/Fluntern/Ausländer/in",
          "Aktuelle Geburten nach Stadtkreis, Quartier, Alter und Herkunft/Kreis 7/Hirslanden/Ausländer/in",
          "Aktuelle Geburten nach Stadtkreis, Quartier, Alter und Herkunft/Kreis 12/Hirzenbach/Ausländer/in",
          "Aktuelle Geburten nach Stadtkreis, Quartier, Alter und Herkunft/Kreis 7/Hottingen/Ausländer/in",
          "Aktuelle Geburten nach Stadtkreis, Quartier, Alter und Herkunft/Kreis 10/Höngg/Ausländer/in",
          "Aktuelle Geburten nach Stadtkreis, Quartier, Alter und Herkunft/Kreis 2/Leimbach/Ausländer/in",
          "Aktuelle Geburten nach Stadtkreis, Quartier, Alter und Herkunft/Kreis 11/Oerlikon/Ausländer/in",
          "Aktuelle Geburten nach Stadtkreis, Quartier, Alter und Herkunft/Kreis 1/Rathaus/Ausländer/in",
          "Aktuelle Geburten nach Stadtkreis, Quartier, Alter und Herkunft/Kreis 12/Schwamendingen-Mitte/Ausländer/in",
          "Aktuelle Geburten nach Stadtkreis, Quartier, Alter und Herkunft/Kreis 11/Seebach/Ausländer/in",
          "Aktuelle Geburten nach Stadtkreis, Quartier, Alter und Herkunft/Kreis 6/Unterstrass/Ausländer/in",
          "Aktuelle Geburten nach Stadtkreis, Quartier, Alter und Herkunft/Kreis 8/Weinegg/Ausländer/in",
          "Aktuelle Geburten nach Stadtkreis, Quartier, Alter und Herkunft/Kreis 10/Wipkingen/Ausländer/in",
          "Aktuelle Geburten nach Stadtkreis, Quartier, Alter und Herkunft/Kreis 2/Wollishofen/Ausländer/in",
          "Aktuelle Geburten nach Stadtkreis, Quartier, Alter und Herkunft/Kreis 11/Affoltern/Schweizer/in",
          "Aktuelle Geburten nach Stadtkreis, Quartier, Alter und Herkunft/Kreis 9/Albisrieden/Schweizer/in",
          "Aktuelle Geburten nach Stadtkreis, Quartier, Alter und Herkunft/Kreis 3/Alt-Wiedikon/Schweizer/in",
          "Aktuelle Geburten nach Stadtkreis, Quartier, Alter und Herkunft/Kreis 9/Altstetten/Schweizer/in",
          "Aktuelle Geburten nach Stadtkreis, Quartier, Alter und Herkunft/Kreis 1/City/Schweizer/in",
          "Aktuelle Geburten nach Stadtkreis, Quartier, Alter und Herkunft/Kreis 2/Enge/Schweizer/in",
          "Aktuelle Geburten nach Stadtkreis, Quartier, Alter und Herkunft/Kreis 3/Friesenberg/Schweizer/in",
          "Aktuelle Geburten nach Stadtkreis, Quartier, Alter und Herkunft/Kreis 5/Gewerbeschule/Schweizer/in",
          "Aktuelle Geburten nach Stadtkreis, Quartier, Alter und Herkunft/Kreis 4/Hard/Schweizer/in",
          "Aktuelle Geburten nach Stadtkreis, Quartier, Alter und Herkunft/Kreis 7/Hirslanden/Schweizer/in",
          "Aktuelle Geburten nach Stadtkreis, Quartier, Alter und Herkunft/Kreis 12/Hirzenbach/Schweizer/in",
          "Aktuelle Geburten nach Stadtkreis, Quartier, Alter und Herkunft/Kreis 7/Hottingen/Schweizer/in",
          "Aktuelle Geburten nach Stadtkreis, Quartier, Alter und Herkunft/Kreis 10/Höngg/Schweizer/in",
          "Aktuelle Geburten nach Stadtkreis, Quartier, Alter und Herkunft/Kreis 4/Langstrasse/Schweizer/in",
          "Aktuelle Geburten nach Stadtkreis, Quartier, Alter und Herkunft/Kreis 2/Leimbach/Schweizer/in",
          "Aktuelle Geburten nach Stadtkreis, Quartier, Alter und Herkunft/Kreis 11/Oerlikon/Schweizer/in",
          "Aktuelle Geburten nach Stadtkreis, Quartier, Alter und Herkunft/Kreis 1/Rathaus/Schweizer/in",
          "Aktuelle Geburten nach Stadtkreis, Quartier, Alter und Herkunft/Kreis 12/Saatlen/Schweizer/in",
          "Aktuelle Geburten nach Stadtkreis, Quartier, Alter und Herkunft/Kreis 12/Schwamendingen-Mitte/Schweizer/in",
          "Aktuelle Geburten nach Stadtkreis, Quartier, Alter und Herkunft/Kreis 11/Seebach/Schweizer/in",
          "Aktuelle Geburten nach Stadtkreis, Quartier, Alter und Herkunft/Kreis 8/Seefeld/Schweizer/in",
          "Aktuelle Geburten nach Stadtkreis, Quartier, Alter und Herkunft/Kreis 3/Sihlfeld/Schweizer/in",
          "Aktuelle Geburten nach Stadtkreis, Quartier, Alter und Herkunft/Kreis 6/Unterstrass/Schweizer/in",
          "Aktuelle Geburten nach Stadtkreis, Quartier, Alter und Herkunft/Kreis 8/Weinegg/Schweizer/in",
          "Aktuelle Geburten nach Stadtkreis, Quartier, Alter und Herkunft/Kreis 10/Wipkingen/Schweizer/in",
          "Aktuelle Geburten nach Stadtkreis, Quartier, Alter und Herkunft/Kreis 7/Witikon/Schweizer/in",
          "Aktuelle Geburten nach Stadtkreis, Quartier, Alter und Herkunft/Kreis 2/Wollishofen/Schweizer/in",
          "Aktuelle Geburten nach Stadtkreis, Quartier, Alter und Herkunft/Kreis 11/Affoltern",
          "Aktuelle Geburten nach Stadtkreis, Quartier, Alter und Herkunft/Kreis 9/Albisrieden",
          "Aktuelle Geburten nach Stadtkreis, Quartier, Alter und Herkunft/Kreis 3/Alt-Wiedikon",
          "Aktuelle Geburten nach Stadtkreis, Quartier, Alter und Herkunft/Kreis 9/Altstetten",
          "Aktuelle Geburten nach Stadtkreis, Quartier, Alter und Herkunft/Kreis 2/Enge",
          "Aktuelle Geburten nach Stadtkreis, Quartier, Alter und Herkunft/Kreis 7/Fluntern",
          "Aktuelle Geburten nach Stadtkreis, Quartier, Alter und Herkunft/Kreis 5/Gewerbeschule",
          "Aktuelle Geburten nach Stadtkreis, Quartier, Alter und Herkunft/Kreis 7/Hirslanden",
          "Aktuelle Geburten nach Stadtkreis, Quartier, Alter und Herkunft/Kreis 12/Hirzenbach",
          "Aktuelle Geburten nach Stadtkreis, Quartier, Alter und Herkunft/Kreis 7/Hottingen",
          "Aktuelle Geburten nach Stadtkreis, Quartier, Alter und Herkunft/Kreis 10/Höngg",
          "Aktuelle Geburten nach Stadtkreis, Quartier, Alter und Herkunft/Kreis 2/Leimbach",
          "Aktuelle Geburten nach Stadtkreis, Quartier, Alter und Herkunft/Kreis 6/Oberstrass",
          "Aktuelle Geburten nach Stadtkreis, Quartier, Alter und Herkunft/Kreis 11/Oerlikon",
          "Aktuelle Geburten nach Stadtkreis, Quartier, Alter und Herkunft/Kreis 1/Rathaus",
          "Aktuelle Geburten nach Stadtkreis, Quartier, Alter und Herkunft/Kreis 12/Schwamendingen-Mitte",
          "Aktuelle Geburten nach Stadtkreis, Quartier, Alter und Herkunft/Kreis 11/Seebach",
          "Aktuelle Geburten nach Stadtkreis, Quartier, Alter und Herkunft/Kreis 3/Sihlfeld",
          "Aktuelle Geburten nach Stadtkreis, Quartier, Alter und Herkunft/Kreis 6/Unterstrass",
          "Aktuelle Geburten nach Stadtkreis, Quartier, Alter und Herkunft/Kreis 8/Weinegg",
          "Aktuelle Geburten nach Stadtkreis, Quartier, Alter und Herkunft/Kreis 10/Wipkingen",
          "Aktuelle Geburten nach Stadtkreis, Quartier, Alter und Herkunft/Kreis 7/Witikon",
          "Aktuelle Geburten nach Stadtkreis, Quartier, Alter und Herkunft/Kreis 2/Wollishofen",
          "Aktuelle Geburten nach Stadtkreis, Quartier, Alter und Herkunft/Kreis 11/Affoltern",
          "Aktuelle Geburten nach Stadtkreis, Quartier, Alter und Herkunft/Kreis 9/Albisrieden",
          "Aktuelle Geburten nach Stadtkreis, Quartier, Alter und Herkunft/Kreis 3/Alt-Wiedikon",
          "Aktuelle Geburten nach Stadtkreis, Quartier, Alter und Herkunft/Kreis 9/Altstetten",
          "Aktuelle Geburten nach Stadtkreis, Quartier, Alter und Herkunft/Kreis 1/City",
          "Aktuelle Geburten nach Stadtkreis, Quartier, Alter und Herkunft/Kreis 2/Enge",
          "Aktuelle Geburten nach Stadtkreis, Quartier, Alter und Herkunft/Kreis 5/Escher Wyss",
          "Aktuelle Geburten nach Stadtkreis, Quartier, Alter und Herkunft/Kreis 7/Fluntern",
          "Aktuelle Geburten nach Stadtkreis, Quartier, Alter und Herkunft/Kreis 3/Friesenberg",
          "Aktuelle Geburten nach Stadtkreis, Quartier, Alter und Herkunft/Kreis 5/Gewerbeschule",
          "Aktuelle Geburten nach Stadtkreis, Quartier, Alter und Herkunft/Kreis 4/Hard",
          "Aktuelle Geburten nach Stadtkreis, Quartier, Alter und Herkunft/Kreis 7/Hirslanden",
          "Aktuelle Geburten nach Stadtkreis, Quartier, Alter und Herkunft/Kreis 12/Hirzenbach",
          "Aktuelle Geburten nach Stadtkreis, Quartier, Alter und Herkunft/Kreis 7/Hottingen",
          "Aktuelle Geburten nach Stadtkreis, Quartier, Alter und Herkunft/Kreis 10/Höngg",
          "Aktuelle Geburten nach Stadtkreis, Quartier, Alter und Herkunft/Kreis 4/Langstrasse",
          "Aktuelle Geburten nach Stadtkreis, Quartier, Alter und Herkunft/Kreis 2/Leimbach",
          "Aktuelle Geburten nach Stadtkreis, Quartier, Alter und Herkunft/Kreis 8/Mühlebach",
          "Aktuelle Geburten nach Stadtkreis, Quartier, Alter und Herkunft/Kreis 6/Oberstrass",
          "Aktuelle Geburten nach Stadtkreis, Quartier, Alter und Herkunft/Kreis 11/Oerlikon",
          "Aktuelle Geburten nach Stadtkreis, Quartier, Alter und Herkunft/Kreis 1/Rathaus",
          "Aktuelle Geburten nach Stadtkreis, Quartier, Alter und Herkunft/Kreis 12/Saatlen",
          "Aktuelle Geburten nach Stadtkreis, Quartier, Alter und Herkunft/Kreis 12/Schwamendingen-Mitte",
          "Aktuelle Geburten nach Stadtkreis, Quartier, Alter und Herkunft/Kreis 11/Seebach",
          "Aktuelle Geburten nach Stadtkreis, Quartier, Alter und Herkunft/Kreis 8/Seefeld",
          "Aktuelle Geburten nach Stadtkreis, Quartier, Alter und Herkunft/Kreis 3/Sihlfeld",
          "Aktuelle Geburten nach Stadtkreis, Quartier, Alter und Herkunft/Kreis 6/Unterstrass",
          "Aktuelle Geburten nach Stadtkreis, Quartier, Alter und Herkunft/Kreis 8/Weinegg",
          "Aktuelle Geburten nach Stadtkreis, Quartier, Alter und Herkunft/Kreis 4/Werd",
          "Aktuelle Geburten nach Stadtkreis, Quartier, Alter und Herkunft/Kreis 10/Wipkingen",
          "Aktuelle Geburten nach Stadtkreis, Quartier, Alter und Herkunft/Kreis 7/Witikon",
          "Aktuelle Geburten nach Stadtkreis, Quartier, Alter und Herkunft/Kreis 2/Wollishofen",
          "Aktuelle Geburten nach Stadtkreis, Quartier, Alter und Herkunft/Kreis 11",
          "Aktuelle Geburten nach Stadtkreis, Quartier, Alter und Herkunft/Kreis 9",
          "Aktuelle Geburten nach Stadtkreis, Quartier, Alter und Herkunft/Kreis 3",
          "Aktuelle Geburten nach Stadtkreis, Quartier, Alter und Herkunft/Kreis 9",
          "Aktuelle Geburten nach Stadtkreis, Quartier, Alter und Herkunft/Kreis 1",
          "Aktuelle Geburten nach Stadtkreis, Quartier, Alter und Herkunft/Kreis 2",
          "Aktuelle Geburten nach Stadtkreis, Quartier, Alter und Herkunft/Kreis 5",
          "Aktuelle Geburten nach Stadtkreis, Quartier, Alter und Herkunft/Kreis 7",
          "Aktuelle Geburten nach Stadtkreis, Quartier, Alter und Herkunft/Kreis 3",
          "Aktuelle Geburten nach Stadtkreis, Quartier, Alter und Herkunft/Kreis 5",
          "Aktuelle Geburten nach Stadtkreis, Quartier, Alter und Herkunft/Kreis 4",
          "Aktuelle Geburten nach Stadtkreis, Quartier, Alter und Herkunft/Kreis 7",
          "Aktuelle Geburten nach Stadtkreis, Quartier, Alter und Herkunft/Kreis 12",
          "Aktuelle Geburten nach Stadtkreis, Quartier, Alter und Herkunft/Kreis 7",
          "Aktuelle Geburten nach Stadtkreis, Quartier, Alter und Herkunft/Kreis 10",
          "Aktuelle Geburten nach Stadtkreis, Quartier, Alter und Herkunft/Kreis 4",
          "Aktuelle Geburten nach Stadtkreis, Quartier, Alter und Herkunft/Kreis 2",
          "Aktuelle Geburten nach Stadtkreis, Quartier, Alter und Herkunft/Kreis 8",
          "Aktuelle Geburten nach Stadtkreis, Quartier, Alter und Herkunft/Kreis 6",
          "Aktuelle Geburten nach Stadtkreis, Quartier, Alter und Herkunft/Kreis 11",
          "Aktuelle Geburten nach Stadtkreis, Quartier, Alter und Herkunft/Kreis 1",
          "Aktuelle Geburten nach Stadtkreis, Quartier, Alter und Herkunft/Kreis 12",
          "Aktuelle Geburten nach Stadtkreis, Quartier, Alter und Herkunft/Kreis 12",
          "Aktuelle Geburten nach Stadtkreis, Quartier, Alter und Herkunft/Kreis 11",
          "Aktuelle Geburten nach Stadtkreis, Quartier, Alter und Herkunft/Kreis 8",
          "Aktuelle Geburten nach Stadtkreis, Quartier, Alter und Herkunft/Kreis 3",
          "Aktuelle Geburten nach Stadtkreis, Quartier, Alter und Herkunft/Kreis 6",
          "Aktuelle Geburten nach Stadtkreis, Quartier, Alter und Herkunft/Kreis 8",
          "Aktuelle Geburten nach Stadtkreis, Quartier, Alter und Herkunft/Kreis 4",
          "Aktuelle Geburten nach Stadtkreis, Quartier, Alter und Herkunft/Kreis 10",
          "Aktuelle Geburten nach Stadtkreis, Quartier, Alter und Herkunft/Kreis 7",
          "Aktuelle Geburten nach Stadtkreis, Quartier, Alter und Herkunft/Kreis 2",
          "Aktuelle Geburten nach Stadtkreis, Quartier, Alter und Herkunft",
          "Aktuelle Geburten nach Stadtkreis, Quartier, Alter und Herkunft",
          "Aktuelle Geburten nach Stadtkreis, Quartier, Alter und Herkunft",
          "Aktuelle Geburten nach Stadtkreis, Quartier, Alter und Herkunft",
          "Aktuelle Geburten nach Stadtkreis, Quartier, Alter und Herkunft",
          "Aktuelle Geburten nach Stadtkreis, Quartier, Alter und Herkunft",
          "Aktuelle Geburten nach Stadtkreis, Quartier, Alter und Herkunft",
          "Aktuelle Geburten nach Stadtkreis, Quartier, Alter und Herkunft",
          "Aktuelle Geburten nach Stadtkreis, Quartier, Alter und Herkunft",
          "Aktuelle Geburten nach Stadtkreis, Quartier, Alter und Herkunft",
          "Aktuelle Geburten nach Stadtkreis, Quartier, Alter und Herkunft",
          "Aktuelle Geburten nach Stadtkreis, Quartier, Alter und Herkunft",
          ""
         ],
         "root": {
          "color": "grey"
         },
         "type": "treemap",
         "values": [
          3,
          2,
          1,
          1,
          1,
          2,
          2,
          1,
          4,
          1,
          1,
          4,
          1,
          2,
          6,
          6,
          9,
          7,
          2,
          1,
          1,
          4,
          1,
          1,
          4,
          1,
          3,
          7,
          2,
          1,
          3,
          1,
          6,
          4,
          1,
          7,
          1,
          10,
          4,
          1,
          3,
          1,
          5,
          4,
          2,
          2,
          5,
          2,
          2,
          2,
          1,
          1,
          4,
          1,
          1,
          1,
          3,
          3,
          2,
          2,
          1,
          3,
          1,
          5,
          6,
          7,
          1,
          3,
          3,
          4,
          3,
          2,
          2,
          2,
          7,
          1,
          1,
          9,
          2,
          2,
          1,
          6,
          3,
          14,
          11,
          1,
          4,
          3,
          9,
          4,
          2,
          5,
          7,
          2,
          3,
          1,
          2,
          2,
          1,
          6,
          1,
          2,
          2,
          1,
          3,
          7,
          1,
          2,
          3,
          5,
          1,
          5,
          7,
          11,
          15,
          14,
          1,
          5,
          1,
          1,
          7,
          5,
          4,
          6,
          3,
          5,
          14,
          3,
          2,
          3,
          1,
          15,
          2,
          6,
          2,
          13,
          4,
          24,
          15,
          1,
          1,
          7,
          4,
          14,
          11,
          13,
          20,
          21,
          1,
          7,
          1,
          4,
          7,
          6,
          4,
          8,
          5,
          6,
          20,
          3,
          3,
          3,
          3,
          17,
          3,
          6,
          5,
          20,
          4,
          25,
          17,
          4,
          1,
          12,
          5,
          19,
          4,
          32,
          48,
          16,
          29,
          52,
          8,
          7,
          20,
          23,
          11,
          34,
          284
         ]
        }
       ],
       "layout": {
        "autosize": true,
        "coloraxis": {
         "colorbar": {
          "title": {
           "text": "sum_WBev"
          }
         },
         "colorscale": [
          [
           0,
           "rgb(247,251,255)"
          ],
          [
           0.125,
           "rgb(222,235,247)"
          ],
          [
           0.25,
           "rgb(198,219,239)"
          ],
          [
           0.375,
           "rgb(158,202,225)"
          ],
          [
           0.5,
           "rgb(107,174,214)"
          ],
          [
           0.625,
           "rgb(66,146,198)"
          ],
          [
           0.75,
           "rgb(33,113,181)"
          ],
          [
           0.875,
           "rgb(8,81,156)"
          ],
          [
           1,
           "rgb(8,48,107)"
          ]
         ]
        },
        "legend": {
         "tracegroupgap": 0
        },
        "margin": {
         "b": 25,
         "l": 25,
         "r": 250,
         "t": 50
        },
        "template": {
         "data": {
          "bar": [
           {
            "error_x": {
             "color": "#2a3f5f"
            },
            "error_y": {
             "color": "#2a3f5f"
            },
            "marker": {
             "line": {
              "color": "#E5ECF6",
              "width": 0.5
             },
             "pattern": {
              "fillmode": "overlay",
              "size": 10,
              "solidity": 0.2
             }
            },
            "type": "bar"
           }
          ],
          "barpolar": [
           {
            "marker": {
             "line": {
              "color": "#E5ECF6",
              "width": 0.5
             },
             "pattern": {
              "fillmode": "overlay",
              "size": 10,
              "solidity": 0.2
             }
            },
            "type": "barpolar"
           }
          ],
          "carpet": [
           {
            "aaxis": {
             "endlinecolor": "#2a3f5f",
             "gridcolor": "white",
             "linecolor": "white",
             "minorgridcolor": "white",
             "startlinecolor": "#2a3f5f"
            },
            "baxis": {
             "endlinecolor": "#2a3f5f",
             "gridcolor": "white",
             "linecolor": "white",
             "minorgridcolor": "white",
             "startlinecolor": "#2a3f5f"
            },
            "type": "carpet"
           }
          ],
          "choropleth": [
           {
            "colorbar": {
             "outlinewidth": 0,
             "ticks": ""
            },
            "type": "choropleth"
           }
          ],
          "contour": [
           {
            "colorbar": {
             "outlinewidth": 0,
             "ticks": ""
            },
            "colorscale": [
             [
              0,
              "#0d0887"
             ],
             [
              0.1111111111111111,
              "#46039f"
             ],
             [
              0.2222222222222222,
              "#7201a8"
             ],
             [
              0.3333333333333333,
              "#9c179e"
             ],
             [
              0.4444444444444444,
              "#bd3786"
             ],
             [
              0.5555555555555556,
              "#d8576b"
             ],
             [
              0.6666666666666666,
              "#ed7953"
             ],
             [
              0.7777777777777778,
              "#fb9f3a"
             ],
             [
              0.8888888888888888,
              "#fdca26"
             ],
             [
              1,
              "#f0f921"
             ]
            ],
            "type": "contour"
           }
          ],
          "contourcarpet": [
           {
            "colorbar": {
             "outlinewidth": 0,
             "ticks": ""
            },
            "type": "contourcarpet"
           }
          ],
          "heatmap": [
           {
            "colorbar": {
             "outlinewidth": 0,
             "ticks": ""
            },
            "colorscale": [
             [
              0,
              "#0d0887"
             ],
             [
              0.1111111111111111,
              "#46039f"
             ],
             [
              0.2222222222222222,
              "#7201a8"
             ],
             [
              0.3333333333333333,
              "#9c179e"
             ],
             [
              0.4444444444444444,
              "#bd3786"
             ],
             [
              0.5555555555555556,
              "#d8576b"
             ],
             [
              0.6666666666666666,
              "#ed7953"
             ],
             [
              0.7777777777777778,
              "#fb9f3a"
             ],
             [
              0.8888888888888888,
              "#fdca26"
             ],
             [
              1,
              "#f0f921"
             ]
            ],
            "type": "heatmap"
           }
          ],
          "heatmapgl": [
           {
            "colorbar": {
             "outlinewidth": 0,
             "ticks": ""
            },
            "colorscale": [
             [
              0,
              "#0d0887"
             ],
             [
              0.1111111111111111,
              "#46039f"
             ],
             [
              0.2222222222222222,
              "#7201a8"
             ],
             [
              0.3333333333333333,
              "#9c179e"
             ],
             [
              0.4444444444444444,
              "#bd3786"
             ],
             [
              0.5555555555555556,
              "#d8576b"
             ],
             [
              0.6666666666666666,
              "#ed7953"
             ],
             [
              0.7777777777777778,
              "#fb9f3a"
             ],
             [
              0.8888888888888888,
              "#fdca26"
             ],
             [
              1,
              "#f0f921"
             ]
            ],
            "type": "heatmapgl"
           }
          ],
          "histogram": [
           {
            "marker": {
             "pattern": {
              "fillmode": "overlay",
              "size": 10,
              "solidity": 0.2
             }
            },
            "type": "histogram"
           }
          ],
          "histogram2d": [
           {
            "colorbar": {
             "outlinewidth": 0,
             "ticks": ""
            },
            "colorscale": [
             [
              0,
              "#0d0887"
             ],
             [
              0.1111111111111111,
              "#46039f"
             ],
             [
              0.2222222222222222,
              "#7201a8"
             ],
             [
              0.3333333333333333,
              "#9c179e"
             ],
             [
              0.4444444444444444,
              "#bd3786"
             ],
             [
              0.5555555555555556,
              "#d8576b"
             ],
             [
              0.6666666666666666,
              "#ed7953"
             ],
             [
              0.7777777777777778,
              "#fb9f3a"
             ],
             [
              0.8888888888888888,
              "#fdca26"
             ],
             [
              1,
              "#f0f921"
             ]
            ],
            "type": "histogram2d"
           }
          ],
          "histogram2dcontour": [
           {
            "colorbar": {
             "outlinewidth": 0,
             "ticks": ""
            },
            "colorscale": [
             [
              0,
              "#0d0887"
             ],
             [
              0.1111111111111111,
              "#46039f"
             ],
             [
              0.2222222222222222,
              "#7201a8"
             ],
             [
              0.3333333333333333,
              "#9c179e"
             ],
             [
              0.4444444444444444,
              "#bd3786"
             ],
             [
              0.5555555555555556,
              "#d8576b"
             ],
             [
              0.6666666666666666,
              "#ed7953"
             ],
             [
              0.7777777777777778,
              "#fb9f3a"
             ],
             [
              0.8888888888888888,
              "#fdca26"
             ],
             [
              1,
              "#f0f921"
             ]
            ],
            "type": "histogram2dcontour"
           }
          ],
          "mesh3d": [
           {
            "colorbar": {
             "outlinewidth": 0,
             "ticks": ""
            },
            "type": "mesh3d"
           }
          ],
          "parcoords": [
           {
            "line": {
             "colorbar": {
              "outlinewidth": 0,
              "ticks": ""
             }
            },
            "type": "parcoords"
           }
          ],
          "pie": [
           {
            "automargin": true,
            "type": "pie"
           }
          ],
          "scatter": [
           {
            "marker": {
             "colorbar": {
              "outlinewidth": 0,
              "ticks": ""
             }
            },
            "type": "scatter"
           }
          ],
          "scatter3d": [
           {
            "line": {
             "colorbar": {
              "outlinewidth": 0,
              "ticks": ""
             }
            },
            "marker": {
             "colorbar": {
              "outlinewidth": 0,
              "ticks": ""
             }
            },
            "type": "scatter3d"
           }
          ],
          "scattercarpet": [
           {
            "marker": {
             "colorbar": {
              "outlinewidth": 0,
              "ticks": ""
             }
            },
            "type": "scattercarpet"
           }
          ],
          "scattergeo": [
           {
            "marker": {
             "colorbar": {
              "outlinewidth": 0,
              "ticks": ""
             }
            },
            "type": "scattergeo"
           }
          ],
          "scattergl": [
           {
            "marker": {
             "colorbar": {
              "outlinewidth": 0,
              "ticks": ""
             }
            },
            "type": "scattergl"
           }
          ],
          "scattermapbox": [
           {
            "marker": {
             "colorbar": {
              "outlinewidth": 0,
              "ticks": ""
             }
            },
            "type": "scattermapbox"
           }
          ],
          "scatterpolar": [
           {
            "marker": {
             "colorbar": {
              "outlinewidth": 0,
              "ticks": ""
             }
            },
            "type": "scatterpolar"
           }
          ],
          "scatterpolargl": [
           {
            "marker": {
             "colorbar": {
              "outlinewidth": 0,
              "ticks": ""
             }
            },
            "type": "scatterpolargl"
           }
          ],
          "scatterternary": [
           {
            "marker": {
             "colorbar": {
              "outlinewidth": 0,
              "ticks": ""
             }
            },
            "type": "scatterternary"
           }
          ],
          "surface": [
           {
            "colorbar": {
             "outlinewidth": 0,
             "ticks": ""
            },
            "colorscale": [
             [
              0,
              "#0d0887"
             ],
             [
              0.1111111111111111,
              "#46039f"
             ],
             [
              0.2222222222222222,
              "#7201a8"
             ],
             [
              0.3333333333333333,
              "#9c179e"
             ],
             [
              0.4444444444444444,
              "#bd3786"
             ],
             [
              0.5555555555555556,
              "#d8576b"
             ],
             [
              0.6666666666666666,
              "#ed7953"
             ],
             [
              0.7777777777777778,
              "#fb9f3a"
             ],
             [
              0.8888888888888888,
              "#fdca26"
             ],
             [
              1,
              "#f0f921"
             ]
            ],
            "type": "surface"
           }
          ],
          "table": [
           {
            "cells": {
             "fill": {
              "color": "#EBF0F8"
             },
             "line": {
              "color": "white"
             }
            },
            "header": {
             "fill": {
              "color": "#C8D4E3"
             },
             "line": {
              "color": "white"
             }
            },
            "type": "table"
           }
          ]
         },
         "layout": {
          "annotationdefaults": {
           "arrowcolor": "#2a3f5f",
           "arrowhead": 0,
           "arrowwidth": 1
          },
          "autotypenumbers": "strict",
          "coloraxis": {
           "colorbar": {
            "outlinewidth": 0,
            "ticks": ""
           }
          },
          "colorscale": {
           "diverging": [
            [
             0,
             "#8e0152"
            ],
            [
             0.1,
             "#c51b7d"
            ],
            [
             0.2,
             "#de77ae"
            ],
            [
             0.3,
             "#f1b6da"
            ],
            [
             0.4,
             "#fde0ef"
            ],
            [
             0.5,
             "#f7f7f7"
            ],
            [
             0.6,
             "#e6f5d0"
            ],
            [
             0.7,
             "#b8e186"
            ],
            [
             0.8,
             "#7fbc41"
            ],
            [
             0.9,
             "#4d9221"
            ],
            [
             1,
             "#276419"
            ]
           ],
           "sequential": [
            [
             0,
             "#0d0887"
            ],
            [
             0.1111111111111111,
             "#46039f"
            ],
            [
             0.2222222222222222,
             "#7201a8"
            ],
            [
             0.3333333333333333,
             "#9c179e"
            ],
            [
             0.4444444444444444,
             "#bd3786"
            ],
            [
             0.5555555555555556,
             "#d8576b"
            ],
            [
             0.6666666666666666,
             "#ed7953"
            ],
            [
             0.7777777777777778,
             "#fb9f3a"
            ],
            [
             0.8888888888888888,
             "#fdca26"
            ],
            [
             1,
             "#f0f921"
            ]
           ],
           "sequentialminus": [
            [
             0,
             "#0d0887"
            ],
            [
             0.1111111111111111,
             "#46039f"
            ],
            [
             0.2222222222222222,
             "#7201a8"
            ],
            [
             0.3333333333333333,
             "#9c179e"
            ],
            [
             0.4444444444444444,
             "#bd3786"
            ],
            [
             0.5555555555555556,
             "#d8576b"
            ],
            [
             0.6666666666666666,
             "#ed7953"
            ],
            [
             0.7777777777777778,
             "#fb9f3a"
            ],
            [
             0.8888888888888888,
             "#fdca26"
            ],
            [
             1,
             "#f0f921"
            ]
           ]
          },
          "colorway": [
           "#636efa",
           "#EF553B",
           "#00cc96",
           "#ab63fa",
           "#FFA15A",
           "#19d3f3",
           "#FF6692",
           "#B6E880",
           "#FF97FF",
           "#FECB52"
          ],
          "font": {
           "color": "#2a3f5f"
          },
          "geo": {
           "bgcolor": "white",
           "lakecolor": "white",
           "landcolor": "#E5ECF6",
           "showlakes": true,
           "showland": true,
           "subunitcolor": "white"
          },
          "hoverlabel": {
           "align": "left"
          },
          "hovermode": "closest",
          "mapbox": {
           "style": "light"
          },
          "paper_bgcolor": "white",
          "plot_bgcolor": "#E5ECF6",
          "polar": {
           "angularaxis": {
            "gridcolor": "white",
            "linecolor": "white",
            "ticks": ""
           },
           "bgcolor": "#E5ECF6",
           "radialaxis": {
            "gridcolor": "white",
            "linecolor": "white",
            "ticks": ""
           }
          },
          "scene": {
           "xaxis": {
            "backgroundcolor": "#E5ECF6",
            "gridcolor": "white",
            "gridwidth": 2,
            "linecolor": "white",
            "showbackground": true,
            "ticks": "",
            "zerolinecolor": "white"
           },
           "yaxis": {
            "backgroundcolor": "#E5ECF6",
            "gridcolor": "white",
            "gridwidth": 2,
            "linecolor": "white",
            "showbackground": true,
            "ticks": "",
            "zerolinecolor": "white"
           },
           "zaxis": {
            "backgroundcolor": "#E5ECF6",
            "gridcolor": "white",
            "gridwidth": 2,
            "linecolor": "white",
            "showbackground": true,
            "ticks": "",
            "zerolinecolor": "white"
           }
          },
          "shapedefaults": {
           "line": {
            "color": "#2a3f5f"
           }
          },
          "ternary": {
           "aaxis": {
            "gridcolor": "white",
            "linecolor": "white",
            "ticks": ""
           },
           "baxis": {
            "gridcolor": "white",
            "linecolor": "white",
            "ticks": ""
           },
           "bgcolor": "#E5ECF6",
           "caxis": {
            "gridcolor": "white",
            "linecolor": "white",
            "ticks": ""
           }
          },
          "title": {
           "x": 0.05
          },
          "xaxis": {
           "automargin": true,
           "gridcolor": "white",
           "linecolor": "white",
           "ticks": "",
           "title": {
            "standoff": 15
           },
           "zerolinecolor": "white",
           "zerolinewidth": 2
          },
          "yaxis": {
           "automargin": true,
           "gridcolor": "white",
           "linecolor": "white",
           "ticks": "",
           "title": {
            "standoff": 15
           },
           "zerolinecolor": "white",
           "zerolinewidth": 2
          }
         }
        }
       }
      },
      "image/png": "[encoded data removed]",
      "text/html": [
       "<div>                            <div id=\"a9518686-3257-4d3d-9df3-799ea346ce96\" class=\"plotly-graph-div\" style=\"height:525px; width:100%;\"></div>            <script type=\"text/javascript\">                require([\"plotly\"], function(Plotly) {                    window.PLOTLYENV=window.PLOTLYENV || {};                                    if (document.getElementById(\"a9518686-3257-4d3d-9df3-799ea346ce96\")) {                    Plotly.newPlot(                        \"a9518686-3257-4d3d-9df3-799ea346ce96\",                        [{\"branchvalues\":\"total\",\"customdata\":[[1.0],[2.0],[1.0],[1.0],[1.0],[1.0],[1.0],[1.0],[1.5],[1.0],[1.0],[1.0],[1.0],[1.0],[1.3333333333333333],[1.0],[1.0],[1.2857142857142858],[1.0],[1.0],[1.0],[2.0],[1.0],[1.0],[1.0],[1.0],[1.0],[1.5714285714285714],[1.0],[1.0],[1.0],[1.0],[1.6666666666666667],[1.0],[1.0],[1.2857142857142858],[1.0],[1.4],[1.0],[1.0],[1.0],[1.0],[1.0],[1.5],[1.0],[1.0],[1.0],[1.0],[1.0],[1.0],[1.0],[1.0],[1.0],[1.0],[1.0],[1.0],[1.0],[1.0],[1.0],[1.0],[1.0],[1.6666666666666667],[1.0],[1.4],[1.3333333333333333],[1.0],[1.0],[1.0],[1.0],[1.0],[1.0],[1.0],[1.0],[1.0],[1.2857142857142858],[1.0],[1.0],[1.8888888888888888],[1.0],[1.0],[1.0],[1.0],[1.6666666666666667],[1.5714285714285714],[1.1818181818181819],[1.0],[1.0],[1.0],[1.2222222222222223],[1.5],[1.0],[1.0],[1.2857142857142858],[1.0],[1.0],[1.0],[1.0],[1.0],[1.0],[1.0],[1.0],[1.0],[1.0],[1.0],[1.0],[1.2857142857142858],[1.0],[1.0],[1.0],[1.0],[1.0],[1.4],[1.2857142857142858],[1.1818181818181819],[1.1333333333333333],[1.1428571428571428],[1.0],[1.0],[1.0],[1.0],[1.5714285714285714],[1.0],[1.0],[1.0],[1.0],[1.0],[1.4285714285714286],[1.0],[1.0],[1.0],[1.0],[1.8],[1.0],[1.0],[1.0],[1.1538461538461537],[1.5],[1.5],[1.1333333333333333],[1.0],[1.0],[1.0],[1.0],[1.1428571428571428],[1.3636363636363635],[1.1538461538461537],[1.1],[1.1904761904761905],[1.0],[1.0],[1.0],[1.0],[1.5714285714285714],[1.0],[1.0],[1.0],[1.0],[1.0],[1.3],[1.0],[1.0],[1.0],[1.0],[1.7058823529411764],[1.0],[1.0],[1.0],[1.2],[1.5],[1.48],[1.1176470588235294],[1.0],[1.0],[1.0],[1.0],[1.2105263157894737],[1.0],[1.1875],[1.4166666666666667],[1.0],[1.1379310344827587],[1.3461538461538463],[1.0],[1.0],[1.1],[1.0],[1.1818181818181819],[1.1764705882352942],[1.204225352112676]],\"domain\":{\"x\":[0.0,1.0],\"y\":[0.0,1.0]},\"hovertemplate\":\"labels=%{label}<br>sum_WBev_sum=%{value}<br>parent=%{parent}<br>id=%{id}<br>sum_WBev=%{color}<extra></extra>\",\"ids\":[\"Aktuelle Geburten nach Stadtkreis, Quartier, Alter und Herkunft/Kreis 3/Alt-Wiedikon/Ausl\\u00e4nder/in/m\\u00e4nnlich\",\"Aktuelle Geburten nach Stadtkreis, Quartier, Alter und Herkunft/Kreis 9/Altstetten/Ausl\\u00e4nder/in/m\\u00e4nnlich\",\"Aktuelle Geburten nach Stadtkreis, Quartier, Alter und Herkunft/Kreis 7/Fluntern/Ausl\\u00e4nder/in/m\\u00e4nnlich\",\"Aktuelle Geburten nach Stadtkreis, Quartier, Alter und Herkunft/Kreis 5/Gewerbeschule/Ausl\\u00e4nder/in/m\\u00e4nnlich\",\"Aktuelle Geburten nach Stadtkreis, Quartier, Alter und Herkunft/Kreis 12/Hirzenbach/Ausl\\u00e4nder/in/m\\u00e4nnlich\",\"Aktuelle Geburten nach Stadtkreis, Quartier, Alter und Herkunft/Kreis 10/H\\u00f6ngg/Ausl\\u00e4nder/in/m\\u00e4nnlich\",\"Aktuelle Geburten nach Stadtkreis, Quartier, Alter und Herkunft/Kreis 6/Oberstrass/Ausl\\u00e4nder/in/m\\u00e4nnlich\",\"Aktuelle Geburten nach Stadtkreis, Quartier, Alter und Herkunft/Kreis 11/Oerlikon/Ausl\\u00e4nder/in/m\\u00e4nnlich\",\"Aktuelle Geburten nach Stadtkreis, Quartier, Alter und Herkunft/Kreis 11/Seebach/Ausl\\u00e4nder/in/m\\u00e4nnlich\",\"Aktuelle Geburten nach Stadtkreis, Quartier, Alter und Herkunft/Kreis 3/Sihlfeld/Ausl\\u00e4nder/in/m\\u00e4nnlich\",\"Aktuelle Geburten nach Stadtkreis, Quartier, Alter und Herkunft/Kreis 8/Weinegg/Ausl\\u00e4nder/in/m\\u00e4nnlich\",\"Aktuelle Geburten nach Stadtkreis, Quartier, Alter und Herkunft/Kreis 10/Wipkingen/Ausl\\u00e4nder/in/m\\u00e4nnlich\",\"Aktuelle Geburten nach Stadtkreis, Quartier, Alter und Herkunft/Kreis 7/Witikon/Ausl\\u00e4nder/in/m\\u00e4nnlich\",\"Aktuelle Geburten nach Stadtkreis, Quartier, Alter und Herkunft/Kreis 2/Wollishofen/Ausl\\u00e4nder/in/m\\u00e4nnlich\",\"Aktuelle Geburten nach Stadtkreis, Quartier, Alter und Herkunft/Kreis 11/Affoltern/Schweizer/in/m\\u00e4nnlich\",\"Aktuelle Geburten nach Stadtkreis, Quartier, Alter und Herkunft/Kreis 9/Albisrieden/Schweizer/in/m\\u00e4nnlich\",\"Aktuelle Geburten nach Stadtkreis, Quartier, Alter und Herkunft/Kreis 3/Alt-Wiedikon/Schweizer/in/m\\u00e4nnlich\",\"Aktuelle Geburten nach Stadtkreis, Quartier, Alter und Herkunft/Kreis 9/Altstetten/Schweizer/in/m\\u00e4nnlich\",\"Aktuelle Geburten nach Stadtkreis, Quartier, Alter und Herkunft/Kreis 2/Enge/Schweizer/in/m\\u00e4nnlich\",\"Aktuelle Geburten nach Stadtkreis, Quartier, Alter und Herkunft/Kreis 5/Escher Wyss/Schweizer/in/m\\u00e4nnlich\",\"Aktuelle Geburten nach Stadtkreis, Quartier, Alter und Herkunft/Kreis 7/Fluntern/Schweizer/in/m\\u00e4nnlich\",\"Aktuelle Geburten nach Stadtkreis, Quartier, Alter und Herkunft/Kreis 3/Friesenberg/Schweizer/in/m\\u00e4nnlich\",\"Aktuelle Geburten nach Stadtkreis, Quartier, Alter und Herkunft/Kreis 5/Gewerbeschule/Schweizer/in/m\\u00e4nnlich\",\"Aktuelle Geburten nach Stadtkreis, Quartier, Alter und Herkunft/Kreis 4/Hard/Schweizer/in/m\\u00e4nnlich\",\"Aktuelle Geburten nach Stadtkreis, Quartier, Alter und Herkunft/Kreis 7/Hirslanden/Schweizer/in/m\\u00e4nnlich\",\"Aktuelle Geburten nach Stadtkreis, Quartier, Alter und Herkunft/Kreis 12/Hirzenbach/Schweizer/in/m\\u00e4nnlich\",\"Aktuelle Geburten nach Stadtkreis, Quartier, Alter und Herkunft/Kreis 7/Hottingen/Schweizer/in/m\\u00e4nnlich\",\"Aktuelle Geburten nach Stadtkreis, Quartier, Alter und Herkunft/Kreis 10/H\\u00f6ngg/Schweizer/in/m\\u00e4nnlich\",\"Aktuelle Geburten nach Stadtkreis, Quartier, Alter und Herkunft/Kreis 4/Langstrasse/Schweizer/in/m\\u00e4nnlich\",\"Aktuelle Geburten nach Stadtkreis, Quartier, Alter und Herkunft/Kreis 2/Leimbach/Schweizer/in/m\\u00e4nnlich\",\"Aktuelle Geburten nach Stadtkreis, Quartier, Alter und Herkunft/Kreis 8/M\\u00fchlebach/Schweizer/in/m\\u00e4nnlich\",\"Aktuelle Geburten nach Stadtkreis, Quartier, Alter und Herkunft/Kreis 6/Oberstrass/Schweizer/in/m\\u00e4nnlich\",\"Aktuelle Geburten nach Stadtkreis, Quartier, Alter und Herkunft/Kreis 11/Oerlikon/Schweizer/in/m\\u00e4nnlich\",\"Aktuelle Geburten nach Stadtkreis, Quartier, Alter und Herkunft/Kreis 12/Saatlen/Schweizer/in/m\\u00e4nnlich\",\"Aktuelle Geburten nach Stadtkreis, Quartier, Alter und Herkunft/Kreis 12/Schwamendingen-Mitte/Schweizer/in/m\\u00e4nnlich\",\"Aktuelle Geburten nach Stadtkreis, Quartier, Alter und Herkunft/Kreis 11/Seebach/Schweizer/in/m\\u00e4nnlich\",\"Aktuelle Geburten nach Stadtkreis, Quartier, Alter und Herkunft/Kreis 8/Seefeld/Schweizer/in/m\\u00e4nnlich\",\"Aktuelle Geburten nach Stadtkreis, Quartier, Alter und Herkunft/Kreis 3/Sihlfeld/Schweizer/in/m\\u00e4nnlich\",\"Aktuelle Geburten nach Stadtkreis, Quartier, Alter und Herkunft/Kreis 6/Unterstrass/Schweizer/in/m\\u00e4nnlich\",\"Aktuelle Geburten nach Stadtkreis, Quartier, Alter und Herkunft/Kreis 4/Werd/Schweizer/in/m\\u00e4nnlich\",\"Aktuelle Geburten nach Stadtkreis, Quartier, Alter und Herkunft/Kreis 10/Wipkingen/Schweizer/in/m\\u00e4nnlich\",\"Aktuelle Geburten nach Stadtkreis, Quartier, Alter und Herkunft/Kreis 7/Witikon/Schweizer/in/m\\u00e4nnlich\",\"Aktuelle Geburten nach Stadtkreis, Quartier, Alter und Herkunft/Kreis 2/Wollishofen/Schweizer/in/m\\u00e4nnlich\",\"Aktuelle Geburten nach Stadtkreis, Quartier, Alter und Herkunft/Kreis 11/Affoltern/Ausl\\u00e4nder/in/weiblich\",\"Aktuelle Geburten nach Stadtkreis, Quartier, Alter und Herkunft/Kreis 9/Albisrieden/Ausl\\u00e4nder/in/weiblich\",\"Aktuelle Geburten nach Stadtkreis, Quartier, Alter und Herkunft/Kreis 3/Alt-Wiedikon/Ausl\\u00e4nder/in/weiblich\",\"Aktuelle Geburten nach Stadtkreis, Quartier, Alter und Herkunft/Kreis 9/Altstetten/Ausl\\u00e4nder/in/weiblich\",\"Aktuelle Geburten nach Stadtkreis, Quartier, Alter und Herkunft/Kreis 2/Enge/Ausl\\u00e4nder/in/weiblich\",\"Aktuelle Geburten nach Stadtkreis, Quartier, Alter und Herkunft/Kreis 7/Fluntern/Ausl\\u00e4nder/in/weiblich\",\"Aktuelle Geburten nach Stadtkreis, Quartier, Alter und Herkunft/Kreis 7/Hirslanden/Ausl\\u00e4nder/in/weiblich\",\"Aktuelle Geburten nach Stadtkreis, Quartier, Alter und Herkunft/Kreis 12/Hirzenbach/Ausl\\u00e4nder/in/weiblich\",\"Aktuelle Geburten nach Stadtkreis, Quartier, Alter und Herkunft/Kreis 7/Hottingen/Ausl\\u00e4nder/in/weiblich\",\"Aktuelle Geburten nach Stadtkreis, Quartier, Alter und Herkunft/Kreis 10/H\\u00f6ngg/Ausl\\u00e4nder/in/weiblich\",\"Aktuelle Geburten nach Stadtkreis, Quartier, Alter und Herkunft/Kreis 2/Leimbach/Ausl\\u00e4nder/in/weiblich\",\"Aktuelle Geburten nach Stadtkreis, Quartier, Alter und Herkunft/Kreis 11/Oerlikon/Ausl\\u00e4nder/in/weiblich\",\"Aktuelle Geburten nach Stadtkreis, Quartier, Alter und Herkunft/Kreis 1/Rathaus/Ausl\\u00e4nder/in/weiblich\",\"Aktuelle Geburten nach Stadtkreis, Quartier, Alter und Herkunft/Kreis 12/Schwamendingen-Mitte/Ausl\\u00e4nder/in/weiblich\",\"Aktuelle Geburten nach Stadtkreis, Quartier, Alter und Herkunft/Kreis 11/Seebach/Ausl\\u00e4nder/in/weiblich\",\"Aktuelle Geburten nach Stadtkreis, Quartier, Alter und Herkunft/Kreis 6/Unterstrass/Ausl\\u00e4nder/in/weiblich\",\"Aktuelle Geburten nach Stadtkreis, Quartier, Alter und Herkunft/Kreis 8/Weinegg/Ausl\\u00e4nder/in/weiblich\",\"Aktuelle Geburten nach Stadtkreis, Quartier, Alter und Herkunft/Kreis 10/Wipkingen/Ausl\\u00e4nder/in/weiblich\",\"Aktuelle Geburten nach Stadtkreis, Quartier, Alter und Herkunft/Kreis 2/Wollishofen/Ausl\\u00e4nder/in/weiblich\",\"Aktuelle Geburten nach Stadtkreis, Quartier, Alter und Herkunft/Kreis 11/Affoltern/Schweizer/in/weiblich\",\"Aktuelle Geburten nach Stadtkreis, Quartier, Alter und Herkunft/Kreis 9/Albisrieden/Schweizer/in/weiblich\",\"Aktuelle Geburten nach Stadtkreis, Quartier, Alter und Herkunft/Kreis 3/Alt-Wiedikon/Schweizer/in/weiblich\",\"Aktuelle Geburten nach Stadtkreis, Quartier, Alter und Herkunft/Kreis 9/Altstetten/Schweizer/in/weiblich\",\"Aktuelle Geburten nach Stadtkreis, Quartier, Alter und Herkunft/Kreis 1/City/Schweizer/in/weiblich\",\"Aktuelle Geburten nach Stadtkreis, Quartier, Alter und Herkunft/Kreis 2/Enge/Schweizer/in/weiblich\",\"Aktuelle Geburten nach Stadtkreis, Quartier, Alter und Herkunft/Kreis 3/Friesenberg/Schweizer/in/weiblich\",\"Aktuelle Geburten nach Stadtkreis, Quartier, Alter und Herkunft/Kreis 5/Gewerbeschule/Schweizer/in/weiblich\",\"Aktuelle Geburten nach Stadtkreis, Quartier, Alter und Herkunft/Kreis 4/Hard/Schweizer/in/weiblich\",\"Aktuelle Geburten nach Stadtkreis, Quartier, Alter und Herkunft/Kreis 7/Hirslanden/Schweizer/in/weiblich\",\"Aktuelle Geburten nach Stadtkreis, Quartier, Alter und Herkunft/Kreis 12/Hirzenbach/Schweizer/in/weiblich\",\"Aktuelle Geburten nach Stadtkreis, Quartier, Alter und Herkunft/Kreis 7/Hottingen/Schweizer/in/weiblich\",\"Aktuelle Geburten nach Stadtkreis, Quartier, Alter und Herkunft/Kreis 10/H\\u00f6ngg/Schweizer/in/weiblich\",\"Aktuelle Geburten nach Stadtkreis, Quartier, Alter und Herkunft/Kreis 4/Langstrasse/Schweizer/in/weiblich\",\"Aktuelle Geburten nach Stadtkreis, Quartier, Alter und Herkunft/Kreis 2/Leimbach/Schweizer/in/weiblich\",\"Aktuelle Geburten nach Stadtkreis, Quartier, Alter und Herkunft/Kreis 11/Oerlikon/Schweizer/in/weiblich\",\"Aktuelle Geburten nach Stadtkreis, Quartier, Alter und Herkunft/Kreis 1/Rathaus/Schweizer/in/weiblich\",\"Aktuelle Geburten nach Stadtkreis, Quartier, Alter und Herkunft/Kreis 12/Saatlen/Schweizer/in/weiblich\",\"Aktuelle Geburten nach Stadtkreis, Quartier, Alter und Herkunft/Kreis 12/Schwamendingen-Mitte/Schweizer/in/weiblich\",\"Aktuelle Geburten nach Stadtkreis, Quartier, Alter und Herkunft/Kreis 11/Seebach/Schweizer/in/weiblich\",\"Aktuelle Geburten nach Stadtkreis, Quartier, Alter und Herkunft/Kreis 8/Seefeld/Schweizer/in/weiblich\",\"Aktuelle Geburten nach Stadtkreis, Quartier, Alter und Herkunft/Kreis 3/Sihlfeld/Schweizer/in/weiblich\",\"Aktuelle Geburten nach Stadtkreis, Quartier, Alter und Herkunft/Kreis 6/Unterstrass/Schweizer/in/weiblich\",\"Aktuelle Geburten nach Stadtkreis, Quartier, Alter und Herkunft/Kreis 8/Weinegg/Schweizer/in/weiblich\",\"Aktuelle Geburten nach Stadtkreis, Quartier, Alter und Herkunft/Kreis 10/Wipkingen/Schweizer/in/weiblich\",\"Aktuelle Geburten nach Stadtkreis, Quartier, Alter und Herkunft/Kreis 7/Witikon/Schweizer/in/weiblich\",\"Aktuelle Geburten nach Stadtkreis, Quartier, Alter und Herkunft/Kreis 2/Wollishofen/Schweizer/in/weiblich\",\"Aktuelle Geburten nach Stadtkreis, Quartier, Alter und Herkunft/Kreis 11/Affoltern/Ausl\\u00e4nder/in\",\"Aktuelle Geburten nach Stadtkreis, Quartier, Alter und Herkunft/Kreis 9/Albisrieden/Ausl\\u00e4nder/in\",\"Aktuelle Geburten nach Stadtkreis, Quartier, Alter und Herkunft/Kreis 3/Alt-Wiedikon/Ausl\\u00e4nder/in\",\"Aktuelle Geburten nach Stadtkreis, Quartier, Alter und Herkunft/Kreis 9/Altstetten/Ausl\\u00e4nder/in\",\"Aktuelle Geburten nach Stadtkreis, Quartier, Alter und Herkunft/Kreis 2/Enge/Ausl\\u00e4nder/in\",\"Aktuelle Geburten nach Stadtkreis, Quartier, Alter und Herkunft/Kreis 7/Fluntern/Ausl\\u00e4nder/in\",\"Aktuelle Geburten nach Stadtkreis, Quartier, Alter und Herkunft/Kreis 5/Gewerbeschule/Ausl\\u00e4nder/in\",\"Aktuelle Geburten nach Stadtkreis, Quartier, Alter und Herkunft/Kreis 7/Hirslanden/Ausl\\u00e4nder/in\",\"Aktuelle Geburten nach Stadtkreis, Quartier, Alter und Herkunft/Kreis 12/Hirzenbach/Ausl\\u00e4nder/in\",\"Aktuelle Geburten nach Stadtkreis, Quartier, Alter und Herkunft/Kreis 7/Hottingen/Ausl\\u00e4nder/in\",\"Aktuelle Geburten nach Stadtkreis, Quartier, Alter und Herkunft/Kreis 10/H\\u00f6ngg/Ausl\\u00e4nder/in\",\"Aktuelle Geburten nach Stadtkreis, Quartier, Alter und Herkunft/Kreis 2/Leimbach/Ausl\\u00e4nder/in\",\"Aktuelle Geburten nach Stadtkreis, Quartier, Alter und Herkunft/Kreis 6/Oberstrass/Ausl\\u00e4nder/in\",\"Aktuelle Geburten nach Stadtkreis, Quartier, Alter und Herkunft/Kreis 11/Oerlikon/Ausl\\u00e4nder/in\",\"Aktuelle Geburten nach Stadtkreis, Quartier, Alter und Herkunft/Kreis 1/Rathaus/Ausl\\u00e4nder/in\",\"Aktuelle Geburten nach Stadtkreis, Quartier, Alter und Herkunft/Kreis 12/Schwamendingen-Mitte/Ausl\\u00e4nder/in\",\"Aktuelle Geburten nach Stadtkreis, Quartier, Alter und Herkunft/Kreis 11/Seebach/Ausl\\u00e4nder/in\",\"Aktuelle Geburten nach Stadtkreis, Quartier, Alter und Herkunft/Kreis 3/Sihlfeld/Ausl\\u00e4nder/in\",\"Aktuelle Geburten nach Stadtkreis, Quartier, Alter und Herkunft/Kreis 6/Unterstrass/Ausl\\u00e4nder/in\",\"Aktuelle Geburten nach Stadtkreis, Quartier, Alter und Herkunft/Kreis 8/Weinegg/Ausl\\u00e4nder/in\",\"Aktuelle Geburten nach Stadtkreis, Quartier, Alter und Herkunft/Kreis 10/Wipkingen/Ausl\\u00e4nder/in\",\"Aktuelle Geburten nach Stadtkreis, Quartier, Alter und Herkunft/Kreis 7/Witikon/Ausl\\u00e4nder/in\",\"Aktuelle Geburten nach Stadtkreis, Quartier, Alter und Herkunft/Kreis 2/Wollishofen/Ausl\\u00e4nder/in\",\"Aktuelle Geburten nach Stadtkreis, Quartier, Alter und Herkunft/Kreis 11/Affoltern/Schweizer/in\",\"Aktuelle Geburten nach Stadtkreis, Quartier, Alter und Herkunft/Kreis 9/Albisrieden/Schweizer/in\",\"Aktuelle Geburten nach Stadtkreis, Quartier, Alter und Herkunft/Kreis 3/Alt-Wiedikon/Schweizer/in\",\"Aktuelle Geburten nach Stadtkreis, Quartier, Alter und Herkunft/Kreis 9/Altstetten/Schweizer/in\",\"Aktuelle Geburten nach Stadtkreis, Quartier, Alter und Herkunft/Kreis 1/City/Schweizer/in\",\"Aktuelle Geburten nach Stadtkreis, Quartier, Alter und Herkunft/Kreis 2/Enge/Schweizer/in\",\"Aktuelle Geburten nach Stadtkreis, Quartier, Alter und Herkunft/Kreis 5/Escher Wyss/Schweizer/in\",\"Aktuelle Geburten nach Stadtkreis, Quartier, Alter und Herkunft/Kreis 7/Fluntern/Schweizer/in\",\"Aktuelle Geburten nach Stadtkreis, Quartier, Alter und Herkunft/Kreis 3/Friesenberg/Schweizer/in\",\"Aktuelle Geburten nach Stadtkreis, Quartier, Alter und Herkunft/Kreis 5/Gewerbeschule/Schweizer/in\",\"Aktuelle Geburten nach Stadtkreis, Quartier, Alter und Herkunft/Kreis 4/Hard/Schweizer/in\",\"Aktuelle Geburten nach Stadtkreis, Quartier, Alter und Herkunft/Kreis 7/Hirslanden/Schweizer/in\",\"Aktuelle Geburten nach Stadtkreis, Quartier, Alter und Herkunft/Kreis 12/Hirzenbach/Schweizer/in\",\"Aktuelle Geburten nach Stadtkreis, Quartier, Alter und Herkunft/Kreis 7/Hottingen/Schweizer/in\",\"Aktuelle Geburten nach Stadtkreis, Quartier, Alter und Herkunft/Kreis 10/H\\u00f6ngg/Schweizer/in\",\"Aktuelle Geburten nach Stadtkreis, Quartier, Alter und Herkunft/Kreis 4/Langstrasse/Schweizer/in\",\"Aktuelle Geburten nach Stadtkreis, Quartier, Alter und Herkunft/Kreis 2/Leimbach/Schweizer/in\",\"Aktuelle Geburten nach Stadtkreis, Quartier, Alter und Herkunft/Kreis 8/M\\u00fchlebach/Schweizer/in\",\"Aktuelle Geburten nach Stadtkreis, Quartier, Alter und Herkunft/Kreis 6/Oberstrass/Schweizer/in\",\"Aktuelle Geburten nach Stadtkreis, Quartier, Alter und Herkunft/Kreis 11/Oerlikon/Schweizer/in\",\"Aktuelle Geburten nach Stadtkreis, Quartier, Alter und Herkunft/Kreis 1/Rathaus/Schweizer/in\",\"Aktuelle Geburten nach Stadtkreis, Quartier, Alter und Herkunft/Kreis 12/Saatlen/Schweizer/in\",\"Aktuelle Geburten nach Stadtkreis, Quartier, Alter und Herkunft/Kreis 12/Schwamendingen-Mitte/Schweizer/in\",\"Aktuelle Geburten nach Stadtkreis, Quartier, Alter und Herkunft/Kreis 11/Seebach/Schweizer/in\",\"Aktuelle Geburten nach Stadtkreis, Quartier, Alter und Herkunft/Kreis 8/Seefeld/Schweizer/in\",\"Aktuelle Geburten nach Stadtkreis, Quartier, Alter und Herkunft/Kreis 3/Sihlfeld/Schweizer/in\",\"Aktuelle Geburten nach Stadtkreis, Quartier, Alter und Herkunft/Kreis 6/Unterstrass/Schweizer/in\",\"Aktuelle Geburten nach Stadtkreis, Quartier, Alter und Herkunft/Kreis 8/Weinegg/Schweizer/in\",\"Aktuelle Geburten nach Stadtkreis, Quartier, Alter und Herkunft/Kreis 4/Werd/Schweizer/in\",\"Aktuelle Geburten nach Stadtkreis, Quartier, Alter und Herkunft/Kreis 10/Wipkingen/Schweizer/in\",\"Aktuelle Geburten nach Stadtkreis, Quartier, Alter und Herkunft/Kreis 7/Witikon/Schweizer/in\",\"Aktuelle Geburten nach Stadtkreis, Quartier, Alter und Herkunft/Kreis 2/Wollishofen/Schweizer/in\",\"Aktuelle Geburten nach Stadtkreis, Quartier, Alter und Herkunft/Kreis 11/Affoltern\",\"Aktuelle Geburten nach Stadtkreis, Quartier, Alter und Herkunft/Kreis 9/Albisrieden\",\"Aktuelle Geburten nach Stadtkreis, Quartier, Alter und Herkunft/Kreis 3/Alt-Wiedikon\",\"Aktuelle Geburten nach Stadtkreis, Quartier, Alter und Herkunft/Kreis 9/Altstetten\",\"Aktuelle Geburten nach Stadtkreis, Quartier, Alter und Herkunft/Kreis 1/City\",\"Aktuelle Geburten nach Stadtkreis, Quartier, Alter und Herkunft/Kreis 2/Enge\",\"Aktuelle Geburten nach Stadtkreis, Quartier, Alter und Herkunft/Kreis 5/Escher Wyss\",\"Aktuelle Geburten nach Stadtkreis, Quartier, Alter und Herkunft/Kreis 7/Fluntern\",\"Aktuelle Geburten nach Stadtkreis, Quartier, Alter und Herkunft/Kreis 3/Friesenberg\",\"Aktuelle Geburten nach Stadtkreis, Quartier, Alter und Herkunft/Kreis 5/Gewerbeschule\",\"Aktuelle Geburten nach Stadtkreis, Quartier, Alter und Herkunft/Kreis 4/Hard\",\"Aktuelle Geburten nach Stadtkreis, Quartier, Alter und Herkunft/Kreis 7/Hirslanden\",\"Aktuelle Geburten nach Stadtkreis, Quartier, Alter und Herkunft/Kreis 12/Hirzenbach\",\"Aktuelle Geburten nach Stadtkreis, Quartier, Alter und Herkunft/Kreis 7/Hottingen\",\"Aktuelle Geburten nach Stadtkreis, Quartier, Alter und Herkunft/Kreis 10/H\\u00f6ngg\",\"Aktuelle Geburten nach Stadtkreis, Quartier, Alter und Herkunft/Kreis 4/Langstrasse\",\"Aktuelle Geburten nach Stadtkreis, Quartier, Alter und Herkunft/Kreis 2/Leimbach\",\"Aktuelle Geburten nach Stadtkreis, Quartier, Alter und Herkunft/Kreis 8/M\\u00fchlebach\",\"Aktuelle Geburten nach Stadtkreis, Quartier, Alter und Herkunft/Kreis 6/Oberstrass\",\"Aktuelle Geburten nach Stadtkreis, Quartier, Alter und Herkunft/Kreis 11/Oerlikon\",\"Aktuelle Geburten nach Stadtkreis, Quartier, Alter und Herkunft/Kreis 1/Rathaus\",\"Aktuelle Geburten nach Stadtkreis, Quartier, Alter und Herkunft/Kreis 12/Saatlen\",\"Aktuelle Geburten nach Stadtkreis, Quartier, Alter und Herkunft/Kreis 12/Schwamendingen-Mitte\",\"Aktuelle Geburten nach Stadtkreis, Quartier, Alter und Herkunft/Kreis 11/Seebach\",\"Aktuelle Geburten nach Stadtkreis, Quartier, Alter und Herkunft/Kreis 8/Seefeld\",\"Aktuelle Geburten nach Stadtkreis, Quartier, Alter und Herkunft/Kreis 3/Sihlfeld\",\"Aktuelle Geburten nach Stadtkreis, Quartier, Alter und Herkunft/Kreis 6/Unterstrass\",\"Aktuelle Geburten nach Stadtkreis, Quartier, Alter und Herkunft/Kreis 8/Weinegg\",\"Aktuelle Geburten nach Stadtkreis, Quartier, Alter und Herkunft/Kreis 4/Werd\",\"Aktuelle Geburten nach Stadtkreis, Quartier, Alter und Herkunft/Kreis 10/Wipkingen\",\"Aktuelle Geburten nach Stadtkreis, Quartier, Alter und Herkunft/Kreis 7/Witikon\",\"Aktuelle Geburten nach Stadtkreis, Quartier, Alter und Herkunft/Kreis 2/Wollishofen\",\"Aktuelle Geburten nach Stadtkreis, Quartier, Alter und Herkunft/Kreis 1\",\"Aktuelle Geburten nach Stadtkreis, Quartier, Alter und Herkunft/Kreis 10\",\"Aktuelle Geburten nach Stadtkreis, Quartier, Alter und Herkunft/Kreis 11\",\"Aktuelle Geburten nach Stadtkreis, Quartier, Alter und Herkunft/Kreis 12\",\"Aktuelle Geburten nach Stadtkreis, Quartier, Alter und Herkunft/Kreis 2\",\"Aktuelle Geburten nach Stadtkreis, Quartier, Alter und Herkunft/Kreis 3\",\"Aktuelle Geburten nach Stadtkreis, Quartier, Alter und Herkunft/Kreis 4\",\"Aktuelle Geburten nach Stadtkreis, Quartier, Alter und Herkunft/Kreis 5\",\"Aktuelle Geburten nach Stadtkreis, Quartier, Alter und Herkunft/Kreis 6\",\"Aktuelle Geburten nach Stadtkreis, Quartier, Alter und Herkunft/Kreis 7\",\"Aktuelle Geburten nach Stadtkreis, Quartier, Alter und Herkunft/Kreis 8\",\"Aktuelle Geburten nach Stadtkreis, Quartier, Alter und Herkunft/Kreis 9\",\"Aktuelle Geburten nach Stadtkreis, Quartier, Alter und Herkunft\"],\"labels\":[\"m\\u00e4nnlich\",\"m\\u00e4nnlich\",\"m\\u00e4nnlich\",\"m\\u00e4nnlich\",\"m\\u00e4nnlich\",\"m\\u00e4nnlich\",\"m\\u00e4nnlich\",\"m\\u00e4nnlich\",\"m\\u00e4nnlich\",\"m\\u00e4nnlich\",\"m\\u00e4nnlich\",\"m\\u00e4nnlich\",\"m\\u00e4nnlich\",\"m\\u00e4nnlich\",\"m\\u00e4nnlich\",\"m\\u00e4nnlich\",\"m\\u00e4nnlich\",\"m\\u00e4nnlich\",\"m\\u00e4nnlich\",\"m\\u00e4nnlich\",\"m\\u00e4nnlich\",\"m\\u00e4nnlich\",\"m\\u00e4nnlich\",\"m\\u00e4nnlich\",\"m\\u00e4nnlich\",\"m\\u00e4nnlich\",\"m\\u00e4nnlich\",\"m\\u00e4nnlich\",\"m\\u00e4nnlich\",\"m\\u00e4nnlich\",\"m\\u00e4nnlich\",\"m\\u00e4nnlich\",\"m\\u00e4nnlich\",\"m\\u00e4nnlich\",\"m\\u00e4nnlich\",\"m\\u00e4nnlich\",\"m\\u00e4nnlich\",\"m\\u00e4nnlich\",\"m\\u00e4nnlich\",\"m\\u00e4nnlich\",\"m\\u00e4nnlich\",\"m\\u00e4nnlich\",\"m\\u00e4nnlich\",\"weiblich\",\"weiblich\",\"weiblich\",\"weiblich\",\"weiblich\",\"weiblich\",\"weiblich\",\"weiblich\",\"weiblich\",\"weiblich\",\"weiblich\",\"weiblich\",\"weiblich\",\"weiblich\",\"weiblich\",\"weiblich\",\"weiblich\",\"weiblich\",\"weiblich\",\"weiblich\",\"weiblich\",\"weiblich\",\"weiblich\",\"weiblich\",\"weiblich\",\"weiblich\",\"weiblich\",\"weiblich\",\"weiblich\",\"weiblich\",\"weiblich\",\"weiblich\",\"weiblich\",\"weiblich\",\"weiblich\",\"weiblich\",\"weiblich\",\"weiblich\",\"weiblich\",\"weiblich\",\"weiblich\",\"weiblich\",\"weiblich\",\"weiblich\",\"weiblich\",\"weiblich\",\"Ausl\\u00e4nder/in\",\"Ausl\\u00e4nder/in\",\"Ausl\\u00e4nder/in\",\"Ausl\\u00e4nder/in\",\"Ausl\\u00e4nder/in\",\"Ausl\\u00e4nder/in\",\"Ausl\\u00e4nder/in\",\"Ausl\\u00e4nder/in\",\"Ausl\\u00e4nder/in\",\"Ausl\\u00e4nder/in\",\"Ausl\\u00e4nder/in\",\"Ausl\\u00e4nder/in\",\"Ausl\\u00e4nder/in\",\"Ausl\\u00e4nder/in\",\"Ausl\\u00e4nder/in\",\"Ausl\\u00e4nder/in\",\"Ausl\\u00e4nder/in\",\"Ausl\\u00e4nder/in\",\"Ausl\\u00e4nder/in\",\"Ausl\\u00e4nder/in\",\"Ausl\\u00e4nder/in\",\"Ausl\\u00e4nder/in\",\"Ausl\\u00e4nder/in\",\"Schweizer/in\",\"Schweizer/in\",\"Schweizer/in\",\"Schweizer/in\",\"Schweizer/in\",\"Schweizer/in\",\"Schweizer/in\",\"Schweizer/in\",\"Schweizer/in\",\"Schweizer/in\",\"Schweizer/in\",\"Schweizer/in\",\"Schweizer/in\",\"Schweizer/in\",\"Schweizer/in\",\"Schweizer/in\",\"Schweizer/in\",\"Schweizer/in\",\"Schweizer/in\",\"Schweizer/in\",\"Schweizer/in\",\"Schweizer/in\",\"Schweizer/in\",\"Schweizer/in\",\"Schweizer/in\",\"Schweizer/in\",\"Schweizer/in\",\"Schweizer/in\",\"Schweizer/in\",\"Schweizer/in\",\"Schweizer/in\",\"Schweizer/in\",\"Affoltern\",\"Albisrieden\",\"Alt-Wiedikon\",\"Altstetten\",\"City\",\"Enge\",\"Escher Wyss\",\"Fluntern\",\"Friesenberg\",\"Gewerbeschule\",\"Hard\",\"Hirslanden\",\"Hirzenbach\",\"Hottingen\",\"H\\u00f6ngg\",\"Langstrasse\",\"Leimbach\",\"M\\u00fchlebach\",\"Oberstrass\",\"Oerlikon\",\"Rathaus\",\"Saatlen\",\"Schwamendingen-Mitte\",\"Seebach\",\"Seefeld\",\"Sihlfeld\",\"Unterstrass\",\"Weinegg\",\"Werd\",\"Wipkingen\",\"Witikon\",\"Wollishofen\",\"Kreis 1\",\"Kreis 10\",\"Kreis 11\",\"Kreis 12\",\"Kreis 2\",\"Kreis 3\",\"Kreis 4\",\"Kreis 5\",\"Kreis 6\",\"Kreis 7\",\"Kreis 8\",\"Kreis 9\",\"Aktuelle Geburten nach Stadtkreis, Quartier, Alter und Herkunft\"],\"marker\":{\"coloraxis\":\"coloraxis\",\"colors\":[1.0,2.0,1.0,1.0,1.0,1.0,1.0,1.0,1.5,1.0,1.0,1.0,1.0,1.0,1.3333333333333333,1.0,1.0,1.2857142857142858,1.0,1.0,1.0,2.0,1.0,1.0,1.0,1.0,1.0,1.5714285714285714,1.0,1.0,1.0,1.0,1.6666666666666667,1.0,1.0,1.2857142857142858,1.0,1.4,1.0,1.0,1.0,1.0,1.0,1.5,1.0,1.0,1.0,1.0,1.0,1.0,1.0,1.0,1.0,1.0,1.0,1.0,1.0,1.0,1.0,1.0,1.0,1.6666666666666667,1.0,1.4,1.3333333333333333,1.0,1.0,1.0,1.0,1.0,1.0,1.0,1.0,1.0,1.2857142857142858,1.0,1.0,1.8888888888888888,1.0,1.0,1.0,1.0,1.6666666666666667,1.5714285714285714,1.1818181818181819,1.0,1.0,1.0,1.2222222222222223,1.5,1.0,1.0,1.2857142857142858,1.0,1.0,1.0,1.0,1.0,1.0,1.0,1.0,1.0,1.0,1.0,1.0,1.2857142857142858,1.0,1.0,1.0,1.0,1.0,1.4,1.2857142857142858,1.1818181818181819,1.1333333333333333,1.1428571428571428,1.0,1.0,1.0,1.0,1.5714285714285714,1.0,1.0,1.0,1.0,1.0,1.4285714285714286,1.0,1.0,1.0,1.0,1.8,1.0,1.0,1.0,1.1538461538461537,1.5,1.5,1.1333333333333333,1.0,1.0,1.0,1.0,1.1428571428571428,1.3636363636363635,1.1538461538461537,1.1,1.1904761904761905,1.0,1.0,1.0,1.0,1.5714285714285714,1.0,1.0,1.0,1.0,1.0,1.3,1.0,1.0,1.0,1.0,1.7058823529411764,1.0,1.0,1.0,1.2,1.5,1.48,1.1176470588235294,1.0,1.0,1.0,1.0,1.2105263157894737,1.0,1.1875,1.4166666666666667,1.0,1.1379310344827587,1.3461538461538463,1.0,1.0,1.1,1.0,1.1818181818181819,1.1764705882352942,1.204225352112676]},\"name\":\"\",\"parents\":[\"Aktuelle Geburten nach Stadtkreis, Quartier, Alter und Herkunft/Kreis 3/Alt-Wiedikon/Ausl\\u00e4nder/in\",\"Aktuelle Geburten nach Stadtkreis, Quartier, Alter und Herkunft/Kreis 9/Altstetten/Ausl\\u00e4nder/in\",\"Aktuelle Geburten nach Stadtkreis, Quartier, Alter und Herkunft/Kreis 7/Fluntern/Ausl\\u00e4nder/in\",\"Aktuelle Geburten nach Stadtkreis, Quartier, Alter und Herkunft/Kreis 5/Gewerbeschule/Ausl\\u00e4nder/in\",\"Aktuelle Geburten nach Stadtkreis, Quartier, Alter und Herkunft/Kreis 12/Hirzenbach/Ausl\\u00e4nder/in\",\"Aktuelle Geburten nach Stadtkreis, Quartier, Alter und Herkunft/Kreis 10/H\\u00f6ngg/Ausl\\u00e4nder/in\",\"Aktuelle Geburten nach Stadtkreis, Quartier, Alter und Herkunft/Kreis 6/Oberstrass/Ausl\\u00e4nder/in\",\"Aktuelle Geburten nach Stadtkreis, Quartier, Alter und Herkunft/Kreis 11/Oerlikon/Ausl\\u00e4nder/in\",\"Aktuelle Geburten nach Stadtkreis, Quartier, Alter und Herkunft/Kreis 11/Seebach/Ausl\\u00e4nder/in\",\"Aktuelle Geburten nach Stadtkreis, Quartier, Alter und Herkunft/Kreis 3/Sihlfeld/Ausl\\u00e4nder/in\",\"Aktuelle Geburten nach Stadtkreis, Quartier, Alter und Herkunft/Kreis 8/Weinegg/Ausl\\u00e4nder/in\",\"Aktuelle Geburten nach Stadtkreis, Quartier, Alter und Herkunft/Kreis 10/Wipkingen/Ausl\\u00e4nder/in\",\"Aktuelle Geburten nach Stadtkreis, Quartier, Alter und Herkunft/Kreis 7/Witikon/Ausl\\u00e4nder/in\",\"Aktuelle Geburten nach Stadtkreis, Quartier, Alter und Herkunft/Kreis 2/Wollishofen/Ausl\\u00e4nder/in\",\"Aktuelle Geburten nach Stadtkreis, Quartier, Alter und Herkunft/Kreis 11/Affoltern/Schweizer/in\",\"Aktuelle Geburten nach Stadtkreis, Quartier, Alter und Herkunft/Kreis 9/Albisrieden/Schweizer/in\",\"Aktuelle Geburten nach Stadtkreis, Quartier, Alter und Herkunft/Kreis 3/Alt-Wiedikon/Schweizer/in\",\"Aktuelle Geburten nach Stadtkreis, Quartier, Alter und Herkunft/Kreis 9/Altstetten/Schweizer/in\",\"Aktuelle Geburten nach Stadtkreis, Quartier, Alter und Herkunft/Kreis 2/Enge/Schweizer/in\",\"Aktuelle Geburten nach Stadtkreis, Quartier, Alter und Herkunft/Kreis 5/Escher Wyss/Schweizer/in\",\"Aktuelle Geburten nach Stadtkreis, Quartier, Alter und Herkunft/Kreis 7/Fluntern/Schweizer/in\",\"Aktuelle Geburten nach Stadtkreis, Quartier, Alter und Herkunft/Kreis 3/Friesenberg/Schweizer/in\",\"Aktuelle Geburten nach Stadtkreis, Quartier, Alter und Herkunft/Kreis 5/Gewerbeschule/Schweizer/in\",\"Aktuelle Geburten nach Stadtkreis, Quartier, Alter und Herkunft/Kreis 4/Hard/Schweizer/in\",\"Aktuelle Geburten nach Stadtkreis, Quartier, Alter und Herkunft/Kreis 7/Hirslanden/Schweizer/in\",\"Aktuelle Geburten nach Stadtkreis, Quartier, Alter und Herkunft/Kreis 12/Hirzenbach/Schweizer/in\",\"Aktuelle Geburten nach Stadtkreis, Quartier, Alter und Herkunft/Kreis 7/Hottingen/Schweizer/in\",\"Aktuelle Geburten nach Stadtkreis, Quartier, Alter und Herkunft/Kreis 10/H\\u00f6ngg/Schweizer/in\",\"Aktuelle Geburten nach Stadtkreis, Quartier, Alter und Herkunft/Kreis 4/Langstrasse/Schweizer/in\",\"Aktuelle Geburten nach Stadtkreis, Quartier, Alter und Herkunft/Kreis 2/Leimbach/Schweizer/in\",\"Aktuelle Geburten nach Stadtkreis, Quartier, Alter und Herkunft/Kreis 8/M\\u00fchlebach/Schweizer/in\",\"Aktuelle Geburten nach Stadtkreis, Quartier, Alter und Herkunft/Kreis 6/Oberstrass/Schweizer/in\",\"Aktuelle Geburten nach Stadtkreis, Quartier, Alter und Herkunft/Kreis 11/Oerlikon/Schweizer/in\",\"Aktuelle Geburten nach Stadtkreis, Quartier, Alter und Herkunft/Kreis 12/Saatlen/Schweizer/in\",\"Aktuelle Geburten nach Stadtkreis, Quartier, Alter und Herkunft/Kreis 12/Schwamendingen-Mitte/Schweizer/in\",\"Aktuelle Geburten nach Stadtkreis, Quartier, Alter und Herkunft/Kreis 11/Seebach/Schweizer/in\",\"Aktuelle Geburten nach Stadtkreis, Quartier, Alter und Herkunft/Kreis 8/Seefeld/Schweizer/in\",\"Aktuelle Geburten nach Stadtkreis, Quartier, Alter und Herkunft/Kreis 3/Sihlfeld/Schweizer/in\",\"Aktuelle Geburten nach Stadtkreis, Quartier, Alter und Herkunft/Kreis 6/Unterstrass/Schweizer/in\",\"Aktuelle Geburten nach Stadtkreis, Quartier, Alter und Herkunft/Kreis 4/Werd/Schweizer/in\",\"Aktuelle Geburten nach Stadtkreis, Quartier, Alter und Herkunft/Kreis 10/Wipkingen/Schweizer/in\",\"Aktuelle Geburten nach Stadtkreis, Quartier, Alter und Herkunft/Kreis 7/Witikon/Schweizer/in\",\"Aktuelle Geburten nach Stadtkreis, Quartier, Alter und Herkunft/Kreis 2/Wollishofen/Schweizer/in\",\"Aktuelle Geburten nach Stadtkreis, Quartier, Alter und Herkunft/Kreis 11/Affoltern/Ausl\\u00e4nder/in\",\"Aktuelle Geburten nach Stadtkreis, Quartier, Alter und Herkunft/Kreis 9/Albisrieden/Ausl\\u00e4nder/in\",\"Aktuelle Geburten nach Stadtkreis, Quartier, Alter und Herkunft/Kreis 3/Alt-Wiedikon/Ausl\\u00e4nder/in\",\"Aktuelle Geburten nach Stadtkreis, Quartier, Alter und Herkunft/Kreis 9/Altstetten/Ausl\\u00e4nder/in\",\"Aktuelle Geburten nach Stadtkreis, Quartier, Alter und Herkunft/Kreis 2/Enge/Ausl\\u00e4nder/in\",\"Aktuelle Geburten nach Stadtkreis, Quartier, Alter und Herkunft/Kreis 7/Fluntern/Ausl\\u00e4nder/in\",\"Aktuelle Geburten nach Stadtkreis, Quartier, Alter und Herkunft/Kreis 7/Hirslanden/Ausl\\u00e4nder/in\",\"Aktuelle Geburten nach Stadtkreis, Quartier, Alter und Herkunft/Kreis 12/Hirzenbach/Ausl\\u00e4nder/in\",\"Aktuelle Geburten nach Stadtkreis, Quartier, Alter und Herkunft/Kreis 7/Hottingen/Ausl\\u00e4nder/in\",\"Aktuelle Geburten nach Stadtkreis, Quartier, Alter und Herkunft/Kreis 10/H\\u00f6ngg/Ausl\\u00e4nder/in\",\"Aktuelle Geburten nach Stadtkreis, Quartier, Alter und Herkunft/Kreis 2/Leimbach/Ausl\\u00e4nder/in\",\"Aktuelle Geburten nach Stadtkreis, Quartier, Alter und Herkunft/Kreis 11/Oerlikon/Ausl\\u00e4nder/in\",\"Aktuelle Geburten nach Stadtkreis, Quartier, Alter und Herkunft/Kreis 1/Rathaus/Ausl\\u00e4nder/in\",\"Aktuelle Geburten nach Stadtkreis, Quartier, Alter und Herkunft/Kreis 12/Schwamendingen-Mitte/Ausl\\u00e4nder/in\",\"Aktuelle Geburten nach Stadtkreis, Quartier, Alter und Herkunft/Kreis 11/Seebach/Ausl\\u00e4nder/in\",\"Aktuelle Geburten nach Stadtkreis, Quartier, Alter und Herkunft/Kreis 6/Unterstrass/Ausl\\u00e4nder/in\",\"Aktuelle Geburten nach Stadtkreis, Quartier, Alter und Herkunft/Kreis 8/Weinegg/Ausl\\u00e4nder/in\",\"Aktuelle Geburten nach Stadtkreis, Quartier, Alter und Herkunft/Kreis 10/Wipkingen/Ausl\\u00e4nder/in\",\"Aktuelle Geburten nach Stadtkreis, Quartier, Alter und Herkunft/Kreis 2/Wollishofen/Ausl\\u00e4nder/in\",\"Aktuelle Geburten nach Stadtkreis, Quartier, Alter und Herkunft/Kreis 11/Affoltern/Schweizer/in\",\"Aktuelle Geburten nach Stadtkreis, Quartier, Alter und Herkunft/Kreis 9/Albisrieden/Schweizer/in\",\"Aktuelle Geburten nach Stadtkreis, Quartier, Alter und Herkunft/Kreis 3/Alt-Wiedikon/Schweizer/in\",\"Aktuelle Geburten nach Stadtkreis, Quartier, Alter und Herkunft/Kreis 9/Altstetten/Schweizer/in\",\"Aktuelle Geburten nach Stadtkreis, Quartier, Alter und Herkunft/Kreis 1/City/Schweizer/in\",\"Aktuelle Geburten nach Stadtkreis, Quartier, Alter und Herkunft/Kreis 2/Enge/Schweizer/in\",\"Aktuelle Geburten nach Stadtkreis, Quartier, Alter und Herkunft/Kreis 3/Friesenberg/Schweizer/in\",\"Aktuelle Geburten nach Stadtkreis, Quartier, Alter und Herkunft/Kreis 5/Gewerbeschule/Schweizer/in\",\"Aktuelle Geburten nach Stadtkreis, Quartier, Alter und Herkunft/Kreis 4/Hard/Schweizer/in\",\"Aktuelle Geburten nach Stadtkreis, Quartier, Alter und Herkunft/Kreis 7/Hirslanden/Schweizer/in\",\"Aktuelle Geburten nach Stadtkreis, Quartier, Alter und Herkunft/Kreis 12/Hirzenbach/Schweizer/in\",\"Aktuelle Geburten nach Stadtkreis, Quartier, Alter und Herkunft/Kreis 7/Hottingen/Schweizer/in\",\"Aktuelle Geburten nach Stadtkreis, Quartier, Alter und Herkunft/Kreis 10/H\\u00f6ngg/Schweizer/in\",\"Aktuelle Geburten nach Stadtkreis, Quartier, Alter und Herkunft/Kreis 4/Langstrasse/Schweizer/in\",\"Aktuelle Geburten nach Stadtkreis, Quartier, Alter und Herkunft/Kreis 2/Leimbach/Schweizer/in\",\"Aktuelle Geburten nach Stadtkreis, Quartier, Alter und Herkunft/Kreis 11/Oerlikon/Schweizer/in\",\"Aktuelle Geburten nach Stadtkreis, Quartier, Alter und Herkunft/Kreis 1/Rathaus/Schweizer/in\",\"Aktuelle Geburten nach Stadtkreis, Quartier, Alter und Herkunft/Kreis 12/Saatlen/Schweizer/in\",\"Aktuelle Geburten nach Stadtkreis, Quartier, Alter und Herkunft/Kreis 12/Schwamendingen-Mitte/Schweizer/in\",\"Aktuelle Geburten nach Stadtkreis, Quartier, Alter und Herkunft/Kreis 11/Seebach/Schweizer/in\",\"Aktuelle Geburten nach Stadtkreis, Quartier, Alter und Herkunft/Kreis 8/Seefeld/Schweizer/in\",\"Aktuelle Geburten nach Stadtkreis, Quartier, Alter und Herkunft/Kreis 3/Sihlfeld/Schweizer/in\",\"Aktuelle Geburten nach Stadtkreis, Quartier, Alter und Herkunft/Kreis 6/Unterstrass/Schweizer/in\",\"Aktuelle Geburten nach Stadtkreis, Quartier, Alter und Herkunft/Kreis 8/Weinegg/Schweizer/in\",\"Aktuelle Geburten nach Stadtkreis, Quartier, Alter und Herkunft/Kreis 10/Wipkingen/Schweizer/in\",\"Aktuelle Geburten nach Stadtkreis, Quartier, Alter und Herkunft/Kreis 7/Witikon/Schweizer/in\",\"Aktuelle Geburten nach Stadtkreis, Quartier, Alter und Herkunft/Kreis 2/Wollishofen/Schweizer/in\",\"Aktuelle Geburten nach Stadtkreis, Quartier, Alter und Herkunft/Kreis 11/Affoltern\",\"Aktuelle Geburten nach Stadtkreis, Quartier, Alter und Herkunft/Kreis 9/Albisrieden\",\"Aktuelle Geburten nach Stadtkreis, Quartier, Alter und Herkunft/Kreis 3/Alt-Wiedikon\",\"Aktuelle Geburten nach Stadtkreis, Quartier, Alter und Herkunft/Kreis 9/Altstetten\",\"Aktuelle Geburten nach Stadtkreis, Quartier, Alter und Herkunft/Kreis 2/Enge\",\"Aktuelle Geburten nach Stadtkreis, Quartier, Alter und Herkunft/Kreis 7/Fluntern\",\"Aktuelle Geburten nach Stadtkreis, Quartier, Alter und Herkunft/Kreis 5/Gewerbeschule\",\"Aktuelle Geburten nach Stadtkreis, Quartier, Alter und Herkunft/Kreis 7/Hirslanden\",\"Aktuelle Geburten nach Stadtkreis, Quartier, Alter und Herkunft/Kreis 12/Hirzenbach\",\"Aktuelle Geburten nach Stadtkreis, Quartier, Alter und Herkunft/Kreis 7/Hottingen\",\"Aktuelle Geburten nach Stadtkreis, Quartier, Alter und Herkunft/Kreis 10/H\\u00f6ngg\",\"Aktuelle Geburten nach Stadtkreis, Quartier, Alter und Herkunft/Kreis 2/Leimbach\",\"Aktuelle Geburten nach Stadtkreis, Quartier, Alter und Herkunft/Kreis 6/Oberstrass\",\"Aktuelle Geburten nach Stadtkreis, Quartier, Alter und Herkunft/Kreis 11/Oerlikon\",\"Aktuelle Geburten nach Stadtkreis, Quartier, Alter und Herkunft/Kreis 1/Rathaus\",\"Aktuelle Geburten nach Stadtkreis, Quartier, Alter und Herkunft/Kreis 12/Schwamendingen-Mitte\",\"Aktuelle Geburten nach Stadtkreis, Quartier, Alter und Herkunft/Kreis 11/Seebach\",\"Aktuelle Geburten nach Stadtkreis, Quartier, Alter und Herkunft/Kreis 3/Sihlfeld\",\"Aktuelle Geburten nach Stadtkreis, Quartier, Alter und Herkunft/Kreis 6/Unterstrass\",\"Aktuelle Geburten nach Stadtkreis, Quartier, Alter und Herkunft/Kreis 8/Weinegg\",\"Aktuelle Geburten nach Stadtkreis, Quartier, Alter und Herkunft/Kreis 10/Wipkingen\",\"Aktuelle Geburten nach Stadtkreis, Quartier, Alter und Herkunft/Kreis 7/Witikon\",\"Aktuelle Geburten nach Stadtkreis, Quartier, Alter und Herkunft/Kreis 2/Wollishofen\",\"Aktuelle Geburten nach Stadtkreis, Quartier, Alter und Herkunft/Kreis 11/Affoltern\",\"Aktuelle Geburten nach Stadtkreis, Quartier, Alter und Herkunft/Kreis 9/Albisrieden\",\"Aktuelle Geburten nach Stadtkreis, Quartier, Alter und Herkunft/Kreis 3/Alt-Wiedikon\",\"Aktuelle Geburten nach Stadtkreis, Quartier, Alter und Herkunft/Kreis 9/Altstetten\",\"Aktuelle Geburten nach Stadtkreis, Quartier, Alter und Herkunft/Kreis 1/City\",\"Aktuelle Geburten nach Stadtkreis, Quartier, Alter und Herkunft/Kreis 2/Enge\",\"Aktuelle Geburten nach Stadtkreis, Quartier, Alter und Herkunft/Kreis 5/Escher Wyss\",\"Aktuelle Geburten nach Stadtkreis, Quartier, Alter und Herkunft/Kreis 7/Fluntern\",\"Aktuelle Geburten nach Stadtkreis, Quartier, Alter und Herkunft/Kreis 3/Friesenberg\",\"Aktuelle Geburten nach Stadtkreis, Quartier, Alter und Herkunft/Kreis 5/Gewerbeschule\",\"Aktuelle Geburten nach Stadtkreis, Quartier, Alter und Herkunft/Kreis 4/Hard\",\"Aktuelle Geburten nach Stadtkreis, Quartier, Alter und Herkunft/Kreis 7/Hirslanden\",\"Aktuelle Geburten nach Stadtkreis, Quartier, Alter und Herkunft/Kreis 12/Hirzenbach\",\"Aktuelle Geburten nach Stadtkreis, Quartier, Alter und Herkunft/Kreis 7/Hottingen\",\"Aktuelle Geburten nach Stadtkreis, Quartier, Alter und Herkunft/Kreis 10/H\\u00f6ngg\",\"Aktuelle Geburten nach Stadtkreis, Quartier, Alter und Herkunft/Kreis 4/Langstrasse\",\"Aktuelle Geburten nach Stadtkreis, Quartier, Alter und Herkunft/Kreis 2/Leimbach\",\"Aktuelle Geburten nach Stadtkreis, Quartier, Alter und Herkunft/Kreis 8/M\\u00fchlebach\",\"Aktuelle Geburten nach Stadtkreis, Quartier, Alter und Herkunft/Kreis 6/Oberstrass\",\"Aktuelle Geburten nach Stadtkreis, Quartier, Alter und Herkunft/Kreis 11/Oerlikon\",\"Aktuelle Geburten nach Stadtkreis, Quartier, Alter und Herkunft/Kreis 1/Rathaus\",\"Aktuelle Geburten nach Stadtkreis, Quartier, Alter und Herkunft/Kreis 12/Saatlen\",\"Aktuelle Geburten nach Stadtkreis, Quartier, Alter und Herkunft/Kreis 12/Schwamendingen-Mitte\",\"Aktuelle Geburten nach Stadtkreis, Quartier, Alter und Herkunft/Kreis 11/Seebach\",\"Aktuelle Geburten nach Stadtkreis, Quartier, Alter und Herkunft/Kreis 8/Seefeld\",\"Aktuelle Geburten nach Stadtkreis, Quartier, Alter und Herkunft/Kreis 3/Sihlfeld\",\"Aktuelle Geburten nach Stadtkreis, Quartier, Alter und Herkunft/Kreis 6/Unterstrass\",\"Aktuelle Geburten nach Stadtkreis, Quartier, Alter und Herkunft/Kreis 8/Weinegg\",\"Aktuelle Geburten nach Stadtkreis, Quartier, Alter und Herkunft/Kreis 4/Werd\",\"Aktuelle Geburten nach Stadtkreis, Quartier, Alter und Herkunft/Kreis 10/Wipkingen\",\"Aktuelle Geburten nach Stadtkreis, Quartier, Alter und Herkunft/Kreis 7/Witikon\",\"Aktuelle Geburten nach Stadtkreis, Quartier, Alter und Herkunft/Kreis 2/Wollishofen\",\"Aktuelle Geburten nach Stadtkreis, Quartier, Alter und Herkunft/Kreis 11\",\"Aktuelle Geburten nach Stadtkreis, Quartier, Alter und Herkunft/Kreis 9\",\"Aktuelle Geburten nach Stadtkreis, Quartier, Alter und Herkunft/Kreis 3\",\"Aktuelle Geburten nach Stadtkreis, Quartier, Alter und Herkunft/Kreis 9\",\"Aktuelle Geburten nach Stadtkreis, Quartier, Alter und Herkunft/Kreis 1\",\"Aktuelle Geburten nach Stadtkreis, Quartier, Alter und Herkunft/Kreis 2\",\"Aktuelle Geburten nach Stadtkreis, Quartier, Alter und Herkunft/Kreis 5\",\"Aktuelle Geburten nach Stadtkreis, Quartier, Alter und Herkunft/Kreis 7\",\"Aktuelle Geburten nach Stadtkreis, Quartier, Alter und Herkunft/Kreis 3\",\"Aktuelle Geburten nach Stadtkreis, Quartier, Alter und Herkunft/Kreis 5\",\"Aktuelle Geburten nach Stadtkreis, Quartier, Alter und Herkunft/Kreis 4\",\"Aktuelle Geburten nach Stadtkreis, Quartier, Alter und Herkunft/Kreis 7\",\"Aktuelle Geburten nach Stadtkreis, Quartier, Alter und Herkunft/Kreis 12\",\"Aktuelle Geburten nach Stadtkreis, Quartier, Alter und Herkunft/Kreis 7\",\"Aktuelle Geburten nach Stadtkreis, Quartier, Alter und Herkunft/Kreis 10\",\"Aktuelle Geburten nach Stadtkreis, Quartier, Alter und Herkunft/Kreis 4\",\"Aktuelle Geburten nach Stadtkreis, Quartier, Alter und Herkunft/Kreis 2\",\"Aktuelle Geburten nach Stadtkreis, Quartier, Alter und Herkunft/Kreis 8\",\"Aktuelle Geburten nach Stadtkreis, Quartier, Alter und Herkunft/Kreis 6\",\"Aktuelle Geburten nach Stadtkreis, Quartier, Alter und Herkunft/Kreis 11\",\"Aktuelle Geburten nach Stadtkreis, Quartier, Alter und Herkunft/Kreis 1\",\"Aktuelle Geburten nach Stadtkreis, Quartier, Alter und Herkunft/Kreis 12\",\"Aktuelle Geburten nach Stadtkreis, Quartier, Alter und Herkunft/Kreis 12\",\"Aktuelle Geburten nach Stadtkreis, Quartier, Alter und Herkunft/Kreis 11\",\"Aktuelle Geburten nach Stadtkreis, Quartier, Alter und Herkunft/Kreis 8\",\"Aktuelle Geburten nach Stadtkreis, Quartier, Alter und Herkunft/Kreis 3\",\"Aktuelle Geburten nach Stadtkreis, Quartier, Alter und Herkunft/Kreis 6\",\"Aktuelle Geburten nach Stadtkreis, Quartier, Alter und Herkunft/Kreis 8\",\"Aktuelle Geburten nach Stadtkreis, Quartier, Alter und Herkunft/Kreis 4\",\"Aktuelle Geburten nach Stadtkreis, Quartier, Alter und Herkunft/Kreis 10\",\"Aktuelle Geburten nach Stadtkreis, Quartier, Alter und Herkunft/Kreis 7\",\"Aktuelle Geburten nach Stadtkreis, Quartier, Alter und Herkunft/Kreis 2\",\"Aktuelle Geburten nach Stadtkreis, Quartier, Alter und Herkunft\",\"Aktuelle Geburten nach Stadtkreis, Quartier, Alter und Herkunft\",\"Aktuelle Geburten nach Stadtkreis, Quartier, Alter und Herkunft\",\"Aktuelle Geburten nach Stadtkreis, Quartier, Alter und Herkunft\",\"Aktuelle Geburten nach Stadtkreis, Quartier, Alter und Herkunft\",\"Aktuelle Geburten nach Stadtkreis, Quartier, Alter und Herkunft\",\"Aktuelle Geburten nach Stadtkreis, Quartier, Alter und Herkunft\",\"Aktuelle Geburten nach Stadtkreis, Quartier, Alter und Herkunft\",\"Aktuelle Geburten nach Stadtkreis, Quartier, Alter und Herkunft\",\"Aktuelle Geburten nach Stadtkreis, Quartier, Alter und Herkunft\",\"Aktuelle Geburten nach Stadtkreis, Quartier, Alter und Herkunft\",\"Aktuelle Geburten nach Stadtkreis, Quartier, Alter und Herkunft\",\"\"],\"values\":[3,2,1,1,1,2,2,1,4,1,1,4,1,2,6,6,9,7,2,1,1,4,1,1,4,1,3,7,2,1,3,1,6,4,1,7,1,10,4,1,3,1,5,4,2,2,5,2,2,2,1,1,4,1,1,1,3,3,2,2,1,3,1,5,6,7,1,3,3,4,3,2,2,2,7,1,1,9,2,2,1,6,3,14,11,1,4,3,9,4,2,5,7,2,3,1,2,2,1,6,1,2,2,1,3,7,1,2,3,5,1,5,7,11,15,14,1,5,1,1,7,5,4,6,3,5,14,3,2,3,1,15,2,6,2,13,4,24,15,1,1,7,4,14,11,13,20,21,1,7,1,4,7,6,4,8,5,6,20,3,3,3,3,17,3,6,5,20,4,25,17,4,1,12,5,19,4,32,48,16,29,52,8,7,20,23,11,34,284],\"type\":\"treemap\",\"root\":{\"color\":\"grey\"}}],                        {\"template\":{\"data\":{\"bar\":[{\"error_x\":{\"color\":\"#2a3f5f\"},\"error_y\":{\"color\":\"#2a3f5f\"},\"marker\":{\"line\":{\"color\":\"#E5ECF6\",\"width\":0.5},\"pattern\":{\"fillmode\":\"overlay\",\"size\":10,\"solidity\":0.2}},\"type\":\"bar\"}],\"barpolar\":[{\"marker\":{\"line\":{\"color\":\"#E5ECF6\",\"width\":0.5},\"pattern\":{\"fillmode\":\"overlay\",\"size\":10,\"solidity\":0.2}},\"type\":\"barpolar\"}],\"carpet\":[{\"aaxis\":{\"endlinecolor\":\"#2a3f5f\",\"gridcolor\":\"white\",\"linecolor\":\"white\",\"minorgridcolor\":\"white\",\"startlinecolor\":\"#2a3f5f\"},\"baxis\":{\"endlinecolor\":\"#2a3f5f\",\"gridcolor\":\"white\",\"linecolor\":\"white\",\"minorgridcolor\":\"white\",\"startlinecolor\":\"#2a3f5f\"},\"type\":\"carpet\"}],\"choropleth\":[{\"colorbar\":{\"outlinewidth\":0,\"ticks\":\"\"},\"type\":\"choropleth\"}],\"contour\":[{\"colorbar\":{\"outlinewidth\":0,\"ticks\":\"\"},\"colorscale\":[[0.0,\"#0d0887\"],[0.1111111111111111,\"#46039f\"],[0.2222222222222222,\"#7201a8\"],[0.3333333333333333,\"#9c179e\"],[0.4444444444444444,\"#bd3786\"],[0.5555555555555556,\"#d8576b\"],[0.6666666666666666,\"#ed7953\"],[0.7777777777777778,\"#fb9f3a\"],[0.8888888888888888,\"#fdca26\"],[1.0,\"#f0f921\"]],\"type\":\"contour\"}],\"contourcarpet\":[{\"colorbar\":{\"outlinewidth\":0,\"ticks\":\"\"},\"type\":\"contourcarpet\"}],\"heatmap\":[{\"colorbar\":{\"outlinewidth\":0,\"ticks\":\"\"},\"colorscale\":[[0.0,\"#0d0887\"],[0.1111111111111111,\"#46039f\"],[0.2222222222222222,\"#7201a8\"],[0.3333333333333333,\"#9c179e\"],[0.4444444444444444,\"#bd3786\"],[0.5555555555555556,\"#d8576b\"],[0.6666666666666666,\"#ed7953\"],[0.7777777777777778,\"#fb9f3a\"],[0.8888888888888888,\"#fdca26\"],[1.0,\"#f0f921\"]],\"type\":\"heatmap\"}],\"heatmapgl\":[{\"colorbar\":{\"outlinewidth\":0,\"ticks\":\"\"},\"colorscale\":[[0.0,\"#0d0887\"],[0.1111111111111111,\"#46039f\"],[0.2222222222222222,\"#7201a8\"],[0.3333333333333333,\"#9c179e\"],[0.4444444444444444,\"#bd3786\"],[0.5555555555555556,\"#d8576b\"],[0.6666666666666666,\"#ed7953\"],[0.7777777777777778,\"#fb9f3a\"],[0.8888888888888888,\"#fdca26\"],[1.0,\"#f0f921\"]],\"type\":\"heatmapgl\"}],\"histogram\":[{\"marker\":{\"pattern\":{\"fillmode\":\"overlay\",\"size\":10,\"solidity\":0.2}},\"type\":\"histogram\"}],\"histogram2d\":[{\"colorbar\":{\"outlinewidth\":0,\"ticks\":\"\"},\"colorscale\":[[0.0,\"#0d0887\"],[0.1111111111111111,\"#46039f\"],[0.2222222222222222,\"#7201a8\"],[0.3333333333333333,\"#9c179e\"],[0.4444444444444444,\"#bd3786\"],[0.5555555555555556,\"#d8576b\"],[0.6666666666666666,\"#ed7953\"],[0.7777777777777778,\"#fb9f3a\"],[0.8888888888888888,\"#fdca26\"],[1.0,\"#f0f921\"]],\"type\":\"histogram2d\"}],\"histogram2dcontour\":[{\"colorbar\":{\"outlinewidth\":0,\"ticks\":\"\"},\"colorscale\":[[0.0,\"#0d0887\"],[0.1111111111111111,\"#46039f\"],[0.2222222222222222,\"#7201a8\"],[0.3333333333333333,\"#9c179e\"],[0.4444444444444444,\"#bd3786\"],[0.5555555555555556,\"#d8576b\"],[0.6666666666666666,\"#ed7953\"],[0.7777777777777778,\"#fb9f3a\"],[0.8888888888888888,\"#fdca26\"],[1.0,\"#f0f921\"]],\"type\":\"histogram2dcontour\"}],\"mesh3d\":[{\"colorbar\":{\"outlinewidth\":0,\"ticks\":\"\"},\"type\":\"mesh3d\"}],\"parcoords\":[{\"line\":{\"colorbar\":{\"outlinewidth\":0,\"ticks\":\"\"}},\"type\":\"parcoords\"}],\"pie\":[{\"automargin\":true,\"type\":\"pie\"}],\"scatter\":[{\"marker\":{\"colorbar\":{\"outlinewidth\":0,\"ticks\":\"\"}},\"type\":\"scatter\"}],\"scatter3d\":[{\"line\":{\"colorbar\":{\"outlinewidth\":0,\"ticks\":\"\"}},\"marker\":{\"colorbar\":{\"outlinewidth\":0,\"ticks\":\"\"}},\"type\":\"scatter3d\"}],\"scattercarpet\":[{\"marker\":{\"colorbar\":{\"outlinewidth\":0,\"ticks\":\"\"}},\"type\":\"scattercarpet\"}],\"scattergeo\":[{\"marker\":{\"colorbar\":{\"outlinewidth\":0,\"ticks\":\"\"}},\"type\":\"scattergeo\"}],\"scattergl\":[{\"marker\":{\"colorbar\":{\"outlinewidth\":0,\"ticks\":\"\"}},\"type\":\"scattergl\"}],\"scattermapbox\":[{\"marker\":{\"colorbar\":{\"outlinewidth\":0,\"ticks\":\"\"}},\"type\":\"scattermapbox\"}],\"scatterpolar\":[{\"marker\":{\"colorbar\":{\"outlinewidth\":0,\"ticks\":\"\"}},\"type\":\"scatterpolar\"}],\"scatterpolargl\":[{\"marker\":{\"colorbar\":{\"outlinewidth\":0,\"ticks\":\"\"}},\"type\":\"scatterpolargl\"}],\"scatterternary\":[{\"marker\":{\"colorbar\":{\"outlinewidth\":0,\"ticks\":\"\"}},\"type\":\"scatterternary\"}],\"surface\":[{\"colorbar\":{\"outlinewidth\":0,\"ticks\":\"\"},\"colorscale\":[[0.0,\"#0d0887\"],[0.1111111111111111,\"#46039f\"],[0.2222222222222222,\"#7201a8\"],[0.3333333333333333,\"#9c179e\"],[0.4444444444444444,\"#bd3786\"],[0.5555555555555556,\"#d8576b\"],[0.6666666666666666,\"#ed7953\"],[0.7777777777777778,\"#fb9f3a\"],[0.8888888888888888,\"#fdca26\"],[1.0,\"#f0f921\"]],\"type\":\"surface\"}],\"table\":[{\"cells\":{\"fill\":{\"color\":\"#EBF0F8\"},\"line\":{\"color\":\"white\"}},\"header\":{\"fill\":{\"color\":\"#C8D4E3\"},\"line\":{\"color\":\"white\"}},\"type\":\"table\"}]},\"layout\":{\"annotationdefaults\":{\"arrowcolor\":\"#2a3f5f\",\"arrowhead\":0,\"arrowwidth\":1},\"autotypenumbers\":\"strict\",\"coloraxis\":{\"colorbar\":{\"outlinewidth\":0,\"ticks\":\"\"}},\"colorscale\":{\"diverging\":[[0,\"#8e0152\"],[0.1,\"#c51b7d\"],[0.2,\"#de77ae\"],[0.3,\"#f1b6da\"],[0.4,\"#fde0ef\"],[0.5,\"#f7f7f7\"],[0.6,\"#e6f5d0\"],[0.7,\"#b8e186\"],[0.8,\"#7fbc41\"],[0.9,\"#4d9221\"],[1,\"#276419\"]],\"sequential\":[[0.0,\"#0d0887\"],[0.1111111111111111,\"#46039f\"],[0.2222222222222222,\"#7201a8\"],[0.3333333333333333,\"#9c179e\"],[0.4444444444444444,\"#bd3786\"],[0.5555555555555556,\"#d8576b\"],[0.6666666666666666,\"#ed7953\"],[0.7777777777777778,\"#fb9f3a\"],[0.8888888888888888,\"#fdca26\"],[1.0,\"#f0f921\"]],\"sequentialminus\":[[0.0,\"#0d0887\"],[0.1111111111111111,\"#46039f\"],[0.2222222222222222,\"#7201a8\"],[0.3333333333333333,\"#9c179e\"],[0.4444444444444444,\"#bd3786\"],[0.5555555555555556,\"#d8576b\"],[0.6666666666666666,\"#ed7953\"],[0.7777777777777778,\"#fb9f3a\"],[0.8888888888888888,\"#fdca26\"],[1.0,\"#f0f921\"]]},\"colorway\":[\"#636efa\",\"#EF553B\",\"#00cc96\",\"#ab63fa\",\"#FFA15A\",\"#19d3f3\",\"#FF6692\",\"#B6E880\",\"#FF97FF\",\"#FECB52\"],\"font\":{\"color\":\"#2a3f5f\"},\"geo\":{\"bgcolor\":\"white\",\"lakecolor\":\"white\",\"landcolor\":\"#E5ECF6\",\"showlakes\":true,\"showland\":true,\"subunitcolor\":\"white\"},\"hoverlabel\":{\"align\":\"left\"},\"hovermode\":\"closest\",\"mapbox\":{\"style\":\"light\"},\"paper_bgcolor\":\"white\",\"plot_bgcolor\":\"#E5ECF6\",\"polar\":{\"angularaxis\":{\"gridcolor\":\"white\",\"linecolor\":\"white\",\"ticks\":\"\"},\"bgcolor\":\"#E5ECF6\",\"radialaxis\":{\"gridcolor\":\"white\",\"linecolor\":\"white\",\"ticks\":\"\"}},\"scene\":{\"xaxis\":{\"backgroundcolor\":\"#E5ECF6\",\"gridcolor\":\"white\",\"gridwidth\":2,\"linecolor\":\"white\",\"showbackground\":true,\"ticks\":\"\",\"zerolinecolor\":\"white\"},\"yaxis\":{\"backgroundcolor\":\"#E5ECF6\",\"gridcolor\":\"white\",\"gridwidth\":2,\"linecolor\":\"white\",\"showbackground\":true,\"ticks\":\"\",\"zerolinecolor\":\"white\"},\"zaxis\":{\"backgroundcolor\":\"#E5ECF6\",\"gridcolor\":\"white\",\"gridwidth\":2,\"linecolor\":\"white\",\"showbackground\":true,\"ticks\":\"\",\"zerolinecolor\":\"white\"}},\"shapedefaults\":{\"line\":{\"color\":\"#2a3f5f\"}},\"ternary\":{\"aaxis\":{\"gridcolor\":\"white\",\"linecolor\":\"white\",\"ticks\":\"\"},\"baxis\":{\"gridcolor\":\"white\",\"linecolor\":\"white\",\"ticks\":\"\"},\"bgcolor\":\"#E5ECF6\",\"caxis\":{\"gridcolor\":\"white\",\"linecolor\":\"white\",\"ticks\":\"\"}},\"title\":{\"x\":0.05},\"xaxis\":{\"automargin\":true,\"gridcolor\":\"white\",\"linecolor\":\"white\",\"ticks\":\"\",\"title\":{\"standoff\":15},\"zerolinecolor\":\"white\",\"zerolinewidth\":2},\"yaxis\":{\"automargin\":true,\"gridcolor\":\"white\",\"linecolor\":\"white\",\"ticks\":\"\",\"title\":{\"standoff\":15},\"zerolinecolor\":\"white\",\"zerolinewidth\":2}}},\"coloraxis\":{\"colorbar\":{\"title\":{\"text\":\"sum_WBev\"}},\"colorscale\":[[0.0,\"rgb(247,251,255)\"],[0.125,\"rgb(222,235,247)\"],[0.25,\"rgb(198,219,239)\"],[0.375,\"rgb(158,202,225)\"],[0.5,\"rgb(107,174,214)\"],[0.625,\"rgb(66,146,198)\"],[0.75,\"rgb(33,113,181)\"],[0.875,\"rgb(8,81,156)\"],[1.0,\"rgb(8,48,107)\"]]},\"legend\":{\"tracegroupgap\":0},\"margin\":{\"t\":50,\"l\":25,\"r\":250,\"b\":25}},                        {\"responsive\": true}                    ).then(function(){\n",
       "                            \n",
       "var gd = document.getElementById('a9518686-3257-4d3d-9df3-799ea346ce96');\n",
       "var x = new MutationObserver(function (mutations, observer) {{\n",
       "        var display = window.getComputedStyle(gd).display;\n",
       "        if (!display || display === 'none') {{\n",
       "            console.log([gd, 'removed!']);\n",
       "            Plotly.purge(gd);\n",
       "            observer.disconnect();\n",
       "        }}\n",
       "}});\n",
       "\n",
       "// Listen for the removal of the full notebook cells\n",
       "var notebookContainer = gd.closest('#notebook-container');\n",
       "if (notebookContainer) {{\n",
       "    x.observe(notebookContainer, {childList: true});\n",
       "}}\n",
       "\n",
       "// Listen for the clearing of the current output cell\n",
       "var outputEl = gd.closest('.output');\n",
       "if (outputEl) {{\n",
       "    x.observe(outputEl, {childList: true});\n",
       "}}\n",
       "\n",
       "                        })                };                });            </script>        </div>"
      ]
     },
     "metadata": {},
     "output_type": "display_data"
    }
   ],
   "source": [
    "fig = px.treemap(myTreemapAgg.reset_index(), path=[px.Constant(\"Aktuelle Geburten nach Stadtkreis, Quartier, Alter und Herkunft\"), 'KreisLang','QuarLang','HerkunftLang', 'SexLang']\n",
    "                 , values='sum_WBev'\n",
    "                 , color='sum_WBev'\n",
    "                 ## bei discrete scales (bei Klassen und Strings):                 \n",
    "                 #, color_discrete_map={'(?)':'lightgrey','EVP':'gold', 'SP':'#FF3030', 'PdA':'#EE3B3B', 'Grüne':'#A2CD5A','GLP':'#CAFF70','Die Mitte':'orange','FDP':'#104E8B','AL':'deeppink','SVP':'forestgreen', 'FL ZÜRI':'#8B864E','Volt':'#lightblue' }                \n",
    "                 ## bei continuous scales (bei Zahlenwerten):\n",
    "                , color_continuous_scale='Blues'\n",
    "                #, color_continuous_midpoint=np.average(df['AnzBestWir'], weights=df['AnzBestWir'])  \n",
    "                 #,height=400\n",
    "                 #,width=1500                 \n",
    "                )\n",
    "fig.update_traces(root_color=\"grey\")\n",
    "fig.update_layout(margin = dict(t=50, l=25, r=250, b=25))\n",
    "fig.show()"
   ]
  },
  {
   "cell_type": "markdown",
   "metadata": {},
   "source": [
    "#### Aktuelle Geburten nach Stadtkreis, Alter und Herkunft"
   ]
  },
  {
   "cell_type": "code",
   "execution_count": 43,
   "metadata": {},
   "outputs": [
    {
     "data": {
      "text/html": [
       "<div>\n",
       "<style scoped>\n",
       "    .dataframe tbody tr th:only-of-type {\n",
       "        vertical-align: middle;\n",
       "    }\n",
       "\n",
       "    .dataframe tbody tr th {\n",
       "        vertical-align: top;\n",
       "    }\n",
       "\n",
       "    .dataframe thead th {\n",
       "        text-align: right;\n",
       "    }\n",
       "</style>\n",
       "<table border=\"1\" class=\"dataframe\">\n",
       "  <thead>\n",
       "    <tr style=\"text-align: right;\">\n",
       "      <th></th>\n",
       "      <th>GueltigAbDat</th>\n",
       "      <th>GueltigAbDatJahr</th>\n",
       "      <th>GueltigAbDatMM</th>\n",
       "      <th>KreisLang</th>\n",
       "      <th>HerkunftLang</th>\n",
       "      <th>SexLang</th>\n",
       "      <th>sum_WBev</th>\n",
       "    </tr>\n",
       "  </thead>\n",
       "  <tbody>\n",
       "    <tr>\n",
       "      <th>0</th>\n",
       "      <td>2020-04-08</td>\n",
       "      <td>2020</td>\n",
       "      <td>4</td>\n",
       "      <td>Kreis 6</td>\n",
       "      <td>Schweizer/in</td>\n",
       "      <td>männlich</td>\n",
       "      <td>6</td>\n",
       "    </tr>\n",
       "    <tr>\n",
       "      <th>1</th>\n",
       "      <td>2020-10-20</td>\n",
       "      <td>2020</td>\n",
       "      <td>10</td>\n",
       "      <td>Kreis 10</td>\n",
       "      <td>Schweizer/in</td>\n",
       "      <td>männlich</td>\n",
       "      <td>6</td>\n",
       "    </tr>\n",
       "  </tbody>\n",
       "</table>\n",
       "</div>"
      ],
      "text/plain": [
       "  GueltigAbDat  GueltigAbDatJahr  GueltigAbDatMM KreisLang  HerkunftLang   SexLang  sum_WBev\n",
       "0   2020-04-08              2020               4   Kreis 6  Schweizer/in  männlich         6\n",
       "1   2020-10-20              2020              10  Kreis 10  Schweizer/in  männlich         6"
      ]
     },
     "execution_count": 43,
     "metadata": {},
     "output_type": "execute_result"
    }
   ],
   "source": [
    "myTreemapAgg = data2betested.loc[\"2019-12\":latest_year_month]  \\\n",
    "    .groupby(['GueltigAbDat','GueltigAbDatJahr', 'GueltigAbDatMM', 'KreisLang','HerkunftLang', 'SexLang']) \\\n",
    "    .agg(sum_WBev=('AnzGebuWir', 'sum')) \\\n",
    "    .sort_values('sum_WBev', ascending=False) \n",
    "\n",
    "myTreemapAgg.reset_index().head(2)"
   ]
  },
  {
   "cell_type": "code",
   "execution_count": 44,
   "metadata": {},
   "outputs": [
    {
     "data": {
      "application/vnd.plotly.v1+json": {
       "config": {
        "plotlyServerURL": "https://plot.ly"
       },
       "data": [
        {
         "branchvalues": "total",
         "customdata": [
          [
           1
          ],
          [
           1.125
          ],
          [
           1.1751824817518248
          ],
          [
           1.2058823529411764
          ],
          [
           1.4331550802139037
          ],
          [
           1.437956204379562
          ],
          [
           1.2375
          ],
          [
           1.1891891891891893
          ],
          [
           1.2571428571428571
          ],
          [
           1.2685185185185186
          ],
          [
           1.165680473372781
          ],
          [
           1.2197802197802199
          ],
          [
           1.2061855670103092
          ],
          [
           1.170731707317073
          ],
          [
           1.0273972602739727
          ],
          [
           1
          ],
          [
           1.1167883211678833
          ],
          [
           1.1578947368421053
          ],
          [
           1.1744186046511629
          ],
          [
           1.1904761904761905
          ],
          [
           1.0740740740740742
          ],
          [
           1.1666666666666667
          ],
          [
           1.3132530120481927
          ],
          [
           1.3076923076923077
          ],
          [
           1
          ],
          [
           1.2727272727272727
          ],
          [
           1.4578313253012047
          ],
          [
           1.48
          ],
          [
           1.8562197092084007
          ],
          [
           1.6616257088846882
          ],
          [
           1.3764705882352941
          ],
          [
           1.4104477611940298
          ],
          [
           1.398876404494382
          ],
          [
           1.4382022471910112
          ],
          [
           1.6080305927342256
          ],
          [
           1.6365591397849462
          ],
          [
           1.3703703703703705
          ],
          [
           1.3864406779661016
          ],
          [
           1.2073170731707317
          ],
          [
           1.2456140350877194
          ],
          [
           1.5582655826558265
          ],
          [
           1.463276836158192
          ],
          [
           1.5365853658536586
          ],
          [
           1.4093959731543624
          ],
          [
           1.1408450704225352
          ],
          [
           1.2272727272727273
          ],
          [
           1.7285464098073555
          ],
          [
           1.7413127413127414
          ],
          [
           1
          ],
          [
           1.2105263157894737
          ],
          [
           1.3876811594202898
          ],
          [
           1.416382252559727
          ],
          [
           1.6968781470292045
          ],
          [
           1.5638297872340425
          ],
          [
           1.3228915662650602
          ],
          [
           1.3317307692307692
          ],
          [
           1.3462897526501767
          ],
          [
           1.3741258741258742
          ],
          [
           1.5
          ],
          [
           1.519319938176198
          ],
          [
           1.3299492385786802
          ],
          [
           1.339522546419098
          ],
          [
           1.1518987341772151
          ],
          [
           1.1818181818181819
          ],
          [
           1.4387351778656126
          ],
          [
           1.3888888888888888
          ],
          [
           1.412
          ],
          [
           1.3370786516853932
          ],
          [
           1.112
          ],
          [
           1.2017543859649122
          ],
          [
           1.602439024390244
          ],
          [
           1.611637347767253
          ],
          [
           1.4525327071452532
          ],
          [
           1.434323896606295
          ],
          [
           1.443643231178642
          ]
         ],
         "domain": {
          "x": [
           0,
           1
          ],
          "y": [
           0,
           1
          ]
         },
         "hovertemplate": "labels=%{label}<br>sum_WBev_sum=%{value}<br>parent=%{parent}<br>id=%{id}<br>sum_WBev=%{color}<extra></extra>",
         "ids": [
          "Aktuelle Geburten nach Alter, Stadtkreis und Herkunft/männlich/Kreis 1/Ausländer/in",
          "Aktuelle Geburten nach Alter, Stadtkreis und Herkunft/weiblich/Kreis 1/Ausländer/in",
          "Aktuelle Geburten nach Alter, Stadtkreis und Herkunft/männlich/Kreis 10/Ausländer/in",
          "Aktuelle Geburten nach Alter, Stadtkreis und Herkunft/weiblich/Kreis 10/Ausländer/in",
          "Aktuelle Geburten nach Alter, Stadtkreis und Herkunft/männlich/Kreis 11/Ausländer/in",
          "Aktuelle Geburten nach Alter, Stadtkreis und Herkunft/weiblich/Kreis 11/Ausländer/in",
          "Aktuelle Geburten nach Alter, Stadtkreis und Herkunft/männlich/Kreis 12/Ausländer/in",
          "Aktuelle Geburten nach Alter, Stadtkreis und Herkunft/weiblich/Kreis 12/Ausländer/in",
          "Aktuelle Geburten nach Alter, Stadtkreis und Herkunft/männlich/Kreis 2/Ausländer/in",
          "Aktuelle Geburten nach Alter, Stadtkreis und Herkunft/weiblich/Kreis 2/Ausländer/in",
          "Aktuelle Geburten nach Alter, Stadtkreis und Herkunft/männlich/Kreis 3/Ausländer/in",
          "Aktuelle Geburten nach Alter, Stadtkreis und Herkunft/weiblich/Kreis 3/Ausländer/in",
          "Aktuelle Geburten nach Alter, Stadtkreis und Herkunft/männlich/Kreis 4/Ausländer/in",
          "Aktuelle Geburten nach Alter, Stadtkreis und Herkunft/weiblich/Kreis 4/Ausländer/in",
          "Aktuelle Geburten nach Alter, Stadtkreis und Herkunft/männlich/Kreis 5/Ausländer/in",
          "Aktuelle Geburten nach Alter, Stadtkreis und Herkunft/weiblich/Kreis 5/Ausländer/in",
          "Aktuelle Geburten nach Alter, Stadtkreis und Herkunft/männlich/Kreis 6/Ausländer/in",
          "Aktuelle Geburten nach Alter, Stadtkreis und Herkunft/weiblich/Kreis 6/Ausländer/in",
          "Aktuelle Geburten nach Alter, Stadtkreis und Herkunft/männlich/Kreis 7/Ausländer/in",
          "Aktuelle Geburten nach Alter, Stadtkreis und Herkunft/weiblich/Kreis 7/Ausländer/in",
          "Aktuelle Geburten nach Alter, Stadtkreis und Herkunft/männlich/Kreis 8/Ausländer/in",
          "Aktuelle Geburten nach Alter, Stadtkreis und Herkunft/weiblich/Kreis 8/Ausländer/in",
          "Aktuelle Geburten nach Alter, Stadtkreis und Herkunft/männlich/Kreis 9/Ausländer/in",
          "Aktuelle Geburten nach Alter, Stadtkreis und Herkunft/weiblich/Kreis 9/Ausländer/in",
          "Aktuelle Geburten nach Alter, Stadtkreis und Herkunft/männlich/Kreis 1/Schweizer/in",
          "Aktuelle Geburten nach Alter, Stadtkreis und Herkunft/weiblich/Kreis 1/Schweizer/in",
          "Aktuelle Geburten nach Alter, Stadtkreis und Herkunft/männlich/Kreis 10/Schweizer/in",
          "Aktuelle Geburten nach Alter, Stadtkreis und Herkunft/weiblich/Kreis 10/Schweizer/in",
          "Aktuelle Geburten nach Alter, Stadtkreis und Herkunft/männlich/Kreis 11/Schweizer/in",
          "Aktuelle Geburten nach Alter, Stadtkreis und Herkunft/weiblich/Kreis 11/Schweizer/in",
          "Aktuelle Geburten nach Alter, Stadtkreis und Herkunft/männlich/Kreis 12/Schweizer/in",
          "Aktuelle Geburten nach Alter, Stadtkreis und Herkunft/weiblich/Kreis 12/Schweizer/in",
          "Aktuelle Geburten nach Alter, Stadtkreis und Herkunft/männlich/Kreis 2/Schweizer/in",
          "Aktuelle Geburten nach Alter, Stadtkreis und Herkunft/weiblich/Kreis 2/Schweizer/in",
          "Aktuelle Geburten nach Alter, Stadtkreis und Herkunft/männlich/Kreis 3/Schweizer/in",
          "Aktuelle Geburten nach Alter, Stadtkreis und Herkunft/weiblich/Kreis 3/Schweizer/in",
          "Aktuelle Geburten nach Alter, Stadtkreis und Herkunft/männlich/Kreis 4/Schweizer/in",
          "Aktuelle Geburten nach Alter, Stadtkreis und Herkunft/weiblich/Kreis 4/Schweizer/in",
          "Aktuelle Geburten nach Alter, Stadtkreis und Herkunft/männlich/Kreis 5/Schweizer/in",
          "Aktuelle Geburten nach Alter, Stadtkreis und Herkunft/weiblich/Kreis 5/Schweizer/in",
          "Aktuelle Geburten nach Alter, Stadtkreis und Herkunft/männlich/Kreis 6/Schweizer/in",
          "Aktuelle Geburten nach Alter, Stadtkreis und Herkunft/weiblich/Kreis 6/Schweizer/in",
          "Aktuelle Geburten nach Alter, Stadtkreis und Herkunft/männlich/Kreis 7/Schweizer/in",
          "Aktuelle Geburten nach Alter, Stadtkreis und Herkunft/weiblich/Kreis 7/Schweizer/in",
          "Aktuelle Geburten nach Alter, Stadtkreis und Herkunft/männlich/Kreis 8/Schweizer/in",
          "Aktuelle Geburten nach Alter, Stadtkreis und Herkunft/weiblich/Kreis 8/Schweizer/in",
          "Aktuelle Geburten nach Alter, Stadtkreis und Herkunft/männlich/Kreis 9/Schweizer/in",
          "Aktuelle Geburten nach Alter, Stadtkreis und Herkunft/weiblich/Kreis 9/Schweizer/in",
          "Aktuelle Geburten nach Alter, Stadtkreis und Herkunft/männlich/Kreis 1",
          "Aktuelle Geburten nach Alter, Stadtkreis und Herkunft/weiblich/Kreis 1",
          "Aktuelle Geburten nach Alter, Stadtkreis und Herkunft/männlich/Kreis 10",
          "Aktuelle Geburten nach Alter, Stadtkreis und Herkunft/weiblich/Kreis 10",
          "Aktuelle Geburten nach Alter, Stadtkreis und Herkunft/männlich/Kreis 11",
          "Aktuelle Geburten nach Alter, Stadtkreis und Herkunft/weiblich/Kreis 11",
          "Aktuelle Geburten nach Alter, Stadtkreis und Herkunft/männlich/Kreis 12",
          "Aktuelle Geburten nach Alter, Stadtkreis und Herkunft/weiblich/Kreis 12",
          "Aktuelle Geburten nach Alter, Stadtkreis und Herkunft/männlich/Kreis 2",
          "Aktuelle Geburten nach Alter, Stadtkreis und Herkunft/weiblich/Kreis 2",
          "Aktuelle Geburten nach Alter, Stadtkreis und Herkunft/männlich/Kreis 3",
          "Aktuelle Geburten nach Alter, Stadtkreis und Herkunft/weiblich/Kreis 3",
          "Aktuelle Geburten nach Alter, Stadtkreis und Herkunft/männlich/Kreis 4",
          "Aktuelle Geburten nach Alter, Stadtkreis und Herkunft/weiblich/Kreis 4",
          "Aktuelle Geburten nach Alter, Stadtkreis und Herkunft/männlich/Kreis 5",
          "Aktuelle Geburten nach Alter, Stadtkreis und Herkunft/weiblich/Kreis 5",
          "Aktuelle Geburten nach Alter, Stadtkreis und Herkunft/männlich/Kreis 6",
          "Aktuelle Geburten nach Alter, Stadtkreis und Herkunft/weiblich/Kreis 6",
          "Aktuelle Geburten nach Alter, Stadtkreis und Herkunft/männlich/Kreis 7",
          "Aktuelle Geburten nach Alter, Stadtkreis und Herkunft/weiblich/Kreis 7",
          "Aktuelle Geburten nach Alter, Stadtkreis und Herkunft/männlich/Kreis 8",
          "Aktuelle Geburten nach Alter, Stadtkreis und Herkunft/weiblich/Kreis 8",
          "Aktuelle Geburten nach Alter, Stadtkreis und Herkunft/männlich/Kreis 9",
          "Aktuelle Geburten nach Alter, Stadtkreis und Herkunft/weiblich/Kreis 9",
          "Aktuelle Geburten nach Alter, Stadtkreis und Herkunft/männlich",
          "Aktuelle Geburten nach Alter, Stadtkreis und Herkunft/weiblich",
          "Aktuelle Geburten nach Alter, Stadtkreis und Herkunft"
         ],
         "labels": [
          "Ausländer/in",
          "Ausländer/in",
          "Ausländer/in",
          "Ausländer/in",
          "Ausländer/in",
          "Ausländer/in",
          "Ausländer/in",
          "Ausländer/in",
          "Ausländer/in",
          "Ausländer/in",
          "Ausländer/in",
          "Ausländer/in",
          "Ausländer/in",
          "Ausländer/in",
          "Ausländer/in",
          "Ausländer/in",
          "Ausländer/in",
          "Ausländer/in",
          "Ausländer/in",
          "Ausländer/in",
          "Ausländer/in",
          "Ausländer/in",
          "Ausländer/in",
          "Ausländer/in",
          "Schweizer/in",
          "Schweizer/in",
          "Schweizer/in",
          "Schweizer/in",
          "Schweizer/in",
          "Schweizer/in",
          "Schweizer/in",
          "Schweizer/in",
          "Schweizer/in",
          "Schweizer/in",
          "Schweizer/in",
          "Schweizer/in",
          "Schweizer/in",
          "Schweizer/in",
          "Schweizer/in",
          "Schweizer/in",
          "Schweizer/in",
          "Schweizer/in",
          "Schweizer/in",
          "Schweizer/in",
          "Schweizer/in",
          "Schweizer/in",
          "Schweizer/in",
          "Schweizer/in",
          "Kreis 1",
          "Kreis 1",
          "Kreis 10",
          "Kreis 10",
          "Kreis 11",
          "Kreis 11",
          "Kreis 12",
          "Kreis 12",
          "Kreis 2",
          "Kreis 2",
          "Kreis 3",
          "Kreis 3",
          "Kreis 4",
          "Kreis 4",
          "Kreis 5",
          "Kreis 5",
          "Kreis 6",
          "Kreis 6",
          "Kreis 7",
          "Kreis 7",
          "Kreis 8",
          "Kreis 8",
          "Kreis 9",
          "Kreis 9",
          "männlich",
          "weiblich",
          "Aktuelle Geburten nach Alter, Stadtkreis und Herkunft"
         ],
         "marker": {
          "coloraxis": "coloraxis",
          "colors": [
           1,
           1.125,
           1.1751824817518248,
           1.2058823529411764,
           1.4331550802139037,
           1.437956204379562,
           1.2375,
           1.1891891891891893,
           1.2571428571428571,
           1.2685185185185186,
           1.165680473372781,
           1.2197802197802199,
           1.2061855670103092,
           1.170731707317073,
           1.0273972602739727,
           1,
           1.1167883211678833,
           1.1578947368421053,
           1.1744186046511629,
           1.1904761904761905,
           1.0740740740740742,
           1.1666666666666667,
           1.3132530120481927,
           1.3076923076923077,
           1,
           1.2727272727272727,
           1.4578313253012047,
           1.48,
           1.8562197092084007,
           1.6616257088846882,
           1.3764705882352941,
           1.4104477611940298,
           1.398876404494382,
           1.4382022471910112,
           1.6080305927342256,
           1.6365591397849462,
           1.3703703703703705,
           1.3864406779661016,
           1.2073170731707317,
           1.2456140350877194,
           1.5582655826558265,
           1.463276836158192,
           1.5365853658536586,
           1.4093959731543624,
           1.1408450704225352,
           1.2272727272727273,
           1.7285464098073555,
           1.7413127413127414,
           1,
           1.2105263157894737,
           1.3876811594202898,
           1.416382252559727,
           1.6968781470292045,
           1.5638297872340425,
           1.3228915662650602,
           1.3317307692307692,
           1.3462897526501767,
           1.3741258741258742,
           1.5,
           1.519319938176198,
           1.3299492385786802,
           1.339522546419098,
           1.1518987341772151,
           1.1818181818181819,
           1.4387351778656126,
           1.3888888888888888,
           1.412,
           1.3370786516853932,
           1.112,
           1.2017543859649122,
           1.602439024390244,
           1.611637347767253,
           1.4525327071452532,
           1.434323896606295,
           1.443643231178642
          ]
         },
         "name": "",
         "parents": [
          "Aktuelle Geburten nach Alter, Stadtkreis und Herkunft/männlich/Kreis 1",
          "Aktuelle Geburten nach Alter, Stadtkreis und Herkunft/weiblich/Kreis 1",
          "Aktuelle Geburten nach Alter, Stadtkreis und Herkunft/männlich/Kreis 10",
          "Aktuelle Geburten nach Alter, Stadtkreis und Herkunft/weiblich/Kreis 10",
          "Aktuelle Geburten nach Alter, Stadtkreis und Herkunft/männlich/Kreis 11",
          "Aktuelle Geburten nach Alter, Stadtkreis und Herkunft/weiblich/Kreis 11",
          "Aktuelle Geburten nach Alter, Stadtkreis und Herkunft/männlich/Kreis 12",
          "Aktuelle Geburten nach Alter, Stadtkreis und Herkunft/weiblich/Kreis 12",
          "Aktuelle Geburten nach Alter, Stadtkreis und Herkunft/männlich/Kreis 2",
          "Aktuelle Geburten nach Alter, Stadtkreis und Herkunft/weiblich/Kreis 2",
          "Aktuelle Geburten nach Alter, Stadtkreis und Herkunft/männlich/Kreis 3",
          "Aktuelle Geburten nach Alter, Stadtkreis und Herkunft/weiblich/Kreis 3",
          "Aktuelle Geburten nach Alter, Stadtkreis und Herkunft/männlich/Kreis 4",
          "Aktuelle Geburten nach Alter, Stadtkreis und Herkunft/weiblich/Kreis 4",
          "Aktuelle Geburten nach Alter, Stadtkreis und Herkunft/männlich/Kreis 5",
          "Aktuelle Geburten nach Alter, Stadtkreis und Herkunft/weiblich/Kreis 5",
          "Aktuelle Geburten nach Alter, Stadtkreis und Herkunft/männlich/Kreis 6",
          "Aktuelle Geburten nach Alter, Stadtkreis und Herkunft/weiblich/Kreis 6",
          "Aktuelle Geburten nach Alter, Stadtkreis und Herkunft/männlich/Kreis 7",
          "Aktuelle Geburten nach Alter, Stadtkreis und Herkunft/weiblich/Kreis 7",
          "Aktuelle Geburten nach Alter, Stadtkreis und Herkunft/männlich/Kreis 8",
          "Aktuelle Geburten nach Alter, Stadtkreis und Herkunft/weiblich/Kreis 8",
          "Aktuelle Geburten nach Alter, Stadtkreis und Herkunft/männlich/Kreis 9",
          "Aktuelle Geburten nach Alter, Stadtkreis und Herkunft/weiblich/Kreis 9",
          "Aktuelle Geburten nach Alter, Stadtkreis und Herkunft/männlich/Kreis 1",
          "Aktuelle Geburten nach Alter, Stadtkreis und Herkunft/weiblich/Kreis 1",
          "Aktuelle Geburten nach Alter, Stadtkreis und Herkunft/männlich/Kreis 10",
          "Aktuelle Geburten nach Alter, Stadtkreis und Herkunft/weiblich/Kreis 10",
          "Aktuelle Geburten nach Alter, Stadtkreis und Herkunft/männlich/Kreis 11",
          "Aktuelle Geburten nach Alter, Stadtkreis und Herkunft/weiblich/Kreis 11",
          "Aktuelle Geburten nach Alter, Stadtkreis und Herkunft/männlich/Kreis 12",
          "Aktuelle Geburten nach Alter, Stadtkreis und Herkunft/weiblich/Kreis 12",
          "Aktuelle Geburten nach Alter, Stadtkreis und Herkunft/männlich/Kreis 2",
          "Aktuelle Geburten nach Alter, Stadtkreis und Herkunft/weiblich/Kreis 2",
          "Aktuelle Geburten nach Alter, Stadtkreis und Herkunft/männlich/Kreis 3",
          "Aktuelle Geburten nach Alter, Stadtkreis und Herkunft/weiblich/Kreis 3",
          "Aktuelle Geburten nach Alter, Stadtkreis und Herkunft/männlich/Kreis 4",
          "Aktuelle Geburten nach Alter, Stadtkreis und Herkunft/weiblich/Kreis 4",
          "Aktuelle Geburten nach Alter, Stadtkreis und Herkunft/männlich/Kreis 5",
          "Aktuelle Geburten nach Alter, Stadtkreis und Herkunft/weiblich/Kreis 5",
          "Aktuelle Geburten nach Alter, Stadtkreis und Herkunft/männlich/Kreis 6",
          "Aktuelle Geburten nach Alter, Stadtkreis und Herkunft/weiblich/Kreis 6",
          "Aktuelle Geburten nach Alter, Stadtkreis und Herkunft/männlich/Kreis 7",
          "Aktuelle Geburten nach Alter, Stadtkreis und Herkunft/weiblich/Kreis 7",
          "Aktuelle Geburten nach Alter, Stadtkreis und Herkunft/männlich/Kreis 8",
          "Aktuelle Geburten nach Alter, Stadtkreis und Herkunft/weiblich/Kreis 8",
          "Aktuelle Geburten nach Alter, Stadtkreis und Herkunft/männlich/Kreis 9",
          "Aktuelle Geburten nach Alter, Stadtkreis und Herkunft/weiblich/Kreis 9",
          "Aktuelle Geburten nach Alter, Stadtkreis und Herkunft/männlich",
          "Aktuelle Geburten nach Alter, Stadtkreis und Herkunft/weiblich",
          "Aktuelle Geburten nach Alter, Stadtkreis und Herkunft/männlich",
          "Aktuelle Geburten nach Alter, Stadtkreis und Herkunft/weiblich",
          "Aktuelle Geburten nach Alter, Stadtkreis und Herkunft/männlich",
          "Aktuelle Geburten nach Alter, Stadtkreis und Herkunft/weiblich",
          "Aktuelle Geburten nach Alter, Stadtkreis und Herkunft/männlich",
          "Aktuelle Geburten nach Alter, Stadtkreis und Herkunft/weiblich",
          "Aktuelle Geburten nach Alter, Stadtkreis und Herkunft/männlich",
          "Aktuelle Geburten nach Alter, Stadtkreis und Herkunft/weiblich",
          "Aktuelle Geburten nach Alter, Stadtkreis und Herkunft/männlich",
          "Aktuelle Geburten nach Alter, Stadtkreis und Herkunft/weiblich",
          "Aktuelle Geburten nach Alter, Stadtkreis und Herkunft/männlich",
          "Aktuelle Geburten nach Alter, Stadtkreis und Herkunft/weiblich",
          "Aktuelle Geburten nach Alter, Stadtkreis und Herkunft/männlich",
          "Aktuelle Geburten nach Alter, Stadtkreis und Herkunft/weiblich",
          "Aktuelle Geburten nach Alter, Stadtkreis und Herkunft/männlich",
          "Aktuelle Geburten nach Alter, Stadtkreis und Herkunft/weiblich",
          "Aktuelle Geburten nach Alter, Stadtkreis und Herkunft/männlich",
          "Aktuelle Geburten nach Alter, Stadtkreis und Herkunft/weiblich",
          "Aktuelle Geburten nach Alter, Stadtkreis und Herkunft/männlich",
          "Aktuelle Geburten nach Alter, Stadtkreis und Herkunft/weiblich",
          "Aktuelle Geburten nach Alter, Stadtkreis und Herkunft/männlich",
          "Aktuelle Geburten nach Alter, Stadtkreis und Herkunft/weiblich",
          "Aktuelle Geburten nach Alter, Stadtkreis und Herkunft",
          "Aktuelle Geburten nach Alter, Stadtkreis und Herkunft",
          ""
         ],
         "root": {
          "color": "grey"
         },
         "type": "treemap",
         "values": [
          13,
          16,
          137,
          136,
          374,
          411,
          160,
          148,
          210,
          216,
          169,
          182,
          97,
          82,
          73,
          60,
          137,
          114,
          172,
          147,
          108,
          96,
          249,
          221,
          24,
          22,
          415,
          450,
          619,
          529,
          255,
          268,
          356,
          356,
          523,
          465,
          297,
          295,
          164,
          171,
          369,
          354,
          328,
          298,
          142,
          132,
          571,
          518,
          37,
          38,
          552,
          586,
          993,
          940,
          415,
          416,
          566,
          572,
          692,
          647,
          394,
          377,
          237,
          231,
          506,
          468,
          500,
          445,
          250,
          228,
          820,
          739,
          5962,
          5687,
          11649
         ]
        }
       ],
       "layout": {
        "autosize": true,
        "coloraxis": {
         "colorbar": {
          "title": {
           "text": "sum_WBev"
          }
         },
         "colorscale": [
          [
           0,
           "rgb(255,247,251)"
          ],
          [
           0.125,
           "rgb(236,226,240)"
          ],
          [
           0.25,
           "rgb(208,209,230)"
          ],
          [
           0.375,
           "rgb(166,189,219)"
          ],
          [
           0.5,
           "rgb(103,169,207)"
          ],
          [
           0.625,
           "rgb(54,144,192)"
          ],
          [
           0.75,
           "rgb(2,129,138)"
          ],
          [
           0.875,
           "rgb(1,108,89)"
          ],
          [
           1,
           "rgb(1,70,54)"
          ]
         ]
        },
        "legend": {
         "tracegroupgap": 0
        },
        "margin": {
         "b": 25,
         "l": 25,
         "r": 250,
         "t": 50
        },
        "template": {
         "data": {
          "bar": [
           {
            "error_x": {
             "color": "#2a3f5f"
            },
            "error_y": {
             "color": "#2a3f5f"
            },
            "marker": {
             "line": {
              "color": "#E5ECF6",
              "width": 0.5
             },
             "pattern": {
              "fillmode": "overlay",
              "size": 10,
              "solidity": 0.2
             }
            },
            "type": "bar"
           }
          ],
          "barpolar": [
           {
            "marker": {
             "line": {
              "color": "#E5ECF6",
              "width": 0.5
             },
             "pattern": {
              "fillmode": "overlay",
              "size": 10,
              "solidity": 0.2
             }
            },
            "type": "barpolar"
           }
          ],
          "carpet": [
           {
            "aaxis": {
             "endlinecolor": "#2a3f5f",
             "gridcolor": "white",
             "linecolor": "white",
             "minorgridcolor": "white",
             "startlinecolor": "#2a3f5f"
            },
            "baxis": {
             "endlinecolor": "#2a3f5f",
             "gridcolor": "white",
             "linecolor": "white",
             "minorgridcolor": "white",
             "startlinecolor": "#2a3f5f"
            },
            "type": "carpet"
           }
          ],
          "choropleth": [
           {
            "colorbar": {
             "outlinewidth": 0,
             "ticks": ""
            },
            "type": "choropleth"
           }
          ],
          "contour": [
           {
            "colorbar": {
             "outlinewidth": 0,
             "ticks": ""
            },
            "colorscale": [
             [
              0,
              "#0d0887"
             ],
             [
              0.1111111111111111,
              "#46039f"
             ],
             [
              0.2222222222222222,
              "#7201a8"
             ],
             [
              0.3333333333333333,
              "#9c179e"
             ],
             [
              0.4444444444444444,
              "#bd3786"
             ],
             [
              0.5555555555555556,
              "#d8576b"
             ],
             [
              0.6666666666666666,
              "#ed7953"
             ],
             [
              0.7777777777777778,
              "#fb9f3a"
             ],
             [
              0.8888888888888888,
              "#fdca26"
             ],
             [
              1,
              "#f0f921"
             ]
            ],
            "type": "contour"
           }
          ],
          "contourcarpet": [
           {
            "colorbar": {
             "outlinewidth": 0,
             "ticks": ""
            },
            "type": "contourcarpet"
           }
          ],
          "heatmap": [
           {
            "colorbar": {
             "outlinewidth": 0,
             "ticks": ""
            },
            "colorscale": [
             [
              0,
              "#0d0887"
             ],
             [
              0.1111111111111111,
              "#46039f"
             ],
             [
              0.2222222222222222,
              "#7201a8"
             ],
             [
              0.3333333333333333,
              "#9c179e"
             ],
             [
              0.4444444444444444,
              "#bd3786"
             ],
             [
              0.5555555555555556,
              "#d8576b"
             ],
             [
              0.6666666666666666,
              "#ed7953"
             ],
             [
              0.7777777777777778,
              "#fb9f3a"
             ],
             [
              0.8888888888888888,
              "#fdca26"
             ],
             [
              1,
              "#f0f921"
             ]
            ],
            "type": "heatmap"
           }
          ],
          "heatmapgl": [
           {
            "colorbar": {
             "outlinewidth": 0,
             "ticks": ""
            },
            "colorscale": [
             [
              0,
              "#0d0887"
             ],
             [
              0.1111111111111111,
              "#46039f"
             ],
             [
              0.2222222222222222,
              "#7201a8"
             ],
             [
              0.3333333333333333,
              "#9c179e"
             ],
             [
              0.4444444444444444,
              "#bd3786"
             ],
             [
              0.5555555555555556,
              "#d8576b"
             ],
             [
              0.6666666666666666,
              "#ed7953"
             ],
             [
              0.7777777777777778,
              "#fb9f3a"
             ],
             [
              0.8888888888888888,
              "#fdca26"
             ],
             [
              1,
              "#f0f921"
             ]
            ],
            "type": "heatmapgl"
           }
          ],
          "histogram": [
           {
            "marker": {
             "pattern": {
              "fillmode": "overlay",
              "size": 10,
              "solidity": 0.2
             }
            },
            "type": "histogram"
           }
          ],
          "histogram2d": [
           {
            "colorbar": {
             "outlinewidth": 0,
             "ticks": ""
            },
            "colorscale": [
             [
              0,
              "#0d0887"
             ],
             [
              0.1111111111111111,
              "#46039f"
             ],
             [
              0.2222222222222222,
              "#7201a8"
             ],
             [
              0.3333333333333333,
              "#9c179e"
             ],
             [
              0.4444444444444444,
              "#bd3786"
             ],
             [
              0.5555555555555556,
              "#d8576b"
             ],
             [
              0.6666666666666666,
              "#ed7953"
             ],
             [
              0.7777777777777778,
              "#fb9f3a"
             ],
             [
              0.8888888888888888,
              "#fdca26"
             ],
             [
              1,
              "#f0f921"
             ]
            ],
            "type": "histogram2d"
           }
          ],
          "histogram2dcontour": [
           {
            "colorbar": {
             "outlinewidth": 0,
             "ticks": ""
            },
            "colorscale": [
             [
              0,
              "#0d0887"
             ],
             [
              0.1111111111111111,
              "#46039f"
             ],
             [
              0.2222222222222222,
              "#7201a8"
             ],
             [
              0.3333333333333333,
              "#9c179e"
             ],
             [
              0.4444444444444444,
              "#bd3786"
             ],
             [
              0.5555555555555556,
              "#d8576b"
             ],
             [
              0.6666666666666666,
              "#ed7953"
             ],
             [
              0.7777777777777778,
              "#fb9f3a"
             ],
             [
              0.8888888888888888,
              "#fdca26"
             ],
             [
              1,
              "#f0f921"
             ]
            ],
            "type": "histogram2dcontour"
           }
          ],
          "mesh3d": [
           {
            "colorbar": {
             "outlinewidth": 0,
             "ticks": ""
            },
            "type": "mesh3d"
           }
          ],
          "parcoords": [
           {
            "line": {
             "colorbar": {
              "outlinewidth": 0,
              "ticks": ""
             }
            },
            "type": "parcoords"
           }
          ],
          "pie": [
           {
            "automargin": true,
            "type": "pie"
           }
          ],
          "scatter": [
           {
            "marker": {
             "colorbar": {
              "outlinewidth": 0,
              "ticks": ""
             }
            },
            "type": "scatter"
           }
          ],
          "scatter3d": [
           {
            "line": {
             "colorbar": {
              "outlinewidth": 0,
              "ticks": ""
             }
            },
            "marker": {
             "colorbar": {
              "outlinewidth": 0,
              "ticks": ""
             }
            },
            "type": "scatter3d"
           }
          ],
          "scattercarpet": [
           {
            "marker": {
             "colorbar": {
              "outlinewidth": 0,
              "ticks": ""
             }
            },
            "type": "scattercarpet"
           }
          ],
          "scattergeo": [
           {
            "marker": {
             "colorbar": {
              "outlinewidth": 0,
              "ticks": ""
             }
            },
            "type": "scattergeo"
           }
          ],
          "scattergl": [
           {
            "marker": {
             "colorbar": {
              "outlinewidth": 0,
              "ticks": ""
             }
            },
            "type": "scattergl"
           }
          ],
          "scattermapbox": [
           {
            "marker": {
             "colorbar": {
              "outlinewidth": 0,
              "ticks": ""
             }
            },
            "type": "scattermapbox"
           }
          ],
          "scatterpolar": [
           {
            "marker": {
             "colorbar": {
              "outlinewidth": 0,
              "ticks": ""
             }
            },
            "type": "scatterpolar"
           }
          ],
          "scatterpolargl": [
           {
            "marker": {
             "colorbar": {
              "outlinewidth": 0,
              "ticks": ""
             }
            },
            "type": "scatterpolargl"
           }
          ],
          "scatterternary": [
           {
            "marker": {
             "colorbar": {
              "outlinewidth": 0,
              "ticks": ""
             }
            },
            "type": "scatterternary"
           }
          ],
          "surface": [
           {
            "colorbar": {
             "outlinewidth": 0,
             "ticks": ""
            },
            "colorscale": [
             [
              0,
              "#0d0887"
             ],
             [
              0.1111111111111111,
              "#46039f"
             ],
             [
              0.2222222222222222,
              "#7201a8"
             ],
             [
              0.3333333333333333,
              "#9c179e"
             ],
             [
              0.4444444444444444,
              "#bd3786"
             ],
             [
              0.5555555555555556,
              "#d8576b"
             ],
             [
              0.6666666666666666,
              "#ed7953"
             ],
             [
              0.7777777777777778,
              "#fb9f3a"
             ],
             [
              0.8888888888888888,
              "#fdca26"
             ],
             [
              1,
              "#f0f921"
             ]
            ],
            "type": "surface"
           }
          ],
          "table": [
           {
            "cells": {
             "fill": {
              "color": "#EBF0F8"
             },
             "line": {
              "color": "white"
             }
            },
            "header": {
             "fill": {
              "color": "#C8D4E3"
             },
             "line": {
              "color": "white"
             }
            },
            "type": "table"
           }
          ]
         },
         "layout": {
          "annotationdefaults": {
           "arrowcolor": "#2a3f5f",
           "arrowhead": 0,
           "arrowwidth": 1
          },
          "autotypenumbers": "strict",
          "coloraxis": {
           "colorbar": {
            "outlinewidth": 0,
            "ticks": ""
           }
          },
          "colorscale": {
           "diverging": [
            [
             0,
             "#8e0152"
            ],
            [
             0.1,
             "#c51b7d"
            ],
            [
             0.2,
             "#de77ae"
            ],
            [
             0.3,
             "#f1b6da"
            ],
            [
             0.4,
             "#fde0ef"
            ],
            [
             0.5,
             "#f7f7f7"
            ],
            [
             0.6,
             "#e6f5d0"
            ],
            [
             0.7,
             "#b8e186"
            ],
            [
             0.8,
             "#7fbc41"
            ],
            [
             0.9,
             "#4d9221"
            ],
            [
             1,
             "#276419"
            ]
           ],
           "sequential": [
            [
             0,
             "#0d0887"
            ],
            [
             0.1111111111111111,
             "#46039f"
            ],
            [
             0.2222222222222222,
             "#7201a8"
            ],
            [
             0.3333333333333333,
             "#9c179e"
            ],
            [
             0.4444444444444444,
             "#bd3786"
            ],
            [
             0.5555555555555556,
             "#d8576b"
            ],
            [
             0.6666666666666666,
             "#ed7953"
            ],
            [
             0.7777777777777778,
             "#fb9f3a"
            ],
            [
             0.8888888888888888,
             "#fdca26"
            ],
            [
             1,
             "#f0f921"
            ]
           ],
           "sequentialminus": [
            [
             0,
             "#0d0887"
            ],
            [
             0.1111111111111111,
             "#46039f"
            ],
            [
             0.2222222222222222,
             "#7201a8"
            ],
            [
             0.3333333333333333,
             "#9c179e"
            ],
            [
             0.4444444444444444,
             "#bd3786"
            ],
            [
             0.5555555555555556,
             "#d8576b"
            ],
            [
             0.6666666666666666,
             "#ed7953"
            ],
            [
             0.7777777777777778,
             "#fb9f3a"
            ],
            [
             0.8888888888888888,
             "#fdca26"
            ],
            [
             1,
             "#f0f921"
            ]
           ]
          },
          "colorway": [
           "#636efa",
           "#EF553B",
           "#00cc96",
           "#ab63fa",
           "#FFA15A",
           "#19d3f3",
           "#FF6692",
           "#B6E880",
           "#FF97FF",
           "#FECB52"
          ],
          "font": {
           "color": "#2a3f5f"
          },
          "geo": {
           "bgcolor": "white",
           "lakecolor": "white",
           "landcolor": "#E5ECF6",
           "showlakes": true,
           "showland": true,
           "subunitcolor": "white"
          },
          "hoverlabel": {
           "align": "left"
          },
          "hovermode": "closest",
          "mapbox": {
           "style": "light"
          },
          "paper_bgcolor": "white",
          "plot_bgcolor": "#E5ECF6",
          "polar": {
           "angularaxis": {
            "gridcolor": "white",
            "linecolor": "white",
            "ticks": ""
           },
           "bgcolor": "#E5ECF6",
           "radialaxis": {
            "gridcolor": "white",
            "linecolor": "white",
            "ticks": ""
           }
          },
          "scene": {
           "xaxis": {
            "backgroundcolor": "#E5ECF6",
            "gridcolor": "white",
            "gridwidth": 2,
            "linecolor": "white",
            "showbackground": true,
            "ticks": "",
            "zerolinecolor": "white"
           },
           "yaxis": {
            "backgroundcolor": "#E5ECF6",
            "gridcolor": "white",
            "gridwidth": 2,
            "linecolor": "white",
            "showbackground": true,
            "ticks": "",
            "zerolinecolor": "white"
           },
           "zaxis": {
            "backgroundcolor": "#E5ECF6",
            "gridcolor": "white",
            "gridwidth": 2,
            "linecolor": "white",
            "showbackground": true,
            "ticks": "",
            "zerolinecolor": "white"
           }
          },
          "shapedefaults": {
           "line": {
            "color": "#2a3f5f"
           }
          },
          "ternary": {
           "aaxis": {
            "gridcolor": "white",
            "linecolor": "white",
            "ticks": ""
           },
           "baxis": {
            "gridcolor": "white",
            "linecolor": "white",
            "ticks": ""
           },
           "bgcolor": "#E5ECF6",
           "caxis": {
            "gridcolor": "white",
            "linecolor": "white",
            "ticks": ""
           }
          },
          "title": {
           "x": 0.05
          },
          "xaxis": {
           "automargin": true,
           "gridcolor": "white",
           "linecolor": "white",
           "ticks": "",
           "title": {
            "standoff": 15
           },
           "zerolinecolor": "white",
           "zerolinewidth": 2
          },
          "yaxis": {
           "automargin": true,
           "gridcolor": "white",
           "linecolor": "white",
           "ticks": "",
           "title": {
            "standoff": 15
           },
           "zerolinecolor": "white",
           "zerolinewidth": 2
          }
         }
        }
       }
      },
      "image/png": "[encoded data removed]",
      "text/html": [
       "<div>                            <div id=\"4de6f526-2909-43f2-9f04-599b5032ede2\" class=\"plotly-graph-div\" style=\"height:525px; width:100%;\"></div>            <script type=\"text/javascript\">                require([\"plotly\"], function(Plotly) {                    window.PLOTLYENV=window.PLOTLYENV || {};                                    if (document.getElementById(\"4de6f526-2909-43f2-9f04-599b5032ede2\")) {                    Plotly.newPlot(                        \"4de6f526-2909-43f2-9f04-599b5032ede2\",                        [{\"branchvalues\":\"total\",\"customdata\":[[1.0],[1.125],[1.1751824817518248],[1.2058823529411764],[1.4331550802139037],[1.437956204379562],[1.2375],[1.1891891891891893],[1.2571428571428571],[1.2685185185185186],[1.165680473372781],[1.2197802197802199],[1.2061855670103092],[1.170731707317073],[1.0273972602739727],[1.0],[1.1167883211678833],[1.1578947368421053],[1.1744186046511629],[1.1904761904761905],[1.0740740740740742],[1.1666666666666667],[1.3132530120481927],[1.3076923076923077],[1.0],[1.2727272727272727],[1.4578313253012047],[1.48],[1.8562197092084007],[1.6616257088846882],[1.3764705882352941],[1.4104477611940298],[1.398876404494382],[1.4382022471910112],[1.6080305927342256],[1.6365591397849462],[1.3703703703703705],[1.3864406779661016],[1.2073170731707317],[1.2456140350877194],[1.5582655826558265],[1.463276836158192],[1.5365853658536586],[1.4093959731543624],[1.1408450704225352],[1.2272727272727273],[1.7285464098073555],[1.7413127413127414],[1.0],[1.2105263157894737],[1.3876811594202898],[1.416382252559727],[1.6968781470292045],[1.5638297872340425],[1.3228915662650602],[1.3317307692307692],[1.3462897526501767],[1.3741258741258742],[1.5],[1.519319938176198],[1.3299492385786802],[1.339522546419098],[1.1518987341772151],[1.1818181818181819],[1.4387351778656126],[1.3888888888888888],[1.412],[1.3370786516853932],[1.112],[1.2017543859649122],[1.602439024390244],[1.611637347767253],[1.4525327071452532],[1.434323896606295],[1.443643231178642]],\"domain\":{\"x\":[0.0,1.0],\"y\":[0.0,1.0]},\"hovertemplate\":\"labels=%{label}<br>sum_WBev_sum=%{value}<br>parent=%{parent}<br>id=%{id}<br>sum_WBev=%{color}<extra></extra>\",\"ids\":[\"Aktuelle Geburten nach Alter, Stadtkreis und Herkunft/m\\u00e4nnlich/Kreis 1/Ausl\\u00e4nder/in\",\"Aktuelle Geburten nach Alter, Stadtkreis und Herkunft/weiblich/Kreis 1/Ausl\\u00e4nder/in\",\"Aktuelle Geburten nach Alter, Stadtkreis und Herkunft/m\\u00e4nnlich/Kreis 10/Ausl\\u00e4nder/in\",\"Aktuelle Geburten nach Alter, Stadtkreis und Herkunft/weiblich/Kreis 10/Ausl\\u00e4nder/in\",\"Aktuelle Geburten nach Alter, Stadtkreis und Herkunft/m\\u00e4nnlich/Kreis 11/Ausl\\u00e4nder/in\",\"Aktuelle Geburten nach Alter, Stadtkreis und Herkunft/weiblich/Kreis 11/Ausl\\u00e4nder/in\",\"Aktuelle Geburten nach Alter, Stadtkreis und Herkunft/m\\u00e4nnlich/Kreis 12/Ausl\\u00e4nder/in\",\"Aktuelle Geburten nach Alter, Stadtkreis und Herkunft/weiblich/Kreis 12/Ausl\\u00e4nder/in\",\"Aktuelle Geburten nach Alter, Stadtkreis und Herkunft/m\\u00e4nnlich/Kreis 2/Ausl\\u00e4nder/in\",\"Aktuelle Geburten nach Alter, Stadtkreis und Herkunft/weiblich/Kreis 2/Ausl\\u00e4nder/in\",\"Aktuelle Geburten nach Alter, Stadtkreis und Herkunft/m\\u00e4nnlich/Kreis 3/Ausl\\u00e4nder/in\",\"Aktuelle Geburten nach Alter, Stadtkreis und Herkunft/weiblich/Kreis 3/Ausl\\u00e4nder/in\",\"Aktuelle Geburten nach Alter, Stadtkreis und Herkunft/m\\u00e4nnlich/Kreis 4/Ausl\\u00e4nder/in\",\"Aktuelle Geburten nach Alter, Stadtkreis und Herkunft/weiblich/Kreis 4/Ausl\\u00e4nder/in\",\"Aktuelle Geburten nach Alter, Stadtkreis und Herkunft/m\\u00e4nnlich/Kreis 5/Ausl\\u00e4nder/in\",\"Aktuelle Geburten nach Alter, Stadtkreis und Herkunft/weiblich/Kreis 5/Ausl\\u00e4nder/in\",\"Aktuelle Geburten nach Alter, Stadtkreis und Herkunft/m\\u00e4nnlich/Kreis 6/Ausl\\u00e4nder/in\",\"Aktuelle Geburten nach Alter, Stadtkreis und Herkunft/weiblich/Kreis 6/Ausl\\u00e4nder/in\",\"Aktuelle Geburten nach Alter, Stadtkreis und Herkunft/m\\u00e4nnlich/Kreis 7/Ausl\\u00e4nder/in\",\"Aktuelle Geburten nach Alter, Stadtkreis und Herkunft/weiblich/Kreis 7/Ausl\\u00e4nder/in\",\"Aktuelle Geburten nach Alter, Stadtkreis und Herkunft/m\\u00e4nnlich/Kreis 8/Ausl\\u00e4nder/in\",\"Aktuelle Geburten nach Alter, Stadtkreis und Herkunft/weiblich/Kreis 8/Ausl\\u00e4nder/in\",\"Aktuelle Geburten nach Alter, Stadtkreis und Herkunft/m\\u00e4nnlich/Kreis 9/Ausl\\u00e4nder/in\",\"Aktuelle Geburten nach Alter, Stadtkreis und Herkunft/weiblich/Kreis 9/Ausl\\u00e4nder/in\",\"Aktuelle Geburten nach Alter, Stadtkreis und Herkunft/m\\u00e4nnlich/Kreis 1/Schweizer/in\",\"Aktuelle Geburten nach Alter, Stadtkreis und Herkunft/weiblich/Kreis 1/Schweizer/in\",\"Aktuelle Geburten nach Alter, Stadtkreis und Herkunft/m\\u00e4nnlich/Kreis 10/Schweizer/in\",\"Aktuelle Geburten nach Alter, Stadtkreis und Herkunft/weiblich/Kreis 10/Schweizer/in\",\"Aktuelle Geburten nach Alter, Stadtkreis und Herkunft/m\\u00e4nnlich/Kreis 11/Schweizer/in\",\"Aktuelle Geburten nach Alter, Stadtkreis und Herkunft/weiblich/Kreis 11/Schweizer/in\",\"Aktuelle Geburten nach Alter, Stadtkreis und Herkunft/m\\u00e4nnlich/Kreis 12/Schweizer/in\",\"Aktuelle Geburten nach Alter, Stadtkreis und Herkunft/weiblich/Kreis 12/Schweizer/in\",\"Aktuelle Geburten nach Alter, Stadtkreis und Herkunft/m\\u00e4nnlich/Kreis 2/Schweizer/in\",\"Aktuelle Geburten nach Alter, Stadtkreis und Herkunft/weiblich/Kreis 2/Schweizer/in\",\"Aktuelle Geburten nach Alter, Stadtkreis und Herkunft/m\\u00e4nnlich/Kreis 3/Schweizer/in\",\"Aktuelle Geburten nach Alter, Stadtkreis und Herkunft/weiblich/Kreis 3/Schweizer/in\",\"Aktuelle Geburten nach Alter, Stadtkreis und Herkunft/m\\u00e4nnlich/Kreis 4/Schweizer/in\",\"Aktuelle Geburten nach Alter, Stadtkreis und Herkunft/weiblich/Kreis 4/Schweizer/in\",\"Aktuelle Geburten nach Alter, Stadtkreis und Herkunft/m\\u00e4nnlich/Kreis 5/Schweizer/in\",\"Aktuelle Geburten nach Alter, Stadtkreis und Herkunft/weiblich/Kreis 5/Schweizer/in\",\"Aktuelle Geburten nach Alter, Stadtkreis und Herkunft/m\\u00e4nnlich/Kreis 6/Schweizer/in\",\"Aktuelle Geburten nach Alter, Stadtkreis und Herkunft/weiblich/Kreis 6/Schweizer/in\",\"Aktuelle Geburten nach Alter, Stadtkreis und Herkunft/m\\u00e4nnlich/Kreis 7/Schweizer/in\",\"Aktuelle Geburten nach Alter, Stadtkreis und Herkunft/weiblich/Kreis 7/Schweizer/in\",\"Aktuelle Geburten nach Alter, Stadtkreis und Herkunft/m\\u00e4nnlich/Kreis 8/Schweizer/in\",\"Aktuelle Geburten nach Alter, Stadtkreis und Herkunft/weiblich/Kreis 8/Schweizer/in\",\"Aktuelle Geburten nach Alter, Stadtkreis und Herkunft/m\\u00e4nnlich/Kreis 9/Schweizer/in\",\"Aktuelle Geburten nach Alter, Stadtkreis und Herkunft/weiblich/Kreis 9/Schweizer/in\",\"Aktuelle Geburten nach Alter, Stadtkreis und Herkunft/m\\u00e4nnlich/Kreis 1\",\"Aktuelle Geburten nach Alter, Stadtkreis und Herkunft/weiblich/Kreis 1\",\"Aktuelle Geburten nach Alter, Stadtkreis und Herkunft/m\\u00e4nnlich/Kreis 10\",\"Aktuelle Geburten nach Alter, Stadtkreis und Herkunft/weiblich/Kreis 10\",\"Aktuelle Geburten nach Alter, Stadtkreis und Herkunft/m\\u00e4nnlich/Kreis 11\",\"Aktuelle Geburten nach Alter, Stadtkreis und Herkunft/weiblich/Kreis 11\",\"Aktuelle Geburten nach Alter, Stadtkreis und Herkunft/m\\u00e4nnlich/Kreis 12\",\"Aktuelle Geburten nach Alter, Stadtkreis und Herkunft/weiblich/Kreis 12\",\"Aktuelle Geburten nach Alter, Stadtkreis und Herkunft/m\\u00e4nnlich/Kreis 2\",\"Aktuelle Geburten nach Alter, Stadtkreis und Herkunft/weiblich/Kreis 2\",\"Aktuelle Geburten nach Alter, Stadtkreis und Herkunft/m\\u00e4nnlich/Kreis 3\",\"Aktuelle Geburten nach Alter, Stadtkreis und Herkunft/weiblich/Kreis 3\",\"Aktuelle Geburten nach Alter, Stadtkreis und Herkunft/m\\u00e4nnlich/Kreis 4\",\"Aktuelle Geburten nach Alter, Stadtkreis und Herkunft/weiblich/Kreis 4\",\"Aktuelle Geburten nach Alter, Stadtkreis und Herkunft/m\\u00e4nnlich/Kreis 5\",\"Aktuelle Geburten nach Alter, Stadtkreis und Herkunft/weiblich/Kreis 5\",\"Aktuelle Geburten nach Alter, Stadtkreis und Herkunft/m\\u00e4nnlich/Kreis 6\",\"Aktuelle Geburten nach Alter, Stadtkreis und Herkunft/weiblich/Kreis 6\",\"Aktuelle Geburten nach Alter, Stadtkreis und Herkunft/m\\u00e4nnlich/Kreis 7\",\"Aktuelle Geburten nach Alter, Stadtkreis und Herkunft/weiblich/Kreis 7\",\"Aktuelle Geburten nach Alter, Stadtkreis und Herkunft/m\\u00e4nnlich/Kreis 8\",\"Aktuelle Geburten nach Alter, Stadtkreis und Herkunft/weiblich/Kreis 8\",\"Aktuelle Geburten nach Alter, Stadtkreis und Herkunft/m\\u00e4nnlich/Kreis 9\",\"Aktuelle Geburten nach Alter, Stadtkreis und Herkunft/weiblich/Kreis 9\",\"Aktuelle Geburten nach Alter, Stadtkreis und Herkunft/m\\u00e4nnlich\",\"Aktuelle Geburten nach Alter, Stadtkreis und Herkunft/weiblich\",\"Aktuelle Geburten nach Alter, Stadtkreis und Herkunft\"],\"labels\":[\"Ausl\\u00e4nder/in\",\"Ausl\\u00e4nder/in\",\"Ausl\\u00e4nder/in\",\"Ausl\\u00e4nder/in\",\"Ausl\\u00e4nder/in\",\"Ausl\\u00e4nder/in\",\"Ausl\\u00e4nder/in\",\"Ausl\\u00e4nder/in\",\"Ausl\\u00e4nder/in\",\"Ausl\\u00e4nder/in\",\"Ausl\\u00e4nder/in\",\"Ausl\\u00e4nder/in\",\"Ausl\\u00e4nder/in\",\"Ausl\\u00e4nder/in\",\"Ausl\\u00e4nder/in\",\"Ausl\\u00e4nder/in\",\"Ausl\\u00e4nder/in\",\"Ausl\\u00e4nder/in\",\"Ausl\\u00e4nder/in\",\"Ausl\\u00e4nder/in\",\"Ausl\\u00e4nder/in\",\"Ausl\\u00e4nder/in\",\"Ausl\\u00e4nder/in\",\"Ausl\\u00e4nder/in\",\"Schweizer/in\",\"Schweizer/in\",\"Schweizer/in\",\"Schweizer/in\",\"Schweizer/in\",\"Schweizer/in\",\"Schweizer/in\",\"Schweizer/in\",\"Schweizer/in\",\"Schweizer/in\",\"Schweizer/in\",\"Schweizer/in\",\"Schweizer/in\",\"Schweizer/in\",\"Schweizer/in\",\"Schweizer/in\",\"Schweizer/in\",\"Schweizer/in\",\"Schweizer/in\",\"Schweizer/in\",\"Schweizer/in\",\"Schweizer/in\",\"Schweizer/in\",\"Schweizer/in\",\"Kreis 1\",\"Kreis 1\",\"Kreis 10\",\"Kreis 10\",\"Kreis 11\",\"Kreis 11\",\"Kreis 12\",\"Kreis 12\",\"Kreis 2\",\"Kreis 2\",\"Kreis 3\",\"Kreis 3\",\"Kreis 4\",\"Kreis 4\",\"Kreis 5\",\"Kreis 5\",\"Kreis 6\",\"Kreis 6\",\"Kreis 7\",\"Kreis 7\",\"Kreis 8\",\"Kreis 8\",\"Kreis 9\",\"Kreis 9\",\"m\\u00e4nnlich\",\"weiblich\",\"Aktuelle Geburten nach Alter, Stadtkreis und Herkunft\"],\"marker\":{\"coloraxis\":\"coloraxis\",\"colors\":[1.0,1.125,1.1751824817518248,1.2058823529411764,1.4331550802139037,1.437956204379562,1.2375,1.1891891891891893,1.2571428571428571,1.2685185185185186,1.165680473372781,1.2197802197802199,1.2061855670103092,1.170731707317073,1.0273972602739727,1.0,1.1167883211678833,1.1578947368421053,1.1744186046511629,1.1904761904761905,1.0740740740740742,1.1666666666666667,1.3132530120481927,1.3076923076923077,1.0,1.2727272727272727,1.4578313253012047,1.48,1.8562197092084007,1.6616257088846882,1.3764705882352941,1.4104477611940298,1.398876404494382,1.4382022471910112,1.6080305927342256,1.6365591397849462,1.3703703703703705,1.3864406779661016,1.2073170731707317,1.2456140350877194,1.5582655826558265,1.463276836158192,1.5365853658536586,1.4093959731543624,1.1408450704225352,1.2272727272727273,1.7285464098073555,1.7413127413127414,1.0,1.2105263157894737,1.3876811594202898,1.416382252559727,1.6968781470292045,1.5638297872340425,1.3228915662650602,1.3317307692307692,1.3462897526501767,1.3741258741258742,1.5,1.519319938176198,1.3299492385786802,1.339522546419098,1.1518987341772151,1.1818181818181819,1.4387351778656126,1.3888888888888888,1.412,1.3370786516853932,1.112,1.2017543859649122,1.602439024390244,1.611637347767253,1.4525327071452532,1.434323896606295,1.443643231178642]},\"name\":\"\",\"parents\":[\"Aktuelle Geburten nach Alter, Stadtkreis und Herkunft/m\\u00e4nnlich/Kreis 1\",\"Aktuelle Geburten nach Alter, Stadtkreis und Herkunft/weiblich/Kreis 1\",\"Aktuelle Geburten nach Alter, Stadtkreis und Herkunft/m\\u00e4nnlich/Kreis 10\",\"Aktuelle Geburten nach Alter, Stadtkreis und Herkunft/weiblich/Kreis 10\",\"Aktuelle Geburten nach Alter, Stadtkreis und Herkunft/m\\u00e4nnlich/Kreis 11\",\"Aktuelle Geburten nach Alter, Stadtkreis und Herkunft/weiblich/Kreis 11\",\"Aktuelle Geburten nach Alter, Stadtkreis und Herkunft/m\\u00e4nnlich/Kreis 12\",\"Aktuelle Geburten nach Alter, Stadtkreis und Herkunft/weiblich/Kreis 12\",\"Aktuelle Geburten nach Alter, Stadtkreis und Herkunft/m\\u00e4nnlich/Kreis 2\",\"Aktuelle Geburten nach Alter, Stadtkreis und Herkunft/weiblich/Kreis 2\",\"Aktuelle Geburten nach Alter, Stadtkreis und Herkunft/m\\u00e4nnlich/Kreis 3\",\"Aktuelle Geburten nach Alter, Stadtkreis und Herkunft/weiblich/Kreis 3\",\"Aktuelle Geburten nach Alter, Stadtkreis und Herkunft/m\\u00e4nnlich/Kreis 4\",\"Aktuelle Geburten nach Alter, Stadtkreis und Herkunft/weiblich/Kreis 4\",\"Aktuelle Geburten nach Alter, Stadtkreis und Herkunft/m\\u00e4nnlich/Kreis 5\",\"Aktuelle Geburten nach Alter, Stadtkreis und Herkunft/weiblich/Kreis 5\",\"Aktuelle Geburten nach Alter, Stadtkreis und Herkunft/m\\u00e4nnlich/Kreis 6\",\"Aktuelle Geburten nach Alter, Stadtkreis und Herkunft/weiblich/Kreis 6\",\"Aktuelle Geburten nach Alter, Stadtkreis und Herkunft/m\\u00e4nnlich/Kreis 7\",\"Aktuelle Geburten nach Alter, Stadtkreis und Herkunft/weiblich/Kreis 7\",\"Aktuelle Geburten nach Alter, Stadtkreis und Herkunft/m\\u00e4nnlich/Kreis 8\",\"Aktuelle Geburten nach Alter, Stadtkreis und Herkunft/weiblich/Kreis 8\",\"Aktuelle Geburten nach Alter, Stadtkreis und Herkunft/m\\u00e4nnlich/Kreis 9\",\"Aktuelle Geburten nach Alter, Stadtkreis und Herkunft/weiblich/Kreis 9\",\"Aktuelle Geburten nach Alter, Stadtkreis und Herkunft/m\\u00e4nnlich/Kreis 1\",\"Aktuelle Geburten nach Alter, Stadtkreis und Herkunft/weiblich/Kreis 1\",\"Aktuelle Geburten nach Alter, Stadtkreis und Herkunft/m\\u00e4nnlich/Kreis 10\",\"Aktuelle Geburten nach Alter, Stadtkreis und Herkunft/weiblich/Kreis 10\",\"Aktuelle Geburten nach Alter, Stadtkreis und Herkunft/m\\u00e4nnlich/Kreis 11\",\"Aktuelle Geburten nach Alter, Stadtkreis und Herkunft/weiblich/Kreis 11\",\"Aktuelle Geburten nach Alter, Stadtkreis und Herkunft/m\\u00e4nnlich/Kreis 12\",\"Aktuelle Geburten nach Alter, Stadtkreis und Herkunft/weiblich/Kreis 12\",\"Aktuelle Geburten nach Alter, Stadtkreis und Herkunft/m\\u00e4nnlich/Kreis 2\",\"Aktuelle Geburten nach Alter, Stadtkreis und Herkunft/weiblich/Kreis 2\",\"Aktuelle Geburten nach Alter, Stadtkreis und Herkunft/m\\u00e4nnlich/Kreis 3\",\"Aktuelle Geburten nach Alter, Stadtkreis und Herkunft/weiblich/Kreis 3\",\"Aktuelle Geburten nach Alter, Stadtkreis und Herkunft/m\\u00e4nnlich/Kreis 4\",\"Aktuelle Geburten nach Alter, Stadtkreis und Herkunft/weiblich/Kreis 4\",\"Aktuelle Geburten nach Alter, Stadtkreis und Herkunft/m\\u00e4nnlich/Kreis 5\",\"Aktuelle Geburten nach Alter, Stadtkreis und Herkunft/weiblich/Kreis 5\",\"Aktuelle Geburten nach Alter, Stadtkreis und Herkunft/m\\u00e4nnlich/Kreis 6\",\"Aktuelle Geburten nach Alter, Stadtkreis und Herkunft/weiblich/Kreis 6\",\"Aktuelle Geburten nach Alter, Stadtkreis und Herkunft/m\\u00e4nnlich/Kreis 7\",\"Aktuelle Geburten nach Alter, Stadtkreis und Herkunft/weiblich/Kreis 7\",\"Aktuelle Geburten nach Alter, Stadtkreis und Herkunft/m\\u00e4nnlich/Kreis 8\",\"Aktuelle Geburten nach Alter, Stadtkreis und Herkunft/weiblich/Kreis 8\",\"Aktuelle Geburten nach Alter, Stadtkreis und Herkunft/m\\u00e4nnlich/Kreis 9\",\"Aktuelle Geburten nach Alter, Stadtkreis und Herkunft/weiblich/Kreis 9\",\"Aktuelle Geburten nach Alter, Stadtkreis und Herkunft/m\\u00e4nnlich\",\"Aktuelle Geburten nach Alter, Stadtkreis und Herkunft/weiblich\",\"Aktuelle Geburten nach Alter, Stadtkreis und Herkunft/m\\u00e4nnlich\",\"Aktuelle Geburten nach Alter, Stadtkreis und Herkunft/weiblich\",\"Aktuelle Geburten nach Alter, Stadtkreis und Herkunft/m\\u00e4nnlich\",\"Aktuelle Geburten nach Alter, Stadtkreis und Herkunft/weiblich\",\"Aktuelle Geburten nach Alter, Stadtkreis und Herkunft/m\\u00e4nnlich\",\"Aktuelle Geburten nach Alter, Stadtkreis und Herkunft/weiblich\",\"Aktuelle Geburten nach Alter, Stadtkreis und Herkunft/m\\u00e4nnlich\",\"Aktuelle Geburten nach Alter, Stadtkreis und Herkunft/weiblich\",\"Aktuelle Geburten nach Alter, Stadtkreis und Herkunft/m\\u00e4nnlich\",\"Aktuelle Geburten nach Alter, Stadtkreis und Herkunft/weiblich\",\"Aktuelle Geburten nach Alter, Stadtkreis und Herkunft/m\\u00e4nnlich\",\"Aktuelle Geburten nach Alter, Stadtkreis und Herkunft/weiblich\",\"Aktuelle Geburten nach Alter, Stadtkreis und Herkunft/m\\u00e4nnlich\",\"Aktuelle Geburten nach Alter, Stadtkreis und Herkunft/weiblich\",\"Aktuelle Geburten nach Alter, Stadtkreis und Herkunft/m\\u00e4nnlich\",\"Aktuelle Geburten nach Alter, Stadtkreis und Herkunft/weiblich\",\"Aktuelle Geburten nach Alter, Stadtkreis und Herkunft/m\\u00e4nnlich\",\"Aktuelle Geburten nach Alter, Stadtkreis und Herkunft/weiblich\",\"Aktuelle Geburten nach Alter, Stadtkreis und Herkunft/m\\u00e4nnlich\",\"Aktuelle Geburten nach Alter, Stadtkreis und Herkunft/weiblich\",\"Aktuelle Geburten nach Alter, Stadtkreis und Herkunft/m\\u00e4nnlich\",\"Aktuelle Geburten nach Alter, Stadtkreis und Herkunft/weiblich\",\"Aktuelle Geburten nach Alter, Stadtkreis und Herkunft\",\"Aktuelle Geburten nach Alter, Stadtkreis und Herkunft\",\"\"],\"values\":[13,16,137,136,374,411,160,148,210,216,169,182,97,82,73,60,137,114,172,147,108,96,249,221,24,22,415,450,619,529,255,268,356,356,523,465,297,295,164,171,369,354,328,298,142,132,571,518,37,38,552,586,993,940,415,416,566,572,692,647,394,377,237,231,506,468,500,445,250,228,820,739,5962,5687,11649],\"type\":\"treemap\",\"root\":{\"color\":\"grey\"}}],                        {\"template\":{\"data\":{\"bar\":[{\"error_x\":{\"color\":\"#2a3f5f\"},\"error_y\":{\"color\":\"#2a3f5f\"},\"marker\":{\"line\":{\"color\":\"#E5ECF6\",\"width\":0.5},\"pattern\":{\"fillmode\":\"overlay\",\"size\":10,\"solidity\":0.2}},\"type\":\"bar\"}],\"barpolar\":[{\"marker\":{\"line\":{\"color\":\"#E5ECF6\",\"width\":0.5},\"pattern\":{\"fillmode\":\"overlay\",\"size\":10,\"solidity\":0.2}},\"type\":\"barpolar\"}],\"carpet\":[{\"aaxis\":{\"endlinecolor\":\"#2a3f5f\",\"gridcolor\":\"white\",\"linecolor\":\"white\",\"minorgridcolor\":\"white\",\"startlinecolor\":\"#2a3f5f\"},\"baxis\":{\"endlinecolor\":\"#2a3f5f\",\"gridcolor\":\"white\",\"linecolor\":\"white\",\"minorgridcolor\":\"white\",\"startlinecolor\":\"#2a3f5f\"},\"type\":\"carpet\"}],\"choropleth\":[{\"colorbar\":{\"outlinewidth\":0,\"ticks\":\"\"},\"type\":\"choropleth\"}],\"contour\":[{\"colorbar\":{\"outlinewidth\":0,\"ticks\":\"\"},\"colorscale\":[[0.0,\"#0d0887\"],[0.1111111111111111,\"#46039f\"],[0.2222222222222222,\"#7201a8\"],[0.3333333333333333,\"#9c179e\"],[0.4444444444444444,\"#bd3786\"],[0.5555555555555556,\"#d8576b\"],[0.6666666666666666,\"#ed7953\"],[0.7777777777777778,\"#fb9f3a\"],[0.8888888888888888,\"#fdca26\"],[1.0,\"#f0f921\"]],\"type\":\"contour\"}],\"contourcarpet\":[{\"colorbar\":{\"outlinewidth\":0,\"ticks\":\"\"},\"type\":\"contourcarpet\"}],\"heatmap\":[{\"colorbar\":{\"outlinewidth\":0,\"ticks\":\"\"},\"colorscale\":[[0.0,\"#0d0887\"],[0.1111111111111111,\"#46039f\"],[0.2222222222222222,\"#7201a8\"],[0.3333333333333333,\"#9c179e\"],[0.4444444444444444,\"#bd3786\"],[0.5555555555555556,\"#d8576b\"],[0.6666666666666666,\"#ed7953\"],[0.7777777777777778,\"#fb9f3a\"],[0.8888888888888888,\"#fdca26\"],[1.0,\"#f0f921\"]],\"type\":\"heatmap\"}],\"heatmapgl\":[{\"colorbar\":{\"outlinewidth\":0,\"ticks\":\"\"},\"colorscale\":[[0.0,\"#0d0887\"],[0.1111111111111111,\"#46039f\"],[0.2222222222222222,\"#7201a8\"],[0.3333333333333333,\"#9c179e\"],[0.4444444444444444,\"#bd3786\"],[0.5555555555555556,\"#d8576b\"],[0.6666666666666666,\"#ed7953\"],[0.7777777777777778,\"#fb9f3a\"],[0.8888888888888888,\"#fdca26\"],[1.0,\"#f0f921\"]],\"type\":\"heatmapgl\"}],\"histogram\":[{\"marker\":{\"pattern\":{\"fillmode\":\"overlay\",\"size\":10,\"solidity\":0.2}},\"type\":\"histogram\"}],\"histogram2d\":[{\"colorbar\":{\"outlinewidth\":0,\"ticks\":\"\"},\"colorscale\":[[0.0,\"#0d0887\"],[0.1111111111111111,\"#46039f\"],[0.2222222222222222,\"#7201a8\"],[0.3333333333333333,\"#9c179e\"],[0.4444444444444444,\"#bd3786\"],[0.5555555555555556,\"#d8576b\"],[0.6666666666666666,\"#ed7953\"],[0.7777777777777778,\"#fb9f3a\"],[0.8888888888888888,\"#fdca26\"],[1.0,\"#f0f921\"]],\"type\":\"histogram2d\"}],\"histogram2dcontour\":[{\"colorbar\":{\"outlinewidth\":0,\"ticks\":\"\"},\"colorscale\":[[0.0,\"#0d0887\"],[0.1111111111111111,\"#46039f\"],[0.2222222222222222,\"#7201a8\"],[0.3333333333333333,\"#9c179e\"],[0.4444444444444444,\"#bd3786\"],[0.5555555555555556,\"#d8576b\"],[0.6666666666666666,\"#ed7953\"],[0.7777777777777778,\"#fb9f3a\"],[0.8888888888888888,\"#fdca26\"],[1.0,\"#f0f921\"]],\"type\":\"histogram2dcontour\"}],\"mesh3d\":[{\"colorbar\":{\"outlinewidth\":0,\"ticks\":\"\"},\"type\":\"mesh3d\"}],\"parcoords\":[{\"line\":{\"colorbar\":{\"outlinewidth\":0,\"ticks\":\"\"}},\"type\":\"parcoords\"}],\"pie\":[{\"automargin\":true,\"type\":\"pie\"}],\"scatter\":[{\"marker\":{\"colorbar\":{\"outlinewidth\":0,\"ticks\":\"\"}},\"type\":\"scatter\"}],\"scatter3d\":[{\"line\":{\"colorbar\":{\"outlinewidth\":0,\"ticks\":\"\"}},\"marker\":{\"colorbar\":{\"outlinewidth\":0,\"ticks\":\"\"}},\"type\":\"scatter3d\"}],\"scattercarpet\":[{\"marker\":{\"colorbar\":{\"outlinewidth\":0,\"ticks\":\"\"}},\"type\":\"scattercarpet\"}],\"scattergeo\":[{\"marker\":{\"colorbar\":{\"outlinewidth\":0,\"ticks\":\"\"}},\"type\":\"scattergeo\"}],\"scattergl\":[{\"marker\":{\"colorbar\":{\"outlinewidth\":0,\"ticks\":\"\"}},\"type\":\"scattergl\"}],\"scattermapbox\":[{\"marker\":{\"colorbar\":{\"outlinewidth\":0,\"ticks\":\"\"}},\"type\":\"scattermapbox\"}],\"scatterpolar\":[{\"marker\":{\"colorbar\":{\"outlinewidth\":0,\"ticks\":\"\"}},\"type\":\"scatterpolar\"}],\"scatterpolargl\":[{\"marker\":{\"colorbar\":{\"outlinewidth\":0,\"ticks\":\"\"}},\"type\":\"scatterpolargl\"}],\"scatterternary\":[{\"marker\":{\"colorbar\":{\"outlinewidth\":0,\"ticks\":\"\"}},\"type\":\"scatterternary\"}],\"surface\":[{\"colorbar\":{\"outlinewidth\":0,\"ticks\":\"\"},\"colorscale\":[[0.0,\"#0d0887\"],[0.1111111111111111,\"#46039f\"],[0.2222222222222222,\"#7201a8\"],[0.3333333333333333,\"#9c179e\"],[0.4444444444444444,\"#bd3786\"],[0.5555555555555556,\"#d8576b\"],[0.6666666666666666,\"#ed7953\"],[0.7777777777777778,\"#fb9f3a\"],[0.8888888888888888,\"#fdca26\"],[1.0,\"#f0f921\"]],\"type\":\"surface\"}],\"table\":[{\"cells\":{\"fill\":{\"color\":\"#EBF0F8\"},\"line\":{\"color\":\"white\"}},\"header\":{\"fill\":{\"color\":\"#C8D4E3\"},\"line\":{\"color\":\"white\"}},\"type\":\"table\"}]},\"layout\":{\"annotationdefaults\":{\"arrowcolor\":\"#2a3f5f\",\"arrowhead\":0,\"arrowwidth\":1},\"autotypenumbers\":\"strict\",\"coloraxis\":{\"colorbar\":{\"outlinewidth\":0,\"ticks\":\"\"}},\"colorscale\":{\"diverging\":[[0,\"#8e0152\"],[0.1,\"#c51b7d\"],[0.2,\"#de77ae\"],[0.3,\"#f1b6da\"],[0.4,\"#fde0ef\"],[0.5,\"#f7f7f7\"],[0.6,\"#e6f5d0\"],[0.7,\"#b8e186\"],[0.8,\"#7fbc41\"],[0.9,\"#4d9221\"],[1,\"#276419\"]],\"sequential\":[[0.0,\"#0d0887\"],[0.1111111111111111,\"#46039f\"],[0.2222222222222222,\"#7201a8\"],[0.3333333333333333,\"#9c179e\"],[0.4444444444444444,\"#bd3786\"],[0.5555555555555556,\"#d8576b\"],[0.6666666666666666,\"#ed7953\"],[0.7777777777777778,\"#fb9f3a\"],[0.8888888888888888,\"#fdca26\"],[1.0,\"#f0f921\"]],\"sequentialminus\":[[0.0,\"#0d0887\"],[0.1111111111111111,\"#46039f\"],[0.2222222222222222,\"#7201a8\"],[0.3333333333333333,\"#9c179e\"],[0.4444444444444444,\"#bd3786\"],[0.5555555555555556,\"#d8576b\"],[0.6666666666666666,\"#ed7953\"],[0.7777777777777778,\"#fb9f3a\"],[0.8888888888888888,\"#fdca26\"],[1.0,\"#f0f921\"]]},\"colorway\":[\"#636efa\",\"#EF553B\",\"#00cc96\",\"#ab63fa\",\"#FFA15A\",\"#19d3f3\",\"#FF6692\",\"#B6E880\",\"#FF97FF\",\"#FECB52\"],\"font\":{\"color\":\"#2a3f5f\"},\"geo\":{\"bgcolor\":\"white\",\"lakecolor\":\"white\",\"landcolor\":\"#E5ECF6\",\"showlakes\":true,\"showland\":true,\"subunitcolor\":\"white\"},\"hoverlabel\":{\"align\":\"left\"},\"hovermode\":\"closest\",\"mapbox\":{\"style\":\"light\"},\"paper_bgcolor\":\"white\",\"plot_bgcolor\":\"#E5ECF6\",\"polar\":{\"angularaxis\":{\"gridcolor\":\"white\",\"linecolor\":\"white\",\"ticks\":\"\"},\"bgcolor\":\"#E5ECF6\",\"radialaxis\":{\"gridcolor\":\"white\",\"linecolor\":\"white\",\"ticks\":\"\"}},\"scene\":{\"xaxis\":{\"backgroundcolor\":\"#E5ECF6\",\"gridcolor\":\"white\",\"gridwidth\":2,\"linecolor\":\"white\",\"showbackground\":true,\"ticks\":\"\",\"zerolinecolor\":\"white\"},\"yaxis\":{\"backgroundcolor\":\"#E5ECF6\",\"gridcolor\":\"white\",\"gridwidth\":2,\"linecolor\":\"white\",\"showbackground\":true,\"ticks\":\"\",\"zerolinecolor\":\"white\"},\"zaxis\":{\"backgroundcolor\":\"#E5ECF6\",\"gridcolor\":\"white\",\"gridwidth\":2,\"linecolor\":\"white\",\"showbackground\":true,\"ticks\":\"\",\"zerolinecolor\":\"white\"}},\"shapedefaults\":{\"line\":{\"color\":\"#2a3f5f\"}},\"ternary\":{\"aaxis\":{\"gridcolor\":\"white\",\"linecolor\":\"white\",\"ticks\":\"\"},\"baxis\":{\"gridcolor\":\"white\",\"linecolor\":\"white\",\"ticks\":\"\"},\"bgcolor\":\"#E5ECF6\",\"caxis\":{\"gridcolor\":\"white\",\"linecolor\":\"white\",\"ticks\":\"\"}},\"title\":{\"x\":0.05},\"xaxis\":{\"automargin\":true,\"gridcolor\":\"white\",\"linecolor\":\"white\",\"ticks\":\"\",\"title\":{\"standoff\":15},\"zerolinecolor\":\"white\",\"zerolinewidth\":2},\"yaxis\":{\"automargin\":true,\"gridcolor\":\"white\",\"linecolor\":\"white\",\"ticks\":\"\",\"title\":{\"standoff\":15},\"zerolinecolor\":\"white\",\"zerolinewidth\":2}}},\"coloraxis\":{\"colorbar\":{\"title\":{\"text\":\"sum_WBev\"}},\"colorscale\":[[0.0,\"rgb(255,247,251)\"],[0.125,\"rgb(236,226,240)\"],[0.25,\"rgb(208,209,230)\"],[0.375,\"rgb(166,189,219)\"],[0.5,\"rgb(103,169,207)\"],[0.625,\"rgb(54,144,192)\"],[0.75,\"rgb(2,129,138)\"],[0.875,\"rgb(1,108,89)\"],[1.0,\"rgb(1,70,54)\"]]},\"legend\":{\"tracegroupgap\":0},\"margin\":{\"t\":50,\"l\":25,\"r\":250,\"b\":25}},                        {\"responsive\": true}                    ).then(function(){\n",
       "                            \n",
       "var gd = document.getElementById('4de6f526-2909-43f2-9f04-599b5032ede2');\n",
       "var x = new MutationObserver(function (mutations, observer) {{\n",
       "        var display = window.getComputedStyle(gd).display;\n",
       "        if (!display || display === 'none') {{\n",
       "            console.log([gd, 'removed!']);\n",
       "            Plotly.purge(gd);\n",
       "            observer.disconnect();\n",
       "        }}\n",
       "}});\n",
       "\n",
       "// Listen for the removal of the full notebook cells\n",
       "var notebookContainer = gd.closest('#notebook-container');\n",
       "if (notebookContainer) {{\n",
       "    x.observe(notebookContainer, {childList: true});\n",
       "}}\n",
       "\n",
       "// Listen for the clearing of the current output cell\n",
       "var outputEl = gd.closest('.output');\n",
       "if (outputEl) {{\n",
       "    x.observe(outputEl, {childList: true});\n",
       "}}\n",
       "\n",
       "                        })                };                });            </script>        </div>"
      ]
     },
     "metadata": {},
     "output_type": "display_data"
    }
   ],
   "source": [
    "fig = px.treemap(myTreemapAgg.reset_index()\n",
    "                 , path=[px.Constant(\"Aktuelle Geburten nach Alter, Stadtkreis und Herkunft\"), 'SexLang','KreisLang','HerkunftLang']\n",
    "                 , values='sum_WBev'\n",
    "                 , color='sum_WBev'\n",
    "                 ## bei discrete scales (bei Klassen und Strings):                 \n",
    "                 #, color_discrete_map={'(?)':'lightgrey','EVP':'gold', 'SP':'#FF3030', 'PdA':'#EE3B3B', 'Grüne':'#A2CD5A','GLP':'#CAFF70','Die Mitte':'orange','FDP':'#104E8B','AL':'deeppink','SVP':'forestgreen', 'FL ZÜRI':'#8B864E','Volt':'#lightblue' }                \n",
    "                 ## bei continuous scales (bei Zahlenwerten):\n",
    "                , color_continuous_scale='PuBuGn'\n",
    "                #, color_continuous_midpoint=np.average(myTreemapAgg['sum_WBev'], weights=myTreemapAgg['sum_WBev']) \n",
    "                 #,height=400\n",
    "                 #,width=1500\n",
    "                )\n",
    "fig.update_traces(root_color=\"grey\")\n",
    "fig.update_layout(margin = dict(t=50, l=25, r=250, b=25))#, title=\"WBev nach Alter, Stadtkreis und Herkunft\")\n",
    "fig.show()"
   ]
  },
  {
   "cell_type": "markdown",
   "metadata": {},
   "source": [
    "-------------------------------------- stop hier\n",
    "\n",
    "Liniendiagramm \n",
    "[Link zur Doku](https://altair-viz.github.io/gallery/multiline_highlight.html)"
   ]
  },
  {
   "cell_type": "markdown",
   "metadata": {},
   "source": [
    "### Test: Choroplethenkarte\n",
    "Importiere die Geodaten als GeoJSON"
   ]
  },
  {
   "cell_type": "code",
   "execution_count": 45,
   "metadata": {},
   "outputs": [
    {
     "data": {
      "text/html": [
       "<div>\n",
       "<style scoped>\n",
       "    .dataframe tbody tr th:only-of-type {\n",
       "        vertical-align: middle;\n",
       "    }\n",
       "\n",
       "    .dataframe tbody tr th {\n",
       "        vertical-align: top;\n",
       "    }\n",
       "\n",
       "    .dataframe thead th {\n",
       "        text-align: right;\n",
       "    }\n",
       "</style>\n",
       "<table border=\"1\" class=\"dataframe\">\n",
       "  <thead>\n",
       "    <tr style=\"text-align: right;\">\n",
       "      <th></th>\n",
       "      <th>id</th>\n",
       "      <th>kname</th>\n",
       "      <th>knr</th>\n",
       "      <th>objectid</th>\n",
       "      <th>objid</th>\n",
       "      <th>qname</th>\n",
       "      <th>qnr</th>\n",
       "      <th>geometry</th>\n",
       "    </tr>\n",
       "  </thead>\n",
       "  <tbody>\n",
       "    <tr>\n",
       "      <th>0</th>\n",
       "      <td>adm_statistische_quartiere_map.1</td>\n",
       "      <td>Kreis 7</td>\n",
       "      <td>7</td>\n",
       "      <td>1</td>\n",
       "      <td>34</td>\n",
       "      <td>Hirslanden</td>\n",
       "      <td>73</td>\n",
       "      <td>POLYGON ((8.55670 47.36406, 8.55682 47.36410, ...</td>\n",
       "    </tr>\n",
       "    <tr>\n",
       "      <th>1</th>\n",
       "      <td>adm_statistische_quartiere_map.2</td>\n",
       "      <td>Kreis 8</td>\n",
       "      <td>8</td>\n",
       "      <td>2</td>\n",
       "      <td>33</td>\n",
       "      <td>Weinegg</td>\n",
       "      <td>83</td>\n",
       "      <td>POLYGON ((8.55670 47.36405, 8.55672 47.36403, ...</td>\n",
       "    </tr>\n",
       "    <tr>\n",
       "      <th>2</th>\n",
       "      <td>adm_statistische_quartiere_map.3</td>\n",
       "      <td>Kreis 8</td>\n",
       "      <td>8</td>\n",
       "      <td>3</td>\n",
       "      <td>32</td>\n",
       "      <td>Mühlebach</td>\n",
       "      <td>82</td>\n",
       "      <td>POLYGON ((8.55423 47.36456, 8.55426 47.36452, ...</td>\n",
       "    </tr>\n",
       "    <tr>\n",
       "      <th>3</th>\n",
       "      <td>adm_statistische_quartiere_map.4</td>\n",
       "      <td>Kreis 8</td>\n",
       "      <td>8</td>\n",
       "      <td>4</td>\n",
       "      <td>31</td>\n",
       "      <td>Seefeld</td>\n",
       "      <td>81</td>\n",
       "      <td>POLYGON ((8.54795 47.36500, 8.54805 47.36489, ...</td>\n",
       "    </tr>\n",
       "    <tr>\n",
       "      <th>4</th>\n",
       "      <td>adm_statistische_quartiere_map.7</td>\n",
       "      <td>Kreis 4</td>\n",
       "      <td>4</td>\n",
       "      <td>7</td>\n",
       "      <td>16</td>\n",
       "      <td>Werd</td>\n",
       "      <td>41</td>\n",
       "      <td>POLYGON ((8.53300 47.37394, 8.53299 47.37392, ...</td>\n",
       "    </tr>\n",
       "  </tbody>\n",
       "</table>\n",
       "</div>"
      ],
      "text/plain": [
       "                                 id    kname  knr  objectid objid       qname  qnr  \\\n",
       "0  adm_statistische_quartiere_map.1  Kreis 7    7         1    34  Hirslanden   73   \n",
       "1  adm_statistische_quartiere_map.2  Kreis 8    8         2    33     Weinegg   83   \n",
       "2  adm_statistische_quartiere_map.3  Kreis 8    8         3    32   Mühlebach   82   \n",
       "3  adm_statistische_quartiere_map.4  Kreis 8    8         4    31     Seefeld   81   \n",
       "4  adm_statistische_quartiere_map.7  Kreis 4    4         7    16        Werd   41   \n",
       "\n",
       "                                            geometry  \n",
       "0  POLYGON ((8.55670 47.36406, 8.55682 47.36410, ...  \n",
       "1  POLYGON ((8.55670 47.36405, 8.55672 47.36403, ...  \n",
       "2  POLYGON ((8.55423 47.36456, 8.55426 47.36452, ...  \n",
       "3  POLYGON ((8.54795 47.36500, 8.54805 47.36489, ...  \n",
       "4  POLYGON ((8.53300 47.37394, 8.53299 47.37392, ...  "
      ]
     },
     "execution_count": 45,
     "metadata": {},
     "output_type": "execute_result"
    }
   ],
   "source": [
    "# Read abt. Geopandas https://geopandas.org/docs/user_guide/io.html\n",
    "# Wenn die Daten lokal agelegt sind, dann kannst Du folgendes machen:\n",
    "##input_stadtquartiere = r\"//szh.loc/ssz/data/GIS/Daten/Vektor/_aktuell/stzh.adm_statistische_quartiere_map.json\"\n",
    "##df_stadtquartiere = gpd.read_file(input_stadtquartiere)\n",
    "##df_stadtquartiere.head(2)\n",
    "#df_stadtkreise.dtypes\n",
    "\n",
    "geojson_url = \"https://www.ogd.stadt-zuerich.ch/wfs/geoportal/Statistische_Quartiere?service=WFS&version=1.1.0&request=GetFeature&outputFormat=GeoJSON&typename=adm_statistische_quartiere_map\"\n",
    "df_adm_statistische_quartiere_map = gpd.read_file(geojson_url)\n",
    "\n",
    "df_adm_statistische_quartiere_map.head(5)\n"
   ]
  },
  {
   "cell_type": "markdown",
   "metadata": {},
   "source": [
    "Joine die importierten statistischen Daten des aktuellen Jahres zum Geodatensatz:\n",
    "\n",
    "*Siehe dazu Doku zu [Geopandas](https://geopandas.org/docs/user_guide/mergingdata.html)*"
   ]
  },
  {
   "cell_type": "code",
   "execution_count": 47,
   "metadata": {},
   "outputs": [
    {
     "data": {
      "text/html": [
       "<div>\n",
       "<style scoped>\n",
       "    .dataframe tbody tr th:only-of-type {\n",
       "        vertical-align: middle;\n",
       "    }\n",
       "\n",
       "    .dataframe tbody tr th {\n",
       "        vertical-align: top;\n",
       "    }\n",
       "\n",
       "    .dataframe thead th {\n",
       "        text-align: right;\n",
       "    }\n",
       "</style>\n",
       "<table border=\"1\" class=\"dataframe\">\n",
       "  <thead>\n",
       "    <tr style=\"text-align: right;\">\n",
       "      <th></th>\n",
       "      <th>GueltigAbDatJahr</th>\n",
       "      <th>GueltigAbDatMM</th>\n",
       "      <th>GueltigAbDatDD</th>\n",
       "      <th>SexCd</th>\n",
       "      <th>SexLang</th>\n",
       "      <th>HerkunftCd</th>\n",
       "      <th>HerkunftLang</th>\n",
       "      <th>KreisCd</th>\n",
       "      <th>KreisLang</th>\n",
       "      <th>QuarCd</th>\n",
       "      <th>QuarLang</th>\n",
       "      <th>DatenstandCd</th>\n",
       "      <th>DatenstandLang</th>\n",
       "      <th>AnzGebuWir</th>\n",
       "    </tr>\n",
       "    <tr>\n",
       "      <th>GueltigAbDat</th>\n",
       "      <th></th>\n",
       "      <th></th>\n",
       "      <th></th>\n",
       "      <th></th>\n",
       "      <th></th>\n",
       "      <th></th>\n",
       "      <th></th>\n",
       "      <th></th>\n",
       "      <th></th>\n",
       "      <th></th>\n",
       "      <th></th>\n",
       "      <th></th>\n",
       "      <th></th>\n",
       "      <th></th>\n",
       "    </tr>\n",
       "  </thead>\n",
       "  <tbody>\n",
       "    <tr>\n",
       "      <th>1998-01-01</th>\n",
       "      <td>1998</td>\n",
       "      <td>1</td>\n",
       "      <td>1</td>\n",
       "      <td>1</td>\n",
       "      <td>männlich</td>\n",
       "      <td>1</td>\n",
       "      <td>Schweizer/in</td>\n",
       "      <td>6</td>\n",
       "      <td>Kreis 6</td>\n",
       "      <td>61</td>\n",
       "      <td>Unterstrass</td>\n",
       "      <td>V</td>\n",
       "      <td>Veröffentlicht</td>\n",
       "      <td>1</td>\n",
       "    </tr>\n",
       "    <tr>\n",
       "      <th>1998-01-01</th>\n",
       "      <td>1998</td>\n",
       "      <td>1</td>\n",
       "      <td>1</td>\n",
       "      <td>1</td>\n",
       "      <td>männlich</td>\n",
       "      <td>1</td>\n",
       "      <td>Schweizer/in</td>\n",
       "      <td>7</td>\n",
       "      <td>Kreis 7</td>\n",
       "      <td>71</td>\n",
       "      <td>Fluntern</td>\n",
       "      <td>V</td>\n",
       "      <td>Veröffentlicht</td>\n",
       "      <td>1</td>\n",
       "    </tr>\n",
       "  </tbody>\n",
       "</table>\n",
       "</div>"
      ],
      "text/plain": [
       "              GueltigAbDatJahr  GueltigAbDatMM  GueltigAbDatDD  SexCd   SexLang  HerkunftCd  \\\n",
       "GueltigAbDat                                                                                  \n",
       "1998-01-01                1998               1               1      1  männlich           1   \n",
       "1998-01-01                1998               1               1      1  männlich           1   \n",
       "\n",
       "              HerkunftLang  KreisCd KreisLang  QuarCd     QuarLang DatenstandCd  DatenstandLang  \\\n",
       "GueltigAbDat                                                                                      \n",
       "1998-01-01    Schweizer/in        6   Kreis 6      61  Unterstrass            V  Veröffentlicht   \n",
       "1998-01-01    Schweizer/in        7   Kreis 7      71     Fluntern            V  Veröffentlicht   \n",
       "\n",
       "              AnzGebuWir  \n",
       "GueltigAbDat              \n",
       "1998-01-01             1  \n",
       "1998-01-01             1  "
      ]
     },
     "execution_count": 47,
     "metadata": {},
     "output_type": "execute_result"
    }
   ],
   "source": [
    "data2betested.head(2)"
   ]
  },
  {
   "cell_type": "code",
   "execution_count": 53,
   "metadata": {},
   "outputs": [
    {
     "data": {
      "text/html": [
       "<div>\n",
       "<style scoped>\n",
       "    .dataframe tbody tr th:only-of-type {\n",
       "        vertical-align: middle;\n",
       "    }\n",
       "\n",
       "    .dataframe tbody tr th {\n",
       "        vertical-align: top;\n",
       "    }\n",
       "\n",
       "    .dataframe thead th {\n",
       "        text-align: right;\n",
       "    }\n",
       "</style>\n",
       "<table border=\"1\" class=\"dataframe\">\n",
       "  <thead>\n",
       "    <tr style=\"text-align: right;\">\n",
       "      <th></th>\n",
       "      <th>GueltigAbDatJahr</th>\n",
       "      <th>GueltigAbDatMM</th>\n",
       "      <th>QuarCd</th>\n",
       "      <th>QuarLang</th>\n",
       "      <th>AnzGebuWir</th>\n",
       "    </tr>\n",
       "  </thead>\n",
       "  <tbody>\n",
       "    <tr>\n",
       "      <th>0</th>\n",
       "      <td>2022</td>\n",
       "      <td>3</td>\n",
       "      <td>11</td>\n",
       "      <td>Rathaus</td>\n",
       "      <td>3</td>\n",
       "    </tr>\n",
       "    <tr>\n",
       "      <th>1</th>\n",
       "      <td>2022</td>\n",
       "      <td>3</td>\n",
       "      <td>14</td>\n",
       "      <td>City</td>\n",
       "      <td>1</td>\n",
       "    </tr>\n",
       "    <tr>\n",
       "      <th>2</th>\n",
       "      <td>2022</td>\n",
       "      <td>3</td>\n",
       "      <td>21</td>\n",
       "      <td>Wollishofen</td>\n",
       "      <td>19</td>\n",
       "    </tr>\n",
       "    <tr>\n",
       "      <th>3</th>\n",
       "      <td>2022</td>\n",
       "      <td>3</td>\n",
       "      <td>23</td>\n",
       "      <td>Leimbach</td>\n",
       "      <td>3</td>\n",
       "    </tr>\n",
       "    <tr>\n",
       "      <th>4</th>\n",
       "      <td>2022</td>\n",
       "      <td>3</td>\n",
       "      <td>24</td>\n",
       "      <td>Enge</td>\n",
       "      <td>7</td>\n",
       "    </tr>\n",
       "  </tbody>\n",
       "</table>\n",
       "</div>"
      ],
      "text/plain": [
       "   GueltigAbDatJahr  GueltigAbDatMM  QuarCd     QuarLang  AnzGebuWir\n",
       "0              2022               3      11      Rathaus           3\n",
       "1              2022               3      14         City           1\n",
       "2              2022               3      21  Wollishofen          19\n",
       "3              2022               3      23     Leimbach           3\n",
       "4              2022               3      24         Enge           7"
      ]
     },
     "execution_count": 53,
     "metadata": {},
     "output_type": "execute_result"
    }
   ],
   "source": [
    "akt_wbev_quart = data2betested.loc[latest_year_month].groupby(\n",
    "    ['GueltigAbDatJahr','GueltigAbDatMM','QuarCd','QuarLang']\n",
    ").agg(\n",
    "    {'AnzGebuWir':'sum'}\n",
    ")\n",
    "akt_wbev_quart.reset_index().head()\n"
   ]
  },
  {
   "cell_type": "code",
   "execution_count": 54,
   "metadata": {},
   "outputs": [
    {
     "data": {
      "text/html": [
       "<div>\n",
       "<style scoped>\n",
       "    .dataframe tbody tr th:only-of-type {\n",
       "        vertical-align: middle;\n",
       "    }\n",
       "\n",
       "    .dataframe tbody tr th {\n",
       "        vertical-align: top;\n",
       "    }\n",
       "\n",
       "    .dataframe thead th {\n",
       "        text-align: right;\n",
       "    }\n",
       "</style>\n",
       "<table border=\"1\" class=\"dataframe\">\n",
       "  <thead>\n",
       "    <tr style=\"text-align: right;\">\n",
       "      <th></th>\n",
       "      <th>geometry</th>\n",
       "      <th>QuarCd</th>\n",
       "      <th>qname</th>\n",
       "      <th>knr</th>\n",
       "      <th>GueltigAbDatJahr</th>\n",
       "      <th>GueltigAbDatMM</th>\n",
       "      <th>QuarLang</th>\n",
       "      <th>AnzGebuWir</th>\n",
       "    </tr>\n",
       "  </thead>\n",
       "  <tbody>\n",
       "    <tr>\n",
       "      <th>0</th>\n",
       "      <td>POLYGON ((8.55670 47.36406, 8.55682 47.36410, ...</td>\n",
       "      <td>73</td>\n",
       "      <td>Hirslanden</td>\n",
       "      <td>7</td>\n",
       "      <td>2022</td>\n",
       "      <td>3</td>\n",
       "      <td>Hirslanden</td>\n",
       "      <td>8</td>\n",
       "    </tr>\n",
       "    <tr>\n",
       "      <th>1</th>\n",
       "      <td>POLYGON ((8.55670 47.36405, 8.55672 47.36403, ...</td>\n",
       "      <td>83</td>\n",
       "      <td>Weinegg</td>\n",
       "      <td>8</td>\n",
       "      <td>2022</td>\n",
       "      <td>3</td>\n",
       "      <td>Weinegg</td>\n",
       "      <td>4</td>\n",
       "    </tr>\n",
       "  </tbody>\n",
       "</table>\n",
       "</div>"
      ],
      "text/plain": [
       "                                            geometry  QuarCd       qname  knr  GueltigAbDatJahr  \\\n",
       "0  POLYGON ((8.55670 47.36406, 8.55682 47.36410, ...      73  Hirslanden    7              2022   \n",
       "1  POLYGON ((8.55670 47.36405, 8.55672 47.36403, ...      83     Weinegg    8              2022   \n",
       "\n",
       "   GueltigAbDatMM    QuarLang  AnzGebuWir  \n",
       "0               3  Hirslanden           8  \n",
       "1               3     Weinegg           4  "
      ]
     },
     "execution_count": 54,
     "metadata": {},
     "output_type": "execute_result"
    }
   ],
   "source": [
    "# Rename attribute stznr to StatZoneSort, so the IDs have the same name\n",
    "stadtquartiere_shapes = df_adm_statistische_quartiere_map[['geometry', 'qnr', 'qname', 'knr']].rename(columns={'qnr': 'QuarCd'})\n",
    "\n",
    "# Merge with `merge` method on shared variable (stznr und StatZoneSort):\n",
    "stadtquartiere_shapes_joined = stadtquartiere_shapes.merge(akt_wbev_quart.reset_index(), on='QuarCd')\n",
    "\n",
    "stadtquartiere_shapes_joined.head(2)\n"
   ]
  },
  {
   "cell_type": "code",
   "execution_count": 55,
   "metadata": {},
   "outputs": [
    {
     "data": {
      "text/plain": [
       "<AxesSubplot:>"
      ]
     },
     "execution_count": 55,
     "metadata": {},
     "output_type": "execute_result"
    },
    {
     "data": {
      "image/png": "[encoded data removed]",
      "text/plain": [
       "<Figure size 432x288 with 1 Axes>"
      ]
     },
     "metadata": {
      "needs_background": "light"
     },
     "output_type": "display_data"
    },
    {
     "data": {
      "image/png": "[encoded data removed]",
      "text/plain": [
       "<Figure size 432x288 with 1 Axes>"
      ]
     },
     "metadata": {
      "needs_background": "light"
     },
     "output_type": "display_data"
    },
    {
     "data": {
      "image/png": "[encoded data removed]",
      "text/plain": [
       "<Figure size 432x288 with 1 Axes>"
      ]
     },
     "metadata": {
      "needs_background": "light"
     },
     "output_type": "display_data"
    }
   ],
   "source": [
    "# Plot by StatQuartiere\n",
    "# Weitere Schemes: scheme='quantiles', scheme='fisherjenks', scheme='natural_breaks',\n",
    "\n",
    "stadtquartiere_shapes_joined.plot(column='AnzGebuWir', cmap='viridis', scheme='natural_breaks', legend=True )\n",
    "#scheme werte: https://matplotlib.org/2.0.2/users/colormaps.html\n",
    "\n",
    "stadtquartiere_shapes_joined.plot(column='AnzGebuWir', cmap='plasma', scheme='fisherjenks', legend=True )\n",
    "#scheme werte: https://matplotlib.org/2.0.2/users/colormaps.html\n",
    "stadtquartiere_shapes_joined.plot(column='AnzGebuWir', cmap='cool', scheme='quantiles', legend=True )\n",
    "#scheme werte: https://matplotlib.org/2.0.2/users/colormaps.html\n",
    "\n",
    "#\n",
    "#Neuere Gallerie: https://matplotlib.org/stable/gallery/index.html"
   ]
  },
  {
   "cell_type": "raw",
   "metadata": {},
   "source": [
    "fig, ax = plt.subplots(1, 1)\n",
    "\n",
    "statzonen_shapes_aktJahr.plot(column='AnzWhg', ax=ax, legend=True, legend_kwds={'label': \"Anzahl Personen\",'orientation': \"horizontal\"})\n"
   ]
  },
  {
   "cell_type": "markdown",
   "metadata": {},
   "source": [
    "Noch zu prüfen, folgendes schöne Beispiel: https://docs.bokeh.org/en/latest/docs/user_guide/interaction/legends.html\n",
    "\n",
    "Konkrete Beispiele von Bookeh in Jupyter NB: https://docs.bokeh.org/en/latest/docs/user_guide/jupyter.html"
   ]
  },
  {
   "cell_type": "markdown",
   "metadata": {},
   "source": [
    "**Sharepoint als gecheckt markieren!**"
   ]
  },
  {
   "cell_type": "markdown",
   "metadata": {},
   "source": [
    "Record auf Sharepoint: **[Link](http://kollaboration.intranet.stzh.ch/orga/ssz-produkte/Lists/SASA_Outputs/EditForm.aspx?ID=157&Source=%2Forga%2Fssz%2Dprodukte%2FLists%2FSASA%5FOutputs)**"
   ]
  },
  {
   "cell_type": "code",
   "execution_count": null,
   "metadata": {},
   "outputs": [],
   "source": []
  },
  {
   "cell_type": "raw",
   "metadata": {},
   "source": []
  },
  {
   "cell_type": "code",
   "execution_count": null,
   "metadata": {},
   "outputs": [],
   "source": []
  }
 ],
 "metadata": {
  "kernelspec": {
   "display_name": "Python 3 (ipykernel)",
   "language": "python",
   "name": "python3"
  },
  "language_info": {
   "codemirror_mode": {
    "name": "ipython",
    "version": 3
   },
   "file_extension": ".py",
   "mimetype": "text/x-python",
   "name": "python",
   "nbconvert_exporter": "python",
   "pygments_lexer": "ipython3",
   "version": "3.7.11"
  }
 },
 "nbformat": 4,
 "nbformat_minor": 4
}
