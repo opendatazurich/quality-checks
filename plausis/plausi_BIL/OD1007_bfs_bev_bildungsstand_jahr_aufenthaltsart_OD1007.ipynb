{
 "cells": [
  {
   "cell_type": "markdown",
   "metadata": {},
   "source": [
    "**Importiere die notwendigen Packages**"
   ]
  },
  {
   "cell_type": "code",
   "execution_count": 5,
   "metadata": {},
   "outputs": [],
   "source": [
    "#%pip install geopandas fiona requests folium mplleaflet contextily"
   ]
  },
  {
   "cell_type": "code",
   "execution_count": 1,
   "metadata": {},
   "outputs": [],
   "source": [
    "import pandas as pd\n",
    "import pivottablejs\n",
    "from pivottablejs import pivot_ui\n",
    "import numpy as np\n",
    "import altair as alt\n",
    "import matplotlib.pyplot as plt\n",
    "from datetime import datetime\n",
    "import geopandas as gpd\n",
    "import folium \n",
    "import fiona\n",
    "import requests\n",
    "import mplleaflet\n",
    "import seaborn as sns\n"
   ]
  },
  {
   "cell_type": "markdown",
   "metadata": {},
   "source": [
    "Definiere Settings. Hier das Zahlenformat von Float-Werten (z.B. *'{:,.2f}'.format* mit Komma als Tausenderzeichen), "
   ]
  },
  {
   "cell_type": "code",
   "execution_count": 2,
   "metadata": {},
   "outputs": [],
   "source": [
    "pd.options.display.float_format = '{:.0f}'.format\n",
    "pd.set_option('display.width', 100)\n",
    "pd.set_option('display.max_columns', 15)"
   ]
  },
  {
   "cell_type": "markdown",
   "metadata": {},
   "source": [
    "Importiere einen Datensatz von der **DWH_INT** Dropzone.\n",
    "\n",
    "- Beachte dabei die Notation des Pfades...\n",
    "- Definiere mal aktuell noch keine weiteren Parameter beim Import"
   ]
  },
  {
   "cell_type": "markdown",
   "metadata": {},
   "source": [
    "**Dataset auf INTEG Datenkatalog**: https://data.integ.stadt-zuerich.ch/dataset/int_dwh_bfs_bev_bildungsstand_jahr_aufenthaltsart_od1007"
   ]
  },
  {
   "cell_type": "code",
   "execution_count": 6,
   "metadata": {},
   "outputs": [
    {
     "name": "stdout",
     "output_type": "stream",
     "text": [
      "done\n"
     ]
    }
   ],
   "source": [
    "# Filepath\n",
    "fp = r\"//szh.loc/ssz/applikationen/OGD_Dropzone/INT_DWH/bfs_bev_bildungsstand_jahr_aufenthaltsart_od1007/BIL100OD1007.csv\"\n",
    "\n",
    "# Read the data\n",
    "data2betested = pd.read_csv(\n",
    "    fp, \n",
    "    sep=',',\n",
    "   #usecols=[0,1,2,3,4,6],\n",
    "   #names=['stationid','year','month','avgtemp','latitude','longitude','elevation','station','countryid','country'],\n",
    "   #skiprows=1,\n",
    "   # parse_dates=[0],\n",
    "    parse_dates=True,\n",
    "    #date_parser=lambda x: pd.to_datetime(x, format=\"%Y\"), \n",
    "    #index_col=\"date_time\",\n",
    "    low_memory=False    \n",
    "    )\n",
    "print(\"done\")"
   ]
  },
  {
   "cell_type": "markdown",
   "metadata": {},
   "source": [
    "In der Folge ein paar erste Tests:"
   ]
  },
  {
   "cell_type": "code",
   "execution_count": 7,
   "metadata": {},
   "outputs": [
    {
     "data": {
      "text/plain": [
       "pandas.core.frame.DataFrame"
      ]
     },
     "execution_count": 7,
     "metadata": {},
     "output_type": "execute_result"
    }
   ],
   "source": [
    "type(data2betested)"
   ]
  },
  {
   "cell_type": "markdown",
   "metadata": {},
   "source": [
    " - 1) Zeige eine kurze Vorschau der importierten Daten\n",
    " - 2) Weise die Datentypen aus\n",
    " - 3) Zeige die Shape (Umfang) des Datensatzes an"
   ]
  },
  {
   "cell_type": "code",
   "execution_count": 8,
   "metadata": {},
   "outputs": [
    {
     "data": {
      "text/html": [
       "<div>\n",
       "<style scoped>\n",
       "    .dataframe tbody tr th:only-of-type {\n",
       "        vertical-align: middle;\n",
       "    }\n",
       "\n",
       "    .dataframe tbody tr th {\n",
       "        vertical-align: top;\n",
       "    }\n",
       "\n",
       "    .dataframe thead th {\n",
       "        text-align: right;\n",
       "    }\n",
       "</style>\n",
       "<table border=\"1\" class=\"dataframe\">\n",
       "  <thead>\n",
       "    <tr style=\"text-align: right;\">\n",
       "      <th></th>\n",
       "      <th>Jahr</th>\n",
       "      <th>AufartLang</th>\n",
       "      <th>Bildungsstand</th>\n",
       "      <th>AntBev</th>\n",
       "      <th>untAntBevKI</th>\n",
       "      <th>obAntBevKI</th>\n",
       "    </tr>\n",
       "  </thead>\n",
       "  <tbody>\n",
       "    <tr>\n",
       "      <th>0</th>\n",
       "      <td>2010</td>\n",
       "      <td>Total</td>\n",
       "      <td>Obligatorische Schule</td>\n",
       "      <td>21</td>\n",
       "      <td>21</td>\n",
       "      <td>22</td>\n",
       "    </tr>\n",
       "    <tr>\n",
       "      <th>1</th>\n",
       "      <td>2010</td>\n",
       "      <td>Total</td>\n",
       "      <td>Sekundarstufe II</td>\n",
       "      <td>40</td>\n",
       "      <td>39</td>\n",
       "      <td>40</td>\n",
       "    </tr>\n",
       "    <tr>\n",
       "      <th>2</th>\n",
       "      <td>2010</td>\n",
       "      <td>Total</td>\n",
       "      <td>Tertiärstufe</td>\n",
       "      <td>39</td>\n",
       "      <td>39</td>\n",
       "      <td>40</td>\n",
       "    </tr>\n",
       "    <tr>\n",
       "      <th>3</th>\n",
       "      <td>2010</td>\n",
       "      <td>Schweizer/-innen</td>\n",
       "      <td>Obligatorische Schule</td>\n",
       "      <td>18</td>\n",
       "      <td>17</td>\n",
       "      <td>18</td>\n",
       "    </tr>\n",
       "    <tr>\n",
       "      <th>4</th>\n",
       "      <td>2010</td>\n",
       "      <td>Schweizer/-innen</td>\n",
       "      <td>Sekundarstufe II</td>\n",
       "      <td>46</td>\n",
       "      <td>45</td>\n",
       "      <td>46</td>\n",
       "    </tr>\n",
       "    <tr>\n",
       "      <th>...</th>\n",
       "      <td>...</td>\n",
       "      <td>...</td>\n",
       "      <td>...</td>\n",
       "      <td>...</td>\n",
       "      <td>...</td>\n",
       "      <td>...</td>\n",
       "    </tr>\n",
       "    <tr>\n",
       "      <th>145</th>\n",
       "      <td>2019</td>\n",
       "      <td>Jahresaufenthalter/-innen (B)</td>\n",
       "      <td>Sekundarstufe II</td>\n",
       "      <td>16</td>\n",
       "      <td>14</td>\n",
       "      <td>18</td>\n",
       "    </tr>\n",
       "    <tr>\n",
       "      <th>146</th>\n",
       "      <td>2019</td>\n",
       "      <td>Jahresaufenthalter/-innen (B)</td>\n",
       "      <td>Tertiärstufe</td>\n",
       "      <td>72</td>\n",
       "      <td>70</td>\n",
       "      <td>75</td>\n",
       "    </tr>\n",
       "    <tr>\n",
       "      <th>147</th>\n",
       "      <td>2019</td>\n",
       "      <td>Andere</td>\n",
       "      <td>Obligatorische Schule</td>\n",
       "      <td>46</td>\n",
       "      <td>31</td>\n",
       "      <td>62</td>\n",
       "    </tr>\n",
       "    <tr>\n",
       "      <th>148</th>\n",
       "      <td>2019</td>\n",
       "      <td>Andere</td>\n",
       "      <td>Sekundarstufe II</td>\n",
       "      <td>16</td>\n",
       "      <td>4</td>\n",
       "      <td>28</td>\n",
       "    </tr>\n",
       "    <tr>\n",
       "      <th>149</th>\n",
       "      <td>2019</td>\n",
       "      <td>Andere</td>\n",
       "      <td>Tertiärstufe</td>\n",
       "      <td>38</td>\n",
       "      <td>23</td>\n",
       "      <td>53</td>\n",
       "    </tr>\n",
       "  </tbody>\n",
       "</table>\n",
       "<p>150 rows × 6 columns</p>\n",
       "</div>"
      ],
      "text/plain": [
       "     Jahr                     AufartLang          Bildungsstand  AntBev  untAntBevKI  obAntBevKI\n",
       "0    2010                          Total  Obligatorische Schule      21           21          22\n",
       "1    2010                          Total       Sekundarstufe II      40           39          40\n",
       "2    2010                          Total           Tertiärstufe      39           39          40\n",
       "3    2010               Schweizer/-innen  Obligatorische Schule      18           17          18\n",
       "4    2010               Schweizer/-innen       Sekundarstufe II      46           45          46\n",
       "..    ...                            ...                    ...     ...          ...         ...\n",
       "145  2019  Jahresaufenthalter/-innen (B)       Sekundarstufe II      16           14          18\n",
       "146  2019  Jahresaufenthalter/-innen (B)           Tertiärstufe      72           70          75\n",
       "147  2019                         Andere  Obligatorische Schule      46           31          62\n",
       "148  2019                         Andere       Sekundarstufe II      16            4          28\n",
       "149  2019                         Andere           Tertiärstufe      38           23          53\n",
       "\n",
       "[150 rows x 6 columns]"
      ]
     },
     "execution_count": 8,
     "metadata": {},
     "output_type": "execute_result"
    }
   ],
   "source": [
    "data2betested"
   ]
  },
  {
   "cell_type": "code",
   "execution_count": 9,
   "metadata": {},
   "outputs": [
    {
     "data": {
      "text/plain": [
       "Jahr               int64\n",
       "AufartLang        object\n",
       "Bildungsstand     object\n",
       "AntBev           float64\n",
       "untAntBevKI      float64\n",
       "obAntBevKI       float64\n",
       "dtype: object"
      ]
     },
     "execution_count": 9,
     "metadata": {},
     "output_type": "execute_result"
    }
   ],
   "source": [
    "data2betested.dtypes"
   ]
  },
  {
   "cell_type": "code",
   "execution_count": 10,
   "metadata": {},
   "outputs": [
    {
     "data": {
      "text/plain": [
       "(150, 6)"
      ]
     },
     "execution_count": 10,
     "metadata": {},
     "output_type": "execute_result"
    }
   ],
   "source": [
    "data2betested.shape"
   ]
  },
  {
   "cell_type": "markdown",
   "metadata": {},
   "source": [
    "Beschreibe einzelne Attribute"
   ]
  },
  {
   "cell_type": "code",
   "execution_count": 11,
   "metadata": {},
   "outputs": [
    {
     "data": {
      "text/html": [
       "<div>\n",
       "<style scoped>\n",
       "    .dataframe tbody tr th:only-of-type {\n",
       "        vertical-align: middle;\n",
       "    }\n",
       "\n",
       "    .dataframe tbody tr th {\n",
       "        vertical-align: top;\n",
       "    }\n",
       "\n",
       "    .dataframe thead th {\n",
       "        text-align: right;\n",
       "    }\n",
       "</style>\n",
       "<table border=\"1\" class=\"dataframe\">\n",
       "  <thead>\n",
       "    <tr style=\"text-align: right;\">\n",
       "      <th></th>\n",
       "      <th>Jahr</th>\n",
       "      <th>AntBev</th>\n",
       "      <th>untAntBevKI</th>\n",
       "      <th>obAntBevKI</th>\n",
       "    </tr>\n",
       "  </thead>\n",
       "  <tbody>\n",
       "    <tr>\n",
       "      <th>count</th>\n",
       "      <td>150</td>\n",
       "      <td>150</td>\n",
       "      <td>150</td>\n",
       "      <td>150</td>\n",
       "    </tr>\n",
       "    <tr>\n",
       "      <th>mean</th>\n",
       "      <td>2014</td>\n",
       "      <td>33</td>\n",
       "      <td>30</td>\n",
       "      <td>37</td>\n",
       "    </tr>\n",
       "    <tr>\n",
       "      <th>std</th>\n",
       "      <td>3</td>\n",
       "      <td>16</td>\n",
       "      <td>16</td>\n",
       "      <td>17</td>\n",
       "    </tr>\n",
       "    <tr>\n",
       "      <th>min</th>\n",
       "      <td>2010</td>\n",
       "      <td>7</td>\n",
       "      <td>0</td>\n",
       "      <td>13</td>\n",
       "    </tr>\n",
       "    <tr>\n",
       "      <th>25%</th>\n",
       "      <td>2012</td>\n",
       "      <td>18</td>\n",
       "      <td>16</td>\n",
       "      <td>20</td>\n",
       "    </tr>\n",
       "    <tr>\n",
       "      <th>50%</th>\n",
       "      <td>2014</td>\n",
       "      <td>33</td>\n",
       "      <td>29</td>\n",
       "      <td>36</td>\n",
       "    </tr>\n",
       "    <tr>\n",
       "      <th>75%</th>\n",
       "      <td>2017</td>\n",
       "      <td>43</td>\n",
       "      <td>41</td>\n",
       "      <td>46</td>\n",
       "    </tr>\n",
       "    <tr>\n",
       "      <th>max</th>\n",
       "      <td>2019</td>\n",
       "      <td>74</td>\n",
       "      <td>70</td>\n",
       "      <td>83</td>\n",
       "    </tr>\n",
       "  </tbody>\n",
       "</table>\n",
       "</div>"
      ],
      "text/plain": [
       "       Jahr  AntBev  untAntBevKI  obAntBevKI\n",
       "count   150     150          150         150\n",
       "mean   2014      33           30          37\n",
       "std       3      16           16          17\n",
       "min    2010       7            0          13\n",
       "25%    2012      18           16          20\n",
       "50%    2014      33           29          36\n",
       "75%    2017      43           41          46\n",
       "max    2019      74           70          83"
      ]
     },
     "execution_count": 11,
     "metadata": {},
     "output_type": "execute_result"
    }
   ],
   "source": [
    "data2betested.describe()"
   ]
  },
  {
   "cell_type": "markdown",
   "metadata": {},
   "source": [
    "Wie viele Nullwerte gibt es im Datensatz?"
   ]
  },
  {
   "cell_type": "code",
   "execution_count": 12,
   "metadata": {
    "scrolled": true
   },
   "outputs": [
    {
     "data": {
      "text/plain": [
       "Jahr             0\n",
       "AufartLang       0\n",
       "Bildungsstand    0\n",
       "AntBev           0\n",
       "untAntBevKI      0\n",
       "obAntBevKI       0\n",
       "dtype: int64"
      ]
     },
     "execution_count": 12,
     "metadata": {},
     "output_type": "execute_result"
    }
   ],
   "source": [
    "data2betested.isnull().sum()"
   ]
  },
  {
   "cell_type": "markdown",
   "metadata": {},
   "source": [
    "Wandle die Spalte Jahr von Int zu **Datetime** um. Dies wird in den meisten Grafiken so benötigt."
   ]
  },
  {
   "cell_type": "code",
   "execution_count": 14,
   "metadata": {
    "scrolled": true
   },
   "outputs": [
    {
     "data": {
      "text/html": [
       "<div>\n",
       "<style scoped>\n",
       "    .dataframe tbody tr th:only-of-type {\n",
       "        vertical-align: middle;\n",
       "    }\n",
       "\n",
       "    .dataframe tbody tr th {\n",
       "        vertical-align: top;\n",
       "    }\n",
       "\n",
       "    .dataframe thead th {\n",
       "        text-align: right;\n",
       "    }\n",
       "</style>\n",
       "<table border=\"1\" class=\"dataframe\">\n",
       "  <thead>\n",
       "    <tr style=\"text-align: right;\">\n",
       "      <th></th>\n",
       "      <th>Jahr</th>\n",
       "      <th>AufartLang</th>\n",
       "      <th>Bildungsstand</th>\n",
       "      <th>AntBev</th>\n",
       "      <th>untAntBevKI</th>\n",
       "      <th>obAntBevKI</th>\n",
       "    </tr>\n",
       "  </thead>\n",
       "  <tbody>\n",
       "    <tr>\n",
       "      <th>0</th>\n",
       "      <td>2010-01-01</td>\n",
       "      <td>Total</td>\n",
       "      <td>Obligatorische Schule</td>\n",
       "      <td>21</td>\n",
       "      <td>21</td>\n",
       "      <td>22</td>\n",
       "    </tr>\n",
       "    <tr>\n",
       "      <th>1</th>\n",
       "      <td>2010-01-01</td>\n",
       "      <td>Total</td>\n",
       "      <td>Sekundarstufe II</td>\n",
       "      <td>40</td>\n",
       "      <td>39</td>\n",
       "      <td>40</td>\n",
       "    </tr>\n",
       "    <tr>\n",
       "      <th>2</th>\n",
       "      <td>2010-01-01</td>\n",
       "      <td>Total</td>\n",
       "      <td>Tertiärstufe</td>\n",
       "      <td>39</td>\n",
       "      <td>39</td>\n",
       "      <td>40</td>\n",
       "    </tr>\n",
       "    <tr>\n",
       "      <th>3</th>\n",
       "      <td>2010-01-01</td>\n",
       "      <td>Schweizer/-innen</td>\n",
       "      <td>Obligatorische Schule</td>\n",
       "      <td>18</td>\n",
       "      <td>17</td>\n",
       "      <td>18</td>\n",
       "    </tr>\n",
       "    <tr>\n",
       "      <th>4</th>\n",
       "      <td>2010-01-01</td>\n",
       "      <td>Schweizer/-innen</td>\n",
       "      <td>Sekundarstufe II</td>\n",
       "      <td>46</td>\n",
       "      <td>45</td>\n",
       "      <td>46</td>\n",
       "    </tr>\n",
       "    <tr>\n",
       "      <th>...</th>\n",
       "      <td>...</td>\n",
       "      <td>...</td>\n",
       "      <td>...</td>\n",
       "      <td>...</td>\n",
       "      <td>...</td>\n",
       "      <td>...</td>\n",
       "    </tr>\n",
       "    <tr>\n",
       "      <th>145</th>\n",
       "      <td>2019-01-01</td>\n",
       "      <td>Jahresaufenthalter/-innen (B)</td>\n",
       "      <td>Sekundarstufe II</td>\n",
       "      <td>16</td>\n",
       "      <td>14</td>\n",
       "      <td>18</td>\n",
       "    </tr>\n",
       "    <tr>\n",
       "      <th>146</th>\n",
       "      <td>2019-01-01</td>\n",
       "      <td>Jahresaufenthalter/-innen (B)</td>\n",
       "      <td>Tertiärstufe</td>\n",
       "      <td>72</td>\n",
       "      <td>70</td>\n",
       "      <td>75</td>\n",
       "    </tr>\n",
       "    <tr>\n",
       "      <th>147</th>\n",
       "      <td>2019-01-01</td>\n",
       "      <td>Andere</td>\n",
       "      <td>Obligatorische Schule</td>\n",
       "      <td>46</td>\n",
       "      <td>31</td>\n",
       "      <td>62</td>\n",
       "    </tr>\n",
       "    <tr>\n",
       "      <th>148</th>\n",
       "      <td>2019-01-01</td>\n",
       "      <td>Andere</td>\n",
       "      <td>Sekundarstufe II</td>\n",
       "      <td>16</td>\n",
       "      <td>4</td>\n",
       "      <td>28</td>\n",
       "    </tr>\n",
       "    <tr>\n",
       "      <th>149</th>\n",
       "      <td>2019-01-01</td>\n",
       "      <td>Andere</td>\n",
       "      <td>Tertiärstufe</td>\n",
       "      <td>38</td>\n",
       "      <td>23</td>\n",
       "      <td>53</td>\n",
       "    </tr>\n",
       "  </tbody>\n",
       "</table>\n",
       "<p>150 rows × 6 columns</p>\n",
       "</div>"
      ],
      "text/plain": [
       "          Jahr                     AufartLang          Bildungsstand  AntBev  untAntBevKI  \\\n",
       "0   2010-01-01                          Total  Obligatorische Schule      21           21   \n",
       "1   2010-01-01                          Total       Sekundarstufe II      40           39   \n",
       "2   2010-01-01                          Total           Tertiärstufe      39           39   \n",
       "3   2010-01-01               Schweizer/-innen  Obligatorische Schule      18           17   \n",
       "4   2010-01-01               Schweizer/-innen       Sekundarstufe II      46           45   \n",
       "..         ...                            ...                    ...     ...          ...   \n",
       "145 2019-01-01  Jahresaufenthalter/-innen (B)       Sekundarstufe II      16           14   \n",
       "146 2019-01-01  Jahresaufenthalter/-innen (B)           Tertiärstufe      72           70   \n",
       "147 2019-01-01                         Andere  Obligatorische Schule      46           31   \n",
       "148 2019-01-01                         Andere       Sekundarstufe II      16            4   \n",
       "149 2019-01-01                         Andere           Tertiärstufe      38           23   \n",
       "\n",
       "     obAntBevKI  \n",
       "0            22  \n",
       "1            40  \n",
       "2            40  \n",
       "3            18  \n",
       "4            46  \n",
       "..          ...  \n",
       "145          18  \n",
       "146          75  \n",
       "147          62  \n",
       "148          28  \n",
       "149          53  \n",
       "\n",
       "[150 rows x 6 columns]"
      ]
     },
     "execution_count": 14,
     "metadata": {},
     "output_type": "execute_result"
    }
   ],
   "source": [
    "data2betested['Jahr']=pd.to_datetime(data2betested['Jahr'], format='%Y')\n",
    "\n",
    "#TO DO --> setze das Datum auf den 31.12. der Jahres.\n",
    "#test=data2betested[['StichtagDatJahr']].date().replace(month=12, day=31)\n",
    "\n",
    "data2betested"
   ]
  },
  {
   "cell_type": "markdown",
   "metadata": {},
   "source": [
    "Bereite die Daten für die Grafik unten vor"
   ]
  },
  {
   "cell_type": "code",
   "execution_count": 15,
   "metadata": {},
   "outputs": [
    {
     "data": {
      "text/plain": [
       "10"
      ]
     },
     "execution_count": 15,
     "metadata": {},
     "output_type": "execute_result"
    }
   ],
   "source": [
    "Jahre = data2betested.groupby(\"Jahr\")\n",
    "len(Jahre)"
   ]
  },
  {
   "cell_type": "code",
   "execution_count": 16,
   "metadata": {},
   "outputs": [
    {
     "name": "stdout",
     "output_type": "stream",
     "text": [
      "2010-01-01 00:00:00 15\n",
      "2011-01-01 00:00:00 15\n",
      "2012-01-01 00:00:00 15\n",
      "2013-01-01 00:00:00 15\n",
      "2014-01-01 00:00:00 15\n",
      "2015-01-01 00:00:00 15\n",
      "2016-01-01 00:00:00 15\n",
      "2017-01-01 00:00:00 15\n",
      "2018-01-01 00:00:00 15\n",
      "2019-01-01 00:00:00 15\n"
     ]
    }
   ],
   "source": [
    "for key, group in Jahre:\n",
    "    print(key, len(group))"
   ]
  },
  {
   "cell_type": "code",
   "execution_count": 29,
   "metadata": {},
   "outputs": [
    {
     "data": {
      "text/html": [
       "<div>\n",
       "<style scoped>\n",
       "    .dataframe tbody tr th:only-of-type {\n",
       "        vertical-align: middle;\n",
       "    }\n",
       "\n",
       "    .dataframe tbody tr th {\n",
       "        vertical-align: top;\n",
       "    }\n",
       "\n",
       "    .dataframe thead th {\n",
       "        text-align: right;\n",
       "    }\n",
       "</style>\n",
       "<table border=\"1\" class=\"dataframe\">\n",
       "  <thead>\n",
       "    <tr style=\"text-align: right;\">\n",
       "      <th></th>\n",
       "      <th>Jahr</th>\n",
       "      <th>AufartLang</th>\n",
       "      <th>Bildungsstand</th>\n",
       "      <th>AntBev</th>\n",
       "      <th>untAntBevKI</th>\n",
       "      <th>obAntBevKI</th>\n",
       "    </tr>\n",
       "  </thead>\n",
       "  <tbody>\n",
       "    <tr>\n",
       "      <th>135</th>\n",
       "      <td>2019-01-01</td>\n",
       "      <td>Total</td>\n",
       "      <td>Obligatorische Schule</td>\n",
       "      <td>15</td>\n",
       "      <td>14</td>\n",
       "      <td>16</td>\n",
       "    </tr>\n",
       "    <tr>\n",
       "      <th>136</th>\n",
       "      <td>2019-01-01</td>\n",
       "      <td>Total</td>\n",
       "      <td>Sekundarstufe II</td>\n",
       "      <td>32</td>\n",
       "      <td>31</td>\n",
       "      <td>33</td>\n",
       "    </tr>\n",
       "    <tr>\n",
       "      <th>137</th>\n",
       "      <td>2019-01-01</td>\n",
       "      <td>Total</td>\n",
       "      <td>Tertiärstufe</td>\n",
       "      <td>53</td>\n",
       "      <td>52</td>\n",
       "      <td>54</td>\n",
       "    </tr>\n",
       "    <tr>\n",
       "      <th>138</th>\n",
       "      <td>2019-01-01</td>\n",
       "      <td>Schweizer/-innen</td>\n",
       "      <td>Obligatorische Schule</td>\n",
       "      <td>14</td>\n",
       "      <td>13</td>\n",
       "      <td>14</td>\n",
       "    </tr>\n",
       "    <tr>\n",
       "      <th>139</th>\n",
       "      <td>2019-01-01</td>\n",
       "      <td>Schweizer/-innen</td>\n",
       "      <td>Sekundarstufe II</td>\n",
       "      <td>38</td>\n",
       "      <td>36</td>\n",
       "      <td>39</td>\n",
       "    </tr>\n",
       "    <tr>\n",
       "      <th>140</th>\n",
       "      <td>2019-01-01</td>\n",
       "      <td>Schweizer/-innen</td>\n",
       "      <td>Tertiärstufe</td>\n",
       "      <td>49</td>\n",
       "      <td>48</td>\n",
       "      <td>50</td>\n",
       "    </tr>\n",
       "    <tr>\n",
       "      <th>141</th>\n",
       "      <td>2019-01-01</td>\n",
       "      <td>Niedergelassene (C)</td>\n",
       "      <td>Obligatorische Schule</td>\n",
       "      <td>24</td>\n",
       "      <td>22</td>\n",
       "      <td>26</td>\n",
       "    </tr>\n",
       "    <tr>\n",
       "      <th>142</th>\n",
       "      <td>2019-01-01</td>\n",
       "      <td>Niedergelassene (C)</td>\n",
       "      <td>Sekundarstufe II</td>\n",
       "      <td>24</td>\n",
       "      <td>22</td>\n",
       "      <td>27</td>\n",
       "    </tr>\n",
       "    <tr>\n",
       "      <th>143</th>\n",
       "      <td>2019-01-01</td>\n",
       "      <td>Niedergelassene (C)</td>\n",
       "      <td>Tertiärstufe</td>\n",
       "      <td>52</td>\n",
       "      <td>49</td>\n",
       "      <td>54</td>\n",
       "    </tr>\n",
       "    <tr>\n",
       "      <th>144</th>\n",
       "      <td>2019-01-01</td>\n",
       "      <td>Jahresaufenthalter/-innen (B)</td>\n",
       "      <td>Obligatorische Schule</td>\n",
       "      <td>11</td>\n",
       "      <td>10</td>\n",
       "      <td>13</td>\n",
       "    </tr>\n",
       "    <tr>\n",
       "      <th>145</th>\n",
       "      <td>2019-01-01</td>\n",
       "      <td>Jahresaufenthalter/-innen (B)</td>\n",
       "      <td>Sekundarstufe II</td>\n",
       "      <td>16</td>\n",
       "      <td>14</td>\n",
       "      <td>18</td>\n",
       "    </tr>\n",
       "    <tr>\n",
       "      <th>146</th>\n",
       "      <td>2019-01-01</td>\n",
       "      <td>Jahresaufenthalter/-innen (B)</td>\n",
       "      <td>Tertiärstufe</td>\n",
       "      <td>72</td>\n",
       "      <td>70</td>\n",
       "      <td>75</td>\n",
       "    </tr>\n",
       "    <tr>\n",
       "      <th>147</th>\n",
       "      <td>2019-01-01</td>\n",
       "      <td>Andere</td>\n",
       "      <td>Obligatorische Schule</td>\n",
       "      <td>46</td>\n",
       "      <td>31</td>\n",
       "      <td>62</td>\n",
       "    </tr>\n",
       "    <tr>\n",
       "      <th>148</th>\n",
       "      <td>2019-01-01</td>\n",
       "      <td>Andere</td>\n",
       "      <td>Sekundarstufe II</td>\n",
       "      <td>16</td>\n",
       "      <td>4</td>\n",
       "      <td>28</td>\n",
       "    </tr>\n",
       "    <tr>\n",
       "      <th>149</th>\n",
       "      <td>2019-01-01</td>\n",
       "      <td>Andere</td>\n",
       "      <td>Tertiärstufe</td>\n",
       "      <td>38</td>\n",
       "      <td>23</td>\n",
       "      <td>53</td>\n",
       "    </tr>\n",
       "  </tbody>\n",
       "</table>\n",
       "</div>"
      ],
      "text/plain": [
       "          Jahr                     AufartLang          Bildungsstand  AntBev  untAntBevKI  \\\n",
       "135 2019-01-01                          Total  Obligatorische Schule      15           14   \n",
       "136 2019-01-01                          Total       Sekundarstufe II      32           31   \n",
       "137 2019-01-01                          Total           Tertiärstufe      53           52   \n",
       "138 2019-01-01               Schweizer/-innen  Obligatorische Schule      14           13   \n",
       "139 2019-01-01               Schweizer/-innen       Sekundarstufe II      38           36   \n",
       "140 2019-01-01               Schweizer/-innen           Tertiärstufe      49           48   \n",
       "141 2019-01-01            Niedergelassene (C)  Obligatorische Schule      24           22   \n",
       "142 2019-01-01            Niedergelassene (C)       Sekundarstufe II      24           22   \n",
       "143 2019-01-01            Niedergelassene (C)           Tertiärstufe      52           49   \n",
       "144 2019-01-01  Jahresaufenthalter/-innen (B)  Obligatorische Schule      11           10   \n",
       "145 2019-01-01  Jahresaufenthalter/-innen (B)       Sekundarstufe II      16           14   \n",
       "146 2019-01-01  Jahresaufenthalter/-innen (B)           Tertiärstufe      72           70   \n",
       "147 2019-01-01                         Andere  Obligatorische Schule      46           31   \n",
       "148 2019-01-01                         Andere       Sekundarstufe II      16            4   \n",
       "149 2019-01-01                         Andere           Tertiärstufe      38           23   \n",
       "\n",
       "     obAntBevKI  \n",
       "135          16  \n",
       "136          33  \n",
       "137          54  \n",
       "138          14  \n",
       "139          39  \n",
       "140          50  \n",
       "141          26  \n",
       "142          27  \n",
       "143          54  \n",
       "144          13  \n",
       "145          18  \n",
       "146          75  \n",
       "147          62  \n",
       "148          28  \n",
       "149          53  "
      ]
     },
     "execution_count": 29,
     "metadata": {},
     "output_type": "execute_result"
    }
   ],
   "source": [
    "myJahr = \"2019-01-01\"\n",
    "aktuellesJahr=Jahre.get_group(myJahr)   \n",
    "aktuellesJahr"
   ]
  },
  {
   "cell_type": "markdown",
   "metadata": {},
   "source": [
    "**Selektionen und Aggregationen**\n",
    "\n",
    "Check this [Doku](https://www.shanelynn.ie/summarising-aggregation-and-grouping-data-in-python-pandas/)"
   ]
  },
  {
   "cell_type": "code",
   "execution_count": 30,
   "metadata": {},
   "outputs": [],
   "source": [
    "#test = data2betested.groupby(['Quartal'])[['stzh_frau']].agg('median')\n",
    "#test\n",
    "# produces Pandas Series\n",
    "    #data2betested.groupby(['StichtagDatJahr', 'KonOGDSort'])['AnzBestWir'].sum()\n",
    "# Produces Pandas DataFrame\n",
    "    #data2betested.groupby(['StichtagDatJahr', 'KonOGDSort'])[['AnzBestWir']].sum()\n",
    "    "
   ]
  },
  {
   "cell_type": "markdown",
   "metadata": {},
   "source": [
    "**Einfache Visualisierungen zur Plausi**"
   ]
  },
  {
   "cell_type": "markdown",
   "metadata": {},
   "source": [
    "Exploriere die Daten mit Pivottable.JS"
   ]
  },
  {
   "cell_type": "code",
   "execution_count": 19,
   "metadata": {},
   "outputs": [
    {
     "data": {
      "text/html": [
       "\n",
       "        <iframe\n",
       "            width=\"100%\"\n",
       "            height=\"500\"\n",
       "            src=\"pivottablejs.html\"\n",
       "            frameborder=\"0\"\n",
       "            allowfullscreen\n",
       "        ></iframe>\n",
       "        "
      ],
      "text/plain": [
       "<IPython.lib.display.IFrame at 0x1ec7d0b21f0>"
      ]
     },
     "execution_count": 19,
     "metadata": {},
     "output_type": "execute_result"
    }
   ],
   "source": [
    "from pivottablejs import pivot_ui\n",
    "\n",
    "pivot_ui(data2betested)"
   ]
  },
  {
   "cell_type": "markdown",
   "metadata": {},
   "source": [
    "Liniendiagramm \n",
    "[Link zur Doku](https://altair-viz.github.io/gallery/multiline_highlight.html)"
   ]
  },
  {
   "cell_type": "code",
   "execution_count": 40,
   "metadata": {},
   "outputs": [
    {
     "data": {
      "text/html": [
       "<div>\n",
       "<style scoped>\n",
       "    .dataframe tbody tr th:only-of-type {\n",
       "        vertical-align: middle;\n",
       "    }\n",
       "\n",
       "    .dataframe tbody tr th {\n",
       "        vertical-align: top;\n",
       "    }\n",
       "\n",
       "    .dataframe thead th {\n",
       "        text-align: right;\n",
       "    }\n",
       "</style>\n",
       "<table border=\"1\" class=\"dataframe\">\n",
       "  <thead>\n",
       "    <tr style=\"text-align: right;\">\n",
       "      <th></th>\n",
       "      <th>Jahr</th>\n",
       "      <th>AufartLang</th>\n",
       "      <th>Bildungsstand</th>\n",
       "      <th>AntBev</th>\n",
       "      <th>untAntBevKI</th>\n",
       "      <th>obAntBevKI</th>\n",
       "    </tr>\n",
       "  </thead>\n",
       "  <tbody>\n",
       "    <tr>\n",
       "      <th>138</th>\n",
       "      <td>2019-01-01</td>\n",
       "      <td>Schweizer/-innen</td>\n",
       "      <td>Obligatorische Schule</td>\n",
       "      <td>14</td>\n",
       "      <td>13</td>\n",
       "      <td>14</td>\n",
       "    </tr>\n",
       "    <tr>\n",
       "      <th>139</th>\n",
       "      <td>2019-01-01</td>\n",
       "      <td>Schweizer/-innen</td>\n",
       "      <td>Sekundarstufe II</td>\n",
       "      <td>38</td>\n",
       "      <td>36</td>\n",
       "      <td>39</td>\n",
       "    </tr>\n",
       "    <tr>\n",
       "      <th>140</th>\n",
       "      <td>2019-01-01</td>\n",
       "      <td>Schweizer/-innen</td>\n",
       "      <td>Tertiärstufe</td>\n",
       "      <td>49</td>\n",
       "      <td>48</td>\n",
       "      <td>50</td>\n",
       "    </tr>\n",
       "    <tr>\n",
       "      <th>141</th>\n",
       "      <td>2019-01-01</td>\n",
       "      <td>Niedergelassene (C)</td>\n",
       "      <td>Obligatorische Schule</td>\n",
       "      <td>24</td>\n",
       "      <td>22</td>\n",
       "      <td>26</td>\n",
       "    </tr>\n",
       "    <tr>\n",
       "      <th>142</th>\n",
       "      <td>2019-01-01</td>\n",
       "      <td>Niedergelassene (C)</td>\n",
       "      <td>Sekundarstufe II</td>\n",
       "      <td>24</td>\n",
       "      <td>22</td>\n",
       "      <td>27</td>\n",
       "    </tr>\n",
       "  </tbody>\n",
       "</table>\n",
       "</div>"
      ],
      "text/plain": [
       "          Jahr           AufartLang          Bildungsstand  AntBev  untAntBevKI  obAntBevKI\n",
       "138 2019-01-01     Schweizer/-innen  Obligatorische Schule      14           13          14\n",
       "139 2019-01-01     Schweizer/-innen       Sekundarstufe II      38           36          39\n",
       "140 2019-01-01     Schweizer/-innen           Tertiärstufe      49           48          50\n",
       "141 2019-01-01  Niedergelassene (C)  Obligatorische Schule      24           22          26\n",
       "142 2019-01-01  Niedergelassene (C)       Sekundarstufe II      24           22          27"
      ]
     },
     "execution_count": 40,
     "metadata": {},
     "output_type": "execute_result"
    }
   ],
   "source": [
    "mySelection = data2betested[(data2betested.AufartLang != \"Total\") & (data2betested.Jahr > \"2018\")] #data2betested.SteuerTarifLang==\"Grundtarif\") & \n",
    "#mySelection = data2betested[['SteuerJahr', 'QuarLang', 'SteuerEInkommen_p50']]\n",
    "#selVZA = data2betested[['Jahr', 'Quartal', 'stzh_VZA_Frauen', 'stzh_VZA_Maenner', 'stzh_VZA_s2', 'stzh_VZA_s3']]\n",
    "\n",
    "mySelection.head()\n"
   ]
  },
  {
   "cell_type": "code",
   "execution_count": 41,
   "metadata": {},
   "outputs": [
    {
     "data": {
      "text/html": [
       "<div>\n",
       "<style scoped>\n",
       "    .dataframe tbody tr th:only-of-type {\n",
       "        vertical-align: middle;\n",
       "    }\n",
       "\n",
       "    .dataframe tbody tr th {\n",
       "        vertical-align: top;\n",
       "    }\n",
       "\n",
       "    .dataframe thead th {\n",
       "        text-align: right;\n",
       "    }\n",
       "</style>\n",
       "<table border=\"1\" class=\"dataframe\">\n",
       "  <thead>\n",
       "    <tr style=\"text-align: right;\">\n",
       "      <th></th>\n",
       "      <th>Jahr</th>\n",
       "      <th>AufartLang</th>\n",
       "      <th>Bildungsstand</th>\n",
       "      <th>AntBev</th>\n",
       "      <th>untAntBevKI</th>\n",
       "      <th>obAntBevKI</th>\n",
       "    </tr>\n",
       "  </thead>\n",
       "  <tbody>\n",
       "    <tr>\n",
       "      <th>138</th>\n",
       "      <td>2019-01-01</td>\n",
       "      <td>Schweizer/-innen</td>\n",
       "      <td>Obligatorische Schule</td>\n",
       "      <td>14</td>\n",
       "      <td>13</td>\n",
       "      <td>14</td>\n",
       "    </tr>\n",
       "    <tr>\n",
       "      <th>139</th>\n",
       "      <td>2019-01-01</td>\n",
       "      <td>Schweizer/-innen</td>\n",
       "      <td>Sekundarstufe II</td>\n",
       "      <td>38</td>\n",
       "      <td>36</td>\n",
       "      <td>39</td>\n",
       "    </tr>\n",
       "    <tr>\n",
       "      <th>140</th>\n",
       "      <td>2019-01-01</td>\n",
       "      <td>Schweizer/-innen</td>\n",
       "      <td>Tertiärstufe</td>\n",
       "      <td>49</td>\n",
       "      <td>48</td>\n",
       "      <td>50</td>\n",
       "    </tr>\n",
       "    <tr>\n",
       "      <th>141</th>\n",
       "      <td>2019-01-01</td>\n",
       "      <td>Niedergelassene (C)</td>\n",
       "      <td>Obligatorische Schule</td>\n",
       "      <td>24</td>\n",
       "      <td>22</td>\n",
       "      <td>26</td>\n",
       "    </tr>\n",
       "    <tr>\n",
       "      <th>142</th>\n",
       "      <td>2019-01-01</td>\n",
       "      <td>Niedergelassene (C)</td>\n",
       "      <td>Sekundarstufe II</td>\n",
       "      <td>24</td>\n",
       "      <td>22</td>\n",
       "      <td>27</td>\n",
       "    </tr>\n",
       "  </tbody>\n",
       "</table>\n",
       "</div>"
      ],
      "text/plain": [
       "          Jahr           AufartLang          Bildungsstand  AntBev  untAntBevKI  obAntBevKI\n",
       "138 2019-01-01     Schweizer/-innen  Obligatorische Schule      14           13          14\n",
       "139 2019-01-01     Schweizer/-innen       Sekundarstufe II      38           36          39\n",
       "140 2019-01-01     Schweizer/-innen           Tertiärstufe      49           48          50\n",
       "141 2019-01-01  Niedergelassene (C)  Obligatorische Schule      24           22          26\n",
       "142 2019-01-01  Niedergelassene (C)       Sekundarstufe II      24           22          27"
      ]
     },
     "execution_count": 41,
     "metadata": {},
     "output_type": "execute_result"
    }
   ],
   "source": [
    "myGraph = mySelection\n",
    "myGraph.head()\n"
   ]
  },
  {
   "cell_type": "code",
   "execution_count": 42,
   "metadata": {},
   "outputs": [
    {
     "data": {
      "text/html": [
       "\n",
       "<div id=\"altair-viz-94682036af1f49d2905b405ae89a9000\"></div>\n",
       "<script type=\"text/javascript\">\n",
       "  (function(spec, embedOpt){\n",
       "    let outputDiv = document.currentScript.previousElementSibling;\n",
       "    if (outputDiv.id !== \"altair-viz-94682036af1f49d2905b405ae89a9000\") {\n",
       "      outputDiv = document.getElementById(\"altair-viz-94682036af1f49d2905b405ae89a9000\");\n",
       "    }\n",
       "    const paths = {\n",
       "      \"vega\": \"https://cdn.jsdelivr.net/npm//vega@5?noext\",\n",
       "      \"vega-lib\": \"https://cdn.jsdelivr.net/npm//vega-lib?noext\",\n",
       "      \"vega-lite\": \"https://cdn.jsdelivr.net/npm//vega-lite@4.8.1?noext\",\n",
       "      \"vega-embed\": \"https://cdn.jsdelivr.net/npm//vega-embed@6?noext\",\n",
       "    };\n",
       "\n",
       "    function loadScript(lib) {\n",
       "      return new Promise(function(resolve, reject) {\n",
       "        var s = document.createElement('script');\n",
       "        s.src = paths[lib];\n",
       "        s.async = true;\n",
       "        s.onload = () => resolve(paths[lib]);\n",
       "        s.onerror = () => reject(`Error loading script: ${paths[lib]}`);\n",
       "        document.getElementsByTagName(\"head\")[0].appendChild(s);\n",
       "      });\n",
       "    }\n",
       "\n",
       "    function showError(err) {\n",
       "      outputDiv.innerHTML = `<div class=\"error\" style=\"color:red;\">${err}</div>`;\n",
       "      throw err;\n",
       "    }\n",
       "\n",
       "    function displayChart(vegaEmbed) {\n",
       "      vegaEmbed(outputDiv, spec, embedOpt)\n",
       "        .catch(err => showError(`Javascript Error: ${err.message}<br>This usually means there's a typo in your chart specification. See the javascript console for the full traceback.`));\n",
       "    }\n",
       "\n",
       "    if(typeof define === \"function\" && define.amd) {\n",
       "      requirejs.config({paths});\n",
       "      require([\"vega-embed\"], displayChart, err => showError(`Error loading script: ${err.message}`));\n",
       "    } else if (typeof vegaEmbed === \"function\") {\n",
       "      displayChart(vegaEmbed);\n",
       "    } else {\n",
       "      loadScript(\"vega\")\n",
       "        .then(() => loadScript(\"vega-lite\"))\n",
       "        .then(() => loadScript(\"vega-embed\"))\n",
       "        .catch(showError)\n",
       "        .then(() => displayChart(vegaEmbed));\n",
       "    }\n",
       "  })({\"config\": {\"view\": {\"continuousWidth\": 400, \"continuousHeight\": 300}}, \"layer\": [{\"mark\": \"circle\", \"encoding\": {\"color\": {\"type\": \"nominal\", \"field\": \"Bildungsstand\"}, \"opacity\": {\"value\": 0}, \"x\": {\"type\": \"nominal\", \"field\": \"AufartLang\"}, \"y\": {\"type\": \"quantitative\", \"field\": \"AntBev\"}}, \"height\": 300, \"selection\": {\"selector005\": {\"type\": \"single\", \"on\": \"mouseover\", \"fields\": [\"Bildungsstand\"], \"nearest\": true}}, \"width\": 700}, {\"mark\": \"line\", \"encoding\": {\"color\": {\"type\": \"nominal\", \"field\": \"Bildungsstand\"}, \"size\": {\"condition\": {\"value\": 1.5, \"selection\": {\"not\": \"selector005\"}}, \"value\": 4}, \"x\": {\"type\": \"nominal\", \"field\": \"AufartLang\"}, \"y\": {\"type\": \"quantitative\", \"field\": \"AntBev\"}}, \"selection\": {\"selector006\": {\"type\": \"interval\", \"bind\": \"scales\", \"encodings\": [\"x\", \"y\"]}}}], \"data\": {\"name\": \"data-948f315c3ef792a2f13d9cdad63b980c\"}, \"$schema\": \"https://vega.github.io/schema/vega-lite/v4.8.1.json\", \"datasets\": {\"data-948f315c3ef792a2f13d9cdad63b980c\": [{\"Jahr\": \"2019-01-01T00:00:00\", \"AufartLang\": \"Schweizer/-innen\", \"Bildungsstand\": \"Obligatorische Schule\", \"AntBev\": 13.6, \"untAntBevKI\": 12.8, \"obAntBevKI\": 14.4}, {\"Jahr\": \"2019-01-01T00:00:00\", \"AufartLang\": \"Schweizer/-innen\", \"Bildungsstand\": \"Sekundarstufe II\", \"AntBev\": 37.5, \"untAntBevKI\": 36.3, \"obAntBevKI\": 38.6}, {\"Jahr\": \"2019-01-01T00:00:00\", \"AufartLang\": \"Schweizer/-innen\", \"Bildungsstand\": \"Terti\\u00e4rstufe\", \"AntBev\": 48.9, \"untAntBevKI\": 47.7, \"obAntBevKI\": 50.1}, {\"Jahr\": \"2019-01-01T00:00:00\", \"AufartLang\": \"Niedergelassene (C)\", \"Bildungsstand\": \"Obligatorische Schule\", \"AntBev\": 23.8, \"untAntBevKI\": 21.6, \"obAntBevKI\": 25.9}, {\"Jahr\": \"2019-01-01T00:00:00\", \"AufartLang\": \"Niedergelassene (C)\", \"Bildungsstand\": \"Sekundarstufe II\", \"AntBev\": 24.5, \"untAntBevKI\": 22.3, \"obAntBevKI\": 26.7}, {\"Jahr\": \"2019-01-01T00:00:00\", \"AufartLang\": \"Niedergelassene (C)\", \"Bildungsstand\": \"Terti\\u00e4rstufe\", \"AntBev\": 51.7, \"untAntBevKI\": 49.2, \"obAntBevKI\": 54.2}, {\"Jahr\": \"2019-01-01T00:00:00\", \"AufartLang\": \"Jahresaufenthalter/-innen (B)\", \"Bildungsstand\": \"Obligatorische Schule\", \"AntBev\": 11.4, \"untAntBevKI\": 9.6, \"obAntBevKI\": 13.2}, {\"Jahr\": \"2019-01-01T00:00:00\", \"AufartLang\": \"Jahresaufenthalter/-innen (B)\", \"Bildungsstand\": \"Sekundarstufe II\", \"AntBev\": 16.2, \"untAntBevKI\": 14.2, \"obAntBevKI\": 18.3}, {\"Jahr\": \"2019-01-01T00:00:00\", \"AufartLang\": \"Jahresaufenthalter/-innen (B)\", \"Bildungsstand\": \"Terti\\u00e4rstufe\", \"AntBev\": 72.4, \"untAntBevKI\": 69.9, \"obAntBevKI\": 74.8}, {\"Jahr\": \"2019-01-01T00:00:00\", \"AufartLang\": \"Andere\", \"Bildungsstand\": \"Obligatorische Schule\", \"AntBev\": 46.3, \"untAntBevKI\": 30.6, \"obAntBevKI\": 62.0}, {\"Jahr\": \"2019-01-01T00:00:00\", \"AufartLang\": \"Andere\", \"Bildungsstand\": \"Sekundarstufe II\", \"AntBev\": 15.8, \"untAntBevKI\": 4.2, \"obAntBevKI\": 27.5}, {\"Jahr\": \"2019-01-01T00:00:00\", \"AufartLang\": \"Andere\", \"Bildungsstand\": \"Terti\\u00e4rstufe\", \"AntBev\": 37.8, \"untAntBevKI\": 23.1, \"obAntBevKI\": 52.6}]}}, {\"mode\": \"vega-lite\"});\n",
       "</script>"
      ],
      "text/plain": [
       "alt.LayerChart(...)"
      ]
     },
     "execution_count": 42,
     "metadata": {},
     "output_type": "execute_result"
    }
   ],
   "source": [
    "# df_statzonen = df_statzonen[(df_statzonen.knr>0) & (df_statzonen.qname!=\"Hirslanden\")]\n",
    "#aktuellesJahr[[aktuellesJahr.KreisSort =7]])\n",
    "highlight = alt.selection(type='single', on='mouseover',\n",
    "                          fields=['Bildungsstand'], nearest=True)\n",
    "#x='date:StichtagDatJahr',\n",
    "base = alt.Chart(myGraph).encode(\n",
    "    x='AufartLang',\n",
    "    y='AntBev',\n",
    "    color='Bildungsstand'\n",
    ")\n",
    "\n",
    "points = base.mark_circle().encode(\n",
    "    opacity=alt.value(0)\n",
    ").add_selection(\n",
    "    highlight\n",
    ").properties(\n",
    "    width=700 , height=300\n",
    ")\n",
    "lines = base.mark_line().encode(\n",
    "    size=alt.condition(~highlight, alt.value(1.5), alt.value(4))\n",
    ").interactive()\n",
    "\n",
    "points + lines"
   ]
  },
  {
   "cell_type": "code",
   "execution_count": 47,
   "metadata": {},
   "outputs": [
    {
     "data": {
      "text/html": [
       "\n",
       "<div id=\"altair-viz-852d245087d04f54bc35fddbeb1b2f82\"></div>\n",
       "<script type=\"text/javascript\">\n",
       "  (function(spec, embedOpt){\n",
       "    let outputDiv = document.currentScript.previousElementSibling;\n",
       "    if (outputDiv.id !== \"altair-viz-852d245087d04f54bc35fddbeb1b2f82\") {\n",
       "      outputDiv = document.getElementById(\"altair-viz-852d245087d04f54bc35fddbeb1b2f82\");\n",
       "    }\n",
       "    const paths = {\n",
       "      \"vega\": \"https://cdn.jsdelivr.net/npm//vega@5?noext\",\n",
       "      \"vega-lib\": \"https://cdn.jsdelivr.net/npm//vega-lib?noext\",\n",
       "      \"vega-lite\": \"https://cdn.jsdelivr.net/npm//vega-lite@4.8.1?noext\",\n",
       "      \"vega-embed\": \"https://cdn.jsdelivr.net/npm//vega-embed@6?noext\",\n",
       "    };\n",
       "\n",
       "    function loadScript(lib) {\n",
       "      return new Promise(function(resolve, reject) {\n",
       "        var s = document.createElement('script');\n",
       "        s.src = paths[lib];\n",
       "        s.async = true;\n",
       "        s.onload = () => resolve(paths[lib]);\n",
       "        s.onerror = () => reject(`Error loading script: ${paths[lib]}`);\n",
       "        document.getElementsByTagName(\"head\")[0].appendChild(s);\n",
       "      });\n",
       "    }\n",
       "\n",
       "    function showError(err) {\n",
       "      outputDiv.innerHTML = `<div class=\"error\" style=\"color:red;\">${err}</div>`;\n",
       "      throw err;\n",
       "    }\n",
       "\n",
       "    function displayChart(vegaEmbed) {\n",
       "      vegaEmbed(outputDiv, spec, embedOpt)\n",
       "        .catch(err => showError(`Javascript Error: ${err.message}<br>This usually means there's a typo in your chart specification. See the javascript console for the full traceback.`));\n",
       "    }\n",
       "\n",
       "    if(typeof define === \"function\" && define.amd) {\n",
       "      requirejs.config({paths});\n",
       "      require([\"vega-embed\"], displayChart, err => showError(`Error loading script: ${err.message}`));\n",
       "    } else if (typeof vegaEmbed === \"function\") {\n",
       "      displayChart(vegaEmbed);\n",
       "    } else {\n",
       "      loadScript(\"vega\")\n",
       "        .then(() => loadScript(\"vega-lite\"))\n",
       "        .then(() => loadScript(\"vega-embed\"))\n",
       "        .catch(showError)\n",
       "        .then(() => displayChart(vegaEmbed));\n",
       "    }\n",
       "  })({\"config\": {\"view\": {\"continuousWidth\": 400, \"continuousHeight\": 300}}, \"data\": {\"name\": \"data-948f315c3ef792a2f13d9cdad63b980c\"}, \"mark\": {\"type\": \"circle\", \"size\": 60}, \"encoding\": {\"color\": {\"type\": \"nominal\", \"field\": \"Bildungsstand\"}, \"tooltip\": [{\"type\": \"temporal\", \"field\": \"Jahr\"}, {\"type\": \"nominal\", \"field\": \"AufartLang\"}, {\"type\": \"nominal\", \"field\": \"Bildungsstand\"}, {\"type\": \"quantitative\", \"field\": \"AntBev\"}, {\"type\": \"quantitative\", \"field\": \"obAntBevKI\"}, {\"type\": \"quantitative\", \"field\": \"untAntBevKI\"}], \"x\": {\"type\": \"quantitative\", \"field\": \"AntBev\"}, \"y\": {\"type\": \"nominal\", \"field\": \"AufartLang\"}}, \"selection\": {\"selector011\": {\"type\": \"interval\", \"bind\": \"scales\", \"encodings\": [\"x\", \"y\"]}}, \"$schema\": \"https://vega.github.io/schema/vega-lite/v4.8.1.json\", \"datasets\": {\"data-948f315c3ef792a2f13d9cdad63b980c\": [{\"Jahr\": \"2019-01-01T00:00:00\", \"AufartLang\": \"Schweizer/-innen\", \"Bildungsstand\": \"Obligatorische Schule\", \"AntBev\": 13.6, \"untAntBevKI\": 12.8, \"obAntBevKI\": 14.4}, {\"Jahr\": \"2019-01-01T00:00:00\", \"AufartLang\": \"Schweizer/-innen\", \"Bildungsstand\": \"Sekundarstufe II\", \"AntBev\": 37.5, \"untAntBevKI\": 36.3, \"obAntBevKI\": 38.6}, {\"Jahr\": \"2019-01-01T00:00:00\", \"AufartLang\": \"Schweizer/-innen\", \"Bildungsstand\": \"Terti\\u00e4rstufe\", \"AntBev\": 48.9, \"untAntBevKI\": 47.7, \"obAntBevKI\": 50.1}, {\"Jahr\": \"2019-01-01T00:00:00\", \"AufartLang\": \"Niedergelassene (C)\", \"Bildungsstand\": \"Obligatorische Schule\", \"AntBev\": 23.8, \"untAntBevKI\": 21.6, \"obAntBevKI\": 25.9}, {\"Jahr\": \"2019-01-01T00:00:00\", \"AufartLang\": \"Niedergelassene (C)\", \"Bildungsstand\": \"Sekundarstufe II\", \"AntBev\": 24.5, \"untAntBevKI\": 22.3, \"obAntBevKI\": 26.7}, {\"Jahr\": \"2019-01-01T00:00:00\", \"AufartLang\": \"Niedergelassene (C)\", \"Bildungsstand\": \"Terti\\u00e4rstufe\", \"AntBev\": 51.7, \"untAntBevKI\": 49.2, \"obAntBevKI\": 54.2}, {\"Jahr\": \"2019-01-01T00:00:00\", \"AufartLang\": \"Jahresaufenthalter/-innen (B)\", \"Bildungsstand\": \"Obligatorische Schule\", \"AntBev\": 11.4, \"untAntBevKI\": 9.6, \"obAntBevKI\": 13.2}, {\"Jahr\": \"2019-01-01T00:00:00\", \"AufartLang\": \"Jahresaufenthalter/-innen (B)\", \"Bildungsstand\": \"Sekundarstufe II\", \"AntBev\": 16.2, \"untAntBevKI\": 14.2, \"obAntBevKI\": 18.3}, {\"Jahr\": \"2019-01-01T00:00:00\", \"AufartLang\": \"Jahresaufenthalter/-innen (B)\", \"Bildungsstand\": \"Terti\\u00e4rstufe\", \"AntBev\": 72.4, \"untAntBevKI\": 69.9, \"obAntBevKI\": 74.8}, {\"Jahr\": \"2019-01-01T00:00:00\", \"AufartLang\": \"Andere\", \"Bildungsstand\": \"Obligatorische Schule\", \"AntBev\": 46.3, \"untAntBevKI\": 30.6, \"obAntBevKI\": 62.0}, {\"Jahr\": \"2019-01-01T00:00:00\", \"AufartLang\": \"Andere\", \"Bildungsstand\": \"Sekundarstufe II\", \"AntBev\": 15.8, \"untAntBevKI\": 4.2, \"obAntBevKI\": 27.5}, {\"Jahr\": \"2019-01-01T00:00:00\", \"AufartLang\": \"Andere\", \"Bildungsstand\": \"Terti\\u00e4rstufe\", \"AntBev\": 37.8, \"untAntBevKI\": 23.1, \"obAntBevKI\": 52.6}]}}, {\"mode\": \"vega-lite\"});\n",
       "</script>"
      ],
      "text/plain": [
       "alt.Chart(...)"
      ]
     },
     "execution_count": 47,
     "metadata": {},
     "output_type": "execute_result"
    }
   ],
   "source": [
    "alt.Chart(myGraph).mark_circle(size=60).encode(\n",
    "    x='AntBev',\n",
    "    y='AufartLang',\n",
    "    color='Bildungsstand',\n",
    "    tooltip=['Jahr','AufartLang','Bildungsstand', 'AntBev','obAntBevKI','untAntBevKI']\n",
    ").interactive() # this makes the axes interactive: now you can zoom & pan\n",
    "\n"
   ]
  },
  {
   "cell_type": "code",
   "execution_count": 48,
   "metadata": {},
   "outputs": [
    {
     "data": {
      "image/png": "[encoded data removed]",
      "text/plain": [
       "<Figure size 432x288 with 1 Axes>"
      ]
     },
     "metadata": {},
     "output_type": "display_data"
    }
   ],
   "source": [
    "import seaborn as sns\n",
    "sns.set(style=\"darkgrid\")\n",
    "sns.histplot(data=myGraph, x=\"AntBev\") #, y=\"KonOGDKurz\")\n",
    "plt.show();"
   ]
  },
  {
   "cell_type": "markdown",
   "metadata": {},
   "source": [
    "Hier fertig, keine räumlichen Daten\n",
    "\n",
    "--------------------------------------------------------------------"
   ]
  },
  {
   "cell_type": "markdown",
   "metadata": {},
   "source": [
    "**Test: Choroplethenkarte**\n",
    "Importiere die Geodaten als GeoJSON"
   ]
  },
  {
   "cell_type": "code",
   "execution_count": 36,
   "metadata": {},
   "outputs": [
    {
     "data": {
      "text/html": [
       "<div>\n",
       "<style scoped>\n",
       "    .dataframe tbody tr th:only-of-type {\n",
       "        vertical-align: middle;\n",
       "    }\n",
       "\n",
       "    .dataframe tbody tr th {\n",
       "        vertical-align: top;\n",
       "    }\n",
       "\n",
       "    .dataframe thead th {\n",
       "        text-align: right;\n",
       "    }\n",
       "</style>\n",
       "<table border=\"1\" class=\"dataframe\">\n",
       "  <thead>\n",
       "    <tr style=\"text-align: right;\">\n",
       "      <th></th>\n",
       "      <th>id</th>\n",
       "      <th>kname</th>\n",
       "      <th>knr</th>\n",
       "      <th>objectid</th>\n",
       "      <th>objid</th>\n",
       "      <th>qname</th>\n",
       "      <th>qnr</th>\n",
       "      <th>geometry</th>\n",
       "    </tr>\n",
       "  </thead>\n",
       "  <tbody>\n",
       "    <tr>\n",
       "      <th>0</th>\n",
       "      <td>adm_statistische_quartiere_map.1</td>\n",
       "      <td>Kreis 7</td>\n",
       "      <td>7</td>\n",
       "      <td>1</td>\n",
       "      <td>34</td>\n",
       "      <td>Hirslanden</td>\n",
       "      <td>73</td>\n",
       "      <td>POLYGON ((8.55670 47.36406, 8.55682 47.36410, ...</td>\n",
       "    </tr>\n",
       "    <tr>\n",
       "      <th>1</th>\n",
       "      <td>adm_statistische_quartiere_map.2</td>\n",
       "      <td>Kreis 8</td>\n",
       "      <td>8</td>\n",
       "      <td>2</td>\n",
       "      <td>33</td>\n",
       "      <td>Weinegg</td>\n",
       "      <td>83</td>\n",
       "      <td>POLYGON ((8.55670 47.36405, 8.55672 47.36403, ...</td>\n",
       "    </tr>\n",
       "    <tr>\n",
       "      <th>2</th>\n",
       "      <td>adm_statistische_quartiere_map.3</td>\n",
       "      <td>Kreis 8</td>\n",
       "      <td>8</td>\n",
       "      <td>3</td>\n",
       "      <td>32</td>\n",
       "      <td>Mühlebach</td>\n",
       "      <td>82</td>\n",
       "      <td>POLYGON ((8.55423 47.36456, 8.55426 47.36452, ...</td>\n",
       "    </tr>\n",
       "    <tr>\n",
       "      <th>3</th>\n",
       "      <td>adm_statistische_quartiere_map.4</td>\n",
       "      <td>Kreis 8</td>\n",
       "      <td>8</td>\n",
       "      <td>4</td>\n",
       "      <td>31</td>\n",
       "      <td>Seefeld</td>\n",
       "      <td>81</td>\n",
       "      <td>POLYGON ((8.54795 47.36500, 8.54805 47.36489, ...</td>\n",
       "    </tr>\n",
       "    <tr>\n",
       "      <th>4</th>\n",
       "      <td>adm_statistische_quartiere_map.7</td>\n",
       "      <td>Kreis 4</td>\n",
       "      <td>4</td>\n",
       "      <td>7</td>\n",
       "      <td>16</td>\n",
       "      <td>Werd</td>\n",
       "      <td>41</td>\n",
       "      <td>POLYGON ((8.53300 47.37394, 8.53299 47.37392, ...</td>\n",
       "    </tr>\n",
       "  </tbody>\n",
       "</table>\n",
       "</div>"
      ],
      "text/plain": [
       "                                 id    kname  knr  objectid objid       qname  qnr  \\\n",
       "0  adm_statistische_quartiere_map.1  Kreis 7    7         1    34  Hirslanden   73   \n",
       "1  adm_statistische_quartiere_map.2  Kreis 8    8         2    33     Weinegg   83   \n",
       "2  adm_statistische_quartiere_map.3  Kreis 8    8         3    32   Mühlebach   82   \n",
       "3  adm_statistische_quartiere_map.4  Kreis 8    8         4    31     Seefeld   81   \n",
       "4  adm_statistische_quartiere_map.7  Kreis 4    4         7    16        Werd   41   \n",
       "\n",
       "                                            geometry  \n",
       "0  POLYGON ((8.55670 47.36406, 8.55682 47.36410, ...  \n",
       "1  POLYGON ((8.55670 47.36405, 8.55672 47.36403, ...  \n",
       "2  POLYGON ((8.55423 47.36456, 8.55426 47.36452, ...  \n",
       "3  POLYGON ((8.54795 47.36500, 8.54805 47.36489, ...  \n",
       "4  POLYGON ((8.53300 47.37394, 8.53299 47.37392, ...  "
      ]
     },
     "execution_count": 36,
     "metadata": {},
     "output_type": "execute_result"
    }
   ],
   "source": [
    "# Read abt. Geopandas https://geopandas.org/docs/user_guide/io.html\n",
    "# Filepath statzonen\n",
    "geojson_url = \"https://www.ogd.stadt-zuerich.ch/wfs/geoportal/Statistische_Quartiere?service=WFS&version=1.1.0&request=GetFeature&outputFormat=GeoJSON&typename=adm_statistische_quartiere_map\"\n",
    "df_adm_statistische_quartiere_map = gpd.read_file(geojson_url)\n",
    "\n",
    "df_adm_statistische_quartiere_map.head(5)\n"
   ]
  },
  {
   "cell_type": "markdown",
   "metadata": {},
   "source": [
    "Joine die importierten statistischen Daten des aktuellen Jahres zum Geodatensatz:\n",
    "\n",
    "*Siehe dazu Doku zu [Geopandas](https://geopandas.org/docs/user_guide/mergingdata.html)*"
   ]
  },
  {
   "cell_type": "code",
   "execution_count": 48,
   "metadata": {},
   "outputs": [],
   "source": [
    "selectMapAttr1 = data2betested[(data2betested.SteuerTarifLang==\"Grundtarif\") & (data2betested.SteuerJahr == \"2018\")]\n",
    "selectMapAttr2 = data2betested[(data2betested.SteuerTarifLang==\"Verheiratetentarif\") & (data2betested.SteuerJahr == \"2018\")]\n"
   ]
  },
  {
   "cell_type": "code",
   "execution_count": 49,
   "metadata": {},
   "outputs": [
    {
     "data": {
      "text/html": [
       "<div>\n",
       "<style scoped>\n",
       "    .dataframe tbody tr th:only-of-type {\n",
       "        vertical-align: middle;\n",
       "    }\n",
       "\n",
       "    .dataframe tbody tr th {\n",
       "        vertical-align: top;\n",
       "    }\n",
       "\n",
       "    .dataframe thead th {\n",
       "        text-align: right;\n",
       "    }\n",
       "</style>\n",
       "<table border=\"1\" class=\"dataframe\">\n",
       "  <thead>\n",
       "    <tr style=\"text-align: right;\">\n",
       "      <th></th>\n",
       "      <th>SteuerJahr</th>\n",
       "      <th>QuarSort</th>\n",
       "      <th>QuarLang</th>\n",
       "      <th>SteuerTarifSort</th>\n",
       "      <th>SteuerTarifLang</th>\n",
       "      <th>SteuerEInkommen_p50</th>\n",
       "      <th>SteuerEinkommen_p25</th>\n",
       "      <th>SteuerEinkommen_p75</th>\n",
       "    </tr>\n",
       "  </thead>\n",
       "  <tbody>\n",
       "    <tr>\n",
       "      <th>1938</th>\n",
       "      <td>2018-01-01</td>\n",
       "      <td>11</td>\n",
       "      <td>Rathaus</td>\n",
       "      <td>0</td>\n",
       "      <td>Grundtarif</td>\n",
       "      <td>48</td>\n",
       "      <td>19</td>\n",
       "      <td>84</td>\n",
       "    </tr>\n",
       "    <tr>\n",
       "      <th>1941</th>\n",
       "      <td>2018-01-01</td>\n",
       "      <td>12</td>\n",
       "      <td>Hochschulen</td>\n",
       "      <td>0</td>\n",
       "      <td>Grundtarif</td>\n",
       "      <td>35</td>\n",
       "      <td>12</td>\n",
       "      <td>73</td>\n",
       "    </tr>\n",
       "    <tr>\n",
       "      <th>1944</th>\n",
       "      <td>2018-01-01</td>\n",
       "      <td>13</td>\n",
       "      <td>Lindenhof</td>\n",
       "      <td>0</td>\n",
       "      <td>Grundtarif</td>\n",
       "      <td>52</td>\n",
       "      <td>22</td>\n",
       "      <td>89</td>\n",
       "    </tr>\n",
       "    <tr>\n",
       "      <th>1947</th>\n",
       "      <td>2018-01-01</td>\n",
       "      <td>14</td>\n",
       "      <td>City</td>\n",
       "      <td>0</td>\n",
       "      <td>Grundtarif</td>\n",
       "      <td>27</td>\n",
       "      <td>0</td>\n",
       "      <td>73</td>\n",
       "    </tr>\n",
       "    <tr>\n",
       "      <th>1950</th>\n",
       "      <td>2018-01-01</td>\n",
       "      <td>21</td>\n",
       "      <td>Wollishofen</td>\n",
       "      <td>0</td>\n",
       "      <td>Grundtarif</td>\n",
       "      <td>44</td>\n",
       "      <td>20</td>\n",
       "      <td>70</td>\n",
       "    </tr>\n",
       "  </tbody>\n",
       "</table>\n",
       "</div>"
      ],
      "text/plain": [
       "     SteuerJahr  QuarSort     QuarLang  SteuerTarifSort SteuerTarifLang  SteuerEInkommen_p50  \\\n",
       "1938 2018-01-01        11      Rathaus                0      Grundtarif                   48   \n",
       "1941 2018-01-01        12  Hochschulen                0      Grundtarif                   35   \n",
       "1944 2018-01-01        13    Lindenhof                0      Grundtarif                   52   \n",
       "1947 2018-01-01        14         City                0      Grundtarif                   27   \n",
       "1950 2018-01-01        21  Wollishofen                0      Grundtarif                   44   \n",
       "\n",
       "      SteuerEinkommen_p25  SteuerEinkommen_p75  \n",
       "1938                   19                   84  \n",
       "1941                   12                   73  \n",
       "1944                   22                   89  \n",
       "1947                    0                   73  \n",
       "1950                   20                   70  "
      ]
     },
     "execution_count": 49,
     "metadata": {},
     "output_type": "execute_result"
    }
   ],
   "source": [
    "selectMapAttr1.head()\n"
   ]
  },
  {
   "cell_type": "code",
   "execution_count": 50,
   "metadata": {
    "tags": []
   },
   "outputs": [
    {
     "data": {
      "text/html": [
       "<div>\n",
       "<style scoped>\n",
       "    .dataframe tbody tr th:only-of-type {\n",
       "        vertical-align: middle;\n",
       "    }\n",
       "\n",
       "    .dataframe tbody tr th {\n",
       "        vertical-align: top;\n",
       "    }\n",
       "\n",
       "    .dataframe thead th {\n",
       "        text-align: right;\n",
       "    }\n",
       "</style>\n",
       "<table border=\"1\" class=\"dataframe\">\n",
       "  <thead>\n",
       "    <tr style=\"text-align: right;\">\n",
       "      <th></th>\n",
       "      <th>geometry</th>\n",
       "      <th>QuarSort</th>\n",
       "      <th>qname</th>\n",
       "      <th>knr</th>\n",
       "      <th>SteuerJahr</th>\n",
       "      <th>QuarLang</th>\n",
       "      <th>SteuerTarifSort</th>\n",
       "      <th>SteuerTarifLang</th>\n",
       "      <th>SteuerEInkommen_p50</th>\n",
       "      <th>SteuerEinkommen_p25</th>\n",
       "      <th>SteuerEinkommen_p75</th>\n",
       "    </tr>\n",
       "  </thead>\n",
       "  <tbody>\n",
       "    <tr>\n",
       "      <th>0</th>\n",
       "      <td>POLYGON ((8.55670 47.36406, 8.55682 47.36410, ...</td>\n",
       "      <td>73</td>\n",
       "      <td>Hirslanden</td>\n",
       "      <td>7</td>\n",
       "      <td>2018-01-01</td>\n",
       "      <td>Hirslanden</td>\n",
       "      <td>0</td>\n",
       "      <td>Grundtarif</td>\n",
       "      <td>48</td>\n",
       "      <td>20</td>\n",
       "      <td>81</td>\n",
       "    </tr>\n",
       "    <tr>\n",
       "      <th>1</th>\n",
       "      <td>POLYGON ((8.55670 47.36405, 8.55672 47.36403, ...</td>\n",
       "      <td>83</td>\n",
       "      <td>Weinegg</td>\n",
       "      <td>8</td>\n",
       "      <td>2018-01-01</td>\n",
       "      <td>Weinegg</td>\n",
       "      <td>0</td>\n",
       "      <td>Grundtarif</td>\n",
       "      <td>46</td>\n",
       "      <td>16</td>\n",
       "      <td>79</td>\n",
       "    </tr>\n",
       "    <tr>\n",
       "      <th>2</th>\n",
       "      <td>POLYGON ((8.55423 47.36456, 8.55426 47.36452, ...</td>\n",
       "      <td>82</td>\n",
       "      <td>Mühlebach</td>\n",
       "      <td>8</td>\n",
       "      <td>2018-01-01</td>\n",
       "      <td>Mühlebach</td>\n",
       "      <td>0</td>\n",
       "      <td>Grundtarif</td>\n",
       "      <td>57</td>\n",
       "      <td>24</td>\n",
       "      <td>98</td>\n",
       "    </tr>\n",
       "  </tbody>\n",
       "</table>\n",
       "</div>"
      ],
      "text/plain": [
       "                                            geometry  QuarSort       qname  knr SteuerJahr  \\\n",
       "0  POLYGON ((8.55670 47.36406, 8.55682 47.36410, ...        73  Hirslanden    7 2018-01-01   \n",
       "1  POLYGON ((8.55670 47.36405, 8.55672 47.36403, ...        83     Weinegg    8 2018-01-01   \n",
       "2  POLYGON ((8.55423 47.36456, 8.55426 47.36452, ...        82   Mühlebach    8 2018-01-01   \n",
       "\n",
       "     QuarLang  SteuerTarifSort SteuerTarifLang  SteuerEInkommen_p50  SteuerEinkommen_p25  \\\n",
       "0  Hirslanden                0      Grundtarif                   48                   20   \n",
       "1     Weinegg                0      Grundtarif                   46                   16   \n",
       "2   Mühlebach                0      Grundtarif                   57                   24   \n",
       "\n",
       "   SteuerEinkommen_p75  \n",
       "0                   81  \n",
       "1                   79  \n",
       "2                   98  "
      ]
     },
     "execution_count": 50,
     "metadata": {},
     "output_type": "execute_result"
    }
   ],
   "source": [
    "# Rename attribute stznr to StatZoneSort, so the IDs have the same name\n",
    "\n",
    "stadtquartiere_shapes = df_adm_statistische_quartiere_map[['geometry', 'qnr', 'qname', 'knr']].rename(columns={'qnr': 'QuarSort'})\n",
    "\n",
    "# Merge with `merge` method on shared variable (stznr und StatZoneSort):\n",
    "stadtquartiere_shapes_joined = stadtquartiere_shapes.merge(selectMapAttr1, on='QuarSort')\n",
    "\n",
    "stadtquartiere_shapes_joined.head(3)\n"
   ]
  },
  {
   "cell_type": "code",
   "execution_count": 51,
   "metadata": {
    "tags": []
   },
   "outputs": [
    {
     "data": {
      "text/plain": [
       "<AxesSubplot:>"
      ]
     },
     "execution_count": 51,
     "metadata": {},
     "output_type": "execute_result"
    },
    {
     "data": {
      "image/png": "[encoded data removed]",
      "text/plain": [
       "<Figure size 432x288 with 1 Axes>"
      ]
     },
     "metadata": {},
     "output_type": "display_data"
    },
    {
     "data": {
      "image/png": "[encoded data removed]",
      "text/plain": [
       "<Figure size 432x288 with 1 Axes>"
      ]
     },
     "metadata": {},
     "output_type": "display_data"
    },
    {
     "data": {
      "image/png": "[encoded data removed]",
      "text/plain": [
       "<Figure size 432x288 with 1 Axes>"
      ]
     },
     "metadata": {},
     "output_type": "display_data"
    },
    {
     "data": {
      "image/png": "[encoded data removed]",
      "text/plain": [
       "<Figure size 432x288 with 1 Axes>"
      ]
     },
     "metadata": {},
     "output_type": "display_data"
    }
   ],
   "source": [
    "# Plot by StatQuartiere\n",
    "\n",
    "stadtquartiere_shapes_joined.plot(column='SteuerEInkommen_p50', cmap='viridis', scheme='natural_breaks', legend=True )\n",
    "#scheme werte: https://matplotlib.org/2.0.2/users/colormaps.html\n",
    "\n",
    "stadtquartiere_shapes_joined.plot(column='SteuerEInkommen_p50', cmap='plasma', scheme='quantiles', legend=True )\n",
    "#scheme werte: https://matplotlib.org/2.0.2/users/colormaps.html\n",
    "stadtquartiere_shapes_joined.plot(column='SteuerEInkommen_p50', cmap='cool', scheme='fisherjenks', legend=True )\n",
    "#scheme werte: https://matplotlib.org/2.0.2/users/colormaps.html\n",
    "\n",
    "stadtquartiere_shapes_joined.plot(column='SteuerEInkommen_p50', cmap='viridis', scheme='natural_breaks', legend=True )\n",
    "#scheme werte: https://matplotlib.org/2.0.2/users/colormaps.html"
   ]
  },
  {
   "cell_type": "markdown",
   "metadata": {},
   "source": [
    "----------------------------------------------------------------------------------------"
   ]
  },
  {
   "cell_type": "markdown",
   "metadata": {},
   "source": [
    "#Link https://automating-gis-processes.github.io/site/notebooks/L5/interactive-map-folium.html\n",
    "\n",
    "# Create a Map instance\n",
    "m = folium.Map(location=[60.25, 24.8], tiles = 'cartodbpositron', zoom_start=10, control_scale=True)\n",
    "\n",
    "# Plot a choropleth map\n",
    "# Notice: 'geoid' column that we created earlier needs to be assigned always as the first column\n",
    "folium.Choropleth(\n",
    "    geo_data=data,\n",
    "    name='Population in 2018',\n",
    "    data=data,\n",
    "    columns=['geoid', 'pop18'],\n",
    "    key_on='feature.id',\n",
    "    fill_color='YlOrRd',\n",
    "    fill_opacity=0.7,\n",
    "    line_opacity=0.2,\n",
    "    line_color='white',\n",
    "    line_weight=0,\n",
    "    highlight=False,\n",
    "    smooth_factor=1.0,\n",
    "    #threshold_scale=[100, 250, 500, 1000, 2000],\n",
    "    legend_name= 'Population in Helsinki').add_to(m)\n",
    "\n",
    "#Show map\n",
    "m"
   ]
  },
  {
   "cell_type": "markdown",
   "metadata": {},
   "source": [
    "Noch zu prüfen, folgendes schöne Beispiel: https://docs.bokeh.org/en/latest/docs/user_guide/interaction/legends.html\n",
    "\n",
    "Konkrete Beispiele von Bookeh in Jupyter NB: https://docs.bokeh.org/en/latest/docs/user_guide/jupyter.html"
   ]
  },
  {
   "cell_type": "code",
   "execution_count": null,
   "metadata": {},
   "outputs": [],
   "source": [
    "\n"
   ]
  },
  {
   "cell_type": "code",
   "execution_count": null,
   "metadata": {},
   "outputs": [],
   "source": []
  }
 ],
 "metadata": {
  "kernelspec": {
   "display_name": "Python 3 (ipykernel)",
   "language": "python",
   "name": "python3"
  },
  "language_info": {
   "codemirror_mode": {
    "name": "ipython",
    "version": 3
   },
   "file_extension": ".py",
   "mimetype": "text/x-python",
   "name": "python",
   "nbconvert_exporter": "python",
   "pygments_lexer": "ipython3",
   "version": "3.9.7"
  }
 },
 "nbformat": 4,
 "nbformat_minor": 4
}
