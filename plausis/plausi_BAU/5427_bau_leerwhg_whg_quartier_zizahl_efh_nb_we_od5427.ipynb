{
 "cells": [
  {
   "cell_type": "markdown",
   "metadata": {},
   "source": [
    "# Testing\n",
    "### Leerstehende Wohnungen nach Stadtquartier, Zimmerzahl, Gebäudeart, Bewohnungsart und Gebäudealter\n",
    "\n",
    "https://data.stadt-zuerich.ch/dataset/bau_leerwhg_whg_quartier_zizahl_efh_nb_we_od5427\n",
    "\n",
    "Datum: 25.08.2022"
   ]
  },
  {
   "cell_type": "markdown",
   "metadata": {},
   "source": [
    "### Importiere die notwendigen Packages"
   ]
  },
  {
   "cell_type": "code",
   "execution_count": null,
   "metadata": {},
   "outputs": [],
   "source": [
    "#%pip install geopandas altair fiona requests folium mplleaflet contextily seaborn datetime plotly leafmap"
   ]
  },
  {
   "cell_type": "code",
   "execution_count": 9,
   "metadata": {},
   "outputs": [],
   "source": [
    "import pandas as pd\n",
    "import pivottablejs\n",
    "from pivottablejs import pivot_ui\n",
    "import numpy as np\n",
    "import altair as alt\n",
    "import matplotlib.pyplot as plt\n",
    "\n",
    "import datetime\n",
    "import geopandas as gpd\n",
    "import folium \n",
    "import plotly.express as px\n",
    "import seaborn as sns\n",
    "import leafmap\n",
    "\n",
    "import requests\n",
    "import io\n",
    "\n",
    "import plotly.express as px\n"
   ]
  },
  {
   "cell_type": "code",
   "execution_count": 10,
   "metadata": {},
   "outputs": [],
   "source": [
    "SSL_VERIFY = False\n",
    "# evtl. SSL_VERIFY auf False setzen wenn die Verbindung zu https://www.gemeinderat-zuerich.ch nicht klappt (z.B. wegen Proxy)\n",
    "# Um die SSL Verifikation auszustellen, bitte die nächste Zeile einkommentieren (\"#\" entfernen)\n",
    "# SSL_VERIFY = False"
   ]
  },
  {
   "cell_type": "code",
   "execution_count": 11,
   "metadata": {},
   "outputs": [],
   "source": [
    "if not SSL_VERIFY:\n",
    "    import urllib3\n",
    "    urllib3.disable_warnings()"
   ]
  },
  {
   "cell_type": "markdown",
   "metadata": {},
   "source": [
    "Definiere Settings. Hier das Zahlenformat von Float-Werten (z.B. *'{:,.2f}'.format* mit Komma als Tausenderzeichen), "
   ]
  },
  {
   "cell_type": "code",
   "execution_count": 12,
   "metadata": {},
   "outputs": [],
   "source": [
    "#pd.options.display.float_format = lambda x : '{:,.1f}'.format(x) if (np.isnan(x) | np.isinf(x)) else '{:,.0f}'.format(x) if int(x) == x else '{:,.1f}'.format(x)\n",
    "pd.options.display.float_format = '{:.0f}'.format\n",
    "pd.set_option('display.width', 100)\n",
    "pd.set_option('display.max_columns', 15)"
   ]
  },
  {
   "cell_type": "markdown",
   "metadata": {},
   "source": [
    "### Zeitvariabeln\n",
    "Bestimme den aktuellst geladenen Monat. Hier ist es der Stand vor 2 Monaten. \n",
    "Bestimme noch weitere evt. sinnvolle Zeitvariabeln.\n",
    "\n",
    "Zum Unterschied zwischen import datetime und from datedtime import datetime, siehe https://stackoverflow.com/questions/15707532/import-datetime-v-s-from-datetime-import-datetime\n",
    "\n",
    "Zuerst die Zeitvariabeln als Strings"
   ]
  },
  {
   "cell_type": "code",
   "execution_count": 13,
   "metadata": {},
   "outputs": [],
   "source": [
    "#today_date = datetime.date.today()\n",
    "#date_time = datetime.datetime.strptime(date_time_string, '%Y-%m-%d %H:%M')\n",
    "now = datetime.date.today()\n",
    "date_today = now.strftime(\"%Y-%m-%d\")\n",
    "year_today = now.strftime(\"%Y\")\n",
    "month_today = now.strftime(\"%m\")\n",
    "day_today = now.strftime(\"%d\")\n"
   ]
  },
  {
   "cell_type": "markdown",
   "metadata": {},
   "source": [
    "Und hier noch die Zeitvariabeln als Integers:\n",
    "- `aktuellesJahr`\n",
    "- `aktuellerMonat`: Der gerade jetzt aktuelle Monat\n",
    "- `selectedMonat`: Der aktuellste Monat in den Daten. In der Regel zwei Monate her."
   ]
  },
  {
   "cell_type": "code",
   "execution_count": 14,
   "metadata": {},
   "outputs": [
    {
     "name": "stdout",
     "output_type": "stream",
     "text": [
      "2022 8 datenstand:  6 time.struct_time(tm_year=2022, tm_mon=8, tm_mday=30, tm_hour=0, tm_min=0, tm_sec=0, tm_wday=1, tm_yday=242, tm_isdst=-1)\n"
     ]
    }
   ],
   "source": [
    "#now = datetime.now() \n",
    "int_times = now.timetuple()\n",
    "\n",
    "aktuellesJahr = int_times[0]\n",
    "aktuellerMonat = int_times[1]\n",
    "selectedMonat = int_times[1]-2\n",
    "\n",
    "print(aktuellesJahr, \n",
    "      aktuellerMonat,\n",
    "    'datenstand: ', selectedMonat,\n",
    "     int_times)\n"
   ]
  },
  {
   "cell_type": "markdown",
   "metadata": {},
   "source": [
    "Berechne die Variable Epoche um später das SAS-Datum in ein Unix-Datum umzuwandeln. Bei SAS beginnt die Epoche am 1.1.1960. Bei Unix am 1.1.1970.\n",
    "Diese Variable wird beim CSV-Import benötigt."
   ]
  },
  {
   "cell_type": "code",
   "execution_count": 15,
   "metadata": {},
   "outputs": [],
   "source": [
    "epoch = datetime.datetime(1960, 1, 1)"
   ]
  },
  {
   "cell_type": "markdown",
   "metadata": {},
   "source": [
    "### Setze einige Pfadvariabeln"
   ]
  },
  {
   "cell_type": "markdown",
   "metadata": {
    "tags": []
   },
   "source": [
    "- Der Packagename ist eigentlich der **Verzeichnisname** unter dem die Daten und Metadaten auf der Dropzone abgelegt werden.\n",
    "- Definiert wird er bei SASA-Prozessen auf dem **Produkte-Sharepoint ([Link](https://kollaboration.intranet.stzh.ch/orga/ssz-produkte/Lists/SASA_Outputs/PersonalViews.aspx?PageView=Personal&ShowWebPart={6087A3E7-8AC8-40BA-8278-DECFACE124FF}))**.\n",
    "- Der Packagename wird auf CKAN teil der URL, daher ist die exakte Schreibweise wichtig.\n",
    "\n",
    "Beachte: im Packagename müssen alle Buchstaben **klein** geschrieben werden. Dies weil CKAN aus grossen kleine Buchstaben macht."
   ]
  },
  {
   "cell_type": "markdown",
   "metadata": {},
   "source": [
    "**BITTE HIER ANPASSEN**"
   ]
  },
  {
   "cell_type": "code",
   "execution_count": 16,
   "metadata": {},
   "outputs": [],
   "source": [
    "package_name = \"bau_leerwhg_whg_quartier_zizahl_efh_nb_we_od5427\""
   ]
  },
  {
   "cell_type": "code",
   "execution_count": 17,
   "metadata": {
    "tags": []
   },
   "outputs": [],
   "source": [
    "dataset_name = \"BAU542OD5427.csv\""
   ]
  },
  {
   "cell_type": "markdown",
   "metadata": {},
   "source": [
    "**Statische Pfade in DWH-Dropzones**"
   ]
  },
  {
   "cell_type": "code",
   "execution_count": 18,
   "metadata": {},
   "outputs": [],
   "source": [
    "dropzone_path_integ = r\"\\\\szh\\ssz\\applikationen\\OGD_Dropzone\\INT_DWH\""
   ]
  },
  {
   "cell_type": "code",
   "execution_count": 19,
   "metadata": {
    "tags": []
   },
   "outputs": [],
   "source": [
    "dropzone_path_prod = r\"\\\\szh\\ssz\\applikationen\\OGD_Dropzone\\DWH\""
   ]
  },
  {
   "cell_type": "markdown",
   "metadata": {
    "tags": []
   },
   "source": [
    "**Statische Pfade CKAN-URLs**"
   ]
  },
  {
   "cell_type": "code",
   "execution_count": 20,
   "metadata": {
    "tags": []
   },
   "outputs": [],
   "source": [
    "ckan_integ_url =\"https://data.integ.stadt-zuerich.ch/dataset/int_dwh_\""
   ]
  },
  {
   "cell_type": "code",
   "execution_count": 21,
   "metadata": {},
   "outputs": [],
   "source": [
    "ckan_prod_url =\"https://data.stadt-zuerich.ch/dataset/\""
   ]
  },
  {
   "cell_type": "markdown",
   "metadata": {},
   "source": [
    "### Checke die Metadaten auf der CKAN INTEG- oder PROD-Webseite\n",
    "\n",
    "Offenbar lassen sich aktuell im Markdownteil keine Variabeln ausführen, daher gehen wir wie unten gezeigt vor. Siehe dazu: https://data-dive.com/jupyterlab-markdown-cells-include-variables\n",
    "Instead of setting the cell to Markdown, create Markdown from withnin a code cell! We can just use python variable replacement syntax to make the text dynamic"
   ]
  },
  {
   "cell_type": "code",
   "execution_count": 22,
   "metadata": {},
   "outputs": [],
   "source": [
    "from IPython.display import Markdown as md"
   ]
  },
  {
   "cell_type": "code",
   "execution_count": 23,
   "metadata": {},
   "outputs": [
    {
     "data": {
      "text/markdown": [
       " **1. Dataset auf INTEG-Datakatalog:** Link https://data.integ.stadt-zuerich.ch/dataset/int_dwh_bau_leerwhg_whg_quartier_zizahl_efh_nb_we_od5427 "
      ],
      "text/plain": [
       "<IPython.core.display.Markdown object>"
      ]
     },
     "execution_count": 23,
     "metadata": {},
     "output_type": "execute_result"
    }
   ],
   "source": [
    "md(\" **1. Dataset auf INTEG-Datakatalog:** Link {} \".format(ckan_integ_url+package_name))"
   ]
  },
  {
   "cell_type": "code",
   "execution_count": 24,
   "metadata": {
    "tags": []
   },
   "outputs": [
    {
     "data": {
      "text/markdown": [
       " **2. Dataset auf PROD-Datakatalog:** Link https://data.stadt-zuerich.ch/dataset/bau_leerwhg_whg_quartier_zizahl_efh_nb_we_od5427 "
      ],
      "text/plain": [
       "<IPython.core.display.Markdown object>"
      ]
     },
     "execution_count": 24,
     "metadata": {},
     "output_type": "execute_result"
    }
   ],
   "source": [
    "md(\" **2. Dataset auf PROD-Datakatalog:** Link {} \".format(ckan_prod_url+package_name))"
   ]
  },
  {
   "cell_type": "markdown",
   "metadata": {
    "tags": []
   },
   "source": [
    "### Importiere einen Datensatz \n",
    "\n",
    "Definiere zuerst folgende Werte:\n",
    "1) Kommt der Datensatz von PROD oder INTEG?\n",
    "2) Beziehst Du den Datensatz direkt ab der DROPZONE oder aus dem INTERNET?"
   ]
  },
  {
   "cell_type": "code",
   "execution_count": 28,
   "metadata": {},
   "outputs": [
    {
     "name": "stdout",
     "output_type": "stream",
     "text": [
      "int - web\n"
     ]
    }
   ],
   "source": [
    "#Die Datasets sind nur zum Testen auf INT-DWH-Dropzone. Wenn der Test vorbei ist, sind sie auf PROD. \n",
    "# Über den Status kann man einfach switchen\n",
    "\n",
    "status = \"int\"; #prod vs something else\n",
    "data_source = \"web\"; #dropzone vs something else\n",
    "print(status+\" - \"+ data_source)"
   ]
  },
  {
   "cell_type": "code",
   "execution_count": 29,
   "metadata": {
    "tags": []
   },
   "outputs": [
    {
     "name": "stdout",
     "output_type": "stream",
     "text": [
      "fp lautet:https://data.integ.stadt-zuerich.ch/dataset/int_dwh_bau_leerwhg_whg_quartier_zizahl_efh_nb_we_od5427/download/BAU542OD5427.csv\n"
     ]
    }
   ],
   "source": [
    "# Filepath\n",
    "if status == \"prod\":\n",
    "    if data_source == \"dropzone\":\n",
    "            fp = dropzone_path_prod+\"\\\\\"+ package_name +\"\\\\\"+dataset_name\n",
    "            print(\"fp lautet:\"+fp)\n",
    "    else:\n",
    "        #fp = r\"https://data.stadt-zuerich.ch/dataset/bau_neubau_whg_bausm_rinh_geb_projstatus_quartier_seit2009_od5011/download/BAU501OD5011.csv\"\n",
    "        fp = ckan_prod_url+package_name+'/download/'+dataset_name\n",
    "        print(\"fp lautet:\"+fp)\n",
    "else:\n",
    "    if data_source == \"dropzone\":\n",
    "        fp = dropzone_path_integ+\"\\\\\"+ package_name +\"\\\\\"+dataset_name\n",
    "        print(\"fp lautet:\"+fp)\n",
    "    else:\n",
    "        #fp = r\"https://data.stadt-zuerich.ch/dataset/bau_neubau_whg_bausm_rinh_geb_projstatus_quartier_seit2009_od5011/download/BAU501OD5011.csv\"\n",
    "        fp = ckan_integ_url+package_name+'/download/'+dataset_name\n",
    "        print(\"fp lautet:\"+fp)\n"
   ]
  },
  {
   "cell_type": "markdown",
   "metadata": {},
   "source": [
    "Beachte, wie das SAS Datum (ohne Format) in ein UNIX Datum umgerechnet und als Datumsformat dargestellt wird! Siehe dazu `https://stackoverflow.com/questions/26923564/convert-sas-numeric-to-python-datetime`"
   ]
  },
  {
   "cell_type": "code",
   "execution_count": 31,
   "metadata": {},
   "outputs": [
    {
     "name": "stdout",
     "output_type": "stream",
     "text": [
      "web\n"
     ]
    },
    {
     "data": {
      "text/plain": [
       "StichtagDatJahr    datetime64[ns]\n",
       "QuarSort                    int64\n",
       "QuarLang                   object\n",
       "KreisSort                   int64\n",
       "KreisLang                  object\n",
       "Zimmerzahl                 object\n",
       "Fl_EFH                      int64\n",
       "Fl_Eigentum                 int64\n",
       "Fl_Neubau                   int64\n",
       "AnzWhgLeer                  int64\n",
       "AnzWhgBestand               int64\n",
       "dtype: object"
      ]
     },
     "execution_count": 31,
     "metadata": {},
     "output_type": "execute_result"
    }
   ],
   "source": [
    "# Read the data\n",
    "if data_source == \"dropzone\":\n",
    "    data2betested = pd.read_csv(\n",
    "        fp\n",
    "        , sep=','\n",
    "        ,parse_dates=['StichtagDatJahr']\n",
    "        ,low_memory=False\n",
    "    )\n",
    "    print(\"dropzone\")\n",
    "else:\n",
    "    r = requests.get(fp, verify=False)  \n",
    "    r.encoding = 'utf-8'\n",
    "    data2betested = pd.read_csv(\n",
    "        io.StringIO(r.text)\n",
    "        ,parse_dates=['StichtagDatJahr']\n",
    "        # KONVERTIERE DAS SAS DATUM IN EIN UNIXDATUM UND FORMATIERE ES\n",
    "        #, date_parser=lambda s: epoch + datetime.timedelta(days=int(s))\n",
    "        ,low_memory=False)\n",
    "    print(\"web\")\n",
    "\n",
    "data2betested.dtypes"
   ]
  },
  {
   "cell_type": "markdown",
   "metadata": {},
   "source": [
    "Berechne weitere Attribute falls notwendig"
   ]
  },
  {
   "cell_type": "code",
   "execution_count": 58,
   "metadata": {},
   "outputs": [
    {
     "data": {
      "text/plain": [
       "StichtagDatJahr        datetime64[ns]\n",
       "QuarSort                        int64\n",
       "QuarLang                       object\n",
       "KreisSort                       int64\n",
       "KreisLang                      object\n",
       "Zimmerzahl                     object\n",
       "Fl_EFH                          int64\n",
       "Fl_Eigentum                     int64\n",
       "Fl_Neubau                       int64\n",
       "AnzWhgLeer                      int64\n",
       "AnzWhgBestand                   int64\n",
       "StichtagDatJahr_str            object\n",
       "dtype: object"
      ]
     },
     "execution_count": 58,
     "metadata": {},
     "output_type": "execute_result"
    }
   ],
   "source": [
    "data2betested = (\n",
    "    data2betested\n",
    "    .copy()\n",
    "    .assign(\n",
    "        #Aktualisierungs_Datum_str= lambda x: x.Aktualisierungs_Datum.astype(str),\n",
    "        StichtagDatJahr_str = lambda x: x.StichtagDatJahr.astype(str),\n",
    "    )\n",
    "    .sort_values('StichtagDatJahr', ascending=False)\n",
    "    )\n",
    "data2betested.dtypes"
   ]
  },
  {
   "cell_type": "markdown",
   "metadata": {},
   "source": [
    "In der Folge ein paar erste Tests:"
   ]
  },
  {
   "cell_type": "markdown",
   "metadata": {},
   "source": [
    " - 1) Zeige eine kurze Vorschau der importierten Daten\n",
    " - 2) Weise die Datentypen aus\n",
    " - 3) Zeige die Shape (Umfang) des Datensatzes an"
   ]
  },
  {
   "cell_type": "code",
   "execution_count": 59,
   "metadata": {},
   "outputs": [],
   "source": [
    "#data2betested.head(6)"
   ]
  },
  {
   "cell_type": "code",
   "execution_count": 60,
   "metadata": {},
   "outputs": [
    {
     "data": {
      "text/plain": [
       "(8269, 12)"
      ]
     },
     "execution_count": 60,
     "metadata": {},
     "output_type": "execute_result"
    }
   ],
   "source": [
    "data2betested.shape"
   ]
  },
  {
   "cell_type": "markdown",
   "metadata": {},
   "source": [
    "Beschreibe einzelne Attribute"
   ]
  },
  {
   "cell_type": "code",
   "execution_count": 61,
   "metadata": {},
   "outputs": [
    {
     "data": {
      "text/html": [
       "<div>\n",
       "<style scoped>\n",
       "    .dataframe tbody tr th:only-of-type {\n",
       "        vertical-align: middle;\n",
       "    }\n",
       "\n",
       "    .dataframe tbody tr th {\n",
       "        vertical-align: top;\n",
       "    }\n",
       "\n",
       "    .dataframe thead th {\n",
       "        text-align: right;\n",
       "    }\n",
       "</style>\n",
       "<table border=\"1\" class=\"dataframe\">\n",
       "  <thead>\n",
       "    <tr style=\"text-align: right;\">\n",
       "      <th></th>\n",
       "      <th>QuarSort</th>\n",
       "      <th>KreisSort</th>\n",
       "      <th>Fl_EFH</th>\n",
       "      <th>Fl_Eigentum</th>\n",
       "      <th>Fl_Neubau</th>\n",
       "      <th>AnzWhgLeer</th>\n",
       "      <th>AnzWhgBestand</th>\n",
       "    </tr>\n",
       "  </thead>\n",
       "  <tbody>\n",
       "    <tr>\n",
       "      <th>count</th>\n",
       "      <td>8269</td>\n",
       "      <td>8269</td>\n",
       "      <td>8269</td>\n",
       "      <td>8269</td>\n",
       "      <td>8269</td>\n",
       "      <td>8269</td>\n",
       "      <td>8269</td>\n",
       "    </tr>\n",
       "    <tr>\n",
       "      <th>mean</th>\n",
       "      <td>70</td>\n",
       "      <td>7</td>\n",
       "      <td>0</td>\n",
       "      <td>0</td>\n",
       "      <td>0</td>\n",
       "      <td>0</td>\n",
       "      <td>243</td>\n",
       "    </tr>\n",
       "    <tr>\n",
       "      <th>std</th>\n",
       "      <td>35</td>\n",
       "      <td>3</td>\n",
       "      <td>0</td>\n",
       "      <td>0</td>\n",
       "      <td>0</td>\n",
       "      <td>2</td>\n",
       "      <td>647</td>\n",
       "    </tr>\n",
       "    <tr>\n",
       "      <th>min</th>\n",
       "      <td>11</td>\n",
       "      <td>1</td>\n",
       "      <td>0</td>\n",
       "      <td>0</td>\n",
       "      <td>0</td>\n",
       "      <td>0</td>\n",
       "      <td>0</td>\n",
       "    </tr>\n",
       "    <tr>\n",
       "      <th>25%</th>\n",
       "      <td>34</td>\n",
       "      <td>3</td>\n",
       "      <td>0</td>\n",
       "      <td>0</td>\n",
       "      <td>0</td>\n",
       "      <td>0</td>\n",
       "      <td>5</td>\n",
       "    </tr>\n",
       "    <tr>\n",
       "      <th>50%</th>\n",
       "      <td>72</td>\n",
       "      <td>7</td>\n",
       "      <td>0</td>\n",
       "      <td>0</td>\n",
       "      <td>0</td>\n",
       "      <td>0</td>\n",
       "      <td>26</td>\n",
       "    </tr>\n",
       "    <tr>\n",
       "      <th>75%</th>\n",
       "      <td>101</td>\n",
       "      <td>10</td>\n",
       "      <td>1</td>\n",
       "      <td>1</td>\n",
       "      <td>1</td>\n",
       "      <td>0</td>\n",
       "      <td>121</td>\n",
       "    </tr>\n",
       "    <tr>\n",
       "      <th>max</th>\n",
       "      <td>123</td>\n",
       "      <td>12</td>\n",
       "      <td>1</td>\n",
       "      <td>1</td>\n",
       "      <td>1</td>\n",
       "      <td>49</td>\n",
       "      <td>6634</td>\n",
       "    </tr>\n",
       "  </tbody>\n",
       "</table>\n",
       "</div>"
      ],
      "text/plain": [
       "       QuarSort  KreisSort  Fl_EFH  Fl_Eigentum  Fl_Neubau  AnzWhgLeer  AnzWhgBestand\n",
       "count      8269       8269    8269         8269       8269        8269           8269\n",
       "mean         70          7       0            0          0           0            243\n",
       "std          35          3       0            0          0           2            647\n",
       "min          11          1       0            0          0           0              0\n",
       "25%          34          3       0            0          0           0              5\n",
       "50%          72          7       0            0          0           0             26\n",
       "75%         101         10       1            1          1           0            121\n",
       "max         123         12       1            1          1          49           6634"
      ]
     },
     "execution_count": 61,
     "metadata": {},
     "output_type": "execute_result"
    }
   ],
   "source": [
    "data2betested.describe()"
   ]
  },
  {
   "cell_type": "markdown",
   "metadata": {},
   "source": [
    "Wie viele Nullwerte gibt es im Datensatz?"
   ]
  },
  {
   "cell_type": "code",
   "execution_count": 62,
   "metadata": {
    "scrolled": true
   },
   "outputs": [
    {
     "data": {
      "text/plain": [
       "StichtagDatJahr        0\n",
       "QuarSort               0\n",
       "QuarLang               0\n",
       "KreisSort              0\n",
       "KreisLang              0\n",
       "Zimmerzahl             0\n",
       "Fl_EFH                 0\n",
       "Fl_Eigentum            0\n",
       "Fl_Neubau              0\n",
       "AnzWhgLeer             0\n",
       "AnzWhgBestand          0\n",
       "StichtagDatJahr_str    0\n",
       "dtype: int64"
      ]
     },
     "execution_count": 62,
     "metadata": {},
     "output_type": "execute_result"
    }
   ],
   "source": [
    "data2betested.isnull().sum()"
   ]
  },
  {
   "cell_type": "markdown",
   "metadata": {
    "colab_type": "text",
    "id": "1dTPVmmsgOVx"
   },
   "source": [
    "### Verwende das Datum als Index\n",
    "\n",
    "While we did already parse the `datetime` column into the respective datetime type, it currently is just a regular column. \n",
    "**To enable quick and convenient queries and aggregations, we need to turn it into the index of the DataFrame**"
   ]
  },
  {
   "cell_type": "code",
   "execution_count": 63,
   "metadata": {},
   "outputs": [],
   "source": [
    "data2betested = data2betested.set_index(\"StichtagDatJahr\")"
   ]
  },
  {
   "cell_type": "code",
   "execution_count": 64,
   "metadata": {},
   "outputs": [],
   "source": [
    "data2betested['StichtagDatJahr_str'] = data2betested.index.strftime(\"%Y-06-01\")"
   ]
  },
  {
   "cell_type": "code",
   "execution_count": 65,
   "metadata": {},
   "outputs": [
    {
     "name": "stdout",
     "output_type": "stream",
     "text": [
      "<class 'pandas.core.frame.DataFrame'>\n",
      "DatetimeIndex: 8269 entries, 2022-01-01 to 2014-01-01\n",
      "Data columns (total 11 columns):\n",
      " #   Column               Non-Null Count  Dtype \n",
      "---  ------               --------------  ----- \n",
      " 0   QuarSort             8269 non-null   int64 \n",
      " 1   QuarLang             8269 non-null   object\n",
      " 2   KreisSort            8269 non-null   int64 \n",
      " 3   KreisLang            8269 non-null   object\n",
      " 4   Zimmerzahl           8269 non-null   object\n",
      " 5   Fl_EFH               8269 non-null   int64 \n",
      " 6   Fl_Eigentum          8269 non-null   int64 \n",
      " 7   Fl_Neubau            8269 non-null   int64 \n",
      " 8   AnzWhgLeer           8269 non-null   int64 \n",
      " 9   AnzWhgBestand        8269 non-null   int64 \n",
      " 10  StichtagDatJahr_str  8269 non-null   object\n",
      "dtypes: int64(7), object(4)\n",
      "memory usage: 775.2+ KB\n"
     ]
    },
    {
     "data": {
      "text/plain": [
       "Int64Index([1], dtype='int64', name='StichtagDatJahr')"
      ]
     },
     "execution_count": 65,
     "metadata": {},
     "output_type": "execute_result"
    }
   ],
   "source": [
    "data2betested.info()\n",
    "data2betested.index.day.unique()"
   ]
  },
  {
   "cell_type": "markdown",
   "metadata": {},
   "source": [
    "### Einfache Visualisierungen zur Plausi"
   ]
  },
  {
   "cell_type": "markdown",
   "metadata": {},
   "source": [
    "Exploriere die Daten mit Pivottable.JS"
   ]
  },
  {
   "cell_type": "code",
   "execution_count": 29,
   "metadata": {},
   "outputs": [
    {
     "data": {
      "text/html": [
       "\n",
       "        <iframe\n",
       "            width=\"100%\"\n",
       "            height=\"500\"\n",
       "            src=\"pivottablejs.html\"\n",
       "            frameborder=\"0\"\n",
       "            allowfullscreen\n",
       "            \n",
       "        ></iframe>\n",
       "        "
      ],
      "text/plain": [
       "<IPython.lib.display.IFrame at 0x1b1259cb3c8>"
      ]
     },
     "execution_count": 29,
     "metadata": {},
     "output_type": "execute_result"
    }
   ],
   "source": [
    "from pivottablejs import pivot_ui\n",
    "\n",
    "pivot_ui(data2betested)"
   ]
  },
  {
   "cell_type": "markdown",
   "metadata": {},
   "source": [
    "### Zeitpunkte und Zeiträume abfragen\n",
    "\n",
    "A particular powerful feature of the Pandas DataFrame is its indexing capability that also works using time-based entities, such as dates and times. We have already created the index above, so let's put it to use."
   ]
  },
  {
   "cell_type": "code",
   "execution_count": 66,
   "metadata": {},
   "outputs": [
    {
     "data": {
      "text/html": [
       "<div>\n",
       "<style scoped>\n",
       "    .dataframe tbody tr th:only-of-type {\n",
       "        vertical-align: middle;\n",
       "    }\n",
       "\n",
       "    .dataframe tbody tr th {\n",
       "        vertical-align: top;\n",
       "    }\n",
       "\n",
       "    .dataframe thead th {\n",
       "        text-align: right;\n",
       "    }\n",
       "</style>\n",
       "<table border=\"1\" class=\"dataframe\">\n",
       "  <thead>\n",
       "    <tr style=\"text-align: right;\">\n",
       "      <th></th>\n",
       "      <th>QuarSort</th>\n",
       "      <th>QuarLang</th>\n",
       "      <th>KreisSort</th>\n",
       "      <th>KreisLang</th>\n",
       "      <th>Zimmerzahl</th>\n",
       "      <th>Fl_EFH</th>\n",
       "      <th>Fl_Eigentum</th>\n",
       "      <th>Fl_Neubau</th>\n",
       "      <th>AnzWhgLeer</th>\n",
       "      <th>AnzWhgBestand</th>\n",
       "      <th>StichtagDatJahr_str</th>\n",
       "    </tr>\n",
       "    <tr>\n",
       "      <th>StichtagDatJahr</th>\n",
       "      <th></th>\n",
       "      <th></th>\n",
       "      <th></th>\n",
       "      <th></th>\n",
       "      <th></th>\n",
       "      <th></th>\n",
       "      <th></th>\n",
       "      <th></th>\n",
       "      <th></th>\n",
       "      <th></th>\n",
       "      <th></th>\n",
       "    </tr>\n",
       "  </thead>\n",
       "  <tbody>\n",
       "    <tr>\n",
       "      <th>2022-01-01</th>\n",
       "      <td>123</td>\n",
       "      <td>Hirzenbach</td>\n",
       "      <td>12</td>\n",
       "      <td>Kreis 12</td>\n",
       "      <td>6+</td>\n",
       "      <td>1</td>\n",
       "      <td>1</td>\n",
       "      <td>0</td>\n",
       "      <td>0</td>\n",
       "      <td>14</td>\n",
       "      <td>2022-06-01</td>\n",
       "    </tr>\n",
       "    <tr>\n",
       "      <th>2022-01-01</th>\n",
       "      <td>41</td>\n",
       "      <td>Werd</td>\n",
       "      <td>4</td>\n",
       "      <td>Kreis 4</td>\n",
       "      <td>2</td>\n",
       "      <td>0</td>\n",
       "      <td>0</td>\n",
       "      <td>0</td>\n",
       "      <td>1</td>\n",
       "      <td>584</td>\n",
       "      <td>2022-06-01</td>\n",
       "    </tr>\n",
       "    <tr>\n",
       "      <th>2022-01-01</th>\n",
       "      <td>52</td>\n",
       "      <td>Escher Wyss</td>\n",
       "      <td>5</td>\n",
       "      <td>Kreis 5</td>\n",
       "      <td>2</td>\n",
       "      <td>0</td>\n",
       "      <td>0</td>\n",
       "      <td>0</td>\n",
       "      <td>0</td>\n",
       "      <td>681</td>\n",
       "      <td>2022-06-01</td>\n",
       "    </tr>\n",
       "    <tr>\n",
       "      <th>2022-01-01</th>\n",
       "      <td>52</td>\n",
       "      <td>Escher Wyss</td>\n",
       "      <td>5</td>\n",
       "      <td>Kreis 5</td>\n",
       "      <td>1</td>\n",
       "      <td>0</td>\n",
       "      <td>1</td>\n",
       "      <td>1</td>\n",
       "      <td>0</td>\n",
       "      <td>0</td>\n",
       "      <td>2022-06-01</td>\n",
       "    </tr>\n",
       "    <tr>\n",
       "      <th>2022-01-01</th>\n",
       "      <td>52</td>\n",
       "      <td>Escher Wyss</td>\n",
       "      <td>5</td>\n",
       "      <td>Kreis 5</td>\n",
       "      <td>1</td>\n",
       "      <td>0</td>\n",
       "      <td>1</td>\n",
       "      <td>0</td>\n",
       "      <td>0</td>\n",
       "      <td>42</td>\n",
       "      <td>2022-06-01</td>\n",
       "    </tr>\n",
       "  </tbody>\n",
       "</table>\n",
       "</div>"
      ],
      "text/plain": [
       "                 QuarSort     QuarLang  KreisSort KreisLang Zimmerzahl  Fl_EFH  Fl_Eigentum  \\\n",
       "StichtagDatJahr                                                                               \n",
       "2022-01-01            123   Hirzenbach         12  Kreis 12         6+       1            1   \n",
       "2022-01-01             41         Werd          4   Kreis 4          2       0            0   \n",
       "2022-01-01             52  Escher Wyss          5   Kreis 5          2       0            0   \n",
       "2022-01-01             52  Escher Wyss          5   Kreis 5          1       0            1   \n",
       "2022-01-01             52  Escher Wyss          5   Kreis 5          1       0            1   \n",
       "\n",
       "                 Fl_Neubau  AnzWhgLeer  AnzWhgBestand StichtagDatJahr_str  \n",
       "StichtagDatJahr                                                            \n",
       "2022-01-01               0           0             14          2022-06-01  \n",
       "2022-01-01               0           1            584          2022-06-01  \n",
       "2022-01-01               0           0            681          2022-06-01  \n",
       "2022-01-01               1           0              0          2022-06-01  \n",
       "2022-01-01               0           0             42          2022-06-01  "
      ]
     },
     "execution_count": 66,
     "metadata": {},
     "output_type": "execute_result"
    }
   ],
   "source": [
    "data2betested.loc[\"2014\":year_today].head(5)\n",
    "#data2betested.loc[\"2021-10-31\":\"2021-11-30\"].head(2)"
   ]
  },
  {
   "cell_type": "markdown",
   "metadata": {},
   "source": [
    "### Visualisierungen nach Zeitausschnitten"
   ]
  },
  {
   "cell_type": "markdown",
   "metadata": {
    "tags": []
   },
   "source": [
    "#### Entwicklung Leerwohnungen"
   ]
  },
  {
   "cell_type": "code",
   "execution_count": 67,
   "metadata": {
    "tags": []
   },
   "outputs": [
    {
     "data": {
      "text/html": [
       "<div>\n",
       "<style scoped>\n",
       "    .dataframe tbody tr th:only-of-type {\n",
       "        vertical-align: middle;\n",
       "    }\n",
       "\n",
       "    .dataframe tbody tr th {\n",
       "        vertical-align: top;\n",
       "    }\n",
       "\n",
       "    .dataframe thead th {\n",
       "        text-align: right;\n",
       "    }\n",
       "</style>\n",
       "<table border=\"1\" class=\"dataframe\">\n",
       "  <thead>\n",
       "    <tr style=\"text-align: right;\">\n",
       "      <th></th>\n",
       "      <th>StichtagDatJahr</th>\n",
       "      <th>StichtagDatJahr_str</th>\n",
       "      <th>Zimmerzahl</th>\n",
       "      <th>sum_AnzWhgLeer</th>\n",
       "    </tr>\n",
       "  </thead>\n",
       "  <tbody>\n",
       "    <tr>\n",
       "      <th>0</th>\n",
       "      <td>2022-01-01</td>\n",
       "      <td>2022-06-01</td>\n",
       "      <td>6+</td>\n",
       "      <td>4</td>\n",
       "    </tr>\n",
       "    <tr>\n",
       "      <th>1</th>\n",
       "      <td>2022-01-01</td>\n",
       "      <td>2022-06-01</td>\n",
       "      <td>5</td>\n",
       "      <td>11</td>\n",
       "    </tr>\n",
       "    <tr>\n",
       "      <th>2</th>\n",
       "      <td>2022-01-01</td>\n",
       "      <td>2022-06-01</td>\n",
       "      <td>4</td>\n",
       "      <td>23</td>\n",
       "    </tr>\n",
       "  </tbody>\n",
       "</table>\n",
       "</div>"
      ],
      "text/plain": [
       "  StichtagDatJahr StichtagDatJahr_str Zimmerzahl  sum_AnzWhgLeer\n",
       "0      2022-01-01          2022-06-01         6+               4\n",
       "1      2022-01-01          2022-06-01          5              11\n",
       "2      2022-01-01          2022-06-01          4              23"
      ]
     },
     "execution_count": 67,
     "metadata": {},
     "output_type": "execute_result"
    }
   ],
   "source": [
    "#myAgg = data2betested.loc[\"2008-11-30\":\"2021-10-31\"]\n",
    "myAgg = data2betested.loc[\"2014\":year_today]\\\n",
    "    .groupby(['StichtagDatJahr','StichtagDatJahr_str','Zimmerzahl']) \\\n",
    "    .agg(sum_AnzWhgLeer =('AnzWhgLeer', 'sum')) \\\n",
    "    .sort_values('StichtagDatJahr_str', ascending=False) \n",
    "\n",
    "myAgg.reset_index().head(3)\n",
    "#myAgg.reset_index().query('sum_AnzWhgLeer > 0')"
   ]
  },
  {
   "cell_type": "code",
   "execution_count": 68,
   "metadata": {},
   "outputs": [
    {
     "data": {
      "text/html": [
       "\n",
       "<div id=\"altair-viz-b8d755f13b51479c8bc4d942f1de454e\"></div>\n",
       "<script type=\"text/javascript\">\n",
       "  (function(spec, embedOpt){\n",
       "    let outputDiv = document.currentScript.previousElementSibling;\n",
       "    if (outputDiv.id !== \"altair-viz-b8d755f13b51479c8bc4d942f1de454e\") {\n",
       "      outputDiv = document.getElementById(\"altair-viz-b8d755f13b51479c8bc4d942f1de454e\");\n",
       "    }\n",
       "    const paths = {\n",
       "      \"vega\": \"https://cdn.jsdelivr.net/npm//vega@5?noext\",\n",
       "      \"vega-lib\": \"https://cdn.jsdelivr.net/npm//vega-lib?noext\",\n",
       "      \"vega-lite\": \"https://cdn.jsdelivr.net/npm//vega-lite@4.8.1?noext\",\n",
       "      \"vega-embed\": \"https://cdn.jsdelivr.net/npm//vega-embed@6?noext\",\n",
       "    };\n",
       "\n",
       "    function loadScript(lib) {\n",
       "      return new Promise(function(resolve, reject) {\n",
       "        var s = document.createElement('script');\n",
       "        s.src = paths[lib];\n",
       "        s.async = true;\n",
       "        s.onload = () => resolve(paths[lib]);\n",
       "        s.onerror = () => reject(`Error loading script: ${paths[lib]}`);\n",
       "        document.getElementsByTagName(\"head\")[0].appendChild(s);\n",
       "      });\n",
       "    }\n",
       "\n",
       "    function showError(err) {\n",
       "      outputDiv.innerHTML = `<div class=\"error\" style=\"color:red;\">${err}</div>`;\n",
       "      throw err;\n",
       "    }\n",
       "\n",
       "    function displayChart(vegaEmbed) {\n",
       "      vegaEmbed(outputDiv, spec, embedOpt)\n",
       "        .catch(err => showError(`Javascript Error: ${err.message}<br>This usually means there's a typo in your chart specification. See the javascript console for the full traceback.`));\n",
       "    }\n",
       "\n",
       "    if(typeof define === \"function\" && define.amd) {\n",
       "      requirejs.config({paths});\n",
       "      require([\"vega-embed\"], displayChart, err => showError(`Error loading script: ${err.message}`));\n",
       "    } else if (typeof vegaEmbed === \"function\") {\n",
       "      displayChart(vegaEmbed);\n",
       "    } else {\n",
       "      loadScript(\"vega\")\n",
       "        .then(() => loadScript(\"vega-lite\"))\n",
       "        .then(() => loadScript(\"vega-embed\"))\n",
       "        .catch(showError)\n",
       "        .then(() => displayChart(vegaEmbed));\n",
       "    }\n",
       "  })({\"config\": {\"view\": {\"continuousWidth\": 400, \"continuousHeight\": 300}}, \"layer\": [{\"mark\": \"line\", \"encoding\": {\"color\": {\"type\": \"nominal\", \"field\": \"Zimmerzahl\", \"legend\": {\"orient\": \"right\", \"title\": \"Projektstatus\"}}, \"size\": {\"condition\": {\"value\": 0.9, \"selection\": {\"not\": \"selector005\"}}, \"value\": 4}, \"tooltip\": [{\"type\": \"temporal\", \"field\": \"StichtagDatJahr\"}, {\"type\": \"nominal\", \"field\": \"Zimmerzahl\"}, {\"type\": \"quantitative\", \"field\": \"sum_AnzWhgLeer\"}], \"x\": {\"type\": \"temporal\", \"axis\": {\"title\": \"Jahr\"}, \"field\": \"StichtagDatJahr\"}, \"y\": {\"type\": \"quantitative\", \"axis\": {\"title\": \"Anz. Leerwohnungen\"}, \"field\": \"sum_AnzWhgLeer\"}}, \"selection\": {\"selector006\": {\"type\": \"interval\", \"bind\": \"scales\", \"encodings\": [\"x\", \"y\"]}}, \"title\": \"Leerwohnungen nach Zimmerzahl\"}, {\"mark\": \"circle\", \"encoding\": {\"color\": {\"type\": \"nominal\", \"field\": \"Zimmerzahl\", \"legend\": {\"orient\": \"right\", \"title\": \"Projektstatus\"}}, \"opacity\": {\"value\": 0.75}, \"tooltip\": [{\"type\": \"temporal\", \"field\": \"StichtagDatJahr\"}, {\"type\": \"nominal\", \"field\": \"Zimmerzahl\"}, {\"type\": \"quantitative\", \"field\": \"sum_AnzWhgLeer\"}], \"x\": {\"type\": \"temporal\", \"axis\": {\"title\": \"Jahr\"}, \"field\": \"StichtagDatJahr\"}, \"y\": {\"type\": \"quantitative\", \"axis\": {\"title\": \"Anz. Leerwohnungen\"}, \"field\": \"sum_AnzWhgLeer\"}}, \"height\": 350, \"selection\": {\"selector005\": {\"type\": \"single\", \"on\": \"mouseover\", \"fields\": [\"ProjStatus\"], \"nearest\": true}}, \"title\": \"Leerwohnungen nach Zimmerzahl\", \"width\": 750}], \"data\": {\"name\": \"data-57269f04119b37216ba748c0dc9bb104\"}, \"$schema\": \"https://vega.github.io/schema/vega-lite/v4.8.1.json\", \"datasets\": {\"data-57269f04119b37216ba748c0dc9bb104\": [{\"StichtagDatJahr\": \"2022-01-01T00:00:00\", \"StichtagDatJahr_str\": \"2022-06-01\", \"Zimmerzahl\": \"6+\", \"sum_AnzWhgLeer\": 4}, {\"StichtagDatJahr\": \"2022-01-01T00:00:00\", \"StichtagDatJahr_str\": \"2022-06-01\", \"Zimmerzahl\": \"5\", \"sum_AnzWhgLeer\": 11}, {\"StichtagDatJahr\": \"2022-01-01T00:00:00\", \"StichtagDatJahr_str\": \"2022-06-01\", \"Zimmerzahl\": \"4\", \"sum_AnzWhgLeer\": 23}, {\"StichtagDatJahr\": \"2022-01-01T00:00:00\", \"StichtagDatJahr_str\": \"2022-06-01\", \"Zimmerzahl\": \"3\", \"sum_AnzWhgLeer\": 53}, {\"StichtagDatJahr\": \"2022-01-01T00:00:00\", \"StichtagDatJahr_str\": \"2022-06-01\", \"Zimmerzahl\": \"2\", \"sum_AnzWhgLeer\": 36}, {\"StichtagDatJahr\": \"2022-01-01T00:00:00\", \"StichtagDatJahr_str\": \"2022-06-01\", \"Zimmerzahl\": \"1\", \"sum_AnzWhgLeer\": 34}, {\"StichtagDatJahr\": \"2021-01-01T00:00:00\", \"StichtagDatJahr_str\": \"2021-06-01\", \"Zimmerzahl\": \"6+\", \"sum_AnzWhgLeer\": 7}, {\"StichtagDatJahr\": \"2021-01-01T00:00:00\", \"StichtagDatJahr_str\": \"2021-06-01\", \"Zimmerzahl\": \"5\", \"sum_AnzWhgLeer\": 3}, {\"StichtagDatJahr\": \"2021-01-01T00:00:00\", \"StichtagDatJahr_str\": \"2021-06-01\", \"Zimmerzahl\": \"4\", \"sum_AnzWhgLeer\": 39}, {\"StichtagDatJahr\": \"2021-01-01T00:00:00\", \"StichtagDatJahr_str\": \"2021-06-01\", \"Zimmerzahl\": \"3\", \"sum_AnzWhgLeer\": 130}, {\"StichtagDatJahr\": \"2021-01-01T00:00:00\", \"StichtagDatJahr_str\": \"2021-06-01\", \"Zimmerzahl\": \"2\", \"sum_AnzWhgLeer\": 93}, {\"StichtagDatJahr\": \"2021-01-01T00:00:00\", \"StichtagDatJahr_str\": \"2021-06-01\", \"Zimmerzahl\": \"1\", \"sum_AnzWhgLeer\": 107}, {\"StichtagDatJahr\": \"2020-01-01T00:00:00\", \"StichtagDatJahr_str\": \"2020-06-01\", \"Zimmerzahl\": \"3\", \"sum_AnzWhgLeer\": 107}, {\"StichtagDatJahr\": \"2020-01-01T00:00:00\", \"StichtagDatJahr_str\": \"2020-06-01\", \"Zimmerzahl\": \"1\", \"sum_AnzWhgLeer\": 37}, {\"StichtagDatJahr\": \"2020-01-01T00:00:00\", \"StichtagDatJahr_str\": \"2020-06-01\", \"Zimmerzahl\": \"2\", \"sum_AnzWhgLeer\": 64}, {\"StichtagDatJahr\": \"2020-01-01T00:00:00\", \"StichtagDatJahr_str\": \"2020-06-01\", \"Zimmerzahl\": \"6+\", \"sum_AnzWhgLeer\": 12}, {\"StichtagDatJahr\": \"2020-01-01T00:00:00\", \"StichtagDatJahr_str\": \"2020-06-01\", \"Zimmerzahl\": \"4\", \"sum_AnzWhgLeer\": 100}, {\"StichtagDatJahr\": \"2020-01-01T00:00:00\", \"StichtagDatJahr_str\": \"2020-06-01\", \"Zimmerzahl\": \"5\", \"sum_AnzWhgLeer\": 19}, {\"StichtagDatJahr\": \"2019-01-01T00:00:00\", \"StichtagDatJahr_str\": \"2019-06-01\", \"Zimmerzahl\": \"6+\", \"sum_AnzWhgLeer\": 22}, {\"StichtagDatJahr\": \"2019-01-01T00:00:00\", \"StichtagDatJahr_str\": \"2019-06-01\", \"Zimmerzahl\": \"5\", \"sum_AnzWhgLeer\": 20}, {\"StichtagDatJahr\": \"2019-01-01T00:00:00\", \"StichtagDatJahr_str\": \"2019-06-01\", \"Zimmerzahl\": \"4\", \"sum_AnzWhgLeer\": 73}, {\"StichtagDatJahr\": \"2019-01-01T00:00:00\", \"StichtagDatJahr_str\": \"2019-06-01\", \"Zimmerzahl\": \"3\", \"sum_AnzWhgLeer\": 110}, {\"StichtagDatJahr\": \"2019-01-01T00:00:00\", \"StichtagDatJahr_str\": \"2019-06-01\", \"Zimmerzahl\": \"2\", \"sum_AnzWhgLeer\": 53}, {\"StichtagDatJahr\": \"2019-01-01T00:00:00\", \"StichtagDatJahr_str\": \"2019-06-01\", \"Zimmerzahl\": \"1\", \"sum_AnzWhgLeer\": 28}, {\"StichtagDatJahr\": \"2018-01-01T00:00:00\", \"StichtagDatJahr_str\": \"2018-06-01\", \"Zimmerzahl\": \"5\", \"sum_AnzWhgLeer\": 22}, {\"StichtagDatJahr\": \"2018-01-01T00:00:00\", \"StichtagDatJahr_str\": \"2018-06-01\", \"Zimmerzahl\": \"6+\", \"sum_AnzWhgLeer\": 18}, {\"StichtagDatJahr\": \"2018-01-01T00:00:00\", \"StichtagDatJahr_str\": \"2018-06-01\", \"Zimmerzahl\": \"4\", \"sum_AnzWhgLeer\": 107}, {\"StichtagDatJahr\": \"2018-01-01T00:00:00\", \"StichtagDatJahr_str\": \"2018-06-01\", \"Zimmerzahl\": \"3\", \"sum_AnzWhgLeer\": 173}, {\"StichtagDatJahr\": \"2018-01-01T00:00:00\", \"StichtagDatJahr_str\": \"2018-06-01\", \"Zimmerzahl\": \"2\", \"sum_AnzWhgLeer\": 95}, {\"StichtagDatJahr\": \"2018-01-01T00:00:00\", \"StichtagDatJahr_str\": \"2018-06-01\", \"Zimmerzahl\": \"1\", \"sum_AnzWhgLeer\": 32}, {\"StichtagDatJahr\": \"2017-01-01T00:00:00\", \"StichtagDatJahr_str\": \"2017-06-01\", \"Zimmerzahl\": \"6+\", \"sum_AnzWhgLeer\": 10}, {\"StichtagDatJahr\": \"2017-01-01T00:00:00\", \"StichtagDatJahr_str\": \"2017-06-01\", \"Zimmerzahl\": \"5\", \"sum_AnzWhgLeer\": 23}, {\"StichtagDatJahr\": \"2017-01-01T00:00:00\", \"StichtagDatJahr_str\": \"2017-06-01\", \"Zimmerzahl\": \"4\", \"sum_AnzWhgLeer\": 108}, {\"StichtagDatJahr\": \"2017-01-01T00:00:00\", \"StichtagDatJahr_str\": \"2017-06-01\", \"Zimmerzahl\": \"3\", \"sum_AnzWhgLeer\": 143}, {\"StichtagDatJahr\": \"2017-01-01T00:00:00\", \"StichtagDatJahr_str\": \"2017-06-01\", \"Zimmerzahl\": \"2\", \"sum_AnzWhgLeer\": 132}, {\"StichtagDatJahr\": \"2017-01-01T00:00:00\", \"StichtagDatJahr_str\": \"2017-06-01\", \"Zimmerzahl\": \"1\", \"sum_AnzWhgLeer\": 38}, {\"StichtagDatJahr\": \"2016-01-01T00:00:00\", \"StichtagDatJahr_str\": \"2016-06-01\", \"Zimmerzahl\": \"3\", \"sum_AnzWhgLeer\": 146}, {\"StichtagDatJahr\": \"2016-01-01T00:00:00\", \"StichtagDatJahr_str\": \"2016-06-01\", \"Zimmerzahl\": \"1\", \"sum_AnzWhgLeer\": 55}, {\"StichtagDatJahr\": \"2016-01-01T00:00:00\", \"StichtagDatJahr_str\": \"2016-06-01\", \"Zimmerzahl\": \"2\", \"sum_AnzWhgLeer\": 121}, {\"StichtagDatJahr\": \"2016-01-01T00:00:00\", \"StichtagDatJahr_str\": \"2016-06-01\", \"Zimmerzahl\": \"5\", \"sum_AnzWhgLeer\": 45}, {\"StichtagDatJahr\": \"2016-01-01T00:00:00\", \"StichtagDatJahr_str\": \"2016-06-01\", \"Zimmerzahl\": \"4\", \"sum_AnzWhgLeer\": 100}, {\"StichtagDatJahr\": \"2016-01-01T00:00:00\", \"StichtagDatJahr_str\": \"2016-06-01\", \"Zimmerzahl\": \"6+\", \"sum_AnzWhgLeer\": 16}, {\"StichtagDatJahr\": \"2015-01-01T00:00:00\", \"StichtagDatJahr_str\": \"2015-06-01\", \"Zimmerzahl\": \"6+\", \"sum_AnzWhgLeer\": 19}, {\"StichtagDatJahr\": \"2015-01-01T00:00:00\", \"StichtagDatJahr_str\": \"2015-06-01\", \"Zimmerzahl\": \"5\", \"sum_AnzWhgLeer\": 33}, {\"StichtagDatJahr\": \"2015-01-01T00:00:00\", \"StichtagDatJahr_str\": \"2015-06-01\", \"Zimmerzahl\": \"4\", \"sum_AnzWhgLeer\": 99}, {\"StichtagDatJahr\": \"2015-01-01T00:00:00\", \"StichtagDatJahr_str\": \"2015-06-01\", \"Zimmerzahl\": \"3\", \"sum_AnzWhgLeer\": 173}, {\"StichtagDatJahr\": \"2015-01-01T00:00:00\", \"StichtagDatJahr_str\": \"2015-06-01\", \"Zimmerzahl\": \"2\", \"sum_AnzWhgLeer\": 123}, {\"StichtagDatJahr\": \"2015-01-01T00:00:00\", \"StichtagDatJahr_str\": \"2015-06-01\", \"Zimmerzahl\": \"1\", \"sum_AnzWhgLeer\": 36}, {\"StichtagDatJahr\": \"2014-01-01T00:00:00\", \"StichtagDatJahr_str\": \"2014-06-01\", \"Zimmerzahl\": \"4\", \"sum_AnzWhgLeer\": 116}, {\"StichtagDatJahr\": \"2014-01-01T00:00:00\", \"StichtagDatJahr_str\": \"2014-06-01\", \"Zimmerzahl\": \"3\", \"sum_AnzWhgLeer\": 145}, {\"StichtagDatJahr\": \"2014-01-01T00:00:00\", \"StichtagDatJahr_str\": \"2014-06-01\", \"Zimmerzahl\": \"2\", \"sum_AnzWhgLeer\": 103}, {\"StichtagDatJahr\": \"2014-01-01T00:00:00\", \"StichtagDatJahr_str\": \"2014-06-01\", \"Zimmerzahl\": \"5\", \"sum_AnzWhgLeer\": 40}, {\"StichtagDatJahr\": \"2014-01-01T00:00:00\", \"StichtagDatJahr_str\": \"2014-06-01\", \"Zimmerzahl\": \"6+\", \"sum_AnzWhgLeer\": 16}, {\"StichtagDatJahr\": \"2014-01-01T00:00:00\", \"StichtagDatJahr_str\": \"2014-06-01\", \"Zimmerzahl\": \"1\", \"sum_AnzWhgLeer\": 51}]}}, {\"mode\": \"vega-lite\"});\n",
       "</script>"
      ],
      "text/plain": [
       "alt.LayerChart(...)"
      ]
     },
     "execution_count": 68,
     "metadata": {},
     "output_type": "execute_result"
    }
   ],
   "source": [
    "myTitle=\"Leerwohnungen nach Zimmerzahl\"\n",
    "\n",
    "highlight = alt.selection(type='single', on='mouseover',\n",
    "                          fields=['ProjStatus'], nearest=True)\n",
    "#x='date:StichtagDatJahr',\n",
    "base = alt.Chart(myAgg.reset_index().query('sum_AnzWhgLeer > 0'), title=myTitle).encode(\n",
    "    x=alt.X('StichtagDatJahr', axis=alt.Axis(title='Jahr'))# , axis=alt.Axis(format='%', title='percentage')\n",
    "    , y=alt.X('sum_AnzWhgLeer', axis=alt.Axis(title='Anz. Leerwohnungen'))\n",
    "    , color=alt.Color('Zimmerzahl', legend=alt.Legend(title=\"Projektstatus\", orient=\"right\"))  \n",
    "    , tooltip=['StichtagDatJahr', 'Zimmerzahl','sum_AnzWhgLeer']    \n",
    ")\n",
    "points = base.mark_circle().encode(\n",
    "    opacity=alt.value(0.75)\n",
    ").add_selection(\n",
    "    highlight\n",
    ").properties(\n",
    "    width=750 , height=350\n",
    ")\n",
    "lines = base.mark_line().encode(\n",
    "    size=alt.condition(~highlight, alt.value(0.9), alt.value(4))\n",
    ").interactive()\n",
    "\n",
    "lines + points"
   ]
  },
  {
   "cell_type": "markdown",
   "metadata": {
    "tags": []
   },
   "source": [
    "#### Entwicklung aller Leerwohnungen nach Stadtkreis"
   ]
  },
  {
   "cell_type": "code",
   "execution_count": 69,
   "metadata": {},
   "outputs": [
    {
     "data": {
      "text/plain": [
       "Index(['QuarSort', 'QuarLang', 'KreisSort', 'KreisLang', 'Zimmerzahl', 'Fl_EFH', 'Fl_Eigentum',\n",
       "       'Fl_Neubau', 'AnzWhgLeer', 'AnzWhgBestand', 'StichtagDatJahr_str'],\n",
       "      dtype='object')"
      ]
     },
     "execution_count": 69,
     "metadata": {},
     "output_type": "execute_result"
    }
   ],
   "source": [
    "data2betested.columns"
   ]
  },
  {
   "cell_type": "code",
   "execution_count": 70,
   "metadata": {},
   "outputs": [
    {
     "data": {
      "text/html": [
       "<div>\n",
       "<style scoped>\n",
       "    .dataframe tbody tr th:only-of-type {\n",
       "        vertical-align: middle;\n",
       "    }\n",
       "\n",
       "    .dataframe tbody tr th {\n",
       "        vertical-align: top;\n",
       "    }\n",
       "\n",
       "    .dataframe thead th {\n",
       "        text-align: right;\n",
       "    }\n",
       "</style>\n",
       "<table border=\"1\" class=\"dataframe\">\n",
       "  <thead>\n",
       "    <tr style=\"text-align: right;\">\n",
       "      <th></th>\n",
       "      <th>StichtagDatJahr</th>\n",
       "      <th>StichtagDatJahr_str</th>\n",
       "      <th>KreisSort</th>\n",
       "      <th>KreisLang</th>\n",
       "      <th>sum_AnzWhgLeer</th>\n",
       "    </tr>\n",
       "  </thead>\n",
       "  <tbody>\n",
       "    <tr>\n",
       "      <th>0</th>\n",
       "      <td>2022-01-01</td>\n",
       "      <td>2022-06-01</td>\n",
       "      <td>12</td>\n",
       "      <td>Kreis 12</td>\n",
       "      <td>18</td>\n",
       "    </tr>\n",
       "    <tr>\n",
       "      <th>1</th>\n",
       "      <td>2022-01-01</td>\n",
       "      <td>2022-06-01</td>\n",
       "      <td>6</td>\n",
       "      <td>Kreis 6</td>\n",
       "      <td>5</td>\n",
       "    </tr>\n",
       "    <tr>\n",
       "      <th>2</th>\n",
       "      <td>2022-01-01</td>\n",
       "      <td>2022-06-01</td>\n",
       "      <td>1</td>\n",
       "      <td>Kreis 1</td>\n",
       "      <td>5</td>\n",
       "    </tr>\n",
       "  </tbody>\n",
       "</table>\n",
       "</div>"
      ],
      "text/plain": [
       "  StichtagDatJahr StichtagDatJahr_str  KreisSort KreisLang  sum_AnzWhgLeer\n",
       "0      2022-01-01          2022-06-01         12  Kreis 12              18\n",
       "1      2022-01-01          2022-06-01          6   Kreis 6               5\n",
       "2      2022-01-01          2022-06-01          1   Kreis 1               5"
      ]
     },
     "execution_count": 70,
     "metadata": {},
     "output_type": "execute_result"
    }
   ],
   "source": [
    "#myAgg = data2betested.loc[\"2008-11-30\":\"2021-10-31\"]\n",
    "myAgg = data2betested.loc[\"2014\":year_today]\\\n",
    "    .groupby(['StichtagDatJahr','StichtagDatJahr_str','KreisSort', 'KreisLang']) \\\n",
    "    .agg(sum_AnzWhgLeer =('AnzWhgLeer', 'sum')) \\\n",
    "    .sort_values('StichtagDatJahr_str', ascending=False) \n",
    "\n",
    "myAgg.reset_index().head(3)"
   ]
  },
  {
   "cell_type": "code",
   "execution_count": 71,
   "metadata": {},
   "outputs": [
    {
     "data": {
      "text/html": [
       "\n",
       "<div id=\"altair-viz-e31c9a4514ff4b31948dfd31eae72357\"></div>\n",
       "<script type=\"text/javascript\">\n",
       "  (function(spec, embedOpt){\n",
       "    let outputDiv = document.currentScript.previousElementSibling;\n",
       "    if (outputDiv.id !== \"altair-viz-e31c9a4514ff4b31948dfd31eae72357\") {\n",
       "      outputDiv = document.getElementById(\"altair-viz-e31c9a4514ff4b31948dfd31eae72357\");\n",
       "    }\n",
       "    const paths = {\n",
       "      \"vega\": \"https://cdn.jsdelivr.net/npm//vega@5?noext\",\n",
       "      \"vega-lib\": \"https://cdn.jsdelivr.net/npm//vega-lib?noext\",\n",
       "      \"vega-lite\": \"https://cdn.jsdelivr.net/npm//vega-lite@4.8.1?noext\",\n",
       "      \"vega-embed\": \"https://cdn.jsdelivr.net/npm//vega-embed@6?noext\",\n",
       "    };\n",
       "\n",
       "    function loadScript(lib) {\n",
       "      return new Promise(function(resolve, reject) {\n",
       "        var s = document.createElement('script');\n",
       "        s.src = paths[lib];\n",
       "        s.async = true;\n",
       "        s.onload = () => resolve(paths[lib]);\n",
       "        s.onerror = () => reject(`Error loading script: ${paths[lib]}`);\n",
       "        document.getElementsByTagName(\"head\")[0].appendChild(s);\n",
       "      });\n",
       "    }\n",
       "\n",
       "    function showError(err) {\n",
       "      outputDiv.innerHTML = `<div class=\"error\" style=\"color:red;\">${err}</div>`;\n",
       "      throw err;\n",
       "    }\n",
       "\n",
       "    function displayChart(vegaEmbed) {\n",
       "      vegaEmbed(outputDiv, spec, embedOpt)\n",
       "        .catch(err => showError(`Javascript Error: ${err.message}<br>This usually means there's a typo in your chart specification. See the javascript console for the full traceback.`));\n",
       "    }\n",
       "\n",
       "    if(typeof define === \"function\" && define.amd) {\n",
       "      requirejs.config({paths});\n",
       "      require([\"vega-embed\"], displayChart, err => showError(`Error loading script: ${err.message}`));\n",
       "    } else if (typeof vegaEmbed === \"function\") {\n",
       "      displayChart(vegaEmbed);\n",
       "    } else {\n",
       "      loadScript(\"vega\")\n",
       "        .then(() => loadScript(\"vega-lite\"))\n",
       "        .then(() => loadScript(\"vega-embed\"))\n",
       "        .catch(showError)\n",
       "        .then(() => displayChart(vegaEmbed));\n",
       "    }\n",
       "  })({\"config\": {\"view\": {\"continuousWidth\": 400, \"continuousHeight\": 300}}, \"layer\": [{\"mark\": \"line\", \"encoding\": {\"color\": {\"type\": \"nominal\", \"field\": \"KreisLang\", \"legend\": {\"orient\": \"right\", \"title\": \"Stadtkreis\"}}, \"size\": {\"condition\": {\"value\": 0.9, \"selection\": {\"not\": \"selector007\"}}, \"value\": 4}, \"tooltip\": [{\"type\": \"temporal\", \"field\": \"StichtagDatJahr\"}, {\"type\": \"quantitative\", \"field\": \"KreisSort\"}, {\"type\": \"nominal\", \"field\": \"KreisLang\"}, {\"type\": \"quantitative\", \"field\": \"sum_AnzWhgLeer\"}], \"x\": {\"type\": \"temporal\", \"axis\": {\"title\": \"Jahr\"}, \"field\": \"StichtagDatJahr\"}, \"y\": {\"type\": \"quantitative\", \"axis\": {\"title\": \"Anz. Leerwohnungen\"}, \"field\": \"sum_AnzWhgLeer\"}}, \"selection\": {\"selector008\": {\"type\": \"interval\", \"bind\": \"scales\", \"encodings\": [\"x\", \"y\"]}}, \"title\": \"Entwicklung aller Leerwohnungen nach Stadtkreis\"}, {\"mark\": \"circle\", \"encoding\": {\"color\": {\"type\": \"nominal\", \"field\": \"KreisLang\", \"legend\": {\"orient\": \"right\", \"title\": \"Stadtkreis\"}}, \"opacity\": {\"value\": 0.75}, \"tooltip\": [{\"type\": \"temporal\", \"field\": \"StichtagDatJahr\"}, {\"type\": \"quantitative\", \"field\": \"KreisSort\"}, {\"type\": \"nominal\", \"field\": \"KreisLang\"}, {\"type\": \"quantitative\", \"field\": \"sum_AnzWhgLeer\"}], \"x\": {\"type\": \"temporal\", \"axis\": {\"title\": \"Jahr\"}, \"field\": \"StichtagDatJahr\"}, \"y\": {\"type\": \"quantitative\", \"axis\": {\"title\": \"Anz. Leerwohnungen\"}, \"field\": \"sum_AnzWhgLeer\"}}, \"height\": 350, \"selection\": {\"selector007\": {\"type\": \"single\", \"on\": \"mouseover\", \"fields\": [\"ProjStatus\"], \"nearest\": true}}, \"title\": \"Entwicklung aller Leerwohnungen nach Stadtkreis\", \"width\": 750}], \"data\": {\"name\": \"data-02bc7577797e117c6e505552ff57e761\"}, \"$schema\": \"https://vega.github.io/schema/vega-lite/v4.8.1.json\", \"datasets\": {\"data-02bc7577797e117c6e505552ff57e761\": [{\"StichtagDatJahr\": \"2022-01-01T00:00:00\", \"StichtagDatJahr_str\": \"2022-06-01\", \"KreisSort\": 12, \"KreisLang\": \"Kreis 12\", \"sum_AnzWhgLeer\": 18}, {\"StichtagDatJahr\": \"2022-01-01T00:00:00\", \"StichtagDatJahr_str\": \"2022-06-01\", \"KreisSort\": 6, \"KreisLang\": \"Kreis 6\", \"sum_AnzWhgLeer\": 5}, {\"StichtagDatJahr\": \"2022-01-01T00:00:00\", \"StichtagDatJahr_str\": \"2022-06-01\", \"KreisSort\": 1, \"KreisLang\": \"Kreis 1\", \"sum_AnzWhgLeer\": 5}, {\"StichtagDatJahr\": \"2022-01-01T00:00:00\", \"StichtagDatJahr_str\": \"2022-06-01\", \"KreisSort\": 2, \"KreisLang\": \"Kreis 2\", \"sum_AnzWhgLeer\": 16}, {\"StichtagDatJahr\": \"2022-01-01T00:00:00\", \"StichtagDatJahr_str\": \"2022-06-01\", \"KreisSort\": 3, \"KreisLang\": \"Kreis 3\", \"sum_AnzWhgLeer\": 5}, {\"StichtagDatJahr\": \"2022-01-01T00:00:00\", \"StichtagDatJahr_str\": \"2022-06-01\", \"KreisSort\": 5, \"KreisLang\": \"Kreis 5\", \"sum_AnzWhgLeer\": 15}, {\"StichtagDatJahr\": \"2022-01-01T00:00:00\", \"StichtagDatJahr_str\": \"2022-06-01\", \"KreisSort\": 4, \"KreisLang\": \"Kreis 4\", \"sum_AnzWhgLeer\": 8}, {\"StichtagDatJahr\": \"2022-01-01T00:00:00\", \"StichtagDatJahr_str\": \"2022-06-01\", \"KreisSort\": 7, \"KreisLang\": \"Kreis 7\", \"sum_AnzWhgLeer\": 13}, {\"StichtagDatJahr\": \"2022-01-01T00:00:00\", \"StichtagDatJahr_str\": \"2022-06-01\", \"KreisSort\": 8, \"KreisLang\": \"Kreis 8\", \"sum_AnzWhgLeer\": 1}, {\"StichtagDatJahr\": \"2022-01-01T00:00:00\", \"StichtagDatJahr_str\": \"2022-06-01\", \"KreisSort\": 9, \"KreisLang\": \"Kreis 9\", \"sum_AnzWhgLeer\": 30}, {\"StichtagDatJahr\": \"2022-01-01T00:00:00\", \"StichtagDatJahr_str\": \"2022-06-01\", \"KreisSort\": 10, \"KreisLang\": \"Kreis 10\", \"sum_AnzWhgLeer\": 15}, {\"StichtagDatJahr\": \"2022-01-01T00:00:00\", \"StichtagDatJahr_str\": \"2022-06-01\", \"KreisSort\": 11, \"KreisLang\": \"Kreis 11\", \"sum_AnzWhgLeer\": 30}, {\"StichtagDatJahr\": \"2021-01-01T00:00:00\", \"StichtagDatJahr_str\": \"2021-06-01\", \"KreisSort\": 6, \"KreisLang\": \"Kreis 6\", \"sum_AnzWhgLeer\": 20}, {\"StichtagDatJahr\": \"2021-01-01T00:00:00\", \"StichtagDatJahr_str\": \"2021-06-01\", \"KreisSort\": 1, \"KreisLang\": \"Kreis 1\", \"sum_AnzWhgLeer\": 15}, {\"StichtagDatJahr\": \"2021-01-01T00:00:00\", \"StichtagDatJahr_str\": \"2021-06-01\", \"KreisSort\": 2, \"KreisLang\": \"Kreis 2\", \"sum_AnzWhgLeer\": 31}, {\"StichtagDatJahr\": \"2021-01-01T00:00:00\", \"StichtagDatJahr_str\": \"2021-06-01\", \"KreisSort\": 3, \"KreisLang\": \"Kreis 3\", \"sum_AnzWhgLeer\": 37}, {\"StichtagDatJahr\": \"2021-01-01T00:00:00\", \"StichtagDatJahr_str\": \"2021-06-01\", \"KreisSort\": 4, \"KreisLang\": \"Kreis 4\", \"sum_AnzWhgLeer\": 22}, {\"StichtagDatJahr\": \"2021-01-01T00:00:00\", \"StichtagDatJahr_str\": \"2021-06-01\", \"KreisSort\": 5, \"KreisLang\": \"Kreis 5\", \"sum_AnzWhgLeer\": 15}, {\"StichtagDatJahr\": \"2021-01-01T00:00:00\", \"StichtagDatJahr_str\": \"2021-06-01\", \"KreisSort\": 10, \"KreisLang\": \"Kreis 10\", \"sum_AnzWhgLeer\": 19}, {\"StichtagDatJahr\": \"2021-01-01T00:00:00\", \"StichtagDatJahr_str\": \"2021-06-01\", \"KreisSort\": 7, \"KreisLang\": \"Kreis 7\", \"sum_AnzWhgLeer\": 26}, {\"StichtagDatJahr\": \"2021-01-01T00:00:00\", \"StichtagDatJahr_str\": \"2021-06-01\", \"KreisSort\": 8, \"KreisLang\": \"Kreis 8\", \"sum_AnzWhgLeer\": 15}, {\"StichtagDatJahr\": \"2021-01-01T00:00:00\", \"StichtagDatJahr_str\": \"2021-06-01\", \"KreisSort\": 9, \"KreisLang\": \"Kreis 9\", \"sum_AnzWhgLeer\": 62}, {\"StichtagDatJahr\": \"2021-01-01T00:00:00\", \"StichtagDatJahr_str\": \"2021-06-01\", \"KreisSort\": 11, \"KreisLang\": \"Kreis 11\", \"sum_AnzWhgLeer\": 86}, {\"StichtagDatJahr\": \"2021-01-01T00:00:00\", \"StichtagDatJahr_str\": \"2021-06-01\", \"KreisSort\": 12, \"KreisLang\": \"Kreis 12\", \"sum_AnzWhgLeer\": 31}, {\"StichtagDatJahr\": \"2020-01-01T00:00:00\", \"StichtagDatJahr_str\": \"2020-06-01\", \"KreisSort\": 6, \"KreisLang\": \"Kreis 6\", \"sum_AnzWhgLeer\": 59}, {\"StichtagDatJahr\": \"2020-01-01T00:00:00\", \"StichtagDatJahr_str\": \"2020-06-01\", \"KreisSort\": 1, \"KreisLang\": \"Kreis 1\", \"sum_AnzWhgLeer\": 8}, {\"StichtagDatJahr\": \"2020-01-01T00:00:00\", \"StichtagDatJahr_str\": \"2020-06-01\", \"KreisSort\": 2, \"KreisLang\": \"Kreis 2\", \"sum_AnzWhgLeer\": 16}, {\"StichtagDatJahr\": \"2020-01-01T00:00:00\", \"StichtagDatJahr_str\": \"2020-06-01\", \"KreisSort\": 3, \"KreisLang\": \"Kreis 3\", \"sum_AnzWhgLeer\": 28}, {\"StichtagDatJahr\": \"2020-01-01T00:00:00\", \"StichtagDatJahr_str\": \"2020-06-01\", \"KreisSort\": 4, \"KreisLang\": \"Kreis 4\", \"sum_AnzWhgLeer\": 17}, {\"StichtagDatJahr\": \"2020-01-01T00:00:00\", \"StichtagDatJahr_str\": \"2020-06-01\", \"KreisSort\": 5, \"KreisLang\": \"Kreis 5\", \"sum_AnzWhgLeer\": 8}, {\"StichtagDatJahr\": \"2020-01-01T00:00:00\", \"StichtagDatJahr_str\": \"2020-06-01\", \"KreisSort\": 11, \"KreisLang\": \"Kreis 11\", \"sum_AnzWhgLeer\": 53}, {\"StichtagDatJahr\": \"2020-01-01T00:00:00\", \"StichtagDatJahr_str\": \"2020-06-01\", \"KreisSort\": 7, \"KreisLang\": \"Kreis 7\", \"sum_AnzWhgLeer\": 51}, {\"StichtagDatJahr\": \"2020-01-01T00:00:00\", \"StichtagDatJahr_str\": \"2020-06-01\", \"KreisSort\": 8, \"KreisLang\": \"Kreis 8\", \"sum_AnzWhgLeer\": 15}, {\"StichtagDatJahr\": \"2020-01-01T00:00:00\", \"StichtagDatJahr_str\": \"2020-06-01\", \"KreisSort\": 9, \"KreisLang\": \"Kreis 9\", \"sum_AnzWhgLeer\": 24}, {\"StichtagDatJahr\": \"2020-01-01T00:00:00\", \"StichtagDatJahr_str\": \"2020-06-01\", \"KreisSort\": 10, \"KreisLang\": \"Kreis 10\", \"sum_AnzWhgLeer\": 21}, {\"StichtagDatJahr\": \"2020-01-01T00:00:00\", \"StichtagDatJahr_str\": \"2020-06-01\", \"KreisSort\": 12, \"KreisLang\": \"Kreis 12\", \"sum_AnzWhgLeer\": 39}, {\"StichtagDatJahr\": \"2019-01-01T00:00:00\", \"StichtagDatJahr_str\": \"2019-06-01\", \"KreisSort\": 1, \"KreisLang\": \"Kreis 1\", \"sum_AnzWhgLeer\": 17}, {\"StichtagDatJahr\": \"2019-01-01T00:00:00\", \"StichtagDatJahr_str\": \"2019-06-01\", \"KreisSort\": 2, \"KreisLang\": \"Kreis 2\", \"sum_AnzWhgLeer\": 35}, {\"StichtagDatJahr\": \"2019-01-01T00:00:00\", \"StichtagDatJahr_str\": \"2019-06-01\", \"KreisSort\": 3, \"KreisLang\": \"Kreis 3\", \"sum_AnzWhgLeer\": 22}, {\"StichtagDatJahr\": \"2019-01-01T00:00:00\", \"StichtagDatJahr_str\": \"2019-06-01\", \"KreisSort\": 4, \"KreisLang\": \"Kreis 4\", \"sum_AnzWhgLeer\": 17}, {\"StichtagDatJahr\": \"2019-01-01T00:00:00\", \"StichtagDatJahr_str\": \"2019-06-01\", \"KreisSort\": 5, \"KreisLang\": \"Kreis 5\", \"sum_AnzWhgLeer\": 11}, {\"StichtagDatJahr\": \"2019-01-01T00:00:00\", \"StichtagDatJahr_str\": \"2019-06-01\", \"KreisSort\": 6, \"KreisLang\": \"Kreis 6\", \"sum_AnzWhgLeer\": 10}, {\"StichtagDatJahr\": \"2019-01-01T00:00:00\", \"StichtagDatJahr_str\": \"2019-06-01\", \"KreisSort\": 7, \"KreisLang\": \"Kreis 7\", \"sum_AnzWhgLeer\": 56}, {\"StichtagDatJahr\": \"2019-01-01T00:00:00\", \"StichtagDatJahr_str\": \"2019-06-01\", \"KreisSort\": 8, \"KreisLang\": \"Kreis 8\", \"sum_AnzWhgLeer\": 24}, {\"StichtagDatJahr\": \"2019-01-01T00:00:00\", \"StichtagDatJahr_str\": \"2019-06-01\", \"KreisSort\": 9, \"KreisLang\": \"Kreis 9\", \"sum_AnzWhgLeer\": 16}, {\"StichtagDatJahr\": \"2019-01-01T00:00:00\", \"StichtagDatJahr_str\": \"2019-06-01\", \"KreisSort\": 10, \"KreisLang\": \"Kreis 10\", \"sum_AnzWhgLeer\": 30}, {\"StichtagDatJahr\": \"2019-01-01T00:00:00\", \"StichtagDatJahr_str\": \"2019-06-01\", \"KreisSort\": 11, \"KreisLang\": \"Kreis 11\", \"sum_AnzWhgLeer\": 42}, {\"StichtagDatJahr\": \"2019-01-01T00:00:00\", \"StichtagDatJahr_str\": \"2019-06-01\", \"KreisSort\": 12, \"KreisLang\": \"Kreis 12\", \"sum_AnzWhgLeer\": 26}, {\"StichtagDatJahr\": \"2018-01-01T00:00:00\", \"StichtagDatJahr_str\": \"2018-06-01\", \"KreisSort\": 8, \"KreisLang\": \"Kreis 8\", \"sum_AnzWhgLeer\": 28}, {\"StichtagDatJahr\": \"2018-01-01T00:00:00\", \"StichtagDatJahr_str\": \"2018-06-01\", \"KreisSort\": 12, \"KreisLang\": \"Kreis 12\", \"sum_AnzWhgLeer\": 38}, {\"StichtagDatJahr\": \"2018-01-01T00:00:00\", \"StichtagDatJahr_str\": \"2018-06-01\", \"KreisSort\": 11, \"KreisLang\": \"Kreis 11\", \"sum_AnzWhgLeer\": 58}, {\"StichtagDatJahr\": \"2018-01-01T00:00:00\", \"StichtagDatJahr_str\": \"2018-06-01\", \"KreisSort\": 10, \"KreisLang\": \"Kreis 10\", \"sum_AnzWhgLeer\": 48}, {\"StichtagDatJahr\": \"2018-01-01T00:00:00\", \"StichtagDatJahr_str\": \"2018-06-01\", \"KreisSort\": 9, \"KreisLang\": \"Kreis 9\", \"sum_AnzWhgLeer\": 44}, {\"StichtagDatJahr\": \"2018-01-01T00:00:00\", \"StichtagDatJahr_str\": \"2018-06-01\", \"KreisSort\": 7, \"KreisLang\": \"Kreis 7\", \"sum_AnzWhgLeer\": 63}, {\"StichtagDatJahr\": \"2018-01-01T00:00:00\", \"StichtagDatJahr_str\": \"2018-06-01\", \"KreisSort\": 5, \"KreisLang\": \"Kreis 5\", \"sum_AnzWhgLeer\": 8}, {\"StichtagDatJahr\": \"2018-01-01T00:00:00\", \"StichtagDatJahr_str\": \"2018-06-01\", \"KreisSort\": 4, \"KreisLang\": \"Kreis 4\", \"sum_AnzWhgLeer\": 33}, {\"StichtagDatJahr\": \"2018-01-01T00:00:00\", \"StichtagDatJahr_str\": \"2018-06-01\", \"KreisSort\": 3, \"KreisLang\": \"Kreis 3\", \"sum_AnzWhgLeer\": 16}, {\"StichtagDatJahr\": \"2018-01-01T00:00:00\", \"StichtagDatJahr_str\": \"2018-06-01\", \"KreisSort\": 2, \"KreisLang\": \"Kreis 2\", \"sum_AnzWhgLeer\": 55}, {\"StichtagDatJahr\": \"2018-01-01T00:00:00\", \"StichtagDatJahr_str\": \"2018-06-01\", \"KreisSort\": 1, \"KreisLang\": \"Kreis 1\", \"sum_AnzWhgLeer\": 25}, {\"StichtagDatJahr\": \"2018-01-01T00:00:00\", \"StichtagDatJahr_str\": \"2018-06-01\", \"KreisSort\": 6, \"KreisLang\": \"Kreis 6\", \"sum_AnzWhgLeer\": 31}, {\"StichtagDatJahr\": \"2017-01-01T00:00:00\", \"StichtagDatJahr_str\": \"2017-06-01\", \"KreisSort\": 7, \"KreisLang\": \"Kreis 7\", \"sum_AnzWhgLeer\": 39}, {\"StichtagDatJahr\": \"2017-01-01T00:00:00\", \"StichtagDatJahr_str\": \"2017-06-01\", \"KreisSort\": 6, \"KreisLang\": \"Kreis 6\", \"sum_AnzWhgLeer\": 25}, {\"StichtagDatJahr\": \"2017-01-01T00:00:00\", \"StichtagDatJahr_str\": \"2017-06-01\", \"KreisSort\": 1, \"KreisLang\": \"Kreis 1\", \"sum_AnzWhgLeer\": 16}, {\"StichtagDatJahr\": \"2017-01-01T00:00:00\", \"StichtagDatJahr_str\": \"2017-06-01\", \"KreisSort\": 2, \"KreisLang\": \"Kreis 2\", \"sum_AnzWhgLeer\": 49}, {\"StichtagDatJahr\": \"2017-01-01T00:00:00\", \"StichtagDatJahr_str\": \"2017-06-01\", \"KreisSort\": 3, \"KreisLang\": \"Kreis 3\", \"sum_AnzWhgLeer\": 39}, {\"StichtagDatJahr\": \"2017-01-01T00:00:00\", \"StichtagDatJahr_str\": \"2017-06-01\", \"KreisSort\": 4, \"KreisLang\": \"Kreis 4\", \"sum_AnzWhgLeer\": 62}, {\"StichtagDatJahr\": \"2017-01-01T00:00:00\", \"StichtagDatJahr_str\": \"2017-06-01\", \"KreisSort\": 5, \"KreisLang\": \"Kreis 5\", \"sum_AnzWhgLeer\": 18}, {\"StichtagDatJahr\": \"2017-01-01T00:00:00\", \"StichtagDatJahr_str\": \"2017-06-01\", \"KreisSort\": 9, \"KreisLang\": \"Kreis 9\", \"sum_AnzWhgLeer\": 71}, {\"StichtagDatJahr\": \"2017-01-01T00:00:00\", \"StichtagDatJahr_str\": \"2017-06-01\", \"KreisSort\": 8, \"KreisLang\": \"Kreis 8\", \"sum_AnzWhgLeer\": 23}, {\"StichtagDatJahr\": \"2017-01-01T00:00:00\", \"StichtagDatJahr_str\": \"2017-06-01\", \"KreisSort\": 10, \"KreisLang\": \"Kreis 10\", \"sum_AnzWhgLeer\": 26}, {\"StichtagDatJahr\": \"2017-01-01T00:00:00\", \"StichtagDatJahr_str\": \"2017-06-01\", \"KreisSort\": 11, \"KreisLang\": \"Kreis 11\", \"sum_AnzWhgLeer\": 70}, {\"StichtagDatJahr\": \"2017-01-01T00:00:00\", \"StichtagDatJahr_str\": \"2017-06-01\", \"KreisSort\": 12, \"KreisLang\": \"Kreis 12\", \"sum_AnzWhgLeer\": 16}, {\"StichtagDatJahr\": \"2016-01-01T00:00:00\", \"StichtagDatJahr_str\": \"2016-06-01\", \"KreisSort\": 2, \"KreisLang\": \"Kreis 2\", \"sum_AnzWhgLeer\": 84}, {\"StichtagDatJahr\": \"2016-01-01T00:00:00\", \"StichtagDatJahr_str\": \"2016-06-01\", \"KreisSort\": 3, \"KreisLang\": \"Kreis 3\", \"sum_AnzWhgLeer\": 44}, {\"StichtagDatJahr\": \"2016-01-01T00:00:00\", \"StichtagDatJahr_str\": \"2016-06-01\", \"KreisSort\": 4, \"KreisLang\": \"Kreis 4\", \"sum_AnzWhgLeer\": 69}, {\"StichtagDatJahr\": \"2016-01-01T00:00:00\", \"StichtagDatJahr_str\": \"2016-06-01\", \"KreisSort\": 1, \"KreisLang\": \"Kreis 1\", \"sum_AnzWhgLeer\": 9}, {\"StichtagDatJahr\": \"2016-01-01T00:00:00\", \"StichtagDatJahr_str\": \"2016-06-01\", \"KreisSort\": 6, \"KreisLang\": \"Kreis 6\", \"sum_AnzWhgLeer\": 38}, {\"StichtagDatJahr\": \"2016-01-01T00:00:00\", \"StichtagDatJahr_str\": \"2016-06-01\", \"KreisSort\": 5, \"KreisLang\": \"Kreis 5\", \"sum_AnzWhgLeer\": 23}, {\"StichtagDatJahr\": \"2016-01-01T00:00:00\", \"StichtagDatJahr_str\": \"2016-06-01\", \"KreisSort\": 8, \"KreisLang\": \"Kreis 8\", \"sum_AnzWhgLeer\": 17}, {\"StichtagDatJahr\": \"2016-01-01T00:00:00\", \"StichtagDatJahr_str\": \"2016-06-01\", \"KreisSort\": 7, \"KreisLang\": \"Kreis 7\", \"sum_AnzWhgLeer\": 79}, {\"StichtagDatJahr\": \"2016-01-01T00:00:00\", \"StichtagDatJahr_str\": \"2016-06-01\", \"KreisSort\": 9, \"KreisLang\": \"Kreis 9\", \"sum_AnzWhgLeer\": 33}, {\"StichtagDatJahr\": \"2016-01-01T00:00:00\", \"StichtagDatJahr_str\": \"2016-06-01\", \"KreisSort\": 10, \"KreisLang\": \"Kreis 10\", \"sum_AnzWhgLeer\": 33}, {\"StichtagDatJahr\": \"2016-01-01T00:00:00\", \"StichtagDatJahr_str\": \"2016-06-01\", \"KreisSort\": 11, \"KreisLang\": \"Kreis 11\", \"sum_AnzWhgLeer\": 40}, {\"StichtagDatJahr\": \"2016-01-01T00:00:00\", \"StichtagDatJahr_str\": \"2016-06-01\", \"KreisSort\": 12, \"KreisLang\": \"Kreis 12\", \"sum_AnzWhgLeer\": 14}, {\"StichtagDatJahr\": \"2015-01-01T00:00:00\", \"StichtagDatJahr_str\": \"2015-06-01\", \"KreisSort\": 6, \"KreisLang\": \"Kreis 6\", \"sum_AnzWhgLeer\": 28}, {\"StichtagDatJahr\": \"2015-01-01T00:00:00\", \"StichtagDatJahr_str\": \"2015-06-01\", \"KreisSort\": 1, \"KreisLang\": \"Kreis 1\", \"sum_AnzWhgLeer\": 14}, {\"StichtagDatJahr\": \"2015-01-01T00:00:00\", \"StichtagDatJahr_str\": \"2015-06-01\", \"KreisSort\": 2, \"KreisLang\": \"Kreis 2\", \"sum_AnzWhgLeer\": 40}, {\"StichtagDatJahr\": \"2015-01-01T00:00:00\", \"StichtagDatJahr_str\": \"2015-06-01\", \"KreisSort\": 3, \"KreisLang\": \"Kreis 3\", \"sum_AnzWhgLeer\": 27}, {\"StichtagDatJahr\": \"2015-01-01T00:00:00\", \"StichtagDatJahr_str\": \"2015-06-01\", \"KreisSort\": 4, \"KreisLang\": \"Kreis 4\", \"sum_AnzWhgLeer\": 100}, {\"StichtagDatJahr\": \"2015-01-01T00:00:00\", \"StichtagDatJahr_str\": \"2015-06-01\", \"KreisSort\": 5, \"KreisLang\": \"Kreis 5\", \"sum_AnzWhgLeer\": 88}, {\"StichtagDatJahr\": \"2015-01-01T00:00:00\", \"StichtagDatJahr_str\": \"2015-06-01\", \"KreisSort\": 7, \"KreisLang\": \"Kreis 7\", \"sum_AnzWhgLeer\": 54}, {\"StichtagDatJahr\": \"2015-01-01T00:00:00\", \"StichtagDatJahr_str\": \"2015-06-01\", \"KreisSort\": 8, \"KreisLang\": \"Kreis 8\", \"sum_AnzWhgLeer\": 23}, {\"StichtagDatJahr\": \"2015-01-01T00:00:00\", \"StichtagDatJahr_str\": \"2015-06-01\", \"KreisSort\": 9, \"KreisLang\": \"Kreis 9\", \"sum_AnzWhgLeer\": 37}, {\"StichtagDatJahr\": \"2015-01-01T00:00:00\", \"StichtagDatJahr_str\": \"2015-06-01\", \"KreisSort\": 10, \"KreisLang\": \"Kreis 10\", \"sum_AnzWhgLeer\": 15}, {\"StichtagDatJahr\": \"2015-01-01T00:00:00\", \"StichtagDatJahr_str\": \"2015-06-01\", \"KreisSort\": 11, \"KreisLang\": \"Kreis 11\", \"sum_AnzWhgLeer\": 39}, {\"StichtagDatJahr\": \"2015-01-01T00:00:00\", \"StichtagDatJahr_str\": \"2015-06-01\", \"KreisSort\": 12, \"KreisLang\": \"Kreis 12\", \"sum_AnzWhgLeer\": 18}, {\"StichtagDatJahr\": \"2014-01-01T00:00:00\", \"StichtagDatJahr_str\": \"2014-06-01\", \"KreisSort\": 7, \"KreisLang\": \"Kreis 7\", \"sum_AnzWhgLeer\": 73}, {\"StichtagDatJahr\": \"2014-01-01T00:00:00\", \"StichtagDatJahr_str\": \"2014-06-01\", \"KreisSort\": 3, \"KreisLang\": \"Kreis 3\", \"sum_AnzWhgLeer\": 21}, {\"StichtagDatJahr\": \"2014-01-01T00:00:00\", \"StichtagDatJahr_str\": \"2014-06-01\", \"KreisSort\": 4, \"KreisLang\": \"Kreis 4\", \"sum_AnzWhgLeer\": 21}, {\"StichtagDatJahr\": \"2014-01-01T00:00:00\", \"StichtagDatJahr_str\": \"2014-06-01\", \"KreisSort\": 5, \"KreisLang\": \"Kreis 5\", \"sum_AnzWhgLeer\": 112}, {\"StichtagDatJahr\": \"2014-01-01T00:00:00\", \"StichtagDatJahr_str\": \"2014-06-01\", \"KreisSort\": 6, \"KreisLang\": \"Kreis 6\", \"sum_AnzWhgLeer\": 18}, {\"StichtagDatJahr\": \"2014-01-01T00:00:00\", \"StichtagDatJahr_str\": \"2014-06-01\", \"KreisSort\": 2, \"KreisLang\": \"Kreis 2\", \"sum_AnzWhgLeer\": 31}, {\"StichtagDatJahr\": \"2014-01-01T00:00:00\", \"StichtagDatJahr_str\": \"2014-06-01\", \"KreisSort\": 8, \"KreisLang\": \"Kreis 8\", \"sum_AnzWhgLeer\": 31}, {\"StichtagDatJahr\": \"2014-01-01T00:00:00\", \"StichtagDatJahr_str\": \"2014-06-01\", \"KreisSort\": 9, \"KreisLang\": \"Kreis 9\", \"sum_AnzWhgLeer\": 37}, {\"StichtagDatJahr\": \"2014-01-01T00:00:00\", \"StichtagDatJahr_str\": \"2014-06-01\", \"KreisSort\": 10, \"KreisLang\": \"Kreis 10\", \"sum_AnzWhgLeer\": 27}, {\"StichtagDatJahr\": \"2014-01-01T00:00:00\", \"StichtagDatJahr_str\": \"2014-06-01\", \"KreisSort\": 11, \"KreisLang\": \"Kreis 11\", \"sum_AnzWhgLeer\": 48}, {\"StichtagDatJahr\": \"2014-01-01T00:00:00\", \"StichtagDatJahr_str\": \"2014-06-01\", \"KreisSort\": 12, \"KreisLang\": \"Kreis 12\", \"sum_AnzWhgLeer\": 33}, {\"StichtagDatJahr\": \"2014-01-01T00:00:00\", \"StichtagDatJahr_str\": \"2014-06-01\", \"KreisSort\": 1, \"KreisLang\": \"Kreis 1\", \"sum_AnzWhgLeer\": 19}]}}, {\"mode\": \"vega-lite\"});\n",
       "</script>"
      ],
      "text/plain": [
       "alt.LayerChart(...)"
      ]
     },
     "execution_count": 71,
     "metadata": {},
     "output_type": "execute_result"
    }
   ],
   "source": [
    "myTitle=\"Entwicklung aller Leerwohnungen nach Stadtkreis\"\n",
    "\n",
    "highlight = alt.selection(type='single', on='mouseover',\n",
    "                          fields=['ProjStatus'], nearest=True)\n",
    "#x='date:StichtagDatJahr',\n",
    "base = alt.Chart(myAgg.reset_index().query('sum_AnzWhgLeer > 0'), title=myTitle).encode(\n",
    "    x=alt.X('StichtagDatJahr', axis=alt.Axis(title='Jahr'))# , axis=alt.Axis(format='%', title='percentage')\n",
    "    , y=alt.X('sum_AnzWhgLeer', axis=alt.Axis(title='Anz. Leerwohnungen'))\n",
    "    , color=alt.Color('KreisLang', legend=alt.Legend(title=\"Stadtkreis\", orient=\"right\"))  \n",
    "    , tooltip=['StichtagDatJahr', 'KreisSort', 'KreisLang','sum_AnzWhgLeer']    \n",
    ")\n",
    "points = base.mark_circle().encode(\n",
    "    opacity=alt.value(0.75)\n",
    ").add_selection(\n",
    "    highlight\n",
    ").properties(\n",
    "    width=750 , height=350\n",
    ")\n",
    "lines = base.mark_line().encode(\n",
    "    size=alt.condition(~highlight, alt.value(0.9), alt.value(4))\n",
    ").interactive()\n",
    "\n",
    "lines + points"
   ]
  },
  {
   "cell_type": "markdown",
   "metadata": {
    "tags": []
   },
   "source": [
    "#### Barcharts mit Seaborn"
   ]
  },
  {
   "cell_type": "code",
   "execution_count": 72,
   "metadata": {},
   "outputs": [
    {
     "data": {
      "text/html": [
       "<div>\n",
       "<style scoped>\n",
       "    .dataframe tbody tr th:only-of-type {\n",
       "        vertical-align: middle;\n",
       "    }\n",
       "\n",
       "    .dataframe tbody tr th {\n",
       "        vertical-align: top;\n",
       "    }\n",
       "\n",
       "    .dataframe thead th {\n",
       "        text-align: right;\n",
       "    }\n",
       "</style>\n",
       "<table border=\"1\" class=\"dataframe\">\n",
       "  <thead>\n",
       "    <tr style=\"text-align: right;\">\n",
       "      <th></th>\n",
       "      <th>StichtagDatJahr</th>\n",
       "      <th>StichtagDatJahr_str</th>\n",
       "      <th>KreisSort</th>\n",
       "      <th>KreisLang</th>\n",
       "      <th>Zimmerzahl</th>\n",
       "      <th>sum_AnzWhgLeer</th>\n",
       "    </tr>\n",
       "  </thead>\n",
       "  <tbody>\n",
       "    <tr>\n",
       "      <th>0</th>\n",
       "      <td>2022-01-01</td>\n",
       "      <td>2022-06-01</td>\n",
       "      <td>1</td>\n",
       "      <td>Kreis 1</td>\n",
       "      <td>1</td>\n",
       "      <td>1</td>\n",
       "    </tr>\n",
       "    <tr>\n",
       "      <th>1</th>\n",
       "      <td>2022-01-01</td>\n",
       "      <td>2022-06-01</td>\n",
       "      <td>1</td>\n",
       "      <td>Kreis 1</td>\n",
       "      <td>2</td>\n",
       "      <td>2</td>\n",
       "    </tr>\n",
       "    <tr>\n",
       "      <th>2</th>\n",
       "      <td>2022-01-01</td>\n",
       "      <td>2022-06-01</td>\n",
       "      <td>9</td>\n",
       "      <td>Kreis 9</td>\n",
       "      <td>5</td>\n",
       "      <td>2</td>\n",
       "    </tr>\n",
       "  </tbody>\n",
       "</table>\n",
       "</div>"
      ],
      "text/plain": [
       "  StichtagDatJahr StichtagDatJahr_str  KreisSort KreisLang Zimmerzahl  sum_AnzWhgLeer\n",
       "0      2022-01-01          2022-06-01          1   Kreis 1          1               1\n",
       "1      2022-01-01          2022-06-01          1   Kreis 1          2               2\n",
       "2      2022-01-01          2022-06-01          9   Kreis 9          5               2"
      ]
     },
     "execution_count": 72,
     "metadata": {},
     "output_type": "execute_result"
    }
   ],
   "source": [
    "myAggBar = data2betested.loc[year_today]\\\n",
    "    .groupby(['StichtagDatJahr','StichtagDatJahr_str','KreisSort', 'KreisLang','Zimmerzahl']) \\\n",
    "    .agg(sum_AnzWhgLeer =('AnzWhgLeer', 'sum')) \\\n",
    "    .sort_values('StichtagDatJahr_str', ascending=False) \n",
    "\n",
    "myAggBar.reset_index().head(3)"
   ]
  },
  {
   "cell_type": "code",
   "execution_count": 73,
   "metadata": {},
   "outputs": [],
   "source": [
    "#help(sns.catplot)     "
   ]
  },
  {
   "cell_type": "code",
   "execution_count": 74,
   "metadata": {},
   "outputs": [],
   "source": [
    "#Stile for the following sns graphs\n",
    "sns.set_theme(style=\"whitegrid\")"
   ]
  },
  {
   "cell_type": "code",
   "execution_count": 75,
   "metadata": {},
   "outputs": [
    {
     "data": {
      "text/plain": [
       "<seaborn.axisgrid.FacetGrid at 0x1b12a9b9f88>"
      ]
     },
     "execution_count": 75,
     "metadata": {},
     "output_type": "execute_result"
    },
    {
     "data": {
      "image/png": "[encoded data removed]",
      "text/plain": [
       "<Figure size 799.85x360 with 1 Axes>"
      ]
     },
     "metadata": {},
     "output_type": "display_data"
    }
   ],
   "source": [
    "#sns.color_palette(\"flare\", as_cmap=True)\n",
    "myHist = sns.catplot(x=\"Zimmerzahl\"\n",
    "            , y=\"sum_AnzWhgLeer\"\n",
    "            , hue=\"KreisLang\"\n",
    "            , kind=\"bar\" #boxen, violin, --> wenn die aggregation nicht genau den werten in der grafik entspricht\n",
    "            , palette=\"pastel\" #, color=\"green\"\n",
    "            , height=5\n",
    "            , aspect=2\n",
    "            , order=None, legend_out=True\n",
    "            ,data=myAggBar.reset_index().sort_values([\"Zimmerzahl\",\"KreisSort\"], ascending=True) \n",
    "           )\n",
    "myHist.set_xlabels('Stadtkreis', fontsize=11) # not set_label\n",
    "myHist.set_ylabels('Anz. Wohnungen', fontsize=11)\n"
   ]
  },
  {
   "cell_type": "markdown",
   "metadata": {},
   "source": [
    "#### Scatterplots mit Seaborn "
   ]
  },
  {
   "cell_type": "markdown",
   "metadata": {},
   "source": [
    "##### Entwicklung nach Stadtkreisen"
   ]
  },
  {
   "cell_type": "code",
   "execution_count": 76,
   "metadata": {},
   "outputs": [
    {
     "data": {
      "text/html": [
       "<div>\n",
       "<style scoped>\n",
       "    .dataframe tbody tr th:only-of-type {\n",
       "        vertical-align: middle;\n",
       "    }\n",
       "\n",
       "    .dataframe tbody tr th {\n",
       "        vertical-align: top;\n",
       "    }\n",
       "\n",
       "    .dataframe thead th {\n",
       "        text-align: right;\n",
       "    }\n",
       "</style>\n",
       "<table border=\"1\" class=\"dataframe\">\n",
       "  <thead>\n",
       "    <tr style=\"text-align: right;\">\n",
       "      <th></th>\n",
       "      <th>StichtagDatJahr</th>\n",
       "      <th>StichtagDatJahr_str</th>\n",
       "      <th>KreisSort</th>\n",
       "      <th>KreisLang</th>\n",
       "      <th>Zimmerzahl</th>\n",
       "      <th>sum_AnzWhgLeer</th>\n",
       "    </tr>\n",
       "  </thead>\n",
       "  <tbody>\n",
       "    <tr>\n",
       "      <th>0</th>\n",
       "      <td>2022-01-01</td>\n",
       "      <td>2022-06-01</td>\n",
       "      <td>1</td>\n",
       "      <td>Kreis 1</td>\n",
       "      <td>1</td>\n",
       "      <td>1</td>\n",
       "    </tr>\n",
       "    <tr>\n",
       "      <th>1</th>\n",
       "      <td>2022-01-01</td>\n",
       "      <td>2022-06-01</td>\n",
       "      <td>1</td>\n",
       "      <td>Kreis 1</td>\n",
       "      <td>2</td>\n",
       "      <td>2</td>\n",
       "    </tr>\n",
       "    <tr>\n",
       "      <th>2</th>\n",
       "      <td>2022-01-01</td>\n",
       "      <td>2022-06-01</td>\n",
       "      <td>9</td>\n",
       "      <td>Kreis 9</td>\n",
       "      <td>5</td>\n",
       "      <td>2</td>\n",
       "    </tr>\n",
       "  </tbody>\n",
       "</table>\n",
       "</div>"
      ],
      "text/plain": [
       "  StichtagDatJahr StichtagDatJahr_str  KreisSort KreisLang Zimmerzahl  sum_AnzWhgLeer\n",
       "0      2022-01-01          2022-06-01          1   Kreis 1          1               1\n",
       "1      2022-01-01          2022-06-01          1   Kreis 1          2               2\n",
       "2      2022-01-01          2022-06-01          9   Kreis 9          5               2"
      ]
     },
     "execution_count": 76,
     "metadata": {},
     "output_type": "execute_result"
    }
   ],
   "source": [
    "myAggScat = data2betested.loc[\"2014\":year_today]\\\n",
    "    .groupby(['StichtagDatJahr','StichtagDatJahr_str','KreisSort', 'KreisLang','Zimmerzahl']) \\\n",
    "    .agg(sum_AnzWhgLeer =('AnzWhgLeer', 'sum')) \\\n",
    "    .sort_values('KreisSort', ascending=True) \n",
    "\n",
    "myAggBar.reset_index().head(3)"
   ]
  },
  {
   "cell_type": "code",
   "execution_count": 77,
   "metadata": {},
   "outputs": [],
   "source": [
    "#myAggScat.reset_index()"
   ]
  },
  {
   "cell_type": "code",
   "execution_count": 78,
   "metadata": {},
   "outputs": [
    {
     "data": {
      "text/plain": [
       "<seaborn.axisgrid.FacetGrid at 0x1b12ab4d988>"
      ]
     },
     "execution_count": 78,
     "metadata": {},
     "output_type": "execute_result"
    },
    {
     "data": {
      "image/png": "[encoded data removed]",
      "text/plain": [
       "<Figure size 1223.42x864 with 12 Axes>"
      ]
     },
     "metadata": {},
     "output_type": "display_data"
    }
   ],
   "source": [
    "g = sns.FacetGrid(myAggScat.reset_index(), col=\"KreisLang\", hue=\"Zimmerzahl\", col_wrap=4, height=4,)\n",
    "#g.map(sns.scatterplot, \"Jahr\", \"sum_ProjAnzWhg\", alpha=.8)\n",
    "g.map(sns.lineplot, \"StichtagDatJahr\",\"sum_AnzWhgLeer\",alpha=.8,label='label2')\n",
    "\n",
    "#Layout\n",
    "g.set_axis_labels(\"\",\"Anz. Leerwohnungengen\")\n",
    "g.set_titles(col_template=\"{col_name}\", row_template=\"{row_name}\")\n",
    "#g.set(xlim=(0, 60), ylim=(0, 12), xticks=[10, 30, 50], yticks=[2, 6, 10])\n",
    "#g.tight_layout()\n",
    "\n",
    "g.add_legend()"
   ]
  },
  {
   "cell_type": "markdown",
   "metadata": {},
   "source": [
    "##### Entwicklung nach Stadtquartieren"
   ]
  },
  {
   "cell_type": "code",
   "execution_count": 79,
   "metadata": {},
   "outputs": [
    {
     "data": {
      "text/html": [
       "<div>\n",
       "<style scoped>\n",
       "    .dataframe tbody tr th:only-of-type {\n",
       "        vertical-align: middle;\n",
       "    }\n",
       "\n",
       "    .dataframe tbody tr th {\n",
       "        vertical-align: top;\n",
       "    }\n",
       "\n",
       "    .dataframe thead th {\n",
       "        text-align: right;\n",
       "    }\n",
       "</style>\n",
       "<table border=\"1\" class=\"dataframe\">\n",
       "  <thead>\n",
       "    <tr style=\"text-align: right;\">\n",
       "      <th></th>\n",
       "      <th>StichtagDatJahr</th>\n",
       "      <th>StichtagDatJahr_str</th>\n",
       "      <th>KreisSort</th>\n",
       "      <th>KreisLang</th>\n",
       "      <th>Zimmerzahl</th>\n",
       "      <th>sum_AnzWhgLeer</th>\n",
       "    </tr>\n",
       "  </thead>\n",
       "  <tbody>\n",
       "    <tr>\n",
       "      <th>0</th>\n",
       "      <td>2022-01-01</td>\n",
       "      <td>2022-06-01</td>\n",
       "      <td>1</td>\n",
       "      <td>Kreis 1</td>\n",
       "      <td>1</td>\n",
       "      <td>1</td>\n",
       "    </tr>\n",
       "    <tr>\n",
       "      <th>1</th>\n",
       "      <td>2022-01-01</td>\n",
       "      <td>2022-06-01</td>\n",
       "      <td>1</td>\n",
       "      <td>Kreis 1</td>\n",
       "      <td>2</td>\n",
       "      <td>2</td>\n",
       "    </tr>\n",
       "    <tr>\n",
       "      <th>2</th>\n",
       "      <td>2022-01-01</td>\n",
       "      <td>2022-06-01</td>\n",
       "      <td>9</td>\n",
       "      <td>Kreis 9</td>\n",
       "      <td>5</td>\n",
       "      <td>2</td>\n",
       "    </tr>\n",
       "  </tbody>\n",
       "</table>\n",
       "</div>"
      ],
      "text/plain": [
       "  StichtagDatJahr StichtagDatJahr_str  KreisSort KreisLang Zimmerzahl  sum_AnzWhgLeer\n",
       "0      2022-01-01          2022-06-01          1   Kreis 1          1               1\n",
       "1      2022-01-01          2022-06-01          1   Kreis 1          2               2\n",
       "2      2022-01-01          2022-06-01          9   Kreis 9          5               2"
      ]
     },
     "execution_count": 79,
     "metadata": {},
     "output_type": "execute_result"
    }
   ],
   "source": [
    "myAggScat = data2betested.loc[\"2014\":year_today]\\\n",
    "    .groupby(['StichtagDatJahr','StichtagDatJahr_str','QuarSort', 'QuarLang','Zimmerzahl']) \\\n",
    "    .agg(sum_AnzWhgLeer =('AnzWhgLeer', 'sum')) \\\n",
    "    .sort_values('QuarSort', ascending=True) \n",
    "\n",
    "myAggBar.reset_index().head(3)"
   ]
  },
  {
   "cell_type": "code",
   "execution_count": 80,
   "metadata": {},
   "outputs": [],
   "source": [
    "#Link to Seaborn API Description:\n",
    "# https://seaborn.pydata.org/generated/seaborn.FacetGrid.html#seaborn.FacetGrid"
   ]
  },
  {
   "cell_type": "code",
   "execution_count": null,
   "metadata": {},
   "outputs": [
    {
     "data": {
      "text/plain": [
       "<seaborn.axisgrid.FacetGrid at 0x1b12b458088>"
      ]
     },
     "execution_count": 81,
     "metadata": {},
     "output_type": "execute_result"
    }
   ],
   "source": [
    "g = sns.FacetGrid(myAggScat.reset_index(), col=\"QuarLang\", hue=\"Zimmerzahl\", col_wrap=6, height=3,)\n",
    "#g.map(sns.scatterplot, \"Jahr\", \"sum_ProjAnzWhg\", alpha=.8)\n",
    "g.map(sns.lineplot, \"StichtagDatJahr\",\"sum_AnzWhgLeer\",alpha=.8,label='label2')\n",
    "\n",
    "#Layout\n",
    "g.set_axis_labels(\"\",\"Anz. Leerwohnungen\")\n",
    "g.set_titles(col_template=\"{col_name}\", row_template=\"{row_name}\")\n",
    "#g.set(xlim=(0, 60), ylim=(0, 12), xticks=[10, 30, 50], yticks=[2, 6, 10])\n",
    "#g.tight_layout()\n",
    "\n",
    "g.add_legend()"
   ]
  },
  {
   "cell_type": "markdown",
   "metadata": {},
   "source": [
    "### Daten in interaktiver Treemap zeigen\n",
    "Dazu gibt es eine sehr nützliche Webseite https://plotly.com/python/treemaps/\n",
    "Zu Farbskalen, siehe: https://plotly.com/python/builtin-colorscales/"
   ]
  },
  {
   "cell_type": "markdown",
   "metadata": {},
   "source": [
    "#### Anzahl Wohnungen nach Zimmerzahl, Kreis und Quartier 2021"
   ]
  },
  {
   "cell_type": "code",
   "execution_count": null,
   "metadata": {},
   "outputs": [],
   "source": [
    "data2betested.dtypes"
   ]
  },
  {
   "cell_type": "code",
   "execution_count": null,
   "metadata": {
    "tags": []
   },
   "outputs": [],
   "source": [
    "myTreemapAgg = data2betested.loc[\"2020\": year_today]  \\\n",
    "    .groupby(['StichtagDatJahr', 'QuarLang', 'KreisLang', 'Zimmerzahl']) \\\n",
    "    .agg(sum_AnzWhgLeer=('AnzWhgLeer', 'sum'),sum_AnzWhgBestand=('AnzWhgBestand', 'sum'))\\\n",
    "    .sort_values('sum_AnzWhgLeer', ascending=False) \n",
    "\n",
    "myTreemapAgg.reset_index().head(3)"
   ]
  },
  {
   "cell_type": "code",
   "execution_count": null,
   "metadata": {},
   "outputs": [],
   "source": [
    "fig = px.treemap(myTreemapAgg.query('sum_AnzWhgLeer >0').reset_index(), path=[px.Constant(\"Anzahl Leerwohnungen nach Zimmerzahl, Kreis und Quartier\"),'KreisLang', 'QuarLang','StichtagDatJahr', 'Zimmerzahl',]\n",
    "                 , values='sum_AnzWhgLeer'\n",
    "                 , color='QuarLang'\n",
    "                 ## bei discrete scales (bei Klassen und Strings):                 \n",
    "                 , color_discrete_map={'(?)':'lightgrey','EVP':'gold', 'SP':'#FF3030', 'PdA':'#EE3B3B', 'Grüne':'#A2CD5A','GLP':'#CAFF70','Die Mitte':'orange','FDP':'#104E8B','AL':'deeppink','SVP':'forestgreen', 'FL ZÜRI':'#8B864E','Volt':'#lightblue' }                \n",
    "                 ## bei continuous scales (bei Zahlenwerten):\n",
    "                #, color_continuous_scale='cividis'\n",
    "                #, color_continuous_midpoint=np.average(df['AnzBestWir'], weights=df['AnzBestWir'])  \n",
    "                 ,height=500\n",
    "                 ,width=1100                 \n",
    "                )\n",
    "fig.update_traces(root_color=\"grey\")\n",
    "fig.update_layout(margin = dict(t=50, l=25, r=250, b=25))\n",
    "fig.show()"
   ]
  },
  {
   "cell_type": "code",
   "execution_count": null,
   "metadata": {},
   "outputs": [],
   "source": [
    "fig = px.treemap(myTreemapAgg.query('sum_AnzWhgLeer >0').reset_index(), path=[px.Constant(\"Anzahl Leerwohnungen nach Zimmerzahl, Kreis und Quartier\"),'StichtagDatJahr', 'Zimmerzahl','KreisLang', 'QuarLang']\n",
    "                 , values='sum_AnzWhgLeer'\n",
    "                 , color='Zimmerzahl'\n",
    "                 ## bei discrete scales (bei Klassen und Strings):                 \n",
    "                 , color_discrete_map={'(?)':'lightgrey','1':'gold', '2':'#FCE1AA', '3':'#FDC59E', '4':'FEAA89','5':'#D4E3E3','6':'94D7E1','FDP':'#104E8B','AL':'deeppink','SVP':'forestgreen', 'FL ZÜRI':'#8B864E','Volt':'#lightblue' }                \n",
    "                 ## bei continuous scales (bei Zahlenwerten):\n",
    "                #, color_continuous_scale='cividis'\n",
    "                #, color_continuous_midpoint=np.average(df['AnzBestWir'], weights=df['AnzBestWir'])  \n",
    "                 ,height=500\n",
    "                 ,width=1100                 \n",
    "                )\n",
    "fig.update_traces(root_color=\"black\")\n",
    "fig.update_layout(margin = dict(t=50, l=25, r=250, b=25))\n",
    "fig.show()"
   ]
  },
  {
   "cell_type": "markdown",
   "metadata": {},
   "source": [
    "**Sharepoint als gecheckt markieren!**"
   ]
  },
  {
   "cell_type": "markdown",
   "metadata": {},
   "source": [
    "Record auf Sharepoint: **[Link](https://kollaboration.intranet.stzh.ch/orga/ssz-produkte/Lists/SASA_Outputs/DispForm.aspx?ID=826&ContentTypeId=0x0100988EAF029F1EFE4CA675F53C32A5D53D01006DBC563E6FBE9E4EB6FDC780799752E1)**"
   ]
  },
  {
   "cell_type": "markdown",
   "metadata": {},
   "source": [
    "## ---------------------- hier Plausi beendet\n",
    "\n",
    "Liniendiagramm \n",
    "[Link zur Doku](https://altair-viz.github.io/gallery/multiline_highlight.html)"
   ]
  },
  {
   "cell_type": "markdown",
   "metadata": {},
   "source": [
    "### Test: Choroplethenkarte\n",
    "Importiere die Geodaten als GeoJSON"
   ]
  },
  {
   "cell_type": "code",
   "execution_count": 40,
   "metadata": {},
   "outputs": [
    {
     "data": {
      "text/html": [
       "<div>\n",
       "<style scoped>\n",
       "    .dataframe tbody tr th:only-of-type {\n",
       "        vertical-align: middle;\n",
       "    }\n",
       "\n",
       "    .dataframe tbody tr th {\n",
       "        vertical-align: top;\n",
       "    }\n",
       "\n",
       "    .dataframe thead th {\n",
       "        text-align: right;\n",
       "    }\n",
       "</style>\n",
       "<table border=\"1\" class=\"dataframe\">\n",
       "  <thead>\n",
       "    <tr style=\"text-align: right;\">\n",
       "      <th></th>\n",
       "      <th>id</th>\n",
       "      <th>kname</th>\n",
       "      <th>knr</th>\n",
       "      <th>objectid</th>\n",
       "      <th>objid</th>\n",
       "      <th>qname</th>\n",
       "      <th>qnr</th>\n",
       "      <th>geometry</th>\n",
       "    </tr>\n",
       "  </thead>\n",
       "  <tbody>\n",
       "    <tr>\n",
       "      <th>0</th>\n",
       "      <td>adm_statistische_quartiere_map.1</td>\n",
       "      <td>Kreis 7</td>\n",
       "      <td>7</td>\n",
       "      <td>1</td>\n",
       "      <td>34</td>\n",
       "      <td>Hirslanden</td>\n",
       "      <td>73</td>\n",
       "      <td>POLYGON ((8.55670 47.36406, 8.55682 47.36410, ...</td>\n",
       "    </tr>\n",
       "    <tr>\n",
       "      <th>1</th>\n",
       "      <td>adm_statistische_quartiere_map.2</td>\n",
       "      <td>Kreis 8</td>\n",
       "      <td>8</td>\n",
       "      <td>2</td>\n",
       "      <td>33</td>\n",
       "      <td>Weinegg</td>\n",
       "      <td>83</td>\n",
       "      <td>POLYGON ((8.55670 47.36405, 8.55672 47.36403, ...</td>\n",
       "    </tr>\n",
       "    <tr>\n",
       "      <th>2</th>\n",
       "      <td>adm_statistische_quartiere_map.3</td>\n",
       "      <td>Kreis 8</td>\n",
       "      <td>8</td>\n",
       "      <td>3</td>\n",
       "      <td>32</td>\n",
       "      <td>Mühlebach</td>\n",
       "      <td>82</td>\n",
       "      <td>POLYGON ((8.55423 47.36456, 8.55426 47.36452, ...</td>\n",
       "    </tr>\n",
       "    <tr>\n",
       "      <th>3</th>\n",
       "      <td>adm_statistische_quartiere_map.4</td>\n",
       "      <td>Kreis 8</td>\n",
       "      <td>8</td>\n",
       "      <td>4</td>\n",
       "      <td>31</td>\n",
       "      <td>Seefeld</td>\n",
       "      <td>81</td>\n",
       "      <td>POLYGON ((8.54795 47.36500, 8.54805 47.36489, ...</td>\n",
       "    </tr>\n",
       "    <tr>\n",
       "      <th>4</th>\n",
       "      <td>adm_statistische_quartiere_map.7</td>\n",
       "      <td>Kreis 4</td>\n",
       "      <td>4</td>\n",
       "      <td>7</td>\n",
       "      <td>16</td>\n",
       "      <td>Werd</td>\n",
       "      <td>41</td>\n",
       "      <td>POLYGON ((8.53300 47.37394, 8.53299 47.37392, ...</td>\n",
       "    </tr>\n",
       "  </tbody>\n",
       "</table>\n",
       "</div>"
      ],
      "text/plain": [
       "                                 id    kname  knr  objectid objid       qname  qnr  \\\n",
       "0  adm_statistische_quartiere_map.1  Kreis 7    7         1    34  Hirslanden   73   \n",
       "1  adm_statistische_quartiere_map.2  Kreis 8    8         2    33     Weinegg   83   \n",
       "2  adm_statistische_quartiere_map.3  Kreis 8    8         3    32   Mühlebach   82   \n",
       "3  adm_statistische_quartiere_map.4  Kreis 8    8         4    31     Seefeld   81   \n",
       "4  adm_statistische_quartiere_map.7  Kreis 4    4         7    16        Werd   41   \n",
       "\n",
       "                                            geometry  \n",
       "0  POLYGON ((8.55670 47.36406, 8.55682 47.36410, ...  \n",
       "1  POLYGON ((8.55670 47.36405, 8.55672 47.36403, ...  \n",
       "2  POLYGON ((8.55423 47.36456, 8.55426 47.36452, ...  \n",
       "3  POLYGON ((8.54795 47.36500, 8.54805 47.36489, ...  \n",
       "4  POLYGON ((8.53300 47.37394, 8.53299 47.37392, ...  "
      ]
     },
     "execution_count": 40,
     "metadata": {},
     "output_type": "execute_result"
    }
   ],
   "source": [
    "# Read abt. Geopandas https://geopandas.org/docs/user_guide/io.html\n",
    "# Wenn die Daten lokal agelegt sind, dann kannst Du folgendes machen:\n",
    "##input_stadtquartiere = r\"//szh.loc/ssz/data/GIS/Daten/Vektor/_aktuell/stzh.adm_statistische_quartiere_map.json\"\n",
    "##df_stadtquartiere = gpd.read_file(input_stadtquartiere)\n",
    "##df_stadtquartiere.head(2)\n",
    "#df_stadtkreise.dtypes\n",
    "\n",
    "geojson_url = \"https://www.ogd.stadt-zuerich.ch/wfs/geoportal/Statistische_Quartiere?service=WFS&version=1.1.0&request=GetFeature&outputFormat=GeoJSON&typename=adm_statistische_quartiere_map\"\n",
    "df_adm_statistische_quartiere_map = gpd.read_file(geojson_url)\n",
    "\n",
    "df_adm_statistische_quartiere_map.head(5)\n"
   ]
  },
  {
   "cell_type": "markdown",
   "metadata": {},
   "source": [
    "Joine die importierten statistischen Daten des aktuellen Jahres zum Geodatensatz:\n",
    "\n",
    "*Siehe dazu Doku zu [Geopandas](https://geopandas.org/docs/user_guide/mergingdata.html)*"
   ]
  },
  {
   "cell_type": "code",
   "execution_count": 41,
   "metadata": {},
   "outputs": [
    {
     "ename": "KeyError",
     "evalue": "'2021-11'",
     "output_type": "error",
     "traceback": [
      "\u001b[1;31m---------------------------------------------------------------------------\u001b[0m",
      "\u001b[1;31mKeyError\u001b[0m                                  Traceback (most recent call last)",
      "\u001b[1;32mC:\\ProgramData\\Anaconda3\\envs\\gogo_gis\\lib\\site-packages\\pandas\\core\\indexes\\base.py\u001b[0m in \u001b[0;36mget_loc\u001b[1;34m(self, key, method, tolerance)\u001b[0m\n\u001b[0;32m   3360\u001b[0m             \u001b[1;32mtry\u001b[0m\u001b[1;33m:\u001b[0m\u001b[1;33m\u001b[0m\u001b[1;33m\u001b[0m\u001b[0m\n\u001b[1;32m-> 3361\u001b[1;33m                 \u001b[1;32mreturn\u001b[0m \u001b[0mself\u001b[0m\u001b[1;33m.\u001b[0m\u001b[0m_engine\u001b[0m\u001b[1;33m.\u001b[0m\u001b[0mget_loc\u001b[0m\u001b[1;33m(\u001b[0m\u001b[0mcasted_key\u001b[0m\u001b[1;33m)\u001b[0m\u001b[1;33m\u001b[0m\u001b[1;33m\u001b[0m\u001b[0m\n\u001b[0m\u001b[0;32m   3362\u001b[0m             \u001b[1;32mexcept\u001b[0m \u001b[0mKeyError\u001b[0m \u001b[1;32mas\u001b[0m \u001b[0merr\u001b[0m\u001b[1;33m:\u001b[0m\u001b[1;33m\u001b[0m\u001b[1;33m\u001b[0m\u001b[0m\n",
      "\u001b[1;32mC:\\ProgramData\\Anaconda3\\envs\\gogo_gis\\lib\\site-packages\\pandas\\_libs\\index.pyx\u001b[0m in \u001b[0;36mpandas._libs.index.DatetimeEngine.get_loc\u001b[1;34m()\u001b[0m\n",
      "\u001b[1;32mC:\\ProgramData\\Anaconda3\\envs\\gogo_gis\\lib\\site-packages\\pandas\\_libs\\index.pyx\u001b[0m in \u001b[0;36mpandas._libs.index.DatetimeEngine.get_loc\u001b[1;34m()\u001b[0m\n",
      "\u001b[1;32mC:\\ProgramData\\Anaconda3\\envs\\gogo_gis\\lib\\site-packages\\pandas\\_libs\\index.pyx\u001b[0m in \u001b[0;36mpandas._libs.index.IndexEngine._get_loc_duplicates\u001b[1;34m()\u001b[0m\n",
      "\u001b[1;31mKeyError\u001b[0m: 1635724800000000000",
      "\nThe above exception was the direct cause of the following exception:\n",
      "\u001b[1;31mKeyError\u001b[0m                                  Traceback (most recent call last)",
      "\u001b[1;32mC:\\ProgramData\\Anaconda3\\envs\\gogo_gis\\lib\\site-packages\\pandas\\core\\indexes\\datetimes.py\u001b[0m in \u001b[0;36mget_loc\u001b[1;34m(self, key, method, tolerance)\u001b[0m\n\u001b[0;32m    702\u001b[0m         \u001b[1;32mtry\u001b[0m\u001b[1;33m:\u001b[0m\u001b[1;33m\u001b[0m\u001b[1;33m\u001b[0m\u001b[0m\n\u001b[1;32m--> 703\u001b[1;33m             \u001b[1;32mreturn\u001b[0m \u001b[0mIndex\u001b[0m\u001b[1;33m.\u001b[0m\u001b[0mget_loc\u001b[0m\u001b[1;33m(\u001b[0m\u001b[0mself\u001b[0m\u001b[1;33m,\u001b[0m \u001b[0mkey\u001b[0m\u001b[1;33m,\u001b[0m \u001b[0mmethod\u001b[0m\u001b[1;33m,\u001b[0m \u001b[0mtolerance\u001b[0m\u001b[1;33m)\u001b[0m\u001b[1;33m\u001b[0m\u001b[1;33m\u001b[0m\u001b[0m\n\u001b[0m\u001b[0;32m    704\u001b[0m         \u001b[1;32mexcept\u001b[0m \u001b[0mKeyError\u001b[0m \u001b[1;32mas\u001b[0m \u001b[0merr\u001b[0m\u001b[1;33m:\u001b[0m\u001b[1;33m\u001b[0m\u001b[1;33m\u001b[0m\u001b[0m\n",
      "\u001b[1;32mC:\\ProgramData\\Anaconda3\\envs\\gogo_gis\\lib\\site-packages\\pandas\\core\\indexes\\base.py\u001b[0m in \u001b[0;36mget_loc\u001b[1;34m(self, key, method, tolerance)\u001b[0m\n\u001b[0;32m   3362\u001b[0m             \u001b[1;32mexcept\u001b[0m \u001b[0mKeyError\u001b[0m \u001b[1;32mas\u001b[0m \u001b[0merr\u001b[0m\u001b[1;33m:\u001b[0m\u001b[1;33m\u001b[0m\u001b[1;33m\u001b[0m\u001b[0m\n\u001b[1;32m-> 3363\u001b[1;33m                 \u001b[1;32mraise\u001b[0m \u001b[0mKeyError\u001b[0m\u001b[1;33m(\u001b[0m\u001b[0mkey\u001b[0m\u001b[1;33m)\u001b[0m \u001b[1;32mfrom\u001b[0m \u001b[0merr\u001b[0m\u001b[1;33m\u001b[0m\u001b[1;33m\u001b[0m\u001b[0m\n\u001b[0m\u001b[0;32m   3364\u001b[0m \u001b[1;33m\u001b[0m\u001b[0m\n",
      "\u001b[1;31mKeyError\u001b[0m: Timestamp('2021-11-01 00:00:00')",
      "\nThe above exception was the direct cause of the following exception:\n",
      "\u001b[1;31mKeyError\u001b[0m                                  Traceback (most recent call last)",
      "\u001b[1;32m~\\AppData\\Local\\Temp\\ipykernel_17776\\845886082.py\u001b[0m in \u001b[0;36m<module>\u001b[1;34m\u001b[0m\n\u001b[1;32m----> 1\u001b[1;33m akt_wbev_quart = data2betested.loc[\"2021-11\"].groupby(\n\u001b[0m\u001b[0;32m      2\u001b[0m     \u001b[1;33m[\u001b[0m\u001b[1;34m'StichtagDatJahr'\u001b[0m\u001b[1;33m,\u001b[0m\u001b[1;34m'StichtagDatMM'\u001b[0m\u001b[1;33m,\u001b[0m\u001b[1;34m'QuarCd'\u001b[0m\u001b[1;33m,\u001b[0m\u001b[1;34m'QuarLang'\u001b[0m\u001b[1;33m]\u001b[0m\u001b[1;33m\u001b[0m\u001b[1;33m\u001b[0m\u001b[0m\n\u001b[0;32m      3\u001b[0m \u001b[1;33m)\u001b[0m\u001b[1;33m.\u001b[0m\u001b[0magg\u001b[0m\u001b[1;33m(\u001b[0m\u001b[1;33m\u001b[0m\u001b[1;33m\u001b[0m\u001b[0m\n\u001b[0;32m      4\u001b[0m     \u001b[1;33m{\u001b[0m\u001b[1;34m'AnzBestWir'\u001b[0m\u001b[1;33m:\u001b[0m\u001b[1;34m'sum'\u001b[0m\u001b[1;33m}\u001b[0m\u001b[1;33m\u001b[0m\u001b[1;33m\u001b[0m\u001b[0m\n\u001b[0;32m      5\u001b[0m )\n",
      "\u001b[1;32mC:\\ProgramData\\Anaconda3\\envs\\gogo_gis\\lib\\site-packages\\pandas\\core\\indexing.py\u001b[0m in \u001b[0;36m__getitem__\u001b[1;34m(self, key)\u001b[0m\n\u001b[0;32m    929\u001b[0m \u001b[1;33m\u001b[0m\u001b[0m\n\u001b[0;32m    930\u001b[0m             \u001b[0mmaybe_callable\u001b[0m \u001b[1;33m=\u001b[0m \u001b[0mcom\u001b[0m\u001b[1;33m.\u001b[0m\u001b[0mapply_if_callable\u001b[0m\u001b[1;33m(\u001b[0m\u001b[0mkey\u001b[0m\u001b[1;33m,\u001b[0m \u001b[0mself\u001b[0m\u001b[1;33m.\u001b[0m\u001b[0mobj\u001b[0m\u001b[1;33m)\u001b[0m\u001b[1;33m\u001b[0m\u001b[1;33m\u001b[0m\u001b[0m\n\u001b[1;32m--> 931\u001b[1;33m             \u001b[1;32mreturn\u001b[0m \u001b[0mself\u001b[0m\u001b[1;33m.\u001b[0m\u001b[0m_getitem_axis\u001b[0m\u001b[1;33m(\u001b[0m\u001b[0mmaybe_callable\u001b[0m\u001b[1;33m,\u001b[0m \u001b[0maxis\u001b[0m\u001b[1;33m=\u001b[0m\u001b[0maxis\u001b[0m\u001b[1;33m)\u001b[0m\u001b[1;33m\u001b[0m\u001b[1;33m\u001b[0m\u001b[0m\n\u001b[0m\u001b[0;32m    932\u001b[0m \u001b[1;33m\u001b[0m\u001b[0m\n\u001b[0;32m    933\u001b[0m     \u001b[1;32mdef\u001b[0m \u001b[0m_is_scalar_access\u001b[0m\u001b[1;33m(\u001b[0m\u001b[0mself\u001b[0m\u001b[1;33m,\u001b[0m \u001b[0mkey\u001b[0m\u001b[1;33m:\u001b[0m \u001b[0mtuple\u001b[0m\u001b[1;33m)\u001b[0m\u001b[1;33m:\u001b[0m\u001b[1;33m\u001b[0m\u001b[1;33m\u001b[0m\u001b[0m\n",
      "\u001b[1;32mC:\\ProgramData\\Anaconda3\\envs\\gogo_gis\\lib\\site-packages\\pandas\\core\\indexing.py\u001b[0m in \u001b[0;36m_getitem_axis\u001b[1;34m(self, key, axis)\u001b[0m\n\u001b[0;32m   1162\u001b[0m         \u001b[1;31m# fall thru to straight lookup\u001b[0m\u001b[1;33m\u001b[0m\u001b[1;33m\u001b[0m\u001b[1;33m\u001b[0m\u001b[0m\n\u001b[0;32m   1163\u001b[0m         \u001b[0mself\u001b[0m\u001b[1;33m.\u001b[0m\u001b[0m_validate_key\u001b[0m\u001b[1;33m(\u001b[0m\u001b[0mkey\u001b[0m\u001b[1;33m,\u001b[0m \u001b[0maxis\u001b[0m\u001b[1;33m)\u001b[0m\u001b[1;33m\u001b[0m\u001b[1;33m\u001b[0m\u001b[0m\n\u001b[1;32m-> 1164\u001b[1;33m         \u001b[1;32mreturn\u001b[0m \u001b[0mself\u001b[0m\u001b[1;33m.\u001b[0m\u001b[0m_get_label\u001b[0m\u001b[1;33m(\u001b[0m\u001b[0mkey\u001b[0m\u001b[1;33m,\u001b[0m \u001b[0maxis\u001b[0m\u001b[1;33m=\u001b[0m\u001b[0maxis\u001b[0m\u001b[1;33m)\u001b[0m\u001b[1;33m\u001b[0m\u001b[1;33m\u001b[0m\u001b[0m\n\u001b[0m\u001b[0;32m   1165\u001b[0m \u001b[1;33m\u001b[0m\u001b[0m\n\u001b[0;32m   1166\u001b[0m     \u001b[1;32mdef\u001b[0m \u001b[0m_get_slice_axis\u001b[0m\u001b[1;33m(\u001b[0m\u001b[0mself\u001b[0m\u001b[1;33m,\u001b[0m \u001b[0mslice_obj\u001b[0m\u001b[1;33m:\u001b[0m \u001b[0mslice\u001b[0m\u001b[1;33m,\u001b[0m \u001b[0maxis\u001b[0m\u001b[1;33m:\u001b[0m \u001b[0mint\u001b[0m\u001b[1;33m)\u001b[0m\u001b[1;33m:\u001b[0m\u001b[1;33m\u001b[0m\u001b[1;33m\u001b[0m\u001b[0m\n",
      "\u001b[1;32mC:\\ProgramData\\Anaconda3\\envs\\gogo_gis\\lib\\site-packages\\pandas\\core\\indexing.py\u001b[0m in \u001b[0;36m_get_label\u001b[1;34m(self, label, axis)\u001b[0m\n\u001b[0;32m   1111\u001b[0m     \u001b[1;32mdef\u001b[0m \u001b[0m_get_label\u001b[0m\u001b[1;33m(\u001b[0m\u001b[0mself\u001b[0m\u001b[1;33m,\u001b[0m \u001b[0mlabel\u001b[0m\u001b[1;33m,\u001b[0m \u001b[0maxis\u001b[0m\u001b[1;33m:\u001b[0m \u001b[0mint\u001b[0m\u001b[1;33m)\u001b[0m\u001b[1;33m:\u001b[0m\u001b[1;33m\u001b[0m\u001b[1;33m\u001b[0m\u001b[0m\n\u001b[0;32m   1112\u001b[0m         \u001b[1;31m# GH#5667 this will fail if the label is not present in the axis.\u001b[0m\u001b[1;33m\u001b[0m\u001b[1;33m\u001b[0m\u001b[1;33m\u001b[0m\u001b[0m\n\u001b[1;32m-> 1113\u001b[1;33m         \u001b[1;32mreturn\u001b[0m \u001b[0mself\u001b[0m\u001b[1;33m.\u001b[0m\u001b[0mobj\u001b[0m\u001b[1;33m.\u001b[0m\u001b[0mxs\u001b[0m\u001b[1;33m(\u001b[0m\u001b[0mlabel\u001b[0m\u001b[1;33m,\u001b[0m \u001b[0maxis\u001b[0m\u001b[1;33m=\u001b[0m\u001b[0maxis\u001b[0m\u001b[1;33m)\u001b[0m\u001b[1;33m\u001b[0m\u001b[1;33m\u001b[0m\u001b[0m\n\u001b[0m\u001b[0;32m   1114\u001b[0m \u001b[1;33m\u001b[0m\u001b[0m\n\u001b[0;32m   1115\u001b[0m     \u001b[1;32mdef\u001b[0m \u001b[0m_handle_lowerdim_multi_index_axis0\u001b[0m\u001b[1;33m(\u001b[0m\u001b[0mself\u001b[0m\u001b[1;33m,\u001b[0m \u001b[0mtup\u001b[0m\u001b[1;33m:\u001b[0m \u001b[0mtuple\u001b[0m\u001b[1;33m)\u001b[0m\u001b[1;33m:\u001b[0m\u001b[1;33m\u001b[0m\u001b[1;33m\u001b[0m\u001b[0m\n",
      "\u001b[1;32mC:\\ProgramData\\Anaconda3\\envs\\gogo_gis\\lib\\site-packages\\pandas\\core\\generic.py\u001b[0m in \u001b[0;36mxs\u001b[1;34m(self, key, axis, level, drop_level)\u001b[0m\n\u001b[0;32m   3774\u001b[0m                 \u001b[1;32mraise\u001b[0m \u001b[0mTypeError\u001b[0m\u001b[1;33m(\u001b[0m\u001b[1;34mf\"Expected label or tuple of labels, got {key}\"\u001b[0m\u001b[1;33m)\u001b[0m \u001b[1;32mfrom\u001b[0m \u001b[0me\u001b[0m\u001b[1;33m\u001b[0m\u001b[1;33m\u001b[0m\u001b[0m\n\u001b[0;32m   3775\u001b[0m         \u001b[1;32melse\u001b[0m\u001b[1;33m:\u001b[0m\u001b[1;33m\u001b[0m\u001b[1;33m\u001b[0m\u001b[0m\n\u001b[1;32m-> 3776\u001b[1;33m             \u001b[0mloc\u001b[0m \u001b[1;33m=\u001b[0m \u001b[0mindex\u001b[0m\u001b[1;33m.\u001b[0m\u001b[0mget_loc\u001b[0m\u001b[1;33m(\u001b[0m\u001b[0mkey\u001b[0m\u001b[1;33m)\u001b[0m\u001b[1;33m\u001b[0m\u001b[1;33m\u001b[0m\u001b[0m\n\u001b[0m\u001b[0;32m   3777\u001b[0m \u001b[1;33m\u001b[0m\u001b[0m\n\u001b[0;32m   3778\u001b[0m             \u001b[1;32mif\u001b[0m \u001b[0misinstance\u001b[0m\u001b[1;33m(\u001b[0m\u001b[0mloc\u001b[0m\u001b[1;33m,\u001b[0m \u001b[0mnp\u001b[0m\u001b[1;33m.\u001b[0m\u001b[0mndarray\u001b[0m\u001b[1;33m)\u001b[0m\u001b[1;33m:\u001b[0m\u001b[1;33m\u001b[0m\u001b[1;33m\u001b[0m\u001b[0m\n",
      "\u001b[1;32mC:\\ProgramData\\Anaconda3\\envs\\gogo_gis\\lib\\site-packages\\pandas\\core\\indexes\\datetimes.py\u001b[0m in \u001b[0;36mget_loc\u001b[1;34m(self, key, method, tolerance)\u001b[0m\n\u001b[0;32m    703\u001b[0m             \u001b[1;32mreturn\u001b[0m \u001b[0mIndex\u001b[0m\u001b[1;33m.\u001b[0m\u001b[0mget_loc\u001b[0m\u001b[1;33m(\u001b[0m\u001b[0mself\u001b[0m\u001b[1;33m,\u001b[0m \u001b[0mkey\u001b[0m\u001b[1;33m,\u001b[0m \u001b[0mmethod\u001b[0m\u001b[1;33m,\u001b[0m \u001b[0mtolerance\u001b[0m\u001b[1;33m)\u001b[0m\u001b[1;33m\u001b[0m\u001b[1;33m\u001b[0m\u001b[0m\n\u001b[0;32m    704\u001b[0m         \u001b[1;32mexcept\u001b[0m \u001b[0mKeyError\u001b[0m \u001b[1;32mas\u001b[0m \u001b[0merr\u001b[0m\u001b[1;33m:\u001b[0m\u001b[1;33m\u001b[0m\u001b[1;33m\u001b[0m\u001b[0m\n\u001b[1;32m--> 705\u001b[1;33m             \u001b[1;32mraise\u001b[0m \u001b[0mKeyError\u001b[0m\u001b[1;33m(\u001b[0m\u001b[0morig_key\u001b[0m\u001b[1;33m)\u001b[0m \u001b[1;32mfrom\u001b[0m \u001b[0merr\u001b[0m\u001b[1;33m\u001b[0m\u001b[1;33m\u001b[0m\u001b[0m\n\u001b[0m\u001b[0;32m    706\u001b[0m \u001b[1;33m\u001b[0m\u001b[0m\n\u001b[0;32m    707\u001b[0m     \u001b[1;32mdef\u001b[0m \u001b[0m_maybe_cast_for_get_loc\u001b[0m\u001b[1;33m(\u001b[0m\u001b[0mself\u001b[0m\u001b[1;33m,\u001b[0m \u001b[0mkey\u001b[0m\u001b[1;33m)\u001b[0m \u001b[1;33m->\u001b[0m \u001b[0mTimestamp\u001b[0m\u001b[1;33m:\u001b[0m\u001b[1;33m\u001b[0m\u001b[1;33m\u001b[0m\u001b[0m\n",
      "\u001b[1;31mKeyError\u001b[0m: '2021-11'"
     ]
    }
   ],
   "source": [
    "akt_wbev_quart = data2betested.loc[\"2021-11\"].groupby(\n",
    "    ['StichtagDatJahr','StichtagDatMM','QuarCd','QuarLang']\n",
    ").agg(\n",
    "    {'AnzBestWir':'sum'}\n",
    ")\n",
    "akt_wbev_quart.head()\n"
   ]
  },
  {
   "cell_type": "code",
   "execution_count": null,
   "metadata": {},
   "outputs": [],
   "source": [
    "# Rename attribute stznr to StatZoneSort, so the IDs have the same name\n",
    "stadtquartiere_shapes = df_adm_statistische_quartiere_map[['geometry', 'qnr', 'qname', 'knr']].rename(columns={'qnr': 'QuarCd'})\n",
    "\n",
    "# Merge with `merge` method on shared variable (stznr und StatZoneSort):\n",
    "stadtquartiere_shapes_joined = stadtquartiere_shapes.merge(akt_wbev_quart, on='QuarCd')\n",
    "\n",
    "stadtquartiere_shapes_joined.head(2)\n"
   ]
  },
  {
   "cell_type": "code",
   "execution_count": null,
   "metadata": {},
   "outputs": [],
   "source": [
    "# Plot by StatQuartiere\n",
    "# Weitere Schemes: scheme='quantiles', scheme='fisherjenks', scheme='natural_breaks',\n",
    "\n",
    "stadtquartiere_shapes_joined.plot(column='AnzBestWir', cmap='viridis', scheme='natural_breaks', legend=True )\n",
    "#scheme werte: https://matplotlib.org/2.0.2/users/colormaps.html\n",
    "\n",
    "stadtquartiere_shapes_joined.plot(column='AnzBestWir', cmap='plasma', scheme='fisherjenks', legend=True )\n",
    "#scheme werte: https://matplotlib.org/2.0.2/users/colormaps.html\n",
    "stadtquartiere_shapes_joined.plot(column='AnzBestWir', cmap='cool', scheme='quantiles', legend=True )\n",
    "#scheme werte: https://matplotlib.org/2.0.2/users/colormaps.html\n",
    "\n",
    "#\n",
    "#Neuere Gallerie: https://matplotlib.org/stable/gallery/index.html"
   ]
  },
  {
   "cell_type": "raw",
   "metadata": {},
   "source": [
    "fig, ax = plt.subplots(1, 1)\n",
    "\n",
    "statzonen_shapes_aktJahr.plot(column='AnzWhg', ax=ax, legend=True, legend_kwds={'label': \"Anzahl Personen\",'orientation': \"horizontal\"})\n"
   ]
  },
  {
   "cell_type": "markdown",
   "metadata": {},
   "source": [
    "Noch zu prüfen, folgendes schöne Beispiel: https://docs.bokeh.org/en/latest/docs/user_guide/interaction/legends.html\n",
    "\n",
    "Konkrete Beispiele von Bookeh in Jupyter NB: https://docs.bokeh.org/en/latest/docs/user_guide/jupyter.html"
   ]
  },
  {
   "cell_type": "code",
   "execution_count": null,
   "metadata": {},
   "outputs": [],
   "source": []
  },
  {
   "cell_type": "raw",
   "metadata": {},
   "source": []
  },
  {
   "cell_type": "code",
   "execution_count": null,
   "metadata": {},
   "outputs": [],
   "source": []
  }
 ],
 "metadata": {
  "kernelspec": {
   "display_name": "Python 3 (ipykernel)",
   "language": "python",
   "name": "python3"
  },
  "language_info": {
   "codemirror_mode": {
    "name": "ipython",
    "version": 3
   },
   "file_extension": ".py",
   "mimetype": "text/x-python",
   "name": "python",
   "nbconvert_exporter": "python",
   "pygments_lexer": "ipython3",
   "version": "3.7.11"
  }
 },
 "nbformat": 4,
 "nbformat_minor": 4
}
