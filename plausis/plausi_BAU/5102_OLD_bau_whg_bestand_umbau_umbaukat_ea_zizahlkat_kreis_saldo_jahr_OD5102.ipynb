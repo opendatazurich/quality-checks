{
 "cells": [
  {
   "cell_type": "markdown",
   "metadata": {},
   "source": [
    "**Importiere die notwendigen Packages**"
   ]
  },
  {
   "cell_type": "code",
   "execution_count": null,
   "metadata": {},
   "outputs": [],
   "source": [
    "# Empfehlung für Colab: Installiere alles was Du brauchst\n",
    "# %pip install pandas pivottablejs numpy altair matplotlib geopandas folium"
   ]
  },
  {
   "cell_type": "code",
   "execution_count": 4,
   "metadata": {},
   "outputs": [],
   "source": [
    "import pandas as pd\n",
    "import pivottablejs\n",
    "from pivottablejs import pivot_ui\n",
    "import numpy as np\n",
    "import altair as alt\n",
    "import matplotlib.pyplot as plt\n",
    "from datetime import datetime\n",
    "import geopandas as gpd\n",
    "import folium \n",
    "\n"
   ]
  },
  {
   "cell_type": "markdown",
   "metadata": {},
   "source": [
    "Definiere Settings. Hier das Zahlenformat von Float-Werten (z.B. *'{:,.2f}'.format* mit Komma als Tausenderzeichen), "
   ]
  },
  {
   "cell_type": "code",
   "execution_count": 5,
   "metadata": {},
   "outputs": [],
   "source": [
    "pd.options.display.float_format = '{:.0f}'.format\n",
    "pd.set_option('display.width', 100)\n",
    "pd.set_option('display.max_columns', 15)"
   ]
  },
  {
   "cell_type": "markdown",
   "metadata": {},
   "source": [
    "Importiere einen Datensatz von der **DWH_INT** Dropzone.\n",
    "\n",
    "- Beachte dabei die Notation des Pfades...\n",
    "- Definiere mal aktuell noch keine weiteren Parameter beim Import"
   ]
  },
  {
   "cell_type": "markdown",
   "metadata": {},
   "source": [
    "**Dataset auf INTEG Datenkatalog**: https://data.integ.stadt-zuerich.ch/dataset/int_dwh_bau_whg_bestand_umbau_umbaukat_ea_zizahlkat_kreis_saldo_jahr_od5102\n",
    "\n",
    "(int_dwh)"
   ]
  },
  {
   "cell_type": "code",
   "execution_count": 6,
   "metadata": {},
   "outputs": [
    {
     "name": "stdout",
     "output_type": "stream",
     "text": [
      "int\n"
     ]
    }
   ],
   "source": [
    "#Die Datasets sind nur zum Testen auf INT-DWH-Dropzone. Wenn der Test vorbei ist, sind sie auf PROD. \n",
    "# Über den Status kann man einfach switchen\n",
    "\n",
    "status = \"int\";\n",
    "print(status)"
   ]
  },
  {
   "cell_type": "code",
   "execution_count": 7,
   "metadata": {},
   "outputs": [
    {
     "name": "stdout",
     "output_type": "stream",
     "text": [
      "\\\\szh\\ssz\\applikationen\\OGD_Dropzone\\INT_DWH\\bau_whg_bestand_umbau_umbaukat_ea_zizahlkat_kreis_saldo_jahr_OD5102\\BAU510OD5102.csv\n"
     ]
    }
   ],
   "source": [
    "# Filepath\n",
    "if status == \"prod\":\n",
    "    fp = r\"\\\\szh\\ssz\\applikationen\\OGD_Dropzone\\DWH\\bau_whg_bestand_umbau_umbaukat_ea_zizahlkat_kreis_saldo_jahr_OD5102\\BAU510OD5102.csv\"\n",
    "else:\n",
    "    fp = r\"\\\\szh\\ssz\\applikationen\\OGD_Dropzone\\INT_DWH\\bau_whg_bestand_umbau_umbaukat_ea_zizahlkat_kreis_saldo_jahr_OD5102\\BAU510OD5102.csv\"\n",
    "print(fp)"
   ]
  },
  {
   "cell_type": "code",
   "execution_count": 8,
   "metadata": {},
   "outputs": [
    {
     "name": "stdout",
     "output_type": "stream",
     "text": [
      "done\n"
     ]
    }
   ],
   "source": [
    "\n",
    "# Read the data\n",
    "data2betested = pd.read_csv(\n",
    "    fp, \n",
    "    sep=',',\n",
    "   #usecols=[0,1,2,3,4,6],\n",
    "   #names=['stationid','year','month','avgtemp','latitude','longitude','elevation','station','countryid','country'],\n",
    "   #skiprows=1,\n",
    "   # parse_dates=[0],\n",
    "    parse_dates=True,\n",
    "    #date_parser=lambda x: pd.to_datetime(x, format=\"%Y\"), \n",
    "    #index_col=\"date_time\",\n",
    "    low_memory=False    \n",
    "    )\n",
    "print('done')"
   ]
  },
  {
   "cell_type": "markdown",
   "metadata": {},
   "source": [
    "In der Folge ein paar erste Tests:"
   ]
  },
  {
   "cell_type": "code",
   "execution_count": 9,
   "metadata": {},
   "outputs": [
    {
     "data": {
      "text/plain": [
       "pandas.core.frame.DataFrame"
      ]
     },
     "execution_count": 9,
     "metadata": {},
     "output_type": "execute_result"
    }
   ],
   "source": [
    "type(data2betested)"
   ]
  },
  {
   "cell_type": "markdown",
   "metadata": {},
   "source": [
    " - 1) Zeige eine kurze Vorschau der importierten Daten\n",
    " - 2) Weise die Datentypen aus\n",
    " - 3) Zeige die Shape (Umfang) des Datensatzes an"
   ]
  },
  {
   "cell_type": "code",
   "execution_count": 10,
   "metadata": {},
   "outputs": [
    {
     "data": {
      "text/html": [
       "<div>\n",
       "<style scoped>\n",
       "    .dataframe tbody tr th:only-of-type {\n",
       "        vertical-align: middle;\n",
       "    }\n",
       "\n",
       "    .dataframe tbody tr th {\n",
       "        vertical-align: top;\n",
       "    }\n",
       "\n",
       "    .dataframe thead th {\n",
       "        text-align: right;\n",
       "    }\n",
       "</style>\n",
       "<table border=\"1\" class=\"dataframe\">\n",
       "  <thead>\n",
       "    <tr style=\"text-align: right;\">\n",
       "      <th></th>\n",
       "      <th>Jahr</th>\n",
       "      <th>Umbaukategorie</th>\n",
       "      <th>UmbaukategorieCd</th>\n",
       "      <th>Wohnungsgroesse</th>\n",
       "      <th>Wohnungssaldo</th>\n",
       "    </tr>\n",
       "  </thead>\n",
       "  <tbody>\n",
       "    <tr>\n",
       "      <th>0</th>\n",
       "      <td>2015</td>\n",
       "      <td>Aufstockung/Anbau</td>\n",
       "      <td>3</td>\n",
       "      <td>AnzGbdWhgStatZim1_3_saldo</td>\n",
       "      <td>67</td>\n",
       "    </tr>\n",
       "    <tr>\n",
       "      <th>1</th>\n",
       "      <td>2015</td>\n",
       "      <td>Aufstockung/Anbau</td>\n",
       "      <td>3</td>\n",
       "      <td>AnzGbdWhgStatZim4plus_saldo</td>\n",
       "      <td>7</td>\n",
       "    </tr>\n",
       "    <tr>\n",
       "      <th>2</th>\n",
       "      <td>2015</td>\n",
       "      <td>Innere Reserven</td>\n",
       "      <td>2</td>\n",
       "      <td>AnzGbdWhgStatZim1_3_saldo</td>\n",
       "      <td>6</td>\n",
       "    </tr>\n",
       "  </tbody>\n",
       "</table>\n",
       "</div>"
      ],
      "text/plain": [
       "   Jahr     Umbaukategorie  UmbaukategorieCd              Wohnungsgroesse  Wohnungssaldo\n",
       "0  2015  Aufstockung/Anbau                 3    AnzGbdWhgStatZim1_3_saldo             67\n",
       "1  2015  Aufstockung/Anbau                 3  AnzGbdWhgStatZim4plus_saldo              7\n",
       "2  2015    Innere Reserven                 2    AnzGbdWhgStatZim1_3_saldo              6"
      ]
     },
     "execution_count": 10,
     "metadata": {},
     "output_type": "execute_result"
    }
   ],
   "source": [
    "data2betested.head(3)"
   ]
  },
  {
   "cell_type": "code",
   "execution_count": 11,
   "metadata": {},
   "outputs": [
    {
     "data": {
      "text/plain": [
       "Jahr                 int64\n",
       "Umbaukategorie      object\n",
       "UmbaukategorieCd     int64\n",
       "Wohnungsgroesse     object\n",
       "Wohnungssaldo        int64\n",
       "dtype: object"
      ]
     },
     "execution_count": 11,
     "metadata": {},
     "output_type": "execute_result"
    }
   ],
   "source": [
    "data2betested.dtypes"
   ]
  },
  {
   "cell_type": "code",
   "execution_count": 12,
   "metadata": {},
   "outputs": [
    {
     "data": {
      "text/plain": [
       "(70, 5)"
      ]
     },
     "execution_count": 12,
     "metadata": {},
     "output_type": "execute_result"
    }
   ],
   "source": [
    "data2betested.shape"
   ]
  },
  {
   "cell_type": "markdown",
   "metadata": {},
   "source": [
    "Beschreibe einzelne Attribute"
   ]
  },
  {
   "cell_type": "code",
   "execution_count": 13,
   "metadata": {},
   "outputs": [
    {
     "data": {
      "text/html": [
       "<div>\n",
       "<style scoped>\n",
       "    .dataframe tbody tr th:only-of-type {\n",
       "        vertical-align: middle;\n",
       "    }\n",
       "\n",
       "    .dataframe tbody tr th {\n",
       "        vertical-align: top;\n",
       "    }\n",
       "\n",
       "    .dataframe thead th {\n",
       "        text-align: right;\n",
       "    }\n",
       "</style>\n",
       "<table border=\"1\" class=\"dataframe\">\n",
       "  <thead>\n",
       "    <tr style=\"text-align: right;\">\n",
       "      <th></th>\n",
       "      <th>Jahr</th>\n",
       "      <th>UmbaukategorieCd</th>\n",
       "      <th>Wohnungssaldo</th>\n",
       "    </tr>\n",
       "  </thead>\n",
       "  <tbody>\n",
       "    <tr>\n",
       "      <th>count</th>\n",
       "      <td>70</td>\n",
       "      <td>70</td>\n",
       "      <td>70</td>\n",
       "    </tr>\n",
       "    <tr>\n",
       "      <th>mean</th>\n",
       "      <td>2018</td>\n",
       "      <td>3</td>\n",
       "      <td>30</td>\n",
       "    </tr>\n",
       "    <tr>\n",
       "      <th>std</th>\n",
       "      <td>2</td>\n",
       "      <td>1</td>\n",
       "      <td>61</td>\n",
       "    </tr>\n",
       "    <tr>\n",
       "      <th>min</th>\n",
       "      <td>2015</td>\n",
       "      <td>1</td>\n",
       "      <td>-59</td>\n",
       "    </tr>\n",
       "    <tr>\n",
       "      <th>25%</th>\n",
       "      <td>2016</td>\n",
       "      <td>2</td>\n",
       "      <td>0</td>\n",
       "    </tr>\n",
       "    <tr>\n",
       "      <th>50%</th>\n",
       "      <td>2018</td>\n",
       "      <td>3</td>\n",
       "      <td>6</td>\n",
       "    </tr>\n",
       "    <tr>\n",
       "      <th>75%</th>\n",
       "      <td>2020</td>\n",
       "      <td>4</td>\n",
       "      <td>26</td>\n",
       "    </tr>\n",
       "    <tr>\n",
       "      <th>max</th>\n",
       "      <td>2021</td>\n",
       "      <td>5</td>\n",
       "      <td>324</td>\n",
       "    </tr>\n",
       "  </tbody>\n",
       "</table>\n",
       "</div>"
      ],
      "text/plain": [
       "       Jahr  UmbaukategorieCd  Wohnungssaldo\n",
       "count    70                70             70\n",
       "mean   2018                 3             30\n",
       "std       2                 1             61\n",
       "min    2015                 1            -59\n",
       "25%    2016                 2              0\n",
       "50%    2018                 3              6\n",
       "75%    2020                 4             26\n",
       "max    2021                 5            324"
      ]
     },
     "execution_count": 13,
     "metadata": {},
     "output_type": "execute_result"
    }
   ],
   "source": [
    "data2betested.describe()"
   ]
  },
  {
   "cell_type": "markdown",
   "metadata": {},
   "source": [
    "Wie viele Nullwerte gibt es im Datensatz?"
   ]
  },
  {
   "cell_type": "code",
   "execution_count": 14,
   "metadata": {
    "scrolled": true
   },
   "outputs": [
    {
     "data": {
      "text/plain": [
       "Jahr                0\n",
       "Umbaukategorie      0\n",
       "UmbaukategorieCd    0\n",
       "Wohnungsgroesse     0\n",
       "Wohnungssaldo       0\n",
       "dtype: int64"
      ]
     },
     "execution_count": 14,
     "metadata": {},
     "output_type": "execute_result"
    }
   ],
   "source": [
    "data2betested.isnull().sum()"
   ]
  },
  {
   "cell_type": "markdown",
   "metadata": {},
   "source": [
    "Wandle die Spalte Jahr von Int zu **Datetime** um. Dies wird in den meisten Grafiken so benötigt."
   ]
  },
  {
   "cell_type": "code",
   "execution_count": 15,
   "metadata": {
    "scrolled": true
   },
   "outputs": [
    {
     "data": {
      "text/html": [
       "<div>\n",
       "<style scoped>\n",
       "    .dataframe tbody tr th:only-of-type {\n",
       "        vertical-align: middle;\n",
       "    }\n",
       "\n",
       "    .dataframe tbody tr th {\n",
       "        vertical-align: top;\n",
       "    }\n",
       "\n",
       "    .dataframe thead th {\n",
       "        text-align: right;\n",
       "    }\n",
       "</style>\n",
       "<table border=\"1\" class=\"dataframe\">\n",
       "  <thead>\n",
       "    <tr style=\"text-align: right;\">\n",
       "      <th></th>\n",
       "      <th>Jahr</th>\n",
       "      <th>Umbaukategorie</th>\n",
       "      <th>UmbaukategorieCd</th>\n",
       "      <th>Wohnungsgroesse</th>\n",
       "      <th>Wohnungssaldo</th>\n",
       "    </tr>\n",
       "  </thead>\n",
       "  <tbody>\n",
       "    <tr>\n",
       "      <th>0</th>\n",
       "      <td>2015-01-01</td>\n",
       "      <td>Aufstockung/Anbau</td>\n",
       "      <td>3</td>\n",
       "      <td>AnzGbdWhgStatZim1_3_saldo</td>\n",
       "      <td>67</td>\n",
       "    </tr>\n",
       "    <tr>\n",
       "      <th>1</th>\n",
       "      <td>2015-01-01</td>\n",
       "      <td>Aufstockung/Anbau</td>\n",
       "      <td>3</td>\n",
       "      <td>AnzGbdWhgStatZim4plus_saldo</td>\n",
       "      <td>7</td>\n",
       "    </tr>\n",
       "    <tr>\n",
       "      <th>2</th>\n",
       "      <td>2015-01-01</td>\n",
       "      <td>Innere Reserven</td>\n",
       "      <td>2</td>\n",
       "      <td>AnzGbdWhgStatZim1_3_saldo</td>\n",
       "      <td>6</td>\n",
       "    </tr>\n",
       "    <tr>\n",
       "      <th>3</th>\n",
       "      <td>2015-01-01</td>\n",
       "      <td>Innere Reserven</td>\n",
       "      <td>2</td>\n",
       "      <td>AnzGbdWhgStatZim4plus_saldo</td>\n",
       "      <td>-3</td>\n",
       "    </tr>\n",
       "    <tr>\n",
       "      <th>4</th>\n",
       "      <td>2015-01-01</td>\n",
       "      <td>Reine Erneuerung</td>\n",
       "      <td>1</td>\n",
       "      <td>AnzGbdWhgStatZim4plus_saldo</td>\n",
       "      <td>24</td>\n",
       "    </tr>\n",
       "    <tr>\n",
       "      <th>...</th>\n",
       "      <td>...</td>\n",
       "      <td>...</td>\n",
       "      <td>...</td>\n",
       "      <td>...</td>\n",
       "      <td>...</td>\n",
       "    </tr>\n",
       "    <tr>\n",
       "      <th>65</th>\n",
       "      <td>2021-01-01</td>\n",
       "      <td>Reine Erneuerung</td>\n",
       "      <td>1</td>\n",
       "      <td>AnzGbdWhgStatZim1_3_saldo</td>\n",
       "      <td>80</td>\n",
       "    </tr>\n",
       "    <tr>\n",
       "      <th>66</th>\n",
       "      <td>2021-01-01</td>\n",
       "      <td>Umnutzung zu Nichtwohnen</td>\n",
       "      <td>5</td>\n",
       "      <td>AnzGbdWhgStatZim4plus_saldo</td>\n",
       "      <td>0</td>\n",
       "    </tr>\n",
       "    <tr>\n",
       "      <th>67</th>\n",
       "      <td>2021-01-01</td>\n",
       "      <td>Umnutzung zu Nichtwohnen</td>\n",
       "      <td>5</td>\n",
       "      <td>AnzGbdWhgStatZim1_3_saldo</td>\n",
       "      <td>16</td>\n",
       "    </tr>\n",
       "    <tr>\n",
       "      <th>68</th>\n",
       "      <td>2021-01-01</td>\n",
       "      <td>Umnutzung zu Wohnen</td>\n",
       "      <td>4</td>\n",
       "      <td>AnzGbdWhgStatZim4plus_saldo</td>\n",
       "      <td>1</td>\n",
       "    </tr>\n",
       "    <tr>\n",
       "      <th>69</th>\n",
       "      <td>2021-01-01</td>\n",
       "      <td>Umnutzung zu Wohnen</td>\n",
       "      <td>4</td>\n",
       "      <td>AnzGbdWhgStatZim1_3_saldo</td>\n",
       "      <td>7</td>\n",
       "    </tr>\n",
       "  </tbody>\n",
       "</table>\n",
       "<p>70 rows × 5 columns</p>\n",
       "</div>"
      ],
      "text/plain": [
       "         Jahr            Umbaukategorie  UmbaukategorieCd              Wohnungsgroesse  \\\n",
       "0  2015-01-01         Aufstockung/Anbau                 3    AnzGbdWhgStatZim1_3_saldo   \n",
       "1  2015-01-01         Aufstockung/Anbau                 3  AnzGbdWhgStatZim4plus_saldo   \n",
       "2  2015-01-01           Innere Reserven                 2    AnzGbdWhgStatZim1_3_saldo   \n",
       "3  2015-01-01           Innere Reserven                 2  AnzGbdWhgStatZim4plus_saldo   \n",
       "4  2015-01-01          Reine Erneuerung                 1  AnzGbdWhgStatZim4plus_saldo   \n",
       "..        ...                       ...               ...                          ...   \n",
       "65 2021-01-01          Reine Erneuerung                 1    AnzGbdWhgStatZim1_3_saldo   \n",
       "66 2021-01-01  Umnutzung zu Nichtwohnen                 5  AnzGbdWhgStatZim4plus_saldo   \n",
       "67 2021-01-01  Umnutzung zu Nichtwohnen                 5    AnzGbdWhgStatZim1_3_saldo   \n",
       "68 2021-01-01       Umnutzung zu Wohnen                 4  AnzGbdWhgStatZim4plus_saldo   \n",
       "69 2021-01-01       Umnutzung zu Wohnen                 4    AnzGbdWhgStatZim1_3_saldo   \n",
       "\n",
       "    Wohnungssaldo  \n",
       "0              67  \n",
       "1               7  \n",
       "2               6  \n",
       "3              -3  \n",
       "4              24  \n",
       "..            ...  \n",
       "65             80  \n",
       "66              0  \n",
       "67             16  \n",
       "68              1  \n",
       "69              7  \n",
       "\n",
       "[70 rows x 5 columns]"
      ]
     },
     "execution_count": 15,
     "metadata": {},
     "output_type": "execute_result"
    }
   ],
   "source": [
    "data2betested['Jahr']=pd.to_datetime(data2betested['Jahr'], format='%Y')\n",
    "#data2betested['Jahr']=pd.to_datetime(data2betested['Jahr'], format='%Y')\n",
    "#TO DO --> setze das Datum auf den 31.12. der Jahres.\n",
    "#test=data2betested[['StichtagDatJahr']].date().replace(month=12, day=31)\n",
    "\n",
    "data2betested\n"
   ]
  },
  {
   "cell_type": "markdown",
   "metadata": {},
   "source": [
    "Bereite die Daten für die Grafik unten vor"
   ]
  },
  {
   "cell_type": "code",
   "execution_count": 16,
   "metadata": {},
   "outputs": [
    {
     "data": {
      "text/plain": [
       "7"
      ]
     },
     "execution_count": 16,
     "metadata": {},
     "output_type": "execute_result"
    }
   ],
   "source": [
    "Jahre = data2betested.groupby(\"Jahr\")\n",
    "len(Jahre)"
   ]
  },
  {
   "cell_type": "code",
   "execution_count": 17,
   "metadata": {},
   "outputs": [
    {
     "name": "stdout",
     "output_type": "stream",
     "text": [
      "2015-01-01 00:00:00 10\n",
      "2016-01-01 00:00:00 10\n",
      "2017-01-01 00:00:00 10\n",
      "2018-01-01 00:00:00 10\n",
      "2019-01-01 00:00:00 10\n",
      "2020-01-01 00:00:00 10\n",
      "2021-01-01 00:00:00 10\n"
     ]
    }
   ],
   "source": [
    "for key, group in Jahre:\n",
    "    print(key, len(group))"
   ]
  },
  {
   "cell_type": "code",
   "execution_count": 20,
   "metadata": {},
   "outputs": [
    {
     "data": {
      "text/html": [
       "<div>\n",
       "<style scoped>\n",
       "    .dataframe tbody tr th:only-of-type {\n",
       "        vertical-align: middle;\n",
       "    }\n",
       "\n",
       "    .dataframe tbody tr th {\n",
       "        vertical-align: top;\n",
       "    }\n",
       "\n",
       "    .dataframe thead th {\n",
       "        text-align: right;\n",
       "    }\n",
       "</style>\n",
       "<table border=\"1\" class=\"dataframe\">\n",
       "  <thead>\n",
       "    <tr style=\"text-align: right;\">\n",
       "      <th></th>\n",
       "      <th>Jahr</th>\n",
       "      <th>Umbaukategorie</th>\n",
       "      <th>UmbaukategorieCd</th>\n",
       "      <th>Wohnungsgroesse</th>\n",
       "      <th>Wohnungssaldo</th>\n",
       "    </tr>\n",
       "  </thead>\n",
       "  <tbody>\n",
       "    <tr>\n",
       "      <th>60</th>\n",
       "      <td>2021-01-01</td>\n",
       "      <td>Aufstockung/Anbau</td>\n",
       "      <td>3</td>\n",
       "      <td>AnzGbdWhgStatZim4plus_saldo</td>\n",
       "      <td>16</td>\n",
       "    </tr>\n",
       "    <tr>\n",
       "      <th>61</th>\n",
       "      <td>2021-01-01</td>\n",
       "      <td>Aufstockung/Anbau</td>\n",
       "      <td>3</td>\n",
       "      <td>AnzGbdWhgStatZim1_3_saldo</td>\n",
       "      <td>181</td>\n",
       "    </tr>\n",
       "    <tr>\n",
       "      <th>62</th>\n",
       "      <td>2021-01-01</td>\n",
       "      <td>Innere Reserven</td>\n",
       "      <td>2</td>\n",
       "      <td>AnzGbdWhgStatZim1_3_saldo</td>\n",
       "      <td>7</td>\n",
       "    </tr>\n",
       "  </tbody>\n",
       "</table>\n",
       "</div>"
      ],
      "text/plain": [
       "         Jahr     Umbaukategorie  UmbaukategorieCd              Wohnungsgroesse  Wohnungssaldo\n",
       "60 2021-01-01  Aufstockung/Anbau                 3  AnzGbdWhgStatZim4plus_saldo             16\n",
       "61 2021-01-01  Aufstockung/Anbau                 3    AnzGbdWhgStatZim1_3_saldo            181\n",
       "62 2021-01-01    Innere Reserven                 2    AnzGbdWhgStatZim1_3_saldo              7"
      ]
     },
     "execution_count": 20,
     "metadata": {},
     "output_type": "execute_result"
    }
   ],
   "source": [
    "myJahr = \"2021-01-01\"\n",
    "aktuellesJahr=Jahre.get_group(myJahr)   \n",
    "aktuellesJahr.head(3)\n"
   ]
  },
  {
   "cell_type": "markdown",
   "metadata": {},
   "source": [
    "**Selektionen und Aggregationen**\n",
    "\n",
    "Check this [Doku](https://www.shanelynn.ie/summarising-aggregation-and-grouping-data-in-python-pandas/)"
   ]
  },
  {
   "cell_type": "code",
   "execution_count": 21,
   "metadata": {},
   "outputs": [
    {
     "data": {
      "text/html": [
       "<div>\n",
       "<style scoped>\n",
       "    .dataframe tbody tr th:only-of-type {\n",
       "        vertical-align: middle;\n",
       "    }\n",
       "\n",
       "    .dataframe tbody tr th {\n",
       "        vertical-align: top;\n",
       "    }\n",
       "\n",
       "    .dataframe thead th {\n",
       "        text-align: right;\n",
       "    }\n",
       "</style>\n",
       "<table border=\"1\" class=\"dataframe\">\n",
       "  <thead>\n",
       "    <tr style=\"text-align: right;\">\n",
       "      <th></th>\n",
       "      <th></th>\n",
       "      <th></th>\n",
       "      <th>Wohnungssaldo</th>\n",
       "    </tr>\n",
       "    <tr>\n",
       "      <th>Jahr</th>\n",
       "      <th>UmbaukategorieCd</th>\n",
       "      <th>Umbaukategorie</th>\n",
       "      <th></th>\n",
       "    </tr>\n",
       "  </thead>\n",
       "  <tbody>\n",
       "    <tr>\n",
       "      <th rowspan=\"5\" valign=\"top\">2015-01-01</th>\n",
       "      <th>1</th>\n",
       "      <th>Reine Erneuerung</th>\n",
       "      <td>138</td>\n",
       "    </tr>\n",
       "    <tr>\n",
       "      <th>2</th>\n",
       "      <th>Innere Reserven</th>\n",
       "      <td>3</td>\n",
       "    </tr>\n",
       "    <tr>\n",
       "      <th>3</th>\n",
       "      <th>Aufstockung/Anbau</th>\n",
       "      <td>74</td>\n",
       "    </tr>\n",
       "    <tr>\n",
       "      <th>4</th>\n",
       "      <th>Umnutzung zu Wohnen</th>\n",
       "      <td>15</td>\n",
       "    </tr>\n",
       "    <tr>\n",
       "      <th>5</th>\n",
       "      <th>Umnutzung zu Nichtwohnen</th>\n",
       "      <td>0</td>\n",
       "    </tr>\n",
       "    <tr>\n",
       "      <th rowspan=\"5\" valign=\"top\">2016-01-01</th>\n",
       "      <th>1</th>\n",
       "      <th>Reine Erneuerung</th>\n",
       "      <td>214</td>\n",
       "    </tr>\n",
       "    <tr>\n",
       "      <th>2</th>\n",
       "      <th>Innere Reserven</th>\n",
       "      <td>-31</td>\n",
       "    </tr>\n",
       "    <tr>\n",
       "      <th>3</th>\n",
       "      <th>Aufstockung/Anbau</th>\n",
       "      <td>78</td>\n",
       "    </tr>\n",
       "    <tr>\n",
       "      <th>4</th>\n",
       "      <th>Umnutzung zu Wohnen</th>\n",
       "      <td>55</td>\n",
       "    </tr>\n",
       "    <tr>\n",
       "      <th>5</th>\n",
       "      <th>Umnutzung zu Nichtwohnen</th>\n",
       "      <td>-6</td>\n",
       "    </tr>\n",
       "  </tbody>\n",
       "</table>\n",
       "</div>"
      ],
      "text/plain": [
       "                                                      Wohnungssaldo\n",
       "Jahr       UmbaukategorieCd Umbaukategorie                         \n",
       "2015-01-01 1                Reine Erneuerung                    138\n",
       "           2                Innere Reserven                       3\n",
       "           3                Aufstockung/Anbau                    74\n",
       "           4                Umnutzung zu Wohnen                  15\n",
       "           5                Umnutzung zu Nichtwohnen              0\n",
       "2016-01-01 1                Reine Erneuerung                    214\n",
       "           2                Innere Reserven                     -31\n",
       "           3                Aufstockung/Anbau                    78\n",
       "           4                Umnutzung zu Wohnen                  55\n",
       "           5                Umnutzung zu Nichtwohnen             -6"
      ]
     },
     "execution_count": 21,
     "metadata": {},
     "output_type": "execute_result"
    }
   ],
   "source": [
    "   \n",
    "test = data2betested.groupby(\n",
    "   ['Jahr', 'UmbaukategorieCd', 'Umbaukategorie' ]\n",
    ").agg(\n",
    "    {\n",
    "         'Wohnungssaldo':(sum),     # Sum --> (sum)\n",
    "         #'AnzPers': (sum),   \n",
    "         #'Wohnungsfl': 'max'  \n",
    "    }\n",
    ")\n",
    "test.head(10)\n"
   ]
  },
  {
   "cell_type": "markdown",
   "metadata": {},
   "source": [
    "**Einfache Visualisierungen zur Plausi**"
   ]
  },
  {
   "cell_type": "markdown",
   "metadata": {},
   "source": [
    "Exploriere die Daten mit Pivottable.JS"
   ]
  },
  {
   "cell_type": "code",
   "execution_count": 22,
   "metadata": {},
   "outputs": [
    {
     "data": {
      "text/html": [
       "\n",
       "        <iframe\n",
       "            width=\"100%\"\n",
       "            height=\"500\"\n",
       "            src=\"pivottablejs.html\"\n",
       "            frameborder=\"0\"\n",
       "            allowfullscreen\n",
       "        ></iframe>\n",
       "        "
      ],
      "text/plain": [
       "<IPython.lib.display.IFrame at 0x200a7e36af0>"
      ]
     },
     "execution_count": 22,
     "metadata": {},
     "output_type": "execute_result"
    }
   ],
   "source": [
    "from pivottablejs import pivot_ui\n",
    "\n",
    "pivot_ui(data2betested)"
   ]
  },
  {
   "cell_type": "markdown",
   "metadata": {},
   "source": [
    "Liniendiagramm \n",
    "[Link zur Doku](https://altair-viz.github.io/gallery/multiline_highlight.html)"
   ]
  },
  {
   "cell_type": "code",
   "execution_count": 23,
   "metadata": {},
   "outputs": [
    {
     "data": {
      "text/html": [
       "<div>\n",
       "<style scoped>\n",
       "    .dataframe tbody tr th:only-of-type {\n",
       "        vertical-align: middle;\n",
       "    }\n",
       "\n",
       "    .dataframe tbody tr th {\n",
       "        vertical-align: top;\n",
       "    }\n",
       "\n",
       "    .dataframe thead th {\n",
       "        text-align: right;\n",
       "    }\n",
       "</style>\n",
       "<table border=\"1\" class=\"dataframe\">\n",
       "  <thead>\n",
       "    <tr style=\"text-align: right;\">\n",
       "      <th></th>\n",
       "      <th>Jahr</th>\n",
       "      <th>UmbaukategorieCd</th>\n",
       "      <th>Umbaukategorie</th>\n",
       "      <th>Wohnungsgroesse</th>\n",
       "      <th>Wohnungssaldo</th>\n",
       "    </tr>\n",
       "  </thead>\n",
       "  <tbody>\n",
       "    <tr>\n",
       "      <th>60</th>\n",
       "      <td>2021-01-01</td>\n",
       "      <td>3</td>\n",
       "      <td>Aufstockung/Anbau</td>\n",
       "      <td>AnzGbdWhgStatZim4plus_saldo</td>\n",
       "      <td>16</td>\n",
       "    </tr>\n",
       "    <tr>\n",
       "      <th>61</th>\n",
       "      <td>2021-01-01</td>\n",
       "      <td>3</td>\n",
       "      <td>Aufstockung/Anbau</td>\n",
       "      <td>AnzGbdWhgStatZim1_3_saldo</td>\n",
       "      <td>181</td>\n",
       "    </tr>\n",
       "    <tr>\n",
       "      <th>62</th>\n",
       "      <td>2021-01-01</td>\n",
       "      <td>2</td>\n",
       "      <td>Innere Reserven</td>\n",
       "      <td>AnzGbdWhgStatZim1_3_saldo</td>\n",
       "      <td>7</td>\n",
       "    </tr>\n",
       "    <tr>\n",
       "      <th>63</th>\n",
       "      <td>2021-01-01</td>\n",
       "      <td>2</td>\n",
       "      <td>Innere Reserven</td>\n",
       "      <td>AnzGbdWhgStatZim4plus_saldo</td>\n",
       "      <td>1</td>\n",
       "    </tr>\n",
       "    <tr>\n",
       "      <th>64</th>\n",
       "      <td>2021-01-01</td>\n",
       "      <td>1</td>\n",
       "      <td>Reine Erneuerung</td>\n",
       "      <td>AnzGbdWhgStatZim4plus_saldo</td>\n",
       "      <td>23</td>\n",
       "    </tr>\n",
       "    <tr>\n",
       "      <th>65</th>\n",
       "      <td>2021-01-01</td>\n",
       "      <td>1</td>\n",
       "      <td>Reine Erneuerung</td>\n",
       "      <td>AnzGbdWhgStatZim1_3_saldo</td>\n",
       "      <td>80</td>\n",
       "    </tr>\n",
       "    <tr>\n",
       "      <th>66</th>\n",
       "      <td>2021-01-01</td>\n",
       "      <td>5</td>\n",
       "      <td>Umnutzung zu Nichtwohnen</td>\n",
       "      <td>AnzGbdWhgStatZim4plus_saldo</td>\n",
       "      <td>0</td>\n",
       "    </tr>\n",
       "    <tr>\n",
       "      <th>67</th>\n",
       "      <td>2021-01-01</td>\n",
       "      <td>5</td>\n",
       "      <td>Umnutzung zu Nichtwohnen</td>\n",
       "      <td>AnzGbdWhgStatZim1_3_saldo</td>\n",
       "      <td>16</td>\n",
       "    </tr>\n",
       "    <tr>\n",
       "      <th>68</th>\n",
       "      <td>2021-01-01</td>\n",
       "      <td>4</td>\n",
       "      <td>Umnutzung zu Wohnen</td>\n",
       "      <td>AnzGbdWhgStatZim4plus_saldo</td>\n",
       "      <td>1</td>\n",
       "    </tr>\n",
       "    <tr>\n",
       "      <th>69</th>\n",
       "      <td>2021-01-01</td>\n",
       "      <td>4</td>\n",
       "      <td>Umnutzung zu Wohnen</td>\n",
       "      <td>AnzGbdWhgStatZim1_3_saldo</td>\n",
       "      <td>7</td>\n",
       "    </tr>\n",
       "  </tbody>\n",
       "</table>\n",
       "</div>"
      ],
      "text/plain": [
       "         Jahr  UmbaukategorieCd            Umbaukategorie              Wohnungsgroesse  \\\n",
       "60 2021-01-01                 3         Aufstockung/Anbau  AnzGbdWhgStatZim4plus_saldo   \n",
       "61 2021-01-01                 3         Aufstockung/Anbau    AnzGbdWhgStatZim1_3_saldo   \n",
       "62 2021-01-01                 2           Innere Reserven    AnzGbdWhgStatZim1_3_saldo   \n",
       "63 2021-01-01                 2           Innere Reserven  AnzGbdWhgStatZim4plus_saldo   \n",
       "64 2021-01-01                 1          Reine Erneuerung  AnzGbdWhgStatZim4plus_saldo   \n",
       "65 2021-01-01                 1          Reine Erneuerung    AnzGbdWhgStatZim1_3_saldo   \n",
       "66 2021-01-01                 5  Umnutzung zu Nichtwohnen  AnzGbdWhgStatZim4plus_saldo   \n",
       "67 2021-01-01                 5  Umnutzung zu Nichtwohnen    AnzGbdWhgStatZim1_3_saldo   \n",
       "68 2021-01-01                 4       Umnutzung zu Wohnen  AnzGbdWhgStatZim4plus_saldo   \n",
       "69 2021-01-01                 4       Umnutzung zu Wohnen    AnzGbdWhgStatZim1_3_saldo   \n",
       "\n",
       "    Wohnungssaldo  \n",
       "60             16  \n",
       "61            181  \n",
       "62              7  \n",
       "63              1  \n",
       "64             23  \n",
       "65             80  \n",
       "66              0  \n",
       "67             16  \n",
       "68              1  \n",
       "69              7  "
      ]
     },
     "execution_count": 23,
     "metadata": {},
     "output_type": "execute_result"
    }
   ],
   "source": [
    "mySelection = aktuellesJahr[['Jahr', 'UmbaukategorieCd', 'Umbaukategorie', 'Wohnungsgroesse', 'Wohnungssaldo']]\n",
    "mySelection"
   ]
  },
  {
   "cell_type": "code",
   "execution_count": 24,
   "metadata": {},
   "outputs": [
    {
     "data": {
      "text/html": [
       "<div>\n",
       "<style scoped>\n",
       "    .dataframe tbody tr th:only-of-type {\n",
       "        vertical-align: middle;\n",
       "    }\n",
       "\n",
       "    .dataframe tbody tr th {\n",
       "        vertical-align: top;\n",
       "    }\n",
       "\n",
       "    .dataframe thead tr th {\n",
       "        text-align: left;\n",
       "    }\n",
       "\n",
       "    .dataframe thead tr:last-of-type th {\n",
       "        text-align: right;\n",
       "    }\n",
       "</style>\n",
       "<table border=\"1\" class=\"dataframe\">\n",
       "  <thead>\n",
       "    <tr>\n",
       "      <th></th>\n",
       "      <th></th>\n",
       "      <th></th>\n",
       "      <th></th>\n",
       "      <th colspan=\"3\" halign=\"left\">Wohnungssaldo</th>\n",
       "    </tr>\n",
       "    <tr>\n",
       "      <th></th>\n",
       "      <th></th>\n",
       "      <th></th>\n",
       "      <th></th>\n",
       "      <th>sum</th>\n",
       "      <th>min</th>\n",
       "      <th>max</th>\n",
       "    </tr>\n",
       "    <tr>\n",
       "      <th>Jahr</th>\n",
       "      <th>UmbaukategorieCd</th>\n",
       "      <th>Umbaukategorie</th>\n",
       "      <th>Wohnungsgroesse</th>\n",
       "      <th></th>\n",
       "      <th></th>\n",
       "      <th></th>\n",
       "    </tr>\n",
       "  </thead>\n",
       "  <tbody>\n",
       "    <tr>\n",
       "      <th rowspan=\"10\" valign=\"top\">2021-01-01</th>\n",
       "      <th rowspan=\"2\" valign=\"top\">1</th>\n",
       "      <th rowspan=\"2\" valign=\"top\">Reine Erneuerung</th>\n",
       "      <th>AnzGbdWhgStatZim1_3_saldo</th>\n",
       "      <td>80</td>\n",
       "      <td>80</td>\n",
       "      <td>80</td>\n",
       "    </tr>\n",
       "    <tr>\n",
       "      <th>AnzGbdWhgStatZim4plus_saldo</th>\n",
       "      <td>23</td>\n",
       "      <td>23</td>\n",
       "      <td>23</td>\n",
       "    </tr>\n",
       "    <tr>\n",
       "      <th rowspan=\"2\" valign=\"top\">2</th>\n",
       "      <th rowspan=\"2\" valign=\"top\">Innere Reserven</th>\n",
       "      <th>AnzGbdWhgStatZim1_3_saldo</th>\n",
       "      <td>7</td>\n",
       "      <td>7</td>\n",
       "      <td>7</td>\n",
       "    </tr>\n",
       "    <tr>\n",
       "      <th>AnzGbdWhgStatZim4plus_saldo</th>\n",
       "      <td>1</td>\n",
       "      <td>1</td>\n",
       "      <td>1</td>\n",
       "    </tr>\n",
       "    <tr>\n",
       "      <th rowspan=\"2\" valign=\"top\">3</th>\n",
       "      <th rowspan=\"2\" valign=\"top\">Aufstockung/Anbau</th>\n",
       "      <th>AnzGbdWhgStatZim1_3_saldo</th>\n",
       "      <td>181</td>\n",
       "      <td>181</td>\n",
       "      <td>181</td>\n",
       "    </tr>\n",
       "    <tr>\n",
       "      <th>AnzGbdWhgStatZim4plus_saldo</th>\n",
       "      <td>16</td>\n",
       "      <td>16</td>\n",
       "      <td>16</td>\n",
       "    </tr>\n",
       "    <tr>\n",
       "      <th rowspan=\"2\" valign=\"top\">4</th>\n",
       "      <th rowspan=\"2\" valign=\"top\">Umnutzung zu Wohnen</th>\n",
       "      <th>AnzGbdWhgStatZim1_3_saldo</th>\n",
       "      <td>7</td>\n",
       "      <td>7</td>\n",
       "      <td>7</td>\n",
       "    </tr>\n",
       "    <tr>\n",
       "      <th>AnzGbdWhgStatZim4plus_saldo</th>\n",
       "      <td>1</td>\n",
       "      <td>1</td>\n",
       "      <td>1</td>\n",
       "    </tr>\n",
       "    <tr>\n",
       "      <th rowspan=\"2\" valign=\"top\">5</th>\n",
       "      <th rowspan=\"2\" valign=\"top\">Umnutzung zu Nichtwohnen</th>\n",
       "      <th>AnzGbdWhgStatZim1_3_saldo</th>\n",
       "      <td>16</td>\n",
       "      <td>16</td>\n",
       "      <td>16</td>\n",
       "    </tr>\n",
       "    <tr>\n",
       "      <th>AnzGbdWhgStatZim4plus_saldo</th>\n",
       "      <td>0</td>\n",
       "      <td>0</td>\n",
       "      <td>0</td>\n",
       "    </tr>\n",
       "  </tbody>\n",
       "</table>\n",
       "</div>"
      ],
      "text/plain": [
       "                                                                                 Wohnungssaldo  \\\n",
       "                                                                                           sum   \n",
       "Jahr       UmbaukategorieCd Umbaukategorie           Wohnungsgroesse                             \n",
       "2021-01-01 1                Reine Erneuerung         AnzGbdWhgStatZim1_3_saldo              80   \n",
       "                                                     AnzGbdWhgStatZim4plus_saldo            23   \n",
       "           2                Innere Reserven          AnzGbdWhgStatZim1_3_saldo               7   \n",
       "                                                     AnzGbdWhgStatZim4plus_saldo             1   \n",
       "           3                Aufstockung/Anbau        AnzGbdWhgStatZim1_3_saldo             181   \n",
       "                                                     AnzGbdWhgStatZim4plus_saldo            16   \n",
       "           4                Umnutzung zu Wohnen      AnzGbdWhgStatZim1_3_saldo               7   \n",
       "                                                     AnzGbdWhgStatZim4plus_saldo             1   \n",
       "           5                Umnutzung zu Nichtwohnen AnzGbdWhgStatZim1_3_saldo              16   \n",
       "                                                     AnzGbdWhgStatZim4plus_saldo             0   \n",
       "\n",
       "                                                                                            \n",
       "                                                                                  min  max  \n",
       "Jahr       UmbaukategorieCd Umbaukategorie           Wohnungsgroesse                        \n",
       "2021-01-01 1                Reine Erneuerung         AnzGbdWhgStatZim1_3_saldo     80   80  \n",
       "                                                     AnzGbdWhgStatZim4plus_saldo   23   23  \n",
       "           2                Innere Reserven          AnzGbdWhgStatZim1_3_saldo      7    7  \n",
       "                                                     AnzGbdWhgStatZim4plus_saldo    1    1  \n",
       "           3                Aufstockung/Anbau        AnzGbdWhgStatZim1_3_saldo    181  181  \n",
       "                                                     AnzGbdWhgStatZim4plus_saldo   16   16  \n",
       "           4                Umnutzung zu Wohnen      AnzGbdWhgStatZim1_3_saldo      7    7  \n",
       "                                                     AnzGbdWhgStatZim4plus_saldo    1    1  \n",
       "           5                Umnutzung zu Nichtwohnen AnzGbdWhgStatZim1_3_saldo     16   16  \n",
       "                                                     AnzGbdWhgStatZim4plus_saldo    0    0  "
      ]
     },
     "execution_count": 24,
     "metadata": {},
     "output_type": "execute_result"
    }
   ],
   "source": [
    "agg_mySelection = mySelection.groupby(\n",
    "   ['Jahr', 'UmbaukategorieCd', 'Umbaukategorie', 'Wohnungsgroesse']\n",
    ").agg(\n",
    "    {\n",
    "         'Wohnungssaldo':(sum,min,max)\n",
    "    }\n",
    ")\n",
    "agg_mySelection"
   ]
  },
  {
   "cell_type": "code",
   "execution_count": 25,
   "metadata": {},
   "outputs": [
    {
     "data": {
      "text/html": [
       "<div>\n",
       "<style scoped>\n",
       "    .dataframe tbody tr th:only-of-type {\n",
       "        vertical-align: middle;\n",
       "    }\n",
       "\n",
       "    .dataframe tbody tr th {\n",
       "        vertical-align: top;\n",
       "    }\n",
       "\n",
       "    .dataframe thead th {\n",
       "        text-align: right;\n",
       "    }\n",
       "</style>\n",
       "<table border=\"1\" class=\"dataframe\">\n",
       "  <thead>\n",
       "    <tr style=\"text-align: right;\">\n",
       "      <th></th>\n",
       "      <th>Jahr</th>\n",
       "      <th>Umbaukategorie</th>\n",
       "      <th>UmbaukategorieCd</th>\n",
       "      <th>Wohnungsgroesse</th>\n",
       "      <th>Wohnungssaldo</th>\n",
       "    </tr>\n",
       "  </thead>\n",
       "  <tbody>\n",
       "    <tr>\n",
       "      <th>60</th>\n",
       "      <td>2021-01-01</td>\n",
       "      <td>Aufstockung/Anbau</td>\n",
       "      <td>3</td>\n",
       "      <td>AnzGbdWhgStatZim4plus_saldo</td>\n",
       "      <td>16</td>\n",
       "    </tr>\n",
       "    <tr>\n",
       "      <th>61</th>\n",
       "      <td>2021-01-01</td>\n",
       "      <td>Aufstockung/Anbau</td>\n",
       "      <td>3</td>\n",
       "      <td>AnzGbdWhgStatZim1_3_saldo</td>\n",
       "      <td>181</td>\n",
       "    </tr>\n",
       "    <tr>\n",
       "      <th>62</th>\n",
       "      <td>2021-01-01</td>\n",
       "      <td>Innere Reserven</td>\n",
       "      <td>2</td>\n",
       "      <td>AnzGbdWhgStatZim1_3_saldo</td>\n",
       "      <td>7</td>\n",
       "    </tr>\n",
       "    <tr>\n",
       "      <th>63</th>\n",
       "      <td>2021-01-01</td>\n",
       "      <td>Innere Reserven</td>\n",
       "      <td>2</td>\n",
       "      <td>AnzGbdWhgStatZim4plus_saldo</td>\n",
       "      <td>1</td>\n",
       "    </tr>\n",
       "    <tr>\n",
       "      <th>64</th>\n",
       "      <td>2021-01-01</td>\n",
       "      <td>Reine Erneuerung</td>\n",
       "      <td>1</td>\n",
       "      <td>AnzGbdWhgStatZim4plus_saldo</td>\n",
       "      <td>23</td>\n",
       "    </tr>\n",
       "  </tbody>\n",
       "</table>\n",
       "</div>"
      ],
      "text/plain": [
       "         Jahr     Umbaukategorie  UmbaukategorieCd              Wohnungsgroesse  Wohnungssaldo\n",
       "60 2021-01-01  Aufstockung/Anbau                 3  AnzGbdWhgStatZim4plus_saldo             16\n",
       "61 2021-01-01  Aufstockung/Anbau                 3    AnzGbdWhgStatZim1_3_saldo            181\n",
       "62 2021-01-01    Innere Reserven                 2    AnzGbdWhgStatZim1_3_saldo              7\n",
       "63 2021-01-01    Innere Reserven                 2  AnzGbdWhgStatZim4plus_saldo              1\n",
       "64 2021-01-01   Reine Erneuerung                 1  AnzGbdWhgStatZim4plus_saldo             23"
      ]
     },
     "execution_count": 25,
     "metadata": {},
     "output_type": "execute_result"
    }
   ],
   "source": [
    "mySelection = aktuellesJahr[(aktuellesJahr.UmbaukategorieCd != 2) | (aktuellesJahr.Jahr != 1900)]\n",
    "\n",
    "mySelection.head()"
   ]
  },
  {
   "cell_type": "code",
   "execution_count": 26,
   "metadata": {},
   "outputs": [
    {
     "data": {
      "text/html": [
       "\n",
       "<div id=\"altair-viz-3dd3e137d866471aa0636613c49245e8\"></div>\n",
       "<script type=\"text/javascript\">\n",
       "  (function(spec, embedOpt){\n",
       "    let outputDiv = document.currentScript.previousElementSibling;\n",
       "    if (outputDiv.id !== \"altair-viz-3dd3e137d866471aa0636613c49245e8\") {\n",
       "      outputDiv = document.getElementById(\"altair-viz-3dd3e137d866471aa0636613c49245e8\");\n",
       "    }\n",
       "    const paths = {\n",
       "      \"vega\": \"https://cdn.jsdelivr.net/npm//vega@5?noext\",\n",
       "      \"vega-lib\": \"https://cdn.jsdelivr.net/npm//vega-lib?noext\",\n",
       "      \"vega-lite\": \"https://cdn.jsdelivr.net/npm//vega-lite@4.8.1?noext\",\n",
       "      \"vega-embed\": \"https://cdn.jsdelivr.net/npm//vega-embed@6?noext\",\n",
       "    };\n",
       "\n",
       "    function loadScript(lib) {\n",
       "      return new Promise(function(resolve, reject) {\n",
       "        var s = document.createElement('script');\n",
       "        s.src = paths[lib];\n",
       "        s.async = true;\n",
       "        s.onload = () => resolve(paths[lib]);\n",
       "        s.onerror = () => reject(`Error loading script: ${paths[lib]}`);\n",
       "        document.getElementsByTagName(\"head\")[0].appendChild(s);\n",
       "      });\n",
       "    }\n",
       "\n",
       "    function showError(err) {\n",
       "      outputDiv.innerHTML = `<div class=\"error\" style=\"color:red;\">${err}</div>`;\n",
       "      throw err;\n",
       "    }\n",
       "\n",
       "    function displayChart(vegaEmbed) {\n",
       "      vegaEmbed(outputDiv, spec, embedOpt)\n",
       "        .catch(err => showError(`Javascript Error: ${err.message}<br>This usually means there's a typo in your chart specification. See the javascript console for the full traceback.`));\n",
       "    }\n",
       "\n",
       "    if(typeof define === \"function\" && define.amd) {\n",
       "      requirejs.config({paths});\n",
       "      require([\"vega-embed\"], displayChart, err => showError(`Error loading script: ${err.message}`));\n",
       "    } else if (typeof vegaEmbed === \"function\") {\n",
       "      displayChart(vegaEmbed);\n",
       "    } else {\n",
       "      loadScript(\"vega\")\n",
       "        .then(() => loadScript(\"vega-lite\"))\n",
       "        .then(() => loadScript(\"vega-embed\"))\n",
       "        .catch(showError)\n",
       "        .then(() => displayChart(vegaEmbed));\n",
       "    }\n",
       "  })({\"config\": {\"view\": {\"continuousWidth\": 400, \"continuousHeight\": 300}}, \"layer\": [{\"mark\": \"circle\", \"encoding\": {\"color\": {\"type\": \"nominal\", \"field\": \"Wohnungsgroesse\"}, \"opacity\": {\"value\": 0}, \"x\": {\"type\": \"nominal\", \"field\": \"Umbaukategorie\"}, \"y\": {\"type\": \"quantitative\", \"field\": \"Wohnungssaldo\"}}, \"height\": 300, \"selection\": {\"selector001\": {\"type\": \"single\", \"on\": \"mouseover\", \"fields\": [\"Wohnungsgroesse\"], \"nearest\": true}}, \"width\": 700}, {\"mark\": \"line\", \"encoding\": {\"color\": {\"type\": \"nominal\", \"field\": \"Wohnungsgroesse\"}, \"size\": {\"condition\": {\"value\": 1.5, \"selection\": {\"not\": \"selector001\"}}, \"value\": 4}, \"x\": {\"type\": \"nominal\", \"field\": \"Umbaukategorie\"}, \"y\": {\"type\": \"quantitative\", \"field\": \"Wohnungssaldo\"}}, \"selection\": {\"selector002\": {\"type\": \"interval\", \"bind\": \"scales\", \"encodings\": [\"x\", \"y\"]}}}], \"data\": {\"name\": \"data-6c11d9847246f1a2cb2ba1dbc6bcd8ee\"}, \"$schema\": \"https://vega.github.io/schema/vega-lite/v4.8.1.json\", \"datasets\": {\"data-6c11d9847246f1a2cb2ba1dbc6bcd8ee\": [{\"Jahr\": \"2021-01-01T00:00:00\", \"Umbaukategorie\": \"Aufstockung/Anbau\", \"UmbaukategorieCd\": 3, \"Wohnungsgroesse\": \"AnzGbdWhgStatZim4plus_saldo\", \"Wohnungssaldo\": 16}, {\"Jahr\": \"2021-01-01T00:00:00\", \"Umbaukategorie\": \"Aufstockung/Anbau\", \"UmbaukategorieCd\": 3, \"Wohnungsgroesse\": \"AnzGbdWhgStatZim1_3_saldo\", \"Wohnungssaldo\": 181}, {\"Jahr\": \"2021-01-01T00:00:00\", \"Umbaukategorie\": \"Innere Reserven\", \"UmbaukategorieCd\": 2, \"Wohnungsgroesse\": \"AnzGbdWhgStatZim1_3_saldo\", \"Wohnungssaldo\": 7}, {\"Jahr\": \"2021-01-01T00:00:00\", \"Umbaukategorie\": \"Innere Reserven\", \"UmbaukategorieCd\": 2, \"Wohnungsgroesse\": \"AnzGbdWhgStatZim4plus_saldo\", \"Wohnungssaldo\": 1}, {\"Jahr\": \"2021-01-01T00:00:00\", \"Umbaukategorie\": \"Reine Erneuerung\", \"UmbaukategorieCd\": 1, \"Wohnungsgroesse\": \"AnzGbdWhgStatZim4plus_saldo\", \"Wohnungssaldo\": 23}, {\"Jahr\": \"2021-01-01T00:00:00\", \"Umbaukategorie\": \"Reine Erneuerung\", \"UmbaukategorieCd\": 1, \"Wohnungsgroesse\": \"AnzGbdWhgStatZim1_3_saldo\", \"Wohnungssaldo\": 80}, {\"Jahr\": \"2021-01-01T00:00:00\", \"Umbaukategorie\": \"Umnutzung zu Nichtwohnen\", \"UmbaukategorieCd\": 5, \"Wohnungsgroesse\": \"AnzGbdWhgStatZim4plus_saldo\", \"Wohnungssaldo\": 0}, {\"Jahr\": \"2021-01-01T00:00:00\", \"Umbaukategorie\": \"Umnutzung zu Nichtwohnen\", \"UmbaukategorieCd\": 5, \"Wohnungsgroesse\": \"AnzGbdWhgStatZim1_3_saldo\", \"Wohnungssaldo\": 16}, {\"Jahr\": \"2021-01-01T00:00:00\", \"Umbaukategorie\": \"Umnutzung zu Wohnen\", \"UmbaukategorieCd\": 4, \"Wohnungsgroesse\": \"AnzGbdWhgStatZim4plus_saldo\", \"Wohnungssaldo\": 1}, {\"Jahr\": \"2021-01-01T00:00:00\", \"Umbaukategorie\": \"Umnutzung zu Wohnen\", \"UmbaukategorieCd\": 4, \"Wohnungsgroesse\": \"AnzGbdWhgStatZim1_3_saldo\", \"Wohnungssaldo\": 7}]}}, {\"mode\": \"vega-lite\"});\n",
       "</script>"
      ],
      "text/plain": [
       "alt.LayerChart(...)"
      ]
     },
     "execution_count": 26,
     "metadata": {},
     "output_type": "execute_result"
    }
   ],
   "source": [
    "# df_statzonen = df_statzonen[(df_statzonen.knr>0) & (df_statzonen.qname!=\"Hirslanden\")]\n",
    "\n",
    "highlight = alt.selection(type='single', on='mouseover',\n",
    "                          fields=['Wohnungsgroesse'], nearest=True)\n",
    "#x='date:StichtagDatJahr',\n",
    "base = alt.Chart(mySelection).encode(\n",
    "    x='Umbaukategorie',\n",
    "    y='Wohnungssaldo',\n",
    "    color='Wohnungsgroesse'\n",
    ")\n",
    "\n",
    "points = base.mark_circle().encode(\n",
    "    opacity=alt.value(0)\n",
    ").add_selection(\n",
    "    highlight\n",
    ").properties(\n",
    "    width=700 , height=300\n",
    ")\n",
    "lines = base.mark_line().encode(\n",
    "    size=alt.condition(~highlight, alt.value(1.5), alt.value(4))\n",
    ").interactive()\n",
    "\n",
    "points + lines"
   ]
  },
  {
   "cell_type": "code",
   "execution_count": null,
   "metadata": {},
   "outputs": [],
   "source": []
  },
  {
   "cell_type": "code",
   "execution_count": 27,
   "metadata": {},
   "outputs": [
    {
     "data": {
      "text/html": [
       "\n",
       "<div id=\"altair-viz-4d75e2aae43048fc80131850c0d83d5e\"></div>\n",
       "<script type=\"text/javascript\">\n",
       "  (function(spec, embedOpt){\n",
       "    let outputDiv = document.currentScript.previousElementSibling;\n",
       "    if (outputDiv.id !== \"altair-viz-4d75e2aae43048fc80131850c0d83d5e\") {\n",
       "      outputDiv = document.getElementById(\"altair-viz-4d75e2aae43048fc80131850c0d83d5e\");\n",
       "    }\n",
       "    const paths = {\n",
       "      \"vega\": \"https://cdn.jsdelivr.net/npm//vega@5?noext\",\n",
       "      \"vega-lib\": \"https://cdn.jsdelivr.net/npm//vega-lib?noext\",\n",
       "      \"vega-lite\": \"https://cdn.jsdelivr.net/npm//vega-lite@4.8.1?noext\",\n",
       "      \"vega-embed\": \"https://cdn.jsdelivr.net/npm//vega-embed@6?noext\",\n",
       "    };\n",
       "\n",
       "    function loadScript(lib) {\n",
       "      return new Promise(function(resolve, reject) {\n",
       "        var s = document.createElement('script');\n",
       "        s.src = paths[lib];\n",
       "        s.async = true;\n",
       "        s.onload = () => resolve(paths[lib]);\n",
       "        s.onerror = () => reject(`Error loading script: ${paths[lib]}`);\n",
       "        document.getElementsByTagName(\"head\")[0].appendChild(s);\n",
       "      });\n",
       "    }\n",
       "\n",
       "    function showError(err) {\n",
       "      outputDiv.innerHTML = `<div class=\"error\" style=\"color:red;\">${err}</div>`;\n",
       "      throw err;\n",
       "    }\n",
       "\n",
       "    function displayChart(vegaEmbed) {\n",
       "      vegaEmbed(outputDiv, spec, embedOpt)\n",
       "        .catch(err => showError(`Javascript Error: ${err.message}<br>This usually means there's a typo in your chart specification. See the javascript console for the full traceback.`));\n",
       "    }\n",
       "\n",
       "    if(typeof define === \"function\" && define.amd) {\n",
       "      requirejs.config({paths});\n",
       "      require([\"vega-embed\"], displayChart, err => showError(`Error loading script: ${err.message}`));\n",
       "    } else if (typeof vegaEmbed === \"function\") {\n",
       "      displayChart(vegaEmbed);\n",
       "    } else {\n",
       "      loadScript(\"vega\")\n",
       "        .then(() => loadScript(\"vega-lite\"))\n",
       "        .then(() => loadScript(\"vega-embed\"))\n",
       "        .catch(showError)\n",
       "        .then(() => displayChart(vegaEmbed));\n",
       "    }\n",
       "  })({\"config\": {\"view\": {\"continuousWidth\": 400, \"continuousHeight\": 300}}, \"data\": {\"name\": \"data-6c11d9847246f1a2cb2ba1dbc6bcd8ee\"}, \"mark\": {\"type\": \"circle\", \"size\": 60}, \"encoding\": {\"color\": {\"type\": \"quantitative\", \"field\": \"Wohnungssaldo\", \"scale\": {\"scheme\": \"greens\"}}, \"tooltip\": [{\"type\": \"temporal\", \"field\": \"Jahr\"}, {\"type\": \"quantitative\", \"field\": \"UmbaukategorieCd\"}, {\"type\": \"nominal\", \"field\": \"Umbaukategorie\"}, {\"type\": \"nominal\", \"field\": \"Wohnungsgroesse\"}], \"x\": {\"type\": \"quantitative\", \"field\": \"Wohnungssaldo\"}, \"y\": {\"type\": \"nominal\", \"field\": \"Umbaukategorie\"}}, \"selection\": {\"selector003\": {\"type\": \"interval\", \"bind\": \"scales\", \"encodings\": [\"x\", \"y\"]}}, \"$schema\": \"https://vega.github.io/schema/vega-lite/v4.8.1.json\", \"datasets\": {\"data-6c11d9847246f1a2cb2ba1dbc6bcd8ee\": [{\"Jahr\": \"2021-01-01T00:00:00\", \"Umbaukategorie\": \"Aufstockung/Anbau\", \"UmbaukategorieCd\": 3, \"Wohnungsgroesse\": \"AnzGbdWhgStatZim4plus_saldo\", \"Wohnungssaldo\": 16}, {\"Jahr\": \"2021-01-01T00:00:00\", \"Umbaukategorie\": \"Aufstockung/Anbau\", \"UmbaukategorieCd\": 3, \"Wohnungsgroesse\": \"AnzGbdWhgStatZim1_3_saldo\", \"Wohnungssaldo\": 181}, {\"Jahr\": \"2021-01-01T00:00:00\", \"Umbaukategorie\": \"Innere Reserven\", \"UmbaukategorieCd\": 2, \"Wohnungsgroesse\": \"AnzGbdWhgStatZim1_3_saldo\", \"Wohnungssaldo\": 7}, {\"Jahr\": \"2021-01-01T00:00:00\", \"Umbaukategorie\": \"Innere Reserven\", \"UmbaukategorieCd\": 2, \"Wohnungsgroesse\": \"AnzGbdWhgStatZim4plus_saldo\", \"Wohnungssaldo\": 1}, {\"Jahr\": \"2021-01-01T00:00:00\", \"Umbaukategorie\": \"Reine Erneuerung\", \"UmbaukategorieCd\": 1, \"Wohnungsgroesse\": \"AnzGbdWhgStatZim4plus_saldo\", \"Wohnungssaldo\": 23}, {\"Jahr\": \"2021-01-01T00:00:00\", \"Umbaukategorie\": \"Reine Erneuerung\", \"UmbaukategorieCd\": 1, \"Wohnungsgroesse\": \"AnzGbdWhgStatZim1_3_saldo\", \"Wohnungssaldo\": 80}, {\"Jahr\": \"2021-01-01T00:00:00\", \"Umbaukategorie\": \"Umnutzung zu Nichtwohnen\", \"UmbaukategorieCd\": 5, \"Wohnungsgroesse\": \"AnzGbdWhgStatZim4plus_saldo\", \"Wohnungssaldo\": 0}, {\"Jahr\": \"2021-01-01T00:00:00\", \"Umbaukategorie\": \"Umnutzung zu Nichtwohnen\", \"UmbaukategorieCd\": 5, \"Wohnungsgroesse\": \"AnzGbdWhgStatZim1_3_saldo\", \"Wohnungssaldo\": 16}, {\"Jahr\": \"2021-01-01T00:00:00\", \"Umbaukategorie\": \"Umnutzung zu Wohnen\", \"UmbaukategorieCd\": 4, \"Wohnungsgroesse\": \"AnzGbdWhgStatZim4plus_saldo\", \"Wohnungssaldo\": 1}, {\"Jahr\": \"2021-01-01T00:00:00\", \"Umbaukategorie\": \"Umnutzung zu Wohnen\", \"UmbaukategorieCd\": 4, \"Wohnungsgroesse\": \"AnzGbdWhgStatZim1_3_saldo\", \"Wohnungssaldo\": 7}]}}, {\"mode\": \"vega-lite\"});\n",
       "</script>"
      ],
      "text/plain": [
       "alt.Chart(...)"
      ]
     },
     "execution_count": 27,
     "metadata": {},
     "output_type": "execute_result"
    }
   ],
   "source": [
    "alt.Chart(mySelection).mark_circle(size=60).encode(\n",
    "    x='Wohnungssaldo',\n",
    "    y='Umbaukategorie',\n",
    "    #color='AnzWhg',\n",
    "    #color=alt.Color('EigentumsartLang', scale=alt.Scale(scheme='dark2')),\n",
    "    color=alt.Color('Wohnungssaldo', scale=alt.Scale(scheme='greens')),\n",
    "    tooltip=['Jahr', 'UmbaukategorieCd', 'Umbaukategorie', 'Wohnungsgroesse']\n",
    ").interactive() # this makes the axes interactive: now you can zoom & pan\n",
    "\n",
    "\n"
   ]
  },
  {
   "cell_type": "code",
   "execution_count": null,
   "metadata": {},
   "outputs": [],
   "source": []
  },
  {
   "cell_type": "raw",
   "metadata": {},
   "source": []
  },
  {
   "cell_type": "code",
   "execution_count": null,
   "metadata": {},
   "outputs": [],
   "source": []
  }
 ],
 "metadata": {
  "kernelspec": {
   "display_name": "Python 3 (ipykernel)",
   "language": "python",
   "name": "python3"
  },
  "language_info": {
   "codemirror_mode": {
    "name": "ipython",
    "version": 3
   },
   "file_extension": ".py",
   "mimetype": "text/x-python",
   "name": "python",
   "nbconvert_exporter": "python",
   "pygments_lexer": "ipython3",
   "version": "3.9.7"
  }
 },
 "nbformat": 4,
 "nbformat_minor": 4
}
