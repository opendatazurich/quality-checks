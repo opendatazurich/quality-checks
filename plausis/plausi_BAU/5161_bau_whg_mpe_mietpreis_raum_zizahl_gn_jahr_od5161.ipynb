{
 "cells": [
  {
   "cell_type": "markdown",
   "metadata": {},
   "source": [
    "# Testing\n",
    "### Mietpreise in der Stadt Zürich 2022\n",
    "\n",
    "## Beschreibung\n",
    "Der Datensatz enthält die Resultate der Mietpreiserhebung 2022. Enthalten sind die geschätzten Mietpreisbandbreiten für vier Raumstufen (Ganze Stadt, Stadtkreise, Stadtquartiere und Quartiergruppen). Siehe dazu unten unter «Bemerkungen» die weiteren Erläuterungen. Erleben Sie die Daten auch auf dem [MPE-Tool](https://www.stadt-zuerich.ch/content/prd/de/index/statistik/publikationen-angebote/datenbanken-anwendungen/mietpreiserhebung.html) von Statistik Stadt Zürich.\n",
    "\n",
    "https://data.stadt-zuerich.ch/dataset/bau_whg_mpe_mietpreis_raum_zizahl_gn_jahr_od5161/\n",
    "\n",
    "Datum: 02.09.2022\n"
   ]
  },
  {
   "cell_type": "markdown",
   "metadata": {},
   "source": [
    "### Importiere die notwendigen Packages"
   ]
  },
  {
   "cell_type": "code",
   "execution_count": 1,
   "metadata": {},
   "outputs": [],
   "source": [
    "#%pip install geopandas altair fiona requests folium mplleaflet contextily seaborn datetime plotly leafmap"
   ]
  },
  {
   "cell_type": "code",
   "execution_count": 2,
   "metadata": {},
   "outputs": [],
   "source": [
    "import pandas as pd\n",
    "import pivottablejs\n",
    "from pivottablejs import pivot_ui\n",
    "import numpy as np\n",
    "import altair as alt\n",
    "import matplotlib.pyplot as plt\n",
    "\n",
    "import datetime\n",
    "import geopandas as gpd\n",
    "import folium \n",
    "import plotly.express as px\n",
    "import seaborn as sns\n",
    "import leafmap\n",
    "\n",
    "import requests\n",
    "import io\n",
    "\n",
    "import plotly.express as px\n"
   ]
  },
  {
   "cell_type": "code",
   "execution_count": 3,
   "metadata": {
    "tags": []
   },
   "outputs": [],
   "source": [
    "SSL_VERIFY = False\n",
    "# evtl. SSL_VERIFY auf False setzen wenn die Verbindung zu https://www.gemeinderat-zuerich.ch nicht klappt (z.B. wegen Proxy)\n",
    "# Um die SSL Verifikation auszustellen, bitte die nächste Zeile einkommentieren (\"#\" entfernen)\n",
    "# SSL_VERIFY = False"
   ]
  },
  {
   "cell_type": "code",
   "execution_count": 4,
   "metadata": {},
   "outputs": [],
   "source": [
    "if not SSL_VERIFY:\n",
    "    import urllib3\n",
    "    urllib3.disable_warnings()"
   ]
  },
  {
   "cell_type": "markdown",
   "metadata": {},
   "source": [
    "Definiere Settings. Hier das Zahlenformat von Float-Werten (z.B. *'{:,.2f}'.format* mit Komma als Tausenderzeichen), "
   ]
  },
  {
   "cell_type": "code",
   "execution_count": 5,
   "metadata": {},
   "outputs": [],
   "source": [
    "#pd.options.display.float_format = lambda x : '{:,.1f}'.format(x) if (np.isnan(x) | np.isinf(x)) else '{:,.0f}'.format(x) if int(x) == x else '{:,.1f}'.format(x)\n",
    "pd.options.display.float_format = '{:.0f}'.format\n",
    "pd.set_option('display.width', 100)\n",
    "pd.set_option('display.max_columns', 15)"
   ]
  },
  {
   "cell_type": "markdown",
   "metadata": {},
   "source": [
    "### Zeitvariabeln\n",
    "Bestimme den aktuellst geladenen Monat. Hier ist es der Stand vor 2 Monaten. \n",
    "Bestimme noch weitere evt. sinnvolle Zeitvariabeln.\n",
    "\n",
    "Zum Unterschied zwischen import datetime und from datedtime import datetime, siehe https://stackoverflow.com/questions/15707532/import-datetime-v-s-from-datetime-import-datetime\n",
    "\n",
    "Zuerst die Zeitvariabeln als Strings"
   ]
  },
  {
   "cell_type": "code",
   "execution_count": 6,
   "metadata": {},
   "outputs": [
    {
     "name": "stdout",
     "output_type": "stream",
     "text": [
      "2022-11-08  vor einer Woche:  2022-11-01\n"
     ]
    }
   ],
   "source": [
    "#today_date = datetime.date.today()\n",
    "#date_time = datetime.datetime.strptime(date_time_string, '%Y-%m-%d %H:%M')\n",
    "now = datetime.date.today()\n",
    "date_today = now.strftime(\"%Y-%m-%d\")\n",
    "year_today = now.strftime(\"%Y\")\n",
    "month_today = now.strftime(\"%m\")\n",
    "day_today = now.strftime(\"%d\")\n",
    "\n",
    "date_day_a_week_ago = (datetime.datetime.now() - datetime.timedelta(days=7)).date()\n",
    "day_a_week_ago = date_day_a_week_ago.strftime('%Y-%m-%d')\n",
    "\n",
    "\n",
    "print(now,\" vor einer Woche: \", day_a_week_ago)"
   ]
  },
  {
   "cell_type": "markdown",
   "metadata": {},
   "source": [
    "Und hier noch die Zeitvariabeln als Integers:\n",
    "- `aktuellesJahr`\n",
    "- `aktuellerMonat`: Der gerade jetzt aktuelle Monat\n",
    "- `selectedMonat`: Der aktuellste Monat in den Daten. In der Regel zwei Monate her."
   ]
  },
  {
   "cell_type": "code",
   "execution_count": 7,
   "metadata": {},
   "outputs": [
    {
     "name": "stdout",
     "output_type": "stream",
     "text": [
      "2022 11 datenstand:  9 time.struct_time(tm_year=2022, tm_mon=11, tm_mday=8, tm_hour=0, tm_min=0, tm_sec=0, tm_wday=1, tm_yday=312, tm_isdst=-1)\n"
     ]
    }
   ],
   "source": [
    "#now = datetime.now() \n",
    "int_times = now.timetuple()\n",
    "\n",
    "aktuellesJahr = int_times[0]\n",
    "aktuellerMonat = int_times[1]\n",
    "selectedMonat = int_times[1]-2\n",
    "\n",
    "print(aktuellesJahr, \n",
    "      aktuellerMonat,\n",
    "    'datenstand: ', selectedMonat,\n",
    "     int_times)\n"
   ]
  },
  {
   "cell_type": "markdown",
   "metadata": {},
   "source": [
    "Berechne die Variable Epoche um später das SAS-Datum in ein Unix-Datum umzuwandeln. Bei SAS beginnt die Epoche am 1.1.1960. Bei Unix am 1.1.1970.\n",
    "Diese Variable wird beim CSV-Import benötigt."
   ]
  },
  {
   "cell_type": "code",
   "execution_count": 8,
   "metadata": {},
   "outputs": [],
   "source": [
    "epoch = datetime.datetime(1960, 1, 1)"
   ]
  },
  {
   "cell_type": "markdown",
   "metadata": {},
   "source": [
    "### Setze einige Pfadvariabeln"
   ]
  },
  {
   "cell_type": "markdown",
   "metadata": {
    "tags": []
   },
   "source": [
    "- Der Packagename ist eigentlich der **Verzeichnisname** unter dem die Daten und Metadaten auf der Dropzone abgelegt werden.\n",
    "- Definiert wird er bei SASA-Prozessen auf dem **Produkte-Sharepoint ([Link](https://kollaboration.intranet.stzh.ch/orga/ssz-produkte/Lists/SASA_Outputs/PersonalViews.aspx?PageView=Personal&ShowWebPart={6087A3E7-8AC8-40BA-8278-DECFACE124FF}))**.\n",
    "- Der Packagename wird auf CKAN teil der URL, daher ist die exakte Schreibweise wichtig.\n",
    "\n",
    "Beachte: im Packagename müssen alle Buchstaben **klein** geschrieben werden. Dies weil CKAN aus grossen kleine Buchstaben macht."
   ]
  },
  {
   "cell_type": "markdown",
   "metadata": {},
   "source": [
    "**BITTE HIER ANPASSEN**"
   ]
  },
  {
   "cell_type": "code",
   "execution_count": 9,
   "metadata": {},
   "outputs": [],
   "source": [
    "package_name = \"bau_whg_mpe_mietpreis_raum_zizahl_gn_jahr_od5161\""
   ]
  },
  {
   "cell_type": "code",
   "execution_count": 10,
   "metadata": {
    "tags": []
   },
   "outputs": [],
   "source": [
    "dataset_name = \"BAU516OD5161.csv\""
   ]
  },
  {
   "cell_type": "markdown",
   "metadata": {},
   "source": [
    "**Statische Pfade in DWH-Dropzones**"
   ]
  },
  {
   "cell_type": "code",
   "execution_count": 11,
   "metadata": {},
   "outputs": [],
   "source": [
    "dropzone_path_integ = r\"\\\\szh\\ssz\\applikationen\\OGD_Dropzone\\INT_DWH\""
   ]
  },
  {
   "cell_type": "code",
   "execution_count": 12,
   "metadata": {
    "tags": []
   },
   "outputs": [],
   "source": [
    "dropzone_path_prod = r\"\\\\szh\\ssz\\applikationen\\OGD_Dropzone\\DWH\""
   ]
  },
  {
   "cell_type": "markdown",
   "metadata": {
    "tags": []
   },
   "source": [
    "**Statische Pfade CKAN-URLs**"
   ]
  },
  {
   "cell_type": "code",
   "execution_count": 13,
   "metadata": {
    "tags": []
   },
   "outputs": [],
   "source": [
    "ckan_integ_url =\"https://data.integ.stadt-zuerich.ch/dataset/int_dwh_\""
   ]
  },
  {
   "cell_type": "code",
   "execution_count": 14,
   "metadata": {},
   "outputs": [],
   "source": [
    "ckan_prod_url =\"https://data.stadt-zuerich.ch/dataset/\""
   ]
  },
  {
   "cell_type": "markdown",
   "metadata": {},
   "source": [
    "### Checke die Metadaten auf der CKAN INTEG- oder PROD-Webseite\n",
    "\n",
    "Offenbar lassen sich aktuell im Markdownteil keine Variabeln ausführen, daher gehen wir wie unten gezeigt vor. Siehe dazu: https://data-dive.com/jupyterlab-markdown-cells-include-variables\n",
    "Instead of setting the cell to Markdown, create Markdown from withnin a code cell! We can just use python variable replacement syntax to make the text dynamic"
   ]
  },
  {
   "cell_type": "code",
   "execution_count": 15,
   "metadata": {},
   "outputs": [],
   "source": [
    "from IPython.display import Markdown as md"
   ]
  },
  {
   "cell_type": "code",
   "execution_count": 16,
   "metadata": {},
   "outputs": [
    {
     "data": {
      "text/markdown": [
       " **1. Dataset auf INTEG-Datakatalog:** Link https://data.integ.stadt-zuerich.ch/dataset/int_dwh_bau_whg_mpe_mietpreis_raum_zizahl_gn_jahr_od5161 "
      ],
      "text/plain": [
       "<IPython.core.display.Markdown object>"
      ]
     },
     "execution_count": 16,
     "metadata": {},
     "output_type": "execute_result"
    }
   ],
   "source": [
    "md(\" **1. Dataset auf INTEG-Datakatalog:** Link {} \".format(ckan_integ_url+package_name))"
   ]
  },
  {
   "cell_type": "code",
   "execution_count": 17,
   "metadata": {
    "jupyter": {
     "source_hidden": true
    },
    "tags": []
   },
   "outputs": [
    {
     "data": {
      "text/markdown": [
       " **2. Dataset auf PROD-Datakatalog:** Link https://data.stadt-zuerich.ch/dataset/bau_whg_mpe_mietpreis_raum_zizahl_gn_jahr_od5161 "
      ],
      "text/plain": [
       "<IPython.core.display.Markdown object>"
      ]
     },
     "execution_count": 17,
     "metadata": {},
     "output_type": "execute_result"
    }
   ],
   "source": [
    "md(\" **2. Dataset auf PROD-Datakatalog:** Link {} \".format(ckan_prod_url+package_name))"
   ]
  },
  {
   "cell_type": "markdown",
   "metadata": {
    "tags": []
   },
   "source": [
    "### Importiere einen Datensatz \n",
    "\n",
    "Definiere zuerst folgende Werte:\n",
    "1) Kommt der Datensatz von PROD oder INTEG?\n",
    "2) Beziehst Du den Datensatz direkt ab der DROPZONE oder aus dem INTERNET?"
   ]
  },
  {
   "cell_type": "code",
   "execution_count": 18,
   "metadata": {},
   "outputs": [
    {
     "name": "stdout",
     "output_type": "stream",
     "text": [
      "prod - web\n"
     ]
    }
   ],
   "source": [
    "#Die Datasets sind nur zum Testen auf INT-DWH-Dropzone. Wenn der Test vorbei ist, sind sie auf PROD. \n",
    "# Über den Status kann man einfach switchen\n",
    "\n",
    "status = \"prod\"; #prod vs something else\n",
    "data_source = \"web\"; #dropzone vs something else\n",
    "print(status+\" - \"+ data_source)"
   ]
  },
  {
   "cell_type": "code",
   "execution_count": 19,
   "metadata": {
    "tags": []
   },
   "outputs": [
    {
     "name": "stdout",
     "output_type": "stream",
     "text": [
      "fp lautet:https://data.stadt-zuerich.ch/dataset/bau_whg_mpe_mietpreis_raum_zizahl_gn_jahr_od5161/download/BAU516OD5161.csv\n"
     ]
    }
   ],
   "source": [
    "# Filepath\n",
    "if status == \"prod\":\n",
    "    if data_source == \"dropzone\":\n",
    "            fp = dropzone_path_prod+\"\\\\\"+ package_name +\"\\\\\"+dataset_name\n",
    "            print(\"fp lautet:\"+fp)\n",
    "    else:\n",
    "        #fp = r\"https://data.stadt-zuerich.ch/dataset/bau_neubau_whg_bausm_rinh_geb_projstatus_quartier_seit2009_od5011/download/BAU501OD5011.csv\"\n",
    "        fp = ckan_prod_url+package_name+'/download/'+dataset_name\n",
    "        print(\"fp lautet:\"+fp)\n",
    "else:\n",
    "    if data_source == \"dropzone\":\n",
    "        fp = dropzone_path_integ+\"\\\\\"+ package_name +\"\\\\\"+dataset_name\n",
    "        print(\"fp lautet:\"+fp)\n",
    "    else:\n",
    "        #fp = r\"https://data.stadt-zuerich.ch/dataset/bau_neubau_whg_bausm_rinh_geb_projstatus_quartier_seit2009_od5011/download/BAU501OD5011.csv\"\n",
    "        fp = ckan_integ_url+package_name+'/download/'+dataset_name\n",
    "        #fp = r\"https://gist.githubusercontent.com/DonGoginho/de97fea04b0f229edf8e241b8207301d/raw/346f9dc06fc953ce7cd4d7de7cf2e823af21bf46/OGD_Export.csv\"\n",
    "        print(\"fp lautet:\"+fp)\n"
   ]
  },
  {
   "cell_type": "markdown",
   "metadata": {},
   "source": [
    "Beachte, wie das SAS Datum (ohne Format) in ein UNIX Datum umgerechnet und als Datumsformat dargestellt wird! Siehe dazu `https://stackoverflow.com/questions/26923564/convert-sas-numeric-to-python-datetime`"
   ]
  },
  {
   "cell_type": "code",
   "execution_count": 20,
   "metadata": {},
   "outputs": [
    {
     "name": "stdout",
     "output_type": "stream",
     "text": [
      "web\n"
     ]
    },
    {
     "data": {
      "text/plain": [
       "StichtagDatJahr      datetime64[ns]\n",
       "StichtagDatMonat     datetime64[ns]\n",
       "RaumeinheitSort               int64\n",
       "RaumeinheitLang              object\n",
       "GliederungSort                int64\n",
       "GliederungLang               object\n",
       "ZimmerSort                    int64\n",
       "ZimmerLang                   object\n",
       "GemeinnuetzigSort             int64\n",
       "GemeinnuetzigLang            object\n",
       "EinheitSort                   int64\n",
       "EinheitLang                  object\n",
       "PreisartSort                  int64\n",
       "PreisartLang                 object\n",
       "mean                        float64\n",
       "meanl                       float64\n",
       "meanu                       float64\n",
       "qu10                        float64\n",
       "qu10l                       float64\n",
       "qu10u                       float64\n",
       "qu25                        float64\n",
       "qu25l                       float64\n",
       "qu25u                       float64\n",
       "qu50                        float64\n",
       "qu50l                       float64\n",
       "qu50u                       float64\n",
       "qu75                        float64\n",
       "qu75l                       float64\n",
       "qu75u                       float64\n",
       "qu90                        float64\n",
       "qu90l                       float64\n",
       "qu90u                       float64\n",
       "Domain                        int64\n",
       "Sample1                       int64\n",
       "Sample2                       int64\n",
       "dtype: object"
      ]
     },
     "execution_count": 20,
     "metadata": {},
     "output_type": "execute_result"
    }
   ],
   "source": [
    "# Read the data\n",
    "\n",
    "if data_source == \"dropzone\":\n",
    "    data2betested = pd.read_csv(\n",
    "        fp\n",
    "        , sep=','\n",
    "        ,parse_dates=['StichtagDatJahr', 'StichtagDatMonat']\n",
    "        ,low_memory=False\n",
    "    )\n",
    "    print(\"dropzone\")\n",
    "else:\n",
    "    r = requests.get(fp, verify=False)  \n",
    "    r.encoding = 'utf-8'\n",
    "    data2betested = pd.read_csv(\n",
    "        io.StringIO(r.text)\n",
    "        ,parse_dates=['StichtagDatJahr', 'StichtagDatMonat']\n",
    "        # KONVERTIERE DAS SAS DATUM IN EIN UNIXDATUM UND FORMATIERE ES\n",
    "        #, date_parser=lambda s: epoch + datetime.timedelta(days=int(s))\n",
    "        , sep=','        \n",
    "        ,low_memory=False)\n",
    "    print(\"web\")\n",
    "\n",
    "data2betested.dtypes"
   ]
  },
  {
   "cell_type": "markdown",
   "metadata": {},
   "source": [
    "Berechne weitere Attribute falls notwendig"
   ]
  },
  {
   "cell_type": "markdown",
   "metadata": {},
   "source": [
    "In der Folge ein paar erste Tests:"
   ]
  },
  {
   "cell_type": "markdown",
   "metadata": {},
   "source": [
    " - 1) Zeige eine kurze Vorschau der importierten Daten\n",
    " - 2) Weise die Datentypen aus\n",
    " - 3) Zeige die Shape (Umfang) des Datensatzes an"
   ]
  },
  {
   "cell_type": "code",
   "execution_count": 21,
   "metadata": {},
   "outputs": [
    {
     "data": {
      "text/html": [
       "<div>\n",
       "<style scoped>\n",
       "    .dataframe tbody tr th:only-of-type {\n",
       "        vertical-align: middle;\n",
       "    }\n",
       "\n",
       "    .dataframe tbody tr th {\n",
       "        vertical-align: top;\n",
       "    }\n",
       "\n",
       "    .dataframe thead th {\n",
       "        text-align: right;\n",
       "    }\n",
       "</style>\n",
       "<table border=\"1\" class=\"dataframe\">\n",
       "  <thead>\n",
       "    <tr style=\"text-align: right;\">\n",
       "      <th></th>\n",
       "      <th>StichtagDatJahr</th>\n",
       "      <th>StichtagDatMonat</th>\n",
       "      <th>RaumeinheitSort</th>\n",
       "      <th>RaumeinheitLang</th>\n",
       "      <th>GliederungSort</th>\n",
       "      <th>GliederungLang</th>\n",
       "      <th>ZimmerSort</th>\n",
       "      <th>...</th>\n",
       "      <th>qu75u</th>\n",
       "      <th>qu90</th>\n",
       "      <th>qu90l</th>\n",
       "      <th>qu90u</th>\n",
       "      <th>Domain</th>\n",
       "      <th>Sample1</th>\n",
       "      <th>Sample2</th>\n",
       "    </tr>\n",
       "  </thead>\n",
       "  <tbody>\n",
       "    <tr>\n",
       "      <th>0</th>\n",
       "      <td>2022-01-01</td>\n",
       "      <td>2022-04-01</td>\n",
       "      <td>1</td>\n",
       "      <td>Ganze Stadt</td>\n",
       "      <td>0</td>\n",
       "      <td>Ganze Stadt</td>\n",
       "      <td>2</td>\n",
       "      <td>...</td>\n",
       "      <td>1750</td>\n",
       "      <td>2155</td>\n",
       "      <td>2120</td>\n",
       "      <td>2200</td>\n",
       "      <td>46692</td>\n",
       "      <td>13488</td>\n",
       "      <td>1714</td>\n",
       "    </tr>\n",
       "    <tr>\n",
       "      <th>1</th>\n",
       "      <td>2022-01-01</td>\n",
       "      <td>2022-04-01</td>\n",
       "      <td>1</td>\n",
       "      <td>Ganze Stadt</td>\n",
       "      <td>1</td>\n",
       "      <td>Neubau bis 2 Jahre</td>\n",
       "      <td>2</td>\n",
       "      <td>...</td>\n",
       "      <td>2380</td>\n",
       "      <td>2490</td>\n",
       "      <td>2273</td>\n",
       "      <td>2914</td>\n",
       "      <td>1498</td>\n",
       "      <td>488</td>\n",
       "      <td>60</td>\n",
       "    </tr>\n",
       "  </tbody>\n",
       "</table>\n",
       "<p>2 rows × 35 columns</p>\n",
       "</div>"
      ],
      "text/plain": [
       "  StichtagDatJahr StichtagDatMonat  RaumeinheitSort RaumeinheitLang  GliederungSort  \\\n",
       "0      2022-01-01       2022-04-01                1     Ganze Stadt               0   \n",
       "1      2022-01-01       2022-04-01                1     Ganze Stadt               1   \n",
       "\n",
       "       GliederungLang  ZimmerSort  ... qu75u  qu90 qu90l  qu90u Domain  Sample1 Sample2  \n",
       "0         Ganze Stadt           2  ...  1750  2155  2120   2200  46692    13488    1714  \n",
       "1  Neubau bis 2 Jahre           2  ...  2380  2490  2273   2914   1498      488      60  \n",
       "\n",
       "[2 rows x 35 columns]"
      ]
     },
     "execution_count": 21,
     "metadata": {},
     "output_type": "execute_result"
    }
   ],
   "source": [
    "data2betested.head(2)"
   ]
  },
  {
   "cell_type": "code",
   "execution_count": 22,
   "metadata": {},
   "outputs": [],
   "source": [
    "#data2betested.dtypes"
   ]
  },
  {
   "cell_type": "code",
   "execution_count": 23,
   "metadata": {},
   "outputs": [
    {
     "data": {
      "text/plain": [
       "(1896, 35)"
      ]
     },
     "execution_count": 23,
     "metadata": {},
     "output_type": "execute_result"
    }
   ],
   "source": [
    "data2betested.shape"
   ]
  },
  {
   "cell_type": "markdown",
   "metadata": {},
   "source": [
    "Beschreibe einzelne Attribute"
   ]
  },
  {
   "cell_type": "code",
   "execution_count": 24,
   "metadata": {},
   "outputs": [
    {
     "data": {
      "text/html": [
       "<div>\n",
       "<style scoped>\n",
       "    .dataframe tbody tr th:only-of-type {\n",
       "        vertical-align: middle;\n",
       "    }\n",
       "\n",
       "    .dataframe tbody tr th {\n",
       "        vertical-align: top;\n",
       "    }\n",
       "\n",
       "    .dataframe thead th {\n",
       "        text-align: right;\n",
       "    }\n",
       "</style>\n",
       "<table border=\"1\" class=\"dataframe\">\n",
       "  <thead>\n",
       "    <tr style=\"text-align: right;\">\n",
       "      <th></th>\n",
       "      <th>RaumeinheitSort</th>\n",
       "      <th>GliederungSort</th>\n",
       "      <th>ZimmerSort</th>\n",
       "      <th>GemeinnuetzigSort</th>\n",
       "      <th>EinheitSort</th>\n",
       "      <th>PreisartSort</th>\n",
       "      <th>mean</th>\n",
       "      <th>...</th>\n",
       "      <th>qu75u</th>\n",
       "      <th>qu90</th>\n",
       "      <th>qu90l</th>\n",
       "      <th>qu90u</th>\n",
       "      <th>Domain</th>\n",
       "      <th>Sample1</th>\n",
       "      <th>Sample2</th>\n",
       "    </tr>\n",
       "  </thead>\n",
       "  <tbody>\n",
       "    <tr>\n",
       "      <th>count</th>\n",
       "      <td>1896</td>\n",
       "      <td>1896</td>\n",
       "      <td>1896</td>\n",
       "      <td>1896</td>\n",
       "      <td>1896</td>\n",
       "      <td>1896</td>\n",
       "      <td>1896</td>\n",
       "      <td>...</td>\n",
       "      <td>1896</td>\n",
       "      <td>1896</td>\n",
       "      <td>1896</td>\n",
       "      <td>1896</td>\n",
       "      <td>1896</td>\n",
       "      <td>1896</td>\n",
       "      <td>1896</td>\n",
       "    </tr>\n",
       "    <tr>\n",
       "      <th>mean</th>\n",
       "      <td>3</td>\n",
       "      <td>59</td>\n",
       "      <td>3</td>\n",
       "      <td>1</td>\n",
       "      <td>2</td>\n",
       "      <td>2</td>\n",
       "      <td>880</td>\n",
       "      <td>...</td>\n",
       "      <td>1126</td>\n",
       "      <td>1279</td>\n",
       "      <td>1184</td>\n",
       "      <td>1411</td>\n",
       "      <td>4778</td>\n",
       "      <td>1496</td>\n",
       "      <td>157</td>\n",
       "    </tr>\n",
       "    <tr>\n",
       "      <th>std</th>\n",
       "      <td>1</td>\n",
       "      <td>41</td>\n",
       "      <td>1</td>\n",
       "      <td>1</td>\n",
       "      <td>1</td>\n",
       "      <td>1</td>\n",
       "      <td>935</td>\n",
       "      <td>...</td>\n",
       "      <td>1222</td>\n",
       "      <td>1378</td>\n",
       "      <td>1267</td>\n",
       "      <td>1551</td>\n",
       "      <td>10274</td>\n",
       "      <td>3167</td>\n",
       "      <td>320</td>\n",
       "    </tr>\n",
       "    <tr>\n",
       "      <th>min</th>\n",
       "      <td>1</td>\n",
       "      <td>0</td>\n",
       "      <td>2</td>\n",
       "      <td>0</td>\n",
       "      <td>1</td>\n",
       "      <td>1</td>\n",
       "      <td>13</td>\n",
       "      <td>...</td>\n",
       "      <td>15</td>\n",
       "      <td>16</td>\n",
       "      <td>15</td>\n",
       "      <td>17</td>\n",
       "      <td>50</td>\n",
       "      <td>17</td>\n",
       "      <td>0</td>\n",
       "    </tr>\n",
       "    <tr>\n",
       "      <th>25%</th>\n",
       "      <td>2</td>\n",
       "      <td>20</td>\n",
       "      <td>2</td>\n",
       "      <td>0</td>\n",
       "      <td>1</td>\n",
       "      <td>1</td>\n",
       "      <td>23</td>\n",
       "      <td>...</td>\n",
       "      <td>28</td>\n",
       "      <td>32</td>\n",
       "      <td>29</td>\n",
       "      <td>35</td>\n",
       "      <td>927</td>\n",
       "      <td>274</td>\n",
       "      <td>38</td>\n",
       "    </tr>\n",
       "    <tr>\n",
       "      <th>50%</th>\n",
       "      <td>3</td>\n",
       "      <td>60</td>\n",
       "      <td>3</td>\n",
       "      <td>1</td>\n",
       "      <td>2</td>\n",
       "      <td>2</td>\n",
       "      <td>421</td>\n",
       "      <td>...</td>\n",
       "      <td>505</td>\n",
       "      <td>558</td>\n",
       "      <td>522</td>\n",
       "      <td>593</td>\n",
       "      <td>1846</td>\n",
       "      <td>586</td>\n",
       "      <td>64</td>\n",
       "    </tr>\n",
       "    <tr>\n",
       "      <th>75%</th>\n",
       "      <td>3</td>\n",
       "      <td>92</td>\n",
       "      <td>4</td>\n",
       "      <td>2</td>\n",
       "      <td>2</td>\n",
       "      <td>2</td>\n",
       "      <td>1660</td>\n",
       "      <td>...</td>\n",
       "      <td>2100</td>\n",
       "      <td>2404</td>\n",
       "      <td>2240</td>\n",
       "      <td>2633</td>\n",
       "      <td>3601</td>\n",
       "      <td>1174</td>\n",
       "      <td>106</td>\n",
       "    </tr>\n",
       "    <tr>\n",
       "      <th>max</th>\n",
       "      <td>4</td>\n",
       "      <td>129</td>\n",
       "      <td>4</td>\n",
       "      <td>2</td>\n",
       "      <td>2</td>\n",
       "      <td>2</td>\n",
       "      <td>3682</td>\n",
       "      <td>...</td>\n",
       "      <td>5871</td>\n",
       "      <td>5439</td>\n",
       "      <td>4471</td>\n",
       "      <td>7389</td>\n",
       "      <td>74180</td>\n",
       "      <td>23356</td>\n",
       "      <td>1908</td>\n",
       "    </tr>\n",
       "  </tbody>\n",
       "</table>\n",
       "<p>8 rows × 27 columns</p>\n",
       "</div>"
      ],
      "text/plain": [
       "       RaumeinheitSort  GliederungSort  ZimmerSort  GemeinnuetzigSort  EinheitSort  PreisartSort  \\\n",
       "count             1896            1896        1896               1896         1896          1896   \n",
       "mean                 3              59           3                  1            2             2   \n",
       "std                  1              41           1                  1            1             1   \n",
       "min                  1               0           2                  0            1             1   \n",
       "25%                  2              20           2                  0            1             1   \n",
       "50%                  3              60           3                  1            2             2   \n",
       "75%                  3              92           4                  2            2             2   \n",
       "max                  4             129           4                  2            2             2   \n",
       "\n",
       "       mean  ...  qu75u  qu90  qu90l  qu90u  Domain  Sample1  Sample2  \n",
       "count  1896  ...   1896  1896   1896   1896    1896     1896     1896  \n",
       "mean    880  ...   1126  1279   1184   1411    4778     1496      157  \n",
       "std     935  ...   1222  1378   1267   1551   10274     3167      320  \n",
       "min      13  ...     15    16     15     17      50       17        0  \n",
       "25%      23  ...     28    32     29     35     927      274       38  \n",
       "50%     421  ...    505   558    522    593    1846      586       64  \n",
       "75%    1660  ...   2100  2404   2240   2633    3601     1174      106  \n",
       "max    3682  ...   5871  5439   4471   7389   74180    23356     1908  \n",
       "\n",
       "[8 rows x 27 columns]"
      ]
     },
     "execution_count": 24,
     "metadata": {},
     "output_type": "execute_result"
    }
   ],
   "source": [
    "data2betested.describe()"
   ]
  },
  {
   "cell_type": "markdown",
   "metadata": {},
   "source": [
    "Wie viele Nullwerte gibt es im Datensatz?"
   ]
  },
  {
   "cell_type": "code",
   "execution_count": 25,
   "metadata": {
    "scrolled": true
   },
   "outputs": [
    {
     "data": {
      "text/plain": [
       "StichtagDatJahr      0\n",
       "StichtagDatMonat     0\n",
       "RaumeinheitSort      0\n",
       "RaumeinheitLang      0\n",
       "GliederungSort       0\n",
       "GliederungLang       0\n",
       "ZimmerSort           0\n",
       "ZimmerLang           0\n",
       "GemeinnuetzigSort    0\n",
       "GemeinnuetzigLang    0\n",
       "EinheitSort          0\n",
       "EinheitLang          0\n",
       "PreisartSort         0\n",
       "PreisartLang         0\n",
       "mean                 0\n",
       "meanl                0\n",
       "meanu                0\n",
       "qu10                 0\n",
       "qu10l                0\n",
       "qu10u                0\n",
       "qu25                 0\n",
       "qu25l                0\n",
       "qu25u                0\n",
       "qu50                 0\n",
       "qu50l                0\n",
       "qu50u                0\n",
       "qu75                 0\n",
       "qu75l                0\n",
       "qu75u                0\n",
       "qu90                 0\n",
       "qu90l                0\n",
       "qu90u                0\n",
       "Domain               0\n",
       "Sample1              0\n",
       "Sample2              0\n",
       "dtype: int64"
      ]
     },
     "execution_count": 25,
     "metadata": {},
     "output_type": "execute_result"
    }
   ],
   "source": [
    "data2betested.isnull().sum()"
   ]
  },
  {
   "cell_type": "markdown",
   "metadata": {
    "colab_type": "text",
    "id": "1dTPVmmsgOVx"
   },
   "source": [
    "### Verwende das Datum als Index\n",
    "\n",
    "While we did already parse the `datetime` column into the respective datetime type, it currently is just a regular column. \n",
    "**To enable quick and convenient queries and aggregations, we need to turn it into the index of the DataFrame**"
   ]
  },
  {
   "cell_type": "code",
   "execution_count": 26,
   "metadata": {},
   "outputs": [],
   "source": [
    "data2betested = data2betested.set_index(\"StichtagDatMonat\")"
   ]
  },
  {
   "cell_type": "code",
   "execution_count": 27,
   "metadata": {},
   "outputs": [],
   "source": [
    "#lambda x: x.StichtagDatMonat.astype(str)"
   ]
  },
  {
   "cell_type": "code",
   "execution_count": 28,
   "metadata": {},
   "outputs": [
    {
     "data": {
      "text/plain": [
       "DatetimeIndex(['2022-04-01'], dtype='datetime64[ns]', name='StichtagDatMonat', freq=None)"
      ]
     },
     "execution_count": 28,
     "metadata": {},
     "output_type": "execute_result"
    }
   ],
   "source": [
    "#data2betested.info()\n",
    "data2betested.index.unique()"
   ]
  },
  {
   "cell_type": "markdown",
   "metadata": {},
   "source": [
    "### Einfache Visualisierungen zur Plausi"
   ]
  },
  {
   "cell_type": "markdown",
   "metadata": {},
   "source": [
    "Exploriere die Daten mit Pivottable.JS"
   ]
  },
  {
   "cell_type": "code",
   "execution_count": 29,
   "metadata": {},
   "outputs": [
    {
     "data": {
      "text/html": [
       "\n",
       "        <iframe\n",
       "            width=\"100%\"\n",
       "            height=\"500\"\n",
       "            src=\"pivottablejs.html\"\n",
       "            frameborder=\"0\"\n",
       "            allowfullscreen\n",
       "            \n",
       "        ></iframe>\n",
       "        "
      ],
      "text/plain": [
       "<IPython.lib.display.IFrame at 0x1d33733af08>"
      ]
     },
     "execution_count": 29,
     "metadata": {},
     "output_type": "execute_result"
    }
   ],
   "source": [
    "from pivottablejs import pivot_ui\n",
    "\n",
    "pivot_ui(data2betested)"
   ]
  },
  {
   "cell_type": "markdown",
   "metadata": {},
   "source": [
    "### Zeitpunkte und Zeiträume abfragen\n",
    "\n",
    "A particular powerful feature of the Pandas DataFrame is its indexing capability that also works using time-based entities, such as dates and times. We have already created the index above, so let's put it to use."
   ]
  },
  {
   "cell_type": "code",
   "execution_count": 30,
   "metadata": {},
   "outputs": [],
   "source": [
    "#data2betested.loc[\"2021\"].head(5)\n",
    "#data2betested.loc[\"2021-10-31\":\"2021-11-30\"].head(2)"
   ]
  },
  {
   "cell_type": "markdown",
   "metadata": {},
   "source": [
    "### Visualisierungen nach Zeitausschnitten"
   ]
  },
  {
   "cell_type": "markdown",
   "metadata": {},
   "source": [
    " #### reminder: \n",
    " Encoding Data Types https://altair-viz.github.io/user_guide/encoding.html#encoding-data-types"
   ]
  },
  {
   "cell_type": "markdown",
   "metadata": {
    "tags": []
   },
   "source": [
    "#### Übersicht der Dimensionen"
   ]
  },
  {
   "cell_type": "code",
   "execution_count": 31,
   "metadata": {},
   "outputs": [
    {
     "data": {
      "text/html": [
       "<div>\n",
       "<style scoped>\n",
       "    .dataframe tbody tr th:only-of-type {\n",
       "        vertical-align: middle;\n",
       "    }\n",
       "\n",
       "    .dataframe tbody tr th {\n",
       "        vertical-align: top;\n",
       "    }\n",
       "\n",
       "    .dataframe thead th {\n",
       "        text-align: right;\n",
       "    }\n",
       "</style>\n",
       "<table border=\"1\" class=\"dataframe\">\n",
       "  <thead>\n",
       "    <tr style=\"text-align: right;\">\n",
       "      <th></th>\n",
       "      <th></th>\n",
       "      <th>count</th>\n",
       "      <th>mean_qu50</th>\n",
       "    </tr>\n",
       "    <tr>\n",
       "      <th>RaumeinheitSort</th>\n",
       "      <th>RaumeinheitLang</th>\n",
       "      <th></th>\n",
       "      <th></th>\n",
       "    </tr>\n",
       "  </thead>\n",
       "  <tbody>\n",
       "    <tr>\n",
       "      <th>1</th>\n",
       "      <th>Ganze Stadt</th>\n",
       "      <td>216</td>\n",
       "      <td>822</td>\n",
       "    </tr>\n",
       "    <tr>\n",
       "      <th>2</th>\n",
       "      <th>Stadtkreise</th>\n",
       "      <td>468</td>\n",
       "      <td>822</td>\n",
       "    </tr>\n",
       "    <tr>\n",
       "      <th>3</th>\n",
       "      <th>Quartiergruppen</th>\n",
       "      <td>792</td>\n",
       "      <td>808</td>\n",
       "    </tr>\n",
       "    <tr>\n",
       "      <th>4</th>\n",
       "      <th>Quartiere</th>\n",
       "      <td>420</td>\n",
       "      <td>922</td>\n",
       "    </tr>\n",
       "  </tbody>\n",
       "</table>\n",
       "</div>"
      ],
      "text/plain": [
       "                                 count  mean_qu50\n",
       "RaumeinheitSort RaumeinheitLang                  \n",
       "1               Ganze Stadt        216        822\n",
       "2               Stadtkreise        468        822\n",
       "3               Quartiergruppen    792        808\n",
       "4               Quartiere          420        922"
      ]
     },
     "execution_count": 31,
     "metadata": {},
     "output_type": "execute_result"
    }
   ],
   "source": [
    "dim_raumeinheiten = data2betested\\\n",
    "    .groupby(['RaumeinheitSort', 'RaumeinheitLang']) \\\n",
    "    .agg(count=('RaumeinheitSort', 'count'),mean_qu50=('qu50', 'mean')) \\\n",
    "    .sort_values('RaumeinheitSort', ascending=True) \n",
    "\n",
    "dim_raumeinheiten"
   ]
  },
  {
   "cell_type": "code",
   "execution_count": 32,
   "metadata": {},
   "outputs": [
    {
     "data": {
      "text/html": [
       "<div>\n",
       "<style scoped>\n",
       "    .dataframe tbody tr th:only-of-type {\n",
       "        vertical-align: middle;\n",
       "    }\n",
       "\n",
       "    .dataframe tbody tr th {\n",
       "        vertical-align: top;\n",
       "    }\n",
       "\n",
       "    .dataframe thead th {\n",
       "        text-align: right;\n",
       "    }\n",
       "</style>\n",
       "<table border=\"1\" class=\"dataframe\">\n",
       "  <thead>\n",
       "    <tr style=\"text-align: right;\">\n",
       "      <th></th>\n",
       "      <th></th>\n",
       "      <th>count</th>\n",
       "      <th>mean_qu50</th>\n",
       "    </tr>\n",
       "    <tr>\n",
       "      <th>GliederungSort</th>\n",
       "      <th>GliederungLang</th>\n",
       "      <th></th>\n",
       "      <th></th>\n",
       "    </tr>\n",
       "  </thead>\n",
       "  <tbody>\n",
       "    <tr>\n",
       "      <th>1</th>\n",
       "      <th>Neubau bis 2 Jahre</th>\n",
       "      <td>36</td>\n",
       "      <td>1144</td>\n",
       "    </tr>\n",
       "    <tr>\n",
       "      <th>2</th>\n",
       "      <th>Neubezug bis 2 Jahre</th>\n",
       "      <td>36</td>\n",
       "      <td>856</td>\n",
       "    </tr>\n",
       "    <tr>\n",
       "      <th>3</th>\n",
       "      <th>Bestand Mietverträge 2–10 Jahre</th>\n",
       "      <td>36</td>\n",
       "      <td>826</td>\n",
       "    </tr>\n",
       "    <tr>\n",
       "      <th>4</th>\n",
       "      <th>Bestand Mietverträge 11-20 Jahre</th>\n",
       "      <td>36</td>\n",
       "      <td>707</td>\n",
       "    </tr>\n",
       "    <tr>\n",
       "      <th>5</th>\n",
       "      <th>Bestand Mietverträge über 20 Jahre</th>\n",
       "      <td>36</td>\n",
       "      <td>618</td>\n",
       "    </tr>\n",
       "    <tr>\n",
       "      <th>10</th>\n",
       "      <th>Kreis 1</th>\n",
       "      <td>72</td>\n",
       "      <td>1057</td>\n",
       "    </tr>\n",
       "    <tr>\n",
       "      <th>11</th>\n",
       "      <th>Rathaus</th>\n",
       "      <td>12</td>\n",
       "      <td>1147</td>\n",
       "    </tr>\n",
       "    <tr>\n",
       "      <th>12</th>\n",
       "      <th>Hochschulen</th>\n",
       "      <td>12</td>\n",
       "      <td>1279</td>\n",
       "    </tr>\n",
       "    <tr>\n",
       "      <th>13</th>\n",
       "      <th>Lindenhof</th>\n",
       "      <td>12</td>\n",
       "      <td>1325</td>\n",
       "    </tr>\n",
       "    <tr>\n",
       "      <th>14</th>\n",
       "      <th>City</th>\n",
       "      <td>12</td>\n",
       "      <td>1005</td>\n",
       "    </tr>\n",
       "    <tr>\n",
       "      <th>20</th>\n",
       "      <th>Kreis 2</th>\n",
       "      <td>72</td>\n",
       "      <td>831</td>\n",
       "    </tr>\n",
       "    <tr>\n",
       "      <th>21</th>\n",
       "      <th>Wollishofen</th>\n",
       "      <td>12</td>\n",
       "      <td>814</td>\n",
       "    </tr>\n",
       "    <tr>\n",
       "      <th>23</th>\n",
       "      <th>Leimbach</th>\n",
       "      <td>12</td>\n",
       "      <td>765</td>\n",
       "    </tr>\n",
       "    <tr>\n",
       "      <th>24</th>\n",
       "      <th>Enge</th>\n",
       "      <td>12</td>\n",
       "      <td>1113</td>\n",
       "    </tr>\n",
       "    <tr>\n",
       "      <th>30</th>\n",
       "      <th>Kreis 3</th>\n",
       "      <td>36</td>\n",
       "      <td>759</td>\n",
       "    </tr>\n",
       "    <tr>\n",
       "      <th>31</th>\n",
       "      <th>Alt-Wiedikon</th>\n",
       "      <td>12</td>\n",
       "      <td>936</td>\n",
       "    </tr>\n",
       "    <tr>\n",
       "      <th>33</th>\n",
       "      <th>Friesenberg</th>\n",
       "      <td>12</td>\n",
       "      <td>612</td>\n",
       "    </tr>\n",
       "    <tr>\n",
       "      <th>34</th>\n",
       "      <th>Sihlfeld</th>\n",
       "      <td>48</td>\n",
       "      <td>762</td>\n",
       "    </tr>\n",
       "    <tr>\n",
       "      <th>39</th>\n",
       "      <th>Alt-Wiedikon und Friesenberg</th>\n",
       "      <td>36</td>\n",
       "      <td>770</td>\n",
       "    </tr>\n",
       "    <tr>\n",
       "      <th>40</th>\n",
       "      <th>Kreis 4</th>\n",
       "      <td>36</td>\n",
       "      <td>775</td>\n",
       "    </tr>\n",
       "    <tr>\n",
       "      <th>41</th>\n",
       "      <th>Werd</th>\n",
       "      <td>12</td>\n",
       "      <td>1016</td>\n",
       "    </tr>\n",
       "    <tr>\n",
       "      <th>42</th>\n",
       "      <th>Langstrasse</th>\n",
       "      <td>12</td>\n",
       "      <td>928</td>\n",
       "    </tr>\n",
       "    <tr>\n",
       "      <th>44</th>\n",
       "      <th>Hard</th>\n",
       "      <td>48</td>\n",
       "      <td>674</td>\n",
       "    </tr>\n",
       "    <tr>\n",
       "      <th>49</th>\n",
       "      <th>Werd und Langstrasse</th>\n",
       "      <td>36</td>\n",
       "      <td>859</td>\n",
       "    </tr>\n",
       "    <tr>\n",
       "      <th>50</th>\n",
       "      <th>Kreis 5</th>\n",
       "      <td>72</td>\n",
       "      <td>820</td>\n",
       "    </tr>\n",
       "    <tr>\n",
       "      <th>51</th>\n",
       "      <th>Gewerbeschule</th>\n",
       "      <td>12</td>\n",
       "      <td>808</td>\n",
       "    </tr>\n",
       "    <tr>\n",
       "      <th>52</th>\n",
       "      <th>Escher Wyss</th>\n",
       "      <td>12</td>\n",
       "      <td>1199</td>\n",
       "    </tr>\n",
       "    <tr>\n",
       "      <th>60</th>\n",
       "      <th>Kreis 6</th>\n",
       "      <td>36</td>\n",
       "      <td>818</td>\n",
       "    </tr>\n",
       "    <tr>\n",
       "      <th>61</th>\n",
       "      <th>Unterstrass</th>\n",
       "      <td>48</td>\n",
       "      <td>794</td>\n",
       "    </tr>\n",
       "    <tr>\n",
       "      <th>63</th>\n",
       "      <th>Oberstrass</th>\n",
       "      <td>48</td>\n",
       "      <td>948</td>\n",
       "    </tr>\n",
       "  </tbody>\n",
       "</table>\n",
       "</div>"
      ],
      "text/plain": [
       "                                                   count  mean_qu50\n",
       "GliederungSort GliederungLang                                      \n",
       "1              Neubau bis 2 Jahre                     36       1144\n",
       "2              Neubezug bis 2 Jahre                   36        856\n",
       "3              Bestand Mietverträge 2–10 Jahre        36        826\n",
       "4              Bestand Mietverträge 11-20 Jahre       36        707\n",
       "5              Bestand Mietverträge über 20 Jahre     36        618\n",
       "10             Kreis 1                                72       1057\n",
       "11             Rathaus                                12       1147\n",
       "12             Hochschulen                            12       1279\n",
       "13             Lindenhof                              12       1325\n",
       "14             City                                   12       1005\n",
       "20             Kreis 2                                72        831\n",
       "21             Wollishofen                            12        814\n",
       "23             Leimbach                               12        765\n",
       "24             Enge                                   12       1113\n",
       "30             Kreis 3                                36        759\n",
       "31             Alt-Wiedikon                           12        936\n",
       "33             Friesenberg                            12        612\n",
       "34             Sihlfeld                               48        762\n",
       "39             Alt-Wiedikon und Friesenberg           36        770\n",
       "40             Kreis 4                                36        775\n",
       "41             Werd                                   12       1016\n",
       "42             Langstrasse                            12        928\n",
       "44             Hard                                   48        674\n",
       "49             Werd und Langstrasse                   36        859\n",
       "50             Kreis 5                                72        820\n",
       "51             Gewerbeschule                          12        808\n",
       "52             Escher Wyss                            12       1199\n",
       "60             Kreis 6                                36        818\n",
       "61             Unterstrass                            48        794\n",
       "63             Oberstrass                             48        948"
      ]
     },
     "execution_count": 32,
     "metadata": {},
     "output_type": "execute_result"
    }
   ],
   "source": [
    "dim_gliederung = data2betested\\\n",
    "    .query('GliederungSort !=0')\\\n",
    "    .groupby(['GliederungSort', 'GliederungLang']) \\\n",
    "    .agg(count=('GliederungSort', 'count'),mean_qu50=('qu50', 'mean')) \\\n",
    "    .sort_values('GliederungSort', ascending=True) \n",
    "\n",
    "#dim_gliederung.head(60)\n",
    "dim_gliederung.head(30)"
   ]
  },
  {
   "cell_type": "code",
   "execution_count": 33,
   "metadata": {},
   "outputs": [
    {
     "data": {
      "text/html": [
       "<div>\n",
       "<style scoped>\n",
       "    .dataframe tbody tr th:only-of-type {\n",
       "        vertical-align: middle;\n",
       "    }\n",
       "\n",
       "    .dataframe tbody tr th {\n",
       "        vertical-align: top;\n",
       "    }\n",
       "\n",
       "    .dataframe thead th {\n",
       "        text-align: right;\n",
       "    }\n",
       "</style>\n",
       "<table border=\"1\" class=\"dataframe\">\n",
       "  <thead>\n",
       "    <tr style=\"text-align: right;\">\n",
       "      <th></th>\n",
       "      <th></th>\n",
       "      <th>count</th>\n",
       "      <th>mean_qu50</th>\n",
       "    </tr>\n",
       "    <tr>\n",
       "      <th>ZimmerSort</th>\n",
       "      <th>ZimmerLang</th>\n",
       "      <th></th>\n",
       "      <th></th>\n",
       "    </tr>\n",
       "  </thead>\n",
       "  <tbody>\n",
       "    <tr>\n",
       "      <th>2</th>\n",
       "      <th>2 Zimmer</th>\n",
       "      <td>592</td>\n",
       "      <td>708</td>\n",
       "    </tr>\n",
       "    <tr>\n",
       "      <th>3</th>\n",
       "      <th>3 Zimmer</th>\n",
       "      <td>592</td>\n",
       "      <td>824</td>\n",
       "    </tr>\n",
       "    <tr>\n",
       "      <th>4</th>\n",
       "      <th>4 Zimmer</th>\n",
       "      <td>592</td>\n",
       "      <td>994</td>\n",
       "    </tr>\n",
       "  </tbody>\n",
       "</table>\n",
       "</div>"
      ],
      "text/plain": [
       "                       count  mean_qu50\n",
       "ZimmerSort ZimmerLang                  \n",
       "2          2 Zimmer      592        708\n",
       "3          3 Zimmer      592        824\n",
       "4          4 Zimmer      592        994"
      ]
     },
     "execution_count": 33,
     "metadata": {},
     "output_type": "execute_result"
    }
   ],
   "source": [
    "dim_zimmer = data2betested\\\n",
    "    .query('GliederungSort !=0')\\\n",
    "    .groupby(['ZimmerSort','ZimmerLang']) \\\n",
    "    .agg(count=('ZimmerSort', 'count'),mean_qu50=('qu50', 'mean')) \\\n",
    "    .sort_values('ZimmerSort', ascending=True) \n",
    "\n",
    "#dim_zimmer.head(60)\n",
    "dim_zimmer.head(4)"
   ]
  },
  {
   "cell_type": "code",
   "execution_count": 34,
   "metadata": {},
   "outputs": [
    {
     "data": {
      "text/html": [
       "<div>\n",
       "<style scoped>\n",
       "    .dataframe tbody tr th:only-of-type {\n",
       "        vertical-align: middle;\n",
       "    }\n",
       "\n",
       "    .dataframe tbody tr th {\n",
       "        vertical-align: top;\n",
       "    }\n",
       "\n",
       "    .dataframe thead th {\n",
       "        text-align: right;\n",
       "    }\n",
       "</style>\n",
       "<table border=\"1\" class=\"dataframe\">\n",
       "  <thead>\n",
       "    <tr style=\"text-align: right;\">\n",
       "      <th></th>\n",
       "      <th></th>\n",
       "      <th>count</th>\n",
       "      <th>mean_qu50</th>\n",
       "    </tr>\n",
       "    <tr>\n",
       "      <th>GemeinnuetzigSort</th>\n",
       "      <th>GemeinnuetzigLang</th>\n",
       "      <th></th>\n",
       "      <th></th>\n",
       "    </tr>\n",
       "  </thead>\n",
       "  <tbody>\n",
       "    <tr>\n",
       "      <th>0</th>\n",
       "      <th>Alle Wohnungen</th>\n",
       "      <td>48</td>\n",
       "      <td>823</td>\n",
       "    </tr>\n",
       "    <tr>\n",
       "      <th>1</th>\n",
       "      <th>Gemeinnützig</th>\n",
       "      <td>36</td>\n",
       "      <td>566</td>\n",
       "    </tr>\n",
       "    <tr>\n",
       "      <th>2</th>\n",
       "      <th>Nicht gemeinnützig</th>\n",
       "      <td>36</td>\n",
       "      <td>955</td>\n",
       "    </tr>\n",
       "  </tbody>\n",
       "</table>\n",
       "</div>"
      ],
      "text/plain": [
       "                                      count  mean_qu50\n",
       "GemeinnuetzigSort GemeinnuetzigLang                   \n",
       "0                 Alle Wohnungen         48        823\n",
       "1                 Gemeinnützig           36        566\n",
       "2                 Nicht gemeinnützig     36        955"
      ]
     },
     "execution_count": 34,
     "metadata": {},
     "output_type": "execute_result"
    }
   ],
   "source": [
    "dim_gemeinnuetzig = data2betested\\\n",
    "    .query('GliederungSort ==0')\\\n",
    "    .groupby(['GemeinnuetzigSort', 'GemeinnuetzigLang',]) \\\n",
    "    .agg(count=('GemeinnuetzigSort', 'count'),mean_qu50=('qu50', 'mean')) \\\n",
    "    .sort_values('GemeinnuetzigSort', ascending=True) \n",
    "\n",
    "#dim_gemeinnuetzig.head(60)\n",
    "dim_gemeinnuetzig.head()"
   ]
  },
  {
   "cell_type": "code",
   "execution_count": 35,
   "metadata": {},
   "outputs": [
    {
     "data": {
      "text/html": [
       "<div>\n",
       "<style scoped>\n",
       "    .dataframe tbody tr th:only-of-type {\n",
       "        vertical-align: middle;\n",
       "    }\n",
       "\n",
       "    .dataframe tbody tr th {\n",
       "        vertical-align: top;\n",
       "    }\n",
       "\n",
       "    .dataframe thead th {\n",
       "        text-align: right;\n",
       "    }\n",
       "</style>\n",
       "<table border=\"1\" class=\"dataframe\">\n",
       "  <thead>\n",
       "    <tr style=\"text-align: right;\">\n",
       "      <th></th>\n",
       "      <th></th>\n",
       "      <th>count</th>\n",
       "      <th>mean_qu50</th>\n",
       "    </tr>\n",
       "    <tr>\n",
       "      <th>EinheitSort</th>\n",
       "      <th>EinheitLang</th>\n",
       "      <th></th>\n",
       "      <th></th>\n",
       "    </tr>\n",
       "  </thead>\n",
       "  <tbody>\n",
       "    <tr>\n",
       "      <th>1</th>\n",
       "      <th>Wohnung</th>\n",
       "      <td>888</td>\n",
       "      <td>1662</td>\n",
       "    </tr>\n",
       "    <tr>\n",
       "      <th>2</th>\n",
       "      <th>Quadratmeter</th>\n",
       "      <td>888</td>\n",
       "      <td>22</td>\n",
       "    </tr>\n",
       "  </tbody>\n",
       "</table>\n",
       "</div>"
      ],
      "text/plain": [
       "                          count  mean_qu50\n",
       "EinheitSort EinheitLang                   \n",
       "1           Wohnung         888       1662\n",
       "2           Quadratmeter    888         22"
      ]
     },
     "execution_count": 35,
     "metadata": {},
     "output_type": "execute_result"
    }
   ],
   "source": [
    "dim_Einheit = data2betested\\\n",
    "    .query('GliederungSort != 0')\\\n",
    "    .groupby(['EinheitSort', 'EinheitLang']) \\\n",
    "    .agg(count=('EinheitSort', 'count'),mean_qu50=('qu50', 'mean')) \\\n",
    "    .sort_values('EinheitSort', ascending=True) \n",
    "\n",
    "#dim_Einheit.head(60)\n",
    "dim_Einheit.head(4)"
   ]
  },
  {
   "cell_type": "code",
   "execution_count": 36,
   "metadata": {},
   "outputs": [
    {
     "data": {
      "text/html": [
       "<div>\n",
       "<style scoped>\n",
       "    .dataframe tbody tr th:only-of-type {\n",
       "        vertical-align: middle;\n",
       "    }\n",
       "\n",
       "    .dataframe tbody tr th {\n",
       "        vertical-align: top;\n",
       "    }\n",
       "\n",
       "    .dataframe thead th {\n",
       "        text-align: right;\n",
       "    }\n",
       "</style>\n",
       "<table border=\"1\" class=\"dataframe\">\n",
       "  <thead>\n",
       "    <tr style=\"text-align: right;\">\n",
       "      <th></th>\n",
       "      <th></th>\n",
       "      <th>count</th>\n",
       "      <th>mean_qu50</th>\n",
       "    </tr>\n",
       "    <tr>\n",
       "      <th>PreisartSort</th>\n",
       "      <th>PreisartLang</th>\n",
       "      <th></th>\n",
       "      <th></th>\n",
       "    </tr>\n",
       "  </thead>\n",
       "  <tbody>\n",
       "    <tr>\n",
       "      <th>1</th>\n",
       "      <th>Netto</th>\n",
       "      <td>888</td>\n",
       "      <td>797</td>\n",
       "    </tr>\n",
       "    <tr>\n",
       "      <th>2</th>\n",
       "      <th>Brutto</th>\n",
       "      <td>888</td>\n",
       "      <td>887</td>\n",
       "    </tr>\n",
       "  </tbody>\n",
       "</table>\n",
       "</div>"
      ],
      "text/plain": [
       "                           count  mean_qu50\n",
       "PreisartSort PreisartLang                  \n",
       "1            Netto           888        797\n",
       "2            Brutto          888        887"
      ]
     },
     "execution_count": 36,
     "metadata": {},
     "output_type": "execute_result"
    }
   ],
   "source": [
    "dim_Preisart = data2betested\\\n",
    "    .query('GliederungSort !=0')\\\n",
    "    .groupby(['PreisartSort', 'PreisartLang']) \\\n",
    "    .agg(count=('PreisartSort', 'count'),mean_qu50=('qu50', 'mean')) \\\n",
    "    .sort_values('PreisartSort', ascending=True) \n",
    "\n",
    "#dim_Preisart.head(60)\n",
    "dim_Preisart.head(4)"
   ]
  },
  {
   "cell_type": "code",
   "execution_count": 37,
   "metadata": {},
   "outputs": [
    {
     "data": {
      "text/plain": [
       "Index(['StichtagDatJahr', 'RaumeinheitSort', 'RaumeinheitLang', 'GliederungSort', 'GliederungLang',\n",
       "       'ZimmerSort', 'ZimmerLang', 'GemeinnuetzigSort', 'GemeinnuetzigLang', 'EinheitSort',\n",
       "       'EinheitLang', 'PreisartSort', 'PreisartLang', 'mean', 'meanl', 'meanu', 'qu10', 'qu10l',\n",
       "       'qu10u', 'qu25', 'qu25l', 'qu25u', 'qu50', 'qu50l', 'qu50u', 'qu75', 'qu75l', 'qu75u',\n",
       "       'qu90', 'qu90l', 'qu90u', 'Domain', 'Sample1', 'Sample2'],\n",
       "      dtype='object')"
      ]
     },
     "execution_count": 37,
     "metadata": {},
     "output_type": "execute_result"
    }
   ],
   "source": [
    "data2betested.columns"
   ]
  },
  {
   "cell_type": "markdown",
   "metadata": {},
   "source": [
    "#### Meine Selektionen"
   ]
  },
  {
   "cell_type": "code",
   "execution_count": 38,
   "metadata": {
    "tags": []
   },
   "outputs": [
    {
     "name": "stdout",
     "output_type": "stream",
     "text": [
      "                 StichtagDatJahr  RaumeinheitSort  RaumeinheitLang  GliederungSort  \\\n",
      "StichtagDatMonat                                                                     \n",
      "2022-04-01            2022-01-01                1      Ganze Stadt               1   \n",
      "2022-04-01            2022-01-01                1      Ganze Stadt               1   \n",
      "2022-04-01            2022-01-01                1      Ganze Stadt               1   \n",
      "2022-04-01            2022-01-01                1      Ganze Stadt               1   \n",
      "2022-04-01            2022-01-01                1      Ganze Stadt               1   \n",
      "...                          ...              ...              ...             ...   \n",
      "2022-04-01            2022-01-01                3  Quartiergruppen             129   \n",
      "2022-04-01            2022-01-01                3  Quartiergruppen             129   \n",
      "2022-04-01            2022-01-01                3  Quartiergruppen             129   \n",
      "2022-04-01            2022-01-01                3  Quartiergruppen             129   \n",
      "2022-04-01            2022-01-01                3  Quartiergruppen             129   \n",
      "\n",
      "                                    GliederungLang  ZimmerSort ZimmerLang  ...  qu75u qu90  qu90l  \\\n",
      "StichtagDatMonat                                                           ...                      \n",
      "2022-04-01                      Neubau bis 2 Jahre           2   2 Zimmer  ...   2380 2490   2273   \n",
      "2022-04-01                      Neubau bis 2 Jahre           2   2 Zimmer  ...   1356 1535   1407   \n",
      "2022-04-01                      Neubau bis 2 Jahre           4   4 Zimmer  ...   3640 3791   3598   \n",
      "2022-04-01                      Neubau bis 2 Jahre           4   4 Zimmer  ...   1807 2041   1863   \n",
      "2022-04-01                      Neubau bis 2 Jahre           2   2 Zimmer  ...   2490 2529   2274   \n",
      "...                                            ...         ...        ...  ...    ...  ...    ...   \n",
      "2022-04-01        Saatlen und Schwamendingen-Mitte           4   4 Zimmer  ...   1834 2023   1970   \n",
      "2022-04-01        Saatlen und Schwamendingen-Mitte           3   3 Zimmer  ...   1520 1600   1558   \n",
      "2022-04-01        Saatlen und Schwamendingen-Mitte           4   4 Zimmer  ...   2158 2604   2098   \n",
      "2022-04-01        Saatlen und Schwamendingen-Mitte           2   2 Zimmer  ...   1600 1665   1501   \n",
      "2022-04-01        Saatlen und Schwamendingen-Mitte           2   2 Zimmer  ...   1445 1565   1448   \n",
      "\n",
      "                 qu90u  Domain Sample1  Sample2  \n",
      "StichtagDatMonat                                 \n",
      "2022-04-01        2914    1498     488       60  \n",
      "2022-04-01        1675     420     280       24  \n",
      "2022-04-01        4156     617     144       21  \n",
      "2022-04-01        2207     532     304       12  \n",
      "2022-04-01        2935    1078     208       36  \n",
      "...                ...     ...     ...      ...  \n",
      "2022-04-01        2070    1975     899       84  \n",
      "2022-04-01        1641    3451    1342      130  \n",
      "2022-04-01        3355     568      65       38  \n",
      "2022-04-01        2001    1037     148       48  \n",
      "2022-04-01        1669    1854     722       86  \n",
      "\n",
      "[444 rows x 34 columns]\n"
     ]
    }
   ],
   "source": [
    "mySel1 = data2betested\\\n",
    "    .query(\n",
    "    'GliederungSort >0 and \\\n",
    "    GemeinnuetzigSort < 10 and \\\n",
    "    EinheitSort == 1 and\\\n",
    "    PreisartSort ==1'\n",
    "    )\\\n",
    "    .sort_values('GliederungSort', ascending=True) \n",
    "    #.groupby(['PreisartSort', 'PreisartLang']) \\\n",
    "    #.agg(count=('PreisartSort', 'count'),mean_qu50=('qu50', 'mean')) \\\n",
    "\n",
    "\n",
    "#mySel1.head(60)\n",
    "mySel1.head(10)\n",
    "print(mySel1)"
   ]
  },
  {
   "cell_type": "code",
   "execution_count": 39,
   "metadata": {},
   "outputs": [
    {
     "data": {
      "text/html": [
       "\n",
       "<div id=\"altair-viz-ec51472e360d479abc049abed8dec5f4\"></div>\n",
       "<script type=\"text/javascript\">\n",
       "  (function(spec, embedOpt){\n",
       "    let outputDiv = document.currentScript.previousElementSibling;\n",
       "    if (outputDiv.id !== \"altair-viz-ec51472e360d479abc049abed8dec5f4\") {\n",
       "      outputDiv = document.getElementById(\"altair-viz-ec51472e360d479abc049abed8dec5f4\");\n",
       "    }\n",
       "    const paths = {\n",
       "      \"vega\": \"https://cdn.jsdelivr.net/npm//vega@5?noext\",\n",
       "      \"vega-lib\": \"https://cdn.jsdelivr.net/npm//vega-lib?noext\",\n",
       "      \"vega-lite\": \"https://cdn.jsdelivr.net/npm//vega-lite@4.8.1?noext\",\n",
       "      \"vega-embed\": \"https://cdn.jsdelivr.net/npm//vega-embed@6?noext\",\n",
       "    };\n",
       "\n",
       "    function loadScript(lib) {\n",
       "      return new Promise(function(resolve, reject) {\n",
       "        var s = document.createElement('script');\n",
       "        s.src = paths[lib];\n",
       "        s.async = true;\n",
       "        s.onload = () => resolve(paths[lib]);\n",
       "        s.onerror = () => reject(`Error loading script: ${paths[lib]}`);\n",
       "        document.getElementsByTagName(\"head\")[0].appendChild(s);\n",
       "      });\n",
       "    }\n",
       "\n",
       "    function showError(err) {\n",
       "      outputDiv.innerHTML = `<div class=\"error\" style=\"color:red;\">${err}</div>`;\n",
       "      throw err;\n",
       "    }\n",
       "\n",
       "    function displayChart(vegaEmbed) {\n",
       "      vegaEmbed(outputDiv, spec, embedOpt)\n",
       "        .catch(err => showError(`Javascript Error: ${err.message}<br>This usually means there's a typo in your chart specification. See the javascript console for the full traceback.`));\n",
       "    }\n",
       "\n",
       "    if(typeof define === \"function\" && define.amd) {\n",
       "      requirejs.config({paths});\n",
       "      require([\"vega-embed\"], displayChart, err => showError(`Error loading script: ${err.message}`));\n",
       "    } else if (typeof vegaEmbed === \"function\") {\n",
       "      displayChart(vegaEmbed);\n",
       "    } else {\n",
       "      loadScript(\"vega\")\n",
       "        .then(() => loadScript(\"vega-lite\"))\n",
       "        .then(() => loadScript(\"vega-embed\"))\n",
       "        .catch(showError)\n",
       "        .then(() => displayChart(vegaEmbed));\n",
       "    }\n",
       "  })({\"config\": {\"view\": {\"continuousWidth\": 400, \"continuousHeight\": 300}}, \"layer\": [{\"mark\": \"line\", \"encoding\": {\"color\": {\"type\": \"nominal\", \"field\": \"ZimmerSort\", \"legend\": {\"orient\": \"right\", \"title\": \"Zimmerzahl\"}}, \"size\": {\"condition\": {\"value\": 0.5, \"selection\": {\"not\": \"selector001\"}}, \"value\": 4}, \"tooltip\": [{\"type\": \"quantitative\", \"field\": \"GliederungSort\"}, {\"type\": \"nominal\", \"field\": \"GliederungLang\"}, {\"type\": \"quantitative\", \"field\": \"ZimmerSort\"}, {\"type\": \"nominal\", \"field\": \"ZimmerLang\"}, {\"type\": \"quantitative\", \"field\": \"GemeinnuetzigSort\"}, {\"type\": \"nominal\", \"field\": \"GemeinnuetzigLang\"}, {\"type\": \"quantitative\", \"field\": \"EinheitSort\"}, {\"type\": \"nominal\", \"field\": \"EinheitLang\"}, {\"type\": \"quantitative\", \"field\": \"PreisartSort\"}, {\"type\": \"nominal\", \"field\": \"PreisartLang\"}, {\"type\": \"quantitative\", \"field\": \"qu50\"}, {\"type\": \"quantitative\", \"field\": \"qu50l\"}, {\"type\": \"quantitative\", \"field\": \"qu50u\"}], \"x\": {\"type\": \"quantitative\", \"axis\": {\"title\": \"Stadtkreis\"}, \"field\": \"GliederungSort\", \"scale\": {\"domain\": [5, 125]}}, \"y\": {\"type\": \"quantitative\", \"axis\": {\"title\": \"Median-Preis\"}, \"field\": \"qu50\", \"scale\": {\"domain\": [0, 3500]}}}, \"selection\": {\"selector002\": {\"type\": \"interval\", \"bind\": \"scales\", \"encodings\": [\"x\", \"y\"]}}, \"title\": \"Mietpreise gemeinn\\u00fctziger Wohnungen nach Stadtkreisen und Zimmerzahl\"}, {\"mark\": \"circle\", \"encoding\": {\"color\": {\"type\": \"nominal\", \"field\": \"ZimmerSort\", \"legend\": {\"orient\": \"right\", \"title\": \"Zimmerzahl\"}}, \"opacity\": {\"value\": 0.75}, \"tooltip\": [{\"type\": \"quantitative\", \"field\": \"GliederungSort\"}, {\"type\": \"nominal\", \"field\": \"GliederungLang\"}, {\"type\": \"quantitative\", \"field\": \"ZimmerSort\"}, {\"type\": \"nominal\", \"field\": \"ZimmerLang\"}, {\"type\": \"quantitative\", \"field\": \"GemeinnuetzigSort\"}, {\"type\": \"nominal\", \"field\": \"GemeinnuetzigLang\"}, {\"type\": \"quantitative\", \"field\": \"EinheitSort\"}, {\"type\": \"nominal\", \"field\": \"EinheitLang\"}, {\"type\": \"quantitative\", \"field\": \"PreisartSort\"}, {\"type\": \"nominal\", \"field\": \"PreisartLang\"}, {\"type\": \"quantitative\", \"field\": \"qu50\"}, {\"type\": \"quantitative\", \"field\": \"qu50l\"}, {\"type\": \"quantitative\", \"field\": \"qu50u\"}], \"x\": {\"type\": \"quantitative\", \"axis\": {\"title\": \"Stadtkreis\"}, \"field\": \"GliederungSort\", \"scale\": {\"domain\": [5, 125]}}, \"y\": {\"type\": \"quantitative\", \"axis\": {\"title\": \"Median-Preis\"}, \"field\": \"qu50\", \"scale\": {\"domain\": [0, 3500]}}}, \"height\": 350, \"selection\": {\"selector001\": {\"type\": \"single\", \"on\": \"mouseover\", \"fields\": [\"ProjStatus\"], \"nearest\": true}}, \"title\": \"Mietpreise gemeinn\\u00fctziger Wohnungen nach Stadtkreisen und Zimmerzahl\", \"width\": 750}], \"data\": {\"name\": \"data-7b7620c18d61460bcad50478adf82776\"}, \"$schema\": \"https://vega.github.io/schema/vega-lite/v4.8.1.json\", \"datasets\": {\"data-7b7620c18d61460bcad50478adf82776\": [{\"StichtagDatJahr\": \"2022-01-01T00:00:00\", \"RaumeinheitSort\": 2, \"RaumeinheitLang\": \"Stadtkreise\", \"GliederungSort\": 10, \"GliederungLang\": \"Kreis 1\", \"ZimmerSort\": 2, \"ZimmerLang\": \"2 Zimmer\", \"GemeinnuetzigSort\": 1, \"GemeinnuetzigLang\": \"Gemeinn\\u00fctzig\", \"EinheitSort\": 1, \"EinheitLang\": \"Wohnung\", \"PreisartSort\": 1, \"PreisartLang\": \"Netto\", \"mean\": 1056.0, \"meanl\": 1043.0, \"meanu\": 1069.0, \"qu10\": 556.0, \"qu10l\": 548.0, \"qu10u\": 571.0, \"qu25\": 722.0, \"qu25l\": 709.0, \"qu25u\": 748.0, \"qu50\": 950.0, \"qu50l\": 934.0, \"qu50u\": 957.0, \"qu75\": 1252.0, \"qu75l\": 1231.0, \"qu75u\": 1278.0, \"qu90\": 1630.0, \"qu90l\": 1600.0, \"qu90u\": 1678.0, \"Domain\": 302, \"Sample1\": 274, \"Sample2\": 0}, {\"StichtagDatJahr\": \"2022-01-01T00:00:00\", \"RaumeinheitSort\": 2, \"RaumeinheitLang\": \"Stadtkreise\", \"GliederungSort\": 10, \"GliederungLang\": \"Kreis 1\", \"ZimmerSort\": 3, \"ZimmerLang\": \"3 Zimmer\", \"GemeinnuetzigSort\": 1, \"GemeinnuetzigLang\": \"Gemeinn\\u00fctzig\", \"EinheitSort\": 1, \"EinheitLang\": \"Wohnung\", \"PreisartSort\": 1, \"PreisartLang\": \"Netto\", \"mean\": 1390.0, \"meanl\": 1376.0, \"meanu\": 1404.0, \"qu10\": 719.0, \"qu10l\": 707.0, \"qu10u\": 727.0, \"qu25\": 983.0, \"qu25l\": 969.0, \"qu25u\": 1009.0, \"qu50\": 1283.0, \"qu50l\": 1278.0, \"qu50u\": 1295.0, \"qu75\": 1688.0, \"qu75l\": 1638.0, \"qu75u\": 1734.0, \"qu90\": 2234.0, \"qu90l\": 2118.0, \"qu90u\": 2285.0, \"Domain\": 201, \"Sample1\": 191, \"Sample2\": 0}, {\"StichtagDatJahr\": \"2022-01-01T00:00:00\", \"RaumeinheitSort\": 2, \"RaumeinheitLang\": \"Stadtkreise\", \"GliederungSort\": 10, \"GliederungLang\": \"Kreis 1\", \"ZimmerSort\": 4, \"ZimmerLang\": \"4 Zimmer\", \"GemeinnuetzigSort\": 1, \"GemeinnuetzigLang\": \"Gemeinn\\u00fctzig\", \"EinheitSort\": 1, \"EinheitLang\": \"Wohnung\", \"PreisartSort\": 1, \"PreisartLang\": \"Netto\", \"mean\": 1603.0, \"meanl\": 1576.0, \"meanu\": 1629.0, \"qu10\": 751.0, \"qu10l\": 716.0, \"qu10u\": 780.0, \"qu25\": 1081.0, \"qu25l\": 1037.0, \"qu25u\": 1140.0, \"qu50\": 1436.0, \"qu50l\": 1382.0, \"qu50u\": 1498.0, \"qu75\": 1983.0, \"qu75l\": 1934.0, \"qu75u\": 2004.0, \"qu90\": 2525.0, \"qu90l\": 2352.0, \"qu90u\": 2550.0, \"Domain\": 136, \"Sample1\": 124, \"Sample2\": 0}, {\"StichtagDatJahr\": \"2022-01-01T00:00:00\", \"RaumeinheitSort\": 2, \"RaumeinheitLang\": \"Stadtkreise\", \"GliederungSort\": 20, \"GliederungLang\": \"Kreis 2\", \"ZimmerSort\": 4, \"ZimmerLang\": \"4 Zimmer\", \"GemeinnuetzigSort\": 1, \"GemeinnuetzigLang\": \"Gemeinn\\u00fctzig\", \"EinheitSort\": 1, \"EinheitLang\": \"Wohnung\", \"PreisartSort\": 1, \"PreisartLang\": \"Netto\", \"mean\": 1374.0, \"meanl\": 1350.0, \"meanu\": 1398.0, \"qu10\": 885.0, \"qu10l\": 872.0, \"qu10u\": 961.0, \"qu25\": 1112.0, \"qu25l\": 1043.0, \"qu25u\": 1135.0, \"qu50\": 1298.0, \"qu50l\": 1250.0, \"qu50u\": 1357.0, \"qu75\": 1675.0, \"qu75l\": 1579.0, \"qu75u\": 1711.0, \"qu90\": 1887.0, \"qu90l\": 1769.0, \"qu90u\": 1980.0, \"Domain\": 1435, \"Sample1\": 763, \"Sample2\": 52}, {\"StichtagDatJahr\": \"2022-01-01T00:00:00\", \"RaumeinheitSort\": 2, \"RaumeinheitLang\": \"Stadtkreise\", \"GliederungSort\": 20, \"GliederungLang\": \"Kreis 2\", \"ZimmerSort\": 2, \"ZimmerLang\": \"2 Zimmer\", \"GemeinnuetzigSort\": 1, \"GemeinnuetzigLang\": \"Gemeinn\\u00fctzig\", \"EinheitSort\": 1, \"EinheitLang\": \"Wohnung\", \"PreisartSort\": 1, \"PreisartLang\": \"Netto\", \"mean\": 941.0, \"meanl\": 914.0, \"meanu\": 967.0, \"qu10\": 605.0, \"qu10l\": 542.0, \"qu10u\": 642.0, \"qu25\": 691.0, \"qu25l\": 653.0, \"qu25u\": 750.0, \"qu50\": 908.0, \"qu50l\": 862.0, \"qu50u\": 925.0, \"qu75\": 1126.0, \"qu75l\": 1068.0, \"qu75u\": 1168.0, \"qu90\": 1317.0, \"qu90l\": 1282.0, \"qu90u\": 1424.0, \"Domain\": 971, \"Sample1\": 535, \"Sample2\": 53}, {\"StichtagDatJahr\": \"2022-01-01T00:00:00\", \"RaumeinheitSort\": 2, \"RaumeinheitLang\": \"Stadtkreise\", \"GliederungSort\": 20, \"GliederungLang\": \"Kreis 2\", \"ZimmerSort\": 3, \"ZimmerLang\": \"3 Zimmer\", \"GemeinnuetzigSort\": 1, \"GemeinnuetzigLang\": \"Gemeinn\\u00fctzig\", \"EinheitSort\": 1, \"EinheitLang\": \"Wohnung\", \"PreisartSort\": 1, \"PreisartLang\": \"Netto\", \"mean\": 1083.0, \"meanl\": 1036.0, \"meanu\": 1131.0, \"qu10\": 721.0, \"qu10l\": 686.0, \"qu10u\": 750.0, \"qu25\": 794.0, \"qu25l\": 772.0, \"qu25u\": 816.0, \"qu50\": 1001.0, \"qu50l\": 959.0, \"qu50u\": 1029.0, \"qu75\": 1181.0, \"qu75l\": 1143.0, \"qu75u\": 1277.0, \"qu90\": 1587.0, \"qu90l\": 1512.0, \"qu90u\": 1766.0, \"Domain\": 1736, \"Sample1\": 873, \"Sample2\": 63}, {\"StichtagDatJahr\": \"2022-01-01T00:00:00\", \"RaumeinheitSort\": 2, \"RaumeinheitLang\": \"Stadtkreise\", \"GliederungSort\": 30, \"GliederungLang\": \"Kreis 3\", \"ZimmerSort\": 2, \"ZimmerLang\": \"2 Zimmer\", \"GemeinnuetzigSort\": 1, \"GemeinnuetzigLang\": \"Gemeinn\\u00fctzig\", \"EinheitSort\": 1, \"EinheitLang\": \"Wohnung\", \"PreisartSort\": 1, \"PreisartLang\": \"Netto\", \"mean\": 826.0, \"meanl\": 811.0, \"meanu\": 842.0, \"qu10\": 565.0, \"qu10l\": 565.0, \"qu10u\": 568.0, \"qu25\": 653.0, \"qu25l\": 636.0, \"qu25u\": 674.0, \"qu50\": 781.0, \"qu50l\": 781.0, \"qu50u\": 816.0, \"qu75\": 964.0, \"qu75l\": 942.0, \"qu75u\": 1006.0, \"qu90\": 1129.0, \"qu90l\": 1087.0, \"qu90u\": 1246.0, \"Domain\": 1432, \"Sample1\": 855, \"Sample2\": 64}, {\"StichtagDatJahr\": \"2022-01-01T00:00:00\", \"RaumeinheitSort\": 2, \"RaumeinheitLang\": \"Stadtkreise\", \"GliederungSort\": 30, \"GliederungLang\": \"Kreis 3\", \"ZimmerSort\": 3, \"ZimmerLang\": \"3 Zimmer\", \"GemeinnuetzigSort\": 1, \"GemeinnuetzigLang\": \"Gemeinn\\u00fctzig\", \"EinheitSort\": 1, \"EinheitLang\": \"Wohnung\", \"PreisartSort\": 1, \"PreisartLang\": \"Netto\", \"mean\": 928.0, \"meanl\": 904.0, \"meanu\": 952.0, \"qu10\": 647.0, \"qu10l\": 626.0, \"qu10u\": 667.0, \"qu25\": 738.0, \"qu25l\": 727.0, \"qu25u\": 768.0, \"qu50\": 852.0, \"qu50l\": 832.0, \"qu50u\": 891.0, \"qu75\": 1025.0, \"qu75l\": 995.0, \"qu75u\": 1106.0, \"qu90\": 1350.0, \"qu90l\": 1283.0, \"qu90u\": 1403.0, \"Domain\": 3050, \"Sample1\": 1850, \"Sample2\": 67}, {\"StichtagDatJahr\": \"2022-01-01T00:00:00\", \"RaumeinheitSort\": 2, \"RaumeinheitLang\": \"Stadtkreise\", \"GliederungSort\": 30, \"GliederungLang\": \"Kreis 3\", \"ZimmerSort\": 4, \"ZimmerLang\": \"4 Zimmer\", \"GemeinnuetzigSort\": 1, \"GemeinnuetzigLang\": \"Gemeinn\\u00fctzig\", \"EinheitSort\": 1, \"EinheitLang\": \"Wohnung\", \"PreisartSort\": 1, \"PreisartLang\": \"Netto\", \"mean\": 1286.0, \"meanl\": 1267.0, \"meanu\": 1304.0, \"qu10\": 856.0, \"qu10l\": 813.0, \"qu10u\": 881.0, \"qu25\": 975.0, \"qu25l\": 969.0, \"qu25u\": 1014.0, \"qu50\": 1276.0, \"qu50l\": 1250.0, \"qu50u\": 1293.0, \"qu75\": 1562.0, \"qu75l\": 1546.0, \"qu75u\": 1636.0, \"qu90\": 1759.0, \"qu90l\": 1706.0, \"qu90u\": 1777.0, \"Domain\": 1886, \"Sample1\": 1175, \"Sample2\": 84}, {\"StichtagDatJahr\": \"2022-01-01T00:00:00\", \"RaumeinheitSort\": 2, \"RaumeinheitLang\": \"Stadtkreise\", \"GliederungSort\": 40, \"GliederungLang\": \"Kreis 4\", \"ZimmerSort\": 3, \"ZimmerLang\": \"3 Zimmer\", \"GemeinnuetzigSort\": 1, \"GemeinnuetzigLang\": \"Gemeinn\\u00fctzig\", \"EinheitSort\": 1, \"EinheitLang\": \"Wohnung\", \"PreisartSort\": 1, \"PreisartLang\": \"Netto\", \"mean\": 1000.0, \"meanl\": 967.0, \"meanu\": 1032.0, \"qu10\": 683.0, \"qu10l\": 674.0, \"qu10u\": 686.0, \"qu25\": 754.0, \"qu25l\": 737.0, \"qu25u\": 770.0, \"qu50\": 888.0, \"qu50l\": 866.0, \"qu50u\": 912.0, \"qu75\": 1138.0, \"qu75l\": 1108.0, \"qu75u\": 1170.0, \"qu90\": 1440.0, \"qu90l\": 1330.0, \"qu90u\": 1506.0, \"Domain\": 2066, \"Sample1\": 1512, \"Sample2\": 50}, {\"StichtagDatJahr\": \"2022-01-01T00:00:00\", \"RaumeinheitSort\": 2, \"RaumeinheitLang\": \"Stadtkreise\", \"GliederungSort\": 40, \"GliederungLang\": \"Kreis 4\", \"ZimmerSort\": 2, \"ZimmerLang\": \"2 Zimmer\", \"GemeinnuetzigSort\": 1, \"GemeinnuetzigLang\": \"Gemeinn\\u00fctzig\", \"EinheitSort\": 1, \"EinheitLang\": \"Wohnung\", \"PreisartSort\": 1, \"PreisartLang\": \"Netto\", \"mean\": 963.0, \"meanl\": 945.0, \"meanu\": 981.0, \"qu10\": 637.0, \"qu10l\": 610.0, \"qu10u\": 649.0, \"qu25\": 743.0, \"qu25l\": 704.0, \"qu25u\": 780.0, \"qu50\": 893.0, \"qu50l\": 891.0, \"qu50u\": 905.0, \"qu75\": 1083.0, \"qu75l\": 1073.0, \"qu75u\": 1132.0, \"qu90\": 1400.0, \"qu90l\": 1314.0, \"qu90u\": 1500.0, \"Domain\": 1218, \"Sample1\": 858, \"Sample2\": 55}, {\"StichtagDatJahr\": \"2022-01-01T00:00:00\", \"RaumeinheitSort\": 2, \"RaumeinheitLang\": \"Stadtkreise\", \"GliederungSort\": 40, \"GliederungLang\": \"Kreis 4\", \"ZimmerSort\": 4, \"ZimmerLang\": \"4 Zimmer\", \"GemeinnuetzigSort\": 1, \"GemeinnuetzigLang\": \"Gemeinn\\u00fctzig\", \"EinheitSort\": 1, \"EinheitLang\": \"Wohnung\", \"PreisartSort\": 1, \"PreisartLang\": \"Netto\", \"mean\": 1247.0, \"meanl\": 1210.0, \"meanu\": 1283.0, \"qu10\": 824.0, \"qu10l\": 809.0, \"qu10u\": 838.0, \"qu25\": 916.0, \"qu25l\": 896.0, \"qu25u\": 945.0, \"qu50\": 1120.0, \"qu50l\": 1109.0, \"qu50u\": 1143.0, \"qu75\": 1413.0, \"qu75l\": 1353.0, \"qu75u\": 1440.0, \"qu90\": 1879.0, \"qu90l\": 1707.0, \"qu90u\": 2045.0, \"Domain\": 713, \"Sample1\": 478, \"Sample2\": 57}, {\"StichtagDatJahr\": \"2022-01-01T00:00:00\", \"RaumeinheitSort\": 2, \"RaumeinheitLang\": \"Stadtkreise\", \"GliederungSort\": 50, \"GliederungLang\": \"Kreis 5\", \"ZimmerSort\": 3, \"ZimmerLang\": \"3 Zimmer\", \"GemeinnuetzigSort\": 1, \"GemeinnuetzigLang\": \"Gemeinn\\u00fctzig\", \"EinheitSort\": 1, \"EinheitLang\": \"Wohnung\", \"PreisartSort\": 1, \"PreisartLang\": \"Netto\", \"mean\": 895.0, \"meanl\": 876.0, \"meanu\": 913.0, \"qu10\": 629.0, \"qu10l\": 590.0, \"qu10u\": 648.0, \"qu25\": 717.0, \"qu25l\": 694.0, \"qu25u\": 742.0, \"qu50\": 800.0, \"qu50l\": 788.0, \"qu50u\": 838.0, \"qu75\": 990.0, \"qu75l\": 925.0, \"qu75u\": 1081.0, \"qu90\": 1311.0, \"qu90l\": 1232.0, \"qu90u\": 1375.0, \"Domain\": 917, \"Sample1\": 631, \"Sample2\": 19}, {\"StichtagDatJahr\": \"2022-01-01T00:00:00\", \"RaumeinheitSort\": 2, \"RaumeinheitLang\": \"Stadtkreise\", \"GliederungSort\": 50, \"GliederungLang\": \"Kreis 5\", \"ZimmerSort\": 4, \"ZimmerLang\": \"4 Zimmer\", \"GemeinnuetzigSort\": 1, \"GemeinnuetzigLang\": \"Gemeinn\\u00fctzig\", \"EinheitSort\": 1, \"EinheitLang\": \"Wohnung\", \"PreisartSort\": 1, \"PreisartLang\": \"Netto\", \"mean\": 1223.0, \"meanl\": 1200.0, \"meanu\": 1245.0, \"qu10\": 716.0, \"qu10l\": 682.0, \"qu10u\": 785.0, \"qu25\": 914.0, \"qu25l\": 874.0, \"qu25u\": 945.0, \"qu50\": 1191.0, \"qu50l\": 1131.0, \"qu50u\": 1215.0, \"qu75\": 1548.0, \"qu75l\": 1500.0, \"qu75u\": 1588.0, \"qu90\": 1712.0, \"qu90l\": 1640.0, \"qu90u\": 1755.0, \"Domain\": 423, \"Sample1\": 294, \"Sample2\": 22}, {\"StichtagDatJahr\": \"2022-01-01T00:00:00\", \"RaumeinheitSort\": 2, \"RaumeinheitLang\": \"Stadtkreise\", \"GliederungSort\": 50, \"GliederungLang\": \"Kreis 5\", \"ZimmerSort\": 2, \"ZimmerLang\": \"2 Zimmer\", \"GemeinnuetzigSort\": 1, \"GemeinnuetzigLang\": \"Gemeinn\\u00fctzig\", \"EinheitSort\": 1, \"EinheitLang\": \"Wohnung\", \"PreisartSort\": 1, \"PreisartLang\": \"Netto\", \"mean\": 804.0, \"meanl\": 794.0, \"meanu\": 815.0, \"qu10\": 583.0, \"qu10l\": 583.0, \"qu10u\": 590.0, \"qu25\": 663.0, \"qu25l\": 663.0, \"qu25u\": 667.0, \"qu50\": 740.0, \"qu50l\": 724.0, \"qu50u\": 756.0, \"qu75\": 938.0, \"qu75l\": 876.0, \"qu75u\": 961.0, \"qu90\": 1164.0, \"qu90l\": 1113.0, \"qu90u\": 1240.0, \"Domain\": 340, \"Sample1\": 263, \"Sample2\": 16}, {\"StichtagDatJahr\": \"2022-01-01T00:00:00\", \"RaumeinheitSort\": 2, \"RaumeinheitLang\": \"Stadtkreise\", \"GliederungSort\": 60, \"GliederungLang\": \"Kreis 6\", \"ZimmerSort\": 4, \"ZimmerLang\": \"4 Zimmer\", \"GemeinnuetzigSort\": 1, \"GemeinnuetzigLang\": \"Gemeinn\\u00fctzig\", \"EinheitSort\": 1, \"EinheitLang\": \"Wohnung\", \"PreisartSort\": 1, \"PreisartLang\": \"Netto\", \"mean\": 1375.0, \"meanl\": 1356.0, \"meanu\": 1395.0, \"qu10\": 1080.0, \"qu10l\": 1054.0, \"qu10u\": 1125.0, \"qu25\": 1182.0, \"qu25l\": 1139.0, \"qu25u\": 1191.0, \"qu50\": 1292.0, \"qu50l\": 1265.0, \"qu50u\": 1350.0, \"qu75\": 1491.0, \"qu75l\": 1451.0, \"qu75u\": 1544.0, \"qu90\": 1780.0, \"qu90l\": 1741.0, \"qu90u\": 1807.0, \"Domain\": 1156, \"Sample1\": 705, \"Sample2\": 37}, {\"StichtagDatJahr\": \"2022-01-01T00:00:00\", \"RaumeinheitSort\": 2, \"RaumeinheitLang\": \"Stadtkreise\", \"GliederungSort\": 60, \"GliederungLang\": \"Kreis 6\", \"ZimmerSort\": 3, \"ZimmerLang\": \"3 Zimmer\", \"GemeinnuetzigSort\": 1, \"GemeinnuetzigLang\": \"Gemeinn\\u00fctzig\", \"EinheitSort\": 1, \"EinheitLang\": \"Wohnung\", \"PreisartSort\": 1, \"PreisartLang\": \"Netto\", \"mean\": 1001.0, \"meanl\": 985.0, \"meanu\": 1017.0, \"qu10\": 643.0, \"qu10l\": 637.0, \"qu10u\": 702.0, \"qu25\": 809.0, \"qu25l\": 790.0, \"qu25u\": 823.0, \"qu50\": 979.0, \"qu50l\": 946.0, \"qu50u\": 992.0, \"qu75\": 1086.0, \"qu75l\": 1055.0, \"qu75u\": 1131.0, \"qu90\": 1352.0, \"qu90l\": 1300.0, \"qu90u\": 1547.0, \"Domain\": 1939, \"Sample1\": 1131, \"Sample2\": 43}, {\"StichtagDatJahr\": \"2022-01-01T00:00:00\", \"RaumeinheitSort\": 2, \"RaumeinheitLang\": \"Stadtkreise\", \"GliederungSort\": 60, \"GliederungLang\": \"Kreis 6\", \"ZimmerSort\": 2, \"ZimmerLang\": \"2 Zimmer\", \"GemeinnuetzigSort\": 1, \"GemeinnuetzigLang\": \"Gemeinn\\u00fctzig\", \"EinheitSort\": 1, \"EinheitLang\": \"Wohnung\", \"PreisartSort\": 1, \"PreisartLang\": \"Netto\", \"mean\": 1004.0, \"meanl\": 936.0, \"meanu\": 1072.0, \"qu10\": 660.0, \"qu10l\": 651.0, \"qu10u\": 709.0, \"qu25\": 708.0, \"qu25l\": 679.0, \"qu25u\": 792.0, \"qu50\": 810.0, \"qu50l\": 802.0, \"qu50u\": 990.0, \"qu75\": 1138.0, \"qu75l\": 1034.0, \"qu75u\": 1345.0, \"qu90\": 1562.0, \"qu90l\": 1375.0, \"qu90u\": 2124.0, \"Domain\": 676, \"Sample1\": 328, \"Sample2\": 31}, {\"StichtagDatJahr\": \"2022-01-01T00:00:00\", \"RaumeinheitSort\": 2, \"RaumeinheitLang\": \"Stadtkreise\", \"GliederungSort\": 70, \"GliederungLang\": \"Kreis 7\", \"ZimmerSort\": 2, \"ZimmerLang\": \"2 Zimmer\", \"GemeinnuetzigSort\": 1, \"GemeinnuetzigLang\": \"Gemeinn\\u00fctzig\", \"EinheitSort\": 1, \"EinheitLang\": \"Wohnung\", \"PreisartSort\": 1, \"PreisartLang\": \"Netto\", \"mean\": 1093.0, \"meanl\": 1081.0, \"meanu\": 1105.0, \"qu10\": 711.0, \"qu10l\": 708.0, \"qu10u\": 755.0, \"qu25\": 848.0, \"qu25l\": 803.0, \"qu25u\": 861.0, \"qu50\": 1060.0, \"qu50l\": 1037.0, \"qu50u\": 1089.0, \"qu75\": 1329.0, \"qu75l\": 1312.0, \"qu75u\": 1356.0, \"qu90\": 1460.0, \"qu90l\": 1449.0, \"qu90u\": 1483.0, \"Domain\": 302, \"Sample1\": 191, \"Sample2\": 48}, {\"StichtagDatJahr\": \"2022-01-01T00:00:00\", \"RaumeinheitSort\": 2, \"RaumeinheitLang\": \"Stadtkreise\", \"GliederungSort\": 70, \"GliederungLang\": \"Kreis 7\", \"ZimmerSort\": 3, \"ZimmerLang\": \"3 Zimmer\", \"GemeinnuetzigSort\": 1, \"GemeinnuetzigLang\": \"Gemeinn\\u00fctzig\", \"EinheitSort\": 1, \"EinheitLang\": \"Wohnung\", \"PreisartSort\": 1, \"PreisartLang\": \"Netto\", \"mean\": 1248.0, \"meanl\": 1231.0, \"meanu\": 1265.0, \"qu10\": 861.0, \"qu10l\": 782.0, \"qu10u\": 888.0, \"qu25\": 900.0, \"qu25l\": 885.0, \"qu25u\": 969.0, \"qu50\": 1140.0, \"qu50l\": 1107.0, \"qu50u\": 1167.0, \"qu75\": 1384.0, \"qu75l\": 1374.0, \"qu75u\": 1418.0, \"qu90\": 1781.0, \"qu90l\": 1680.0, \"qu90u\": 1891.0, \"Domain\": 516, \"Sample1\": 282, \"Sample2\": 72}, {\"StichtagDatJahr\": \"2022-01-01T00:00:00\", \"RaumeinheitSort\": 2, \"RaumeinheitLang\": \"Stadtkreise\", \"GliederungSort\": 70, \"GliederungLang\": \"Kreis 7\", \"ZimmerSort\": 4, \"ZimmerLang\": \"4 Zimmer\", \"GemeinnuetzigSort\": 1, \"GemeinnuetzigLang\": \"Gemeinn\\u00fctzig\", \"EinheitSort\": 1, \"EinheitLang\": \"Wohnung\", \"PreisartSort\": 1, \"PreisartLang\": \"Netto\", \"mean\": 1523.0, \"meanl\": 1502.0, \"meanu\": 1544.0, \"qu10\": 999.0, \"qu10l\": 986.0, \"qu10u\": 1031.0, \"qu25\": 1149.0, \"qu25l\": 1107.0, \"qu25u\": 1173.0, \"qu50\": 1355.0, \"qu50l\": 1330.0, \"qu50u\": 1403.0, \"qu75\": 1651.0, \"qu75l\": 1639.0, \"qu75u\": 1698.0, \"qu90\": 2110.0, \"qu90l\": 2079.0, \"qu90u\": 2150.0, \"Domain\": 421, \"Sample1\": 242, \"Sample2\": 58}, {\"StichtagDatJahr\": \"2022-01-01T00:00:00\", \"RaumeinheitSort\": 2, \"RaumeinheitLang\": \"Stadtkreise\", \"GliederungSort\": 80, \"GliederungLang\": \"Kreis 8\", \"ZimmerSort\": 3, \"ZimmerLang\": \"3 Zimmer\", \"GemeinnuetzigSort\": 1, \"GemeinnuetzigLang\": \"Gemeinn\\u00fctzig\", \"EinheitSort\": 1, \"EinheitLang\": \"Wohnung\", \"PreisartSort\": 1, \"PreisartLang\": \"Netto\", \"mean\": 1153.0, \"meanl\": 1141.0, \"meanu\": 1165.0, \"qu10\": 734.0, \"qu10l\": 734.0, \"qu10u\": 751.0, \"qu25\": 839.0, \"qu25l\": 839.0, \"qu25u\": 846.0, \"qu50\": 1078.0, \"qu50l\": 1071.0, \"qu50u\": 1086.0, \"qu75\": 1277.0, \"qu75l\": 1264.0, \"qu75u\": 1284.0, \"qu90\": 1583.0, \"qu90l\": 1541.0, \"qu90u\": 1632.0, \"Domain\": 253, \"Sample1\": 235, \"Sample2\": 0}, {\"StichtagDatJahr\": \"2022-01-01T00:00:00\", \"RaumeinheitSort\": 2, \"RaumeinheitLang\": \"Stadtkreise\", \"GliederungSort\": 80, \"GliederungLang\": \"Kreis 8\", \"ZimmerSort\": 4, \"ZimmerLang\": \"4 Zimmer\", \"GemeinnuetzigSort\": 1, \"GemeinnuetzigLang\": \"Gemeinn\\u00fctzig\", \"EinheitSort\": 1, \"EinheitLang\": \"Wohnung\", \"PreisartSort\": 1, \"PreisartLang\": \"Netto\", \"mean\": 1351.0, \"meanl\": 1339.0, \"meanu\": 1362.0, \"qu10\": 857.0, \"qu10l\": 855.0, \"qu10u\": 862.0, \"qu25\": 1045.0, \"qu25l\": 1040.0, \"qu25u\": 1058.0, \"qu50\": 1350.0, \"qu50l\": 1345.0, \"qu50u\": 1358.0, \"qu75\": 1484.0, \"qu75l\": 1476.0, \"qu75u\": 1486.0, \"qu90\": 1843.0, \"qu90l\": 1834.0, \"qu90u\": 1853.0, \"Domain\": 244, \"Sample1\": 232, \"Sample2\": 0}, {\"StichtagDatJahr\": \"2022-01-01T00:00:00\", \"RaumeinheitSort\": 2, \"RaumeinheitLang\": \"Stadtkreise\", \"GliederungSort\": 80, \"GliederungLang\": \"Kreis 8\", \"ZimmerSort\": 2, \"ZimmerLang\": \"2 Zimmer\", \"GemeinnuetzigSort\": 1, \"GemeinnuetzigLang\": \"Gemeinn\\u00fctzig\", \"EinheitSort\": 1, \"EinheitLang\": \"Wohnung\", \"PreisartSort\": 1, \"PreisartLang\": \"Netto\", \"mean\": 1108.0, \"meanl\": 1075.0, \"meanu\": 1142.0, \"qu10\": 750.0, \"qu10l\": 750.0, \"qu10u\": 803.0, \"qu25\": 860.0, \"qu25l\": 847.0, \"qu25u\": 885.0, \"qu50\": 1009.0, \"qu50l\": 988.0, \"qu50u\": 1032.0, \"qu75\": 1292.0, \"qu75l\": 1174.0, \"qu75u\": 1332.0, \"qu90\": 1505.0, \"qu90l\": 1416.0, \"qu90u\": 1550.0, \"Domain\": 98, \"Sample1\": 80, \"Sample2\": 0}, {\"StichtagDatJahr\": \"2022-01-01T00:00:00\", \"RaumeinheitSort\": 2, \"RaumeinheitLang\": \"Stadtkreise\", \"GliederungSort\": 90, \"GliederungLang\": \"Kreis 9\", \"ZimmerSort\": 2, \"ZimmerLang\": \"2 Zimmer\", \"GemeinnuetzigSort\": 1, \"GemeinnuetzigLang\": \"Gemeinn\\u00fctzig\", \"EinheitSort\": 1, \"EinheitLang\": \"Wohnung\", \"PreisartSort\": 1, \"PreisartLang\": \"Netto\", \"mean\": 944.0, \"meanl\": 916.0, \"meanu\": 972.0, \"qu10\": 591.0, \"qu10l\": 576.0, \"qu10u\": 621.0, \"qu25\": 702.0, \"qu25l\": 679.0, \"qu25u\": 729.0, \"qu50\": 911.0, \"qu50l\": 878.0, \"qu50u\": 932.0, \"qu75\": 1124.0, \"qu75l\": 1063.0, \"qu75u\": 1200.0, \"qu90\": 1350.0, \"qu90l\": 1297.0, \"qu90u\": 1423.0, \"Domain\": 1657, \"Sample1\": 995, \"Sample2\": 46}, {\"StichtagDatJahr\": \"2022-01-01T00:00:00\", \"RaumeinheitSort\": 2, \"RaumeinheitLang\": \"Stadtkreise\", \"GliederungSort\": 90, \"GliederungLang\": \"Kreis 9\", \"ZimmerSort\": 4, \"ZimmerLang\": \"4 Zimmer\", \"GemeinnuetzigSort\": 1, \"GemeinnuetzigLang\": \"Gemeinn\\u00fctzig\", \"EinheitSort\": 1, \"EinheitLang\": \"Wohnung\", \"PreisartSort\": 1, \"PreisartLang\": \"Netto\", \"mean\": 1361.0, \"meanl\": 1330.0, \"meanu\": 1393.0, \"qu10\": 750.0, \"qu10l\": 705.0, \"qu10u\": 823.0, \"qu25\": 1025.0, \"qu25l\": 957.0, \"qu25u\": 1066.0, \"qu50\": 1357.0, \"qu50l\": 1321.0, \"qu50u\": 1401.0, \"qu75\": 1689.0, \"qu75l\": 1631.0, \"qu75u\": 1726.0, \"qu90\": 1850.0, \"qu90l\": 1757.0, \"qu90u\": 1970.0, \"Domain\": 2299, \"Sample1\": 1211, \"Sample2\": 62}, {\"StichtagDatJahr\": \"2022-01-01T00:00:00\", \"RaumeinheitSort\": 2, \"RaumeinheitLang\": \"Stadtkreise\", \"GliederungSort\": 90, \"GliederungLang\": \"Kreis 9\", \"ZimmerSort\": 3, \"ZimmerLang\": \"3 Zimmer\", \"GemeinnuetzigSort\": 1, \"GemeinnuetzigLang\": \"Gemeinn\\u00fctzig\", \"EinheitSort\": 1, \"EinheitLang\": \"Wohnung\", \"PreisartSort\": 1, \"PreisartLang\": \"Netto\", \"mean\": 994.0, \"meanl\": 975.0, \"meanu\": 1013.0, \"qu10\": 634.0, \"qu10l\": 622.0, \"qu10u\": 651.0, \"qu25\": 721.0, \"qu25l\": 701.0, \"qu25u\": 770.0, \"qu50\": 969.0, \"qu50l\": 929.0, \"qu50u\": 996.0, \"qu75\": 1173.0, \"qu75l\": 1148.0, \"qu75u\": 1211.0, \"qu90\": 1459.0, \"qu90l\": 1373.0, \"qu90u\": 1511.0, \"Domain\": 4058, \"Sample1\": 2215, \"Sample2\": 74}, {\"StichtagDatJahr\": \"2022-01-01T00:00:00\", \"RaumeinheitSort\": 2, \"RaumeinheitLang\": \"Stadtkreise\", \"GliederungSort\": 100, \"GliederungLang\": \"Kreis 10\", \"ZimmerSort\": 2, \"ZimmerLang\": \"2 Zimmer\", \"GemeinnuetzigSort\": 1, \"GemeinnuetzigLang\": \"Gemeinn\\u00fctzig\", \"EinheitSort\": 1, \"EinheitLang\": \"Wohnung\", \"PreisartSort\": 1, \"PreisartLang\": \"Netto\", \"mean\": 889.0, \"meanl\": 866.0, \"meanu\": 911.0, \"qu10\": 622.0, \"qu10l\": 600.0, \"qu10u\": 631.0, \"qu25\": 686.0, \"qu25l\": 672.0, \"qu25u\": 706.0, \"qu50\": 853.0, \"qu50l\": 832.0, \"qu50u\": 871.0, \"qu75\": 1054.0, \"qu75l\": 1022.0, \"qu75u\": 1073.0, \"qu90\": 1218.0, \"qu90l\": 1182.0, \"qu90u\": 1269.0, \"Domain\": 1215, \"Sample1\": 801, \"Sample2\": 52}, {\"StichtagDatJahr\": \"2022-01-01T00:00:00\", \"RaumeinheitSort\": 2, \"RaumeinheitLang\": \"Stadtkreise\", \"GliederungSort\": 100, \"GliederungLang\": \"Kreis 10\", \"ZimmerSort\": 3, \"ZimmerLang\": \"3 Zimmer\", \"GemeinnuetzigSort\": 1, \"GemeinnuetzigLang\": \"Gemeinn\\u00fctzig\", \"EinheitSort\": 1, \"EinheitLang\": \"Wohnung\", \"PreisartSort\": 1, \"PreisartLang\": \"Netto\", \"mean\": 1048.0, \"meanl\": 1017.0, \"meanu\": 1079.0, \"qu10\": 719.0, \"qu10l\": 712.0, \"qu10u\": 732.0, \"qu25\": 788.0, \"qu25l\": 772.0, \"qu25u\": 815.0, \"qu50\": 972.0, \"qu50l\": 945.0, \"qu50u\": 1015.0, \"qu75\": 1219.0, \"qu75l\": 1164.0, \"qu75u\": 1263.0, \"qu90\": 1445.0, \"qu90l\": 1402.0, \"qu90u\": 1651.0, \"Domain\": 2128, \"Sample1\": 1429, \"Sample2\": 40}, {\"StichtagDatJahr\": \"2022-01-01T00:00:00\", \"RaumeinheitSort\": 2, \"RaumeinheitLang\": \"Stadtkreise\", \"GliederungSort\": 100, \"GliederungLang\": \"Kreis 10\", \"ZimmerSort\": 4, \"ZimmerLang\": \"4 Zimmer\", \"GemeinnuetzigSort\": 1, \"GemeinnuetzigLang\": \"Gemeinn\\u00fctzig\", \"EinheitSort\": 1, \"EinheitLang\": \"Wohnung\", \"PreisartSort\": 1, \"PreisartLang\": \"Netto\", \"mean\": 1379.0, \"meanl\": 1348.0, \"meanu\": 1410.0, \"qu10\": 834.0, \"qu10l\": 820.0, \"qu10u\": 870.0, \"qu25\": 1033.0, \"qu25l\": 1008.0, \"qu25u\": 1060.0, \"qu50\": 1324.0, \"qu50l\": 1288.0, \"qu50u\": 1354.0, \"qu75\": 1637.0, \"qu75l\": 1572.0, \"qu75u\": 1725.0, \"qu90\": 1987.0, \"qu90l\": 1889.0, \"qu90u\": 2081.0, \"Domain\": 1340, \"Sample1\": 871, \"Sample2\": 53}, {\"StichtagDatJahr\": \"2022-01-01T00:00:00\", \"RaumeinheitSort\": 2, \"RaumeinheitLang\": \"Stadtkreise\", \"GliederungSort\": 110, \"GliederungLang\": \"Kreis 11\", \"ZimmerSort\": 4, \"ZimmerLang\": \"4 Zimmer\", \"GemeinnuetzigSort\": 1, \"GemeinnuetzigLang\": \"Gemeinn\\u00fctzig\", \"EinheitSort\": 1, \"EinheitLang\": \"Wohnung\", \"PreisartSort\": 1, \"PreisartLang\": \"Netto\", \"mean\": 1344.0, \"meanl\": 1326.0, \"meanu\": 1363.0, \"qu10\": 907.0, \"qu10l\": 906.0, \"qu10u\": 935.0, \"qu25\": 1095.0, \"qu25l\": 1071.0, \"qu25u\": 1118.0, \"qu50\": 1344.0, \"qu50l\": 1304.0, \"qu50u\": 1363.0, \"qu75\": 1537.0, \"qu75l\": 1515.0, \"qu75u\": 1565.0, \"qu90\": 1806.0, \"qu90l\": 1726.0, \"qu90u\": 1876.0, \"Domain\": 2768, \"Sample1\": 1849, \"Sample2\": 106}, {\"StichtagDatJahr\": \"2022-01-01T00:00:00\", \"RaumeinheitSort\": 2, \"RaumeinheitLang\": \"Stadtkreise\", \"GliederungSort\": 110, \"GliederungLang\": \"Kreis 11\", \"ZimmerSort\": 2, \"ZimmerLang\": \"2 Zimmer\", \"GemeinnuetzigSort\": 1, \"GemeinnuetzigLang\": \"Gemeinn\\u00fctzig\", \"EinheitSort\": 1, \"EinheitLang\": \"Wohnung\", \"PreisartSort\": 1, \"PreisartLang\": \"Netto\", \"mean\": 948.0, \"meanl\": 932.0, \"meanu\": 964.0, \"qu10\": 708.0, \"qu10l\": 694.0, \"qu10u\": 737.0, \"qu25\": 807.0, \"qu25l\": 786.0, \"qu25u\": 818.0, \"qu50\": 915.0, \"qu50l\": 902.0, \"qu50u\": 931.0, \"qu75\": 1030.0, \"qu75l\": 1024.0, \"qu75u\": 1041.0, \"qu90\": 1200.0, \"qu90l\": 1160.0, \"qu90u\": 1302.0, \"Domain\": 1540, \"Sample1\": 1010, \"Sample2\": 80}, {\"StichtagDatJahr\": \"2022-01-01T00:00:00\", \"RaumeinheitSort\": 2, \"RaumeinheitLang\": \"Stadtkreise\", \"GliederungSort\": 110, \"GliederungLang\": \"Kreis 11\", \"ZimmerSort\": 3, \"ZimmerLang\": \"3 Zimmer\", \"GemeinnuetzigSort\": 1, \"GemeinnuetzigLang\": \"Gemeinn\\u00fctzig\", \"EinheitSort\": 1, \"EinheitLang\": \"Wohnung\", \"PreisartSort\": 1, \"PreisartLang\": \"Netto\", \"mean\": 1140.0, \"meanl\": 1117.0, \"meanu\": 1163.0, \"qu10\": 773.0, \"qu10l\": 759.0, \"qu10u\": 815.0, \"qu25\": 928.0, \"qu25l\": 914.0, \"qu25u\": 951.0, \"qu50\": 1102.0, \"qu50l\": 1102.0, \"qu50u\": 1133.0, \"qu75\": 1275.0, \"qu75l\": 1252.0, \"qu75u\": 1298.0, \"qu90\": 1531.0, \"qu90l\": 1476.0, \"qu90u\": 1559.0, \"Domain\": 3159, \"Sample1\": 2219, \"Sample2\": 89}, {\"StichtagDatJahr\": \"2022-01-01T00:00:00\", \"RaumeinheitSort\": 2, \"RaumeinheitLang\": \"Stadtkreise\", \"GliederungSort\": 120, \"GliederungLang\": \"Kreis 12\", \"ZimmerSort\": 3, \"ZimmerLang\": \"3 Zimmer\", \"GemeinnuetzigSort\": 1, \"GemeinnuetzigLang\": \"Gemeinn\\u00fctzig\", \"EinheitSort\": 1, \"EinheitLang\": \"Wohnung\", \"PreisartSort\": 1, \"PreisartLang\": \"Netto\", \"mean\": 1005.0, \"meanl\": 994.0, \"meanu\": 1015.0, \"qu10\": 641.0, \"qu10l\": 640.0, \"qu10u\": 648.0, \"qu25\": 711.0, \"qu25l\": 699.0, \"qu25u\": 730.0, \"qu50\": 911.0, \"qu50l\": 876.0, \"qu50u\": 944.0, \"qu75\": 1282.0, \"qu75l\": 1243.0, \"qu75u\": 1328.0, \"qu90\": 1509.0, \"qu90l\": 1509.0, \"qu90u\": 1534.0, \"Domain\": 2932, \"Sample1\": 2025, \"Sample2\": 88}, {\"StichtagDatJahr\": \"2022-01-01T00:00:00\", \"RaumeinheitSort\": 2, \"RaumeinheitLang\": \"Stadtkreise\", \"GliederungSort\": 120, \"GliederungLang\": \"Kreis 12\", \"ZimmerSort\": 4, \"ZimmerLang\": \"4 Zimmer\", \"GemeinnuetzigSort\": 1, \"GemeinnuetzigLang\": \"Gemeinn\\u00fctzig\", \"EinheitSort\": 1, \"EinheitLang\": \"Wohnung\", \"PreisartSort\": 1, \"PreisartLang\": \"Netto\", \"mean\": 1305.0, \"meanl\": 1283.0, \"meanu\": 1327.0, \"qu10\": 846.0, \"qu10l\": 839.0, \"qu10u\": 860.0, \"qu25\": 921.0, \"qu25l\": 894.0, \"qu25u\": 1016.0, \"qu50\": 1245.0, \"qu50l\": 1236.0, \"qu50u\": 1289.0, \"qu75\": 1613.0, \"qu75l\": 1565.0, \"qu75u\": 1674.0, \"qu90\": 1945.0, \"qu90l\": 1830.0, \"qu90u\": 1950.0, \"Domain\": 2104, \"Sample1\": 1302, \"Sample2\": 73}, {\"StichtagDatJahr\": \"2022-01-01T00:00:00\", \"RaumeinheitSort\": 2, \"RaumeinheitLang\": \"Stadtkreise\", \"GliederungSort\": 120, \"GliederungLang\": \"Kreis 12\", \"ZimmerSort\": 2, \"ZimmerLang\": \"2 Zimmer\", \"GemeinnuetzigSort\": 1, \"GemeinnuetzigLang\": \"Gemeinn\\u00fctzig\", \"EinheitSort\": 1, \"EinheitLang\": \"Wohnung\", \"PreisartSort\": 1, \"PreisartLang\": \"Netto\", \"mean\": 875.0, \"meanl\": 859.0, \"meanu\": 890.0, \"qu10\": 589.0, \"qu10l\": 584.0, \"qu10u\": 595.0, \"qu25\": 672.0, \"qu25l\": 667.0, \"qu25u\": 682.0, \"qu50\": 812.0, \"qu50l\": 794.0, \"qu50u\": 843.0, \"qu75\": 1075.0, \"qu75l\": 1054.0, \"qu75u\": 1118.0, \"qu90\": 1195.0, \"qu90l\": 1168.0, \"qu90u\": 1214.0, \"Domain\": 1355, \"Sample1\": 962, \"Sample2\": 59}]}}, {\"mode\": \"vega-lite\"});\n",
       "</script>"
      ],
      "text/plain": [
       "alt.LayerChart(...)"
      ]
     },
     "execution_count": 39,
     "metadata": {},
     "output_type": "execute_result"
    }
   ],
   "source": [
    "myTitle=\"Mietpreise gemeinnütziger Wohnungen nach Stadtkreisen und Zimmerzahl\"\n",
    "myQuery = 'RaumeinheitSort ==2 and GemeinnuetzigSort == 1'\n",
    "\n",
    "highlight = alt.selection(type='single', on='mouseover',\n",
    "                          fields=['ProjStatus'], nearest=True)\n",
    "#x='date:StichtagDatJahr',\n",
    "base = alt.Chart(mySel1.query(myQuery), title=myTitle).encode(\n",
    "        x=alt.X('GliederungSort:Q', axis=alt.Axis(title='Stadtkreis'), scale=alt.Scale(domain=[5, 125]))# , axis=alt.Axis(format='%', title='percentage')\n",
    "        , y=alt.X('qu50:Q', axis=alt.Axis(title='Median-Preis'), scale=alt.Scale(domain=[0, 3500]))\n",
    "        , color=alt.Color('ZimmerSort:N', legend=alt.Legend(title=\"Zimmerzahl\", orient=\"right\"))  \n",
    "        ,tooltip=['GliederungSort', 'GliederungLang', 'ZimmerSort','ZimmerLang', 'GemeinnuetzigSort', 'GemeinnuetzigLang', 'EinheitSort', 'EinheitLang',\n",
    "       'PreisartSort', 'PreisartLang',  'qu50', 'qu50l', 'qu50u']\n",
    ")\n",
    "points = base.mark_circle().encode(\n",
    "    opacity=alt.value(0.75)\n",
    ").add_selection(\n",
    "    highlight\n",
    ").properties(\n",
    "    width=750 , height=350\n",
    ")\n",
    "lines = base.mark_line().encode(\n",
    "    size=alt.condition(~highlight, alt.value(0.5), alt.value(4))\n",
    ").interactive()\n",
    "\n",
    "lines + points"
   ]
  },
  {
   "cell_type": "code",
   "execution_count": 59,
   "metadata": {},
   "outputs": [
    {
     "data": {
      "text/html": [
       "\n",
       "<div id=\"altair-viz-5cfc2e00b6874e179bb92ed69a87ae02\"></div>\n",
       "<script type=\"text/javascript\">\n",
       "  (function(spec, embedOpt){\n",
       "    let outputDiv = document.currentScript.previousElementSibling;\n",
       "    if (outputDiv.id !== \"altair-viz-5cfc2e00b6874e179bb92ed69a87ae02\") {\n",
       "      outputDiv = document.getElementById(\"altair-viz-5cfc2e00b6874e179bb92ed69a87ae02\");\n",
       "    }\n",
       "    const paths = {\n",
       "      \"vega\": \"https://cdn.jsdelivr.net/npm//vega@5?noext\",\n",
       "      \"vega-lib\": \"https://cdn.jsdelivr.net/npm//vega-lib?noext\",\n",
       "      \"vega-lite\": \"https://cdn.jsdelivr.net/npm//vega-lite@4.8.1?noext\",\n",
       "      \"vega-embed\": \"https://cdn.jsdelivr.net/npm//vega-embed@6?noext\",\n",
       "    };\n",
       "\n",
       "    function loadScript(lib) {\n",
       "      return new Promise(function(resolve, reject) {\n",
       "        var s = document.createElement('script');\n",
       "        s.src = paths[lib];\n",
       "        s.async = true;\n",
       "        s.onload = () => resolve(paths[lib]);\n",
       "        s.onerror = () => reject(`Error loading script: ${paths[lib]}`);\n",
       "        document.getElementsByTagName(\"head\")[0].appendChild(s);\n",
       "      });\n",
       "    }\n",
       "\n",
       "    function showError(err) {\n",
       "      outputDiv.innerHTML = `<div class=\"error\" style=\"color:red;\">${err}</div>`;\n",
       "      throw err;\n",
       "    }\n",
       "\n",
       "    function displayChart(vegaEmbed) {\n",
       "      vegaEmbed(outputDiv, spec, embedOpt)\n",
       "        .catch(err => showError(`Javascript Error: ${err.message}<br>This usually means there's a typo in your chart specification. See the javascript console for the full traceback.`));\n",
       "    }\n",
       "\n",
       "    if(typeof define === \"function\" && define.amd) {\n",
       "      requirejs.config({paths});\n",
       "      require([\"vega-embed\"], displayChart, err => showError(`Error loading script: ${err.message}`));\n",
       "    } else if (typeof vegaEmbed === \"function\") {\n",
       "      displayChart(vegaEmbed);\n",
       "    } else {\n",
       "      loadScript(\"vega\")\n",
       "        .then(() => loadScript(\"vega-lite\"))\n",
       "        .then(() => loadScript(\"vega-embed\"))\n",
       "        .catch(showError)\n",
       "        .then(() => displayChart(vegaEmbed));\n",
       "    }\n",
       "  })({\"config\": {\"view\": {\"continuousWidth\": 400, \"continuousHeight\": 300}}, \"layer\": [{\"mark\": \"line\", \"encoding\": {\"color\": {\"type\": \"nominal\", \"field\": \"ZimmerSort\", \"legend\": {\"orient\": \"right\", \"title\": \"Zimmerzahl\"}}, \"size\": {\"condition\": {\"value\": 1.5, \"selection\": {\"not\": \"selector013\"}}, \"value\": 4}, \"tooltip\": [{\"type\": \"quantitative\", \"field\": \"GliederungSort\"}, {\"type\": \"nominal\", \"field\": \"GliederungLang\"}, {\"type\": \"quantitative\", \"field\": \"ZimmerSort\"}, {\"type\": \"nominal\", \"field\": \"ZimmerLang\"}, {\"type\": \"quantitative\", \"field\": \"GemeinnuetzigSort\"}, {\"type\": \"nominal\", \"field\": \"GemeinnuetzigLang\"}, {\"type\": \"quantitative\", \"field\": \"EinheitSort\"}, {\"type\": \"nominal\", \"field\": \"EinheitLang\"}, {\"type\": \"quantitative\", \"field\": \"PreisartSort\"}, {\"type\": \"nominal\", \"field\": \"PreisartLang\"}, {\"type\": \"quantitative\", \"field\": \"qu50\"}, {\"type\": \"quantitative\", \"field\": \"qu50l\"}, {\"type\": \"quantitative\", \"field\": \"qu50u\"}], \"x\": {\"type\": \"quantitative\", \"axis\": {\"title\": \"Stadtkreis\"}, \"field\": \"GliederungSort\", \"scale\": {\"domain\": [5, 125]}}, \"y\": {\"type\": \"quantitative\", \"axis\": {\"title\": \"Median-Preis\"}, \"field\": \"qu50\", \"scale\": {\"domain\": [0, 3500]}}}, \"selection\": {\"selector014\": {\"type\": \"interval\", \"bind\": \"scales\", \"encodings\": [\"x\", \"y\"]}}, \"title\": \"Mietpreise nicht gemeinn\\u00fctziger Wohnungen nach Stadtkreisen und Zimmerzahl\"}, {\"mark\": \"circle\", \"encoding\": {\"color\": {\"type\": \"nominal\", \"field\": \"ZimmerSort\", \"legend\": {\"orient\": \"right\", \"title\": \"Zimmerzahl\"}}, \"opacity\": {\"value\": 0.75}, \"tooltip\": [{\"type\": \"quantitative\", \"field\": \"GliederungSort\"}, {\"type\": \"nominal\", \"field\": \"GliederungLang\"}, {\"type\": \"quantitative\", \"field\": \"ZimmerSort\"}, {\"type\": \"nominal\", \"field\": \"ZimmerLang\"}, {\"type\": \"quantitative\", \"field\": \"GemeinnuetzigSort\"}, {\"type\": \"nominal\", \"field\": \"GemeinnuetzigLang\"}, {\"type\": \"quantitative\", \"field\": \"EinheitSort\"}, {\"type\": \"nominal\", \"field\": \"EinheitLang\"}, {\"type\": \"quantitative\", \"field\": \"PreisartSort\"}, {\"type\": \"nominal\", \"field\": \"PreisartLang\"}, {\"type\": \"quantitative\", \"field\": \"qu50\"}, {\"type\": \"quantitative\", \"field\": \"qu50l\"}, {\"type\": \"quantitative\", \"field\": \"qu50u\"}], \"x\": {\"type\": \"quantitative\", \"axis\": {\"title\": \"Stadtkreis\"}, \"field\": \"GliederungSort\", \"scale\": {\"domain\": [5, 125]}}, \"y\": {\"type\": \"quantitative\", \"axis\": {\"title\": \"Median-Preis\"}, \"field\": \"qu50\", \"scale\": {\"domain\": [0, 3500]}}}, \"height\": 350, \"selection\": {\"selector013\": {\"type\": \"single\", \"on\": \"mouseover\", \"fields\": [\"ProjStatus\"], \"nearest\": true}}, \"title\": \"Mietpreise nicht gemeinn\\u00fctziger Wohnungen nach Stadtkreisen und Zimmerzahl\", \"width\": 750}], \"data\": {\"name\": \"data-a8354fee39dc4ca32523757e93bd4901\"}, \"$schema\": \"https://vega.github.io/schema/vega-lite/v4.8.1.json\", \"datasets\": {\"data-a8354fee39dc4ca32523757e93bd4901\": [{\"StichtagDatJahr\": \"2022-01-01T00:00:00\", \"RaumeinheitSort\": 2, \"RaumeinheitLang\": \"Stadtkreise\", \"GliederungSort\": 10, \"GliederungLang\": \"Kreis 1\", \"ZimmerSort\": 2, \"ZimmerLang\": \"2 Zimmer\", \"GemeinnuetzigSort\": 2, \"GemeinnuetzigLang\": \"Nicht gemeinn\\u00fctzig\", \"EinheitSort\": 1, \"EinheitLang\": \"Wohnung\", \"PreisartSort\": 1, \"PreisartLang\": \"Netto\", \"mean\": 2106.0, \"meanl\": 2002.0, \"meanu\": 2211.0, \"qu10\": 1309.0, \"qu10l\": 1050.0, \"qu10u\": 1517.0, \"qu25\": 1718.0, \"qu25l\": 1529.0, \"qu25u\": 1866.0, \"qu50\": 2105.0, \"qu50l\": 2000.0, \"qu50u\": 2239.0, \"qu75\": 2518.0, \"qu75l\": 2300.0, \"qu75u\": 2642.0, \"qu90\": 2887.0, \"qu90l\": 2641.0, \"qu90u\": 2988.0, \"Domain\": 774, \"Sample1\": 81, \"Sample2\": 99}, {\"StichtagDatJahr\": \"2022-01-01T00:00:00\", \"RaumeinheitSort\": 2, \"RaumeinheitLang\": \"Stadtkreise\", \"GliederungSort\": 10, \"GliederungLang\": \"Kreis 1\", \"ZimmerSort\": 3, \"ZimmerLang\": \"3 Zimmer\", \"GemeinnuetzigSort\": 2, \"GemeinnuetzigLang\": \"Nicht gemeinn\\u00fctzig\", \"EinheitSort\": 1, \"EinheitLang\": \"Wohnung\", \"PreisartSort\": 1, \"PreisartLang\": \"Netto\", \"mean\": 2703.0, \"meanl\": 2584.0, \"meanu\": 2822.0, \"qu10\": 1399.0, \"qu10l\": 1179.0, \"qu10u\": 1709.0, \"qu25\": 2052.0, \"qu25l\": 1798.0, \"qu25u\": 2196.0, \"qu50\": 2565.0, \"qu50l\": 2380.0, \"qu50u\": 2854.0, \"qu75\": 3300.0, \"qu75l\": 3153.0, \"qu75u\": 3656.0, \"qu90\": 4045.0, \"qu90l\": 3591.0, \"qu90u\": 4558.0, \"Domain\": 635, \"Sample1\": 69, \"Sample2\": 97}, {\"StichtagDatJahr\": \"2022-01-01T00:00:00\", \"RaumeinheitSort\": 2, \"RaumeinheitLang\": \"Stadtkreise\", \"GliederungSort\": 10, \"GliederungLang\": \"Kreis 1\", \"ZimmerSort\": 4, \"ZimmerLang\": \"4 Zimmer\", \"GemeinnuetzigSort\": 2, \"GemeinnuetzigLang\": \"Nicht gemeinn\\u00fctzig\", \"EinheitSort\": 1, \"EinheitLang\": \"Wohnung\", \"PreisartSort\": 1, \"PreisartLang\": \"Netto\", \"mean\": 3237.0, \"meanl\": 3066.0, \"meanu\": 3409.0, \"qu10\": 1598.0, \"qu10l\": 1415.0, \"qu10u\": 1929.0, \"qu25\": 2400.0, \"qu25l\": 1850.0, \"qu25u\": 2744.0, \"qu50\": 3329.0, \"qu50l\": 2980.0, \"qu50u\": 3564.0, \"qu75\": 3881.0, \"qu75l\": 3645.0, \"qu75u\": 4111.0, \"qu90\": 4446.0, \"qu90l\": 4100.0, \"qu90u\": 5117.0, \"Domain\": 323, \"Sample1\": 27, \"Sample2\": 69}, {\"StichtagDatJahr\": \"2022-01-01T00:00:00\", \"RaumeinheitSort\": 2, \"RaumeinheitLang\": \"Stadtkreise\", \"GliederungSort\": 20, \"GliederungLang\": \"Kreis 2\", \"ZimmerSort\": 2, \"ZimmerLang\": \"2 Zimmer\", \"GemeinnuetzigSort\": 2, \"GemeinnuetzigLang\": \"Nicht gemeinn\\u00fctzig\", \"EinheitSort\": 1, \"EinheitLang\": \"Wohnung\", \"PreisartSort\": 1, \"PreisartLang\": \"Netto\", \"mean\": 1662.0, \"meanl\": 1600.0, \"meanu\": 1724.0, \"qu10\": 1083.0, \"qu10l\": 950.0, \"qu10u\": 1125.0, \"qu25\": 1262.0, \"qu25l\": 1210.0, \"qu25u\": 1360.0, \"qu50\": 1548.0, \"qu50l\": 1470.0, \"qu50u\": 1700.0, \"qu75\": 1980.0, \"qu75l\": 1900.0, \"qu75u\": 2092.0, \"qu90\": 2403.0, \"qu90l\": 2228.0, \"qu90u\": 2750.0, \"Domain\": 2749, \"Sample1\": 460, \"Sample2\": 101}, {\"StichtagDatJahr\": \"2022-01-01T00:00:00\", \"RaumeinheitSort\": 2, \"RaumeinheitLang\": \"Stadtkreise\", \"GliederungSort\": 20, \"GliederungLang\": \"Kreis 2\", \"ZimmerSort\": 3, \"ZimmerLang\": \"3 Zimmer\", \"GemeinnuetzigSort\": 2, \"GemeinnuetzigLang\": \"Nicht gemeinn\\u00fctzig\", \"EinheitSort\": 1, \"EinheitLang\": \"Wohnung\", \"PreisartSort\": 1, \"PreisartLang\": \"Netto\", \"mean\": 2120.0, \"meanl\": 2029.0, \"meanu\": 2211.0, \"qu10\": 1206.0, \"qu10l\": 1164.0, \"qu10u\": 1348.0, \"qu25\": 1450.0, \"qu25l\": 1398.0, \"qu25u\": 1560.0, \"qu50\": 1911.0, \"qu50l\": 1814.0, \"qu50u\": 2064.0, \"qu75\": 2580.0, \"qu75l\": 2422.0, \"qu75u\": 2786.0, \"qu90\": 3499.0, \"qu90l\": 3234.0, \"qu90u\": 3585.0, \"Domain\": 3833, \"Sample1\": 815, \"Sample2\": 100}, {\"StichtagDatJahr\": \"2022-01-01T00:00:00\", \"RaumeinheitSort\": 2, \"RaumeinheitLang\": \"Stadtkreise\", \"GliederungSort\": 20, \"GliederungLang\": \"Kreis 2\", \"ZimmerSort\": 4, \"ZimmerLang\": \"4 Zimmer\", \"GemeinnuetzigSort\": 2, \"GemeinnuetzigLang\": \"Nicht gemeinn\\u00fctzig\", \"EinheitSort\": 1, \"EinheitLang\": \"Wohnung\", \"PreisartSort\": 1, \"PreisartLang\": \"Netto\", \"mean\": 2616.0, \"meanl\": 2493.0, \"meanu\": 2740.0, \"qu10\": 1421.0, \"qu10l\": 1110.0, \"qu10u\": 1576.0, \"qu25\": 1900.0, \"qu25l\": 1760.0, \"qu25u\": 2022.0, \"qu50\": 2402.0, \"qu50l\": 2263.0, \"qu50u\": 2526.0, \"qu75\": 3169.0, \"qu75l\": 2950.0, \"qu75u\": 3332.0, \"qu90\": 3786.0, \"qu90l\": 3541.0, \"qu90u\": 4045.0, \"Domain\": 2285, \"Sample1\": 461, \"Sample2\": 112}, {\"StichtagDatJahr\": \"2022-01-01T00:00:00\", \"RaumeinheitSort\": 2, \"RaumeinheitLang\": \"Stadtkreise\", \"GliederungSort\": 30, \"GliederungLang\": \"Kreis 3\", \"ZimmerSort\": 4, \"ZimmerLang\": \"4 Zimmer\", \"GemeinnuetzigSort\": 2, \"GemeinnuetzigLang\": \"Nicht gemeinn\\u00fctzig\", \"EinheitSort\": 1, \"EinheitLang\": \"Wohnung\", \"PreisartSort\": 1, \"PreisartLang\": \"Netto\", \"mean\": 2286.0, \"meanl\": 2188.0, \"meanu\": 2385.0, \"qu10\": 1435.0, \"qu10l\": 1340.0, \"qu10u\": 1650.0, \"qu25\": 1800.0, \"qu25l\": 1736.0, \"qu25u\": 1875.0, \"qu50\": 2169.0, \"qu50l\": 2030.0, \"qu50u\": 2250.0, \"qu75\": 2700.0, \"qu75l\": 2501.0, \"qu75u\": 2940.0, \"qu90\": 3197.0, \"qu90l\": 2940.0, \"qu90u\": 3489.0, \"Domain\": 2300, \"Sample1\": 269, \"Sample2\": 102}, {\"StichtagDatJahr\": \"2022-01-01T00:00:00\", \"RaumeinheitSort\": 2, \"RaumeinheitLang\": \"Stadtkreise\", \"GliederungSort\": 30, \"GliederungLang\": \"Kreis 3\", \"ZimmerSort\": 2, \"ZimmerLang\": \"2 Zimmer\", \"GemeinnuetzigSort\": 2, \"GemeinnuetzigLang\": \"Nicht gemeinn\\u00fctzig\", \"EinheitSort\": 1, \"EinheitLang\": \"Wohnung\", \"PreisartSort\": 1, \"PreisartLang\": \"Netto\", \"mean\": 1478.0, \"meanl\": 1429.0, \"meanu\": 1527.0, \"qu10\": 1034.0, \"qu10l\": 951.0, \"qu10u\": 1109.0, \"qu25\": 1221.0, \"qu25l\": 1170.0, \"qu25u\": 1253.0, \"qu50\": 1401.0, \"qu50l\": 1330.0, \"qu50u\": 1450.0, \"qu75\": 1655.0, \"qu75l\": 1565.0, \"qu75u\": 1758.0, \"qu90\": 2050.0, \"qu90l\": 1920.0, \"qu90u\": 2250.0, \"Domain\": 4921, \"Sample1\": 850, \"Sample2\": 122}, {\"StichtagDatJahr\": \"2022-01-01T00:00:00\", \"RaumeinheitSort\": 2, \"RaumeinheitLang\": \"Stadtkreise\", \"GliederungSort\": 30, \"GliederungLang\": \"Kreis 3\", \"ZimmerSort\": 3, \"ZimmerLang\": \"3 Zimmer\", \"GemeinnuetzigSort\": 2, \"GemeinnuetzigLang\": \"Nicht gemeinn\\u00fctzig\", \"EinheitSort\": 1, \"EinheitLang\": \"Wohnung\", \"PreisartSort\": 1, \"PreisartLang\": \"Netto\", \"mean\": 1789.0, \"meanl\": 1718.0, \"meanu\": 1860.0, \"qu10\": 1181.0, \"qu10l\": 1006.0, \"qu10u\": 1330.0, \"qu25\": 1404.0, \"qu25l\": 1346.0, \"qu25u\": 1500.0, \"qu50\": 1710.0, \"qu50l\": 1590.0, \"qu50u\": 1791.0, \"qu75\": 2056.0, \"qu75l\": 1943.0, \"qu75u\": 2292.0, \"qu90\": 2587.0, \"qu90l\": 2400.0, \"qu90u\": 2711.0, \"Domain\": 6901, \"Sample1\": 920, \"Sample2\": 110}, {\"StichtagDatJahr\": \"2022-01-01T00:00:00\", \"RaumeinheitSort\": 2, \"RaumeinheitLang\": \"Stadtkreise\", \"GliederungSort\": 40, \"GliederungLang\": \"Kreis 4\", \"ZimmerSort\": 3, \"ZimmerLang\": \"3 Zimmer\", \"GemeinnuetzigSort\": 2, \"GemeinnuetzigLang\": \"Nicht gemeinn\\u00fctzig\", \"EinheitSort\": 1, \"EinheitLang\": \"Wohnung\", \"PreisartSort\": 1, \"PreisartLang\": \"Netto\", \"mean\": 1880.0, \"meanl\": 1814.0, \"meanu\": 1946.0, \"qu10\": 1056.0, \"qu10l\": 944.0, \"qu10u\": 1201.0, \"qu25\": 1410.0, \"qu25l\": 1262.0, \"qu25u\": 1499.0, \"qu50\": 1713.0, \"qu50l\": 1664.0, \"qu50u\": 1800.0, \"qu75\": 2204.0, \"qu75l\": 2119.0, \"qu75u\": 2450.0, \"qu90\": 2972.0, \"qu90l\": 2799.0, \"qu90u\": 3143.0, \"Domain\": 4073, \"Sample1\": 631, \"Sample2\": 120}, {\"StichtagDatJahr\": \"2022-01-01T00:00:00\", \"RaumeinheitSort\": 2, \"RaumeinheitLang\": \"Stadtkreise\", \"GliederungSort\": 40, \"GliederungLang\": \"Kreis 4\", \"ZimmerSort\": 4, \"ZimmerLang\": \"4 Zimmer\", \"GemeinnuetzigSort\": 2, \"GemeinnuetzigLang\": \"Nicht gemeinn\\u00fctzig\", \"EinheitSort\": 1, \"EinheitLang\": \"Wohnung\", \"PreisartSort\": 1, \"PreisartLang\": \"Netto\", \"mean\": 2277.0, \"meanl\": 2193.0, \"meanu\": 2360.0, \"qu10\": 1477.0, \"qu10l\": 1386.0, \"qu10u\": 1550.0, \"qu25\": 1639.0, \"qu25l\": 1540.0, \"qu25u\": 1705.0, \"qu50\": 2138.0, \"qu50l\": 1974.0, \"qu50u\": 2238.0, \"qu75\": 2800.0, \"qu75l\": 2593.0, \"qu75u\": 3013.0, \"qu90\": 3297.0, \"qu90l\": 3083.0, \"qu90u\": 3646.0, \"Domain\": 1483, \"Sample1\": 184, \"Sample2\": 82}, {\"StichtagDatJahr\": \"2022-01-01T00:00:00\", \"RaumeinheitSort\": 2, \"RaumeinheitLang\": \"Stadtkreise\", \"GliederungSort\": 40, \"GliederungLang\": \"Kreis 4\", \"ZimmerSort\": 2, \"ZimmerLang\": \"2 Zimmer\", \"GemeinnuetzigSort\": 2, \"GemeinnuetzigLang\": \"Nicht gemeinn\\u00fctzig\", \"EinheitSort\": 1, \"EinheitLang\": \"Wohnung\", \"PreisartSort\": 1, \"PreisartLang\": \"Netto\", \"mean\": 1647.0, \"meanl\": 1607.0, \"meanu\": 1687.0, \"qu10\": 990.0, \"qu10l\": 903.0, \"qu10u\": 1059.0, \"qu25\": 1266.0, \"qu25l\": 1210.0, \"qu25u\": 1381.0, \"qu50\": 1600.0, \"qu50l\": 1550.0, \"qu50u\": 1680.0, \"qu75\": 1901.0, \"qu75l\": 1830.0, \"qu75u\": 1970.0, \"qu90\": 2324.0, \"qu90l\": 2164.0, \"qu90u\": 2470.0, \"Domain\": 2857, \"Sample1\": 507, \"Sample2\": 158}, {\"StichtagDatJahr\": \"2022-01-01T00:00:00\", \"RaumeinheitSort\": 2, \"RaumeinheitLang\": \"Stadtkreise\", \"GliederungSort\": 50, \"GliederungLang\": \"Kreis 5\", \"ZimmerSort\": 3, \"ZimmerLang\": \"3 Zimmer\", \"GemeinnuetzigSort\": 2, \"GemeinnuetzigLang\": \"Nicht gemeinn\\u00fctzig\", \"EinheitSort\": 1, \"EinheitLang\": \"Wohnung\", \"PreisartSort\": 1, \"PreisartLang\": \"Netto\", \"mean\": 2146.0, \"meanl\": 2036.0, \"meanu\": 2257.0, \"qu10\": 1350.0, \"qu10l\": 979.0, \"qu10u\": 1517.0, \"qu25\": 1650.0, \"qu25l\": 1497.0, \"qu25u\": 1720.0, \"qu50\": 1975.0, \"qu50l\": 1789.0, \"qu50u\": 2244.0, \"qu75\": 2559.0, \"qu75l\": 2444.0, \"qu75u\": 2756.0, \"qu90\": 3085.0, \"qu90l\": 2850.0, \"qu90u\": 3200.0, \"Domain\": 1904, \"Sample1\": 416, \"Sample2\": 66}, {\"StichtagDatJahr\": \"2022-01-01T00:00:00\", \"RaumeinheitSort\": 2, \"RaumeinheitLang\": \"Stadtkreise\", \"GliederungSort\": 50, \"GliederungLang\": \"Kreis 5\", \"ZimmerSort\": 2, \"ZimmerLang\": \"2 Zimmer\", \"GemeinnuetzigSort\": 2, \"GemeinnuetzigLang\": \"Nicht gemeinn\\u00fctzig\", \"EinheitSort\": 1, \"EinheitLang\": \"Wohnung\", \"PreisartSort\": 1, \"PreisartLang\": \"Netto\", \"mean\": 1797.0, \"meanl\": 1731.0, \"meanu\": 1864.0, \"qu10\": 1125.0, \"qu10l\": 1072.0, \"qu10u\": 1214.0, \"qu25\": 1360.0, \"qu25l\": 1266.0, \"qu25u\": 1450.0, \"qu50\": 1698.0, \"qu50l\": 1600.0, \"qu50u\": 1840.0, \"qu75\": 2098.0, \"qu75l\": 1971.0, \"qu75u\": 2325.0, \"qu90\": 2550.0, \"qu90l\": 2440.0, \"qu90u\": 2679.0, \"Domain\": 1355, \"Sample1\": 363, \"Sample2\": 77}, {\"StichtagDatJahr\": \"2022-01-01T00:00:00\", \"RaumeinheitSort\": 2, \"RaumeinheitLang\": \"Stadtkreise\", \"GliederungSort\": 50, \"GliederungLang\": \"Kreis 5\", \"ZimmerSort\": 4, \"ZimmerLang\": \"4 Zimmer\", \"GemeinnuetzigSort\": 2, \"GemeinnuetzigLang\": \"Nicht gemeinn\\u00fctzig\", \"EinheitSort\": 1, \"EinheitLang\": \"Wohnung\", \"PreisartSort\": 1, \"PreisartLang\": \"Netto\", \"mean\": 2432.0, \"meanl\": 2299.0, \"meanu\": 2566.0, \"qu10\": 1494.0, \"qu10l\": 1246.0, \"qu10u\": 1750.0, \"qu25\": 1662.0, \"qu25l\": 1567.0, \"qu25u\": 2124.0, \"qu50\": 2218.0, \"qu50l\": 2127.0, \"qu50u\": 2497.0, \"qu75\": 2880.0, \"qu75l\": 2800.0, \"qu75u\": 3215.0, \"qu90\": 3573.0, \"qu90l\": 3400.0, \"qu90u\": 3968.0, \"Domain\": 965, \"Sample1\": 189, \"Sample2\": 46}, {\"StichtagDatJahr\": \"2022-01-01T00:00:00\", \"RaumeinheitSort\": 2, \"RaumeinheitLang\": \"Stadtkreise\", \"GliederungSort\": 60, \"GliederungLang\": \"Kreis 6\", \"ZimmerSort\": 2, \"ZimmerLang\": \"2 Zimmer\", \"GemeinnuetzigSort\": 2, \"GemeinnuetzigLang\": \"Nicht gemeinn\\u00fctzig\", \"EinheitSort\": 1, \"EinheitLang\": \"Wohnung\", \"PreisartSort\": 1, \"PreisartLang\": \"Netto\", \"mean\": 1563.0, \"meanl\": 1478.0, \"meanu\": 1647.0, \"qu10\": 1135.0, \"qu10l\": 932.0, \"qu10u\": 1212.0, \"qu25\": 1260.0, \"qu25l\": 1230.0, \"qu25u\": 1308.0, \"qu50\": 1500.0, \"qu50l\": 1400.0, \"qu50u\": 1612.0, \"qu75\": 1807.0, \"qu75l\": 1685.0, \"qu75u\": 2000.0, \"qu90\": 2137.0, \"qu90l\": 2000.0, \"qu90u\": 2325.0, \"Domain\": 2578, \"Sample1\": 349, \"Sample2\": 75}, {\"StichtagDatJahr\": \"2022-01-01T00:00:00\", \"RaumeinheitSort\": 2, \"RaumeinheitLang\": \"Stadtkreise\", \"GliederungSort\": 60, \"GliederungLang\": \"Kreis 6\", \"ZimmerSort\": 4, \"ZimmerLang\": \"4 Zimmer\", \"GemeinnuetzigSort\": 2, \"GemeinnuetzigLang\": \"Nicht gemeinn\\u00fctzig\", \"EinheitSort\": 1, \"EinheitLang\": \"Wohnung\", \"PreisartSort\": 1, \"PreisartLang\": \"Netto\", \"mean\": 2475.0, \"meanl\": 2360.0, \"meanu\": 2589.0, \"qu10\": 1241.0, \"qu10l\": 1084.0, \"qu10u\": 1465.0, \"qu25\": 1861.0, \"qu25l\": 1566.0, \"qu25u\": 2050.0, \"qu50\": 2446.0, \"qu50l\": 2340.0, \"qu50u\": 2592.0, \"qu75\": 2900.0, \"qu75l\": 2700.0, \"qu75u\": 3230.0, \"qu90\": 3559.0, \"qu90l\": 3423.0, \"qu90u\": 3700.0, \"Domain\": 2353, \"Sample1\": 310, \"Sample2\": 93}, {\"StichtagDatJahr\": \"2022-01-01T00:00:00\", \"RaumeinheitSort\": 2, \"RaumeinheitLang\": \"Stadtkreise\", \"GliederungSort\": 60, \"GliederungLang\": \"Kreis 6\", \"ZimmerSort\": 3, \"ZimmerLang\": \"3 Zimmer\", \"GemeinnuetzigSort\": 2, \"GemeinnuetzigLang\": \"Nicht gemeinn\\u00fctzig\", \"EinheitSort\": 1, \"EinheitLang\": \"Wohnung\", \"PreisartSort\": 1, \"PreisartLang\": \"Netto\", \"mean\": 1987.0, \"meanl\": 1885.0, \"meanu\": 2089.0, \"qu10\": 1264.0, \"qu10l\": 1056.0, \"qu10u\": 1394.0, \"qu25\": 1450.0, \"qu25l\": 1394.0, \"qu25u\": 1624.0, \"qu50\": 1950.0, \"qu50l\": 1800.0, \"qu50u\": 2199.0, \"qu75\": 2450.0, \"qu75l\": 2229.0, \"qu75u\": 2650.0, \"qu90\": 2809.0, \"qu90l\": 2697.0, \"qu90u\": 3006.0, \"Domain\": 3474, \"Sample1\": 442, \"Sample2\": 87}, {\"StichtagDatJahr\": \"2022-01-01T00:00:00\", \"RaumeinheitSort\": 2, \"RaumeinheitLang\": \"Stadtkreise\", \"GliederungSort\": 70, \"GliederungLang\": \"Kreis 7\", \"ZimmerSort\": 4, \"ZimmerLang\": \"4 Zimmer\", \"GemeinnuetzigSort\": 2, \"GemeinnuetzigLang\": \"Nicht gemeinn\\u00fctzig\", \"EinheitSort\": 1, \"EinheitLang\": \"Wohnung\", \"PreisartSort\": 1, \"PreisartLang\": \"Netto\", \"mean\": 2574.0, \"meanl\": 2460.0, \"meanu\": 2688.0, \"qu10\": 1409.0, \"qu10l\": 1236.0, \"qu10u\": 1669.0, \"qu25\": 1873.0, \"qu25l\": 1789.0, \"qu25u\": 1931.0, \"qu50\": 2350.0, \"qu50l\": 2260.0, \"qu50u\": 2503.0, \"qu75\": 3062.0, \"qu75l\": 2979.0, \"qu75u\": 3400.0, \"qu90\": 4046.0, \"qu90l\": 3524.0, \"qu90u\": 4355.0, \"Domain\": 3341, \"Sample1\": 371, \"Sample2\": 132}, {\"StichtagDatJahr\": \"2022-01-01T00:00:00\", \"RaumeinheitSort\": 2, \"RaumeinheitLang\": \"Stadtkreise\", \"GliederungSort\": 70, \"GliederungLang\": \"Kreis 7\", \"ZimmerSort\": 2, \"ZimmerLang\": \"2 Zimmer\", \"GemeinnuetzigSort\": 2, \"GemeinnuetzigLang\": \"Nicht gemeinn\\u00fctzig\", \"EinheitSort\": 1, \"EinheitLang\": \"Wohnung\", \"PreisartSort\": 1, \"PreisartLang\": \"Netto\", \"mean\": 1636.0, \"meanl\": 1581.0, \"meanu\": 1692.0, \"qu10\": 1000.0, \"qu10l\": 900.0, \"qu10u\": 1116.0, \"qu25\": 1275.0, \"qu25l\": 1200.0, \"qu25u\": 1351.0, \"qu50\": 1583.0, \"qu50l\": 1523.0, \"qu50u\": 1652.0, \"qu75\": 1972.0, \"qu75l\": 1876.0, \"qu75u\": 2036.0, \"qu90\": 2350.0, \"qu90l\": 2326.0, \"qu90u\": 2500.0, \"Domain\": 2651, \"Sample1\": 394, \"Sample2\": 138}, {\"StichtagDatJahr\": \"2022-01-01T00:00:00\", \"RaumeinheitSort\": 2, \"RaumeinheitLang\": \"Stadtkreise\", \"GliederungSort\": 70, \"GliederungLang\": \"Kreis 7\", \"ZimmerSort\": 3, \"ZimmerLang\": \"3 Zimmer\", \"GemeinnuetzigSort\": 2, \"GemeinnuetzigLang\": \"Nicht gemeinn\\u00fctzig\", \"EinheitSort\": 1, \"EinheitLang\": \"Wohnung\", \"PreisartSort\": 1, \"PreisartLang\": \"Netto\", \"mean\": 2022.0, \"meanl\": 1953.0, \"meanu\": 2092.0, \"qu10\": 1191.0, \"qu10l\": 1079.0, \"qu10u\": 1300.0, \"qu25\": 1540.0, \"qu25l\": 1440.0, \"qu25u\": 1610.0, \"qu50\": 1891.0, \"qu50l\": 1800.0, \"qu50u\": 2000.0, \"qu75\": 2426.0, \"qu75l\": 2272.0, \"qu75u\": 2500.0, \"qu90\": 2980.0, \"qu90l\": 2721.0, \"qu90u\": 3214.0, \"Domain\": 4329, \"Sample1\": 620, \"Sample2\": 151}, {\"StichtagDatJahr\": \"2022-01-01T00:00:00\", \"RaumeinheitSort\": 2, \"RaumeinheitLang\": \"Stadtkreise\", \"GliederungSort\": 80, \"GliederungLang\": \"Kreis 8\", \"ZimmerSort\": 2, \"ZimmerLang\": \"2 Zimmer\", \"GemeinnuetzigSort\": 2, \"GemeinnuetzigLang\": \"Nicht gemeinn\\u00fctzig\", \"EinheitSort\": 1, \"EinheitLang\": \"Wohnung\", \"PreisartSort\": 1, \"PreisartLang\": \"Netto\", \"mean\": 1882.0, \"meanl\": 1822.0, \"meanu\": 1942.0, \"qu10\": 1044.0, \"qu10l\": 965.0, \"qu10u\": 1197.0, \"qu25\": 1413.0, \"qu25l\": 1328.0, \"qu25u\": 1532.0, \"qu50\": 1891.0, \"qu50l\": 1796.0, \"qu50u\": 1976.0, \"qu75\": 2280.0, \"qu75l\": 2199.0, \"qu75u\": 2397.0, \"qu90\": 2687.0, \"qu90l\": 2538.0, \"qu90u\": 2879.0, \"Domain\": 2213, \"Sample1\": 477, \"Sample2\": 113}, {\"StichtagDatJahr\": \"2022-01-01T00:00:00\", \"RaumeinheitSort\": 2, \"RaumeinheitLang\": \"Stadtkreise\", \"GliederungSort\": 80, \"GliederungLang\": \"Kreis 8\", \"ZimmerSort\": 3, \"ZimmerLang\": \"3 Zimmer\", \"GemeinnuetzigSort\": 2, \"GemeinnuetzigLang\": \"Nicht gemeinn\\u00fctzig\", \"EinheitSort\": 1, \"EinheitLang\": \"Wohnung\", \"PreisartSort\": 1, \"PreisartLang\": \"Netto\", \"mean\": 2323.0, \"meanl\": 2237.0, \"meanu\": 2410.0, \"qu10\": 1185.0, \"qu10l\": 1038.0, \"qu10u\": 1372.0, \"qu25\": 1659.0, \"qu25l\": 1534.0, \"qu25u\": 1801.0, \"qu50\": 2270.0, \"qu50l\": 2130.0, \"qu50u\": 2391.0, \"qu75\": 2818.0, \"qu75l\": 2685.0, \"qu75u\": 2994.0, \"qu90\": 3514.0, \"qu90l\": 3161.0, \"qu90u\": 3706.0, \"Domain\": 2773, \"Sample1\": 472, \"Sample2\": 125}, {\"StichtagDatJahr\": \"2022-01-01T00:00:00\", \"RaumeinheitSort\": 2, \"RaumeinheitLang\": \"Stadtkreise\", \"GliederungSort\": 80, \"GliederungLang\": \"Kreis 8\", \"ZimmerSort\": 4, \"ZimmerLang\": \"4 Zimmer\", \"GemeinnuetzigSort\": 2, \"GemeinnuetzigLang\": \"Nicht gemeinn\\u00fctzig\", \"EinheitSort\": 1, \"EinheitLang\": \"Wohnung\", \"PreisartSort\": 1, \"PreisartLang\": \"Netto\", \"mean\": 2860.0, \"meanl\": 2726.0, \"meanu\": 2995.0, \"qu10\": 1499.0, \"qu10l\": 1352.0, \"qu10u\": 1761.0, \"qu25\": 1982.0, \"qu25l\": 1800.0, \"qu25u\": 2160.0, \"qu50\": 2650.0, \"qu50l\": 2503.0, \"qu50u\": 2900.0, \"qu75\": 3604.0, \"qu75l\": 3235.0, \"qu75u\": 3907.0, \"qu90\": 4307.0, \"qu90l\": 3978.0, \"qu90u\": 4918.0, \"Domain\": 1393, \"Sample1\": 166, \"Sample2\": 99}, {\"StichtagDatJahr\": \"2022-01-01T00:00:00\", \"RaumeinheitSort\": 2, \"RaumeinheitLang\": \"Stadtkreise\", \"GliederungSort\": 90, \"GliederungLang\": \"Kreis 9\", \"ZimmerSort\": 3, \"ZimmerLang\": \"3 Zimmer\", \"GemeinnuetzigSort\": 2, \"GemeinnuetzigLang\": \"Nicht gemeinn\\u00fctzig\", \"EinheitSort\": 1, \"EinheitLang\": \"Wohnung\", \"PreisartSort\": 1, \"PreisartLang\": \"Netto\", \"mean\": 1713.0, \"meanl\": 1655.0, \"meanu\": 1771.0, \"qu10\": 1117.0, \"qu10l\": 1053.0, \"qu10u\": 1210.0, \"qu25\": 1286.0, \"qu25l\": 1230.0, \"qu25u\": 1380.0, \"qu50\": 1675.0, \"qu50l\": 1550.0, \"qu50u\": 1729.0, \"qu75\": 2108.0, \"qu75l\": 1900.0, \"qu75u\": 2236.0, \"qu90\": 2346.0, \"qu90l\": 2279.0, \"qu90u\": 2580.0, \"Domain\": 6624, \"Sample1\": 1011, \"Sample2\": 94}, {\"StichtagDatJahr\": \"2022-01-01T00:00:00\", \"RaumeinheitSort\": 2, \"RaumeinheitLang\": \"Stadtkreise\", \"GliederungSort\": 90, \"GliederungLang\": \"Kreis 9\", \"ZimmerSort\": 2, \"ZimmerLang\": \"2 Zimmer\", \"GemeinnuetzigSort\": 2, \"GemeinnuetzigLang\": \"Nicht gemeinn\\u00fctzig\", \"EinheitSort\": 1, \"EinheitLang\": \"Wohnung\", \"PreisartSort\": 1, \"PreisartLang\": \"Netto\", \"mean\": 1551.0, \"meanl\": 1498.0, \"meanu\": 1604.0, \"qu10\": 1074.0, \"qu10l\": 917.0, \"qu10u\": 1129.0, \"qu25\": 1185.0, \"qu25l\": 1134.0, \"qu25u\": 1230.0, \"qu50\": 1422.0, \"qu50l\": 1336.0, \"qu50u\": 1525.0, \"qu75\": 1818.0, \"qu75l\": 1685.0, \"qu75u\": 1985.0, \"qu90\": 2250.0, \"qu90l\": 2081.0, \"qu90u\": 2350.0, \"Domain\": 5315, \"Sample1\": 822, \"Sample2\": 78}, {\"StichtagDatJahr\": \"2022-01-01T00:00:00\", \"RaumeinheitSort\": 2, \"RaumeinheitLang\": \"Stadtkreise\", \"GliederungSort\": 90, \"GliederungLang\": \"Kreis 9\", \"ZimmerSort\": 4, \"ZimmerLang\": \"4 Zimmer\", \"GemeinnuetzigSort\": 2, \"GemeinnuetzigLang\": \"Nicht gemeinn\\u00fctzig\", \"EinheitSort\": 1, \"EinheitLang\": \"Wohnung\", \"PreisartSort\": 1, \"PreisartLang\": \"Netto\", \"mean\": 2240.0, \"meanl\": 2164.0, \"meanu\": 2317.0, \"qu10\": 1492.0, \"qu10l\": 1269.0, \"qu10u\": 1564.0, \"qu25\": 1790.0, \"qu25l\": 1690.0, \"qu25u\": 1951.0, \"qu50\": 2200.0, \"qu50l\": 2120.0, \"qu50u\": 2319.0, \"qu75\": 2670.0, \"qu75l\": 2500.0, \"qu75u\": 2800.0, \"qu90\": 3078.0, \"qu90l\": 2809.0, \"qu90u\": 3283.0, \"Domain\": 3028, \"Sample1\": 587, \"Sample2\": 63}, {\"StichtagDatJahr\": \"2022-01-01T00:00:00\", \"RaumeinheitSort\": 2, \"RaumeinheitLang\": \"Stadtkreise\", \"GliederungSort\": 100, \"GliederungLang\": \"Kreis 10\", \"ZimmerSort\": 3, \"ZimmerLang\": \"3 Zimmer\", \"GemeinnuetzigSort\": 2, \"GemeinnuetzigLang\": \"Nicht gemeinn\\u00fctzig\", \"EinheitSort\": 1, \"EinheitLang\": \"Wohnung\", \"PreisartSort\": 1, \"PreisartLang\": \"Netto\", \"mean\": 1778.0, \"meanl\": 1687.0, \"meanu\": 1869.0, \"qu10\": 1150.0, \"qu10l\": 1078.0, \"qu10u\": 1299.0, \"qu25\": 1405.0, \"qu25l\": 1350.0, \"qu25u\": 1472.0, \"qu50\": 1680.0, \"qu50l\": 1587.0, \"qu50u\": 1750.0, \"qu75\": 2061.0, \"qu75l\": 1877.0, \"qu75u\": 2136.0, \"qu90\": 2532.0, \"qu90l\": 2298.0, \"qu90u\": 2803.0, \"Domain\": 4956, \"Sample1\": 921, \"Sample2\": 80}, {\"StichtagDatJahr\": \"2022-01-01T00:00:00\", \"RaumeinheitSort\": 2, \"RaumeinheitLang\": \"Stadtkreise\", \"GliederungSort\": 100, \"GliederungLang\": \"Kreis 10\", \"ZimmerSort\": 4, \"ZimmerLang\": \"4 Zimmer\", \"GemeinnuetzigSort\": 2, \"GemeinnuetzigLang\": \"Nicht gemeinn\\u00fctzig\", \"EinheitSort\": 1, \"EinheitLang\": \"Wohnung\", \"PreisartSort\": 1, \"PreisartLang\": \"Netto\", \"mean\": 2219.0, \"meanl\": 2140.0, \"meanu\": 2298.0, \"qu10\": 1558.0, \"qu10l\": 1409.0, \"qu10u\": 1653.0, \"qu25\": 1744.0, \"qu25l\": 1655.0, \"qu25u\": 1820.0, \"qu50\": 2133.0, \"qu50l\": 1941.0, \"qu50u\": 2240.0, \"qu75\": 2600.0, \"qu75l\": 2500.0, \"qu75u\": 2750.0, \"qu90\": 2994.0, \"qu90l\": 2749.0, \"qu90u\": 3300.0, \"Domain\": 2652, \"Sample1\": 496, \"Sample2\": 70}, {\"StichtagDatJahr\": \"2022-01-01T00:00:00\", \"RaumeinheitSort\": 2, \"RaumeinheitLang\": \"Stadtkreise\", \"GliederungSort\": 100, \"GliederungLang\": \"Kreis 10\", \"ZimmerSort\": 2, \"ZimmerLang\": \"2 Zimmer\", \"GemeinnuetzigSort\": 2, \"GemeinnuetzigLang\": \"Nicht gemeinn\\u00fctzig\", \"EinheitSort\": 1, \"EinheitLang\": \"Wohnung\", \"PreisartSort\": 1, \"PreisartLang\": \"Netto\", \"mean\": 1544.0, \"meanl\": 1428.0, \"meanu\": 1660.0, \"qu10\": 1111.0, \"qu10l\": 972.0, \"qu10u\": 1140.0, \"qu25\": 1262.0, \"qu25l\": 1193.0, \"qu25u\": 1313.0, \"qu50\": 1409.0, \"qu50l\": 1384.0, \"qu50u\": 1519.0, \"qu75\": 1792.0, \"qu75l\": 1540.0, \"qu75u\": 1901.0, \"qu90\": 2155.0, \"qu90l\": 1868.0, \"qu90u\": 2471.0, \"Domain\": 2798, \"Sample1\": 426, \"Sample2\": 66}, {\"StichtagDatJahr\": \"2022-01-01T00:00:00\", \"RaumeinheitSort\": 2, \"RaumeinheitLang\": \"Stadtkreise\", \"GliederungSort\": 110, \"GliederungLang\": \"Kreis 11\", \"ZimmerSort\": 3, \"ZimmerLang\": \"3 Zimmer\", \"GemeinnuetzigSort\": 2, \"GemeinnuetzigLang\": \"Nicht gemeinn\\u00fctzig\", \"EinheitSort\": 1, \"EinheitLang\": \"Wohnung\", \"PreisartSort\": 1, \"PreisartLang\": \"Netto\", \"mean\": 1677.0, \"meanl\": 1634.0, \"meanu\": 1720.0, \"qu10\": 1068.0, \"qu10l\": 1027.0, \"qu10u\": 1175.0, \"qu25\": 1324.0, \"qu25l\": 1264.0, \"qu25u\": 1381.0, \"qu50\": 1600.0, \"qu50l\": 1558.0, \"qu50u\": 1674.0, \"qu75\": 1950.0, \"qu75l\": 1897.0, \"qu75u\": 2004.0, \"qu90\": 2320.0, \"qu90l\": 2240.0, \"qu90u\": 2467.0, \"Domain\": 8790, \"Sample1\": 1801, \"Sample2\": 137}, {\"StichtagDatJahr\": \"2022-01-01T00:00:00\", \"RaumeinheitSort\": 2, \"RaumeinheitLang\": \"Stadtkreise\", \"GliederungSort\": 110, \"GliederungLang\": \"Kreis 11\", \"ZimmerSort\": 2, \"ZimmerLang\": \"2 Zimmer\", \"GemeinnuetzigSort\": 2, \"GemeinnuetzigLang\": \"Nicht gemeinn\\u00fctzig\", \"EinheitSort\": 1, \"EinheitLang\": \"Wohnung\", \"PreisartSort\": 1, \"PreisartLang\": \"Netto\", \"mean\": 1460.0, \"meanl\": 1417.0, \"meanu\": 1502.0, \"qu10\": 1000.0, \"qu10l\": 956.0, \"qu10u\": 1078.0, \"qu25\": 1184.0, \"qu25l\": 1159.0, \"qu25u\": 1210.0, \"qu50\": 1356.0, \"qu50l\": 1333.0, \"qu50u\": 1430.0, \"qu75\": 1700.0, \"qu75l\": 1589.0, \"qu75u\": 1760.0, \"qu90\": 2008.0, \"qu90l\": 1823.0, \"qu90u\": 2125.0, \"Domain\": 5662, \"Sample1\": 1181, \"Sample2\": 119}, {\"StichtagDatJahr\": \"2022-01-01T00:00:00\", \"RaumeinheitSort\": 2, \"RaumeinheitLang\": \"Stadtkreise\", \"GliederungSort\": 110, \"GliederungLang\": \"Kreis 11\", \"ZimmerSort\": 4, \"ZimmerLang\": \"4 Zimmer\", \"GemeinnuetzigSort\": 2, \"GemeinnuetzigLang\": \"Nicht gemeinn\\u00fctzig\", \"EinheitSort\": 1, \"EinheitLang\": \"Wohnung\", \"PreisartSort\": 1, \"PreisartLang\": \"Netto\", \"mean\": 1962.0, \"meanl\": 1907.0, \"meanu\": 2017.0, \"qu10\": 1363.0, \"qu10l\": 1269.0, \"qu10u\": 1425.0, \"qu25\": 1596.0, \"qu25l\": 1514.0, \"qu25u\": 1655.0, \"qu50\": 1891.0, \"qu50l\": 1820.0, \"qu50u\": 1953.0, \"qu75\": 2284.0, \"qu75l\": 2187.0, \"qu75u\": 2350.0, \"qu90\": 2700.0, \"qu90l\": 2588.0, \"qu90u\": 2929.0, \"Domain\": 4742, \"Sample1\": 1211, \"Sample2\": 117}, {\"StichtagDatJahr\": \"2022-01-01T00:00:00\", \"RaumeinheitSort\": 2, \"RaumeinheitLang\": \"Stadtkreise\", \"GliederungSort\": 120, \"GliederungLang\": \"Kreis 12\", \"ZimmerSort\": 3, \"ZimmerLang\": \"3 Zimmer\", \"GemeinnuetzigSort\": 2, \"GemeinnuetzigLang\": \"Nicht gemeinn\\u00fctzig\", \"EinheitSort\": 1, \"EinheitLang\": \"Wohnung\", \"PreisartSort\": 1, \"PreisartLang\": \"Netto\", \"mean\": 1404.0, \"meanl\": 1359.0, \"meanu\": 1449.0, \"qu10\": 1025.0, \"qu10l\": 986.0, \"qu10u\": 1150.0, \"qu25\": 1253.0, \"qu25l\": 1157.0, \"qu25u\": 1325.0, \"qu50\": 1435.0, \"qu50l\": 1401.0, \"qu50u\": 1450.0, \"qu75\": 1530.0, \"qu75l\": 1490.0, \"qu75u\": 1596.0, \"qu90\": 1702.0, \"qu90l\": 1640.0, \"qu90u\": 1834.0, \"Domain\": 2933, \"Sample1\": 582, \"Sample2\": 93}, {\"StichtagDatJahr\": \"2022-01-01T00:00:00\", \"RaumeinheitSort\": 2, \"RaumeinheitLang\": \"Stadtkreise\", \"GliederungSort\": 120, \"GliederungLang\": \"Kreis 12\", \"ZimmerSort\": 4, \"ZimmerLang\": \"4 Zimmer\", \"GemeinnuetzigSort\": 2, \"GemeinnuetzigLang\": \"Nicht gemeinn\\u00fctzig\", \"EinheitSort\": 1, \"EinheitLang\": \"Wohnung\", \"PreisartSort\": 1, \"PreisartLang\": \"Netto\", \"mean\": 1724.0, \"meanl\": 1665.0, \"meanu\": 1784.0, \"qu10\": 1104.0, \"qu10l\": 961.0, \"qu10u\": 1228.0, \"qu25\": 1371.0, \"qu25l\": 1239.0, \"qu25u\": 1440.0, \"qu50\": 1595.0, \"qu50l\": 1517.0, \"qu50u\": 1698.0, \"qu75\": 2050.0, \"qu75l\": 1920.0, \"qu75u\": 2250.0, \"qu90\": 2579.0, \"qu90l\": 2409.0, \"qu90u\": 2824.0, \"Domain\": 1107, \"Sample1\": 274, \"Sample2\": 68}, {\"StichtagDatJahr\": \"2022-01-01T00:00:00\", \"RaumeinheitSort\": 2, \"RaumeinheitLang\": \"Stadtkreise\", \"GliederungSort\": 120, \"GliederungLang\": \"Kreis 12\", \"ZimmerSort\": 2, \"ZimmerLang\": \"2 Zimmer\", \"GemeinnuetzigSort\": 2, \"GemeinnuetzigLang\": \"Nicht gemeinn\\u00fctzig\", \"EinheitSort\": 1, \"EinheitLang\": \"Wohnung\", \"PreisartSort\": 1, \"PreisartLang\": \"Netto\", \"mean\": 1291.0, \"meanl\": 1228.0, \"meanu\": 1354.0, \"qu10\": 842.0, \"qu10l\": 768.0, \"qu10u\": 1050.0, \"qu25\": 1087.0, \"qu25l\": 1038.0, \"qu25u\": 1184.0, \"qu50\": 1311.0, \"qu50l\": 1250.0, \"qu50u\": 1391.0, \"qu75\": 1480.0, \"qu75l\": 1443.0, \"qu75u\": 1580.0, \"qu90\": 1682.0, \"qu90l\": 1600.0, \"qu90u\": 1777.0, \"Domain\": 1713, \"Sample1\": 426, \"Sample2\": 64}]}}, {\"mode\": \"vega-lite\"});\n",
       "</script>"
      ],
      "text/plain": [
       "alt.LayerChart(...)"
      ]
     },
     "execution_count": 59,
     "metadata": {},
     "output_type": "execute_result"
    }
   ],
   "source": [
    "myTitle=\"Mietpreise nicht gemeinnütziger Wohnungen nach Stadtkreisen und Zimmerzahl\"\n",
    "myQuery = 'RaumeinheitSort ==2 and GemeinnuetzigSort == 2'\n",
    "\n",
    "highlight = alt.selection(type='single', on='mouseover',\n",
    "                          fields=['ProjStatus'], nearest=True)\n",
    "#x='date:StichtagDatJahr',\n",
    "base = alt.Chart(mySel1.query(myQuery), title=myTitle).encode(\n",
    "        x=alt.X('GliederungSort:Q', axis=alt.Axis(title='Stadtkreis'), scale=alt.Scale(domain=[5, 125]))# , axis=alt.Axis(format='%', title='percentage')\n",
    "        , y=alt.X('qu50:Q', axis=alt.Axis(title='Median-Preis'), scale=alt.Scale(domain=[0, 3500]))\n",
    "        , color=alt.Color('ZimmerSort:N', legend=alt.Legend(title=\"Zimmerzahl\", orient=\"right\"))  \n",
    "        ,tooltip=['GliederungSort', 'GliederungLang', 'ZimmerSort','ZimmerLang', 'GemeinnuetzigSort', 'GemeinnuetzigLang', 'EinheitSort', 'EinheitLang',\n",
    "       'PreisartSort', 'PreisartLang',  'qu50', 'qu50l', 'qu50u']\n",
    ")\n",
    "points = base.mark_circle().encode(\n",
    "    opacity=alt.value(0.75)\n",
    ").add_selection(\n",
    "    highlight\n",
    ").properties(\n",
    "    width=750 , height=350\n",
    ")\n",
    "lines = base.mark_line().encode(\n",
    "    size=alt.condition(~highlight, alt.value(1.5), alt.value(4))\n",
    ").interactive()\n",
    "\n",
    "lines + points"
   ]
  },
  {
   "cell_type": "code",
   "execution_count": 60,
   "metadata": {},
   "outputs": [
    {
     "data": {
      "text/html": [
       "\n",
       "<div id=\"altair-viz-aa95b3163f894e8ea1a945079daf5d19\"></div>\n",
       "<script type=\"text/javascript\">\n",
       "  (function(spec, embedOpt){\n",
       "    let outputDiv = document.currentScript.previousElementSibling;\n",
       "    if (outputDiv.id !== \"altair-viz-aa95b3163f894e8ea1a945079daf5d19\") {\n",
       "      outputDiv = document.getElementById(\"altair-viz-aa95b3163f894e8ea1a945079daf5d19\");\n",
       "    }\n",
       "    const paths = {\n",
       "      \"vega\": \"https://cdn.jsdelivr.net/npm//vega@5?noext\",\n",
       "      \"vega-lib\": \"https://cdn.jsdelivr.net/npm//vega-lib?noext\",\n",
       "      \"vega-lite\": \"https://cdn.jsdelivr.net/npm//vega-lite@4.8.1?noext\",\n",
       "      \"vega-embed\": \"https://cdn.jsdelivr.net/npm//vega-embed@6?noext\",\n",
       "    };\n",
       "\n",
       "    function loadScript(lib) {\n",
       "      return new Promise(function(resolve, reject) {\n",
       "        var s = document.createElement('script');\n",
       "        s.src = paths[lib];\n",
       "        s.async = true;\n",
       "        s.onload = () => resolve(paths[lib]);\n",
       "        s.onerror = () => reject(`Error loading script: ${paths[lib]}`);\n",
       "        document.getElementsByTagName(\"head\")[0].appendChild(s);\n",
       "      });\n",
       "    }\n",
       "\n",
       "    function showError(err) {\n",
       "      outputDiv.innerHTML = `<div class=\"error\" style=\"color:red;\">${err}</div>`;\n",
       "      throw err;\n",
       "    }\n",
       "\n",
       "    function displayChart(vegaEmbed) {\n",
       "      vegaEmbed(outputDiv, spec, embedOpt)\n",
       "        .catch(err => showError(`Javascript Error: ${err.message}<br>This usually means there's a typo in your chart specification. See the javascript console for the full traceback.`));\n",
       "    }\n",
       "\n",
       "    if(typeof define === \"function\" && define.amd) {\n",
       "      requirejs.config({paths});\n",
       "      require([\"vega-embed\"], displayChart, err => showError(`Error loading script: ${err.message}`));\n",
       "    } else if (typeof vegaEmbed === \"function\") {\n",
       "      displayChart(vegaEmbed);\n",
       "    } else {\n",
       "      loadScript(\"vega\")\n",
       "        .then(() => loadScript(\"vega-lite\"))\n",
       "        .then(() => loadScript(\"vega-embed\"))\n",
       "        .catch(showError)\n",
       "        .then(() => displayChart(vegaEmbed));\n",
       "    }\n",
       "  })({\"config\": {\"view\": {\"continuousWidth\": 400, \"continuousHeight\": 300}}, \"layer\": [{\"mark\": \"line\", \"encoding\": {\"color\": {\"type\": \"nominal\", \"field\": \"ZimmerSort\", \"legend\": {\"orient\": \"right\", \"title\": \"Zimmerzahl\"}}, \"size\": {\"condition\": {\"value\": 1.5, \"selection\": {\"not\": \"selector015\"}}, \"value\": 4}, \"tooltip\": [{\"type\": \"quantitative\", \"field\": \"GliederungSort\"}, {\"type\": \"nominal\", \"field\": \"GliederungLang\"}, {\"type\": \"quantitative\", \"field\": \"ZimmerSort\"}, {\"type\": \"nominal\", \"field\": \"ZimmerLang\"}, {\"type\": \"quantitative\", \"field\": \"GemeinnuetzigSort\"}, {\"type\": \"nominal\", \"field\": \"GemeinnuetzigLang\"}, {\"type\": \"quantitative\", \"field\": \"EinheitSort\"}, {\"type\": \"nominal\", \"field\": \"EinheitLang\"}, {\"type\": \"quantitative\", \"field\": \"PreisartSort\"}, {\"type\": \"nominal\", \"field\": \"PreisartLang\"}, {\"type\": \"quantitative\", \"field\": \"qu50\"}, {\"type\": \"quantitative\", \"field\": \"qu50l\"}, {\"type\": \"quantitative\", \"field\": \"qu50u\"}], \"x\": {\"type\": \"quantitative\", \"axis\": {\"title\": \"Stadtkreis\"}, \"field\": \"GliederungSort\", \"scale\": {\"domain\": [5, 125]}}, \"y\": {\"type\": \"quantitative\", \"axis\": {\"title\": \"Median-Preis\"}, \"field\": \"qu50\", \"scale\": {\"domain\": [0, 3500]}}}, \"selection\": {\"selector016\": {\"type\": \"interval\", \"bind\": \"scales\", \"encodings\": [\"x\", \"y\"]}}, \"title\": \"Mietpreise aller Wohnungen nach Stadtquartier und Zimmerzahl\"}, {\"mark\": \"circle\", \"encoding\": {\"color\": {\"type\": \"nominal\", \"field\": \"ZimmerSort\", \"legend\": {\"orient\": \"right\", \"title\": \"Zimmerzahl\"}}, \"opacity\": {\"value\": 0.75}, \"tooltip\": [{\"type\": \"quantitative\", \"field\": \"GliederungSort\"}, {\"type\": \"nominal\", \"field\": \"GliederungLang\"}, {\"type\": \"quantitative\", \"field\": \"ZimmerSort\"}, {\"type\": \"nominal\", \"field\": \"ZimmerLang\"}, {\"type\": \"quantitative\", \"field\": \"GemeinnuetzigSort\"}, {\"type\": \"nominal\", \"field\": \"GemeinnuetzigLang\"}, {\"type\": \"quantitative\", \"field\": \"EinheitSort\"}, {\"type\": \"nominal\", \"field\": \"EinheitLang\"}, {\"type\": \"quantitative\", \"field\": \"PreisartSort\"}, {\"type\": \"nominal\", \"field\": \"PreisartLang\"}, {\"type\": \"quantitative\", \"field\": \"qu50\"}, {\"type\": \"quantitative\", \"field\": \"qu50l\"}, {\"type\": \"quantitative\", \"field\": \"qu50u\"}], \"x\": {\"type\": \"quantitative\", \"axis\": {\"title\": \"Stadtkreis\"}, \"field\": \"GliederungSort\", \"scale\": {\"domain\": [5, 125]}}, \"y\": {\"type\": \"quantitative\", \"axis\": {\"title\": \"Median-Preis\"}, \"field\": \"qu50\", \"scale\": {\"domain\": [0, 3500]}}}, \"height\": 350, \"selection\": {\"selector015\": {\"type\": \"single\", \"on\": \"mouseover\", \"fields\": [\"ProjStatus\"], \"nearest\": true}}, \"title\": \"Mietpreise aller Wohnungen nach Stadtquartier und Zimmerzahl\", \"width\": 750}], \"data\": {\"name\": \"data-3bec2ad462788b29620ffef1709a2b92\"}, \"$schema\": \"https://vega.github.io/schema/vega-lite/v4.8.1.json\", \"datasets\": {\"data-3bec2ad462788b29620ffef1709a2b92\": [{\"StichtagDatJahr\": \"2022-01-01T00:00:00\", \"RaumeinheitSort\": 4, \"RaumeinheitLang\": \"Quartiere\", \"GliederungSort\": 11, \"GliederungLang\": \"Rathaus\", \"ZimmerSort\": 2, \"ZimmerLang\": \"2 Zimmer\", \"GemeinnuetzigSort\": 0, \"GemeinnuetzigLang\": \"Alle Wohnungen\", \"EinheitSort\": 1, \"EinheitLang\": \"Wohnung\", \"PreisartSort\": 1, \"PreisartLang\": \"Netto\", \"mean\": 1747.0, \"meanl\": 1647.0, \"meanu\": 1847.0, \"qu10\": 767.0, \"qu10l\": 765.0, \"qu10u\": 771.0, \"qu25\": 1158.0, \"qu25l\": 1049.0, \"qu25u\": 1291.0, \"qu50\": 1755.0, \"qu50l\": 1526.0, \"qu50u\": 2001.0, \"qu75\": 2247.0, \"qu75l\": 2110.0, \"qu75u\": 2542.0, \"qu90\": 2851.0, \"qu90l\": 2541.0, \"qu90u\": 2970.0, \"Domain\": 704, \"Sample1\": 250, \"Sample2\": 38}, {\"StichtagDatJahr\": \"2022-01-01T00:00:00\", \"RaumeinheitSort\": 4, \"RaumeinheitLang\": \"Quartiere\", \"GliederungSort\": 11, \"GliederungLang\": \"Rathaus\", \"ZimmerSort\": 3, \"ZimmerLang\": \"3 Zimmer\", \"GemeinnuetzigSort\": 0, \"GemeinnuetzigLang\": \"Alle Wohnungen\", \"EinheitSort\": 1, \"EinheitLang\": \"Wohnung\", \"PreisartSort\": 1, \"PreisartLang\": \"Netto\", \"mean\": 2294.0, \"meanl\": 2175.0, \"meanu\": 2414.0, \"qu10\": 1000.0, \"qu10l\": 922.0, \"qu10u\": 1003.0, \"qu25\": 1355.0, \"qu25l\": 1200.0, \"qu25u\": 1627.0, \"qu50\": 2217.0, \"qu50l\": 2080.0, \"qu50u\": 2379.0, \"qu75\": 3075.0, \"qu75l\": 2557.0, \"qu75u\": 3299.0, \"qu90\": 3507.0, \"qu90l\": 3210.0, \"qu90u\": 4322.0, \"Domain\": 490, \"Sample1\": 161, \"Sample2\": 28}, {\"StichtagDatJahr\": \"2022-01-01T00:00:00\", \"RaumeinheitSort\": 4, \"RaumeinheitLang\": \"Quartiere\", \"GliederungSort\": 11, \"GliederungLang\": \"Rathaus\", \"ZimmerSort\": 4, \"ZimmerLang\": \"4 Zimmer\", \"GemeinnuetzigSort\": 0, \"GemeinnuetzigLang\": \"Alle Wohnungen\", \"EinheitSort\": 1, \"EinheitLang\": \"Wohnung\", \"PreisartSort\": 1, \"PreisartLang\": \"Netto\", \"mean\": 2816.0, \"meanl\": 2622.0, \"meanu\": 3011.0, \"qu10\": 1139.0, \"qu10l\": 1041.0, \"qu10u\": 1213.0, \"qu25\": 1797.0, \"qu25l\": 1395.0, \"qu25u\": 2001.0, \"qu50\": 2727.0, \"qu50l\": 2434.0, \"qu50u\": 3250.0, \"qu75\": 3600.0, \"qu75l\": 3345.0, \"qu75u\": 4044.0, \"qu90\": 4179.0, \"qu90l\": 3637.0, \"qu90u\": 4900.0, \"Domain\": 221, \"Sample1\": 66, \"Sample2\": 24}, {\"StichtagDatJahr\": \"2022-01-01T00:00:00\", \"RaumeinheitSort\": 4, \"RaumeinheitLang\": \"Quartiere\", \"GliederungSort\": 12, \"GliederungLang\": \"Hochschulen\", \"ZimmerSort\": 2, \"ZimmerLang\": \"2 Zimmer\", \"GemeinnuetzigSort\": 0, \"GemeinnuetzigLang\": \"Alle Wohnungen\", \"EinheitSort\": 1, \"EinheitLang\": \"Wohnung\", \"PreisartSort\": 1, \"PreisartLang\": \"Netto\", \"mean\": 1835.0, \"meanl\": 1653.0, \"meanu\": 2017.0, \"qu10\": 861.0, \"qu10l\": 850.0, \"qu10u\": 1420.0, \"qu25\": 1420.0, \"qu25l\": 1068.0, \"qu25u\": 1767.0, \"qu50\": 1897.0, \"qu50l\": 1750.0, \"qu50u\": 2106.0, \"qu75\": 2300.0, \"qu75l\": 2068.0, \"qu75u\": 2434.0, \"qu90\": 2539.0, \"qu90l\": 2300.0, \"qu90u\": 2600.0, \"Domain\": 53, \"Sample1\": 18, \"Sample2\": 16}, {\"StichtagDatJahr\": \"2022-01-01T00:00:00\", \"RaumeinheitSort\": 4, \"RaumeinheitLang\": \"Quartiere\", \"GliederungSort\": 12, \"GliederungLang\": \"Hochschulen\", \"ZimmerSort\": 3, \"ZimmerLang\": \"3 Zimmer\", \"GemeinnuetzigSort\": 0, \"GemeinnuetzigLang\": \"Alle Wohnungen\", \"EinheitSort\": 1, \"EinheitLang\": \"Wohnung\", \"PreisartSort\": 1, \"PreisartLang\": \"Netto\", \"mean\": 2327.0, \"meanl\": 2204.0, \"meanu\": 2450.0, \"qu10\": 1150.0, \"qu10l\": 956.0, \"qu10u\": 1610.0, \"qu25\": 1709.0, \"qu25l\": 1640.0, \"qu25u\": 1925.0, \"qu50\": 2139.0, \"qu50l\": 2093.0, \"qu50u\": 2300.0, \"qu75\": 2500.0, \"qu75l\": 2458.0, \"qu75u\": 3198.0, \"qu90\": 3500.0, \"qu90l\": 3340.0, \"qu90u\": 4574.0, \"Domain\": 50, \"Sample1\": 18, \"Sample2\": 21}, {\"StichtagDatJahr\": \"2022-01-01T00:00:00\", \"RaumeinheitSort\": 4, \"RaumeinheitLang\": \"Quartiere\", \"GliederungSort\": 12, \"GliederungLang\": \"Hochschulen\", \"ZimmerSort\": 4, \"ZimmerLang\": \"4 Zimmer\", \"GemeinnuetzigSort\": 0, \"GemeinnuetzigLang\": \"Alle Wohnungen\", \"EinheitSort\": 1, \"EinheitLang\": \"Wohnung\", \"PreisartSort\": 1, \"PreisartLang\": \"Netto\", \"mean\": 3124.0, \"meanl\": 2826.0, \"meanu\": 3423.0, \"qu10\": 1195.0, \"qu10l\": 1195.0, \"qu10u\": 1424.0, \"qu25\": 2022.0, \"qu25l\": 1449.0, \"qu25u\": 2205.0, \"qu50\": 3269.0, \"qu50l\": 2536.0, \"qu50u\": 3484.0, \"qu75\": 4100.0, \"qu75l\": 3966.0, \"qu75u\": 5871.0, \"qu90\": 5070.0, \"qu90l\": 4100.0, \"qu90u\": 6871.0, \"Domain\": 54, \"Sample1\": 17, \"Sample2\": 13}, {\"StichtagDatJahr\": \"2022-01-01T00:00:00\", \"RaumeinheitSort\": 4, \"RaumeinheitLang\": \"Quartiere\", \"GliederungSort\": 13, \"GliederungLang\": \"Lindenhof\", \"ZimmerSort\": 3, \"ZimmerLang\": \"3 Zimmer\", \"GemeinnuetzigSort\": 0, \"GemeinnuetzigLang\": \"Alle Wohnungen\", \"EinheitSort\": 1, \"EinheitLang\": \"Wohnung\", \"PreisartSort\": 1, \"PreisartLang\": \"Netto\", \"mean\": 2771.0, \"meanl\": 2532.0, \"meanu\": 3009.0, \"qu10\": 1147.0, \"qu10l\": 1076.0, \"qu10u\": 1384.0, \"qu25\": 1678.0, \"qu25l\": 1426.0, \"qu25u\": 2004.0, \"qu50\": 2624.0, \"qu50l\": 2388.0, \"qu50u\": 2868.0, \"qu75\": 3542.0, \"qu75l\": 2901.0, \"qu75u\": 3784.0, \"qu90\": 4466.0, \"qu90l\": 3671.0, \"qu90u\": 5697.0, \"Domain\": 181, \"Sample1\": 50, \"Sample2\": 30}, {\"StichtagDatJahr\": \"2022-01-01T00:00:00\", \"RaumeinheitSort\": 4, \"RaumeinheitLang\": \"Quartiere\", \"GliederungSort\": 13, \"GliederungLang\": \"Lindenhof\", \"ZimmerSort\": 2, \"ZimmerLang\": \"2 Zimmer\", \"GemeinnuetzigSort\": 0, \"GemeinnuetzigLang\": \"Alle Wohnungen\", \"EinheitSort\": 1, \"EinheitLang\": \"Wohnung\", \"PreisartSort\": 1, \"PreisartLang\": \"Netto\", \"mean\": 1960.0, \"meanl\": 1814.0, \"meanu\": 2106.0, \"qu10\": 756.0, \"qu10l\": 673.0, \"qu10u\": 974.0, \"qu25\": 1306.0, \"qu25l\": 1015.0, \"qu25u\": 1603.0, \"qu50\": 2049.0, \"qu50l\": 1856.0, \"qu50u\": 2249.0, \"qu75\": 2354.0, \"qu75l\": 2247.0, \"qu75u\": 2550.0, \"qu90\": 2797.0, \"qu90l\": 2487.0, \"qu90u\": 3707.0, \"Domain\": 259, \"Sample1\": 67, \"Sample2\": 26}, {\"StichtagDatJahr\": \"2022-01-01T00:00:00\", \"RaumeinheitSort\": 4, \"RaumeinheitLang\": \"Quartiere\", \"GliederungSort\": 13, \"GliederungLang\": \"Lindenhof\", \"ZimmerSort\": 4, \"ZimmerLang\": \"4 Zimmer\", \"GemeinnuetzigSort\": 0, \"GemeinnuetzigLang\": \"Alle Wohnungen\", \"EinheitSort\": 1, \"EinheitLang\": \"Wohnung\", \"PreisartSort\": 1, \"PreisartLang\": \"Netto\", \"mean\": 2812.0, \"meanl\": 2534.0, \"meanu\": 3090.0, \"qu10\": 1269.0, \"qu10l\": 841.0, \"qu10u\": 1491.0, \"qu25\": 1617.0, \"qu25l\": 1443.0, \"qu25u\": 2182.0, \"qu50\": 3184.0, \"qu50l\": 1824.0, \"qu50u\": 3731.0, \"qu75\": 3802.0, \"qu75l\": 3324.0, \"qu75u\": 4209.0, \"qu90\": 4211.0, \"qu90l\": 3792.0, \"qu90u\": 5069.0, \"Domain\": 104, \"Sample1\": 25, \"Sample2\": 17}, {\"StichtagDatJahr\": \"2022-01-01T00:00:00\", \"RaumeinheitSort\": 4, \"RaumeinheitLang\": \"Quartiere\", \"GliederungSort\": 14, \"GliederungLang\": \"City\", \"ZimmerSort\": 2, \"ZimmerLang\": \"2 Zimmer\", \"GemeinnuetzigSort\": 0, \"GemeinnuetzigLang\": \"Alle Wohnungen\", \"EinheitSort\": 1, \"EinheitLang\": \"Wohnung\", \"PreisartSort\": 1, \"PreisartLang\": \"Netto\", \"mean\": 1888.0, \"meanl\": 1750.0, \"meanu\": 2026.0, \"qu10\": 1288.0, \"qu10l\": 1210.0, \"qu10u\": 1335.0, \"qu25\": 1337.0, \"qu25l\": 1335.0, \"qu25u\": 1403.0, \"qu50\": 1476.0, \"qu50l\": 1446.0, \"qu50u\": 1640.0, \"qu75\": 2281.0, \"qu75l\": 2023.0, \"qu75u\": 2469.0, \"qu90\": 2746.0, \"qu90l\": 2642.0, \"qu90u\": 4708.0, \"Domain\": 60, \"Sample1\": 20, \"Sample2\": 19}, {\"StichtagDatJahr\": \"2022-01-01T00:00:00\", \"RaumeinheitSort\": 4, \"RaumeinheitLang\": \"Quartiere\", \"GliederungSort\": 14, \"GliederungLang\": \"City\", \"ZimmerSort\": 4, \"ZimmerLang\": \"4 Zimmer\", \"GemeinnuetzigSort\": 0, \"GemeinnuetzigLang\": \"Alle Wohnungen\", \"EinheitSort\": 1, \"EinheitLang\": \"Wohnung\", \"PreisartSort\": 1, \"PreisartLang\": \"Netto\", \"mean\": 2239.0, \"meanl\": 2097.0, \"meanu\": 2382.0, \"qu10\": 1107.0, \"qu10l\": 991.0, \"qu10u\": 1195.0, \"qu25\": 1269.0, \"qu25l\": 1257.0, \"qu25u\": 1364.0, \"qu50\": 1850.0, \"qu50l\": 1817.0, \"qu50u\": 2403.0, \"qu75\": 3046.0, \"qu75l\": 2517.0, \"qu75u\": 3441.0, \"qu90\": 3908.0, \"qu90l\": 3392.0, \"qu90u\": 5869.0, \"Domain\": 80, \"Sample1\": 43, \"Sample2\": 15}, {\"StichtagDatJahr\": \"2022-01-01T00:00:00\", \"RaumeinheitSort\": 4, \"RaumeinheitLang\": \"Quartiere\", \"GliederungSort\": 14, \"GliederungLang\": \"City\", \"ZimmerSort\": 3, \"ZimmerLang\": \"3 Zimmer\", \"GemeinnuetzigSort\": 0, \"GemeinnuetzigLang\": \"Alle Wohnungen\", \"EinheitSort\": 1, \"EinheitLang\": \"Wohnung\", \"PreisartSort\": 1, \"PreisartLang\": \"Netto\", \"mean\": 2209.0, \"meanl\": 2045.0, \"meanu\": 2373.0, \"qu10\": 1164.0, \"qu10l\": 1069.0, \"qu10u\": 1249.0, \"qu25\": 1506.0, \"qu25l\": 1398.0, \"qu25u\": 1790.0, \"qu50\": 2298.0, \"qu50l\": 1716.0, \"qu50u\": 2539.0, \"qu75\": 2758.0, \"qu75l\": 2543.0, \"qu75u\": 3015.0, \"qu90\": 3055.0, \"qu90l\": 2729.0, \"qu90u\": 4062.0, \"Domain\": 115, \"Sample1\": 31, \"Sample2\": 18}, {\"StichtagDatJahr\": \"2022-01-01T00:00:00\", \"RaumeinheitSort\": 4, \"RaumeinheitLang\": \"Quartiere\", \"GliederungSort\": 21, \"GliederungLang\": \"Wollishofen\", \"ZimmerSort\": 2, \"ZimmerLang\": \"2 Zimmer\", \"GemeinnuetzigSort\": 0, \"GemeinnuetzigLang\": \"Alle Wohnungen\", \"EinheitSort\": 1, \"EinheitLang\": \"Wohnung\", \"PreisartSort\": 1, \"PreisartLang\": \"Netto\", \"mean\": 1333.0, \"meanl\": 1288.0, \"meanu\": 1378.0, \"qu10\": 686.0, \"qu10l\": 639.0, \"qu10u\": 750.0, \"qu25\": 953.0, \"qu25l\": 897.0, \"qu25u\": 1065.0, \"qu50\": 1298.0, \"qu50l\": 1234.0, \"qu50u\": 1400.0, \"qu75\": 1710.0, \"qu75l\": 1540.0, \"qu75u\": 1846.0, \"qu90\": 1995.0, \"qu90l\": 1900.0, \"qu90u\": 2129.0, \"Domain\": 2193, \"Sample1\": 585, \"Sample2\": 75}, {\"StichtagDatJahr\": \"2022-01-01T00:00:00\", \"RaumeinheitSort\": 4, \"RaumeinheitLang\": \"Quartiere\", \"GliederungSort\": 21, \"GliederungLang\": \"Wollishofen\", \"ZimmerSort\": 4, \"ZimmerLang\": \"4 Zimmer\", \"GemeinnuetzigSort\": 0, \"GemeinnuetzigLang\": \"Alle Wohnungen\", \"EinheitSort\": 1, \"EinheitLang\": \"Wohnung\", \"PreisartSort\": 1, \"PreisartLang\": \"Netto\", \"mean\": 2001.0, \"meanl\": 1900.0, \"meanu\": 2102.0, \"qu10\": 916.0, \"qu10l\": 877.0, \"qu10u\": 1000.0, \"qu25\": 1190.0, \"qu25l\": 1140.0, \"qu25u\": 1224.0, \"qu50\": 1708.0, \"qu50l\": 1614.0, \"qu50u\": 1820.0, \"qu75\": 2410.0, \"qu75l\": 2250.0, \"qu75u\": 2751.0, \"qu90\": 3246.0, \"qu90l\": 2909.0, \"qu90u\": 3538.0, \"Domain\": 1977, \"Sample1\": 598, \"Sample2\": 71}, {\"StichtagDatJahr\": \"2022-01-01T00:00:00\", \"RaumeinheitSort\": 4, \"RaumeinheitLang\": \"Quartiere\", \"GliederungSort\": 21, \"GliederungLang\": \"Wollishofen\", \"ZimmerSort\": 3, \"ZimmerLang\": \"3 Zimmer\", \"GemeinnuetzigSort\": 0, \"GemeinnuetzigLang\": \"Alle Wohnungen\", \"EinheitSort\": 1, \"EinheitLang\": \"Wohnung\", \"PreisartSort\": 1, \"PreisartLang\": \"Netto\", \"mean\": 1673.0, \"meanl\": 1592.0, \"meanu\": 1754.0, \"qu10\": 770.0, \"qu10l\": 743.0, \"qu10u\": 798.0, \"qu25\": 1088.0, \"qu25l\": 1006.0, \"qu25u\": 1100.0, \"qu50\": 1538.0, \"qu50l\": 1435.0, \"qu50u\": 1702.0, \"qu75\": 2111.0, \"qu75l\": 1921.0, \"qu75u\": 2362.0, \"qu90\": 2750.0, \"qu90l\": 2578.0, \"qu90u\": 3310.0, \"Domain\": 3345, \"Sample1\": 1015, \"Sample2\": 79}, {\"StichtagDatJahr\": \"2022-01-01T00:00:00\", \"RaumeinheitSort\": 4, \"RaumeinheitLang\": \"Quartiere\", \"GliederungSort\": 23, \"GliederungLang\": \"Leimbach\", \"ZimmerSort\": 3, \"ZimmerLang\": \"3 Zimmer\", \"GemeinnuetzigSort\": 0, \"GemeinnuetzigLang\": \"Alle Wohnungen\", \"EinheitSort\": 1, \"EinheitLang\": \"Wohnung\", \"PreisartSort\": 1, \"PreisartLang\": \"Netto\", \"mean\": 1483.0, \"meanl\": 1433.0, \"meanu\": 1533.0, \"qu10\": 987.0, \"qu10l\": 914.0, \"qu10u\": 1014.0, \"qu25\": 1124.0, \"qu25l\": 1091.0, \"qu25u\": 1186.0, \"qu50\": 1388.0, \"qu50l\": 1335.0, \"qu50u\": 1475.0, \"qu75\": 1752.0, \"qu75l\": 1610.0, \"qu75u\": 1870.0, \"qu90\": 2069.0, \"qu90l\": 1959.0, \"qu90u\": 2236.0, \"Domain\": 712, \"Sample1\": 366, \"Sample2\": 25}, {\"StichtagDatJahr\": \"2022-01-01T00:00:00\", \"RaumeinheitSort\": 4, \"RaumeinheitLang\": \"Quartiere\", \"GliederungSort\": 23, \"GliederungLang\": \"Leimbach\", \"ZimmerSort\": 2, \"ZimmerLang\": \"2 Zimmer\", \"GemeinnuetzigSort\": 0, \"GemeinnuetzigLang\": \"Alle Wohnungen\", \"EinheitSort\": 1, \"EinheitLang\": \"Wohnung\", \"PreisartSort\": 1, \"PreisartLang\": \"Netto\", \"mean\": 1356.0, \"meanl\": 1269.0, \"meanu\": 1443.0, \"qu10\": 815.0, \"qu10l\": 754.0, \"qu10u\": 923.0, \"qu25\": 967.0, \"qu25l\": 877.0, \"qu25u\": 1127.0, \"qu50\": 1259.0, \"qu50l\": 1176.0, \"qu50u\": 1310.0, \"qu75\": 1549.0, \"qu75l\": 1321.0, \"qu75u\": 1765.0, \"qu90\": 1955.0, \"qu90l\": 1663.0, \"qu90u\": 2821.0, \"Domain\": 518, \"Sample1\": 242, \"Sample2\": 23}, {\"StichtagDatJahr\": \"2022-01-01T00:00:00\", \"RaumeinheitSort\": 4, \"RaumeinheitLang\": \"Quartiere\", \"GliederungSort\": 23, \"GliederungLang\": \"Leimbach\", \"ZimmerSort\": 4, \"ZimmerLang\": \"4 Zimmer\", \"GemeinnuetzigSort\": 0, \"GemeinnuetzigLang\": \"Alle Wohnungen\", \"EinheitSort\": 1, \"EinheitLang\": \"Wohnung\", \"PreisartSort\": 1, \"PreisartLang\": \"Netto\", \"mean\": 1652.0, \"meanl\": 1604.0, \"meanu\": 1700.0, \"qu10\": 1122.0, \"qu10l\": 1115.0, \"qu10u\": 1187.0, \"qu25\": 1257.0, \"qu25l\": 1232.0, \"qu25u\": 1312.0, \"qu50\": 1555.0, \"qu50l\": 1491.0, \"qu50u\": 1685.0, \"qu75\": 1934.0, \"qu75l\": 1863.0, \"qu75u\": 2012.0, \"qu90\": 2294.0, \"qu90l\": 2232.0, \"qu90u\": 2400.0, \"Domain\": 713, \"Sample1\": 399, \"Sample2\": 35}, {\"StichtagDatJahr\": \"2022-01-01T00:00:00\", \"RaumeinheitSort\": 4, \"RaumeinheitLang\": \"Quartiere\", \"GliederungSort\": 24, \"GliederungLang\": \"Enge\", \"ZimmerSort\": 2, \"ZimmerLang\": \"2 Zimmer\", \"GemeinnuetzigSort\": 0, \"GemeinnuetzigLang\": \"Alle Wohnungen\", \"EinheitSort\": 1, \"EinheitLang\": \"Wohnung\", \"PreisartSort\": 1, \"PreisartLang\": \"Netto\", \"mean\": 1840.0, \"meanl\": 1709.0, \"meanu\": 1971.0, \"qu10\": 996.0, \"qu10l\": 820.0, \"qu10u\": 1162.0, \"qu25\": 1269.0, \"qu25l\": 1163.0, \"qu25u\": 1466.0, \"qu50\": 1728.0, \"qu50l\": 1481.0, \"qu50u\": 1966.0, \"qu75\": 2400.0, \"qu75l\": 2093.0, \"qu75u\": 2786.0, \"qu90\": 2848.0, \"qu90l\": 2449.0, \"qu90u\": 3266.0, \"Domain\": 1009, \"Sample1\": 168, \"Sample2\": 56}, {\"StichtagDatJahr\": \"2022-01-01T00:00:00\", \"RaumeinheitSort\": 4, \"RaumeinheitLang\": \"Quartiere\", \"GliederungSort\": 24, \"GliederungLang\": \"Enge\", \"ZimmerSort\": 4, \"ZimmerLang\": \"4 Zimmer\", \"GemeinnuetzigSort\": 0, \"GemeinnuetzigLang\": \"Alle Wohnungen\", \"EinheitSort\": 1, \"EinheitLang\": \"Wohnung\", \"PreisartSort\": 1, \"PreisartLang\": \"Netto\", \"mean\": 2735.0, \"meanl\": 2542.0, \"meanu\": 2927.0, \"qu10\": 1187.0, \"qu10l\": 1078.0, \"qu10u\": 1761.0, \"qu25\": 2083.0, \"qu25l\": 1766.0, \"qu25u\": 2256.0, \"qu50\": 2500.0, \"qu50l\": 2298.0, \"qu50u\": 2995.0, \"qu75\": 3366.0, \"qu75l\": 3142.0, \"qu75u\": 3646.0, \"qu90\": 4016.0, \"qu90l\": 3609.0, \"qu90u\": 5739.0, \"Domain\": 1030, \"Sample1\": 227, \"Sample2\": 58}, {\"StichtagDatJahr\": \"2022-01-01T00:00:00\", \"RaumeinheitSort\": 4, \"RaumeinheitLang\": \"Quartiere\", \"GliederungSort\": 24, \"GliederungLang\": \"Enge\", \"ZimmerSort\": 3, \"ZimmerLang\": \"3 Zimmer\", \"GemeinnuetzigSort\": 0, \"GemeinnuetzigLang\": \"Alle Wohnungen\", \"EinheitSort\": 1, \"EinheitLang\": \"Wohnung\", \"PreisartSort\": 1, \"PreisartLang\": \"Netto\", \"mean\": 2220.0, \"meanl\": 2066.0, \"meanu\": 2374.0, \"qu10\": 1015.0, \"qu10l\": 937.0, \"qu10u\": 1122.0, \"qu25\": 1327.0, \"qu25l\": 1200.0, \"qu25u\": 1401.0, \"qu50\": 2080.0, \"qu50l\": 1765.0, \"qu50u\": 2408.0, \"qu75\": 3051.0, \"qu75l\": 2521.0, \"qu75u\": 3499.0, \"qu90\": 3636.0, \"qu90l\": 3499.0, \"qu90u\": 4085.0, \"Domain\": 1512, \"Sample1\": 307, \"Sample2\": 59}, {\"StichtagDatJahr\": \"2022-01-01T00:00:00\", \"RaumeinheitSort\": 4, \"RaumeinheitLang\": \"Quartiere\", \"GliederungSort\": 31, \"GliederungLang\": \"Alt-Wiedikon\", \"ZimmerSort\": 3, \"ZimmerLang\": \"3 Zimmer\", \"GemeinnuetzigSort\": 0, \"GemeinnuetzigLang\": \"Alle Wohnungen\", \"EinheitSort\": 1, \"EinheitLang\": \"Wohnung\", \"PreisartSort\": 1, \"PreisartLang\": \"Netto\", \"mean\": 1727.0, \"meanl\": 1647.0, \"meanu\": 1807.0, \"qu10\": 999.0, \"qu10l\": 902.0, \"qu10u\": 1106.0, \"qu25\": 1344.0, \"qu25l\": 1289.0, \"qu25u\": 1414.0, \"qu50\": 1790.0, \"qu50l\": 1536.0, \"qu50u\": 1877.0, \"qu75\": 2081.0, \"qu75l\": 1947.0, \"qu75u\": 2290.0, \"qu90\": 2449.0, \"qu90l\": 2261.0, \"qu90u\": 2600.0, \"Domain\": 3119, \"Sample1\": 594, \"Sample2\": 65}, {\"StichtagDatJahr\": \"2022-01-01T00:00:00\", \"RaumeinheitSort\": 4, \"RaumeinheitLang\": \"Quartiere\", \"GliederungSort\": 31, \"GliederungLang\": \"Alt-Wiedikon\", \"ZimmerSort\": 2, \"ZimmerLang\": \"2 Zimmer\", \"GemeinnuetzigSort\": 0, \"GemeinnuetzigLang\": \"Alle Wohnungen\", \"EinheitSort\": 1, \"EinheitLang\": \"Wohnung\", \"PreisartSort\": 1, \"PreisartLang\": \"Netto\", \"mean\": 1411.0, \"meanl\": 1355.0, \"meanu\": 1466.0, \"qu10\": 892.0, \"qu10l\": 856.0, \"qu10u\": 990.0, \"qu25\": 1110.0, \"qu25l\": 1048.0, \"qu25u\": 1232.0, \"qu50\": 1389.0, \"qu50l\": 1261.0, \"qu50u\": 1441.0, \"qu75\": 1586.0, \"qu75l\": 1503.0, \"qu75u\": 1711.0, \"qu90\": 1948.0, \"qu90l\": 1710.0, \"qu90u\": 2166.0, \"Domain\": 2558, \"Sample1\": 549, \"Sample2\": 74}, {\"StichtagDatJahr\": \"2022-01-01T00:00:00\", \"RaumeinheitSort\": 4, \"RaumeinheitLang\": \"Quartiere\", \"GliederungSort\": 31, \"GliederungLang\": \"Alt-Wiedikon\", \"ZimmerSort\": 4, \"ZimmerLang\": \"4 Zimmer\", \"GemeinnuetzigSort\": 0, \"GemeinnuetzigLang\": \"Alle Wohnungen\", \"EinheitSort\": 1, \"EinheitLang\": \"Wohnung\", \"PreisartSort\": 1, \"PreisartLang\": \"Netto\", \"mean\": 2156.0, \"meanl\": 2027.0, \"meanu\": 2285.0, \"qu10\": 1169.0, \"qu10l\": 1076.0, \"qu10u\": 1420.0, \"qu25\": 1797.0, \"qu25l\": 1429.0, \"qu25u\": 1872.0, \"qu50\": 2086.0, \"qu50l\": 1901.0, \"qu50u\": 2252.0, \"qu75\": 2564.0, \"qu75l\": 2252.0, \"qu75u\": 2917.0, \"qu90\": 3048.0, \"qu90l\": 2709.0, \"qu90u\": 3713.0, \"Domain\": 1289, \"Sample1\": 276, \"Sample2\": 55}, {\"StichtagDatJahr\": \"2022-01-01T00:00:00\", \"RaumeinheitSort\": 4, \"RaumeinheitLang\": \"Quartiere\", \"GliederungSort\": 33, \"GliederungLang\": \"Friesenberg\", \"ZimmerSort\": 3, \"ZimmerLang\": \"3 Zimmer\", \"GemeinnuetzigSort\": 0, \"GemeinnuetzigLang\": \"Alle Wohnungen\", \"EinheitSort\": 1, \"EinheitLang\": \"Wohnung\", \"PreisartSort\": 1, \"PreisartLang\": \"Netto\", \"mean\": 1197.0, \"meanl\": 1168.0, \"meanu\": 1226.0, \"qu10\": 728.0, \"qu10l\": 728.0, \"qu10u\": 730.0, \"qu25\": 784.0, \"qu25l\": 784.0, \"qu25u\": 801.0, \"qu50\": 1107.0, \"qu50l\": 1088.0, \"qu50u\": 1144.0, \"qu75\": 1367.0, \"qu75l\": 1343.0, \"qu75u\": 1404.0, \"qu90\": 1762.0, \"qu90l\": 1676.0, \"qu90u\": 2108.0, \"Domain\": 1326, \"Sample1\": 974, \"Sample2\": 38}, {\"StichtagDatJahr\": \"2022-01-01T00:00:00\", \"RaumeinheitSort\": 4, \"RaumeinheitLang\": \"Quartiere\", \"GliederungSort\": 33, \"GliederungLang\": \"Friesenberg\", \"ZimmerSort\": 2, \"ZimmerLang\": \"2 Zimmer\", \"GemeinnuetzigSort\": 0, \"GemeinnuetzigLang\": \"Alle Wohnungen\", \"EinheitSort\": 1, \"EinheitLang\": \"Wohnung\", \"PreisartSort\": 1, \"PreisartLang\": \"Netto\", \"mean\": 990.0, \"meanl\": 966.0, \"meanu\": 1015.0, \"qu10\": 559.0, \"qu10l\": 561.0, \"qu10u\": 563.0, \"qu25\": 632.0, \"qu25l\": 629.0, \"qu25u\": 633.0, \"qu50\": 932.0, \"qu50l\": 915.0, \"qu50u\": 956.0, \"qu75\": 1328.0, \"qu75l\": 1239.0, \"qu75u\": 1405.0, \"qu90\": 1521.0, \"qu90l\": 1441.0, \"qu90u\": 1625.0, \"Domain\": 817, \"Sample1\": 546, \"Sample2\": 30}, {\"StichtagDatJahr\": \"2022-01-01T00:00:00\", \"RaumeinheitSort\": 4, \"RaumeinheitLang\": \"Quartiere\", \"GliederungSort\": 33, \"GliederungLang\": \"Friesenberg\", \"ZimmerSort\": 4, \"ZimmerLang\": \"4 Zimmer\", \"GemeinnuetzigSort\": 0, \"GemeinnuetzigLang\": \"Alle Wohnungen\", \"EinheitSort\": 1, \"EinheitLang\": \"Wohnung\", \"PreisartSort\": 1, \"PreisartLang\": \"Netto\", \"mean\": 1474.0, \"meanl\": 1450.0, \"meanu\": 1498.0, \"qu10\": 881.0, \"qu10l\": 881.0, \"qu10u\": 899.0, \"qu25\": 1106.0, \"qu25l\": 1088.0, \"qu25u\": 1139.0, \"qu50\": 1332.0, \"qu50l\": 1316.0, \"qu50u\": 1363.0, \"qu75\": 1706.0, \"qu75l\": 1686.0, \"qu75u\": 1756.0, \"qu90\": 2000.0, \"qu90l\": 1951.0, \"qu90u\": 2144.0, \"Domain\": 1286, \"Sample1\": 913, \"Sample2\": 61}, {\"StichtagDatJahr\": \"2022-01-01T00:00:00\", \"RaumeinheitSort\": 4, \"RaumeinheitLang\": \"Quartiere\", \"GliederungSort\": 34, \"GliederungLang\": \"Sihlfeld\", \"ZimmerSort\": 4, \"ZimmerLang\": \"4 Zimmer\", \"GemeinnuetzigSort\": 0, \"GemeinnuetzigLang\": \"Alle Wohnungen\", \"EinheitSort\": 1, \"EinheitLang\": \"Wohnung\", \"PreisartSort\": 1, \"PreisartLang\": \"Netto\", \"mean\": 1867.0, \"meanl\": 1772.0, \"meanu\": 1962.0, \"qu10\": 931.0, \"qu10l\": 875.0, \"qu10u\": 969.0, \"qu25\": 1344.0, \"qu25l\": 1186.0, \"qu25u\": 1489.0, \"qu50\": 1650.0, \"qu50l\": 1562.0, \"qu50u\": 1800.0, \"qu75\": 2287.0, \"qu75l\": 2000.0, \"qu75u\": 2643.0, \"qu90\": 3015.0, \"qu90l\": 2665.0, \"qu90u\": 3288.0, \"Domain\": 1611, \"Sample1\": 255, \"Sample2\": 70}, {\"StichtagDatJahr\": \"2022-01-01T00:00:00\", \"RaumeinheitSort\": 4, \"RaumeinheitLang\": \"Quartiere\", \"GliederungSort\": 34, \"GliederungLang\": \"Sihlfeld\", \"ZimmerSort\": 3, \"ZimmerLang\": \"3 Zimmer\", \"GemeinnuetzigSort\": 0, \"GemeinnuetzigLang\": \"Alle Wohnungen\", \"EinheitSort\": 1, \"EinheitLang\": \"Wohnung\", \"PreisartSort\": 1, \"PreisartLang\": \"Netto\", \"mean\": 1490.0, \"meanl\": 1413.0, \"meanu\": 1566.0, \"qu10\": 719.0, \"qu10l\": 651.0, \"qu10u\": 790.0, \"qu25\": 893.0, \"qu25l\": 875.0, \"qu25u\": 1100.0, \"qu50\": 1471.0, \"qu50l\": 1385.0, \"qu50u\": 1557.0, \"qu75\": 1789.0, \"qu75l\": 1691.0, \"qu75u\": 2000.0, \"qu90\": 2400.0, \"qu90l\": 2050.0, \"qu90u\": 2710.0, \"Domain\": 5506, \"Sample1\": 1202, \"Sample2\": 74}, {\"StichtagDatJahr\": \"2022-01-01T00:00:00\", \"RaumeinheitSort\": 4, \"RaumeinheitLang\": \"Quartiere\", \"GliederungSort\": 34, \"GliederungLang\": \"Sihlfeld\", \"ZimmerSort\": 2, \"ZimmerLang\": \"2 Zimmer\", \"GemeinnuetzigSort\": 0, \"GemeinnuetzigLang\": \"Alle Wohnungen\", \"EinheitSort\": 1, \"EinheitLang\": \"Wohnung\", \"PreisartSort\": 1, \"PreisartLang\": \"Netto\", \"mean\": 1357.0, \"meanl\": 1291.0, \"meanu\": 1422.0, \"qu10\": 777.0, \"qu10l\": 709.0, \"qu10u\": 781.0, \"qu25\": 1034.0, \"qu25l\": 961.0, \"qu25u\": 1137.0, \"qu50\": 1297.0, \"qu50l\": 1226.0, \"qu50u\": 1357.0, \"qu75\": 1590.0, \"qu75l\": 1450.0, \"qu75u\": 1850.0, \"qu90\": 2036.0, \"qu90l\": 1870.0, \"qu90u\": 2321.0, \"Domain\": 2978, \"Sample1\": 610, \"Sample2\": 82}, {\"StichtagDatJahr\": \"2022-01-01T00:00:00\", \"RaumeinheitSort\": 4, \"RaumeinheitLang\": \"Quartiere\", \"GliederungSort\": 41, \"GliederungLang\": \"Werd\", \"ZimmerSort\": 2, \"ZimmerLang\": \"2 Zimmer\", \"GemeinnuetzigSort\": 0, \"GemeinnuetzigLang\": \"Alle Wohnungen\", \"EinheitSort\": 1, \"EinheitLang\": \"Wohnung\", \"PreisartSort\": 1, \"PreisartLang\": \"Netto\", \"mean\": 1714.0, \"meanl\": 1612.0, \"meanu\": 1817.0, \"qu10\": 1004.0, \"qu10l\": 850.0, \"qu10u\": 1300.0, \"qu25\": 1390.0, \"qu25l\": 1300.0, \"qu25u\": 1505.0, \"qu50\": 1676.0, \"qu50l\": 1584.0, \"qu50u\": 1804.0, \"qu75\": 1980.0, \"qu75l\": 1860.0, \"qu75u\": 2200.0, \"qu90\": 2251.0, \"qu90l\": 2087.0, \"qu90u\": 2788.0, \"Domain\": 573, \"Sample1\": 127, \"Sample2\": 56}, {\"StichtagDatJahr\": \"2022-01-01T00:00:00\", \"RaumeinheitSort\": 4, \"RaumeinheitLang\": \"Quartiere\", \"GliederungSort\": 41, \"GliederungLang\": \"Werd\", \"ZimmerSort\": 3, \"ZimmerLang\": \"3 Zimmer\", \"GemeinnuetzigSort\": 0, \"GemeinnuetzigLang\": \"Alle Wohnungen\", \"EinheitSort\": 1, \"EinheitLang\": \"Wohnung\", \"PreisartSort\": 1, \"PreisartLang\": \"Netto\", \"mean\": 1961.0, \"meanl\": 1859.0, \"meanu\": 2063.0, \"qu10\": 1160.0, \"qu10l\": 822.0, \"qu10u\": 1408.0, \"qu25\": 1470.0, \"qu25l\": 1405.0, \"qu25u\": 1663.0, \"qu50\": 1758.0, \"qu50l\": 1684.0, \"qu50u\": 1915.0, \"qu75\": 2464.0, \"qu75l\": 2124.0, \"qu75u\": 2712.0, \"qu90\": 2967.0, \"qu90l\": 2621.0, \"qu90u\": 3347.0, \"Domain\": 840, \"Sample1\": 188, \"Sample2\": 52}, {\"StichtagDatJahr\": \"2022-01-01T00:00:00\", \"RaumeinheitSort\": 4, \"RaumeinheitLang\": \"Quartiere\", \"GliederungSort\": 41, \"GliederungLang\": \"Werd\", \"ZimmerSort\": 4, \"ZimmerLang\": \"4 Zimmer\", \"GemeinnuetzigSort\": 0, \"GemeinnuetzigLang\": \"Alle Wohnungen\", \"EinheitSort\": 1, \"EinheitLang\": \"Wohnung\", \"PreisartSort\": 1, \"PreisartLang\": \"Netto\", \"mean\": 2355.0, \"meanl\": 2205.0, \"meanu\": 2506.0, \"qu10\": 1232.0, \"qu10l\": 1101.0, \"qu10u\": 1371.0, \"qu25\": 1545.0, \"qu25l\": 1392.0, \"qu25u\": 1655.0, \"qu50\": 2294.0, \"qu50l\": 1955.0, \"qu50u\": 2598.0, \"qu75\": 3127.0, \"qu75l\": 2671.0, \"qu75u\": 3545.0, \"qu90\": 3642.0, \"qu90l\": 3255.0, \"qu90u\": 4491.0, \"Domain\": 448, \"Sample1\": 69, \"Sample2\": 50}, {\"StichtagDatJahr\": \"2022-01-01T00:00:00\", \"RaumeinheitSort\": 4, \"RaumeinheitLang\": \"Quartiere\", \"GliederungSort\": 42, \"GliederungLang\": \"Langstrasse\", \"ZimmerSort\": 4, \"ZimmerLang\": \"4 Zimmer\", \"GemeinnuetzigSort\": 0, \"GemeinnuetzigLang\": \"Alle Wohnungen\", \"EinheitSort\": 1, \"EinheitLang\": \"Wohnung\", \"PreisartSort\": 1, \"PreisartLang\": \"Netto\", \"mean\": 2167.0, \"meanl\": 2056.0, \"meanu\": 2278.0, \"qu10\": 1429.0, \"qu10l\": 1063.0, \"qu10u\": 1580.0, \"qu25\": 1602.0, \"qu25l\": 1507.0, \"qu25u\": 1708.0, \"qu50\": 1980.0, \"qu50l\": 1681.0, \"qu50u\": 2139.0, \"qu75\": 2776.0, \"qu75l\": 2233.0, \"qu75u\": 3081.0, \"qu90\": 3172.0, \"qu90l\": 2980.0, \"qu90u\": 3958.0, \"Domain\": 858, \"Sample1\": 124, \"Sample2\": 41}, {\"StichtagDatJahr\": \"2022-01-01T00:00:00\", \"RaumeinheitSort\": 4, \"RaumeinheitLang\": \"Quartiere\", \"GliederungSort\": 42, \"GliederungLang\": \"Langstrasse\", \"ZimmerSort\": 2, \"ZimmerLang\": \"2 Zimmer\", \"GemeinnuetzigSort\": 0, \"GemeinnuetzigLang\": \"Alle Wohnungen\", \"EinheitSort\": 1, \"EinheitLang\": \"Wohnung\", \"PreisartSort\": 1, \"PreisartLang\": \"Netto\", \"mean\": 1621.0, \"meanl\": 1572.0, \"meanu\": 1669.0, \"qu10\": 899.0, \"qu10l\": 861.0, \"qu10u\": 1005.0, \"qu25\": 1197.0, \"qu25l\": 1086.0, \"qu25u\": 1324.0, \"qu50\": 1600.0, \"qu50l\": 1520.0, \"qu50u\": 1712.0, \"qu75\": 1903.0, \"qu75l\": 1790.0, \"qu75u\": 2057.0, \"qu90\": 2396.0, \"qu90l\": 2151.0, \"qu90u\": 2528.0, \"Domain\": 1760, \"Sample1\": 484, \"Sample2\": 69}, {\"StichtagDatJahr\": \"2022-01-01T00:00:00\", \"RaumeinheitSort\": 4, \"RaumeinheitLang\": \"Quartiere\", \"GliederungSort\": 42, \"GliederungLang\": \"Langstrasse\", \"ZimmerSort\": 3, \"ZimmerLang\": \"3 Zimmer\", \"GemeinnuetzigSort\": 0, \"GemeinnuetzigLang\": \"Alle Wohnungen\", \"EinheitSort\": 1, \"EinheitLang\": \"Wohnung\", \"PreisartSort\": 1, \"PreisartLang\": \"Netto\", \"mean\": 1808.0, \"meanl\": 1720.0, \"meanu\": 1897.0, \"qu10\": 976.0, \"qu10l\": 790.0, \"qu10u\": 1090.0, \"qu25\": 1203.0, \"qu25l\": 1150.0, \"qu25u\": 1380.0, \"qu50\": 1640.0, \"qu50l\": 1532.0, \"qu50u\": 1837.0, \"qu75\": 2164.0, \"qu75l\": 2059.0, \"qu75u\": 2470.0, \"qu90\": 3011.0, \"qu90l\": 2792.0, \"qu90u\": 3335.0, \"Domain\": 2402, \"Sample1\": 604, \"Sample2\": 60}, {\"StichtagDatJahr\": \"2022-01-01T00:00:00\", \"RaumeinheitSort\": 4, \"RaumeinheitLang\": \"Quartiere\", \"GliederungSort\": 44, \"GliederungLang\": \"Hard\", \"ZimmerSort\": 4, \"ZimmerLang\": \"4 Zimmer\", \"GemeinnuetzigSort\": 0, \"GemeinnuetzigLang\": \"Alle Wohnungen\", \"EinheitSort\": 1, \"EinheitLang\": \"Wohnung\", \"PreisartSort\": 1, \"PreisartLang\": \"Netto\", \"mean\": 1518.0, \"meanl\": 1465.0, \"meanu\": 1571.0, \"qu10\": 839.0, \"qu10l\": 821.0, \"qu10u\": 859.0, \"qu25\": 997.0, \"qu25l\": 965.0, \"qu25u\": 1028.0, \"qu50\": 1320.0, \"qu50l\": 1234.0, \"qu50u\": 1386.0, \"qu75\": 2050.0, \"qu75l\": 1731.0, \"qu75u\": 2246.0, \"qu90\": 2517.0, \"qu90l\": 2365.0, \"qu90u\": 2749.0, \"Domain\": 890, \"Sample1\": 469, \"Sample2\": 48}, {\"StichtagDatJahr\": \"2022-01-01T00:00:00\", \"RaumeinheitSort\": 4, \"RaumeinheitLang\": \"Quartiere\", \"GliederungSort\": 44, \"GliederungLang\": \"Hard\", \"ZimmerSort\": 2, \"ZimmerLang\": \"2 Zimmer\", \"GemeinnuetzigSort\": 0, \"GemeinnuetzigLang\": \"Alle Wohnungen\", \"EinheitSort\": 1, \"EinheitLang\": \"Wohnung\", \"PreisartSort\": 1, \"PreisartLang\": \"Netto\", \"mean\": 1174.0, \"meanl\": 1144.0, \"meanu\": 1203.0, \"qu10\": 664.0, \"qu10l\": 648.0, \"qu10u\": 695.0, \"qu25\": 833.0, \"qu25l\": 803.0, \"qu25u\": 865.0, \"qu50\": 1025.0, \"qu50l\": 990.0, \"qu50u\": 1092.0, \"qu75\": 1425.0, \"qu75l\": 1364.0, \"qu75u\": 1500.0, \"qu90\": 1828.0, \"qu90l\": 1751.0, \"qu90u\": 1926.0, \"Domain\": 1742, \"Sample1\": 754, \"Sample2\": 88}, {\"StichtagDatJahr\": \"2022-01-01T00:00:00\", \"RaumeinheitSort\": 4, \"RaumeinheitLang\": \"Quartiere\", \"GliederungSort\": 44, \"GliederungLang\": \"Hard\", \"ZimmerSort\": 3, \"ZimmerLang\": \"3 Zimmer\", \"GemeinnuetzigSort\": 0, \"GemeinnuetzigLang\": \"Alle Wohnungen\", \"EinheitSort\": 1, \"EinheitLang\": \"Wohnung\", \"PreisartSort\": 1, \"PreisartLang\": \"Netto\", \"mean\": 1288.0, \"meanl\": 1235.0, \"meanu\": 1341.0, \"qu10\": 700.0, \"qu10l\": 694.0, \"qu10u\": 715.0, \"qu25\": 838.0, \"qu25l\": 808.0, \"qu25u\": 857.0, \"qu50\": 1078.0, \"qu50l\": 1005.0, \"qu50u\": 1200.0, \"qu75\": 1619.0, \"qu75l\": 1461.0, \"qu75u\": 1699.0, \"qu90\": 2066.0, \"qu90l\": 1800.0, \"qu90u\": 2427.0, \"Domain\": 2897, \"Sample1\": 1351, \"Sample2\": 58}, {\"StichtagDatJahr\": \"2022-01-01T00:00:00\", \"RaumeinheitSort\": 4, \"RaumeinheitLang\": \"Quartiere\", \"GliederungSort\": 51, \"GliederungLang\": \"Gewerbeschule\", \"ZimmerSort\": 2, \"ZimmerLang\": \"2 Zimmer\", \"GemeinnuetzigSort\": 0, \"GemeinnuetzigLang\": \"Alle Wohnungen\", \"EinheitSort\": 1, \"EinheitLang\": \"Wohnung\", \"PreisartSort\": 1, \"PreisartLang\": \"Netto\", \"mean\": 1485.0, \"meanl\": 1413.0, \"meanu\": 1557.0, \"qu10\": 722.0, \"qu10l\": 720.0, \"qu10u\": 739.0, \"qu25\": 1072.0, \"qu25l\": 1040.0, \"qu25u\": 1195.0, \"qu50\": 1428.0, \"qu50l\": 1320.0, \"qu50u\": 1544.0, \"qu75\": 1849.0, \"qu75l\": 1648.0, \"qu75u\": 1900.0, \"qu90\": 2353.0, \"qu90l\": 1915.0, \"qu90u\": 2763.0, \"Domain\": 1126, \"Sample1\": 350, \"Sample2\": 59}, {\"StichtagDatJahr\": \"2022-01-01T00:00:00\", \"RaumeinheitSort\": 4, \"RaumeinheitLang\": \"Quartiere\", \"GliederungSort\": 51, \"GliederungLang\": \"Gewerbeschule\", \"ZimmerSort\": 3, \"ZimmerLang\": \"3 Zimmer\", \"GemeinnuetzigSort\": 0, \"GemeinnuetzigLang\": \"Alle Wohnungen\", \"EinheitSort\": 1, \"EinheitLang\": \"Wohnung\", \"PreisartSort\": 1, \"PreisartLang\": \"Netto\", \"mean\": 1484.0, \"meanl\": 1390.0, \"meanu\": 1578.0, \"qu10\": 720.0, \"qu10l\": 681.0, \"qu10u\": 777.0, \"qu25\": 856.0, \"qu25l\": 800.0, \"qu25u\": 925.0, \"qu50\": 1479.0, \"qu50l\": 1284.0, \"qu50u\": 1650.0, \"qu75\": 1909.0, \"qu75l\": 1718.0, \"qu75u\": 2156.0, \"qu90\": 2471.0, \"qu90l\": 2109.0, \"qu90u\": 2843.0, \"Domain\": 1985, \"Sample1\": 648, \"Sample2\": 46}, {\"StichtagDatJahr\": \"2022-01-01T00:00:00\", \"RaumeinheitSort\": 4, \"RaumeinheitLang\": \"Quartiere\", \"GliederungSort\": 51, \"GliederungLang\": \"Gewerbeschule\", \"ZimmerSort\": 4, \"ZimmerLang\": \"4 Zimmer\", \"GemeinnuetzigSort\": 0, \"GemeinnuetzigLang\": \"Alle Wohnungen\", \"EinheitSort\": 1, \"EinheitLang\": \"Wohnung\", \"PreisartSort\": 1, \"PreisartLang\": \"Netto\", \"mean\": 1734.0, \"meanl\": 1618.0, \"meanu\": 1850.0, \"qu10\": 915.0, \"qu10l\": 857.0, \"qu10u\": 945.0, \"qu25\": 1241.0, \"qu25l\": 1009.0, \"qu25u\": 1452.0, \"qu50\": 1574.0, \"qu50l\": 1453.0, \"qu50u\": 1714.0, \"qu75\": 2191.0, \"qu75l\": 1770.0, \"qu75u\": 2345.0, \"qu90\": 2600.0, \"qu90l\": 2320.0, \"qu90u\": 2980.0, \"Domain\": 889, \"Sample1\": 303, \"Sample2\": 36}, {\"StichtagDatJahr\": \"2022-01-01T00:00:00\", \"RaumeinheitSort\": 4, \"RaumeinheitLang\": \"Quartiere\", \"GliederungSort\": 52, \"GliederungLang\": \"Escher Wyss\", \"ZimmerSort\": 2, \"ZimmerLang\": \"2 Zimmer\", \"GemeinnuetzigSort\": 0, \"GemeinnuetzigLang\": \"Alle Wohnungen\", \"EinheitSort\": 1, \"EinheitLang\": \"Wohnung\", \"PreisartSort\": 1, \"PreisartLang\": \"Netto\", \"mean\": 1822.0, \"meanl\": 1756.0, \"meanu\": 1888.0, \"qu10\": 979.0, \"qu10l\": 864.0, \"qu10u\": 1029.0, \"qu25\": 1240.0, \"qu25l\": 1092.0, \"qu25u\": 1400.0, \"qu50\": 1898.0, \"qu50l\": 1751.0, \"qu50u\": 2000.0, \"qu75\": 2299.0, \"qu75l\": 2183.0, \"qu75u\": 2430.0, \"qu90\": 2629.0, \"qu90l\": 2550.0, \"qu90u\": 2710.0, \"Domain\": 569, \"Sample1\": 276, \"Sample2\": 34}, {\"StichtagDatJahr\": \"2022-01-01T00:00:00\", \"RaumeinheitSort\": 4, \"RaumeinheitLang\": \"Quartiere\", \"GliederungSort\": 52, \"GliederungLang\": \"Escher Wyss\", \"ZimmerSort\": 4, \"ZimmerLang\": \"4 Zimmer\", \"GemeinnuetzigSort\": 0, \"GemeinnuetzigLang\": \"Alle Wohnungen\", \"EinheitSort\": 1, \"EinheitLang\": \"Wohnung\", \"PreisartSort\": 1, \"PreisartLang\": \"Netto\", \"mean\": 2649.0, \"meanl\": 2495.0, \"meanu\": 2804.0, \"qu10\": 1385.0, \"qu10l\": 1292.0, \"qu10u\": 1564.0, \"qu25\": 1995.0, \"qu25l\": 1760.0, \"qu25u\": 2142.0, \"qu50\": 2504.0, \"qu50l\": 2279.0, \"qu50u\": 2930.0, \"qu75\": 3364.0, \"qu75l\": 3166.0, \"qu75u\": 3563.0, \"qu90\": 3935.0, \"qu90l\": 3511.0, \"qu90u\": 4571.0, \"Domain\": 499, \"Sample1\": 180, \"Sample2\": 32}, {\"StichtagDatJahr\": \"2022-01-01T00:00:00\", \"RaumeinheitSort\": 4, \"RaumeinheitLang\": \"Quartiere\", \"GliederungSort\": 52, \"GliederungLang\": \"Escher Wyss\", \"ZimmerSort\": 3, \"ZimmerLang\": \"3 Zimmer\", \"GemeinnuetzigSort\": 0, \"GemeinnuetzigLang\": \"Alle Wohnungen\", \"EinheitSort\": 1, \"EinheitLang\": \"Wohnung\", \"PreisartSort\": 1, \"PreisartLang\": \"Netto\", \"mean\": 2347.0, \"meanl\": 2225.0, \"meanu\": 2469.0, \"qu10\": 915.0, \"qu10l\": 849.0, \"qu10u\": 918.0, \"qu25\": 1679.0, \"qu25l\": 1483.0, \"qu25u\": 1855.0, \"qu50\": 2386.0, \"qu50l\": 2084.0, \"qu50u\": 2548.0, \"qu75\": 2888.0, \"qu75l\": 2782.0, \"qu75u\": 3009.0, \"qu90\": 3300.0, \"qu90l\": 3126.0, \"qu90u\": 3521.0, \"Domain\": 836, \"Sample1\": 399, \"Sample2\": 39}, {\"StichtagDatJahr\": \"2022-01-01T00:00:00\", \"RaumeinheitSort\": 4, \"RaumeinheitLang\": \"Quartiere\", \"GliederungSort\": 61, \"GliederungLang\": \"Unterstrass\", \"ZimmerSort\": 3, \"ZimmerLang\": \"3 Zimmer\", \"GemeinnuetzigSort\": 0, \"GemeinnuetzigLang\": \"Alle Wohnungen\", \"EinheitSort\": 1, \"EinheitLang\": \"Wohnung\", \"PreisartSort\": 1, \"PreisartLang\": \"Netto\", \"mean\": 1533.0, \"meanl\": 1454.0, \"meanu\": 1611.0, \"qu10\": 785.0, \"qu10l\": 675.0, \"qu10u\": 815.0, \"qu25\": 992.0, \"qu25l\": 990.0, \"qu25u\": 1016.0, \"qu50\": 1380.0, \"qu50l\": 1321.0, \"qu50u\": 1450.0, \"qu75\": 2050.0, \"qu75l\": 1800.0, \"qu75u\": 2211.0, \"qu90\": 2557.0, \"qu90l\": 2254.0, \"qu90u\": 2770.0, \"Domain\": 4213, \"Sample1\": 1324, \"Sample2\": 66}, {\"StichtagDatJahr\": \"2022-01-01T00:00:00\", \"RaumeinheitSort\": 4, \"RaumeinheitLang\": \"Quartiere\", \"GliederungSort\": 61, \"GliederungLang\": \"Unterstrass\", \"ZimmerSort\": 4, \"ZimmerLang\": \"4 Zimmer\", \"GemeinnuetzigSort\": 0, \"GemeinnuetzigLang\": \"Alle Wohnungen\", \"EinheitSort\": 1, \"EinheitLang\": \"Wohnung\", \"PreisartSort\": 1, \"PreisartLang\": \"Netto\", \"mean\": 1994.0, \"meanl\": 1932.0, \"meanu\": 2056.0, \"qu10\": 1139.0, \"qu10l\": 1090.0, \"qu10u\": 1185.0, \"qu25\": 1292.0, \"qu25l\": 1256.0, \"qu25u\": 1362.0, \"qu50\": 1809.0, \"qu50l\": 1742.0, \"qu50u\": 1923.0, \"qu75\": 2593.0, \"qu75l\": 2442.0, \"qu75u\": 2700.0, \"qu90\": 3200.0, \"qu90l\": 2900.0, \"qu90u\": 3450.0, \"Domain\": 2442, \"Sample1\": 814, \"Sample2\": 71}, {\"StichtagDatJahr\": \"2022-01-01T00:00:00\", \"RaumeinheitSort\": 4, \"RaumeinheitLang\": \"Quartiere\", \"GliederungSort\": 61, \"GliederungLang\": \"Unterstrass\", \"ZimmerSort\": 2, \"ZimmerLang\": \"2 Zimmer\", \"GemeinnuetzigSort\": 0, \"GemeinnuetzigLang\": \"Alle Wohnungen\", \"EinheitSort\": 1, \"EinheitLang\": \"Wohnung\", \"PreisartSort\": 1, \"PreisartLang\": \"Netto\", \"mean\": 1368.0, \"meanl\": 1292.0, \"meanu\": 1443.0, \"qu10\": 748.0, \"qu10l\": 679.0, \"qu10u\": 810.0, \"qu25\": 1027.0, \"qu25l\": 889.0, \"qu25u\": 1203.0, \"qu50\": 1302.0, \"qu50l\": 1260.0, \"qu50u\": 1423.0, \"qu75\": 1687.0, \"qu75l\": 1526.0, \"qu75u\": 1872.0, \"qu90\": 2119.0, \"qu90l\": 1871.0, \"qu90u\": 2250.0, \"Domain\": 2327, \"Sample1\": 568, \"Sample2\": 52}, {\"StichtagDatJahr\": \"2022-01-01T00:00:00\", \"RaumeinheitSort\": 4, \"RaumeinheitLang\": \"Quartiere\", \"GliederungSort\": 63, \"GliederungLang\": \"Oberstrass\", \"ZimmerSort\": 3, \"ZimmerLang\": \"3 Zimmer\", \"GemeinnuetzigSort\": 0, \"GemeinnuetzigLang\": \"Alle Wohnungen\", \"EinheitSort\": 1, \"EinheitLang\": \"Wohnung\", \"PreisartSort\": 1, \"PreisartLang\": \"Netto\", \"mean\": 1989.0, \"meanl\": 1883.0, \"meanu\": 2095.0, \"qu10\": 1082.0, \"qu10l\": 835.0, \"qu10u\": 1161.0, \"qu25\": 1470.0, \"qu25l\": 1219.0, \"qu25u\": 1580.0, \"qu50\": 2000.0, \"qu50l\": 1800.0, \"qu50u\": 2200.0, \"qu75\": 2573.0, \"qu75l\": 2262.0, \"qu75u\": 2755.0, \"qu90\": 2976.0, \"qu90l\": 2700.0, \"qu90u\": 3065.0, \"Domain\": 1200, \"Sample1\": 249, \"Sample2\": 64}, {\"StichtagDatJahr\": \"2022-01-01T00:00:00\", \"RaumeinheitSort\": 4, \"RaumeinheitLang\": \"Quartiere\", \"GliederungSort\": 63, \"GliederungLang\": \"Oberstrass\", \"ZimmerSort\": 4, \"ZimmerLang\": \"4 Zimmer\", \"GemeinnuetzigSort\": 0, \"GemeinnuetzigLang\": \"Alle Wohnungen\", \"EinheitSort\": 1, \"EinheitLang\": \"Wohnung\", \"PreisartSort\": 1, \"PreisartLang\": \"Netto\", \"mean\": 2385.0, \"meanl\": 2176.0, \"meanu\": 2593.0, \"qu10\": 1094.0, \"qu10l\": 893.0, \"qu10u\": 1226.0, \"qu25\": 1340.0, \"qu25l\": 1211.0, \"qu25u\": 1882.0, \"qu50\": 2275.0, \"qu50l\": 1973.0, \"qu50u\": 2585.0, \"qu75\": 2922.0, \"qu75l\": 2657.0, \"qu75u\": 3425.0, \"qu90\": 3700.0, \"qu90l\": 3426.0, \"qu90u\": 5947.0, \"Domain\": 1067, \"Sample1\": 201, \"Sample2\": 59}, {\"StichtagDatJahr\": \"2022-01-01T00:00:00\", \"RaumeinheitSort\": 4, \"RaumeinheitLang\": \"Quartiere\", \"GliederungSort\": 63, \"GliederungLang\": \"Oberstrass\", \"ZimmerSort\": 2, \"ZimmerLang\": \"2 Zimmer\", \"GemeinnuetzigSort\": 0, \"GemeinnuetzigLang\": \"Alle Wohnungen\", \"EinheitSort\": 1, \"EinheitLang\": \"Wohnung\", \"PreisartSort\": 1, \"PreisartLang\": \"Netto\", \"mean\": 1644.0, \"meanl\": 1496.0, \"meanu\": 1793.0, \"qu10\": 1136.0, \"qu10l\": 1036.0, \"qu10u\": 1145.0, \"qu25\": 1300.0, \"qu25l\": 1145.0, \"qu25u\": 1423.0, \"qu50\": 1534.0, \"qu50l\": 1417.0, \"qu50u\": 1657.0, \"qu75\": 1804.0, \"qu75l\": 1663.0, \"qu75u\": 2000.0, \"qu90\": 2142.0, \"qu90l\": 1882.0, \"qu90u\": 3098.0, \"Domain\": 927, \"Sample1\": 109, \"Sample2\": 54}, {\"StichtagDatJahr\": \"2022-01-01T00:00:00\", \"RaumeinheitSort\": 4, \"RaumeinheitLang\": \"Quartiere\", \"GliederungSort\": 71, \"GliederungLang\": \"Fluntern\", \"ZimmerSort\": 4, \"ZimmerLang\": \"4 Zimmer\", \"GemeinnuetzigSort\": 0, \"GemeinnuetzigLang\": \"Alle Wohnungen\", \"EinheitSort\": 1, \"EinheitLang\": \"Wohnung\", \"PreisartSort\": 1, \"PreisartLang\": \"Netto\", \"mean\": 2813.0, \"meanl\": 2622.0, \"meanu\": 3005.0, \"qu10\": 1554.0, \"qu10l\": 1373.0, \"qu10u\": 2000.0, \"qu25\": 2002.0, \"qu25l\": 1680.0, \"qu25u\": 2280.0, \"qu50\": 2901.0, \"qu50l\": 2322.0, \"qu50u\": 3050.0, \"qu75\": 3425.0, \"qu75l\": 3050.0, \"qu75u\": 3829.0, \"qu90\": 4306.0, \"qu90l\": 3525.0, \"qu90u\": 4518.0, \"Domain\": 744, \"Sample1\": 149, \"Sample2\": 35}, {\"StichtagDatJahr\": \"2022-01-01T00:00:00\", \"RaumeinheitSort\": 4, \"RaumeinheitLang\": \"Quartiere\", \"GliederungSort\": 71, \"GliederungLang\": \"Fluntern\", \"ZimmerSort\": 2, \"ZimmerLang\": \"2 Zimmer\", \"GemeinnuetzigSort\": 0, \"GemeinnuetzigLang\": \"Alle Wohnungen\", \"EinheitSort\": 1, \"EinheitLang\": \"Wohnung\", \"PreisartSort\": 1, \"PreisartLang\": \"Netto\", \"mean\": 1734.0, \"meanl\": 1615.0, \"meanu\": 1854.0, \"qu10\": 1095.0, \"qu10l\": 990.0, \"qu10u\": 1227.0, \"qu25\": 1294.0, \"qu25l\": 1227.0, \"qu25u\": 1399.0, \"qu50\": 1674.0, \"qu50l\": 1400.0, \"qu50u\": 1862.0, \"qu75\": 2101.0, \"qu75l\": 1898.0, \"qu75u\": 2385.0, \"qu90\": 2672.0, \"qu90l\": 2352.0, \"qu90u\": 2836.0, \"Domain\": 568, \"Sample1\": 113, \"Sample2\": 34}, {\"StichtagDatJahr\": \"2022-01-01T00:00:00\", \"RaumeinheitSort\": 4, \"RaumeinheitLang\": \"Quartiere\", \"GliederungSort\": 71, \"GliederungLang\": \"Fluntern\", \"ZimmerSort\": 3, \"ZimmerLang\": \"3 Zimmer\", \"GemeinnuetzigSort\": 0, \"GemeinnuetzigLang\": \"Alle Wohnungen\", \"EinheitSort\": 1, \"EinheitLang\": \"Wohnung\", \"PreisartSort\": 1, \"PreisartLang\": \"Netto\", \"mean\": 2544.0, \"meanl\": 2414.0, \"meanu\": 2674.0, \"qu10\": 1407.0, \"qu10l\": 1185.0, \"qu10u\": 1652.0, \"qu25\": 1881.0, \"qu25l\": 1498.0, \"qu25u\": 2015.0, \"qu50\": 2457.0, \"qu50l\": 2114.0, \"qu50u\": 2700.0, \"qu75\": 3201.0, \"qu75l\": 2849.0, \"qu75u\": 3594.0, \"qu90\": 3859.0, \"qu90l\": 3580.0, \"qu90u\": 4448.0, \"Domain\": 770, \"Sample1\": 182, \"Sample2\": 51}, {\"StichtagDatJahr\": \"2022-01-01T00:00:00\", \"RaumeinheitSort\": 4, \"RaumeinheitLang\": \"Quartiere\", \"GliederungSort\": 72, \"GliederungLang\": \"Hottingen\", \"ZimmerSort\": 4, \"ZimmerLang\": \"4 Zimmer\", \"GemeinnuetzigSort\": 0, \"GemeinnuetzigLang\": \"Alle Wohnungen\", \"EinheitSort\": 1, \"EinheitLang\": \"Wohnung\", \"PreisartSort\": 1, \"PreisartLang\": \"Netto\", \"mean\": 2718.0, \"meanl\": 2512.0, \"meanu\": 2924.0, \"qu10\": 1303.0, \"qu10l\": 1147.0, \"qu10u\": 1832.0, \"qu25\": 1950.0, \"qu25l\": 1576.0, \"qu25u\": 2319.0, \"qu50\": 2641.0, \"qu50l\": 2305.0, \"qu50u\": 2994.0, \"qu75\": 3113.0, \"qu75l\": 3006.0, \"qu75u\": 3846.0, \"qu90\": 4243.0, \"qu90l\": 3570.0, \"qu90u\": 4572.0, \"Domain\": 1094, \"Sample1\": 145, \"Sample2\": 65}, {\"StichtagDatJahr\": \"2022-01-01T00:00:00\", \"RaumeinheitSort\": 4, \"RaumeinheitLang\": \"Quartiere\", \"GliederungSort\": 72, \"GliederungLang\": \"Hottingen\", \"ZimmerSort\": 2, \"ZimmerLang\": \"2 Zimmer\", \"GemeinnuetzigSort\": 0, \"GemeinnuetzigLang\": \"Alle Wohnungen\", \"EinheitSort\": 1, \"EinheitLang\": \"Wohnung\", \"PreisartSort\": 1, \"PreisartLang\": \"Netto\", \"mean\": 1646.0, \"meanl\": 1548.0, \"meanu\": 1745.0, \"qu10\": 1074.0, \"qu10l\": 819.0, \"qu10u\": 1168.0, \"qu25\": 1230.0, \"qu25l\": 1161.0, \"qu25u\": 1455.0, \"qu50\": 1600.0, \"qu50l\": 1487.0, \"qu50u\": 1853.0, \"qu75\": 1993.0, \"qu75l\": 1875.0, \"qu75u\": 2166.0, \"qu90\": 2246.0, \"qu90l\": 2009.0, \"qu90u\": 2349.0, \"Domain\": 987, \"Sample1\": 180, \"Sample2\": 55}, {\"StichtagDatJahr\": \"2022-01-01T00:00:00\", \"RaumeinheitSort\": 4, \"RaumeinheitLang\": \"Quartiere\", \"GliederungSort\": 72, \"GliederungLang\": \"Hottingen\", \"ZimmerSort\": 3, \"ZimmerLang\": \"3 Zimmer\", \"GemeinnuetzigSort\": 0, \"GemeinnuetzigLang\": \"Alle Wohnungen\", \"EinheitSort\": 1, \"EinheitLang\": \"Wohnung\", \"PreisartSort\": 1, \"PreisartLang\": \"Netto\", \"mean\": 2182.0, \"meanl\": 2009.0, \"meanu\": 2354.0, \"qu10\": 1342.0, \"qu10l\": 869.0, \"qu10u\": 1609.0, \"qu25\": 1750.0, \"qu25l\": 1487.0, \"qu25u\": 1891.0, \"qu50\": 2200.0, \"qu50l\": 1955.0, \"qu50u\": 2287.0, \"qu75\": 2560.0, \"qu75l\": 2362.0, \"qu75u\": 2660.0, \"qu90\": 2846.0, \"qu90l\": 2650.0, \"qu90u\": 4090.0, \"Domain\": 1301, \"Sample1\": 198, \"Sample2\": 69}, {\"StichtagDatJahr\": \"2022-01-01T00:00:00\", \"RaumeinheitSort\": 4, \"RaumeinheitLang\": \"Quartiere\", \"GliederungSort\": 73, \"GliederungLang\": \"Hirslanden\", \"ZimmerSort\": 4, \"ZimmerLang\": \"4 Zimmer\", \"GemeinnuetzigSort\": 0, \"GemeinnuetzigLang\": \"Alle Wohnungen\", \"EinheitSort\": 1, \"EinheitLang\": \"Wohnung\", \"PreisartSort\": 1, \"PreisartLang\": \"Netto\", \"mean\": 2149.0, \"meanl\": 1882.0, \"meanu\": 2416.0, \"qu10\": 1088.0, \"qu10l\": 1055.0, \"qu10u\": 1136.0, \"qu25\": 1230.0, \"qu25l\": 1142.0, \"qu25u\": 1750.0, \"qu50\": 1969.0, \"qu50l\": 1614.0, \"qu50u\": 2380.0, \"qu75\": 2711.0, \"qu75l\": 2348.0, \"qu75u\": 3196.0, \"qu90\": 3414.0, \"qu90l\": 2689.0, \"qu90u\": 5500.0, \"Domain\": 763, \"Sample1\": 79, \"Sample2\": 41}, {\"StichtagDatJahr\": \"2022-01-01T00:00:00\", \"RaumeinheitSort\": 4, \"RaumeinheitLang\": \"Quartiere\", \"GliederungSort\": 73, \"GliederungLang\": \"Hirslanden\", \"ZimmerSort\": 2, \"ZimmerLang\": \"2 Zimmer\", \"GemeinnuetzigSort\": 0, \"GemeinnuetzigLang\": \"Alle Wohnungen\", \"EinheitSort\": 1, \"EinheitLang\": \"Wohnung\", \"PreisartSort\": 1, \"PreisartLang\": \"Netto\", \"mean\": 1604.0, \"meanl\": 1509.0, \"meanu\": 1700.0, \"qu10\": 959.0, \"qu10l\": 880.0, \"qu10u\": 960.0, \"qu25\": 1158.0, \"qu25l\": 1038.0, \"qu25u\": 1352.0, \"qu50\": 1554.0, \"qu50l\": 1400.0, \"qu50u\": 1602.0, \"qu75\": 2028.0, \"qu75l\": 1617.0, \"qu75u\": 2317.0, \"qu90\": 2350.0, \"qu90l\": 2300.0, \"qu90u\": 3124.0, \"Domain\": 666, \"Sample1\": 114, \"Sample2\": 44}, {\"StichtagDatJahr\": \"2022-01-01T00:00:00\", \"RaumeinheitSort\": 4, \"RaumeinheitLang\": \"Quartiere\", \"GliederungSort\": 73, \"GliederungLang\": \"Hirslanden\", \"ZimmerSort\": 3, \"ZimmerLang\": \"3 Zimmer\", \"GemeinnuetzigSort\": 0, \"GemeinnuetzigLang\": \"Alle Wohnungen\", \"EinheitSort\": 1, \"EinheitLang\": \"Wohnung\", \"PreisartSort\": 1, \"PreisartLang\": \"Netto\", \"mean\": 1743.0, \"meanl\": 1641.0, \"meanu\": 1844.0, \"qu10\": 943.0, \"qu10l\": 887.0, \"qu10u\": 1061.0, \"qu25\": 1310.0, \"qu25l\": 1075.0, \"qu25u\": 1460.0, \"qu50\": 1713.0, \"qu50l\": 1564.0, \"qu50u\": 1904.0, \"qu75\": 2106.0, \"qu75l\": 2012.0, \"qu75u\": 2335.0, \"qu90\": 2465.0, \"qu90l\": 2231.0, \"qu90u\": 2800.0, \"Domain\": 1264, \"Sample1\": 187, \"Sample2\": 52}, {\"StichtagDatJahr\": \"2022-01-01T00:00:00\", \"RaumeinheitSort\": 4, \"RaumeinheitLang\": \"Quartiere\", \"GliederungSort\": 74, \"GliederungLang\": \"Witikon\", \"ZimmerSort\": 2, \"ZimmerLang\": \"2 Zimmer\", \"GemeinnuetzigSort\": 0, \"GemeinnuetzigLang\": \"Alle Wohnungen\", \"EinheitSort\": 1, \"EinheitLang\": \"Wohnung\", \"PreisartSort\": 1, \"PreisartLang\": \"Netto\", \"mean\": 1347.0, \"meanl\": 1269.0, \"meanu\": 1424.0, \"qu10\": 769.0, \"qu10l\": 714.0, \"qu10u\": 921.0, \"qu25\": 1039.0, \"qu25l\": 828.0, \"qu25u\": 1203.0, \"qu50\": 1358.0, \"qu50l\": 1271.0, \"qu50u\": 1460.0, \"qu75\": 1650.0, \"qu75l\": 1519.0, \"qu75u\": 1702.0, \"qu90\": 1772.0, \"qu90l\": 1676.0, \"qu90u\": 1963.0, \"Domain\": 732, \"Sample1\": 178, \"Sample2\": 53}, {\"StichtagDatJahr\": \"2022-01-01T00:00:00\", \"RaumeinheitSort\": 4, \"RaumeinheitLang\": \"Quartiere\", \"GliederungSort\": 74, \"GliederungLang\": \"Witikon\", \"ZimmerSort\": 3, \"ZimmerLang\": \"3 Zimmer\", \"GemeinnuetzigSort\": 0, \"GemeinnuetzigLang\": \"Alle Wohnungen\", \"EinheitSort\": 1, \"EinheitLang\": \"Wohnung\", \"PreisartSort\": 1, \"PreisartLang\": \"Netto\", \"mean\": 1583.0, \"meanl\": 1509.0, \"meanu\": 1657.0, \"qu10\": 1054.0, \"qu10l\": 880.0, \"qu10u\": 1083.0, \"qu25\": 1230.0, \"qu25l\": 1107.0, \"qu25u\": 1411.0, \"qu50\": 1580.0, \"qu50l\": 1440.0, \"qu50u\": 1680.0, \"qu75\": 1785.0, \"qu75l\": 1680.0, \"qu75u\": 1900.0, \"qu90\": 2263.0, \"qu90l\": 1891.0, \"qu90u\": 2500.0, \"Domain\": 1510, \"Sample1\": 335, \"Sample2\": 51}, {\"StichtagDatJahr\": \"2022-01-01T00:00:00\", \"RaumeinheitSort\": 4, \"RaumeinheitLang\": \"Quartiere\", \"GliederungSort\": 74, \"GliederungLang\": \"Witikon\", \"ZimmerSort\": 4, \"ZimmerLang\": \"4 Zimmer\", \"GemeinnuetzigSort\": 0, \"GemeinnuetzigLang\": \"Alle Wohnungen\", \"EinheitSort\": 1, \"EinheitLang\": \"Wohnung\", \"PreisartSort\": 1, \"PreisartLang\": \"Netto\", \"mean\": 2181.0, \"meanl\": 2021.0, \"meanu\": 2340.0, \"qu10\": 1380.0, \"qu10l\": 1200.0, \"qu10u\": 1525.0, \"qu25\": 1669.0, \"qu25l\": 1527.0, \"qu25u\": 1803.0, \"qu50\": 1929.0, \"qu50l\": 1823.0, \"qu50u\": 1997.0, \"qu75\": 2290.0, \"qu75l\": 2137.0, \"qu75u\": 2665.0, \"qu90\": 3228.0, \"qu90l\": 2594.0, \"qu90u\": 4669.0, \"Domain\": 1161, \"Sample1\": 240, \"Sample2\": 49}, {\"StichtagDatJahr\": \"2022-01-01T00:00:00\", \"RaumeinheitSort\": 4, \"RaumeinheitLang\": \"Quartiere\", \"GliederungSort\": 81, \"GliederungLang\": \"Seefeld\", \"ZimmerSort\": 3, \"ZimmerLang\": \"3 Zimmer\", \"GemeinnuetzigSort\": 0, \"GemeinnuetzigLang\": \"Alle Wohnungen\", \"EinheitSort\": 1, \"EinheitLang\": \"Wohnung\", \"PreisartSort\": 1, \"PreisartLang\": \"Netto\", \"mean\": 2454.0, \"meanl\": 2319.0, \"meanu\": 2589.0, \"qu10\": 1263.0, \"qu10l\": 1077.0, \"qu10u\": 1372.0, \"qu25\": 1717.0, \"qu25l\": 1379.0, \"qu25u\": 1970.0, \"qu50\": 2464.0, \"qu50l\": 2270.0, \"qu50u\": 2688.0, \"qu75\": 2928.0, \"qu75l\": 2744.0, \"qu75u\": 3188.0, \"qu90\": 3807.0, \"qu90l\": 3089.0, \"qu90u\": 4096.0, \"Domain\": 1167, \"Sample1\": 267, \"Sample2\": 45}, {\"StichtagDatJahr\": \"2022-01-01T00:00:00\", \"RaumeinheitSort\": 4, \"RaumeinheitLang\": \"Quartiere\", \"GliederungSort\": 81, \"GliederungLang\": \"Seefeld\", \"ZimmerSort\": 4, \"ZimmerLang\": \"4 Zimmer\", \"GemeinnuetzigSort\": 0, \"GemeinnuetzigLang\": \"Alle Wohnungen\", \"EinheitSort\": 1, \"EinheitLang\": \"Wohnung\", \"PreisartSort\": 1, \"PreisartLang\": \"Netto\", \"mean\": 2861.0, \"meanl\": 2693.0, \"meanu\": 3029.0, \"qu10\": 1471.0, \"qu10l\": 1350.0, \"qu10u\": 1616.0, \"qu25\": 1833.0, \"qu25l\": 1710.0, \"qu25u\": 2268.0, \"qu50\": 2710.0, \"qu50l\": 2508.0, \"qu50u\": 3068.0, \"qu75\": 3810.0, \"qu75l\": 3234.0, \"qu75u\": 4167.0, \"qu90\": 4269.0, \"qu90l\": 3911.0, \"qu90u\": 4776.0, \"Domain\": 549, \"Sample1\": 119, \"Sample2\": 38}, {\"StichtagDatJahr\": \"2022-01-01T00:00:00\", \"RaumeinheitSort\": 4, \"RaumeinheitLang\": \"Quartiere\", \"GliederungSort\": 81, \"GliederungLang\": \"Seefeld\", \"ZimmerSort\": 2, \"ZimmerLang\": \"2 Zimmer\", \"GemeinnuetzigSort\": 0, \"GemeinnuetzigLang\": \"Alle Wohnungen\", \"EinheitSort\": 1, \"EinheitLang\": \"Wohnung\", \"PreisartSort\": 1, \"PreisartLang\": \"Netto\", \"mean\": 1947.0, \"meanl\": 1847.0, \"meanu\": 2048.0, \"qu10\": 1053.0, \"qu10l\": 944.0, \"qu10u\": 1261.0, \"qu25\": 1403.0, \"qu25l\": 1261.0, \"qu25u\": 1533.0, \"qu50\": 1950.0, \"qu50l\": 1800.0, \"qu50u\": 2100.0, \"qu75\": 2399.0, \"qu75l\": 2167.0, \"qu75u\": 2664.0, \"qu90\": 2883.0, \"qu90l\": 2669.0, \"qu90u\": 3550.0, \"Domain\": 957, \"Sample1\": 211, \"Sample2\": 43}, {\"StichtagDatJahr\": \"2022-01-01T00:00:00\", \"RaumeinheitSort\": 4, \"RaumeinheitLang\": \"Quartiere\", \"GliederungSort\": 82, \"GliederungLang\": \"M\\u00fchlebach\", \"ZimmerSort\": 4, \"ZimmerLang\": \"4 Zimmer\", \"GemeinnuetzigSort\": 0, \"GemeinnuetzigLang\": \"Alle Wohnungen\", \"EinheitSort\": 1, \"EinheitLang\": \"Wohnung\", \"PreisartSort\": 1, \"PreisartLang\": \"Netto\", \"mean\": 2789.0, \"meanl\": 2588.0, \"meanu\": 2991.0, \"qu10\": 1251.0, \"qu10l\": 1000.0, \"qu10u\": 1350.0, \"qu25\": 1829.0, \"qu25l\": 1350.0, \"qu25u\": 2174.0, \"qu50\": 2633.0, \"qu50l\": 2381.0, \"qu50u\": 2900.0, \"qu75\": 3676.0, \"qu75l\": 3072.0, \"qu75u\": 4273.0, \"qu90\": 4543.0, \"qu90l\": 3800.0, \"qu90u\": 5499.0, \"Domain\": 576, \"Sample1\": 188, \"Sample2\": 29}, {\"StichtagDatJahr\": \"2022-01-01T00:00:00\", \"RaumeinheitSort\": 4, \"RaumeinheitLang\": \"Quartiere\", \"GliederungSort\": 82, \"GliederungLang\": \"M\\u00fchlebach\", \"ZimmerSort\": 2, \"ZimmerLang\": \"2 Zimmer\", \"GemeinnuetzigSort\": 0, \"GemeinnuetzigLang\": \"Alle Wohnungen\", \"EinheitSort\": 1, \"EinheitLang\": \"Wohnung\", \"PreisartSort\": 1, \"PreisartLang\": \"Netto\", \"mean\": 1879.0, \"meanl\": 1792.0, \"meanu\": 1967.0, \"qu10\": 1032.0, \"qu10l\": 831.0, \"qu10u\": 1183.0, \"qu25\": 1379.0, \"qu25l\": 1255.0, \"qu25u\": 1545.0, \"qu50\": 1892.0, \"qu50l\": 1739.0, \"qu50u\": 2085.0, \"qu75\": 2356.0, \"qu75l\": 2200.0, \"qu75u\": 2535.0, \"qu90\": 2677.0, \"qu90l\": 2498.0, \"qu90u\": 2980.0, \"Domain\": 876, \"Sample1\": 275, \"Sample2\": 38}, {\"StichtagDatJahr\": \"2022-01-01T00:00:00\", \"RaumeinheitSort\": 4, \"RaumeinheitLang\": \"Quartiere\", \"GliederungSort\": 82, \"GliederungLang\": \"M\\u00fchlebach\", \"ZimmerSort\": 3, \"ZimmerLang\": \"3 Zimmer\", \"GemeinnuetzigSort\": 0, \"GemeinnuetzigLang\": \"Alle Wohnungen\", \"EinheitSort\": 1, \"EinheitLang\": \"Wohnung\", \"PreisartSort\": 1, \"PreisartLang\": \"Netto\", \"mean\": 2218.0, \"meanl\": 2073.0, \"meanu\": 2364.0, \"qu10\": 955.0, \"qu10l\": 888.0, \"qu10u\": 1175.0, \"qu25\": 1524.0, \"qu25l\": 1264.0, \"qu25u\": 1655.0, \"qu50\": 2151.0, \"qu50l\": 1960.0, \"qu50u\": 2295.0, \"qu75\": 2667.0, \"qu75l\": 2534.0, \"qu75u\": 3005.0, \"qu90\": 3371.0, \"qu90l\": 3056.0, \"qu90u\": 3730.0, \"Domain\": 1029, \"Sample1\": 314, \"Sample2\": 48}, {\"StichtagDatJahr\": \"2022-01-01T00:00:00\", \"RaumeinheitSort\": 4, \"RaumeinheitLang\": \"Quartiere\", \"GliederungSort\": 83, \"GliederungLang\": \"Weinegg\", \"ZimmerSort\": 2, \"ZimmerLang\": \"2 Zimmer\", \"GemeinnuetzigSort\": 0, \"GemeinnuetzigLang\": \"Alle Wohnungen\", \"EinheitSort\": 1, \"EinheitLang\": \"Wohnung\", \"PreisartSort\": 1, \"PreisartLang\": \"Netto\", \"mean\": 1592.0, \"meanl\": 1490.0, \"meanu\": 1694.0, \"qu10\": 887.0, \"qu10l\": 750.0, \"qu10u\": 1096.0, \"qu25\": 1380.0, \"qu25l\": 989.0, \"qu25u\": 1537.0, \"qu50\": 1620.0, \"qu50l\": 1538.0, \"qu50u\": 1750.0, \"qu75\": 2016.0, \"qu75l\": 1751.0, \"qu75u\": 2080.0, \"qu90\": 2182.0, \"qu90l\": 2016.0, \"qu90u\": 2356.0, \"Domain\": 478, \"Sample1\": 71, \"Sample2\": 32}, {\"StichtagDatJahr\": \"2022-01-01T00:00:00\", \"RaumeinheitSort\": 4, \"RaumeinheitLang\": \"Quartiere\", \"GliederungSort\": 83, \"GliederungLang\": \"Weinegg\", \"ZimmerSort\": 3, \"ZimmerLang\": \"3 Zimmer\", \"GemeinnuetzigSort\": 0, \"GemeinnuetzigLang\": \"Alle Wohnungen\", \"EinheitSort\": 1, \"EinheitLang\": \"Wohnung\", \"PreisartSort\": 1, \"PreisartLang\": \"Netto\", \"mean\": 1910.0, \"meanl\": 1786.0, \"meanu\": 2034.0, \"qu10\": 1000.0, \"qu10l\": 894.0, \"qu10u\": 1160.0, \"qu25\": 1328.0, \"qu25l\": 1081.0, \"qu25u\": 1551.0, \"qu50\": 1903.0, \"qu50l\": 1599.0, \"qu50u\": 2130.0, \"qu75\": 2522.0, \"qu75l\": 2143.0, \"qu75u\": 2704.0, \"qu90\": 2953.0, \"qu90l\": 2599.0, \"qu90u\": 3375.0, \"Domain\": 830, \"Sample1\": 126, \"Sample2\": 32}, {\"StichtagDatJahr\": \"2022-01-01T00:00:00\", \"RaumeinheitSort\": 4, \"RaumeinheitLang\": \"Quartiere\", \"GliederungSort\": 83, \"GliederungLang\": \"Weinegg\", \"ZimmerSort\": 4, \"ZimmerLang\": \"4 Zimmer\", \"GemeinnuetzigSort\": 0, \"GemeinnuetzigLang\": \"Alle Wohnungen\", \"EinheitSort\": 1, \"EinheitLang\": \"Wohnung\", \"PreisartSort\": 1, \"PreisartLang\": \"Netto\", \"mean\": 2221.0, \"meanl\": 1996.0, \"meanu\": 2446.0, \"qu10\": 1334.0, \"qu10l\": 893.0, \"qu10u\": 1451.0, \"qu25\": 1476.0, \"qu25l\": 1350.0, \"qu25u\": 1770.0, \"qu50\": 1977.0, \"qu50l\": 1650.0, \"qu50u\": 2094.0, \"qu75\": 2550.0, \"qu75l\": 2200.0, \"qu75u\": 3210.0, \"qu90\": 3449.0, \"qu90l\": 3051.0, \"qu90u\": 3700.0, \"Domain\": 512, \"Sample1\": 91, \"Sample2\": 32}, {\"StichtagDatJahr\": \"2022-01-01T00:00:00\", \"RaumeinheitSort\": 4, \"RaumeinheitLang\": \"Quartiere\", \"GliederungSort\": 91, \"GliederungLang\": \"Albisrieden\", \"ZimmerSort\": 2, \"ZimmerLang\": \"2 Zimmer\", \"GemeinnuetzigSort\": 0, \"GemeinnuetzigLang\": \"Alle Wohnungen\", \"EinheitSort\": 1, \"EinheitLang\": \"Wohnung\", \"PreisartSort\": 1, \"PreisartLang\": \"Netto\", \"mean\": 1385.0, \"meanl\": 1338.0, \"meanu\": 1432.0, \"qu10\": 750.0, \"qu10l\": 725.0, \"qu10u\": 791.0, \"qu25\": 1057.0, \"qu25l\": 909.0, \"qu25u\": 1109.0, \"qu50\": 1286.0, \"qu50l\": 1220.0, \"qu50u\": 1333.0, \"qu75\": 1647.0, \"qu75l\": 1448.0, \"qu75u\": 1836.0, \"qu90\": 2102.0, \"qu90l\": 1978.0, \"qu90u\": 2280.0, \"Domain\": 2542, \"Sample1\": 836, \"Sample2\": 62}, {\"StichtagDatJahr\": \"2022-01-01T00:00:00\", \"RaumeinheitSort\": 4, \"RaumeinheitLang\": \"Quartiere\", \"GliederungSort\": 91, \"GliederungLang\": \"Albisrieden\", \"ZimmerSort\": 4, \"ZimmerLang\": \"4 Zimmer\", \"GemeinnuetzigSort\": 0, \"GemeinnuetzigLang\": \"Alle Wohnungen\", \"EinheitSort\": 1, \"EinheitLang\": \"Wohnung\", \"PreisartSort\": 1, \"PreisartLang\": \"Netto\", \"mean\": 1950.0, \"meanl\": 1896.0, \"meanu\": 2004.0, \"qu10\": 1095.0, \"qu10l\": 1007.0, \"qu10u\": 1211.0, \"qu25\": 1511.0, \"qu25l\": 1488.0, \"qu25u\": 1565.0, \"qu50\": 1840.0, \"qu50l\": 1730.0, \"qu50u\": 1955.0, \"qu75\": 2320.0, \"qu75l\": 2210.0, \"qu75u\": 2480.0, \"qu90\": 2784.0, \"qu90l\": 2679.0, \"qu90u\": 3115.0, \"Domain\": 2273, \"Sample1\": 830, \"Sample2\": 63}, {\"StichtagDatJahr\": \"2022-01-01T00:00:00\", \"RaumeinheitSort\": 4, \"RaumeinheitLang\": \"Quartiere\", \"GliederungSort\": 91, \"GliederungLang\": \"Albisrieden\", \"ZimmerSort\": 3, \"ZimmerLang\": \"3 Zimmer\", \"GemeinnuetzigSort\": 0, \"GemeinnuetzigLang\": \"Alle Wohnungen\", \"EinheitSort\": 1, \"EinheitLang\": \"Wohnung\", \"PreisartSort\": 1, \"PreisartLang\": \"Netto\", \"mean\": 1437.0, \"meanl\": 1400.0, \"meanu\": 1474.0, \"qu10\": 667.0, \"qu10l\": 652.0, \"qu10u\": 691.0, \"qu25\": 946.0, \"qu25l\": 882.0, \"qu25u\": 1045.0, \"qu50\": 1391.0, \"qu50l\": 1281.0, \"qu50u\": 1446.0, \"qu75\": 1808.0, \"qu75l\": 1750.0, \"qu75u\": 2000.0, \"qu90\": 2236.0, \"qu90l\": 2174.0, \"qu90u\": 2278.0, \"Domain\": 4056, \"Sample1\": 1389, \"Sample2\": 74}, {\"StichtagDatJahr\": \"2022-01-01T00:00:00\", \"RaumeinheitSort\": 4, \"RaumeinheitLang\": \"Quartiere\", \"GliederungSort\": 92, \"GliederungLang\": \"Altstetten\", \"ZimmerSort\": 4, \"ZimmerLang\": \"4 Zimmer\", \"GemeinnuetzigSort\": 0, \"GemeinnuetzigLang\": \"Alle Wohnungen\", \"EinheitSort\": 1, \"EinheitLang\": \"Wohnung\", \"PreisartSort\": 1, \"PreisartLang\": \"Netto\", \"mean\": 1796.0, \"meanl\": 1728.0, \"meanu\": 1864.0, \"qu10\": 922.0, \"qu10l\": 890.0, \"qu10u\": 957.0, \"qu25\": 1275.0, \"qu25l\": 1200.0, \"qu25u\": 1353.0, \"qu50\": 1746.0, \"qu50l\": 1586.0, \"qu50u\": 1792.0, \"qu75\": 2270.0, \"qu75l\": 2134.0, \"qu75u\": 2502.0, \"qu90\": 2798.0, \"qu90l\": 2527.0, \"qu90u\": 3066.0, \"Domain\": 3054, \"Sample1\": 968, \"Sample2\": 62}, {\"StichtagDatJahr\": \"2022-01-01T00:00:00\", \"RaumeinheitSort\": 4, \"RaumeinheitLang\": \"Quartiere\", \"GliederungSort\": 92, \"GliederungLang\": \"Altstetten\", \"ZimmerSort\": 2, \"ZimmerLang\": \"2 Zimmer\", \"GemeinnuetzigSort\": 0, \"GemeinnuetzigLang\": \"Alle Wohnungen\", \"EinheitSort\": 1, \"EinheitLang\": \"Wohnung\", \"PreisartSort\": 1, \"PreisartLang\": \"Netto\", \"mean\": 1419.0, \"meanl\": 1361.0, \"meanu\": 1477.0, \"qu10\": 813.0, \"qu10l\": 748.0, \"qu10u\": 931.0, \"qu25\": 1079.0, \"qu25l\": 969.0, \"qu25u\": 1148.0, \"qu50\": 1287.0, \"qu50l\": 1206.0, \"qu50u\": 1450.0, \"qu75\": 1690.0, \"qu75l\": 1570.0, \"qu75u\": 1966.0, \"qu90\": 2122.0, \"qu90l\": 1967.0, \"qu90u\": 2320.0, \"Domain\": 4430, \"Sample1\": 981, \"Sample2\": 62}, {\"StichtagDatJahr\": \"2022-01-01T00:00:00\", \"RaumeinheitSort\": 4, \"RaumeinheitLang\": \"Quartiere\", \"GliederungSort\": 92, \"GliederungLang\": \"Altstetten\", \"ZimmerSort\": 3, \"ZimmerLang\": \"3 Zimmer\", \"GemeinnuetzigSort\": 0, \"GemeinnuetzigLang\": \"Alle Wohnungen\", \"EinheitSort\": 1, \"EinheitLang\": \"Wohnung\", \"PreisartSort\": 1, \"PreisartLang\": \"Netto\", \"mean\": 1442.0, \"meanl\": 1388.0, \"meanu\": 1496.0, \"qu10\": 810.0, \"qu10l\": 787.0, \"qu10u\": 886.0, \"qu25\": 1062.0, \"qu25l\": 1029.0, \"qu25u\": 1105.0, \"qu50\": 1291.0, \"qu50l\": 1232.0, \"qu50u\": 1376.0, \"qu75\": 1730.0, \"qu75l\": 1671.0, \"qu75u\": 1817.0, \"qu90\": 2300.0, \"qu90l\": 2166.0, \"qu90u\": 2500.0, \"Domain\": 6626, \"Sample1\": 1837, \"Sample2\": 94}, {\"StichtagDatJahr\": \"2022-01-01T00:00:00\", \"RaumeinheitSort\": 4, \"RaumeinheitLang\": \"Quartiere\", \"GliederungSort\": 101, \"GliederungLang\": \"H\\u00f6ngg\", \"ZimmerSort\": 4, \"ZimmerLang\": \"4 Zimmer\", \"GemeinnuetzigSort\": 0, \"GemeinnuetzigLang\": \"Alle Wohnungen\", \"EinheitSort\": 1, \"EinheitLang\": \"Wohnung\", \"PreisartSort\": 1, \"PreisartLang\": \"Netto\", \"mean\": 1977.0, \"meanl\": 1912.0, \"meanu\": 2043.0, \"qu10\": 1235.0, \"qu10l\": 1116.0, \"qu10u\": 1324.0, \"qu25\": 1556.0, \"qu25l\": 1408.0, \"qu25u\": 1595.0, \"qu50\": 1850.0, \"qu50l\": 1756.0, \"qu50u\": 1940.0, \"qu75\": 2457.0, \"qu75l\": 2203.0, \"qu75u\": 2600.0, \"qu90\": 2775.0, \"qu90l\": 2692.0, \"qu90u\": 3239.0, \"Domain\": 2593, \"Sample1\": 989, \"Sample2\": 61}, {\"StichtagDatJahr\": \"2022-01-01T00:00:00\", \"RaumeinheitSort\": 4, \"RaumeinheitLang\": \"Quartiere\", \"GliederungSort\": 101, \"GliederungLang\": \"H\\u00f6ngg\", \"ZimmerSort\": 3, \"ZimmerLang\": \"3 Zimmer\", \"GemeinnuetzigSort\": 0, \"GemeinnuetzigLang\": \"Alle Wohnungen\", \"EinheitSort\": 1, \"EinheitLang\": \"Wohnung\", \"PreisartSort\": 1, \"PreisartLang\": \"Netto\", \"mean\": 1633.0, \"meanl\": 1538.0, \"meanu\": 1728.0, \"qu10\": 919.0, \"qu10l\": 827.0, \"qu10u\": 1014.0, \"qu25\": 1168.0, \"qu25l\": 1114.0, \"qu25u\": 1350.0, \"qu50\": 1587.0, \"qu50l\": 1432.0, \"qu50u\": 1687.0, \"qu75\": 1974.0, \"qu75l\": 1750.0, \"qu75u\": 2135.0, \"qu90\": 2512.0, \"qu90l\": 2129.0, \"qu90u\": 2753.0, \"Domain\": 3684, \"Sample1\": 1384, \"Sample2\": 54}, {\"StichtagDatJahr\": \"2022-01-01T00:00:00\", \"RaumeinheitSort\": 4, \"RaumeinheitLang\": \"Quartiere\", \"GliederungSort\": 101, \"GliederungLang\": \"H\\u00f6ngg\", \"ZimmerSort\": 2, \"ZimmerLang\": \"2 Zimmer\", \"GemeinnuetzigSort\": 0, \"GemeinnuetzigLang\": \"Alle Wohnungen\", \"EinheitSort\": 1, \"EinheitLang\": \"Wohnung\", \"PreisartSort\": 1, \"PreisartLang\": \"Netto\", \"mean\": 1336.0, \"meanl\": 1198.0, \"meanu\": 1473.0, \"qu10\": 757.0, \"qu10l\": 745.0, \"qu10u\": 787.0, \"qu25\": 1048.0, \"qu25l\": 965.0, \"qu25u\": 1112.0, \"qu50\": 1302.0, \"qu50l\": 1250.0, \"qu50u\": 1400.0, \"qu75\": 1520.0, \"qu75l\": 1430.0, \"qu75u\": 1740.0, \"qu90\": 1963.0, \"qu90l\": 1540.0, \"qu90u\": 2169.0, \"Domain\": 1975, \"Sample1\": 665, \"Sample2\": 49}, {\"StichtagDatJahr\": \"2022-01-01T00:00:00\", \"RaumeinheitSort\": 4, \"RaumeinheitLang\": \"Quartiere\", \"GliederungSort\": 102, \"GliederungLang\": \"Wipkingen\", \"ZimmerSort\": 2, \"ZimmerLang\": \"2 Zimmer\", \"GemeinnuetzigSort\": 0, \"GemeinnuetzigLang\": \"Alle Wohnungen\", \"EinheitSort\": 1, \"EinheitLang\": \"Wohnung\", \"PreisartSort\": 1, \"PreisartLang\": \"Netto\", \"mean\": 1355.0, \"meanl\": 1267.0, \"meanu\": 1443.0, \"qu10\": 675.0, \"qu10l\": 646.0, \"qu10u\": 739.0, \"qu25\": 929.0, \"qu25l\": 885.0, \"qu25u\": 974.0, \"qu50\": 1290.0, \"qu50l\": 1189.0, \"qu50u\": 1348.0, \"qu75\": 1685.0, \"qu75l\": 1406.0, \"qu75u\": 1834.0, \"qu90\": 2089.0, \"qu90l\": 1795.0, \"qu90u\": 2345.0, \"Domain\": 2038, \"Sample1\": 562, \"Sample2\": 69}, {\"StichtagDatJahr\": \"2022-01-01T00:00:00\", \"RaumeinheitSort\": 4, \"RaumeinheitLang\": \"Quartiere\", \"GliederungSort\": 102, \"GliederungLang\": \"Wipkingen\", \"ZimmerSort\": 4, \"ZimmerLang\": \"4 Zimmer\", \"GemeinnuetzigSort\": 0, \"GemeinnuetzigLang\": \"Alle Wohnungen\", \"EinheitSort\": 1, \"EinheitLang\": \"Wohnung\", \"PreisartSort\": 1, \"PreisartLang\": \"Netto\", \"mean\": 1863.0, \"meanl\": 1770.0, \"meanu\": 1955.0, \"qu10\": 952.0, \"qu10l\": 885.0, \"qu10u\": 1031.0, \"qu25\": 1248.0, \"qu25l\": 1116.0, \"qu25u\": 1413.0, \"qu50\": 1793.0, \"qu50l\": 1631.0, \"qu50u\": 1964.0, \"qu75\": 2300.0, \"qu75l\": 2200.0, \"qu75u\": 2540.0, \"qu90\": 2719.0, \"qu90l\": 2540.0, \"qu90u\": 2998.0, \"Domain\": 1399, \"Sample1\": 378, \"Sample2\": 62}, {\"StichtagDatJahr\": \"2022-01-01T00:00:00\", \"RaumeinheitSort\": 4, \"RaumeinheitLang\": \"Quartiere\", \"GliederungSort\": 102, \"GliederungLang\": \"Wipkingen\", \"ZimmerSort\": 3, \"ZimmerLang\": \"3 Zimmer\", \"GemeinnuetzigSort\": 0, \"GemeinnuetzigLang\": \"Alle Wohnungen\", \"EinheitSort\": 1, \"EinheitLang\": \"Wohnung\", \"PreisartSort\": 1, \"PreisartLang\": \"Netto\", \"mean\": 1479.0, \"meanl\": 1393.0, \"meanu\": 1565.0, \"qu10\": 747.0, \"qu10l\": 725.0, \"qu10u\": 792.0, \"qu25\": 971.0, \"qu25l\": 857.0, \"qu25u\": 1072.0, \"qu50\": 1413.0, \"qu50l\": 1342.0, \"qu50u\": 1500.0, \"qu75\": 1818.0, \"qu75l\": 1600.0, \"qu75u\": 1951.0, \"qu90\": 2210.0, \"qu90l\": 2003.0, \"qu90u\": 2708.0, \"Domain\": 3400, \"Sample1\": 966, \"Sample2\": 66}, {\"StichtagDatJahr\": \"2022-01-01T00:00:00\", \"RaumeinheitSort\": 4, \"RaumeinheitLang\": \"Quartiere\", \"GliederungSort\": 111, \"GliederungLang\": \"Affoltern\", \"ZimmerSort\": 4, \"ZimmerLang\": \"4 Zimmer\", \"GemeinnuetzigSort\": 0, \"GemeinnuetzigLang\": \"Alle Wohnungen\", \"EinheitSort\": 1, \"EinheitLang\": \"Wohnung\", \"PreisartSort\": 1, \"PreisartLang\": \"Netto\", \"mean\": 1612.0, \"meanl\": 1560.0, \"meanu\": 1664.0, \"qu10\": 1069.0, \"qu10l\": 1001.0, \"qu10u\": 1120.0, \"qu25\": 1238.0, \"qu25l\": 1231.0, \"qu25u\": 1327.0, \"qu50\": 1511.0, \"qu50l\": 1465.0, \"qu50u\": 1577.0, \"qu75\": 1901.0, \"qu75l\": 1800.0, \"qu75u\": 1981.0, \"qu90\": 2240.0, \"qu90l\": 2150.0, \"qu90u\": 2516.0, \"Domain\": 2934, \"Sample1\": 1351, \"Sample2\": 81}, {\"StichtagDatJahr\": \"2022-01-01T00:00:00\", \"RaumeinheitSort\": 4, \"RaumeinheitLang\": \"Quartiere\", \"GliederungSort\": 111, \"GliederungLang\": \"Affoltern\", \"ZimmerSort\": 3, \"ZimmerLang\": \"3 Zimmer\", \"GemeinnuetzigSort\": 0, \"GemeinnuetzigLang\": \"Alle Wohnungen\", \"EinheitSort\": 1, \"EinheitLang\": \"Wohnung\", \"PreisartSort\": 1, \"PreisartLang\": \"Netto\", \"mean\": 1399.0, \"meanl\": 1357.0, \"meanu\": 1442.0, \"qu10\": 993.0, \"qu10l\": 973.0, \"qu10u\": 1009.0, \"qu25\": 1102.0, \"qu25l\": 1097.0, \"qu25u\": 1142.0, \"qu50\": 1299.0, \"qu50l\": 1252.0, \"qu50u\": 1350.0, \"qu75\": 1580.0, \"qu75l\": 1538.0, \"qu75u\": 1750.0, \"qu90\": 2000.0, \"qu90l\": 1920.0, \"qu90u\": 2056.0, \"Domain\": 3906, \"Sample1\": 1685, \"Sample2\": 83}, {\"StichtagDatJahr\": \"2022-01-01T00:00:00\", \"RaumeinheitSort\": 4, \"RaumeinheitLang\": \"Quartiere\", \"GliederungSort\": 111, \"GliederungLang\": \"Affoltern\", \"ZimmerSort\": 2, \"ZimmerLang\": \"2 Zimmer\", \"GemeinnuetzigSort\": 0, \"GemeinnuetzigLang\": \"Alle Wohnungen\", \"EinheitSort\": 1, \"EinheitLang\": \"Wohnung\", \"PreisartSort\": 1, \"PreisartLang\": \"Netto\", \"mean\": 1197.0, \"meanl\": 1137.0, \"meanu\": 1256.0, \"qu10\": 813.0, \"qu10l\": 805.0, \"qu10u\": 836.0, \"qu25\": 933.0, \"qu25l\": 927.0, \"qu25u\": 951.0, \"qu50\": 1081.0, \"qu50l\": 1044.0, \"qu50u\": 1149.0, \"qu75\": 1335.0, \"qu75l\": 1254.0, \"qu75u\": 1451.0, \"qu90\": 1670.0, \"qu90l\": 1489.0, \"qu90u\": 1950.0, \"Domain\": 2023, \"Sample1\": 752, \"Sample2\": 63}, {\"StichtagDatJahr\": \"2022-01-01T00:00:00\", \"RaumeinheitSort\": 4, \"RaumeinheitLang\": \"Quartiere\", \"GliederungSort\": 115, \"GliederungLang\": \"Oerlikon\", \"ZimmerSort\": 4, \"ZimmerLang\": \"4 Zimmer\", \"GemeinnuetzigSort\": 0, \"GemeinnuetzigLang\": \"Alle Wohnungen\", \"EinheitSort\": 1, \"EinheitLang\": \"Wohnung\", \"PreisartSort\": 1, \"PreisartLang\": \"Netto\", \"mean\": 1831.0, \"meanl\": 1757.0, \"meanu\": 1906.0, \"qu10\": 1094.0, \"qu10l\": 979.0, \"qu10u\": 1200.0, \"qu25\": 1402.0, \"qu25l\": 1288.0, \"qu25u\": 1570.0, \"qu50\": 1790.0, \"qu50l\": 1719.0, \"qu50u\": 1891.0, \"qu75\": 2152.0, \"qu75l\": 1991.0, \"qu75u\": 2320.0, \"qu90\": 2680.0, \"qu90l\": 2350.0, \"qu90u\": 2917.0, \"Domain\": 2132, \"Sample1\": 718, \"Sample2\": 63}, {\"StichtagDatJahr\": \"2022-01-01T00:00:00\", \"RaumeinheitSort\": 4, \"RaumeinheitLang\": \"Quartiere\", \"GliederungSort\": 115, \"GliederungLang\": \"Oerlikon\", \"ZimmerSort\": 2, \"ZimmerLang\": \"2 Zimmer\", \"GemeinnuetzigSort\": 0, \"GemeinnuetzigLang\": \"Alle Wohnungen\", \"EinheitSort\": 1, \"EinheitLang\": \"Wohnung\", \"PreisartSort\": 1, \"PreisartLang\": \"Netto\", \"mean\": 1507.0, \"meanl\": 1443.0, \"meanu\": 1572.0, \"qu10\": 940.0, \"qu10l\": 831.0, \"qu10u\": 1069.0, \"qu25\": 1202.0, \"qu25l\": 1170.0, \"qu25u\": 1274.0, \"qu50\": 1407.0, \"qu50l\": 1350.0, \"qu50u\": 1470.0, \"qu75\": 1700.0, \"qu75l\": 1531.0, \"qu75u\": 1950.0, \"qu90\": 2127.0, \"qu90l\": 2006.0, \"qu90u\": 2392.0, \"Domain\": 2842, \"Sample1\": 693, \"Sample2\": 75}, {\"StichtagDatJahr\": \"2022-01-01T00:00:00\", \"RaumeinheitSort\": 4, \"RaumeinheitLang\": \"Quartiere\", \"GliederungSort\": 115, \"GliederungLang\": \"Oerlikon\", \"ZimmerSort\": 3, \"ZimmerLang\": \"3 Zimmer\", \"GemeinnuetzigSort\": 0, \"GemeinnuetzigLang\": \"Alle Wohnungen\", \"EinheitSort\": 1, \"EinheitLang\": \"Wohnung\", \"PreisartSort\": 1, \"PreisartLang\": \"Netto\", \"mean\": 1689.0, \"meanl\": 1617.0, \"meanu\": 1762.0, \"qu10\": 996.0, \"qu10l\": 872.0, \"qu10u\": 1086.0, \"qu25\": 1300.0, \"qu25l\": 1161.0, \"qu25u\": 1543.0, \"qu50\": 1640.0, \"qu50l\": 1596.0, \"qu50u\": 1750.0, \"qu75\": 1928.0, \"qu75l\": 1850.0, \"qu75u\": 2200.0, \"qu90\": 2331.0, \"qu90l\": 2240.0, \"qu90u\": 2600.0, \"Domain\": 3976, \"Sample1\": 975, \"Sample2\": 66}, {\"StichtagDatJahr\": \"2022-01-01T00:00:00\", \"RaumeinheitSort\": 4, \"RaumeinheitLang\": \"Quartiere\", \"GliederungSort\": 119, \"GliederungLang\": \"Seebach\", \"ZimmerSort\": 3, \"ZimmerLang\": \"3 Zimmer\", \"GemeinnuetzigSort\": 0, \"GemeinnuetzigLang\": \"Alle Wohnungen\", \"EinheitSort\": 1, \"EinheitLang\": \"Wohnung\", \"PreisartSort\": 1, \"PreisartLang\": \"Netto\", \"mean\": 1514.0, \"meanl\": 1469.0, \"meanu\": 1560.0, \"qu10\": 903.0, \"qu10l\": 873.0, \"qu10u\": 916.0, \"qu25\": 1143.0, \"qu25l\": 1035.0, \"qu25u\": 1203.0, \"qu50\": 1406.0, \"qu50l\": 1365.0, \"qu50u\": 1472.0, \"qu75\": 1818.0, \"qu75l\": 1710.0, \"qu75u\": 1971.0, \"qu90\": 2350.0, \"qu90l\": 2177.0, \"qu90u\": 2601.0, \"Domain\": 4067, \"Sample1\": 1360, \"Sample2\": 77}, {\"StichtagDatJahr\": \"2022-01-01T00:00:00\", \"RaumeinheitSort\": 4, \"RaumeinheitLang\": \"Quartiere\", \"GliederungSort\": 119, \"GliederungLang\": \"Seebach\", \"ZimmerSort\": 4, \"ZimmerLang\": \"4 Zimmer\", \"GemeinnuetzigSort\": 0, \"GemeinnuetzigLang\": \"Alle Wohnungen\", \"EinheitSort\": 1, \"EinheitLang\": \"Wohnung\", \"PreisartSort\": 1, \"PreisartLang\": \"Netto\", \"mean\": 1798.0, \"meanl\": 1744.0, \"meanu\": 1852.0, \"qu10\": 1071.0, \"qu10l\": 939.0, \"qu10u\": 1134.0, \"qu25\": 1410.0, \"qu25l\": 1343.0, \"qu25u\": 1469.0, \"qu50\": 1675.0, \"qu50l\": 1623.0, \"qu50u\": 1786.0, \"qu75\": 2200.0, \"qu75l\": 2062.0, \"qu75u\": 2310.0, \"qu90\": 2588.0, \"qu90l\": 2403.0, \"qu90u\": 2992.0, \"Domain\": 2444, \"Sample1\": 991, \"Sample2\": 79}, {\"StichtagDatJahr\": \"2022-01-01T00:00:00\", \"RaumeinheitSort\": 4, \"RaumeinheitLang\": \"Quartiere\", \"GliederungSort\": 119, \"GliederungLang\": \"Seebach\", \"ZimmerSort\": 2, \"ZimmerLang\": \"2 Zimmer\", \"GemeinnuetzigSort\": 0, \"GemeinnuetzigLang\": \"Alle Wohnungen\", \"EinheitSort\": 1, \"EinheitLang\": \"Wohnung\", \"PreisartSort\": 1, \"PreisartLang\": \"Netto\", \"mean\": 1293.0, \"meanl\": 1250.0, \"meanu\": 1336.0, \"qu10\": 855.0, \"qu10l\": 793.0, \"qu10u\": 933.0, \"qu25\": 1023.0, \"qu25l\": 956.0, \"qu25u\": 1100.0, \"qu50\": 1249.0, \"qu50l\": 1177.0, \"qu50u\": 1340.0, \"qu75\": 1600.0, \"qu75l\": 1470.0, \"qu75u\": 1731.0, \"qu90\": 1800.0, \"qu90l\": 1711.0, \"qu90u\": 1958.0, \"Domain\": 2337, \"Sample1\": 746, \"Sample2\": 61}, {\"StichtagDatJahr\": \"2022-01-01T00:00:00\", \"RaumeinheitSort\": 4, \"RaumeinheitLang\": \"Quartiere\", \"GliederungSort\": 121, \"GliederungLang\": \"Saatlen\", \"ZimmerSort\": 2, \"ZimmerLang\": \"2 Zimmer\", \"GemeinnuetzigSort\": 0, \"GemeinnuetzigLang\": \"Alle Wohnungen\", \"EinheitSort\": 1, \"EinheitLang\": \"Wohnung\", \"PreisartSort\": 1, \"PreisartLang\": \"Netto\", \"mean\": 1044.0, \"meanl\": 1020.0, \"meanu\": 1069.0, \"qu10\": 662.0, \"qu10l\": 663.0, \"qu10u\": 669.0, \"qu25\": 781.0, \"qu25l\": 781.0, \"qu25u\": 785.0, \"qu50\": 987.0, \"qu50l\": 954.0, \"qu50u\": 1022.0, \"qu75\": 1216.0, \"qu75l\": 1169.0, \"qu75u\": 1249.0, \"qu90\": 1532.0, \"qu90l\": 1376.0, \"qu90u\": 1572.0, \"Domain\": 596, \"Sample1\": 399, \"Sample2\": 35}, {\"StichtagDatJahr\": \"2022-01-01T00:00:00\", \"RaumeinheitSort\": 4, \"RaumeinheitLang\": \"Quartiere\", \"GliederungSort\": 121, \"GliederungLang\": \"Saatlen\", \"ZimmerSort\": 4, \"ZimmerLang\": \"4 Zimmer\", \"GemeinnuetzigSort\": 0, \"GemeinnuetzigLang\": \"Alle Wohnungen\", \"EinheitSort\": 1, \"EinheitLang\": \"Wohnung\", \"PreisartSort\": 1, \"PreisartLang\": \"Netto\", \"mean\": 1368.0, \"meanl\": 1331.0, \"meanu\": 1406.0, \"qu10\": 860.0, \"qu10l\": 860.0, \"qu10u\": 1024.0, \"qu25\": 1026.0, \"qu25l\": 982.0, \"qu25u\": 1129.0, \"qu50\": 1329.0, \"qu50l\": 1247.0, \"qu50u\": 1408.0, \"qu75\": 1644.0, \"qu75l\": 1590.0, \"qu75u\": 1725.0, \"qu90\": 1910.0, \"qu90l\": 1804.0, \"qu90u\": 1970.0, \"Domain\": 1161, \"Sample1\": 654, \"Sample2\": 32}, {\"StichtagDatJahr\": \"2022-01-01T00:00:00\", \"RaumeinheitSort\": 4, \"RaumeinheitLang\": \"Quartiere\", \"GliederungSort\": 121, \"GliederungLang\": \"Saatlen\", \"ZimmerSort\": 3, \"ZimmerLang\": \"3 Zimmer\", \"GemeinnuetzigSort\": 0, \"GemeinnuetzigLang\": \"Alle Wohnungen\", \"EinheitSort\": 1, \"EinheitLang\": \"Wohnung\", \"PreisartSort\": 1, \"PreisartLang\": \"Netto\", \"mean\": 1203.0, \"meanl\": 1175.0, \"meanu\": 1230.0, \"qu10\": 780.0, \"qu10l\": 716.0, \"qu10u\": 785.0, \"qu25\": 942.0, \"qu25l\": 891.0, \"qu25u\": 974.0, \"qu50\": 1159.0, \"qu50l\": 1122.0, \"qu50u\": 1199.0, \"qu75\": 1492.0, \"qu75l\": 1445.0, \"qu75u\": 1511.0, \"qu90\": 1675.0, \"qu90l\": 1600.0, \"qu90u\": 1750.0, \"Domain\": 1111, \"Sample1\": 637, \"Sample2\": 47}, {\"StichtagDatJahr\": \"2022-01-01T00:00:00\", \"RaumeinheitSort\": 4, \"RaumeinheitLang\": \"Quartiere\", \"GliederungSort\": 122, \"GliederungLang\": \"Schwamendingen-Mitte\", \"ZimmerSort\": 3, \"ZimmerLang\": \"3 Zimmer\", \"GemeinnuetzigSort\": 0, \"GemeinnuetzigLang\": \"Alle Wohnungen\", \"EinheitSort\": 1, \"EinheitLang\": \"Wohnung\", \"PreisartSort\": 1, \"PreisartLang\": \"Netto\", \"mean\": 1214.0, \"meanl\": 1172.0, \"meanu\": 1257.0, \"qu10\": 684.0, \"qu10l\": 638.0, \"qu10u\": 721.0, \"qu25\": 915.0, \"qu25l\": 880.0, \"qu25u\": 950.0, \"qu50\": 1325.0, \"qu50l\": 1252.0, \"qu50u\": 1413.0, \"qu75\": 1491.0, \"qu75l\": 1450.0, \"qu75u\": 1520.0, \"qu90\": 1585.0, \"qu90l\": 1520.0, \"qu90u\": 1641.0, \"Domain\": 2340, \"Sample1\": 705, \"Sample2\": 83}, {\"StichtagDatJahr\": \"2022-01-01T00:00:00\", \"RaumeinheitSort\": 4, \"RaumeinheitLang\": \"Quartiere\", \"GliederungSort\": 122, \"GliederungLang\": \"Schwamendingen-Mitte\", \"ZimmerSort\": 4, \"ZimmerLang\": \"4 Zimmer\", \"GemeinnuetzigSort\": 0, \"GemeinnuetzigLang\": \"Alle Wohnungen\", \"EinheitSort\": 1, \"EinheitLang\": \"Wohnung\", \"PreisartSort\": 1, \"PreisartLang\": \"Netto\", \"mean\": 1543.0, \"meanl\": 1472.0, \"meanu\": 1614.0, \"qu10\": 886.0, \"qu10l\": 886.0, \"qu10u\": 901.0, \"qu25\": 1058.0, \"qu25l\": 963.0, \"qu25u\": 1106.0, \"qu50\": 1507.0, \"qu50l\": 1438.0, \"qu50u\": 1699.0, \"qu75\": 1903.0, \"qu75l\": 1753.0, \"qu75u\": 2010.0, \"qu90\": 2274.0, \"qu90l\": 1985.0, \"qu90u\": 2626.0, \"Domain\": 814, \"Sample1\": 245, \"Sample2\": 52}, {\"StichtagDatJahr\": \"2022-01-01T00:00:00\", \"RaumeinheitSort\": 4, \"RaumeinheitLang\": \"Quartiere\", \"GliederungSort\": 122, \"GliederungLang\": \"Schwamendingen-Mitte\", \"ZimmerSort\": 2, \"ZimmerLang\": \"2 Zimmer\", \"GemeinnuetzigSort\": 0, \"GemeinnuetzigLang\": \"Alle Wohnungen\", \"EinheitSort\": 1, \"EinheitLang\": \"Wohnung\", \"PreisartSort\": 1, \"PreisartLang\": \"Netto\", \"mean\": 1116.0, \"meanl\": 1038.0, \"meanu\": 1194.0, \"qu10\": 679.0, \"qu10l\": 666.0, \"qu10u\": 777.0, \"qu25\": 872.0, \"qu25l\": 819.0, \"qu25u\": 1018.0, \"qu50\": 1132.0, \"qu50l\": 1032.0, \"qu50u\": 1206.0, \"qu75\": 1400.0, \"qu75l\": 1290.0, \"qu75u\": 1503.0, \"qu90\": 1630.0, \"qu90l\": 1447.0, \"qu90u\": 1710.0, \"Domain\": 1258, \"Sample1\": 323, \"Sample2\": 51}, {\"StichtagDatJahr\": \"2022-01-01T00:00:00\", \"RaumeinheitSort\": 4, \"RaumeinheitLang\": \"Quartiere\", \"GliederungSort\": 123, \"GliederungLang\": \"Hirzenbach\", \"ZimmerSort\": 4, \"ZimmerLang\": \"4 Zimmer\", \"GemeinnuetzigSort\": 0, \"GemeinnuetzigLang\": \"Alle Wohnungen\", \"EinheitSort\": 1, \"EinheitLang\": \"Wohnung\", \"PreisartSort\": 1, \"PreisartLang\": \"Netto\", \"mean\": 1462.0, \"meanl\": 1435.0, \"meanu\": 1490.0, \"qu10\": 839.0, \"qu10l\": 832.0, \"qu10u\": 885.0, \"qu25\": 1099.0, \"qu25l\": 1055.0, \"qu25u\": 1140.0, \"qu50\": 1418.0, \"qu50l\": 1331.0, \"qu50u\": 1450.0, \"qu75\": 1693.0, \"qu75l\": 1674.0, \"qu75u\": 1759.0, \"qu90\": 2250.0, \"qu90l\": 2244.0, \"qu90u\": 2322.0, \"Domain\": 1236, \"Sample1\": 677, \"Sample2\": 57}, {\"StichtagDatJahr\": \"2022-01-01T00:00:00\", \"RaumeinheitSort\": 4, \"RaumeinheitLang\": \"Quartiere\", \"GliederungSort\": 123, \"GliederungLang\": \"Hirzenbach\", \"ZimmerSort\": 2, \"ZimmerLang\": \"2 Zimmer\", \"GemeinnuetzigSort\": 0, \"GemeinnuetzigLang\": \"Alle Wohnungen\", \"EinheitSort\": 1, \"EinheitLang\": \"Wohnung\", \"PreisartSort\": 1, \"PreisartLang\": \"Netto\", \"mean\": 1129.0, \"meanl\": 1090.0, \"meanu\": 1167.0, \"qu10\": 604.0, \"qu10l\": 604.0, \"qu10u\": 606.0, \"qu25\": 768.0, \"qu25l\": 732.0, \"qu25u\": 846.0, \"qu50\": 1122.0, \"qu50l\": 1087.0, \"qu50u\": 1207.0, \"qu75\": 1361.0, \"qu75l\": 1314.0, \"qu75u\": 1455.0, \"qu90\": 1602.0, \"qu90l\": 1540.0, \"qu90u\": 1683.0, \"Domain\": 1214, \"Sample1\": 666, \"Sample2\": 37}, {\"StichtagDatJahr\": \"2022-01-01T00:00:00\", \"RaumeinheitSort\": 4, \"RaumeinheitLang\": \"Quartiere\", \"GliederungSort\": 123, \"GliederungLang\": \"Hirzenbach\", \"ZimmerSort\": 3, \"ZimmerLang\": \"3 Zimmer\", \"GemeinnuetzigSort\": 0, \"GemeinnuetzigLang\": \"Alle Wohnungen\", \"EinheitSort\": 1, \"EinheitLang\": \"Wohnung\", \"PreisartSort\": 1, \"PreisartLang\": \"Netto\", \"mean\": 1195.0, \"meanl\": 1160.0, \"meanu\": 1230.0, \"qu10\": 671.0, \"qu10l\": 670.0, \"qu10u\": 678.0, \"qu25\": 794.0, \"qu25l\": 772.0, \"qu25u\": 820.0, \"qu50\": 1260.0, \"qu50l\": 1145.0, \"qu50u\": 1372.0, \"qu75\": 1455.0, \"qu75l\": 1449.0, \"qu75u\": 1488.0, \"qu90\": 1650.0, \"qu90l\": 1579.0, \"qu90u\": 1819.0, \"Domain\": 2414, \"Sample1\": 1265, \"Sample2\": 51}]}}, {\"mode\": \"vega-lite\"});\n",
       "</script>"
      ],
      "text/plain": [
       "alt.LayerChart(...)"
      ]
     },
     "execution_count": 60,
     "metadata": {},
     "output_type": "execute_result"
    }
   ],
   "source": [
    "myTitle=\"Mietpreise aller Wohnungen nach Stadtquartier und Zimmerzahl\"\n",
    "\n",
    "myQuery = 'RaumeinheitSort ==4 and GemeinnuetzigSort == 0'\n",
    "\n",
    "highlight = alt.selection(type='single', on='mouseover',\n",
    "                          fields=['ProjStatus'], nearest=True)\n",
    "#x='date:StichtagDatJahr',\n",
    "base = alt.Chart(mySel1.query(myQuery), title=myTitle).encode(\n",
    "        x=alt.X('GliederungSort:Q', axis=alt.Axis(title='Stadtkreis'), scale=alt.Scale(domain=[5, 125]))# , axis=alt.Axis(format='%', title='percentage')\n",
    "        , y=alt.X('qu50:Q', axis=alt.Axis(title='Median-Preis'), scale=alt.Scale(domain=[0, 3500]))\n",
    "        , color=alt.Color('ZimmerSort:N', legend=alt.Legend(title=\"Zimmerzahl\", orient=\"right\"))  \n",
    "        ,tooltip=['GliederungSort', 'GliederungLang', 'ZimmerSort','ZimmerLang', 'GemeinnuetzigSort', 'GemeinnuetzigLang', 'EinheitSort', 'EinheitLang',\n",
    "       'PreisartSort', 'PreisartLang',  'qu50', 'qu50l', 'qu50u']\n",
    ")\n",
    "points = base.mark_circle().encode(\n",
    "    opacity=alt.value(0.75)\n",
    ").add_selection(\n",
    "    highlight\n",
    ").properties(\n",
    "    width=750 , height=350\n",
    ")\n",
    "lines = base.mark_line().encode(\n",
    "    size=alt.condition(~highlight, alt.value(1.5), alt.value(4))\n",
    ").interactive()\n",
    "\n",
    "lines + points"
   ]
  },
  {
   "cell_type": "markdown",
   "metadata": {},
   "source": [
    "--------------- stopped"
   ]
  },
  {
   "cell_type": "markdown",
   "metadata": {
    "tags": []
   },
   "source": [
    "#### Entwicklung fertigerstellter Projekte nach Stadtkreis"
   ]
  },
  {
   "cell_type": "code",
   "execution_count": null,
   "metadata": {},
   "outputs": [],
   "source": [
    "#myAgg = data2betested.loc[\"2008-11-30\":\"2021-10-31\"]\n",
    "myAgg = data2betested.loc[\"1996\":\"2021\"].query('ProjStatus == \"Fertigerstellt\"')\\\n",
    "    .groupby(['Jahr','KreisLang']) \\\n",
    "    .agg(sum_ProjAnzGbd=('ProjAnzGbd', 'sum'),sum_ProjAnzWhg=('ProjAnzWhg', 'sum')) \\\n",
    "    .sort_values('Jahr', ascending=True) \n",
    "\n",
    "myAgg.reset_index().head(3)"
   ]
  },
  {
   "cell_type": "code",
   "execution_count": null,
   "metadata": {},
   "outputs": [],
   "source": [
    "myTitle=\"Entwicklung fertigerstellter Projekte nach Stadtkreis\"\n",
    "\n",
    "highlight = alt.selection(type='single', on='mouseover',\n",
    "                          fields=['KreisLang'], nearest=True)\n",
    "#x='date:StichtagDatJahr',\n",
    "base = alt.Chart(myAgg.reset_index(), title=myTitle).encode(\n",
    "    x=alt.X('Jahr', axis=alt.Axis(title='Jahr'))# , axis=alt.Axis(format='%', title='percentage')\n",
    "    , y=alt.X('sum_ProjAnzGbd', axis=alt.Axis(title='Anz. Projektierte Gebäude'))\n",
    "    , color=alt.Color('KreisLang', legend=alt.Legend(title=\"Stadtkreis\", orient=\"right\"))  \n",
    "    ,tooltip=['Jahr', 'KreisLang','sum_ProjAnzGbd', 'sum_ProjAnzWhg']    \n",
    ")\n",
    "points = base.mark_circle().encode(\n",
    "    opacity=alt.value(0.75)\n",
    ").add_selection(\n",
    "    highlight\n",
    ").properties(\n",
    "    width=750 , height=350\n",
    ")\n",
    "lines = base.mark_line().encode(\n",
    "    size=alt.condition(~highlight, alt.value(0.5), alt.value(4))\n",
    ").interactive()\n",
    "\n",
    "lines + points"
   ]
  },
  {
   "cell_type": "markdown",
   "metadata": {
    "tags": []
   },
   "source": [
    "#### Barcharts mit Seaborn"
   ]
  },
  {
   "cell_type": "code",
   "execution_count": null,
   "metadata": {},
   "outputs": [],
   "source": [
    "#myAgg = data2betested.loc[\"2008-11-30\":\"2021-10-31\"]\n",
    "myAggBar = data2betested.loc[\"2021\"]\\\n",
    "    .groupby(['Jahr', 'KreisLang','KreisSort', 'ProjStatus']) \\\n",
    "    .agg(sum_ProjAnzGbd=('ProjAnzGbd', 'sum'),sum_ProjAnzWhg=('ProjAnzWhg', 'sum')) \\\n",
    "    .sort_values('KreisLang', ascending=True) \n",
    "\n",
    "myAggBar.reset_index().head(3)"
   ]
  },
  {
   "cell_type": "code",
   "execution_count": null,
   "metadata": {},
   "outputs": [],
   "source": [
    "#help(sns.catplot)     "
   ]
  },
  {
   "cell_type": "code",
   "execution_count": null,
   "metadata": {},
   "outputs": [],
   "source": [
    "#Stile for the following sns graphs\n",
    "sns.set_theme(style=\"whitegrid\")"
   ]
  },
  {
   "cell_type": "code",
   "execution_count": null,
   "metadata": {},
   "outputs": [],
   "source": [
    "#sns.color_palette(\"flare\", as_cmap=True)\n",
    "myHist = sns.catplot(x=\"KreisLang\"\n",
    "            , y=\"sum_ProjAnzWhg\"\n",
    "            , hue=\"ProjStatus\"\n",
    "            , kind=\"bar\" #boxen, violin, --> wenn die aggregation nicht genau den werten in der grafik entspricht\n",
    "            , palette=\"pastel\" #, color=\"green\"\n",
    "            , height=5\n",
    "            , aspect=2\n",
    "            , order=None, legend_out=True\n",
    "            ,data=myAggBar.reset_index().sort_values('KreisSort', ascending=True) \n",
    "           )\n",
    "myHist.set_xlabels('Stadtkreis', fontsize=11) # not set_label\n",
    "myHist.set_ylabels('Anz. Wohnungen', fontsize=11)\n"
   ]
  },
  {
   "cell_type": "markdown",
   "metadata": {},
   "source": [
    "#### Scatterplots mit Seaborn "
   ]
  },
  {
   "cell_type": "markdown",
   "metadata": {},
   "source": [
    "##### Entwicklung nach Stadtkreisen"
   ]
  },
  {
   "cell_type": "code",
   "execution_count": null,
   "metadata": {},
   "outputs": [],
   "source": [
    "myAggScat = data2betested.loc[\"2000\":\"2021\"]\\\n",
    "    .groupby(['Jahr', 'KreisLang', 'KreisSort','ProjStatus']) \\\n",
    "    .agg(sum_ProjAnzGbd=('ProjAnzGbd', 'sum'),sum_ProjAnzWhg=('ProjAnzWhg', 'sum')) \\\n",
    "    .sort_values('KreisSort', ascending=True) "
   ]
  },
  {
   "cell_type": "code",
   "execution_count": null,
   "metadata": {},
   "outputs": [],
   "source": [
    "#myAggScat.reset_index()"
   ]
  },
  {
   "cell_type": "code",
   "execution_count": null,
   "metadata": {},
   "outputs": [],
   "source": [
    "g = sns.FacetGrid(myAggScat.reset_index(), col=\"KreisLang\", hue=\"ProjStatus\", col_wrap=4, height=4,)\n",
    "#g.map(sns.scatterplot, \"Jahr\", \"sum_ProjAnzWhg\", alpha=.8)\n",
    "g.map(sns.lineplot, \"Jahr\",\"sum_ProjAnzWhg\",alpha=.8,label='label2')\n",
    "\n",
    "#Layout\n",
    "g.set_axis_labels(\"\",\"Projektierte Whgen\")\n",
    "g.set_titles(col_template=\"{col_name}\", row_template=\"{row_name}\")\n",
    "#g.set(xlim=(0, 60), ylim=(0, 12), xticks=[10, 30, 50], yticks=[2, 6, 10])\n",
    "#g.tight_layout()\n",
    "\n",
    "g.add_legend()"
   ]
  },
  {
   "cell_type": "markdown",
   "metadata": {},
   "source": [
    "##### Entwicklung nach Stadtquartieren"
   ]
  },
  {
   "cell_type": "code",
   "execution_count": null,
   "metadata": {},
   "outputs": [],
   "source": [
    "myAggScat = data2betested.loc[\"2000\":\"2021\"]\\\n",
    "    .groupby(['Jahr', 'QuarLang', 'QuarSort','ProjStatus']) \\\n",
    "    .agg(sum_ProjAnzGbd=('ProjAnzGbd', 'sum'),sum_ProjAnzWhg=('ProjAnzWhg', 'sum')) \\\n",
    "    .sort_values('QuarSort', ascending=True) "
   ]
  },
  {
   "cell_type": "code",
   "execution_count": null,
   "metadata": {},
   "outputs": [],
   "source": [
    "#Link to Seaborn API Description:\n",
    "# https://seaborn.pydata.org/generated/seaborn.FacetGrid.html#seaborn.FacetGrid"
   ]
  },
  {
   "cell_type": "code",
   "execution_count": null,
   "metadata": {},
   "outputs": [],
   "source": [
    "g = sns.FacetGrid(myAggScat.reset_index(), col=\"QuarLang\", hue=\"ProjStatus\", col_wrap=6, height=3,)\n",
    "#g.map(sns.scatterplot, \"Jahr\", \"sum_ProjAnzWhg\", alpha=.8)\n",
    "g.map(sns.lineplot, \"Jahr\",\"sum_ProjAnzWhg\",alpha=.8,label='label2')\n",
    "\n",
    "#Layout\n",
    "g.set_axis_labels(\"\",\"Projektierte Whgen\")\n",
    "g.set_titles(col_template=\"{col_name}\", row_template=\"{row_name}\")\n",
    "#g.set(xlim=(0, 60), ylim=(0, 12), xticks=[10, 30, 50], yticks=[2, 6, 10])\n",
    "#g.tight_layout()\n",
    "\n",
    "g.add_legend()"
   ]
  },
  {
   "cell_type": "markdown",
   "metadata": {},
   "source": [
    "### Daten in interaktiver Treemap zeigen\n",
    "Dazu gibt es eine sehr nützliche Webseite https://plotly.com/python/treemaps/\n",
    "Zu Farbskalen, siehe: https://plotly.com/python/builtin-colorscales/"
   ]
  },
  {
   "cell_type": "markdown",
   "metadata": {},
   "source": [
    "#### Anzahl Wohnungen in BAUPROJEKTEN nach Projektstatus, Kreis und Quartier 2021"
   ]
  },
  {
   "cell_type": "code",
   "execution_count": null,
   "metadata": {},
   "outputs": [],
   "source": [
    "data2betested.dtypes"
   ]
  },
  {
   "cell_type": "code",
   "execution_count": null,
   "metadata": {
    "tags": []
   },
   "outputs": [],
   "source": [
    "myTreemapAgg = data2betested.loc[\"2021\"]  \\\n",
    "    .groupby(['Jahr', 'QuarLang', 'KreisLang', 'ProjStatus']) \\\n",
    "    .agg(sum_ProjAnzGbd=('ProjAnzGbd', 'sum'),sum_ProjAnzWhg=('ProjAnzWhg', 'sum'))\\\n",
    "    .sort_values('sum_ProjAnzWhg', ascending=False) \n",
    "\n",
    "myTreemapAgg.reset_index().head(3)"
   ]
  },
  {
   "cell_type": "code",
   "execution_count": null,
   "metadata": {},
   "outputs": [],
   "source": [
    "fig = px.treemap(myTreemapAgg.query('sum_ProjAnzWhg >0').reset_index(), path=[px.Constant(\"Anzahl Wohnungen nach Projektstatus, Kreis und Quartier\"),'ProjStatus', 'KreisLang', 'QuarLang']\n",
    "                 , values='sum_ProjAnzWhg'\n",
    "                 , color='sum_ProjAnzWhg'\n",
    "                 ## bei discrete scales (bei Klassen und Strings):                 \n",
    "                 #, color_discrete_map={'(?)':'lightgrey','EVP':'gold', 'SP':'#FF3030', 'PdA':'#EE3B3B', 'Grüne':'#A2CD5A','GLP':'#CAFF70','Die Mitte':'orange','FDP':'#104E8B','AL':'deeppink','SVP':'forestgreen', 'FL ZÜRI':'#8B864E','Volt':'#lightblue' }                \n",
    "                 ## bei continuous scales (bei Zahlenwerten):\n",
    "                , color_continuous_scale='cividis'\n",
    "                #, color_continuous_midpoint=np.average(df['AnzBestWir'], weights=df['AnzBestWir'])  \n",
    "                 ,height=400\n",
    "                 ,width=1100                 \n",
    "                )\n",
    "fig.update_traces(root_color=\"grey\")\n",
    "fig.update_layout(margin = dict(t=50, l=25, r=250, b=25))\n",
    "fig.show()"
   ]
  },
  {
   "cell_type": "markdown",
   "metadata": {},
   "source": [
    "#### Anzahl Wohnungen nach Projektstatus, Kreis und Quartier"
   ]
  },
  {
   "cell_type": "code",
   "execution_count": null,
   "metadata": {},
   "outputs": [],
   "source": [
    "data2betested.dtypes"
   ]
  },
  {
   "cell_type": "code",
   "execution_count": null,
   "metadata": {
    "tags": []
   },
   "outputs": [],
   "source": [
    "myTreemapAgg = data2betested.loc[\"2021\"]  \\\n",
    "    .groupby(['Jahr', 'QuarLang', 'KreisLang', 'ProjStatus']) \\\n",
    "    .agg(sum_ProjKosten=('ProjKosten', 'sum'), sum_Whg_1_3_Zi=('Whg_1_3_Zi', 'sum'),sum_Whg_4plus_Zi=('Whg_4plus_Zi', 'sum'))\\\n",
    "    .sort_values('sum_Whg_1_3_Zi', ascending=False) \n",
    "\n",
    "myTreemapAgg.reset_index().head(3)"
   ]
  },
  {
   "cell_type": "code",
   "execution_count": null,
   "metadata": {},
   "outputs": [],
   "source": [
    "fig = px.treemap(myTreemapAgg.query('sum_ProjKosten >0').reset_index(), path=[px.Constant(\"Anzahl Wohnungen nach Projektstatus, Kreis und Quartier\"),'ProjStatus', 'KreisLang', 'QuarLang']\n",
    "                 , values='sum_ProjKosten'\n",
    "                 , color='ProjStatus'\n",
    "                 ## bei discrete scales (bei Klassen und Strings):                 \n",
    "                 #, color_discrete_map={'(?)':'lightgrey','EVP':'gold', 'SP':'#FF3030', 'PdA':'#EE3B3B', 'Grüne':'#A2CD5A','GLP':'#CAFF70','Die Mitte':'orange','FDP':'#104E8B','AL':'deeppink','SVP':'forestgreen', 'FL ZÜRI':'#8B864E','Volt':'#lightblue' }                \n",
    "                 ## bei continuous scales (bei Zahlenwerten):\n",
    "                , color_continuous_scale='cividis'\n",
    "                #, color_continuous_midpoint=np.average(df['AnzBestWir'], weights=df['AnzBestWir'])  \n",
    "                 ,height=400\n",
    "                 ,width=1100                 \n",
    "                )\n",
    "fig.update_traces(root_color=\"grey\")\n",
    "fig.update_layout(margin = dict(t=50, l=25, r=250, b=25))\n",
    "fig.show()"
   ]
  },
  {
   "cell_type": "code",
   "execution_count": null,
   "metadata": {},
   "outputs": [],
   "source": [
    "#data2betested.dtypes"
   ]
  },
  {
   "cell_type": "markdown",
   "metadata": {},
   "source": [
    "**Sharepoint als gecheckt markieren!**"
   ]
  },
  {
   "cell_type": "markdown",
   "metadata": {},
   "source": [
    "Record auf Sharepoint: **[Link](https://kollaboration.intranet.stzh.ch/orga/ssz-produkte/Lists/SASA_Outputs/DispForm.aspx?ID=140&ContentTypeId=0x0100988EAF029F1EFE4CA675F53C32A5D53D01006DBC563E6FBE9E4EB6FDC780799752E1)**"
   ]
  },
  {
   "cell_type": "markdown",
   "metadata": {},
   "source": [
    "## ---------------------- hier Plausi beendet\n",
    "\n",
    "Liniendiagramm \n",
    "[Link zur Doku](https://altair-viz.github.io/gallery/multiline_highlight.html)"
   ]
  },
  {
   "cell_type": "markdown",
   "metadata": {},
   "source": [
    "### Test: Choroplethenkarte\n",
    "Importiere die Geodaten als GeoJSON"
   ]
  },
  {
   "cell_type": "code",
   "execution_count": null,
   "metadata": {},
   "outputs": [],
   "source": [
    "# Read abt. Geopandas https://geopandas.org/docs/user_guide/io.html\n",
    "# Wenn die Daten lokal agelegt sind, dann kannst Du folgendes machen:\n",
    "##input_stadtquartiere = r\"//szh.loc/ssz/data/GIS/Daten/Vektor/_aktuell/stzh.adm_statistische_quartiere_map.json\"\n",
    "##df_stadtquartiere = gpd.read_file(input_stadtquartiere)\n",
    "##df_stadtquartiere.head(2)\n",
    "#df_stadtkreise.dtypes\n",
    "\n",
    "geojson_url = \"https://www.ogd.stadt-zuerich.ch/wfs/geoportal/Statistische_Quartiere?service=WFS&version=1.1.0&request=GetFeature&outputFormat=GeoJSON&typename=adm_statistische_quartiere_map\"\n",
    "df_adm_statistische_quartiere_map = gpd.read_file(geojson_url)\n",
    "\n",
    "df_adm_statistische_quartiere_map.head(5)\n"
   ]
  },
  {
   "cell_type": "markdown",
   "metadata": {},
   "source": [
    "Joine die importierten statistischen Daten des aktuellen Jahres zum Geodatensatz:\n",
    "\n",
    "*Siehe dazu Doku zu [Geopandas](https://geopandas.org/docs/user_guide/mergingdata.html)*"
   ]
  },
  {
   "cell_type": "code",
   "execution_count": null,
   "metadata": {},
   "outputs": [],
   "source": [
    "akt_wbev_quart = data2betested.loc[\"2021-11\"].groupby(\n",
    "    ['StichtagDatJahr','StichtagDatMM','QuarCd','QuarLang']\n",
    ").agg(\n",
    "    {'AnzBestWir':'sum'}\n",
    ")\n",
    "akt_wbev_quart.head()\n"
   ]
  },
  {
   "cell_type": "code",
   "execution_count": null,
   "metadata": {},
   "outputs": [],
   "source": [
    "# Rename attribute stznr to StatZoneSort, so the IDs have the same name\n",
    "stadtquartiere_shapes = df_adm_statistische_quartiere_map[['geometry', 'qnr', 'qname', 'knr']].rename(columns={'qnr': 'QuarCd'})\n",
    "\n",
    "# Merge with `merge` method on shared variable (stznr und StatZoneSort):\n",
    "stadtquartiere_shapes_joined = stadtquartiere_shapes.merge(akt_wbev_quart, on='QuarCd')\n",
    "\n",
    "stadtquartiere_shapes_joined.head(2)\n"
   ]
  },
  {
   "cell_type": "code",
   "execution_count": null,
   "metadata": {},
   "outputs": [],
   "source": [
    "# Plot by StatQuartiere\n",
    "# Weitere Schemes: scheme='quantiles', scheme='fisherjenks', scheme='natural_breaks',\n",
    "\n",
    "stadtquartiere_shapes_joined.plot(column='AnzBestWir', cmap='viridis', scheme='natural_breaks', legend=True )\n",
    "#scheme werte: https://matplotlib.org/2.0.2/users/colormaps.html\n",
    "\n",
    "stadtquartiere_shapes_joined.plot(column='AnzBestWir', cmap='plasma', scheme='fisherjenks', legend=True )\n",
    "#scheme werte: https://matplotlib.org/2.0.2/users/colormaps.html\n",
    "stadtquartiere_shapes_joined.plot(column='AnzBestWir', cmap='cool', scheme='quantiles', legend=True )\n",
    "#scheme werte: https://matplotlib.org/2.0.2/users/colormaps.html\n",
    "\n",
    "#\n",
    "#Neuere Gallerie: https://matplotlib.org/stable/gallery/index.html"
   ]
  },
  {
   "cell_type": "raw",
   "metadata": {},
   "source": [
    "fig, ax = plt.subplots(1, 1)\n",
    "\n",
    "statzonen_shapes_aktJahr.plot(column='AnzWhg', ax=ax, legend=True, legend_kwds={'label': \"Anzahl Personen\",'orientation': \"horizontal\"})\n"
   ]
  },
  {
   "cell_type": "markdown",
   "metadata": {},
   "source": [
    "Noch zu prüfen, folgendes schöne Beispiel: https://docs.bokeh.org/en/latest/docs/user_guide/interaction/legends.html\n",
    "\n",
    "Konkrete Beispiele von Bookeh in Jupyter NB: https://docs.bokeh.org/en/latest/docs/user_guide/jupyter.html"
   ]
  },
  {
   "cell_type": "code",
   "execution_count": null,
   "metadata": {},
   "outputs": [],
   "source": []
  },
  {
   "cell_type": "raw",
   "metadata": {},
   "source": []
  },
  {
   "cell_type": "code",
   "execution_count": null,
   "metadata": {},
   "outputs": [],
   "source": []
  }
 ],
 "metadata": {
  "kernelspec": {
   "display_name": "Python 3 (ipykernel)",
   "language": "python",
   "name": "python3"
  },
  "language_info": {
   "codemirror_mode": {
    "name": "ipython",
    "version": 3
   },
   "file_extension": ".py",
   "mimetype": "text/x-python",
   "name": "python",
   "nbconvert_exporter": "python",
   "pygments_lexer": "ipython3",
   "version": "3.7.11"
  }
 },
 "nbformat": 4,
 "nbformat_minor": 4
}
