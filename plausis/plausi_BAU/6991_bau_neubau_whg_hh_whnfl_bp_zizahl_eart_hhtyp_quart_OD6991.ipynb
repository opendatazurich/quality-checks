{
 "cells": [
  {
   "cell_type": "code",
   "execution_count": null,
   "metadata": {},
   "outputs": [],
   "source": []
  },
  {
   "cell_type": "markdown",
   "metadata": {},
   "source": [
    "# Testing\n",
    "### Haushalte in Neubau-Wohnungen nach Bauperiode, Zimmerzahl, Eigentumsart, Haushalttyp und Quartier, seit 2006\n",
    "\n",
    "Spezialdatensatz zum Webartikel «Kleinere Wohnungen für grössere Haushalte» vom 15.04.2021.\n",
    "\n",
    "\n",
    "Datum: 15.03.2022"
   ]
  },
  {
   "cell_type": "markdown",
   "metadata": {},
   "source": [
    "### Importiere die notwendigen Packages"
   ]
  },
  {
   "cell_type": "code",
   "execution_count": 18,
   "metadata": {},
   "outputs": [],
   "source": [
    "#%pip install geopandas altair fiona requests folium mplleaflet contextily seaborn datetime plotly leafmap"
   ]
  },
  {
   "cell_type": "code",
   "execution_count": 19,
   "metadata": {},
   "outputs": [],
   "source": [
    "import pandas as pd\n",
    "import pivottablejs\n",
    "from pivottablejs import pivot_ui\n",
    "import numpy as np\n",
    "import altair as alt\n",
    "import matplotlib.pyplot as plt\n",
    "#from datetime import datetime\n",
    "import datetime\n",
    "import geopandas as gpd\n",
    "import folium \n",
    "import seaborn as sns\n",
    "\n",
    "\n",
    "import requests\n",
    "import io"
   ]
  },
  {
   "cell_type": "code",
   "execution_count": 20,
   "metadata": {},
   "outputs": [],
   "source": [
    "SSL_VERIFY = False\n",
    "# evtl. SSL_VERIFY auf False setzen wenn die Verbindung zu https://www.gemeinderat-zuerich.ch nicht klappt (z.B. wegen Proxy)\n",
    "# Um die SSL Verifikation auszustellen, bitte die nächste Zeile einkommentieren (\"#\" entfernen)\n",
    "# SSL_VERIFY = False"
   ]
  },
  {
   "cell_type": "code",
   "execution_count": 21,
   "metadata": {},
   "outputs": [],
   "source": [
    "if not SSL_VERIFY:\n",
    "    import urllib3\n",
    "    urllib3.disable_warnings()"
   ]
  },
  {
   "cell_type": "markdown",
   "metadata": {},
   "source": [
    "Definiere Settings. Hier das Zahlenformat von Float-Werten (z.B. *'{:,.2f}'.format* mit Komma als Tausenderzeichen), "
   ]
  },
  {
   "cell_type": "code",
   "execution_count": 22,
   "metadata": {},
   "outputs": [],
   "source": [
    "#pd.options.display.float_format = lambda x : '{:,.1f}'.format(x) if (np.isnan(x) | np.isinf(x)) else '{:,.0f}'.format(x) if int(x) == x else '{:,.1f}'.format(x)\n",
    "pd.options.display.float_format = '{:.0f}'.format\n",
    "pd.set_option('display.width', 100)\n",
    "pd.set_option('display.max_columns', 15)"
   ]
  },
  {
   "cell_type": "markdown",
   "metadata": {},
   "source": [
    "### Zeitvariabeln\n",
    "Bestimme den aktuellst geladenen Monat. Hier ist es der Stand vor 2 Monaten. \n",
    "Bestimme noch weitere evt. sinnvolle Zeitvariabeln.\n",
    "\n",
    "Zum Unterschied zwischen import datetime und from datedtime import datetime, siehe https://stackoverflow.com/questions/15707532/import-datetime-v-s-from-datetime-import-datetime\n",
    "\n",
    "Zuerst die Zeitvariabeln als Strings"
   ]
  },
  {
   "cell_type": "code",
   "execution_count": 23,
   "metadata": {},
   "outputs": [],
   "source": [
    "#today_date = datetime.date.today()\n",
    "#date_time = datetime.datetime.strptime(date_time_string, '%Y-%m-%d %H:%M')\n",
    "now = datetime.date.today()\n",
    "date_today = now.strftime(\"%Y-%m-%d\")\n",
    "year_today = now.strftime(\"%Y\")\n",
    "month_today = now.strftime(\"%m\")\n",
    "day_today = now.strftime(\"%d\")\n"
   ]
  },
  {
   "cell_type": "markdown",
   "metadata": {},
   "source": [
    "Und hier noch die Zeitvariabeln als Integers:\n",
    "- `aktuellesJahr`\n",
    "- `aktuellerMonat`: Der gerade jetzt aktuelle Monat\n",
    "- `selectedMonat`: Der aktuellste Monat in den Daten. In der Regel zwei Monate her."
   ]
  },
  {
   "cell_type": "code",
   "execution_count": 24,
   "metadata": {},
   "outputs": [
    {
     "name": "stdout",
     "output_type": "stream",
     "text": [
      "2022 3 datenstand:  1 time.struct_time(tm_year=2022, tm_mon=3, tm_mday=15, tm_hour=0, tm_min=0, tm_sec=0, tm_wday=1, tm_yday=74, tm_isdst=-1)\n"
     ]
    }
   ],
   "source": [
    "#now = datetime.now() \n",
    "int_times = now.timetuple()\n",
    "\n",
    "aktuellesJahr = int_times[0]\n",
    "aktuellerMonat = int_times[1]\n",
    "selectedMonat = int_times[1]-2\n",
    "\n",
    "print(aktuellesJahr, \n",
    "      aktuellerMonat,\n",
    "    'datenstand: ', selectedMonat,\n",
    "     int_times)\n"
   ]
  },
  {
   "cell_type": "markdown",
   "metadata": {},
   "source": [
    "Berechne die Variable Epoche um später das SAS-Datum in ein Unix-Datum umzuwandeln. Bei SAS beginnt die Epoche am 1.1.1960. Bei Unix am 1.1.1970.\n",
    "Diese Variable wird beim CSV-Import benötigt."
   ]
  },
  {
   "cell_type": "code",
   "execution_count": 25,
   "metadata": {},
   "outputs": [],
   "source": [
    "epoch = datetime.datetime(1960, 1, 1)"
   ]
  },
  {
   "cell_type": "markdown",
   "metadata": {},
   "source": [
    "### Setze einige Pfadvariabeln"
   ]
  },
  {
   "cell_type": "markdown",
   "metadata": {},
   "source": [
    "- Der Packagename ist eigentlich der **Verzeichnisname** unter dem die Daten und Metadaten auf der Dropzone abgelegt werden.\n",
    "- Definiert wird er bei SASA-Prozessen auf dem **Produkte-Sharepoint ([Link](https://kollaboration.intranet.stzh.ch/orga/ssz-produkte/Lists/SASA_Outputs/PersonalViews.aspx?PageView=Personal&ShowWebPart={6087A3E7-8AC8-40BA-8278-DECFACE124FF}))**.\n",
    "- Der Packagename wird auf CKAN teil der URL, daher ist die exakte Schreibweise wichtig.\n",
    "\n",
    "Beachte: im Packagename müssen alle Buchstaben **klein** geschrieben werden. Dies weil CKAN aus grossen kleine Buchstaben macht."
   ]
  },
  {
   "cell_type": "markdown",
   "metadata": {},
   "source": [
    "**BITTE HIER ANPASSEN**"
   ]
  },
  {
   "cell_type": "code",
   "execution_count": 26,
   "metadata": {},
   "outputs": [],
   "source": [
    "package_name = \"bau_neubau_whg_hh_whnfl_bp_zizahl_eart_hhtyp_quart_od6991\""
   ]
  },
  {
   "cell_type": "code",
   "execution_count": 27,
   "metadata": {
    "tags": []
   },
   "outputs": [],
   "source": [
    "dataset_name = \"BAU699OD6991.csv\""
   ]
  },
  {
   "cell_type": "markdown",
   "metadata": {},
   "source": [
    "**Statische Pfade in DWH-Dropzones**"
   ]
  },
  {
   "cell_type": "code",
   "execution_count": 28,
   "metadata": {},
   "outputs": [],
   "source": [
    "dropzone_path_integ = r\"\\\\szh\\ssz\\applikationen\\OGD_Dropzone\\INT_DWH\""
   ]
  },
  {
   "cell_type": "code",
   "execution_count": 29,
   "metadata": {
    "tags": []
   },
   "outputs": [],
   "source": [
    "dropzone_path_prod = r\"\\\\szh\\ssz\\applikationen\\OGD_Dropzone\\DWH\""
   ]
  },
  {
   "cell_type": "markdown",
   "metadata": {},
   "source": [
    "**Statische Pfade CKAN-URLs**"
   ]
  },
  {
   "cell_type": "code",
   "execution_count": 30,
   "metadata": {
    "tags": []
   },
   "outputs": [],
   "source": [
    "ckan_integ_url =\"https://data.integ.stadt-zuerich.ch/dataset/int_dwh_\""
   ]
  },
  {
   "cell_type": "code",
   "execution_count": 31,
   "metadata": {},
   "outputs": [],
   "source": [
    "ckan_prod_url =\"https://data.stadt-zuerich.ch/dataset/\""
   ]
  },
  {
   "cell_type": "markdown",
   "metadata": {},
   "source": [
    "### Checke die Metadaten auf der CKAN INTEG- oder PROD-Webseite\n",
    "\n",
    "Offenbar lassen sich aktuell im Markdownteil keine Variabeln ausführen, daher gehen wir wie unten gezeigt vor. Siehe dazu: https://data-dive.com/jupyterlab-markdown-cells-include-variables\n",
    "Instead of setting the cell to Markdown, create Markdown from withnin a code cell! We can just use python variable replacement syntax to make the text dynamic"
   ]
  },
  {
   "cell_type": "code",
   "execution_count": 32,
   "metadata": {},
   "outputs": [],
   "source": [
    "from IPython.display import Markdown as md"
   ]
  },
  {
   "cell_type": "code",
   "execution_count": 33,
   "metadata": {},
   "outputs": [
    {
     "data": {
      "text/markdown": [
       " **1. Dataset auf INTEG-Datakatalog:** Link https://data.integ.stadt-zuerich.ch/dataset/int_dwh_bau_neubau_whg_hh_whnfl_bp_zizahl_eart_hhtyp_quart_od6991 "
      ],
      "text/plain": [
       "<IPython.core.display.Markdown object>"
      ]
     },
     "execution_count": 33,
     "metadata": {},
     "output_type": "execute_result"
    }
   ],
   "source": [
    "md(\" **1. Dataset auf INTEG-Datakatalog:** Link {} \".format(ckan_integ_url+package_name))"
   ]
  },
  {
   "cell_type": "code",
   "execution_count": 34,
   "metadata": {},
   "outputs": [
    {
     "data": {
      "text/markdown": [
       " **2. Dataset auf PROD-Datakatalog:** Link https://data.stadt-zuerich.ch/dataset/bau_neubau_whg_hh_whnfl_bp_zizahl_eart_hhtyp_quart_od6991 "
      ],
      "text/plain": [
       "<IPython.core.display.Markdown object>"
      ]
     },
     "execution_count": 34,
     "metadata": {},
     "output_type": "execute_result"
    }
   ],
   "source": [
    "md(\" **2. Dataset auf PROD-Datakatalog:** Link {} \".format(ckan_prod_url+package_name))"
   ]
  },
  {
   "cell_type": "markdown",
   "metadata": {
    "tags": []
   },
   "source": [
    "### Importiere einen Datensatz \n",
    "\n",
    "Definiere zuerst folgende Werte:\n",
    "1) Kommt der Datensatz von PROD oder INTEG?\n",
    "2) Beziehst Du den Datensatz direkt ab der DROPZONE oder aus dem INTERNET?"
   ]
  },
  {
   "cell_type": "code",
   "execution_count": 35,
   "metadata": {},
   "outputs": [
    {
     "name": "stdout",
     "output_type": "stream",
     "text": [
      "integ - web\n"
     ]
    }
   ],
   "source": [
    "#Die Datasets sind nur zum Testen auf INT-DWH-Dropzone. Wenn der Test vorbei ist, sind sie auf PROD. \n",
    "# Über den Status kann man einfach switchen\n",
    "\n",
    "status = \"integ\"; #prod vs something else\n",
    "data_source = \"web\"; #dropzone vs something else\n",
    "print(status+\" - \"+ data_source)"
   ]
  },
  {
   "cell_type": "code",
   "execution_count": 36,
   "metadata": {
    "tags": []
   },
   "outputs": [
    {
     "name": "stdout",
     "output_type": "stream",
     "text": [
      "fp lautet:https://data.integ.stadt-zuerich.ch/dataset/int_dwh_bau_neubau_whg_hh_whnfl_bp_zizahl_eart_hhtyp_quart_od6991/download/BAU699OD6991.csv\n"
     ]
    }
   ],
   "source": [
    "# Filepath\n",
    "if status == \"prod\":\n",
    "    if data_source == \"dropzone\":\n",
    "            fp = dropzone_path_prod+\"\\\\\"+ package_name +\"\\\\\"+dataset_name\n",
    "            print(\"fp lautet:\"+fp)\n",
    "    else:\n",
    "        #fp = r\"https://data.stadt-zuerich.ch/dataset/bau_neubau_whg_bausm_rinh_geb_projstatus_quartier_seit2009_od5011/download/BAU501OD5011.csv\"\n",
    "        fp = ckan_prod_url+package_name+'/download/'+dataset_name\n",
    "        print(\"fp lautet:\"+fp)\n",
    "else:\n",
    "    if data_source == \"dropzone\":\n",
    "        fp = dropzone_path_integ+\"\\\\\"+ package_name +\"\\\\\"+dataset_name\n",
    "        print(\"fp lautet:\"+fp)\n",
    "    else:\n",
    "        #fp = r\"https://data.stadt-zuerich.ch/dataset/bau_neubau_whg_bausm_rinh_geb_projstatus_quartier_seit2009_od5011/download/BAU501OD5011.csv\"\n",
    "        fp = ckan_integ_url+package_name+'/download/'+dataset_name\n",
    "        print(\"fp lautet:\"+fp)\n"
   ]
  },
  {
   "cell_type": "markdown",
   "metadata": {},
   "source": [
    "Beachte, wie das SAS Datum (ohne Format) in ein UNIX Datum umgerechnet und als Datumsformat dargestellt wird! Siehe dazu `https://stackoverflow.com/questions/26923564/convert-sas-numeric-to-python-datetime`"
   ]
  },
  {
   "cell_type": "code",
   "execution_count": 42,
   "metadata": {},
   "outputs": [
    {
     "name": "stdout",
     "output_type": "stream",
     "text": [
      "web\n"
     ]
    },
    {
     "data": {
      "text/plain": [
       "Bauperiode      object\n",
       "QuarSort         int64\n",
       "QuarLang        object\n",
       "KreisSort        int64\n",
       "KreisLang       object\n",
       "Zimmer          object\n",
       "EigGruSort       int64\n",
       "EigGruLang      object\n",
       "Mietwohnung     object\n",
       "HhGruppeSort     int64\n",
       "HhGruppeLang    object\n",
       "AnzWhg           int64\n",
       "Wohnflaeche      int64\n",
       "AnzPersonen      int64\n",
       "AnzRentner       int64\n",
       "AnzKinder        int64\n",
       "dtype: object"
      ]
     },
     "execution_count": 42,
     "metadata": {},
     "output_type": "execute_result"
    }
   ],
   "source": [
    "# Read the data\n",
    "if data_source == \"dropzone\":\n",
    "    data2betested = pd.read_csv(\n",
    "        fp\n",
    "        , sep=','\n",
    "        #,parse_dates=['Jahr']\n",
    "        ,low_memory=False\n",
    "    )\n",
    "    print(\"dropzone\")\n",
    "else:\n",
    "    r = requests.get(fp, verify=False)  \n",
    "    r.encoding = 'utf-8'\n",
    "    data2betested = pd.read_csv(\n",
    "        io.StringIO(r.text)\n",
    "        #,parse_dates=['Jahr']\n",
    "        # KONVERTIERE DAS SAS DATUM IN EIN UNIXDATUM UND FORMATIERE ES\n",
    "        #, date_parser=lambda s: epoch + datetime.timedelta(days=int(s))\n",
    "        ,low_memory=False)\n",
    "    print(\"web\")\n",
    "\n",
    "data2betested.dtypes\n",
    "#data2betested.head()"
   ]
  },
  {
   "cell_type": "markdown",
   "metadata": {},
   "source": [
    "Berechne weitere Attribute falls notwendig"
   ]
  },
  {
   "cell_type": "code",
   "execution_count": 44,
   "metadata": {},
   "outputs": [
    {
     "data": {
      "text/plain": [
       "Bauperiode      object\n",
       "QuarSort         int64\n",
       "QuarLang        object\n",
       "KreisSort        int64\n",
       "KreisLang       object\n",
       "Zimmer          object\n",
       "EigGruSort       int64\n",
       "EigGruLang      object\n",
       "Mietwohnung     object\n",
       "HhGruppeSort     int64\n",
       "HhGruppeLang    object\n",
       "AnzWhg           int64\n",
       "Wohnflaeche      int64\n",
       "AnzPersonen      int64\n",
       "AnzRentner       int64\n",
       "AnzKinder        int64\n",
       "dtype: object"
      ]
     },
     "execution_count": 44,
     "metadata": {},
     "output_type": "execute_result"
    }
   ],
   "source": [
    "data2betested = (\n",
    "    data2betested\n",
    "    .copy()\n",
    "    .assign(\n",
    "        #Aktualisierungs_Datum_str= lambda x: x.Aktualisierungs_Datum.astype(str),\n",
    "        #StichtagDatJahr_str = lambda x: x.StichtagDatJahr.astype(str),\n",
    "    )\n",
    "    #.sort_values('StichtagDatJahr', ascending=False)\n",
    "    )\n",
    "data2betested.dtypes"
   ]
  },
  {
   "cell_type": "markdown",
   "metadata": {},
   "source": [
    "### Einfache Datentests"
   ]
  },
  {
   "cell_type": "markdown",
   "metadata": {},
   "source": [
    " - 1) Zeige eine kurze Vorschau der importierten Daten\n",
    " - 2) Weise die Datentypen aus\n",
    " - 3) Zeige die Shape (Umfang) des Datensatzes an"
   ]
  },
  {
   "cell_type": "code",
   "execution_count": 45,
   "metadata": {},
   "outputs": [],
   "source": [
    "#data2betested.head(6)"
   ]
  },
  {
   "cell_type": "code",
   "execution_count": 49,
   "metadata": {},
   "outputs": [],
   "source": [
    "#data2betested.dtypes"
   ]
  },
  {
   "cell_type": "code",
   "execution_count": 47,
   "metadata": {},
   "outputs": [
    {
     "data": {
      "text/plain": [
       "(5108, 16)"
      ]
     },
     "execution_count": 47,
     "metadata": {},
     "output_type": "execute_result"
    }
   ],
   "source": [
    "data2betested.shape"
   ]
  },
  {
   "cell_type": "markdown",
   "metadata": {},
   "source": [
    "Beschreibe einzelne Attribute"
   ]
  },
  {
   "cell_type": "code",
   "execution_count": 50,
   "metadata": {},
   "outputs": [
    {
     "data": {
      "text/html": [
       "<div>\n",
       "<style scoped>\n",
       "    .dataframe tbody tr th:only-of-type {\n",
       "        vertical-align: middle;\n",
       "    }\n",
       "\n",
       "    .dataframe tbody tr th {\n",
       "        vertical-align: top;\n",
       "    }\n",
       "\n",
       "    .dataframe thead th {\n",
       "        text-align: right;\n",
       "    }\n",
       "</style>\n",
       "<table border=\"1\" class=\"dataframe\">\n",
       "  <thead>\n",
       "    <tr style=\"text-align: right;\">\n",
       "      <th></th>\n",
       "      <th>QuarSort</th>\n",
       "      <th>KreisSort</th>\n",
       "      <th>EigGruSort</th>\n",
       "      <th>HhGruppeSort</th>\n",
       "      <th>AnzWhg</th>\n",
       "      <th>Wohnflaeche</th>\n",
       "      <th>AnzPersonen</th>\n",
       "      <th>AnzRentner</th>\n",
       "      <th>AnzKinder</th>\n",
       "    </tr>\n",
       "  </thead>\n",
       "  <tbody>\n",
       "    <tr>\n",
       "      <th>count</th>\n",
       "      <td>5108</td>\n",
       "      <td>5108</td>\n",
       "      <td>5108</td>\n",
       "      <td>5108</td>\n",
       "      <td>5108</td>\n",
       "      <td>5108</td>\n",
       "      <td>5108</td>\n",
       "      <td>5108</td>\n",
       "      <td>5108</td>\n",
       "    </tr>\n",
       "    <tr>\n",
       "      <th>mean</th>\n",
       "      <td>78</td>\n",
       "      <td>8</td>\n",
       "      <td>3</td>\n",
       "      <td>4</td>\n",
       "      <td>6</td>\n",
       "      <td>544</td>\n",
       "      <td>13</td>\n",
       "      <td>1</td>\n",
       "      <td>3</td>\n",
       "    </tr>\n",
       "    <tr>\n",
       "      <th>std</th>\n",
       "      <td>33</td>\n",
       "      <td>3</td>\n",
       "      <td>1</td>\n",
       "      <td>3</td>\n",
       "      <td>13</td>\n",
       "      <td>1149</td>\n",
       "      <td>28</td>\n",
       "      <td>4</td>\n",
       "      <td>9</td>\n",
       "    </tr>\n",
       "    <tr>\n",
       "      <th>min</th>\n",
       "      <td>12</td>\n",
       "      <td>1</td>\n",
       "      <td>1</td>\n",
       "      <td>1</td>\n",
       "      <td>1</td>\n",
       "      <td>17</td>\n",
       "      <td>1</td>\n",
       "      <td>0</td>\n",
       "      <td>0</td>\n",
       "    </tr>\n",
       "    <tr>\n",
       "      <th>25%</th>\n",
       "      <td>52</td>\n",
       "      <td>5</td>\n",
       "      <td>2</td>\n",
       "      <td>2</td>\n",
       "      <td>1</td>\n",
       "      <td>120</td>\n",
       "      <td>2</td>\n",
       "      <td>0</td>\n",
       "      <td>0</td>\n",
       "    </tr>\n",
       "    <tr>\n",
       "      <th>50%</th>\n",
       "      <td>83</td>\n",
       "      <td>8</td>\n",
       "      <td>3</td>\n",
       "      <td>4</td>\n",
       "      <td>2</td>\n",
       "      <td>213</td>\n",
       "      <td>4</td>\n",
       "      <td>0</td>\n",
       "      <td>0</td>\n",
       "    </tr>\n",
       "    <tr>\n",
       "      <th>75%</th>\n",
       "      <td>111</td>\n",
       "      <td>11</td>\n",
       "      <td>5</td>\n",
       "      <td>6</td>\n",
       "      <td>5</td>\n",
       "      <td>492</td>\n",
       "      <td>12</td>\n",
       "      <td>0</td>\n",
       "      <td>2</td>\n",
       "    </tr>\n",
       "    <tr>\n",
       "      <th>max</th>\n",
       "      <td>123</td>\n",
       "      <td>12</td>\n",
       "      <td>5</td>\n",
       "      <td>9</td>\n",
       "      <td>310</td>\n",
       "      <td>23306</td>\n",
       "      <td>488</td>\n",
       "      <td>99</td>\n",
       "      <td>172</td>\n",
       "    </tr>\n",
       "  </tbody>\n",
       "</table>\n",
       "</div>"
      ],
      "text/plain": [
       "       QuarSort  KreisSort  EigGruSort  HhGruppeSort  AnzWhg  Wohnflaeche  AnzPersonen  \\\n",
       "count      5108       5108        5108          5108    5108         5108         5108   \n",
       "mean         78          8           3             4       6          544           13   \n",
       "std          33          3           1             3      13         1149           28   \n",
       "min          12          1           1             1       1           17            1   \n",
       "25%          52          5           2             2       1          120            2   \n",
       "50%          83          8           3             4       2          213            4   \n",
       "75%         111         11           5             6       5          492           12   \n",
       "max         123         12           5             9     310        23306          488   \n",
       "\n",
       "       AnzRentner  AnzKinder  \n",
       "count        5108       5108  \n",
       "mean            1          3  \n",
       "std             4          9  \n",
       "min             0          0  \n",
       "25%             0          0  \n",
       "50%             0          0  \n",
       "75%             0          2  \n",
       "max            99        172  "
      ]
     },
     "execution_count": 50,
     "metadata": {},
     "output_type": "execute_result"
    }
   ],
   "source": [
    "data2betested.describe()"
   ]
  },
  {
   "cell_type": "markdown",
   "metadata": {},
   "source": [
    "Wie viele Nullwerte gibt es im Datensatz?"
   ]
  },
  {
   "cell_type": "code",
   "execution_count": 51,
   "metadata": {
    "scrolled": true
   },
   "outputs": [
    {
     "data": {
      "text/plain": [
       "Bauperiode      0\n",
       "QuarSort        0\n",
       "QuarLang        0\n",
       "KreisSort       0\n",
       "KreisLang       0\n",
       "Zimmer          0\n",
       "EigGruSort      0\n",
       "EigGruLang      0\n",
       "Mietwohnung     0\n",
       "HhGruppeSort    0\n",
       "HhGruppeLang    0\n",
       "AnzWhg          0\n",
       "Wohnflaeche     0\n",
       "AnzPersonen     0\n",
       "AnzRentner      0\n",
       "AnzKinder       0\n",
       "dtype: int64"
      ]
     },
     "execution_count": 51,
     "metadata": {},
     "output_type": "execute_result"
    }
   ],
   "source": [
    "data2betested.isnull().sum()"
   ]
  },
  {
   "cell_type": "markdown",
   "metadata": {
    "colab_type": "text",
    "id": "1dTPVmmsgOVx"
   },
   "source": [
    "### Verwende das Datum als Index\n",
    "\n",
    "While we did already parse the `datetime` column into the respective datetime type, it currently is just a regular column. \n",
    "**To enable quick and convenient queries and aggregations, we need to turn it into the index of the DataFrame**"
   ]
  },
  {
   "cell_type": "code",
   "execution_count": 52,
   "metadata": {},
   "outputs": [],
   "source": [
    "#data2betested = data2betested.set_index(\"StichtagDatJahr\")"
   ]
  },
  {
   "cell_type": "code",
   "execution_count": 54,
   "metadata": {},
   "outputs": [
    {
     "name": "stdout",
     "output_type": "stream",
     "text": [
      "<class 'pandas.core.frame.DataFrame'>\n",
      "RangeIndex: 5108 entries, 0 to 5107\n",
      "Data columns (total 16 columns):\n",
      " #   Column        Non-Null Count  Dtype \n",
      "---  ------        --------------  ----- \n",
      " 0   Bauperiode    5108 non-null   object\n",
      " 1   QuarSort      5108 non-null   int64 \n",
      " 2   QuarLang      5108 non-null   object\n",
      " 3   KreisSort     5108 non-null   int64 \n",
      " 4   KreisLang     5108 non-null   object\n",
      " 5   Zimmer        5108 non-null   object\n",
      " 6   EigGruSort    5108 non-null   int64 \n",
      " 7   EigGruLang    5108 non-null   object\n",
      " 8   Mietwohnung   5108 non-null   object\n",
      " 9   HhGruppeSort  5108 non-null   int64 \n",
      " 10  HhGruppeLang  5108 non-null   object\n",
      " 11  AnzWhg        5108 non-null   int64 \n",
      " 12  Wohnflaeche   5108 non-null   int64 \n",
      " 13  AnzPersonen   5108 non-null   int64 \n",
      " 14  AnzRentner    5108 non-null   int64 \n",
      " 15  AnzKinder     5108 non-null   int64 \n",
      "dtypes: int64(9), object(7)\n",
      "memory usage: 638.6+ KB\n"
     ]
    }
   ],
   "source": [
    "data2betested.info()\n",
    "#data2betested.index.day.unique()"
   ]
  },
  {
   "cell_type": "markdown",
   "metadata": {},
   "source": [
    "### Einfache Visualisierungen zur Plausi"
   ]
  },
  {
   "cell_type": "markdown",
   "metadata": {},
   "source": [
    "Exploriere die Daten mit Pivottable.JS"
   ]
  },
  {
   "cell_type": "code",
   "execution_count": 58,
   "metadata": {},
   "outputs": [
    {
     "data": {
      "text/html": [
       "\n",
       "        <iframe\n",
       "            width=\"100%\"\n",
       "            height=\"500\"\n",
       "            src=\"pivottablejs.html\"\n",
       "            frameborder=\"0\"\n",
       "            allowfullscreen\n",
       "            \n",
       "        ></iframe>\n",
       "        "
      ],
      "text/plain": [
       "<IPython.lib.display.IFrame at 0x1645035f448>"
      ]
     },
     "execution_count": 58,
     "metadata": {},
     "output_type": "execute_result"
    }
   ],
   "source": [
    "from pivottablejs import pivot_ui\n",
    "\n",
    "pivot_ui(data2betested)"
   ]
  },
  {
   "cell_type": "markdown",
   "metadata": {},
   "source": [
    "### Zeitpunkte und Zeiträume abfragen\n",
    "\n",
    "A particular powerful feature of the Pandas DataFrame is its indexing capability that also works using time-based entities, such as dates and times. We have already created the index above, so let's put it to use."
   ]
  },
  {
   "cell_type": "code",
   "execution_count": 59,
   "metadata": {},
   "outputs": [],
   "source": [
    "#data2betested.loc[\"2008\":\"2021\"].head(2)\n",
    "#data2betested.loc[\"2021-10-31\":\"2021-11-30\"].head(2)"
   ]
  },
  {
   "cell_type": "markdown",
   "metadata": {},
   "source": [
    "### Visualisierungen nach Zeitausschnitten"
   ]
  },
  {
   "cell_type": "markdown",
   "metadata": {
    "tags": []
   },
   "source": [
    "#### Entwicklung "
   ]
  },
  {
   "cell_type": "code",
   "execution_count": 57,
   "metadata": {},
   "outputs": [
    {
     "data": {
      "text/plain": [
       "Index(['Bauperiode', 'QuarSort', 'QuarLang', 'KreisSort', 'KreisLang', 'Zimmer', 'EigGruSort',\n",
       "       'EigGruLang', 'Mietwohnung', 'HhGruppeSort', 'HhGruppeLang', 'AnzWhg', 'Wohnflaeche',\n",
       "       'AnzPersonen', 'AnzRentner', 'AnzKinder'],\n",
       "      dtype='object')"
      ]
     },
     "execution_count": 57,
     "metadata": {},
     "output_type": "execute_result"
    }
   ],
   "source": [
    "data2betested.columns"
   ]
  },
  {
   "cell_type": "code",
   "execution_count": 63,
   "metadata": {
    "tags": []
   },
   "outputs": [
    {
     "data": {
      "text/html": [
       "<div>\n",
       "<style scoped>\n",
       "    .dataframe tbody tr th:only-of-type {\n",
       "        vertical-align: middle;\n",
       "    }\n",
       "\n",
       "    .dataframe tbody tr th {\n",
       "        vertical-align: top;\n",
       "    }\n",
       "\n",
       "    .dataframe thead th {\n",
       "        text-align: right;\n",
       "    }\n",
       "</style>\n",
       "<table border=\"1\" class=\"dataframe\">\n",
       "  <thead>\n",
       "    <tr style=\"text-align: right;\">\n",
       "      <th></th>\n",
       "      <th>Bauperiode</th>\n",
       "      <th>HhGruppeSort</th>\n",
       "      <th>HhGruppeLang</th>\n",
       "      <th>sum_AnzWhg</th>\n",
       "      <th>sum_Wohnflaeche</th>\n",
       "      <th>sum_AnzPersonen</th>\n",
       "      <th>sum_AnzRentner</th>\n",
       "      <th>sum_AnzKinder</th>\n",
       "    </tr>\n",
       "  </thead>\n",
       "  <tbody>\n",
       "    <tr>\n",
       "      <th>0</th>\n",
       "      <td>2007–2011</td>\n",
       "      <td>1</td>\n",
       "      <td>1 Person im Erwerbsalter</td>\n",
       "      <td>1631</td>\n",
       "      <td>143097</td>\n",
       "      <td>1631</td>\n",
       "      <td>0</td>\n",
       "      <td>6</td>\n",
       "    </tr>\n",
       "    <tr>\n",
       "      <th>1</th>\n",
       "      <td>2017–2021</td>\n",
       "      <td>1</td>\n",
       "      <td>1 Person im Erwerbsalter</td>\n",
       "      <td>3028</td>\n",
       "      <td>202862</td>\n",
       "      <td>3028</td>\n",
       "      <td>0</td>\n",
       "      <td>0</td>\n",
       "    </tr>\n",
       "    <tr>\n",
       "      <th>2</th>\n",
       "      <td>2012–2016</td>\n",
       "      <td>1</td>\n",
       "      <td>1 Person im Erwerbsalter</td>\n",
       "      <td>2711</td>\n",
       "      <td>210237</td>\n",
       "      <td>2711</td>\n",
       "      <td>0</td>\n",
       "      <td>2</td>\n",
       "    </tr>\n",
       "  </tbody>\n",
       "</table>\n",
       "</div>"
      ],
      "text/plain": [
       "  Bauperiode  HhGruppeSort              HhGruppeLang  sum_AnzWhg  sum_Wohnflaeche  \\\n",
       "0  2007–2011             1  1 Person im Erwerbsalter        1631           143097   \n",
       "1  2017–2021             1  1 Person im Erwerbsalter        3028           202862   \n",
       "2  2012–2016             1  1 Person im Erwerbsalter        2711           210237   \n",
       "\n",
       "   sum_AnzPersonen  sum_AnzRentner  sum_AnzKinder  \n",
       "0             1631               0              6  \n",
       "1             3028               0              0  \n",
       "2             2711               0              2  "
      ]
     },
     "execution_count": 63,
     "metadata": {},
     "output_type": "execute_result"
    }
   ],
   "source": [
    "myAgg = data2betested\\\n",
    "    .groupby(['Bauperiode', 'HhGruppeSort', 'HhGruppeLang']) \\\n",
    "    .agg(sum_AnzWhg=('AnzWhg', 'sum')\n",
    "         , sum_Wohnflaeche=('Wohnflaeche', 'sum')\n",
    "         , sum_AnzPersonen=('AnzPersonen', 'sum')\n",
    "         , sum_AnzRentner=('AnzRentner', 'sum')\n",
    "         , sum_AnzKinder=('AnzKinder', 'sum')\n",
    "        ) \\\n",
    "    .sort_values('HhGruppeSort', ascending=True) \n",
    "\n",
    "myAgg.reset_index().head(3)"
   ]
  },
  {
   "cell_type": "code",
   "execution_count": 74,
   "metadata": {},
   "outputs": [
    {
     "data": {
      "text/html": [
       "\n",
       "<div id=\"altair-viz-8f038b4dbc4b496c92e1afdb9a6cd49d\"></div>\n",
       "<script type=\"text/javascript\">\n",
       "  (function(spec, embedOpt){\n",
       "    let outputDiv = document.currentScript.previousElementSibling;\n",
       "    if (outputDiv.id !== \"altair-viz-8f038b4dbc4b496c92e1afdb9a6cd49d\") {\n",
       "      outputDiv = document.getElementById(\"altair-viz-8f038b4dbc4b496c92e1afdb9a6cd49d\");\n",
       "    }\n",
       "    const paths = {\n",
       "      \"vega\": \"https://cdn.jsdelivr.net/npm//vega@5?noext\",\n",
       "      \"vega-lib\": \"https://cdn.jsdelivr.net/npm//vega-lib?noext\",\n",
       "      \"vega-lite\": \"https://cdn.jsdelivr.net/npm//vega-lite@4.8.1?noext\",\n",
       "      \"vega-embed\": \"https://cdn.jsdelivr.net/npm//vega-embed@6?noext\",\n",
       "    };\n",
       "\n",
       "    function loadScript(lib) {\n",
       "      return new Promise(function(resolve, reject) {\n",
       "        var s = document.createElement('script');\n",
       "        s.src = paths[lib];\n",
       "        s.async = true;\n",
       "        s.onload = () => resolve(paths[lib]);\n",
       "        s.onerror = () => reject(`Error loading script: ${paths[lib]}`);\n",
       "        document.getElementsByTagName(\"head\")[0].appendChild(s);\n",
       "      });\n",
       "    }\n",
       "\n",
       "    function showError(err) {\n",
       "      outputDiv.innerHTML = `<div class=\"error\" style=\"color:red;\">${err}</div>`;\n",
       "      throw err;\n",
       "    }\n",
       "\n",
       "    function displayChart(vegaEmbed) {\n",
       "      vegaEmbed(outputDiv, spec, embedOpt)\n",
       "        .catch(err => showError(`Javascript Error: ${err.message}<br>This usually means there's a typo in your chart specification. See the javascript console for the full traceback.`));\n",
       "    }\n",
       "\n",
       "    if(typeof define === \"function\" && define.amd) {\n",
       "      requirejs.config({paths});\n",
       "      require([\"vega-embed\"], displayChart, err => showError(`Error loading script: ${err.message}`));\n",
       "    } else if (typeof vegaEmbed === \"function\") {\n",
       "      displayChart(vegaEmbed);\n",
       "    } else {\n",
       "      loadScript(\"vega\")\n",
       "        .then(() => loadScript(\"vega-lite\"))\n",
       "        .then(() => loadScript(\"vega-embed\"))\n",
       "        .catch(showError)\n",
       "        .then(() => displayChart(vegaEmbed));\n",
       "    }\n",
       "  })({\"config\": {\"view\": {\"continuousWidth\": 400, \"continuousHeight\": 300}}, \"layer\": [{\"mark\": \"line\", \"encoding\": {\"color\": {\"type\": \"nominal\", \"field\": \"Bauperiode\", \"legend\": {\"orient\": \"right\", \"title\": \"Projektstatus\"}}, \"size\": {\"condition\": {\"value\": 0.5, \"selection\": {\"not\": \"selector023\"}}, \"value\": 4}, \"tooltip\": [{\"type\": \"nominal\", \"field\": \"Bauperiode\"}, {\"type\": \"quantitative\", \"field\": \"HhGruppeSort\"}, {\"type\": \"nominal\", \"field\": \"HhGruppeLang\"}, {\"type\": \"quantitative\", \"field\": \"sum_AnzPersonen\"}], \"x\": {\"type\": \"quantitative\", \"axis\": {\"title\": \"Jahr\"}, \"field\": \"HhGruppeSort\"}, \"y\": {\"type\": \"quantitative\", \"axis\": {\"title\": \"Anz. Projektierte Geb\\u00e4ude\"}, \"field\": \"sum_AnzWhg\"}}, \"selection\": {\"selector024\": {\"type\": \"interval\", \"bind\": \"scales\", \"encodings\": [\"x\", \"y\"]}}, \"title\": \"Titel\"}, {\"mark\": \"circle\", \"encoding\": {\"color\": {\"type\": \"nominal\", \"field\": \"Bauperiode\", \"legend\": {\"orient\": \"right\", \"title\": \"Projektstatus\"}}, \"opacity\": {\"value\": 0.75}, \"tooltip\": [{\"type\": \"nominal\", \"field\": \"Bauperiode\"}, {\"type\": \"quantitative\", \"field\": \"HhGruppeSort\"}, {\"type\": \"nominal\", \"field\": \"HhGruppeLang\"}, {\"type\": \"quantitative\", \"field\": \"sum_AnzPersonen\"}], \"x\": {\"type\": \"quantitative\", \"axis\": {\"title\": \"Jahr\"}, \"field\": \"HhGruppeSort\"}, \"y\": {\"type\": \"quantitative\", \"axis\": {\"title\": \"Anz. Projektierte Geb\\u00e4ude\"}, \"field\": \"sum_AnzWhg\"}}, \"height\": 350, \"selection\": {\"selector023\": {\"type\": \"single\", \"on\": \"mouseover\", \"fields\": [\"HhGruppeSort\"], \"nearest\": true}}, \"title\": \"Titel\", \"width\": 750}], \"data\": {\"name\": \"data-ad2e4c355b5d62f286bf125d15db89d8\"}, \"$schema\": \"https://vega.github.io/schema/vega-lite/v4.8.1.json\", \"datasets\": {\"data-ad2e4c355b5d62f286bf125d15db89d8\": [{\"Bauperiode\": \"2007\\u20132011\", \"HhGruppeSort\": 1, \"HhGruppeLang\": \"1 Person im Erwerbsalter\", \"sum_AnzWhg\": 1631, \"sum_Wohnflaeche\": 143097, \"sum_AnzPersonen\": 1631, \"sum_AnzRentner\": 0, \"sum_AnzKinder\": 6}, {\"Bauperiode\": \"2017\\u20132021\", \"HhGruppeSort\": 1, \"HhGruppeLang\": \"1 Person im Erwerbsalter\", \"sum_AnzWhg\": 3028, \"sum_Wohnflaeche\": 202862, \"sum_AnzPersonen\": 3028, \"sum_AnzRentner\": 0, \"sum_AnzKinder\": 0}, {\"Bauperiode\": \"2012\\u20132016\", \"HhGruppeSort\": 1, \"HhGruppeLang\": \"1 Person im Erwerbsalter\", \"sum_AnzWhg\": 2711, \"sum_Wohnflaeche\": 210237, \"sum_AnzPersonen\": 2711, \"sum_AnzRentner\": 0, \"sum_AnzKinder\": 2}, {\"Bauperiode\": \"2007\\u20132011\", \"HhGruppeSort\": 2, \"HhGruppeLang\": \"2 Personen im Erwerbsalter\", \"sum_AnzWhg\": 2489, \"sum_Wohnflaeche\": 262875, \"sum_AnzPersonen\": 4978, \"sum_AnzRentner\": 0, \"sum_AnzKinder\": 2}, {\"Bauperiode\": \"2017\\u20132021\", \"HhGruppeSort\": 2, \"HhGruppeLang\": \"2 Personen im Erwerbsalter\", \"sum_AnzWhg\": 2918, \"sum_Wohnflaeche\": 256532, \"sum_AnzPersonen\": 5836, \"sum_AnzRentner\": 0, \"sum_AnzKinder\": 0}, {\"Bauperiode\": \"2012\\u20132016\", \"HhGruppeSort\": 2, \"HhGruppeLang\": \"2 Personen im Erwerbsalter\", \"sum_AnzWhg\": 3218, \"sum_Wohnflaeche\": 309635, \"sum_AnzPersonen\": 6436, \"sum_AnzRentner\": 0, \"sum_AnzKinder\": 0}, {\"Bauperiode\": \"2007\\u20132011\", \"HhGruppeSort\": 3, \"HhGruppeLang\": \"1 Person im Rentenalter\", \"sum_AnzWhg\": 432, \"sum_Wohnflaeche\": 34963, \"sum_AnzPersonen\": 432, \"sum_AnzRentner\": 432, \"sum_AnzKinder\": 0}, {\"Bauperiode\": \"2017\\u20132021\", \"HhGruppeSort\": 3, \"HhGruppeLang\": \"1 Person im Rentenalter\", \"sum_AnzWhg\": 668, \"sum_Wohnflaeche\": 45417, \"sum_AnzPersonen\": 668, \"sum_AnzRentner\": 668, \"sum_AnzKinder\": 0}, {\"Bauperiode\": \"2012\\u20132016\", \"HhGruppeSort\": 3, \"HhGruppeLang\": \"1 Person im Rentenalter\", \"sum_AnzWhg\": 594, \"sum_Wohnflaeche\": 43736, \"sum_AnzPersonen\": 594, \"sum_AnzRentner\": 594, \"sum_AnzKinder\": 0}, {\"Bauperiode\": \"2007\\u20132011\", \"HhGruppeSort\": 4, \"HhGruppeLang\": \"2 Personen im Rentenalter\", \"sum_AnzWhg\": 404, \"sum_Wohnflaeche\": 41156, \"sum_AnzPersonen\": 808, \"sum_AnzRentner\": 673, \"sum_AnzKinder\": 0}, {\"Bauperiode\": \"2017\\u20132021\", \"HhGruppeSort\": 4, \"HhGruppeLang\": \"2 Personen im Rentenalter\", \"sum_AnzWhg\": 519, \"sum_Wohnflaeche\": 44776, \"sum_AnzPersonen\": 1038, \"sum_AnzRentner\": 846, \"sum_AnzKinder\": 0}, {\"Bauperiode\": \"2012\\u20132016\", \"HhGruppeSort\": 4, \"HhGruppeLang\": \"2 Personen im Rentenalter\", \"sum_AnzWhg\": 579, \"sum_Wohnflaeche\": 53868, \"sum_AnzPersonen\": 1158, \"sum_AnzRentner\": 989, \"sum_AnzKinder\": 0}, {\"Bauperiode\": \"2017\\u20132021\", \"HhGruppeSort\": 5, \"HhGruppeLang\": \"2 Erwachsene mit 1 Kind\", \"sum_AnzWhg\": 1023, \"sum_Wohnflaeche\": 101974, \"sum_AnzPersonen\": 3069, \"sum_AnzRentner\": 6, \"sum_AnzKinder\": 1023}, {\"Bauperiode\": \"2012\\u20132016\", \"HhGruppeSort\": 5, \"HhGruppeLang\": \"2 Erwachsene mit 1 Kind\", \"sum_AnzWhg\": 1099, \"sum_Wohnflaeche\": 118003, \"sum_AnzPersonen\": 3297, \"sum_AnzRentner\": 5, \"sum_AnzKinder\": 1099}, {\"Bauperiode\": \"2007\\u20132011\", \"HhGruppeSort\": 5, \"HhGruppeLang\": \"2 Erwachsene mit 1 Kind\", \"sum_AnzWhg\": 776, \"sum_Wohnflaeche\": 92538, \"sum_AnzPersonen\": 2328, \"sum_AnzRentner\": 1, \"sum_AnzKinder\": 776}, {\"Bauperiode\": \"2012\\u20132016\", \"HhGruppeSort\": 6, \"HhGruppeLang\": \"2 Erwachsene mit 2 Kindern\", \"sum_AnzWhg\": 993, \"sum_Wohnflaeche\": 115299, \"sum_AnzPersonen\": 3972, \"sum_AnzRentner\": 0, \"sum_AnzKinder\": 1986}, {\"Bauperiode\": \"2007\\u20132011\", \"HhGruppeSort\": 6, \"HhGruppeLang\": \"2 Erwachsene mit 2 Kindern\", \"sum_AnzWhg\": 736, \"sum_Wohnflaeche\": 90531, \"sum_AnzPersonen\": 2944, \"sum_AnzRentner\": 2, \"sum_AnzKinder\": 1472}, {\"Bauperiode\": \"2017\\u20132021\", \"HhGruppeSort\": 6, \"HhGruppeLang\": \"2 Erwachsene mit 2 Kindern\", \"sum_AnzWhg\": 1156, \"sum_Wohnflaeche\": 127758, \"sum_AnzPersonen\": 4624, \"sum_AnzRentner\": 5, \"sum_AnzKinder\": 2312}, {\"Bauperiode\": \"2012\\u20132016\", \"HhGruppeSort\": 7, \"HhGruppeLang\": \"2 Erwachsene mit 3+ Kindern\", \"sum_AnzWhg\": 236, \"sum_Wohnflaeche\": 30011, \"sum_AnzPersonen\": 1231, \"sum_AnzRentner\": 0, \"sum_AnzKinder\": 759}, {\"Bauperiode\": \"2007\\u20132011\", \"HhGruppeSort\": 7, \"HhGruppeLang\": \"2 Erwachsene mit 3+ Kindern\", \"sum_AnzWhg\": 223, \"sum_Wohnflaeche\": 29973, \"sum_AnzPersonen\": 1168, \"sum_AnzRentner\": 0, \"sum_AnzKinder\": 722}, {\"Bauperiode\": \"2017\\u20132021\", \"HhGruppeSort\": 7, \"HhGruppeLang\": \"2 Erwachsene mit 3+ Kindern\", \"sum_AnzWhg\": 286, \"sum_Wohnflaeche\": 34455, \"sum_AnzPersonen\": 1498, \"sum_AnzRentner\": 1, \"sum_AnzKinder\": 926}, {\"Bauperiode\": \"2012\\u20132016\", \"HhGruppeSort\": 8, \"HhGruppeLang\": \"1 Erwachsener mit Kind\", \"sum_AnzWhg\": 241, \"sum_Wohnflaeche\": 24322, \"sum_AnzPersonen\": 609, \"sum_AnzRentner\": 0, \"sum_AnzKinder\": 368}, {\"Bauperiode\": \"2007\\u20132011\", \"HhGruppeSort\": 8, \"HhGruppeLang\": \"1 Erwachsener mit Kind\", \"sum_AnzWhg\": 228, \"sum_Wohnflaeche\": 25091, \"sum_AnzPersonen\": 580, \"sum_AnzRentner\": 2, \"sum_AnzKinder\": 352}, {\"Bauperiode\": \"2017\\u20132021\", \"HhGruppeSort\": 8, \"HhGruppeLang\": \"1 Erwachsener mit Kind\", \"sum_AnzWhg\": 267, \"sum_Wohnflaeche\": 25839, \"sum_AnzPersonen\": 672, \"sum_AnzRentner\": 1, \"sum_AnzKinder\": 405}, {\"Bauperiode\": \"2012\\u20132016\", \"HhGruppeSort\": 9, \"HhGruppeLang\": \"Andere Haushalte (3+ Erwachsene)\", \"sum_AnzWhg\": 1035, \"sum_Wohnflaeche\": 126794, \"sum_AnzPersonen\": 4170, \"sum_AnzRentner\": 162, \"sum_AnzKinder\": 483}, {\"Bauperiode\": \"2007\\u20132011\", \"HhGruppeSort\": 9, \"HhGruppeLang\": \"Andere Haushalte (3+ Erwachsene)\", \"sum_AnzWhg\": 892, \"sum_Wohnflaeche\": 103676, \"sum_AnzPersonen\": 3637, \"sum_AnzRentner\": 128, \"sum_AnzKinder\": 546}, {\"Bauperiode\": \"2017\\u20132021\", \"HhGruppeSort\": 9, \"HhGruppeLang\": \"Andere Haushalte (3+ Erwachsene)\", \"sum_AnzWhg\": 803, \"sum_Wohnflaeche\": 85768, \"sum_AnzPersonen\": 3318, \"sum_AnzRentner\": 143, \"sum_AnzKinder\": 504}]}}, {\"mode\": \"vega-lite\"});\n",
       "</script>"
      ],
      "text/plain": [
       "alt.LayerChart(...)"
      ]
     },
     "execution_count": 74,
     "metadata": {},
     "output_type": "execute_result"
    }
   ],
   "source": [
    "myTitle=\"Titel\"\n",
    "\n",
    "highlight = alt.selection(type='single', on='mouseover',\n",
    "                          fields=['HhGruppeSort'], nearest=True)\n",
    "#x='date:StichtagDatJahr',\n",
    "base = alt.Chart(myAgg.reset_index(), title=myTitle).encode(\n",
    "    x=alt.X('HhGruppeSort', axis=alt.Axis(title='Jahr'))# , axis=alt.Axis(format='%', title='percentage')\n",
    "    , y=alt.X('sum_AnzWhg', axis=alt.Axis(title='Anz. Projektierte Gebäude'))\n",
    "    , color=alt.Color('Bauperiode', legend=alt.Legend(title=\"Projektstatus\", orient=\"right\"))  \n",
    "    ,tooltip=['Bauperiode', 'HhGruppeSort', 'HhGruppeLang','sum_AnzPersonen']    \n",
    ")\n",
    "points = base.mark_circle().encode(\n",
    "    opacity=alt.value(0.75)\n",
    ").add_selection(\n",
    "    highlight\n",
    ").properties(\n",
    "    width=750 , height=350\n",
    ")\n",
    "lines = base.mark_line().encode(\n",
    "    size=alt.condition(~highlight, alt.value(0.5), alt.value(4))\n",
    ").interactive()\n",
    "\n",
    "lines + points"
   ]
  },
  {
   "cell_type": "markdown",
   "metadata": {
    "tags": []
   },
   "source": [
    "#### Barcharts mit Seaborn"
   ]
  },
  {
   "cell_type": "code",
   "execution_count": 75,
   "metadata": {},
   "outputs": [
    {
     "data": {
      "text/plain": [
       "Index(['Bauperiode', 'QuarSort', 'QuarLang', 'KreisSort', 'KreisLang', 'Zimmer', 'EigGruSort',\n",
       "       'EigGruLang', 'Mietwohnung', 'HhGruppeSort', 'HhGruppeLang', 'AnzWhg', 'Wohnflaeche',\n",
       "       'AnzPersonen', 'AnzRentner', 'AnzKinder'],\n",
       "      dtype='object')"
      ]
     },
     "execution_count": 75,
     "metadata": {},
     "output_type": "execute_result"
    }
   ],
   "source": [
    "data2betested.columns"
   ]
  },
  {
   "cell_type": "code",
   "execution_count": 83,
   "metadata": {},
   "outputs": [
    {
     "data": {
      "text/html": [
       "<div>\n",
       "<style scoped>\n",
       "    .dataframe tbody tr th:only-of-type {\n",
       "        vertical-align: middle;\n",
       "    }\n",
       "\n",
       "    .dataframe tbody tr th {\n",
       "        vertical-align: top;\n",
       "    }\n",
       "\n",
       "    .dataframe thead th {\n",
       "        text-align: right;\n",
       "    }\n",
       "</style>\n",
       "<table border=\"1\" class=\"dataframe\">\n",
       "  <thead>\n",
       "    <tr style=\"text-align: right;\">\n",
       "      <th></th>\n",
       "      <th>Bauperiode</th>\n",
       "      <th>Mietwohnung</th>\n",
       "      <th>HhGruppeSort</th>\n",
       "      <th>HhGruppeLang</th>\n",
       "      <th>sum_AnzWhg</th>\n",
       "      <th>sum_Wohnflaeche</th>\n",
       "      <th>sum_AnzPersonen</th>\n",
       "      <th>sum_AnzRentner</th>\n",
       "      <th>sum_AnzKinder</th>\n",
       "    </tr>\n",
       "  </thead>\n",
       "  <tbody>\n",
       "    <tr>\n",
       "      <th>0</th>\n",
       "      <td>2007–2011</td>\n",
       "      <td>Ja</td>\n",
       "      <td>1</td>\n",
       "      <td>1 Person im Erwerbsalter</td>\n",
       "      <td>1332</td>\n",
       "      <td>108742</td>\n",
       "      <td>1332</td>\n",
       "      <td>0</td>\n",
       "      <td>5</td>\n",
       "    </tr>\n",
       "    <tr>\n",
       "      <th>1</th>\n",
       "      <td>2017–2021</td>\n",
       "      <td>Nein</td>\n",
       "      <td>1</td>\n",
       "      <td>1 Person im Erwerbsalter</td>\n",
       "      <td>153</td>\n",
       "      <td>14570</td>\n",
       "      <td>153</td>\n",
       "      <td>0</td>\n",
       "      <td>0</td>\n",
       "    </tr>\n",
       "    <tr>\n",
       "      <th>2</th>\n",
       "      <td>2017–2021</td>\n",
       "      <td>Ja</td>\n",
       "      <td>1</td>\n",
       "      <td>1 Person im Erwerbsalter</td>\n",
       "      <td>2875</td>\n",
       "      <td>188292</td>\n",
       "      <td>2875</td>\n",
       "      <td>0</td>\n",
       "      <td>0</td>\n",
       "    </tr>\n",
       "  </tbody>\n",
       "</table>\n",
       "</div>"
      ],
      "text/plain": [
       "  Bauperiode Mietwohnung  HhGruppeSort              HhGruppeLang  sum_AnzWhg  sum_Wohnflaeche  \\\n",
       "0  2007–2011          Ja             1  1 Person im Erwerbsalter        1332           108742   \n",
       "1  2017–2021        Nein             1  1 Person im Erwerbsalter         153            14570   \n",
       "2  2017–2021          Ja             1  1 Person im Erwerbsalter        2875           188292   \n",
       "\n",
       "   sum_AnzPersonen  sum_AnzRentner  sum_AnzKinder  \n",
       "0             1332               0              5  \n",
       "1              153               0              0  \n",
       "2             2875               0              0  "
      ]
     },
     "execution_count": 83,
     "metadata": {},
     "output_type": "execute_result"
    }
   ],
   "source": [
    "myAggBar = data2betested\\\n",
    "    .groupby(['Bauperiode', 'Mietwohnung', 'HhGruppeSort', 'HhGruppeLang']) \\\n",
    "    .agg(sum_AnzWhg=('AnzWhg', 'sum')\n",
    "         , sum_Wohnflaeche=('Wohnflaeche', 'sum')\n",
    "         , sum_AnzPersonen=('AnzPersonen', 'sum')\n",
    "         , sum_AnzRentner=('AnzRentner', 'sum')\n",
    "         , sum_AnzKinder=('AnzKinder', 'sum')\n",
    "        ) \\\n",
    "    .sort_values('HhGruppeSort', ascending=True) \n",
    "\n",
    "myAggBar.reset_index().head(3)"
   ]
  },
  {
   "cell_type": "code",
   "execution_count": 84,
   "metadata": {},
   "outputs": [],
   "source": [
    "#help(sns.catplot)     "
   ]
  },
  {
   "cell_type": "code",
   "execution_count": 85,
   "metadata": {},
   "outputs": [],
   "source": [
    "#Stile for the following sns graphs\n",
    "sns.set_theme(style=\"whitegrid\")"
   ]
  },
  {
   "cell_type": "code",
   "execution_count": 91,
   "metadata": {},
   "outputs": [
    {
     "data": {
      "text/plain": [
       "<seaborn.axisgrid.FacetGrid at 0x1645102dac8>"
      ]
     },
     "execution_count": 91,
     "metadata": {},
     "output_type": "execute_result"
    },
    {
     "data": {
      "image/png": "[encoded data removed]",
      "text/plain": [
       "<Figure size 933.975x360 with 1 Axes>"
      ]
     },
     "metadata": {},
     "output_type": "display_data"
    }
   ],
   "source": [
    "#sns.color_palette(\"flare\", as_cmap=True)\n",
    "myHist = sns.catplot(x=\"Bauperiode\"\n",
    "            , y=\"sum_AnzPersonen\"\n",
    "            , hue=\"HhGruppeLang\"\n",
    "            , kind=\"bar\" #boxen, violin, --> wenn die aggregation nicht genau den werten in der grafik entspricht\n",
    "            , palette=\"pastel\" #, color=\"green\"\n",
    "            , height=5\n",
    "            , aspect=2\n",
    "            , order=None, legend_out=True\n",
    "            ,data=myAggBar.query('Mietwohnung == \"Nein\"').sort_values('HhGruppeSort', ascending=True).reset_index()\n",
    "           )\n",
    "myHist.set_xlabels('Jahr', fontsize=11) # not set_label\n",
    "myHist.set_ylabels('Anz. Personen', fontsize=11)\n"
   ]
  },
  {
   "cell_type": "code",
   "execution_count": 92,
   "metadata": {},
   "outputs": [
    {
     "data": {
      "text/plain": [
       "Index(['Bauperiode', 'QuarSort', 'QuarLang', 'KreisSort', 'KreisLang', 'Zimmer', 'EigGruSort',\n",
       "       'EigGruLang', 'Mietwohnung', 'HhGruppeSort', 'HhGruppeLang', 'AnzWhg', 'Wohnflaeche',\n",
       "       'AnzPersonen', 'AnzRentner', 'AnzKinder'],\n",
       "      dtype='object')"
      ]
     },
     "execution_count": 92,
     "metadata": {},
     "output_type": "execute_result"
    }
   ],
   "source": [
    "data2betested.columns"
   ]
  },
  {
   "cell_type": "code",
   "execution_count": 106,
   "metadata": {},
   "outputs": [
    {
     "data": {
      "text/html": [
       "<div>\n",
       "<style scoped>\n",
       "    .dataframe tbody tr th:only-of-type {\n",
       "        vertical-align: middle;\n",
       "    }\n",
       "\n",
       "    .dataframe tbody tr th {\n",
       "        vertical-align: top;\n",
       "    }\n",
       "\n",
       "    .dataframe thead th {\n",
       "        text-align: right;\n",
       "    }\n",
       "</style>\n",
       "<table border=\"1\" class=\"dataframe\">\n",
       "  <thead>\n",
       "    <tr style=\"text-align: right;\">\n",
       "      <th></th>\n",
       "      <th>KreisSort</th>\n",
       "      <th>KreisLang</th>\n",
       "      <th>Zimmer</th>\n",
       "      <th>sum_AnzWhg</th>\n",
       "      <th>sum_Wohnflaeche</th>\n",
       "      <th>sum_AnzPersonen</th>\n",
       "      <th>sum_AnzRentner</th>\n",
       "      <th>sum_AnzKinder</th>\n",
       "    </tr>\n",
       "  </thead>\n",
       "  <tbody>\n",
       "    <tr>\n",
       "      <th>0</th>\n",
       "      <td>1</td>\n",
       "      <td>Kreis 1</td>\n",
       "      <td>3 Zimmer</td>\n",
       "      <td>2</td>\n",
       "      <td>198</td>\n",
       "      <td>6</td>\n",
       "      <td>0</td>\n",
       "      <td>3</td>\n",
       "    </tr>\n",
       "    <tr>\n",
       "      <th>1</th>\n",
       "      <td>1</td>\n",
       "      <td>Kreis 1</td>\n",
       "      <td>4 Zimmer</td>\n",
       "      <td>3</td>\n",
       "      <td>368</td>\n",
       "      <td>7</td>\n",
       "      <td>0</td>\n",
       "      <td>1</td>\n",
       "    </tr>\n",
       "    <tr>\n",
       "      <th>2</th>\n",
       "      <td>2</td>\n",
       "      <td>Kreis 2</td>\n",
       "      <td>1 Zimmer</td>\n",
       "      <td>51</td>\n",
       "      <td>3063</td>\n",
       "      <td>74</td>\n",
       "      <td>7</td>\n",
       "      <td>8</td>\n",
       "    </tr>\n",
       "  </tbody>\n",
       "</table>\n",
       "</div>"
      ],
      "text/plain": [
       "   KreisSort KreisLang    Zimmer  sum_AnzWhg  sum_Wohnflaeche  sum_AnzPersonen  sum_AnzRentner  \\\n",
       "0          1   Kreis 1  3 Zimmer           2              198                6               0   \n",
       "1          1   Kreis 1  4 Zimmer           3              368                7               0   \n",
       "2          2   Kreis 2  1 Zimmer          51             3063               74               7   \n",
       "\n",
       "   sum_AnzKinder  \n",
       "0              3  \n",
       "1              1  \n",
       "2              8  "
      ]
     },
     "execution_count": 106,
     "metadata": {},
     "output_type": "execute_result"
    }
   ],
   "source": [
    "myAggBar = data2betested\\\n",
    "    .groupby(['KreisSort', 'KreisLang', 'Zimmer']) \\\n",
    "    .agg(sum_AnzWhg=('AnzWhg', 'sum')\n",
    "         , sum_Wohnflaeche=('Wohnflaeche', 'sum')\n",
    "         , sum_AnzPersonen=('AnzPersonen', 'sum')\n",
    "         , sum_AnzRentner=('AnzRentner', 'sum')\n",
    "         , sum_AnzKinder=('AnzKinder', 'sum')\n",
    "        ) \\\n",
    "    .sort_values('KreisSort', ascending=True) \n",
    "\n",
    "myAggBar.reset_index().head(3)"
   ]
  },
  {
   "cell_type": "code",
   "execution_count": 107,
   "metadata": {},
   "outputs": [],
   "source": [
    "#myAggBar.reset_index()"
   ]
  },
  {
   "cell_type": "code",
   "execution_count": 110,
   "metadata": {},
   "outputs": [
    {
     "data": {
      "text/plain": [
       "<seaborn.axisgrid.FacetGrid at 0x164595a21c8>"
      ]
     },
     "execution_count": 110,
     "metadata": {},
     "output_type": "execute_result"
    },
    {
     "data": {
      "image/png": "[encoded data removed]",
      "text/plain": [
       "<Figure size 1398.97x432 with 12 Axes>"
      ]
     },
     "metadata": {},
     "output_type": "display_data"
    }
   ],
   "source": [
    "g = sns.FacetGrid(myAggBar.sort_values('KreisSort', ascending=True).reset_index(), col=\"KreisLang\", hue=\"Zimmer\", col_wrap=6, height=3,)\n",
    "g.map(sns.scatterplot, \"sum_AnzRentner\", \"sum_AnzKinder\", alpha=.8)\n",
    "#g.map(sns.lineplot, \"Zimmer\",\"sum_AnzPersonen\",alpha=.8)\n",
    "\n",
    "g.add_legend()"
   ]
  },
  {
   "cell_type": "code",
   "execution_count": null,
   "metadata": {},
   "outputs": [],
   "source": []
  },
  {
   "cell_type": "code",
   "execution_count": null,
   "metadata": {},
   "outputs": [],
   "source": []
  },
  {
   "cell_type": "markdown",
   "metadata": {},
   "source": [
    "## ---------------------- hier Plausi beendet ---------------------- \n",
    "\n",
    "**Sharepoint als gecheckt markieren!**\n"
   ]
  },
  {
   "cell_type": "markdown",
   "metadata": {
    "tags": []
   },
   "source": [
    "Record auf Sharepoint: **[Link](https://kollaboration.intranet.stzh.ch/orga/ssz-produkte/Lists/SASA_Outputs/DispForm.aspx?ID=879&ContentTypeId=0x0100988EAF029F1EFE4CA675F53C32A5D53D01006DBC563E6FBE9E4EB6FDC780799752E1)**\n",
    "\n",
    "---------------------- "
   ]
  },
  {
   "cell_type": "code",
   "execution_count": null,
   "metadata": {},
   "outputs": [],
   "source": []
  },
  {
   "cell_type": "raw",
   "metadata": {},
   "source": []
  },
  {
   "cell_type": "code",
   "execution_count": null,
   "metadata": {},
   "outputs": [],
   "source": []
  }
 ],
 "metadata": {
  "kernelspec": {
   "display_name": "Python 3 (ipykernel)",
   "language": "python",
   "name": "python3"
  },
  "language_info": {
   "codemirror_mode": {
    "name": "ipython",
    "version": 3
   },
   "file_extension": ".py",
   "mimetype": "text/x-python",
   "name": "python",
   "nbconvert_exporter": "python",
   "pygments_lexer": "ipython3",
   "version": "3.7.11"
  }
 },
 "nbformat": 4,
 "nbformat_minor": 4
}
