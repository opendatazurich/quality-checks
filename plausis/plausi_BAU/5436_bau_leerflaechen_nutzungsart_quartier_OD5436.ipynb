{
 "cells": [
  {
   "cell_type": "markdown",
   "metadata": {},
   "source": [
    "# Testing\n",
    "### Leerflächen nach Stadtquartier und Nutzungsart, seit 2010\n",
    "Datum: 22.11.2021"
   ]
  },
  {
   "cell_type": "markdown",
   "metadata": {},
   "source": [
    "**Importiere die notwendigen Packages**"
   ]
  },
  {
   "cell_type": "code",
   "execution_count": 1,
   "metadata": {},
   "outputs": [],
   "source": [
    "# Empfehlung für Colab: Installiere alles was Du brauchst\n",
    "# %pip install pandas pivottablejs numpy altair matplotlib geopandas folium"
   ]
  },
  {
   "cell_type": "code",
   "execution_count": 2,
   "metadata": {},
   "outputs": [],
   "source": [
    "import pandas as pd\n",
    "import pivottablejs\n",
    "from pivottablejs import pivot_ui\n",
    "import numpy as np\n",
    "import altair as alt\n",
    "import matplotlib.pyplot as plt\n",
    "from datetime import datetime\n",
    "import geopandas as gpd\n",
    "import folium \n",
    "\n"
   ]
  },
  {
   "cell_type": "markdown",
   "metadata": {},
   "source": [
    "Definiere Settings. Hier das Zahlenformat von Float-Werten (z.B. *'{:,.2f}'.format* mit Komma als Tausenderzeichen), "
   ]
  },
  {
   "cell_type": "code",
   "execution_count": 3,
   "metadata": {},
   "outputs": [],
   "source": [
    "pd.options.display.float_format = '{:.0f}'.format\n",
    "pd.set_option('display.width', 100)\n",
    "pd.set_option('display.max_columns', 15)"
   ]
  },
  {
   "cell_type": "markdown",
   "metadata": {},
   "source": [
    "Importiere einen Datensatz von der **DWH_INT** Dropzone.\n",
    "\n",
    "- Beachte dabei die Notation des Pfades...\n",
    "- Definiere mal aktuell noch keine weiteren Parameter beim Import"
   ]
  },
  {
   "cell_type": "markdown",
   "metadata": {},
   "source": [
    "**Dataset auf INTEG Datenkatalog**: https://data.integ.stadt-zuerich.ch/dataset/int_dwh_bau_leerflaechengeb_geb_nutzungsart_quartier_jahr_OD5436\n",
    "\n",
    "(int_dwh)"
   ]
  },
  {
   "cell_type": "code",
   "execution_count": 4,
   "metadata": {},
   "outputs": [
    {
     "name": "stdout",
     "output_type": "stream",
     "text": [
      "int\n"
     ]
    }
   ],
   "source": [
    "#Die Datasets sind nur zum Testen auf INT-DWH-Dropzone. Wenn der Test vorbei ist, sind sie auf PROD. \n",
    "# Über den Status kann man einfach switchen\n",
    "\n",
    "status = \"int\";\n",
    "print(status)"
   ]
  },
  {
   "cell_type": "code",
   "execution_count": 5,
   "metadata": {},
   "outputs": [
    {
     "name": "stdout",
     "output_type": "stream",
     "text": [
      "\\\\szh\\ssz\\applikationen\\OGD_Dropzone\\INT_DWH\\bau_leerflaechengeb_geb_nutzungsart_quartier_jahr_OD5436\\BAU543OD5436.csv\n"
     ]
    }
   ],
   "source": [
    "# Filepath\n",
    "if status == \"prod\":\n",
    "    fp = r\"\\\\szh\\ssz\\applikationen\\OGD_Dropzone\\DWH\\bau_leerflaechengeb_geb_nutzungsart_quartier_jahr_OD5436\\BAU543OD5436.csv\"\n",
    "\n",
    "else:\n",
    "    fp = r\"\\\\szh\\ssz\\applikationen\\OGD_Dropzone\\INT_DWH\\bau_leerflaechengeb_geb_nutzungsart_quartier_jahr_OD5436\\BAU543OD5436.csv\"\n",
    "\n",
    "print(fp)"
   ]
  },
  {
   "cell_type": "code",
   "execution_count": 6,
   "metadata": {},
   "outputs": [
    {
     "name": "stdout",
     "output_type": "stream",
     "text": [
      "done\n"
     ]
    }
   ],
   "source": [
    "# Read the data\n",
    "data2betested = pd.read_csv(\n",
    "    fp, \n",
    "    sep=',',\n",
    "   #usecols=[0,1,2,3,4,6],\n",
    "   #names=['stationid','year','month','avgtemp','latitude','longitude','elevation','station','countryid','country'],\n",
    "   #skiprows=1,\n",
    "   # parse_dates=[0],\n",
    "    parse_dates=True,\n",
    "    #date_parser=lambda x: pd.to_datetime(x, format=\"%Y\"), \n",
    "    #index_col=\"date_time\",\n",
    "    low_memory=False    \n",
    "    )\n",
    "print('done')"
   ]
  },
  {
   "cell_type": "markdown",
   "metadata": {},
   "source": [
    "In der Folge ein paar erste Tests:"
   ]
  },
  {
   "cell_type": "code",
   "execution_count": 7,
   "metadata": {},
   "outputs": [
    {
     "data": {
      "text/plain": [
       "pandas.core.frame.DataFrame"
      ]
     },
     "execution_count": 7,
     "metadata": {},
     "output_type": "execute_result"
    }
   ],
   "source": [
    "type(data2betested)"
   ]
  },
  {
   "cell_type": "markdown",
   "metadata": {},
   "source": [
    " - 1) Zeige eine kurze Vorschau der importierten Daten\n",
    " - 2) Weise die Datentypen aus\n",
    " - 3) Zeige die Shape (Umfang) des Datensatzes an"
   ]
  },
  {
   "cell_type": "code",
   "execution_count": 8,
   "metadata": {},
   "outputs": [
    {
     "data": {
      "text/html": [
       "<div>\n",
       "<style scoped>\n",
       "    .dataframe tbody tr th:only-of-type {\n",
       "        vertical-align: middle;\n",
       "    }\n",
       "\n",
       "    .dataframe tbody tr th {\n",
       "        vertical-align: top;\n",
       "    }\n",
       "\n",
       "    .dataframe thead th {\n",
       "        text-align: right;\n",
       "    }\n",
       "</style>\n",
       "<table border=\"1\" class=\"dataframe\">\n",
       "  <thead>\n",
       "    <tr style=\"text-align: right;\">\n",
       "      <th></th>\n",
       "      <th>StichtagDatJahr</th>\n",
       "      <th>QuarSort</th>\n",
       "      <th>QuarLang</th>\n",
       "      <th>KreisSort</th>\n",
       "      <th>KreisLang</th>\n",
       "      <th>Nutzung</th>\n",
       "      <th>Leerflaeche</th>\n",
       "      <th>BueroNettofl</th>\n",
       "      <th>BueroLeerProz</th>\n",
       "    </tr>\n",
       "  </thead>\n",
       "  <tbody>\n",
       "    <tr>\n",
       "      <th>0</th>\n",
       "      <td>2010</td>\n",
       "      <td>11</td>\n",
       "      <td>Rathaus</td>\n",
       "      <td>1</td>\n",
       "      <td>Kreis 1</td>\n",
       "      <td>Lager</td>\n",
       "      <td>48</td>\n",
       "      <td>NaN</td>\n",
       "      <td>NaN</td>\n",
       "    </tr>\n",
       "    <tr>\n",
       "      <th>1</th>\n",
       "      <td>2010</td>\n",
       "      <td>12</td>\n",
       "      <td>Hochschulen</td>\n",
       "      <td>1</td>\n",
       "      <td>Kreis 1</td>\n",
       "      <td>Lager</td>\n",
       "      <td>150</td>\n",
       "      <td>NaN</td>\n",
       "      <td>NaN</td>\n",
       "    </tr>\n",
       "    <tr>\n",
       "      <th>2</th>\n",
       "      <td>2010</td>\n",
       "      <td>12</td>\n",
       "      <td>Hochschulen</td>\n",
       "      <td>1</td>\n",
       "      <td>Kreis 1</td>\n",
       "      <td>Büro</td>\n",
       "      <td>630</td>\n",
       "      <td>196387</td>\n",
       "      <td>0</td>\n",
       "    </tr>\n",
       "    <tr>\n",
       "      <th>3</th>\n",
       "      <td>2010</td>\n",
       "      <td>13</td>\n",
       "      <td>Lindenhof</td>\n",
       "      <td>1</td>\n",
       "      <td>Kreis 1</td>\n",
       "      <td>Andere</td>\n",
       "      <td>854</td>\n",
       "      <td>NaN</td>\n",
       "      <td>NaN</td>\n",
       "    </tr>\n",
       "    <tr>\n",
       "      <th>4</th>\n",
       "      <td>2010</td>\n",
       "      <td>13</td>\n",
       "      <td>Lindenhof</td>\n",
       "      <td>1</td>\n",
       "      <td>Kreis 1</td>\n",
       "      <td>Büro</td>\n",
       "      <td>923</td>\n",
       "      <td>194404</td>\n",
       "      <td>0</td>\n",
       "    </tr>\n",
       "    <tr>\n",
       "      <th>...</th>\n",
       "      <td>...</td>\n",
       "      <td>...</td>\n",
       "      <td>...</td>\n",
       "      <td>...</td>\n",
       "      <td>...</td>\n",
       "      <td>...</td>\n",
       "      <td>...</td>\n",
       "      <td>...</td>\n",
       "      <td>...</td>\n",
       "    </tr>\n",
       "    <tr>\n",
       "      <th>295</th>\n",
       "      <td>2013</td>\n",
       "      <td>61</td>\n",
       "      <td>Unterstrass</td>\n",
       "      <td>6</td>\n",
       "      <td>Kreis 6</td>\n",
       "      <td>Lager</td>\n",
       "      <td>1120</td>\n",
       "      <td>NaN</td>\n",
       "      <td>NaN</td>\n",
       "    </tr>\n",
       "    <tr>\n",
       "      <th>296</th>\n",
       "      <td>2013</td>\n",
       "      <td>63</td>\n",
       "      <td>Oberstrass</td>\n",
       "      <td>6</td>\n",
       "      <td>Kreis 6</td>\n",
       "      <td>Lager</td>\n",
       "      <td>49</td>\n",
       "      <td>NaN</td>\n",
       "      <td>NaN</td>\n",
       "    </tr>\n",
       "    <tr>\n",
       "      <th>297</th>\n",
       "      <td>2013</td>\n",
       "      <td>63</td>\n",
       "      <td>Oberstrass</td>\n",
       "      <td>6</td>\n",
       "      <td>Kreis 6</td>\n",
       "      <td>Büro</td>\n",
       "      <td>245</td>\n",
       "      <td>299033</td>\n",
       "      <td>0</td>\n",
       "    </tr>\n",
       "    <tr>\n",
       "      <th>298</th>\n",
       "      <td>2013</td>\n",
       "      <td>71</td>\n",
       "      <td>Fluntern</td>\n",
       "      <td>7</td>\n",
       "      <td>Kreis 7</td>\n",
       "      <td>Lager</td>\n",
       "      <td>66</td>\n",
       "      <td>NaN</td>\n",
       "      <td>NaN</td>\n",
       "    </tr>\n",
       "    <tr>\n",
       "      <th>299</th>\n",
       "      <td>2013</td>\n",
       "      <td>71</td>\n",
       "      <td>Fluntern</td>\n",
       "      <td>7</td>\n",
       "      <td>Kreis 7</td>\n",
       "      <td>Büro</td>\n",
       "      <td>85</td>\n",
       "      <td>125111</td>\n",
       "      <td>0</td>\n",
       "    </tr>\n",
       "  </tbody>\n",
       "</table>\n",
       "<p>300 rows × 9 columns</p>\n",
       "</div>"
      ],
      "text/plain": [
       "     StichtagDatJahr  QuarSort     QuarLang  KreisSort KreisLang Nutzung  Leerflaeche  \\\n",
       "0               2010        11      Rathaus          1   Kreis 1   Lager           48   \n",
       "1               2010        12  Hochschulen          1   Kreis 1   Lager          150   \n",
       "2               2010        12  Hochschulen          1   Kreis 1    Büro          630   \n",
       "3               2010        13    Lindenhof          1   Kreis 1  Andere          854   \n",
       "4               2010        13    Lindenhof          1   Kreis 1    Büro          923   \n",
       "..               ...       ...          ...        ...       ...     ...          ...   \n",
       "295             2013        61  Unterstrass          6   Kreis 6   Lager         1120   \n",
       "296             2013        63   Oberstrass          6   Kreis 6   Lager           49   \n",
       "297             2013        63   Oberstrass          6   Kreis 6    Büro          245   \n",
       "298             2013        71     Fluntern          7   Kreis 7   Lager           66   \n",
       "299             2013        71     Fluntern          7   Kreis 7    Büro           85   \n",
       "\n",
       "     BueroNettofl  BueroLeerProz  \n",
       "0             NaN            NaN  \n",
       "1             NaN            NaN  \n",
       "2          196387              0  \n",
       "3             NaN            NaN  \n",
       "4          194404              0  \n",
       "..            ...            ...  \n",
       "295           NaN            NaN  \n",
       "296           NaN            NaN  \n",
       "297        299033              0  \n",
       "298           NaN            NaN  \n",
       "299        125111              0  \n",
       "\n",
       "[300 rows x 9 columns]"
      ]
     },
     "execution_count": 8,
     "metadata": {},
     "output_type": "execute_result"
    }
   ],
   "source": [
    "data2betested.head(300)"
   ]
  },
  {
   "cell_type": "code",
   "execution_count": 11,
   "metadata": {},
   "outputs": [
    {
     "data": {
      "text/plain": [
       "StichtagDatJahr      int64\n",
       "QuarSort             int64\n",
       "QuarLang            object\n",
       "KreisSort            int64\n",
       "KreisLang           object\n",
       "Nutzung             object\n",
       "Leerflaeche          int64\n",
       "BueroNettofl       float64\n",
       "BueroLeerProz      float64\n",
       "dtype: object"
      ]
     },
     "execution_count": 11,
     "metadata": {},
     "output_type": "execute_result"
    }
   ],
   "source": [
    "data2betested.dtypes"
   ]
  },
  {
   "cell_type": "code",
   "execution_count": 12,
   "metadata": {},
   "outputs": [
    {
     "data": {
      "text/plain": [
       "(1005, 9)"
      ]
     },
     "execution_count": 12,
     "metadata": {},
     "output_type": "execute_result"
    }
   ],
   "source": [
    "data2betested.shape"
   ]
  },
  {
   "cell_type": "markdown",
   "metadata": {},
   "source": [
    "Beschreibe einzelne Attribute"
   ]
  },
  {
   "cell_type": "code",
   "execution_count": 13,
   "metadata": {},
   "outputs": [
    {
     "data": {
      "text/html": [
       "<div>\n",
       "<style scoped>\n",
       "    .dataframe tbody tr th:only-of-type {\n",
       "        vertical-align: middle;\n",
       "    }\n",
       "\n",
       "    .dataframe tbody tr th {\n",
       "        vertical-align: top;\n",
       "    }\n",
       "\n",
       "    .dataframe thead th {\n",
       "        text-align: right;\n",
       "    }\n",
       "</style>\n",
       "<table border=\"1\" class=\"dataframe\">\n",
       "  <thead>\n",
       "    <tr style=\"text-align: right;\">\n",
       "      <th></th>\n",
       "      <th>StichtagDatJahr</th>\n",
       "      <th>QuarSort</th>\n",
       "      <th>KreisSort</th>\n",
       "      <th>Leerflaeche</th>\n",
       "      <th>BueroNettofl</th>\n",
       "      <th>BueroLeerProz</th>\n",
       "    </tr>\n",
       "  </thead>\n",
       "  <tbody>\n",
       "    <tr>\n",
       "      <th>count</th>\n",
       "      <td>1005</td>\n",
       "      <td>1005</td>\n",
       "      <td>1005</td>\n",
       "      <td>1005</td>\n",
       "      <td>343</td>\n",
       "      <td>343</td>\n",
       "    </tr>\n",
       "    <tr>\n",
       "      <th>mean</th>\n",
       "      <td>2016</td>\n",
       "      <td>64</td>\n",
       "      <td>6</td>\n",
       "      <td>2408</td>\n",
       "      <td>209386</td>\n",
       "      <td>2</td>\n",
       "    </tr>\n",
       "    <tr>\n",
       "      <th>std</th>\n",
       "      <td>3</td>\n",
       "      <td>46</td>\n",
       "      <td>5</td>\n",
       "      <td>5516</td>\n",
       "      <td>165861</td>\n",
       "      <td>2</td>\n",
       "    </tr>\n",
       "    <tr>\n",
       "      <th>min</th>\n",
       "      <td>2010</td>\n",
       "      <td>11</td>\n",
       "      <td>1</td>\n",
       "      <td>7</td>\n",
       "      <td>3359</td>\n",
       "      <td>0</td>\n",
       "    </tr>\n",
       "    <tr>\n",
       "      <th>25%</th>\n",
       "      <td>2012</td>\n",
       "      <td>31</td>\n",
       "      <td>3</td>\n",
       "      <td>175</td>\n",
       "      <td>63701</td>\n",
       "      <td>1</td>\n",
       "    </tr>\n",
       "    <tr>\n",
       "      <th>50%</th>\n",
       "      <td>2016</td>\n",
       "      <td>61</td>\n",
       "      <td>6</td>\n",
       "      <td>528</td>\n",
       "      <td>167841</td>\n",
       "      <td>1</td>\n",
       "    </tr>\n",
       "    <tr>\n",
       "      <th>75%</th>\n",
       "      <td>2019</td>\n",
       "      <td>92</td>\n",
       "      <td>9</td>\n",
       "      <td>1873</td>\n",
       "      <td>315994</td>\n",
       "      <td>4</td>\n",
       "    </tr>\n",
       "    <tr>\n",
       "      <th>max</th>\n",
       "      <td>2021</td>\n",
       "      <td>999</td>\n",
       "      <td>99</td>\n",
       "      <td>57629</td>\n",
       "      <td>582531</td>\n",
       "      <td>13</td>\n",
       "    </tr>\n",
       "  </tbody>\n",
       "</table>\n",
       "</div>"
      ],
      "text/plain": [
       "       StichtagDatJahr  QuarSort  KreisSort  Leerflaeche  BueroNettofl  BueroLeerProz\n",
       "count             1005      1005       1005         1005           343            343\n",
       "mean              2016        64          6         2408        209386              2\n",
       "std                  3        46          5         5516        165861              2\n",
       "min               2010        11          1            7          3359              0\n",
       "25%               2012        31          3          175         63701              1\n",
       "50%               2016        61          6          528        167841              1\n",
       "75%               2019        92          9         1873        315994              4\n",
       "max               2021       999         99        57629        582531             13"
      ]
     },
     "execution_count": 13,
     "metadata": {},
     "output_type": "execute_result"
    }
   ],
   "source": [
    "data2betested.describe()"
   ]
  },
  {
   "cell_type": "markdown",
   "metadata": {},
   "source": [
    "Wie viele Nullwerte gibt es im Datensatz?"
   ]
  },
  {
   "cell_type": "code",
   "execution_count": 14,
   "metadata": {
    "scrolled": true
   },
   "outputs": [
    {
     "data": {
      "text/plain": [
       "StichtagDatJahr      0\n",
       "QuarSort             0\n",
       "QuarLang             0\n",
       "KreisSort            0\n",
       "KreisLang            0\n",
       "Nutzung              0\n",
       "Leerflaeche          0\n",
       "BueroNettofl       662\n",
       "BueroLeerProz      662\n",
       "dtype: int64"
      ]
     },
     "execution_count": 14,
     "metadata": {},
     "output_type": "execute_result"
    }
   ],
   "source": [
    "data2betested.isnull().sum()"
   ]
  },
  {
   "cell_type": "markdown",
   "metadata": {},
   "source": [
    "Wandle die Spalte Jahr von Int zu **Datetime** um. Dies wird in den meisten Grafiken so benötigt."
   ]
  },
  {
   "cell_type": "code",
   "execution_count": 15,
   "metadata": {
    "scrolled": true
   },
   "outputs": [
    {
     "data": {
      "text/html": [
       "<div>\n",
       "<style scoped>\n",
       "    .dataframe tbody tr th:only-of-type {\n",
       "        vertical-align: middle;\n",
       "    }\n",
       "\n",
       "    .dataframe tbody tr th {\n",
       "        vertical-align: top;\n",
       "    }\n",
       "\n",
       "    .dataframe thead th {\n",
       "        text-align: right;\n",
       "    }\n",
       "</style>\n",
       "<table border=\"1\" class=\"dataframe\">\n",
       "  <thead>\n",
       "    <tr style=\"text-align: right;\">\n",
       "      <th></th>\n",
       "      <th>StichtagDatJahr</th>\n",
       "      <th>QuarSort</th>\n",
       "      <th>QuarLang</th>\n",
       "      <th>KreisSort</th>\n",
       "      <th>KreisLang</th>\n",
       "      <th>Nutzung</th>\n",
       "      <th>Leerflaeche</th>\n",
       "      <th>BueroNettofl</th>\n",
       "      <th>BueroLeerProz</th>\n",
       "    </tr>\n",
       "  </thead>\n",
       "  <tbody>\n",
       "    <tr>\n",
       "      <th>0</th>\n",
       "      <td>2010-01-01</td>\n",
       "      <td>11</td>\n",
       "      <td>Rathaus</td>\n",
       "      <td>1</td>\n",
       "      <td>Kreis 1</td>\n",
       "      <td>Lager</td>\n",
       "      <td>48</td>\n",
       "      <td>NaN</td>\n",
       "      <td>NaN</td>\n",
       "    </tr>\n",
       "    <tr>\n",
       "      <th>1</th>\n",
       "      <td>2010-01-01</td>\n",
       "      <td>12</td>\n",
       "      <td>Hochschulen</td>\n",
       "      <td>1</td>\n",
       "      <td>Kreis 1</td>\n",
       "      <td>Lager</td>\n",
       "      <td>150</td>\n",
       "      <td>NaN</td>\n",
       "      <td>NaN</td>\n",
       "    </tr>\n",
       "    <tr>\n",
       "      <th>2</th>\n",
       "      <td>2010-01-01</td>\n",
       "      <td>12</td>\n",
       "      <td>Hochschulen</td>\n",
       "      <td>1</td>\n",
       "      <td>Kreis 1</td>\n",
       "      <td>Büro</td>\n",
       "      <td>630</td>\n",
       "      <td>196387</td>\n",
       "      <td>0</td>\n",
       "    </tr>\n",
       "    <tr>\n",
       "      <th>3</th>\n",
       "      <td>2010-01-01</td>\n",
       "      <td>13</td>\n",
       "      <td>Lindenhof</td>\n",
       "      <td>1</td>\n",
       "      <td>Kreis 1</td>\n",
       "      <td>Andere</td>\n",
       "      <td>854</td>\n",
       "      <td>NaN</td>\n",
       "      <td>NaN</td>\n",
       "    </tr>\n",
       "    <tr>\n",
       "      <th>4</th>\n",
       "      <td>2010-01-01</td>\n",
       "      <td>13</td>\n",
       "      <td>Lindenhof</td>\n",
       "      <td>1</td>\n",
       "      <td>Kreis 1</td>\n",
       "      <td>Büro</td>\n",
       "      <td>923</td>\n",
       "      <td>194404</td>\n",
       "      <td>0</td>\n",
       "    </tr>\n",
       "    <tr>\n",
       "      <th>...</th>\n",
       "      <td>...</td>\n",
       "      <td>...</td>\n",
       "      <td>...</td>\n",
       "      <td>...</td>\n",
       "      <td>...</td>\n",
       "      <td>...</td>\n",
       "      <td>...</td>\n",
       "      <td>...</td>\n",
       "      <td>...</td>\n",
       "    </tr>\n",
       "    <tr>\n",
       "      <th>1000</th>\n",
       "      <td>2021-01-01</td>\n",
       "      <td>119</td>\n",
       "      <td>Seebach</td>\n",
       "      <td>11</td>\n",
       "      <td>Kreis 11</td>\n",
       "      <td>Verkauf</td>\n",
       "      <td>1031</td>\n",
       "      <td>NaN</td>\n",
       "      <td>NaN</td>\n",
       "    </tr>\n",
       "    <tr>\n",
       "      <th>1001</th>\n",
       "      <td>2021-01-01</td>\n",
       "      <td>119</td>\n",
       "      <td>Seebach</td>\n",
       "      <td>11</td>\n",
       "      <td>Kreis 11</td>\n",
       "      <td>Lager</td>\n",
       "      <td>5544</td>\n",
       "      <td>NaN</td>\n",
       "      <td>NaN</td>\n",
       "    </tr>\n",
       "    <tr>\n",
       "      <th>1002</th>\n",
       "      <td>2021-01-01</td>\n",
       "      <td>119</td>\n",
       "      <td>Seebach</td>\n",
       "      <td>11</td>\n",
       "      <td>Kreis 11</td>\n",
       "      <td>Büro</td>\n",
       "      <td>34374</td>\n",
       "      <td>527244</td>\n",
       "      <td>6</td>\n",
       "    </tr>\n",
       "    <tr>\n",
       "      <th>1003</th>\n",
       "      <td>2021-01-01</td>\n",
       "      <td>121</td>\n",
       "      <td>Saatlen</td>\n",
       "      <td>12</td>\n",
       "      <td>Kreis 12</td>\n",
       "      <td>Büro</td>\n",
       "      <td>892</td>\n",
       "      <td>13973</td>\n",
       "      <td>6</td>\n",
       "    </tr>\n",
       "    <tr>\n",
       "      <th>1004</th>\n",
       "      <td>2021-01-01</td>\n",
       "      <td>123</td>\n",
       "      <td>Hirzenbach</td>\n",
       "      <td>12</td>\n",
       "      <td>Kreis 12</td>\n",
       "      <td>Verkauf</td>\n",
       "      <td>218</td>\n",
       "      <td>NaN</td>\n",
       "      <td>NaN</td>\n",
       "    </tr>\n",
       "  </tbody>\n",
       "</table>\n",
       "<p>1005 rows × 9 columns</p>\n",
       "</div>"
      ],
      "text/plain": [
       "     StichtagDatJahr  QuarSort     QuarLang  KreisSort KreisLang  Nutzung  Leerflaeche  \\\n",
       "0         2010-01-01        11      Rathaus          1   Kreis 1    Lager           48   \n",
       "1         2010-01-01        12  Hochschulen          1   Kreis 1    Lager          150   \n",
       "2         2010-01-01        12  Hochschulen          1   Kreis 1     Büro          630   \n",
       "3         2010-01-01        13    Lindenhof          1   Kreis 1   Andere          854   \n",
       "4         2010-01-01        13    Lindenhof          1   Kreis 1     Büro          923   \n",
       "...              ...       ...          ...        ...       ...      ...          ...   \n",
       "1000      2021-01-01       119      Seebach         11  Kreis 11  Verkauf         1031   \n",
       "1001      2021-01-01       119      Seebach         11  Kreis 11    Lager         5544   \n",
       "1002      2021-01-01       119      Seebach         11  Kreis 11     Büro        34374   \n",
       "1003      2021-01-01       121      Saatlen         12  Kreis 12     Büro          892   \n",
       "1004      2021-01-01       123   Hirzenbach         12  Kreis 12  Verkauf          218   \n",
       "\n",
       "      BueroNettofl  BueroLeerProz  \n",
       "0              NaN            NaN  \n",
       "1              NaN            NaN  \n",
       "2           196387              0  \n",
       "3              NaN            NaN  \n",
       "4           194404              0  \n",
       "...            ...            ...  \n",
       "1000           NaN            NaN  \n",
       "1001           NaN            NaN  \n",
       "1002        527244              6  \n",
       "1003         13973              6  \n",
       "1004           NaN            NaN  \n",
       "\n",
       "[1005 rows x 9 columns]"
      ]
     },
     "execution_count": 15,
     "metadata": {},
     "output_type": "execute_result"
    }
   ],
   "source": [
    "data2betested['StichtagDatJahr']=pd.to_datetime(data2betested['StichtagDatJahr'], format='%Y')\n",
    "\n",
    "#TO DO --> setze das Datum auf den 31.12. der Jahres.\n",
    "#test=data2betested[['StichtagDatJahr']].date().replace(month=12, day=31)\n",
    "\n",
    "data2betested\n",
    "\n"
   ]
  },
  {
   "cell_type": "markdown",
   "metadata": {},
   "source": [
    "Bereite die Daten für die Grafik unten vor"
   ]
  },
  {
   "cell_type": "code",
   "execution_count": 16,
   "metadata": {},
   "outputs": [
    {
     "data": {
      "text/plain": [
       "12"
      ]
     },
     "execution_count": 16,
     "metadata": {},
     "output_type": "execute_result"
    }
   ],
   "source": [
    "Jahre = data2betested.groupby(\"StichtagDatJahr\")\n",
    "len(Jahre)"
   ]
  },
  {
   "cell_type": "code",
   "execution_count": 17,
   "metadata": {},
   "outputs": [
    {
     "name": "stdout",
     "output_type": "stream",
     "text": [
      "2010-01-01 00:00:00 88\n",
      "2011-01-01 00:00:00 84\n",
      "2012-01-01 00:00:00 81\n",
      "2013-01-01 00:00:00 82\n",
      "2014-01-01 00:00:00 77\n",
      "2015-01-01 00:00:00 75\n",
      "2016-01-01 00:00:00 79\n",
      "2017-01-01 00:00:00 90\n",
      "2018-01-01 00:00:00 92\n",
      "2019-01-01 00:00:00 91\n",
      "2020-01-01 00:00:00 87\n",
      "2021-01-01 00:00:00 79\n"
     ]
    }
   ],
   "source": [
    "for key, group in Jahre:\n",
    "    print(key, len(group))"
   ]
  },
  {
   "cell_type": "code",
   "execution_count": 18,
   "metadata": {},
   "outputs": [
    {
     "data": {
      "text/html": [
       "<div>\n",
       "<style scoped>\n",
       "    .dataframe tbody tr th:only-of-type {\n",
       "        vertical-align: middle;\n",
       "    }\n",
       "\n",
       "    .dataframe tbody tr th {\n",
       "        vertical-align: top;\n",
       "    }\n",
       "\n",
       "    .dataframe thead th {\n",
       "        text-align: right;\n",
       "    }\n",
       "</style>\n",
       "<table border=\"1\" class=\"dataframe\">\n",
       "  <thead>\n",
       "    <tr style=\"text-align: right;\">\n",
       "      <th></th>\n",
       "      <th>StichtagDatJahr</th>\n",
       "      <th>QuarSort</th>\n",
       "      <th>QuarLang</th>\n",
       "      <th>KreisSort</th>\n",
       "      <th>KreisLang</th>\n",
       "      <th>Nutzung</th>\n",
       "      <th>Leerflaeche</th>\n",
       "      <th>BueroNettofl</th>\n",
       "      <th>BueroLeerProz</th>\n",
       "    </tr>\n",
       "  </thead>\n",
       "  <tbody>\n",
       "    <tr>\n",
       "      <th>926</th>\n",
       "      <td>2021-01-01</td>\n",
       "      <td>11</td>\n",
       "      <td>Rathaus</td>\n",
       "      <td>1</td>\n",
       "      <td>Kreis 1</td>\n",
       "      <td>Büro</td>\n",
       "      <td>373</td>\n",
       "      <td>103999</td>\n",
       "      <td>0</td>\n",
       "    </tr>\n",
       "    <tr>\n",
       "      <th>927</th>\n",
       "      <td>2021-01-01</td>\n",
       "      <td>11</td>\n",
       "      <td>Rathaus</td>\n",
       "      <td>1</td>\n",
       "      <td>Kreis 1</td>\n",
       "      <td>Andere</td>\n",
       "      <td>245</td>\n",
       "      <td>NaN</td>\n",
       "      <td>NaN</td>\n",
       "    </tr>\n",
       "    <tr>\n",
       "      <th>928</th>\n",
       "      <td>2021-01-01</td>\n",
       "      <td>11</td>\n",
       "      <td>Rathaus</td>\n",
       "      <td>1</td>\n",
       "      <td>Kreis 1</td>\n",
       "      <td>Werkstatt</td>\n",
       "      <td>304</td>\n",
       "      <td>NaN</td>\n",
       "      <td>NaN</td>\n",
       "    </tr>\n",
       "  </tbody>\n",
       "</table>\n",
       "</div>"
      ],
      "text/plain": [
       "    StichtagDatJahr  QuarSort QuarLang  KreisSort KreisLang    Nutzung  Leerflaeche  BueroNettofl  \\\n",
       "926      2021-01-01        11  Rathaus          1   Kreis 1       Büro          373        103999   \n",
       "927      2021-01-01        11  Rathaus          1   Kreis 1     Andere          245           NaN   \n",
       "928      2021-01-01        11  Rathaus          1   Kreis 1  Werkstatt          304           NaN   \n",
       "\n",
       "     BueroLeerProz  \n",
       "926              0  \n",
       "927            NaN  \n",
       "928            NaN  "
      ]
     },
     "execution_count": 18,
     "metadata": {},
     "output_type": "execute_result"
    }
   ],
   "source": [
    "myJahr = \"2021-01-01\"\n",
    "aktuellesJahr=Jahre.get_group(myJahr)   \n",
    "aktuellesJahr.head(3)\n"
   ]
  },
  {
   "cell_type": "markdown",
   "metadata": {},
   "source": [
    "**Selektionen und Aggregationen**\n",
    "\n",
    "Check this [Doku](https://www.shanelynn.ie/summarising-aggregation-and-grouping-data-in-python-pandas/)"
   ]
  },
  {
   "cell_type": "code",
   "execution_count": 19,
   "metadata": {},
   "outputs": [],
   "source": [
    "#test = data2betested.groupby(['StichtagDatJahr', 'AlterV20Kurz'])[['AnzBestWir']].agg()\n",
    "\n",
    "# produces Pandas Series\n",
    "    #data2betested.groupby(['StichtagDatJahr', 'KonOGDSort'])['AnzBestWir'].sum()\n",
    "# Produces Pandas DataFrame\n",
    "    #data2betested.groupby(['StichtagDatJahr', 'KonOGDSort'])[['AnzBestWir']].sum()\n",
    "    \n",
    "\n",
    "    "
   ]
  },
  {
   "cell_type": "markdown",
   "metadata": {},
   "source": [
    "**Einfache Visualisierungen zur Plausi**"
   ]
  },
  {
   "cell_type": "markdown",
   "metadata": {},
   "source": [
    "Exploriere die Daten mit Pivottable.JS"
   ]
  },
  {
   "cell_type": "code",
   "execution_count": 20,
   "metadata": {},
   "outputs": [
    {
     "data": {
      "text/html": [
       "\n",
       "        <iframe\n",
       "            width=\"100%\"\n",
       "            height=\"500\"\n",
       "            src=\"pivottablejs.html\"\n",
       "            frameborder=\"0\"\n",
       "            allowfullscreen\n",
       "        ></iframe>\n",
       "        "
      ],
      "text/plain": [
       "<IPython.lib.display.IFrame at 0x1312c0855e0>"
      ]
     },
     "execution_count": 20,
     "metadata": {},
     "output_type": "execute_result"
    }
   ],
   "source": [
    "from pivottablejs import pivot_ui\n",
    "\n",
    "pivot_ui(data2betested)"
   ]
  },
  {
   "cell_type": "markdown",
   "metadata": {},
   "source": [
    "Liniendiagramm \n",
    "[Link zur Doku](https://altair-viz.github.io/gallery/multiline_highlight.html)"
   ]
  },
  {
   "cell_type": "code",
   "execution_count": 21,
   "metadata": {},
   "outputs": [
    {
     "data": {
      "text/html": [
       "<div>\n",
       "<style scoped>\n",
       "    .dataframe tbody tr th:only-of-type {\n",
       "        vertical-align: middle;\n",
       "    }\n",
       "\n",
       "    .dataframe tbody tr th {\n",
       "        vertical-align: top;\n",
       "    }\n",
       "\n",
       "    .dataframe thead th {\n",
       "        text-align: right;\n",
       "    }\n",
       "</style>\n",
       "<table border=\"1\" class=\"dataframe\">\n",
       "  <thead>\n",
       "    <tr style=\"text-align: right;\">\n",
       "      <th></th>\n",
       "      <th>StichtagDatJahr</th>\n",
       "      <th>QuarSort</th>\n",
       "      <th>QuarLang</th>\n",
       "      <th>KreisSort</th>\n",
       "      <th>KreisLang</th>\n",
       "      <th>Nutzung</th>\n",
       "      <th>Leerflaeche</th>\n",
       "      <th>BueroNettofl</th>\n",
       "      <th>BueroLeerProz</th>\n",
       "    </tr>\n",
       "  </thead>\n",
       "  <tbody>\n",
       "    <tr>\n",
       "      <th>926</th>\n",
       "      <td>2021-01-01</td>\n",
       "      <td>11</td>\n",
       "      <td>Rathaus</td>\n",
       "      <td>1</td>\n",
       "      <td>Kreis 1</td>\n",
       "      <td>Büro</td>\n",
       "      <td>373</td>\n",
       "      <td>103999</td>\n",
       "      <td>0</td>\n",
       "    </tr>\n",
       "    <tr>\n",
       "      <th>927</th>\n",
       "      <td>2021-01-01</td>\n",
       "      <td>11</td>\n",
       "      <td>Rathaus</td>\n",
       "      <td>1</td>\n",
       "      <td>Kreis 1</td>\n",
       "      <td>Andere</td>\n",
       "      <td>245</td>\n",
       "      <td>NaN</td>\n",
       "      <td>NaN</td>\n",
       "    </tr>\n",
       "    <tr>\n",
       "      <th>928</th>\n",
       "      <td>2021-01-01</td>\n",
       "      <td>11</td>\n",
       "      <td>Rathaus</td>\n",
       "      <td>1</td>\n",
       "      <td>Kreis 1</td>\n",
       "      <td>Werkstatt</td>\n",
       "      <td>304</td>\n",
       "      <td>NaN</td>\n",
       "      <td>NaN</td>\n",
       "    </tr>\n",
       "    <tr>\n",
       "      <th>929</th>\n",
       "      <td>2021-01-01</td>\n",
       "      <td>11</td>\n",
       "      <td>Rathaus</td>\n",
       "      <td>1</td>\n",
       "      <td>Kreis 1</td>\n",
       "      <td>Lager</td>\n",
       "      <td>809</td>\n",
       "      <td>NaN</td>\n",
       "      <td>NaN</td>\n",
       "    </tr>\n",
       "    <tr>\n",
       "      <th>930</th>\n",
       "      <td>2021-01-01</td>\n",
       "      <td>12</td>\n",
       "      <td>Hochschulen</td>\n",
       "      <td>1</td>\n",
       "      <td>Kreis 1</td>\n",
       "      <td>Verkauf</td>\n",
       "      <td>170</td>\n",
       "      <td>NaN</td>\n",
       "      <td>NaN</td>\n",
       "    </tr>\n",
       "    <tr>\n",
       "      <th>...</th>\n",
       "      <td>...</td>\n",
       "      <td>...</td>\n",
       "      <td>...</td>\n",
       "      <td>...</td>\n",
       "      <td>...</td>\n",
       "      <td>...</td>\n",
       "      <td>...</td>\n",
       "      <td>...</td>\n",
       "      <td>...</td>\n",
       "    </tr>\n",
       "    <tr>\n",
       "      <th>1000</th>\n",
       "      <td>2021-01-01</td>\n",
       "      <td>119</td>\n",
       "      <td>Seebach</td>\n",
       "      <td>11</td>\n",
       "      <td>Kreis 11</td>\n",
       "      <td>Verkauf</td>\n",
       "      <td>1031</td>\n",
       "      <td>NaN</td>\n",
       "      <td>NaN</td>\n",
       "    </tr>\n",
       "    <tr>\n",
       "      <th>1001</th>\n",
       "      <td>2021-01-01</td>\n",
       "      <td>119</td>\n",
       "      <td>Seebach</td>\n",
       "      <td>11</td>\n",
       "      <td>Kreis 11</td>\n",
       "      <td>Lager</td>\n",
       "      <td>5544</td>\n",
       "      <td>NaN</td>\n",
       "      <td>NaN</td>\n",
       "    </tr>\n",
       "    <tr>\n",
       "      <th>1002</th>\n",
       "      <td>2021-01-01</td>\n",
       "      <td>119</td>\n",
       "      <td>Seebach</td>\n",
       "      <td>11</td>\n",
       "      <td>Kreis 11</td>\n",
       "      <td>Büro</td>\n",
       "      <td>34374</td>\n",
       "      <td>527244</td>\n",
       "      <td>6</td>\n",
       "    </tr>\n",
       "    <tr>\n",
       "      <th>1003</th>\n",
       "      <td>2021-01-01</td>\n",
       "      <td>121</td>\n",
       "      <td>Saatlen</td>\n",
       "      <td>12</td>\n",
       "      <td>Kreis 12</td>\n",
       "      <td>Büro</td>\n",
       "      <td>892</td>\n",
       "      <td>13973</td>\n",
       "      <td>6</td>\n",
       "    </tr>\n",
       "    <tr>\n",
       "      <th>1004</th>\n",
       "      <td>2021-01-01</td>\n",
       "      <td>123</td>\n",
       "      <td>Hirzenbach</td>\n",
       "      <td>12</td>\n",
       "      <td>Kreis 12</td>\n",
       "      <td>Verkauf</td>\n",
       "      <td>218</td>\n",
       "      <td>NaN</td>\n",
       "      <td>NaN</td>\n",
       "    </tr>\n",
       "  </tbody>\n",
       "</table>\n",
       "<p>79 rows × 9 columns</p>\n",
       "</div>"
      ],
      "text/plain": [
       "     StichtagDatJahr  QuarSort     QuarLang  KreisSort KreisLang    Nutzung  Leerflaeche  \\\n",
       "926       2021-01-01        11      Rathaus          1   Kreis 1       Büro          373   \n",
       "927       2021-01-01        11      Rathaus          1   Kreis 1     Andere          245   \n",
       "928       2021-01-01        11      Rathaus          1   Kreis 1  Werkstatt          304   \n",
       "929       2021-01-01        11      Rathaus          1   Kreis 1      Lager          809   \n",
       "930       2021-01-01        12  Hochschulen          1   Kreis 1    Verkauf          170   \n",
       "...              ...       ...          ...        ...       ...        ...          ...   \n",
       "1000      2021-01-01       119      Seebach         11  Kreis 11    Verkauf         1031   \n",
       "1001      2021-01-01       119      Seebach         11  Kreis 11      Lager         5544   \n",
       "1002      2021-01-01       119      Seebach         11  Kreis 11       Büro        34374   \n",
       "1003      2021-01-01       121      Saatlen         12  Kreis 12       Büro          892   \n",
       "1004      2021-01-01       123   Hirzenbach         12  Kreis 12    Verkauf          218   \n",
       "\n",
       "      BueroNettofl  BueroLeerProz  \n",
       "926         103999              0  \n",
       "927            NaN            NaN  \n",
       "928            NaN            NaN  \n",
       "929            NaN            NaN  \n",
       "930            NaN            NaN  \n",
       "...            ...            ...  \n",
       "1000           NaN            NaN  \n",
       "1001           NaN            NaN  \n",
       "1002        527244              6  \n",
       "1003         13973              6  \n",
       "1004           NaN            NaN  \n",
       "\n",
       "[79 rows x 9 columns]"
      ]
     },
     "execution_count": 21,
     "metadata": {},
     "output_type": "execute_result"
    }
   ],
   "source": [
    "mySelection = data2betested[(data2betested.StichtagDatJahr==\"2021\") & (data2betested.QuarSort >1)]\n",
    "mySelection"
   ]
  },
  {
   "cell_type": "code",
   "execution_count": 22,
   "metadata": {},
   "outputs": [
    {
     "data": {
      "text/html": [
       "<div>\n",
       "<style scoped>\n",
       "    .dataframe tbody tr th:only-of-type {\n",
       "        vertical-align: middle;\n",
       "    }\n",
       "\n",
       "    .dataframe tbody tr th {\n",
       "        vertical-align: top;\n",
       "    }\n",
       "\n",
       "    .dataframe thead th {\n",
       "        text-align: right;\n",
       "    }\n",
       "</style>\n",
       "<table border=\"1\" class=\"dataframe\">\n",
       "  <thead>\n",
       "    <tr style=\"text-align: right;\">\n",
       "      <th></th>\n",
       "      <th></th>\n",
       "      <th></th>\n",
       "      <th></th>\n",
       "      <th></th>\n",
       "      <th></th>\n",
       "      <th>Leerflaeche</th>\n",
       "      <th>BueroNettofl</th>\n",
       "    </tr>\n",
       "    <tr>\n",
       "      <th>StichtagDatJahr</th>\n",
       "      <th>KreisSort</th>\n",
       "      <th>KreisLang</th>\n",
       "      <th>Nutzung</th>\n",
       "      <th>Leerflaeche</th>\n",
       "      <th>BueroNettofl</th>\n",
       "      <th></th>\n",
       "      <th></th>\n",
       "    </tr>\n",
       "  </thead>\n",
       "  <tbody>\n",
       "    <tr>\n",
       "      <th rowspan=\"2\" valign=\"top\">2021-01-01</th>\n",
       "      <th rowspan=\"2\" valign=\"top\">1</th>\n",
       "      <th rowspan=\"2\" valign=\"top\">Kreis 1</th>\n",
       "      <th rowspan=\"2\" valign=\"top\">Büro</th>\n",
       "      <th>300</th>\n",
       "      <th>194642</th>\n",
       "      <td>300</td>\n",
       "      <td>194642</td>\n",
       "    </tr>\n",
       "    <tr>\n",
       "      <th>373</th>\n",
       "      <th>103999</th>\n",
       "      <td>373</td>\n",
       "      <td>103999</td>\n",
       "    </tr>\n",
       "  </tbody>\n",
       "</table>\n",
       "</div>"
      ],
      "text/plain": [
       "                                                                      Leerflaeche  BueroNettofl\n",
       "StichtagDatJahr KreisSort KreisLang Nutzung Leerflaeche BueroNettofl                           \n",
       "2021-01-01      1         Kreis 1   Büro    300         194642                300        194642\n",
       "                                            373         103999                373        103999"
      ]
     },
     "execution_count": 22,
     "metadata": {},
     "output_type": "execute_result"
    }
   ],
   "source": [
    "agg_mySelection = mySelection.groupby(['StichtagDatJahr', 'KreisSort', 'KreisLang', 'Nutzung', 'Leerflaeche', 'BueroNettofl']\n",
    ").agg({'Leerflaeche':('sum'),'BueroNettofl': ('sum')}\n",
    ")\n",
    "agg_mySelection.head(2)"
   ]
  },
  {
   "cell_type": "code",
   "execution_count": 23,
   "metadata": {},
   "outputs": [
    {
     "data": {
      "text/html": [
       "\n",
       "<div id=\"altair-viz-f15f6d5d13664630afa04c21019459f7\"></div>\n",
       "<script type=\"text/javascript\">\n",
       "  (function(spec, embedOpt){\n",
       "    let outputDiv = document.currentScript.previousElementSibling;\n",
       "    if (outputDiv.id !== \"altair-viz-f15f6d5d13664630afa04c21019459f7\") {\n",
       "      outputDiv = document.getElementById(\"altair-viz-f15f6d5d13664630afa04c21019459f7\");\n",
       "    }\n",
       "    const paths = {\n",
       "      \"vega\": \"https://cdn.jsdelivr.net/npm//vega@5?noext\",\n",
       "      \"vega-lib\": \"https://cdn.jsdelivr.net/npm//vega-lib?noext\",\n",
       "      \"vega-lite\": \"https://cdn.jsdelivr.net/npm//vega-lite@4.8.1?noext\",\n",
       "      \"vega-embed\": \"https://cdn.jsdelivr.net/npm//vega-embed@6?noext\",\n",
       "    };\n",
       "\n",
       "    function loadScript(lib) {\n",
       "      return new Promise(function(resolve, reject) {\n",
       "        var s = document.createElement('script');\n",
       "        s.src = paths[lib];\n",
       "        s.async = true;\n",
       "        s.onload = () => resolve(paths[lib]);\n",
       "        s.onerror = () => reject(`Error loading script: ${paths[lib]}`);\n",
       "        document.getElementsByTagName(\"head\")[0].appendChild(s);\n",
       "      });\n",
       "    }\n",
       "\n",
       "    function showError(err) {\n",
       "      outputDiv.innerHTML = `<div class=\"error\" style=\"color:red;\">${err}</div>`;\n",
       "      throw err;\n",
       "    }\n",
       "\n",
       "    function displayChart(vegaEmbed) {\n",
       "      vegaEmbed(outputDiv, spec, embedOpt)\n",
       "        .catch(err => showError(`Javascript Error: ${err.message}<br>This usually means there's a typo in your chart specification. See the javascript console for the full traceback.`));\n",
       "    }\n",
       "\n",
       "    if(typeof define === \"function\" && define.amd) {\n",
       "      requirejs.config({paths});\n",
       "      require([\"vega-embed\"], displayChart, err => showError(`Error loading script: ${err.message}`));\n",
       "    } else if (typeof vegaEmbed === \"function\") {\n",
       "      displayChart(vegaEmbed);\n",
       "    } else {\n",
       "      loadScript(\"vega\")\n",
       "        .then(() => loadScript(\"vega-lite\"))\n",
       "        .then(() => loadScript(\"vega-embed\"))\n",
       "        .catch(showError)\n",
       "        .then(() => displayChart(vegaEmbed));\n",
       "    }\n",
       "  })({\"config\": {\"view\": {\"continuousWidth\": 400, \"continuousHeight\": 300}}, \"layer\": [{\"mark\": \"circle\", \"encoding\": {\"color\": {\"type\": \"nominal\", \"field\": \"Nutzung\"}, \"opacity\": {\"value\": 0}, \"x\": {\"type\": \"nominal\", \"field\": \"QuarLang\"}, \"y\": {\"type\": \"quantitative\", \"field\": \"Leerflaeche\"}}, \"height\": 300, \"selection\": {\"selector001\": {\"type\": \"single\", \"on\": \"mouseover\", \"fields\": [\"Nutzung\"], \"nearest\": true}}, \"width\": 700}, {\"mark\": \"line\", \"encoding\": {\"color\": {\"type\": \"nominal\", \"field\": \"Nutzung\"}, \"size\": {\"condition\": {\"value\": 1.5, \"selection\": {\"not\": \"selector001\"}}, \"value\": 4}, \"x\": {\"type\": \"nominal\", \"field\": \"QuarLang\"}, \"y\": {\"type\": \"quantitative\", \"field\": \"Leerflaeche\"}}, \"selection\": {\"selector002\": {\"type\": \"interval\", \"bind\": \"scales\", \"encodings\": [\"x\", \"y\"]}}}], \"data\": {\"name\": \"data-78bf3e69e90e08770d0697e4d06d3152\"}, \"$schema\": \"https://vega.github.io/schema/vega-lite/v4.8.1.json\", \"datasets\": {\"data-78bf3e69e90e08770d0697e4d06d3152\": [{\"StichtagDatJahr\": \"2021-01-01T00:00:00\", \"QuarSort\": 11, \"QuarLang\": \"Rathaus\", \"KreisSort\": 1, \"KreisLang\": \"Kreis 1\", \"Nutzung\": \"B\\u00fcro\", \"Leerflaeche\": 373, \"BueroNettofl\": 103999.0, \"BueroLeerProz\": 0.4}, {\"StichtagDatJahr\": \"2021-01-01T00:00:00\", \"QuarSort\": 11, \"QuarLang\": \"Rathaus\", \"KreisSort\": 1, \"KreisLang\": \"Kreis 1\", \"Nutzung\": \"Andere\", \"Leerflaeche\": 245, \"BueroNettofl\": null, \"BueroLeerProz\": null}, {\"StichtagDatJahr\": \"2021-01-01T00:00:00\", \"QuarSort\": 11, \"QuarLang\": \"Rathaus\", \"KreisSort\": 1, \"KreisLang\": \"Kreis 1\", \"Nutzung\": \"Werkstatt\", \"Leerflaeche\": 304, \"BueroNettofl\": null, \"BueroLeerProz\": null}, {\"StichtagDatJahr\": \"2021-01-01T00:00:00\", \"QuarSort\": 11, \"QuarLang\": \"Rathaus\", \"KreisSort\": 1, \"KreisLang\": \"Kreis 1\", \"Nutzung\": \"Lager\", \"Leerflaeche\": 809, \"BueroNettofl\": null, \"BueroLeerProz\": null}, {\"StichtagDatJahr\": \"2021-01-01T00:00:00\", \"QuarSort\": 12, \"QuarLang\": \"Hochschulen\", \"KreisSort\": 1, \"KreisLang\": \"Kreis 1\", \"Nutzung\": \"Verkauf\", \"Leerflaeche\": 170, \"BueroNettofl\": null, \"BueroLeerProz\": null}, {\"StichtagDatJahr\": \"2021-01-01T00:00:00\", \"QuarSort\": 12, \"QuarLang\": \"Hochschulen\", \"KreisSort\": 1, \"KreisLang\": \"Kreis 1\", \"Nutzung\": \"B\\u00fcro\", \"Leerflaeche\": 300, \"BueroNettofl\": 194642.0, \"BueroLeerProz\": 0.2}, {\"StichtagDatJahr\": \"2021-01-01T00:00:00\", \"QuarSort\": 13, \"QuarLang\": \"Lindenhof\", \"KreisSort\": 1, \"KreisLang\": \"Kreis 1\", \"Nutzung\": \"Lager\", \"Leerflaeche\": 138, \"BueroNettofl\": null, \"BueroLeerProz\": null}, {\"StichtagDatJahr\": \"2021-01-01T00:00:00\", \"QuarSort\": 13, \"QuarLang\": \"Lindenhof\", \"KreisSort\": 1, \"KreisLang\": \"Kreis 1\", \"Nutzung\": \"B\\u00fcro\", \"Leerflaeche\": 1843, \"BueroNettofl\": 193235.0, \"BueroLeerProz\": 1.0}, {\"StichtagDatJahr\": \"2021-01-01T00:00:00\", \"QuarSort\": 14, \"QuarLang\": \"City\", \"KreisSort\": 1, \"KreisLang\": \"Kreis 1\", \"Nutzung\": \"B\\u00fcro\", \"Leerflaeche\": 2618, \"BueroNettofl\": 404750.0, \"BueroLeerProz\": 0.6}, {\"StichtagDatJahr\": \"2021-01-01T00:00:00\", \"QuarSort\": 14, \"QuarLang\": \"City\", \"KreisSort\": 1, \"KreisLang\": \"Kreis 1\", \"Nutzung\": \"Andere\", \"Leerflaeche\": 7, \"BueroNettofl\": null, \"BueroLeerProz\": null}, {\"StichtagDatJahr\": \"2021-01-01T00:00:00\", \"QuarSort\": 14, \"QuarLang\": \"City\", \"KreisSort\": 1, \"KreisLang\": \"Kreis 1\", \"Nutzung\": \"Verkauf\", \"Leerflaeche\": 539, \"BueroNettofl\": null, \"BueroLeerProz\": null}, {\"StichtagDatJahr\": \"2021-01-01T00:00:00\", \"QuarSort\": 14, \"QuarLang\": \"City\", \"KreisSort\": 1, \"KreisLang\": \"Kreis 1\", \"Nutzung\": \"Lager\", \"Leerflaeche\": 411, \"BueroNettofl\": null, \"BueroLeerProz\": null}, {\"StichtagDatJahr\": \"2021-01-01T00:00:00\", \"QuarSort\": 21, \"QuarLang\": \"Wollishofen\", \"KreisSort\": 2, \"KreisLang\": \"Kreis 2\", \"Nutzung\": \"Lager\", \"Leerflaeche\": 324, \"BueroNettofl\": null, \"BueroLeerProz\": null}, {\"StichtagDatJahr\": \"2021-01-01T00:00:00\", \"QuarSort\": 21, \"QuarLang\": \"Wollishofen\", \"KreisSort\": 2, \"KreisLang\": \"Kreis 2\", \"Nutzung\": \"B\\u00fcro\", \"Leerflaeche\": 2098, \"BueroNettofl\": 87154.0, \"BueroLeerProz\": 2.4}, {\"StichtagDatJahr\": \"2021-01-01T00:00:00\", \"QuarSort\": 24, \"QuarLang\": \"Enge\", \"KreisSort\": 2, \"KreisLang\": \"Kreis 2\", \"Nutzung\": \"Andere\", \"Leerflaeche\": 170, \"BueroNettofl\": null, \"BueroLeerProz\": null}, {\"StichtagDatJahr\": \"2021-01-01T00:00:00\", \"QuarSort\": 24, \"QuarLang\": \"Enge\", \"KreisSort\": 2, \"KreisLang\": \"Kreis 2\", \"Nutzung\": \"Verkauf\", \"Leerflaeche\": 598, \"BueroNettofl\": null, \"BueroLeerProz\": null}, {\"StichtagDatJahr\": \"2021-01-01T00:00:00\", \"QuarSort\": 24, \"QuarLang\": \"Enge\", \"KreisSort\": 2, \"KreisLang\": \"Kreis 2\", \"Nutzung\": \"Lager\", \"Leerflaeche\": 2670, \"BueroNettofl\": null, \"BueroLeerProz\": null}, {\"StichtagDatJahr\": \"2021-01-01T00:00:00\", \"QuarSort\": 24, \"QuarLang\": \"Enge\", \"KreisSort\": 2, \"KreisLang\": \"Kreis 2\", \"Nutzung\": \"B\\u00fcro\", \"Leerflaeche\": 8590, \"BueroNettofl\": 535065.0, \"BueroLeerProz\": 1.6}, {\"StichtagDatJahr\": \"2021-01-01T00:00:00\", \"QuarSort\": 31, \"QuarLang\": \"Alt-Wiedikon\", \"KreisSort\": 3, \"KreisLang\": \"Kreis 3\", \"Nutzung\": \"Lager\", \"Leerflaeche\": 3051, \"BueroNettofl\": null, \"BueroLeerProz\": null}, {\"StichtagDatJahr\": \"2021-01-01T00:00:00\", \"QuarSort\": 31, \"QuarLang\": \"Alt-Wiedikon\", \"KreisSort\": 3, \"KreisLang\": \"Kreis 3\", \"Nutzung\": \"B\\u00fcro\", \"Leerflaeche\": 3918, \"BueroNettofl\": 427109.0, \"BueroLeerProz\": 0.9}, {\"StichtagDatJahr\": \"2021-01-01T00:00:00\", \"QuarSort\": 33, \"QuarLang\": \"Friesenberg\", \"KreisSort\": 3, \"KreisLang\": \"Kreis 3\", \"Nutzung\": \"B\\u00fcro\", \"Leerflaeche\": 398, \"BueroNettofl\": 14272.0, \"BueroLeerProz\": 2.8}, {\"StichtagDatJahr\": \"2021-01-01T00:00:00\", \"QuarSort\": 34, \"QuarLang\": \"Sihlfeld\", \"KreisSort\": 3, \"KreisLang\": \"Kreis 3\", \"Nutzung\": \"Lager\", \"Leerflaeche\": 14, \"BueroNettofl\": null, \"BueroLeerProz\": null}, {\"StichtagDatJahr\": \"2021-01-01T00:00:00\", \"QuarSort\": 34, \"QuarLang\": \"Sihlfeld\", \"KreisSort\": 3, \"KreisLang\": \"Kreis 3\", \"Nutzung\": \"B\\u00fcro\", \"Leerflaeche\": 468, \"BueroNettofl\": 109733.0, \"BueroLeerProz\": 0.4}, {\"StichtagDatJahr\": \"2021-01-01T00:00:00\", \"QuarSort\": 41, \"QuarLang\": \"Werd\", \"KreisSort\": 4, \"KreisLang\": \"Kreis 4\", \"Nutzung\": \"B\\u00fcro\", \"Leerflaeche\": 225, \"BueroNettofl\": 142253.0, \"BueroLeerProz\": 0.2}, {\"StichtagDatJahr\": \"2021-01-01T00:00:00\", \"QuarSort\": 42, \"QuarLang\": \"Langstrasse\", \"KreisSort\": 4, \"KreisLang\": \"Kreis 4\", \"Nutzung\": \"Andere\", \"Leerflaeche\": 37, \"BueroNettofl\": null, \"BueroLeerProz\": null}, {\"StichtagDatJahr\": \"2021-01-01T00:00:00\", \"QuarSort\": 42, \"QuarLang\": \"Langstrasse\", \"KreisSort\": 4, \"KreisLang\": \"Kreis 4\", \"Nutzung\": \"Verkauf\", \"Leerflaeche\": 417, \"BueroNettofl\": null, \"BueroLeerProz\": null}, {\"StichtagDatJahr\": \"2021-01-01T00:00:00\", \"QuarSort\": 42, \"QuarLang\": \"Langstrasse\", \"KreisSort\": 4, \"KreisLang\": \"Kreis 4\", \"Nutzung\": \"Lager\", \"Leerflaeche\": 504, \"BueroNettofl\": null, \"BueroLeerProz\": null}, {\"StichtagDatJahr\": \"2021-01-01T00:00:00\", \"QuarSort\": 42, \"QuarLang\": \"Langstrasse\", \"KreisSort\": 4, \"KreisLang\": \"Kreis 4\", \"Nutzung\": \"B\\u00fcro\", \"Leerflaeche\": 4390, \"BueroNettofl\": 378104.0, \"BueroLeerProz\": 1.2}, {\"StichtagDatJahr\": \"2021-01-01T00:00:00\", \"QuarSort\": 44, \"QuarLang\": \"Hard\", \"KreisSort\": 4, \"KreisLang\": \"Kreis 4\", \"Nutzung\": \"Lager\", \"Leerflaeche\": 366, \"BueroNettofl\": null, \"BueroLeerProz\": null}, {\"StichtagDatJahr\": \"2021-01-01T00:00:00\", \"QuarSort\": 51, \"QuarLang\": \"Gewerbeschule\", \"KreisSort\": 5, \"KreisLang\": \"Kreis 5\", \"Nutzung\": \"Verkauf\", \"Leerflaeche\": 250, \"BueroNettofl\": null, \"BueroLeerProz\": null}, {\"StichtagDatJahr\": \"2021-01-01T00:00:00\", \"QuarSort\": 51, \"QuarLang\": \"Gewerbeschule\", \"KreisSort\": 5, \"KreisLang\": \"Kreis 5\", \"Nutzung\": \"Lager\", \"Leerflaeche\": 193, \"BueroNettofl\": null, \"BueroLeerProz\": null}, {\"StichtagDatJahr\": \"2021-01-01T00:00:00\", \"QuarSort\": 51, \"QuarLang\": \"Gewerbeschule\", \"KreisSort\": 5, \"KreisLang\": \"Kreis 5\", \"Nutzung\": \"B\\u00fcro\", \"Leerflaeche\": 1892, \"BueroNettofl\": 247592.0, \"BueroLeerProz\": 0.8}, {\"StichtagDatJahr\": \"2021-01-01T00:00:00\", \"QuarSort\": 52, \"QuarLang\": \"Escher Wyss\", \"KreisSort\": 5, \"KreisLang\": \"Kreis 5\", \"Nutzung\": \"Werkstatt\", \"Leerflaeche\": 793, \"BueroNettofl\": null, \"BueroLeerProz\": null}, {\"StichtagDatJahr\": \"2021-01-01T00:00:00\", \"QuarSort\": 52, \"QuarLang\": \"Escher Wyss\", \"KreisSort\": 5, \"KreisLang\": \"Kreis 5\", \"Nutzung\": \"Verkauf\", \"Leerflaeche\": 763, \"BueroNettofl\": null, \"BueroLeerProz\": null}, {\"StichtagDatJahr\": \"2021-01-01T00:00:00\", \"QuarSort\": 52, \"QuarLang\": \"Escher Wyss\", \"KreisSort\": 5, \"KreisLang\": \"Kreis 5\", \"Nutzung\": \"Lager\", \"Leerflaeche\": 3596, \"BueroNettofl\": null, \"BueroLeerProz\": null}, {\"StichtagDatJahr\": \"2021-01-01T00:00:00\", \"QuarSort\": 52, \"QuarLang\": \"Escher Wyss\", \"KreisSort\": 5, \"KreisLang\": \"Kreis 5\", \"Nutzung\": \"B\\u00fcro\", \"Leerflaeche\": 4710, \"BueroNettofl\": 524057.0, \"BueroLeerProz\": 0.9}, {\"StichtagDatJahr\": \"2021-01-01T00:00:00\", \"QuarSort\": 61, \"QuarLang\": \"Unterstrass\", \"KreisSort\": 6, \"KreisLang\": \"Kreis 6\", \"Nutzung\": \"Verkauf\", \"Leerflaeche\": 20, \"BueroNettofl\": null, \"BueroLeerProz\": null}, {\"StichtagDatJahr\": \"2021-01-01T00:00:00\", \"QuarSort\": 61, \"QuarLang\": \"Unterstrass\", \"KreisSort\": 6, \"KreisLang\": \"Kreis 6\", \"Nutzung\": \"Lager\", \"Leerflaeche\": 259, \"BueroNettofl\": null, \"BueroLeerProz\": null}, {\"StichtagDatJahr\": \"2021-01-01T00:00:00\", \"QuarSort\": 61, \"QuarLang\": \"Unterstrass\", \"KreisSort\": 6, \"KreisLang\": \"Kreis 6\", \"Nutzung\": \"B\\u00fcro\", \"Leerflaeche\": 526, \"BueroNettofl\": 193981.0, \"BueroLeerProz\": 0.3}, {\"StichtagDatJahr\": \"2021-01-01T00:00:00\", \"QuarSort\": 63, \"QuarLang\": \"Oberstrass\", \"KreisSort\": 6, \"KreisLang\": \"Kreis 6\", \"Nutzung\": \"B\\u00fcro\", \"Leerflaeche\": 524, \"BueroNettofl\": 306913.0, \"BueroLeerProz\": 0.2}, {\"StichtagDatJahr\": \"2021-01-01T00:00:00\", \"QuarSort\": 71, \"QuarLang\": \"Fluntern\", \"KreisSort\": 7, \"KreisLang\": \"Kreis 7\", \"Nutzung\": \"B\\u00fcro\", \"Leerflaeche\": 148, \"BueroNettofl\": 127953.0, \"BueroLeerProz\": 0.1}, {\"StichtagDatJahr\": \"2021-01-01T00:00:00\", \"QuarSort\": 72, \"QuarLang\": \"Hottingen\", \"KreisSort\": 7, \"KreisLang\": \"Kreis 7\", \"Nutzung\": \"Andere\", \"Leerflaeche\": 120, \"BueroNettofl\": null, \"BueroLeerProz\": null}, {\"StichtagDatJahr\": \"2021-01-01T00:00:00\", \"QuarSort\": 72, \"QuarLang\": \"Hottingen\", \"KreisSort\": 7, \"KreisLang\": \"Kreis 7\", \"Nutzung\": \"Lager\", \"Leerflaeche\": 86, \"BueroNettofl\": null, \"BueroLeerProz\": null}, {\"StichtagDatJahr\": \"2021-01-01T00:00:00\", \"QuarSort\": 72, \"QuarLang\": \"Hottingen\", \"KreisSort\": 7, \"KreisLang\": \"Kreis 7\", \"Nutzung\": \"B\\u00fcro\", \"Leerflaeche\": 2318, \"BueroNettofl\": 167485.0, \"BueroLeerProz\": 1.4}, {\"StichtagDatJahr\": \"2021-01-01T00:00:00\", \"QuarSort\": 73, \"QuarLang\": \"Hirslanden\", \"KreisSort\": 7, \"KreisLang\": \"Kreis 7\", \"Nutzung\": \"B\\u00fcro\", \"Leerflaeche\": 224, \"BueroNettofl\": 51117.0, \"BueroLeerProz\": 0.4}, {\"StichtagDatJahr\": \"2021-01-01T00:00:00\", \"QuarSort\": 74, \"QuarLang\": \"Witikon\", \"KreisSort\": 7, \"KreisLang\": \"Kreis 7\", \"Nutzung\": \"Andere\", \"Leerflaeche\": 50, \"BueroNettofl\": null, \"BueroLeerProz\": null}, {\"StichtagDatJahr\": \"2021-01-01T00:00:00\", \"QuarSort\": 74, \"QuarLang\": \"Witikon\", \"KreisSort\": 7, \"KreisLang\": \"Kreis 7\", \"Nutzung\": \"Verkauf\", \"Leerflaeche\": 165, \"BueroNettofl\": null, \"BueroLeerProz\": null}, {\"StichtagDatJahr\": \"2021-01-01T00:00:00\", \"QuarSort\": 74, \"QuarLang\": \"Witikon\", \"KreisSort\": 7, \"KreisLang\": \"Kreis 7\", \"Nutzung\": \"Lager\", \"Leerflaeche\": 235, \"BueroNettofl\": null, \"BueroLeerProz\": null}, {\"StichtagDatJahr\": \"2021-01-01T00:00:00\", \"QuarSort\": 74, \"QuarLang\": \"Witikon\", \"KreisSort\": 7, \"KreisLang\": \"Kreis 7\", \"Nutzung\": \"B\\u00fcro\", \"Leerflaeche\": 720, \"BueroNettofl\": 10834.0, \"BueroLeerProz\": 6.6}, {\"StichtagDatJahr\": \"2021-01-01T00:00:00\", \"QuarSort\": 81, \"QuarLang\": \"Seefeld\", \"KreisSort\": 8, \"KreisLang\": \"Kreis 8\", \"Nutzung\": \"Lager\", \"Leerflaeche\": 66, \"BueroNettofl\": null, \"BueroLeerProz\": null}, {\"StichtagDatJahr\": \"2021-01-01T00:00:00\", \"QuarSort\": 81, \"QuarLang\": \"Seefeld\", \"KreisSort\": 8, \"KreisLang\": \"Kreis 8\", \"Nutzung\": \"B\\u00fcro\", \"Leerflaeche\": 1520, \"BueroNettofl\": 167989.0, \"BueroLeerProz\": 0.9}, {\"StichtagDatJahr\": \"2021-01-01T00:00:00\", \"QuarSort\": 82, \"QuarLang\": \"M\\u00fchlebach\", \"KreisSort\": 8, \"KreisLang\": \"Kreis 8\", \"Nutzung\": \"Lager\", \"Leerflaeche\": 252, \"BueroNettofl\": null, \"BueroLeerProz\": null}, {\"StichtagDatJahr\": \"2021-01-01T00:00:00\", \"QuarSort\": 82, \"QuarLang\": \"M\\u00fchlebach\", \"KreisSort\": 8, \"KreisLang\": \"Kreis 8\", \"Nutzung\": \"B\\u00fcro\", \"Leerflaeche\": 4795, \"BueroNettofl\": 170077.0, \"BueroLeerProz\": 2.8}, {\"StichtagDatJahr\": \"2021-01-01T00:00:00\", \"QuarSort\": 83, \"QuarLang\": \"Weinegg\", \"KreisSort\": 8, \"KreisLang\": \"Kreis 8\", \"Nutzung\": \"B\\u00fcro\", \"Leerflaeche\": 265, \"BueroNettofl\": 62546.0, \"BueroLeerProz\": 0.4}, {\"StichtagDatJahr\": \"2021-01-01T00:00:00\", \"QuarSort\": 91, \"QuarLang\": \"Albisrieden\", \"KreisSort\": 9, \"KreisLang\": \"Kreis 9\", \"Nutzung\": \"Andere\", \"Leerflaeche\": 65, \"BueroNettofl\": null, \"BueroLeerProz\": null}, {\"StichtagDatJahr\": \"2021-01-01T00:00:00\", \"QuarSort\": 91, \"QuarLang\": \"Albisrieden\", \"KreisSort\": 9, \"KreisLang\": \"Kreis 9\", \"Nutzung\": \"Werkstatt\", \"Leerflaeche\": 185, \"BueroNettofl\": null, \"BueroLeerProz\": null}, {\"StichtagDatJahr\": \"2021-01-01T00:00:00\", \"QuarSort\": 91, \"QuarLang\": \"Albisrieden\", \"KreisSort\": 9, \"KreisLang\": \"Kreis 9\", \"Nutzung\": \"Verkauf\", \"Leerflaeche\": 73, \"BueroNettofl\": null, \"BueroLeerProz\": null}, {\"StichtagDatJahr\": \"2021-01-01T00:00:00\", \"QuarSort\": 91, \"QuarLang\": \"Albisrieden\", \"KreisSort\": 9, \"KreisLang\": \"Kreis 9\", \"Nutzung\": \"Lager\", \"Leerflaeche\": 702, \"BueroNettofl\": null, \"BueroLeerProz\": null}, {\"StichtagDatJahr\": \"2021-01-01T00:00:00\", \"QuarSort\": 91, \"QuarLang\": \"Albisrieden\", \"KreisSort\": 9, \"KreisLang\": \"Kreis 9\", \"Nutzung\": \"B\\u00fcro\", \"Leerflaeche\": 5634, \"BueroNettofl\": 120098.0, \"BueroLeerProz\": 4.7}, {\"StichtagDatJahr\": \"2021-01-01T00:00:00\", \"QuarSort\": 92, \"QuarLang\": \"Altstetten\", \"KreisSort\": 9, \"KreisLang\": \"Kreis 9\", \"Nutzung\": \"Andere\", \"Leerflaeche\": 150, \"BueroNettofl\": null, \"BueroLeerProz\": null}, {\"StichtagDatJahr\": \"2021-01-01T00:00:00\", \"QuarSort\": 92, \"QuarLang\": \"Altstetten\", \"KreisSort\": 9, \"KreisLang\": \"Kreis 9\", \"Nutzung\": \"Verkauf\", \"Leerflaeche\": 534, \"BueroNettofl\": null, \"BueroLeerProz\": null}, {\"StichtagDatJahr\": \"2021-01-01T00:00:00\", \"QuarSort\": 92, \"QuarLang\": \"Altstetten\", \"KreisSort\": 9, \"KreisLang\": \"Kreis 9\", \"Nutzung\": \"Lager\", \"Leerflaeche\": 4457, \"BueroNettofl\": null, \"BueroLeerProz\": null}, {\"StichtagDatJahr\": \"2021-01-01T00:00:00\", \"QuarSort\": 92, \"QuarLang\": \"Altstetten\", \"KreisSort\": 9, \"KreisLang\": \"Kreis 9\", \"Nutzung\": \"B\\u00fcro\", \"Leerflaeche\": 14701, \"BueroNettofl\": 582531.0, \"BueroLeerProz\": 2.5}, {\"StichtagDatJahr\": \"2021-01-01T00:00:00\", \"QuarSort\": 101, \"QuarLang\": \"H\\u00f6ngg\", \"KreisSort\": 10, \"KreisLang\": \"Kreis 10\", \"Nutzung\": \"Andere\", \"Leerflaeche\": 74, \"BueroNettofl\": null, \"BueroLeerProz\": null}, {\"StichtagDatJahr\": \"2021-01-01T00:00:00\", \"QuarSort\": 101, \"QuarLang\": \"H\\u00f6ngg\", \"KreisSort\": 10, \"KreisLang\": \"Kreis 10\", \"Nutzung\": \"Lager\", \"Leerflaeche\": 40, \"BueroNettofl\": null, \"BueroLeerProz\": null}, {\"StichtagDatJahr\": \"2021-01-01T00:00:00\", \"QuarSort\": 101, \"QuarLang\": \"H\\u00f6ngg\", \"KreisSort\": 10, \"KreisLang\": \"Kreis 10\", \"Nutzung\": \"B\\u00fcro\", \"Leerflaeche\": 535, \"BueroNettofl\": 209994.0, \"BueroLeerProz\": 0.3}, {\"StichtagDatJahr\": \"2021-01-01T00:00:00\", \"QuarSort\": 102, \"QuarLang\": \"Wipkingen\", \"KreisSort\": 10, \"KreisLang\": \"Kreis 10\", \"Nutzung\": \"B\\u00fcro\", \"Leerflaeche\": 517, \"BueroNettofl\": 53037.0, \"BueroLeerProz\": 1.0}, {\"StichtagDatJahr\": \"2021-01-01T00:00:00\", \"QuarSort\": 111, \"QuarLang\": \"Affoltern\", \"KreisSort\": 11, \"KreisLang\": \"Kreis 11\", \"Nutzung\": \"Werkstatt\", \"Leerflaeche\": 900, \"BueroNettofl\": null, \"BueroLeerProz\": null}, {\"StichtagDatJahr\": \"2021-01-01T00:00:00\", \"QuarSort\": 111, \"QuarLang\": \"Affoltern\", \"KreisSort\": 11, \"KreisLang\": \"Kreis 11\", \"Nutzung\": \"B\\u00fcro\", \"Leerflaeche\": 298, \"BueroNettofl\": 22973.0, \"BueroLeerProz\": 1.3}, {\"StichtagDatJahr\": \"2021-01-01T00:00:00\", \"QuarSort\": 115, \"QuarLang\": \"Oerlikon\", \"KreisSort\": 11, \"KreisLang\": \"Kreis 11\", \"Nutzung\": \"Andere\", \"Leerflaeche\": 100, \"BueroNettofl\": null, \"BueroLeerProz\": null}, {\"StichtagDatJahr\": \"2021-01-01T00:00:00\", \"QuarSort\": 115, \"QuarLang\": \"Oerlikon\", \"KreisSort\": 11, \"KreisLang\": \"Kreis 11\", \"Nutzung\": \"Verkauf\", \"Leerflaeche\": 141, \"BueroNettofl\": null, \"BueroLeerProz\": null}, {\"StichtagDatJahr\": \"2021-01-01T00:00:00\", \"QuarSort\": 115, \"QuarLang\": \"Oerlikon\", \"KreisSort\": 11, \"KreisLang\": \"Kreis 11\", \"Nutzung\": \"Lager\", \"Leerflaeche\": 196, \"BueroNettofl\": null, \"BueroLeerProz\": null}, {\"StichtagDatJahr\": \"2021-01-01T00:00:00\", \"QuarSort\": 115, \"QuarLang\": \"Oerlikon\", \"KreisSort\": 11, \"KreisLang\": \"Kreis 11\", \"Nutzung\": \"B\\u00fcro\", \"Leerflaeche\": 3858, \"BueroNettofl\": 333991.0, \"BueroLeerProz\": 1.2}, {\"StichtagDatJahr\": \"2021-01-01T00:00:00\", \"QuarSort\": 119, \"QuarLang\": \"Seebach\", \"KreisSort\": 11, \"KreisLang\": \"Kreis 11\", \"Nutzung\": \"Andere\", \"Leerflaeche\": 781, \"BueroNettofl\": null, \"BueroLeerProz\": null}, {\"StichtagDatJahr\": \"2021-01-01T00:00:00\", \"QuarSort\": 119, \"QuarLang\": \"Seebach\", \"KreisSort\": 11, \"KreisLang\": \"Kreis 11\", \"Nutzung\": \"Verkauf\", \"Leerflaeche\": 1031, \"BueroNettofl\": null, \"BueroLeerProz\": null}, {\"StichtagDatJahr\": \"2021-01-01T00:00:00\", \"QuarSort\": 119, \"QuarLang\": \"Seebach\", \"KreisSort\": 11, \"KreisLang\": \"Kreis 11\", \"Nutzung\": \"Lager\", \"Leerflaeche\": 5544, \"BueroNettofl\": null, \"BueroLeerProz\": null}, {\"StichtagDatJahr\": \"2021-01-01T00:00:00\", \"QuarSort\": 119, \"QuarLang\": \"Seebach\", \"KreisSort\": 11, \"KreisLang\": \"Kreis 11\", \"Nutzung\": \"B\\u00fcro\", \"Leerflaeche\": 34374, \"BueroNettofl\": 527244.0, \"BueroLeerProz\": 6.5}, {\"StichtagDatJahr\": \"2021-01-01T00:00:00\", \"QuarSort\": 121, \"QuarLang\": \"Saatlen\", \"KreisSort\": 12, \"KreisLang\": \"Kreis 12\", \"Nutzung\": \"B\\u00fcro\", \"Leerflaeche\": 892, \"BueroNettofl\": 13973.0, \"BueroLeerProz\": 6.4}, {\"StichtagDatJahr\": \"2021-01-01T00:00:00\", \"QuarSort\": 123, \"QuarLang\": \"Hirzenbach\", \"KreisSort\": 12, \"KreisLang\": \"Kreis 12\", \"Nutzung\": \"Verkauf\", \"Leerflaeche\": 218, \"BueroNettofl\": null, \"BueroLeerProz\": null}]}}, {\"mode\": \"vega-lite\"});\n",
       "</script>"
      ],
      "text/plain": [
       "alt.LayerChart(...)"
      ]
     },
     "execution_count": 23,
     "metadata": {},
     "output_type": "execute_result"
    }
   ],
   "source": [
    "# df_statzonen = df_statzonen[(df_statzonen.knr>0) & (df_statzonen.qname!=\"Hirslanden\")]\n",
    "#aktuellesJahr[[aktuellesJahr.KreisSort =7]])\n",
    "highlight = alt.selection(type='single', on='mouseover',\n",
    "                          fields=['Nutzung'], nearest=True)\n",
    "#x='date:StichtagDatJahr',\n",
    "base = alt.Chart(mySelection).encode(\n",
    "    x='QuarLang',\n",
    "    y='Leerflaeche',\n",
    "    color='Nutzung'\n",
    ")\n",
    "\n",
    "points = base.mark_circle().encode(\n",
    "    opacity=alt.value(0)\n",
    ").add_selection(\n",
    "    highlight\n",
    ").properties(\n",
    "    width=700 , height=300\n",
    ")\n",
    "lines = base.mark_line().encode(\n",
    "    size=alt.condition(~highlight, alt.value(1.5), alt.value(4))\n",
    ").interactive()\n",
    "\n",
    "points + lines"
   ]
  },
  {
   "cell_type": "code",
   "execution_count": 24,
   "metadata": {},
   "outputs": [
    {
     "data": {
      "text/html": [
       "\n",
       "<div id=\"altair-viz-331a31a3ddcf401c940d9759fa53c25f\"></div>\n",
       "<script type=\"text/javascript\">\n",
       "  (function(spec, embedOpt){\n",
       "    let outputDiv = document.currentScript.previousElementSibling;\n",
       "    if (outputDiv.id !== \"altair-viz-331a31a3ddcf401c940d9759fa53c25f\") {\n",
       "      outputDiv = document.getElementById(\"altair-viz-331a31a3ddcf401c940d9759fa53c25f\");\n",
       "    }\n",
       "    const paths = {\n",
       "      \"vega\": \"https://cdn.jsdelivr.net/npm//vega@5?noext\",\n",
       "      \"vega-lib\": \"https://cdn.jsdelivr.net/npm//vega-lib?noext\",\n",
       "      \"vega-lite\": \"https://cdn.jsdelivr.net/npm//vega-lite@4.8.1?noext\",\n",
       "      \"vega-embed\": \"https://cdn.jsdelivr.net/npm//vega-embed@6?noext\",\n",
       "    };\n",
       "\n",
       "    function loadScript(lib) {\n",
       "      return new Promise(function(resolve, reject) {\n",
       "        var s = document.createElement('script');\n",
       "        s.src = paths[lib];\n",
       "        s.async = true;\n",
       "        s.onload = () => resolve(paths[lib]);\n",
       "        s.onerror = () => reject(`Error loading script: ${paths[lib]}`);\n",
       "        document.getElementsByTagName(\"head\")[0].appendChild(s);\n",
       "      });\n",
       "    }\n",
       "\n",
       "    function showError(err) {\n",
       "      outputDiv.innerHTML = `<div class=\"error\" style=\"color:red;\">${err}</div>`;\n",
       "      throw err;\n",
       "    }\n",
       "\n",
       "    function displayChart(vegaEmbed) {\n",
       "      vegaEmbed(outputDiv, spec, embedOpt)\n",
       "        .catch(err => showError(`Javascript Error: ${err.message}<br>This usually means there's a typo in your chart specification. See the javascript console for the full traceback.`));\n",
       "    }\n",
       "\n",
       "    if(typeof define === \"function\" && define.amd) {\n",
       "      requirejs.config({paths});\n",
       "      require([\"vega-embed\"], displayChart, err => showError(`Error loading script: ${err.message}`));\n",
       "    } else if (typeof vegaEmbed === \"function\") {\n",
       "      displayChart(vegaEmbed);\n",
       "    } else {\n",
       "      loadScript(\"vega\")\n",
       "        .then(() => loadScript(\"vega-lite\"))\n",
       "        .then(() => loadScript(\"vega-embed\"))\n",
       "        .catch(showError)\n",
       "        .then(() => displayChart(vegaEmbed));\n",
       "    }\n",
       "  })({\"config\": {\"view\": {\"continuousWidth\": 400, \"continuousHeight\": 300}}, \"data\": {\"name\": \"data-6a7e01989a97669cab6090719097e453\"}, \"mark\": {\"type\": \"circle\", \"size\": 60}, \"encoding\": {\"color\": {\"type\": \"nominal\", \"field\": \"Nutzung\", \"scale\": {\"scheme\": \"greens\"}}, \"tooltip\": [{\"type\": \"temporal\", \"field\": \"StichtagDatJahr\"}, {\"type\": \"nominal\", \"field\": \"QuarLang\"}, {\"type\": \"nominal\", \"field\": \"Nutzung\"}, {\"type\": \"quantitative\", \"field\": \"Leerflaeche\"}], \"x\": {\"type\": \"temporal\", \"field\": \"StichtagDatJahr\"}, \"y\": {\"type\": \"quantitative\", \"field\": \"Leerflaeche\"}}, \"selection\": {\"selector003\": {\"type\": \"interval\", \"bind\": \"scales\", \"encodings\": [\"x\", \"y\"]}}, \"$schema\": \"https://vega.github.io/schema/vega-lite/v4.8.1.json\", \"datasets\": {\"data-6a7e01989a97669cab6090719097e453\": [{\"StichtagDatJahr\": \"2010-01-01T00:00:00\", \"QuarSort\": 11, \"QuarLang\": \"Rathaus\", \"KreisSort\": 1, \"KreisLang\": \"Kreis 1\", \"Nutzung\": \"Lager\", \"Leerflaeche\": 48, \"BueroNettofl\": null, \"BueroLeerProz\": null}, {\"StichtagDatJahr\": \"2010-01-01T00:00:00\", \"QuarSort\": 12, \"QuarLang\": \"Hochschulen\", \"KreisSort\": 1, \"KreisLang\": \"Kreis 1\", \"Nutzung\": \"Lager\", \"Leerflaeche\": 150, \"BueroNettofl\": null, \"BueroLeerProz\": null}, {\"StichtagDatJahr\": \"2010-01-01T00:00:00\", \"QuarSort\": 12, \"QuarLang\": \"Hochschulen\", \"KreisSort\": 1, \"KreisLang\": \"Kreis 1\", \"Nutzung\": \"B\\u00fcro\", \"Leerflaeche\": 630, \"BueroNettofl\": 196387.0, \"BueroLeerProz\": 0.3}, {\"StichtagDatJahr\": \"2010-01-01T00:00:00\", \"QuarSort\": 13, \"QuarLang\": \"Lindenhof\", \"KreisSort\": 1, \"KreisLang\": \"Kreis 1\", \"Nutzung\": \"Andere\", \"Leerflaeche\": 854, \"BueroNettofl\": null, \"BueroLeerProz\": null}, {\"StichtagDatJahr\": \"2010-01-01T00:00:00\", \"QuarSort\": 13, \"QuarLang\": \"Lindenhof\", \"KreisSort\": 1, \"KreisLang\": \"Kreis 1\", \"Nutzung\": \"B\\u00fcro\", \"Leerflaeche\": 923, \"BueroNettofl\": 194404.0, \"BueroLeerProz\": 0.5}, {\"StichtagDatJahr\": \"2010-01-01T00:00:00\", \"QuarSort\": 14, \"QuarLang\": \"City\", \"KreisSort\": 1, \"KreisLang\": \"Kreis 1\", \"Nutzung\": \"Verkauf\", \"Leerflaeche\": 318, \"BueroNettofl\": null, \"BueroLeerProz\": null}, {\"StichtagDatJahr\": \"2010-01-01T00:00:00\", \"QuarSort\": 14, \"QuarLang\": \"City\", \"KreisSort\": 1, \"KreisLang\": \"Kreis 1\", \"Nutzung\": \"Lager\", \"Leerflaeche\": 2729, \"BueroNettofl\": null, \"BueroLeerProz\": null}, {\"StichtagDatJahr\": \"2010-01-01T00:00:00\", \"QuarSort\": 14, \"QuarLang\": \"City\", \"KreisSort\": 1, \"KreisLang\": \"Kreis 1\", \"Nutzung\": \"B\\u00fcro\", \"Leerflaeche\": 3823, \"BueroNettofl\": 403671.0, \"BueroLeerProz\": 0.9}, {\"StichtagDatJahr\": \"2010-01-01T00:00:00\", \"QuarSort\": 21, \"QuarLang\": \"Wollishofen\", \"KreisSort\": 2, \"KreisLang\": \"Kreis 2\", \"Nutzung\": \"Andere\", \"Leerflaeche\": 355, \"BueroNettofl\": null, \"BueroLeerProz\": null}, {\"StichtagDatJahr\": \"2010-01-01T00:00:00\", \"QuarSort\": 21, \"QuarLang\": \"Wollishofen\", \"KreisSort\": 2, \"KreisLang\": \"Kreis 2\", \"Nutzung\": \"Werkstatt\", \"Leerflaeche\": 248, \"BueroNettofl\": null, \"BueroLeerProz\": null}, {\"StichtagDatJahr\": \"2010-01-01T00:00:00\", \"QuarSort\": 21, \"QuarLang\": \"Wollishofen\", \"KreisSort\": 2, \"KreisLang\": \"Kreis 2\", \"Nutzung\": \"Lager\", \"Leerflaeche\": 256, \"BueroNettofl\": null, \"BueroLeerProz\": null}, {\"StichtagDatJahr\": \"2010-01-01T00:00:00\", \"QuarSort\": 21, \"QuarLang\": \"Wollishofen\", \"KreisSort\": 2, \"KreisLang\": \"Kreis 2\", \"Nutzung\": \"B\\u00fcro\", \"Leerflaeche\": 1021, \"BueroNettofl\": 83007.0, \"BueroLeerProz\": 1.2}, {\"StichtagDatJahr\": \"2010-01-01T00:00:00\", \"QuarSort\": 24, \"QuarLang\": \"Enge\", \"KreisSort\": 2, \"KreisLang\": \"Kreis 2\", \"Nutzung\": \"Lager\", \"Leerflaeche\": 2838, \"BueroNettofl\": null, \"BueroLeerProz\": null}, {\"StichtagDatJahr\": \"2010-01-01T00:00:00\", \"QuarSort\": 24, \"QuarLang\": \"Enge\", \"KreisSort\": 2, \"KreisLang\": \"Kreis 2\", \"Nutzung\": \"Andere\", \"Leerflaeche\": 1141, \"BueroNettofl\": null, \"BueroLeerProz\": null}, {\"StichtagDatJahr\": \"2010-01-01T00:00:00\", \"QuarSort\": 24, \"QuarLang\": \"Enge\", \"KreisSort\": 2, \"KreisLang\": \"Kreis 2\", \"Nutzung\": \"B\\u00fcro\", \"Leerflaeche\": 9613, \"BueroNettofl\": 528589.0, \"BueroLeerProz\": 1.8}, {\"StichtagDatJahr\": \"2010-01-01T00:00:00\", \"QuarSort\": 31, \"QuarLang\": \"Alt-Wiedikon\", \"KreisSort\": 3, \"KreisLang\": \"Kreis 3\", \"Nutzung\": \"Werkstatt\", \"Leerflaeche\": 401, \"BueroNettofl\": null, \"BueroLeerProz\": null}, {\"StichtagDatJahr\": \"2010-01-01T00:00:00\", \"QuarSort\": 31, \"QuarLang\": \"Alt-Wiedikon\", \"KreisSort\": 3, \"KreisLang\": \"Kreis 3\", \"Nutzung\": \"B\\u00fcro\", \"Leerflaeche\": 3976, \"BueroNettofl\": 372846.0, \"BueroLeerProz\": 1.1}, {\"StichtagDatJahr\": \"2010-01-01T00:00:00\", \"QuarSort\": 31, \"QuarLang\": \"Alt-Wiedikon\", \"KreisSort\": 3, \"KreisLang\": \"Kreis 3\", \"Nutzung\": \"Lager\", \"Leerflaeche\": 696, \"BueroNettofl\": null, \"BueroLeerProz\": null}, {\"StichtagDatJahr\": \"2010-01-01T00:00:00\", \"QuarSort\": 31, \"QuarLang\": \"Alt-Wiedikon\", \"KreisSort\": 3, \"KreisLang\": \"Kreis 3\", \"Nutzung\": \"Andere\", \"Leerflaeche\": 120, \"BueroNettofl\": null, \"BueroLeerProz\": null}, {\"StichtagDatJahr\": \"2010-01-01T00:00:00\", \"QuarSort\": 34, \"QuarLang\": \"Sihlfeld\", \"KreisSort\": 3, \"KreisLang\": \"Kreis 3\", \"Nutzung\": \"Andere\", \"Leerflaeche\": 192, \"BueroNettofl\": null, \"BueroLeerProz\": null}, {\"StichtagDatJahr\": \"2010-01-01T00:00:00\", \"QuarSort\": 34, \"QuarLang\": \"Sihlfeld\", \"KreisSort\": 3, \"KreisLang\": \"Kreis 3\", \"Nutzung\": \"B\\u00fcro\", \"Leerflaeche\": 4679, \"BueroNettofl\": 115154.0, \"BueroLeerProz\": 4.1}, {\"StichtagDatJahr\": \"2010-01-01T00:00:00\", \"QuarSort\": 34, \"QuarLang\": \"Sihlfeld\", \"KreisSort\": 3, \"KreisLang\": \"Kreis 3\", \"Nutzung\": \"Lager\", \"Leerflaeche\": 1896, \"BueroNettofl\": null, \"BueroLeerProz\": null}, {\"StichtagDatJahr\": \"2010-01-01T00:00:00\", \"QuarSort\": 34, \"QuarLang\": \"Sihlfeld\", \"KreisSort\": 3, \"KreisLang\": \"Kreis 3\", \"Nutzung\": \"Werkstatt\", \"Leerflaeche\": 60, \"BueroNettofl\": null, \"BueroLeerProz\": null}, {\"StichtagDatJahr\": \"2010-01-01T00:00:00\", \"QuarSort\": 34, \"QuarLang\": \"Sihlfeld\", \"KreisSort\": 3, \"KreisLang\": \"Kreis 3\", \"Nutzung\": \"Verkauf\", \"Leerflaeche\": 104, \"BueroNettofl\": null, \"BueroLeerProz\": null}, {\"StichtagDatJahr\": \"2010-01-01T00:00:00\", \"QuarSort\": 41, \"QuarLang\": \"Werd\", \"KreisSort\": 4, \"KreisLang\": \"Kreis 4\", \"Nutzung\": \"Verkauf\", \"Leerflaeche\": 31, \"BueroNettofl\": null, \"BueroLeerProz\": null}, {\"StichtagDatJahr\": \"2010-01-01T00:00:00\", \"QuarSort\": 41, \"QuarLang\": \"Werd\", \"KreisSort\": 4, \"KreisLang\": \"Kreis 4\", \"Nutzung\": \"B\\u00fcro\", \"Leerflaeche\": 2008, \"BueroNettofl\": 133569.0, \"BueroLeerProz\": 1.5}, {\"StichtagDatJahr\": \"2010-01-01T00:00:00\", \"QuarSort\": 41, \"QuarLang\": \"Werd\", \"KreisSort\": 4, \"KreisLang\": \"Kreis 4\", \"Nutzung\": \"Lager\", \"Leerflaeche\": 411, \"BueroNettofl\": null, \"BueroLeerProz\": null}, {\"StichtagDatJahr\": \"2010-01-01T00:00:00\", \"QuarSort\": 42, \"QuarLang\": \"Langstrasse\", \"KreisSort\": 4, \"KreisLang\": \"Kreis 4\", \"Nutzung\": \"Lager\", \"Leerflaeche\": 1058, \"BueroNettofl\": null, \"BueroLeerProz\": null}, {\"StichtagDatJahr\": \"2010-01-01T00:00:00\", \"QuarSort\": 42, \"QuarLang\": \"Langstrasse\", \"KreisSort\": 4, \"KreisLang\": \"Kreis 4\", \"Nutzung\": \"Verkauf\", \"Leerflaeche\": 676, \"BueroNettofl\": null, \"BueroLeerProz\": null}, {\"StichtagDatJahr\": \"2010-01-01T00:00:00\", \"QuarSort\": 42, \"QuarLang\": \"Langstrasse\", \"KreisSort\": 4, \"KreisLang\": \"Kreis 4\", \"Nutzung\": \"B\\u00fcro\", \"Leerflaeche\": 1355, \"BueroNettofl\": 264082.0, \"BueroLeerProz\": 0.5}, {\"StichtagDatJahr\": \"2010-01-01T00:00:00\", \"QuarSort\": 42, \"QuarLang\": \"Langstrasse\", \"KreisSort\": 4, \"KreisLang\": \"Kreis 4\", \"Nutzung\": \"Andere\", \"Leerflaeche\": 174, \"BueroNettofl\": null, \"BueroLeerProz\": null}, {\"StichtagDatJahr\": \"2010-01-01T00:00:00\", \"QuarSort\": 44, \"QuarLang\": \"Hard\", \"KreisSort\": 4, \"KreisLang\": \"Kreis 4\", \"Nutzung\": \"B\\u00fcro\", \"Leerflaeche\": 435, \"BueroNettofl\": 63029.0, \"BueroLeerProz\": 0.7}, {\"StichtagDatJahr\": \"2010-01-01T00:00:00\", \"QuarSort\": 51, \"QuarLang\": \"Gewerbeschule\", \"KreisSort\": 5, \"KreisLang\": \"Kreis 5\", \"Nutzung\": \"Lager\", \"Leerflaeche\": 158, \"BueroNettofl\": null, \"BueroLeerProz\": null}, {\"StichtagDatJahr\": \"2010-01-01T00:00:00\", \"QuarSort\": 52, \"QuarLang\": \"Escher Wyss\", \"KreisSort\": 5, \"KreisLang\": \"Kreis 5\", \"Nutzung\": \"Werkstatt\", \"Leerflaeche\": 1946, \"BueroNettofl\": null, \"BueroLeerProz\": null}, {\"StichtagDatJahr\": \"2010-01-01T00:00:00\", \"QuarSort\": 52, \"QuarLang\": \"Escher Wyss\", \"KreisSort\": 5, \"KreisLang\": \"Kreis 5\", \"Nutzung\": \"Andere\", \"Leerflaeche\": 267, \"BueroNettofl\": null, \"BueroLeerProz\": null}, {\"StichtagDatJahr\": \"2010-01-01T00:00:00\", \"QuarSort\": 52, \"QuarLang\": \"Escher Wyss\", \"KreisSort\": 5, \"KreisLang\": \"Kreis 5\", \"Nutzung\": \"Lager\", \"Leerflaeche\": 5242, \"BueroNettofl\": null, \"BueroLeerProz\": null}, {\"StichtagDatJahr\": \"2010-01-01T00:00:00\", \"QuarSort\": 52, \"QuarLang\": \"Escher Wyss\", \"KreisSort\": 5, \"KreisLang\": \"Kreis 5\", \"Nutzung\": \"Verkauf\", \"Leerflaeche\": 90, \"BueroNettofl\": null, \"BueroLeerProz\": null}, {\"StichtagDatJahr\": \"2010-01-01T00:00:00\", \"QuarSort\": 52, \"QuarLang\": \"Escher Wyss\", \"KreisSort\": 5, \"KreisLang\": \"Kreis 5\", \"Nutzung\": \"B\\u00fcro\", \"Leerflaeche\": 31102, \"BueroNettofl\": 425342.0, \"BueroLeerProz\": 7.3}, {\"StichtagDatJahr\": \"2010-01-01T00:00:00\", \"QuarSort\": 61, \"QuarLang\": \"Unterstrass\", \"KreisSort\": 6, \"KreisLang\": \"Kreis 6\", \"Nutzung\": \"Andere\", \"Leerflaeche\": 14, \"BueroNettofl\": null, \"BueroLeerProz\": null}, {\"StichtagDatJahr\": \"2010-01-01T00:00:00\", \"QuarSort\": 61, \"QuarLang\": \"Unterstrass\", \"KreisSort\": 6, \"KreisLang\": \"Kreis 6\", \"Nutzung\": \"Lager\", \"Leerflaeche\": 564, \"BueroNettofl\": null, \"BueroLeerProz\": null}, {\"StichtagDatJahr\": \"2010-01-01T00:00:00\", \"QuarSort\": 61, \"QuarLang\": \"Unterstrass\", \"KreisSort\": 6, \"KreisLang\": \"Kreis 6\", \"Nutzung\": \"Verkauf\", \"Leerflaeche\": 183, \"BueroNettofl\": null, \"BueroLeerProz\": null}, {\"StichtagDatJahr\": \"2010-01-01T00:00:00\", \"QuarSort\": 61, \"QuarLang\": \"Unterstrass\", \"KreisSort\": 6, \"KreisLang\": \"Kreis 6\", \"Nutzung\": \"B\\u00fcro\", \"Leerflaeche\": 2732, \"BueroNettofl\": 198343.0, \"BueroLeerProz\": 1.4}, {\"StichtagDatJahr\": \"2010-01-01T00:00:00\", \"QuarSort\": 71, \"QuarLang\": \"Fluntern\", \"KreisSort\": 7, \"KreisLang\": \"Kreis 7\", \"Nutzung\": \"Lager\", \"Leerflaeche\": 147, \"BueroNettofl\": null, \"BueroLeerProz\": null}, {\"StichtagDatJahr\": \"2010-01-01T00:00:00\", \"QuarSort\": 71, \"QuarLang\": \"Fluntern\", \"KreisSort\": 7, \"KreisLang\": \"Kreis 7\", \"Nutzung\": \"B\\u00fcro\", \"Leerflaeche\": 1046, \"BueroNettofl\": 126128.0, \"BueroLeerProz\": 0.8}, {\"StichtagDatJahr\": \"2010-01-01T00:00:00\", \"QuarSort\": 72, \"QuarLang\": \"Hottingen\", \"KreisSort\": 7, \"KreisLang\": \"Kreis 7\", \"Nutzung\": \"B\\u00fcro\", \"Leerflaeche\": 550, \"BueroNettofl\": 167433.0, \"BueroLeerProz\": 0.3}, {\"StichtagDatJahr\": \"2010-01-01T00:00:00\", \"QuarSort\": 73, \"QuarLang\": \"Hirslanden\", \"KreisSort\": 7, \"KreisLang\": \"Kreis 7\", \"Nutzung\": \"B\\u00fcro\", \"Leerflaeche\": 337, \"BueroNettofl\": 51787.0, \"BueroLeerProz\": 0.7}, {\"StichtagDatJahr\": \"2010-01-01T00:00:00\", \"QuarSort\": 73, \"QuarLang\": \"Hirslanden\", \"KreisSort\": 7, \"KreisLang\": \"Kreis 7\", \"Nutzung\": \"Lager\", \"Leerflaeche\": 175, \"BueroNettofl\": null, \"BueroLeerProz\": null}, {\"StichtagDatJahr\": \"2010-01-01T00:00:00\", \"QuarSort\": 74, \"QuarLang\": \"Witikon\", \"KreisSort\": 7, \"KreisLang\": \"Kreis 7\", \"Nutzung\": \"B\\u00fcro\", \"Leerflaeche\": 692, \"BueroNettofl\": 11552.0, \"BueroLeerProz\": 6.0}, {\"StichtagDatJahr\": \"2010-01-01T00:00:00\", \"QuarSort\": 74, \"QuarLang\": \"Witikon\", \"KreisSort\": 7, \"KreisLang\": \"Kreis 7\", \"Nutzung\": \"Lager\", \"Leerflaeche\": 10, \"BueroNettofl\": null, \"BueroLeerProz\": null}, {\"StichtagDatJahr\": \"2010-01-01T00:00:00\", \"QuarSort\": 81, \"QuarLang\": \"Seefeld\", \"KreisSort\": 8, \"KreisLang\": \"Kreis 8\", \"Nutzung\": \"B\\u00fcro\", \"Leerflaeche\": 1907, \"BueroNettofl\": 168040.0, \"BueroLeerProz\": 1.1}, {\"StichtagDatJahr\": \"2010-01-01T00:00:00\", \"QuarSort\": 81, \"QuarLang\": \"Seefeld\", \"KreisSort\": 8, \"KreisLang\": \"Kreis 8\", \"Nutzung\": \"Lager\", \"Leerflaeche\": 435, \"BueroNettofl\": null, \"BueroLeerProz\": null}, {\"StichtagDatJahr\": \"2010-01-01T00:00:00\", \"QuarSort\": 81, \"QuarLang\": \"Seefeld\", \"KreisSort\": 8, \"KreisLang\": \"Kreis 8\", \"Nutzung\": \"Andere\", \"Leerflaeche\": 15, \"BueroNettofl\": null, \"BueroLeerProz\": null}, {\"StichtagDatJahr\": \"2010-01-01T00:00:00\", \"QuarSort\": 82, \"QuarLang\": \"M\\u00fchlebach\", \"KreisSort\": 8, \"KreisLang\": \"Kreis 8\", \"Nutzung\": \"Lager\", \"Leerflaeche\": 405, \"BueroNettofl\": null, \"BueroLeerProz\": null}, {\"StichtagDatJahr\": \"2010-01-01T00:00:00\", \"QuarSort\": 82, \"QuarLang\": \"M\\u00fchlebach\", \"KreisSort\": 8, \"KreisLang\": \"Kreis 8\", \"Nutzung\": \"B\\u00fcro\", \"Leerflaeche\": 1086, \"BueroNettofl\": 168752.0, \"BueroLeerProz\": 0.6}, {\"StichtagDatJahr\": \"2010-01-01T00:00:00\", \"QuarSort\": 82, \"QuarLang\": \"M\\u00fchlebach\", \"KreisSort\": 8, \"KreisLang\": \"Kreis 8\", \"Nutzung\": \"Andere\", \"Leerflaeche\": 136, \"BueroNettofl\": null, \"BueroLeerProz\": null}, {\"StichtagDatJahr\": \"2010-01-01T00:00:00\", \"QuarSort\": 91, \"QuarLang\": \"Albisrieden\", \"KreisSort\": 9, \"KreisLang\": \"Kreis 9\", \"Nutzung\": \"Lager\", \"Leerflaeche\": 2483, \"BueroNettofl\": null, \"BueroLeerProz\": null}, {\"StichtagDatJahr\": \"2010-01-01T00:00:00\", \"QuarSort\": 91, \"QuarLang\": \"Albisrieden\", \"KreisSort\": 9, \"KreisLang\": \"Kreis 9\", \"Nutzung\": \"B\\u00fcro\", \"Leerflaeche\": 2657, \"BueroNettofl\": 108692.0, \"BueroLeerProz\": 2.4}, {\"StichtagDatJahr\": \"2010-01-01T00:00:00\", \"QuarSort\": 91, \"QuarLang\": \"Albisrieden\", \"KreisSort\": 9, \"KreisLang\": \"Kreis 9\", \"Nutzung\": \"Andere\", \"Leerflaeche\": 704, \"BueroNettofl\": null, \"BueroLeerProz\": null}, {\"StichtagDatJahr\": \"2010-01-01T00:00:00\", \"QuarSort\": 92, \"QuarLang\": \"Altstetten\", \"KreisSort\": 9, \"KreisLang\": \"Kreis 9\", \"Nutzung\": \"Andere\", \"Leerflaeche\": 1541, \"BueroNettofl\": null, \"BueroLeerProz\": null}, {\"StichtagDatJahr\": \"2010-01-01T00:00:00\", \"QuarSort\": 92, \"QuarLang\": \"Altstetten\", \"KreisSort\": 9, \"KreisLang\": \"Kreis 9\", \"Nutzung\": \"Werkstatt\", \"Leerflaeche\": 421, \"BueroNettofl\": null, \"BueroLeerProz\": null}, {\"StichtagDatJahr\": \"2010-01-01T00:00:00\", \"QuarSort\": 92, \"QuarLang\": \"Altstetten\", \"KreisSort\": 9, \"KreisLang\": \"Kreis 9\", \"Nutzung\": \"Lager\", \"Leerflaeche\": 6829, \"BueroNettofl\": null, \"BueroLeerProz\": null}, {\"StichtagDatJahr\": \"2010-01-01T00:00:00\", \"QuarSort\": 92, \"QuarLang\": \"Altstetten\", \"KreisSort\": 9, \"KreisLang\": \"Kreis 9\", \"Nutzung\": \"Verkauf\", \"Leerflaeche\": 107, \"BueroNettofl\": null, \"BueroLeerProz\": null}, {\"StichtagDatJahr\": \"2010-01-01T00:00:00\", \"QuarSort\": 92, \"QuarLang\": \"Altstetten\", \"KreisSort\": 9, \"KreisLang\": \"Kreis 9\", \"Nutzung\": \"B\\u00fcro\", \"Leerflaeche\": 29327, \"BueroNettofl\": 540448.0, \"BueroLeerProz\": 5.4}, {\"StichtagDatJahr\": \"2010-01-01T00:00:00\", \"QuarSort\": 101, \"QuarLang\": \"H\\u00f6ngg\", \"KreisSort\": 10, \"KreisLang\": \"Kreis 10\", \"Nutzung\": \"B\\u00fcro\", \"Leerflaeche\": 714, \"BueroNettofl\": 183558.0, \"BueroLeerProz\": 0.4}, {\"StichtagDatJahr\": \"2010-01-01T00:00:00\", \"QuarSort\": 101, \"QuarLang\": \"H\\u00f6ngg\", \"KreisSort\": 10, \"KreisLang\": \"Kreis 10\", \"Nutzung\": \"Andere\", \"Leerflaeche\": 681, \"BueroNettofl\": null, \"BueroLeerProz\": null}, {\"StichtagDatJahr\": \"2010-01-01T00:00:00\", \"QuarSort\": 101, \"QuarLang\": \"H\\u00f6ngg\", \"KreisSort\": 10, \"KreisLang\": \"Kreis 10\", \"Nutzung\": \"Lager\", \"Leerflaeche\": 118, \"BueroNettofl\": null, \"BueroLeerProz\": null}, {\"StichtagDatJahr\": \"2010-01-01T00:00:00\", \"QuarSort\": 101, \"QuarLang\": \"H\\u00f6ngg\", \"KreisSort\": 10, \"KreisLang\": \"Kreis 10\", \"Nutzung\": \"Verkauf\", \"Leerflaeche\": 305, \"BueroNettofl\": null, \"BueroLeerProz\": null}, {\"StichtagDatJahr\": \"2010-01-01T00:00:00\", \"QuarSort\": 102, \"QuarLang\": \"Wipkingen\", \"KreisSort\": 10, \"KreisLang\": \"Kreis 10\", \"Nutzung\": \"Andere\", \"Leerflaeche\": 101, \"BueroNettofl\": null, \"BueroLeerProz\": null}, {\"StichtagDatJahr\": \"2010-01-01T00:00:00\", \"QuarSort\": 102, \"QuarLang\": \"Wipkingen\", \"KreisSort\": 10, \"KreisLang\": \"Kreis 10\", \"Nutzung\": \"Lager\", \"Leerflaeche\": 30, \"BueroNettofl\": null, \"BueroLeerProz\": null}, {\"StichtagDatJahr\": \"2010-01-01T00:00:00\", \"QuarSort\": 102, \"QuarLang\": \"Wipkingen\", \"KreisSort\": 10, \"KreisLang\": \"Kreis 10\", \"Nutzung\": \"Werkstatt\", \"Leerflaeche\": 53, \"BueroNettofl\": null, \"BueroLeerProz\": null}, {\"StichtagDatJahr\": \"2010-01-01T00:00:00\", \"QuarSort\": 102, \"QuarLang\": \"Wipkingen\", \"KreisSort\": 10, \"KreisLang\": \"Kreis 10\", \"Nutzung\": \"B\\u00fcro\", \"Leerflaeche\": 1873, \"BueroNettofl\": 56358.0, \"BueroLeerProz\": 3.3}, {\"StichtagDatJahr\": \"2010-01-01T00:00:00\", \"QuarSort\": 102, \"QuarLang\": \"Wipkingen\", \"KreisSort\": 10, \"KreisLang\": \"Kreis 10\", \"Nutzung\": \"Verkauf\", \"Leerflaeche\": 90, \"BueroNettofl\": null, \"BueroLeerProz\": null}, {\"StichtagDatJahr\": \"2010-01-01T00:00:00\", \"QuarSort\": 111, \"QuarLang\": \"Affoltern\", \"KreisSort\": 11, \"KreisLang\": \"Kreis 11\", \"Nutzung\": \"B\\u00fcro\", \"Leerflaeche\": 141, \"BueroNettofl\": 21913.0, \"BueroLeerProz\": 0.6}, {\"StichtagDatJahr\": \"2010-01-01T00:00:00\", \"QuarSort\": 115, \"QuarLang\": \"Oerlikon\", \"KreisSort\": 11, \"KreisLang\": \"Kreis 11\", \"Nutzung\": \"Lager\", \"Leerflaeche\": 6422, \"BueroNettofl\": null, \"BueroLeerProz\": null}, {\"StichtagDatJahr\": \"2010-01-01T00:00:00\", \"QuarSort\": 115, \"QuarLang\": \"Oerlikon\", \"KreisSort\": 11, \"KreisLang\": \"Kreis 11\", \"Nutzung\": \"B\\u00fcro\", \"Leerflaeche\": 15662, \"BueroNettofl\": 308291.0, \"BueroLeerProz\": 5.1}, {\"StichtagDatJahr\": \"2010-01-01T00:00:00\", \"QuarSort\": 115, \"QuarLang\": \"Oerlikon\", \"KreisSort\": 11, \"KreisLang\": \"Kreis 11\", \"Nutzung\": \"Verkauf\", \"Leerflaeche\": 867, \"BueroNettofl\": null, \"BueroLeerProz\": null}, {\"StichtagDatJahr\": \"2010-01-01T00:00:00\", \"QuarSort\": 115, \"QuarLang\": \"Oerlikon\", \"KreisSort\": 11, \"KreisLang\": \"Kreis 11\", \"Nutzung\": \"Werkstatt\", \"Leerflaeche\": 10874, \"BueroNettofl\": null, \"BueroLeerProz\": null}, {\"StichtagDatJahr\": \"2010-01-01T00:00:00\", \"QuarSort\": 119, \"QuarLang\": \"Seebach\", \"KreisSort\": 11, \"KreisLang\": \"Kreis 11\", \"Nutzung\": \"Lager\", \"Leerflaeche\": 5549, \"BueroNettofl\": null, \"BueroLeerProz\": null}, {\"StichtagDatJahr\": \"2010-01-01T00:00:00\", \"QuarSort\": 119, \"QuarLang\": \"Seebach\", \"KreisSort\": 11, \"KreisLang\": \"Kreis 11\", \"Nutzung\": \"Werkstatt\", \"Leerflaeche\": 1547, \"BueroNettofl\": null, \"BueroLeerProz\": null}, {\"StichtagDatJahr\": \"2010-01-01T00:00:00\", \"QuarSort\": 119, \"QuarLang\": \"Seebach\", \"KreisSort\": 11, \"KreisLang\": \"Kreis 11\", \"Nutzung\": \"Verkauf\", \"Leerflaeche\": 303, \"BueroNettofl\": null, \"BueroLeerProz\": null}, {\"StichtagDatJahr\": \"2010-01-01T00:00:00\", \"QuarSort\": 119, \"QuarLang\": \"Seebach\", \"KreisSort\": 11, \"KreisLang\": \"Kreis 11\", \"Nutzung\": \"B\\u00fcro\", \"Leerflaeche\": 13293, \"BueroNettofl\": 460340.0, \"BueroLeerProz\": 2.9}, {\"StichtagDatJahr\": \"2010-01-01T00:00:00\", \"QuarSort\": 121, \"QuarLang\": \"Saatlen\", \"KreisSort\": 12, \"KreisLang\": \"Kreis 12\", \"Nutzung\": \"Lager\", \"Leerflaeche\": 163, \"BueroNettofl\": null, \"BueroLeerProz\": null}, {\"StichtagDatJahr\": \"2010-01-01T00:00:00\", \"QuarSort\": 121, \"QuarLang\": \"Saatlen\", \"KreisSort\": 12, \"KreisLang\": \"Kreis 12\", \"Nutzung\": \"B\\u00fcro\", \"Leerflaeche\": 488, \"BueroNettofl\": 14619.0, \"BueroLeerProz\": 3.3}, {\"StichtagDatJahr\": \"2010-01-01T00:00:00\", \"QuarSort\": 122, \"QuarLang\": \"Schwamendingen-Mitte\", \"KreisSort\": 12, \"KreisLang\": \"Kreis 12\", \"Nutzung\": \"B\\u00fcro\", \"Leerflaeche\": 358, \"BueroNettofl\": 17369.0, \"BueroLeerProz\": 2.1}, {\"StichtagDatJahr\": \"2010-01-01T00:00:00\", \"QuarSort\": 122, \"QuarLang\": \"Schwamendingen-Mitte\", \"KreisSort\": 12, \"KreisLang\": \"Kreis 12\", \"Nutzung\": \"Werkstatt\", \"Leerflaeche\": 1410, \"BueroNettofl\": null, \"BueroLeerProz\": null}, {\"StichtagDatJahr\": \"2010-01-01T00:00:00\", \"QuarSort\": 122, \"QuarLang\": \"Schwamendingen-Mitte\", \"KreisSort\": 12, \"KreisLang\": \"Kreis 12\", \"Nutzung\": \"Andere\", \"Leerflaeche\": 1624, \"BueroNettofl\": null, \"BueroLeerProz\": null}, {\"StichtagDatJahr\": \"2010-01-01T00:00:00\", \"QuarSort\": 122, \"QuarLang\": \"Schwamendingen-Mitte\", \"KreisSort\": 12, \"KreisLang\": \"Kreis 12\", \"Nutzung\": \"Lager\", \"Leerflaeche\": 78, \"BueroNettofl\": null, \"BueroLeerProz\": null}, {\"StichtagDatJahr\": \"2010-01-01T00:00:00\", \"QuarSort\": 999, \"QuarLang\": \"Unbekannt\", \"KreisSort\": 99, \"KreisLang\": \"Kreis 99\", \"Nutzung\": \"B\\u00fcro\", \"Leerflaeche\": 350, \"BueroNettofl\": null, \"BueroLeerProz\": null}, {\"StichtagDatJahr\": \"2011-01-01T00:00:00\", \"QuarSort\": 11, \"QuarLang\": \"Rathaus\", \"KreisSort\": 1, \"KreisLang\": \"Kreis 1\", \"Nutzung\": \"B\\u00fcro\", \"Leerflaeche\": 459, \"BueroNettofl\": 102061.0, \"BueroLeerProz\": 0.4}, {\"StichtagDatJahr\": \"2011-01-01T00:00:00\", \"QuarSort\": 11, \"QuarLang\": \"Rathaus\", \"KreisSort\": 1, \"KreisLang\": \"Kreis 1\", \"Nutzung\": \"Andere\", \"Leerflaeche\": 80, \"BueroNettofl\": null, \"BueroLeerProz\": null}, {\"StichtagDatJahr\": \"2011-01-01T00:00:00\", \"QuarSort\": 12, \"QuarLang\": \"Hochschulen\", \"KreisSort\": 1, \"KreisLang\": \"Kreis 1\", \"Nutzung\": \"Lager\", \"Leerflaeche\": 49, \"BueroNettofl\": null, \"BueroLeerProz\": null}, {\"StichtagDatJahr\": \"2011-01-01T00:00:00\", \"QuarSort\": 12, \"QuarLang\": \"Hochschulen\", \"KreisSort\": 1, \"KreisLang\": \"Kreis 1\", \"Nutzung\": \"B\\u00fcro\", \"Leerflaeche\": 451, \"BueroNettofl\": 196387.0, \"BueroLeerProz\": 0.2}, {\"StichtagDatJahr\": \"2011-01-01T00:00:00\", \"QuarSort\": 13, \"QuarLang\": \"Lindenhof\", \"KreisSort\": 1, \"KreisLang\": \"Kreis 1\", \"Nutzung\": \"B\\u00fcro\", \"Leerflaeche\": 2466, \"BueroNettofl\": 194101.0, \"BueroLeerProz\": 1.3}, {\"StichtagDatJahr\": \"2011-01-01T00:00:00\", \"QuarSort\": 13, \"QuarLang\": \"Lindenhof\", \"KreisSort\": 1, \"KreisLang\": \"Kreis 1\", \"Nutzung\": \"Lager\", \"Leerflaeche\": 120, \"BueroNettofl\": null, \"BueroLeerProz\": null}, {\"StichtagDatJahr\": \"2011-01-01T00:00:00\", \"QuarSort\": 14, \"QuarLang\": \"City\", \"KreisSort\": 1, \"KreisLang\": \"Kreis 1\", \"Nutzung\": \"B\\u00fcro\", \"Leerflaeche\": 6676, \"BueroNettofl\": 406136.0, \"BueroLeerProz\": 1.6}, {\"StichtagDatJahr\": \"2011-01-01T00:00:00\", \"QuarSort\": 14, \"QuarLang\": \"City\", \"KreisSort\": 1, \"KreisLang\": \"Kreis 1\", \"Nutzung\": \"Verkauf\", \"Leerflaeche\": 516, \"BueroNettofl\": null, \"BueroLeerProz\": null}, {\"StichtagDatJahr\": \"2011-01-01T00:00:00\", \"QuarSort\": 14, \"QuarLang\": \"City\", \"KreisSort\": 1, \"KreisLang\": \"Kreis 1\", \"Nutzung\": \"Lager\", \"Leerflaeche\": 1646, \"BueroNettofl\": null, \"BueroLeerProz\": null}, {\"StichtagDatJahr\": \"2011-01-01T00:00:00\", \"QuarSort\": 14, \"QuarLang\": \"City\", \"KreisSort\": 1, \"KreisLang\": \"Kreis 1\", \"Nutzung\": \"Andere\", \"Leerflaeche\": 140, \"BueroNettofl\": null, \"BueroLeerProz\": null}, {\"StichtagDatJahr\": \"2011-01-01T00:00:00\", \"QuarSort\": 21, \"QuarLang\": \"Wollishofen\", \"KreisSort\": 2, \"KreisLang\": \"Kreis 2\", \"Nutzung\": \"B\\u00fcro\", \"Leerflaeche\": 3000, \"BueroNettofl\": 82922.0, \"BueroLeerProz\": 3.6}, {\"StichtagDatJahr\": \"2011-01-01T00:00:00\", \"QuarSort\": 21, \"QuarLang\": \"Wollishofen\", \"KreisSort\": 2, \"KreisLang\": \"Kreis 2\", \"Nutzung\": \"Andere\", \"Leerflaeche\": 416, \"BueroNettofl\": null, \"BueroLeerProz\": null}, {\"StichtagDatJahr\": \"2011-01-01T00:00:00\", \"QuarSort\": 21, \"QuarLang\": \"Wollishofen\", \"KreisSort\": 2, \"KreisLang\": \"Kreis 2\", \"Nutzung\": \"Lager\", \"Leerflaeche\": 323, \"BueroNettofl\": null, \"BueroLeerProz\": null}, {\"StichtagDatJahr\": \"2011-01-01T00:00:00\", \"QuarSort\": 24, \"QuarLang\": \"Enge\", \"KreisSort\": 2, \"KreisLang\": \"Kreis 2\", \"Nutzung\": \"B\\u00fcro\", \"Leerflaeche\": 5797, \"BueroNettofl\": 529439.0, \"BueroLeerProz\": 1.1}, {\"StichtagDatJahr\": \"2011-01-01T00:00:00\", \"QuarSort\": 24, \"QuarLang\": \"Enge\", \"KreisSort\": 2, \"KreisLang\": \"Kreis 2\", \"Nutzung\": \"Lager\", \"Leerflaeche\": 1118, \"BueroNettofl\": null, \"BueroLeerProz\": null}, {\"StichtagDatJahr\": \"2011-01-01T00:00:00\", \"QuarSort\": 24, \"QuarLang\": \"Enge\", \"KreisSort\": 2, \"KreisLang\": \"Kreis 2\", \"Nutzung\": \"Andere\", \"Leerflaeche\": 400, \"BueroNettofl\": null, \"BueroLeerProz\": null}, {\"StichtagDatJahr\": \"2011-01-01T00:00:00\", \"QuarSort\": 24, \"QuarLang\": \"Enge\", \"KreisSort\": 2, \"KreisLang\": \"Kreis 2\", \"Nutzung\": \"Verkauf\", \"Leerflaeche\": 354, \"BueroNettofl\": null, \"BueroLeerProz\": null}, {\"StichtagDatJahr\": \"2011-01-01T00:00:00\", \"QuarSort\": 31, \"QuarLang\": \"Alt-Wiedikon\", \"KreisSort\": 3, \"KreisLang\": \"Kreis 3\", \"Nutzung\": \"Lager\", \"Leerflaeche\": 868, \"BueroNettofl\": null, \"BueroLeerProz\": null}, {\"StichtagDatJahr\": \"2011-01-01T00:00:00\", \"QuarSort\": 31, \"QuarLang\": \"Alt-Wiedikon\", \"KreisSort\": 3, \"KreisLang\": \"Kreis 3\", \"Nutzung\": \"B\\u00fcro\", \"Leerflaeche\": 8924, \"BueroNettofl\": 368371.0, \"BueroLeerProz\": 2.4}, {\"StichtagDatJahr\": \"2011-01-01T00:00:00\", \"QuarSort\": 34, \"QuarLang\": \"Sihlfeld\", \"KreisSort\": 3, \"KreisLang\": \"Kreis 3\", \"Nutzung\": \"Andere\", \"Leerflaeche\": 109, \"BueroNettofl\": null, \"BueroLeerProz\": null}, {\"StichtagDatJahr\": \"2011-01-01T00:00:00\", \"QuarSort\": 34, \"QuarLang\": \"Sihlfeld\", \"KreisSort\": 3, \"KreisLang\": \"Kreis 3\", \"Nutzung\": \"Verkauf\", \"Leerflaeche\": 255, \"BueroNettofl\": null, \"BueroLeerProz\": null}, {\"StichtagDatJahr\": \"2011-01-01T00:00:00\", \"QuarSort\": 34, \"QuarLang\": \"Sihlfeld\", \"KreisSort\": 3, \"KreisLang\": \"Kreis 3\", \"Nutzung\": \"B\\u00fcro\", \"Leerflaeche\": 4389, \"BueroNettofl\": 114942.0, \"BueroLeerProz\": 3.8}, {\"StichtagDatJahr\": \"2011-01-01T00:00:00\", \"QuarSort\": 34, \"QuarLang\": \"Sihlfeld\", \"KreisSort\": 3, \"KreisLang\": \"Kreis 3\", \"Nutzung\": \"Lager\", \"Leerflaeche\": 1709, \"BueroNettofl\": null, \"BueroLeerProz\": null}, {\"StichtagDatJahr\": \"2011-01-01T00:00:00\", \"QuarSort\": 41, \"QuarLang\": \"Werd\", \"KreisSort\": 4, \"KreisLang\": \"Kreis 4\", \"Nutzung\": \"B\\u00fcro\", \"Leerflaeche\": 2388, \"BueroNettofl\": 137350.0, \"BueroLeerProz\": 1.7}, {\"StichtagDatJahr\": \"2011-01-01T00:00:00\", \"QuarSort\": 41, \"QuarLang\": \"Werd\", \"KreisSort\": 4, \"KreisLang\": \"Kreis 4\", \"Nutzung\": \"Verkauf\", \"Leerflaeche\": 31, \"BueroNettofl\": null, \"BueroLeerProz\": null}, {\"StichtagDatJahr\": \"2011-01-01T00:00:00\", \"QuarSort\": 41, \"QuarLang\": \"Werd\", \"KreisSort\": 4, \"KreisLang\": \"Kreis 4\", \"Nutzung\": \"Lager\", \"Leerflaeche\": 501, \"BueroNettofl\": null, \"BueroLeerProz\": null}, {\"StichtagDatJahr\": \"2011-01-01T00:00:00\", \"QuarSort\": 42, \"QuarLang\": \"Langstrasse\", \"KreisSort\": 4, \"KreisLang\": \"Kreis 4\", \"Nutzung\": \"Andere\", \"Leerflaeche\": 210, \"BueroNettofl\": null, \"BueroLeerProz\": null}, {\"StichtagDatJahr\": \"2011-01-01T00:00:00\", \"QuarSort\": 42, \"QuarLang\": \"Langstrasse\", \"KreisSort\": 4, \"KreisLang\": \"Kreis 4\", \"Nutzung\": \"B\\u00fcro\", \"Leerflaeche\": 788, \"BueroNettofl\": 252446.0, \"BueroLeerProz\": 0.3}, {\"StichtagDatJahr\": \"2011-01-01T00:00:00\", \"QuarSort\": 42, \"QuarLang\": \"Langstrasse\", \"KreisSort\": 4, \"KreisLang\": \"Kreis 4\", \"Nutzung\": \"Lager\", \"Leerflaeche\": 555, \"BueroNettofl\": null, \"BueroLeerProz\": null}, {\"StichtagDatJahr\": \"2011-01-01T00:00:00\", \"QuarSort\": 42, \"QuarLang\": \"Langstrasse\", \"KreisSort\": 4, \"KreisLang\": \"Kreis 4\", \"Nutzung\": \"Verkauf\", \"Leerflaeche\": 67, \"BueroNettofl\": null, \"BueroLeerProz\": null}, {\"StichtagDatJahr\": \"2011-01-01T00:00:00\", \"QuarSort\": 44, \"QuarLang\": \"Hard\", \"KreisSort\": 4, \"KreisLang\": \"Kreis 4\", \"Nutzung\": \"Lager\", \"Leerflaeche\": 539, \"BueroNettofl\": null, \"BueroLeerProz\": null}, {\"StichtagDatJahr\": \"2011-01-01T00:00:00\", \"QuarSort\": 44, \"QuarLang\": \"Hard\", \"KreisSort\": 4, \"KreisLang\": \"Kreis 4\", \"Nutzung\": \"Andere\", \"Leerflaeche\": 216, \"BueroNettofl\": null, \"BueroLeerProz\": null}, {\"StichtagDatJahr\": \"2011-01-01T00:00:00\", \"QuarSort\": 44, \"QuarLang\": \"Hard\", \"KreisSort\": 4, \"KreisLang\": \"Kreis 4\", \"Nutzung\": \"B\\u00fcro\", \"Leerflaeche\": 118, \"BueroNettofl\": 61763.0, \"BueroLeerProz\": 0.2}, {\"StichtagDatJahr\": \"2011-01-01T00:00:00\", \"QuarSort\": 51, \"QuarLang\": \"Gewerbeschule\", \"KreisSort\": 5, \"KreisLang\": \"Kreis 5\", \"Nutzung\": \"B\\u00fcro\", \"Leerflaeche\": 1162, \"BueroNettofl\": 248027.0, \"BueroLeerProz\": 0.5}, {\"StichtagDatJahr\": \"2011-01-01T00:00:00\", \"QuarSort\": 51, \"QuarLang\": \"Gewerbeschule\", \"KreisSort\": 5, \"KreisLang\": \"Kreis 5\", \"Nutzung\": \"Andere\", \"Leerflaeche\": 148, \"BueroNettofl\": null, \"BueroLeerProz\": null}, {\"StichtagDatJahr\": \"2011-01-01T00:00:00\", \"QuarSort\": 51, \"QuarLang\": \"Gewerbeschule\", \"KreisSort\": 5, \"KreisLang\": \"Kreis 5\", \"Nutzung\": \"Lager\", \"Leerflaeche\": 1171, \"BueroNettofl\": null, \"BueroLeerProz\": null}, {\"StichtagDatJahr\": \"2011-01-01T00:00:00\", \"QuarSort\": 52, \"QuarLang\": \"Escher Wyss\", \"KreisSort\": 5, \"KreisLang\": \"Kreis 5\", \"Nutzung\": \"Lager\", \"Leerflaeche\": 7498, \"BueroNettofl\": null, \"BueroLeerProz\": null}, {\"StichtagDatJahr\": \"2011-01-01T00:00:00\", \"QuarSort\": 52, \"QuarLang\": \"Escher Wyss\", \"KreisSort\": 5, \"KreisLang\": \"Kreis 5\", \"Nutzung\": \"Werkstatt\", \"Leerflaeche\": 1261, \"BueroNettofl\": null, \"BueroLeerProz\": null}, {\"StichtagDatJahr\": \"2011-01-01T00:00:00\", \"QuarSort\": 52, \"QuarLang\": \"Escher Wyss\", \"KreisSort\": 5, \"KreisLang\": \"Kreis 5\", \"Nutzung\": \"B\\u00fcro\", \"Leerflaeche\": 27927, \"BueroNettofl\": 425257.0, \"BueroLeerProz\": 6.6}, {\"StichtagDatJahr\": \"2011-01-01T00:00:00\", \"QuarSort\": 52, \"QuarLang\": \"Escher Wyss\", \"KreisSort\": 5, \"KreisLang\": \"Kreis 5\", \"Nutzung\": \"Verkauf\", \"Leerflaeche\": 319, \"BueroNettofl\": null, \"BueroLeerProz\": null}, {\"StichtagDatJahr\": \"2011-01-01T00:00:00\", \"QuarSort\": 52, \"QuarLang\": \"Escher Wyss\", \"KreisSort\": 5, \"KreisLang\": \"Kreis 5\", \"Nutzung\": \"Andere\", \"Leerflaeche\": 1266, \"BueroNettofl\": null, \"BueroLeerProz\": null}, {\"StichtagDatJahr\": \"2011-01-01T00:00:00\", \"QuarSort\": 61, \"QuarLang\": \"Unterstrass\", \"KreisSort\": 6, \"KreisLang\": \"Kreis 6\", \"Nutzung\": \"B\\u00fcro\", \"Leerflaeche\": 1571, \"BueroNettofl\": 198359.0, \"BueroLeerProz\": 0.8}, {\"StichtagDatJahr\": \"2011-01-01T00:00:00\", \"QuarSort\": 61, \"QuarLang\": \"Unterstrass\", \"KreisSort\": 6, \"KreisLang\": \"Kreis 6\", \"Nutzung\": \"Lager\", \"Leerflaeche\": 846, \"BueroNettofl\": null, \"BueroLeerProz\": null}, {\"StichtagDatJahr\": \"2011-01-01T00:00:00\", \"QuarSort\": 61, \"QuarLang\": \"Unterstrass\", \"KreisSort\": 6, \"KreisLang\": \"Kreis 6\", \"Nutzung\": \"Verkauf\", \"Leerflaeche\": 217, \"BueroNettofl\": null, \"BueroLeerProz\": null}, {\"StichtagDatJahr\": \"2011-01-01T00:00:00\", \"QuarSort\": 63, \"QuarLang\": \"Oberstrass\", \"KreisSort\": 6, \"KreisLang\": \"Kreis 6\", \"Nutzung\": \"Andere\", \"Leerflaeche\": 82, \"BueroNettofl\": null, \"BueroLeerProz\": null}, {\"StichtagDatJahr\": \"2011-01-01T00:00:00\", \"QuarSort\": 63, \"QuarLang\": \"Oberstrass\", \"KreisSort\": 6, \"KreisLang\": \"Kreis 6\", \"Nutzung\": \"B\\u00fcro\", \"Leerflaeche\": 31, \"BueroNettofl\": 297963.0, \"BueroLeerProz\": 0.0}, {\"StichtagDatJahr\": \"2011-01-01T00:00:00\", \"QuarSort\": 71, \"QuarLang\": \"Fluntern\", \"KreisSort\": 7, \"KreisLang\": \"Kreis 7\", \"Nutzung\": \"Verkauf\", \"Leerflaeche\": 67, \"BueroNettofl\": null, \"BueroLeerProz\": null}, {\"StichtagDatJahr\": \"2011-01-01T00:00:00\", \"QuarSort\": 71, \"QuarLang\": \"Fluntern\", \"KreisSort\": 7, \"KreisLang\": \"Kreis 7\", \"Nutzung\": \"Lager\", \"Leerflaeche\": 66, \"BueroNettofl\": null, \"BueroLeerProz\": null}, {\"StichtagDatJahr\": \"2011-01-01T00:00:00\", \"QuarSort\": 71, \"QuarLang\": \"Fluntern\", \"KreisSort\": 7, \"KreisLang\": \"Kreis 7\", \"Nutzung\": \"B\\u00fcro\", \"Leerflaeche\": 1063, \"BueroNettofl\": 125878.0, \"BueroLeerProz\": 0.8}, {\"StichtagDatJahr\": \"2011-01-01T00:00:00\", \"QuarSort\": 72, \"QuarLang\": \"Hottingen\", \"KreisSort\": 7, \"KreisLang\": \"Kreis 7\", \"Nutzung\": \"Lager\", \"Leerflaeche\": 215, \"BueroNettofl\": null, \"BueroLeerProz\": null}, {\"StichtagDatJahr\": \"2011-01-01T00:00:00\", \"QuarSort\": 72, \"QuarLang\": \"Hottingen\", \"KreisSort\": 7, \"KreisLang\": \"Kreis 7\", \"Nutzung\": \"B\\u00fcro\", \"Leerflaeche\": 138, \"BueroNettofl\": 167727.0, \"BueroLeerProz\": 0.1}, {\"StichtagDatJahr\": \"2011-01-01T00:00:00\", \"QuarSort\": 73, \"QuarLang\": \"Hirslanden\", \"KreisSort\": 7, \"KreisLang\": \"Kreis 7\", \"Nutzung\": \"Lager\", \"Leerflaeche\": 222, \"BueroNettofl\": null, \"BueroLeerProz\": null}, {\"StichtagDatJahr\": \"2011-01-01T00:00:00\", \"QuarSort\": 73, \"QuarLang\": \"Hirslanden\", \"KreisSort\": 7, \"KreisLang\": \"Kreis 7\", \"Nutzung\": \"B\\u00fcro\", \"Leerflaeche\": 198, \"BueroNettofl\": 51787.0, \"BueroLeerProz\": 0.4}, {\"StichtagDatJahr\": \"2011-01-01T00:00:00\", \"QuarSort\": 81, \"QuarLang\": \"Seefeld\", \"KreisSort\": 8, \"KreisLang\": \"Kreis 8\", \"Nutzung\": \"Andere\", \"Leerflaeche\": 214, \"BueroNettofl\": null, \"BueroLeerProz\": null}, {\"StichtagDatJahr\": \"2011-01-01T00:00:00\", \"QuarSort\": 81, \"QuarLang\": \"Seefeld\", \"KreisSort\": 8, \"KreisLang\": \"Kreis 8\", \"Nutzung\": \"Lager\", \"Leerflaeche\": 528, \"BueroNettofl\": null, \"BueroLeerProz\": null}, {\"StichtagDatJahr\": \"2011-01-01T00:00:00\", \"QuarSort\": 81, \"QuarLang\": \"Seefeld\", \"KreisSort\": 8, \"KreisLang\": \"Kreis 8\", \"Nutzung\": \"B\\u00fcro\", \"Leerflaeche\": 1731, \"BueroNettofl\": 168160.0, \"BueroLeerProz\": 1.0}, {\"StichtagDatJahr\": \"2011-01-01T00:00:00\", \"QuarSort\": 82, \"QuarLang\": \"M\\u00fchlebach\", \"KreisSort\": 8, \"KreisLang\": \"Kreis 8\", \"Nutzung\": \"Lager\", \"Leerflaeche\": 907, \"BueroNettofl\": null, \"BueroLeerProz\": null}, {\"StichtagDatJahr\": \"2011-01-01T00:00:00\", \"QuarSort\": 82, \"QuarLang\": \"M\\u00fchlebach\", \"KreisSort\": 8, \"KreisLang\": \"Kreis 8\", \"Nutzung\": \"B\\u00fcro\", \"Leerflaeche\": 922, \"BueroNettofl\": 167391.0, \"BueroLeerProz\": 0.6}, {\"StichtagDatJahr\": \"2011-01-01T00:00:00\", \"QuarSort\": 83, \"QuarLang\": \"Weinegg\", \"KreisSort\": 8, \"KreisLang\": \"Kreis 8\", \"Nutzung\": \"Lager\", \"Leerflaeche\": 50, \"BueroNettofl\": null, \"BueroLeerProz\": null}, {\"StichtagDatJahr\": \"2011-01-01T00:00:00\", \"QuarSort\": 83, \"QuarLang\": \"Weinegg\", \"KreisSort\": 8, \"KreisLang\": \"Kreis 8\", \"Nutzung\": \"B\\u00fcro\", \"Leerflaeche\": 2440, \"BueroNettofl\": 60106.0, \"BueroLeerProz\": 4.1}, {\"StichtagDatJahr\": \"2011-01-01T00:00:00\", \"QuarSort\": 91, \"QuarLang\": \"Albisrieden\", \"KreisSort\": 9, \"KreisLang\": \"Kreis 9\", \"Nutzung\": \"Werkstatt\", \"Leerflaeche\": 2544, \"BueroNettofl\": null, \"BueroLeerProz\": null}, {\"StichtagDatJahr\": \"2011-01-01T00:00:00\", \"QuarSort\": 91, \"QuarLang\": \"Albisrieden\", \"KreisSort\": 9, \"KreisLang\": \"Kreis 9\", \"Nutzung\": \"B\\u00fcro\", \"Leerflaeche\": 4595, \"BueroNettofl\": 108554.0, \"BueroLeerProz\": 4.2}, {\"StichtagDatJahr\": \"2011-01-01T00:00:00\", \"QuarSort\": 91, \"QuarLang\": \"Albisrieden\", \"KreisSort\": 9, \"KreisLang\": \"Kreis 9\", \"Nutzung\": \"Andere\", \"Leerflaeche\": 201, \"BueroNettofl\": null, \"BueroLeerProz\": null}, {\"StichtagDatJahr\": \"2011-01-01T00:00:00\", \"QuarSort\": 91, \"QuarLang\": \"Albisrieden\", \"KreisSort\": 9, \"KreisLang\": \"Kreis 9\", \"Nutzung\": \"Lager\", \"Leerflaeche\": 2868, \"BueroNettofl\": null, \"BueroLeerProz\": null}, {\"StichtagDatJahr\": \"2011-01-01T00:00:00\", \"QuarSort\": 92, \"QuarLang\": \"Altstetten\", \"KreisSort\": 9, \"KreisLang\": \"Kreis 9\", \"Nutzung\": \"B\\u00fcro\", \"Leerflaeche\": 30835, \"BueroNettofl\": 543043.0, \"BueroLeerProz\": 5.7}, {\"StichtagDatJahr\": \"2011-01-01T00:00:00\", \"QuarSort\": 92, \"QuarLang\": \"Altstetten\", \"KreisSort\": 9, \"KreisLang\": \"Kreis 9\", \"Nutzung\": \"Verkauf\", \"Leerflaeche\": 318, \"BueroNettofl\": null, \"BueroLeerProz\": null}, {\"StichtagDatJahr\": \"2011-01-01T00:00:00\", \"QuarSort\": 92, \"QuarLang\": \"Altstetten\", \"KreisSort\": 9, \"KreisLang\": \"Kreis 9\", \"Nutzung\": \"Andere\", \"Leerflaeche\": 641, \"BueroNettofl\": null, \"BueroLeerProz\": null}, {\"StichtagDatJahr\": \"2011-01-01T00:00:00\", \"QuarSort\": 92, \"QuarLang\": \"Altstetten\", \"KreisSort\": 9, \"KreisLang\": \"Kreis 9\", \"Nutzung\": \"Werkstatt\", \"Leerflaeche\": 2282, \"BueroNettofl\": null, \"BueroLeerProz\": null}, {\"StichtagDatJahr\": \"2011-01-01T00:00:00\", \"QuarSort\": 92, \"QuarLang\": \"Altstetten\", \"KreisSort\": 9, \"KreisLang\": \"Kreis 9\", \"Nutzung\": \"Lager\", \"Leerflaeche\": 9046, \"BueroNettofl\": null, \"BueroLeerProz\": null}, {\"StichtagDatJahr\": \"2011-01-01T00:00:00\", \"QuarSort\": 102, \"QuarLang\": \"Wipkingen\", \"KreisSort\": 10, \"KreisLang\": \"Kreis 10\", \"Nutzung\": \"Verkauf\", \"Leerflaeche\": 145, \"BueroNettofl\": null, \"BueroLeerProz\": null}, {\"StichtagDatJahr\": \"2011-01-01T00:00:00\", \"QuarSort\": 102, \"QuarLang\": \"Wipkingen\", \"KreisSort\": 10, \"KreisLang\": \"Kreis 10\", \"Nutzung\": \"B\\u00fcro\", \"Leerflaeche\": 2169, \"BueroNettofl\": 56420.0, \"BueroLeerProz\": 3.8}, {\"StichtagDatJahr\": \"2011-01-01T00:00:00\", \"QuarSort\": 102, \"QuarLang\": \"Wipkingen\", \"KreisSort\": 10, \"KreisLang\": \"Kreis 10\", \"Nutzung\": \"Lager\", \"Leerflaeche\": 63, \"BueroNettofl\": null, \"BueroLeerProz\": null}, {\"StichtagDatJahr\": \"2011-01-01T00:00:00\", \"QuarSort\": 111, \"QuarLang\": \"Affoltern\", \"KreisSort\": 11, \"KreisLang\": \"Kreis 11\", \"Nutzung\": \"Lager\", \"Leerflaeche\": 156, \"BueroNettofl\": null, \"BueroLeerProz\": null}, {\"StichtagDatJahr\": \"2011-01-01T00:00:00\", \"QuarSort\": 111, \"QuarLang\": \"Affoltern\", \"KreisSort\": 11, \"KreisLang\": \"Kreis 11\", \"Nutzung\": \"B\\u00fcro\", \"Leerflaeche\": 69, \"BueroNettofl\": 21473.0, \"BueroLeerProz\": 0.3}, {\"StichtagDatJahr\": \"2011-01-01T00:00:00\", \"QuarSort\": 115, \"QuarLang\": \"Oerlikon\", \"KreisSort\": 11, \"KreisLang\": \"Kreis 11\", \"Nutzung\": \"Werkstatt\", \"Leerflaeche\": 5224, \"BueroNettofl\": null, \"BueroLeerProz\": null}, {\"StichtagDatJahr\": \"2011-01-01T00:00:00\", \"QuarSort\": 115, \"QuarLang\": \"Oerlikon\", \"KreisSort\": 11, \"KreisLang\": \"Kreis 11\", \"Nutzung\": \"Andere\", \"Leerflaeche\": 259, \"BueroNettofl\": null, \"BueroLeerProz\": null}, {\"StichtagDatJahr\": \"2011-01-01T00:00:00\", \"QuarSort\": 115, \"QuarLang\": \"Oerlikon\", \"KreisSort\": 11, \"KreisLang\": \"Kreis 11\", \"Nutzung\": \"B\\u00fcro\", \"Leerflaeche\": 4133, \"BueroNettofl\": 309948.0, \"BueroLeerProz\": 1.3}, {\"StichtagDatJahr\": \"2011-01-01T00:00:00\", \"QuarSort\": 115, \"QuarLang\": \"Oerlikon\", \"KreisSort\": 11, \"KreisLang\": \"Kreis 11\", \"Nutzung\": \"Lager\", \"Leerflaeche\": 5357, \"BueroNettofl\": null, \"BueroLeerProz\": null}, {\"StichtagDatJahr\": \"2011-01-01T00:00:00\", \"QuarSort\": 119, \"QuarLang\": \"Seebach\", \"KreisSort\": 11, \"KreisLang\": \"Kreis 11\", \"Nutzung\": \"Andere\", \"Leerflaeche\": 222, \"BueroNettofl\": null, \"BueroLeerProz\": null}, {\"StichtagDatJahr\": \"2011-01-01T00:00:00\", \"QuarSort\": 119, \"QuarLang\": \"Seebach\", \"KreisSort\": 11, \"KreisLang\": \"Kreis 11\", \"Nutzung\": \"Lager\", \"Leerflaeche\": 4722, \"BueroNettofl\": null, \"BueroLeerProz\": null}, {\"StichtagDatJahr\": \"2011-01-01T00:00:00\", \"QuarSort\": 119, \"QuarLang\": \"Seebach\", \"KreisSort\": 11, \"KreisLang\": \"Kreis 11\", \"Nutzung\": \"B\\u00fcro\", \"Leerflaeche\": 18969, \"BueroNettofl\": 458931.0, \"BueroLeerProz\": 4.1}, {\"StichtagDatJahr\": \"2011-01-01T00:00:00\", \"QuarSort\": 121, \"QuarLang\": \"Saatlen\", \"KreisSort\": 12, \"KreisLang\": \"Kreis 12\", \"Nutzung\": \"B\\u00fcro\", \"Leerflaeche\": 415, \"BueroNettofl\": 15098.0, \"BueroLeerProz\": 2.7}, {\"StichtagDatJahr\": \"2011-01-01T00:00:00\", \"QuarSort\": 122, \"QuarLang\": \"Schwamendingen-Mitte\", \"KreisSort\": 12, \"KreisLang\": \"Kreis 12\", \"Nutzung\": \"Lager\", \"Leerflaeche\": 186, \"BueroNettofl\": null, \"BueroLeerProz\": null}, {\"StichtagDatJahr\": \"2011-01-01T00:00:00\", \"QuarSort\": 122, \"QuarLang\": \"Schwamendingen-Mitte\", \"KreisSort\": 12, \"KreisLang\": \"Kreis 12\", \"Nutzung\": \"B\\u00fcro\", \"Leerflaeche\": 715, \"BueroNettofl\": 18617.0, \"BueroLeerProz\": 3.8}, {\"StichtagDatJahr\": \"2012-01-01T00:00:00\", \"QuarSort\": 11, \"QuarLang\": \"Rathaus\", \"KreisSort\": 1, \"KreisLang\": \"Kreis 1\", \"Nutzung\": \"Andere\", \"Leerflaeche\": 143, \"BueroNettofl\": null, \"BueroLeerProz\": null}, {\"StichtagDatJahr\": \"2012-01-01T00:00:00\", \"QuarSort\": 11, \"QuarLang\": \"Rathaus\", \"KreisSort\": 1, \"KreisLang\": \"Kreis 1\", \"Nutzung\": \"Lager\", \"Leerflaeche\": 60, \"BueroNettofl\": null, \"BueroLeerProz\": null}, {\"StichtagDatJahr\": \"2012-01-01T00:00:00\", \"QuarSort\": 11, \"QuarLang\": \"Rathaus\", \"KreisSort\": 1, \"KreisLang\": \"Kreis 1\", \"Nutzung\": \"B\\u00fcro\", \"Leerflaeche\": 1202, \"BueroNettofl\": 104589.0, \"BueroLeerProz\": 1.1}, {\"StichtagDatJahr\": \"2012-01-01T00:00:00\", \"QuarSort\": 13, \"QuarLang\": \"Lindenhof\", \"KreisSort\": 1, \"KreisLang\": \"Kreis 1\", \"Nutzung\": \"Lager\", \"Leerflaeche\": 55, \"BueroNettofl\": null, \"BueroLeerProz\": null}, {\"StichtagDatJahr\": \"2012-01-01T00:00:00\", \"QuarSort\": 13, \"QuarLang\": \"Lindenhof\", \"KreisSort\": 1, \"KreisLang\": \"Kreis 1\", \"Nutzung\": \"Verkauf\", \"Leerflaeche\": 600, \"BueroNettofl\": null, \"BueroLeerProz\": null}, {\"StichtagDatJahr\": \"2012-01-01T00:00:00\", \"QuarSort\": 13, \"QuarLang\": \"Lindenhof\", \"KreisSort\": 1, \"KreisLang\": \"Kreis 1\", \"Nutzung\": \"B\\u00fcro\", \"Leerflaeche\": 5739, \"BueroNettofl\": 194101.0, \"BueroLeerProz\": 3.0}, {\"StichtagDatJahr\": \"2012-01-01T00:00:00\", \"QuarSort\": 14, \"QuarLang\": \"City\", \"KreisSort\": 1, \"KreisLang\": \"Kreis 1\", \"Nutzung\": \"Lager\", \"Leerflaeche\": 4248, \"BueroNettofl\": null, \"BueroLeerProz\": null}, {\"StichtagDatJahr\": \"2012-01-01T00:00:00\", \"QuarSort\": 14, \"QuarLang\": \"City\", \"KreisSort\": 1, \"KreisLang\": \"Kreis 1\", \"Nutzung\": \"B\\u00fcro\", \"Leerflaeche\": 10359, \"BueroNettofl\": 404150.0, \"BueroLeerProz\": 2.6}, {\"StichtagDatJahr\": \"2012-01-01T00:00:00\", \"QuarSort\": 14, \"QuarLang\": \"City\", \"KreisSort\": 1, \"KreisLang\": \"Kreis 1\", \"Nutzung\": \"Verkauf\", \"Leerflaeche\": 500, \"BueroNettofl\": null, \"BueroLeerProz\": null}, {\"StichtagDatJahr\": \"2012-01-01T00:00:00\", \"QuarSort\": 14, \"QuarLang\": \"City\", \"KreisSort\": 1, \"KreisLang\": \"Kreis 1\", \"Nutzung\": \"Andere\", \"Leerflaeche\": 180, \"BueroNettofl\": null, \"BueroLeerProz\": null}, {\"StichtagDatJahr\": \"2012-01-01T00:00:00\", \"QuarSort\": 21, \"QuarLang\": \"Wollishofen\", \"KreisSort\": 2, \"KreisLang\": \"Kreis 2\", \"Nutzung\": \"B\\u00fcro\", \"Leerflaeche\": 6736, \"BueroNettofl\": 82816.0, \"BueroLeerProz\": 8.1}, {\"StichtagDatJahr\": \"2012-01-01T00:00:00\", \"QuarSort\": 21, \"QuarLang\": \"Wollishofen\", \"KreisSort\": 2, \"KreisLang\": \"Kreis 2\", \"Nutzung\": \"Lager\", \"Leerflaeche\": 1039, \"BueroNettofl\": null, \"BueroLeerProz\": null}, {\"StichtagDatJahr\": \"2012-01-01T00:00:00\", \"QuarSort\": 23, \"QuarLang\": \"Leimbach\", \"KreisSort\": 2, \"KreisLang\": \"Kreis 2\", \"Nutzung\": \"Andere\", \"Leerflaeche\": 224, \"BueroNettofl\": null, \"BueroLeerProz\": null}, {\"StichtagDatJahr\": \"2012-01-01T00:00:00\", \"QuarSort\": 24, \"QuarLang\": \"Enge\", \"KreisSort\": 2, \"KreisLang\": \"Kreis 2\", \"Nutzung\": \"Verkauf\", \"Leerflaeche\": 465, \"BueroNettofl\": null, \"BueroLeerProz\": null}, {\"StichtagDatJahr\": \"2012-01-01T00:00:00\", \"QuarSort\": 24, \"QuarLang\": \"Enge\", \"KreisSort\": 2, \"KreisLang\": \"Kreis 2\", \"Nutzung\": \"B\\u00fcro\", \"Leerflaeche\": 6612, \"BueroNettofl\": 531091.0, \"BueroLeerProz\": 1.2}, {\"StichtagDatJahr\": \"2012-01-01T00:00:00\", \"QuarSort\": 24, \"QuarLang\": \"Enge\", \"KreisSort\": 2, \"KreisLang\": \"Kreis 2\", \"Nutzung\": \"Andere\", \"Leerflaeche\": 376, \"BueroNettofl\": null, \"BueroLeerProz\": null}, {\"StichtagDatJahr\": \"2012-01-01T00:00:00\", \"QuarSort\": 24, \"QuarLang\": \"Enge\", \"KreisSort\": 2, \"KreisLang\": \"Kreis 2\", \"Nutzung\": \"Lager\", \"Leerflaeche\": 969, \"BueroNettofl\": null, \"BueroLeerProz\": null}, {\"StichtagDatJahr\": \"2012-01-01T00:00:00\", \"QuarSort\": 24, \"QuarLang\": \"Enge\", \"KreisSort\": 2, \"KreisLang\": \"Kreis 2\", \"Nutzung\": \"Werkstatt\", \"Leerflaeche\": 100, \"BueroNettofl\": null, \"BueroLeerProz\": null}, {\"StichtagDatJahr\": \"2012-01-01T00:00:00\", \"QuarSort\": 31, \"QuarLang\": \"Alt-Wiedikon\", \"KreisSort\": 3, \"KreisLang\": \"Kreis 3\", \"Nutzung\": \"B\\u00fcro\", \"Leerflaeche\": 7083, \"BueroNettofl\": 367434.0, \"BueroLeerProz\": 1.9}, {\"StichtagDatJahr\": \"2012-01-01T00:00:00\", \"QuarSort\": 31, \"QuarLang\": \"Alt-Wiedikon\", \"KreisSort\": 3, \"KreisLang\": \"Kreis 3\", \"Nutzung\": \"Lager\", \"Leerflaeche\": 1112, \"BueroNettofl\": null, \"BueroLeerProz\": null}, {\"StichtagDatJahr\": \"2012-01-01T00:00:00\", \"QuarSort\": 34, \"QuarLang\": \"Sihlfeld\", \"KreisSort\": 3, \"KreisLang\": \"Kreis 3\", \"Nutzung\": \"B\\u00fcro\", \"Leerflaeche\": 4306, \"BueroNettofl\": 114943.0, \"BueroLeerProz\": 3.7}, {\"StichtagDatJahr\": \"2012-01-01T00:00:00\", \"QuarSort\": 34, \"QuarLang\": \"Sihlfeld\", \"KreisSort\": 3, \"KreisLang\": \"Kreis 3\", \"Nutzung\": \"Lager\", \"Leerflaeche\": 1230, \"BueroNettofl\": null, \"BueroLeerProz\": null}, {\"StichtagDatJahr\": \"2012-01-01T00:00:00\", \"QuarSort\": 41, \"QuarLang\": \"Werd\", \"KreisSort\": 4, \"KreisLang\": \"Kreis 4\", \"Nutzung\": \"B\\u00fcro\", \"Leerflaeche\": 769, \"BueroNettofl\": 134244.0, \"BueroLeerProz\": 0.6}, {\"StichtagDatJahr\": \"2012-01-01T00:00:00\", \"QuarSort\": 41, \"QuarLang\": \"Werd\", \"KreisSort\": 4, \"KreisLang\": \"Kreis 4\", \"Nutzung\": \"Verkauf\", \"Leerflaeche\": 31, \"BueroNettofl\": null, \"BueroLeerProz\": null}, {\"StichtagDatJahr\": \"2012-01-01T00:00:00\", \"QuarSort\": 41, \"QuarLang\": \"Werd\", \"KreisSort\": 4, \"KreisLang\": \"Kreis 4\", \"Nutzung\": \"Lager\", \"Leerflaeche\": 311, \"BueroNettofl\": null, \"BueroLeerProz\": null}, {\"StichtagDatJahr\": \"2012-01-01T00:00:00\", \"QuarSort\": 42, \"QuarLang\": \"Langstrasse\", \"KreisSort\": 4, \"KreisLang\": \"Kreis 4\", \"Nutzung\": \"Verkauf\", \"Leerflaeche\": 430, \"BueroNettofl\": null, \"BueroLeerProz\": null}, {\"StichtagDatJahr\": \"2012-01-01T00:00:00\", \"QuarSort\": 42, \"QuarLang\": \"Langstrasse\", \"KreisSort\": 4, \"KreisLang\": \"Kreis 4\", \"Nutzung\": \"B\\u00fcro\", \"Leerflaeche\": 853, \"BueroNettofl\": 251533.0, \"BueroLeerProz\": 0.3}, {\"StichtagDatJahr\": \"2012-01-01T00:00:00\", \"QuarSort\": 42, \"QuarLang\": \"Langstrasse\", \"KreisSort\": 4, \"KreisLang\": \"Kreis 4\", \"Nutzung\": \"Lager\", \"Leerflaeche\": 980, \"BueroNettofl\": null, \"BueroLeerProz\": null}, {\"StichtagDatJahr\": \"2012-01-01T00:00:00\", \"QuarSort\": 44, \"QuarLang\": \"Hard\", \"KreisSort\": 4, \"KreisLang\": \"Kreis 4\", \"Nutzung\": \"Lager\", \"Leerflaeche\": 21, \"BueroNettofl\": null, \"BueroLeerProz\": null}, {\"StichtagDatJahr\": \"2012-01-01T00:00:00\", \"QuarSort\": 44, \"QuarLang\": \"Hard\", \"KreisSort\": 4, \"KreisLang\": \"Kreis 4\", \"Nutzung\": \"B\\u00fcro\", \"Leerflaeche\": 237, \"BueroNettofl\": 61908.0, \"BueroLeerProz\": 0.4}, {\"StichtagDatJahr\": \"2012-01-01T00:00:00\", \"QuarSort\": 44, \"QuarLang\": \"Hard\", \"KreisSort\": 4, \"KreisLang\": \"Kreis 4\", \"Nutzung\": \"Andere\", \"Leerflaeche\": 135, \"BueroNettofl\": null, \"BueroLeerProz\": null}, {\"StichtagDatJahr\": \"2012-01-01T00:00:00\", \"QuarSort\": 51, \"QuarLang\": \"Gewerbeschule\", \"KreisSort\": 5, \"KreisLang\": \"Kreis 5\", \"Nutzung\": \"Lager\", \"Leerflaeche\": 580, \"BueroNettofl\": null, \"BueroLeerProz\": null}, {\"StichtagDatJahr\": \"2012-01-01T00:00:00\", \"QuarSort\": 51, \"QuarLang\": \"Gewerbeschule\", \"KreisSort\": 5, \"KreisLang\": \"Kreis 5\", \"Nutzung\": \"B\\u00fcro\", \"Leerflaeche\": 1008, \"BueroNettofl\": 248192.0, \"BueroLeerProz\": 0.4}, {\"StichtagDatJahr\": \"2012-01-01T00:00:00\", \"QuarSort\": 52, \"QuarLang\": \"Escher Wyss\", \"KreisSort\": 5, \"KreisLang\": \"Kreis 5\", \"Nutzung\": \"Verkauf\", \"Leerflaeche\": 357, \"BueroNettofl\": null, \"BueroLeerProz\": null}, {\"StichtagDatJahr\": \"2012-01-01T00:00:00\", \"QuarSort\": 52, \"QuarLang\": \"Escher Wyss\", \"KreisSort\": 5, \"KreisLang\": \"Kreis 5\", \"Nutzung\": \"B\\u00fcro\", \"Leerflaeche\": 24716, \"BueroNettofl\": 451195.0, \"BueroLeerProz\": 5.5}, {\"StichtagDatJahr\": \"2012-01-01T00:00:00\", \"QuarSort\": 52, \"QuarLang\": \"Escher Wyss\", \"KreisSort\": 5, \"KreisLang\": \"Kreis 5\", \"Nutzung\": \"Andere\", \"Leerflaeche\": 3088, \"BueroNettofl\": null, \"BueroLeerProz\": null}, {\"StichtagDatJahr\": \"2012-01-01T00:00:00\", \"QuarSort\": 52, \"QuarLang\": \"Escher Wyss\", \"KreisSort\": 5, \"KreisLang\": \"Kreis 5\", \"Nutzung\": \"Werkstatt\", \"Leerflaeche\": 2119, \"BueroNettofl\": null, \"BueroLeerProz\": null}, {\"StichtagDatJahr\": \"2012-01-01T00:00:00\", \"QuarSort\": 52, \"QuarLang\": \"Escher Wyss\", \"KreisSort\": 5, \"KreisLang\": \"Kreis 5\", \"Nutzung\": \"Lager\", \"Leerflaeche\": 8083, \"BueroNettofl\": null, \"BueroLeerProz\": null}, {\"StichtagDatJahr\": \"2012-01-01T00:00:00\", \"QuarSort\": 61, \"QuarLang\": \"Unterstrass\", \"KreisSort\": 6, \"KreisLang\": \"Kreis 6\", \"Nutzung\": \"Verkauf\", \"Leerflaeche\": 217, \"BueroNettofl\": null, \"BueroLeerProz\": null}, {\"StichtagDatJahr\": \"2012-01-01T00:00:00\", \"QuarSort\": 61, \"QuarLang\": \"Unterstrass\", \"KreisSort\": 6, \"KreisLang\": \"Kreis 6\", \"Nutzung\": \"B\\u00fcro\", \"Leerflaeche\": 1201, \"BueroNettofl\": 198360.0, \"BueroLeerProz\": 0.6}, {\"StichtagDatJahr\": \"2012-01-01T00:00:00\", \"QuarSort\": 61, \"QuarLang\": \"Unterstrass\", \"KreisSort\": 6, \"KreisLang\": \"Kreis 6\", \"Nutzung\": \"Lager\", \"Leerflaeche\": 920, \"BueroNettofl\": null, \"BueroLeerProz\": null}, {\"StichtagDatJahr\": \"2012-01-01T00:00:00\", \"QuarSort\": 71, \"QuarLang\": \"Fluntern\", \"KreisSort\": 7, \"KreisLang\": \"Kreis 7\", \"Nutzung\": \"Verkauf\", \"Leerflaeche\": 67, \"BueroNettofl\": null, \"BueroLeerProz\": null}, {\"StichtagDatJahr\": \"2012-01-01T00:00:00\", \"QuarSort\": 71, \"QuarLang\": \"Fluntern\", \"KreisSort\": 7, \"KreisLang\": \"Kreis 7\", \"Nutzung\": \"B\\u00fcro\", \"Leerflaeche\": 1000, \"BueroNettofl\": 126024.0, \"BueroLeerProz\": 0.8}, {\"StichtagDatJahr\": \"2012-01-01T00:00:00\", \"QuarSort\": 72, \"QuarLang\": \"Hottingen\", \"KreisSort\": 7, \"KreisLang\": \"Kreis 7\", \"Nutzung\": \"Lager\", \"Leerflaeche\": 26, \"BueroNettofl\": null, \"BueroLeerProz\": null}, {\"StichtagDatJahr\": \"2012-01-01T00:00:00\", \"QuarSort\": 72, \"QuarLang\": \"Hottingen\", \"KreisSort\": 7, \"KreisLang\": \"Kreis 7\", \"Nutzung\": \"Andere\", \"Leerflaeche\": 85, \"BueroNettofl\": null, \"BueroLeerProz\": null}, {\"StichtagDatJahr\": \"2012-01-01T00:00:00\", \"QuarSort\": 72, \"QuarLang\": \"Hottingen\", \"KreisSort\": 7, \"KreisLang\": \"Kreis 7\", \"Nutzung\": \"B\\u00fcro\", \"Leerflaeche\": 485, \"BueroNettofl\": 167619.0, \"BueroLeerProz\": 0.3}, {\"StichtagDatJahr\": \"2012-01-01T00:00:00\", \"QuarSort\": 73, \"QuarLang\": \"Hirslanden\", \"KreisSort\": 7, \"KreisLang\": \"Kreis 7\", \"Nutzung\": \"Lager\", \"Leerflaeche\": 103, \"BueroNettofl\": null, \"BueroLeerProz\": null}, {\"StichtagDatJahr\": \"2012-01-01T00:00:00\", \"QuarSort\": 73, \"QuarLang\": \"Hirslanden\", \"KreisSort\": 7, \"KreisLang\": \"Kreis 7\", \"Nutzung\": \"B\\u00fcro\", \"Leerflaeche\": 407, \"BueroNettofl\": 51787.0, \"BueroLeerProz\": 0.8}, {\"StichtagDatJahr\": \"2012-01-01T00:00:00\", \"QuarSort\": 74, \"QuarLang\": \"Witikon\", \"KreisSort\": 7, \"KreisLang\": \"Kreis 7\", \"Nutzung\": \"Verkauf\", \"Leerflaeche\": 18, \"BueroNettofl\": null, \"BueroLeerProz\": null}, {\"StichtagDatJahr\": \"2012-01-01T00:00:00\", \"QuarSort\": 74, \"QuarLang\": \"Witikon\", \"KreisSort\": 7, \"KreisLang\": \"Kreis 7\", \"Nutzung\": \"B\\u00fcro\", \"Leerflaeche\": 687, \"BueroNettofl\": 11523.0, \"BueroLeerProz\": 6.0}, {\"StichtagDatJahr\": \"2012-01-01T00:00:00\", \"QuarSort\": 81, \"QuarLang\": \"Seefeld\", \"KreisSort\": 8, \"KreisLang\": \"Kreis 8\", \"Nutzung\": \"B\\u00fcro\", \"Leerflaeche\": 6316, \"BueroNettofl\": 168160.0, \"BueroLeerProz\": 3.8}, {\"StichtagDatJahr\": \"2012-01-01T00:00:00\", \"QuarSort\": 81, \"QuarLang\": \"Seefeld\", \"KreisSort\": 8, \"KreisLang\": \"Kreis 8\", \"Nutzung\": \"Lager\", \"Leerflaeche\": 568, \"BueroNettofl\": null, \"BueroLeerProz\": null}, {\"StichtagDatJahr\": \"2012-01-01T00:00:00\", \"QuarSort\": 82, \"QuarLang\": \"M\\u00fchlebach\", \"KreisSort\": 8, \"KreisLang\": \"Kreis 8\", \"Nutzung\": \"Verkauf\", \"Leerflaeche\": 63, \"BueroNettofl\": null, \"BueroLeerProz\": null}, {\"StichtagDatJahr\": \"2012-01-01T00:00:00\", \"QuarSort\": 82, \"QuarLang\": \"M\\u00fchlebach\", \"KreisSort\": 8, \"KreisLang\": \"Kreis 8\", \"Nutzung\": \"B\\u00fcro\", \"Leerflaeche\": 2365, \"BueroNettofl\": 167675.0, \"BueroLeerProz\": 1.4}, {\"StichtagDatJahr\": \"2012-01-01T00:00:00\", \"QuarSort\": 82, \"QuarLang\": \"M\\u00fchlebach\", \"KreisSort\": 8, \"KreisLang\": \"Kreis 8\", \"Nutzung\": \"Lager\", \"Leerflaeche\": 712, \"BueroNettofl\": null, \"BueroLeerProz\": null}, {\"StichtagDatJahr\": \"2012-01-01T00:00:00\", \"QuarSort\": 83, \"QuarLang\": \"Weinegg\", \"KreisSort\": 8, \"KreisLang\": \"Kreis 8\", \"Nutzung\": \"Lager\", \"Leerflaeche\": 290, \"BueroNettofl\": null, \"BueroLeerProz\": null}, {\"StichtagDatJahr\": \"2012-01-01T00:00:00\", \"QuarSort\": 83, \"QuarLang\": \"Weinegg\", \"KreisSort\": 8, \"KreisLang\": \"Kreis 8\", \"Nutzung\": \"B\\u00fcro\", \"Leerflaeche\": 3000, \"BueroNettofl\": 59897.0, \"BueroLeerProz\": 5.0}, {\"StichtagDatJahr\": \"2012-01-01T00:00:00\", \"QuarSort\": 91, \"QuarLang\": \"Albisrieden\", \"KreisSort\": 9, \"KreisLang\": \"Kreis 9\", \"Nutzung\": \"Andere\", \"Leerflaeche\": 87, \"BueroNettofl\": null, \"BueroLeerProz\": null}, {\"StichtagDatJahr\": \"2012-01-01T00:00:00\", \"QuarSort\": 91, \"QuarLang\": \"Albisrieden\", \"KreisSort\": 9, \"KreisLang\": \"Kreis 9\", \"Nutzung\": \"Lager\", \"Leerflaeche\": 1389, \"BueroNettofl\": null, \"BueroLeerProz\": null}, {\"StichtagDatJahr\": \"2012-01-01T00:00:00\", \"QuarSort\": 91, \"QuarLang\": \"Albisrieden\", \"KreisSort\": 9, \"KreisLang\": \"Kreis 9\", \"Nutzung\": \"B\\u00fcro\", \"Leerflaeche\": 7955, \"BueroNettofl\": 110507.0, \"BueroLeerProz\": 7.2}, {\"StichtagDatJahr\": \"2012-01-01T00:00:00\", \"QuarSort\": 91, \"QuarLang\": \"Albisrieden\", \"KreisSort\": 9, \"KreisLang\": \"Kreis 9\", \"Nutzung\": \"Werkstatt\", \"Leerflaeche\": 159, \"BueroNettofl\": null, \"BueroLeerProz\": null}, {\"StichtagDatJahr\": \"2012-01-01T00:00:00\", \"QuarSort\": 92, \"QuarLang\": \"Altstetten\", \"KreisSort\": 9, \"KreisLang\": \"Kreis 9\", \"Nutzung\": \"Verkauf\", \"Leerflaeche\": 1114, \"BueroNettofl\": null, \"BueroLeerProz\": null}, {\"StichtagDatJahr\": \"2012-01-01T00:00:00\", \"QuarSort\": 92, \"QuarLang\": \"Altstetten\", \"KreisSort\": 9, \"KreisLang\": \"Kreis 9\", \"Nutzung\": \"Werkstatt\", \"Leerflaeche\": 727, \"BueroNettofl\": null, \"BueroLeerProz\": null}, {\"StichtagDatJahr\": \"2012-01-01T00:00:00\", \"QuarSort\": 92, \"QuarLang\": \"Altstetten\", \"KreisSort\": 9, \"KreisLang\": \"Kreis 9\", \"Nutzung\": \"B\\u00fcro\", \"Leerflaeche\": 19211, \"BueroNettofl\": 544474.0, \"BueroLeerProz\": 3.5}, {\"StichtagDatJahr\": \"2012-01-01T00:00:00\", \"QuarSort\": 92, \"QuarLang\": \"Altstetten\", \"KreisSort\": 9, \"KreisLang\": \"Kreis 9\", \"Nutzung\": \"Lager\", \"Leerflaeche\": 4013, \"BueroNettofl\": null, \"BueroLeerProz\": null}, {\"StichtagDatJahr\": \"2012-01-01T00:00:00\", \"QuarSort\": 92, \"QuarLang\": \"Altstetten\", \"KreisSort\": 9, \"KreisLang\": \"Kreis 9\", \"Nutzung\": \"Andere\", \"Leerflaeche\": 223, \"BueroNettofl\": null, \"BueroLeerProz\": null}, {\"StichtagDatJahr\": \"2012-01-01T00:00:00\", \"QuarSort\": 101, \"QuarLang\": \"H\\u00f6ngg\", \"KreisSort\": 10, \"KreisLang\": \"Kreis 10\", \"Nutzung\": \"Lager\", \"Leerflaeche\": 53, \"BueroNettofl\": null, \"BueroLeerProz\": null}, {\"StichtagDatJahr\": \"2012-01-01T00:00:00\", \"QuarSort\": 102, \"QuarLang\": \"Wipkingen\", \"KreisSort\": 10, \"KreisLang\": \"Kreis 10\", \"Nutzung\": \"Verkauf\", \"Leerflaeche\": 165, \"BueroNettofl\": null, \"BueroLeerProz\": null}, {\"StichtagDatJahr\": \"2012-01-01T00:00:00\", \"QuarSort\": 102, \"QuarLang\": \"Wipkingen\", \"KreisSort\": 10, \"KreisLang\": \"Kreis 10\", \"Nutzung\": \"Lager\", \"Leerflaeche\": 25, \"BueroNettofl\": null, \"BueroLeerProz\": null}, {\"StichtagDatJahr\": \"2012-01-01T00:00:00\", \"QuarSort\": 102, \"QuarLang\": \"Wipkingen\", \"KreisSort\": 10, \"KreisLang\": \"Kreis 10\", \"Nutzung\": \"B\\u00fcro\", \"Leerflaeche\": 1245, \"BueroNettofl\": 56306.0, \"BueroLeerProz\": 2.2}, {\"StichtagDatJahr\": \"2012-01-01T00:00:00\", \"QuarSort\": 111, \"QuarLang\": \"Affoltern\", \"KreisSort\": 11, \"KreisLang\": \"Kreis 11\", \"Nutzung\": \"Werkstatt\", \"Leerflaeche\": 1403, \"BueroNettofl\": null, \"BueroLeerProz\": null}, {\"StichtagDatJahr\": \"2012-01-01T00:00:00\", \"QuarSort\": 111, \"QuarLang\": \"Affoltern\", \"KreisSort\": 11, \"KreisLang\": \"Kreis 11\", \"Nutzung\": \"B\\u00fcro\", \"Leerflaeche\": 86, \"BueroNettofl\": 21612.0, \"BueroLeerProz\": 0.4}, {\"StichtagDatJahr\": \"2012-01-01T00:00:00\", \"QuarSort\": 115, \"QuarLang\": \"Oerlikon\", \"KreisSort\": 11, \"KreisLang\": \"Kreis 11\", \"Nutzung\": \"Werkstatt\", \"Leerflaeche\": 192, \"BueroNettofl\": null, \"BueroLeerProz\": null}, {\"StichtagDatJahr\": \"2012-01-01T00:00:00\", \"QuarSort\": 115, \"QuarLang\": \"Oerlikon\", \"KreisSort\": 11, \"KreisLang\": \"Kreis 11\", \"Nutzung\": \"B\\u00fcro\", \"Leerflaeche\": 1420, \"BueroNettofl\": 319968.0, \"BueroLeerProz\": 0.4}, {\"StichtagDatJahr\": \"2012-01-01T00:00:00\", \"QuarSort\": 115, \"QuarLang\": \"Oerlikon\", \"KreisSort\": 11, \"KreisLang\": \"Kreis 11\", \"Nutzung\": \"Lager\", \"Leerflaeche\": 840, \"BueroNettofl\": null, \"BueroLeerProz\": null}, {\"StichtagDatJahr\": \"2012-01-01T00:00:00\", \"QuarSort\": 119, \"QuarLang\": \"Seebach\", \"KreisSort\": 11, \"KreisLang\": \"Kreis 11\", \"Nutzung\": \"B\\u00fcro\", \"Leerflaeche\": 10328, \"BueroNettofl\": 455899.0, \"BueroLeerProz\": 2.3}, {\"StichtagDatJahr\": \"2012-01-01T00:00:00\", \"QuarSort\": 119, \"QuarLang\": \"Seebach\", \"KreisSort\": 11, \"KreisLang\": \"Kreis 11\", \"Nutzung\": \"Lager\", \"Leerflaeche\": 3900, \"BueroNettofl\": null, \"BueroLeerProz\": null}, {\"StichtagDatJahr\": \"2012-01-01T00:00:00\", \"QuarSort\": 119, \"QuarLang\": \"Seebach\", \"KreisSort\": 11, \"KreisLang\": \"Kreis 11\", \"Nutzung\": \"Werkstatt\", \"Leerflaeche\": 1000, \"BueroNettofl\": null, \"BueroLeerProz\": null}, {\"StichtagDatJahr\": \"2012-01-01T00:00:00\", \"QuarSort\": 119, \"QuarLang\": \"Seebach\", \"KreisSort\": 11, \"KreisLang\": \"Kreis 11\", \"Nutzung\": \"Andere\", \"Leerflaeche\": 324, \"BueroNettofl\": null, \"BueroLeerProz\": null}, {\"StichtagDatJahr\": \"2012-01-01T00:00:00\", \"QuarSort\": 122, \"QuarLang\": \"Schwamendingen-Mitte\", \"KreisSort\": 12, \"KreisLang\": \"Kreis 12\", \"Nutzung\": \"Werkstatt\", \"Leerflaeche\": 3159, \"BueroNettofl\": null, \"BueroLeerProz\": null}, {\"StichtagDatJahr\": \"2012-01-01T00:00:00\", \"QuarSort\": 122, \"QuarLang\": \"Schwamendingen-Mitte\", \"KreisSort\": 12, \"KreisLang\": \"Kreis 12\", \"Nutzung\": \"B\\u00fcro\", \"Leerflaeche\": 94, \"BueroNettofl\": 18555.0, \"BueroLeerProz\": 0.5}, {\"StichtagDatJahr\": \"2013-01-01T00:00:00\", \"QuarSort\": 11, \"QuarLang\": \"Rathaus\", \"KreisSort\": 1, \"KreisLang\": \"Kreis 1\", \"Nutzung\": \"Lager\", \"Leerflaeche\": 152, \"BueroNettofl\": null, \"BueroLeerProz\": null}, {\"StichtagDatJahr\": \"2013-01-01T00:00:00\", \"QuarSort\": 11, \"QuarLang\": \"Rathaus\", \"KreisSort\": 1, \"KreisLang\": \"Kreis 1\", \"Nutzung\": \"B\\u00fcro\", \"Leerflaeche\": 1733, \"BueroNettofl\": 104589.0, \"BueroLeerProz\": 1.7}, {\"StichtagDatJahr\": \"2013-01-01T00:00:00\", \"QuarSort\": 12, \"QuarLang\": \"Hochschulen\", \"KreisSort\": 1, \"KreisLang\": \"Kreis 1\", \"Nutzung\": \"Lager\", \"Leerflaeche\": 91, \"BueroNettofl\": null, \"BueroLeerProz\": null}, {\"StichtagDatJahr\": \"2013-01-01T00:00:00\", \"QuarSort\": 12, \"QuarLang\": \"Hochschulen\", \"KreisSort\": 1, \"KreisLang\": \"Kreis 1\", \"Nutzung\": \"Verkauf\", \"Leerflaeche\": 199, \"BueroNettofl\": null, \"BueroLeerProz\": null}, {\"StichtagDatJahr\": \"2013-01-01T00:00:00\", \"QuarSort\": 12, \"QuarLang\": \"Hochschulen\", \"KreisSort\": 1, \"KreisLang\": \"Kreis 1\", \"Nutzung\": \"B\\u00fcro\", \"Leerflaeche\": 826, \"BueroNettofl\": 196411.0, \"BueroLeerProz\": 0.4}, {\"StichtagDatJahr\": \"2013-01-01T00:00:00\", \"QuarSort\": 13, \"QuarLang\": \"Lindenhof\", \"KreisSort\": 1, \"KreisLang\": \"Kreis 1\", \"Nutzung\": \"Verkauf\", \"Leerflaeche\": 100, \"BueroNettofl\": null, \"BueroLeerProz\": null}, {\"StichtagDatJahr\": \"2013-01-01T00:00:00\", \"QuarSort\": 13, \"QuarLang\": \"Lindenhof\", \"KreisSort\": 1, \"KreisLang\": \"Kreis 1\", \"Nutzung\": \"Lager\", \"Leerflaeche\": 152, \"BueroNettofl\": null, \"BueroLeerProz\": null}, {\"StichtagDatJahr\": \"2013-01-01T00:00:00\", \"QuarSort\": 13, \"QuarLang\": \"Lindenhof\", \"KreisSort\": 1, \"KreisLang\": \"Kreis 1\", \"Nutzung\": \"B\\u00fcro\", \"Leerflaeche\": 4908, \"BueroNettofl\": 194242.0, \"BueroLeerProz\": 2.5}, {\"StichtagDatJahr\": \"2013-01-01T00:00:00\", \"QuarSort\": 14, \"QuarLang\": \"City\", \"KreisSort\": 1, \"KreisLang\": \"Kreis 1\", \"Nutzung\": \"Andere\", \"Leerflaeche\": 92, \"BueroNettofl\": null, \"BueroLeerProz\": null}, {\"StichtagDatJahr\": \"2013-01-01T00:00:00\", \"QuarSort\": 14, \"QuarLang\": \"City\", \"KreisSort\": 1, \"KreisLang\": \"Kreis 1\", \"Nutzung\": \"B\\u00fcro\", \"Leerflaeche\": 14210, \"BueroNettofl\": 404402.0, \"BueroLeerProz\": 3.5}, {\"StichtagDatJahr\": \"2013-01-01T00:00:00\", \"QuarSort\": 14, \"QuarLang\": \"City\", \"KreisSort\": 1, \"KreisLang\": \"Kreis 1\", \"Nutzung\": \"Lager\", \"Leerflaeche\": 1463, \"BueroNettofl\": null, \"BueroLeerProz\": null}, {\"StichtagDatJahr\": \"2013-01-01T00:00:00\", \"QuarSort\": 14, \"QuarLang\": \"City\", \"KreisSort\": 1, \"KreisLang\": \"Kreis 1\", \"Nutzung\": \"Werkstatt\", \"Leerflaeche\": 185, \"BueroNettofl\": null, \"BueroLeerProz\": null}, {\"StichtagDatJahr\": \"2013-01-01T00:00:00\", \"QuarSort\": 14, \"QuarLang\": \"City\", \"KreisSort\": 1, \"KreisLang\": \"Kreis 1\", \"Nutzung\": \"Verkauf\", \"Leerflaeche\": 1712, \"BueroNettofl\": null, \"BueroLeerProz\": null}, {\"StichtagDatJahr\": \"2013-01-01T00:00:00\", \"QuarSort\": 21, \"QuarLang\": \"Wollishofen\", \"KreisSort\": 2, \"KreisLang\": \"Kreis 2\", \"Nutzung\": \"Andere\", \"Leerflaeche\": 450, \"BueroNettofl\": null, \"BueroLeerProz\": null}, {\"StichtagDatJahr\": \"2013-01-01T00:00:00\", \"QuarSort\": 21, \"QuarLang\": \"Wollishofen\", \"KreisSort\": 2, \"KreisLang\": \"Kreis 2\", \"Nutzung\": \"Lager\", \"Leerflaeche\": 2121, \"BueroNettofl\": null, \"BueroLeerProz\": null}, {\"StichtagDatJahr\": \"2013-01-01T00:00:00\", \"QuarSort\": 21, \"QuarLang\": \"Wollishofen\", \"KreisSort\": 2, \"KreisLang\": \"Kreis 2\", \"Nutzung\": \"B\\u00fcro\", \"Leerflaeche\": 6380, \"BueroNettofl\": 82763.0, \"BueroLeerProz\": 7.7}, {\"StichtagDatJahr\": \"2013-01-01T00:00:00\", \"QuarSort\": 24, \"QuarLang\": \"Enge\", \"KreisSort\": 2, \"KreisLang\": \"Kreis 2\", \"Nutzung\": \"B\\u00fcro\", \"Leerflaeche\": 7028, \"BueroNettofl\": 529510.0, \"BueroLeerProz\": 1.3}, {\"StichtagDatJahr\": \"2013-01-01T00:00:00\", \"QuarSort\": 24, \"QuarLang\": \"Enge\", \"KreisSort\": 2, \"KreisLang\": \"Kreis 2\", \"Nutzung\": \"Verkauf\", \"Leerflaeche\": 714, \"BueroNettofl\": null, \"BueroLeerProz\": null}, {\"StichtagDatJahr\": \"2013-01-01T00:00:00\", \"QuarSort\": 24, \"QuarLang\": \"Enge\", \"KreisSort\": 2, \"KreisLang\": \"Kreis 2\", \"Nutzung\": \"Lager\", \"Leerflaeche\": 1826, \"BueroNettofl\": null, \"BueroLeerProz\": null}, {\"StichtagDatJahr\": \"2013-01-01T00:00:00\", \"QuarSort\": 31, \"QuarLang\": \"Alt-Wiedikon\", \"KreisSort\": 3, \"KreisLang\": \"Kreis 3\", \"Nutzung\": \"Werkstatt\", \"Leerflaeche\": 400, \"BueroNettofl\": null, \"BueroLeerProz\": null}, {\"StichtagDatJahr\": \"2013-01-01T00:00:00\", \"QuarSort\": 31, \"QuarLang\": \"Alt-Wiedikon\", \"KreisSort\": 3, \"KreisLang\": \"Kreis 3\", \"Nutzung\": \"Andere\", \"Leerflaeche\": 1728, \"BueroNettofl\": null, \"BueroLeerProz\": null}, {\"StichtagDatJahr\": \"2013-01-01T00:00:00\", \"QuarSort\": 31, \"QuarLang\": \"Alt-Wiedikon\", \"KreisSort\": 3, \"KreisLang\": \"Kreis 3\", \"Nutzung\": \"Lager\", \"Leerflaeche\": 3372, \"BueroNettofl\": null, \"BueroLeerProz\": null}, {\"StichtagDatJahr\": \"2013-01-01T00:00:00\", \"QuarSort\": 31, \"QuarLang\": \"Alt-Wiedikon\", \"KreisSort\": 3, \"KreisLang\": \"Kreis 3\", \"Nutzung\": \"B\\u00fcro\", \"Leerflaeche\": 8313, \"BueroNettofl\": 398174.0, \"BueroLeerProz\": 2.1}, {\"StichtagDatJahr\": \"2013-01-01T00:00:00\", \"QuarSort\": 34, \"QuarLang\": \"Sihlfeld\", \"KreisSort\": 3, \"KreisLang\": \"Kreis 3\", \"Nutzung\": \"Verkauf\", \"Leerflaeche\": 150, \"BueroNettofl\": null, \"BueroLeerProz\": null}, {\"StichtagDatJahr\": \"2013-01-01T00:00:00\", \"QuarSort\": 34, \"QuarLang\": \"Sihlfeld\", \"KreisSort\": 3, \"KreisLang\": \"Kreis 3\", \"Nutzung\": \"Lager\", \"Leerflaeche\": 993, \"BueroNettofl\": null, \"BueroLeerProz\": null}, {\"StichtagDatJahr\": \"2013-01-01T00:00:00\", \"QuarSort\": 34, \"QuarLang\": \"Sihlfeld\", \"KreisSort\": 3, \"KreisLang\": \"Kreis 3\", \"Nutzung\": \"B\\u00fcro\", \"Leerflaeche\": 2831, \"BueroNettofl\": 114948.0, \"BueroLeerProz\": 2.5}, {\"StichtagDatJahr\": \"2013-01-01T00:00:00\", \"QuarSort\": 41, \"QuarLang\": \"Werd\", \"KreisSort\": 4, \"KreisLang\": \"Kreis 4\", \"Nutzung\": \"Lager\", \"Leerflaeche\": 82, \"BueroNettofl\": null, \"BueroLeerProz\": null}, {\"StichtagDatJahr\": \"2013-01-01T00:00:00\", \"QuarSort\": 41, \"QuarLang\": \"Werd\", \"KreisSort\": 4, \"KreisLang\": \"Kreis 4\", \"Nutzung\": \"B\\u00fcro\", \"Leerflaeche\": 397, \"BueroNettofl\": 134244.0, \"BueroLeerProz\": 0.3}, {\"StichtagDatJahr\": \"2013-01-01T00:00:00\", \"QuarSort\": 42, \"QuarLang\": \"Langstrasse\", \"KreisSort\": 4, \"KreisLang\": \"Kreis 4\", \"Nutzung\": \"Andere\", \"Leerflaeche\": 192, \"BueroNettofl\": null, \"BueroLeerProz\": null}, {\"StichtagDatJahr\": \"2013-01-01T00:00:00\", \"QuarSort\": 42, \"QuarLang\": \"Langstrasse\", \"KreisSort\": 4, \"KreisLang\": \"Kreis 4\", \"Nutzung\": \"Verkauf\", \"Leerflaeche\": 630, \"BueroNettofl\": null, \"BueroLeerProz\": null}, {\"StichtagDatJahr\": \"2013-01-01T00:00:00\", \"QuarSort\": 42, \"QuarLang\": \"Langstrasse\", \"KreisSort\": 4, \"KreisLang\": \"Kreis 4\", \"Nutzung\": \"B\\u00fcro\", \"Leerflaeche\": 4447, \"BueroNettofl\": 299629.0, \"BueroLeerProz\": 1.5}, {\"StichtagDatJahr\": \"2013-01-01T00:00:00\", \"QuarSort\": 42, \"QuarLang\": \"Langstrasse\", \"KreisSort\": 4, \"KreisLang\": \"Kreis 4\", \"Nutzung\": \"Lager\", \"Leerflaeche\": 1060, \"BueroNettofl\": null, \"BueroLeerProz\": null}, {\"StichtagDatJahr\": \"2013-01-01T00:00:00\", \"QuarSort\": 44, \"QuarLang\": \"Hard\", \"KreisSort\": 4, \"KreisLang\": \"Kreis 4\", \"Nutzung\": \"Lager\", \"Leerflaeche\": 529, \"BueroNettofl\": null, \"BueroLeerProz\": null}, {\"StichtagDatJahr\": \"2013-01-01T00:00:00\", \"QuarSort\": 44, \"QuarLang\": \"Hard\", \"KreisSort\": 4, \"KreisLang\": \"Kreis 4\", \"Nutzung\": \"B\\u00fcro\", \"Leerflaeche\": 309, \"BueroNettofl\": 63279.0, \"BueroLeerProz\": 0.5}, {\"StichtagDatJahr\": \"2013-01-01T00:00:00\", \"QuarSort\": 51, \"QuarLang\": \"Gewerbeschule\", \"KreisSort\": 5, \"KreisLang\": \"Kreis 5\", \"Nutzung\": \"Lager\", \"Leerflaeche\": 83, \"BueroNettofl\": null, \"BueroLeerProz\": null}, {\"StichtagDatJahr\": \"2013-01-01T00:00:00\", \"QuarSort\": 51, \"QuarLang\": \"Gewerbeschule\", \"KreisSort\": 5, \"KreisLang\": \"Kreis 5\", \"Nutzung\": \"B\\u00fcro\", \"Leerflaeche\": 872, \"BueroNettofl\": 248227.0, \"BueroLeerProz\": 0.4}, {\"StichtagDatJahr\": \"2013-01-01T00:00:00\", \"QuarSort\": 52, \"QuarLang\": \"Escher Wyss\", \"KreisSort\": 5, \"KreisLang\": \"Kreis 5\", \"Nutzung\": \"Verkauf\", \"Leerflaeche\": 214, \"BueroNettofl\": null, \"BueroLeerProz\": null}, {\"StichtagDatJahr\": \"2013-01-01T00:00:00\", \"QuarSort\": 52, \"QuarLang\": \"Escher Wyss\", \"KreisSort\": 5, \"KreisLang\": \"Kreis 5\", \"Nutzung\": \"Werkstatt\", \"Leerflaeche\": 315, \"BueroNettofl\": null, \"BueroLeerProz\": null}, {\"StichtagDatJahr\": \"2013-01-01T00:00:00\", \"QuarSort\": 52, \"QuarLang\": \"Escher Wyss\", \"KreisSort\": 5, \"KreisLang\": \"Kreis 5\", \"Nutzung\": \"B\\u00fcro\", \"Leerflaeche\": 57629, \"BueroNettofl\": 451717.0, \"BueroLeerProz\": 12.8}, {\"StichtagDatJahr\": \"2013-01-01T00:00:00\", \"QuarSort\": 52, \"QuarLang\": \"Escher Wyss\", \"KreisSort\": 5, \"KreisLang\": \"Kreis 5\", \"Nutzung\": \"Lager\", \"Leerflaeche\": 16009, \"BueroNettofl\": null, \"BueroLeerProz\": null}, {\"StichtagDatJahr\": \"2013-01-01T00:00:00\", \"QuarSort\": 52, \"QuarLang\": \"Escher Wyss\", \"KreisSort\": 5, \"KreisLang\": \"Kreis 5\", \"Nutzung\": \"Andere\", \"Leerflaeche\": 1266, \"BueroNettofl\": null, \"BueroLeerProz\": null}, {\"StichtagDatJahr\": \"2013-01-01T00:00:00\", \"QuarSort\": 61, \"QuarLang\": \"Unterstrass\", \"KreisSort\": 6, \"KreisLang\": \"Kreis 6\", \"Nutzung\": \"B\\u00fcro\", \"Leerflaeche\": 2707, \"BueroNettofl\": 197259.0, \"BueroLeerProz\": 1.4}, {\"StichtagDatJahr\": \"2013-01-01T00:00:00\", \"QuarSort\": 61, \"QuarLang\": \"Unterstrass\", \"KreisSort\": 6, \"KreisLang\": \"Kreis 6\", \"Nutzung\": \"Lager\", \"Leerflaeche\": 1120, \"BueroNettofl\": null, \"BueroLeerProz\": null}, {\"StichtagDatJahr\": \"2013-01-01T00:00:00\", \"QuarSort\": 63, \"QuarLang\": \"Oberstrass\", \"KreisSort\": 6, \"KreisLang\": \"Kreis 6\", \"Nutzung\": \"Lager\", \"Leerflaeche\": 49, \"BueroNettofl\": null, \"BueroLeerProz\": null}, {\"StichtagDatJahr\": \"2013-01-01T00:00:00\", \"QuarSort\": 63, \"QuarLang\": \"Oberstrass\", \"KreisSort\": 6, \"KreisLang\": \"Kreis 6\", \"Nutzung\": \"B\\u00fcro\", \"Leerflaeche\": 245, \"BueroNettofl\": 299033.0, \"BueroLeerProz\": 0.1}, {\"StichtagDatJahr\": \"2013-01-01T00:00:00\", \"QuarSort\": 71, \"QuarLang\": \"Fluntern\", \"KreisSort\": 7, \"KreisLang\": \"Kreis 7\", \"Nutzung\": \"Lager\", \"Leerflaeche\": 66, \"BueroNettofl\": null, \"BueroLeerProz\": null}, {\"StichtagDatJahr\": \"2013-01-01T00:00:00\", \"QuarSort\": 71, \"QuarLang\": \"Fluntern\", \"KreisSort\": 7, \"KreisLang\": \"Kreis 7\", \"Nutzung\": \"B\\u00fcro\", \"Leerflaeche\": 85, \"BueroNettofl\": 125111.0, \"BueroLeerProz\": 0.1}, {\"StichtagDatJahr\": \"2013-01-01T00:00:00\", \"QuarSort\": 72, \"QuarLang\": \"Hottingen\", \"KreisSort\": 7, \"KreisLang\": \"Kreis 7\", \"Nutzung\": \"Lager\", \"Leerflaeche\": 82, \"BueroNettofl\": null, \"BueroLeerProz\": null}, {\"StichtagDatJahr\": \"2013-01-01T00:00:00\", \"QuarSort\": 72, \"QuarLang\": \"Hottingen\", \"KreisSort\": 7, \"KreisLang\": \"Kreis 7\", \"Nutzung\": \"B\\u00fcro\", \"Leerflaeche\": 708, \"BueroNettofl\": 167619.0, \"BueroLeerProz\": 0.4}, {\"StichtagDatJahr\": \"2013-01-01T00:00:00\", \"QuarSort\": 73, \"QuarLang\": \"Hirslanden\", \"KreisSort\": 7, \"KreisLang\": \"Kreis 7\", \"Nutzung\": \"Andere\", \"Leerflaeche\": 364, \"BueroNettofl\": null, \"BueroLeerProz\": null}, {\"StichtagDatJahr\": \"2013-01-01T00:00:00\", \"QuarSort\": 73, \"QuarLang\": \"Hirslanden\", \"KreisSort\": 7, \"KreisLang\": \"Kreis 7\", \"Nutzung\": \"Lager\", \"Leerflaeche\": 147, \"BueroNettofl\": null, \"BueroLeerProz\": null}, {\"StichtagDatJahr\": \"2013-01-01T00:00:00\", \"QuarSort\": 73, \"QuarLang\": \"Hirslanden\", \"KreisSort\": 7, \"KreisLang\": \"Kreis 7\", \"Nutzung\": \"B\\u00fcro\", \"Leerflaeche\": 1125, \"BueroNettofl\": 51787.0, \"BueroLeerProz\": 2.2}, {\"StichtagDatJahr\": \"2013-01-01T00:00:00\", \"QuarSort\": 74, \"QuarLang\": \"Witikon\", \"KreisSort\": 7, \"KreisLang\": \"Kreis 7\", \"Nutzung\": \"B\\u00fcro\", \"Leerflaeche\": 812, \"BueroNettofl\": 11523.0, \"BueroLeerProz\": 7.0}, {\"StichtagDatJahr\": \"2013-01-01T00:00:00\", \"QuarSort\": 81, \"QuarLang\": \"Seefeld\", \"KreisSort\": 8, \"KreisLang\": \"Kreis 8\", \"Nutzung\": \"Verkauf\", \"Leerflaeche\": 376, \"BueroNettofl\": null, \"BueroLeerProz\": null}, {\"StichtagDatJahr\": \"2013-01-01T00:00:00\", \"QuarSort\": 81, \"QuarLang\": \"Seefeld\", \"KreisSort\": 8, \"KreisLang\": \"Kreis 8\", \"Nutzung\": \"Lager\", \"Leerflaeche\": 110, \"BueroNettofl\": null, \"BueroLeerProz\": null}, {\"StichtagDatJahr\": \"2013-01-01T00:00:00\", \"QuarSort\": 81, \"QuarLang\": \"Seefeld\", \"KreisSort\": 8, \"KreisLang\": \"Kreis 8\", \"Nutzung\": \"B\\u00fcro\", \"Leerflaeche\": 229, \"BueroNettofl\": 167756.0, \"BueroLeerProz\": 0.1}, {\"StichtagDatJahr\": \"2013-01-01T00:00:00\", \"QuarSort\": 82, \"QuarLang\": \"M\\u00fchlebach\", \"KreisSort\": 8, \"KreisLang\": \"Kreis 8\", \"Nutzung\": \"Lager\", \"Leerflaeche\": 1049, \"BueroNettofl\": null, \"BueroLeerProz\": null}, {\"StichtagDatJahr\": \"2013-01-01T00:00:00\", \"QuarSort\": 82, \"QuarLang\": \"M\\u00fchlebach\", \"KreisSort\": 8, \"KreisLang\": \"Kreis 8\", \"Nutzung\": \"B\\u00fcro\", \"Leerflaeche\": 2754, \"BueroNettofl\": 168884.0, \"BueroLeerProz\": 1.6}, {\"StichtagDatJahr\": \"2013-01-01T00:00:00\", \"QuarSort\": 83, \"QuarLang\": \"Weinegg\", \"KreisSort\": 8, \"KreisLang\": \"Kreis 8\", \"Nutzung\": \"Andere\", \"Leerflaeche\": 2126, \"BueroNettofl\": null, \"BueroLeerProz\": null}, {\"StichtagDatJahr\": \"2013-01-01T00:00:00\", \"QuarSort\": 83, \"QuarLang\": \"Weinegg\", \"KreisSort\": 8, \"KreisLang\": \"Kreis 8\", \"Nutzung\": \"B\\u00fcro\", \"Leerflaeche\": 330, \"BueroNettofl\": 59897.0, \"BueroLeerProz\": 0.6}, {\"StichtagDatJahr\": \"2013-01-01T00:00:00\", \"QuarSort\": 83, \"QuarLang\": \"Weinegg\", \"KreisSort\": 8, \"KreisLang\": \"Kreis 8\", \"Nutzung\": \"Lager\", \"Leerflaeche\": 33, \"BueroNettofl\": null, \"BueroLeerProz\": null}, {\"StichtagDatJahr\": \"2013-01-01T00:00:00\", \"QuarSort\": 91, \"QuarLang\": \"Albisrieden\", \"KreisSort\": 9, \"KreisLang\": \"Kreis 9\", \"Nutzung\": \"Andere\", \"Leerflaeche\": 830, \"BueroNettofl\": null, \"BueroLeerProz\": null}, {\"StichtagDatJahr\": \"2013-01-01T00:00:00\", \"QuarSort\": 91, \"QuarLang\": \"Albisrieden\", \"KreisSort\": 9, \"KreisLang\": \"Kreis 9\", \"Nutzung\": \"Lager\", \"Leerflaeche\": 1567, \"BueroNettofl\": null, \"BueroLeerProz\": null}, {\"StichtagDatJahr\": \"2013-01-01T00:00:00\", \"QuarSort\": 91, \"QuarLang\": \"Albisrieden\", \"KreisSort\": 9, \"KreisLang\": \"Kreis 9\", \"Nutzung\": \"B\\u00fcro\", \"Leerflaeche\": 6972, \"BueroNettofl\": 113508.0, \"BueroLeerProz\": 6.1}, {\"StichtagDatJahr\": \"2013-01-01T00:00:00\", \"QuarSort\": 91, \"QuarLang\": \"Albisrieden\", \"KreisSort\": 9, \"KreisLang\": \"Kreis 9\", \"Nutzung\": \"Werkstatt\", \"Leerflaeche\": 897, \"BueroNettofl\": null, \"BueroLeerProz\": null}, {\"StichtagDatJahr\": \"2013-01-01T00:00:00\", \"QuarSort\": 92, \"QuarLang\": \"Altstetten\", \"KreisSort\": 9, \"KreisLang\": \"Kreis 9\", \"Nutzung\": \"Lager\", \"Leerflaeche\": 5393, \"BueroNettofl\": null, \"BueroLeerProz\": null}, {\"StichtagDatJahr\": \"2013-01-01T00:00:00\", \"QuarSort\": 92, \"QuarLang\": \"Altstetten\", \"KreisSort\": 9, \"KreisLang\": \"Kreis 9\", \"Nutzung\": \"Andere\", \"Leerflaeche\": 79, \"BueroNettofl\": null, \"BueroLeerProz\": null}, {\"StichtagDatJahr\": \"2013-01-01T00:00:00\", \"QuarSort\": 92, \"QuarLang\": \"Altstetten\", \"KreisSort\": 9, \"KreisLang\": \"Kreis 9\", \"Nutzung\": \"Verkauf\", \"Leerflaeche\": 144, \"BueroNettofl\": null, \"BueroLeerProz\": null}, {\"StichtagDatJahr\": \"2013-01-01T00:00:00\", \"QuarSort\": 92, \"QuarLang\": \"Altstetten\", \"KreisSort\": 9, \"KreisLang\": \"Kreis 9\", \"Nutzung\": \"Werkstatt\", \"Leerflaeche\": 404, \"BueroNettofl\": null, \"BueroLeerProz\": null}, {\"StichtagDatJahr\": \"2013-01-01T00:00:00\", \"QuarSort\": 92, \"QuarLang\": \"Altstetten\", \"KreisSort\": 9, \"KreisLang\": \"Kreis 9\", \"Nutzung\": \"B\\u00fcro\", \"Leerflaeche\": 29959, \"BueroNettofl\": 539900.0, \"BueroLeerProz\": 5.5}, {\"StichtagDatJahr\": \"2013-01-01T00:00:00\", \"QuarSort\": 101, \"QuarLang\": \"H\\u00f6ngg\", \"KreisSort\": 10, \"KreisLang\": \"Kreis 10\", \"Nutzung\": \"Andere\", \"Leerflaeche\": 74, \"BueroNettofl\": null, \"BueroLeerProz\": null}, {\"StichtagDatJahr\": \"2013-01-01T00:00:00\", \"QuarSort\": 111, \"QuarLang\": \"Affoltern\", \"KreisSort\": 11, \"KreisLang\": \"Kreis 11\", \"Nutzung\": \"B\\u00fcro\", \"Leerflaeche\": 128, \"BueroNettofl\": 21950.0, \"BueroLeerProz\": 0.6}, {\"StichtagDatJahr\": \"2013-01-01T00:00:00\", \"QuarSort\": 115, \"QuarLang\": \"Oerlikon\", \"KreisSort\": 11, \"KreisLang\": \"Kreis 11\", \"Nutzung\": \"Lager\", \"Leerflaeche\": 97, \"BueroNettofl\": null, \"BueroLeerProz\": null}, {\"StichtagDatJahr\": \"2013-01-01T00:00:00\", \"QuarSort\": 115, \"QuarLang\": \"Oerlikon\", \"KreisSort\": 11, \"KreisLang\": \"Kreis 11\", \"Nutzung\": \"Werkstatt\", \"Leerflaeche\": 699, \"BueroNettofl\": null, \"BueroLeerProz\": null}, {\"StichtagDatJahr\": \"2013-01-01T00:00:00\", \"QuarSort\": 115, \"QuarLang\": \"Oerlikon\", \"KreisSort\": 11, \"KreisLang\": \"Kreis 11\", \"Nutzung\": \"B\\u00fcro\", \"Leerflaeche\": 1567, \"BueroNettofl\": 319555.0, \"BueroLeerProz\": 0.5}, {\"StichtagDatJahr\": \"2013-01-01T00:00:00\", \"QuarSort\": 119, \"QuarLang\": \"Seebach\", \"KreisSort\": 11, \"KreisLang\": \"Kreis 11\", \"Nutzung\": \"Lager\", \"Leerflaeche\": 4741, \"BueroNettofl\": null, \"BueroLeerProz\": null}, {\"StichtagDatJahr\": \"2013-01-01T00:00:00\", \"QuarSort\": 119, \"QuarLang\": \"Seebach\", \"KreisSort\": 11, \"KreisLang\": \"Kreis 11\", \"Nutzung\": \"B\\u00fcro\", \"Leerflaeche\": 23498, \"BueroNettofl\": 470926.0, \"BueroLeerProz\": 5.0}, {\"StichtagDatJahr\": \"2013-01-01T00:00:00\", \"QuarSort\": 121, \"QuarLang\": \"Saatlen\", \"KreisSort\": 12, \"KreisLang\": \"Kreis 12\", \"Nutzung\": \"Verkauf\", \"Leerflaeche\": 156, \"BueroNettofl\": null, \"BueroLeerProz\": null}, {\"StichtagDatJahr\": \"2013-01-01T00:00:00\", \"QuarSort\": 121, \"QuarLang\": \"Saatlen\", \"KreisSort\": 12, \"KreisLang\": \"Kreis 12\", \"Nutzung\": \"B\\u00fcro\", \"Leerflaeche\": 1058, \"BueroNettofl\": 15098.0, \"BueroLeerProz\": 7.0}, {\"StichtagDatJahr\": \"2013-01-01T00:00:00\", \"QuarSort\": 121, \"QuarLang\": \"Saatlen\", \"KreisSort\": 12, \"KreisLang\": \"Kreis 12\", \"Nutzung\": \"Lager\", \"Leerflaeche\": 363, \"BueroNettofl\": null, \"BueroLeerProz\": null}, {\"StichtagDatJahr\": \"2013-01-01T00:00:00\", \"QuarSort\": 122, \"QuarLang\": \"Schwamendingen-Mitte\", \"KreisSort\": 12, \"KreisLang\": \"Kreis 12\", \"Nutzung\": \"Lager\", \"Leerflaeche\": 90, \"BueroNettofl\": null, \"BueroLeerProz\": null}, {\"StichtagDatJahr\": \"2013-01-01T00:00:00\", \"QuarSort\": 122, \"QuarLang\": \"Schwamendingen-Mitte\", \"KreisSort\": 12, \"KreisLang\": \"Kreis 12\", \"Nutzung\": \"B\\u00fcro\", \"Leerflaeche\": 1633, \"BueroNettofl\": 18555.0, \"BueroLeerProz\": 8.8}, {\"StichtagDatJahr\": \"2014-01-01T00:00:00\", \"QuarSort\": 11, \"QuarLang\": \"Rathaus\", \"KreisSort\": 1, \"KreisLang\": \"Kreis 1\", \"Nutzung\": \"Lager\", \"Leerflaeche\": 428, \"BueroNettofl\": null, \"BueroLeerProz\": null}, {\"StichtagDatJahr\": \"2014-01-01T00:00:00\", \"QuarSort\": 11, \"QuarLang\": \"Rathaus\", \"KreisSort\": 1, \"KreisLang\": \"Kreis 1\", \"Nutzung\": \"B\\u00fcro\", \"Leerflaeche\": 1856, \"BueroNettofl\": 104589.0, \"BueroLeerProz\": 1.8}, {\"StichtagDatJahr\": \"2014-01-01T00:00:00\", \"QuarSort\": 12, \"QuarLang\": \"Hochschulen\", \"KreisSort\": 1, \"KreisLang\": \"Kreis 1\", \"Nutzung\": \"B\\u00fcro\", \"Leerflaeche\": 2218, \"BueroNettofl\": 196411.0, \"BueroLeerProz\": 1.1}, {\"StichtagDatJahr\": \"2014-01-01T00:00:00\", \"QuarSort\": 13, \"QuarLang\": \"Lindenhof\", \"KreisSort\": 1, \"KreisLang\": \"Kreis 1\", \"Nutzung\": \"Andere\", \"Leerflaeche\": 98, \"BueroNettofl\": null, \"BueroLeerProz\": null}, {\"StichtagDatJahr\": \"2014-01-01T00:00:00\", \"QuarSort\": 13, \"QuarLang\": \"Lindenhof\", \"KreisSort\": 1, \"KreisLang\": \"Kreis 1\", \"Nutzung\": \"Verkauf\", \"Leerflaeche\": 305, \"BueroNettofl\": null, \"BueroLeerProz\": null}, {\"StichtagDatJahr\": \"2014-01-01T00:00:00\", \"QuarSort\": 13, \"QuarLang\": \"Lindenhof\", \"KreisSort\": 1, \"KreisLang\": \"Kreis 1\", \"Nutzung\": \"Lager\", \"Leerflaeche\": 11, \"BueroNettofl\": null, \"BueroLeerProz\": null}, {\"StichtagDatJahr\": \"2014-01-01T00:00:00\", \"QuarSort\": 13, \"QuarLang\": \"Lindenhof\", \"KreisSort\": 1, \"KreisLang\": \"Kreis 1\", \"Nutzung\": \"B\\u00fcro\", \"Leerflaeche\": 6967, \"BueroNettofl\": 194098.0, \"BueroLeerProz\": 3.6}, {\"StichtagDatJahr\": \"2014-01-01T00:00:00\", \"QuarSort\": 14, \"QuarLang\": \"City\", \"KreisSort\": 1, \"KreisLang\": \"Kreis 1\", \"Nutzung\": \"Verkauf\", \"Leerflaeche\": 207, \"BueroNettofl\": null, \"BueroLeerProz\": null}, {\"StichtagDatJahr\": \"2014-01-01T00:00:00\", \"QuarSort\": 14, \"QuarLang\": \"City\", \"KreisSort\": 1, \"KreisLang\": \"Kreis 1\", \"Nutzung\": \"Lager\", \"Leerflaeche\": 3033, \"BueroNettofl\": null, \"BueroLeerProz\": null}, {\"StichtagDatJahr\": \"2014-01-01T00:00:00\", \"QuarSort\": 14, \"QuarLang\": \"City\", \"KreisSort\": 1, \"KreisLang\": \"Kreis 1\", \"Nutzung\": \"B\\u00fcro\", \"Leerflaeche\": 38651, \"BueroNettofl\": 403939.0, \"BueroLeerProz\": 9.6}, {\"StichtagDatJahr\": \"2014-01-01T00:00:00\", \"QuarSort\": 21, \"QuarLang\": \"Wollishofen\", \"KreisSort\": 2, \"KreisLang\": \"Kreis 2\", \"Nutzung\": \"Verkauf\", \"Leerflaeche\": 735, \"BueroNettofl\": null, \"BueroLeerProz\": null}, {\"StichtagDatJahr\": \"2014-01-01T00:00:00\", \"QuarSort\": 21, \"QuarLang\": \"Wollishofen\", \"KreisSort\": 2, \"KreisLang\": \"Kreis 2\", \"Nutzung\": \"Lager\", \"Leerflaeche\": 1663, \"BueroNettofl\": null, \"BueroLeerProz\": null}, {\"StichtagDatJahr\": \"2014-01-01T00:00:00\", \"QuarSort\": 21, \"QuarLang\": \"Wollishofen\", \"KreisSort\": 2, \"KreisLang\": \"Kreis 2\", \"Nutzung\": \"B\\u00fcro\", \"Leerflaeche\": 6703, \"BueroNettofl\": 82507.0, \"BueroLeerProz\": 8.1}, {\"StichtagDatJahr\": \"2014-01-01T00:00:00\", \"QuarSort\": 23, \"QuarLang\": \"Leimbach\", \"KreisSort\": 2, \"KreisLang\": \"Kreis 2\", \"Nutzung\": \"Andere\", \"Leerflaeche\": 115, \"BueroNettofl\": null, \"BueroLeerProz\": null}, {\"StichtagDatJahr\": \"2014-01-01T00:00:00\", \"QuarSort\": 23, \"QuarLang\": \"Leimbach\", \"KreisSort\": 2, \"KreisLang\": \"Kreis 2\", \"Nutzung\": \"Verkauf\", \"Leerflaeche\": 228, \"BueroNettofl\": null, \"BueroLeerProz\": null}, {\"StichtagDatJahr\": \"2014-01-01T00:00:00\", \"QuarSort\": 23, \"QuarLang\": \"Leimbach\", \"KreisSort\": 2, \"KreisLang\": \"Kreis 2\", \"Nutzung\": \"B\\u00fcro\", \"Leerflaeche\": 58, \"BueroNettofl\": 3359.0, \"BueroLeerProz\": 1.7}, {\"StichtagDatJahr\": \"2014-01-01T00:00:00\", \"QuarSort\": 24, \"QuarLang\": \"Enge\", \"KreisSort\": 2, \"KreisLang\": \"Kreis 2\", \"Nutzung\": \"Lager\", \"Leerflaeche\": 2936, \"BueroNettofl\": null, \"BueroLeerProz\": null}, {\"StichtagDatJahr\": \"2014-01-01T00:00:00\", \"QuarSort\": 24, \"QuarLang\": \"Enge\", \"KreisSort\": 2, \"KreisLang\": \"Kreis 2\", \"Nutzung\": \"B\\u00fcro\", \"Leerflaeche\": 21798, \"BueroNettofl\": 522464.0, \"BueroLeerProz\": 4.2}, {\"StichtagDatJahr\": \"2014-01-01T00:00:00\", \"QuarSort\": 31, \"QuarLang\": \"Alt-Wiedikon\", \"KreisSort\": 3, \"KreisLang\": \"Kreis 3\", \"Nutzung\": \"Verkauf\", \"Leerflaeche\": 375, \"BueroNettofl\": null, \"BueroLeerProz\": null}, {\"StichtagDatJahr\": \"2014-01-01T00:00:00\", \"QuarSort\": 31, \"QuarLang\": \"Alt-Wiedikon\", \"KreisSort\": 3, \"KreisLang\": \"Kreis 3\", \"Nutzung\": \"B\\u00fcro\", \"Leerflaeche\": 21685, \"BueroNettofl\": 398313.0, \"BueroLeerProz\": 5.4}, {\"StichtagDatJahr\": \"2014-01-01T00:00:00\", \"QuarSort\": 31, \"QuarLang\": \"Alt-Wiedikon\", \"KreisSort\": 3, \"KreisLang\": \"Kreis 3\", \"Nutzung\": \"Lager\", \"Leerflaeche\": 4875, \"BueroNettofl\": null, \"BueroLeerProz\": null}, {\"StichtagDatJahr\": \"2014-01-01T00:00:00\", \"QuarSort\": 34, \"QuarLang\": \"Sihlfeld\", \"KreisSort\": 3, \"KreisLang\": \"Kreis 3\", \"Nutzung\": \"Verkauf\", \"Leerflaeche\": 244, \"BueroNettofl\": null, \"BueroLeerProz\": null}, {\"StichtagDatJahr\": \"2014-01-01T00:00:00\", \"QuarSort\": 34, \"QuarLang\": \"Sihlfeld\", \"KreisSort\": 3, \"KreisLang\": \"Kreis 3\", \"Nutzung\": \"Lager\", \"Leerflaeche\": 1095, \"BueroNettofl\": null, \"BueroLeerProz\": null}, {\"StichtagDatJahr\": \"2014-01-01T00:00:00\", \"QuarSort\": 34, \"QuarLang\": \"Sihlfeld\", \"KreisSort\": 3, \"KreisLang\": \"Kreis 3\", \"Nutzung\": \"B\\u00fcro\", \"Leerflaeche\": 6407, \"BueroNettofl\": 115215.0, \"BueroLeerProz\": 5.6}, {\"StichtagDatJahr\": \"2014-01-01T00:00:00\", \"QuarSort\": 41, \"QuarLang\": \"Werd\", \"KreisSort\": 4, \"KreisLang\": \"Kreis 4\", \"Nutzung\": \"Verkauf\", \"Leerflaeche\": 26, \"BueroNettofl\": null, \"BueroLeerProz\": null}, {\"StichtagDatJahr\": \"2014-01-01T00:00:00\", \"QuarSort\": 41, \"QuarLang\": \"Werd\", \"KreisSort\": 4, \"KreisLang\": \"Kreis 4\", \"Nutzung\": \"B\\u00fcro\", \"Leerflaeche\": 3000, \"BueroNettofl\": 139000.0, \"BueroLeerProz\": 2.2}, {\"StichtagDatJahr\": \"2014-01-01T00:00:00\", \"QuarSort\": 42, \"QuarLang\": \"Langstrasse\", \"KreisSort\": 4, \"KreisLang\": \"Kreis 4\", \"Nutzung\": \"Verkauf\", \"Leerflaeche\": 320, \"BueroNettofl\": null, \"BueroLeerProz\": null}, {\"StichtagDatJahr\": \"2014-01-01T00:00:00\", \"QuarSort\": 42, \"QuarLang\": \"Langstrasse\", \"KreisSort\": 4, \"KreisLang\": \"Kreis 4\", \"Nutzung\": \"Lager\", \"Leerflaeche\": 1835, \"BueroNettofl\": null, \"BueroLeerProz\": null}, {\"StichtagDatJahr\": \"2014-01-01T00:00:00\", \"QuarSort\": 42, \"QuarLang\": \"Langstrasse\", \"KreisSort\": 4, \"KreisLang\": \"Kreis 4\", \"Nutzung\": \"B\\u00fcro\", \"Leerflaeche\": 1614, \"BueroNettofl\": 337467.0, \"BueroLeerProz\": 0.5}, {\"StichtagDatJahr\": \"2014-01-01T00:00:00\", \"QuarSort\": 44, \"QuarLang\": \"Hard\", \"KreisSort\": 4, \"KreisLang\": \"Kreis 4\", \"Nutzung\": \"Lager\", \"Leerflaeche\": 21, \"BueroNettofl\": null, \"BueroLeerProz\": null}, {\"StichtagDatJahr\": \"2014-01-01T00:00:00\", \"QuarSort\": 44, \"QuarLang\": \"Hard\", \"KreisSort\": 4, \"KreisLang\": \"Kreis 4\", \"Nutzung\": \"B\\u00fcro\", \"Leerflaeche\": 230, \"BueroNettofl\": 60488.0, \"BueroLeerProz\": 0.4}, {\"StichtagDatJahr\": \"2014-01-01T00:00:00\", \"QuarSort\": 51, \"QuarLang\": \"Gewerbeschule\", \"KreisSort\": 5, \"KreisLang\": \"Kreis 5\", \"Nutzung\": \"B\\u00fcro\", \"Leerflaeche\": 2367, \"BueroNettofl\": 247630.0, \"BueroLeerProz\": 1.0}, {\"StichtagDatJahr\": \"2014-01-01T00:00:00\", \"QuarSort\": 51, \"QuarLang\": \"Gewerbeschule\", \"KreisSort\": 5, \"KreisLang\": \"Kreis 5\", \"Nutzung\": \"Lager\", \"Leerflaeche\": 1944, \"BueroNettofl\": null, \"BueroLeerProz\": null}, {\"StichtagDatJahr\": \"2014-01-01T00:00:00\", \"QuarSort\": 52, \"QuarLang\": \"Escher Wyss\", \"KreisSort\": 5, \"KreisLang\": \"Kreis 5\", \"Nutzung\": \"B\\u00fcro\", \"Leerflaeche\": 21637, \"BueroNettofl\": 462801.0, \"BueroLeerProz\": 4.7}, {\"StichtagDatJahr\": \"2014-01-01T00:00:00\", \"QuarSort\": 52, \"QuarLang\": \"Escher Wyss\", \"KreisSort\": 5, \"KreisLang\": \"Kreis 5\", \"Nutzung\": \"Andere\", \"Leerflaeche\": 39, \"BueroNettofl\": null, \"BueroLeerProz\": null}, {\"StichtagDatJahr\": \"2014-01-01T00:00:00\", \"QuarSort\": 52, \"QuarLang\": \"Escher Wyss\", \"KreisSort\": 5, \"KreisLang\": \"Kreis 5\", \"Nutzung\": \"Werkstatt\", \"Leerflaeche\": 687, \"BueroNettofl\": null, \"BueroLeerProz\": null}, {\"StichtagDatJahr\": \"2014-01-01T00:00:00\", \"QuarSort\": 52, \"QuarLang\": \"Escher Wyss\", \"KreisSort\": 5, \"KreisLang\": \"Kreis 5\", \"Nutzung\": \"Verkauf\", \"Leerflaeche\": 1309, \"BueroNettofl\": null, \"BueroLeerProz\": null}, {\"StichtagDatJahr\": \"2014-01-01T00:00:00\", \"QuarSort\": 52, \"QuarLang\": \"Escher Wyss\", \"KreisSort\": 5, \"KreisLang\": \"Kreis 5\", \"Nutzung\": \"Lager\", \"Leerflaeche\": 5660, \"BueroNettofl\": null, \"BueroLeerProz\": null}, {\"StichtagDatJahr\": \"2014-01-01T00:00:00\", \"QuarSort\": 61, \"QuarLang\": \"Unterstrass\", \"KreisSort\": 6, \"KreisLang\": \"Kreis 6\", \"Nutzung\": \"Andere\", \"Leerflaeche\": 78, \"BueroNettofl\": null, \"BueroLeerProz\": null}, {\"StichtagDatJahr\": \"2014-01-01T00:00:00\", \"QuarSort\": 61, \"QuarLang\": \"Unterstrass\", \"KreisSort\": 6, \"KreisLang\": \"Kreis 6\", \"Nutzung\": \"Lager\", \"Leerflaeche\": 873, \"BueroNettofl\": null, \"BueroLeerProz\": null}, {\"StichtagDatJahr\": \"2014-01-01T00:00:00\", \"QuarSort\": 61, \"QuarLang\": \"Unterstrass\", \"KreisSort\": 6, \"KreisLang\": \"Kreis 6\", \"Nutzung\": \"B\\u00fcro\", \"Leerflaeche\": 844, \"BueroNettofl\": 199004.0, \"BueroLeerProz\": 0.4}, {\"StichtagDatJahr\": \"2014-01-01T00:00:00\", \"QuarSort\": 63, \"QuarLang\": \"Oberstrass\", \"KreisSort\": 6, \"KreisLang\": \"Kreis 6\", \"Nutzung\": \"B\\u00fcro\", \"Leerflaeche\": 300, \"BueroNettofl\": 299033.0, \"BueroLeerProz\": 0.1}, {\"StichtagDatJahr\": \"2014-01-01T00:00:00\", \"QuarSort\": 71, \"QuarLang\": \"Fluntern\", \"KreisSort\": 7, \"KreisLang\": \"Kreis 7\", \"Nutzung\": \"Lager\", \"Leerflaeche\": 66, \"BueroNettofl\": null, \"BueroLeerProz\": null}, {\"StichtagDatJahr\": \"2014-01-01T00:00:00\", \"QuarSort\": 72, \"QuarLang\": \"Hottingen\", \"KreisSort\": 7, \"KreisLang\": \"Kreis 7\", \"Nutzung\": \"Lager\", \"Leerflaeche\": 204, \"BueroNettofl\": null, \"BueroLeerProz\": null}, {\"StichtagDatJahr\": \"2014-01-01T00:00:00\", \"QuarSort\": 72, \"QuarLang\": \"Hottingen\", \"KreisSort\": 7, \"KreisLang\": \"Kreis 7\", \"Nutzung\": \"B\\u00fcro\", \"Leerflaeche\": 1004, \"BueroNettofl\": 167552.0, \"BueroLeerProz\": 0.6}, {\"StichtagDatJahr\": \"2014-01-01T00:00:00\", \"QuarSort\": 73, \"QuarLang\": \"Hirslanden\", \"KreisSort\": 7, \"KreisLang\": \"Kreis 7\", \"Nutzung\": \"Lager\", \"Leerflaeche\": 309, \"BueroNettofl\": null, \"BueroLeerProz\": null}, {\"StichtagDatJahr\": \"2014-01-01T00:00:00\", \"QuarSort\": 73, \"QuarLang\": \"Hirslanden\", \"KreisSort\": 7, \"KreisLang\": \"Kreis 7\", \"Nutzung\": \"Andere\", \"Leerflaeche\": 683, \"BueroNettofl\": null, \"BueroLeerProz\": null}, {\"StichtagDatJahr\": \"2014-01-01T00:00:00\", \"QuarSort\": 73, \"QuarLang\": \"Hirslanden\", \"KreisSort\": 7, \"KreisLang\": \"Kreis 7\", \"Nutzung\": \"B\\u00fcro\", \"Leerflaeche\": 1195, \"BueroNettofl\": 51787.0, \"BueroLeerProz\": 2.3}, {\"StichtagDatJahr\": \"2014-01-01T00:00:00\", \"QuarSort\": 74, \"QuarLang\": \"Witikon\", \"KreisSort\": 7, \"KreisLang\": \"Kreis 7\", \"Nutzung\": \"Werkstatt\", \"Leerflaeche\": 116, \"BueroNettofl\": null, \"BueroLeerProz\": null}, {\"StichtagDatJahr\": \"2014-01-01T00:00:00\", \"QuarSort\": 81, \"QuarLang\": \"Seefeld\", \"KreisSort\": 8, \"KreisLang\": \"Kreis 8\", \"Nutzung\": \"Verkauf\", \"Leerflaeche\": 292, \"BueroNettofl\": null, \"BueroLeerProz\": null}, {\"StichtagDatJahr\": \"2014-01-01T00:00:00\", \"QuarSort\": 81, \"QuarLang\": \"Seefeld\", \"KreisSort\": 8, \"KreisLang\": \"Kreis 8\", \"Nutzung\": \"Lager\", \"Leerflaeche\": 573, \"BueroNettofl\": null, \"BueroLeerProz\": null}, {\"StichtagDatJahr\": \"2014-01-01T00:00:00\", \"QuarSort\": 81, \"QuarLang\": \"Seefeld\", \"KreisSort\": 8, \"KreisLang\": \"Kreis 8\", \"Nutzung\": \"B\\u00fcro\", \"Leerflaeche\": 7236, \"BueroNettofl\": 167756.0, \"BueroLeerProz\": 4.3}, {\"StichtagDatJahr\": \"2014-01-01T00:00:00\", \"QuarSort\": 82, \"QuarLang\": \"M\\u00fchlebach\", \"KreisSort\": 8, \"KreisLang\": \"Kreis 8\", \"Nutzung\": \"Lager\", \"Leerflaeche\": 992, \"BueroNettofl\": null, \"BueroLeerProz\": null}, {\"StichtagDatJahr\": \"2014-01-01T00:00:00\", \"QuarSort\": 82, \"QuarLang\": \"M\\u00fchlebach\", \"KreisSort\": 8, \"KreisLang\": \"Kreis 8\", \"Nutzung\": \"B\\u00fcro\", \"Leerflaeche\": 3787, \"BueroNettofl\": 169157.0, \"BueroLeerProz\": 2.2}, {\"StichtagDatJahr\": \"2014-01-01T00:00:00\", \"QuarSort\": 83, \"QuarLang\": \"Weinegg\", \"KreisSort\": 8, \"KreisLang\": \"Kreis 8\", \"Nutzung\": \"B\\u00fcro\", \"Leerflaeche\": 334, \"BueroNettofl\": 59241.0, \"BueroLeerProz\": 0.6}, {\"StichtagDatJahr\": \"2014-01-01T00:00:00\", \"QuarSort\": 91, \"QuarLang\": \"Albisrieden\", \"KreisSort\": 9, \"KreisLang\": \"Kreis 9\", \"Nutzung\": \"Lager\", \"Leerflaeche\": 292, \"BueroNettofl\": null, \"BueroLeerProz\": null}, {\"StichtagDatJahr\": \"2014-01-01T00:00:00\", \"QuarSort\": 91, \"QuarLang\": \"Albisrieden\", \"KreisSort\": 9, \"KreisLang\": \"Kreis 9\", \"Nutzung\": \"B\\u00fcro\", \"Leerflaeche\": 4211, \"BueroNettofl\": 110485.0, \"BueroLeerProz\": 3.8}, {\"StichtagDatJahr\": \"2014-01-01T00:00:00\", \"QuarSort\": 91, \"QuarLang\": \"Albisrieden\", \"KreisSort\": 9, \"KreisLang\": \"Kreis 9\", \"Nutzung\": \"Andere\", \"Leerflaeche\": 320, \"BueroNettofl\": null, \"BueroLeerProz\": null}, {\"StichtagDatJahr\": \"2014-01-01T00:00:00\", \"QuarSort\": 92, \"QuarLang\": \"Altstetten\", \"KreisSort\": 9, \"KreisLang\": \"Kreis 9\", \"Nutzung\": \"Werkstatt\", \"Leerflaeche\": 1393, \"BueroNettofl\": null, \"BueroLeerProz\": null}, {\"StichtagDatJahr\": \"2014-01-01T00:00:00\", \"QuarSort\": 92, \"QuarLang\": \"Altstetten\", \"KreisSort\": 9, \"KreisLang\": \"Kreis 9\", \"Nutzung\": \"Lager\", \"Leerflaeche\": 5451, \"BueroNettofl\": null, \"BueroLeerProz\": null}, {\"StichtagDatJahr\": \"2014-01-01T00:00:00\", \"QuarSort\": 92, \"QuarLang\": \"Altstetten\", \"KreisSort\": 9, \"KreisLang\": \"Kreis 9\", \"Nutzung\": \"Verkauf\", \"Leerflaeche\": 144, \"BueroNettofl\": null, \"BueroLeerProz\": null}, {\"StichtagDatJahr\": \"2014-01-01T00:00:00\", \"QuarSort\": 92, \"QuarLang\": \"Altstetten\", \"KreisSort\": 9, \"KreisLang\": \"Kreis 9\", \"Nutzung\": \"B\\u00fcro\", \"Leerflaeche\": 29405, \"BueroNettofl\": 552299.0, \"BueroLeerProz\": 5.3}, {\"StichtagDatJahr\": \"2014-01-01T00:00:00\", \"QuarSort\": 102, \"QuarLang\": \"Wipkingen\", \"KreisSort\": 10, \"KreisLang\": \"Kreis 10\", \"Nutzung\": \"Verkauf\", \"Leerflaeche\": 353, \"BueroNettofl\": null, \"BueroLeerProz\": null}, {\"StichtagDatJahr\": \"2014-01-01T00:00:00\", \"QuarSort\": 102, \"QuarLang\": \"Wipkingen\", \"KreisSort\": 10, \"KreisLang\": \"Kreis 10\", \"Nutzung\": \"B\\u00fcro\", \"Leerflaeche\": 887, \"BueroNettofl\": 56209.0, \"BueroLeerProz\": 1.6}, {\"StichtagDatJahr\": \"2014-01-01T00:00:00\", \"QuarSort\": 111, \"QuarLang\": \"Affoltern\", \"KreisSort\": 11, \"KreisLang\": \"Kreis 11\", \"Nutzung\": \"B\\u00fcro\", \"Leerflaeche\": 1095, \"BueroNettofl\": 21948.0, \"BueroLeerProz\": 5.0}, {\"StichtagDatJahr\": \"2014-01-01T00:00:00\", \"QuarSort\": 115, \"QuarLang\": \"Oerlikon\", \"KreisSort\": 11, \"KreisLang\": \"Kreis 11\", \"Nutzung\": \"Lager\", \"Leerflaeche\": 141, \"BueroNettofl\": null, \"BueroLeerProz\": null}, {\"StichtagDatJahr\": \"2014-01-01T00:00:00\", \"QuarSort\": 115, \"QuarLang\": \"Oerlikon\", \"KreisSort\": 11, \"KreisLang\": \"Kreis 11\", \"Nutzung\": \"Werkstatt\", \"Leerflaeche\": 258, \"BueroNettofl\": null, \"BueroLeerProz\": null}, {\"StichtagDatJahr\": \"2014-01-01T00:00:00\", \"QuarSort\": 115, \"QuarLang\": \"Oerlikon\", \"KreisSort\": 11, \"KreisLang\": \"Kreis 11\", \"Nutzung\": \"B\\u00fcro\", \"Leerflaeche\": 2900, \"BueroNettofl\": 319734.0, \"BueroLeerProz\": 0.9}, {\"StichtagDatJahr\": \"2014-01-01T00:00:00\", \"QuarSort\": 119, \"QuarLang\": \"Seebach\", \"KreisSort\": 11, \"KreisLang\": \"Kreis 11\", \"Nutzung\": \"B\\u00fcro\", \"Leerflaeche\": 25934, \"BueroNettofl\": 483901.0, \"BueroLeerProz\": 5.4}, {\"StichtagDatJahr\": \"2014-01-01T00:00:00\", \"QuarSort\": 119, \"QuarLang\": \"Seebach\", \"KreisSort\": 11, \"KreisLang\": \"Kreis 11\", \"Nutzung\": \"Werkstatt\", \"Leerflaeche\": 637, \"BueroNettofl\": null, \"BueroLeerProz\": null}, {\"StichtagDatJahr\": \"2014-01-01T00:00:00\", \"QuarSort\": 119, \"QuarLang\": \"Seebach\", \"KreisSort\": 11, \"KreisLang\": \"Kreis 11\", \"Nutzung\": \"Verkauf\", \"Leerflaeche\": 586, \"BueroNettofl\": null, \"BueroLeerProz\": null}, {\"StichtagDatJahr\": \"2014-01-01T00:00:00\", \"QuarSort\": 119, \"QuarLang\": \"Seebach\", \"KreisSort\": 11, \"KreisLang\": \"Kreis 11\", \"Nutzung\": \"Lager\", \"Leerflaeche\": 6998, \"BueroNettofl\": null, \"BueroLeerProz\": null}, {\"StichtagDatJahr\": \"2014-01-01T00:00:00\", \"QuarSort\": 121, \"QuarLang\": \"Saatlen\", \"KreisSort\": 12, \"KreisLang\": \"Kreis 12\", \"Nutzung\": \"B\\u00fcro\", \"Leerflaeche\": 252, \"BueroNettofl\": 15098.0, \"BueroLeerProz\": 1.7}, {\"StichtagDatJahr\": \"2014-01-01T00:00:00\", \"QuarSort\": 121, \"QuarLang\": \"Saatlen\", \"KreisSort\": 12, \"KreisLang\": \"Kreis 12\", \"Nutzung\": \"Andere\", \"Leerflaeche\": 156, \"BueroNettofl\": null, \"BueroLeerProz\": null}, {\"StichtagDatJahr\": \"2014-01-01T00:00:00\", \"QuarSort\": 122, \"QuarLang\": \"Schwamendingen-Mitte\", \"KreisSort\": 12, \"KreisLang\": \"Kreis 12\", \"Nutzung\": \"B\\u00fcro\", \"Leerflaeche\": 325, \"BueroNettofl\": 19504.0, \"BueroLeerProz\": 1.7}, {\"StichtagDatJahr\": \"2014-01-01T00:00:00\", \"QuarSort\": 122, \"QuarLang\": \"Schwamendingen-Mitte\", \"KreisSort\": 12, \"KreisLang\": \"Kreis 12\", \"Nutzung\": \"Lager\", \"Leerflaeche\": 384, \"BueroNettofl\": null, \"BueroLeerProz\": null}, {\"StichtagDatJahr\": \"2014-01-01T00:00:00\", \"QuarSort\": 123, \"QuarLang\": \"Hirzenbach\", \"KreisSort\": 12, \"KreisLang\": \"Kreis 12\", \"Nutzung\": \"Lager\", \"Leerflaeche\": 160, \"BueroNettofl\": null, \"BueroLeerProz\": null}, {\"StichtagDatJahr\": \"2015-01-01T00:00:00\", \"QuarSort\": 11, \"QuarLang\": \"Rathaus\", \"KreisSort\": 1, \"KreisLang\": \"Kreis 1\", \"Nutzung\": \"B\\u00fcro\", \"Leerflaeche\": 2113, \"BueroNettofl\": 104589.0, \"BueroLeerProz\": 2.0}, {\"StichtagDatJahr\": \"2015-01-01T00:00:00\", \"QuarSort\": 11, \"QuarLang\": \"Rathaus\", \"KreisSort\": 1, \"KreisLang\": \"Kreis 1\", \"Nutzung\": \"Verkauf\", \"Leerflaeche\": 148, \"BueroNettofl\": null, \"BueroLeerProz\": null}, {\"StichtagDatJahr\": \"2015-01-01T00:00:00\", \"QuarSort\": 12, \"QuarLang\": \"Hochschulen\", \"KreisSort\": 1, \"KreisLang\": \"Kreis 1\", \"Nutzung\": \"B\\u00fcro\", \"Leerflaeche\": 126, \"BueroNettofl\": 196411.0, \"BueroLeerProz\": 0.1}, {\"StichtagDatJahr\": \"2015-01-01T00:00:00\", \"QuarSort\": 13, \"QuarLang\": \"Lindenhof\", \"KreisSort\": 1, \"KreisLang\": \"Kreis 1\", \"Nutzung\": \"Lager\", \"Leerflaeche\": 363, \"BueroNettofl\": null, \"BueroLeerProz\": null}, {\"StichtagDatJahr\": \"2015-01-01T00:00:00\", \"QuarSort\": 13, \"QuarLang\": \"Lindenhof\", \"KreisSort\": 1, \"KreisLang\": \"Kreis 1\", \"Nutzung\": \"B\\u00fcro\", \"Leerflaeche\": 7374, \"BueroNettofl\": 194098.0, \"BueroLeerProz\": 3.8}, {\"StichtagDatJahr\": \"2015-01-01T00:00:00\", \"QuarSort\": 14, \"QuarLang\": \"City\", \"KreisSort\": 1, \"KreisLang\": \"Kreis 1\", \"Nutzung\": \"Verkauf\", \"Leerflaeche\": 2663, \"BueroNettofl\": null, \"BueroLeerProz\": null}, {\"StichtagDatJahr\": \"2015-01-01T00:00:00\", \"QuarSort\": 14, \"QuarLang\": \"City\", \"KreisSort\": 1, \"KreisLang\": \"Kreis 1\", \"Nutzung\": \"B\\u00fcro\", \"Leerflaeche\": 26567, \"BueroNettofl\": 404400.0, \"BueroLeerProz\": 6.6}, {\"StichtagDatJahr\": \"2015-01-01T00:00:00\", \"QuarSort\": 14, \"QuarLang\": \"City\", \"KreisSort\": 1, \"KreisLang\": \"Kreis 1\", \"Nutzung\": \"Lager\", \"Leerflaeche\": 1591, \"BueroNettofl\": null, \"BueroLeerProz\": null}, {\"StichtagDatJahr\": \"2015-01-01T00:00:00\", \"QuarSort\": 21, \"QuarLang\": \"Wollishofen\", \"KreisSort\": 2, \"KreisLang\": \"Kreis 2\", \"Nutzung\": \"Lager\", \"Leerflaeche\": 713, \"BueroNettofl\": null, \"BueroLeerProz\": null}, {\"StichtagDatJahr\": \"2015-01-01T00:00:00\", \"QuarSort\": 21, \"QuarLang\": \"Wollishofen\", \"KreisSort\": 2, \"KreisLang\": \"Kreis 2\", \"Nutzung\": \"B\\u00fcro\", \"Leerflaeche\": 3077, \"BueroNettofl\": 82131.0, \"BueroLeerProz\": 3.7}, {\"StichtagDatJahr\": \"2015-01-01T00:00:00\", \"QuarSort\": 24, \"QuarLang\": \"Enge\", \"KreisSort\": 2, \"KreisLang\": \"Kreis 2\", \"Nutzung\": \"Andere\", \"Leerflaeche\": 116, \"BueroNettofl\": null, \"BueroLeerProz\": null}, {\"StichtagDatJahr\": \"2015-01-01T00:00:00\", \"QuarSort\": 24, \"QuarLang\": \"Enge\", \"KreisSort\": 2, \"KreisLang\": \"Kreis 2\", \"Nutzung\": \"Verkauf\", \"Leerflaeche\": 470, \"BueroNettofl\": null, \"BueroLeerProz\": null}, {\"StichtagDatJahr\": \"2015-01-01T00:00:00\", \"QuarSort\": 24, \"QuarLang\": \"Enge\", \"KreisSort\": 2, \"KreisLang\": \"Kreis 2\", \"Nutzung\": \"Lager\", \"Leerflaeche\": 3076, \"BueroNettofl\": null, \"BueroLeerProz\": null}, {\"StichtagDatJahr\": \"2015-01-01T00:00:00\", \"QuarSort\": 24, \"QuarLang\": \"Enge\", \"KreisSort\": 2, \"KreisLang\": \"Kreis 2\", \"Nutzung\": \"B\\u00fcro\", \"Leerflaeche\": 22895, \"BueroNettofl\": 525165.0, \"BueroLeerProz\": 4.4}, {\"StichtagDatJahr\": \"2015-01-01T00:00:00\", \"QuarSort\": 31, \"QuarLang\": \"Alt-Wiedikon\", \"KreisSort\": 3, \"KreisLang\": \"Kreis 3\", \"Nutzung\": \"Andere\", \"Leerflaeche\": 375, \"BueroNettofl\": null, \"BueroLeerProz\": null}, {\"StichtagDatJahr\": \"2015-01-01T00:00:00\", \"QuarSort\": 31, \"QuarLang\": \"Alt-Wiedikon\", \"KreisSort\": 3, \"KreisLang\": \"Kreis 3\", \"Nutzung\": \"Lager\", \"Leerflaeche\": 6274, \"BueroNettofl\": null, \"BueroLeerProz\": null}, {\"StichtagDatJahr\": \"2015-01-01T00:00:00\", \"QuarSort\": 31, \"QuarLang\": \"Alt-Wiedikon\", \"KreisSort\": 3, \"KreisLang\": \"Kreis 3\", \"Nutzung\": \"B\\u00fcro\", \"Leerflaeche\": 26808, \"BueroNettofl\": 397609.0, \"BueroLeerProz\": 6.7}, {\"StichtagDatJahr\": \"2015-01-01T00:00:00\", \"QuarSort\": 34, \"QuarLang\": \"Sihlfeld\", \"KreisSort\": 3, \"KreisLang\": \"Kreis 3\", \"Nutzung\": \"Lager\", \"Leerflaeche\": 856, \"BueroNettofl\": null, \"BueroLeerProz\": null}, {\"StichtagDatJahr\": \"2015-01-01T00:00:00\", \"QuarSort\": 34, \"QuarLang\": \"Sihlfeld\", \"KreisSort\": 3, \"KreisLang\": \"Kreis 3\", \"Nutzung\": \"B\\u00fcro\", \"Leerflaeche\": 4415, \"BueroNettofl\": 115318.0, \"BueroLeerProz\": 3.8}, {\"StichtagDatJahr\": \"2015-01-01T00:00:00\", \"QuarSort\": 41, \"QuarLang\": \"Werd\", \"KreisSort\": 4, \"KreisLang\": \"Kreis 4\", \"Nutzung\": \"Lager\", \"Leerflaeche\": 155, \"BueroNettofl\": null, \"BueroLeerProz\": null}, {\"StichtagDatJahr\": \"2015-01-01T00:00:00\", \"QuarSort\": 41, \"QuarLang\": \"Werd\", \"KreisSort\": 4, \"KreisLang\": \"Kreis 4\", \"Nutzung\": \"B\\u00fcro\", \"Leerflaeche\": 455, \"BueroNettofl\": 140864.0, \"BueroLeerProz\": 0.3}, {\"StichtagDatJahr\": \"2015-01-01T00:00:00\", \"QuarSort\": 42, \"QuarLang\": \"Langstrasse\", \"KreisSort\": 4, \"KreisLang\": \"Kreis 4\", \"Nutzung\": \"Andere\", \"Leerflaeche\": 78, \"BueroNettofl\": null, \"BueroLeerProz\": null}, {\"StichtagDatJahr\": \"2015-01-01T00:00:00\", \"QuarSort\": 42, \"QuarLang\": \"Langstrasse\", \"KreisSort\": 4, \"KreisLang\": \"Kreis 4\", \"Nutzung\": \"Werkstatt\", \"Leerflaeche\": 395, \"BueroNettofl\": null, \"BueroLeerProz\": null}, {\"StichtagDatJahr\": \"2015-01-01T00:00:00\", \"QuarSort\": 42, \"QuarLang\": \"Langstrasse\", \"KreisSort\": 4, \"KreisLang\": \"Kreis 4\", \"Nutzung\": \"Lager\", \"Leerflaeche\": 3201, \"BueroNettofl\": null, \"BueroLeerProz\": null}, {\"StichtagDatJahr\": \"2015-01-01T00:00:00\", \"QuarSort\": 42, \"QuarLang\": \"Langstrasse\", \"KreisSort\": 4, \"KreisLang\": \"Kreis 4\", \"Nutzung\": \"B\\u00fcro\", \"Leerflaeche\": 1879, \"BueroNettofl\": 335348.0, \"BueroLeerProz\": 0.6}, {\"StichtagDatJahr\": \"2015-01-01T00:00:00\", \"QuarSort\": 44, \"QuarLang\": \"Hard\", \"KreisSort\": 4, \"KreisLang\": \"Kreis 4\", \"Nutzung\": \"Lager\", \"Leerflaeche\": 932, \"BueroNettofl\": null, \"BueroLeerProz\": null}, {\"StichtagDatJahr\": \"2015-01-01T00:00:00\", \"QuarSort\": 44, \"QuarLang\": \"Hard\", \"KreisSort\": 4, \"KreisLang\": \"Kreis 4\", \"Nutzung\": \"B\\u00fcro\", \"Leerflaeche\": 230, \"BueroNettofl\": 59301.0, \"BueroLeerProz\": 0.4}, {\"StichtagDatJahr\": \"2015-01-01T00:00:00\", \"QuarSort\": 51, \"QuarLang\": \"Gewerbeschule\", \"KreisSort\": 5, \"KreisLang\": \"Kreis 5\", \"Nutzung\": \"B\\u00fcro\", \"Leerflaeche\": 1751, \"BueroNettofl\": 248715.0, \"BueroLeerProz\": 0.7}, {\"StichtagDatJahr\": \"2015-01-01T00:00:00\", \"QuarSort\": 51, \"QuarLang\": \"Gewerbeschule\", \"KreisSort\": 5, \"KreisLang\": \"Kreis 5\", \"Nutzung\": \"Lager\", \"Leerflaeche\": 593, \"BueroNettofl\": null, \"BueroLeerProz\": null}, {\"StichtagDatJahr\": \"2015-01-01T00:00:00\", \"QuarSort\": 52, \"QuarLang\": \"Escher Wyss\", \"KreisSort\": 5, \"KreisLang\": \"Kreis 5\", \"Nutzung\": \"Werkstatt\", \"Leerflaeche\": 687, \"BueroNettofl\": null, \"BueroLeerProz\": null}, {\"StichtagDatJahr\": \"2015-01-01T00:00:00\", \"QuarSort\": 52, \"QuarLang\": \"Escher Wyss\", \"KreisSort\": 5, \"KreisLang\": \"Kreis 5\", \"Nutzung\": \"Lager\", \"Leerflaeche\": 7536, \"BueroNettofl\": null, \"BueroLeerProz\": null}, {\"StichtagDatJahr\": \"2015-01-01T00:00:00\", \"QuarSort\": 52, \"QuarLang\": \"Escher Wyss\", \"KreisSort\": 5, \"KreisLang\": \"Kreis 5\", \"Nutzung\": \"Andere\", \"Leerflaeche\": 284, \"BueroNettofl\": null, \"BueroLeerProz\": null}, {\"StichtagDatJahr\": \"2015-01-01T00:00:00\", \"QuarSort\": 52, \"QuarLang\": \"Escher Wyss\", \"KreisSort\": 5, \"KreisLang\": \"Kreis 5\", \"Nutzung\": \"Verkauf\", \"Leerflaeche\": 834, \"BueroNettofl\": null, \"BueroLeerProz\": null}, {\"StichtagDatJahr\": \"2015-01-01T00:00:00\", \"QuarSort\": 52, \"QuarLang\": \"Escher Wyss\", \"KreisSort\": 5, \"KreisLang\": \"Kreis 5\", \"Nutzung\": \"B\\u00fcro\", \"Leerflaeche\": 33224, \"BueroNettofl\": 525070.0, \"BueroLeerProz\": 6.3}, {\"StichtagDatJahr\": \"2015-01-01T00:00:00\", \"QuarSort\": 61, \"QuarLang\": \"Unterstrass\", \"KreisSort\": 6, \"KreisLang\": \"Kreis 6\", \"Nutzung\": \"Verkauf\", \"Leerflaeche\": 250, \"BueroNettofl\": null, \"BueroLeerProz\": null}, {\"StichtagDatJahr\": \"2015-01-01T00:00:00\", \"QuarSort\": 61, \"QuarLang\": \"Unterstrass\", \"KreisSort\": 6, \"KreisLang\": \"Kreis 6\", \"Nutzung\": \"Lager\", \"Leerflaeche\": 772, \"BueroNettofl\": null, \"BueroLeerProz\": null}, {\"StichtagDatJahr\": \"2015-01-01T00:00:00\", \"QuarSort\": 61, \"QuarLang\": \"Unterstrass\", \"KreisSort\": 6, \"KreisLang\": \"Kreis 6\", \"Nutzung\": \"B\\u00fcro\", \"Leerflaeche\": 4226, \"BueroNettofl\": 200429.0, \"BueroLeerProz\": 2.1}, {\"StichtagDatJahr\": \"2015-01-01T00:00:00\", \"QuarSort\": 61, \"QuarLang\": \"Unterstrass\", \"KreisSort\": 6, \"KreisLang\": \"Kreis 6\", \"Nutzung\": \"Andere\", \"Leerflaeche\": 74, \"BueroNettofl\": null, \"BueroLeerProz\": null}, {\"StichtagDatJahr\": \"2015-01-01T00:00:00\", \"QuarSort\": 71, \"QuarLang\": \"Fluntern\", \"KreisSort\": 7, \"KreisLang\": \"Kreis 7\", \"Nutzung\": \"Lager\", \"Leerflaeche\": 66, \"BueroNettofl\": null, \"BueroLeerProz\": null}, {\"StichtagDatJahr\": \"2015-01-01T00:00:00\", \"QuarSort\": 72, \"QuarLang\": \"Hottingen\", \"KreisSort\": 7, \"KreisLang\": \"Kreis 7\", \"Nutzung\": \"Andere\", \"Leerflaeche\": 131, \"BueroNettofl\": null, \"BueroLeerProz\": null}, {\"StichtagDatJahr\": \"2015-01-01T00:00:00\", \"QuarSort\": 72, \"QuarLang\": \"Hottingen\", \"KreisSort\": 7, \"KreisLang\": \"Kreis 7\", \"Nutzung\": \"Lager\", \"Leerflaeche\": 305, \"BueroNettofl\": null, \"BueroLeerProz\": null}, {\"StichtagDatJahr\": \"2015-01-01T00:00:00\", \"QuarSort\": 72, \"QuarLang\": \"Hottingen\", \"KreisSort\": 7, \"KreisLang\": \"Kreis 7\", \"Nutzung\": \"B\\u00fcro\", \"Leerflaeche\": 2594, \"BueroNettofl\": 167754.0, \"BueroLeerProz\": 1.5}, {\"StichtagDatJahr\": \"2015-01-01T00:00:00\", \"QuarSort\": 73, \"QuarLang\": \"Hirslanden\", \"KreisSort\": 7, \"KreisLang\": \"Kreis 7\", \"Nutzung\": \"Werkstatt\", \"Leerflaeche\": 65, \"BueroNettofl\": null, \"BueroLeerProz\": null}, {\"StichtagDatJahr\": \"2015-01-01T00:00:00\", \"QuarSort\": 73, \"QuarLang\": \"Hirslanden\", \"KreisSort\": 7, \"KreisLang\": \"Kreis 7\", \"Nutzung\": \"Lager\", \"Leerflaeche\": 90, \"BueroNettofl\": null, \"BueroLeerProz\": null}, {\"StichtagDatJahr\": \"2015-01-01T00:00:00\", \"QuarSort\": 73, \"QuarLang\": \"Hirslanden\", \"KreisSort\": 7, \"KreisLang\": \"Kreis 7\", \"Nutzung\": \"B\\u00fcro\", \"Leerflaeche\": 519, \"BueroNettofl\": 51787.0, \"BueroLeerProz\": 1.0}, {\"StichtagDatJahr\": \"2015-01-01T00:00:00\", \"QuarSort\": 74, \"QuarLang\": \"Witikon\", \"KreisSort\": 7, \"KreisLang\": \"Kreis 7\", \"Nutzung\": \"Lager\", \"Leerflaeche\": 116, \"BueroNettofl\": null, \"BueroLeerProz\": null}, {\"StichtagDatJahr\": \"2015-01-01T00:00:00\", \"QuarSort\": 81, \"QuarLang\": \"Seefeld\", \"KreisSort\": 8, \"KreisLang\": \"Kreis 8\", \"Nutzung\": \"Verkauf\", \"Leerflaeche\": 153, \"BueroNettofl\": null, \"BueroLeerProz\": null}, {\"StichtagDatJahr\": \"2015-01-01T00:00:00\", \"QuarSort\": 81, \"QuarLang\": \"Seefeld\", \"KreisSort\": 8, \"KreisLang\": \"Kreis 8\", \"Nutzung\": \"Lager\", \"Leerflaeche\": 132, \"BueroNettofl\": null, \"BueroLeerProz\": null}, {\"StichtagDatJahr\": \"2015-01-01T00:00:00\", \"QuarSort\": 81, \"QuarLang\": \"Seefeld\", \"KreisSort\": 8, \"KreisLang\": \"Kreis 8\", \"Nutzung\": \"B\\u00fcro\", \"Leerflaeche\": 9188, \"BueroNettofl\": 168355.0, \"BueroLeerProz\": 5.5}, {\"StichtagDatJahr\": \"2015-01-01T00:00:00\", \"QuarSort\": 82, \"QuarLang\": \"M\\u00fchlebach\", \"KreisSort\": 8, \"KreisLang\": \"Kreis 8\", \"Nutzung\": \"Lager\", \"Leerflaeche\": 927, \"BueroNettofl\": null, \"BueroLeerProz\": null}, {\"StichtagDatJahr\": \"2015-01-01T00:00:00\", \"QuarSort\": 82, \"QuarLang\": \"M\\u00fchlebach\", \"KreisSort\": 8, \"KreisLang\": \"Kreis 8\", \"Nutzung\": \"B\\u00fcro\", \"Leerflaeche\": 3813, \"BueroNettofl\": 169043.0, \"BueroLeerProz\": 2.3}, {\"StichtagDatJahr\": \"2015-01-01T00:00:00\", \"QuarSort\": 83, \"QuarLang\": \"Weinegg\", \"KreisSort\": 8, \"KreisLang\": \"Kreis 8\", \"Nutzung\": \"Lager\", \"Leerflaeche\": 56, \"BueroNettofl\": null, \"BueroLeerProz\": null}, {\"StichtagDatJahr\": \"2015-01-01T00:00:00\", \"QuarSort\": 83, \"QuarLang\": \"Weinegg\", \"KreisSort\": 8, \"KreisLang\": \"Kreis 8\", \"Nutzung\": \"B\\u00fcro\", \"Leerflaeche\": 858, \"BueroNettofl\": 60362.0, \"BueroLeerProz\": 1.4}, {\"StichtagDatJahr\": \"2015-01-01T00:00:00\", \"QuarSort\": 91, \"QuarLang\": \"Albisrieden\", \"KreisSort\": 9, \"KreisLang\": \"Kreis 9\", \"Nutzung\": \"Verkauf\", \"Leerflaeche\": 171, \"BueroNettofl\": null, \"BueroLeerProz\": null}, {\"StichtagDatJahr\": \"2015-01-01T00:00:00\", \"QuarSort\": 91, \"QuarLang\": \"Albisrieden\", \"KreisSort\": 9, \"KreisLang\": \"Kreis 9\", \"Nutzung\": \"Lager\", \"Leerflaeche\": 56, \"BueroNettofl\": null, \"BueroLeerProz\": null}, {\"StichtagDatJahr\": \"2015-01-01T00:00:00\", \"QuarSort\": 91, \"QuarLang\": \"Albisrieden\", \"KreisSort\": 9, \"KreisLang\": \"Kreis 9\", \"Nutzung\": \"B\\u00fcro\", \"Leerflaeche\": 2559, \"BueroNettofl\": 110471.0, \"BueroLeerProz\": 2.3}, {\"StichtagDatJahr\": \"2015-01-01T00:00:00\", \"QuarSort\": 91, \"QuarLang\": \"Albisrieden\", \"KreisSort\": 9, \"KreisLang\": \"Kreis 9\", \"Nutzung\": \"Andere\", \"Leerflaeche\": 596, \"BueroNettofl\": null, \"BueroLeerProz\": null}, {\"StichtagDatJahr\": \"2015-01-01T00:00:00\", \"QuarSort\": 92, \"QuarLang\": \"Altstetten\", \"KreisSort\": 9, \"KreisLang\": \"Kreis 9\", \"Nutzung\": \"B\\u00fcro\", \"Leerflaeche\": 31264, \"BueroNettofl\": 555449.0, \"BueroLeerProz\": 5.6}, {\"StichtagDatJahr\": \"2015-01-01T00:00:00\", \"QuarSort\": 92, \"QuarLang\": \"Altstetten\", \"KreisSort\": 9, \"KreisLang\": \"Kreis 9\", \"Nutzung\": \"Werkstatt\", \"Leerflaeche\": 1834, \"BueroNettofl\": null, \"BueroLeerProz\": null}, {\"StichtagDatJahr\": \"2015-01-01T00:00:00\", \"QuarSort\": 92, \"QuarLang\": \"Altstetten\", \"KreisSort\": 9, \"KreisLang\": \"Kreis 9\", \"Nutzung\": \"Lager\", \"Leerflaeche\": 4926, \"BueroNettofl\": null, \"BueroLeerProz\": null}, {\"StichtagDatJahr\": \"2015-01-01T00:00:00\", \"QuarSort\": 92, \"QuarLang\": \"Altstetten\", \"KreisSort\": 9, \"KreisLang\": \"Kreis 9\", \"Nutzung\": \"Verkauf\", \"Leerflaeche\": 555, \"BueroNettofl\": null, \"BueroLeerProz\": null}, {\"StichtagDatJahr\": \"2015-01-01T00:00:00\", \"QuarSort\": 92, \"QuarLang\": \"Altstetten\", \"KreisSort\": 9, \"KreisLang\": \"Kreis 9\", \"Nutzung\": \"Andere\", \"Leerflaeche\": 649, \"BueroNettofl\": null, \"BueroLeerProz\": null}, {\"StichtagDatJahr\": \"2015-01-01T00:00:00\", \"QuarSort\": 101, \"QuarLang\": \"H\\u00f6ngg\", \"KreisSort\": 10, \"KreisLang\": \"Kreis 10\", \"Nutzung\": \"B\\u00fcro\", \"Leerflaeche\": 220, \"BueroNettofl\": 200460.0, \"BueroLeerProz\": 0.1}, {\"StichtagDatJahr\": \"2015-01-01T00:00:00\", \"QuarSort\": 111, \"QuarLang\": \"Affoltern\", \"KreisSort\": 11, \"KreisLang\": \"Kreis 11\", \"Nutzung\": \"B\\u00fcro\", \"Leerflaeche\": 200, \"BueroNettofl\": 22035.0, \"BueroLeerProz\": 0.9}, {\"StichtagDatJahr\": \"2015-01-01T00:00:00\", \"QuarSort\": 115, \"QuarLang\": \"Oerlikon\", \"KreisSort\": 11, \"KreisLang\": \"Kreis 11\", \"Nutzung\": \"Werkstatt\", \"Leerflaeche\": 164, \"BueroNettofl\": null, \"BueroLeerProz\": null}, {\"StichtagDatJahr\": \"2015-01-01T00:00:00\", \"QuarSort\": 115, \"QuarLang\": \"Oerlikon\", \"KreisSort\": 11, \"KreisLang\": \"Kreis 11\", \"Nutzung\": \"Verkauf\", \"Leerflaeche\": 200, \"BueroNettofl\": null, \"BueroLeerProz\": null}, {\"StichtagDatJahr\": \"2015-01-01T00:00:00\", \"QuarSort\": 115, \"QuarLang\": \"Oerlikon\", \"KreisSort\": 11, \"KreisLang\": \"Kreis 11\", \"Nutzung\": \"Lager\", \"Leerflaeche\": 552, \"BueroNettofl\": null, \"BueroLeerProz\": null}, {\"StichtagDatJahr\": \"2015-01-01T00:00:00\", \"QuarSort\": 115, \"QuarLang\": \"Oerlikon\", \"KreisSort\": 11, \"KreisLang\": \"Kreis 11\", \"Nutzung\": \"B\\u00fcro\", \"Leerflaeche\": 1909, \"BueroNettofl\": 310687.0, \"BueroLeerProz\": 0.6}, {\"StichtagDatJahr\": \"2015-01-01T00:00:00\", \"QuarSort\": 115, \"QuarLang\": \"Oerlikon\", \"KreisSort\": 11, \"KreisLang\": \"Kreis 11\", \"Nutzung\": \"Andere\", \"Leerflaeche\": 276, \"BueroNettofl\": null, \"BueroLeerProz\": null}, {\"StichtagDatJahr\": \"2015-01-01T00:00:00\", \"QuarSort\": 119, \"QuarLang\": \"Seebach\", \"KreisSort\": 11, \"KreisLang\": \"Kreis 11\", \"Nutzung\": \"B\\u00fcro\", \"Leerflaeche\": 18692, \"BueroNettofl\": 517623.0, \"BueroLeerProz\": 3.6}, {\"StichtagDatJahr\": \"2015-01-01T00:00:00\", \"QuarSort\": 119, \"QuarLang\": \"Seebach\", \"KreisSort\": 11, \"KreisLang\": \"Kreis 11\", \"Nutzung\": \"Lager\", \"Leerflaeche\": 3393, \"BueroNettofl\": null, \"BueroLeerProz\": null}, {\"StichtagDatJahr\": \"2015-01-01T00:00:00\", \"QuarSort\": 119, \"QuarLang\": \"Seebach\", \"KreisSort\": 11, \"KreisLang\": \"Kreis 11\", \"Nutzung\": \"Verkauf\", \"Leerflaeche\": 586, \"BueroNettofl\": null, \"BueroLeerProz\": null}, {\"StichtagDatJahr\": \"2015-01-01T00:00:00\", \"QuarSort\": 121, \"QuarLang\": \"Saatlen\", \"KreisSort\": 12, \"KreisLang\": \"Kreis 12\", \"Nutzung\": \"B\\u00fcro\", \"Leerflaeche\": 514, \"BueroNettofl\": 14257.0, \"BueroLeerProz\": 3.6}, {\"StichtagDatJahr\": \"2015-01-01T00:00:00\", \"QuarSort\": 122, \"QuarLang\": \"Schwamendingen-Mitte\", \"KreisSort\": 12, \"KreisLang\": \"Kreis 12\", \"Nutzung\": \"Lager\", \"Leerflaeche\": 114, \"BueroNettofl\": null, \"BueroLeerProz\": null}, {\"StichtagDatJahr\": \"2015-01-01T00:00:00\", \"QuarSort\": 122, \"QuarLang\": \"Schwamendingen-Mitte\", \"KreisSort\": 12, \"KreisLang\": \"Kreis 12\", \"Nutzung\": \"B\\u00fcro\", \"Leerflaeche\": 431, \"BueroNettofl\": 19504.0, \"BueroLeerProz\": 2.2}, {\"StichtagDatJahr\": \"2016-01-01T00:00:00\", \"QuarSort\": 11, \"QuarLang\": \"Rathaus\", \"KreisSort\": 1, \"KreisLang\": \"Kreis 1\", \"Nutzung\": \"Verkauf\", \"Leerflaeche\": 924, \"BueroNettofl\": null, \"BueroLeerProz\": null}, {\"StichtagDatJahr\": \"2016-01-01T00:00:00\", \"QuarSort\": 11, \"QuarLang\": \"Rathaus\", \"KreisSort\": 1, \"KreisLang\": \"Kreis 1\", \"Nutzung\": \"Lager\", \"Leerflaeche\": 13, \"BueroNettofl\": null, \"BueroLeerProz\": null}, {\"StichtagDatJahr\": \"2016-01-01T00:00:00\", \"QuarSort\": 11, \"QuarLang\": \"Rathaus\", \"KreisSort\": 1, \"KreisLang\": \"Kreis 1\", \"Nutzung\": \"B\\u00fcro\", \"Leerflaeche\": 1315, \"BueroNettofl\": 104589.0, \"BueroLeerProz\": 1.3}, {\"StichtagDatJahr\": \"2016-01-01T00:00:00\", \"QuarSort\": 11, \"QuarLang\": \"Rathaus\", \"KreisSort\": 1, \"KreisLang\": \"Kreis 1\", \"Nutzung\": \"Andere\", \"Leerflaeche\": 9, \"BueroNettofl\": null, \"BueroLeerProz\": null}, {\"StichtagDatJahr\": \"2016-01-01T00:00:00\", \"QuarSort\": 12, \"QuarLang\": \"Hochschulen\", \"KreisSort\": 1, \"KreisLang\": \"Kreis 1\", \"Nutzung\": \"B\\u00fcro\", \"Leerflaeche\": 340, \"BueroNettofl\": 195855.0, \"BueroLeerProz\": 0.2}, {\"StichtagDatJahr\": \"2016-01-01T00:00:00\", \"QuarSort\": 13, \"QuarLang\": \"Lindenhof\", \"KreisSort\": 1, \"KreisLang\": \"Kreis 1\", \"Nutzung\": \"B\\u00fcro\", \"Leerflaeche\": 7725, \"BueroNettofl\": 194098.0, \"BueroLeerProz\": 4.0}, {\"StichtagDatJahr\": \"2016-01-01T00:00:00\", \"QuarSort\": 13, \"QuarLang\": \"Lindenhof\", \"KreisSort\": 1, \"KreisLang\": \"Kreis 1\", \"Nutzung\": \"Verkauf\", \"Leerflaeche\": 160, \"BueroNettofl\": null, \"BueroLeerProz\": null}, {\"StichtagDatJahr\": \"2016-01-01T00:00:00\", \"QuarSort\": 13, \"QuarLang\": \"Lindenhof\", \"KreisSort\": 1, \"KreisLang\": \"Kreis 1\", \"Nutzung\": \"Lager\", \"Leerflaeche\": 175, \"BueroNettofl\": null, \"BueroLeerProz\": null}, {\"StichtagDatJahr\": \"2016-01-01T00:00:00\", \"QuarSort\": 14, \"QuarLang\": \"City\", \"KreisSort\": 1, \"KreisLang\": \"Kreis 1\", \"Nutzung\": \"Verkauf\", \"Leerflaeche\": 441, \"BueroNettofl\": null, \"BueroLeerProz\": null}, {\"StichtagDatJahr\": \"2016-01-01T00:00:00\", \"QuarSort\": 14, \"QuarLang\": \"City\", \"KreisSort\": 1, \"KreisLang\": \"Kreis 1\", \"Nutzung\": \"Lager\", \"Leerflaeche\": 672, \"BueroNettofl\": null, \"BueroLeerProz\": null}, {\"StichtagDatJahr\": \"2016-01-01T00:00:00\", \"QuarSort\": 14, \"QuarLang\": \"City\", \"KreisSort\": 1, \"KreisLang\": \"Kreis 1\", \"Nutzung\": \"B\\u00fcro\", \"Leerflaeche\": 20427, \"BueroNettofl\": 404400.0, \"BueroLeerProz\": 5.1}, {\"StichtagDatJahr\": \"2016-01-01T00:00:00\", \"QuarSort\": 21, \"QuarLang\": \"Wollishofen\", \"KreisSort\": 2, \"KreisLang\": \"Kreis 2\", \"Nutzung\": \"Andere\", \"Leerflaeche\": 116, \"BueroNettofl\": null, \"BueroLeerProz\": null}, {\"StichtagDatJahr\": \"2016-01-01T00:00:00\", \"QuarSort\": 21, \"QuarLang\": \"Wollishofen\", \"KreisSort\": 2, \"KreisLang\": \"Kreis 2\", \"Nutzung\": \"Lager\", \"Leerflaeche\": 1726, \"BueroNettofl\": null, \"BueroLeerProz\": null}, {\"StichtagDatJahr\": \"2016-01-01T00:00:00\", \"QuarSort\": 21, \"QuarLang\": \"Wollishofen\", \"KreisSort\": 2, \"KreisLang\": \"Kreis 2\", \"Nutzung\": \"B\\u00fcro\", \"Leerflaeche\": 3471, \"BueroNettofl\": 81972.0, \"BueroLeerProz\": 4.2}, {\"StichtagDatJahr\": \"2016-01-01T00:00:00\", \"QuarSort\": 24, \"QuarLang\": \"Enge\", \"KreisSort\": 2, \"KreisLang\": \"Kreis 2\", \"Nutzung\": \"Andere\", \"Leerflaeche\": 724, \"BueroNettofl\": null, \"BueroLeerProz\": null}, {\"StichtagDatJahr\": \"2016-01-01T00:00:00\", \"QuarSort\": 24, \"QuarLang\": \"Enge\", \"KreisSort\": 2, \"KreisLang\": \"Kreis 2\", \"Nutzung\": \"Verkauf\", \"Leerflaeche\": 402, \"BueroNettofl\": null, \"BueroLeerProz\": null}, {\"StichtagDatJahr\": \"2016-01-01T00:00:00\", \"QuarSort\": 24, \"QuarLang\": \"Enge\", \"KreisSort\": 2, \"KreisLang\": \"Kreis 2\", \"Nutzung\": \"Lager\", \"Leerflaeche\": 2044, \"BueroNettofl\": null, \"BueroLeerProz\": null}, {\"StichtagDatJahr\": \"2016-01-01T00:00:00\", \"QuarSort\": 24, \"QuarLang\": \"Enge\", \"KreisSort\": 2, \"KreisLang\": \"Kreis 2\", \"Nutzung\": \"B\\u00fcro\", \"Leerflaeche\": 10956, \"BueroNettofl\": 525165.0, \"BueroLeerProz\": 2.1}, {\"StichtagDatJahr\": \"2016-01-01T00:00:00\", \"QuarSort\": 31, \"QuarLang\": \"Alt-Wiedikon\", \"KreisSort\": 3, \"KreisLang\": \"Kreis 3\", \"Nutzung\": \"Lager\", \"Leerflaeche\": 1223, \"BueroNettofl\": null, \"BueroLeerProz\": null}, {\"StichtagDatJahr\": \"2016-01-01T00:00:00\", \"QuarSort\": 31, \"QuarLang\": \"Alt-Wiedikon\", \"KreisSort\": 3, \"KreisLang\": \"Kreis 3\", \"Nutzung\": \"B\\u00fcro\", \"Leerflaeche\": 18231, \"BueroNettofl\": 421591.0, \"BueroLeerProz\": 4.3}, {\"StichtagDatJahr\": \"2016-01-01T00:00:00\", \"QuarSort\": 31, \"QuarLang\": \"Alt-Wiedikon\", \"KreisSort\": 3, \"KreisLang\": \"Kreis 3\", \"Nutzung\": \"Andere\", \"Leerflaeche\": 87, \"BueroNettofl\": null, \"BueroLeerProz\": null}, {\"StichtagDatJahr\": \"2016-01-01T00:00:00\", \"QuarSort\": 31, \"QuarLang\": \"Alt-Wiedikon\", \"KreisSort\": 3, \"KreisLang\": \"Kreis 3\", \"Nutzung\": \"Werkstatt\", \"Leerflaeche\": 200, \"BueroNettofl\": null, \"BueroLeerProz\": null}, {\"StichtagDatJahr\": \"2016-01-01T00:00:00\", \"QuarSort\": 34, \"QuarLang\": \"Sihlfeld\", \"KreisSort\": 3, \"KreisLang\": \"Kreis 3\", \"Nutzung\": \"Andere\", \"Leerflaeche\": 340, \"BueroNettofl\": null, \"BueroLeerProz\": null}, {\"StichtagDatJahr\": \"2016-01-01T00:00:00\", \"QuarSort\": 34, \"QuarLang\": \"Sihlfeld\", \"KreisSort\": 3, \"KreisLang\": \"Kreis 3\", \"Nutzung\": \"Lager\", \"Leerflaeche\": 947, \"BueroNettofl\": null, \"BueroLeerProz\": null}, {\"StichtagDatJahr\": \"2016-01-01T00:00:00\", \"QuarSort\": 34, \"QuarLang\": \"Sihlfeld\", \"KreisSort\": 3, \"KreisLang\": \"Kreis 3\", \"Nutzung\": \"B\\u00fcro\", \"Leerflaeche\": 1565, \"BueroNettofl\": 114986.0, \"BueroLeerProz\": 1.4}, {\"StichtagDatJahr\": \"2016-01-01T00:00:00\", \"QuarSort\": 41, \"QuarLang\": \"Werd\", \"KreisSort\": 4, \"KreisLang\": \"Kreis 4\", \"Nutzung\": \"Lager\", \"Leerflaeche\": 1076, \"BueroNettofl\": null, \"BueroLeerProz\": null}, {\"StichtagDatJahr\": \"2016-01-01T00:00:00\", \"QuarSort\": 41, \"QuarLang\": \"Werd\", \"KreisSort\": 4, \"KreisLang\": \"Kreis 4\", \"Nutzung\": \"B\\u00fcro\", \"Leerflaeche\": 6532, \"BueroNettofl\": 140864.0, \"BueroLeerProz\": 4.6}, {\"StichtagDatJahr\": \"2016-01-01T00:00:00\", \"QuarSort\": 42, \"QuarLang\": \"Langstrasse\", \"KreisSort\": 4, \"KreisLang\": \"Kreis 4\", \"Nutzung\": \"B\\u00fcro\", \"Leerflaeche\": 1799, \"BueroNettofl\": 343886.0, \"BueroLeerProz\": 0.5}, {\"StichtagDatJahr\": \"2016-01-01T00:00:00\", \"QuarSort\": 42, \"QuarLang\": \"Langstrasse\", \"KreisSort\": 4, \"KreisLang\": \"Kreis 4\", \"Nutzung\": \"Verkauf\", \"Leerflaeche\": 60, \"BueroNettofl\": null, \"BueroLeerProz\": null}, {\"StichtagDatJahr\": \"2016-01-01T00:00:00\", \"QuarSort\": 42, \"QuarLang\": \"Langstrasse\", \"KreisSort\": 4, \"KreisLang\": \"Kreis 4\", \"Nutzung\": \"Lager\", \"Leerflaeche\": 1870, \"BueroNettofl\": null, \"BueroLeerProz\": null}, {\"StichtagDatJahr\": \"2016-01-01T00:00:00\", \"QuarSort\": 44, \"QuarLang\": \"Hard\", \"KreisSort\": 4, \"KreisLang\": \"Kreis 4\", \"Nutzung\": \"Verkauf\", \"Leerflaeche\": 43, \"BueroNettofl\": null, \"BueroLeerProz\": null}, {\"StichtagDatJahr\": \"2016-01-01T00:00:00\", \"QuarSort\": 44, \"QuarLang\": \"Hard\", \"KreisSort\": 4, \"KreisLang\": \"Kreis 4\", \"Nutzung\": \"Lager\", \"Leerflaeche\": 203, \"BueroNettofl\": null, \"BueroLeerProz\": null}, {\"StichtagDatJahr\": \"2016-01-01T00:00:00\", \"QuarSort\": 51, \"QuarLang\": \"Gewerbeschule\", \"KreisSort\": 5, \"KreisLang\": \"Kreis 5\", \"Nutzung\": \"Lager\", \"Leerflaeche\": 416, \"BueroNettofl\": null, \"BueroLeerProz\": null}, {\"StichtagDatJahr\": \"2016-01-01T00:00:00\", \"QuarSort\": 51, \"QuarLang\": \"Gewerbeschule\", \"KreisSort\": 5, \"KreisLang\": \"Kreis 5\", \"Nutzung\": \"B\\u00fcro\", \"Leerflaeche\": 3761, \"BueroNettofl\": 248715.0, \"BueroLeerProz\": 1.5}, {\"StichtagDatJahr\": \"2016-01-01T00:00:00\", \"QuarSort\": 52, \"QuarLang\": \"Escher Wyss\", \"KreisSort\": 5, \"KreisLang\": \"Kreis 5\", \"Nutzung\": \"B\\u00fcro\", \"Leerflaeche\": 13262, \"BueroNettofl\": 532577.0, \"BueroLeerProz\": 2.5}, {\"StichtagDatJahr\": \"2016-01-01T00:00:00\", \"QuarSort\": 52, \"QuarLang\": \"Escher Wyss\", \"KreisSort\": 5, \"KreisLang\": \"Kreis 5\", \"Nutzung\": \"Verkauf\", \"Leerflaeche\": 143, \"BueroNettofl\": null, \"BueroLeerProz\": null}, {\"StichtagDatJahr\": \"2016-01-01T00:00:00\", \"QuarSort\": 61, \"QuarLang\": \"Unterstrass\", \"KreisSort\": 6, \"KreisLang\": \"Kreis 6\", \"Nutzung\": \"B\\u00fcro\", \"Leerflaeche\": 2577, \"BueroNettofl\": 199585.0, \"BueroLeerProz\": 1.3}, {\"StichtagDatJahr\": \"2016-01-01T00:00:00\", \"QuarSort\": 61, \"QuarLang\": \"Unterstrass\", \"KreisSort\": 6, \"KreisLang\": \"Kreis 6\", \"Nutzung\": \"Andere\", \"Leerflaeche\": 303, \"BueroNettofl\": null, \"BueroLeerProz\": null}, {\"StichtagDatJahr\": \"2016-01-01T00:00:00\", \"QuarSort\": 61, \"QuarLang\": \"Unterstrass\", \"KreisSort\": 6, \"KreisLang\": \"Kreis 6\", \"Nutzung\": \"Lager\", \"Leerflaeche\": 511, \"BueroNettofl\": null, \"BueroLeerProz\": null}, {\"StichtagDatJahr\": \"2016-01-01T00:00:00\", \"QuarSort\": 63, \"QuarLang\": \"Oberstrass\", \"KreisSort\": 6, \"KreisLang\": \"Kreis 6\", \"Nutzung\": \"Lager\", \"Leerflaeche\": 245, \"BueroNettofl\": null, \"BueroLeerProz\": null}, {\"StichtagDatJahr\": \"2016-01-01T00:00:00\", \"QuarSort\": 63, \"QuarLang\": \"Oberstrass\", \"KreisSort\": 6, \"KreisLang\": \"Kreis 6\", \"Nutzung\": \"B\\u00fcro\", \"Leerflaeche\": 90, \"BueroNettofl\": 307556.0, \"BueroLeerProz\": 0.0}, {\"StichtagDatJahr\": \"2016-01-01T00:00:00\", \"QuarSort\": 71, \"QuarLang\": \"Fluntern\", \"KreisSort\": 7, \"KreisLang\": \"Kreis 7\", \"Nutzung\": \"B\\u00fcro\", \"Leerflaeche\": 500, \"BueroNettofl\": 124545.0, \"BueroLeerProz\": 0.4}, {\"StichtagDatJahr\": \"2016-01-01T00:00:00\", \"QuarSort\": 72, \"QuarLang\": \"Hottingen\", \"KreisSort\": 7, \"KreisLang\": \"Kreis 7\", \"Nutzung\": \"Verkauf\", \"Leerflaeche\": 115, \"BueroNettofl\": null, \"BueroLeerProz\": null}, {\"StichtagDatJahr\": \"2016-01-01T00:00:00\", \"QuarSort\": 72, \"QuarLang\": \"Hottingen\", \"KreisSort\": 7, \"KreisLang\": \"Kreis 7\", \"Nutzung\": \"Lager\", \"Leerflaeche\": 559, \"BueroNettofl\": null, \"BueroLeerProz\": null}, {\"StichtagDatJahr\": \"2016-01-01T00:00:00\", \"QuarSort\": 72, \"QuarLang\": \"Hottingen\", \"KreisSort\": 7, \"KreisLang\": \"Kreis 7\", \"Nutzung\": \"B\\u00fcro\", \"Leerflaeche\": 1288, \"BueroNettofl\": 167754.0, \"BueroLeerProz\": 0.8}, {\"StichtagDatJahr\": \"2016-01-01T00:00:00\", \"QuarSort\": 73, \"QuarLang\": \"Hirslanden\", \"KreisSort\": 7, \"KreisLang\": \"Kreis 7\", \"Nutzung\": \"Werkstatt\", \"Leerflaeche\": 200, \"BueroNettofl\": null, \"BueroLeerProz\": null}, {\"StichtagDatJahr\": \"2016-01-01T00:00:00\", \"QuarSort\": 73, \"QuarLang\": \"Hirslanden\", \"KreisSort\": 7, \"KreisLang\": \"Kreis 7\", \"Nutzung\": \"Lager\", \"Leerflaeche\": 238, \"BueroNettofl\": null, \"BueroLeerProz\": null}, {\"StichtagDatJahr\": \"2016-01-01T00:00:00\", \"QuarSort\": 73, \"QuarLang\": \"Hirslanden\", \"KreisSort\": 7, \"KreisLang\": \"Kreis 7\", \"Nutzung\": \"B\\u00fcro\", \"Leerflaeche\": 1320, \"BueroNettofl\": 51787.0, \"BueroLeerProz\": 2.5}, {\"StichtagDatJahr\": \"2016-01-01T00:00:00\", \"QuarSort\": 74, \"QuarLang\": \"Witikon\", \"KreisSort\": 7, \"KreisLang\": \"Kreis 7\", \"Nutzung\": \"B\\u00fcro\", \"Leerflaeche\": 116, \"BueroNettofl\": 11523.0, \"BueroLeerProz\": 1.0}, {\"StichtagDatJahr\": \"2016-01-01T00:00:00\", \"QuarSort\": 81, \"QuarLang\": \"Seefeld\", \"KreisSort\": 8, \"KreisLang\": \"Kreis 8\", \"Nutzung\": \"Lager\", \"Leerflaeche\": 529, \"BueroNettofl\": null, \"BueroLeerProz\": null}, {\"StichtagDatJahr\": \"2016-01-01T00:00:00\", \"QuarSort\": 81, \"QuarLang\": \"Seefeld\", \"KreisSort\": 8, \"KreisLang\": \"Kreis 8\", \"Nutzung\": \"B\\u00fcro\", \"Leerflaeche\": 6074, \"BueroNettofl\": 168259.0, \"BueroLeerProz\": 3.6}, {\"StichtagDatJahr\": \"2016-01-01T00:00:00\", \"QuarSort\": 82, \"QuarLang\": \"M\\u00fchlebach\", \"KreisSort\": 8, \"KreisLang\": \"Kreis 8\", \"Nutzung\": \"Verkauf\", \"Leerflaeche\": 118, \"BueroNettofl\": null, \"BueroLeerProz\": null}, {\"StichtagDatJahr\": \"2016-01-01T00:00:00\", \"QuarSort\": 82, \"QuarLang\": \"M\\u00fchlebach\", \"KreisSort\": 8, \"KreisLang\": \"Kreis 8\", \"Nutzung\": \"Werkstatt\", \"Leerflaeche\": 221, \"BueroNettofl\": null, \"BueroLeerProz\": null}, {\"StichtagDatJahr\": \"2016-01-01T00:00:00\", \"QuarSort\": 82, \"QuarLang\": \"M\\u00fchlebach\", \"KreisSort\": 8, \"KreisLang\": \"Kreis 8\", \"Nutzung\": \"Lager\", \"Leerflaeche\": 294, \"BueroNettofl\": null, \"BueroLeerProz\": null}, {\"StichtagDatJahr\": \"2016-01-01T00:00:00\", \"QuarSort\": 82, \"QuarLang\": \"M\\u00fchlebach\", \"KreisSort\": 8, \"KreisLang\": \"Kreis 8\", \"Nutzung\": \"B\\u00fcro\", \"Leerflaeche\": 4288, \"BueroNettofl\": 169669.0, \"BueroLeerProz\": 2.5}, {\"StichtagDatJahr\": \"2016-01-01T00:00:00\", \"QuarSort\": 83, \"QuarLang\": \"Weinegg\", \"KreisSort\": 8, \"KreisLang\": \"Kreis 8\", \"Nutzung\": \"B\\u00fcro\", \"Leerflaeche\": 770, \"BueroNettofl\": 63825.0, \"BueroLeerProz\": 1.2}, {\"StichtagDatJahr\": \"2016-01-01T00:00:00\", \"QuarSort\": 91, \"QuarLang\": \"Albisrieden\", \"KreisSort\": 9, \"KreisLang\": \"Kreis 9\", \"Nutzung\": \"Lager\", \"Leerflaeche\": 781, \"BueroNettofl\": null, \"BueroLeerProz\": null}, {\"StichtagDatJahr\": \"2016-01-01T00:00:00\", \"QuarSort\": 91, \"QuarLang\": \"Albisrieden\", \"KreisSort\": 9, \"KreisLang\": \"Kreis 9\", \"Nutzung\": \"Verkauf\", \"Leerflaeche\": 27, \"BueroNettofl\": null, \"BueroLeerProz\": null}, {\"StichtagDatJahr\": \"2016-01-01T00:00:00\", \"QuarSort\": 91, \"QuarLang\": \"Albisrieden\", \"KreisSort\": 9, \"KreisLang\": \"Kreis 9\", \"Nutzung\": \"B\\u00fcro\", \"Leerflaeche\": 3820, \"BueroNettofl\": 109349.0, \"BueroLeerProz\": 3.5}, {\"StichtagDatJahr\": \"2016-01-01T00:00:00\", \"QuarSort\": 92, \"QuarLang\": \"Altstetten\", \"KreisSort\": 9, \"KreisLang\": \"Kreis 9\", \"Nutzung\": \"Andere\", \"Leerflaeche\": 86, \"BueroNettofl\": null, \"BueroLeerProz\": null}, {\"StichtagDatJahr\": \"2016-01-01T00:00:00\", \"QuarSort\": 92, \"QuarLang\": \"Altstetten\", \"KreisSort\": 9, \"KreisLang\": \"Kreis 9\", \"Nutzung\": \"B\\u00fcro\", \"Leerflaeche\": 35262, \"BueroNettofl\": 555807.0, \"BueroLeerProz\": 6.3}, {\"StichtagDatJahr\": \"2016-01-01T00:00:00\", \"QuarSort\": 92, \"QuarLang\": \"Altstetten\", \"KreisSort\": 9, \"KreisLang\": \"Kreis 9\", \"Nutzung\": \"Werkstatt\", \"Leerflaeche\": 2125, \"BueroNettofl\": null, \"BueroLeerProz\": null}, {\"StichtagDatJahr\": \"2016-01-01T00:00:00\", \"QuarSort\": 92, \"QuarLang\": \"Altstetten\", \"KreisSort\": 9, \"KreisLang\": \"Kreis 9\", \"Nutzung\": \"Lager\", \"Leerflaeche\": 10103, \"BueroNettofl\": null, \"BueroLeerProz\": null}, {\"StichtagDatJahr\": \"2016-01-01T00:00:00\", \"QuarSort\": 102, \"QuarLang\": \"Wipkingen\", \"KreisSort\": 10, \"KreisLang\": \"Kreis 10\", \"Nutzung\": \"Verkauf\", \"Leerflaeche\": 90, \"BueroNettofl\": null, \"BueroLeerProz\": null}, {\"StichtagDatJahr\": \"2016-01-01T00:00:00\", \"QuarSort\": 102, \"QuarLang\": \"Wipkingen\", \"KreisSort\": 10, \"KreisLang\": \"Kreis 10\", \"Nutzung\": \"B\\u00fcro\", \"Leerflaeche\": 387, \"BueroNettofl\": 57641.0, \"BueroLeerProz\": 0.7}, {\"StichtagDatJahr\": \"2016-01-01T00:00:00\", \"QuarSort\": 111, \"QuarLang\": \"Affoltern\", \"KreisSort\": 11, \"KreisLang\": \"Kreis 11\", \"Nutzung\": \"B\\u00fcro\", \"Leerflaeche\": 1651, \"BueroNettofl\": 21615.0, \"BueroLeerProz\": 7.6}, {\"StichtagDatJahr\": \"2016-01-01T00:00:00\", \"QuarSort\": 115, \"QuarLang\": \"Oerlikon\", \"KreisSort\": 11, \"KreisLang\": \"Kreis 11\", \"Nutzung\": \"Andere\", \"Leerflaeche\": 380, \"BueroNettofl\": null, \"BueroLeerProz\": null}, {\"StichtagDatJahr\": \"2016-01-01T00:00:00\", \"QuarSort\": 115, \"QuarLang\": \"Oerlikon\", \"KreisSort\": 11, \"KreisLang\": \"Kreis 11\", \"Nutzung\": \"Werkstatt\", \"Leerflaeche\": 218, \"BueroNettofl\": null, \"BueroLeerProz\": null}, {\"StichtagDatJahr\": \"2016-01-01T00:00:00\", \"QuarSort\": 115, \"QuarLang\": \"Oerlikon\", \"KreisSort\": 11, \"KreisLang\": \"Kreis 11\", \"Nutzung\": \"Verkauf\", \"Leerflaeche\": 476, \"BueroNettofl\": null, \"BueroLeerProz\": null}, {\"StichtagDatJahr\": \"2016-01-01T00:00:00\", \"QuarSort\": 115, \"QuarLang\": \"Oerlikon\", \"KreisSort\": 11, \"KreisLang\": \"Kreis 11\", \"Nutzung\": \"Lager\", \"Leerflaeche\": 2520, \"BueroNettofl\": null, \"BueroLeerProz\": null}, {\"StichtagDatJahr\": \"2016-01-01T00:00:00\", \"QuarSort\": 115, \"QuarLang\": \"Oerlikon\", \"KreisSort\": 11, \"KreisLang\": \"Kreis 11\", \"Nutzung\": \"B\\u00fcro\", \"Leerflaeche\": 10150, \"BueroNettofl\": 311198.0, \"BueroLeerProz\": 3.3}, {\"StichtagDatJahr\": \"2016-01-01T00:00:00\", \"QuarSort\": 119, \"QuarLang\": \"Seebach\", \"KreisSort\": 11, \"KreisLang\": \"Kreis 11\", \"Nutzung\": \"B\\u00fcro\", \"Leerflaeche\": 34152, \"BueroNettofl\": 522820.0, \"BueroLeerProz\": 6.5}, {\"StichtagDatJahr\": \"2016-01-01T00:00:00\", \"QuarSort\": 119, \"QuarLang\": \"Seebach\", \"KreisSort\": 11, \"KreisLang\": \"Kreis 11\", \"Nutzung\": \"Lager\", \"Leerflaeche\": 9150, \"BueroNettofl\": null, \"BueroLeerProz\": null}, {\"StichtagDatJahr\": \"2016-01-01T00:00:00\", \"QuarSort\": 121, \"QuarLang\": \"Saatlen\", \"KreisSort\": 12, \"KreisLang\": \"Kreis 12\", \"Nutzung\": \"Verkauf\", \"Leerflaeche\": 96, \"BueroNettofl\": null, \"BueroLeerProz\": null}, {\"StichtagDatJahr\": \"2016-01-01T00:00:00\", \"QuarSort\": 121, \"QuarLang\": \"Saatlen\", \"KreisSort\": 12, \"KreisLang\": \"Kreis 12\", \"Nutzung\": \"B\\u00fcro\", \"Leerflaeche\": 510, \"BueroNettofl\": 14839.0, \"BueroLeerProz\": 3.4}, {\"StichtagDatJahr\": \"2016-01-01T00:00:00\", \"QuarSort\": 121, \"QuarLang\": \"Saatlen\", \"KreisSort\": 12, \"KreisLang\": \"Kreis 12\", \"Nutzung\": \"Andere\", \"Leerflaeche\": 156, \"BueroNettofl\": null, \"BueroLeerProz\": null}, {\"StichtagDatJahr\": \"2016-01-01T00:00:00\", \"QuarSort\": 121, \"QuarLang\": \"Saatlen\", \"KreisSort\": 12, \"KreisLang\": \"Kreis 12\", \"Nutzung\": \"Lager\", \"Leerflaeche\": 103, \"BueroNettofl\": null, \"BueroLeerProz\": null}, {\"StichtagDatJahr\": \"2016-01-01T00:00:00\", \"QuarSort\": 122, \"QuarLang\": \"Schwamendingen-Mitte\", \"KreisSort\": 12, \"KreisLang\": \"Kreis 12\", \"Nutzung\": \"B\\u00fcro\", \"Leerflaeche\": 688, \"BueroNettofl\": 19504.0, \"BueroLeerProz\": 3.5}, {\"StichtagDatJahr\": \"2016-01-01T00:00:00\", \"QuarSort\": 122, \"QuarLang\": \"Schwamendingen-Mitte\", \"KreisSort\": 12, \"KreisLang\": \"Kreis 12\", \"Nutzung\": \"Lager\", \"Leerflaeche\": 369, \"BueroNettofl\": null, \"BueroLeerProz\": null}, {\"StichtagDatJahr\": \"2017-01-01T00:00:00\", \"QuarSort\": 11, \"QuarLang\": \"Rathaus\", \"KreisSort\": 1, \"KreisLang\": \"Kreis 1\", \"Nutzung\": \"B\\u00fcro\", \"Leerflaeche\": 1940, \"BueroNettofl\": 104549.0, \"BueroLeerProz\": 1.9}, {\"StichtagDatJahr\": \"2017-01-01T00:00:00\", \"QuarSort\": 12, \"QuarLang\": \"Hochschulen\", \"KreisSort\": 1, \"KreisLang\": \"Kreis 1\", \"Nutzung\": \"Verkauf\", \"Leerflaeche\": 352, \"BueroNettofl\": null, \"BueroLeerProz\": null}, {\"StichtagDatJahr\": \"2017-01-01T00:00:00\", \"QuarSort\": 12, \"QuarLang\": \"Hochschulen\", \"KreisSort\": 1, \"KreisLang\": \"Kreis 1\", \"Nutzung\": \"Lager\", \"Leerflaeche\": 38, \"BueroNettofl\": null, \"BueroLeerProz\": null}, {\"StichtagDatJahr\": \"2017-01-01T00:00:00\", \"QuarSort\": 12, \"QuarLang\": \"Hochschulen\", \"KreisSort\": 1, \"KreisLang\": \"Kreis 1\", \"Nutzung\": \"B\\u00fcro\", \"Leerflaeche\": 797, \"BueroNettofl\": 195855.0, \"BueroLeerProz\": 0.4}, {\"StichtagDatJahr\": \"2017-01-01T00:00:00\", \"QuarSort\": 13, \"QuarLang\": \"Lindenhof\", \"KreisSort\": 1, \"KreisLang\": \"Kreis 1\", \"Nutzung\": \"Verkauf\", \"Leerflaeche\": 1794, \"BueroNettofl\": null, \"BueroLeerProz\": null}, {\"StichtagDatJahr\": \"2017-01-01T00:00:00\", \"QuarSort\": 13, \"QuarLang\": \"Lindenhof\", \"KreisSort\": 1, \"KreisLang\": \"Kreis 1\", \"Nutzung\": \"Lager\", \"Leerflaeche\": 352, \"BueroNettofl\": null, \"BueroLeerProz\": null}, {\"StichtagDatJahr\": \"2017-01-01T00:00:00\", \"QuarSort\": 13, \"QuarLang\": \"Lindenhof\", \"KreisSort\": 1, \"KreisLang\": \"Kreis 1\", \"Nutzung\": \"B\\u00fcro\", \"Leerflaeche\": 8158, \"BueroNettofl\": 194098.0, \"BueroLeerProz\": 4.2}, {\"StichtagDatJahr\": \"2017-01-01T00:00:00\", \"QuarSort\": 14, \"QuarLang\": \"City\", \"KreisSort\": 1, \"KreisLang\": \"Kreis 1\", \"Nutzung\": \"Lager\", \"Leerflaeche\": 2425, \"BueroNettofl\": null, \"BueroLeerProz\": null}, {\"StichtagDatJahr\": \"2017-01-01T00:00:00\", \"QuarSort\": 14, \"QuarLang\": \"City\", \"KreisSort\": 1, \"KreisLang\": \"Kreis 1\", \"Nutzung\": \"Verkauf\", \"Leerflaeche\": 214, \"BueroNettofl\": null, \"BueroLeerProz\": null}, {\"StichtagDatJahr\": \"2017-01-01T00:00:00\", \"QuarSort\": 14, \"QuarLang\": \"City\", \"KreisSort\": 1, \"KreisLang\": \"Kreis 1\", \"Nutzung\": \"B\\u00fcro\", \"Leerflaeche\": 18640, \"BueroNettofl\": 404400.0, \"BueroLeerProz\": 4.6}, {\"StichtagDatJahr\": \"2017-01-01T00:00:00\", \"QuarSort\": 21, \"QuarLang\": \"Wollishofen\", \"KreisSort\": 2, \"KreisLang\": \"Kreis 2\", \"Nutzung\": \"Werkstatt\", \"Leerflaeche\": 781, \"BueroNettofl\": null, \"BueroLeerProz\": null}, {\"StichtagDatJahr\": \"2017-01-01T00:00:00\", \"QuarSort\": 21, \"QuarLang\": \"Wollishofen\", \"KreisSort\": 2, \"KreisLang\": \"Kreis 2\", \"Nutzung\": \"Verkauf\", \"Leerflaeche\": 461, \"BueroNettofl\": null, \"BueroLeerProz\": null}, {\"StichtagDatJahr\": \"2017-01-01T00:00:00\", \"QuarSort\": 21, \"QuarLang\": \"Wollishofen\", \"KreisSort\": 2, \"KreisLang\": \"Kreis 2\", \"Nutzung\": \"Lager\", \"Leerflaeche\": 761, \"BueroNettofl\": null, \"BueroLeerProz\": null}, {\"StichtagDatJahr\": \"2017-01-01T00:00:00\", \"QuarSort\": 21, \"QuarLang\": \"Wollishofen\", \"KreisSort\": 2, \"KreisLang\": \"Kreis 2\", \"Nutzung\": \"B\\u00fcro\", \"Leerflaeche\": 2224, \"BueroNettofl\": 83133.0, \"BueroLeerProz\": 2.7}, {\"StichtagDatJahr\": \"2017-01-01T00:00:00\", \"QuarSort\": 24, \"QuarLang\": \"Enge\", \"KreisSort\": 2, \"KreisLang\": \"Kreis 2\", \"Nutzung\": \"Andere\", \"Leerflaeche\": 955, \"BueroNettofl\": null, \"BueroLeerProz\": null}, {\"StichtagDatJahr\": \"2017-01-01T00:00:00\", \"QuarSort\": 24, \"QuarLang\": \"Enge\", \"KreisSort\": 2, \"KreisLang\": \"Kreis 2\", \"Nutzung\": \"Lager\", \"Leerflaeche\": 3213, \"BueroNettofl\": null, \"BueroLeerProz\": null}, {\"StichtagDatJahr\": \"2017-01-01T00:00:00\", \"QuarSort\": 24, \"QuarLang\": \"Enge\", \"KreisSort\": 2, \"KreisLang\": \"Kreis 2\", \"Nutzung\": \"B\\u00fcro\", \"Leerflaeche\": 15318, \"BueroNettofl\": 523274.0, \"BueroLeerProz\": 2.9}, {\"StichtagDatJahr\": \"2017-01-01T00:00:00\", \"QuarSort\": 24, \"QuarLang\": \"Enge\", \"KreisSort\": 2, \"KreisLang\": \"Kreis 2\", \"Nutzung\": \"Verkauf\", \"Leerflaeche\": 1460, \"BueroNettofl\": null, \"BueroLeerProz\": null}, {\"StichtagDatJahr\": \"2017-01-01T00:00:00\", \"QuarSort\": 31, \"QuarLang\": \"Alt-Wiedikon\", \"KreisSort\": 3, \"KreisLang\": \"Kreis 3\", \"Nutzung\": \"Andere\", \"Leerflaeche\": 1043, \"BueroNettofl\": null, \"BueroLeerProz\": null}, {\"StichtagDatJahr\": \"2017-01-01T00:00:00\", \"QuarSort\": 31, \"QuarLang\": \"Alt-Wiedikon\", \"KreisSort\": 3, \"KreisLang\": \"Kreis 3\", \"Nutzung\": \"Werkstatt\", \"Leerflaeche\": 410, \"BueroNettofl\": null, \"BueroLeerProz\": null}, {\"StichtagDatJahr\": \"2017-01-01T00:00:00\", \"QuarSort\": 31, \"QuarLang\": \"Alt-Wiedikon\", \"KreisSort\": 3, \"KreisLang\": \"Kreis 3\", \"Nutzung\": \"Verkauf\", \"Leerflaeche\": 383, \"BueroNettofl\": null, \"BueroLeerProz\": null}, {\"StichtagDatJahr\": \"2017-01-01T00:00:00\", \"QuarSort\": 31, \"QuarLang\": \"Alt-Wiedikon\", \"KreisSort\": 3, \"KreisLang\": \"Kreis 3\", \"Nutzung\": \"Lager\", \"Leerflaeche\": 1706, \"BueroNettofl\": null, \"BueroLeerProz\": null}, {\"StichtagDatJahr\": \"2017-01-01T00:00:00\", \"QuarSort\": 31, \"QuarLang\": \"Alt-Wiedikon\", \"KreisSort\": 3, \"KreisLang\": \"Kreis 3\", \"Nutzung\": \"B\\u00fcro\", \"Leerflaeche\": 12785, \"BueroNettofl\": 422588.0, \"BueroLeerProz\": 3.0}, {\"StichtagDatJahr\": \"2017-01-01T00:00:00\", \"QuarSort\": 34, \"QuarLang\": \"Sihlfeld\", \"KreisSort\": 3, \"KreisLang\": \"Kreis 3\", \"Nutzung\": \"Andere\", \"Leerflaeche\": 52, \"BueroNettofl\": null, \"BueroLeerProz\": null}, {\"StichtagDatJahr\": \"2017-01-01T00:00:00\", \"QuarSort\": 34, \"QuarLang\": \"Sihlfeld\", \"KreisSort\": 3, \"KreisLang\": \"Kreis 3\", \"Nutzung\": \"Werkstatt\", \"Leerflaeche\": 481, \"BueroNettofl\": null, \"BueroLeerProz\": null}, {\"StichtagDatJahr\": \"2017-01-01T00:00:00\", \"QuarSort\": 34, \"QuarLang\": \"Sihlfeld\", \"KreisSort\": 3, \"KreisLang\": \"Kreis 3\", \"Nutzung\": \"Lager\", \"Leerflaeche\": 1673, \"BueroNettofl\": null, \"BueroLeerProz\": null}, {\"StichtagDatJahr\": \"2017-01-01T00:00:00\", \"QuarSort\": 34, \"QuarLang\": \"Sihlfeld\", \"KreisSort\": 3, \"KreisLang\": \"Kreis 3\", \"Nutzung\": \"B\\u00fcro\", \"Leerflaeche\": 1530, \"BueroNettofl\": 114730.0, \"BueroLeerProz\": 1.3}, {\"StichtagDatJahr\": \"2017-01-01T00:00:00\", \"QuarSort\": 41, \"QuarLang\": \"Werd\", \"KreisSort\": 4, \"KreisLang\": \"Kreis 4\", \"Nutzung\": \"Lager\", \"Leerflaeche\": 84, \"BueroNettofl\": null, \"BueroLeerProz\": null}, {\"StichtagDatJahr\": \"2017-01-01T00:00:00\", \"QuarSort\": 41, \"QuarLang\": \"Werd\", \"KreisSort\": 4, \"KreisLang\": \"Kreis 4\", \"Nutzung\": \"B\\u00fcro\", \"Leerflaeche\": 2536, \"BueroNettofl\": 141166.0, \"BueroLeerProz\": 1.8}, {\"StichtagDatJahr\": \"2017-01-01T00:00:00\", \"QuarSort\": 42, \"QuarLang\": \"Langstrasse\", \"KreisSort\": 4, \"KreisLang\": \"Kreis 4\", \"Nutzung\": \"Werkstatt\", \"Leerflaeche\": 184, \"BueroNettofl\": null, \"BueroLeerProz\": null}, {\"StichtagDatJahr\": \"2017-01-01T00:00:00\", \"QuarSort\": 42, \"QuarLang\": \"Langstrasse\", \"KreisSort\": 4, \"KreisLang\": \"Kreis 4\", \"Nutzung\": \"Verkauf\", \"Leerflaeche\": 40, \"BueroNettofl\": null, \"BueroLeerProz\": null}, {\"StichtagDatJahr\": \"2017-01-01T00:00:00\", \"QuarSort\": 42, \"QuarLang\": \"Langstrasse\", \"KreisSort\": 4, \"KreisLang\": \"Kreis 4\", \"Nutzung\": \"Lager\", \"Leerflaeche\": 1900, \"BueroNettofl\": null, \"BueroLeerProz\": null}, {\"StichtagDatJahr\": \"2017-01-01T00:00:00\", \"QuarSort\": 42, \"QuarLang\": \"Langstrasse\", \"KreisSort\": 4, \"KreisLang\": \"Kreis 4\", \"Nutzung\": \"B\\u00fcro\", \"Leerflaeche\": 3574, \"BueroNettofl\": 344552.0, \"BueroLeerProz\": 1.0}, {\"StichtagDatJahr\": \"2017-01-01T00:00:00\", \"QuarSort\": 44, \"QuarLang\": \"Hard\", \"KreisSort\": 4, \"KreisLang\": \"Kreis 4\", \"Nutzung\": \"Werkstatt\", \"Leerflaeche\": 11000, \"BueroNettofl\": null, \"BueroLeerProz\": null}, {\"StichtagDatJahr\": \"2017-01-01T00:00:00\", \"QuarSort\": 44, \"QuarLang\": \"Hard\", \"KreisSort\": 4, \"KreisLang\": \"Kreis 4\", \"Nutzung\": \"Lager\", \"Leerflaeche\": 962, \"BueroNettofl\": null, \"BueroLeerProz\": null}, {\"StichtagDatJahr\": \"2017-01-01T00:00:00\", \"QuarSort\": 44, \"QuarLang\": \"Hard\", \"KreisSort\": 4, \"KreisLang\": \"Kreis 4\", \"Nutzung\": \"B\\u00fcro\", \"Leerflaeche\": 2581, \"BueroNettofl\": 58808.0, \"BueroLeerProz\": 4.4}, {\"StichtagDatJahr\": \"2017-01-01T00:00:00\", \"QuarSort\": 51, \"QuarLang\": \"Gewerbeschule\", \"KreisSort\": 5, \"KreisLang\": \"Kreis 5\", \"Nutzung\": \"Verkauf\", \"Leerflaeche\": 394, \"BueroNettofl\": null, \"BueroLeerProz\": null}, {\"StichtagDatJahr\": \"2017-01-01T00:00:00\", \"QuarSort\": 51, \"QuarLang\": \"Gewerbeschule\", \"KreisSort\": 5, \"KreisLang\": \"Kreis 5\", \"Nutzung\": \"Lager\", \"Leerflaeche\": 1129, \"BueroNettofl\": null, \"BueroLeerProz\": null}, {\"StichtagDatJahr\": \"2017-01-01T00:00:00\", \"QuarSort\": 51, \"QuarLang\": \"Gewerbeschule\", \"KreisSort\": 5, \"KreisLang\": \"Kreis 5\", \"Nutzung\": \"B\\u00fcro\", \"Leerflaeche\": 379, \"BueroNettofl\": 248715.0, \"BueroLeerProz\": 0.2}, {\"StichtagDatJahr\": \"2017-01-01T00:00:00\", \"QuarSort\": 52, \"QuarLang\": \"Escher Wyss\", \"KreisSort\": 5, \"KreisLang\": \"Kreis 5\", \"Nutzung\": \"Andere\", \"Leerflaeche\": 116, \"BueroNettofl\": null, \"BueroLeerProz\": null}, {\"StichtagDatJahr\": \"2017-01-01T00:00:00\", \"QuarSort\": 52, \"QuarLang\": \"Escher Wyss\", \"KreisSort\": 5, \"KreisLang\": \"Kreis 5\", \"Nutzung\": \"Werkstatt\", \"Leerflaeche\": 375, \"BueroNettofl\": null, \"BueroLeerProz\": null}, {\"StichtagDatJahr\": \"2017-01-01T00:00:00\", \"QuarSort\": 52, \"QuarLang\": \"Escher Wyss\", \"KreisSort\": 5, \"KreisLang\": \"Kreis 5\", \"Nutzung\": \"Lager\", \"Leerflaeche\": 308, \"BueroNettofl\": null, \"BueroLeerProz\": null}, {\"StichtagDatJahr\": \"2017-01-01T00:00:00\", \"QuarSort\": 52, \"QuarLang\": \"Escher Wyss\", \"KreisSort\": 5, \"KreisLang\": \"Kreis 5\", \"Nutzung\": \"B\\u00fcro\", \"Leerflaeche\": 3212, \"BueroNettofl\": 533325.0, \"BueroLeerProz\": 0.6}, {\"StichtagDatJahr\": \"2017-01-01T00:00:00\", \"QuarSort\": 61, \"QuarLang\": \"Unterstrass\", \"KreisSort\": 6, \"KreisLang\": \"Kreis 6\", \"Nutzung\": \"Verkauf\", \"Leerflaeche\": 288, \"BueroNettofl\": null, \"BueroLeerProz\": null}, {\"StichtagDatJahr\": \"2017-01-01T00:00:00\", \"QuarSort\": 61, \"QuarLang\": \"Unterstrass\", \"KreisSort\": 6, \"KreisLang\": \"Kreis 6\", \"Nutzung\": \"B\\u00fcro\", \"Leerflaeche\": 2860, \"BueroNettofl\": 200233.0, \"BueroLeerProz\": 1.4}, {\"StichtagDatJahr\": \"2017-01-01T00:00:00\", \"QuarSort\": 61, \"QuarLang\": \"Unterstrass\", \"KreisSort\": 6, \"KreisLang\": \"Kreis 6\", \"Nutzung\": \"Lager\", \"Leerflaeche\": 979, \"BueroNettofl\": null, \"BueroLeerProz\": null}, {\"StichtagDatJahr\": \"2017-01-01T00:00:00\", \"QuarSort\": 61, \"QuarLang\": \"Unterstrass\", \"KreisSort\": 6, \"KreisLang\": \"Kreis 6\", \"Nutzung\": \"Andere\", \"Leerflaeche\": 154, \"BueroNettofl\": null, \"BueroLeerProz\": null}, {\"StichtagDatJahr\": \"2017-01-01T00:00:00\", \"QuarSort\": 63, \"QuarLang\": \"Oberstrass\", \"KreisSort\": 6, \"KreisLang\": \"Kreis 6\", \"Nutzung\": \"Andere\", \"Leerflaeche\": 164, \"BueroNettofl\": null, \"BueroLeerProz\": null}, {\"StichtagDatJahr\": \"2017-01-01T00:00:00\", \"QuarSort\": 63, \"QuarLang\": \"Oberstrass\", \"KreisSort\": 6, \"KreisLang\": \"Kreis 6\", \"Nutzung\": \"Lager\", \"Leerflaeche\": 258, \"BueroNettofl\": null, \"BueroLeerProz\": null}, {\"StichtagDatJahr\": \"2017-01-01T00:00:00\", \"QuarSort\": 63, \"QuarLang\": \"Oberstrass\", \"KreisSort\": 6, \"KreisLang\": \"Kreis 6\", \"Nutzung\": \"B\\u00fcro\", \"Leerflaeche\": 1101, \"BueroNettofl\": 307556.0, \"BueroLeerProz\": 0.4}, {\"StichtagDatJahr\": \"2017-01-01T00:00:00\", \"QuarSort\": 71, \"QuarLang\": \"Fluntern\", \"KreisSort\": 7, \"KreisLang\": \"Kreis 7\", \"Nutzung\": \"B\\u00fcro\", \"Leerflaeche\": 557, \"BueroNettofl\": 117610.0, \"BueroLeerProz\": 0.5}, {\"StichtagDatJahr\": \"2017-01-01T00:00:00\", \"QuarSort\": 72, \"QuarLang\": \"Hottingen\", \"KreisSort\": 7, \"KreisLang\": \"Kreis 7\", \"Nutzung\": \"Lager\", \"Leerflaeche\": 254, \"BueroNettofl\": null, \"BueroLeerProz\": null}, {\"StichtagDatJahr\": \"2017-01-01T00:00:00\", \"QuarSort\": 72, \"QuarLang\": \"Hottingen\", \"KreisSort\": 7, \"KreisLang\": \"Kreis 7\", \"Nutzung\": \"B\\u00fcro\", \"Leerflaeche\": 2159, \"BueroNettofl\": 167841.0, \"BueroLeerProz\": 1.3}, {\"StichtagDatJahr\": \"2017-01-01T00:00:00\", \"QuarSort\": 73, \"QuarLang\": \"Hirslanden\", \"KreisSort\": 7, \"KreisLang\": \"Kreis 7\", \"Nutzung\": \"Lager\", \"Leerflaeche\": 378, \"BueroNettofl\": null, \"BueroLeerProz\": null}, {\"StichtagDatJahr\": \"2017-01-01T00:00:00\", \"QuarSort\": 73, \"QuarLang\": \"Hirslanden\", \"KreisSort\": 7, \"KreisLang\": \"Kreis 7\", \"Nutzung\": \"B\\u00fcro\", \"Leerflaeche\": 1159, \"BueroNettofl\": 51694.0, \"BueroLeerProz\": 2.2}, {\"StichtagDatJahr\": \"2017-01-01T00:00:00\", \"QuarSort\": 74, \"QuarLang\": \"Witikon\", \"KreisSort\": 7, \"KreisLang\": \"Kreis 7\", \"Nutzung\": \"Verkauf\", \"Leerflaeche\": 190, \"BueroNettofl\": null, \"BueroLeerProz\": null}, {\"StichtagDatJahr\": \"2017-01-01T00:00:00\", \"QuarSort\": 81, \"QuarLang\": \"Seefeld\", \"KreisSort\": 8, \"KreisLang\": \"Kreis 8\", \"Nutzung\": \"Verkauf\", \"Leerflaeche\": 206, \"BueroNettofl\": null, \"BueroLeerProz\": null}, {\"StichtagDatJahr\": \"2017-01-01T00:00:00\", \"QuarSort\": 81, \"QuarLang\": \"Seefeld\", \"KreisSort\": 8, \"KreisLang\": \"Kreis 8\", \"Nutzung\": \"Lager\", \"Leerflaeche\": 561, \"BueroNettofl\": null, \"BueroLeerProz\": null}, {\"StichtagDatJahr\": \"2017-01-01T00:00:00\", \"QuarSort\": 81, \"QuarLang\": \"Seefeld\", \"KreisSort\": 8, \"KreisLang\": \"Kreis 8\", \"Nutzung\": \"B\\u00fcro\", \"Leerflaeche\": 5585, \"BueroNettofl\": 167184.0, \"BueroLeerProz\": 3.3}, {\"StichtagDatJahr\": \"2017-01-01T00:00:00\", \"QuarSort\": 82, \"QuarLang\": \"M\\u00fchlebach\", \"KreisSort\": 8, \"KreisLang\": \"Kreis 8\", \"Nutzung\": \"Lager\", \"Leerflaeche\": 398, \"BueroNettofl\": null, \"BueroLeerProz\": null}, {\"StichtagDatJahr\": \"2017-01-01T00:00:00\", \"QuarSort\": 82, \"QuarLang\": \"M\\u00fchlebach\", \"KreisSort\": 8, \"KreisLang\": \"Kreis 8\", \"Nutzung\": \"B\\u00fcro\", \"Leerflaeche\": 4914, \"BueroNettofl\": 169810.0, \"BueroLeerProz\": 2.9}, {\"StichtagDatJahr\": \"2017-01-01T00:00:00\", \"QuarSort\": 83, \"QuarLang\": \"Weinegg\", \"KreisSort\": 8, \"KreisLang\": \"Kreis 8\", \"Nutzung\": \"B\\u00fcro\", \"Leerflaeche\": 566, \"BueroNettofl\": 63838.0, \"BueroLeerProz\": 0.9}, {\"StichtagDatJahr\": \"2017-01-01T00:00:00\", \"QuarSort\": 91, \"QuarLang\": \"Albisrieden\", \"KreisSort\": 9, \"KreisLang\": \"Kreis 9\", \"Nutzung\": \"Andere\", \"Leerflaeche\": 280, \"BueroNettofl\": null, \"BueroLeerProz\": null}, {\"StichtagDatJahr\": \"2017-01-01T00:00:00\", \"QuarSort\": 91, \"QuarLang\": \"Albisrieden\", \"KreisSort\": 9, \"KreisLang\": \"Kreis 9\", \"Nutzung\": \"Lager\", \"Leerflaeche\": 1673, \"BueroNettofl\": null, \"BueroLeerProz\": null}, {\"StichtagDatJahr\": \"2017-01-01T00:00:00\", \"QuarSort\": 91, \"QuarLang\": \"Albisrieden\", \"KreisSort\": 9, \"KreisLang\": \"Kreis 9\", \"Nutzung\": \"B\\u00fcro\", \"Leerflaeche\": 6127, \"BueroNettofl\": 110172.0, \"BueroLeerProz\": 5.6}, {\"StichtagDatJahr\": \"2017-01-01T00:00:00\", \"QuarSort\": 92, \"QuarLang\": \"Altstetten\", \"KreisSort\": 9, \"KreisLang\": \"Kreis 9\", \"Nutzung\": \"Andere\", \"Leerflaeche\": 1058, \"BueroNettofl\": null, \"BueroLeerProz\": null}, {\"StichtagDatJahr\": \"2017-01-01T00:00:00\", \"QuarSort\": 92, \"QuarLang\": \"Altstetten\", \"KreisSort\": 9, \"KreisLang\": \"Kreis 9\", \"Nutzung\": \"Werkstatt\", \"Leerflaeche\": 1520, \"BueroNettofl\": null, \"BueroLeerProz\": null}, {\"StichtagDatJahr\": \"2017-01-01T00:00:00\", \"QuarSort\": 92, \"QuarLang\": \"Altstetten\", \"KreisSort\": 9, \"KreisLang\": \"Kreis 9\", \"Nutzung\": \"Verkauf\", \"Leerflaeche\": 1888, \"BueroNettofl\": null, \"BueroLeerProz\": null}, {\"StichtagDatJahr\": \"2017-01-01T00:00:00\", \"QuarSort\": 92, \"QuarLang\": \"Altstetten\", \"KreisSort\": 9, \"KreisLang\": \"Kreis 9\", \"Nutzung\": \"Lager\", \"Leerflaeche\": 8155, \"BueroNettofl\": null, \"BueroLeerProz\": null}, {\"StichtagDatJahr\": \"2017-01-01T00:00:00\", \"QuarSort\": 92, \"QuarLang\": \"Altstetten\", \"KreisSort\": 9, \"KreisLang\": \"Kreis 9\", \"Nutzung\": \"B\\u00fcro\", \"Leerflaeche\": 23399, \"BueroNettofl\": 568259.0, \"BueroLeerProz\": 4.1}, {\"StichtagDatJahr\": \"2017-01-01T00:00:00\", \"QuarSort\": 101, \"QuarLang\": \"H\\u00f6ngg\", \"KreisSort\": 10, \"KreisLang\": \"Kreis 10\", \"Nutzung\": \"Andere\", \"Leerflaeche\": 450, \"BueroNettofl\": null, \"BueroLeerProz\": null}, {\"StichtagDatJahr\": \"2017-01-01T00:00:00\", \"QuarSort\": 101, \"QuarLang\": \"H\\u00f6ngg\", \"KreisSort\": 10, \"KreisLang\": \"Kreis 10\", \"Nutzung\": \"Lager\", \"Leerflaeche\": 14, \"BueroNettofl\": null, \"BueroLeerProz\": null}, {\"StichtagDatJahr\": \"2017-01-01T00:00:00\", \"QuarSort\": 102, \"QuarLang\": \"Wipkingen\", \"KreisSort\": 10, \"KreisLang\": \"Kreis 10\", \"Nutzung\": \"Verkauf\", \"Leerflaeche\": 193, \"BueroNettofl\": null, \"BueroLeerProz\": null}, {\"StichtagDatJahr\": \"2017-01-01T00:00:00\", \"QuarSort\": 102, \"QuarLang\": \"Wipkingen\", \"KreisSort\": 10, \"KreisLang\": \"Kreis 10\", \"Nutzung\": \"Lager\", \"Leerflaeche\": 400, \"BueroNettofl\": null, \"BueroLeerProz\": null}, {\"StichtagDatJahr\": \"2017-01-01T00:00:00\", \"QuarSort\": 102, \"QuarLang\": \"Wipkingen\", \"KreisSort\": 10, \"KreisLang\": \"Kreis 10\", \"Nutzung\": \"B\\u00fcro\", \"Leerflaeche\": 285, \"BueroNettofl\": 57641.0, \"BueroLeerProz\": 0.5}, {\"StichtagDatJahr\": \"2017-01-01T00:00:00\", \"QuarSort\": 111, \"QuarLang\": \"Affoltern\", \"KreisSort\": 11, \"KreisLang\": \"Kreis 11\", \"Nutzung\": \"Andere\", \"Leerflaeche\": 180, \"BueroNettofl\": null, \"BueroLeerProz\": null}, {\"StichtagDatJahr\": \"2017-01-01T00:00:00\", \"QuarSort\": 111, \"QuarLang\": \"Affoltern\", \"KreisSort\": 11, \"KreisLang\": \"Kreis 11\", \"Nutzung\": \"Lager\", \"Leerflaeche\": 980, \"BueroNettofl\": null, \"BueroLeerProz\": null}, {\"StichtagDatJahr\": \"2017-01-01T00:00:00\", \"QuarSort\": 111, \"QuarLang\": \"Affoltern\", \"KreisSort\": 11, \"KreisLang\": \"Kreis 11\", \"Nutzung\": \"B\\u00fcro\", \"Leerflaeche\": 546, \"BueroNettofl\": 21928.0, \"BueroLeerProz\": 2.5}, {\"StichtagDatJahr\": \"2017-01-01T00:00:00\", \"QuarSort\": 115, \"QuarLang\": \"Oerlikon\", \"KreisSort\": 11, \"KreisLang\": \"Kreis 11\", \"Nutzung\": \"Werkstatt\", \"Leerflaeche\": 245, \"BueroNettofl\": null, \"BueroLeerProz\": null}, {\"StichtagDatJahr\": \"2017-01-01T00:00:00\", \"QuarSort\": 115, \"QuarLang\": \"Oerlikon\", \"KreisSort\": 11, \"KreisLang\": \"Kreis 11\", \"Nutzung\": \"Lager\", \"Leerflaeche\": 2085, \"BueroNettofl\": null, \"BueroLeerProz\": null}, {\"StichtagDatJahr\": \"2017-01-01T00:00:00\", \"QuarSort\": 115, \"QuarLang\": \"Oerlikon\", \"KreisSort\": 11, \"KreisLang\": \"Kreis 11\", \"Nutzung\": \"B\\u00fcro\", \"Leerflaeche\": 5104, \"BueroNettofl\": 312158.0, \"BueroLeerProz\": 1.6}, {\"StichtagDatJahr\": \"2017-01-01T00:00:00\", \"QuarSort\": 115, \"QuarLang\": \"Oerlikon\", \"KreisSort\": 11, \"KreisLang\": \"Kreis 11\", \"Nutzung\": \"Andere\", \"Leerflaeche\": 431, \"BueroNettofl\": null, \"BueroLeerProz\": null}, {\"StichtagDatJahr\": \"2017-01-01T00:00:00\", \"QuarSort\": 115, \"QuarLang\": \"Oerlikon\", \"KreisSort\": 11, \"KreisLang\": \"Kreis 11\", \"Nutzung\": \"Verkauf\", \"Leerflaeche\": 1784, \"BueroNettofl\": null, \"BueroLeerProz\": null}, {\"StichtagDatJahr\": \"2017-01-01T00:00:00\", \"QuarSort\": 119, \"QuarLang\": \"Seebach\", \"KreisSort\": 11, \"KreisLang\": \"Kreis 11\", \"Nutzung\": \"Lager\", \"Leerflaeche\": 8236, \"BueroNettofl\": null, \"BueroLeerProz\": null}, {\"StichtagDatJahr\": \"2017-01-01T00:00:00\", \"QuarSort\": 119, \"QuarLang\": \"Seebach\", \"KreisSort\": 11, \"KreisLang\": \"Kreis 11\", \"Nutzung\": \"Verkauf\", \"Leerflaeche\": 403, \"BueroNettofl\": null, \"BueroLeerProz\": null}, {\"StichtagDatJahr\": \"2017-01-01T00:00:00\", \"QuarSort\": 119, \"QuarLang\": \"Seebach\", \"KreisSort\": 11, \"KreisLang\": \"Kreis 11\", \"Nutzung\": \"B\\u00fcro\", \"Leerflaeche\": 45161, \"BueroNettofl\": 523009.0, \"BueroLeerProz\": 8.6}, {\"StichtagDatJahr\": \"2017-01-01T00:00:00\", \"QuarSort\": 119, \"QuarLang\": \"Seebach\", \"KreisSort\": 11, \"KreisLang\": \"Kreis 11\", \"Nutzung\": \"Andere\", \"Leerflaeche\": 333, \"BueroNettofl\": null, \"BueroLeerProz\": null}, {\"StichtagDatJahr\": \"2017-01-01T00:00:00\", \"QuarSort\": 121, \"QuarLang\": \"Saatlen\", \"KreisSort\": 12, \"KreisLang\": \"Kreis 12\", \"Nutzung\": \"B\\u00fcro\", \"Leerflaeche\": 1018, \"BueroNettofl\": 16203.0, \"BueroLeerProz\": 6.3}, {\"StichtagDatJahr\": \"2017-01-01T00:00:00\", \"QuarSort\": 121, \"QuarLang\": \"Saatlen\", \"KreisSort\": 12, \"KreisLang\": \"Kreis 12\", \"Nutzung\": \"Verkauf\", \"Leerflaeche\": 95, \"BueroNettofl\": null, \"BueroLeerProz\": null}, {\"StichtagDatJahr\": \"2017-01-01T00:00:00\", \"QuarSort\": 122, \"QuarLang\": \"Schwamendingen-Mitte\", \"KreisSort\": 12, \"KreisLang\": \"Kreis 12\", \"Nutzung\": \"B\\u00fcro\", \"Leerflaeche\": 166, \"BueroNettofl\": 19275.0, \"BueroLeerProz\": 0.9}, {\"StichtagDatJahr\": \"2018-01-01T00:00:00\", \"QuarSort\": 11, \"QuarLang\": \"Rathaus\", \"KreisSort\": 1, \"KreisLang\": \"Kreis 1\", \"Nutzung\": \"Andere\", \"Leerflaeche\": 1530, \"BueroNettofl\": null, \"BueroLeerProz\": null}, {\"StichtagDatJahr\": \"2018-01-01T00:00:00\", \"QuarSort\": 11, \"QuarLang\": \"Rathaus\", \"KreisSort\": 1, \"KreisLang\": \"Kreis 1\", \"Nutzung\": \"Werkstatt\", \"Leerflaeche\": 64, \"BueroNettofl\": null, \"BueroLeerProz\": null}, {\"StichtagDatJahr\": \"2018-01-01T00:00:00\", \"QuarSort\": 11, \"QuarLang\": \"Rathaus\", \"KreisSort\": 1, \"KreisLang\": \"Kreis 1\", \"Nutzung\": \"Verkauf\", \"Leerflaeche\": 383, \"BueroNettofl\": null, \"BueroLeerProz\": null}, {\"StichtagDatJahr\": \"2018-01-01T00:00:00\", \"QuarSort\": 11, \"QuarLang\": \"Rathaus\", \"KreisSort\": 1, \"KreisLang\": \"Kreis 1\", \"Nutzung\": \"Lager\", \"Leerflaeche\": 128, \"BueroNettofl\": null, \"BueroLeerProz\": null}, {\"StichtagDatJahr\": \"2018-01-01T00:00:00\", \"QuarSort\": 11, \"QuarLang\": \"Rathaus\", \"KreisSort\": 1, \"KreisLang\": \"Kreis 1\", \"Nutzung\": \"B\\u00fcro\", \"Leerflaeche\": 1399, \"BueroNettofl\": 104549.0, \"BueroLeerProz\": 1.3}, {\"StichtagDatJahr\": \"2018-01-01T00:00:00\", \"QuarSort\": 12, \"QuarLang\": \"Hochschulen\", \"KreisSort\": 1, \"KreisLang\": \"Kreis 1\", \"Nutzung\": \"B\\u00fcro\", \"Leerflaeche\": 670, \"BueroNettofl\": 195855.0, \"BueroLeerProz\": 0.3}, {\"StichtagDatJahr\": \"2018-01-01T00:00:00\", \"QuarSort\": 13, \"QuarLang\": \"Lindenhof\", \"KreisSort\": 1, \"KreisLang\": \"Kreis 1\", \"Nutzung\": \"Lager\", \"Leerflaeche\": 579, \"BueroNettofl\": null, \"BueroLeerProz\": null}, {\"StichtagDatJahr\": \"2018-01-01T00:00:00\", \"QuarSort\": 13, \"QuarLang\": \"Lindenhof\", \"KreisSort\": 1, \"KreisLang\": \"Kreis 1\", \"Nutzung\": \"B\\u00fcro\", \"Leerflaeche\": 6963, \"BueroNettofl\": 194098.0, \"BueroLeerProz\": 3.6}, {\"StichtagDatJahr\": \"2018-01-01T00:00:00\", \"QuarSort\": 14, \"QuarLang\": \"City\", \"KreisSort\": 1, \"KreisLang\": \"Kreis 1\", \"Nutzung\": \"Andere\", \"Leerflaeche\": 676, \"BueroNettofl\": null, \"BueroLeerProz\": null}, {\"StichtagDatJahr\": \"2018-01-01T00:00:00\", \"QuarSort\": 14, \"QuarLang\": \"City\", \"KreisSort\": 1, \"KreisLang\": \"Kreis 1\", \"Nutzung\": \"Werkstatt\", \"Leerflaeche\": 150, \"BueroNettofl\": null, \"BueroLeerProz\": null}, {\"StichtagDatJahr\": \"2018-01-01T00:00:00\", \"QuarSort\": 14, \"QuarLang\": \"City\", \"KreisSort\": 1, \"KreisLang\": \"Kreis 1\", \"Nutzung\": \"Verkauf\", \"Leerflaeche\": 1506, \"BueroNettofl\": null, \"BueroLeerProz\": null}, {\"StichtagDatJahr\": \"2018-01-01T00:00:00\", \"QuarSort\": 14, \"QuarLang\": \"City\", \"KreisSort\": 1, \"KreisLang\": \"Kreis 1\", \"Nutzung\": \"Lager\", \"Leerflaeche\": 1729, \"BueroNettofl\": null, \"BueroLeerProz\": null}, {\"StichtagDatJahr\": \"2018-01-01T00:00:00\", \"QuarSort\": 14, \"QuarLang\": \"City\", \"KreisSort\": 1, \"KreisLang\": \"Kreis 1\", \"Nutzung\": \"B\\u00fcro\", \"Leerflaeche\": 14773, \"BueroNettofl\": 404400.0, \"BueroLeerProz\": 3.7}, {\"StichtagDatJahr\": \"2018-01-01T00:00:00\", \"QuarSort\": 21, \"QuarLang\": \"Wollishofen\", \"KreisSort\": 2, \"KreisLang\": \"Kreis 2\", \"Nutzung\": \"Lager\", \"Leerflaeche\": 479, \"BueroNettofl\": null, \"BueroLeerProz\": null}, {\"StichtagDatJahr\": \"2018-01-01T00:00:00\", \"QuarSort\": 21, \"QuarLang\": \"Wollishofen\", \"KreisSort\": 2, \"KreisLang\": \"Kreis 2\", \"Nutzung\": \"B\\u00fcro\", \"Leerflaeche\": 1741, \"BueroNettofl\": 85401.0, \"BueroLeerProz\": 2.0}, {\"StichtagDatJahr\": \"2018-01-01T00:00:00\", \"QuarSort\": 24, \"QuarLang\": \"Enge\", \"KreisSort\": 2, \"KreisLang\": \"Kreis 2\", \"Nutzung\": \"Andere\", \"Leerflaeche\": 298, \"BueroNettofl\": null, \"BueroLeerProz\": null}, {\"StichtagDatJahr\": \"2018-01-01T00:00:00\", \"QuarSort\": 24, \"QuarLang\": \"Enge\", \"KreisSort\": 2, \"KreisLang\": \"Kreis 2\", \"Nutzung\": \"Werkstatt\", \"Leerflaeche\": 87, \"BueroNettofl\": null, \"BueroLeerProz\": null}, {\"StichtagDatJahr\": \"2018-01-01T00:00:00\", \"QuarSort\": 24, \"QuarLang\": \"Enge\", \"KreisSort\": 2, \"KreisLang\": \"Kreis 2\", \"Nutzung\": \"Verkauf\", \"Leerflaeche\": 608, \"BueroNettofl\": null, \"BueroLeerProz\": null}, {\"StichtagDatJahr\": \"2018-01-01T00:00:00\", \"QuarSort\": 24, \"QuarLang\": \"Enge\", \"KreisSort\": 2, \"KreisLang\": \"Kreis 2\", \"Nutzung\": \"Lager\", \"Leerflaeche\": 2208, \"BueroNettofl\": null, \"BueroLeerProz\": null}, {\"StichtagDatJahr\": \"2018-01-01T00:00:00\", \"QuarSort\": 24, \"QuarLang\": \"Enge\", \"KreisSort\": 2, \"KreisLang\": \"Kreis 2\", \"Nutzung\": \"B\\u00fcro\", \"Leerflaeche\": 17779, \"BueroNettofl\": 528875.0, \"BueroLeerProz\": 3.4}, {\"StichtagDatJahr\": \"2018-01-01T00:00:00\", \"QuarSort\": 31, \"QuarLang\": \"Alt-Wiedikon\", \"KreisSort\": 3, \"KreisLang\": \"Kreis 3\", \"Nutzung\": \"Andere\", \"Leerflaeche\": 884, \"BueroNettofl\": null, \"BueroLeerProz\": null}, {\"StichtagDatJahr\": \"2018-01-01T00:00:00\", \"QuarSort\": 31, \"QuarLang\": \"Alt-Wiedikon\", \"KreisSort\": 3, \"KreisLang\": \"Kreis 3\", \"Nutzung\": \"Werkstatt\", \"Leerflaeche\": 1846, \"BueroNettofl\": null, \"BueroLeerProz\": null}, {\"StichtagDatJahr\": \"2018-01-01T00:00:00\", \"QuarSort\": 31, \"QuarLang\": \"Alt-Wiedikon\", \"KreisSort\": 3, \"KreisLang\": \"Kreis 3\", \"Nutzung\": \"Verkauf\", \"Leerflaeche\": 543, \"BueroNettofl\": null, \"BueroLeerProz\": null}, {\"StichtagDatJahr\": \"2018-01-01T00:00:00\", \"QuarSort\": 31, \"QuarLang\": \"Alt-Wiedikon\", \"KreisSort\": 3, \"KreisLang\": \"Kreis 3\", \"Nutzung\": \"Lager\", \"Leerflaeche\": 2506, \"BueroNettofl\": null, \"BueroLeerProz\": null}, {\"StichtagDatJahr\": \"2018-01-01T00:00:00\", \"QuarSort\": 31, \"QuarLang\": \"Alt-Wiedikon\", \"KreisSort\": 3, \"KreisLang\": \"Kreis 3\", \"Nutzung\": \"B\\u00fcro\", \"Leerflaeche\": 10489, \"BueroNettofl\": 422588.0, \"BueroLeerProz\": 2.5}, {\"StichtagDatJahr\": \"2018-01-01T00:00:00\", \"QuarSort\": 34, \"QuarLang\": \"Sihlfeld\", \"KreisSort\": 3, \"KreisLang\": \"Kreis 3\", \"Nutzung\": \"Werkstatt\", \"Leerflaeche\": 109, \"BueroNettofl\": null, \"BueroLeerProz\": null}, {\"StichtagDatJahr\": \"2018-01-01T00:00:00\", \"QuarSort\": 34, \"QuarLang\": \"Sihlfeld\", \"KreisSort\": 3, \"KreisLang\": \"Kreis 3\", \"Nutzung\": \"Lager\", \"Leerflaeche\": 1696, \"BueroNettofl\": null, \"BueroLeerProz\": null}, {\"StichtagDatJahr\": \"2018-01-01T00:00:00\", \"QuarSort\": 34, \"QuarLang\": \"Sihlfeld\", \"KreisSort\": 3, \"KreisLang\": \"Kreis 3\", \"Nutzung\": \"B\\u00fcro\", \"Leerflaeche\": 1334, \"BueroNettofl\": 114603.0, \"BueroLeerProz\": 1.2}, {\"StichtagDatJahr\": \"2018-01-01T00:00:00\", \"QuarSort\": 41, \"QuarLang\": \"Werd\", \"KreisSort\": 4, \"KreisLang\": \"Kreis 4\", \"Nutzung\": \"Lager\", \"Leerflaeche\": 552, \"BueroNettofl\": null, \"BueroLeerProz\": null}, {\"StichtagDatJahr\": \"2018-01-01T00:00:00\", \"QuarSort\": 41, \"QuarLang\": \"Werd\", \"KreisSort\": 4, \"KreisLang\": \"Kreis 4\", \"Nutzung\": \"B\\u00fcro\", \"Leerflaeche\": 3087, \"BueroNettofl\": 141167.0, \"BueroLeerProz\": 2.2}, {\"StichtagDatJahr\": \"2018-01-01T00:00:00\", \"QuarSort\": 42, \"QuarLang\": \"Langstrasse\", \"KreisSort\": 4, \"KreisLang\": \"Kreis 4\", \"Nutzung\": \"Andere\", \"Leerflaeche\": 11, \"BueroNettofl\": null, \"BueroLeerProz\": null}, {\"StichtagDatJahr\": \"2018-01-01T00:00:00\", \"QuarSort\": 42, \"QuarLang\": \"Langstrasse\", \"KreisSort\": 4, \"KreisLang\": \"Kreis 4\", \"Nutzung\": \"Werkstatt\", \"Leerflaeche\": 122, \"BueroNettofl\": null, \"BueroLeerProz\": null}, {\"StichtagDatJahr\": \"2018-01-01T00:00:00\", \"QuarSort\": 42, \"QuarLang\": \"Langstrasse\", \"KreisSort\": 4, \"KreisLang\": \"Kreis 4\", \"Nutzung\": \"Lager\", \"Leerflaeche\": 405, \"BueroNettofl\": null, \"BueroLeerProz\": null}, {\"StichtagDatJahr\": \"2018-01-01T00:00:00\", \"QuarSort\": 42, \"QuarLang\": \"Langstrasse\", \"KreisSort\": 4, \"KreisLang\": \"Kreis 4\", \"Nutzung\": \"B\\u00fcro\", \"Leerflaeche\": 555, \"BueroNettofl\": 350852.0, \"BueroLeerProz\": 0.2}, {\"StichtagDatJahr\": \"2018-01-01T00:00:00\", \"QuarSort\": 44, \"QuarLang\": \"Hard\", \"KreisSort\": 4, \"KreisLang\": \"Kreis 4\", \"Nutzung\": \"Verkauf\", \"Leerflaeche\": 88, \"BueroNettofl\": null, \"BueroLeerProz\": null}, {\"StichtagDatJahr\": \"2018-01-01T00:00:00\", \"QuarSort\": 44, \"QuarLang\": \"Hard\", \"KreisSort\": 4, \"KreisLang\": \"Kreis 4\", \"Nutzung\": \"Lager\", \"Leerflaeche\": 1354, \"BueroNettofl\": null, \"BueroLeerProz\": null}, {\"StichtagDatJahr\": \"2018-01-01T00:00:00\", \"QuarSort\": 44, \"QuarLang\": \"Hard\", \"KreisSort\": 4, \"KreisLang\": \"Kreis 4\", \"Nutzung\": \"B\\u00fcro\", \"Leerflaeche\": 634, \"BueroNettofl\": 58860.0, \"BueroLeerProz\": 1.1}, {\"StichtagDatJahr\": \"2018-01-01T00:00:00\", \"QuarSort\": 51, \"QuarLang\": \"Gewerbeschule\", \"KreisSort\": 5, \"KreisLang\": \"Kreis 5\", \"Nutzung\": \"Verkauf\", \"Leerflaeche\": 167, \"BueroNettofl\": null, \"BueroLeerProz\": null}, {\"StichtagDatJahr\": \"2018-01-01T00:00:00\", \"QuarSort\": 51, \"QuarLang\": \"Gewerbeschule\", \"KreisSort\": 5, \"KreisLang\": \"Kreis 5\", \"Nutzung\": \"Lager\", \"Leerflaeche\": 175, \"BueroNettofl\": null, \"BueroLeerProz\": null}, {\"StichtagDatJahr\": \"2018-01-01T00:00:00\", \"QuarSort\": 52, \"QuarLang\": \"Escher Wyss\", \"KreisSort\": 5, \"KreisLang\": \"Kreis 5\", \"Nutzung\": \"Andere\", \"Leerflaeche\": 83, \"BueroNettofl\": null, \"BueroLeerProz\": null}, {\"StichtagDatJahr\": \"2018-01-01T00:00:00\", \"QuarSort\": 52, \"QuarLang\": \"Escher Wyss\", \"KreisSort\": 5, \"KreisLang\": \"Kreis 5\", \"Nutzung\": \"Werkstatt\", \"Leerflaeche\": 62, \"BueroNettofl\": null, \"BueroLeerProz\": null}, {\"StichtagDatJahr\": \"2018-01-01T00:00:00\", \"QuarSort\": 52, \"QuarLang\": \"Escher Wyss\", \"KreisSort\": 5, \"KreisLang\": \"Kreis 5\", \"Nutzung\": \"Lager\", \"Leerflaeche\": 3342, \"BueroNettofl\": null, \"BueroLeerProz\": null}, {\"StichtagDatJahr\": \"2018-01-01T00:00:00\", \"QuarSort\": 52, \"QuarLang\": \"Escher Wyss\", \"KreisSort\": 5, \"KreisLang\": \"Kreis 5\", \"Nutzung\": \"B\\u00fcro\", \"Leerflaeche\": 4817, \"BueroNettofl\": 559536.0, \"BueroLeerProz\": 0.9}, {\"StichtagDatJahr\": \"2018-01-01T00:00:00\", \"QuarSort\": 61, \"QuarLang\": \"Unterstrass\", \"KreisSort\": 6, \"KreisLang\": \"Kreis 6\", \"Nutzung\": \"Andere\", \"Leerflaeche\": 124, \"BueroNettofl\": null, \"BueroLeerProz\": null}, {\"StichtagDatJahr\": \"2018-01-01T00:00:00\", \"QuarSort\": 61, \"QuarLang\": \"Unterstrass\", \"KreisSort\": 6, \"KreisLang\": \"Kreis 6\", \"Nutzung\": \"Verkauf\", \"Leerflaeche\": 67, \"BueroNettofl\": null, \"BueroLeerProz\": null}, {\"StichtagDatJahr\": \"2018-01-01T00:00:00\", \"QuarSort\": 61, \"QuarLang\": \"Unterstrass\", \"KreisSort\": 6, \"KreisLang\": \"Kreis 6\", \"Nutzung\": \"Lager\", \"Leerflaeche\": 169, \"BueroNettofl\": null, \"BueroLeerProz\": null}, {\"StichtagDatJahr\": \"2018-01-01T00:00:00\", \"QuarSort\": 61, \"QuarLang\": \"Unterstrass\", \"KreisSort\": 6, \"KreisLang\": \"Kreis 6\", \"Nutzung\": \"B\\u00fcro\", \"Leerflaeche\": 2384, \"BueroNettofl\": 200679.0, \"BueroLeerProz\": 1.2}, {\"StichtagDatJahr\": \"2018-01-01T00:00:00\", \"QuarSort\": 63, \"QuarLang\": \"Oberstrass\", \"KreisSort\": 6, \"KreisLang\": \"Kreis 6\", \"Nutzung\": \"Andere\", \"Leerflaeche\": 38, \"BueroNettofl\": null, \"BueroLeerProz\": null}, {\"StichtagDatJahr\": \"2018-01-01T00:00:00\", \"QuarSort\": 63, \"QuarLang\": \"Oberstrass\", \"KreisSort\": 6, \"KreisLang\": \"Kreis 6\", \"Nutzung\": \"Verkauf\", \"Leerflaeche\": 185, \"BueroNettofl\": null, \"BueroLeerProz\": null}, {\"StichtagDatJahr\": \"2018-01-01T00:00:00\", \"QuarSort\": 63, \"QuarLang\": \"Oberstrass\", \"KreisSort\": 6, \"KreisLang\": \"Kreis 6\", \"Nutzung\": \"Lager\", \"Leerflaeche\": 63, \"BueroNettofl\": null, \"BueroLeerProz\": null}, {\"StichtagDatJahr\": \"2018-01-01T00:00:00\", \"QuarSort\": 63, \"QuarLang\": \"Oberstrass\", \"KreisSort\": 6, \"KreisLang\": \"Kreis 6\", \"Nutzung\": \"B\\u00fcro\", \"Leerflaeche\": 251, \"BueroNettofl\": 307557.0, \"BueroLeerProz\": 0.1}, {\"StichtagDatJahr\": \"2018-01-01T00:00:00\", \"QuarSort\": 72, \"QuarLang\": \"Hottingen\", \"KreisSort\": 7, \"KreisLang\": \"Kreis 7\", \"Nutzung\": \"Lager\", \"Leerflaeche\": 90, \"BueroNettofl\": null, \"BueroLeerProz\": null}, {\"StichtagDatJahr\": \"2018-01-01T00:00:00\", \"QuarSort\": 72, \"QuarLang\": \"Hottingen\", \"KreisSort\": 7, \"KreisLang\": \"Kreis 7\", \"Nutzung\": \"B\\u00fcro\", \"Leerflaeche\": 990, \"BueroNettofl\": 167842.0, \"BueroLeerProz\": 0.6}, {\"StichtagDatJahr\": \"2018-01-01T00:00:00\", \"QuarSort\": 73, \"QuarLang\": \"Hirslanden\", \"KreisSort\": 7, \"KreisLang\": \"Kreis 7\", \"Nutzung\": \"Andere\", \"Leerflaeche\": 55, \"BueroNettofl\": null, \"BueroLeerProz\": null}, {\"StichtagDatJahr\": \"2018-01-01T00:00:00\", \"QuarSort\": 73, \"QuarLang\": \"Hirslanden\", \"KreisSort\": 7, \"KreisLang\": \"Kreis 7\", \"Nutzung\": \"Lager\", \"Leerflaeche\": 295, \"BueroNettofl\": null, \"BueroLeerProz\": null}, {\"StichtagDatJahr\": \"2018-01-01T00:00:00\", \"QuarSort\": 73, \"QuarLang\": \"Hirslanden\", \"KreisSort\": 7, \"KreisLang\": \"Kreis 7\", \"Nutzung\": \"B\\u00fcro\", \"Leerflaeche\": 1112, \"BueroNettofl\": 51694.0, \"BueroLeerProz\": 2.2}, {\"StichtagDatJahr\": \"2018-01-01T00:00:00\", \"QuarSort\": 74, \"QuarLang\": \"Witikon\", \"KreisSort\": 7, \"KreisLang\": \"Kreis 7\", \"Nutzung\": \"Verkauf\", \"Leerflaeche\": 190, \"BueroNettofl\": null, \"BueroLeerProz\": null}, {\"StichtagDatJahr\": \"2018-01-01T00:00:00\", \"QuarSort\": 74, \"QuarLang\": \"Witikon\", \"KreisSort\": 7, \"KreisLang\": \"Kreis 7\", \"Nutzung\": \"Lager\", \"Leerflaeche\": 20, \"BueroNettofl\": null, \"BueroLeerProz\": null}, {\"StichtagDatJahr\": \"2018-01-01T00:00:00\", \"QuarSort\": 74, \"QuarLang\": \"Witikon\", \"KreisSort\": 7, \"KreisLang\": \"Kreis 7\", \"Nutzung\": \"B\\u00fcro\", \"Leerflaeche\": 200, \"BueroNettofl\": 11524.0, \"BueroLeerProz\": 1.7}, {\"StichtagDatJahr\": \"2018-01-01T00:00:00\", \"QuarSort\": 81, \"QuarLang\": \"Seefeld\", \"KreisSort\": 8, \"KreisLang\": \"Kreis 8\", \"Nutzung\": \"Andere\", \"Leerflaeche\": 82, \"BueroNettofl\": null, \"BueroLeerProz\": null}, {\"StichtagDatJahr\": \"2018-01-01T00:00:00\", \"QuarSort\": 81, \"QuarLang\": \"Seefeld\", \"KreisSort\": 8, \"KreisLang\": \"Kreis 8\", \"Nutzung\": \"Lager\", \"Leerflaeche\": 374, \"BueroNettofl\": null, \"BueroLeerProz\": null}, {\"StichtagDatJahr\": \"2018-01-01T00:00:00\", \"QuarSort\": 81, \"QuarLang\": \"Seefeld\", \"KreisSort\": 8, \"KreisLang\": \"Kreis 8\", \"Nutzung\": \"B\\u00fcro\", \"Leerflaeche\": 2353, \"BueroNettofl\": 167678.0, \"BueroLeerProz\": 1.4}, {\"StichtagDatJahr\": \"2018-01-01T00:00:00\", \"QuarSort\": 82, \"QuarLang\": \"M\\u00fchlebach\", \"KreisSort\": 8, \"KreisLang\": \"Kreis 8\", \"Nutzung\": \"Lager\", \"Leerflaeche\": 263, \"BueroNettofl\": null, \"BueroLeerProz\": null}, {\"StichtagDatJahr\": \"2018-01-01T00:00:00\", \"QuarSort\": 82, \"QuarLang\": \"M\\u00fchlebach\", \"KreisSort\": 8, \"KreisLang\": \"Kreis 8\", \"Nutzung\": \"B\\u00fcro\", \"Leerflaeche\": 3352, \"BueroNettofl\": 169653.0, \"BueroLeerProz\": 2.0}, {\"StichtagDatJahr\": \"2018-01-01T00:00:00\", \"QuarSort\": 83, \"QuarLang\": \"Weinegg\", \"KreisSort\": 8, \"KreisLang\": \"Kreis 8\", \"Nutzung\": \"Werkstatt\", \"Leerflaeche\": 160, \"BueroNettofl\": null, \"BueroLeerProz\": null}, {\"StichtagDatJahr\": \"2018-01-01T00:00:00\", \"QuarSort\": 83, \"QuarLang\": \"Weinegg\", \"KreisSort\": 8, \"KreisLang\": \"Kreis 8\", \"Nutzung\": \"Verkauf\", \"Leerflaeche\": 64, \"BueroNettofl\": null, \"BueroLeerProz\": null}, {\"StichtagDatJahr\": \"2018-01-01T00:00:00\", \"QuarSort\": 83, \"QuarLang\": \"Weinegg\", \"KreisSort\": 8, \"KreisLang\": \"Kreis 8\", \"Nutzung\": \"B\\u00fcro\", \"Leerflaeche\": 290, \"BueroNettofl\": 63577.0, \"BueroLeerProz\": 0.5}, {\"StichtagDatJahr\": \"2018-01-01T00:00:00\", \"QuarSort\": 91, \"QuarLang\": \"Albisrieden\", \"KreisSort\": 9, \"KreisLang\": \"Kreis 9\", \"Nutzung\": \"Andere\", \"Leerflaeche\": 358, \"BueroNettofl\": null, \"BueroLeerProz\": null}, {\"StichtagDatJahr\": \"2018-01-01T00:00:00\", \"QuarSort\": 91, \"QuarLang\": \"Albisrieden\", \"KreisSort\": 9, \"KreisLang\": \"Kreis 9\", \"Nutzung\": \"Werkstatt\", \"Leerflaeche\": 369, \"BueroNettofl\": null, \"BueroLeerProz\": null}, {\"StichtagDatJahr\": \"2018-01-01T00:00:00\", \"QuarSort\": 91, \"QuarLang\": \"Albisrieden\", \"KreisSort\": 9, \"KreisLang\": \"Kreis 9\", \"Nutzung\": \"Verkauf\", \"Leerflaeche\": 747, \"BueroNettofl\": null, \"BueroLeerProz\": null}, {\"StichtagDatJahr\": \"2018-01-01T00:00:00\", \"QuarSort\": 91, \"QuarLang\": \"Albisrieden\", \"KreisSort\": 9, \"KreisLang\": \"Kreis 9\", \"Nutzung\": \"Lager\", \"Leerflaeche\": 468, \"BueroNettofl\": null, \"BueroLeerProz\": null}, {\"StichtagDatJahr\": \"2018-01-01T00:00:00\", \"QuarSort\": 91, \"QuarLang\": \"Albisrieden\", \"KreisSort\": 9, \"KreisLang\": \"Kreis 9\", \"Nutzung\": \"B\\u00fcro\", \"Leerflaeche\": 5383, \"BueroNettofl\": 110492.0, \"BueroLeerProz\": 4.9}, {\"StichtagDatJahr\": \"2018-01-01T00:00:00\", \"QuarSort\": 92, \"QuarLang\": \"Altstetten\", \"KreisSort\": 9, \"KreisLang\": \"Kreis 9\", \"Nutzung\": \"Andere\", \"Leerflaeche\": 1314, \"BueroNettofl\": null, \"BueroLeerProz\": null}, {\"StichtagDatJahr\": \"2018-01-01T00:00:00\", \"QuarSort\": 92, \"QuarLang\": \"Altstetten\", \"KreisSort\": 9, \"KreisLang\": \"Kreis 9\", \"Nutzung\": \"Werkstatt\", \"Leerflaeche\": 984, \"BueroNettofl\": null, \"BueroLeerProz\": null}, {\"StichtagDatJahr\": \"2018-01-01T00:00:00\", \"QuarSort\": 92, \"QuarLang\": \"Altstetten\", \"KreisSort\": 9, \"KreisLang\": \"Kreis 9\", \"Nutzung\": \"Lager\", \"Leerflaeche\": 7352, \"BueroNettofl\": null, \"BueroLeerProz\": null}, {\"StichtagDatJahr\": \"2018-01-01T00:00:00\", \"QuarSort\": 92, \"QuarLang\": \"Altstetten\", \"KreisSort\": 9, \"KreisLang\": \"Kreis 9\", \"Nutzung\": \"B\\u00fcro\", \"Leerflaeche\": 24356, \"BueroNettofl\": 571715.0, \"BueroLeerProz\": 4.3}, {\"StichtagDatJahr\": \"2018-01-01T00:00:00\", \"QuarSort\": 101, \"QuarLang\": \"H\\u00f6ngg\", \"KreisSort\": 10, \"KreisLang\": \"Kreis 10\", \"Nutzung\": \"Lager\", \"Leerflaeche\": 28, \"BueroNettofl\": null, \"BueroLeerProz\": null}, {\"StichtagDatJahr\": \"2018-01-01T00:00:00\", \"QuarSort\": 102, \"QuarLang\": \"Wipkingen\", \"KreisSort\": 10, \"KreisLang\": \"Kreis 10\", \"Nutzung\": \"Verkauf\", \"Leerflaeche\": 353, \"BueroNettofl\": null, \"BueroLeerProz\": null}, {\"StichtagDatJahr\": \"2018-01-01T00:00:00\", \"QuarSort\": 102, \"QuarLang\": \"Wipkingen\", \"KreisSort\": 10, \"KreisLang\": \"Kreis 10\", \"Nutzung\": \"Lager\", \"Leerflaeche\": 50, \"BueroNettofl\": null, \"BueroLeerProz\": null}, {\"StichtagDatJahr\": \"2018-01-01T00:00:00\", \"QuarSort\": 102, \"QuarLang\": \"Wipkingen\", \"KreisSort\": 10, \"KreisLang\": \"Kreis 10\", \"Nutzung\": \"B\\u00fcro\", \"Leerflaeche\": 159, \"BueroNettofl\": 57631.0, \"BueroLeerProz\": 0.3}, {\"StichtagDatJahr\": \"2018-01-01T00:00:00\", \"QuarSort\": 111, \"QuarLang\": \"Affoltern\", \"KreisSort\": 11, \"KreisLang\": \"Kreis 11\", \"Nutzung\": \"Lager\", \"Leerflaeche\": 13, \"BueroNettofl\": null, \"BueroLeerProz\": null}, {\"StichtagDatJahr\": \"2018-01-01T00:00:00\", \"QuarSort\": 111, \"QuarLang\": \"Affoltern\", \"KreisSort\": 11, \"KreisLang\": \"Kreis 11\", \"Nutzung\": \"B\\u00fcro\", \"Leerflaeche\": 98, \"BueroNettofl\": 21928.0, \"BueroLeerProz\": 0.4}, {\"StichtagDatJahr\": \"2018-01-01T00:00:00\", \"QuarSort\": 115, \"QuarLang\": \"Oerlikon\", \"KreisSort\": 11, \"KreisLang\": \"Kreis 11\", \"Nutzung\": \"Andere\", \"Leerflaeche\": 431, \"BueroNettofl\": null, \"BueroLeerProz\": null}, {\"StichtagDatJahr\": \"2018-01-01T00:00:00\", \"QuarSort\": 115, \"QuarLang\": \"Oerlikon\", \"KreisSort\": 11, \"KreisLang\": \"Kreis 11\", \"Nutzung\": \"Werkstatt\", \"Leerflaeche\": 1169, \"BueroNettofl\": null, \"BueroLeerProz\": null}, {\"StichtagDatJahr\": \"2018-01-01T00:00:00\", \"QuarSort\": 115, \"QuarLang\": \"Oerlikon\", \"KreisSort\": 11, \"KreisLang\": \"Kreis 11\", \"Nutzung\": \"Verkauf\", \"Leerflaeche\": 200, \"BueroNettofl\": null, \"BueroLeerProz\": null}, {\"StichtagDatJahr\": \"2018-01-01T00:00:00\", \"QuarSort\": 115, \"QuarLang\": \"Oerlikon\", \"KreisSort\": 11, \"KreisLang\": \"Kreis 11\", \"Nutzung\": \"Lager\", \"Leerflaeche\": 896, \"BueroNettofl\": null, \"BueroLeerProz\": null}, {\"StichtagDatJahr\": \"2018-01-01T00:00:00\", \"QuarSort\": 115, \"QuarLang\": \"Oerlikon\", \"KreisSort\": 11, \"KreisLang\": \"Kreis 11\", \"Nutzung\": \"B\\u00fcro\", \"Leerflaeche\": 13603, \"BueroNettofl\": 312434.0, \"BueroLeerProz\": 4.4}, {\"StichtagDatJahr\": \"2018-01-01T00:00:00\", \"QuarSort\": 119, \"QuarLang\": \"Seebach\", \"KreisSort\": 11, \"KreisLang\": \"Kreis 11\", \"Nutzung\": \"Verkauf\", \"Leerflaeche\": 280, \"BueroNettofl\": null, \"BueroLeerProz\": null}, {\"StichtagDatJahr\": \"2018-01-01T00:00:00\", \"QuarSort\": 119, \"QuarLang\": \"Seebach\", \"KreisSort\": 11, \"KreisLang\": \"Kreis 11\", \"Nutzung\": \"B\\u00fcro\", \"Leerflaeche\": 20056, \"BueroNettofl\": 520538.0, \"BueroLeerProz\": 3.9}, {\"StichtagDatJahr\": \"2018-01-01T00:00:00\", \"QuarSort\": 119, \"QuarLang\": \"Seebach\", \"KreisSort\": 11, \"KreisLang\": \"Kreis 11\", \"Nutzung\": \"Lager\", \"Leerflaeche\": 6429, \"BueroNettofl\": null, \"BueroLeerProz\": null}, {\"StichtagDatJahr\": \"2018-01-01T00:00:00\", \"QuarSort\": 121, \"QuarLang\": \"Saatlen\", \"KreisSort\": 12, \"KreisLang\": \"Kreis 12\", \"Nutzung\": \"B\\u00fcro\", \"Leerflaeche\": 758, \"BueroNettofl\": 16203.0, \"BueroLeerProz\": 4.7}, {\"StichtagDatJahr\": \"2018-01-01T00:00:00\", \"QuarSort\": 122, \"QuarLang\": \"Schwamendingen-Mitte\", \"KreisSort\": 12, \"KreisLang\": \"Kreis 12\", \"Nutzung\": \"B\\u00fcro\", \"Leerflaeche\": 78, \"BueroNettofl\": 19275.0, \"BueroLeerProz\": 0.4}, {\"StichtagDatJahr\": \"2019-01-01T00:00:00\", \"QuarSort\": 11, \"QuarLang\": \"Rathaus\", \"KreisSort\": 1, \"KreisLang\": \"Kreis 1\", \"Nutzung\": \"Andere\", \"Leerflaeche\": 18, \"BueroNettofl\": null, \"BueroLeerProz\": null}, {\"StichtagDatJahr\": \"2019-01-01T00:00:00\", \"QuarSort\": 11, \"QuarLang\": \"Rathaus\", \"KreisSort\": 1, \"KreisLang\": \"Kreis 1\", \"Nutzung\": \"Verkauf\", \"Leerflaeche\": 551, \"BueroNettofl\": null, \"BueroLeerProz\": null}, {\"StichtagDatJahr\": \"2019-01-01T00:00:00\", \"QuarSort\": 11, \"QuarLang\": \"Rathaus\", \"KreisSort\": 1, \"KreisLang\": \"Kreis 1\", \"Nutzung\": \"Lager\", \"Leerflaeche\": 298, \"BueroNettofl\": null, \"BueroLeerProz\": null}, {\"StichtagDatJahr\": \"2019-01-01T00:00:00\", \"QuarSort\": 11, \"QuarLang\": \"Rathaus\", \"KreisSort\": 1, \"KreisLang\": \"Kreis 1\", \"Nutzung\": \"B\\u00fcro\", \"Leerflaeche\": 2102, \"BueroNettofl\": 104549.0, \"BueroLeerProz\": 2.0}, {\"StichtagDatJahr\": \"2019-01-01T00:00:00\", \"QuarSort\": 12, \"QuarLang\": \"Hochschulen\", \"KreisSort\": 1, \"KreisLang\": \"Kreis 1\", \"Nutzung\": \"B\\u00fcro\", \"Leerflaeche\": 236, \"BueroNettofl\": 195857.0, \"BueroLeerProz\": 0.1}, {\"StichtagDatJahr\": \"2019-01-01T00:00:00\", \"QuarSort\": 13, \"QuarLang\": \"Lindenhof\", \"KreisSort\": 1, \"KreisLang\": \"Kreis 1\", \"Nutzung\": \"Andere\", \"Leerflaeche\": 54, \"BueroNettofl\": null, \"BueroLeerProz\": null}, {\"StichtagDatJahr\": \"2019-01-01T00:00:00\", \"QuarSort\": 13, \"QuarLang\": \"Lindenhof\", \"KreisSort\": 1, \"KreisLang\": \"Kreis 1\", \"Nutzung\": \"Verkauf\", \"Leerflaeche\": 307, \"BueroNettofl\": null, \"BueroLeerProz\": null}, {\"StichtagDatJahr\": \"2019-01-01T00:00:00\", \"QuarSort\": 13, \"QuarLang\": \"Lindenhof\", \"KreisSort\": 1, \"KreisLang\": \"Kreis 1\", \"Nutzung\": \"Lager\", \"Leerflaeche\": 207, \"BueroNettofl\": null, \"BueroLeerProz\": null}, {\"StichtagDatJahr\": \"2019-01-01T00:00:00\", \"QuarSort\": 13, \"QuarLang\": \"Lindenhof\", \"KreisSort\": 1, \"KreisLang\": \"Kreis 1\", \"Nutzung\": \"B\\u00fcro\", \"Leerflaeche\": 859, \"BueroNettofl\": 194098.0, \"BueroLeerProz\": 0.4}, {\"StichtagDatJahr\": \"2019-01-01T00:00:00\", \"QuarSort\": 14, \"QuarLang\": \"City\", \"KreisSort\": 1, \"KreisLang\": \"Kreis 1\", \"Nutzung\": \"Andere\", \"Leerflaeche\": 340, \"BueroNettofl\": null, \"BueroLeerProz\": null}, {\"StichtagDatJahr\": \"2019-01-01T00:00:00\", \"QuarSort\": 14, \"QuarLang\": \"City\", \"KreisSort\": 1, \"KreisLang\": \"Kreis 1\", \"Nutzung\": \"Verkauf\", \"Leerflaeche\": 1154, \"BueroNettofl\": null, \"BueroLeerProz\": null}, {\"StichtagDatJahr\": \"2019-01-01T00:00:00\", \"QuarSort\": 14, \"QuarLang\": \"City\", \"KreisSort\": 1, \"KreisLang\": \"Kreis 1\", \"Nutzung\": \"Lager\", \"Leerflaeche\": 1105, \"BueroNettofl\": null, \"BueroLeerProz\": null}, {\"StichtagDatJahr\": \"2019-01-01T00:00:00\", \"QuarSort\": 14, \"QuarLang\": \"City\", \"KreisSort\": 1, \"KreisLang\": \"Kreis 1\", \"Nutzung\": \"B\\u00fcro\", \"Leerflaeche\": 8368, \"BueroNettofl\": 404400.0, \"BueroLeerProz\": 2.1}, {\"StichtagDatJahr\": \"2019-01-01T00:00:00\", \"QuarSort\": 21, \"QuarLang\": \"Wollishofen\", \"KreisSort\": 2, \"KreisLang\": \"Kreis 2\", \"Nutzung\": \"Verkauf\", \"Leerflaeche\": 103, \"BueroNettofl\": null, \"BueroLeerProz\": null}, {\"StichtagDatJahr\": \"2019-01-01T00:00:00\", \"QuarSort\": 21, \"QuarLang\": \"Wollishofen\", \"KreisSort\": 2, \"KreisLang\": \"Kreis 2\", \"Nutzung\": \"Lager\", \"Leerflaeche\": 85, \"BueroNettofl\": null, \"BueroLeerProz\": null}, {\"StichtagDatJahr\": \"2019-01-01T00:00:00\", \"QuarSort\": 24, \"QuarLang\": \"Enge\", \"KreisSort\": 2, \"KreisLang\": \"Kreis 2\", \"Nutzung\": \"Andere\", \"Leerflaeche\": 845, \"BueroNettofl\": null, \"BueroLeerProz\": null}, {\"StichtagDatJahr\": \"2019-01-01T00:00:00\", \"QuarSort\": 24, \"QuarLang\": \"Enge\", \"KreisSort\": 2, \"KreisLang\": \"Kreis 2\", \"Nutzung\": \"Verkauf\", \"Leerflaeche\": 157, \"BueroNettofl\": null, \"BueroLeerProz\": null}, {\"StichtagDatJahr\": \"2019-01-01T00:00:00\", \"QuarSort\": 24, \"QuarLang\": \"Enge\", \"KreisSort\": 2, \"KreisLang\": \"Kreis 2\", \"Nutzung\": \"Lager\", \"Leerflaeche\": 2229, \"BueroNettofl\": null, \"BueroLeerProz\": null}, {\"StichtagDatJahr\": \"2019-01-01T00:00:00\", \"QuarSort\": 24, \"QuarLang\": \"Enge\", \"KreisSort\": 2, \"KreisLang\": \"Kreis 2\", \"Nutzung\": \"B\\u00fcro\", \"Leerflaeche\": 13457, \"BueroNettofl\": 530613.0, \"BueroLeerProz\": 2.5}, {\"StichtagDatJahr\": \"2019-01-01T00:00:00\", \"QuarSort\": 31, \"QuarLang\": \"Alt-Wiedikon\", \"KreisSort\": 3, \"KreisLang\": \"Kreis 3\", \"Nutzung\": \"Andere\", \"Leerflaeche\": 291, \"BueroNettofl\": null, \"BueroLeerProz\": null}, {\"StichtagDatJahr\": \"2019-01-01T00:00:00\", \"QuarSort\": 31, \"QuarLang\": \"Alt-Wiedikon\", \"KreisSort\": 3, \"KreisLang\": \"Kreis 3\", \"Nutzung\": \"Werkstatt\", \"Leerflaeche\": 517, \"BueroNettofl\": null, \"BueroLeerProz\": null}, {\"StichtagDatJahr\": \"2019-01-01T00:00:00\", \"QuarSort\": 31, \"QuarLang\": \"Alt-Wiedikon\", \"KreisSort\": 3, \"KreisLang\": \"Kreis 3\", \"Nutzung\": \"Lager\", \"Leerflaeche\": 7047, \"BueroNettofl\": null, \"BueroLeerProz\": null}, {\"StichtagDatJahr\": \"2019-01-01T00:00:00\", \"QuarSort\": 31, \"QuarLang\": \"Alt-Wiedikon\", \"KreisSort\": 3, \"KreisLang\": \"Kreis 3\", \"Nutzung\": \"B\\u00fcro\", \"Leerflaeche\": 4791, \"BueroNettofl\": 422920.0, \"BueroLeerProz\": 1.1}, {\"StichtagDatJahr\": \"2019-01-01T00:00:00\", \"QuarSort\": 31, \"QuarLang\": \"Alt-Wiedikon\", \"KreisSort\": 3, \"KreisLang\": \"Kreis 3\", \"Nutzung\": \"Verkauf\", \"Leerflaeche\": 48, \"BueroNettofl\": null, \"BueroLeerProz\": null}, {\"StichtagDatJahr\": \"2019-01-01T00:00:00\", \"QuarSort\": 33, \"QuarLang\": \"Friesenberg\", \"KreisSort\": 3, \"KreisLang\": \"Kreis 3\", \"Nutzung\": \"Andere\", \"Leerflaeche\": 29, \"BueroNettofl\": null, \"BueroLeerProz\": null}, {\"StichtagDatJahr\": \"2019-01-01T00:00:00\", \"QuarSort\": 34, \"QuarLang\": \"Sihlfeld\", \"KreisSort\": 3, \"KreisLang\": \"Kreis 3\", \"Nutzung\": \"Andere\", \"Leerflaeche\": 33, \"BueroNettofl\": null, \"BueroLeerProz\": null}, {\"StichtagDatJahr\": \"2019-01-01T00:00:00\", \"QuarSort\": 34, \"QuarLang\": \"Sihlfeld\", \"KreisSort\": 3, \"KreisLang\": \"Kreis 3\", \"Nutzung\": \"Werkstatt\", \"Leerflaeche\": 106, \"BueroNettofl\": null, \"BueroLeerProz\": null}, {\"StichtagDatJahr\": \"2019-01-01T00:00:00\", \"QuarSort\": 34, \"QuarLang\": \"Sihlfeld\", \"KreisSort\": 3, \"KreisLang\": \"Kreis 3\", \"Nutzung\": \"Verkauf\", \"Leerflaeche\": 269, \"BueroNettofl\": null, \"BueroLeerProz\": null}, {\"StichtagDatJahr\": \"2019-01-01T00:00:00\", \"QuarSort\": 34, \"QuarLang\": \"Sihlfeld\", \"KreisSort\": 3, \"KreisLang\": \"Kreis 3\", \"Nutzung\": \"Lager\", \"Leerflaeche\": 63, \"BueroNettofl\": null, \"BueroLeerProz\": null}, {\"StichtagDatJahr\": \"2019-01-01T00:00:00\", \"QuarSort\": 34, \"QuarLang\": \"Sihlfeld\", \"KreisSort\": 3, \"KreisLang\": \"Kreis 3\", \"Nutzung\": \"B\\u00fcro\", \"Leerflaeche\": 2723, \"BueroNettofl\": 114470.0, \"BueroLeerProz\": 2.4}, {\"StichtagDatJahr\": \"2019-01-01T00:00:00\", \"QuarSort\": 41, \"QuarLang\": \"Werd\", \"KreisSort\": 4, \"KreisLang\": \"Kreis 4\", \"Nutzung\": \"Lager\", \"Leerflaeche\": 759, \"BueroNettofl\": null, \"BueroLeerProz\": null}, {\"StichtagDatJahr\": \"2019-01-01T00:00:00\", \"QuarSort\": 41, \"QuarLang\": \"Werd\", \"KreisSort\": 4, \"KreisLang\": \"Kreis 4\", \"Nutzung\": \"B\\u00fcro\", \"Leerflaeche\": 428, \"BueroNettofl\": 141071.0, \"BueroLeerProz\": 0.3}, {\"StichtagDatJahr\": \"2019-01-01T00:00:00\", \"QuarSort\": 42, \"QuarLang\": \"Langstrasse\", \"KreisSort\": 4, \"KreisLang\": \"Kreis 4\", \"Nutzung\": \"Andere\", \"Leerflaeche\": 65, \"BueroNettofl\": null, \"BueroLeerProz\": null}, {\"StichtagDatJahr\": \"2019-01-01T00:00:00\", \"QuarSort\": 42, \"QuarLang\": \"Langstrasse\", \"KreisSort\": 4, \"KreisLang\": \"Kreis 4\", \"Nutzung\": \"Verkauf\", \"Leerflaeche\": 150, \"BueroNettofl\": null, \"BueroLeerProz\": null}, {\"StichtagDatJahr\": \"2019-01-01T00:00:00\", \"QuarSort\": 42, \"QuarLang\": \"Langstrasse\", \"KreisSort\": 4, \"KreisLang\": \"Kreis 4\", \"Nutzung\": \"Lager\", \"Leerflaeche\": 135, \"BueroNettofl\": null, \"BueroLeerProz\": null}, {\"StichtagDatJahr\": \"2019-01-01T00:00:00\", \"QuarSort\": 42, \"QuarLang\": \"Langstrasse\", \"KreisSort\": 4, \"KreisLang\": \"Kreis 4\", \"Nutzung\": \"B\\u00fcro\", \"Leerflaeche\": 1915, \"BueroNettofl\": 350701.0, \"BueroLeerProz\": 0.5}, {\"StichtagDatJahr\": \"2019-01-01T00:00:00\", \"QuarSort\": 44, \"QuarLang\": \"Hard\", \"KreisSort\": 4, \"KreisLang\": \"Kreis 4\", \"Nutzung\": \"Lager\", \"Leerflaeche\": 857, \"BueroNettofl\": null, \"BueroLeerProz\": null}, {\"StichtagDatJahr\": \"2019-01-01T00:00:00\", \"QuarSort\": 44, \"QuarLang\": \"Hard\", \"KreisSort\": 4, \"KreisLang\": \"Kreis 4\", \"Nutzung\": \"B\\u00fcro\", \"Leerflaeche\": 971, \"BueroNettofl\": 58860.0, \"BueroLeerProz\": 1.6}, {\"StichtagDatJahr\": \"2019-01-01T00:00:00\", \"QuarSort\": 51, \"QuarLang\": \"Gewerbeschule\", \"KreisSort\": 5, \"KreisLang\": \"Kreis 5\", \"Nutzung\": \"Andere\", \"Leerflaeche\": 10, \"BueroNettofl\": null, \"BueroLeerProz\": null}, {\"StichtagDatJahr\": \"2019-01-01T00:00:00\", \"QuarSort\": 52, \"QuarLang\": \"Escher Wyss\", \"KreisSort\": 5, \"KreisLang\": \"Kreis 5\", \"Nutzung\": \"Andere\", \"Leerflaeche\": 2604, \"BueroNettofl\": null, \"BueroLeerProz\": null}, {\"StichtagDatJahr\": \"2019-01-01T00:00:00\", \"QuarSort\": 52, \"QuarLang\": \"Escher Wyss\", \"KreisSort\": 5, \"KreisLang\": \"Kreis 5\", \"Nutzung\": \"Werkstatt\", \"Leerflaeche\": 253, \"BueroNettofl\": null, \"BueroLeerProz\": null}, {\"StichtagDatJahr\": \"2019-01-01T00:00:00\", \"QuarSort\": 52, \"QuarLang\": \"Escher Wyss\", \"KreisSort\": 5, \"KreisLang\": \"Kreis 5\", \"Nutzung\": \"Verkauf\", \"Leerflaeche\": 706, \"BueroNettofl\": null, \"BueroLeerProz\": null}, {\"StichtagDatJahr\": \"2019-01-01T00:00:00\", \"QuarSort\": 52, \"QuarLang\": \"Escher Wyss\", \"KreisSort\": 5, \"KreisLang\": \"Kreis 5\", \"Nutzung\": \"Lager\", \"Leerflaeche\": 5032, \"BueroNettofl\": null, \"BueroLeerProz\": null}, {\"StichtagDatJahr\": \"2019-01-01T00:00:00\", \"QuarSort\": 52, \"QuarLang\": \"Escher Wyss\", \"KreisSort\": 5, \"KreisLang\": \"Kreis 5\", \"Nutzung\": \"B\\u00fcro\", \"Leerflaeche\": 4346, \"BueroNettofl\": 548635.0, \"BueroLeerProz\": 0.8}, {\"StichtagDatJahr\": \"2019-01-01T00:00:00\", \"QuarSort\": 61, \"QuarLang\": \"Unterstrass\", \"KreisSort\": 6, \"KreisLang\": \"Kreis 6\", \"Nutzung\": \"Verkauf\", \"Leerflaeche\": 449, \"BueroNettofl\": null, \"BueroLeerProz\": null}, {\"StichtagDatJahr\": \"2019-01-01T00:00:00\", \"QuarSort\": 61, \"QuarLang\": \"Unterstrass\", \"KreisSort\": 6, \"KreisLang\": \"Kreis 6\", \"Nutzung\": \"Lager\", \"Leerflaeche\": 1096, \"BueroNettofl\": null, \"BueroLeerProz\": null}, {\"StichtagDatJahr\": \"2019-01-01T00:00:00\", \"QuarSort\": 61, \"QuarLang\": \"Unterstrass\", \"KreisSort\": 6, \"KreisLang\": \"Kreis 6\", \"Nutzung\": \"B\\u00fcro\", \"Leerflaeche\": 1676, \"BueroNettofl\": 201543.0, \"BueroLeerProz\": 0.8}, {\"StichtagDatJahr\": \"2019-01-01T00:00:00\", \"QuarSort\": 63, \"QuarLang\": \"Oberstrass\", \"KreisSort\": 6, \"KreisLang\": \"Kreis 6\", \"Nutzung\": \"B\\u00fcro\", \"Leerflaeche\": 160, \"BueroNettofl\": 307232.0, \"BueroLeerProz\": 0.1}, {\"StichtagDatJahr\": \"2019-01-01T00:00:00\", \"QuarSort\": 71, \"QuarLang\": \"Fluntern\", \"KreisSort\": 7, \"KreisLang\": \"Kreis 7\", \"Nutzung\": \"Verkauf\", \"Leerflaeche\": 75, \"BueroNettofl\": null, \"BueroLeerProz\": null}, {\"StichtagDatJahr\": \"2019-01-01T00:00:00\", \"QuarSort\": 71, \"QuarLang\": \"Fluntern\", \"KreisSort\": 7, \"KreisLang\": \"Kreis 7\", \"Nutzung\": \"Lager\", \"Leerflaeche\": 25, \"BueroNettofl\": null, \"BueroLeerProz\": null}, {\"StichtagDatJahr\": \"2019-01-01T00:00:00\", \"QuarSort\": 72, \"QuarLang\": \"Hottingen\", \"KreisSort\": 7, \"KreisLang\": \"Kreis 7\", \"Nutzung\": \"Andere\", \"Leerflaeche\": 97, \"BueroNettofl\": null, \"BueroLeerProz\": null}, {\"StichtagDatJahr\": \"2019-01-01T00:00:00\", \"QuarSort\": 72, \"QuarLang\": \"Hottingen\", \"KreisSort\": 7, \"KreisLang\": \"Kreis 7\", \"Nutzung\": \"Lager\", \"Leerflaeche\": 277, \"BueroNettofl\": null, \"BueroLeerProz\": null}, {\"StichtagDatJahr\": \"2019-01-01T00:00:00\", \"QuarSort\": 72, \"QuarLang\": \"Hottingen\", \"KreisSort\": 7, \"KreisLang\": \"Kreis 7\", \"Nutzung\": \"B\\u00fcro\", \"Leerflaeche\": 2171, \"BueroNettofl\": 167844.0, \"BueroLeerProz\": 1.3}, {\"StichtagDatJahr\": \"2019-01-01T00:00:00\", \"QuarSort\": 73, \"QuarLang\": \"Hirslanden\", \"KreisSort\": 7, \"KreisLang\": \"Kreis 7\", \"Nutzung\": \"Verkauf\", \"Leerflaeche\": 176, \"BueroNettofl\": null, \"BueroLeerProz\": null}, {\"StichtagDatJahr\": \"2019-01-01T00:00:00\", \"QuarSort\": 73, \"QuarLang\": \"Hirslanden\", \"KreisSort\": 7, \"KreisLang\": \"Kreis 7\", \"Nutzung\": \"Lager\", \"Leerflaeche\": 37, \"BueroNettofl\": null, \"BueroLeerProz\": null}, {\"StichtagDatJahr\": \"2019-01-01T00:00:00\", \"QuarSort\": 73, \"QuarLang\": \"Hirslanden\", \"KreisSort\": 7, \"KreisLang\": \"Kreis 7\", \"Nutzung\": \"B\\u00fcro\", \"Leerflaeche\": 735, \"BueroNettofl\": 51838.0, \"BueroLeerProz\": 1.4}, {\"StichtagDatJahr\": \"2019-01-01T00:00:00\", \"QuarSort\": 74, \"QuarLang\": \"Witikon\", \"KreisSort\": 7, \"KreisLang\": \"Kreis 7\", \"Nutzung\": \"Lager\", \"Leerflaeche\": 72, \"BueroNettofl\": null, \"BueroLeerProz\": null}, {\"StichtagDatJahr\": \"2019-01-01T00:00:00\", \"QuarSort\": 81, \"QuarLang\": \"Seefeld\", \"KreisSort\": 8, \"KreisLang\": \"Kreis 8\", \"Nutzung\": \"Andere\", \"Leerflaeche\": 23, \"BueroNettofl\": null, \"BueroLeerProz\": null}, {\"StichtagDatJahr\": \"2019-01-01T00:00:00\", \"QuarSort\": 81, \"QuarLang\": \"Seefeld\", \"KreisSort\": 8, \"KreisLang\": \"Kreis 8\", \"Nutzung\": \"Verkauf\", \"Leerflaeche\": 380, \"BueroNettofl\": null, \"BueroLeerProz\": null}, {\"StichtagDatJahr\": \"2019-01-01T00:00:00\", \"QuarSort\": 81, \"QuarLang\": \"Seefeld\", \"KreisSort\": 8, \"KreisLang\": \"Kreis 8\", \"Nutzung\": \"Lager\", \"Leerflaeche\": 645, \"BueroNettofl\": null, \"BueroLeerProz\": null}, {\"StichtagDatJahr\": \"2019-01-01T00:00:00\", \"QuarSort\": 81, \"QuarLang\": \"Seefeld\", \"KreisSort\": 8, \"KreisLang\": \"Kreis 8\", \"Nutzung\": \"B\\u00fcro\", \"Leerflaeche\": 3565, \"BueroNettofl\": 167527.0, \"BueroLeerProz\": 2.1}, {\"StichtagDatJahr\": \"2019-01-01T00:00:00\", \"QuarSort\": 82, \"QuarLang\": \"M\\u00fchlebach\", \"KreisSort\": 8, \"KreisLang\": \"Kreis 8\", \"Nutzung\": \"Lager\", \"Leerflaeche\": 500, \"BueroNettofl\": null, \"BueroLeerProz\": null}, {\"StichtagDatJahr\": \"2019-01-01T00:00:00\", \"QuarSort\": 82, \"QuarLang\": \"M\\u00fchlebach\", \"KreisSort\": 8, \"KreisLang\": \"Kreis 8\", \"Nutzung\": \"B\\u00fcro\", \"Leerflaeche\": 5484, \"BueroNettofl\": 166063.0, \"BueroLeerProz\": 3.3}, {\"StichtagDatJahr\": \"2019-01-01T00:00:00\", \"QuarSort\": 83, \"QuarLang\": \"Weinegg\", \"KreisSort\": 8, \"KreisLang\": \"Kreis 8\", \"Nutzung\": \"B\\u00fcro\", \"Leerflaeche\": 600, \"BueroNettofl\": 63311.0, \"BueroLeerProz\": 0.9}, {\"StichtagDatJahr\": \"2019-01-01T00:00:00\", \"QuarSort\": 91, \"QuarLang\": \"Albisrieden\", \"KreisSort\": 9, \"KreisLang\": \"Kreis 9\", \"Nutzung\": \"Werkstatt\", \"Leerflaeche\": 420, \"BueroNettofl\": null, \"BueroLeerProz\": null}, {\"StichtagDatJahr\": \"2019-01-01T00:00:00\", \"QuarSort\": 91, \"QuarLang\": \"Albisrieden\", \"KreisSort\": 9, \"KreisLang\": \"Kreis 9\", \"Nutzung\": \"Lager\", \"Leerflaeche\": 296, \"BueroNettofl\": null, \"BueroLeerProz\": null}, {\"StichtagDatJahr\": \"2019-01-01T00:00:00\", \"QuarSort\": 91, \"QuarLang\": \"Albisrieden\", \"KreisSort\": 9, \"KreisLang\": \"Kreis 9\", \"Nutzung\": \"B\\u00fcro\", \"Leerflaeche\": 3473, \"BueroNettofl\": 110573.0, \"BueroLeerProz\": 3.1}, {\"StichtagDatJahr\": \"2019-01-01T00:00:00\", \"QuarSort\": 92, \"QuarLang\": \"Altstetten\", \"KreisSort\": 9, \"KreisLang\": \"Kreis 9\", \"Nutzung\": \"Andere\", \"Leerflaeche\": 220, \"BueroNettofl\": null, \"BueroLeerProz\": null}, {\"StichtagDatJahr\": \"2019-01-01T00:00:00\", \"QuarSort\": 92, \"QuarLang\": \"Altstetten\", \"KreisSort\": 9, \"KreisLang\": \"Kreis 9\", \"Nutzung\": \"Werkstatt\", \"Leerflaeche\": 137, \"BueroNettofl\": null, \"BueroLeerProz\": null}, {\"StichtagDatJahr\": \"2019-01-01T00:00:00\", \"QuarSort\": 92, \"QuarLang\": \"Altstetten\", \"KreisSort\": 9, \"KreisLang\": \"Kreis 9\", \"Nutzung\": \"Verkauf\", \"Leerflaeche\": 1106, \"BueroNettofl\": null, \"BueroLeerProz\": null}, {\"StichtagDatJahr\": \"2019-01-01T00:00:00\", \"QuarSort\": 92, \"QuarLang\": \"Altstetten\", \"KreisSort\": 9, \"KreisLang\": \"Kreis 9\", \"Nutzung\": \"Lager\", \"Leerflaeche\": 5851, \"BueroNettofl\": null, \"BueroLeerProz\": null}, {\"StichtagDatJahr\": \"2019-01-01T00:00:00\", \"QuarSort\": 92, \"QuarLang\": \"Altstetten\", \"KreisSort\": 9, \"KreisLang\": \"Kreis 9\", \"Nutzung\": \"B\\u00fcro\", \"Leerflaeche\": 14138, \"BueroNettofl\": 578703.0, \"BueroLeerProz\": 2.4}, {\"StichtagDatJahr\": \"2019-01-01T00:00:00\", \"QuarSort\": 101, \"QuarLang\": \"H\\u00f6ngg\", \"KreisSort\": 10, \"KreisLang\": \"Kreis 10\", \"Nutzung\": \"Andere\", \"Leerflaeche\": 74, \"BueroNettofl\": null, \"BueroLeerProz\": null}, {\"StichtagDatJahr\": \"2019-01-01T00:00:00\", \"QuarSort\": 101, \"QuarLang\": \"H\\u00f6ngg\", \"KreisSort\": 10, \"KreisLang\": \"Kreis 10\", \"Nutzung\": \"Lager\", \"Leerflaeche\": 130, \"BueroNettofl\": null, \"BueroLeerProz\": null}, {\"StichtagDatJahr\": \"2019-01-01T00:00:00\", \"QuarSort\": 101, \"QuarLang\": \"H\\u00f6ngg\", \"KreisSort\": 10, \"KreisLang\": \"Kreis 10\", \"Nutzung\": \"B\\u00fcro\", \"Leerflaeche\": 240, \"BueroNettofl\": 213385.0, \"BueroLeerProz\": 0.1}, {\"StichtagDatJahr\": \"2019-01-01T00:00:00\", \"QuarSort\": 102, \"QuarLang\": \"Wipkingen\", \"KreisSort\": 10, \"KreisLang\": \"Kreis 10\", \"Nutzung\": \"B\\u00fcro\", \"Leerflaeche\": 30, \"BueroNettofl\": 57575.0, \"BueroLeerProz\": 0.1}, {\"StichtagDatJahr\": \"2019-01-01T00:00:00\", \"QuarSort\": 111, \"QuarLang\": \"Affoltern\", \"KreisSort\": 11, \"KreisLang\": \"Kreis 11\", \"Nutzung\": \"Andere\", \"Leerflaeche\": 64, \"BueroNettofl\": null, \"BueroLeerProz\": null}, {\"StichtagDatJahr\": \"2019-01-01T00:00:00\", \"QuarSort\": 111, \"QuarLang\": \"Affoltern\", \"KreisSort\": 11, \"KreisLang\": \"Kreis 11\", \"Nutzung\": \"Lager\", \"Leerflaeche\": 13, \"BueroNettofl\": null, \"BueroLeerProz\": null}, {\"StichtagDatJahr\": \"2019-01-01T00:00:00\", \"QuarSort\": 111, \"QuarLang\": \"Affoltern\", \"KreisSort\": 11, \"KreisLang\": \"Kreis 11\", \"Nutzung\": \"B\\u00fcro\", \"Leerflaeche\": 797, \"BueroNettofl\": 22209.0, \"BueroLeerProz\": 3.6}, {\"StichtagDatJahr\": \"2019-01-01T00:00:00\", \"QuarSort\": 115, \"QuarLang\": \"Oerlikon\", \"KreisSort\": 11, \"KreisLang\": \"Kreis 11\", \"Nutzung\": \"Werkstatt\", \"Leerflaeche\": 457, \"BueroNettofl\": null, \"BueroLeerProz\": null}, {\"StichtagDatJahr\": \"2019-01-01T00:00:00\", \"QuarSort\": 115, \"QuarLang\": \"Oerlikon\", \"KreisSort\": 11, \"KreisLang\": \"Kreis 11\", \"Nutzung\": \"Verkauf\", \"Leerflaeche\": 850, \"BueroNettofl\": null, \"BueroLeerProz\": null}, {\"StichtagDatJahr\": \"2019-01-01T00:00:00\", \"QuarSort\": 115, \"QuarLang\": \"Oerlikon\", \"KreisSort\": 11, \"KreisLang\": \"Kreis 11\", \"Nutzung\": \"Lager\", \"Leerflaeche\": 2743, \"BueroNettofl\": null, \"BueroLeerProz\": null}, {\"StichtagDatJahr\": \"2019-01-01T00:00:00\", \"QuarSort\": 115, \"QuarLang\": \"Oerlikon\", \"KreisSort\": 11, \"KreisLang\": \"Kreis 11\", \"Nutzung\": \"B\\u00fcro\", \"Leerflaeche\": 13944, \"BueroNettofl\": 331917.0, \"BueroLeerProz\": 4.2}, {\"StichtagDatJahr\": \"2019-01-01T00:00:00\", \"QuarSort\": 115, \"QuarLang\": \"Oerlikon\", \"KreisSort\": 11, \"KreisLang\": \"Kreis 11\", \"Nutzung\": \"Andere\", \"Leerflaeche\": 678, \"BueroNettofl\": null, \"BueroLeerProz\": null}, {\"StichtagDatJahr\": \"2019-01-01T00:00:00\", \"QuarSort\": 119, \"QuarLang\": \"Seebach\", \"KreisSort\": 11, \"KreisLang\": \"Kreis 11\", \"Nutzung\": \"Lager\", \"Leerflaeche\": 3857, \"BueroNettofl\": null, \"BueroLeerProz\": null}, {\"StichtagDatJahr\": \"2019-01-01T00:00:00\", \"QuarSort\": 119, \"QuarLang\": \"Seebach\", \"KreisSort\": 11, \"KreisLang\": \"Kreis 11\", \"Nutzung\": \"B\\u00fcro\", \"Leerflaeche\": 21738, \"BueroNettofl\": 527385.0, \"BueroLeerProz\": 4.1}, {\"StichtagDatJahr\": \"2019-01-01T00:00:00\", \"QuarSort\": 119, \"QuarLang\": \"Seebach\", \"KreisSort\": 11, \"KreisLang\": \"Kreis 11\", \"Nutzung\": \"Verkauf\", \"Leerflaeche\": 544, \"BueroNettofl\": null, \"BueroLeerProz\": null}, {\"StichtagDatJahr\": \"2019-01-01T00:00:00\", \"QuarSort\": 121, \"QuarLang\": \"Saatlen\", \"KreisSort\": 12, \"KreisLang\": \"Kreis 12\", \"Nutzung\": \"Verkauf\", \"Leerflaeche\": 280, \"BueroNettofl\": null, \"BueroLeerProz\": null}, {\"StichtagDatJahr\": \"2019-01-01T00:00:00\", \"QuarSort\": 121, \"QuarLang\": \"Saatlen\", \"KreisSort\": 12, \"KreisLang\": \"Kreis 12\", \"Nutzung\": \"B\\u00fcro\", \"Leerflaeche\": 366, \"BueroNettofl\": 16081.0, \"BueroLeerProz\": 2.3}, {\"StichtagDatJahr\": \"2019-01-01T00:00:00\", \"QuarSort\": 122, \"QuarLang\": \"Schwamendingen-Mitte\", \"KreisSort\": 12, \"KreisLang\": \"Kreis 12\", \"Nutzung\": \"Verkauf\", \"Leerflaeche\": 90, \"BueroNettofl\": null, \"BueroLeerProz\": null}, {\"StichtagDatJahr\": \"2019-01-01T00:00:00\", \"QuarSort\": 122, \"QuarLang\": \"Schwamendingen-Mitte\", \"KreisSort\": 12, \"KreisLang\": \"Kreis 12\", \"Nutzung\": \"B\\u00fcro\", \"Leerflaeche\": 60, \"BueroNettofl\": 19376.0, \"BueroLeerProz\": 0.3}, {\"StichtagDatJahr\": \"2020-01-01T00:00:00\", \"QuarSort\": 11, \"QuarLang\": \"Rathaus\", \"KreisSort\": 1, \"KreisLang\": \"Kreis 1\", \"Nutzung\": \"Werkstatt\", \"Leerflaeche\": 140, \"BueroNettofl\": null, \"BueroLeerProz\": null}, {\"StichtagDatJahr\": \"2020-01-01T00:00:00\", \"QuarSort\": 11, \"QuarLang\": \"Rathaus\", \"KreisSort\": 1, \"KreisLang\": \"Kreis 1\", \"Nutzung\": \"Verkauf\", \"Leerflaeche\": 859, \"BueroNettofl\": null, \"BueroLeerProz\": null}, {\"StichtagDatJahr\": \"2020-01-01T00:00:00\", \"QuarSort\": 11, \"QuarLang\": \"Rathaus\", \"KreisSort\": 1, \"KreisLang\": \"Kreis 1\", \"Nutzung\": \"Lager\", \"Leerflaeche\": 80, \"BueroNettofl\": null, \"BueroLeerProz\": null}, {\"StichtagDatJahr\": \"2020-01-01T00:00:00\", \"QuarSort\": 11, \"QuarLang\": \"Rathaus\", \"KreisSort\": 1, \"KreisLang\": \"Kreis 1\", \"Nutzung\": \"B\\u00fcro\", \"Leerflaeche\": 849, \"BueroNettofl\": 104345.0, \"BueroLeerProz\": 0.8}, {\"StichtagDatJahr\": \"2020-01-01T00:00:00\", \"QuarSort\": 12, \"QuarLang\": \"Hochschulen\", \"KreisSort\": 1, \"KreisLang\": \"Kreis 1\", \"Nutzung\": \"Verkauf\", \"Leerflaeche\": 212, \"BueroNettofl\": null, \"BueroLeerProz\": null}, {\"StichtagDatJahr\": \"2020-01-01T00:00:00\", \"QuarSort\": 12, \"QuarLang\": \"Hochschulen\", \"KreisSort\": 1, \"KreisLang\": \"Kreis 1\", \"Nutzung\": \"B\\u00fcro\", \"Leerflaeche\": 1518, \"BueroNettofl\": 195700.0, \"BueroLeerProz\": 0.8}, {\"StichtagDatJahr\": \"2020-01-01T00:00:00\", \"QuarSort\": 13, \"QuarLang\": \"Lindenhof\", \"KreisSort\": 1, \"KreisLang\": \"Kreis 1\", \"Nutzung\": \"Verkauf\", \"Leerflaeche\": 100, \"BueroNettofl\": null, \"BueroLeerProz\": null}, {\"StichtagDatJahr\": \"2020-01-01T00:00:00\", \"QuarSort\": 13, \"QuarLang\": \"Lindenhof\", \"KreisSort\": 1, \"KreisLang\": \"Kreis 1\", \"Nutzung\": \"Lager\", \"Leerflaeche\": 138, \"BueroNettofl\": null, \"BueroLeerProz\": null}, {\"StichtagDatJahr\": \"2020-01-01T00:00:00\", \"QuarSort\": 13, \"QuarLang\": \"Lindenhof\", \"KreisSort\": 1, \"KreisLang\": \"Kreis 1\", \"Nutzung\": \"B\\u00fcro\", \"Leerflaeche\": 2073, \"BueroNettofl\": 193895.0, \"BueroLeerProz\": 1.1}, {\"StichtagDatJahr\": \"2020-01-01T00:00:00\", \"QuarSort\": 14, \"QuarLang\": \"City\", \"KreisSort\": 1, \"KreisLang\": \"Kreis 1\", \"Nutzung\": \"Andere\", \"Leerflaeche\": 70, \"BueroNettofl\": null, \"BueroLeerProz\": null}, {\"StichtagDatJahr\": \"2020-01-01T00:00:00\", \"QuarSort\": 14, \"QuarLang\": \"City\", \"KreisSort\": 1, \"KreisLang\": \"Kreis 1\", \"Nutzung\": \"Lager\", \"Leerflaeche\": 866, \"BueroNettofl\": null, \"BueroLeerProz\": null}, {\"StichtagDatJahr\": \"2020-01-01T00:00:00\", \"QuarSort\": 14, \"QuarLang\": \"City\", \"KreisSort\": 1, \"KreisLang\": \"Kreis 1\", \"Nutzung\": \"B\\u00fcro\", \"Leerflaeche\": 2929, \"BueroNettofl\": 404406.0, \"BueroLeerProz\": 0.7}, {\"StichtagDatJahr\": \"2020-01-01T00:00:00\", \"QuarSort\": 21, \"QuarLang\": \"Wollishofen\", \"KreisSort\": 2, \"KreisLang\": \"Kreis 2\", \"Nutzung\": \"Verkauf\", \"Leerflaeche\": 173, \"BueroNettofl\": null, \"BueroLeerProz\": null}, {\"StichtagDatJahr\": \"2020-01-01T00:00:00\", \"QuarSort\": 21, \"QuarLang\": \"Wollishofen\", \"KreisSort\": 2, \"KreisLang\": \"Kreis 2\", \"Nutzung\": \"Lager\", \"Leerflaeche\": 387, \"BueroNettofl\": null, \"BueroLeerProz\": null}, {\"StichtagDatJahr\": \"2020-01-01T00:00:00\", \"QuarSort\": 21, \"QuarLang\": \"Wollishofen\", \"KreisSort\": 2, \"KreisLang\": \"Kreis 2\", \"Nutzung\": \"B\\u00fcro\", \"Leerflaeche\": 3512, \"BueroNettofl\": 87141.0, \"BueroLeerProz\": 4.0}, {\"StichtagDatJahr\": \"2020-01-01T00:00:00\", \"QuarSort\": 23, \"QuarLang\": \"Leimbach\", \"KreisSort\": 2, \"KreisLang\": \"Kreis 2\", \"Nutzung\": \"B\\u00fcro\", \"Leerflaeche\": 40, \"BueroNettofl\": 3638.0, \"BueroLeerProz\": 1.1}, {\"StichtagDatJahr\": \"2020-01-01T00:00:00\", \"QuarSort\": 24, \"QuarLang\": \"Enge\", \"KreisSort\": 2, \"KreisLang\": \"Kreis 2\", \"Nutzung\": \"Andere\", \"Leerflaeche\": 1674, \"BueroNettofl\": null, \"BueroLeerProz\": null}, {\"StichtagDatJahr\": \"2020-01-01T00:00:00\", \"QuarSort\": 24, \"QuarLang\": \"Enge\", \"KreisSort\": 2, \"KreisLang\": \"Kreis 2\", \"Nutzung\": \"Verkauf\", \"Leerflaeche\": 379, \"BueroNettofl\": null, \"BueroLeerProz\": null}, {\"StichtagDatJahr\": \"2020-01-01T00:00:00\", \"QuarSort\": 24, \"QuarLang\": \"Enge\", \"KreisSort\": 2, \"KreisLang\": \"Kreis 2\", \"Nutzung\": \"Lager\", \"Leerflaeche\": 1239, \"BueroNettofl\": null, \"BueroLeerProz\": null}, {\"StichtagDatJahr\": \"2020-01-01T00:00:00\", \"QuarSort\": 24, \"QuarLang\": \"Enge\", \"KreisSort\": 2, \"KreisLang\": \"Kreis 2\", \"Nutzung\": \"B\\u00fcro\", \"Leerflaeche\": 5628, \"BueroNettofl\": 528789.0, \"BueroLeerProz\": 1.1}, {\"StichtagDatJahr\": \"2020-01-01T00:00:00\", \"QuarSort\": 31, \"QuarLang\": \"Alt-Wiedikon\", \"KreisSort\": 3, \"KreisLang\": \"Kreis 3\", \"Nutzung\": \"Andere\", \"Leerflaeche\": 32, \"BueroNettofl\": null, \"BueroLeerProz\": null}, {\"StichtagDatJahr\": \"2020-01-01T00:00:00\", \"QuarSort\": 31, \"QuarLang\": \"Alt-Wiedikon\", \"KreisSort\": 3, \"KreisLang\": \"Kreis 3\", \"Nutzung\": \"Werkstatt\", \"Leerflaeche\": 249, \"BueroNettofl\": null, \"BueroLeerProz\": null}, {\"StichtagDatJahr\": \"2020-01-01T00:00:00\", \"QuarSort\": 31, \"QuarLang\": \"Alt-Wiedikon\", \"KreisSort\": 3, \"KreisLang\": \"Kreis 3\", \"Nutzung\": \"Lager\", \"Leerflaeche\": 5297, \"BueroNettofl\": null, \"BueroLeerProz\": null}, {\"StichtagDatJahr\": \"2020-01-01T00:00:00\", \"QuarSort\": 31, \"QuarLang\": \"Alt-Wiedikon\", \"KreisSort\": 3, \"KreisLang\": \"Kreis 3\", \"Nutzung\": \"B\\u00fcro\", \"Leerflaeche\": 6355, \"BueroNettofl\": 429286.0, \"BueroLeerProz\": 1.5}, {\"StichtagDatJahr\": \"2020-01-01T00:00:00\", \"QuarSort\": 33, \"QuarLang\": \"Friesenberg\", \"KreisSort\": 3, \"KreisLang\": \"Kreis 3\", \"Nutzung\": \"B\\u00fcro\", \"Leerflaeche\": 136, \"BueroNettofl\": 11565.0, \"BueroLeerProz\": 1.2}, {\"StichtagDatJahr\": \"2020-01-01T00:00:00\", \"QuarSort\": 34, \"QuarLang\": \"Sihlfeld\", \"KreisSort\": 3, \"KreisLang\": \"Kreis 3\", \"Nutzung\": \"Verkauf\", \"Leerflaeche\": 183, \"BueroNettofl\": null, \"BueroLeerProz\": null}, {\"StichtagDatJahr\": \"2020-01-01T00:00:00\", \"QuarSort\": 34, \"QuarLang\": \"Sihlfeld\", \"KreisSort\": 3, \"KreisLang\": \"Kreis 3\", \"Nutzung\": \"Lager\", \"Leerflaeche\": 673, \"BueroNettofl\": null, \"BueroLeerProz\": null}, {\"StichtagDatJahr\": \"2020-01-01T00:00:00\", \"QuarSort\": 34, \"QuarLang\": \"Sihlfeld\", \"KreisSort\": 3, \"KreisLang\": \"Kreis 3\", \"Nutzung\": \"B\\u00fcro\", \"Leerflaeche\": 301, \"BueroNettofl\": 109664.0, \"BueroLeerProz\": 0.3}, {\"StichtagDatJahr\": \"2020-01-01T00:00:00\", \"QuarSort\": 41, \"QuarLang\": \"Werd\", \"KreisSort\": 4, \"KreisLang\": \"Kreis 4\", \"Nutzung\": \"Lager\", \"Leerflaeche\": 155, \"BueroNettofl\": null, \"BueroLeerProz\": null}, {\"StichtagDatJahr\": \"2020-01-01T00:00:00\", \"QuarSort\": 41, \"QuarLang\": \"Werd\", \"KreisSort\": 4, \"KreisLang\": \"Kreis 4\", \"Nutzung\": \"B\\u00fcro\", \"Leerflaeche\": 934, \"BueroNettofl\": 140813.0, \"BueroLeerProz\": 0.7}, {\"StichtagDatJahr\": \"2020-01-01T00:00:00\", \"QuarSort\": 42, \"QuarLang\": \"Langstrasse\", \"KreisSort\": 4, \"KreisLang\": \"Kreis 4\", \"Nutzung\": \"Werkstatt\", \"Leerflaeche\": 220, \"BueroNettofl\": null, \"BueroLeerProz\": null}, {\"StichtagDatJahr\": \"2020-01-01T00:00:00\", \"QuarSort\": 42, \"QuarLang\": \"Langstrasse\", \"KreisSort\": 4, \"KreisLang\": \"Kreis 4\", \"Nutzung\": \"Verkauf\", \"Leerflaeche\": 98, \"BueroNettofl\": null, \"BueroLeerProz\": null}, {\"StichtagDatJahr\": \"2020-01-01T00:00:00\", \"QuarSort\": 42, \"QuarLang\": \"Langstrasse\", \"KreisSort\": 4, \"KreisLang\": \"Kreis 4\", \"Nutzung\": \"Lager\", \"Leerflaeche\": 779, \"BueroNettofl\": null, \"BueroLeerProz\": null}, {\"StichtagDatJahr\": \"2020-01-01T00:00:00\", \"QuarSort\": 42, \"QuarLang\": \"Langstrasse\", \"KreisSort\": 4, \"KreisLang\": \"Kreis 4\", \"Nutzung\": \"B\\u00fcro\", \"Leerflaeche\": 2929, \"BueroNettofl\": 360564.0, \"BueroLeerProz\": 0.8}, {\"StichtagDatJahr\": \"2020-01-01T00:00:00\", \"QuarSort\": 44, \"QuarLang\": \"Hard\", \"KreisSort\": 4, \"KreisLang\": \"Kreis 4\", \"Nutzung\": \"Verkauf\", \"Leerflaeche\": 106, \"BueroNettofl\": null, \"BueroLeerProz\": null}, {\"StichtagDatJahr\": \"2020-01-01T00:00:00\", \"QuarSort\": 44, \"QuarLang\": \"Hard\", \"KreisSort\": 4, \"KreisLang\": \"Kreis 4\", \"Nutzung\": \"B\\u00fcro\", \"Leerflaeche\": 36, \"BueroNettofl\": 59199.0, \"BueroLeerProz\": 0.1}, {\"StichtagDatJahr\": \"2020-01-01T00:00:00\", \"QuarSort\": 51, \"QuarLang\": \"Gewerbeschule\", \"KreisSort\": 5, \"KreisLang\": \"Kreis 5\", \"Nutzung\": \"Andere\", \"Leerflaeche\": 128, \"BueroNettofl\": null, \"BueroLeerProz\": null}, {\"StichtagDatJahr\": \"2020-01-01T00:00:00\", \"QuarSort\": 51, \"QuarLang\": \"Gewerbeschule\", \"KreisSort\": 5, \"KreisLang\": \"Kreis 5\", \"Nutzung\": \"Verkauf\", \"Leerflaeche\": 131, \"BueroNettofl\": null, \"BueroLeerProz\": null}, {\"StichtagDatJahr\": \"2020-01-01T00:00:00\", \"QuarSort\": 51, \"QuarLang\": \"Gewerbeschule\", \"KreisSort\": 5, \"KreisLang\": \"Kreis 5\", \"Nutzung\": \"Lager\", \"Leerflaeche\": 2156, \"BueroNettofl\": null, \"BueroLeerProz\": null}, {\"StichtagDatJahr\": \"2020-01-01T00:00:00\", \"QuarSort\": 51, \"QuarLang\": \"Gewerbeschule\", \"KreisSort\": 5, \"KreisLang\": \"Kreis 5\", \"Nutzung\": \"B\\u00fcro\", \"Leerflaeche\": 348, \"BueroNettofl\": 246589.0, \"BueroLeerProz\": 0.1}, {\"StichtagDatJahr\": \"2020-01-01T00:00:00\", \"QuarSort\": 52, \"QuarLang\": \"Escher Wyss\", \"KreisSort\": 5, \"KreisLang\": \"Kreis 5\", \"Nutzung\": \"Andere\", \"Leerflaeche\": 228, \"BueroNettofl\": null, \"BueroLeerProz\": null}, {\"StichtagDatJahr\": \"2020-01-01T00:00:00\", \"QuarSort\": 52, \"QuarLang\": \"Escher Wyss\", \"KreisSort\": 5, \"KreisLang\": \"Kreis 5\", \"Nutzung\": \"Verkauf\", \"Leerflaeche\": 675, \"BueroNettofl\": null, \"BueroLeerProz\": null}, {\"StichtagDatJahr\": \"2020-01-01T00:00:00\", \"QuarSort\": 52, \"QuarLang\": \"Escher Wyss\", \"KreisSort\": 5, \"KreisLang\": \"Kreis 5\", \"Nutzung\": \"Lager\", \"Leerflaeche\": 3584, \"BueroNettofl\": null, \"BueroLeerProz\": null}, {\"StichtagDatJahr\": \"2020-01-01T00:00:00\", \"QuarSort\": 52, \"QuarLang\": \"Escher Wyss\", \"KreisSort\": 5, \"KreisLang\": \"Kreis 5\", \"Nutzung\": \"B\\u00fcro\", \"Leerflaeche\": 3342, \"BueroNettofl\": 502620.0, \"BueroLeerProz\": 0.7}, {\"StichtagDatJahr\": \"2020-01-01T00:00:00\", \"QuarSort\": 61, \"QuarLang\": \"Unterstrass\", \"KreisSort\": 6, \"KreisLang\": \"Kreis 6\", \"Nutzung\": \"Lager\", \"Leerflaeche\": 345, \"BueroNettofl\": null, \"BueroLeerProz\": null}, {\"StichtagDatJahr\": \"2020-01-01T00:00:00\", \"QuarSort\": 61, \"QuarLang\": \"Unterstrass\", \"KreisSort\": 6, \"KreisLang\": \"Kreis 6\", \"Nutzung\": \"B\\u00fcro\", \"Leerflaeche\": 1393, \"BueroNettofl\": 193309.0, \"BueroLeerProz\": 0.7}, {\"StichtagDatJahr\": \"2020-01-01T00:00:00\", \"QuarSort\": 63, \"QuarLang\": \"Oberstrass\", \"KreisSort\": 6, \"KreisLang\": \"Kreis 6\", \"Nutzung\": \"Verkauf\", \"Leerflaeche\": 53, \"BueroNettofl\": null, \"BueroLeerProz\": null}, {\"StichtagDatJahr\": \"2020-01-01T00:00:00\", \"QuarSort\": 63, \"QuarLang\": \"Oberstrass\", \"KreisSort\": 6, \"KreisLang\": \"Kreis 6\", \"Nutzung\": \"B\\u00fcro\", \"Leerflaeche\": 337, \"BueroNettofl\": 307328.0, \"BueroLeerProz\": 0.1}, {\"StichtagDatJahr\": \"2020-01-01T00:00:00\", \"QuarSort\": 72, \"QuarLang\": \"Hottingen\", \"KreisSort\": 7, \"KreisLang\": \"Kreis 7\", \"Nutzung\": \"Verkauf\", \"Leerflaeche\": 157, \"BueroNettofl\": null, \"BueroLeerProz\": null}, {\"StichtagDatJahr\": \"2020-01-01T00:00:00\", \"QuarSort\": 72, \"QuarLang\": \"Hottingen\", \"KreisSort\": 7, \"KreisLang\": \"Kreis 7\", \"Nutzung\": \"B\\u00fcro\", \"Leerflaeche\": 1023, \"BueroNettofl\": 167485.0, \"BueroLeerProz\": 0.6}, {\"StichtagDatJahr\": \"2020-01-01T00:00:00\", \"QuarSort\": 73, \"QuarLang\": \"Hirslanden\", \"KreisSort\": 7, \"KreisLang\": \"Kreis 7\", \"Nutzung\": \"B\\u00fcro\", \"Leerflaeche\": 265, \"BueroNettofl\": 51186.0, \"BueroLeerProz\": 0.5}, {\"StichtagDatJahr\": \"2020-01-01T00:00:00\", \"QuarSort\": 74, \"QuarLang\": \"Witikon\", \"KreisSort\": 7, \"KreisLang\": \"Kreis 7\", \"Nutzung\": \"Verkauf\", \"Leerflaeche\": 35, \"BueroNettofl\": null, \"BueroLeerProz\": null}, {\"StichtagDatJahr\": \"2020-01-01T00:00:00\", \"QuarSort\": 74, \"QuarLang\": \"Witikon\", \"KreisSort\": 7, \"KreisLang\": \"Kreis 7\", \"Nutzung\": \"Lager\", \"Leerflaeche\": 275, \"BueroNettofl\": null, \"BueroLeerProz\": null}, {\"StichtagDatJahr\": \"2020-01-01T00:00:00\", \"QuarSort\": 74, \"QuarLang\": \"Witikon\", \"KreisSort\": 7, \"KreisLang\": \"Kreis 7\", \"Nutzung\": \"B\\u00fcro\", \"Leerflaeche\": 831, \"BueroNettofl\": 10786.0, \"BueroLeerProz\": 7.7}, {\"StichtagDatJahr\": \"2020-01-01T00:00:00\", \"QuarSort\": 81, \"QuarLang\": \"Seefeld\", \"KreisSort\": 8, \"KreisLang\": \"Kreis 8\", \"Nutzung\": \"Verkauf\", \"Leerflaeche\": 154, \"BueroNettofl\": null, \"BueroLeerProz\": null}, {\"StichtagDatJahr\": \"2020-01-01T00:00:00\", \"QuarSort\": 81, \"QuarLang\": \"Seefeld\", \"KreisSort\": 8, \"KreisLang\": \"Kreis 8\", \"Nutzung\": \"Lager\", \"Leerflaeche\": 873, \"BueroNettofl\": null, \"BueroLeerProz\": null}, {\"StichtagDatJahr\": \"2020-01-01T00:00:00\", \"QuarSort\": 81, \"QuarLang\": \"Seefeld\", \"KreisSort\": 8, \"KreisLang\": \"Kreis 8\", \"Nutzung\": \"B\\u00fcro\", \"Leerflaeche\": 7329, \"BueroNettofl\": 167806.0, \"BueroLeerProz\": 4.4}, {\"StichtagDatJahr\": \"2020-01-01T00:00:00\", \"QuarSort\": 82, \"QuarLang\": \"M\\u00fchlebach\", \"KreisSort\": 8, \"KreisLang\": \"Kreis 8\", \"Nutzung\": \"Lager\", \"Leerflaeche\": 132, \"BueroNettofl\": null, \"BueroLeerProz\": null}, {\"StichtagDatJahr\": \"2020-01-01T00:00:00\", \"QuarSort\": 82, \"QuarLang\": \"M\\u00fchlebach\", \"KreisSort\": 8, \"KreisLang\": \"Kreis 8\", \"Nutzung\": \"B\\u00fcro\", \"Leerflaeche\": 2854, \"BueroNettofl\": 170819.0, \"BueroLeerProz\": 1.7}, {\"StichtagDatJahr\": \"2020-01-01T00:00:00\", \"QuarSort\": 83, \"QuarLang\": \"Weinegg\", \"KreisSort\": 8, \"KreisLang\": \"Kreis 8\", \"Nutzung\": \"Lager\", \"Leerflaeche\": 123, \"BueroNettofl\": null, \"BueroLeerProz\": null}, {\"StichtagDatJahr\": \"2020-01-01T00:00:00\", \"QuarSort\": 83, \"QuarLang\": \"Weinegg\", \"KreisSort\": 8, \"KreisLang\": \"Kreis 8\", \"Nutzung\": \"B\\u00fcro\", \"Leerflaeche\": 50, \"BueroNettofl\": 62537.0, \"BueroLeerProz\": 0.1}, {\"StichtagDatJahr\": \"2020-01-01T00:00:00\", \"QuarSort\": 91, \"QuarLang\": \"Albisrieden\", \"KreisSort\": 9, \"KreisLang\": \"Kreis 9\", \"Nutzung\": \"Lager\", \"Leerflaeche\": 103, \"BueroNettofl\": null, \"BueroLeerProz\": null}, {\"StichtagDatJahr\": \"2020-01-01T00:00:00\", \"QuarSort\": 91, \"QuarLang\": \"Albisrieden\", \"KreisSort\": 9, \"KreisLang\": \"Kreis 9\", \"Nutzung\": \"B\\u00fcro\", \"Leerflaeche\": 560, \"BueroNettofl\": 120113.0, \"BueroLeerProz\": 0.5}, {\"StichtagDatJahr\": \"2020-01-01T00:00:00\", \"QuarSort\": 92, \"QuarLang\": \"Altstetten\", \"KreisSort\": 9, \"KreisLang\": \"Kreis 9\", \"Nutzung\": \"Andere\", \"Leerflaeche\": 123, \"BueroNettofl\": null, \"BueroLeerProz\": null}, {\"StichtagDatJahr\": \"2020-01-01T00:00:00\", \"QuarSort\": 92, \"QuarLang\": \"Altstetten\", \"KreisSort\": 9, \"KreisLang\": \"Kreis 9\", \"Nutzung\": \"Werkstatt\", \"Leerflaeche\": 100, \"BueroNettofl\": null, \"BueroLeerProz\": null}, {\"StichtagDatJahr\": \"2020-01-01T00:00:00\", \"QuarSort\": 92, \"QuarLang\": \"Altstetten\", \"KreisSort\": 9, \"KreisLang\": \"Kreis 9\", \"Nutzung\": \"Verkauf\", \"Leerflaeche\": 571, \"BueroNettofl\": null, \"BueroLeerProz\": null}, {\"StichtagDatJahr\": \"2020-01-01T00:00:00\", \"QuarSort\": 92, \"QuarLang\": \"Altstetten\", \"KreisSort\": 9, \"KreisLang\": \"Kreis 9\", \"Nutzung\": \"Lager\", \"Leerflaeche\": 6169, \"BueroNettofl\": null, \"BueroLeerProz\": null}, {\"StichtagDatJahr\": \"2020-01-01T00:00:00\", \"QuarSort\": 92, \"QuarLang\": \"Altstetten\", \"KreisSort\": 9, \"KreisLang\": \"Kreis 9\", \"Nutzung\": \"B\\u00fcro\", \"Leerflaeche\": 20754, \"BueroNettofl\": 571046.0, \"BueroLeerProz\": 3.6}, {\"StichtagDatJahr\": \"2020-01-01T00:00:00\", \"QuarSort\": 101, \"QuarLang\": \"H\\u00f6ngg\", \"KreisSort\": 10, \"KreisLang\": \"Kreis 10\", \"Nutzung\": \"Lager\", \"Leerflaeche\": 172, \"BueroNettofl\": null, \"BueroLeerProz\": null}, {\"StichtagDatJahr\": \"2020-01-01T00:00:00\", \"QuarSort\": 101, \"QuarLang\": \"H\\u00f6ngg\", \"KreisSort\": 10, \"KreisLang\": \"Kreis 10\", \"Nutzung\": \"B\\u00fcro\", \"Leerflaeche\": 76, \"BueroNettofl\": 209994.0, \"BueroLeerProz\": 0.0}, {\"StichtagDatJahr\": \"2020-01-01T00:00:00\", \"QuarSort\": 102, \"QuarLang\": \"Wipkingen\", \"KreisSort\": 10, \"KreisLang\": \"Kreis 10\", \"Nutzung\": \"Lager\", \"Leerflaeche\": 272, \"BueroNettofl\": null, \"BueroLeerProz\": null}, {\"StichtagDatJahr\": \"2020-01-01T00:00:00\", \"QuarSort\": 102, \"QuarLang\": \"Wipkingen\", \"KreisSort\": 10, \"KreisLang\": \"Kreis 10\", \"Nutzung\": \"B\\u00fcro\", \"Leerflaeche\": 145, \"BueroNettofl\": 53779.0, \"BueroLeerProz\": 0.3}, {\"StichtagDatJahr\": \"2020-01-01T00:00:00\", \"QuarSort\": 111, \"QuarLang\": \"Affoltern\", \"KreisSort\": 11, \"KreisLang\": \"Kreis 11\", \"Nutzung\": \"Werkstatt\", \"Leerflaeche\": 200, \"BueroNettofl\": null, \"BueroLeerProz\": null}, {\"StichtagDatJahr\": \"2020-01-01T00:00:00\", \"QuarSort\": 111, \"QuarLang\": \"Affoltern\", \"KreisSort\": 11, \"KreisLang\": \"Kreis 11\", \"Nutzung\": \"Lager\", \"Leerflaeche\": 44, \"BueroNettofl\": null, \"BueroLeerProz\": null}, {\"StichtagDatJahr\": \"2020-01-01T00:00:00\", \"QuarSort\": 111, \"QuarLang\": \"Affoltern\", \"KreisSort\": 11, \"KreisLang\": \"Kreis 11\", \"Nutzung\": \"B\\u00fcro\", \"Leerflaeche\": 256, \"BueroNettofl\": 22919.0, \"BueroLeerProz\": 1.1}, {\"StichtagDatJahr\": \"2020-01-01T00:00:00\", \"QuarSort\": 115, \"QuarLang\": \"Oerlikon\", \"KreisSort\": 11, \"KreisLang\": \"Kreis 11\", \"Nutzung\": \"Werkstatt\", \"Leerflaeche\": 252, \"BueroNettofl\": null, \"BueroLeerProz\": null}, {\"StichtagDatJahr\": \"2020-01-01T00:00:00\", \"QuarSort\": 115, \"QuarLang\": \"Oerlikon\", \"KreisSort\": 11, \"KreisLang\": \"Kreis 11\", \"Nutzung\": \"Verkauf\", \"Leerflaeche\": 382, \"BueroNettofl\": null, \"BueroLeerProz\": null}, {\"StichtagDatJahr\": \"2020-01-01T00:00:00\", \"QuarSort\": 115, \"QuarLang\": \"Oerlikon\", \"KreisSort\": 11, \"KreisLang\": \"Kreis 11\", \"Nutzung\": \"Lager\", \"Leerflaeche\": 2258, \"BueroNettofl\": null, \"BueroLeerProz\": null}, {\"StichtagDatJahr\": \"2020-01-01T00:00:00\", \"QuarSort\": 115, \"QuarLang\": \"Oerlikon\", \"KreisSort\": 11, \"KreisLang\": \"Kreis 11\", \"Nutzung\": \"B\\u00fcro\", \"Leerflaeche\": 4732, \"BueroNettofl\": 333457.0, \"BueroLeerProz\": 1.4}, {\"StichtagDatJahr\": \"2020-01-01T00:00:00\", \"QuarSort\": 119, \"QuarLang\": \"Seebach\", \"KreisSort\": 11, \"KreisLang\": \"Kreis 11\", \"Nutzung\": \"Verkauf\", \"Leerflaeche\": 1088, \"BueroNettofl\": null, \"BueroLeerProz\": null}, {\"StichtagDatJahr\": \"2020-01-01T00:00:00\", \"QuarSort\": 119, \"QuarLang\": \"Seebach\", \"KreisSort\": 11, \"KreisLang\": \"Kreis 11\", \"Nutzung\": \"Lager\", \"Leerflaeche\": 3503, \"BueroNettofl\": null, \"BueroLeerProz\": null}, {\"StichtagDatJahr\": \"2020-01-01T00:00:00\", \"QuarSort\": 119, \"QuarLang\": \"Seebach\", \"KreisSort\": 11, \"KreisLang\": \"Kreis 11\", \"Nutzung\": \"B\\u00fcro\", \"Leerflaeche\": 14912, \"BueroNettofl\": 526544.0, \"BueroLeerProz\": 2.8}, {\"StichtagDatJahr\": \"2020-01-01T00:00:00\", \"QuarSort\": 121, \"QuarLang\": \"Saatlen\", \"KreisSort\": 12, \"KreisLang\": \"Kreis 12\", \"Nutzung\": \"Werkstatt\", \"Leerflaeche\": 450, \"BueroNettofl\": null, \"BueroLeerProz\": null}, {\"StichtagDatJahr\": \"2020-01-01T00:00:00\", \"QuarSort\": 121, \"QuarLang\": \"Saatlen\", \"KreisSort\": 12, \"KreisLang\": \"Kreis 12\", \"Nutzung\": \"B\\u00fcro\", \"Leerflaeche\": 618, \"BueroNettofl\": 14337.0, \"BueroLeerProz\": 4.3}, {\"StichtagDatJahr\": \"2020-01-01T00:00:00\", \"QuarSort\": 122, \"QuarLang\": \"Schwamendingen-Mitte\", \"KreisSort\": 12, \"KreisLang\": \"Kreis 12\", \"Nutzung\": \"Werkstatt\", \"Leerflaeche\": 180, \"BueroNettofl\": null, \"BueroLeerProz\": null}, {\"StichtagDatJahr\": \"2020-01-01T00:00:00\", \"QuarSort\": 122, \"QuarLang\": \"Schwamendingen-Mitte\", \"KreisSort\": 12, \"KreisLang\": \"Kreis 12\", \"Nutzung\": \"Lager\", \"Leerflaeche\": 274, \"BueroNettofl\": null, \"BueroLeerProz\": null}, {\"StichtagDatJahr\": \"2020-01-01T00:00:00\", \"QuarSort\": 122, \"QuarLang\": \"Schwamendingen-Mitte\", \"KreisSort\": 12, \"KreisLang\": \"Kreis 12\", \"Nutzung\": \"B\\u00fcro\", \"Leerflaeche\": 513, \"BueroNettofl\": 18046.0, \"BueroLeerProz\": 2.8}, {\"StichtagDatJahr\": \"2021-01-01T00:00:00\", \"QuarSort\": 11, \"QuarLang\": \"Rathaus\", \"KreisSort\": 1, \"KreisLang\": \"Kreis 1\", \"Nutzung\": \"B\\u00fcro\", \"Leerflaeche\": 373, \"BueroNettofl\": 103999.0, \"BueroLeerProz\": 0.4}, {\"StichtagDatJahr\": \"2021-01-01T00:00:00\", \"QuarSort\": 11, \"QuarLang\": \"Rathaus\", \"KreisSort\": 1, \"KreisLang\": \"Kreis 1\", \"Nutzung\": \"Andere\", \"Leerflaeche\": 245, \"BueroNettofl\": null, \"BueroLeerProz\": null}, {\"StichtagDatJahr\": \"2021-01-01T00:00:00\", \"QuarSort\": 11, \"QuarLang\": \"Rathaus\", \"KreisSort\": 1, \"KreisLang\": \"Kreis 1\", \"Nutzung\": \"Werkstatt\", \"Leerflaeche\": 304, \"BueroNettofl\": null, \"BueroLeerProz\": null}, {\"StichtagDatJahr\": \"2021-01-01T00:00:00\", \"QuarSort\": 11, \"QuarLang\": \"Rathaus\", \"KreisSort\": 1, \"KreisLang\": \"Kreis 1\", \"Nutzung\": \"Lager\", \"Leerflaeche\": 809, \"BueroNettofl\": null, \"BueroLeerProz\": null}, {\"StichtagDatJahr\": \"2021-01-01T00:00:00\", \"QuarSort\": 12, \"QuarLang\": \"Hochschulen\", \"KreisSort\": 1, \"KreisLang\": \"Kreis 1\", \"Nutzung\": \"Verkauf\", \"Leerflaeche\": 170, \"BueroNettofl\": null, \"BueroLeerProz\": null}, {\"StichtagDatJahr\": \"2021-01-01T00:00:00\", \"QuarSort\": 12, \"QuarLang\": \"Hochschulen\", \"KreisSort\": 1, \"KreisLang\": \"Kreis 1\", \"Nutzung\": \"B\\u00fcro\", \"Leerflaeche\": 300, \"BueroNettofl\": 194642.0, \"BueroLeerProz\": 0.2}, {\"StichtagDatJahr\": \"2021-01-01T00:00:00\", \"QuarSort\": 13, \"QuarLang\": \"Lindenhof\", \"KreisSort\": 1, \"KreisLang\": \"Kreis 1\", \"Nutzung\": \"Lager\", \"Leerflaeche\": 138, \"BueroNettofl\": null, \"BueroLeerProz\": null}, {\"StichtagDatJahr\": \"2021-01-01T00:00:00\", \"QuarSort\": 13, \"QuarLang\": \"Lindenhof\", \"KreisSort\": 1, \"KreisLang\": \"Kreis 1\", \"Nutzung\": \"B\\u00fcro\", \"Leerflaeche\": 1843, \"BueroNettofl\": 193235.0, \"BueroLeerProz\": 1.0}, {\"StichtagDatJahr\": \"2021-01-01T00:00:00\", \"QuarSort\": 14, \"QuarLang\": \"City\", \"KreisSort\": 1, \"KreisLang\": \"Kreis 1\", \"Nutzung\": \"B\\u00fcro\", \"Leerflaeche\": 2618, \"BueroNettofl\": 404750.0, \"BueroLeerProz\": 0.6}, {\"StichtagDatJahr\": \"2021-01-01T00:00:00\", \"QuarSort\": 14, \"QuarLang\": \"City\", \"KreisSort\": 1, \"KreisLang\": \"Kreis 1\", \"Nutzung\": \"Andere\", \"Leerflaeche\": 7, \"BueroNettofl\": null, \"BueroLeerProz\": null}, {\"StichtagDatJahr\": \"2021-01-01T00:00:00\", \"QuarSort\": 14, \"QuarLang\": \"City\", \"KreisSort\": 1, \"KreisLang\": \"Kreis 1\", \"Nutzung\": \"Verkauf\", \"Leerflaeche\": 539, \"BueroNettofl\": null, \"BueroLeerProz\": null}, {\"StichtagDatJahr\": \"2021-01-01T00:00:00\", \"QuarSort\": 14, \"QuarLang\": \"City\", \"KreisSort\": 1, \"KreisLang\": \"Kreis 1\", \"Nutzung\": \"Lager\", \"Leerflaeche\": 411, \"BueroNettofl\": null, \"BueroLeerProz\": null}, {\"StichtagDatJahr\": \"2021-01-01T00:00:00\", \"QuarSort\": 21, \"QuarLang\": \"Wollishofen\", \"KreisSort\": 2, \"KreisLang\": \"Kreis 2\", \"Nutzung\": \"Lager\", \"Leerflaeche\": 324, \"BueroNettofl\": null, \"BueroLeerProz\": null}, {\"StichtagDatJahr\": \"2021-01-01T00:00:00\", \"QuarSort\": 21, \"QuarLang\": \"Wollishofen\", \"KreisSort\": 2, \"KreisLang\": \"Kreis 2\", \"Nutzung\": \"B\\u00fcro\", \"Leerflaeche\": 2098, \"BueroNettofl\": 87154.0, \"BueroLeerProz\": 2.4}, {\"StichtagDatJahr\": \"2021-01-01T00:00:00\", \"QuarSort\": 24, \"QuarLang\": \"Enge\", \"KreisSort\": 2, \"KreisLang\": \"Kreis 2\", \"Nutzung\": \"Andere\", \"Leerflaeche\": 170, \"BueroNettofl\": null, \"BueroLeerProz\": null}, {\"StichtagDatJahr\": \"2021-01-01T00:00:00\", \"QuarSort\": 24, \"QuarLang\": \"Enge\", \"KreisSort\": 2, \"KreisLang\": \"Kreis 2\", \"Nutzung\": \"Verkauf\", \"Leerflaeche\": 598, \"BueroNettofl\": null, \"BueroLeerProz\": null}, {\"StichtagDatJahr\": \"2021-01-01T00:00:00\", \"QuarSort\": 24, \"QuarLang\": \"Enge\", \"KreisSort\": 2, \"KreisLang\": \"Kreis 2\", \"Nutzung\": \"Lager\", \"Leerflaeche\": 2670, \"BueroNettofl\": null, \"BueroLeerProz\": null}, {\"StichtagDatJahr\": \"2021-01-01T00:00:00\", \"QuarSort\": 24, \"QuarLang\": \"Enge\", \"KreisSort\": 2, \"KreisLang\": \"Kreis 2\", \"Nutzung\": \"B\\u00fcro\", \"Leerflaeche\": 8590, \"BueroNettofl\": 535065.0, \"BueroLeerProz\": 1.6}, {\"StichtagDatJahr\": \"2021-01-01T00:00:00\", \"QuarSort\": 31, \"QuarLang\": \"Alt-Wiedikon\", \"KreisSort\": 3, \"KreisLang\": \"Kreis 3\", \"Nutzung\": \"Lager\", \"Leerflaeche\": 3051, \"BueroNettofl\": null, \"BueroLeerProz\": null}, {\"StichtagDatJahr\": \"2021-01-01T00:00:00\", \"QuarSort\": 31, \"QuarLang\": \"Alt-Wiedikon\", \"KreisSort\": 3, \"KreisLang\": \"Kreis 3\", \"Nutzung\": \"B\\u00fcro\", \"Leerflaeche\": 3918, \"BueroNettofl\": 427109.0, \"BueroLeerProz\": 0.9}, {\"StichtagDatJahr\": \"2021-01-01T00:00:00\", \"QuarSort\": 33, \"QuarLang\": \"Friesenberg\", \"KreisSort\": 3, \"KreisLang\": \"Kreis 3\", \"Nutzung\": \"B\\u00fcro\", \"Leerflaeche\": 398, \"BueroNettofl\": 14272.0, \"BueroLeerProz\": 2.8}, {\"StichtagDatJahr\": \"2021-01-01T00:00:00\", \"QuarSort\": 34, \"QuarLang\": \"Sihlfeld\", \"KreisSort\": 3, \"KreisLang\": \"Kreis 3\", \"Nutzung\": \"Lager\", \"Leerflaeche\": 14, \"BueroNettofl\": null, \"BueroLeerProz\": null}, {\"StichtagDatJahr\": \"2021-01-01T00:00:00\", \"QuarSort\": 34, \"QuarLang\": \"Sihlfeld\", \"KreisSort\": 3, \"KreisLang\": \"Kreis 3\", \"Nutzung\": \"B\\u00fcro\", \"Leerflaeche\": 468, \"BueroNettofl\": 109733.0, \"BueroLeerProz\": 0.4}, {\"StichtagDatJahr\": \"2021-01-01T00:00:00\", \"QuarSort\": 41, \"QuarLang\": \"Werd\", \"KreisSort\": 4, \"KreisLang\": \"Kreis 4\", \"Nutzung\": \"B\\u00fcro\", \"Leerflaeche\": 225, \"BueroNettofl\": 142253.0, \"BueroLeerProz\": 0.2}, {\"StichtagDatJahr\": \"2021-01-01T00:00:00\", \"QuarSort\": 42, \"QuarLang\": \"Langstrasse\", \"KreisSort\": 4, \"KreisLang\": \"Kreis 4\", \"Nutzung\": \"Andere\", \"Leerflaeche\": 37, \"BueroNettofl\": null, \"BueroLeerProz\": null}, {\"StichtagDatJahr\": \"2021-01-01T00:00:00\", \"QuarSort\": 42, \"QuarLang\": \"Langstrasse\", \"KreisSort\": 4, \"KreisLang\": \"Kreis 4\", \"Nutzung\": \"Verkauf\", \"Leerflaeche\": 417, \"BueroNettofl\": null, \"BueroLeerProz\": null}, {\"StichtagDatJahr\": \"2021-01-01T00:00:00\", \"QuarSort\": 42, \"QuarLang\": \"Langstrasse\", \"KreisSort\": 4, \"KreisLang\": \"Kreis 4\", \"Nutzung\": \"Lager\", \"Leerflaeche\": 504, \"BueroNettofl\": null, \"BueroLeerProz\": null}, {\"StichtagDatJahr\": \"2021-01-01T00:00:00\", \"QuarSort\": 42, \"QuarLang\": \"Langstrasse\", \"KreisSort\": 4, \"KreisLang\": \"Kreis 4\", \"Nutzung\": \"B\\u00fcro\", \"Leerflaeche\": 4390, \"BueroNettofl\": 378104.0, \"BueroLeerProz\": 1.2}, {\"StichtagDatJahr\": \"2021-01-01T00:00:00\", \"QuarSort\": 44, \"QuarLang\": \"Hard\", \"KreisSort\": 4, \"KreisLang\": \"Kreis 4\", \"Nutzung\": \"Lager\", \"Leerflaeche\": 366, \"BueroNettofl\": null, \"BueroLeerProz\": null}, {\"StichtagDatJahr\": \"2021-01-01T00:00:00\", \"QuarSort\": 51, \"QuarLang\": \"Gewerbeschule\", \"KreisSort\": 5, \"KreisLang\": \"Kreis 5\", \"Nutzung\": \"Verkauf\", \"Leerflaeche\": 250, \"BueroNettofl\": null, \"BueroLeerProz\": null}, {\"StichtagDatJahr\": \"2021-01-01T00:00:00\", \"QuarSort\": 51, \"QuarLang\": \"Gewerbeschule\", \"KreisSort\": 5, \"KreisLang\": \"Kreis 5\", \"Nutzung\": \"Lager\", \"Leerflaeche\": 193, \"BueroNettofl\": null, \"BueroLeerProz\": null}, {\"StichtagDatJahr\": \"2021-01-01T00:00:00\", \"QuarSort\": 51, \"QuarLang\": \"Gewerbeschule\", \"KreisSort\": 5, \"KreisLang\": \"Kreis 5\", \"Nutzung\": \"B\\u00fcro\", \"Leerflaeche\": 1892, \"BueroNettofl\": 247592.0, \"BueroLeerProz\": 0.8}, {\"StichtagDatJahr\": \"2021-01-01T00:00:00\", \"QuarSort\": 52, \"QuarLang\": \"Escher Wyss\", \"KreisSort\": 5, \"KreisLang\": \"Kreis 5\", \"Nutzung\": \"Werkstatt\", \"Leerflaeche\": 793, \"BueroNettofl\": null, \"BueroLeerProz\": null}, {\"StichtagDatJahr\": \"2021-01-01T00:00:00\", \"QuarSort\": 52, \"QuarLang\": \"Escher Wyss\", \"KreisSort\": 5, \"KreisLang\": \"Kreis 5\", \"Nutzung\": \"Verkauf\", \"Leerflaeche\": 763, \"BueroNettofl\": null, \"BueroLeerProz\": null}, {\"StichtagDatJahr\": \"2021-01-01T00:00:00\", \"QuarSort\": 52, \"QuarLang\": \"Escher Wyss\", \"KreisSort\": 5, \"KreisLang\": \"Kreis 5\", \"Nutzung\": \"Lager\", \"Leerflaeche\": 3596, \"BueroNettofl\": null, \"BueroLeerProz\": null}, {\"StichtagDatJahr\": \"2021-01-01T00:00:00\", \"QuarSort\": 52, \"QuarLang\": \"Escher Wyss\", \"KreisSort\": 5, \"KreisLang\": \"Kreis 5\", \"Nutzung\": \"B\\u00fcro\", \"Leerflaeche\": 4710, \"BueroNettofl\": 524057.0, \"BueroLeerProz\": 0.9}, {\"StichtagDatJahr\": \"2021-01-01T00:00:00\", \"QuarSort\": 61, \"QuarLang\": \"Unterstrass\", \"KreisSort\": 6, \"KreisLang\": \"Kreis 6\", \"Nutzung\": \"Verkauf\", \"Leerflaeche\": 20, \"BueroNettofl\": null, \"BueroLeerProz\": null}, {\"StichtagDatJahr\": \"2021-01-01T00:00:00\", \"QuarSort\": 61, \"QuarLang\": \"Unterstrass\", \"KreisSort\": 6, \"KreisLang\": \"Kreis 6\", \"Nutzung\": \"Lager\", \"Leerflaeche\": 259, \"BueroNettofl\": null, \"BueroLeerProz\": null}, {\"StichtagDatJahr\": \"2021-01-01T00:00:00\", \"QuarSort\": 61, \"QuarLang\": \"Unterstrass\", \"KreisSort\": 6, \"KreisLang\": \"Kreis 6\", \"Nutzung\": \"B\\u00fcro\", \"Leerflaeche\": 526, \"BueroNettofl\": 193981.0, \"BueroLeerProz\": 0.3}, {\"StichtagDatJahr\": \"2021-01-01T00:00:00\", \"QuarSort\": 63, \"QuarLang\": \"Oberstrass\", \"KreisSort\": 6, \"KreisLang\": \"Kreis 6\", \"Nutzung\": \"B\\u00fcro\", \"Leerflaeche\": 524, \"BueroNettofl\": 306913.0, \"BueroLeerProz\": 0.2}, {\"StichtagDatJahr\": \"2021-01-01T00:00:00\", \"QuarSort\": 71, \"QuarLang\": \"Fluntern\", \"KreisSort\": 7, \"KreisLang\": \"Kreis 7\", \"Nutzung\": \"B\\u00fcro\", \"Leerflaeche\": 148, \"BueroNettofl\": 127953.0, \"BueroLeerProz\": 0.1}, {\"StichtagDatJahr\": \"2021-01-01T00:00:00\", \"QuarSort\": 72, \"QuarLang\": \"Hottingen\", \"KreisSort\": 7, \"KreisLang\": \"Kreis 7\", \"Nutzung\": \"Andere\", \"Leerflaeche\": 120, \"BueroNettofl\": null, \"BueroLeerProz\": null}, {\"StichtagDatJahr\": \"2021-01-01T00:00:00\", \"QuarSort\": 72, \"QuarLang\": \"Hottingen\", \"KreisSort\": 7, \"KreisLang\": \"Kreis 7\", \"Nutzung\": \"Lager\", \"Leerflaeche\": 86, \"BueroNettofl\": null, \"BueroLeerProz\": null}, {\"StichtagDatJahr\": \"2021-01-01T00:00:00\", \"QuarSort\": 72, \"QuarLang\": \"Hottingen\", \"KreisSort\": 7, \"KreisLang\": \"Kreis 7\", \"Nutzung\": \"B\\u00fcro\", \"Leerflaeche\": 2318, \"BueroNettofl\": 167485.0, \"BueroLeerProz\": 1.4}, {\"StichtagDatJahr\": \"2021-01-01T00:00:00\", \"QuarSort\": 73, \"QuarLang\": \"Hirslanden\", \"KreisSort\": 7, \"KreisLang\": \"Kreis 7\", \"Nutzung\": \"B\\u00fcro\", \"Leerflaeche\": 224, \"BueroNettofl\": 51117.0, \"BueroLeerProz\": 0.4}, {\"StichtagDatJahr\": \"2021-01-01T00:00:00\", \"QuarSort\": 74, \"QuarLang\": \"Witikon\", \"KreisSort\": 7, \"KreisLang\": \"Kreis 7\", \"Nutzung\": \"Andere\", \"Leerflaeche\": 50, \"BueroNettofl\": null, \"BueroLeerProz\": null}, {\"StichtagDatJahr\": \"2021-01-01T00:00:00\", \"QuarSort\": 74, \"QuarLang\": \"Witikon\", \"KreisSort\": 7, \"KreisLang\": \"Kreis 7\", \"Nutzung\": \"Verkauf\", \"Leerflaeche\": 165, \"BueroNettofl\": null, \"BueroLeerProz\": null}, {\"StichtagDatJahr\": \"2021-01-01T00:00:00\", \"QuarSort\": 74, \"QuarLang\": \"Witikon\", \"KreisSort\": 7, \"KreisLang\": \"Kreis 7\", \"Nutzung\": \"Lager\", \"Leerflaeche\": 235, \"BueroNettofl\": null, \"BueroLeerProz\": null}, {\"StichtagDatJahr\": \"2021-01-01T00:00:00\", \"QuarSort\": 74, \"QuarLang\": \"Witikon\", \"KreisSort\": 7, \"KreisLang\": \"Kreis 7\", \"Nutzung\": \"B\\u00fcro\", \"Leerflaeche\": 720, \"BueroNettofl\": 10834.0, \"BueroLeerProz\": 6.6}, {\"StichtagDatJahr\": \"2021-01-01T00:00:00\", \"QuarSort\": 81, \"QuarLang\": \"Seefeld\", \"KreisSort\": 8, \"KreisLang\": \"Kreis 8\", \"Nutzung\": \"Lager\", \"Leerflaeche\": 66, \"BueroNettofl\": null, \"BueroLeerProz\": null}, {\"StichtagDatJahr\": \"2021-01-01T00:00:00\", \"QuarSort\": 81, \"QuarLang\": \"Seefeld\", \"KreisSort\": 8, \"KreisLang\": \"Kreis 8\", \"Nutzung\": \"B\\u00fcro\", \"Leerflaeche\": 1520, \"BueroNettofl\": 167989.0, \"BueroLeerProz\": 0.9}, {\"StichtagDatJahr\": \"2021-01-01T00:00:00\", \"QuarSort\": 82, \"QuarLang\": \"M\\u00fchlebach\", \"KreisSort\": 8, \"KreisLang\": \"Kreis 8\", \"Nutzung\": \"Lager\", \"Leerflaeche\": 252, \"BueroNettofl\": null, \"BueroLeerProz\": null}, {\"StichtagDatJahr\": \"2021-01-01T00:00:00\", \"QuarSort\": 82, \"QuarLang\": \"M\\u00fchlebach\", \"KreisSort\": 8, \"KreisLang\": \"Kreis 8\", \"Nutzung\": \"B\\u00fcro\", \"Leerflaeche\": 4795, \"BueroNettofl\": 170077.0, \"BueroLeerProz\": 2.8}, {\"StichtagDatJahr\": \"2021-01-01T00:00:00\", \"QuarSort\": 83, \"QuarLang\": \"Weinegg\", \"KreisSort\": 8, \"KreisLang\": \"Kreis 8\", \"Nutzung\": \"B\\u00fcro\", \"Leerflaeche\": 265, \"BueroNettofl\": 62546.0, \"BueroLeerProz\": 0.4}, {\"StichtagDatJahr\": \"2021-01-01T00:00:00\", \"QuarSort\": 91, \"QuarLang\": \"Albisrieden\", \"KreisSort\": 9, \"KreisLang\": \"Kreis 9\", \"Nutzung\": \"Andere\", \"Leerflaeche\": 65, \"BueroNettofl\": null, \"BueroLeerProz\": null}, {\"StichtagDatJahr\": \"2021-01-01T00:00:00\", \"QuarSort\": 91, \"QuarLang\": \"Albisrieden\", \"KreisSort\": 9, \"KreisLang\": \"Kreis 9\", \"Nutzung\": \"Werkstatt\", \"Leerflaeche\": 185, \"BueroNettofl\": null, \"BueroLeerProz\": null}, {\"StichtagDatJahr\": \"2021-01-01T00:00:00\", \"QuarSort\": 91, \"QuarLang\": \"Albisrieden\", \"KreisSort\": 9, \"KreisLang\": \"Kreis 9\", \"Nutzung\": \"Verkauf\", \"Leerflaeche\": 73, \"BueroNettofl\": null, \"BueroLeerProz\": null}, {\"StichtagDatJahr\": \"2021-01-01T00:00:00\", \"QuarSort\": 91, \"QuarLang\": \"Albisrieden\", \"KreisSort\": 9, \"KreisLang\": \"Kreis 9\", \"Nutzung\": \"Lager\", \"Leerflaeche\": 702, \"BueroNettofl\": null, \"BueroLeerProz\": null}, {\"StichtagDatJahr\": \"2021-01-01T00:00:00\", \"QuarSort\": 91, \"QuarLang\": \"Albisrieden\", \"KreisSort\": 9, \"KreisLang\": \"Kreis 9\", \"Nutzung\": \"B\\u00fcro\", \"Leerflaeche\": 5634, \"BueroNettofl\": 120098.0, \"BueroLeerProz\": 4.7}, {\"StichtagDatJahr\": \"2021-01-01T00:00:00\", \"QuarSort\": 92, \"QuarLang\": \"Altstetten\", \"KreisSort\": 9, \"KreisLang\": \"Kreis 9\", \"Nutzung\": \"Andere\", \"Leerflaeche\": 150, \"BueroNettofl\": null, \"BueroLeerProz\": null}, {\"StichtagDatJahr\": \"2021-01-01T00:00:00\", \"QuarSort\": 92, \"QuarLang\": \"Altstetten\", \"KreisSort\": 9, \"KreisLang\": \"Kreis 9\", \"Nutzung\": \"Verkauf\", \"Leerflaeche\": 534, \"BueroNettofl\": null, \"BueroLeerProz\": null}, {\"StichtagDatJahr\": \"2021-01-01T00:00:00\", \"QuarSort\": 92, \"QuarLang\": \"Altstetten\", \"KreisSort\": 9, \"KreisLang\": \"Kreis 9\", \"Nutzung\": \"Lager\", \"Leerflaeche\": 4457, \"BueroNettofl\": null, \"BueroLeerProz\": null}, {\"StichtagDatJahr\": \"2021-01-01T00:00:00\", \"QuarSort\": 92, \"QuarLang\": \"Altstetten\", \"KreisSort\": 9, \"KreisLang\": \"Kreis 9\", \"Nutzung\": \"B\\u00fcro\", \"Leerflaeche\": 14701, \"BueroNettofl\": 582531.0, \"BueroLeerProz\": 2.5}, {\"StichtagDatJahr\": \"2021-01-01T00:00:00\", \"QuarSort\": 101, \"QuarLang\": \"H\\u00f6ngg\", \"KreisSort\": 10, \"KreisLang\": \"Kreis 10\", \"Nutzung\": \"Andere\", \"Leerflaeche\": 74, \"BueroNettofl\": null, \"BueroLeerProz\": null}, {\"StichtagDatJahr\": \"2021-01-01T00:00:00\", \"QuarSort\": 101, \"QuarLang\": \"H\\u00f6ngg\", \"KreisSort\": 10, \"KreisLang\": \"Kreis 10\", \"Nutzung\": \"Lager\", \"Leerflaeche\": 40, \"BueroNettofl\": null, \"BueroLeerProz\": null}, {\"StichtagDatJahr\": \"2021-01-01T00:00:00\", \"QuarSort\": 101, \"QuarLang\": \"H\\u00f6ngg\", \"KreisSort\": 10, \"KreisLang\": \"Kreis 10\", \"Nutzung\": \"B\\u00fcro\", \"Leerflaeche\": 535, \"BueroNettofl\": 209994.0, \"BueroLeerProz\": 0.3}, {\"StichtagDatJahr\": \"2021-01-01T00:00:00\", \"QuarSort\": 102, \"QuarLang\": \"Wipkingen\", \"KreisSort\": 10, \"KreisLang\": \"Kreis 10\", \"Nutzung\": \"B\\u00fcro\", \"Leerflaeche\": 517, \"BueroNettofl\": 53037.0, \"BueroLeerProz\": 1.0}, {\"StichtagDatJahr\": \"2021-01-01T00:00:00\", \"QuarSort\": 111, \"QuarLang\": \"Affoltern\", \"KreisSort\": 11, \"KreisLang\": \"Kreis 11\", \"Nutzung\": \"Werkstatt\", \"Leerflaeche\": 900, \"BueroNettofl\": null, \"BueroLeerProz\": null}, {\"StichtagDatJahr\": \"2021-01-01T00:00:00\", \"QuarSort\": 111, \"QuarLang\": \"Affoltern\", \"KreisSort\": 11, \"KreisLang\": \"Kreis 11\", \"Nutzung\": \"B\\u00fcro\", \"Leerflaeche\": 298, \"BueroNettofl\": 22973.0, \"BueroLeerProz\": 1.3}, {\"StichtagDatJahr\": \"2021-01-01T00:00:00\", \"QuarSort\": 115, \"QuarLang\": \"Oerlikon\", \"KreisSort\": 11, \"KreisLang\": \"Kreis 11\", \"Nutzung\": \"Andere\", \"Leerflaeche\": 100, \"BueroNettofl\": null, \"BueroLeerProz\": null}, {\"StichtagDatJahr\": \"2021-01-01T00:00:00\", \"QuarSort\": 115, \"QuarLang\": \"Oerlikon\", \"KreisSort\": 11, \"KreisLang\": \"Kreis 11\", \"Nutzung\": \"Verkauf\", \"Leerflaeche\": 141, \"BueroNettofl\": null, \"BueroLeerProz\": null}, {\"StichtagDatJahr\": \"2021-01-01T00:00:00\", \"QuarSort\": 115, \"QuarLang\": \"Oerlikon\", \"KreisSort\": 11, \"KreisLang\": \"Kreis 11\", \"Nutzung\": \"Lager\", \"Leerflaeche\": 196, \"BueroNettofl\": null, \"BueroLeerProz\": null}, {\"StichtagDatJahr\": \"2021-01-01T00:00:00\", \"QuarSort\": 115, \"QuarLang\": \"Oerlikon\", \"KreisSort\": 11, \"KreisLang\": \"Kreis 11\", \"Nutzung\": \"B\\u00fcro\", \"Leerflaeche\": 3858, \"BueroNettofl\": 333991.0, \"BueroLeerProz\": 1.2}, {\"StichtagDatJahr\": \"2021-01-01T00:00:00\", \"QuarSort\": 119, \"QuarLang\": \"Seebach\", \"KreisSort\": 11, \"KreisLang\": \"Kreis 11\", \"Nutzung\": \"Andere\", \"Leerflaeche\": 781, \"BueroNettofl\": null, \"BueroLeerProz\": null}, {\"StichtagDatJahr\": \"2021-01-01T00:00:00\", \"QuarSort\": 119, \"QuarLang\": \"Seebach\", \"KreisSort\": 11, \"KreisLang\": \"Kreis 11\", \"Nutzung\": \"Verkauf\", \"Leerflaeche\": 1031, \"BueroNettofl\": null, \"BueroLeerProz\": null}, {\"StichtagDatJahr\": \"2021-01-01T00:00:00\", \"QuarSort\": 119, \"QuarLang\": \"Seebach\", \"KreisSort\": 11, \"KreisLang\": \"Kreis 11\", \"Nutzung\": \"Lager\", \"Leerflaeche\": 5544, \"BueroNettofl\": null, \"BueroLeerProz\": null}, {\"StichtagDatJahr\": \"2021-01-01T00:00:00\", \"QuarSort\": 119, \"QuarLang\": \"Seebach\", \"KreisSort\": 11, \"KreisLang\": \"Kreis 11\", \"Nutzung\": \"B\\u00fcro\", \"Leerflaeche\": 34374, \"BueroNettofl\": 527244.0, \"BueroLeerProz\": 6.5}, {\"StichtagDatJahr\": \"2021-01-01T00:00:00\", \"QuarSort\": 121, \"QuarLang\": \"Saatlen\", \"KreisSort\": 12, \"KreisLang\": \"Kreis 12\", \"Nutzung\": \"B\\u00fcro\", \"Leerflaeche\": 892, \"BueroNettofl\": 13973.0, \"BueroLeerProz\": 6.4}, {\"StichtagDatJahr\": \"2021-01-01T00:00:00\", \"QuarSort\": 123, \"QuarLang\": \"Hirzenbach\", \"KreisSort\": 12, \"KreisLang\": \"Kreis 12\", \"Nutzung\": \"Verkauf\", \"Leerflaeche\": 218, \"BueroNettofl\": null, \"BueroLeerProz\": null}]}}, {\"mode\": \"vega-lite\"});\n",
       "</script>"
      ],
      "text/plain": [
       "alt.Chart(...)"
      ]
     },
     "execution_count": 24,
     "metadata": {},
     "output_type": "execute_result"
    }
   ],
   "source": [
    "alt.Chart(data2betested).mark_circle(size=60).encode(\n",
    "    x='StichtagDatJahr',\n",
    "    y='Leerflaeche',\n",
    "    #color='Nutzung',\n",
    "    #color=alt.Color('AnzNat', scale=alt.Scale(scheme='dark2')),\n",
    "    color=alt.Color('Nutzung', scale=alt.Scale(scheme='greens')),\n",
    "    tooltip=['StichtagDatJahr','QuarLang','Nutzung','Leerflaeche']\n",
    ").interactive() # this makes the axes interactive: now you can zoom & pan\n",
    "\n",
    "\n"
   ]
  },
  {
   "cell_type": "markdown",
   "metadata": {},
   "source": [
    "**Test: Choroplethenkarte**\n",
    "Importiere die Geodaten als GeoJSON"
   ]
  },
  {
   "cell_type": "code",
   "execution_count": 25,
   "metadata": {},
   "outputs": [
    {
     "ename": "NameError",
     "evalue": "name 'gpd' is not defined",
     "output_type": "error",
     "traceback": [
      "\u001b[1;31m---------------------------------------------------------------------------\u001b[0m",
      "\u001b[1;31mNameError\u001b[0m                                 Traceback (most recent call last)",
      "\u001b[1;32m<ipython-input-25-2d84af4817d1>\u001b[0m in \u001b[0;36m<module>\u001b[1;34m\u001b[0m\n\u001b[0;32m      7\u001b[0m \u001b[1;33m\u001b[0m\u001b[0m\n\u001b[0;32m      8\u001b[0m \u001b[0mgeojson_url\u001b[0m \u001b[1;33m=\u001b[0m \u001b[1;34m\"https://www.ogd.stadt-zuerich.ch/wfs/geoportal/Statistische_Quartiere?service=WFS&version=1.1.0&request=GetFeature&outputFormat=GeoJSON&typename=adm_statistische_quartiere_map\"\u001b[0m\u001b[1;33m\u001b[0m\u001b[1;33m\u001b[0m\u001b[0m\n\u001b[1;32m----> 9\u001b[1;33m \u001b[0mdf_adm_statistische_quartiere_map\u001b[0m \u001b[1;33m=\u001b[0m \u001b[0mgpd\u001b[0m\u001b[1;33m.\u001b[0m\u001b[0mread_file\u001b[0m\u001b[1;33m(\u001b[0m\u001b[0mgeojson_url\u001b[0m\u001b[1;33m)\u001b[0m\u001b[1;33m\u001b[0m\u001b[1;33m\u001b[0m\u001b[0m\n\u001b[0m\u001b[0;32m     10\u001b[0m \u001b[1;33m\u001b[0m\u001b[0m\n\u001b[0;32m     11\u001b[0m \u001b[0mdf_adm_statistische_quartiere_map\u001b[0m\u001b[1;33m.\u001b[0m\u001b[0mhead\u001b[0m\u001b[1;33m(\u001b[0m\u001b[1;36m5\u001b[0m\u001b[1;33m)\u001b[0m\u001b[1;33m\u001b[0m\u001b[1;33m\u001b[0m\u001b[0m\n",
      "\u001b[1;31mNameError\u001b[0m: name 'gpd' is not defined"
     ]
    }
   ],
   "source": [
    "# Read abt. Geopandas https://geopandas.org/docs/user_guide/io.html\n",
    "# Wenn die Daten lokal agelegt sind, dann kannst Du folgendes machen:\n",
    "##input_stadtquartiere = r\"//szh.loc/ssz/data/GIS/Daten/Vektor/_aktuell/stzh.adm_statistische_quartiere_map.json\"\n",
    "##df_stadtquartiere = gpd.read_file(input_stadtquartiere)\n",
    "##df_stadtquartiere.head(2)\n",
    "#df_stadtkreise.dtypes\n",
    "\n",
    "geojson_url = \"https://www.ogd.stadt-zuerich.ch/wfs/geoportal/Statistische_Quartiere?service=WFS&version=1.1.0&request=GetFeature&outputFormat=GeoJSON&typename=adm_statistische_quartiere_map\"\n",
    "df_adm_statistische_quartiere_map = gpd.read_file(geojson_url)\n",
    "\n",
    "df_adm_statistische_quartiere_map.head(5)\n"
   ]
  },
  {
   "cell_type": "markdown",
   "metadata": {},
   "source": [
    "Joine die importierten statistischen Daten des aktuellen Jahres zum Geodatensatz:\n",
    "\n",
    "*Siehe dazu Doku zu [Geopandas](https://geopandas.org/docs/user_guide/mergingdata.html)*"
   ]
  },
  {
   "cell_type": "code",
   "execution_count": 26,
   "metadata": {},
   "outputs": [
    {
     "data": {
      "text/html": [
       "<div>\n",
       "<style scoped>\n",
       "    .dataframe tbody tr th:only-of-type {\n",
       "        vertical-align: middle;\n",
       "    }\n",
       "\n",
       "    .dataframe tbody tr th {\n",
       "        vertical-align: top;\n",
       "    }\n",
       "\n",
       "    .dataframe thead th {\n",
       "        text-align: right;\n",
       "    }\n",
       "</style>\n",
       "<table border=\"1\" class=\"dataframe\">\n",
       "  <thead>\n",
       "    <tr style=\"text-align: right;\">\n",
       "      <th></th>\n",
       "      <th>StichtagDatJahr</th>\n",
       "      <th>QuarSort</th>\n",
       "      <th>QuarLang</th>\n",
       "      <th>KreisSort</th>\n",
       "      <th>KreisLang</th>\n",
       "      <th>Nutzung</th>\n",
       "      <th>Leerflaeche</th>\n",
       "      <th>BueroNettofl</th>\n",
       "      <th>BueroLeerProz</th>\n",
       "    </tr>\n",
       "  </thead>\n",
       "  <tbody>\n",
       "    <tr>\n",
       "      <th>926</th>\n",
       "      <td>2021-01-01</td>\n",
       "      <td>11</td>\n",
       "      <td>Rathaus</td>\n",
       "      <td>1</td>\n",
       "      <td>Kreis 1</td>\n",
       "      <td>Büro</td>\n",
       "      <td>373</td>\n",
       "      <td>103999</td>\n",
       "      <td>0</td>\n",
       "    </tr>\n",
       "    <tr>\n",
       "      <th>927</th>\n",
       "      <td>2021-01-01</td>\n",
       "      <td>11</td>\n",
       "      <td>Rathaus</td>\n",
       "      <td>1</td>\n",
       "      <td>Kreis 1</td>\n",
       "      <td>Andere</td>\n",
       "      <td>245</td>\n",
       "      <td>NaN</td>\n",
       "      <td>NaN</td>\n",
       "    </tr>\n",
       "  </tbody>\n",
       "</table>\n",
       "</div>"
      ],
      "text/plain": [
       "    StichtagDatJahr  QuarSort QuarLang  KreisSort KreisLang Nutzung  Leerflaeche  BueroNettofl  \\\n",
       "926      2021-01-01        11  Rathaus          1   Kreis 1    Büro          373        103999   \n",
       "927      2021-01-01        11  Rathaus          1   Kreis 1  Andere          245           NaN   \n",
       "\n",
       "     BueroLeerProz  \n",
       "926              0  \n",
       "927            NaN  "
      ]
     },
     "execution_count": 26,
     "metadata": {},
     "output_type": "execute_result"
    }
   ],
   "source": [
    "mySelection.head(2)"
   ]
  },
  {
   "cell_type": "code",
   "execution_count": 89,
   "metadata": {},
   "outputs": [
    {
     "data": {
      "text/html": [
       "<div>\n",
       "<style scoped>\n",
       "    .dataframe tbody tr th:only-of-type {\n",
       "        vertical-align: middle;\n",
       "    }\n",
       "\n",
       "    .dataframe tbody tr th {\n",
       "        vertical-align: top;\n",
       "    }\n",
       "\n",
       "    .dataframe thead th {\n",
       "        text-align: right;\n",
       "    }\n",
       "</style>\n",
       "<table border=\"1\" class=\"dataframe\">\n",
       "  <thead>\n",
       "    <tr style=\"text-align: right;\">\n",
       "      <th></th>\n",
       "      <th>StichtagDatJahr</th>\n",
       "      <th>QuarSort</th>\n",
       "      <th>QuarLang</th>\n",
       "      <th>KreisSort</th>\n",
       "      <th>KreisLang</th>\n",
       "      <th>Nutzung</th>\n",
       "      <th>Leerflaeche</th>\n",
       "      <th>BueroNettofl</th>\n",
       "      <th>BueroLeerProz</th>\n",
       "    </tr>\n",
       "  </thead>\n",
       "  <tbody>\n",
       "    <tr>\n",
       "      <th>926</th>\n",
       "      <td>2021-01-01</td>\n",
       "      <td>11</td>\n",
       "      <td>Rathaus</td>\n",
       "      <td>1</td>\n",
       "      <td>Kreis 1</td>\n",
       "      <td>Büro</td>\n",
       "      <td>373</td>\n",
       "      <td>103999</td>\n",
       "      <td>0</td>\n",
       "    </tr>\n",
       "    <tr>\n",
       "      <th>931</th>\n",
       "      <td>2021-01-01</td>\n",
       "      <td>12</td>\n",
       "      <td>Hochschulen</td>\n",
       "      <td>1</td>\n",
       "      <td>Kreis 1</td>\n",
       "      <td>Büro</td>\n",
       "      <td>300</td>\n",
       "      <td>194642</td>\n",
       "      <td>0</td>\n",
       "    </tr>\n",
       "  </tbody>\n",
       "</table>\n",
       "</div>"
      ],
      "text/plain": [
       "    StichtagDatJahr  QuarSort     QuarLang  KreisSort KreisLang Nutzung  Leerflaeche  \\\n",
       "926      2021-01-01        11      Rathaus          1   Kreis 1    Büro          373   \n",
       "931      2021-01-01        12  Hochschulen          1   Kreis 1    Büro          300   \n",
       "\n",
       "     BueroNettofl  BueroLeerProz  \n",
       "926        103999              0  \n",
       "931        194642              0  "
      ]
     },
     "execution_count": 89,
     "metadata": {},
     "output_type": "execute_result"
    }
   ],
   "source": [
    "selectMapAttr1 = data2betested[(data2betested.StichtagDatJahr==\"2021\") & (data2betested.Nutzung ==\"Büro\")] #& (data2betested.QuarSort > 30)\n",
    "selectMapAttr1.head(2)\n",
    "#stats_agg_quartiere=aktuellesJahr.groupby(['Jahr', 'QuarSort'])['AnzWhg','Wohnungsfl', 'PersInGeb'].sum()\n",
    "#test = data2betested.groupby(['StichtagDatJahr', 'AlterV20Kurz'])[['AnzBestWir']].agg()\n"
   ]
  },
  {
   "cell_type": "markdown",
   "metadata": {},
   "source": [
    "Was ist mit Leimbach los?"
   ]
  },
  {
   "cell_type": "code",
   "execution_count": 90,
   "metadata": {},
   "outputs": [
    {
     "data": {
      "text/html": [
       "<div>\n",
       "<style scoped>\n",
       "    .dataframe tbody tr th:only-of-type {\n",
       "        vertical-align: middle;\n",
       "    }\n",
       "\n",
       "    .dataframe tbody tr th {\n",
       "        vertical-align: top;\n",
       "    }\n",
       "\n",
       "    .dataframe thead th {\n",
       "        text-align: right;\n",
       "    }\n",
       "</style>\n",
       "<table border=\"1\" class=\"dataframe\">\n",
       "  <thead>\n",
       "    <tr style=\"text-align: right;\">\n",
       "      <th></th>\n",
       "      <th>StichtagDatJahr</th>\n",
       "      <th>QuarSort</th>\n",
       "      <th>QuarLang</th>\n",
       "      <th>KreisSort</th>\n",
       "      <th>KreisLang</th>\n",
       "      <th>Nutzung</th>\n",
       "      <th>Leerflaeche</th>\n",
       "      <th>BueroNettofl</th>\n",
       "      <th>BueroLeerProz</th>\n",
       "    </tr>\n",
       "  </thead>\n",
       "  <tbody>\n",
       "    <tr>\n",
       "      <th>184</th>\n",
       "      <td>2012-01-01</td>\n",
       "      <td>23</td>\n",
       "      <td>Leimbach</td>\n",
       "      <td>2</td>\n",
       "      <td>Kreis 2</td>\n",
       "      <td>Andere</td>\n",
       "      <td>224</td>\n",
       "      <td>NaN</td>\n",
       "      <td>NaN</td>\n",
       "    </tr>\n",
       "    <tr>\n",
       "      <th>348</th>\n",
       "      <td>2014-01-01</td>\n",
       "      <td>23</td>\n",
       "      <td>Leimbach</td>\n",
       "      <td>2</td>\n",
       "      <td>Kreis 2</td>\n",
       "      <td>Andere</td>\n",
       "      <td>115</td>\n",
       "      <td>NaN</td>\n",
       "      <td>NaN</td>\n",
       "    </tr>\n",
       "    <tr>\n",
       "      <th>349</th>\n",
       "      <td>2014-01-01</td>\n",
       "      <td>23</td>\n",
       "      <td>Leimbach</td>\n",
       "      <td>2</td>\n",
       "      <td>Kreis 2</td>\n",
       "      <td>Verkauf</td>\n",
       "      <td>228</td>\n",
       "      <td>NaN</td>\n",
       "      <td>NaN</td>\n",
       "    </tr>\n",
       "    <tr>\n",
       "      <th>350</th>\n",
       "      <td>2014-01-01</td>\n",
       "      <td>23</td>\n",
       "      <td>Leimbach</td>\n",
       "      <td>2</td>\n",
       "      <td>Kreis 2</td>\n",
       "      <td>Büro</td>\n",
       "      <td>58</td>\n",
       "      <td>3359</td>\n",
       "      <td>2</td>\n",
       "    </tr>\n",
       "    <tr>\n",
       "      <th>854</th>\n",
       "      <td>2020-01-01</td>\n",
       "      <td>23</td>\n",
       "      <td>Leimbach</td>\n",
       "      <td>2</td>\n",
       "      <td>Kreis 2</td>\n",
       "      <td>Büro</td>\n",
       "      <td>40</td>\n",
       "      <td>3638</td>\n",
       "      <td>1</td>\n",
       "    </tr>\n",
       "  </tbody>\n",
       "</table>\n",
       "</div>"
      ],
      "text/plain": [
       "    StichtagDatJahr  QuarSort  QuarLang  KreisSort KreisLang  Nutzung  Leerflaeche  BueroNettofl  \\\n",
       "184      2012-01-01        23  Leimbach          2   Kreis 2   Andere          224           NaN   \n",
       "348      2014-01-01        23  Leimbach          2   Kreis 2   Andere          115           NaN   \n",
       "349      2014-01-01        23  Leimbach          2   Kreis 2  Verkauf          228           NaN   \n",
       "350      2014-01-01        23  Leimbach          2   Kreis 2     Büro           58          3359   \n",
       "854      2020-01-01        23  Leimbach          2   Kreis 2     Büro           40          3638   \n",
       "\n",
       "     BueroLeerProz  \n",
       "184            NaN  \n",
       "348            NaN  \n",
       "349            NaN  \n",
       "350              2  \n",
       "854              1  "
      ]
     },
     "execution_count": 90,
     "metadata": {},
     "output_type": "execute_result"
    }
   ],
   "source": [
    "leimbach = data2betested[(data2betested.StichtagDatJahr<\"2021\") & (data2betested.QuarLang ==\"Leimbach\")] #& (data2betested.QuarSort > 30)\n",
    "leimbach"
   ]
  },
  {
   "cell_type": "markdown",
   "metadata": {},
   "source": [
    "Und was mit Hard?"
   ]
  },
  {
   "cell_type": "code",
   "execution_count": 92,
   "metadata": {},
   "outputs": [],
   "source": [
    "#hard = data2betested[(data2betested.StichtagDatJahr<\"2021\") & (data2betested.QuarLang ==\"Hard\")] #& (data2betested.QuarSort > 30)\n",
    "#hard"
   ]
  },
  {
   "cell_type": "code",
   "execution_count": 74,
   "metadata": {},
   "outputs": [
    {
     "data": {
      "text/html": [
       "<div>\n",
       "<style scoped>\n",
       "    .dataframe tbody tr th:only-of-type {\n",
       "        vertical-align: middle;\n",
       "    }\n",
       "\n",
       "    .dataframe tbody tr th {\n",
       "        vertical-align: top;\n",
       "    }\n",
       "\n",
       "    .dataframe thead th {\n",
       "        text-align: right;\n",
       "    }\n",
       "</style>\n",
       "<table border=\"1\" class=\"dataframe\">\n",
       "  <thead>\n",
       "    <tr style=\"text-align: right;\">\n",
       "      <th></th>\n",
       "      <th>geometry</th>\n",
       "      <th>QuarSort</th>\n",
       "      <th>qname</th>\n",
       "      <th>knr</th>\n",
       "      <th>StichtagDatJahr</th>\n",
       "      <th>QuarLang</th>\n",
       "      <th>KreisSort</th>\n",
       "      <th>KreisLang</th>\n",
       "      <th>Nutzung</th>\n",
       "      <th>Leerflaeche</th>\n",
       "      <th>BueroNettofl</th>\n",
       "      <th>BueroLeerProz</th>\n",
       "    </tr>\n",
       "  </thead>\n",
       "  <tbody>\n",
       "    <tr>\n",
       "      <th>0</th>\n",
       "      <td>POLYGON ((8.55670 47.36406, 8.55682 47.36410, ...</td>\n",
       "      <td>73</td>\n",
       "      <td>Hirslanden</td>\n",
       "      <td>7</td>\n",
       "      <td>2021-01-01</td>\n",
       "      <td>Hirslanden</td>\n",
       "      <td>7</td>\n",
       "      <td>Kreis 7</td>\n",
       "      <td>Büro</td>\n",
       "      <td>224</td>\n",
       "      <td>51117</td>\n",
       "      <td>0</td>\n",
       "    </tr>\n",
       "    <tr>\n",
       "      <th>1</th>\n",
       "      <td>POLYGON ((8.55670 47.36405, 8.55672 47.36403, ...</td>\n",
       "      <td>83</td>\n",
       "      <td>Weinegg</td>\n",
       "      <td>8</td>\n",
       "      <td>2021-01-01</td>\n",
       "      <td>Weinegg</td>\n",
       "      <td>8</td>\n",
       "      <td>Kreis 8</td>\n",
       "      <td>Büro</td>\n",
       "      <td>265</td>\n",
       "      <td>62546</td>\n",
       "      <td>0</td>\n",
       "    </tr>\n",
       "  </tbody>\n",
       "</table>\n",
       "</div>"
      ],
      "text/plain": [
       "                                            geometry  QuarSort       qname  knr StichtagDatJahr  \\\n",
       "0  POLYGON ((8.55670 47.36406, 8.55682 47.36410, ...        73  Hirslanden    7      2021-01-01   \n",
       "1  POLYGON ((8.55670 47.36405, 8.55672 47.36403, ...        83     Weinegg    8      2021-01-01   \n",
       "\n",
       "     QuarLang  KreisSort KreisLang Nutzung  Leerflaeche  BueroNettofl  BueroLeerProz  \n",
       "0  Hirslanden          7   Kreis 7    Büro          224         51117              0  \n",
       "1     Weinegg          8   Kreis 8    Büro          265         62546              0  "
      ]
     },
     "execution_count": 74,
     "metadata": {},
     "output_type": "execute_result"
    }
   ],
   "source": [
    "# Rename attribute stznr to StatZoneSort, so the IDs have the same name\n",
    "\n",
    "stadtquartiere_shapes = df_adm_statistische_quartiere_map[['geometry', 'qnr', 'qname', 'knr']].rename(columns={'qnr': 'QuarSort'})\n",
    "\n",
    "# Merge with `merge` method on shared variable (stznr und StatZoneSort):\n",
    "stadtquartiere_shapes_joined = stadtquartiere_shapes.merge(selectMapAttr1, on='QuarSort')\n",
    "\n",
    "stadtquartiere_shapes_joined.head(2)\n"
   ]
  },
  {
   "cell_type": "code",
   "execution_count": 75,
   "metadata": {},
   "outputs": [
    {
     "data": {
      "text/plain": [
       "<AxesSubplot:>"
      ]
     },
     "execution_count": 75,
     "metadata": {},
     "output_type": "execute_result"
    },
    {
     "data": {
      "image/png": "[encoded data removed]",
      "text/plain": [
       "<Figure size 432x288 with 1 Axes>"
      ]
     },
     "metadata": {
      "needs_background": "light"
     },
     "output_type": "display_data"
    },
    {
     "data": {
      "image/png": "[encoded data removed]",
      "text/plain": [
       "<Figure size 432x288 with 1 Axes>"
      ]
     },
     "metadata": {
      "needs_background": "light"
     },
     "output_type": "display_data"
    },
    {
     "data": {
      "image/png": "[encoded data removed]",
      "text/plain": [
       "<Figure size 432x288 with 1 Axes>"
      ]
     },
     "metadata": {
      "needs_background": "light"
     },
     "output_type": "display_data"
    }
   ],
   "source": [
    "# Plot by StatQuartiere\n",
    "# Weitere Schemes: scheme='quantiles', scheme='fisherjenks', scheme='natural_breaks',\n",
    "\n",
    "stadtquartiere_shapes_joined.plot(column='Leerflaeche', cmap='viridis', scheme='natural_breaks', legend=True )\n",
    "#scheme werte: https://matplotlib.org/2.0.2/users/colormaps.html\n",
    "\n",
    "stadtquartiere_shapes_joined.plot(column='Leerflaeche', cmap='plasma', scheme='natural_breaks', legend=True )\n",
    "#scheme werte: https://matplotlib.org/2.0.2/users/colormaps.html\n",
    "stadtquartiere_shapes_joined.plot(column='Leerflaeche', cmap='cool', scheme='natural_breaks', legend=True )\n",
    "#scheme werte: https://matplotlib.org/2.0.2/users/colormaps.html"
   ]
  },
  {
   "cell_type": "raw",
   "metadata": {},
   "source": [
    "fig, ax = plt.subplots(1, 1)\n",
    "\n",
    "statzonen_shapes_aktJahr.plot(column='AnzWhg', ax=ax, legend=True, legend_kwds={'label': \"Anzahl Personen\",'orientation': \"horizontal\"})\n"
   ]
  },
  {
   "cell_type": "markdown",
   "metadata": {},
   "source": [
    "Noch zu prüfen, folgendes schöne Beispiel: https://docs.bokeh.org/en/latest/docs/user_guide/interaction/legends.html\n",
    "\n",
    "Konkrete Beispiele von Bookeh in Jupyter NB: https://docs.bokeh.org/en/latest/docs/user_guide/jupyter.html"
   ]
  },
  {
   "cell_type": "markdown",
   "metadata": {},
   "source": [
    "**Sharepoint als gecheckt markieren!**"
   ]
  },
  {
   "cell_type": "markdown",
   "metadata": {},
   "source": [
    "Record auf Sharepoint: **[Link](http://kollaboration.intranet.stzh.ch/orga/ssz-produkte/Lists/SASA_Outputs/EditForm.aspx?ID=157&Source=%2Forga%2Fssz%2Dprodukte%2FLists%2FSASA%5FOutputs)**"
   ]
  },
  {
   "cell_type": "code",
   "execution_count": null,
   "metadata": {},
   "outputs": [],
   "source": []
  },
  {
   "cell_type": "raw",
   "metadata": {},
   "source": []
  },
  {
   "cell_type": "code",
   "execution_count": null,
   "metadata": {},
   "outputs": [],
   "source": []
  }
 ],
 "metadata": {
  "kernelspec": {
   "display_name": "Python 3 (ipykernel)",
   "language": "python",
   "name": "python3"
  },
  "language_info": {
   "codemirror_mode": {
    "name": "ipython",
    "version": 3
   },
   "file_extension": ".py",
   "mimetype": "text/x-python",
   "name": "python",
   "nbconvert_exporter": "python",
   "pygments_lexer": "ipython3",
   "version": "3.9.7"
  }
 },
 "nbformat": 4,
 "nbformat_minor": 4
}
