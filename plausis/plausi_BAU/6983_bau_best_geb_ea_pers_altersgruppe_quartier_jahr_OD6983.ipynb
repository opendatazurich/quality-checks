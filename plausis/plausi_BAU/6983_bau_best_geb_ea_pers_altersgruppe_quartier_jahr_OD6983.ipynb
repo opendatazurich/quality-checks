{
 "cells": [
  {
   "cell_type": "markdown",
   "metadata": {},
   "source": [
    "# Testing\n",
    "### Altersklassen der Bewohnenden nach Gebäudeeigentum und Stadtquartieren in der Stadt Zürich seit 2008\n",
    "Diese Daten zeigen die Personenzahl und deren Altersverteilung nach Stadtquartier und Gebäude-Eigentumsgruppe in der Stadt Zürich. Die Daten liegen ab dem Jahr 2008 jährlich vor. Bitte beachten Sie für das korrekte Verständnis zu den Daten die unten aufgeführten weiteren Erläuterungen in der Rubrik «Bemerkungen».\n",
    "\n",
    "Datum: 15.03.2022"
   ]
  },
  {
   "cell_type": "markdown",
   "metadata": {},
   "source": [
    "### Importiere die notwendigen Packages"
   ]
  },
  {
   "cell_type": "code",
   "execution_count": 72,
   "metadata": {},
   "outputs": [],
   "source": [
    "#%pip install geopandas altair fiona requests folium mplleaflet contextily seaborn datetime plotly leafmap"
   ]
  },
  {
   "cell_type": "code",
   "execution_count": 73,
   "metadata": {},
   "outputs": [],
   "source": [
    "import pandas as pd\n",
    "import pivottablejs\n",
    "from pivottablejs import pivot_ui\n",
    "import numpy as np\n",
    "import altair as alt\n",
    "import matplotlib.pyplot as plt\n",
    "#from datetime import datetime\n",
    "import datetime\n",
    "import geopandas as gpd\n",
    "import folium \n",
    "import seaborn as sns\n",
    "\n",
    "\n",
    "import requests\n",
    "import io"
   ]
  },
  {
   "cell_type": "code",
   "execution_count": 74,
   "metadata": {},
   "outputs": [],
   "source": [
    "SSL_VERIFY = False\n",
    "# evtl. SSL_VERIFY auf False setzen wenn die Verbindung zu https://www.gemeinderat-zuerich.ch nicht klappt (z.B. wegen Proxy)\n",
    "# Um die SSL Verifikation auszustellen, bitte die nächste Zeile einkommentieren (\"#\" entfernen)\n",
    "# SSL_VERIFY = False"
   ]
  },
  {
   "cell_type": "code",
   "execution_count": 75,
   "metadata": {},
   "outputs": [],
   "source": [
    "if not SSL_VERIFY:\n",
    "    import urllib3\n",
    "    urllib3.disable_warnings()"
   ]
  },
  {
   "cell_type": "markdown",
   "metadata": {},
   "source": [
    "Definiere Settings. Hier das Zahlenformat von Float-Werten (z.B. *'{:,.2f}'.format* mit Komma als Tausenderzeichen), "
   ]
  },
  {
   "cell_type": "code",
   "execution_count": 76,
   "metadata": {},
   "outputs": [],
   "source": [
    "#pd.options.display.float_format = lambda x : '{:,.1f}'.format(x) if (np.isnan(x) | np.isinf(x)) else '{:,.0f}'.format(x) if int(x) == x else '{:,.1f}'.format(x)\n",
    "pd.options.display.float_format = '{:.0f}'.format\n",
    "pd.set_option('display.width', 100)\n",
    "pd.set_option('display.max_columns', 15)"
   ]
  },
  {
   "cell_type": "markdown",
   "metadata": {},
   "source": [
    "### Zeitvariabeln\n",
    "Bestimme den aktuellst geladenen Monat. Hier ist es der Stand vor 2 Monaten. \n",
    "Bestimme noch weitere evt. sinnvolle Zeitvariabeln.\n",
    "\n",
    "Zum Unterschied zwischen import datetime und from datedtime import datetime, siehe https://stackoverflow.com/questions/15707532/import-datetime-v-s-from-datetime-import-datetime\n",
    "\n",
    "Zuerst die Zeitvariabeln als Strings"
   ]
  },
  {
   "cell_type": "code",
   "execution_count": 77,
   "metadata": {},
   "outputs": [],
   "source": [
    "#today_date = datetime.date.today()\n",
    "#date_time = datetime.datetime.strptime(date_time_string, '%Y-%m-%d %H:%M')\n",
    "now = datetime.date.today()\n",
    "date_today = now.strftime(\"%Y-%m-%d\")\n",
    "year_today = now.strftime(\"%Y\")\n",
    "month_today = now.strftime(\"%m\")\n",
    "day_today = now.strftime(\"%d\")\n"
   ]
  },
  {
   "cell_type": "markdown",
   "metadata": {},
   "source": [
    "Und hier noch die Zeitvariabeln als Integers:\n",
    "- `aktuellesJahr`\n",
    "- `aktuellerMonat`: Der gerade jetzt aktuelle Monat\n",
    "- `selectedMonat`: Der aktuellste Monat in den Daten. In der Regel zwei Monate her."
   ]
  },
  {
   "cell_type": "code",
   "execution_count": 78,
   "metadata": {},
   "outputs": [
    {
     "name": "stdout",
     "output_type": "stream",
     "text": [
      "2022 3 datenstand:  1 time.struct_time(tm_year=2022, tm_mon=3, tm_mday=15, tm_hour=0, tm_min=0, tm_sec=0, tm_wday=1, tm_yday=74, tm_isdst=-1)\n"
     ]
    }
   ],
   "source": [
    "#now = datetime.now() \n",
    "int_times = now.timetuple()\n",
    "\n",
    "aktuellesJahr = int_times[0]\n",
    "aktuellerMonat = int_times[1]\n",
    "selectedMonat = int_times[1]-2\n",
    "\n",
    "print(aktuellesJahr, \n",
    "      aktuellerMonat,\n",
    "    'datenstand: ', selectedMonat,\n",
    "     int_times)\n"
   ]
  },
  {
   "cell_type": "markdown",
   "metadata": {},
   "source": [
    "Berechne die Variable Epoche um später das SAS-Datum in ein Unix-Datum umzuwandeln. Bei SAS beginnt die Epoche am 1.1.1960. Bei Unix am 1.1.1970.\n",
    "Diese Variable wird beim CSV-Import benötigt."
   ]
  },
  {
   "cell_type": "code",
   "execution_count": 79,
   "metadata": {},
   "outputs": [],
   "source": [
    "epoch = datetime.datetime(1960, 1, 1)"
   ]
  },
  {
   "cell_type": "markdown",
   "metadata": {},
   "source": [
    "### Setze einige Pfadvariabeln"
   ]
  },
  {
   "cell_type": "markdown",
   "metadata": {},
   "source": [
    "- Der Packagename ist eigentlich der **Verzeichnisname** unter dem die Daten und Metadaten auf der Dropzone abgelegt werden.\n",
    "- Definiert wird er bei SASA-Prozessen auf dem **Produkte-Sharepoint ([Link](https://kollaboration.intranet.stzh.ch/orga/ssz-produkte/Lists/SASA_Outputs/PersonalViews.aspx?PageView=Personal&ShowWebPart={6087A3E7-8AC8-40BA-8278-DECFACE124FF}))**.\n",
    "- Der Packagename wird auf CKAN teil der URL, daher ist die exakte Schreibweise wichtig.\n",
    "\n",
    "Beachte: im Packagename müssen alle Buchstaben **klein** geschrieben werden. Dies weil CKAN aus grossen kleine Buchstaben macht."
   ]
  },
  {
   "cell_type": "markdown",
   "metadata": {},
   "source": [
    "**BITTE HIER ANPASSEN**"
   ]
  },
  {
   "cell_type": "code",
   "execution_count": 80,
   "metadata": {},
   "outputs": [],
   "source": [
    "package_name = \"bau_best_geb_ea_pers_altersgruppe_quartier_jahr_od6983\""
   ]
  },
  {
   "cell_type": "code",
   "execution_count": 81,
   "metadata": {
    "tags": []
   },
   "outputs": [],
   "source": [
    "dataset_name = \"BAU698OD6983.csv\""
   ]
  },
  {
   "cell_type": "markdown",
   "metadata": {},
   "source": [
    "**Statische Pfade in DWH-Dropzones**"
   ]
  },
  {
   "cell_type": "code",
   "execution_count": 82,
   "metadata": {},
   "outputs": [],
   "source": [
    "dropzone_path_integ = r\"\\\\szh\\ssz\\applikationen\\OGD_Dropzone\\INT_DWH\""
   ]
  },
  {
   "cell_type": "code",
   "execution_count": 83,
   "metadata": {
    "tags": []
   },
   "outputs": [],
   "source": [
    "dropzone_path_prod = r\"\\\\szh\\ssz\\applikationen\\OGD_Dropzone\\DWH\""
   ]
  },
  {
   "cell_type": "markdown",
   "metadata": {},
   "source": [
    "**Statische Pfade CKAN-URLs**"
   ]
  },
  {
   "cell_type": "code",
   "execution_count": 84,
   "metadata": {
    "tags": []
   },
   "outputs": [],
   "source": [
    "ckan_integ_url =\"https://data.integ.stadt-zuerich.ch/dataset/int_dwh_\""
   ]
  },
  {
   "cell_type": "code",
   "execution_count": 85,
   "metadata": {},
   "outputs": [],
   "source": [
    "ckan_prod_url =\"https://data.stadt-zuerich.ch/dataset/\""
   ]
  },
  {
   "cell_type": "markdown",
   "metadata": {},
   "source": [
    "### Checke die Metadaten auf der CKAN INTEG- oder PROD-Webseite\n",
    "\n",
    "Offenbar lassen sich aktuell im Markdownteil keine Variabeln ausführen, daher gehen wir wie unten gezeigt vor. Siehe dazu: https://data-dive.com/jupyterlab-markdown-cells-include-variables\n",
    "Instead of setting the cell to Markdown, create Markdown from withnin a code cell! We can just use python variable replacement syntax to make the text dynamic"
   ]
  },
  {
   "cell_type": "code",
   "execution_count": 86,
   "metadata": {},
   "outputs": [],
   "source": [
    "from IPython.display import Markdown as md"
   ]
  },
  {
   "cell_type": "code",
   "execution_count": 87,
   "metadata": {},
   "outputs": [
    {
     "data": {
      "text/markdown": [
       " **1. Dataset auf INTEG-Datakatalog:** Link https://data.integ.stadt-zuerich.ch/dataset/int_dwh_bau_best_geb_ea_pers_altersgruppe_quartier_jahr_od6983 "
      ],
      "text/plain": [
       "<IPython.core.display.Markdown object>"
      ]
     },
     "execution_count": 87,
     "metadata": {},
     "output_type": "execute_result"
    }
   ],
   "source": [
    "md(\" **1. Dataset auf INTEG-Datakatalog:** Link {} \".format(ckan_integ_url+package_name))"
   ]
  },
  {
   "cell_type": "code",
   "execution_count": 88,
   "metadata": {},
   "outputs": [
    {
     "data": {
      "text/markdown": [
       " **2. Dataset auf PROD-Datakatalog:** Link https://data.stadt-zuerich.ch/dataset/bau_best_geb_ea_pers_altersgruppe_quartier_jahr_od6983 "
      ],
      "text/plain": [
       "<IPython.core.display.Markdown object>"
      ]
     },
     "execution_count": 88,
     "metadata": {},
     "output_type": "execute_result"
    }
   ],
   "source": [
    "md(\" **2. Dataset auf PROD-Datakatalog:** Link {} \".format(ckan_prod_url+package_name))"
   ]
  },
  {
   "cell_type": "markdown",
   "metadata": {
    "tags": []
   },
   "source": [
    "### Importiere einen Datensatz \n",
    "\n",
    "Definiere zuerst folgende Werte:\n",
    "1) Kommt der Datensatz von PROD oder INTEG?\n",
    "2) Beziehst Du den Datensatz direkt ab der DROPZONE oder aus dem INTERNET?"
   ]
  },
  {
   "cell_type": "code",
   "execution_count": 89,
   "metadata": {},
   "outputs": [
    {
     "name": "stdout",
     "output_type": "stream",
     "text": [
      "integ - web\n"
     ]
    }
   ],
   "source": [
    "#Die Datasets sind nur zum Testen auf INT-DWH-Dropzone. Wenn der Test vorbei ist, sind sie auf PROD. \n",
    "# Über den Status kann man einfach switchen\n",
    "\n",
    "status = \"integ\"; #prod vs something else\n",
    "data_source = \"web\"; #dropzone vs something else\n",
    "print(status+\" - \"+ data_source)"
   ]
  },
  {
   "cell_type": "code",
   "execution_count": 90,
   "metadata": {
    "tags": []
   },
   "outputs": [
    {
     "name": "stdout",
     "output_type": "stream",
     "text": [
      "fp lautet:https://data.integ.stadt-zuerich.ch/dataset/int_dwh_bau_best_geb_ea_pers_altersgruppe_quartier_jahr_od6983/download/BAU698OD6983.csv\n"
     ]
    }
   ],
   "source": [
    "# Filepath\n",
    "if status == \"prod\":\n",
    "    if data_source == \"dropzone\":\n",
    "            fp = dropzone_path_prod+\"\\\\\"+ package_name +\"\\\\\"+dataset_name\n",
    "            print(\"fp lautet:\"+fp)\n",
    "    else:\n",
    "        #fp = r\"https://data.stadt-zuerich.ch/dataset/bau_neubau_whg_bausm_rinh_geb_projstatus_quartier_seit2009_od5011/download/BAU501OD5011.csv\"\n",
    "        fp = ckan_prod_url+package_name+'/download/'+dataset_name\n",
    "        print(\"fp lautet:\"+fp)\n",
    "else:\n",
    "    if data_source == \"dropzone\":\n",
    "        fp = dropzone_path_integ+\"\\\\\"+ package_name +\"\\\\\"+dataset_name\n",
    "        print(\"fp lautet:\"+fp)\n",
    "    else:\n",
    "        #fp = r\"https://data.stadt-zuerich.ch/dataset/bau_neubau_whg_bausm_rinh_geb_projstatus_quartier_seit2009_od5011/download/BAU501OD5011.csv\"\n",
    "        fp = ckan_integ_url+package_name+'/download/'+dataset_name\n",
    "        print(\"fp lautet:\"+fp)\n"
   ]
  },
  {
   "cell_type": "markdown",
   "metadata": {},
   "source": [
    "Beachte, wie das SAS Datum (ohne Format) in ein UNIX Datum umgerechnet und als Datumsformat dargestellt wird! Siehe dazu `https://stackoverflow.com/questions/26923564/convert-sas-numeric-to-python-datetime`"
   ]
  },
  {
   "cell_type": "code",
   "execution_count": 91,
   "metadata": {},
   "outputs": [
    {
     "name": "stdout",
     "output_type": "stream",
     "text": [
      "web\n"
     ]
    },
    {
     "data": {
      "text/plain": [
       "StichtagDatJahr    datetime64[ns]\n",
       "QuarSort18                  int64\n",
       "QuarLang18                 object\n",
       "KreisSort                   int64\n",
       "KreisLang                  object\n",
       "EigGruSort                  int64\n",
       "EigGruLang                 object\n",
       "AnzGebMitPers               int64\n",
       "PersTotal                   int64\n",
       "Alter0009                   int64\n",
       "Alter1019                   int64\n",
       "Alter2029                   int64\n",
       "Alter3039                   int64\n",
       "Alter4049                   int64\n",
       "Alter5059                   int64\n",
       "Alter6069                   int64\n",
       "Alter7079                   int64\n",
       "Alter80um                   int64\n",
       "dtype: object"
      ]
     },
     "execution_count": 91,
     "metadata": {},
     "output_type": "execute_result"
    }
   ],
   "source": [
    "# Read the data\n",
    "if data_source == \"dropzone\":\n",
    "    data2betested = pd.read_csv(\n",
    "        fp\n",
    "        , sep=','\n",
    "        ,parse_dates=['StichtagDatJahr']\n",
    "        ,low_memory=False\n",
    "    )\n",
    "    print(\"dropzone\")\n",
    "else:\n",
    "    r = requests.get(fp, verify=False)  \n",
    "    r.encoding = 'utf-8'\n",
    "    data2betested = pd.read_csv(\n",
    "        io.StringIO(r.text)\n",
    "        ,parse_dates=['StichtagDatJahr']\n",
    "        # KONVERTIERE DAS SAS DATUM IN EIN UNIXDATUM UND FORMATIERE ES\n",
    "        #, date_parser=lambda s: epoch + datetime.timedelta(days=int(s))\n",
    "        ,low_memory=False)\n",
    "    print(\"web\")\n",
    "\n",
    "data2betested.dtypes"
   ]
  },
  {
   "cell_type": "markdown",
   "metadata": {},
   "source": [
    "Berechne weitere Attribute falls notwendig"
   ]
  },
  {
   "cell_type": "code",
   "execution_count": 92,
   "metadata": {},
   "outputs": [
    {
     "data": {
      "text/plain": [
       "StichtagDatJahr        datetime64[ns]\n",
       "QuarSort18                      int64\n",
       "QuarLang18                     object\n",
       "KreisSort                       int64\n",
       "KreisLang                      object\n",
       "EigGruSort                      int64\n",
       "EigGruLang                     object\n",
       "AnzGebMitPers                   int64\n",
       "PersTotal                       int64\n",
       "Alter0009                       int64\n",
       "Alter1019                       int64\n",
       "Alter2029                       int64\n",
       "Alter3039                       int64\n",
       "Alter4049                       int64\n",
       "Alter5059                       int64\n",
       "Alter6069                       int64\n",
       "Alter7079                       int64\n",
       "Alter80um                       int64\n",
       "StichtagDatJahr_str            object\n",
       "dtype: object"
      ]
     },
     "execution_count": 92,
     "metadata": {},
     "output_type": "execute_result"
    }
   ],
   "source": [
    "data2betested = (\n",
    "    data2betested\n",
    "    .copy()\n",
    "    .assign(\n",
    "        #Aktualisierungs_Datum_str= lambda x: x.Aktualisierungs_Datum.astype(str),\n",
    "        StichtagDatJahr_str = lambda x: x.StichtagDatJahr.astype(str),\n",
    "    )\n",
    "    .sort_values('StichtagDatJahr', ascending=False)\n",
    "    )\n",
    "data2betested.dtypes"
   ]
  },
  {
   "cell_type": "markdown",
   "metadata": {},
   "source": [
    "### Einfache Datentests"
   ]
  },
  {
   "cell_type": "markdown",
   "metadata": {},
   "source": [
    " - 1) Zeige eine kurze Vorschau der importierten Daten\n",
    " - 2) Weise die Datentypen aus\n",
    " - 3) Zeige die Shape (Umfang) des Datensatzes an"
   ]
  },
  {
   "cell_type": "code",
   "execution_count": 93,
   "metadata": {},
   "outputs": [],
   "source": [
    "#data2betested.head(6)"
   ]
  },
  {
   "cell_type": "code",
   "execution_count": 94,
   "metadata": {},
   "outputs": [
    {
     "data": {
      "text/plain": [
       "StichtagDatJahr        datetime64[ns]\n",
       "QuarSort18                      int64\n",
       "QuarLang18                     object\n",
       "KreisSort                       int64\n",
       "KreisLang                      object\n",
       "EigGruSort                      int64\n",
       "EigGruLang                     object\n",
       "AnzGebMitPers                   int64\n",
       "PersTotal                       int64\n",
       "Alter0009                       int64\n",
       "Alter1019                       int64\n",
       "Alter2029                       int64\n",
       "Alter3039                       int64\n",
       "Alter4049                       int64\n",
       "Alter5059                       int64\n",
       "Alter6069                       int64\n",
       "Alter7079                       int64\n",
       "Alter80um                       int64\n",
       "StichtagDatJahr_str            object\n",
       "dtype: object"
      ]
     },
     "execution_count": 94,
     "metadata": {},
     "output_type": "execute_result"
    }
   ],
   "source": [
    "data2betested.dtypes"
   ]
  },
  {
   "cell_type": "code",
   "execution_count": 95,
   "metadata": {},
   "outputs": [
    {
     "data": {
      "text/plain": [
       "(1624, 19)"
      ]
     },
     "execution_count": 95,
     "metadata": {},
     "output_type": "execute_result"
    }
   ],
   "source": [
    "data2betested.shape"
   ]
  },
  {
   "cell_type": "markdown",
   "metadata": {},
   "source": [
    "Beschreibe einzelne Attribute"
   ]
  },
  {
   "cell_type": "code",
   "execution_count": 96,
   "metadata": {},
   "outputs": [
    {
     "data": {
      "text/html": [
       "<div>\n",
       "<style scoped>\n",
       "    .dataframe tbody tr th:only-of-type {\n",
       "        vertical-align: middle;\n",
       "    }\n",
       "\n",
       "    .dataframe tbody tr th {\n",
       "        vertical-align: top;\n",
       "    }\n",
       "\n",
       "    .dataframe thead th {\n",
       "        text-align: right;\n",
       "    }\n",
       "</style>\n",
       "<table border=\"1\" class=\"dataframe\">\n",
       "  <thead>\n",
       "    <tr style=\"text-align: right;\">\n",
       "      <th></th>\n",
       "      <th>QuarSort18</th>\n",
       "      <th>KreisSort</th>\n",
       "      <th>EigGruSort</th>\n",
       "      <th>AnzGebMitPers</th>\n",
       "      <th>PersTotal</th>\n",
       "      <th>Alter0009</th>\n",
       "      <th>Alter1019</th>\n",
       "      <th>Alter2029</th>\n",
       "      <th>Alter3039</th>\n",
       "      <th>Alter4049</th>\n",
       "      <th>Alter5059</th>\n",
       "      <th>Alter6069</th>\n",
       "      <th>Alter7079</th>\n",
       "      <th>Alter80um</th>\n",
       "    </tr>\n",
       "  </thead>\n",
       "  <tbody>\n",
       "    <tr>\n",
       "      <th>count</th>\n",
       "      <td>1624</td>\n",
       "      <td>1624</td>\n",
       "      <td>1624</td>\n",
       "      <td>1624</td>\n",
       "      <td>1624</td>\n",
       "      <td>1624</td>\n",
       "      <td>1624</td>\n",
       "      <td>1624</td>\n",
       "      <td>1624</td>\n",
       "      <td>1624</td>\n",
       "      <td>1624</td>\n",
       "      <td>1624</td>\n",
       "      <td>1624</td>\n",
       "      <td>1624</td>\n",
       "    </tr>\n",
       "    <tr>\n",
       "      <th>mean</th>\n",
       "      <td>69</td>\n",
       "      <td>7</td>\n",
       "      <td>2</td>\n",
       "      <td>310</td>\n",
       "      <td>3517</td>\n",
       "      <td>329</td>\n",
       "      <td>248</td>\n",
       "      <td>588</td>\n",
       "      <td>731</td>\n",
       "      <td>532</td>\n",
       "      <td>404</td>\n",
       "      <td>288</td>\n",
       "      <td>217</td>\n",
       "      <td>181</td>\n",
       "    </tr>\n",
       "    <tr>\n",
       "      <th>std</th>\n",
       "      <td>35</td>\n",
       "      <td>3</td>\n",
       "      <td>1</td>\n",
       "      <td>288</td>\n",
       "      <td>2754</td>\n",
       "      <td>291</td>\n",
       "      <td>255</td>\n",
       "      <td>532</td>\n",
       "      <td>631</td>\n",
       "      <td>411</td>\n",
       "      <td>311</td>\n",
       "      <td>225</td>\n",
       "      <td>184</td>\n",
       "      <td>175</td>\n",
       "    </tr>\n",
       "    <tr>\n",
       "      <th>min</th>\n",
       "      <td>10</td>\n",
       "      <td>1</td>\n",
       "      <td>1</td>\n",
       "      <td>6</td>\n",
       "      <td>118</td>\n",
       "      <td>1</td>\n",
       "      <td>1</td>\n",
       "      <td>8</td>\n",
       "      <td>7</td>\n",
       "      <td>8</td>\n",
       "      <td>11</td>\n",
       "      <td>10</td>\n",
       "      <td>1</td>\n",
       "      <td>0</td>\n",
       "    </tr>\n",
       "    <tr>\n",
       "      <th>25%</th>\n",
       "      <td>41</td>\n",
       "      <td>4</td>\n",
       "      <td>2</td>\n",
       "      <td>102</td>\n",
       "      <td>1313</td>\n",
       "      <td>106</td>\n",
       "      <td>72</td>\n",
       "      <td>157</td>\n",
       "      <td>208</td>\n",
       "      <td>203</td>\n",
       "      <td>160</td>\n",
       "      <td>109</td>\n",
       "      <td>72</td>\n",
       "      <td>40</td>\n",
       "    </tr>\n",
       "    <tr>\n",
       "      <th>50%</th>\n",
       "      <td>71</td>\n",
       "      <td>7</td>\n",
       "      <td>2</td>\n",
       "      <td>204</td>\n",
       "      <td>2726</td>\n",
       "      <td>226</td>\n",
       "      <td>162</td>\n",
       "      <td>432</td>\n",
       "      <td>548</td>\n",
       "      <td>402</td>\n",
       "      <td>302</td>\n",
       "      <td>227</td>\n",
       "      <td>163</td>\n",
       "      <td>127</td>\n",
       "    </tr>\n",
       "    <tr>\n",
       "      <th>75%</th>\n",
       "      <td>101</td>\n",
       "      <td>10</td>\n",
       "      <td>3</td>\n",
       "      <td>424</td>\n",
       "      <td>5677</td>\n",
       "      <td>502</td>\n",
       "      <td>345</td>\n",
       "      <td>881</td>\n",
       "      <td>1120</td>\n",
       "      <td>837</td>\n",
       "      <td>623</td>\n",
       "      <td>435</td>\n",
       "      <td>329</td>\n",
       "      <td>273</td>\n",
       "    </tr>\n",
       "    <tr>\n",
       "      <th>max</th>\n",
       "      <td>123</td>\n",
       "      <td>12</td>\n",
       "      <td>4</td>\n",
       "      <td>1274</td>\n",
       "      <td>12181</td>\n",
       "      <td>1446</td>\n",
       "      <td>1519</td>\n",
       "      <td>2691</td>\n",
       "      <td>3231</td>\n",
       "      <td>1941</td>\n",
       "      <td>1558</td>\n",
       "      <td>1081</td>\n",
       "      <td>956</td>\n",
       "      <td>962</td>\n",
       "    </tr>\n",
       "  </tbody>\n",
       "</table>\n",
       "</div>"
      ],
      "text/plain": [
       "       QuarSort18  KreisSort  EigGruSort  AnzGebMitPers  PersTotal  Alter0009  Alter1019  \\\n",
       "count        1624       1624        1624           1624       1624       1624       1624   \n",
       "mean           69          7           2            310       3517        329        248   \n",
       "std            35          3           1            288       2754        291        255   \n",
       "min            10          1           1              6        118          1          1   \n",
       "25%            41          4           2            102       1313        106         72   \n",
       "50%            71          7           2            204       2726        226        162   \n",
       "75%           101         10           3            424       5677        502        345   \n",
       "max           123         12           4           1274      12181       1446       1519   \n",
       "\n",
       "       Alter2029  Alter3039  Alter4049  Alter5059  Alter6069  Alter7079  Alter80um  \n",
       "count       1624       1624       1624       1624       1624       1624       1624  \n",
       "mean         588        731        532        404        288        217        181  \n",
       "std          532        631        411        311        225        184        175  \n",
       "min            8          7          8         11         10          1          0  \n",
       "25%          157        208        203        160        109         72         40  \n",
       "50%          432        548        402        302        227        163        127  \n",
       "75%          881       1120        837        623        435        329        273  \n",
       "max         2691       3231       1941       1558       1081        956        962  "
      ]
     },
     "execution_count": 96,
     "metadata": {},
     "output_type": "execute_result"
    }
   ],
   "source": [
    "data2betested.describe()"
   ]
  },
  {
   "cell_type": "markdown",
   "metadata": {},
   "source": [
    "Wie viele Nullwerte gibt es im Datensatz?"
   ]
  },
  {
   "cell_type": "code",
   "execution_count": 97,
   "metadata": {
    "scrolled": true
   },
   "outputs": [
    {
     "data": {
      "text/plain": [
       "StichtagDatJahr        0\n",
       "QuarSort18             0\n",
       "QuarLang18             0\n",
       "KreisSort              0\n",
       "KreisLang              0\n",
       "EigGruSort             0\n",
       "EigGruLang             0\n",
       "AnzGebMitPers          0\n",
       "PersTotal              0\n",
       "Alter0009              0\n",
       "Alter1019              0\n",
       "Alter2029              0\n",
       "Alter3039              0\n",
       "Alter4049              0\n",
       "Alter5059              0\n",
       "Alter6069              0\n",
       "Alter7079              0\n",
       "Alter80um              0\n",
       "StichtagDatJahr_str    0\n",
       "dtype: int64"
      ]
     },
     "execution_count": 97,
     "metadata": {},
     "output_type": "execute_result"
    }
   ],
   "source": [
    "data2betested.isnull().sum()"
   ]
  },
  {
   "cell_type": "markdown",
   "metadata": {
    "colab_type": "text",
    "id": "1dTPVmmsgOVx"
   },
   "source": [
    "### Verwende das Datum als Index\n",
    "\n",
    "While we did already parse the `datetime` column into the respective datetime type, it currently is just a regular column. \n",
    "**To enable quick and convenient queries and aggregations, we need to turn it into the index of the DataFrame**"
   ]
  },
  {
   "cell_type": "code",
   "execution_count": 98,
   "metadata": {},
   "outputs": [],
   "source": [
    "data2betested = data2betested.set_index(\"StichtagDatJahr\")"
   ]
  },
  {
   "cell_type": "code",
   "execution_count": 99,
   "metadata": {},
   "outputs": [
    {
     "name": "stdout",
     "output_type": "stream",
     "text": [
      "<class 'pandas.core.frame.DataFrame'>\n",
      "DatetimeIndex: 1624 entries, 2021-01-01 to 2008-01-01\n",
      "Data columns (total 18 columns):\n",
      " #   Column               Non-Null Count  Dtype \n",
      "---  ------               --------------  ----- \n",
      " 0   QuarSort18           1624 non-null   int64 \n",
      " 1   QuarLang18           1624 non-null   object\n",
      " 2   KreisSort            1624 non-null   int64 \n",
      " 3   KreisLang            1624 non-null   object\n",
      " 4   EigGruSort           1624 non-null   int64 \n",
      " 5   EigGruLang           1624 non-null   object\n",
      " 6   AnzGebMitPers        1624 non-null   int64 \n",
      " 7   PersTotal            1624 non-null   int64 \n",
      " 8   Alter0009            1624 non-null   int64 \n",
      " 9   Alter1019            1624 non-null   int64 \n",
      " 10  Alter2029            1624 non-null   int64 \n",
      " 11  Alter3039            1624 non-null   int64 \n",
      " 12  Alter4049            1624 non-null   int64 \n",
      " 13  Alter5059            1624 non-null   int64 \n",
      " 14  Alter6069            1624 non-null   int64 \n",
      " 15  Alter7079            1624 non-null   int64 \n",
      " 16  Alter80um            1624 non-null   int64 \n",
      " 17  StichtagDatJahr_str  1624 non-null   object\n",
      "dtypes: int64(14), object(4)\n",
      "memory usage: 241.1+ KB\n"
     ]
    },
    {
     "data": {
      "text/plain": [
       "Int64Index([1], dtype='int64', name='StichtagDatJahr')"
      ]
     },
     "execution_count": 99,
     "metadata": {},
     "output_type": "execute_result"
    }
   ],
   "source": [
    "data2betested.info()\n",
    "data2betested.index.day.unique()"
   ]
  },
  {
   "cell_type": "markdown",
   "metadata": {},
   "source": [
    "### Einfache Visualisierungen zur Plausi"
   ]
  },
  {
   "cell_type": "markdown",
   "metadata": {},
   "source": [
    "Exploriere die Daten mit Pivottable.JS"
   ]
  },
  {
   "cell_type": "code",
   "execution_count": 100,
   "metadata": {},
   "outputs": [
    {
     "data": {
      "text/html": [
       "\n",
       "        <iframe\n",
       "            width=\"100%\"\n",
       "            height=\"500\"\n",
       "            src=\"pivottablejs.html\"\n",
       "            frameborder=\"0\"\n",
       "            allowfullscreen\n",
       "            \n",
       "        ></iframe>\n",
       "        "
      ],
      "text/plain": [
       "<IPython.lib.display.IFrame at 0x1b620e7c9c8>"
      ]
     },
     "execution_count": 100,
     "metadata": {},
     "output_type": "execute_result"
    }
   ],
   "source": [
    "from pivottablejs import pivot_ui\n",
    "\n",
    "pivot_ui(data2betested)"
   ]
  },
  {
   "cell_type": "markdown",
   "metadata": {},
   "source": [
    "### Zeitpunkte und Zeiträume abfragen\n",
    "\n",
    "A particular powerful feature of the Pandas DataFrame is its indexing capability that also works using time-based entities, such as dates and times. We have already created the index above, so let's put it to use."
   ]
  },
  {
   "cell_type": "code",
   "execution_count": 102,
   "metadata": {},
   "outputs": [
    {
     "data": {
      "text/html": [
       "<div>\n",
       "<style scoped>\n",
       "    .dataframe tbody tr th:only-of-type {\n",
       "        vertical-align: middle;\n",
       "    }\n",
       "\n",
       "    .dataframe tbody tr th {\n",
       "        vertical-align: top;\n",
       "    }\n",
       "\n",
       "    .dataframe thead th {\n",
       "        text-align: right;\n",
       "    }\n",
       "</style>\n",
       "<table border=\"1\" class=\"dataframe\">\n",
       "  <thead>\n",
       "    <tr style=\"text-align: right;\">\n",
       "      <th></th>\n",
       "      <th>QuarSort18</th>\n",
       "      <th>QuarLang18</th>\n",
       "      <th>KreisSort</th>\n",
       "      <th>KreisLang</th>\n",
       "      <th>EigGruSort</th>\n",
       "      <th>EigGruLang</th>\n",
       "      <th>AnzGebMitPers</th>\n",
       "      <th>...</th>\n",
       "      <th>Alter3039</th>\n",
       "      <th>Alter4049</th>\n",
       "      <th>Alter5059</th>\n",
       "      <th>Alter6069</th>\n",
       "      <th>Alter7079</th>\n",
       "      <th>Alter80um</th>\n",
       "      <th>StichtagDatJahr_str</th>\n",
       "    </tr>\n",
       "    <tr>\n",
       "      <th>StichtagDatJahr</th>\n",
       "      <th></th>\n",
       "      <th></th>\n",
       "      <th></th>\n",
       "      <th></th>\n",
       "      <th></th>\n",
       "      <th></th>\n",
       "      <th></th>\n",
       "      <th></th>\n",
       "      <th></th>\n",
       "      <th></th>\n",
       "      <th></th>\n",
       "      <th></th>\n",
       "      <th></th>\n",
       "      <th></th>\n",
       "      <th></th>\n",
       "    </tr>\n",
       "  </thead>\n",
       "  <tbody>\n",
       "    <tr>\n",
       "      <th>2021-01-01</th>\n",
       "      <td>123</td>\n",
       "      <td>Hirzenbach</td>\n",
       "      <td>12</td>\n",
       "      <td>Kreis 12</td>\n",
       "      <td>4</td>\n",
       "      <td>Im Stockwerkeigentum</td>\n",
       "      <td>20</td>\n",
       "      <td>...</td>\n",
       "      <td>85</td>\n",
       "      <td>76</td>\n",
       "      <td>63</td>\n",
       "      <td>71</td>\n",
       "      <td>35</td>\n",
       "      <td>16</td>\n",
       "      <td>2021-01-01</td>\n",
       "    </tr>\n",
       "    <tr>\n",
       "      <th>2021-01-01</th>\n",
       "      <td>21</td>\n",
       "      <td>Wollishofen</td>\n",
       "      <td>2</td>\n",
       "      <td>Kreis 2</td>\n",
       "      <td>1</td>\n",
       "      <td>Öffentlich/Genossenschaftlich</td>\n",
       "      <td>575</td>\n",
       "      <td>...</td>\n",
       "      <td>1023</td>\n",
       "      <td>1074</td>\n",
       "      <td>863</td>\n",
       "      <td>699</td>\n",
       "      <td>487</td>\n",
       "      <td>446</td>\n",
       "      <td>2021-01-01</td>\n",
       "    </tr>\n",
       "  </tbody>\n",
       "</table>\n",
       "<p>2 rows × 18 columns</p>\n",
       "</div>"
      ],
      "text/plain": [
       "                 QuarSort18   QuarLang18  KreisSort KreisLang  EigGruSort  \\\n",
       "StichtagDatJahr                                                             \n",
       "2021-01-01              123   Hirzenbach         12  Kreis 12           4   \n",
       "2021-01-01               21  Wollishofen          2   Kreis 2           1   \n",
       "\n",
       "                                    EigGruLang  AnzGebMitPers  ...  Alter3039  Alter4049  \\\n",
       "StichtagDatJahr                                                ...                         \n",
       "2021-01-01                Im Stockwerkeigentum             20  ...         85         76   \n",
       "2021-01-01       Öffentlich/Genossenschaftlich            575  ...       1023       1074   \n",
       "\n",
       "                 Alter5059  Alter6069  Alter7079  Alter80um  StichtagDatJahr_str  \n",
       "StichtagDatJahr                                                                   \n",
       "2021-01-01              63         71         35         16           2021-01-01  \n",
       "2021-01-01             863        699        487        446           2021-01-01  \n",
       "\n",
       "[2 rows x 18 columns]"
      ]
     },
     "execution_count": 102,
     "metadata": {},
     "output_type": "execute_result"
    }
   ],
   "source": [
    "data2betested.loc[\"2018\":\"2021\"].head(2)\n",
    "#data2betested.loc[\"2021-10-31\":\"2021-11-30\"].head(2)"
   ]
  },
  {
   "cell_type": "markdown",
   "metadata": {},
   "source": [
    "### Visualisierungen nach Zeitausschnitten"
   ]
  },
  {
   "cell_type": "markdown",
   "metadata": {
    "tags": []
   },
   "source": [
    "#### Entwicklung Quartier Anzahl Bewohner 60-69"
   ]
  },
  {
   "cell_type": "code",
   "execution_count": 109,
   "metadata": {
    "tags": []
   },
   "outputs": [
    {
     "data": {
      "text/html": [
       "<div>\n",
       "<style scoped>\n",
       "    .dataframe tbody tr th:only-of-type {\n",
       "        vertical-align: middle;\n",
       "    }\n",
       "\n",
       "    .dataframe tbody tr th {\n",
       "        vertical-align: top;\n",
       "    }\n",
       "\n",
       "    .dataframe thead th {\n",
       "        text-align: right;\n",
       "    }\n",
       "</style>\n",
       "<table border=\"1\" class=\"dataframe\">\n",
       "  <thead>\n",
       "    <tr style=\"text-align: right;\">\n",
       "      <th></th>\n",
       "      <th>StichtagDatJahr</th>\n",
       "      <th>QuarLang18</th>\n",
       "      <th>QuarSort18</th>\n",
       "      <th>sum_AnzGebMitPers</th>\n",
       "      <th>sum_Alter6069</th>\n",
       "      <th>sum_Alter80um</th>\n",
       "    </tr>\n",
       "  </thead>\n",
       "  <tbody>\n",
       "    <tr>\n",
       "      <th>0</th>\n",
       "      <td>2010-01-01</td>\n",
       "      <td>Affoltern</td>\n",
       "      <td>111</td>\n",
       "      <td>1859</td>\n",
       "      <td>1893</td>\n",
       "      <td>993</td>\n",
       "    </tr>\n",
       "    <tr>\n",
       "      <th>1</th>\n",
       "      <td>2010-01-01</td>\n",
       "      <td>Wollishofen</td>\n",
       "      <td>21</td>\n",
       "      <td>1816</td>\n",
       "      <td>1458</td>\n",
       "      <td>1368</td>\n",
       "    </tr>\n",
       "    <tr>\n",
       "      <th>2</th>\n",
       "      <td>2010-01-01</td>\n",
       "      <td>Witikon</td>\n",
       "      <td>74</td>\n",
       "      <td>1310</td>\n",
       "      <td>1347</td>\n",
       "      <td>1023</td>\n",
       "    </tr>\n",
       "  </tbody>\n",
       "</table>\n",
       "</div>"
      ],
      "text/plain": [
       "  StichtagDatJahr   QuarLang18  QuarSort18  sum_AnzGebMitPers  sum_Alter6069  sum_Alter80um\n",
       "0      2010-01-01    Affoltern         111               1859           1893            993\n",
       "1      2010-01-01  Wollishofen          21               1816           1458           1368\n",
       "2      2010-01-01      Witikon          74               1310           1347           1023"
      ]
     },
     "execution_count": 109,
     "metadata": {},
     "output_type": "execute_result"
    }
   ],
   "source": [
    "myAgg = data2betested.loc[\"2010\":\"2021\"]\\\n",
    "    .groupby(['StichtagDatJahr', 'QuarLang18', 'QuarSort18']) \\\n",
    "    .agg(sum_AnzGebMitPers=('AnzGebMitPers', 'sum'), sum_Alter6069=('Alter6069', 'sum'), sum_Alter80um=('Alter80um', 'sum')) \\\n",
    "    .sort_values('StichtagDatJahr', ascending=True) \n",
    "\n",
    "myAgg.reset_index().head(3)"
   ]
  },
  {
   "cell_type": "code",
   "execution_count": 110,
   "metadata": {},
   "outputs": [
    {
     "data": {
      "text/html": [
       "\n",
       "<div id=\"altair-viz-d7e024e74c7243d79caf1a7c0fa4e378\"></div>\n",
       "<script type=\"text/javascript\">\n",
       "  (function(spec, embedOpt){\n",
       "    let outputDiv = document.currentScript.previousElementSibling;\n",
       "    if (outputDiv.id !== \"altair-viz-d7e024e74c7243d79caf1a7c0fa4e378\") {\n",
       "      outputDiv = document.getElementById(\"altair-viz-d7e024e74c7243d79caf1a7c0fa4e378\");\n",
       "    }\n",
       "    const paths = {\n",
       "      \"vega\": \"https://cdn.jsdelivr.net/npm//vega@5?noext\",\n",
       "      \"vega-lib\": \"https://cdn.jsdelivr.net/npm//vega-lib?noext\",\n",
       "      \"vega-lite\": \"https://cdn.jsdelivr.net/npm//vega-lite@4.8.1?noext\",\n",
       "      \"vega-embed\": \"https://cdn.jsdelivr.net/npm//vega-embed@6?noext\",\n",
       "    };\n",
       "\n",
       "    function loadScript(lib) {\n",
       "      return new Promise(function(resolve, reject) {\n",
       "        var s = document.createElement('script');\n",
       "        s.src = paths[lib];\n",
       "        s.async = true;\n",
       "        s.onload = () => resolve(paths[lib]);\n",
       "        s.onerror = () => reject(`Error loading script: ${paths[lib]}`);\n",
       "        document.getElementsByTagName(\"head\")[0].appendChild(s);\n",
       "      });\n",
       "    }\n",
       "\n",
       "    function showError(err) {\n",
       "      outputDiv.innerHTML = `<div class=\"error\" style=\"color:red;\">${err}</div>`;\n",
       "      throw err;\n",
       "    }\n",
       "\n",
       "    function displayChart(vegaEmbed) {\n",
       "      vegaEmbed(outputDiv, spec, embedOpt)\n",
       "        .catch(err => showError(`Javascript Error: ${err.message}<br>This usually means there's a typo in your chart specification. See the javascript console for the full traceback.`));\n",
       "    }\n",
       "\n",
       "    if(typeof define === \"function\" && define.amd) {\n",
       "      requirejs.config({paths});\n",
       "      require([\"vega-embed\"], displayChart, err => showError(`Error loading script: ${err.message}`));\n",
       "    } else if (typeof vegaEmbed === \"function\") {\n",
       "      displayChart(vegaEmbed);\n",
       "    } else {\n",
       "      loadScript(\"vega\")\n",
       "        .then(() => loadScript(\"vega-lite\"))\n",
       "        .then(() => loadScript(\"vega-embed\"))\n",
       "        .catch(showError)\n",
       "        .then(() => displayChart(vegaEmbed));\n",
       "    }\n",
       "  })({\"config\": {\"view\": {\"continuousWidth\": 400, \"continuousHeight\": 300}}, \"layer\": [{\"mark\": \"line\", \"encoding\": {\"color\": {\"type\": \"nominal\", \"field\": \"QuarLang18\", \"legend\": {\"orient\": \"right\", \"title\": \"Projektstatus\"}}, \"size\": {\"condition\": {\"value\": 0.5, \"selection\": {\"not\": \"selector005\"}}, \"value\": 4}, \"tooltip\": [{\"type\": \"temporal\", \"field\": \"StichtagDatJahr\"}, {\"type\": \"nominal\", \"field\": \"QuarLang18\"}, {\"type\": \"quantitative\", \"field\": \"QuarSort18\"}, {\"type\": \"quantitative\", \"field\": \"sum_AnzGebMitPers\"}, {\"type\": \"quantitative\", \"field\": \"sum_Alter6069\"}, {\"type\": \"quantitative\", \"field\": \"sum_Alter80um\"}], \"x\": {\"type\": \"temporal\", \"axis\": {\"title\": \"Jahr\"}, \"field\": \"StichtagDatJahr\"}, \"y\": {\"type\": \"quantitative\", \"axis\": {\"title\": \"Anz. Projektierte Geb\\u00e4ude\"}, \"field\": \"sum_Alter6069\"}}, \"selection\": {\"selector006\": {\"type\": \"interval\", \"bind\": \"scales\", \"encodings\": [\"x\", \"y\"]}}, \"title\": \"Titel\"}, {\"mark\": \"circle\", \"encoding\": {\"color\": {\"type\": \"nominal\", \"field\": \"QuarLang18\", \"legend\": {\"orient\": \"right\", \"title\": \"Projektstatus\"}}, \"opacity\": {\"value\": 0.75}, \"tooltip\": [{\"type\": \"temporal\", \"field\": \"StichtagDatJahr\"}, {\"type\": \"nominal\", \"field\": \"QuarLang18\"}, {\"type\": \"quantitative\", \"field\": \"QuarSort18\"}, {\"type\": \"quantitative\", \"field\": \"sum_AnzGebMitPers\"}, {\"type\": \"quantitative\", \"field\": \"sum_Alter6069\"}, {\"type\": \"quantitative\", \"field\": \"sum_Alter80um\"}], \"x\": {\"type\": \"temporal\", \"axis\": {\"title\": \"Jahr\"}, \"field\": \"StichtagDatJahr\"}, \"y\": {\"type\": \"quantitative\", \"axis\": {\"title\": \"Anz. Projektierte Geb\\u00e4ude\"}, \"field\": \"sum_Alter6069\"}}, \"height\": 350, \"selection\": {\"selector005\": {\"type\": \"single\", \"on\": \"mouseover\", \"fields\": [\"QuarLang18\"], \"nearest\": true}}, \"title\": \"Titel\", \"width\": 750}], \"data\": {\"name\": \"data-131a65d7571b130b7991a10689fc852e\"}, \"$schema\": \"https://vega.github.io/schema/vega-lite/v4.8.1.json\", \"datasets\": {\"data-131a65d7571b130b7991a10689fc852e\": [{\"StichtagDatJahr\": \"2010-01-01T00:00:00\", \"QuarLang18\": \"Affoltern\", \"QuarSort18\": 111, \"sum_AnzGebMitPers\": 1859, \"sum_Alter6069\": 1893, \"sum_Alter80um\": 993}, {\"StichtagDatJahr\": \"2010-01-01T00:00:00\", \"QuarLang18\": \"Wollishofen\", \"QuarSort18\": 21, \"sum_AnzGebMitPers\": 1816, \"sum_Alter6069\": 1458, \"sum_Alter80um\": 1368}, {\"StichtagDatJahr\": \"2010-01-01T00:00:00\", \"QuarLang18\": \"Witikon\", \"QuarSort18\": 74, \"sum_AnzGebMitPers\": 1310, \"sum_Alter6069\": 1347, \"sum_Alter80um\": 1023}, {\"StichtagDatJahr\": \"2010-01-01T00:00:00\", \"QuarLang18\": \"Wipkingen\", \"QuarSort18\": 102, \"sum_AnzGebMitPers\": 1333, \"sum_Alter6069\": 1108, \"sum_Alter80um\": 906}, {\"StichtagDatJahr\": \"2010-01-01T00:00:00\", \"QuarLang18\": \"Werd\", \"QuarSort18\": 41, \"sum_AnzGebMitPers\": 288, \"sum_Alter6069\": 232, \"sum_Alter80um\": 180}, {\"StichtagDatJahr\": \"2010-01-01T00:00:00\", \"QuarLang18\": \"Unterstrass\", \"QuarSort18\": 61, \"sum_AnzGebMitPers\": 2133, \"sum_Alter6069\": 1631, \"sum_Alter80um\": 1047}, {\"StichtagDatJahr\": \"2010-01-01T00:00:00\", \"QuarLang18\": \"Sihlfeld\", \"QuarSort18\": 34, \"sum_AnzGebMitPers\": 1228, \"sum_Alter6069\": 1384, \"sum_Alter80um\": 998}, {\"StichtagDatJahr\": \"2010-01-01T00:00:00\", \"QuarLang18\": \"Seebach\", \"QuarSort18\": 119, \"sum_AnzGebMitPers\": 1812, \"sum_Alter6069\": 1791, \"sum_Alter80um\": 1008}, {\"StichtagDatJahr\": \"2010-01-01T00:00:00\", \"QuarLang18\": \"Saatlen\", \"QuarSort18\": 121, \"sum_AnzGebMitPers\": 1060, \"sum_Alter6069\": 559, \"sum_Alter80um\": 272}, {\"StichtagDatJahr\": \"2010-01-01T00:00:00\", \"QuarLang18\": \"Oerlikon\", \"QuarSort18\": 115, \"sum_AnzGebMitPers\": 1827, \"sum_Alter6069\": 1588, \"sum_Alter80um\": 946}, {\"StichtagDatJahr\": \"2010-01-01T00:00:00\", \"QuarLang18\": \"Oberstrass\", \"QuarSort18\": 63, \"sum_AnzGebMitPers\": 1199, \"sum_Alter6069\": 974, \"sum_Alter80um\": 588}, {\"StichtagDatJahr\": \"2010-01-01T00:00:00\", \"QuarLang18\": \"Leimbach\", \"QuarSort18\": 23, \"sum_AnzGebMitPers\": 660, \"sum_Alter6069\": 528, \"sum_Alter80um\": 416}, {\"StichtagDatJahr\": \"2010-01-01T00:00:00\", \"QuarLang18\": \"Langstrasse\", \"QuarSort18\": 42, \"sum_AnzGebMitPers\": 769, \"sum_Alter6069\": 672, \"sum_Alter80um\": 226}, {\"StichtagDatJahr\": \"2010-01-01T00:00:00\", \"QuarLang18\": \"Kreis 8\", \"QuarSort18\": 80, \"sum_AnzGebMitPers\": 1628, \"sum_Alter6069\": 1480, \"sum_Alter80um\": 810}, {\"StichtagDatJahr\": \"2010-01-01T00:00:00\", \"QuarLang18\": \"Schwamendingen-Mitte\", \"QuarSort18\": 122, \"sum_AnzGebMitPers\": 833, \"sum_Alter6069\": 921, \"sum_Alter80um\": 678}, {\"StichtagDatJahr\": \"2010-01-01T00:00:00\", \"QuarLang18\": \"H\\u00f6ngg\", \"QuarSort18\": 101, \"sum_AnzGebMitPers\": 2205, \"sum_Alter6069\": 2359, \"sum_Alter80um\": 1457}, {\"StichtagDatJahr\": \"2010-01-01T00:00:00\", \"QuarLang18\": \"Kreis 1\", \"QuarSort18\": 10, \"sum_AnzGebMitPers\": 893, \"sum_Alter6069\": 678, \"sum_Alter80um\": 255}, {\"StichtagDatJahr\": \"2010-01-01T00:00:00\", \"QuarLang18\": \"Alt-Wiedikon\", \"QuarSort18\": 31, \"sum_AnzGebMitPers\": 1190, \"sum_Alter6069\": 1111, \"sum_Alter80um\": 637}, {\"StichtagDatJahr\": \"2010-01-01T00:00:00\", \"QuarLang18\": \"Altstetten\", \"QuarSort18\": 92, \"sum_AnzGebMitPers\": 2229, \"sum_Alter6069\": 2731, \"sum_Alter80um\": 1596}, {\"StichtagDatJahr\": \"2010-01-01T00:00:00\", \"QuarLang18\": \"Enge\", \"QuarSort18\": 24, \"sum_AnzGebMitPers\": 888, \"sum_Alter6069\": 794, \"sum_Alter80um\": 517}, {\"StichtagDatJahr\": \"2010-01-01T00:00:00\", \"QuarLang18\": \"Escher Wyss\", \"QuarSort18\": 52, \"sum_AnzGebMitPers\": 243, \"sum_Alter6069\": 174, \"sum_Alter80um\": 51}, {\"StichtagDatJahr\": \"2010-01-01T00:00:00\", \"QuarLang18\": \"Fluntern\", \"QuarSort18\": 71, \"sum_AnzGebMitPers\": 1006, \"sum_Alter6069\": 869, \"sum_Alter80um\": 477}, {\"StichtagDatJahr\": \"2010-01-01T00:00:00\", \"QuarLang18\": \"Albisrieden\", \"QuarSort18\": 91, \"sum_AnzGebMitPers\": 1630, \"sum_Alter6069\": 1773, \"sum_Alter80um\": 1540}, {\"StichtagDatJahr\": \"2010-01-01T00:00:00\", \"QuarLang18\": \"Gewerbeschule\", \"QuarSort18\": 51, \"sum_AnzGebMitPers\": 592, \"sum_Alter6069\": 606, \"sum_Alter80um\": 275}, {\"StichtagDatJahr\": \"2010-01-01T00:00:00\", \"QuarLang18\": \"Hard\", \"QuarSort18\": 44, \"sum_AnzGebMitPers\": 650, \"sum_Alter6069\": 944, \"sum_Alter80um\": 556}, {\"StichtagDatJahr\": \"2010-01-01T00:00:00\", \"QuarLang18\": \"Hirslanden\", \"QuarSort18\": 73, \"sum_AnzGebMitPers\": 839, \"sum_Alter6069\": 659, \"sum_Alter80um\": 609}, {\"StichtagDatJahr\": \"2010-01-01T00:00:00\", \"QuarLang18\": \"Hirzenbach\", \"QuarSort18\": 123, \"sum_AnzGebMitPers\": 1068, \"sum_Alter6069\": 826, \"sum_Alter80um\": 777}, {\"StichtagDatJahr\": \"2010-01-01T00:00:00\", \"QuarLang18\": \"Hottingen\", \"QuarSort18\": 72, \"sum_AnzGebMitPers\": 1361, \"sum_Alter6069\": 1032, \"sum_Alter80um\": 579}, {\"StichtagDatJahr\": \"2010-01-01T00:00:00\", \"QuarLang18\": \"Friesenberg\", \"QuarSort18\": 33, \"sum_AnzGebMitPers\": 1464, \"sum_Alter6069\": 840, \"sum_Alter80um\": 750}, {\"StichtagDatJahr\": \"2011-01-01T00:00:00\", \"QuarLang18\": \"Langstrasse\", \"QuarSort18\": 42, \"sum_AnzGebMitPers\": 771, \"sum_Alter6069\": 671, \"sum_Alter80um\": 197}, {\"StichtagDatJahr\": \"2011-01-01T00:00:00\", \"QuarLang18\": \"Leimbach\", \"QuarSort18\": 23, \"sum_AnzGebMitPers\": 671, \"sum_Alter6069\": 514, \"sum_Alter80um\": 419}, {\"StichtagDatJahr\": \"2011-01-01T00:00:00\", \"QuarLang18\": \"Oberstrass\", \"QuarSort18\": 63, \"sum_AnzGebMitPers\": 1202, \"sum_Alter6069\": 972, \"sum_Alter80um\": 590}, {\"StichtagDatJahr\": \"2011-01-01T00:00:00\", \"QuarLang18\": \"Oerlikon\", \"QuarSort18\": 115, \"sum_AnzGebMitPers\": 1833, \"sum_Alter6069\": 1552, \"sum_Alter80um\": 1020}, {\"StichtagDatJahr\": \"2011-01-01T00:00:00\", \"QuarLang18\": \"Saatlen\", \"QuarSort18\": 121, \"sum_AnzGebMitPers\": 1052, \"sum_Alter6069\": 554, \"sum_Alter80um\": 267}, {\"StichtagDatJahr\": \"2011-01-01T00:00:00\", \"QuarLang18\": \"Schwamendingen-Mitte\", \"QuarSort18\": 122, \"sum_AnzGebMitPers\": 828, \"sum_Alter6069\": 935, \"sum_Alter80um\": 701}, {\"StichtagDatJahr\": \"2011-01-01T00:00:00\", \"QuarLang18\": \"Werd\", \"QuarSort18\": 41, \"sum_AnzGebMitPers\": 291, \"sum_Alter6069\": 245, \"sum_Alter80um\": 176}, {\"StichtagDatJahr\": \"2011-01-01T00:00:00\", \"QuarLang18\": \"Sihlfeld\", \"QuarSort18\": 34, \"sum_AnzGebMitPers\": 1221, \"sum_Alter6069\": 1385, \"sum_Alter80um\": 992}, {\"StichtagDatJahr\": \"2011-01-01T00:00:00\", \"QuarLang18\": \"Unterstrass\", \"QuarSort18\": 61, \"sum_AnzGebMitPers\": 2129, \"sum_Alter6069\": 1681, \"sum_Alter80um\": 1024}, {\"StichtagDatJahr\": \"2011-01-01T00:00:00\", \"QuarLang18\": \"Wipkingen\", \"QuarSort18\": 102, \"sum_AnzGebMitPers\": 1335, \"sum_Alter6069\": 1120, \"sum_Alter80um\": 883}, {\"StichtagDatJahr\": \"2011-01-01T00:00:00\", \"QuarLang18\": \"Witikon\", \"QuarSort18\": 74, \"sum_AnzGebMitPers\": 1308, \"sum_Alter6069\": 1305, \"sum_Alter80um\": 1033}, {\"StichtagDatJahr\": \"2011-01-01T00:00:00\", \"QuarLang18\": \"Wollishofen\", \"QuarSort18\": 21, \"sum_AnzGebMitPers\": 1814, \"sum_Alter6069\": 1436, \"sum_Alter80um\": 1359}, {\"StichtagDatJahr\": \"2011-01-01T00:00:00\", \"QuarLang18\": \"Seebach\", \"QuarSort18\": 119, \"sum_AnzGebMitPers\": 1789, \"sum_Alter6069\": 1810, \"sum_Alter80um\": 1041}, {\"StichtagDatJahr\": \"2011-01-01T00:00:00\", \"QuarLang18\": \"Kreis 8\", \"QuarSort18\": 80, \"sum_AnzGebMitPers\": 1631, \"sum_Alter6069\": 1492, \"sum_Alter80um\": 811}, {\"StichtagDatJahr\": \"2011-01-01T00:00:00\", \"QuarLang18\": \"Fluntern\", \"QuarSort18\": 71, \"sum_AnzGebMitPers\": 1013, \"sum_Alter6069\": 870, \"sum_Alter80um\": 469}, {\"StichtagDatJahr\": \"2011-01-01T00:00:00\", \"QuarLang18\": \"H\\u00f6ngg\", \"QuarSort18\": 101, \"sum_AnzGebMitPers\": 2211, \"sum_Alter6069\": 2262, \"sum_Alter80um\": 1481}, {\"StichtagDatJahr\": \"2011-01-01T00:00:00\", \"QuarLang18\": \"Kreis 1\", \"QuarSort18\": 10, \"sum_AnzGebMitPers\": 899, \"sum_Alter6069\": 698, \"sum_Alter80um\": 262}, {\"StichtagDatJahr\": \"2011-01-01T00:00:00\", \"QuarLang18\": \"Albisrieden\", \"QuarSort18\": 91, \"sum_AnzGebMitPers\": 1643, \"sum_Alter6069\": 1771, \"sum_Alter80um\": 1531}, {\"StichtagDatJahr\": \"2011-01-01T00:00:00\", \"QuarLang18\": \"Alt-Wiedikon\", \"QuarSort18\": 31, \"sum_AnzGebMitPers\": 1201, \"sum_Alter6069\": 1097, \"sum_Alter80um\": 643}, {\"StichtagDatJahr\": \"2011-01-01T00:00:00\", \"QuarLang18\": \"Altstetten\", \"QuarSort18\": 92, \"sum_AnzGebMitPers\": 2258, \"sum_Alter6069\": 2744, \"sum_Alter80um\": 1639}, {\"StichtagDatJahr\": \"2011-01-01T00:00:00\", \"QuarLang18\": \"Enge\", \"QuarSort18\": 24, \"sum_AnzGebMitPers\": 888, \"sum_Alter6069\": 767, \"sum_Alter80um\": 517}, {\"StichtagDatJahr\": \"2011-01-01T00:00:00\", \"QuarLang18\": \"Escher Wyss\", \"QuarSort18\": 52, \"sum_AnzGebMitPers\": 247, \"sum_Alter6069\": 182, \"sum_Alter80um\": 52}, {\"StichtagDatJahr\": \"2011-01-01T00:00:00\", \"QuarLang18\": \"Affoltern\", \"QuarSort18\": 111, \"sum_AnzGebMitPers\": 1870, \"sum_Alter6069\": 1951, \"sum_Alter80um\": 1033}, {\"StichtagDatJahr\": \"2011-01-01T00:00:00\", \"QuarLang18\": \"Friesenberg\", \"QuarSort18\": 33, \"sum_AnzGebMitPers\": 1458, \"sum_Alter6069\": 873, \"sum_Alter80um\": 662}, {\"StichtagDatJahr\": \"2011-01-01T00:00:00\", \"QuarLang18\": \"Gewerbeschule\", \"QuarSort18\": 51, \"sum_AnzGebMitPers\": 595, \"sum_Alter6069\": 607, \"sum_Alter80um\": 277}, {\"StichtagDatJahr\": \"2011-01-01T00:00:00\", \"QuarLang18\": \"Hard\", \"QuarSort18\": 44, \"sum_AnzGebMitPers\": 649, \"sum_Alter6069\": 935, \"sum_Alter80um\": 565}, {\"StichtagDatJahr\": \"2011-01-01T00:00:00\", \"QuarLang18\": \"Hirslanden\", \"QuarSort18\": 73, \"sum_AnzGebMitPers\": 843, \"sum_Alter6069\": 653, \"sum_Alter80um\": 568}, {\"StichtagDatJahr\": \"2011-01-01T00:00:00\", \"QuarLang18\": \"Hirzenbach\", \"QuarSort18\": 123, \"sum_AnzGebMitPers\": 1058, \"sum_Alter6069\": 854, \"sum_Alter80um\": 774}, {\"StichtagDatJahr\": \"2011-01-01T00:00:00\", \"QuarLang18\": \"Hottingen\", \"QuarSort18\": 72, \"sum_AnzGebMitPers\": 1364, \"sum_Alter6069\": 1026, \"sum_Alter80um\": 550}, {\"StichtagDatJahr\": \"2012-01-01T00:00:00\", \"QuarLang18\": \"Langstrasse\", \"QuarSort18\": 42, \"sum_AnzGebMitPers\": 759, \"sum_Alter6069\": 679, \"sum_Alter80um\": 207}, {\"StichtagDatJahr\": \"2012-01-01T00:00:00\", \"QuarLang18\": \"Leimbach\", \"QuarSort18\": 23, \"sum_AnzGebMitPers\": 667, \"sum_Alter6069\": 509, \"sum_Alter80um\": 417}, {\"StichtagDatJahr\": \"2012-01-01T00:00:00\", \"QuarLang18\": \"Oberstrass\", \"QuarSort18\": 63, \"sum_AnzGebMitPers\": 1198, \"sum_Alter6069\": 961, \"sum_Alter80um\": 591}, {\"StichtagDatJahr\": \"2012-01-01T00:00:00\", \"QuarLang18\": \"Oerlikon\", \"QuarSort18\": 115, \"sum_AnzGebMitPers\": 1831, \"sum_Alter6069\": 1497, \"sum_Alter80um\": 1032}, {\"StichtagDatJahr\": \"2012-01-01T00:00:00\", \"QuarLang18\": \"Saatlen\", \"QuarSort18\": 121, \"sum_AnzGebMitPers\": 1050, \"sum_Alter6069\": 566, \"sum_Alter80um\": 280}, {\"StichtagDatJahr\": \"2012-01-01T00:00:00\", \"QuarLang18\": \"Seebach\", \"QuarSort18\": 119, \"sum_AnzGebMitPers\": 1803, \"sum_Alter6069\": 1819, \"sum_Alter80um\": 1023}, {\"StichtagDatJahr\": \"2012-01-01T00:00:00\", \"QuarLang18\": \"Werd\", \"QuarSort18\": 41, \"sum_AnzGebMitPers\": 289, \"sum_Alter6069\": 249, \"sum_Alter80um\": 170}, {\"StichtagDatJahr\": \"2012-01-01T00:00:00\", \"QuarLang18\": \"Unterstrass\", \"QuarSort18\": 61, \"sum_AnzGebMitPers\": 2126, \"sum_Alter6069\": 1682, \"sum_Alter80um\": 1017}, {\"StichtagDatJahr\": \"2012-01-01T00:00:00\", \"QuarLang18\": \"Kreis 8\", \"QuarSort18\": 80, \"sum_AnzGebMitPers\": 1630, \"sum_Alter6069\": 1492, \"sum_Alter80um\": 767}, {\"StichtagDatJahr\": \"2012-01-01T00:00:00\", \"QuarLang18\": \"Wipkingen\", \"QuarSort18\": 102, \"sum_AnzGebMitPers\": 1329, \"sum_Alter6069\": 1126, \"sum_Alter80um\": 839}, {\"StichtagDatJahr\": \"2012-01-01T00:00:00\", \"QuarLang18\": \"Witikon\", \"QuarSort18\": 74, \"sum_AnzGebMitPers\": 1299, \"sum_Alter6069\": 1250, \"sum_Alter80um\": 1026}, {\"StichtagDatJahr\": \"2012-01-01T00:00:00\", \"QuarLang18\": \"Wollishofen\", \"QuarSort18\": 21, \"sum_AnzGebMitPers\": 1816, \"sum_Alter6069\": 1423, \"sum_Alter80um\": 1357}, {\"StichtagDatJahr\": \"2012-01-01T00:00:00\", \"QuarLang18\": \"Sihlfeld\", \"QuarSort18\": 34, \"sum_AnzGebMitPers\": 1224, \"sum_Alter6069\": 1408, \"sum_Alter80um\": 1006}, {\"StichtagDatJahr\": \"2012-01-01T00:00:00\", \"QuarLang18\": \"Kreis 1\", \"QuarSort18\": 10, \"sum_AnzGebMitPers\": 888, \"sum_Alter6069\": 683, \"sum_Alter80um\": 261}, {\"StichtagDatJahr\": \"2012-01-01T00:00:00\", \"QuarLang18\": \"Schwamendingen-Mitte\", \"QuarSort18\": 122, \"sum_AnzGebMitPers\": 830, \"sum_Alter6069\": 907, \"sum_Alter80um\": 711}, {\"StichtagDatJahr\": \"2012-01-01T00:00:00\", \"QuarLang18\": \"Hottingen\", \"QuarSort18\": 72, \"sum_AnzGebMitPers\": 1360, \"sum_Alter6069\": 1004, \"sum_Alter80um\": 557}, {\"StichtagDatJahr\": \"2012-01-01T00:00:00\", \"QuarLang18\": \"Albisrieden\", \"QuarSort18\": 91, \"sum_AnzGebMitPers\": 1657, \"sum_Alter6069\": 1820, \"sum_Alter80um\": 1546}, {\"StichtagDatJahr\": \"2012-01-01T00:00:00\", \"QuarLang18\": \"Alt-Wiedikon\", \"QuarSort18\": 31, \"sum_AnzGebMitPers\": 1194, \"sum_Alter6069\": 1108, \"sum_Alter80um\": 637}, {\"StichtagDatJahr\": \"2012-01-01T00:00:00\", \"QuarLang18\": \"Altstetten\", \"QuarSort18\": 92, \"sum_AnzGebMitPers\": 2248, \"sum_Alter6069\": 2750, \"sum_Alter80um\": 1640}, {\"StichtagDatJahr\": \"2012-01-01T00:00:00\", \"QuarLang18\": \"Enge\", \"QuarSort18\": 24, \"sum_AnzGebMitPers\": 880, \"sum_Alter6069\": 754, \"sum_Alter80um\": 493}, {\"StichtagDatJahr\": \"2012-01-01T00:00:00\", \"QuarLang18\": \"Escher Wyss\", \"QuarSort18\": 52, \"sum_AnzGebMitPers\": 241, \"sum_Alter6069\": 194, \"sum_Alter80um\": 48}, {\"StichtagDatJahr\": \"2012-01-01T00:00:00\", \"QuarLang18\": \"Fluntern\", \"QuarSort18\": 71, \"sum_AnzGebMitPers\": 1019, \"sum_Alter6069\": 868, \"sum_Alter80um\": 479}, {\"StichtagDatJahr\": \"2012-01-01T00:00:00\", \"QuarLang18\": \"Affoltern\", \"QuarSort18\": 111, \"sum_AnzGebMitPers\": 1887, \"sum_Alter6069\": 2036, \"sum_Alter80um\": 1095}, {\"StichtagDatJahr\": \"2012-01-01T00:00:00\", \"QuarLang18\": \"Friesenberg\", \"QuarSort18\": 33, \"sum_AnzGebMitPers\": 1479, \"sum_Alter6069\": 876, \"sum_Alter80um\": 649}, {\"StichtagDatJahr\": \"2012-01-01T00:00:00\", \"QuarLang18\": \"Gewerbeschule\", \"QuarSort18\": 51, \"sum_AnzGebMitPers\": 591, \"sum_Alter6069\": 606, \"sum_Alter80um\": 281}, {\"StichtagDatJahr\": \"2012-01-01T00:00:00\", \"QuarLang18\": \"Hard\", \"QuarSort18\": 44, \"sum_AnzGebMitPers\": 643, \"sum_Alter6069\": 969, \"sum_Alter80um\": 550}, {\"StichtagDatJahr\": \"2012-01-01T00:00:00\", \"QuarLang18\": \"Hirslanden\", \"QuarSort18\": 73, \"sum_AnzGebMitPers\": 840, \"sum_Alter6069\": 660, \"sum_Alter80um\": 578}, {\"StichtagDatJahr\": \"2012-01-01T00:00:00\", \"QuarLang18\": \"Hirzenbach\", \"QuarSort18\": 123, \"sum_AnzGebMitPers\": 1041, \"sum_Alter6069\": 886, \"sum_Alter80um\": 781}, {\"StichtagDatJahr\": \"2012-01-01T00:00:00\", \"QuarLang18\": \"H\\u00f6ngg\", \"QuarSort18\": 101, \"sum_AnzGebMitPers\": 2214, \"sum_Alter6069\": 2242, \"sum_Alter80um\": 1510}, {\"StichtagDatJahr\": \"2013-01-01T00:00:00\", \"QuarLang18\": \"Langstrasse\", \"QuarSort18\": 42, \"sum_AnzGebMitPers\": 766, \"sum_Alter6069\": 658, \"sum_Alter80um\": 194}, {\"StichtagDatJahr\": \"2013-01-01T00:00:00\", \"QuarLang18\": \"Leimbach\", \"QuarSort18\": 23, \"sum_AnzGebMitPers\": 676, \"sum_Alter6069\": 506, \"sum_Alter80um\": 414}, {\"StichtagDatJahr\": \"2013-01-01T00:00:00\", \"QuarLang18\": \"Oberstrass\", \"QuarSort18\": 63, \"sum_AnzGebMitPers\": 1194, \"sum_Alter6069\": 965, \"sum_Alter80um\": 573}, {\"StichtagDatJahr\": \"2013-01-01T00:00:00\", \"QuarLang18\": \"Oerlikon\", \"QuarSort18\": 115, \"sum_AnzGebMitPers\": 1841, \"sum_Alter6069\": 1507, \"sum_Alter80um\": 1053}, {\"StichtagDatJahr\": \"2013-01-01T00:00:00\", \"QuarLang18\": \"Saatlen\", \"QuarSort18\": 121, \"sum_AnzGebMitPers\": 1051, \"sum_Alter6069\": 581, \"sum_Alter80um\": 275}, {\"StichtagDatJahr\": \"2013-01-01T00:00:00\", \"QuarLang18\": \"Schwamendingen-Mitte\", \"QuarSort18\": 122, \"sum_AnzGebMitPers\": 838, \"sum_Alter6069\": 954, \"sum_Alter80um\": 682}, {\"StichtagDatJahr\": \"2013-01-01T00:00:00\", \"QuarLang18\": \"Unterstrass\", \"QuarSort18\": 61, \"sum_AnzGebMitPers\": 2134, \"sum_Alter6069\": 1662, \"sum_Alter80um\": 960}, {\"StichtagDatJahr\": \"2013-01-01T00:00:00\", \"QuarLang18\": \"Sihlfeld\", \"QuarSort18\": 34, \"sum_AnzGebMitPers\": 1228, \"sum_Alter6069\": 1416, \"sum_Alter80um\": 972}, {\"StichtagDatJahr\": \"2013-01-01T00:00:00\", \"QuarLang18\": \"Werd\", \"QuarSort18\": 41, \"sum_AnzGebMitPers\": 289, \"sum_Alter6069\": 245, \"sum_Alter80um\": 187}, {\"StichtagDatJahr\": \"2013-01-01T00:00:00\", \"QuarLang18\": \"Wipkingen\", \"QuarSort18\": 102, \"sum_AnzGebMitPers\": 1323, \"sum_Alter6069\": 1116, \"sum_Alter80um\": 854}, {\"StichtagDatJahr\": \"2013-01-01T00:00:00\", \"QuarLang18\": \"Witikon\", \"QuarSort18\": 74, \"sum_AnzGebMitPers\": 1297, \"sum_Alter6069\": 1186, \"sum_Alter80um\": 1021}, {\"StichtagDatJahr\": \"2013-01-01T00:00:00\", \"QuarLang18\": \"Kreis 8\", \"QuarSort18\": 80, \"sum_AnzGebMitPers\": 1644, \"sum_Alter6069\": 1526, \"sum_Alter80um\": 773}, {\"StichtagDatJahr\": \"2013-01-01T00:00:00\", \"QuarLang18\": \"Seebach\", \"QuarSort18\": 119, \"sum_AnzGebMitPers\": 1814, \"sum_Alter6069\": 1833, \"sum_Alter80um\": 1019}, {\"StichtagDatJahr\": \"2013-01-01T00:00:00\", \"QuarLang18\": \"Kreis 1\", \"QuarSort18\": 10, \"sum_AnzGebMitPers\": 889, \"sum_Alter6069\": 684, \"sum_Alter80um\": 269}, {\"StichtagDatJahr\": \"2013-01-01T00:00:00\", \"QuarLang18\": \"Wollishofen\", \"QuarSort18\": 21, \"sum_AnzGebMitPers\": 1776, \"sum_Alter6069\": 1430, \"sum_Alter80um\": 1378}, {\"StichtagDatJahr\": \"2013-01-01T00:00:00\", \"QuarLang18\": \"Hottingen\", \"QuarSort18\": 72, \"sum_AnzGebMitPers\": 1368, \"sum_Alter6069\": 1042, \"sum_Alter80um\": 556}, {\"StichtagDatJahr\": \"2013-01-01T00:00:00\", \"QuarLang18\": \"Affoltern\", \"QuarSort18\": 111, \"sum_AnzGebMitPers\": 1901, \"sum_Alter6069\": 2060, \"sum_Alter80um\": 1125}, {\"StichtagDatJahr\": \"2013-01-01T00:00:00\", \"QuarLang18\": \"Albisrieden\", \"QuarSort18\": 91, \"sum_AnzGebMitPers\": 1659, \"sum_Alter6069\": 1869, \"sum_Alter80um\": 1529}, {\"StichtagDatJahr\": \"2013-01-01T00:00:00\", \"QuarLang18\": \"Alt-Wiedikon\", \"QuarSort18\": 31, \"sum_AnzGebMitPers\": 1208, \"sum_Alter6069\": 1140, \"sum_Alter80um\": 620}, {\"StichtagDatJahr\": \"2013-01-01T00:00:00\", \"QuarLang18\": \"Altstetten\", \"QuarSort18\": 92, \"sum_AnzGebMitPers\": 2243, \"sum_Alter6069\": 2725, \"sum_Alter80um\": 1632}, {\"StichtagDatJahr\": \"2013-01-01T00:00:00\", \"QuarLang18\": \"Enge\", \"QuarSort18\": 24, \"sum_AnzGebMitPers\": 877, \"sum_Alter6069\": 742, \"sum_Alter80um\": 471}, {\"StichtagDatJahr\": \"2013-01-01T00:00:00\", \"QuarLang18\": \"Escher Wyss\", \"QuarSort18\": 52, \"sum_AnzGebMitPers\": 259, \"sum_Alter6069\": 221, \"sum_Alter80um\": 42}, {\"StichtagDatJahr\": \"2013-01-01T00:00:00\", \"QuarLang18\": \"H\\u00f6ngg\", \"QuarSort18\": 101, \"sum_AnzGebMitPers\": 2197, \"sum_Alter6069\": 2228, \"sum_Alter80um\": 1525}, {\"StichtagDatJahr\": \"2013-01-01T00:00:00\", \"QuarLang18\": \"Friesenberg\", \"QuarSort18\": 33, \"sum_AnzGebMitPers\": 1513, \"sum_Alter6069\": 833, \"sum_Alter80um\": 649}, {\"StichtagDatJahr\": \"2013-01-01T00:00:00\", \"QuarLang18\": \"Gewerbeschule\", \"QuarSort18\": 51, \"sum_AnzGebMitPers\": 587, \"sum_Alter6069\": 616, \"sum_Alter80um\": 279}, {\"StichtagDatJahr\": \"2013-01-01T00:00:00\", \"QuarLang18\": \"Hard\", \"QuarSort18\": 44, \"sum_AnzGebMitPers\": 650, \"sum_Alter6069\": 995, \"sum_Alter80um\": 538}, {\"StichtagDatJahr\": \"2013-01-01T00:00:00\", \"QuarLang18\": \"Hirslanden\", \"QuarSort18\": 73, \"sum_AnzGebMitPers\": 847, \"sum_Alter6069\": 676, \"sum_Alter80um\": 580}, {\"StichtagDatJahr\": \"2013-01-01T00:00:00\", \"QuarLang18\": \"Hirzenbach\", \"QuarSort18\": 123, \"sum_AnzGebMitPers\": 954, \"sum_Alter6069\": 913, \"sum_Alter80um\": 756}, {\"StichtagDatJahr\": \"2013-01-01T00:00:00\", \"QuarLang18\": \"Fluntern\", \"QuarSort18\": 71, \"sum_AnzGebMitPers\": 1021, \"sum_Alter6069\": 871, \"sum_Alter80um\": 477}, {\"StichtagDatJahr\": \"2014-01-01T00:00:00\", \"QuarLang18\": \"Langstrasse\", \"QuarSort18\": 42, \"sum_AnzGebMitPers\": 766, \"sum_Alter6069\": 705, \"sum_Alter80um\": 202}, {\"StichtagDatJahr\": \"2014-01-01T00:00:00\", \"QuarLang18\": \"Leimbach\", \"QuarSort18\": 23, \"sum_AnzGebMitPers\": 682, \"sum_Alter6069\": 510, \"sum_Alter80um\": 408}, {\"StichtagDatJahr\": \"2014-01-01T00:00:00\", \"QuarLang18\": \"Oberstrass\", \"QuarSort18\": 63, \"sum_AnzGebMitPers\": 1207, \"sum_Alter6069\": 968, \"sum_Alter80um\": 575}, {\"StichtagDatJahr\": \"2014-01-01T00:00:00\", \"QuarLang18\": \"Oerlikon\", \"QuarSort18\": 115, \"sum_AnzGebMitPers\": 1836, \"sum_Alter6069\": 1518, \"sum_Alter80um\": 1023}, {\"StichtagDatJahr\": \"2014-01-01T00:00:00\", \"QuarLang18\": \"Saatlen\", \"QuarSort18\": 121, \"sum_AnzGebMitPers\": 1053, \"sum_Alter6069\": 586, \"sum_Alter80um\": 275}, {\"StichtagDatJahr\": \"2014-01-01T00:00:00\", \"QuarLang18\": \"Schwamendingen-Mitte\", \"QuarSort18\": 122, \"sum_AnzGebMitPers\": 833, \"sum_Alter6069\": 988, \"sum_Alter80um\": 661}, {\"StichtagDatJahr\": \"2014-01-01T00:00:00\", \"QuarLang18\": \"Unterstrass\", \"QuarSort18\": 61, \"sum_AnzGebMitPers\": 2144, \"sum_Alter6069\": 1617, \"sum_Alter80um\": 937}, {\"StichtagDatJahr\": \"2014-01-01T00:00:00\", \"QuarLang18\": \"Sihlfeld\", \"QuarSort18\": 34, \"sum_AnzGebMitPers\": 1232, \"sum_Alter6069\": 1392, \"sum_Alter80um\": 963}, {\"StichtagDatJahr\": \"2014-01-01T00:00:00\", \"QuarLang18\": \"Werd\", \"QuarSort18\": 41, \"sum_AnzGebMitPers\": 284, \"sum_Alter6069\": 248, \"sum_Alter80um\": 171}, {\"StichtagDatJahr\": \"2014-01-01T00:00:00\", \"QuarLang18\": \"Wipkingen\", \"QuarSort18\": 102, \"sum_AnzGebMitPers\": 1305, \"sum_Alter6069\": 1119, \"sum_Alter80um\": 821}, {\"StichtagDatJahr\": \"2014-01-01T00:00:00\", \"QuarLang18\": \"Witikon\", \"QuarSort18\": 74, \"sum_AnzGebMitPers\": 1303, \"sum_Alter6069\": 1165, \"sum_Alter80um\": 1025}, {\"StichtagDatJahr\": \"2014-01-01T00:00:00\", \"QuarLang18\": \"Kreis 8\", \"QuarSort18\": 80, \"sum_AnzGebMitPers\": 1655, \"sum_Alter6069\": 1548, \"sum_Alter80um\": 765}, {\"StichtagDatJahr\": \"2014-01-01T00:00:00\", \"QuarLang18\": \"Seebach\", \"QuarSort18\": 119, \"sum_AnzGebMitPers\": 1825, \"sum_Alter6069\": 1843, \"sum_Alter80um\": 1052}, {\"StichtagDatJahr\": \"2014-01-01T00:00:00\", \"QuarLang18\": \"Wollishofen\", \"QuarSort18\": 21, \"sum_AnzGebMitPers\": 1769, \"sum_Alter6069\": 1412, \"sum_Alter80um\": 1345}, {\"StichtagDatJahr\": \"2014-01-01T00:00:00\", \"QuarLang18\": \"Kreis 1\", \"QuarSort18\": 10, \"sum_AnzGebMitPers\": 883, \"sum_Alter6069\": 635, \"sum_Alter80um\": 263}, {\"StichtagDatJahr\": \"2014-01-01T00:00:00\", \"QuarLang18\": \"Hottingen\", \"QuarSort18\": 72, \"sum_AnzGebMitPers\": 1370, \"sum_Alter6069\": 1019, \"sum_Alter80um\": 598}, {\"StichtagDatJahr\": \"2014-01-01T00:00:00\", \"QuarLang18\": \"H\\u00f6ngg\", \"QuarSort18\": 101, \"sum_AnzGebMitPers\": 2195, \"sum_Alter6069\": 2229, \"sum_Alter80um\": 1499}, {\"StichtagDatJahr\": \"2014-01-01T00:00:00\", \"QuarLang18\": \"Affoltern\", \"QuarSort18\": 111, \"sum_AnzGebMitPers\": 1905, \"sum_Alter6069\": 2076, \"sum_Alter80um\": 1139}, {\"StichtagDatJahr\": \"2014-01-01T00:00:00\", \"QuarLang18\": \"Albisrieden\", \"QuarSort18\": 91, \"sum_AnzGebMitPers\": 1641, \"sum_Alter6069\": 1863, \"sum_Alter80um\": 1541}, {\"StichtagDatJahr\": \"2014-01-01T00:00:00\", \"QuarLang18\": \"Alt-Wiedikon\", \"QuarSort18\": 31, \"sum_AnzGebMitPers\": 1206, \"sum_Alter6069\": 1157, \"sum_Alter80um\": 612}, {\"StichtagDatJahr\": \"2014-01-01T00:00:00\", \"QuarLang18\": \"Enge\", \"QuarSort18\": 24, \"sum_AnzGebMitPers\": 878, \"sum_Alter6069\": 720, \"sum_Alter80um\": 484}, {\"StichtagDatJahr\": \"2014-01-01T00:00:00\", \"QuarLang18\": \"Escher Wyss\", \"QuarSort18\": 52, \"sum_AnzGebMitPers\": 263, \"sum_Alter6069\": 241, \"sum_Alter80um\": 44}, {\"StichtagDatJahr\": \"2014-01-01T00:00:00\", \"QuarLang18\": \"Altstetten\", \"QuarSort18\": 92, \"sum_AnzGebMitPers\": 2235, \"sum_Alter6069\": 2729, \"sum_Alter80um\": 1643}, {\"StichtagDatJahr\": \"2014-01-01T00:00:00\", \"QuarLang18\": \"Friesenberg\", \"QuarSort18\": 33, \"sum_AnzGebMitPers\": 1498, \"sum_Alter6069\": 858, \"sum_Alter80um\": 654}, {\"StichtagDatJahr\": \"2014-01-01T00:00:00\", \"QuarLang18\": \"Gewerbeschule\", \"QuarSort18\": 51, \"sum_AnzGebMitPers\": 583, \"sum_Alter6069\": 624, \"sum_Alter80um\": 269}, {\"StichtagDatJahr\": \"2014-01-01T00:00:00\", \"QuarLang18\": \"Hard\", \"QuarSort18\": 44, \"sum_AnzGebMitPers\": 642, \"sum_Alter6069\": 987, \"sum_Alter80um\": 499}, {\"StichtagDatJahr\": \"2014-01-01T00:00:00\", \"QuarLang18\": \"Hirslanden\", \"QuarSort18\": 73, \"sum_AnzGebMitPers\": 843, \"sum_Alter6069\": 691, \"sum_Alter80um\": 566}, {\"StichtagDatJahr\": \"2014-01-01T00:00:00\", \"QuarLang18\": \"Hirzenbach\", \"QuarSort18\": 123, \"sum_AnzGebMitPers\": 950, \"sum_Alter6069\": 910, \"sum_Alter80um\": 770}, {\"StichtagDatJahr\": \"2014-01-01T00:00:00\", \"QuarLang18\": \"Fluntern\", \"QuarSort18\": 71, \"sum_AnzGebMitPers\": 1012, \"sum_Alter6069\": 855, \"sum_Alter80um\": 464}, {\"StichtagDatJahr\": \"2015-01-01T00:00:00\", \"QuarLang18\": \"Saatlen\", \"QuarSort18\": 121, \"sum_AnzGebMitPers\": 1038, \"sum_Alter6069\": 615, \"sum_Alter80um\": 273}, {\"StichtagDatJahr\": \"2015-01-01T00:00:00\", \"QuarLang18\": \"Langstrasse\", \"QuarSort18\": 42, \"sum_AnzGebMitPers\": 766, \"sum_Alter6069\": 706, \"sum_Alter80um\": 195}, {\"StichtagDatJahr\": \"2015-01-01T00:00:00\", \"QuarLang18\": \"Leimbach\", \"QuarSort18\": 23, \"sum_AnzGebMitPers\": 681, \"sum_Alter6069\": 503, \"sum_Alter80um\": 361}, {\"StichtagDatJahr\": \"2015-01-01T00:00:00\", \"QuarLang18\": \"Oberstrass\", \"QuarSort18\": 63, \"sum_AnzGebMitPers\": 1205, \"sum_Alter6069\": 936, \"sum_Alter80um\": 581}, {\"StichtagDatJahr\": \"2015-01-01T00:00:00\", \"QuarLang18\": \"Oerlikon\", \"QuarSort18\": 115, \"sum_AnzGebMitPers\": 1834, \"sum_Alter6069\": 1536, \"sum_Alter80um\": 1028}, {\"StichtagDatJahr\": \"2015-01-01T00:00:00\", \"QuarLang18\": \"Schwamendingen-Mitte\", \"QuarSort18\": 122, \"sum_AnzGebMitPers\": 832, \"sum_Alter6069\": 982, \"sum_Alter80um\": 663}, {\"StichtagDatJahr\": \"2015-01-01T00:00:00\", \"QuarLang18\": \"Kreis 8\", \"QuarSort18\": 80, \"sum_AnzGebMitPers\": 1651, \"sum_Alter6069\": 1536, \"sum_Alter80um\": 753}, {\"StichtagDatJahr\": \"2015-01-01T00:00:00\", \"QuarLang18\": \"Sihlfeld\", \"QuarSort18\": 34, \"sum_AnzGebMitPers\": 1231, \"sum_Alter6069\": 1407, \"sum_Alter80um\": 931}, {\"StichtagDatJahr\": \"2015-01-01T00:00:00\", \"QuarLang18\": \"Unterstrass\", \"QuarSort18\": 61, \"sum_AnzGebMitPers\": 2138, \"sum_Alter6069\": 1658, \"sum_Alter80um\": 945}, {\"StichtagDatJahr\": \"2015-01-01T00:00:00\", \"QuarLang18\": \"Werd\", \"QuarSort18\": 41, \"sum_AnzGebMitPers\": 279, \"sum_Alter6069\": 251, \"sum_Alter80um\": 165}, {\"StichtagDatJahr\": \"2015-01-01T00:00:00\", \"QuarLang18\": \"Wipkingen\", \"QuarSort18\": 102, \"sum_AnzGebMitPers\": 1310, \"sum_Alter6069\": 1124, \"sum_Alter80um\": 745}, {\"StichtagDatJahr\": \"2015-01-01T00:00:00\", \"QuarLang18\": \"Witikon\", \"QuarSort18\": 74, \"sum_AnzGebMitPers\": 1310, \"sum_Alter6069\": 1147, \"sum_Alter80um\": 1041}, {\"StichtagDatJahr\": \"2015-01-01T00:00:00\", \"QuarLang18\": \"Seebach\", \"QuarSort18\": 119, \"sum_AnzGebMitPers\": 1830, \"sum_Alter6069\": 1898, \"sum_Alter80um\": 1056}, {\"StichtagDatJahr\": \"2015-01-01T00:00:00\", \"QuarLang18\": \"Kreis 1\", \"QuarSort18\": 10, \"sum_AnzGebMitPers\": 884, \"sum_Alter6069\": 607, \"sum_Alter80um\": 260}, {\"StichtagDatJahr\": \"2015-01-01T00:00:00\", \"QuarLang18\": \"Wollishofen\", \"QuarSort18\": 21, \"sum_AnzGebMitPers\": 1738, \"sum_Alter6069\": 1391, \"sum_Alter80um\": 1304}, {\"StichtagDatJahr\": \"2015-01-01T00:00:00\", \"QuarLang18\": \"Hottingen\", \"QuarSort18\": 72, \"sum_AnzGebMitPers\": 1381, \"sum_Alter6069\": 1049, \"sum_Alter80um\": 602}, {\"StichtagDatJahr\": \"2015-01-01T00:00:00\", \"QuarLang18\": \"Affoltern\", \"QuarSort18\": 111, \"sum_AnzGebMitPers\": 1874, \"sum_Alter6069\": 2082, \"sum_Alter80um\": 1139}, {\"StichtagDatJahr\": \"2015-01-01T00:00:00\", \"QuarLang18\": \"Albisrieden\", \"QuarSort18\": 91, \"sum_AnzGebMitPers\": 1646, \"sum_Alter6069\": 1901, \"sum_Alter80um\": 1515}, {\"StichtagDatJahr\": \"2015-01-01T00:00:00\", \"QuarLang18\": \"Alt-Wiedikon\", \"QuarSort18\": 31, \"sum_AnzGebMitPers\": 1205, \"sum_Alter6069\": 1147, \"sum_Alter80um\": 599}, {\"StichtagDatJahr\": \"2015-01-01T00:00:00\", \"QuarLang18\": \"Altstetten\", \"QuarSort18\": 92, \"sum_AnzGebMitPers\": 2243, \"sum_Alter6069\": 2721, \"sum_Alter80um\": 1684}, {\"StichtagDatJahr\": \"2015-01-01T00:00:00\", \"QuarLang18\": \"Enge\", \"QuarSort18\": 24, \"sum_AnzGebMitPers\": 891, \"sum_Alter6069\": 717, \"sum_Alter80um\": 475}, {\"StichtagDatJahr\": \"2015-01-01T00:00:00\", \"QuarLang18\": \"Escher Wyss\", \"QuarSort18\": 52, \"sum_AnzGebMitPers\": 284, \"sum_Alter6069\": 275, \"sum_Alter80um\": 47}, {\"StichtagDatJahr\": \"2015-01-01T00:00:00\", \"QuarLang18\": \"H\\u00f6ngg\", \"QuarSort18\": 101, \"sum_AnzGebMitPers\": 2198, \"sum_Alter6069\": 2207, \"sum_Alter80um\": 1520}, {\"StichtagDatJahr\": \"2015-01-01T00:00:00\", \"QuarLang18\": \"Friesenberg\", \"QuarSort18\": 33, \"sum_AnzGebMitPers\": 1495, \"sum_Alter6069\": 838, \"sum_Alter80um\": 651}, {\"StichtagDatJahr\": \"2015-01-01T00:00:00\", \"QuarLang18\": \"Gewerbeschule\", \"QuarSort18\": 51, \"sum_AnzGebMitPers\": 578, \"sum_Alter6069\": 644, \"sum_Alter80um\": 265}, {\"StichtagDatJahr\": \"2015-01-01T00:00:00\", \"QuarLang18\": \"Hard\", \"QuarSort18\": 44, \"sum_AnzGebMitPers\": 635, \"sum_Alter6069\": 1031, \"sum_Alter80um\": 469}, {\"StichtagDatJahr\": \"2015-01-01T00:00:00\", \"QuarLang18\": \"Hirslanden\", \"QuarSort18\": 73, \"sum_AnzGebMitPers\": 841, \"sum_Alter6069\": 699, \"sum_Alter80um\": 562}, {\"StichtagDatJahr\": \"2015-01-01T00:00:00\", \"QuarLang18\": \"Hirzenbach\", \"QuarSort18\": 123, \"sum_AnzGebMitPers\": 948, \"sum_Alter6069\": 902, \"sum_Alter80um\": 771}, {\"StichtagDatJahr\": \"2015-01-01T00:00:00\", \"QuarLang18\": \"Fluntern\", \"QuarSort18\": 71, \"sum_AnzGebMitPers\": 1007, \"sum_Alter6069\": 823, \"sum_Alter80um\": 458}, {\"StichtagDatJahr\": \"2016-01-01T00:00:00\", \"QuarLang18\": \"Langstrasse\", \"QuarSort18\": 42, \"sum_AnzGebMitPers\": 775, \"sum_Alter6069\": 731, \"sum_Alter80um\": 197}, {\"StichtagDatJahr\": \"2016-01-01T00:00:00\", \"QuarLang18\": \"Leimbach\", \"QuarSort18\": 23, \"sum_AnzGebMitPers\": 684, \"sum_Alter6069\": 511, \"sum_Alter80um\": 367}, {\"StichtagDatJahr\": \"2016-01-01T00:00:00\", \"QuarLang18\": \"Oberstrass\", \"QuarSort18\": 63, \"sum_AnzGebMitPers\": 1213, \"sum_Alter6069\": 922, \"sum_Alter80um\": 578}, {\"StichtagDatJahr\": \"2016-01-01T00:00:00\", \"QuarLang18\": \"Oerlikon\", \"QuarSort18\": 115, \"sum_AnzGebMitPers\": 1810, \"sum_Alter6069\": 1524, \"sum_Alter80um\": 1014}, {\"StichtagDatJahr\": \"2016-01-01T00:00:00\", \"QuarLang18\": \"Saatlen\", \"QuarSort18\": 121, \"sum_AnzGebMitPers\": 990, \"sum_Alter6069\": 594, \"sum_Alter80um\": 271}, {\"StichtagDatJahr\": \"2016-01-01T00:00:00\", \"QuarLang18\": \"Schwamendingen-Mitte\", \"QuarSort18\": 122, \"sum_AnzGebMitPers\": 812, \"sum_Alter6069\": 957, \"sum_Alter80um\": 652}, {\"StichtagDatJahr\": \"2016-01-01T00:00:00\", \"QuarLang18\": \"Unterstrass\", \"QuarSort18\": 61, \"sum_AnzGebMitPers\": 2122, \"sum_Alter6069\": 1666, \"sum_Alter80um\": 925}, {\"StichtagDatJahr\": \"2016-01-01T00:00:00\", \"QuarLang18\": \"Sihlfeld\", \"QuarSort18\": 34, \"sum_AnzGebMitPers\": 1219, \"sum_Alter6069\": 1454, \"sum_Alter80um\": 898}, {\"StichtagDatJahr\": \"2016-01-01T00:00:00\", \"QuarLang18\": \"Werd\", \"QuarSort18\": 41, \"sum_AnzGebMitPers\": 289, \"sum_Alter6069\": 271, \"sum_Alter80um\": 168}, {\"StichtagDatJahr\": \"2016-01-01T00:00:00\", \"QuarLang18\": \"Wipkingen\", \"QuarSort18\": 102, \"sum_AnzGebMitPers\": 1315, \"sum_Alter6069\": 1177, \"sum_Alter80um\": 723}, {\"StichtagDatJahr\": \"2016-01-01T00:00:00\", \"QuarLang18\": \"Witikon\", \"QuarSort18\": 74, \"sum_AnzGebMitPers\": 1307, \"sum_Alter6069\": 1180, \"sum_Alter80um\": 1090}, {\"StichtagDatJahr\": \"2016-01-01T00:00:00\", \"QuarLang18\": \"Kreis 8\", \"QuarSort18\": 80, \"sum_AnzGebMitPers\": 1635, \"sum_Alter6069\": 1509, \"sum_Alter80um\": 741}, {\"StichtagDatJahr\": \"2016-01-01T00:00:00\", \"QuarLang18\": \"Seebach\", \"QuarSort18\": 119, \"sum_AnzGebMitPers\": 1820, \"sum_Alter6069\": 1921, \"sum_Alter80um\": 1075}, {\"StichtagDatJahr\": \"2016-01-01T00:00:00\", \"QuarLang18\": \"Kreis 1\", \"QuarSort18\": 10, \"sum_AnzGebMitPers\": 871, \"sum_Alter6069\": 619, \"sum_Alter80um\": 260}, {\"StichtagDatJahr\": \"2016-01-01T00:00:00\", \"QuarLang18\": \"Wollishofen\", \"QuarSort18\": 21, \"sum_AnzGebMitPers\": 1743, \"sum_Alter6069\": 1408, \"sum_Alter80um\": 1281}, {\"StichtagDatJahr\": \"2016-01-01T00:00:00\", \"QuarLang18\": \"Hottingen\", \"QuarSort18\": 72, \"sum_AnzGebMitPers\": 1378, \"sum_Alter6069\": 1078, \"sum_Alter80um\": 581}, {\"StichtagDatJahr\": \"2016-01-01T00:00:00\", \"QuarLang18\": \"Affoltern\", \"QuarSort18\": 111, \"sum_AnzGebMitPers\": 1886, \"sum_Alter6069\": 2112, \"sum_Alter80um\": 1173}, {\"StichtagDatJahr\": \"2016-01-01T00:00:00\", \"QuarLang18\": \"Albisrieden\", \"QuarSort18\": 91, \"sum_AnzGebMitPers\": 1692, \"sum_Alter6069\": 1933, \"sum_Alter80um\": 1497}, {\"StichtagDatJahr\": \"2016-01-01T00:00:00\", \"QuarLang18\": \"Alt-Wiedikon\", \"QuarSort18\": 31, \"sum_AnzGebMitPers\": 1206, \"sum_Alter6069\": 1167, \"sum_Alter80um\": 595}, {\"StichtagDatJahr\": \"2016-01-01T00:00:00\", \"QuarLang18\": \"Altstetten\", \"QuarSort18\": 92, \"sum_AnzGebMitPers\": 2215, \"sum_Alter6069\": 2670, \"sum_Alter80um\": 1712}, {\"StichtagDatJahr\": \"2016-01-01T00:00:00\", \"QuarLang18\": \"Enge\", \"QuarSort18\": 24, \"sum_AnzGebMitPers\": 887, \"sum_Alter6069\": 673, \"sum_Alter80um\": 459}, {\"StichtagDatJahr\": \"2016-01-01T00:00:00\", \"QuarLang18\": \"Escher Wyss\", \"QuarSort18\": 52, \"sum_AnzGebMitPers\": 275, \"sum_Alter6069\": 275, \"sum_Alter80um\": 45}, {\"StichtagDatJahr\": \"2016-01-01T00:00:00\", \"QuarLang18\": \"H\\u00f6ngg\", \"QuarSort18\": 101, \"sum_AnzGebMitPers\": 2208, \"sum_Alter6069\": 2176, \"sum_Alter80um\": 1596}, {\"StichtagDatJahr\": \"2016-01-01T00:00:00\", \"QuarLang18\": \"Friesenberg\", \"QuarSort18\": 33, \"sum_AnzGebMitPers\": 1500, \"sum_Alter6069\": 877, \"sum_Alter80um\": 647}, {\"StichtagDatJahr\": \"2016-01-01T00:00:00\", \"QuarLang18\": \"Gewerbeschule\", \"QuarSort18\": 51, \"sum_AnzGebMitPers\": 578, \"sum_Alter6069\": 660, \"sum_Alter80um\": 278}, {\"StichtagDatJahr\": \"2016-01-01T00:00:00\", \"QuarLang18\": \"Hard\", \"QuarSort18\": 44, \"sum_AnzGebMitPers\": 642, \"sum_Alter6069\": 1032, \"sum_Alter80um\": 455}, {\"StichtagDatJahr\": \"2016-01-01T00:00:00\", \"QuarLang18\": \"Hirslanden\", \"QuarSort18\": 73, \"sum_AnzGebMitPers\": 843, \"sum_Alter6069\": 677, \"sum_Alter80um\": 555}, {\"StichtagDatJahr\": \"2016-01-01T00:00:00\", \"QuarLang18\": \"Hirzenbach\", \"QuarSort18\": 123, \"sum_AnzGebMitPers\": 965, \"sum_Alter6069\": 937, \"sum_Alter80um\": 714}, {\"StichtagDatJahr\": \"2016-01-01T00:00:00\", \"QuarLang18\": \"Fluntern\", \"QuarSort18\": 71, \"sum_AnzGebMitPers\": 989, \"sum_Alter6069\": 815, \"sum_Alter80um\": 462}, {\"StichtagDatJahr\": \"2017-01-01T00:00:00\", \"QuarLang18\": \"Langstrasse\", \"QuarSort18\": 42, \"sum_AnzGebMitPers\": 770, \"sum_Alter6069\": 724, \"sum_Alter80um\": 191}, {\"StichtagDatJahr\": \"2017-01-01T00:00:00\", \"QuarLang18\": \"Leimbach\", \"QuarSort18\": 23, \"sum_AnzGebMitPers\": 679, \"sum_Alter6069\": 504, \"sum_Alter80um\": 357}, {\"StichtagDatJahr\": \"2017-01-01T00:00:00\", \"QuarLang18\": \"Oberstrass\", \"QuarSort18\": 63, \"sum_AnzGebMitPers\": 1218, \"sum_Alter6069\": 863, \"sum_Alter80um\": 596}, {\"StichtagDatJahr\": \"2017-01-01T00:00:00\", \"QuarLang18\": \"Oerlikon\", \"QuarSort18\": 115, \"sum_AnzGebMitPers\": 1832, \"sum_Alter6069\": 1521, \"sum_Alter80um\": 1035}, {\"StichtagDatJahr\": \"2017-01-01T00:00:00\", \"QuarLang18\": \"Saatlen\", \"QuarSort18\": 121, \"sum_AnzGebMitPers\": 993, \"sum_Alter6069\": 606, \"sum_Alter80um\": 276}, {\"StichtagDatJahr\": \"2017-01-01T00:00:00\", \"QuarLang18\": \"Schwamendingen-Mitte\", \"QuarSort18\": 122, \"sum_AnzGebMitPers\": 805, \"sum_Alter6069\": 955, \"sum_Alter80um\": 661}, {\"StichtagDatJahr\": \"2017-01-01T00:00:00\", \"QuarLang18\": \"Unterstrass\", \"QuarSort18\": 61, \"sum_AnzGebMitPers\": 2124, \"sum_Alter6069\": 1628, \"sum_Alter80um\": 894}, {\"StichtagDatJahr\": \"2017-01-01T00:00:00\", \"QuarLang18\": \"Sihlfeld\", \"QuarSort18\": 34, \"sum_AnzGebMitPers\": 1216, \"sum_Alter6069\": 1456, \"sum_Alter80um\": 862}, {\"StichtagDatJahr\": \"2017-01-01T00:00:00\", \"QuarLang18\": \"Werd\", \"QuarSort18\": 41, \"sum_AnzGebMitPers\": 285, \"sum_Alter6069\": 272, \"sum_Alter80um\": 156}, {\"StichtagDatJahr\": \"2017-01-01T00:00:00\", \"QuarLang18\": \"Wipkingen\", \"QuarSort18\": 102, \"sum_AnzGebMitPers\": 1325, \"sum_Alter6069\": 1190, \"sum_Alter80um\": 683}, {\"StichtagDatJahr\": \"2017-01-01T00:00:00\", \"QuarLang18\": \"Witikon\", \"QuarSort18\": 74, \"sum_AnzGebMitPers\": 1299, \"sum_Alter6069\": 1136, \"sum_Alter80um\": 1098}, {\"StichtagDatJahr\": \"2017-01-01T00:00:00\", \"QuarLang18\": \"Kreis 8\", \"QuarSort18\": 80, \"sum_AnzGebMitPers\": 1647, \"sum_Alter6069\": 1550, \"sum_Alter80um\": 741}, {\"StichtagDatJahr\": \"2017-01-01T00:00:00\", \"QuarLang18\": \"Seebach\", \"QuarSort18\": 119, \"sum_AnzGebMitPers\": 1824, \"sum_Alter6069\": 1938, \"sum_Alter80um\": 1057}, {\"StichtagDatJahr\": \"2017-01-01T00:00:00\", \"QuarLang18\": \"Wollishofen\", \"QuarSort18\": 21, \"sum_AnzGebMitPers\": 1773, \"sum_Alter6069\": 1431, \"sum_Alter80um\": 1247}, {\"StichtagDatJahr\": \"2017-01-01T00:00:00\", \"QuarLang18\": \"Kreis 1\", \"QuarSort18\": 10, \"sum_AnzGebMitPers\": 875, \"sum_Alter6069\": 611, \"sum_Alter80um\": 263}, {\"StichtagDatJahr\": \"2017-01-01T00:00:00\", \"QuarLang18\": \"Hottingen\", \"QuarSort18\": 72, \"sum_AnzGebMitPers\": 1377, \"sum_Alter6069\": 1086, \"sum_Alter80um\": 571}, {\"StichtagDatJahr\": \"2017-01-01T00:00:00\", \"QuarLang18\": \"H\\u00f6ngg\", \"QuarSort18\": 101, \"sum_AnzGebMitPers\": 2202, \"sum_Alter6069\": 2168, \"sum_Alter80um\": 1596}, {\"StichtagDatJahr\": \"2017-01-01T00:00:00\", \"QuarLang18\": \"Affoltern\", \"QuarSort18\": 111, \"sum_AnzGebMitPers\": 1876, \"sum_Alter6069\": 2108, \"sum_Alter80um\": 1072}, {\"StichtagDatJahr\": \"2017-01-01T00:00:00\", \"QuarLang18\": \"Albisrieden\", \"QuarSort18\": 91, \"sum_AnzGebMitPers\": 1701, \"sum_Alter6069\": 1871, \"sum_Alter80um\": 1479}, {\"StichtagDatJahr\": \"2017-01-01T00:00:00\", \"QuarLang18\": \"Alt-Wiedikon\", \"QuarSort18\": 31, \"sum_AnzGebMitPers\": 1210, \"sum_Alter6069\": 1183, \"sum_Alter80um\": 600}, {\"StichtagDatJahr\": \"2017-01-01T00:00:00\", \"QuarLang18\": \"Enge\", \"QuarSort18\": 24, \"sum_AnzGebMitPers\": 879, \"sum_Alter6069\": 658, \"sum_Alter80um\": 453}, {\"StichtagDatJahr\": \"2017-01-01T00:00:00\", \"QuarLang18\": \"Escher Wyss\", \"QuarSort18\": 52, \"sum_AnzGebMitPers\": 293, \"sum_Alter6069\": 304, \"sum_Alter80um\": 40}, {\"StichtagDatJahr\": \"2017-01-01T00:00:00\", \"QuarLang18\": \"Altstetten\", \"QuarSort18\": 92, \"sum_AnzGebMitPers\": 2219, \"sum_Alter6069\": 2706, \"sum_Alter80um\": 1724}, {\"StichtagDatJahr\": \"2017-01-01T00:00:00\", \"QuarLang18\": \"Friesenberg\", \"QuarSort18\": 33, \"sum_AnzGebMitPers\": 1495, \"sum_Alter6069\": 906, \"sum_Alter80um\": 647}, {\"StichtagDatJahr\": \"2017-01-01T00:00:00\", \"QuarLang18\": \"Gewerbeschule\", \"QuarSort18\": 51, \"sum_AnzGebMitPers\": 580, \"sum_Alter6069\": 661, \"sum_Alter80um\": 271}, {\"StichtagDatJahr\": \"2017-01-01T00:00:00\", \"QuarLang18\": \"Hard\", \"QuarSort18\": 44, \"sum_AnzGebMitPers\": 646, \"sum_Alter6069\": 1049, \"sum_Alter80um\": 445}, {\"StichtagDatJahr\": \"2017-01-01T00:00:00\", \"QuarLang18\": \"Hirslanden\", \"QuarSort18\": 73, \"sum_AnzGebMitPers\": 839, \"sum_Alter6069\": 685, \"sum_Alter80um\": 551}, {\"StichtagDatJahr\": \"2017-01-01T00:00:00\", \"QuarLang18\": \"Hirzenbach\", \"QuarSort18\": 123, \"sum_AnzGebMitPers\": 985, \"sum_Alter6069\": 974, \"sum_Alter80um\": 711}, {\"StichtagDatJahr\": \"2017-01-01T00:00:00\", \"QuarLang18\": \"Fluntern\", \"QuarSort18\": 71, \"sum_AnzGebMitPers\": 994, \"sum_Alter6069\": 830, \"sum_Alter80um\": 478}, {\"StichtagDatJahr\": \"2018-01-01T00:00:00\", \"QuarLang18\": \"Saatlen\", \"QuarSort18\": 121, \"sum_AnzGebMitPers\": 981, \"sum_Alter6069\": 591, \"sum_Alter80um\": 254}, {\"StichtagDatJahr\": \"2018-01-01T00:00:00\", \"QuarLang18\": \"Langstrasse\", \"QuarSort18\": 42, \"sum_AnzGebMitPers\": 765, \"sum_Alter6069\": 705, \"sum_Alter80um\": 185}, {\"StichtagDatJahr\": \"2018-01-01T00:00:00\", \"QuarLang18\": \"Leimbach\", \"QuarSort18\": 23, \"sum_AnzGebMitPers\": 680, \"sum_Alter6069\": 519, \"sum_Alter80um\": 372}, {\"StichtagDatJahr\": \"2018-01-01T00:00:00\", \"QuarLang18\": \"Oberstrass\", \"QuarSort18\": 63, \"sum_AnzGebMitPers\": 1214, \"sum_Alter6069\": 904, \"sum_Alter80um\": 595}, {\"StichtagDatJahr\": \"2018-01-01T00:00:00\", \"QuarLang18\": \"Oerlikon\", \"QuarSort18\": 115, \"sum_AnzGebMitPers\": 1844, \"sum_Alter6069\": 1508, \"sum_Alter80um\": 1014}, {\"StichtagDatJahr\": \"2018-01-01T00:00:00\", \"QuarLang18\": \"Wollishofen\", \"QuarSort18\": 21, \"sum_AnzGebMitPers\": 1792, \"sum_Alter6069\": 1478, \"sum_Alter80um\": 1202}, {\"StichtagDatJahr\": \"2018-01-01T00:00:00\", \"QuarLang18\": \"Kreis 8\", \"QuarSort18\": 80, \"sum_AnzGebMitPers\": 1645, \"sum_Alter6069\": 1557, \"sum_Alter80um\": 750}, {\"StichtagDatJahr\": \"2018-01-01T00:00:00\", \"QuarLang18\": \"Sihlfeld\", \"QuarSort18\": 34, \"sum_AnzGebMitPers\": 1211, \"sum_Alter6069\": 1473, \"sum_Alter80um\": 835}, {\"StichtagDatJahr\": \"2018-01-01T00:00:00\", \"QuarLang18\": \"Unterstrass\", \"QuarSort18\": 61, \"sum_AnzGebMitPers\": 2120, \"sum_Alter6069\": 1691, \"sum_Alter80um\": 905}, {\"StichtagDatJahr\": \"2018-01-01T00:00:00\", \"QuarLang18\": \"Werd\", \"QuarSort18\": 41, \"sum_AnzGebMitPers\": 282, \"sum_Alter6069\": 267, \"sum_Alter80um\": 154}, {\"StichtagDatJahr\": \"2018-01-01T00:00:00\", \"QuarLang18\": \"Wipkingen\", \"QuarSort18\": 102, \"sum_AnzGebMitPers\": 1318, \"sum_Alter6069\": 1210, \"sum_Alter80um\": 667}, {\"StichtagDatJahr\": \"2018-01-01T00:00:00\", \"QuarLang18\": \"Witikon\", \"QuarSort18\": 74, \"sum_AnzGebMitPers\": 1320, \"sum_Alter6069\": 1136, \"sum_Alter80um\": 1108}, {\"StichtagDatJahr\": \"2018-01-01T00:00:00\", \"QuarLang18\": \"Seebach\", \"QuarSort18\": 119, \"sum_AnzGebMitPers\": 1807, \"sum_Alter6069\": 1955, \"sum_Alter80um\": 978}, {\"StichtagDatJahr\": \"2018-01-01T00:00:00\", \"QuarLang18\": \"Kreis 1\", \"QuarSort18\": 10, \"sum_AnzGebMitPers\": 878, \"sum_Alter6069\": 592, \"sum_Alter80um\": 265}, {\"StichtagDatJahr\": \"2018-01-01T00:00:00\", \"QuarLang18\": \"Schwamendingen-Mitte\", \"QuarSort18\": 122, \"sum_AnzGebMitPers\": 805, \"sum_Alter6069\": 972, \"sum_Alter80um\": 633}, {\"StichtagDatJahr\": \"2018-01-01T00:00:00\", \"QuarLang18\": \"Hottingen\", \"QuarSort18\": 72, \"sum_AnzGebMitPers\": 1372, \"sum_Alter6069\": 1093, \"sum_Alter80um\": 562}, {\"StichtagDatJahr\": \"2018-01-01T00:00:00\", \"QuarLang18\": \"Affoltern\", \"QuarSort18\": 111, \"sum_AnzGebMitPers\": 1902, \"sum_Alter6069\": 2152, \"sum_Alter80um\": 1108}, {\"StichtagDatJahr\": \"2018-01-01T00:00:00\", \"QuarLang18\": \"Albisrieden\", \"QuarSort18\": 91, \"sum_AnzGebMitPers\": 1701, \"sum_Alter6069\": 1824, \"sum_Alter80um\": 1425}, {\"StichtagDatJahr\": \"2018-01-01T00:00:00\", \"QuarLang18\": \"Alt-Wiedikon\", \"QuarSort18\": 31, \"sum_AnzGebMitPers\": 1214, \"sum_Alter6069\": 1148, \"sum_Alter80um\": 582}, {\"StichtagDatJahr\": \"2018-01-01T00:00:00\", \"QuarLang18\": \"Altstetten\", \"QuarSort18\": 92, \"sum_AnzGebMitPers\": 2206, \"sum_Alter6069\": 2756, \"sum_Alter80um\": 1717}, {\"StichtagDatJahr\": \"2018-01-01T00:00:00\", \"QuarLang18\": \"Enge\", \"QuarSort18\": 24, \"sum_AnzGebMitPers\": 887, \"sum_Alter6069\": 668, \"sum_Alter80um\": 432}, {\"StichtagDatJahr\": \"2018-01-01T00:00:00\", \"QuarLang18\": \"Escher Wyss\", \"QuarSort18\": 52, \"sum_AnzGebMitPers\": 285, \"sum_Alter6069\": 329, \"sum_Alter80um\": 40}, {\"StichtagDatJahr\": \"2018-01-01T00:00:00\", \"QuarLang18\": \"H\\u00f6ngg\", \"QuarSort18\": 101, \"sum_AnzGebMitPers\": 2212, \"sum_Alter6069\": 2163, \"sum_Alter80um\": 1588}, {\"StichtagDatJahr\": \"2018-01-01T00:00:00\", \"QuarLang18\": \"Friesenberg\", \"QuarSort18\": 33, \"sum_AnzGebMitPers\": 1488, \"sum_Alter6069\": 927, \"sum_Alter80um\": 671}, {\"StichtagDatJahr\": \"2018-01-01T00:00:00\", \"QuarLang18\": \"Gewerbeschule\", \"QuarSort18\": 51, \"sum_AnzGebMitPers\": 578, \"sum_Alter6069\": 671, \"sum_Alter80um\": 262}, {\"StichtagDatJahr\": \"2018-01-01T00:00:00\", \"QuarLang18\": \"Hard\", \"QuarSort18\": 44, \"sum_AnzGebMitPers\": 646, \"sum_Alter6069\": 1024, \"sum_Alter80um\": 429}, {\"StichtagDatJahr\": \"2018-01-01T00:00:00\", \"QuarLang18\": \"Hirslanden\", \"QuarSort18\": 73, \"sum_AnzGebMitPers\": 843, \"sum_Alter6069\": 697, \"sum_Alter80um\": 533}, {\"StichtagDatJahr\": \"2018-01-01T00:00:00\", \"QuarLang18\": \"Hirzenbach\", \"QuarSort18\": 123, \"sum_AnzGebMitPers\": 995, \"sum_Alter6069\": 993, \"sum_Alter80um\": 719}, {\"StichtagDatJahr\": \"2018-01-01T00:00:00\", \"QuarLang18\": \"Fluntern\", \"QuarSort18\": 71, \"sum_AnzGebMitPers\": 1003, \"sum_Alter6069\": 838, \"sum_Alter80um\": 471}, {\"StichtagDatJahr\": \"2019-01-01T00:00:00\", \"QuarLang18\": \"Leimbach\", \"QuarSort18\": 23, \"sum_AnzGebMitPers\": 661, \"sum_Alter6069\": 517, \"sum_Alter80um\": 346}, {\"StichtagDatJahr\": \"2019-01-01T00:00:00\", \"QuarLang18\": \"Oberstrass\", \"QuarSort18\": 63, \"sum_AnzGebMitPers\": 1213, \"sum_Alter6069\": 880, \"sum_Alter80um\": 560}, {\"StichtagDatJahr\": \"2019-01-01T00:00:00\", \"QuarLang18\": \"Oerlikon\", \"QuarSort18\": 115, \"sum_AnzGebMitPers\": 1840, \"sum_Alter6069\": 1536, \"sum_Alter80um\": 999}, {\"StichtagDatJahr\": \"2019-01-01T00:00:00\", \"QuarLang18\": \"Saatlen\", \"QuarSort18\": 121, \"sum_AnzGebMitPers\": 1008, \"sum_Alter6069\": 623, \"sum_Alter80um\": 266}, {\"StichtagDatJahr\": \"2019-01-01T00:00:00\", \"QuarLang18\": \"Schwamendingen-Mitte\", \"QuarSort18\": 122, \"sum_AnzGebMitPers\": 807, \"sum_Alter6069\": 1002, \"sum_Alter80um\": 612}, {\"StichtagDatJahr\": \"2019-01-01T00:00:00\", \"QuarLang18\": \"Seebach\", \"QuarSort18\": 119, \"sum_AnzGebMitPers\": 1806, \"sum_Alter6069\": 1996, \"sum_Alter80um\": 1015}, {\"StichtagDatJahr\": \"2019-01-01T00:00:00\", \"QuarLang18\": \"Werd\", \"QuarSort18\": 41, \"sum_AnzGebMitPers\": 284, \"sum_Alter6069\": 263, \"sum_Alter80um\": 144}, {\"StichtagDatJahr\": \"2019-01-01T00:00:00\", \"QuarLang18\": \"Unterstrass\", \"QuarSort18\": 61, \"sum_AnzGebMitPers\": 2118, \"sum_Alter6069\": 1737, \"sum_Alter80um\": 874}, {\"StichtagDatJahr\": \"2019-01-01T00:00:00\", \"QuarLang18\": \"Wipkingen\", \"QuarSort18\": 102, \"sum_AnzGebMitPers\": 1320, \"sum_Alter6069\": 1211, \"sum_Alter80um\": 727}, {\"StichtagDatJahr\": \"2019-01-01T00:00:00\", \"QuarLang18\": \"Witikon\", \"QuarSort18\": 74, \"sum_AnzGebMitPers\": 1309, \"sum_Alter6069\": 1162, \"sum_Alter80um\": 1095}, {\"StichtagDatJahr\": \"2019-01-01T00:00:00\", \"QuarLang18\": \"Wollishofen\", \"QuarSort18\": 21, \"sum_AnzGebMitPers\": 1794, \"sum_Alter6069\": 1516, \"sum_Alter80um\": 1202}, {\"StichtagDatJahr\": \"2019-01-01T00:00:00\", \"QuarLang18\": \"Langstrasse\", \"QuarSort18\": 42, \"sum_AnzGebMitPers\": 780, \"sum_Alter6069\": 746, \"sum_Alter80um\": 161}, {\"StichtagDatJahr\": \"2019-01-01T00:00:00\", \"QuarLang18\": \"Sihlfeld\", \"QuarSort18\": 34, \"sum_AnzGebMitPers\": 1221, \"sum_Alter6069\": 1551, \"sum_Alter80um\": 857}, {\"StichtagDatJahr\": \"2019-01-01T00:00:00\", \"QuarLang18\": \"Kreis 8\", \"QuarSort18\": 80, \"sum_AnzGebMitPers\": 1657, \"sum_Alter6069\": 1556, \"sum_Alter80um\": 786}, {\"StichtagDatJahr\": \"2019-01-01T00:00:00\", \"QuarLang18\": \"Kreis 1\", \"QuarSort18\": 10, \"sum_AnzGebMitPers\": 887, \"sum_Alter6069\": 603, \"sum_Alter80um\": 268}, {\"StichtagDatJahr\": \"2019-01-01T00:00:00\", \"QuarLang18\": \"H\\u00f6ngg\", \"QuarSort18\": 101, \"sum_AnzGebMitPers\": 2212, \"sum_Alter6069\": 2202, \"sum_Alter80um\": 1635}, {\"StichtagDatJahr\": \"2019-01-01T00:00:00\", \"QuarLang18\": \"Albisrieden\", \"QuarSort18\": 91, \"sum_AnzGebMitPers\": 1690, \"sum_Alter6069\": 1828, \"sum_Alter80um\": 1328}, {\"StichtagDatJahr\": \"2019-01-01T00:00:00\", \"QuarLang18\": \"Alt-Wiedikon\", \"QuarSort18\": 31, \"sum_AnzGebMitPers\": 1214, \"sum_Alter6069\": 1149, \"sum_Alter80um\": 559}, {\"StichtagDatJahr\": \"2019-01-01T00:00:00\", \"QuarLang18\": \"Altstetten\", \"QuarSort18\": 92, \"sum_AnzGebMitPers\": 2213, \"sum_Alter6069\": 2720, \"sum_Alter80um\": 1707}, {\"StichtagDatJahr\": \"2019-01-01T00:00:00\", \"QuarLang18\": \"Enge\", \"QuarSort18\": 24, \"sum_AnzGebMitPers\": 890, \"sum_Alter6069\": 632, \"sum_Alter80um\": 419}, {\"StichtagDatJahr\": \"2019-01-01T00:00:00\", \"QuarLang18\": \"Escher Wyss\", \"QuarSort18\": 52, \"sum_AnzGebMitPers\": 283, \"sum_Alter6069\": 327, \"sum_Alter80um\": 48}, {\"StichtagDatJahr\": \"2019-01-01T00:00:00\", \"QuarLang18\": \"Fluntern\", \"QuarSort18\": 71, \"sum_AnzGebMitPers\": 1007, \"sum_Alter6069\": 846, \"sum_Alter80um\": 501}, {\"StichtagDatJahr\": \"2019-01-01T00:00:00\", \"QuarLang18\": \"Affoltern\", \"QuarSort18\": 111, \"sum_AnzGebMitPers\": 1900, \"sum_Alter6069\": 2169, \"sum_Alter80um\": 1123}, {\"StichtagDatJahr\": \"2019-01-01T00:00:00\", \"QuarLang18\": \"Gewerbeschule\", \"QuarSort18\": 51, \"sum_AnzGebMitPers\": 582, \"sum_Alter6069\": 684, \"sum_Alter80um\": 247}, {\"StichtagDatJahr\": \"2019-01-01T00:00:00\", \"QuarLang18\": \"Hard\", \"QuarSort18\": 44, \"sum_AnzGebMitPers\": 643, \"sum_Alter6069\": 995, \"sum_Alter80um\": 415}, {\"StichtagDatJahr\": \"2019-01-01T00:00:00\", \"QuarLang18\": \"Hirslanden\", \"QuarSort18\": 73, \"sum_AnzGebMitPers\": 844, \"sum_Alter6069\": 680, \"sum_Alter80um\": 516}, {\"StichtagDatJahr\": \"2019-01-01T00:00:00\", \"QuarLang18\": \"Hirzenbach\", \"QuarSort18\": 123, \"sum_AnzGebMitPers\": 992, \"sum_Alter6069\": 1033, \"sum_Alter80um\": 698}, {\"StichtagDatJahr\": \"2019-01-01T00:00:00\", \"QuarLang18\": \"Hottingen\", \"QuarSort18\": 72, \"sum_AnzGebMitPers\": 1364, \"sum_Alter6069\": 1096, \"sum_Alter80um\": 567}, {\"StichtagDatJahr\": \"2019-01-01T00:00:00\", \"QuarLang18\": \"Friesenberg\", \"QuarSort18\": 33, \"sum_AnzGebMitPers\": 1490, \"sum_Alter6069\": 961, \"sum_Alter80um\": 677}, {\"StichtagDatJahr\": \"2020-01-01T00:00:00\", \"QuarLang18\": \"Leimbach\", \"QuarSort18\": 23, \"sum_AnzGebMitPers\": 666, \"sum_Alter6069\": 516, \"sum_Alter80um\": 329}, {\"StichtagDatJahr\": \"2020-01-01T00:00:00\", \"QuarLang18\": \"Oberstrass\", \"QuarSort18\": 63, \"sum_AnzGebMitPers\": 1212, \"sum_Alter6069\": 896, \"sum_Alter80um\": 538}, {\"StichtagDatJahr\": \"2020-01-01T00:00:00\", \"QuarLang18\": \"Oerlikon\", \"QuarSort18\": 115, \"sum_AnzGebMitPers\": 1834, \"sum_Alter6069\": 1572, \"sum_Alter80um\": 956}, {\"StichtagDatJahr\": \"2020-01-01T00:00:00\", \"QuarLang18\": \"Saatlen\", \"QuarSort18\": 121, \"sum_AnzGebMitPers\": 995, \"sum_Alter6069\": 628, \"sum_Alter80um\": 258}, {\"StichtagDatJahr\": \"2020-01-01T00:00:00\", \"QuarLang18\": \"Wollishofen\", \"QuarSort18\": 21, \"sum_AnzGebMitPers\": 1807, \"sum_Alter6069\": 1572, \"sum_Alter80um\": 1158}, {\"StichtagDatJahr\": \"2020-01-01T00:00:00\", \"QuarLang18\": \"Schwamendingen-Mitte\", \"QuarSort18\": 122, \"sum_AnzGebMitPers\": 790, \"sum_Alter6069\": 1018, \"sum_Alter80um\": 588}, {\"StichtagDatJahr\": \"2020-01-01T00:00:00\", \"QuarLang18\": \"Unterstrass\", \"QuarSort18\": 61, \"sum_AnzGebMitPers\": 2113, \"sum_Alter6069\": 1756, \"sum_Alter80um\": 850}, {\"StichtagDatJahr\": \"2020-01-01T00:00:00\", \"QuarLang18\": \"Sihlfeld\", \"QuarSort18\": 34, \"sum_AnzGebMitPers\": 1224, \"sum_Alter6069\": 1547, \"sum_Alter80um\": 797}, {\"StichtagDatJahr\": \"2020-01-01T00:00:00\", \"QuarLang18\": \"Werd\", \"QuarSort18\": 41, \"sum_AnzGebMitPers\": 287, \"sum_Alter6069\": 271, \"sum_Alter80um\": 128}, {\"StichtagDatJahr\": \"2020-01-01T00:00:00\", \"QuarLang18\": \"Wipkingen\", \"QuarSort18\": 102, \"sum_AnzGebMitPers\": 1330, \"sum_Alter6069\": 1261, \"sum_Alter80um\": 702}, {\"StichtagDatJahr\": \"2020-01-01T00:00:00\", \"QuarLang18\": \"Witikon\", \"QuarSort18\": 74, \"sum_AnzGebMitPers\": 1314, \"sum_Alter6069\": 1129, \"sum_Alter80um\": 1095}, {\"StichtagDatJahr\": \"2020-01-01T00:00:00\", \"QuarLang18\": \"Langstrasse\", \"QuarSort18\": 42, \"sum_AnzGebMitPers\": 785, \"sum_Alter6069\": 755, \"sum_Alter80um\": 158}, {\"StichtagDatJahr\": \"2020-01-01T00:00:00\", \"QuarLang18\": \"Seebach\", \"QuarSort18\": 119, \"sum_AnzGebMitPers\": 1816, \"sum_Alter6069\": 2005, \"sum_Alter80um\": 1015}, {\"StichtagDatJahr\": \"2020-01-01T00:00:00\", \"QuarLang18\": \"Kreis 8\", \"QuarSort18\": 80, \"sum_AnzGebMitPers\": 1668, \"sum_Alter6069\": 1584, \"sum_Alter80um\": 774}, {\"StichtagDatJahr\": \"2020-01-01T00:00:00\", \"QuarLang18\": \"Friesenberg\", \"QuarSort18\": 33, \"sum_AnzGebMitPers\": 1494, \"sum_Alter6069\": 988, \"sum_Alter80um\": 658}, {\"StichtagDatJahr\": \"2020-01-01T00:00:00\", \"QuarLang18\": \"H\\u00f6ngg\", \"QuarSort18\": 101, \"sum_AnzGebMitPers\": 2217, \"sum_Alter6069\": 2203, \"sum_Alter80um\": 1580}, {\"StichtagDatJahr\": \"2020-01-01T00:00:00\", \"QuarLang18\": \"Kreis 1\", \"QuarSort18\": 10, \"sum_AnzGebMitPers\": 897, \"sum_Alter6069\": 623, \"sum_Alter80um\": 274}, {\"StichtagDatJahr\": \"2020-01-01T00:00:00\", \"QuarLang18\": \"Affoltern\", \"QuarSort18\": 111, \"sum_AnzGebMitPers\": 1882, \"sum_Alter6069\": 2180, \"sum_Alter80um\": 1191}, {\"StichtagDatJahr\": \"2020-01-01T00:00:00\", \"QuarLang18\": \"Albisrieden\", \"QuarSort18\": 91, \"sum_AnzGebMitPers\": 1687, \"sum_Alter6069\": 1840, \"sum_Alter80um\": 1328}, {\"StichtagDatJahr\": \"2020-01-01T00:00:00\", \"QuarLang18\": \"Alt-Wiedikon\", \"QuarSort18\": 31, \"sum_AnzGebMitPers\": 1207, \"sum_Alter6069\": 1181, \"sum_Alter80um\": 548}, {\"StichtagDatJahr\": \"2020-01-01T00:00:00\", \"QuarLang18\": \"Enge\", \"QuarSort18\": 24, \"sum_AnzGebMitPers\": 891, \"sum_Alter6069\": 608, \"sum_Alter80um\": 419}, {\"StichtagDatJahr\": \"2020-01-01T00:00:00\", \"QuarLang18\": \"Escher Wyss\", \"QuarSort18\": 52, \"sum_AnzGebMitPers\": 285, \"sum_Alter6069\": 356, \"sum_Alter80um\": 55}, {\"StichtagDatJahr\": \"2020-01-01T00:00:00\", \"QuarLang18\": \"Altstetten\", \"QuarSort18\": 92, \"sum_AnzGebMitPers\": 2208, \"sum_Alter6069\": 2737, \"sum_Alter80um\": 1666}, {\"StichtagDatJahr\": \"2020-01-01T00:00:00\", \"QuarLang18\": \"Gewerbeschule\", \"QuarSort18\": 51, \"sum_AnzGebMitPers\": 585, \"sum_Alter6069\": 690, \"sum_Alter80um\": 223}, {\"StichtagDatJahr\": \"2020-01-01T00:00:00\", \"QuarLang18\": \"Hard\", \"QuarSort18\": 44, \"sum_AnzGebMitPers\": 623, \"sum_Alter6069\": 974, \"sum_Alter80um\": 376}, {\"StichtagDatJahr\": \"2020-01-01T00:00:00\", \"QuarLang18\": \"Hirslanden\", \"QuarSort18\": 73, \"sum_AnzGebMitPers\": 840, \"sum_Alter6069\": 677, \"sum_Alter80um\": 509}, {\"StichtagDatJahr\": \"2020-01-01T00:00:00\", \"QuarLang18\": \"Hirzenbach\", \"QuarSort18\": 123, \"sum_AnzGebMitPers\": 981, \"sum_Alter6069\": 1075, \"sum_Alter80um\": 678}, {\"StichtagDatJahr\": \"2020-01-01T00:00:00\", \"QuarLang18\": \"Hottingen\", \"QuarSort18\": 72, \"sum_AnzGebMitPers\": 1367, \"sum_Alter6069\": 1058, \"sum_Alter80um\": 560}, {\"StichtagDatJahr\": \"2020-01-01T00:00:00\", \"QuarLang18\": \"Fluntern\", \"QuarSort18\": 71, \"sum_AnzGebMitPers\": 1004, \"sum_Alter6069\": 849, \"sum_Alter80um\": 529}, {\"StichtagDatJahr\": \"2021-01-01T00:00:00\", \"QuarLang18\": \"Oerlikon\", \"QuarSort18\": 115, \"sum_AnzGebMitPers\": 1840, \"sum_Alter6069\": 1602, \"sum_Alter80um\": 972}, {\"StichtagDatJahr\": \"2021-01-01T00:00:00\", \"QuarLang18\": \"Langstrasse\", \"QuarSort18\": 42, \"sum_AnzGebMitPers\": 785, \"sum_Alter6069\": 786, \"sum_Alter80um\": 151}, {\"StichtagDatJahr\": \"2021-01-01T00:00:00\", \"QuarLang18\": \"Leimbach\", \"QuarSort18\": 23, \"sum_AnzGebMitPers\": 668, \"sum_Alter6069\": 516, \"sum_Alter80um\": 337}, {\"StichtagDatJahr\": \"2021-01-01T00:00:00\", \"QuarLang18\": \"Oberstrass\", \"QuarSort18\": 63, \"sum_AnzGebMitPers\": 1212, \"sum_Alter6069\": 907, \"sum_Alter80um\": 518}, {\"StichtagDatJahr\": \"2021-01-01T00:00:00\", \"QuarLang18\": \"Saatlen\", \"QuarSort18\": 121, \"sum_AnzGebMitPers\": 993, \"sum_Alter6069\": 628, \"sum_Alter80um\": 241}, {\"StichtagDatJahr\": \"2021-01-01T00:00:00\", \"QuarLang18\": \"Wipkingen\", \"QuarSort18\": 102, \"sum_AnzGebMitPers\": 1323, \"sum_Alter6069\": 1260, \"sum_Alter80um\": 715}, {\"StichtagDatJahr\": \"2021-01-01T00:00:00\", \"QuarLang18\": \"Seebach\", \"QuarSort18\": 119, \"sum_AnzGebMitPers\": 1786, \"sum_Alter6069\": 2102, \"sum_Alter80um\": 1023}, {\"StichtagDatJahr\": \"2021-01-01T00:00:00\", \"QuarLang18\": \"Sihlfeld\", \"QuarSort18\": 34, \"sum_AnzGebMitPers\": 1210, \"sum_Alter6069\": 1509, \"sum_Alter80um\": 813}, {\"StichtagDatJahr\": \"2021-01-01T00:00:00\", \"QuarLang18\": \"Unterstrass\", \"QuarSort18\": 61, \"sum_AnzGebMitPers\": 2115, \"sum_Alter6069\": 1782, \"sum_Alter80um\": 836}, {\"StichtagDatJahr\": \"2021-01-01T00:00:00\", \"QuarLang18\": \"Werd\", \"QuarSort18\": 41, \"sum_AnzGebMitPers\": 289, \"sum_Alter6069\": 301, \"sum_Alter80um\": 115}, {\"StichtagDatJahr\": \"2021-01-01T00:00:00\", \"QuarLang18\": \"Kreis 8\", \"QuarSort18\": 80, \"sum_AnzGebMitPers\": 1673, \"sum_Alter6069\": 1620, \"sum_Alter80um\": 778}, {\"StichtagDatJahr\": \"2021-01-01T00:00:00\", \"QuarLang18\": \"Schwamendingen-Mitte\", \"QuarSort18\": 122, \"sum_AnzGebMitPers\": 779, \"sum_Alter6069\": 1000, \"sum_Alter80um\": 566}, {\"StichtagDatJahr\": \"2021-01-01T00:00:00\", \"QuarLang18\": \"Kreis 1\", \"QuarSort18\": 10, \"sum_AnzGebMitPers\": 900, \"sum_Alter6069\": 613, \"sum_Alter80um\": 278}, {\"StichtagDatJahr\": \"2021-01-01T00:00:00\", \"QuarLang18\": \"Friesenberg\", \"QuarSort18\": 33, \"sum_AnzGebMitPers\": 1493, \"sum_Alter6069\": 979, \"sum_Alter80um\": 644}, {\"StichtagDatJahr\": \"2021-01-01T00:00:00\", \"QuarLang18\": \"Hottingen\", \"QuarSort18\": 72, \"sum_AnzGebMitPers\": 1365, \"sum_Alter6069\": 1086, \"sum_Alter80um\": 607}, {\"StichtagDatJahr\": \"2021-01-01T00:00:00\", \"QuarLang18\": \"Hirzenbach\", \"QuarSort18\": 123, \"sum_AnzGebMitPers\": 961, \"sum_Alter6069\": 1086, \"sum_Alter80um\": 673}, {\"StichtagDatJahr\": \"2021-01-01T00:00:00\", \"QuarLang18\": \"Hirslanden\", \"QuarSort18\": 73, \"sum_AnzGebMitPers\": 840, \"sum_Alter6069\": 685, \"sum_Alter80um\": 522}, {\"StichtagDatJahr\": \"2021-01-01T00:00:00\", \"QuarLang18\": \"Hard\", \"QuarSort18\": 44, \"sum_AnzGebMitPers\": 626, \"sum_Alter6069\": 966, \"sum_Alter80um\": 364}, {\"StichtagDatJahr\": \"2021-01-01T00:00:00\", \"QuarLang18\": \"Gewerbeschule\", \"QuarSort18\": 51, \"sum_AnzGebMitPers\": 576, \"sum_Alter6069\": 718, \"sum_Alter80um\": 224}, {\"StichtagDatJahr\": \"2021-01-01T00:00:00\", \"QuarLang18\": \"Fluntern\", \"QuarSort18\": 71, \"sum_AnzGebMitPers\": 1016, \"sum_Alter6069\": 835, \"sum_Alter80um\": 569}, {\"StichtagDatJahr\": \"2021-01-01T00:00:00\", \"QuarLang18\": \"Escher Wyss\", \"QuarSort18\": 52, \"sum_AnzGebMitPers\": 286, \"sum_Alter6069\": 368, \"sum_Alter80um\": 61}, {\"StichtagDatJahr\": \"2021-01-01T00:00:00\", \"QuarLang18\": \"Enge\", \"QuarSort18\": 24, \"sum_AnzGebMitPers\": 876, \"sum_Alter6069\": 622, \"sum_Alter80um\": 442}, {\"StichtagDatJahr\": \"2021-01-01T00:00:00\", \"QuarLang18\": \"Altstetten\", \"QuarSort18\": 92, \"sum_AnzGebMitPers\": 2203, \"sum_Alter6069\": 2806, \"sum_Alter80um\": 1664}, {\"StichtagDatJahr\": \"2021-01-01T00:00:00\", \"QuarLang18\": \"Alt-Wiedikon\", \"QuarSort18\": 31, \"sum_AnzGebMitPers\": 1203, \"sum_Alter6069\": 1187, \"sum_Alter80um\": 554}, {\"StichtagDatJahr\": \"2021-01-01T00:00:00\", \"QuarLang18\": \"Albisrieden\", \"QuarSort18\": 91, \"sum_AnzGebMitPers\": 1685, \"sum_Alter6069\": 1836, \"sum_Alter80um\": 1339}, {\"StichtagDatJahr\": \"2021-01-01T00:00:00\", \"QuarLang18\": \"Affoltern\", \"QuarSort18\": 111, \"sum_AnzGebMitPers\": 1873, \"sum_Alter6069\": 2186, \"sum_Alter80um\": 1164}, {\"StichtagDatJahr\": \"2021-01-01T00:00:00\", \"QuarLang18\": \"Witikon\", \"QuarSort18\": 74, \"sum_AnzGebMitPers\": 1319, \"sum_Alter6069\": 1119, \"sum_Alter80um\": 1102}, {\"StichtagDatJahr\": \"2021-01-01T00:00:00\", \"QuarLang18\": \"H\\u00f6ngg\", \"QuarSort18\": 101, \"sum_AnzGebMitPers\": 2217, \"sum_Alter6069\": 2219, \"sum_Alter80um\": 1625}, {\"StichtagDatJahr\": \"2021-01-01T00:00:00\", \"QuarLang18\": \"Wollishofen\", \"QuarSort18\": 21, \"sum_AnzGebMitPers\": 1812, \"sum_Alter6069\": 1597, \"sum_Alter80um\": 1095}]}}, {\"mode\": \"vega-lite\"});\n",
       "</script>"
      ],
      "text/plain": [
       "alt.LayerChart(...)"
      ]
     },
     "execution_count": 110,
     "metadata": {},
     "output_type": "execute_result"
    }
   ],
   "source": [
    "myTitle=\"Titel\"\n",
    "\n",
    "highlight = alt.selection(type='single', on='mouseover',\n",
    "                          fields=['QuarLang18'], nearest=True)\n",
    "#x='date:StichtagDatJahr',\n",
    "base = alt.Chart(myAgg.reset_index().query('sum_Alter6069 > 1'), title=myTitle).encode(\n",
    "    x=alt.X('StichtagDatJahr', axis=alt.Axis(title='Jahr'))# , axis=alt.Axis(format='%', title='percentage')\n",
    "    , y=alt.X('sum_Alter6069', axis=alt.Axis(title='Anz. Projektierte Gebäude'))\n",
    "    , color=alt.Color('QuarLang18', legend=alt.Legend(title=\"Projektstatus\", orient=\"right\"))  \n",
    "    ,tooltip=['StichtagDatJahr', 'QuarLang18','QuarSort18', 'sum_AnzGebMitPers','sum_Alter6069','sum_Alter80um']    \n",
    ")\n",
    "points = base.mark_circle().encode(\n",
    "    opacity=alt.value(0.75)\n",
    ").add_selection(\n",
    "    highlight\n",
    ").properties(\n",
    "    width=750 , height=350\n",
    ")\n",
    "lines = base.mark_line().encode(\n",
    "    size=alt.condition(~highlight, alt.value(0.5), alt.value(4))\n",
    ").interactive()\n",
    "\n",
    "lines + points"
   ]
  },
  {
   "cell_type": "markdown",
   "metadata": {
    "tags": []
   },
   "source": [
    "#### Barcharts mit Seaborn"
   ]
  },
  {
   "cell_type": "code",
   "execution_count": 112,
   "metadata": {},
   "outputs": [
    {
     "data": {
      "text/plain": [
       "Index(['QuarSort18', 'QuarLang18', 'KreisSort', 'KreisLang', 'EigGruSort', 'EigGruLang',\n",
       "       'AnzGebMitPers', 'PersTotal', 'Alter0009', 'Alter1019', 'Alter2029', 'Alter3039',\n",
       "       'Alter4049', 'Alter5059', 'Alter6069', 'Alter7079', 'Alter80um', 'StichtagDatJahr_str'],\n",
       "      dtype='object')"
      ]
     },
     "execution_count": 112,
     "metadata": {},
     "output_type": "execute_result"
    }
   ],
   "source": [
    "data2betested.columns"
   ]
  },
  {
   "cell_type": "code",
   "execution_count": 127,
   "metadata": {},
   "outputs": [
    {
     "data": {
      "text/html": [
       "<div>\n",
       "<style scoped>\n",
       "    .dataframe tbody tr th:only-of-type {\n",
       "        vertical-align: middle;\n",
       "    }\n",
       "\n",
       "    .dataframe tbody tr th {\n",
       "        vertical-align: top;\n",
       "    }\n",
       "\n",
       "    .dataframe thead th {\n",
       "        text-align: right;\n",
       "    }\n",
       "</style>\n",
       "<table border=\"1\" class=\"dataframe\">\n",
       "  <thead>\n",
       "    <tr style=\"text-align: right;\">\n",
       "      <th></th>\n",
       "      <th>StichtagDatJahr</th>\n",
       "      <th>StichtagDatJahr_str</th>\n",
       "      <th>KreisLang</th>\n",
       "      <th>KreisSort</th>\n",
       "      <th>sum_AnzGebMitPers</th>\n",
       "      <th>sum_Alter6069</th>\n",
       "      <th>sum_Alter80um</th>\n",
       "      <th>sum_Alter0009</th>\n",
       "      <th>sum_Alter1019</th>\n",
       "    </tr>\n",
       "  </thead>\n",
       "  <tbody>\n",
       "    <tr>\n",
       "      <th>0</th>\n",
       "      <td>2014-01-01</td>\n",
       "      <td>2014-01-01</td>\n",
       "      <td>Kreis 1</td>\n",
       "      <td>1</td>\n",
       "      <td>883</td>\n",
       "      <td>635</td>\n",
       "      <td>263</td>\n",
       "      <td>276</td>\n",
       "      <td>254</td>\n",
       "    </tr>\n",
       "    <tr>\n",
       "      <th>1</th>\n",
       "      <td>2014-01-01</td>\n",
       "      <td>2014-01-01</td>\n",
       "      <td>Kreis 9</td>\n",
       "      <td>9</td>\n",
       "      <td>3876</td>\n",
       "      <td>4592</td>\n",
       "      <td>3184</td>\n",
       "      <td>4757</td>\n",
       "      <td>3326</td>\n",
       "    </tr>\n",
       "    <tr>\n",
       "      <th>2</th>\n",
       "      <td>2014-01-01</td>\n",
       "      <td>2014-01-01</td>\n",
       "      <td>Kreis 8</td>\n",
       "      <td>8</td>\n",
       "      <td>1655</td>\n",
       "      <td>1548</td>\n",
       "      <td>765</td>\n",
       "      <td>1197</td>\n",
       "      <td>920</td>\n",
       "    </tr>\n",
       "  </tbody>\n",
       "</table>\n",
       "</div>"
      ],
      "text/plain": [
       "  StichtagDatJahr StichtagDatJahr_str KreisLang  KreisSort  sum_AnzGebMitPers  sum_Alter6069  \\\n",
       "0      2014-01-01          2014-01-01   Kreis 1          1                883            635   \n",
       "1      2014-01-01          2014-01-01   Kreis 9          9               3876           4592   \n",
       "2      2014-01-01          2014-01-01   Kreis 8          8               1655           1548   \n",
       "\n",
       "   sum_Alter80um  sum_Alter0009  sum_Alter1019  \n",
       "0            263            276            254  \n",
       "1           3184           4757           3326  \n",
       "2            765           1197            920  "
      ]
     },
     "execution_count": 127,
     "metadata": {},
     "output_type": "execute_result"
    }
   ],
   "source": [
    "#myAgg = data2betested.loc[\"2008-11-30\":\"2021-10-31\"]\n",
    "myAggBar = data2betested.loc[\"2014\":\"2021\"]\\\n",
    "    .groupby(['StichtagDatJahr','StichtagDatJahr_str', 'KreisLang', 'KreisSort']) \\\n",
    "    .agg(sum_AnzGebMitPers=('AnzGebMitPers'\n",
    "                            , 'sum'), sum_Alter6069=('Alter6069', 'sum')\n",
    "         , sum_Alter80um=('Alter80um', 'sum')\n",
    "         , sum_Alter0009=('Alter0009', sum)\n",
    "         , sum_Alter1019=('Alter1019', sum)\n",
    "        ) \\\n",
    "    .sort_values('StichtagDatJahr', ascending=True) \n",
    "\n",
    "myAggBar.reset_index().head(3)"
   ]
  },
  {
   "cell_type": "code",
   "execution_count": 128,
   "metadata": {},
   "outputs": [],
   "source": [
    "#help(sns.catplot)     "
   ]
  },
  {
   "cell_type": "code",
   "execution_count": 129,
   "metadata": {},
   "outputs": [],
   "source": [
    "#Stile for the following sns graphs\n",
    "sns.set_theme(style=\"whitegrid\")"
   ]
  },
  {
   "cell_type": "code",
   "execution_count": 130,
   "metadata": {},
   "outputs": [
    {
     "data": {
      "text/plain": [
       "<seaborn.axisgrid.FacetGrid at 0x1b627a6e988>"
      ]
     },
     "execution_count": 130,
     "metadata": {},
     "output_type": "execute_result"
    },
    {
     "data": {
      "image/png": "[encoded data removed]",
      "text/plain": [
       "<Figure size 833.925x360 with 1 Axes>"
      ]
     },
     "metadata": {},
     "output_type": "display_data"
    }
   ],
   "source": [
    "#sns.color_palette(\"flare\", as_cmap=True)\n",
    "myHist = sns.catplot(x=\"KreisLang\"\n",
    "            , y=\"sum_Alter0009\"\n",
    "            , hue=\"StichtagDatJahr_str\"\n",
    "            , kind=\"bar\" #boxen, violin, --> wenn die aggregation nicht genau den werten in der grafik entspricht\n",
    "            , palette=\"pastel\" #, color=\"green\"\n",
    "            , height=5\n",
    "            , aspect=2\n",
    "            , order=None, legend_out=True\n",
    "            ,data=myAggBar.sort_values('KreisSort', ascending=True).reset_index()\n",
    "           )\n",
    "myHist.set_xlabels('Jahr', fontsize=11) # not set_label\n",
    "myHist.set_ylabels('Anz. Personen', fontsize=11)\n"
   ]
  },
  {
   "cell_type": "code",
   "execution_count": 132,
   "metadata": {},
   "outputs": [
    {
     "data": {
      "text/plain": [
       "Index(['QuarSort18', 'QuarLang18', 'KreisSort', 'KreisLang', 'EigGruSort', 'EigGruLang',\n",
       "       'AnzGebMitPers', 'PersTotal', 'Alter0009', 'Alter1019', 'Alter2029', 'Alter3039',\n",
       "       'Alter4049', 'Alter5059', 'Alter6069', 'Alter7079', 'Alter80um', 'StichtagDatJahr_str'],\n",
       "      dtype='object')"
      ]
     },
     "execution_count": 132,
     "metadata": {},
     "output_type": "execute_result"
    }
   ],
   "source": [
    "data2betested.columns"
   ]
  },
  {
   "cell_type": "code",
   "execution_count": 137,
   "metadata": {},
   "outputs": [
    {
     "data": {
      "text/html": [
       "<div>\n",
       "<style scoped>\n",
       "    .dataframe tbody tr th:only-of-type {\n",
       "        vertical-align: middle;\n",
       "    }\n",
       "\n",
       "    .dataframe tbody tr th {\n",
       "        vertical-align: top;\n",
       "    }\n",
       "\n",
       "    .dataframe thead th {\n",
       "        text-align: right;\n",
       "    }\n",
       "</style>\n",
       "<table border=\"1\" class=\"dataframe\">\n",
       "  <thead>\n",
       "    <tr style=\"text-align: right;\">\n",
       "      <th></th>\n",
       "      <th>StichtagDatJahr</th>\n",
       "      <th>StichtagDatJahr_str</th>\n",
       "      <th>KreisLang</th>\n",
       "      <th>EigGruSort</th>\n",
       "      <th>EigGruLang</th>\n",
       "      <th>KreisSort</th>\n",
       "      <th>sum_AnzGebMitPers</th>\n",
       "      <th>sum_Alter0009</th>\n",
       "      <th>sum_Alter1019</th>\n",
       "      <th>sum_Alter6069</th>\n",
       "      <th>sum_Alter4049</th>\n",
       "      <th>sum_Alter80um</th>\n",
       "    </tr>\n",
       "  </thead>\n",
       "  <tbody>\n",
       "    <tr>\n",
       "      <th>0</th>\n",
       "      <td>2009-01-01</td>\n",
       "      <td>2009-01-01</td>\n",
       "      <td>Kreis 1</td>\n",
       "      <td>1</td>\n",
       "      <td>Öffentlich/Genossenschaftlich</td>\n",
       "      <td>1</td>\n",
       "      <td>201</td>\n",
       "      <td>102</td>\n",
       "      <td>138</td>\n",
       "      <td>176</td>\n",
       "      <td>224</td>\n",
       "      <td>170</td>\n",
       "    </tr>\n",
       "    <tr>\n",
       "      <th>1</th>\n",
       "      <td>2009-01-01</td>\n",
       "      <td>2009-01-01</td>\n",
       "      <td>Kreis 4</td>\n",
       "      <td>3</td>\n",
       "      <td>Natürliche Personen</td>\n",
       "      <td>4</td>\n",
       "      <td>766</td>\n",
       "      <td>710</td>\n",
       "      <td>507</td>\n",
       "      <td>3191</td>\n",
       "      <td>1835</td>\n",
       "      <td>148</td>\n",
       "    </tr>\n",
       "    <tr>\n",
       "      <th>2</th>\n",
       "      <td>2009-01-01</td>\n",
       "      <td>2009-01-01</td>\n",
       "      <td>Kreis 4</td>\n",
       "      <td>4</td>\n",
       "      <td>Im Stockwerkeigentum</td>\n",
       "      <td>4</td>\n",
       "      <td>67</td>\n",
       "      <td>61</td>\n",
       "      <td>48</td>\n",
       "      <td>251</td>\n",
       "      <td>189</td>\n",
       "      <td>12</td>\n",
       "    </tr>\n",
       "  </tbody>\n",
       "</table>\n",
       "</div>"
      ],
      "text/plain": [
       "  StichtagDatJahr StichtagDatJahr_str KreisLang  EigGruSort                     EigGruLang  \\\n",
       "0      2009-01-01          2009-01-01   Kreis 1           1  Öffentlich/Genossenschaftlich   \n",
       "1      2009-01-01          2009-01-01   Kreis 4           3            Natürliche Personen   \n",
       "2      2009-01-01          2009-01-01   Kreis 4           4           Im Stockwerkeigentum   \n",
       "\n",
       "   KreisSort  sum_AnzGebMitPers  sum_Alter0009  sum_Alter1019  sum_Alter6069  sum_Alter4049  \\\n",
       "0          1                201            102            138            176            224   \n",
       "1          4                766            710            507           3191           1835   \n",
       "2          4                 67             61             48            251            189   \n",
       "\n",
       "   sum_Alter80um  \n",
       "0            170  \n",
       "1            148  \n",
       "2             12  "
      ]
     },
     "execution_count": 137,
     "metadata": {},
     "output_type": "execute_result"
    }
   ],
   "source": [
    "myAggBar = data2betested.loc[\"2009\":\"2021\"]\\\n",
    "    .groupby(['StichtagDatJahr','StichtagDatJahr_str', 'KreisLang', 'EigGruSort', 'EigGruLang','KreisSort']) \\\n",
    "    .agg(sum_AnzGebMitPers=('AnzGebMitPers', 'sum')\n",
    "         , sum_Alter0009=('Alter0009', 'sum')\n",
    "         , sum_Alter1019=('Alter1019', 'sum')\n",
    "         , sum_Alter6069=('Alter3039', 'sum')\n",
    "         , sum_Alter4049=('Alter4049', 'sum')\n",
    "         , sum_Alter80um=('Alter80um', 'sum')         \n",
    "        ) \\\n",
    "    .sort_values('StichtagDatJahr', ascending=True) \n",
    "\n",
    "myAggBar.reset_index().head(3)"
   ]
  },
  {
   "cell_type": "code",
   "execution_count": 138,
   "metadata": {},
   "outputs": [],
   "source": [
    "#myAggBar.reset_index()"
   ]
  },
  {
   "cell_type": "code",
   "execution_count": 136,
   "metadata": {},
   "outputs": [
    {
     "data": {
      "text/plain": [
       "<seaborn.axisgrid.FacetGrid at 0x1b62af7ef48>"
      ]
     },
     "execution_count": 136,
     "metadata": {},
     "output_type": "execute_result"
    },
    {
     "data": {
      "image/png": "[encoded data removed]",
      "text/plain": [
       "<Figure size 1481.1x432 with 12 Axes>"
      ]
     },
     "metadata": {},
     "output_type": "display_data"
    }
   ],
   "source": [
    "g = sns.FacetGrid(myAggBar.sort_values('KreisSort', ascending=True).reset_index(), col=\"KreisLang\", hue=\"EigGruLang\", col_wrap=6, height=3,)\n",
    "#g.map(sns.scatterplot, \"Jahr\", \"sum_ProjAnzWhg\", alpha=.8)\n",
    "g.map(sns.lineplot, \"StichtagDatJahr\",\"sum_Alter0009\",alpha=.8)\n",
    "\n",
    "g.add_legend()"
   ]
  },
  {
   "cell_type": "code",
   "execution_count": 139,
   "metadata": {},
   "outputs": [
    {
     "data": {
      "text/plain": [
       "<seaborn.axisgrid.FacetGrid at 0x1b627a231c8>"
      ]
     },
     "execution_count": 139,
     "metadata": {},
     "output_type": "execute_result"
    },
    {
     "data": {
      "image/png": "[encoded data removed]",
      "text/plain": [
       "<Figure size 1481.1x432 with 12 Axes>"
      ]
     },
     "metadata": {},
     "output_type": "display_data"
    }
   ],
   "source": [
    "g = sns.FacetGrid(myAggBar.sort_values('KreisSort', ascending=True).reset_index(), col=\"KreisLang\", hue=\"EigGruLang\", col_wrap=6, height=3,)\n",
    "#g.map(sns.scatterplot, \"Jahr\", \"sum_ProjAnzWhg\", alpha=.8)\n",
    "g.map(sns.lineplot, \"StichtagDatJahr\",\"sum_Alter80um\",alpha=.8)\n",
    "\n",
    "g.add_legend()"
   ]
  },
  {
   "cell_type": "markdown",
   "metadata": {},
   "source": [
    "### Daten in interaktiver Treemap zeigen\n",
    "Dazu gibt es eine sehr nützliche Webseite https://plotly.com/python/treemaps/\n",
    "Zu Farbskalen, siehe: https://plotly.com/python/builtin-colorscales/"
   ]
  },
  {
   "cell_type": "markdown",
   "metadata": {},
   "source": [
    "#### Anzahl Wohnungen in BAUPROJEKTEN nach Projektstatus, Kreis und Quartier 2021"
   ]
  },
  {
   "cell_type": "code",
   "execution_count": 54,
   "metadata": {},
   "outputs": [
    {
     "data": {
      "text/plain": [
       "QuarSort           int64\n",
       "QuarLang          object\n",
       "KreisSort          int64\n",
       "KreisLang         object\n",
       "ProjStatus        object\n",
       "ProjAnzGbd         int64\n",
       "ProjKosten         int64\n",
       "ProjRauminhalt     int64\n",
       "ProjAnzWhg         int64\n",
       "Whg_1_3_Zi         int64\n",
       "Whg_4plus_Zi       int64\n",
       "Jahr_str          object\n",
       "dtype: object"
      ]
     },
     "execution_count": 54,
     "metadata": {},
     "output_type": "execute_result"
    }
   ],
   "source": [
    "data2betested.dtypes"
   ]
  },
  {
   "cell_type": "code",
   "execution_count": 55,
   "metadata": {
    "tags": []
   },
   "outputs": [
    {
     "data": {
      "text/html": [
       "<div>\n",
       "<style scoped>\n",
       "    .dataframe tbody tr th:only-of-type {\n",
       "        vertical-align: middle;\n",
       "    }\n",
       "\n",
       "    .dataframe tbody tr th {\n",
       "        vertical-align: top;\n",
       "    }\n",
       "\n",
       "    .dataframe thead th {\n",
       "        text-align: right;\n",
       "    }\n",
       "</style>\n",
       "<table border=\"1\" class=\"dataframe\">\n",
       "  <thead>\n",
       "    <tr style=\"text-align: right;\">\n",
       "      <th></th>\n",
       "      <th>Jahr</th>\n",
       "      <th>QuarLang</th>\n",
       "      <th>KreisLang</th>\n",
       "      <th>ProjStatus</th>\n",
       "      <th>sum_ProjAnzGbd</th>\n",
       "      <th>sum_ProjAnzWhg</th>\n",
       "    </tr>\n",
       "  </thead>\n",
       "  <tbody>\n",
       "    <tr>\n",
       "      <th>0</th>\n",
       "      <td>2021-01-01</td>\n",
       "      <td>Seebach</td>\n",
       "      <td>Kreis 11</td>\n",
       "      <td>Im Bau</td>\n",
       "      <td>184</td>\n",
       "      <td>1659</td>\n",
       "    </tr>\n",
       "    <tr>\n",
       "      <th>1</th>\n",
       "      <td>2021-01-01</td>\n",
       "      <td>Wollishofen</td>\n",
       "      <td>Kreis 2</td>\n",
       "      <td>Im Bau</td>\n",
       "      <td>63</td>\n",
       "      <td>796</td>\n",
       "    </tr>\n",
       "    <tr>\n",
       "      <th>2</th>\n",
       "      <td>2021-01-01</td>\n",
       "      <td>Altstetten</td>\n",
       "      <td>Kreis 9</td>\n",
       "      <td>Im Bau</td>\n",
       "      <td>113</td>\n",
       "      <td>782</td>\n",
       "    </tr>\n",
       "  </tbody>\n",
       "</table>\n",
       "</div>"
      ],
      "text/plain": [
       "        Jahr     QuarLang KreisLang ProjStatus  sum_ProjAnzGbd  sum_ProjAnzWhg\n",
       "0 2021-01-01      Seebach  Kreis 11     Im Bau             184            1659\n",
       "1 2021-01-01  Wollishofen   Kreis 2     Im Bau              63             796\n",
       "2 2021-01-01   Altstetten   Kreis 9     Im Bau             113             782"
      ]
     },
     "execution_count": 55,
     "metadata": {},
     "output_type": "execute_result"
    }
   ],
   "source": [
    "myTreemapAgg = data2betested.loc[\"2021\"]  \\\n",
    "    .groupby(['Jahr', 'QuarLang', 'KreisLang', 'ProjStatus']) \\\n",
    "    .agg(sum_ProjAnzGbd=('ProjAnzGbd', 'sum'),sum_ProjAnzWhg=('ProjAnzWhg', 'sum'))\\\n",
    "    .sort_values('sum_ProjAnzWhg', ascending=False) \n",
    "\n",
    "myTreemapAgg.reset_index().head(3)"
   ]
  },
  {
   "cell_type": "code",
   "execution_count": 56,
   "metadata": {},
   "outputs": [
    {
     "data": {
      "application/vnd.plotly.v1+json": {
       "config": {
        "plotlyServerURL": "https://plot.ly"
       },
       "data": [
        {
         "branchvalues": "total",
         "customdata": [
          [
           17
          ],
          [
           58
          ],
          [
           567
          ],
          [
           173
          ],
          [
           89
          ],
          [
           652
          ],
          [
           395
          ],
          [
           5
          ],
          [
           73
          ],
          [
           429
          ],
          [
           384
          ],
          [
           782
          ],
          [
           92
          ],
          [
           18
          ],
          [
           15
          ],
          [
           189
          ],
          [
           21
          ],
          [
           32
          ],
          [
           57
          ],
          [
           3
          ],
          [
           48
          ],
          [
           55
          ],
          [
           64
          ],
          [
           76
          ],
          [
           325
          ],
          [
           33
          ],
          [
           2
          ],
          [
           111
          ],
          [
           29
          ],
          [
           192
          ],
          [
           13
          ],
          [
           10
          ],
          [
           66
          ],
          [
           31
          ],
          [
           63
          ],
          [
           145
          ],
          [
           15
          ],
          [
           105
          ],
          [
           9
          ],
          [
           140
          ],
          [
           48
          ],
          [
           51
          ],
          [
           17
          ],
          [
           37
          ],
          [
           37
          ],
          [
           110
          ],
          [
           58
          ],
          [
           152
          ],
          [
           3
          ],
          [
           14
          ],
          [
           371
          ],
          [
           50
          ],
          [
           214
          ],
          [
           1659
          ],
          [
           121
          ],
          [
           15
          ],
          [
           61
          ],
          [
           17
          ],
          [
           107
          ],
          [
           160
          ],
          [
           179
          ],
          [
           168
          ],
          [
           11
          ],
          [
           32
          ],
          [
           74
          ],
          [
           80
          ],
          [
           12
          ],
          [
           52
          ],
          [
           23
          ],
          [
           67
          ],
          [
           51
          ],
          [
           25
          ],
          [
           260
          ],
          [
           156
          ],
          [
           214
          ],
          [
           796
          ],
          [
           44.1566265060241
          ],
          [
           52.30232558139535
          ],
          [
           120.34905660377359
          ],
          [
           84.11864406779661
          ],
          [
           159.16363636363636
          ],
          [
           1302.3019343986543
          ],
          [
           26.5625
          ],
          [
           14
          ],
          [
           309.955595026643
          ],
          [
           127.94163424124514
          ],
          [
           176.66666666666666
          ],
          [
           740.5646100116414
          ],
          [
           348.05010893246185
          ],
          [
           14.272727272727273
          ],
          [
           83.69298245614036
          ],
          [
           74
          ],
          [
           72.52046783625731
          ],
          [
           264.23981900452486
          ],
          [
           55
          ],
          [
           157.37944664031622
          ],
          [
           146.26553672316385
          ],
          [
           154.67592592592592
          ],
          [
           144.3560975609756
          ],
          [
           36.440677966101696
          ],
          [
           25.405797101449274
          ],
          [
           177.17813765182186
          ],
          [
           11
          ],
          [
           121
          ],
          [
           39.285714285714285
          ],
          [
           355.43189368770766
          ],
          [
           328.492600422833
          ],
          [
           722.8926080892608
          ],
          [
           232.05829145728643
          ],
          [
           178.25764644893727
          ],
          [
           734.9048283561261
          ],
          [
           547.7657194406856
          ]
         ],
         "domain": {
          "x": [
           0,
           1
          ],
          "y": [
           0,
           1
          ]
         },
         "hovertemplate": "labels=%{label}<br>sum_ProjAnzWhg_sum=%{value}<br>parent=%{parent}<br>id=%{id}<br>sum_ProjAnzWhg=%{color}<extra></extra>",
         "ids": [
          "Anzahl Wohnungen nach Projektstatus, Kreis und Quartier/Bewilligt/Kreis 11/Affoltern",
          "Anzahl Wohnungen nach Projektstatus, Kreis und Quartier/Fertigerstellt/Kreis 11/Affoltern",
          "Anzahl Wohnungen nach Projektstatus, Kreis und Quartier/Im Bau/Kreis 11/Affoltern",
          "Anzahl Wohnungen nach Projektstatus, Kreis und Quartier/Bewilligt/Kreis 9/Albisrieden",
          "Anzahl Wohnungen nach Projektstatus, Kreis und Quartier/Fertigerstellt/Kreis 9/Albisrieden",
          "Anzahl Wohnungen nach Projektstatus, Kreis und Quartier/Im Bau/Kreis 9/Albisrieden",
          "Anzahl Wohnungen nach Projektstatus, Kreis und Quartier/Bewilligt/Kreis 3/Alt-Wiedikon",
          "Anzahl Wohnungen nach Projektstatus, Kreis und Quartier/Fertigerstellt/Kreis 3/Alt-Wiedikon",
          "Anzahl Wohnungen nach Projektstatus, Kreis und Quartier/Im Bau/Kreis 3/Alt-Wiedikon",
          "Anzahl Wohnungen nach Projektstatus, Kreis und Quartier/Bewilligt/Kreis 9/Altstetten",
          "Anzahl Wohnungen nach Projektstatus, Kreis und Quartier/Fertigerstellt/Kreis 9/Altstetten",
          "Anzahl Wohnungen nach Projektstatus, Kreis und Quartier/Im Bau/Kreis 9/Altstetten",
          "Anzahl Wohnungen nach Projektstatus, Kreis und Quartier/Bewilligt/Kreis 2/Enge",
          "Anzahl Wohnungen nach Projektstatus, Kreis und Quartier/Fertigerstellt/Kreis 2/Enge",
          "Anzahl Wohnungen nach Projektstatus, Kreis und Quartier/Im Bau/Kreis 2/Enge",
          "Anzahl Wohnungen nach Projektstatus, Kreis und Quartier/Im Bau/Kreis 5/Escher Wyss",
          "Anzahl Wohnungen nach Projektstatus, Kreis und Quartier/Bewilligt/Kreis 7/Fluntern",
          "Anzahl Wohnungen nach Projektstatus, Kreis und Quartier/Fertigerstellt/Kreis 7/Fluntern",
          "Anzahl Wohnungen nach Projektstatus, Kreis und Quartier/Im Bau/Kreis 7/Fluntern",
          "Anzahl Wohnungen nach Projektstatus, Kreis und Quartier/Bewilligt/Kreis 3/Friesenberg",
          "Anzahl Wohnungen nach Projektstatus, Kreis und Quartier/Im Bau/Kreis 3/Friesenberg",
          "Anzahl Wohnungen nach Projektstatus, Kreis und Quartier/Fertigerstellt/Kreis 5/Gewerbeschule",
          "Anzahl Wohnungen nach Projektstatus, Kreis und Quartier/Im Bau/Kreis 5/Gewerbeschule",
          "Anzahl Wohnungen nach Projektstatus, Kreis und Quartier/Fertigerstellt/Kreis 4/Hard",
          "Anzahl Wohnungen nach Projektstatus, Kreis und Quartier/Im Bau/Kreis 4/Hard",
          "Anzahl Wohnungen nach Projektstatus, Kreis und Quartier/Bewilligt/Kreis 7/Hirslanden",
          "Anzahl Wohnungen nach Projektstatus, Kreis und Quartier/Fertigerstellt/Kreis 7/Hirslanden",
          "Anzahl Wohnungen nach Projektstatus, Kreis und Quartier/Im Bau/Kreis 7/Hirslanden",
          "Anzahl Wohnungen nach Projektstatus, Kreis und Quartier/Bewilligt/Kreis 12/Hirzenbach",
          "Anzahl Wohnungen nach Projektstatus, Kreis und Quartier/Im Bau/Kreis 12/Hirzenbach",
          "Anzahl Wohnungen nach Projektstatus, Kreis und Quartier/Bewilligt/Kreis 7/Hottingen",
          "Anzahl Wohnungen nach Projektstatus, Kreis und Quartier/Fertigerstellt/Kreis 7/Hottingen",
          "Anzahl Wohnungen nach Projektstatus, Kreis und Quartier/Im Bau/Kreis 7/Hottingen",
          "Anzahl Wohnungen nach Projektstatus, Kreis und Quartier/Bewilligt/Kreis 10/Höngg",
          "Anzahl Wohnungen nach Projektstatus, Kreis und Quartier/Fertigerstellt/Kreis 10/Höngg",
          "Anzahl Wohnungen nach Projektstatus, Kreis und Quartier/Im Bau/Kreis 10/Höngg",
          "Anzahl Wohnungen nach Projektstatus, Kreis und Quartier/Fertigerstellt/Kreis 4/Langstrasse",
          "Anzahl Wohnungen nach Projektstatus, Kreis und Quartier/Im Bau/Kreis 4/Langstrasse",
          "Anzahl Wohnungen nach Projektstatus, Kreis und Quartier/Bewilligt/Kreis 2/Leimbach",
          "Anzahl Wohnungen nach Projektstatus, Kreis und Quartier/Fertigerstellt/Kreis 2/Leimbach",
          "Anzahl Wohnungen nach Projektstatus, Kreis und Quartier/Im Bau/Kreis 2/Leimbach",
          "Anzahl Wohnungen nach Projektstatus, Kreis und Quartier/Im Bau/Kreis 8/Mühlebach",
          "Anzahl Wohnungen nach Projektstatus, Kreis und Quartier/Bewilligt/Kreis 6/Oberstrass",
          "Anzahl Wohnungen nach Projektstatus, Kreis und Quartier/Fertigerstellt/Kreis 6/Oberstrass",
          "Anzahl Wohnungen nach Projektstatus, Kreis und Quartier/Im Bau/Kreis 6/Oberstrass",
          "Anzahl Wohnungen nach Projektstatus, Kreis und Quartier/Bewilligt/Kreis 11/Oerlikon",
          "Anzahl Wohnungen nach Projektstatus, Kreis und Quartier/Fertigerstellt/Kreis 11/Oerlikon",
          "Anzahl Wohnungen nach Projektstatus, Kreis und Quartier/Im Bau/Kreis 11/Oerlikon",
          "Anzahl Wohnungen nach Projektstatus, Kreis und Quartier/Bewilligt/Kreis 12/Schwamendingen-Mitte",
          "Anzahl Wohnungen nach Projektstatus, Kreis und Quartier/Fertigerstellt/Kreis 12/Schwamendingen-Mitte",
          "Anzahl Wohnungen nach Projektstatus, Kreis und Quartier/Im Bau/Kreis 12/Schwamendingen-Mitte",
          "Anzahl Wohnungen nach Projektstatus, Kreis und Quartier/Bewilligt/Kreis 11/Seebach",
          "Anzahl Wohnungen nach Projektstatus, Kreis und Quartier/Fertigerstellt/Kreis 11/Seebach",
          "Anzahl Wohnungen nach Projektstatus, Kreis und Quartier/Im Bau/Kreis 11/Seebach",
          "Anzahl Wohnungen nach Projektstatus, Kreis und Quartier/Fertigerstellt/Kreis 8/Seefeld",
          "Anzahl Wohnungen nach Projektstatus, Kreis und Quartier/Im Bau/Kreis 8/Seefeld",
          "Anzahl Wohnungen nach Projektstatus, Kreis und Quartier/Bewilligt/Kreis 3/Sihlfeld",
          "Anzahl Wohnungen nach Projektstatus, Kreis und Quartier/Fertigerstellt/Kreis 3/Sihlfeld",
          "Anzahl Wohnungen nach Projektstatus, Kreis und Quartier/Im Bau/Kreis 3/Sihlfeld",
          "Anzahl Wohnungen nach Projektstatus, Kreis und Quartier/Bewilligt/Kreis 6/Unterstrass",
          "Anzahl Wohnungen nach Projektstatus, Kreis und Quartier/Fertigerstellt/Kreis 6/Unterstrass",
          "Anzahl Wohnungen nach Projektstatus, Kreis und Quartier/Im Bau/Kreis 6/Unterstrass",
          "Anzahl Wohnungen nach Projektstatus, Kreis und Quartier/Bewilligt/Kreis 8/Weinegg",
          "Anzahl Wohnungen nach Projektstatus, Kreis und Quartier/Im Bau/Kreis 8/Weinegg",
          "Anzahl Wohnungen nach Projektstatus, Kreis und Quartier/Bewilligt/Kreis 4/Werd",
          "Anzahl Wohnungen nach Projektstatus, Kreis und Quartier/Fertigerstellt/Kreis 4/Werd",
          "Anzahl Wohnungen nach Projektstatus, Kreis und Quartier/Im Bau/Kreis 4/Werd",
          "Anzahl Wohnungen nach Projektstatus, Kreis und Quartier/Bewilligt/Kreis 10/Wipkingen",
          "Anzahl Wohnungen nach Projektstatus, Kreis und Quartier/Fertigerstellt/Kreis 10/Wipkingen",
          "Anzahl Wohnungen nach Projektstatus, Kreis und Quartier/Im Bau/Kreis 10/Wipkingen",
          "Anzahl Wohnungen nach Projektstatus, Kreis und Quartier/Bewilligt/Kreis 7/Witikon",
          "Anzahl Wohnungen nach Projektstatus, Kreis und Quartier/Fertigerstellt/Kreis 7/Witikon",
          "Anzahl Wohnungen nach Projektstatus, Kreis und Quartier/Im Bau/Kreis 7/Witikon",
          "Anzahl Wohnungen nach Projektstatus, Kreis und Quartier/Bewilligt/Kreis 2/Wollishofen",
          "Anzahl Wohnungen nach Projektstatus, Kreis und Quartier/Fertigerstellt/Kreis 2/Wollishofen",
          "Anzahl Wohnungen nach Projektstatus, Kreis und Quartier/Im Bau/Kreis 2/Wollishofen",
          "Anzahl Wohnungen nach Projektstatus, Kreis und Quartier/Bewilligt/Kreis 10",
          "Anzahl Wohnungen nach Projektstatus, Kreis und Quartier/Fertigerstellt/Kreis 10",
          "Anzahl Wohnungen nach Projektstatus, Kreis und Quartier/Im Bau/Kreis 10",
          "Anzahl Wohnungen nach Projektstatus, Kreis und Quartier/Bewilligt/Kreis 11",
          "Anzahl Wohnungen nach Projektstatus, Kreis und Quartier/Fertigerstellt/Kreis 11",
          "Anzahl Wohnungen nach Projektstatus, Kreis und Quartier/Im Bau/Kreis 11",
          "Anzahl Wohnungen nach Projektstatus, Kreis und Quartier/Bewilligt/Kreis 12",
          "Anzahl Wohnungen nach Projektstatus, Kreis und Quartier/Fertigerstellt/Kreis 12",
          "Anzahl Wohnungen nach Projektstatus, Kreis und Quartier/Im Bau/Kreis 12",
          "Anzahl Wohnungen nach Projektstatus, Kreis und Quartier/Bewilligt/Kreis 2",
          "Anzahl Wohnungen nach Projektstatus, Kreis und Quartier/Fertigerstellt/Kreis 2",
          "Anzahl Wohnungen nach Projektstatus, Kreis und Quartier/Im Bau/Kreis 2",
          "Anzahl Wohnungen nach Projektstatus, Kreis und Quartier/Bewilligt/Kreis 3",
          "Anzahl Wohnungen nach Projektstatus, Kreis und Quartier/Fertigerstellt/Kreis 3",
          "Anzahl Wohnungen nach Projektstatus, Kreis und Quartier/Im Bau/Kreis 3",
          "Anzahl Wohnungen nach Projektstatus, Kreis und Quartier/Bewilligt/Kreis 4",
          "Anzahl Wohnungen nach Projektstatus, Kreis und Quartier/Fertigerstellt/Kreis 4",
          "Anzahl Wohnungen nach Projektstatus, Kreis und Quartier/Im Bau/Kreis 4",
          "Anzahl Wohnungen nach Projektstatus, Kreis und Quartier/Fertigerstellt/Kreis 5",
          "Anzahl Wohnungen nach Projektstatus, Kreis und Quartier/Im Bau/Kreis 5",
          "Anzahl Wohnungen nach Projektstatus, Kreis und Quartier/Bewilligt/Kreis 6",
          "Anzahl Wohnungen nach Projektstatus, Kreis und Quartier/Fertigerstellt/Kreis 6",
          "Anzahl Wohnungen nach Projektstatus, Kreis und Quartier/Im Bau/Kreis 6",
          "Anzahl Wohnungen nach Projektstatus, Kreis und Quartier/Bewilligt/Kreis 7",
          "Anzahl Wohnungen nach Projektstatus, Kreis und Quartier/Fertigerstellt/Kreis 7",
          "Anzahl Wohnungen nach Projektstatus, Kreis und Quartier/Im Bau/Kreis 7",
          "Anzahl Wohnungen nach Projektstatus, Kreis und Quartier/Bewilligt/Kreis 8",
          "Anzahl Wohnungen nach Projektstatus, Kreis und Quartier/Fertigerstellt/Kreis 8",
          "Anzahl Wohnungen nach Projektstatus, Kreis und Quartier/Im Bau/Kreis 8",
          "Anzahl Wohnungen nach Projektstatus, Kreis und Quartier/Bewilligt/Kreis 9",
          "Anzahl Wohnungen nach Projektstatus, Kreis und Quartier/Fertigerstellt/Kreis 9",
          "Anzahl Wohnungen nach Projektstatus, Kreis und Quartier/Im Bau/Kreis 9",
          "Anzahl Wohnungen nach Projektstatus, Kreis und Quartier/Bewilligt",
          "Anzahl Wohnungen nach Projektstatus, Kreis und Quartier/Fertigerstellt",
          "Anzahl Wohnungen nach Projektstatus, Kreis und Quartier/Im Bau",
          "Anzahl Wohnungen nach Projektstatus, Kreis und Quartier"
         ],
         "labels": [
          "Affoltern",
          "Affoltern",
          "Affoltern",
          "Albisrieden",
          "Albisrieden",
          "Albisrieden",
          "Alt-Wiedikon",
          "Alt-Wiedikon",
          "Alt-Wiedikon",
          "Altstetten",
          "Altstetten",
          "Altstetten",
          "Enge",
          "Enge",
          "Enge",
          "Escher Wyss",
          "Fluntern",
          "Fluntern",
          "Fluntern",
          "Friesenberg",
          "Friesenberg",
          "Gewerbeschule",
          "Gewerbeschule",
          "Hard",
          "Hard",
          "Hirslanden",
          "Hirslanden",
          "Hirslanden",
          "Hirzenbach",
          "Hirzenbach",
          "Hottingen",
          "Hottingen",
          "Hottingen",
          "Höngg",
          "Höngg",
          "Höngg",
          "Langstrasse",
          "Langstrasse",
          "Leimbach",
          "Leimbach",
          "Leimbach",
          "Mühlebach",
          "Oberstrass",
          "Oberstrass",
          "Oberstrass",
          "Oerlikon",
          "Oerlikon",
          "Oerlikon",
          "Schwamendingen-Mitte",
          "Schwamendingen-Mitte",
          "Schwamendingen-Mitte",
          "Seebach",
          "Seebach",
          "Seebach",
          "Seefeld",
          "Seefeld",
          "Sihlfeld",
          "Sihlfeld",
          "Sihlfeld",
          "Unterstrass",
          "Unterstrass",
          "Unterstrass",
          "Weinegg",
          "Weinegg",
          "Werd",
          "Werd",
          "Werd",
          "Wipkingen",
          "Wipkingen",
          "Wipkingen",
          "Witikon",
          "Witikon",
          "Witikon",
          "Wollishofen",
          "Wollishofen",
          "Wollishofen",
          "Kreis 10",
          "Kreis 10",
          "Kreis 10",
          "Kreis 11",
          "Kreis 11",
          "Kreis 11",
          "Kreis 12",
          "Kreis 12",
          "Kreis 12",
          "Kreis 2",
          "Kreis 2",
          "Kreis 2",
          "Kreis 3",
          "Kreis 3",
          "Kreis 3",
          "Kreis 4",
          "Kreis 4",
          "Kreis 4",
          "Kreis 5",
          "Kreis 5",
          "Kreis 6",
          "Kreis 6",
          "Kreis 6",
          "Kreis 7",
          "Kreis 7",
          "Kreis 7",
          "Kreis 8",
          "Kreis 8",
          "Kreis 8",
          "Kreis 9",
          "Kreis 9",
          "Kreis 9",
          "Bewilligt",
          "Fertigerstellt",
          "Im Bau",
          "Anzahl Wohnungen nach Projektstatus, Kreis und Quartier"
         ],
         "marker": {
          "coloraxis": "coloraxis",
          "colors": [
           17,
           58,
           567,
           173,
           89,
           652,
           395,
           5,
           73,
           429,
           384,
           782,
           92,
           18,
           15,
           189,
           21,
           32,
           57,
           3,
           48,
           55,
           64,
           76,
           325,
           33,
           2,
           111,
           29,
           192,
           13,
           10,
           66,
           31,
           63,
           145,
           15,
           105,
           9,
           140,
           48,
           51,
           17,
           37,
           37,
           110,
           58,
           152,
           3,
           14,
           371,
           50,
           214,
           1659,
           121,
           15,
           61,
           17,
           107,
           160,
           179,
           168,
           11,
           32,
           74,
           80,
           12,
           52,
           23,
           67,
           51,
           25,
           260,
           156,
           214,
           796,
           44.1566265060241,
           52.30232558139535,
           120.34905660377359,
           84.11864406779661,
           159.16363636363636,
           1302.3019343986543,
           26.5625,
           14,
           309.955595026643,
           127.94163424124514,
           176.66666666666666,
           740.5646100116414,
           348.05010893246185,
           14.272727272727273,
           83.69298245614036,
           74,
           72.52046783625731,
           264.23981900452486,
           55,
           157.37944664031622,
           146.26553672316385,
           154.67592592592592,
           144.3560975609756,
           36.440677966101696,
           25.405797101449274,
           177.17813765182186,
           11,
           121,
           39.285714285714285,
           355.43189368770766,
           328.492600422833,
           722.8926080892608,
           232.05829145728643,
           178.25764644893727,
           734.9048283561261,
           547.7657194406856
          ]
         },
         "name": "",
         "parents": [
          "Anzahl Wohnungen nach Projektstatus, Kreis und Quartier/Bewilligt/Kreis 11",
          "Anzahl Wohnungen nach Projektstatus, Kreis und Quartier/Fertigerstellt/Kreis 11",
          "Anzahl Wohnungen nach Projektstatus, Kreis und Quartier/Im Bau/Kreis 11",
          "Anzahl Wohnungen nach Projektstatus, Kreis und Quartier/Bewilligt/Kreis 9",
          "Anzahl Wohnungen nach Projektstatus, Kreis und Quartier/Fertigerstellt/Kreis 9",
          "Anzahl Wohnungen nach Projektstatus, Kreis und Quartier/Im Bau/Kreis 9",
          "Anzahl Wohnungen nach Projektstatus, Kreis und Quartier/Bewilligt/Kreis 3",
          "Anzahl Wohnungen nach Projektstatus, Kreis und Quartier/Fertigerstellt/Kreis 3",
          "Anzahl Wohnungen nach Projektstatus, Kreis und Quartier/Im Bau/Kreis 3",
          "Anzahl Wohnungen nach Projektstatus, Kreis und Quartier/Bewilligt/Kreis 9",
          "Anzahl Wohnungen nach Projektstatus, Kreis und Quartier/Fertigerstellt/Kreis 9",
          "Anzahl Wohnungen nach Projektstatus, Kreis und Quartier/Im Bau/Kreis 9",
          "Anzahl Wohnungen nach Projektstatus, Kreis und Quartier/Bewilligt/Kreis 2",
          "Anzahl Wohnungen nach Projektstatus, Kreis und Quartier/Fertigerstellt/Kreis 2",
          "Anzahl Wohnungen nach Projektstatus, Kreis und Quartier/Im Bau/Kreis 2",
          "Anzahl Wohnungen nach Projektstatus, Kreis und Quartier/Im Bau/Kreis 5",
          "Anzahl Wohnungen nach Projektstatus, Kreis und Quartier/Bewilligt/Kreis 7",
          "Anzahl Wohnungen nach Projektstatus, Kreis und Quartier/Fertigerstellt/Kreis 7",
          "Anzahl Wohnungen nach Projektstatus, Kreis und Quartier/Im Bau/Kreis 7",
          "Anzahl Wohnungen nach Projektstatus, Kreis und Quartier/Bewilligt/Kreis 3",
          "Anzahl Wohnungen nach Projektstatus, Kreis und Quartier/Im Bau/Kreis 3",
          "Anzahl Wohnungen nach Projektstatus, Kreis und Quartier/Fertigerstellt/Kreis 5",
          "Anzahl Wohnungen nach Projektstatus, Kreis und Quartier/Im Bau/Kreis 5",
          "Anzahl Wohnungen nach Projektstatus, Kreis und Quartier/Fertigerstellt/Kreis 4",
          "Anzahl Wohnungen nach Projektstatus, Kreis und Quartier/Im Bau/Kreis 4",
          "Anzahl Wohnungen nach Projektstatus, Kreis und Quartier/Bewilligt/Kreis 7",
          "Anzahl Wohnungen nach Projektstatus, Kreis und Quartier/Fertigerstellt/Kreis 7",
          "Anzahl Wohnungen nach Projektstatus, Kreis und Quartier/Im Bau/Kreis 7",
          "Anzahl Wohnungen nach Projektstatus, Kreis und Quartier/Bewilligt/Kreis 12",
          "Anzahl Wohnungen nach Projektstatus, Kreis und Quartier/Im Bau/Kreis 12",
          "Anzahl Wohnungen nach Projektstatus, Kreis und Quartier/Bewilligt/Kreis 7",
          "Anzahl Wohnungen nach Projektstatus, Kreis und Quartier/Fertigerstellt/Kreis 7",
          "Anzahl Wohnungen nach Projektstatus, Kreis und Quartier/Im Bau/Kreis 7",
          "Anzahl Wohnungen nach Projektstatus, Kreis und Quartier/Bewilligt/Kreis 10",
          "Anzahl Wohnungen nach Projektstatus, Kreis und Quartier/Fertigerstellt/Kreis 10",
          "Anzahl Wohnungen nach Projektstatus, Kreis und Quartier/Im Bau/Kreis 10",
          "Anzahl Wohnungen nach Projektstatus, Kreis und Quartier/Fertigerstellt/Kreis 4",
          "Anzahl Wohnungen nach Projektstatus, Kreis und Quartier/Im Bau/Kreis 4",
          "Anzahl Wohnungen nach Projektstatus, Kreis und Quartier/Bewilligt/Kreis 2",
          "Anzahl Wohnungen nach Projektstatus, Kreis und Quartier/Fertigerstellt/Kreis 2",
          "Anzahl Wohnungen nach Projektstatus, Kreis und Quartier/Im Bau/Kreis 2",
          "Anzahl Wohnungen nach Projektstatus, Kreis und Quartier/Im Bau/Kreis 8",
          "Anzahl Wohnungen nach Projektstatus, Kreis und Quartier/Bewilligt/Kreis 6",
          "Anzahl Wohnungen nach Projektstatus, Kreis und Quartier/Fertigerstellt/Kreis 6",
          "Anzahl Wohnungen nach Projektstatus, Kreis und Quartier/Im Bau/Kreis 6",
          "Anzahl Wohnungen nach Projektstatus, Kreis und Quartier/Bewilligt/Kreis 11",
          "Anzahl Wohnungen nach Projektstatus, Kreis und Quartier/Fertigerstellt/Kreis 11",
          "Anzahl Wohnungen nach Projektstatus, Kreis und Quartier/Im Bau/Kreis 11",
          "Anzahl Wohnungen nach Projektstatus, Kreis und Quartier/Bewilligt/Kreis 12",
          "Anzahl Wohnungen nach Projektstatus, Kreis und Quartier/Fertigerstellt/Kreis 12",
          "Anzahl Wohnungen nach Projektstatus, Kreis und Quartier/Im Bau/Kreis 12",
          "Anzahl Wohnungen nach Projektstatus, Kreis und Quartier/Bewilligt/Kreis 11",
          "Anzahl Wohnungen nach Projektstatus, Kreis und Quartier/Fertigerstellt/Kreis 11",
          "Anzahl Wohnungen nach Projektstatus, Kreis und Quartier/Im Bau/Kreis 11",
          "Anzahl Wohnungen nach Projektstatus, Kreis und Quartier/Fertigerstellt/Kreis 8",
          "Anzahl Wohnungen nach Projektstatus, Kreis und Quartier/Im Bau/Kreis 8",
          "Anzahl Wohnungen nach Projektstatus, Kreis und Quartier/Bewilligt/Kreis 3",
          "Anzahl Wohnungen nach Projektstatus, Kreis und Quartier/Fertigerstellt/Kreis 3",
          "Anzahl Wohnungen nach Projektstatus, Kreis und Quartier/Im Bau/Kreis 3",
          "Anzahl Wohnungen nach Projektstatus, Kreis und Quartier/Bewilligt/Kreis 6",
          "Anzahl Wohnungen nach Projektstatus, Kreis und Quartier/Fertigerstellt/Kreis 6",
          "Anzahl Wohnungen nach Projektstatus, Kreis und Quartier/Im Bau/Kreis 6",
          "Anzahl Wohnungen nach Projektstatus, Kreis und Quartier/Bewilligt/Kreis 8",
          "Anzahl Wohnungen nach Projektstatus, Kreis und Quartier/Im Bau/Kreis 8",
          "Anzahl Wohnungen nach Projektstatus, Kreis und Quartier/Bewilligt/Kreis 4",
          "Anzahl Wohnungen nach Projektstatus, Kreis und Quartier/Fertigerstellt/Kreis 4",
          "Anzahl Wohnungen nach Projektstatus, Kreis und Quartier/Im Bau/Kreis 4",
          "Anzahl Wohnungen nach Projektstatus, Kreis und Quartier/Bewilligt/Kreis 10",
          "Anzahl Wohnungen nach Projektstatus, Kreis und Quartier/Fertigerstellt/Kreis 10",
          "Anzahl Wohnungen nach Projektstatus, Kreis und Quartier/Im Bau/Kreis 10",
          "Anzahl Wohnungen nach Projektstatus, Kreis und Quartier/Bewilligt/Kreis 7",
          "Anzahl Wohnungen nach Projektstatus, Kreis und Quartier/Fertigerstellt/Kreis 7",
          "Anzahl Wohnungen nach Projektstatus, Kreis und Quartier/Im Bau/Kreis 7",
          "Anzahl Wohnungen nach Projektstatus, Kreis und Quartier/Bewilligt/Kreis 2",
          "Anzahl Wohnungen nach Projektstatus, Kreis und Quartier/Fertigerstellt/Kreis 2",
          "Anzahl Wohnungen nach Projektstatus, Kreis und Quartier/Im Bau/Kreis 2",
          "Anzahl Wohnungen nach Projektstatus, Kreis und Quartier/Bewilligt",
          "Anzahl Wohnungen nach Projektstatus, Kreis und Quartier/Fertigerstellt",
          "Anzahl Wohnungen nach Projektstatus, Kreis und Quartier/Im Bau",
          "Anzahl Wohnungen nach Projektstatus, Kreis und Quartier/Bewilligt",
          "Anzahl Wohnungen nach Projektstatus, Kreis und Quartier/Fertigerstellt",
          "Anzahl Wohnungen nach Projektstatus, Kreis und Quartier/Im Bau",
          "Anzahl Wohnungen nach Projektstatus, Kreis und Quartier/Bewilligt",
          "Anzahl Wohnungen nach Projektstatus, Kreis und Quartier/Fertigerstellt",
          "Anzahl Wohnungen nach Projektstatus, Kreis und Quartier/Im Bau",
          "Anzahl Wohnungen nach Projektstatus, Kreis und Quartier/Bewilligt",
          "Anzahl Wohnungen nach Projektstatus, Kreis und Quartier/Fertigerstellt",
          "Anzahl Wohnungen nach Projektstatus, Kreis und Quartier/Im Bau",
          "Anzahl Wohnungen nach Projektstatus, Kreis und Quartier/Bewilligt",
          "Anzahl Wohnungen nach Projektstatus, Kreis und Quartier/Fertigerstellt",
          "Anzahl Wohnungen nach Projektstatus, Kreis und Quartier/Im Bau",
          "Anzahl Wohnungen nach Projektstatus, Kreis und Quartier/Bewilligt",
          "Anzahl Wohnungen nach Projektstatus, Kreis und Quartier/Fertigerstellt",
          "Anzahl Wohnungen nach Projektstatus, Kreis und Quartier/Im Bau",
          "Anzahl Wohnungen nach Projektstatus, Kreis und Quartier/Fertigerstellt",
          "Anzahl Wohnungen nach Projektstatus, Kreis und Quartier/Im Bau",
          "Anzahl Wohnungen nach Projektstatus, Kreis und Quartier/Bewilligt",
          "Anzahl Wohnungen nach Projektstatus, Kreis und Quartier/Fertigerstellt",
          "Anzahl Wohnungen nach Projektstatus, Kreis und Quartier/Im Bau",
          "Anzahl Wohnungen nach Projektstatus, Kreis und Quartier/Bewilligt",
          "Anzahl Wohnungen nach Projektstatus, Kreis und Quartier/Fertigerstellt",
          "Anzahl Wohnungen nach Projektstatus, Kreis und Quartier/Im Bau",
          "Anzahl Wohnungen nach Projektstatus, Kreis und Quartier/Bewilligt",
          "Anzahl Wohnungen nach Projektstatus, Kreis und Quartier/Fertigerstellt",
          "Anzahl Wohnungen nach Projektstatus, Kreis und Quartier/Im Bau",
          "Anzahl Wohnungen nach Projektstatus, Kreis und Quartier/Bewilligt",
          "Anzahl Wohnungen nach Projektstatus, Kreis und Quartier/Fertigerstellt",
          "Anzahl Wohnungen nach Projektstatus, Kreis und Quartier/Im Bau",
          "Anzahl Wohnungen nach Projektstatus, Kreis und Quartier",
          "Anzahl Wohnungen nach Projektstatus, Kreis und Quartier",
          "Anzahl Wohnungen nach Projektstatus, Kreis und Quartier",
          ""
         ],
         "root": {
          "color": "grey"
         },
         "type": "treemap",
         "values": [
          17,
          58,
          567,
          173,
          89,
          652,
          395,
          5,
          73,
          429,
          384,
          782,
          92,
          18,
          15,
          189,
          21,
          32,
          57,
          3,
          48,
          55,
          64,
          76,
          325,
          33,
          2,
          111,
          29,
          192,
          13,
          10,
          66,
          31,
          63,
          145,
          15,
          105,
          9,
          140,
          48,
          51,
          17,
          37,
          37,
          110,
          58,
          152,
          3,
          14,
          371,
          50,
          214,
          1659,
          121,
          15,
          61,
          17,
          107,
          160,
          179,
          168,
          11,
          32,
          74,
          80,
          12,
          52,
          23,
          67,
          51,
          25,
          260,
          156,
          214,
          796,
          83,
          86,
          212,
          177,
          330,
          2378,
          32,
          14,
          563,
          257,
          372,
          859,
          459,
          22,
          228,
          74,
          171,
          442,
          55,
          253,
          177,
          216,
          205,
          118,
          69,
          494,
          11,
          121,
          98,
          602,
          473,
          1434,
          1990,
          1929,
          7166,
          11085
         ]
        }
       ],
       "layout": {
        "coloraxis": {
         "colorbar": {
          "title": {
           "text": "sum_ProjAnzWhg"
          }
         },
         "colorscale": [
          [
           0,
           "#00224e"
          ],
          [
           0.1111111111111111,
           "#123570"
          ],
          [
           0.2222222222222222,
           "#3b496c"
          ],
          [
           0.3333333333333333,
           "#575d6d"
          ],
          [
           0.4444444444444444,
           "#707173"
          ],
          [
           0.5555555555555556,
           "#8a8678"
          ],
          [
           0.6666666666666666,
           "#a59c74"
          ],
          [
           0.7777777777777778,
           "#c3b369"
          ],
          [
           0.8888888888888888,
           "#e1cc55"
          ],
          [
           1,
           "#fee838"
          ]
         ]
        },
        "height": 400,
        "legend": {
         "tracegroupgap": 0
        },
        "margin": {
         "b": 25,
         "l": 25,
         "r": 250,
         "t": 50
        },
        "template": {
         "data": {
          "bar": [
           {
            "error_x": {
             "color": "#2a3f5f"
            },
            "error_y": {
             "color": "#2a3f5f"
            },
            "marker": {
             "line": {
              "color": "#E5ECF6",
              "width": 0.5
             },
             "pattern": {
              "fillmode": "overlay",
              "size": 10,
              "solidity": 0.2
             }
            },
            "type": "bar"
           }
          ],
          "barpolar": [
           {
            "marker": {
             "line": {
              "color": "#E5ECF6",
              "width": 0.5
             },
             "pattern": {
              "fillmode": "overlay",
              "size": 10,
              "solidity": 0.2
             }
            },
            "type": "barpolar"
           }
          ],
          "carpet": [
           {
            "aaxis": {
             "endlinecolor": "#2a3f5f",
             "gridcolor": "white",
             "linecolor": "white",
             "minorgridcolor": "white",
             "startlinecolor": "#2a3f5f"
            },
            "baxis": {
             "endlinecolor": "#2a3f5f",
             "gridcolor": "white",
             "linecolor": "white",
             "minorgridcolor": "white",
             "startlinecolor": "#2a3f5f"
            },
            "type": "carpet"
           }
          ],
          "choropleth": [
           {
            "colorbar": {
             "outlinewidth": 0,
             "ticks": ""
            },
            "type": "choropleth"
           }
          ],
          "contour": [
           {
            "colorbar": {
             "outlinewidth": 0,
             "ticks": ""
            },
            "colorscale": [
             [
              0,
              "#0d0887"
             ],
             [
              0.1111111111111111,
              "#46039f"
             ],
             [
              0.2222222222222222,
              "#7201a8"
             ],
             [
              0.3333333333333333,
              "#9c179e"
             ],
             [
              0.4444444444444444,
              "#bd3786"
             ],
             [
              0.5555555555555556,
              "#d8576b"
             ],
             [
              0.6666666666666666,
              "#ed7953"
             ],
             [
              0.7777777777777778,
              "#fb9f3a"
             ],
             [
              0.8888888888888888,
              "#fdca26"
             ],
             [
              1,
              "#f0f921"
             ]
            ],
            "type": "contour"
           }
          ],
          "contourcarpet": [
           {
            "colorbar": {
             "outlinewidth": 0,
             "ticks": ""
            },
            "type": "contourcarpet"
           }
          ],
          "heatmap": [
           {
            "colorbar": {
             "outlinewidth": 0,
             "ticks": ""
            },
            "colorscale": [
             [
              0,
              "#0d0887"
             ],
             [
              0.1111111111111111,
              "#46039f"
             ],
             [
              0.2222222222222222,
              "#7201a8"
             ],
             [
              0.3333333333333333,
              "#9c179e"
             ],
             [
              0.4444444444444444,
              "#bd3786"
             ],
             [
              0.5555555555555556,
              "#d8576b"
             ],
             [
              0.6666666666666666,
              "#ed7953"
             ],
             [
              0.7777777777777778,
              "#fb9f3a"
             ],
             [
              0.8888888888888888,
              "#fdca26"
             ],
             [
              1,
              "#f0f921"
             ]
            ],
            "type": "heatmap"
           }
          ],
          "heatmapgl": [
           {
            "colorbar": {
             "outlinewidth": 0,
             "ticks": ""
            },
            "colorscale": [
             [
              0,
              "#0d0887"
             ],
             [
              0.1111111111111111,
              "#46039f"
             ],
             [
              0.2222222222222222,
              "#7201a8"
             ],
             [
              0.3333333333333333,
              "#9c179e"
             ],
             [
              0.4444444444444444,
              "#bd3786"
             ],
             [
              0.5555555555555556,
              "#d8576b"
             ],
             [
              0.6666666666666666,
              "#ed7953"
             ],
             [
              0.7777777777777778,
              "#fb9f3a"
             ],
             [
              0.8888888888888888,
              "#fdca26"
             ],
             [
              1,
              "#f0f921"
             ]
            ],
            "type": "heatmapgl"
           }
          ],
          "histogram": [
           {
            "marker": {
             "pattern": {
              "fillmode": "overlay",
              "size": 10,
              "solidity": 0.2
             }
            },
            "type": "histogram"
           }
          ],
          "histogram2d": [
           {
            "colorbar": {
             "outlinewidth": 0,
             "ticks": ""
            },
            "colorscale": [
             [
              0,
              "#0d0887"
             ],
             [
              0.1111111111111111,
              "#46039f"
             ],
             [
              0.2222222222222222,
              "#7201a8"
             ],
             [
              0.3333333333333333,
              "#9c179e"
             ],
             [
              0.4444444444444444,
              "#bd3786"
             ],
             [
              0.5555555555555556,
              "#d8576b"
             ],
             [
              0.6666666666666666,
              "#ed7953"
             ],
             [
              0.7777777777777778,
              "#fb9f3a"
             ],
             [
              0.8888888888888888,
              "#fdca26"
             ],
             [
              1,
              "#f0f921"
             ]
            ],
            "type": "histogram2d"
           }
          ],
          "histogram2dcontour": [
           {
            "colorbar": {
             "outlinewidth": 0,
             "ticks": ""
            },
            "colorscale": [
             [
              0,
              "#0d0887"
             ],
             [
              0.1111111111111111,
              "#46039f"
             ],
             [
              0.2222222222222222,
              "#7201a8"
             ],
             [
              0.3333333333333333,
              "#9c179e"
             ],
             [
              0.4444444444444444,
              "#bd3786"
             ],
             [
              0.5555555555555556,
              "#d8576b"
             ],
             [
              0.6666666666666666,
              "#ed7953"
             ],
             [
              0.7777777777777778,
              "#fb9f3a"
             ],
             [
              0.8888888888888888,
              "#fdca26"
             ],
             [
              1,
              "#f0f921"
             ]
            ],
            "type": "histogram2dcontour"
           }
          ],
          "mesh3d": [
           {
            "colorbar": {
             "outlinewidth": 0,
             "ticks": ""
            },
            "type": "mesh3d"
           }
          ],
          "parcoords": [
           {
            "line": {
             "colorbar": {
              "outlinewidth": 0,
              "ticks": ""
             }
            },
            "type": "parcoords"
           }
          ],
          "pie": [
           {
            "automargin": true,
            "type": "pie"
           }
          ],
          "scatter": [
           {
            "marker": {
             "colorbar": {
              "outlinewidth": 0,
              "ticks": ""
             }
            },
            "type": "scatter"
           }
          ],
          "scatter3d": [
           {
            "line": {
             "colorbar": {
              "outlinewidth": 0,
              "ticks": ""
             }
            },
            "marker": {
             "colorbar": {
              "outlinewidth": 0,
              "ticks": ""
             }
            },
            "type": "scatter3d"
           }
          ],
          "scattercarpet": [
           {
            "marker": {
             "colorbar": {
              "outlinewidth": 0,
              "ticks": ""
             }
            },
            "type": "scattercarpet"
           }
          ],
          "scattergeo": [
           {
            "marker": {
             "colorbar": {
              "outlinewidth": 0,
              "ticks": ""
             }
            },
            "type": "scattergeo"
           }
          ],
          "scattergl": [
           {
            "marker": {
             "colorbar": {
              "outlinewidth": 0,
              "ticks": ""
             }
            },
            "type": "scattergl"
           }
          ],
          "scattermapbox": [
           {
            "marker": {
             "colorbar": {
              "outlinewidth": 0,
              "ticks": ""
             }
            },
            "type": "scattermapbox"
           }
          ],
          "scatterpolar": [
           {
            "marker": {
             "colorbar": {
              "outlinewidth": 0,
              "ticks": ""
             }
            },
            "type": "scatterpolar"
           }
          ],
          "scatterpolargl": [
           {
            "marker": {
             "colorbar": {
              "outlinewidth": 0,
              "ticks": ""
             }
            },
            "type": "scatterpolargl"
           }
          ],
          "scatterternary": [
           {
            "marker": {
             "colorbar": {
              "outlinewidth": 0,
              "ticks": ""
             }
            },
            "type": "scatterternary"
           }
          ],
          "surface": [
           {
            "colorbar": {
             "outlinewidth": 0,
             "ticks": ""
            },
            "colorscale": [
             [
              0,
              "#0d0887"
             ],
             [
              0.1111111111111111,
              "#46039f"
             ],
             [
              0.2222222222222222,
              "#7201a8"
             ],
             [
              0.3333333333333333,
              "#9c179e"
             ],
             [
              0.4444444444444444,
              "#bd3786"
             ],
             [
              0.5555555555555556,
              "#d8576b"
             ],
             [
              0.6666666666666666,
              "#ed7953"
             ],
             [
              0.7777777777777778,
              "#fb9f3a"
             ],
             [
              0.8888888888888888,
              "#fdca26"
             ],
             [
              1,
              "#f0f921"
             ]
            ],
            "type": "surface"
           }
          ],
          "table": [
           {
            "cells": {
             "fill": {
              "color": "#EBF0F8"
             },
             "line": {
              "color": "white"
             }
            },
            "header": {
             "fill": {
              "color": "#C8D4E3"
             },
             "line": {
              "color": "white"
             }
            },
            "type": "table"
           }
          ]
         },
         "layout": {
          "annotationdefaults": {
           "arrowcolor": "#2a3f5f",
           "arrowhead": 0,
           "arrowwidth": 1
          },
          "autotypenumbers": "strict",
          "coloraxis": {
           "colorbar": {
            "outlinewidth": 0,
            "ticks": ""
           }
          },
          "colorscale": {
           "diverging": [
            [
             0,
             "#8e0152"
            ],
            [
             0.1,
             "#c51b7d"
            ],
            [
             0.2,
             "#de77ae"
            ],
            [
             0.3,
             "#f1b6da"
            ],
            [
             0.4,
             "#fde0ef"
            ],
            [
             0.5,
             "#f7f7f7"
            ],
            [
             0.6,
             "#e6f5d0"
            ],
            [
             0.7,
             "#b8e186"
            ],
            [
             0.8,
             "#7fbc41"
            ],
            [
             0.9,
             "#4d9221"
            ],
            [
             1,
             "#276419"
            ]
           ],
           "sequential": [
            [
             0,
             "#0d0887"
            ],
            [
             0.1111111111111111,
             "#46039f"
            ],
            [
             0.2222222222222222,
             "#7201a8"
            ],
            [
             0.3333333333333333,
             "#9c179e"
            ],
            [
             0.4444444444444444,
             "#bd3786"
            ],
            [
             0.5555555555555556,
             "#d8576b"
            ],
            [
             0.6666666666666666,
             "#ed7953"
            ],
            [
             0.7777777777777778,
             "#fb9f3a"
            ],
            [
             0.8888888888888888,
             "#fdca26"
            ],
            [
             1,
             "#f0f921"
            ]
           ],
           "sequentialminus": [
            [
             0,
             "#0d0887"
            ],
            [
             0.1111111111111111,
             "#46039f"
            ],
            [
             0.2222222222222222,
             "#7201a8"
            ],
            [
             0.3333333333333333,
             "#9c179e"
            ],
            [
             0.4444444444444444,
             "#bd3786"
            ],
            [
             0.5555555555555556,
             "#d8576b"
            ],
            [
             0.6666666666666666,
             "#ed7953"
            ],
            [
             0.7777777777777778,
             "#fb9f3a"
            ],
            [
             0.8888888888888888,
             "#fdca26"
            ],
            [
             1,
             "#f0f921"
            ]
           ]
          },
          "colorway": [
           "#636efa",
           "#EF553B",
           "#00cc96",
           "#ab63fa",
           "#FFA15A",
           "#19d3f3",
           "#FF6692",
           "#B6E880",
           "#FF97FF",
           "#FECB52"
          ],
          "font": {
           "color": "#2a3f5f"
          },
          "geo": {
           "bgcolor": "white",
           "lakecolor": "white",
           "landcolor": "#E5ECF6",
           "showlakes": true,
           "showland": true,
           "subunitcolor": "white"
          },
          "hoverlabel": {
           "align": "left"
          },
          "hovermode": "closest",
          "mapbox": {
           "style": "light"
          },
          "paper_bgcolor": "white",
          "plot_bgcolor": "#E5ECF6",
          "polar": {
           "angularaxis": {
            "gridcolor": "white",
            "linecolor": "white",
            "ticks": ""
           },
           "bgcolor": "#E5ECF6",
           "radialaxis": {
            "gridcolor": "white",
            "linecolor": "white",
            "ticks": ""
           }
          },
          "scene": {
           "xaxis": {
            "backgroundcolor": "#E5ECF6",
            "gridcolor": "white",
            "gridwidth": 2,
            "linecolor": "white",
            "showbackground": true,
            "ticks": "",
            "zerolinecolor": "white"
           },
           "yaxis": {
            "backgroundcolor": "#E5ECF6",
            "gridcolor": "white",
            "gridwidth": 2,
            "linecolor": "white",
            "showbackground": true,
            "ticks": "",
            "zerolinecolor": "white"
           },
           "zaxis": {
            "backgroundcolor": "#E5ECF6",
            "gridcolor": "white",
            "gridwidth": 2,
            "linecolor": "white",
            "showbackground": true,
            "ticks": "",
            "zerolinecolor": "white"
           }
          },
          "shapedefaults": {
           "line": {
            "color": "#2a3f5f"
           }
          },
          "ternary": {
           "aaxis": {
            "gridcolor": "white",
            "linecolor": "white",
            "ticks": ""
           },
           "baxis": {
            "gridcolor": "white",
            "linecolor": "white",
            "ticks": ""
           },
           "bgcolor": "#E5ECF6",
           "caxis": {
            "gridcolor": "white",
            "linecolor": "white",
            "ticks": ""
           }
          },
          "title": {
           "x": 0.05
          },
          "xaxis": {
           "automargin": true,
           "gridcolor": "white",
           "linecolor": "white",
           "ticks": "",
           "title": {
            "standoff": 15
           },
           "zerolinecolor": "white",
           "zerolinewidth": 2
          },
          "yaxis": {
           "automargin": true,
           "gridcolor": "white",
           "linecolor": "white",
           "ticks": "",
           "title": {
            "standoff": 15
           },
           "zerolinecolor": "white",
           "zerolinewidth": 2
          }
         }
        },
        "width": 1100
       }
      },
      "image/png": "[encoded data removed]",
      "text/html": [
       "<div>                            <div id=\"0b1f18c1-1e4c-42a6-a430-bc3d9deda936\" class=\"plotly-graph-div\" style=\"height:400px; width:1100px;\"></div>            <script type=\"text/javascript\">                require([\"plotly\"], function(Plotly) {                    window.PLOTLYENV=window.PLOTLYENV || {};                                    if (document.getElementById(\"0b1f18c1-1e4c-42a6-a430-bc3d9deda936\")) {                    Plotly.newPlot(                        \"0b1f18c1-1e4c-42a6-a430-bc3d9deda936\",                        [{\"branchvalues\":\"total\",\"customdata\":[[17.0],[58.0],[567.0],[173.0],[89.0],[652.0],[395.0],[5.0],[73.0],[429.0],[384.0],[782.0],[92.0],[18.0],[15.0],[189.0],[21.0],[32.0],[57.0],[3.0],[48.0],[55.0],[64.0],[76.0],[325.0],[33.0],[2.0],[111.0],[29.0],[192.0],[13.0],[10.0],[66.0],[31.0],[63.0],[145.0],[15.0],[105.0],[9.0],[140.0],[48.0],[51.0],[17.0],[37.0],[37.0],[110.0],[58.0],[152.0],[3.0],[14.0],[371.0],[50.0],[214.0],[1659.0],[121.0],[15.0],[61.0],[17.0],[107.0],[160.0],[179.0],[168.0],[11.0],[32.0],[74.0],[80.0],[12.0],[52.0],[23.0],[67.0],[51.0],[25.0],[260.0],[156.0],[214.0],[796.0],[44.1566265060241],[52.30232558139535],[120.34905660377359],[84.11864406779661],[159.16363636363636],[1302.3019343986543],[26.5625],[14.0],[309.955595026643],[127.94163424124514],[176.66666666666666],[740.5646100116414],[348.05010893246185],[14.272727272727273],[83.69298245614036],[74.0],[72.52046783625731],[264.23981900452486],[55.0],[157.37944664031622],[146.26553672316385],[154.67592592592592],[144.3560975609756],[36.440677966101696],[25.405797101449274],[177.17813765182186],[11.0],[121.0],[39.285714285714285],[355.43189368770766],[328.492600422833],[722.8926080892608],[232.05829145728643],[178.25764644893727],[734.9048283561261],[547.7657194406856]],\"domain\":{\"x\":[0.0,1.0],\"y\":[0.0,1.0]},\"hovertemplate\":\"labels=%{label}<br>sum_ProjAnzWhg_sum=%{value}<br>parent=%{parent}<br>id=%{id}<br>sum_ProjAnzWhg=%{color}<extra></extra>\",\"ids\":[\"Anzahl Wohnungen nach Projektstatus, Kreis und Quartier/Bewilligt/Kreis 11/Affoltern\",\"Anzahl Wohnungen nach Projektstatus, Kreis und Quartier/Fertigerstellt/Kreis 11/Affoltern\",\"Anzahl Wohnungen nach Projektstatus, Kreis und Quartier/Im Bau/Kreis 11/Affoltern\",\"Anzahl Wohnungen nach Projektstatus, Kreis und Quartier/Bewilligt/Kreis 9/Albisrieden\",\"Anzahl Wohnungen nach Projektstatus, Kreis und Quartier/Fertigerstellt/Kreis 9/Albisrieden\",\"Anzahl Wohnungen nach Projektstatus, Kreis und Quartier/Im Bau/Kreis 9/Albisrieden\",\"Anzahl Wohnungen nach Projektstatus, Kreis und Quartier/Bewilligt/Kreis 3/Alt-Wiedikon\",\"Anzahl Wohnungen nach Projektstatus, Kreis und Quartier/Fertigerstellt/Kreis 3/Alt-Wiedikon\",\"Anzahl Wohnungen nach Projektstatus, Kreis und Quartier/Im Bau/Kreis 3/Alt-Wiedikon\",\"Anzahl Wohnungen nach Projektstatus, Kreis und Quartier/Bewilligt/Kreis 9/Altstetten\",\"Anzahl Wohnungen nach Projektstatus, Kreis und Quartier/Fertigerstellt/Kreis 9/Altstetten\",\"Anzahl Wohnungen nach Projektstatus, Kreis und Quartier/Im Bau/Kreis 9/Altstetten\",\"Anzahl Wohnungen nach Projektstatus, Kreis und Quartier/Bewilligt/Kreis 2/Enge\",\"Anzahl Wohnungen nach Projektstatus, Kreis und Quartier/Fertigerstellt/Kreis 2/Enge\",\"Anzahl Wohnungen nach Projektstatus, Kreis und Quartier/Im Bau/Kreis 2/Enge\",\"Anzahl Wohnungen nach Projektstatus, Kreis und Quartier/Im Bau/Kreis 5/Escher Wyss\",\"Anzahl Wohnungen nach Projektstatus, Kreis und Quartier/Bewilligt/Kreis 7/Fluntern\",\"Anzahl Wohnungen nach Projektstatus, Kreis und Quartier/Fertigerstellt/Kreis 7/Fluntern\",\"Anzahl Wohnungen nach Projektstatus, Kreis und Quartier/Im Bau/Kreis 7/Fluntern\",\"Anzahl Wohnungen nach Projektstatus, Kreis und Quartier/Bewilligt/Kreis 3/Friesenberg\",\"Anzahl Wohnungen nach Projektstatus, Kreis und Quartier/Im Bau/Kreis 3/Friesenberg\",\"Anzahl Wohnungen nach Projektstatus, Kreis und Quartier/Fertigerstellt/Kreis 5/Gewerbeschule\",\"Anzahl Wohnungen nach Projektstatus, Kreis und Quartier/Im Bau/Kreis 5/Gewerbeschule\",\"Anzahl Wohnungen nach Projektstatus, Kreis und Quartier/Fertigerstellt/Kreis 4/Hard\",\"Anzahl Wohnungen nach Projektstatus, Kreis und Quartier/Im Bau/Kreis 4/Hard\",\"Anzahl Wohnungen nach Projektstatus, Kreis und Quartier/Bewilligt/Kreis 7/Hirslanden\",\"Anzahl Wohnungen nach Projektstatus, Kreis und Quartier/Fertigerstellt/Kreis 7/Hirslanden\",\"Anzahl Wohnungen nach Projektstatus, Kreis und Quartier/Im Bau/Kreis 7/Hirslanden\",\"Anzahl Wohnungen nach Projektstatus, Kreis und Quartier/Bewilligt/Kreis 12/Hirzenbach\",\"Anzahl Wohnungen nach Projektstatus, Kreis und Quartier/Im Bau/Kreis 12/Hirzenbach\",\"Anzahl Wohnungen nach Projektstatus, Kreis und Quartier/Bewilligt/Kreis 7/Hottingen\",\"Anzahl Wohnungen nach Projektstatus, Kreis und Quartier/Fertigerstellt/Kreis 7/Hottingen\",\"Anzahl Wohnungen nach Projektstatus, Kreis und Quartier/Im Bau/Kreis 7/Hottingen\",\"Anzahl Wohnungen nach Projektstatus, Kreis und Quartier/Bewilligt/Kreis 10/H\\u00f6ngg\",\"Anzahl Wohnungen nach Projektstatus, Kreis und Quartier/Fertigerstellt/Kreis 10/H\\u00f6ngg\",\"Anzahl Wohnungen nach Projektstatus, Kreis und Quartier/Im Bau/Kreis 10/H\\u00f6ngg\",\"Anzahl Wohnungen nach Projektstatus, Kreis und Quartier/Fertigerstellt/Kreis 4/Langstrasse\",\"Anzahl Wohnungen nach Projektstatus, Kreis und Quartier/Im Bau/Kreis 4/Langstrasse\",\"Anzahl Wohnungen nach Projektstatus, Kreis und Quartier/Bewilligt/Kreis 2/Leimbach\",\"Anzahl Wohnungen nach Projektstatus, Kreis und Quartier/Fertigerstellt/Kreis 2/Leimbach\",\"Anzahl Wohnungen nach Projektstatus, Kreis und Quartier/Im Bau/Kreis 2/Leimbach\",\"Anzahl Wohnungen nach Projektstatus, Kreis und Quartier/Im Bau/Kreis 8/M\\u00fchlebach\",\"Anzahl Wohnungen nach Projektstatus, Kreis und Quartier/Bewilligt/Kreis 6/Oberstrass\",\"Anzahl Wohnungen nach Projektstatus, Kreis und Quartier/Fertigerstellt/Kreis 6/Oberstrass\",\"Anzahl Wohnungen nach Projektstatus, Kreis und Quartier/Im Bau/Kreis 6/Oberstrass\",\"Anzahl Wohnungen nach Projektstatus, Kreis und Quartier/Bewilligt/Kreis 11/Oerlikon\",\"Anzahl Wohnungen nach Projektstatus, Kreis und Quartier/Fertigerstellt/Kreis 11/Oerlikon\",\"Anzahl Wohnungen nach Projektstatus, Kreis und Quartier/Im Bau/Kreis 11/Oerlikon\",\"Anzahl Wohnungen nach Projektstatus, Kreis und Quartier/Bewilligt/Kreis 12/Schwamendingen-Mitte\",\"Anzahl Wohnungen nach Projektstatus, Kreis und Quartier/Fertigerstellt/Kreis 12/Schwamendingen-Mitte\",\"Anzahl Wohnungen nach Projektstatus, Kreis und Quartier/Im Bau/Kreis 12/Schwamendingen-Mitte\",\"Anzahl Wohnungen nach Projektstatus, Kreis und Quartier/Bewilligt/Kreis 11/Seebach\",\"Anzahl Wohnungen nach Projektstatus, Kreis und Quartier/Fertigerstellt/Kreis 11/Seebach\",\"Anzahl Wohnungen nach Projektstatus, Kreis und Quartier/Im Bau/Kreis 11/Seebach\",\"Anzahl Wohnungen nach Projektstatus, Kreis und Quartier/Fertigerstellt/Kreis 8/Seefeld\",\"Anzahl Wohnungen nach Projektstatus, Kreis und Quartier/Im Bau/Kreis 8/Seefeld\",\"Anzahl Wohnungen nach Projektstatus, Kreis und Quartier/Bewilligt/Kreis 3/Sihlfeld\",\"Anzahl Wohnungen nach Projektstatus, Kreis und Quartier/Fertigerstellt/Kreis 3/Sihlfeld\",\"Anzahl Wohnungen nach Projektstatus, Kreis und Quartier/Im Bau/Kreis 3/Sihlfeld\",\"Anzahl Wohnungen nach Projektstatus, Kreis und Quartier/Bewilligt/Kreis 6/Unterstrass\",\"Anzahl Wohnungen nach Projektstatus, Kreis und Quartier/Fertigerstellt/Kreis 6/Unterstrass\",\"Anzahl Wohnungen nach Projektstatus, Kreis und Quartier/Im Bau/Kreis 6/Unterstrass\",\"Anzahl Wohnungen nach Projektstatus, Kreis und Quartier/Bewilligt/Kreis 8/Weinegg\",\"Anzahl Wohnungen nach Projektstatus, Kreis und Quartier/Im Bau/Kreis 8/Weinegg\",\"Anzahl Wohnungen nach Projektstatus, Kreis und Quartier/Bewilligt/Kreis 4/Werd\",\"Anzahl Wohnungen nach Projektstatus, Kreis und Quartier/Fertigerstellt/Kreis 4/Werd\",\"Anzahl Wohnungen nach Projektstatus, Kreis und Quartier/Im Bau/Kreis 4/Werd\",\"Anzahl Wohnungen nach Projektstatus, Kreis und Quartier/Bewilligt/Kreis 10/Wipkingen\",\"Anzahl Wohnungen nach Projektstatus, Kreis und Quartier/Fertigerstellt/Kreis 10/Wipkingen\",\"Anzahl Wohnungen nach Projektstatus, Kreis und Quartier/Im Bau/Kreis 10/Wipkingen\",\"Anzahl Wohnungen nach Projektstatus, Kreis und Quartier/Bewilligt/Kreis 7/Witikon\",\"Anzahl Wohnungen nach Projektstatus, Kreis und Quartier/Fertigerstellt/Kreis 7/Witikon\",\"Anzahl Wohnungen nach Projektstatus, Kreis und Quartier/Im Bau/Kreis 7/Witikon\",\"Anzahl Wohnungen nach Projektstatus, Kreis und Quartier/Bewilligt/Kreis 2/Wollishofen\",\"Anzahl Wohnungen nach Projektstatus, Kreis und Quartier/Fertigerstellt/Kreis 2/Wollishofen\",\"Anzahl Wohnungen nach Projektstatus, Kreis und Quartier/Im Bau/Kreis 2/Wollishofen\",\"Anzahl Wohnungen nach Projektstatus, Kreis und Quartier/Bewilligt/Kreis 10\",\"Anzahl Wohnungen nach Projektstatus, Kreis und Quartier/Fertigerstellt/Kreis 10\",\"Anzahl Wohnungen nach Projektstatus, Kreis und Quartier/Im Bau/Kreis 10\",\"Anzahl Wohnungen nach Projektstatus, Kreis und Quartier/Bewilligt/Kreis 11\",\"Anzahl Wohnungen nach Projektstatus, Kreis und Quartier/Fertigerstellt/Kreis 11\",\"Anzahl Wohnungen nach Projektstatus, Kreis und Quartier/Im Bau/Kreis 11\",\"Anzahl Wohnungen nach Projektstatus, Kreis und Quartier/Bewilligt/Kreis 12\",\"Anzahl Wohnungen nach Projektstatus, Kreis und Quartier/Fertigerstellt/Kreis 12\",\"Anzahl Wohnungen nach Projektstatus, Kreis und Quartier/Im Bau/Kreis 12\",\"Anzahl Wohnungen nach Projektstatus, Kreis und Quartier/Bewilligt/Kreis 2\",\"Anzahl Wohnungen nach Projektstatus, Kreis und Quartier/Fertigerstellt/Kreis 2\",\"Anzahl Wohnungen nach Projektstatus, Kreis und Quartier/Im Bau/Kreis 2\",\"Anzahl Wohnungen nach Projektstatus, Kreis und Quartier/Bewilligt/Kreis 3\",\"Anzahl Wohnungen nach Projektstatus, Kreis und Quartier/Fertigerstellt/Kreis 3\",\"Anzahl Wohnungen nach Projektstatus, Kreis und Quartier/Im Bau/Kreis 3\",\"Anzahl Wohnungen nach Projektstatus, Kreis und Quartier/Bewilligt/Kreis 4\",\"Anzahl Wohnungen nach Projektstatus, Kreis und Quartier/Fertigerstellt/Kreis 4\",\"Anzahl Wohnungen nach Projektstatus, Kreis und Quartier/Im Bau/Kreis 4\",\"Anzahl Wohnungen nach Projektstatus, Kreis und Quartier/Fertigerstellt/Kreis 5\",\"Anzahl Wohnungen nach Projektstatus, Kreis und Quartier/Im Bau/Kreis 5\",\"Anzahl Wohnungen nach Projektstatus, Kreis und Quartier/Bewilligt/Kreis 6\",\"Anzahl Wohnungen nach Projektstatus, Kreis und Quartier/Fertigerstellt/Kreis 6\",\"Anzahl Wohnungen nach Projektstatus, Kreis und Quartier/Im Bau/Kreis 6\",\"Anzahl Wohnungen nach Projektstatus, Kreis und Quartier/Bewilligt/Kreis 7\",\"Anzahl Wohnungen nach Projektstatus, Kreis und Quartier/Fertigerstellt/Kreis 7\",\"Anzahl Wohnungen nach Projektstatus, Kreis und Quartier/Im Bau/Kreis 7\",\"Anzahl Wohnungen nach Projektstatus, Kreis und Quartier/Bewilligt/Kreis 8\",\"Anzahl Wohnungen nach Projektstatus, Kreis und Quartier/Fertigerstellt/Kreis 8\",\"Anzahl Wohnungen nach Projektstatus, Kreis und Quartier/Im Bau/Kreis 8\",\"Anzahl Wohnungen nach Projektstatus, Kreis und Quartier/Bewilligt/Kreis 9\",\"Anzahl Wohnungen nach Projektstatus, Kreis und Quartier/Fertigerstellt/Kreis 9\",\"Anzahl Wohnungen nach Projektstatus, Kreis und Quartier/Im Bau/Kreis 9\",\"Anzahl Wohnungen nach Projektstatus, Kreis und Quartier/Bewilligt\",\"Anzahl Wohnungen nach Projektstatus, Kreis und Quartier/Fertigerstellt\",\"Anzahl Wohnungen nach Projektstatus, Kreis und Quartier/Im Bau\",\"Anzahl Wohnungen nach Projektstatus, Kreis und Quartier\"],\"labels\":[\"Affoltern\",\"Affoltern\",\"Affoltern\",\"Albisrieden\",\"Albisrieden\",\"Albisrieden\",\"Alt-Wiedikon\",\"Alt-Wiedikon\",\"Alt-Wiedikon\",\"Altstetten\",\"Altstetten\",\"Altstetten\",\"Enge\",\"Enge\",\"Enge\",\"Escher Wyss\",\"Fluntern\",\"Fluntern\",\"Fluntern\",\"Friesenberg\",\"Friesenberg\",\"Gewerbeschule\",\"Gewerbeschule\",\"Hard\",\"Hard\",\"Hirslanden\",\"Hirslanden\",\"Hirslanden\",\"Hirzenbach\",\"Hirzenbach\",\"Hottingen\",\"Hottingen\",\"Hottingen\",\"H\\u00f6ngg\",\"H\\u00f6ngg\",\"H\\u00f6ngg\",\"Langstrasse\",\"Langstrasse\",\"Leimbach\",\"Leimbach\",\"Leimbach\",\"M\\u00fchlebach\",\"Oberstrass\",\"Oberstrass\",\"Oberstrass\",\"Oerlikon\",\"Oerlikon\",\"Oerlikon\",\"Schwamendingen-Mitte\",\"Schwamendingen-Mitte\",\"Schwamendingen-Mitte\",\"Seebach\",\"Seebach\",\"Seebach\",\"Seefeld\",\"Seefeld\",\"Sihlfeld\",\"Sihlfeld\",\"Sihlfeld\",\"Unterstrass\",\"Unterstrass\",\"Unterstrass\",\"Weinegg\",\"Weinegg\",\"Werd\",\"Werd\",\"Werd\",\"Wipkingen\",\"Wipkingen\",\"Wipkingen\",\"Witikon\",\"Witikon\",\"Witikon\",\"Wollishofen\",\"Wollishofen\",\"Wollishofen\",\"Kreis 10\",\"Kreis 10\",\"Kreis 10\",\"Kreis 11\",\"Kreis 11\",\"Kreis 11\",\"Kreis 12\",\"Kreis 12\",\"Kreis 12\",\"Kreis 2\",\"Kreis 2\",\"Kreis 2\",\"Kreis 3\",\"Kreis 3\",\"Kreis 3\",\"Kreis 4\",\"Kreis 4\",\"Kreis 4\",\"Kreis 5\",\"Kreis 5\",\"Kreis 6\",\"Kreis 6\",\"Kreis 6\",\"Kreis 7\",\"Kreis 7\",\"Kreis 7\",\"Kreis 8\",\"Kreis 8\",\"Kreis 8\",\"Kreis 9\",\"Kreis 9\",\"Kreis 9\",\"Bewilligt\",\"Fertigerstellt\",\"Im Bau\",\"Anzahl Wohnungen nach Projektstatus, Kreis und Quartier\"],\"marker\":{\"coloraxis\":\"coloraxis\",\"colors\":[17.0,58.0,567.0,173.0,89.0,652.0,395.0,5.0,73.0,429.0,384.0,782.0,92.0,18.0,15.0,189.0,21.0,32.0,57.0,3.0,48.0,55.0,64.0,76.0,325.0,33.0,2.0,111.0,29.0,192.0,13.0,10.0,66.0,31.0,63.0,145.0,15.0,105.0,9.0,140.0,48.0,51.0,17.0,37.0,37.0,110.0,58.0,152.0,3.0,14.0,371.0,50.0,214.0,1659.0,121.0,15.0,61.0,17.0,107.0,160.0,179.0,168.0,11.0,32.0,74.0,80.0,12.0,52.0,23.0,67.0,51.0,25.0,260.0,156.0,214.0,796.0,44.1566265060241,52.30232558139535,120.34905660377359,84.11864406779661,159.16363636363636,1302.3019343986543,26.5625,14.0,309.955595026643,127.94163424124514,176.66666666666666,740.5646100116414,348.05010893246185,14.272727272727273,83.69298245614036,74.0,72.52046783625731,264.23981900452486,55.0,157.37944664031622,146.26553672316385,154.67592592592592,144.3560975609756,36.440677966101696,25.405797101449274,177.17813765182186,11.0,121.0,39.285714285714285,355.43189368770766,328.492600422833,722.8926080892608,232.05829145728643,178.25764644893727,734.9048283561261,547.7657194406856]},\"name\":\"\",\"parents\":[\"Anzahl Wohnungen nach Projektstatus, Kreis und Quartier/Bewilligt/Kreis 11\",\"Anzahl Wohnungen nach Projektstatus, Kreis und Quartier/Fertigerstellt/Kreis 11\",\"Anzahl Wohnungen nach Projektstatus, Kreis und Quartier/Im Bau/Kreis 11\",\"Anzahl Wohnungen nach Projektstatus, Kreis und Quartier/Bewilligt/Kreis 9\",\"Anzahl Wohnungen nach Projektstatus, Kreis und Quartier/Fertigerstellt/Kreis 9\",\"Anzahl Wohnungen nach Projektstatus, Kreis und Quartier/Im Bau/Kreis 9\",\"Anzahl Wohnungen nach Projektstatus, Kreis und Quartier/Bewilligt/Kreis 3\",\"Anzahl Wohnungen nach Projektstatus, Kreis und Quartier/Fertigerstellt/Kreis 3\",\"Anzahl Wohnungen nach Projektstatus, Kreis und Quartier/Im Bau/Kreis 3\",\"Anzahl Wohnungen nach Projektstatus, Kreis und Quartier/Bewilligt/Kreis 9\",\"Anzahl Wohnungen nach Projektstatus, Kreis und Quartier/Fertigerstellt/Kreis 9\",\"Anzahl Wohnungen nach Projektstatus, Kreis und Quartier/Im Bau/Kreis 9\",\"Anzahl Wohnungen nach Projektstatus, Kreis und Quartier/Bewilligt/Kreis 2\",\"Anzahl Wohnungen nach Projektstatus, Kreis und Quartier/Fertigerstellt/Kreis 2\",\"Anzahl Wohnungen nach Projektstatus, Kreis und Quartier/Im Bau/Kreis 2\",\"Anzahl Wohnungen nach Projektstatus, Kreis und Quartier/Im Bau/Kreis 5\",\"Anzahl Wohnungen nach Projektstatus, Kreis und Quartier/Bewilligt/Kreis 7\",\"Anzahl Wohnungen nach Projektstatus, Kreis und Quartier/Fertigerstellt/Kreis 7\",\"Anzahl Wohnungen nach Projektstatus, Kreis und Quartier/Im Bau/Kreis 7\",\"Anzahl Wohnungen nach Projektstatus, Kreis und Quartier/Bewilligt/Kreis 3\",\"Anzahl Wohnungen nach Projektstatus, Kreis und Quartier/Im Bau/Kreis 3\",\"Anzahl Wohnungen nach Projektstatus, Kreis und Quartier/Fertigerstellt/Kreis 5\",\"Anzahl Wohnungen nach Projektstatus, Kreis und Quartier/Im Bau/Kreis 5\",\"Anzahl Wohnungen nach Projektstatus, Kreis und Quartier/Fertigerstellt/Kreis 4\",\"Anzahl Wohnungen nach Projektstatus, Kreis und Quartier/Im Bau/Kreis 4\",\"Anzahl Wohnungen nach Projektstatus, Kreis und Quartier/Bewilligt/Kreis 7\",\"Anzahl Wohnungen nach Projektstatus, Kreis und Quartier/Fertigerstellt/Kreis 7\",\"Anzahl Wohnungen nach Projektstatus, Kreis und Quartier/Im Bau/Kreis 7\",\"Anzahl Wohnungen nach Projektstatus, Kreis und Quartier/Bewilligt/Kreis 12\",\"Anzahl Wohnungen nach Projektstatus, Kreis und Quartier/Im Bau/Kreis 12\",\"Anzahl Wohnungen nach Projektstatus, Kreis und Quartier/Bewilligt/Kreis 7\",\"Anzahl Wohnungen nach Projektstatus, Kreis und Quartier/Fertigerstellt/Kreis 7\",\"Anzahl Wohnungen nach Projektstatus, Kreis und Quartier/Im Bau/Kreis 7\",\"Anzahl Wohnungen nach Projektstatus, Kreis und Quartier/Bewilligt/Kreis 10\",\"Anzahl Wohnungen nach Projektstatus, Kreis und Quartier/Fertigerstellt/Kreis 10\",\"Anzahl Wohnungen nach Projektstatus, Kreis und Quartier/Im Bau/Kreis 10\",\"Anzahl Wohnungen nach Projektstatus, Kreis und Quartier/Fertigerstellt/Kreis 4\",\"Anzahl Wohnungen nach Projektstatus, Kreis und Quartier/Im Bau/Kreis 4\",\"Anzahl Wohnungen nach Projektstatus, Kreis und Quartier/Bewilligt/Kreis 2\",\"Anzahl Wohnungen nach Projektstatus, Kreis und Quartier/Fertigerstellt/Kreis 2\",\"Anzahl Wohnungen nach Projektstatus, Kreis und Quartier/Im Bau/Kreis 2\",\"Anzahl Wohnungen nach Projektstatus, Kreis und Quartier/Im Bau/Kreis 8\",\"Anzahl Wohnungen nach Projektstatus, Kreis und Quartier/Bewilligt/Kreis 6\",\"Anzahl Wohnungen nach Projektstatus, Kreis und Quartier/Fertigerstellt/Kreis 6\",\"Anzahl Wohnungen nach Projektstatus, Kreis und Quartier/Im Bau/Kreis 6\",\"Anzahl Wohnungen nach Projektstatus, Kreis und Quartier/Bewilligt/Kreis 11\",\"Anzahl Wohnungen nach Projektstatus, Kreis und Quartier/Fertigerstellt/Kreis 11\",\"Anzahl Wohnungen nach Projektstatus, Kreis und Quartier/Im Bau/Kreis 11\",\"Anzahl Wohnungen nach Projektstatus, Kreis und Quartier/Bewilligt/Kreis 12\",\"Anzahl Wohnungen nach Projektstatus, Kreis und Quartier/Fertigerstellt/Kreis 12\",\"Anzahl Wohnungen nach Projektstatus, Kreis und Quartier/Im Bau/Kreis 12\",\"Anzahl Wohnungen nach Projektstatus, Kreis und Quartier/Bewilligt/Kreis 11\",\"Anzahl Wohnungen nach Projektstatus, Kreis und Quartier/Fertigerstellt/Kreis 11\",\"Anzahl Wohnungen nach Projektstatus, Kreis und Quartier/Im Bau/Kreis 11\",\"Anzahl Wohnungen nach Projektstatus, Kreis und Quartier/Fertigerstellt/Kreis 8\",\"Anzahl Wohnungen nach Projektstatus, Kreis und Quartier/Im Bau/Kreis 8\",\"Anzahl Wohnungen nach Projektstatus, Kreis und Quartier/Bewilligt/Kreis 3\",\"Anzahl Wohnungen nach Projektstatus, Kreis und Quartier/Fertigerstellt/Kreis 3\",\"Anzahl Wohnungen nach Projektstatus, Kreis und Quartier/Im Bau/Kreis 3\",\"Anzahl Wohnungen nach Projektstatus, Kreis und Quartier/Bewilligt/Kreis 6\",\"Anzahl Wohnungen nach Projektstatus, Kreis und Quartier/Fertigerstellt/Kreis 6\",\"Anzahl Wohnungen nach Projektstatus, Kreis und Quartier/Im Bau/Kreis 6\",\"Anzahl Wohnungen nach Projektstatus, Kreis und Quartier/Bewilligt/Kreis 8\",\"Anzahl Wohnungen nach Projektstatus, Kreis und Quartier/Im Bau/Kreis 8\",\"Anzahl Wohnungen nach Projektstatus, Kreis und Quartier/Bewilligt/Kreis 4\",\"Anzahl Wohnungen nach Projektstatus, Kreis und Quartier/Fertigerstellt/Kreis 4\",\"Anzahl Wohnungen nach Projektstatus, Kreis und Quartier/Im Bau/Kreis 4\",\"Anzahl Wohnungen nach Projektstatus, Kreis und Quartier/Bewilligt/Kreis 10\",\"Anzahl Wohnungen nach Projektstatus, Kreis und Quartier/Fertigerstellt/Kreis 10\",\"Anzahl Wohnungen nach Projektstatus, Kreis und Quartier/Im Bau/Kreis 10\",\"Anzahl Wohnungen nach Projektstatus, Kreis und Quartier/Bewilligt/Kreis 7\",\"Anzahl Wohnungen nach Projektstatus, Kreis und Quartier/Fertigerstellt/Kreis 7\",\"Anzahl Wohnungen nach Projektstatus, Kreis und Quartier/Im Bau/Kreis 7\",\"Anzahl Wohnungen nach Projektstatus, Kreis und Quartier/Bewilligt/Kreis 2\",\"Anzahl Wohnungen nach Projektstatus, Kreis und Quartier/Fertigerstellt/Kreis 2\",\"Anzahl Wohnungen nach Projektstatus, Kreis und Quartier/Im Bau/Kreis 2\",\"Anzahl Wohnungen nach Projektstatus, Kreis und Quartier/Bewilligt\",\"Anzahl Wohnungen nach Projektstatus, Kreis und Quartier/Fertigerstellt\",\"Anzahl Wohnungen nach Projektstatus, Kreis und Quartier/Im Bau\",\"Anzahl Wohnungen nach Projektstatus, Kreis und Quartier/Bewilligt\",\"Anzahl Wohnungen nach Projektstatus, Kreis und Quartier/Fertigerstellt\",\"Anzahl Wohnungen nach Projektstatus, Kreis und Quartier/Im Bau\",\"Anzahl Wohnungen nach Projektstatus, Kreis und Quartier/Bewilligt\",\"Anzahl Wohnungen nach Projektstatus, Kreis und Quartier/Fertigerstellt\",\"Anzahl Wohnungen nach Projektstatus, Kreis und Quartier/Im Bau\",\"Anzahl Wohnungen nach Projektstatus, Kreis und Quartier/Bewilligt\",\"Anzahl Wohnungen nach Projektstatus, Kreis und Quartier/Fertigerstellt\",\"Anzahl Wohnungen nach Projektstatus, Kreis und Quartier/Im Bau\",\"Anzahl Wohnungen nach Projektstatus, Kreis und Quartier/Bewilligt\",\"Anzahl Wohnungen nach Projektstatus, Kreis und Quartier/Fertigerstellt\",\"Anzahl Wohnungen nach Projektstatus, Kreis und Quartier/Im Bau\",\"Anzahl Wohnungen nach Projektstatus, Kreis und Quartier/Bewilligt\",\"Anzahl Wohnungen nach Projektstatus, Kreis und Quartier/Fertigerstellt\",\"Anzahl Wohnungen nach Projektstatus, Kreis und Quartier/Im Bau\",\"Anzahl Wohnungen nach Projektstatus, Kreis und Quartier/Fertigerstellt\",\"Anzahl Wohnungen nach Projektstatus, Kreis und Quartier/Im Bau\",\"Anzahl Wohnungen nach Projektstatus, Kreis und Quartier/Bewilligt\",\"Anzahl Wohnungen nach Projektstatus, Kreis und Quartier/Fertigerstellt\",\"Anzahl Wohnungen nach Projektstatus, Kreis und Quartier/Im Bau\",\"Anzahl Wohnungen nach Projektstatus, Kreis und Quartier/Bewilligt\",\"Anzahl Wohnungen nach Projektstatus, Kreis und Quartier/Fertigerstellt\",\"Anzahl Wohnungen nach Projektstatus, Kreis und Quartier/Im Bau\",\"Anzahl Wohnungen nach Projektstatus, Kreis und Quartier/Bewilligt\",\"Anzahl Wohnungen nach Projektstatus, Kreis und Quartier/Fertigerstellt\",\"Anzahl Wohnungen nach Projektstatus, Kreis und Quartier/Im Bau\",\"Anzahl Wohnungen nach Projektstatus, Kreis und Quartier/Bewilligt\",\"Anzahl Wohnungen nach Projektstatus, Kreis und Quartier/Fertigerstellt\",\"Anzahl Wohnungen nach Projektstatus, Kreis und Quartier/Im Bau\",\"Anzahl Wohnungen nach Projektstatus, Kreis und Quartier\",\"Anzahl Wohnungen nach Projektstatus, Kreis und Quartier\",\"Anzahl Wohnungen nach Projektstatus, Kreis und Quartier\",\"\"],\"values\":[17,58,567,173,89,652,395,5,73,429,384,782,92,18,15,189,21,32,57,3,48,55,64,76,325,33,2,111,29,192,13,10,66,31,63,145,15,105,9,140,48,51,17,37,37,110,58,152,3,14,371,50,214,1659,121,15,61,17,107,160,179,168,11,32,74,80,12,52,23,67,51,25,260,156,214,796,83,86,212,177,330,2378,32,14,563,257,372,859,459,22,228,74,171,442,55,253,177,216,205,118,69,494,11,121,98,602,473,1434,1990,1929,7166,11085],\"type\":\"treemap\",\"root\":{\"color\":\"grey\"}}],                        {\"template\":{\"data\":{\"bar\":[{\"error_x\":{\"color\":\"#2a3f5f\"},\"error_y\":{\"color\":\"#2a3f5f\"},\"marker\":{\"line\":{\"color\":\"#E5ECF6\",\"width\":0.5},\"pattern\":{\"fillmode\":\"overlay\",\"size\":10,\"solidity\":0.2}},\"type\":\"bar\"}],\"barpolar\":[{\"marker\":{\"line\":{\"color\":\"#E5ECF6\",\"width\":0.5},\"pattern\":{\"fillmode\":\"overlay\",\"size\":10,\"solidity\":0.2}},\"type\":\"barpolar\"}],\"carpet\":[{\"aaxis\":{\"endlinecolor\":\"#2a3f5f\",\"gridcolor\":\"white\",\"linecolor\":\"white\",\"minorgridcolor\":\"white\",\"startlinecolor\":\"#2a3f5f\"},\"baxis\":{\"endlinecolor\":\"#2a3f5f\",\"gridcolor\":\"white\",\"linecolor\":\"white\",\"minorgridcolor\":\"white\",\"startlinecolor\":\"#2a3f5f\"},\"type\":\"carpet\"}],\"choropleth\":[{\"colorbar\":{\"outlinewidth\":0,\"ticks\":\"\"},\"type\":\"choropleth\"}],\"contour\":[{\"colorbar\":{\"outlinewidth\":0,\"ticks\":\"\"},\"colorscale\":[[0.0,\"#0d0887\"],[0.1111111111111111,\"#46039f\"],[0.2222222222222222,\"#7201a8\"],[0.3333333333333333,\"#9c179e\"],[0.4444444444444444,\"#bd3786\"],[0.5555555555555556,\"#d8576b\"],[0.6666666666666666,\"#ed7953\"],[0.7777777777777778,\"#fb9f3a\"],[0.8888888888888888,\"#fdca26\"],[1.0,\"#f0f921\"]],\"type\":\"contour\"}],\"contourcarpet\":[{\"colorbar\":{\"outlinewidth\":0,\"ticks\":\"\"},\"type\":\"contourcarpet\"}],\"heatmap\":[{\"colorbar\":{\"outlinewidth\":0,\"ticks\":\"\"},\"colorscale\":[[0.0,\"#0d0887\"],[0.1111111111111111,\"#46039f\"],[0.2222222222222222,\"#7201a8\"],[0.3333333333333333,\"#9c179e\"],[0.4444444444444444,\"#bd3786\"],[0.5555555555555556,\"#d8576b\"],[0.6666666666666666,\"#ed7953\"],[0.7777777777777778,\"#fb9f3a\"],[0.8888888888888888,\"#fdca26\"],[1.0,\"#f0f921\"]],\"type\":\"heatmap\"}],\"heatmapgl\":[{\"colorbar\":{\"outlinewidth\":0,\"ticks\":\"\"},\"colorscale\":[[0.0,\"#0d0887\"],[0.1111111111111111,\"#46039f\"],[0.2222222222222222,\"#7201a8\"],[0.3333333333333333,\"#9c179e\"],[0.4444444444444444,\"#bd3786\"],[0.5555555555555556,\"#d8576b\"],[0.6666666666666666,\"#ed7953\"],[0.7777777777777778,\"#fb9f3a\"],[0.8888888888888888,\"#fdca26\"],[1.0,\"#f0f921\"]],\"type\":\"heatmapgl\"}],\"histogram\":[{\"marker\":{\"pattern\":{\"fillmode\":\"overlay\",\"size\":10,\"solidity\":0.2}},\"type\":\"histogram\"}],\"histogram2d\":[{\"colorbar\":{\"outlinewidth\":0,\"ticks\":\"\"},\"colorscale\":[[0.0,\"#0d0887\"],[0.1111111111111111,\"#46039f\"],[0.2222222222222222,\"#7201a8\"],[0.3333333333333333,\"#9c179e\"],[0.4444444444444444,\"#bd3786\"],[0.5555555555555556,\"#d8576b\"],[0.6666666666666666,\"#ed7953\"],[0.7777777777777778,\"#fb9f3a\"],[0.8888888888888888,\"#fdca26\"],[1.0,\"#f0f921\"]],\"type\":\"histogram2d\"}],\"histogram2dcontour\":[{\"colorbar\":{\"outlinewidth\":0,\"ticks\":\"\"},\"colorscale\":[[0.0,\"#0d0887\"],[0.1111111111111111,\"#46039f\"],[0.2222222222222222,\"#7201a8\"],[0.3333333333333333,\"#9c179e\"],[0.4444444444444444,\"#bd3786\"],[0.5555555555555556,\"#d8576b\"],[0.6666666666666666,\"#ed7953\"],[0.7777777777777778,\"#fb9f3a\"],[0.8888888888888888,\"#fdca26\"],[1.0,\"#f0f921\"]],\"type\":\"histogram2dcontour\"}],\"mesh3d\":[{\"colorbar\":{\"outlinewidth\":0,\"ticks\":\"\"},\"type\":\"mesh3d\"}],\"parcoords\":[{\"line\":{\"colorbar\":{\"outlinewidth\":0,\"ticks\":\"\"}},\"type\":\"parcoords\"}],\"pie\":[{\"automargin\":true,\"type\":\"pie\"}],\"scatter\":[{\"marker\":{\"colorbar\":{\"outlinewidth\":0,\"ticks\":\"\"}},\"type\":\"scatter\"}],\"scatter3d\":[{\"line\":{\"colorbar\":{\"outlinewidth\":0,\"ticks\":\"\"}},\"marker\":{\"colorbar\":{\"outlinewidth\":0,\"ticks\":\"\"}},\"type\":\"scatter3d\"}],\"scattercarpet\":[{\"marker\":{\"colorbar\":{\"outlinewidth\":0,\"ticks\":\"\"}},\"type\":\"scattercarpet\"}],\"scattergeo\":[{\"marker\":{\"colorbar\":{\"outlinewidth\":0,\"ticks\":\"\"}},\"type\":\"scattergeo\"}],\"scattergl\":[{\"marker\":{\"colorbar\":{\"outlinewidth\":0,\"ticks\":\"\"}},\"type\":\"scattergl\"}],\"scattermapbox\":[{\"marker\":{\"colorbar\":{\"outlinewidth\":0,\"ticks\":\"\"}},\"type\":\"scattermapbox\"}],\"scatterpolar\":[{\"marker\":{\"colorbar\":{\"outlinewidth\":0,\"ticks\":\"\"}},\"type\":\"scatterpolar\"}],\"scatterpolargl\":[{\"marker\":{\"colorbar\":{\"outlinewidth\":0,\"ticks\":\"\"}},\"type\":\"scatterpolargl\"}],\"scatterternary\":[{\"marker\":{\"colorbar\":{\"outlinewidth\":0,\"ticks\":\"\"}},\"type\":\"scatterternary\"}],\"surface\":[{\"colorbar\":{\"outlinewidth\":0,\"ticks\":\"\"},\"colorscale\":[[0.0,\"#0d0887\"],[0.1111111111111111,\"#46039f\"],[0.2222222222222222,\"#7201a8\"],[0.3333333333333333,\"#9c179e\"],[0.4444444444444444,\"#bd3786\"],[0.5555555555555556,\"#d8576b\"],[0.6666666666666666,\"#ed7953\"],[0.7777777777777778,\"#fb9f3a\"],[0.8888888888888888,\"#fdca26\"],[1.0,\"#f0f921\"]],\"type\":\"surface\"}],\"table\":[{\"cells\":{\"fill\":{\"color\":\"#EBF0F8\"},\"line\":{\"color\":\"white\"}},\"header\":{\"fill\":{\"color\":\"#C8D4E3\"},\"line\":{\"color\":\"white\"}},\"type\":\"table\"}]},\"layout\":{\"annotationdefaults\":{\"arrowcolor\":\"#2a3f5f\",\"arrowhead\":0,\"arrowwidth\":1},\"autotypenumbers\":\"strict\",\"coloraxis\":{\"colorbar\":{\"outlinewidth\":0,\"ticks\":\"\"}},\"colorscale\":{\"diverging\":[[0,\"#8e0152\"],[0.1,\"#c51b7d\"],[0.2,\"#de77ae\"],[0.3,\"#f1b6da\"],[0.4,\"#fde0ef\"],[0.5,\"#f7f7f7\"],[0.6,\"#e6f5d0\"],[0.7,\"#b8e186\"],[0.8,\"#7fbc41\"],[0.9,\"#4d9221\"],[1,\"#276419\"]],\"sequential\":[[0.0,\"#0d0887\"],[0.1111111111111111,\"#46039f\"],[0.2222222222222222,\"#7201a8\"],[0.3333333333333333,\"#9c179e\"],[0.4444444444444444,\"#bd3786\"],[0.5555555555555556,\"#d8576b\"],[0.6666666666666666,\"#ed7953\"],[0.7777777777777778,\"#fb9f3a\"],[0.8888888888888888,\"#fdca26\"],[1.0,\"#f0f921\"]],\"sequentialminus\":[[0.0,\"#0d0887\"],[0.1111111111111111,\"#46039f\"],[0.2222222222222222,\"#7201a8\"],[0.3333333333333333,\"#9c179e\"],[0.4444444444444444,\"#bd3786\"],[0.5555555555555556,\"#d8576b\"],[0.6666666666666666,\"#ed7953\"],[0.7777777777777778,\"#fb9f3a\"],[0.8888888888888888,\"#fdca26\"],[1.0,\"#f0f921\"]]},\"colorway\":[\"#636efa\",\"#EF553B\",\"#00cc96\",\"#ab63fa\",\"#FFA15A\",\"#19d3f3\",\"#FF6692\",\"#B6E880\",\"#FF97FF\",\"#FECB52\"],\"font\":{\"color\":\"#2a3f5f\"},\"geo\":{\"bgcolor\":\"white\",\"lakecolor\":\"white\",\"landcolor\":\"#E5ECF6\",\"showlakes\":true,\"showland\":true,\"subunitcolor\":\"white\"},\"hoverlabel\":{\"align\":\"left\"},\"hovermode\":\"closest\",\"mapbox\":{\"style\":\"light\"},\"paper_bgcolor\":\"white\",\"plot_bgcolor\":\"#E5ECF6\",\"polar\":{\"angularaxis\":{\"gridcolor\":\"white\",\"linecolor\":\"white\",\"ticks\":\"\"},\"bgcolor\":\"#E5ECF6\",\"radialaxis\":{\"gridcolor\":\"white\",\"linecolor\":\"white\",\"ticks\":\"\"}},\"scene\":{\"xaxis\":{\"backgroundcolor\":\"#E5ECF6\",\"gridcolor\":\"white\",\"gridwidth\":2,\"linecolor\":\"white\",\"showbackground\":true,\"ticks\":\"\",\"zerolinecolor\":\"white\"},\"yaxis\":{\"backgroundcolor\":\"#E5ECF6\",\"gridcolor\":\"white\",\"gridwidth\":2,\"linecolor\":\"white\",\"showbackground\":true,\"ticks\":\"\",\"zerolinecolor\":\"white\"},\"zaxis\":{\"backgroundcolor\":\"#E5ECF6\",\"gridcolor\":\"white\",\"gridwidth\":2,\"linecolor\":\"white\",\"showbackground\":true,\"ticks\":\"\",\"zerolinecolor\":\"white\"}},\"shapedefaults\":{\"line\":{\"color\":\"#2a3f5f\"}},\"ternary\":{\"aaxis\":{\"gridcolor\":\"white\",\"linecolor\":\"white\",\"ticks\":\"\"},\"baxis\":{\"gridcolor\":\"white\",\"linecolor\":\"white\",\"ticks\":\"\"},\"bgcolor\":\"#E5ECF6\",\"caxis\":{\"gridcolor\":\"white\",\"linecolor\":\"white\",\"ticks\":\"\"}},\"title\":{\"x\":0.05},\"xaxis\":{\"automargin\":true,\"gridcolor\":\"white\",\"linecolor\":\"white\",\"ticks\":\"\",\"title\":{\"standoff\":15},\"zerolinecolor\":\"white\",\"zerolinewidth\":2},\"yaxis\":{\"automargin\":true,\"gridcolor\":\"white\",\"linecolor\":\"white\",\"ticks\":\"\",\"title\":{\"standoff\":15},\"zerolinecolor\":\"white\",\"zerolinewidth\":2}}},\"coloraxis\":{\"colorbar\":{\"title\":{\"text\":\"sum_ProjAnzWhg\"}},\"colorscale\":[[0.0,\"#00224e\"],[0.1111111111111111,\"#123570\"],[0.2222222222222222,\"#3b496c\"],[0.3333333333333333,\"#575d6d\"],[0.4444444444444444,\"#707173\"],[0.5555555555555556,\"#8a8678\"],[0.6666666666666666,\"#a59c74\"],[0.7777777777777778,\"#c3b369\"],[0.8888888888888888,\"#e1cc55\"],[1.0,\"#fee838\"]]},\"legend\":{\"tracegroupgap\":0},\"margin\":{\"t\":50,\"l\":25,\"r\":250,\"b\":25},\"height\":400,\"width\":1100},                        {\"responsive\": true}                    ).then(function(){\n",
       "                            \n",
       "var gd = document.getElementById('0b1f18c1-1e4c-42a6-a430-bc3d9deda936');\n",
       "var x = new MutationObserver(function (mutations, observer) {{\n",
       "        var display = window.getComputedStyle(gd).display;\n",
       "        if (!display || display === 'none') {{\n",
       "            console.log([gd, 'removed!']);\n",
       "            Plotly.purge(gd);\n",
       "            observer.disconnect();\n",
       "        }}\n",
       "}});\n",
       "\n",
       "// Listen for the removal of the full notebook cells\n",
       "var notebookContainer = gd.closest('#notebook-container');\n",
       "if (notebookContainer) {{\n",
       "    x.observe(notebookContainer, {childList: true});\n",
       "}}\n",
       "\n",
       "// Listen for the clearing of the current output cell\n",
       "var outputEl = gd.closest('.output');\n",
       "if (outputEl) {{\n",
       "    x.observe(outputEl, {childList: true});\n",
       "}}\n",
       "\n",
       "                        })                };                });            </script>        </div>"
      ]
     },
     "metadata": {},
     "output_type": "display_data"
    }
   ],
   "source": [
    "fig = px.treemap(myTreemapAgg.query('sum_ProjAnzWhg >0').reset_index(), path=[px.Constant(\"Anzahl Wohnungen nach Projektstatus, Kreis und Quartier\"),'ProjStatus', 'KreisLang', 'QuarLang']\n",
    "                 , values='sum_ProjAnzWhg'\n",
    "                 , color='sum_ProjAnzWhg'\n",
    "                 ## bei discrete scales (bei Klassen und Strings):                 \n",
    "                 #, color_discrete_map={'(?)':'lightgrey','EVP':'gold', 'SP':'#FF3030', 'PdA':'#EE3B3B', 'Grüne':'#A2CD5A','GLP':'#CAFF70','Die Mitte':'orange','FDP':'#104E8B','AL':'deeppink','SVP':'forestgreen', 'FL ZÜRI':'#8B864E','Volt':'#lightblue' }                \n",
    "                 ## bei continuous scales (bei Zahlenwerten):\n",
    "                , color_continuous_scale='cividis'\n",
    "                #, color_continuous_midpoint=np.average(df['AnzBestWir'], weights=df['AnzBestWir'])  \n",
    "                 ,height=400\n",
    "                 ,width=1100                 \n",
    "                )\n",
    "fig.update_traces(root_color=\"grey\")\n",
    "fig.update_layout(margin = dict(t=50, l=25, r=250, b=25))\n",
    "fig.show()"
   ]
  },
  {
   "cell_type": "markdown",
   "metadata": {},
   "source": [
    "#### Anzahl Wohnungen nach Projektstatus, Kreis und Quartier"
   ]
  },
  {
   "cell_type": "code",
   "execution_count": 45,
   "metadata": {},
   "outputs": [
    {
     "data": {
      "text/plain": [
       "QuarSort           int64\n",
       "QuarLang          object\n",
       "KreisSort          int64\n",
       "KreisLang         object\n",
       "ProjStatus        object\n",
       "ProjAnzGbd         int64\n",
       "ProjKosten         int64\n",
       "ProjRauminhalt     int64\n",
       "ProjAnzWhg         int64\n",
       "Whg_1_3_Zi         int64\n",
       "Whg_4plus_Zi       int64\n",
       "Jahr_str          object\n",
       "dtype: object"
      ]
     },
     "execution_count": 45,
     "metadata": {},
     "output_type": "execute_result"
    }
   ],
   "source": [
    "data2betested.dtypes"
   ]
  },
  {
   "cell_type": "code",
   "execution_count": 46,
   "metadata": {
    "tags": []
   },
   "outputs": [
    {
     "data": {
      "text/html": [
       "<div>\n",
       "<style scoped>\n",
       "    .dataframe tbody tr th:only-of-type {\n",
       "        vertical-align: middle;\n",
       "    }\n",
       "\n",
       "    .dataframe tbody tr th {\n",
       "        vertical-align: top;\n",
       "    }\n",
       "\n",
       "    .dataframe thead th {\n",
       "        text-align: right;\n",
       "    }\n",
       "</style>\n",
       "<table border=\"1\" class=\"dataframe\">\n",
       "  <thead>\n",
       "    <tr style=\"text-align: right;\">\n",
       "      <th></th>\n",
       "      <th>Jahr</th>\n",
       "      <th>QuarLang</th>\n",
       "      <th>KreisLang</th>\n",
       "      <th>ProjStatus</th>\n",
       "      <th>sum_ProjKosten</th>\n",
       "      <th>sum_Whg_1_3_Zi</th>\n",
       "      <th>sum_Whg_4plus_Zi</th>\n",
       "    </tr>\n",
       "  </thead>\n",
       "  <tbody>\n",
       "    <tr>\n",
       "      <th>0</th>\n",
       "      <td>2021-01-01</td>\n",
       "      <td>Seebach</td>\n",
       "      <td>Kreis 11</td>\n",
       "      <td>Im Bau</td>\n",
       "      <td>867143</td>\n",
       "      <td>1098</td>\n",
       "      <td>561</td>\n",
       "    </tr>\n",
       "    <tr>\n",
       "      <th>1</th>\n",
       "      <td>2021-01-01</td>\n",
       "      <td>Wollishofen</td>\n",
       "      <td>Kreis 2</td>\n",
       "      <td>Im Bau</td>\n",
       "      <td>320688</td>\n",
       "      <td>611</td>\n",
       "      <td>185</td>\n",
       "    </tr>\n",
       "    <tr>\n",
       "      <th>2</th>\n",
       "      <td>2021-01-01</td>\n",
       "      <td>Altstetten</td>\n",
       "      <td>Kreis 9</td>\n",
       "      <td>Im Bau</td>\n",
       "      <td>593275</td>\n",
       "      <td>601</td>\n",
       "      <td>181</td>\n",
       "    </tr>\n",
       "  </tbody>\n",
       "</table>\n",
       "</div>"
      ],
      "text/plain": [
       "        Jahr     QuarLang KreisLang ProjStatus  sum_ProjKosten  sum_Whg_1_3_Zi  sum_Whg_4plus_Zi\n",
       "0 2021-01-01      Seebach  Kreis 11     Im Bau          867143            1098               561\n",
       "1 2021-01-01  Wollishofen   Kreis 2     Im Bau          320688             611               185\n",
       "2 2021-01-01   Altstetten   Kreis 9     Im Bau          593275             601               181"
      ]
     },
     "execution_count": 46,
     "metadata": {},
     "output_type": "execute_result"
    }
   ],
   "source": [
    "myTreemapAgg = data2betested.loc[\"2021\"]  \\\n",
    "    .groupby(['Jahr', 'QuarLang', 'KreisLang', 'ProjStatus']) \\\n",
    "    .agg(sum_ProjKosten=('ProjKosten', 'sum'), sum_Whg_1_3_Zi=('Whg_1_3_Zi', 'sum'),sum_Whg_4plus_Zi=('Whg_4plus_Zi', 'sum'))\\\n",
    "    .sort_values('sum_Whg_1_3_Zi', ascending=False) \n",
    "\n",
    "myTreemapAgg.reset_index().head(3)"
   ]
  },
  {
   "cell_type": "code",
   "execution_count": 47,
   "metadata": {},
   "outputs": [
    {
     "data": {
      "application/vnd.plotly.v1+json": {
       "config": {
        "plotlyServerURL": "https://plot.ly"
       },
       "data": [
        {
         "branchvalues": "total",
         "customdata": [
          [
           "Im Bau"
          ],
          [
           "Im Bau"
          ],
          [
           "Fertigerstellt"
          ],
          [
           "Bewilligt"
          ],
          [
           "Bewilligt"
          ],
          [
           "Im Bau"
          ],
          [
           "Fertigerstellt"
          ],
          [
           "Im Bau"
          ],
          [
           "Bewilligt"
          ],
          [
           "Im Bau"
          ],
          [
           "Fertigerstellt"
          ],
          [
           "Im Bau"
          ],
          [
           "Fertigerstellt"
          ],
          [
           "Im Bau"
          ],
          [
           "Im Bau"
          ],
          [
           "Im Bau"
          ],
          [
           "Im Bau"
          ],
          [
           "Bewilligt"
          ],
          [
           "Bewilligt"
          ],
          [
           "Fertigerstellt"
          ],
          [
           "Bewilligt"
          ],
          [
           "Fertigerstellt"
          ],
          [
           "Bewilligt"
          ],
          [
           "Bewilligt"
          ],
          [
           "Im Bau"
          ],
          [
           "Fertigerstellt"
          ],
          [
           "Bewilligt"
          ],
          [
           "Fertigerstellt"
          ],
          [
           "Bewilligt"
          ],
          [
           "Fertigerstellt"
          ],
          [
           "Im Bau"
          ],
          [
           "Bewilligt"
          ],
          [
           "Bewilligt"
          ],
          [
           "Fertigerstellt"
          ],
          [
           "Im Bau"
          ],
          [
           "Fertigerstellt"
          ],
          [
           "Im Bau"
          ],
          [
           "Fertigerstellt"
          ],
          [
           "Im Bau"
          ],
          [
           "Im Bau"
          ],
          [
           "Im Bau"
          ],
          [
           "Im Bau"
          ],
          [
           "Fertigerstellt"
          ],
          [
           "Bewilligt"
          ],
          [
           "Im Bau"
          ],
          [
           "Bewilligt"
          ],
          [
           "Bewilligt"
          ],
          [
           "Fertigerstellt"
          ],
          [
           "Fertigerstellt"
          ],
          [
           "Im Bau"
          ],
          [
           "Bewilligt"
          ],
          [
           "Fertigerstellt"
          ],
          [
           "Bewilligt"
          ],
          [
           "Fertigerstellt"
          ],
          [
           "Im Bau"
          ],
          [
           "Fertigerstellt"
          ],
          [
           "Fertigerstellt"
          ],
          [
           "Im Bau"
          ],
          [
           "Bewilligt"
          ],
          [
           "Im Bau"
          ],
          [
           "Bewilligt"
          ],
          [
           "Im Bau"
          ],
          [
           "Fertigerstellt"
          ],
          [
           "Fertigerstellt"
          ],
          [
           "Bewilligt"
          ],
          [
           "Fertigerstellt"
          ],
          [
           "Im Bau"
          ],
          [
           "Im Bau"
          ],
          [
           "Im Bau"
          ],
          [
           "Fertigerstellt"
          ],
          [
           "Bewilligt"
          ],
          [
           "Im Bau"
          ],
          [
           "Bewilligt"
          ],
          [
           "Fertigerstellt"
          ],
          [
           "Im Bau"
          ],
          [
           "Fertigerstellt"
          ],
          [
           "Im Bau"
          ],
          [
           "Bewilligt"
          ],
          [
           "Fertigerstellt"
          ],
          [
           "Im Bau"
          ],
          [
           "Bewilligt"
          ],
          [
           "Im Bau"
          ],
          [
           "Bewilligt"
          ],
          [
           "Fertigerstellt"
          ],
          [
           "Im Bau"
          ],
          [
           "Bewilligt"
          ],
          [
           "Fertigerstellt"
          ],
          [
           "Im Bau"
          ],
          [
           "Bewilligt"
          ],
          [
           "Fertigerstellt"
          ],
          [
           "Im Bau"
          ],
          [
           "Bewilligt"
          ],
          [
           "Fertigerstellt"
          ],
          [
           "Im Bau"
          ],
          [
           "Bewilligt"
          ],
          [
           "Fertigerstellt"
          ],
          [
           "Im Bau"
          ],
          [
           "Bewilligt"
          ],
          [
           "Fertigerstellt"
          ],
          [
           "Im Bau"
          ],
          [
           "Bewilligt"
          ],
          [
           "Fertigerstellt"
          ],
          [
           "Im Bau"
          ],
          [
           "(?)"
          ]
         ],
         "domain": {
          "x": [
           0,
           1
          ],
          "y": [
           0,
           1
          ]
         },
         "hovertemplate": "labels=%{label}<br>sum_ProjKosten=%{value}<br>parent=%{parent}<br>id=%{id}<br>ProjStatus=%{customdata[0]}<extra></extra>",
         "ids": [
          "Anzahl Wohnungen nach Projektstatus, Kreis und Quartier/Im Bau/Kreis 2/Wollishofen",
          "Anzahl Wohnungen nach Projektstatus, Kreis und Quartier/Im Bau/Kreis 6/Oberstrass",
          "Anzahl Wohnungen nach Projektstatus, Kreis und Quartier/Fertigerstellt/Kreis 6/Oberstrass",
          "Anzahl Wohnungen nach Projektstatus, Kreis und Quartier/Bewilligt/Kreis 6/Oberstrass",
          "Anzahl Wohnungen nach Projektstatus, Kreis und Quartier/Bewilligt/Kreis 11/Seebach",
          "Anzahl Wohnungen nach Projektstatus, Kreis und Quartier/Im Bau/Kreis 11/Seebach",
          "Anzahl Wohnungen nach Projektstatus, Kreis und Quartier/Fertigerstellt/Kreis 8/Seefeld",
          "Anzahl Wohnungen nach Projektstatus, Kreis und Quartier/Im Bau/Kreis 3/Sihlfeld",
          "Anzahl Wohnungen nach Projektstatus, Kreis und Quartier/Bewilligt/Kreis 7/Hottingen",
          "Anzahl Wohnungen nach Projektstatus, Kreis und Quartier/Im Bau/Kreis 12/Hirzenbach",
          "Anzahl Wohnungen nach Projektstatus, Kreis und Quartier/Fertigerstellt/Kreis 7/Hirslanden",
          "Anzahl Wohnungen nach Projektstatus, Kreis und Quartier/Im Bau/Kreis 3/Friesenberg",
          "Anzahl Wohnungen nach Projektstatus, Kreis und Quartier/Fertigerstellt/Kreis 7/Fluntern",
          "Anzahl Wohnungen nach Projektstatus, Kreis und Quartier/Im Bau/Kreis 8/Weinegg",
          "Anzahl Wohnungen nach Projektstatus, Kreis und Quartier/Im Bau/Kreis 4/Hard",
          "Anzahl Wohnungen nach Projektstatus, Kreis und Quartier/Im Bau/Kreis 3/Alt-Wiedikon",
          "Anzahl Wohnungen nach Projektstatus, Kreis und Quartier/Im Bau/Kreis 9/Albisrieden",
          "Anzahl Wohnungen nach Projektstatus, Kreis und Quartier/Bewilligt/Kreis 4/Werd",
          "Anzahl Wohnungen nach Projektstatus, Kreis und Quartier/Bewilligt/Kreis 10/Wipkingen",
          "Anzahl Wohnungen nach Projektstatus, Kreis und Quartier/Fertigerstellt/Kreis 12/Schwamendingen-Mitte",
          "Anzahl Wohnungen nach Projektstatus, Kreis und Quartier/Bewilligt/Kreis 5/Gewerbeschule",
          "Anzahl Wohnungen nach Projektstatus, Kreis und Quartier/Fertigerstellt/Kreis 11/Oerlikon",
          "Anzahl Wohnungen nach Projektstatus, Kreis und Quartier/Bewilligt/Kreis 11/Oerlikon",
          "Anzahl Wohnungen nach Projektstatus, Kreis und Quartier/Bewilligt/Kreis 2/Wollishofen",
          "Anzahl Wohnungen nach Projektstatus, Kreis und Quartier/Im Bau/Kreis 7/Witikon",
          "Anzahl Wohnungen nach Projektstatus, Kreis und Quartier/Fertigerstellt/Kreis 7/Witikon",
          "Anzahl Wohnungen nach Projektstatus, Kreis und Quartier/Bewilligt/Kreis 7/Witikon",
          "Anzahl Wohnungen nach Projektstatus, Kreis und Quartier/Fertigerstellt/Kreis 11/Seebach",
          "Anzahl Wohnungen nach Projektstatus, Kreis und Quartier/Bewilligt/Kreis 2/Leimbach",
          "Anzahl Wohnungen nach Projektstatus, Kreis und Quartier/Fertigerstellt/Kreis 2/Wollishofen",
          "Anzahl Wohnungen nach Projektstatus, Kreis und Quartier/Im Bau/Kreis 10/Höngg",
          "Anzahl Wohnungen nach Projektstatus, Kreis und Quartier/Bewilligt/Kreis 2/Enge",
          "Anzahl Wohnungen nach Projektstatus, Kreis und Quartier/Bewilligt/Kreis 3/Alt-Wiedikon",
          "Anzahl Wohnungen nach Projektstatus, Kreis und Quartier/Fertigerstellt/Kreis 4/Werd",
          "Anzahl Wohnungen nach Projektstatus, Kreis und Quartier/Im Bau/Kreis 10/Wipkingen",
          "Anzahl Wohnungen nach Projektstatus, Kreis und Quartier/Fertigerstellt/Kreis 1/Hochschulen",
          "Anzahl Wohnungen nach Projektstatus, Kreis und Quartier/Im Bau/Kreis 7/Fluntern",
          "Anzahl Wohnungen nach Projektstatus, Kreis und Quartier/Fertigerstellt/Kreis 6/Unterstrass",
          "Anzahl Wohnungen nach Projektstatus, Kreis und Quartier/Im Bau/Kreis 4/Werd",
          "Anzahl Wohnungen nach Projektstatus, Kreis und Quartier/Im Bau/Kreis 6/Unterstrass",
          "Anzahl Wohnungen nach Projektstatus, Kreis und Quartier/Im Bau/Kreis 7/Hottingen",
          "Anzahl Wohnungen nach Projektstatus, Kreis und Quartier/Im Bau/Kreis 2/Enge",
          "Anzahl Wohnungen nach Projektstatus, Kreis und Quartier/Fertigerstellt/Kreis 8/Weinegg",
          "Anzahl Wohnungen nach Projektstatus, Kreis und Quartier/Bewilligt/Kreis 6/Unterstrass",
          "Anzahl Wohnungen nach Projektstatus, Kreis und Quartier/Im Bau/Kreis 12/Schwamendingen-Mitte",
          "Anzahl Wohnungen nach Projektstatus, Kreis und Quartier/Bewilligt/Kreis 8/Weinegg",
          "Anzahl Wohnungen nach Projektstatus, Kreis und Quartier/Bewilligt/Kreis 11/Affoltern",
          "Anzahl Wohnungen nach Projektstatus, Kreis und Quartier/Fertigerstellt/Kreis 1/Lindenhof",
          "Anzahl Wohnungen nach Projektstatus, Kreis und Quartier/Fertigerstellt/Kreis 11/Affoltern",
          "Anzahl Wohnungen nach Projektstatus, Kreis und Quartier/Im Bau/Kreis 11/Affoltern",
          "Anzahl Wohnungen nach Projektstatus, Kreis und Quartier/Bewilligt/Kreis 9/Albisrieden",
          "Anzahl Wohnungen nach Projektstatus, Kreis und Quartier/Fertigerstellt/Kreis 9/Albisrieden",
          "Anzahl Wohnungen nach Projektstatus, Kreis und Quartier/Bewilligt/Kreis 9/Altstetten",
          "Anzahl Wohnungen nach Projektstatus, Kreis und Quartier/Fertigerstellt/Kreis 9/Altstetten",
          "Anzahl Wohnungen nach Projektstatus, Kreis und Quartier/Im Bau/Kreis 9/Altstetten",
          "Anzahl Wohnungen nach Projektstatus, Kreis und Quartier/Fertigerstellt/Kreis 2/Enge",
          "Anzahl Wohnungen nach Projektstatus, Kreis und Quartier/Fertigerstellt/Kreis 5/Escher Wyss",
          "Anzahl Wohnungen nach Projektstatus, Kreis und Quartier/Im Bau/Kreis 5/Escher Wyss",
          "Anzahl Wohnungen nach Projektstatus, Kreis und Quartier/Bewilligt/Kreis 7/Fluntern",
          "Anzahl Wohnungen nach Projektstatus, Kreis und Quartier/Im Bau/Kreis 5/Gewerbeschule",
          "Anzahl Wohnungen nach Projektstatus, Kreis und Quartier/Bewilligt/Kreis 7/Hirslanden",
          "Anzahl Wohnungen nach Projektstatus, Kreis und Quartier/Im Bau/Kreis 7/Hirslanden",
          "Anzahl Wohnungen nach Projektstatus, Kreis und Quartier/Fertigerstellt/Kreis 12/Hirzenbach",
          "Anzahl Wohnungen nach Projektstatus, Kreis und Quartier/Fertigerstellt/Kreis 7/Hottingen",
          "Anzahl Wohnungen nach Projektstatus, Kreis und Quartier/Bewilligt/Kreis 10/Höngg",
          "Anzahl Wohnungen nach Projektstatus, Kreis und Quartier/Fertigerstellt/Kreis 2/Leimbach",
          "Anzahl Wohnungen nach Projektstatus, Kreis und Quartier/Im Bau/Kreis 2/Leimbach",
          "Anzahl Wohnungen nach Projektstatus, Kreis und Quartier/Im Bau/Kreis 11/Oerlikon",
          "Anzahl Wohnungen nach Projektstatus, Kreis und Quartier/Im Bau/Kreis 4/Langstrasse",
          "Anzahl Wohnungen nach Projektstatus, Kreis und Quartier/Fertigerstellt/Kreis 1",
          "Anzahl Wohnungen nach Projektstatus, Kreis und Quartier/Bewilligt/Kreis 10",
          "Anzahl Wohnungen nach Projektstatus, Kreis und Quartier/Im Bau/Kreis 10",
          "Anzahl Wohnungen nach Projektstatus, Kreis und Quartier/Bewilligt/Kreis 11",
          "Anzahl Wohnungen nach Projektstatus, Kreis und Quartier/Fertigerstellt/Kreis 11",
          "Anzahl Wohnungen nach Projektstatus, Kreis und Quartier/Im Bau/Kreis 11",
          "Anzahl Wohnungen nach Projektstatus, Kreis und Quartier/Fertigerstellt/Kreis 12",
          "Anzahl Wohnungen nach Projektstatus, Kreis und Quartier/Im Bau/Kreis 12",
          "Anzahl Wohnungen nach Projektstatus, Kreis und Quartier/Bewilligt/Kreis 2",
          "Anzahl Wohnungen nach Projektstatus, Kreis und Quartier/Fertigerstellt/Kreis 2",
          "Anzahl Wohnungen nach Projektstatus, Kreis und Quartier/Im Bau/Kreis 2",
          "Anzahl Wohnungen nach Projektstatus, Kreis und Quartier/Bewilligt/Kreis 3",
          "Anzahl Wohnungen nach Projektstatus, Kreis und Quartier/Im Bau/Kreis 3",
          "Anzahl Wohnungen nach Projektstatus, Kreis und Quartier/Bewilligt/Kreis 4",
          "Anzahl Wohnungen nach Projektstatus, Kreis und Quartier/Fertigerstellt/Kreis 4",
          "Anzahl Wohnungen nach Projektstatus, Kreis und Quartier/Im Bau/Kreis 4",
          "Anzahl Wohnungen nach Projektstatus, Kreis und Quartier/Bewilligt/Kreis 5",
          "Anzahl Wohnungen nach Projektstatus, Kreis und Quartier/Fertigerstellt/Kreis 5",
          "Anzahl Wohnungen nach Projektstatus, Kreis und Quartier/Im Bau/Kreis 5",
          "Anzahl Wohnungen nach Projektstatus, Kreis und Quartier/Bewilligt/Kreis 6",
          "Anzahl Wohnungen nach Projektstatus, Kreis und Quartier/Fertigerstellt/Kreis 6",
          "Anzahl Wohnungen nach Projektstatus, Kreis und Quartier/Im Bau/Kreis 6",
          "Anzahl Wohnungen nach Projektstatus, Kreis und Quartier/Bewilligt/Kreis 7",
          "Anzahl Wohnungen nach Projektstatus, Kreis und Quartier/Fertigerstellt/Kreis 7",
          "Anzahl Wohnungen nach Projektstatus, Kreis und Quartier/Im Bau/Kreis 7",
          "Anzahl Wohnungen nach Projektstatus, Kreis und Quartier/Bewilligt/Kreis 8",
          "Anzahl Wohnungen nach Projektstatus, Kreis und Quartier/Fertigerstellt/Kreis 8",
          "Anzahl Wohnungen nach Projektstatus, Kreis und Quartier/Im Bau/Kreis 8",
          "Anzahl Wohnungen nach Projektstatus, Kreis und Quartier/Bewilligt/Kreis 9",
          "Anzahl Wohnungen nach Projektstatus, Kreis und Quartier/Fertigerstellt/Kreis 9",
          "Anzahl Wohnungen nach Projektstatus, Kreis und Quartier/Im Bau/Kreis 9",
          "Anzahl Wohnungen nach Projektstatus, Kreis und Quartier/Bewilligt",
          "Anzahl Wohnungen nach Projektstatus, Kreis und Quartier/Fertigerstellt",
          "Anzahl Wohnungen nach Projektstatus, Kreis und Quartier/Im Bau",
          "Anzahl Wohnungen nach Projektstatus, Kreis und Quartier"
         ],
         "labels": [
          "Wollishofen",
          "Oberstrass",
          "Oberstrass",
          "Oberstrass",
          "Seebach",
          "Seebach",
          "Seefeld",
          "Sihlfeld",
          "Hottingen",
          "Hirzenbach",
          "Hirslanden",
          "Friesenberg",
          "Fluntern",
          "Weinegg",
          "Hard",
          "Alt-Wiedikon",
          "Albisrieden",
          "Werd",
          "Wipkingen",
          "Schwamendingen-Mitte",
          "Gewerbeschule",
          "Oerlikon",
          "Oerlikon",
          "Wollishofen",
          "Witikon",
          "Witikon",
          "Witikon",
          "Seebach",
          "Leimbach",
          "Wollishofen",
          "Höngg",
          "Enge",
          "Alt-Wiedikon",
          "Werd",
          "Wipkingen",
          "Hochschulen",
          "Fluntern",
          "Unterstrass",
          "Werd",
          "Unterstrass",
          "Hottingen",
          "Enge",
          "Weinegg",
          "Unterstrass",
          "Schwamendingen-Mitte",
          "Weinegg",
          "Affoltern",
          "Lindenhof",
          "Affoltern",
          "Affoltern",
          "Albisrieden",
          "Albisrieden",
          "Altstetten",
          "Altstetten",
          "Altstetten",
          "Enge",
          "Escher Wyss",
          "Escher Wyss",
          "Fluntern",
          "Gewerbeschule",
          "Hirslanden",
          "Hirslanden",
          "Hirzenbach",
          "Hottingen",
          "Höngg",
          "Leimbach",
          "Leimbach",
          "Oerlikon",
          "Langstrasse",
          "Kreis 1",
          "Kreis 10",
          "Kreis 10",
          "Kreis 11",
          "Kreis 11",
          "Kreis 11",
          "Kreis 12",
          "Kreis 12",
          "Kreis 2",
          "Kreis 2",
          "Kreis 2",
          "Kreis 3",
          "Kreis 3",
          "Kreis 4",
          "Kreis 4",
          "Kreis 4",
          "Kreis 5",
          "Kreis 5",
          "Kreis 5",
          "Kreis 6",
          "Kreis 6",
          "Kreis 6",
          "Kreis 7",
          "Kreis 7",
          "Kreis 7",
          "Kreis 8",
          "Kreis 8",
          "Kreis 8",
          "Kreis 9",
          "Kreis 9",
          "Kreis 9",
          "Bewilligt",
          "Fertigerstellt",
          "Im Bau",
          "Anzahl Wohnungen nach Projektstatus, Kreis und Quartier"
         ],
         "marker": {
          "colors": [
           "#636efa",
           "#636efa",
           "#EF553B",
           "#00cc96",
           "#00cc96",
           "#636efa",
           "#EF553B",
           "#636efa",
           "#00cc96",
           "#636efa",
           "#EF553B",
           "#636efa",
           "#EF553B",
           "#636efa",
           "#636efa",
           "#636efa",
           "#636efa",
           "#00cc96",
           "#00cc96",
           "#EF553B",
           "#00cc96",
           "#EF553B",
           "#00cc96",
           "#00cc96",
           "#636efa",
           "#EF553B",
           "#00cc96",
           "#EF553B",
           "#00cc96",
           "#EF553B",
           "#636efa",
           "#00cc96",
           "#00cc96",
           "#EF553B",
           "#636efa",
           "#EF553B",
           "#636efa",
           "#EF553B",
           "#636efa",
           "#636efa",
           "#636efa",
           "#636efa",
           "#EF553B",
           "#00cc96",
           "#636efa",
           "#00cc96",
           "#00cc96",
           "#EF553B",
           "#EF553B",
           "#636efa",
           "#00cc96",
           "#EF553B",
           "#00cc96",
           "#EF553B",
           "#636efa",
           "#EF553B",
           "#EF553B",
           "#636efa",
           "#00cc96",
           "#636efa",
           "#00cc96",
           "#636efa",
           "#EF553B",
           "#EF553B",
           "#00cc96",
           "#EF553B",
           "#636efa",
           "#636efa",
           "#636efa",
           "#EF553B",
           "#00cc96",
           "#636efa",
           "#00cc96",
           "#EF553B",
           "#636efa",
           "#EF553B",
           "#636efa",
           "#00cc96",
           "#EF553B",
           "#636efa",
           "#00cc96",
           "#636efa",
           "#00cc96",
           "#EF553B",
           "#636efa",
           "#00cc96",
           "#EF553B",
           "#636efa",
           "#00cc96",
           "#EF553B",
           "#636efa",
           "#00cc96",
           "#EF553B",
           "#636efa",
           "#00cc96",
           "#EF553B",
           "#636efa",
           "#00cc96",
           "#EF553B",
           "#636efa",
           "#00cc96",
           "#EF553B",
           "#636efa",
           "#ab63fa"
          ]
         },
         "name": "",
         "parents": [
          "Anzahl Wohnungen nach Projektstatus, Kreis und Quartier/Im Bau/Kreis 2",
          "Anzahl Wohnungen nach Projektstatus, Kreis und Quartier/Im Bau/Kreis 6",
          "Anzahl Wohnungen nach Projektstatus, Kreis und Quartier/Fertigerstellt/Kreis 6",
          "Anzahl Wohnungen nach Projektstatus, Kreis und Quartier/Bewilligt/Kreis 6",
          "Anzahl Wohnungen nach Projektstatus, Kreis und Quartier/Bewilligt/Kreis 11",
          "Anzahl Wohnungen nach Projektstatus, Kreis und Quartier/Im Bau/Kreis 11",
          "Anzahl Wohnungen nach Projektstatus, Kreis und Quartier/Fertigerstellt/Kreis 8",
          "Anzahl Wohnungen nach Projektstatus, Kreis und Quartier/Im Bau/Kreis 3",
          "Anzahl Wohnungen nach Projektstatus, Kreis und Quartier/Bewilligt/Kreis 7",
          "Anzahl Wohnungen nach Projektstatus, Kreis und Quartier/Im Bau/Kreis 12",
          "Anzahl Wohnungen nach Projektstatus, Kreis und Quartier/Fertigerstellt/Kreis 7",
          "Anzahl Wohnungen nach Projektstatus, Kreis und Quartier/Im Bau/Kreis 3",
          "Anzahl Wohnungen nach Projektstatus, Kreis und Quartier/Fertigerstellt/Kreis 7",
          "Anzahl Wohnungen nach Projektstatus, Kreis und Quartier/Im Bau/Kreis 8",
          "Anzahl Wohnungen nach Projektstatus, Kreis und Quartier/Im Bau/Kreis 4",
          "Anzahl Wohnungen nach Projektstatus, Kreis und Quartier/Im Bau/Kreis 3",
          "Anzahl Wohnungen nach Projektstatus, Kreis und Quartier/Im Bau/Kreis 9",
          "Anzahl Wohnungen nach Projektstatus, Kreis und Quartier/Bewilligt/Kreis 4",
          "Anzahl Wohnungen nach Projektstatus, Kreis und Quartier/Bewilligt/Kreis 10",
          "Anzahl Wohnungen nach Projektstatus, Kreis und Quartier/Fertigerstellt/Kreis 12",
          "Anzahl Wohnungen nach Projektstatus, Kreis und Quartier/Bewilligt/Kreis 5",
          "Anzahl Wohnungen nach Projektstatus, Kreis und Quartier/Fertigerstellt/Kreis 11",
          "Anzahl Wohnungen nach Projektstatus, Kreis und Quartier/Bewilligt/Kreis 11",
          "Anzahl Wohnungen nach Projektstatus, Kreis und Quartier/Bewilligt/Kreis 2",
          "Anzahl Wohnungen nach Projektstatus, Kreis und Quartier/Im Bau/Kreis 7",
          "Anzahl Wohnungen nach Projektstatus, Kreis und Quartier/Fertigerstellt/Kreis 7",
          "Anzahl Wohnungen nach Projektstatus, Kreis und Quartier/Bewilligt/Kreis 7",
          "Anzahl Wohnungen nach Projektstatus, Kreis und Quartier/Fertigerstellt/Kreis 11",
          "Anzahl Wohnungen nach Projektstatus, Kreis und Quartier/Bewilligt/Kreis 2",
          "Anzahl Wohnungen nach Projektstatus, Kreis und Quartier/Fertigerstellt/Kreis 2",
          "Anzahl Wohnungen nach Projektstatus, Kreis und Quartier/Im Bau/Kreis 10",
          "Anzahl Wohnungen nach Projektstatus, Kreis und Quartier/Bewilligt/Kreis 2",
          "Anzahl Wohnungen nach Projektstatus, Kreis und Quartier/Bewilligt/Kreis 3",
          "Anzahl Wohnungen nach Projektstatus, Kreis und Quartier/Fertigerstellt/Kreis 4",
          "Anzahl Wohnungen nach Projektstatus, Kreis und Quartier/Im Bau/Kreis 10",
          "Anzahl Wohnungen nach Projektstatus, Kreis und Quartier/Fertigerstellt/Kreis 1",
          "Anzahl Wohnungen nach Projektstatus, Kreis und Quartier/Im Bau/Kreis 7",
          "Anzahl Wohnungen nach Projektstatus, Kreis und Quartier/Fertigerstellt/Kreis 6",
          "Anzahl Wohnungen nach Projektstatus, Kreis und Quartier/Im Bau/Kreis 4",
          "Anzahl Wohnungen nach Projektstatus, Kreis und Quartier/Im Bau/Kreis 6",
          "Anzahl Wohnungen nach Projektstatus, Kreis und Quartier/Im Bau/Kreis 7",
          "Anzahl Wohnungen nach Projektstatus, Kreis und Quartier/Im Bau/Kreis 2",
          "Anzahl Wohnungen nach Projektstatus, Kreis und Quartier/Fertigerstellt/Kreis 8",
          "Anzahl Wohnungen nach Projektstatus, Kreis und Quartier/Bewilligt/Kreis 6",
          "Anzahl Wohnungen nach Projektstatus, Kreis und Quartier/Im Bau/Kreis 12",
          "Anzahl Wohnungen nach Projektstatus, Kreis und Quartier/Bewilligt/Kreis 8",
          "Anzahl Wohnungen nach Projektstatus, Kreis und Quartier/Bewilligt/Kreis 11",
          "Anzahl Wohnungen nach Projektstatus, Kreis und Quartier/Fertigerstellt/Kreis 1",
          "Anzahl Wohnungen nach Projektstatus, Kreis und Quartier/Fertigerstellt/Kreis 11",
          "Anzahl Wohnungen nach Projektstatus, Kreis und Quartier/Im Bau/Kreis 11",
          "Anzahl Wohnungen nach Projektstatus, Kreis und Quartier/Bewilligt/Kreis 9",
          "Anzahl Wohnungen nach Projektstatus, Kreis und Quartier/Fertigerstellt/Kreis 9",
          "Anzahl Wohnungen nach Projektstatus, Kreis und Quartier/Bewilligt/Kreis 9",
          "Anzahl Wohnungen nach Projektstatus, Kreis und Quartier/Fertigerstellt/Kreis 9",
          "Anzahl Wohnungen nach Projektstatus, Kreis und Quartier/Im Bau/Kreis 9",
          "Anzahl Wohnungen nach Projektstatus, Kreis und Quartier/Fertigerstellt/Kreis 2",
          "Anzahl Wohnungen nach Projektstatus, Kreis und Quartier/Fertigerstellt/Kreis 5",
          "Anzahl Wohnungen nach Projektstatus, Kreis und Quartier/Im Bau/Kreis 5",
          "Anzahl Wohnungen nach Projektstatus, Kreis und Quartier/Bewilligt/Kreis 7",
          "Anzahl Wohnungen nach Projektstatus, Kreis und Quartier/Im Bau/Kreis 5",
          "Anzahl Wohnungen nach Projektstatus, Kreis und Quartier/Bewilligt/Kreis 7",
          "Anzahl Wohnungen nach Projektstatus, Kreis und Quartier/Im Bau/Kreis 7",
          "Anzahl Wohnungen nach Projektstatus, Kreis und Quartier/Fertigerstellt/Kreis 12",
          "Anzahl Wohnungen nach Projektstatus, Kreis und Quartier/Fertigerstellt/Kreis 7",
          "Anzahl Wohnungen nach Projektstatus, Kreis und Quartier/Bewilligt/Kreis 10",
          "Anzahl Wohnungen nach Projektstatus, Kreis und Quartier/Fertigerstellt/Kreis 2",
          "Anzahl Wohnungen nach Projektstatus, Kreis und Quartier/Im Bau/Kreis 2",
          "Anzahl Wohnungen nach Projektstatus, Kreis und Quartier/Im Bau/Kreis 11",
          "Anzahl Wohnungen nach Projektstatus, Kreis und Quartier/Im Bau/Kreis 4",
          "Anzahl Wohnungen nach Projektstatus, Kreis und Quartier/Fertigerstellt",
          "Anzahl Wohnungen nach Projektstatus, Kreis und Quartier/Bewilligt",
          "Anzahl Wohnungen nach Projektstatus, Kreis und Quartier/Im Bau",
          "Anzahl Wohnungen nach Projektstatus, Kreis und Quartier/Bewilligt",
          "Anzahl Wohnungen nach Projektstatus, Kreis und Quartier/Fertigerstellt",
          "Anzahl Wohnungen nach Projektstatus, Kreis und Quartier/Im Bau",
          "Anzahl Wohnungen nach Projektstatus, Kreis und Quartier/Fertigerstellt",
          "Anzahl Wohnungen nach Projektstatus, Kreis und Quartier/Im Bau",
          "Anzahl Wohnungen nach Projektstatus, Kreis und Quartier/Bewilligt",
          "Anzahl Wohnungen nach Projektstatus, Kreis und Quartier/Fertigerstellt",
          "Anzahl Wohnungen nach Projektstatus, Kreis und Quartier/Im Bau",
          "Anzahl Wohnungen nach Projektstatus, Kreis und Quartier/Bewilligt",
          "Anzahl Wohnungen nach Projektstatus, Kreis und Quartier/Im Bau",
          "Anzahl Wohnungen nach Projektstatus, Kreis und Quartier/Bewilligt",
          "Anzahl Wohnungen nach Projektstatus, Kreis und Quartier/Fertigerstellt",
          "Anzahl Wohnungen nach Projektstatus, Kreis und Quartier/Im Bau",
          "Anzahl Wohnungen nach Projektstatus, Kreis und Quartier/Bewilligt",
          "Anzahl Wohnungen nach Projektstatus, Kreis und Quartier/Fertigerstellt",
          "Anzahl Wohnungen nach Projektstatus, Kreis und Quartier/Im Bau",
          "Anzahl Wohnungen nach Projektstatus, Kreis und Quartier/Bewilligt",
          "Anzahl Wohnungen nach Projektstatus, Kreis und Quartier/Fertigerstellt",
          "Anzahl Wohnungen nach Projektstatus, Kreis und Quartier/Im Bau",
          "Anzahl Wohnungen nach Projektstatus, Kreis und Quartier/Bewilligt",
          "Anzahl Wohnungen nach Projektstatus, Kreis und Quartier/Fertigerstellt",
          "Anzahl Wohnungen nach Projektstatus, Kreis und Quartier/Im Bau",
          "Anzahl Wohnungen nach Projektstatus, Kreis und Quartier/Bewilligt",
          "Anzahl Wohnungen nach Projektstatus, Kreis und Quartier/Fertigerstellt",
          "Anzahl Wohnungen nach Projektstatus, Kreis und Quartier/Im Bau",
          "Anzahl Wohnungen nach Projektstatus, Kreis und Quartier/Bewilligt",
          "Anzahl Wohnungen nach Projektstatus, Kreis und Quartier/Fertigerstellt",
          "Anzahl Wohnungen nach Projektstatus, Kreis und Quartier/Im Bau",
          "Anzahl Wohnungen nach Projektstatus, Kreis und Quartier",
          "Anzahl Wohnungen nach Projektstatus, Kreis und Quartier",
          "Anzahl Wohnungen nach Projektstatus, Kreis und Quartier",
          ""
         ],
         "root": {
          "color": "grey"
         },
         "type": "treemap",
         "values": [
          320688,
          49900,
          216309,
          53700,
          18894,
          867143,
          95867,
          46200,
          131500,
          73696,
          34867,
          18260,
          26196,
          623100,
          734633,
          56140,
          347165,
          31524,
          19075,
          10100,
          38000,
          25820,
          131880,
          70846,
          93442,
          13626,
          33442,
          103780,
          3400,
          349456,
          103017,
          48895,
          134306,
          36000,
          33325,
          180000,
          63335,
          91245,
          13000,
          116700,
          38004,
          239800,
          2800,
          88254,
          120100,
          18000,
          6500,
          11630,
          10718,
          289760,
          71095,
          38700,
          165000,
          159670,
          593275,
          49480,
          190700,
          245415,
          22550,
          26450,
          22280,
          57200,
          11000,
          12016,
          18410,
          56200,
          10194,
          136891,
          47900,
          191630,
          37485,
          136342,
          157274,
          140318,
          1293794,
          21100,
          193796,
          123141,
          455136,
          570682,
          134306,
          120600,
          31524,
          36000,
          795533,
          38000,
          190700,
          271865,
          141954,
          307554,
          166600,
          209772,
          86705,
          251981,
          18000,
          98667,
          623100,
          236095,
          198370,
          940440,
          1127551,
          1726180,
          5364733,
          8218464
         ]
        }
       ],
       "layout": {
        "height": 400,
        "legend": {
         "tracegroupgap": 0
        },
        "margin": {
         "b": 25,
         "l": 25,
         "r": 250,
         "t": 50
        },
        "template": {
         "data": {
          "bar": [
           {
            "error_x": {
             "color": "#2a3f5f"
            },
            "error_y": {
             "color": "#2a3f5f"
            },
            "marker": {
             "line": {
              "color": "#E5ECF6",
              "width": 0.5
             },
             "pattern": {
              "fillmode": "overlay",
              "size": 10,
              "solidity": 0.2
             }
            },
            "type": "bar"
           }
          ],
          "barpolar": [
           {
            "marker": {
             "line": {
              "color": "#E5ECF6",
              "width": 0.5
             },
             "pattern": {
              "fillmode": "overlay",
              "size": 10,
              "solidity": 0.2
             }
            },
            "type": "barpolar"
           }
          ],
          "carpet": [
           {
            "aaxis": {
             "endlinecolor": "#2a3f5f",
             "gridcolor": "white",
             "linecolor": "white",
             "minorgridcolor": "white",
             "startlinecolor": "#2a3f5f"
            },
            "baxis": {
             "endlinecolor": "#2a3f5f",
             "gridcolor": "white",
             "linecolor": "white",
             "minorgridcolor": "white",
             "startlinecolor": "#2a3f5f"
            },
            "type": "carpet"
           }
          ],
          "choropleth": [
           {
            "colorbar": {
             "outlinewidth": 0,
             "ticks": ""
            },
            "type": "choropleth"
           }
          ],
          "contour": [
           {
            "colorbar": {
             "outlinewidth": 0,
             "ticks": ""
            },
            "colorscale": [
             [
              0,
              "#0d0887"
             ],
             [
              0.1111111111111111,
              "#46039f"
             ],
             [
              0.2222222222222222,
              "#7201a8"
             ],
             [
              0.3333333333333333,
              "#9c179e"
             ],
             [
              0.4444444444444444,
              "#bd3786"
             ],
             [
              0.5555555555555556,
              "#d8576b"
             ],
             [
              0.6666666666666666,
              "#ed7953"
             ],
             [
              0.7777777777777778,
              "#fb9f3a"
             ],
             [
              0.8888888888888888,
              "#fdca26"
             ],
             [
              1,
              "#f0f921"
             ]
            ],
            "type": "contour"
           }
          ],
          "contourcarpet": [
           {
            "colorbar": {
             "outlinewidth": 0,
             "ticks": ""
            },
            "type": "contourcarpet"
           }
          ],
          "heatmap": [
           {
            "colorbar": {
             "outlinewidth": 0,
             "ticks": ""
            },
            "colorscale": [
             [
              0,
              "#0d0887"
             ],
             [
              0.1111111111111111,
              "#46039f"
             ],
             [
              0.2222222222222222,
              "#7201a8"
             ],
             [
              0.3333333333333333,
              "#9c179e"
             ],
             [
              0.4444444444444444,
              "#bd3786"
             ],
             [
              0.5555555555555556,
              "#d8576b"
             ],
             [
              0.6666666666666666,
              "#ed7953"
             ],
             [
              0.7777777777777778,
              "#fb9f3a"
             ],
             [
              0.8888888888888888,
              "#fdca26"
             ],
             [
              1,
              "#f0f921"
             ]
            ],
            "type": "heatmap"
           }
          ],
          "heatmapgl": [
           {
            "colorbar": {
             "outlinewidth": 0,
             "ticks": ""
            },
            "colorscale": [
             [
              0,
              "#0d0887"
             ],
             [
              0.1111111111111111,
              "#46039f"
             ],
             [
              0.2222222222222222,
              "#7201a8"
             ],
             [
              0.3333333333333333,
              "#9c179e"
             ],
             [
              0.4444444444444444,
              "#bd3786"
             ],
             [
              0.5555555555555556,
              "#d8576b"
             ],
             [
              0.6666666666666666,
              "#ed7953"
             ],
             [
              0.7777777777777778,
              "#fb9f3a"
             ],
             [
              0.8888888888888888,
              "#fdca26"
             ],
             [
              1,
              "#f0f921"
             ]
            ],
            "type": "heatmapgl"
           }
          ],
          "histogram": [
           {
            "marker": {
             "pattern": {
              "fillmode": "overlay",
              "size": 10,
              "solidity": 0.2
             }
            },
            "type": "histogram"
           }
          ],
          "histogram2d": [
           {
            "colorbar": {
             "outlinewidth": 0,
             "ticks": ""
            },
            "colorscale": [
             [
              0,
              "#0d0887"
             ],
             [
              0.1111111111111111,
              "#46039f"
             ],
             [
              0.2222222222222222,
              "#7201a8"
             ],
             [
              0.3333333333333333,
              "#9c179e"
             ],
             [
              0.4444444444444444,
              "#bd3786"
             ],
             [
              0.5555555555555556,
              "#d8576b"
             ],
             [
              0.6666666666666666,
              "#ed7953"
             ],
             [
              0.7777777777777778,
              "#fb9f3a"
             ],
             [
              0.8888888888888888,
              "#fdca26"
             ],
             [
              1,
              "#f0f921"
             ]
            ],
            "type": "histogram2d"
           }
          ],
          "histogram2dcontour": [
           {
            "colorbar": {
             "outlinewidth": 0,
             "ticks": ""
            },
            "colorscale": [
             [
              0,
              "#0d0887"
             ],
             [
              0.1111111111111111,
              "#46039f"
             ],
             [
              0.2222222222222222,
              "#7201a8"
             ],
             [
              0.3333333333333333,
              "#9c179e"
             ],
             [
              0.4444444444444444,
              "#bd3786"
             ],
             [
              0.5555555555555556,
              "#d8576b"
             ],
             [
              0.6666666666666666,
              "#ed7953"
             ],
             [
              0.7777777777777778,
              "#fb9f3a"
             ],
             [
              0.8888888888888888,
              "#fdca26"
             ],
             [
              1,
              "#f0f921"
             ]
            ],
            "type": "histogram2dcontour"
           }
          ],
          "mesh3d": [
           {
            "colorbar": {
             "outlinewidth": 0,
             "ticks": ""
            },
            "type": "mesh3d"
           }
          ],
          "parcoords": [
           {
            "line": {
             "colorbar": {
              "outlinewidth": 0,
              "ticks": ""
             }
            },
            "type": "parcoords"
           }
          ],
          "pie": [
           {
            "automargin": true,
            "type": "pie"
           }
          ],
          "scatter": [
           {
            "marker": {
             "colorbar": {
              "outlinewidth": 0,
              "ticks": ""
             }
            },
            "type": "scatter"
           }
          ],
          "scatter3d": [
           {
            "line": {
             "colorbar": {
              "outlinewidth": 0,
              "ticks": ""
             }
            },
            "marker": {
             "colorbar": {
              "outlinewidth": 0,
              "ticks": ""
             }
            },
            "type": "scatter3d"
           }
          ],
          "scattercarpet": [
           {
            "marker": {
             "colorbar": {
              "outlinewidth": 0,
              "ticks": ""
             }
            },
            "type": "scattercarpet"
           }
          ],
          "scattergeo": [
           {
            "marker": {
             "colorbar": {
              "outlinewidth": 0,
              "ticks": ""
             }
            },
            "type": "scattergeo"
           }
          ],
          "scattergl": [
           {
            "marker": {
             "colorbar": {
              "outlinewidth": 0,
              "ticks": ""
             }
            },
            "type": "scattergl"
           }
          ],
          "scattermapbox": [
           {
            "marker": {
             "colorbar": {
              "outlinewidth": 0,
              "ticks": ""
             }
            },
            "type": "scattermapbox"
           }
          ],
          "scatterpolar": [
           {
            "marker": {
             "colorbar": {
              "outlinewidth": 0,
              "ticks": ""
             }
            },
            "type": "scatterpolar"
           }
          ],
          "scatterpolargl": [
           {
            "marker": {
             "colorbar": {
              "outlinewidth": 0,
              "ticks": ""
             }
            },
            "type": "scatterpolargl"
           }
          ],
          "scatterternary": [
           {
            "marker": {
             "colorbar": {
              "outlinewidth": 0,
              "ticks": ""
             }
            },
            "type": "scatterternary"
           }
          ],
          "surface": [
           {
            "colorbar": {
             "outlinewidth": 0,
             "ticks": ""
            },
            "colorscale": [
             [
              0,
              "#0d0887"
             ],
             [
              0.1111111111111111,
              "#46039f"
             ],
             [
              0.2222222222222222,
              "#7201a8"
             ],
             [
              0.3333333333333333,
              "#9c179e"
             ],
             [
              0.4444444444444444,
              "#bd3786"
             ],
             [
              0.5555555555555556,
              "#d8576b"
             ],
             [
              0.6666666666666666,
              "#ed7953"
             ],
             [
              0.7777777777777778,
              "#fb9f3a"
             ],
             [
              0.8888888888888888,
              "#fdca26"
             ],
             [
              1,
              "#f0f921"
             ]
            ],
            "type": "surface"
           }
          ],
          "table": [
           {
            "cells": {
             "fill": {
              "color": "#EBF0F8"
             },
             "line": {
              "color": "white"
             }
            },
            "header": {
             "fill": {
              "color": "#C8D4E3"
             },
             "line": {
              "color": "white"
             }
            },
            "type": "table"
           }
          ]
         },
         "layout": {
          "annotationdefaults": {
           "arrowcolor": "#2a3f5f",
           "arrowhead": 0,
           "arrowwidth": 1
          },
          "autotypenumbers": "strict",
          "coloraxis": {
           "colorbar": {
            "outlinewidth": 0,
            "ticks": ""
           }
          },
          "colorscale": {
           "diverging": [
            [
             0,
             "#8e0152"
            ],
            [
             0.1,
             "#c51b7d"
            ],
            [
             0.2,
             "#de77ae"
            ],
            [
             0.3,
             "#f1b6da"
            ],
            [
             0.4,
             "#fde0ef"
            ],
            [
             0.5,
             "#f7f7f7"
            ],
            [
             0.6,
             "#e6f5d0"
            ],
            [
             0.7,
             "#b8e186"
            ],
            [
             0.8,
             "#7fbc41"
            ],
            [
             0.9,
             "#4d9221"
            ],
            [
             1,
             "#276419"
            ]
           ],
           "sequential": [
            [
             0,
             "#0d0887"
            ],
            [
             0.1111111111111111,
             "#46039f"
            ],
            [
             0.2222222222222222,
             "#7201a8"
            ],
            [
             0.3333333333333333,
             "#9c179e"
            ],
            [
             0.4444444444444444,
             "#bd3786"
            ],
            [
             0.5555555555555556,
             "#d8576b"
            ],
            [
             0.6666666666666666,
             "#ed7953"
            ],
            [
             0.7777777777777778,
             "#fb9f3a"
            ],
            [
             0.8888888888888888,
             "#fdca26"
            ],
            [
             1,
             "#f0f921"
            ]
           ],
           "sequentialminus": [
            [
             0,
             "#0d0887"
            ],
            [
             0.1111111111111111,
             "#46039f"
            ],
            [
             0.2222222222222222,
             "#7201a8"
            ],
            [
             0.3333333333333333,
             "#9c179e"
            ],
            [
             0.4444444444444444,
             "#bd3786"
            ],
            [
             0.5555555555555556,
             "#d8576b"
            ],
            [
             0.6666666666666666,
             "#ed7953"
            ],
            [
             0.7777777777777778,
             "#fb9f3a"
            ],
            [
             0.8888888888888888,
             "#fdca26"
            ],
            [
             1,
             "#f0f921"
            ]
           ]
          },
          "colorway": [
           "#636efa",
           "#EF553B",
           "#00cc96",
           "#ab63fa",
           "#FFA15A",
           "#19d3f3",
           "#FF6692",
           "#B6E880",
           "#FF97FF",
           "#FECB52"
          ],
          "font": {
           "color": "#2a3f5f"
          },
          "geo": {
           "bgcolor": "white",
           "lakecolor": "white",
           "landcolor": "#E5ECF6",
           "showlakes": true,
           "showland": true,
           "subunitcolor": "white"
          },
          "hoverlabel": {
           "align": "left"
          },
          "hovermode": "closest",
          "mapbox": {
           "style": "light"
          },
          "paper_bgcolor": "white",
          "plot_bgcolor": "#E5ECF6",
          "polar": {
           "angularaxis": {
            "gridcolor": "white",
            "linecolor": "white",
            "ticks": ""
           },
           "bgcolor": "#E5ECF6",
           "radialaxis": {
            "gridcolor": "white",
            "linecolor": "white",
            "ticks": ""
           }
          },
          "scene": {
           "xaxis": {
            "backgroundcolor": "#E5ECF6",
            "gridcolor": "white",
            "gridwidth": 2,
            "linecolor": "white",
            "showbackground": true,
            "ticks": "",
            "zerolinecolor": "white"
           },
           "yaxis": {
            "backgroundcolor": "#E5ECF6",
            "gridcolor": "white",
            "gridwidth": 2,
            "linecolor": "white",
            "showbackground": true,
            "ticks": "",
            "zerolinecolor": "white"
           },
           "zaxis": {
            "backgroundcolor": "#E5ECF6",
            "gridcolor": "white",
            "gridwidth": 2,
            "linecolor": "white",
            "showbackground": true,
            "ticks": "",
            "zerolinecolor": "white"
           }
          },
          "shapedefaults": {
           "line": {
            "color": "#2a3f5f"
           }
          },
          "ternary": {
           "aaxis": {
            "gridcolor": "white",
            "linecolor": "white",
            "ticks": ""
           },
           "baxis": {
            "gridcolor": "white",
            "linecolor": "white",
            "ticks": ""
           },
           "bgcolor": "#E5ECF6",
           "caxis": {
            "gridcolor": "white",
            "linecolor": "white",
            "ticks": ""
           }
          },
          "title": {
           "x": 0.05
          },
          "xaxis": {
           "automargin": true,
           "gridcolor": "white",
           "linecolor": "white",
           "ticks": "",
           "title": {
            "standoff": 15
           },
           "zerolinecolor": "white",
           "zerolinewidth": 2
          },
          "yaxis": {
           "automargin": true,
           "gridcolor": "white",
           "linecolor": "white",
           "ticks": "",
           "title": {
            "standoff": 15
           },
           "zerolinecolor": "white",
           "zerolinewidth": 2
          }
         }
        },
        "width": 1100
       }
      },
      "image/png": "[encoded data removed]",
      "text/html": [
       "<div>                            <div id=\"c1255e09-c4fc-4528-9aae-025cf41c6870\" class=\"plotly-graph-div\" style=\"height:400px; width:1100px;\"></div>            <script type=\"text/javascript\">                require([\"plotly\"], function(Plotly) {                    window.PLOTLYENV=window.PLOTLYENV || {};                                    if (document.getElementById(\"c1255e09-c4fc-4528-9aae-025cf41c6870\")) {                    Plotly.newPlot(                        \"c1255e09-c4fc-4528-9aae-025cf41c6870\",                        [{\"branchvalues\":\"total\",\"customdata\":[[\"Im Bau\"],[\"Im Bau\"],[\"Fertigerstellt\"],[\"Bewilligt\"],[\"Bewilligt\"],[\"Im Bau\"],[\"Fertigerstellt\"],[\"Im Bau\"],[\"Bewilligt\"],[\"Im Bau\"],[\"Fertigerstellt\"],[\"Im Bau\"],[\"Fertigerstellt\"],[\"Im Bau\"],[\"Im Bau\"],[\"Im Bau\"],[\"Im Bau\"],[\"Bewilligt\"],[\"Bewilligt\"],[\"Fertigerstellt\"],[\"Bewilligt\"],[\"Fertigerstellt\"],[\"Bewilligt\"],[\"Bewilligt\"],[\"Im Bau\"],[\"Fertigerstellt\"],[\"Bewilligt\"],[\"Fertigerstellt\"],[\"Bewilligt\"],[\"Fertigerstellt\"],[\"Im Bau\"],[\"Bewilligt\"],[\"Bewilligt\"],[\"Fertigerstellt\"],[\"Im Bau\"],[\"Fertigerstellt\"],[\"Im Bau\"],[\"Fertigerstellt\"],[\"Im Bau\"],[\"Im Bau\"],[\"Im Bau\"],[\"Im Bau\"],[\"Fertigerstellt\"],[\"Bewilligt\"],[\"Im Bau\"],[\"Bewilligt\"],[\"Bewilligt\"],[\"Fertigerstellt\"],[\"Fertigerstellt\"],[\"Im Bau\"],[\"Bewilligt\"],[\"Fertigerstellt\"],[\"Bewilligt\"],[\"Fertigerstellt\"],[\"Im Bau\"],[\"Fertigerstellt\"],[\"Fertigerstellt\"],[\"Im Bau\"],[\"Bewilligt\"],[\"Im Bau\"],[\"Bewilligt\"],[\"Im Bau\"],[\"Fertigerstellt\"],[\"Fertigerstellt\"],[\"Bewilligt\"],[\"Fertigerstellt\"],[\"Im Bau\"],[\"Im Bau\"],[\"Im Bau\"],[\"Fertigerstellt\"],[\"Bewilligt\"],[\"Im Bau\"],[\"Bewilligt\"],[\"Fertigerstellt\"],[\"Im Bau\"],[\"Fertigerstellt\"],[\"Im Bau\"],[\"Bewilligt\"],[\"Fertigerstellt\"],[\"Im Bau\"],[\"Bewilligt\"],[\"Im Bau\"],[\"Bewilligt\"],[\"Fertigerstellt\"],[\"Im Bau\"],[\"Bewilligt\"],[\"Fertigerstellt\"],[\"Im Bau\"],[\"Bewilligt\"],[\"Fertigerstellt\"],[\"Im Bau\"],[\"Bewilligt\"],[\"Fertigerstellt\"],[\"Im Bau\"],[\"Bewilligt\"],[\"Fertigerstellt\"],[\"Im Bau\"],[\"Bewilligt\"],[\"Fertigerstellt\"],[\"Im Bau\"],[\"Bewilligt\"],[\"Fertigerstellt\"],[\"Im Bau\"],[\"(?)\"]],\"domain\":{\"x\":[0.0,1.0],\"y\":[0.0,1.0]},\"hovertemplate\":\"labels=%{label}<br>sum_ProjKosten=%{value}<br>parent=%{parent}<br>id=%{id}<br>ProjStatus=%{customdata[0]}<extra></extra>\",\"ids\":[\"Anzahl Wohnungen nach Projektstatus, Kreis und Quartier/Im Bau/Kreis 2/Wollishofen\",\"Anzahl Wohnungen nach Projektstatus, Kreis und Quartier/Im Bau/Kreis 6/Oberstrass\",\"Anzahl Wohnungen nach Projektstatus, Kreis und Quartier/Fertigerstellt/Kreis 6/Oberstrass\",\"Anzahl Wohnungen nach Projektstatus, Kreis und Quartier/Bewilligt/Kreis 6/Oberstrass\",\"Anzahl Wohnungen nach Projektstatus, Kreis und Quartier/Bewilligt/Kreis 11/Seebach\",\"Anzahl Wohnungen nach Projektstatus, Kreis und Quartier/Im Bau/Kreis 11/Seebach\",\"Anzahl Wohnungen nach Projektstatus, Kreis und Quartier/Fertigerstellt/Kreis 8/Seefeld\",\"Anzahl Wohnungen nach Projektstatus, Kreis und Quartier/Im Bau/Kreis 3/Sihlfeld\",\"Anzahl Wohnungen nach Projektstatus, Kreis und Quartier/Bewilligt/Kreis 7/Hottingen\",\"Anzahl Wohnungen nach Projektstatus, Kreis und Quartier/Im Bau/Kreis 12/Hirzenbach\",\"Anzahl Wohnungen nach Projektstatus, Kreis und Quartier/Fertigerstellt/Kreis 7/Hirslanden\",\"Anzahl Wohnungen nach Projektstatus, Kreis und Quartier/Im Bau/Kreis 3/Friesenberg\",\"Anzahl Wohnungen nach Projektstatus, Kreis und Quartier/Fertigerstellt/Kreis 7/Fluntern\",\"Anzahl Wohnungen nach Projektstatus, Kreis und Quartier/Im Bau/Kreis 8/Weinegg\",\"Anzahl Wohnungen nach Projektstatus, Kreis und Quartier/Im Bau/Kreis 4/Hard\",\"Anzahl Wohnungen nach Projektstatus, Kreis und Quartier/Im Bau/Kreis 3/Alt-Wiedikon\",\"Anzahl Wohnungen nach Projektstatus, Kreis und Quartier/Im Bau/Kreis 9/Albisrieden\",\"Anzahl Wohnungen nach Projektstatus, Kreis und Quartier/Bewilligt/Kreis 4/Werd\",\"Anzahl Wohnungen nach Projektstatus, Kreis und Quartier/Bewilligt/Kreis 10/Wipkingen\",\"Anzahl Wohnungen nach Projektstatus, Kreis und Quartier/Fertigerstellt/Kreis 12/Schwamendingen-Mitte\",\"Anzahl Wohnungen nach Projektstatus, Kreis und Quartier/Bewilligt/Kreis 5/Gewerbeschule\",\"Anzahl Wohnungen nach Projektstatus, Kreis und Quartier/Fertigerstellt/Kreis 11/Oerlikon\",\"Anzahl Wohnungen nach Projektstatus, Kreis und Quartier/Bewilligt/Kreis 11/Oerlikon\",\"Anzahl Wohnungen nach Projektstatus, Kreis und Quartier/Bewilligt/Kreis 2/Wollishofen\",\"Anzahl Wohnungen nach Projektstatus, Kreis und Quartier/Im Bau/Kreis 7/Witikon\",\"Anzahl Wohnungen nach Projektstatus, Kreis und Quartier/Fertigerstellt/Kreis 7/Witikon\",\"Anzahl Wohnungen nach Projektstatus, Kreis und Quartier/Bewilligt/Kreis 7/Witikon\",\"Anzahl Wohnungen nach Projektstatus, Kreis und Quartier/Fertigerstellt/Kreis 11/Seebach\",\"Anzahl Wohnungen nach Projektstatus, Kreis und Quartier/Bewilligt/Kreis 2/Leimbach\",\"Anzahl Wohnungen nach Projektstatus, Kreis und Quartier/Fertigerstellt/Kreis 2/Wollishofen\",\"Anzahl Wohnungen nach Projektstatus, Kreis und Quartier/Im Bau/Kreis 10/H\\u00f6ngg\",\"Anzahl Wohnungen nach Projektstatus, Kreis und Quartier/Bewilligt/Kreis 2/Enge\",\"Anzahl Wohnungen nach Projektstatus, Kreis und Quartier/Bewilligt/Kreis 3/Alt-Wiedikon\",\"Anzahl Wohnungen nach Projektstatus, Kreis und Quartier/Fertigerstellt/Kreis 4/Werd\",\"Anzahl Wohnungen nach Projektstatus, Kreis und Quartier/Im Bau/Kreis 10/Wipkingen\",\"Anzahl Wohnungen nach Projektstatus, Kreis und Quartier/Fertigerstellt/Kreis 1/Hochschulen\",\"Anzahl Wohnungen nach Projektstatus, Kreis und Quartier/Im Bau/Kreis 7/Fluntern\",\"Anzahl Wohnungen nach Projektstatus, Kreis und Quartier/Fertigerstellt/Kreis 6/Unterstrass\",\"Anzahl Wohnungen nach Projektstatus, Kreis und Quartier/Im Bau/Kreis 4/Werd\",\"Anzahl Wohnungen nach Projektstatus, Kreis und Quartier/Im Bau/Kreis 6/Unterstrass\",\"Anzahl Wohnungen nach Projektstatus, Kreis und Quartier/Im Bau/Kreis 7/Hottingen\",\"Anzahl Wohnungen nach Projektstatus, Kreis und Quartier/Im Bau/Kreis 2/Enge\",\"Anzahl Wohnungen nach Projektstatus, Kreis und Quartier/Fertigerstellt/Kreis 8/Weinegg\",\"Anzahl Wohnungen nach Projektstatus, Kreis und Quartier/Bewilligt/Kreis 6/Unterstrass\",\"Anzahl Wohnungen nach Projektstatus, Kreis und Quartier/Im Bau/Kreis 12/Schwamendingen-Mitte\",\"Anzahl Wohnungen nach Projektstatus, Kreis und Quartier/Bewilligt/Kreis 8/Weinegg\",\"Anzahl Wohnungen nach Projektstatus, Kreis und Quartier/Bewilligt/Kreis 11/Affoltern\",\"Anzahl Wohnungen nach Projektstatus, Kreis und Quartier/Fertigerstellt/Kreis 1/Lindenhof\",\"Anzahl Wohnungen nach Projektstatus, Kreis und Quartier/Fertigerstellt/Kreis 11/Affoltern\",\"Anzahl Wohnungen nach Projektstatus, Kreis und Quartier/Im Bau/Kreis 11/Affoltern\",\"Anzahl Wohnungen nach Projektstatus, Kreis und Quartier/Bewilligt/Kreis 9/Albisrieden\",\"Anzahl Wohnungen nach Projektstatus, Kreis und Quartier/Fertigerstellt/Kreis 9/Albisrieden\",\"Anzahl Wohnungen nach Projektstatus, Kreis und Quartier/Bewilligt/Kreis 9/Altstetten\",\"Anzahl Wohnungen nach Projektstatus, Kreis und Quartier/Fertigerstellt/Kreis 9/Altstetten\",\"Anzahl Wohnungen nach Projektstatus, Kreis und Quartier/Im Bau/Kreis 9/Altstetten\",\"Anzahl Wohnungen nach Projektstatus, Kreis und Quartier/Fertigerstellt/Kreis 2/Enge\",\"Anzahl Wohnungen nach Projektstatus, Kreis und Quartier/Fertigerstellt/Kreis 5/Escher Wyss\",\"Anzahl Wohnungen nach Projektstatus, Kreis und Quartier/Im Bau/Kreis 5/Escher Wyss\",\"Anzahl Wohnungen nach Projektstatus, Kreis und Quartier/Bewilligt/Kreis 7/Fluntern\",\"Anzahl Wohnungen nach Projektstatus, Kreis und Quartier/Im Bau/Kreis 5/Gewerbeschule\",\"Anzahl Wohnungen nach Projektstatus, Kreis und Quartier/Bewilligt/Kreis 7/Hirslanden\",\"Anzahl Wohnungen nach Projektstatus, Kreis und Quartier/Im Bau/Kreis 7/Hirslanden\",\"Anzahl Wohnungen nach Projektstatus, Kreis und Quartier/Fertigerstellt/Kreis 12/Hirzenbach\",\"Anzahl Wohnungen nach Projektstatus, Kreis und Quartier/Fertigerstellt/Kreis 7/Hottingen\",\"Anzahl Wohnungen nach Projektstatus, Kreis und Quartier/Bewilligt/Kreis 10/H\\u00f6ngg\",\"Anzahl Wohnungen nach Projektstatus, Kreis und Quartier/Fertigerstellt/Kreis 2/Leimbach\",\"Anzahl Wohnungen nach Projektstatus, Kreis und Quartier/Im Bau/Kreis 2/Leimbach\",\"Anzahl Wohnungen nach Projektstatus, Kreis und Quartier/Im Bau/Kreis 11/Oerlikon\",\"Anzahl Wohnungen nach Projektstatus, Kreis und Quartier/Im Bau/Kreis 4/Langstrasse\",\"Anzahl Wohnungen nach Projektstatus, Kreis und Quartier/Fertigerstellt/Kreis 1\",\"Anzahl Wohnungen nach Projektstatus, Kreis und Quartier/Bewilligt/Kreis 10\",\"Anzahl Wohnungen nach Projektstatus, Kreis und Quartier/Im Bau/Kreis 10\",\"Anzahl Wohnungen nach Projektstatus, Kreis und Quartier/Bewilligt/Kreis 11\",\"Anzahl Wohnungen nach Projektstatus, Kreis und Quartier/Fertigerstellt/Kreis 11\",\"Anzahl Wohnungen nach Projektstatus, Kreis und Quartier/Im Bau/Kreis 11\",\"Anzahl Wohnungen nach Projektstatus, Kreis und Quartier/Fertigerstellt/Kreis 12\",\"Anzahl Wohnungen nach Projektstatus, Kreis und Quartier/Im Bau/Kreis 12\",\"Anzahl Wohnungen nach Projektstatus, Kreis und Quartier/Bewilligt/Kreis 2\",\"Anzahl Wohnungen nach Projektstatus, Kreis und Quartier/Fertigerstellt/Kreis 2\",\"Anzahl Wohnungen nach Projektstatus, Kreis und Quartier/Im Bau/Kreis 2\",\"Anzahl Wohnungen nach Projektstatus, Kreis und Quartier/Bewilligt/Kreis 3\",\"Anzahl Wohnungen nach Projektstatus, Kreis und Quartier/Im Bau/Kreis 3\",\"Anzahl Wohnungen nach Projektstatus, Kreis und Quartier/Bewilligt/Kreis 4\",\"Anzahl Wohnungen nach Projektstatus, Kreis und Quartier/Fertigerstellt/Kreis 4\",\"Anzahl Wohnungen nach Projektstatus, Kreis und Quartier/Im Bau/Kreis 4\",\"Anzahl Wohnungen nach Projektstatus, Kreis und Quartier/Bewilligt/Kreis 5\",\"Anzahl Wohnungen nach Projektstatus, Kreis und Quartier/Fertigerstellt/Kreis 5\",\"Anzahl Wohnungen nach Projektstatus, Kreis und Quartier/Im Bau/Kreis 5\",\"Anzahl Wohnungen nach Projektstatus, Kreis und Quartier/Bewilligt/Kreis 6\",\"Anzahl Wohnungen nach Projektstatus, Kreis und Quartier/Fertigerstellt/Kreis 6\",\"Anzahl Wohnungen nach Projektstatus, Kreis und Quartier/Im Bau/Kreis 6\",\"Anzahl Wohnungen nach Projektstatus, Kreis und Quartier/Bewilligt/Kreis 7\",\"Anzahl Wohnungen nach Projektstatus, Kreis und Quartier/Fertigerstellt/Kreis 7\",\"Anzahl Wohnungen nach Projektstatus, Kreis und Quartier/Im Bau/Kreis 7\",\"Anzahl Wohnungen nach Projektstatus, Kreis und Quartier/Bewilligt/Kreis 8\",\"Anzahl Wohnungen nach Projektstatus, Kreis und Quartier/Fertigerstellt/Kreis 8\",\"Anzahl Wohnungen nach Projektstatus, Kreis und Quartier/Im Bau/Kreis 8\",\"Anzahl Wohnungen nach Projektstatus, Kreis und Quartier/Bewilligt/Kreis 9\",\"Anzahl Wohnungen nach Projektstatus, Kreis und Quartier/Fertigerstellt/Kreis 9\",\"Anzahl Wohnungen nach Projektstatus, Kreis und Quartier/Im Bau/Kreis 9\",\"Anzahl Wohnungen nach Projektstatus, Kreis und Quartier/Bewilligt\",\"Anzahl Wohnungen nach Projektstatus, Kreis und Quartier/Fertigerstellt\",\"Anzahl Wohnungen nach Projektstatus, Kreis und Quartier/Im Bau\",\"Anzahl Wohnungen nach Projektstatus, Kreis und Quartier\"],\"labels\":[\"Wollishofen\",\"Oberstrass\",\"Oberstrass\",\"Oberstrass\",\"Seebach\",\"Seebach\",\"Seefeld\",\"Sihlfeld\",\"Hottingen\",\"Hirzenbach\",\"Hirslanden\",\"Friesenberg\",\"Fluntern\",\"Weinegg\",\"Hard\",\"Alt-Wiedikon\",\"Albisrieden\",\"Werd\",\"Wipkingen\",\"Schwamendingen-Mitte\",\"Gewerbeschule\",\"Oerlikon\",\"Oerlikon\",\"Wollishofen\",\"Witikon\",\"Witikon\",\"Witikon\",\"Seebach\",\"Leimbach\",\"Wollishofen\",\"H\\u00f6ngg\",\"Enge\",\"Alt-Wiedikon\",\"Werd\",\"Wipkingen\",\"Hochschulen\",\"Fluntern\",\"Unterstrass\",\"Werd\",\"Unterstrass\",\"Hottingen\",\"Enge\",\"Weinegg\",\"Unterstrass\",\"Schwamendingen-Mitte\",\"Weinegg\",\"Affoltern\",\"Lindenhof\",\"Affoltern\",\"Affoltern\",\"Albisrieden\",\"Albisrieden\",\"Altstetten\",\"Altstetten\",\"Altstetten\",\"Enge\",\"Escher Wyss\",\"Escher Wyss\",\"Fluntern\",\"Gewerbeschule\",\"Hirslanden\",\"Hirslanden\",\"Hirzenbach\",\"Hottingen\",\"H\\u00f6ngg\",\"Leimbach\",\"Leimbach\",\"Oerlikon\",\"Langstrasse\",\"Kreis 1\",\"Kreis 10\",\"Kreis 10\",\"Kreis 11\",\"Kreis 11\",\"Kreis 11\",\"Kreis 12\",\"Kreis 12\",\"Kreis 2\",\"Kreis 2\",\"Kreis 2\",\"Kreis 3\",\"Kreis 3\",\"Kreis 4\",\"Kreis 4\",\"Kreis 4\",\"Kreis 5\",\"Kreis 5\",\"Kreis 5\",\"Kreis 6\",\"Kreis 6\",\"Kreis 6\",\"Kreis 7\",\"Kreis 7\",\"Kreis 7\",\"Kreis 8\",\"Kreis 8\",\"Kreis 8\",\"Kreis 9\",\"Kreis 9\",\"Kreis 9\",\"Bewilligt\",\"Fertigerstellt\",\"Im Bau\",\"Anzahl Wohnungen nach Projektstatus, Kreis und Quartier\"],\"marker\":{\"colors\":[\"#636efa\",\"#636efa\",\"#EF553B\",\"#00cc96\",\"#00cc96\",\"#636efa\",\"#EF553B\",\"#636efa\",\"#00cc96\",\"#636efa\",\"#EF553B\",\"#636efa\",\"#EF553B\",\"#636efa\",\"#636efa\",\"#636efa\",\"#636efa\",\"#00cc96\",\"#00cc96\",\"#EF553B\",\"#00cc96\",\"#EF553B\",\"#00cc96\",\"#00cc96\",\"#636efa\",\"#EF553B\",\"#00cc96\",\"#EF553B\",\"#00cc96\",\"#EF553B\",\"#636efa\",\"#00cc96\",\"#00cc96\",\"#EF553B\",\"#636efa\",\"#EF553B\",\"#636efa\",\"#EF553B\",\"#636efa\",\"#636efa\",\"#636efa\",\"#636efa\",\"#EF553B\",\"#00cc96\",\"#636efa\",\"#00cc96\",\"#00cc96\",\"#EF553B\",\"#EF553B\",\"#636efa\",\"#00cc96\",\"#EF553B\",\"#00cc96\",\"#EF553B\",\"#636efa\",\"#EF553B\",\"#EF553B\",\"#636efa\",\"#00cc96\",\"#636efa\",\"#00cc96\",\"#636efa\",\"#EF553B\",\"#EF553B\",\"#00cc96\",\"#EF553B\",\"#636efa\",\"#636efa\",\"#636efa\",\"#EF553B\",\"#00cc96\",\"#636efa\",\"#00cc96\",\"#EF553B\",\"#636efa\",\"#EF553B\",\"#636efa\",\"#00cc96\",\"#EF553B\",\"#636efa\",\"#00cc96\",\"#636efa\",\"#00cc96\",\"#EF553B\",\"#636efa\",\"#00cc96\",\"#EF553B\",\"#636efa\",\"#00cc96\",\"#EF553B\",\"#636efa\",\"#00cc96\",\"#EF553B\",\"#636efa\",\"#00cc96\",\"#EF553B\",\"#636efa\",\"#00cc96\",\"#EF553B\",\"#636efa\",\"#00cc96\",\"#EF553B\",\"#636efa\",\"#ab63fa\"]},\"name\":\"\",\"parents\":[\"Anzahl Wohnungen nach Projektstatus, Kreis und Quartier/Im Bau/Kreis 2\",\"Anzahl Wohnungen nach Projektstatus, Kreis und Quartier/Im Bau/Kreis 6\",\"Anzahl Wohnungen nach Projektstatus, Kreis und Quartier/Fertigerstellt/Kreis 6\",\"Anzahl Wohnungen nach Projektstatus, Kreis und Quartier/Bewilligt/Kreis 6\",\"Anzahl Wohnungen nach Projektstatus, Kreis und Quartier/Bewilligt/Kreis 11\",\"Anzahl Wohnungen nach Projektstatus, Kreis und Quartier/Im Bau/Kreis 11\",\"Anzahl Wohnungen nach Projektstatus, Kreis und Quartier/Fertigerstellt/Kreis 8\",\"Anzahl Wohnungen nach Projektstatus, Kreis und Quartier/Im Bau/Kreis 3\",\"Anzahl Wohnungen nach Projektstatus, Kreis und Quartier/Bewilligt/Kreis 7\",\"Anzahl Wohnungen nach Projektstatus, Kreis und Quartier/Im Bau/Kreis 12\",\"Anzahl Wohnungen nach Projektstatus, Kreis und Quartier/Fertigerstellt/Kreis 7\",\"Anzahl Wohnungen nach Projektstatus, Kreis und Quartier/Im Bau/Kreis 3\",\"Anzahl Wohnungen nach Projektstatus, Kreis und Quartier/Fertigerstellt/Kreis 7\",\"Anzahl Wohnungen nach Projektstatus, Kreis und Quartier/Im Bau/Kreis 8\",\"Anzahl Wohnungen nach Projektstatus, Kreis und Quartier/Im Bau/Kreis 4\",\"Anzahl Wohnungen nach Projektstatus, Kreis und Quartier/Im Bau/Kreis 3\",\"Anzahl Wohnungen nach Projektstatus, Kreis und Quartier/Im Bau/Kreis 9\",\"Anzahl Wohnungen nach Projektstatus, Kreis und Quartier/Bewilligt/Kreis 4\",\"Anzahl Wohnungen nach Projektstatus, Kreis und Quartier/Bewilligt/Kreis 10\",\"Anzahl Wohnungen nach Projektstatus, Kreis und Quartier/Fertigerstellt/Kreis 12\",\"Anzahl Wohnungen nach Projektstatus, Kreis und Quartier/Bewilligt/Kreis 5\",\"Anzahl Wohnungen nach Projektstatus, Kreis und Quartier/Fertigerstellt/Kreis 11\",\"Anzahl Wohnungen nach Projektstatus, Kreis und Quartier/Bewilligt/Kreis 11\",\"Anzahl Wohnungen nach Projektstatus, Kreis und Quartier/Bewilligt/Kreis 2\",\"Anzahl Wohnungen nach Projektstatus, Kreis und Quartier/Im Bau/Kreis 7\",\"Anzahl Wohnungen nach Projektstatus, Kreis und Quartier/Fertigerstellt/Kreis 7\",\"Anzahl Wohnungen nach Projektstatus, Kreis und Quartier/Bewilligt/Kreis 7\",\"Anzahl Wohnungen nach Projektstatus, Kreis und Quartier/Fertigerstellt/Kreis 11\",\"Anzahl Wohnungen nach Projektstatus, Kreis und Quartier/Bewilligt/Kreis 2\",\"Anzahl Wohnungen nach Projektstatus, Kreis und Quartier/Fertigerstellt/Kreis 2\",\"Anzahl Wohnungen nach Projektstatus, Kreis und Quartier/Im Bau/Kreis 10\",\"Anzahl Wohnungen nach Projektstatus, Kreis und Quartier/Bewilligt/Kreis 2\",\"Anzahl Wohnungen nach Projektstatus, Kreis und Quartier/Bewilligt/Kreis 3\",\"Anzahl Wohnungen nach Projektstatus, Kreis und Quartier/Fertigerstellt/Kreis 4\",\"Anzahl Wohnungen nach Projektstatus, Kreis und Quartier/Im Bau/Kreis 10\",\"Anzahl Wohnungen nach Projektstatus, Kreis und Quartier/Fertigerstellt/Kreis 1\",\"Anzahl Wohnungen nach Projektstatus, Kreis und Quartier/Im Bau/Kreis 7\",\"Anzahl Wohnungen nach Projektstatus, Kreis und Quartier/Fertigerstellt/Kreis 6\",\"Anzahl Wohnungen nach Projektstatus, Kreis und Quartier/Im Bau/Kreis 4\",\"Anzahl Wohnungen nach Projektstatus, Kreis und Quartier/Im Bau/Kreis 6\",\"Anzahl Wohnungen nach Projektstatus, Kreis und Quartier/Im Bau/Kreis 7\",\"Anzahl Wohnungen nach Projektstatus, Kreis und Quartier/Im Bau/Kreis 2\",\"Anzahl Wohnungen nach Projektstatus, Kreis und Quartier/Fertigerstellt/Kreis 8\",\"Anzahl Wohnungen nach Projektstatus, Kreis und Quartier/Bewilligt/Kreis 6\",\"Anzahl Wohnungen nach Projektstatus, Kreis und Quartier/Im Bau/Kreis 12\",\"Anzahl Wohnungen nach Projektstatus, Kreis und Quartier/Bewilligt/Kreis 8\",\"Anzahl Wohnungen nach Projektstatus, Kreis und Quartier/Bewilligt/Kreis 11\",\"Anzahl Wohnungen nach Projektstatus, Kreis und Quartier/Fertigerstellt/Kreis 1\",\"Anzahl Wohnungen nach Projektstatus, Kreis und Quartier/Fertigerstellt/Kreis 11\",\"Anzahl Wohnungen nach Projektstatus, Kreis und Quartier/Im Bau/Kreis 11\",\"Anzahl Wohnungen nach Projektstatus, Kreis und Quartier/Bewilligt/Kreis 9\",\"Anzahl Wohnungen nach Projektstatus, Kreis und Quartier/Fertigerstellt/Kreis 9\",\"Anzahl Wohnungen nach Projektstatus, Kreis und Quartier/Bewilligt/Kreis 9\",\"Anzahl Wohnungen nach Projektstatus, Kreis und Quartier/Fertigerstellt/Kreis 9\",\"Anzahl Wohnungen nach Projektstatus, Kreis und Quartier/Im Bau/Kreis 9\",\"Anzahl Wohnungen nach Projektstatus, Kreis und Quartier/Fertigerstellt/Kreis 2\",\"Anzahl Wohnungen nach Projektstatus, Kreis und Quartier/Fertigerstellt/Kreis 5\",\"Anzahl Wohnungen nach Projektstatus, Kreis und Quartier/Im Bau/Kreis 5\",\"Anzahl Wohnungen nach Projektstatus, Kreis und Quartier/Bewilligt/Kreis 7\",\"Anzahl Wohnungen nach Projektstatus, Kreis und Quartier/Im Bau/Kreis 5\",\"Anzahl Wohnungen nach Projektstatus, Kreis und Quartier/Bewilligt/Kreis 7\",\"Anzahl Wohnungen nach Projektstatus, Kreis und Quartier/Im Bau/Kreis 7\",\"Anzahl Wohnungen nach Projektstatus, Kreis und Quartier/Fertigerstellt/Kreis 12\",\"Anzahl Wohnungen nach Projektstatus, Kreis und Quartier/Fertigerstellt/Kreis 7\",\"Anzahl Wohnungen nach Projektstatus, Kreis und Quartier/Bewilligt/Kreis 10\",\"Anzahl Wohnungen nach Projektstatus, Kreis und Quartier/Fertigerstellt/Kreis 2\",\"Anzahl Wohnungen nach Projektstatus, Kreis und Quartier/Im Bau/Kreis 2\",\"Anzahl Wohnungen nach Projektstatus, Kreis und Quartier/Im Bau/Kreis 11\",\"Anzahl Wohnungen nach Projektstatus, Kreis und Quartier/Im Bau/Kreis 4\",\"Anzahl Wohnungen nach Projektstatus, Kreis und Quartier/Fertigerstellt\",\"Anzahl Wohnungen nach Projektstatus, Kreis und Quartier/Bewilligt\",\"Anzahl Wohnungen nach Projektstatus, Kreis und Quartier/Im Bau\",\"Anzahl Wohnungen nach Projektstatus, Kreis und Quartier/Bewilligt\",\"Anzahl Wohnungen nach Projektstatus, Kreis und Quartier/Fertigerstellt\",\"Anzahl Wohnungen nach Projektstatus, Kreis und Quartier/Im Bau\",\"Anzahl Wohnungen nach Projektstatus, Kreis und Quartier/Fertigerstellt\",\"Anzahl Wohnungen nach Projektstatus, Kreis und Quartier/Im Bau\",\"Anzahl Wohnungen nach Projektstatus, Kreis und Quartier/Bewilligt\",\"Anzahl Wohnungen nach Projektstatus, Kreis und Quartier/Fertigerstellt\",\"Anzahl Wohnungen nach Projektstatus, Kreis und Quartier/Im Bau\",\"Anzahl Wohnungen nach Projektstatus, Kreis und Quartier/Bewilligt\",\"Anzahl Wohnungen nach Projektstatus, Kreis und Quartier/Im Bau\",\"Anzahl Wohnungen nach Projektstatus, Kreis und Quartier/Bewilligt\",\"Anzahl Wohnungen nach Projektstatus, Kreis und Quartier/Fertigerstellt\",\"Anzahl Wohnungen nach Projektstatus, Kreis und Quartier/Im Bau\",\"Anzahl Wohnungen nach Projektstatus, Kreis und Quartier/Bewilligt\",\"Anzahl Wohnungen nach Projektstatus, Kreis und Quartier/Fertigerstellt\",\"Anzahl Wohnungen nach Projektstatus, Kreis und Quartier/Im Bau\",\"Anzahl Wohnungen nach Projektstatus, Kreis und Quartier/Bewilligt\",\"Anzahl Wohnungen nach Projektstatus, Kreis und Quartier/Fertigerstellt\",\"Anzahl Wohnungen nach Projektstatus, Kreis und Quartier/Im Bau\",\"Anzahl Wohnungen nach Projektstatus, Kreis und Quartier/Bewilligt\",\"Anzahl Wohnungen nach Projektstatus, Kreis und Quartier/Fertigerstellt\",\"Anzahl Wohnungen nach Projektstatus, Kreis und Quartier/Im Bau\",\"Anzahl Wohnungen nach Projektstatus, Kreis und Quartier/Bewilligt\",\"Anzahl Wohnungen nach Projektstatus, Kreis und Quartier/Fertigerstellt\",\"Anzahl Wohnungen nach Projektstatus, Kreis und Quartier/Im Bau\",\"Anzahl Wohnungen nach Projektstatus, Kreis und Quartier/Bewilligt\",\"Anzahl Wohnungen nach Projektstatus, Kreis und Quartier/Fertigerstellt\",\"Anzahl Wohnungen nach Projektstatus, Kreis und Quartier/Im Bau\",\"Anzahl Wohnungen nach Projektstatus, Kreis und Quartier\",\"Anzahl Wohnungen nach Projektstatus, Kreis und Quartier\",\"Anzahl Wohnungen nach Projektstatus, Kreis und Quartier\",\"\"],\"values\":[320688,49900,216309,53700,18894,867143,95867,46200,131500,73696,34867,18260,26196,623100,734633,56140,347165,31524,19075,10100,38000,25820,131880,70846,93442,13626,33442,103780,3400,349456,103017,48895,134306,36000,33325,180000,63335,91245,13000,116700,38004,239800,2800,88254,120100,18000,6500,11630,10718,289760,71095,38700,165000,159670,593275,49480,190700,245415,22550,26450,22280,57200,11000,12016,18410,56200,10194,136891,47900,191630,37485,136342,157274,140318,1293794,21100,193796,123141,455136,570682,134306,120600,31524,36000,795533,38000,190700,271865,141954,307554,166600,209772,86705,251981,18000,98667,623100,236095,198370,940440,1127551,1726180,5364733,8218464],\"type\":\"treemap\",\"root\":{\"color\":\"grey\"}}],                        {\"template\":{\"data\":{\"bar\":[{\"error_x\":{\"color\":\"#2a3f5f\"},\"error_y\":{\"color\":\"#2a3f5f\"},\"marker\":{\"line\":{\"color\":\"#E5ECF6\",\"width\":0.5},\"pattern\":{\"fillmode\":\"overlay\",\"size\":10,\"solidity\":0.2}},\"type\":\"bar\"}],\"barpolar\":[{\"marker\":{\"line\":{\"color\":\"#E5ECF6\",\"width\":0.5},\"pattern\":{\"fillmode\":\"overlay\",\"size\":10,\"solidity\":0.2}},\"type\":\"barpolar\"}],\"carpet\":[{\"aaxis\":{\"endlinecolor\":\"#2a3f5f\",\"gridcolor\":\"white\",\"linecolor\":\"white\",\"minorgridcolor\":\"white\",\"startlinecolor\":\"#2a3f5f\"},\"baxis\":{\"endlinecolor\":\"#2a3f5f\",\"gridcolor\":\"white\",\"linecolor\":\"white\",\"minorgridcolor\":\"white\",\"startlinecolor\":\"#2a3f5f\"},\"type\":\"carpet\"}],\"choropleth\":[{\"colorbar\":{\"outlinewidth\":0,\"ticks\":\"\"},\"type\":\"choropleth\"}],\"contour\":[{\"colorbar\":{\"outlinewidth\":0,\"ticks\":\"\"},\"colorscale\":[[0.0,\"#0d0887\"],[0.1111111111111111,\"#46039f\"],[0.2222222222222222,\"#7201a8\"],[0.3333333333333333,\"#9c179e\"],[0.4444444444444444,\"#bd3786\"],[0.5555555555555556,\"#d8576b\"],[0.6666666666666666,\"#ed7953\"],[0.7777777777777778,\"#fb9f3a\"],[0.8888888888888888,\"#fdca26\"],[1.0,\"#f0f921\"]],\"type\":\"contour\"}],\"contourcarpet\":[{\"colorbar\":{\"outlinewidth\":0,\"ticks\":\"\"},\"type\":\"contourcarpet\"}],\"heatmap\":[{\"colorbar\":{\"outlinewidth\":0,\"ticks\":\"\"},\"colorscale\":[[0.0,\"#0d0887\"],[0.1111111111111111,\"#46039f\"],[0.2222222222222222,\"#7201a8\"],[0.3333333333333333,\"#9c179e\"],[0.4444444444444444,\"#bd3786\"],[0.5555555555555556,\"#d8576b\"],[0.6666666666666666,\"#ed7953\"],[0.7777777777777778,\"#fb9f3a\"],[0.8888888888888888,\"#fdca26\"],[1.0,\"#f0f921\"]],\"type\":\"heatmap\"}],\"heatmapgl\":[{\"colorbar\":{\"outlinewidth\":0,\"ticks\":\"\"},\"colorscale\":[[0.0,\"#0d0887\"],[0.1111111111111111,\"#46039f\"],[0.2222222222222222,\"#7201a8\"],[0.3333333333333333,\"#9c179e\"],[0.4444444444444444,\"#bd3786\"],[0.5555555555555556,\"#d8576b\"],[0.6666666666666666,\"#ed7953\"],[0.7777777777777778,\"#fb9f3a\"],[0.8888888888888888,\"#fdca26\"],[1.0,\"#f0f921\"]],\"type\":\"heatmapgl\"}],\"histogram\":[{\"marker\":{\"pattern\":{\"fillmode\":\"overlay\",\"size\":10,\"solidity\":0.2}},\"type\":\"histogram\"}],\"histogram2d\":[{\"colorbar\":{\"outlinewidth\":0,\"ticks\":\"\"},\"colorscale\":[[0.0,\"#0d0887\"],[0.1111111111111111,\"#46039f\"],[0.2222222222222222,\"#7201a8\"],[0.3333333333333333,\"#9c179e\"],[0.4444444444444444,\"#bd3786\"],[0.5555555555555556,\"#d8576b\"],[0.6666666666666666,\"#ed7953\"],[0.7777777777777778,\"#fb9f3a\"],[0.8888888888888888,\"#fdca26\"],[1.0,\"#f0f921\"]],\"type\":\"histogram2d\"}],\"histogram2dcontour\":[{\"colorbar\":{\"outlinewidth\":0,\"ticks\":\"\"},\"colorscale\":[[0.0,\"#0d0887\"],[0.1111111111111111,\"#46039f\"],[0.2222222222222222,\"#7201a8\"],[0.3333333333333333,\"#9c179e\"],[0.4444444444444444,\"#bd3786\"],[0.5555555555555556,\"#d8576b\"],[0.6666666666666666,\"#ed7953\"],[0.7777777777777778,\"#fb9f3a\"],[0.8888888888888888,\"#fdca26\"],[1.0,\"#f0f921\"]],\"type\":\"histogram2dcontour\"}],\"mesh3d\":[{\"colorbar\":{\"outlinewidth\":0,\"ticks\":\"\"},\"type\":\"mesh3d\"}],\"parcoords\":[{\"line\":{\"colorbar\":{\"outlinewidth\":0,\"ticks\":\"\"}},\"type\":\"parcoords\"}],\"pie\":[{\"automargin\":true,\"type\":\"pie\"}],\"scatter\":[{\"marker\":{\"colorbar\":{\"outlinewidth\":0,\"ticks\":\"\"}},\"type\":\"scatter\"}],\"scatter3d\":[{\"line\":{\"colorbar\":{\"outlinewidth\":0,\"ticks\":\"\"}},\"marker\":{\"colorbar\":{\"outlinewidth\":0,\"ticks\":\"\"}},\"type\":\"scatter3d\"}],\"scattercarpet\":[{\"marker\":{\"colorbar\":{\"outlinewidth\":0,\"ticks\":\"\"}},\"type\":\"scattercarpet\"}],\"scattergeo\":[{\"marker\":{\"colorbar\":{\"outlinewidth\":0,\"ticks\":\"\"}},\"type\":\"scattergeo\"}],\"scattergl\":[{\"marker\":{\"colorbar\":{\"outlinewidth\":0,\"ticks\":\"\"}},\"type\":\"scattergl\"}],\"scattermapbox\":[{\"marker\":{\"colorbar\":{\"outlinewidth\":0,\"ticks\":\"\"}},\"type\":\"scattermapbox\"}],\"scatterpolar\":[{\"marker\":{\"colorbar\":{\"outlinewidth\":0,\"ticks\":\"\"}},\"type\":\"scatterpolar\"}],\"scatterpolargl\":[{\"marker\":{\"colorbar\":{\"outlinewidth\":0,\"ticks\":\"\"}},\"type\":\"scatterpolargl\"}],\"scatterternary\":[{\"marker\":{\"colorbar\":{\"outlinewidth\":0,\"ticks\":\"\"}},\"type\":\"scatterternary\"}],\"surface\":[{\"colorbar\":{\"outlinewidth\":0,\"ticks\":\"\"},\"colorscale\":[[0.0,\"#0d0887\"],[0.1111111111111111,\"#46039f\"],[0.2222222222222222,\"#7201a8\"],[0.3333333333333333,\"#9c179e\"],[0.4444444444444444,\"#bd3786\"],[0.5555555555555556,\"#d8576b\"],[0.6666666666666666,\"#ed7953\"],[0.7777777777777778,\"#fb9f3a\"],[0.8888888888888888,\"#fdca26\"],[1.0,\"#f0f921\"]],\"type\":\"surface\"}],\"table\":[{\"cells\":{\"fill\":{\"color\":\"#EBF0F8\"},\"line\":{\"color\":\"white\"}},\"header\":{\"fill\":{\"color\":\"#C8D4E3\"},\"line\":{\"color\":\"white\"}},\"type\":\"table\"}]},\"layout\":{\"annotationdefaults\":{\"arrowcolor\":\"#2a3f5f\",\"arrowhead\":0,\"arrowwidth\":1},\"autotypenumbers\":\"strict\",\"coloraxis\":{\"colorbar\":{\"outlinewidth\":0,\"ticks\":\"\"}},\"colorscale\":{\"diverging\":[[0,\"#8e0152\"],[0.1,\"#c51b7d\"],[0.2,\"#de77ae\"],[0.3,\"#f1b6da\"],[0.4,\"#fde0ef\"],[0.5,\"#f7f7f7\"],[0.6,\"#e6f5d0\"],[0.7,\"#b8e186\"],[0.8,\"#7fbc41\"],[0.9,\"#4d9221\"],[1,\"#276419\"]],\"sequential\":[[0.0,\"#0d0887\"],[0.1111111111111111,\"#46039f\"],[0.2222222222222222,\"#7201a8\"],[0.3333333333333333,\"#9c179e\"],[0.4444444444444444,\"#bd3786\"],[0.5555555555555556,\"#d8576b\"],[0.6666666666666666,\"#ed7953\"],[0.7777777777777778,\"#fb9f3a\"],[0.8888888888888888,\"#fdca26\"],[1.0,\"#f0f921\"]],\"sequentialminus\":[[0.0,\"#0d0887\"],[0.1111111111111111,\"#46039f\"],[0.2222222222222222,\"#7201a8\"],[0.3333333333333333,\"#9c179e\"],[0.4444444444444444,\"#bd3786\"],[0.5555555555555556,\"#d8576b\"],[0.6666666666666666,\"#ed7953\"],[0.7777777777777778,\"#fb9f3a\"],[0.8888888888888888,\"#fdca26\"],[1.0,\"#f0f921\"]]},\"colorway\":[\"#636efa\",\"#EF553B\",\"#00cc96\",\"#ab63fa\",\"#FFA15A\",\"#19d3f3\",\"#FF6692\",\"#B6E880\",\"#FF97FF\",\"#FECB52\"],\"font\":{\"color\":\"#2a3f5f\"},\"geo\":{\"bgcolor\":\"white\",\"lakecolor\":\"white\",\"landcolor\":\"#E5ECF6\",\"showlakes\":true,\"showland\":true,\"subunitcolor\":\"white\"},\"hoverlabel\":{\"align\":\"left\"},\"hovermode\":\"closest\",\"mapbox\":{\"style\":\"light\"},\"paper_bgcolor\":\"white\",\"plot_bgcolor\":\"#E5ECF6\",\"polar\":{\"angularaxis\":{\"gridcolor\":\"white\",\"linecolor\":\"white\",\"ticks\":\"\"},\"bgcolor\":\"#E5ECF6\",\"radialaxis\":{\"gridcolor\":\"white\",\"linecolor\":\"white\",\"ticks\":\"\"}},\"scene\":{\"xaxis\":{\"backgroundcolor\":\"#E5ECF6\",\"gridcolor\":\"white\",\"gridwidth\":2,\"linecolor\":\"white\",\"showbackground\":true,\"ticks\":\"\",\"zerolinecolor\":\"white\"},\"yaxis\":{\"backgroundcolor\":\"#E5ECF6\",\"gridcolor\":\"white\",\"gridwidth\":2,\"linecolor\":\"white\",\"showbackground\":true,\"ticks\":\"\",\"zerolinecolor\":\"white\"},\"zaxis\":{\"backgroundcolor\":\"#E5ECF6\",\"gridcolor\":\"white\",\"gridwidth\":2,\"linecolor\":\"white\",\"showbackground\":true,\"ticks\":\"\",\"zerolinecolor\":\"white\"}},\"shapedefaults\":{\"line\":{\"color\":\"#2a3f5f\"}},\"ternary\":{\"aaxis\":{\"gridcolor\":\"white\",\"linecolor\":\"white\",\"ticks\":\"\"},\"baxis\":{\"gridcolor\":\"white\",\"linecolor\":\"white\",\"ticks\":\"\"},\"bgcolor\":\"#E5ECF6\",\"caxis\":{\"gridcolor\":\"white\",\"linecolor\":\"white\",\"ticks\":\"\"}},\"title\":{\"x\":0.05},\"xaxis\":{\"automargin\":true,\"gridcolor\":\"white\",\"linecolor\":\"white\",\"ticks\":\"\",\"title\":{\"standoff\":15},\"zerolinecolor\":\"white\",\"zerolinewidth\":2},\"yaxis\":{\"automargin\":true,\"gridcolor\":\"white\",\"linecolor\":\"white\",\"ticks\":\"\",\"title\":{\"standoff\":15},\"zerolinecolor\":\"white\",\"zerolinewidth\":2}}},\"legend\":{\"tracegroupgap\":0},\"margin\":{\"t\":50,\"l\":25,\"r\":250,\"b\":25},\"height\":400,\"width\":1100},                        {\"responsive\": true}                    ).then(function(){\n",
       "                            \n",
       "var gd = document.getElementById('c1255e09-c4fc-4528-9aae-025cf41c6870');\n",
       "var x = new MutationObserver(function (mutations, observer) {{\n",
       "        var display = window.getComputedStyle(gd).display;\n",
       "        if (!display || display === 'none') {{\n",
       "            console.log([gd, 'removed!']);\n",
       "            Plotly.purge(gd);\n",
       "            observer.disconnect();\n",
       "        }}\n",
       "}});\n",
       "\n",
       "// Listen for the removal of the full notebook cells\n",
       "var notebookContainer = gd.closest('#notebook-container');\n",
       "if (notebookContainer) {{\n",
       "    x.observe(notebookContainer, {childList: true});\n",
       "}}\n",
       "\n",
       "// Listen for the clearing of the current output cell\n",
       "var outputEl = gd.closest('.output');\n",
       "if (outputEl) {{\n",
       "    x.observe(outputEl, {childList: true});\n",
       "}}\n",
       "\n",
       "                        })                };                });            </script>        </div>"
      ]
     },
     "metadata": {},
     "output_type": "display_data"
    }
   ],
   "source": [
    "fig = px.treemap(myTreemapAgg.query('sum_ProjKosten >0').reset_index(), path=[px.Constant(\"Anzahl Wohnungen nach Projektstatus, Kreis und Quartier\"),'ProjStatus', 'KreisLang', 'QuarLang']\n",
    "                 , values='sum_ProjKosten'\n",
    "                 , color='ProjStatus'\n",
    "                 ## bei discrete scales (bei Klassen und Strings):                 \n",
    "                 #, color_discrete_map={'(?)':'lightgrey','EVP':'gold', 'SP':'#FF3030', 'PdA':'#EE3B3B', 'Grüne':'#A2CD5A','GLP':'#CAFF70','Die Mitte':'orange','FDP':'#104E8B','AL':'deeppink','SVP':'forestgreen', 'FL ZÜRI':'#8B864E','Volt':'#lightblue' }                \n",
    "                 ## bei continuous scales (bei Zahlenwerten):\n",
    "                , color_continuous_scale='cividis'\n",
    "                #, color_continuous_midpoint=np.average(df['AnzBestWir'], weights=df['AnzBestWir'])  \n",
    "                 ,height=400\n",
    "                 ,width=1100                 \n",
    "                )\n",
    "fig.update_traces(root_color=\"grey\")\n",
    "fig.update_layout(margin = dict(t=50, l=25, r=250, b=25))\n",
    "fig.show()"
   ]
  },
  {
   "cell_type": "code",
   "execution_count": 48,
   "metadata": {},
   "outputs": [],
   "source": [
    "#data2betested.dtypes"
   ]
  },
  {
   "cell_type": "markdown",
   "metadata": {},
   "source": [
    "## ---------------------- hier Plausi beendet ---------------------- \n",
    "\n",
    "**Sharepoint als gecheckt markieren!**\n"
   ]
  },
  {
   "cell_type": "markdown",
   "metadata": {
    "tags": []
   },
   "source": [
    "Record auf Sharepoint: **[Link](https://kollaboration.intranet.stzh.ch/orga/ssz-produkte/Lists/SASA_Outputs/DispForm.aspx?ID=901&ContentTypeId=0x0100988EAF029F1EFE4CA675F53C32A5D53D01006DBC563E6FBE9E4EB6FDC780799752E1)**\n",
    "\n",
    "---------------------- "
   ]
  },
  {
   "cell_type": "markdown",
   "metadata": {},
   "source": [
    "Liniendiagramm \n",
    "[Link zur Doku](https://altair-viz.github.io/gallery/multiline_highlight.html)"
   ]
  },
  {
   "cell_type": "markdown",
   "metadata": {
    "tags": []
   },
   "source": [
    "### Test: Choroplethenkarte\n",
    "Importiere die Geodaten als GeoJSON"
   ]
  },
  {
   "cell_type": "markdown",
   "metadata": {},
   "source": [
    "#### Stadtkreise"
   ]
  },
  {
   "cell_type": "code",
   "execution_count": 49,
   "metadata": {},
   "outputs": [
    {
     "data": {
      "text/html": [
       "<div>\n",
       "<style scoped>\n",
       "    .dataframe tbody tr th:only-of-type {\n",
       "        vertical-align: middle;\n",
       "    }\n",
       "\n",
       "    .dataframe tbody tr th {\n",
       "        vertical-align: top;\n",
       "    }\n",
       "\n",
       "    .dataframe thead th {\n",
       "        text-align: right;\n",
       "    }\n",
       "</style>\n",
       "<table border=\"1\" class=\"dataframe\">\n",
       "  <thead>\n",
       "    <tr style=\"text-align: right;\">\n",
       "      <th></th>\n",
       "      <th>id</th>\n",
       "      <th>kname</th>\n",
       "      <th>knr</th>\n",
       "      <th>objid</th>\n",
       "      <th>geometry</th>\n",
       "    </tr>\n",
       "  </thead>\n",
       "  <tbody>\n",
       "    <tr>\n",
       "      <th>0</th>\n",
       "      <td>adm_stadtkreise_v.6</td>\n",
       "      <td>Kreis 7</td>\n",
       "      <td>7</td>\n",
       "      <td>6</td>\n",
       "      <td>POLYGON ((8.54885 47.36602, 8.54901 47.36601, ...</td>\n",
       "    </tr>\n",
       "  </tbody>\n",
       "</table>\n",
       "</div>"
      ],
      "text/plain": [
       "                    id    kname  knr objid                                           geometry\n",
       "0  adm_stadtkreise_v.6  Kreis 7    7     6  POLYGON ((8.54885 47.36602, 8.54901 47.36601, ..."
      ]
     },
     "execution_count": 49,
     "metadata": {},
     "output_type": "execute_result"
    }
   ],
   "source": [
    "# Read abt. Geopandas https://geopandas.org/docs/user_guide/io.html\n",
    "geojson_url_kreise = \"https://www.ogd.stadt-zuerich.ch/wfs/geoportal/Stadtkreise?service=WFS&version=1.1.0&request=GetFeature&outputFormat=GeoJSON&typename=adm_stadtkreise_v\"\n",
    "adm_stadtkreise_v = gpd.read_file(geojson_url_kreise)\n",
    "\n",
    "adm_stadtkreise_v.head(1)\n"
   ]
  },
  {
   "cell_type": "code",
   "execution_count": null,
   "metadata": {},
   "outputs": [],
   "source": []
  },
  {
   "cell_type": "code",
   "execution_count": null,
   "metadata": {},
   "outputs": [],
   "source": []
  },
  {
   "cell_type": "markdown",
   "metadata": {},
   "source": [
    "#### Statistische Zonen"
   ]
  },
  {
   "cell_type": "code",
   "execution_count": 50,
   "metadata": {},
   "outputs": [
    {
     "data": {
      "text/html": [
       "<div>\n",
       "<style scoped>\n",
       "    .dataframe tbody tr th:only-of-type {\n",
       "        vertical-align: middle;\n",
       "    }\n",
       "\n",
       "    .dataframe tbody tr th {\n",
       "        vertical-align: top;\n",
       "    }\n",
       "\n",
       "    .dataframe thead th {\n",
       "        text-align: right;\n",
       "    }\n",
       "</style>\n",
       "<table border=\"1\" class=\"dataframe\">\n",
       "  <thead>\n",
       "    <tr style=\"text-align: right;\">\n",
       "      <th></th>\n",
       "      <th>id</th>\n",
       "      <th>kname</th>\n",
       "      <th>knr</th>\n",
       "      <th>objectid</th>\n",
       "      <th>objid</th>\n",
       "      <th>qname</th>\n",
       "      <th>qnr</th>\n",
       "      <th>stzname</th>\n",
       "      <th>stznr</th>\n",
       "      <th>geometry</th>\n",
       "    </tr>\n",
       "  </thead>\n",
       "  <tbody>\n",
       "    <tr>\n",
       "      <th>0</th>\n",
       "      <td>adm_statzonen_map.1</td>\n",
       "      <td>Kreis 7</td>\n",
       "      <td>7</td>\n",
       "      <td>1</td>\n",
       "      <td>154</td>\n",
       "      <td>Hirslanden</td>\n",
       "      <td>73</td>\n",
       "      <td>Hegibach</td>\n",
       "      <td>7303</td>\n",
       "      <td>POLYGON ((8.55670 47.36406, 8.55682 47.36410, ...</td>\n",
       "    </tr>\n",
       "    <tr>\n",
       "      <th>1</th>\n",
       "      <td>adm_statzonen_map.2</td>\n",
       "      <td>Kreis 7</td>\n",
       "      <td>7</td>\n",
       "      <td>2</td>\n",
       "      <td>89</td>\n",
       "      <td>Hirslanden</td>\n",
       "      <td>73</td>\n",
       "      <td>Klus</td>\n",
       "      <td>7302</td>\n",
       "      <td>POLYGON ((8.57281 47.35806, 8.57278 47.35807, ...</td>\n",
       "    </tr>\n",
       "  </tbody>\n",
       "</table>\n",
       "</div>"
      ],
      "text/plain": [
       "                    id    kname  knr  objectid objid       qname  qnr   stzname  stznr  \\\n",
       "0  adm_statzonen_map.1  Kreis 7    7         1   154  Hirslanden   73  Hegibach   7303   \n",
       "1  adm_statzonen_map.2  Kreis 7    7         2    89  Hirslanden   73      Klus   7302   \n",
       "\n",
       "                                            geometry  \n",
       "0  POLYGON ((8.55670 47.36406, 8.55682 47.36410, ...  \n",
       "1  POLYGON ((8.57281 47.35806, 8.57278 47.35807, ...  "
      ]
     },
     "execution_count": 50,
     "metadata": {},
     "output_type": "execute_result"
    }
   ],
   "source": [
    "# Read abt. Geopandas https://geopandas.org/docs/user_guide/io.html\n",
    "geojson_url_statzonen = \"https://www.ogd.stadt-zuerich.ch/wfs/geoportal/Statistische_Zonen?service=WFS&version=1.1.0&request=GetFeature&outputFormat=GeoJSON&typename=adm_statzonen_map\"\n",
    "adm_statzonen_map = gpd.read_file(geojson_url_statzonen)\n",
    "\n",
    "adm_statzonen_map.head(2)\n"
   ]
  },
  {
   "cell_type": "markdown",
   "metadata": {},
   "source": [
    "#### Statistische Quartiere"
   ]
  },
  {
   "cell_type": "code",
   "execution_count": 51,
   "metadata": {},
   "outputs": [
    {
     "data": {
      "text/html": [
       "<div>\n",
       "<style scoped>\n",
       "    .dataframe tbody tr th:only-of-type {\n",
       "        vertical-align: middle;\n",
       "    }\n",
       "\n",
       "    .dataframe tbody tr th {\n",
       "        vertical-align: top;\n",
       "    }\n",
       "\n",
       "    .dataframe thead th {\n",
       "        text-align: right;\n",
       "    }\n",
       "</style>\n",
       "<table border=\"1\" class=\"dataframe\">\n",
       "  <thead>\n",
       "    <tr style=\"text-align: right;\">\n",
       "      <th></th>\n",
       "      <th>id</th>\n",
       "      <th>kname</th>\n",
       "      <th>knr</th>\n",
       "      <th>objectid</th>\n",
       "      <th>objid</th>\n",
       "      <th>qname</th>\n",
       "      <th>qnr</th>\n",
       "      <th>geometry</th>\n",
       "    </tr>\n",
       "  </thead>\n",
       "  <tbody>\n",
       "    <tr>\n",
       "      <th>0</th>\n",
       "      <td>adm_statistische_quartiere_map.1</td>\n",
       "      <td>Kreis 7</td>\n",
       "      <td>7</td>\n",
       "      <td>1</td>\n",
       "      <td>34</td>\n",
       "      <td>Hirslanden</td>\n",
       "      <td>73</td>\n",
       "      <td>POLYGON ((8.55670 47.36406, 8.55682 47.36410, ...</td>\n",
       "    </tr>\n",
       "    <tr>\n",
       "      <th>1</th>\n",
       "      <td>adm_statistische_quartiere_map.2</td>\n",
       "      <td>Kreis 8</td>\n",
       "      <td>8</td>\n",
       "      <td>2</td>\n",
       "      <td>33</td>\n",
       "      <td>Weinegg</td>\n",
       "      <td>83</td>\n",
       "      <td>POLYGON ((8.55670 47.36405, 8.55672 47.36403, ...</td>\n",
       "    </tr>\n",
       "  </tbody>\n",
       "</table>\n",
       "</div>"
      ],
      "text/plain": [
       "                                 id    kname  knr  objectid objid       qname  qnr  \\\n",
       "0  adm_statistische_quartiere_map.1  Kreis 7    7         1    34  Hirslanden   73   \n",
       "1  adm_statistische_quartiere_map.2  Kreis 8    8         2    33     Weinegg   83   \n",
       "\n",
       "                                            geometry  \n",
       "0  POLYGON ((8.55670 47.36406, 8.55682 47.36410, ...  \n",
       "1  POLYGON ((8.55670 47.36405, 8.55672 47.36403, ...  "
      ]
     },
     "execution_count": 51,
     "metadata": {},
     "output_type": "execute_result"
    }
   ],
   "source": [
    "geojson_url_quartiere = \"https://www.ogd.stadt-zuerich.ch/wfs/geoportal/Statistische_Quartiere?service=WFS&version=1.1.0&request=GetFeature&outputFormat=GeoJSON&typename=adm_statistische_quartiere_map\"\n",
    "df_adm_statistische_quartiere_map = gpd.read_file(geojson_url_quartiere)\n",
    "\n",
    "df_adm_statistische_quartiere_map.head(2)\n"
   ]
  },
  {
   "cell_type": "markdown",
   "metadata": {},
   "source": [
    "### Teste LeafMap\n",
    "\n",
    "Mehr Infos: https://leafmap.org/leafmap/"
   ]
  },
  {
   "cell_type": "code",
   "execution_count": 52,
   "metadata": {},
   "outputs": [
    {
     "data": {
      "application/vnd.jupyter.widget-view+json": {
       "model_id": "03ab3861fb6349f9b6214a8f8f4d21bf",
       "version_major": 2,
       "version_minor": 0
      },
      "text/plain": [
       "Map(center=[20, 0], controls=(ZoomControl(options=['position', 'zoom_in_text', 'zoom_in_title', 'zoom_out_text…"
      ]
     },
     "metadata": {},
     "output_type": "display_data"
    }
   ],
   "source": [
    "m = leafmap.Map()\n",
    "\n",
    "\n",
    "#m.add_geojson(geojson_url_kreise, layer_name=\"adm_stadtkreise_v\", fill_colors=['red', 'yellow', 'green', 'orange'], info_mode=True)\n",
    "m.add_gdf(df_adm_statistische_quartiere_map, layer_name='adm_statistische_quartiere_map', style={}, hover_style={}, style_callback=None, fill_colors=['black'], info_mode='on_hover', zoom_to_layer=True)\n",
    "m.add_gdf(adm_stadtkreise_v, layer_name='adm_stadtkreise_v', style={}, hover_style={}, style_callback=None, fill_colors=['none'], info_mode='on_hover', zoom_to_layer=False)\n",
    "\n",
    "m.add_legend(title='Legende', legend_dict=None, labels=None, colors=None, position='bottomright', builtin_legend=None, layer_name='adm_statistische_quartiere_map')\n",
    "m"
   ]
  },
  {
   "cell_type": "markdown",
   "metadata": {},
   "source": [
    "### Joins\n",
    "Joine die importierten statistischen Daten des aktuellen Jahres zum Geodatensatz:\n",
    "\n",
    "*Siehe dazu Doku zu [Geopandas](https://geopandas.org/docs/user_guide/mergingdata.html)*"
   ]
  },
  {
   "cell_type": "code",
   "execution_count": 127,
   "metadata": {},
   "outputs": [
    {
     "data": {
      "text/plain": [
       "StatZoneCd             int64\n",
       "StatZone              object\n",
       "QuarCd                 int64\n",
       "QuarLang              object\n",
       "KreisCd                int64\n",
       "KreisLang             object\n",
       "EigentumsartSort       int64\n",
       "Eigentumsart          object\n",
       "Whg_abgebrochen        int64\n",
       "Whg_fertigerstellt     int64\n",
       "dtype: object"
      ]
     },
     "execution_count": 127,
     "metadata": {},
     "output_type": "execute_result"
    }
   ],
   "source": [
    "data2betested.dtypes"
   ]
  },
  {
   "cell_type": "code",
   "execution_count": 137,
   "metadata": {},
   "outputs": [
    {
     "data": {
      "text/html": [
       "<div>\n",
       "<style scoped>\n",
       "    .dataframe tbody tr th:only-of-type {\n",
       "        vertical-align: middle;\n",
       "    }\n",
       "\n",
       "    .dataframe tbody tr th {\n",
       "        vertical-align: top;\n",
       "    }\n",
       "\n",
       "    .dataframe thead th {\n",
       "        text-align: right;\n",
       "    }\n",
       "</style>\n",
       "<table border=\"1\" class=\"dataframe\">\n",
       "  <thead>\n",
       "    <tr style=\"text-align: right;\">\n",
       "      <th></th>\n",
       "      <th>QuarLang</th>\n",
       "      <th>QuarCd</th>\n",
       "      <th>sum_Whg_abgebrochen</th>\n",
       "      <th>sum_Whg_fertigerstellt</th>\n",
       "    </tr>\n",
       "  </thead>\n",
       "  <tbody>\n",
       "    <tr>\n",
       "      <th>0</th>\n",
       "      <td>Albisrieden</td>\n",
       "      <td>91</td>\n",
       "      <td>282</td>\n",
       "      <td>89</td>\n",
       "    </tr>\n",
       "  </tbody>\n",
       "</table>\n",
       "</div>"
      ],
      "text/plain": [
       "      QuarLang  QuarCd  sum_Whg_abgebrochen  sum_Whg_fertigerstellt\n",
       "0  Albisrieden      91                  282                      89"
      ]
     },
     "execution_count": 137,
     "metadata": {},
     "output_type": "execute_result"
    }
   ],
   "source": [
    "myAgg = data2betested.loc[\"2021\"]  \\\n",
    "    .groupby(['QuarLang', 'QuarCd']) \\\n",
    "    .agg(sum_Whg_abgebrochen=('Whg_abgebrochen', 'sum'),sum_Whg_fertigerstellt=('Whg_fertigerstellt', 'sum')) \\\n",
    "    .sort_values('sum_Whg_abgebrochen', ascending=False) \n",
    "\n",
    "myAgg.reset_index().head(1)\n"
   ]
  },
  {
   "cell_type": "code",
   "execution_count": 138,
   "metadata": {},
   "outputs": [
    {
     "data": {
      "text/html": [
       "<div>\n",
       "<style scoped>\n",
       "    .dataframe tbody tr th:only-of-type {\n",
       "        vertical-align: middle;\n",
       "    }\n",
       "\n",
       "    .dataframe tbody tr th {\n",
       "        vertical-align: top;\n",
       "    }\n",
       "\n",
       "    .dataframe thead th {\n",
       "        text-align: right;\n",
       "    }\n",
       "</style>\n",
       "<table border=\"1\" class=\"dataframe\">\n",
       "  <thead>\n",
       "    <tr style=\"text-align: right;\">\n",
       "      <th></th>\n",
       "      <th>geometry</th>\n",
       "      <th>QuarCd</th>\n",
       "      <th>qname</th>\n",
       "      <th>knr</th>\n",
       "    </tr>\n",
       "  </thead>\n",
       "  <tbody>\n",
       "    <tr>\n",
       "      <th>0</th>\n",
       "      <td>POLYGON ((8.55670 47.36406, 8.55682 47.36410, ...</td>\n",
       "      <td>73</td>\n",
       "      <td>Hirslanden</td>\n",
       "      <td>7</td>\n",
       "    </tr>\n",
       "  </tbody>\n",
       "</table>\n",
       "</div>"
      ],
      "text/plain": [
       "                                            geometry  QuarCd       qname  knr\n",
       "0  POLYGON ((8.55670 47.36406, 8.55682 47.36410, ...      73  Hirslanden    7"
      ]
     },
     "execution_count": 138,
     "metadata": {},
     "output_type": "execute_result"
    }
   ],
   "source": [
    "# Rename attribute stznr to StatZoneSort, so the IDs have the same name\n",
    "gdf_adm_statistische_quartiere_map = df_adm_statistische_quartiere_map[['geometry', 'qnr', 'qname', 'knr']].rename(columns={'qnr': 'QuarCd'})\n",
    "gdf_adm_statistische_quartiere_map.head(1)"
   ]
  },
  {
   "cell_type": "code",
   "execution_count": 139,
   "metadata": {},
   "outputs": [
    {
     "data": {
      "text/html": [
       "<div>\n",
       "<style scoped>\n",
       "    .dataframe tbody tr th:only-of-type {\n",
       "        vertical-align: middle;\n",
       "    }\n",
       "\n",
       "    .dataframe tbody tr th {\n",
       "        vertical-align: top;\n",
       "    }\n",
       "\n",
       "    .dataframe thead th {\n",
       "        text-align: right;\n",
       "    }\n",
       "</style>\n",
       "<table border=\"1\" class=\"dataframe\">\n",
       "  <thead>\n",
       "    <tr style=\"text-align: right;\">\n",
       "      <th></th>\n",
       "      <th>geometry</th>\n",
       "      <th>QuarCd</th>\n",
       "      <th>qname</th>\n",
       "      <th>knr</th>\n",
       "      <th>sum_Whg_abgebrochen</th>\n",
       "      <th>sum_Whg_fertigerstellt</th>\n",
       "    </tr>\n",
       "  </thead>\n",
       "  <tbody>\n",
       "    <tr>\n",
       "      <th>0</th>\n",
       "      <td>POLYGON ((8.55670 47.36406, 8.55682 47.36410, ...</td>\n",
       "      <td>73</td>\n",
       "      <td>Hirslanden</td>\n",
       "      <td>7</td>\n",
       "      <td>48</td>\n",
       "      <td>2</td>\n",
       "    </tr>\n",
       "    <tr>\n",
       "      <th>1</th>\n",
       "      <td>POLYGON ((8.55670 47.36405, 8.55672 47.36403, ...</td>\n",
       "      <td>83</td>\n",
       "      <td>Weinegg</td>\n",
       "      <td>8</td>\n",
       "      <td>2</td>\n",
       "      <td>0</td>\n",
       "    </tr>\n",
       "  </tbody>\n",
       "</table>\n",
       "</div>"
      ],
      "text/plain": [
       "                                            geometry  QuarCd       qname  knr  \\\n",
       "0  POLYGON ((8.55670 47.36406, 8.55682 47.36410, ...      73  Hirslanden    7   \n",
       "1  POLYGON ((8.55670 47.36405, 8.55672 47.36403, ...      83     Weinegg    8   \n",
       "\n",
       "   sum_Whg_abgebrochen  sum_Whg_fertigerstellt  \n",
       "0                   48                       2  \n",
       "1                    2                       0  "
      ]
     },
     "execution_count": 139,
     "metadata": {},
     "output_type": "execute_result"
    }
   ],
   "source": [
    "# Merge with `merge` method on shared variable (stznr und StatZoneSort):\n",
    "gdf_adm_statistische_quartiere_map_joined = gdf_adm_statistische_quartiere_map.merge(myAgg, on='QuarCd')\n",
    "gdf_adm_statistische_quartiere_map_joined.head(2)\n"
   ]
  },
  {
   "cell_type": "code",
   "execution_count": 142,
   "metadata": {},
   "outputs": [
    {
     "data": {
      "text/plain": [
       "<AxesSubplot:>"
      ]
     },
     "execution_count": 142,
     "metadata": {},
     "output_type": "execute_result"
    },
    {
     "data": {
      "image/png": "[encoded data removed]",
      "text/plain": [
       "<Figure size 432x288 with 1 Axes>"
      ]
     },
     "metadata": {
      "needs_background": "light"
     },
     "output_type": "display_data"
    },
    {
     "data": {
      "image/png": "[encoded data removed]",
      "text/plain": [
       "<Figure size 432x288 with 1 Axes>"
      ]
     },
     "metadata": {
      "needs_background": "light"
     },
     "output_type": "display_data"
    }
   ],
   "source": [
    "# Plot by StatQuartiere\n",
    "# Weitere Schemes: scheme='quantiles', scheme='fisherjenks', scheme='natural_breaks',\n",
    "\n",
    "gdf_adm_statistische_quartiere_map_joined.plot(column='sum_Whg_fertigerstellt', cmap='viridis', scheme='natural_breaks', legend=True )\n",
    "gdf_adm_statistische_quartiere_map_joined.plot(column='sum_Whg_abgebrochen', cmap='viridis', scheme='natural_breaks', legend=True )\n",
    "\n",
    "#gdf_adm_statistische_quartiere_map_joined.plot(column='sum_Whg_abgebrochen', cmap='plasma', scheme='fisherjenks', legend=True )\n",
    "#gdf_adm_statistische_quartiere_map_joined.plot(column='sum_Whg_fertigerstellt', cmap='cool', scheme='quantiles', legend=True )\n",
    "#scheme werte: https://matplotlib.org/2.0.2/users/colormaps.html\n",
    "\n",
    "#\n",
    "#Neuere Gallerie: https://matplotlib.org/stable/gallery/index.html"
   ]
  },
  {
   "cell_type": "code",
   "execution_count": 157,
   "metadata": {},
   "outputs": [
    {
     "data": {
      "text/plain": [
       "<AxesSubplot:>"
      ]
     },
     "execution_count": 157,
     "metadata": {},
     "output_type": "execute_result"
    },
    {
     "data": {
      "image/png": "[encoded data removed]",
      "text/plain": [
       "<Figure size 432x288 with 2 Axes>"
      ]
     },
     "metadata": {
      "needs_background": "light"
     },
     "output_type": "display_data"
    }
   ],
   "source": [
    "fig, ax = plt.subplots(1, 1)\n",
    "\n",
    "gdf_adm_statistische_quartiere_map_joined.plot(column='sum_Whg_abgebrochen', ax=ax, legend=True, legend_kwds={'label': \"Anzahl abgebrochene Wohnungen 2021\",'orientation': \"horizontal\"})\n",
    "gdf_adm_statistische_quartiere_map_joined.plot(column='sum_Whg_fertigerstellt', ax=ax, legend=False, legend_kwds={'label': \"Anzahl fertigerstellte Wohnungen 2021\",'orientation': \"horizontal\"})\n",
    "\n",
    "#gdf_adm_statistische_quartiere_map_joined.plot(column='sum_Whg_abgebrochen', cmap='viridis', scheme='natural_breaks', legend=True , ax=ax, legend_kwds={'label': \"Anzahl Personen\",'orientation': \"horizontal\"})"
   ]
  },
  {
   "cell_type": "markdown",
   "metadata": {},
   "source": [
    "Noch zu prüfen, folgendes schöne Beispiel: https://docs.bokeh.org/en/latest/docs/user_guide/interaction/legends.html\n",
    "\n",
    "Konkrete Beispiele von Bookeh in Jupyter NB: https://docs.bokeh.org/en/latest/docs/user_guide/jupyter.html"
   ]
  },
  {
   "cell_type": "markdown",
   "metadata": {},
   "source": [
    "Noch zu prüfen, folgendes schöne Beispiel: https://docs.bokeh.org/en/latest/docs/user_guide/interaction/legends.html\n",
    "\n",
    "Konkrete Beispiele von Bookeh in Jupyter NB: https://docs.bokeh.org/en/latest/docs/user_guide/jupyter.html"
   ]
  },
  {
   "cell_type": "raw",
   "metadata": {},
   "source": []
  },
  {
   "cell_type": "code",
   "execution_count": null,
   "metadata": {},
   "outputs": [],
   "source": []
  }
 ],
 "metadata": {
  "kernelspec": {
   "display_name": "Python 3 (ipykernel)",
   "language": "python",
   "name": "python3"
  },
  "language_info": {
   "codemirror_mode": {
    "name": "ipython",
    "version": 3
   },
   "file_extension": ".py",
   "mimetype": "text/x-python",
   "name": "python",
   "nbconvert_exporter": "python",
   "pygments_lexer": "ipython3",
   "version": "3.7.11"
  }
 },
 "nbformat": 4,
 "nbformat_minor": 4
}
