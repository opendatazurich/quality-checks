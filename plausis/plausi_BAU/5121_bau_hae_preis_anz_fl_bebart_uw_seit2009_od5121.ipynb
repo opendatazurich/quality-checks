{
 "cells": [
  {
   "cell_type": "markdown",
   "metadata": {},
   "source": [
    "# Testing\n",
    "### Grundstückspreise (Median) der im Freihandkauf umgesetzten Grundstücke nach Bebauungsart (Bauzone), seit 2009\n",
    "Diese Daten beinhalten die Medianpreise pro Quadratmeter Bauland von gehandelten Grundstücken in der Stadt Zürich nach Handänderungsjahr und Bebauungstyp, ergänzt mit der Anzahl Handänderungen, gehandelter Fläche und Umsatzwert, der für die Zahlen berücksichtigt wurde.\n",
    "\n",
    "Datum: 03.02.2022"
   ]
  },
  {
   "cell_type": "markdown",
   "metadata": {},
   "source": [
    "### Importiere die notwendigen Packages"
   ]
  },
  {
   "cell_type": "code",
   "execution_count": 18,
   "metadata": {},
   "outputs": [],
   "source": [
    "#%pip install geopandas altair fiona requests folium mplleaflet contextily seaborn datetime plotly"
   ]
  },
  {
   "cell_type": "code",
   "execution_count": 19,
   "metadata": {},
   "outputs": [],
   "source": [
    "import pandas as pd\n",
    "import pivottablejs\n",
    "from pivottablejs import pivot_ui\n",
    "import numpy as np\n",
    "import altair as alt\n",
    "import matplotlib.pyplot as plt\n",
    "#from datetime import datetime\n",
    "import datetime\n",
    "import geopandas as gpd\n",
    "import folium \n",
    "import plotly.express as px\n",
    "import seaborn as sns\n"
   ]
  },
  {
   "cell_type": "markdown",
   "metadata": {},
   "source": [
    "Definiere Settings. Hier das Zahlenformat von Float-Werten (z.B. *'{:,.2f}'.format* mit Komma als Tausenderzeichen), "
   ]
  },
  {
   "cell_type": "code",
   "execution_count": 20,
   "metadata": {},
   "outputs": [],
   "source": [
    "pd.options.display.float_format = '{:.0f}'.format\n",
    "pd.set_option('display.width', 100)\n",
    "pd.set_option('display.max_columns', 15)"
   ]
  },
  {
   "cell_type": "markdown",
   "metadata": {},
   "source": [
    "### Zeitvariabeln\n",
    "Bestimme den aktuellst geladenen Monat. Hier ist es der Stand vor 2 Monaten. \n",
    "Bestimme noch weitere evt. sinnvolle Zeitvariabeln.\n",
    "\n",
    "Zum Unterschied zwischen import datetime und from datedtime import datetime, siehe https://stackoverflow.com/questions/15707532/import-datetime-v-s-from-datetime-import-datetime\n",
    "\n",
    "Zuerst die Zeitvariabeln als Strings"
   ]
  },
  {
   "cell_type": "code",
   "execution_count": 21,
   "metadata": {},
   "outputs": [],
   "source": [
    "#today_date = datetime.date.today()\n",
    "#date_time = datetime.datetime.strptime(date_time_string, '%Y-%m-%d %H:%M')\n",
    "now = datetime.date.today()\n",
    "date_today = now.strftime(\"%Y-%m-%d\")\n",
    "year_today = now.strftime(\"%Y\")\n",
    "month_today = now.strftime(\"%m\")\n",
    "day_today = now.strftime(\"%d\")\n"
   ]
  },
  {
   "cell_type": "markdown",
   "metadata": {},
   "source": [
    "Und hier noch die Zeitvariabeln als Integers:\n",
    "- `aktuellesJahr`\n",
    "- `aktuellerMonat`: Der gerade jetzt aktuelle Monat\n",
    "- `selectedMonat`: Der aktuellste Monat in den Daten. In der Regel zwei Monate her."
   ]
  },
  {
   "cell_type": "code",
   "execution_count": 22,
   "metadata": {},
   "outputs": [
    {
     "name": "stdout",
     "output_type": "stream",
     "text": [
      "2022 2 datenstand:  0 time.struct_time(tm_year=2022, tm_mon=2, tm_mday=4, tm_hour=0, tm_min=0, tm_sec=0, tm_wday=4, tm_yday=35, tm_isdst=-1)\n"
     ]
    }
   ],
   "source": [
    "#now = datetime.now() \n",
    "int_times = now.timetuple()\n",
    "\n",
    "aktuellesJahr = int_times[0]\n",
    "aktuellerMonat = int_times[1]\n",
    "selectedMonat = int_times[1]-2\n",
    "\n",
    "print(aktuellesJahr, \n",
    "      aktuellerMonat,\n",
    "    'datenstand: ', selectedMonat,\n",
    "     int_times)\n"
   ]
  },
  {
   "cell_type": "markdown",
   "metadata": {},
   "source": [
    "Berechne die Variable Epoche um später das SAS-Datum in ein Unix-Datum umzuwandeln. Bei SAS beginnt die Epoche am 1.1.1960. Bei Unix am 1.1.1970.\n",
    "Diese Variable wird beim CSV-Import benötigt."
   ]
  },
  {
   "cell_type": "code",
   "execution_count": 23,
   "metadata": {},
   "outputs": [],
   "source": [
    "epoch = datetime.datetime(1960, 1, 1)"
   ]
  },
  {
   "cell_type": "markdown",
   "metadata": {
    "tags": []
   },
   "source": [
    "### Importiere einen Datensatz \n",
    "\n",
    "- Beachte dabei die Notation des Pfades...\n",
    "- Definiere mal aktuell noch keine weiteren Parameter beim Import"
   ]
  },
  {
   "cell_type": "markdown",
   "metadata": {},
   "source": [
    "**Dataset auf INTEG Datenkatalog**:  https://data.integ.stadt-zuerich.ch/dataset/int_dwh_bau_hae_preis_anz_fl_bebart_uw_seit2009_od5121\n",
    "\n",
    "**Dataset auf PROD Datenkatalog**:  https://data.stadt-zuerich.ch/dataset/bau_hae_preis_anz_fl_bebart_uw_seit2009_od5121\n"
   ]
  },
  {
   "cell_type": "code",
   "execution_count": 24,
   "metadata": {},
   "outputs": [
    {
     "name": "stdout",
     "output_type": "stream",
     "text": [
      "int\n"
     ]
    }
   ],
   "source": [
    "#Die Datasets sind nur zum Testen auf INT-DWH-Dropzone. Wenn der Test vorbei ist, sind sie auf PROD. \n",
    "# Über den Status kann man einfach switchen\n",
    "\n",
    "status = \"int\";\n",
    "print(status)"
   ]
  },
  {
   "cell_type": "code",
   "execution_count": 25,
   "metadata": {
    "tags": []
   },
   "outputs": [
    {
     "name": "stdout",
     "output_type": "stream",
     "text": [
      "\\\\szh\\ssz\\applikationen\\OGD_Dropzone\\INT_DWH\\bau_hae_preis_anz_fl_bebart_uw_seit2009_od5121\\BAU512OD5121.csv\n"
     ]
    }
   ],
   "source": [
    "# Filepath\n",
    "if status == \"prod\":\n",
    "    fp = r\"https://data.stadt-zuerich.ch/dataset/bau_hae_preis_anz_fl_bebart_uw_seit2009_od5121/download/BAU512OD5121.csv\"\n",
    "else:\n",
    "    fp = r\"\\\\szh\\ssz\\applikationen\\OGD_Dropzone\\INT_DWH\\bau_hae_preis_anz_fl_bebart_uw_seit2009_od5121\\BAU512OD5121.csv\"   \n",
    "\n",
    "print(fp)"
   ]
  },
  {
   "cell_type": "code",
   "execution_count": 26,
   "metadata": {},
   "outputs": [
    {
     "name": "stdout",
     "output_type": "stream",
     "text": [
      "done\n"
     ]
    }
   ],
   "source": [
    "# Read the data\n",
    "data2betested = pd.read_csv(\n",
    "    fp\n",
    "    , sep=','\n",
    "    ,parse_dates=['Jahr']\n",
    "    # KONVERTIERE DAS SAS DATUM IN EIN UNIXDATUM UND FORMATIERE ES\n",
    "    #, date_parser=lambda s: epoch + datetime.timedelta(days=int(s))\n",
    "    ,low_memory=False    \n",
    "    )\n",
    "\n",
    "print('done')"
   ]
  },
  {
   "cell_type": "markdown",
   "metadata": {},
   "source": [
    "In der Folge ein paar erste Tests:"
   ]
  },
  {
   "cell_type": "markdown",
   "metadata": {},
   "source": [
    " - 1) Zeige eine kurze Vorschau der importierten Daten\n",
    " - 2) Weise die Datentypen aus\n",
    " - 3) Zeige die Shape (Umfang) des Datensatzes an"
   ]
  },
  {
   "cell_type": "code",
   "execution_count": 27,
   "metadata": {},
   "outputs": [],
   "source": [
    "#data2betested.head(6)"
   ]
  },
  {
   "cell_type": "code",
   "execution_count": 28,
   "metadata": {},
   "outputs": [
    {
     "data": {
      "text/plain": [
       "Jahr          datetime64[ns]\n",
       "HaeGrstTyp            object\n",
       "Medianqmp              int64\n",
       "Anzahl_HAE            object\n",
       "Totalm2              float64\n",
       "Umsatzwert             int64\n",
       "Typ                   object\n",
       "dtype: object"
      ]
     },
     "execution_count": 28,
     "metadata": {},
     "output_type": "execute_result"
    }
   ],
   "source": [
    "data2betested.dtypes"
   ]
  },
  {
   "cell_type": "code",
   "execution_count": 29,
   "metadata": {},
   "outputs": [
    {
     "data": {
      "text/plain": [
       "(127, 7)"
      ]
     },
     "execution_count": 29,
     "metadata": {},
     "output_type": "execute_result"
    }
   ],
   "source": [
    "data2betested.shape"
   ]
  },
  {
   "cell_type": "markdown",
   "metadata": {},
   "source": [
    "Beschreibe einzelne Attribute"
   ]
  },
  {
   "cell_type": "code",
   "execution_count": 30,
   "metadata": {},
   "outputs": [
    {
     "data": {
      "text/html": [
       "<div>\n",
       "<style scoped>\n",
       "    .dataframe tbody tr th:only-of-type {\n",
       "        vertical-align: middle;\n",
       "    }\n",
       "\n",
       "    .dataframe tbody tr th {\n",
       "        vertical-align: top;\n",
       "    }\n",
       "\n",
       "    .dataframe thead th {\n",
       "        text-align: right;\n",
       "    }\n",
       "</style>\n",
       "<table border=\"1\" class=\"dataframe\">\n",
       "  <thead>\n",
       "    <tr style=\"text-align: right;\">\n",
       "      <th></th>\n",
       "      <th>Medianqmp</th>\n",
       "      <th>Totalm2</th>\n",
       "      <th>Umsatzwert</th>\n",
       "    </tr>\n",
       "  </thead>\n",
       "  <tbody>\n",
       "    <tr>\n",
       "      <th>count</th>\n",
       "      <td>127</td>\n",
       "      <td>127</td>\n",
       "      <td>127</td>\n",
       "    </tr>\n",
       "    <tr>\n",
       "      <th>mean</th>\n",
       "      <td>10480</td>\n",
       "      <td>66153</td>\n",
       "      <td>636412571</td>\n",
       "    </tr>\n",
       "    <tr>\n",
       "      <th>std</th>\n",
       "      <td>6825</td>\n",
       "      <td>44493</td>\n",
       "      <td>528844363</td>\n",
       "    </tr>\n",
       "    <tr>\n",
       "      <th>min</th>\n",
       "      <td>2800</td>\n",
       "      <td>94</td>\n",
       "      <td>4100000</td>\n",
       "    </tr>\n",
       "    <tr>\n",
       "      <th>25%</th>\n",
       "      <td>4960</td>\n",
       "      <td>47060</td>\n",
       "      <td>214151005</td>\n",
       "    </tr>\n",
       "    <tr>\n",
       "      <th>50%</th>\n",
       "      <td>8400</td>\n",
       "      <td>61659</td>\n",
       "      <td>535303264</td>\n",
       "    </tr>\n",
       "    <tr>\n",
       "      <th>75%</th>\n",
       "      <td>14205</td>\n",
       "      <td>81339</td>\n",
       "      <td>989953658</td>\n",
       "    </tr>\n",
       "    <tr>\n",
       "      <th>max</th>\n",
       "      <td>43670</td>\n",
       "      <td>184413</td>\n",
       "      <td>2726646783</td>\n",
       "    </tr>\n",
       "  </tbody>\n",
       "</table>\n",
       "</div>"
      ],
      "text/plain": [
       "       Medianqmp  Totalm2  Umsatzwert\n",
       "count        127      127         127\n",
       "mean       10480    66153   636412571\n",
       "std         6825    44493   528844363\n",
       "min         2800       94     4100000\n",
       "25%         4960    47060   214151005\n",
       "50%         8400    61659   535303264\n",
       "75%        14205    81339   989953658\n",
       "max        43670   184413  2726646783"
      ]
     },
     "execution_count": 30,
     "metadata": {},
     "output_type": "execute_result"
    }
   ],
   "source": [
    "data2betested.describe()"
   ]
  },
  {
   "cell_type": "markdown",
   "metadata": {},
   "source": [
    "Wie viele Nullwerte gibt es im Datensatz?"
   ]
  },
  {
   "cell_type": "code",
   "execution_count": 31,
   "metadata": {
    "scrolled": true
   },
   "outputs": [
    {
     "data": {
      "text/plain": [
       "Jahr          0\n",
       "HaeGrstTyp    0\n",
       "Medianqmp     0\n",
       "Anzahl_HAE    0\n",
       "Totalm2       0\n",
       "Umsatzwert    0\n",
       "Typ           0\n",
       "dtype: int64"
      ]
     },
     "execution_count": 31,
     "metadata": {},
     "output_type": "execute_result"
    }
   ],
   "source": [
    "data2betested.isnull().sum()"
   ]
  },
  {
   "cell_type": "markdown",
   "metadata": {
    "colab_type": "text",
    "id": "1dTPVmmsgOVx"
   },
   "source": [
    "### Verwende das Datum als Index\n",
    "\n",
    "While we did already parse the `datetime` column into the respective datetime type, it currently is just a regular column. \n",
    "**To enable quick and convenient queries and aggregations, we need to turn it into the index of the DataFrame**"
   ]
  },
  {
   "cell_type": "code",
   "execution_count": 32,
   "metadata": {},
   "outputs": [],
   "source": [
    "data2betested = data2betested.set_index(\"Jahr\")"
   ]
  },
  {
   "cell_type": "code",
   "execution_count": 33,
   "metadata": {},
   "outputs": [
    {
     "name": "stdout",
     "output_type": "stream",
     "text": [
      "<class 'pandas.core.frame.DataFrame'>\n",
      "DatetimeIndex: 127 entries, 2009-01-01 to 2021-01-01\n",
      "Data columns (total 6 columns):\n",
      " #   Column      Non-Null Count  Dtype  \n",
      "---  ------      --------------  -----  \n",
      " 0   HaeGrstTyp  127 non-null    object \n",
      " 1   Medianqmp   127 non-null    int64  \n",
      " 2   Anzahl_HAE  127 non-null    object \n",
      " 3   Totalm2     127 non-null    float64\n",
      " 4   Umsatzwert  127 non-null    int64  \n",
      " 5   Typ         127 non-null    object \n",
      "dtypes: float64(1), int64(2), object(3)\n",
      "memory usage: 6.9+ KB\n"
     ]
    },
    {
     "data": {
      "text/plain": [
       "Int64Index([1], dtype='int64', name='Jahr')"
      ]
     },
     "execution_count": 33,
     "metadata": {},
     "output_type": "execute_result"
    }
   ],
   "source": [
    "data2betested.info()\n",
    "data2betested.index.day.unique()"
   ]
  },
  {
   "cell_type": "markdown",
   "metadata": {},
   "source": [
    "### Einfache Visualisierungen zur Plausi"
   ]
  },
  {
   "cell_type": "markdown",
   "metadata": {},
   "source": [
    "Exploriere die Daten mit Pivottable.JS"
   ]
  },
  {
   "cell_type": "code",
   "execution_count": 34,
   "metadata": {},
   "outputs": [
    {
     "data": {
      "text/html": [
       "\n",
       "        <iframe\n",
       "            width=\"100%\"\n",
       "            height=\"500\"\n",
       "            src=\"pivottablejs.html\"\n",
       "            frameborder=\"0\"\n",
       "            allowfullscreen\n",
       "        ></iframe>\n",
       "        "
      ],
      "text/plain": [
       "<IPython.lib.display.IFrame at 0x25a191a4400>"
      ]
     },
     "execution_count": 34,
     "metadata": {},
     "output_type": "execute_result"
    }
   ],
   "source": [
    "from pivottablejs import pivot_ui\n",
    "\n",
    "pivot_ui(data2betested)"
   ]
  },
  {
   "cell_type": "markdown",
   "metadata": {},
   "source": [
    "### Zeitpunkte und Zeiträume abfragen\n",
    "\n",
    "A particular powerful feature of the Pandas DataFrame is its indexing capability that also works using time-based entities, such as dates and times. We have already created the index above, so let's put it to use."
   ]
  },
  {
   "cell_type": "code",
   "execution_count": 38,
   "metadata": {},
   "outputs": [
    {
     "data": {
      "text/html": [
       "<div>\n",
       "<style scoped>\n",
       "    .dataframe tbody tr th:only-of-type {\n",
       "        vertical-align: middle;\n",
       "    }\n",
       "\n",
       "    .dataframe tbody tr th {\n",
       "        vertical-align: top;\n",
       "    }\n",
       "\n",
       "    .dataframe thead th {\n",
       "        text-align: right;\n",
       "    }\n",
       "</style>\n",
       "<table border=\"1\" class=\"dataframe\">\n",
       "  <thead>\n",
       "    <tr style=\"text-align: right;\">\n",
       "      <th></th>\n",
       "      <th>HaeGrstTyp</th>\n",
       "      <th>Medianqmp</th>\n",
       "      <th>Anzahl_HAE</th>\n",
       "      <th>Totalm2</th>\n",
       "      <th>Umsatzwert</th>\n",
       "      <th>Typ</th>\n",
       "    </tr>\n",
       "    <tr>\n",
       "      <th>Jahr</th>\n",
       "      <th></th>\n",
       "      <th></th>\n",
       "      <th></th>\n",
       "      <th></th>\n",
       "      <th></th>\n",
       "      <th></th>\n",
       "    </tr>\n",
       "  </thead>\n",
       "  <tbody>\n",
       "    <tr>\n",
       "      <th>2009-01-01</th>\n",
       "      <td>Einfamilienhäuser</td>\n",
       "      <td>2810</td>\n",
       "      <td>131</td>\n",
       "      <td>55921</td>\n",
       "      <td>186119400</td>\n",
       "      <td>alle Freihandkäufe</td>\n",
       "    </tr>\n",
       "    <tr>\n",
       "      <th>2009-01-01</th>\n",
       "      <td>Mehrfamilienhäuser</td>\n",
       "      <td>7010</td>\n",
       "      <td>554</td>\n",
       "      <td>169355</td>\n",
       "      <td>972004731</td>\n",
       "      <td>alle Freihandkäufe</td>\n",
       "    </tr>\n",
       "  </tbody>\n",
       "</table>\n",
       "</div>"
      ],
      "text/plain": [
       "                    HaeGrstTyp  Medianqmp Anzahl_HAE  Totalm2  Umsatzwert                 Typ\n",
       "Jahr                                                                                         \n",
       "2009-01-01   Einfamilienhäuser       2810        131    55921   186119400  alle Freihandkäufe\n",
       "2009-01-01  Mehrfamilienhäuser       7010        554   169355   972004731  alle Freihandkäufe"
      ]
     },
     "execution_count": 38,
     "metadata": {},
     "output_type": "execute_result"
    }
   ],
   "source": [
    "data2betested.loc[\"2009\"].head(2)"
   ]
  },
  {
   "cell_type": "markdown",
   "metadata": {},
   "source": [
    "### Visualisierungen nach Zeitausschnitten"
   ]
  },
  {
   "cell_type": "markdown",
   "metadata": {
    "tags": []
   },
   "source": [
    "#### Entwicklung der Umsatzwerte nach HAE Grundstücktyp seit 2009"
   ]
  },
  {
   "cell_type": "code",
   "execution_count": 63,
   "metadata": {},
   "outputs": [],
   "source": [
    "#data2betested.dtypes"
   ]
  },
  {
   "cell_type": "code",
   "execution_count": 64,
   "metadata": {
    "tags": []
   },
   "outputs": [
    {
     "data": {
      "text/html": [
       "<div>\n",
       "<style scoped>\n",
       "    .dataframe tbody tr th:only-of-type {\n",
       "        vertical-align: middle;\n",
       "    }\n",
       "\n",
       "    .dataframe tbody tr th {\n",
       "        vertical-align: top;\n",
       "    }\n",
       "\n",
       "    .dataframe thead th {\n",
       "        text-align: right;\n",
       "    }\n",
       "</style>\n",
       "<table border=\"1\" class=\"dataframe\">\n",
       "  <thead>\n",
       "    <tr style=\"text-align: right;\">\n",
       "      <th></th>\n",
       "      <th>Jahr</th>\n",
       "      <th>HaeGrstTyp</th>\n",
       "      <th>sum_Anzahl_HAE</th>\n",
       "      <th>sum_Totalm2</th>\n",
       "      <th>sum_Umsatzwert</th>\n",
       "    </tr>\n",
       "  </thead>\n",
       "  <tbody>\n",
       "    <tr>\n",
       "      <th>0</th>\n",
       "      <td>2021-01-01</td>\n",
       "      <td>übrige Wohnhäuser</td>\n",
       "      <td>1-3</td>\n",
       "      <td>94</td>\n",
       "      <td>4100000</td>\n",
       "    </tr>\n",
       "    <tr>\n",
       "      <th>1</th>\n",
       "      <td>2021-01-01</td>\n",
       "      <td>Wohnhäuser mit Geschäftsräumen</td>\n",
       "      <td>45575</td>\n",
       "      <td>136321</td>\n",
       "      <td>1944900038</td>\n",
       "    </tr>\n",
       "    <tr>\n",
       "      <th>2</th>\n",
       "      <td>2021-01-01</td>\n",
       "      <td>Nutzbauten</td>\n",
       "      <td>7459</td>\n",
       "      <td>121586</td>\n",
       "      <td>3041681452</td>\n",
       "    </tr>\n",
       "    <tr>\n",
       "      <th>3</th>\n",
       "      <td>2021-01-01</td>\n",
       "      <td>Mehrfamilienhäuser</td>\n",
       "      <td>530107</td>\n",
       "      <td>236138</td>\n",
       "      <td>2586625995</td>\n",
       "    </tr>\n",
       "    <tr>\n",
       "      <th>4</th>\n",
       "      <td>2021-01-01</td>\n",
       "      <td>Einfamilienhäuser</td>\n",
       "      <td>120115</td>\n",
       "      <td>130654</td>\n",
       "      <td>773921416</td>\n",
       "    </tr>\n",
       "    <tr>\n",
       "      <th>...</th>\n",
       "      <td>...</td>\n",
       "      <td>...</td>\n",
       "      <td>...</td>\n",
       "      <td>...</td>\n",
       "      <td>...</td>\n",
       "    </tr>\n",
       "    <tr>\n",
       "      <th>59</th>\n",
       "      <td>2009-01-01</td>\n",
       "      <td>Wohnhäuser mit Geschäftsräumen</td>\n",
       "      <td>23491</td>\n",
       "      <td>126392</td>\n",
       "      <td>939134922</td>\n",
       "    </tr>\n",
       "    <tr>\n",
       "      <th>60</th>\n",
       "      <td>2009-01-01</td>\n",
       "      <td>Nutzbauten</td>\n",
       "      <td>9266</td>\n",
       "      <td>225583</td>\n",
       "      <td>1720630918</td>\n",
       "    </tr>\n",
       "    <tr>\n",
       "      <th>61</th>\n",
       "      <td>2009-01-01</td>\n",
       "      <td>Mehrfamilienhäuser</td>\n",
       "      <td>554137</td>\n",
       "      <td>283888</td>\n",
       "      <td>1531595032</td>\n",
       "    </tr>\n",
       "    <tr>\n",
       "      <th>62</th>\n",
       "      <td>2009-01-01</td>\n",
       "      <td>übrige Wohnhäuser</td>\n",
       "      <td>141-3</td>\n",
       "      <td>27823</td>\n",
       "      <td>149252132</td>\n",
       "    </tr>\n",
       "    <tr>\n",
       "      <th>63</th>\n",
       "      <td>2009-01-01</td>\n",
       "      <td>Einfamilienhäuser</td>\n",
       "      <td>131129</td>\n",
       "      <td>110838</td>\n",
       "      <td>363238800</td>\n",
       "    </tr>\n",
       "  </tbody>\n",
       "</table>\n",
       "<p>64 rows × 5 columns</p>\n",
       "</div>"
      ],
      "text/plain": [
       "         Jahr                      HaeGrstTyp sum_Anzahl_HAE  sum_Totalm2  sum_Umsatzwert\n",
       "0  2021-01-01               übrige Wohnhäuser            1-3           94         4100000\n",
       "1  2021-01-01  Wohnhäuser mit Geschäftsräumen          45575       136321      1944900038\n",
       "2  2021-01-01                      Nutzbauten           7459       121586      3041681452\n",
       "3  2021-01-01              Mehrfamilienhäuser         530107       236138      2586625995\n",
       "4  2021-01-01               Einfamilienhäuser         120115       130654       773921416\n",
       "..        ...                             ...            ...          ...             ...\n",
       "59 2009-01-01  Wohnhäuser mit Geschäftsräumen          23491       126392       939134922\n",
       "60 2009-01-01                      Nutzbauten           9266       225583      1720630918\n",
       "61 2009-01-01              Mehrfamilienhäuser         554137       283888      1531595032\n",
       "62 2009-01-01               übrige Wohnhäuser          141-3        27823       149252132\n",
       "63 2009-01-01               Einfamilienhäuser         131129       110838       363238800\n",
       "\n",
       "[64 rows x 5 columns]"
      ]
     },
     "execution_count": 64,
     "metadata": {},
     "output_type": "execute_result"
    }
   ],
   "source": [
    "myAgg = data2betested.loc[\"2009\":\"2021\"]\\\n",
    "    .groupby(['Jahr', 'HaeGrstTyp']) \\\n",
    "    .agg(sum_Anzahl_HAE=('Anzahl_HAE', 'sum'), sum_Totalm2=('Totalm2', 'sum'), sum_Umsatzwert=('Umsatzwert', 'sum')) \\\n",
    "    .sort_values('Jahr', ascending=False) \n",
    "myAgg.reset_index()\n"
   ]
  },
  {
   "cell_type": "code",
   "execution_count": 105,
   "metadata": {},
   "outputs": [
    {
     "data": {
      "text/html": [
       "\n",
       "<div id=\"altair-viz-00b5d61c2e974bd2b342a63198f65c30\"></div>\n",
       "<script type=\"text/javascript\">\n",
       "  (function(spec, embedOpt){\n",
       "    let outputDiv = document.currentScript.previousElementSibling;\n",
       "    if (outputDiv.id !== \"altair-viz-00b5d61c2e974bd2b342a63198f65c30\") {\n",
       "      outputDiv = document.getElementById(\"altair-viz-00b5d61c2e974bd2b342a63198f65c30\");\n",
       "    }\n",
       "    const paths = {\n",
       "      \"vega\": \"https://cdn.jsdelivr.net/npm//vega@5?noext\",\n",
       "      \"vega-lib\": \"https://cdn.jsdelivr.net/npm//vega-lib?noext\",\n",
       "      \"vega-lite\": \"https://cdn.jsdelivr.net/npm//vega-lite@4.8.1?noext\",\n",
       "      \"vega-embed\": \"https://cdn.jsdelivr.net/npm//vega-embed@6?noext\",\n",
       "    };\n",
       "\n",
       "    function loadScript(lib) {\n",
       "      return new Promise(function(resolve, reject) {\n",
       "        var s = document.createElement('script');\n",
       "        s.src = paths[lib];\n",
       "        s.async = true;\n",
       "        s.onload = () => resolve(paths[lib]);\n",
       "        s.onerror = () => reject(`Error loading script: ${paths[lib]}`);\n",
       "        document.getElementsByTagName(\"head\")[0].appendChild(s);\n",
       "      });\n",
       "    }\n",
       "\n",
       "    function showError(err) {\n",
       "      outputDiv.innerHTML = `<div class=\"error\" style=\"color:red;\">${err}</div>`;\n",
       "      throw err;\n",
       "    }\n",
       "\n",
       "    function displayChart(vegaEmbed) {\n",
       "      vegaEmbed(outputDiv, spec, embedOpt)\n",
       "        .catch(err => showError(`Javascript Error: ${err.message}<br>This usually means there's a typo in your chart specification. See the javascript console for the full traceback.`));\n",
       "    }\n",
       "\n",
       "    if(typeof define === \"function\" && define.amd) {\n",
       "      requirejs.config({paths});\n",
       "      require([\"vega-embed\"], displayChart, err => showError(`Error loading script: ${err.message}`));\n",
       "    } else if (typeof vegaEmbed === \"function\") {\n",
       "      displayChart(vegaEmbed);\n",
       "    } else {\n",
       "      loadScript(\"vega\")\n",
       "        .then(() => loadScript(\"vega-lite\"))\n",
       "        .then(() => loadScript(\"vega-embed\"))\n",
       "        .catch(showError)\n",
       "        .then(() => displayChart(vegaEmbed));\n",
       "    }\n",
       "  })({\"config\": {\"view\": {\"continuousWidth\": 400, \"continuousHeight\": 300}}, \"layer\": [{\"mark\": \"line\", \"encoding\": {\"color\": {\"type\": \"nominal\", \"field\": \"HaeGrstTyp\", \"legend\": {\"orient\": \"right\", \"title\": \"HAE Grundst\\u00fccktypen\"}}, \"size\": {\"condition\": {\"value\": 0.5, \"selection\": {\"not\": \"selector039\"}}, \"value\": 4}, \"tooltip\": [{\"type\": \"temporal\", \"field\": \"Jahr\"}, {\"type\": \"nominal\", \"field\": \"HaeGrstTyp\"}, {\"type\": \"nominal\", \"field\": \"sum_Anzahl_HAE\"}], \"x\": {\"type\": \"temporal\", \"axis\": {\"title\": \"Jahr\"}, \"field\": \"Jahr\"}, \"y\": {\"type\": \"quantitative\", \"axis\": {\"title\": \"Umsatzwert der Grundst\\u00fccke\"}, \"field\": \"sum_Umsatzwert\"}}, \"selection\": {\"selector040\": {\"type\": \"interval\", \"bind\": \"scales\", \"encodings\": [\"x\", \"y\"]}}, \"title\": \"Title\"}, {\"mark\": \"circle\", \"encoding\": {\"color\": {\"type\": \"nominal\", \"field\": \"HaeGrstTyp\", \"legend\": {\"orient\": \"right\", \"title\": \"HAE Grundst\\u00fccktypen\"}}, \"opacity\": {\"value\": 0.75}, \"tooltip\": [{\"type\": \"temporal\", \"field\": \"Jahr\"}, {\"type\": \"nominal\", \"field\": \"HaeGrstTyp\"}, {\"type\": \"nominal\", \"field\": \"sum_Anzahl_HAE\"}], \"x\": {\"type\": \"temporal\", \"axis\": {\"title\": \"Jahr\"}, \"field\": \"Jahr\"}, \"y\": {\"type\": \"quantitative\", \"axis\": {\"title\": \"Umsatzwert der Grundst\\u00fccke\"}, \"field\": \"sum_Umsatzwert\"}}, \"height\": 350, \"selection\": {\"selector039\": {\"type\": \"single\", \"on\": \"mouseover\", \"fields\": [\"HaeGrstTyp\"], \"nearest\": true}}, \"title\": \"Title\", \"width\": 750}], \"data\": {\"name\": \"data-3ce9f3b30a8a42ad4d2bd31a037cecaa\"}, \"$schema\": \"https://vega.github.io/schema/vega-lite/v4.8.1.json\", \"datasets\": {\"data-3ce9f3b30a8a42ad4d2bd31a037cecaa\": [{\"Jahr\": \"2021-01-01T00:00:00\", \"HaeGrstTyp\": \"\\u00fcbrige Wohnh\\u00e4user\", \"sum_Anzahl_HAE\": \"1-3\", \"sum_Totalm2\": 93.885, \"sum_Umsatzwert\": 4100000}, {\"Jahr\": \"2021-01-01T00:00:00\", \"HaeGrstTyp\": \"Wohnh\\u00e4user mit Gesch\\u00e4ftsr\\u00e4umen\", \"sum_Anzahl_HAE\": \"45575\", \"sum_Totalm2\": 136320.5764299999, \"sum_Umsatzwert\": 1944900038}, {\"Jahr\": \"2021-01-01T00:00:00\", \"HaeGrstTyp\": \"Nutzbauten\", \"sum_Anzahl_HAE\": \"7459\", \"sum_Totalm2\": 121586.1986666666, \"sum_Umsatzwert\": 3041681452}, {\"Jahr\": \"2021-01-01T00:00:00\", \"HaeGrstTyp\": \"Mehrfamilienh\\u00e4user\", \"sum_Anzahl_HAE\": \"530107\", \"sum_Totalm2\": 236137.6547466663, \"sum_Umsatzwert\": 2586625995}, {\"Jahr\": \"2021-01-01T00:00:00\", \"HaeGrstTyp\": \"Einfamilienh\\u00e4user\", \"sum_Anzahl_HAE\": \"120115\", \"sum_Totalm2\": 130654.236, \"sum_Umsatzwert\": 773921416}, {\"Jahr\": \"2020-01-01T00:00:00\", \"HaeGrstTyp\": \"\\u00fcbrige Wohnh\\u00e4user\", \"sum_Anzahl_HAE\": \"1-31-3\", \"sum_Totalm2\": 3858.0, \"sum_Umsatzwert\": 24800000}, {\"Jahr\": \"2020-01-01T00:00:00\", \"HaeGrstTyp\": \"Wohnh\\u00e4user mit Gesch\\u00e4ftsr\\u00e4umen\", \"sum_Anzahl_HAE\": \"19663\", \"sum_Totalm2\": 78987.55339333319, \"sum_Umsatzwert\": 1478224243}, {\"Jahr\": \"2020-01-01T00:00:00\", \"HaeGrstTyp\": \"Nutzbauten\", \"sum_Anzahl_HAE\": \"7352\", \"sum_Totalm2\": 117791.67768404979, \"sum_Umsatzwert\": 3252143974}, {\"Jahr\": \"2020-01-01T00:00:00\", \"HaeGrstTyp\": \"Mehrfamilienh\\u00e4user\", \"sum_Anzahl_HAE\": \"485108\", \"sum_Totalm2\": 206630.99467901338, \"sum_Umsatzwert\": 1827359936}, {\"Jahr\": \"2020-01-01T00:00:00\", \"HaeGrstTyp\": \"Einfamilienh\\u00e4user\", \"sum_Anzahl_HAE\": \"134126\", \"sum_Totalm2\": 145909.321, \"sum_Umsatzwert\": 781429556}, {\"Jahr\": \"2019-01-01T00:00:00\", \"HaeGrstTyp\": \"Nutzbauten\", \"sum_Anzahl_HAE\": \"7450\", \"sum_Totalm2\": 109091.56457023241, \"sum_Umsatzwert\": 1956344864}, {\"Jahr\": \"2019-01-01T00:00:00\", \"HaeGrstTyp\": \"Mehrfamilienh\\u00e4user\", \"sum_Anzahl_HAE\": \"464113\", \"sum_Totalm2\": 239471.64320917812, \"sum_Umsatzwert\": 2269075405}, {\"Jahr\": \"2019-01-01T00:00:00\", \"HaeGrstTyp\": \"Einfamilienh\\u00e4user\", \"sum_Anzahl_HAE\": \"114108\", \"sum_Totalm2\": 120856.85740000001, \"sum_Umsatzwert\": 618335862}, {\"Jahr\": \"2019-01-01T00:00:00\", \"HaeGrstTyp\": \"Wohnh\\u00e4user mit Gesch\\u00e4ftsr\\u00e4umen\", \"sum_Anzahl_HAE\": \"18078\", \"sum_Totalm2\": 83587.9222388888, \"sum_Umsatzwert\": 1218387737}, {\"Jahr\": \"2019-01-01T00:00:00\", \"HaeGrstTyp\": \"\\u00fcbrige Wohnh\\u00e4user\", \"sum_Anzahl_HAE\": \"1-31-3\", \"sum_Totalm2\": 3688.0, \"sum_Umsatzwert\": 74460000}, {\"Jahr\": \"2018-01-01T00:00:00\", \"HaeGrstTyp\": \"\\u00fcbrige Wohnh\\u00e4user\", \"sum_Anzahl_HAE\": \"1-31-3\", \"sum_Totalm2\": 2600.0, \"sum_Umsatzwert\": 19600000}, {\"Jahr\": \"2018-01-01T00:00:00\", \"HaeGrstTyp\": \"Wohnh\\u00e4user mit Gesch\\u00e4ftsr\\u00e4umen\", \"sum_Anzahl_HAE\": \"26676\", \"sum_Totalm2\": 157802.4399336842, \"sum_Umsatzwert\": 1768120271}, {\"Jahr\": \"2018-01-01T00:00:00\", \"HaeGrstTyp\": \"Nutzbauten\", \"sum_Anzahl_HAE\": \"7038\", \"sum_Totalm2\": 97635.89065730991, \"sum_Umsatzwert\": 2015806182}, {\"Jahr\": \"2018-01-01T00:00:00\", \"HaeGrstTyp\": \"Mehrfamilienh\\u00e4user\", \"sum_Anzahl_HAE\": \"527116\", \"sum_Totalm2\": 279592.034807974, \"sum_Umsatzwert\": 2571401915}, {\"Jahr\": \"2018-01-01T00:00:00\", \"HaeGrstTyp\": \"Einfamilienh\\u00e4user\", \"sum_Anzahl_HAE\": \"125124\", \"sum_Totalm2\": 124111.8917333332, \"sum_Umsatzwert\": 673813568}, {\"Jahr\": \"2017-01-01T00:00:00\", \"HaeGrstTyp\": \"Nutzbauten\", \"sum_Anzahl_HAE\": \"9348\", \"sum_Totalm2\": 126564.36767999991, \"sum_Umsatzwert\": 1914875222}, {\"Jahr\": \"2017-01-01T00:00:00\", \"HaeGrstTyp\": \"Einfamilienh\\u00e4user\", \"sum_Anzahl_HAE\": \"104102\", \"sum_Totalm2\": 95886.416, \"sum_Umsatzwert\": 439844974}, {\"Jahr\": \"2017-01-01T00:00:00\", \"HaeGrstTyp\": \"Mehrfamilienh\\u00e4user\", \"sum_Anzahl_HAE\": \"52089\", \"sum_Totalm2\": 181582.1751333326, \"sum_Umsatzwert\": 1653807779}, {\"Jahr\": \"2017-01-01T00:00:00\", \"HaeGrstTyp\": \"Wohnh\\u00e4user mit Gesch\\u00e4ftsr\\u00e4umen\", \"sum_Anzahl_HAE\": \"21161\", \"sum_Totalm2\": 83242.69851, \"sum_Umsatzwert\": 1056222394}, {\"Jahr\": \"2017-01-01T00:00:00\", \"HaeGrstTyp\": \"\\u00fcbrige Wohnh\\u00e4user\", \"sum_Anzahl_HAE\": \"1-31-3\", \"sum_Totalm2\": 1677.885, \"sum_Umsatzwert\": 17500000}, {\"Jahr\": \"2016-01-01T00:00:00\", \"HaeGrstTyp\": \"Wohnh\\u00e4user mit Gesch\\u00e4ftsr\\u00e4umen\", \"sum_Anzahl_HAE\": \"21667\", \"sum_Totalm2\": 101453.9660685862, \"sum_Umsatzwert\": 1823371573}, {\"Jahr\": \"2016-01-01T00:00:00\", \"HaeGrstTyp\": \"Nutzbauten\", \"sum_Anzahl_HAE\": \"8449\", \"sum_Totalm2\": 143484.4227333333, \"sum_Umsatzwert\": 3117035612}, {\"Jahr\": \"2016-01-01T00:00:00\", \"HaeGrstTyp\": \"Mehrfamilienh\\u00e4user\", \"sum_Anzahl_HAE\": \"61886\", \"sum_Totalm2\": 217162.9308, \"sum_Umsatzwert\": 1594377743}, {\"Jahr\": \"2016-01-01T00:00:00\", \"HaeGrstTyp\": \"Einfamilienh\\u00e4user\", \"sum_Anzahl_HAE\": \"126123\", \"sum_Totalm2\": 113259.6786666666, \"sum_Umsatzwert\": 527217000}, {\"Jahr\": \"2015-01-01T00:00:00\", \"HaeGrstTyp\": \"Wohnh\\u00e4user mit Gesch\\u00e4ftsr\\u00e4umen\", \"sum_Anzahl_HAE\": \"35889\", \"sum_Totalm2\": 138918.1453246724, \"sum_Umsatzwert\": 1748901206}, {\"Jahr\": \"2015-01-01T00:00:00\", \"HaeGrstTyp\": \"\\u00fcbrige Wohnh\\u00e4user\", \"sum_Anzahl_HAE\": \"1-31-3\", \"sum_Totalm2\": 2352.0, \"sum_Umsatzwert\": 14500000}, {\"Jahr\": \"2015-01-01T00:00:00\", \"HaeGrstTyp\": \"Nutzbauten\", \"sum_Anzahl_HAE\": \"10572\", \"sum_Totalm2\": 140873.61221831507, \"sum_Umsatzwert\": 2255916259}, {\"Jahr\": \"2015-01-01T00:00:00\", \"HaeGrstTyp\": \"Einfamilienh\\u00e4user\", \"sum_Anzahl_HAE\": \"106105\", \"sum_Totalm2\": 94496.88, \"sum_Umsatzwert\": 421122934}, {\"Jahr\": \"2015-01-01T00:00:00\", \"HaeGrstTyp\": \"Mehrfamilienh\\u00e4user\", \"sum_Anzahl_HAE\": \"713106\", \"sum_Totalm2\": 239720.770255555, \"sum_Umsatzwert\": 1864558100}, {\"Jahr\": \"2014-01-01T00:00:00\", \"HaeGrstTyp\": \"\\u00fcbrige Wohnh\\u00e4user\", \"sum_Anzahl_HAE\": \"44\", \"sum_Totalm2\": 2078.0, \"sum_Umsatzwert\": 33400000}, {\"Jahr\": \"2014-01-01T00:00:00\", \"HaeGrstTyp\": \"Wohnh\\u00e4user mit Gesch\\u00e4ftsr\\u00e4umen\", \"sum_Anzahl_HAE\": \"33080\", \"sum_Totalm2\": 127366.1172819942, \"sum_Umsatzwert\": 1349128623}, {\"Jahr\": \"2014-01-01T00:00:00\", \"HaeGrstTyp\": \"Nutzbauten\", \"sum_Anzahl_HAE\": \"7562\", \"sum_Totalm2\": 283460.6572, \"sum_Umsatzwert\": 1966303286}, {\"Jahr\": \"2014-01-01T00:00:00\", \"HaeGrstTyp\": \"Mehrfamilienh\\u00e4user\", \"sum_Anzahl_HAE\": \"51778\", \"sum_Totalm2\": 161723.7250333326, \"sum_Umsatzwert\": 1058913158}, {\"Jahr\": \"2014-01-01T00:00:00\", \"HaeGrstTyp\": \"Einfamilienh\\u00e4user\", \"sum_Anzahl_HAE\": \"112109\", \"sum_Totalm2\": 98771.89499999999, \"sum_Umsatzwert\": 435780222}, {\"Jahr\": \"2013-01-01T00:00:00\", \"HaeGrstTyp\": \"\\u00fcbrige Wohnh\\u00e4user\", \"sum_Anzahl_HAE\": \"1-31-3\", \"sum_Totalm2\": 9178.0, \"sum_Umsatzwert\": 15760000}, {\"Jahr\": \"2013-01-01T00:00:00\", \"HaeGrstTyp\": \"Wohnh\\u00e4user mit Gesch\\u00e4ftsr\\u00e4umen\", \"sum_Anzahl_HAE\": \"18872\", \"sum_Totalm2\": 137314.3927, \"sum_Umsatzwert\": 1506534310}, {\"Jahr\": \"2013-01-01T00:00:00\", \"HaeGrstTyp\": \"Nutzbauten\", \"sum_Anzahl_HAE\": \"6650\", \"sum_Totalm2\": 124006.0867333332, \"sum_Umsatzwert\": 2067710156}, {\"Jahr\": \"2013-01-01T00:00:00\", \"HaeGrstTyp\": \"Mehrfamilienh\\u00e4user\", \"sum_Anzahl_HAE\": \"543113\", \"sum_Totalm2\": 225492.71113333257, \"sum_Umsatzwert\": 1388225456}, {\"Jahr\": \"2013-01-01T00:00:00\", \"HaeGrstTyp\": \"Einfamilienh\\u00e4user\", \"sum_Anzahl_HAE\": \"113111\", \"sum_Totalm2\": 102451.44399999999, \"sum_Umsatzwert\": 433619298}, {\"Jahr\": \"2012-01-01T00:00:00\", \"HaeGrstTyp\": \"Mehrfamilienh\\u00e4user\", \"sum_Anzahl_HAE\": \"520123\", \"sum_Totalm2\": 228085.0354, \"sum_Umsatzwert\": 1552781714}, {\"Jahr\": \"2012-01-01T00:00:00\", \"HaeGrstTyp\": \"Nutzbauten\", \"sum_Anzahl_HAE\": \"11568\", \"sum_Totalm2\": 257102.75411461902, \"sum_Umsatzwert\": 5321385866}, {\"Jahr\": \"2012-01-01T00:00:00\", \"HaeGrstTyp\": \"Einfamilienh\\u00e4user\", \"sum_Anzahl_HAE\": \"129119\", \"sum_Totalm2\": 120198.7138, \"sum_Umsatzwert\": 484930640}, {\"Jahr\": \"2012-01-01T00:00:00\", \"HaeGrstTyp\": \"Wohnh\\u00e4user mit Gesch\\u00e4ftsr\\u00e4umen\", \"sum_Anzahl_HAE\": \"14671\", \"sum_Totalm2\": 124252.8205, \"sum_Umsatzwert\": 1091848883}, {\"Jahr\": \"2012-01-01T00:00:00\", \"HaeGrstTyp\": \"\\u00fcbrige Wohnh\\u00e4user\", \"sum_Anzahl_HAE\": \"1-31-3\", \"sum_Totalm2\": 6328.0, \"sum_Umsatzwert\": 48300000}, {\"Jahr\": \"2011-01-01T00:00:00\", \"HaeGrstTyp\": \"\\u00fcbrige Wohnh\\u00e4user\", \"sum_Anzahl_HAE\": \"1-31-3\", \"sum_Totalm2\": 8583.007, \"sum_Umsatzwert\": 50831790}, {\"Jahr\": \"2011-01-01T00:00:00\", \"HaeGrstTyp\": \"Wohnh\\u00e4user mit Gesch\\u00e4ftsr\\u00e4umen\", \"sum_Anzahl_HAE\": \"21294\", \"sum_Totalm2\": 119857.7454333332, \"sum_Umsatzwert\": 943692264}, {\"Jahr\": \"2011-01-01T00:00:00\", \"HaeGrstTyp\": \"Nutzbauten\", \"sum_Anzahl_HAE\": \"9663\", \"sum_Totalm2\": 146302.5614999721, \"sum_Umsatzwert\": 1414011800}, {\"Jahr\": \"2011-01-01T00:00:00\", \"HaeGrstTyp\": \"Mehrfamilienh\\u00e4user\", \"sum_Anzahl_HAE\": \"587135\", \"sum_Totalm2\": 266355.658499999, \"sum_Umsatzwert\": 1507679110}, {\"Jahr\": \"2011-01-01T00:00:00\", \"HaeGrstTyp\": \"Einfamilienh\\u00e4user\", \"sum_Anzahl_HAE\": \"10598\", \"sum_Totalm2\": 92498.5964126983, \"sum_Umsatzwert\": 414487462}, {\"Jahr\": \"2010-01-01T00:00:00\", \"HaeGrstTyp\": \"\\u00fcbrige Wohnh\\u00e4user\", \"sum_Anzahl_HAE\": \"1-31-3\", \"sum_Totalm2\": 502.617, \"sum_Umsatzwert\": 11580000}, {\"Jahr\": \"2010-01-01T00:00:00\", \"HaeGrstTyp\": \"Wohnh\\u00e4user mit Gesch\\u00e4ftsr\\u00e4umen\", \"sum_Anzahl_HAE\": \"19286\", \"sum_Totalm2\": 141235.4485222222, \"sum_Umsatzwert\": 891412699}, {\"Jahr\": \"2010-01-01T00:00:00\", \"HaeGrstTyp\": \"Nutzbauten\", \"sum_Anzahl_HAE\": \"8874\", \"sum_Totalm2\": 366017.17960000003, \"sum_Umsatzwert\": 2535927792}, {\"Jahr\": \"2010-01-01T00:00:00\", \"HaeGrstTyp\": \"Mehrfamilienh\\u00e4user\", \"sum_Anzahl_HAE\": \"777131\", \"sum_Totalm2\": 273298.795411111, \"sum_Umsatzwert\": 1829001460}, {\"Jahr\": \"2010-01-01T00:00:00\", \"HaeGrstTyp\": \"Einfamilienh\\u00e4user\", \"sum_Anzahl_HAE\": \"143140\", \"sum_Totalm2\": 127321.571641791, \"sum_Umsatzwert\": 417515556}, {\"Jahr\": \"2009-01-01T00:00:00\", \"HaeGrstTyp\": \"Wohnh\\u00e4user mit Gesch\\u00e4ftsr\\u00e4umen\", \"sum_Anzahl_HAE\": \"23491\", \"sum_Totalm2\": 126391.7648, \"sum_Umsatzwert\": 939134922}, {\"Jahr\": \"2009-01-01T00:00:00\", \"HaeGrstTyp\": \"Nutzbauten\", \"sum_Anzahl_HAE\": \"9266\", \"sum_Totalm2\": 225582.71066666598, \"sum_Umsatzwert\": 1720630918}, {\"Jahr\": \"2009-01-01T00:00:00\", \"HaeGrstTyp\": \"Mehrfamilienh\\u00e4user\", \"sum_Anzahl_HAE\": \"554137\", \"sum_Totalm2\": 283887.981966666, \"sum_Umsatzwert\": 1531595032}, {\"Jahr\": \"2009-01-01T00:00:00\", \"HaeGrstTyp\": \"\\u00fcbrige Wohnh\\u00e4user\", \"sum_Anzahl_HAE\": \"141-3\", \"sum_Totalm2\": 27823.323, \"sum_Umsatzwert\": 149252132}, {\"Jahr\": \"2009-01-01T00:00:00\", \"HaeGrstTyp\": \"Einfamilienh\\u00e4user\", \"sum_Anzahl_HAE\": \"131129\", \"sum_Totalm2\": 110837.685, \"sum_Umsatzwert\": 363238800}]}}, {\"mode\": \"vega-lite\"});\n",
       "</script>"
      ],
      "text/plain": [
       "alt.LayerChart(...)"
      ]
     },
     "execution_count": 105,
     "metadata": {},
     "output_type": "execute_result"
    }
   ],
   "source": [
    "highlight = alt.selection(type='single', on='mouseover', fields=['HaeGrstTyp'], nearest=True)\n",
    "#x='date:StichtagDatJahr',\n",
    "base = alt.Chart(myAgg.reset_index().query('sum_Totalm2 > 1'), title=\"Title\").encode(\n",
    "    x=alt.X('Jahr', axis=alt.Axis(title='Jahr'))# , axis=alt.Axis(format='%', title='percentage')\n",
    "    , y=alt.X('sum_Umsatzwert', axis=alt.Axis(title='Umsatzwert der Grundstücke'))\n",
    "    , color=alt.Color('HaeGrstTyp', legend=alt.Legend(title=\"HAE Grundstücktypen\", orient=\"right\"))  \n",
    "    ,tooltip=['Jahr', 'HaeGrstTyp','sum_Anzahl_HAE']    \n",
    ")\n",
    "points = base.mark_circle().encode(\n",
    "    opacity=alt.value(0.75)\n",
    ").add_selection(\n",
    "    highlight\n",
    ").properties(\n",
    "    width=750 , height=350\n",
    ")\n",
    "lines = base.mark_line().encode(\n",
    "    size=alt.condition(~highlight, alt.value(0.5), alt.value(4))\n",
    ").interactive()\n",
    "\n",
    "lines + points"
   ]
  },
  {
   "cell_type": "markdown",
   "metadata": {
    "tags": []
   },
   "source": [
    "#### Medianquadratmeterpreise aller Freihandkäufe nach HAE-Grundstücktyp seit 2009"
   ]
  },
  {
   "cell_type": "code",
   "execution_count": 106,
   "metadata": {},
   "outputs": [],
   "source": [
    "#data2betested.dtypes"
   ]
  },
  {
   "cell_type": "code",
   "execution_count": 107,
   "metadata": {},
   "outputs": [
    {
     "data": {
      "text/html": [
       "\n",
       "<div id=\"altair-viz-b41dd1a337f2486693220cf3362245a9\"></div>\n",
       "<script type=\"text/javascript\">\n",
       "  (function(spec, embedOpt){\n",
       "    let outputDiv = document.currentScript.previousElementSibling;\n",
       "    if (outputDiv.id !== \"altair-viz-b41dd1a337f2486693220cf3362245a9\") {\n",
       "      outputDiv = document.getElementById(\"altair-viz-b41dd1a337f2486693220cf3362245a9\");\n",
       "    }\n",
       "    const paths = {\n",
       "      \"vega\": \"https://cdn.jsdelivr.net/npm//vega@5?noext\",\n",
       "      \"vega-lib\": \"https://cdn.jsdelivr.net/npm//vega-lib?noext\",\n",
       "      \"vega-lite\": \"https://cdn.jsdelivr.net/npm//vega-lite@4.8.1?noext\",\n",
       "      \"vega-embed\": \"https://cdn.jsdelivr.net/npm//vega-embed@6?noext\",\n",
       "    };\n",
       "\n",
       "    function loadScript(lib) {\n",
       "      return new Promise(function(resolve, reject) {\n",
       "        var s = document.createElement('script');\n",
       "        s.src = paths[lib];\n",
       "        s.async = true;\n",
       "        s.onload = () => resolve(paths[lib]);\n",
       "        s.onerror = () => reject(`Error loading script: ${paths[lib]}`);\n",
       "        document.getElementsByTagName(\"head\")[0].appendChild(s);\n",
       "      });\n",
       "    }\n",
       "\n",
       "    function showError(err) {\n",
       "      outputDiv.innerHTML = `<div class=\"error\" style=\"color:red;\">${err}</div>`;\n",
       "      throw err;\n",
       "    }\n",
       "\n",
       "    function displayChart(vegaEmbed) {\n",
       "      vegaEmbed(outputDiv, spec, embedOpt)\n",
       "        .catch(err => showError(`Javascript Error: ${err.message}<br>This usually means there's a typo in your chart specification. See the javascript console for the full traceback.`));\n",
       "    }\n",
       "\n",
       "    if(typeof define === \"function\" && define.amd) {\n",
       "      requirejs.config({paths});\n",
       "      require([\"vega-embed\"], displayChart, err => showError(`Error loading script: ${err.message}`));\n",
       "    } else if (typeof vegaEmbed === \"function\") {\n",
       "      displayChart(vegaEmbed);\n",
       "    } else {\n",
       "      loadScript(\"vega\")\n",
       "        .then(() => loadScript(\"vega-lite\"))\n",
       "        .then(() => loadScript(\"vega-embed\"))\n",
       "        .catch(showError)\n",
       "        .then(() => displayChart(vegaEmbed));\n",
       "    }\n",
       "  })({\"config\": {\"view\": {\"continuousWidth\": 400, \"continuousHeight\": 300}}, \"layer\": [{\"mark\": \"line\", \"encoding\": {\"color\": {\"type\": \"nominal\", \"field\": \"HaeGrstTyp\", \"legend\": {\"orient\": \"right\", \"title\": \"Hand\\u00e4nderungsarten\"}}, \"size\": {\"condition\": {\"value\": 0.9, \"selection\": {\"not\": \"selector041\"}}, \"value\": 4}, \"tooltip\": [{\"type\": \"temporal\", \"field\": \"Jahr\"}, {\"type\": \"nominal\", \"field\": \"Typ\"}, {\"type\": \"nominal\", \"field\": \"HaeGrstTyp\"}, {\"type\": \"quantitative\", \"field\": \"Medianqmp\"}, {\"type\": \"nominal\", \"field\": \"Anzahl_HAE\"}, {\"type\": \"quantitative\", \"field\": \"Totalm2\"}, {\"type\": \"quantitative\", \"field\": \"Umsatzwert\"}], \"x\": {\"type\": \"temporal\", \"axis\": {\"title\": \"Jahr\"}, \"field\": \"Jahr\"}, \"y\": {\"type\": \"quantitative\", \"axis\": {\"title\": \"Fl\\u00e4che der Grundst\\u00fccke\"}, \"field\": \"Medianqmp\"}}, \"selection\": {\"selector042\": {\"type\": \"interval\", \"bind\": \"scales\", \"encodings\": [\"x\", \"y\"]}}, \"title\": \"Title\"}, {\"mark\": \"circle\", \"encoding\": {\"color\": {\"type\": \"nominal\", \"field\": \"HaeGrstTyp\", \"legend\": {\"orient\": \"right\", \"title\": \"Hand\\u00e4nderungsarten\"}}, \"opacity\": {\"value\": 0.75}, \"tooltip\": [{\"type\": \"temporal\", \"field\": \"Jahr\"}, {\"type\": \"nominal\", \"field\": \"Typ\"}, {\"type\": \"nominal\", \"field\": \"HaeGrstTyp\"}, {\"type\": \"quantitative\", \"field\": \"Medianqmp\"}, {\"type\": \"nominal\", \"field\": \"Anzahl_HAE\"}, {\"type\": \"quantitative\", \"field\": \"Totalm2\"}, {\"type\": \"quantitative\", \"field\": \"Umsatzwert\"}], \"x\": {\"type\": \"temporal\", \"axis\": {\"title\": \"Jahr\"}, \"field\": \"Jahr\"}, \"y\": {\"type\": \"quantitative\", \"axis\": {\"title\": \"Fl\\u00e4che der Grundst\\u00fccke\"}, \"field\": \"Medianqmp\"}}, \"height\": 350, \"selection\": {\"selector041\": {\"type\": \"single\", \"on\": \"mouseover\", \"fields\": [\"Medianqmp\"], \"nearest\": true}}, \"title\": \"Title\", \"width\": 750}], \"data\": {\"name\": \"data-537873b672124380c9cbb18ae50d2edf\"}, \"$schema\": \"https://vega.github.io/schema/vega-lite/v4.8.1.json\", \"datasets\": {\"data-537873b672124380c9cbb18ae50d2edf\": [{\"Jahr\": \"2009-01-01T00:00:00\", \"HaeGrstTyp\": \"Einfamilienh\\u00e4user\", \"Medianqmp\": 2810, \"Anzahl_HAE\": \"131\", \"Totalm2\": 55920.585, \"Umsatzwert\": 186119400, \"Typ\": \"alle Freihandk\\u00e4ufe\"}, {\"Jahr\": \"2009-01-01T00:00:00\", \"HaeGrstTyp\": \"Mehrfamilienh\\u00e4user\", \"Medianqmp\": 7010, \"Anzahl_HAE\": \"554\", \"Totalm2\": 169355.023633333, \"Umsatzwert\": 972004731, \"Typ\": \"alle Freihandk\\u00e4ufe\"}, {\"Jahr\": \"2009-01-01T00:00:00\", \"HaeGrstTyp\": \"Nutzbauten\", \"Medianqmp\": 8180, \"Anzahl_HAE\": \"92\", \"Totalm2\": 113767.818333333, \"Umsatzwert\": 874864342, \"Typ\": \"alle Freihandk\\u00e4ufe\"}, {\"Jahr\": \"2009-01-01T00:00:00\", \"HaeGrstTyp\": \"Wohnh\\u00e4user mit Gesch\\u00e4ftsr\\u00e4umen\", \"Medianqmp\": 11730, \"Anzahl_HAE\": \"234\", \"Totalm2\": 68699.7148, \"Umsatzwert\": 541173134, \"Typ\": \"alle Freihandk\\u00e4ufe\"}, {\"Jahr\": \"2009-01-01T00:00:00\", \"HaeGrstTyp\": \"\\u00fcbrige Wohnh\\u00e4user\", \"Medianqmp\": 19010, \"Anzahl_HAE\": \"14\", \"Totalm2\": 14428.323, \"Umsatzwert\": 83386208, \"Typ\": \"alle Freihandk\\u00e4ufe\"}, {\"Jahr\": \"2010-01-01T00:00:00\", \"HaeGrstTyp\": \"Einfamilienh\\u00e4user\", \"Medianqmp\": 2930, \"Anzahl_HAE\": \"143\", \"Totalm2\": 64108.6358208955, \"Umsatzwert\": 211347778, \"Typ\": \"alle Freihandk\\u00e4ufe\"}, {\"Jahr\": \"2010-01-01T00:00:00\", \"HaeGrstTyp\": \"Mehrfamilienh\\u00e4user\", \"Medianqmp\": 7820, \"Anzahl_HAE\": \"777\", \"Totalm2\": 171633.255411111, \"Umsatzwert\": 1228015880, \"Typ\": \"alle Freihandk\\u00e4ufe\"}, {\"Jahr\": \"2010-01-01T00:00:00\", \"HaeGrstTyp\": \"Nutzbauten\", \"Medianqmp\": 8450, \"Anzahl_HAE\": \"88\", \"Totalm2\": 184412.6696, \"Umsatzwert\": 1280602161, \"Typ\": \"alle Freihandk\\u00e4ufe\"}, {\"Jahr\": \"2010-01-01T00:00:00\", \"HaeGrstTyp\": \"Wohnh\\u00e4user mit Gesch\\u00e4ftsr\\u00e4umen\", \"Medianqmp\": 12030, \"Anzahl_HAE\": \"192\", \"Totalm2\": 76376.2124111111, \"Umsatzwert\": 512953603, \"Typ\": \"alle Freihandk\\u00e4ufe\"}, {\"Jahr\": \"2010-01-01T00:00:00\", \"HaeGrstTyp\": \"\\u00fcbrige Wohnh\\u00e4user\", \"Medianqmp\": 21440, \"Anzahl_HAE\": \"1-3\", \"Totalm2\": 295.617, \"Umsatzwert\": 6630000, \"Typ\": \"alle Freihandk\\u00e4ufe\"}, {\"Jahr\": \"2011-01-01T00:00:00\", \"HaeGrstTyp\": \"Einfamilienh\\u00e4user\", \"Medianqmp\": 3860, \"Anzahl_HAE\": \"105\", \"Totalm2\": 46748.0254603174, \"Umsatzwert\": 210072231, \"Typ\": \"alle Freihandk\\u00e4ufe\"}, {\"Jahr\": \"2011-01-01T00:00:00\", \"HaeGrstTyp\": \"Mehrfamilienh\\u00e4user\", \"Medianqmp\": 7060, \"Anzahl_HAE\": \"587\", \"Totalm2\": 160417.658499999, \"Umsatzwert\": 983253725, \"Typ\": \"alle Freihandk\\u00e4ufe\"}, {\"Jahr\": \"2011-01-01T00:00:00\", \"HaeGrstTyp\": \"Nutzbauten\", \"Medianqmp\": 10950, \"Anzahl_HAE\": \"96\", \"Totalm2\": 76810.9214999721, \"Umsatzwert\": 741793400, \"Typ\": \"alle Freihandk\\u00e4ufe\"}, {\"Jahr\": \"2011-01-01T00:00:00\", \"HaeGrstTyp\": \"Wohnh\\u00e4user mit Gesch\\u00e4ftsr\\u00e4umen\", \"Medianqmp\": 14610, \"Anzahl_HAE\": \"212\", \"Totalm2\": 65808.2037666666, \"Umsatzwert\": 535303264, \"Typ\": \"alle Freihandk\\u00e4ufe\"}, {\"Jahr\": \"2011-01-01T00:00:00\", \"HaeGrstTyp\": \"\\u00fcbrige Wohnh\\u00e4user\", \"Medianqmp\": 5880, \"Anzahl_HAE\": \"1-3\", \"Totalm2\": 4348.007, \"Umsatzwert\": 26681790, \"Typ\": \"alle Freihandk\\u00e4ufe\"}, {\"Jahr\": \"2012-01-01T00:00:00\", \"HaeGrstTyp\": \"Einfamilienh\\u00e4user\", \"Medianqmp\": 3650, \"Anzahl_HAE\": \"129\", \"Totalm2\": 60645.2138, \"Umsatzwert\": 248121820, \"Typ\": \"alle Freihandk\\u00e4ufe\"}, {\"Jahr\": \"2012-01-01T00:00:00\", \"HaeGrstTyp\": \"Mehrfamilienh\\u00e4user\", \"Medianqmp\": 8400, \"Anzahl_HAE\": \"520\", \"Totalm2\": 139160.0994, \"Umsatzwert\": 1020383259, \"Typ\": \"alle Freihandk\\u00e4ufe\"}, {\"Jahr\": \"2012-01-01T00:00:00\", \"HaeGrstTyp\": \"Nutzbauten\", \"Medianqmp\": 22120, \"Anzahl_HAE\": \"115\", \"Totalm2\": 132678.154114619, \"Umsatzwert\": 2726646783, \"Typ\": \"alle Freihandk\\u00e4ufe\"}, {\"Jahr\": \"2012-01-01T00:00:00\", \"HaeGrstTyp\": \"Wohnh\\u00e4user mit Gesch\\u00e4ftsr\\u00e4umen\", \"Medianqmp\": 9860, \"Anzahl_HAE\": \"146\", \"Totalm2\": 69993.0205, \"Umsatzwert\": 597026775, \"Typ\": \"alle Freihandk\\u00e4ufe\"}, {\"Jahr\": \"2012-01-01T00:00:00\", \"HaeGrstTyp\": \"\\u00fcbrige Wohnh\\u00e4user\", \"Medianqmp\": 7800, \"Anzahl_HAE\": \"1-3\", \"Totalm2\": 3164.0, \"Umsatzwert\": 24150000, \"Typ\": \"alle Freihandk\\u00e4ufe\"}, {\"Jahr\": \"2013-01-01T00:00:00\", \"HaeGrstTyp\": \"Einfamilienh\\u00e4user\", \"Medianqmp\": 4130, \"Anzahl_HAE\": \"113\", \"Totalm2\": 51335.244, \"Umsatzwert\": 217789649, \"Typ\": \"alle Freihandk\\u00e4ufe\"}, {\"Jahr\": \"2013-01-01T00:00:00\", \"HaeGrstTyp\": \"Mehrfamilienh\\u00e4user\", \"Medianqmp\": 11110, \"Anzahl_HAE\": \"543\", \"Totalm2\": 135164.947466666, \"Umsatzwert\": 947748872, \"Typ\": \"alle Freihandk\\u00e4ufe\"}, {\"Jahr\": \"2013-01-01T00:00:00\", \"HaeGrstTyp\": \"Nutzbauten\", \"Medianqmp\": 14270, \"Anzahl_HAE\": \"66\", \"Totalm2\": 62347.4240666666, \"Umsatzwert\": 1051315653, \"Typ\": \"alle Freihandk\\u00e4ufe\"}, {\"Jahr\": \"2013-01-01T00:00:00\", \"HaeGrstTyp\": \"Wohnh\\u00e4user mit Gesch\\u00e4ftsr\\u00e4umen\", \"Medianqmp\": 18740, \"Anzahl_HAE\": \"188\", \"Totalm2\": 75325.8527, \"Umsatzwert\": 849196655, \"Typ\": \"alle Freihandk\\u00e4ufe\"}, {\"Jahr\": \"2013-01-01T00:00:00\", \"HaeGrstTyp\": \"\\u00fcbrige Wohnh\\u00e4user\", \"Medianqmp\": 3740, \"Anzahl_HAE\": \"1-3\", \"Totalm2\": 4589.0, \"Umsatzwert\": 7880000, \"Typ\": \"alle Freihandk\\u00e4ufe\"}, {\"Jahr\": \"2014-01-01T00:00:00\", \"HaeGrstTyp\": \"Einfamilienh\\u00e4user\", \"Medianqmp\": 4140, \"Anzahl_HAE\": \"112\", \"Totalm2\": 50216.895, \"Umsatzwert\": 223307861, \"Typ\": \"alle Freihandk\\u00e4ufe\"}, {\"Jahr\": \"2014-01-01T00:00:00\", \"HaeGrstTyp\": \"Mehrfamilienh\\u00e4user\", \"Medianqmp\": 10650, \"Anzahl_HAE\": \"517\", \"Totalm2\": 108063.478366666, \"Umsatzwert\": 792972314, \"Typ\": \"alle Freihandk\\u00e4ufe\"}, {\"Jahr\": \"2014-01-01T00:00:00\", \"HaeGrstTyp\": \"Nutzbauten\", \"Medianqmp\": 6750, \"Anzahl_HAE\": \"75\", \"Totalm2\": 142766.4932, \"Umsatzwert\": 997416643, \"Typ\": \"alle Freihandk\\u00e4ufe\"}, {\"Jahr\": \"2014-01-01T00:00:00\", \"HaeGrstTyp\": \"Wohnh\\u00e4user mit Gesch\\u00e4ftsr\\u00e4umen\", \"Medianqmp\": 25550, \"Anzahl_HAE\": \"330\", \"Totalm2\": 73027.2920409971, \"Umsatzwert\": 920063985, \"Typ\": \"alle Freihandk\\u00e4ufe\"}, {\"Jahr\": \"2014-01-01T00:00:00\", \"HaeGrstTyp\": \"\\u00fcbrige Wohnh\\u00e4user\", \"Medianqmp\": 15600, \"Anzahl_HAE\": \"4\", \"Totalm2\": 1039.0, \"Umsatzwert\": 16700000, \"Typ\": \"alle Freihandk\\u00e4ufe\"}, {\"Jahr\": \"2015-01-01T00:00:00\", \"HaeGrstTyp\": \"Einfamilienh\\u00e4user\", \"Medianqmp\": 4670, \"Anzahl_HAE\": \"106\", \"Totalm2\": 47402.88, \"Umsatzwert\": 212111467, \"Typ\": \"alle Freihandk\\u00e4ufe\"}, {\"Jahr\": \"2015-01-01T00:00:00\", \"HaeGrstTyp\": \"Mehrfamilienh\\u00e4user\", \"Medianqmp\": 11490, \"Anzahl_HAE\": \"713\", \"Totalm2\": 151945.560255555, \"Umsatzwert\": 1298066314, \"Typ\": \"alle Freihandk\\u00e4ufe\"}, {\"Jahr\": \"2015-01-01T00:00:00\", \"HaeGrstTyp\": \"Nutzbauten\", \"Medianqmp\": 15150, \"Anzahl_HAE\": \"105\", \"Totalm2\": 73103.1247091576, \"Umsatzwert\": 1166908446, \"Typ\": \"alle Freihandk\\u00e4ufe\"}, {\"Jahr\": \"2015-01-01T00:00:00\", \"HaeGrstTyp\": \"Wohnh\\u00e4user mit Gesch\\u00e4ftsr\\u00e4umen\", \"Medianqmp\": 31750, \"Anzahl_HAE\": \"358\", \"Totalm2\": 78616.7388523362, \"Umsatzwert\": 1138992510, \"Typ\": \"alle Freihandk\\u00e4ufe\"}, {\"Jahr\": \"2015-01-01T00:00:00\", \"HaeGrstTyp\": \"\\u00fcbrige Wohnh\\u00e4user\", \"Medianqmp\": 6430, \"Anzahl_HAE\": \"1-3\", \"Totalm2\": 1176.0, \"Umsatzwert\": 7250000, \"Typ\": \"alle Freihandk\\u00e4ufe\"}, {\"Jahr\": \"2016-01-01T00:00:00\", \"HaeGrstTyp\": \"Einfamilienh\\u00e4user\", \"Medianqmp\": 4300, \"Anzahl_HAE\": \"126\", \"Totalm2\": 57171.7453333333, \"Umsatzwert\": 265321000, \"Typ\": \"alle Freihandk\\u00e4ufe\"}, {\"Jahr\": \"2016-01-01T00:00:00\", \"HaeGrstTyp\": \"Mehrfamilienh\\u00e4user\", \"Medianqmp\": 11850, \"Anzahl_HAE\": \"618\", \"Totalm2\": 140775.1808, \"Umsatzwert\": 1159300493, \"Typ\": \"alle Freihandk\\u00e4ufe\"}, {\"Jahr\": \"2016-01-01T00:00:00\", \"HaeGrstTyp\": \"Nutzbauten\", \"Medianqmp\": 7540, \"Anzahl_HAE\": \"84\", \"Totalm2\": 73527.4960666667, \"Umsatzwert\": 1573743806, \"Typ\": \"alle Freihandk\\u00e4ufe\"}, {\"Jahr\": \"2016-01-01T00:00:00\", \"HaeGrstTyp\": \"Wohnh\\u00e4user mit Gesch\\u00e4ftsr\\u00e4umen\", \"Medianqmp\": 21560, \"Anzahl_HAE\": \"216\", \"Totalm2\": 57708.4982542931, \"Umsatzwert\": 1008097817, \"Typ\": \"alle Freihandk\\u00e4ufe\"}, {\"Jahr\": \"2017-01-01T00:00:00\", \"HaeGrstTyp\": \"Einfamilienh\\u00e4user\", \"Medianqmp\": 4760, \"Anzahl_HAE\": \"104\", \"Totalm2\": 48488.616, \"Umsatzwert\": 221531487, \"Typ\": \"alle Freihandk\\u00e4ufe\"}, {\"Jahr\": \"2017-01-01T00:00:00\", \"HaeGrstTyp\": \"Mehrfamilienh\\u00e4user\", \"Medianqmp\": 11590, \"Anzahl_HAE\": \"520\", \"Totalm2\": 119039.596466666, \"Umsatzwert\": 1140998189, \"Typ\": \"alle Freihandk\\u00e4ufe\"}, {\"Jahr\": \"2017-01-01T00:00:00\", \"HaeGrstTyp\": \"Nutzbauten\", \"Medianqmp\": 11400, \"Anzahl_HAE\": \"93\", \"Totalm2\": 63930.9796799999, \"Umsatzwert\": 968494661, \"Typ\": \"alle Freihandk\\u00e4ufe\"}, {\"Jahr\": \"2017-01-01T00:00:00\", \"HaeGrstTyp\": \"Wohnh\\u00e4user mit Gesch\\u00e4ftsr\\u00e4umen\", \"Medianqmp\": 26790, \"Anzahl_HAE\": \"211\", \"Totalm2\": 47025.30851, \"Umsatzwert\": 636492122, \"Typ\": \"alle Freihandk\\u00e4ufe\"}, {\"Jahr\": \"2017-01-01T00:00:00\", \"HaeGrstTyp\": \"\\u00fcbrige Wohnh\\u00e4user\", \"Medianqmp\": 23060, \"Anzahl_HAE\": \"1-3\", \"Totalm2\": 885.885, \"Umsatzwert\": 10500000, \"Typ\": \"alle Freihandk\\u00e4ufe\"}, {\"Jahr\": \"2018-01-01T00:00:00\", \"HaeGrstTyp\": \"Einfamilienh\\u00e4user\", \"Medianqmp\": 4790, \"Anzahl_HAE\": \"125\", \"Totalm2\": 62103.7250666666, \"Umsatzwert\": 337501784, \"Typ\": \"alle Freihandk\\u00e4ufe\"}, {\"Jahr\": \"2018-01-01T00:00:00\", \"HaeGrstTyp\": \"Mehrfamilienh\\u00e4user\", \"Medianqmp\": 11480, \"Anzahl_HAE\": \"527\", \"Totalm2\": 164475.583483987, \"Umsatzwert\": 1563688768, \"Typ\": \"alle Freihandk\\u00e4ufe\"}, {\"Jahr\": \"2018-01-01T00:00:00\", \"HaeGrstTyp\": \"Nutzbauten\", \"Medianqmp\": 17160, \"Anzahl_HAE\": \"70\", \"Totalm2\": 49295.3906573099, \"Umsatzwert\": 1019152591, \"Typ\": \"alle Freihandk\\u00e4ufe\"}, {\"Jahr\": \"2018-01-01T00:00:00\", \"HaeGrstTyp\": \"Wohnh\\u00e4user mit Gesch\\u00e4ftsr\\u00e4umen\", \"Medianqmp\": 15780, \"Anzahl_HAE\": \"266\", \"Totalm2\": 85777.1353336842, \"Umsatzwert\": 999833591, \"Typ\": \"alle Freihandk\\u00e4ufe\"}, {\"Jahr\": \"2018-01-01T00:00:00\", \"HaeGrstTyp\": \"\\u00fcbrige Wohnh\\u00e4user\", \"Medianqmp\": 7160, \"Anzahl_HAE\": \"1-3\", \"Totalm2\": 1300.0, \"Umsatzwert\": 9800000, \"Typ\": \"alle Freihandk\\u00e4ufe\"}, {\"Jahr\": \"2019-01-01T00:00:00\", \"HaeGrstTyp\": \"Einfamilienh\\u00e4user\", \"Medianqmp\": 4570, \"Anzahl_HAE\": \"114\", \"Totalm2\": 60794.2762, \"Umsatzwert\": 313988431, \"Typ\": \"alle Freihandk\\u00e4ufe\"}, {\"Jahr\": \"2019-01-01T00:00:00\", \"HaeGrstTyp\": \"Mehrfamilienh\\u00e4user\", \"Medianqmp\": 10760, \"Anzahl_HAE\": \"464\", \"Totalm2\": 141472.442098067, \"Umsatzwert\": 1382168318, \"Typ\": \"alle Freihandk\\u00e4ufe\"}, {\"Jahr\": \"2019-01-01T00:00:00\", \"HaeGrstTyp\": \"Nutzbauten\", \"Medianqmp\": 23460, \"Anzahl_HAE\": \"74\", \"Totalm2\": 56063.1542476518, \"Umsatzwert\": 1003937432, \"Typ\": \"alle Freihandk\\u00e4ufe\"}, {\"Jahr\": \"2019-01-01T00:00:00\", \"HaeGrstTyp\": \"Wohnh\\u00e4user mit Gesch\\u00e4ftsr\\u00e4umen\", \"Medianqmp\": 19090, \"Anzahl_HAE\": \"180\", \"Totalm2\": 45767.6777944444, \"Umsatzwert\": 685066160, \"Typ\": \"alle Freihandk\\u00e4ufe\"}, {\"Jahr\": \"2019-01-01T00:00:00\", \"HaeGrstTyp\": \"\\u00fcbrige Wohnh\\u00e4user\", \"Medianqmp\": 15210, \"Anzahl_HAE\": \"1-3\", \"Totalm2\": 1844.0, \"Umsatzwert\": 37230000, \"Typ\": \"alle Freihandk\\u00e4ufe\"}, {\"Jahr\": \"2020-01-01T00:00:00\", \"HaeGrstTyp\": \"Einfamilienh\\u00e4user\", \"Medianqmp\": 5400, \"Anzahl_HAE\": \"134\", \"Totalm2\": 75824.071, \"Umsatzwert\": 409687278, \"Typ\": \"alle Freihandk\\u00e4ufe\"}, {\"Jahr\": \"2020-01-01T00:00:00\", \"HaeGrstTyp\": \"Mehrfamilienh\\u00e4user\", \"Medianqmp\": 12220, \"Anzahl_HAE\": \"485\", \"Totalm2\": 128317.754803624, \"Umsatzwert\": 1215258063, \"Typ\": \"alle Freihandk\\u00e4ufe\"}, {\"Jahr\": \"2020-01-01T00:00:00\", \"HaeGrstTyp\": \"Nutzbauten\", \"Medianqmp\": 15470, \"Anzahl_HAE\": \"73\", \"Totalm2\": 60073.7310173832, \"Umsatzwert\": 1647574493, \"Typ\": \"alle Freihandk\\u00e4ufe\"}, {\"Jahr\": \"2020-01-01T00:00:00\", \"HaeGrstTyp\": \"Wohnh\\u00e4user mit Gesch\\u00e4ftsr\\u00e4umen\", \"Medianqmp\": 19520, \"Anzahl_HAE\": \"196\", \"Totalm2\": 45043.3967266666, \"Umsatzwert\": 859593116, \"Typ\": \"alle Freihandk\\u00e4ufe\"}, {\"Jahr\": \"2020-01-01T00:00:00\", \"HaeGrstTyp\": \"\\u00fcbrige Wohnh\\u00e4user\", \"Medianqmp\": 4700, \"Anzahl_HAE\": \"1-3\", \"Totalm2\": 1929.0, \"Umsatzwert\": 12400000, \"Typ\": \"alle Freihandk\\u00e4ufe\"}, {\"Jahr\": \"2021-01-01T00:00:00\", \"HaeGrstTyp\": \"Einfamilienh\\u00e4user\", \"Medianqmp\": 6010, \"Anzahl_HAE\": \"120\", \"Totalm2\": 65743.236, \"Umsatzwert\": 390845708, \"Typ\": \"alle Freihandk\\u00e4ufe\"}, {\"Jahr\": \"2021-01-01T00:00:00\", \"HaeGrstTyp\": \"Mehrfamilienh\\u00e4user\", \"Medianqmp\": 12490, \"Anzahl_HAE\": \"530\", \"Totalm2\": 144190.928413333, \"Umsatzwert\": 1633734478, \"Typ\": \"alle Freihandk\\u00e4ufe\"}, {\"Jahr\": \"2021-01-01T00:00:00\", \"HaeGrstTyp\": \"Nutzbauten\", \"Medianqmp\": 17880, \"Anzahl_HAE\": \"74\", \"Totalm2\": 61986.8853333333, \"Umsatzwert\": 1542441226, \"Typ\": \"alle Freihandk\\u00e4ufe\"}, {\"Jahr\": \"2021-01-01T00:00:00\", \"HaeGrstTyp\": \"Wohnh\\u00e4user mit Gesch\\u00e4ftsr\\u00e4umen\", \"Medianqmp\": 28050, \"Anzahl_HAE\": \"455\", \"Totalm2\": 84062.1764299999, \"Umsatzwert\": 1259431899, \"Typ\": \"alle Freihandk\\u00e4ufe\"}, {\"Jahr\": \"2021-01-01T00:00:00\", \"HaeGrstTyp\": \"\\u00fcbrige Wohnh\\u00e4user\", \"Medianqmp\": 43670, \"Anzahl_HAE\": \"1-3\", \"Totalm2\": 93.885, \"Umsatzwert\": 4100000, \"Typ\": \"alle Freihandk\\u00e4ufe\"}]}}, {\"mode\": \"vega-lite\"});\n",
       "</script>"
      ],
      "text/plain": [
       "alt.LayerChart(...)"
      ]
     },
     "execution_count": 107,
     "metadata": {},
     "output_type": "execute_result"
    }
   ],
   "source": [
    "highlight = alt.selection(type='single', on='mouseover',\n",
    "                          fields=['Medianqmp'], nearest=True)\n",
    "#x='date:StichtagDatJahr',\n",
    "base = alt.Chart(data2betested.reset_index().query('Typ ==\"alle Freihandkäufe\"'), title=\"Title\").encode(\n",
    "    x=alt.X('Jahr', axis=alt.Axis(title='Jahr'))# , axis=alt.Axis(format='%', title='percentage')\n",
    "    , y=alt.X('Medianqmp', axis=alt.Axis(title='Fläche der Grundstücke'))\n",
    "    , color=alt.Color('HaeGrstTyp', legend=alt.Legend(title=\"Handänderungsarten\", orient=\"right\"))  \n",
    "    ,tooltip=['Jahr', 'Typ','HaeGrstTyp','Medianqmp','Anzahl_HAE','Totalm2','Umsatzwert']    \n",
    ")\n",
    "points = base.mark_circle().encode(\n",
    "    opacity=alt.value(0.75)\n",
    ").add_selection(\n",
    "    highlight\n",
    ").properties(\n",
    "    width=750 , height=350\n",
    ")\n",
    "lines = base.mark_line().encode(\n",
    "    size=alt.condition(~highlight, alt.value(0.9), alt.value(4))\n",
    ").interactive()\n",
    "\n",
    "lines + points"
   ]
  },
  {
   "cell_type": "markdown",
   "metadata": {
    "tags": []
   },
   "source": [
    "#### Barcharts mit Seaborn"
   ]
  },
  {
   "cell_type": "code",
   "execution_count": 108,
   "metadata": {},
   "outputs": [],
   "source": [
    "#help(sns.catplot)     "
   ]
  },
  {
   "cell_type": "code",
   "execution_count": 109,
   "metadata": {},
   "outputs": [],
   "source": [
    "#Stile for the following sns graphs\n",
    "sns.set_theme(style=\"whitegrid\")"
   ]
  },
  {
   "cell_type": "markdown",
   "metadata": {},
   "source": [
    "##### Medianquadratmeterpreise nach Jahr und Handänderungsgrundstücktyp seit 2009"
   ]
  },
  {
   "cell_type": "code",
   "execution_count": 110,
   "metadata": {},
   "outputs": [],
   "source": [
    "#data2betested.dtypes"
   ]
  },
  {
   "cell_type": "code",
   "execution_count": 111,
   "metadata": {},
   "outputs": [
    {
     "data": {
      "text/plain": [
       "<seaborn.axisgrid.FacetGrid at 0x25a2a295190>"
      ]
     },
     "execution_count": 111,
     "metadata": {},
     "output_type": "execute_result"
    },
    {
     "data": {
      "image/png": "[encoded data removed]",
      "text/plain": [
       "<Figure size 1289.6x360 with 1 Axes>"
      ]
     },
     "metadata": {},
     "output_type": "display_data"
    }
   ],
   "source": [
    "#sns.color_palette(\"flare\", as_cmap=True)\n",
    "myHist = sns.catplot(data=data2betested.reset_index().query('Typ ==\"alle Freihandkäufe\"')\n",
    "                     , x=\"Jahr\"\n",
    "            , y=\"Medianqmp\"\n",
    "            , hue=\"HaeGrstTyp\"\n",
    "            , kind=\"bar\" #boxen, violin, --> wenn die aggregation nicht genau den werten in der grafik entspricht\n",
    "            , palette=\"pastel\" #, color=\"green\"\n",
    "            , height=5\n",
    "            , aspect=3\n",
    "            , order=None, legend_out=True\n",
    "           )\n",
    "myHist.set_xlabels('Jahr', fontsize=11) # not set_label\n",
    "myHist.set_ylabels('Rauminhalt', fontsize=11)\n"
   ]
  },
  {
   "cell_type": "code",
   "execution_count": 112,
   "metadata": {},
   "outputs": [
    {
     "data": {
      "text/plain": [
       "HaeGrstTyp     object\n",
       "Medianqmp       int64\n",
       "Anzahl_HAE     object\n",
       "Totalm2       float64\n",
       "Umsatzwert      int64\n",
       "Typ            object\n",
       "dtype: object"
      ]
     },
     "execution_count": 112,
     "metadata": {},
     "output_type": "execute_result"
    }
   ],
   "source": [
    "data2betested.dtypes"
   ]
  },
  {
   "cell_type": "markdown",
   "metadata": {},
   "source": [
    "##### Entwicklung aller Freihandkäufe nach Hauptgrundstücktyp seit 2009"
   ]
  },
  {
   "cell_type": "code",
   "execution_count": 113,
   "metadata": {},
   "outputs": [
    {
     "data": {
      "text/plain": [
       "<seaborn.axisgrid.FacetGrid at 0x25a2aa27fa0>"
      ]
     },
     "execution_count": 113,
     "metadata": {},
     "output_type": "execute_result"
    },
    {
     "data": {
      "image/png": "[encoded data removed]",
      "text/plain": [
       "<Figure size 1289.6x216 with 5 Axes>"
      ]
     },
     "metadata": {},
     "output_type": "display_data"
    },
    {
     "data": {
      "image/png": "[encoded data removed]",
      "text/plain": [
       "<Figure size 1289.6x216 with 5 Axes>"
      ]
     },
     "metadata": {},
     "output_type": "display_data"
    },
    {
     "data": {
      "image/png": "[encoded data removed]",
      "text/plain": [
       "<Figure size 1289.6x216 with 5 Axes>"
      ]
     },
     "metadata": {},
     "output_type": "display_data"
    },
    {
     "data": {
      "image/png": "[encoded data removed]",
      "text/plain": [
       "<Figure size 1289.6x216 with 5 Axes>"
      ]
     },
     "metadata": {},
     "output_type": "display_data"
    },
    {
     "data": {
      "image/png": "[encoded data removed]",
      "text/plain": [
       "<Figure size 1289.6x216 with 5 Axes>"
      ]
     },
     "metadata": {},
     "output_type": "display_data"
    }
   ],
   "source": [
    "g = sns.FacetGrid(data=data2betested.reset_index().query('Typ ==\"alle Freihandkäufe\"'), col=\"HaeGrstTyp\", hue=\"HaeGrstTyp\", col_wrap=5, height=3,)\n",
    "#g.map(sns.scatterplot, \"Jahr\", \"sum_AnzWhg\", alpha=.8)\n",
    "g.map(sns.lineplot, \"Jahr\",\"Medianqmp\", alpha=.8)\n",
    "g.add_legend()\n",
    "\n",
    "g2 = sns.FacetGrid(data=data2betested.reset_index().query('Typ ==\"alle Freihandkäufe\"'), col=\"HaeGrstTyp\", hue=\"HaeGrstTyp\", col_wrap=5, height=3,)\n",
    "g2.map(sns.lineplot, \"Jahr\",\"Totalm2\", alpha=.8)\n",
    "g2.add_legend()\n",
    "\n",
    "g3 = sns.FacetGrid(data=data2betested.reset_index().query('Typ ==\"alle Freihandkäufe\"'), col=\"HaeGrstTyp\", hue=\"HaeGrstTyp\", col_wrap=5, height=3,)\n",
    "g3.map(sns.lineplot, \"Jahr\",\"Anzahl_HAE\", alpha=.8)\n",
    "g3.add_legend()\n",
    "\n",
    "g4 = sns.FacetGrid(data=data2betested.reset_index().query('Typ ==\"alle Freihandkäufe\"'), col=\"HaeGrstTyp\", hue=\"HaeGrstTyp\", col_wrap=5, height=3,)\n",
    "g4.map(sns.lineplot, \"Jahr\",\"Umsatzwert\", alpha=.8)\n",
    "g4.add_legend()\n",
    "\n",
    "g5 = sns.FacetGrid(data=data2betested.reset_index().query('Typ ==\"alle Freihandkäufe\"'), col=\"HaeGrstTyp\", hue=\"HaeGrstTyp\", col_wrap=5, height=3,)\n",
    "g5.map(sns.scatterplot, \"Anzahl_HAE\", \"Totalm2\", alpha=.8)\n",
    "g5.add_legend()\n",
    "\n"
   ]
  },
  {
   "cell_type": "markdown",
   "metadata": {},
   "source": [
    "### Daten in interaktiver Treemap zeigen\n",
    "Dazu gibt es eine sehr nützliche Webseite https://plotly.com/python/treemaps/\n",
    "Zu Farbskalen, siehe: https://plotly.com/python/builtin-colorscales/"
   ]
  },
  {
   "cell_type": "markdown",
   "metadata": {
    "tags": []
   },
   "source": [
    "#### Summe der Handänderungsumsatzwerte nach Typ, Jahr und Handänderungsgrundstücktyp 2021"
   ]
  },
  {
   "cell_type": "code",
   "execution_count": 136,
   "metadata": {
    "tags": []
   },
   "outputs": [
    {
     "data": {
      "text/plain": [
       "HaeGrstTyp     object\n",
       "Medianqmp       int64\n",
       "Anzahl_HAE     object\n",
       "Totalm2       float64\n",
       "Umsatzwert      int64\n",
       "Typ            object\n",
       "dtype: object"
      ]
     },
     "execution_count": 136,
     "metadata": {},
     "output_type": "execute_result"
    }
   ],
   "source": [
    "data2betested.dtypes"
   ]
  },
  {
   "cell_type": "code",
   "execution_count": 137,
   "metadata": {},
   "outputs": [
    {
     "data": {
      "text/html": [
       "<div>\n",
       "<style scoped>\n",
       "    .dataframe tbody tr th:only-of-type {\n",
       "        vertical-align: middle;\n",
       "    }\n",
       "\n",
       "    .dataframe tbody tr th {\n",
       "        vertical-align: top;\n",
       "    }\n",
       "\n",
       "    .dataframe thead th {\n",
       "        text-align: right;\n",
       "    }\n",
       "</style>\n",
       "<table border=\"1\" class=\"dataframe\">\n",
       "  <thead>\n",
       "    <tr style=\"text-align: right;\">\n",
       "      <th></th>\n",
       "      <th>Jahr</th>\n",
       "      <th>HaeGrstTyp</th>\n",
       "      <th>Typ</th>\n",
       "      <th>sum_Anzahl_HAE</th>\n",
       "      <th>sum_Totalm2</th>\n",
       "      <th>sum_Umsatzwert</th>\n",
       "    </tr>\n",
       "  </thead>\n",
       "  <tbody>\n",
       "    <tr>\n",
       "      <th>0</th>\n",
       "      <td>2021-01-01</td>\n",
       "      <td>übrige Wohnhäuser</td>\n",
       "      <td>alle Freihandkäufe</td>\n",
       "      <td>1-3</td>\n",
       "      <td>94</td>\n",
       "      <td>4100000</td>\n",
       "    </tr>\n",
       "    <tr>\n",
       "      <th>1</th>\n",
       "      <td>2021-01-01</td>\n",
       "      <td>Wohnhäuser mit Geschäftsräumen</td>\n",
       "      <td>ohne Stockwerkeigentum</td>\n",
       "      <td>75</td>\n",
       "      <td>52258</td>\n",
       "      <td>685468139</td>\n",
       "    </tr>\n",
       "  </tbody>\n",
       "</table>\n",
       "</div>"
      ],
      "text/plain": [
       "        Jahr                      HaeGrstTyp                     Typ sum_Anzahl_HAE  sum_Totalm2  \\\n",
       "0 2021-01-01               übrige Wohnhäuser      alle Freihandkäufe            1-3           94   \n",
       "1 2021-01-01  Wohnhäuser mit Geschäftsräumen  ohne Stockwerkeigentum             75        52258   \n",
       "\n",
       "   sum_Umsatzwert  \n",
       "0         4100000  \n",
       "1       685468139  "
      ]
     },
     "execution_count": 137,
     "metadata": {},
     "output_type": "execute_result"
    }
   ],
   "source": [
    "myTreemap = data2betested.loc[\"2011\":\"2021\"]\\\n",
    "    .groupby(['Jahr', 'HaeGrstTyp', 'Typ']) \\\n",
    "    .agg(sum_Anzahl_HAE=('Anzahl_HAE', 'sum'), sum_Totalm2=('Totalm2', 'sum'), sum_Umsatzwert=('Umsatzwert', 'sum')) \\\n",
    "    .sort_values('Jahr', ascending=False) \n",
    "myTreemap.reset_index().head(2)"
   ]
  },
  {
   "cell_type": "code",
   "execution_count": 138,
   "metadata": {
    "tags": []
   },
   "outputs": [
    {
     "data": {
      "application/vnd.plotly.v1+json": {
       "config": {
        "plotlyServerURL": "https://plot.ly"
       },
       "data": [
        {
         "branchvalues": "total",
         "customdata": [
          [
           210072231
          ],
          [
           204415231
          ],
          [
           248121820
          ],
          [
           236808820
          ],
          [
           217789649
          ],
          [
           215829649
          ],
          [
           223307861
          ],
          [
           212472361
          ],
          [
           212111467
          ],
          [
           209011467
          ],
          [
           265321000
          ],
          [
           261896000
          ],
          [
           221531487
          ],
          [
           218313487
          ],
          [
           337501784
          ],
          [
           336311784
          ],
          [
           313988431
          ],
          [
           304347431
          ],
          [
           409687278
          ],
          [
           371742278
          ],
          [
           390845707.99999994
          ],
          [
           383075707.99999994
          ],
          [
           983253725
          ],
          [
           524425385
          ],
          [
           1020383259
          ],
          [
           532398455
          ],
          [
           947748871.9999999
          ],
          [
           440476584
          ],
          [
           792972314
          ],
          [
           265940844
          ],
          [
           1298066314
          ],
          [
           566491786
          ],
          [
           1159300493
          ],
          [
           435077250
          ],
          [
           1140998189
          ],
          [
           512809590
          ],
          [
           1563688768
          ],
          [
           1007713147
          ],
          [
           1382168318
          ],
          [
           886907087
          ],
          [
           1215258063
          ],
          [
           612101873
          ],
          [
           1633734478
          ],
          [
           952891517
          ],
          [
           741793400
          ],
          [
           672218400
          ],
          [
           2726646783
          ],
          [
           2594739083
          ],
          [
           1051315653
          ],
          [
           1016394503
          ],
          [
           997416643
          ],
          [
           968886643
          ],
          [
           1166908446
          ],
          [
           1089007813
          ],
          [
           1573743806.0000002
          ],
          [
           1543291806
          ],
          [
           968494661
          ],
          [
           946380561
          ],
          [
           1019152591
          ],
          [
           996653591
          ],
          [
           1003937431.9999999
          ],
          [
           952407431.9999999
          ],
          [
           1647574492.9999998
          ],
          [
           1604569481
          ],
          [
           1542441226
          ],
          [
           1499240226
          ],
          [
           535303264
          ],
          [
           408389000
          ],
          [
           597026775
          ],
          [
           494822107.99999994
          ],
          [
           849196655
          ],
          [
           657337655
          ],
          [
           920063985
          ],
          [
           429064638
          ],
          [
           1138992510
          ],
          [
           609908696
          ],
          [
           1008097817
          ],
          [
           815273756
          ],
          [
           636492122
          ],
          [
           419730272
          ],
          [
           999833591
          ],
          [
           768286679.9999999
          ],
          [
           685066160
          ],
          [
           533321577
          ],
          [
           859593116
          ],
          [
           618631127
          ],
          [
           1259431899
          ],
          [
           685468139
          ],
          [
           26681790
          ],
          [
           24150000
          ],
          [
           24150000
          ],
          [
           24150000
          ],
          [
           7880000
          ],
          [
           7880000
          ],
          [
           16700000
          ],
          [
           16700000
          ],
          [
           7250000
          ],
          [
           7250000
          ],
          [
           10500000
          ],
          [
           7000000
          ],
          [
           9800000
          ],
          [
           9800000
          ],
          [
           37230000
          ],
          [
           37230000
          ],
          [
           12400000
          ],
          [
           12400000
          ],
          [
           4100000
          ],
          [
           740232235.8695089
          ],
          [
           510498995.9897195
          ],
          [
           1926720128.486971
          ],
          [
           1884569466.524931
          ],
          [
           901816620.2512232
          ],
          [
           729629715.82582
          ],
          [
           854208290.1829282
          ],
          [
           654486799.8026702
          ],
          [
           1147952361.2977448
          ],
          [
           774711431.437599
          ],
          [
           1224846828.634719
          ],
          [
           1081414057.3163996
          ],
          [
           904685210.4007391
          ],
          [
           657005437.9904636
          ],
          [
           1169845416.9033024
          ],
          [
           869661571.2119658
          ],
          [
           1019045091.4239213
          ],
          [
           763436410.9665447
          ],
          [
           1230120808.4053297
          ],
          [
           1077938195.7498085
          ],
          [
           1405047978.7678888
          ],
          [
           1071481018.2414215
          ],
          [
           1191768130.0875087
          ],
          [
           989155639.5201437
          ],
          [
           1105004490.8971655
          ]
         ],
         "domain": {
          "x": [
           0,
           1
          ],
          "y": [
           0,
           1
          ]
         },
         "hovertemplate": "labels=%{label}<br>sum_Umsatzwert_sum=%{value}<br>parent=%{parent}<br>id=%{id}<br>sum_Umsatzwert=%{color}<extra></extra>",
         "ids": [
          "Summe der Handänderungsumsatzwerte nach Typ, Jahr und Handänderungsgrundstücktyp 2021/alle Freihandkäufe/2011-01-01/Einfamilienhäuser",
          "Summe der Handänderungsumsatzwerte nach Typ, Jahr und Handänderungsgrundstücktyp 2021/ohne Stockwerkeigentum/2011-01-01/Einfamilienhäuser",
          "Summe der Handänderungsumsatzwerte nach Typ, Jahr und Handänderungsgrundstücktyp 2021/alle Freihandkäufe/2012-01-01/Einfamilienhäuser",
          "Summe der Handänderungsumsatzwerte nach Typ, Jahr und Handänderungsgrundstücktyp 2021/ohne Stockwerkeigentum/2012-01-01/Einfamilienhäuser",
          "Summe der Handänderungsumsatzwerte nach Typ, Jahr und Handänderungsgrundstücktyp 2021/alle Freihandkäufe/2013-01-01/Einfamilienhäuser",
          "Summe der Handänderungsumsatzwerte nach Typ, Jahr und Handänderungsgrundstücktyp 2021/ohne Stockwerkeigentum/2013-01-01/Einfamilienhäuser",
          "Summe der Handänderungsumsatzwerte nach Typ, Jahr und Handänderungsgrundstücktyp 2021/alle Freihandkäufe/2014-01-01/Einfamilienhäuser",
          "Summe der Handänderungsumsatzwerte nach Typ, Jahr und Handänderungsgrundstücktyp 2021/ohne Stockwerkeigentum/2014-01-01/Einfamilienhäuser",
          "Summe der Handänderungsumsatzwerte nach Typ, Jahr und Handänderungsgrundstücktyp 2021/alle Freihandkäufe/2015-01-01/Einfamilienhäuser",
          "Summe der Handänderungsumsatzwerte nach Typ, Jahr und Handänderungsgrundstücktyp 2021/ohne Stockwerkeigentum/2015-01-01/Einfamilienhäuser",
          "Summe der Handänderungsumsatzwerte nach Typ, Jahr und Handänderungsgrundstücktyp 2021/alle Freihandkäufe/2016-01-01/Einfamilienhäuser",
          "Summe der Handänderungsumsatzwerte nach Typ, Jahr und Handänderungsgrundstücktyp 2021/ohne Stockwerkeigentum/2016-01-01/Einfamilienhäuser",
          "Summe der Handänderungsumsatzwerte nach Typ, Jahr und Handänderungsgrundstücktyp 2021/alle Freihandkäufe/2017-01-01/Einfamilienhäuser",
          "Summe der Handänderungsumsatzwerte nach Typ, Jahr und Handänderungsgrundstücktyp 2021/ohne Stockwerkeigentum/2017-01-01/Einfamilienhäuser",
          "Summe der Handänderungsumsatzwerte nach Typ, Jahr und Handänderungsgrundstücktyp 2021/alle Freihandkäufe/2018-01-01/Einfamilienhäuser",
          "Summe der Handänderungsumsatzwerte nach Typ, Jahr und Handänderungsgrundstücktyp 2021/ohne Stockwerkeigentum/2018-01-01/Einfamilienhäuser",
          "Summe der Handänderungsumsatzwerte nach Typ, Jahr und Handänderungsgrundstücktyp 2021/alle Freihandkäufe/2019-01-01/Einfamilienhäuser",
          "Summe der Handänderungsumsatzwerte nach Typ, Jahr und Handänderungsgrundstücktyp 2021/ohne Stockwerkeigentum/2019-01-01/Einfamilienhäuser",
          "Summe der Handänderungsumsatzwerte nach Typ, Jahr und Handänderungsgrundstücktyp 2021/alle Freihandkäufe/2020-01-01/Einfamilienhäuser",
          "Summe der Handänderungsumsatzwerte nach Typ, Jahr und Handänderungsgrundstücktyp 2021/ohne Stockwerkeigentum/2020-01-01/Einfamilienhäuser",
          "Summe der Handänderungsumsatzwerte nach Typ, Jahr und Handänderungsgrundstücktyp 2021/alle Freihandkäufe/2021-01-01/Einfamilienhäuser",
          "Summe der Handänderungsumsatzwerte nach Typ, Jahr und Handänderungsgrundstücktyp 2021/ohne Stockwerkeigentum/2021-01-01/Einfamilienhäuser",
          "Summe der Handänderungsumsatzwerte nach Typ, Jahr und Handänderungsgrundstücktyp 2021/alle Freihandkäufe/2011-01-01/Mehrfamilienhäuser",
          "Summe der Handänderungsumsatzwerte nach Typ, Jahr und Handänderungsgrundstücktyp 2021/ohne Stockwerkeigentum/2011-01-01/Mehrfamilienhäuser",
          "Summe der Handänderungsumsatzwerte nach Typ, Jahr und Handänderungsgrundstücktyp 2021/alle Freihandkäufe/2012-01-01/Mehrfamilienhäuser",
          "Summe der Handänderungsumsatzwerte nach Typ, Jahr und Handänderungsgrundstücktyp 2021/ohne Stockwerkeigentum/2012-01-01/Mehrfamilienhäuser",
          "Summe der Handänderungsumsatzwerte nach Typ, Jahr und Handänderungsgrundstücktyp 2021/alle Freihandkäufe/2013-01-01/Mehrfamilienhäuser",
          "Summe der Handänderungsumsatzwerte nach Typ, Jahr und Handänderungsgrundstücktyp 2021/ohne Stockwerkeigentum/2013-01-01/Mehrfamilienhäuser",
          "Summe der Handänderungsumsatzwerte nach Typ, Jahr und Handänderungsgrundstücktyp 2021/alle Freihandkäufe/2014-01-01/Mehrfamilienhäuser",
          "Summe der Handänderungsumsatzwerte nach Typ, Jahr und Handänderungsgrundstücktyp 2021/ohne Stockwerkeigentum/2014-01-01/Mehrfamilienhäuser",
          "Summe der Handänderungsumsatzwerte nach Typ, Jahr und Handänderungsgrundstücktyp 2021/alle Freihandkäufe/2015-01-01/Mehrfamilienhäuser",
          "Summe der Handänderungsumsatzwerte nach Typ, Jahr und Handänderungsgrundstücktyp 2021/ohne Stockwerkeigentum/2015-01-01/Mehrfamilienhäuser",
          "Summe der Handänderungsumsatzwerte nach Typ, Jahr und Handänderungsgrundstücktyp 2021/alle Freihandkäufe/2016-01-01/Mehrfamilienhäuser",
          "Summe der Handänderungsumsatzwerte nach Typ, Jahr und Handänderungsgrundstücktyp 2021/ohne Stockwerkeigentum/2016-01-01/Mehrfamilienhäuser",
          "Summe der Handänderungsumsatzwerte nach Typ, Jahr und Handänderungsgrundstücktyp 2021/alle Freihandkäufe/2017-01-01/Mehrfamilienhäuser",
          "Summe der Handänderungsumsatzwerte nach Typ, Jahr und Handänderungsgrundstücktyp 2021/ohne Stockwerkeigentum/2017-01-01/Mehrfamilienhäuser",
          "Summe der Handänderungsumsatzwerte nach Typ, Jahr und Handänderungsgrundstücktyp 2021/alle Freihandkäufe/2018-01-01/Mehrfamilienhäuser",
          "Summe der Handänderungsumsatzwerte nach Typ, Jahr und Handänderungsgrundstücktyp 2021/ohne Stockwerkeigentum/2018-01-01/Mehrfamilienhäuser",
          "Summe der Handänderungsumsatzwerte nach Typ, Jahr und Handänderungsgrundstücktyp 2021/alle Freihandkäufe/2019-01-01/Mehrfamilienhäuser",
          "Summe der Handänderungsumsatzwerte nach Typ, Jahr und Handänderungsgrundstücktyp 2021/ohne Stockwerkeigentum/2019-01-01/Mehrfamilienhäuser",
          "Summe der Handänderungsumsatzwerte nach Typ, Jahr und Handänderungsgrundstücktyp 2021/alle Freihandkäufe/2020-01-01/Mehrfamilienhäuser",
          "Summe der Handänderungsumsatzwerte nach Typ, Jahr und Handänderungsgrundstücktyp 2021/ohne Stockwerkeigentum/2020-01-01/Mehrfamilienhäuser",
          "Summe der Handänderungsumsatzwerte nach Typ, Jahr und Handänderungsgrundstücktyp 2021/alle Freihandkäufe/2021-01-01/Mehrfamilienhäuser",
          "Summe der Handänderungsumsatzwerte nach Typ, Jahr und Handänderungsgrundstücktyp 2021/ohne Stockwerkeigentum/2021-01-01/Mehrfamilienhäuser",
          "Summe der Handänderungsumsatzwerte nach Typ, Jahr und Handänderungsgrundstücktyp 2021/alle Freihandkäufe/2011-01-01/Nutzbauten",
          "Summe der Handänderungsumsatzwerte nach Typ, Jahr und Handänderungsgrundstücktyp 2021/ohne Stockwerkeigentum/2011-01-01/Nutzbauten",
          "Summe der Handänderungsumsatzwerte nach Typ, Jahr und Handänderungsgrundstücktyp 2021/alle Freihandkäufe/2012-01-01/Nutzbauten",
          "Summe der Handänderungsumsatzwerte nach Typ, Jahr und Handänderungsgrundstücktyp 2021/ohne Stockwerkeigentum/2012-01-01/Nutzbauten",
          "Summe der Handänderungsumsatzwerte nach Typ, Jahr und Handänderungsgrundstücktyp 2021/alle Freihandkäufe/2013-01-01/Nutzbauten",
          "Summe der Handänderungsumsatzwerte nach Typ, Jahr und Handänderungsgrundstücktyp 2021/ohne Stockwerkeigentum/2013-01-01/Nutzbauten",
          "Summe der Handänderungsumsatzwerte nach Typ, Jahr und Handänderungsgrundstücktyp 2021/alle Freihandkäufe/2014-01-01/Nutzbauten",
          "Summe der Handänderungsumsatzwerte nach Typ, Jahr und Handänderungsgrundstücktyp 2021/ohne Stockwerkeigentum/2014-01-01/Nutzbauten",
          "Summe der Handänderungsumsatzwerte nach Typ, Jahr und Handänderungsgrundstücktyp 2021/alle Freihandkäufe/2015-01-01/Nutzbauten",
          "Summe der Handänderungsumsatzwerte nach Typ, Jahr und Handänderungsgrundstücktyp 2021/ohne Stockwerkeigentum/2015-01-01/Nutzbauten",
          "Summe der Handänderungsumsatzwerte nach Typ, Jahr und Handänderungsgrundstücktyp 2021/alle Freihandkäufe/2016-01-01/Nutzbauten",
          "Summe der Handänderungsumsatzwerte nach Typ, Jahr und Handänderungsgrundstücktyp 2021/ohne Stockwerkeigentum/2016-01-01/Nutzbauten",
          "Summe der Handänderungsumsatzwerte nach Typ, Jahr und Handänderungsgrundstücktyp 2021/alle Freihandkäufe/2017-01-01/Nutzbauten",
          "Summe der Handänderungsumsatzwerte nach Typ, Jahr und Handänderungsgrundstücktyp 2021/ohne Stockwerkeigentum/2017-01-01/Nutzbauten",
          "Summe der Handänderungsumsatzwerte nach Typ, Jahr und Handänderungsgrundstücktyp 2021/alle Freihandkäufe/2018-01-01/Nutzbauten",
          "Summe der Handänderungsumsatzwerte nach Typ, Jahr und Handänderungsgrundstücktyp 2021/ohne Stockwerkeigentum/2018-01-01/Nutzbauten",
          "Summe der Handänderungsumsatzwerte nach Typ, Jahr und Handänderungsgrundstücktyp 2021/alle Freihandkäufe/2019-01-01/Nutzbauten",
          "Summe der Handänderungsumsatzwerte nach Typ, Jahr und Handänderungsgrundstücktyp 2021/ohne Stockwerkeigentum/2019-01-01/Nutzbauten",
          "Summe der Handänderungsumsatzwerte nach Typ, Jahr und Handänderungsgrundstücktyp 2021/alle Freihandkäufe/2020-01-01/Nutzbauten",
          "Summe der Handänderungsumsatzwerte nach Typ, Jahr und Handänderungsgrundstücktyp 2021/ohne Stockwerkeigentum/2020-01-01/Nutzbauten",
          "Summe der Handänderungsumsatzwerte nach Typ, Jahr und Handänderungsgrundstücktyp 2021/alle Freihandkäufe/2021-01-01/Nutzbauten",
          "Summe der Handänderungsumsatzwerte nach Typ, Jahr und Handänderungsgrundstücktyp 2021/ohne Stockwerkeigentum/2021-01-01/Nutzbauten",
          "Summe der Handänderungsumsatzwerte nach Typ, Jahr und Handänderungsgrundstücktyp 2021/alle Freihandkäufe/2011-01-01/Wohnhäuser mit Geschäftsräumen",
          "Summe der Handänderungsumsatzwerte nach Typ, Jahr und Handänderungsgrundstücktyp 2021/ohne Stockwerkeigentum/2011-01-01/Wohnhäuser mit Geschäftsräumen",
          "Summe der Handänderungsumsatzwerte nach Typ, Jahr und Handänderungsgrundstücktyp 2021/alle Freihandkäufe/2012-01-01/Wohnhäuser mit Geschäftsräumen",
          "Summe der Handänderungsumsatzwerte nach Typ, Jahr und Handänderungsgrundstücktyp 2021/ohne Stockwerkeigentum/2012-01-01/Wohnhäuser mit Geschäftsräumen",
          "Summe der Handänderungsumsatzwerte nach Typ, Jahr und Handänderungsgrundstücktyp 2021/alle Freihandkäufe/2013-01-01/Wohnhäuser mit Geschäftsräumen",
          "Summe der Handänderungsumsatzwerte nach Typ, Jahr und Handänderungsgrundstücktyp 2021/ohne Stockwerkeigentum/2013-01-01/Wohnhäuser mit Geschäftsräumen",
          "Summe der Handänderungsumsatzwerte nach Typ, Jahr und Handänderungsgrundstücktyp 2021/alle Freihandkäufe/2014-01-01/Wohnhäuser mit Geschäftsräumen",
          "Summe der Handänderungsumsatzwerte nach Typ, Jahr und Handänderungsgrundstücktyp 2021/ohne Stockwerkeigentum/2014-01-01/Wohnhäuser mit Geschäftsräumen",
          "Summe der Handänderungsumsatzwerte nach Typ, Jahr und Handänderungsgrundstücktyp 2021/alle Freihandkäufe/2015-01-01/Wohnhäuser mit Geschäftsräumen",
          "Summe der Handänderungsumsatzwerte nach Typ, Jahr und Handänderungsgrundstücktyp 2021/ohne Stockwerkeigentum/2015-01-01/Wohnhäuser mit Geschäftsräumen",
          "Summe der Handänderungsumsatzwerte nach Typ, Jahr und Handänderungsgrundstücktyp 2021/alle Freihandkäufe/2016-01-01/Wohnhäuser mit Geschäftsräumen",
          "Summe der Handänderungsumsatzwerte nach Typ, Jahr und Handänderungsgrundstücktyp 2021/ohne Stockwerkeigentum/2016-01-01/Wohnhäuser mit Geschäftsräumen",
          "Summe der Handänderungsumsatzwerte nach Typ, Jahr und Handänderungsgrundstücktyp 2021/alle Freihandkäufe/2017-01-01/Wohnhäuser mit Geschäftsräumen",
          "Summe der Handänderungsumsatzwerte nach Typ, Jahr und Handänderungsgrundstücktyp 2021/ohne Stockwerkeigentum/2017-01-01/Wohnhäuser mit Geschäftsräumen",
          "Summe der Handänderungsumsatzwerte nach Typ, Jahr und Handänderungsgrundstücktyp 2021/alle Freihandkäufe/2018-01-01/Wohnhäuser mit Geschäftsräumen",
          "Summe der Handänderungsumsatzwerte nach Typ, Jahr und Handänderungsgrundstücktyp 2021/ohne Stockwerkeigentum/2018-01-01/Wohnhäuser mit Geschäftsräumen",
          "Summe der Handänderungsumsatzwerte nach Typ, Jahr und Handänderungsgrundstücktyp 2021/alle Freihandkäufe/2019-01-01/Wohnhäuser mit Geschäftsräumen",
          "Summe der Handänderungsumsatzwerte nach Typ, Jahr und Handänderungsgrundstücktyp 2021/ohne Stockwerkeigentum/2019-01-01/Wohnhäuser mit Geschäftsräumen",
          "Summe der Handänderungsumsatzwerte nach Typ, Jahr und Handänderungsgrundstücktyp 2021/alle Freihandkäufe/2020-01-01/Wohnhäuser mit Geschäftsräumen",
          "Summe der Handänderungsumsatzwerte nach Typ, Jahr und Handänderungsgrundstücktyp 2021/ohne Stockwerkeigentum/2020-01-01/Wohnhäuser mit Geschäftsräumen",
          "Summe der Handänderungsumsatzwerte nach Typ, Jahr und Handänderungsgrundstücktyp 2021/alle Freihandkäufe/2021-01-01/Wohnhäuser mit Geschäftsräumen",
          "Summe der Handänderungsumsatzwerte nach Typ, Jahr und Handänderungsgrundstücktyp 2021/ohne Stockwerkeigentum/2021-01-01/Wohnhäuser mit Geschäftsräumen",
          "Summe der Handänderungsumsatzwerte nach Typ, Jahr und Handänderungsgrundstücktyp 2021/alle Freihandkäufe/2011-01-01/übrige Wohnhäuser",
          "Summe der Handänderungsumsatzwerte nach Typ, Jahr und Handänderungsgrundstücktyp 2021/ohne Stockwerkeigentum/2011-01-01/übrige Wohnhäuser",
          "Summe der Handänderungsumsatzwerte nach Typ, Jahr und Handänderungsgrundstücktyp 2021/alle Freihandkäufe/2012-01-01/übrige Wohnhäuser",
          "Summe der Handänderungsumsatzwerte nach Typ, Jahr und Handänderungsgrundstücktyp 2021/ohne Stockwerkeigentum/2012-01-01/übrige Wohnhäuser",
          "Summe der Handänderungsumsatzwerte nach Typ, Jahr und Handänderungsgrundstücktyp 2021/alle Freihandkäufe/2013-01-01/übrige Wohnhäuser",
          "Summe der Handänderungsumsatzwerte nach Typ, Jahr und Handänderungsgrundstücktyp 2021/ohne Stockwerkeigentum/2013-01-01/übrige Wohnhäuser",
          "Summe der Handänderungsumsatzwerte nach Typ, Jahr und Handänderungsgrundstücktyp 2021/alle Freihandkäufe/2014-01-01/übrige Wohnhäuser",
          "Summe der Handänderungsumsatzwerte nach Typ, Jahr und Handänderungsgrundstücktyp 2021/ohne Stockwerkeigentum/2014-01-01/übrige Wohnhäuser",
          "Summe der Handänderungsumsatzwerte nach Typ, Jahr und Handänderungsgrundstücktyp 2021/alle Freihandkäufe/2015-01-01/übrige Wohnhäuser",
          "Summe der Handänderungsumsatzwerte nach Typ, Jahr und Handänderungsgrundstücktyp 2021/ohne Stockwerkeigentum/2015-01-01/übrige Wohnhäuser",
          "Summe der Handänderungsumsatzwerte nach Typ, Jahr und Handänderungsgrundstücktyp 2021/alle Freihandkäufe/2017-01-01/übrige Wohnhäuser",
          "Summe der Handänderungsumsatzwerte nach Typ, Jahr und Handänderungsgrundstücktyp 2021/ohne Stockwerkeigentum/2017-01-01/übrige Wohnhäuser",
          "Summe der Handänderungsumsatzwerte nach Typ, Jahr und Handänderungsgrundstücktyp 2021/alle Freihandkäufe/2018-01-01/übrige Wohnhäuser",
          "Summe der Handänderungsumsatzwerte nach Typ, Jahr und Handänderungsgrundstücktyp 2021/ohne Stockwerkeigentum/2018-01-01/übrige Wohnhäuser",
          "Summe der Handänderungsumsatzwerte nach Typ, Jahr und Handänderungsgrundstücktyp 2021/alle Freihandkäufe/2019-01-01/übrige Wohnhäuser",
          "Summe der Handänderungsumsatzwerte nach Typ, Jahr und Handänderungsgrundstücktyp 2021/ohne Stockwerkeigentum/2019-01-01/übrige Wohnhäuser",
          "Summe der Handänderungsumsatzwerte nach Typ, Jahr und Handänderungsgrundstücktyp 2021/alle Freihandkäufe/2020-01-01/übrige Wohnhäuser",
          "Summe der Handänderungsumsatzwerte nach Typ, Jahr und Handänderungsgrundstücktyp 2021/ohne Stockwerkeigentum/2020-01-01/übrige Wohnhäuser",
          "Summe der Handänderungsumsatzwerte nach Typ, Jahr und Handänderungsgrundstücktyp 2021/alle Freihandkäufe/2021-01-01/übrige Wohnhäuser",
          "Summe der Handänderungsumsatzwerte nach Typ, Jahr und Handänderungsgrundstücktyp 2021/alle Freihandkäufe/2011-01-01",
          "Summe der Handänderungsumsatzwerte nach Typ, Jahr und Handänderungsgrundstücktyp 2021/ohne Stockwerkeigentum/2011-01-01",
          "Summe der Handänderungsumsatzwerte nach Typ, Jahr und Handänderungsgrundstücktyp 2021/alle Freihandkäufe/2012-01-01",
          "Summe der Handänderungsumsatzwerte nach Typ, Jahr und Handänderungsgrundstücktyp 2021/ohne Stockwerkeigentum/2012-01-01",
          "Summe der Handänderungsumsatzwerte nach Typ, Jahr und Handänderungsgrundstücktyp 2021/alle Freihandkäufe/2013-01-01",
          "Summe der Handänderungsumsatzwerte nach Typ, Jahr und Handänderungsgrundstücktyp 2021/ohne Stockwerkeigentum/2013-01-01",
          "Summe der Handänderungsumsatzwerte nach Typ, Jahr und Handänderungsgrundstücktyp 2021/alle Freihandkäufe/2014-01-01",
          "Summe der Handänderungsumsatzwerte nach Typ, Jahr und Handänderungsgrundstücktyp 2021/ohne Stockwerkeigentum/2014-01-01",
          "Summe der Handänderungsumsatzwerte nach Typ, Jahr und Handänderungsgrundstücktyp 2021/alle Freihandkäufe/2015-01-01",
          "Summe der Handänderungsumsatzwerte nach Typ, Jahr und Handänderungsgrundstücktyp 2021/ohne Stockwerkeigentum/2015-01-01",
          "Summe der Handänderungsumsatzwerte nach Typ, Jahr und Handänderungsgrundstücktyp 2021/alle Freihandkäufe/2016-01-01",
          "Summe der Handänderungsumsatzwerte nach Typ, Jahr und Handänderungsgrundstücktyp 2021/ohne Stockwerkeigentum/2016-01-01",
          "Summe der Handänderungsumsatzwerte nach Typ, Jahr und Handänderungsgrundstücktyp 2021/alle Freihandkäufe/2017-01-01",
          "Summe der Handänderungsumsatzwerte nach Typ, Jahr und Handänderungsgrundstücktyp 2021/ohne Stockwerkeigentum/2017-01-01",
          "Summe der Handänderungsumsatzwerte nach Typ, Jahr und Handänderungsgrundstücktyp 2021/alle Freihandkäufe/2018-01-01",
          "Summe der Handänderungsumsatzwerte nach Typ, Jahr und Handänderungsgrundstücktyp 2021/ohne Stockwerkeigentum/2018-01-01",
          "Summe der Handänderungsumsatzwerte nach Typ, Jahr und Handänderungsgrundstücktyp 2021/alle Freihandkäufe/2019-01-01",
          "Summe der Handänderungsumsatzwerte nach Typ, Jahr und Handänderungsgrundstücktyp 2021/ohne Stockwerkeigentum/2019-01-01",
          "Summe der Handänderungsumsatzwerte nach Typ, Jahr und Handänderungsgrundstücktyp 2021/alle Freihandkäufe/2020-01-01",
          "Summe der Handänderungsumsatzwerte nach Typ, Jahr und Handänderungsgrundstücktyp 2021/ohne Stockwerkeigentum/2020-01-01",
          "Summe der Handänderungsumsatzwerte nach Typ, Jahr und Handänderungsgrundstücktyp 2021/alle Freihandkäufe/2021-01-01",
          "Summe der Handänderungsumsatzwerte nach Typ, Jahr und Handänderungsgrundstücktyp 2021/ohne Stockwerkeigentum/2021-01-01",
          "Summe der Handänderungsumsatzwerte nach Typ, Jahr und Handänderungsgrundstücktyp 2021/alle Freihandkäufe",
          "Summe der Handänderungsumsatzwerte nach Typ, Jahr und Handänderungsgrundstücktyp 2021/ohne Stockwerkeigentum",
          "Summe der Handänderungsumsatzwerte nach Typ, Jahr und Handänderungsgrundstücktyp 2021"
         ],
         "labels": [
          "Einfamilienhäuser",
          "Einfamilienhäuser",
          "Einfamilienhäuser",
          "Einfamilienhäuser",
          "Einfamilienhäuser",
          "Einfamilienhäuser",
          "Einfamilienhäuser",
          "Einfamilienhäuser",
          "Einfamilienhäuser",
          "Einfamilienhäuser",
          "Einfamilienhäuser",
          "Einfamilienhäuser",
          "Einfamilienhäuser",
          "Einfamilienhäuser",
          "Einfamilienhäuser",
          "Einfamilienhäuser",
          "Einfamilienhäuser",
          "Einfamilienhäuser",
          "Einfamilienhäuser",
          "Einfamilienhäuser",
          "Einfamilienhäuser",
          "Einfamilienhäuser",
          "Mehrfamilienhäuser",
          "Mehrfamilienhäuser",
          "Mehrfamilienhäuser",
          "Mehrfamilienhäuser",
          "Mehrfamilienhäuser",
          "Mehrfamilienhäuser",
          "Mehrfamilienhäuser",
          "Mehrfamilienhäuser",
          "Mehrfamilienhäuser",
          "Mehrfamilienhäuser",
          "Mehrfamilienhäuser",
          "Mehrfamilienhäuser",
          "Mehrfamilienhäuser",
          "Mehrfamilienhäuser",
          "Mehrfamilienhäuser",
          "Mehrfamilienhäuser",
          "Mehrfamilienhäuser",
          "Mehrfamilienhäuser",
          "Mehrfamilienhäuser",
          "Mehrfamilienhäuser",
          "Mehrfamilienhäuser",
          "Mehrfamilienhäuser",
          "Nutzbauten",
          "Nutzbauten",
          "Nutzbauten",
          "Nutzbauten",
          "Nutzbauten",
          "Nutzbauten",
          "Nutzbauten",
          "Nutzbauten",
          "Nutzbauten",
          "Nutzbauten",
          "Nutzbauten",
          "Nutzbauten",
          "Nutzbauten",
          "Nutzbauten",
          "Nutzbauten",
          "Nutzbauten",
          "Nutzbauten",
          "Nutzbauten",
          "Nutzbauten",
          "Nutzbauten",
          "Nutzbauten",
          "Nutzbauten",
          "Wohnhäuser mit Geschäftsräumen",
          "Wohnhäuser mit Geschäftsräumen",
          "Wohnhäuser mit Geschäftsräumen",
          "Wohnhäuser mit Geschäftsräumen",
          "Wohnhäuser mit Geschäftsräumen",
          "Wohnhäuser mit Geschäftsräumen",
          "Wohnhäuser mit Geschäftsräumen",
          "Wohnhäuser mit Geschäftsräumen",
          "Wohnhäuser mit Geschäftsräumen",
          "Wohnhäuser mit Geschäftsräumen",
          "Wohnhäuser mit Geschäftsräumen",
          "Wohnhäuser mit Geschäftsräumen",
          "Wohnhäuser mit Geschäftsräumen",
          "Wohnhäuser mit Geschäftsräumen",
          "Wohnhäuser mit Geschäftsräumen",
          "Wohnhäuser mit Geschäftsräumen",
          "Wohnhäuser mit Geschäftsräumen",
          "Wohnhäuser mit Geschäftsräumen",
          "Wohnhäuser mit Geschäftsräumen",
          "Wohnhäuser mit Geschäftsräumen",
          "Wohnhäuser mit Geschäftsräumen",
          "Wohnhäuser mit Geschäftsräumen",
          "übrige Wohnhäuser",
          "übrige Wohnhäuser",
          "übrige Wohnhäuser",
          "übrige Wohnhäuser",
          "übrige Wohnhäuser",
          "übrige Wohnhäuser",
          "übrige Wohnhäuser",
          "übrige Wohnhäuser",
          "übrige Wohnhäuser",
          "übrige Wohnhäuser",
          "übrige Wohnhäuser",
          "übrige Wohnhäuser",
          "übrige Wohnhäuser",
          "übrige Wohnhäuser",
          "übrige Wohnhäuser",
          "übrige Wohnhäuser",
          "übrige Wohnhäuser",
          "übrige Wohnhäuser",
          "übrige Wohnhäuser",
          "2011-01-01",
          "2011-01-01",
          "2012-01-01",
          "2012-01-01",
          "2013-01-01",
          "2013-01-01",
          "2014-01-01",
          "2014-01-01",
          "2015-01-01",
          "2015-01-01",
          "2016-01-01",
          "2016-01-01",
          "2017-01-01",
          "2017-01-01",
          "2018-01-01",
          "2018-01-01",
          "2019-01-01",
          "2019-01-01",
          "2020-01-01",
          "2020-01-01",
          "2021-01-01",
          "2021-01-01",
          "alle Freihandkäufe",
          "ohne Stockwerkeigentum",
          "Summe der Handänderungsumsatzwerte nach Typ, Jahr und Handänderungsgrundstücktyp 2021"
         ],
         "marker": {
          "coloraxis": "coloraxis",
          "colors": [
           210072231,
           204415231,
           248121820,
           236808820,
           217789649,
           215829649,
           223307861,
           212472361,
           212111467,
           209011467,
           265321000,
           261896000,
           221531487,
           218313487,
           337501784,
           336311784,
           313988431,
           304347431,
           409687278,
           371742278,
           390845707.99999994,
           383075707.99999994,
           983253725,
           524425385,
           1020383259,
           532398455,
           947748871.9999999,
           440476584,
           792972314,
           265940844,
           1298066314,
           566491786,
           1159300493,
           435077250,
           1140998189,
           512809590,
           1563688768,
           1007713147,
           1382168318,
           886907087,
           1215258063,
           612101873,
           1633734478,
           952891517,
           741793400,
           672218400,
           2726646783,
           2594739083,
           1051315653,
           1016394503,
           997416643,
           968886643,
           1166908446,
           1089007813,
           1573743806.0000002,
           1543291806,
           968494661,
           946380561,
           1019152591,
           996653591,
           1003937431.9999999,
           952407431.9999999,
           1647574492.9999998,
           1604569481,
           1542441226,
           1499240226,
           535303264,
           408389000,
           597026775,
           494822107.99999994,
           849196655,
           657337655,
           920063985,
           429064638,
           1138992510,
           609908696,
           1008097817,
           815273756,
           636492122,
           419730272,
           999833591,
           768286679.9999999,
           685066160,
           533321577,
           859593116,
           618631127,
           1259431899,
           685468139,
           26681790,
           24150000,
           24150000,
           24150000,
           7880000,
           7880000,
           16700000,
           16700000,
           7250000,
           7250000,
           10500000,
           7000000,
           9800000,
           9800000,
           37230000,
           37230000,
           12400000,
           12400000,
           4100000,
           740232235.8695089,
           510498995.9897195,
           1926720128.486971,
           1884569466.524931,
           901816620.2512232,
           729629715.82582,
           854208290.1829282,
           654486799.8026702,
           1147952361.2977448,
           774711431.437599,
           1224846828.634719,
           1081414057.3163996,
           904685210.4007391,
           657005437.9904636,
           1169845416.9033024,
           869661571.2119658,
           1019045091.4239213,
           763436410.9665447,
           1230120808.4053297,
           1077938195.7498085,
           1405047978.7678888,
           1071481018.2414215,
           1191768130.0875087,
           989155639.5201437,
           1105004490.8971655
          ]
         },
         "name": "",
         "parents": [
          "Summe der Handänderungsumsatzwerte nach Typ, Jahr und Handänderungsgrundstücktyp 2021/alle Freihandkäufe/2011-01-01",
          "Summe der Handänderungsumsatzwerte nach Typ, Jahr und Handänderungsgrundstücktyp 2021/ohne Stockwerkeigentum/2011-01-01",
          "Summe der Handänderungsumsatzwerte nach Typ, Jahr und Handänderungsgrundstücktyp 2021/alle Freihandkäufe/2012-01-01",
          "Summe der Handänderungsumsatzwerte nach Typ, Jahr und Handänderungsgrundstücktyp 2021/ohne Stockwerkeigentum/2012-01-01",
          "Summe der Handänderungsumsatzwerte nach Typ, Jahr und Handänderungsgrundstücktyp 2021/alle Freihandkäufe/2013-01-01",
          "Summe der Handänderungsumsatzwerte nach Typ, Jahr und Handänderungsgrundstücktyp 2021/ohne Stockwerkeigentum/2013-01-01",
          "Summe der Handänderungsumsatzwerte nach Typ, Jahr und Handänderungsgrundstücktyp 2021/alle Freihandkäufe/2014-01-01",
          "Summe der Handänderungsumsatzwerte nach Typ, Jahr und Handänderungsgrundstücktyp 2021/ohne Stockwerkeigentum/2014-01-01",
          "Summe der Handänderungsumsatzwerte nach Typ, Jahr und Handänderungsgrundstücktyp 2021/alle Freihandkäufe/2015-01-01",
          "Summe der Handänderungsumsatzwerte nach Typ, Jahr und Handänderungsgrundstücktyp 2021/ohne Stockwerkeigentum/2015-01-01",
          "Summe der Handänderungsumsatzwerte nach Typ, Jahr und Handänderungsgrundstücktyp 2021/alle Freihandkäufe/2016-01-01",
          "Summe der Handänderungsumsatzwerte nach Typ, Jahr und Handänderungsgrundstücktyp 2021/ohne Stockwerkeigentum/2016-01-01",
          "Summe der Handänderungsumsatzwerte nach Typ, Jahr und Handänderungsgrundstücktyp 2021/alle Freihandkäufe/2017-01-01",
          "Summe der Handänderungsumsatzwerte nach Typ, Jahr und Handänderungsgrundstücktyp 2021/ohne Stockwerkeigentum/2017-01-01",
          "Summe der Handänderungsumsatzwerte nach Typ, Jahr und Handänderungsgrundstücktyp 2021/alle Freihandkäufe/2018-01-01",
          "Summe der Handänderungsumsatzwerte nach Typ, Jahr und Handänderungsgrundstücktyp 2021/ohne Stockwerkeigentum/2018-01-01",
          "Summe der Handänderungsumsatzwerte nach Typ, Jahr und Handänderungsgrundstücktyp 2021/alle Freihandkäufe/2019-01-01",
          "Summe der Handänderungsumsatzwerte nach Typ, Jahr und Handänderungsgrundstücktyp 2021/ohne Stockwerkeigentum/2019-01-01",
          "Summe der Handänderungsumsatzwerte nach Typ, Jahr und Handänderungsgrundstücktyp 2021/alle Freihandkäufe/2020-01-01",
          "Summe der Handänderungsumsatzwerte nach Typ, Jahr und Handänderungsgrundstücktyp 2021/ohne Stockwerkeigentum/2020-01-01",
          "Summe der Handänderungsumsatzwerte nach Typ, Jahr und Handänderungsgrundstücktyp 2021/alle Freihandkäufe/2021-01-01",
          "Summe der Handänderungsumsatzwerte nach Typ, Jahr und Handänderungsgrundstücktyp 2021/ohne Stockwerkeigentum/2021-01-01",
          "Summe der Handänderungsumsatzwerte nach Typ, Jahr und Handänderungsgrundstücktyp 2021/alle Freihandkäufe/2011-01-01",
          "Summe der Handänderungsumsatzwerte nach Typ, Jahr und Handänderungsgrundstücktyp 2021/ohne Stockwerkeigentum/2011-01-01",
          "Summe der Handänderungsumsatzwerte nach Typ, Jahr und Handänderungsgrundstücktyp 2021/alle Freihandkäufe/2012-01-01",
          "Summe der Handänderungsumsatzwerte nach Typ, Jahr und Handänderungsgrundstücktyp 2021/ohne Stockwerkeigentum/2012-01-01",
          "Summe der Handänderungsumsatzwerte nach Typ, Jahr und Handänderungsgrundstücktyp 2021/alle Freihandkäufe/2013-01-01",
          "Summe der Handänderungsumsatzwerte nach Typ, Jahr und Handänderungsgrundstücktyp 2021/ohne Stockwerkeigentum/2013-01-01",
          "Summe der Handänderungsumsatzwerte nach Typ, Jahr und Handänderungsgrundstücktyp 2021/alle Freihandkäufe/2014-01-01",
          "Summe der Handänderungsumsatzwerte nach Typ, Jahr und Handänderungsgrundstücktyp 2021/ohne Stockwerkeigentum/2014-01-01",
          "Summe der Handänderungsumsatzwerte nach Typ, Jahr und Handänderungsgrundstücktyp 2021/alle Freihandkäufe/2015-01-01",
          "Summe der Handänderungsumsatzwerte nach Typ, Jahr und Handänderungsgrundstücktyp 2021/ohne Stockwerkeigentum/2015-01-01",
          "Summe der Handänderungsumsatzwerte nach Typ, Jahr und Handänderungsgrundstücktyp 2021/alle Freihandkäufe/2016-01-01",
          "Summe der Handänderungsumsatzwerte nach Typ, Jahr und Handänderungsgrundstücktyp 2021/ohne Stockwerkeigentum/2016-01-01",
          "Summe der Handänderungsumsatzwerte nach Typ, Jahr und Handänderungsgrundstücktyp 2021/alle Freihandkäufe/2017-01-01",
          "Summe der Handänderungsumsatzwerte nach Typ, Jahr und Handänderungsgrundstücktyp 2021/ohne Stockwerkeigentum/2017-01-01",
          "Summe der Handänderungsumsatzwerte nach Typ, Jahr und Handänderungsgrundstücktyp 2021/alle Freihandkäufe/2018-01-01",
          "Summe der Handänderungsumsatzwerte nach Typ, Jahr und Handänderungsgrundstücktyp 2021/ohne Stockwerkeigentum/2018-01-01",
          "Summe der Handänderungsumsatzwerte nach Typ, Jahr und Handänderungsgrundstücktyp 2021/alle Freihandkäufe/2019-01-01",
          "Summe der Handänderungsumsatzwerte nach Typ, Jahr und Handänderungsgrundstücktyp 2021/ohne Stockwerkeigentum/2019-01-01",
          "Summe der Handänderungsumsatzwerte nach Typ, Jahr und Handänderungsgrundstücktyp 2021/alle Freihandkäufe/2020-01-01",
          "Summe der Handänderungsumsatzwerte nach Typ, Jahr und Handänderungsgrundstücktyp 2021/ohne Stockwerkeigentum/2020-01-01",
          "Summe der Handänderungsumsatzwerte nach Typ, Jahr und Handänderungsgrundstücktyp 2021/alle Freihandkäufe/2021-01-01",
          "Summe der Handänderungsumsatzwerte nach Typ, Jahr und Handänderungsgrundstücktyp 2021/ohne Stockwerkeigentum/2021-01-01",
          "Summe der Handänderungsumsatzwerte nach Typ, Jahr und Handänderungsgrundstücktyp 2021/alle Freihandkäufe/2011-01-01",
          "Summe der Handänderungsumsatzwerte nach Typ, Jahr und Handänderungsgrundstücktyp 2021/ohne Stockwerkeigentum/2011-01-01",
          "Summe der Handänderungsumsatzwerte nach Typ, Jahr und Handänderungsgrundstücktyp 2021/alle Freihandkäufe/2012-01-01",
          "Summe der Handänderungsumsatzwerte nach Typ, Jahr und Handänderungsgrundstücktyp 2021/ohne Stockwerkeigentum/2012-01-01",
          "Summe der Handänderungsumsatzwerte nach Typ, Jahr und Handänderungsgrundstücktyp 2021/alle Freihandkäufe/2013-01-01",
          "Summe der Handänderungsumsatzwerte nach Typ, Jahr und Handänderungsgrundstücktyp 2021/ohne Stockwerkeigentum/2013-01-01",
          "Summe der Handänderungsumsatzwerte nach Typ, Jahr und Handänderungsgrundstücktyp 2021/alle Freihandkäufe/2014-01-01",
          "Summe der Handänderungsumsatzwerte nach Typ, Jahr und Handänderungsgrundstücktyp 2021/ohne Stockwerkeigentum/2014-01-01",
          "Summe der Handänderungsumsatzwerte nach Typ, Jahr und Handänderungsgrundstücktyp 2021/alle Freihandkäufe/2015-01-01",
          "Summe der Handänderungsumsatzwerte nach Typ, Jahr und Handänderungsgrundstücktyp 2021/ohne Stockwerkeigentum/2015-01-01",
          "Summe der Handänderungsumsatzwerte nach Typ, Jahr und Handänderungsgrundstücktyp 2021/alle Freihandkäufe/2016-01-01",
          "Summe der Handänderungsumsatzwerte nach Typ, Jahr und Handänderungsgrundstücktyp 2021/ohne Stockwerkeigentum/2016-01-01",
          "Summe der Handänderungsumsatzwerte nach Typ, Jahr und Handänderungsgrundstücktyp 2021/alle Freihandkäufe/2017-01-01",
          "Summe der Handänderungsumsatzwerte nach Typ, Jahr und Handänderungsgrundstücktyp 2021/ohne Stockwerkeigentum/2017-01-01",
          "Summe der Handänderungsumsatzwerte nach Typ, Jahr und Handänderungsgrundstücktyp 2021/alle Freihandkäufe/2018-01-01",
          "Summe der Handänderungsumsatzwerte nach Typ, Jahr und Handänderungsgrundstücktyp 2021/ohne Stockwerkeigentum/2018-01-01",
          "Summe der Handänderungsumsatzwerte nach Typ, Jahr und Handänderungsgrundstücktyp 2021/alle Freihandkäufe/2019-01-01",
          "Summe der Handänderungsumsatzwerte nach Typ, Jahr und Handänderungsgrundstücktyp 2021/ohne Stockwerkeigentum/2019-01-01",
          "Summe der Handänderungsumsatzwerte nach Typ, Jahr und Handänderungsgrundstücktyp 2021/alle Freihandkäufe/2020-01-01",
          "Summe der Handänderungsumsatzwerte nach Typ, Jahr und Handänderungsgrundstücktyp 2021/ohne Stockwerkeigentum/2020-01-01",
          "Summe der Handänderungsumsatzwerte nach Typ, Jahr und Handänderungsgrundstücktyp 2021/alle Freihandkäufe/2021-01-01",
          "Summe der Handänderungsumsatzwerte nach Typ, Jahr und Handänderungsgrundstücktyp 2021/ohne Stockwerkeigentum/2021-01-01",
          "Summe der Handänderungsumsatzwerte nach Typ, Jahr und Handänderungsgrundstücktyp 2021/alle Freihandkäufe/2011-01-01",
          "Summe der Handänderungsumsatzwerte nach Typ, Jahr und Handänderungsgrundstücktyp 2021/ohne Stockwerkeigentum/2011-01-01",
          "Summe der Handänderungsumsatzwerte nach Typ, Jahr und Handänderungsgrundstücktyp 2021/alle Freihandkäufe/2012-01-01",
          "Summe der Handänderungsumsatzwerte nach Typ, Jahr und Handänderungsgrundstücktyp 2021/ohne Stockwerkeigentum/2012-01-01",
          "Summe der Handänderungsumsatzwerte nach Typ, Jahr und Handänderungsgrundstücktyp 2021/alle Freihandkäufe/2013-01-01",
          "Summe der Handänderungsumsatzwerte nach Typ, Jahr und Handänderungsgrundstücktyp 2021/ohne Stockwerkeigentum/2013-01-01",
          "Summe der Handänderungsumsatzwerte nach Typ, Jahr und Handänderungsgrundstücktyp 2021/alle Freihandkäufe/2014-01-01",
          "Summe der Handänderungsumsatzwerte nach Typ, Jahr und Handänderungsgrundstücktyp 2021/ohne Stockwerkeigentum/2014-01-01",
          "Summe der Handänderungsumsatzwerte nach Typ, Jahr und Handänderungsgrundstücktyp 2021/alle Freihandkäufe/2015-01-01",
          "Summe der Handänderungsumsatzwerte nach Typ, Jahr und Handänderungsgrundstücktyp 2021/ohne Stockwerkeigentum/2015-01-01",
          "Summe der Handänderungsumsatzwerte nach Typ, Jahr und Handänderungsgrundstücktyp 2021/alle Freihandkäufe/2016-01-01",
          "Summe der Handänderungsumsatzwerte nach Typ, Jahr und Handänderungsgrundstücktyp 2021/ohne Stockwerkeigentum/2016-01-01",
          "Summe der Handänderungsumsatzwerte nach Typ, Jahr und Handänderungsgrundstücktyp 2021/alle Freihandkäufe/2017-01-01",
          "Summe der Handänderungsumsatzwerte nach Typ, Jahr und Handänderungsgrundstücktyp 2021/ohne Stockwerkeigentum/2017-01-01",
          "Summe der Handänderungsumsatzwerte nach Typ, Jahr und Handänderungsgrundstücktyp 2021/alle Freihandkäufe/2018-01-01",
          "Summe der Handänderungsumsatzwerte nach Typ, Jahr und Handänderungsgrundstücktyp 2021/ohne Stockwerkeigentum/2018-01-01",
          "Summe der Handänderungsumsatzwerte nach Typ, Jahr und Handänderungsgrundstücktyp 2021/alle Freihandkäufe/2019-01-01",
          "Summe der Handänderungsumsatzwerte nach Typ, Jahr und Handänderungsgrundstücktyp 2021/ohne Stockwerkeigentum/2019-01-01",
          "Summe der Handänderungsumsatzwerte nach Typ, Jahr und Handänderungsgrundstücktyp 2021/alle Freihandkäufe/2020-01-01",
          "Summe der Handänderungsumsatzwerte nach Typ, Jahr und Handänderungsgrundstücktyp 2021/ohne Stockwerkeigentum/2020-01-01",
          "Summe der Handänderungsumsatzwerte nach Typ, Jahr und Handänderungsgrundstücktyp 2021/alle Freihandkäufe/2021-01-01",
          "Summe der Handänderungsumsatzwerte nach Typ, Jahr und Handänderungsgrundstücktyp 2021/ohne Stockwerkeigentum/2021-01-01",
          "Summe der Handänderungsumsatzwerte nach Typ, Jahr und Handänderungsgrundstücktyp 2021/alle Freihandkäufe/2011-01-01",
          "Summe der Handänderungsumsatzwerte nach Typ, Jahr und Handänderungsgrundstücktyp 2021/ohne Stockwerkeigentum/2011-01-01",
          "Summe der Handänderungsumsatzwerte nach Typ, Jahr und Handänderungsgrundstücktyp 2021/alle Freihandkäufe/2012-01-01",
          "Summe der Handänderungsumsatzwerte nach Typ, Jahr und Handänderungsgrundstücktyp 2021/ohne Stockwerkeigentum/2012-01-01",
          "Summe der Handänderungsumsatzwerte nach Typ, Jahr und Handänderungsgrundstücktyp 2021/alle Freihandkäufe/2013-01-01",
          "Summe der Handänderungsumsatzwerte nach Typ, Jahr und Handänderungsgrundstücktyp 2021/ohne Stockwerkeigentum/2013-01-01",
          "Summe der Handänderungsumsatzwerte nach Typ, Jahr und Handänderungsgrundstücktyp 2021/alle Freihandkäufe/2014-01-01",
          "Summe der Handänderungsumsatzwerte nach Typ, Jahr und Handänderungsgrundstücktyp 2021/ohne Stockwerkeigentum/2014-01-01",
          "Summe der Handänderungsumsatzwerte nach Typ, Jahr und Handänderungsgrundstücktyp 2021/alle Freihandkäufe/2015-01-01",
          "Summe der Handänderungsumsatzwerte nach Typ, Jahr und Handänderungsgrundstücktyp 2021/ohne Stockwerkeigentum/2015-01-01",
          "Summe der Handänderungsumsatzwerte nach Typ, Jahr und Handänderungsgrundstücktyp 2021/alle Freihandkäufe/2017-01-01",
          "Summe der Handänderungsumsatzwerte nach Typ, Jahr und Handänderungsgrundstücktyp 2021/ohne Stockwerkeigentum/2017-01-01",
          "Summe der Handänderungsumsatzwerte nach Typ, Jahr und Handänderungsgrundstücktyp 2021/alle Freihandkäufe/2018-01-01",
          "Summe der Handänderungsumsatzwerte nach Typ, Jahr und Handänderungsgrundstücktyp 2021/ohne Stockwerkeigentum/2018-01-01",
          "Summe der Handänderungsumsatzwerte nach Typ, Jahr und Handänderungsgrundstücktyp 2021/alle Freihandkäufe/2019-01-01",
          "Summe der Handänderungsumsatzwerte nach Typ, Jahr und Handänderungsgrundstücktyp 2021/ohne Stockwerkeigentum/2019-01-01",
          "Summe der Handänderungsumsatzwerte nach Typ, Jahr und Handänderungsgrundstücktyp 2021/alle Freihandkäufe/2020-01-01",
          "Summe der Handänderungsumsatzwerte nach Typ, Jahr und Handänderungsgrundstücktyp 2021/ohne Stockwerkeigentum/2020-01-01",
          "Summe der Handänderungsumsatzwerte nach Typ, Jahr und Handänderungsgrundstücktyp 2021/alle Freihandkäufe/2021-01-01",
          "Summe der Handänderungsumsatzwerte nach Typ, Jahr und Handänderungsgrundstücktyp 2021/alle Freihandkäufe",
          "Summe der Handänderungsumsatzwerte nach Typ, Jahr und Handänderungsgrundstücktyp 2021/ohne Stockwerkeigentum",
          "Summe der Handänderungsumsatzwerte nach Typ, Jahr und Handänderungsgrundstücktyp 2021/alle Freihandkäufe",
          "Summe der Handänderungsumsatzwerte nach Typ, Jahr und Handänderungsgrundstücktyp 2021/ohne Stockwerkeigentum",
          "Summe der Handänderungsumsatzwerte nach Typ, Jahr und Handänderungsgrundstücktyp 2021/alle Freihandkäufe",
          "Summe der Handänderungsumsatzwerte nach Typ, Jahr und Handänderungsgrundstücktyp 2021/ohne Stockwerkeigentum",
          "Summe der Handänderungsumsatzwerte nach Typ, Jahr und Handänderungsgrundstücktyp 2021/alle Freihandkäufe",
          "Summe der Handänderungsumsatzwerte nach Typ, Jahr und Handänderungsgrundstücktyp 2021/ohne Stockwerkeigentum",
          "Summe der Handänderungsumsatzwerte nach Typ, Jahr und Handänderungsgrundstücktyp 2021/alle Freihandkäufe",
          "Summe der Handänderungsumsatzwerte nach Typ, Jahr und Handänderungsgrundstücktyp 2021/ohne Stockwerkeigentum",
          "Summe der Handänderungsumsatzwerte nach Typ, Jahr und Handänderungsgrundstücktyp 2021/alle Freihandkäufe",
          "Summe der Handänderungsumsatzwerte nach Typ, Jahr und Handänderungsgrundstücktyp 2021/ohne Stockwerkeigentum",
          "Summe der Handänderungsumsatzwerte nach Typ, Jahr und Handänderungsgrundstücktyp 2021/alle Freihandkäufe",
          "Summe der Handänderungsumsatzwerte nach Typ, Jahr und Handänderungsgrundstücktyp 2021/ohne Stockwerkeigentum",
          "Summe der Handänderungsumsatzwerte nach Typ, Jahr und Handänderungsgrundstücktyp 2021/alle Freihandkäufe",
          "Summe der Handänderungsumsatzwerte nach Typ, Jahr und Handänderungsgrundstücktyp 2021/ohne Stockwerkeigentum",
          "Summe der Handänderungsumsatzwerte nach Typ, Jahr und Handänderungsgrundstücktyp 2021/alle Freihandkäufe",
          "Summe der Handänderungsumsatzwerte nach Typ, Jahr und Handänderungsgrundstücktyp 2021/ohne Stockwerkeigentum",
          "Summe der Handänderungsumsatzwerte nach Typ, Jahr und Handänderungsgrundstücktyp 2021/alle Freihandkäufe",
          "Summe der Handänderungsumsatzwerte nach Typ, Jahr und Handänderungsgrundstücktyp 2021/ohne Stockwerkeigentum",
          "Summe der Handänderungsumsatzwerte nach Typ, Jahr und Handänderungsgrundstücktyp 2021/alle Freihandkäufe",
          "Summe der Handänderungsumsatzwerte nach Typ, Jahr und Handänderungsgrundstücktyp 2021/ohne Stockwerkeigentum",
          "Summe der Handänderungsumsatzwerte nach Typ, Jahr und Handänderungsgrundstücktyp 2021",
          "Summe der Handänderungsumsatzwerte nach Typ, Jahr und Handänderungsgrundstücktyp 2021",
          ""
         ],
         "root": {
          "color": "grey"
         },
         "type": "treemap",
         "values": [
          210072231,
          204415231,
          248121820,
          236808820,
          217789649,
          215829649,
          223307861,
          212472361,
          212111467,
          209011467,
          265321000,
          261896000,
          221531487,
          218313487,
          337501784,
          336311784,
          313988431,
          304347431,
          409687278,
          371742278,
          390845708,
          383075708,
          983253725,
          524425385,
          1020383259,
          532398455,
          947748872,
          440476584,
          792972314,
          265940844,
          1298066314,
          566491786,
          1159300493,
          435077250,
          1140998189,
          512809590,
          1563688768,
          1007713147,
          1382168318,
          886907087,
          1215258063,
          612101873,
          1633734478,
          952891517,
          741793400,
          672218400,
          2726646783,
          2594739083,
          1051315653,
          1016394503,
          997416643,
          968886643,
          1166908446,
          1089007813,
          1573743806,
          1543291806,
          968494661,
          946380561,
          1019152591,
          996653591,
          1003937432,
          952407432,
          1647574493,
          1604569481,
          1542441226,
          1499240226,
          535303264,
          408389000,
          597026775,
          494822108,
          849196655,
          657337655,
          920063985,
          429064638,
          1138992510,
          609908696,
          1008097817,
          815273756,
          636492122,
          419730272,
          999833591,
          768286680,
          685066160,
          533321577,
          859593116,
          618631127,
          1259431899,
          685468139,
          26681790,
          24150000,
          24150000,
          24150000,
          7880000,
          7880000,
          16700000,
          16700000,
          7250000,
          7250000,
          10500000,
          7000000,
          9800000,
          9800000,
          37230000,
          37230000,
          12400000,
          12400000,
          4100000,
          2497104410,
          1833598016,
          4616328637,
          3882918466,
          3073930829,
          2337918391,
          2950460803,
          1893064486,
          3823328737,
          2481669762,
          4006463116,
          3055538812,
          2978016459,
          2104233910,
          3929976734,
          3118765202,
          3422390341,
          2714213527,
          4144512950,
          3219444759,
          4830553311,
          3520675590,
          40273066327,
          30162040921,
          70435107248
         ]
        }
       ],
       "layout": {
        "coloraxis": {
         "colorbar": {
          "title": {
           "text": "sum_Umsatzwert"
          }
         },
         "colorscale": [
          [
           0,
           "#00224e"
          ],
          [
           0.1111111111111111,
           "#123570"
          ],
          [
           0.2222222222222222,
           "#3b496c"
          ],
          [
           0.3333333333333333,
           "#575d6d"
          ],
          [
           0.4444444444444444,
           "#707173"
          ],
          [
           0.5555555555555556,
           "#8a8678"
          ],
          [
           0.6666666666666666,
           "#a59c74"
          ],
          [
           0.7777777777777778,
           "#c3b369"
          ],
          [
           0.8888888888888888,
           "#e1cc55"
          ],
          [
           1,
           "#fee838"
          ]
         ]
        },
        "height": 500,
        "legend": {
         "tracegroupgap": 0
        },
        "margin": {
         "b": 25,
         "l": 25,
         "r": 250,
         "t": 50
        },
        "template": {
         "data": {
          "bar": [
           {
            "error_x": {
             "color": "#2a3f5f"
            },
            "error_y": {
             "color": "#2a3f5f"
            },
            "marker": {
             "line": {
              "color": "#E5ECF6",
              "width": 0.5
             },
             "pattern": {
              "fillmode": "overlay",
              "size": 10,
              "solidity": 0.2
             }
            },
            "type": "bar"
           }
          ],
          "barpolar": [
           {
            "marker": {
             "line": {
              "color": "#E5ECF6",
              "width": 0.5
             },
             "pattern": {
              "fillmode": "overlay",
              "size": 10,
              "solidity": 0.2
             }
            },
            "type": "barpolar"
           }
          ],
          "carpet": [
           {
            "aaxis": {
             "endlinecolor": "#2a3f5f",
             "gridcolor": "white",
             "linecolor": "white",
             "minorgridcolor": "white",
             "startlinecolor": "#2a3f5f"
            },
            "baxis": {
             "endlinecolor": "#2a3f5f",
             "gridcolor": "white",
             "linecolor": "white",
             "minorgridcolor": "white",
             "startlinecolor": "#2a3f5f"
            },
            "type": "carpet"
           }
          ],
          "choropleth": [
           {
            "colorbar": {
             "outlinewidth": 0,
             "ticks": ""
            },
            "type": "choropleth"
           }
          ],
          "contour": [
           {
            "colorbar": {
             "outlinewidth": 0,
             "ticks": ""
            },
            "colorscale": [
             [
              0,
              "#0d0887"
             ],
             [
              0.1111111111111111,
              "#46039f"
             ],
             [
              0.2222222222222222,
              "#7201a8"
             ],
             [
              0.3333333333333333,
              "#9c179e"
             ],
             [
              0.4444444444444444,
              "#bd3786"
             ],
             [
              0.5555555555555556,
              "#d8576b"
             ],
             [
              0.6666666666666666,
              "#ed7953"
             ],
             [
              0.7777777777777778,
              "#fb9f3a"
             ],
             [
              0.8888888888888888,
              "#fdca26"
             ],
             [
              1,
              "#f0f921"
             ]
            ],
            "type": "contour"
           }
          ],
          "contourcarpet": [
           {
            "colorbar": {
             "outlinewidth": 0,
             "ticks": ""
            },
            "type": "contourcarpet"
           }
          ],
          "heatmap": [
           {
            "colorbar": {
             "outlinewidth": 0,
             "ticks": ""
            },
            "colorscale": [
             [
              0,
              "#0d0887"
             ],
             [
              0.1111111111111111,
              "#46039f"
             ],
             [
              0.2222222222222222,
              "#7201a8"
             ],
             [
              0.3333333333333333,
              "#9c179e"
             ],
             [
              0.4444444444444444,
              "#bd3786"
             ],
             [
              0.5555555555555556,
              "#d8576b"
             ],
             [
              0.6666666666666666,
              "#ed7953"
             ],
             [
              0.7777777777777778,
              "#fb9f3a"
             ],
             [
              0.8888888888888888,
              "#fdca26"
             ],
             [
              1,
              "#f0f921"
             ]
            ],
            "type": "heatmap"
           }
          ],
          "heatmapgl": [
           {
            "colorbar": {
             "outlinewidth": 0,
             "ticks": ""
            },
            "colorscale": [
             [
              0,
              "#0d0887"
             ],
             [
              0.1111111111111111,
              "#46039f"
             ],
             [
              0.2222222222222222,
              "#7201a8"
             ],
             [
              0.3333333333333333,
              "#9c179e"
             ],
             [
              0.4444444444444444,
              "#bd3786"
             ],
             [
              0.5555555555555556,
              "#d8576b"
             ],
             [
              0.6666666666666666,
              "#ed7953"
             ],
             [
              0.7777777777777778,
              "#fb9f3a"
             ],
             [
              0.8888888888888888,
              "#fdca26"
             ],
             [
              1,
              "#f0f921"
             ]
            ],
            "type": "heatmapgl"
           }
          ],
          "histogram": [
           {
            "marker": {
             "pattern": {
              "fillmode": "overlay",
              "size": 10,
              "solidity": 0.2
             }
            },
            "type": "histogram"
           }
          ],
          "histogram2d": [
           {
            "colorbar": {
             "outlinewidth": 0,
             "ticks": ""
            },
            "colorscale": [
             [
              0,
              "#0d0887"
             ],
             [
              0.1111111111111111,
              "#46039f"
             ],
             [
              0.2222222222222222,
              "#7201a8"
             ],
             [
              0.3333333333333333,
              "#9c179e"
             ],
             [
              0.4444444444444444,
              "#bd3786"
             ],
             [
              0.5555555555555556,
              "#d8576b"
             ],
             [
              0.6666666666666666,
              "#ed7953"
             ],
             [
              0.7777777777777778,
              "#fb9f3a"
             ],
             [
              0.8888888888888888,
              "#fdca26"
             ],
             [
              1,
              "#f0f921"
             ]
            ],
            "type": "histogram2d"
           }
          ],
          "histogram2dcontour": [
           {
            "colorbar": {
             "outlinewidth": 0,
             "ticks": ""
            },
            "colorscale": [
             [
              0,
              "#0d0887"
             ],
             [
              0.1111111111111111,
              "#46039f"
             ],
             [
              0.2222222222222222,
              "#7201a8"
             ],
             [
              0.3333333333333333,
              "#9c179e"
             ],
             [
              0.4444444444444444,
              "#bd3786"
             ],
             [
              0.5555555555555556,
              "#d8576b"
             ],
             [
              0.6666666666666666,
              "#ed7953"
             ],
             [
              0.7777777777777778,
              "#fb9f3a"
             ],
             [
              0.8888888888888888,
              "#fdca26"
             ],
             [
              1,
              "#f0f921"
             ]
            ],
            "type": "histogram2dcontour"
           }
          ],
          "mesh3d": [
           {
            "colorbar": {
             "outlinewidth": 0,
             "ticks": ""
            },
            "type": "mesh3d"
           }
          ],
          "parcoords": [
           {
            "line": {
             "colorbar": {
              "outlinewidth": 0,
              "ticks": ""
             }
            },
            "type": "parcoords"
           }
          ],
          "pie": [
           {
            "automargin": true,
            "type": "pie"
           }
          ],
          "scatter": [
           {
            "marker": {
             "colorbar": {
              "outlinewidth": 0,
              "ticks": ""
             }
            },
            "type": "scatter"
           }
          ],
          "scatter3d": [
           {
            "line": {
             "colorbar": {
              "outlinewidth": 0,
              "ticks": ""
             }
            },
            "marker": {
             "colorbar": {
              "outlinewidth": 0,
              "ticks": ""
             }
            },
            "type": "scatter3d"
           }
          ],
          "scattercarpet": [
           {
            "marker": {
             "colorbar": {
              "outlinewidth": 0,
              "ticks": ""
             }
            },
            "type": "scattercarpet"
           }
          ],
          "scattergeo": [
           {
            "marker": {
             "colorbar": {
              "outlinewidth": 0,
              "ticks": ""
             }
            },
            "type": "scattergeo"
           }
          ],
          "scattergl": [
           {
            "marker": {
             "colorbar": {
              "outlinewidth": 0,
              "ticks": ""
             }
            },
            "type": "scattergl"
           }
          ],
          "scattermapbox": [
           {
            "marker": {
             "colorbar": {
              "outlinewidth": 0,
              "ticks": ""
             }
            },
            "type": "scattermapbox"
           }
          ],
          "scatterpolar": [
           {
            "marker": {
             "colorbar": {
              "outlinewidth": 0,
              "ticks": ""
             }
            },
            "type": "scatterpolar"
           }
          ],
          "scatterpolargl": [
           {
            "marker": {
             "colorbar": {
              "outlinewidth": 0,
              "ticks": ""
             }
            },
            "type": "scatterpolargl"
           }
          ],
          "scatterternary": [
           {
            "marker": {
             "colorbar": {
              "outlinewidth": 0,
              "ticks": ""
             }
            },
            "type": "scatterternary"
           }
          ],
          "surface": [
           {
            "colorbar": {
             "outlinewidth": 0,
             "ticks": ""
            },
            "colorscale": [
             [
              0,
              "#0d0887"
             ],
             [
              0.1111111111111111,
              "#46039f"
             ],
             [
              0.2222222222222222,
              "#7201a8"
             ],
             [
              0.3333333333333333,
              "#9c179e"
             ],
             [
              0.4444444444444444,
              "#bd3786"
             ],
             [
              0.5555555555555556,
              "#d8576b"
             ],
             [
              0.6666666666666666,
              "#ed7953"
             ],
             [
              0.7777777777777778,
              "#fb9f3a"
             ],
             [
              0.8888888888888888,
              "#fdca26"
             ],
             [
              1,
              "#f0f921"
             ]
            ],
            "type": "surface"
           }
          ],
          "table": [
           {
            "cells": {
             "fill": {
              "color": "#EBF0F8"
             },
             "line": {
              "color": "white"
             }
            },
            "header": {
             "fill": {
              "color": "#C8D4E3"
             },
             "line": {
              "color": "white"
             }
            },
            "type": "table"
           }
          ]
         },
         "layout": {
          "annotationdefaults": {
           "arrowcolor": "#2a3f5f",
           "arrowhead": 0,
           "arrowwidth": 1
          },
          "autotypenumbers": "strict",
          "coloraxis": {
           "colorbar": {
            "outlinewidth": 0,
            "ticks": ""
           }
          },
          "colorscale": {
           "diverging": [
            [
             0,
             "#8e0152"
            ],
            [
             0.1,
             "#c51b7d"
            ],
            [
             0.2,
             "#de77ae"
            ],
            [
             0.3,
             "#f1b6da"
            ],
            [
             0.4,
             "#fde0ef"
            ],
            [
             0.5,
             "#f7f7f7"
            ],
            [
             0.6,
             "#e6f5d0"
            ],
            [
             0.7,
             "#b8e186"
            ],
            [
             0.8,
             "#7fbc41"
            ],
            [
             0.9,
             "#4d9221"
            ],
            [
             1,
             "#276419"
            ]
           ],
           "sequential": [
            [
             0,
             "#0d0887"
            ],
            [
             0.1111111111111111,
             "#46039f"
            ],
            [
             0.2222222222222222,
             "#7201a8"
            ],
            [
             0.3333333333333333,
             "#9c179e"
            ],
            [
             0.4444444444444444,
             "#bd3786"
            ],
            [
             0.5555555555555556,
             "#d8576b"
            ],
            [
             0.6666666666666666,
             "#ed7953"
            ],
            [
             0.7777777777777778,
             "#fb9f3a"
            ],
            [
             0.8888888888888888,
             "#fdca26"
            ],
            [
             1,
             "#f0f921"
            ]
           ],
           "sequentialminus": [
            [
             0,
             "#0d0887"
            ],
            [
             0.1111111111111111,
             "#46039f"
            ],
            [
             0.2222222222222222,
             "#7201a8"
            ],
            [
             0.3333333333333333,
             "#9c179e"
            ],
            [
             0.4444444444444444,
             "#bd3786"
            ],
            [
             0.5555555555555556,
             "#d8576b"
            ],
            [
             0.6666666666666666,
             "#ed7953"
            ],
            [
             0.7777777777777778,
             "#fb9f3a"
            ],
            [
             0.8888888888888888,
             "#fdca26"
            ],
            [
             1,
             "#f0f921"
            ]
           ]
          },
          "colorway": [
           "#636efa",
           "#EF553B",
           "#00cc96",
           "#ab63fa",
           "#FFA15A",
           "#19d3f3",
           "#FF6692",
           "#B6E880",
           "#FF97FF",
           "#FECB52"
          ],
          "font": {
           "color": "#2a3f5f"
          },
          "geo": {
           "bgcolor": "white",
           "lakecolor": "white",
           "landcolor": "#E5ECF6",
           "showlakes": true,
           "showland": true,
           "subunitcolor": "white"
          },
          "hoverlabel": {
           "align": "left"
          },
          "hovermode": "closest",
          "mapbox": {
           "style": "light"
          },
          "paper_bgcolor": "white",
          "plot_bgcolor": "#E5ECF6",
          "polar": {
           "angularaxis": {
            "gridcolor": "white",
            "linecolor": "white",
            "ticks": ""
           },
           "bgcolor": "#E5ECF6",
           "radialaxis": {
            "gridcolor": "white",
            "linecolor": "white",
            "ticks": ""
           }
          },
          "scene": {
           "xaxis": {
            "backgroundcolor": "#E5ECF6",
            "gridcolor": "white",
            "gridwidth": 2,
            "linecolor": "white",
            "showbackground": true,
            "ticks": "",
            "zerolinecolor": "white"
           },
           "yaxis": {
            "backgroundcolor": "#E5ECF6",
            "gridcolor": "white",
            "gridwidth": 2,
            "linecolor": "white",
            "showbackground": true,
            "ticks": "",
            "zerolinecolor": "white"
           },
           "zaxis": {
            "backgroundcolor": "#E5ECF6",
            "gridcolor": "white",
            "gridwidth": 2,
            "linecolor": "white",
            "showbackground": true,
            "ticks": "",
            "zerolinecolor": "white"
           }
          },
          "shapedefaults": {
           "line": {
            "color": "#2a3f5f"
           }
          },
          "ternary": {
           "aaxis": {
            "gridcolor": "white",
            "linecolor": "white",
            "ticks": ""
           },
           "baxis": {
            "gridcolor": "white",
            "linecolor": "white",
            "ticks": ""
           },
           "bgcolor": "#E5ECF6",
           "caxis": {
            "gridcolor": "white",
            "linecolor": "white",
            "ticks": ""
           }
          },
          "title": {
           "x": 0.05
          },
          "xaxis": {
           "automargin": true,
           "gridcolor": "white",
           "linecolor": "white",
           "ticks": "",
           "title": {
            "standoff": 15
           },
           "zerolinecolor": "white",
           "zerolinewidth": 2
          },
          "yaxis": {
           "automargin": true,
           "gridcolor": "white",
           "linecolor": "white",
           "ticks": "",
           "title": {
            "standoff": 15
           },
           "zerolinecolor": "white",
           "zerolinewidth": 2
          }
         }
        },
        "width": 1100
       }
      },
      "image/png": "[encoded data removed]",
      "text/html": [
       "<div>                            <div id=\"fce7ce5c-3db3-4d60-b38d-dc7e6d0a4d39\" class=\"plotly-graph-div\" style=\"height:500px; width:1100px;\"></div>            <script type=\"text/javascript\">                require([\"plotly\"], function(Plotly) {                    window.PLOTLYENV=window.PLOTLYENV || {};                                    if (document.getElementById(\"fce7ce5c-3db3-4d60-b38d-dc7e6d0a4d39\")) {                    Plotly.newPlot(                        \"fce7ce5c-3db3-4d60-b38d-dc7e6d0a4d39\",                        [{\"branchvalues\":\"total\",\"customdata\":[[210072231.0],[204415231.0],[248121820.0],[236808820.0],[217789649.0],[215829649.0],[223307861.0],[212472361.0],[212111467.0],[209011467.0],[265321000.0],[261896000.0],[221531487.0],[218313487.0],[337501784.0],[336311784.0],[313988431.0],[304347431.0],[409687278.0],[371742278.0],[390845707.99999994],[383075707.99999994],[983253725.0],[524425385.0],[1020383259.0],[532398455.0],[947748871.9999999],[440476584.0],[792972314.0],[265940844.0],[1298066314.0],[566491786.0],[1159300493.0],[435077250.0],[1140998189.0],[512809590.0],[1563688768.0],[1007713147.0],[1382168318.0],[886907087.0],[1215258063.0],[612101873.0],[1633734478.0],[952891517.0],[741793400.0],[672218400.0],[2726646783.0],[2594739083.0],[1051315653.0],[1016394503.0],[997416643.0],[968886643.0],[1166908446.0],[1089007813.0],[1573743806.0000002],[1543291806.0],[968494661.0],[946380561.0],[1019152591.0],[996653591.0],[1003937431.9999999],[952407431.9999999],[1647574492.9999998],[1604569481.0],[1542441226.0],[1499240226.0],[535303264.0],[408389000.0],[597026775.0],[494822107.99999994],[849196655.0],[657337655.0],[920063985.0],[429064638.0],[1138992510.0],[609908696.0],[1008097817.0],[815273756.0],[636492122.0],[419730272.0],[999833591.0],[768286679.9999999],[685066160.0],[533321577.0],[859593116.0],[618631127.0],[1259431899.0],[685468139.0],[26681790.0],[24150000.0],[24150000.0],[24150000.0],[7880000.0],[7880000.0],[16700000.0],[16700000.0],[7250000.0],[7250000.0],[10500000.0],[7000000.0],[9800000.0],[9800000.0],[37230000.0],[37230000.0],[12400000.0],[12400000.0],[4100000.0],[740232235.8695089],[510498995.9897195],[1926720128.486971],[1884569466.524931],[901816620.2512232],[729629715.82582],[854208290.1829282],[654486799.8026702],[1147952361.2977448],[774711431.437599],[1224846828.634719],[1081414057.3163996],[904685210.4007391],[657005437.9904636],[1169845416.9033024],[869661571.2119658],[1019045091.4239213],[763436410.9665447],[1230120808.4053297],[1077938195.7498085],[1405047978.7678888],[1071481018.2414215],[1191768130.0875087],[989155639.5201437],[1105004490.8971655]],\"domain\":{\"x\":[0.0,1.0],\"y\":[0.0,1.0]},\"hovertemplate\":\"labels=%{label}<br>sum_Umsatzwert_sum=%{value}<br>parent=%{parent}<br>id=%{id}<br>sum_Umsatzwert=%{color}<extra></extra>\",\"ids\":[\"Summe der Hand\\u00e4nderungsumsatzwerte nach Typ, Jahr und Hand\\u00e4nderungsgrundst\\u00fccktyp 2021/alle Freihandk\\u00e4ufe/2011-01-01/Einfamilienh\\u00e4user\",\"Summe der Hand\\u00e4nderungsumsatzwerte nach Typ, Jahr und Hand\\u00e4nderungsgrundst\\u00fccktyp 2021/ohne Stockwerkeigentum/2011-01-01/Einfamilienh\\u00e4user\",\"Summe der Hand\\u00e4nderungsumsatzwerte nach Typ, Jahr und Hand\\u00e4nderungsgrundst\\u00fccktyp 2021/alle Freihandk\\u00e4ufe/2012-01-01/Einfamilienh\\u00e4user\",\"Summe der Hand\\u00e4nderungsumsatzwerte nach Typ, Jahr und Hand\\u00e4nderungsgrundst\\u00fccktyp 2021/ohne Stockwerkeigentum/2012-01-01/Einfamilienh\\u00e4user\",\"Summe der Hand\\u00e4nderungsumsatzwerte nach Typ, Jahr und Hand\\u00e4nderungsgrundst\\u00fccktyp 2021/alle Freihandk\\u00e4ufe/2013-01-01/Einfamilienh\\u00e4user\",\"Summe der Hand\\u00e4nderungsumsatzwerte nach Typ, Jahr und Hand\\u00e4nderungsgrundst\\u00fccktyp 2021/ohne Stockwerkeigentum/2013-01-01/Einfamilienh\\u00e4user\",\"Summe der Hand\\u00e4nderungsumsatzwerte nach Typ, Jahr und Hand\\u00e4nderungsgrundst\\u00fccktyp 2021/alle Freihandk\\u00e4ufe/2014-01-01/Einfamilienh\\u00e4user\",\"Summe der Hand\\u00e4nderungsumsatzwerte nach Typ, Jahr und Hand\\u00e4nderungsgrundst\\u00fccktyp 2021/ohne Stockwerkeigentum/2014-01-01/Einfamilienh\\u00e4user\",\"Summe der Hand\\u00e4nderungsumsatzwerte nach Typ, Jahr und Hand\\u00e4nderungsgrundst\\u00fccktyp 2021/alle Freihandk\\u00e4ufe/2015-01-01/Einfamilienh\\u00e4user\",\"Summe der Hand\\u00e4nderungsumsatzwerte nach Typ, Jahr und Hand\\u00e4nderungsgrundst\\u00fccktyp 2021/ohne Stockwerkeigentum/2015-01-01/Einfamilienh\\u00e4user\",\"Summe der Hand\\u00e4nderungsumsatzwerte nach Typ, Jahr und Hand\\u00e4nderungsgrundst\\u00fccktyp 2021/alle Freihandk\\u00e4ufe/2016-01-01/Einfamilienh\\u00e4user\",\"Summe der Hand\\u00e4nderungsumsatzwerte nach Typ, Jahr und Hand\\u00e4nderungsgrundst\\u00fccktyp 2021/ohne Stockwerkeigentum/2016-01-01/Einfamilienh\\u00e4user\",\"Summe der Hand\\u00e4nderungsumsatzwerte nach Typ, Jahr und Hand\\u00e4nderungsgrundst\\u00fccktyp 2021/alle Freihandk\\u00e4ufe/2017-01-01/Einfamilienh\\u00e4user\",\"Summe der Hand\\u00e4nderungsumsatzwerte nach Typ, Jahr und Hand\\u00e4nderungsgrundst\\u00fccktyp 2021/ohne Stockwerkeigentum/2017-01-01/Einfamilienh\\u00e4user\",\"Summe der Hand\\u00e4nderungsumsatzwerte nach Typ, Jahr und Hand\\u00e4nderungsgrundst\\u00fccktyp 2021/alle Freihandk\\u00e4ufe/2018-01-01/Einfamilienh\\u00e4user\",\"Summe der Hand\\u00e4nderungsumsatzwerte nach Typ, Jahr und Hand\\u00e4nderungsgrundst\\u00fccktyp 2021/ohne Stockwerkeigentum/2018-01-01/Einfamilienh\\u00e4user\",\"Summe der Hand\\u00e4nderungsumsatzwerte nach Typ, Jahr und Hand\\u00e4nderungsgrundst\\u00fccktyp 2021/alle Freihandk\\u00e4ufe/2019-01-01/Einfamilienh\\u00e4user\",\"Summe der Hand\\u00e4nderungsumsatzwerte nach Typ, Jahr und Hand\\u00e4nderungsgrundst\\u00fccktyp 2021/ohne Stockwerkeigentum/2019-01-01/Einfamilienh\\u00e4user\",\"Summe der Hand\\u00e4nderungsumsatzwerte nach Typ, Jahr und Hand\\u00e4nderungsgrundst\\u00fccktyp 2021/alle Freihandk\\u00e4ufe/2020-01-01/Einfamilienh\\u00e4user\",\"Summe der Hand\\u00e4nderungsumsatzwerte nach Typ, Jahr und Hand\\u00e4nderungsgrundst\\u00fccktyp 2021/ohne Stockwerkeigentum/2020-01-01/Einfamilienh\\u00e4user\",\"Summe der Hand\\u00e4nderungsumsatzwerte nach Typ, Jahr und Hand\\u00e4nderungsgrundst\\u00fccktyp 2021/alle Freihandk\\u00e4ufe/2021-01-01/Einfamilienh\\u00e4user\",\"Summe der Hand\\u00e4nderungsumsatzwerte nach Typ, Jahr und Hand\\u00e4nderungsgrundst\\u00fccktyp 2021/ohne Stockwerkeigentum/2021-01-01/Einfamilienh\\u00e4user\",\"Summe der Hand\\u00e4nderungsumsatzwerte nach Typ, Jahr und Hand\\u00e4nderungsgrundst\\u00fccktyp 2021/alle Freihandk\\u00e4ufe/2011-01-01/Mehrfamilienh\\u00e4user\",\"Summe der Hand\\u00e4nderungsumsatzwerte nach Typ, Jahr und Hand\\u00e4nderungsgrundst\\u00fccktyp 2021/ohne Stockwerkeigentum/2011-01-01/Mehrfamilienh\\u00e4user\",\"Summe der Hand\\u00e4nderungsumsatzwerte nach Typ, Jahr und Hand\\u00e4nderungsgrundst\\u00fccktyp 2021/alle Freihandk\\u00e4ufe/2012-01-01/Mehrfamilienh\\u00e4user\",\"Summe der Hand\\u00e4nderungsumsatzwerte nach Typ, Jahr und Hand\\u00e4nderungsgrundst\\u00fccktyp 2021/ohne Stockwerkeigentum/2012-01-01/Mehrfamilienh\\u00e4user\",\"Summe der Hand\\u00e4nderungsumsatzwerte nach Typ, Jahr und Hand\\u00e4nderungsgrundst\\u00fccktyp 2021/alle Freihandk\\u00e4ufe/2013-01-01/Mehrfamilienh\\u00e4user\",\"Summe der Hand\\u00e4nderungsumsatzwerte nach Typ, Jahr und Hand\\u00e4nderungsgrundst\\u00fccktyp 2021/ohne Stockwerkeigentum/2013-01-01/Mehrfamilienh\\u00e4user\",\"Summe der Hand\\u00e4nderungsumsatzwerte nach Typ, Jahr und Hand\\u00e4nderungsgrundst\\u00fccktyp 2021/alle Freihandk\\u00e4ufe/2014-01-01/Mehrfamilienh\\u00e4user\",\"Summe der Hand\\u00e4nderungsumsatzwerte nach Typ, Jahr und Hand\\u00e4nderungsgrundst\\u00fccktyp 2021/ohne Stockwerkeigentum/2014-01-01/Mehrfamilienh\\u00e4user\",\"Summe der Hand\\u00e4nderungsumsatzwerte nach Typ, Jahr und Hand\\u00e4nderungsgrundst\\u00fccktyp 2021/alle Freihandk\\u00e4ufe/2015-01-01/Mehrfamilienh\\u00e4user\",\"Summe der Hand\\u00e4nderungsumsatzwerte nach Typ, Jahr und Hand\\u00e4nderungsgrundst\\u00fccktyp 2021/ohne Stockwerkeigentum/2015-01-01/Mehrfamilienh\\u00e4user\",\"Summe der Hand\\u00e4nderungsumsatzwerte nach Typ, Jahr und Hand\\u00e4nderungsgrundst\\u00fccktyp 2021/alle Freihandk\\u00e4ufe/2016-01-01/Mehrfamilienh\\u00e4user\",\"Summe der Hand\\u00e4nderungsumsatzwerte nach Typ, Jahr und Hand\\u00e4nderungsgrundst\\u00fccktyp 2021/ohne Stockwerkeigentum/2016-01-01/Mehrfamilienh\\u00e4user\",\"Summe der Hand\\u00e4nderungsumsatzwerte nach Typ, Jahr und Hand\\u00e4nderungsgrundst\\u00fccktyp 2021/alle Freihandk\\u00e4ufe/2017-01-01/Mehrfamilienh\\u00e4user\",\"Summe der Hand\\u00e4nderungsumsatzwerte nach Typ, Jahr und Hand\\u00e4nderungsgrundst\\u00fccktyp 2021/ohne Stockwerkeigentum/2017-01-01/Mehrfamilienh\\u00e4user\",\"Summe der Hand\\u00e4nderungsumsatzwerte nach Typ, Jahr und Hand\\u00e4nderungsgrundst\\u00fccktyp 2021/alle Freihandk\\u00e4ufe/2018-01-01/Mehrfamilienh\\u00e4user\",\"Summe der Hand\\u00e4nderungsumsatzwerte nach Typ, Jahr und Hand\\u00e4nderungsgrundst\\u00fccktyp 2021/ohne Stockwerkeigentum/2018-01-01/Mehrfamilienh\\u00e4user\",\"Summe der Hand\\u00e4nderungsumsatzwerte nach Typ, Jahr und Hand\\u00e4nderungsgrundst\\u00fccktyp 2021/alle Freihandk\\u00e4ufe/2019-01-01/Mehrfamilienh\\u00e4user\",\"Summe der Hand\\u00e4nderungsumsatzwerte nach Typ, Jahr und Hand\\u00e4nderungsgrundst\\u00fccktyp 2021/ohne Stockwerkeigentum/2019-01-01/Mehrfamilienh\\u00e4user\",\"Summe der Hand\\u00e4nderungsumsatzwerte nach Typ, Jahr und Hand\\u00e4nderungsgrundst\\u00fccktyp 2021/alle Freihandk\\u00e4ufe/2020-01-01/Mehrfamilienh\\u00e4user\",\"Summe der Hand\\u00e4nderungsumsatzwerte nach Typ, Jahr und Hand\\u00e4nderungsgrundst\\u00fccktyp 2021/ohne Stockwerkeigentum/2020-01-01/Mehrfamilienh\\u00e4user\",\"Summe der Hand\\u00e4nderungsumsatzwerte nach Typ, Jahr und Hand\\u00e4nderungsgrundst\\u00fccktyp 2021/alle Freihandk\\u00e4ufe/2021-01-01/Mehrfamilienh\\u00e4user\",\"Summe der Hand\\u00e4nderungsumsatzwerte nach Typ, Jahr und Hand\\u00e4nderungsgrundst\\u00fccktyp 2021/ohne Stockwerkeigentum/2021-01-01/Mehrfamilienh\\u00e4user\",\"Summe der Hand\\u00e4nderungsumsatzwerte nach Typ, Jahr und Hand\\u00e4nderungsgrundst\\u00fccktyp 2021/alle Freihandk\\u00e4ufe/2011-01-01/Nutzbauten\",\"Summe der Hand\\u00e4nderungsumsatzwerte nach Typ, Jahr und Hand\\u00e4nderungsgrundst\\u00fccktyp 2021/ohne Stockwerkeigentum/2011-01-01/Nutzbauten\",\"Summe der Hand\\u00e4nderungsumsatzwerte nach Typ, Jahr und Hand\\u00e4nderungsgrundst\\u00fccktyp 2021/alle Freihandk\\u00e4ufe/2012-01-01/Nutzbauten\",\"Summe der Hand\\u00e4nderungsumsatzwerte nach Typ, Jahr und Hand\\u00e4nderungsgrundst\\u00fccktyp 2021/ohne Stockwerkeigentum/2012-01-01/Nutzbauten\",\"Summe der Hand\\u00e4nderungsumsatzwerte nach Typ, Jahr und Hand\\u00e4nderungsgrundst\\u00fccktyp 2021/alle Freihandk\\u00e4ufe/2013-01-01/Nutzbauten\",\"Summe der Hand\\u00e4nderungsumsatzwerte nach Typ, Jahr und Hand\\u00e4nderungsgrundst\\u00fccktyp 2021/ohne Stockwerkeigentum/2013-01-01/Nutzbauten\",\"Summe der Hand\\u00e4nderungsumsatzwerte nach Typ, Jahr und Hand\\u00e4nderungsgrundst\\u00fccktyp 2021/alle Freihandk\\u00e4ufe/2014-01-01/Nutzbauten\",\"Summe der Hand\\u00e4nderungsumsatzwerte nach Typ, Jahr und Hand\\u00e4nderungsgrundst\\u00fccktyp 2021/ohne Stockwerkeigentum/2014-01-01/Nutzbauten\",\"Summe der Hand\\u00e4nderungsumsatzwerte nach Typ, Jahr und Hand\\u00e4nderungsgrundst\\u00fccktyp 2021/alle Freihandk\\u00e4ufe/2015-01-01/Nutzbauten\",\"Summe der Hand\\u00e4nderungsumsatzwerte nach Typ, Jahr und Hand\\u00e4nderungsgrundst\\u00fccktyp 2021/ohne Stockwerkeigentum/2015-01-01/Nutzbauten\",\"Summe der Hand\\u00e4nderungsumsatzwerte nach Typ, Jahr und Hand\\u00e4nderungsgrundst\\u00fccktyp 2021/alle Freihandk\\u00e4ufe/2016-01-01/Nutzbauten\",\"Summe der Hand\\u00e4nderungsumsatzwerte nach Typ, Jahr und Hand\\u00e4nderungsgrundst\\u00fccktyp 2021/ohne Stockwerkeigentum/2016-01-01/Nutzbauten\",\"Summe der Hand\\u00e4nderungsumsatzwerte nach Typ, Jahr und Hand\\u00e4nderungsgrundst\\u00fccktyp 2021/alle Freihandk\\u00e4ufe/2017-01-01/Nutzbauten\",\"Summe der Hand\\u00e4nderungsumsatzwerte nach Typ, Jahr und Hand\\u00e4nderungsgrundst\\u00fccktyp 2021/ohne Stockwerkeigentum/2017-01-01/Nutzbauten\",\"Summe der Hand\\u00e4nderungsumsatzwerte nach Typ, Jahr und Hand\\u00e4nderungsgrundst\\u00fccktyp 2021/alle Freihandk\\u00e4ufe/2018-01-01/Nutzbauten\",\"Summe der Hand\\u00e4nderungsumsatzwerte nach Typ, Jahr und Hand\\u00e4nderungsgrundst\\u00fccktyp 2021/ohne Stockwerkeigentum/2018-01-01/Nutzbauten\",\"Summe der Hand\\u00e4nderungsumsatzwerte nach Typ, Jahr und Hand\\u00e4nderungsgrundst\\u00fccktyp 2021/alle Freihandk\\u00e4ufe/2019-01-01/Nutzbauten\",\"Summe der Hand\\u00e4nderungsumsatzwerte nach Typ, Jahr und Hand\\u00e4nderungsgrundst\\u00fccktyp 2021/ohne Stockwerkeigentum/2019-01-01/Nutzbauten\",\"Summe der Hand\\u00e4nderungsumsatzwerte nach Typ, Jahr und Hand\\u00e4nderungsgrundst\\u00fccktyp 2021/alle Freihandk\\u00e4ufe/2020-01-01/Nutzbauten\",\"Summe der Hand\\u00e4nderungsumsatzwerte nach Typ, Jahr und Hand\\u00e4nderungsgrundst\\u00fccktyp 2021/ohne Stockwerkeigentum/2020-01-01/Nutzbauten\",\"Summe der Hand\\u00e4nderungsumsatzwerte nach Typ, Jahr und Hand\\u00e4nderungsgrundst\\u00fccktyp 2021/alle Freihandk\\u00e4ufe/2021-01-01/Nutzbauten\",\"Summe der Hand\\u00e4nderungsumsatzwerte nach Typ, Jahr und Hand\\u00e4nderungsgrundst\\u00fccktyp 2021/ohne Stockwerkeigentum/2021-01-01/Nutzbauten\",\"Summe der Hand\\u00e4nderungsumsatzwerte nach Typ, Jahr und Hand\\u00e4nderungsgrundst\\u00fccktyp 2021/alle Freihandk\\u00e4ufe/2011-01-01/Wohnh\\u00e4user mit Gesch\\u00e4ftsr\\u00e4umen\",\"Summe der Hand\\u00e4nderungsumsatzwerte nach Typ, Jahr und Hand\\u00e4nderungsgrundst\\u00fccktyp 2021/ohne Stockwerkeigentum/2011-01-01/Wohnh\\u00e4user mit Gesch\\u00e4ftsr\\u00e4umen\",\"Summe der Hand\\u00e4nderungsumsatzwerte nach Typ, Jahr und Hand\\u00e4nderungsgrundst\\u00fccktyp 2021/alle Freihandk\\u00e4ufe/2012-01-01/Wohnh\\u00e4user mit Gesch\\u00e4ftsr\\u00e4umen\",\"Summe der Hand\\u00e4nderungsumsatzwerte nach Typ, Jahr und Hand\\u00e4nderungsgrundst\\u00fccktyp 2021/ohne Stockwerkeigentum/2012-01-01/Wohnh\\u00e4user mit Gesch\\u00e4ftsr\\u00e4umen\",\"Summe der Hand\\u00e4nderungsumsatzwerte nach Typ, Jahr und Hand\\u00e4nderungsgrundst\\u00fccktyp 2021/alle Freihandk\\u00e4ufe/2013-01-01/Wohnh\\u00e4user mit Gesch\\u00e4ftsr\\u00e4umen\",\"Summe der Hand\\u00e4nderungsumsatzwerte nach Typ, Jahr und Hand\\u00e4nderungsgrundst\\u00fccktyp 2021/ohne Stockwerkeigentum/2013-01-01/Wohnh\\u00e4user mit Gesch\\u00e4ftsr\\u00e4umen\",\"Summe der Hand\\u00e4nderungsumsatzwerte nach Typ, Jahr und Hand\\u00e4nderungsgrundst\\u00fccktyp 2021/alle Freihandk\\u00e4ufe/2014-01-01/Wohnh\\u00e4user mit Gesch\\u00e4ftsr\\u00e4umen\",\"Summe der Hand\\u00e4nderungsumsatzwerte nach Typ, Jahr und Hand\\u00e4nderungsgrundst\\u00fccktyp 2021/ohne Stockwerkeigentum/2014-01-01/Wohnh\\u00e4user mit Gesch\\u00e4ftsr\\u00e4umen\",\"Summe der Hand\\u00e4nderungsumsatzwerte nach Typ, Jahr und Hand\\u00e4nderungsgrundst\\u00fccktyp 2021/alle Freihandk\\u00e4ufe/2015-01-01/Wohnh\\u00e4user mit Gesch\\u00e4ftsr\\u00e4umen\",\"Summe der Hand\\u00e4nderungsumsatzwerte nach Typ, Jahr und Hand\\u00e4nderungsgrundst\\u00fccktyp 2021/ohne Stockwerkeigentum/2015-01-01/Wohnh\\u00e4user mit Gesch\\u00e4ftsr\\u00e4umen\",\"Summe der Hand\\u00e4nderungsumsatzwerte nach Typ, Jahr und Hand\\u00e4nderungsgrundst\\u00fccktyp 2021/alle Freihandk\\u00e4ufe/2016-01-01/Wohnh\\u00e4user mit Gesch\\u00e4ftsr\\u00e4umen\",\"Summe der Hand\\u00e4nderungsumsatzwerte nach Typ, Jahr und Hand\\u00e4nderungsgrundst\\u00fccktyp 2021/ohne Stockwerkeigentum/2016-01-01/Wohnh\\u00e4user mit Gesch\\u00e4ftsr\\u00e4umen\",\"Summe der Hand\\u00e4nderungsumsatzwerte nach Typ, Jahr und Hand\\u00e4nderungsgrundst\\u00fccktyp 2021/alle Freihandk\\u00e4ufe/2017-01-01/Wohnh\\u00e4user mit Gesch\\u00e4ftsr\\u00e4umen\",\"Summe der Hand\\u00e4nderungsumsatzwerte nach Typ, Jahr und Hand\\u00e4nderungsgrundst\\u00fccktyp 2021/ohne Stockwerkeigentum/2017-01-01/Wohnh\\u00e4user mit Gesch\\u00e4ftsr\\u00e4umen\",\"Summe der Hand\\u00e4nderungsumsatzwerte nach Typ, Jahr und Hand\\u00e4nderungsgrundst\\u00fccktyp 2021/alle Freihandk\\u00e4ufe/2018-01-01/Wohnh\\u00e4user mit Gesch\\u00e4ftsr\\u00e4umen\",\"Summe der Hand\\u00e4nderungsumsatzwerte nach Typ, Jahr und Hand\\u00e4nderungsgrundst\\u00fccktyp 2021/ohne Stockwerkeigentum/2018-01-01/Wohnh\\u00e4user mit Gesch\\u00e4ftsr\\u00e4umen\",\"Summe der Hand\\u00e4nderungsumsatzwerte nach Typ, Jahr und Hand\\u00e4nderungsgrundst\\u00fccktyp 2021/alle Freihandk\\u00e4ufe/2019-01-01/Wohnh\\u00e4user mit Gesch\\u00e4ftsr\\u00e4umen\",\"Summe der Hand\\u00e4nderungsumsatzwerte nach Typ, Jahr und Hand\\u00e4nderungsgrundst\\u00fccktyp 2021/ohne Stockwerkeigentum/2019-01-01/Wohnh\\u00e4user mit Gesch\\u00e4ftsr\\u00e4umen\",\"Summe der Hand\\u00e4nderungsumsatzwerte nach Typ, Jahr und Hand\\u00e4nderungsgrundst\\u00fccktyp 2021/alle Freihandk\\u00e4ufe/2020-01-01/Wohnh\\u00e4user mit Gesch\\u00e4ftsr\\u00e4umen\",\"Summe der Hand\\u00e4nderungsumsatzwerte nach Typ, Jahr und Hand\\u00e4nderungsgrundst\\u00fccktyp 2021/ohne Stockwerkeigentum/2020-01-01/Wohnh\\u00e4user mit Gesch\\u00e4ftsr\\u00e4umen\",\"Summe der Hand\\u00e4nderungsumsatzwerte nach Typ, Jahr und Hand\\u00e4nderungsgrundst\\u00fccktyp 2021/alle Freihandk\\u00e4ufe/2021-01-01/Wohnh\\u00e4user mit Gesch\\u00e4ftsr\\u00e4umen\",\"Summe der Hand\\u00e4nderungsumsatzwerte nach Typ, Jahr und Hand\\u00e4nderungsgrundst\\u00fccktyp 2021/ohne Stockwerkeigentum/2021-01-01/Wohnh\\u00e4user mit Gesch\\u00e4ftsr\\u00e4umen\",\"Summe der Hand\\u00e4nderungsumsatzwerte nach Typ, Jahr und Hand\\u00e4nderungsgrundst\\u00fccktyp 2021/alle Freihandk\\u00e4ufe/2011-01-01/\\u00fcbrige Wohnh\\u00e4user\",\"Summe der Hand\\u00e4nderungsumsatzwerte nach Typ, Jahr und Hand\\u00e4nderungsgrundst\\u00fccktyp 2021/ohne Stockwerkeigentum/2011-01-01/\\u00fcbrige Wohnh\\u00e4user\",\"Summe der Hand\\u00e4nderungsumsatzwerte nach Typ, Jahr und Hand\\u00e4nderungsgrundst\\u00fccktyp 2021/alle Freihandk\\u00e4ufe/2012-01-01/\\u00fcbrige Wohnh\\u00e4user\",\"Summe der Hand\\u00e4nderungsumsatzwerte nach Typ, Jahr und Hand\\u00e4nderungsgrundst\\u00fccktyp 2021/ohne Stockwerkeigentum/2012-01-01/\\u00fcbrige Wohnh\\u00e4user\",\"Summe der Hand\\u00e4nderungsumsatzwerte nach Typ, Jahr und Hand\\u00e4nderungsgrundst\\u00fccktyp 2021/alle Freihandk\\u00e4ufe/2013-01-01/\\u00fcbrige Wohnh\\u00e4user\",\"Summe der Hand\\u00e4nderungsumsatzwerte nach Typ, Jahr und Hand\\u00e4nderungsgrundst\\u00fccktyp 2021/ohne Stockwerkeigentum/2013-01-01/\\u00fcbrige Wohnh\\u00e4user\",\"Summe der Hand\\u00e4nderungsumsatzwerte nach Typ, Jahr und Hand\\u00e4nderungsgrundst\\u00fccktyp 2021/alle Freihandk\\u00e4ufe/2014-01-01/\\u00fcbrige Wohnh\\u00e4user\",\"Summe der Hand\\u00e4nderungsumsatzwerte nach Typ, Jahr und Hand\\u00e4nderungsgrundst\\u00fccktyp 2021/ohne Stockwerkeigentum/2014-01-01/\\u00fcbrige Wohnh\\u00e4user\",\"Summe der Hand\\u00e4nderungsumsatzwerte nach Typ, Jahr und Hand\\u00e4nderungsgrundst\\u00fccktyp 2021/alle Freihandk\\u00e4ufe/2015-01-01/\\u00fcbrige Wohnh\\u00e4user\",\"Summe der Hand\\u00e4nderungsumsatzwerte nach Typ, Jahr und Hand\\u00e4nderungsgrundst\\u00fccktyp 2021/ohne Stockwerkeigentum/2015-01-01/\\u00fcbrige Wohnh\\u00e4user\",\"Summe der Hand\\u00e4nderungsumsatzwerte nach Typ, Jahr und Hand\\u00e4nderungsgrundst\\u00fccktyp 2021/alle Freihandk\\u00e4ufe/2017-01-01/\\u00fcbrige Wohnh\\u00e4user\",\"Summe der Hand\\u00e4nderungsumsatzwerte nach Typ, Jahr und Hand\\u00e4nderungsgrundst\\u00fccktyp 2021/ohne Stockwerkeigentum/2017-01-01/\\u00fcbrige Wohnh\\u00e4user\",\"Summe der Hand\\u00e4nderungsumsatzwerte nach Typ, Jahr und Hand\\u00e4nderungsgrundst\\u00fccktyp 2021/alle Freihandk\\u00e4ufe/2018-01-01/\\u00fcbrige Wohnh\\u00e4user\",\"Summe der Hand\\u00e4nderungsumsatzwerte nach Typ, Jahr und Hand\\u00e4nderungsgrundst\\u00fccktyp 2021/ohne Stockwerkeigentum/2018-01-01/\\u00fcbrige Wohnh\\u00e4user\",\"Summe der Hand\\u00e4nderungsumsatzwerte nach Typ, Jahr und Hand\\u00e4nderungsgrundst\\u00fccktyp 2021/alle Freihandk\\u00e4ufe/2019-01-01/\\u00fcbrige Wohnh\\u00e4user\",\"Summe der Hand\\u00e4nderungsumsatzwerte nach Typ, Jahr und Hand\\u00e4nderungsgrundst\\u00fccktyp 2021/ohne Stockwerkeigentum/2019-01-01/\\u00fcbrige Wohnh\\u00e4user\",\"Summe der Hand\\u00e4nderungsumsatzwerte nach Typ, Jahr und Hand\\u00e4nderungsgrundst\\u00fccktyp 2021/alle Freihandk\\u00e4ufe/2020-01-01/\\u00fcbrige Wohnh\\u00e4user\",\"Summe der Hand\\u00e4nderungsumsatzwerte nach Typ, Jahr und Hand\\u00e4nderungsgrundst\\u00fccktyp 2021/ohne Stockwerkeigentum/2020-01-01/\\u00fcbrige Wohnh\\u00e4user\",\"Summe der Hand\\u00e4nderungsumsatzwerte nach Typ, Jahr und Hand\\u00e4nderungsgrundst\\u00fccktyp 2021/alle Freihandk\\u00e4ufe/2021-01-01/\\u00fcbrige Wohnh\\u00e4user\",\"Summe der Hand\\u00e4nderungsumsatzwerte nach Typ, Jahr und Hand\\u00e4nderungsgrundst\\u00fccktyp 2021/alle Freihandk\\u00e4ufe/2011-01-01\",\"Summe der Hand\\u00e4nderungsumsatzwerte nach Typ, Jahr und Hand\\u00e4nderungsgrundst\\u00fccktyp 2021/ohne Stockwerkeigentum/2011-01-01\",\"Summe der Hand\\u00e4nderungsumsatzwerte nach Typ, Jahr und Hand\\u00e4nderungsgrundst\\u00fccktyp 2021/alle Freihandk\\u00e4ufe/2012-01-01\",\"Summe der Hand\\u00e4nderungsumsatzwerte nach Typ, Jahr und Hand\\u00e4nderungsgrundst\\u00fccktyp 2021/ohne Stockwerkeigentum/2012-01-01\",\"Summe der Hand\\u00e4nderungsumsatzwerte nach Typ, Jahr und Hand\\u00e4nderungsgrundst\\u00fccktyp 2021/alle Freihandk\\u00e4ufe/2013-01-01\",\"Summe der Hand\\u00e4nderungsumsatzwerte nach Typ, Jahr und Hand\\u00e4nderungsgrundst\\u00fccktyp 2021/ohne Stockwerkeigentum/2013-01-01\",\"Summe der Hand\\u00e4nderungsumsatzwerte nach Typ, Jahr und Hand\\u00e4nderungsgrundst\\u00fccktyp 2021/alle Freihandk\\u00e4ufe/2014-01-01\",\"Summe der Hand\\u00e4nderungsumsatzwerte nach Typ, Jahr und Hand\\u00e4nderungsgrundst\\u00fccktyp 2021/ohne Stockwerkeigentum/2014-01-01\",\"Summe der Hand\\u00e4nderungsumsatzwerte nach Typ, Jahr und Hand\\u00e4nderungsgrundst\\u00fccktyp 2021/alle Freihandk\\u00e4ufe/2015-01-01\",\"Summe der Hand\\u00e4nderungsumsatzwerte nach Typ, Jahr und Hand\\u00e4nderungsgrundst\\u00fccktyp 2021/ohne Stockwerkeigentum/2015-01-01\",\"Summe der Hand\\u00e4nderungsumsatzwerte nach Typ, Jahr und Hand\\u00e4nderungsgrundst\\u00fccktyp 2021/alle Freihandk\\u00e4ufe/2016-01-01\",\"Summe der Hand\\u00e4nderungsumsatzwerte nach Typ, Jahr und Hand\\u00e4nderungsgrundst\\u00fccktyp 2021/ohne Stockwerkeigentum/2016-01-01\",\"Summe der Hand\\u00e4nderungsumsatzwerte nach Typ, Jahr und Hand\\u00e4nderungsgrundst\\u00fccktyp 2021/alle Freihandk\\u00e4ufe/2017-01-01\",\"Summe der Hand\\u00e4nderungsumsatzwerte nach Typ, Jahr und Hand\\u00e4nderungsgrundst\\u00fccktyp 2021/ohne Stockwerkeigentum/2017-01-01\",\"Summe der Hand\\u00e4nderungsumsatzwerte nach Typ, Jahr und Hand\\u00e4nderungsgrundst\\u00fccktyp 2021/alle Freihandk\\u00e4ufe/2018-01-01\",\"Summe der Hand\\u00e4nderungsumsatzwerte nach Typ, Jahr und Hand\\u00e4nderungsgrundst\\u00fccktyp 2021/ohne Stockwerkeigentum/2018-01-01\",\"Summe der Hand\\u00e4nderungsumsatzwerte nach Typ, Jahr und Hand\\u00e4nderungsgrundst\\u00fccktyp 2021/alle Freihandk\\u00e4ufe/2019-01-01\",\"Summe der Hand\\u00e4nderungsumsatzwerte nach Typ, Jahr und Hand\\u00e4nderungsgrundst\\u00fccktyp 2021/ohne Stockwerkeigentum/2019-01-01\",\"Summe der Hand\\u00e4nderungsumsatzwerte nach Typ, Jahr und Hand\\u00e4nderungsgrundst\\u00fccktyp 2021/alle Freihandk\\u00e4ufe/2020-01-01\",\"Summe der Hand\\u00e4nderungsumsatzwerte nach Typ, Jahr und Hand\\u00e4nderungsgrundst\\u00fccktyp 2021/ohne Stockwerkeigentum/2020-01-01\",\"Summe der Hand\\u00e4nderungsumsatzwerte nach Typ, Jahr und Hand\\u00e4nderungsgrundst\\u00fccktyp 2021/alle Freihandk\\u00e4ufe/2021-01-01\",\"Summe der Hand\\u00e4nderungsumsatzwerte nach Typ, Jahr und Hand\\u00e4nderungsgrundst\\u00fccktyp 2021/ohne Stockwerkeigentum/2021-01-01\",\"Summe der Hand\\u00e4nderungsumsatzwerte nach Typ, Jahr und Hand\\u00e4nderungsgrundst\\u00fccktyp 2021/alle Freihandk\\u00e4ufe\",\"Summe der Hand\\u00e4nderungsumsatzwerte nach Typ, Jahr und Hand\\u00e4nderungsgrundst\\u00fccktyp 2021/ohne Stockwerkeigentum\",\"Summe der Hand\\u00e4nderungsumsatzwerte nach Typ, Jahr und Hand\\u00e4nderungsgrundst\\u00fccktyp 2021\"],\"labels\":[\"Einfamilienh\\u00e4user\",\"Einfamilienh\\u00e4user\",\"Einfamilienh\\u00e4user\",\"Einfamilienh\\u00e4user\",\"Einfamilienh\\u00e4user\",\"Einfamilienh\\u00e4user\",\"Einfamilienh\\u00e4user\",\"Einfamilienh\\u00e4user\",\"Einfamilienh\\u00e4user\",\"Einfamilienh\\u00e4user\",\"Einfamilienh\\u00e4user\",\"Einfamilienh\\u00e4user\",\"Einfamilienh\\u00e4user\",\"Einfamilienh\\u00e4user\",\"Einfamilienh\\u00e4user\",\"Einfamilienh\\u00e4user\",\"Einfamilienh\\u00e4user\",\"Einfamilienh\\u00e4user\",\"Einfamilienh\\u00e4user\",\"Einfamilienh\\u00e4user\",\"Einfamilienh\\u00e4user\",\"Einfamilienh\\u00e4user\",\"Mehrfamilienh\\u00e4user\",\"Mehrfamilienh\\u00e4user\",\"Mehrfamilienh\\u00e4user\",\"Mehrfamilienh\\u00e4user\",\"Mehrfamilienh\\u00e4user\",\"Mehrfamilienh\\u00e4user\",\"Mehrfamilienh\\u00e4user\",\"Mehrfamilienh\\u00e4user\",\"Mehrfamilienh\\u00e4user\",\"Mehrfamilienh\\u00e4user\",\"Mehrfamilienh\\u00e4user\",\"Mehrfamilienh\\u00e4user\",\"Mehrfamilienh\\u00e4user\",\"Mehrfamilienh\\u00e4user\",\"Mehrfamilienh\\u00e4user\",\"Mehrfamilienh\\u00e4user\",\"Mehrfamilienh\\u00e4user\",\"Mehrfamilienh\\u00e4user\",\"Mehrfamilienh\\u00e4user\",\"Mehrfamilienh\\u00e4user\",\"Mehrfamilienh\\u00e4user\",\"Mehrfamilienh\\u00e4user\",\"Nutzbauten\",\"Nutzbauten\",\"Nutzbauten\",\"Nutzbauten\",\"Nutzbauten\",\"Nutzbauten\",\"Nutzbauten\",\"Nutzbauten\",\"Nutzbauten\",\"Nutzbauten\",\"Nutzbauten\",\"Nutzbauten\",\"Nutzbauten\",\"Nutzbauten\",\"Nutzbauten\",\"Nutzbauten\",\"Nutzbauten\",\"Nutzbauten\",\"Nutzbauten\",\"Nutzbauten\",\"Nutzbauten\",\"Nutzbauten\",\"Wohnh\\u00e4user mit Gesch\\u00e4ftsr\\u00e4umen\",\"Wohnh\\u00e4user mit Gesch\\u00e4ftsr\\u00e4umen\",\"Wohnh\\u00e4user mit Gesch\\u00e4ftsr\\u00e4umen\",\"Wohnh\\u00e4user mit Gesch\\u00e4ftsr\\u00e4umen\",\"Wohnh\\u00e4user mit Gesch\\u00e4ftsr\\u00e4umen\",\"Wohnh\\u00e4user mit Gesch\\u00e4ftsr\\u00e4umen\",\"Wohnh\\u00e4user mit Gesch\\u00e4ftsr\\u00e4umen\",\"Wohnh\\u00e4user mit Gesch\\u00e4ftsr\\u00e4umen\",\"Wohnh\\u00e4user mit Gesch\\u00e4ftsr\\u00e4umen\",\"Wohnh\\u00e4user mit Gesch\\u00e4ftsr\\u00e4umen\",\"Wohnh\\u00e4user mit Gesch\\u00e4ftsr\\u00e4umen\",\"Wohnh\\u00e4user mit Gesch\\u00e4ftsr\\u00e4umen\",\"Wohnh\\u00e4user mit Gesch\\u00e4ftsr\\u00e4umen\",\"Wohnh\\u00e4user mit Gesch\\u00e4ftsr\\u00e4umen\",\"Wohnh\\u00e4user mit Gesch\\u00e4ftsr\\u00e4umen\",\"Wohnh\\u00e4user mit Gesch\\u00e4ftsr\\u00e4umen\",\"Wohnh\\u00e4user mit Gesch\\u00e4ftsr\\u00e4umen\",\"Wohnh\\u00e4user mit Gesch\\u00e4ftsr\\u00e4umen\",\"Wohnh\\u00e4user mit Gesch\\u00e4ftsr\\u00e4umen\",\"Wohnh\\u00e4user mit Gesch\\u00e4ftsr\\u00e4umen\",\"Wohnh\\u00e4user mit Gesch\\u00e4ftsr\\u00e4umen\",\"Wohnh\\u00e4user mit Gesch\\u00e4ftsr\\u00e4umen\",\"\\u00fcbrige Wohnh\\u00e4user\",\"\\u00fcbrige Wohnh\\u00e4user\",\"\\u00fcbrige Wohnh\\u00e4user\",\"\\u00fcbrige Wohnh\\u00e4user\",\"\\u00fcbrige Wohnh\\u00e4user\",\"\\u00fcbrige Wohnh\\u00e4user\",\"\\u00fcbrige Wohnh\\u00e4user\",\"\\u00fcbrige Wohnh\\u00e4user\",\"\\u00fcbrige Wohnh\\u00e4user\",\"\\u00fcbrige Wohnh\\u00e4user\",\"\\u00fcbrige Wohnh\\u00e4user\",\"\\u00fcbrige Wohnh\\u00e4user\",\"\\u00fcbrige Wohnh\\u00e4user\",\"\\u00fcbrige Wohnh\\u00e4user\",\"\\u00fcbrige Wohnh\\u00e4user\",\"\\u00fcbrige Wohnh\\u00e4user\",\"\\u00fcbrige Wohnh\\u00e4user\",\"\\u00fcbrige Wohnh\\u00e4user\",\"\\u00fcbrige Wohnh\\u00e4user\",\"2011-01-01\",\"2011-01-01\",\"2012-01-01\",\"2012-01-01\",\"2013-01-01\",\"2013-01-01\",\"2014-01-01\",\"2014-01-01\",\"2015-01-01\",\"2015-01-01\",\"2016-01-01\",\"2016-01-01\",\"2017-01-01\",\"2017-01-01\",\"2018-01-01\",\"2018-01-01\",\"2019-01-01\",\"2019-01-01\",\"2020-01-01\",\"2020-01-01\",\"2021-01-01\",\"2021-01-01\",\"alle Freihandk\\u00e4ufe\",\"ohne Stockwerkeigentum\",\"Summe der Hand\\u00e4nderungsumsatzwerte nach Typ, Jahr und Hand\\u00e4nderungsgrundst\\u00fccktyp 2021\"],\"marker\":{\"coloraxis\":\"coloraxis\",\"colors\":[210072231.0,204415231.0,248121820.0,236808820.0,217789649.0,215829649.0,223307861.0,212472361.0,212111467.0,209011467.0,265321000.0,261896000.0,221531487.0,218313487.0,337501784.0,336311784.0,313988431.0,304347431.0,409687278.0,371742278.0,390845707.99999994,383075707.99999994,983253725.0,524425385.0,1020383259.0,532398455.0,947748871.9999999,440476584.0,792972314.0,265940844.0,1298066314.0,566491786.0,1159300493.0,435077250.0,1140998189.0,512809590.0,1563688768.0,1007713147.0,1382168318.0,886907087.0,1215258063.0,612101873.0,1633734478.0,952891517.0,741793400.0,672218400.0,2726646783.0,2594739083.0,1051315653.0,1016394503.0,997416643.0,968886643.0,1166908446.0,1089007813.0,1573743806.0000002,1543291806.0,968494661.0,946380561.0,1019152591.0,996653591.0,1003937431.9999999,952407431.9999999,1647574492.9999998,1604569481.0,1542441226.0,1499240226.0,535303264.0,408389000.0,597026775.0,494822107.99999994,849196655.0,657337655.0,920063985.0,429064638.0,1138992510.0,609908696.0,1008097817.0,815273756.0,636492122.0,419730272.0,999833591.0,768286679.9999999,685066160.0,533321577.0,859593116.0,618631127.0,1259431899.0,685468139.0,26681790.0,24150000.0,24150000.0,24150000.0,7880000.0,7880000.0,16700000.0,16700000.0,7250000.0,7250000.0,10500000.0,7000000.0,9800000.0,9800000.0,37230000.0,37230000.0,12400000.0,12400000.0,4100000.0,740232235.8695089,510498995.9897195,1926720128.486971,1884569466.524931,901816620.2512232,729629715.82582,854208290.1829282,654486799.8026702,1147952361.2977448,774711431.437599,1224846828.634719,1081414057.3163996,904685210.4007391,657005437.9904636,1169845416.9033024,869661571.2119658,1019045091.4239213,763436410.9665447,1230120808.4053297,1077938195.7498085,1405047978.7678888,1071481018.2414215,1191768130.0875087,989155639.5201437,1105004490.8971655]},\"name\":\"\",\"parents\":[\"Summe der Hand\\u00e4nderungsumsatzwerte nach Typ, Jahr und Hand\\u00e4nderungsgrundst\\u00fccktyp 2021/alle Freihandk\\u00e4ufe/2011-01-01\",\"Summe der Hand\\u00e4nderungsumsatzwerte nach Typ, Jahr und Hand\\u00e4nderungsgrundst\\u00fccktyp 2021/ohne Stockwerkeigentum/2011-01-01\",\"Summe der Hand\\u00e4nderungsumsatzwerte nach Typ, Jahr und Hand\\u00e4nderungsgrundst\\u00fccktyp 2021/alle Freihandk\\u00e4ufe/2012-01-01\",\"Summe der Hand\\u00e4nderungsumsatzwerte nach Typ, Jahr und Hand\\u00e4nderungsgrundst\\u00fccktyp 2021/ohne Stockwerkeigentum/2012-01-01\",\"Summe der Hand\\u00e4nderungsumsatzwerte nach Typ, Jahr und Hand\\u00e4nderungsgrundst\\u00fccktyp 2021/alle Freihandk\\u00e4ufe/2013-01-01\",\"Summe der Hand\\u00e4nderungsumsatzwerte nach Typ, Jahr und Hand\\u00e4nderungsgrundst\\u00fccktyp 2021/ohne Stockwerkeigentum/2013-01-01\",\"Summe der Hand\\u00e4nderungsumsatzwerte nach Typ, Jahr und Hand\\u00e4nderungsgrundst\\u00fccktyp 2021/alle Freihandk\\u00e4ufe/2014-01-01\",\"Summe der Hand\\u00e4nderungsumsatzwerte nach Typ, Jahr und Hand\\u00e4nderungsgrundst\\u00fccktyp 2021/ohne Stockwerkeigentum/2014-01-01\",\"Summe der Hand\\u00e4nderungsumsatzwerte nach Typ, Jahr und Hand\\u00e4nderungsgrundst\\u00fccktyp 2021/alle Freihandk\\u00e4ufe/2015-01-01\",\"Summe der Hand\\u00e4nderungsumsatzwerte nach Typ, Jahr und Hand\\u00e4nderungsgrundst\\u00fccktyp 2021/ohne Stockwerkeigentum/2015-01-01\",\"Summe der Hand\\u00e4nderungsumsatzwerte nach Typ, Jahr und Hand\\u00e4nderungsgrundst\\u00fccktyp 2021/alle Freihandk\\u00e4ufe/2016-01-01\",\"Summe der Hand\\u00e4nderungsumsatzwerte nach Typ, Jahr und Hand\\u00e4nderungsgrundst\\u00fccktyp 2021/ohne Stockwerkeigentum/2016-01-01\",\"Summe der Hand\\u00e4nderungsumsatzwerte nach Typ, Jahr und Hand\\u00e4nderungsgrundst\\u00fccktyp 2021/alle Freihandk\\u00e4ufe/2017-01-01\",\"Summe der Hand\\u00e4nderungsumsatzwerte nach Typ, Jahr und Hand\\u00e4nderungsgrundst\\u00fccktyp 2021/ohne Stockwerkeigentum/2017-01-01\",\"Summe der Hand\\u00e4nderungsumsatzwerte nach Typ, Jahr und Hand\\u00e4nderungsgrundst\\u00fccktyp 2021/alle Freihandk\\u00e4ufe/2018-01-01\",\"Summe der Hand\\u00e4nderungsumsatzwerte nach Typ, Jahr und Hand\\u00e4nderungsgrundst\\u00fccktyp 2021/ohne Stockwerkeigentum/2018-01-01\",\"Summe der Hand\\u00e4nderungsumsatzwerte nach Typ, Jahr und Hand\\u00e4nderungsgrundst\\u00fccktyp 2021/alle Freihandk\\u00e4ufe/2019-01-01\",\"Summe der Hand\\u00e4nderungsumsatzwerte nach Typ, Jahr und Hand\\u00e4nderungsgrundst\\u00fccktyp 2021/ohne Stockwerkeigentum/2019-01-01\",\"Summe der Hand\\u00e4nderungsumsatzwerte nach Typ, Jahr und Hand\\u00e4nderungsgrundst\\u00fccktyp 2021/alle Freihandk\\u00e4ufe/2020-01-01\",\"Summe der Hand\\u00e4nderungsumsatzwerte nach Typ, Jahr und Hand\\u00e4nderungsgrundst\\u00fccktyp 2021/ohne Stockwerkeigentum/2020-01-01\",\"Summe der Hand\\u00e4nderungsumsatzwerte nach Typ, Jahr und Hand\\u00e4nderungsgrundst\\u00fccktyp 2021/alle Freihandk\\u00e4ufe/2021-01-01\",\"Summe der Hand\\u00e4nderungsumsatzwerte nach Typ, Jahr und Hand\\u00e4nderungsgrundst\\u00fccktyp 2021/ohne Stockwerkeigentum/2021-01-01\",\"Summe der Hand\\u00e4nderungsumsatzwerte nach Typ, Jahr und Hand\\u00e4nderungsgrundst\\u00fccktyp 2021/alle Freihandk\\u00e4ufe/2011-01-01\",\"Summe der Hand\\u00e4nderungsumsatzwerte nach Typ, Jahr und Hand\\u00e4nderungsgrundst\\u00fccktyp 2021/ohne Stockwerkeigentum/2011-01-01\",\"Summe der Hand\\u00e4nderungsumsatzwerte nach Typ, Jahr und Hand\\u00e4nderungsgrundst\\u00fccktyp 2021/alle Freihandk\\u00e4ufe/2012-01-01\",\"Summe der Hand\\u00e4nderungsumsatzwerte nach Typ, Jahr und Hand\\u00e4nderungsgrundst\\u00fccktyp 2021/ohne Stockwerkeigentum/2012-01-01\",\"Summe der Hand\\u00e4nderungsumsatzwerte nach Typ, Jahr und Hand\\u00e4nderungsgrundst\\u00fccktyp 2021/alle Freihandk\\u00e4ufe/2013-01-01\",\"Summe der Hand\\u00e4nderungsumsatzwerte nach Typ, Jahr und Hand\\u00e4nderungsgrundst\\u00fccktyp 2021/ohne Stockwerkeigentum/2013-01-01\",\"Summe der Hand\\u00e4nderungsumsatzwerte nach Typ, Jahr und Hand\\u00e4nderungsgrundst\\u00fccktyp 2021/alle Freihandk\\u00e4ufe/2014-01-01\",\"Summe der Hand\\u00e4nderungsumsatzwerte nach Typ, Jahr und Hand\\u00e4nderungsgrundst\\u00fccktyp 2021/ohne Stockwerkeigentum/2014-01-01\",\"Summe der Hand\\u00e4nderungsumsatzwerte nach Typ, Jahr und Hand\\u00e4nderungsgrundst\\u00fccktyp 2021/alle Freihandk\\u00e4ufe/2015-01-01\",\"Summe der Hand\\u00e4nderungsumsatzwerte nach Typ, Jahr und Hand\\u00e4nderungsgrundst\\u00fccktyp 2021/ohne Stockwerkeigentum/2015-01-01\",\"Summe der Hand\\u00e4nderungsumsatzwerte nach Typ, Jahr und Hand\\u00e4nderungsgrundst\\u00fccktyp 2021/alle Freihandk\\u00e4ufe/2016-01-01\",\"Summe der Hand\\u00e4nderungsumsatzwerte nach Typ, Jahr und Hand\\u00e4nderungsgrundst\\u00fccktyp 2021/ohne Stockwerkeigentum/2016-01-01\",\"Summe der Hand\\u00e4nderungsumsatzwerte nach Typ, Jahr und Hand\\u00e4nderungsgrundst\\u00fccktyp 2021/alle Freihandk\\u00e4ufe/2017-01-01\",\"Summe der Hand\\u00e4nderungsumsatzwerte nach Typ, Jahr und Hand\\u00e4nderungsgrundst\\u00fccktyp 2021/ohne Stockwerkeigentum/2017-01-01\",\"Summe der Hand\\u00e4nderungsumsatzwerte nach Typ, Jahr und Hand\\u00e4nderungsgrundst\\u00fccktyp 2021/alle Freihandk\\u00e4ufe/2018-01-01\",\"Summe der Hand\\u00e4nderungsumsatzwerte nach Typ, Jahr und Hand\\u00e4nderungsgrundst\\u00fccktyp 2021/ohne Stockwerkeigentum/2018-01-01\",\"Summe der Hand\\u00e4nderungsumsatzwerte nach Typ, Jahr und Hand\\u00e4nderungsgrundst\\u00fccktyp 2021/alle Freihandk\\u00e4ufe/2019-01-01\",\"Summe der Hand\\u00e4nderungsumsatzwerte nach Typ, Jahr und Hand\\u00e4nderungsgrundst\\u00fccktyp 2021/ohne Stockwerkeigentum/2019-01-01\",\"Summe der Hand\\u00e4nderungsumsatzwerte nach Typ, Jahr und Hand\\u00e4nderungsgrundst\\u00fccktyp 2021/alle Freihandk\\u00e4ufe/2020-01-01\",\"Summe der Hand\\u00e4nderungsumsatzwerte nach Typ, Jahr und Hand\\u00e4nderungsgrundst\\u00fccktyp 2021/ohne Stockwerkeigentum/2020-01-01\",\"Summe der Hand\\u00e4nderungsumsatzwerte nach Typ, Jahr und Hand\\u00e4nderungsgrundst\\u00fccktyp 2021/alle Freihandk\\u00e4ufe/2021-01-01\",\"Summe der Hand\\u00e4nderungsumsatzwerte nach Typ, Jahr und Hand\\u00e4nderungsgrundst\\u00fccktyp 2021/ohne Stockwerkeigentum/2021-01-01\",\"Summe der Hand\\u00e4nderungsumsatzwerte nach Typ, Jahr und Hand\\u00e4nderungsgrundst\\u00fccktyp 2021/alle Freihandk\\u00e4ufe/2011-01-01\",\"Summe der Hand\\u00e4nderungsumsatzwerte nach Typ, Jahr und Hand\\u00e4nderungsgrundst\\u00fccktyp 2021/ohne Stockwerkeigentum/2011-01-01\",\"Summe der Hand\\u00e4nderungsumsatzwerte nach Typ, Jahr und Hand\\u00e4nderungsgrundst\\u00fccktyp 2021/alle Freihandk\\u00e4ufe/2012-01-01\",\"Summe der Hand\\u00e4nderungsumsatzwerte nach Typ, Jahr und Hand\\u00e4nderungsgrundst\\u00fccktyp 2021/ohne Stockwerkeigentum/2012-01-01\",\"Summe der Hand\\u00e4nderungsumsatzwerte nach Typ, Jahr und Hand\\u00e4nderungsgrundst\\u00fccktyp 2021/alle Freihandk\\u00e4ufe/2013-01-01\",\"Summe der Hand\\u00e4nderungsumsatzwerte nach Typ, Jahr und Hand\\u00e4nderungsgrundst\\u00fccktyp 2021/ohne Stockwerkeigentum/2013-01-01\",\"Summe der Hand\\u00e4nderungsumsatzwerte nach Typ, Jahr und Hand\\u00e4nderungsgrundst\\u00fccktyp 2021/alle Freihandk\\u00e4ufe/2014-01-01\",\"Summe der Hand\\u00e4nderungsumsatzwerte nach Typ, Jahr und Hand\\u00e4nderungsgrundst\\u00fccktyp 2021/ohne Stockwerkeigentum/2014-01-01\",\"Summe der Hand\\u00e4nderungsumsatzwerte nach Typ, Jahr und Hand\\u00e4nderungsgrundst\\u00fccktyp 2021/alle Freihandk\\u00e4ufe/2015-01-01\",\"Summe der Hand\\u00e4nderungsumsatzwerte nach Typ, Jahr und Hand\\u00e4nderungsgrundst\\u00fccktyp 2021/ohne Stockwerkeigentum/2015-01-01\",\"Summe der Hand\\u00e4nderungsumsatzwerte nach Typ, Jahr und Hand\\u00e4nderungsgrundst\\u00fccktyp 2021/alle Freihandk\\u00e4ufe/2016-01-01\",\"Summe der Hand\\u00e4nderungsumsatzwerte nach Typ, Jahr und Hand\\u00e4nderungsgrundst\\u00fccktyp 2021/ohne Stockwerkeigentum/2016-01-01\",\"Summe der Hand\\u00e4nderungsumsatzwerte nach Typ, Jahr und Hand\\u00e4nderungsgrundst\\u00fccktyp 2021/alle Freihandk\\u00e4ufe/2017-01-01\",\"Summe der Hand\\u00e4nderungsumsatzwerte nach Typ, Jahr und Hand\\u00e4nderungsgrundst\\u00fccktyp 2021/ohne Stockwerkeigentum/2017-01-01\",\"Summe der Hand\\u00e4nderungsumsatzwerte nach Typ, Jahr und Hand\\u00e4nderungsgrundst\\u00fccktyp 2021/alle Freihandk\\u00e4ufe/2018-01-01\",\"Summe der Hand\\u00e4nderungsumsatzwerte nach Typ, Jahr und Hand\\u00e4nderungsgrundst\\u00fccktyp 2021/ohne Stockwerkeigentum/2018-01-01\",\"Summe der Hand\\u00e4nderungsumsatzwerte nach Typ, Jahr und Hand\\u00e4nderungsgrundst\\u00fccktyp 2021/alle Freihandk\\u00e4ufe/2019-01-01\",\"Summe der Hand\\u00e4nderungsumsatzwerte nach Typ, Jahr und Hand\\u00e4nderungsgrundst\\u00fccktyp 2021/ohne Stockwerkeigentum/2019-01-01\",\"Summe der Hand\\u00e4nderungsumsatzwerte nach Typ, Jahr und Hand\\u00e4nderungsgrundst\\u00fccktyp 2021/alle Freihandk\\u00e4ufe/2020-01-01\",\"Summe der Hand\\u00e4nderungsumsatzwerte nach Typ, Jahr und Hand\\u00e4nderungsgrundst\\u00fccktyp 2021/ohne Stockwerkeigentum/2020-01-01\",\"Summe der Hand\\u00e4nderungsumsatzwerte nach Typ, Jahr und Hand\\u00e4nderungsgrundst\\u00fccktyp 2021/alle Freihandk\\u00e4ufe/2021-01-01\",\"Summe der Hand\\u00e4nderungsumsatzwerte nach Typ, Jahr und Hand\\u00e4nderungsgrundst\\u00fccktyp 2021/ohne Stockwerkeigentum/2021-01-01\",\"Summe der Hand\\u00e4nderungsumsatzwerte nach Typ, Jahr und Hand\\u00e4nderungsgrundst\\u00fccktyp 2021/alle Freihandk\\u00e4ufe/2011-01-01\",\"Summe der Hand\\u00e4nderungsumsatzwerte nach Typ, Jahr und Hand\\u00e4nderungsgrundst\\u00fccktyp 2021/ohne Stockwerkeigentum/2011-01-01\",\"Summe der Hand\\u00e4nderungsumsatzwerte nach Typ, Jahr und Hand\\u00e4nderungsgrundst\\u00fccktyp 2021/alle Freihandk\\u00e4ufe/2012-01-01\",\"Summe der Hand\\u00e4nderungsumsatzwerte nach Typ, Jahr und Hand\\u00e4nderungsgrundst\\u00fccktyp 2021/ohne Stockwerkeigentum/2012-01-01\",\"Summe der Hand\\u00e4nderungsumsatzwerte nach Typ, Jahr und Hand\\u00e4nderungsgrundst\\u00fccktyp 2021/alle Freihandk\\u00e4ufe/2013-01-01\",\"Summe der Hand\\u00e4nderungsumsatzwerte nach Typ, Jahr und Hand\\u00e4nderungsgrundst\\u00fccktyp 2021/ohne Stockwerkeigentum/2013-01-01\",\"Summe der Hand\\u00e4nderungsumsatzwerte nach Typ, Jahr und Hand\\u00e4nderungsgrundst\\u00fccktyp 2021/alle Freihandk\\u00e4ufe/2014-01-01\",\"Summe der Hand\\u00e4nderungsumsatzwerte nach Typ, Jahr und Hand\\u00e4nderungsgrundst\\u00fccktyp 2021/ohne Stockwerkeigentum/2014-01-01\",\"Summe der Hand\\u00e4nderungsumsatzwerte nach Typ, Jahr und Hand\\u00e4nderungsgrundst\\u00fccktyp 2021/alle Freihandk\\u00e4ufe/2015-01-01\",\"Summe der Hand\\u00e4nderungsumsatzwerte nach Typ, Jahr und Hand\\u00e4nderungsgrundst\\u00fccktyp 2021/ohne Stockwerkeigentum/2015-01-01\",\"Summe der Hand\\u00e4nderungsumsatzwerte nach Typ, Jahr und Hand\\u00e4nderungsgrundst\\u00fccktyp 2021/alle Freihandk\\u00e4ufe/2016-01-01\",\"Summe der Hand\\u00e4nderungsumsatzwerte nach Typ, Jahr und Hand\\u00e4nderungsgrundst\\u00fccktyp 2021/ohne Stockwerkeigentum/2016-01-01\",\"Summe der Hand\\u00e4nderungsumsatzwerte nach Typ, Jahr und Hand\\u00e4nderungsgrundst\\u00fccktyp 2021/alle Freihandk\\u00e4ufe/2017-01-01\",\"Summe der Hand\\u00e4nderungsumsatzwerte nach Typ, Jahr und Hand\\u00e4nderungsgrundst\\u00fccktyp 2021/ohne Stockwerkeigentum/2017-01-01\",\"Summe der Hand\\u00e4nderungsumsatzwerte nach Typ, Jahr und Hand\\u00e4nderungsgrundst\\u00fccktyp 2021/alle Freihandk\\u00e4ufe/2018-01-01\",\"Summe der Hand\\u00e4nderungsumsatzwerte nach Typ, Jahr und Hand\\u00e4nderungsgrundst\\u00fccktyp 2021/ohne Stockwerkeigentum/2018-01-01\",\"Summe der Hand\\u00e4nderungsumsatzwerte nach Typ, Jahr und Hand\\u00e4nderungsgrundst\\u00fccktyp 2021/alle Freihandk\\u00e4ufe/2019-01-01\",\"Summe der Hand\\u00e4nderungsumsatzwerte nach Typ, Jahr und Hand\\u00e4nderungsgrundst\\u00fccktyp 2021/ohne Stockwerkeigentum/2019-01-01\",\"Summe der Hand\\u00e4nderungsumsatzwerte nach Typ, Jahr und Hand\\u00e4nderungsgrundst\\u00fccktyp 2021/alle Freihandk\\u00e4ufe/2020-01-01\",\"Summe der Hand\\u00e4nderungsumsatzwerte nach Typ, Jahr und Hand\\u00e4nderungsgrundst\\u00fccktyp 2021/ohne Stockwerkeigentum/2020-01-01\",\"Summe der Hand\\u00e4nderungsumsatzwerte nach Typ, Jahr und Hand\\u00e4nderungsgrundst\\u00fccktyp 2021/alle Freihandk\\u00e4ufe/2021-01-01\",\"Summe der Hand\\u00e4nderungsumsatzwerte nach Typ, Jahr und Hand\\u00e4nderungsgrundst\\u00fccktyp 2021/ohne Stockwerkeigentum/2021-01-01\",\"Summe der Hand\\u00e4nderungsumsatzwerte nach Typ, Jahr und Hand\\u00e4nderungsgrundst\\u00fccktyp 2021/alle Freihandk\\u00e4ufe/2011-01-01\",\"Summe der Hand\\u00e4nderungsumsatzwerte nach Typ, Jahr und Hand\\u00e4nderungsgrundst\\u00fccktyp 2021/ohne Stockwerkeigentum/2011-01-01\",\"Summe der Hand\\u00e4nderungsumsatzwerte nach Typ, Jahr und Hand\\u00e4nderungsgrundst\\u00fccktyp 2021/alle Freihandk\\u00e4ufe/2012-01-01\",\"Summe der Hand\\u00e4nderungsumsatzwerte nach Typ, Jahr und Hand\\u00e4nderungsgrundst\\u00fccktyp 2021/ohne Stockwerkeigentum/2012-01-01\",\"Summe der Hand\\u00e4nderungsumsatzwerte nach Typ, Jahr und Hand\\u00e4nderungsgrundst\\u00fccktyp 2021/alle Freihandk\\u00e4ufe/2013-01-01\",\"Summe der Hand\\u00e4nderungsumsatzwerte nach Typ, Jahr und Hand\\u00e4nderungsgrundst\\u00fccktyp 2021/ohne Stockwerkeigentum/2013-01-01\",\"Summe der Hand\\u00e4nderungsumsatzwerte nach Typ, Jahr und Hand\\u00e4nderungsgrundst\\u00fccktyp 2021/alle Freihandk\\u00e4ufe/2014-01-01\",\"Summe der Hand\\u00e4nderungsumsatzwerte nach Typ, Jahr und Hand\\u00e4nderungsgrundst\\u00fccktyp 2021/ohne Stockwerkeigentum/2014-01-01\",\"Summe der Hand\\u00e4nderungsumsatzwerte nach Typ, Jahr und Hand\\u00e4nderungsgrundst\\u00fccktyp 2021/alle Freihandk\\u00e4ufe/2015-01-01\",\"Summe der Hand\\u00e4nderungsumsatzwerte nach Typ, Jahr und Hand\\u00e4nderungsgrundst\\u00fccktyp 2021/ohne Stockwerkeigentum/2015-01-01\",\"Summe der Hand\\u00e4nderungsumsatzwerte nach Typ, Jahr und Hand\\u00e4nderungsgrundst\\u00fccktyp 2021/alle Freihandk\\u00e4ufe/2017-01-01\",\"Summe der Hand\\u00e4nderungsumsatzwerte nach Typ, Jahr und Hand\\u00e4nderungsgrundst\\u00fccktyp 2021/ohne Stockwerkeigentum/2017-01-01\",\"Summe der Hand\\u00e4nderungsumsatzwerte nach Typ, Jahr und Hand\\u00e4nderungsgrundst\\u00fccktyp 2021/alle Freihandk\\u00e4ufe/2018-01-01\",\"Summe der Hand\\u00e4nderungsumsatzwerte nach Typ, Jahr und Hand\\u00e4nderungsgrundst\\u00fccktyp 2021/ohne Stockwerkeigentum/2018-01-01\",\"Summe der Hand\\u00e4nderungsumsatzwerte nach Typ, Jahr und Hand\\u00e4nderungsgrundst\\u00fccktyp 2021/alle Freihandk\\u00e4ufe/2019-01-01\",\"Summe der Hand\\u00e4nderungsumsatzwerte nach Typ, Jahr und Hand\\u00e4nderungsgrundst\\u00fccktyp 2021/ohne Stockwerkeigentum/2019-01-01\",\"Summe der Hand\\u00e4nderungsumsatzwerte nach Typ, Jahr und Hand\\u00e4nderungsgrundst\\u00fccktyp 2021/alle Freihandk\\u00e4ufe/2020-01-01\",\"Summe der Hand\\u00e4nderungsumsatzwerte nach Typ, Jahr und Hand\\u00e4nderungsgrundst\\u00fccktyp 2021/ohne Stockwerkeigentum/2020-01-01\",\"Summe der Hand\\u00e4nderungsumsatzwerte nach Typ, Jahr und Hand\\u00e4nderungsgrundst\\u00fccktyp 2021/alle Freihandk\\u00e4ufe/2021-01-01\",\"Summe der Hand\\u00e4nderungsumsatzwerte nach Typ, Jahr und Hand\\u00e4nderungsgrundst\\u00fccktyp 2021/alle Freihandk\\u00e4ufe\",\"Summe der Hand\\u00e4nderungsumsatzwerte nach Typ, Jahr und Hand\\u00e4nderungsgrundst\\u00fccktyp 2021/ohne Stockwerkeigentum\",\"Summe der Hand\\u00e4nderungsumsatzwerte nach Typ, Jahr und Hand\\u00e4nderungsgrundst\\u00fccktyp 2021/alle Freihandk\\u00e4ufe\",\"Summe der Hand\\u00e4nderungsumsatzwerte nach Typ, Jahr und Hand\\u00e4nderungsgrundst\\u00fccktyp 2021/ohne Stockwerkeigentum\",\"Summe der Hand\\u00e4nderungsumsatzwerte nach Typ, Jahr und Hand\\u00e4nderungsgrundst\\u00fccktyp 2021/alle Freihandk\\u00e4ufe\",\"Summe der Hand\\u00e4nderungsumsatzwerte nach Typ, Jahr und Hand\\u00e4nderungsgrundst\\u00fccktyp 2021/ohne Stockwerkeigentum\",\"Summe der Hand\\u00e4nderungsumsatzwerte nach Typ, Jahr und Hand\\u00e4nderungsgrundst\\u00fccktyp 2021/alle Freihandk\\u00e4ufe\",\"Summe der Hand\\u00e4nderungsumsatzwerte nach Typ, Jahr und Hand\\u00e4nderungsgrundst\\u00fccktyp 2021/ohne Stockwerkeigentum\",\"Summe der Hand\\u00e4nderungsumsatzwerte nach Typ, Jahr und Hand\\u00e4nderungsgrundst\\u00fccktyp 2021/alle Freihandk\\u00e4ufe\",\"Summe der Hand\\u00e4nderungsumsatzwerte nach Typ, Jahr und Hand\\u00e4nderungsgrundst\\u00fccktyp 2021/ohne Stockwerkeigentum\",\"Summe der Hand\\u00e4nderungsumsatzwerte nach Typ, Jahr und Hand\\u00e4nderungsgrundst\\u00fccktyp 2021/alle Freihandk\\u00e4ufe\",\"Summe der Hand\\u00e4nderungsumsatzwerte nach Typ, Jahr und Hand\\u00e4nderungsgrundst\\u00fccktyp 2021/ohne Stockwerkeigentum\",\"Summe der Hand\\u00e4nderungsumsatzwerte nach Typ, Jahr und Hand\\u00e4nderungsgrundst\\u00fccktyp 2021/alle Freihandk\\u00e4ufe\",\"Summe der Hand\\u00e4nderungsumsatzwerte nach Typ, Jahr und Hand\\u00e4nderungsgrundst\\u00fccktyp 2021/ohne Stockwerkeigentum\",\"Summe der Hand\\u00e4nderungsumsatzwerte nach Typ, Jahr und Hand\\u00e4nderungsgrundst\\u00fccktyp 2021/alle Freihandk\\u00e4ufe\",\"Summe der Hand\\u00e4nderungsumsatzwerte nach Typ, Jahr und Hand\\u00e4nderungsgrundst\\u00fccktyp 2021/ohne Stockwerkeigentum\",\"Summe der Hand\\u00e4nderungsumsatzwerte nach Typ, Jahr und Hand\\u00e4nderungsgrundst\\u00fccktyp 2021/alle Freihandk\\u00e4ufe\",\"Summe der Hand\\u00e4nderungsumsatzwerte nach Typ, Jahr und Hand\\u00e4nderungsgrundst\\u00fccktyp 2021/ohne Stockwerkeigentum\",\"Summe der Hand\\u00e4nderungsumsatzwerte nach Typ, Jahr und Hand\\u00e4nderungsgrundst\\u00fccktyp 2021/alle Freihandk\\u00e4ufe\",\"Summe der Hand\\u00e4nderungsumsatzwerte nach Typ, Jahr und Hand\\u00e4nderungsgrundst\\u00fccktyp 2021/ohne Stockwerkeigentum\",\"Summe der Hand\\u00e4nderungsumsatzwerte nach Typ, Jahr und Hand\\u00e4nderungsgrundst\\u00fccktyp 2021/alle Freihandk\\u00e4ufe\",\"Summe der Hand\\u00e4nderungsumsatzwerte nach Typ, Jahr und Hand\\u00e4nderungsgrundst\\u00fccktyp 2021/ohne Stockwerkeigentum\",\"Summe der Hand\\u00e4nderungsumsatzwerte nach Typ, Jahr und Hand\\u00e4nderungsgrundst\\u00fccktyp 2021\",\"Summe der Hand\\u00e4nderungsumsatzwerte nach Typ, Jahr und Hand\\u00e4nderungsgrundst\\u00fccktyp 2021\",\"\"],\"root\":{\"color\":\"grey\"},\"type\":\"treemap\",\"values\":[210072231,204415231,248121820,236808820,217789649,215829649,223307861,212472361,212111467,209011467,265321000,261896000,221531487,218313487,337501784,336311784,313988431,304347431,409687278,371742278,390845708,383075708,983253725,524425385,1020383259,532398455,947748872,440476584,792972314,265940844,1298066314,566491786,1159300493,435077250,1140998189,512809590,1563688768,1007713147,1382168318,886907087,1215258063,612101873,1633734478,952891517,741793400,672218400,2726646783,2594739083,1051315653,1016394503,997416643,968886643,1166908446,1089007813,1573743806,1543291806,968494661,946380561,1019152591,996653591,1003937432,952407432,1647574493,1604569481,1542441226,1499240226,535303264,408389000,597026775,494822108,849196655,657337655,920063985,429064638,1138992510,609908696,1008097817,815273756,636492122,419730272,999833591,768286680,685066160,533321577,859593116,618631127,1259431899,685468139,26681790,24150000,24150000,24150000,7880000,7880000,16700000,16700000,7250000,7250000,10500000,7000000,9800000,9800000,37230000,37230000,12400000,12400000,4100000,2497104410,1833598016,4616328637,3882918466,3073930829,2337918391,2950460803,1893064486,3823328737,2481669762,4006463116,3055538812,2978016459,2104233910,3929976734,3118765202,3422390341,2714213527,4144512950,3219444759,4830553311,3520675590,40273066327,30162040921,70435107248]}],                        {\"coloraxis\":{\"colorbar\":{\"title\":{\"text\":\"sum_Umsatzwert\"}},\"colorscale\":[[0.0,\"#00224e\"],[0.1111111111111111,\"#123570\"],[0.2222222222222222,\"#3b496c\"],[0.3333333333333333,\"#575d6d\"],[0.4444444444444444,\"#707173\"],[0.5555555555555556,\"#8a8678\"],[0.6666666666666666,\"#a59c74\"],[0.7777777777777778,\"#c3b369\"],[0.8888888888888888,\"#e1cc55\"],[1.0,\"#fee838\"]]},\"height\":500,\"legend\":{\"tracegroupgap\":0},\"margin\":{\"b\":25,\"l\":25,\"r\":250,\"t\":50},\"template\":{\"data\":{\"bar\":[{\"error_x\":{\"color\":\"#2a3f5f\"},\"error_y\":{\"color\":\"#2a3f5f\"},\"marker\":{\"line\":{\"color\":\"#E5ECF6\",\"width\":0.5},\"pattern\":{\"fillmode\":\"overlay\",\"size\":10,\"solidity\":0.2}},\"type\":\"bar\"}],\"barpolar\":[{\"marker\":{\"line\":{\"color\":\"#E5ECF6\",\"width\":0.5},\"pattern\":{\"fillmode\":\"overlay\",\"size\":10,\"solidity\":0.2}},\"type\":\"barpolar\"}],\"carpet\":[{\"aaxis\":{\"endlinecolor\":\"#2a3f5f\",\"gridcolor\":\"white\",\"linecolor\":\"white\",\"minorgridcolor\":\"white\",\"startlinecolor\":\"#2a3f5f\"},\"baxis\":{\"endlinecolor\":\"#2a3f5f\",\"gridcolor\":\"white\",\"linecolor\":\"white\",\"minorgridcolor\":\"white\",\"startlinecolor\":\"#2a3f5f\"},\"type\":\"carpet\"}],\"choropleth\":[{\"colorbar\":{\"outlinewidth\":0,\"ticks\":\"\"},\"type\":\"choropleth\"}],\"contour\":[{\"colorbar\":{\"outlinewidth\":0,\"ticks\":\"\"},\"colorscale\":[[0.0,\"#0d0887\"],[0.1111111111111111,\"#46039f\"],[0.2222222222222222,\"#7201a8\"],[0.3333333333333333,\"#9c179e\"],[0.4444444444444444,\"#bd3786\"],[0.5555555555555556,\"#d8576b\"],[0.6666666666666666,\"#ed7953\"],[0.7777777777777778,\"#fb9f3a\"],[0.8888888888888888,\"#fdca26\"],[1.0,\"#f0f921\"]],\"type\":\"contour\"}],\"contourcarpet\":[{\"colorbar\":{\"outlinewidth\":0,\"ticks\":\"\"},\"type\":\"contourcarpet\"}],\"heatmap\":[{\"colorbar\":{\"outlinewidth\":0,\"ticks\":\"\"},\"colorscale\":[[0.0,\"#0d0887\"],[0.1111111111111111,\"#46039f\"],[0.2222222222222222,\"#7201a8\"],[0.3333333333333333,\"#9c179e\"],[0.4444444444444444,\"#bd3786\"],[0.5555555555555556,\"#d8576b\"],[0.6666666666666666,\"#ed7953\"],[0.7777777777777778,\"#fb9f3a\"],[0.8888888888888888,\"#fdca26\"],[1.0,\"#f0f921\"]],\"type\":\"heatmap\"}],\"heatmapgl\":[{\"colorbar\":{\"outlinewidth\":0,\"ticks\":\"\"},\"colorscale\":[[0.0,\"#0d0887\"],[0.1111111111111111,\"#46039f\"],[0.2222222222222222,\"#7201a8\"],[0.3333333333333333,\"#9c179e\"],[0.4444444444444444,\"#bd3786\"],[0.5555555555555556,\"#d8576b\"],[0.6666666666666666,\"#ed7953\"],[0.7777777777777778,\"#fb9f3a\"],[0.8888888888888888,\"#fdca26\"],[1.0,\"#f0f921\"]],\"type\":\"heatmapgl\"}],\"histogram\":[{\"marker\":{\"pattern\":{\"fillmode\":\"overlay\",\"size\":10,\"solidity\":0.2}},\"type\":\"histogram\"}],\"histogram2d\":[{\"colorbar\":{\"outlinewidth\":0,\"ticks\":\"\"},\"colorscale\":[[0.0,\"#0d0887\"],[0.1111111111111111,\"#46039f\"],[0.2222222222222222,\"#7201a8\"],[0.3333333333333333,\"#9c179e\"],[0.4444444444444444,\"#bd3786\"],[0.5555555555555556,\"#d8576b\"],[0.6666666666666666,\"#ed7953\"],[0.7777777777777778,\"#fb9f3a\"],[0.8888888888888888,\"#fdca26\"],[1.0,\"#f0f921\"]],\"type\":\"histogram2d\"}],\"histogram2dcontour\":[{\"colorbar\":{\"outlinewidth\":0,\"ticks\":\"\"},\"colorscale\":[[0.0,\"#0d0887\"],[0.1111111111111111,\"#46039f\"],[0.2222222222222222,\"#7201a8\"],[0.3333333333333333,\"#9c179e\"],[0.4444444444444444,\"#bd3786\"],[0.5555555555555556,\"#d8576b\"],[0.6666666666666666,\"#ed7953\"],[0.7777777777777778,\"#fb9f3a\"],[0.8888888888888888,\"#fdca26\"],[1.0,\"#f0f921\"]],\"type\":\"histogram2dcontour\"}],\"mesh3d\":[{\"colorbar\":{\"outlinewidth\":0,\"ticks\":\"\"},\"type\":\"mesh3d\"}],\"parcoords\":[{\"line\":{\"colorbar\":{\"outlinewidth\":0,\"ticks\":\"\"}},\"type\":\"parcoords\"}],\"pie\":[{\"automargin\":true,\"type\":\"pie\"}],\"scatter\":[{\"marker\":{\"colorbar\":{\"outlinewidth\":0,\"ticks\":\"\"}},\"type\":\"scatter\"}],\"scatter3d\":[{\"line\":{\"colorbar\":{\"outlinewidth\":0,\"ticks\":\"\"}},\"marker\":{\"colorbar\":{\"outlinewidth\":0,\"ticks\":\"\"}},\"type\":\"scatter3d\"}],\"scattercarpet\":[{\"marker\":{\"colorbar\":{\"outlinewidth\":0,\"ticks\":\"\"}},\"type\":\"scattercarpet\"}],\"scattergeo\":[{\"marker\":{\"colorbar\":{\"outlinewidth\":0,\"ticks\":\"\"}},\"type\":\"scattergeo\"}],\"scattergl\":[{\"marker\":{\"colorbar\":{\"outlinewidth\":0,\"ticks\":\"\"}},\"type\":\"scattergl\"}],\"scattermapbox\":[{\"marker\":{\"colorbar\":{\"outlinewidth\":0,\"ticks\":\"\"}},\"type\":\"scattermapbox\"}],\"scatterpolar\":[{\"marker\":{\"colorbar\":{\"outlinewidth\":0,\"ticks\":\"\"}},\"type\":\"scatterpolar\"}],\"scatterpolargl\":[{\"marker\":{\"colorbar\":{\"outlinewidth\":0,\"ticks\":\"\"}},\"type\":\"scatterpolargl\"}],\"scatterternary\":[{\"marker\":{\"colorbar\":{\"outlinewidth\":0,\"ticks\":\"\"}},\"type\":\"scatterternary\"}],\"surface\":[{\"colorbar\":{\"outlinewidth\":0,\"ticks\":\"\"},\"colorscale\":[[0.0,\"#0d0887\"],[0.1111111111111111,\"#46039f\"],[0.2222222222222222,\"#7201a8\"],[0.3333333333333333,\"#9c179e\"],[0.4444444444444444,\"#bd3786\"],[0.5555555555555556,\"#d8576b\"],[0.6666666666666666,\"#ed7953\"],[0.7777777777777778,\"#fb9f3a\"],[0.8888888888888888,\"#fdca26\"],[1.0,\"#f0f921\"]],\"type\":\"surface\"}],\"table\":[{\"cells\":{\"fill\":{\"color\":\"#EBF0F8\"},\"line\":{\"color\":\"white\"}},\"header\":{\"fill\":{\"color\":\"#C8D4E3\"},\"line\":{\"color\":\"white\"}},\"type\":\"table\"}]},\"layout\":{\"annotationdefaults\":{\"arrowcolor\":\"#2a3f5f\",\"arrowhead\":0,\"arrowwidth\":1},\"autotypenumbers\":\"strict\",\"coloraxis\":{\"colorbar\":{\"outlinewidth\":0,\"ticks\":\"\"}},\"colorscale\":{\"diverging\":[[0,\"#8e0152\"],[0.1,\"#c51b7d\"],[0.2,\"#de77ae\"],[0.3,\"#f1b6da\"],[0.4,\"#fde0ef\"],[0.5,\"#f7f7f7\"],[0.6,\"#e6f5d0\"],[0.7,\"#b8e186\"],[0.8,\"#7fbc41\"],[0.9,\"#4d9221\"],[1,\"#276419\"]],\"sequential\":[[0.0,\"#0d0887\"],[0.1111111111111111,\"#46039f\"],[0.2222222222222222,\"#7201a8\"],[0.3333333333333333,\"#9c179e\"],[0.4444444444444444,\"#bd3786\"],[0.5555555555555556,\"#d8576b\"],[0.6666666666666666,\"#ed7953\"],[0.7777777777777778,\"#fb9f3a\"],[0.8888888888888888,\"#fdca26\"],[1.0,\"#f0f921\"]],\"sequentialminus\":[[0.0,\"#0d0887\"],[0.1111111111111111,\"#46039f\"],[0.2222222222222222,\"#7201a8\"],[0.3333333333333333,\"#9c179e\"],[0.4444444444444444,\"#bd3786\"],[0.5555555555555556,\"#d8576b\"],[0.6666666666666666,\"#ed7953\"],[0.7777777777777778,\"#fb9f3a\"],[0.8888888888888888,\"#fdca26\"],[1.0,\"#f0f921\"]]},\"colorway\":[\"#636efa\",\"#EF553B\",\"#00cc96\",\"#ab63fa\",\"#FFA15A\",\"#19d3f3\",\"#FF6692\",\"#B6E880\",\"#FF97FF\",\"#FECB52\"],\"font\":{\"color\":\"#2a3f5f\"},\"geo\":{\"bgcolor\":\"white\",\"lakecolor\":\"white\",\"landcolor\":\"#E5ECF6\",\"showlakes\":true,\"showland\":true,\"subunitcolor\":\"white\"},\"hoverlabel\":{\"align\":\"left\"},\"hovermode\":\"closest\",\"mapbox\":{\"style\":\"light\"},\"paper_bgcolor\":\"white\",\"plot_bgcolor\":\"#E5ECF6\",\"polar\":{\"angularaxis\":{\"gridcolor\":\"white\",\"linecolor\":\"white\",\"ticks\":\"\"},\"bgcolor\":\"#E5ECF6\",\"radialaxis\":{\"gridcolor\":\"white\",\"linecolor\":\"white\",\"ticks\":\"\"}},\"scene\":{\"xaxis\":{\"backgroundcolor\":\"#E5ECF6\",\"gridcolor\":\"white\",\"gridwidth\":2,\"linecolor\":\"white\",\"showbackground\":true,\"ticks\":\"\",\"zerolinecolor\":\"white\"},\"yaxis\":{\"backgroundcolor\":\"#E5ECF6\",\"gridcolor\":\"white\",\"gridwidth\":2,\"linecolor\":\"white\",\"showbackground\":true,\"ticks\":\"\",\"zerolinecolor\":\"white\"},\"zaxis\":{\"backgroundcolor\":\"#E5ECF6\",\"gridcolor\":\"white\",\"gridwidth\":2,\"linecolor\":\"white\",\"showbackground\":true,\"ticks\":\"\",\"zerolinecolor\":\"white\"}},\"shapedefaults\":{\"line\":{\"color\":\"#2a3f5f\"}},\"ternary\":{\"aaxis\":{\"gridcolor\":\"white\",\"linecolor\":\"white\",\"ticks\":\"\"},\"baxis\":{\"gridcolor\":\"white\",\"linecolor\":\"white\",\"ticks\":\"\"},\"bgcolor\":\"#E5ECF6\",\"caxis\":{\"gridcolor\":\"white\",\"linecolor\":\"white\",\"ticks\":\"\"}},\"title\":{\"x\":0.05},\"xaxis\":{\"automargin\":true,\"gridcolor\":\"white\",\"linecolor\":\"white\",\"ticks\":\"\",\"title\":{\"standoff\":15},\"zerolinecolor\":\"white\",\"zerolinewidth\":2},\"yaxis\":{\"automargin\":true,\"gridcolor\":\"white\",\"linecolor\":\"white\",\"ticks\":\"\",\"title\":{\"standoff\":15},\"zerolinecolor\":\"white\",\"zerolinewidth\":2}}},\"width\":1100},                        {\"responsive\": true}                    ).then(function(){\n",
       "                            \n",
       "var gd = document.getElementById('fce7ce5c-3db3-4d60-b38d-dc7e6d0a4d39');\n",
       "var x = new MutationObserver(function (mutations, observer) {{\n",
       "        var display = window.getComputedStyle(gd).display;\n",
       "        if (!display || display === 'none') {{\n",
       "            console.log([gd, 'removed!']);\n",
       "            Plotly.purge(gd);\n",
       "            observer.disconnect();\n",
       "        }}\n",
       "}});\n",
       "\n",
       "// Listen for the removal of the full notebook cells\n",
       "var notebookContainer = gd.closest('#notebook-container');\n",
       "if (notebookContainer) {{\n",
       "    x.observe(notebookContainer, {childList: true});\n",
       "}}\n",
       "\n",
       "// Listen for the clearing of the current output cell\n",
       "var outputEl = gd.closest('.output');\n",
       "if (outputEl) {{\n",
       "    x.observe(outputEl, {childList: true});\n",
       "}}\n",
       "\n",
       "                        })                };                });            </script>        </div>"
      ]
     },
     "metadata": {},
     "output_type": "display_data"
    }
   ],
   "source": [
    "fig = px.treemap(myTreemap.reset_index(), path=[px.Constant(\"Summe der Handänderungsumsatzwerte nach Typ, Jahr und Handänderungsgrundstücktyp 2021\")\n",
    "                                                ,'Typ','Jahr','HaeGrstTyp']\n",
    "                 , values='sum_Umsatzwert'\n",
    "                 , color='sum_Umsatzwert'               \n",
    "                 #, color_discrete_map={'(?)':'lightgrey','EVP':'gold', 'SP':'#FF3030', 'PdA':'#EE3B3B', 'Grüne':'#A2CD5A','GLP':'#CAFF70','Die Mitte':'orange','FDP':'#104E8B','AL':'deeppink','SVP':'forestgreen', 'FL ZÜRI':'#8B864E','Volt':'#lightblue' }                \n",
    "                 ## bei continuous scales (bei Zahlenwerten):\n",
    "                 ,color_continuous_scale='cividis'\n",
    "                 ,height=500 , width=1100                 \n",
    "                )\n",
    "fig.update_traces(root_color=\"grey\")\n",
    "fig.update_layout(margin = dict(t=50, l=25, r=250, b=25))\n",
    "fig.show()"
   ]
  },
  {
   "cell_type": "markdown",
   "metadata": {
    "tags": []
   },
   "source": [
    "#### Summe der Handänderungsumsatzwerte nach Typ, Handänderungsgrundstücktyp und Jahr seit 2009"
   ]
  },
  {
   "cell_type": "code",
   "execution_count": 130,
   "metadata": {
    "tags": []
   },
   "outputs": [],
   "source": [
    "#data2betested.dtypes"
   ]
  },
  {
   "cell_type": "code",
   "execution_count": 131,
   "metadata": {
    "tags": []
   },
   "outputs": [
    {
     "data": {
      "text/html": [
       "<div>\n",
       "<style scoped>\n",
       "    .dataframe tbody tr th:only-of-type {\n",
       "        vertical-align: middle;\n",
       "    }\n",
       "\n",
       "    .dataframe tbody tr th {\n",
       "        vertical-align: top;\n",
       "    }\n",
       "\n",
       "    .dataframe thead th {\n",
       "        text-align: right;\n",
       "    }\n",
       "</style>\n",
       "<table border=\"1\" class=\"dataframe\">\n",
       "  <thead>\n",
       "    <tr style=\"text-align: right;\">\n",
       "      <th></th>\n",
       "      <th>Jahr</th>\n",
       "      <th>HaeGrstTyp</th>\n",
       "      <th>Typ</th>\n",
       "      <th>sum_Anzahl_HAE</th>\n",
       "      <th>sum_Totalm2</th>\n",
       "      <th>sum_Umsatzwert</th>\n",
       "    </tr>\n",
       "  </thead>\n",
       "  <tbody>\n",
       "    <tr>\n",
       "      <th>0</th>\n",
       "      <td>2021-01-01</td>\n",
       "      <td>übrige Wohnhäuser</td>\n",
       "      <td>alle Freihandkäufe</td>\n",
       "      <td>1-3</td>\n",
       "      <td>94</td>\n",
       "      <td>4100000</td>\n",
       "    </tr>\n",
       "    <tr>\n",
       "      <th>1</th>\n",
       "      <td>2021-01-01</td>\n",
       "      <td>Wohnhäuser mit Geschäftsräumen</td>\n",
       "      <td>ohne Stockwerkeigentum</td>\n",
       "      <td>75</td>\n",
       "      <td>52258</td>\n",
       "      <td>685468139</td>\n",
       "    </tr>\n",
       "  </tbody>\n",
       "</table>\n",
       "</div>"
      ],
      "text/plain": [
       "        Jahr                      HaeGrstTyp                     Typ sum_Anzahl_HAE  sum_Totalm2  \\\n",
       "0 2021-01-01               übrige Wohnhäuser      alle Freihandkäufe            1-3           94   \n",
       "1 2021-01-01  Wohnhäuser mit Geschäftsräumen  ohne Stockwerkeigentum             75        52258   \n",
       "\n",
       "   sum_Umsatzwert  \n",
       "0         4100000  \n",
       "1       685468139  "
      ]
     },
     "execution_count": 131,
     "metadata": {},
     "output_type": "execute_result"
    }
   ],
   "source": [
    "myTreemap = data2betested.loc[\"2009\":\"2021\"]\\\n",
    "    .groupby(['Jahr', 'HaeGrstTyp', 'Typ']) \\\n",
    "    .agg(sum_Anzahl_HAE=('Anzahl_HAE', 'sum'), sum_Totalm2=('Totalm2', 'sum'), sum_Umsatzwert=('Umsatzwert', 'sum')) \\\n",
    "    .sort_values('Jahr', ascending=False) \n",
    "myTreemap.reset_index().head(2)"
   ]
  },
  {
   "cell_type": "code",
   "execution_count": 139,
   "metadata": {
    "tags": []
   },
   "outputs": [
    {
     "data": {
      "application/vnd.plotly.v1+json": {
       "config": {
        "plotlyServerURL": "https://plot.ly"
       },
       "data": [
        {
         "branchvalues": "total",
         "customdata": [
          [
           204415231
          ],
          [
           524425385
          ],
          [
           672218400
          ],
          [
           408389000
          ],
          [
           24150000
          ],
          [
           236808820
          ],
          [
           532398455
          ],
          [
           2594739083
          ],
          [
           494822107.99999994
          ],
          [
           24150000
          ],
          [
           215829649
          ],
          [
           440476584
          ],
          [
           1016394503
          ],
          [
           657337655
          ],
          [
           7880000
          ],
          [
           212472361
          ],
          [
           265940844
          ],
          [
           968886643
          ],
          [
           429064638
          ],
          [
           16700000
          ],
          [
           209011467
          ],
          [
           566491786
          ],
          [
           1089007813
          ],
          [
           609908696
          ],
          [
           7250000
          ],
          [
           261896000
          ],
          [
           435077250
          ],
          [
           1543291806
          ],
          [
           815273756
          ],
          [
           218313487
          ],
          [
           512809590
          ],
          [
           946380561
          ],
          [
           419730272
          ],
          [
           7000000
          ],
          [
           336311784
          ],
          [
           1007713147
          ],
          [
           996653591
          ],
          [
           768286679.9999999
          ],
          [
           9800000
          ],
          [
           304347431
          ],
          [
           886907087
          ],
          [
           952407431.9999999
          ],
          [
           533321577
          ],
          [
           37230000
          ],
          [
           371742278
          ],
          [
           612101873
          ],
          [
           1604569481
          ],
          [
           618631127
          ],
          [
           12400000
          ],
          [
           383075707.99999994
          ],
          [
           952891517
          ],
          [
           1499240226
          ],
          [
           685468139
          ],
          [
           284406079.2020931
          ],
          [
           694818427.5858828
          ],
          [
           1465193209.3029616
          ],
          [
           616114375.8084502
          ],
          [
           22140180.131004367
          ],
          [
           989155639.5201437
          ],
          [
           989155639.5201437
          ]
         ],
         "domain": {
          "x": [
           0,
           1
          ],
          "y": [
           0,
           1
          ]
         },
         "hovertemplate": "labels=%{label}<br>sum_Umsatzwert_sum=%{value}<br>parent=%{parent}<br>id=%{id}<br>sum_Umsatzwert=%{color}<extra></extra>",
         "ids": [
          "Summe der Handänderungsumsatzwerte nach Typ, Handänderungsgrundstücktyp und Jahr seit 2009/ohne Stockwerkeigentum/Einfamilienhäuser/2011-01-01",
          "Summe der Handänderungsumsatzwerte nach Typ, Handänderungsgrundstücktyp und Jahr seit 2009/ohne Stockwerkeigentum/Mehrfamilienhäuser/2011-01-01",
          "Summe der Handänderungsumsatzwerte nach Typ, Handänderungsgrundstücktyp und Jahr seit 2009/ohne Stockwerkeigentum/Nutzbauten/2011-01-01",
          "Summe der Handänderungsumsatzwerte nach Typ, Handänderungsgrundstücktyp und Jahr seit 2009/ohne Stockwerkeigentum/Wohnhäuser mit Geschäftsräumen/2011-01-01",
          "Summe der Handänderungsumsatzwerte nach Typ, Handänderungsgrundstücktyp und Jahr seit 2009/ohne Stockwerkeigentum/übrige Wohnhäuser/2011-01-01",
          "Summe der Handänderungsumsatzwerte nach Typ, Handänderungsgrundstücktyp und Jahr seit 2009/ohne Stockwerkeigentum/Einfamilienhäuser/2012-01-01",
          "Summe der Handänderungsumsatzwerte nach Typ, Handänderungsgrundstücktyp und Jahr seit 2009/ohne Stockwerkeigentum/Mehrfamilienhäuser/2012-01-01",
          "Summe der Handänderungsumsatzwerte nach Typ, Handänderungsgrundstücktyp und Jahr seit 2009/ohne Stockwerkeigentum/Nutzbauten/2012-01-01",
          "Summe der Handänderungsumsatzwerte nach Typ, Handänderungsgrundstücktyp und Jahr seit 2009/ohne Stockwerkeigentum/Wohnhäuser mit Geschäftsräumen/2012-01-01",
          "Summe der Handänderungsumsatzwerte nach Typ, Handänderungsgrundstücktyp und Jahr seit 2009/ohne Stockwerkeigentum/übrige Wohnhäuser/2012-01-01",
          "Summe der Handänderungsumsatzwerte nach Typ, Handänderungsgrundstücktyp und Jahr seit 2009/ohne Stockwerkeigentum/Einfamilienhäuser/2013-01-01",
          "Summe der Handänderungsumsatzwerte nach Typ, Handänderungsgrundstücktyp und Jahr seit 2009/ohne Stockwerkeigentum/Mehrfamilienhäuser/2013-01-01",
          "Summe der Handänderungsumsatzwerte nach Typ, Handänderungsgrundstücktyp und Jahr seit 2009/ohne Stockwerkeigentum/Nutzbauten/2013-01-01",
          "Summe der Handänderungsumsatzwerte nach Typ, Handänderungsgrundstücktyp und Jahr seit 2009/ohne Stockwerkeigentum/Wohnhäuser mit Geschäftsräumen/2013-01-01",
          "Summe der Handänderungsumsatzwerte nach Typ, Handänderungsgrundstücktyp und Jahr seit 2009/ohne Stockwerkeigentum/übrige Wohnhäuser/2013-01-01",
          "Summe der Handänderungsumsatzwerte nach Typ, Handänderungsgrundstücktyp und Jahr seit 2009/ohne Stockwerkeigentum/Einfamilienhäuser/2014-01-01",
          "Summe der Handänderungsumsatzwerte nach Typ, Handänderungsgrundstücktyp und Jahr seit 2009/ohne Stockwerkeigentum/Mehrfamilienhäuser/2014-01-01",
          "Summe der Handänderungsumsatzwerte nach Typ, Handänderungsgrundstücktyp und Jahr seit 2009/ohne Stockwerkeigentum/Nutzbauten/2014-01-01",
          "Summe der Handänderungsumsatzwerte nach Typ, Handänderungsgrundstücktyp und Jahr seit 2009/ohne Stockwerkeigentum/Wohnhäuser mit Geschäftsräumen/2014-01-01",
          "Summe der Handänderungsumsatzwerte nach Typ, Handänderungsgrundstücktyp und Jahr seit 2009/ohne Stockwerkeigentum/übrige Wohnhäuser/2014-01-01",
          "Summe der Handänderungsumsatzwerte nach Typ, Handänderungsgrundstücktyp und Jahr seit 2009/ohne Stockwerkeigentum/Einfamilienhäuser/2015-01-01",
          "Summe der Handänderungsumsatzwerte nach Typ, Handänderungsgrundstücktyp und Jahr seit 2009/ohne Stockwerkeigentum/Mehrfamilienhäuser/2015-01-01",
          "Summe der Handänderungsumsatzwerte nach Typ, Handänderungsgrundstücktyp und Jahr seit 2009/ohne Stockwerkeigentum/Nutzbauten/2015-01-01",
          "Summe der Handänderungsumsatzwerte nach Typ, Handänderungsgrundstücktyp und Jahr seit 2009/ohne Stockwerkeigentum/Wohnhäuser mit Geschäftsräumen/2015-01-01",
          "Summe der Handänderungsumsatzwerte nach Typ, Handänderungsgrundstücktyp und Jahr seit 2009/ohne Stockwerkeigentum/übrige Wohnhäuser/2015-01-01",
          "Summe der Handänderungsumsatzwerte nach Typ, Handänderungsgrundstücktyp und Jahr seit 2009/ohne Stockwerkeigentum/Einfamilienhäuser/2016-01-01",
          "Summe der Handänderungsumsatzwerte nach Typ, Handänderungsgrundstücktyp und Jahr seit 2009/ohne Stockwerkeigentum/Mehrfamilienhäuser/2016-01-01",
          "Summe der Handänderungsumsatzwerte nach Typ, Handänderungsgrundstücktyp und Jahr seit 2009/ohne Stockwerkeigentum/Nutzbauten/2016-01-01",
          "Summe der Handänderungsumsatzwerte nach Typ, Handänderungsgrundstücktyp und Jahr seit 2009/ohne Stockwerkeigentum/Wohnhäuser mit Geschäftsräumen/2016-01-01",
          "Summe der Handänderungsumsatzwerte nach Typ, Handänderungsgrundstücktyp und Jahr seit 2009/ohne Stockwerkeigentum/Einfamilienhäuser/2017-01-01",
          "Summe der Handänderungsumsatzwerte nach Typ, Handänderungsgrundstücktyp und Jahr seit 2009/ohne Stockwerkeigentum/Mehrfamilienhäuser/2017-01-01",
          "Summe der Handänderungsumsatzwerte nach Typ, Handänderungsgrundstücktyp und Jahr seit 2009/ohne Stockwerkeigentum/Nutzbauten/2017-01-01",
          "Summe der Handänderungsumsatzwerte nach Typ, Handänderungsgrundstücktyp und Jahr seit 2009/ohne Stockwerkeigentum/Wohnhäuser mit Geschäftsräumen/2017-01-01",
          "Summe der Handänderungsumsatzwerte nach Typ, Handänderungsgrundstücktyp und Jahr seit 2009/ohne Stockwerkeigentum/übrige Wohnhäuser/2017-01-01",
          "Summe der Handänderungsumsatzwerte nach Typ, Handänderungsgrundstücktyp und Jahr seit 2009/ohne Stockwerkeigentum/Einfamilienhäuser/2018-01-01",
          "Summe der Handänderungsumsatzwerte nach Typ, Handänderungsgrundstücktyp und Jahr seit 2009/ohne Stockwerkeigentum/Mehrfamilienhäuser/2018-01-01",
          "Summe der Handänderungsumsatzwerte nach Typ, Handänderungsgrundstücktyp und Jahr seit 2009/ohne Stockwerkeigentum/Nutzbauten/2018-01-01",
          "Summe der Handänderungsumsatzwerte nach Typ, Handänderungsgrundstücktyp und Jahr seit 2009/ohne Stockwerkeigentum/Wohnhäuser mit Geschäftsräumen/2018-01-01",
          "Summe der Handänderungsumsatzwerte nach Typ, Handänderungsgrundstücktyp und Jahr seit 2009/ohne Stockwerkeigentum/übrige Wohnhäuser/2018-01-01",
          "Summe der Handänderungsumsatzwerte nach Typ, Handänderungsgrundstücktyp und Jahr seit 2009/ohne Stockwerkeigentum/Einfamilienhäuser/2019-01-01",
          "Summe der Handänderungsumsatzwerte nach Typ, Handänderungsgrundstücktyp und Jahr seit 2009/ohne Stockwerkeigentum/Mehrfamilienhäuser/2019-01-01",
          "Summe der Handänderungsumsatzwerte nach Typ, Handänderungsgrundstücktyp und Jahr seit 2009/ohne Stockwerkeigentum/Nutzbauten/2019-01-01",
          "Summe der Handänderungsumsatzwerte nach Typ, Handänderungsgrundstücktyp und Jahr seit 2009/ohne Stockwerkeigentum/Wohnhäuser mit Geschäftsräumen/2019-01-01",
          "Summe der Handänderungsumsatzwerte nach Typ, Handänderungsgrundstücktyp und Jahr seit 2009/ohne Stockwerkeigentum/übrige Wohnhäuser/2019-01-01",
          "Summe der Handänderungsumsatzwerte nach Typ, Handänderungsgrundstücktyp und Jahr seit 2009/ohne Stockwerkeigentum/Einfamilienhäuser/2020-01-01",
          "Summe der Handänderungsumsatzwerte nach Typ, Handänderungsgrundstücktyp und Jahr seit 2009/ohne Stockwerkeigentum/Mehrfamilienhäuser/2020-01-01",
          "Summe der Handänderungsumsatzwerte nach Typ, Handänderungsgrundstücktyp und Jahr seit 2009/ohne Stockwerkeigentum/Nutzbauten/2020-01-01",
          "Summe der Handänderungsumsatzwerte nach Typ, Handänderungsgrundstücktyp und Jahr seit 2009/ohne Stockwerkeigentum/Wohnhäuser mit Geschäftsräumen/2020-01-01",
          "Summe der Handänderungsumsatzwerte nach Typ, Handänderungsgrundstücktyp und Jahr seit 2009/ohne Stockwerkeigentum/übrige Wohnhäuser/2020-01-01",
          "Summe der Handänderungsumsatzwerte nach Typ, Handänderungsgrundstücktyp und Jahr seit 2009/ohne Stockwerkeigentum/Einfamilienhäuser/2021-01-01",
          "Summe der Handänderungsumsatzwerte nach Typ, Handänderungsgrundstücktyp und Jahr seit 2009/ohne Stockwerkeigentum/Mehrfamilienhäuser/2021-01-01",
          "Summe der Handänderungsumsatzwerte nach Typ, Handänderungsgrundstücktyp und Jahr seit 2009/ohne Stockwerkeigentum/Nutzbauten/2021-01-01",
          "Summe der Handänderungsumsatzwerte nach Typ, Handänderungsgrundstücktyp und Jahr seit 2009/ohne Stockwerkeigentum/Wohnhäuser mit Geschäftsräumen/2021-01-01",
          "Summe der Handänderungsumsatzwerte nach Typ, Handänderungsgrundstücktyp und Jahr seit 2009/ohne Stockwerkeigentum/Einfamilienhäuser",
          "Summe der Handänderungsumsatzwerte nach Typ, Handänderungsgrundstücktyp und Jahr seit 2009/ohne Stockwerkeigentum/Mehrfamilienhäuser",
          "Summe der Handänderungsumsatzwerte nach Typ, Handänderungsgrundstücktyp und Jahr seit 2009/ohne Stockwerkeigentum/Nutzbauten",
          "Summe der Handänderungsumsatzwerte nach Typ, Handänderungsgrundstücktyp und Jahr seit 2009/ohne Stockwerkeigentum/Wohnhäuser mit Geschäftsräumen",
          "Summe der Handänderungsumsatzwerte nach Typ, Handänderungsgrundstücktyp und Jahr seit 2009/ohne Stockwerkeigentum/übrige Wohnhäuser",
          "Summe der Handänderungsumsatzwerte nach Typ, Handänderungsgrundstücktyp und Jahr seit 2009/ohne Stockwerkeigentum",
          "Summe der Handänderungsumsatzwerte nach Typ, Handänderungsgrundstücktyp und Jahr seit 2009"
         ],
         "labels": [
          "2011-01-01",
          "2011-01-01",
          "2011-01-01",
          "2011-01-01",
          "2011-01-01",
          "2012-01-01",
          "2012-01-01",
          "2012-01-01",
          "2012-01-01",
          "2012-01-01",
          "2013-01-01",
          "2013-01-01",
          "2013-01-01",
          "2013-01-01",
          "2013-01-01",
          "2014-01-01",
          "2014-01-01",
          "2014-01-01",
          "2014-01-01",
          "2014-01-01",
          "2015-01-01",
          "2015-01-01",
          "2015-01-01",
          "2015-01-01",
          "2015-01-01",
          "2016-01-01",
          "2016-01-01",
          "2016-01-01",
          "2016-01-01",
          "2017-01-01",
          "2017-01-01",
          "2017-01-01",
          "2017-01-01",
          "2017-01-01",
          "2018-01-01",
          "2018-01-01",
          "2018-01-01",
          "2018-01-01",
          "2018-01-01",
          "2019-01-01",
          "2019-01-01",
          "2019-01-01",
          "2019-01-01",
          "2019-01-01",
          "2020-01-01",
          "2020-01-01",
          "2020-01-01",
          "2020-01-01",
          "2020-01-01",
          "2021-01-01",
          "2021-01-01",
          "2021-01-01",
          "2021-01-01",
          "Einfamilienhäuser",
          "Mehrfamilienhäuser",
          "Nutzbauten",
          "Wohnhäuser mit Geschäftsräumen",
          "übrige Wohnhäuser",
          "ohne Stockwerkeigentum",
          "Summe der Handänderungsumsatzwerte nach Typ, Handänderungsgrundstücktyp und Jahr seit 2009"
         ],
         "marker": {
          "coloraxis": "coloraxis",
          "colors": [
           204415231,
           524425385,
           672218400,
           408389000,
           24150000,
           236808820,
           532398455,
           2594739083,
           494822107.99999994,
           24150000,
           215829649,
           440476584,
           1016394503,
           657337655,
           7880000,
           212472361,
           265940844,
           968886643,
           429064638,
           16700000,
           209011467,
           566491786,
           1089007813,
           609908696,
           7250000,
           261896000,
           435077250,
           1543291806,
           815273756,
           218313487,
           512809590,
           946380561,
           419730272,
           7000000,
           336311784,
           1007713147,
           996653591,
           768286679.9999999,
           9800000,
           304347431,
           886907087,
           952407431.9999999,
           533321577,
           37230000,
           371742278,
           612101873,
           1604569481,
           618631127,
           12400000,
           383075707.99999994,
           952891517,
           1499240226,
           685468139,
           284406079.2020931,
           694818427.5858828,
           1465193209.3029616,
           616114375.8084502,
           22140180.131004367,
           989155639.5201437,
           989155639.5201437
          ]
         },
         "name": "",
         "parents": [
          "Summe der Handänderungsumsatzwerte nach Typ, Handänderungsgrundstücktyp und Jahr seit 2009/ohne Stockwerkeigentum/Einfamilienhäuser",
          "Summe der Handänderungsumsatzwerte nach Typ, Handänderungsgrundstücktyp und Jahr seit 2009/ohne Stockwerkeigentum/Mehrfamilienhäuser",
          "Summe der Handänderungsumsatzwerte nach Typ, Handänderungsgrundstücktyp und Jahr seit 2009/ohne Stockwerkeigentum/Nutzbauten",
          "Summe der Handänderungsumsatzwerte nach Typ, Handänderungsgrundstücktyp und Jahr seit 2009/ohne Stockwerkeigentum/Wohnhäuser mit Geschäftsräumen",
          "Summe der Handänderungsumsatzwerte nach Typ, Handänderungsgrundstücktyp und Jahr seit 2009/ohne Stockwerkeigentum/übrige Wohnhäuser",
          "Summe der Handänderungsumsatzwerte nach Typ, Handänderungsgrundstücktyp und Jahr seit 2009/ohne Stockwerkeigentum/Einfamilienhäuser",
          "Summe der Handänderungsumsatzwerte nach Typ, Handänderungsgrundstücktyp und Jahr seit 2009/ohne Stockwerkeigentum/Mehrfamilienhäuser",
          "Summe der Handänderungsumsatzwerte nach Typ, Handänderungsgrundstücktyp und Jahr seit 2009/ohne Stockwerkeigentum/Nutzbauten",
          "Summe der Handänderungsumsatzwerte nach Typ, Handänderungsgrundstücktyp und Jahr seit 2009/ohne Stockwerkeigentum/Wohnhäuser mit Geschäftsräumen",
          "Summe der Handänderungsumsatzwerte nach Typ, Handänderungsgrundstücktyp und Jahr seit 2009/ohne Stockwerkeigentum/übrige Wohnhäuser",
          "Summe der Handänderungsumsatzwerte nach Typ, Handänderungsgrundstücktyp und Jahr seit 2009/ohne Stockwerkeigentum/Einfamilienhäuser",
          "Summe der Handänderungsumsatzwerte nach Typ, Handänderungsgrundstücktyp und Jahr seit 2009/ohne Stockwerkeigentum/Mehrfamilienhäuser",
          "Summe der Handänderungsumsatzwerte nach Typ, Handänderungsgrundstücktyp und Jahr seit 2009/ohne Stockwerkeigentum/Nutzbauten",
          "Summe der Handänderungsumsatzwerte nach Typ, Handänderungsgrundstücktyp und Jahr seit 2009/ohne Stockwerkeigentum/Wohnhäuser mit Geschäftsräumen",
          "Summe der Handänderungsumsatzwerte nach Typ, Handänderungsgrundstücktyp und Jahr seit 2009/ohne Stockwerkeigentum/übrige Wohnhäuser",
          "Summe der Handänderungsumsatzwerte nach Typ, Handänderungsgrundstücktyp und Jahr seit 2009/ohne Stockwerkeigentum/Einfamilienhäuser",
          "Summe der Handänderungsumsatzwerte nach Typ, Handänderungsgrundstücktyp und Jahr seit 2009/ohne Stockwerkeigentum/Mehrfamilienhäuser",
          "Summe der Handänderungsumsatzwerte nach Typ, Handänderungsgrundstücktyp und Jahr seit 2009/ohne Stockwerkeigentum/Nutzbauten",
          "Summe der Handänderungsumsatzwerte nach Typ, Handänderungsgrundstücktyp und Jahr seit 2009/ohne Stockwerkeigentum/Wohnhäuser mit Geschäftsräumen",
          "Summe der Handänderungsumsatzwerte nach Typ, Handänderungsgrundstücktyp und Jahr seit 2009/ohne Stockwerkeigentum/übrige Wohnhäuser",
          "Summe der Handänderungsumsatzwerte nach Typ, Handänderungsgrundstücktyp und Jahr seit 2009/ohne Stockwerkeigentum/Einfamilienhäuser",
          "Summe der Handänderungsumsatzwerte nach Typ, Handänderungsgrundstücktyp und Jahr seit 2009/ohne Stockwerkeigentum/Mehrfamilienhäuser",
          "Summe der Handänderungsumsatzwerte nach Typ, Handänderungsgrundstücktyp und Jahr seit 2009/ohne Stockwerkeigentum/Nutzbauten",
          "Summe der Handänderungsumsatzwerte nach Typ, Handänderungsgrundstücktyp und Jahr seit 2009/ohne Stockwerkeigentum/Wohnhäuser mit Geschäftsräumen",
          "Summe der Handänderungsumsatzwerte nach Typ, Handänderungsgrundstücktyp und Jahr seit 2009/ohne Stockwerkeigentum/übrige Wohnhäuser",
          "Summe der Handänderungsumsatzwerte nach Typ, Handänderungsgrundstücktyp und Jahr seit 2009/ohne Stockwerkeigentum/Einfamilienhäuser",
          "Summe der Handänderungsumsatzwerte nach Typ, Handänderungsgrundstücktyp und Jahr seit 2009/ohne Stockwerkeigentum/Mehrfamilienhäuser",
          "Summe der Handänderungsumsatzwerte nach Typ, Handänderungsgrundstücktyp und Jahr seit 2009/ohne Stockwerkeigentum/Nutzbauten",
          "Summe der Handänderungsumsatzwerte nach Typ, Handänderungsgrundstücktyp und Jahr seit 2009/ohne Stockwerkeigentum/Wohnhäuser mit Geschäftsräumen",
          "Summe der Handänderungsumsatzwerte nach Typ, Handänderungsgrundstücktyp und Jahr seit 2009/ohne Stockwerkeigentum/Einfamilienhäuser",
          "Summe der Handänderungsumsatzwerte nach Typ, Handänderungsgrundstücktyp und Jahr seit 2009/ohne Stockwerkeigentum/Mehrfamilienhäuser",
          "Summe der Handänderungsumsatzwerte nach Typ, Handänderungsgrundstücktyp und Jahr seit 2009/ohne Stockwerkeigentum/Nutzbauten",
          "Summe der Handänderungsumsatzwerte nach Typ, Handänderungsgrundstücktyp und Jahr seit 2009/ohne Stockwerkeigentum/Wohnhäuser mit Geschäftsräumen",
          "Summe der Handänderungsumsatzwerte nach Typ, Handänderungsgrundstücktyp und Jahr seit 2009/ohne Stockwerkeigentum/übrige Wohnhäuser",
          "Summe der Handänderungsumsatzwerte nach Typ, Handänderungsgrundstücktyp und Jahr seit 2009/ohne Stockwerkeigentum/Einfamilienhäuser",
          "Summe der Handänderungsumsatzwerte nach Typ, Handänderungsgrundstücktyp und Jahr seit 2009/ohne Stockwerkeigentum/Mehrfamilienhäuser",
          "Summe der Handänderungsumsatzwerte nach Typ, Handänderungsgrundstücktyp und Jahr seit 2009/ohne Stockwerkeigentum/Nutzbauten",
          "Summe der Handänderungsumsatzwerte nach Typ, Handänderungsgrundstücktyp und Jahr seit 2009/ohne Stockwerkeigentum/Wohnhäuser mit Geschäftsräumen",
          "Summe der Handänderungsumsatzwerte nach Typ, Handänderungsgrundstücktyp und Jahr seit 2009/ohne Stockwerkeigentum/übrige Wohnhäuser",
          "Summe der Handänderungsumsatzwerte nach Typ, Handänderungsgrundstücktyp und Jahr seit 2009/ohne Stockwerkeigentum/Einfamilienhäuser",
          "Summe der Handänderungsumsatzwerte nach Typ, Handänderungsgrundstücktyp und Jahr seit 2009/ohne Stockwerkeigentum/Mehrfamilienhäuser",
          "Summe der Handänderungsumsatzwerte nach Typ, Handänderungsgrundstücktyp und Jahr seit 2009/ohne Stockwerkeigentum/Nutzbauten",
          "Summe der Handänderungsumsatzwerte nach Typ, Handänderungsgrundstücktyp und Jahr seit 2009/ohne Stockwerkeigentum/Wohnhäuser mit Geschäftsräumen",
          "Summe der Handänderungsumsatzwerte nach Typ, Handänderungsgrundstücktyp und Jahr seit 2009/ohne Stockwerkeigentum/übrige Wohnhäuser",
          "Summe der Handänderungsumsatzwerte nach Typ, Handänderungsgrundstücktyp und Jahr seit 2009/ohne Stockwerkeigentum/Einfamilienhäuser",
          "Summe der Handänderungsumsatzwerte nach Typ, Handänderungsgrundstücktyp und Jahr seit 2009/ohne Stockwerkeigentum/Mehrfamilienhäuser",
          "Summe der Handänderungsumsatzwerte nach Typ, Handänderungsgrundstücktyp und Jahr seit 2009/ohne Stockwerkeigentum/Nutzbauten",
          "Summe der Handänderungsumsatzwerte nach Typ, Handänderungsgrundstücktyp und Jahr seit 2009/ohne Stockwerkeigentum/Wohnhäuser mit Geschäftsräumen",
          "Summe der Handänderungsumsatzwerte nach Typ, Handänderungsgrundstücktyp und Jahr seit 2009/ohne Stockwerkeigentum/übrige Wohnhäuser",
          "Summe der Handänderungsumsatzwerte nach Typ, Handänderungsgrundstücktyp und Jahr seit 2009/ohne Stockwerkeigentum/Einfamilienhäuser",
          "Summe der Handänderungsumsatzwerte nach Typ, Handänderungsgrundstücktyp und Jahr seit 2009/ohne Stockwerkeigentum/Mehrfamilienhäuser",
          "Summe der Handänderungsumsatzwerte nach Typ, Handänderungsgrundstücktyp und Jahr seit 2009/ohne Stockwerkeigentum/Nutzbauten",
          "Summe der Handänderungsumsatzwerte nach Typ, Handänderungsgrundstücktyp und Jahr seit 2009/ohne Stockwerkeigentum/Wohnhäuser mit Geschäftsräumen",
          "Summe der Handänderungsumsatzwerte nach Typ, Handänderungsgrundstücktyp und Jahr seit 2009/ohne Stockwerkeigentum",
          "Summe der Handänderungsumsatzwerte nach Typ, Handänderungsgrundstücktyp und Jahr seit 2009/ohne Stockwerkeigentum",
          "Summe der Handänderungsumsatzwerte nach Typ, Handänderungsgrundstücktyp und Jahr seit 2009/ohne Stockwerkeigentum",
          "Summe der Handänderungsumsatzwerte nach Typ, Handänderungsgrundstücktyp und Jahr seit 2009/ohne Stockwerkeigentum",
          "Summe der Handänderungsumsatzwerte nach Typ, Handänderungsgrundstücktyp und Jahr seit 2009/ohne Stockwerkeigentum",
          "Summe der Handänderungsumsatzwerte nach Typ, Handänderungsgrundstücktyp und Jahr seit 2009",
          ""
         ],
         "root": {
          "color": "grey"
         },
         "type": "treemap",
         "values": [
          204415231,
          524425385,
          672218400,
          408389000,
          24150000,
          236808820,
          532398455,
          2594739083,
          494822108,
          24150000,
          215829649,
          440476584,
          1016394503,
          657337655,
          7880000,
          212472361,
          265940844,
          968886643,
          429064638,
          16700000,
          209011467,
          566491786,
          1089007813,
          609908696,
          7250000,
          261896000,
          435077250,
          1543291806,
          815273756,
          218313487,
          512809590,
          946380561,
          419730272,
          7000000,
          336311784,
          1007713147,
          996653591,
          768286680,
          9800000,
          304347431,
          886907087,
          952407432,
          533321577,
          37230000,
          371742278,
          612101873,
          1604569481,
          618631127,
          12400000,
          383075708,
          952891517,
          1499240226,
          685468139,
          2954224216,
          6737233518,
          13883789539,
          6440233648,
          146560000,
          30162040921,
          30162040921
         ]
        }
       ],
       "layout": {
        "coloraxis": {
         "colorbar": {
          "title": {
           "text": "sum_Umsatzwert"
          }
         },
         "colorscale": [
          [
           0,
           "#440154"
          ],
          [
           0.1111111111111111,
           "#482878"
          ],
          [
           0.2222222222222222,
           "#3e4989"
          ],
          [
           0.3333333333333333,
           "#31688e"
          ],
          [
           0.4444444444444444,
           "#26828e"
          ],
          [
           0.5555555555555556,
           "#1f9e89"
          ],
          [
           0.6666666666666666,
           "#35b779"
          ],
          [
           0.7777777777777778,
           "#6ece58"
          ],
          [
           0.8888888888888888,
           "#b5de2b"
          ],
          [
           1,
           "#fde725"
          ]
         ]
        },
        "height": 500,
        "legend": {
         "tracegroupgap": 0
        },
        "margin": {
         "b": 25,
         "l": 25,
         "r": 250,
         "t": 50
        },
        "template": {
         "data": {
          "bar": [
           {
            "error_x": {
             "color": "#2a3f5f"
            },
            "error_y": {
             "color": "#2a3f5f"
            },
            "marker": {
             "line": {
              "color": "#E5ECF6",
              "width": 0.5
             },
             "pattern": {
              "fillmode": "overlay",
              "size": 10,
              "solidity": 0.2
             }
            },
            "type": "bar"
           }
          ],
          "barpolar": [
           {
            "marker": {
             "line": {
              "color": "#E5ECF6",
              "width": 0.5
             },
             "pattern": {
              "fillmode": "overlay",
              "size": 10,
              "solidity": 0.2
             }
            },
            "type": "barpolar"
           }
          ],
          "carpet": [
           {
            "aaxis": {
             "endlinecolor": "#2a3f5f",
             "gridcolor": "white",
             "linecolor": "white",
             "minorgridcolor": "white",
             "startlinecolor": "#2a3f5f"
            },
            "baxis": {
             "endlinecolor": "#2a3f5f",
             "gridcolor": "white",
             "linecolor": "white",
             "minorgridcolor": "white",
             "startlinecolor": "#2a3f5f"
            },
            "type": "carpet"
           }
          ],
          "choropleth": [
           {
            "colorbar": {
             "outlinewidth": 0,
             "ticks": ""
            },
            "type": "choropleth"
           }
          ],
          "contour": [
           {
            "colorbar": {
             "outlinewidth": 0,
             "ticks": ""
            },
            "colorscale": [
             [
              0,
              "#0d0887"
             ],
             [
              0.1111111111111111,
              "#46039f"
             ],
             [
              0.2222222222222222,
              "#7201a8"
             ],
             [
              0.3333333333333333,
              "#9c179e"
             ],
             [
              0.4444444444444444,
              "#bd3786"
             ],
             [
              0.5555555555555556,
              "#d8576b"
             ],
             [
              0.6666666666666666,
              "#ed7953"
             ],
             [
              0.7777777777777778,
              "#fb9f3a"
             ],
             [
              0.8888888888888888,
              "#fdca26"
             ],
             [
              1,
              "#f0f921"
             ]
            ],
            "type": "contour"
           }
          ],
          "contourcarpet": [
           {
            "colorbar": {
             "outlinewidth": 0,
             "ticks": ""
            },
            "type": "contourcarpet"
           }
          ],
          "heatmap": [
           {
            "colorbar": {
             "outlinewidth": 0,
             "ticks": ""
            },
            "colorscale": [
             [
              0,
              "#0d0887"
             ],
             [
              0.1111111111111111,
              "#46039f"
             ],
             [
              0.2222222222222222,
              "#7201a8"
             ],
             [
              0.3333333333333333,
              "#9c179e"
             ],
             [
              0.4444444444444444,
              "#bd3786"
             ],
             [
              0.5555555555555556,
              "#d8576b"
             ],
             [
              0.6666666666666666,
              "#ed7953"
             ],
             [
              0.7777777777777778,
              "#fb9f3a"
             ],
             [
              0.8888888888888888,
              "#fdca26"
             ],
             [
              1,
              "#f0f921"
             ]
            ],
            "type": "heatmap"
           }
          ],
          "heatmapgl": [
           {
            "colorbar": {
             "outlinewidth": 0,
             "ticks": ""
            },
            "colorscale": [
             [
              0,
              "#0d0887"
             ],
             [
              0.1111111111111111,
              "#46039f"
             ],
             [
              0.2222222222222222,
              "#7201a8"
             ],
             [
              0.3333333333333333,
              "#9c179e"
             ],
             [
              0.4444444444444444,
              "#bd3786"
             ],
             [
              0.5555555555555556,
              "#d8576b"
             ],
             [
              0.6666666666666666,
              "#ed7953"
             ],
             [
              0.7777777777777778,
              "#fb9f3a"
             ],
             [
              0.8888888888888888,
              "#fdca26"
             ],
             [
              1,
              "#f0f921"
             ]
            ],
            "type": "heatmapgl"
           }
          ],
          "histogram": [
           {
            "marker": {
             "pattern": {
              "fillmode": "overlay",
              "size": 10,
              "solidity": 0.2
             }
            },
            "type": "histogram"
           }
          ],
          "histogram2d": [
           {
            "colorbar": {
             "outlinewidth": 0,
             "ticks": ""
            },
            "colorscale": [
             [
              0,
              "#0d0887"
             ],
             [
              0.1111111111111111,
              "#46039f"
             ],
             [
              0.2222222222222222,
              "#7201a8"
             ],
             [
              0.3333333333333333,
              "#9c179e"
             ],
             [
              0.4444444444444444,
              "#bd3786"
             ],
             [
              0.5555555555555556,
              "#d8576b"
             ],
             [
              0.6666666666666666,
              "#ed7953"
             ],
             [
              0.7777777777777778,
              "#fb9f3a"
             ],
             [
              0.8888888888888888,
              "#fdca26"
             ],
             [
              1,
              "#f0f921"
             ]
            ],
            "type": "histogram2d"
           }
          ],
          "histogram2dcontour": [
           {
            "colorbar": {
             "outlinewidth": 0,
             "ticks": ""
            },
            "colorscale": [
             [
              0,
              "#0d0887"
             ],
             [
              0.1111111111111111,
              "#46039f"
             ],
             [
              0.2222222222222222,
              "#7201a8"
             ],
             [
              0.3333333333333333,
              "#9c179e"
             ],
             [
              0.4444444444444444,
              "#bd3786"
             ],
             [
              0.5555555555555556,
              "#d8576b"
             ],
             [
              0.6666666666666666,
              "#ed7953"
             ],
             [
              0.7777777777777778,
              "#fb9f3a"
             ],
             [
              0.8888888888888888,
              "#fdca26"
             ],
             [
              1,
              "#f0f921"
             ]
            ],
            "type": "histogram2dcontour"
           }
          ],
          "mesh3d": [
           {
            "colorbar": {
             "outlinewidth": 0,
             "ticks": ""
            },
            "type": "mesh3d"
           }
          ],
          "parcoords": [
           {
            "line": {
             "colorbar": {
              "outlinewidth": 0,
              "ticks": ""
             }
            },
            "type": "parcoords"
           }
          ],
          "pie": [
           {
            "automargin": true,
            "type": "pie"
           }
          ],
          "scatter": [
           {
            "marker": {
             "colorbar": {
              "outlinewidth": 0,
              "ticks": ""
             }
            },
            "type": "scatter"
           }
          ],
          "scatter3d": [
           {
            "line": {
             "colorbar": {
              "outlinewidth": 0,
              "ticks": ""
             }
            },
            "marker": {
             "colorbar": {
              "outlinewidth": 0,
              "ticks": ""
             }
            },
            "type": "scatter3d"
           }
          ],
          "scattercarpet": [
           {
            "marker": {
             "colorbar": {
              "outlinewidth": 0,
              "ticks": ""
             }
            },
            "type": "scattercarpet"
           }
          ],
          "scattergeo": [
           {
            "marker": {
             "colorbar": {
              "outlinewidth": 0,
              "ticks": ""
             }
            },
            "type": "scattergeo"
           }
          ],
          "scattergl": [
           {
            "marker": {
             "colorbar": {
              "outlinewidth": 0,
              "ticks": ""
             }
            },
            "type": "scattergl"
           }
          ],
          "scattermapbox": [
           {
            "marker": {
             "colorbar": {
              "outlinewidth": 0,
              "ticks": ""
             }
            },
            "type": "scattermapbox"
           }
          ],
          "scatterpolar": [
           {
            "marker": {
             "colorbar": {
              "outlinewidth": 0,
              "ticks": ""
             }
            },
            "type": "scatterpolar"
           }
          ],
          "scatterpolargl": [
           {
            "marker": {
             "colorbar": {
              "outlinewidth": 0,
              "ticks": ""
             }
            },
            "type": "scatterpolargl"
           }
          ],
          "scatterternary": [
           {
            "marker": {
             "colorbar": {
              "outlinewidth": 0,
              "ticks": ""
             }
            },
            "type": "scatterternary"
           }
          ],
          "surface": [
           {
            "colorbar": {
             "outlinewidth": 0,
             "ticks": ""
            },
            "colorscale": [
             [
              0,
              "#0d0887"
             ],
             [
              0.1111111111111111,
              "#46039f"
             ],
             [
              0.2222222222222222,
              "#7201a8"
             ],
             [
              0.3333333333333333,
              "#9c179e"
             ],
             [
              0.4444444444444444,
              "#bd3786"
             ],
             [
              0.5555555555555556,
              "#d8576b"
             ],
             [
              0.6666666666666666,
              "#ed7953"
             ],
             [
              0.7777777777777778,
              "#fb9f3a"
             ],
             [
              0.8888888888888888,
              "#fdca26"
             ],
             [
              1,
              "#f0f921"
             ]
            ],
            "type": "surface"
           }
          ],
          "table": [
           {
            "cells": {
             "fill": {
              "color": "#EBF0F8"
             },
             "line": {
              "color": "white"
             }
            },
            "header": {
             "fill": {
              "color": "#C8D4E3"
             },
             "line": {
              "color": "white"
             }
            },
            "type": "table"
           }
          ]
         },
         "layout": {
          "annotationdefaults": {
           "arrowcolor": "#2a3f5f",
           "arrowhead": 0,
           "arrowwidth": 1
          },
          "autotypenumbers": "strict",
          "coloraxis": {
           "colorbar": {
            "outlinewidth": 0,
            "ticks": ""
           }
          },
          "colorscale": {
           "diverging": [
            [
             0,
             "#8e0152"
            ],
            [
             0.1,
             "#c51b7d"
            ],
            [
             0.2,
             "#de77ae"
            ],
            [
             0.3,
             "#f1b6da"
            ],
            [
             0.4,
             "#fde0ef"
            ],
            [
             0.5,
             "#f7f7f7"
            ],
            [
             0.6,
             "#e6f5d0"
            ],
            [
             0.7,
             "#b8e186"
            ],
            [
             0.8,
             "#7fbc41"
            ],
            [
             0.9,
             "#4d9221"
            ],
            [
             1,
             "#276419"
            ]
           ],
           "sequential": [
            [
             0,
             "#0d0887"
            ],
            [
             0.1111111111111111,
             "#46039f"
            ],
            [
             0.2222222222222222,
             "#7201a8"
            ],
            [
             0.3333333333333333,
             "#9c179e"
            ],
            [
             0.4444444444444444,
             "#bd3786"
            ],
            [
             0.5555555555555556,
             "#d8576b"
            ],
            [
             0.6666666666666666,
             "#ed7953"
            ],
            [
             0.7777777777777778,
             "#fb9f3a"
            ],
            [
             0.8888888888888888,
             "#fdca26"
            ],
            [
             1,
             "#f0f921"
            ]
           ],
           "sequentialminus": [
            [
             0,
             "#0d0887"
            ],
            [
             0.1111111111111111,
             "#46039f"
            ],
            [
             0.2222222222222222,
             "#7201a8"
            ],
            [
             0.3333333333333333,
             "#9c179e"
            ],
            [
             0.4444444444444444,
             "#bd3786"
            ],
            [
             0.5555555555555556,
             "#d8576b"
            ],
            [
             0.6666666666666666,
             "#ed7953"
            ],
            [
             0.7777777777777778,
             "#fb9f3a"
            ],
            [
             0.8888888888888888,
             "#fdca26"
            ],
            [
             1,
             "#f0f921"
            ]
           ]
          },
          "colorway": [
           "#636efa",
           "#EF553B",
           "#00cc96",
           "#ab63fa",
           "#FFA15A",
           "#19d3f3",
           "#FF6692",
           "#B6E880",
           "#FF97FF",
           "#FECB52"
          ],
          "font": {
           "color": "#2a3f5f"
          },
          "geo": {
           "bgcolor": "white",
           "lakecolor": "white",
           "landcolor": "#E5ECF6",
           "showlakes": true,
           "showland": true,
           "subunitcolor": "white"
          },
          "hoverlabel": {
           "align": "left"
          },
          "hovermode": "closest",
          "mapbox": {
           "style": "light"
          },
          "paper_bgcolor": "white",
          "plot_bgcolor": "#E5ECF6",
          "polar": {
           "angularaxis": {
            "gridcolor": "white",
            "linecolor": "white",
            "ticks": ""
           },
           "bgcolor": "#E5ECF6",
           "radialaxis": {
            "gridcolor": "white",
            "linecolor": "white",
            "ticks": ""
           }
          },
          "scene": {
           "xaxis": {
            "backgroundcolor": "#E5ECF6",
            "gridcolor": "white",
            "gridwidth": 2,
            "linecolor": "white",
            "showbackground": true,
            "ticks": "",
            "zerolinecolor": "white"
           },
           "yaxis": {
            "backgroundcolor": "#E5ECF6",
            "gridcolor": "white",
            "gridwidth": 2,
            "linecolor": "white",
            "showbackground": true,
            "ticks": "",
            "zerolinecolor": "white"
           },
           "zaxis": {
            "backgroundcolor": "#E5ECF6",
            "gridcolor": "white",
            "gridwidth": 2,
            "linecolor": "white",
            "showbackground": true,
            "ticks": "",
            "zerolinecolor": "white"
           }
          },
          "shapedefaults": {
           "line": {
            "color": "#2a3f5f"
           }
          },
          "ternary": {
           "aaxis": {
            "gridcolor": "white",
            "linecolor": "white",
            "ticks": ""
           },
           "baxis": {
            "gridcolor": "white",
            "linecolor": "white",
            "ticks": ""
           },
           "bgcolor": "#E5ECF6",
           "caxis": {
            "gridcolor": "white",
            "linecolor": "white",
            "ticks": ""
           }
          },
          "title": {
           "x": 0.05
          },
          "xaxis": {
           "automargin": true,
           "gridcolor": "white",
           "linecolor": "white",
           "ticks": "",
           "title": {
            "standoff": 15
           },
           "zerolinecolor": "white",
           "zerolinewidth": 2
          },
          "yaxis": {
           "automargin": true,
           "gridcolor": "white",
           "linecolor": "white",
           "ticks": "",
           "title": {
            "standoff": 15
           },
           "zerolinecolor": "white",
           "zerolinewidth": 2
          }
         }
        },
        "width": 1100
       }
      },
      "image/png": "[encoded data removed]",
      "text/html": [
       "<div>                            <div id=\"2dfef4da-5fbf-4ccf-86ac-d17217d700b1\" class=\"plotly-graph-div\" style=\"height:500px; width:1100px;\"></div>            <script type=\"text/javascript\">                require([\"plotly\"], function(Plotly) {                    window.PLOTLYENV=window.PLOTLYENV || {};                                    if (document.getElementById(\"2dfef4da-5fbf-4ccf-86ac-d17217d700b1\")) {                    Plotly.newPlot(                        \"2dfef4da-5fbf-4ccf-86ac-d17217d700b1\",                        [{\"branchvalues\":\"total\",\"customdata\":[[204415231.0],[524425385.0],[672218400.0],[408389000.0],[24150000.0],[236808820.0],[532398455.0],[2594739083.0],[494822107.99999994],[24150000.0],[215829649.0],[440476584.0],[1016394503.0],[657337655.0],[7880000.0],[212472361.0],[265940844.0],[968886643.0],[429064638.0],[16700000.0],[209011467.0],[566491786.0],[1089007813.0],[609908696.0],[7250000.0],[261896000.0],[435077250.0],[1543291806.0],[815273756.0],[218313487.0],[512809590.0],[946380561.0],[419730272.0],[7000000.0],[336311784.0],[1007713147.0],[996653591.0],[768286679.9999999],[9800000.0],[304347431.0],[886907087.0],[952407431.9999999],[533321577.0],[37230000.0],[371742278.0],[612101873.0],[1604569481.0],[618631127.0],[12400000.0],[383075707.99999994],[952891517.0],[1499240226.0],[685468139.0],[284406079.2020931],[694818427.5858828],[1465193209.3029616],[616114375.8084502],[22140180.131004367],[989155639.5201437],[989155639.5201437]],\"domain\":{\"x\":[0.0,1.0],\"y\":[0.0,1.0]},\"hovertemplate\":\"labels=%{label}<br>sum_Umsatzwert_sum=%{value}<br>parent=%{parent}<br>id=%{id}<br>sum_Umsatzwert=%{color}<extra></extra>\",\"ids\":[\"Summe der Hand\\u00e4nderungsumsatzwerte nach Typ, Hand\\u00e4nderungsgrundst\\u00fccktyp und Jahr seit 2009/ohne Stockwerkeigentum/Einfamilienh\\u00e4user/2011-01-01\",\"Summe der Hand\\u00e4nderungsumsatzwerte nach Typ, Hand\\u00e4nderungsgrundst\\u00fccktyp und Jahr seit 2009/ohne Stockwerkeigentum/Mehrfamilienh\\u00e4user/2011-01-01\",\"Summe der Hand\\u00e4nderungsumsatzwerte nach Typ, Hand\\u00e4nderungsgrundst\\u00fccktyp und Jahr seit 2009/ohne Stockwerkeigentum/Nutzbauten/2011-01-01\",\"Summe der Hand\\u00e4nderungsumsatzwerte nach Typ, Hand\\u00e4nderungsgrundst\\u00fccktyp und Jahr seit 2009/ohne Stockwerkeigentum/Wohnh\\u00e4user mit Gesch\\u00e4ftsr\\u00e4umen/2011-01-01\",\"Summe der Hand\\u00e4nderungsumsatzwerte nach Typ, Hand\\u00e4nderungsgrundst\\u00fccktyp und Jahr seit 2009/ohne Stockwerkeigentum/\\u00fcbrige Wohnh\\u00e4user/2011-01-01\",\"Summe der Hand\\u00e4nderungsumsatzwerte nach Typ, Hand\\u00e4nderungsgrundst\\u00fccktyp und Jahr seit 2009/ohne Stockwerkeigentum/Einfamilienh\\u00e4user/2012-01-01\",\"Summe der Hand\\u00e4nderungsumsatzwerte nach Typ, Hand\\u00e4nderungsgrundst\\u00fccktyp und Jahr seit 2009/ohne Stockwerkeigentum/Mehrfamilienh\\u00e4user/2012-01-01\",\"Summe der Hand\\u00e4nderungsumsatzwerte nach Typ, Hand\\u00e4nderungsgrundst\\u00fccktyp und Jahr seit 2009/ohne Stockwerkeigentum/Nutzbauten/2012-01-01\",\"Summe der Hand\\u00e4nderungsumsatzwerte nach Typ, Hand\\u00e4nderungsgrundst\\u00fccktyp und Jahr seit 2009/ohne Stockwerkeigentum/Wohnh\\u00e4user mit Gesch\\u00e4ftsr\\u00e4umen/2012-01-01\",\"Summe der Hand\\u00e4nderungsumsatzwerte nach Typ, Hand\\u00e4nderungsgrundst\\u00fccktyp und Jahr seit 2009/ohne Stockwerkeigentum/\\u00fcbrige Wohnh\\u00e4user/2012-01-01\",\"Summe der Hand\\u00e4nderungsumsatzwerte nach Typ, Hand\\u00e4nderungsgrundst\\u00fccktyp und Jahr seit 2009/ohne Stockwerkeigentum/Einfamilienh\\u00e4user/2013-01-01\",\"Summe der Hand\\u00e4nderungsumsatzwerte nach Typ, Hand\\u00e4nderungsgrundst\\u00fccktyp und Jahr seit 2009/ohne Stockwerkeigentum/Mehrfamilienh\\u00e4user/2013-01-01\",\"Summe der Hand\\u00e4nderungsumsatzwerte nach Typ, Hand\\u00e4nderungsgrundst\\u00fccktyp und Jahr seit 2009/ohne Stockwerkeigentum/Nutzbauten/2013-01-01\",\"Summe der Hand\\u00e4nderungsumsatzwerte nach Typ, Hand\\u00e4nderungsgrundst\\u00fccktyp und Jahr seit 2009/ohne Stockwerkeigentum/Wohnh\\u00e4user mit Gesch\\u00e4ftsr\\u00e4umen/2013-01-01\",\"Summe der Hand\\u00e4nderungsumsatzwerte nach Typ, Hand\\u00e4nderungsgrundst\\u00fccktyp und Jahr seit 2009/ohne Stockwerkeigentum/\\u00fcbrige Wohnh\\u00e4user/2013-01-01\",\"Summe der Hand\\u00e4nderungsumsatzwerte nach Typ, Hand\\u00e4nderungsgrundst\\u00fccktyp und Jahr seit 2009/ohne Stockwerkeigentum/Einfamilienh\\u00e4user/2014-01-01\",\"Summe der Hand\\u00e4nderungsumsatzwerte nach Typ, Hand\\u00e4nderungsgrundst\\u00fccktyp und Jahr seit 2009/ohne Stockwerkeigentum/Mehrfamilienh\\u00e4user/2014-01-01\",\"Summe der Hand\\u00e4nderungsumsatzwerte nach Typ, Hand\\u00e4nderungsgrundst\\u00fccktyp und Jahr seit 2009/ohne Stockwerkeigentum/Nutzbauten/2014-01-01\",\"Summe der Hand\\u00e4nderungsumsatzwerte nach Typ, Hand\\u00e4nderungsgrundst\\u00fccktyp und Jahr seit 2009/ohne Stockwerkeigentum/Wohnh\\u00e4user mit Gesch\\u00e4ftsr\\u00e4umen/2014-01-01\",\"Summe der Hand\\u00e4nderungsumsatzwerte nach Typ, Hand\\u00e4nderungsgrundst\\u00fccktyp und Jahr seit 2009/ohne Stockwerkeigentum/\\u00fcbrige Wohnh\\u00e4user/2014-01-01\",\"Summe der Hand\\u00e4nderungsumsatzwerte nach Typ, Hand\\u00e4nderungsgrundst\\u00fccktyp und Jahr seit 2009/ohne Stockwerkeigentum/Einfamilienh\\u00e4user/2015-01-01\",\"Summe der Hand\\u00e4nderungsumsatzwerte nach Typ, Hand\\u00e4nderungsgrundst\\u00fccktyp und Jahr seit 2009/ohne Stockwerkeigentum/Mehrfamilienh\\u00e4user/2015-01-01\",\"Summe der Hand\\u00e4nderungsumsatzwerte nach Typ, Hand\\u00e4nderungsgrundst\\u00fccktyp und Jahr seit 2009/ohne Stockwerkeigentum/Nutzbauten/2015-01-01\",\"Summe der Hand\\u00e4nderungsumsatzwerte nach Typ, Hand\\u00e4nderungsgrundst\\u00fccktyp und Jahr seit 2009/ohne Stockwerkeigentum/Wohnh\\u00e4user mit Gesch\\u00e4ftsr\\u00e4umen/2015-01-01\",\"Summe der Hand\\u00e4nderungsumsatzwerte nach Typ, Hand\\u00e4nderungsgrundst\\u00fccktyp und Jahr seit 2009/ohne Stockwerkeigentum/\\u00fcbrige Wohnh\\u00e4user/2015-01-01\",\"Summe der Hand\\u00e4nderungsumsatzwerte nach Typ, Hand\\u00e4nderungsgrundst\\u00fccktyp und Jahr seit 2009/ohne Stockwerkeigentum/Einfamilienh\\u00e4user/2016-01-01\",\"Summe der Hand\\u00e4nderungsumsatzwerte nach Typ, Hand\\u00e4nderungsgrundst\\u00fccktyp und Jahr seit 2009/ohne Stockwerkeigentum/Mehrfamilienh\\u00e4user/2016-01-01\",\"Summe der Hand\\u00e4nderungsumsatzwerte nach Typ, Hand\\u00e4nderungsgrundst\\u00fccktyp und Jahr seit 2009/ohne Stockwerkeigentum/Nutzbauten/2016-01-01\",\"Summe der Hand\\u00e4nderungsumsatzwerte nach Typ, Hand\\u00e4nderungsgrundst\\u00fccktyp und Jahr seit 2009/ohne Stockwerkeigentum/Wohnh\\u00e4user mit Gesch\\u00e4ftsr\\u00e4umen/2016-01-01\",\"Summe der Hand\\u00e4nderungsumsatzwerte nach Typ, Hand\\u00e4nderungsgrundst\\u00fccktyp und Jahr seit 2009/ohne Stockwerkeigentum/Einfamilienh\\u00e4user/2017-01-01\",\"Summe der Hand\\u00e4nderungsumsatzwerte nach Typ, Hand\\u00e4nderungsgrundst\\u00fccktyp und Jahr seit 2009/ohne Stockwerkeigentum/Mehrfamilienh\\u00e4user/2017-01-01\",\"Summe der Hand\\u00e4nderungsumsatzwerte nach Typ, Hand\\u00e4nderungsgrundst\\u00fccktyp und Jahr seit 2009/ohne Stockwerkeigentum/Nutzbauten/2017-01-01\",\"Summe der Hand\\u00e4nderungsumsatzwerte nach Typ, Hand\\u00e4nderungsgrundst\\u00fccktyp und Jahr seit 2009/ohne Stockwerkeigentum/Wohnh\\u00e4user mit Gesch\\u00e4ftsr\\u00e4umen/2017-01-01\",\"Summe der Hand\\u00e4nderungsumsatzwerte nach Typ, Hand\\u00e4nderungsgrundst\\u00fccktyp und Jahr seit 2009/ohne Stockwerkeigentum/\\u00fcbrige Wohnh\\u00e4user/2017-01-01\",\"Summe der Hand\\u00e4nderungsumsatzwerte nach Typ, Hand\\u00e4nderungsgrundst\\u00fccktyp und Jahr seit 2009/ohne Stockwerkeigentum/Einfamilienh\\u00e4user/2018-01-01\",\"Summe der Hand\\u00e4nderungsumsatzwerte nach Typ, Hand\\u00e4nderungsgrundst\\u00fccktyp und Jahr seit 2009/ohne Stockwerkeigentum/Mehrfamilienh\\u00e4user/2018-01-01\",\"Summe der Hand\\u00e4nderungsumsatzwerte nach Typ, Hand\\u00e4nderungsgrundst\\u00fccktyp und Jahr seit 2009/ohne Stockwerkeigentum/Nutzbauten/2018-01-01\",\"Summe der Hand\\u00e4nderungsumsatzwerte nach Typ, Hand\\u00e4nderungsgrundst\\u00fccktyp und Jahr seit 2009/ohne Stockwerkeigentum/Wohnh\\u00e4user mit Gesch\\u00e4ftsr\\u00e4umen/2018-01-01\",\"Summe der Hand\\u00e4nderungsumsatzwerte nach Typ, Hand\\u00e4nderungsgrundst\\u00fccktyp und Jahr seit 2009/ohne Stockwerkeigentum/\\u00fcbrige Wohnh\\u00e4user/2018-01-01\",\"Summe der Hand\\u00e4nderungsumsatzwerte nach Typ, Hand\\u00e4nderungsgrundst\\u00fccktyp und Jahr seit 2009/ohne Stockwerkeigentum/Einfamilienh\\u00e4user/2019-01-01\",\"Summe der Hand\\u00e4nderungsumsatzwerte nach Typ, Hand\\u00e4nderungsgrundst\\u00fccktyp und Jahr seit 2009/ohne Stockwerkeigentum/Mehrfamilienh\\u00e4user/2019-01-01\",\"Summe der Hand\\u00e4nderungsumsatzwerte nach Typ, Hand\\u00e4nderungsgrundst\\u00fccktyp und Jahr seit 2009/ohne Stockwerkeigentum/Nutzbauten/2019-01-01\",\"Summe der Hand\\u00e4nderungsumsatzwerte nach Typ, Hand\\u00e4nderungsgrundst\\u00fccktyp und Jahr seit 2009/ohne Stockwerkeigentum/Wohnh\\u00e4user mit Gesch\\u00e4ftsr\\u00e4umen/2019-01-01\",\"Summe der Hand\\u00e4nderungsumsatzwerte nach Typ, Hand\\u00e4nderungsgrundst\\u00fccktyp und Jahr seit 2009/ohne Stockwerkeigentum/\\u00fcbrige Wohnh\\u00e4user/2019-01-01\",\"Summe der Hand\\u00e4nderungsumsatzwerte nach Typ, Hand\\u00e4nderungsgrundst\\u00fccktyp und Jahr seit 2009/ohne Stockwerkeigentum/Einfamilienh\\u00e4user/2020-01-01\",\"Summe der Hand\\u00e4nderungsumsatzwerte nach Typ, Hand\\u00e4nderungsgrundst\\u00fccktyp und Jahr seit 2009/ohne Stockwerkeigentum/Mehrfamilienh\\u00e4user/2020-01-01\",\"Summe der Hand\\u00e4nderungsumsatzwerte nach Typ, Hand\\u00e4nderungsgrundst\\u00fccktyp und Jahr seit 2009/ohne Stockwerkeigentum/Nutzbauten/2020-01-01\",\"Summe der Hand\\u00e4nderungsumsatzwerte nach Typ, Hand\\u00e4nderungsgrundst\\u00fccktyp und Jahr seit 2009/ohne Stockwerkeigentum/Wohnh\\u00e4user mit Gesch\\u00e4ftsr\\u00e4umen/2020-01-01\",\"Summe der Hand\\u00e4nderungsumsatzwerte nach Typ, Hand\\u00e4nderungsgrundst\\u00fccktyp und Jahr seit 2009/ohne Stockwerkeigentum/\\u00fcbrige Wohnh\\u00e4user/2020-01-01\",\"Summe der Hand\\u00e4nderungsumsatzwerte nach Typ, Hand\\u00e4nderungsgrundst\\u00fccktyp und Jahr seit 2009/ohne Stockwerkeigentum/Einfamilienh\\u00e4user/2021-01-01\",\"Summe der Hand\\u00e4nderungsumsatzwerte nach Typ, Hand\\u00e4nderungsgrundst\\u00fccktyp und Jahr seit 2009/ohne Stockwerkeigentum/Mehrfamilienh\\u00e4user/2021-01-01\",\"Summe der Hand\\u00e4nderungsumsatzwerte nach Typ, Hand\\u00e4nderungsgrundst\\u00fccktyp und Jahr seit 2009/ohne Stockwerkeigentum/Nutzbauten/2021-01-01\",\"Summe der Hand\\u00e4nderungsumsatzwerte nach Typ, Hand\\u00e4nderungsgrundst\\u00fccktyp und Jahr seit 2009/ohne Stockwerkeigentum/Wohnh\\u00e4user mit Gesch\\u00e4ftsr\\u00e4umen/2021-01-01\",\"Summe der Hand\\u00e4nderungsumsatzwerte nach Typ, Hand\\u00e4nderungsgrundst\\u00fccktyp und Jahr seit 2009/ohne Stockwerkeigentum/Einfamilienh\\u00e4user\",\"Summe der Hand\\u00e4nderungsumsatzwerte nach Typ, Hand\\u00e4nderungsgrundst\\u00fccktyp und Jahr seit 2009/ohne Stockwerkeigentum/Mehrfamilienh\\u00e4user\",\"Summe der Hand\\u00e4nderungsumsatzwerte nach Typ, Hand\\u00e4nderungsgrundst\\u00fccktyp und Jahr seit 2009/ohne Stockwerkeigentum/Nutzbauten\",\"Summe der Hand\\u00e4nderungsumsatzwerte nach Typ, Hand\\u00e4nderungsgrundst\\u00fccktyp und Jahr seit 2009/ohne Stockwerkeigentum/Wohnh\\u00e4user mit Gesch\\u00e4ftsr\\u00e4umen\",\"Summe der Hand\\u00e4nderungsumsatzwerte nach Typ, Hand\\u00e4nderungsgrundst\\u00fccktyp und Jahr seit 2009/ohne Stockwerkeigentum/\\u00fcbrige Wohnh\\u00e4user\",\"Summe der Hand\\u00e4nderungsumsatzwerte nach Typ, Hand\\u00e4nderungsgrundst\\u00fccktyp und Jahr seit 2009/ohne Stockwerkeigentum\",\"Summe der Hand\\u00e4nderungsumsatzwerte nach Typ, Hand\\u00e4nderungsgrundst\\u00fccktyp und Jahr seit 2009\"],\"labels\":[\"2011-01-01\",\"2011-01-01\",\"2011-01-01\",\"2011-01-01\",\"2011-01-01\",\"2012-01-01\",\"2012-01-01\",\"2012-01-01\",\"2012-01-01\",\"2012-01-01\",\"2013-01-01\",\"2013-01-01\",\"2013-01-01\",\"2013-01-01\",\"2013-01-01\",\"2014-01-01\",\"2014-01-01\",\"2014-01-01\",\"2014-01-01\",\"2014-01-01\",\"2015-01-01\",\"2015-01-01\",\"2015-01-01\",\"2015-01-01\",\"2015-01-01\",\"2016-01-01\",\"2016-01-01\",\"2016-01-01\",\"2016-01-01\",\"2017-01-01\",\"2017-01-01\",\"2017-01-01\",\"2017-01-01\",\"2017-01-01\",\"2018-01-01\",\"2018-01-01\",\"2018-01-01\",\"2018-01-01\",\"2018-01-01\",\"2019-01-01\",\"2019-01-01\",\"2019-01-01\",\"2019-01-01\",\"2019-01-01\",\"2020-01-01\",\"2020-01-01\",\"2020-01-01\",\"2020-01-01\",\"2020-01-01\",\"2021-01-01\",\"2021-01-01\",\"2021-01-01\",\"2021-01-01\",\"Einfamilienh\\u00e4user\",\"Mehrfamilienh\\u00e4user\",\"Nutzbauten\",\"Wohnh\\u00e4user mit Gesch\\u00e4ftsr\\u00e4umen\",\"\\u00fcbrige Wohnh\\u00e4user\",\"ohne Stockwerkeigentum\",\"Summe der Hand\\u00e4nderungsumsatzwerte nach Typ, Hand\\u00e4nderungsgrundst\\u00fccktyp und Jahr seit 2009\"],\"marker\":{\"coloraxis\":\"coloraxis\",\"colors\":[204415231.0,524425385.0,672218400.0,408389000.0,24150000.0,236808820.0,532398455.0,2594739083.0,494822107.99999994,24150000.0,215829649.0,440476584.0,1016394503.0,657337655.0,7880000.0,212472361.0,265940844.0,968886643.0,429064638.0,16700000.0,209011467.0,566491786.0,1089007813.0,609908696.0,7250000.0,261896000.0,435077250.0,1543291806.0,815273756.0,218313487.0,512809590.0,946380561.0,419730272.0,7000000.0,336311784.0,1007713147.0,996653591.0,768286679.9999999,9800000.0,304347431.0,886907087.0,952407431.9999999,533321577.0,37230000.0,371742278.0,612101873.0,1604569481.0,618631127.0,12400000.0,383075707.99999994,952891517.0,1499240226.0,685468139.0,284406079.2020931,694818427.5858828,1465193209.3029616,616114375.8084502,22140180.131004367,989155639.5201437,989155639.5201437]},\"name\":\"\",\"parents\":[\"Summe der Hand\\u00e4nderungsumsatzwerte nach Typ, Hand\\u00e4nderungsgrundst\\u00fccktyp und Jahr seit 2009/ohne Stockwerkeigentum/Einfamilienh\\u00e4user\",\"Summe der Hand\\u00e4nderungsumsatzwerte nach Typ, Hand\\u00e4nderungsgrundst\\u00fccktyp und Jahr seit 2009/ohne Stockwerkeigentum/Mehrfamilienh\\u00e4user\",\"Summe der Hand\\u00e4nderungsumsatzwerte nach Typ, Hand\\u00e4nderungsgrundst\\u00fccktyp und Jahr seit 2009/ohne Stockwerkeigentum/Nutzbauten\",\"Summe der Hand\\u00e4nderungsumsatzwerte nach Typ, Hand\\u00e4nderungsgrundst\\u00fccktyp und Jahr seit 2009/ohne Stockwerkeigentum/Wohnh\\u00e4user mit Gesch\\u00e4ftsr\\u00e4umen\",\"Summe der Hand\\u00e4nderungsumsatzwerte nach Typ, Hand\\u00e4nderungsgrundst\\u00fccktyp und Jahr seit 2009/ohne Stockwerkeigentum/\\u00fcbrige Wohnh\\u00e4user\",\"Summe der Hand\\u00e4nderungsumsatzwerte nach Typ, Hand\\u00e4nderungsgrundst\\u00fccktyp und Jahr seit 2009/ohne Stockwerkeigentum/Einfamilienh\\u00e4user\",\"Summe der Hand\\u00e4nderungsumsatzwerte nach Typ, Hand\\u00e4nderungsgrundst\\u00fccktyp und Jahr seit 2009/ohne Stockwerkeigentum/Mehrfamilienh\\u00e4user\",\"Summe der Hand\\u00e4nderungsumsatzwerte nach Typ, Hand\\u00e4nderungsgrundst\\u00fccktyp und Jahr seit 2009/ohne Stockwerkeigentum/Nutzbauten\",\"Summe der Hand\\u00e4nderungsumsatzwerte nach Typ, Hand\\u00e4nderungsgrundst\\u00fccktyp und Jahr seit 2009/ohne Stockwerkeigentum/Wohnh\\u00e4user mit Gesch\\u00e4ftsr\\u00e4umen\",\"Summe der Hand\\u00e4nderungsumsatzwerte nach Typ, Hand\\u00e4nderungsgrundst\\u00fccktyp und Jahr seit 2009/ohne Stockwerkeigentum/\\u00fcbrige Wohnh\\u00e4user\",\"Summe der Hand\\u00e4nderungsumsatzwerte nach Typ, Hand\\u00e4nderungsgrundst\\u00fccktyp und Jahr seit 2009/ohne Stockwerkeigentum/Einfamilienh\\u00e4user\",\"Summe der Hand\\u00e4nderungsumsatzwerte nach Typ, Hand\\u00e4nderungsgrundst\\u00fccktyp und Jahr seit 2009/ohne Stockwerkeigentum/Mehrfamilienh\\u00e4user\",\"Summe der Hand\\u00e4nderungsumsatzwerte nach Typ, Hand\\u00e4nderungsgrundst\\u00fccktyp und Jahr seit 2009/ohne Stockwerkeigentum/Nutzbauten\",\"Summe der Hand\\u00e4nderungsumsatzwerte nach Typ, Hand\\u00e4nderungsgrundst\\u00fccktyp und Jahr seit 2009/ohne Stockwerkeigentum/Wohnh\\u00e4user mit Gesch\\u00e4ftsr\\u00e4umen\",\"Summe der Hand\\u00e4nderungsumsatzwerte nach Typ, Hand\\u00e4nderungsgrundst\\u00fccktyp und Jahr seit 2009/ohne Stockwerkeigentum/\\u00fcbrige Wohnh\\u00e4user\",\"Summe der Hand\\u00e4nderungsumsatzwerte nach Typ, Hand\\u00e4nderungsgrundst\\u00fccktyp und Jahr seit 2009/ohne Stockwerkeigentum/Einfamilienh\\u00e4user\",\"Summe der Hand\\u00e4nderungsumsatzwerte nach Typ, Hand\\u00e4nderungsgrundst\\u00fccktyp und Jahr seit 2009/ohne Stockwerkeigentum/Mehrfamilienh\\u00e4user\",\"Summe der Hand\\u00e4nderungsumsatzwerte nach Typ, Hand\\u00e4nderungsgrundst\\u00fccktyp und Jahr seit 2009/ohne Stockwerkeigentum/Nutzbauten\",\"Summe der Hand\\u00e4nderungsumsatzwerte nach Typ, Hand\\u00e4nderungsgrundst\\u00fccktyp und Jahr seit 2009/ohne Stockwerkeigentum/Wohnh\\u00e4user mit Gesch\\u00e4ftsr\\u00e4umen\",\"Summe der Hand\\u00e4nderungsumsatzwerte nach Typ, Hand\\u00e4nderungsgrundst\\u00fccktyp und Jahr seit 2009/ohne Stockwerkeigentum/\\u00fcbrige Wohnh\\u00e4user\",\"Summe der Hand\\u00e4nderungsumsatzwerte nach Typ, Hand\\u00e4nderungsgrundst\\u00fccktyp und Jahr seit 2009/ohne Stockwerkeigentum/Einfamilienh\\u00e4user\",\"Summe der Hand\\u00e4nderungsumsatzwerte nach Typ, Hand\\u00e4nderungsgrundst\\u00fccktyp und Jahr seit 2009/ohne Stockwerkeigentum/Mehrfamilienh\\u00e4user\",\"Summe der Hand\\u00e4nderungsumsatzwerte nach Typ, Hand\\u00e4nderungsgrundst\\u00fccktyp und Jahr seit 2009/ohne Stockwerkeigentum/Nutzbauten\",\"Summe der Hand\\u00e4nderungsumsatzwerte nach Typ, Hand\\u00e4nderungsgrundst\\u00fccktyp und Jahr seit 2009/ohne Stockwerkeigentum/Wohnh\\u00e4user mit Gesch\\u00e4ftsr\\u00e4umen\",\"Summe der Hand\\u00e4nderungsumsatzwerte nach Typ, Hand\\u00e4nderungsgrundst\\u00fccktyp und Jahr seit 2009/ohne Stockwerkeigentum/\\u00fcbrige Wohnh\\u00e4user\",\"Summe der Hand\\u00e4nderungsumsatzwerte nach Typ, Hand\\u00e4nderungsgrundst\\u00fccktyp und Jahr seit 2009/ohne Stockwerkeigentum/Einfamilienh\\u00e4user\",\"Summe der Hand\\u00e4nderungsumsatzwerte nach Typ, Hand\\u00e4nderungsgrundst\\u00fccktyp und Jahr seit 2009/ohne Stockwerkeigentum/Mehrfamilienh\\u00e4user\",\"Summe der Hand\\u00e4nderungsumsatzwerte nach Typ, Hand\\u00e4nderungsgrundst\\u00fccktyp und Jahr seit 2009/ohne Stockwerkeigentum/Nutzbauten\",\"Summe der Hand\\u00e4nderungsumsatzwerte nach Typ, Hand\\u00e4nderungsgrundst\\u00fccktyp und Jahr seit 2009/ohne Stockwerkeigentum/Wohnh\\u00e4user mit Gesch\\u00e4ftsr\\u00e4umen\",\"Summe der Hand\\u00e4nderungsumsatzwerte nach Typ, Hand\\u00e4nderungsgrundst\\u00fccktyp und Jahr seit 2009/ohne Stockwerkeigentum/Einfamilienh\\u00e4user\",\"Summe der Hand\\u00e4nderungsumsatzwerte nach Typ, Hand\\u00e4nderungsgrundst\\u00fccktyp und Jahr seit 2009/ohne Stockwerkeigentum/Mehrfamilienh\\u00e4user\",\"Summe der Hand\\u00e4nderungsumsatzwerte nach Typ, Hand\\u00e4nderungsgrundst\\u00fccktyp und Jahr seit 2009/ohne Stockwerkeigentum/Nutzbauten\",\"Summe der Hand\\u00e4nderungsumsatzwerte nach Typ, Hand\\u00e4nderungsgrundst\\u00fccktyp und Jahr seit 2009/ohne Stockwerkeigentum/Wohnh\\u00e4user mit Gesch\\u00e4ftsr\\u00e4umen\",\"Summe der Hand\\u00e4nderungsumsatzwerte nach Typ, Hand\\u00e4nderungsgrundst\\u00fccktyp und Jahr seit 2009/ohne Stockwerkeigentum/\\u00fcbrige Wohnh\\u00e4user\",\"Summe der Hand\\u00e4nderungsumsatzwerte nach Typ, Hand\\u00e4nderungsgrundst\\u00fccktyp und Jahr seit 2009/ohne Stockwerkeigentum/Einfamilienh\\u00e4user\",\"Summe der Hand\\u00e4nderungsumsatzwerte nach Typ, Hand\\u00e4nderungsgrundst\\u00fccktyp und Jahr seit 2009/ohne Stockwerkeigentum/Mehrfamilienh\\u00e4user\",\"Summe der Hand\\u00e4nderungsumsatzwerte nach Typ, Hand\\u00e4nderungsgrundst\\u00fccktyp und Jahr seit 2009/ohne Stockwerkeigentum/Nutzbauten\",\"Summe der Hand\\u00e4nderungsumsatzwerte nach Typ, Hand\\u00e4nderungsgrundst\\u00fccktyp und Jahr seit 2009/ohne Stockwerkeigentum/Wohnh\\u00e4user mit Gesch\\u00e4ftsr\\u00e4umen\",\"Summe der Hand\\u00e4nderungsumsatzwerte nach Typ, Hand\\u00e4nderungsgrundst\\u00fccktyp und Jahr seit 2009/ohne Stockwerkeigentum/\\u00fcbrige Wohnh\\u00e4user\",\"Summe der Hand\\u00e4nderungsumsatzwerte nach Typ, Hand\\u00e4nderungsgrundst\\u00fccktyp und Jahr seit 2009/ohne Stockwerkeigentum/Einfamilienh\\u00e4user\",\"Summe der Hand\\u00e4nderungsumsatzwerte nach Typ, Hand\\u00e4nderungsgrundst\\u00fccktyp und Jahr seit 2009/ohne Stockwerkeigentum/Mehrfamilienh\\u00e4user\",\"Summe der Hand\\u00e4nderungsumsatzwerte nach Typ, Hand\\u00e4nderungsgrundst\\u00fccktyp und Jahr seit 2009/ohne Stockwerkeigentum/Nutzbauten\",\"Summe der Hand\\u00e4nderungsumsatzwerte nach Typ, Hand\\u00e4nderungsgrundst\\u00fccktyp und Jahr seit 2009/ohne Stockwerkeigentum/Wohnh\\u00e4user mit Gesch\\u00e4ftsr\\u00e4umen\",\"Summe der Hand\\u00e4nderungsumsatzwerte nach Typ, Hand\\u00e4nderungsgrundst\\u00fccktyp und Jahr seit 2009/ohne Stockwerkeigentum/\\u00fcbrige Wohnh\\u00e4user\",\"Summe der Hand\\u00e4nderungsumsatzwerte nach Typ, Hand\\u00e4nderungsgrundst\\u00fccktyp und Jahr seit 2009/ohne Stockwerkeigentum/Einfamilienh\\u00e4user\",\"Summe der Hand\\u00e4nderungsumsatzwerte nach Typ, Hand\\u00e4nderungsgrundst\\u00fccktyp und Jahr seit 2009/ohne Stockwerkeigentum/Mehrfamilienh\\u00e4user\",\"Summe der Hand\\u00e4nderungsumsatzwerte nach Typ, Hand\\u00e4nderungsgrundst\\u00fccktyp und Jahr seit 2009/ohne Stockwerkeigentum/Nutzbauten\",\"Summe der Hand\\u00e4nderungsumsatzwerte nach Typ, Hand\\u00e4nderungsgrundst\\u00fccktyp und Jahr seit 2009/ohne Stockwerkeigentum/Wohnh\\u00e4user mit Gesch\\u00e4ftsr\\u00e4umen\",\"Summe der Hand\\u00e4nderungsumsatzwerte nach Typ, Hand\\u00e4nderungsgrundst\\u00fccktyp und Jahr seit 2009/ohne Stockwerkeigentum/\\u00fcbrige Wohnh\\u00e4user\",\"Summe der Hand\\u00e4nderungsumsatzwerte nach Typ, Hand\\u00e4nderungsgrundst\\u00fccktyp und Jahr seit 2009/ohne Stockwerkeigentum/Einfamilienh\\u00e4user\",\"Summe der Hand\\u00e4nderungsumsatzwerte nach Typ, Hand\\u00e4nderungsgrundst\\u00fccktyp und Jahr seit 2009/ohne Stockwerkeigentum/Mehrfamilienh\\u00e4user\",\"Summe der Hand\\u00e4nderungsumsatzwerte nach Typ, Hand\\u00e4nderungsgrundst\\u00fccktyp und Jahr seit 2009/ohne Stockwerkeigentum/Nutzbauten\",\"Summe der Hand\\u00e4nderungsumsatzwerte nach Typ, Hand\\u00e4nderungsgrundst\\u00fccktyp und Jahr seit 2009/ohne Stockwerkeigentum/Wohnh\\u00e4user mit Gesch\\u00e4ftsr\\u00e4umen\",\"Summe der Hand\\u00e4nderungsumsatzwerte nach Typ, Hand\\u00e4nderungsgrundst\\u00fccktyp und Jahr seit 2009/ohne Stockwerkeigentum\",\"Summe der Hand\\u00e4nderungsumsatzwerte nach Typ, Hand\\u00e4nderungsgrundst\\u00fccktyp und Jahr seit 2009/ohne Stockwerkeigentum\",\"Summe der Hand\\u00e4nderungsumsatzwerte nach Typ, Hand\\u00e4nderungsgrundst\\u00fccktyp und Jahr seit 2009/ohne Stockwerkeigentum\",\"Summe der Hand\\u00e4nderungsumsatzwerte nach Typ, Hand\\u00e4nderungsgrundst\\u00fccktyp und Jahr seit 2009/ohne Stockwerkeigentum\",\"Summe der Hand\\u00e4nderungsumsatzwerte nach Typ, Hand\\u00e4nderungsgrundst\\u00fccktyp und Jahr seit 2009/ohne Stockwerkeigentum\",\"Summe der Hand\\u00e4nderungsumsatzwerte nach Typ, Hand\\u00e4nderungsgrundst\\u00fccktyp und Jahr seit 2009\",\"\"],\"root\":{\"color\":\"grey\"},\"type\":\"treemap\",\"values\":[204415231,524425385,672218400,408389000,24150000,236808820,532398455,2594739083,494822108,24150000,215829649,440476584,1016394503,657337655,7880000,212472361,265940844,968886643,429064638,16700000,209011467,566491786,1089007813,609908696,7250000,261896000,435077250,1543291806,815273756,218313487,512809590,946380561,419730272,7000000,336311784,1007713147,996653591,768286680,9800000,304347431,886907087,952407432,533321577,37230000,371742278,612101873,1604569481,618631127,12400000,383075708,952891517,1499240226,685468139,2954224216,6737233518,13883789539,6440233648,146560000,30162040921,30162040921]}],                        {\"coloraxis\":{\"colorbar\":{\"title\":{\"text\":\"sum_Umsatzwert\"}},\"colorscale\":[[0.0,\"#440154\"],[0.1111111111111111,\"#482878\"],[0.2222222222222222,\"#3e4989\"],[0.3333333333333333,\"#31688e\"],[0.4444444444444444,\"#26828e\"],[0.5555555555555556,\"#1f9e89\"],[0.6666666666666666,\"#35b779\"],[0.7777777777777778,\"#6ece58\"],[0.8888888888888888,\"#b5de2b\"],[1.0,\"#fde725\"]]},\"height\":500,\"legend\":{\"tracegroupgap\":0},\"margin\":{\"b\":25,\"l\":25,\"r\":250,\"t\":50},\"template\":{\"data\":{\"bar\":[{\"error_x\":{\"color\":\"#2a3f5f\"},\"error_y\":{\"color\":\"#2a3f5f\"},\"marker\":{\"line\":{\"color\":\"#E5ECF6\",\"width\":0.5},\"pattern\":{\"fillmode\":\"overlay\",\"size\":10,\"solidity\":0.2}},\"type\":\"bar\"}],\"barpolar\":[{\"marker\":{\"line\":{\"color\":\"#E5ECF6\",\"width\":0.5},\"pattern\":{\"fillmode\":\"overlay\",\"size\":10,\"solidity\":0.2}},\"type\":\"barpolar\"}],\"carpet\":[{\"aaxis\":{\"endlinecolor\":\"#2a3f5f\",\"gridcolor\":\"white\",\"linecolor\":\"white\",\"minorgridcolor\":\"white\",\"startlinecolor\":\"#2a3f5f\"},\"baxis\":{\"endlinecolor\":\"#2a3f5f\",\"gridcolor\":\"white\",\"linecolor\":\"white\",\"minorgridcolor\":\"white\",\"startlinecolor\":\"#2a3f5f\"},\"type\":\"carpet\"}],\"choropleth\":[{\"colorbar\":{\"outlinewidth\":0,\"ticks\":\"\"},\"type\":\"choropleth\"}],\"contour\":[{\"colorbar\":{\"outlinewidth\":0,\"ticks\":\"\"},\"colorscale\":[[0.0,\"#0d0887\"],[0.1111111111111111,\"#46039f\"],[0.2222222222222222,\"#7201a8\"],[0.3333333333333333,\"#9c179e\"],[0.4444444444444444,\"#bd3786\"],[0.5555555555555556,\"#d8576b\"],[0.6666666666666666,\"#ed7953\"],[0.7777777777777778,\"#fb9f3a\"],[0.8888888888888888,\"#fdca26\"],[1.0,\"#f0f921\"]],\"type\":\"contour\"}],\"contourcarpet\":[{\"colorbar\":{\"outlinewidth\":0,\"ticks\":\"\"},\"type\":\"contourcarpet\"}],\"heatmap\":[{\"colorbar\":{\"outlinewidth\":0,\"ticks\":\"\"},\"colorscale\":[[0.0,\"#0d0887\"],[0.1111111111111111,\"#46039f\"],[0.2222222222222222,\"#7201a8\"],[0.3333333333333333,\"#9c179e\"],[0.4444444444444444,\"#bd3786\"],[0.5555555555555556,\"#d8576b\"],[0.6666666666666666,\"#ed7953\"],[0.7777777777777778,\"#fb9f3a\"],[0.8888888888888888,\"#fdca26\"],[1.0,\"#f0f921\"]],\"type\":\"heatmap\"}],\"heatmapgl\":[{\"colorbar\":{\"outlinewidth\":0,\"ticks\":\"\"},\"colorscale\":[[0.0,\"#0d0887\"],[0.1111111111111111,\"#46039f\"],[0.2222222222222222,\"#7201a8\"],[0.3333333333333333,\"#9c179e\"],[0.4444444444444444,\"#bd3786\"],[0.5555555555555556,\"#d8576b\"],[0.6666666666666666,\"#ed7953\"],[0.7777777777777778,\"#fb9f3a\"],[0.8888888888888888,\"#fdca26\"],[1.0,\"#f0f921\"]],\"type\":\"heatmapgl\"}],\"histogram\":[{\"marker\":{\"pattern\":{\"fillmode\":\"overlay\",\"size\":10,\"solidity\":0.2}},\"type\":\"histogram\"}],\"histogram2d\":[{\"colorbar\":{\"outlinewidth\":0,\"ticks\":\"\"},\"colorscale\":[[0.0,\"#0d0887\"],[0.1111111111111111,\"#46039f\"],[0.2222222222222222,\"#7201a8\"],[0.3333333333333333,\"#9c179e\"],[0.4444444444444444,\"#bd3786\"],[0.5555555555555556,\"#d8576b\"],[0.6666666666666666,\"#ed7953\"],[0.7777777777777778,\"#fb9f3a\"],[0.8888888888888888,\"#fdca26\"],[1.0,\"#f0f921\"]],\"type\":\"histogram2d\"}],\"histogram2dcontour\":[{\"colorbar\":{\"outlinewidth\":0,\"ticks\":\"\"},\"colorscale\":[[0.0,\"#0d0887\"],[0.1111111111111111,\"#46039f\"],[0.2222222222222222,\"#7201a8\"],[0.3333333333333333,\"#9c179e\"],[0.4444444444444444,\"#bd3786\"],[0.5555555555555556,\"#d8576b\"],[0.6666666666666666,\"#ed7953\"],[0.7777777777777778,\"#fb9f3a\"],[0.8888888888888888,\"#fdca26\"],[1.0,\"#f0f921\"]],\"type\":\"histogram2dcontour\"}],\"mesh3d\":[{\"colorbar\":{\"outlinewidth\":0,\"ticks\":\"\"},\"type\":\"mesh3d\"}],\"parcoords\":[{\"line\":{\"colorbar\":{\"outlinewidth\":0,\"ticks\":\"\"}},\"type\":\"parcoords\"}],\"pie\":[{\"automargin\":true,\"type\":\"pie\"}],\"scatter\":[{\"marker\":{\"colorbar\":{\"outlinewidth\":0,\"ticks\":\"\"}},\"type\":\"scatter\"}],\"scatter3d\":[{\"line\":{\"colorbar\":{\"outlinewidth\":0,\"ticks\":\"\"}},\"marker\":{\"colorbar\":{\"outlinewidth\":0,\"ticks\":\"\"}},\"type\":\"scatter3d\"}],\"scattercarpet\":[{\"marker\":{\"colorbar\":{\"outlinewidth\":0,\"ticks\":\"\"}},\"type\":\"scattercarpet\"}],\"scattergeo\":[{\"marker\":{\"colorbar\":{\"outlinewidth\":0,\"ticks\":\"\"}},\"type\":\"scattergeo\"}],\"scattergl\":[{\"marker\":{\"colorbar\":{\"outlinewidth\":0,\"ticks\":\"\"}},\"type\":\"scattergl\"}],\"scattermapbox\":[{\"marker\":{\"colorbar\":{\"outlinewidth\":0,\"ticks\":\"\"}},\"type\":\"scattermapbox\"}],\"scatterpolar\":[{\"marker\":{\"colorbar\":{\"outlinewidth\":0,\"ticks\":\"\"}},\"type\":\"scatterpolar\"}],\"scatterpolargl\":[{\"marker\":{\"colorbar\":{\"outlinewidth\":0,\"ticks\":\"\"}},\"type\":\"scatterpolargl\"}],\"scatterternary\":[{\"marker\":{\"colorbar\":{\"outlinewidth\":0,\"ticks\":\"\"}},\"type\":\"scatterternary\"}],\"surface\":[{\"colorbar\":{\"outlinewidth\":0,\"ticks\":\"\"},\"colorscale\":[[0.0,\"#0d0887\"],[0.1111111111111111,\"#46039f\"],[0.2222222222222222,\"#7201a8\"],[0.3333333333333333,\"#9c179e\"],[0.4444444444444444,\"#bd3786\"],[0.5555555555555556,\"#d8576b\"],[0.6666666666666666,\"#ed7953\"],[0.7777777777777778,\"#fb9f3a\"],[0.8888888888888888,\"#fdca26\"],[1.0,\"#f0f921\"]],\"type\":\"surface\"}],\"table\":[{\"cells\":{\"fill\":{\"color\":\"#EBF0F8\"},\"line\":{\"color\":\"white\"}},\"header\":{\"fill\":{\"color\":\"#C8D4E3\"},\"line\":{\"color\":\"white\"}},\"type\":\"table\"}]},\"layout\":{\"annotationdefaults\":{\"arrowcolor\":\"#2a3f5f\",\"arrowhead\":0,\"arrowwidth\":1},\"autotypenumbers\":\"strict\",\"coloraxis\":{\"colorbar\":{\"outlinewidth\":0,\"ticks\":\"\"}},\"colorscale\":{\"diverging\":[[0,\"#8e0152\"],[0.1,\"#c51b7d\"],[0.2,\"#de77ae\"],[0.3,\"#f1b6da\"],[0.4,\"#fde0ef\"],[0.5,\"#f7f7f7\"],[0.6,\"#e6f5d0\"],[0.7,\"#b8e186\"],[0.8,\"#7fbc41\"],[0.9,\"#4d9221\"],[1,\"#276419\"]],\"sequential\":[[0.0,\"#0d0887\"],[0.1111111111111111,\"#46039f\"],[0.2222222222222222,\"#7201a8\"],[0.3333333333333333,\"#9c179e\"],[0.4444444444444444,\"#bd3786\"],[0.5555555555555556,\"#d8576b\"],[0.6666666666666666,\"#ed7953\"],[0.7777777777777778,\"#fb9f3a\"],[0.8888888888888888,\"#fdca26\"],[1.0,\"#f0f921\"]],\"sequentialminus\":[[0.0,\"#0d0887\"],[0.1111111111111111,\"#46039f\"],[0.2222222222222222,\"#7201a8\"],[0.3333333333333333,\"#9c179e\"],[0.4444444444444444,\"#bd3786\"],[0.5555555555555556,\"#d8576b\"],[0.6666666666666666,\"#ed7953\"],[0.7777777777777778,\"#fb9f3a\"],[0.8888888888888888,\"#fdca26\"],[1.0,\"#f0f921\"]]},\"colorway\":[\"#636efa\",\"#EF553B\",\"#00cc96\",\"#ab63fa\",\"#FFA15A\",\"#19d3f3\",\"#FF6692\",\"#B6E880\",\"#FF97FF\",\"#FECB52\"],\"font\":{\"color\":\"#2a3f5f\"},\"geo\":{\"bgcolor\":\"white\",\"lakecolor\":\"white\",\"landcolor\":\"#E5ECF6\",\"showlakes\":true,\"showland\":true,\"subunitcolor\":\"white\"},\"hoverlabel\":{\"align\":\"left\"},\"hovermode\":\"closest\",\"mapbox\":{\"style\":\"light\"},\"paper_bgcolor\":\"white\",\"plot_bgcolor\":\"#E5ECF6\",\"polar\":{\"angularaxis\":{\"gridcolor\":\"white\",\"linecolor\":\"white\",\"ticks\":\"\"},\"bgcolor\":\"#E5ECF6\",\"radialaxis\":{\"gridcolor\":\"white\",\"linecolor\":\"white\",\"ticks\":\"\"}},\"scene\":{\"xaxis\":{\"backgroundcolor\":\"#E5ECF6\",\"gridcolor\":\"white\",\"gridwidth\":2,\"linecolor\":\"white\",\"showbackground\":true,\"ticks\":\"\",\"zerolinecolor\":\"white\"},\"yaxis\":{\"backgroundcolor\":\"#E5ECF6\",\"gridcolor\":\"white\",\"gridwidth\":2,\"linecolor\":\"white\",\"showbackground\":true,\"ticks\":\"\",\"zerolinecolor\":\"white\"},\"zaxis\":{\"backgroundcolor\":\"#E5ECF6\",\"gridcolor\":\"white\",\"gridwidth\":2,\"linecolor\":\"white\",\"showbackground\":true,\"ticks\":\"\",\"zerolinecolor\":\"white\"}},\"shapedefaults\":{\"line\":{\"color\":\"#2a3f5f\"}},\"ternary\":{\"aaxis\":{\"gridcolor\":\"white\",\"linecolor\":\"white\",\"ticks\":\"\"},\"baxis\":{\"gridcolor\":\"white\",\"linecolor\":\"white\",\"ticks\":\"\"},\"bgcolor\":\"#E5ECF6\",\"caxis\":{\"gridcolor\":\"white\",\"linecolor\":\"white\",\"ticks\":\"\"}},\"title\":{\"x\":0.05},\"xaxis\":{\"automargin\":true,\"gridcolor\":\"white\",\"linecolor\":\"white\",\"ticks\":\"\",\"title\":{\"standoff\":15},\"zerolinecolor\":\"white\",\"zerolinewidth\":2},\"yaxis\":{\"automargin\":true,\"gridcolor\":\"white\",\"linecolor\":\"white\",\"ticks\":\"\",\"title\":{\"standoff\":15},\"zerolinecolor\":\"white\",\"zerolinewidth\":2}}},\"width\":1100},                        {\"responsive\": true}                    ).then(function(){\n",
       "                            \n",
       "var gd = document.getElementById('2dfef4da-5fbf-4ccf-86ac-d17217d700b1');\n",
       "var x = new MutationObserver(function (mutations, observer) {{\n",
       "        var display = window.getComputedStyle(gd).display;\n",
       "        if (!display || display === 'none') {{\n",
       "            console.log([gd, 'removed!']);\n",
       "            Plotly.purge(gd);\n",
       "            observer.disconnect();\n",
       "        }}\n",
       "}});\n",
       "\n",
       "// Listen for the removal of the full notebook cells\n",
       "var notebookContainer = gd.closest('#notebook-container');\n",
       "if (notebookContainer) {{\n",
       "    x.observe(notebookContainer, {childList: true});\n",
       "}}\n",
       "\n",
       "// Listen for the clearing of the current output cell\n",
       "var outputEl = gd.closest('.output');\n",
       "if (outputEl) {{\n",
       "    x.observe(outputEl, {childList: true});\n",
       "}}\n",
       "\n",
       "                        })                };                });            </script>        </div>"
      ]
     },
     "metadata": {},
     "output_type": "display_data"
    }
   ],
   "source": [
    "fig = px.treemap(myTreemap.query('Typ == \"ohne Stockwerkeigentum\"').reset_index(), path=[px.Constant(\"Summe der Handänderungsumsatzwerte nach Typ, Handänderungsgrundstücktyp und Jahr seit 2009\")\n",
    "                                                ,'Typ','HaeGrstTyp','Jahr']\n",
    "                 , values='sum_Umsatzwert'\n",
    "                 , color='sum_Umsatzwert'               \n",
    "                 #, color_discrete_map={'(?)':'lightgrey','EVP':'gold', 'SP':'#FF3030', 'PdA':'#EE3B3B', 'Grüne':'#A2CD5A','GLP':'#CAFF70','Die Mitte':'orange','FDP':'#104E8B','AL':'deeppink','SVP':'forestgreen', 'FL ZÜRI':'#8B864E','Volt':'#lightblue' }                \n",
    "                 ## bei continuous scales (bei Zahlenwerten):\n",
    "                 ,color_continuous_scale='viridis'\n",
    "                 ,height=500 , width=1100                 \n",
    "                )\n",
    "fig.update_traces(root_color=\"grey\")\n",
    "fig.update_layout(margin = dict(t=50, l=25, r=250, b=25))\n",
    "fig.show()"
   ]
  },
  {
   "cell_type": "code",
   "execution_count": 140,
   "metadata": {},
   "outputs": [],
   "source": [
    "#data2betested.dtypes"
   ]
  },
  {
   "cell_type": "markdown",
   "metadata": {},
   "source": [
    "**Sharepoint als gecheckt markieren!**"
   ]
  },
  {
   "cell_type": "markdown",
   "metadata": {},
   "source": [
    "Record auf Sharepoint: **[Link](https://kollaboration.intranet.stzh.ch/orga/ssz-produkte/Lists/SASA_Outputs/DispForm.aspx?ID=278&ContentTypeId=0x0100988EAF029F1EFE4CA675F53C32A5D53D01006DBC563E6FBE9E4EB6FDC780799752E1)**"
   ]
  },
  {
   "cell_type": "markdown",
   "metadata": {},
   "source": [
    "## ---------------------- hier Plausi beendet\n",
    "\n",
    "Liniendiagramm \n",
    "[Link zur Doku](https://altair-viz.github.io/gallery/multiline_highlight.html)"
   ]
  },
  {
   "cell_type": "markdown",
   "metadata": {
    "tags": []
   },
   "source": [
    "### Test: Choroplethenkarte\n",
    "Importiere die Geodaten als GeoJSON"
   ]
  },
  {
   "cell_type": "markdown",
   "metadata": {},
   "source": [
    "#### Stadtkreise"
   ]
  },
  {
   "cell_type": "code",
   "execution_count": 124,
   "metadata": {},
   "outputs": [
    {
     "data": {
      "text/html": [
       "<div>\n",
       "<style scoped>\n",
       "    .dataframe tbody tr th:only-of-type {\n",
       "        vertical-align: middle;\n",
       "    }\n",
       "\n",
       "    .dataframe tbody tr th {\n",
       "        vertical-align: top;\n",
       "    }\n",
       "\n",
       "    .dataframe thead th {\n",
       "        text-align: right;\n",
       "    }\n",
       "</style>\n",
       "<table border=\"1\" class=\"dataframe\">\n",
       "  <thead>\n",
       "    <tr style=\"text-align: right;\">\n",
       "      <th></th>\n",
       "      <th>id</th>\n",
       "      <th>kname</th>\n",
       "      <th>knr</th>\n",
       "      <th>objid</th>\n",
       "      <th>geometry</th>\n",
       "    </tr>\n",
       "  </thead>\n",
       "  <tbody>\n",
       "    <tr>\n",
       "      <th>0</th>\n",
       "      <td>adm_stadtkreise_v.6</td>\n",
       "      <td>Kreis 7</td>\n",
       "      <td>7</td>\n",
       "      <td>6</td>\n",
       "      <td>POLYGON ((8.54885 47.36602, 8.54901 47.36601, ...</td>\n",
       "    </tr>\n",
       "  </tbody>\n",
       "</table>\n",
       "</div>"
      ],
      "text/plain": [
       "                    id    kname  knr objid                                           geometry\n",
       "0  adm_stadtkreise_v.6  Kreis 7    7     6  POLYGON ((8.54885 47.36602, 8.54901 47.36601, ..."
      ]
     },
     "execution_count": 124,
     "metadata": {},
     "output_type": "execute_result"
    }
   ],
   "source": [
    "# Read abt. Geopandas https://geopandas.org/docs/user_guide/io.html\n",
    "geojson_url_kreise = \"https://www.ogd.stadt-zuerich.ch/wfs/geoportal/Stadtkreise?service=WFS&version=1.1.0&request=GetFeature&outputFormat=GeoJSON&typename=adm_stadtkreise_v\"\n",
    "adm_stadtkreise_v = gpd.read_file(geojson_url_kreise)\n",
    "\n",
    "adm_stadtkreise_v.head(1)\n"
   ]
  },
  {
   "cell_type": "markdown",
   "metadata": {},
   "source": [
    "#### Statistische Zonen"
   ]
  },
  {
   "cell_type": "code",
   "execution_count": 115,
   "metadata": {},
   "outputs": [
    {
     "data": {
      "text/html": [
       "<div>\n",
       "<style scoped>\n",
       "    .dataframe tbody tr th:only-of-type {\n",
       "        vertical-align: middle;\n",
       "    }\n",
       "\n",
       "    .dataframe tbody tr th {\n",
       "        vertical-align: top;\n",
       "    }\n",
       "\n",
       "    .dataframe thead th {\n",
       "        text-align: right;\n",
       "    }\n",
       "</style>\n",
       "<table border=\"1\" class=\"dataframe\">\n",
       "  <thead>\n",
       "    <tr style=\"text-align: right;\">\n",
       "      <th></th>\n",
       "      <th>id</th>\n",
       "      <th>kname</th>\n",
       "      <th>knr</th>\n",
       "      <th>objectid</th>\n",
       "      <th>objid</th>\n",
       "      <th>qname</th>\n",
       "      <th>qnr</th>\n",
       "      <th>stzname</th>\n",
       "      <th>stznr</th>\n",
       "      <th>geometry</th>\n",
       "    </tr>\n",
       "  </thead>\n",
       "  <tbody>\n",
       "    <tr>\n",
       "      <th>0</th>\n",
       "      <td>adm_statzonen_map.1</td>\n",
       "      <td>Kreis 7</td>\n",
       "      <td>7</td>\n",
       "      <td>1</td>\n",
       "      <td>154</td>\n",
       "      <td>Hirslanden</td>\n",
       "      <td>73</td>\n",
       "      <td>Hegibach</td>\n",
       "      <td>7303</td>\n",
       "      <td>POLYGON ((8.55670 47.36406, 8.55682 47.36410, ...</td>\n",
       "    </tr>\n",
       "    <tr>\n",
       "      <th>1</th>\n",
       "      <td>adm_statzonen_map.2</td>\n",
       "      <td>Kreis 7</td>\n",
       "      <td>7</td>\n",
       "      <td>2</td>\n",
       "      <td>89</td>\n",
       "      <td>Hirslanden</td>\n",
       "      <td>73</td>\n",
       "      <td>Klus</td>\n",
       "      <td>7302</td>\n",
       "      <td>POLYGON ((8.57281 47.35806, 8.57278 47.35807, ...</td>\n",
       "    </tr>\n",
       "  </tbody>\n",
       "</table>\n",
       "</div>"
      ],
      "text/plain": [
       "                    id    kname  knr  objectid objid       qname  qnr   stzname  stznr  \\\n",
       "0  adm_statzonen_map.1  Kreis 7    7         1   154  Hirslanden   73  Hegibach   7303   \n",
       "1  adm_statzonen_map.2  Kreis 7    7         2    89  Hirslanden   73      Klus   7302   \n",
       "\n",
       "                                            geometry  \n",
       "0  POLYGON ((8.55670 47.36406, 8.55682 47.36410, ...  \n",
       "1  POLYGON ((8.57281 47.35806, 8.57278 47.35807, ...  "
      ]
     },
     "execution_count": 115,
     "metadata": {},
     "output_type": "execute_result"
    }
   ],
   "source": [
    "# Read abt. Geopandas https://geopandas.org/docs/user_guide/io.html\n",
    "geojson_url_statzonen = \"https://www.ogd.stadt-zuerich.ch/wfs/geoportal/Statistische_Zonen?service=WFS&version=1.1.0&request=GetFeature&outputFormat=GeoJSON&typename=adm_statzonen_map\"\n",
    "adm_statzonen_map = gpd.read_file(geojson_url_statzonen)\n",
    "\n",
    "adm_statzonen_map.head(2)\n"
   ]
  },
  {
   "cell_type": "markdown",
   "metadata": {},
   "source": [
    "#### Statistische Quartiere"
   ]
  },
  {
   "cell_type": "code",
   "execution_count": 119,
   "metadata": {},
   "outputs": [
    {
     "data": {
      "text/html": [
       "<div>\n",
       "<style scoped>\n",
       "    .dataframe tbody tr th:only-of-type {\n",
       "        vertical-align: middle;\n",
       "    }\n",
       "\n",
       "    .dataframe tbody tr th {\n",
       "        vertical-align: top;\n",
       "    }\n",
       "\n",
       "    .dataframe thead th {\n",
       "        text-align: right;\n",
       "    }\n",
       "</style>\n",
       "<table border=\"1\" class=\"dataframe\">\n",
       "  <thead>\n",
       "    <tr style=\"text-align: right;\">\n",
       "      <th></th>\n",
       "      <th>id</th>\n",
       "      <th>kname</th>\n",
       "      <th>knr</th>\n",
       "      <th>objectid</th>\n",
       "      <th>objid</th>\n",
       "      <th>qname</th>\n",
       "      <th>qnr</th>\n",
       "      <th>geometry</th>\n",
       "    </tr>\n",
       "  </thead>\n",
       "  <tbody>\n",
       "    <tr>\n",
       "      <th>0</th>\n",
       "      <td>adm_statistische_quartiere_map.1</td>\n",
       "      <td>Kreis 7</td>\n",
       "      <td>7</td>\n",
       "      <td>1</td>\n",
       "      <td>34</td>\n",
       "      <td>Hirslanden</td>\n",
       "      <td>73</td>\n",
       "      <td>POLYGON ((8.55670 47.36406, 8.55682 47.36410, ...</td>\n",
       "    </tr>\n",
       "    <tr>\n",
       "      <th>1</th>\n",
       "      <td>adm_statistische_quartiere_map.2</td>\n",
       "      <td>Kreis 8</td>\n",
       "      <td>8</td>\n",
       "      <td>2</td>\n",
       "      <td>33</td>\n",
       "      <td>Weinegg</td>\n",
       "      <td>83</td>\n",
       "      <td>POLYGON ((8.55670 47.36405, 8.55672 47.36403, ...</td>\n",
       "    </tr>\n",
       "  </tbody>\n",
       "</table>\n",
       "</div>"
      ],
      "text/plain": [
       "                                 id    kname  knr  objectid objid       qname  qnr  \\\n",
       "0  adm_statistische_quartiere_map.1  Kreis 7    7         1    34  Hirslanden   73   \n",
       "1  adm_statistische_quartiere_map.2  Kreis 8    8         2    33     Weinegg   83   \n",
       "\n",
       "                                            geometry  \n",
       "0  POLYGON ((8.55670 47.36406, 8.55682 47.36410, ...  \n",
       "1  POLYGON ((8.55670 47.36405, 8.55672 47.36403, ...  "
      ]
     },
     "execution_count": 119,
     "metadata": {},
     "output_type": "execute_result"
    }
   ],
   "source": [
    "geojson_url_quartiere = \"https://www.ogd.stadt-zuerich.ch/wfs/geoportal/Statistische_Quartiere?service=WFS&version=1.1.0&request=GetFeature&outputFormat=GeoJSON&typename=adm_statistische_quartiere_map\"\n",
    "df_adm_statistische_quartiere_map = gpd.read_file(geojson_url_quartiere)\n",
    "\n",
    "df_adm_statistische_quartiere_map.head(2)\n"
   ]
  },
  {
   "cell_type": "markdown",
   "metadata": {},
   "source": [
    "### Joins\n",
    "Joine die importierten statistischen Daten des aktuellen Jahres zum Geodatensatz:\n",
    "\n",
    "*Siehe dazu Doku zu [Geopandas](https://geopandas.org/docs/user_guide/mergingdata.html)*"
   ]
  },
  {
   "cell_type": "code",
   "execution_count": 127,
   "metadata": {},
   "outputs": [
    {
     "data": {
      "text/plain": [
       "StatZoneCd             int64\n",
       "StatZone              object\n",
       "QuarCd                 int64\n",
       "QuarLang              object\n",
       "KreisCd                int64\n",
       "KreisLang             object\n",
       "EigentumsartSort       int64\n",
       "Eigentumsart          object\n",
       "Whg_abgebrochen        int64\n",
       "Whg_fertigerstellt     int64\n",
       "dtype: object"
      ]
     },
     "execution_count": 127,
     "metadata": {},
     "output_type": "execute_result"
    }
   ],
   "source": [
    "data2betested.dtypes"
   ]
  },
  {
   "cell_type": "code",
   "execution_count": 137,
   "metadata": {},
   "outputs": [
    {
     "data": {
      "text/html": [
       "<div>\n",
       "<style scoped>\n",
       "    .dataframe tbody tr th:only-of-type {\n",
       "        vertical-align: middle;\n",
       "    }\n",
       "\n",
       "    .dataframe tbody tr th {\n",
       "        vertical-align: top;\n",
       "    }\n",
       "\n",
       "    .dataframe thead th {\n",
       "        text-align: right;\n",
       "    }\n",
       "</style>\n",
       "<table border=\"1\" class=\"dataframe\">\n",
       "  <thead>\n",
       "    <tr style=\"text-align: right;\">\n",
       "      <th></th>\n",
       "      <th>QuarLang</th>\n",
       "      <th>QuarCd</th>\n",
       "      <th>sum_Whg_abgebrochen</th>\n",
       "      <th>sum_Whg_fertigerstellt</th>\n",
       "    </tr>\n",
       "  </thead>\n",
       "  <tbody>\n",
       "    <tr>\n",
       "      <th>0</th>\n",
       "      <td>Albisrieden</td>\n",
       "      <td>91</td>\n",
       "      <td>282</td>\n",
       "      <td>89</td>\n",
       "    </tr>\n",
       "  </tbody>\n",
       "</table>\n",
       "</div>"
      ],
      "text/plain": [
       "      QuarLang  QuarCd  sum_Whg_abgebrochen  sum_Whg_fertigerstellt\n",
       "0  Albisrieden      91                  282                      89"
      ]
     },
     "execution_count": 137,
     "metadata": {},
     "output_type": "execute_result"
    }
   ],
   "source": [
    "myAgg = data2betested.loc[\"2021\"]  \\\n",
    "    .groupby(['QuarLang', 'QuarCd']) \\\n",
    "    .agg(sum_Whg_abgebrochen=('Whg_abgebrochen', 'sum'),sum_Whg_fertigerstellt=('Whg_fertigerstellt', 'sum')) \\\n",
    "    .sort_values('sum_Whg_abgebrochen', ascending=False) \n",
    "\n",
    "myAgg.reset_index().head(1)\n"
   ]
  },
  {
   "cell_type": "code",
   "execution_count": 138,
   "metadata": {},
   "outputs": [
    {
     "data": {
      "text/html": [
       "<div>\n",
       "<style scoped>\n",
       "    .dataframe tbody tr th:only-of-type {\n",
       "        vertical-align: middle;\n",
       "    }\n",
       "\n",
       "    .dataframe tbody tr th {\n",
       "        vertical-align: top;\n",
       "    }\n",
       "\n",
       "    .dataframe thead th {\n",
       "        text-align: right;\n",
       "    }\n",
       "</style>\n",
       "<table border=\"1\" class=\"dataframe\">\n",
       "  <thead>\n",
       "    <tr style=\"text-align: right;\">\n",
       "      <th></th>\n",
       "      <th>geometry</th>\n",
       "      <th>QuarCd</th>\n",
       "      <th>qname</th>\n",
       "      <th>knr</th>\n",
       "    </tr>\n",
       "  </thead>\n",
       "  <tbody>\n",
       "    <tr>\n",
       "      <th>0</th>\n",
       "      <td>POLYGON ((8.55670 47.36406, 8.55682 47.36410, ...</td>\n",
       "      <td>73</td>\n",
       "      <td>Hirslanden</td>\n",
       "      <td>7</td>\n",
       "    </tr>\n",
       "  </tbody>\n",
       "</table>\n",
       "</div>"
      ],
      "text/plain": [
       "                                            geometry  QuarCd       qname  knr\n",
       "0  POLYGON ((8.55670 47.36406, 8.55682 47.36410, ...      73  Hirslanden    7"
      ]
     },
     "execution_count": 138,
     "metadata": {},
     "output_type": "execute_result"
    }
   ],
   "source": [
    "# Rename attribute stznr to StatZoneSort, so the IDs have the same name\n",
    "gdf_adm_statistische_quartiere_map = df_adm_statistische_quartiere_map[['geometry', 'qnr', 'qname', 'knr']].rename(columns={'qnr': 'QuarCd'})\n",
    "gdf_adm_statistische_quartiere_map.head(1)"
   ]
  },
  {
   "cell_type": "code",
   "execution_count": 139,
   "metadata": {},
   "outputs": [
    {
     "data": {
      "text/html": [
       "<div>\n",
       "<style scoped>\n",
       "    .dataframe tbody tr th:only-of-type {\n",
       "        vertical-align: middle;\n",
       "    }\n",
       "\n",
       "    .dataframe tbody tr th {\n",
       "        vertical-align: top;\n",
       "    }\n",
       "\n",
       "    .dataframe thead th {\n",
       "        text-align: right;\n",
       "    }\n",
       "</style>\n",
       "<table border=\"1\" class=\"dataframe\">\n",
       "  <thead>\n",
       "    <tr style=\"text-align: right;\">\n",
       "      <th></th>\n",
       "      <th>geometry</th>\n",
       "      <th>QuarCd</th>\n",
       "      <th>qname</th>\n",
       "      <th>knr</th>\n",
       "      <th>sum_Whg_abgebrochen</th>\n",
       "      <th>sum_Whg_fertigerstellt</th>\n",
       "    </tr>\n",
       "  </thead>\n",
       "  <tbody>\n",
       "    <tr>\n",
       "      <th>0</th>\n",
       "      <td>POLYGON ((8.55670 47.36406, 8.55682 47.36410, ...</td>\n",
       "      <td>73</td>\n",
       "      <td>Hirslanden</td>\n",
       "      <td>7</td>\n",
       "      <td>48</td>\n",
       "      <td>2</td>\n",
       "    </tr>\n",
       "    <tr>\n",
       "      <th>1</th>\n",
       "      <td>POLYGON ((8.55670 47.36405, 8.55672 47.36403, ...</td>\n",
       "      <td>83</td>\n",
       "      <td>Weinegg</td>\n",
       "      <td>8</td>\n",
       "      <td>2</td>\n",
       "      <td>0</td>\n",
       "    </tr>\n",
       "  </tbody>\n",
       "</table>\n",
       "</div>"
      ],
      "text/plain": [
       "                                            geometry  QuarCd       qname  knr  \\\n",
       "0  POLYGON ((8.55670 47.36406, 8.55682 47.36410, ...      73  Hirslanden    7   \n",
       "1  POLYGON ((8.55670 47.36405, 8.55672 47.36403, ...      83     Weinegg    8   \n",
       "\n",
       "   sum_Whg_abgebrochen  sum_Whg_fertigerstellt  \n",
       "0                   48                       2  \n",
       "1                    2                       0  "
      ]
     },
     "execution_count": 139,
     "metadata": {},
     "output_type": "execute_result"
    }
   ],
   "source": [
    "# Merge with `merge` method on shared variable (stznr und StatZoneSort):\n",
    "gdf_adm_statistische_quartiere_map_joined = gdf_adm_statistische_quartiere_map.merge(myAgg, on='QuarCd')\n",
    "gdf_adm_statistische_quartiere_map_joined.head(2)\n"
   ]
  },
  {
   "cell_type": "code",
   "execution_count": 142,
   "metadata": {},
   "outputs": [
    {
     "data": {
      "text/plain": [
       "<AxesSubplot:>"
      ]
     },
     "execution_count": 142,
     "metadata": {},
     "output_type": "execute_result"
    },
    {
     "data": {
      "image/png": "[encoded data removed]",
      "text/plain": [
       "<Figure size 432x288 with 1 Axes>"
      ]
     },
     "metadata": {
      "needs_background": "light"
     },
     "output_type": "display_data"
    },
    {
     "data": {
      "image/png": "[encoded data removed]",
      "text/plain": [
       "<Figure size 432x288 with 1 Axes>"
      ]
     },
     "metadata": {
      "needs_background": "light"
     },
     "output_type": "display_data"
    }
   ],
   "source": [
    "# Plot by StatQuartiere\n",
    "# Weitere Schemes: scheme='quantiles', scheme='fisherjenks', scheme='natural_breaks',\n",
    "\n",
    "gdf_adm_statistische_quartiere_map_joined.plot(column='sum_Whg_fertigerstellt', cmap='viridis', scheme='natural_breaks', legend=True )\n",
    "gdf_adm_statistische_quartiere_map_joined.plot(column='sum_Whg_abgebrochen', cmap='viridis', scheme='natural_breaks', legend=True )\n",
    "\n",
    "#gdf_adm_statistische_quartiere_map_joined.plot(column='sum_Whg_abgebrochen', cmap='plasma', scheme='fisherjenks', legend=True )\n",
    "#gdf_adm_statistische_quartiere_map_joined.plot(column='sum_Whg_fertigerstellt', cmap='cool', scheme='quantiles', legend=True )\n",
    "#scheme werte: https://matplotlib.org/2.0.2/users/colormaps.html\n",
    "\n",
    "#\n",
    "#Neuere Gallerie: https://matplotlib.org/stable/gallery/index.html"
   ]
  },
  {
   "cell_type": "code",
   "execution_count": 157,
   "metadata": {},
   "outputs": [
    {
     "data": {
      "text/plain": [
       "<AxesSubplot:>"
      ]
     },
     "execution_count": 157,
     "metadata": {},
     "output_type": "execute_result"
    },
    {
     "data": {
      "image/png": "[encoded data removed]",
      "text/plain": [
       "<Figure size 432x288 with 2 Axes>"
      ]
     },
     "metadata": {
      "needs_background": "light"
     },
     "output_type": "display_data"
    }
   ],
   "source": [
    "fig, ax = plt.subplots(1, 1)\n",
    "\n",
    "gdf_adm_statistische_quartiere_map_joined.plot(column='sum_Whg_abgebrochen', ax=ax, legend=True, legend_kwds={'label': \"Anzahl abgebrochene Wohnungen 2021\",'orientation': \"horizontal\"})\n",
    "gdf_adm_statistische_quartiere_map_joined.plot(column='sum_Whg_fertigerstellt', ax=ax, legend=False, legend_kwds={'label': \"Anzahl fertigerstellte Wohnungen 2021\",'orientation': \"horizontal\"})\n",
    "\n",
    "#gdf_adm_statistische_quartiere_map_joined.plot(column='sum_Whg_abgebrochen', cmap='viridis', scheme='natural_breaks', legend=True , ax=ax, legend_kwds={'label': \"Anzahl Personen\",'orientation': \"horizontal\"})"
   ]
  },
  {
   "cell_type": "markdown",
   "metadata": {},
   "source": [
    "Noch zu prüfen, folgendes schöne Beispiel: https://docs.bokeh.org/en/latest/docs/user_guide/interaction/legends.html\n",
    "\n",
    "Konkrete Beispiele von Bookeh in Jupyter NB: https://docs.bokeh.org/en/latest/docs/user_guide/jupyter.html"
   ]
  },
  {
   "cell_type": "markdown",
   "metadata": {},
   "source": [
    "**Sharepoint als gecheckt markieren!**"
   ]
  },
  {
   "cell_type": "markdown",
   "metadata": {},
   "source": [
    "Record auf Sharepoint: **[Link](https://kollaboration.intranet.stzh.ch/orga/ssz-produkte/Lists/SASA_Outputs/DispForm.aspx?ID=636&ContentTypeId=0x0100988EAF029F1EFE4CA675F53C32A5D53D01006DBC563E6FBE9E4EB6FDC780799752E1)**"
   ]
  },
  {
   "cell_type": "code",
   "execution_count": null,
   "metadata": {},
   "outputs": [],
   "source": []
  },
  {
   "cell_type": "raw",
   "metadata": {},
   "source": []
  },
  {
   "cell_type": "code",
   "execution_count": null,
   "metadata": {},
   "outputs": [],
   "source": []
  }
 ],
 "metadata": {
  "kernelspec": {
   "display_name": "Python 3 (ipykernel)",
   "language": "python",
   "name": "python3"
  },
  "language_info": {
   "codemirror_mode": {
    "name": "ipython",
    "version": 3
   },
   "file_extension": ".py",
   "mimetype": "text/x-python",
   "name": "python",
   "nbconvert_exporter": "python",
   "pygments_lexer": "ipython3",
   "version": "3.9.7"
  }
 },
 "nbformat": 4,
 "nbformat_minor": 4
}
