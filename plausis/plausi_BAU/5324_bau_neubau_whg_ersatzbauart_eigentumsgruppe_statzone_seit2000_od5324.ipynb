{
 "cells": [
  {
   "cell_type": "markdown",
   "metadata": {},
   "source": [
    "# Testing\n",
    "### Neuerstellte Wohnungen nach Art Ersatzbau, Statistischer Zone und Eigentumsgruppe seit 2000\n",
    "Datum: 07.02.2022"
   ]
  },
  {
   "cell_type": "markdown",
   "metadata": {},
   "source": [
    "### Importiere die notwendigen Packages"
   ]
  },
  {
   "cell_type": "code",
   "execution_count": 35,
   "metadata": {},
   "outputs": [],
   "source": [
    "#%pip install geopandas altair fiona requests folium mplleaflet contextily seaborn datetime plotly leafmap"
   ]
  },
  {
   "cell_type": "code",
   "execution_count": 36,
   "metadata": {},
   "outputs": [],
   "source": [
    "import pandas as pd\n",
    "import pivottablejs\n",
    "from pivottablejs import pivot_ui\n",
    "import numpy as np\n",
    "import altair as alt\n",
    "import matplotlib.pyplot as plt\n",
    "#from datetime import datetime\n",
    "import datetime\n",
    "import geopandas as gpd\n",
    "import folium \n",
    "import plotly.express as px\n",
    "import seaborn as sns\n",
    "import leafmap\n"
   ]
  },
  {
   "cell_type": "markdown",
   "metadata": {},
   "source": [
    "Definiere Settings. Hier das Zahlenformat von Float-Werten (z.B. *'{:,.2f}'.format* mit Komma als Tausenderzeichen), "
   ]
  },
  {
   "cell_type": "code",
   "execution_count": 37,
   "metadata": {},
   "outputs": [],
   "source": [
    "pd.options.display.float_format = '{:.0f}'.format\n",
    "pd.set_option('display.width', 100)\n",
    "pd.set_option('display.max_columns', 15)"
   ]
  },
  {
   "cell_type": "markdown",
   "metadata": {},
   "source": [
    "### Zeitvariabeln\n",
    "Bestimme den aktuellst geladenen Monat. Hier ist es der Stand vor 2 Monaten. \n",
    "Bestimme noch weitere evt. sinnvolle Zeitvariabeln.\n",
    "\n",
    "Zum Unterschied zwischen import datetime und from datedtime import datetime, siehe https://stackoverflow.com/questions/15707532/import-datetime-v-s-from-datetime-import-datetime\n",
    "\n",
    "Zuerst die Zeitvariabeln als Strings"
   ]
  },
  {
   "cell_type": "code",
   "execution_count": null,
   "metadata": {},
   "outputs": [],
   "source": [
    "#today_date = datetime.date.today()\n",
    "#date_time = datetime.datetime.strptime(date_time_string, '%Y-%m-%d %H:%M')\n",
    "now = datetime.date.today()\n",
    "date_today = now.strftime(\"%Y-%m-%d\")\n",
    "year_today = now.strftime(\"%Y\")\n",
    "month_today = now.strftime(\"%m\")\n",
    "day_today = now.strftime(\"%d\")\n"
   ]
  },
  {
   "cell_type": "markdown",
   "metadata": {},
   "source": [
    "Und hier noch die Zeitvariabeln als Integers:\n",
    "- `aktuellesJahr`\n",
    "- `aktuellerMonat`: Der gerade jetzt aktuelle Monat\n",
    "- `selectedMonat`: Der aktuellste Monat in den Daten. In der Regel zwei Monate her."
   ]
  },
  {
   "cell_type": "code",
   "execution_count": 24,
   "metadata": {},
   "outputs": [
    {
     "name": "stdout",
     "output_type": "stream",
     "text": [
      "2022 2 datenstand:  0 time.struct_time(tm_year=2022, tm_mon=2, tm_mday=8, tm_hour=0, tm_min=0, tm_sec=0, tm_wday=1, tm_yday=39, tm_isdst=-1)\n"
     ]
    }
   ],
   "source": [
    "#now = datetime.now() \n",
    "int_times = now.timetuple()\n",
    "\n",
    "aktuellesJahr = int_times[0]\n",
    "aktuellerMonat = int_times[1]\n",
    "selectedMonat = int_times[1]-2\n",
    "\n",
    "print(aktuellesJahr, \n",
    "      aktuellerMonat,\n",
    "    'datenstand: ', selectedMonat,\n",
    "     int_times)\n"
   ]
  },
  {
   "cell_type": "markdown",
   "metadata": {},
   "source": [
    "Berechne die Variable Epoche um später das SAS-Datum in ein Unix-Datum umzuwandeln. Bei SAS beginnt die Epoche am 1.1.1960. Bei Unix am 1.1.1970.\n",
    "Diese Variable wird beim CSV-Import benötigt."
   ]
  },
  {
   "cell_type": "code",
   "execution_count": 25,
   "metadata": {},
   "outputs": [],
   "source": [
    "epoch = datetime.datetime(1960, 1, 1)"
   ]
  },
  {
   "cell_type": "markdown",
   "metadata": {
    "tags": []
   },
   "source": [
    "### Importiere einen Datensatz \n",
    "\n",
    "- Beachte dabei die Notation des Pfades...\n",
    "- Definiere mal aktuell noch keine weiteren Parameter beim Import"
   ]
  },
  {
   "cell_type": "markdown",
   "metadata": {},
   "source": [
    "**Dataset auf INTEG Datenkatalog**:  https://data.integ.stadt-zuerich.ch/dataset/bau_neubau_whg_ersatzbauart_eigentumsgruppe_statzone_seit2000_od5324\n",
    "\n",
    "**Dataset auf PROD Datenkatalog**:  https://data.stadt-zuerich.ch/dataset/bau_neubau_whg_ersatzbauart_eigentumsgruppe_statzone_seit2000_od5324\n"
   ]
  },
  {
   "cell_type": "code",
   "execution_count": 26,
   "metadata": {},
   "outputs": [
    {
     "name": "stdout",
     "output_type": "stream",
     "text": [
      "int\n"
     ]
    }
   ],
   "source": [
    "#Die Datasets sind nur zum Testen auf INT-DWH-Dropzone. Wenn der Test vorbei ist, sind sie auf PROD. \n",
    "# Über den Status kann man einfach switchen\n",
    "\n",
    "status = \"int\";\n",
    "print(status)"
   ]
  },
  {
   "cell_type": "code",
   "execution_count": 27,
   "metadata": {
    "tags": []
   },
   "outputs": [
    {
     "name": "stdout",
     "output_type": "stream",
     "text": [
      "\\\\szh\\ssz\\applikationen\\OGD_Dropzone\\INT_DWH\\bau_neubau_whg_ersatzbauart_eigentumsgruppe_statzone_seit2000_od5324\\BAU532OD5324.csv\n"
     ]
    }
   ],
   "source": [
    "# Filepath\n",
    "if status == \"prod\":\n",
    "    fp = r\"https://data.stadt-zuerich.ch/dataset/bau_neubau_whg_ersatzbauart_eigentumsgruppe_statzone_seit2000_od5324/download/BAU532OD5324.csv\"\n",
    "else:\n",
    "    fp = r\"\\\\szh\\ssz\\applikationen\\OGD_Dropzone\\INT_DWH\\bau_neubau_whg_ersatzbauart_eigentumsgruppe_statzone_seit2000_od5324\\BAU532OD5324.csv\"   \n",
    "\n",
    "print(fp)"
   ]
  },
  {
   "cell_type": "markdown",
   "metadata": {},
   "source": [
    "Beachte, wie das SAS Datum (ohne Format) in ein UNIX Datum umgerechnet und als Datumsformat dargestellt wird! Siehe dazu `https://stackoverflow.com/questions/26923564/convert-sas-numeric-to-python-datetime`"
   ]
  },
  {
   "cell_type": "code",
   "execution_count": 28,
   "metadata": {},
   "outputs": [
    {
     "name": "stdout",
     "output_type": "stream",
     "text": [
      "done\n"
     ]
    }
   ],
   "source": [
    "# Read the data\n",
    "data2betested = pd.read_csv(\n",
    "    fp\n",
    "    , sep=','\n",
    "    ,parse_dates=['Jahr']\n",
    "    # KONVERTIERE DAS SAS DATUM IN EIN UNIXDATUM UND FORMATIERE ES\n",
    "    #, date_parser=lambda s: epoch + datetime.timedelta(days=int(s))\n",
    "    ,low_memory=False    \n",
    "    )\n",
    "\n",
    "print('done')"
   ]
  },
  {
   "cell_type": "markdown",
   "metadata": {},
   "source": [
    "In der Folge ein paar erste Tests:"
   ]
  },
  {
   "cell_type": "markdown",
   "metadata": {},
   "source": [
    " - 1) Zeige eine kurze Vorschau der importierten Daten\n",
    " - 2) Weise die Datentypen aus\n",
    " - 3) Zeige die Shape (Umfang) des Datensatzes an"
   ]
  },
  {
   "cell_type": "code",
   "execution_count": 29,
   "metadata": {},
   "outputs": [],
   "source": [
    "#data2betested"
   ]
  },
  {
   "cell_type": "code",
   "execution_count": 30,
   "metadata": {},
   "outputs": [
    {
     "data": {
      "text/plain": [
       "Jahr             datetime64[ns]\n",
       "StatZoneSort              int64\n",
       "StatZoneLang             object\n",
       "QuarSort                  int64\n",
       "QuarLang                 object\n",
       "KreisSort                 int64\n",
       "KreisLang                object\n",
       "EigGruSort                int64\n",
       "EigGruLang               object\n",
       "ArtNeubauSort             int64\n",
       "ArtNeubauLang            object\n",
       "AnzWhg                    int64\n",
       "dtype: object"
      ]
     },
     "execution_count": 30,
     "metadata": {},
     "output_type": "execute_result"
    }
   ],
   "source": [
    "data2betested.dtypes"
   ]
  },
  {
   "cell_type": "code",
   "execution_count": 31,
   "metadata": {},
   "outputs": [
    {
     "data": {
      "text/plain": [
       "(1435, 12)"
      ]
     },
     "execution_count": 31,
     "metadata": {},
     "output_type": "execute_result"
    }
   ],
   "source": [
    "data2betested.shape"
   ]
  },
  {
   "cell_type": "markdown",
   "metadata": {},
   "source": [
    "Beschreibe einzelne Attribute"
   ]
  },
  {
   "cell_type": "code",
   "execution_count": 32,
   "metadata": {},
   "outputs": [
    {
     "data": {
      "text/html": [
       "<div>\n",
       "<style scoped>\n",
       "    .dataframe tbody tr th:only-of-type {\n",
       "        vertical-align: middle;\n",
       "    }\n",
       "\n",
       "    .dataframe tbody tr th {\n",
       "        vertical-align: top;\n",
       "    }\n",
       "\n",
       "    .dataframe thead th {\n",
       "        text-align: right;\n",
       "    }\n",
       "</style>\n",
       "<table border=\"1\" class=\"dataframe\">\n",
       "  <thead>\n",
       "    <tr style=\"text-align: right;\">\n",
       "      <th></th>\n",
       "      <th>StatZoneSort</th>\n",
       "      <th>QuarSort</th>\n",
       "      <th>KreisSort</th>\n",
       "      <th>EigGruSort</th>\n",
       "      <th>ArtNeubauSort</th>\n",
       "      <th>AnzWhg</th>\n",
       "    </tr>\n",
       "  </thead>\n",
       "  <tbody>\n",
       "    <tr>\n",
       "      <th>count</th>\n",
       "      <td>1435</td>\n",
       "      <td>1435</td>\n",
       "      <td>1435</td>\n",
       "      <td>1435</td>\n",
       "      <td>1435</td>\n",
       "      <td>1435</td>\n",
       "    </tr>\n",
       "    <tr>\n",
       "      <th>mean</th>\n",
       "      <td>1277</td>\n",
       "      <td>82</td>\n",
       "      <td>8</td>\n",
       "      <td>4</td>\n",
       "      <td>2</td>\n",
       "      <td>29</td>\n",
       "    </tr>\n",
       "    <tr>\n",
       "      <th>std</th>\n",
       "      <td>3082</td>\n",
       "      <td>31</td>\n",
       "      <td>3</td>\n",
       "      <td>1</td>\n",
       "      <td>1</td>\n",
       "      <td>51</td>\n",
       "    </tr>\n",
       "    <tr>\n",
       "      <th>min</th>\n",
       "      <td>1</td>\n",
       "      <td>11</td>\n",
       "      <td>1</td>\n",
       "      <td>1</td>\n",
       "      <td>1</td>\n",
       "      <td>1</td>\n",
       "    </tr>\n",
       "    <tr>\n",
       "      <th>25%</th>\n",
       "      <td>104</td>\n",
       "      <td>63</td>\n",
       "      <td>6</td>\n",
       "      <td>3</td>\n",
       "      <td>1</td>\n",
       "      <td>5</td>\n",
       "    </tr>\n",
       "    <tr>\n",
       "      <th>50%</th>\n",
       "      <td>150</td>\n",
       "      <td>91</td>\n",
       "      <td>9</td>\n",
       "      <td>4</td>\n",
       "      <td>1</td>\n",
       "      <td>11</td>\n",
       "    </tr>\n",
       "    <tr>\n",
       "      <th>75%</th>\n",
       "      <td>196</td>\n",
       "      <td>111</td>\n",
       "      <td>11</td>\n",
       "      <td>5</td>\n",
       "      <td>2</td>\n",
       "      <td>28</td>\n",
       "    </tr>\n",
       "    <tr>\n",
       "      <th>max</th>\n",
       "      <td>12304</td>\n",
       "      <td>123</td>\n",
       "      <td>12</td>\n",
       "      <td>5</td>\n",
       "      <td>3</td>\n",
       "      <td>829</td>\n",
       "    </tr>\n",
       "  </tbody>\n",
       "</table>\n",
       "</div>"
      ],
      "text/plain": [
       "       StatZoneSort  QuarSort  KreisSort  EigGruSort  ArtNeubauSort  AnzWhg\n",
       "count          1435      1435       1435        1435           1435    1435\n",
       "mean           1277        82          8           4              2      29\n",
       "std            3082        31          3           1              1      51\n",
       "min               1        11          1           1              1       1\n",
       "25%             104        63          6           3              1       5\n",
       "50%             150        91          9           4              1      11\n",
       "75%             196       111         11           5              2      28\n",
       "max           12304       123         12           5              3     829"
      ]
     },
     "execution_count": 32,
     "metadata": {},
     "output_type": "execute_result"
    }
   ],
   "source": [
    "data2betested.describe()"
   ]
  },
  {
   "cell_type": "markdown",
   "metadata": {},
   "source": [
    "Wie viele Nullwerte gibt es im Datensatz?"
   ]
  },
  {
   "cell_type": "code",
   "execution_count": 33,
   "metadata": {
    "scrolled": true
   },
   "outputs": [
    {
     "data": {
      "text/plain": [
       "Jahr             0\n",
       "StatZoneSort     0\n",
       "StatZoneLang     0\n",
       "QuarSort         0\n",
       "QuarLang         0\n",
       "KreisSort        0\n",
       "KreisLang        0\n",
       "EigGruSort       0\n",
       "EigGruLang       0\n",
       "ArtNeubauSort    0\n",
       "ArtNeubauLang    0\n",
       "AnzWhg           0\n",
       "dtype: int64"
      ]
     },
     "execution_count": 33,
     "metadata": {},
     "output_type": "execute_result"
    }
   ],
   "source": [
    "data2betested.isnull().sum()\n"
   ]
  },
  {
   "cell_type": "markdown",
   "metadata": {
    "colab_type": "text",
    "id": "1dTPVmmsgOVx"
   },
   "source": [
    "### Verwende das Datum als Index\n",
    "\n",
    "While we did already parse the `datetime` column into the respective datetime type, it currently is just a regular column. \n",
    "**To enable quick and convenient queries and aggregations, we need to turn it into the index of the DataFrame**"
   ]
  },
  {
   "cell_type": "code",
   "execution_count": 20,
   "metadata": {},
   "outputs": [],
   "source": [
    "data2betested = data2betested.set_index(\"Jahr\")"
   ]
  },
  {
   "cell_type": "code",
   "execution_count": 21,
   "metadata": {},
   "outputs": [
    {
     "name": "stdout",
     "output_type": "stream",
     "text": [
      "<class 'pandas.core.frame.DataFrame'>\n",
      "DatetimeIndex: 1205 entries, 2000-01-01 to 2021-01-01\n",
      "Data columns (total 11 columns):\n",
      " #   Column         Non-Null Count  Dtype  \n",
      "---  ------         --------------  -----  \n",
      " 0   StatZoneSort   197 non-null    float64\n",
      " 1   StatZoneLang   197 non-null    object \n",
      " 2   QuarSort       1205 non-null   int64  \n",
      " 3   QuarLang       1205 non-null   object \n",
      " 4   KreisSort      1205 non-null   int64  \n",
      " 5   KreisLang      1205 non-null   object \n",
      " 6   EigGruSort     1205 non-null   int64  \n",
      " 7   EigGruLang     1205 non-null   object \n",
      " 8   ArtNeubauSort  1205 non-null   int64  \n",
      " 9   ArtNeubauLang  1205 non-null   object \n",
      " 10  AnzWhg         1205 non-null   int64  \n",
      "dtypes: float64(1), int64(5), object(5)\n",
      "memory usage: 113.0+ KB\n"
     ]
    },
    {
     "data": {
      "text/plain": [
       "Int64Index([1], dtype='int64', name='Jahr')"
      ]
     },
     "execution_count": 21,
     "metadata": {},
     "output_type": "execute_result"
    }
   ],
   "source": [
    "data2betested.info()\n",
    "data2betested.index.day.unique()"
   ]
  },
  {
   "cell_type": "markdown",
   "metadata": {},
   "source": [
    "### Einfache Visualisierungen zur Plausi"
   ]
  },
  {
   "cell_type": "markdown",
   "metadata": {},
   "source": [
    "Exploriere die Daten mit Pivottable.JS"
   ]
  },
  {
   "cell_type": "code",
   "execution_count": 22,
   "metadata": {},
   "outputs": [
    {
     "data": {
      "text/html": [
       "\n",
       "        <iframe\n",
       "            width=\"100%\"\n",
       "            height=\"500\"\n",
       "            src=\"pivottablejs.html\"\n",
       "            frameborder=\"0\"\n",
       "            allowfullscreen\n",
       "        ></iframe>\n",
       "        "
      ],
      "text/plain": [
       "<IPython.lib.display.IFrame at 0x166597df430>"
      ]
     },
     "execution_count": 22,
     "metadata": {},
     "output_type": "execute_result"
    }
   ],
   "source": [
    "from pivottablejs import pivot_ui\n",
    "\n",
    "pivot_ui(data2betested)"
   ]
  },
  {
   "cell_type": "markdown",
   "metadata": {},
   "source": [
    "### Zeitpunkte und Zeiträume abfragen\n",
    "\n",
    "A particular powerful feature of the Pandas DataFrame is its indexing capability that also works using time-based entities, such as dates and times. We have already created the index above, so let's put it to use."
   ]
  },
  {
   "cell_type": "code",
   "execution_count": 23,
   "metadata": {},
   "outputs": [
    {
     "data": {
      "text/html": [
       "<div>\n",
       "<style scoped>\n",
       "    .dataframe tbody tr th:only-of-type {\n",
       "        vertical-align: middle;\n",
       "    }\n",
       "\n",
       "    .dataframe tbody tr th {\n",
       "        vertical-align: top;\n",
       "    }\n",
       "\n",
       "    .dataframe thead th {\n",
       "        text-align: right;\n",
       "    }\n",
       "</style>\n",
       "<table border=\"1\" class=\"dataframe\">\n",
       "  <thead>\n",
       "    <tr style=\"text-align: right;\">\n",
       "      <th></th>\n",
       "      <th>StatZoneSort</th>\n",
       "      <th>StatZoneLang</th>\n",
       "      <th>QuarSort</th>\n",
       "      <th>QuarLang</th>\n",
       "      <th>KreisSort</th>\n",
       "      <th>KreisLang</th>\n",
       "      <th>EigGruSort</th>\n",
       "      <th>EigGruLang</th>\n",
       "      <th>ArtNeubauSort</th>\n",
       "      <th>ArtNeubauLang</th>\n",
       "      <th>AnzWhg</th>\n",
       "    </tr>\n",
       "    <tr>\n",
       "      <th>Jahr</th>\n",
       "      <th></th>\n",
       "      <th></th>\n",
       "      <th></th>\n",
       "      <th></th>\n",
       "      <th></th>\n",
       "      <th></th>\n",
       "      <th></th>\n",
       "      <th></th>\n",
       "      <th></th>\n",
       "      <th></th>\n",
       "      <th></th>\n",
       "    </tr>\n",
       "  </thead>\n",
       "  <tbody>\n",
       "    <tr>\n",
       "      <th>2010-01-01</th>\n",
       "      <td>NaN</td>\n",
       "      <td>NaN</td>\n",
       "      <td>12</td>\n",
       "      <td>Hochschulen</td>\n",
       "      <td>1</td>\n",
       "      <td>Kreis 1</td>\n",
       "      <td>4</td>\n",
       "      <td>Privatpersonen</td>\n",
       "      <td>1</td>\n",
       "      <td>Neubau als Wohnersatz (Wohnbau anstelle Wohnbau)</td>\n",
       "      <td>4</td>\n",
       "    </tr>\n",
       "    <tr>\n",
       "      <th>2010-01-01</th>\n",
       "      <td>NaN</td>\n",
       "      <td>NaN</td>\n",
       "      <td>21</td>\n",
       "      <td>Wollishofen</td>\n",
       "      <td>2</td>\n",
       "      <td>Kreis 2</td>\n",
       "      <td>3</td>\n",
       "      <td>Andere Privatgesell.</td>\n",
       "      <td>1</td>\n",
       "      <td>Neubau als Wohnersatz (Wohnbau anstelle Wohnbau)</td>\n",
       "      <td>55</td>\n",
       "    </tr>\n",
       "  </tbody>\n",
       "</table>\n",
       "</div>"
      ],
      "text/plain": [
       "            StatZoneSort StatZoneLang  QuarSort     QuarLang  KreisSort KreisLang  EigGruSort  \\\n",
       "Jahr                                                                                            \n",
       "2010-01-01           NaN          NaN        12  Hochschulen          1   Kreis 1           4   \n",
       "2010-01-01           NaN          NaN        21  Wollishofen          2   Kreis 2           3   \n",
       "\n",
       "                      EigGruLang  ArtNeubauSort                                     ArtNeubauLang  \\\n",
       "Jahr                                                                                                \n",
       "2010-01-01        Privatpersonen              1  Neubau als Wohnersatz (Wohnbau anstelle Wohnbau)   \n",
       "2010-01-01  Andere Privatgesell.              1  Neubau als Wohnersatz (Wohnbau anstelle Wohnbau)   \n",
       "\n",
       "            AnzWhg  \n",
       "Jahr                \n",
       "2010-01-01       4  \n",
       "2010-01-01      55  "
      ]
     },
     "execution_count": 23,
     "metadata": {},
     "output_type": "execute_result"
    }
   ],
   "source": [
    "data2betested.loc[\"2010\":\"2021\"].query('EigGruLang != \"Natürliche Personen\"').head(2)\n",
    "#data2betested.loc[\"2021-10-31\":\"2021-11-30\"].head(2)"
   ]
  },
  {
   "cell_type": "markdown",
   "metadata": {},
   "source": [
    "### Visualisierungen nach Zeitausschnitten"
   ]
  },
  {
   "cell_type": "markdown",
   "metadata": {
    "tags": []
   },
   "source": [
    "#### Entwicklung Wohnungen nach Projektstatus und Zimmerzahl"
   ]
  },
  {
   "cell_type": "code",
   "execution_count": 51,
   "metadata": {},
   "outputs": [
    {
     "data": {
      "text/plain": [
       "Index(['StatZoneSort', 'StatZoneLang', 'QuarSort', 'QuarLang', 'KreisSort', 'KreisLang',\n",
       "       'EigGruSort', 'EigGruLang', 'ArtNeubauSort', 'ArtNeubauLang', 'AnzWhg'],\n",
       "      dtype='object')"
      ]
     },
     "execution_count": 51,
     "metadata": {},
     "output_type": "execute_result"
    }
   ],
   "source": [
    "data2betested.columns"
   ]
  },
  {
   "cell_type": "code",
   "execution_count": 61,
   "metadata": {
    "tags": []
   },
   "outputs": [],
   "source": [
    "#myAgg = data2betested.loc[\"2008-11-30\":\"2021-10-31\"]\n",
    "myAgg = data2betested.loc[\"2000\":\"2021\"]\\\n",
    "    .groupby(['Jahr','ArtNeubauSort', 'ArtNeubauLang']) \\\n",
    "    .agg(sum_AnzWhg=('AnzWhg', 'sum')) \\\n",
    "    .sort_values('Jahr', ascending=True) \n",
    "#myAgg.reset_index()"
   ]
  },
  {
   "cell_type": "code",
   "execution_count": 62,
   "metadata": {},
   "outputs": [
    {
     "data": {
      "text/html": [
       "\n",
       "<div id=\"altair-viz-de9d6749b194453c8beb0232b38b7fc5\"></div>\n",
       "<script type=\"text/javascript\">\n",
       "  (function(spec, embedOpt){\n",
       "    let outputDiv = document.currentScript.previousElementSibling;\n",
       "    if (outputDiv.id !== \"altair-viz-de9d6749b194453c8beb0232b38b7fc5\") {\n",
       "      outputDiv = document.getElementById(\"altair-viz-de9d6749b194453c8beb0232b38b7fc5\");\n",
       "    }\n",
       "    const paths = {\n",
       "      \"vega\": \"https://cdn.jsdelivr.net/npm//vega@5?noext\",\n",
       "      \"vega-lib\": \"https://cdn.jsdelivr.net/npm//vega-lib?noext\",\n",
       "      \"vega-lite\": \"https://cdn.jsdelivr.net/npm//vega-lite@4.8.1?noext\",\n",
       "      \"vega-embed\": \"https://cdn.jsdelivr.net/npm//vega-embed@6?noext\",\n",
       "    };\n",
       "\n",
       "    function loadScript(lib) {\n",
       "      return new Promise(function(resolve, reject) {\n",
       "        var s = document.createElement('script');\n",
       "        s.src = paths[lib];\n",
       "        s.async = true;\n",
       "        s.onload = () => resolve(paths[lib]);\n",
       "        s.onerror = () => reject(`Error loading script: ${paths[lib]}`);\n",
       "        document.getElementsByTagName(\"head\")[0].appendChild(s);\n",
       "      });\n",
       "    }\n",
       "\n",
       "    function showError(err) {\n",
       "      outputDiv.innerHTML = `<div class=\"error\" style=\"color:red;\">${err}</div>`;\n",
       "      throw err;\n",
       "    }\n",
       "\n",
       "    function displayChart(vegaEmbed) {\n",
       "      vegaEmbed(outputDiv, spec, embedOpt)\n",
       "        .catch(err => showError(`Javascript Error: ${err.message}<br>This usually means there's a typo in your chart specification. See the javascript console for the full traceback.`));\n",
       "    }\n",
       "\n",
       "    if(typeof define === \"function\" && define.amd) {\n",
       "      requirejs.config({paths});\n",
       "      require([\"vega-embed\"], displayChart, err => showError(`Error loading script: ${err.message}`));\n",
       "    } else if (typeof vegaEmbed === \"function\") {\n",
       "      displayChart(vegaEmbed);\n",
       "    } else {\n",
       "      loadScript(\"vega\")\n",
       "        .then(() => loadScript(\"vega-lite\"))\n",
       "        .then(() => loadScript(\"vega-embed\"))\n",
       "        .catch(showError)\n",
       "        .then(() => displayChart(vegaEmbed));\n",
       "    }\n",
       "  })({\"config\": {\"view\": {\"continuousWidth\": 400, \"continuousHeight\": 300}}, \"layer\": [{\"mark\": \"line\", \"encoding\": {\"color\": {\"type\": \"nominal\", \"field\": \"ArtNeubauLang\", \"legend\": {\"orient\": \"right\", \"title\": \"Art des Neubaus\"}}, \"size\": {\"condition\": {\"value\": 0.5, \"selection\": {\"not\": \"selector010\"}}, \"value\": 4}, \"tooltip\": [{\"type\": \"temporal\", \"field\": \"Jahr\"}, {\"type\": \"nominal\", \"field\": \"ArtNeubauLang\"}, {\"type\": \"quantitative\", \"field\": \"sum_AnzWhg\"}], \"x\": {\"type\": \"temporal\", \"axis\": {\"title\": \"Jahr\"}, \"field\": \"Jahr\"}, \"y\": {\"type\": \"quantitative\", \"axis\": {\"title\": \"Anz. neuerstellter Wohnungen\"}, \"field\": \"sum_AnzWhg\"}}, \"selection\": {\"selector011\": {\"type\": \"interval\", \"bind\": \"scales\", \"encodings\": [\"x\", \"y\"]}}, \"title\": \"ArtNeubauLang\"}, {\"mark\": \"circle\", \"encoding\": {\"color\": {\"type\": \"nominal\", \"field\": \"ArtNeubauLang\", \"legend\": {\"orient\": \"right\", \"title\": \"Art des Neubaus\"}}, \"opacity\": {\"value\": 0.75}, \"tooltip\": [{\"type\": \"temporal\", \"field\": \"Jahr\"}, {\"type\": \"nominal\", \"field\": \"ArtNeubauLang\"}, {\"type\": \"quantitative\", \"field\": \"sum_AnzWhg\"}], \"x\": {\"type\": \"temporal\", \"axis\": {\"title\": \"Jahr\"}, \"field\": \"Jahr\"}, \"y\": {\"type\": \"quantitative\", \"axis\": {\"title\": \"Anz. neuerstellter Wohnungen\"}, \"field\": \"sum_AnzWhg\"}}, \"height\": 350, \"selection\": {\"selector010\": {\"type\": \"single\", \"on\": \"mouseover\", \"fields\": [\"ArtNeubauLang\"], \"nearest\": true}}, \"title\": \"ArtNeubauLang\", \"width\": 750}], \"data\": {\"name\": \"data-7e1bc52947ffb7e41a536143718d84dd\"}, \"$schema\": \"https://vega.github.io/schema/vega-lite/v4.8.1.json\", \"datasets\": {\"data-7e1bc52947ffb7e41a536143718d84dd\": [{\"Jahr\": \"2000-01-01T00:00:00\", \"ArtNeubauSort\": 1, \"ArtNeubauLang\": \"Neubau als Wohnersatz (Wohnbau anstelle Wohnbau)\", \"sum_AnzWhg\": 141}, {\"Jahr\": \"2000-01-01T00:00:00\", \"ArtNeubauSort\": 2, \"ArtNeubauLang\": \"Neubau als Umnutzung (Wohnbau anstelle Nichtwohnbau)\", \"sum_AnzWhg\": 900}, {\"Jahr\": \"2000-01-01T00:00:00\", \"ArtNeubauSort\": 3, \"ArtNeubauLang\": \"Neubau auf unbebautem Land (kein Ersatzbau)\", \"sum_AnzWhg\": 442}, {\"Jahr\": \"2001-01-01T00:00:00\", \"ArtNeubauSort\": 1, \"ArtNeubauLang\": \"Neubau als Wohnersatz (Wohnbau anstelle Wohnbau)\", \"sum_AnzWhg\": 217}, {\"Jahr\": \"2001-01-01T00:00:00\", \"ArtNeubauSort\": 2, \"ArtNeubauLang\": \"Neubau als Umnutzung (Wohnbau anstelle Nichtwohnbau)\", \"sum_AnzWhg\": 369}, {\"Jahr\": \"2001-01-01T00:00:00\", \"ArtNeubauSort\": 3, \"ArtNeubauLang\": \"Neubau auf unbebautem Land (kein Ersatzbau)\", \"sum_AnzWhg\": 553}, {\"Jahr\": \"2002-01-01T00:00:00\", \"ArtNeubauSort\": 1, \"ArtNeubauLang\": \"Neubau als Wohnersatz (Wohnbau anstelle Wohnbau)\", \"sum_AnzWhg\": 277}, {\"Jahr\": \"2002-01-01T00:00:00\", \"ArtNeubauSort\": 2, \"ArtNeubauLang\": \"Neubau als Umnutzung (Wohnbau anstelle Nichtwohnbau)\", \"sum_AnzWhg\": 320}, {\"Jahr\": \"2002-01-01T00:00:00\", \"ArtNeubauSort\": 3, \"ArtNeubauLang\": \"Neubau auf unbebautem Land (kein Ersatzbau)\", \"sum_AnzWhg\": 392}, {\"Jahr\": \"2003-01-01T00:00:00\", \"ArtNeubauSort\": 1, \"ArtNeubauLang\": \"Neubau als Wohnersatz (Wohnbau anstelle Wohnbau)\", \"sum_AnzWhg\": 187}, {\"Jahr\": \"2003-01-01T00:00:00\", \"ArtNeubauSort\": 2, \"ArtNeubauLang\": \"Neubau als Umnutzung (Wohnbau anstelle Nichtwohnbau)\", \"sum_AnzWhg\": 419}, {\"Jahr\": \"2003-01-01T00:00:00\", \"ArtNeubauSort\": 3, \"ArtNeubauLang\": \"Neubau auf unbebautem Land (kein Ersatzbau)\", \"sum_AnzWhg\": 890}, {\"Jahr\": \"2004-01-01T00:00:00\", \"ArtNeubauSort\": 1, \"ArtNeubauLang\": \"Neubau als Wohnersatz (Wohnbau anstelle Wohnbau)\", \"sum_AnzWhg\": 192}, {\"Jahr\": \"2004-01-01T00:00:00\", \"ArtNeubauSort\": 2, \"ArtNeubauLang\": \"Neubau als Umnutzung (Wohnbau anstelle Nichtwohnbau)\", \"sum_AnzWhg\": 482}, {\"Jahr\": \"2004-01-01T00:00:00\", \"ArtNeubauSort\": 3, \"ArtNeubauLang\": \"Neubau auf unbebautem Land (kein Ersatzbau)\", \"sum_AnzWhg\": 275}, {\"Jahr\": \"2005-01-01T00:00:00\", \"ArtNeubauSort\": 3, \"ArtNeubauLang\": \"Neubau auf unbebautem Land (kein Ersatzbau)\", \"sum_AnzWhg\": 294}, {\"Jahr\": \"2005-01-01T00:00:00\", \"ArtNeubauSort\": 1, \"ArtNeubauLang\": \"Neubau als Wohnersatz (Wohnbau anstelle Wohnbau)\", \"sum_AnzWhg\": 230}, {\"Jahr\": \"2005-01-01T00:00:00\", \"ArtNeubauSort\": 2, \"ArtNeubauLang\": \"Neubau als Umnutzung (Wohnbau anstelle Nichtwohnbau)\", \"sum_AnzWhg\": 728}, {\"Jahr\": \"2006-01-01T00:00:00\", \"ArtNeubauSort\": 1, \"ArtNeubauLang\": \"Neubau als Wohnersatz (Wohnbau anstelle Wohnbau)\", \"sum_AnzWhg\": 304}, {\"Jahr\": \"2006-01-01T00:00:00\", \"ArtNeubauSort\": 2, \"ArtNeubauLang\": \"Neubau als Umnutzung (Wohnbau anstelle Nichtwohnbau)\", \"sum_AnzWhg\": 1190}, {\"Jahr\": \"2006-01-01T00:00:00\", \"ArtNeubauSort\": 3, \"ArtNeubauLang\": \"Neubau auf unbebautem Land (kein Ersatzbau)\", \"sum_AnzWhg\": 214}, {\"Jahr\": \"2007-01-01T00:00:00\", \"ArtNeubauSort\": 1, \"ArtNeubauLang\": \"Neubau als Wohnersatz (Wohnbau anstelle Wohnbau)\", \"sum_AnzWhg\": 454}, {\"Jahr\": \"2007-01-01T00:00:00\", \"ArtNeubauSort\": 2, \"ArtNeubauLang\": \"Neubau als Umnutzung (Wohnbau anstelle Nichtwohnbau)\", \"sum_AnzWhg\": 1420}, {\"Jahr\": \"2007-01-01T00:00:00\", \"ArtNeubauSort\": 3, \"ArtNeubauLang\": \"Neubau auf unbebautem Land (kein Ersatzbau)\", \"sum_AnzWhg\": 373}, {\"Jahr\": \"2008-01-01T00:00:00\", \"ArtNeubauSort\": 1, \"ArtNeubauLang\": \"Neubau als Wohnersatz (Wohnbau anstelle Wohnbau)\", \"sum_AnzWhg\": 326}, {\"Jahr\": \"2008-01-01T00:00:00\", \"ArtNeubauSort\": 2, \"ArtNeubauLang\": \"Neubau als Umnutzung (Wohnbau anstelle Nichtwohnbau)\", \"sum_AnzWhg\": 512}, {\"Jahr\": \"2008-01-01T00:00:00\", \"ArtNeubauSort\": 3, \"ArtNeubauLang\": \"Neubau auf unbebautem Land (kein Ersatzbau)\", \"sum_AnzWhg\": 440}, {\"Jahr\": \"2009-01-01T00:00:00\", \"ArtNeubauSort\": 3, \"ArtNeubauLang\": \"Neubau auf unbebautem Land (kein Ersatzbau)\", \"sum_AnzWhg\": 246}, {\"Jahr\": \"2009-01-01T00:00:00\", \"ArtNeubauSort\": 1, \"ArtNeubauLang\": \"Neubau als Wohnersatz (Wohnbau anstelle Wohnbau)\", \"sum_AnzWhg\": 614}, {\"Jahr\": \"2009-01-01T00:00:00\", \"ArtNeubauSort\": 2, \"ArtNeubauLang\": \"Neubau als Umnutzung (Wohnbau anstelle Nichtwohnbau)\", \"sum_AnzWhg\": 521}, {\"Jahr\": \"2010-01-01T00:00:00\", \"ArtNeubauSort\": 2, \"ArtNeubauLang\": \"Neubau als Umnutzung (Wohnbau anstelle Nichtwohnbau)\", \"sum_AnzWhg\": 631}, {\"Jahr\": \"2010-01-01T00:00:00\", \"ArtNeubauSort\": 3, \"ArtNeubauLang\": \"Neubau auf unbebautem Land (kein Ersatzbau)\", \"sum_AnzWhg\": 63}, {\"Jahr\": \"2010-01-01T00:00:00\", \"ArtNeubauSort\": 1, \"ArtNeubauLang\": \"Neubau als Wohnersatz (Wohnbau anstelle Wohnbau)\", \"sum_AnzWhg\": 511}, {\"Jahr\": \"2011-01-01T00:00:00\", \"ArtNeubauSort\": 1, \"ArtNeubauLang\": \"Neubau als Wohnersatz (Wohnbau anstelle Wohnbau)\", \"sum_AnzWhg\": 1090}, {\"Jahr\": \"2011-01-01T00:00:00\", \"ArtNeubauSort\": 2, \"ArtNeubauLang\": \"Neubau als Umnutzung (Wohnbau anstelle Nichtwohnbau)\", \"sum_AnzWhg\": 752}, {\"Jahr\": \"2011-01-01T00:00:00\", \"ArtNeubauSort\": 3, \"ArtNeubauLang\": \"Neubau auf unbebautem Land (kein Ersatzbau)\", \"sum_AnzWhg\": 465}, {\"Jahr\": \"2012-01-01T00:00:00\", \"ArtNeubauSort\": 1, \"ArtNeubauLang\": \"Neubau als Wohnersatz (Wohnbau anstelle Wohnbau)\", \"sum_AnzWhg\": 1352}, {\"Jahr\": \"2012-01-01T00:00:00\", \"ArtNeubauSort\": 2, \"ArtNeubauLang\": \"Neubau als Umnutzung (Wohnbau anstelle Nichtwohnbau)\", \"sum_AnzWhg\": 762}, {\"Jahr\": \"2012-01-01T00:00:00\", \"ArtNeubauSort\": 3, \"ArtNeubauLang\": \"Neubau auf unbebautem Land (kein Ersatzbau)\", \"sum_AnzWhg\": 141}, {\"Jahr\": \"2013-01-01T00:00:00\", \"ArtNeubauSort\": 3, \"ArtNeubauLang\": \"Neubau auf unbebautem Land (kein Ersatzbau)\", \"sum_AnzWhg\": 168}, {\"Jahr\": \"2013-01-01T00:00:00\", \"ArtNeubauSort\": 2, \"ArtNeubauLang\": \"Neubau als Umnutzung (Wohnbau anstelle Nichtwohnbau)\", \"sum_AnzWhg\": 1470}, {\"Jahr\": \"2013-01-01T00:00:00\", \"ArtNeubauSort\": 1, \"ArtNeubauLang\": \"Neubau als Wohnersatz (Wohnbau anstelle Wohnbau)\", \"sum_AnzWhg\": 864}, {\"Jahr\": \"2014-01-01T00:00:00\", \"ArtNeubauSort\": 1, \"ArtNeubauLang\": \"Neubau als Wohnersatz (Wohnbau anstelle Wohnbau)\", \"sum_AnzWhg\": 1126}, {\"Jahr\": \"2014-01-01T00:00:00\", \"ArtNeubauSort\": 2, \"ArtNeubauLang\": \"Neubau als Umnutzung (Wohnbau anstelle Nichtwohnbau)\", \"sum_AnzWhg\": 662}, {\"Jahr\": \"2014-01-01T00:00:00\", \"ArtNeubauSort\": 3, \"ArtNeubauLang\": \"Neubau auf unbebautem Land (kein Ersatzbau)\", \"sum_AnzWhg\": 151}, {\"Jahr\": \"2015-01-01T00:00:00\", \"ArtNeubauSort\": 1, \"ArtNeubauLang\": \"Neubau als Wohnersatz (Wohnbau anstelle Wohnbau)\", \"sum_AnzWhg\": 1370}, {\"Jahr\": \"2015-01-01T00:00:00\", \"ArtNeubauSort\": 2, \"ArtNeubauLang\": \"Neubau als Umnutzung (Wohnbau anstelle Nichtwohnbau)\", \"sum_AnzWhg\": 1659}, {\"Jahr\": \"2015-01-01T00:00:00\", \"ArtNeubauSort\": 3, \"ArtNeubauLang\": \"Neubau auf unbebautem Land (kein Ersatzbau)\", \"sum_AnzWhg\": 186}, {\"Jahr\": \"2016-01-01T00:00:00\", \"ArtNeubauSort\": 3, \"ArtNeubauLang\": \"Neubau auf unbebautem Land (kein Ersatzbau)\", \"sum_AnzWhg\": 522}, {\"Jahr\": \"2016-01-01T00:00:00\", \"ArtNeubauSort\": 1, \"ArtNeubauLang\": \"Neubau als Wohnersatz (Wohnbau anstelle Wohnbau)\", \"sum_AnzWhg\": 1088}, {\"Jahr\": \"2016-01-01T00:00:00\", \"ArtNeubauSort\": 2, \"ArtNeubauLang\": \"Neubau als Umnutzung (Wohnbau anstelle Nichtwohnbau)\", \"sum_AnzWhg\": 1385}, {\"Jahr\": \"2017-01-01T00:00:00\", \"ArtNeubauSort\": 1, \"ArtNeubauLang\": \"Neubau als Wohnersatz (Wohnbau anstelle Wohnbau)\", \"sum_AnzWhg\": 1546}, {\"Jahr\": \"2017-01-01T00:00:00\", \"ArtNeubauSort\": 2, \"ArtNeubauLang\": \"Neubau als Umnutzung (Wohnbau anstelle Nichtwohnbau)\", \"sum_AnzWhg\": 801}, {\"Jahr\": \"2017-01-01T00:00:00\", \"ArtNeubauSort\": 3, \"ArtNeubauLang\": \"Neubau auf unbebautem Land (kein Ersatzbau)\", \"sum_AnzWhg\": 315}, {\"Jahr\": \"2018-01-01T00:00:00\", \"ArtNeubauSort\": 1, \"ArtNeubauLang\": \"Neubau als Wohnersatz (Wohnbau anstelle Wohnbau)\", \"sum_AnzWhg\": 1725}, {\"Jahr\": \"2018-01-01T00:00:00\", \"ArtNeubauSort\": 2, \"ArtNeubauLang\": \"Neubau als Umnutzung (Wohnbau anstelle Nichtwohnbau)\", \"sum_AnzWhg\": 1582}, {\"Jahr\": \"2018-01-01T00:00:00\", \"ArtNeubauSort\": 3, \"ArtNeubauLang\": \"Neubau auf unbebautem Land (kein Ersatzbau)\", \"sum_AnzWhg\": 53}, {\"Jahr\": \"2019-01-01T00:00:00\", \"ArtNeubauSort\": 1, \"ArtNeubauLang\": \"Neubau als Wohnersatz (Wohnbau anstelle Wohnbau)\", \"sum_AnzWhg\": 1362}, {\"Jahr\": \"2019-01-01T00:00:00\", \"ArtNeubauSort\": 2, \"ArtNeubauLang\": \"Neubau als Umnutzung (Wohnbau anstelle Nichtwohnbau)\", \"sum_AnzWhg\": 410}, {\"Jahr\": \"2019-01-01T00:00:00\", \"ArtNeubauSort\": 3, \"ArtNeubauLang\": \"Neubau auf unbebautem Land (kein Ersatzbau)\", \"sum_AnzWhg\": 207}, {\"Jahr\": \"2020-01-01T00:00:00\", \"ArtNeubauSort\": 2, \"ArtNeubauLang\": \"Neubau als Umnutzung (Wohnbau anstelle Nichtwohnbau)\", \"sum_AnzWhg\": 858}, {\"Jahr\": \"2020-01-01T00:00:00\", \"ArtNeubauSort\": 1, \"ArtNeubauLang\": \"Neubau als Wohnersatz (Wohnbau anstelle Wohnbau)\", \"sum_AnzWhg\": 848}, {\"Jahr\": \"2020-01-01T00:00:00\", \"ArtNeubauSort\": 3, \"ArtNeubauLang\": \"Neubau auf unbebautem Land (kein Ersatzbau)\", \"sum_AnzWhg\": 66}, {\"Jahr\": \"2021-01-01T00:00:00\", \"ArtNeubauSort\": 2, \"ArtNeubauLang\": \"Neubau als Umnutzung (Wohnbau anstelle Nichtwohnbau)\", \"sum_AnzWhg\": 631}, {\"Jahr\": \"2021-01-01T00:00:00\", \"ArtNeubauSort\": 1, \"ArtNeubauLang\": \"Neubau als Wohnersatz (Wohnbau anstelle Wohnbau)\", \"sum_AnzWhg\": 1180}, {\"Jahr\": \"2021-01-01T00:00:00\", \"ArtNeubauSort\": 3, \"ArtNeubauLang\": \"Neubau auf unbebautem Land (kein Ersatzbau)\", \"sum_AnzWhg\": 118}]}}, {\"mode\": \"vega-lite\"});\n",
       "</script>"
      ],
      "text/plain": [
       "alt.LayerChart(...)"
      ]
     },
     "execution_count": 62,
     "metadata": {},
     "output_type": "execute_result"
    }
   ],
   "source": [
    "highlight = alt.selection(type='single', on='mouseover',\n",
    "                          fields=['ArtNeubauLang'], nearest=True)\n",
    "#x='date:StichtagDatJahr',\n",
    "base = alt.Chart(myAgg.reset_index(), title=\"ArtNeubauLang\").encode(\n",
    "    x=alt.X('Jahr', axis=alt.Axis(title='Jahr'))# , axis=alt.Axis(format='%', title='percentage')\n",
    "    , y=alt.X('sum_AnzWhg', axis=alt.Axis(title='Anz. neuerstellter Wohnungen'))\n",
    "    , color=alt.Color('ArtNeubauLang', legend=alt.Legend(title=\"Art des Neubaus\", orient=\"right\"))  \n",
    "    ,tooltip=['Jahr', 'ArtNeubauLang','sum_AnzWhg']    \n",
    ")\n",
    "points = base.mark_circle().encode(\n",
    "    opacity=alt.value(0.75)\n",
    ").add_selection(\n",
    "    highlight\n",
    ").properties(\n",
    "    width=750 , height=350\n",
    ")\n",
    "lines = base.mark_line().encode(\n",
    "    size=alt.condition(~highlight, alt.value(0.5), alt.value(4))\n",
    ").interactive()\n",
    "\n",
    "lines + points"
   ]
  },
  {
   "cell_type": "code",
   "execution_count": 63,
   "metadata": {},
   "outputs": [
    {
     "data": {
      "text/plain": [
       "StatZoneSort     float64\n",
       "StatZoneLang      object\n",
       "QuarSort           int64\n",
       "QuarLang          object\n",
       "KreisSort          int64\n",
       "KreisLang         object\n",
       "EigGruSort         int64\n",
       "EigGruLang        object\n",
       "ArtNeubauSort      int64\n",
       "ArtNeubauLang     object\n",
       "AnzWhg             int64\n",
       "dtype: object"
      ]
     },
     "execution_count": 63,
     "metadata": {},
     "output_type": "execute_result"
    }
   ],
   "source": [
    "data2betested.dtypes"
   ]
  },
  {
   "cell_type": "markdown",
   "metadata": {
    "tags": []
   },
   "source": [
    "#### Barcharts mit Seaborn"
   ]
  },
  {
   "cell_type": "code",
   "execution_count": 64,
   "metadata": {},
   "outputs": [],
   "source": [
    "myAggBar = data2betested.loc[\"2000\":\"2021\"]\\\n",
    "    .groupby(['Jahr','ArtNeubauSort', 'ArtNeubauLang']) \\\n",
    "    .agg(sum_AnzWhg=('AnzWhg', 'sum')) \\\n",
    "    .sort_values('Jahr', ascending=True) \n",
    "#myAggBar.reset_index()"
   ]
  },
  {
   "cell_type": "code",
   "execution_count": 65,
   "metadata": {},
   "outputs": [],
   "source": [
    "#help(sns.catplot)     "
   ]
  },
  {
   "cell_type": "code",
   "execution_count": 66,
   "metadata": {},
   "outputs": [],
   "source": [
    "#Stile for the following sns graphs\n",
    "sns.set_theme(style=\"whitegrid\")"
   ]
  },
  {
   "cell_type": "markdown",
   "metadata": {},
   "source": [
    "#### Entwicklung der neu erstellten Wohnungen nach Art des Neubaus"
   ]
  },
  {
   "cell_type": "code",
   "execution_count": 68,
   "metadata": {},
   "outputs": [
    {
     "data": {
      "text/plain": [
       "<seaborn.axisgrid.FacetGrid at 0x17176579280>"
      ]
     },
     "execution_count": 68,
     "metadata": {},
     "output_type": "execute_result"
    },
    {
     "data": {
      "image/png": "[encoded data removed]",
      "text/plain": [
       "<Figure size 1046.1x360 with 1 Axes>"
      ]
     },
     "metadata": {},
     "output_type": "display_data"
    }
   ],
   "source": [
    "#sns.color_palette(\"flare\", as_cmap=True)\n",
    "myHist = sns.catplot(x=\"Jahr\"\n",
    "            , y=\"sum_AnzWhg\"\n",
    "            , hue=\"ArtNeubauLang\"\n",
    "            , kind=\"bar\" #boxen, violin, --> wenn die aggregation nicht genau den werten in der grafik entspricht\n",
    "            , palette=\"pastel\" #, color=\"green\"\n",
    "            , height=5\n",
    "            , aspect=2\n",
    "            , order=None, legend_out=True\n",
    "            ,data=myAggBar.reset_index()\n",
    "           )\n",
    "myHist.set_xlabels('Jahr', fontsize=11) # not set_label\n",
    "myHist.set_ylabels('Anz. sum_Whg5Ziplus', fontsize=11)\n"
   ]
  },
  {
   "cell_type": "code",
   "execution_count": 69,
   "metadata": {},
   "outputs": [
    {
     "data": {
      "text/plain": [
       "QuarSort       int64\n",
       "QuarLang      object\n",
       "KreisSort      int64\n",
       "KreisLang     object\n",
       "EigGruSort     int64\n",
       "EigGruLang    object\n",
       "Whg1Zi         int64\n",
       "Whg2Zi         int64\n",
       "Whg3Zi         int64\n",
       "Whg4Zi         int64\n",
       "Whg5Ziplus     int64\n",
       "dtype: object"
      ]
     },
     "execution_count": 69,
     "metadata": {},
     "output_type": "execute_result"
    }
   ],
   "source": [
    "data2betested.dtypes"
   ]
  },
  {
   "cell_type": "markdown",
   "metadata": {},
   "source": [
    "#### Entwicklung der neu erstellten Wohnungen nach Kreis und Art des Neubaus"
   ]
  },
  {
   "cell_type": "code",
   "execution_count": 76,
   "metadata": {},
   "outputs": [],
   "source": [
    "myAggBar = data2betested.loc[\"2000\":\"2021\"]\\\n",
    "    .groupby(['Jahr','KreisSort','KreisLang', 'ArtNeubauSort', 'ArtNeubauLang']) \\\n",
    "    .agg(sum_AnzWhg=('AnzWhg', 'sum')) \\\n",
    "    .sort_values('KreisSort', ascending=True) \n",
    "#myAggBar.reset_index()"
   ]
  },
  {
   "cell_type": "code",
   "execution_count": 77,
   "metadata": {},
   "outputs": [
    {
     "data": {
      "text/plain": [
       "<seaborn.axisgrid.FacetGrid at 0x17102258af0>"
      ]
     },
     "execution_count": 77,
     "metadata": {},
     "output_type": "execute_result"
    },
    {
     "data": {
      "image/png": "[encoded data removed]",
      "text/plain": [
       "<Figure size 1190.1x648 with 12 Axes>"
      ]
     },
     "metadata": {},
     "output_type": "display_data"
    }
   ],
   "source": [
    "g = sns.FacetGrid(myAggBar.reset_index(), col=\"KreisLang\", hue=\"ArtNeubauLang\", col_wrap=4, height=3,)\n",
    "#g.map(sns.scatterplot, \"sum_Whg1Zi\", \"sum_Whg4Zi\", alpha=.8)\n",
    "g.map(sns.lineplot, \"Jahr\",\"sum_AnzWhg\",alpha=.8)\n",
    "g.add_legend()\n"
   ]
  },
  {
   "cell_type": "code",
   "execution_count": null,
   "metadata": {},
   "outputs": [],
   "source": []
  },
  {
   "cell_type": "markdown",
   "metadata": {},
   "source": [
    "### Daten in interaktiver Treemap zeigen\n",
    "Dazu gibt es eine sehr nützliche Webseite https://plotly.com/python/treemaps/\n",
    "Zu Farbskalen, siehe: https://plotly.com/python/builtin-colorscales/"
   ]
  },
  {
   "cell_type": "markdown",
   "metadata": {
    "tags": []
   },
   "source": [
    "#### Neu erstellten Wohnungen nach Art des Neubaus, Kreis und Quartier 2021"
   ]
  },
  {
   "cell_type": "code",
   "execution_count": 80,
   "metadata": {},
   "outputs": [],
   "source": [
    "#data2betested.dtypes"
   ]
  },
  {
   "cell_type": "code",
   "execution_count": 81,
   "metadata": {
    "tags": []
   },
   "outputs": [
    {
     "data": {
      "text/html": [
       "<div>\n",
       "<style scoped>\n",
       "    .dataframe tbody tr th:only-of-type {\n",
       "        vertical-align: middle;\n",
       "    }\n",
       "\n",
       "    .dataframe tbody tr th {\n",
       "        vertical-align: top;\n",
       "    }\n",
       "\n",
       "    .dataframe thead th {\n",
       "        text-align: right;\n",
       "    }\n",
       "</style>\n",
       "<table border=\"1\" class=\"dataframe\">\n",
       "  <thead>\n",
       "    <tr style=\"text-align: right;\">\n",
       "      <th></th>\n",
       "      <th>Jahr</th>\n",
       "      <th>KreisSort</th>\n",
       "      <th>KreisLang</th>\n",
       "      <th>QuarSort</th>\n",
       "      <th>QuarLang</th>\n",
       "      <th>ArtNeubauSort</th>\n",
       "      <th>ArtNeubauLang</th>\n",
       "      <th>sum_AnzWhg</th>\n",
       "    </tr>\n",
       "  </thead>\n",
       "  <tbody>\n",
       "    <tr>\n",
       "      <th>0</th>\n",
       "      <td>2021-01-01</td>\n",
       "      <td>2</td>\n",
       "      <td>Kreis 2</td>\n",
       "      <td>21</td>\n",
       "      <td>Wollishofen</td>\n",
       "      <td>1</td>\n",
       "      <td>Neubau als Wohnersatz (Wohnbau anstelle Wohnbau)</td>\n",
       "      <td>182</td>\n",
       "    </tr>\n",
       "    <tr>\n",
       "      <th>1</th>\n",
       "      <td>2021-01-01</td>\n",
       "      <td>2</td>\n",
       "      <td>Kreis 2</td>\n",
       "      <td>21</td>\n",
       "      <td>Wollishofen</td>\n",
       "      <td>2</td>\n",
       "      <td>Neubau als Umnutzung (Wohnbau anstelle Nichtwo...</td>\n",
       "      <td>28</td>\n",
       "    </tr>\n",
       "    <tr>\n",
       "      <th>2</th>\n",
       "      <td>2021-01-01</td>\n",
       "      <td>2</td>\n",
       "      <td>Kreis 2</td>\n",
       "      <td>21</td>\n",
       "      <td>Wollishofen</td>\n",
       "      <td>3</td>\n",
       "      <td>Neubau auf unbebautem Land (kein Ersatzbau)</td>\n",
       "      <td>4</td>\n",
       "    </tr>\n",
       "  </tbody>\n",
       "</table>\n",
       "</div>"
      ],
      "text/plain": [
       "        Jahr  KreisSort KreisLang  QuarSort     QuarLang  ArtNeubauSort  \\\n",
       "0 2021-01-01          2   Kreis 2        21  Wollishofen              1   \n",
       "1 2021-01-01          2   Kreis 2        21  Wollishofen              2   \n",
       "2 2021-01-01          2   Kreis 2        21  Wollishofen              3   \n",
       "\n",
       "                                       ArtNeubauLang  sum_AnzWhg  \n",
       "0   Neubau als Wohnersatz (Wohnbau anstelle Wohnbau)         182  \n",
       "1  Neubau als Umnutzung (Wohnbau anstelle Nichtwo...          28  \n",
       "2        Neubau auf unbebautem Land (kein Ersatzbau)           4  "
      ]
     },
     "execution_count": 81,
     "metadata": {},
     "output_type": "execute_result"
    }
   ],
   "source": [
    "myTreemapAgg = data2betested.loc[\"2021\"]\\\n",
    "    .groupby(['Jahr','KreisSort','KreisLang', 'QuarSort','QuarLang','ArtNeubauSort', 'ArtNeubauLang']) \\\n",
    "    .agg(sum_AnzWhg=('AnzWhg', 'sum')) \\\n",
    "    .sort_values('KreisSort', ascending=True) \n",
    "\n",
    "myTreemapAgg.reset_index().head(3)"
   ]
  },
  {
   "cell_type": "code",
   "execution_count": 84,
   "metadata": {},
   "outputs": [
    {
     "data": {
      "application/vnd.plotly.v1+json": {
       "config": {
        "plotlyServerURL": "https://plot.ly"
       },
       "data": [
        {
         "branchvalues": "total",
         "customdata": [
          [
           14
          ],
          [
           5
          ],
          [
           94
          ],
          [
           55
          ],
          [
           10
          ],
          [
           16
          ],
          [
           201
          ],
          [
           121
          ],
          [
           80
          ],
          [
           7
          ],
          [
           28
          ],
          [
           58
          ],
          [
           66
          ],
          [
           290
          ],
          [
           18
          ],
          [
           30
          ],
          [
           2
          ],
          [
           10
          ],
          [
           51
          ],
          [
           140
          ],
          [
           37
          ],
          [
           42
          ],
          [
           14
          ],
          [
           13
          ],
          [
           17
          ],
          [
           169
          ],
          [
           23
          ],
          [
           18
          ],
          [
           182
          ],
          [
           9
          ],
          [
           18
          ],
          [
           14
          ],
          [
           46
          ],
          [
           2
          ],
          [
           15
          ],
          [
           10
          ],
          [
           4
          ],
          [
           58
          ],
          [
           52.056179775280896
          ],
          [
           5
          ],
          [
           242.02083333333334
          ],
          [
           18
          ],
          [
           16.25
          ],
          [
           55
          ],
          [
           39.68421052631579
          ],
          [
           2
          ],
          [
           10
          ],
          [
           42.93650793650794
          ],
          [
           15
          ],
          [
           140
          ],
          [
           37
          ],
          [
           34.827586206896555
          ],
          [
           14
          ],
          [
           189.57943925233644
          ],
          [
           121
          ],
          [
           17
          ],
          [
           160.11731843575419
          ],
          [
           80
          ],
          [
           23
          ],
          [
           14.92
          ],
          [
           158.52336448598132
          ],
          [
           37.604651162790695
          ],
          [
           139.25454545454545
          ],
          [
           14
          ],
          [
           144.752688172043
          ],
          [
           14.272727272727273
          ],
          [
           56.380116959064324
          ],
          [
           55
          ],
          [
           139.02777777777777
          ],
          [
           14.44927536231884
          ],
          [
           121
          ],
          [
           206.276955602537
          ],
          [
           134.49922239502334
          ]
         ],
         "domain": {
          "x": [
           0,
           1
          ],
          "y": [
           0,
           1
          ]
         },
         "hovertemplate": "labels=%{label}<br>sum_AnzWhg_sum=%{value}<br>parent=%{parent}<br>id=%{id}<br>sum_AnzWhg=%{color}<extra></extra>",
         "ids": [
          "Neu erstellten Wohnungen nach Art des Neubaus, Kreis und Quartier 2021/Kreis 9/Albisrieden/Neubau als Umnutzung (Wohnbau anstelle Nichtwohnbau)",
          "Neu erstellten Wohnungen nach Art des Neubaus, Kreis und Quartier 2021/Kreis 3/Alt-Wiedikon/Neubau als Umnutzung (Wohnbau anstelle Nichtwohnbau)",
          "Neu erstellten Wohnungen nach Art des Neubaus, Kreis und Quartier 2021/Kreis 9/Altstetten/Neubau als Umnutzung (Wohnbau anstelle Nichtwohnbau)",
          "Neu erstellten Wohnungen nach Art des Neubaus, Kreis und Quartier 2021/Kreis 5/Gewerbeschule/Neubau als Umnutzung (Wohnbau anstelle Nichtwohnbau)",
          "Neu erstellten Wohnungen nach Art des Neubaus, Kreis und Quartier 2021/Kreis 10/Höngg/Neubau als Umnutzung (Wohnbau anstelle Nichtwohnbau)",
          "Neu erstellten Wohnungen nach Art des Neubaus, Kreis und Quartier 2021/Kreis 11/Oerlikon/Neubau als Umnutzung (Wohnbau anstelle Nichtwohnbau)",
          "Neu erstellten Wohnungen nach Art des Neubaus, Kreis und Quartier 2021/Kreis 11/Seebach/Neubau als Umnutzung (Wohnbau anstelle Nichtwohnbau)",
          "Neu erstellten Wohnungen nach Art des Neubaus, Kreis und Quartier 2021/Kreis 8/Seefeld/Neubau als Umnutzung (Wohnbau anstelle Nichtwohnbau)",
          "Neu erstellten Wohnungen nach Art des Neubaus, Kreis und Quartier 2021/Kreis 4/Werd/Neubau als Umnutzung (Wohnbau anstelle Nichtwohnbau)",
          "Neu erstellten Wohnungen nach Art des Neubaus, Kreis und Quartier 2021/Kreis 7/Witikon/Neubau als Umnutzung (Wohnbau anstelle Nichtwohnbau)",
          "Neu erstellten Wohnungen nach Art des Neubaus, Kreis und Quartier 2021/Kreis 2/Wollishofen/Neubau als Umnutzung (Wohnbau anstelle Nichtwohnbau)",
          "Neu erstellten Wohnungen nach Art des Neubaus, Kreis und Quartier 2021/Kreis 11/Affoltern/Neubau als Wohnersatz (Wohnbau anstelle Wohnbau)",
          "Neu erstellten Wohnungen nach Art des Neubaus, Kreis und Quartier 2021/Kreis 9/Albisrieden/Neubau als Wohnersatz (Wohnbau anstelle Wohnbau)",
          "Neu erstellten Wohnungen nach Art des Neubaus, Kreis und Quartier 2021/Kreis 9/Altstetten/Neubau als Wohnersatz (Wohnbau anstelle Wohnbau)",
          "Neu erstellten Wohnungen nach Art des Neubaus, Kreis und Quartier 2021/Kreis 7/Fluntern/Neubau als Wohnersatz (Wohnbau anstelle Wohnbau)",
          "Neu erstellten Wohnungen nach Art des Neubaus, Kreis und Quartier 2021/Kreis 4/Hard/Neubau als Wohnersatz (Wohnbau anstelle Wohnbau)",
          "Neu erstellten Wohnungen nach Art des Neubaus, Kreis und Quartier 2021/Kreis 7/Hirslanden/Neubau als Wohnersatz (Wohnbau anstelle Wohnbau)",
          "Neu erstellten Wohnungen nach Art des Neubaus, Kreis und Quartier 2021/Kreis 7/Hottingen/Neubau als Wohnersatz (Wohnbau anstelle Wohnbau)",
          "Neu erstellten Wohnungen nach Art des Neubaus, Kreis und Quartier 2021/Kreis 10/Höngg/Neubau als Wohnersatz (Wohnbau anstelle Wohnbau)",
          "Neu erstellten Wohnungen nach Art des Neubaus, Kreis und Quartier 2021/Kreis 2/Leimbach/Neubau als Wohnersatz (Wohnbau anstelle Wohnbau)",
          "Neu erstellten Wohnungen nach Art des Neubaus, Kreis und Quartier 2021/Kreis 6/Oberstrass/Neubau als Wohnersatz (Wohnbau anstelle Wohnbau)",
          "Neu erstellten Wohnungen nach Art des Neubaus, Kreis und Quartier 2021/Kreis 11/Oerlikon/Neubau als Wohnersatz (Wohnbau anstelle Wohnbau)",
          "Neu erstellten Wohnungen nach Art des Neubaus, Kreis und Quartier 2021/Kreis 12/Schwamendingen-Mitte/Neubau als Wohnersatz (Wohnbau anstelle Wohnbau)",
          "Neu erstellten Wohnungen nach Art des Neubaus, Kreis und Quartier 2021/Kreis 11/Seebach/Neubau als Wohnersatz (Wohnbau anstelle Wohnbau)",
          "Neu erstellten Wohnungen nach Art des Neubaus, Kreis und Quartier 2021/Kreis 3/Sihlfeld/Neubau als Wohnersatz (Wohnbau anstelle Wohnbau)",
          "Neu erstellten Wohnungen nach Art des Neubaus, Kreis und Quartier 2021/Kreis 6/Unterstrass/Neubau als Wohnersatz (Wohnbau anstelle Wohnbau)",
          "Neu erstellten Wohnungen nach Art des Neubaus, Kreis und Quartier 2021/Kreis 10/Wipkingen/Neubau als Wohnersatz (Wohnbau anstelle Wohnbau)",
          "Neu erstellten Wohnungen nach Art des Neubaus, Kreis und Quartier 2021/Kreis 7/Witikon/Neubau als Wohnersatz (Wohnbau anstelle Wohnbau)",
          "Neu erstellten Wohnungen nach Art des Neubaus, Kreis und Quartier 2021/Kreis 2/Wollishofen/Neubau als Wohnersatz (Wohnbau anstelle Wohnbau)",
          "Neu erstellten Wohnungen nach Art des Neubaus, Kreis und Quartier 2021/Kreis 9/Albisrieden/Neubau auf unbebautem Land (kein Ersatzbau)",
          "Neu erstellten Wohnungen nach Art des Neubaus, Kreis und Quartier 2021/Kreis 2/Enge/Neubau auf unbebautem Land (kein Ersatzbau)",
          "Neu erstellten Wohnungen nach Art des Neubaus, Kreis und Quartier 2021/Kreis 7/Fluntern/Neubau auf unbebautem Land (kein Ersatzbau)",
          "Neu erstellten Wohnungen nach Art des Neubaus, Kreis und Quartier 2021/Kreis 4/Hard/Neubau auf unbebautem Land (kein Ersatzbau)",
          "Neu erstellten Wohnungen nach Art des Neubaus, Kreis und Quartier 2021/Kreis 10/Höngg/Neubau auf unbebautem Land (kein Ersatzbau)",
          "Neu erstellten Wohnungen nach Art des Neubaus, Kreis und Quartier 2021/Kreis 4/Langstrasse/Neubau auf unbebautem Land (kein Ersatzbau)",
          "Neu erstellten Wohnungen nach Art des Neubaus, Kreis und Quartier 2021/Kreis 6/Unterstrass/Neubau auf unbebautem Land (kein Ersatzbau)",
          "Neu erstellten Wohnungen nach Art des Neubaus, Kreis und Quartier 2021/Kreis 2/Wollishofen/Neubau auf unbebautem Land (kein Ersatzbau)",
          "Neu erstellten Wohnungen nach Art des Neubaus, Kreis und Quartier 2021/Kreis 11/Affoltern",
          "Neu erstellten Wohnungen nach Art des Neubaus, Kreis und Quartier 2021/Kreis 9/Albisrieden",
          "Neu erstellten Wohnungen nach Art des Neubaus, Kreis und Quartier 2021/Kreis 3/Alt-Wiedikon",
          "Neu erstellten Wohnungen nach Art des Neubaus, Kreis und Quartier 2021/Kreis 9/Altstetten",
          "Neu erstellten Wohnungen nach Art des Neubaus, Kreis und Quartier 2021/Kreis 2/Enge",
          "Neu erstellten Wohnungen nach Art des Neubaus, Kreis und Quartier 2021/Kreis 7/Fluntern",
          "Neu erstellten Wohnungen nach Art des Neubaus, Kreis und Quartier 2021/Kreis 5/Gewerbeschule",
          "Neu erstellten Wohnungen nach Art des Neubaus, Kreis und Quartier 2021/Kreis 4/Hard",
          "Neu erstellten Wohnungen nach Art des Neubaus, Kreis und Quartier 2021/Kreis 7/Hirslanden",
          "Neu erstellten Wohnungen nach Art des Neubaus, Kreis und Quartier 2021/Kreis 7/Hottingen",
          "Neu erstellten Wohnungen nach Art des Neubaus, Kreis und Quartier 2021/Kreis 10/Höngg",
          "Neu erstellten Wohnungen nach Art des Neubaus, Kreis und Quartier 2021/Kreis 4/Langstrasse",
          "Neu erstellten Wohnungen nach Art des Neubaus, Kreis und Quartier 2021/Kreis 2/Leimbach",
          "Neu erstellten Wohnungen nach Art des Neubaus, Kreis und Quartier 2021/Kreis 6/Oberstrass",
          "Neu erstellten Wohnungen nach Art des Neubaus, Kreis und Quartier 2021/Kreis 11/Oerlikon",
          "Neu erstellten Wohnungen nach Art des Neubaus, Kreis und Quartier 2021/Kreis 12/Schwamendingen-Mitte",
          "Neu erstellten Wohnungen nach Art des Neubaus, Kreis und Quartier 2021/Kreis 11/Seebach",
          "Neu erstellten Wohnungen nach Art des Neubaus, Kreis und Quartier 2021/Kreis 8/Seefeld",
          "Neu erstellten Wohnungen nach Art des Neubaus, Kreis und Quartier 2021/Kreis 3/Sihlfeld",
          "Neu erstellten Wohnungen nach Art des Neubaus, Kreis und Quartier 2021/Kreis 6/Unterstrass",
          "Neu erstellten Wohnungen nach Art des Neubaus, Kreis und Quartier 2021/Kreis 4/Werd",
          "Neu erstellten Wohnungen nach Art des Neubaus, Kreis und Quartier 2021/Kreis 10/Wipkingen",
          "Neu erstellten Wohnungen nach Art des Neubaus, Kreis und Quartier 2021/Kreis 7/Witikon",
          "Neu erstellten Wohnungen nach Art des Neubaus, Kreis und Quartier 2021/Kreis 2/Wollishofen",
          "Neu erstellten Wohnungen nach Art des Neubaus, Kreis und Quartier 2021/Kreis 10",
          "Neu erstellten Wohnungen nach Art des Neubaus, Kreis und Quartier 2021/Kreis 11",
          "Neu erstellten Wohnungen nach Art des Neubaus, Kreis und Quartier 2021/Kreis 12",
          "Neu erstellten Wohnungen nach Art des Neubaus, Kreis und Quartier 2021/Kreis 2",
          "Neu erstellten Wohnungen nach Art des Neubaus, Kreis und Quartier 2021/Kreis 3",
          "Neu erstellten Wohnungen nach Art des Neubaus, Kreis und Quartier 2021/Kreis 4",
          "Neu erstellten Wohnungen nach Art des Neubaus, Kreis und Quartier 2021/Kreis 5",
          "Neu erstellten Wohnungen nach Art des Neubaus, Kreis und Quartier 2021/Kreis 6",
          "Neu erstellten Wohnungen nach Art des Neubaus, Kreis und Quartier 2021/Kreis 7",
          "Neu erstellten Wohnungen nach Art des Neubaus, Kreis und Quartier 2021/Kreis 8",
          "Neu erstellten Wohnungen nach Art des Neubaus, Kreis und Quartier 2021/Kreis 9",
          "Neu erstellten Wohnungen nach Art des Neubaus, Kreis und Quartier 2021"
         ],
         "labels": [
          "Neubau als Umnutzung (Wohnbau anstelle Nichtwohnbau)",
          "Neubau als Umnutzung (Wohnbau anstelle Nichtwohnbau)",
          "Neubau als Umnutzung (Wohnbau anstelle Nichtwohnbau)",
          "Neubau als Umnutzung (Wohnbau anstelle Nichtwohnbau)",
          "Neubau als Umnutzung (Wohnbau anstelle Nichtwohnbau)",
          "Neubau als Umnutzung (Wohnbau anstelle Nichtwohnbau)",
          "Neubau als Umnutzung (Wohnbau anstelle Nichtwohnbau)",
          "Neubau als Umnutzung (Wohnbau anstelle Nichtwohnbau)",
          "Neubau als Umnutzung (Wohnbau anstelle Nichtwohnbau)",
          "Neubau als Umnutzung (Wohnbau anstelle Nichtwohnbau)",
          "Neubau als Umnutzung (Wohnbau anstelle Nichtwohnbau)",
          "Neubau als Wohnersatz (Wohnbau anstelle Wohnbau)",
          "Neubau als Wohnersatz (Wohnbau anstelle Wohnbau)",
          "Neubau als Wohnersatz (Wohnbau anstelle Wohnbau)",
          "Neubau als Wohnersatz (Wohnbau anstelle Wohnbau)",
          "Neubau als Wohnersatz (Wohnbau anstelle Wohnbau)",
          "Neubau als Wohnersatz (Wohnbau anstelle Wohnbau)",
          "Neubau als Wohnersatz (Wohnbau anstelle Wohnbau)",
          "Neubau als Wohnersatz (Wohnbau anstelle Wohnbau)",
          "Neubau als Wohnersatz (Wohnbau anstelle Wohnbau)",
          "Neubau als Wohnersatz (Wohnbau anstelle Wohnbau)",
          "Neubau als Wohnersatz (Wohnbau anstelle Wohnbau)",
          "Neubau als Wohnersatz (Wohnbau anstelle Wohnbau)",
          "Neubau als Wohnersatz (Wohnbau anstelle Wohnbau)",
          "Neubau als Wohnersatz (Wohnbau anstelle Wohnbau)",
          "Neubau als Wohnersatz (Wohnbau anstelle Wohnbau)",
          "Neubau als Wohnersatz (Wohnbau anstelle Wohnbau)",
          "Neubau als Wohnersatz (Wohnbau anstelle Wohnbau)",
          "Neubau als Wohnersatz (Wohnbau anstelle Wohnbau)",
          "Neubau auf unbebautem Land (kein Ersatzbau)",
          "Neubau auf unbebautem Land (kein Ersatzbau)",
          "Neubau auf unbebautem Land (kein Ersatzbau)",
          "Neubau auf unbebautem Land (kein Ersatzbau)",
          "Neubau auf unbebautem Land (kein Ersatzbau)",
          "Neubau auf unbebautem Land (kein Ersatzbau)",
          "Neubau auf unbebautem Land (kein Ersatzbau)",
          "Neubau auf unbebautem Land (kein Ersatzbau)",
          "Affoltern",
          "Albisrieden",
          "Alt-Wiedikon",
          "Altstetten",
          "Enge",
          "Fluntern",
          "Gewerbeschule",
          "Hard",
          "Hirslanden",
          "Hottingen",
          "Höngg",
          "Langstrasse",
          "Leimbach",
          "Oberstrass",
          "Oerlikon",
          "Schwamendingen-Mitte",
          "Seebach",
          "Seefeld",
          "Sihlfeld",
          "Unterstrass",
          "Werd",
          "Wipkingen",
          "Witikon",
          "Wollishofen",
          "Kreis 10",
          "Kreis 11",
          "Kreis 12",
          "Kreis 2",
          "Kreis 3",
          "Kreis 4",
          "Kreis 5",
          "Kreis 6",
          "Kreis 7",
          "Kreis 8",
          "Kreis 9",
          "Neu erstellten Wohnungen nach Art des Neubaus, Kreis und Quartier 2021"
         ],
         "marker": {
          "coloraxis": "coloraxis",
          "colors": [
           14,
           5,
           94,
           55,
           10,
           16,
           201,
           121,
           80,
           7,
           28,
           58,
           66,
           290,
           18,
           30,
           2,
           10,
           51,
           140,
           37,
           42,
           14,
           13,
           17,
           169,
           23,
           18,
           182,
           9,
           18,
           14,
           46,
           2,
           15,
           10,
           4,
           58,
           52.056179775280896,
           5,
           242.02083333333334,
           18,
           16.25,
           55,
           39.68421052631579,
           2,
           10,
           42.93650793650794,
           15,
           140,
           37,
           34.827586206896555,
           14,
           189.57943925233644,
           121,
           17,
           160.11731843575419,
           80,
           23,
           14.92,
           158.52336448598132,
           37.604651162790695,
           139.25454545454545,
           14,
           144.752688172043,
           14.272727272727273,
           56.380116959064324,
           55,
           139.02777777777777,
           14.44927536231884,
           121,
           206.276955602537,
           134.49922239502334
          ]
         },
         "name": "",
         "parents": [
          "Neu erstellten Wohnungen nach Art des Neubaus, Kreis und Quartier 2021/Kreis 9/Albisrieden",
          "Neu erstellten Wohnungen nach Art des Neubaus, Kreis und Quartier 2021/Kreis 3/Alt-Wiedikon",
          "Neu erstellten Wohnungen nach Art des Neubaus, Kreis und Quartier 2021/Kreis 9/Altstetten",
          "Neu erstellten Wohnungen nach Art des Neubaus, Kreis und Quartier 2021/Kreis 5/Gewerbeschule",
          "Neu erstellten Wohnungen nach Art des Neubaus, Kreis und Quartier 2021/Kreis 10/Höngg",
          "Neu erstellten Wohnungen nach Art des Neubaus, Kreis und Quartier 2021/Kreis 11/Oerlikon",
          "Neu erstellten Wohnungen nach Art des Neubaus, Kreis und Quartier 2021/Kreis 11/Seebach",
          "Neu erstellten Wohnungen nach Art des Neubaus, Kreis und Quartier 2021/Kreis 8/Seefeld",
          "Neu erstellten Wohnungen nach Art des Neubaus, Kreis und Quartier 2021/Kreis 4/Werd",
          "Neu erstellten Wohnungen nach Art des Neubaus, Kreis und Quartier 2021/Kreis 7/Witikon",
          "Neu erstellten Wohnungen nach Art des Neubaus, Kreis und Quartier 2021/Kreis 2/Wollishofen",
          "Neu erstellten Wohnungen nach Art des Neubaus, Kreis und Quartier 2021/Kreis 11/Affoltern",
          "Neu erstellten Wohnungen nach Art des Neubaus, Kreis und Quartier 2021/Kreis 9/Albisrieden",
          "Neu erstellten Wohnungen nach Art des Neubaus, Kreis und Quartier 2021/Kreis 9/Altstetten",
          "Neu erstellten Wohnungen nach Art des Neubaus, Kreis und Quartier 2021/Kreis 7/Fluntern",
          "Neu erstellten Wohnungen nach Art des Neubaus, Kreis und Quartier 2021/Kreis 4/Hard",
          "Neu erstellten Wohnungen nach Art des Neubaus, Kreis und Quartier 2021/Kreis 7/Hirslanden",
          "Neu erstellten Wohnungen nach Art des Neubaus, Kreis und Quartier 2021/Kreis 7/Hottingen",
          "Neu erstellten Wohnungen nach Art des Neubaus, Kreis und Quartier 2021/Kreis 10/Höngg",
          "Neu erstellten Wohnungen nach Art des Neubaus, Kreis und Quartier 2021/Kreis 2/Leimbach",
          "Neu erstellten Wohnungen nach Art des Neubaus, Kreis und Quartier 2021/Kreis 6/Oberstrass",
          "Neu erstellten Wohnungen nach Art des Neubaus, Kreis und Quartier 2021/Kreis 11/Oerlikon",
          "Neu erstellten Wohnungen nach Art des Neubaus, Kreis und Quartier 2021/Kreis 12/Schwamendingen-Mitte",
          "Neu erstellten Wohnungen nach Art des Neubaus, Kreis und Quartier 2021/Kreis 11/Seebach",
          "Neu erstellten Wohnungen nach Art des Neubaus, Kreis und Quartier 2021/Kreis 3/Sihlfeld",
          "Neu erstellten Wohnungen nach Art des Neubaus, Kreis und Quartier 2021/Kreis 6/Unterstrass",
          "Neu erstellten Wohnungen nach Art des Neubaus, Kreis und Quartier 2021/Kreis 10/Wipkingen",
          "Neu erstellten Wohnungen nach Art des Neubaus, Kreis und Quartier 2021/Kreis 7/Witikon",
          "Neu erstellten Wohnungen nach Art des Neubaus, Kreis und Quartier 2021/Kreis 2/Wollishofen",
          "Neu erstellten Wohnungen nach Art des Neubaus, Kreis und Quartier 2021/Kreis 9/Albisrieden",
          "Neu erstellten Wohnungen nach Art des Neubaus, Kreis und Quartier 2021/Kreis 2/Enge",
          "Neu erstellten Wohnungen nach Art des Neubaus, Kreis und Quartier 2021/Kreis 7/Fluntern",
          "Neu erstellten Wohnungen nach Art des Neubaus, Kreis und Quartier 2021/Kreis 4/Hard",
          "Neu erstellten Wohnungen nach Art des Neubaus, Kreis und Quartier 2021/Kreis 10/Höngg",
          "Neu erstellten Wohnungen nach Art des Neubaus, Kreis und Quartier 2021/Kreis 4/Langstrasse",
          "Neu erstellten Wohnungen nach Art des Neubaus, Kreis und Quartier 2021/Kreis 6/Unterstrass",
          "Neu erstellten Wohnungen nach Art des Neubaus, Kreis und Quartier 2021/Kreis 2/Wollishofen",
          "Neu erstellten Wohnungen nach Art des Neubaus, Kreis und Quartier 2021/Kreis 11",
          "Neu erstellten Wohnungen nach Art des Neubaus, Kreis und Quartier 2021/Kreis 9",
          "Neu erstellten Wohnungen nach Art des Neubaus, Kreis und Quartier 2021/Kreis 3",
          "Neu erstellten Wohnungen nach Art des Neubaus, Kreis und Quartier 2021/Kreis 9",
          "Neu erstellten Wohnungen nach Art des Neubaus, Kreis und Quartier 2021/Kreis 2",
          "Neu erstellten Wohnungen nach Art des Neubaus, Kreis und Quartier 2021/Kreis 7",
          "Neu erstellten Wohnungen nach Art des Neubaus, Kreis und Quartier 2021/Kreis 5",
          "Neu erstellten Wohnungen nach Art des Neubaus, Kreis und Quartier 2021/Kreis 4",
          "Neu erstellten Wohnungen nach Art des Neubaus, Kreis und Quartier 2021/Kreis 7",
          "Neu erstellten Wohnungen nach Art des Neubaus, Kreis und Quartier 2021/Kreis 7",
          "Neu erstellten Wohnungen nach Art des Neubaus, Kreis und Quartier 2021/Kreis 10",
          "Neu erstellten Wohnungen nach Art des Neubaus, Kreis und Quartier 2021/Kreis 4",
          "Neu erstellten Wohnungen nach Art des Neubaus, Kreis und Quartier 2021/Kreis 2",
          "Neu erstellten Wohnungen nach Art des Neubaus, Kreis und Quartier 2021/Kreis 6",
          "Neu erstellten Wohnungen nach Art des Neubaus, Kreis und Quartier 2021/Kreis 11",
          "Neu erstellten Wohnungen nach Art des Neubaus, Kreis und Quartier 2021/Kreis 12",
          "Neu erstellten Wohnungen nach Art des Neubaus, Kreis und Quartier 2021/Kreis 11",
          "Neu erstellten Wohnungen nach Art des Neubaus, Kreis und Quartier 2021/Kreis 8",
          "Neu erstellten Wohnungen nach Art des Neubaus, Kreis und Quartier 2021/Kreis 3",
          "Neu erstellten Wohnungen nach Art des Neubaus, Kreis und Quartier 2021/Kreis 6",
          "Neu erstellten Wohnungen nach Art des Neubaus, Kreis und Quartier 2021/Kreis 4",
          "Neu erstellten Wohnungen nach Art des Neubaus, Kreis und Quartier 2021/Kreis 10",
          "Neu erstellten Wohnungen nach Art des Neubaus, Kreis und Quartier 2021/Kreis 7",
          "Neu erstellten Wohnungen nach Art des Neubaus, Kreis und Quartier 2021/Kreis 2",
          "Neu erstellten Wohnungen nach Art des Neubaus, Kreis und Quartier 2021",
          "Neu erstellten Wohnungen nach Art des Neubaus, Kreis und Quartier 2021",
          "Neu erstellten Wohnungen nach Art des Neubaus, Kreis und Quartier 2021",
          "Neu erstellten Wohnungen nach Art des Neubaus, Kreis und Quartier 2021",
          "Neu erstellten Wohnungen nach Art des Neubaus, Kreis und Quartier 2021",
          "Neu erstellten Wohnungen nach Art des Neubaus, Kreis und Quartier 2021",
          "Neu erstellten Wohnungen nach Art des Neubaus, Kreis und Quartier 2021",
          "Neu erstellten Wohnungen nach Art des Neubaus, Kreis und Quartier 2021",
          "Neu erstellten Wohnungen nach Art des Neubaus, Kreis und Quartier 2021",
          "Neu erstellten Wohnungen nach Art des Neubaus, Kreis und Quartier 2021",
          "Neu erstellten Wohnungen nach Art des Neubaus, Kreis und Quartier 2021",
          ""
         ],
         "root": {
          "color": "grey"
         },
         "type": "treemap",
         "values": [
          14,
          5,
          94,
          55,
          10,
          16,
          201,
          121,
          80,
          7,
          28,
          58,
          66,
          290,
          18,
          30,
          2,
          10,
          51,
          140,
          37,
          42,
          14,
          13,
          17,
          169,
          23,
          18,
          182,
          9,
          18,
          14,
          46,
          2,
          15,
          10,
          4,
          58,
          89,
          5,
          384,
          18,
          32,
          55,
          76,
          2,
          10,
          63,
          15,
          140,
          37,
          58,
          14,
          214,
          121,
          17,
          179,
          80,
          23,
          25,
          214,
          86,
          330,
          14,
          372,
          22,
          171,
          55,
          216,
          69,
          121,
          473,
          1929
         ]
        }
       ],
       "layout": {
        "coloraxis": {
         "colorbar": {
          "title": {
           "text": "sum_AnzWhg"
          }
         },
         "colorscale": [
          [
           0,
           "#00224e"
          ],
          [
           0.1111111111111111,
           "#123570"
          ],
          [
           0.2222222222222222,
           "#3b496c"
          ],
          [
           0.3333333333333333,
           "#575d6d"
          ],
          [
           0.4444444444444444,
           "#707173"
          ],
          [
           0.5555555555555556,
           "#8a8678"
          ],
          [
           0.6666666666666666,
           "#a59c74"
          ],
          [
           0.7777777777777778,
           "#c3b369"
          ],
          [
           0.8888888888888888,
           "#e1cc55"
          ],
          [
           1,
           "#fee838"
          ]
         ]
        },
        "height": 500,
        "legend": {
         "tracegroupgap": 0
        },
        "margin": {
         "b": 25,
         "l": 25,
         "r": 250,
         "t": 50
        },
        "template": {
         "data": {
          "bar": [
           {
            "error_x": {
             "color": "#2a3f5f"
            },
            "error_y": {
             "color": "#2a3f5f"
            },
            "marker": {
             "line": {
              "color": "#E5ECF6",
              "width": 0.5
             },
             "pattern": {
              "fillmode": "overlay",
              "size": 10,
              "solidity": 0.2
             }
            },
            "type": "bar"
           }
          ],
          "barpolar": [
           {
            "marker": {
             "line": {
              "color": "#E5ECF6",
              "width": 0.5
             },
             "pattern": {
              "fillmode": "overlay",
              "size": 10,
              "solidity": 0.2
             }
            },
            "type": "barpolar"
           }
          ],
          "carpet": [
           {
            "aaxis": {
             "endlinecolor": "#2a3f5f",
             "gridcolor": "white",
             "linecolor": "white",
             "minorgridcolor": "white",
             "startlinecolor": "#2a3f5f"
            },
            "baxis": {
             "endlinecolor": "#2a3f5f",
             "gridcolor": "white",
             "linecolor": "white",
             "minorgridcolor": "white",
             "startlinecolor": "#2a3f5f"
            },
            "type": "carpet"
           }
          ],
          "choropleth": [
           {
            "colorbar": {
             "outlinewidth": 0,
             "ticks": ""
            },
            "type": "choropleth"
           }
          ],
          "contour": [
           {
            "colorbar": {
             "outlinewidth": 0,
             "ticks": ""
            },
            "colorscale": [
             [
              0,
              "#0d0887"
             ],
             [
              0.1111111111111111,
              "#46039f"
             ],
             [
              0.2222222222222222,
              "#7201a8"
             ],
             [
              0.3333333333333333,
              "#9c179e"
             ],
             [
              0.4444444444444444,
              "#bd3786"
             ],
             [
              0.5555555555555556,
              "#d8576b"
             ],
             [
              0.6666666666666666,
              "#ed7953"
             ],
             [
              0.7777777777777778,
              "#fb9f3a"
             ],
             [
              0.8888888888888888,
              "#fdca26"
             ],
             [
              1,
              "#f0f921"
             ]
            ],
            "type": "contour"
           }
          ],
          "contourcarpet": [
           {
            "colorbar": {
             "outlinewidth": 0,
             "ticks": ""
            },
            "type": "contourcarpet"
           }
          ],
          "heatmap": [
           {
            "colorbar": {
             "outlinewidth": 0,
             "ticks": ""
            },
            "colorscale": [
             [
              0,
              "#0d0887"
             ],
             [
              0.1111111111111111,
              "#46039f"
             ],
             [
              0.2222222222222222,
              "#7201a8"
             ],
             [
              0.3333333333333333,
              "#9c179e"
             ],
             [
              0.4444444444444444,
              "#bd3786"
             ],
             [
              0.5555555555555556,
              "#d8576b"
             ],
             [
              0.6666666666666666,
              "#ed7953"
             ],
             [
              0.7777777777777778,
              "#fb9f3a"
             ],
             [
              0.8888888888888888,
              "#fdca26"
             ],
             [
              1,
              "#f0f921"
             ]
            ],
            "type": "heatmap"
           }
          ],
          "heatmapgl": [
           {
            "colorbar": {
             "outlinewidth": 0,
             "ticks": ""
            },
            "colorscale": [
             [
              0,
              "#0d0887"
             ],
             [
              0.1111111111111111,
              "#46039f"
             ],
             [
              0.2222222222222222,
              "#7201a8"
             ],
             [
              0.3333333333333333,
              "#9c179e"
             ],
             [
              0.4444444444444444,
              "#bd3786"
             ],
             [
              0.5555555555555556,
              "#d8576b"
             ],
             [
              0.6666666666666666,
              "#ed7953"
             ],
             [
              0.7777777777777778,
              "#fb9f3a"
             ],
             [
              0.8888888888888888,
              "#fdca26"
             ],
             [
              1,
              "#f0f921"
             ]
            ],
            "type": "heatmapgl"
           }
          ],
          "histogram": [
           {
            "marker": {
             "pattern": {
              "fillmode": "overlay",
              "size": 10,
              "solidity": 0.2
             }
            },
            "type": "histogram"
           }
          ],
          "histogram2d": [
           {
            "colorbar": {
             "outlinewidth": 0,
             "ticks": ""
            },
            "colorscale": [
             [
              0,
              "#0d0887"
             ],
             [
              0.1111111111111111,
              "#46039f"
             ],
             [
              0.2222222222222222,
              "#7201a8"
             ],
             [
              0.3333333333333333,
              "#9c179e"
             ],
             [
              0.4444444444444444,
              "#bd3786"
             ],
             [
              0.5555555555555556,
              "#d8576b"
             ],
             [
              0.6666666666666666,
              "#ed7953"
             ],
             [
              0.7777777777777778,
              "#fb9f3a"
             ],
             [
              0.8888888888888888,
              "#fdca26"
             ],
             [
              1,
              "#f0f921"
             ]
            ],
            "type": "histogram2d"
           }
          ],
          "histogram2dcontour": [
           {
            "colorbar": {
             "outlinewidth": 0,
             "ticks": ""
            },
            "colorscale": [
             [
              0,
              "#0d0887"
             ],
             [
              0.1111111111111111,
              "#46039f"
             ],
             [
              0.2222222222222222,
              "#7201a8"
             ],
             [
              0.3333333333333333,
              "#9c179e"
             ],
             [
              0.4444444444444444,
              "#bd3786"
             ],
             [
              0.5555555555555556,
              "#d8576b"
             ],
             [
              0.6666666666666666,
              "#ed7953"
             ],
             [
              0.7777777777777778,
              "#fb9f3a"
             ],
             [
              0.8888888888888888,
              "#fdca26"
             ],
             [
              1,
              "#f0f921"
             ]
            ],
            "type": "histogram2dcontour"
           }
          ],
          "mesh3d": [
           {
            "colorbar": {
             "outlinewidth": 0,
             "ticks": ""
            },
            "type": "mesh3d"
           }
          ],
          "parcoords": [
           {
            "line": {
             "colorbar": {
              "outlinewidth": 0,
              "ticks": ""
             }
            },
            "type": "parcoords"
           }
          ],
          "pie": [
           {
            "automargin": true,
            "type": "pie"
           }
          ],
          "scatter": [
           {
            "marker": {
             "colorbar": {
              "outlinewidth": 0,
              "ticks": ""
             }
            },
            "type": "scatter"
           }
          ],
          "scatter3d": [
           {
            "line": {
             "colorbar": {
              "outlinewidth": 0,
              "ticks": ""
             }
            },
            "marker": {
             "colorbar": {
              "outlinewidth": 0,
              "ticks": ""
             }
            },
            "type": "scatter3d"
           }
          ],
          "scattercarpet": [
           {
            "marker": {
             "colorbar": {
              "outlinewidth": 0,
              "ticks": ""
             }
            },
            "type": "scattercarpet"
           }
          ],
          "scattergeo": [
           {
            "marker": {
             "colorbar": {
              "outlinewidth": 0,
              "ticks": ""
             }
            },
            "type": "scattergeo"
           }
          ],
          "scattergl": [
           {
            "marker": {
             "colorbar": {
              "outlinewidth": 0,
              "ticks": ""
             }
            },
            "type": "scattergl"
           }
          ],
          "scattermapbox": [
           {
            "marker": {
             "colorbar": {
              "outlinewidth": 0,
              "ticks": ""
             }
            },
            "type": "scattermapbox"
           }
          ],
          "scatterpolar": [
           {
            "marker": {
             "colorbar": {
              "outlinewidth": 0,
              "ticks": ""
             }
            },
            "type": "scatterpolar"
           }
          ],
          "scatterpolargl": [
           {
            "marker": {
             "colorbar": {
              "outlinewidth": 0,
              "ticks": ""
             }
            },
            "type": "scatterpolargl"
           }
          ],
          "scatterternary": [
           {
            "marker": {
             "colorbar": {
              "outlinewidth": 0,
              "ticks": ""
             }
            },
            "type": "scatterternary"
           }
          ],
          "surface": [
           {
            "colorbar": {
             "outlinewidth": 0,
             "ticks": ""
            },
            "colorscale": [
             [
              0,
              "#0d0887"
             ],
             [
              0.1111111111111111,
              "#46039f"
             ],
             [
              0.2222222222222222,
              "#7201a8"
             ],
             [
              0.3333333333333333,
              "#9c179e"
             ],
             [
              0.4444444444444444,
              "#bd3786"
             ],
             [
              0.5555555555555556,
              "#d8576b"
             ],
             [
              0.6666666666666666,
              "#ed7953"
             ],
             [
              0.7777777777777778,
              "#fb9f3a"
             ],
             [
              0.8888888888888888,
              "#fdca26"
             ],
             [
              1,
              "#f0f921"
             ]
            ],
            "type": "surface"
           }
          ],
          "table": [
           {
            "cells": {
             "fill": {
              "color": "#EBF0F8"
             },
             "line": {
              "color": "white"
             }
            },
            "header": {
             "fill": {
              "color": "#C8D4E3"
             },
             "line": {
              "color": "white"
             }
            },
            "type": "table"
           }
          ]
         },
         "layout": {
          "annotationdefaults": {
           "arrowcolor": "#2a3f5f",
           "arrowhead": 0,
           "arrowwidth": 1
          },
          "autotypenumbers": "strict",
          "coloraxis": {
           "colorbar": {
            "outlinewidth": 0,
            "ticks": ""
           }
          },
          "colorscale": {
           "diverging": [
            [
             0,
             "#8e0152"
            ],
            [
             0.1,
             "#c51b7d"
            ],
            [
             0.2,
             "#de77ae"
            ],
            [
             0.3,
             "#f1b6da"
            ],
            [
             0.4,
             "#fde0ef"
            ],
            [
             0.5,
             "#f7f7f7"
            ],
            [
             0.6,
             "#e6f5d0"
            ],
            [
             0.7,
             "#b8e186"
            ],
            [
             0.8,
             "#7fbc41"
            ],
            [
             0.9,
             "#4d9221"
            ],
            [
             1,
             "#276419"
            ]
           ],
           "sequential": [
            [
             0,
             "#0d0887"
            ],
            [
             0.1111111111111111,
             "#46039f"
            ],
            [
             0.2222222222222222,
             "#7201a8"
            ],
            [
             0.3333333333333333,
             "#9c179e"
            ],
            [
             0.4444444444444444,
             "#bd3786"
            ],
            [
             0.5555555555555556,
             "#d8576b"
            ],
            [
             0.6666666666666666,
             "#ed7953"
            ],
            [
             0.7777777777777778,
             "#fb9f3a"
            ],
            [
             0.8888888888888888,
             "#fdca26"
            ],
            [
             1,
             "#f0f921"
            ]
           ],
           "sequentialminus": [
            [
             0,
             "#0d0887"
            ],
            [
             0.1111111111111111,
             "#46039f"
            ],
            [
             0.2222222222222222,
             "#7201a8"
            ],
            [
             0.3333333333333333,
             "#9c179e"
            ],
            [
             0.4444444444444444,
             "#bd3786"
            ],
            [
             0.5555555555555556,
             "#d8576b"
            ],
            [
             0.6666666666666666,
             "#ed7953"
            ],
            [
             0.7777777777777778,
             "#fb9f3a"
            ],
            [
             0.8888888888888888,
             "#fdca26"
            ],
            [
             1,
             "#f0f921"
            ]
           ]
          },
          "colorway": [
           "#636efa",
           "#EF553B",
           "#00cc96",
           "#ab63fa",
           "#FFA15A",
           "#19d3f3",
           "#FF6692",
           "#B6E880",
           "#FF97FF",
           "#FECB52"
          ],
          "font": {
           "color": "#2a3f5f"
          },
          "geo": {
           "bgcolor": "white",
           "lakecolor": "white",
           "landcolor": "#E5ECF6",
           "showlakes": true,
           "showland": true,
           "subunitcolor": "white"
          },
          "hoverlabel": {
           "align": "left"
          },
          "hovermode": "closest",
          "mapbox": {
           "style": "light"
          },
          "paper_bgcolor": "white",
          "plot_bgcolor": "#E5ECF6",
          "polar": {
           "angularaxis": {
            "gridcolor": "white",
            "linecolor": "white",
            "ticks": ""
           },
           "bgcolor": "#E5ECF6",
           "radialaxis": {
            "gridcolor": "white",
            "linecolor": "white",
            "ticks": ""
           }
          },
          "scene": {
           "xaxis": {
            "backgroundcolor": "#E5ECF6",
            "gridcolor": "white",
            "gridwidth": 2,
            "linecolor": "white",
            "showbackground": true,
            "ticks": "",
            "zerolinecolor": "white"
           },
           "yaxis": {
            "backgroundcolor": "#E5ECF6",
            "gridcolor": "white",
            "gridwidth": 2,
            "linecolor": "white",
            "showbackground": true,
            "ticks": "",
            "zerolinecolor": "white"
           },
           "zaxis": {
            "backgroundcolor": "#E5ECF6",
            "gridcolor": "white",
            "gridwidth": 2,
            "linecolor": "white",
            "showbackground": true,
            "ticks": "",
            "zerolinecolor": "white"
           }
          },
          "shapedefaults": {
           "line": {
            "color": "#2a3f5f"
           }
          },
          "ternary": {
           "aaxis": {
            "gridcolor": "white",
            "linecolor": "white",
            "ticks": ""
           },
           "baxis": {
            "gridcolor": "white",
            "linecolor": "white",
            "ticks": ""
           },
           "bgcolor": "#E5ECF6",
           "caxis": {
            "gridcolor": "white",
            "linecolor": "white",
            "ticks": ""
           }
          },
          "title": {
           "x": 0.05
          },
          "xaxis": {
           "automargin": true,
           "gridcolor": "white",
           "linecolor": "white",
           "ticks": "",
           "title": {
            "standoff": 15
           },
           "zerolinecolor": "white",
           "zerolinewidth": 2
          },
          "yaxis": {
           "automargin": true,
           "gridcolor": "white",
           "linecolor": "white",
           "ticks": "",
           "title": {
            "standoff": 15
           },
           "zerolinecolor": "white",
           "zerolinewidth": 2
          }
         }
        },
        "width": 1100
       }
      },
      "image/png": "[encoded data removed]",
      "text/html": [
       "<div>                            <div id=\"cac52277-69c4-42d0-b619-513c3e4f2fff\" class=\"plotly-graph-div\" style=\"height:500px; width:1100px;\"></div>            <script type=\"text/javascript\">                require([\"plotly\"], function(Plotly) {                    window.PLOTLYENV=window.PLOTLYENV || {};                                    if (document.getElementById(\"cac52277-69c4-42d0-b619-513c3e4f2fff\")) {                    Plotly.newPlot(                        \"cac52277-69c4-42d0-b619-513c3e4f2fff\",                        [{\"branchvalues\":\"total\",\"customdata\":[[14.0],[5.0],[94.0],[55.0],[10.0],[16.0],[201.0],[121.0],[80.0],[7.0],[28.0],[58.0],[66.0],[290.0],[18.0],[30.0],[2.0],[10.0],[51.0],[140.0],[37.0],[42.0],[14.0],[13.0],[17.0],[169.0],[23.0],[18.0],[182.0],[9.0],[18.0],[14.0],[46.0],[2.0],[15.0],[10.0],[4.0],[58.0],[52.056179775280896],[5.0],[242.02083333333334],[18.0],[16.25],[55.0],[39.68421052631579],[2.0],[10.0],[42.93650793650794],[15.0],[140.0],[37.0],[34.827586206896555],[14.0],[189.57943925233644],[121.0],[17.0],[160.11731843575419],[80.0],[23.0],[14.92],[158.52336448598132],[37.604651162790695],[139.25454545454545],[14.0],[144.752688172043],[14.272727272727273],[56.380116959064324],[55.0],[139.02777777777777],[14.44927536231884],[121.0],[206.276955602537],[134.49922239502334]],\"domain\":{\"x\":[0.0,1.0],\"y\":[0.0,1.0]},\"hovertemplate\":\"labels=%{label}<br>sum_AnzWhg_sum=%{value}<br>parent=%{parent}<br>id=%{id}<br>sum_AnzWhg=%{color}<extra></extra>\",\"ids\":[\"Neu erstellten Wohnungen nach Art des Neubaus, Kreis und Quartier 2021/Kreis 9/Albisrieden/Neubau als Umnutzung (Wohnbau anstelle Nichtwohnbau)\",\"Neu erstellten Wohnungen nach Art des Neubaus, Kreis und Quartier 2021/Kreis 3/Alt-Wiedikon/Neubau als Umnutzung (Wohnbau anstelle Nichtwohnbau)\",\"Neu erstellten Wohnungen nach Art des Neubaus, Kreis und Quartier 2021/Kreis 9/Altstetten/Neubau als Umnutzung (Wohnbau anstelle Nichtwohnbau)\",\"Neu erstellten Wohnungen nach Art des Neubaus, Kreis und Quartier 2021/Kreis 5/Gewerbeschule/Neubau als Umnutzung (Wohnbau anstelle Nichtwohnbau)\",\"Neu erstellten Wohnungen nach Art des Neubaus, Kreis und Quartier 2021/Kreis 10/H\\u00f6ngg/Neubau als Umnutzung (Wohnbau anstelle Nichtwohnbau)\",\"Neu erstellten Wohnungen nach Art des Neubaus, Kreis und Quartier 2021/Kreis 11/Oerlikon/Neubau als Umnutzung (Wohnbau anstelle Nichtwohnbau)\",\"Neu erstellten Wohnungen nach Art des Neubaus, Kreis und Quartier 2021/Kreis 11/Seebach/Neubau als Umnutzung (Wohnbau anstelle Nichtwohnbau)\",\"Neu erstellten Wohnungen nach Art des Neubaus, Kreis und Quartier 2021/Kreis 8/Seefeld/Neubau als Umnutzung (Wohnbau anstelle Nichtwohnbau)\",\"Neu erstellten Wohnungen nach Art des Neubaus, Kreis und Quartier 2021/Kreis 4/Werd/Neubau als Umnutzung (Wohnbau anstelle Nichtwohnbau)\",\"Neu erstellten Wohnungen nach Art des Neubaus, Kreis und Quartier 2021/Kreis 7/Witikon/Neubau als Umnutzung (Wohnbau anstelle Nichtwohnbau)\",\"Neu erstellten Wohnungen nach Art des Neubaus, Kreis und Quartier 2021/Kreis 2/Wollishofen/Neubau als Umnutzung (Wohnbau anstelle Nichtwohnbau)\",\"Neu erstellten Wohnungen nach Art des Neubaus, Kreis und Quartier 2021/Kreis 11/Affoltern/Neubau als Wohnersatz (Wohnbau anstelle Wohnbau)\",\"Neu erstellten Wohnungen nach Art des Neubaus, Kreis und Quartier 2021/Kreis 9/Albisrieden/Neubau als Wohnersatz (Wohnbau anstelle Wohnbau)\",\"Neu erstellten Wohnungen nach Art des Neubaus, Kreis und Quartier 2021/Kreis 9/Altstetten/Neubau als Wohnersatz (Wohnbau anstelle Wohnbau)\",\"Neu erstellten Wohnungen nach Art des Neubaus, Kreis und Quartier 2021/Kreis 7/Fluntern/Neubau als Wohnersatz (Wohnbau anstelle Wohnbau)\",\"Neu erstellten Wohnungen nach Art des Neubaus, Kreis und Quartier 2021/Kreis 4/Hard/Neubau als Wohnersatz (Wohnbau anstelle Wohnbau)\",\"Neu erstellten Wohnungen nach Art des Neubaus, Kreis und Quartier 2021/Kreis 7/Hirslanden/Neubau als Wohnersatz (Wohnbau anstelle Wohnbau)\",\"Neu erstellten Wohnungen nach Art des Neubaus, Kreis und Quartier 2021/Kreis 7/Hottingen/Neubau als Wohnersatz (Wohnbau anstelle Wohnbau)\",\"Neu erstellten Wohnungen nach Art des Neubaus, Kreis und Quartier 2021/Kreis 10/H\\u00f6ngg/Neubau als Wohnersatz (Wohnbau anstelle Wohnbau)\",\"Neu erstellten Wohnungen nach Art des Neubaus, Kreis und Quartier 2021/Kreis 2/Leimbach/Neubau als Wohnersatz (Wohnbau anstelle Wohnbau)\",\"Neu erstellten Wohnungen nach Art des Neubaus, Kreis und Quartier 2021/Kreis 6/Oberstrass/Neubau als Wohnersatz (Wohnbau anstelle Wohnbau)\",\"Neu erstellten Wohnungen nach Art des Neubaus, Kreis und Quartier 2021/Kreis 11/Oerlikon/Neubau als Wohnersatz (Wohnbau anstelle Wohnbau)\",\"Neu erstellten Wohnungen nach Art des Neubaus, Kreis und Quartier 2021/Kreis 12/Schwamendingen-Mitte/Neubau als Wohnersatz (Wohnbau anstelle Wohnbau)\",\"Neu erstellten Wohnungen nach Art des Neubaus, Kreis und Quartier 2021/Kreis 11/Seebach/Neubau als Wohnersatz (Wohnbau anstelle Wohnbau)\",\"Neu erstellten Wohnungen nach Art des Neubaus, Kreis und Quartier 2021/Kreis 3/Sihlfeld/Neubau als Wohnersatz (Wohnbau anstelle Wohnbau)\",\"Neu erstellten Wohnungen nach Art des Neubaus, Kreis und Quartier 2021/Kreis 6/Unterstrass/Neubau als Wohnersatz (Wohnbau anstelle Wohnbau)\",\"Neu erstellten Wohnungen nach Art des Neubaus, Kreis und Quartier 2021/Kreis 10/Wipkingen/Neubau als Wohnersatz (Wohnbau anstelle Wohnbau)\",\"Neu erstellten Wohnungen nach Art des Neubaus, Kreis und Quartier 2021/Kreis 7/Witikon/Neubau als Wohnersatz (Wohnbau anstelle Wohnbau)\",\"Neu erstellten Wohnungen nach Art des Neubaus, Kreis und Quartier 2021/Kreis 2/Wollishofen/Neubau als Wohnersatz (Wohnbau anstelle Wohnbau)\",\"Neu erstellten Wohnungen nach Art des Neubaus, Kreis und Quartier 2021/Kreis 9/Albisrieden/Neubau auf unbebautem Land (kein Ersatzbau)\",\"Neu erstellten Wohnungen nach Art des Neubaus, Kreis und Quartier 2021/Kreis 2/Enge/Neubau auf unbebautem Land (kein Ersatzbau)\",\"Neu erstellten Wohnungen nach Art des Neubaus, Kreis und Quartier 2021/Kreis 7/Fluntern/Neubau auf unbebautem Land (kein Ersatzbau)\",\"Neu erstellten Wohnungen nach Art des Neubaus, Kreis und Quartier 2021/Kreis 4/Hard/Neubau auf unbebautem Land (kein Ersatzbau)\",\"Neu erstellten Wohnungen nach Art des Neubaus, Kreis und Quartier 2021/Kreis 10/H\\u00f6ngg/Neubau auf unbebautem Land (kein Ersatzbau)\",\"Neu erstellten Wohnungen nach Art des Neubaus, Kreis und Quartier 2021/Kreis 4/Langstrasse/Neubau auf unbebautem Land (kein Ersatzbau)\",\"Neu erstellten Wohnungen nach Art des Neubaus, Kreis und Quartier 2021/Kreis 6/Unterstrass/Neubau auf unbebautem Land (kein Ersatzbau)\",\"Neu erstellten Wohnungen nach Art des Neubaus, Kreis und Quartier 2021/Kreis 2/Wollishofen/Neubau auf unbebautem Land (kein Ersatzbau)\",\"Neu erstellten Wohnungen nach Art des Neubaus, Kreis und Quartier 2021/Kreis 11/Affoltern\",\"Neu erstellten Wohnungen nach Art des Neubaus, Kreis und Quartier 2021/Kreis 9/Albisrieden\",\"Neu erstellten Wohnungen nach Art des Neubaus, Kreis und Quartier 2021/Kreis 3/Alt-Wiedikon\",\"Neu erstellten Wohnungen nach Art des Neubaus, Kreis und Quartier 2021/Kreis 9/Altstetten\",\"Neu erstellten Wohnungen nach Art des Neubaus, Kreis und Quartier 2021/Kreis 2/Enge\",\"Neu erstellten Wohnungen nach Art des Neubaus, Kreis und Quartier 2021/Kreis 7/Fluntern\",\"Neu erstellten Wohnungen nach Art des Neubaus, Kreis und Quartier 2021/Kreis 5/Gewerbeschule\",\"Neu erstellten Wohnungen nach Art des Neubaus, Kreis und Quartier 2021/Kreis 4/Hard\",\"Neu erstellten Wohnungen nach Art des Neubaus, Kreis und Quartier 2021/Kreis 7/Hirslanden\",\"Neu erstellten Wohnungen nach Art des Neubaus, Kreis und Quartier 2021/Kreis 7/Hottingen\",\"Neu erstellten Wohnungen nach Art des Neubaus, Kreis und Quartier 2021/Kreis 10/H\\u00f6ngg\",\"Neu erstellten Wohnungen nach Art des Neubaus, Kreis und Quartier 2021/Kreis 4/Langstrasse\",\"Neu erstellten Wohnungen nach Art des Neubaus, Kreis und Quartier 2021/Kreis 2/Leimbach\",\"Neu erstellten Wohnungen nach Art des Neubaus, Kreis und Quartier 2021/Kreis 6/Oberstrass\",\"Neu erstellten Wohnungen nach Art des Neubaus, Kreis und Quartier 2021/Kreis 11/Oerlikon\",\"Neu erstellten Wohnungen nach Art des Neubaus, Kreis und Quartier 2021/Kreis 12/Schwamendingen-Mitte\",\"Neu erstellten Wohnungen nach Art des Neubaus, Kreis und Quartier 2021/Kreis 11/Seebach\",\"Neu erstellten Wohnungen nach Art des Neubaus, Kreis und Quartier 2021/Kreis 8/Seefeld\",\"Neu erstellten Wohnungen nach Art des Neubaus, Kreis und Quartier 2021/Kreis 3/Sihlfeld\",\"Neu erstellten Wohnungen nach Art des Neubaus, Kreis und Quartier 2021/Kreis 6/Unterstrass\",\"Neu erstellten Wohnungen nach Art des Neubaus, Kreis und Quartier 2021/Kreis 4/Werd\",\"Neu erstellten Wohnungen nach Art des Neubaus, Kreis und Quartier 2021/Kreis 10/Wipkingen\",\"Neu erstellten Wohnungen nach Art des Neubaus, Kreis und Quartier 2021/Kreis 7/Witikon\",\"Neu erstellten Wohnungen nach Art des Neubaus, Kreis und Quartier 2021/Kreis 2/Wollishofen\",\"Neu erstellten Wohnungen nach Art des Neubaus, Kreis und Quartier 2021/Kreis 10\",\"Neu erstellten Wohnungen nach Art des Neubaus, Kreis und Quartier 2021/Kreis 11\",\"Neu erstellten Wohnungen nach Art des Neubaus, Kreis und Quartier 2021/Kreis 12\",\"Neu erstellten Wohnungen nach Art des Neubaus, Kreis und Quartier 2021/Kreis 2\",\"Neu erstellten Wohnungen nach Art des Neubaus, Kreis und Quartier 2021/Kreis 3\",\"Neu erstellten Wohnungen nach Art des Neubaus, Kreis und Quartier 2021/Kreis 4\",\"Neu erstellten Wohnungen nach Art des Neubaus, Kreis und Quartier 2021/Kreis 5\",\"Neu erstellten Wohnungen nach Art des Neubaus, Kreis und Quartier 2021/Kreis 6\",\"Neu erstellten Wohnungen nach Art des Neubaus, Kreis und Quartier 2021/Kreis 7\",\"Neu erstellten Wohnungen nach Art des Neubaus, Kreis und Quartier 2021/Kreis 8\",\"Neu erstellten Wohnungen nach Art des Neubaus, Kreis und Quartier 2021/Kreis 9\",\"Neu erstellten Wohnungen nach Art des Neubaus, Kreis und Quartier 2021\"],\"labels\":[\"Neubau als Umnutzung (Wohnbau anstelle Nichtwohnbau)\",\"Neubau als Umnutzung (Wohnbau anstelle Nichtwohnbau)\",\"Neubau als Umnutzung (Wohnbau anstelle Nichtwohnbau)\",\"Neubau als Umnutzung (Wohnbau anstelle Nichtwohnbau)\",\"Neubau als Umnutzung (Wohnbau anstelle Nichtwohnbau)\",\"Neubau als Umnutzung (Wohnbau anstelle Nichtwohnbau)\",\"Neubau als Umnutzung (Wohnbau anstelle Nichtwohnbau)\",\"Neubau als Umnutzung (Wohnbau anstelle Nichtwohnbau)\",\"Neubau als Umnutzung (Wohnbau anstelle Nichtwohnbau)\",\"Neubau als Umnutzung (Wohnbau anstelle Nichtwohnbau)\",\"Neubau als Umnutzung (Wohnbau anstelle Nichtwohnbau)\",\"Neubau als Wohnersatz (Wohnbau anstelle Wohnbau)\",\"Neubau als Wohnersatz (Wohnbau anstelle Wohnbau)\",\"Neubau als Wohnersatz (Wohnbau anstelle Wohnbau)\",\"Neubau als Wohnersatz (Wohnbau anstelle Wohnbau)\",\"Neubau als Wohnersatz (Wohnbau anstelle Wohnbau)\",\"Neubau als Wohnersatz (Wohnbau anstelle Wohnbau)\",\"Neubau als Wohnersatz (Wohnbau anstelle Wohnbau)\",\"Neubau als Wohnersatz (Wohnbau anstelle Wohnbau)\",\"Neubau als Wohnersatz (Wohnbau anstelle Wohnbau)\",\"Neubau als Wohnersatz (Wohnbau anstelle Wohnbau)\",\"Neubau als Wohnersatz (Wohnbau anstelle Wohnbau)\",\"Neubau als Wohnersatz (Wohnbau anstelle Wohnbau)\",\"Neubau als Wohnersatz (Wohnbau anstelle Wohnbau)\",\"Neubau als Wohnersatz (Wohnbau anstelle Wohnbau)\",\"Neubau als Wohnersatz (Wohnbau anstelle Wohnbau)\",\"Neubau als Wohnersatz (Wohnbau anstelle Wohnbau)\",\"Neubau als Wohnersatz (Wohnbau anstelle Wohnbau)\",\"Neubau als Wohnersatz (Wohnbau anstelle Wohnbau)\",\"Neubau auf unbebautem Land (kein Ersatzbau)\",\"Neubau auf unbebautem Land (kein Ersatzbau)\",\"Neubau auf unbebautem Land (kein Ersatzbau)\",\"Neubau auf unbebautem Land (kein Ersatzbau)\",\"Neubau auf unbebautem Land (kein Ersatzbau)\",\"Neubau auf unbebautem Land (kein Ersatzbau)\",\"Neubau auf unbebautem Land (kein Ersatzbau)\",\"Neubau auf unbebautem Land (kein Ersatzbau)\",\"Affoltern\",\"Albisrieden\",\"Alt-Wiedikon\",\"Altstetten\",\"Enge\",\"Fluntern\",\"Gewerbeschule\",\"Hard\",\"Hirslanden\",\"Hottingen\",\"H\\u00f6ngg\",\"Langstrasse\",\"Leimbach\",\"Oberstrass\",\"Oerlikon\",\"Schwamendingen-Mitte\",\"Seebach\",\"Seefeld\",\"Sihlfeld\",\"Unterstrass\",\"Werd\",\"Wipkingen\",\"Witikon\",\"Wollishofen\",\"Kreis 10\",\"Kreis 11\",\"Kreis 12\",\"Kreis 2\",\"Kreis 3\",\"Kreis 4\",\"Kreis 5\",\"Kreis 6\",\"Kreis 7\",\"Kreis 8\",\"Kreis 9\",\"Neu erstellten Wohnungen nach Art des Neubaus, Kreis und Quartier 2021\"],\"marker\":{\"coloraxis\":\"coloraxis\",\"colors\":[14.0,5.0,94.0,55.0,10.0,16.0,201.0,121.0,80.0,7.0,28.0,58.0,66.0,290.0,18.0,30.0,2.0,10.0,51.0,140.0,37.0,42.0,14.0,13.0,17.0,169.0,23.0,18.0,182.0,9.0,18.0,14.0,46.0,2.0,15.0,10.0,4.0,58.0,52.056179775280896,5.0,242.02083333333334,18.0,16.25,55.0,39.68421052631579,2.0,10.0,42.93650793650794,15.0,140.0,37.0,34.827586206896555,14.0,189.57943925233644,121.0,17.0,160.11731843575419,80.0,23.0,14.92,158.52336448598132,37.604651162790695,139.25454545454545,14.0,144.752688172043,14.272727272727273,56.380116959064324,55.0,139.02777777777777,14.44927536231884,121.0,206.276955602537,134.49922239502334]},\"name\":\"\",\"parents\":[\"Neu erstellten Wohnungen nach Art des Neubaus, Kreis und Quartier 2021/Kreis 9/Albisrieden\",\"Neu erstellten Wohnungen nach Art des Neubaus, Kreis und Quartier 2021/Kreis 3/Alt-Wiedikon\",\"Neu erstellten Wohnungen nach Art des Neubaus, Kreis und Quartier 2021/Kreis 9/Altstetten\",\"Neu erstellten Wohnungen nach Art des Neubaus, Kreis und Quartier 2021/Kreis 5/Gewerbeschule\",\"Neu erstellten Wohnungen nach Art des Neubaus, Kreis und Quartier 2021/Kreis 10/H\\u00f6ngg\",\"Neu erstellten Wohnungen nach Art des Neubaus, Kreis und Quartier 2021/Kreis 11/Oerlikon\",\"Neu erstellten Wohnungen nach Art des Neubaus, Kreis und Quartier 2021/Kreis 11/Seebach\",\"Neu erstellten Wohnungen nach Art des Neubaus, Kreis und Quartier 2021/Kreis 8/Seefeld\",\"Neu erstellten Wohnungen nach Art des Neubaus, Kreis und Quartier 2021/Kreis 4/Werd\",\"Neu erstellten Wohnungen nach Art des Neubaus, Kreis und Quartier 2021/Kreis 7/Witikon\",\"Neu erstellten Wohnungen nach Art des Neubaus, Kreis und Quartier 2021/Kreis 2/Wollishofen\",\"Neu erstellten Wohnungen nach Art des Neubaus, Kreis und Quartier 2021/Kreis 11/Affoltern\",\"Neu erstellten Wohnungen nach Art des Neubaus, Kreis und Quartier 2021/Kreis 9/Albisrieden\",\"Neu erstellten Wohnungen nach Art des Neubaus, Kreis und Quartier 2021/Kreis 9/Altstetten\",\"Neu erstellten Wohnungen nach Art des Neubaus, Kreis und Quartier 2021/Kreis 7/Fluntern\",\"Neu erstellten Wohnungen nach Art des Neubaus, Kreis und Quartier 2021/Kreis 4/Hard\",\"Neu erstellten Wohnungen nach Art des Neubaus, Kreis und Quartier 2021/Kreis 7/Hirslanden\",\"Neu erstellten Wohnungen nach Art des Neubaus, Kreis und Quartier 2021/Kreis 7/Hottingen\",\"Neu erstellten Wohnungen nach Art des Neubaus, Kreis und Quartier 2021/Kreis 10/H\\u00f6ngg\",\"Neu erstellten Wohnungen nach Art des Neubaus, Kreis und Quartier 2021/Kreis 2/Leimbach\",\"Neu erstellten Wohnungen nach Art des Neubaus, Kreis und Quartier 2021/Kreis 6/Oberstrass\",\"Neu erstellten Wohnungen nach Art des Neubaus, Kreis und Quartier 2021/Kreis 11/Oerlikon\",\"Neu erstellten Wohnungen nach Art des Neubaus, Kreis und Quartier 2021/Kreis 12/Schwamendingen-Mitte\",\"Neu erstellten Wohnungen nach Art des Neubaus, Kreis und Quartier 2021/Kreis 11/Seebach\",\"Neu erstellten Wohnungen nach Art des Neubaus, Kreis und Quartier 2021/Kreis 3/Sihlfeld\",\"Neu erstellten Wohnungen nach Art des Neubaus, Kreis und Quartier 2021/Kreis 6/Unterstrass\",\"Neu erstellten Wohnungen nach Art des Neubaus, Kreis und Quartier 2021/Kreis 10/Wipkingen\",\"Neu erstellten Wohnungen nach Art des Neubaus, Kreis und Quartier 2021/Kreis 7/Witikon\",\"Neu erstellten Wohnungen nach Art des Neubaus, Kreis und Quartier 2021/Kreis 2/Wollishofen\",\"Neu erstellten Wohnungen nach Art des Neubaus, Kreis und Quartier 2021/Kreis 9/Albisrieden\",\"Neu erstellten Wohnungen nach Art des Neubaus, Kreis und Quartier 2021/Kreis 2/Enge\",\"Neu erstellten Wohnungen nach Art des Neubaus, Kreis und Quartier 2021/Kreis 7/Fluntern\",\"Neu erstellten Wohnungen nach Art des Neubaus, Kreis und Quartier 2021/Kreis 4/Hard\",\"Neu erstellten Wohnungen nach Art des Neubaus, Kreis und Quartier 2021/Kreis 10/H\\u00f6ngg\",\"Neu erstellten Wohnungen nach Art des Neubaus, Kreis und Quartier 2021/Kreis 4/Langstrasse\",\"Neu erstellten Wohnungen nach Art des Neubaus, Kreis und Quartier 2021/Kreis 6/Unterstrass\",\"Neu erstellten Wohnungen nach Art des Neubaus, Kreis und Quartier 2021/Kreis 2/Wollishofen\",\"Neu erstellten Wohnungen nach Art des Neubaus, Kreis und Quartier 2021/Kreis 11\",\"Neu erstellten Wohnungen nach Art des Neubaus, Kreis und Quartier 2021/Kreis 9\",\"Neu erstellten Wohnungen nach Art des Neubaus, Kreis und Quartier 2021/Kreis 3\",\"Neu erstellten Wohnungen nach Art des Neubaus, Kreis und Quartier 2021/Kreis 9\",\"Neu erstellten Wohnungen nach Art des Neubaus, Kreis und Quartier 2021/Kreis 2\",\"Neu erstellten Wohnungen nach Art des Neubaus, Kreis und Quartier 2021/Kreis 7\",\"Neu erstellten Wohnungen nach Art des Neubaus, Kreis und Quartier 2021/Kreis 5\",\"Neu erstellten Wohnungen nach Art des Neubaus, Kreis und Quartier 2021/Kreis 4\",\"Neu erstellten Wohnungen nach Art des Neubaus, Kreis und Quartier 2021/Kreis 7\",\"Neu erstellten Wohnungen nach Art des Neubaus, Kreis und Quartier 2021/Kreis 7\",\"Neu erstellten Wohnungen nach Art des Neubaus, Kreis und Quartier 2021/Kreis 10\",\"Neu erstellten Wohnungen nach Art des Neubaus, Kreis und Quartier 2021/Kreis 4\",\"Neu erstellten Wohnungen nach Art des Neubaus, Kreis und Quartier 2021/Kreis 2\",\"Neu erstellten Wohnungen nach Art des Neubaus, Kreis und Quartier 2021/Kreis 6\",\"Neu erstellten Wohnungen nach Art des Neubaus, Kreis und Quartier 2021/Kreis 11\",\"Neu erstellten Wohnungen nach Art des Neubaus, Kreis und Quartier 2021/Kreis 12\",\"Neu erstellten Wohnungen nach Art des Neubaus, Kreis und Quartier 2021/Kreis 11\",\"Neu erstellten Wohnungen nach Art des Neubaus, Kreis und Quartier 2021/Kreis 8\",\"Neu erstellten Wohnungen nach Art des Neubaus, Kreis und Quartier 2021/Kreis 3\",\"Neu erstellten Wohnungen nach Art des Neubaus, Kreis und Quartier 2021/Kreis 6\",\"Neu erstellten Wohnungen nach Art des Neubaus, Kreis und Quartier 2021/Kreis 4\",\"Neu erstellten Wohnungen nach Art des Neubaus, Kreis und Quartier 2021/Kreis 10\",\"Neu erstellten Wohnungen nach Art des Neubaus, Kreis und Quartier 2021/Kreis 7\",\"Neu erstellten Wohnungen nach Art des Neubaus, Kreis und Quartier 2021/Kreis 2\",\"Neu erstellten Wohnungen nach Art des Neubaus, Kreis und Quartier 2021\",\"Neu erstellten Wohnungen nach Art des Neubaus, Kreis und Quartier 2021\",\"Neu erstellten Wohnungen nach Art des Neubaus, Kreis und Quartier 2021\",\"Neu erstellten Wohnungen nach Art des Neubaus, Kreis und Quartier 2021\",\"Neu erstellten Wohnungen nach Art des Neubaus, Kreis und Quartier 2021\",\"Neu erstellten Wohnungen nach Art des Neubaus, Kreis und Quartier 2021\",\"Neu erstellten Wohnungen nach Art des Neubaus, Kreis und Quartier 2021\",\"Neu erstellten Wohnungen nach Art des Neubaus, Kreis und Quartier 2021\",\"Neu erstellten Wohnungen nach Art des Neubaus, Kreis und Quartier 2021\",\"Neu erstellten Wohnungen nach Art des Neubaus, Kreis und Quartier 2021\",\"Neu erstellten Wohnungen nach Art des Neubaus, Kreis und Quartier 2021\",\"\"],\"root\":{\"color\":\"grey\"},\"type\":\"treemap\",\"values\":[14,5,94,55,10,16,201,121,80,7,28,58,66,290,18,30,2,10,51,140,37,42,14,13,17,169,23,18,182,9,18,14,46,2,15,10,4,58,89,5,384,18,32,55,76,2,10,63,15,140,37,58,14,214,121,17,179,80,23,25,214,86,330,14,372,22,171,55,216,69,121,473,1929]}],                        {\"coloraxis\":{\"colorbar\":{\"title\":{\"text\":\"sum_AnzWhg\"}},\"colorscale\":[[0.0,\"#00224e\"],[0.1111111111111111,\"#123570\"],[0.2222222222222222,\"#3b496c\"],[0.3333333333333333,\"#575d6d\"],[0.4444444444444444,\"#707173\"],[0.5555555555555556,\"#8a8678\"],[0.6666666666666666,\"#a59c74\"],[0.7777777777777778,\"#c3b369\"],[0.8888888888888888,\"#e1cc55\"],[1.0,\"#fee838\"]]},\"height\":500,\"legend\":{\"tracegroupgap\":0},\"margin\":{\"b\":25,\"l\":25,\"r\":250,\"t\":50},\"template\":{\"data\":{\"bar\":[{\"error_x\":{\"color\":\"#2a3f5f\"},\"error_y\":{\"color\":\"#2a3f5f\"},\"marker\":{\"line\":{\"color\":\"#E5ECF6\",\"width\":0.5},\"pattern\":{\"fillmode\":\"overlay\",\"size\":10,\"solidity\":0.2}},\"type\":\"bar\"}],\"barpolar\":[{\"marker\":{\"line\":{\"color\":\"#E5ECF6\",\"width\":0.5},\"pattern\":{\"fillmode\":\"overlay\",\"size\":10,\"solidity\":0.2}},\"type\":\"barpolar\"}],\"carpet\":[{\"aaxis\":{\"endlinecolor\":\"#2a3f5f\",\"gridcolor\":\"white\",\"linecolor\":\"white\",\"minorgridcolor\":\"white\",\"startlinecolor\":\"#2a3f5f\"},\"baxis\":{\"endlinecolor\":\"#2a3f5f\",\"gridcolor\":\"white\",\"linecolor\":\"white\",\"minorgridcolor\":\"white\",\"startlinecolor\":\"#2a3f5f\"},\"type\":\"carpet\"}],\"choropleth\":[{\"colorbar\":{\"outlinewidth\":0,\"ticks\":\"\"},\"type\":\"choropleth\"}],\"contour\":[{\"colorbar\":{\"outlinewidth\":0,\"ticks\":\"\"},\"colorscale\":[[0.0,\"#0d0887\"],[0.1111111111111111,\"#46039f\"],[0.2222222222222222,\"#7201a8\"],[0.3333333333333333,\"#9c179e\"],[0.4444444444444444,\"#bd3786\"],[0.5555555555555556,\"#d8576b\"],[0.6666666666666666,\"#ed7953\"],[0.7777777777777778,\"#fb9f3a\"],[0.8888888888888888,\"#fdca26\"],[1.0,\"#f0f921\"]],\"type\":\"contour\"}],\"contourcarpet\":[{\"colorbar\":{\"outlinewidth\":0,\"ticks\":\"\"},\"type\":\"contourcarpet\"}],\"heatmap\":[{\"colorbar\":{\"outlinewidth\":0,\"ticks\":\"\"},\"colorscale\":[[0.0,\"#0d0887\"],[0.1111111111111111,\"#46039f\"],[0.2222222222222222,\"#7201a8\"],[0.3333333333333333,\"#9c179e\"],[0.4444444444444444,\"#bd3786\"],[0.5555555555555556,\"#d8576b\"],[0.6666666666666666,\"#ed7953\"],[0.7777777777777778,\"#fb9f3a\"],[0.8888888888888888,\"#fdca26\"],[1.0,\"#f0f921\"]],\"type\":\"heatmap\"}],\"heatmapgl\":[{\"colorbar\":{\"outlinewidth\":0,\"ticks\":\"\"},\"colorscale\":[[0.0,\"#0d0887\"],[0.1111111111111111,\"#46039f\"],[0.2222222222222222,\"#7201a8\"],[0.3333333333333333,\"#9c179e\"],[0.4444444444444444,\"#bd3786\"],[0.5555555555555556,\"#d8576b\"],[0.6666666666666666,\"#ed7953\"],[0.7777777777777778,\"#fb9f3a\"],[0.8888888888888888,\"#fdca26\"],[1.0,\"#f0f921\"]],\"type\":\"heatmapgl\"}],\"histogram\":[{\"marker\":{\"pattern\":{\"fillmode\":\"overlay\",\"size\":10,\"solidity\":0.2}},\"type\":\"histogram\"}],\"histogram2d\":[{\"colorbar\":{\"outlinewidth\":0,\"ticks\":\"\"},\"colorscale\":[[0.0,\"#0d0887\"],[0.1111111111111111,\"#46039f\"],[0.2222222222222222,\"#7201a8\"],[0.3333333333333333,\"#9c179e\"],[0.4444444444444444,\"#bd3786\"],[0.5555555555555556,\"#d8576b\"],[0.6666666666666666,\"#ed7953\"],[0.7777777777777778,\"#fb9f3a\"],[0.8888888888888888,\"#fdca26\"],[1.0,\"#f0f921\"]],\"type\":\"histogram2d\"}],\"histogram2dcontour\":[{\"colorbar\":{\"outlinewidth\":0,\"ticks\":\"\"},\"colorscale\":[[0.0,\"#0d0887\"],[0.1111111111111111,\"#46039f\"],[0.2222222222222222,\"#7201a8\"],[0.3333333333333333,\"#9c179e\"],[0.4444444444444444,\"#bd3786\"],[0.5555555555555556,\"#d8576b\"],[0.6666666666666666,\"#ed7953\"],[0.7777777777777778,\"#fb9f3a\"],[0.8888888888888888,\"#fdca26\"],[1.0,\"#f0f921\"]],\"type\":\"histogram2dcontour\"}],\"mesh3d\":[{\"colorbar\":{\"outlinewidth\":0,\"ticks\":\"\"},\"type\":\"mesh3d\"}],\"parcoords\":[{\"line\":{\"colorbar\":{\"outlinewidth\":0,\"ticks\":\"\"}},\"type\":\"parcoords\"}],\"pie\":[{\"automargin\":true,\"type\":\"pie\"}],\"scatter\":[{\"marker\":{\"colorbar\":{\"outlinewidth\":0,\"ticks\":\"\"}},\"type\":\"scatter\"}],\"scatter3d\":[{\"line\":{\"colorbar\":{\"outlinewidth\":0,\"ticks\":\"\"}},\"marker\":{\"colorbar\":{\"outlinewidth\":0,\"ticks\":\"\"}},\"type\":\"scatter3d\"}],\"scattercarpet\":[{\"marker\":{\"colorbar\":{\"outlinewidth\":0,\"ticks\":\"\"}},\"type\":\"scattercarpet\"}],\"scattergeo\":[{\"marker\":{\"colorbar\":{\"outlinewidth\":0,\"ticks\":\"\"}},\"type\":\"scattergeo\"}],\"scattergl\":[{\"marker\":{\"colorbar\":{\"outlinewidth\":0,\"ticks\":\"\"}},\"type\":\"scattergl\"}],\"scattermapbox\":[{\"marker\":{\"colorbar\":{\"outlinewidth\":0,\"ticks\":\"\"}},\"type\":\"scattermapbox\"}],\"scatterpolar\":[{\"marker\":{\"colorbar\":{\"outlinewidth\":0,\"ticks\":\"\"}},\"type\":\"scatterpolar\"}],\"scatterpolargl\":[{\"marker\":{\"colorbar\":{\"outlinewidth\":0,\"ticks\":\"\"}},\"type\":\"scatterpolargl\"}],\"scatterternary\":[{\"marker\":{\"colorbar\":{\"outlinewidth\":0,\"ticks\":\"\"}},\"type\":\"scatterternary\"}],\"surface\":[{\"colorbar\":{\"outlinewidth\":0,\"ticks\":\"\"},\"colorscale\":[[0.0,\"#0d0887\"],[0.1111111111111111,\"#46039f\"],[0.2222222222222222,\"#7201a8\"],[0.3333333333333333,\"#9c179e\"],[0.4444444444444444,\"#bd3786\"],[0.5555555555555556,\"#d8576b\"],[0.6666666666666666,\"#ed7953\"],[0.7777777777777778,\"#fb9f3a\"],[0.8888888888888888,\"#fdca26\"],[1.0,\"#f0f921\"]],\"type\":\"surface\"}],\"table\":[{\"cells\":{\"fill\":{\"color\":\"#EBF0F8\"},\"line\":{\"color\":\"white\"}},\"header\":{\"fill\":{\"color\":\"#C8D4E3\"},\"line\":{\"color\":\"white\"}},\"type\":\"table\"}]},\"layout\":{\"annotationdefaults\":{\"arrowcolor\":\"#2a3f5f\",\"arrowhead\":0,\"arrowwidth\":1},\"autotypenumbers\":\"strict\",\"coloraxis\":{\"colorbar\":{\"outlinewidth\":0,\"ticks\":\"\"}},\"colorscale\":{\"diverging\":[[0,\"#8e0152\"],[0.1,\"#c51b7d\"],[0.2,\"#de77ae\"],[0.3,\"#f1b6da\"],[0.4,\"#fde0ef\"],[0.5,\"#f7f7f7\"],[0.6,\"#e6f5d0\"],[0.7,\"#b8e186\"],[0.8,\"#7fbc41\"],[0.9,\"#4d9221\"],[1,\"#276419\"]],\"sequential\":[[0.0,\"#0d0887\"],[0.1111111111111111,\"#46039f\"],[0.2222222222222222,\"#7201a8\"],[0.3333333333333333,\"#9c179e\"],[0.4444444444444444,\"#bd3786\"],[0.5555555555555556,\"#d8576b\"],[0.6666666666666666,\"#ed7953\"],[0.7777777777777778,\"#fb9f3a\"],[0.8888888888888888,\"#fdca26\"],[1.0,\"#f0f921\"]],\"sequentialminus\":[[0.0,\"#0d0887\"],[0.1111111111111111,\"#46039f\"],[0.2222222222222222,\"#7201a8\"],[0.3333333333333333,\"#9c179e\"],[0.4444444444444444,\"#bd3786\"],[0.5555555555555556,\"#d8576b\"],[0.6666666666666666,\"#ed7953\"],[0.7777777777777778,\"#fb9f3a\"],[0.8888888888888888,\"#fdca26\"],[1.0,\"#f0f921\"]]},\"colorway\":[\"#636efa\",\"#EF553B\",\"#00cc96\",\"#ab63fa\",\"#FFA15A\",\"#19d3f3\",\"#FF6692\",\"#B6E880\",\"#FF97FF\",\"#FECB52\"],\"font\":{\"color\":\"#2a3f5f\"},\"geo\":{\"bgcolor\":\"white\",\"lakecolor\":\"white\",\"landcolor\":\"#E5ECF6\",\"showlakes\":true,\"showland\":true,\"subunitcolor\":\"white\"},\"hoverlabel\":{\"align\":\"left\"},\"hovermode\":\"closest\",\"mapbox\":{\"style\":\"light\"},\"paper_bgcolor\":\"white\",\"plot_bgcolor\":\"#E5ECF6\",\"polar\":{\"angularaxis\":{\"gridcolor\":\"white\",\"linecolor\":\"white\",\"ticks\":\"\"},\"bgcolor\":\"#E5ECF6\",\"radialaxis\":{\"gridcolor\":\"white\",\"linecolor\":\"white\",\"ticks\":\"\"}},\"scene\":{\"xaxis\":{\"backgroundcolor\":\"#E5ECF6\",\"gridcolor\":\"white\",\"gridwidth\":2,\"linecolor\":\"white\",\"showbackground\":true,\"ticks\":\"\",\"zerolinecolor\":\"white\"},\"yaxis\":{\"backgroundcolor\":\"#E5ECF6\",\"gridcolor\":\"white\",\"gridwidth\":2,\"linecolor\":\"white\",\"showbackground\":true,\"ticks\":\"\",\"zerolinecolor\":\"white\"},\"zaxis\":{\"backgroundcolor\":\"#E5ECF6\",\"gridcolor\":\"white\",\"gridwidth\":2,\"linecolor\":\"white\",\"showbackground\":true,\"ticks\":\"\",\"zerolinecolor\":\"white\"}},\"shapedefaults\":{\"line\":{\"color\":\"#2a3f5f\"}},\"ternary\":{\"aaxis\":{\"gridcolor\":\"white\",\"linecolor\":\"white\",\"ticks\":\"\"},\"baxis\":{\"gridcolor\":\"white\",\"linecolor\":\"white\",\"ticks\":\"\"},\"bgcolor\":\"#E5ECF6\",\"caxis\":{\"gridcolor\":\"white\",\"linecolor\":\"white\",\"ticks\":\"\"}},\"title\":{\"x\":0.05},\"xaxis\":{\"automargin\":true,\"gridcolor\":\"white\",\"linecolor\":\"white\",\"ticks\":\"\",\"title\":{\"standoff\":15},\"zerolinecolor\":\"white\",\"zerolinewidth\":2},\"yaxis\":{\"automargin\":true,\"gridcolor\":\"white\",\"linecolor\":\"white\",\"ticks\":\"\",\"title\":{\"standoff\":15},\"zerolinecolor\":\"white\",\"zerolinewidth\":2}}},\"width\":1100},                        {\"responsive\": true}                    ).then(function(){\n",
       "                            \n",
       "var gd = document.getElementById('cac52277-69c4-42d0-b619-513c3e4f2fff');\n",
       "var x = new MutationObserver(function (mutations, observer) {{\n",
       "        var display = window.getComputedStyle(gd).display;\n",
       "        if (!display || display === 'none') {{\n",
       "            console.log([gd, 'removed!']);\n",
       "            Plotly.purge(gd);\n",
       "            observer.disconnect();\n",
       "        }}\n",
       "}});\n",
       "\n",
       "// Listen for the removal of the full notebook cells\n",
       "var notebookContainer = gd.closest('#notebook-container');\n",
       "if (notebookContainer) {{\n",
       "    x.observe(notebookContainer, {childList: true});\n",
       "}}\n",
       "\n",
       "// Listen for the clearing of the current output cell\n",
       "var outputEl = gd.closest('.output');\n",
       "if (outputEl) {{\n",
       "    x.observe(outputEl, {childList: true});\n",
       "}}\n",
       "\n",
       "                        })                };                });            </script>        </div>"
      ]
     },
     "metadata": {},
     "output_type": "display_data"
    }
   ],
   "source": [
    "fig = px.treemap(myTreemapAgg.query('sum_AnzWhg >0').reset_index(), path=[px.Constant(\"Neu erstellten Wohnungen nach Art des Neubaus, Kreis und Quartier 2021\")\n",
    "                                                                                     ,'KreisLang', 'QuarLang','ArtNeubauLang']\n",
    "                 , values='sum_AnzWhg'\n",
    "                 , color='sum_AnzWhg'\n",
    "                 ## bei discrete scales (bei Klassen und Strings):                 \n",
    "                 #, color_discrete_map={'(?)':'lightgrey','EVP':'gold', 'SP':'#FF3030', 'PdA':'#EE3B3B', 'Grüne':'#A2CD5A','GLP':'#CAFF70','Die Mitte':'orange','FDP':'#104E8B','AL':'deeppink','SVP':'forestgreen', 'FL ZÜRI':'#8B864E','Volt':'#lightblue' }                \n",
    "                 ## bei continuous scales (bei Zahlenwerten):\n",
    "                , color_continuous_scale='cividis'\n",
    "                #, color_continuous_midpoint=np.average(df['AnzBestWir'], weights=df['AnzBestWir'])  \n",
    "                 ,height=500\n",
    "                 ,width=1100                 \n",
    "                )\n",
    "fig.update_traces(root_color=\"grey\")\n",
    "fig.update_layout(margin = dict(t=50, l=25, r=250, b=25))\n",
    "fig.show()"
   ]
  },
  {
   "cell_type": "code",
   "execution_count": 86,
   "metadata": {},
   "outputs": [
    {
     "data": {
      "application/vnd.plotly.v1+json": {
       "config": {
        "plotlyServerURL": "https://plot.ly"
       },
       "data": [
        {
         "branchvalues": "total",
         "customdata": [
          [
           "Kreis 4"
          ],
          [
           "Kreis 6"
          ],
          [
           "Kreis 6"
          ],
          [
           "Kreis 3"
          ],
          [
           "Kreis 2"
          ],
          [
           "Kreis 7"
          ],
          [
           "Kreis 7"
          ],
          [
           "Kreis 10"
          ],
          [
           "Kreis 2"
          ],
          [
           "Kreis 2"
          ],
          [
           "Kreis 11"
          ],
          [
           "Kreis 9"
          ],
          [
           "Kreis 9"
          ],
          [
           "Kreis 9"
          ],
          [
           "Kreis 3"
          ],
          [
           "Kreis 9"
          ],
          [
           "Kreis 9"
          ],
          [
           "Kreis 7"
          ],
          [
           "Kreis 2"
          ],
          [
           "Kreis 5"
          ],
          [
           "Kreis 7"
          ],
          [
           "Kreis 4"
          ],
          [
           "Kreis 4"
          ],
          [
           "Kreis 7"
          ],
          [
           "Kreis 7"
          ],
          [
           "Kreis 4"
          ],
          [
           "Kreis 6"
          ],
          [
           "Kreis 2"
          ],
          [
           "Kreis 10"
          ],
          [
           "Kreis 10"
          ],
          [
           "Kreis 10"
          ],
          [
           "Kreis 11"
          ],
          [
           "Kreis 8"
          ],
          [
           "Kreis 11"
          ],
          [
           "Kreis 11"
          ],
          [
           "Kreis 11"
          ],
          [
           "Kreis 12"
          ],
          [
           "Kreis 10"
          ],
          [
           "Kreis 10"
          ],
          [
           "Kreis 10"
          ],
          [
           "Kreis 11"
          ],
          [
           "Kreis 11"
          ],
          [
           "Kreis 12"
          ],
          [
           "Kreis 2"
          ],
          [
           "Kreis 2"
          ],
          [
           "Kreis 2"
          ],
          [
           "Kreis 3"
          ],
          [
           "Kreis 3"
          ],
          [
           "Kreis 4"
          ],
          [
           "Kreis 4"
          ],
          [
           "Kreis 4"
          ],
          [
           "Kreis 5"
          ],
          [
           "Kreis 6"
          ],
          [
           "Kreis 6"
          ],
          [
           "Kreis 7"
          ],
          [
           "Kreis 7"
          ],
          [
           "Kreis 7"
          ],
          [
           "Kreis 8"
          ],
          [
           "Kreis 9"
          ],
          [
           "Kreis 9"
          ],
          [
           "Kreis 9"
          ],
          [
           "(?)"
          ],
          [
           "(?)"
          ],
          [
           "(?)"
          ],
          [
           "(?)"
          ]
         ],
         "domain": {
          "x": [
           0,
           1
          ],
          "y": [
           0,
           1
          ]
         },
         "hovertemplate": "labels=%{label}<br>sum_AnzWhg=%{value}<br>parent=%{parent}<br>id=%{id}<br>KreisLang=%{customdata[0]}<extra></extra>",
         "ids": [
          "Neu erstellten Wohnungen nach Art des Neubaus, Kreis und Quartier 2021/Neubau als Umnutzung (Wohnbau anstelle Nichtwohnbau)/Kreis 4/Werd",
          "Neu erstellten Wohnungen nach Art des Neubaus, Kreis und Quartier 2021/Neubau auf unbebautem Land (kein Ersatzbau)/Kreis 6/Unterstrass",
          "Neu erstellten Wohnungen nach Art des Neubaus, Kreis und Quartier 2021/Neubau als Wohnersatz (Wohnbau anstelle Wohnbau)/Kreis 6/Unterstrass",
          "Neu erstellten Wohnungen nach Art des Neubaus, Kreis und Quartier 2021/Neubau als Wohnersatz (Wohnbau anstelle Wohnbau)/Kreis 3/Sihlfeld",
          "Neu erstellten Wohnungen nach Art des Neubaus, Kreis und Quartier 2021/Neubau als Umnutzung (Wohnbau anstelle Nichtwohnbau)/Kreis 2/Wollishofen",
          "Neu erstellten Wohnungen nach Art des Neubaus, Kreis und Quartier 2021/Neubau als Wohnersatz (Wohnbau anstelle Wohnbau)/Kreis 7/Witikon",
          "Neu erstellten Wohnungen nach Art des Neubaus, Kreis und Quartier 2021/Neubau als Umnutzung (Wohnbau anstelle Nichtwohnbau)/Kreis 7/Witikon",
          "Neu erstellten Wohnungen nach Art des Neubaus, Kreis und Quartier 2021/Neubau als Wohnersatz (Wohnbau anstelle Wohnbau)/Kreis 10/Wipkingen",
          "Neu erstellten Wohnungen nach Art des Neubaus, Kreis und Quartier 2021/Neubau als Wohnersatz (Wohnbau anstelle Wohnbau)/Kreis 2/Wollishofen",
          "Neu erstellten Wohnungen nach Art des Neubaus, Kreis und Quartier 2021/Neubau auf unbebautem Land (kein Ersatzbau)/Kreis 2/Wollishofen",
          "Neu erstellten Wohnungen nach Art des Neubaus, Kreis und Quartier 2021/Neubau als Wohnersatz (Wohnbau anstelle Wohnbau)/Kreis 11/Affoltern",
          "Neu erstellten Wohnungen nach Art des Neubaus, Kreis und Quartier 2021/Neubau als Umnutzung (Wohnbau anstelle Nichtwohnbau)/Kreis 9/Albisrieden",
          "Neu erstellten Wohnungen nach Art des Neubaus, Kreis und Quartier 2021/Neubau als Wohnersatz (Wohnbau anstelle Wohnbau)/Kreis 9/Albisrieden",
          "Neu erstellten Wohnungen nach Art des Neubaus, Kreis und Quartier 2021/Neubau auf unbebautem Land (kein Ersatzbau)/Kreis 9/Albisrieden",
          "Neu erstellten Wohnungen nach Art des Neubaus, Kreis und Quartier 2021/Neubau als Umnutzung (Wohnbau anstelle Nichtwohnbau)/Kreis 3/Alt-Wiedikon",
          "Neu erstellten Wohnungen nach Art des Neubaus, Kreis und Quartier 2021/Neubau als Umnutzung (Wohnbau anstelle Nichtwohnbau)/Kreis 9/Altstetten",
          "Neu erstellten Wohnungen nach Art des Neubaus, Kreis und Quartier 2021/Neubau als Wohnersatz (Wohnbau anstelle Wohnbau)/Kreis 9/Altstetten",
          "Neu erstellten Wohnungen nach Art des Neubaus, Kreis und Quartier 2021/Neubau auf unbebautem Land (kein Ersatzbau)/Kreis 7/Fluntern",
          "Neu erstellten Wohnungen nach Art des Neubaus, Kreis und Quartier 2021/Neubau auf unbebautem Land (kein Ersatzbau)/Kreis 2/Enge",
          "Neu erstellten Wohnungen nach Art des Neubaus, Kreis und Quartier 2021/Neubau als Umnutzung (Wohnbau anstelle Nichtwohnbau)/Kreis 5/Gewerbeschule",
          "Neu erstellten Wohnungen nach Art des Neubaus, Kreis und Quartier 2021/Neubau als Wohnersatz (Wohnbau anstelle Wohnbau)/Kreis 7/Fluntern",
          "Neu erstellten Wohnungen nach Art des Neubaus, Kreis und Quartier 2021/Neubau als Wohnersatz (Wohnbau anstelle Wohnbau)/Kreis 4/Hard",
          "Neu erstellten Wohnungen nach Art des Neubaus, Kreis und Quartier 2021/Neubau auf unbebautem Land (kein Ersatzbau)/Kreis 4/Hard",
          "Neu erstellten Wohnungen nach Art des Neubaus, Kreis und Quartier 2021/Neubau als Wohnersatz (Wohnbau anstelle Wohnbau)/Kreis 7/Hirslanden",
          "Neu erstellten Wohnungen nach Art des Neubaus, Kreis und Quartier 2021/Neubau als Wohnersatz (Wohnbau anstelle Wohnbau)/Kreis 7/Hottingen",
          "Neu erstellten Wohnungen nach Art des Neubaus, Kreis und Quartier 2021/Neubau auf unbebautem Land (kein Ersatzbau)/Kreis 4/Langstrasse",
          "Neu erstellten Wohnungen nach Art des Neubaus, Kreis und Quartier 2021/Neubau als Wohnersatz (Wohnbau anstelle Wohnbau)/Kreis 6/Oberstrass",
          "Neu erstellten Wohnungen nach Art des Neubaus, Kreis und Quartier 2021/Neubau als Wohnersatz (Wohnbau anstelle Wohnbau)/Kreis 2/Leimbach",
          "Neu erstellten Wohnungen nach Art des Neubaus, Kreis und Quartier 2021/Neubau auf unbebautem Land (kein Ersatzbau)/Kreis 10/Höngg",
          "Neu erstellten Wohnungen nach Art des Neubaus, Kreis und Quartier 2021/Neubau als Wohnersatz (Wohnbau anstelle Wohnbau)/Kreis 10/Höngg",
          "Neu erstellten Wohnungen nach Art des Neubaus, Kreis und Quartier 2021/Neubau als Umnutzung (Wohnbau anstelle Nichtwohnbau)/Kreis 10/Höngg",
          "Neu erstellten Wohnungen nach Art des Neubaus, Kreis und Quartier 2021/Neubau als Umnutzung (Wohnbau anstelle Nichtwohnbau)/Kreis 11/Oerlikon",
          "Neu erstellten Wohnungen nach Art des Neubaus, Kreis und Quartier 2021/Neubau als Umnutzung (Wohnbau anstelle Nichtwohnbau)/Kreis 8/Seefeld",
          "Neu erstellten Wohnungen nach Art des Neubaus, Kreis und Quartier 2021/Neubau als Umnutzung (Wohnbau anstelle Nichtwohnbau)/Kreis 11/Seebach",
          "Neu erstellten Wohnungen nach Art des Neubaus, Kreis und Quartier 2021/Neubau als Wohnersatz (Wohnbau anstelle Wohnbau)/Kreis 11/Oerlikon",
          "Neu erstellten Wohnungen nach Art des Neubaus, Kreis und Quartier 2021/Neubau als Wohnersatz (Wohnbau anstelle Wohnbau)/Kreis 11/Seebach",
          "Neu erstellten Wohnungen nach Art des Neubaus, Kreis und Quartier 2021/Neubau als Wohnersatz (Wohnbau anstelle Wohnbau)/Kreis 12/Schwamendingen-Mitte",
          "Neu erstellten Wohnungen nach Art des Neubaus, Kreis und Quartier 2021/Neubau als Umnutzung (Wohnbau anstelle Nichtwohnbau)/Kreis 10",
          "Neu erstellten Wohnungen nach Art des Neubaus, Kreis und Quartier 2021/Neubau als Wohnersatz (Wohnbau anstelle Wohnbau)/Kreis 10",
          "Neu erstellten Wohnungen nach Art des Neubaus, Kreis und Quartier 2021/Neubau auf unbebautem Land (kein Ersatzbau)/Kreis 10",
          "Neu erstellten Wohnungen nach Art des Neubaus, Kreis und Quartier 2021/Neubau als Umnutzung (Wohnbau anstelle Nichtwohnbau)/Kreis 11",
          "Neu erstellten Wohnungen nach Art des Neubaus, Kreis und Quartier 2021/Neubau als Wohnersatz (Wohnbau anstelle Wohnbau)/Kreis 11",
          "Neu erstellten Wohnungen nach Art des Neubaus, Kreis und Quartier 2021/Neubau als Wohnersatz (Wohnbau anstelle Wohnbau)/Kreis 12",
          "Neu erstellten Wohnungen nach Art des Neubaus, Kreis und Quartier 2021/Neubau als Umnutzung (Wohnbau anstelle Nichtwohnbau)/Kreis 2",
          "Neu erstellten Wohnungen nach Art des Neubaus, Kreis und Quartier 2021/Neubau als Wohnersatz (Wohnbau anstelle Wohnbau)/Kreis 2",
          "Neu erstellten Wohnungen nach Art des Neubaus, Kreis und Quartier 2021/Neubau auf unbebautem Land (kein Ersatzbau)/Kreis 2",
          "Neu erstellten Wohnungen nach Art des Neubaus, Kreis und Quartier 2021/Neubau als Umnutzung (Wohnbau anstelle Nichtwohnbau)/Kreis 3",
          "Neu erstellten Wohnungen nach Art des Neubaus, Kreis und Quartier 2021/Neubau als Wohnersatz (Wohnbau anstelle Wohnbau)/Kreis 3",
          "Neu erstellten Wohnungen nach Art des Neubaus, Kreis und Quartier 2021/Neubau als Umnutzung (Wohnbau anstelle Nichtwohnbau)/Kreis 4",
          "Neu erstellten Wohnungen nach Art des Neubaus, Kreis und Quartier 2021/Neubau als Wohnersatz (Wohnbau anstelle Wohnbau)/Kreis 4",
          "Neu erstellten Wohnungen nach Art des Neubaus, Kreis und Quartier 2021/Neubau auf unbebautem Land (kein Ersatzbau)/Kreis 4",
          "Neu erstellten Wohnungen nach Art des Neubaus, Kreis und Quartier 2021/Neubau als Umnutzung (Wohnbau anstelle Nichtwohnbau)/Kreis 5",
          "Neu erstellten Wohnungen nach Art des Neubaus, Kreis und Quartier 2021/Neubau als Wohnersatz (Wohnbau anstelle Wohnbau)/Kreis 6",
          "Neu erstellten Wohnungen nach Art des Neubaus, Kreis und Quartier 2021/Neubau auf unbebautem Land (kein Ersatzbau)/Kreis 6",
          "Neu erstellten Wohnungen nach Art des Neubaus, Kreis und Quartier 2021/Neubau als Umnutzung (Wohnbau anstelle Nichtwohnbau)/Kreis 7",
          "Neu erstellten Wohnungen nach Art des Neubaus, Kreis und Quartier 2021/Neubau als Wohnersatz (Wohnbau anstelle Wohnbau)/Kreis 7",
          "Neu erstellten Wohnungen nach Art des Neubaus, Kreis und Quartier 2021/Neubau auf unbebautem Land (kein Ersatzbau)/Kreis 7",
          "Neu erstellten Wohnungen nach Art des Neubaus, Kreis und Quartier 2021/Neubau als Umnutzung (Wohnbau anstelle Nichtwohnbau)/Kreis 8",
          "Neu erstellten Wohnungen nach Art des Neubaus, Kreis und Quartier 2021/Neubau als Umnutzung (Wohnbau anstelle Nichtwohnbau)/Kreis 9",
          "Neu erstellten Wohnungen nach Art des Neubaus, Kreis und Quartier 2021/Neubau als Wohnersatz (Wohnbau anstelle Wohnbau)/Kreis 9",
          "Neu erstellten Wohnungen nach Art des Neubaus, Kreis und Quartier 2021/Neubau auf unbebautem Land (kein Ersatzbau)/Kreis 9",
          "Neu erstellten Wohnungen nach Art des Neubaus, Kreis und Quartier 2021/Neubau als Umnutzung (Wohnbau anstelle Nichtwohnbau)",
          "Neu erstellten Wohnungen nach Art des Neubaus, Kreis und Quartier 2021/Neubau als Wohnersatz (Wohnbau anstelle Wohnbau)",
          "Neu erstellten Wohnungen nach Art des Neubaus, Kreis und Quartier 2021/Neubau auf unbebautem Land (kein Ersatzbau)",
          "Neu erstellten Wohnungen nach Art des Neubaus, Kreis und Quartier 2021"
         ],
         "labels": [
          "Werd",
          "Unterstrass",
          "Unterstrass",
          "Sihlfeld",
          "Wollishofen",
          "Witikon",
          "Witikon",
          "Wipkingen",
          "Wollishofen",
          "Wollishofen",
          "Affoltern",
          "Albisrieden",
          "Albisrieden",
          "Albisrieden",
          "Alt-Wiedikon",
          "Altstetten",
          "Altstetten",
          "Fluntern",
          "Enge",
          "Gewerbeschule",
          "Fluntern",
          "Hard",
          "Hard",
          "Hirslanden",
          "Hottingen",
          "Langstrasse",
          "Oberstrass",
          "Leimbach",
          "Höngg",
          "Höngg",
          "Höngg",
          "Oerlikon",
          "Seefeld",
          "Seebach",
          "Oerlikon",
          "Seebach",
          "Schwamendingen-Mitte",
          "Kreis 10",
          "Kreis 10",
          "Kreis 10",
          "Kreis 11",
          "Kreis 11",
          "Kreis 12",
          "Kreis 2",
          "Kreis 2",
          "Kreis 2",
          "Kreis 3",
          "Kreis 3",
          "Kreis 4",
          "Kreis 4",
          "Kreis 4",
          "Kreis 5",
          "Kreis 6",
          "Kreis 6",
          "Kreis 7",
          "Kreis 7",
          "Kreis 7",
          "Kreis 8",
          "Kreis 9",
          "Kreis 9",
          "Kreis 9",
          "Neubau als Umnutzung (Wohnbau anstelle Nichtwohnbau)",
          "Neubau als Wohnersatz (Wohnbau anstelle Wohnbau)",
          "Neubau auf unbebautem Land (kein Ersatzbau)",
          "Neu erstellten Wohnungen nach Art des Neubaus, Kreis und Quartier 2021"
         ],
         "marker": {
          "colors": [
           "#00cc96",
           "#ab63fa",
           "#ab63fa",
           "#FFA15A",
           "#19d3f3",
           "#FF6692",
           "#FF6692",
           "#B6E880",
           "#19d3f3",
           "#19d3f3",
           "#FF97FF",
           "#FECB52",
           "#FECB52",
           "#FECB52",
           "#FFA15A",
           "#FECB52",
           "#FECB52",
           "#FF6692",
           "#19d3f3",
           "#636efa",
           "#FF6692",
           "#00cc96",
           "#00cc96",
           "#FF6692",
           "#FF6692",
           "#00cc96",
           "#ab63fa",
           "#19d3f3",
           "#B6E880",
           "#B6E880",
           "#B6E880",
           "#FF97FF",
           "#EF553B",
           "#FF97FF",
           "#FF97FF",
           "#FF97FF",
           "#00cc96",
           "#B6E880",
           "#B6E880",
           "#B6E880",
           "#FF97FF",
           "#FF97FF",
           "#00cc96",
           "#19d3f3",
           "#19d3f3",
           "#19d3f3",
           "#FFA15A",
           "#FFA15A",
           "#00cc96",
           "#00cc96",
           "#00cc96",
           "#636efa",
           "#ab63fa",
           "#ab63fa",
           "#FF6692",
           "#FF6692",
           "#FF6692",
           "#EF553B",
           "#FECB52",
           "#FECB52",
           "#FECB52",
           "lightgrey",
           "lightgrey",
           "lightgrey",
           "lightgrey"
          ]
         },
         "name": "",
         "parents": [
          "Neu erstellten Wohnungen nach Art des Neubaus, Kreis und Quartier 2021/Neubau als Umnutzung (Wohnbau anstelle Nichtwohnbau)/Kreis 4",
          "Neu erstellten Wohnungen nach Art des Neubaus, Kreis und Quartier 2021/Neubau auf unbebautem Land (kein Ersatzbau)/Kreis 6",
          "Neu erstellten Wohnungen nach Art des Neubaus, Kreis und Quartier 2021/Neubau als Wohnersatz (Wohnbau anstelle Wohnbau)/Kreis 6",
          "Neu erstellten Wohnungen nach Art des Neubaus, Kreis und Quartier 2021/Neubau als Wohnersatz (Wohnbau anstelle Wohnbau)/Kreis 3",
          "Neu erstellten Wohnungen nach Art des Neubaus, Kreis und Quartier 2021/Neubau als Umnutzung (Wohnbau anstelle Nichtwohnbau)/Kreis 2",
          "Neu erstellten Wohnungen nach Art des Neubaus, Kreis und Quartier 2021/Neubau als Wohnersatz (Wohnbau anstelle Wohnbau)/Kreis 7",
          "Neu erstellten Wohnungen nach Art des Neubaus, Kreis und Quartier 2021/Neubau als Umnutzung (Wohnbau anstelle Nichtwohnbau)/Kreis 7",
          "Neu erstellten Wohnungen nach Art des Neubaus, Kreis und Quartier 2021/Neubau als Wohnersatz (Wohnbau anstelle Wohnbau)/Kreis 10",
          "Neu erstellten Wohnungen nach Art des Neubaus, Kreis und Quartier 2021/Neubau als Wohnersatz (Wohnbau anstelle Wohnbau)/Kreis 2",
          "Neu erstellten Wohnungen nach Art des Neubaus, Kreis und Quartier 2021/Neubau auf unbebautem Land (kein Ersatzbau)/Kreis 2",
          "Neu erstellten Wohnungen nach Art des Neubaus, Kreis und Quartier 2021/Neubau als Wohnersatz (Wohnbau anstelle Wohnbau)/Kreis 11",
          "Neu erstellten Wohnungen nach Art des Neubaus, Kreis und Quartier 2021/Neubau als Umnutzung (Wohnbau anstelle Nichtwohnbau)/Kreis 9",
          "Neu erstellten Wohnungen nach Art des Neubaus, Kreis und Quartier 2021/Neubau als Wohnersatz (Wohnbau anstelle Wohnbau)/Kreis 9",
          "Neu erstellten Wohnungen nach Art des Neubaus, Kreis und Quartier 2021/Neubau auf unbebautem Land (kein Ersatzbau)/Kreis 9",
          "Neu erstellten Wohnungen nach Art des Neubaus, Kreis und Quartier 2021/Neubau als Umnutzung (Wohnbau anstelle Nichtwohnbau)/Kreis 3",
          "Neu erstellten Wohnungen nach Art des Neubaus, Kreis und Quartier 2021/Neubau als Umnutzung (Wohnbau anstelle Nichtwohnbau)/Kreis 9",
          "Neu erstellten Wohnungen nach Art des Neubaus, Kreis und Quartier 2021/Neubau als Wohnersatz (Wohnbau anstelle Wohnbau)/Kreis 9",
          "Neu erstellten Wohnungen nach Art des Neubaus, Kreis und Quartier 2021/Neubau auf unbebautem Land (kein Ersatzbau)/Kreis 7",
          "Neu erstellten Wohnungen nach Art des Neubaus, Kreis und Quartier 2021/Neubau auf unbebautem Land (kein Ersatzbau)/Kreis 2",
          "Neu erstellten Wohnungen nach Art des Neubaus, Kreis und Quartier 2021/Neubau als Umnutzung (Wohnbau anstelle Nichtwohnbau)/Kreis 5",
          "Neu erstellten Wohnungen nach Art des Neubaus, Kreis und Quartier 2021/Neubau als Wohnersatz (Wohnbau anstelle Wohnbau)/Kreis 7",
          "Neu erstellten Wohnungen nach Art des Neubaus, Kreis und Quartier 2021/Neubau als Wohnersatz (Wohnbau anstelle Wohnbau)/Kreis 4",
          "Neu erstellten Wohnungen nach Art des Neubaus, Kreis und Quartier 2021/Neubau auf unbebautem Land (kein Ersatzbau)/Kreis 4",
          "Neu erstellten Wohnungen nach Art des Neubaus, Kreis und Quartier 2021/Neubau als Wohnersatz (Wohnbau anstelle Wohnbau)/Kreis 7",
          "Neu erstellten Wohnungen nach Art des Neubaus, Kreis und Quartier 2021/Neubau als Wohnersatz (Wohnbau anstelle Wohnbau)/Kreis 7",
          "Neu erstellten Wohnungen nach Art des Neubaus, Kreis und Quartier 2021/Neubau auf unbebautem Land (kein Ersatzbau)/Kreis 4",
          "Neu erstellten Wohnungen nach Art des Neubaus, Kreis und Quartier 2021/Neubau als Wohnersatz (Wohnbau anstelle Wohnbau)/Kreis 6",
          "Neu erstellten Wohnungen nach Art des Neubaus, Kreis und Quartier 2021/Neubau als Wohnersatz (Wohnbau anstelle Wohnbau)/Kreis 2",
          "Neu erstellten Wohnungen nach Art des Neubaus, Kreis und Quartier 2021/Neubau auf unbebautem Land (kein Ersatzbau)/Kreis 10",
          "Neu erstellten Wohnungen nach Art des Neubaus, Kreis und Quartier 2021/Neubau als Wohnersatz (Wohnbau anstelle Wohnbau)/Kreis 10",
          "Neu erstellten Wohnungen nach Art des Neubaus, Kreis und Quartier 2021/Neubau als Umnutzung (Wohnbau anstelle Nichtwohnbau)/Kreis 10",
          "Neu erstellten Wohnungen nach Art des Neubaus, Kreis und Quartier 2021/Neubau als Umnutzung (Wohnbau anstelle Nichtwohnbau)/Kreis 11",
          "Neu erstellten Wohnungen nach Art des Neubaus, Kreis und Quartier 2021/Neubau als Umnutzung (Wohnbau anstelle Nichtwohnbau)/Kreis 8",
          "Neu erstellten Wohnungen nach Art des Neubaus, Kreis und Quartier 2021/Neubau als Umnutzung (Wohnbau anstelle Nichtwohnbau)/Kreis 11",
          "Neu erstellten Wohnungen nach Art des Neubaus, Kreis und Quartier 2021/Neubau als Wohnersatz (Wohnbau anstelle Wohnbau)/Kreis 11",
          "Neu erstellten Wohnungen nach Art des Neubaus, Kreis und Quartier 2021/Neubau als Wohnersatz (Wohnbau anstelle Wohnbau)/Kreis 11",
          "Neu erstellten Wohnungen nach Art des Neubaus, Kreis und Quartier 2021/Neubau als Wohnersatz (Wohnbau anstelle Wohnbau)/Kreis 12",
          "Neu erstellten Wohnungen nach Art des Neubaus, Kreis und Quartier 2021/Neubau als Umnutzung (Wohnbau anstelle Nichtwohnbau)",
          "Neu erstellten Wohnungen nach Art des Neubaus, Kreis und Quartier 2021/Neubau als Wohnersatz (Wohnbau anstelle Wohnbau)",
          "Neu erstellten Wohnungen nach Art des Neubaus, Kreis und Quartier 2021/Neubau auf unbebautem Land (kein Ersatzbau)",
          "Neu erstellten Wohnungen nach Art des Neubaus, Kreis und Quartier 2021/Neubau als Umnutzung (Wohnbau anstelle Nichtwohnbau)",
          "Neu erstellten Wohnungen nach Art des Neubaus, Kreis und Quartier 2021/Neubau als Wohnersatz (Wohnbau anstelle Wohnbau)",
          "Neu erstellten Wohnungen nach Art des Neubaus, Kreis und Quartier 2021/Neubau als Wohnersatz (Wohnbau anstelle Wohnbau)",
          "Neu erstellten Wohnungen nach Art des Neubaus, Kreis und Quartier 2021/Neubau als Umnutzung (Wohnbau anstelle Nichtwohnbau)",
          "Neu erstellten Wohnungen nach Art des Neubaus, Kreis und Quartier 2021/Neubau als Wohnersatz (Wohnbau anstelle Wohnbau)",
          "Neu erstellten Wohnungen nach Art des Neubaus, Kreis und Quartier 2021/Neubau auf unbebautem Land (kein Ersatzbau)",
          "Neu erstellten Wohnungen nach Art des Neubaus, Kreis und Quartier 2021/Neubau als Umnutzung (Wohnbau anstelle Nichtwohnbau)",
          "Neu erstellten Wohnungen nach Art des Neubaus, Kreis und Quartier 2021/Neubau als Wohnersatz (Wohnbau anstelle Wohnbau)",
          "Neu erstellten Wohnungen nach Art des Neubaus, Kreis und Quartier 2021/Neubau als Umnutzung (Wohnbau anstelle Nichtwohnbau)",
          "Neu erstellten Wohnungen nach Art des Neubaus, Kreis und Quartier 2021/Neubau als Wohnersatz (Wohnbau anstelle Wohnbau)",
          "Neu erstellten Wohnungen nach Art des Neubaus, Kreis und Quartier 2021/Neubau auf unbebautem Land (kein Ersatzbau)",
          "Neu erstellten Wohnungen nach Art des Neubaus, Kreis und Quartier 2021/Neubau als Umnutzung (Wohnbau anstelle Nichtwohnbau)",
          "Neu erstellten Wohnungen nach Art des Neubaus, Kreis und Quartier 2021/Neubau als Wohnersatz (Wohnbau anstelle Wohnbau)",
          "Neu erstellten Wohnungen nach Art des Neubaus, Kreis und Quartier 2021/Neubau auf unbebautem Land (kein Ersatzbau)",
          "Neu erstellten Wohnungen nach Art des Neubaus, Kreis und Quartier 2021/Neubau als Umnutzung (Wohnbau anstelle Nichtwohnbau)",
          "Neu erstellten Wohnungen nach Art des Neubaus, Kreis und Quartier 2021/Neubau als Wohnersatz (Wohnbau anstelle Wohnbau)",
          "Neu erstellten Wohnungen nach Art des Neubaus, Kreis und Quartier 2021/Neubau auf unbebautem Land (kein Ersatzbau)",
          "Neu erstellten Wohnungen nach Art des Neubaus, Kreis und Quartier 2021/Neubau als Umnutzung (Wohnbau anstelle Nichtwohnbau)",
          "Neu erstellten Wohnungen nach Art des Neubaus, Kreis und Quartier 2021/Neubau als Umnutzung (Wohnbau anstelle Nichtwohnbau)",
          "Neu erstellten Wohnungen nach Art des Neubaus, Kreis und Quartier 2021/Neubau als Wohnersatz (Wohnbau anstelle Wohnbau)",
          "Neu erstellten Wohnungen nach Art des Neubaus, Kreis und Quartier 2021/Neubau auf unbebautem Land (kein Ersatzbau)",
          "Neu erstellten Wohnungen nach Art des Neubaus, Kreis und Quartier 2021",
          "Neu erstellten Wohnungen nach Art des Neubaus, Kreis und Quartier 2021",
          "Neu erstellten Wohnungen nach Art des Neubaus, Kreis und Quartier 2021",
          ""
         ],
         "root": {
          "color": "grey"
         },
         "type": "treemap",
         "values": [
          80,
          10,
          169,
          17,
          28,
          18,
          7,
          23,
          182,
          4,
          58,
          14,
          66,
          9,
          5,
          94,
          290,
          14,
          18,
          55,
          18,
          30,
          46,
          2,
          10,
          15,
          37,
          140,
          2,
          51,
          10,
          16,
          121,
          201,
          42,
          13,
          14,
          10,
          74,
          2,
          217,
          113,
          14,
          28,
          322,
          22,
          5,
          17,
          80,
          30,
          61,
          55,
          206,
          10,
          7,
          48,
          14,
          121,
          108,
          356,
          9,
          631,
          1180,
          118,
          1929
         ]
        }
       ],
       "layout": {
        "height": 500,
        "legend": {
         "tracegroupgap": 0
        },
        "margin": {
         "b": 25,
         "l": 25,
         "r": 250,
         "t": 50
        },
        "template": {
         "data": {
          "bar": [
           {
            "error_x": {
             "color": "#2a3f5f"
            },
            "error_y": {
             "color": "#2a3f5f"
            },
            "marker": {
             "line": {
              "color": "#E5ECF6",
              "width": 0.5
             },
             "pattern": {
              "fillmode": "overlay",
              "size": 10,
              "solidity": 0.2
             }
            },
            "type": "bar"
           }
          ],
          "barpolar": [
           {
            "marker": {
             "line": {
              "color": "#E5ECF6",
              "width": 0.5
             },
             "pattern": {
              "fillmode": "overlay",
              "size": 10,
              "solidity": 0.2
             }
            },
            "type": "barpolar"
           }
          ],
          "carpet": [
           {
            "aaxis": {
             "endlinecolor": "#2a3f5f",
             "gridcolor": "white",
             "linecolor": "white",
             "minorgridcolor": "white",
             "startlinecolor": "#2a3f5f"
            },
            "baxis": {
             "endlinecolor": "#2a3f5f",
             "gridcolor": "white",
             "linecolor": "white",
             "minorgridcolor": "white",
             "startlinecolor": "#2a3f5f"
            },
            "type": "carpet"
           }
          ],
          "choropleth": [
           {
            "colorbar": {
             "outlinewidth": 0,
             "ticks": ""
            },
            "type": "choropleth"
           }
          ],
          "contour": [
           {
            "colorbar": {
             "outlinewidth": 0,
             "ticks": ""
            },
            "colorscale": [
             [
              0,
              "#0d0887"
             ],
             [
              0.1111111111111111,
              "#46039f"
             ],
             [
              0.2222222222222222,
              "#7201a8"
             ],
             [
              0.3333333333333333,
              "#9c179e"
             ],
             [
              0.4444444444444444,
              "#bd3786"
             ],
             [
              0.5555555555555556,
              "#d8576b"
             ],
             [
              0.6666666666666666,
              "#ed7953"
             ],
             [
              0.7777777777777778,
              "#fb9f3a"
             ],
             [
              0.8888888888888888,
              "#fdca26"
             ],
             [
              1,
              "#f0f921"
             ]
            ],
            "type": "contour"
           }
          ],
          "contourcarpet": [
           {
            "colorbar": {
             "outlinewidth": 0,
             "ticks": ""
            },
            "type": "contourcarpet"
           }
          ],
          "heatmap": [
           {
            "colorbar": {
             "outlinewidth": 0,
             "ticks": ""
            },
            "colorscale": [
             [
              0,
              "#0d0887"
             ],
             [
              0.1111111111111111,
              "#46039f"
             ],
             [
              0.2222222222222222,
              "#7201a8"
             ],
             [
              0.3333333333333333,
              "#9c179e"
             ],
             [
              0.4444444444444444,
              "#bd3786"
             ],
             [
              0.5555555555555556,
              "#d8576b"
             ],
             [
              0.6666666666666666,
              "#ed7953"
             ],
             [
              0.7777777777777778,
              "#fb9f3a"
             ],
             [
              0.8888888888888888,
              "#fdca26"
             ],
             [
              1,
              "#f0f921"
             ]
            ],
            "type": "heatmap"
           }
          ],
          "heatmapgl": [
           {
            "colorbar": {
             "outlinewidth": 0,
             "ticks": ""
            },
            "colorscale": [
             [
              0,
              "#0d0887"
             ],
             [
              0.1111111111111111,
              "#46039f"
             ],
             [
              0.2222222222222222,
              "#7201a8"
             ],
             [
              0.3333333333333333,
              "#9c179e"
             ],
             [
              0.4444444444444444,
              "#bd3786"
             ],
             [
              0.5555555555555556,
              "#d8576b"
             ],
             [
              0.6666666666666666,
              "#ed7953"
             ],
             [
              0.7777777777777778,
              "#fb9f3a"
             ],
             [
              0.8888888888888888,
              "#fdca26"
             ],
             [
              1,
              "#f0f921"
             ]
            ],
            "type": "heatmapgl"
           }
          ],
          "histogram": [
           {
            "marker": {
             "pattern": {
              "fillmode": "overlay",
              "size": 10,
              "solidity": 0.2
             }
            },
            "type": "histogram"
           }
          ],
          "histogram2d": [
           {
            "colorbar": {
             "outlinewidth": 0,
             "ticks": ""
            },
            "colorscale": [
             [
              0,
              "#0d0887"
             ],
             [
              0.1111111111111111,
              "#46039f"
             ],
             [
              0.2222222222222222,
              "#7201a8"
             ],
             [
              0.3333333333333333,
              "#9c179e"
             ],
             [
              0.4444444444444444,
              "#bd3786"
             ],
             [
              0.5555555555555556,
              "#d8576b"
             ],
             [
              0.6666666666666666,
              "#ed7953"
             ],
             [
              0.7777777777777778,
              "#fb9f3a"
             ],
             [
              0.8888888888888888,
              "#fdca26"
             ],
             [
              1,
              "#f0f921"
             ]
            ],
            "type": "histogram2d"
           }
          ],
          "histogram2dcontour": [
           {
            "colorbar": {
             "outlinewidth": 0,
             "ticks": ""
            },
            "colorscale": [
             [
              0,
              "#0d0887"
             ],
             [
              0.1111111111111111,
              "#46039f"
             ],
             [
              0.2222222222222222,
              "#7201a8"
             ],
             [
              0.3333333333333333,
              "#9c179e"
             ],
             [
              0.4444444444444444,
              "#bd3786"
             ],
             [
              0.5555555555555556,
              "#d8576b"
             ],
             [
              0.6666666666666666,
              "#ed7953"
             ],
             [
              0.7777777777777778,
              "#fb9f3a"
             ],
             [
              0.8888888888888888,
              "#fdca26"
             ],
             [
              1,
              "#f0f921"
             ]
            ],
            "type": "histogram2dcontour"
           }
          ],
          "mesh3d": [
           {
            "colorbar": {
             "outlinewidth": 0,
             "ticks": ""
            },
            "type": "mesh3d"
           }
          ],
          "parcoords": [
           {
            "line": {
             "colorbar": {
              "outlinewidth": 0,
              "ticks": ""
             }
            },
            "type": "parcoords"
           }
          ],
          "pie": [
           {
            "automargin": true,
            "type": "pie"
           }
          ],
          "scatter": [
           {
            "marker": {
             "colorbar": {
              "outlinewidth": 0,
              "ticks": ""
             }
            },
            "type": "scatter"
           }
          ],
          "scatter3d": [
           {
            "line": {
             "colorbar": {
              "outlinewidth": 0,
              "ticks": ""
             }
            },
            "marker": {
             "colorbar": {
              "outlinewidth": 0,
              "ticks": ""
             }
            },
            "type": "scatter3d"
           }
          ],
          "scattercarpet": [
           {
            "marker": {
             "colorbar": {
              "outlinewidth": 0,
              "ticks": ""
             }
            },
            "type": "scattercarpet"
           }
          ],
          "scattergeo": [
           {
            "marker": {
             "colorbar": {
              "outlinewidth": 0,
              "ticks": ""
             }
            },
            "type": "scattergeo"
           }
          ],
          "scattergl": [
           {
            "marker": {
             "colorbar": {
              "outlinewidth": 0,
              "ticks": ""
             }
            },
            "type": "scattergl"
           }
          ],
          "scattermapbox": [
           {
            "marker": {
             "colorbar": {
              "outlinewidth": 0,
              "ticks": ""
             }
            },
            "type": "scattermapbox"
           }
          ],
          "scatterpolar": [
           {
            "marker": {
             "colorbar": {
              "outlinewidth": 0,
              "ticks": ""
             }
            },
            "type": "scatterpolar"
           }
          ],
          "scatterpolargl": [
           {
            "marker": {
             "colorbar": {
              "outlinewidth": 0,
              "ticks": ""
             }
            },
            "type": "scatterpolargl"
           }
          ],
          "scatterternary": [
           {
            "marker": {
             "colorbar": {
              "outlinewidth": 0,
              "ticks": ""
             }
            },
            "type": "scatterternary"
           }
          ],
          "surface": [
           {
            "colorbar": {
             "outlinewidth": 0,
             "ticks": ""
            },
            "colorscale": [
             [
              0,
              "#0d0887"
             ],
             [
              0.1111111111111111,
              "#46039f"
             ],
             [
              0.2222222222222222,
              "#7201a8"
             ],
             [
              0.3333333333333333,
              "#9c179e"
             ],
             [
              0.4444444444444444,
              "#bd3786"
             ],
             [
              0.5555555555555556,
              "#d8576b"
             ],
             [
              0.6666666666666666,
              "#ed7953"
             ],
             [
              0.7777777777777778,
              "#fb9f3a"
             ],
             [
              0.8888888888888888,
              "#fdca26"
             ],
             [
              1,
              "#f0f921"
             ]
            ],
            "type": "surface"
           }
          ],
          "table": [
           {
            "cells": {
             "fill": {
              "color": "#EBF0F8"
             },
             "line": {
              "color": "white"
             }
            },
            "header": {
             "fill": {
              "color": "#C8D4E3"
             },
             "line": {
              "color": "white"
             }
            },
            "type": "table"
           }
          ]
         },
         "layout": {
          "annotationdefaults": {
           "arrowcolor": "#2a3f5f",
           "arrowhead": 0,
           "arrowwidth": 1
          },
          "autotypenumbers": "strict",
          "coloraxis": {
           "colorbar": {
            "outlinewidth": 0,
            "ticks": ""
           }
          },
          "colorscale": {
           "diverging": [
            [
             0,
             "#8e0152"
            ],
            [
             0.1,
             "#c51b7d"
            ],
            [
             0.2,
             "#de77ae"
            ],
            [
             0.3,
             "#f1b6da"
            ],
            [
             0.4,
             "#fde0ef"
            ],
            [
             0.5,
             "#f7f7f7"
            ],
            [
             0.6,
             "#e6f5d0"
            ],
            [
             0.7,
             "#b8e186"
            ],
            [
             0.8,
             "#7fbc41"
            ],
            [
             0.9,
             "#4d9221"
            ],
            [
             1,
             "#276419"
            ]
           ],
           "sequential": [
            [
             0,
             "#0d0887"
            ],
            [
             0.1111111111111111,
             "#46039f"
            ],
            [
             0.2222222222222222,
             "#7201a8"
            ],
            [
             0.3333333333333333,
             "#9c179e"
            ],
            [
             0.4444444444444444,
             "#bd3786"
            ],
            [
             0.5555555555555556,
             "#d8576b"
            ],
            [
             0.6666666666666666,
             "#ed7953"
            ],
            [
             0.7777777777777778,
             "#fb9f3a"
            ],
            [
             0.8888888888888888,
             "#fdca26"
            ],
            [
             1,
             "#f0f921"
            ]
           ],
           "sequentialminus": [
            [
             0,
             "#0d0887"
            ],
            [
             0.1111111111111111,
             "#46039f"
            ],
            [
             0.2222222222222222,
             "#7201a8"
            ],
            [
             0.3333333333333333,
             "#9c179e"
            ],
            [
             0.4444444444444444,
             "#bd3786"
            ],
            [
             0.5555555555555556,
             "#d8576b"
            ],
            [
             0.6666666666666666,
             "#ed7953"
            ],
            [
             0.7777777777777778,
             "#fb9f3a"
            ],
            [
             0.8888888888888888,
             "#fdca26"
            ],
            [
             1,
             "#f0f921"
            ]
           ]
          },
          "colorway": [
           "#636efa",
           "#EF553B",
           "#00cc96",
           "#ab63fa",
           "#FFA15A",
           "#19d3f3",
           "#FF6692",
           "#B6E880",
           "#FF97FF",
           "#FECB52"
          ],
          "font": {
           "color": "#2a3f5f"
          },
          "geo": {
           "bgcolor": "white",
           "lakecolor": "white",
           "landcolor": "#E5ECF6",
           "showlakes": true,
           "showland": true,
           "subunitcolor": "white"
          },
          "hoverlabel": {
           "align": "left"
          },
          "hovermode": "closest",
          "mapbox": {
           "style": "light"
          },
          "paper_bgcolor": "white",
          "plot_bgcolor": "#E5ECF6",
          "polar": {
           "angularaxis": {
            "gridcolor": "white",
            "linecolor": "white",
            "ticks": ""
           },
           "bgcolor": "#E5ECF6",
           "radialaxis": {
            "gridcolor": "white",
            "linecolor": "white",
            "ticks": ""
           }
          },
          "scene": {
           "xaxis": {
            "backgroundcolor": "#E5ECF6",
            "gridcolor": "white",
            "gridwidth": 2,
            "linecolor": "white",
            "showbackground": true,
            "ticks": "",
            "zerolinecolor": "white"
           },
           "yaxis": {
            "backgroundcolor": "#E5ECF6",
            "gridcolor": "white",
            "gridwidth": 2,
            "linecolor": "white",
            "showbackground": true,
            "ticks": "",
            "zerolinecolor": "white"
           },
           "zaxis": {
            "backgroundcolor": "#E5ECF6",
            "gridcolor": "white",
            "gridwidth": 2,
            "linecolor": "white",
            "showbackground": true,
            "ticks": "",
            "zerolinecolor": "white"
           }
          },
          "shapedefaults": {
           "line": {
            "color": "#2a3f5f"
           }
          },
          "ternary": {
           "aaxis": {
            "gridcolor": "white",
            "linecolor": "white",
            "ticks": ""
           },
           "baxis": {
            "gridcolor": "white",
            "linecolor": "white",
            "ticks": ""
           },
           "bgcolor": "#E5ECF6",
           "caxis": {
            "gridcolor": "white",
            "linecolor": "white",
            "ticks": ""
           }
          },
          "title": {
           "x": 0.05
          },
          "xaxis": {
           "automargin": true,
           "gridcolor": "white",
           "linecolor": "white",
           "ticks": "",
           "title": {
            "standoff": 15
           },
           "zerolinecolor": "white",
           "zerolinewidth": 2
          },
          "yaxis": {
           "automargin": true,
           "gridcolor": "white",
           "linecolor": "white",
           "ticks": "",
           "title": {
            "standoff": 15
           },
           "zerolinecolor": "white",
           "zerolinewidth": 2
          }
         }
        },
        "width": 1100
       }
      },
      "image/png": "[encoded data removed]",
      "text/html": [
       "<div>                            <div id=\"5af03e2b-55b1-464e-930c-e08b13f34002\" class=\"plotly-graph-div\" style=\"height:500px; width:1100px;\"></div>            <script type=\"text/javascript\">                require([\"plotly\"], function(Plotly) {                    window.PLOTLYENV=window.PLOTLYENV || {};                                    if (document.getElementById(\"5af03e2b-55b1-464e-930c-e08b13f34002\")) {                    Plotly.newPlot(                        \"5af03e2b-55b1-464e-930c-e08b13f34002\",                        [{\"branchvalues\":\"total\",\"customdata\":[[\"Kreis 4\"],[\"Kreis 6\"],[\"Kreis 6\"],[\"Kreis 3\"],[\"Kreis 2\"],[\"Kreis 7\"],[\"Kreis 7\"],[\"Kreis 10\"],[\"Kreis 2\"],[\"Kreis 2\"],[\"Kreis 11\"],[\"Kreis 9\"],[\"Kreis 9\"],[\"Kreis 9\"],[\"Kreis 3\"],[\"Kreis 9\"],[\"Kreis 9\"],[\"Kreis 7\"],[\"Kreis 2\"],[\"Kreis 5\"],[\"Kreis 7\"],[\"Kreis 4\"],[\"Kreis 4\"],[\"Kreis 7\"],[\"Kreis 7\"],[\"Kreis 4\"],[\"Kreis 6\"],[\"Kreis 2\"],[\"Kreis 10\"],[\"Kreis 10\"],[\"Kreis 10\"],[\"Kreis 11\"],[\"Kreis 8\"],[\"Kreis 11\"],[\"Kreis 11\"],[\"Kreis 11\"],[\"Kreis 12\"],[\"Kreis 10\"],[\"Kreis 10\"],[\"Kreis 10\"],[\"Kreis 11\"],[\"Kreis 11\"],[\"Kreis 12\"],[\"Kreis 2\"],[\"Kreis 2\"],[\"Kreis 2\"],[\"Kreis 3\"],[\"Kreis 3\"],[\"Kreis 4\"],[\"Kreis 4\"],[\"Kreis 4\"],[\"Kreis 5\"],[\"Kreis 6\"],[\"Kreis 6\"],[\"Kreis 7\"],[\"Kreis 7\"],[\"Kreis 7\"],[\"Kreis 8\"],[\"Kreis 9\"],[\"Kreis 9\"],[\"Kreis 9\"],[\"(?)\"],[\"(?)\"],[\"(?)\"],[\"(?)\"]],\"domain\":{\"x\":[0.0,1.0],\"y\":[0.0,1.0]},\"hovertemplate\":\"labels=%{label}<br>sum_AnzWhg=%{value}<br>parent=%{parent}<br>id=%{id}<br>KreisLang=%{customdata[0]}<extra></extra>\",\"ids\":[\"Neu erstellten Wohnungen nach Art des Neubaus, Kreis und Quartier 2021/Neubau als Umnutzung (Wohnbau anstelle Nichtwohnbau)/Kreis 4/Werd\",\"Neu erstellten Wohnungen nach Art des Neubaus, Kreis und Quartier 2021/Neubau auf unbebautem Land (kein Ersatzbau)/Kreis 6/Unterstrass\",\"Neu erstellten Wohnungen nach Art des Neubaus, Kreis und Quartier 2021/Neubau als Wohnersatz (Wohnbau anstelle Wohnbau)/Kreis 6/Unterstrass\",\"Neu erstellten Wohnungen nach Art des Neubaus, Kreis und Quartier 2021/Neubau als Wohnersatz (Wohnbau anstelle Wohnbau)/Kreis 3/Sihlfeld\",\"Neu erstellten Wohnungen nach Art des Neubaus, Kreis und Quartier 2021/Neubau als Umnutzung (Wohnbau anstelle Nichtwohnbau)/Kreis 2/Wollishofen\",\"Neu erstellten Wohnungen nach Art des Neubaus, Kreis und Quartier 2021/Neubau als Wohnersatz (Wohnbau anstelle Wohnbau)/Kreis 7/Witikon\",\"Neu erstellten Wohnungen nach Art des Neubaus, Kreis und Quartier 2021/Neubau als Umnutzung (Wohnbau anstelle Nichtwohnbau)/Kreis 7/Witikon\",\"Neu erstellten Wohnungen nach Art des Neubaus, Kreis und Quartier 2021/Neubau als Wohnersatz (Wohnbau anstelle Wohnbau)/Kreis 10/Wipkingen\",\"Neu erstellten Wohnungen nach Art des Neubaus, Kreis und Quartier 2021/Neubau als Wohnersatz (Wohnbau anstelle Wohnbau)/Kreis 2/Wollishofen\",\"Neu erstellten Wohnungen nach Art des Neubaus, Kreis und Quartier 2021/Neubau auf unbebautem Land (kein Ersatzbau)/Kreis 2/Wollishofen\",\"Neu erstellten Wohnungen nach Art des Neubaus, Kreis und Quartier 2021/Neubau als Wohnersatz (Wohnbau anstelle Wohnbau)/Kreis 11/Affoltern\",\"Neu erstellten Wohnungen nach Art des Neubaus, Kreis und Quartier 2021/Neubau als Umnutzung (Wohnbau anstelle Nichtwohnbau)/Kreis 9/Albisrieden\",\"Neu erstellten Wohnungen nach Art des Neubaus, Kreis und Quartier 2021/Neubau als Wohnersatz (Wohnbau anstelle Wohnbau)/Kreis 9/Albisrieden\",\"Neu erstellten Wohnungen nach Art des Neubaus, Kreis und Quartier 2021/Neubau auf unbebautem Land (kein Ersatzbau)/Kreis 9/Albisrieden\",\"Neu erstellten Wohnungen nach Art des Neubaus, Kreis und Quartier 2021/Neubau als Umnutzung (Wohnbau anstelle Nichtwohnbau)/Kreis 3/Alt-Wiedikon\",\"Neu erstellten Wohnungen nach Art des Neubaus, Kreis und Quartier 2021/Neubau als Umnutzung (Wohnbau anstelle Nichtwohnbau)/Kreis 9/Altstetten\",\"Neu erstellten Wohnungen nach Art des Neubaus, Kreis und Quartier 2021/Neubau als Wohnersatz (Wohnbau anstelle Wohnbau)/Kreis 9/Altstetten\",\"Neu erstellten Wohnungen nach Art des Neubaus, Kreis und Quartier 2021/Neubau auf unbebautem Land (kein Ersatzbau)/Kreis 7/Fluntern\",\"Neu erstellten Wohnungen nach Art des Neubaus, Kreis und Quartier 2021/Neubau auf unbebautem Land (kein Ersatzbau)/Kreis 2/Enge\",\"Neu erstellten Wohnungen nach Art des Neubaus, Kreis und Quartier 2021/Neubau als Umnutzung (Wohnbau anstelle Nichtwohnbau)/Kreis 5/Gewerbeschule\",\"Neu erstellten Wohnungen nach Art des Neubaus, Kreis und Quartier 2021/Neubau als Wohnersatz (Wohnbau anstelle Wohnbau)/Kreis 7/Fluntern\",\"Neu erstellten Wohnungen nach Art des Neubaus, Kreis und Quartier 2021/Neubau als Wohnersatz (Wohnbau anstelle Wohnbau)/Kreis 4/Hard\",\"Neu erstellten Wohnungen nach Art des Neubaus, Kreis und Quartier 2021/Neubau auf unbebautem Land (kein Ersatzbau)/Kreis 4/Hard\",\"Neu erstellten Wohnungen nach Art des Neubaus, Kreis und Quartier 2021/Neubau als Wohnersatz (Wohnbau anstelle Wohnbau)/Kreis 7/Hirslanden\",\"Neu erstellten Wohnungen nach Art des Neubaus, Kreis und Quartier 2021/Neubau als Wohnersatz (Wohnbau anstelle Wohnbau)/Kreis 7/Hottingen\",\"Neu erstellten Wohnungen nach Art des Neubaus, Kreis und Quartier 2021/Neubau auf unbebautem Land (kein Ersatzbau)/Kreis 4/Langstrasse\",\"Neu erstellten Wohnungen nach Art des Neubaus, Kreis und Quartier 2021/Neubau als Wohnersatz (Wohnbau anstelle Wohnbau)/Kreis 6/Oberstrass\",\"Neu erstellten Wohnungen nach Art des Neubaus, Kreis und Quartier 2021/Neubau als Wohnersatz (Wohnbau anstelle Wohnbau)/Kreis 2/Leimbach\",\"Neu erstellten Wohnungen nach Art des Neubaus, Kreis und Quartier 2021/Neubau auf unbebautem Land (kein Ersatzbau)/Kreis 10/H\\u00f6ngg\",\"Neu erstellten Wohnungen nach Art des Neubaus, Kreis und Quartier 2021/Neubau als Wohnersatz (Wohnbau anstelle Wohnbau)/Kreis 10/H\\u00f6ngg\",\"Neu erstellten Wohnungen nach Art des Neubaus, Kreis und Quartier 2021/Neubau als Umnutzung (Wohnbau anstelle Nichtwohnbau)/Kreis 10/H\\u00f6ngg\",\"Neu erstellten Wohnungen nach Art des Neubaus, Kreis und Quartier 2021/Neubau als Umnutzung (Wohnbau anstelle Nichtwohnbau)/Kreis 11/Oerlikon\",\"Neu erstellten Wohnungen nach Art des Neubaus, Kreis und Quartier 2021/Neubau als Umnutzung (Wohnbau anstelle Nichtwohnbau)/Kreis 8/Seefeld\",\"Neu erstellten Wohnungen nach Art des Neubaus, Kreis und Quartier 2021/Neubau als Umnutzung (Wohnbau anstelle Nichtwohnbau)/Kreis 11/Seebach\",\"Neu erstellten Wohnungen nach Art des Neubaus, Kreis und Quartier 2021/Neubau als Wohnersatz (Wohnbau anstelle Wohnbau)/Kreis 11/Oerlikon\",\"Neu erstellten Wohnungen nach Art des Neubaus, Kreis und Quartier 2021/Neubau als Wohnersatz (Wohnbau anstelle Wohnbau)/Kreis 11/Seebach\",\"Neu erstellten Wohnungen nach Art des Neubaus, Kreis und Quartier 2021/Neubau als Wohnersatz (Wohnbau anstelle Wohnbau)/Kreis 12/Schwamendingen-Mitte\",\"Neu erstellten Wohnungen nach Art des Neubaus, Kreis und Quartier 2021/Neubau als Umnutzung (Wohnbau anstelle Nichtwohnbau)/Kreis 10\",\"Neu erstellten Wohnungen nach Art des Neubaus, Kreis und Quartier 2021/Neubau als Wohnersatz (Wohnbau anstelle Wohnbau)/Kreis 10\",\"Neu erstellten Wohnungen nach Art des Neubaus, Kreis und Quartier 2021/Neubau auf unbebautem Land (kein Ersatzbau)/Kreis 10\",\"Neu erstellten Wohnungen nach Art des Neubaus, Kreis und Quartier 2021/Neubau als Umnutzung (Wohnbau anstelle Nichtwohnbau)/Kreis 11\",\"Neu erstellten Wohnungen nach Art des Neubaus, Kreis und Quartier 2021/Neubau als Wohnersatz (Wohnbau anstelle Wohnbau)/Kreis 11\",\"Neu erstellten Wohnungen nach Art des Neubaus, Kreis und Quartier 2021/Neubau als Wohnersatz (Wohnbau anstelle Wohnbau)/Kreis 12\",\"Neu erstellten Wohnungen nach Art des Neubaus, Kreis und Quartier 2021/Neubau als Umnutzung (Wohnbau anstelle Nichtwohnbau)/Kreis 2\",\"Neu erstellten Wohnungen nach Art des Neubaus, Kreis und Quartier 2021/Neubau als Wohnersatz (Wohnbau anstelle Wohnbau)/Kreis 2\",\"Neu erstellten Wohnungen nach Art des Neubaus, Kreis und Quartier 2021/Neubau auf unbebautem Land (kein Ersatzbau)/Kreis 2\",\"Neu erstellten Wohnungen nach Art des Neubaus, Kreis und Quartier 2021/Neubau als Umnutzung (Wohnbau anstelle Nichtwohnbau)/Kreis 3\",\"Neu erstellten Wohnungen nach Art des Neubaus, Kreis und Quartier 2021/Neubau als Wohnersatz (Wohnbau anstelle Wohnbau)/Kreis 3\",\"Neu erstellten Wohnungen nach Art des Neubaus, Kreis und Quartier 2021/Neubau als Umnutzung (Wohnbau anstelle Nichtwohnbau)/Kreis 4\",\"Neu erstellten Wohnungen nach Art des Neubaus, Kreis und Quartier 2021/Neubau als Wohnersatz (Wohnbau anstelle Wohnbau)/Kreis 4\",\"Neu erstellten Wohnungen nach Art des Neubaus, Kreis und Quartier 2021/Neubau auf unbebautem Land (kein Ersatzbau)/Kreis 4\",\"Neu erstellten Wohnungen nach Art des Neubaus, Kreis und Quartier 2021/Neubau als Umnutzung (Wohnbau anstelle Nichtwohnbau)/Kreis 5\",\"Neu erstellten Wohnungen nach Art des Neubaus, Kreis und Quartier 2021/Neubau als Wohnersatz (Wohnbau anstelle Wohnbau)/Kreis 6\",\"Neu erstellten Wohnungen nach Art des Neubaus, Kreis und Quartier 2021/Neubau auf unbebautem Land (kein Ersatzbau)/Kreis 6\",\"Neu erstellten Wohnungen nach Art des Neubaus, Kreis und Quartier 2021/Neubau als Umnutzung (Wohnbau anstelle Nichtwohnbau)/Kreis 7\",\"Neu erstellten Wohnungen nach Art des Neubaus, Kreis und Quartier 2021/Neubau als Wohnersatz (Wohnbau anstelle Wohnbau)/Kreis 7\",\"Neu erstellten Wohnungen nach Art des Neubaus, Kreis und Quartier 2021/Neubau auf unbebautem Land (kein Ersatzbau)/Kreis 7\",\"Neu erstellten Wohnungen nach Art des Neubaus, Kreis und Quartier 2021/Neubau als Umnutzung (Wohnbau anstelle Nichtwohnbau)/Kreis 8\",\"Neu erstellten Wohnungen nach Art des Neubaus, Kreis und Quartier 2021/Neubau als Umnutzung (Wohnbau anstelle Nichtwohnbau)/Kreis 9\",\"Neu erstellten Wohnungen nach Art des Neubaus, Kreis und Quartier 2021/Neubau als Wohnersatz (Wohnbau anstelle Wohnbau)/Kreis 9\",\"Neu erstellten Wohnungen nach Art des Neubaus, Kreis und Quartier 2021/Neubau auf unbebautem Land (kein Ersatzbau)/Kreis 9\",\"Neu erstellten Wohnungen nach Art des Neubaus, Kreis und Quartier 2021/Neubau als Umnutzung (Wohnbau anstelle Nichtwohnbau)\",\"Neu erstellten Wohnungen nach Art des Neubaus, Kreis und Quartier 2021/Neubau als Wohnersatz (Wohnbau anstelle Wohnbau)\",\"Neu erstellten Wohnungen nach Art des Neubaus, Kreis und Quartier 2021/Neubau auf unbebautem Land (kein Ersatzbau)\",\"Neu erstellten Wohnungen nach Art des Neubaus, Kreis und Quartier 2021\"],\"labels\":[\"Werd\",\"Unterstrass\",\"Unterstrass\",\"Sihlfeld\",\"Wollishofen\",\"Witikon\",\"Witikon\",\"Wipkingen\",\"Wollishofen\",\"Wollishofen\",\"Affoltern\",\"Albisrieden\",\"Albisrieden\",\"Albisrieden\",\"Alt-Wiedikon\",\"Altstetten\",\"Altstetten\",\"Fluntern\",\"Enge\",\"Gewerbeschule\",\"Fluntern\",\"Hard\",\"Hard\",\"Hirslanden\",\"Hottingen\",\"Langstrasse\",\"Oberstrass\",\"Leimbach\",\"H\\u00f6ngg\",\"H\\u00f6ngg\",\"H\\u00f6ngg\",\"Oerlikon\",\"Seefeld\",\"Seebach\",\"Oerlikon\",\"Seebach\",\"Schwamendingen-Mitte\",\"Kreis 10\",\"Kreis 10\",\"Kreis 10\",\"Kreis 11\",\"Kreis 11\",\"Kreis 12\",\"Kreis 2\",\"Kreis 2\",\"Kreis 2\",\"Kreis 3\",\"Kreis 3\",\"Kreis 4\",\"Kreis 4\",\"Kreis 4\",\"Kreis 5\",\"Kreis 6\",\"Kreis 6\",\"Kreis 7\",\"Kreis 7\",\"Kreis 7\",\"Kreis 8\",\"Kreis 9\",\"Kreis 9\",\"Kreis 9\",\"Neubau als Umnutzung (Wohnbau anstelle Nichtwohnbau)\",\"Neubau als Wohnersatz (Wohnbau anstelle Wohnbau)\",\"Neubau auf unbebautem Land (kein Ersatzbau)\",\"Neu erstellten Wohnungen nach Art des Neubaus, Kreis und Quartier 2021\"],\"marker\":{\"colors\":[\"#00cc96\",\"#ab63fa\",\"#ab63fa\",\"#FFA15A\",\"#19d3f3\",\"#FF6692\",\"#FF6692\",\"#B6E880\",\"#19d3f3\",\"#19d3f3\",\"#FF97FF\",\"#FECB52\",\"#FECB52\",\"#FECB52\",\"#FFA15A\",\"#FECB52\",\"#FECB52\",\"#FF6692\",\"#19d3f3\",\"#636efa\",\"#FF6692\",\"#00cc96\",\"#00cc96\",\"#FF6692\",\"#FF6692\",\"#00cc96\",\"#ab63fa\",\"#19d3f3\",\"#B6E880\",\"#B6E880\",\"#B6E880\",\"#FF97FF\",\"#EF553B\",\"#FF97FF\",\"#FF97FF\",\"#FF97FF\",\"#00cc96\",\"#B6E880\",\"#B6E880\",\"#B6E880\",\"#FF97FF\",\"#FF97FF\",\"#00cc96\",\"#19d3f3\",\"#19d3f3\",\"#19d3f3\",\"#FFA15A\",\"#FFA15A\",\"#00cc96\",\"#00cc96\",\"#00cc96\",\"#636efa\",\"#ab63fa\",\"#ab63fa\",\"#FF6692\",\"#FF6692\",\"#FF6692\",\"#EF553B\",\"#FECB52\",\"#FECB52\",\"#FECB52\",\"lightgrey\",\"lightgrey\",\"lightgrey\",\"lightgrey\"]},\"name\":\"\",\"parents\":[\"Neu erstellten Wohnungen nach Art des Neubaus, Kreis und Quartier 2021/Neubau als Umnutzung (Wohnbau anstelle Nichtwohnbau)/Kreis 4\",\"Neu erstellten Wohnungen nach Art des Neubaus, Kreis und Quartier 2021/Neubau auf unbebautem Land (kein Ersatzbau)/Kreis 6\",\"Neu erstellten Wohnungen nach Art des Neubaus, Kreis und Quartier 2021/Neubau als Wohnersatz (Wohnbau anstelle Wohnbau)/Kreis 6\",\"Neu erstellten Wohnungen nach Art des Neubaus, Kreis und Quartier 2021/Neubau als Wohnersatz (Wohnbau anstelle Wohnbau)/Kreis 3\",\"Neu erstellten Wohnungen nach Art des Neubaus, Kreis und Quartier 2021/Neubau als Umnutzung (Wohnbau anstelle Nichtwohnbau)/Kreis 2\",\"Neu erstellten Wohnungen nach Art des Neubaus, Kreis und Quartier 2021/Neubau als Wohnersatz (Wohnbau anstelle Wohnbau)/Kreis 7\",\"Neu erstellten Wohnungen nach Art des Neubaus, Kreis und Quartier 2021/Neubau als Umnutzung (Wohnbau anstelle Nichtwohnbau)/Kreis 7\",\"Neu erstellten Wohnungen nach Art des Neubaus, Kreis und Quartier 2021/Neubau als Wohnersatz (Wohnbau anstelle Wohnbau)/Kreis 10\",\"Neu erstellten Wohnungen nach Art des Neubaus, Kreis und Quartier 2021/Neubau als Wohnersatz (Wohnbau anstelle Wohnbau)/Kreis 2\",\"Neu erstellten Wohnungen nach Art des Neubaus, Kreis und Quartier 2021/Neubau auf unbebautem Land (kein Ersatzbau)/Kreis 2\",\"Neu erstellten Wohnungen nach Art des Neubaus, Kreis und Quartier 2021/Neubau als Wohnersatz (Wohnbau anstelle Wohnbau)/Kreis 11\",\"Neu erstellten Wohnungen nach Art des Neubaus, Kreis und Quartier 2021/Neubau als Umnutzung (Wohnbau anstelle Nichtwohnbau)/Kreis 9\",\"Neu erstellten Wohnungen nach Art des Neubaus, Kreis und Quartier 2021/Neubau als Wohnersatz (Wohnbau anstelle Wohnbau)/Kreis 9\",\"Neu erstellten Wohnungen nach Art des Neubaus, Kreis und Quartier 2021/Neubau auf unbebautem Land (kein Ersatzbau)/Kreis 9\",\"Neu erstellten Wohnungen nach Art des Neubaus, Kreis und Quartier 2021/Neubau als Umnutzung (Wohnbau anstelle Nichtwohnbau)/Kreis 3\",\"Neu erstellten Wohnungen nach Art des Neubaus, Kreis und Quartier 2021/Neubau als Umnutzung (Wohnbau anstelle Nichtwohnbau)/Kreis 9\",\"Neu erstellten Wohnungen nach Art des Neubaus, Kreis und Quartier 2021/Neubau als Wohnersatz (Wohnbau anstelle Wohnbau)/Kreis 9\",\"Neu erstellten Wohnungen nach Art des Neubaus, Kreis und Quartier 2021/Neubau auf unbebautem Land (kein Ersatzbau)/Kreis 7\",\"Neu erstellten Wohnungen nach Art des Neubaus, Kreis und Quartier 2021/Neubau auf unbebautem Land (kein Ersatzbau)/Kreis 2\",\"Neu erstellten Wohnungen nach Art des Neubaus, Kreis und Quartier 2021/Neubau als Umnutzung (Wohnbau anstelle Nichtwohnbau)/Kreis 5\",\"Neu erstellten Wohnungen nach Art des Neubaus, Kreis und Quartier 2021/Neubau als Wohnersatz (Wohnbau anstelle Wohnbau)/Kreis 7\",\"Neu erstellten Wohnungen nach Art des Neubaus, Kreis und Quartier 2021/Neubau als Wohnersatz (Wohnbau anstelle Wohnbau)/Kreis 4\",\"Neu erstellten Wohnungen nach Art des Neubaus, Kreis und Quartier 2021/Neubau auf unbebautem Land (kein Ersatzbau)/Kreis 4\",\"Neu erstellten Wohnungen nach Art des Neubaus, Kreis und Quartier 2021/Neubau als Wohnersatz (Wohnbau anstelle Wohnbau)/Kreis 7\",\"Neu erstellten Wohnungen nach Art des Neubaus, Kreis und Quartier 2021/Neubau als Wohnersatz (Wohnbau anstelle Wohnbau)/Kreis 7\",\"Neu erstellten Wohnungen nach Art des Neubaus, Kreis und Quartier 2021/Neubau auf unbebautem Land (kein Ersatzbau)/Kreis 4\",\"Neu erstellten Wohnungen nach Art des Neubaus, Kreis und Quartier 2021/Neubau als Wohnersatz (Wohnbau anstelle Wohnbau)/Kreis 6\",\"Neu erstellten Wohnungen nach Art des Neubaus, Kreis und Quartier 2021/Neubau als Wohnersatz (Wohnbau anstelle Wohnbau)/Kreis 2\",\"Neu erstellten Wohnungen nach Art des Neubaus, Kreis und Quartier 2021/Neubau auf unbebautem Land (kein Ersatzbau)/Kreis 10\",\"Neu erstellten Wohnungen nach Art des Neubaus, Kreis und Quartier 2021/Neubau als Wohnersatz (Wohnbau anstelle Wohnbau)/Kreis 10\",\"Neu erstellten Wohnungen nach Art des Neubaus, Kreis und Quartier 2021/Neubau als Umnutzung (Wohnbau anstelle Nichtwohnbau)/Kreis 10\",\"Neu erstellten Wohnungen nach Art des Neubaus, Kreis und Quartier 2021/Neubau als Umnutzung (Wohnbau anstelle Nichtwohnbau)/Kreis 11\",\"Neu erstellten Wohnungen nach Art des Neubaus, Kreis und Quartier 2021/Neubau als Umnutzung (Wohnbau anstelle Nichtwohnbau)/Kreis 8\",\"Neu erstellten Wohnungen nach Art des Neubaus, Kreis und Quartier 2021/Neubau als Umnutzung (Wohnbau anstelle Nichtwohnbau)/Kreis 11\",\"Neu erstellten Wohnungen nach Art des Neubaus, Kreis und Quartier 2021/Neubau als Wohnersatz (Wohnbau anstelle Wohnbau)/Kreis 11\",\"Neu erstellten Wohnungen nach Art des Neubaus, Kreis und Quartier 2021/Neubau als Wohnersatz (Wohnbau anstelle Wohnbau)/Kreis 11\",\"Neu erstellten Wohnungen nach Art des Neubaus, Kreis und Quartier 2021/Neubau als Wohnersatz (Wohnbau anstelle Wohnbau)/Kreis 12\",\"Neu erstellten Wohnungen nach Art des Neubaus, Kreis und Quartier 2021/Neubau als Umnutzung (Wohnbau anstelle Nichtwohnbau)\",\"Neu erstellten Wohnungen nach Art des Neubaus, Kreis und Quartier 2021/Neubau als Wohnersatz (Wohnbau anstelle Wohnbau)\",\"Neu erstellten Wohnungen nach Art des Neubaus, Kreis und Quartier 2021/Neubau auf unbebautem Land (kein Ersatzbau)\",\"Neu erstellten Wohnungen nach Art des Neubaus, Kreis und Quartier 2021/Neubau als Umnutzung (Wohnbau anstelle Nichtwohnbau)\",\"Neu erstellten Wohnungen nach Art des Neubaus, Kreis und Quartier 2021/Neubau als Wohnersatz (Wohnbau anstelle Wohnbau)\",\"Neu erstellten Wohnungen nach Art des Neubaus, Kreis und Quartier 2021/Neubau als Wohnersatz (Wohnbau anstelle Wohnbau)\",\"Neu erstellten Wohnungen nach Art des Neubaus, Kreis und Quartier 2021/Neubau als Umnutzung (Wohnbau anstelle Nichtwohnbau)\",\"Neu erstellten Wohnungen nach Art des Neubaus, Kreis und Quartier 2021/Neubau als Wohnersatz (Wohnbau anstelle Wohnbau)\",\"Neu erstellten Wohnungen nach Art des Neubaus, Kreis und Quartier 2021/Neubau auf unbebautem Land (kein Ersatzbau)\",\"Neu erstellten Wohnungen nach Art des Neubaus, Kreis und Quartier 2021/Neubau als Umnutzung (Wohnbau anstelle Nichtwohnbau)\",\"Neu erstellten Wohnungen nach Art des Neubaus, Kreis und Quartier 2021/Neubau als Wohnersatz (Wohnbau anstelle Wohnbau)\",\"Neu erstellten Wohnungen nach Art des Neubaus, Kreis und Quartier 2021/Neubau als Umnutzung (Wohnbau anstelle Nichtwohnbau)\",\"Neu erstellten Wohnungen nach Art des Neubaus, Kreis und Quartier 2021/Neubau als Wohnersatz (Wohnbau anstelle Wohnbau)\",\"Neu erstellten Wohnungen nach Art des Neubaus, Kreis und Quartier 2021/Neubau auf unbebautem Land (kein Ersatzbau)\",\"Neu erstellten Wohnungen nach Art des Neubaus, Kreis und Quartier 2021/Neubau als Umnutzung (Wohnbau anstelle Nichtwohnbau)\",\"Neu erstellten Wohnungen nach Art des Neubaus, Kreis und Quartier 2021/Neubau als Wohnersatz (Wohnbau anstelle Wohnbau)\",\"Neu erstellten Wohnungen nach Art des Neubaus, Kreis und Quartier 2021/Neubau auf unbebautem Land (kein Ersatzbau)\",\"Neu erstellten Wohnungen nach Art des Neubaus, Kreis und Quartier 2021/Neubau als Umnutzung (Wohnbau anstelle Nichtwohnbau)\",\"Neu erstellten Wohnungen nach Art des Neubaus, Kreis und Quartier 2021/Neubau als Wohnersatz (Wohnbau anstelle Wohnbau)\",\"Neu erstellten Wohnungen nach Art des Neubaus, Kreis und Quartier 2021/Neubau auf unbebautem Land (kein Ersatzbau)\",\"Neu erstellten Wohnungen nach Art des Neubaus, Kreis und Quartier 2021/Neubau als Umnutzung (Wohnbau anstelle Nichtwohnbau)\",\"Neu erstellten Wohnungen nach Art des Neubaus, Kreis und Quartier 2021/Neubau als Umnutzung (Wohnbau anstelle Nichtwohnbau)\",\"Neu erstellten Wohnungen nach Art des Neubaus, Kreis und Quartier 2021/Neubau als Wohnersatz (Wohnbau anstelle Wohnbau)\",\"Neu erstellten Wohnungen nach Art des Neubaus, Kreis und Quartier 2021/Neubau auf unbebautem Land (kein Ersatzbau)\",\"Neu erstellten Wohnungen nach Art des Neubaus, Kreis und Quartier 2021\",\"Neu erstellten Wohnungen nach Art des Neubaus, Kreis und Quartier 2021\",\"Neu erstellten Wohnungen nach Art des Neubaus, Kreis und Quartier 2021\",\"\"],\"root\":{\"color\":\"grey\"},\"type\":\"treemap\",\"values\":[80,10,169,17,28,18,7,23,182,4,58,14,66,9,5,94,290,14,18,55,18,30,46,2,10,15,37,140,2,51,10,16,121,201,42,13,14,10,74,2,217,113,14,28,322,22,5,17,80,30,61,55,206,10,7,48,14,121,108,356,9,631,1180,118,1929]}],                        {\"height\":500,\"legend\":{\"tracegroupgap\":0},\"margin\":{\"b\":25,\"l\":25,\"r\":250,\"t\":50},\"template\":{\"data\":{\"bar\":[{\"error_x\":{\"color\":\"#2a3f5f\"},\"error_y\":{\"color\":\"#2a3f5f\"},\"marker\":{\"line\":{\"color\":\"#E5ECF6\",\"width\":0.5},\"pattern\":{\"fillmode\":\"overlay\",\"size\":10,\"solidity\":0.2}},\"type\":\"bar\"}],\"barpolar\":[{\"marker\":{\"line\":{\"color\":\"#E5ECF6\",\"width\":0.5},\"pattern\":{\"fillmode\":\"overlay\",\"size\":10,\"solidity\":0.2}},\"type\":\"barpolar\"}],\"carpet\":[{\"aaxis\":{\"endlinecolor\":\"#2a3f5f\",\"gridcolor\":\"white\",\"linecolor\":\"white\",\"minorgridcolor\":\"white\",\"startlinecolor\":\"#2a3f5f\"},\"baxis\":{\"endlinecolor\":\"#2a3f5f\",\"gridcolor\":\"white\",\"linecolor\":\"white\",\"minorgridcolor\":\"white\",\"startlinecolor\":\"#2a3f5f\"},\"type\":\"carpet\"}],\"choropleth\":[{\"colorbar\":{\"outlinewidth\":0,\"ticks\":\"\"},\"type\":\"choropleth\"}],\"contour\":[{\"colorbar\":{\"outlinewidth\":0,\"ticks\":\"\"},\"colorscale\":[[0.0,\"#0d0887\"],[0.1111111111111111,\"#46039f\"],[0.2222222222222222,\"#7201a8\"],[0.3333333333333333,\"#9c179e\"],[0.4444444444444444,\"#bd3786\"],[0.5555555555555556,\"#d8576b\"],[0.6666666666666666,\"#ed7953\"],[0.7777777777777778,\"#fb9f3a\"],[0.8888888888888888,\"#fdca26\"],[1.0,\"#f0f921\"]],\"type\":\"contour\"}],\"contourcarpet\":[{\"colorbar\":{\"outlinewidth\":0,\"ticks\":\"\"},\"type\":\"contourcarpet\"}],\"heatmap\":[{\"colorbar\":{\"outlinewidth\":0,\"ticks\":\"\"},\"colorscale\":[[0.0,\"#0d0887\"],[0.1111111111111111,\"#46039f\"],[0.2222222222222222,\"#7201a8\"],[0.3333333333333333,\"#9c179e\"],[0.4444444444444444,\"#bd3786\"],[0.5555555555555556,\"#d8576b\"],[0.6666666666666666,\"#ed7953\"],[0.7777777777777778,\"#fb9f3a\"],[0.8888888888888888,\"#fdca26\"],[1.0,\"#f0f921\"]],\"type\":\"heatmap\"}],\"heatmapgl\":[{\"colorbar\":{\"outlinewidth\":0,\"ticks\":\"\"},\"colorscale\":[[0.0,\"#0d0887\"],[0.1111111111111111,\"#46039f\"],[0.2222222222222222,\"#7201a8\"],[0.3333333333333333,\"#9c179e\"],[0.4444444444444444,\"#bd3786\"],[0.5555555555555556,\"#d8576b\"],[0.6666666666666666,\"#ed7953\"],[0.7777777777777778,\"#fb9f3a\"],[0.8888888888888888,\"#fdca26\"],[1.0,\"#f0f921\"]],\"type\":\"heatmapgl\"}],\"histogram\":[{\"marker\":{\"pattern\":{\"fillmode\":\"overlay\",\"size\":10,\"solidity\":0.2}},\"type\":\"histogram\"}],\"histogram2d\":[{\"colorbar\":{\"outlinewidth\":0,\"ticks\":\"\"},\"colorscale\":[[0.0,\"#0d0887\"],[0.1111111111111111,\"#46039f\"],[0.2222222222222222,\"#7201a8\"],[0.3333333333333333,\"#9c179e\"],[0.4444444444444444,\"#bd3786\"],[0.5555555555555556,\"#d8576b\"],[0.6666666666666666,\"#ed7953\"],[0.7777777777777778,\"#fb9f3a\"],[0.8888888888888888,\"#fdca26\"],[1.0,\"#f0f921\"]],\"type\":\"histogram2d\"}],\"histogram2dcontour\":[{\"colorbar\":{\"outlinewidth\":0,\"ticks\":\"\"},\"colorscale\":[[0.0,\"#0d0887\"],[0.1111111111111111,\"#46039f\"],[0.2222222222222222,\"#7201a8\"],[0.3333333333333333,\"#9c179e\"],[0.4444444444444444,\"#bd3786\"],[0.5555555555555556,\"#d8576b\"],[0.6666666666666666,\"#ed7953\"],[0.7777777777777778,\"#fb9f3a\"],[0.8888888888888888,\"#fdca26\"],[1.0,\"#f0f921\"]],\"type\":\"histogram2dcontour\"}],\"mesh3d\":[{\"colorbar\":{\"outlinewidth\":0,\"ticks\":\"\"},\"type\":\"mesh3d\"}],\"parcoords\":[{\"line\":{\"colorbar\":{\"outlinewidth\":0,\"ticks\":\"\"}},\"type\":\"parcoords\"}],\"pie\":[{\"automargin\":true,\"type\":\"pie\"}],\"scatter\":[{\"marker\":{\"colorbar\":{\"outlinewidth\":0,\"ticks\":\"\"}},\"type\":\"scatter\"}],\"scatter3d\":[{\"line\":{\"colorbar\":{\"outlinewidth\":0,\"ticks\":\"\"}},\"marker\":{\"colorbar\":{\"outlinewidth\":0,\"ticks\":\"\"}},\"type\":\"scatter3d\"}],\"scattercarpet\":[{\"marker\":{\"colorbar\":{\"outlinewidth\":0,\"ticks\":\"\"}},\"type\":\"scattercarpet\"}],\"scattergeo\":[{\"marker\":{\"colorbar\":{\"outlinewidth\":0,\"ticks\":\"\"}},\"type\":\"scattergeo\"}],\"scattergl\":[{\"marker\":{\"colorbar\":{\"outlinewidth\":0,\"ticks\":\"\"}},\"type\":\"scattergl\"}],\"scattermapbox\":[{\"marker\":{\"colorbar\":{\"outlinewidth\":0,\"ticks\":\"\"}},\"type\":\"scattermapbox\"}],\"scatterpolar\":[{\"marker\":{\"colorbar\":{\"outlinewidth\":0,\"ticks\":\"\"}},\"type\":\"scatterpolar\"}],\"scatterpolargl\":[{\"marker\":{\"colorbar\":{\"outlinewidth\":0,\"ticks\":\"\"}},\"type\":\"scatterpolargl\"}],\"scatterternary\":[{\"marker\":{\"colorbar\":{\"outlinewidth\":0,\"ticks\":\"\"}},\"type\":\"scatterternary\"}],\"surface\":[{\"colorbar\":{\"outlinewidth\":0,\"ticks\":\"\"},\"colorscale\":[[0.0,\"#0d0887\"],[0.1111111111111111,\"#46039f\"],[0.2222222222222222,\"#7201a8\"],[0.3333333333333333,\"#9c179e\"],[0.4444444444444444,\"#bd3786\"],[0.5555555555555556,\"#d8576b\"],[0.6666666666666666,\"#ed7953\"],[0.7777777777777778,\"#fb9f3a\"],[0.8888888888888888,\"#fdca26\"],[1.0,\"#f0f921\"]],\"type\":\"surface\"}],\"table\":[{\"cells\":{\"fill\":{\"color\":\"#EBF0F8\"},\"line\":{\"color\":\"white\"}},\"header\":{\"fill\":{\"color\":\"#C8D4E3\"},\"line\":{\"color\":\"white\"}},\"type\":\"table\"}]},\"layout\":{\"annotationdefaults\":{\"arrowcolor\":\"#2a3f5f\",\"arrowhead\":0,\"arrowwidth\":1},\"autotypenumbers\":\"strict\",\"coloraxis\":{\"colorbar\":{\"outlinewidth\":0,\"ticks\":\"\"}},\"colorscale\":{\"diverging\":[[0,\"#8e0152\"],[0.1,\"#c51b7d\"],[0.2,\"#de77ae\"],[0.3,\"#f1b6da\"],[0.4,\"#fde0ef\"],[0.5,\"#f7f7f7\"],[0.6,\"#e6f5d0\"],[0.7,\"#b8e186\"],[0.8,\"#7fbc41\"],[0.9,\"#4d9221\"],[1,\"#276419\"]],\"sequential\":[[0.0,\"#0d0887\"],[0.1111111111111111,\"#46039f\"],[0.2222222222222222,\"#7201a8\"],[0.3333333333333333,\"#9c179e\"],[0.4444444444444444,\"#bd3786\"],[0.5555555555555556,\"#d8576b\"],[0.6666666666666666,\"#ed7953\"],[0.7777777777777778,\"#fb9f3a\"],[0.8888888888888888,\"#fdca26\"],[1.0,\"#f0f921\"]],\"sequentialminus\":[[0.0,\"#0d0887\"],[0.1111111111111111,\"#46039f\"],[0.2222222222222222,\"#7201a8\"],[0.3333333333333333,\"#9c179e\"],[0.4444444444444444,\"#bd3786\"],[0.5555555555555556,\"#d8576b\"],[0.6666666666666666,\"#ed7953\"],[0.7777777777777778,\"#fb9f3a\"],[0.8888888888888888,\"#fdca26\"],[1.0,\"#f0f921\"]]},\"colorway\":[\"#636efa\",\"#EF553B\",\"#00cc96\",\"#ab63fa\",\"#FFA15A\",\"#19d3f3\",\"#FF6692\",\"#B6E880\",\"#FF97FF\",\"#FECB52\"],\"font\":{\"color\":\"#2a3f5f\"},\"geo\":{\"bgcolor\":\"white\",\"lakecolor\":\"white\",\"landcolor\":\"#E5ECF6\",\"showlakes\":true,\"showland\":true,\"subunitcolor\":\"white\"},\"hoverlabel\":{\"align\":\"left\"},\"hovermode\":\"closest\",\"mapbox\":{\"style\":\"light\"},\"paper_bgcolor\":\"white\",\"plot_bgcolor\":\"#E5ECF6\",\"polar\":{\"angularaxis\":{\"gridcolor\":\"white\",\"linecolor\":\"white\",\"ticks\":\"\"},\"bgcolor\":\"#E5ECF6\",\"radialaxis\":{\"gridcolor\":\"white\",\"linecolor\":\"white\",\"ticks\":\"\"}},\"scene\":{\"xaxis\":{\"backgroundcolor\":\"#E5ECF6\",\"gridcolor\":\"white\",\"gridwidth\":2,\"linecolor\":\"white\",\"showbackground\":true,\"ticks\":\"\",\"zerolinecolor\":\"white\"},\"yaxis\":{\"backgroundcolor\":\"#E5ECF6\",\"gridcolor\":\"white\",\"gridwidth\":2,\"linecolor\":\"white\",\"showbackground\":true,\"ticks\":\"\",\"zerolinecolor\":\"white\"},\"zaxis\":{\"backgroundcolor\":\"#E5ECF6\",\"gridcolor\":\"white\",\"gridwidth\":2,\"linecolor\":\"white\",\"showbackground\":true,\"ticks\":\"\",\"zerolinecolor\":\"white\"}},\"shapedefaults\":{\"line\":{\"color\":\"#2a3f5f\"}},\"ternary\":{\"aaxis\":{\"gridcolor\":\"white\",\"linecolor\":\"white\",\"ticks\":\"\"},\"baxis\":{\"gridcolor\":\"white\",\"linecolor\":\"white\",\"ticks\":\"\"},\"bgcolor\":\"#E5ECF6\",\"caxis\":{\"gridcolor\":\"white\",\"linecolor\":\"white\",\"ticks\":\"\"}},\"title\":{\"x\":0.05},\"xaxis\":{\"automargin\":true,\"gridcolor\":\"white\",\"linecolor\":\"white\",\"ticks\":\"\",\"title\":{\"standoff\":15},\"zerolinecolor\":\"white\",\"zerolinewidth\":2},\"yaxis\":{\"automargin\":true,\"gridcolor\":\"white\",\"linecolor\":\"white\",\"ticks\":\"\",\"title\":{\"standoff\":15},\"zerolinecolor\":\"white\",\"zerolinewidth\":2}}},\"width\":1100},                        {\"responsive\": true}                    ).then(function(){\n",
       "                            \n",
       "var gd = document.getElementById('5af03e2b-55b1-464e-930c-e08b13f34002');\n",
       "var x = new MutationObserver(function (mutations, observer) {{\n",
       "        var display = window.getComputedStyle(gd).display;\n",
       "        if (!display || display === 'none') {{\n",
       "            console.log([gd, 'removed!']);\n",
       "            Plotly.purge(gd);\n",
       "            observer.disconnect();\n",
       "        }}\n",
       "}});\n",
       "\n",
       "// Listen for the removal of the full notebook cells\n",
       "var notebookContainer = gd.closest('#notebook-container');\n",
       "if (notebookContainer) {{\n",
       "    x.observe(notebookContainer, {childList: true});\n",
       "}}\n",
       "\n",
       "// Listen for the clearing of the current output cell\n",
       "var outputEl = gd.closest('.output');\n",
       "if (outputEl) {{\n",
       "    x.observe(outputEl, {childList: true});\n",
       "}}\n",
       "\n",
       "                        })                };                });            </script>        </div>"
      ]
     },
     "metadata": {},
     "output_type": "display_data"
    }
   ],
   "source": [
    "fig = px.treemap(myTreemapAgg.query('sum_AnzWhg >0').reset_index(), path=[px.Constant(\"Neu erstellten Wohnungen nach Art des Neubaus, Kreis und Quartier 2021\")\n",
    "                                                                                     ,'ArtNeubauLang','KreisLang', 'QuarLang']\n",
    "                 , values='sum_AnzWhg'\n",
    "                 , color='KreisLang'\n",
    "                 ## bei discrete scales (bei Klassen und Strings):                 \n",
    "                 , color_discrete_map={'(?)':'lightgrey','EVP':'gold', 'SP':'#FF3030', 'PdA':'#EE3B3B', 'Grüne':'#A2CD5A','GLP':'#CAFF70','Die Mitte':'orange','FDP':'#104E8B','AL':'deeppink','SVP':'forestgreen', 'FL ZÜRI':'#8B864E','Volt':'#lightblue' }                \n",
    "                 ## bei continuous scales (bei Zahlenwerten):\n",
    "                #, color_continuous_scale='cividis'\n",
    "                #, color_continuous_midpoint=np.average(df['AnzBestWir'], weights=df['AnzBestWir'])  \n",
    "                 ,height=500\n",
    "                 ,width=1100                 \n",
    "                )\n",
    "fig.update_traces(root_color=\"grey\")\n",
    "fig.update_layout(margin = dict(t=50, l=25, r=250, b=25))\n",
    "fig.show()"
   ]
  },
  {
   "cell_type": "code",
   "execution_count": 87,
   "metadata": {},
   "outputs": [
    {
     "data": {
      "text/plain": [
       "StatZoneSort     float64\n",
       "StatZoneLang      object\n",
       "QuarSort           int64\n",
       "QuarLang          object\n",
       "KreisSort          int64\n",
       "KreisLang         object\n",
       "EigGruSort         int64\n",
       "EigGruLang        object\n",
       "ArtNeubauSort      int64\n",
       "ArtNeubauLang     object\n",
       "AnzWhg             int64\n",
       "dtype: object"
      ]
     },
     "execution_count": 87,
     "metadata": {},
     "output_type": "execute_result"
    }
   ],
   "source": [
    "data2betested.dtypes"
   ]
  },
  {
   "cell_type": "code",
   "execution_count": 92,
   "metadata": {},
   "outputs": [],
   "source": [
    "#hier fehlen statistische zonen..."
   ]
  },
  {
   "cell_type": "code",
   "execution_count": 91,
   "metadata": {},
   "outputs": [
    {
     "data": {
      "text/html": [
       "<div>\n",
       "<style scoped>\n",
       "    .dataframe tbody tr th:only-of-type {\n",
       "        vertical-align: middle;\n",
       "    }\n",
       "\n",
       "    .dataframe tbody tr th {\n",
       "        vertical-align: top;\n",
       "    }\n",
       "\n",
       "    .dataframe thead th {\n",
       "        text-align: right;\n",
       "    }\n",
       "</style>\n",
       "<table border=\"1\" class=\"dataframe\">\n",
       "  <thead>\n",
       "    <tr style=\"text-align: right;\">\n",
       "      <th></th>\n",
       "      <th>Jahr</th>\n",
       "      <th>KreisSort</th>\n",
       "      <th>KreisLang</th>\n",
       "      <th>QuarSort</th>\n",
       "      <th>QuarLang</th>\n",
       "      <th>StatZoneLang</th>\n",
       "      <th>ArtNeubauSort</th>\n",
       "      <th>ArtNeubauLang</th>\n",
       "      <th>sum_AnzWhg</th>\n",
       "    </tr>\n",
       "  </thead>\n",
       "  <tbody>\n",
       "  </tbody>\n",
       "</table>\n",
       "</div>"
      ],
      "text/plain": [
       "Empty DataFrame\n",
       "Columns: [Jahr, KreisSort, KreisLang, QuarSort, QuarLang, StatZoneLang, ArtNeubauSort, ArtNeubauLang, sum_AnzWhg]\n",
       "Index: []"
      ]
     },
     "execution_count": 91,
     "metadata": {},
     "output_type": "execute_result"
    }
   ],
   "source": [
    "myTreemapAgg = data2betested.loc[\"2021\"]\\\n",
    "    .groupby(['Jahr','KreisSort','KreisLang', 'QuarSort','QuarLang','StatZoneLang','ArtNeubauSort', 'ArtNeubauLang']) \\\n",
    "    .agg(sum_AnzWhg=('AnzWhg', 'sum')) \\\n",
    "    .sort_values('KreisSort', ascending=True) \n",
    "\n",
    "myTreemapAgg.reset_index().head(3)"
   ]
  },
  {
   "cell_type": "markdown",
   "metadata": {},
   "source": [
    "**Sharepoint als gecheckt markieren!**"
   ]
  },
  {
   "cell_type": "markdown",
   "metadata": {},
   "source": [
    "Record auf Sharepoint: **[Link](https://kollaboration.intranet.stzh.ch/orga/ssz-produkte/Lists/SASA_Outputs/DispForm.aspx?ID=539&ContentTypeId=0x0100988EAF029F1EFE4CA675F53C32A5D53D01006DBC563E6FBE9E4EB6FDC780799752E1)**"
   ]
  },
  {
   "cell_type": "markdown",
   "metadata": {
    "tags": []
   },
   "source": [
    "## ---------------------- hier Plausi beendet\n",
    "\n",
    "Liniendiagramm \n",
    "[Link zur Doku](https://altair-viz.github.io/gallery/multiline_highlight.html)"
   ]
  },
  {
   "cell_type": "markdown",
   "metadata": {
    "tags": []
   },
   "source": [
    "### Test: Choroplethenkarte\n",
    "Importiere die Geodaten als GeoJSON"
   ]
  },
  {
   "cell_type": "markdown",
   "metadata": {},
   "source": [
    "#### Stadtkreise"
   ]
  },
  {
   "cell_type": "code",
   "execution_count": 124,
   "metadata": {},
   "outputs": [
    {
     "data": {
      "text/html": [
       "<div>\n",
       "<style scoped>\n",
       "    .dataframe tbody tr th:only-of-type {\n",
       "        vertical-align: middle;\n",
       "    }\n",
       "\n",
       "    .dataframe tbody tr th {\n",
       "        vertical-align: top;\n",
       "    }\n",
       "\n",
       "    .dataframe thead th {\n",
       "        text-align: right;\n",
       "    }\n",
       "</style>\n",
       "<table border=\"1\" class=\"dataframe\">\n",
       "  <thead>\n",
       "    <tr style=\"text-align: right;\">\n",
       "      <th></th>\n",
       "      <th>id</th>\n",
       "      <th>kname</th>\n",
       "      <th>knr</th>\n",
       "      <th>objid</th>\n",
       "      <th>geometry</th>\n",
       "    </tr>\n",
       "  </thead>\n",
       "  <tbody>\n",
       "    <tr>\n",
       "      <th>0</th>\n",
       "      <td>adm_stadtkreise_v.6</td>\n",
       "      <td>Kreis 7</td>\n",
       "      <td>7</td>\n",
       "      <td>6</td>\n",
       "      <td>POLYGON ((8.54885 47.36602, 8.54901 47.36601, ...</td>\n",
       "    </tr>\n",
       "  </tbody>\n",
       "</table>\n",
       "</div>"
      ],
      "text/plain": [
       "                    id    kname  knr objid                                           geometry\n",
       "0  adm_stadtkreise_v.6  Kreis 7    7     6  POLYGON ((8.54885 47.36602, 8.54901 47.36601, ..."
      ]
     },
     "execution_count": 124,
     "metadata": {},
     "output_type": "execute_result"
    }
   ],
   "source": [
    "# Read abt. Geopandas https://geopandas.org/docs/user_guide/io.html\n",
    "geojson_url_kreise = \"https://www.ogd.stadt-zuerich.ch/wfs/geoportal/Stadtkreise?service=WFS&version=1.1.0&request=GetFeature&outputFormat=GeoJSON&typename=adm_stadtkreise_v\"\n",
    "adm_stadtkreise_v = gpd.read_file(geojson_url_kreise)\n",
    "\n",
    "adm_stadtkreise_v.head(1)\n"
   ]
  },
  {
   "cell_type": "markdown",
   "metadata": {},
   "source": [
    "#### Statistische Zonen"
   ]
  },
  {
   "cell_type": "code",
   "execution_count": 115,
   "metadata": {},
   "outputs": [
    {
     "data": {
      "text/html": [
       "<div>\n",
       "<style scoped>\n",
       "    .dataframe tbody tr th:only-of-type {\n",
       "        vertical-align: middle;\n",
       "    }\n",
       "\n",
       "    .dataframe tbody tr th {\n",
       "        vertical-align: top;\n",
       "    }\n",
       "\n",
       "    .dataframe thead th {\n",
       "        text-align: right;\n",
       "    }\n",
       "</style>\n",
       "<table border=\"1\" class=\"dataframe\">\n",
       "  <thead>\n",
       "    <tr style=\"text-align: right;\">\n",
       "      <th></th>\n",
       "      <th>id</th>\n",
       "      <th>kname</th>\n",
       "      <th>knr</th>\n",
       "      <th>objectid</th>\n",
       "      <th>objid</th>\n",
       "      <th>qname</th>\n",
       "      <th>qnr</th>\n",
       "      <th>stzname</th>\n",
       "      <th>stznr</th>\n",
       "      <th>geometry</th>\n",
       "    </tr>\n",
       "  </thead>\n",
       "  <tbody>\n",
       "    <tr>\n",
       "      <th>0</th>\n",
       "      <td>adm_statzonen_map.1</td>\n",
       "      <td>Kreis 7</td>\n",
       "      <td>7</td>\n",
       "      <td>1</td>\n",
       "      <td>154</td>\n",
       "      <td>Hirslanden</td>\n",
       "      <td>73</td>\n",
       "      <td>Hegibach</td>\n",
       "      <td>7303</td>\n",
       "      <td>POLYGON ((8.55670 47.36406, 8.55682 47.36410, ...</td>\n",
       "    </tr>\n",
       "    <tr>\n",
       "      <th>1</th>\n",
       "      <td>adm_statzonen_map.2</td>\n",
       "      <td>Kreis 7</td>\n",
       "      <td>7</td>\n",
       "      <td>2</td>\n",
       "      <td>89</td>\n",
       "      <td>Hirslanden</td>\n",
       "      <td>73</td>\n",
       "      <td>Klus</td>\n",
       "      <td>7302</td>\n",
       "      <td>POLYGON ((8.57281 47.35806, 8.57278 47.35807, ...</td>\n",
       "    </tr>\n",
       "  </tbody>\n",
       "</table>\n",
       "</div>"
      ],
      "text/plain": [
       "                    id    kname  knr  objectid objid       qname  qnr   stzname  stznr  \\\n",
       "0  adm_statzonen_map.1  Kreis 7    7         1   154  Hirslanden   73  Hegibach   7303   \n",
       "1  adm_statzonen_map.2  Kreis 7    7         2    89  Hirslanden   73      Klus   7302   \n",
       "\n",
       "                                            geometry  \n",
       "0  POLYGON ((8.55670 47.36406, 8.55682 47.36410, ...  \n",
       "1  POLYGON ((8.57281 47.35806, 8.57278 47.35807, ...  "
      ]
     },
     "execution_count": 115,
     "metadata": {},
     "output_type": "execute_result"
    }
   ],
   "source": [
    "# Read abt. Geopandas https://geopandas.org/docs/user_guide/io.html\n",
    "geojson_url_statzonen = \"https://www.ogd.stadt-zuerich.ch/wfs/geoportal/Statistische_Zonen?service=WFS&version=1.1.0&request=GetFeature&outputFormat=GeoJSON&typename=adm_statzonen_map\"\n",
    "adm_statzonen_map = gpd.read_file(geojson_url_statzonen)\n",
    "\n",
    "adm_statzonen_map.head(2)\n"
   ]
  },
  {
   "cell_type": "markdown",
   "metadata": {},
   "source": [
    "#### Statistische Quartiere"
   ]
  },
  {
   "cell_type": "code",
   "execution_count": 119,
   "metadata": {},
   "outputs": [
    {
     "data": {
      "text/html": [
       "<div>\n",
       "<style scoped>\n",
       "    .dataframe tbody tr th:only-of-type {\n",
       "        vertical-align: middle;\n",
       "    }\n",
       "\n",
       "    .dataframe tbody tr th {\n",
       "        vertical-align: top;\n",
       "    }\n",
       "\n",
       "    .dataframe thead th {\n",
       "        text-align: right;\n",
       "    }\n",
       "</style>\n",
       "<table border=\"1\" class=\"dataframe\">\n",
       "  <thead>\n",
       "    <tr style=\"text-align: right;\">\n",
       "      <th></th>\n",
       "      <th>id</th>\n",
       "      <th>kname</th>\n",
       "      <th>knr</th>\n",
       "      <th>objectid</th>\n",
       "      <th>objid</th>\n",
       "      <th>qname</th>\n",
       "      <th>qnr</th>\n",
       "      <th>geometry</th>\n",
       "    </tr>\n",
       "  </thead>\n",
       "  <tbody>\n",
       "    <tr>\n",
       "      <th>0</th>\n",
       "      <td>adm_statistische_quartiere_map.1</td>\n",
       "      <td>Kreis 7</td>\n",
       "      <td>7</td>\n",
       "      <td>1</td>\n",
       "      <td>34</td>\n",
       "      <td>Hirslanden</td>\n",
       "      <td>73</td>\n",
       "      <td>POLYGON ((8.55670 47.36406, 8.55682 47.36410, ...</td>\n",
       "    </tr>\n",
       "    <tr>\n",
       "      <th>1</th>\n",
       "      <td>adm_statistische_quartiere_map.2</td>\n",
       "      <td>Kreis 8</td>\n",
       "      <td>8</td>\n",
       "      <td>2</td>\n",
       "      <td>33</td>\n",
       "      <td>Weinegg</td>\n",
       "      <td>83</td>\n",
       "      <td>POLYGON ((8.55670 47.36405, 8.55672 47.36403, ...</td>\n",
       "    </tr>\n",
       "  </tbody>\n",
       "</table>\n",
       "</div>"
      ],
      "text/plain": [
       "                                 id    kname  knr  objectid objid       qname  qnr  \\\n",
       "0  adm_statistische_quartiere_map.1  Kreis 7    7         1    34  Hirslanden   73   \n",
       "1  adm_statistische_quartiere_map.2  Kreis 8    8         2    33     Weinegg   83   \n",
       "\n",
       "                                            geometry  \n",
       "0  POLYGON ((8.55670 47.36406, 8.55682 47.36410, ...  \n",
       "1  POLYGON ((8.55670 47.36405, 8.55672 47.36403, ...  "
      ]
     },
     "execution_count": 119,
     "metadata": {},
     "output_type": "execute_result"
    }
   ],
   "source": [
    "geojson_url_quartiere = \"https://www.ogd.stadt-zuerich.ch/wfs/geoportal/Statistische_Quartiere?service=WFS&version=1.1.0&request=GetFeature&outputFormat=GeoJSON&typename=adm_statistische_quartiere_map\"\n",
    "df_adm_statistische_quartiere_map = gpd.read_file(geojson_url_quartiere)\n",
    "\n",
    "df_adm_statistische_quartiere_map.head(2)\n"
   ]
  },
  {
   "cell_type": "markdown",
   "metadata": {},
   "source": [
    "### Joins\n",
    "Joine die importierten statistischen Daten des aktuellen Jahres zum Geodatensatz:\n",
    "\n",
    "*Siehe dazu Doku zu [Geopandas](https://geopandas.org/docs/user_guide/mergingdata.html)*"
   ]
  },
  {
   "cell_type": "code",
   "execution_count": 127,
   "metadata": {},
   "outputs": [
    {
     "data": {
      "text/plain": [
       "StatZoneCd             int64\n",
       "StatZone              object\n",
       "QuarCd                 int64\n",
       "QuarLang              object\n",
       "KreisCd                int64\n",
       "KreisLang             object\n",
       "EigentumsartSort       int64\n",
       "Eigentumsart          object\n",
       "Whg_abgebrochen        int64\n",
       "Whg_fertigerstellt     int64\n",
       "dtype: object"
      ]
     },
     "execution_count": 127,
     "metadata": {},
     "output_type": "execute_result"
    }
   ],
   "source": [
    "data2betested.dtypes"
   ]
  },
  {
   "cell_type": "code",
   "execution_count": 137,
   "metadata": {},
   "outputs": [
    {
     "data": {
      "text/html": [
       "<div>\n",
       "<style scoped>\n",
       "    .dataframe tbody tr th:only-of-type {\n",
       "        vertical-align: middle;\n",
       "    }\n",
       "\n",
       "    .dataframe tbody tr th {\n",
       "        vertical-align: top;\n",
       "    }\n",
       "\n",
       "    .dataframe thead th {\n",
       "        text-align: right;\n",
       "    }\n",
       "</style>\n",
       "<table border=\"1\" class=\"dataframe\">\n",
       "  <thead>\n",
       "    <tr style=\"text-align: right;\">\n",
       "      <th></th>\n",
       "      <th>QuarLang</th>\n",
       "      <th>QuarCd</th>\n",
       "      <th>sum_Whg_abgebrochen</th>\n",
       "      <th>sum_Whg_fertigerstellt</th>\n",
       "    </tr>\n",
       "  </thead>\n",
       "  <tbody>\n",
       "    <tr>\n",
       "      <th>0</th>\n",
       "      <td>Albisrieden</td>\n",
       "      <td>91</td>\n",
       "      <td>282</td>\n",
       "      <td>89</td>\n",
       "    </tr>\n",
       "  </tbody>\n",
       "</table>\n",
       "</div>"
      ],
      "text/plain": [
       "      QuarLang  QuarCd  sum_Whg_abgebrochen  sum_Whg_fertigerstellt\n",
       "0  Albisrieden      91                  282                      89"
      ]
     },
     "execution_count": 137,
     "metadata": {},
     "output_type": "execute_result"
    }
   ],
   "source": [
    "myAgg = data2betested.loc[\"2021\"]  \\\n",
    "    .groupby(['QuarLang', 'QuarCd']) \\\n",
    "    .agg(sum_Whg_abgebrochen=('Whg_abgebrochen', 'sum'),sum_Whg_fertigerstellt=('Whg_fertigerstellt', 'sum')) \\\n",
    "    .sort_values('sum_Whg_abgebrochen', ascending=False) \n",
    "\n",
    "myAgg.reset_index().head(1)\n"
   ]
  },
  {
   "cell_type": "code",
   "execution_count": 138,
   "metadata": {},
   "outputs": [
    {
     "data": {
      "text/html": [
       "<div>\n",
       "<style scoped>\n",
       "    .dataframe tbody tr th:only-of-type {\n",
       "        vertical-align: middle;\n",
       "    }\n",
       "\n",
       "    .dataframe tbody tr th {\n",
       "        vertical-align: top;\n",
       "    }\n",
       "\n",
       "    .dataframe thead th {\n",
       "        text-align: right;\n",
       "    }\n",
       "</style>\n",
       "<table border=\"1\" class=\"dataframe\">\n",
       "  <thead>\n",
       "    <tr style=\"text-align: right;\">\n",
       "      <th></th>\n",
       "      <th>geometry</th>\n",
       "      <th>QuarCd</th>\n",
       "      <th>qname</th>\n",
       "      <th>knr</th>\n",
       "    </tr>\n",
       "  </thead>\n",
       "  <tbody>\n",
       "    <tr>\n",
       "      <th>0</th>\n",
       "      <td>POLYGON ((8.55670 47.36406, 8.55682 47.36410, ...</td>\n",
       "      <td>73</td>\n",
       "      <td>Hirslanden</td>\n",
       "      <td>7</td>\n",
       "    </tr>\n",
       "  </tbody>\n",
       "</table>\n",
       "</div>"
      ],
      "text/plain": [
       "                                            geometry  QuarCd       qname  knr\n",
       "0  POLYGON ((8.55670 47.36406, 8.55682 47.36410, ...      73  Hirslanden    7"
      ]
     },
     "execution_count": 138,
     "metadata": {},
     "output_type": "execute_result"
    }
   ],
   "source": [
    "# Rename attribute stznr to StatZoneSort, so the IDs have the same name\n",
    "gdf_adm_statistische_quartiere_map = df_adm_statistische_quartiere_map[['geometry', 'qnr', 'qname', 'knr']].rename(columns={'qnr': 'QuarCd'})\n",
    "gdf_adm_statistische_quartiere_map.head(1)"
   ]
  },
  {
   "cell_type": "code",
   "execution_count": 139,
   "metadata": {},
   "outputs": [
    {
     "data": {
      "text/html": [
       "<div>\n",
       "<style scoped>\n",
       "    .dataframe tbody tr th:only-of-type {\n",
       "        vertical-align: middle;\n",
       "    }\n",
       "\n",
       "    .dataframe tbody tr th {\n",
       "        vertical-align: top;\n",
       "    }\n",
       "\n",
       "    .dataframe thead th {\n",
       "        text-align: right;\n",
       "    }\n",
       "</style>\n",
       "<table border=\"1\" class=\"dataframe\">\n",
       "  <thead>\n",
       "    <tr style=\"text-align: right;\">\n",
       "      <th></th>\n",
       "      <th>geometry</th>\n",
       "      <th>QuarCd</th>\n",
       "      <th>qname</th>\n",
       "      <th>knr</th>\n",
       "      <th>sum_Whg_abgebrochen</th>\n",
       "      <th>sum_Whg_fertigerstellt</th>\n",
       "    </tr>\n",
       "  </thead>\n",
       "  <tbody>\n",
       "    <tr>\n",
       "      <th>0</th>\n",
       "      <td>POLYGON ((8.55670 47.36406, 8.55682 47.36410, ...</td>\n",
       "      <td>73</td>\n",
       "      <td>Hirslanden</td>\n",
       "      <td>7</td>\n",
       "      <td>48</td>\n",
       "      <td>2</td>\n",
       "    </tr>\n",
       "    <tr>\n",
       "      <th>1</th>\n",
       "      <td>POLYGON ((8.55670 47.36405, 8.55672 47.36403, ...</td>\n",
       "      <td>83</td>\n",
       "      <td>Weinegg</td>\n",
       "      <td>8</td>\n",
       "      <td>2</td>\n",
       "      <td>0</td>\n",
       "    </tr>\n",
       "  </tbody>\n",
       "</table>\n",
       "</div>"
      ],
      "text/plain": [
       "                                            geometry  QuarCd       qname  knr  \\\n",
       "0  POLYGON ((8.55670 47.36406, 8.55682 47.36410, ...      73  Hirslanden    7   \n",
       "1  POLYGON ((8.55670 47.36405, 8.55672 47.36403, ...      83     Weinegg    8   \n",
       "\n",
       "   sum_Whg_abgebrochen  sum_Whg_fertigerstellt  \n",
       "0                   48                       2  \n",
       "1                    2                       0  "
      ]
     },
     "execution_count": 139,
     "metadata": {},
     "output_type": "execute_result"
    }
   ],
   "source": [
    "# Merge with `merge` method on shared variable (stznr und StatZoneSort):\n",
    "gdf_adm_statistische_quartiere_map_joined = gdf_adm_statistische_quartiere_map.merge(myAgg, on='QuarCd')\n",
    "gdf_adm_statistische_quartiere_map_joined.head(2)\n"
   ]
  },
  {
   "cell_type": "code",
   "execution_count": 142,
   "metadata": {},
   "outputs": [
    {
     "data": {
      "text/plain": [
       "<AxesSubplot:>"
      ]
     },
     "execution_count": 142,
     "metadata": {},
     "output_type": "execute_result"
    },
    {
     "data": {
      "image/png": "[encoded data removed]",
      "text/plain": [
       "<Figure size 432x288 with 1 Axes>"
      ]
     },
     "metadata": {
      "needs_background": "light"
     },
     "output_type": "display_data"
    },
    {
     "data": {
      "image/png": "[encoded data removed]",
      "text/plain": [
       "<Figure size 432x288 with 1 Axes>"
      ]
     },
     "metadata": {
      "needs_background": "light"
     },
     "output_type": "display_data"
    }
   ],
   "source": [
    "# Plot by StatQuartiere\n",
    "# Weitere Schemes: scheme='quantiles', scheme='fisherjenks', scheme='natural_breaks',\n",
    "\n",
    "gdf_adm_statistische_quartiere_map_joined.plot(column='sum_Whg_fertigerstellt', cmap='viridis', scheme='natural_breaks', legend=True )\n",
    "gdf_adm_statistische_quartiere_map_joined.plot(column='sum_Whg_abgebrochen', cmap='viridis', scheme='natural_breaks', legend=True )\n",
    "\n",
    "#gdf_adm_statistische_quartiere_map_joined.plot(column='sum_Whg_abgebrochen', cmap='plasma', scheme='fisherjenks', legend=True )\n",
    "#gdf_adm_statistische_quartiere_map_joined.plot(column='sum_Whg_fertigerstellt', cmap='cool', scheme='quantiles', legend=True )\n",
    "#scheme werte: https://matplotlib.org/2.0.2/users/colormaps.html\n",
    "\n",
    "#\n",
    "#Neuere Gallerie: https://matplotlib.org/stable/gallery/index.html"
   ]
  },
  {
   "cell_type": "code",
   "execution_count": 157,
   "metadata": {},
   "outputs": [
    {
     "data": {
      "text/plain": [
       "<AxesSubplot:>"
      ]
     },
     "execution_count": 157,
     "metadata": {},
     "output_type": "execute_result"
    },
    {
     "data": {
      "image/png": "[encoded data removed]",
      "text/plain": [
       "<Figure size 432x288 with 2 Axes>"
      ]
     },
     "metadata": {
      "needs_background": "light"
     },
     "output_type": "display_data"
    }
   ],
   "source": [
    "fig, ax = plt.subplots(1, 1)\n",
    "\n",
    "gdf_adm_statistische_quartiere_map_joined.plot(column='sum_Whg_abgebrochen', ax=ax, legend=True, legend_kwds={'label': \"Anzahl abgebrochene Wohnungen 2021\",'orientation': \"horizontal\"})\n",
    "gdf_adm_statistische_quartiere_map_joined.plot(column='sum_Whg_fertigerstellt', ax=ax, legend=False, legend_kwds={'label': \"Anzahl fertigerstellte Wohnungen 2021\",'orientation': \"horizontal\"})\n",
    "\n",
    "#gdf_adm_statistische_quartiere_map_joined.plot(column='sum_Whg_abgebrochen', cmap='viridis', scheme='natural_breaks', legend=True , ax=ax, legend_kwds={'label': \"Anzahl Personen\",'orientation': \"horizontal\"})"
   ]
  },
  {
   "cell_type": "markdown",
   "metadata": {},
   "source": [
    "Noch zu prüfen, folgendes schöne Beispiel: https://docs.bokeh.org/en/latest/docs/user_guide/interaction/legends.html\n",
    "\n",
    "Konkrete Beispiele von Bookeh in Jupyter NB: https://docs.bokeh.org/en/latest/docs/user_guide/jupyter.html"
   ]
  },
  {
   "cell_type": "markdown",
   "metadata": {},
   "source": [
    "**Sharepoint als gecheckt markieren!**"
   ]
  },
  {
   "cell_type": "markdown",
   "metadata": {},
   "source": [
    "Record auf Sharepoint: **[Link](https://kollaboration.intranet.stzh.ch/orga/ssz-produkte/Lists/SASA_Outputs/DispForm.aspx?ID=330&ContentTypeId=0x0100988EAF029F1EFE4CA675F53C32A5D53D01006DBC563E6FBE9E4EB6FDC780799752E1)**"
   ]
  },
  {
   "cell_type": "code",
   "execution_count": null,
   "metadata": {},
   "outputs": [],
   "source": []
  },
  {
   "cell_type": "raw",
   "metadata": {},
   "source": []
  },
  {
   "cell_type": "code",
   "execution_count": null,
   "metadata": {},
   "outputs": [],
   "source": []
  }
 ],
 "metadata": {
  "kernelspec": {
   "display_name": "Python 3 (ipykernel)",
   "language": "python",
   "name": "python3"
  },
  "language_info": {
   "codemirror_mode": {
    "name": "ipython",
    "version": 3
   },
   "file_extension": ".py",
   "mimetype": "text/x-python",
   "name": "python",
   "nbconvert_exporter": "python",
   "pygments_lexer": "ipython3",
   "version": "3.9.7"
  }
 },
 "nbformat": 4,
 "nbformat_minor": 4
}
