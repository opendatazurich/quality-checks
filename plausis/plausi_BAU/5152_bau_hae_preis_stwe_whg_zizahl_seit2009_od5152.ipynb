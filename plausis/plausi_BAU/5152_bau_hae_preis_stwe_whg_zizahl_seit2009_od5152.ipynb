{
 "cells": [
  {
   "cell_type": "markdown",
   "metadata": {},
   "source": [
    "# Testing\n",
    "### Wohnflächenpreise (Median) der im Freihandkauf umgesetzten Wohnungen im Stockwerkeigentum nach Zimmerzahl seit 2009\n",
    "\n",
    "Diese Daten beinhalten die Medianpreise pro Quadratmeter Wohnfläche von im Freihandkauf gehandelten Wohnungen im Stockwerkeigentum in der Stadt Zürich nach Handänderungsjahr und Zimmerzahl. Zusätzlich sind noch die absoluten Preise von im Freihandgekauf gehandelten Wohnungen im Stockwerkeigentum nach Zimmerzahl aufgeführt.\n",
    "\n",
    "Datum: 07.02.2022"
   ]
  },
  {
   "cell_type": "markdown",
   "metadata": {},
   "source": [
    "### Importiere die notwendigen Packages"
   ]
  },
  {
   "cell_type": "code",
   "execution_count": 7,
   "metadata": {},
   "outputs": [],
   "source": [
    "#%pip install geopandas altair fiona requests folium mplleaflet contextily seaborn datetime plotly leafmap"
   ]
  },
  {
   "cell_type": "code",
   "execution_count": 8,
   "metadata": {},
   "outputs": [],
   "source": [
    "import pandas as pd\n",
    "import pivottablejs\n",
    "from pivottablejs import pivot_ui\n",
    "import numpy as np\n",
    "import altair as alt\n",
    "import matplotlib.pyplot as plt\n",
    "#from datetime import datetime\n",
    "import datetime\n",
    "import geopandas as gpd\n",
    "import folium \n",
    "import plotly.express as px\n",
    "import seaborn as sns\n",
    "import leafmap\n"
   ]
  },
  {
   "cell_type": "markdown",
   "metadata": {},
   "source": [
    "Definiere Settings. Hier das Zahlenformat von Float-Werten (z.B. *'{:,.2f}'.format* mit Komma als Tausenderzeichen), "
   ]
  },
  {
   "cell_type": "code",
   "execution_count": 9,
   "metadata": {},
   "outputs": [],
   "source": [
    "pd.options.display.float_format = '{:.0f}'.format\n",
    "pd.set_option('display.width', 100)\n",
    "pd.set_option('display.max_columns', 15)"
   ]
  },
  {
   "cell_type": "markdown",
   "metadata": {},
   "source": [
    "### Zeitvariabeln\n",
    "Bestimme den aktuellst geladenen Monat. Hier ist es der Stand vor 2 Monaten. \n",
    "Bestimme noch weitere evt. sinnvolle Zeitvariabeln.\n",
    "\n",
    "Zum Unterschied zwischen import datetime und from datedtime import datetime, siehe https://stackoverflow.com/questions/15707532/import-datetime-v-s-from-datetime-import-datetime\n",
    "\n",
    "Zuerst die Zeitvariabeln als Strings"
   ]
  },
  {
   "cell_type": "code",
   "execution_count": 10,
   "metadata": {},
   "outputs": [],
   "source": [
    "#today_date = datetime.date.today()\n",
    "#date_time = datetime.datetime.strptime(date_time_string, '%Y-%m-%d %H:%M')\n",
    "now = datetime.date.today()\n",
    "date_today = now.strftime(\"%Y-%m-%d\")\n",
    "year_today = now.strftime(\"%Y\")\n",
    "month_today = now.strftime(\"%m\")\n",
    "day_today = now.strftime(\"%d\")\n"
   ]
  },
  {
   "cell_type": "markdown",
   "metadata": {},
   "source": [
    "Und hier noch die Zeitvariabeln als Integers:\n",
    "- `aktuellesJahr`\n",
    "- `aktuellerMonat`: Der gerade jetzt aktuelle Monat\n",
    "- `selectedMonat`: Der aktuellste Monat in den Daten. In der Regel zwei Monate her."
   ]
  },
  {
   "cell_type": "code",
   "execution_count": 11,
   "metadata": {},
   "outputs": [
    {
     "name": "stdout",
     "output_type": "stream",
     "text": [
      "2022 2 datenstand:  0 time.struct_time(tm_year=2022, tm_mon=2, tm_mday=7, tm_hour=0, tm_min=0, tm_sec=0, tm_wday=0, tm_yday=38, tm_isdst=-1)\n"
     ]
    }
   ],
   "source": [
    "#now = datetime.now() \n",
    "int_times = now.timetuple()\n",
    "\n",
    "aktuellesJahr = int_times[0]\n",
    "aktuellerMonat = int_times[1]\n",
    "selectedMonat = int_times[1]-2\n",
    "\n",
    "print(aktuellesJahr, \n",
    "      aktuellerMonat,\n",
    "    'datenstand: ', selectedMonat,\n",
    "     int_times)\n"
   ]
  },
  {
   "cell_type": "markdown",
   "metadata": {},
   "source": [
    "Berechne die Variable Epoche um später das SAS-Datum in ein Unix-Datum umzuwandeln. Bei SAS beginnt die Epoche am 1.1.1960. Bei Unix am 1.1.1970.\n",
    "Diese Variable wird beim CSV-Import benötigt."
   ]
  },
  {
   "cell_type": "code",
   "execution_count": 12,
   "metadata": {},
   "outputs": [],
   "source": [
    "epoch = datetime.datetime(1960, 1, 1)"
   ]
  },
  {
   "cell_type": "markdown",
   "metadata": {
    "tags": []
   },
   "source": [
    "### Importiere einen Datensatz \n",
    "\n",
    "- Beachte dabei die Notation des Pfades...\n",
    "- Definiere mal aktuell noch keine weiteren Parameter beim Import"
   ]
  },
  {
   "cell_type": "markdown",
   "metadata": {},
   "source": [
    "**Dataset auf INTEG Datenkatalog**:  https://data.integ.stadt-zuerich.ch/dataset/int_dwh_bau_hae_preis_stwe_whg_zizahl_seit2009_od5152\n",
    "\n",
    "**Dataset auf PROD Datenkatalog**:  https://data.stadt-zuerich.ch/dataset/bau_hae_preis_stwe_whg_zizahl_seit2009_od5152\n"
   ]
  },
  {
   "cell_type": "code",
   "execution_count": 13,
   "metadata": {},
   "outputs": [
    {
     "name": "stdout",
     "output_type": "stream",
     "text": [
      "int\n"
     ]
    }
   ],
   "source": [
    "#Die Datasets sind nur zum Testen auf INT-DWH-Dropzone. Wenn der Test vorbei ist, sind sie auf PROD. \n",
    "# Über den Status kann man einfach switchen\n",
    "\n",
    "status = \"int\";\n",
    "print(status)"
   ]
  },
  {
   "cell_type": "code",
   "execution_count": 14,
   "metadata": {
    "tags": []
   },
   "outputs": [
    {
     "name": "stdout",
     "output_type": "stream",
     "text": [
      "\\\\szh\\ssz\\applikationen\\OGD_Dropzone\\INT_DWH\\bau_hae_preis_stwe_whg_zizahl_seit2009_od5152\\BAU515OD5152.csv\n"
     ]
    }
   ],
   "source": [
    "# Filepath\n",
    "if status == \"prod\":\n",
    "    fp = r\"https://data.stadt-zuerich.ch/dataset/bau_hae_preis_stwe_whg_zizahl_seit2009_od5152/download/BAU515OD5152.csv\"\n",
    "else:\n",
    "    fp = r\"\\\\szh\\ssz\\applikationen\\OGD_Dropzone\\INT_DWH\\bau_hae_preis_stwe_whg_zizahl_seit2009_od5152\\BAU515OD5152.csv\"   \n",
    "\n",
    "print(fp)"
   ]
  },
  {
   "cell_type": "code",
   "execution_count": 15,
   "metadata": {},
   "outputs": [
    {
     "name": "stdout",
     "output_type": "stream",
     "text": [
      "done\n"
     ]
    }
   ],
   "source": [
    "# Read the data\n",
    "data2betested = pd.read_csv(\n",
    "    fp\n",
    "    , sep=','\n",
    "    ,parse_dates=['Jahr']\n",
    "    # KONVERTIERE DAS SAS DATUM IN EIN UNIXDATUM UND FORMATIERE ES\n",
    "    #, date_parser=lambda s: epoch + datetime.timedelta(days=int(s))\n",
    "    ,low_memory=False    \n",
    "    )\n",
    "\n",
    "print('done')"
   ]
  },
  {
   "cell_type": "markdown",
   "metadata": {},
   "source": [
    "In der Folge ein paar erste Tests:"
   ]
  },
  {
   "cell_type": "markdown",
   "metadata": {},
   "source": [
    " - 1) Zeige eine kurze Vorschau der importierten Daten\n",
    " - 2) Weise die Datentypen aus\n",
    " - 3) Zeige die Shape (Umfang) des Datensatzes an"
   ]
  },
  {
   "cell_type": "code",
   "execution_count": 16,
   "metadata": {},
   "outputs": [],
   "source": [
    "#data2betested.head(6)"
   ]
  },
  {
   "cell_type": "code",
   "execution_count": 17,
   "metadata": {},
   "outputs": [
    {
     "data": {
      "text/plain": [
       "Jahr              datetime64[ns]\n",
       "Zimmerzahl                object\n",
       "Zimmerzahl_S               int64\n",
       "Medianqmp                  int64\n",
       "Medianwhgpreis             int64\n",
       "Anzahl_HAE                object\n",
       "dtype: object"
      ]
     },
     "execution_count": 43,
     "metadata": {},
     "output_type": "execute_result"
    }
   ],
   "source": [
    "data2betested.dtypes"
   ]
  },
  {
   "cell_type": "code",
   "execution_count": 18,
   "metadata": {},
   "outputs": [
    {
     "data": {
      "text/plain": [
       "(101, 6)"
      ]
     },
     "execution_count": 44,
     "metadata": {},
     "output_type": "execute_result"
    }
   ],
   "source": [
    "data2betested.shape"
   ]
  },
  {
   "cell_type": "markdown",
   "metadata": {},
   "source": [
    "Beschreibe einzelne Attribute"
   ]
  },
  {
   "cell_type": "code",
   "execution_count": 19,
   "metadata": {},
   "outputs": [
    {
     "data": {
      "text/html": [
       "<div>\n",
       "<style scoped>\n",
       "    .dataframe tbody tr th:only-of-type {\n",
       "        vertical-align: middle;\n",
       "    }\n",
       "\n",
       "    .dataframe tbody tr th {\n",
       "        vertical-align: top;\n",
       "    }\n",
       "\n",
       "    .dataframe thead th {\n",
       "        text-align: right;\n",
       "    }\n",
       "</style>\n",
       "<table border=\"1\" class=\"dataframe\">\n",
       "  <thead>\n",
       "    <tr style=\"text-align: right;\">\n",
       "      <th></th>\n",
       "      <th>Zimmerzahl_S</th>\n",
       "      <th>Medianqmp</th>\n",
       "      <th>Medianwhgpreis</th>\n",
       "    </tr>\n",
       "  </thead>\n",
       "  <tbody>\n",
       "    <tr>\n",
       "      <th>count</th>\n",
       "      <td>101</td>\n",
       "      <td>101</td>\n",
       "      <td>101</td>\n",
       "    </tr>\n",
       "    <tr>\n",
       "      <th>mean</th>\n",
       "      <td>4</td>\n",
       "      <td>11620</td>\n",
       "      <td>1783532</td>\n",
       "    </tr>\n",
       "    <tr>\n",
       "      <th>std</th>\n",
       "      <td>2</td>\n",
       "      <td>3051</td>\n",
       "      <td>1518527</td>\n",
       "    </tr>\n",
       "    <tr>\n",
       "      <th>min</th>\n",
       "      <td>1</td>\n",
       "      <td>5660</td>\n",
       "      <td>265000</td>\n",
       "    </tr>\n",
       "    <tr>\n",
       "      <th>25%</th>\n",
       "      <td>2</td>\n",
       "      <td>9310</td>\n",
       "      <td>825000</td>\n",
       "    </tr>\n",
       "    <tr>\n",
       "      <th>50%</th>\n",
       "      <td>4</td>\n",
       "      <td>11420</td>\n",
       "      <td>1362500</td>\n",
       "    </tr>\n",
       "    <tr>\n",
       "      <th>75%</th>\n",
       "      <td>6</td>\n",
       "      <td>12950</td>\n",
       "      <td>2142000</td>\n",
       "    </tr>\n",
       "    <tr>\n",
       "      <th>max</th>\n",
       "      <td>8</td>\n",
       "      <td>23540</td>\n",
       "      <td>9192950</td>\n",
       "    </tr>\n",
       "  </tbody>\n",
       "</table>\n",
       "</div>"
      ],
      "text/plain": [
       "       Zimmerzahl_S  Medianqmp  Medianwhgpreis\n",
       "count           101        101             101\n",
       "mean              4      11620         1783532\n",
       "std               2       3051         1518527\n",
       "min               1       5660          265000\n",
       "25%               2       9310          825000\n",
       "50%               4      11420         1362500\n",
       "75%               6      12950         2142000\n",
       "max               8      23540         9192950"
      ]
     },
     "execution_count": 45,
     "metadata": {},
     "output_type": "execute_result"
    }
   ],
   "source": [
    "data2betested.describe()"
   ]
  },
  {
   "cell_type": "markdown",
   "metadata": {},
   "source": [
    "Wie viele Nullwerte gibt es im Datensatz?"
   ]
  },
  {
   "cell_type": "code",
   "execution_count": 20,
   "metadata": {
    "scrolled": true
   },
   "outputs": [
    {
     "data": {
      "text/plain": [
       "Jahr              0\n",
       "Zimmerzahl        0\n",
       "Zimmerzahl_S      0\n",
       "Medianqmp         0\n",
       "Medianwhgpreis    0\n",
       "Anzahl_HAE        0\n",
       "dtype: int64"
      ]
     },
     "execution_count": 46,
     "metadata": {},
     "output_type": "execute_result"
    }
   ],
   "source": [
    "data2betested.isnull().sum()"
   ]
  },
  {
   "cell_type": "markdown",
   "metadata": {
    "colab_type": "text",
    "id": "1dTPVmmsgOVx"
   },
   "source": [
    "### Verwende das Datum als Index\n",
    "\n",
    "While we did already parse the `datetime` column into the respective datetime type, it currently is just a regular column. \n",
    "**To enable quick and convenient queries and aggregations, we need to turn it into the index of the DataFrame**"
   ]
  },
  {
   "cell_type": "code",
   "execution_count": 51,
   "metadata": {},
   "outputs": [],
   "source": [
    "data2betested = data2betested.set_index(\"Jahr\")"
   ]
  },
  {
   "cell_type": "code",
   "execution_count": 52,
   "metadata": {},
   "outputs": [
    {
     "name": "stdout",
     "output_type": "stream",
     "text": [
      "<class 'pandas.core.frame.DataFrame'>\n",
      "DatetimeIndex: 101 entries, 2009-01-01 to 2021-01-01\n",
      "Data columns (total 5 columns):\n",
      " #   Column          Non-Null Count  Dtype \n",
      "---  ------          --------------  ----- \n",
      " 0   Zimmerzahl      101 non-null    object\n",
      " 1   Zimmerzahl_S    101 non-null    int64 \n",
      " 2   Medianqmp       101 non-null    int64 \n",
      " 3   Medianwhgpreis  101 non-null    int64 \n",
      " 4   Anzahl_HAE      101 non-null    object\n",
      "dtypes: int64(3), object(2)\n",
      "memory usage: 4.7+ KB\n"
     ]
    },
    {
     "data": {
      "text/plain": [
       "Int64Index([1], dtype='int64', name='Jahr')"
      ]
     },
     "execution_count": 52,
     "metadata": {},
     "output_type": "execute_result"
    }
   ],
   "source": [
    "data2betested.info()\n",
    "data2betested.index.day.unique()"
   ]
  },
  {
   "cell_type": "markdown",
   "metadata": {},
   "source": [
    "### Einfache Visualisierungen zur Plausi"
   ]
  },
  {
   "cell_type": "markdown",
   "metadata": {},
   "source": [
    "Exploriere die Daten mit Pivottable.JS"
   ]
  },
  {
   "cell_type": "code",
   "execution_count": 53,
   "metadata": {},
   "outputs": [
    {
     "data": {
      "text/html": [
       "\n",
       "        <iframe\n",
       "            width=\"100%\"\n",
       "            height=\"500\"\n",
       "            src=\"pivottablejs.html\"\n",
       "            frameborder=\"0\"\n",
       "            allowfullscreen\n",
       "        ></iframe>\n",
       "        "
      ],
      "text/plain": [
       "<IPython.lib.display.IFrame at 0x11f3d86bc10>"
      ]
     },
     "execution_count": 53,
     "metadata": {},
     "output_type": "execute_result"
    }
   ],
   "source": [
    "from pivottablejs import pivot_ui\n",
    "\n",
    "pivot_ui(data2betested)"
   ]
  },
  {
   "cell_type": "markdown",
   "metadata": {},
   "source": [
    "### Zeitpunkte und Zeiträume abfragen\n",
    "\n",
    "A particular powerful feature of the Pandas DataFrame is its indexing capability that also works using time-based entities, such as dates and times. We have already created the index above, so let's put it to use."
   ]
  },
  {
   "cell_type": "code",
   "execution_count": 54,
   "metadata": {},
   "outputs": [
    {
     "data": {
      "text/html": [
       "<div>\n",
       "<style scoped>\n",
       "    .dataframe tbody tr th:only-of-type {\n",
       "        vertical-align: middle;\n",
       "    }\n",
       "\n",
       "    .dataframe tbody tr th {\n",
       "        vertical-align: top;\n",
       "    }\n",
       "\n",
       "    .dataframe thead th {\n",
       "        text-align: right;\n",
       "    }\n",
       "</style>\n",
       "<table border=\"1\" class=\"dataframe\">\n",
       "  <thead>\n",
       "    <tr style=\"text-align: right;\">\n",
       "      <th></th>\n",
       "      <th>Zimmerzahl</th>\n",
       "      <th>Zimmerzahl_S</th>\n",
       "      <th>Medianqmp</th>\n",
       "      <th>Medianwhgpreis</th>\n",
       "      <th>Anzahl_HAE</th>\n",
       "    </tr>\n",
       "    <tr>\n",
       "      <th>Jahr</th>\n",
       "      <th></th>\n",
       "      <th></th>\n",
       "      <th></th>\n",
       "      <th></th>\n",
       "      <th></th>\n",
       "    </tr>\n",
       "  </thead>\n",
       "  <tbody>\n",
       "    <tr>\n",
       "      <th>2021-01-01</th>\n",
       "      <td>1-Zimmerwohnung</td>\n",
       "      <td>1</td>\n",
       "      <td>12160</td>\n",
       "      <td>610000</td>\n",
       "      <td>110</td>\n",
       "    </tr>\n",
       "    <tr>\n",
       "      <th>2021-01-01</th>\n",
       "      <td>2-Zimmerwohnung</td>\n",
       "      <td>2</td>\n",
       "      <td>13530</td>\n",
       "      <td>825000</td>\n",
       "      <td>99</td>\n",
       "    </tr>\n",
       "    <tr>\n",
       "      <th>2021-01-01</th>\n",
       "      <td>3-Zimmerwohnung</td>\n",
       "      <td>3</td>\n",
       "      <td>12650</td>\n",
       "      <td>1192000</td>\n",
       "      <td>284</td>\n",
       "    </tr>\n",
       "    <tr>\n",
       "      <th>2021-01-01</th>\n",
       "      <td>4-Zimmerwohnung</td>\n",
       "      <td>4</td>\n",
       "      <td>13450</td>\n",
       "      <td>1545000</td>\n",
       "      <td>243</td>\n",
       "    </tr>\n",
       "    <tr>\n",
       "      <th>2021-01-01</th>\n",
       "      <td>5-Zimmerwohnung</td>\n",
       "      <td>5</td>\n",
       "      <td>15340</td>\n",
       "      <td>2207500</td>\n",
       "      <td>74</td>\n",
       "    </tr>\n",
       "    <tr>\n",
       "      <th>2021-01-01</th>\n",
       "      <td>6-Zimmerwohnung</td>\n",
       "      <td>6</td>\n",
       "      <td>18550</td>\n",
       "      <td>2880000</td>\n",
       "      <td>7-9</td>\n",
       "    </tr>\n",
       "    <tr>\n",
       "      <th>2021-01-01</th>\n",
       "      <td>7-Zimmerwohnung</td>\n",
       "      <td>7</td>\n",
       "      <td>16440</td>\n",
       "      <td>5224640</td>\n",
       "      <td>1–3</td>\n",
       "    </tr>\n",
       "  </tbody>\n",
       "</table>\n",
       "</div>"
      ],
      "text/plain": [
       "                 Zimmerzahl  Zimmerzahl_S  Medianqmp  Medianwhgpreis Anzahl_HAE\n",
       "Jahr                                                                           \n",
       "2021-01-01  1-Zimmerwohnung             1      12160          610000        110\n",
       "2021-01-01  2-Zimmerwohnung             2      13530          825000         99\n",
       "2021-01-01  3-Zimmerwohnung             3      12650         1192000        284\n",
       "2021-01-01  4-Zimmerwohnung             4      13450         1545000        243\n",
       "2021-01-01  5-Zimmerwohnung             5      15340         2207500         74\n",
       "2021-01-01  6-Zimmerwohnung             6      18550         2880000        7-9\n",
       "2021-01-01  7-Zimmerwohnung             7      16440         5224640        1–3"
      ]
     },
     "execution_count": 54,
     "metadata": {},
     "output_type": "execute_result"
    }
   ],
   "source": [
    "data2betested.loc[\"2021\"].head(20)"
   ]
  },
  {
   "cell_type": "markdown",
   "metadata": {},
   "source": [
    "### Visualisierungen nach Zeitausschnitten"
   ]
  },
  {
   "cell_type": "markdown",
   "metadata": {
    "tags": []
   },
   "source": [
    "#### Entwicklung der Medianquadratmeterwerte seit 2009"
   ]
  },
  {
   "cell_type": "code",
   "execution_count": 55,
   "metadata": {},
   "outputs": [],
   "source": [
    "#data2betested.query('Quartier_Nummer == 33')"
   ]
  },
  {
   "cell_type": "code",
   "execution_count": 65,
   "metadata": {},
   "outputs": [
    {
     "data": {
      "text/html": [
       "\n",
       "<div id=\"altair-viz-4e6403c496b84eb59edaac63fd9dd2fc\"></div>\n",
       "<script type=\"text/javascript\">\n",
       "  (function(spec, embedOpt){\n",
       "    let outputDiv = document.currentScript.previousElementSibling;\n",
       "    if (outputDiv.id !== \"altair-viz-4e6403c496b84eb59edaac63fd9dd2fc\") {\n",
       "      outputDiv = document.getElementById(\"altair-viz-4e6403c496b84eb59edaac63fd9dd2fc\");\n",
       "    }\n",
       "    const paths = {\n",
       "      \"vega\": \"https://cdn.jsdelivr.net/npm//vega@5?noext\",\n",
       "      \"vega-lib\": \"https://cdn.jsdelivr.net/npm//vega-lib?noext\",\n",
       "      \"vega-lite\": \"https://cdn.jsdelivr.net/npm//vega-lite@4.8.1?noext\",\n",
       "      \"vega-embed\": \"https://cdn.jsdelivr.net/npm//vega-embed@6?noext\",\n",
       "    };\n",
       "\n",
       "    function loadScript(lib) {\n",
       "      return new Promise(function(resolve, reject) {\n",
       "        var s = document.createElement('script');\n",
       "        s.src = paths[lib];\n",
       "        s.async = true;\n",
       "        s.onload = () => resolve(paths[lib]);\n",
       "        s.onerror = () => reject(`Error loading script: ${paths[lib]}`);\n",
       "        document.getElementsByTagName(\"head\")[0].appendChild(s);\n",
       "      });\n",
       "    }\n",
       "\n",
       "    function showError(err) {\n",
       "      outputDiv.innerHTML = `<div class=\"error\" style=\"color:red;\">${err}</div>`;\n",
       "      throw err;\n",
       "    }\n",
       "\n",
       "    function displayChart(vegaEmbed) {\n",
       "      vegaEmbed(outputDiv, spec, embedOpt)\n",
       "        .catch(err => showError(`Javascript Error: ${err.message}<br>This usually means there's a typo in your chart specification. See the javascript console for the full traceback.`));\n",
       "    }\n",
       "\n",
       "    if(typeof define === \"function\" && define.amd) {\n",
       "      requirejs.config({paths});\n",
       "      require([\"vega-embed\"], displayChart, err => showError(`Error loading script: ${err.message}`));\n",
       "    } else if (typeof vegaEmbed === \"function\") {\n",
       "      displayChart(vegaEmbed);\n",
       "    } else {\n",
       "      loadScript(\"vega\")\n",
       "        .then(() => loadScript(\"vega-lite\"))\n",
       "        .then(() => loadScript(\"vega-embed\"))\n",
       "        .catch(showError)\n",
       "        .then(() => displayChart(vegaEmbed));\n",
       "    }\n",
       "  })({\"config\": {\"view\": {\"continuousWidth\": 400, \"continuousHeight\": 300}}, \"layer\": [{\"mark\": \"line\", \"encoding\": {\"color\": {\"type\": \"nominal\", \"field\": \"Zimmerzahl\", \"legend\": {\"orient\": \"right\", \"title\": \"Zimmerzahl\"}}, \"size\": {\"condition\": {\"value\": 0.5, \"selection\": {\"not\": \"selector007\"}}, \"value\": 4}, \"tooltip\": [{\"type\": \"temporal\", \"field\": \"Jahr\"}, {\"type\": \"nominal\", \"field\": \"Zimmerzahl\"}, {\"type\": \"quantitative\", \"field\": \"Medianqmp\"}, {\"type\": \"quantitative\", \"field\": \"Medianwhgpreis\"}, {\"type\": \"nominal\", \"field\": \"Anzahl_HAE\"}], \"x\": {\"type\": \"temporal\", \"axis\": {\"title\": \"Jahr\"}, \"field\": \"Jahr\"}, \"y\": {\"type\": \"quantitative\", \"axis\": {\"title\": \"Medianquadratmeterpreis\"}, \"field\": \"Medianqmp\"}}, \"selection\": {\"selector008\": {\"type\": \"interval\", \"bind\": \"scales\", \"encodings\": [\"x\", \"y\"]}}, \"title\": \"Title\"}, {\"mark\": \"circle\", \"encoding\": {\"color\": {\"type\": \"nominal\", \"field\": \"Zimmerzahl\", \"legend\": {\"orient\": \"right\", \"title\": \"Zimmerzahl\"}}, \"opacity\": {\"value\": 0.75}, \"tooltip\": [{\"type\": \"temporal\", \"field\": \"Jahr\"}, {\"type\": \"nominal\", \"field\": \"Zimmerzahl\"}, {\"type\": \"quantitative\", \"field\": \"Medianqmp\"}, {\"type\": \"quantitative\", \"field\": \"Medianwhgpreis\"}, {\"type\": \"nominal\", \"field\": \"Anzahl_HAE\"}], \"x\": {\"type\": \"temporal\", \"axis\": {\"title\": \"Jahr\"}, \"field\": \"Jahr\"}, \"y\": {\"type\": \"quantitative\", \"axis\": {\"title\": \"Medianquadratmeterpreis\"}, \"field\": \"Medianqmp\"}}, \"height\": 350, \"selection\": {\"selector007\": {\"type\": \"single\", \"on\": \"mouseover\", \"fields\": [\"Zimmerzahl\"], \"nearest\": true}}, \"title\": \"Title\", \"width\": 750}], \"data\": {\"name\": \"data-95ebde701f9c97de69d7610c731fdbf0\"}, \"$schema\": \"https://vega.github.io/schema/vega-lite/v4.8.1.json\", \"datasets\": {\"data-95ebde701f9c97de69d7610c731fdbf0\": [{\"Jahr\": \"2009-01-01T00:00:00\", \"Zimmerzahl\": \"1-Zimmerwohnung\", \"Zimmerzahl_S\": 1, \"Medianqmp\": 8550, \"Medianwhgpreis\": 265000, \"Anzahl_HAE\": \"31\"}, {\"Jahr\": \"2009-01-01T00:00:00\", \"Zimmerzahl\": \"2-Zimmerwohnung\", \"Zimmerzahl_S\": 2, \"Medianqmp\": 7800, \"Medianwhgpreis\": 505000, \"Anzahl_HAE\": \"89\"}, {\"Jahr\": \"2009-01-01T00:00:00\", \"Zimmerzahl\": \"3-Zimmerwohnung\", \"Zimmerzahl_S\": 3, \"Medianqmp\": 7390, \"Medianwhgpreis\": 698550, \"Anzahl_HAE\": \"143\"}, {\"Jahr\": \"2009-01-01T00:00:00\", \"Zimmerzahl\": \"4-Zimmerwohnung\", \"Zimmerzahl_S\": 4, \"Medianqmp\": 7580, \"Medianwhgpreis\": 855750, \"Anzahl_HAE\": \"208\"}, {\"Jahr\": \"2009-01-01T00:00:00\", \"Zimmerzahl\": \"5-Zimmerwohnung\", \"Zimmerzahl_S\": 5, \"Medianqmp\": 9120, \"Medianwhgpreis\": 1312500, \"Anzahl_HAE\": \"83\"}, {\"Jahr\": \"2009-01-01T00:00:00\", \"Zimmerzahl\": \"6-Zimmerwohnung\", \"Zimmerzahl_S\": 6, \"Medianqmp\": 7810, \"Medianwhgpreis\": 1465000, \"Anzahl_HAE\": \"33\"}, {\"Jahr\": \"2010-01-01T00:00:00\", \"Zimmerzahl\": \"1-Zimmerwohnung\", \"Zimmerzahl_S\": 1, \"Medianqmp\": 9310, \"Medianwhgpreis\": 293650, \"Anzahl_HAE\": \"34\"}, {\"Jahr\": \"2010-01-01T00:00:00\", \"Zimmerzahl\": \"2-Zimmerwohnung\", \"Zimmerzahl_S\": 2, \"Medianqmp\": 7590, \"Medianwhgpreis\": 522500, \"Anzahl_HAE\": \"82\"}, {\"Jahr\": \"2010-01-01T00:00:00\", \"Zimmerzahl\": \"3-Zimmerwohnung\", \"Zimmerzahl_S\": 3, \"Medianqmp\": 7890, \"Medianwhgpreis\": 790000, \"Anzahl_HAE\": \"223\"}, {\"Jahr\": \"2010-01-01T00:00:00\", \"Zimmerzahl\": \"4-Zimmerwohnung\", \"Zimmerzahl_S\": 4, \"Medianqmp\": 7460, \"Medianwhgpreis\": 940000, \"Anzahl_HAE\": \"253\"}, {\"Jahr\": \"2010-01-01T00:00:00\", \"Zimmerzahl\": \"5-Zimmerwohnung\", \"Zimmerzahl_S\": 5, \"Medianqmp\": 8540, \"Medianwhgpreis\": 1195000, \"Anzahl_HAE\": \"113\"}, {\"Jahr\": \"2010-01-01T00:00:00\", \"Zimmerzahl\": \"6-Zimmerwohnung\", \"Zimmerzahl_S\": 6, \"Medianqmp\": 8060, \"Medianwhgpreis\": 1725250, \"Anzahl_HAE\": \"27\"}, {\"Jahr\": \"2010-01-01T00:00:00\", \"Zimmerzahl\": \"7-Zimmerwohnung\", \"Zimmerzahl_S\": 7, \"Medianqmp\": 6730, \"Medianwhgpreis\": 1285000, \"Anzahl_HAE\": \"6\"}, {\"Jahr\": \"2010-01-01T00:00:00\", \"Zimmerzahl\": \"8 und mehr Zimmerwohnung\", \"Zimmerzahl_S\": 8, \"Medianqmp\": 8490, \"Medianwhgpreis\": 2737500, \"Anzahl_HAE\": \"4\"}, {\"Jahr\": \"2011-01-01T00:00:00\", \"Zimmerzahl\": \"1-Zimmerwohnung\", \"Zimmerzahl_S\": 1, \"Medianqmp\": 9730, \"Medianwhgpreis\": 311000, \"Anzahl_HAE\": \"42\"}, {\"Jahr\": \"2011-01-01T00:00:00\", \"Zimmerzahl\": \"2-Zimmerwohnung\", \"Zimmerzahl_S\": 2, \"Medianqmp\": 9410, \"Medianwhgpreis\": 642500, \"Anzahl_HAE\": \"82\"}, {\"Jahr\": \"2011-01-01T00:00:00\", \"Zimmerzahl\": \"3-Zimmerwohnung\", \"Zimmerzahl_S\": 3, \"Medianqmp\": 7850, \"Medianwhgpreis\": 747500, \"Anzahl_HAE\": \"162\"}, {\"Jahr\": \"2011-01-01T00:00:00\", \"Zimmerzahl\": \"4-Zimmerwohnung\", \"Zimmerzahl_S\": 4, \"Medianqmp\": 8710, \"Medianwhgpreis\": 1000000, \"Anzahl_HAE\": \"183\"}, {\"Jahr\": \"2011-01-01T00:00:00\", \"Zimmerzahl\": \"5-Zimmerwohnung\", \"Zimmerzahl_S\": 5, \"Medianqmp\": 9980, \"Medianwhgpreis\": 1450000, \"Anzahl_HAE\": \"79\"}, {\"Jahr\": \"2011-01-01T00:00:00\", \"Zimmerzahl\": \"6-Zimmerwohnung\", \"Zimmerzahl_S\": 6, \"Medianqmp\": 10940, \"Medianwhgpreis\": 1752500, \"Anzahl_HAE\": \"14\"}, {\"Jahr\": \"2012-01-01T00:00:00\", \"Zimmerzahl\": \"1-Zimmerwohnung\", \"Zimmerzahl_S\": 1, \"Medianqmp\": 7590, \"Medianwhgpreis\": 310000, \"Anzahl_HAE\": \"39\"}, {\"Jahr\": \"2012-01-01T00:00:00\", \"Zimmerzahl\": \"2-Zimmerwohnung\", \"Zimmerzahl_S\": 2, \"Medianqmp\": 10540, \"Medianwhgpreis\": 722000, \"Anzahl_HAE\": \"69\"}, {\"Jahr\": \"2012-01-01T00:00:00\", \"Zimmerzahl\": \"3-Zimmerwohnung\", \"Zimmerzahl_S\": 3, \"Medianqmp\": 8670, \"Medianwhgpreis\": 802000, \"Anzahl_HAE\": \"154\"}, {\"Jahr\": \"2012-01-01T00:00:00\", \"Zimmerzahl\": \"4-Zimmerwohnung\", \"Zimmerzahl_S\": 4, \"Medianqmp\": 10550, \"Medianwhgpreis\": 1340000, \"Anzahl_HAE\": \"148\"}, {\"Jahr\": \"2012-01-01T00:00:00\", \"Zimmerzahl\": \"5-Zimmerwohnung\", \"Zimmerzahl_S\": 5, \"Medianqmp\": 10770, \"Medianwhgpreis\": 1515000, \"Anzahl_HAE\": \"54\"}, {\"Jahr\": \"2012-01-01T00:00:00\", \"Zimmerzahl\": \"6-Zimmerwohnung\", \"Zimmerzahl_S\": 6, \"Medianqmp\": 12360, \"Medianwhgpreis\": 2215000, \"Anzahl_HAE\": \"26\"}, {\"Jahr\": \"2013-01-01T00:00:00\", \"Zimmerzahl\": \"1-Zimmerwohnung\", \"Zimmerzahl_S\": 1, \"Medianqmp\": 10520, \"Medianwhgpreis\": 315430, \"Anzahl_HAE\": \"22\"}, {\"Jahr\": \"2013-01-01T00:00:00\", \"Zimmerzahl\": \"2-Zimmerwohnung\", \"Zimmerzahl_S\": 2, \"Medianqmp\": 8730, \"Medianwhgpreis\": 795000, \"Anzahl_HAE\": \"110\"}, {\"Jahr\": \"2013-01-01T00:00:00\", \"Zimmerzahl\": \"3-Zimmerwohnung\", \"Zimmerzahl_S\": 3, \"Medianqmp\": 9130, \"Medianwhgpreis\": 940000, \"Anzahl_HAE\": \"167\"}, {\"Jahr\": \"2013-01-01T00:00:00\", \"Zimmerzahl\": \"4-Zimmerwohnung\", \"Zimmerzahl_S\": 4, \"Medianqmp\": 10050, \"Medianwhgpreis\": 1237500, \"Anzahl_HAE\": \"152\"}, {\"Jahr\": \"2013-01-01T00:00:00\", \"Zimmerzahl\": \"5-Zimmerwohnung\", \"Zimmerzahl_S\": 5, \"Medianqmp\": 11450, \"Medianwhgpreis\": 1608000, \"Anzahl_HAE\": \"54\"}, {\"Jahr\": \"2013-01-01T00:00:00\", \"Zimmerzahl\": \"6-Zimmerwohnung\", \"Zimmerzahl_S\": 6, \"Medianqmp\": 12580, \"Medianwhgpreis\": 2000000, \"Anzahl_HAE\": \"11\"}, {\"Jahr\": \"2014-01-01T00:00:00\", \"Zimmerzahl\": \"1-Zimmerwohnung\", \"Zimmerzahl_S\": 1, \"Medianqmp\": 11030, \"Medianwhgpreis\": 665000, \"Anzahl_HAE\": \"87\"}, {\"Jahr\": \"2014-01-01T00:00:00\", \"Zimmerzahl\": \"2-Zimmerwohnung\", \"Zimmerzahl_S\": 2, \"Medianqmp\": 11420, \"Medianwhgpreis\": 910000, \"Anzahl_HAE\": \"141\"}, {\"Jahr\": \"2014-01-01T00:00:00\", \"Zimmerzahl\": \"3-Zimmerwohnung\", \"Zimmerzahl_S\": 3, \"Medianqmp\": 10700, \"Medianwhgpreis\": 1060000, \"Anzahl_HAE\": \"216\"}, {\"Jahr\": \"2014-01-01T00:00:00\", \"Zimmerzahl\": \"4-Zimmerwohnung\", \"Zimmerzahl_S\": 4, \"Medianqmp\": 10670, \"Medianwhgpreis\": 1263000, \"Anzahl_HAE\": \"151\"}, {\"Jahr\": \"2014-01-01T00:00:00\", \"Zimmerzahl\": \"5-Zimmerwohnung\", \"Zimmerzahl_S\": 5, \"Medianqmp\": 11170, \"Medianwhgpreis\": 1720090, \"Anzahl_HAE\": \"63\"}, {\"Jahr\": \"2014-01-01T00:00:00\", \"Zimmerzahl\": \"6-Zimmerwohnung\", \"Zimmerzahl_S\": 6, \"Medianqmp\": 12690, \"Medianwhgpreis\": 2175000, \"Anzahl_HAE\": \"14\"}, {\"Jahr\": \"2014-01-01T00:00:00\", \"Zimmerzahl\": \"7-Zimmerwohnung\", \"Zimmerzahl_S\": 7, \"Medianqmp\": 14760, \"Medianwhgpreis\": 3435950, \"Anzahl_HAE\": \"3-5\"}, {\"Jahr\": \"2015-01-01T00:00:00\", \"Zimmerzahl\": \"1-Zimmerwohnung\", \"Zimmerzahl_S\": 1, \"Medianqmp\": 10000, \"Medianwhgpreis\": 470000, \"Anzahl_HAE\": \"33\"}, {\"Jahr\": \"2015-01-01T00:00:00\", \"Zimmerzahl\": \"2-Zimmerwohnung\", \"Zimmerzahl_S\": 2, \"Medianqmp\": 10830, \"Medianwhgpreis\": 755000, \"Anzahl_HAE\": \"162\"}, {\"Jahr\": \"2015-01-01T00:00:00\", \"Zimmerzahl\": \"3-Zimmerwohnung\", \"Zimmerzahl_S\": 3, \"Medianqmp\": 11230, \"Medianwhgpreis\": 1123000, \"Anzahl_HAE\": \"285\"}, {\"Jahr\": \"2015-01-01T00:00:00\", \"Zimmerzahl\": \"4-Zimmerwohnung\", \"Zimmerzahl_S\": 4, \"Medianqmp\": 10730, \"Medianwhgpreis\": 1360000, \"Anzahl_HAE\": \"246\"}, {\"Jahr\": \"2015-01-01T00:00:00\", \"Zimmerzahl\": \"5-Zimmerwohnung\", \"Zimmerzahl_S\": 5, \"Medianqmp\": 11170, \"Medianwhgpreis\": 1695000, \"Anzahl_HAE\": \"105\"}, {\"Jahr\": \"2015-01-01T00:00:00\", \"Zimmerzahl\": \"6-Zimmerwohnung\", \"Zimmerzahl_S\": 6, \"Medianqmp\": 12860, \"Medianwhgpreis\": 2142000, \"Anzahl_HAE\": \"15\"}, {\"Jahr\": \"2015-01-01T00:00:00\", \"Zimmerzahl\": \"7-Zimmerwohnung\", \"Zimmerzahl_S\": 7, \"Medianqmp\": 16640, \"Medianwhgpreis\": 2900000, \"Anzahl_HAE\": \"4\"}, {\"Jahr\": \"2016-01-01T00:00:00\", \"Zimmerzahl\": \"1-Zimmerwohnung\", \"Zimmerzahl_S\": 1, \"Medianqmp\": 11920, \"Medianwhgpreis\": 621000, \"Anzahl_HAE\": \"43\"}, {\"Jahr\": \"2016-01-01T00:00:00\", \"Zimmerzahl\": \"2-Zimmerwohnung\", \"Zimmerzahl_S\": 2, \"Medianqmp\": 12300, \"Medianwhgpreis\": 830000, \"Anzahl_HAE\": \"107\"}, {\"Jahr\": \"2016-01-01T00:00:00\", \"Zimmerzahl\": \"3-Zimmerwohnung\", \"Zimmerzahl_S\": 3, \"Medianqmp\": 10490, \"Medianwhgpreis\": 1045000, \"Anzahl_HAE\": \"229\"}, {\"Jahr\": \"2016-01-01T00:00:00\", \"Zimmerzahl\": \"4-Zimmerwohnung\", \"Zimmerzahl_S\": 4, \"Medianqmp\": 10790, \"Medianwhgpreis\": 1365000, \"Anzahl_HAE\": \"208\"}, {\"Jahr\": \"2016-01-01T00:00:00\", \"Zimmerzahl\": \"5-Zimmerwohnung\", \"Zimmerzahl_S\": 5, \"Medianqmp\": 11610, \"Medianwhgpreis\": 1755000, \"Anzahl_HAE\": \"69\"}, {\"Jahr\": \"2016-01-01T00:00:00\", \"Zimmerzahl\": \"6-Zimmerwohnung\", \"Zimmerzahl_S\": 6, \"Medianqmp\": 13200, \"Medianwhgpreis\": 2380000, \"Anzahl_HAE\": \"11\"}, {\"Jahr\": \"2017-01-01T00:00:00\", \"Zimmerzahl\": \"1-Zimmerwohnung\", \"Zimmerzahl_S\": 1, \"Medianqmp\": 12150, \"Medianwhgpreis\": 410000, \"Anzahl_HAE\": \"27\"}, {\"Jahr\": \"2017-01-01T00:00:00\", \"Zimmerzahl\": \"2-Zimmerwohnung\", \"Zimmerzahl_S\": 2, \"Medianqmp\": 12210, \"Medianwhgpreis\": 899150, \"Anzahl_HAE\": \"114\"}, {\"Jahr\": \"2017-01-01T00:00:00\", \"Zimmerzahl\": \"3-Zimmerwohnung\", \"Zimmerzahl_S\": 3, \"Medianqmp\": 12140, \"Medianwhgpreis\": 1110000, \"Anzahl_HAE\": \"126\"}, {\"Jahr\": \"2017-01-01T00:00:00\", \"Zimmerzahl\": \"4-Zimmerwohnung\", \"Zimmerzahl_S\": 4, \"Medianqmp\": 11860, \"Medianwhgpreis\": 1450000, \"Anzahl_HAE\": \"179\"}, {\"Jahr\": \"2017-01-01T00:00:00\", \"Zimmerzahl\": \"5-Zimmerwohnung\", \"Zimmerzahl_S\": 5, \"Medianqmp\": 12560, \"Medianwhgpreis\": 1900000, \"Anzahl_HAE\": \"71\"}, {\"Jahr\": \"2017-01-01T00:00:00\", \"Zimmerzahl\": \"6-Zimmerwohnung\", \"Zimmerzahl_S\": 6, \"Medianqmp\": 13640, \"Medianwhgpreis\": 2990000, \"Anzahl_HAE\": \"21\"}, {\"Jahr\": \"2017-01-01T00:00:00\", \"Zimmerzahl\": \"8 und mehr Zimmerwohnung\", \"Zimmerzahl_S\": 8, \"Medianqmp\": 17590, \"Medianwhgpreis\": 5335000, \"Anzahl_HAE\": \"5-7\"}, {\"Jahr\": \"2018-01-01T00:00:00\", \"Zimmerzahl\": \"1-Zimmerwohnung\", \"Zimmerzahl_S\": 1, \"Medianqmp\": 10950, \"Medianwhgpreis\": 730000, \"Anzahl_HAE\": \"36\"}, {\"Jahr\": \"2018-01-01T00:00:00\", \"Zimmerzahl\": \"2-Zimmerwohnung\", \"Zimmerzahl_S\": 2, \"Medianqmp\": 11700, \"Medianwhgpreis\": 750000, \"Anzahl_HAE\": \"97\"}, {\"Jahr\": \"2018-01-01T00:00:00\", \"Zimmerzahl\": \"3-Zimmerwohnung\", \"Zimmerzahl_S\": 3, \"Medianqmp\": 11420, \"Medianwhgpreis\": 1020000, \"Anzahl_HAE\": \"186\"}, {\"Jahr\": \"2018-01-01T00:00:00\", \"Zimmerzahl\": \"4-Zimmerwohnung\", \"Zimmerzahl_S\": 4, \"Medianqmp\": 11560, \"Medianwhgpreis\": 1362500, \"Anzahl_HAE\": \"178\"}, {\"Jahr\": \"2018-01-01T00:00:00\", \"Zimmerzahl\": \"5-Zimmerwohnung\", \"Zimmerzahl_S\": 5, \"Medianqmp\": 12430, \"Medianwhgpreis\": 1752500, \"Anzahl_HAE\": \"72\"}, {\"Jahr\": \"2018-01-01T00:00:00\", \"Zimmerzahl\": \"6-Zimmerwohnung\", \"Zimmerzahl_S\": 6, \"Medianqmp\": 12950, \"Medianwhgpreis\": 2550000, \"Anzahl_HAE\": \"11\"}, {\"Jahr\": \"2018-01-01T00:00:00\", \"Zimmerzahl\": \"7-Zimmerwohnung\", \"Zimmerzahl_S\": 7, \"Medianqmp\": 17400, \"Medianwhgpreis\": 3300000, \"Anzahl_HAE\": \"4\"}, {\"Jahr\": \"2019-01-01T00:00:00\", \"Zimmerzahl\": \"1-Zimmerwohnung\", \"Zimmerzahl_S\": 1, \"Medianqmp\": 13350, \"Medianwhgpreis\": 525000, \"Anzahl_HAE\": \"26\"}, {\"Jahr\": \"2019-01-01T00:00:00\", \"Zimmerzahl\": \"2-Zimmerwohnung\", \"Zimmerzahl_S\": 2, \"Medianqmp\": 12500, \"Medianwhgpreis\": 820000, \"Anzahl_HAE\": \"81\"}, {\"Jahr\": \"2019-01-01T00:00:00\", \"Zimmerzahl\": \"3-Zimmerwohnung\", \"Zimmerzahl_S\": 3, \"Medianqmp\": 13130, \"Medianwhgpreis\": 1212500, \"Anzahl_HAE\": \"136\"}, {\"Jahr\": \"2019-01-01T00:00:00\", \"Zimmerzahl\": \"4-Zimmerwohnung\", \"Zimmerzahl_S\": 4, \"Medianqmp\": 12380, \"Medianwhgpreis\": 1380000, \"Anzahl_HAE\": \"141\"}, {\"Jahr\": \"2019-01-01T00:00:00\", \"Zimmerzahl\": \"5-Zimmerwohnung\", \"Zimmerzahl_S\": 5, \"Medianqmp\": 12950, \"Medianwhgpreis\": 1750000, \"Anzahl_HAE\": \"52\"}, {\"Jahr\": \"2019-01-01T00:00:00\", \"Zimmerzahl\": \"6-Zimmerwohnung\", \"Zimmerzahl_S\": 6, \"Medianqmp\": 10640, \"Medianwhgpreis\": 1725000, \"Anzahl_HAE\": \"6-10\"}, {\"Jahr\": \"2020-01-01T00:00:00\", \"Zimmerzahl\": \"1-Zimmerwohnung\", \"Zimmerzahl_S\": 1, \"Medianqmp\": 11270, \"Medianwhgpreis\": 388080, \"Anzahl_HAE\": \"34\"}, {\"Jahr\": \"2020-01-01T00:00:00\", \"Zimmerzahl\": \"2-Zimmerwohnung\", \"Zimmerzahl_S\": 2, \"Medianqmp\": 13060, \"Medianwhgpreis\": 868000, \"Anzahl_HAE\": \"100\"}, {\"Jahr\": \"2020-01-01T00:00:00\", \"Zimmerzahl\": \"3-Zimmerwohnung\", \"Zimmerzahl_S\": 3, \"Medianqmp\": 13130, \"Medianwhgpreis\": 1172500, \"Anzahl_HAE\": \"172\"}, {\"Jahr\": \"2020-01-01T00:00:00\", \"Zimmerzahl\": \"4-Zimmerwohnung\", \"Zimmerzahl_S\": 4, \"Medianqmp\": 12650, \"Medianwhgpreis\": 1495000, \"Anzahl_HAE\": \"165\"}, {\"Jahr\": \"2020-01-01T00:00:00\", \"Zimmerzahl\": \"5-Zimmerwohnung\", \"Zimmerzahl_S\": 5, \"Medianqmp\": 13820, \"Medianwhgpreis\": 2100000, \"Anzahl_HAE\": \"57\"}, {\"Jahr\": \"2020-01-01T00:00:00\", \"Zimmerzahl\": \"6-Zimmerwohnung\", \"Zimmerzahl_S\": 6, \"Medianqmp\": 15720, \"Medianwhgpreis\": 2550000, \"Anzahl_HAE\": \"21\"}, {\"Jahr\": \"2021-01-01T00:00:00\", \"Zimmerzahl\": \"1-Zimmerwohnung\", \"Zimmerzahl_S\": 1, \"Medianqmp\": 12160, \"Medianwhgpreis\": 610000, \"Anzahl_HAE\": \"110\"}, {\"Jahr\": \"2021-01-01T00:00:00\", \"Zimmerzahl\": \"2-Zimmerwohnung\", \"Zimmerzahl_S\": 2, \"Medianqmp\": 13530, \"Medianwhgpreis\": 825000, \"Anzahl_HAE\": \"99\"}, {\"Jahr\": \"2021-01-01T00:00:00\", \"Zimmerzahl\": \"3-Zimmerwohnung\", \"Zimmerzahl_S\": 3, \"Medianqmp\": 12650, \"Medianwhgpreis\": 1192000, \"Anzahl_HAE\": \"284\"}, {\"Jahr\": \"2021-01-01T00:00:00\", \"Zimmerzahl\": \"4-Zimmerwohnung\", \"Zimmerzahl_S\": 4, \"Medianqmp\": 13450, \"Medianwhgpreis\": 1545000, \"Anzahl_HAE\": \"243\"}, {\"Jahr\": \"2021-01-01T00:00:00\", \"Zimmerzahl\": \"5-Zimmerwohnung\", \"Zimmerzahl_S\": 5, \"Medianqmp\": 15340, \"Medianwhgpreis\": 2207500, \"Anzahl_HAE\": \"74\"}, {\"Jahr\": \"2021-01-01T00:00:00\", \"Zimmerzahl\": \"6-Zimmerwohnung\", \"Zimmerzahl_S\": 6, \"Medianqmp\": 18550, \"Medianwhgpreis\": 2880000, \"Anzahl_HAE\": \"7-9\"}]}}, {\"mode\": \"vega-lite\"});\n",
       "</script>"
      ],
      "text/plain": [
       "alt.LayerChart(...)"
      ]
     },
     "execution_count": 65,
     "metadata": {},
     "output_type": "execute_result"
    }
   ],
   "source": [
    "highlight = alt.selection(type='single', on='mouseover', fields=['Zimmerzahl'], nearest=True)\n",
    "#x='date:StichtagDatJahr',\n",
    "base = alt.Chart(data2betested.reset_index().query('Anzahl_HAE != \"1–3\"'), title=\"Title\").encode(\n",
    "    x=alt.X('Jahr', axis=alt.Axis(title='Jahr'))# , axis=alt.Axis(format='%', title='percentage')\n",
    "    , y=alt.X('Medianqmp', axis=alt.Axis(title='Medianquadratmeterpreis'))\n",
    "    , color=alt.Color('Zimmerzahl', legend=alt.Legend(title=\"Zimmerzahl\", orient=\"right\"))  \n",
    "    ,tooltip=['Jahr', 'Zimmerzahl','Medianqmp','Medianwhgpreis','Anzahl_HAE']    \n",
    ")\n",
    "points = base.mark_circle().encode(\n",
    "    opacity=alt.value(0.75)\n",
    ").add_selection(\n",
    "    highlight\n",
    ").properties(\n",
    "    width=750 , height=350\n",
    ")\n",
    "lines = base.mark_line().encode(\n",
    "    size=alt.condition(~highlight, alt.value(0.5), alt.value(4))\n",
    ").interactive()\n",
    "\n",
    "lines + points"
   ]
  },
  {
   "cell_type": "markdown",
   "metadata": {
    "tags": []
   },
   "source": [
    "#### Entwicklung der Medianwohnungspreises nach Zimmerzahl seit 2009"
   ]
  },
  {
   "cell_type": "code",
   "execution_count": 66,
   "metadata": {},
   "outputs": [
    {
     "data": {
      "text/plain": [
       "Index(['Zimmerzahl', 'Zimmerzahl_S', 'Medianqmp', 'Medianwhgpreis', 'Anzahl_HAE'], dtype='object')"
      ]
     },
     "execution_count": 66,
     "metadata": {},
     "output_type": "execute_result"
    }
   ],
   "source": [
    "data2betested.columns"
   ]
  },
  {
   "cell_type": "code",
   "execution_count": 67,
   "metadata": {},
   "outputs": [
    {
     "data": {
      "text/html": [
       "\n",
       "<div id=\"altair-viz-433f8fb269224f26bf24c512c9272641\"></div>\n",
       "<script type=\"text/javascript\">\n",
       "  (function(spec, embedOpt){\n",
       "    let outputDiv = document.currentScript.previousElementSibling;\n",
       "    if (outputDiv.id !== \"altair-viz-433f8fb269224f26bf24c512c9272641\") {\n",
       "      outputDiv = document.getElementById(\"altair-viz-433f8fb269224f26bf24c512c9272641\");\n",
       "    }\n",
       "    const paths = {\n",
       "      \"vega\": \"https://cdn.jsdelivr.net/npm//vega@5?noext\",\n",
       "      \"vega-lib\": \"https://cdn.jsdelivr.net/npm//vega-lib?noext\",\n",
       "      \"vega-lite\": \"https://cdn.jsdelivr.net/npm//vega-lite@4.8.1?noext\",\n",
       "      \"vega-embed\": \"https://cdn.jsdelivr.net/npm//vega-embed@6?noext\",\n",
       "    };\n",
       "\n",
       "    function loadScript(lib) {\n",
       "      return new Promise(function(resolve, reject) {\n",
       "        var s = document.createElement('script');\n",
       "        s.src = paths[lib];\n",
       "        s.async = true;\n",
       "        s.onload = () => resolve(paths[lib]);\n",
       "        s.onerror = () => reject(`Error loading script: ${paths[lib]}`);\n",
       "        document.getElementsByTagName(\"head\")[0].appendChild(s);\n",
       "      });\n",
       "    }\n",
       "\n",
       "    function showError(err) {\n",
       "      outputDiv.innerHTML = `<div class=\"error\" style=\"color:red;\">${err}</div>`;\n",
       "      throw err;\n",
       "    }\n",
       "\n",
       "    function displayChart(vegaEmbed) {\n",
       "      vegaEmbed(outputDiv, spec, embedOpt)\n",
       "        .catch(err => showError(`Javascript Error: ${err.message}<br>This usually means there's a typo in your chart specification. See the javascript console for the full traceback.`));\n",
       "    }\n",
       "\n",
       "    if(typeof define === \"function\" && define.amd) {\n",
       "      requirejs.config({paths});\n",
       "      require([\"vega-embed\"], displayChart, err => showError(`Error loading script: ${err.message}`));\n",
       "    } else if (typeof vegaEmbed === \"function\") {\n",
       "      displayChart(vegaEmbed);\n",
       "    } else {\n",
       "      loadScript(\"vega\")\n",
       "        .then(() => loadScript(\"vega-lite\"))\n",
       "        .then(() => loadScript(\"vega-embed\"))\n",
       "        .catch(showError)\n",
       "        .then(() => displayChart(vegaEmbed));\n",
       "    }\n",
       "  })({\"config\": {\"view\": {\"continuousWidth\": 400, \"continuousHeight\": 300}}, \"layer\": [{\"mark\": \"line\", \"encoding\": {\"color\": {\"type\": \"nominal\", \"field\": \"Zimmerzahl\", \"legend\": {\"orient\": \"right\", \"title\": \"Zimmerzahl\"}}, \"size\": {\"condition\": {\"value\": 0.5, \"selection\": {\"not\": \"selector009\"}}, \"value\": 4}, \"tooltip\": [{\"type\": \"temporal\", \"field\": \"Jahr\"}, {\"type\": \"nominal\", \"field\": \"Zimmerzahl\"}, {\"type\": \"quantitative\", \"field\": \"Medianqmp\"}, {\"type\": \"quantitative\", \"field\": \"Medianwhgpreis\"}, {\"type\": \"nominal\", \"field\": \"Anzahl_HAE\"}], \"x\": {\"type\": \"temporal\", \"axis\": {\"title\": \"Jahr\"}, \"field\": \"Jahr\"}, \"y\": {\"type\": \"quantitative\", \"axis\": {\"title\": \"Medianwohnungspreis\"}, \"field\": \"Medianwhgpreis\"}}, \"selection\": {\"selector010\": {\"type\": \"interval\", \"bind\": \"scales\", \"encodings\": [\"x\", \"y\"]}}, \"title\": \"Title\"}, {\"mark\": \"circle\", \"encoding\": {\"color\": {\"type\": \"nominal\", \"field\": \"Zimmerzahl\", \"legend\": {\"orient\": \"right\", \"title\": \"Zimmerzahl\"}}, \"opacity\": {\"value\": 0.75}, \"tooltip\": [{\"type\": \"temporal\", \"field\": \"Jahr\"}, {\"type\": \"nominal\", \"field\": \"Zimmerzahl\"}, {\"type\": \"quantitative\", \"field\": \"Medianqmp\"}, {\"type\": \"quantitative\", \"field\": \"Medianwhgpreis\"}, {\"type\": \"nominal\", \"field\": \"Anzahl_HAE\"}], \"x\": {\"type\": \"temporal\", \"axis\": {\"title\": \"Jahr\"}, \"field\": \"Jahr\"}, \"y\": {\"type\": \"quantitative\", \"axis\": {\"title\": \"Medianwohnungspreis\"}, \"field\": \"Medianwhgpreis\"}}, \"height\": 350, \"selection\": {\"selector009\": {\"type\": \"single\", \"on\": \"mouseover\", \"fields\": [\"Zimmerzahl\"], \"nearest\": true}}, \"title\": \"Title\", \"width\": 750}], \"data\": {\"name\": \"data-95ebde701f9c97de69d7610c731fdbf0\"}, \"$schema\": \"https://vega.github.io/schema/vega-lite/v4.8.1.json\", \"datasets\": {\"data-95ebde701f9c97de69d7610c731fdbf0\": [{\"Jahr\": \"2009-01-01T00:00:00\", \"Zimmerzahl\": \"1-Zimmerwohnung\", \"Zimmerzahl_S\": 1, \"Medianqmp\": 8550, \"Medianwhgpreis\": 265000, \"Anzahl_HAE\": \"31\"}, {\"Jahr\": \"2009-01-01T00:00:00\", \"Zimmerzahl\": \"2-Zimmerwohnung\", \"Zimmerzahl_S\": 2, \"Medianqmp\": 7800, \"Medianwhgpreis\": 505000, \"Anzahl_HAE\": \"89\"}, {\"Jahr\": \"2009-01-01T00:00:00\", \"Zimmerzahl\": \"3-Zimmerwohnung\", \"Zimmerzahl_S\": 3, \"Medianqmp\": 7390, \"Medianwhgpreis\": 698550, \"Anzahl_HAE\": \"143\"}, {\"Jahr\": \"2009-01-01T00:00:00\", \"Zimmerzahl\": \"4-Zimmerwohnung\", \"Zimmerzahl_S\": 4, \"Medianqmp\": 7580, \"Medianwhgpreis\": 855750, \"Anzahl_HAE\": \"208\"}, {\"Jahr\": \"2009-01-01T00:00:00\", \"Zimmerzahl\": \"5-Zimmerwohnung\", \"Zimmerzahl_S\": 5, \"Medianqmp\": 9120, \"Medianwhgpreis\": 1312500, \"Anzahl_HAE\": \"83\"}, {\"Jahr\": \"2009-01-01T00:00:00\", \"Zimmerzahl\": \"6-Zimmerwohnung\", \"Zimmerzahl_S\": 6, \"Medianqmp\": 7810, \"Medianwhgpreis\": 1465000, \"Anzahl_HAE\": \"33\"}, {\"Jahr\": \"2010-01-01T00:00:00\", \"Zimmerzahl\": \"1-Zimmerwohnung\", \"Zimmerzahl_S\": 1, \"Medianqmp\": 9310, \"Medianwhgpreis\": 293650, \"Anzahl_HAE\": \"34\"}, {\"Jahr\": \"2010-01-01T00:00:00\", \"Zimmerzahl\": \"2-Zimmerwohnung\", \"Zimmerzahl_S\": 2, \"Medianqmp\": 7590, \"Medianwhgpreis\": 522500, \"Anzahl_HAE\": \"82\"}, {\"Jahr\": \"2010-01-01T00:00:00\", \"Zimmerzahl\": \"3-Zimmerwohnung\", \"Zimmerzahl_S\": 3, \"Medianqmp\": 7890, \"Medianwhgpreis\": 790000, \"Anzahl_HAE\": \"223\"}, {\"Jahr\": \"2010-01-01T00:00:00\", \"Zimmerzahl\": \"4-Zimmerwohnung\", \"Zimmerzahl_S\": 4, \"Medianqmp\": 7460, \"Medianwhgpreis\": 940000, \"Anzahl_HAE\": \"253\"}, {\"Jahr\": \"2010-01-01T00:00:00\", \"Zimmerzahl\": \"5-Zimmerwohnung\", \"Zimmerzahl_S\": 5, \"Medianqmp\": 8540, \"Medianwhgpreis\": 1195000, \"Anzahl_HAE\": \"113\"}, {\"Jahr\": \"2010-01-01T00:00:00\", \"Zimmerzahl\": \"6-Zimmerwohnung\", \"Zimmerzahl_S\": 6, \"Medianqmp\": 8060, \"Medianwhgpreis\": 1725250, \"Anzahl_HAE\": \"27\"}, {\"Jahr\": \"2010-01-01T00:00:00\", \"Zimmerzahl\": \"7-Zimmerwohnung\", \"Zimmerzahl_S\": 7, \"Medianqmp\": 6730, \"Medianwhgpreis\": 1285000, \"Anzahl_HAE\": \"6\"}, {\"Jahr\": \"2010-01-01T00:00:00\", \"Zimmerzahl\": \"8 und mehr Zimmerwohnung\", \"Zimmerzahl_S\": 8, \"Medianqmp\": 8490, \"Medianwhgpreis\": 2737500, \"Anzahl_HAE\": \"4\"}, {\"Jahr\": \"2011-01-01T00:00:00\", \"Zimmerzahl\": \"1-Zimmerwohnung\", \"Zimmerzahl_S\": 1, \"Medianqmp\": 9730, \"Medianwhgpreis\": 311000, \"Anzahl_HAE\": \"42\"}, {\"Jahr\": \"2011-01-01T00:00:00\", \"Zimmerzahl\": \"2-Zimmerwohnung\", \"Zimmerzahl_S\": 2, \"Medianqmp\": 9410, \"Medianwhgpreis\": 642500, \"Anzahl_HAE\": \"82\"}, {\"Jahr\": \"2011-01-01T00:00:00\", \"Zimmerzahl\": \"3-Zimmerwohnung\", \"Zimmerzahl_S\": 3, \"Medianqmp\": 7850, \"Medianwhgpreis\": 747500, \"Anzahl_HAE\": \"162\"}, {\"Jahr\": \"2011-01-01T00:00:00\", \"Zimmerzahl\": \"4-Zimmerwohnung\", \"Zimmerzahl_S\": 4, \"Medianqmp\": 8710, \"Medianwhgpreis\": 1000000, \"Anzahl_HAE\": \"183\"}, {\"Jahr\": \"2011-01-01T00:00:00\", \"Zimmerzahl\": \"5-Zimmerwohnung\", \"Zimmerzahl_S\": 5, \"Medianqmp\": 9980, \"Medianwhgpreis\": 1450000, \"Anzahl_HAE\": \"79\"}, {\"Jahr\": \"2011-01-01T00:00:00\", \"Zimmerzahl\": \"6-Zimmerwohnung\", \"Zimmerzahl_S\": 6, \"Medianqmp\": 10940, \"Medianwhgpreis\": 1752500, \"Anzahl_HAE\": \"14\"}, {\"Jahr\": \"2012-01-01T00:00:00\", \"Zimmerzahl\": \"1-Zimmerwohnung\", \"Zimmerzahl_S\": 1, \"Medianqmp\": 7590, \"Medianwhgpreis\": 310000, \"Anzahl_HAE\": \"39\"}, {\"Jahr\": \"2012-01-01T00:00:00\", \"Zimmerzahl\": \"2-Zimmerwohnung\", \"Zimmerzahl_S\": 2, \"Medianqmp\": 10540, \"Medianwhgpreis\": 722000, \"Anzahl_HAE\": \"69\"}, {\"Jahr\": \"2012-01-01T00:00:00\", \"Zimmerzahl\": \"3-Zimmerwohnung\", \"Zimmerzahl_S\": 3, \"Medianqmp\": 8670, \"Medianwhgpreis\": 802000, \"Anzahl_HAE\": \"154\"}, {\"Jahr\": \"2012-01-01T00:00:00\", \"Zimmerzahl\": \"4-Zimmerwohnung\", \"Zimmerzahl_S\": 4, \"Medianqmp\": 10550, \"Medianwhgpreis\": 1340000, \"Anzahl_HAE\": \"148\"}, {\"Jahr\": \"2012-01-01T00:00:00\", \"Zimmerzahl\": \"5-Zimmerwohnung\", \"Zimmerzahl_S\": 5, \"Medianqmp\": 10770, \"Medianwhgpreis\": 1515000, \"Anzahl_HAE\": \"54\"}, {\"Jahr\": \"2012-01-01T00:00:00\", \"Zimmerzahl\": \"6-Zimmerwohnung\", \"Zimmerzahl_S\": 6, \"Medianqmp\": 12360, \"Medianwhgpreis\": 2215000, \"Anzahl_HAE\": \"26\"}, {\"Jahr\": \"2013-01-01T00:00:00\", \"Zimmerzahl\": \"1-Zimmerwohnung\", \"Zimmerzahl_S\": 1, \"Medianqmp\": 10520, \"Medianwhgpreis\": 315430, \"Anzahl_HAE\": \"22\"}, {\"Jahr\": \"2013-01-01T00:00:00\", \"Zimmerzahl\": \"2-Zimmerwohnung\", \"Zimmerzahl_S\": 2, \"Medianqmp\": 8730, \"Medianwhgpreis\": 795000, \"Anzahl_HAE\": \"110\"}, {\"Jahr\": \"2013-01-01T00:00:00\", \"Zimmerzahl\": \"3-Zimmerwohnung\", \"Zimmerzahl_S\": 3, \"Medianqmp\": 9130, \"Medianwhgpreis\": 940000, \"Anzahl_HAE\": \"167\"}, {\"Jahr\": \"2013-01-01T00:00:00\", \"Zimmerzahl\": \"4-Zimmerwohnung\", \"Zimmerzahl_S\": 4, \"Medianqmp\": 10050, \"Medianwhgpreis\": 1237500, \"Anzahl_HAE\": \"152\"}, {\"Jahr\": \"2013-01-01T00:00:00\", \"Zimmerzahl\": \"5-Zimmerwohnung\", \"Zimmerzahl_S\": 5, \"Medianqmp\": 11450, \"Medianwhgpreis\": 1608000, \"Anzahl_HAE\": \"54\"}, {\"Jahr\": \"2013-01-01T00:00:00\", \"Zimmerzahl\": \"6-Zimmerwohnung\", \"Zimmerzahl_S\": 6, \"Medianqmp\": 12580, \"Medianwhgpreis\": 2000000, \"Anzahl_HAE\": \"11\"}, {\"Jahr\": \"2014-01-01T00:00:00\", \"Zimmerzahl\": \"1-Zimmerwohnung\", \"Zimmerzahl_S\": 1, \"Medianqmp\": 11030, \"Medianwhgpreis\": 665000, \"Anzahl_HAE\": \"87\"}, {\"Jahr\": \"2014-01-01T00:00:00\", \"Zimmerzahl\": \"2-Zimmerwohnung\", \"Zimmerzahl_S\": 2, \"Medianqmp\": 11420, \"Medianwhgpreis\": 910000, \"Anzahl_HAE\": \"141\"}, {\"Jahr\": \"2014-01-01T00:00:00\", \"Zimmerzahl\": \"3-Zimmerwohnung\", \"Zimmerzahl_S\": 3, \"Medianqmp\": 10700, \"Medianwhgpreis\": 1060000, \"Anzahl_HAE\": \"216\"}, {\"Jahr\": \"2014-01-01T00:00:00\", \"Zimmerzahl\": \"4-Zimmerwohnung\", \"Zimmerzahl_S\": 4, \"Medianqmp\": 10670, \"Medianwhgpreis\": 1263000, \"Anzahl_HAE\": \"151\"}, {\"Jahr\": \"2014-01-01T00:00:00\", \"Zimmerzahl\": \"5-Zimmerwohnung\", \"Zimmerzahl_S\": 5, \"Medianqmp\": 11170, \"Medianwhgpreis\": 1720090, \"Anzahl_HAE\": \"63\"}, {\"Jahr\": \"2014-01-01T00:00:00\", \"Zimmerzahl\": \"6-Zimmerwohnung\", \"Zimmerzahl_S\": 6, \"Medianqmp\": 12690, \"Medianwhgpreis\": 2175000, \"Anzahl_HAE\": \"14\"}, {\"Jahr\": \"2014-01-01T00:00:00\", \"Zimmerzahl\": \"7-Zimmerwohnung\", \"Zimmerzahl_S\": 7, \"Medianqmp\": 14760, \"Medianwhgpreis\": 3435950, \"Anzahl_HAE\": \"3-5\"}, {\"Jahr\": \"2015-01-01T00:00:00\", \"Zimmerzahl\": \"1-Zimmerwohnung\", \"Zimmerzahl_S\": 1, \"Medianqmp\": 10000, \"Medianwhgpreis\": 470000, \"Anzahl_HAE\": \"33\"}, {\"Jahr\": \"2015-01-01T00:00:00\", \"Zimmerzahl\": \"2-Zimmerwohnung\", \"Zimmerzahl_S\": 2, \"Medianqmp\": 10830, \"Medianwhgpreis\": 755000, \"Anzahl_HAE\": \"162\"}, {\"Jahr\": \"2015-01-01T00:00:00\", \"Zimmerzahl\": \"3-Zimmerwohnung\", \"Zimmerzahl_S\": 3, \"Medianqmp\": 11230, \"Medianwhgpreis\": 1123000, \"Anzahl_HAE\": \"285\"}, {\"Jahr\": \"2015-01-01T00:00:00\", \"Zimmerzahl\": \"4-Zimmerwohnung\", \"Zimmerzahl_S\": 4, \"Medianqmp\": 10730, \"Medianwhgpreis\": 1360000, \"Anzahl_HAE\": \"246\"}, {\"Jahr\": \"2015-01-01T00:00:00\", \"Zimmerzahl\": \"5-Zimmerwohnung\", \"Zimmerzahl_S\": 5, \"Medianqmp\": 11170, \"Medianwhgpreis\": 1695000, \"Anzahl_HAE\": \"105\"}, {\"Jahr\": \"2015-01-01T00:00:00\", \"Zimmerzahl\": \"6-Zimmerwohnung\", \"Zimmerzahl_S\": 6, \"Medianqmp\": 12860, \"Medianwhgpreis\": 2142000, \"Anzahl_HAE\": \"15\"}, {\"Jahr\": \"2015-01-01T00:00:00\", \"Zimmerzahl\": \"7-Zimmerwohnung\", \"Zimmerzahl_S\": 7, \"Medianqmp\": 16640, \"Medianwhgpreis\": 2900000, \"Anzahl_HAE\": \"4\"}, {\"Jahr\": \"2016-01-01T00:00:00\", \"Zimmerzahl\": \"1-Zimmerwohnung\", \"Zimmerzahl_S\": 1, \"Medianqmp\": 11920, \"Medianwhgpreis\": 621000, \"Anzahl_HAE\": \"43\"}, {\"Jahr\": \"2016-01-01T00:00:00\", \"Zimmerzahl\": \"2-Zimmerwohnung\", \"Zimmerzahl_S\": 2, \"Medianqmp\": 12300, \"Medianwhgpreis\": 830000, \"Anzahl_HAE\": \"107\"}, {\"Jahr\": \"2016-01-01T00:00:00\", \"Zimmerzahl\": \"3-Zimmerwohnung\", \"Zimmerzahl_S\": 3, \"Medianqmp\": 10490, \"Medianwhgpreis\": 1045000, \"Anzahl_HAE\": \"229\"}, {\"Jahr\": \"2016-01-01T00:00:00\", \"Zimmerzahl\": \"4-Zimmerwohnung\", \"Zimmerzahl_S\": 4, \"Medianqmp\": 10790, \"Medianwhgpreis\": 1365000, \"Anzahl_HAE\": \"208\"}, {\"Jahr\": \"2016-01-01T00:00:00\", \"Zimmerzahl\": \"5-Zimmerwohnung\", \"Zimmerzahl_S\": 5, \"Medianqmp\": 11610, \"Medianwhgpreis\": 1755000, \"Anzahl_HAE\": \"69\"}, {\"Jahr\": \"2016-01-01T00:00:00\", \"Zimmerzahl\": \"6-Zimmerwohnung\", \"Zimmerzahl_S\": 6, \"Medianqmp\": 13200, \"Medianwhgpreis\": 2380000, \"Anzahl_HAE\": \"11\"}, {\"Jahr\": \"2017-01-01T00:00:00\", \"Zimmerzahl\": \"1-Zimmerwohnung\", \"Zimmerzahl_S\": 1, \"Medianqmp\": 12150, \"Medianwhgpreis\": 410000, \"Anzahl_HAE\": \"27\"}, {\"Jahr\": \"2017-01-01T00:00:00\", \"Zimmerzahl\": \"2-Zimmerwohnung\", \"Zimmerzahl_S\": 2, \"Medianqmp\": 12210, \"Medianwhgpreis\": 899150, \"Anzahl_HAE\": \"114\"}, {\"Jahr\": \"2017-01-01T00:00:00\", \"Zimmerzahl\": \"3-Zimmerwohnung\", \"Zimmerzahl_S\": 3, \"Medianqmp\": 12140, \"Medianwhgpreis\": 1110000, \"Anzahl_HAE\": \"126\"}, {\"Jahr\": \"2017-01-01T00:00:00\", \"Zimmerzahl\": \"4-Zimmerwohnung\", \"Zimmerzahl_S\": 4, \"Medianqmp\": 11860, \"Medianwhgpreis\": 1450000, \"Anzahl_HAE\": \"179\"}, {\"Jahr\": \"2017-01-01T00:00:00\", \"Zimmerzahl\": \"5-Zimmerwohnung\", \"Zimmerzahl_S\": 5, \"Medianqmp\": 12560, \"Medianwhgpreis\": 1900000, \"Anzahl_HAE\": \"71\"}, {\"Jahr\": \"2017-01-01T00:00:00\", \"Zimmerzahl\": \"6-Zimmerwohnung\", \"Zimmerzahl_S\": 6, \"Medianqmp\": 13640, \"Medianwhgpreis\": 2990000, \"Anzahl_HAE\": \"21\"}, {\"Jahr\": \"2017-01-01T00:00:00\", \"Zimmerzahl\": \"8 und mehr Zimmerwohnung\", \"Zimmerzahl_S\": 8, \"Medianqmp\": 17590, \"Medianwhgpreis\": 5335000, \"Anzahl_HAE\": \"5-7\"}, {\"Jahr\": \"2018-01-01T00:00:00\", \"Zimmerzahl\": \"1-Zimmerwohnung\", \"Zimmerzahl_S\": 1, \"Medianqmp\": 10950, \"Medianwhgpreis\": 730000, \"Anzahl_HAE\": \"36\"}, {\"Jahr\": \"2018-01-01T00:00:00\", \"Zimmerzahl\": \"2-Zimmerwohnung\", \"Zimmerzahl_S\": 2, \"Medianqmp\": 11700, \"Medianwhgpreis\": 750000, \"Anzahl_HAE\": \"97\"}, {\"Jahr\": \"2018-01-01T00:00:00\", \"Zimmerzahl\": \"3-Zimmerwohnung\", \"Zimmerzahl_S\": 3, \"Medianqmp\": 11420, \"Medianwhgpreis\": 1020000, \"Anzahl_HAE\": \"186\"}, {\"Jahr\": \"2018-01-01T00:00:00\", \"Zimmerzahl\": \"4-Zimmerwohnung\", \"Zimmerzahl_S\": 4, \"Medianqmp\": 11560, \"Medianwhgpreis\": 1362500, \"Anzahl_HAE\": \"178\"}, {\"Jahr\": \"2018-01-01T00:00:00\", \"Zimmerzahl\": \"5-Zimmerwohnung\", \"Zimmerzahl_S\": 5, \"Medianqmp\": 12430, \"Medianwhgpreis\": 1752500, \"Anzahl_HAE\": \"72\"}, {\"Jahr\": \"2018-01-01T00:00:00\", \"Zimmerzahl\": \"6-Zimmerwohnung\", \"Zimmerzahl_S\": 6, \"Medianqmp\": 12950, \"Medianwhgpreis\": 2550000, \"Anzahl_HAE\": \"11\"}, {\"Jahr\": \"2018-01-01T00:00:00\", \"Zimmerzahl\": \"7-Zimmerwohnung\", \"Zimmerzahl_S\": 7, \"Medianqmp\": 17400, \"Medianwhgpreis\": 3300000, \"Anzahl_HAE\": \"4\"}, {\"Jahr\": \"2019-01-01T00:00:00\", \"Zimmerzahl\": \"1-Zimmerwohnung\", \"Zimmerzahl_S\": 1, \"Medianqmp\": 13350, \"Medianwhgpreis\": 525000, \"Anzahl_HAE\": \"26\"}, {\"Jahr\": \"2019-01-01T00:00:00\", \"Zimmerzahl\": \"2-Zimmerwohnung\", \"Zimmerzahl_S\": 2, \"Medianqmp\": 12500, \"Medianwhgpreis\": 820000, \"Anzahl_HAE\": \"81\"}, {\"Jahr\": \"2019-01-01T00:00:00\", \"Zimmerzahl\": \"3-Zimmerwohnung\", \"Zimmerzahl_S\": 3, \"Medianqmp\": 13130, \"Medianwhgpreis\": 1212500, \"Anzahl_HAE\": \"136\"}, {\"Jahr\": \"2019-01-01T00:00:00\", \"Zimmerzahl\": \"4-Zimmerwohnung\", \"Zimmerzahl_S\": 4, \"Medianqmp\": 12380, \"Medianwhgpreis\": 1380000, \"Anzahl_HAE\": \"141\"}, {\"Jahr\": \"2019-01-01T00:00:00\", \"Zimmerzahl\": \"5-Zimmerwohnung\", \"Zimmerzahl_S\": 5, \"Medianqmp\": 12950, \"Medianwhgpreis\": 1750000, \"Anzahl_HAE\": \"52\"}, {\"Jahr\": \"2019-01-01T00:00:00\", \"Zimmerzahl\": \"6-Zimmerwohnung\", \"Zimmerzahl_S\": 6, \"Medianqmp\": 10640, \"Medianwhgpreis\": 1725000, \"Anzahl_HAE\": \"6-10\"}, {\"Jahr\": \"2020-01-01T00:00:00\", \"Zimmerzahl\": \"1-Zimmerwohnung\", \"Zimmerzahl_S\": 1, \"Medianqmp\": 11270, \"Medianwhgpreis\": 388080, \"Anzahl_HAE\": \"34\"}, {\"Jahr\": \"2020-01-01T00:00:00\", \"Zimmerzahl\": \"2-Zimmerwohnung\", \"Zimmerzahl_S\": 2, \"Medianqmp\": 13060, \"Medianwhgpreis\": 868000, \"Anzahl_HAE\": \"100\"}, {\"Jahr\": \"2020-01-01T00:00:00\", \"Zimmerzahl\": \"3-Zimmerwohnung\", \"Zimmerzahl_S\": 3, \"Medianqmp\": 13130, \"Medianwhgpreis\": 1172500, \"Anzahl_HAE\": \"172\"}, {\"Jahr\": \"2020-01-01T00:00:00\", \"Zimmerzahl\": \"4-Zimmerwohnung\", \"Zimmerzahl_S\": 4, \"Medianqmp\": 12650, \"Medianwhgpreis\": 1495000, \"Anzahl_HAE\": \"165\"}, {\"Jahr\": \"2020-01-01T00:00:00\", \"Zimmerzahl\": \"5-Zimmerwohnung\", \"Zimmerzahl_S\": 5, \"Medianqmp\": 13820, \"Medianwhgpreis\": 2100000, \"Anzahl_HAE\": \"57\"}, {\"Jahr\": \"2020-01-01T00:00:00\", \"Zimmerzahl\": \"6-Zimmerwohnung\", \"Zimmerzahl_S\": 6, \"Medianqmp\": 15720, \"Medianwhgpreis\": 2550000, \"Anzahl_HAE\": \"21\"}, {\"Jahr\": \"2021-01-01T00:00:00\", \"Zimmerzahl\": \"1-Zimmerwohnung\", \"Zimmerzahl_S\": 1, \"Medianqmp\": 12160, \"Medianwhgpreis\": 610000, \"Anzahl_HAE\": \"110\"}, {\"Jahr\": \"2021-01-01T00:00:00\", \"Zimmerzahl\": \"2-Zimmerwohnung\", \"Zimmerzahl_S\": 2, \"Medianqmp\": 13530, \"Medianwhgpreis\": 825000, \"Anzahl_HAE\": \"99\"}, {\"Jahr\": \"2021-01-01T00:00:00\", \"Zimmerzahl\": \"3-Zimmerwohnung\", \"Zimmerzahl_S\": 3, \"Medianqmp\": 12650, \"Medianwhgpreis\": 1192000, \"Anzahl_HAE\": \"284\"}, {\"Jahr\": \"2021-01-01T00:00:00\", \"Zimmerzahl\": \"4-Zimmerwohnung\", \"Zimmerzahl_S\": 4, \"Medianqmp\": 13450, \"Medianwhgpreis\": 1545000, \"Anzahl_HAE\": \"243\"}, {\"Jahr\": \"2021-01-01T00:00:00\", \"Zimmerzahl\": \"5-Zimmerwohnung\", \"Zimmerzahl_S\": 5, \"Medianqmp\": 15340, \"Medianwhgpreis\": 2207500, \"Anzahl_HAE\": \"74\"}, {\"Jahr\": \"2021-01-01T00:00:00\", \"Zimmerzahl\": \"6-Zimmerwohnung\", \"Zimmerzahl_S\": 6, \"Medianqmp\": 18550, \"Medianwhgpreis\": 2880000, \"Anzahl_HAE\": \"7-9\"}]}}, {\"mode\": \"vega-lite\"});\n",
       "</script>"
      ],
      "text/plain": [
       "alt.LayerChart(...)"
      ]
     },
     "execution_count": 67,
     "metadata": {},
     "output_type": "execute_result"
    }
   ],
   "source": [
    "highlight = alt.selection(type='single', on='mouseover', fields=['Zimmerzahl'], nearest=True)\n",
    "#x='date:StichtagDatJahr',\n",
    "base = alt.Chart(data2betested.reset_index().query('Anzahl_HAE != \"1–3\"'), title=\"Title\").encode(\n",
    "    x=alt.X('Jahr', axis=alt.Axis(title='Jahr'))# , axis=alt.Axis(format='%', title='percentage')\n",
    "    , y=alt.X('Medianwhgpreis', axis=alt.Axis(title='Medianwohnungspreis'))\n",
    "    , color=alt.Color('Zimmerzahl', legend=alt.Legend(title=\"Zimmerzahl\", orient=\"right\"))  \n",
    "    ,tooltip=['Jahr', 'Zimmerzahl','Medianqmp','Medianwhgpreis','Anzahl_HAE']    \n",
    ")\n",
    "points = base.mark_circle().encode(\n",
    "    opacity=alt.value(0.75)\n",
    ").add_selection(\n",
    "    highlight\n",
    ").properties(\n",
    "    width=750 , height=350\n",
    ")\n",
    "lines = base.mark_line().encode(\n",
    "    size=alt.condition(~highlight, alt.value(0.5), alt.value(4))\n",
    ").interactive()\n",
    "\n",
    "lines + points"
   ]
  },
  {
   "cell_type": "markdown",
   "metadata": {
    "tags": []
   },
   "source": [
    "#### Barcharts mit Seaborn"
   ]
  },
  {
   "cell_type": "code",
   "execution_count": 57,
   "metadata": {},
   "outputs": [],
   "source": [
    "#help(sns.catplot)     "
   ]
  },
  {
   "cell_type": "code",
   "execution_count": 58,
   "metadata": {},
   "outputs": [],
   "source": [
    "#Stile for the following sns graphs\n",
    "sns.set_theme(style=\"whitegrid\")"
   ]
  },
  {
   "cell_type": "markdown",
   "metadata": {},
   "source": [
    "##### Medianquadratmeterpreise nach Zimmerzahl und Jahr"
   ]
  },
  {
   "cell_type": "code",
   "execution_count": 68,
   "metadata": {},
   "outputs": [
    {
     "data": {
      "text/plain": [
       "Zimmerzahl        object\n",
       "Zimmerzahl_S       int64\n",
       "Medianqmp          int64\n",
       "Medianwhgpreis     int64\n",
       "Anzahl_HAE        object\n",
       "dtype: object"
      ]
     },
     "execution_count": 68,
     "metadata": {},
     "output_type": "execute_result"
    }
   ],
   "source": [
    "data2betested.dtypes"
   ]
  },
  {
   "cell_type": "code",
   "execution_count": 64,
   "metadata": {},
   "outputs": [
    {
     "data": {
      "text/plain": [
       "<seaborn.axisgrid.FacetGrid at 0x11f3f523bb0>"
      ]
     },
     "execution_count": 64,
     "metadata": {},
     "output_type": "execute_result"
    },
    {
     "data": {
      "image/png": "[encoded data removed]",
      "text/plain": [
       "<Figure size 1284.1x360 with 1 Axes>"
      ]
     },
     "metadata": {},
     "output_type": "display_data"
    }
   ],
   "source": [
    "#sns.color_palette(\"flare\", as_cmap=True)\n",
    "myHist = sns.catplot(data=data2betested.loc[\"2009\":\"2021\"].reset_index().query('Zimmerzahl_S > 0')\n",
    "                     , x=\"Zimmerzahl\"\n",
    "            , y=\"Medianqmp\"\n",
    "            , hue=\"Jahr\"\n",
    "            , kind=\"bar\" #boxen, violin, --> wenn die aggregation nicht genau den werten in der grafik entspricht\n",
    "            , palette=\"pastel\" #, color=\"green\"\n",
    "            , height=5\n",
    "            , aspect=3\n",
    "            , order=None, legend_out=True\n",
    "           )\n",
    "myHist.set_xlabels('Zimmerzahl', fontsize=11) # not set_label\n",
    "myHist.set_ylabels('Medianqmp', fontsize=11)\n"
   ]
  },
  {
   "cell_type": "code",
   "execution_count": 61,
   "metadata": {},
   "outputs": [
    {
     "data": {
      "text/plain": [
       "Zimmerzahl        object\n",
       "Zimmerzahl_S       int64\n",
       "Medianqmp          int64\n",
       "Medianwhgpreis     int64\n",
       "Anzahl_HAE        object\n",
       "dtype: object"
      ]
     },
     "execution_count": 61,
     "metadata": {},
     "output_type": "execute_result"
    }
   ],
   "source": [
    "data2betested.dtypes"
   ]
  },
  {
   "cell_type": "markdown",
   "metadata": {},
   "source": [
    "##### Entwicklung aller Freihandkäufe nach Hauptgrundstücktyp seit 2009"
   ]
  },
  {
   "cell_type": "code",
   "execution_count": 77,
   "metadata": {},
   "outputs": [
    {
     "data": {
      "text/plain": [
       "<seaborn.axisgrid.FacetGrid at 0x11f47fa3670>"
      ]
     },
     "execution_count": 77,
     "metadata": {},
     "output_type": "execute_result"
    },
    {
     "data": {
      "image/png": "[encoded data removed]",
      "text/plain": [
       "<Figure size 1044.73x432 with 8 Axes>"
      ]
     },
     "metadata": {},
     "output_type": "display_data"
    },
    {
     "data": {
      "image/png": "[encoded data removed]",
      "text/plain": [
       "<Figure size 1044.73x432 with 8 Axes>"
      ]
     },
     "metadata": {},
     "output_type": "display_data"
    },
    {
     "data": {
      "image/png": "[encoded data removed]",
      "text/plain": [
       "<Figure size 1044.73x432 with 8 Axes>"
      ]
     },
     "metadata": {},
     "output_type": "display_data"
    }
   ],
   "source": [
    "g = sns.FacetGrid(data=data2betested.loc[\"2009\":\"2021\"].query('Medianwhgpreis > 20').reset_index(), col=\"Zimmerzahl_S\", hue=\"Zimmerzahl\", col_wrap=4, height=3)\n",
    "#g.map(sns.scatterplot, \"Jahr\", \"Medianqmp\", alpha=.8)\n",
    "g.map(sns.lineplot, \"Jahr\",\"Medianqmp\", alpha=.9)\n",
    "g.add_legend()\n",
    "\n",
    "\n",
    "g2 = sns.FacetGrid(data=data2betested.loc[\"2009\":\"2021\"].query('Medianwhgpreis > 20').reset_index(), col=\"Zimmerzahl_S\", hue=\"Zimmerzahl\", col_wrap=4, height=3)\n",
    "#g.map(sns.scatterplot, \"Jahr\", \"Medianqmp\", alpha=.8)\n",
    "g2.map(sns.lineplot, \"Jahr\",\"Medianwhgpreis\", alpha=.9)\n",
    "g2.add_legend()\n",
    "\n",
    "g3 = sns.FacetGrid(data=data2betested.loc[\"2009\":\"2021\"].query('Medianwhgpreis > 20').reset_index(), col=\"Zimmerzahl_S\", hue=\"Zimmerzahl\", col_wrap=4, height=3)\n",
    "g3.map(sns.scatterplot, \"Anzahl_HAE\", \"Medianqmp\", alpha=.8)\n",
    "#g3.map(sns.lineplot, \"Jahr\",\"Medianwhgpreis\", alpha=.9)\n",
    "g3.add_legend()\n"
   ]
  },
  {
   "cell_type": "markdown",
   "metadata": {},
   "source": [
    "### Daten in interaktiver Treemap zeigen\n",
    "Dazu gibt es eine sehr nützliche Webseite https://plotly.com/python/treemaps/\n",
    "Zu Farbskalen, siehe: https://plotly.com/python/builtin-colorscales/"
   ]
  },
  {
   "cell_type": "markdown",
   "metadata": {
    "tags": []
   },
   "source": [
    "#### Medianquadratmeterpreis nach Zimmerzahl 2021 (Macht hier keinen SINN... Weil nicht aggregierbar)"
   ]
  },
  {
   "cell_type": "code",
   "execution_count": 90,
   "metadata": {},
   "outputs": [],
   "source": [
    "myTreemap = data2betested.loc[\"2019\":\"2021\"]\\\n",
    "    .groupby(['Jahr', 'Zimmerzahl', 'Zimmerzahl_S', 'Medianqmp','Medianwhgpreis','Anzahl_HAE' ]) \\\n",
    "    .agg(to_delete_Medianqmp=('Medianqmp', 'mean')) \\\n",
    "    .sort_values('Jahr', ascending=False) \n",
    "\n",
    "#myTreemap.reset_index().head(2)"
   ]
  },
  {
   "cell_type": "code",
   "execution_count": 91,
   "metadata": {
    "tags": []
   },
   "outputs": [],
   "source": [
    "#data2betested.dtypes"
   ]
  },
  {
   "cell_type": "code",
   "execution_count": 92,
   "metadata": {
    "tags": []
   },
   "outputs": [
    {
     "data": {
      "application/vnd.plotly.v1+json": {
       "config": {
        "plotlyServerURL": "https://plot.ly"
       },
       "data": [
        {
         "branchvalues": "total",
         "customdata": [
          [
           12160
          ],
          [
           16440
          ],
          [
           13450
          ],
          [
           12650
          ],
          [
           18550
          ],
          [
           15340
          ],
          [
           13530
          ],
          [
           12160
          ],
          [
           13530
          ],
          [
           12650
          ],
          [
           13450
          ],
          [
           15340
          ],
          [
           18550
          ],
          [
           16440
          ],
          [
           12160
          ],
          [
           13530
          ],
          [
           12650
          ],
          [
           13450
          ],
          [
           15340
          ],
          [
           18550
          ],
          [
           16440
          ],
          [
           14899.561300430865
          ]
         ],
         "domain": {
          "x": [
           0,
           1
          ],
          "y": [
           0,
           1
          ]
         },
         "hovertemplate": "labels=%{label}<br>Medianqmp_sum=%{value}<br>parent=%{parent}<br>id=%{id}<br>Medianqmp=%{color}<extra></extra>",
         "ids": [
          "Medianquadratmeterpreis nach Zone und Quartier im 2021/1-Zimmerwohnung/610000/110",
          "Medianquadratmeterpreis nach Zone und Quartier im 2021/7-Zimmerwohnung/5224640/1–3",
          "Medianquadratmeterpreis nach Zone und Quartier im 2021/4-Zimmerwohnung/1545000/243",
          "Medianquadratmeterpreis nach Zone und Quartier im 2021/3-Zimmerwohnung/1192000/284",
          "Medianquadratmeterpreis nach Zone und Quartier im 2021/6-Zimmerwohnung/2880000/7-9",
          "Medianquadratmeterpreis nach Zone und Quartier im 2021/5-Zimmerwohnung/2207500/74",
          "Medianquadratmeterpreis nach Zone und Quartier im 2021/2-Zimmerwohnung/825000/99",
          "Medianquadratmeterpreis nach Zone und Quartier im 2021/1-Zimmerwohnung/610000",
          "Medianquadratmeterpreis nach Zone und Quartier im 2021/2-Zimmerwohnung/825000",
          "Medianquadratmeterpreis nach Zone und Quartier im 2021/3-Zimmerwohnung/1192000",
          "Medianquadratmeterpreis nach Zone und Quartier im 2021/4-Zimmerwohnung/1545000",
          "Medianquadratmeterpreis nach Zone und Quartier im 2021/5-Zimmerwohnung/2207500",
          "Medianquadratmeterpreis nach Zone und Quartier im 2021/6-Zimmerwohnung/2880000",
          "Medianquadratmeterpreis nach Zone und Quartier im 2021/7-Zimmerwohnung/5224640",
          "Medianquadratmeterpreis nach Zone und Quartier im 2021/1-Zimmerwohnung",
          "Medianquadratmeterpreis nach Zone und Quartier im 2021/2-Zimmerwohnung",
          "Medianquadratmeterpreis nach Zone und Quartier im 2021/3-Zimmerwohnung",
          "Medianquadratmeterpreis nach Zone und Quartier im 2021/4-Zimmerwohnung",
          "Medianquadratmeterpreis nach Zone und Quartier im 2021/5-Zimmerwohnung",
          "Medianquadratmeterpreis nach Zone und Quartier im 2021/6-Zimmerwohnung",
          "Medianquadratmeterpreis nach Zone und Quartier im 2021/7-Zimmerwohnung",
          "Medianquadratmeterpreis nach Zone und Quartier im 2021"
         ],
         "labels": [
          "110",
          "1–3",
          "243",
          "284",
          "7-9",
          "74",
          "99",
          "610000",
          "825000",
          "1192000",
          "1545000",
          "2207500",
          "2880000",
          "5224640",
          "1-Zimmerwohnung",
          "2-Zimmerwohnung",
          "3-Zimmerwohnung",
          "4-Zimmerwohnung",
          "5-Zimmerwohnung",
          "6-Zimmerwohnung",
          "7-Zimmerwohnung",
          "Medianquadratmeterpreis nach Zone und Quartier im 2021"
         ],
         "marker": {
          "coloraxis": "coloraxis",
          "colors": [
           12160,
           16440,
           13450,
           12650,
           18550,
           15340,
           13530,
           12160,
           13530,
           12650,
           13450,
           15340,
           18550,
           16440,
           12160,
           13530,
           12650,
           13450,
           15340,
           18550,
           16440,
           14899.561300430865
          ]
         },
         "name": "",
         "parents": [
          "Medianquadratmeterpreis nach Zone und Quartier im 2021/1-Zimmerwohnung/610000",
          "Medianquadratmeterpreis nach Zone und Quartier im 2021/7-Zimmerwohnung/5224640",
          "Medianquadratmeterpreis nach Zone und Quartier im 2021/4-Zimmerwohnung/1545000",
          "Medianquadratmeterpreis nach Zone und Quartier im 2021/3-Zimmerwohnung/1192000",
          "Medianquadratmeterpreis nach Zone und Quartier im 2021/6-Zimmerwohnung/2880000",
          "Medianquadratmeterpreis nach Zone und Quartier im 2021/5-Zimmerwohnung/2207500",
          "Medianquadratmeterpreis nach Zone und Quartier im 2021/2-Zimmerwohnung/825000",
          "Medianquadratmeterpreis nach Zone und Quartier im 2021/1-Zimmerwohnung",
          "Medianquadratmeterpreis nach Zone und Quartier im 2021/2-Zimmerwohnung",
          "Medianquadratmeterpreis nach Zone und Quartier im 2021/3-Zimmerwohnung",
          "Medianquadratmeterpreis nach Zone und Quartier im 2021/4-Zimmerwohnung",
          "Medianquadratmeterpreis nach Zone und Quartier im 2021/5-Zimmerwohnung",
          "Medianquadratmeterpreis nach Zone und Quartier im 2021/6-Zimmerwohnung",
          "Medianquadratmeterpreis nach Zone und Quartier im 2021/7-Zimmerwohnung",
          "Medianquadratmeterpreis nach Zone und Quartier im 2021",
          "Medianquadratmeterpreis nach Zone und Quartier im 2021",
          "Medianquadratmeterpreis nach Zone und Quartier im 2021",
          "Medianquadratmeterpreis nach Zone und Quartier im 2021",
          "Medianquadratmeterpreis nach Zone und Quartier im 2021",
          "Medianquadratmeterpreis nach Zone und Quartier im 2021",
          "Medianquadratmeterpreis nach Zone und Quartier im 2021",
          ""
         ],
         "root": {
          "color": "grey"
         },
         "type": "treemap",
         "values": [
          12160,
          16440,
          13450,
          12650,
          18550,
          15340,
          13530,
          12160,
          13530,
          12650,
          13450,
          15340,
          18550,
          16440,
          12160,
          13530,
          12650,
          13450,
          15340,
          18550,
          16440,
          102120
         ]
        }
       ],
       "layout": {
        "coloraxis": {
         "colorbar": {
          "title": {
           "text": "Medianqmp"
          }
         },
         "colorscale": [
          [
           0,
           "#00224e"
          ],
          [
           0.1111111111111111,
           "#123570"
          ],
          [
           0.2222222222222222,
           "#3b496c"
          ],
          [
           0.3333333333333333,
           "#575d6d"
          ],
          [
           0.4444444444444444,
           "#707173"
          ],
          [
           0.5555555555555556,
           "#8a8678"
          ],
          [
           0.6666666666666666,
           "#a59c74"
          ],
          [
           0.7777777777777778,
           "#c3b369"
          ],
          [
           0.8888888888888888,
           "#e1cc55"
          ],
          [
           1,
           "#fee838"
          ]
         ]
        },
        "height": 500,
        "legend": {
         "tracegroupgap": 0
        },
        "margin": {
         "b": 25,
         "l": 25,
         "r": 250,
         "t": 50
        },
        "template": {
         "data": {
          "bar": [
           {
            "error_x": {
             "color": "#2a3f5f"
            },
            "error_y": {
             "color": "#2a3f5f"
            },
            "marker": {
             "line": {
              "color": "#E5ECF6",
              "width": 0.5
             },
             "pattern": {
              "fillmode": "overlay",
              "size": 10,
              "solidity": 0.2
             }
            },
            "type": "bar"
           }
          ],
          "barpolar": [
           {
            "marker": {
             "line": {
              "color": "#E5ECF6",
              "width": 0.5
             },
             "pattern": {
              "fillmode": "overlay",
              "size": 10,
              "solidity": 0.2
             }
            },
            "type": "barpolar"
           }
          ],
          "carpet": [
           {
            "aaxis": {
             "endlinecolor": "#2a3f5f",
             "gridcolor": "white",
             "linecolor": "white",
             "minorgridcolor": "white",
             "startlinecolor": "#2a3f5f"
            },
            "baxis": {
             "endlinecolor": "#2a3f5f",
             "gridcolor": "white",
             "linecolor": "white",
             "minorgridcolor": "white",
             "startlinecolor": "#2a3f5f"
            },
            "type": "carpet"
           }
          ],
          "choropleth": [
           {
            "colorbar": {
             "outlinewidth": 0,
             "ticks": ""
            },
            "type": "choropleth"
           }
          ],
          "contour": [
           {
            "colorbar": {
             "outlinewidth": 0,
             "ticks": ""
            },
            "colorscale": [
             [
              0,
              "#0d0887"
             ],
             [
              0.1111111111111111,
              "#46039f"
             ],
             [
              0.2222222222222222,
              "#7201a8"
             ],
             [
              0.3333333333333333,
              "#9c179e"
             ],
             [
              0.4444444444444444,
              "#bd3786"
             ],
             [
              0.5555555555555556,
              "#d8576b"
             ],
             [
              0.6666666666666666,
              "#ed7953"
             ],
             [
              0.7777777777777778,
              "#fb9f3a"
             ],
             [
              0.8888888888888888,
              "#fdca26"
             ],
             [
              1,
              "#f0f921"
             ]
            ],
            "type": "contour"
           }
          ],
          "contourcarpet": [
           {
            "colorbar": {
             "outlinewidth": 0,
             "ticks": ""
            },
            "type": "contourcarpet"
           }
          ],
          "heatmap": [
           {
            "colorbar": {
             "outlinewidth": 0,
             "ticks": ""
            },
            "colorscale": [
             [
              0,
              "#0d0887"
             ],
             [
              0.1111111111111111,
              "#46039f"
             ],
             [
              0.2222222222222222,
              "#7201a8"
             ],
             [
              0.3333333333333333,
              "#9c179e"
             ],
             [
              0.4444444444444444,
              "#bd3786"
             ],
             [
              0.5555555555555556,
              "#d8576b"
             ],
             [
              0.6666666666666666,
              "#ed7953"
             ],
             [
              0.7777777777777778,
              "#fb9f3a"
             ],
             [
              0.8888888888888888,
              "#fdca26"
             ],
             [
              1,
              "#f0f921"
             ]
            ],
            "type": "heatmap"
           }
          ],
          "heatmapgl": [
           {
            "colorbar": {
             "outlinewidth": 0,
             "ticks": ""
            },
            "colorscale": [
             [
              0,
              "#0d0887"
             ],
             [
              0.1111111111111111,
              "#46039f"
             ],
             [
              0.2222222222222222,
              "#7201a8"
             ],
             [
              0.3333333333333333,
              "#9c179e"
             ],
             [
              0.4444444444444444,
              "#bd3786"
             ],
             [
              0.5555555555555556,
              "#d8576b"
             ],
             [
              0.6666666666666666,
              "#ed7953"
             ],
             [
              0.7777777777777778,
              "#fb9f3a"
             ],
             [
              0.8888888888888888,
              "#fdca26"
             ],
             [
              1,
              "#f0f921"
             ]
            ],
            "type": "heatmapgl"
           }
          ],
          "histogram": [
           {
            "marker": {
             "pattern": {
              "fillmode": "overlay",
              "size": 10,
              "solidity": 0.2
             }
            },
            "type": "histogram"
           }
          ],
          "histogram2d": [
           {
            "colorbar": {
             "outlinewidth": 0,
             "ticks": ""
            },
            "colorscale": [
             [
              0,
              "#0d0887"
             ],
             [
              0.1111111111111111,
              "#46039f"
             ],
             [
              0.2222222222222222,
              "#7201a8"
             ],
             [
              0.3333333333333333,
              "#9c179e"
             ],
             [
              0.4444444444444444,
              "#bd3786"
             ],
             [
              0.5555555555555556,
              "#d8576b"
             ],
             [
              0.6666666666666666,
              "#ed7953"
             ],
             [
              0.7777777777777778,
              "#fb9f3a"
             ],
             [
              0.8888888888888888,
              "#fdca26"
             ],
             [
              1,
              "#f0f921"
             ]
            ],
            "type": "histogram2d"
           }
          ],
          "histogram2dcontour": [
           {
            "colorbar": {
             "outlinewidth": 0,
             "ticks": ""
            },
            "colorscale": [
             [
              0,
              "#0d0887"
             ],
             [
              0.1111111111111111,
              "#46039f"
             ],
             [
              0.2222222222222222,
              "#7201a8"
             ],
             [
              0.3333333333333333,
              "#9c179e"
             ],
             [
              0.4444444444444444,
              "#bd3786"
             ],
             [
              0.5555555555555556,
              "#d8576b"
             ],
             [
              0.6666666666666666,
              "#ed7953"
             ],
             [
              0.7777777777777778,
              "#fb9f3a"
             ],
             [
              0.8888888888888888,
              "#fdca26"
             ],
             [
              1,
              "#f0f921"
             ]
            ],
            "type": "histogram2dcontour"
           }
          ],
          "mesh3d": [
           {
            "colorbar": {
             "outlinewidth": 0,
             "ticks": ""
            },
            "type": "mesh3d"
           }
          ],
          "parcoords": [
           {
            "line": {
             "colorbar": {
              "outlinewidth": 0,
              "ticks": ""
             }
            },
            "type": "parcoords"
           }
          ],
          "pie": [
           {
            "automargin": true,
            "type": "pie"
           }
          ],
          "scatter": [
           {
            "marker": {
             "colorbar": {
              "outlinewidth": 0,
              "ticks": ""
             }
            },
            "type": "scatter"
           }
          ],
          "scatter3d": [
           {
            "line": {
             "colorbar": {
              "outlinewidth": 0,
              "ticks": ""
             }
            },
            "marker": {
             "colorbar": {
              "outlinewidth": 0,
              "ticks": ""
             }
            },
            "type": "scatter3d"
           }
          ],
          "scattercarpet": [
           {
            "marker": {
             "colorbar": {
              "outlinewidth": 0,
              "ticks": ""
             }
            },
            "type": "scattercarpet"
           }
          ],
          "scattergeo": [
           {
            "marker": {
             "colorbar": {
              "outlinewidth": 0,
              "ticks": ""
             }
            },
            "type": "scattergeo"
           }
          ],
          "scattergl": [
           {
            "marker": {
             "colorbar": {
              "outlinewidth": 0,
              "ticks": ""
             }
            },
            "type": "scattergl"
           }
          ],
          "scattermapbox": [
           {
            "marker": {
             "colorbar": {
              "outlinewidth": 0,
              "ticks": ""
             }
            },
            "type": "scattermapbox"
           }
          ],
          "scatterpolar": [
           {
            "marker": {
             "colorbar": {
              "outlinewidth": 0,
              "ticks": ""
             }
            },
            "type": "scatterpolar"
           }
          ],
          "scatterpolargl": [
           {
            "marker": {
             "colorbar": {
              "outlinewidth": 0,
              "ticks": ""
             }
            },
            "type": "scatterpolargl"
           }
          ],
          "scatterternary": [
           {
            "marker": {
             "colorbar": {
              "outlinewidth": 0,
              "ticks": ""
             }
            },
            "type": "scatterternary"
           }
          ],
          "surface": [
           {
            "colorbar": {
             "outlinewidth": 0,
             "ticks": ""
            },
            "colorscale": [
             [
              0,
              "#0d0887"
             ],
             [
              0.1111111111111111,
              "#46039f"
             ],
             [
              0.2222222222222222,
              "#7201a8"
             ],
             [
              0.3333333333333333,
              "#9c179e"
             ],
             [
              0.4444444444444444,
              "#bd3786"
             ],
             [
              0.5555555555555556,
              "#d8576b"
             ],
             [
              0.6666666666666666,
              "#ed7953"
             ],
             [
              0.7777777777777778,
              "#fb9f3a"
             ],
             [
              0.8888888888888888,
              "#fdca26"
             ],
             [
              1,
              "#f0f921"
             ]
            ],
            "type": "surface"
           }
          ],
          "table": [
           {
            "cells": {
             "fill": {
              "color": "#EBF0F8"
             },
             "line": {
              "color": "white"
             }
            },
            "header": {
             "fill": {
              "color": "#C8D4E3"
             },
             "line": {
              "color": "white"
             }
            },
            "type": "table"
           }
          ]
         },
         "layout": {
          "annotationdefaults": {
           "arrowcolor": "#2a3f5f",
           "arrowhead": 0,
           "arrowwidth": 1
          },
          "autotypenumbers": "strict",
          "coloraxis": {
           "colorbar": {
            "outlinewidth": 0,
            "ticks": ""
           }
          },
          "colorscale": {
           "diverging": [
            [
             0,
             "#8e0152"
            ],
            [
             0.1,
             "#c51b7d"
            ],
            [
             0.2,
             "#de77ae"
            ],
            [
             0.3,
             "#f1b6da"
            ],
            [
             0.4,
             "#fde0ef"
            ],
            [
             0.5,
             "#f7f7f7"
            ],
            [
             0.6,
             "#e6f5d0"
            ],
            [
             0.7,
             "#b8e186"
            ],
            [
             0.8,
             "#7fbc41"
            ],
            [
             0.9,
             "#4d9221"
            ],
            [
             1,
             "#276419"
            ]
           ],
           "sequential": [
            [
             0,
             "#0d0887"
            ],
            [
             0.1111111111111111,
             "#46039f"
            ],
            [
             0.2222222222222222,
             "#7201a8"
            ],
            [
             0.3333333333333333,
             "#9c179e"
            ],
            [
             0.4444444444444444,
             "#bd3786"
            ],
            [
             0.5555555555555556,
             "#d8576b"
            ],
            [
             0.6666666666666666,
             "#ed7953"
            ],
            [
             0.7777777777777778,
             "#fb9f3a"
            ],
            [
             0.8888888888888888,
             "#fdca26"
            ],
            [
             1,
             "#f0f921"
            ]
           ],
           "sequentialminus": [
            [
             0,
             "#0d0887"
            ],
            [
             0.1111111111111111,
             "#46039f"
            ],
            [
             0.2222222222222222,
             "#7201a8"
            ],
            [
             0.3333333333333333,
             "#9c179e"
            ],
            [
             0.4444444444444444,
             "#bd3786"
            ],
            [
             0.5555555555555556,
             "#d8576b"
            ],
            [
             0.6666666666666666,
             "#ed7953"
            ],
            [
             0.7777777777777778,
             "#fb9f3a"
            ],
            [
             0.8888888888888888,
             "#fdca26"
            ],
            [
             1,
             "#f0f921"
            ]
           ]
          },
          "colorway": [
           "#636efa",
           "#EF553B",
           "#00cc96",
           "#ab63fa",
           "#FFA15A",
           "#19d3f3",
           "#FF6692",
           "#B6E880",
           "#FF97FF",
           "#FECB52"
          ],
          "font": {
           "color": "#2a3f5f"
          },
          "geo": {
           "bgcolor": "white",
           "lakecolor": "white",
           "landcolor": "#E5ECF6",
           "showlakes": true,
           "showland": true,
           "subunitcolor": "white"
          },
          "hoverlabel": {
           "align": "left"
          },
          "hovermode": "closest",
          "mapbox": {
           "style": "light"
          },
          "paper_bgcolor": "white",
          "plot_bgcolor": "#E5ECF6",
          "polar": {
           "angularaxis": {
            "gridcolor": "white",
            "linecolor": "white",
            "ticks": ""
           },
           "bgcolor": "#E5ECF6",
           "radialaxis": {
            "gridcolor": "white",
            "linecolor": "white",
            "ticks": ""
           }
          },
          "scene": {
           "xaxis": {
            "backgroundcolor": "#E5ECF6",
            "gridcolor": "white",
            "gridwidth": 2,
            "linecolor": "white",
            "showbackground": true,
            "ticks": "",
            "zerolinecolor": "white"
           },
           "yaxis": {
            "backgroundcolor": "#E5ECF6",
            "gridcolor": "white",
            "gridwidth": 2,
            "linecolor": "white",
            "showbackground": true,
            "ticks": "",
            "zerolinecolor": "white"
           },
           "zaxis": {
            "backgroundcolor": "#E5ECF6",
            "gridcolor": "white",
            "gridwidth": 2,
            "linecolor": "white",
            "showbackground": true,
            "ticks": "",
            "zerolinecolor": "white"
           }
          },
          "shapedefaults": {
           "line": {
            "color": "#2a3f5f"
           }
          },
          "ternary": {
           "aaxis": {
            "gridcolor": "white",
            "linecolor": "white",
            "ticks": ""
           },
           "baxis": {
            "gridcolor": "white",
            "linecolor": "white",
            "ticks": ""
           },
           "bgcolor": "#E5ECF6",
           "caxis": {
            "gridcolor": "white",
            "linecolor": "white",
            "ticks": ""
           }
          },
          "title": {
           "x": 0.05
          },
          "xaxis": {
           "automargin": true,
           "gridcolor": "white",
           "linecolor": "white",
           "ticks": "",
           "title": {
            "standoff": 15
           },
           "zerolinecolor": "white",
           "zerolinewidth": 2
          },
          "yaxis": {
           "automargin": true,
           "gridcolor": "white",
           "linecolor": "white",
           "ticks": "",
           "title": {
            "standoff": 15
           },
           "zerolinecolor": "white",
           "zerolinewidth": 2
          }
         }
        },
        "width": 1100
       }
      },
      "image/png": "[encoded data removed]",
      "text/html": [
       "<div>                            <div id=\"c3b86a97-70da-42fa-831d-3197c1974759\" class=\"plotly-graph-div\" style=\"height:500px; width:1100px;\"></div>            <script type=\"text/javascript\">                require([\"plotly\"], function(Plotly) {                    window.PLOTLYENV=window.PLOTLYENV || {};                                    if (document.getElementById(\"c3b86a97-70da-42fa-831d-3197c1974759\")) {                    Plotly.newPlot(                        \"c3b86a97-70da-42fa-831d-3197c1974759\",                        [{\"branchvalues\":\"total\",\"customdata\":[[12160.0],[16440.0],[13450.0],[12650.0],[18550.0],[15340.0],[13530.0],[12160.0],[13530.0],[12650.0],[13450.0],[15340.0],[18550.0],[16440.0],[12160.0],[13530.0],[12650.0],[13450.0],[15340.0],[18550.0],[16440.0],[14899.561300430865]],\"domain\":{\"x\":[0.0,1.0],\"y\":[0.0,1.0]},\"hovertemplate\":\"labels=%{label}<br>Medianqmp_sum=%{value}<br>parent=%{parent}<br>id=%{id}<br>Medianqmp=%{color}<extra></extra>\",\"ids\":[\"Medianquadratmeterpreis nach Zone und Quartier im 2021/1-Zimmerwohnung/610000/110\",\"Medianquadratmeterpreis nach Zone und Quartier im 2021/7-Zimmerwohnung/5224640/1\\u20133\",\"Medianquadratmeterpreis nach Zone und Quartier im 2021/4-Zimmerwohnung/1545000/243\",\"Medianquadratmeterpreis nach Zone und Quartier im 2021/3-Zimmerwohnung/1192000/284\",\"Medianquadratmeterpreis nach Zone und Quartier im 2021/6-Zimmerwohnung/2880000/7-9\",\"Medianquadratmeterpreis nach Zone und Quartier im 2021/5-Zimmerwohnung/2207500/74\",\"Medianquadratmeterpreis nach Zone und Quartier im 2021/2-Zimmerwohnung/825000/99\",\"Medianquadratmeterpreis nach Zone und Quartier im 2021/1-Zimmerwohnung/610000\",\"Medianquadratmeterpreis nach Zone und Quartier im 2021/2-Zimmerwohnung/825000\",\"Medianquadratmeterpreis nach Zone und Quartier im 2021/3-Zimmerwohnung/1192000\",\"Medianquadratmeterpreis nach Zone und Quartier im 2021/4-Zimmerwohnung/1545000\",\"Medianquadratmeterpreis nach Zone und Quartier im 2021/5-Zimmerwohnung/2207500\",\"Medianquadratmeterpreis nach Zone und Quartier im 2021/6-Zimmerwohnung/2880000\",\"Medianquadratmeterpreis nach Zone und Quartier im 2021/7-Zimmerwohnung/5224640\",\"Medianquadratmeterpreis nach Zone und Quartier im 2021/1-Zimmerwohnung\",\"Medianquadratmeterpreis nach Zone und Quartier im 2021/2-Zimmerwohnung\",\"Medianquadratmeterpreis nach Zone und Quartier im 2021/3-Zimmerwohnung\",\"Medianquadratmeterpreis nach Zone und Quartier im 2021/4-Zimmerwohnung\",\"Medianquadratmeterpreis nach Zone und Quartier im 2021/5-Zimmerwohnung\",\"Medianquadratmeterpreis nach Zone und Quartier im 2021/6-Zimmerwohnung\",\"Medianquadratmeterpreis nach Zone und Quartier im 2021/7-Zimmerwohnung\",\"Medianquadratmeterpreis nach Zone und Quartier im 2021\"],\"labels\":[\"110\",\"1\\u20133\",\"243\",\"284\",\"7-9\",\"74\",\"99\",\"610000\",\"825000\",\"1192000\",\"1545000\",\"2207500\",\"2880000\",\"5224640\",\"1-Zimmerwohnung\",\"2-Zimmerwohnung\",\"3-Zimmerwohnung\",\"4-Zimmerwohnung\",\"5-Zimmerwohnung\",\"6-Zimmerwohnung\",\"7-Zimmerwohnung\",\"Medianquadratmeterpreis nach Zone und Quartier im 2021\"],\"marker\":{\"coloraxis\":\"coloraxis\",\"colors\":[12160.0,16440.0,13450.0,12650.0,18550.0,15340.0,13530.0,12160.0,13530.0,12650.0,13450.0,15340.0,18550.0,16440.0,12160.0,13530.0,12650.0,13450.0,15340.0,18550.0,16440.0,14899.561300430865]},\"name\":\"\",\"parents\":[\"Medianquadratmeterpreis nach Zone und Quartier im 2021/1-Zimmerwohnung/610000\",\"Medianquadratmeterpreis nach Zone und Quartier im 2021/7-Zimmerwohnung/5224640\",\"Medianquadratmeterpreis nach Zone und Quartier im 2021/4-Zimmerwohnung/1545000\",\"Medianquadratmeterpreis nach Zone und Quartier im 2021/3-Zimmerwohnung/1192000\",\"Medianquadratmeterpreis nach Zone und Quartier im 2021/6-Zimmerwohnung/2880000\",\"Medianquadratmeterpreis nach Zone und Quartier im 2021/5-Zimmerwohnung/2207500\",\"Medianquadratmeterpreis nach Zone und Quartier im 2021/2-Zimmerwohnung/825000\",\"Medianquadratmeterpreis nach Zone und Quartier im 2021/1-Zimmerwohnung\",\"Medianquadratmeterpreis nach Zone und Quartier im 2021/2-Zimmerwohnung\",\"Medianquadratmeterpreis nach Zone und Quartier im 2021/3-Zimmerwohnung\",\"Medianquadratmeterpreis nach Zone und Quartier im 2021/4-Zimmerwohnung\",\"Medianquadratmeterpreis nach Zone und Quartier im 2021/5-Zimmerwohnung\",\"Medianquadratmeterpreis nach Zone und Quartier im 2021/6-Zimmerwohnung\",\"Medianquadratmeterpreis nach Zone und Quartier im 2021/7-Zimmerwohnung\",\"Medianquadratmeterpreis nach Zone und Quartier im 2021\",\"Medianquadratmeterpreis nach Zone und Quartier im 2021\",\"Medianquadratmeterpreis nach Zone und Quartier im 2021\",\"Medianquadratmeterpreis nach Zone und Quartier im 2021\",\"Medianquadratmeterpreis nach Zone und Quartier im 2021\",\"Medianquadratmeterpreis nach Zone und Quartier im 2021\",\"Medianquadratmeterpreis nach Zone und Quartier im 2021\",\"\"],\"root\":{\"color\":\"grey\"},\"type\":\"treemap\",\"values\":[12160,16440,13450,12650,18550,15340,13530,12160,13530,12650,13450,15340,18550,16440,12160,13530,12650,13450,15340,18550,16440,102120]}],                        {\"coloraxis\":{\"colorbar\":{\"title\":{\"text\":\"Medianqmp\"}},\"colorscale\":[[0.0,\"#00224e\"],[0.1111111111111111,\"#123570\"],[0.2222222222222222,\"#3b496c\"],[0.3333333333333333,\"#575d6d\"],[0.4444444444444444,\"#707173\"],[0.5555555555555556,\"#8a8678\"],[0.6666666666666666,\"#a59c74\"],[0.7777777777777778,\"#c3b369\"],[0.8888888888888888,\"#e1cc55\"],[1.0,\"#fee838\"]]},\"height\":500,\"legend\":{\"tracegroupgap\":0},\"margin\":{\"b\":25,\"l\":25,\"r\":250,\"t\":50},\"template\":{\"data\":{\"bar\":[{\"error_x\":{\"color\":\"#2a3f5f\"},\"error_y\":{\"color\":\"#2a3f5f\"},\"marker\":{\"line\":{\"color\":\"#E5ECF6\",\"width\":0.5},\"pattern\":{\"fillmode\":\"overlay\",\"size\":10,\"solidity\":0.2}},\"type\":\"bar\"}],\"barpolar\":[{\"marker\":{\"line\":{\"color\":\"#E5ECF6\",\"width\":0.5},\"pattern\":{\"fillmode\":\"overlay\",\"size\":10,\"solidity\":0.2}},\"type\":\"barpolar\"}],\"carpet\":[{\"aaxis\":{\"endlinecolor\":\"#2a3f5f\",\"gridcolor\":\"white\",\"linecolor\":\"white\",\"minorgridcolor\":\"white\",\"startlinecolor\":\"#2a3f5f\"},\"baxis\":{\"endlinecolor\":\"#2a3f5f\",\"gridcolor\":\"white\",\"linecolor\":\"white\",\"minorgridcolor\":\"white\",\"startlinecolor\":\"#2a3f5f\"},\"type\":\"carpet\"}],\"choropleth\":[{\"colorbar\":{\"outlinewidth\":0,\"ticks\":\"\"},\"type\":\"choropleth\"}],\"contour\":[{\"colorbar\":{\"outlinewidth\":0,\"ticks\":\"\"},\"colorscale\":[[0.0,\"#0d0887\"],[0.1111111111111111,\"#46039f\"],[0.2222222222222222,\"#7201a8\"],[0.3333333333333333,\"#9c179e\"],[0.4444444444444444,\"#bd3786\"],[0.5555555555555556,\"#d8576b\"],[0.6666666666666666,\"#ed7953\"],[0.7777777777777778,\"#fb9f3a\"],[0.8888888888888888,\"#fdca26\"],[1.0,\"#f0f921\"]],\"type\":\"contour\"}],\"contourcarpet\":[{\"colorbar\":{\"outlinewidth\":0,\"ticks\":\"\"},\"type\":\"contourcarpet\"}],\"heatmap\":[{\"colorbar\":{\"outlinewidth\":0,\"ticks\":\"\"},\"colorscale\":[[0.0,\"#0d0887\"],[0.1111111111111111,\"#46039f\"],[0.2222222222222222,\"#7201a8\"],[0.3333333333333333,\"#9c179e\"],[0.4444444444444444,\"#bd3786\"],[0.5555555555555556,\"#d8576b\"],[0.6666666666666666,\"#ed7953\"],[0.7777777777777778,\"#fb9f3a\"],[0.8888888888888888,\"#fdca26\"],[1.0,\"#f0f921\"]],\"type\":\"heatmap\"}],\"heatmapgl\":[{\"colorbar\":{\"outlinewidth\":0,\"ticks\":\"\"},\"colorscale\":[[0.0,\"#0d0887\"],[0.1111111111111111,\"#46039f\"],[0.2222222222222222,\"#7201a8\"],[0.3333333333333333,\"#9c179e\"],[0.4444444444444444,\"#bd3786\"],[0.5555555555555556,\"#d8576b\"],[0.6666666666666666,\"#ed7953\"],[0.7777777777777778,\"#fb9f3a\"],[0.8888888888888888,\"#fdca26\"],[1.0,\"#f0f921\"]],\"type\":\"heatmapgl\"}],\"histogram\":[{\"marker\":{\"pattern\":{\"fillmode\":\"overlay\",\"size\":10,\"solidity\":0.2}},\"type\":\"histogram\"}],\"histogram2d\":[{\"colorbar\":{\"outlinewidth\":0,\"ticks\":\"\"},\"colorscale\":[[0.0,\"#0d0887\"],[0.1111111111111111,\"#46039f\"],[0.2222222222222222,\"#7201a8\"],[0.3333333333333333,\"#9c179e\"],[0.4444444444444444,\"#bd3786\"],[0.5555555555555556,\"#d8576b\"],[0.6666666666666666,\"#ed7953\"],[0.7777777777777778,\"#fb9f3a\"],[0.8888888888888888,\"#fdca26\"],[1.0,\"#f0f921\"]],\"type\":\"histogram2d\"}],\"histogram2dcontour\":[{\"colorbar\":{\"outlinewidth\":0,\"ticks\":\"\"},\"colorscale\":[[0.0,\"#0d0887\"],[0.1111111111111111,\"#46039f\"],[0.2222222222222222,\"#7201a8\"],[0.3333333333333333,\"#9c179e\"],[0.4444444444444444,\"#bd3786\"],[0.5555555555555556,\"#d8576b\"],[0.6666666666666666,\"#ed7953\"],[0.7777777777777778,\"#fb9f3a\"],[0.8888888888888888,\"#fdca26\"],[1.0,\"#f0f921\"]],\"type\":\"histogram2dcontour\"}],\"mesh3d\":[{\"colorbar\":{\"outlinewidth\":0,\"ticks\":\"\"},\"type\":\"mesh3d\"}],\"parcoords\":[{\"line\":{\"colorbar\":{\"outlinewidth\":0,\"ticks\":\"\"}},\"type\":\"parcoords\"}],\"pie\":[{\"automargin\":true,\"type\":\"pie\"}],\"scatter\":[{\"marker\":{\"colorbar\":{\"outlinewidth\":0,\"ticks\":\"\"}},\"type\":\"scatter\"}],\"scatter3d\":[{\"line\":{\"colorbar\":{\"outlinewidth\":0,\"ticks\":\"\"}},\"marker\":{\"colorbar\":{\"outlinewidth\":0,\"ticks\":\"\"}},\"type\":\"scatter3d\"}],\"scattercarpet\":[{\"marker\":{\"colorbar\":{\"outlinewidth\":0,\"ticks\":\"\"}},\"type\":\"scattercarpet\"}],\"scattergeo\":[{\"marker\":{\"colorbar\":{\"outlinewidth\":0,\"ticks\":\"\"}},\"type\":\"scattergeo\"}],\"scattergl\":[{\"marker\":{\"colorbar\":{\"outlinewidth\":0,\"ticks\":\"\"}},\"type\":\"scattergl\"}],\"scattermapbox\":[{\"marker\":{\"colorbar\":{\"outlinewidth\":0,\"ticks\":\"\"}},\"type\":\"scattermapbox\"}],\"scatterpolar\":[{\"marker\":{\"colorbar\":{\"outlinewidth\":0,\"ticks\":\"\"}},\"type\":\"scatterpolar\"}],\"scatterpolargl\":[{\"marker\":{\"colorbar\":{\"outlinewidth\":0,\"ticks\":\"\"}},\"type\":\"scatterpolargl\"}],\"scatterternary\":[{\"marker\":{\"colorbar\":{\"outlinewidth\":0,\"ticks\":\"\"}},\"type\":\"scatterternary\"}],\"surface\":[{\"colorbar\":{\"outlinewidth\":0,\"ticks\":\"\"},\"colorscale\":[[0.0,\"#0d0887\"],[0.1111111111111111,\"#46039f\"],[0.2222222222222222,\"#7201a8\"],[0.3333333333333333,\"#9c179e\"],[0.4444444444444444,\"#bd3786\"],[0.5555555555555556,\"#d8576b\"],[0.6666666666666666,\"#ed7953\"],[0.7777777777777778,\"#fb9f3a\"],[0.8888888888888888,\"#fdca26\"],[1.0,\"#f0f921\"]],\"type\":\"surface\"}],\"table\":[{\"cells\":{\"fill\":{\"color\":\"#EBF0F8\"},\"line\":{\"color\":\"white\"}},\"header\":{\"fill\":{\"color\":\"#C8D4E3\"},\"line\":{\"color\":\"white\"}},\"type\":\"table\"}]},\"layout\":{\"annotationdefaults\":{\"arrowcolor\":\"#2a3f5f\",\"arrowhead\":0,\"arrowwidth\":1},\"autotypenumbers\":\"strict\",\"coloraxis\":{\"colorbar\":{\"outlinewidth\":0,\"ticks\":\"\"}},\"colorscale\":{\"diverging\":[[0,\"#8e0152\"],[0.1,\"#c51b7d\"],[0.2,\"#de77ae\"],[0.3,\"#f1b6da\"],[0.4,\"#fde0ef\"],[0.5,\"#f7f7f7\"],[0.6,\"#e6f5d0\"],[0.7,\"#b8e186\"],[0.8,\"#7fbc41\"],[0.9,\"#4d9221\"],[1,\"#276419\"]],\"sequential\":[[0.0,\"#0d0887\"],[0.1111111111111111,\"#46039f\"],[0.2222222222222222,\"#7201a8\"],[0.3333333333333333,\"#9c179e\"],[0.4444444444444444,\"#bd3786\"],[0.5555555555555556,\"#d8576b\"],[0.6666666666666666,\"#ed7953\"],[0.7777777777777778,\"#fb9f3a\"],[0.8888888888888888,\"#fdca26\"],[1.0,\"#f0f921\"]],\"sequentialminus\":[[0.0,\"#0d0887\"],[0.1111111111111111,\"#46039f\"],[0.2222222222222222,\"#7201a8\"],[0.3333333333333333,\"#9c179e\"],[0.4444444444444444,\"#bd3786\"],[0.5555555555555556,\"#d8576b\"],[0.6666666666666666,\"#ed7953\"],[0.7777777777777778,\"#fb9f3a\"],[0.8888888888888888,\"#fdca26\"],[1.0,\"#f0f921\"]]},\"colorway\":[\"#636efa\",\"#EF553B\",\"#00cc96\",\"#ab63fa\",\"#FFA15A\",\"#19d3f3\",\"#FF6692\",\"#B6E880\",\"#FF97FF\",\"#FECB52\"],\"font\":{\"color\":\"#2a3f5f\"},\"geo\":{\"bgcolor\":\"white\",\"lakecolor\":\"white\",\"landcolor\":\"#E5ECF6\",\"showlakes\":true,\"showland\":true,\"subunitcolor\":\"white\"},\"hoverlabel\":{\"align\":\"left\"},\"hovermode\":\"closest\",\"mapbox\":{\"style\":\"light\"},\"paper_bgcolor\":\"white\",\"plot_bgcolor\":\"#E5ECF6\",\"polar\":{\"angularaxis\":{\"gridcolor\":\"white\",\"linecolor\":\"white\",\"ticks\":\"\"},\"bgcolor\":\"#E5ECF6\",\"radialaxis\":{\"gridcolor\":\"white\",\"linecolor\":\"white\",\"ticks\":\"\"}},\"scene\":{\"xaxis\":{\"backgroundcolor\":\"#E5ECF6\",\"gridcolor\":\"white\",\"gridwidth\":2,\"linecolor\":\"white\",\"showbackground\":true,\"ticks\":\"\",\"zerolinecolor\":\"white\"},\"yaxis\":{\"backgroundcolor\":\"#E5ECF6\",\"gridcolor\":\"white\",\"gridwidth\":2,\"linecolor\":\"white\",\"showbackground\":true,\"ticks\":\"\",\"zerolinecolor\":\"white\"},\"zaxis\":{\"backgroundcolor\":\"#E5ECF6\",\"gridcolor\":\"white\",\"gridwidth\":2,\"linecolor\":\"white\",\"showbackground\":true,\"ticks\":\"\",\"zerolinecolor\":\"white\"}},\"shapedefaults\":{\"line\":{\"color\":\"#2a3f5f\"}},\"ternary\":{\"aaxis\":{\"gridcolor\":\"white\",\"linecolor\":\"white\",\"ticks\":\"\"},\"baxis\":{\"gridcolor\":\"white\",\"linecolor\":\"white\",\"ticks\":\"\"},\"bgcolor\":\"#E5ECF6\",\"caxis\":{\"gridcolor\":\"white\",\"linecolor\":\"white\",\"ticks\":\"\"}},\"title\":{\"x\":0.05},\"xaxis\":{\"automargin\":true,\"gridcolor\":\"white\",\"linecolor\":\"white\",\"ticks\":\"\",\"title\":{\"standoff\":15},\"zerolinecolor\":\"white\",\"zerolinewidth\":2},\"yaxis\":{\"automargin\":true,\"gridcolor\":\"white\",\"linecolor\":\"white\",\"ticks\":\"\",\"title\":{\"standoff\":15},\"zerolinecolor\":\"white\",\"zerolinewidth\":2}}},\"width\":1100},                        {\"responsive\": true}                    ).then(function(){\n",
       "                            \n",
       "var gd = document.getElementById('c3b86a97-70da-42fa-831d-3197c1974759');\n",
       "var x = new MutationObserver(function (mutations, observer) {{\n",
       "        var display = window.getComputedStyle(gd).display;\n",
       "        if (!display || display === 'none') {{\n",
       "            console.log([gd, 'removed!']);\n",
       "            Plotly.purge(gd);\n",
       "            observer.disconnect();\n",
       "        }}\n",
       "}});\n",
       "\n",
       "// Listen for the removal of the full notebook cells\n",
       "var notebookContainer = gd.closest('#notebook-container');\n",
       "if (notebookContainer) {{\n",
       "    x.observe(notebookContainer, {childList: true});\n",
       "}}\n",
       "\n",
       "// Listen for the clearing of the current output cell\n",
       "var outputEl = gd.closest('.output');\n",
       "if (outputEl) {{\n",
       "    x.observe(outputEl, {childList: true});\n",
       "}}\n",
       "\n",
       "                        })                };                });            </script>        </div>"
      ]
     },
     "metadata": {},
     "output_type": "display_data"
    }
   ],
   "source": [
    "fig = px.treemap(data2betested.loc[\"2021\"].query('Medianqmp > 0').reset_index()\n",
    "                 , path=[px.Constant(\"Medianquadratmeterpreis nach Zone und Quartier im 2021\")\n",
    "                         ,'Zimmerzahl', 'Medianwhgpreis','Anzahl_HAE']\n",
    "                 , values='Medianqmp'\n",
    "                 , color='Medianqmp'               \n",
    "                 #, color_discrete_map={'(?)':'lightgrey','EVP':'gold', 'SP':'#FF3030', 'PdA':'#EE3B3B', 'Grüne':'#A2CD5A','GLP':'#CAFF70','Die Mitte':'orange','FDP':'#104E8B','AL':'deeppink','SVP':'forestgreen', 'FL ZÜRI':'#8B864E','Volt':'#lightblue' }                \n",
    "                 ## bei continuous scales (bei Zahlenwerten):\n",
    "                 ,color_continuous_scale='cividis'\n",
    "                 ,height=500 , width=1100                 \n",
    "                )\n",
    "fig.update_traces(root_color=\"grey\")\n",
    "fig.update_layout(margin = dict(t=50, l=25, r=250, b=25))\n",
    "fig.show()"
   ]
  },
  {
   "cell_type": "code",
   "execution_count": 93,
   "metadata": {},
   "outputs": [],
   "source": [
    "#data2betested.dtypes"
   ]
  },
  {
   "cell_type": "markdown",
   "metadata": {},
   "source": [
    "**Sharepoint als gecheckt markieren!**"
   ]
  },
  {
   "cell_type": "markdown",
   "metadata": {},
   "source": [
    "Record auf Sharepoint: **[Link](https://kollaboration.intranet.stzh.ch/orga/ssz-produkte/Lists/SASA_Outputs/DispForm.aspx?ID=507&ContentTypeId=0x0100988EAF029F1EFE4CA675F53C32A5D53D01006DBC563E6FBE9E4EB6FDC780799752E1)**"
   ]
  },
  {
   "cell_type": "markdown",
   "metadata": {},
   "source": [
    "## ---------------------- hier Plausi beendet\n",
    "\n",
    "Liniendiagramm \n",
    "[Link zur Doku](https://altair-viz.github.io/gallery/multiline_highlight.html)"
   ]
  },
  {
   "cell_type": "markdown",
   "metadata": {
    "tags": []
   },
   "source": [
    "### Test: Choroplethenkarte\n",
    "Importiere die Geodaten als GeoJSON"
   ]
  },
  {
   "cell_type": "markdown",
   "metadata": {},
   "source": [
    "#### Stadtkreise"
   ]
  },
  {
   "cell_type": "code",
   "execution_count": 44,
   "metadata": {},
   "outputs": [
    {
     "data": {
      "text/html": [
       "<div>\n",
       "<style scoped>\n",
       "    .dataframe tbody tr th:only-of-type {\n",
       "        vertical-align: middle;\n",
       "    }\n",
       "\n",
       "    .dataframe tbody tr th {\n",
       "        vertical-align: top;\n",
       "    }\n",
       "\n",
       "    .dataframe thead th {\n",
       "        text-align: right;\n",
       "    }\n",
       "</style>\n",
       "<table border=\"1\" class=\"dataframe\">\n",
       "  <thead>\n",
       "    <tr style=\"text-align: right;\">\n",
       "      <th></th>\n",
       "      <th>id</th>\n",
       "      <th>kname</th>\n",
       "      <th>knr</th>\n",
       "      <th>objid</th>\n",
       "      <th>geometry</th>\n",
       "    </tr>\n",
       "  </thead>\n",
       "  <tbody>\n",
       "    <tr>\n",
       "      <th>0</th>\n",
       "      <td>adm_stadtkreise_v.6</td>\n",
       "      <td>Kreis 7</td>\n",
       "      <td>7</td>\n",
       "      <td>6</td>\n",
       "      <td>POLYGON ((8.54885 47.36602, 8.54901 47.36601, ...</td>\n",
       "    </tr>\n",
       "  </tbody>\n",
       "</table>\n",
       "</div>"
      ],
      "text/plain": [
       "                    id    kname  knr objid                                           geometry\n",
       "0  adm_stadtkreise_v.6  Kreis 7    7     6  POLYGON ((8.54885 47.36602, 8.54901 47.36601, ..."
      ]
     },
     "execution_count": 44,
     "metadata": {},
     "output_type": "execute_result"
    }
   ],
   "source": [
    "# Read abt. Geopandas https://geopandas.org/docs/user_guide/io.html\n",
    "geojson_url_kreise = \"https://www.ogd.stadt-zuerich.ch/wfs/geoportal/Stadtkreise?service=WFS&version=1.1.0&request=GetFeature&outputFormat=GeoJSON&typename=adm_stadtkreise_v\"\n",
    "adm_stadtkreise_v = gpd.read_file(geojson_url_kreise)\n",
    "\n",
    "adm_stadtkreise_v.head(1)\n"
   ]
  },
  {
   "cell_type": "markdown",
   "metadata": {},
   "source": [
    "#### Statistische Zonen"
   ]
  },
  {
   "cell_type": "code",
   "execution_count": 45,
   "metadata": {},
   "outputs": [
    {
     "data": {
      "text/html": [
       "<div>\n",
       "<style scoped>\n",
       "    .dataframe tbody tr th:only-of-type {\n",
       "        vertical-align: middle;\n",
       "    }\n",
       "\n",
       "    .dataframe tbody tr th {\n",
       "        vertical-align: top;\n",
       "    }\n",
       "\n",
       "    .dataframe thead th {\n",
       "        text-align: right;\n",
       "    }\n",
       "</style>\n",
       "<table border=\"1\" class=\"dataframe\">\n",
       "  <thead>\n",
       "    <tr style=\"text-align: right;\">\n",
       "      <th></th>\n",
       "      <th>id</th>\n",
       "      <th>kname</th>\n",
       "      <th>knr</th>\n",
       "      <th>objectid</th>\n",
       "      <th>objid</th>\n",
       "      <th>qname</th>\n",
       "      <th>qnr</th>\n",
       "      <th>stzname</th>\n",
       "      <th>stznr</th>\n",
       "      <th>geometry</th>\n",
       "    </tr>\n",
       "  </thead>\n",
       "  <tbody>\n",
       "    <tr>\n",
       "      <th>0</th>\n",
       "      <td>adm_statzonen_map.1</td>\n",
       "      <td>Kreis 7</td>\n",
       "      <td>7</td>\n",
       "      <td>1</td>\n",
       "      <td>154</td>\n",
       "      <td>Hirslanden</td>\n",
       "      <td>73</td>\n",
       "      <td>Hegibach</td>\n",
       "      <td>7303</td>\n",
       "      <td>POLYGON ((8.55670 47.36406, 8.55682 47.36410, ...</td>\n",
       "    </tr>\n",
       "    <tr>\n",
       "      <th>1</th>\n",
       "      <td>adm_statzonen_map.2</td>\n",
       "      <td>Kreis 7</td>\n",
       "      <td>7</td>\n",
       "      <td>2</td>\n",
       "      <td>89</td>\n",
       "      <td>Hirslanden</td>\n",
       "      <td>73</td>\n",
       "      <td>Klus</td>\n",
       "      <td>7302</td>\n",
       "      <td>POLYGON ((8.57281 47.35806, 8.57278 47.35807, ...</td>\n",
       "    </tr>\n",
       "  </tbody>\n",
       "</table>\n",
       "</div>"
      ],
      "text/plain": [
       "                    id    kname  knr  objectid objid       qname  qnr   stzname  stznr  \\\n",
       "0  adm_statzonen_map.1  Kreis 7    7         1   154  Hirslanden   73  Hegibach   7303   \n",
       "1  adm_statzonen_map.2  Kreis 7    7         2    89  Hirslanden   73      Klus   7302   \n",
       "\n",
       "                                            geometry  \n",
       "0  POLYGON ((8.55670 47.36406, 8.55682 47.36410, ...  \n",
       "1  POLYGON ((8.57281 47.35806, 8.57278 47.35807, ...  "
      ]
     },
     "execution_count": 45,
     "metadata": {},
     "output_type": "execute_result"
    }
   ],
   "source": [
    "# Read abt. Geopandas https://geopandas.org/docs/user_guide/io.html\n",
    "geojson_url_statzonen = \"https://www.ogd.stadt-zuerich.ch/wfs/geoportal/Statistische_Zonen?service=WFS&version=1.1.0&request=GetFeature&outputFormat=GeoJSON&typename=adm_statzonen_map\"\n",
    "adm_statzonen_map = gpd.read_file(geojson_url_statzonen)\n",
    "\n",
    "adm_statzonen_map.head(2)\n"
   ]
  },
  {
   "cell_type": "markdown",
   "metadata": {},
   "source": [
    "#### Statistische Quartiere"
   ]
  },
  {
   "cell_type": "code",
   "execution_count": 46,
   "metadata": {},
   "outputs": [
    {
     "data": {
      "text/html": [
       "<div>\n",
       "<style scoped>\n",
       "    .dataframe tbody tr th:only-of-type {\n",
       "        vertical-align: middle;\n",
       "    }\n",
       "\n",
       "    .dataframe tbody tr th {\n",
       "        vertical-align: top;\n",
       "    }\n",
       "\n",
       "    .dataframe thead th {\n",
       "        text-align: right;\n",
       "    }\n",
       "</style>\n",
       "<table border=\"1\" class=\"dataframe\">\n",
       "  <thead>\n",
       "    <tr style=\"text-align: right;\">\n",
       "      <th></th>\n",
       "      <th>id</th>\n",
       "      <th>kname</th>\n",
       "      <th>knr</th>\n",
       "      <th>objectid</th>\n",
       "      <th>objid</th>\n",
       "      <th>qname</th>\n",
       "      <th>qnr</th>\n",
       "      <th>geometry</th>\n",
       "    </tr>\n",
       "  </thead>\n",
       "  <tbody>\n",
       "    <tr>\n",
       "      <th>0</th>\n",
       "      <td>adm_statistische_quartiere_map.1</td>\n",
       "      <td>Kreis 7</td>\n",
       "      <td>7</td>\n",
       "      <td>1</td>\n",
       "      <td>34</td>\n",
       "      <td>Hirslanden</td>\n",
       "      <td>73</td>\n",
       "      <td>POLYGON ((8.55670 47.36406, 8.55682 47.36410, ...</td>\n",
       "    </tr>\n",
       "    <tr>\n",
       "      <th>1</th>\n",
       "      <td>adm_statistische_quartiere_map.2</td>\n",
       "      <td>Kreis 8</td>\n",
       "      <td>8</td>\n",
       "      <td>2</td>\n",
       "      <td>33</td>\n",
       "      <td>Weinegg</td>\n",
       "      <td>83</td>\n",
       "      <td>POLYGON ((8.55670 47.36405, 8.55672 47.36403, ...</td>\n",
       "    </tr>\n",
       "  </tbody>\n",
       "</table>\n",
       "</div>"
      ],
      "text/plain": [
       "                                 id    kname  knr  objectid objid       qname  qnr  \\\n",
       "0  adm_statistische_quartiere_map.1  Kreis 7    7         1    34  Hirslanden   73   \n",
       "1  adm_statistische_quartiere_map.2  Kreis 8    8         2    33     Weinegg   83   \n",
       "\n",
       "                                            geometry  \n",
       "0  POLYGON ((8.55670 47.36406, 8.55682 47.36410, ...  \n",
       "1  POLYGON ((8.55670 47.36405, 8.55672 47.36403, ...  "
      ]
     },
     "execution_count": 46,
     "metadata": {},
     "output_type": "execute_result"
    }
   ],
   "source": [
    "geojson_url_quartiere = \"https://www.ogd.stadt-zuerich.ch/wfs/geoportal/Statistische_Quartiere?service=WFS&version=1.1.0&request=GetFeature&outputFormat=GeoJSON&typename=adm_statistische_quartiere_map\"\n",
    "df_adm_statistische_quartiere_map = gpd.read_file(geojson_url_quartiere)\n",
    "\n",
    "df_adm_statistische_quartiere_map.head(2)\n"
   ]
  },
  {
   "cell_type": "markdown",
   "metadata": {},
   "source": [
    "### Teste LeafMap\n",
    "\n",
    "Mehr Infos: https://leafmap.org/leafmap/"
   ]
  },
  {
   "cell_type": "code",
   "execution_count": 47,
   "metadata": {},
   "outputs": [
    {
     "data": {
      "application/vnd.jupyter.widget-view+json": {
       "model_id": "f938c7f52f8449db8cdedb6d94263d72",
       "version_major": 2,
       "version_minor": 0
      },
      "text/plain": [
       "Map(center=[20, 0], controls=(ZoomControl(options=['position', 'zoom_in_text', 'zoom_in_title', 'zoom_out_text…"
      ]
     },
     "metadata": {},
     "output_type": "display_data"
    }
   ],
   "source": [
    "m = leafmap.Map()\n",
    "\n",
    "\n",
    "#m.add_geojson(geojson_url_kreise, layer_name=\"adm_stadtkreise_v\", fill_colors=['red', 'yellow', 'green', 'orange'], info_mode=True)\n",
    "m.add_gdf(df_adm_statistische_quartiere_map, layer_name='adm_statistische_quartiere_map', style={}, hover_style={}, style_callback=None, fill_colors=['black'], info_mode='on_hover', zoom_to_layer=True)\n",
    "m.add_gdf(adm_stadtkreise_v, layer_name='adm_stadtkreise_v', style={}, hover_style={}, style_callback=None, fill_colors=['none'], info_mode='on_hover', zoom_to_layer=False)\n",
    "\n",
    "m.add_legend(title='Legende', legend_dict=None, labels=None, colors=None, position='bottomright', builtin_legend=None, layer_name='adm_statistische_quartiere_map')\n",
    "m"
   ]
  },
  {
   "cell_type": "markdown",
   "metadata": {},
   "source": [
    "### Joins\n",
    "Joine die importierten statistischen Daten des aktuellen Jahres zum Geodatensatz:\n",
    "\n",
    "*Siehe dazu Doku zu [Geopandas](https://geopandas.org/docs/user_guide/mergingdata.html)*"
   ]
  },
  {
   "cell_type": "code",
   "execution_count": 38,
   "metadata": {},
   "outputs": [
    {
     "data": {
      "text/plain": [
       "Quartier_Name      object\n",
       "Quartier_Nummer     int64\n",
       "Medianqmp           int64\n",
       "Zonenart           object\n",
       "Anzahl_HAE         object\n",
       "dtype: object"
      ]
     },
     "execution_count": 38,
     "metadata": {},
     "output_type": "execute_result"
    }
   ],
   "source": [
    "data2betested.dtypes"
   ]
  },
  {
   "cell_type": "code",
   "execution_count": null,
   "metadata": {},
   "outputs": [],
   "source": [
    "myAgg = data2betested.loc[\"2021\"]  \\\n",
    "    .groupby(['QuarLang', 'QuarCd']) \\\n",
    "    .agg(sum_Whg_abgebrochen=('Whg_abgebrochen', 'sum'),sum_Whg_fertigerstellt=('Whg_fertigerstellt', 'sum')) \\\n",
    "    .sort_values('sum_Whg_abgebrochen', ascending=False) \n",
    "\n",
    "myAgg.reset_index().head(1)\n"
   ]
  },
  {
   "cell_type": "code",
   "execution_count": 40,
   "metadata": {},
   "outputs": [
    {
     "data": {
      "text/html": [
       "<div>\n",
       "<style scoped>\n",
       "    .dataframe tbody tr th:only-of-type {\n",
       "        vertical-align: middle;\n",
       "    }\n",
       "\n",
       "    .dataframe tbody tr th {\n",
       "        vertical-align: top;\n",
       "    }\n",
       "\n",
       "    .dataframe thead th {\n",
       "        text-align: right;\n",
       "    }\n",
       "</style>\n",
       "<table border=\"1\" class=\"dataframe\">\n",
       "  <thead>\n",
       "    <tr style=\"text-align: right;\">\n",
       "      <th></th>\n",
       "      <th>geometry</th>\n",
       "      <th>QuarCd</th>\n",
       "      <th>qname</th>\n",
       "      <th>knr</th>\n",
       "    </tr>\n",
       "  </thead>\n",
       "  <tbody>\n",
       "    <tr>\n",
       "      <th>0</th>\n",
       "      <td>POLYGON ((8.55670 47.36406, 8.55682 47.36410, ...</td>\n",
       "      <td>73</td>\n",
       "      <td>Hirslanden</td>\n",
       "      <td>7</td>\n",
       "    </tr>\n",
       "  </tbody>\n",
       "</table>\n",
       "</div>"
      ],
      "text/plain": [
       "                                            geometry  QuarCd       qname  knr\n",
       "0  POLYGON ((8.55670 47.36406, 8.55682 47.36410, ...      73  Hirslanden    7"
      ]
     },
     "execution_count": 40,
     "metadata": {},
     "output_type": "execute_result"
    }
   ],
   "source": [
    "# Rename attribute stznr to StatZoneSort, so the IDs have the same name\n",
    "gdf_adm_statistische_quartiere_map = df_adm_statistische_quartiere_map[['geometry', 'qnr', 'qname', 'knr']].rename(columns={'qnr': 'QuarCd'})\n",
    "gdf_adm_statistische_quartiere_map.head(1)"
   ]
  },
  {
   "cell_type": "code",
   "execution_count": null,
   "metadata": {},
   "outputs": [],
   "source": [
    "# Merge with `merge` method on shared variable (stznr und StatZoneSort):\n",
    "gdf_adm_statistische_quartiere_map_joined = gdf_adm_statistische_quartiere_map.merge(myAgg, on='QuarCd')\n",
    "gdf_adm_statistische_quartiere_map_joined.head(2)"
   ]
  },
  {
   "cell_type": "code",
   "execution_count": null,
   "metadata": {},
   "outputs": [],
   "source": [
    "# Plot by StatQuartiere\n",
    "# Weitere Schemes: scheme='quantiles', scheme='fisherjenks', scheme='natural_breaks',\n",
    "\n",
    "gdf_adm_statistische_quartiere_map_joined.plot(column='sum_Whg_fertigerstellt', cmap='viridis', scheme='natural_breaks', legend=True )\n",
    "gdf_adm_statistische_quartiere_map_joined.plot(column='sum_Whg_abgebrochen', cmap='viridis', scheme='natural_breaks', legend=True )\n",
    "\n",
    "#gdf_adm_statistische_quartiere_map_joined.plot(column='sum_Whg_abgebrochen', cmap='plasma', scheme='fisherjenks', legend=True )\n",
    "#gdf_adm_statistische_quartiere_map_joined.plot(column='sum_Whg_fertigerstellt', cmap='cool', scheme='quantiles', legend=True )\n",
    "#scheme werte: https://matplotlib.org/2.0.2/users/colormaps.html\n",
    "\n",
    "#\n",
    "#Neuere Gallerie: https://matplotlib.org/stable/gallery/index.html"
   ]
  },
  {
   "cell_type": "code",
   "execution_count": null,
   "metadata": {},
   "outputs": [],
   "source": [
    "fig, ax = plt.subplots(1, 1)\n",
    "\n",
    "gdf_adm_statistische_quartiere_map_joined.plot(column='sum_Whg_abgebrochen', ax=ax, legend=True, legend_kwds={'label': \"Anzahl abgebrochene Wohnungen 2021\",'orientation': \"horizontal\"})\n",
    "gdf_adm_statistische_quartiere_map_joined.plot(column='sum_Whg_fertigerstellt', ax=ax, legend=False, legend_kwds={'label': \"Anzahl fertigerstellte Wohnungen 2021\",'orientation': \"horizontal\"})\n",
    "\n",
    "#gdf_adm_statistische_quartiere_map_joined.plot(column='sum_Whg_abgebrochen', cmap='viridis', scheme='natural_breaks', legend=True , ax=ax, legend_kwds={'label': \"Anzahl Personen\",'orientation': \"horizontal\"})"
   ]
  },
  {
   "cell_type": "markdown",
   "metadata": {},
   "source": [
    "Noch zu prüfen, folgendes schöne Beispiel: https://docs.bokeh.org/en/latest/docs/user_guide/interaction/legends.html\n",
    "\n",
    "Konkrete Beispiele von Bookeh in Jupyter NB: https://docs.bokeh.org/en/latest/docs/user_guide/jupyter.html"
   ]
  },
  {
   "cell_type": "markdown",
   "metadata": {},
   "source": [
    "**Sharepoint als gecheckt markieren!**"
   ]
  },
  {
   "cell_type": "markdown",
   "metadata": {},
   "source": [
    "Record auf Sharepoint: **[Link](https://kollaboration.intranet.stzh.ch/orga/ssz-produkte/Lists/SASA_Outputs/DispForm.aspx?ID=507&ContentTypeId=0x0100988EAF029F1EFE4CA675F53C32A5D53D01006DBC563E6FBE9E4EB6FDC780799752E1)**"
   ]
  },
  {
   "cell_type": "code",
   "execution_count": null,
   "metadata": {},
   "outputs": [],
   "source": []
  },
  {
   "cell_type": "raw",
   "metadata": {},
   "source": []
  },
  {
   "cell_type": "code",
   "execution_count": null,
   "metadata": {},
   "outputs": [],
   "source": []
  }
 ],
 "metadata": {
  "kernelspec": {
   "display_name": "Python 3 (ipykernel)",
   "language": "python",
   "name": "python3"
  },
  "language_info": {
   "codemirror_mode": {
    "name": "ipython",
    "version": 3
   },
   "file_extension": ".py",
   "mimetype": "text/x-python",
   "name": "python",
   "nbconvert_exporter": "python",
   "pygments_lexer": "ipython3",
   "version": "3.9.7"
  }
 },
 "nbformat": 4,
 "nbformat_minor": 4
}
